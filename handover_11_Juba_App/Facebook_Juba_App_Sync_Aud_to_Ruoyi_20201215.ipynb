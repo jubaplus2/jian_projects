{
 "cells": [
  {
   "cell_type": "code",
   "execution_count": 1,
   "metadata": {},
   "outputs": [],
   "source": [
    "import pandas as pd\n",
    "import numpy as np\n",
    "import os\n",
    "import datetime\n",
    "import time\n",
    "import json\n",
    "import requests\n",
    "from facebookads.api import FacebookAdsApi\n",
    "from facebookads.adobjects.adset import AdSet\n",
    "from facebookads.adobjects.ad import Ad\n",
    "from facebookads.adobjects.adaccount import AdAccount\n",
    "from facebookads.adobjects.adcreative import AdCreative\n",
    "from facebookads.adobjects.customaudience import CustomAudience\n",
    "from facebookads.adobjects.campaign import Campaign\n",
    "\n",
    "jian_token=json.load(open(\"/mnt/clients/juba/hqjubaapp02/sharefolder/Docs/FB_token/lasest_FB_token_jian.json\",\"r\"))['latest_FB_token']\n",
    "\n",
    "BigLotsAccount_id=\"act_271491453638620\"\n",
    "BigLotsDcart10_id=\"act_2449979771956630\"\n",
    "list_all_fb_account_ids=[BigLotsAccount_id,BigLotsDcart10_id]\n",
    "APP_ID='1954772121206438'\n",
    "API_VERSION = 'v8.0'\n",
    "folder_archieved_list=\"/mnt/clients/juba/hqjubaapp02/sharefolder/Docs/Audience_uploading_scripts/Facebook/Audience_name_list_On_App/archived_audience_list/\"\n",
    "latest_json_list=\"/mnt/clients/juba/hqjubaapp02/sharefolder/Docs/Audience_uploading_scripts/Facebook/Audience_name_list_On_App/latest_update.json\"\n",
    "latest_category_mapping=\"/mnt/clients/juba/hqjubaapp02/sharefolder/Docs/Audience_uploading_scripts/Facebook/Audience_name_list_On_App/latest_category_mapping.json\"\n",
    "FacebookAdsApi.init(access_token=jian_token, api_version=API_VERSION)\n",
    "\n",
    "folder_csv_output=\"/mnt/clients/juba/hqjubaapp02/sharefolder/Docs/Audience_uploading_scripts/Facebook/Audience_name_list_On_App/output_csv_files/\""
   ]
  },
  {
   "cell_type": "code",
   "execution_count": 2,
   "metadata": {},
   "outputs": [],
   "source": [
    "# Due to the new audience names needed to be updated, making no sense to run both account together\n",
    "# unless all new audience are totaly duplicated with each other\n",
    "# For now, run seperately\n",
    "\n",
    "dict_updated_json_config={}\n",
    "dict_previous_json_config=json.load(open(latest_json_list,'r'))\n",
    "def func_fetch_df_names(bl_fb_acctount_id):\n",
    "    myAccount = AdAccount(BigLotsAccount_id)\n",
    "    custom_audiences = myAccount.get_custom_audiences(fields=['name'])\n",
    "    df = pd.DataFrame(custom_audiences)\n",
    "    return df"
   ]
  },
  {
   "cell_type": "code",
   "execution_count": 3,
   "metadata": {},
   "outputs": [],
   "source": [
    "dict_previous_json_config[BigLotsDcart10_id]=dict_previous_json_config[BigLotsAccount_id]"
   ]
  },
  {
   "cell_type": "code",
   "execution_count": 4,
   "metadata": {},
   "outputs": [],
   "source": [
    "# dict_previous_json_config=json.load(open(latest_json_list,'r'))\n",
    "for i in list_all_fb_account_ids:\n",
    "    dict_previous_json_config[i].update({'date_archived_on':str(datetime.datetime.now().date())})"
   ]
  },
  {
   "cell_type": "markdown",
   "metadata": {},
   "source": [
    "# BigLotsAccount_id=\"act_271491453638620\""
   ]
  },
  {
   "cell_type": "code",
   "execution_count": 5,
   "metadata": {},
   "outputs": [],
   "source": [
    "# 1: BigLotsAccount_id=\"act_271491453638620\"\n",
    "previous_list=dict_previous_json_config[BigLotsAccount_id]['aud_list']\n",
    "previous_list.sort()\n",
    "\n",
    "df=func_fetch_df_names(BigLotsAccount_id)\n"
   ]
  },
  {
   "cell_type": "code",
   "execution_count": 6,
   "metadata": {},
   "outputs": [
    {
     "data": {
      "text/html": [
       "<div>\n",
       "<style scoped>\n",
       "    .dataframe tbody tr th:only-of-type {\n",
       "        vertical-align: middle;\n",
       "    }\n",
       "\n",
       "    .dataframe tbody tr th {\n",
       "        vertical-align: top;\n",
       "    }\n",
       "\n",
       "    .dataframe thead th {\n",
       "        text-align: right;\n",
       "    }\n",
       "</style>\n",
       "<table border=\"1\" class=\"dataframe\">\n",
       "  <thead>\n",
       "    <tr style=\"text-align: right;\">\n",
       "      <th></th>\n",
       "      <th>id</th>\n",
       "      <th>name</th>\n",
       "    </tr>\n",
       "  </thead>\n",
       "  <tbody>\n",
       "    <tr>\n",
       "      <th>0</th>\n",
       "      <td>23846130655090265</td>\n",
       "      <td>aud_12162020_PYD_Active_MS_Hashed_20201215020409</td>\n",
       "    </tr>\n",
       "    <tr>\n",
       "      <th>1</th>\n",
       "      <td>23846093341540265</td>\n",
       "      <td>AgilOne_121120 Weekly Core Rewards FB</td>\n",
       "    </tr>\n",
       "    <tr>\n",
       "      <th>2</th>\n",
       "      <td>23846093340280265</td>\n",
       "      <td>AgilOne_121120 Weekly Furniture Rewards FB</td>\n",
       "    </tr>\n",
       "  </tbody>\n",
       "</table>\n",
       "</div>"
      ],
      "text/plain": [
       "                  id                                              name\n",
       "0  23846130655090265  aud_12162020_PYD_Active_MS_Hashed_20201215020409\n",
       "1  23846093341540265             AgilOne_121120 Weekly Core Rewards FB\n",
       "2  23846093340280265        AgilOne_121120 Weekly Furniture Rewards FB"
      ]
     },
     "execution_count": 6,
     "metadata": {},
     "output_type": "execute_result"
    }
   ],
   "source": [
    "df.head(3)"
   ]
  },
  {
   "cell_type": "code",
   "execution_count": 7,
   "metadata": {},
   "outputs": [
    {
     "data": {
      "text/plain": [
       "['BL_Mobile_20200616-20200715_Non-furniture Specific Competitors_Exposed_20200727',\n",
       " 'BL_Mobile_20200616-20200715_Vicinity_Exposed_20200727',\n",
       " 'BL_Mobile_20200616-20200715_Visitors_Exposed_20200727',\n",
       " 'BL_Mobile_20200616-20200715_Vulnerable Competitors_Exposed_20200727',\n",
       " 'Lookalike (US, 1%) - Big Lots - US (90 days) Store Visit - MS',\n",
       " 'Lookalike (US, 1%) - Store Visits - 90 days',\n",
       " 'Lookalike (US, 1%) - T_Christmas_360_Active',\n",
       " 'Lookalike (US, 1%) - T_Christmas_360_Lapsed',\n",
       " 'Lookalike (US, 1%) - T_Seasonal362363_Active',\n",
       " 'Lookalike (US, 1%) - T_Seasonal362363_Lapsed',\n",
       " 'Lookalike (US, 5%) - Offline Purchasers last 90 days',\n",
       " 'Lookalike (US, 5%) - Purchase Pixel - 180 Days',\n",
       " 'Lookalike (US, 8%) - Offline Purchasers last 90 days',\n",
       " 'Lookalike (US, 8%) - Purchase Pixel - 180 Days',\n",
       " 'Sign_Up_No_Purchase_7_to_21_Days_Test_NEW',\n",
       " 'T_Christmas_360_Active',\n",
       " 'T_Christmas_360_Lapsed',\n",
       " 'T_Seasonal362363_Active',\n",
       " 'T_Seasonal362363_Lapsed',\n",
       " 'Website Visitors - Past 180 Days',\n",
       " 'aud_10-12 Month About to Lapse MS A_20201102075436',\n",
       " 'aud_10-12 Month About to Lapse MS B_20201102075837',\n",
       " 'aud_12162020_PYD_Active_MS_Hashed_20201215020409',\n",
       " 'aud_13-18 Month Lapsed MS A_20201102073523',\n",
       " 'aud_13-18 Month Lapsed MS B_20201102073920',\n",
       " 'aud_Online Signup MS A_20201102074635',\n",
       " 'aud_Online Signup MS B_20201102074942',\n",
       " 'aud_T_Legacy_Active0X_H',\n",
       " 'aud_T_Legacy_Active0X_L',\n",
       " 'aud_T_Legacy_Active0X_M',\n",
       " 'aud_T_Legacy_ActiveX12_L',\n",
       " 'aud_T_Legacy_ActiveX12_M',\n",
       " 'aud_T_Legacy_Lapsed1318_L',\n",
       " 'aud_T_Legacy_Lapsed1924_Unknown',\n",
       " 'aud_T_Legacy_Lapsed2530_Unknown',\n",
       " 'aud_T_SOTF_Active0X_H',\n",
       " 'aud_T_SOTF_Active0X_L',\n",
       " 'aud_T_SOTF_Active0X_M',\n",
       " 'aud_T_SOTF_ActiveX12_L',\n",
       " 'aud_T_SOTF_ActiveX12_M',\n",
       " 'aud_T_SOTF_Lapsed1318_L',\n",
       " 'aud_T_SOTF_Lapsed1924_Unknown',\n",
       " 'aud_T_SOTF_Lapsed2530_Unknown',\n",
       " 'aud_T_SignUpNoPurchase_2_12']"
      ]
     },
     "execution_count": 7,
     "metadata": {},
     "output_type": "execute_result"
    }
   ],
   "source": [
    "previous_list.sort()\n",
    "previous_list"
   ]
  },
  {
   "cell_type": "code",
   "execution_count": 8,
   "metadata": {},
   "outputs": [
    {
     "data": {
      "text/plain": [
       "[]"
      ]
     },
     "execution_count": 8,
     "metadata": {},
     "output_type": "execute_result"
    }
   ],
   "source": [
    "list_to_remove=[]\n",
    "#\n",
    "list_to_remove_1=[x for x in previous_list if \"T_aud_21_goal_\" in x]\n",
    "list_to_remove.extend(list_to_remove_1)\n",
    "#\n",
    "list_to_remove_2=[x for x in previous_list if \"2020Q3\" in x]\n",
    "list_to_remove.extend(list_to_remove_2)\n",
    "list_to_remove"
   ]
  },
  {
   "cell_type": "code",
   "execution_count": 9,
   "metadata": {},
   "outputs": [],
   "source": [
    "for i in list_to_remove:\n",
    "    try:\n",
    "        previous_list.remove(i)\n",
    "        print(\"%s removed from previous_list\"%i)\n",
    "    except:\n",
    "        print(\"%s not in previous_list\"%i)\n",
    "        pass\n",
    "    "
   ]
  },
  {
   "cell_type": "code",
   "execution_count": 10,
   "metadata": {},
   "outputs": [],
   "source": [
    "list_all_aud=df['name'].tolist()"
   ]
  },
  {
   "cell_type": "code",
   "execution_count": 11,
   "metadata": {},
   "outputs": [
    {
     "name": "stdout",
     "output_type": "stream",
     "text": [
      "['aud_12162020_PYD_Active_MS_Hashed_20201215020409']\n"
     ]
    }
   ],
   "source": [
    "list_new_names=[x for x in list_all_aud if \"12162020_PYD_Active_MS_Hashed_20201215020409\" in x] # give the pattern and do filter\n",
    "\n",
    "list_new_names.sort()\n",
    "\n",
    "print(list_new_names)\n"
   ]
  },
  {
   "cell_type": "code",
   "execution_count": 12,
   "metadata": {},
   "outputs": [
    {
     "name": "stdout",
     "output_type": "stream",
     "text": [
      "1\n"
     ]
    }
   ],
   "source": [
    "print(len(list_new_names))"
   ]
  },
  {
   "cell_type": "code",
   "execution_count": 13,
   "metadata": {},
   "outputs": [
    {
     "data": {
      "text/plain": [
       "(44, 44)"
      ]
     },
     "execution_count": 13,
     "metadata": {},
     "output_type": "execute_result"
    }
   ],
   "source": [
    "list_updated=list(set(previous_list+list_new_names))\n",
    "dict_account_1_updated={BigLotsAccount_id:{'date_update_on':str(datetime.datetime.now().date()),'aud_list':list_updated}}\n",
    "df=df[df['name'].isin(list_updated)]\n",
    "len(list_updated),len(df.index)"
   ]
  },
  {
   "cell_type": "code",
   "execution_count": 14,
   "metadata": {},
   "outputs": [],
   "source": [
    "# Function here and the rename below is hard-coded, so the 2 accounts are done in differnt cells not in loop\n",
    "\n",
    "# list_n contain the audience names on the FB UI\n",
    "# names_n (dict_n.keys()) is the new names on the Juba App (can contain 1 to many FB audience based on request)\n",
    "\n",
    "def func_categorize_aud(df_FB_aud_id_name):\n",
    "    list_names=df_FB_aud_id_name['name'].tolist()\n",
    "    df_FB_aud_id_name=df_FB_aud_id_name.rename(columns={\"name\":\"orgname\"})\n",
    "    dict_overall={}\n",
    "    \n",
    "    # 0 new \n",
    "    list_0_new_org=[x for x in list_names if 'aud_T_' in x]\n",
    "    list_0_new_renamed=[\"2020Q4_Rewards_\"+x for x in list_0_new_org]    \n",
    "    dict_0=dict(zip(list_0_new_org,list_0_new_renamed))\n",
    "    dict_overall.update(dict_0)\n",
    "    \n",
    "    # 1 LAL -- requested from Spencer for Seasonal audience look alike will be updated later\n",
    "    list_1=[x for x in list_names if 'Lookalike' in x]\n",
    "    dict_1=dict(zip(list_1,['LAL']*len(list_1)))\n",
    "    dict_overall.update(dict_1)\n",
    "    \n",
    "    # 2 Mobile Visitors\n",
    "    list_2=[x for x in list_names if 'Mobile' in x and 'Visitors' in x]\n",
    "    dict_2=dict(zip(list_2,['Mobile Visitors']*len(list_2)))\n",
    "    dict_overall.update(dict_2)\n",
    "    \n",
    "    # 3 Mobile Vicinity\n",
    "    list_3=[x for x in list_names if 'Mobile' in x and 'Vicinity' in x]\n",
    "    dict_3=dict(zip(list_3,['Mobile Vicinity']*len(list_3)))\n",
    "    \n",
    "    # 4 Mobile Non-furniture Specific Competitors\n",
    "    list_4=[x for x in list_names if 'Mobile' in x and 'Non-furniture Specific Competitors' in x]\n",
    "    dict_4=dict(zip(list_4,['Mobile Non-furniture Specific Competitors']*len(list_4)))    \n",
    "    \n",
    "    # 5 Mobile Vulnerable Competitors\n",
    "    list_5=[x for x in list_names if 'Mobile' in x and 'Vulnerable Competitors' in x]\n",
    "    dict_5=dict(zip(list_5,['Mobile Vulnerable Competitors']*len(list_5)))\n",
    "    \n",
    "    # 6 Retargeting\n",
    "    list_6=[x for x in list_names if 'Website Visitors' in x]\n",
    "    dict_6=dict(zip(list_6,['Retargeting']*len(list_6)))\n",
    "    \n",
    "    # 7 SOTF_NA_Rewards_Lapsed1318_NA\n",
    "    list_7=[x for x in list_names if 'SOTF' in x and 'Lapsed1318' in x]\n",
    "    list_7=[x for x in list_7 if x not in list_0_new_org]\n",
    "    dict_7=dict(zip(list_7,['SOTF_NA_Rewards_Lapsed1318_NA']*len(list_7)))\n",
    "    \n",
    "    # 8 SOTF_NA_Rewards_Active012_NA\n",
    "    list_8=[x for x in list_names if 'SOTF' in x and 'Active' in x]\n",
    "    list_8=[x for x in list_8 if x not in list_0_new_org]\n",
    "    dict_8=dict(zip(list_8,['SOTF_NA_Rewards_Active012_NA']*len(list_8)))\n",
    "    \n",
    "    # 9 SOTF_NA_Rewards_Lapsed1948_NA\n",
    "    list_9=[x for x in list_names if 'SOTF' in x and 'Lapsed1948' in x]\n",
    "    list_9=[x for x in list_9 if x not in list_0_new_org]\n",
    "    dict_9=dict(zip(list_9,['SOTF_NA_Rewards_Lapsed1948_NA']*len(list_9)))\n",
    "    \n",
    "    # 10 Legacy_NA_Rewards_Lapsed1318_NA\n",
    "    list_10=[x for x in list_names if 'Legacy' in x and 'Lapsed1318' in x]\n",
    "    list_10=[x for x in list_10 if x not in list_0_new_org]\n",
    "    dict_10=dict(zip(list_10,['Legacy_NA_Rewards_Lapsed1318_NA']*len(list_10)))\n",
    "     \n",
    "    # 11 Legacy_NA_Rewards_Active012_NA\n",
    "    list_11=[x for x in list_names if 'Legacy' in x and 'Active' in x]\n",
    "    list_11=[x for x in list_11 if x not in list_0_new_org]\n",
    "    dict_11=dict(zip(list_11,['Legacy_NA_Rewards_Active012_NA']*len(list_11)))\n",
    "    \n",
    "    # 12 Legacy_NA_Rewards_Lapsed1948_NA\n",
    "    list_12=[x for x in list_names if 'Legacy' in x and 'Lapsed1948' in x]\n",
    "    list_12=[x for x in list_12 if x not in list_0_new_org]\n",
    "    dict_12=dict(zip(list_12,['Legacy_NA_Rewards_Lapsed1948_NA']*len(list_12)))\n",
    "    \n",
    "    # 13 Aud_21mm_Goal_Signed_No_Purchase\n",
    "    list_13=[x for x in list_names if x=='T_aud_21_goal_1_new_sign_up_no_purchase_0_11_months']\n",
    "    dict_13=dict(zip(list_13,['Aud_Rewards_21mm_Goal_Signed_No_Purchase']*len(list_13)))\n",
    "    \n",
    "    # 14 Aud_21mm_Goal_X_to_12\n",
    "    list_14=[x for x in list_names if x=='T_aud_21_goal_2_X_to_12']\n",
    "    dict_14=dict(zip(list_14,['Aud_Rewards_21mm_Goal_X_to_12']*len(list_14)))\n",
    "    \n",
    "    # 15 Aud_21mm_Goal_13_to_18\n",
    "    list_15=[x for x in list_names if x=='T_aud_21_goal_3_13_to_18']\n",
    "    dict_15=dict(zip(list_15,['Aud_Rewards_21mm_Goal_13_to_18']*len(list_15)))\n",
    "    \n",
    "    # 16 Aud_21mm_Goal_19_to_24\n",
    "    list_16=[x for x in list_names if x=='T_aud_21_goal_4_19_to_24']\n",
    "    dict_16=dict(zip(list_16,['Aud_Rewards_21mm_Goal_19_to_24']*len(list_16)))\n",
    "    \n",
    "    # 17 T_aud_21_goal_5_25_to_30\n",
    "    list_17=[x for x in list_names if x=='T_aud_21_goal_5_25_to_30']\n",
    "    dict_17=dict(zip(list_17,['Aud_Rewards_21mm_Goal_25_to_30']*len(list_17)))\n",
    "    \n",
    "    # 18 T_Christmas_360_Active\n",
    "    list_18=[x for x in list_names if x=='T_Christmas_360_Active']\n",
    "    dict_18=dict(zip(list_18,['T_Rewards_Christmas_360_Active']*len(list_18)))\n",
    "    \n",
    "    # 19 T_Christmas_360_Lapsed\n",
    "    list_19=[x for x in list_names if x=='T_Christmas_360_Lapsed']\n",
    "    dict_19=dict(zip(list_19,['T_Rewards_Christmas_360_Lapsed']*len(list_19)))\n",
    "    \n",
    "    # 20 T_Seasonal362363_Active\n",
    "    list_20=[x for x in list_names if x=='T_Seasonal362363_Active']\n",
    "    dict_20=dict(zip(list_20,['T_Rewards_Seasonal362363_Active']*len(list_20)))\n",
    "    \n",
    "    # 21 T_Seasonal362363_Lapsed\n",
    "    list_21=[x for x in list_names if x=='T_Seasonal362363_Lapsed']\n",
    "    dict_21=dict(zip(list_21,['T_Rewards_Seasonal362363_Lapsed']*len(list_21)))\n",
    "    \n",
    "    # 22 Sign_Up_No_Purchase_7_to_21_Days_Test_NEW\n",
    "    list_22=[x for x in list_names if x=='Sign_Up_No_Purchase_7_to_21_Days_Test_NEW']\n",
    "    dict_22=dict(zip(list_22,['Sign_Up_No_Purchase_Rewards_7_to_21_Days_Test_NEW']*len(list_22)))\n",
    "    \n",
    "    # 22 Sign_Up_No_Purchase_7_to_21_Days_Test_NEW\n",
    "    list_22=[x for x in list_names if x in ['Sign_Up_No_Purchase_7_to_21_Days_Test_NEW']]\n",
    "    dict_22=dict(zip(list_22,['Sign_Up_No_Purchase_Rewards_7_to_21_Days_Test_NEW']*len(list_22)))\n",
    "    \n",
    "    # 23 4 sets of look alike seasonals\n",
    "    list_23=[x for x in list_names if x in ['Lookalike (US, 1%) - T_Christmas_360_Active','Lookalike (US, 1%) - T_Christmas_360_Lapsed',\n",
    "                                           'Lookalike (US, 1%) - T_Seasonal362363_Active','Lookalike (US, 1%) - T_Seasonal362363_Lapsed']]\n",
    "    dict_23=dict(zip(list_23,list_23))\n",
    "    \n",
    "    # 24 10 off 20 \n",
    "    list_24=[x for x in list_names if \"20201102\" in x]\n",
    "    names_24=[\"aud_Rewards_10_off_20_\"+x.split(\"_\")[1] for x in list_24]\n",
    "    dict_24=dict(zip(list_24,names_24))\n",
    "    \n",
    "    # 25 2020Q4 PYD December audience\n",
    "    list_25=[x for x in list_names if \"aud_12162020_PYD_Active_MS_Hashed_20201215020409\" in x]\n",
    "    names_25=[\"PYD_2020Q4_December_Audience\"]\n",
    "    dict_25=dict(zip(list_25,names_25))\n",
    "\n",
    "    \n",
    "    for i in range(-1,25):\n",
    "        k=i+1\n",
    "        dict_overall.update(locals()['dict_%i'%k])\n",
    "    \n",
    "    # check \n",
    "    list_already_allocated=list(dict_overall.keys())\n",
    "    if len(list_already_allocated)==df_FB_aud_id_name.shape[0]:\n",
    "        print('all values of the old name are assigned new categories')\n",
    "        df_FB_aud_id_name['name']=df_FB_aud_id_name['orgname'].apply(lambda x: dict_overall[x])\n",
    "        return df_FB_aud_id_name,[]\n",
    "    elif len(list_already_allocated)<df_FB_aud_id_name.shape[0]:\n",
    "        list_names_missing=[x for x in list_names if x not in list(dict_overall.keys())]\n",
    "        print(\"list of names not allocated, renaming as itself: \\n %s\"%str(list_names_missing))\n",
    "        df_FB_aud_id_name['name']=df_FB_aud_id_name['orgname'].apply(lambda x: dict_overall[x] if x in dict_overall.keys() else x)\n",
    "        return df_FB_aud_id_name,list_names_missing\n",
    "    else:\n",
    "        raise ValueError(\"function allocated results dont match, go to check the missing or overlap\")"
   ]
  },
  {
   "cell_type": "code",
   "execution_count": 16,
   "metadata": {},
   "outputs": [
    {
     "name": "stdout",
     "output_type": "stream",
     "text": [
      "45\n"
     ]
    }
   ],
   "source": [
    "# Add in the new App audience into the categories\n",
    "\n",
    "dict_categories={'Prospecting 1':['Interests','Shoppers2','Competitive','Life Stage','Women2554withkids',\n",
    "                                'Big Heros','Mobile Vulnerable Competitors','Mobile Visitors',\n",
    "                                'Mobile Vicinity','Mobile Non-furniture Specific Competitors'],\n",
    "                'Prospecting 2':['LAL','Retargeting','Lookalike (US, 1%) - T_Christmas_360_Active','Lookalike (US, 1%) - T_Christmas_360_Lapsed',\n",
    "                                 'Lookalike (US, 1%) - T_Seasonal362363_Active','Lookalike (US, 1%) - T_Seasonal362363_Lapsed'],\n",
    "                'SOTF CRM':['T_Rewards_Seasonal362363_Lapsed','T_Rewards_Seasonal362363_Active','T_Rewards_Christmas_360_Lapsed',\n",
    "                            'T_Rewards_Christmas_360_Active',\n",
    "                            'Sign_Up_No_Purchase_Rewards_7_to_21_Days_Test_NEW',\n",
    "                            '2020Q4_Rewards_aud_T_SignUpNoPurchase_2_12', '2020Q4_Rewards_aud_T_SOTF_Lapsed2530_Unknown', '2020Q4_Rewards_aud_T_SOTF_Lapsed1924_Unknown', \n",
    "                            '2020Q4_Rewards_aud_T_SOTF_Lapsed1318_L', '2020Q4_Rewards_aud_T_SOTF_ActiveX12_M', '2020Q4_Rewards_aud_T_SOTF_ActiveX12_L', \n",
    "                            '2020Q4_Rewards_aud_T_SOTF_Active0X_M', '2020Q4_Rewards_aud_T_SOTF_Active0X_L', '2020Q4_Rewards_aud_T_SOTF_Active0X_H',\n",
    "                            'aud_Rewards_10_off_20_Online Signup MS B',\n",
    "                            'aud_Rewards_10_off_20_Online Signup MS A',\n",
    "                            'aud_Rewards_10_off_20_13-18 Month Lapsed MS B',\n",
    "                            'aud_Rewards_10_off_20_13-18 Month Lapsed MS A',\n",
    "                            'aud_Rewards_10_off_20_10-12 Month About to Lapse MS B',\n",
    "                            'aud_Rewards_10_off_20_10-12 Month About to Lapse MS A',\n",
    "                            'PYD_2020Q4_December_Audience'\n",
    "                           ],\n",
    "                'LEGACY CRM':['T_Rewards_Seasonal362363_Lapsed','T_Rewards_Seasonal362363_Active','T_Rewards_Christmas_360_Lapsed',\n",
    "                              'T_Rewards_Christmas_360_Active',\n",
    "                              'Sign_Up_No_Purchase_Rewards_7_to_21_Days_Test_NEW',\n",
    "                              '2020Q4_Rewards_aud_T_SignUpNoPurchase_2_12',\n",
    "                              '2020Q4_Rewards_aud_T_Legacy_Lapsed2530_Unknown', '2020Q4_Rewards_aud_T_Legacy_Lapsed1924_Unknown', '2020Q4_Rewards_aud_T_Legacy_Lapsed1318_L', \n",
    "                              '2020Q4_Rewards_aud_T_Legacy_ActiveX12_M', '2020Q4_Rewards_aud_T_Legacy_ActiveX12_L', '2020Q4_Rewards_aud_T_Legacy_Active0X_M', \n",
    "                              '2020Q4_Rewards_aud_T_Legacy_Active0X_L', '2020Q4_Rewards_aud_T_Legacy_Active0X_H',\n",
    "                              'aud_Rewards_10_off_20_Online Signup MS B',\n",
    "                              'aud_Rewards_10_off_20_Online Signup MS A',\n",
    "                              'aud_Rewards_10_off_20_13-18 Month Lapsed MS B',\n",
    "                              'aud_Rewards_10_off_20_13-18 Month Lapsed MS A',\n",
    "                              'aud_Rewards_10_off_20_10-12 Month About to Lapse MS B',\n",
    "                              'aud_Rewards_10_off_20_10-12 Month About to Lapse MS A',\n",
    "                              'PYD_2020Q4_December_Audience'\n",
    "                             ]}\n",
    "\n",
    "l_qc=[]\n",
    "for v in dict_categories.values():\n",
    "    l_qc+=v\n",
    "print(len(set(l_qc)))"
   ]
  },
  {
   "cell_type": "code",
   "execution_count": 17,
   "metadata": {},
   "outputs": [
    {
     "name": "stdout",
     "output_type": "stream",
     "text": [
      "all values of the old name are assigned new categories\n"
     ]
    }
   ],
   "source": [
    "df, list_staysame_yet=func_categorize_aud(df)"
   ]
  },
  {
   "cell_type": "code",
   "execution_count": 18,
   "metadata": {},
   "outputs": [
    {
     "name": "stdout",
     "output_type": "stream",
     "text": [
      "(44, 3) (57, 4)\n"
     ]
    }
   ],
   "source": [
    "df_output_to_SQL=pd.DataFrame()\n",
    "for i, row in df.iterrows():\n",
    "    aud_app_name=row['name']\n",
    "    aud_FB_original_name=row['orgname']\n",
    "    aud_FB_id=row['id']\n",
    "    \n",
    "    list_cat=[]\n",
    "    for key, value in dict_categories.items():\n",
    "        if aud_app_name in value:\n",
    "            list_cat.append(key)\n",
    "    df_new=pd.DataFrame({\"id\":[aud_FB_id]*len(list_cat),\n",
    "                         \"orgname\":[aud_FB_original_name]*len(list_cat),\n",
    "                         \"name\":[aud_app_name]*len(list_cat),\n",
    "                         \"catagory\":list_cat,\n",
    "                        },index=range(len(list_cat)))\n",
    "    df_output_to_SQL=df_output_to_SQL.append(df_new)\n",
    "            \n",
    "print(df.shape,df_output_to_SQL.shape)"
   ]
  },
  {
   "cell_type": "code",
   "execution_count": 21,
   "metadata": {},
   "outputs": [],
   "source": [
    "df_output_to_SQL.to_csv(folder_csv_output+\"camap_%s.csv\"%BigLotsAccount_id.split('_')[1],index=False)"
   ]
  },
  {
   "cell_type": "code",
   "execution_count": 22,
   "metadata": {},
   "outputs": [
    {
     "data": {
      "text/html": [
       "<div>\n",
       "<style scoped>\n",
       "    .dataframe tbody tr th:only-of-type {\n",
       "        vertical-align: middle;\n",
       "    }\n",
       "\n",
       "    .dataframe tbody tr th {\n",
       "        vertical-align: top;\n",
       "    }\n",
       "\n",
       "    .dataframe thead th {\n",
       "        text-align: right;\n",
       "    }\n",
       "</style>\n",
       "<table border=\"1\" class=\"dataframe\">\n",
       "  <thead>\n",
       "    <tr style=\"text-align: right;\">\n",
       "      <th></th>\n",
       "      <th>id</th>\n",
       "      <th>orgname</th>\n",
       "      <th>name</th>\n",
       "      <th>catagory</th>\n",
       "    </tr>\n",
       "  </thead>\n",
       "  <tbody>\n",
       "    <tr>\n",
       "      <th>0</th>\n",
       "      <td>23846130655090265</td>\n",
       "      <td>aud_12162020_PYD_Active_MS_Hashed_20201215020409</td>\n",
       "      <td>PYD_2020Q4_December_Audience</td>\n",
       "      <td>SOTF CRM</td>\n",
       "    </tr>\n",
       "    <tr>\n",
       "      <th>1</th>\n",
       "      <td>23846130655090265</td>\n",
       "      <td>aud_12162020_PYD_Active_MS_Hashed_20201215020409</td>\n",
       "      <td>PYD_2020Q4_December_Audience</td>\n",
       "      <td>LEGACY CRM</td>\n",
       "    </tr>\n",
       "  </tbody>\n",
       "</table>\n",
       "</div>"
      ],
      "text/plain": [
       "                  id                                           orgname  \\\n",
       "0  23846130655090265  aud_12162020_PYD_Active_MS_Hashed_20201215020409   \n",
       "1  23846130655090265  aud_12162020_PYD_Active_MS_Hashed_20201215020409   \n",
       "\n",
       "                           name    catagory  \n",
       "0  PYD_2020Q4_December_Audience    SOTF CRM  \n",
       "1  PYD_2020Q4_December_Audience  LEGACY CRM  "
      ]
     },
     "execution_count": 22,
     "metadata": {},
     "output_type": "execute_result"
    }
   ],
   "source": [
    "# QC\n",
    "df_output_to_SQL[df_output_to_SQL['name']==\"PYD_2020Q4_December_Audience\"]"
   ]
  },
  {
   "cell_type": "markdown",
   "metadata": {},
   "source": [
    "# BigLotsDcart10_id=\"act_2449979771956630\""
   ]
  },
  {
   "cell_type": "code",
   "execution_count": 23,
   "metadata": {},
   "outputs": [],
   "source": [
    "# 2 BigLotsDcart10_id=\"act_2449979771956630\"\n",
    "\n",
    "previous_list=dict_previous_json_config[BigLotsDcart10_id]['aud_list']\n",
    "\n",
    "df=func_fetch_df_names(BigLotsDcart10_id)\n"
   ]
  },
  {
   "cell_type": "code",
   "execution_count": 24,
   "metadata": {},
   "outputs": [
    {
     "data": {
      "text/plain": [
       "[]"
      ]
     },
     "execution_count": 24,
     "metadata": {},
     "output_type": "execute_result"
    }
   ],
   "source": [
    "list_to_remove=[]\n",
    "#\n",
    "list_to_remove_1=[x for x in previous_list if \"T_aud_21_goal_\" in x]\n",
    "list_to_remove.extend(list_to_remove_1)\n",
    "#\n",
    "list_to_remove_2=[x for x in previous_list if \"2020Q3\" in x]\n",
    "list_to_remove.extend(list_to_remove_2)\n",
    "list_to_remove"
   ]
  },
  {
   "cell_type": "code",
   "execution_count": 25,
   "metadata": {},
   "outputs": [],
   "source": [
    "for i in list_to_remove:\n",
    "    try:\n",
    "        previous_list.remove(i)\n",
    "        print(\"%s removed from previous_list\"%i)\n",
    "    except:\n",
    "        print(\"%s not in previous_list\"%i)\n",
    "        pass\n",
    "    "
   ]
  },
  {
   "cell_type": "code",
   "execution_count": 26,
   "metadata": {},
   "outputs": [
    {
     "name": "stdout",
     "output_type": "stream",
     "text": [
      "['aud_12162020_PYD_Active_MS_Hashed_20201215020409']\n"
     ]
    }
   ],
   "source": [
    "# list_new_names=[x for x in df['name'].tolist() if \"aud_T_\" in x]\n",
    "# list_new_names=[x for x in list_new_names if \"control\" not in x.lower()]\n",
    "# list_new_names.sort()\n",
    "\n",
    "\n",
    "# Just apply the same new list above, because they should be the same\n",
    "print(list_new_names)"
   ]
  },
  {
   "cell_type": "code",
   "execution_count": 27,
   "metadata": {},
   "outputs": [
    {
     "data": {
      "text/plain": [
       "(44, 44)"
      ]
     },
     "execution_count": 27,
     "metadata": {},
     "output_type": "execute_result"
    }
   ],
   "source": [
    "list_updated=list(set(previous_list+list_new_names))\n",
    "dict_account_2_updated={BigLotsDcart10_id:{'date_update_on':str(datetime.datetime.now().date()),'aud_list':list_updated}}\n",
    "df=df[df['name'].isin(list_updated)]\n",
    "len(list_updated),len(df.index)"
   ]
  },
  {
   "cell_type": "code",
   "execution_count": 28,
   "metadata": {},
   "outputs": [],
   "source": [
    "# apply func_categorize_aud above"
   ]
  },
  {
   "cell_type": "code",
   "execution_count": 29,
   "metadata": {},
   "outputs": [
    {
     "name": "stdout",
     "output_type": "stream",
     "text": [
      "all values of the old name are assigned new categories\n"
     ]
    }
   ],
   "source": [
    "df, list_staysame_yet=func_categorize_aud(df)"
   ]
  },
  {
   "cell_type": "code",
   "execution_count": 31,
   "metadata": {},
   "outputs": [],
   "source": [
    "df_output_to_SQL.to_csv(folder_csv_output+\"camap_%s.csv\"%BigLotsDcart10_id.split('_')[1],index=False)"
   ]
  },
  {
   "cell_type": "code",
   "execution_count": 33,
   "metadata": {},
   "outputs": [
    {
     "data": {
      "text/html": [
       "<div>\n",
       "<style scoped>\n",
       "    .dataframe tbody tr th:only-of-type {\n",
       "        vertical-align: middle;\n",
       "    }\n",
       "\n",
       "    .dataframe tbody tr th {\n",
       "        vertical-align: top;\n",
       "    }\n",
       "\n",
       "    .dataframe thead th {\n",
       "        text-align: right;\n",
       "    }\n",
       "</style>\n",
       "<table border=\"1\" class=\"dataframe\">\n",
       "  <thead>\n",
       "    <tr style=\"text-align: right;\">\n",
       "      <th></th>\n",
       "      <th>id</th>\n",
       "      <th>orgname</th>\n",
       "      <th>name</th>\n",
       "      <th>catagory</th>\n",
       "    </tr>\n",
       "  </thead>\n",
       "  <tbody>\n",
       "    <tr>\n",
       "      <th>0</th>\n",
       "      <td>23846130655090265</td>\n",
       "      <td>aud_12162020_PYD_Active_MS_Hashed_20201215020409</td>\n",
       "      <td>PYD_2020Q4_December_Audience</td>\n",
       "      <td>SOTF CRM</td>\n",
       "    </tr>\n",
       "    <tr>\n",
       "      <th>1</th>\n",
       "      <td>23846130655090265</td>\n",
       "      <td>aud_12162020_PYD_Active_MS_Hashed_20201215020409</td>\n",
       "      <td>PYD_2020Q4_December_Audience</td>\n",
       "      <td>LEGACY CRM</td>\n",
       "    </tr>\n",
       "  </tbody>\n",
       "</table>\n",
       "</div>"
      ],
      "text/plain": [
       "                  id                                           orgname  \\\n",
       "0  23846130655090265  aud_12162020_PYD_Active_MS_Hashed_20201215020409   \n",
       "1  23846130655090265  aud_12162020_PYD_Active_MS_Hashed_20201215020409   \n",
       "\n",
       "                           name    catagory  \n",
       "0  PYD_2020Q4_December_Audience    SOTF CRM  \n",
       "1  PYD_2020Q4_December_Audience  LEGACY CRM  "
      ]
     },
     "execution_count": 33,
     "metadata": {},
     "output_type": "execute_result"
    }
   ],
   "source": [
    "df_output_to_SQL[df_output_to_SQL['name']==\"PYD_2020Q4_December_Audience\"]"
   ]
  },
  {
   "cell_type": "code",
   "execution_count": 35,
   "metadata": {},
   "outputs": [
    {
     "data": {
      "text/plain": [
       "1"
      ]
     },
     "execution_count": 35,
     "metadata": {},
     "output_type": "execute_result"
    }
   ],
   "source": [
    "len(dict_account_1_updated)"
   ]
  },
  {
   "cell_type": "code",
   "execution_count": 36,
   "metadata": {},
   "outputs": [],
   "source": [
    "dict_updated_json_config.update(dict_account_1_updated)\n",
    "dict_updated_json_config.update(dict_account_2_updated)\n",
    "\n",
    "with open(folder_archieved_list+\"archived_on_%s.json\"%str(datetime.datetime.now().date()),'w') as outfile:\n",
    "    json.dump(dict_previous_json_config,outfile)\n",
    "\n",
    "with open(latest_json_list,'w') as outfile:\n",
    "    json.dump(dict_updated_json_config,outfile)\n",
    "    "
   ]
  },
  {
   "cell_type": "code",
   "execution_count": 37,
   "metadata": {},
   "outputs": [
    {
     "name": "stdout",
     "output_type": "stream",
     "text": [
      "(57, 4)\n",
      "(57, 4)\n",
      "(39, 1)\n"
     ]
    }
   ],
   "source": [
    "# Right Category of the targeting\n",
    "df_audience_category=pd.read_csv(folder_csv_output+\"camap_%s.csv\"%BigLotsDcart10_id.split('_')[1],dtype=str)\n",
    "df=pd.read_csv(folder_csv_output+\"camap_%s.csv\"%BigLotsAccount_id.split('_')[1],dtype=str)\n",
    "print(df_audience_category.shape)\n",
    "df_audience_category=df_audience_category.append(df).drop_duplicates()\n",
    "print(df_audience_category.shape)\n",
    "df_audience_category=df_audience_category[['name']].drop_duplicates()\n",
    "print(df_audience_category.shape)\n"
   ]
  },
  {
   "cell_type": "code",
   "execution_count": 38,
   "metadata": {},
   "outputs": [
    {
     "name": "stdout",
     "output_type": "stream",
     "text": [
      "['PYD_2020Q4_December_Audience', 'aud_Rewards_10_off_20_Online Signup MS B', 'aud_Rewards_10_off_20_Online Signup MS A', 'aud_Rewards_10_off_20_13-18 Month Lapsed MS B', 'aud_Rewards_10_off_20_13-18 Month Lapsed MS A', 'aud_Rewards_10_off_20_10-12 Month About to Lapse MS B', 'aud_Rewards_10_off_20_10-12 Month About to Lapse MS A', '2020Q4_Rewards_aud_T_SignUpNoPurchase_2_12', '2020Q4_Rewards_aud_T_SOTF_Lapsed2530_Unknown', '2020Q4_Rewards_aud_T_SOTF_Lapsed1924_Unknown', '2020Q4_Rewards_aud_T_SOTF_Lapsed1318_L', '2020Q4_Rewards_aud_T_SOTF_ActiveX12_M', '2020Q4_Rewards_aud_T_SOTF_ActiveX12_L', '2020Q4_Rewards_aud_T_SOTF_Active0X_M', '2020Q4_Rewards_aud_T_SOTF_Active0X_L', '2020Q4_Rewards_aud_T_SOTF_Active0X_H', '2020Q4_Rewards_aud_T_Legacy_Lapsed2530_Unknown', '2020Q4_Rewards_aud_T_Legacy_Lapsed1924_Unknown', '2020Q4_Rewards_aud_T_Legacy_Lapsed1318_L', '2020Q4_Rewards_aud_T_Legacy_ActiveX12_M', '2020Q4_Rewards_aud_T_Legacy_ActiveX12_L', '2020Q4_Rewards_aud_T_Legacy_Active0X_M', '2020Q4_Rewards_aud_T_Legacy_Active0X_L', '2020Q4_Rewards_aud_T_Legacy_Active0X_H', 'Lookalike (US, 1%) - T_Christmas_360_Active', 'Lookalike (US, 1%) - T_Christmas_360_Lapsed', 'Lookalike (US, 1%) - T_Seasonal362363_Active', 'Lookalike (US, 1%) - T_Seasonal362363_Lapsed', 'T_Rewards_Seasonal362363_Lapsed', 'T_Rewards_Seasonal362363_Active', 'T_Rewards_Christmas_360_Lapsed', 'T_Rewards_Christmas_360_Active', 'Sign_Up_No_Purchase_Rewards_7_to_21_Days_Test_NEW', 'Mobile Vulnerable Competitors', 'Mobile Visitors', 'Mobile Vicinity', 'Mobile Non-furniture Specific Competitors', 'LAL', 'Retargeting']\n"
     ]
    }
   ],
   "source": [
    "print(df_audience_category['name'].tolist())"
   ]
  },
  {
   "cell_type": "code",
   "execution_count": 39,
   "metadata": {},
   "outputs": [
    {
     "data": {
      "text/plain": [
       "['Interests',\n",
       " 'Shoppers2',\n",
       " 'Competitive',\n",
       " 'Life Stage',\n",
       " 'Women2554withkids',\n",
       " 'Big Heros']"
      ]
     },
     "execution_count": 39,
     "metadata": {},
     "output_type": "execute_result"
    }
   ],
   "source": [
    "[x for x in l_qc if x not in df_output_to_SQL['name'].tolist()]\n",
    "\n",
    "# Some audience categorized by Spencer, and confirmed with her on Dec 15, 2020 that it can be ignored on our side"
   ]
  },
  {
   "cell_type": "code",
   "execution_count": 40,
   "metadata": {},
   "outputs": [
    {
     "data": {
      "text/plain": [
       "('Aud_Rewards_21mm_Goal_13_to_18',\n",
       " 'Aud_Rewards_21mm_Goal_X_to_12',\n",
       " 'Aud_Rewards_21mm_Goal_Signed_No_Purchase')"
      ]
     },
     "execution_count": 40,
     "metadata": {},
     "output_type": "execute_result"
    }
   ],
   "source": [
    "# 1 record in the jupyter cell of deleted audience\n",
    "\n",
    "# removed from 'SOTF CRM'\n",
    "'SOTF_NA_Rewards_Active012_NA','SOTF_NA_Rewards_Lapsed1318_NA','SOTF_NA_Rewards_Lapsed1948_NA',\n",
    "'aud_BL_2020Q3_PYD_Oct_Rewards_SUNP12','aud_BL_2020Q3_PYD_Oct_Rewards_Lapsed1324','aud_BL_2020Q3_PYD_Oct_Rewards_Act12_B',\n",
    "'aud_BL_2020Q3_PYD_Oct_Rewards_Act12_A3','aud_BL_2020Q3_PYD_Oct_Rewards_Act12_A2','aud_BL_2020Q3_PYD_Oct_Rewards_Act12_A1',\n",
    "'Aud_Rewards_21mm_Goal_25_to_30','Aud_Rewards_21mm_Goal_19_to_24',\n",
    "'Aud_Rewards_21mm_Goal_13_to_18','Aud_Rewards_21mm_Goal_X_to_12','Aud_Rewards_21mm_Goal_Signed_No_Purchase',"
   ]
  },
  {
   "cell_type": "code",
   "execution_count": 41,
   "metadata": {},
   "outputs": [
    {
     "data": {
      "text/plain": [
       "('Aud_Rewards_21mm_Goal_13_to_18',\n",
       " 'Aud_Rewards_21mm_Goal_X_to_12',\n",
       " 'Aud_Rewards_21mm_Goal_Signed_No_Purchase')"
      ]
     },
     "execution_count": 41,
     "metadata": {},
     "output_type": "execute_result"
    }
   ],
   "source": [
    "# 1 record in the jupyter cell of deleted audience\n",
    "\n",
    "# removed from 'LEGACY CRM'\n",
    "'Legacy_NA_Rewards_Active012_NA','Legacy_NA_Rewards_Lapsed1318_NA','Legacy_NA_Rewards_Lapsed1948_NA',\n",
    "'aud_BL_2020Q3_PYD_Oct_Rewards_SUNP12','aud_BL_2020Q3_PYD_Oct_Rewards_Lapsed1324','aud_BL_2020Q3_PYD_Oct_Rewards_Act12_B',\n",
    "'aud_BL_2020Q3_PYD_Oct_Rewards_Act12_A3','aud_BL_2020Q3_PYD_Oct_Rewards_Act12_A2','aud_BL_2020Q3_PYD_Oct_Rewards_Act12_A1',\n",
    "'Aud_Rewards_21mm_Goal_25_to_30','Aud_Rewards_21mm_Goal_19_to_24',\n",
    "'Aud_Rewards_21mm_Goal_13_to_18','Aud_Rewards_21mm_Goal_X_to_12','Aud_Rewards_21mm_Goal_Signed_No_Purchase',"
   ]
  },
  {
   "cell_type": "code",
   "execution_count": 42,
   "metadata": {},
   "outputs": [
    {
     "data": {
      "text/plain": [
       "[]"
      ]
     },
     "execution_count": 42,
     "metadata": {},
     "output_type": "execute_result"
    }
   ],
   "source": [
    "a=df_audience_category['name'].tolist()\n",
    "[x for x in a if x not in l_qc]"
   ]
  },
  {
   "cell_type": "code",
   "execution_count": 43,
   "metadata": {},
   "outputs": [
    {
     "data": {
      "text/plain": [
       "'/mnt/clients/juba/hqjubaapp02/sharefolder/Docs/Audience_uploading_scripts/Facebook/Audience_name_list_On_App/latest_category_mapping.json'"
      ]
     },
     "execution_count": 43,
     "metadata": {},
     "output_type": "execute_result"
    }
   ],
   "source": [
    "latest_category_mapping"
   ]
  },
  {
   "cell_type": "code",
   "execution_count": 44,
   "metadata": {},
   "outputs": [],
   "source": [
    "with open(latest_category_mapping,'w') as outfile:\n",
    "    json.dump(dict_categories,outfile)\n",
    "    "
   ]
  },
  {
   "cell_type": "code",
   "execution_count": null,
   "metadata": {},
   "outputs": [],
   "source": []
  },
  {
   "cell_type": "code",
   "execution_count": 45,
   "metadata": {},
   "outputs": [],
   "source": [
    "###update exclude\n",
    "\n",
    "# The function in the app is an account level suppresion, so no need to frequently update here\n",
    "# Ask Spencer if need to run below"
   ]
  },
  {
   "cell_type": "code",
   "execution_count": 30,
   "metadata": {},
   "outputs": [],
   "source": [
    "previous_list=dict_previous_json_config[BigLotsAccount_id]['aud_list']\n",
    "\n",
    "df=func_fetch_df_names(BigLotsAccount_id)\n",
    "df_control = df[df['name'].isin([\"all_BL_rewards_members_email\",\n",
    "                          \"Control_2020Q3_segment\",\n",
    "                          \"CCPA_suppression\",\n",
    "                          'Seasonal_control_overall',\n",
    "                          'aud_21_goal_control_overal',\n",
    "                          'Sign_Up_No_Purchase_7_to_21_Days_Control_NEW'])]\n"
   ]
  },
  {
   "cell_type": "code",
   "execution_count": 31,
   "metadata": {},
   "outputs": [],
   "source": [
    "dict_control={'CCPA_suppression':'control1',\n",
    "             'Control_2020Q3_segment':'control1',\n",
    "             'all_BL_rewards_members_email':'control2',\n",
    "             'Seasonal_control_overall':'control3_seasonal',\n",
    "             'aud_21_goal_control_overal':'control4_21mm',\n",
    "             'Sign_Up_No_Purchase_7_to_21_Days_Control_NEW':'control5_new7_21'}"
   ]
  },
  {
   "cell_type": "code",
   "execution_count": 33,
   "metadata": {},
   "outputs": [
    {
     "name": "stderr",
     "output_type": "stream",
     "text": [
      "/home/jian/.local/lib/python3.6/site-packages/ipykernel_launcher.py:1: SettingWithCopyWarning: \n",
      "A value is trying to be set on a copy of a slice from a DataFrame.\n",
      "Try using .loc[row_indexer,col_indexer] = value instead\n",
      "\n",
      "See the caveats in the documentation: http://pandas.pydata.org/pandas-docs/stable/user_guide/indexing.html#returning-a-view-versus-a-copy\n",
      "  \"\"\"Entry point for launching an IPython kernel.\n",
      "/home/jian/.local/lib/python3.6/site-packages/ipykernel_launcher.py:2: SettingWithCopyWarning: \n",
      "A value is trying to be set on a copy of a slice from a DataFrame.\n",
      "Try using .loc[row_indexer,col_indexer] = value instead\n",
      "\n",
      "See the caveats in the documentation: http://pandas.pydata.org/pandas-docs/stable/user_guide/indexing.html#returning-a-view-versus-a-copy\n",
      "  \n"
     ]
    },
    {
     "data": {
      "text/html": [
       "<div>\n",
       "<style scoped>\n",
       "    .dataframe tbody tr th:only-of-type {\n",
       "        vertical-align: middle;\n",
       "    }\n",
       "\n",
       "    .dataframe tbody tr th {\n",
       "        vertical-align: top;\n",
       "    }\n",
       "\n",
       "    .dataframe thead th {\n",
       "        text-align: right;\n",
       "    }\n",
       "</style>\n",
       "<table border=\"1\" class=\"dataframe\">\n",
       "  <thead>\n",
       "    <tr style=\"text-align: right;\">\n",
       "      <th></th>\n",
       "      <th>id</th>\n",
       "      <th>name</th>\n",
       "      <th>orgname</th>\n",
       "    </tr>\n",
       "  </thead>\n",
       "  <tbody>\n",
       "    <tr>\n",
       "      <th>5</th>\n",
       "      <td>23845432420230265</td>\n",
       "      <td>control3_seasonal</td>\n",
       "      <td>Seasonal_control_overall</td>\n",
       "    </tr>\n",
       "    <tr>\n",
       "      <th>6</th>\n",
       "      <td>23845430128380265</td>\n",
       "      <td>control4_21mm</td>\n",
       "      <td>aud_21_goal_control_overal</td>\n",
       "    </tr>\n",
       "    <tr>\n",
       "      <th>24</th>\n",
       "      <td>23845393338810265</td>\n",
       "      <td>control5_new7_21</td>\n",
       "      <td>Sign_Up_No_Purchase_7_to_21_Days_Control_NEW</td>\n",
       "    </tr>\n",
       "    <tr>\n",
       "      <th>86</th>\n",
       "      <td>23844984551590265</td>\n",
       "      <td>control1</td>\n",
       "      <td>Control_2020Q3_segment</td>\n",
       "    </tr>\n",
       "    <tr>\n",
       "      <th>206</th>\n",
       "      <td>23844601952190265</td>\n",
       "      <td>control1</td>\n",
       "      <td>CCPA_suppression</td>\n",
       "    </tr>\n",
       "    <tr>\n",
       "      <th>559</th>\n",
       "      <td>23844525980280265</td>\n",
       "      <td>control2</td>\n",
       "      <td>all_BL_rewards_members_email</td>\n",
       "    </tr>\n",
       "  </tbody>\n",
       "</table>\n",
       "</div>"
      ],
      "text/plain": [
       "                    id               name  \\\n",
       "5    23845432420230265  control3_seasonal   \n",
       "6    23845430128380265      control4_21mm   \n",
       "24   23845393338810265   control5_new7_21   \n",
       "86   23844984551590265           control1   \n",
       "206  23844601952190265           control1   \n",
       "559  23844525980280265           control2   \n",
       "\n",
       "                                          orgname  \n",
       "5                        Seasonal_control_overall  \n",
       "6                      aud_21_goal_control_overal  \n",
       "24   Sign_Up_No_Purchase_7_to_21_Days_Control_NEW  \n",
       "86                         Control_2020Q3_segment  \n",
       "206                              CCPA_suppression  \n",
       "559                  all_BL_rewards_members_email  "
      ]
     },
     "execution_count": 33,
     "metadata": {},
     "output_type": "execute_result"
    }
   ],
   "source": [
    "df_control['orgname'] = df_control['name']\n",
    "df_control['name'] = df_control['orgname'].apply(lambda x: dict_control[x])\n",
    "df_control"
   ]
  },
  {
   "cell_type": "code",
   "execution_count": 37,
   "metadata": {},
   "outputs": [],
   "source": [
    "df_control.to_csv(folder_csv_output+\"remove_\"+BigLotsAccount_id.split('_')[1]+'.csv',index = False)\n",
    "df_control.to_csv(folder_csv_output+\"remove_\"+BigLotsDcart10_id.split('_')[1]+'.csv',index = False)"
   ]
  },
  {
   "cell_type": "code",
   "execution_count": 28,
   "metadata": {},
   "outputs": [
    {
     "data": {
      "text/plain": [
       "{'T_Christmax_360_Lapsed': 'T_Christmas_360_Lapsed',\n",
       " 'T_Christmax_360_Active': 'T_Christmas_360_Active',\n",
       " 'T_Seasonalall_3_Active': 'T_Seasonal362363_Active',\n",
       " 'T_Seasonalall_3_Lapsed': 'T_Seasonal362363_Lapsed'}"
      ]
     },
     "execution_count": 28,
     "metadata": {},
     "output_type": "execute_result"
    }
   ],
   "source": [
    "a=['T_Christmax_360_Lapsed','T_Christmax_360_Active','T_Seasonalall_3_Active','T_Seasonalall_3_Lapsed']\n",
    "b=['T_Christmas_360_Lapsed','T_Christmas_360_Active','T_Seasonal362363_Active','T_Seasonal362363_Lapsed']\n",
    "to_ruoyi=dict(zip(a,b))\n",
    "to_ruoyi"
   ]
  },
  {
   "cell_type": "code",
   "execution_count": null,
   "metadata": {},
   "outputs": [],
   "source": []
  },
  {
   "cell_type": "code",
   "execution_count": null,
   "metadata": {},
   "outputs": [],
   "source": []
  }
 ],
 "metadata": {
  "kernelspec": {
   "display_name": "Python 3",
   "language": "python",
   "name": "python3"
  },
  "language_info": {
   "codemirror_mode": {
    "name": "ipython",
    "version": 3
   },
   "file_extension": ".py",
   "mimetype": "text/x-python",
   "name": "python",
   "nbconvert_exporter": "python",
   "pygments_lexer": "ipython3",
   "version": "3.7.6"
  }
 },
 "nbformat": 4,
 "nbformat_minor": 4
}
