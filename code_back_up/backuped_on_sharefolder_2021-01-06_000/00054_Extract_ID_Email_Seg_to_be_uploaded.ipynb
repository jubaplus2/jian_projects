{
 "cells": [
  {
   "cell_type": "code",
   "execution_count": 1,
   "metadata": {},
   "outputs": [
    {
     "data": {
      "text/plain": [
       "'/home/jian/Projects/Big_Lots/Live_Ramp/Mapping_Files/2018_Q4'"
      ]
     },
     "execution_count": 1,
     "metadata": {},
     "output_type": "execute_result"
    }
   ],
   "source": [
    "# Uploaded to mapping_files folder under lr-big-lots accounts\n",
    "import pandas as pd\n",
    "import numpy as np\n",
    "import datetime\n",
    "import os\n",
    "import gc\n",
    "import glob\n",
    "os.getcwd()"
   ]
  },
  {
   "cell_type": "code",
   "execution_count": 2,
   "metadata": {
    "collapsed": true
   },
   "outputs": [],
   "source": [
    "def recursive_file_gen(my_root_dir):\n",
    "    for root, dirs, files in os.walk(my_root_dir):\n",
    "        for file in files:\n",
    "            yield os.path.join(root, file)"
   ]
  },
  {
   "cell_type": "code",
   "execution_count": 3,
   "metadata": {},
   "outputs": [
    {
     "data": {
      "text/plain": [
       "7"
      ]
     },
     "execution_count": 3,
     "metadata": {},
     "output_type": "execute_result"
    }
   ],
   "source": [
    "returned_df_1=pd.read_table(\"/home/jian/Projects/Big_Lots/Live_Ramp/Mapping_Files/2018_Q4/Previous_Returned/CL_BigLots_allrewards_combined0908_20181029_171317_0000.psv.gz\",compression=\"gzip\",sep=\"|\",dtype=str)\n",
    "returned_df_2=pd.read_table(\"/home/jian/Projects/Big_Lots/Live_Ramp/Mapping_Files/2018_Q4/Previous_Returned/CL_BigLots_allrewards_combined1011_20181026_232208_0000.psv.gz\",compression=\"gzip\",sep=\"|\",dtype=str)\n",
    "\n",
    "returned_df=returned_df_1.append(returned_df_2)\n",
    "del returned_df_1\n",
    "del returned_df_2\n",
    "\n",
    "segment_previous_returned=returned_df['segment'].unique().tolist()\n",
    "\n",
    "gc.collect()"
   ]
  },
  {
   "cell_type": "code",
   "execution_count": 4,
   "metadata": {},
   "outputs": [
    {
     "data": {
      "text/plain": [
       "['/home/jian/celery/Append_to_celery_LiveRamp/monthly_update/output_2018-12-29/NewReward_2018-12-29_P.csv',\n",
       " '/home/jian/celery/Append_to_celery_LiveRamp/monthly_update/output_2018-12-29/NewReward_2018-12-29_S.csv',\n",
       " '/home/jian/celery/Append_to_celery_LiveRamp/monthly_update/output_2018-12-29/NewReward_2018-12-29_T.csv']"
      ]
     },
     "execution_count": 4,
     "metadata": {},
     "output_type": "execute_result"
    }
   ],
   "source": [
    "my_Dec_new_signed_up_folder=\"/home/jian/celery/Append_to_celery_LiveRamp/monthly_update/output_2018-12-29/\"\n",
    "my_Dec_new_signed_up_list=[x for x in list(recursive_file_gen(my_Dec_new_signed_up_folder)) if \".csv\" in x]\n",
    "my_Dec_new_signed_up_list"
   ]
  },
  {
   "cell_type": "code",
   "execution_count": 5,
   "metadata": {},
   "outputs": [
    {
     "data": {
      "text/plain": [
       "{'.csv'}"
      ]
     },
     "execution_count": 5,
     "metadata": {},
     "output_type": "execute_result"
    }
   ],
   "source": [
    "SP_all_after_0922_scoring=\"/home/jian/Projects/Big_Lots/Live_Ramp/Mapping_Files/2018_Q4/New_Segments/\"\n",
    "SP_new_score_list=list(recursive_file_gen(SP_all_after_0922_scoring))\n",
    "set([x[len(x)-4:] for x in my_Dec_new_signed_up_list])"
   ]
  },
  {
   "cell_type": "code",
   "execution_count": 6,
   "metadata": {},
   "outputs": [
    {
     "data": {
      "text/plain": [
       "3"
      ]
     },
     "execution_count": 6,
     "metadata": {},
     "output_type": "execute_result"
    }
   ],
   "source": [
    "len(my_Dec_new_signed_up_list)"
   ]
  },
  {
   "cell_type": "code",
   "execution_count": 7,
   "metadata": {},
   "outputs": [
    {
     "data": {
      "text/plain": [
       "92"
      ]
     },
     "execution_count": 7,
     "metadata": {},
     "output_type": "execute_result"
    }
   ],
   "source": [
    "len(set([os.path.basename(x) for x in SP_new_score_list]))"
   ]
  },
  {
   "cell_type": "code",
   "execution_count": 8,
   "metadata": {},
   "outputs": [
    {
     "name": "stdout",
     "output_type": "stream",
     "text": [
      "95\n",
      "95\n",
      "95\n",
      "2\n",
      "12\n",
      "Holiday_Shopper_Email_Non_Openers.csv\n",
      "Holiday_Shopper_Email_Openers.csv\n",
      "Holiday_Shopper_Full_File.csv\n",
      "Holiday_Shopper_Purchase_Active.csv\n",
      "Holiday_Shopper_Purchase_Inactive.csv\n",
      "Holiday_Shopper_Toy_Purchase.csv\n",
      "22\n",
      "32\n",
      "42\n",
      "52\n",
      "62\n",
      "72\n",
      "82\n",
      "92\n"
     ]
    }
   ],
   "source": [
    "all_file_to_be_loaded=SP_new_score_list+my_Dec_new_signed_up_list # 1229 appended\n",
    "print(len(all_file_to_be_loaded))\n",
    "print(len(set(all_file_to_be_loaded)))\n",
    "print(len(set([os.path.basename(x) for x in all_file_to_be_loaded])))\n",
    "\n",
    "\n",
    "df_all_new=pd.DataFrame()\n",
    "all_file_to_be_loaded=sorted(all_file_to_be_loaded)\n",
    "i_counter=0\n",
    "\n",
    "for file_path in all_file_to_be_loaded:\n",
    "    if os.path.basename(file_path)==\"BL_lapsed19_48.csv\":\n",
    "        pass\n",
    "    \n",
    "    elif \"Holiday_Shopper_\" in os.path.basename(file_path): # To be appended below\n",
    "        print(os.path.basename(file_path))\n",
    "        pass\n",
    "        \n",
    "    else:\n",
    "        df=pd.read_csv(file_path,dtype=str,usecols=['customer_id_hashed', 'email_address_hash', 'segment'])\n",
    "        df=df[~df['segment'].isin(segment_previous_returned)]\n",
    "        df=df.drop_duplicates('email_address_hash').drop_duplicates(\"customer_id_hashed\")\n",
    "        df_all_new=df_all_new.append(df)\n",
    "    i_counter+=1\n",
    "    if i_counter%10==2:\n",
    "        print(i_counter)\n",
    "    "
   ]
  },
  {
   "cell_type": "code",
   "execution_count": 9,
   "metadata": {},
   "outputs": [
    {
     "name": "stderr",
     "output_type": "stream",
     "text": [
      "/usr/local/lib/python3.6/site-packages/ipykernel_launcher.py:10: SettingWithCopyWarning: \n",
      "A value is trying to be set on a copy of a slice from a DataFrame.\n",
      "Try using .loc[row_indexer,col_indexer] = value instead\n",
      "\n",
      "See the caveats in the documentation: http://pandas.pydata.org/pandas-docs/stable/indexing.html#indexing-view-versus-copy\n",
      "  # Remove the CWD from sys.path while we load stuff.\n"
     ]
    }
   ],
   "source": [
    "client_holiday='/home/jian/Projects/Big_Lots/Live_Ramp/Mapping_Files/2018_Q4/New_Segments/upload_holidayshoppers/'\n",
    "client_holiday_list=glob.glob(client_holiday+\"*.csv\")\n",
    "client_holiday_df=pd.DataFrame()\n",
    "\n",
    "for file_holiday in client_holiday_list:\n",
    "    df=pd.read_csv(file_holiday,dtype=str,usecols=['customer_id_hashed', 'email_address_hash'])\n",
    "    client_holiday_df=client_holiday_df.append(df)\n",
    "    \n",
    "client_holiday_df_dedup=client_holiday_df.drop_duplicates('email_address_hash')\n",
    "client_holiday_df_dedup['segment']=\"Client_Holiday_Dedup\""
   ]
  },
  {
   "cell_type": "code",
   "execution_count": 10,
   "metadata": {},
   "outputs": [],
   "source": [
    "df_all_new=df_all_new.append(client_holiday_df_dedup)\n",
    "\n"
   ]
  },
  {
   "cell_type": "code",
   "execution_count": 11,
   "metadata": {},
   "outputs": [
    {
     "name": "stdout",
     "output_type": "stream",
     "text": [
      "(25051779, 3)\n",
      "23024095\n"
     ]
    }
   ],
   "source": [
    "print(df_all_new.shape)\n",
    "print(len(df_all_new['email_address_hash'].unique()))"
   ]
  },
  {
   "cell_type": "code",
   "execution_count": 12,
   "metadata": {},
   "outputs": [
    {
     "name": "stdout",
     "output_type": "stream",
     "text": [
      "1983373\n",
      "1873387\n",
      "(26925166, 3)\n",
      "23875578\n"
     ]
    }
   ],
   "source": [
    "lapsed_raw=pd.read_table(\"/home/jian/Projects/Big_Lots/Loyal_members/loyalty_register_data/MediaStorm_Lapsed_Reward_Member_Master_from2014-08-26to2017-02-26.zip\"\n",
    "                         ,nrows=None,sep=\"|\",dtype=str,usecols=['customer_id_hashed','email_address_hash'])\n",
    "lapsed_raw['segment']=\"Lapsed_20140826_20170226\"\n",
    "print(len(lapsed_raw.index))\n",
    "lapsed_raw=lapsed_raw.drop_duplicates(['email_address_hash'])\n",
    "print(len(lapsed_raw.index))\n",
    "\n",
    "df_all_new=df_all_new.append(lapsed_raw)\n",
    "\n",
    "print(df_all_new.shape)\n",
    "print(len(df_all_new['email_address_hash'].unique()))"
   ]
  },
  {
   "cell_type": "code",
   "execution_count": 13,
   "metadata": {},
   "outputs": [
    {
     "name": "stdout",
     "output_type": "stream",
     "text": [
      "(26925166, 3)\n",
      "23875578\n"
     ]
    }
   ],
   "source": [
    "df_all_new=df_all_new[~df_all_new['segment'].isin(segment_previous_returned)]\n",
    "df_all_new=df_all_new.drop_duplicates()\n",
    "print(df_all_new.shape)\n",
    "print(len(df_all_new['email_address_hash'].unique()))"
   ]
  },
  {
   "cell_type": "code",
   "execution_count": 14,
   "metadata": {
    "collapsed": true
   },
   "outputs": [],
   "source": [
    "df_all_new_mapping=df_all_new.drop_duplicates(['email_address_hash'])\n",
    "\n"
   ]
  },
  {
   "cell_type": "code",
   "execution_count": 16,
   "metadata": {},
   "outputs": [],
   "source": [
    "df_all_new_mapping.to_csv(\"/home/jian/Projects/Big_Lots/Live_Ramp/Mapping_Files/2018_Q4/BL_mapping_file_2018Q4_JL_\"+str(datetime.datetime.now().date())+\".csv\",index=False)"
   ]
  },
  {
   "cell_type": "code",
   "execution_count": 17,
   "metadata": {},
   "outputs": [
    {
     "data": {
      "text/html": [
       "<div>\n",
       "<style>\n",
       "    .dataframe thead tr:only-child th {\n",
       "        text-align: right;\n",
       "    }\n",
       "\n",
       "    .dataframe thead th {\n",
       "        text-align: left;\n",
       "    }\n",
       "\n",
       "    .dataframe tbody tr th {\n",
       "        vertical-align: top;\n",
       "    }\n",
       "</style>\n",
       "<table border=\"1\" class=\"dataframe\">\n",
       "  <thead>\n",
       "    <tr style=\"text-align: right;\">\n",
       "      <th></th>\n",
       "      <th>customer_id_hashed</th>\n",
       "      <th>email_address_hash</th>\n",
       "      <th>segment</th>\n",
       "    </tr>\n",
       "  </thead>\n",
       "  <tbody>\n",
       "    <tr>\n",
       "      <th>1983361</th>\n",
       "      <td>6129e62df2b13e21dafdfc6c22ef6d8d88dbdcc524d7f7...</td>\n",
       "      <td>f836e783f10e7203f0787ab3047910dc2c4be9d69665c8...</td>\n",
       "      <td>Lapsed_20140826_20170226</td>\n",
       "    </tr>\n",
       "    <tr>\n",
       "      <th>1983362</th>\n",
       "      <td>ab1684570a82a749823b38606cf76f5ffecabbf4e91156...</td>\n",
       "      <td>5c439077025f54555b7270e5ed8814150b69b88ecd785e...</td>\n",
       "      <td>Lapsed_20140826_20170226</td>\n",
       "    </tr>\n",
       "    <tr>\n",
       "      <th>1983363</th>\n",
       "      <td>7b0301d5306e13b274ce2281d288f65be064d6d4eb48b9...</td>\n",
       "      <td>361eb6f1c4c6be4edb1ee21dbf85a9c22c9a79f0a80445...</td>\n",
       "      <td>Lapsed_20140826_20170226</td>\n",
       "    </tr>\n",
       "    <tr>\n",
       "      <th>1983364</th>\n",
       "      <td>61c5050a2c3f480106d158849cdaf97b361ca66fba069f...</td>\n",
       "      <td>7065c3a87e08258926ad1be3ca8bf7f59c326ec895004e...</td>\n",
       "      <td>Lapsed_20140826_20170226</td>\n",
       "    </tr>\n",
       "    <tr>\n",
       "      <th>1983371</th>\n",
       "      <td>7e79e30f59d1a1f387c618b1decd7d052fe33aac6d9549...</td>\n",
       "      <td>0afb79d21359783ebd4012a20cf481067d9bb9b2307ad8...</td>\n",
       "      <td>Lapsed_20140826_20170226</td>\n",
       "    </tr>\n",
       "  </tbody>\n",
       "</table>\n",
       "</div>"
      ],
      "text/plain": [
       "                                        customer_id_hashed  \\\n",
       "1983361  6129e62df2b13e21dafdfc6c22ef6d8d88dbdcc524d7f7...   \n",
       "1983362  ab1684570a82a749823b38606cf76f5ffecabbf4e91156...   \n",
       "1983363  7b0301d5306e13b274ce2281d288f65be064d6d4eb48b9...   \n",
       "1983364  61c5050a2c3f480106d158849cdaf97b361ca66fba069f...   \n",
       "1983371  7e79e30f59d1a1f387c618b1decd7d052fe33aac6d9549...   \n",
       "\n",
       "                                        email_address_hash  \\\n",
       "1983361  f836e783f10e7203f0787ab3047910dc2c4be9d69665c8...   \n",
       "1983362  5c439077025f54555b7270e5ed8814150b69b88ecd785e...   \n",
       "1983363  361eb6f1c4c6be4edb1ee21dbf85a9c22c9a79f0a80445...   \n",
       "1983364  7065c3a87e08258926ad1be3ca8bf7f59c326ec895004e...   \n",
       "1983371  0afb79d21359783ebd4012a20cf481067d9bb9b2307ad8...   \n",
       "\n",
       "                          segment  \n",
       "1983361  Lapsed_20140826_20170226  \n",
       "1983362  Lapsed_20140826_20170226  \n",
       "1983363  Lapsed_20140826_20170226  \n",
       "1983364  Lapsed_20140826_20170226  \n",
       "1983371  Lapsed_20140826_20170226  "
      ]
     },
     "execution_count": 17,
     "metadata": {},
     "output_type": "execute_result"
    }
   ],
   "source": [
    "df_all_new_mapping.tail(5)"
   ]
  },
  {
   "cell_type": "code",
   "execution_count": null,
   "metadata": {
    "collapsed": true
   },
   "outputs": [],
   "source": []
  }
 ],
 "metadata": {
  "kernelspec": {
   "display_name": "Python 3",
   "language": "python",
   "name": "python3"
  },
  "language_info": {
   "codemirror_mode": {
    "name": "ipython",
    "version": 3
   },
   "file_extension": ".py",
   "mimetype": "text/x-python",
   "name": "python",
   "nbconvert_exporter": "python",
   "pygments_lexer": "ipython3",
   "version": "3.6.1"
  }
 },
 "nbformat": 4,
 "nbformat_minor": 2
}
