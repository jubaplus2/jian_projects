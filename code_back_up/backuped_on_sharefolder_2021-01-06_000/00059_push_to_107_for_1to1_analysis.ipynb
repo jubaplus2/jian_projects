{
 "cells": [
  {
   "cell_type": "code",
   "execution_count": 5,
   "metadata": {},
   "outputs": [
    {
     "name": "stdout",
     "output_type": "stream",
     "text": [
      "2020-06-21 22:00:49.512036\n"
     ]
    }
   ],
   "source": [
    "import pandas as pd\n",
    "import paramiko\n",
    "import datetime\n",
    "import os\n",
    "print(datetime.datetime.now())"
   ]
  },
  {
   "cell_type": "code",
   "execution_count": 6,
   "metadata": {},
   "outputs": [],
   "source": [
    "host = \"107.191.32.220\" #hard-coded\n",
    "port = 22\n",
    "transport = paramiko.Transport((host, port))\n",
    "\n",
    "password = \"juba-jl1\" #hard-coded\n",
    "username = \"jian\" #hard-coded\n",
    "transport.connect(username = username, password = password)\n",
    "sftp = paramiko.SFTPClient.from_transport(transport)"
   ]
  },
  {
   "cell_type": "code",
   "execution_count": 7,
   "metadata": {},
   "outputs": [
    {
     "data": {
      "text/plain": [
       "<SFTPAttributes: [ size=4060099035 uid=1007 gid=1009 mode=0o100644 atime=1592791298 mtime=1592791688 ]>"
      ]
     },
     "execution_count": 7,
     "metadata": {},
     "output_type": "execute_result"
    }
   ],
   "source": [
    "local_file=\"/home/jian/Projects/Big_Lots/Live_Ramp/Mapping_Files/2020_Q1/BL_2020Q1_all_segments_aggregated_duplicated_JL_2020-05-13.csv\"\n",
    "remote_folder=\"/mnt/drv5/jian/Big_Lots/BL_1_to_1_2020Q1/Aggregated_all_2020Q1_LR_segments/\"\n",
    "\n",
    "basename=os.path.basename(local_file)\n",
    "sftp.put(local_file,remote_folder+basename)"
   ]
  },
  {
   "cell_type": "code",
   "execution_count": 8,
   "metadata": {},
   "outputs": [],
   "source": [
    "sftp.close()\n",
    "transport.close()"
   ]
  },
  {
   "cell_type": "code",
   "execution_count": null,
   "metadata": {},
   "outputs": [],
   "source": []
  }
 ],
 "metadata": {
  "kernelspec": {
   "display_name": "Python 3",
   "language": "python",
   "name": "python3"
  },
  "language_info": {
   "codemirror_mode": {
    "name": "ipython",
    "version": 3
   },
   "file_extension": ".py",
   "mimetype": "text/x-python",
   "name": "python",
   "nbconvert_exporter": "python",
   "pygments_lexer": "ipython3",
   "version": "3.6.1"
  }
 },
 "nbformat": 4,
 "nbformat_minor": 2
}
