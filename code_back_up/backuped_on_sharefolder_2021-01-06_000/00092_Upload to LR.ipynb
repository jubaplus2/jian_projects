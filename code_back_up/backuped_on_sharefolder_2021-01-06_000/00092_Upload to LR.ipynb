{
 "cells": [
  {
   "cell_type": "code",
   "execution_count": 1,
   "metadata": {},
   "outputs": [
    {
     "name": "stdout",
     "output_type": "stream",
     "text": [
      "2019-06-06 11:30:30.423217\n"
     ]
    }
   ],
   "source": [
    "import pandas as pd\n",
    "import glob\n",
    "import os\n",
    "import paramiko\n",
    "import datetime\n",
    "print(datetime.datetime.now())"
   ]
  },
  {
   "cell_type": "code",
   "execution_count": 2,
   "metadata": {},
   "outputs": [
    {
     "name": "stdout",
     "output_type": "stream",
     "text": [
      "5\n"
     ]
    },
    {
     "data": {
      "text/plain": [
       "['/home/jian/Projects/Big_Lots/Analysis/2019_Q2/Planner_Requests/Past_5_quarters_new_sign_up_no_purchase/BL_new_sign_ups_in_2018_Q1_No_Trans_JL_2019-06-05.csv',\n",
       " '/home/jian/Projects/Big_Lots/Analysis/2019_Q2/Planner_Requests/Past_5_quarters_new_sign_up_no_purchase/BL_new_sign_ups_in_2018_Q2_No_Trans_JL_2019-06-05.csv',\n",
       " '/home/jian/Projects/Big_Lots/Analysis/2019_Q2/Planner_Requests/Past_5_quarters_new_sign_up_no_purchase/BL_new_sign_ups_in_2018_Q3_No_Trans_JL_2019-06-05.csv',\n",
       " '/home/jian/Projects/Big_Lots/Analysis/2019_Q2/Planner_Requests/Past_5_quarters_new_sign_up_no_purchase/BL_new_sign_ups_in_2018_Q4_No_Trans_JL_2019-06-05.csv',\n",
       " '/home/jian/Projects/Big_Lots/Analysis/2019_Q2/Planner_Requests/Past_5_quarters_new_sign_up_no_purchase/BL_new_sign_ups_in_2019_Q1_No_Trans_JL_2019-06-05.csv']"
      ]
     },
     "execution_count": 2,
     "metadata": {},
     "output_type": "execute_result"
    }
   ],
   "source": [
    "files_no_purchase_by_quarters=glob.glob(\"/home/jian/Projects/Big_Lots/Analysis/2019_Q2/Planner_Requests/Past_5_quarters_new_sign_up_no_purchase/*.csv\")\n",
    "print(len(files_no_purchase_by_quarters))\n",
    "files_no_purchase_by_quarters"
   ]
  },
  {
   "cell_type": "code",
   "execution_count": 3,
   "metadata": {
    "collapsed": true
   },
   "outputs": [],
   "source": [
    "host = \"files.liveramp.com\"\n",
    "port = 22\n",
    "password = \"Biglots2018!\"\n",
    "username = \"lr-big-lots\"\n",
    "\n",
    "transport = paramiko.Transport((host, port))\n",
    "\n",
    "transport.connect(username = username, password = password)\n",
    "sftp = paramiko.SFTPClient.from_transport(transport)"
   ]
  },
  {
   "cell_type": "code",
   "execution_count": 4,
   "metadata": {
    "collapsed": true
   },
   "outputs": [],
   "source": [
    "for local_path in files_no_purchase_by_quarters:\n",
    "    basename=os.path.basename(local_path)\n",
    "    remote_path=\"/uploads/big_lots_onboarding/\"+basename\n",
    "    sftp.put(local_path,remote_path)\n",
    "sftp.close()"
   ]
  },
  {
   "cell_type": "code",
   "execution_count": 11,
   "metadata": {},
   "outputs": [
    {
     "data": {
      "text/html": [
       "<div>\n",
       "<style>\n",
       "    .dataframe thead tr:only-child th {\n",
       "        text-align: right;\n",
       "    }\n",
       "\n",
       "    .dataframe thead th {\n",
       "        text-align: left;\n",
       "    }\n",
       "\n",
       "    .dataframe tbody tr th {\n",
       "        vertical-align: top;\n",
       "    }\n",
       "</style>\n",
       "<table border=\"1\" class=\"dataframe\">\n",
       "  <thead>\n",
       "    <tr style=\"text-align: right;\">\n",
       "      <th></th>\n",
       "      <th>customer_id_hashed</th>\n",
       "      <th>email_address_hash</th>\n",
       "      <th>customer_zip_code</th>\n",
       "      <th>segment</th>\n",
       "    </tr>\n",
       "  </thead>\n",
       "  <tbody>\n",
       "    <tr>\n",
       "      <th>0</th>\n",
       "      <td>00001eead66aa3741908f3b76a3f5d285296de73498b2e...</td>\n",
       "      <td>e823c4eec13407fda3cc65884248220a944a0d10cf9cc0...</td>\n",
       "      <td>NaN</td>\n",
       "      <td>No_Trans_signed_up_in_2018_Q3</td>\n",
       "    </tr>\n",
       "    <tr>\n",
       "      <th>1</th>\n",
       "      <td>00006cda0967b4549f51586b5d4a77f011d49fff8de961...</td>\n",
       "      <td>8a9c14b0b9b374023b32d9f1f9ae2b61639761df0d9d10...</td>\n",
       "      <td>NaN</td>\n",
       "      <td>No_Trans_signed_up_in_2018_Q3</td>\n",
       "    </tr>\n",
       "  </tbody>\n",
       "</table>\n",
       "</div>"
      ],
      "text/plain": [
       "                                  customer_id_hashed  \\\n",
       "0  00001eead66aa3741908f3b76a3f5d285296de73498b2e...   \n",
       "1  00006cda0967b4549f51586b5d4a77f011d49fff8de961...   \n",
       "\n",
       "                                  email_address_hash customer_zip_code  \\\n",
       "0  e823c4eec13407fda3cc65884248220a944a0d10cf9cc0...               NaN   \n",
       "1  8a9c14b0b9b374023b32d9f1f9ae2b61639761df0d9d10...               NaN   \n",
       "\n",
       "                         segment  \n",
       "0  No_Trans_signed_up_in_2018_Q3  \n",
       "1  No_Trans_signed_up_in_2018_Q3  "
      ]
     },
     "execution_count": 11,
     "metadata": {},
     "output_type": "execute_result"
    }
   ],
   "source": [
    "df_qc.head(2)"
   ]
  },
  {
   "cell_type": "code",
   "execution_count": null,
   "metadata": {
    "collapsed": true
   },
   "outputs": [],
   "source": []
  }
 ],
 "metadata": {
  "kernelspec": {
   "display_name": "Python 3",
   "language": "python",
   "name": "python3"
  },
  "language_info": {
   "codemirror_mode": {
    "name": "ipython",
    "version": 3
   },
   "file_extension": ".py",
   "mimetype": "text/x-python",
   "name": "python",
   "nbconvert_exporter": "python",
   "pygments_lexer": "ipython3",
   "version": "3.6.1"
  }
 },
 "nbformat": 4,
 "nbformat_minor": 2
}
