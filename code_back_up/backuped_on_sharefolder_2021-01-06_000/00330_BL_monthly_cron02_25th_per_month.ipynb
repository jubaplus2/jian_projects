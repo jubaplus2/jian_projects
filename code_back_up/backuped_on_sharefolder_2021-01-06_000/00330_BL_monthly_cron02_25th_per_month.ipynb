{
 "cells": [
  {
   "cell_type": "code",
   "execution_count": 1,
   "metadata": {},
   "outputs": [
    {
     "name": "stdout",
     "output_type": "stream",
     "text": [
      "2020-12-24 18:43:25.336574\n"
     ]
    }
   ],
   "source": [
    "# copy files from 107 agileone for the monthly email unsubscribers\n",
    "\n",
    "import pandas as pd\n",
    "import numpy as np\n",
    "import datetime\n",
    "import paramiko\n",
    "import os\n",
    "import glob\n",
    "import logging\n",
    "\n",
    "logging.basicConfig(filename='/mnt/clients/juba/hqjubaapp02/sharefolder/Automation/BigLots_crontab_on_Merkle/BL_monthly_cron02_25th_per_month.log',level=\"INFO\")\n",
    "\n",
    "def recursive_file_gen(root_path):\n",
    "    for root, dirs, files in os.walk(root_path):\n",
    "        for file in files:\n",
    "            yield os.path.join(root,file)\n",
    "\n",
    "\n",
    "print(datetime.datetime.now())"
   ]
  },
  {
   "cell_type": "markdown",
   "metadata": {},
   "source": [
    "# Email subscribers and unsubscribers"
   ]
  },
  {
   "cell_type": "code",
   "execution_count": 3,
   "metadata": {},
   "outputs": [],
   "source": [
    "# agilone: 1.email sub delta; 2.email unsub refresh\n",
    "\n",
    "remote_agile_one=\"/home/agilone/\"\n",
    "\n",
    "host = \"107.191.32.220\" #hard-coded\n",
    "port = 22\n",
    "transport = paramiko.Transport((host, port))\n",
    "\n",
    "password = \"Tur87ZqzF9xV5mYF\" #hard-coded\n",
    "username = \"agilone\" #hard-coded\n",
    "transport.connect(username = username, password = password)\n",
    "sftp = paramiko.SFTPClient.from_transport(transport)"
   ]
  },
  {
   "cell_type": "code",
   "execution_count": 4,
   "metadata": {},
   "outputs": [],
   "source": [
    "folder_move_in_remote_subscribers=\"/home/agilone/\"\n",
    "folder_movliste_in_local_subscribers=\"/mnt/clients/juba/hqjubaapp02/sharefolder/biglots_data/Email_Subscription_Files/subscribers/\"\n",
    "\n",
    "folder_move_in_remote_Unsub=\"/home/agilone/\"\n",
    "folder_move_in_local_Unsub=\"/mnt/clients/juba/hqjubaapp02/sharefolder/biglots_data/Email_Subscription_Files/Unsubs/\""
   ]
  },
  {
   "cell_type": "code",
   "execution_count": 5,
   "metadata": {},
   "outputs": [],
   "source": [
    "folder_move_in_remote_subscribers=\"/home/agilone/archived_email_subscriber_files/\"\n",
    "folder_move_in_local_subscribers=\"/mnt/clients/juba/hqjubaapp02/sharefolder/biglots_data/Email_Subscription_Files/subscribers/\"\n",
    "\n",
    "folder_move_in_remote_ubsub=\"/home/agilone/archived_email_Unsub_files/\"\n",
    "folder_move_in_local_ubsub=\"/mnt/clients/juba/hqjubaapp02/sharefolder/biglots_data/Email_Subscription_Files/Unsubs/\""
   ]
  },
  {
   "cell_type": "code",
   "execution_count": 6,
   "metadata": {},
   "outputs": [],
   "source": [
    "remote_list=sftp.listdir()"
   ]
  },
  {
   "cell_type": "code",
   "execution_count": 8,
   "metadata": {},
   "outputs": [
    {
     "name": "stdout",
     "output_type": "stream",
     "text": [
      "File Email Subscriber copied to hqjubaapp02 and moved into the subfoler: BL_Email_Subscriber_File_Delta__20201125050328.csv\n"
     ]
    }
   ],
   "source": [
    "# Subscribters delta\n",
    "remote_file_email_subscribers=[x for x in remote_list if \"BL_Email_Subscriber_File_Delta__20\" in x]\n",
    "if len(remote_file_email_subscribers)==1:\n",
    "    remote_email_subscribers_file=remote_file_email_subscribers[0]\n",
    "    basename=os.path.basename(remote_email_subscribers_file)\n",
    "    sftp.get(remote_email_subscribers_file,folder_move_in_local_subscribers+basename)\n",
    "    sftp.rename(remote_email_subscribers_file, folder_move_in_remote_subscribers+basename)\n",
    "    print(\"File Email Subscriber copied to hqjubaapp02 and moved into the subfoler: %s\"%basename)\n",
    "    \n",
    "else:\n",
    "    print(\"new Email Subscriber file length is not 1\")\n",
    "    logging.info(\"new Email Subscriber file length is not 1\")\n",
    "    "
   ]
  },
  {
   "cell_type": "code",
   "execution_count": 9,
   "metadata": {},
   "outputs": [
    {
     "name": "stdout",
     "output_type": "stream",
     "text": [
      "File Email UnSub copied to hqjubaapp02 and moved into the subfoler: BL_Email_UnSubscriber_File_Refresh__20201125050434.csv\n"
     ]
    }
   ],
   "source": [
    "# UnSubscribters delta\n",
    "remote_file_email_unsub=[x for x in remote_list if \"BL_Email_UnSubscriber_File_Refresh__20\" in x]\n",
    "if len(remote_file_email_unsub)==1:\n",
    "    remote_email_unsub_file=remote_file_email_unsub[0]\n",
    "    basename=os.path.basename(remote_email_unsub_file)\n",
    "    sftp.get(remote_email_unsub_file,folder_move_in_local_ubsub+basename)\n",
    "    sftp.rename(remote_email_unsub_file, folder_move_in_remote_ubsub+basename)\n",
    "    print(\"File Email UnSub copied to hqjubaapp02 and moved into the subfoler: %s\"%basename)\n",
    "    \n",
    "else:\n",
    "    print(\"new Email UnSub file length is not 1\")\n",
    "    logging.info(\"new Email UnSub file length is not 1\")\n",
    "    "
   ]
  },
  {
   "cell_type": "code",
   "execution_count": null,
   "metadata": {},
   "outputs": [],
   "source": []
  }
 ],
 "metadata": {
  "kernelspec": {
   "display_name": "Python 3",
   "language": "python",
   "name": "python3"
  },
  "language_info": {
   "codemirror_mode": {
    "name": "ipython",
    "version": 3
   },
   "file_extension": ".py",
   "mimetype": "text/x-python",
   "name": "python",
   "nbconvert_exporter": "python",
   "pygments_lexer": "ipython3",
   "version": "3.7.6"
  }
 },
 "nbformat": 4,
 "nbformat_minor": 4
}
