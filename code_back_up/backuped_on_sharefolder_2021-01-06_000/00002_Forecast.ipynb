{
 "cells": [
  {
   "cell_type": "code",
   "execution_count": 1,
   "metadata": {
    "collapsed": true
   },
   "outputs": [],
   "source": [
    "import json\n",
    "import pandas as pd\n",
    "import os\n",
    "import glob\n",
    "import codecs\n",
    "import datetime\n",
    "json_list=glob.glob(\"/home/jian/Projects/Big_Lots/Weather/Json_data/forcast_api_response till 20180322/*.json\")"
   ]
  },
  {
   "cell_type": "code",
   "execution_count": 2,
   "metadata": {
    "collapsed": true
   },
   "outputs": [],
   "source": [
    "store_list=pd.read_csv(\"/home/jian/Projects/Big_Lots/Weather/OtherInput/MediaStormStoreList_Nov15.txt\",sep=\"|\",dtype=str)\n",
    "store_list=store_list[['location_id','city_nm','state_nm','zip_cd']]\n",
    "store_list['zip_cd']=store_list['zip_cd'].apply(lambda x: str.split(x,'-')[0])\n",
    "store_list['zip_cd']=store_list['zip_cd'].astype(int)\n",
    "\n",
    "zip_dma=pd.read_csv(\"/home/jian/Projects/Big_Lots/Weather/OtherInput/zipdmamapping.csv\")\n",
    "zip_dma.columns=['zip_cd','DMA']\n",
    "zip_dma['zip_cd']=zip_dma['zip_cd'].astype(int)\n",
    "store_list=pd.merge(store_list,zip_dma,on='zip_cd',how='left')\n"
   ]
  },
  {
   "cell_type": "code",
   "execution_count": 3,
   "metadata": {
    "collapsed": true
   },
   "outputs": [],
   "source": [
    "date_writer=[]\n",
    "for date in json_list:\n",
    "    date=datetime.datetime.strptime(date[len(date)-15:len(date)-5],\"%Y-%m-%d\").date()\n",
    "    date_str=str(date)\n",
    "    date_writer=date_writer+[date]"
   ]
  },
  {
   "cell_type": "code",
   "execution_count": null,
   "metadata": {
    "collapsed": true
   },
   "outputs": [],
   "source": [
    "# get the time and date from the response['list']['dt']"
   ]
  },
  {
   "cell_type": "code",
   "execution_count": 30,
   "metadata": {
    "collapsed": true
   },
   "outputs": [],
   "source": [
    "response_list=[]\n",
    "date_list=[]\n",
    "output=pd.DataFrame()\n",
    "\n",
    "\n",
    "for f in json_list:\n",
    "    response=json.load(open(f,'r'))\n",
    "    date=f.split('.')[0][(len(f.split('.')[0])-10):len(f.split('.')[0])]\n",
    "    df_day=pd.DataFrame(response)\n",
    "    df=pd.DataFrame()\n",
    "    df_date=pd.DataFrame()\n",
    "    for i in range(len(df_day.columns)):\n",
    "        zip_cd=df_day.columns[i]   \n",
    "        temp=response[zip_cd]['main']['temp']\n",
    "        temp_max=response[zip_cd]['main']['temp_max']\n",
    "        temp_min=response[zip_cd]['main']['temp_min']\n",
    "        humidity=str(response[zip_cd]['main']['humidity'])+\"%\"\n",
    "        pressure=response[zip_cd]['main']['pressure']\n",
    "        weather_types=len(response[zip_cd]['weather'])\n",
    "        wind_speed=response[zip_cd]['wind']['speed']\n",
    "        name=response[zip_cd]['name']\n",
    "        country=response[zip_cd]['sys']['country']\n",
    "        sunrise=pd.to_datetime(response[zip_cd]['sys']['sunrise'],unit='s')\n",
    "        sunset=pd.to_datetime(response[zip_cd]['sys']['sunset'],unit='s')\n",
    "        if 'deg' in response[zip_cd]['wind'].keys():\n",
    "            wind_deg=response[zip_cd]['wind']['deg']\n",
    "        else:\n",
    "            wind_deg=float('NaN')\n",
    "        \n",
    "        if 'visibility' in response[zip_cd].keys():\n",
    "            visibility=response[zip_cd]['visibility']\n",
    "        else: \n",
    "            visibility= float('NaN')\n",
    "            \n",
    "        if 'clouds' in response[zip_cd].keys():\n",
    "            clouds=str(response[zip_cd]['clouds']['all'])+\"%\"\n",
    "        else: \n",
    "            clouds= float('NaN')\n",
    "        '''    \n",
    "        if 'rain' in response[zip_cd].keys():\n",
    "            rain_3h=response[zip_cd]['rain']['3h']\n",
    "        else: \n",
    "            rain_3h= float('NaN')\n",
    "        \n",
    "        if 'snow' in response[zip_cd].keys():\n",
    "            snow_3h=response[zip_cd]['snow']['3h']\n",
    "        else: \n",
    "            snow_3h= float('NaN')\n",
    "        '''    \n",
    "        lat=response[zip_cd]['coord']['lat']\n",
    "        lon=response[zip_cd]['coord']['lon']\n",
    "        # df_weather=pd.DataFrame({'index':i},{'zip':zip_cd},{'weather':weather}).T    \n",
    "        weather = []\n",
    "        for j in range(weather_types):\n",
    "            weather = weather+[str(response[zip_cd]['weather'][j]['main'])]\n",
    "\n",
    "        # df_weather=pd.DataFrame([i,zip_cd,temp,temp_max,temp_min,name,weather,weather_types,pressure,humidity,wind_speed,wind_deg,visibility,lat,lon]).T\n",
    "        # df_weather.columns=['index','zip','temperature','temp_max','temp_min','city_name','weather','weather_types','pressure','humidity','wind_speed','wind_deg','visibility','lat_weather_record','lon_weather_record']\n",
    "        \n",
    "        df_weather=pd.DataFrame([{'zip_cd':zip_cd,'city_name':name,'temperature':temp,'temp_max':temp_max,'temp_min':temp_min,\n",
    "                                 'weather':weather,'weather_types':weather_types,'pressure':pressure,'humidity':humidity,'clouds':clouds,\n",
    "                                  'wind_speed':wind_speed,'wind_deg':wind_deg,'visibility':visibility,'longitude':lon,'latitude':lat,\n",
    "                                  'utc_sunrise':sunrise,'utc_sunset':sunset}]) #'rain_3h':rain_3h,'snow_3h':snow_3h,\n",
    "        \n",
    "        df_weather.reset_index(inplace=True)\n",
    "\n",
    "        df=df.append(df_weather)\n",
    "        # df=df[df_weather.columns.tolist()]\n",
    "    df['date']=date\n",
    "    df['zip_cd']=df['zip_cd'].astype(int)\n",
    "    df_date=pd.merge(store_list,df,on='zip_cd',how='left')\n",
    "\n",
    "        #del df_weather['level_0']\n",
    "        #del df_weather['index']\n",
    "    output=output.append(df_date)\n",
    "    \n",
    "output=output[['date']+store_list.columns.tolist()+df_weather.columns.tolist()]\n",
    "#output['location_id']=output['location_id'].astype(float)\n",
    "#output=output.sort_values(['date','location_id'])    "
   ]
  },
  {
   "cell_type": "code",
   "execution_count": 31,
   "metadata": {
    "collapsed": true
   },
   "outputs": [],
   "source": [
    "output.to_csv(\"/home/jian/Projects/Big_Lots/Weather/output/BL_whether_output_JL_\" +str(max(date_writer))+\".csv\",index=False)"
   ]
  },
  {
   "cell_type": "code",
   "execution_count": 38,
   "metadata": {},
   "outputs": [
    {
     "data": {
      "text/plain": [
       "1526"
      ]
     },
     "execution_count": 38,
     "metadata": {},
     "output_type": "execute_result"
    }
   ],
   "source": [
    "len(test0301)"
   ]
  },
  {
   "cell_type": "code",
   "execution_count": 6,
   "metadata": {
    "collapsed": true
   },
   "outputs": [],
   "source": [
    "test0301=json.load(codecs.open(\"/home/jian/Projects/Big_Lots/Weather/Json_data/forcast_api_response till 20180322/2018-03-01.json\", 'r','utf-8-sig'))"
   ]
  },
  {
   "cell_type": "code",
   "execution_count": 11,
   "metadata": {},
   "outputs": [
    {
     "data": {
      "text/plain": [
       "dict_keys(['city', 'message', 'list', 'cod', 'cnt'])"
      ]
     },
     "execution_count": 11,
     "metadata": {},
     "output_type": "execute_result"
    }
   ],
   "source": [
    "test0301['41073'].keys()"
   ]
  },
  {
   "cell_type": "code",
   "execution_count": 29,
   "metadata": {},
   "outputs": [
    {
     "data": {
      "text/plain": [
       "{'clouds': {'all': 92},\n",
       " 'dt': 1520316000,\n",
       " 'dt_txt': '2018-03-06 06:00:00',\n",
       " 'main': {'grnd_level': 1000.3,\n",
       "  'humidity': 95,\n",
       "  'pressure': 1000.3,\n",
       "  'sea_level': 1028.33,\n",
       "  'temp': 282.041,\n",
       "  'temp_kf': 0,\n",
       "  'temp_max': 282.041,\n",
       "  'temp_min': 282.041},\n",
       " 'rain': {'3h': 1.38},\n",
       " 'sys': {'pod': 'n'},\n",
       " 'weather': [{'description': 'light rain',\n",
       "   'icon': '10n',\n",
       "   'id': 500,\n",
       "   'main': 'Rain'}],\n",
       " 'wind': {'deg': 217.002, 'speed': 2.73}}"
      ]
     },
     "execution_count": 29,
     "metadata": {},
     "output_type": "execute_result"
    }
   ],
   "source": [
    "test0301['41073']['list'][35]"
   ]
  },
  {
   "cell_type": "code",
   "execution_count": null,
   "metadata": {
    "collapsed": true
   },
   "outputs": [],
   "source": [
    "1520316000"
   ]
  },
  {
   "cell_type": "code",
   "execution_count": 37,
   "metadata": {},
   "outputs": [
    {
     "data": {
      "text/plain": [
       "datetime.datetime(2018, 3, 6, 1, 0)"
      ]
     },
     "execution_count": 37,
     "metadata": {},
     "output_type": "execute_result"
    }
   ],
   "source": [
    "datetime.datetime.fromtimestamp(1520316000)"
   ]
  },
  {
   "cell_type": "code",
   "execution_count": null,
   "metadata": {
    "collapsed": true
   },
   "outputs": [],
   "source": []
  },
  {
   "cell_type": "code",
   "execution_count": null,
   "metadata": {
    "collapsed": true
   },
   "outputs": [],
   "source": [
    "test1219[test1228.keys()[8].decode('utf-8')]"
   ]
  },
  {
   "cell_type": "code",
   "execution_count": 66,
   "metadata": {},
   "outputs": [
    {
     "data": {
      "text/plain": [
       "Timestamp('2018-02-08 13:13:24')"
      ]
     },
     "execution_count": 66,
     "metadata": {},
     "output_type": "execute_result"
    }
   ],
   "source": [
    "pd.to_datetime(test0208['64870']['sys']['sunrise'],unit='s')"
   ]
  },
  {
   "cell_type": "code",
   "execution_count": 78,
   "metadata": {},
   "outputs": [
    {
     "data": {
      "text/plain": [
       "{'base': 'stations',\n",
       " 'clouds': {'all': 1},\n",
       " 'cod': 200,\n",
       " 'coord': {'lat': 34.53, 'lon': -82.71},\n",
       " 'dt': 1513706160,\n",
       " 'id': 0,\n",
       " 'main': {'humidity': 37,\n",
       "  'pressure': 1020,\n",
       "  'temp': 294.27,\n",
       "  'temp_max': 295.15,\n",
       "  'temp_min': 293.15},\n",
       " 'name': 'Anderson',\n",
       " 'sys': {'country': 'US',\n",
       "  'id': 2396,\n",
       "  'message': 0.0049,\n",
       "  'sunrise': 1513686792,\n",
       "  'sunset': 1513722230,\n",
       "  'type': 1},\n",
       " 'visibility': 16093,\n",
       " 'weather': [{'description': 'light rain',\n",
       "   'icon': '10d',\n",
       "   'id': 500,\n",
       "   'main': 'Rain'}],\n",
       " 'wind': {'deg': 220, 'speed': 6.2}}"
      ]
     },
     "execution_count": 78,
     "metadata": {},
     "output_type": "execute_result"
    }
   ],
   "source": [
    "# test1219['29625']"
   ]
  },
  {
   "cell_type": "code",
   "execution_count": 448,
   "metadata": {},
   "outputs": [
    {
     "data": {
      "text/plain": [
       "False"
      ]
     },
     "execution_count": 448,
     "metadata": {},
     "output_type": "execute_result"
    }
   ],
   "source": [
    "'28562' in df_day.columns"
   ]
  },
  {
   "cell_type": "code",
   "execution_count": 433,
   "metadata": {
    "collapsed": true
   },
   "outputs": [],
   "source": [
    "response=json.load(open(json_list[0],'r'))"
   ]
  },
  {
   "cell_type": "code",
   "execution_count": 434,
   "metadata": {
    "collapsed": true
   },
   "outputs": [],
   "source": [
    "df_day=pd.DataFrame(response)"
   ]
  },
  {
   "cell_type": "code",
   "execution_count": 435,
   "metadata": {},
   "outputs": [
    {
     "data": {
      "text/plain": [
       "(12, 1435)"
      ]
     },
     "execution_count": 435,
     "metadata": {},
     "output_type": "execute_result"
    }
   ],
   "source": [
    "df_day.shape"
   ]
  },
  {
   "cell_type": "code",
   "execution_count": 436,
   "metadata": {},
   "outputs": [
    {
     "data": {
      "text/plain": [
       "1435"
      ]
     },
     "execution_count": 436,
     "metadata": {},
     "output_type": "execute_result"
    }
   ],
   "source": [
    "len(df_day.columns)"
   ]
  },
  {
   "cell_type": "code",
   "execution_count": 441,
   "metadata": {
    "collapsed": true
   },
   "outputs": [],
   "source": [
    "zip_cd=df_day.columns[1]   "
   ]
  },
  {
   "cell_type": "code",
   "execution_count": 442,
   "metadata": {
    "collapsed": true
   },
   "outputs": [],
   "source": [
    "temp=response[zip_cd]['main']['temp']\n",
    "humidity=response[zip_cd]['main']['humidity']\n",
    "pressure=response[zip_cd]['main']['pressure']\n",
    "weather_types=len(response[zip_cd]['weather'])\n",
    "wind_speed=response[zip_cd]['wind']['speed']\n",
    "if 'visibility' in response[zip_cd].keys():\n",
    "    visibility=response[zip_cd]['visibility']\n",
    "else: \n",
    "    visibility= float('NaN')\n",
    "lat=response[zip_cd]['coord']['lat']\n",
    "lon=response[zip_cd]['coord']['lon']\n",
    "# df_weather=pd.DataFrame({'index':i},{'zip':zip_cd},{'weather':weather}).T    \n",
    "weather = []\n",
    "for j in range(weather_types):\n",
    "    weather = weather+[response[zip_cd]['weather'][j]['main']]\n",
    "\n",
    "df_weather=pd.DataFrame([i,zip_cd,temp,weather,weather_types,pressure,humidity,wind_speed,visibility,lat,lon]).T\n",
    "df_weather.columns=['index','zip','temperature','weather','weather_types','pressure','humidity','wind_speed','visibility','lat_weather_record','lon_weather_recort']\n",
    "df_weather.reset_index(inplace=True)"
   ]
  },
  {
   "cell_type": "code",
   "execution_count": 443,
   "metadata": {},
   "outputs": [
    {
     "data": {
      "text/html": [
       "<div>\n",
       "<style>\n",
       "    .dataframe thead tr:only-child th {\n",
       "        text-align: right;\n",
       "    }\n",
       "\n",
       "    .dataframe thead th {\n",
       "        text-align: left;\n",
       "    }\n",
       "\n",
       "    .dataframe tbody tr th {\n",
       "        vertical-align: top;\n",
       "    }\n",
       "</style>\n",
       "<table border=\"1\" class=\"dataframe\">\n",
       "  <thead>\n",
       "    <tr style=\"text-align: right;\">\n",
       "      <th></th>\n",
       "      <th>level_0</th>\n",
       "      <th>index</th>\n",
       "      <th>zip</th>\n",
       "      <th>temperature</th>\n",
       "      <th>weather</th>\n",
       "      <th>weather_types</th>\n",
       "      <th>pressure</th>\n",
       "      <th>humidity</th>\n",
       "      <th>wind_speed</th>\n",
       "      <th>visibility</th>\n",
       "      <th>lat_weather_record</th>\n",
       "      <th>lon_weather_recort</th>\n",
       "    </tr>\n",
       "  </thead>\n",
       "  <tbody>\n",
       "    <tr>\n",
       "      <th>0</th>\n",
       "      <td>0</td>\n",
       "      <td>1433</td>\n",
       "      <td>01089</td>\n",
       "      <td>271.72</td>\n",
       "      <td>[Snow]</td>\n",
       "      <td>1</td>\n",
       "      <td>1018</td>\n",
       "      <td>50</td>\n",
       "      <td>1.37</td>\n",
       "      <td>16093</td>\n",
       "      <td>42.12</td>\n",
       "      <td>-72.64</td>\n",
       "    </tr>\n",
       "  </tbody>\n",
       "</table>\n",
       "</div>"
      ],
      "text/plain": [
       "   level_0 index    zip temperature weather weather_types pressure humidity  \\\n",
       "0        0  1433  01089      271.72  [Snow]             1     1018       50   \n",
       "\n",
       "  wind_speed visibility lat_weather_record lon_weather_recort  \n",
       "0       1.37      16093              42.12             -72.64  "
      ]
     },
     "execution_count": 443,
     "metadata": {},
     "output_type": "execute_result"
    }
   ],
   "source": [
    "df_weather"
   ]
  },
  {
   "cell_type": "code",
   "execution_count": 454,
   "metadata": {},
   "outputs": [
    {
     "data": {
      "text/plain": [
       "False"
      ]
     },
     "execution_count": 454,
     "metadata": {},
     "output_type": "execute_result"
    }
   ],
   "source": [
    "'30046' in df_day.columns"
   ]
  },
  {
   "cell_type": "code",
   "execution_count": 455,
   "metadata": {},
   "outputs": [
    {
     "data": {
      "text/plain": [
       "1434"
      ]
     },
     "execution_count": 455,
     "metadata": {},
     "output_type": "execute_result"
    }
   ],
   "source": [
    "len(df_day.columns)"
   ]
  },
  {
   "cell_type": "code",
   "execution_count": null,
   "metadata": {
    "collapsed": true
   },
   "outputs": [],
   "source": []
  }
 ],
 "metadata": {
  "kernelspec": {
   "display_name": "Python 3",
   "language": "python",
   "name": "python3"
  },
  "language_info": {
   "codemirror_mode": {
    "name": "ipython",
    "version": 3
   },
   "file_extension": ".py",
   "mimetype": "text/x-python",
   "name": "python",
   "nbconvert_exporter": "python",
   "pygments_lexer": "ipython3",
   "version": "3.6.1"
  }
 },
 "nbformat": 4,
 "nbformat_minor": 1
}
