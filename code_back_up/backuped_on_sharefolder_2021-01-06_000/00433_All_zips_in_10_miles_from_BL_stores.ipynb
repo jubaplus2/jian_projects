{
 "cells": [
  {
   "cell_type": "code",
   "execution_count": 4,
   "metadata": {},
   "outputs": [
    {
     "name": "stdout",
     "output_type": "stream",
     "text": [
      "/mnt/clients/juba/hqjubaapp02/sharefolder/TraderArea/BL_TA_request_X_miles\n",
      "2020-12-29 23:17:54.444344\n"
     ]
    }
   ],
   "source": [
    "import pandas as pd\n",
    "import json\n",
    "from haversine import haversine\n",
    "import numpy as np\n",
    "import datetime\n",
    "import os\n",
    "import glob\n",
    "print(os.getcwd())\n",
    "print(datetime.datetime.now())"
   ]
  },
  {
   "cell_type": "code",
   "execution_count": 5,
   "metadata": {},
   "outputs": [],
   "source": [
    "path_json_zip_centers=\"/mnt/clients/juba/hqjubaapp02/sharefolder/Docs/Geo_mapping/updated_zip_centers_JL_2019-05-23.json\"\n",
    "folder_store_list=\"/mnt/clients/juba/hqjubaapp02/sharefolder/biglots_data/static_files/Store_list/\"\n",
    "\n",
    "\n",
    "zip_centers=json.load(open(path_json_zip_centers,\"r\"))\n",
    "latest_store_list=glob.glob(folder_store_list+\"*.txt\")\n",
    "latest_store_list=sorted(latest_store_list,key=lambda x: os.stat(x).st_mtime)\n",
    "latest_store_list=latest_store_list[-1]"
   ]
  },
  {
   "cell_type": "code",
   "execution_count": 7,
   "metadata": {},
   "outputs": [
    {
     "name": "stdout",
     "output_type": "stream",
     "text": [
      "type in lat and lng: %d, %d\n",
      "4900 E DUBLIN GRANVILLE RD, COLUMBUS, OH, 43081-7651, US\n",
      "40.0800688,-82.8604897\n",
      "dict_update_location_latlng: \n",
      " {'6991': {'lat': 40.0800688, 'lng': -82.8604897}}\n"
     ]
    }
   ],
   "source": [
    "dict_update_location_latlng={}\n",
    "\n",
    "def revise_store_lat_lng(path_store_list_input=latest_store_list):\n",
    "    df=pd.read_csv(path_store_list_input,sep=\"|\",dtype=str)\n",
    "    df['latitude_meas']=df['latitude_meas'].astype(float)\n",
    "    df=df[~df['location_id'].isin(['145','6990'])]\n",
    "    df=df[df['latitude_meas']==0]\n",
    "    print(\"type in lat and lng: %d, %d\")\n",
    "    for i,row in df.iterrows():\n",
    "        store_num=row['location_id']\n",
    "        address=row['address_line_1']+\", \"+row['city_nm']+\", \"+row['state_nm']+\", \"+row['zip_cd']+\", US\"\n",
    "        print(address)\n",
    "        \n",
    "        google_lat_long=str(input())\n",
    "        lat=eval(google_lat_long)[0]\n",
    "        lng=eval(google_lat_long)[1]\n",
    "        dict_update_location_latlng.update({store_num:{\"lat\":lat,\"lng\":lng}})\n",
    "    print(\"dict_update_location_latlng: \\n %s\"%dict_update_location_latlng)\n",
    "        \n",
    "revise_store_lat_lng()"
   ]
  },
  {
   "cell_type": "code",
   "execution_count": 8,
   "metadata": {},
   "outputs": [],
   "source": [
    "def update_store_location(df):\n",
    "    for store_num, store_revised_loc in dict_update_location_latlng.items():\n",
    "\n",
    "        df.loc[df['location_id']==store_num,'latitude_meas']=store_revised_loc['lat']\n",
    "        df.loc[df['location_id']==store_num,'longitude_meas']=store_revised_loc['lng']\n",
    "    \n",
    "    return df"
   ]
  },
  {
   "cell_type": "code",
   "execution_count": 15,
   "metadata": {},
   "outputs": [],
   "source": [
    "df_store_location=pd.read_table(latest_store_list,sep=\"|\",usecols=['location_id','latitude_meas','longitude_meas'])\n",
    "df_store_location['location_id']=df_store_location['location_id'].astype(str)\n",
    "df_store_location['latitude_meas']=df_store_location['latitude_meas'].astype(float)\n",
    "df_store_location['longitude_meas']=df_store_location['longitude_meas'].astype(float)\n",
    "df_store_location=update_store_location(df_store_location)\n",
    "df_store_location=df_store_location[~df_store_location['location_id'].isin([\"145\",\"6990\"])]\n",
    "df_store_location=df_store_location.reset_index()\n",
    "del df_store_location['index']"
   ]
  },
  {
   "cell_type": "code",
   "execution_count": 17,
   "metadata": {},
   "outputs": [
    {
     "name": "stdout",
     "output_type": "stream",
     "text": [
      "(37080, 3) 1412\n"
     ]
    }
   ],
   "source": [
    "n_miles=10\n",
    "\n",
    "df_output_zip_by_store=pd.DataFrame()\n",
    "for i, row in df_store_location.iterrows():\n",
    "    store_id=row['location_id']\n",
    "    list_zip_10_around_store=[]\n",
    "    list_dist_10_around_store=[]\n",
    "    for zip_cd,z_center in zip_centers.items() :\n",
    "        dist=haversine([row['latitude_meas'],row['longitude_meas']],z_center,unit=\"mi\")\n",
    "        if dist<=n_miles:\n",
    "            list_zip_10_around_store.append(zip_cd)\n",
    "            list_dist_10_around_store.append(dist)\n",
    "    df=pd.DataFrame({\"location_id\":[store_id]*len(list_zip_10_around_store),\n",
    "                     \"zip_cd\":list_zip_10_around_store,\n",
    "                     \"dist_mile\":list_dist_10_around_store\n",
    "                    },index=range(len(list_zip_10_around_store)))\n",
    "    df_output_zip_by_store=df_output_zip_by_store.append(df)\n",
    "print(df_output_zip_by_store.shape,df_output_zip_by_store['location_id'].nunique())          "
   ]
  },
  {
   "cell_type": "code",
   "execution_count": 18,
   "metadata": {},
   "outputs": [
    {
     "data": {
      "text/html": [
       "<div>\n",
       "<style scoped>\n",
       "    .dataframe tbody tr th:only-of-type {\n",
       "        vertical-align: middle;\n",
       "    }\n",
       "\n",
       "    .dataframe tbody tr th {\n",
       "        vertical-align: top;\n",
       "    }\n",
       "\n",
       "    .dataframe thead th {\n",
       "        text-align: right;\n",
       "    }\n",
       "</style>\n",
       "<table border=\"1\" class=\"dataframe\">\n",
       "  <thead>\n",
       "    <tr style=\"text-align: right;\">\n",
       "      <th></th>\n",
       "      <th>location_id</th>\n",
       "      <th>zip_cd</th>\n",
       "      <th>dist_mile</th>\n",
       "    </tr>\n",
       "  </thead>\n",
       "  <tbody>\n",
       "    <tr>\n",
       "      <th>0</th>\n",
       "      <td>3</td>\n",
       "      <td>30912</td>\n",
       "      <td>4.019458</td>\n",
       "    </tr>\n",
       "    <tr>\n",
       "      <th>1</th>\n",
       "      <td>3</td>\n",
       "      <td>30914</td>\n",
       "      <td>3.314609</td>\n",
       "    </tr>\n",
       "  </tbody>\n",
       "</table>\n",
       "</div>"
      ],
      "text/plain": [
       "  location_id zip_cd  dist_mile\n",
       "0           3  30912   4.019458\n",
       "1           3  30914   3.314609"
      ]
     },
     "execution_count": 18,
     "metadata": {},
     "output_type": "execute_result"
    }
   ],
   "source": [
    "df_output_zip_by_store.head(2)"
   ]
  },
  {
   "cell_type": "code",
   "execution_count": 19,
   "metadata": {},
   "outputs": [
    {
     "data": {
      "text/html": [
       "<div>\n",
       "<style scoped>\n",
       "    .dataframe tbody tr th:only-of-type {\n",
       "        vertical-align: middle;\n",
       "    }\n",
       "\n",
       "    .dataframe tbody tr th {\n",
       "        vertical-align: top;\n",
       "    }\n",
       "\n",
       "    .dataframe thead th {\n",
       "        text-align: right;\n",
       "    }\n",
       "</style>\n",
       "<table border=\"1\" class=\"dataframe\">\n",
       "  <thead>\n",
       "    <tr style=\"text-align: right;\">\n",
       "      <th></th>\n",
       "      <th>location_id</th>\n",
       "      <th>location_desc</th>\n",
       "      <th>open_dt</th>\n",
       "      <th>close_dt</th>\n",
       "      <th>address_line_1</th>\n",
       "      <th>address_line_2</th>\n",
       "      <th>city_nm</th>\n",
       "      <th>state_nm</th>\n",
       "      <th>zip_cd</th>\n",
       "      <th>longitude_meas</th>\n",
       "      <th>latitude_meas</th>\n",
       "      <th>sales_square_feet</th>\n",
       "      <th>furniture_sales_square_feet</th>\n",
       "    </tr>\n",
       "  </thead>\n",
       "  <tbody>\n",
       "    <tr>\n",
       "      <th>0</th>\n",
       "      <td>3</td>\n",
       "      <td>PEACH ORCHARD PLAZA</td>\n",
       "      <td>1988-10-31</td>\n",
       "      <td>NaN</td>\n",
       "      <td>2708 PEACH ORCHARD RD</td>\n",
       "      <td>NaN</td>\n",
       "      <td>AUGUSTA</td>\n",
       "      <td>GA</td>\n",
       "      <td>30906-2408</td>\n",
       "      <td>-82.018921</td>\n",
       "      <td>33.421570</td>\n",
       "      <td>26501.0</td>\n",
       "      <td>5098.0</td>\n",
       "    </tr>\n",
       "    <tr>\n",
       "      <th>1</th>\n",
       "      <td>30</td>\n",
       "      <td>SOUTHWOOD PLZ S/C</td>\n",
       "      <td>1984-04-05</td>\n",
       "      <td>NaN</td>\n",
       "      <td>818 S MAIN ST</td>\n",
       "      <td>NaN</td>\n",
       "      <td>BOWLING GREEN</td>\n",
       "      <td>OH</td>\n",
       "      <td>43402-4601</td>\n",
       "      <td>-83.650909</td>\n",
       "      <td>41.363132</td>\n",
       "      <td>21322.0</td>\n",
       "      <td>3271.0</td>\n",
       "    </tr>\n",
       "    <tr>\n",
       "      <th>2</th>\n",
       "      <td>43</td>\n",
       "      <td>SOUTHLAND SHOPPING CENTER</td>\n",
       "      <td>1984-09-26</td>\n",
       "      <td>NaN</td>\n",
       "      <td>3410 GLENDALE AVE</td>\n",
       "      <td>NaN</td>\n",
       "      <td>TOLEDO</td>\n",
       "      <td>OH</td>\n",
       "      <td>43614-2428</td>\n",
       "      <td>-83.623582</td>\n",
       "      <td>41.612553</td>\n",
       "      <td>23541.0</td>\n",
       "      <td>3725.0</td>\n",
       "    </tr>\n",
       "  </tbody>\n",
       "</table>\n",
       "</div>"
      ],
      "text/plain": [
       "  location_id              location_desc     open_dt  close_dt  \\\n",
       "0           3        PEACH ORCHARD PLAZA  1988-10-31       NaN   \n",
       "1          30          SOUTHWOOD PLZ S/C  1984-04-05       NaN   \n",
       "2          43  SOUTHLAND SHOPPING CENTER  1984-09-26       NaN   \n",
       "\n",
       "          address_line_1 address_line_2        city_nm state_nm      zip_cd  \\\n",
       "0  2708 PEACH ORCHARD RD            NaN        AUGUSTA       GA  30906-2408   \n",
       "1          818 S MAIN ST            NaN  BOWLING GREEN       OH  43402-4601   \n",
       "2      3410 GLENDALE AVE            NaN         TOLEDO       OH  43614-2428   \n",
       "\n",
       "   longitude_meas  latitude_meas  sales_square_feet  \\\n",
       "0      -82.018921      33.421570            26501.0   \n",
       "1      -83.650909      41.363132            21322.0   \n",
       "2      -83.623582      41.612553            23541.0   \n",
       "\n",
       "   furniture_sales_square_feet  \n",
       "0                       5098.0  \n",
       "1                       3271.0  \n",
       "2                       3725.0  "
      ]
     },
     "execution_count": 19,
     "metadata": {},
     "output_type": "execute_result"
    }
   ],
   "source": [
    "df_store_location=pd.read_table(latest_store_list,sep=\"|\")\n",
    "df_store_location['location_id']=df_store_location['location_id'].astype(str)\n",
    "df_store_location['latitude_meas']=df_store_location['latitude_meas'].astype(float)\n",
    "df_store_location['longitude_meas']=df_store_location['longitude_meas'].astype(float)\n",
    "df_store_location=update_store_location(df_store_location)\n",
    "df_store_location=df_store_location[~df_store_location['location_id'].isin([\"145\",\"6990\"])]\n",
    "df_store_location=df_store_location.reset_index()\n",
    "del df_store_location['index']\n",
    "\n",
    "df_store_location.head(3)"
   ]
  },
  {
   "cell_type": "code",
   "execution_count": 20,
   "metadata": {},
   "outputs": [],
   "source": [
    "df_output_zip_all_unique=df_output_zip_by_store[['zip_cd']].drop_duplicates()"
   ]
  },
  {
   "cell_type": "code",
   "execution_count": 21,
   "metadata": {},
   "outputs": [],
   "source": [
    "writer=pd.ExcelWriter(\"./BL_zips_in_10_miles_JL_%s.xlsx\"%str(datetime.datetime.now().date()),engine=\"xlsxwriter\")\n",
    "df_output_zip_all_unique.to_excel(writer,\"unique_zip_in_10_mi\",index=False)\n",
    "df_store_location.to_excel(writer,\"store_info\",index=False)\n",
    "df_output_zip_by_store.to_excel(writer,\"zip_by_store_in_10_mi\",index=False)\n",
    "writer.save()"
   ]
  },
  {
   "cell_type": "code",
   "execution_count": null,
   "metadata": {},
   "outputs": [],
   "source": []
  }
 ],
 "metadata": {
  "kernelspec": {
   "display_name": "Python 3",
   "language": "python",
   "name": "python3"
  },
  "language_info": {
   "codemirror_mode": {
    "name": "ipython",
    "version": 3
   },
   "file_extension": ".py",
   "mimetype": "text/x-python",
   "name": "python",
   "nbconvert_exporter": "python",
   "pygments_lexer": "ipython3",
   "version": "3.7.6"
  }
 },
 "nbformat": 4,
 "nbformat_minor": 4
}
