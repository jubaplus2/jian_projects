{
 "cells": [
  {
   "cell_type": "code",
   "execution_count": 1,
   "metadata": {
    "collapsed": true
   },
   "outputs": [],
   "source": [
    "import pandas as pd\n",
    "import os\n",
    "import datetime\n",
    "import glob"
   ]
  },
  {
   "cell_type": "code",
   "execution_count": 2,
   "metadata": {},
   "outputs": [
    {
     "data": {
      "text/plain": [
       "'/home/jian/Projects/Big_Lots/Live_Ramp/Mapping_Files/2018_Q4/downloads_output'"
      ]
     },
     "execution_count": 2,
     "metadata": {},
     "output_type": "execute_result"
    }
   ],
   "source": [
    "os.getcwd()"
   ]
  },
  {
   "cell_type": "code",
   "execution_count": 3,
   "metadata": {
    "collapsed": true
   },
   "outputs": [],
   "source": [
    "mapping_file=pd.read_table(\"/home/jian/Projects/Big_Lots/Live_Ramp/Mapping_Files/2018_Q4/downloads_output/CL_BigLots_BL_mapping_file_2018Q4_JL_2019-02-01_20190207_025237_0000.psv.gz\",\n",
    "                          dtype=str,compression=\"gzip\",sep=\"|\")\n",
    "del mapping_file['segment']"
   ]
  },
  {
   "cell_type": "code",
   "execution_count": 4,
   "metadata": {},
   "outputs": [
    {
     "data": {
      "text/plain": [
       "(23875578, 2)"
      ]
     },
     "execution_count": 4,
     "metadata": {},
     "output_type": "execute_result"
    }
   ],
   "source": [
    "mapping_file.shape"
   ]
  },
  {
   "cell_type": "code",
   "execution_count": 5,
   "metadata": {},
   "outputs": [
    {
     "data": {
      "text/plain": [
       "(14535, 2)"
      ]
     },
     "execution_count": 5,
     "metadata": {},
     "output_type": "execute_result"
    }
   ],
   "source": [
    "mapping_file[mapping_file['Customer_Link']==\"UNMATCHED\"].shape"
   ]
  },
  {
   "cell_type": "code",
   "execution_count": 6,
   "metadata": {},
   "outputs": [
    {
     "data": {
      "text/plain": [
       "0.0006087810732791474"
      ]
     },
     "execution_count": 6,
     "metadata": {},
     "output_type": "execute_result"
    }
   ],
   "source": [
    "14535/23875578"
   ]
  },
  {
   "cell_type": "code",
   "execution_count": 24,
   "metadata": {},
   "outputs": [
    {
     "data": {
      "text/html": [
       "<div>\n",
       "<style>\n",
       "    .dataframe thead tr:only-child th {\n",
       "        text-align: right;\n",
       "    }\n",
       "\n",
       "    .dataframe thead th {\n",
       "        text-align: left;\n",
       "    }\n",
       "\n",
       "    .dataframe tbody tr th {\n",
       "        vertical-align: top;\n",
       "    }\n",
       "</style>\n",
       "<table border=\"1\" class=\"dataframe\">\n",
       "  <thead>\n",
       "    <tr style=\"text-align: right;\">\n",
       "      <th></th>\n",
       "      <th>Customer_Link</th>\n",
       "      <th>customer_id_hashed</th>\n",
       "    </tr>\n",
       "  </thead>\n",
       "  <tbody>\n",
       "    <tr>\n",
       "      <th>0</th>\n",
       "      <td>Xi1468RevoBcFDAGYUFS4UZQops-BAdpHQcSDC6KWgQzSL...</td>\n",
       "      <td>dff65ed7cc4d54d8261002bb89126c904f5f2758d4f4e0...</td>\n",
       "    </tr>\n",
       "    <tr>\n",
       "      <th>1</th>\n",
       "      <td>XY1468dyZYhORNKbPOrzWQCINTM6amBgU9OgKAGVFHECLxPYE</td>\n",
       "      <td>27cf4059243a2472fa8a75f67d41e1c2b1bec79478003a...</td>\n",
       "    </tr>\n",
       "  </tbody>\n",
       "</table>\n",
       "</div>"
      ],
      "text/plain": [
       "                                       Customer_Link  \\\n",
       "0  Xi1468RevoBcFDAGYUFS4UZQops-BAdpHQcSDC6KWgQzSL...   \n",
       "1  XY1468dyZYhORNKbPOrzWQCINTM6amBgU9OgKAGVFHECLxPYE   \n",
       "\n",
       "                                  customer_id_hashed  \n",
       "0  dff65ed7cc4d54d8261002bb89126c904f5f2758d4f4e0...  \n",
       "1  27cf4059243a2472fa8a75f67d41e1c2b1bec79478003a...  "
      ]
     },
     "execution_count": 24,
     "metadata": {},
     "output_type": "execute_result"
    }
   ],
   "source": [
    "mapping_file.head(2)"
   ]
  },
  {
   "cell_type": "code",
   "execution_count": 13,
   "metadata": {
    "collapsed": true
   },
   "outputs": [],
   "source": [
    "Q4_segment_file_list=glob.glob(\"/home/jian/Projects/Big_Lots/Live_Ramp/Mapping_Files/2018_Q4/New_Segments/upload_newscore_0922/*.csv\")\n",
    "Q4_segment_file_list_test=[x for x in Q4_segment_file_list if \"/T_\" in x]\n",
    "Q4_segment_file_list_control=[x for x in Q4_segment_file_list if \"/C_\" in x]\n",
    "\n"
   ]
  },
  {
   "cell_type": "code",
   "execution_count": 31,
   "metadata": {},
   "outputs": [
    {
     "data": {
      "text/html": [
       "<div>\n",
       "<style>\n",
       "    .dataframe thead tr:only-child th {\n",
       "        text-align: right;\n",
       "    }\n",
       "\n",
       "    .dataframe thead th {\n",
       "        text-align: left;\n",
       "    }\n",
       "\n",
       "    .dataframe tbody tr th {\n",
       "        vertical-align: top;\n",
       "    }\n",
       "</style>\n",
       "<table border=\"1\" class=\"dataframe\">\n",
       "  <thead>\n",
       "    <tr style=\"text-align: right;\">\n",
       "      <th></th>\n",
       "      <th>customer_id_hashed</th>\n",
       "      <th>email_address_hash</th>\n",
       "      <th>segment</th>\n",
       "      <th>Customer_Link</th>\n",
       "    </tr>\n",
       "  </thead>\n",
       "  <tbody>\n",
       "    <tr>\n",
       "      <th>0</th>\n",
       "      <td>5d3eab37c343242cda072114833bb11e32019b84e41269...</td>\n",
       "      <td>cfbddc65b19cdd6621c6853bd5478e0181eab4379d0d7b...</td>\n",
       "      <td>T_lapsed18plus_chain_P_D09_Q4</td>\n",
       "      <td>Xi1468toz7JDFjIT8P3A0dQrFEiXyQg7V3XqvcdAPl32V2...</td>\n",
       "    </tr>\n",
       "    <tr>\n",
       "      <th>1</th>\n",
       "      <td>aa18d27854e93afcf94c455c42e318e3099da7db0f5859...</td>\n",
       "      <td>72f03078bbe50d00fb72c27ec0cb83566ac5e2d1d228a9...</td>\n",
       "      <td>T_lapsed18plus_chain_P_D09_Q4</td>\n",
       "      <td>Xi14680Yfco89H3f_izkY7D6Fx6_xs06Ll2llMtzYXXV8P...</td>\n",
       "    </tr>\n",
       "  </tbody>\n",
       "</table>\n",
       "</div>"
      ],
      "text/plain": [
       "                                  customer_id_hashed  \\\n",
       "0  5d3eab37c343242cda072114833bb11e32019b84e41269...   \n",
       "1  aa18d27854e93afcf94c455c42e318e3099da7db0f5859...   \n",
       "\n",
       "                                  email_address_hash  \\\n",
       "0  cfbddc65b19cdd6621c6853bd5478e0181eab4379d0d7b...   \n",
       "1  72f03078bbe50d00fb72c27ec0cb83566ac5e2d1d228a9...   \n",
       "\n",
       "                         segment  \\\n",
       "0  T_lapsed18plus_chain_P_D09_Q4   \n",
       "1  T_lapsed18plus_chain_P_D09_Q4   \n",
       "\n",
       "                                       Customer_Link  \n",
       "0  Xi1468toz7JDFjIT8P3A0dQrFEiXyQg7V3XqvcdAPl32V2...  \n",
       "1  Xi14680Yfco89H3f_izkY7D6Fx6_xs06Ll2llMtzYXXV8P...  "
      ]
     },
     "execution_count": 31,
     "metadata": {},
     "output_type": "execute_result"
    }
   ],
   "source": [
    "df.head(2)"
   ]
  },
  {
   "cell_type": "code",
   "execution_count": 32,
   "metadata": {},
   "outputs": [
    {
     "name": "stdout",
     "output_type": "stream",
     "text": [
      "1 2019-04-10 17:14:24.722941\n",
      "11 2019-04-10 17:20:01.073256\n",
      "21 2019-04-10 17:26:08.345352\n",
      "31 2019-04-10 17:31:53.179104\n",
      "41 2019-04-10 17:37:52.380216\n"
     ]
    }
   ],
   "source": [
    "matched_summary_test=pd.DataFrame()\n",
    "i_counter=0\n",
    "for file in Q4_segment_file_list_test:\n",
    "    df=pd.read_csv(file,dtype=str)\n",
    "    segment=os.path.basename(file).split(\".\")[0]\n",
    "    df=pd.merge(df,mapping_file,how=\"left\",on=\"customer_id_hashed\")\n",
    "    df['Customer_Link']=df['Customer_Link'].fillna(\"UNMATCHED\")\n",
    "    nrow_unmatched=df[df['Customer_Link']==\"UNMATCHED\"].shape[0]\n",
    "    nrow_matched=df[df['Customer_Link']!=\"UNMATCHED\"].shape[0]\n",
    "    nrow_total=df.shape[0]\n",
    "    df=pd.DataFrame({\"segment\":segment,\"matched\":nrow_matched,\"unmatched\":nrow_unmatched,\"total\":nrow_total},index=[i_counter])\n",
    "    i_counter+=1\n",
    "    matched_summary_test=matched_summary_test.append(df)\n",
    "    if i_counter%10==1:\n",
    "        print(i_counter,datetime.datetime.now())"
   ]
  },
  {
   "cell_type": "code",
   "execution_count": 33,
   "metadata": {},
   "outputs": [
    {
     "name": "stdout",
     "output_type": "stream",
     "text": [
      "51 2019-04-10 17:43:26.316286\n",
      "61 2019-04-10 17:48:48.812346\n"
     ]
    }
   ],
   "source": [
    "matched_summary_control=pd.DataFrame()\n",
    "\n",
    "for file in Q4_segment_file_list_control:\n",
    "    df=pd.read_csv(file,dtype=str)\n",
    "    segment=os.path.basename(file).split(\".\")[0]\n",
    "    df=pd.merge(df,mapping_file,how=\"left\",on=\"customer_id_hashed\")\n",
    "    df['Customer_Link']=df['Customer_Link'].fillna(\"UNMATCHED\")\n",
    "    nrow_unmatched=df[df['Customer_Link']==\"UNMATCHED\"].shape[0]\n",
    "    nrow_matched=df[df['Customer_Link']!=\"UNMATCHED\"].shape[0]\n",
    "    nrow_total=df.shape[0]\n",
    "    df=pd.DataFrame({\"segment\":segment,\"matched\":nrow_matched,\"unmatched\":nrow_unmatched,\"total\":nrow_total},index=[i_counter])\n",
    "    i_counter+=1\n",
    "    matched_summary_control=matched_summary_control.append(df)\n",
    "    if i_counter%10==1:\n",
    "        print(i_counter,datetime.datetime.now())"
   ]
  },
  {
   "cell_type": "code",
   "execution_count": 34,
   "metadata": {
    "collapsed": true
   },
   "outputs": [],
   "source": [
    "matched_summary_both=matched_summary_test.append(matched_summary_control)"
   ]
  },
  {
   "cell_type": "code",
   "execution_count": 35,
   "metadata": {
    "collapsed": true
   },
   "outputs": [],
   "source": [
    "import numpy as np\n",
    "\n",
    "matched_summary_both['LR_match_rate']=matched_summary_both['matched']/matched_summary_both['total']\n",
    "matched_summary_both['LR_match_rate']=matched_summary_both['LR_match_rate'].apply(lambda x: np.round(x,6))\n",
    "matched_summary_both.to_csv(\"/home/jian/Projects/Big_Lots/Live_Ramp/Mapping_Files/2018_Q4/downloads_output/BL_LR_2018Q4_IDL_email_match_rate_JL_\"+str(datetime.datetime.now().date())+\".csv\",index=False)"
   ]
  },
  {
   "cell_type": "code",
   "execution_count": null,
   "metadata": {
    "collapsed": true
   },
   "outputs": [],
   "source": []
  }
 ],
 "metadata": {
  "kernelspec": {
   "display_name": "Python 3",
   "language": "python",
   "name": "python3"
  },
  "language_info": {
   "codemirror_mode": {
    "name": "ipython",
    "version": 3
   },
   "file_extension": ".py",
   "mimetype": "text/x-python",
   "name": "python",
   "nbconvert_exporter": "python",
   "pygments_lexer": "ipython3",
   "version": "3.6.1"
  }
 },
 "nbformat": 4,
 "nbformat_minor": 2
}
