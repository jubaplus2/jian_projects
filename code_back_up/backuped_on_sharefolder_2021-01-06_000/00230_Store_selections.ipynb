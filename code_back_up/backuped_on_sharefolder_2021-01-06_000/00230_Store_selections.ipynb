{
 "cells": [
  {
   "cell_type": "code",
   "execution_count": 1,
   "metadata": {},
   "outputs": [
    {
     "name": "stdout",
     "output_type": "stream",
     "text": [
      "2020-10-26 18:41:06.789954\n",
      "/mnt/clients/juba/hqjubaapp02/sharefolder/GoodYear/jian/Selections\n"
     ]
    }
   ],
   "source": [
    "from google.cloud import bigquery\n",
    "\n",
    "import pandas as pd\n",
    "import numpy as np\n",
    "import datetime\n",
    "import os\n",
    "import json\n",
    "from haversine import haversine\n",
    "os.environ[\"GOOGLE_APPLICATION_CREDENTIALS\"] = \"/mnt/clients/juba/hqjubaapp02/sharefolder/GoodYear/docs/merkle-gdyr-prod-9783607c77a1.json\"\n",
    "\n",
    "zip_centers=json.load(open(\"/mnt/clients/juba/hqjubaapp02/sharefolder/Docs/Geo_mapping/updated_zip_centers_JL_2019-05-23.json\"))\n",
    "client = bigquery.Client()\n",
    "\n",
    "print(datetime.datetime.now())\n",
    "print(os.getcwd())"
   ]
  },
  {
   "cell_type": "code",
   "execution_count": 12,
   "metadata": {},
   "outputs": [],
   "source": [
    "excel_TA=pd.ExcelFile(\"/mnt/clients/juba/hqjubaapp02/sharefolder/GoodYear/jian/TA_creation/output_2020-10-23/GY_final_TA_updated_JL_2020-10-23.xlsx\")\n",
    "df_TA=excel_TA.parse(\"view_by_TA\",dtype=str)\n",
    "df_store=excel_TA.parse(\"view_by_store\",dtype=str)\n"
   ]
  },
  {
   "cell_type": "code",
   "execution_count": 13,
   "metadata": {},
   "outputs": [
    {
     "name": "stdout",
     "output_type": "stream",
     "text": [
      "(30, 14) 89\n",
      "(30, 14)\n",
      "(29, 14)\n"
     ]
    }
   ],
   "source": [
    "df_TA['store_count']=df_TA['store_count'].astype(int)\n",
    "df_TA['count_Coor_store_in_P']=df_TA['count_Coor_store_in_P'].astype(int)\n",
    "df_TA['count_Noncoor_store_in_P']=df_TA['count_Noncoor_store_in_P'].astype(int)\n",
    "df_TA['store_count']=df_TA['store_count'].astype(int)\n",
    "df_TA=df_TA[df_TA['count_Coor_store_in_P']>df_TA['count_Noncoor_store_in_P']]\n",
    "df_TA=df_TA[(df_TA['store_count']>=2) & (df_TA['store_count']<=5)]\n",
    "print(df_TA.shape,df_TA['store_count'].sum())\n",
    "df_TA=df_TA.reset_index()\n",
    "del df_TA['index']\n",
    "\n",
    "print(df_TA.shape)\n",
    "df_TA_HI=df_TA[df_TA['state_list'].apply(lambda x: \"HI\" in eval(str(x)))]\n",
    "df_TA=df_TA[df_TA['state_list'].apply(lambda x: \"HI\" not in eval(str(x)))]\n",
    "print(df_TA.shape)"
   ]
  },
  {
   "cell_type": "code",
   "execution_count": 4,
   "metadata": {},
   "outputs": [
    {
     "name": "stdout",
     "output_type": "stream",
     "text": [
      "query: \n",
      "\n",
      "SELECT t1.installer_store_num, t1.store_num, t1.company_owned_store_ind, t1.state, t1.zip_cd, t2.latitude, t2.longitude  from mdb.vw__installer_master as t1\n",
      "left join mdb_cdl.store t2 on t1.store_num=t2.store_num\n",
      "where (open_store_flag='Y' or open_store_flag is null and company_owned_store_ind=\"Y\") or (company_owned_store_ind=\"N\" and t1.close_date is null);\n",
      "\n"
     ]
    },
    {
     "name": "stderr",
     "output_type": "stream",
     "text": [
      "/home/jliang/.local/lib/python3.7/site-packages/google/cloud/bigquery/client.py:441: UserWarning: Cannot create BigQuery Storage client, the dependency google-cloud-bigquery-storage is not installed.\n",
      "  \"Cannot create BigQuery Storage client, the dependency \"\n"
     ]
    },
    {
     "name": "stdout",
     "output_type": "stream",
     "text": [
      "df_all_open_stores.shape (4608, 7)\n",
      "(4608, 7) 4608\n"
     ]
    },
    {
     "data": {
      "text/html": [
       "<div>\n",
       "<style scoped>\n",
       "    .dataframe tbody tr th:only-of-type {\n",
       "        vertical-align: middle;\n",
       "    }\n",
       "\n",
       "    .dataframe tbody tr th {\n",
       "        vertical-align: top;\n",
       "    }\n",
       "\n",
       "    .dataframe thead th {\n",
       "        text-align: right;\n",
       "    }\n",
       "</style>\n",
       "<table border=\"1\" class=\"dataframe\">\n",
       "  <thead>\n",
       "    <tr style=\"text-align: right;\">\n",
       "      <th></th>\n",
       "      <th>installer_store_num</th>\n",
       "      <th>store_num</th>\n",
       "      <th>company_owned_store_ind</th>\n",
       "      <th>state</th>\n",
       "      <th>zip_cd</th>\n",
       "      <th>latitude</th>\n",
       "      <th>longitude</th>\n",
       "    </tr>\n",
       "  </thead>\n",
       "  <tbody>\n",
       "    <tr>\n",
       "      <th>0</th>\n",
       "      <td>0000136383</td>\n",
       "      <td>6383</td>\n",
       "      <td>N</td>\n",
       "      <td>AL</td>\n",
       "      <td>35083</td>\n",
       "      <td>NaN</td>\n",
       "      <td>NaN</td>\n",
       "    </tr>\n",
       "    <tr>\n",
       "      <th>1</th>\n",
       "      <td>0000138004</td>\n",
       "      <td>8004</td>\n",
       "      <td>N</td>\n",
       "      <td>FL</td>\n",
       "      <td>32456</td>\n",
       "      <td>NaN</td>\n",
       "      <td>NaN</td>\n",
       "    </tr>\n",
       "  </tbody>\n",
       "</table>\n",
       "</div>"
      ],
      "text/plain": [
       "  installer_store_num store_num company_owned_store_ind state zip_cd  \\\n",
       "0          0000136383      6383                       N    AL  35083   \n",
       "1          0000138004      8004                       N    FL  32456   \n",
       "\n",
       "   latitude  longitude  \n",
       "0       NaN        NaN  \n",
       "1       NaN        NaN  "
      ]
     },
     "execution_count": 4,
     "metadata": {},
     "output_type": "execute_result"
    }
   ],
   "source": [
    "query_string='''\n",
    "SELECT t1.installer_store_num, t1.store_num, t1.company_owned_store_ind, t1.state, t1.zip_cd, t2.latitude, t2.longitude  from mdb.vw__installer_master as t1\n",
    "left join mdb_cdl.store t2 on t1.store_num=t2.store_num\n",
    "where (open_store_flag='Y' or open_store_flag is null and company_owned_store_ind=\"Y\") or (company_owned_store_ind=\"N\" and t1.close_date is null);\n",
    "'''\n",
    "\n",
    "print(\"query: \\n%s\"%query_string)\n",
    "df_all_open_stores=client.query(query_string).result().to_dataframe()\n",
    "print(\"df_all_open_stores.shape\",df_all_open_stores.shape)\n",
    "df_all_open_stores['store_num']=df_all_open_stores['store_num'].astype(int).astype(str)\n",
    "df_all_open_stores['zip_cd']=df_all_open_stores['zip_cd'].apply(lambda x: x.split(\"-\")[0].zfill(5))\n",
    "print(df_all_open_stores.shape,df_all_open_stores['installer_store_num'].nunique())\n",
    "\n",
    "df_all_open_stores.head(2)"
   ]
  },
  {
   "cell_type": "code",
   "execution_count": 5,
   "metadata": {},
   "outputs": [
    {
     "name": "stdout",
     "output_type": "stream",
     "text": [
      "(474, 4)\n"
     ]
    }
   ],
   "source": [
    "df_pair_dist_long=pd.DataFrame()\n",
    "# Coorperate use store_id; Non-coorperate use installer_store_id\n",
    "\n",
    "for ta, df_row in df_TA.groupby(\"TA_num\"):\n",
    "    P_zip_list=eval(df_row['trans_P_zips'].tolist()[0])\n",
    "    P_zip_list=[str(x).zfill(5) for x in P_zip_list]\n",
    "    df_stores_in_P=df_all_open_stores[df_all_open_stores['zip_cd'].isin(P_zip_list)]\n",
    "    df_stores_in_P.reset_index(inplace=True)\n",
    "    del df_stores_in_P['index']\n",
    "    for i in range(len(df_stores_in_P)):\n",
    "        if df_stores_in_P.loc[i,'company_owned_store_ind']==\"Y\":\n",
    "            store_i_type=\"Cooperate\"\n",
    "            store_i_latlng=(df_stores_in_P.loc[i,'latitude'],df_stores_in_P.loc[i,'longitude'])\n",
    "            ID_i=df_stores_in_P.loc[i,'store_num']\n",
    "        else:\n",
    "            store_i_type=\"Noncoop\"\n",
    "            store_i_latlng=zip_centers[df_stores_in_P.loc[i,'zip_cd']]\n",
    "            ID_i=df_stores_in_P.loc[i,'installer_store_num']\n",
    "            \n",
    "        for j in range(len(df_stores_in_P)):\n",
    "            if df_stores_in_P.loc[j,'company_owned_store_ind']==\"Y\":\n",
    "                store_j_type=\"Cooperate\"\n",
    "                store_j_latlng=(df_stores_in_P.loc[j,'latitude'],df_stores_in_P.loc[j,'longitude'])\n",
    "                ID_j=df_stores_in_P.loc[j,'store_num']\n",
    "            else:\n",
    "                store_j_type=\"Noncoop\"\n",
    "                store_j_latlng=zip_centers[df_stores_in_P.loc[j,'zip_cd']]\n",
    "                ID_j=df_stores_in_P.loc[j,'installer_store_num']\n",
    "\n",
    "            dist=haversine(store_i_latlng,store_j_latlng,unit=\"mi\")\n",
    "            \n",
    "            df_pair_dist=pd.DataFrame({'Store_id_1':ID_i,'Store_id_2':ID_j,'dist':dist},index=[ta])\n",
    "            df_pair_dist_long=df_pair_dist_long.append(df_pair_dist)\n",
    "df_pair_dist_long=df_pair_dist_long.reset_index().rename(columns={\"index\":\"TA_num\"})\n",
    "print(df_pair_dist_long.shape)"
   ]
  },
  {
   "cell_type": "code",
   "execution_count": 6,
   "metadata": {},
   "outputs": [
    {
     "data": {
      "text/plain": [
       "106"
      ]
     },
     "execution_count": 6,
     "metadata": {},
     "output_type": "execute_result"
    }
   ],
   "source": [
    "df_pair_dist_long['Store_formatted_id_1']=np.where(df_pair_dist_long['Store_id_1'].apply(len)>=5,\"TA: \"+df_pair_dist_long['TA_num']+\" | Noncoor | \"+df_pair_dist_long['Store_id_1'],\"TA: \"+df_pair_dist_long['TA_num']+\" | Coor | \"+df_pair_dist_long['Store_id_1'])\n",
    "df_pair_dist_long['Store_formatted_id_2']=np.where(df_pair_dist_long['Store_id_2'].apply(len)>=5,\"TA: \"+df_pair_dist_long['TA_num']+\" | Noncoor | \"+df_pair_dist_long['Store_id_2'],\"TA: \"+df_pair_dist_long['TA_num']+\" | Coor | \"+df_pair_dist_long['Store_id_2'])\n",
    "df_pair_dist_long=df_pair_dist_long.sort_values(['TA_num','Store_formatted_id_1','Store_formatted_id_2'])\n",
    "\n",
    "list_sorted_all_cols=df_pair_dist_long['Store_formatted_id_1'].unique().tolist()\n",
    "list_sorted_all_cols.sort()\n",
    "len(list_sorted_all_cols)"
   ]
  },
  {
   "cell_type": "code",
   "execution_count": 7,
   "metadata": {},
   "outputs": [
    {
     "data": {
      "text/plain": [
       "106"
      ]
     },
     "execution_count": 7,
     "metadata": {},
     "output_type": "execute_result"
    }
   ],
   "source": [
    "len(list_sorted_all_cols)"
   ]
  },
  {
   "cell_type": "code",
   "execution_count": 8,
   "metadata": {},
   "outputs": [],
   "source": [
    "list_df_to_concat=[]\n",
    "counter_i=0\n",
    "df_output=pd.DataFrame({\"index\":list_sorted_all_cols},index=list_sorted_all_cols)\n",
    "for TA_num,df_group in df_pair_dist_long.groupby(\"TA_num\"):\n",
    "    df=df_group.pivot_table(index=['TA_num','Store_formatted_id_1'],columns=['Store_formatted_id_2'],values=['dist'])\n",
    "    df.columns=[x[1] for x in df.columns.tolist()]\n",
    "    df.index=[x[1] for x in df.index.tolist()]\n",
    "    df=df.reset_index()\n",
    "    \n",
    "    store_first=df['index'][0]\n",
    "    store_last=df['index'].tolist()[-1]\n",
    "    # print(df.shape)\n",
    "    if store_first==list_sorted_all_cols[0]:\n",
    "        df_remaining=pd.DataFrame(columns=df.columns.tolist()[1:],index=list_sorted_all_cols[list_sorted_all_cols.index(store_last)+1:]).reset_index()\n",
    "        df_to_concat=df.append(df_remaining)\n",
    "    elif store_last==list_sorted_all_cols[1]:\n",
    "        df_heading=pd.DataFrame(columns=df.columns.tolist()[1:],index=list_sorted_all_cols[:list_sorted_all_cols.index(store_first)]).reset_index()\n",
    "        df_to_concat=df_heading.append(df)\n",
    "    else:\n",
    "        df_heading=pd.DataFrame(columns=df.columns.tolist()[1:],index=list_sorted_all_cols[:list_sorted_all_cols.index(store_first)]).reset_index()\n",
    "        df_remaining=pd.DataFrame(columns=df.columns.tolist()[1:],index=list_sorted_all_cols[list_sorted_all_cols.index(store_last)+1:]).reset_index()\n",
    "        df_to_concat=df_heading.append(df).append(df_remaining)\n",
    "    # list_df_to_concat.append(df_to_concat)\n",
    "    # print(TA_num,df_to_concat.shape,df_to_concat['index'].nunique())\n",
    "    counter_i+=1\n",
    "    df_output=pd.merge(df_output,df_to_concat,on=[\"index\"],how=\"left\")\n"
   ]
  },
  {
   "cell_type": "code",
   "execution_count": 9,
   "metadata": {},
   "outputs": [],
   "source": [
    "writer=pd.ExcelWriter(\"./GY_store_matrix_in_P_2to5_TAs_JL_%s.xlsx\"%str(datetime.datetime.now().date()),engine=\"xlsxwriter\")\n",
    "df_output.to_excel(writer,\"selected_maxtrix_wide\",index=False)\n",
    "df_pair_dist_long.to_excel(writer,\"selected_maxtrix_long\",index=False)\n",
    "writer.save()"
   ]
  }
 ],
 "metadata": {
  "kernelspec": {
   "display_name": "Python 3",
   "language": "python",
   "name": "python3"
  },
  "language_info": {
   "codemirror_mode": {
    "name": "ipython",
    "version": 3
   },
   "file_extension": ".py",
   "mimetype": "text/x-python",
   "name": "python",
   "nbconvert_exporter": "python",
   "pygments_lexer": "ipython3",
   "version": "3.7.6"
  }
 },
 "nbformat": 4,
 "nbformat_minor": 4
}
