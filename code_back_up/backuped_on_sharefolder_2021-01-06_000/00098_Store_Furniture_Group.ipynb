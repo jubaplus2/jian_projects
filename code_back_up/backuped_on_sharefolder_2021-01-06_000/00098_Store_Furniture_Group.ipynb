{
 "cells": [
  {
   "cell_type": "code",
   "execution_count": 1,
   "metadata": {},
   "outputs": [
    {
     "name": "stdout",
     "output_type": "stream",
     "text": [
      "2020-01-16 15:54:33.626084\n"
     ]
    },
    {
     "data": {
      "text/plain": [
       "'/home/jian/Projects/Big_Lots/Live_Ramp/Quarterly_Update_2020Q1'"
      ]
     },
     "execution_count": 1,
     "metadata": {},
     "output_type": "execute_result"
    }
   ],
   "source": [
    "import pandas as pd\n",
    "import numpy as np\n",
    "import datetime\n",
    "import os\n",
    "import glob\n",
    "\n",
    "print(datetime.datetime.now())\n",
    "os.getcwd()"
   ]
  },
  {
   "cell_type": "code",
   "execution_count": 2,
   "metadata": {},
   "outputs": [
    {
     "name": "stdout",
     "output_type": "stream",
     "text": [
      "13\n"
     ]
    }
   ],
   "source": [
    "def recursive_file_gen(root_path):\n",
    "    for root, dirs, files in os.walk(root_path):\n",
    "        for file in files:\n",
    "            yield os.path.join(root,file)\n",
    "            \n",
    "date_last_Saturday=datetime.date(2020,1,11)\n",
    "dates_3_months_earlier=date_last_Saturday-datetime.timedelta(days=3*4*7) # >= to include 13 weeks \n",
    "\n",
    "list_daily_sales=list(recursive_file_gen(\"/home/jian/BigLots/\"))\n",
    "list_daily_sales=[x for x in list_daily_sales if \"daily\" in x.lower() and \"/MediaStorm_\" in x]\n",
    "list_daily_sales=[x for x in list_daily_sales if x.split(\"/MediaStorm_\")[1][:10]>=str(dates_3_months_earlier)]\n",
    "print(len(list_daily_sales))"
   ]
  },
  {
   "cell_type": "code",
   "execution_count": 3,
   "metadata": {},
   "outputs": [
    {
     "name": "stdout",
     "output_type": "stream",
     "text": [
      "/home/jian/BigLots/2019_by_weeks/MediaStorm_2019-10-19/MediaStormDailySales20191022-111240-145.txt\n",
      "/home/jian/BigLots/2020_by_weeks/MediaStorm_2020-01-11/MediaStormDailySales20200114-115009-140.txt\n"
     ]
    }
   ],
   "source": [
    "list_daily_sales.sort()\n",
    "print(list_daily_sales[0])\n",
    "print(list_daily_sales[-1])\n"
   ]
  },
  {
   "cell_type": "code",
   "execution_count": 4,
   "metadata": {},
   "outputs": [
    {
     "name": "stdout",
     "output_type": "stream",
     "text": [
      "(2875, 3)\n",
      "(2875, 2)\n"
     ]
    },
    {
     "data": {
      "text/html": [
       "<div>\n",
       "<style scoped>\n",
       "    .dataframe tbody tr th:only-of-type {\n",
       "        vertical-align: middle;\n",
       "    }\n",
       "\n",
       "    .dataframe tbody tr th {\n",
       "        vertical-align: top;\n",
       "    }\n",
       "\n",
       "    .dataframe thead th {\n",
       "        text-align: right;\n",
       "    }\n",
       "</style>\n",
       "<table border=\"1\" class=\"dataframe\">\n",
       "  <thead>\n",
       "    <tr style=\"text-align: right;\">\n",
       "      <th></th>\n",
       "      <th>division_id</th>\n",
       "      <th>class_code_id</th>\n",
       "      <th>subclass_id</th>\n",
       "    </tr>\n",
       "  </thead>\n",
       "  <tbody>\n",
       "    <tr>\n",
       "      <th>0</th>\n",
       "      <td>1</td>\n",
       "      <td>11001</td>\n",
       "      <td>2</td>\n",
       "    </tr>\n",
       "    <tr>\n",
       "      <th>1</th>\n",
       "      <td>1</td>\n",
       "      <td>11001</td>\n",
       "      <td>4</td>\n",
       "    </tr>\n",
       "  </tbody>\n",
       "</table>\n",
       "</div>"
      ],
      "text/plain": [
       "  division_id class_code_id subclass_id\n",
       "0           1         11001           2\n",
       "1           1         11001           4"
      ]
     },
     "execution_count": 4,
     "metadata": {},
     "output_type": "execute_result"
    }
   ],
   "source": [
    "df_product_taxonomy=pd.read_csv(\"/home/jian/BigLots/static_files/ProductTaxonomy/MediaStormProductTaxonomy20200101-135600-916.txt\",\n",
    "                               dtype=str,sep=\"|\",usecols=['division_id','class_code_id','subclass_id']).drop_duplicates()\n",
    "print(df_product_taxonomy.shape)\n",
    "print(df_product_taxonomy[['class_code_id','subclass_id']].drop_duplicates().shape)\n",
    "df_product_taxonomy.head(2)"
   ]
  },
  {
   "cell_type": "code",
   "execution_count": 5,
   "metadata": {},
   "outputs": [
    {
     "name": "stdout",
     "output_type": "stream",
     "text": [
      "2019-10-13 2019-10-19\n",
      "1 2020-01-16 15:57:39.229082\n",
      "2019-10-20 2019-10-26\n",
      "2 2020-01-16 15:58:58.346469\n",
      "2019-10-27 2019-11-02\n",
      "3 2020-01-16 16:00:31.924309\n",
      "2019-11-03 2019-11-09\n",
      "4 2020-01-16 16:01:19.635899\n",
      "2019-11-10 2019-11-16\n",
      "5 2020-01-16 16:02:13.131970\n",
      "2019-11-17 2019-11-23\n",
      "6 2020-01-16 16:03:16.948018\n",
      "2019-11-24 2019-11-30\n",
      "7 2020-01-16 16:05:49.193484\n",
      "2019-12-01 2019-12-07\n",
      "8 2020-01-16 16:07:17.729076\n",
      "2019-12-08 2019-12-14\n",
      "9 2020-01-16 16:09:15.811161\n",
      "2019-12-15 2019-12-21\n",
      "10 2020-01-16 16:11:42.252703\n",
      "2019-12-22 2019-12-28\n",
      "11 2020-01-16 16:12:50.011512\n",
      "2019-12-29 2020-01-04\n",
      "12 2020-01-16 16:13:40.685366\n",
      "2020-01-05 2020-01-11\n",
      "13 2020-01-16 16:14:22.931182\n"
     ]
    }
   ],
   "source": [
    "df_total_sales_by_store_division_rewards=pd.DataFrame()\n",
    "i_counter=0\n",
    "for file in list_daily_sales:\n",
    "    df=pd.read_table(file,dtype=str,sep=\"|\",\n",
    "                    usecols=['location_id','transaction_dt','transaction_id','customer_id_hashed','class_code_id','subclass_id','item_transaction_amt'])\n",
    "    df['item_transaction_amt']=df['item_transaction_amt'].astype(float)\n",
    "    df=df.rename(columns={\"item_transaction_amt\":\"sales\"})\n",
    "    print(df['transaction_dt'].min(),df['transaction_dt'].max())\n",
    "    df['rewards_group']=np.where(pd.isnull(df['customer_id_hashed']),\"Non_Rewards\",\"Rewards\")\n",
    "    df=pd.merge(df,df_product_taxonomy,on=['class_code_id','subclass_id'],how=\"left\")\n",
    "    df=df.groupby(['location_id','rewards_group','division_id'])['sales'].sum().to_frame().reset_index()\n",
    "    \n",
    "    df_total_sales_by_store_division_rewards=df_total_sales_by_store_division_rewards.append(df)\n",
    "    i_counter+=1\n",
    "    print(i_counter,datetime.datetime.now())\n",
    "    \n",
    "    "
   ]
  },
  {
   "cell_type": "code",
   "execution_count": 6,
   "metadata": {},
   "outputs": [
    {
     "name": "stdout",
     "output_type": "stream",
     "text": [
      "(279118, 4)\n"
     ]
    },
    {
     "data": {
      "text/html": [
       "<div>\n",
       "<style scoped>\n",
       "    .dataframe tbody tr th:only-of-type {\n",
       "        vertical-align: middle;\n",
       "    }\n",
       "\n",
       "    .dataframe tbody tr th {\n",
       "        vertical-align: top;\n",
       "    }\n",
       "\n",
       "    .dataframe thead th {\n",
       "        text-align: right;\n",
       "    }\n",
       "</style>\n",
       "<table border=\"1\" class=\"dataframe\">\n",
       "  <thead>\n",
       "    <tr style=\"text-align: right;\">\n",
       "      <th></th>\n",
       "      <th>location_id</th>\n",
       "      <th>rewards_group</th>\n",
       "      <th>division_id</th>\n",
       "      <th>sales</th>\n",
       "    </tr>\n",
       "  </thead>\n",
       "  <tbody>\n",
       "    <tr>\n",
       "      <th>0</th>\n",
       "      <td>1</td>\n",
       "      <td>Non_Rewards</td>\n",
       "      <td>1</td>\n",
       "      <td>4084.92</td>\n",
       "    </tr>\n",
       "    <tr>\n",
       "      <th>1</th>\n",
       "      <td>1</td>\n",
       "      <td>Non_Rewards</td>\n",
       "      <td>2</td>\n",
       "      <td>4095.71</td>\n",
       "    </tr>\n",
       "    <tr>\n",
       "      <th>2</th>\n",
       "      <td>1</td>\n",
       "      <td>Non_Rewards</td>\n",
       "      <td>3</td>\n",
       "      <td>954.21</td>\n",
       "    </tr>\n",
       "    <tr>\n",
       "      <th>3</th>\n",
       "      <td>1</td>\n",
       "      <td>Non_Rewards</td>\n",
       "      <td>4</td>\n",
       "      <td>4235.46</td>\n",
       "    </tr>\n",
       "  </tbody>\n",
       "</table>\n",
       "</div>"
      ],
      "text/plain": [
       "  location_id rewards_group division_id    sales\n",
       "0           1   Non_Rewards           1  4084.92\n",
       "1           1   Non_Rewards           2  4095.71\n",
       "2           1   Non_Rewards           3   954.21\n",
       "3           1   Non_Rewards           4  4235.46"
      ]
     },
     "execution_count": 6,
     "metadata": {},
     "output_type": "execute_result"
    }
   ],
   "source": [
    "print(df_total_sales_by_store_division_rewards.shape)\n",
    "df_total_sales_by_store_division_rewards.head(4)"
   ]
  },
  {
   "cell_type": "code",
   "execution_count": 7,
   "metadata": {},
   "outputs": [
    {
     "data": {
      "text/plain": [
       "(279118, 4)"
      ]
     },
     "execution_count": 7,
     "metadata": {},
     "output_type": "execute_result"
    }
   ],
   "source": [
    "df_total_sales_by_store_division_rewards.shape"
   ]
  },
  {
   "cell_type": "code",
   "execution_count": 21,
   "metadata": {},
   "outputs": [
    {
     "data": {
      "text/plain": [
       "396457743.9899999"
      ]
     },
     "execution_count": 21,
     "metadata": {},
     "output_type": "execute_result"
    }
   ],
   "source": [
    "df_total_sales_by_store_division_rewards[df_total_sales_by_store_division_rewards['division_id']==\"9\"]['sales'].sum()"
   ]
  },
  {
   "cell_type": "code",
   "execution_count": 22,
   "metadata": {},
   "outputs": [
    {
     "data": {
      "text/plain": [
       "1637192275.1499987"
      ]
     },
     "execution_count": 22,
     "metadata": {},
     "output_type": "execute_result"
    }
   ],
   "source": [
    "df_total_sales_by_store_division_rewards['sales'].sum()"
   ]
  },
  {
   "cell_type": "code",
   "execution_count": 24,
   "metadata": {},
   "outputs": [
    {
     "data": {
      "text/plain": [
       "0.24215710641175403"
      ]
     },
     "execution_count": 24,
     "metadata": {},
     "output_type": "execute_result"
    }
   ],
   "source": [
    "396457743.9899999/1637192275.1499987"
   ]
  },
  {
   "cell_type": "code",
   "execution_count": 29,
   "metadata": {},
   "outputs": [],
   "source": [
    "df_total_sales=df_total_sales_by_store_division_rewards.groupby([\"location_id\",'rewards_group'])['sales'].sum().to_frame().reset_index()\n",
    "df_total_sales=df_total_sales.rename(columns={\"sales\":\"total_sales\"})\n",
    "df_total_sales=df_total_sales.pivot_table(index=\"location_id\",columns=\"rewards_group\",values=\"total_sales\").reset_index()\n",
    "df_total_sales=df_total_sales.rename(columns={\"Non_Rewards\":\"Non_Rewards_total_sales\"})\n",
    "df_total_sales=df_total_sales.rename(columns={\"Rewards\":\"Rewards_total_sales\"})\n",
    "df_total_sales['total_sales']=df_total_sales['Non_Rewards_total_sales']+df_total_sales['Rewards_total_sales']\n",
    "\n",
    "df_furniture_sales=df_total_sales_by_store_division_rewards[df_total_sales_by_store_division_rewards['division_id']==\"9\"]\n",
    "df_furniture_sales=df_furniture_sales.groupby([\"location_id\",'rewards_group'])['sales'].sum().to_frame().reset_index()\n",
    "df_furniture_sales=df_furniture_sales.rename(columns={\"sales\":\"furniture_sales\"})\n",
    "df_furniture_sales=df_furniture_sales.pivot_table(index=\"location_id\",columns=\"rewards_group\",values=\"furniture_sales\").reset_index()\n",
    "df_furniture_sales=df_furniture_sales.rename(columns={\"Non_Rewards\":\"Non_Rewards_furniture_sales\"})\n",
    "df_furniture_sales=df_furniture_sales.rename(columns={\"Rewards\":\"Rewards_furniture_sales\"})\n",
    "df_furniture_sales['furniture_sales']=df_furniture_sales['Non_Rewards_furniture_sales']+df_furniture_sales['Rewards_furniture_sales']\n",
    "\n",
    "df_output=pd.merge(df_total_sales,df_furniture_sales,on=\"location_id\",how=\"outer\").fillna(0)\n"
   ]
  },
  {
   "cell_type": "code",
   "execution_count": 31,
   "metadata": {},
   "outputs": [],
   "source": [
    "df_output['location_id']=df_output['location_id'].astype(int)\n",
    "df_output=df_output.sort_values(\"location_id\")\n",
    "# df_output['store_type']=np.where(df_output['location_id']==6990,\"Online\",\"Instore\")\n",
    "df_output=df_output[df_output['location_id']!=6990]"
   ]
  },
  {
   "cell_type": "code",
   "execution_count": 32,
   "metadata": {},
   "outputs": [],
   "source": [
    "df_output['total_fur_share']=df_output['furniture_sales']/df_output['total_sales']\n",
    "df_output=df_output.sort_values(\"total_fur_share\",ascending=False)\n",
    "\n",
    "\n",
    "\n",
    "df_output['rank']=[1+x for x in range(len(df_output))]\n",
    "\n",
    "df_output['store_furniture_group']=np.where(df_output['rank']>=len(df_output)*0.75,\"Low\",\"High\")"
   ]
  },
  {
   "cell_type": "code",
   "execution_count": 33,
   "metadata": {},
   "outputs": [],
   "source": [
    "writer=pd.ExcelWriter(\"./BL_output_store_type_furniture_3_months_JL_\"+str(datetime.datetime.now().date())+\".xlsx\",engine=\"xlsxwriter\")\n",
    "df_output.to_excel(writer,\"store_type_recent_3_months\",index=False)\n",
    "writer.save()\n",
    "\n"
   ]
  },
  {
   "cell_type": "code",
   "execution_count": 34,
   "metadata": {},
   "outputs": [
    {
     "data": {
      "text/html": [
       "<div>\n",
       "<style scoped>\n",
       "    .dataframe tbody tr th:only-of-type {\n",
       "        vertical-align: middle;\n",
       "    }\n",
       "\n",
       "    .dataframe tbody tr th {\n",
       "        vertical-align: top;\n",
       "    }\n",
       "\n",
       "    .dataframe thead th {\n",
       "        text-align: right;\n",
       "    }\n",
       "</style>\n",
       "<table border=\"1\" class=\"dataframe\">\n",
       "  <thead>\n",
       "    <tr style=\"text-align: right;\">\n",
       "      <th></th>\n",
       "      <th>division_id</th>\n",
       "      <th>class_code_id</th>\n",
       "      <th>subclass_id</th>\n",
       "    </tr>\n",
       "  </thead>\n",
       "  <tbody>\n",
       "    <tr>\n",
       "      <th>0</th>\n",
       "      <td>1</td>\n",
       "      <td>11001</td>\n",
       "      <td>2</td>\n",
       "    </tr>\n",
       "    <tr>\n",
       "      <th>1</th>\n",
       "      <td>1</td>\n",
       "      <td>11001</td>\n",
       "      <td>4</td>\n",
       "    </tr>\n",
       "  </tbody>\n",
       "</table>\n",
       "</div>"
      ],
      "text/plain": [
       "  division_id class_code_id subclass_id\n",
       "0           1         11001           2\n",
       "1           1         11001           4"
      ]
     },
     "execution_count": 34,
     "metadata": {},
     "output_type": "execute_result"
    }
   ],
   "source": [
    "df_product_taxonomy.head(2)"
   ]
  },
  {
   "cell_type": "code",
   "execution_count": 25,
   "metadata": {},
   "outputs": [
    {
     "data": {
      "text/html": [
       "<div>\n",
       "<style scoped>\n",
       "    .dataframe tbody tr th:only-of-type {\n",
       "        vertical-align: middle;\n",
       "    }\n",
       "\n",
       "    .dataframe tbody tr th {\n",
       "        vertical-align: top;\n",
       "    }\n",
       "\n",
       "    .dataframe thead th {\n",
       "        text-align: right;\n",
       "    }\n",
       "</style>\n",
       "<table border=\"1\" class=\"dataframe\">\n",
       "  <thead>\n",
       "    <tr style=\"text-align: right;\">\n",
       "      <th></th>\n",
       "      <th>division_id</th>\n",
       "      <th>item_transaction_amt</th>\n",
       "    </tr>\n",
       "  </thead>\n",
       "  <tbody>\n",
       "    <tr>\n",
       "      <th>0</th>\n",
       "      <td>1</td>\n",
       "      <td>1.195827e+07</td>\n",
       "    </tr>\n",
       "    <tr>\n",
       "      <th>1</th>\n",
       "      <td>10</td>\n",
       "      <td>2.722203e+04</td>\n",
       "    </tr>\n",
       "    <tr>\n",
       "      <th>2</th>\n",
       "      <td>2</td>\n",
       "      <td>1.303302e+07</td>\n",
       "    </tr>\n",
       "    <tr>\n",
       "      <th>3</th>\n",
       "      <td>3</td>\n",
       "      <td>5.355936e+06</td>\n",
       "    </tr>\n",
       "    <tr>\n",
       "      <th>4</th>\n",
       "      <td>4</td>\n",
       "      <td>1.416551e+07</td>\n",
       "    </tr>\n",
       "    <tr>\n",
       "      <th>5</th>\n",
       "      <td>5</td>\n",
       "      <td>5.124858e+06</td>\n",
       "    </tr>\n",
       "    <tr>\n",
       "      <th>6</th>\n",
       "      <td>6</td>\n",
       "      <td>5.710518e+06</td>\n",
       "    </tr>\n",
       "    <tr>\n",
       "      <th>7</th>\n",
       "      <td>9</td>\n",
       "      <td>1.901121e+07</td>\n",
       "    </tr>\n",
       "  </tbody>\n",
       "</table>\n",
       "</div>"
      ],
      "text/plain": [
       "  division_id  item_transaction_amt\n",
       "0           1          1.195827e+07\n",
       "1          10          2.722203e+04\n",
       "2           2          1.303302e+07\n",
       "3           3          5.355936e+06\n",
       "4           4          1.416551e+07\n",
       "5           5          5.124858e+06\n",
       "6           6          5.710518e+06\n",
       "7           9          1.901121e+07"
      ]
     },
     "execution_count": 25,
     "metadata": {},
     "output_type": "execute_result"
    }
   ],
   "source": [
    "qc_df=pd.read_table(file,dtype=str,sep=\"|\",\n",
    "                    usecols=['location_id','transaction_dt','transaction_id','customer_id_hashed','class_code_id','subclass_id','item_transaction_amt'])\n",
    "qc_df['item_transaction_amt']=qc_df['item_transaction_amt'].astype(float)\n",
    "qc_df=pd.merge(qc_df,df_product_taxonomy,on=['class_code_id','subclass_id'],how=\"left\")\n",
    "qc_df=qc_df.groupby(\"division_id\")['item_transaction_amt'].sum().to_frame().reset_index()\n",
    "qc_df"
   ]
  },
  {
   "cell_type": "code",
   "execution_count": 31,
   "metadata": {},
   "outputs": [
    {
     "data": {
      "text/plain": [
       "0.2555732682280726"
      ]
     },
     "execution_count": 31,
     "metadata": {},
     "output_type": "execute_result"
    }
   ],
   "source": [
    "qc_df.loc[qc_df['division_id']==\"9\",'item_transaction_amt'].values[0]/qc_df['item_transaction_amt'].sum()"
   ]
  },
  {
   "cell_type": "code",
   "execution_count": 14,
   "metadata": {},
   "outputs": [
    {
     "data": {
      "text/plain": [
       "(1426, 10)"
      ]
     },
     "execution_count": 14,
     "metadata": {},
     "output_type": "execute_result"
    }
   ],
   "source": [
    "df_output.shape"
   ]
  },
  {
   "cell_type": "code",
   "execution_count": 15,
   "metadata": {},
   "outputs": [
    {
     "data": {
      "text/html": [
       "<div>\n",
       "<style scoped>\n",
       "    .dataframe tbody tr th:only-of-type {\n",
       "        vertical-align: middle;\n",
       "    }\n",
       "\n",
       "    .dataframe tbody tr th {\n",
       "        vertical-align: top;\n",
       "    }\n",
       "\n",
       "    .dataframe thead th {\n",
       "        text-align: right;\n",
       "    }\n",
       "</style>\n",
       "<table border=\"1\" class=\"dataframe\">\n",
       "  <thead>\n",
       "    <tr style=\"text-align: right;\">\n",
       "      <th>rewards_group</th>\n",
       "      <th>location_id</th>\n",
       "      <th>Non_Rewards_total_sales</th>\n",
       "      <th>Rewards_total_sales</th>\n",
       "      <th>total_sales</th>\n",
       "      <th>Non_Rewards_furniture_sales</th>\n",
       "      <th>Rewards_furniture_sales</th>\n",
       "      <th>furniture_sales</th>\n",
       "      <th>total_fur_share</th>\n",
       "      <th>rank</th>\n",
       "      <th>store_furniture_group</th>\n",
       "    </tr>\n",
       "  </thead>\n",
       "  <tbody>\n",
       "    <tr>\n",
       "      <th>615</th>\n",
       "      <td>371</td>\n",
       "      <td>15895.01</td>\n",
       "      <td>37849.90</td>\n",
       "      <td>53744.91</td>\n",
       "      <td>856.600000</td>\n",
       "      <td>2432.106667</td>\n",
       "      <td>3288.706667</td>\n",
       "      <td>0.061191</td>\n",
       "      <td>1</td>\n",
       "      <td>High</td>\n",
       "    </tr>\n",
       "    <tr>\n",
       "      <th>372</th>\n",
       "      <td>175</td>\n",
       "      <td>12611.88</td>\n",
       "      <td>19807.47</td>\n",
       "      <td>32419.35</td>\n",
       "      <td>646.150000</td>\n",
       "      <td>774.020000</td>\n",
       "      <td>1420.170000</td>\n",
       "      <td>0.043806</td>\n",
       "      <td>2</td>\n",
       "      <td>High</td>\n",
       "    </tr>\n",
       "    <tr>\n",
       "      <th>186</th>\n",
       "      <td>1392</td>\n",
       "      <td>358571.32</td>\n",
       "      <td>1013726.08</td>\n",
       "      <td>1372297.40</td>\n",
       "      <td>8947.279231</td>\n",
       "      <td>40246.630769</td>\n",
       "      <td>49193.910000</td>\n",
       "      <td>0.035848</td>\n",
       "      <td>3</td>\n",
       "      <td>High</td>\n",
       "    </tr>\n",
       "    <tr>\n",
       "      <th>607</th>\n",
       "      <td>344</td>\n",
       "      <td>26670.60</td>\n",
       "      <td>36458.30</td>\n",
       "      <td>63128.90</td>\n",
       "      <td>732.393333</td>\n",
       "      <td>1447.023333</td>\n",
       "      <td>2179.416667</td>\n",
       "      <td>0.034523</td>\n",
       "      <td>4</td>\n",
       "      <td>High</td>\n",
       "    </tr>\n",
       "    <tr>\n",
       "      <th>1345</th>\n",
       "      <td>5388</td>\n",
       "      <td>498476.58</td>\n",
       "      <td>1008650.36</td>\n",
       "      <td>1507126.94</td>\n",
       "      <td>16726.256154</td>\n",
       "      <td>34858.624615</td>\n",
       "      <td>51584.880769</td>\n",
       "      <td>0.034227</td>\n",
       "      <td>5</td>\n",
       "      <td>High</td>\n",
       "    </tr>\n",
       "    <tr>\n",
       "      <th>...</th>\n",
       "      <td>...</td>\n",
       "      <td>...</td>\n",
       "      <td>...</td>\n",
       "      <td>...</td>\n",
       "      <td>...</td>\n",
       "      <td>...</td>\n",
       "      <td>...</td>\n",
       "      <td>...</td>\n",
       "      <td>...</td>\n",
       "      <td>...</td>\n",
       "    </tr>\n",
       "    <tr>\n",
       "      <th>731</th>\n",
       "      <td>4225</td>\n",
       "      <td>680386.87</td>\n",
       "      <td>1376007.22</td>\n",
       "      <td>2056394.09</td>\n",
       "      <td>-17.614444</td>\n",
       "      <td>39.760833</td>\n",
       "      <td>22.146389</td>\n",
       "      <td>0.000011</td>\n",
       "      <td>1422</td>\n",
       "      <td>Low</td>\n",
       "    </tr>\n",
       "    <tr>\n",
       "      <th>643</th>\n",
       "      <td>4046</td>\n",
       "      <td>363005.54</td>\n",
       "      <td>555443.90</td>\n",
       "      <td>918449.44</td>\n",
       "      <td>29.990000</td>\n",
       "      <td>-28.993333</td>\n",
       "      <td>0.996667</td>\n",
       "      <td>0.000001</td>\n",
       "      <td>1423</td>\n",
       "      <td>Low</td>\n",
       "    </tr>\n",
       "    <tr>\n",
       "      <th>764</th>\n",
       "      <td>4286</td>\n",
       "      <td>608901.04</td>\n",
       "      <td>778742.29</td>\n",
       "      <td>1387643.33</td>\n",
       "      <td>-10.527500</td>\n",
       "      <td>-0.248000</td>\n",
       "      <td>-10.775500</td>\n",
       "      <td>-0.000008</td>\n",
       "      <td>1424</td>\n",
       "      <td>Low</td>\n",
       "    </tr>\n",
       "    <tr>\n",
       "      <th>653</th>\n",
       "      <td>4068</td>\n",
       "      <td>514050.59</td>\n",
       "      <td>619995.43</td>\n",
       "      <td>1134046.02</td>\n",
       "      <td>-46.500000</td>\n",
       "      <td>20.971667</td>\n",
       "      <td>-25.528333</td>\n",
       "      <td>-0.000023</td>\n",
       "      <td>1425</td>\n",
       "      <td>Low</td>\n",
       "    </tr>\n",
       "    <tr>\n",
       "      <th>780</th>\n",
       "      <td>4321</td>\n",
       "      <td>245959.08</td>\n",
       "      <td>352727.03</td>\n",
       "      <td>598686.11</td>\n",
       "      <td>-102.243333</td>\n",
       "      <td>-12.135000</td>\n",
       "      <td>-114.378333</td>\n",
       "      <td>-0.000191</td>\n",
       "      <td>1426</td>\n",
       "      <td>Low</td>\n",
       "    </tr>\n",
       "  </tbody>\n",
       "</table>\n",
       "<p>1426 rows × 10 columns</p>\n",
       "</div>"
      ],
      "text/plain": [
       "rewards_group  location_id  Non_Rewards_total_sales  Rewards_total_sales  \\\n",
       "615                    371                 15895.01             37849.90   \n",
       "372                    175                 12611.88             19807.47   \n",
       "186                   1392                358571.32           1013726.08   \n",
       "607                    344                 26670.60             36458.30   \n",
       "1345                  5388                498476.58           1008650.36   \n",
       "...                    ...                      ...                  ...   \n",
       "731                   4225                680386.87           1376007.22   \n",
       "643                   4046                363005.54            555443.90   \n",
       "764                   4286                608901.04            778742.29   \n",
       "653                   4068                514050.59            619995.43   \n",
       "780                   4321                245959.08            352727.03   \n",
       "\n",
       "rewards_group  total_sales  Non_Rewards_furniture_sales  \\\n",
       "615               53744.91                   856.600000   \n",
       "372               32419.35                   646.150000   \n",
       "186             1372297.40                  8947.279231   \n",
       "607               63128.90                   732.393333   \n",
       "1345            1507126.94                 16726.256154   \n",
       "...                    ...                          ...   \n",
       "731             2056394.09                   -17.614444   \n",
       "643              918449.44                    29.990000   \n",
       "764             1387643.33                   -10.527500   \n",
       "653             1134046.02                   -46.500000   \n",
       "780              598686.11                  -102.243333   \n",
       "\n",
       "rewards_group  Rewards_furniture_sales  furniture_sales  total_fur_share  \\\n",
       "615                        2432.106667      3288.706667         0.061191   \n",
       "372                         774.020000      1420.170000         0.043806   \n",
       "186                       40246.630769     49193.910000         0.035848   \n",
       "607                        1447.023333      2179.416667         0.034523   \n",
       "1345                      34858.624615     51584.880769         0.034227   \n",
       "...                                ...              ...              ...   \n",
       "731                          39.760833        22.146389         0.000011   \n",
       "643                         -28.993333         0.996667         0.000001   \n",
       "764                          -0.248000       -10.775500        -0.000008   \n",
       "653                          20.971667       -25.528333        -0.000023   \n",
       "780                         -12.135000      -114.378333        -0.000191   \n",
       "\n",
       "rewards_group  rank store_furniture_group  \n",
       "615               1                  High  \n",
       "372               2                  High  \n",
       "186               3                  High  \n",
       "607               4                  High  \n",
       "1345              5                  High  \n",
       "...             ...                   ...  \n",
       "731            1422                   Low  \n",
       "643            1423                   Low  \n",
       "764            1424                   Low  \n",
       "653            1425                   Low  \n",
       "780            1426                   Low  \n",
       "\n",
       "[1426 rows x 10 columns]"
      ]
     },
     "execution_count": 15,
     "metadata": {},
     "output_type": "execute_result"
    }
   ],
   "source": [
    "df_output"
   ]
  },
  {
   "cell_type": "code",
   "execution_count": 17,
   "metadata": {},
   "outputs": [
    {
     "data": {
      "text/plain": [
       "74386545.82999991"
      ]
     },
     "execution_count": 17,
     "metadata": {},
     "output_type": "execute_result"
    }
   ],
   "source": [
    "df['sales'].sum()"
   ]
  },
  {
   "cell_type": "code",
   "execution_count": 19,
   "metadata": {},
   "outputs": [
    {
     "data": {
      "text/plain": [
       "19011212.62999998"
      ]
     },
     "execution_count": 19,
     "metadata": {},
     "output_type": "execute_result"
    }
   ],
   "source": [
    "df[df['division_id']==\"9\"]['sales'].sum()"
   ]
  },
  {
   "cell_type": "code",
   "execution_count": 20,
   "metadata": {},
   "outputs": [
    {
     "data": {
      "text/plain": [
       "0.2555732682284705"
      ]
     },
     "execution_count": 20,
     "metadata": {},
     "output_type": "execute_result"
    }
   ],
   "source": [
    "19011212.62999998/74386545.82999991"
   ]
  },
  {
   "cell_type": "code",
   "execution_count": null,
   "metadata": {},
   "outputs": [],
   "source": []
  }
 ],
 "metadata": {
  "kernelspec": {
   "display_name": "Python 3",
   "language": "python",
   "name": "python3"
  },
  "language_info": {
   "codemirror_mode": {
    "name": "ipython",
    "version": 3
   },
   "file_extension": ".py",
   "mimetype": "text/x-python",
   "name": "python",
   "nbconvert_exporter": "python",
   "pygments_lexer": "ipython3",
   "version": "3.6.1"
  }
 },
 "nbformat": 4,
 "nbformat_minor": 2
}
