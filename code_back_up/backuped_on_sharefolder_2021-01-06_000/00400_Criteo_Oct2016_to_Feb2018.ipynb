{
 "cells": [
  {
   "cell_type": "code",
   "execution_count": 16,
   "metadata": {
    "collapsed": true
   },
   "outputs": [],
   "source": [
    "import pandas as pd\n",
    "import numpy as np\n",
    "import datetime\n"
   ]
  },
  {
   "cell_type": "code",
   "execution_count": 17,
   "metadata": {
    "collapsed": true
   },
   "outputs": [],
   "source": [
    "Criteo_by_Day=pd.read_csv(\"/Users/Jian/Desktop/Media Storm/Big Lots/TMR/Jian_TMR_Update/Repull March 23/Criteo/Extract_20161001_20180228.csv\",sep=\";\")\n"
   ]
  },
  {
   "cell_type": "code",
   "execution_count": 18,
   "metadata": {
    "collapsed": true
   },
   "outputs": [],
   "source": [
    "Criteo_by_Day['Day']=Criteo_by_Day['Day'].apply(lambda x: datetime.datetime.strptime(x,\"%a %m/%d/%Y\").date())\n",
    "Criteo_by_Day=Criteo_by_Day[(Criteo_by_Day['Day']>=datetime.datetime.strptime('2016-10-02',\"%Y-%m-%d\").date()) & (Criteo_by_Day['Day']<=datetime.datetime.strptime('2018-02-28',\"%Y-%m-%d\").date())]\n",
    "Criteo_by_Day['weekday']=Criteo_by_Day['Day'].apply(lambda x:x.weekday())\n",
    "Criteo_by_Day=Criteo_by_Day.reset_index()\n",
    "del Criteo_by_Day['index']\n",
    "Criteo_by_Day['week_start_date']=np.where(Criteo_by_Day['weekday']==6,\n",
    "                                          Criteo_by_Day['Day'],\n",
    "                                         Criteo_by_Day['Day'].apply(lambda x:x-datetime.timedelta(days=(x.weekday()+1))))\n",
    "Criteo_by_Day['week_end_date']=Criteo_by_Day['week_start_date']+datetime.timedelta(days=6)"
   ]
  },
  {
   "cell_type": "code",
   "execution_count": 19,
   "metadata": {
    "collapsed": true
   },
   "outputs": [],
   "source": [
    "Criteo_by_Day['media']=\"Digital\"\n",
    "Criteo_by_Day['submedia']=\"Programmatic\"\n",
    "Criteo_by_Day['placement']=\"Criteo\"\n",
    "Criteo_by_Day['cleaned dma']=\"National\"\n",
    "Criteo_by_Day=Criteo_by_Day[['week_start_date','week_end_date','cleaned dma','media','submedia','placement','Impressions','Clicks','Cost']]\n",
    "Criteo_by_Day.rename(columns={'Impressions':'impression','Clicks':'click','Cost':'cost'}, inplace=True)"
   ]
  },
  {
   "cell_type": "code",
   "execution_count": 21,
   "metadata": {
    "collapsed": true
   },
   "outputs": [],
   "source": [
    "Criteo_by_Day.to_csv(\"/Users/Jian/Desktop/Media Storm/Big Lots/TMR/Jian_TMR_Update/Criteo_TMR_Weekly_Till_20180228.csv\",index=False)"
   ]
  },
  {
   "cell_type": "code",
   "execution_count": null,
   "metadata": {
    "collapsed": true
   },
   "outputs": [],
   "source": []
  }
 ],
 "metadata": {
  "kernelspec": {
   "display_name": "Python 3",
   "language": "python",
   "name": "python3"
  },
  "language_info": {
   "codemirror_mode": {
    "name": "ipython",
    "version": 3
   },
   "file_extension": ".py",
   "mimetype": "text/x-python",
   "name": "python",
   "nbconvert_exporter": "python",
   "pygments_lexer": "ipython3",
   "version": "3.6.1"
  }
 },
 "nbformat": 4,
 "nbformat_minor": 2
}
