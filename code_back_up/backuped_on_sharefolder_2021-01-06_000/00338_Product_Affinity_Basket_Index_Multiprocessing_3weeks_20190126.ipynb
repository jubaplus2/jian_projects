{
 "cells": [
  {
   "cell_type": "code",
   "execution_count": 1,
   "metadata": {
    "collapsed": true
   },
   "outputs": [],
   "source": [
    "import pandas as pd\n",
    "import numpy as np\n",
    "import datetime\n",
    "import os\n",
    "import logging\n",
    "import gc\n",
    "from multiprocessing import Pool\n",
    "from functools import partial\n",
    "\n",
    "price_threshold=10\n",
    "logging.basicConfig(filename='V2_Multiprocessing_20190126.log', level=logging.INFO)"
   ]
  },
  {
   "cell_type": "code",
   "execution_count": null,
   "metadata": {
    "collapsed": true
   },
   "outputs": [],
   "source": []
  },
  {
   "cell_type": "code",
   "execution_count": 2,
   "metadata": {},
   "outputs": [
    {
     "name": "stdout",
     "output_type": "stream",
     "text": [
      "2019-02-16\n",
      "2019-01-26\n"
     ]
    }
   ],
   "source": [
    "last_saturday=datetime.datetime.now().date()-datetime.timedelta(days=(datetime.datetime.now().date().weekday()+2))\n",
    "print(last_saturday)\n",
    "last_saturday=datetime.date(2019,1,26) # To be changed to the running Tuesday\n",
    "print(last_saturday)"
   ]
  },
  {
   "cell_type": "code",
   "execution_count": 3,
   "metadata": {
    "collapsed": true
   },
   "outputs": [],
   "source": [
    "output_folder=\"/home/jian/celery/DBasket/output/\"\n",
    "\n",
    "output_folder=output_folder+str(last_saturday)+\"/\"\n",
    "\n",
    "try:\n",
    "    os.stat(output_folder)\n",
    "except:\n",
    "    os.mkdir(output_folder)"
   ]
  },
  {
   "cell_type": "code",
   "execution_count": 4,
   "metadata": {
    "collapsed": true
   },
   "outputs": [],
   "source": [
    "def recursive_file_gen(my_root_dir):\n",
    "    for root, dirs, files in os.walk(my_root_dir):\n",
    "        for file in files:\n",
    "            yield os.path.join(root, file)\n",
    "            \n",
    "most_recent_daily_data=list(recursive_file_gen(\"/home/jian/BigLots/\"))\n",
    "most_recent_daily_data=[x for x in most_recent_daily_data if (\"MediaStormDailySales\" in x) and (str(last_saturday) in x)]\n",
    "\n",
    "if len(most_recent_daily_data)==1:\n",
    "    most_recent_daily_data=most_recent_daily_data[0]\n",
    "else:\n",
    "    most_recent_daily_data=np.nan\n",
    "    logging.info(\"Last Weekly Daily Data Error\", str(datetime.datetime.now()))"
   ]
  },
  {
   "cell_type": "code",
   "execution_count": 5,
   "metadata": {},
   "outputs": [
    {
     "data": {
      "text/plain": [
       "'/home/jian/BigLots/2019_by_weeks/MediaStorm_2019-01-26/MediaStormDailySales20190129-111506-486.txt'"
      ]
     },
     "execution_count": 5,
     "metadata": {},
     "output_type": "execute_result"
    }
   ],
   "source": [
    "most_recent_daily_data"
   ]
  },
  {
   "cell_type": "code",
   "execution_count": 6,
   "metadata": {},
   "outputs": [
    {
     "name": "stdout",
     "output_type": "stream",
     "text": [
      "len_sub_class_id: [1 2 3]\n",
      "len_class_code_id: [5]\n"
     ]
    }
   ],
   "source": [
    "data=pd.read_table(most_recent_daily_data,dtype=str,sep=\"|\")\n",
    "print(\"len_sub_class_id:\",data['subclass_id'].apply(lambda x: len(x)).unique())\n",
    "print(\"len_class_code_id:\",data['class_code_id'].apply(lambda x: len(x)).unique())\n",
    "data['subclass_id']=data['subclass_id'].apply(lambda x: x.zfill(3))\n",
    "data['product_comb']=data['class_code_id']+\"-\"+data['subclass_id']\n",
    "\n",
    "data['subclass_transaction_amt']=data['subclass_transaction_amt'].astype(float)\n",
    "data['subclass_transaction_units']=data['subclass_transaction_units'].astype(int)\n",
    "data=data[(data['subclass_transaction_amt']>0) & (data['subclass_transaction_units']>0)]\n",
    "\n",
    "data['price']=data['subclass_transaction_amt']/data['subclass_transaction_units']\n"
   ]
  },
  {
   "cell_type": "code",
   "execution_count": null,
   "metadata": {},
   "outputs": [],
   "source": []
  },
  {
   "cell_type": "code",
   "execution_count": 7,
   "metadata": {
    "collapsed": true
   },
   "outputs": [],
   "source": [
    "taxonomy=pd.read_csv(\"/home/jian/BigLots/static_files/ProductTaxonomy/MediaStormProductTaxonomy20190201-133832-059.txt\",dtype=str,sep=\"|\")\n",
    "taxonomy['subclass_id']=taxonomy['subclass_id'].apply(lambda x: x.zfill(3))\n",
    "division_id_id_name=pd.read_table(\"/home/jian/BigLots/static_files/MediaStorm Data Extract - Division Names.txt\",dtype=str,sep=\"|\")\n",
    "department_id_name=pd.read_table(\"/home/jian/BigLots/static_files/MediaStorm Data Extract - Department Names.txt\",dtype=str,sep=\"|\")\n",
    "class_id_name=pd.read_table(\"/home/jian/BigLots/static_files/MediaStorm Data Extract - Class Names.txt\",dtype=str,sep=\"|\",encoding ='ISO-8859-1')\n",
    "# \n",
    "\n",
    "data_item_avg_price=data[['product_comb','price']].groupby(['product_comb'])['price'].mean().to_frame().reset_index()\n",
    "data_item_avg_price=data_item_avg_price.rename(columns={\"price\":\"avg_price\"})\n",
    "\n",
    "data_item_avg_price['class_code_id']=data_item_avg_price['product_comb'].apply(lambda x: x.split(\"-\")[0])\n",
    "data_item_avg_price['subclass_id']=data_item_avg_price['product_comb'].apply(lambda x: x.split(\"-\")[1])\n",
    "\n",
    "data_item_avg_price=pd.merge(data_item_avg_price,taxonomy,on=['class_code_id','subclass_id'],how=\"left\")\n",
    "\n",
    "\n",
    "data_item_avg_price=pd.merge(data_item_avg_price,division_id_id_name,on=\"division_id\",how=\"left\")\n",
    "data_item_avg_price=pd.merge(data_item_avg_price,department_id_name,on=\"department_id\",how=\"left\")\n",
    "data_item_avg_price=pd.merge(data_item_avg_price,class_id_name,on=\"class_code_id\",how=\"left\")\n",
    "data_item_avg_price=data_item_avg_price[['product_comb','avg_price','division_id','division_desc','department_id','department_desc',\n",
    "                                         'class_code_id','class_code_desc','subclass_id','subclass_desc']]\n",
    "\n",
    "data_item_avg_price.to_csv(output_folder+\"/Price_\"+str(last_saturday)+\".csv\",index=False)"
   ]
  },
  {
   "cell_type": "code",
   "execution_count": 8,
   "metadata": {},
   "outputs": [
    {
     "name": "stdout",
     "output_type": "stream",
     "text": [
      "(11438315, 10)\n",
      "(926237, 10)\n"
     ]
    }
   ],
   "source": [
    "# $10 of all items as in the email on 2019-01-14\n",
    "\n",
    "product_comb_under_10_set=set(data_item_avg_price[data_item_avg_price['avg_price']<price_threshold]['product_comb'].unique().tolist())\n",
    "product_comb_10_and_above_list=data_item_avg_price[data_item_avg_price['avg_price']>=10]['product_comb'].unique().tolist()\n",
    "product_comb_10_and_above_df=data_item_avg_price.sort_values('avg_price',ascending=False)\n",
    "product_comb_10_and_above_df=product_comb_10_and_above_df[product_comb_10_and_above_df['avg_price']>=10].reset_index()\n",
    "del product_comb_10_and_above_df['index']\n",
    "\n",
    "print(data.shape)\n",
    "data=data[~data['product_comb'].isin(product_comb_under_10_set)]\n",
    "data_under_10=data[data['product_comb'].isin(product_comb_under_10_set)]\n",
    "data=data.reset_index()\n",
    "del data['index']\n",
    "print(data.shape)\n",
    "dict_item_avg_price=data_item_avg_price.set_index(['product_comb'])['avg_price'].to_dict()"
   ]
  },
  {
   "cell_type": "code",
   "execution_count": 9,
   "metadata": {},
   "outputs": [
    {
     "name": "stdout",
     "output_type": "stream",
     "text": [
      "Rewards - Row_RawData: (598533, 8)\n",
      "Rewards - Unique_id: 381977\n",
      "Non_Rewards - Row_RawData: (327704, 8)\n",
      "Non_Rewards - Unique_id: 1\n"
     ]
    },
    {
     "data": {
      "text/plain": [
       "196"
      ]
     },
     "execution_count": 9,
     "metadata": {},
     "output_type": "execute_result"
    }
   ],
   "source": [
    "del data['class_code_id']\n",
    "del data['subclass_id']\n",
    "data_NonRewards=data[pd.isnull(data['customer_id_hashed'])]\n",
    "data_Rewards=data[~pd.isnull(data['customer_id_hashed'])]\n",
    "\n",
    "print(\"Rewards - Row_RawData:\",data_Rewards.shape)\n",
    "print(\"Rewards - Unique_id:\", len(data_Rewards['customer_id_hashed'].unique()))\n",
    "\n",
    "print(\"Non_Rewards - Row_RawData:\",data_NonRewards.shape)\n",
    "print(\"Non_Rewards - Unique_id:\", len(data_NonRewards['customer_id_hashed'].unique()))\n",
    "# data=data[(data['subclass_transaction_amt']>0) & (data['subclass_transaction_units']>0)] #Already filtered at the beginning\n",
    "\n",
    "gc.collect()"
   ]
  },
  {
   "cell_type": "code",
   "execution_count": 50,
   "metadata": {},
   "outputs": [
    {
     "data": {
      "text/plain": [
       "(598533, 8)"
      ]
     },
     "execution_count": 50,
     "metadata": {},
     "output_type": "execute_result"
    }
   ],
   "source": [
    "data_Rewards.shape"
   ]
  },
  {
   "cell_type": "code",
   "execution_count": 11,
   "metadata": {},
   "outputs": [
    {
     "data": {
      "text/plain": [
       "(420169, 4)"
      ]
     },
     "execution_count": 11,
     "metadata": {},
     "output_type": "execute_result"
    }
   ],
   "source": [
    "data_Rewards[['location_id','transaction_dt','transaction_id','customer_id_hashed']].drop_duplicates().shape"
   ]
  },
  {
   "cell_type": "code",
   "execution_count": 12,
   "metadata": {
    "collapsed": true
   },
   "outputs": [],
   "source": [
    "def count_unique(x):\n",
    "    return len(set(x))"
   ]
  },
  {
   "cell_type": "markdown",
   "metadata": {},
   "source": [
    "# Get the count of actual transactions"
   ]
  },
  {
   "cell_type": "code",
   "execution_count": 13,
   "metadata": {
    "collapsed": true
   },
   "outputs": [],
   "source": [
    "Rewards_transactions_list=data_Rewards.groupby(['location_id','transaction_dt','transaction_id','customer_id_hashed'])['product_comb'].apply(list).to_frame().reset_index().rename(columns={\"product_comb\":\"basket_list\"})\n",
    "Rewards_transactions_units_sales=data_Rewards.groupby(['location_id','transaction_dt','transaction_id','customer_id_hashed'])['subclass_transaction_units','subclass_transaction_amt'].sum().reset_index().rename(columns={\"subclass_transaction_units\":\"total_item_units\",\"subclass_transaction_amt\":\"total_item_revenue\"})\n",
    "Rewards_transactions=pd.merge(Rewards_transactions_list,Rewards_transactions_units_sales,on=['location_id','transaction_dt','transaction_id','customer_id_hashed'],how=\"left\")\n",
    "Rewards_transactions['basket_str']=Rewards_transactions['basket_list'].apply(lambda x: sorted(x)).astype(str)\n",
    "Rewards_transactions['transactin_id_given']=[x for x in range(1,len(Rewards_transactions)+1)]\n",
    "Rewards_transactions['types']=Rewards_transactions['basket_list'].apply(lambda x: len(x))\n"
   ]
  },
  {
   "cell_type": "code",
   "execution_count": 14,
   "metadata": {
    "collapsed": true
   },
   "outputs": [],
   "source": [
    "Rewards_Trans_by_ID=Rewards_transactions.groupby(['customer_id_hashed'])['transactin_id_given'].count().to_frame().reset_index().rename(columns={\"transactin_id_given\":\"trans_count\"})\n",
    "\n",
    "Rewards_IDCounts_by_Trans=Rewards_Trans_by_ID.groupby(['trans_count'])['customer_id_hashed'].count().to_frame().reset_index()\n",
    "df_Rewards_IDCounts_by_Trans=Rewards_IDCounts_by_Trans.copy()\n",
    "df_Rewards_IDCounts_by_Trans['trans_count']=np.where(df_Rewards_IDCounts_by_Trans['trans_count']>=3,\"3+\",df_Rewards_IDCounts_by_Trans['trans_count'])\n",
    "df_Rewards_IDCounts_by_Trans['trans_count']=df_Rewards_IDCounts_by_Trans['trans_count'].replace(1,\"1\").replace(2,\"2\")\n",
    "df_Rewards_IDCounts_by_Trans=df_Rewards_IDCounts_by_Trans.groupby(['trans_count'])['customer_id_hashed'].sum().to_frame().reset_index().rename(columns={\"customer_id_hashed\":\"ID_Counts\"})\n",
    "df_Rewards_IDCounts_by_Trans['Label']=\"Rewards_ID\"\n",
    "df_Rewards_IDCounts_by_Trans=df_Rewards_IDCounts_by_Trans[['Label','trans_count','ID_Counts']]"
   ]
  },
  {
   "cell_type": "code",
   "execution_count": 15,
   "metadata": {},
   "outputs": [
    {
     "data": {
      "text/html": [
       "<div>\n",
       "<style>\n",
       "    .dataframe thead tr:only-child th {\n",
       "        text-align: right;\n",
       "    }\n",
       "\n",
       "    .dataframe thead th {\n",
       "        text-align: left;\n",
       "    }\n",
       "\n",
       "    .dataframe tbody tr th {\n",
       "        vertical-align: top;\n",
       "    }\n",
       "</style>\n",
       "<table border=\"1\" class=\"dataframe\">\n",
       "  <thead>\n",
       "    <tr style=\"text-align: right;\">\n",
       "      <th></th>\n",
       "      <th>Label</th>\n",
       "      <th>trans_count</th>\n",
       "      <th>ID_Counts</th>\n",
       "    </tr>\n",
       "  </thead>\n",
       "  <tbody>\n",
       "    <tr>\n",
       "      <th>0</th>\n",
       "      <td>Rewards_ID</td>\n",
       "      <td>1</td>\n",
       "      <td>350009</td>\n",
       "    </tr>\n",
       "    <tr>\n",
       "      <th>1</th>\n",
       "      <td>Rewards_ID</td>\n",
       "      <td>2</td>\n",
       "      <td>27668</td>\n",
       "    </tr>\n",
       "    <tr>\n",
       "      <th>2</th>\n",
       "      <td>Rewards_ID</td>\n",
       "      <td>3+</td>\n",
       "      <td>4300</td>\n",
       "    </tr>\n",
       "    <tr>\n",
       "      <th>3</th>\n",
       "      <td>Non_Rewards_Trans</td>\n",
       "      <td>1+</td>\n",
       "      <td>247437</td>\n",
       "    </tr>\n",
       "  </tbody>\n",
       "</table>\n",
       "</div>"
      ],
      "text/plain": [
       "               Label trans_count  ID_Counts\n",
       "0         Rewards_ID           1     350009\n",
       "1         Rewards_ID           2      27668\n",
       "2         Rewards_ID          3+       4300\n",
       "3  Non_Rewards_Trans          1+     247437"
      ]
     },
     "execution_count": 15,
     "metadata": {},
     "output_type": "execute_result"
    }
   ],
   "source": [
    "df_Non_Rewards_Trans_Count=data_NonRewards[['location_id','transaction_dt','transaction_id']].drop_duplicates()\n",
    "\n",
    "df_output_1_count_by_trans_of_ids_price_10Plus=df_Rewards_IDCounts_by_Trans.append(pd.DataFrame({'Label':\"Non_Rewards_Trans\",'trans_count':\"1+\",'ID_Counts':len(df_Non_Rewards_Trans_Count)},index=[3]))\n",
    "df_output_1_count_by_trans_of_ids_price_10Plus=df_output_1_count_by_trans_of_ids_price_10Plus[['Label','trans_count','ID_Counts']]\n",
    "df_output_1_count_by_trans_of_ids_price_10Plus"
   ]
  },
  {
   "cell_type": "code",
   "execution_count": 16,
   "metadata": {
    "collapsed": true
   },
   "outputs": [],
   "source": [
    "Rewards_data_transactions_list=data_Rewards.groupby(['location_id','transaction_dt','transaction_id','customer_id_hashed'])['product_comb'].apply(list).to_frame().reset_index().rename(columns={\"product_comb\":\"basket_list\"})\n",
    "Rewards_data_transactions_units_sales=data_Rewards.groupby(['location_id','transaction_dt','transaction_id','customer_id_hashed'])['subclass_transaction_units','subclass_transaction_amt'].sum().reset_index().rename(columns={\"subclass_transaction_units\":\"total_item_units\",\"subclass_transaction_amt\":\"total_item_revenue\"})\n",
    "\n",
    "Rewards_data_transactions=pd.merge(Rewards_data_transactions_list,Rewards_data_transactions_units_sales,on=['location_id','transaction_dt','transaction_id','customer_id_hashed'],how=\"left\")\n",
    "Rewards_data_transactions['basket_str']=Rewards_data_transactions['basket_list'].apply(lambda x: sorted(x)).astype(str)\n",
    "Rewards_data_transactions['transactin_id_given']=[x for x in range(1,len(Rewards_data_transactions)+1)]\n",
    "Rewards_data_transactions['types']=Rewards_data_transactions['basket_list'].apply(lambda x: len(x))\n",
    "\n",
    "# To save\n",
    "\n",
    "\n",
    "Rewards_data_transactions=pd.merge(data_Rewards,Rewards_data_transactions,on=[\"location_id\",\"transaction_dt\",\"transaction_id\",\"customer_id_hashed\"],how=\"left\")\n",
    "apply_func={\"subclass_transaction_units\":\"sum\",\"transactin_id_given\":\"count\",\"subclass_transaction_amt\":\"sum\"}\n",
    "\n",
    "single_prod_df=Rewards_data_transactions.groupby(['product_comb'])['subclass_transaction_units','transactin_id_given','subclass_transaction_amt'].agg(apply_func).reset_index().rename(columns={\"subclass_transaction_units\":\"Total_Units\",\"transactin_id_given\":\"Total_Trans\",\"subclass_transaction_amt\":\"revenue\"})\n",
    "total_unit=single_prod_df['Total_Units'].sum()\n",
    "total_trans=len(Rewards_data_transactions)\n",
    "\n",
    "single_prod_df['prob_unit']=single_prod_df['Total_Units']/total_unit\n",
    "single_prod_df['prob_tran']=single_prod_df['Total_Trans']/total_trans\n",
    "\n",
    "dict_single_prod_unit=single_prod_df.set_index(['product_comb'])['prob_unit'].to_dict()\n",
    "dict_single_prod_tran=single_prod_df.set_index(['product_comb'])['prob_tran'].to_dict()\n"
   ]
  },
  {
   "cell_type": "code",
   "execution_count": 17,
   "metadata": {
    "collapsed": true
   },
   "outputs": [],
   "source": [
    "Rewards_Trans_by_ID=Rewards_Trans_by_ID.rename(columns={\"trans_count\":\"trans_count_by_id\"})\n",
    "Rewards_data_transactions=pd.merge(Rewards_data_transactions,Rewards_Trans_by_ID,on=\"customer_id_hashed\",how=\"left\")\n",
    "Rewards_data_transactions['trans_count_by_id']=np.where(Rewards_data_transactions['trans_count_by_id']>=3,\"3+\",Rewards_data_transactions['trans_count_by_id'])\n",
    "Rewards_data_transactions['trans_count_by_id']=Rewards_data_transactions['trans_count_by_id'].replace(1,\"1\").replace(2,\"2\")\n"
   ]
  },
  {
   "cell_type": "code",
   "execution_count": 18,
   "metadata": {},
   "outputs": [
    {
     "data": {
      "text/plain": [
       "(598533, 15)"
      ]
     },
     "execution_count": 18,
     "metadata": {},
     "output_type": "execute_result"
    }
   ],
   "source": [
    "Rewards_data_transactions.shape"
   ]
  },
  {
   "cell_type": "code",
   "execution_count": 19,
   "metadata": {},
   "outputs": [
    {
     "data": {
      "text/html": [
       "<div>\n",
       "<style>\n",
       "    .dataframe thead tr:only-child th {\n",
       "        text-align: right;\n",
       "    }\n",
       "\n",
       "    .dataframe thead th {\n",
       "        text-align: left;\n",
       "    }\n",
       "\n",
       "    .dataframe tbody tr th {\n",
       "        vertical-align: top;\n",
       "    }\n",
       "</style>\n",
       "<table border=\"1\" class=\"dataframe\">\n",
       "  <thead>\n",
       "    <tr style=\"text-align: right;\">\n",
       "      <th>trans_count_by_id</th>\n",
       "      <th>item_types</th>\n",
       "      <th>1</th>\n",
       "      <th>2</th>\n",
       "      <th>3+</th>\n",
       "      <th>Label</th>\n",
       "    </tr>\n",
       "  </thead>\n",
       "  <tbody>\n",
       "    <tr>\n",
       "      <th>0</th>\n",
       "      <td>1</td>\n",
       "      <td>258806</td>\n",
       "      <td>38048</td>\n",
       "      <td>9977</td>\n",
       "      <td>Rewards</td>\n",
       "    </tr>\n",
       "    <tr>\n",
       "      <th>1</th>\n",
       "      <td>2</td>\n",
       "      <td>61944</td>\n",
       "      <td>10920</td>\n",
       "      <td>2994</td>\n",
       "      <td>Rewards</td>\n",
       "    </tr>\n",
       "    <tr>\n",
       "      <th>2</th>\n",
       "      <td>3</td>\n",
       "      <td>18449</td>\n",
       "      <td>3740</td>\n",
       "      <td>1023</td>\n",
       "      <td>Rewards</td>\n",
       "    </tr>\n",
       "    <tr>\n",
       "      <th>3</th>\n",
       "      <td>4</td>\n",
       "      <td>6256</td>\n",
       "      <td>1378</td>\n",
       "      <td>406</td>\n",
       "      <td>Rewards</td>\n",
       "    </tr>\n",
       "    <tr>\n",
       "      <th>4</th>\n",
       "      <td>5</td>\n",
       "      <td>2405</td>\n",
       "      <td>663</td>\n",
       "      <td>215</td>\n",
       "      <td>Rewards</td>\n",
       "    </tr>\n",
       "    <tr>\n",
       "      <th>5</th>\n",
       "      <td>6+</td>\n",
       "      <td>2149</td>\n",
       "      <td>587</td>\n",
       "      <td>209</td>\n",
       "      <td>Rewards</td>\n",
       "    </tr>\n",
       "  </tbody>\n",
       "</table>\n",
       "</div>"
      ],
      "text/plain": [
       "trans_count_by_id item_types       1      2    3+    Label\n",
       "0                          1  258806  38048  9977  Rewards\n",
       "1                          2   61944  10920  2994  Rewards\n",
       "2                          3   18449   3740  1023  Rewards\n",
       "3                          4    6256   1378   406  Rewards\n",
       "4                          5    2405    663   215  Rewards\n",
       "5                         6+    2149    587   209  Rewards"
      ]
     },
     "execution_count": 19,
     "metadata": {},
     "output_type": "execute_result"
    }
   ],
   "source": [
    "df_output_2_1_count_by_trans_of_ids_price_10Plus=Rewards_data_transactions.groupby(['trans_count_by_id','types'])['transactin_id_given'].apply(count_unique).reset_index().rename(columns={\"transactin_id_given\":\"Transaction_Count\"})\n",
    "df_output_2_1_count_by_trans_of_ids_price_10Plus_actual=df_output_2_1_count_by_trans_of_ids_price_10Plus.copy()\n",
    "df_output_2_1_count_by_trans_of_ids_price_10Plus['types']=np.where(df_output_2_1_count_by_trans_of_ids_price_10Plus['types']>=6,\"6+\",df_output_2_1_count_by_trans_of_ids_price_10Plus['types'])\n",
    "\n",
    "df_output_2_1_count_by_trans_of_ids_price_10Plus=df_output_2_1_count_by_trans_of_ids_price_10Plus.groupby(['trans_count_by_id','types'])['Transaction_Count'].sum().reset_index()\n",
    "df_output_2_1_count_by_trans_of_ids_price_10Plus=df_output_2_1_count_by_trans_of_ids_price_10Plus.pivot_table(index=\"types\",columns=\"trans_count_by_id\",values=\"Transaction_Count\").reset_index().rename(columns={\"types\":\"item_types\"})\n",
    "\n",
    "df_output_2_1_count_by_trans_of_ids_price_10Plus=df_output_2_1_count_by_trans_of_ids_price_10Plus.sort_values(\"item_types\")\n",
    "df_output_2_1_count_by_trans_of_ids_price_10Plus['Label']=\"Rewards\"\n",
    "df_output_2_1_count_by_trans_of_ids_price_10Plus"
   ]
  },
  {
   "cell_type": "code",
   "execution_count": 20,
   "metadata": {},
   "outputs": [
    {
     "data": {
      "text/html": [
       "<div>\n",
       "<style>\n",
       "    .dataframe thead tr:only-child th {\n",
       "        text-align: right;\n",
       "    }\n",
       "\n",
       "    .dataframe thead th {\n",
       "        text-align: left;\n",
       "    }\n",
       "\n",
       "    .dataframe tbody tr th {\n",
       "        vertical-align: top;\n",
       "    }\n",
       "</style>\n",
       "<table border=\"1\" class=\"dataframe\">\n",
       "  <thead>\n",
       "    <tr style=\"text-align: right;\">\n",
       "      <th></th>\n",
       "      <th>item_types</th>\n",
       "      <th>Transaction_Count</th>\n",
       "      <th>Label</th>\n",
       "    </tr>\n",
       "  </thead>\n",
       "  <tbody>\n",
       "    <tr>\n",
       "      <th>0</th>\n",
       "      <td>1</td>\n",
       "      <td>195298</td>\n",
       "      <td>Non_Rewards</td>\n",
       "    </tr>\n",
       "    <tr>\n",
       "      <th>1</th>\n",
       "      <td>2</td>\n",
       "      <td>36310</td>\n",
       "      <td>Non_Rewards</td>\n",
       "    </tr>\n",
       "    <tr>\n",
       "      <th>2</th>\n",
       "      <td>3</td>\n",
       "      <td>9886</td>\n",
       "      <td>Non_Rewards</td>\n",
       "    </tr>\n",
       "    <tr>\n",
       "      <th>3</th>\n",
       "      <td>4</td>\n",
       "      <td>3312</td>\n",
       "      <td>Non_Rewards</td>\n",
       "    </tr>\n",
       "    <tr>\n",
       "      <th>4</th>\n",
       "      <td>5</td>\n",
       "      <td>1265</td>\n",
       "      <td>Non_Rewards</td>\n",
       "    </tr>\n",
       "    <tr>\n",
       "      <th>5</th>\n",
       "      <td>6+</td>\n",
       "      <td>1366</td>\n",
       "      <td>Non_Rewards</td>\n",
       "    </tr>\n",
       "  </tbody>\n",
       "</table>\n",
       "</div>"
      ],
      "text/plain": [
       "  item_types  Transaction_Count        Label\n",
       "0          1             195298  Non_Rewards\n",
       "1          2              36310  Non_Rewards\n",
       "2          3               9886  Non_Rewards\n",
       "3          4               3312  Non_Rewards\n",
       "4          5               1265  Non_Rewards\n",
       "5         6+               1366  Non_Rewards"
      ]
     },
     "execution_count": 20,
     "metadata": {},
     "output_type": "execute_result"
    }
   ],
   "source": [
    "df_output_2_2_count_by_trans_of_ids_price_10Plus=data_NonRewards.groupby(['location_id','transaction_dt','transaction_id'])['product_comb'].apply(list).reset_index()\n",
    "df_output_2_2_count_by_trans_of_ids_price_10Plus['item_types']=df_output_2_2_count_by_trans_of_ids_price_10Plus['product_comb'].apply(len)\n",
    "df_output_2_2_count_by_trans_of_ids_price_10Plus_actual=df_output_2_2_count_by_trans_of_ids_price_10Plus.groupby(['item_types'])['transaction_id'].count().to_frame().reset_index()\n",
    "df_output_2_2_count_by_trans_of_ids_price_10Plus=df_output_2_2_count_by_trans_of_ids_price_10Plus_actual.copy()\n",
    "df_output_2_2_count_by_trans_of_ids_price_10Plus['item_types']=np.where(df_output_2_2_count_by_trans_of_ids_price_10Plus['item_types']>=6,\"6+\",df_output_2_2_count_by_trans_of_ids_price_10Plus['item_types'])\n",
    "df_output_2_2_count_by_trans_of_ids_price_10Plus=df_output_2_2_count_by_trans_of_ids_price_10Plus.groupby(['item_types'])['transaction_id'].sum().to_frame().reset_index().rename(columns={\"transaction_id\":\"Transaction_Count\"})\n",
    "df_output_2_2_count_by_trans_of_ids_price_10Plus['Label']=\"Non_Rewards\"\n",
    "df_output_2_2_count_by_trans_of_ids_price_10Plus"
   ]
  },
  {
   "cell_type": "code",
   "execution_count": 21,
   "metadata": {},
   "outputs": [
    {
     "data": {
      "text/html": [
       "<div>\n",
       "<style>\n",
       "    .dataframe thead tr:only-child th {\n",
       "        text-align: right;\n",
       "    }\n",
       "\n",
       "    .dataframe thead th {\n",
       "        text-align: left;\n",
       "    }\n",
       "\n",
       "    .dataframe tbody tr th {\n",
       "        vertical-align: top;\n",
       "    }\n",
       "</style>\n",
       "<table border=\"1\" class=\"dataframe\">\n",
       "  <thead>\n",
       "    <tr style=\"text-align: right;\">\n",
       "      <th></th>\n",
       "      <th>item_types</th>\n",
       "      <th>Transaction_Count</th>\n",
       "      <th>Label</th>\n",
       "    </tr>\n",
       "  </thead>\n",
       "  <tbody>\n",
       "    <tr>\n",
       "      <th>0</th>\n",
       "      <td>1</td>\n",
       "      <td>502129</td>\n",
       "      <td>Rewards_and_NonRewards</td>\n",
       "    </tr>\n",
       "    <tr>\n",
       "      <th>1</th>\n",
       "      <td>2</td>\n",
       "      <td>112168</td>\n",
       "      <td>Rewards_and_NonRewards</td>\n",
       "    </tr>\n",
       "    <tr>\n",
       "      <th>2</th>\n",
       "      <td>3</td>\n",
       "      <td>33098</td>\n",
       "      <td>Rewards_and_NonRewards</td>\n",
       "    </tr>\n",
       "    <tr>\n",
       "      <th>3</th>\n",
       "      <td>4</td>\n",
       "      <td>11352</td>\n",
       "      <td>Rewards_and_NonRewards</td>\n",
       "    </tr>\n",
       "    <tr>\n",
       "      <th>4</th>\n",
       "      <td>5</td>\n",
       "      <td>4548</td>\n",
       "      <td>Rewards_and_NonRewards</td>\n",
       "    </tr>\n",
       "    <tr>\n",
       "      <th>5</th>\n",
       "      <td>6+</td>\n",
       "      <td>4311</td>\n",
       "      <td>Rewards_and_NonRewards</td>\n",
       "    </tr>\n",
       "  </tbody>\n",
       "</table>\n",
       "</div>"
      ],
      "text/plain": [
       "  item_types  Transaction_Count                   Label\n",
       "0          1             502129  Rewards_and_NonRewards\n",
       "1          2             112168  Rewards_and_NonRewards\n",
       "2          3              33098  Rewards_and_NonRewards\n",
       "3          4              11352  Rewards_and_NonRewards\n",
       "4          5               4548  Rewards_and_NonRewards\n",
       "5         6+               4311  Rewards_and_NonRewards"
      ]
     },
     "execution_count": 21,
     "metadata": {},
     "output_type": "execute_result"
    }
   ],
   "source": [
    "data['customer_id_hashed']=data['customer_id_hashed'].fillna(\"nan\")\n",
    "df_output_3_count_by_trans_of_ids_price_10Plus=data.groupby(['location_id','transaction_dt','transaction_id','customer_id_hashed'])['product_comb'].apply(list).reset_index()\n",
    "df_output_3_count_by_trans_of_ids_price_10Plus['item_types']=df_output_3_count_by_trans_of_ids_price_10Plus['product_comb'].apply(len)\n",
    "df_output_3_count_by_trans_of_ids_price_10Plus_actual=df_output_3_count_by_trans_of_ids_price_10Plus.groupby(['item_types'])['transaction_id'].count().to_frame().reset_index()\n",
    "df_output_3_count_by_trans_of_ids_price_10Plus=df_output_3_count_by_trans_of_ids_price_10Plus_actual.copy()\n",
    "df_output_3_count_by_trans_of_ids_price_10Plus['item_types']=np.where(df_output_3_count_by_trans_of_ids_price_10Plus['item_types']>=6,\"6+\",df_output_3_count_by_trans_of_ids_price_10Plus['item_types'])\n",
    "df_output_3_count_by_trans_of_ids_price_10Plus=df_output_3_count_by_trans_of_ids_price_10Plus.groupby(['item_types'])['transaction_id'].sum().to_frame().reset_index().rename(columns={\"transaction_id\":\"Transaction_Count\"})\n",
    "df_output_3_count_by_trans_of_ids_price_10Plus['Label']=\"Rewards_and_NonRewards\"\n",
    "df_output_3_count_by_trans_of_ids_price_10Plus\n"
   ]
  },
  {
   "cell_type": "code",
   "execution_count": 22,
   "metadata": {},
   "outputs": [
    {
     "data": {
      "text/plain": [
       "102"
      ]
     },
     "execution_count": 22,
     "metadata": {},
     "output_type": "execute_result"
    }
   ],
   "source": [
    "writer=pd.ExcelWriter(output_folder+\"BL_Transaction_Summary_JL_\"+str(datetime.datetime.now().date())+\".xlsx\",engine=\"xlsxwriter\")\n",
    "df_output_1_count_by_trans_of_ids_price_10Plus.to_excel(writer,\"summary_1_transactions_ids\",index=False)\n",
    "df_output_2_1_count_by_trans_of_ids_price_10Plus.to_excel(writer,\"summary_2_1_Rewards_trans_items\",index=False)\n",
    "df_output_2_2_count_by_trans_of_ids_price_10Plus.to_excel(writer,\"summary_2_2_NonRew_trans_items\",index=False)\n",
    "df_output_3_count_by_trans_of_ids_price_10Plus.to_excel(writer,\"summary_3_all_transactions\",index=False)\n",
    "writer.save()\n",
    "\n",
    "del data\n",
    "gc.collect()"
   ]
  },
  {
   "cell_type": "code",
   "execution_count": null,
   "metadata": {
    "collapsed": true
   },
   "outputs": [],
   "source": []
  },
  {
   "cell_type": "code",
   "execution_count": 23,
   "metadata": {
    "collapsed": true
   },
   "outputs": [],
   "source": [
    "unique_id_df=Rewards_data_transactions.groupby(['product_comb'])['customer_id_hashed'].apply(count_unique).to_frame().reset_index().rename(columns={\"customer_id_hashed\":\"unique_ids\"})\n",
    "single_prod_df=pd.merge(single_prod_df,unique_id_df,on=\"product_comb\")"
   ]
  },
  {
   "cell_type": "code",
   "execution_count": 24,
   "metadata": {
    "collapsed": true
   },
   "outputs": [],
   "source": [
    "data_basket=Rewards_data_transactions.groupby(['basket_str'])['total_item_units','total_item_revenue','transactin_id_given'].agg(\n",
    "            {\"total_item_units\":\"sum\",\"total_item_revenue\":\"sum\",\"transactin_id_given\":\"count\"}).reset_index().rename(columns={\"transactin_id_given\":\"trans_count\"})\n",
    "data_basket['basket_list']=data_basket['basket_str'].apply(eval)\n",
    "data_basket['item_types']=data_basket['basket_list'].apply(len)\n",
    "data_basket=data_basket.sort_values(['item_types','basket_str'])\n",
    "\n",
    "data_basket=data_basket.reset_index()\n",
    "del data_basket['index']\n",
    "\n",
    "unique_id_by_basket=Rewards_data_transactions.groupby(['basket_str'])['customer_id_hashed'].apply(lambda x: len(set(x))).to_frame().reset_index().rename(columns={'customer_id_hashed':\"unique_ids\"})\n",
    "data_basket=pd.merge(data_basket,unique_id_by_basket,on=\"basket_str\",how=\"left\")"
   ]
  },
  {
   "cell_type": "code",
   "execution_count": 25,
   "metadata": {
    "collapsed": true
   },
   "outputs": [],
   "source": [
    "# data_basket.to_csv(\"/home/jian/Projects/Big_Lots/Analysis/2018_Q4/Product_Basket/data_for_freq_dist_JL_\"+str(datetime.datetime.now().date())+\".csv\",index=False)"
   ]
  },
  {
   "cell_type": "code",
   "execution_count": 26,
   "metadata": {},
   "outputs": [
    {
     "name": "stdout",
     "output_type": "stream",
     "text": [
      "2 2019-02-22 10:37:18.165541\n",
      "28610\n",
      "3 2019-02-22 10:38:38.550591\n",
      "177381\n",
      "4 2019-02-22 10:39:21.164348\n",
      "517779\n"
     ]
    }
   ],
   "source": [
    "from itertools import combinations\n",
    "def findsubsets(total_set,item_counts):\n",
    "    return list(set(combinations(total_set, item_counts)))\n",
    "\n",
    "for i in range(2,5): # Up to 4 only\n",
    "    locals()['set_'+str(i)+\"_comb\"]=[]\n",
    "    output_1_basket_str_list_i=sorted(data_basket[data_basket['item_types']==i]['basket_str'].unique().tolist())\n",
    "    output_2_basket_str_list_i_plus=[]\n",
    "    basket_str_list_i_plus=data_basket[data_basket['item_types']>i]['basket_str'].unique().tolist()\n",
    "    \n",
    "    \n",
    "    for set_str in basket_str_list_i_plus:\n",
    "        set_list=eval(set_str)\n",
    "        output_2_basket_str_list_i_plus=list(set(output_2_basket_str_list_i_plus+[str(list(x)) for x in findsubsets(set_list,i)]))\n",
    "        \n",
    "    locals()['set_'+str(i)+\"_comb\"]=sorted(list(set(output_1_basket_str_list_i+output_2_basket_str_list_i_plus)))\n",
    "    print(i, datetime.datetime.now())\n",
    "    print(len(locals()['set_'+str(i)+\"_comb\"]))\n",
    "    "
   ]
  },
  {
   "cell_type": "code",
   "execution_count": 27,
   "metadata": {},
   "outputs": [
    {
     "data": {
      "text/plain": [
       "\"\\nbasket_transaction_2_plus=data_basket[data_basket['item_types']>=2][['basket_str','trans_count']]\\nbasket_transaction_3_plus=data_basket[data_basket['item_types']>=3][['basket_str','trans_count']]\\nbasket_transaction_4_plus=data_basket[data_basket['item_types']>=4][['basket_str','trans_count']]\\nbasket_transaction_5_plus=data_basket[data_basket['item_types']>=5][['basket_str','trans_count']]\\n\""
      ]
     },
     "execution_count": 27,
     "metadata": {},
     "output_type": "execute_result"
    }
   ],
   "source": [
    "'''\n",
    "basket_transaction_2_plus=data_basket[data_basket['item_types']>=2][['basket_str','trans_count']]\n",
    "basket_transaction_3_plus=data_basket[data_basket['item_types']>=3][['basket_str','trans_count']]\n",
    "basket_transaction_4_plus=data_basket[data_basket['item_types']>=4][['basket_str','trans_count']]\n",
    "basket_transaction_5_plus=data_basket[data_basket['item_types']>=5][['basket_str','trans_count']]\n",
    "'''"
   ]
  },
  {
   "cell_type": "code",
   "execution_count": 28,
   "metadata": {},
   "outputs": [
    {
     "data": {
      "text/plain": [
       "723770"
      ]
     },
     "execution_count": 28,
     "metadata": {},
     "output_type": "execute_result"
    }
   ],
   "source": [
    "list_set_all=set_2_comb+set_3_comb+set_4_comb\n",
    "total_len=len(list_set_all)\n",
    "total_len"
   ]
  },
  {
   "cell_type": "code",
   "execution_count": 29,
   "metadata": {},
   "outputs": [
    {
     "data": {
      "text/html": [
       "<div>\n",
       "<style>\n",
       "    .dataframe thead tr:only-child th {\n",
       "        text-align: right;\n",
       "    }\n",
       "\n",
       "    .dataframe thead th {\n",
       "        text-align: left;\n",
       "    }\n",
       "\n",
       "    .dataframe tbody tr th {\n",
       "        vertical-align: top;\n",
       "    }\n",
       "</style>\n",
       "<table border=\"1\" class=\"dataframe\">\n",
       "  <thead>\n",
       "    <tr style=\"text-align: right;\">\n",
       "      <th></th>\n",
       "      <th>basket_str</th>\n",
       "      <th>total_item_units</th>\n",
       "      <th>total_item_revenue</th>\n",
       "      <th>trans_count</th>\n",
       "      <th>basket_list</th>\n",
       "      <th>item_types</th>\n",
       "      <th>unique_ids</th>\n",
       "    </tr>\n",
       "  </thead>\n",
       "  <tbody>\n",
       "    <tr>\n",
       "      <th>0</th>\n",
       "      <td>['11003-003']</td>\n",
       "      <td>51994</td>\n",
       "      <td>625086.84</td>\n",
       "      <td>39403</td>\n",
       "      <td>[11003-003]</td>\n",
       "      <td>1</td>\n",
       "      <td>38751</td>\n",
       "    </tr>\n",
       "    <tr>\n",
       "      <th>1</th>\n",
       "      <td>['11014-019']</td>\n",
       "      <td>4</td>\n",
       "      <td>44.65</td>\n",
       "      <td>4</td>\n",
       "      <td>[11014-019]</td>\n",
       "      <td>1</td>\n",
       "      <td>4</td>\n",
       "    </tr>\n",
       "  </tbody>\n",
       "</table>\n",
       "</div>"
      ],
      "text/plain": [
       "      basket_str  total_item_units  total_item_revenue  trans_count  \\\n",
       "0  ['11003-003']             51994           625086.84        39403   \n",
       "1  ['11014-019']                 4               44.65            4   \n",
       "\n",
       "   basket_list  item_types  unique_ids  \n",
       "0  [11003-003]           1       38751  \n",
       "1  [11014-019]           1           4  "
      ]
     },
     "execution_count": 29,
     "metadata": {},
     "output_type": "execute_result"
    }
   ],
   "source": [
    "data_basket.head(2)"
   ]
  },
  {
   "cell_type": "code",
   "execution_count": null,
   "metadata": {
    "collapsed": true
   },
   "outputs": [],
   "source": []
  },
  {
   "cell_type": "code",
   "execution_count": 30,
   "metadata": {
    "collapsed": true
   },
   "outputs": [],
   "source": [
    "processors=30\n",
    "\n",
    "interval=int(np.floor(total_len/processors))\n",
    "# list_set_all_subset_0=list_set_all_subset_[:interval]\n",
    "# 0 to 9, 10 in total\n",
    "all_list_of_input=[]\n",
    "for i in range(processors-1): \n",
    "    #1 to 9\n",
    "    locals()['list_set_all_subset_'+str(i)]=list_set_all[interval*i:interval*(i+1)]\n",
    "    all_list_of_input=all_list_of_input+[locals()['list_set_all_subset_'+str(i)]]\n",
    "locals()['list_set_all_subset_'+str(processors-1)]=list_set_all[interval*(processors-1):]\n",
    "all_list_of_input=all_list_of_input+[locals()['list_set_all_subset_'+str(processors-1)]]"
   ]
  },
  {
   "cell_type": "code",
   "execution_count": 31,
   "metadata": {},
   "outputs": [
    {
     "data": {
      "text/plain": [
       "(598533, 15)"
      ]
     },
     "execution_count": 31,
     "metadata": {},
     "output_type": "execute_result"
    }
   ],
   "source": [
    "Rewards_data_transactions.shape"
   ]
  },
  {
   "cell_type": "code",
   "execution_count": 32,
   "metadata": {
    "collapsed": true
   },
   "outputs": [],
   "source": [
    "def getting_BAI_items(list_set_subset_i):\n",
    "    i_counter=0\n",
    "    dict_basket_support_trans={}\n",
    "    dict_basket_support_items={}\n",
    "    dict_basket_BAI_trans={}\n",
    "    dict_basket_BAI_items={}\n",
    "    dict_basket_unique_ids={}\n",
    "    dict_basket_revenue={} #revenue only for the selected subset of items\n",
    "    for basket_n in list_set_subset_i:\n",
    "        basket_n_list=eval(basket_n)\n",
    "        len_items=len(basket_n_list)\n",
    "        \n",
    "        df=Rewards_data_transactions[Rewards_data_transactions['product_comb'].isin(basket_n_list)][['basket_str','transactin_id_given','subclass_transaction_units','customer_id_hashed','subclass_transaction_amt']]\n",
    "        \n",
    "        trans_denominator=1\n",
    "        items_denominator=1\n",
    "        \n",
    "        for k in range(len_items):\n",
    "            globals()['basket_item_'+str(k)]=basket_n_list[k]\n",
    "            df=df[df['basket_str'].apply(lambda x: globals()['basket_item_'+str(k)] in x)]\n",
    "            trans_denominator=trans_denominator*dict_single_prod_tran[globals()['basket_item_'+str(k)]]\n",
    "            items_denominator=items_denominator*dict_single_prod_unit[globals()['basket_item_'+str(k)]]\n",
    "\n",
    "        trans_basket=len(df['transactin_id_given'].unique())\n",
    "        items_basket=df['subclass_transaction_units'].sum()\n",
    "        unique_ids_basket=len(df['customer_id_hashed'].unique())\n",
    "        revenue_bakset=df['subclass_transaction_amt'].sum()\n",
    "        \n",
    "        dict_basket_support_trans.update({basket_n:trans_basket})\n",
    "        dict_basket_support_items.update({basket_n:items_basket})\n",
    "        dict_basket_unique_ids.update({basket_n:unique_ids_basket})\n",
    "        dict_basket_revenue.update({basket_n:revenue_bakset})\n",
    "\n",
    "        BAI_basket_trans=(trans_basket/total_trans)/trans_denominator*100\n",
    "        BAI_basket_items=(items_basket/total_unit)/items_denominator*100\n",
    "        \n",
    "        dict_basket_BAI_trans.update({basket_n:BAI_basket_trans})\n",
    "        dict_basket_BAI_items.update({basket_n:BAI_basket_items})\n",
    "        \n",
    "        i_counter+=1\n",
    "        if i_counter%1000==10:\n",
    "            logging.info(str(datetime.datetime.now())+\"|\"+str(i_counter))\n",
    "    results_json={}\n",
    "    results_json.update({\"dict_basket_support_trans\":dict_basket_support_trans})\n",
    "    results_json.update({\"dict_basket_support_items\":dict_basket_support_items})\n",
    "    results_json.update({\"dict_basket_BAI_trans\":dict_basket_BAI_trans})\n",
    "    results_json.update({\"dict_basket_BAI_items\":dict_basket_BAI_items})\n",
    "    results_json.update({\"dict_basket_unique_ids\":dict_basket_unique_ids})\n",
    "    results_json.update({\"dict_basket_revenue\":dict_basket_revenue})\n",
    "    \n",
    "    return results_json"
   ]
  },
  {
   "cell_type": "code",
   "execution_count": 33,
   "metadata": {
    "collapsed": true
   },
   "outputs": [],
   "source": [
    "from multiprocessing import Pool\n",
    "\n",
    "result_dict_basket_support_trans={}\n",
    "result_dict_basket_support_items={}\n",
    "result_dict_basket_BAI_trans={}\n",
    "result_dict_basket_BAI_items={}\n",
    "result_dict_basket_unique_ids={}\n",
    "result_dict_basket_revenue={}\n",
    "\n",
    "if __name__ == '__main__':\n",
    "    p = Pool(processors)\n",
    "    result=p.map(getting_BAI_items, all_list_of_input)\n",
    "    for res in result:\n",
    "        if res is not None:\n",
    "            result_dict_basket_support_trans.update(res[\"dict_basket_support_trans\"])\n",
    "            result_dict_basket_support_items.update(res[\"dict_basket_support_items\"])\n",
    "            result_dict_basket_BAI_trans.update(res[\"dict_basket_BAI_trans\"])\n",
    "            result_dict_basket_BAI_items.update(res[\"dict_basket_BAI_items\"])\n",
    "            result_dict_basket_unique_ids.update(res['dict_basket_unique_ids'])\n",
    "            result_dict_basket_revenue.update(res['dict_basket_revenue'])\n",
    "    p.close()\n",
    "    p.join()\n",
    "    "
   ]
  },
  {
   "cell_type": "code",
   "execution_count": 34,
   "metadata": {},
   "outputs": [
    {
     "data": {
      "text/plain": [
       "\"['11003-003', '11014-019']\""
      ]
     },
     "execution_count": 34,
     "metadata": {},
     "output_type": "execute_result"
    }
   ],
   "source": [
    "all_list_of_input[0][0]"
   ]
  },
  {
   "cell_type": "code",
   "execution_count": null,
   "metadata": {
    "collapsed": true
   },
   "outputs": [],
   "source": []
  },
  {
   "cell_type": "code",
   "execution_count": 35,
   "metadata": {},
   "outputs": [
    {
     "name": "stderr",
     "output_type": "stream",
     "text": [
      "/usr/local/lib/python3.6/site-packages/ipykernel_launcher.py:5: SettingWithCopyWarning: \n",
      "A value is trying to be set on a copy of a slice from a DataFrame.\n",
      "Try using .loc[row_indexer,col_indexer] = value instead\n",
      "\n",
      "See the caveats in the documentation: http://pandas.pydata.org/pandas-docs/stable/indexing.html#indexing-view-versus-copy\n",
      "  \"\"\"\n",
      "/usr/local/lib/python3.6/site-packages/ipykernel_launcher.py:6: SettingWithCopyWarning: \n",
      "A value is trying to be set on a copy of a slice from a DataFrame.\n",
      "Try using .loc[row_indexer,col_indexer] = value instead\n",
      "\n",
      "See the caveats in the documentation: http://pandas.pydata.org/pandas-docs/stable/indexing.html#indexing-view-versus-copy\n",
      "  \n",
      "/usr/local/lib/python3.6/site-packages/ipykernel_launcher.py:8: SettingWithCopyWarning: \n",
      "A value is trying to be set on a copy of a slice from a DataFrame.\n",
      "Try using .loc[row_indexer,col_indexer] = value instead\n",
      "\n",
      "See the caveats in the documentation: http://pandas.pydata.org/pandas-docs/stable/indexing.html#indexing-view-versus-copy\n",
      "  \n",
      "/usr/local/lib/python3.6/site-packages/ipykernel_launcher.py:9: SettingWithCopyWarning: \n",
      "A value is trying to be set on a copy of a slice from a DataFrame.\n",
      "Try using .loc[row_indexer,col_indexer] = value instead\n",
      "\n",
      "See the caveats in the documentation: http://pandas.pydata.org/pandas-docs/stable/indexing.html#indexing-view-versus-copy\n",
      "  if __name__ == '__main__':\n"
     ]
    }
   ],
   "source": [
    "output_1=data_basket[data_basket['item_types']==1]\n",
    "output_2=data_basket[data_basket['item_types'].isin([2,3,4])]\n",
    "output_3=data_basket[data_basket['item_types']>=5]\n",
    "\n",
    "output_1['BAI_trans']=100\n",
    "output_1['BAI_items']=100\n",
    "\n",
    "output_2['BAI_trans']=output_2['basket_str'].apply(lambda x: result_dict_basket_BAI_trans[x])\n",
    "output_2['BAI_items']=output_2['basket_str'].apply(lambda x: result_dict_basket_BAI_items[x])\n",
    "\n",
    "output_basket=output_1.append(output_2).append(output_3) # To add those only in multiple item trans\n",
    "#E.g. [a,b,c,d] [a,c] doesn't exsit\n"
   ]
  },
  {
   "cell_type": "code",
   "execution_count": 36,
   "metadata": {},
   "outputs": [
    {
     "data": {
      "text/html": [
       "<div>\n",
       "<style>\n",
       "    .dataframe thead tr:only-child th {\n",
       "        text-align: right;\n",
       "    }\n",
       "\n",
       "    .dataframe thead th {\n",
       "        text-align: left;\n",
       "    }\n",
       "\n",
       "    .dataframe tbody tr th {\n",
       "        vertical-align: top;\n",
       "    }\n",
       "</style>\n",
       "<table border=\"1\" class=\"dataframe\">\n",
       "  <thead>\n",
       "    <tr style=\"text-align: right;\">\n",
       "      <th></th>\n",
       "      <th>product_comb</th>\n",
       "      <th>Total_Units</th>\n",
       "      <th>Total_Trans</th>\n",
       "      <th>revenue</th>\n",
       "      <th>prob_unit</th>\n",
       "      <th>prob_tran</th>\n",
       "      <th>unique_ids</th>\n",
       "    </tr>\n",
       "  </thead>\n",
       "  <tbody>\n",
       "    <tr>\n",
       "      <th>0</th>\n",
       "      <td>11003-003</td>\n",
       "      <td>65971</td>\n",
       "      <td>50434</td>\n",
       "      <td>787479.59</td>\n",
       "      <td>0.086028</td>\n",
       "      <td>0.084263</td>\n",
       "      <td>49499</td>\n",
       "    </tr>\n",
       "    <tr>\n",
       "      <th>1</th>\n",
       "      <td>11014-019</td>\n",
       "      <td>5</td>\n",
       "      <td>5</td>\n",
       "      <td>56.40</td>\n",
       "      <td>0.000007</td>\n",
       "      <td>0.000008</td>\n",
       "      <td>5</td>\n",
       "    </tr>\n",
       "  </tbody>\n",
       "</table>\n",
       "</div>"
      ],
      "text/plain": [
       "  product_comb  Total_Units  Total_Trans    revenue  prob_unit  prob_tran  \\\n",
       "0    11003-003        65971        50434  787479.59   0.086028   0.084263   \n",
       "1    11014-019            5            5      56.40   0.000007   0.000008   \n",
       "\n",
       "   unique_ids  \n",
       "0       49499  \n",
       "1           5  "
      ]
     },
     "execution_count": 36,
     "metadata": {},
     "output_type": "execute_result"
    }
   ],
   "source": [
    "single_prod_df.head(2)"
   ]
  },
  {
   "cell_type": "code",
   "execution_count": 37,
   "metadata": {
    "collapsed": true
   },
   "outputs": [],
   "source": [
    "single_prod_df['BAI_Trans']=100\n",
    "single_prod_df['BAI_Items']=100\n"
   ]
  },
  {
   "cell_type": "code",
   "execution_count": 38,
   "metadata": {
    "collapsed": true
   },
   "outputs": [],
   "source": [
    "df1=pd.DataFrame(result_dict_basket_support_trans,index=['Total_Trans']).T.reset_index().rename(columns={\"index\":\"basket_str\"})\n",
    "df2=pd.DataFrame(result_dict_basket_support_items,index=['Total_Units']).T.reset_index().rename(columns={\"index\":\"basket_str\"})\n",
    "df3=pd.DataFrame(result_dict_basket_BAI_trans,index=['BAI_Trans']).T.reset_index().rename(columns={\"index\":\"basket_str\"})\n",
    "df4=pd.DataFrame(result_dict_basket_BAI_items,index=['BAI_Items']).T.reset_index().rename(columns={\"index\":\"basket_str\"})\n",
    "df5=pd.DataFrame(result_dict_basket_unique_ids,index=['unique_ids']).T.reset_index().rename(columns={\"index\":\"basket_str\"})\n",
    "df6=pd.DataFrame(result_dict_basket_revenue,index=['revenue']).T.reset_index().rename(columns={\"index\":\"basket_str\"})\n",
    "\n",
    "output_all_234_available=pd.merge(df1,df2,on='basket_str')\n",
    "output_all_234_available=pd.merge(df3,output_all_234_available,on='basket_str')\n",
    "output_all_234_available=pd.merge(df4,output_all_234_available,on='basket_str')\n",
    "output_all_234_available=pd.merge(df5,output_all_234_available,on='basket_str')\n",
    "output_all_234_available=pd.merge(df6,output_all_234_available,on='basket_str')"
   ]
  },
  {
   "cell_type": "code",
   "execution_count": 39,
   "metadata": {},
   "outputs": [
    {
     "data": {
      "text/html": [
       "<div>\n",
       "<style>\n",
       "    .dataframe thead tr:only-child th {\n",
       "        text-align: right;\n",
       "    }\n",
       "\n",
       "    .dataframe thead th {\n",
       "        text-align: left;\n",
       "    }\n",
       "\n",
       "    .dataframe tbody tr th {\n",
       "        vertical-align: top;\n",
       "    }\n",
       "</style>\n",
       "<table border=\"1\" class=\"dataframe\">\n",
       "  <thead>\n",
       "    <tr style=\"text-align: right;\">\n",
       "      <th></th>\n",
       "      <th>product_comb</th>\n",
       "      <th>Total_Units</th>\n",
       "      <th>Total_Trans</th>\n",
       "      <th>revenue</th>\n",
       "      <th>prob_unit</th>\n",
       "      <th>prob_tran</th>\n",
       "      <th>unique_ids</th>\n",
       "      <th>BAI_Trans</th>\n",
       "      <th>BAI_Items</th>\n",
       "    </tr>\n",
       "  </thead>\n",
       "  <tbody>\n",
       "    <tr>\n",
       "      <th>0</th>\n",
       "      <td>11003-003</td>\n",
       "      <td>65971</td>\n",
       "      <td>50434</td>\n",
       "      <td>787479.59</td>\n",
       "      <td>0.086028</td>\n",
       "      <td>0.084263</td>\n",
       "      <td>49499</td>\n",
       "      <td>100</td>\n",
       "      <td>100</td>\n",
       "    </tr>\n",
       "    <tr>\n",
       "      <th>1</th>\n",
       "      <td>11014-019</td>\n",
       "      <td>5</td>\n",
       "      <td>5</td>\n",
       "      <td>56.40</td>\n",
       "      <td>0.000007</td>\n",
       "      <td>0.000008</td>\n",
       "      <td>5</td>\n",
       "      <td>100</td>\n",
       "      <td>100</td>\n",
       "    </tr>\n",
       "  </tbody>\n",
       "</table>\n",
       "</div>"
      ],
      "text/plain": [
       "  product_comb  Total_Units  Total_Trans    revenue  prob_unit  prob_tran  \\\n",
       "0    11003-003        65971        50434  787479.59   0.086028   0.084263   \n",
       "1    11014-019            5            5      56.40   0.000007   0.000008   \n",
       "\n",
       "   unique_ids  BAI_Trans  BAI_Items  \n",
       "0       49499        100        100  \n",
       "1           5        100        100  "
      ]
     },
     "execution_count": 39,
     "metadata": {},
     "output_type": "execute_result"
    }
   ],
   "source": [
    "single_prod_df.head(2)"
   ]
  },
  {
   "cell_type": "code",
   "execution_count": 40,
   "metadata": {
    "collapsed": true
   },
   "outputs": [],
   "source": [
    "single_prod_df['basket_str']=\"['\"+single_prod_df['product_comb']+\"']\"\n",
    "del single_prod_df['product_comb']\n",
    "\n",
    "output_all_1234_available=single_prod_df.append(output_all_234_available)\n",
    "output_all_1234_available['basket_list']=output_all_1234_available['basket_str'].apply(eval)\n",
    "output_all_1234_available['item_types']=output_all_1234_available['basket_list'].apply(len)\n",
    "output_all_1234_available=output_all_1234_available.sort_values('item_types',ascending=True)\n",
    "\n",
    "# All posibble from the shopped large basket 1-5\n",
    "output_3=data_basket[data_basket['item_types']>=5]\n",
    "output_3=output_3.rename(columns={\"trans_count\":\"Total_Trans\",\"total_item_units\":\"Total_Units\",\"total_item_revenue\":\"revenue\"})\n",
    "\n",
    "output_all_1234_available=output_all_1234_available.append(output_3) #Appended >5"
   ]
  },
  {
   "cell_type": "markdown",
   "metadata": {},
   "source": [
    "# Step 2"
   ]
  },
  {
   "cell_type": "code",
   "execution_count": 41,
   "metadata": {},
   "outputs": [
    {
     "data": {
      "text/plain": [
       "1604"
      ]
     },
     "execution_count": 41,
     "metadata": {},
     "output_type": "execute_result"
    }
   ],
   "source": [
    "# Apply the BAI of items to the baskets\n",
    "\n",
    "len(result_dict_basket_BAI_items)\n",
    "data_item_avg_price_dict=data_item_avg_price.set_index([\"product_comb\"]).to_dict()['avg_price']\n",
    "len(data_item_avg_price_dict)"
   ]
  },
  {
   "cell_type": "code",
   "execution_count": 42,
   "metadata": {},
   "outputs": [
    {
     "data": {
      "text/html": [
       "<div>\n",
       "<style>\n",
       "    .dataframe thead tr:only-child th {\n",
       "        text-align: right;\n",
       "    }\n",
       "\n",
       "    .dataframe thead th {\n",
       "        text-align: left;\n",
       "    }\n",
       "\n",
       "    .dataframe tbody tr th {\n",
       "        vertical-align: top;\n",
       "    }\n",
       "</style>\n",
       "<table border=\"1\" class=\"dataframe\">\n",
       "  <thead>\n",
       "    <tr style=\"text-align: right;\">\n",
       "      <th></th>\n",
       "      <th>basket_str</th>\n",
       "      <th>total_item_units</th>\n",
       "      <th>total_item_revenue</th>\n",
       "      <th>trans_count</th>\n",
       "      <th>basket_list</th>\n",
       "      <th>item_types</th>\n",
       "      <th>unique_ids</th>\n",
       "    </tr>\n",
       "  </thead>\n",
       "  <tbody>\n",
       "    <tr>\n",
       "      <th>0</th>\n",
       "      <td>['11003-003']</td>\n",
       "      <td>51994</td>\n",
       "      <td>625086.84</td>\n",
       "      <td>39403</td>\n",
       "      <td>[11003-003]</td>\n",
       "      <td>1</td>\n",
       "      <td>38751</td>\n",
       "    </tr>\n",
       "    <tr>\n",
       "      <th>1</th>\n",
       "      <td>['11014-019']</td>\n",
       "      <td>4</td>\n",
       "      <td>44.65</td>\n",
       "      <td>4</td>\n",
       "      <td>[11014-019]</td>\n",
       "      <td>1</td>\n",
       "      <td>4</td>\n",
       "    </tr>\n",
       "  </tbody>\n",
       "</table>\n",
       "</div>"
      ],
      "text/plain": [
       "      basket_str  total_item_units  total_item_revenue  trans_count  \\\n",
       "0  ['11003-003']             51994           625086.84        39403   \n",
       "1  ['11014-019']                 4               44.65            4   \n",
       "\n",
       "   basket_list  item_types  unique_ids  \n",
       "0  [11003-003]           1       38751  \n",
       "1  [11014-019]           1           4  "
      ]
     },
     "execution_count": 42,
     "metadata": {},
     "output_type": "execute_result"
    }
   ],
   "source": [
    "data_basket.head(2)"
   ]
  },
  {
   "cell_type": "code",
   "execution_count": 45,
   "metadata": {
    "collapsed": true
   },
   "outputs": [],
   "source": [
    "data_basket_item_2=data_basket[data_basket['item_types']==2]\n",
    "data_basket_item_3=data_basket[data_basket['item_types']==3]\n",
    "data_basket_item_4=data_basket[data_basket['item_types']==4]"
   ]
  },
  {
   "cell_type": "code",
   "execution_count": 44,
   "metadata": {},
   "outputs": [
    {
     "ename": "SyntaxError",
     "evalue": "invalid syntax (<ipython-input-44-1f722d3c1a88>, line 26)",
     "output_type": "error",
     "traceback": [
      "\u001b[0;36m  File \u001b[0;32m\"<ipython-input-44-1f722d3c1a88>\"\u001b[0;36m, line \u001b[0;32m26\u001b[0m\n\u001b[0;31m    for i in range(len())\u001b[0m\n\u001b[0m                         ^\u001b[0m\n\u001b[0;31mSyntaxError\u001b[0m\u001b[0;31m:\u001b[0m invalid syntax\n"
     ]
    }
   ],
   "source": [
    "data_basket_wide_actual=data_basket[data_basket['item_types']>1][['basket_list']]\n",
    "output_df=pd.DataFrame()\n",
    "def get_actual_wide_products(input_x):\n",
    "\n",
    "    df=pd.DataFrame({\"items\":input_x},index=[ind for ind in range(len(input_x))])\n",
    "    df['class']=df['items'].apply(lambda x: x.split(\"-\")[0])\n",
    "    df['price']=df['items'].apply(lambda x: dict_item_avg_price[x])\n",
    "    df=df.sort_values(\"price\",ascending=False).reset_index()\n",
    "    del df['index']\n",
    "    \n",
    "    champion_item=df['items'].tolist()[0]\n",
    "    champion_class=champion_item.split(\"-\")[0]\n",
    "    \n",
    "    df=df[df['items']!=champion_item]\n",
    "    df['identifier']=df['class'].apply(lambda x: str(x==champion_class)).replace(\"True\",\"Complementary\").replace(\"False\",\"Secondary\")\n",
    "    df=df.sort_values(['identifier','price'],ascending=[True,False]).head(4).reset_index()\n",
    "    del df['index']\n",
    "    \n",
    "    # empty_df=pd.DataFrame(columns=(\"items\",\"price\",'identifier'),index=[0])\n",
    "    \n",
    "    df_C=df[df['identifier']==\"Complementary\"]\n",
    "    C_1=np.nan\n",
    "    C_2=np.nan\n",
    "    C_3=np.nan\n",
    "    C_4=np.nan\n",
    "    for i in range(len())\n",
    "    \n",
    "    return globals()['output_df']"
   ]
  },
  {
   "cell_type": "code",
   "execution_count": 67,
   "metadata": {},
   "outputs": [
    {
     "data": {
      "text/plain": [
       "420169"
      ]
     },
     "execution_count": 67,
     "metadata": {},
     "output_type": "execute_result"
    }
   ],
   "source": [
    "len(Rewards_data_transactions_copy['transactin_id_given'].unique())"
   ]
  },
  {
   "cell_type": "code",
   "execution_count": 68,
   "metadata": {},
   "outputs": [
    {
     "data": {
      "text/plain": [
       "420169"
      ]
     },
     "execution_count": 68,
     "metadata": {},
     "output_type": "execute_result"
    }
   ],
   "source": [
    "Rewards_data_transactions['transactin_id_given'].max()"
   ]
  },
  {
   "cell_type": "code",
   "execution_count": 89,
   "metadata": {},
   "outputs": [
    {
     "data": {
      "text/html": [
       "<div>\n",
       "<style>\n",
       "    .dataframe thead tr:only-child th {\n",
       "        text-align: right;\n",
       "    }\n",
       "\n",
       "    .dataframe thead th {\n",
       "        text-align: left;\n",
       "    }\n",
       "\n",
       "    .dataframe tbody tr th {\n",
       "        vertical-align: top;\n",
       "    }\n",
       "</style>\n",
       "<table border=\"1\" class=\"dataframe\">\n",
       "  <thead>\n",
       "    <tr style=\"text-align: right;\">\n",
       "      <th></th>\n",
       "      <th>location_id</th>\n",
       "      <th>transaction_dt</th>\n",
       "      <th>transaction_id</th>\n",
       "      <th>customer_id_hashed</th>\n",
       "      <th>subclass_transaction_units</th>\n",
       "      <th>subclass_transaction_amt</th>\n",
       "      <th>product_comb</th>\n",
       "      <th>price</th>\n",
       "      <th>basket_list</th>\n",
       "      <th>total_item_units</th>\n",
       "      <th>total_item_revenue</th>\n",
       "      <th>basket_str</th>\n",
       "      <th>transactin_id_given</th>\n",
       "      <th>types</th>\n",
       "      <th>trans_count_by_id</th>\n",
       "    </tr>\n",
       "  </thead>\n",
       "  <tbody>\n",
       "    <tr>\n",
       "      <th>0</th>\n",
       "      <td>4517</td>\n",
       "      <td>2019-01-26</td>\n",
       "      <td>1966</td>\n",
       "      <td>61f240fee1095d40aeee11bc7b11b0441f30d5a6c587dc...</td>\n",
       "      <td>1</td>\n",
       "      <td>30.00</td>\n",
       "      <td>34503-004</td>\n",
       "      <td>30.00</td>\n",
       "      <td>[34503-004, 34504-003, 35078-002]</td>\n",
       "      <td>4</td>\n",
       "      <td>85.00</td>\n",
       "      <td>['34503-004', '34504-003', '35078-002']</td>\n",
       "      <td>253265</td>\n",
       "      <td>3</td>\n",
       "      <td>2</td>\n",
       "    </tr>\n",
       "    <tr>\n",
       "      <th>1</th>\n",
       "      <td>5091</td>\n",
       "      <td>2019-01-26</td>\n",
       "      <td>9272</td>\n",
       "      <td>6f8e01cff2fe069d3e4b345c6b54a7b0c4a4bda408670a...</td>\n",
       "      <td>1</td>\n",
       "      <td>7.78</td>\n",
       "      <td>11003-003</td>\n",
       "      <td>7.78</td>\n",
       "      <td>[11003-003]</td>\n",
       "      <td>1</td>\n",
       "      <td>7.78</td>\n",
       "      <td>['11003-003']</td>\n",
       "      <td>304597</td>\n",
       "      <td>1</td>\n",
       "      <td>1</td>\n",
       "    </tr>\n",
       "  </tbody>\n",
       "</table>\n",
       "</div>"
      ],
      "text/plain": [
       "  location_id transaction_dt transaction_id  \\\n",
       "0        4517     2019-01-26           1966   \n",
       "1        5091     2019-01-26           9272   \n",
       "\n",
       "                                  customer_id_hashed  \\\n",
       "0  61f240fee1095d40aeee11bc7b11b0441f30d5a6c587dc...   \n",
       "1  6f8e01cff2fe069d3e4b345c6b54a7b0c4a4bda408670a...   \n",
       "\n",
       "   subclass_transaction_units  subclass_transaction_amt product_comb  price  \\\n",
       "0                           1                     30.00    34503-004  30.00   \n",
       "1                           1                      7.78    11003-003   7.78   \n",
       "\n",
       "                         basket_list  total_item_units  total_item_revenue  \\\n",
       "0  [34503-004, 34504-003, 35078-002]                 4               85.00   \n",
       "1                        [11003-003]                 1                7.78   \n",
       "\n",
       "                                basket_str  transactin_id_given  types  \\\n",
       "0  ['34503-004', '34504-003', '35078-002']               253265      3   \n",
       "1                            ['11003-003']               304597      1   \n",
       "\n",
       "  trans_count_by_id  \n",
       "0                 2  \n",
       "1                 1  "
      ]
     },
     "execution_count": 89,
     "metadata": {},
     "output_type": "execute_result"
    }
   ],
   "source": [
    "Rewards_data_transactions.head(2)"
   ]
  },
  {
   "cell_type": "code",
   "execution_count": 87,
   "metadata": {},
   "outputs": [
    {
     "data": {
      "text/plain": [
       "(327704, 8)"
      ]
     },
     "execution_count": 87,
     "metadata": {},
     "output_type": "execute_result"
    }
   ],
   "source": [
    "data_NonRewards.shape"
   ]
  },
  {
   "cell_type": "code",
   "execution_count": 83,
   "metadata": {},
   "outputs": [
    {
     "name": "stderr",
     "output_type": "stream",
     "text": [
      "/usr/local/lib/python3.6/site-packages/ipykernel_launcher.py:2: SettingWithCopyWarning: \n",
      "A value is trying to be set on a copy of a slice from a DataFrame.\n",
      "Try using .loc[row_indexer,col_indexer] = value instead\n",
      "\n",
      "See the caveats in the documentation: http://pandas.pydata.org/pandas-docs/stable/indexing.html#indexing-view-versus-copy\n",
      "  \n",
      "/usr/local/lib/python3.6/site-packages/ipykernel_launcher.py:3: SettingWithCopyWarning: \n",
      "A value is trying to be set on a copy of a slice from a DataFrame.\n",
      "Try using .loc[row_indexer,col_indexer] = value instead\n",
      "\n",
      "See the caveats in the documentation: http://pandas.pydata.org/pandas-docs/stable/indexing.html#indexing-view-versus-copy\n",
      "  This is separate from the ipykernel package so we can avoid doing imports until\n"
     ]
    },
    {
     "name": "stdout",
     "output_type": "stream",
     "text": [
      "10 2019-02-22 15:48:35.474611\n"
     ]
    },
    {
     "name": "stderr",
     "output_type": "stream",
     "text": [
      "/usr/local/lib/python3.6/site-packages/ipykernel_launcher.py:34: SettingWithCopyWarning: \n",
      "A value is trying to be set on a copy of a slice from a DataFrame.\n",
      "Try using .loc[row_indexer,col_indexer] = value instead\n",
      "\n",
      "See the caveats in the documentation: http://pandas.pydata.org/pandas-docs/stable/indexing.html#indexing-view-versus-copy\n"
     ]
    },
    {
     "name": "stdout",
     "output_type": "stream",
     "text": [
      "4010 2019-02-22 15:50:20.508004\n",
      "8010 2019-02-22 15:52:16.599025\n"
     ]
    },
    {
     "ename": "KeyboardInterrupt",
     "evalue": "",
     "output_type": "error",
     "traceback": [
      "\u001b[0;31m---------------------------------------------------------------------------\u001b[0m",
      "\u001b[0;31mKeyboardInterrupt\u001b[0m                         Traceback (most recent call last)",
      "\u001b[0;32m<ipython-input-83-c99974d2914d>\u001b[0m in \u001b[0;36m<module>\u001b[0;34m()\u001b[0m\n\u001b[1;32m     16\u001b[0m     \u001b[0msecondary_head4\u001b[0m\u001b[0;34m=\u001b[0m\u001b[0mgroup\u001b[0m\u001b[0;34m[\u001b[0m\u001b[0mgroup\u001b[0m\u001b[0;34m[\u001b[0m\u001b[0;34m'class_code_id'\u001b[0m\u001b[0;34m]\u001b[0m\u001b[0;34m!=\u001b[0m\u001b[0mchampion_class\u001b[0m\u001b[0;34m]\u001b[0m\u001b[0;34m.\u001b[0m\u001b[0mhead\u001b[0m\u001b[0;34m(\u001b[0m\u001b[0;36m4\u001b[0m\u001b[0;34m)\u001b[0m\u001b[0;34m\u001b[0m\u001b[0m\n\u001b[1;32m     17\u001b[0m \u001b[0;34m\u001b[0m\u001b[0m\n\u001b[0;32m---> 18\u001b[0;31m     \u001b[0;32mdel\u001b[0m \u001b[0mcomplementary_head4\u001b[0m\u001b[0;34m[\u001b[0m\u001b[0;34m'class_code_id'\u001b[0m\u001b[0;34m]\u001b[0m\u001b[0;34m\u001b[0m\u001b[0m\n\u001b[0m\u001b[1;32m     19\u001b[0m     \u001b[0;32mdel\u001b[0m \u001b[0msecondary_head4\u001b[0m\u001b[0;34m[\u001b[0m\u001b[0;34m'class_code_id'\u001b[0m\u001b[0;34m]\u001b[0m\u001b[0;34m\u001b[0m\u001b[0m\n\u001b[1;32m     20\u001b[0m \u001b[0;34m\u001b[0m\u001b[0m\n",
      "\u001b[0;32m/usr/local/lib/python3.6/site-packages/pandas/core/generic.py\u001b[0m in \u001b[0;36m__delitem__\u001b[0;34m(self, key)\u001b[0m\n\u001b[1;32m   1899\u001b[0m             \u001b[0;31m# there was no match, this call should raise the appropriate\u001b[0m\u001b[0;34m\u001b[0m\u001b[0;34m\u001b[0m\u001b[0m\n\u001b[1;32m   1900\u001b[0m             \u001b[0;31m# exception:\u001b[0m\u001b[0;34m\u001b[0m\u001b[0;34m\u001b[0m\u001b[0m\n\u001b[0;32m-> 1901\u001b[0;31m             \u001b[0mself\u001b[0m\u001b[0;34m.\u001b[0m\u001b[0m_data\u001b[0m\u001b[0;34m.\u001b[0m\u001b[0mdelete\u001b[0m\u001b[0;34m(\u001b[0m\u001b[0mkey\u001b[0m\u001b[0;34m)\u001b[0m\u001b[0;34m\u001b[0m\u001b[0m\n\u001b[0m\u001b[1;32m   1902\u001b[0m \u001b[0;34m\u001b[0m\u001b[0m\n\u001b[1;32m   1903\u001b[0m         \u001b[0;31m# delete from the caches\u001b[0m\u001b[0;34m\u001b[0m\u001b[0;34m\u001b[0m\u001b[0m\n",
      "\u001b[0;32m/usr/local/lib/python3.6/site-packages/pandas/core/internals.py\u001b[0m in \u001b[0;36mdelete\u001b[0;34m(self, item)\u001b[0m\n\u001b[1;32m   3660\u001b[0m             \u001b[0maffected_start\u001b[0m \u001b[0;34m=\u001b[0m \u001b[0mis_deleted\u001b[0m\u001b[0;34m.\u001b[0m\u001b[0mnonzero\u001b[0m\u001b[0;34m(\u001b[0m\u001b[0;34m)\u001b[0m\u001b[0;34m[\u001b[0m\u001b[0;36m0\u001b[0m\u001b[0;34m]\u001b[0m\u001b[0;34m[\u001b[0m\u001b[0;36m0\u001b[0m\u001b[0;34m]\u001b[0m\u001b[0;34m\u001b[0m\u001b[0m\n\u001b[1;32m   3661\u001b[0m \u001b[0;34m\u001b[0m\u001b[0m\n\u001b[0;32m-> 3662\u001b[0;31m         \u001b[0;32mfor\u001b[0m \u001b[0mblkno\u001b[0m\u001b[0;34m,\u001b[0m \u001b[0m_\u001b[0m \u001b[0;32min\u001b[0m \u001b[0m_fast_count_smallints\u001b[0m\u001b[0;34m(\u001b[0m\u001b[0mself\u001b[0m\u001b[0;34m.\u001b[0m\u001b[0m_blknos\u001b[0m\u001b[0;34m[\u001b[0m\u001b[0maffected_start\u001b[0m\u001b[0;34m:\u001b[0m\u001b[0;34m]\u001b[0m\u001b[0;34m)\u001b[0m\u001b[0;34m:\u001b[0m\u001b[0;34m\u001b[0m\u001b[0m\n\u001b[0m\u001b[1;32m   3663\u001b[0m             \u001b[0mblk\u001b[0m \u001b[0;34m=\u001b[0m \u001b[0mself\u001b[0m\u001b[0;34m.\u001b[0m\u001b[0mblocks\u001b[0m\u001b[0;34m[\u001b[0m\u001b[0mblkno\u001b[0m\u001b[0;34m]\u001b[0m\u001b[0;34m\u001b[0m\u001b[0m\n\u001b[1;32m   3664\u001b[0m             \u001b[0mbml\u001b[0m \u001b[0;34m=\u001b[0m \u001b[0mblk\u001b[0m\u001b[0;34m.\u001b[0m\u001b[0mmgr_locs\u001b[0m\u001b[0;34m\u001b[0m\u001b[0m\n",
      "\u001b[0;32m/usr/local/lib/python3.6/site-packages/pandas/core/internals.py\u001b[0m in \u001b[0;36m_fast_count_smallints\u001b[0;34m(arr)\u001b[0m\n\u001b[1;32m   5250\u001b[0m         \u001b[0;32mreturn\u001b[0m \u001b[0mnp\u001b[0m\u001b[0;34m.\u001b[0m\u001b[0mempty\u001b[0m\u001b[0;34m(\u001b[0m\u001b[0;34m(\u001b[0m\u001b[0;36m0\u001b[0m\u001b[0;34m,\u001b[0m \u001b[0;36m2\u001b[0m\u001b[0;34m)\u001b[0m\u001b[0;34m,\u001b[0m \u001b[0mdtype\u001b[0m\u001b[0;34m=\u001b[0m\u001b[0marr\u001b[0m\u001b[0;34m.\u001b[0m\u001b[0mdtype\u001b[0m\u001b[0;34m)\u001b[0m\u001b[0;34m\u001b[0m\u001b[0m\n\u001b[1;32m   5251\u001b[0m     \u001b[0;32melse\u001b[0m\u001b[0;34m:\u001b[0m\u001b[0;34m\u001b[0m\u001b[0m\n\u001b[0;32m-> 5252\u001b[0;31m         \u001b[0mcounts\u001b[0m \u001b[0;34m=\u001b[0m \u001b[0mnp\u001b[0m\u001b[0;34m.\u001b[0m\u001b[0mbincount\u001b[0m\u001b[0;34m(\u001b[0m\u001b[0marr\u001b[0m\u001b[0;34m.\u001b[0m\u001b[0mastype\u001b[0m\u001b[0;34m(\u001b[0m\u001b[0mnp\u001b[0m\u001b[0;34m.\u001b[0m\u001b[0mint_\u001b[0m\u001b[0;34m)\u001b[0m\u001b[0;34m)\u001b[0m\u001b[0;34m\u001b[0m\u001b[0m\n\u001b[0m\u001b[1;32m   5253\u001b[0m         \u001b[0mnz\u001b[0m \u001b[0;34m=\u001b[0m \u001b[0mcounts\u001b[0m\u001b[0;34m.\u001b[0m\u001b[0mnonzero\u001b[0m\u001b[0;34m(\u001b[0m\u001b[0;34m)\u001b[0m\u001b[0;34m[\u001b[0m\u001b[0;36m0\u001b[0m\u001b[0;34m]\u001b[0m\u001b[0;34m\u001b[0m\u001b[0m\n\u001b[1;32m   5254\u001b[0m         \u001b[0;32mreturn\u001b[0m \u001b[0mnp\u001b[0m\u001b[0;34m.\u001b[0m\u001b[0mc_\u001b[0m\u001b[0;34m[\u001b[0m\u001b[0mnz\u001b[0m\u001b[0;34m,\u001b[0m \u001b[0mcounts\u001b[0m\u001b[0;34m[\u001b[0m\u001b[0mnz\u001b[0m\u001b[0;34m]\u001b[0m\u001b[0;34m]\u001b[0m\u001b[0;34m\u001b[0m\u001b[0m\n",
      "\u001b[0;31mKeyboardInterrupt\u001b[0m: "
     ]
    }
   ],
   "source": [
    "Rewards_data_transactions_copy=Rewards_data_transactions[['transactin_id_given','product_comb']]\n",
    "Rewards_data_transactions_copy['avg_price']=Rewards_data_transactions_copy['product_comb'].apply(lambda x: dict_item_avg_price[x])\n",
    "Rewards_data_transactions_copy['class_code_id']=Rewards_data_transactions_copy['product_comb'].apply(lambda x: x.split(\"-\")[0])\n",
    "actual_basket_from_trans=pd.DataFrame()\n",
    "\n",
    "i_counter=0\n",
    "for trans_id_given,group in Rewards_data_transactions_copy.groupby(['transactin_id_given']):\n",
    "    group=group.sort_values(\"avg_price\",ascending=False).reset_index()\n",
    "    del group['index']\n",
    "    group=group.head(5)\n",
    "    champion_item=group['product_comb'][0]\n",
    "    champion_class=champion_item.split(\"-\")[0]\n",
    "    \n",
    "    group=group[group['product_comb']!=champion_item]\n",
    "    complementary_head4=group[group['class_code_id']==champion_class].head(4)\n",
    "    secondary_head4=group[group['class_code_id']!=champion_class].head(4)\n",
    "    \n",
    "    del complementary_head4['class_code_id']\n",
    "    del secondary_head4['class_code_id']\n",
    "    \n",
    "    empty_df=pd.DataFrame(columns=[\"transactin_id_given\",\"product_comb\",\"avg_price\"],index=[0])\n",
    "    if len(complementary_head4)<4:\n",
    "        len_to_fill_C=4-len(complementary_head4)\n",
    "        complementary_head4=complementary_head4.append([empty_df]*len_to_fill_C,ignore_index=True)\n",
    "    complementary_head4['catagory']=\"Complementary\"\n",
    "    complementary_head4=complementary_head4.reset_index()\n",
    "    complementary_head4['index']=[str(x+1) for x in range(4)]\n",
    "    complementary_head4['catagory']=complementary_head4['catagory']+\"_\"+complementary_head4['index']\n",
    "    complementary_head4=complementary_head4[['catagory','product_comb']]\n",
    "    \n",
    "    if len(secondary_head4)<4:\n",
    "        len_to_fill_S=4-len(secondary_head4)\n",
    "        secondary_head4=secondary_head4.append([empty_df]*len_to_fill_S,ignore_index=True)\n",
    "    secondary_head4['catagory']=\"Secondary\"\n",
    "    secondary_head4=secondary_head4.reset_index()\n",
    "    secondary_head4['index']=[str(x+1) for x in range(4)]\n",
    "    secondary_head4['catagory']=secondary_head4['catagory']+\"_\"+secondary_head4['index']\n",
    "    secondary_head4=secondary_head4[['catagory','product_comb']]\n",
    "    \n",
    "    champion_df=pd.DataFrame({\"product_comb\":champion_item,\"catagory\":\"Champion\"},index=[0])\n",
    "    \n",
    "    df=champion_df.append(complementary_head4).append(secondary_head4)\n",
    "    df.index=df['catagory']\n",
    "    del df['catagory']\n",
    "    df=df.T\n",
    "    df['transactin_id_given']=trans_id_given\n",
    "    actual_basket_from_trans=actual_basket_from_trans.append(df)\n",
    "    \n",
    "    i_counter+=1\n",
    "    if i_counter%4000==10:\n",
    "        print(i_counter,datetime.datetime.now())"
   ]
  },
  {
   "cell_type": "code",
   "execution_count": null,
   "metadata": {},
   "outputs": [],
   "source": [
    "group"
   ]
  },
  {
   "cell_type": "code",
   "execution_count": 76,
   "metadata": {},
   "outputs": [
    {
     "ename": "IndexError",
     "evalue": "list index out of range",
     "output_type": "error",
     "traceback": [
      "\u001b[0;31m---------------------------------------------------------------------------\u001b[0m",
      "\u001b[0;31mIndexError\u001b[0m                                Traceback (most recent call last)",
      "\u001b[0;32m<ipython-input-76-4de72eb60209>\u001b[0m in \u001b[0;36m<module>\u001b[0;34m()\u001b[0m\n\u001b[0;32m----> 1\u001b[0;31m \u001b[0msecondary_head4\u001b[0m\u001b[0;34m.\u001b[0m\u001b[0mappend\u001b[0m\u001b[0;34m(\u001b[0m\u001b[0;34m[\u001b[0m\u001b[0mempty_df\u001b[0m\u001b[0;34m]\u001b[0m\u001b[0;34m*\u001b[0m\u001b[0;36m0\u001b[0m\u001b[0;34m,\u001b[0m\u001b[0mignore_index\u001b[0m\u001b[0;34m=\u001b[0m\u001b[0;32mTrue\u001b[0m\u001b[0;34m)\u001b[0m\u001b[0;34m\u001b[0m\u001b[0m\n\u001b[0m",
      "\u001b[0;32m/usr/local/lib/python3.6/site-packages/pandas/core/frame.py\u001b[0m in \u001b[0;36mappend\u001b[0;34m(self, other, ignore_index, verify_integrity)\u001b[0m\n\u001b[1;32m   4534\u001b[0m             \u001b[0;32mif\u001b[0m \u001b[0;32mnot\u001b[0m \u001b[0mself\u001b[0m\u001b[0;34m.\u001b[0m\u001b[0mcolumns\u001b[0m\u001b[0;34m.\u001b[0m\u001b[0mequals\u001b[0m\u001b[0;34m(\u001b[0m\u001b[0mcombined_columns\u001b[0m\u001b[0;34m)\u001b[0m\u001b[0;34m:\u001b[0m\u001b[0;34m\u001b[0m\u001b[0m\n\u001b[1;32m   4535\u001b[0m                 \u001b[0mself\u001b[0m \u001b[0;34m=\u001b[0m \u001b[0mself\u001b[0m\u001b[0;34m.\u001b[0m\u001b[0mreindex\u001b[0m\u001b[0;34m(\u001b[0m\u001b[0mcolumns\u001b[0m\u001b[0;34m=\u001b[0m\u001b[0mcombined_columns\u001b[0m\u001b[0;34m)\u001b[0m\u001b[0;34m\u001b[0m\u001b[0m\n\u001b[0;32m-> 4536\u001b[0;31m         \u001b[0;32melif\u001b[0m \u001b[0misinstance\u001b[0m\u001b[0;34m(\u001b[0m\u001b[0mother\u001b[0m\u001b[0;34m,\u001b[0m \u001b[0mlist\u001b[0m\u001b[0;34m)\u001b[0m \u001b[0;32mand\u001b[0m \u001b[0;32mnot\u001b[0m \u001b[0misinstance\u001b[0m\u001b[0;34m(\u001b[0m\u001b[0mother\u001b[0m\u001b[0;34m[\u001b[0m\u001b[0;36m0\u001b[0m\u001b[0;34m]\u001b[0m\u001b[0;34m,\u001b[0m \u001b[0mDataFrame\u001b[0m\u001b[0;34m)\u001b[0m\u001b[0;34m:\u001b[0m\u001b[0;34m\u001b[0m\u001b[0m\n\u001b[0m\u001b[1;32m   4537\u001b[0m             \u001b[0mother\u001b[0m \u001b[0;34m=\u001b[0m \u001b[0mDataFrame\u001b[0m\u001b[0;34m(\u001b[0m\u001b[0mother\u001b[0m\u001b[0;34m)\u001b[0m\u001b[0;34m\u001b[0m\u001b[0m\n\u001b[1;32m   4538\u001b[0m             \u001b[0;32mif\u001b[0m \u001b[0;34m(\u001b[0m\u001b[0mself\u001b[0m\u001b[0;34m.\u001b[0m\u001b[0mcolumns\u001b[0m\u001b[0;34m.\u001b[0m\u001b[0mget_indexer\u001b[0m\u001b[0;34m(\u001b[0m\u001b[0mother\u001b[0m\u001b[0;34m.\u001b[0m\u001b[0mcolumns\u001b[0m\u001b[0;34m)\u001b[0m \u001b[0;34m>=\u001b[0m \u001b[0;36m0\u001b[0m\u001b[0;34m)\u001b[0m\u001b[0;34m.\u001b[0m\u001b[0mall\u001b[0m\u001b[0;34m(\u001b[0m\u001b[0;34m)\u001b[0m\u001b[0;34m:\u001b[0m\u001b[0;34m\u001b[0m\u001b[0m\n",
      "\u001b[0;31mIndexError\u001b[0m: list index out of range"
     ]
    }
   ],
   "source": [
    "secondary_head4.append([empty_df]*0,ignore_index=True)"
   ]
  },
  {
   "cell_type": "code",
   "execution_count": 46,
   "metadata": {},
   "outputs": [
    {
     "data": {
      "text/html": [
       "<div>\n",
       "<style>\n",
       "    .dataframe thead tr:only-child th {\n",
       "        text-align: right;\n",
       "    }\n",
       "\n",
       "    .dataframe thead th {\n",
       "        text-align: left;\n",
       "    }\n",
       "\n",
       "    .dataframe tbody tr th {\n",
       "        vertical-align: top;\n",
       "    }\n",
       "</style>\n",
       "<table border=\"1\" class=\"dataframe\">\n",
       "  <thead>\n",
       "    <tr style=\"text-align: right;\">\n",
       "      <th></th>\n",
       "      <th>location_id</th>\n",
       "      <th>transaction_dt</th>\n",
       "      <th>transaction_id</th>\n",
       "      <th>customer_id_hashed</th>\n",
       "      <th>subclass_transaction_units</th>\n",
       "      <th>subclass_transaction_amt</th>\n",
       "      <th>product_comb</th>\n",
       "      <th>price</th>\n",
       "      <th>basket_list</th>\n",
       "      <th>total_item_units</th>\n",
       "      <th>total_item_revenue</th>\n",
       "      <th>basket_str</th>\n",
       "      <th>transactin_id_given</th>\n",
       "      <th>types</th>\n",
       "      <th>trans_count_by_id</th>\n",
       "    </tr>\n",
       "  </thead>\n",
       "  <tbody>\n",
       "    <tr>\n",
       "      <th>0</th>\n",
       "      <td>4517</td>\n",
       "      <td>2019-01-26</td>\n",
       "      <td>1966</td>\n",
       "      <td>61f240fee1095d40aeee11bc7b11b0441f30d5a6c587dc...</td>\n",
       "      <td>1</td>\n",
       "      <td>30.00</td>\n",
       "      <td>34503-004</td>\n",
       "      <td>30.00</td>\n",
       "      <td>[34503-004, 34504-003, 35078-002]</td>\n",
       "      <td>4</td>\n",
       "      <td>85.00</td>\n",
       "      <td>['34503-004', '34504-003', '35078-002']</td>\n",
       "      <td>253265</td>\n",
       "      <td>3</td>\n",
       "      <td>2</td>\n",
       "    </tr>\n",
       "    <tr>\n",
       "      <th>1</th>\n",
       "      <td>5091</td>\n",
       "      <td>2019-01-26</td>\n",
       "      <td>9272</td>\n",
       "      <td>6f8e01cff2fe069d3e4b345c6b54a7b0c4a4bda408670a...</td>\n",
       "      <td>1</td>\n",
       "      <td>7.78</td>\n",
       "      <td>11003-003</td>\n",
       "      <td>7.78</td>\n",
       "      <td>[11003-003]</td>\n",
       "      <td>1</td>\n",
       "      <td>7.78</td>\n",
       "      <td>['11003-003']</td>\n",
       "      <td>304597</td>\n",
       "      <td>1</td>\n",
       "      <td>1</td>\n",
       "    </tr>\n",
       "  </tbody>\n",
       "</table>\n",
       "</div>"
      ],
      "text/plain": [
       "  location_id transaction_dt transaction_id  \\\n",
       "0        4517     2019-01-26           1966   \n",
       "1        5091     2019-01-26           9272   \n",
       "\n",
       "                                  customer_id_hashed  \\\n",
       "0  61f240fee1095d40aeee11bc7b11b0441f30d5a6c587dc...   \n",
       "1  6f8e01cff2fe069d3e4b345c6b54a7b0c4a4bda408670a...   \n",
       "\n",
       "   subclass_transaction_units  subclass_transaction_amt product_comb  price  \\\n",
       "0                           1                     30.00    34503-004  30.00   \n",
       "1                           1                      7.78    11003-003   7.78   \n",
       "\n",
       "                         basket_list  total_item_units  total_item_revenue  \\\n",
       "0  [34503-004, 34504-003, 35078-002]                 4               85.00   \n",
       "1                        [11003-003]                 1                7.78   \n",
       "\n",
       "                                basket_str  transactin_id_given  types  \\\n",
       "0  ['34503-004', '34504-003', '35078-002']               253265      3   \n",
       "1                            ['11003-003']               304597      1   \n",
       "\n",
       "  trans_count_by_id  \n",
       "0                 2  \n",
       "1                 1  "
      ]
     },
     "execution_count": 46,
     "metadata": {},
     "output_type": "execute_result"
    }
   ],
   "source": [
    "Rewards_data_transactions.head(2)"
   ]
  },
  {
   "cell_type": "code",
   "execution_count": null,
   "metadata": {
    "collapsed": true
   },
   "outputs": [],
   "source": []
  },
  {
   "cell_type": "code",
   "execution_count": null,
   "metadata": {
    "collapsed": true
   },
   "outputs": [],
   "source": [
    "'''\n",
    "data_basket_wide_actual=data_basket[data_basket['item_types']>1][['basket_list']]\n",
    "output_df=pd.DataFrame()\n",
    "def get_actual_wide_products(input_x):\n",
    "\n",
    "    df=pd.DataFrame({\"items\":input_x},index=[ind for ind in range(len(input_x))])\n",
    "    df['class']=df['items'].apply(lambda x: x.split(\"-\")[0])\n",
    "    df['price']=df['items'].apply(lambda x: dict_item_avg_price[x])\n",
    "    df=df.sort_values(\"price\",ascending=False).reset_index()\n",
    "    del df['index']\n",
    "    \n",
    "    champion_item=df['items'].tolist()[0]\n",
    "    champion_class=champion_item.split(\"-\")[0]\n",
    "    \n",
    "    df=df[df['items']!=champion_item]\n",
    "    df['identifier']=df['class'].apply(lambda x: str(x==champion_class)).replace(\"True\",\"Complementary\").replace(\"False\",\"Secondary\")\n",
    "    df=df.sort_values(['identifier','price'],ascending=[True,False]).head(4).reset_index()\n",
    "    del df['index']\n",
    "    \n",
    "    # empty_df=pd.DataFrame(columns=(\"items\",\"price\",'identifier'),index=[0])\n",
    "    \n",
    "    df_C=df[df['identifier']==\"Complementary\"]\n",
    "    df_S=df[df['identifier']==\"Secondary\"]\n",
    "    C_1=np.nan\n",
    "    C_2=np.nan\n",
    "    C_3=np.nan\n",
    "    C_4=np.nan\n",
    "    \n",
    "    S_1=np.nan\n",
    "    S_2=np.nan\n",
    "    S_3=np.nan\n",
    "    S_4=np.nan\n",
    "    \n",
    "    for i in range(len(df_C)):\n",
    "        locals()[\"C_\"+str(i+1)]=df_C['items'][i]\n",
    "    for i in range(len(df_S)):\n",
    "        locals()[\"S_\"+str(i+1)]=df_S['items'][i]\n",
    "    return champion_item,C_1,C_2,C_3,C_4,S_1,S_2,S_3,S_4\n",
    "'''"
   ]
  },
  {
   "cell_type": "code",
   "execution_count": null,
   "metadata": {},
   "outputs": [],
   "source": [
    "data_basket_wide_actual=data_basket[data_basket['item_types']>1][['basket_list']]\n",
    "len(data_basket_wide_actual)"
   ]
  },
  {
   "cell_type": "code",
   "execution_count": null,
   "metadata": {},
   "outputs": [],
   "source": [
    "input_a=data_basket[['basket_list']][2112:2222]\n",
    "print(datetime.datetime.now())\n",
    "# input_a['Campion'],input_a['Complementary_SubClass_1'],input_a['Complementary_SubClass_2'],input_a['Complementary_SubClass_3'],input_a['Complementary_SubClass_4'],input_a['Secondary_SubClass_1'],input_a['Secondary_SubClass_2'],input_a['Secondary_SubClass_3'],input_a['Secondary_SubClass_4']\n",
    "df_x=input_a['basket_list'].apply(lambda x: get_actual_wide_products(x))\n",
    "print(datetime.datetime.now())\n",
    "\n"
   ]
  },
  {
   "cell_type": "code",
   "execution_count": 146,
   "metadata": {},
   "outputs": [
    {
     "data": {
      "text/html": [
       "<div>\n",
       "<style>\n",
       "    .dataframe thead tr:only-child th {\n",
       "        text-align: right;\n",
       "    }\n",
       "\n",
       "    .dataframe thead th {\n",
       "        text-align: left;\n",
       "    }\n",
       "\n",
       "    .dataframe tbody tr th {\n",
       "        vertical-align: top;\n",
       "    }\n",
       "</style>\n",
       "<table border=\"1\" class=\"dataframe\">\n",
       "  <thead>\n",
       "    <tr style=\"text-align: right;\">\n",
       "      <th></th>\n",
       "      <th>basket_list</th>\n",
       "    </tr>\n",
       "  </thead>\n",
       "  <tbody>\n",
       "    <tr>\n",
       "      <th>2112</th>\n",
       "      <td>(31001-008, nan, nan, nan, nan, nan, nan, nan,...</td>\n",
       "    </tr>\n",
       "    <tr>\n",
       "      <th>2113</th>\n",
       "      <td>(21002-001, nan, nan, nan, nan, nan, nan, nan,...</td>\n",
       "    </tr>\n",
       "    <tr>\n",
       "      <th>2114</th>\n",
       "      <td>(21002-001, nan, nan, nan, nan, nan, nan, nan,...</td>\n",
       "    </tr>\n",
       "    <tr>\n",
       "      <th>2115</th>\n",
       "      <td>(21002-001, nan, nan, nan, nan, nan, nan, nan,...</td>\n",
       "    </tr>\n",
       "    <tr>\n",
       "      <th>2116</th>\n",
       "      <td>(21002-001, nan, nan, nan, nan, nan, nan, nan,...</td>\n",
       "    </tr>\n",
       "    <tr>\n",
       "      <th>2117</th>\n",
       "      <td>(21002-001, nan, nan, nan, nan, nan, nan, nan,...</td>\n",
       "    </tr>\n",
       "    <tr>\n",
       "      <th>2118</th>\n",
       "      <td>(21002-001, nan, nan, nan, nan, nan, nan, nan,...</td>\n",
       "    </tr>\n",
       "    <tr>\n",
       "      <th>2119</th>\n",
       "      <td>(21002-001, nan, nan, nan, nan, nan, nan, nan,...</td>\n",
       "    </tr>\n",
       "    <tr>\n",
       "      <th>2120</th>\n",
       "      <td>(21002-001, nan, nan, nan, nan, nan, nan, nan,...</td>\n",
       "    </tr>\n",
       "    <tr>\n",
       "      <th>2121</th>\n",
       "      <td>(21002-001, nan, nan, nan, nan, nan, nan, nan,...</td>\n",
       "    </tr>\n",
       "    <tr>\n",
       "      <th>2122</th>\n",
       "      <td>(21002-001, nan, nan, nan, nan, nan, nan, nan,...</td>\n",
       "    </tr>\n",
       "    <tr>\n",
       "      <th>2123</th>\n",
       "      <td>(21002-001, nan, nan, nan, nan, nan, nan, nan,...</td>\n",
       "    </tr>\n",
       "    <tr>\n",
       "      <th>2124</th>\n",
       "      <td>(21002-001, nan, nan, nan, nan, nan, nan, nan,...</td>\n",
       "    </tr>\n",
       "    <tr>\n",
       "      <th>2125</th>\n",
       "      <td>(21002-001, nan, nan, nan, nan, nan, nan, nan,...</td>\n",
       "    </tr>\n",
       "    <tr>\n",
       "      <th>2126</th>\n",
       "      <td>(21002-001, nan, nan, nan, nan, nan, nan, nan,...</td>\n",
       "    </tr>\n",
       "    <tr>\n",
       "      <th>2127</th>\n",
       "      <td>(34503-004, nan, nan, nan, nan, nan, nan, nan,...</td>\n",
       "    </tr>\n",
       "    <tr>\n",
       "      <th>2128</th>\n",
       "      <td>(21002-001, nan, nan, nan, nan, nan, nan, nan,...</td>\n",
       "    </tr>\n",
       "    <tr>\n",
       "      <th>2129</th>\n",
       "      <td>(21002-001, nan, nan, nan, nan, nan, nan, nan,...</td>\n",
       "    </tr>\n",
       "    <tr>\n",
       "      <th>2130</th>\n",
       "      <td>(21002-001, nan, nan, nan, nan, nan, nan, nan,...</td>\n",
       "    </tr>\n",
       "    <tr>\n",
       "      <th>2131</th>\n",
       "      <td>(35016-006, nan, nan, nan, nan, nan, nan, nan,...</td>\n",
       "    </tr>\n",
       "    <tr>\n",
       "      <th>2132</th>\n",
       "      <td>(21002-001, nan, nan, nan, nan, nan, nan, nan,...</td>\n",
       "    </tr>\n",
       "    <tr>\n",
       "      <th>2133</th>\n",
       "      <td>(21002-001, nan, nan, nan, nan, nan, nan, nan,...</td>\n",
       "    </tr>\n",
       "    <tr>\n",
       "      <th>2134</th>\n",
       "      <td>(21002-001, nan, nan, nan, nan, nan, nan, nan,...</td>\n",
       "    </tr>\n",
       "    <tr>\n",
       "      <th>2135</th>\n",
       "      <td>(35045-004, nan, nan, nan, nan, nan, nan, nan,...</td>\n",
       "    </tr>\n",
       "    <tr>\n",
       "      <th>2136</th>\n",
       "      <td>(35045-008, nan, nan, nan, nan, nan, nan, nan,...</td>\n",
       "    </tr>\n",
       "    <tr>\n",
       "      <th>2137</th>\n",
       "      <td>(21002-001, nan, nan, nan, nan, nan, nan, nan,...</td>\n",
       "    </tr>\n",
       "    <tr>\n",
       "      <th>2138</th>\n",
       "      <td>(21002-001, nan, nan, nan, nan, nan, nan, nan,...</td>\n",
       "    </tr>\n",
       "    <tr>\n",
       "      <th>2139</th>\n",
       "      <td>(21002-001, nan, nan, nan, nan, nan, nan, nan,...</td>\n",
       "    </tr>\n",
       "    <tr>\n",
       "      <th>2140</th>\n",
       "      <td>(21002-001, nan, nan, nan, nan, nan, nan, nan,...</td>\n",
       "    </tr>\n",
       "    <tr>\n",
       "      <th>2141</th>\n",
       "      <td>(21002-001, nan, nan, nan, nan, nan, nan, nan,...</td>\n",
       "    </tr>\n",
       "    <tr>\n",
       "      <th>...</th>\n",
       "      <td>...</td>\n",
       "    </tr>\n",
       "    <tr>\n",
       "      <th>2192</th>\n",
       "      <td>(31001-010, nan, nan, nan, nan, nan, nan, nan,...</td>\n",
       "    </tr>\n",
       "    <tr>\n",
       "      <th>2193</th>\n",
       "      <td>(31003-001, nan, nan, nan, nan, nan, nan, nan,...</td>\n",
       "    </tr>\n",
       "    <tr>\n",
       "      <th>2194</th>\n",
       "      <td>(21002-002, nan, nan, nan, nan, nan, nan, nan,...</td>\n",
       "    </tr>\n",
       "    <tr>\n",
       "      <th>2195</th>\n",
       "      <td>(31003-003, nan, nan, nan, nan, nan, nan, nan,...</td>\n",
       "    </tr>\n",
       "    <tr>\n",
       "      <th>2196</th>\n",
       "      <td>(31003-010, nan, nan, nan, nan, nan, nan, nan,...</td>\n",
       "    </tr>\n",
       "    <tr>\n",
       "      <th>2197</th>\n",
       "      <td>(31003-011, nan, nan, nan, nan, nan, nan, nan,...</td>\n",
       "    </tr>\n",
       "    <tr>\n",
       "      <th>2198</th>\n",
       "      <td>(31003-012, nan, nan, nan, nan, nan, nan, nan,...</td>\n",
       "    </tr>\n",
       "    <tr>\n",
       "      <th>2199</th>\n",
       "      <td>(31003-015, nan, nan, nan, nan, nan, nan, nan,...</td>\n",
       "    </tr>\n",
       "    <tr>\n",
       "      <th>2200</th>\n",
       "      <td>(31004-001, nan, nan, nan, nan, nan, nan, nan,...</td>\n",
       "    </tr>\n",
       "    <tr>\n",
       "      <th>2201</th>\n",
       "      <td>(31004-002, nan, nan, nan, nan, nan, nan, nan,...</td>\n",
       "    </tr>\n",
       "    <tr>\n",
       "      <th>2202</th>\n",
       "      <td>(31004-003, nan, nan, nan, nan, nan, nan, nan,...</td>\n",
       "    </tr>\n",
       "    <tr>\n",
       "      <th>2203</th>\n",
       "      <td>(31004-004, nan, nan, nan, nan, nan, nan, nan,...</td>\n",
       "    </tr>\n",
       "    <tr>\n",
       "      <th>2204</th>\n",
       "      <td>(31004-006, nan, nan, nan, nan, nan, nan, nan,...</td>\n",
       "    </tr>\n",
       "    <tr>\n",
       "      <th>2205</th>\n",
       "      <td>(31004-008, nan, nan, nan, nan, nan, nan, nan,...</td>\n",
       "    </tr>\n",
       "    <tr>\n",
       "      <th>2206</th>\n",
       "      <td>(31004-009, nan, nan, nan, nan, nan, nan, nan,...</td>\n",
       "    </tr>\n",
       "    <tr>\n",
       "      <th>2207</th>\n",
       "      <td>(31004-016, nan, nan, nan, nan, nan, nan, nan,...</td>\n",
       "    </tr>\n",
       "    <tr>\n",
       "      <th>2208</th>\n",
       "      <td>(31004-019, nan, nan, nan, nan, nan, nan, nan,...</td>\n",
       "    </tr>\n",
       "    <tr>\n",
       "      <th>2209</th>\n",
       "      <td>(31004-021, nan, nan, nan, nan, nan, nan, nan,...</td>\n",
       "    </tr>\n",
       "    <tr>\n",
       "      <th>2210</th>\n",
       "      <td>(21002-002, nan, nan, nan, nan, nan, nan, nan,...</td>\n",
       "    </tr>\n",
       "    <tr>\n",
       "      <th>2211</th>\n",
       "      <td>(32006-001, nan, nan, nan, nan, nan, nan, nan,...</td>\n",
       "    </tr>\n",
       "    <tr>\n",
       "      <th>2212</th>\n",
       "      <td>(32006-004, nan, nan, nan, nan, nan, nan, nan,...</td>\n",
       "    </tr>\n",
       "    <tr>\n",
       "      <th>2213</th>\n",
       "      <td>(33002-005, nan, nan, nan, nan, nan, nan, nan,...</td>\n",
       "    </tr>\n",
       "    <tr>\n",
       "      <th>2214</th>\n",
       "      <td>(33003-002, nan, nan, nan, nan, nan, nan, nan,...</td>\n",
       "    </tr>\n",
       "    <tr>\n",
       "      <th>2215</th>\n",
       "      <td>(33003-004, nan, nan, nan, nan, nan, nan, nan,...</td>\n",
       "    </tr>\n",
       "    <tr>\n",
       "      <th>2216</th>\n",
       "      <td>(33004-001, nan, nan, nan, nan, nan, nan, nan,...</td>\n",
       "    </tr>\n",
       "    <tr>\n",
       "      <th>2217</th>\n",
       "      <td>(21002-002, nan, nan, nan, nan, nan, nan, nan,...</td>\n",
       "    </tr>\n",
       "    <tr>\n",
       "      <th>2218</th>\n",
       "      <td>(33004-006, nan, nan, nan, nan, nan, nan, nan,...</td>\n",
       "    </tr>\n",
       "    <tr>\n",
       "      <th>2219</th>\n",
       "      <td>(34003-001, nan, nan, nan, nan, nan, nan, nan,...</td>\n",
       "    </tr>\n",
       "    <tr>\n",
       "      <th>2220</th>\n",
       "      <td>(21002-002, nan, nan, nan, nan, nan, nan, nan,...</td>\n",
       "    </tr>\n",
       "    <tr>\n",
       "      <th>2221</th>\n",
       "      <td>(21002-002, nan, nan, nan, nan, nan, nan, nan,...</td>\n",
       "    </tr>\n",
       "  </tbody>\n",
       "</table>\n",
       "<p>110 rows × 1 columns</p>\n",
       "</div>"
      ],
      "text/plain": [
       "                                            basket_list\n",
       "2112  (31001-008, nan, nan, nan, nan, nan, nan, nan,...\n",
       "2113  (21002-001, nan, nan, nan, nan, nan, nan, nan,...\n",
       "2114  (21002-001, nan, nan, nan, nan, nan, nan, nan,...\n",
       "2115  (21002-001, nan, nan, nan, nan, nan, nan, nan,...\n",
       "2116  (21002-001, nan, nan, nan, nan, nan, nan, nan,...\n",
       "2117  (21002-001, nan, nan, nan, nan, nan, nan, nan,...\n",
       "2118  (21002-001, nan, nan, nan, nan, nan, nan, nan,...\n",
       "2119  (21002-001, nan, nan, nan, nan, nan, nan, nan,...\n",
       "2120  (21002-001, nan, nan, nan, nan, nan, nan, nan,...\n",
       "2121  (21002-001, nan, nan, nan, nan, nan, nan, nan,...\n",
       "2122  (21002-001, nan, nan, nan, nan, nan, nan, nan,...\n",
       "2123  (21002-001, nan, nan, nan, nan, nan, nan, nan,...\n",
       "2124  (21002-001, nan, nan, nan, nan, nan, nan, nan,...\n",
       "2125  (21002-001, nan, nan, nan, nan, nan, nan, nan,...\n",
       "2126  (21002-001, nan, nan, nan, nan, nan, nan, nan,...\n",
       "2127  (34503-004, nan, nan, nan, nan, nan, nan, nan,...\n",
       "2128  (21002-001, nan, nan, nan, nan, nan, nan, nan,...\n",
       "2129  (21002-001, nan, nan, nan, nan, nan, nan, nan,...\n",
       "2130  (21002-001, nan, nan, nan, nan, nan, nan, nan,...\n",
       "2131  (35016-006, nan, nan, nan, nan, nan, nan, nan,...\n",
       "2132  (21002-001, nan, nan, nan, nan, nan, nan, nan,...\n",
       "2133  (21002-001, nan, nan, nan, nan, nan, nan, nan,...\n",
       "2134  (21002-001, nan, nan, nan, nan, nan, nan, nan,...\n",
       "2135  (35045-004, nan, nan, nan, nan, nan, nan, nan,...\n",
       "2136  (35045-008, nan, nan, nan, nan, nan, nan, nan,...\n",
       "2137  (21002-001, nan, nan, nan, nan, nan, nan, nan,...\n",
       "2138  (21002-001, nan, nan, nan, nan, nan, nan, nan,...\n",
       "2139  (21002-001, nan, nan, nan, nan, nan, nan, nan,...\n",
       "2140  (21002-001, nan, nan, nan, nan, nan, nan, nan,...\n",
       "2141  (21002-001, nan, nan, nan, nan, nan, nan, nan,...\n",
       "...                                                 ...\n",
       "2192  (31001-010, nan, nan, nan, nan, nan, nan, nan,...\n",
       "2193  (31003-001, nan, nan, nan, nan, nan, nan, nan,...\n",
       "2194  (21002-002, nan, nan, nan, nan, nan, nan, nan,...\n",
       "2195  (31003-003, nan, nan, nan, nan, nan, nan, nan,...\n",
       "2196  (31003-010, nan, nan, nan, nan, nan, nan, nan,...\n",
       "2197  (31003-011, nan, nan, nan, nan, nan, nan, nan,...\n",
       "2198  (31003-012, nan, nan, nan, nan, nan, nan, nan,...\n",
       "2199  (31003-015, nan, nan, nan, nan, nan, nan, nan,...\n",
       "2200  (31004-001, nan, nan, nan, nan, nan, nan, nan,...\n",
       "2201  (31004-002, nan, nan, nan, nan, nan, nan, nan,...\n",
       "2202  (31004-003, nan, nan, nan, nan, nan, nan, nan,...\n",
       "2203  (31004-004, nan, nan, nan, nan, nan, nan, nan,...\n",
       "2204  (31004-006, nan, nan, nan, nan, nan, nan, nan,...\n",
       "2205  (31004-008, nan, nan, nan, nan, nan, nan, nan,...\n",
       "2206  (31004-009, nan, nan, nan, nan, nan, nan, nan,...\n",
       "2207  (31004-016, nan, nan, nan, nan, nan, nan, nan,...\n",
       "2208  (31004-019, nan, nan, nan, nan, nan, nan, nan,...\n",
       "2209  (31004-021, nan, nan, nan, nan, nan, nan, nan,...\n",
       "2210  (21002-002, nan, nan, nan, nan, nan, nan, nan,...\n",
       "2211  (32006-001, nan, nan, nan, nan, nan, nan, nan,...\n",
       "2212  (32006-004, nan, nan, nan, nan, nan, nan, nan,...\n",
       "2213  (33002-005, nan, nan, nan, nan, nan, nan, nan,...\n",
       "2214  (33003-002, nan, nan, nan, nan, nan, nan, nan,...\n",
       "2215  (33003-004, nan, nan, nan, nan, nan, nan, nan,...\n",
       "2216  (33004-001, nan, nan, nan, nan, nan, nan, nan,...\n",
       "2217  (21002-002, nan, nan, nan, nan, nan, nan, nan,...\n",
       "2218  (33004-006, nan, nan, nan, nan, nan, nan, nan,...\n",
       "2219  (34003-001, nan, nan, nan, nan, nan, nan, nan,...\n",
       "2220  (21002-002, nan, nan, nan, nan, nan, nan, nan,...\n",
       "2221  (21002-002, nan, nan, nan, nan, nan, nan, nan,...\n",
       "\n",
       "[110 rows x 1 columns]"
      ]
     },
     "execution_count": 146,
     "metadata": {},
     "output_type": "execute_result"
    }
   ],
   "source": [
    "pd.DataFrame(df_x)"
   ]
  },
  {
   "cell_type": "code",
   "execution_count": 141,
   "metadata": {},
   "outputs": [
    {
     "data": {
      "text/html": [
       "<div>\n",
       "<style>\n",
       "    .dataframe thead tr:only-child th {\n",
       "        text-align: right;\n",
       "    }\n",
       "\n",
       "    .dataframe thead th {\n",
       "        text-align: left;\n",
       "    }\n",
       "\n",
       "    .dataframe tbody tr th {\n",
       "        vertical-align: top;\n",
       "    }\n",
       "</style>\n",
       "<table border=\"1\" class=\"dataframe\">\n",
       "  <thead>\n",
       "    <tr style=\"text-align: right;\">\n",
       "      <th></th>\n",
       "      <th>A</th>\n",
       "      <th>B</th>\n",
       "      <th>C</th>\n",
       "    </tr>\n",
       "  </thead>\n",
       "  <tbody>\n",
       "    <tr>\n",
       "      <th>0</th>\n",
       "      <td>a</td>\n",
       "      <td>aa</td>\n",
       "      <td>bb</td>\n",
       "    </tr>\n",
       "    <tr>\n",
       "      <th>1</th>\n",
       "      <td>b</td>\n",
       "      <td>A</td>\n",
       "      <td>B</td>\n",
       "    </tr>\n",
       "  </tbody>\n",
       "</table>\n",
       "</div>"
      ],
      "text/plain": [
       "   A   B   C\n",
       "0  a  aa  bb\n",
       "1  b   A   B"
      ]
     },
     "execution_count": 141,
     "metadata": {},
     "output_type": "execute_result"
    }
   ],
   "source": [
    "test=pd.DataFrame({\"A\":[\"a\",\"b\"]},index=[0,1])\n",
    "def test_input(x):\n",
    "    o_1=x*2\n",
    "    o_2=x.upper()\n",
    "    return o_1,o_2\n",
    "test['B'],test['C']=test['A'].apply(lambda x: test_input(x))\n",
    "test"
   ]
  },
  {
   "cell_type": "code",
   "execution_count": 51,
   "metadata": {
    "collapsed": true
   },
   "outputs": [],
   "source": [
    "def brewak_basket_to_top_5(input_x):\n",
    "    input_x=eval(input_x)\n",
    "    len_input_x=len(input_x)\n",
    "    df=pd.DataFrame({\"subcalss_item\":input_x},index=range(len(len_input_x)))\n",
    "    df['price']=df['subcalss_item'].apply(lambda x: data_item_avg_price_dict[x])\n",
    "    df=df.sort_values(\"price\",ascending=False).head(5)\n",
    "    \n",
    "    chapion_subclass=df['subcalss_item'].tolist()[0]\n",
    "    df['class_code_id']=df['subcalss_item'].apply(lambda x: x.split({\"-\"}[0]))\n",
    "    chapion_subclass_id=df['class_code_id'].tolist(0)\n",
    "    \n",
    "    complementary_subclass_df=df[df['class_code_id']==chapion_class_id]\n",
    "    \n",
    "    if len(complementary_subclass_df)>0:\n",
    "        complementary_subclass_df_1=complementary_subclass_df.head(3)\n",
    "        complementary_subclass_df_2="
   ]
  },
  {
   "cell_type": "code",
   "execution_count": 56,
   "metadata": {},
   "outputs": [
    {
     "data": {
      "text/plain": [
       "(43101, 7)"
      ]
     },
     "execution_count": 56,
     "metadata": {},
     "output_type": "execute_result"
    }
   ],
   "source": [
    "data_basket.shape"
   ]
  },
  {
   "cell_type": "code",
   "execution_count": 48,
   "metadata": {},
   "outputs": [
    {
     "data": {
      "text/html": [
       "<div>\n",
       "<style>\n",
       "    .dataframe thead tr:only-child th {\n",
       "        text-align: right;\n",
       "    }\n",
       "\n",
       "    .dataframe thead th {\n",
       "        text-align: left;\n",
       "    }\n",
       "\n",
       "    .dataframe tbody tr th {\n",
       "        vertical-align: top;\n",
       "    }\n",
       "</style>\n",
       "<table border=\"1\" class=\"dataframe\">\n",
       "  <thead>\n",
       "    <tr style=\"text-align: right;\">\n",
       "      <th></th>\n",
       "      <th>product_comb</th>\n",
       "      <th>avg_price</th>\n",
       "      <th>division_id</th>\n",
       "      <th>division_desc</th>\n",
       "      <th>department_id</th>\n",
       "      <th>department_desc</th>\n",
       "      <th>class_code_id</th>\n",
       "      <th>class_code_desc</th>\n",
       "      <th>subclass_id</th>\n",
       "      <th>subclass_desc</th>\n",
       "    </tr>\n",
       "  </thead>\n",
       "  <tbody>\n",
       "    <tr>\n",
       "      <th>0</th>\n",
       "      <td>11001-001</td>\n",
       "      <td>2.570352</td>\n",
       "      <td>1</td>\n",
       "      <td>FOOD</td>\n",
       "      <td>108</td>\n",
       "      <td>CANDYSNACK</td>\n",
       "      <td>11001</td>\n",
       "      <td>CANDY</td>\n",
       "      <td>001</td>\n",
       "      <td>Chocolate Bagged</td>\n",
       "    </tr>\n",
       "    <tr>\n",
       "      <th>1</th>\n",
       "      <td>11001-002</td>\n",
       "      <td>1.809745</td>\n",
       "      <td>1</td>\n",
       "      <td>FOOD</td>\n",
       "      <td>108</td>\n",
       "      <td>CANDYSNACK</td>\n",
       "      <td>11001</td>\n",
       "      <td>CANDY</td>\n",
       "      <td>002</td>\n",
       "      <td>Non-Chocolate Bagged</td>\n",
       "    </tr>\n",
       "  </tbody>\n",
       "</table>\n",
       "</div>"
      ],
      "text/plain": [
       "  product_comb  avg_price division_id division_desc department_id  \\\n",
       "0    11001-001   2.570352           1          FOOD           108   \n",
       "1    11001-002   1.809745           1          FOOD           108   \n",
       "\n",
       "  department_desc class_code_id class_code_desc subclass_id  \\\n",
       "0      CANDYSNACK         11001           CANDY         001   \n",
       "1      CANDYSNACK         11001           CANDY         002   \n",
       "\n",
       "          subclass_desc  \n",
       "0      Chocolate Bagged  \n",
       "1  Non-Chocolate Bagged  "
      ]
     },
     "execution_count": 48,
     "metadata": {},
     "output_type": "execute_result"
    }
   ],
   "source": [
    "data_item_avg_price.head(2)"
   ]
  },
  {
   "cell_type": "code",
   "execution_count": 53,
   "metadata": {},
   "outputs": [
    {
     "data": {
      "text/html": [
       "<div>\n",
       "<style>\n",
       "    .dataframe thead tr:only-child th {\n",
       "        text-align: right;\n",
       "    }\n",
       "\n",
       "    .dataframe thead th {\n",
       "        text-align: left;\n",
       "    }\n",
       "\n",
       "    .dataframe tbody tr th {\n",
       "        vertical-align: top;\n",
       "    }\n",
       "</style>\n",
       "<table border=\"1\" class=\"dataframe\">\n",
       "  <thead>\n",
       "    <tr style=\"text-align: right;\">\n",
       "      <th></th>\n",
       "      <th>location_id</th>\n",
       "      <th>transaction_dt</th>\n",
       "      <th>transaction_id</th>\n",
       "      <th>customer_id_hashed</th>\n",
       "      <th>subclass_transaction_units</th>\n",
       "      <th>subclass_transaction_amt</th>\n",
       "      <th>product_comb</th>\n",
       "      <th>price</th>\n",
       "      <th>basket_list</th>\n",
       "      <th>total_item_units</th>\n",
       "      <th>total_item_revenue</th>\n",
       "      <th>basket_str</th>\n",
       "      <th>transactin_id_given</th>\n",
       "      <th>types</th>\n",
       "      <th>trans_count_by_id</th>\n",
       "    </tr>\n",
       "  </thead>\n",
       "  <tbody>\n",
       "    <tr>\n",
       "      <th>0</th>\n",
       "      <td>5214</td>\n",
       "      <td>2019-02-03</td>\n",
       "      <td>6854</td>\n",
       "      <td>bd1b066c07df0780663dd52cdb8f8ded3a1d23654602e9...</td>\n",
       "      <td>2</td>\n",
       "      <td>18.0</td>\n",
       "      <td>36406-004</td>\n",
       "      <td>9.0</td>\n",
       "      <td>[36406-004]</td>\n",
       "      <td>2</td>\n",
       "      <td>18.0</td>\n",
       "      <td>['36406-004']</td>\n",
       "      <td>302206</td>\n",
       "      <td>1</td>\n",
       "      <td>2</td>\n",
       "    </tr>\n",
       "    <tr>\n",
       "      <th>1</th>\n",
       "      <td>1372</td>\n",
       "      <td>2019-02-09</td>\n",
       "      <td>7668</td>\n",
       "      <td>c1679177fcec7e56bf32ba9c1593bea4a12fa932238169...</td>\n",
       "      <td>2</td>\n",
       "      <td>20.0</td>\n",
       "      <td>36406-004</td>\n",
       "      <td>10.0</td>\n",
       "      <td>[36406-004, 35080-010]</td>\n",
       "      <td>3</td>\n",
       "      <td>35.0</td>\n",
       "      <td>['35080-010', '36406-004']</td>\n",
       "      <td>42354</td>\n",
       "      <td>2</td>\n",
       "      <td>1</td>\n",
       "    </tr>\n",
       "  </tbody>\n",
       "</table>\n",
       "</div>"
      ],
      "text/plain": [
       "  location_id transaction_dt transaction_id  \\\n",
       "0        5214     2019-02-03           6854   \n",
       "1        1372     2019-02-09           7668   \n",
       "\n",
       "                                  customer_id_hashed  \\\n",
       "0  bd1b066c07df0780663dd52cdb8f8ded3a1d23654602e9...   \n",
       "1  c1679177fcec7e56bf32ba9c1593bea4a12fa932238169...   \n",
       "\n",
       "   subclass_transaction_units  subclass_transaction_amt product_comb  price  \\\n",
       "0                           2                      18.0    36406-004    9.0   \n",
       "1                           2                      20.0    36406-004   10.0   \n",
       "\n",
       "              basket_list  total_item_units  total_item_revenue  \\\n",
       "0             [36406-004]                 2                18.0   \n",
       "1  [36406-004, 35080-010]                 3                35.0   \n",
       "\n",
       "                   basket_str  transactin_id_given  types trans_count_by_id  \n",
       "0               ['36406-004']               302206      1                 2  \n",
       "1  ['35080-010', '36406-004']                42354      2                 1  "
      ]
     },
     "execution_count": 53,
     "metadata": {},
     "output_type": "execute_result"
    }
   ],
   "source": [
    "Rewards_data_transactions.head(2)"
   ]
  },
  {
   "cell_type": "code",
   "execution_count": 54,
   "metadata": {},
   "outputs": [
    {
     "data": {
      "text/plain": [
       "370493"
      ]
     },
     "execution_count": 54,
     "metadata": {},
     "output_type": "execute_result"
    }
   ],
   "source": [
    "Rewards_data_transactions['transactin_id_given'].max()"
   ]
  },
  {
   "cell_type": "code",
   "execution_count": 26,
   "metadata": {
    "collapsed": true
   },
   "outputs": [],
   "source": [
    "writer=pd.ExcelWriter(output_folder+'BL_DBasket_Version2_JL_'+str(datetime.datetime.now().date())+\".xlsx\",engine=\"xlsxwriter\")\n",
    "# output=output[['basket_str','basket_list','BAI_trans','BAI_units','item_types','total_item_revenue','total_item_units','trans_count','unique_ids','price_list']]\n",
    "output_all_1234_available=output_all_1234_available[['basket_list','BAI_Trans','BAI_Items','item_types','revenue','Total_Units','Total_Trans','unique_ids']]\n",
    "output_all_1234_available=output_all_1234_available.sort_values(['item_types','BAI_Trans'],ascending=[True,False])\n",
    "output_all_1234_available.to_excel(writer,\"BAI_including_subsets\",index=False)\n",
    "data_basket.to_excel(writer,\"basket_shopped_together\",index=False)\n",
    "writer.save()\n",
    "\n",
    "logging.info(\"Done: \"+str(datetime.datetime.now()))"
   ]
  },
  {
   "cell_type": "code",
   "execution_count": 27,
   "metadata": {
    "collapsed": true
   },
   "outputs": [],
   "source": [
    "output_all_1234_available.to_csv(output_folder+\"BL_DBasket_Version2_BAI_output_JL_\"+str(datetime.datetime.now().date())+\".csv\",index=False)\n",
    "data_basket.to_csv(output_folder+\"BL_DBasket_Version2_actual_whole_baskets_output_JL_\"+str(datetime.datetime.now().date())+\".csv\",index=False)\n",
    "\n"
   ]
  },
  {
   "cell_type": "code",
   "execution_count": 33,
   "metadata": {},
   "outputs": [
    {
     "data": {
      "text/plain": [
       "(1242554, 8)"
      ]
     },
     "execution_count": 33,
     "metadata": {},
     "output_type": "execute_result"
    }
   ],
   "source": [
    "output_all_1234_available.shape"
   ]
  },
  {
   "cell_type": "code",
   "execution_count": 37,
   "metadata": {
    "collapsed": true
   },
   "outputs": [],
   "source": [
    "output_all_1234_available[output_all_1234_available['item_types']==1].to_csv(output_folder+\"BL_DBasket_Version2_BAI_output_Item_1_JL_\"+str(datetime.datetime.now().date())+\".csv\",index=False)\n",
    "output_all_1234_available[output_all_1234_available['item_types']==2].to_csv(output_folder+\"BL_DBasket_Version2_BAI_output_Item_2_JL_\"+str(datetime.datetime.now().date())+\".csv\",index=False)\n",
    "output_all_1234_available[output_all_1234_available['item_types']==3].to_csv(output_folder+\"BL_DBasket_Version2_BAI_output_Item_3_JL_\"+str(datetime.datetime.now().date())+\".csv\",index=False)\n",
    "output_all_1234_available[output_all_1234_available['item_types']==4].to_csv(output_folder+\"BL_DBasket_Version2_BAI_output_Item_4_JL_\"+str(datetime.datetime.now().date())+\".csv\",index=False)\n",
    "output_all_1234_available[output_all_1234_available['item_types']>=5].to_csv(output_folder+\"BL_DBasket_Version2_BAI_output_Item_5Plus_JL_\"+str(datetime.datetime.now().date())+\".csv\",index=False)\n",
    "\n",
    "\n"
   ]
  }
 ],
 "metadata": {
  "kernelspec": {
   "display_name": "Python 3",
   "language": "python",
   "name": "python3"
  },
  "language_info": {
   "codemirror_mode": {
    "name": "ipython",
    "version": 3
   },
   "file_extension": ".py",
   "mimetype": "text/x-python",
   "name": "python",
   "nbconvert_exporter": "python",
   "pygments_lexer": "ipython3",
   "version": "3.6.1"
  }
 },
 "nbformat": 4,
 "nbformat_minor": 2
}
