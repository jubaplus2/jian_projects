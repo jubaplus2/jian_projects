{
 "cells": [
  {
   "cell_type": "code",
   "execution_count": 1,
   "metadata": {},
   "outputs": [],
   "source": [
    "import Function_UploadEmail as uploademail\n",
    "import pandas as pd\n",
    "import paramiko\n",
    "\n",
    "\n"
   ]
  },
  {
   "cell_type": "code",
   "execution_count": 5,
   "metadata": {},
   "outputs": [
    {
     "name": "stdout",
     "output_type": "stream",
     "text": [
      "Encode_2019.11.14_MediaStorm_SB_Suppression_List\n"
     ]
    }
   ],
   "source": [
    "folderpath = '/mnt/drv5/Ubank/DnB Uploads Small Business/' # change here\n",
    "\n",
    "##Facebook \n",
    "ACCESS_TOKEN = ''\n",
    "accountid = 'act_557999181273145'\n",
    "\n",
    "#### upload to Facebook\n",
    "import os\n",
    "filelist = os.listdir(folderpath)\n",
    "filelist = [i for i in filelist if 'SB_Suppression_List' in i]\n",
    "for filename in filelist:\n",
    "    fbname = filename[0:-4]\n",
    "    filename = folderpath + filename\n",
    "    df = pd.read_csv(filename)\n",
    "    email_col = [i for i in df.columns.tolist() if 'sha_256' in i and 'email' in i]\n",
    "    df['email'] = df[email_col[0]]\n",
    "    uploademail.creatfbaudience(fbname,df,ACCESS_TOKEN,accountid)\n",
    "    print(fbname)\n",
    "\n"
   ]
  },
  {
   "cell_type": "code",
   "execution_count": 10,
   "metadata": {},
   "outputs": [
    {
     "name": "stderr",
     "output_type": "stream",
     "text": [
      "/usr/local/lib/python3.6/site-packages/paramiko/kex_ecdh_nist.py:39: CryptographyDeprecationWarning: encode_point has been deprecated on EllipticCurvePublicNumbers and will be removed in a future version. Please use EllipticCurvePublicKey.public_bytes to obtain both compressed and uncompressed point encoding.\n",
      "  m.add_string(self.Q_C.public_numbers().encode_point())\n",
      "/usr/local/lib/python3.6/site-packages/paramiko/kex_ecdh_nist.py:96: CryptographyDeprecationWarning: Support for unsafe construction of public numbers from encoded data will be removed in a future version. Please use EllipticCurvePublicKey.from_encoded_point\n",
      "  self.curve, Q_S_bytes\n",
      "/usr/local/lib/python3.6/site-packages/paramiko/kex_ecdh_nist.py:111: CryptographyDeprecationWarning: encode_point has been deprecated on EllipticCurvePublicNumbers and will be removed in a future version. Please use EllipticCurvePublicKey.public_bytes to obtain both compressed and uncompressed point encoding.\n",
      "  hm.add_string(self.Q_C.public_numbers().encode_point())\n"
     ]
    }
   ],
   "source": [
    "#### upload to Live Ramp\n",
    "liverampfolder = '/uploads/mediastorm_onboarding_umpqua/'\n",
    "transport = uploademail.build_transport()\n",
    "sftp = paramiko.SFTPClient.from_transport(transport)\n",
    "for filename in filelist:\n",
    "    sftp.put(folderpath + filename,\n",
    "             liverampfolder + filename)\n",
    "sftp.close()\n",
    "transport.close()"
   ]
  },
  {
   "cell_type": "code",
   "execution_count": 7,
   "metadata": {},
   "outputs": [
    {
     "name": "stdout",
     "output_type": "stream",
     "text": [
      "Uploaded 1363 items to user list with name \"Encode_2019.11.14_MediaStorm_SB_Suppression_List\" and ID \"881677941\"\n",
      "Uploaded 1646 items to user list with name \"Encode_2019.11.14_MediaStorm_SB_Suppression_List\" and ID \"881677941\"\n",
      "Uploaded 1173 items to user list with name \"Encode_2019.11.14_MediaStorm_SB_Suppression_List\" and ID \"881677941\"\n",
      "Uploaded 1362 items to user list with name \"Encode_2019.11.14_MediaStorm_SB_Suppression_List\" and ID \"881677941\"\n",
      "Uploaded 1327 items to user list with name \"Encode_2019.11.14_MediaStorm_SB_Suppression_List\" and ID \"881677941\"\n",
      "Uploaded 1350 items to user list with name \"Encode_2019.11.14_MediaStorm_SB_Suppression_List\" and ID \"881677941\"\n",
      "Uploaded 1296 items to user list with name \"Encode_2019.11.14_MediaStorm_SB_Suppression_List\" and ID \"881677941\"\n",
      "Uploaded 1367 items to user list with name \"Encode_2019.11.14_MediaStorm_SB_Suppression_List\" and ID \"881677941\"\n",
      "Uploaded 1345 items to user list with name \"Encode_2019.11.14_MediaStorm_SB_Suppression_List\" and ID \"881677941\"\n",
      "Uploaded 1494 items to user list with name \"Encode_2019.11.14_MediaStorm_SB_Suppression_List\" and ID \"881677941\"\n",
      "Uploaded 1709 items to user list with name \"Encode_2019.11.14_MediaStorm_SB_Suppression_List\" and ID \"881677941\"\n",
      "Uploaded 1533 items to user list with name \"Encode_2019.11.14_MediaStorm_SB_Suppression_List\" and ID \"881677941\"\n",
      "Uploaded 1319 items to user list with name \"Encode_2019.11.14_MediaStorm_SB_Suppression_List\" and ID \"881677941\"\n",
      "Uploaded 612 items to user list with name \"Encode_2019.11.14_MediaStorm_SB_Suppression_List\" and ID \"881677941\"\n",
      "Uploaded 1016 items to user list with name \"Encode_2019.11.14_MediaStorm_SB_Suppression_List\" and ID \"881677941\"\n",
      "Uploaded 904 items to user list with name \"Encode_2019.11.14_MediaStorm_SB_Suppression_List\" and ID \"881677941\"\n",
      "Uploaded 735 items to user list with name \"Encode_2019.11.14_MediaStorm_SB_Suppression_List\" and ID \"881677941\"\n",
      "Uploaded 680 items to user list with name \"Encode_2019.11.14_MediaStorm_SB_Suppression_List\" and ID \"881677941\"\n",
      "Uploaded 681 items to user list with name \"Encode_2019.11.14_MediaStorm_SB_Suppression_List\" and ID \"881677941\"\n",
      "Uploaded 675 items to user list with name \"Encode_2019.11.14_MediaStorm_SB_Suppression_List\" and ID \"881677941\"\n",
      "Uploaded 565 items to user list with name \"Encode_2019.11.14_MediaStorm_SB_Suppression_List\" and ID \"881677941\"\n",
      "Uploaded 744 items to user list with name \"Encode_2019.11.14_MediaStorm_SB_Suppression_List\" and ID \"881677941\"\n",
      "Uploaded 821 items to user list with name \"Encode_2019.11.14_MediaStorm_SB_Suppression_List\" and ID \"881677941\"\n",
      "Uploaded 1121 items to user list with name \"Encode_2019.11.14_MediaStorm_SB_Suppression_List\" and ID \"881677941\"\n",
      "Uploaded 1381 items to user list with name \"Encode_2019.11.14_MediaStorm_SB_Suppression_List\" and ID \"881677941\"\n",
      "Uploaded 1602 items to user list with name \"Encode_2019.11.14_MediaStorm_SB_Suppression_List\" and ID \"881677941\"\n",
      "Uploaded 1712 items to user list with name \"Encode_2019.11.14_MediaStorm_SB_Suppression_List\" and ID \"881677941\"\n",
      "Uploaded 1706 items to user list with name \"Encode_2019.11.14_MediaStorm_SB_Suppression_List\" and ID \"881677941\"\n",
      "Uploaded 1655 items to user list with name \"Encode_2019.11.14_MediaStorm_SB_Suppression_List\" and ID \"881677941\"\n",
      "Uploaded 1104 items to user list with name \"Encode_2019.11.14_MediaStorm_SB_Suppression_List\" and ID \"881677941\"\n",
      "Uploaded 1271 items to user list with name \"Encode_2019.11.14_MediaStorm_SB_Suppression_List\" and ID \"881677941\"\n",
      "Uploaded 1382 items to user list with name \"Encode_2019.11.14_MediaStorm_SB_Suppression_List\" and ID \"881677941\"\n",
      "Uploaded 1364 items to user list with name \"Encode_2019.11.14_MediaStorm_SB_Suppression_List\" and ID \"881677941\"\n",
      "Uploaded 1492 items to user list with name \"Encode_2019.11.14_MediaStorm_SB_Suppression_List\" and ID \"881677941\"\n",
      "Uploaded 978 items to user list with name \"Encode_2019.11.14_MediaStorm_SB_Suppression_List\" and ID \"881677941\"\n",
      "Uploaded 550 items to user list with name \"Encode_2019.11.14_MediaStorm_SB_Suppression_List\" and ID \"881677941\"\n",
      "Uploaded 796 items to user list with name \"Encode_2019.11.14_MediaStorm_SB_Suppression_List\" and ID \"881677941\"\n",
      "Uploaded 851 items to user list with name \"Encode_2019.11.14_MediaStorm_SB_Suppression_List\" and ID \"881677941\"\n",
      "Uploaded 918 items to user list with name \"Encode_2019.11.14_MediaStorm_SB_Suppression_List\" and ID \"881677941\"\n",
      "Uploaded 893 items to user list with name \"Encode_2019.11.14_MediaStorm_SB_Suppression_List\" and ID \"881677941\"\n",
      "Uploaded 830 items to user list with name \"Encode_2019.11.14_MediaStorm_SB_Suppression_List\" and ID \"881677941\"\n",
      "Uploaded 906 items to user list with name \"Encode_2019.11.14_MediaStorm_SB_Suppression_List\" and ID \"881677941\"\n",
      "Uploaded 906 items to user list with name \"Encode_2019.11.14_MediaStorm_SB_Suppression_List\" and ID \"881677941\"\n",
      "Uploaded 916 items to user list with name \"Encode_2019.11.14_MediaStorm_SB_Suppression_List\" and ID \"881677941\"\n",
      "Uploaded 939 items to user list with name \"Encode_2019.11.14_MediaStorm_SB_Suppression_List\" and ID \"881677941\"\n",
      "Uploaded 946 items to user list with name \"Encode_2019.11.14_MediaStorm_SB_Suppression_List\" and ID \"881677941\"\n",
      "Uploaded 1040 items to user list with name \"Encode_2019.11.14_MediaStorm_SB_Suppression_List\" and ID \"881677941\"\n",
      "Uploaded 1032 items to user list with name \"Encode_2019.11.14_MediaStorm_SB_Suppression_List\" and ID \"881677941\"\n",
      "Uploaded 1035 items to user list with name \"Encode_2019.11.14_MediaStorm_SB_Suppression_List\" and ID \"881677941\"\n",
      "Uploaded 973 items to user list with name \"Encode_2019.11.14_MediaStorm_SB_Suppression_List\" and ID \"881677941\"\n",
      "Uploaded 974 items to user list with name \"Encode_2019.11.14_MediaStorm_SB_Suppression_List\" and ID \"881677941\"\n",
      "Uploaded 912 items to user list with name \"Encode_2019.11.14_MediaStorm_SB_Suppression_List\" and ID \"881677941\"\n",
      "Uploaded 296 items to user list with name \"Encode_2019.11.14_MediaStorm_SB_Suppression_List\" and ID \"881677941\"\n"
     ]
    }
   ],
   "source": [
    "#### upload to Adwords\n",
    "# change config in googlead_sk.yaml file\n",
    "from googleads import adwords\n",
    "auth_file_path = './googleads_sk.yaml'\n",
    "email_path = '/mnt/drv5/Ubank/DnB Uploads Small Business/Encode_2019.11.14_MediaStorm_SB_Suppression_List.csv'\n",
    "\n",
    "adwords_client = adwords.AdWordsClient.LoadFromStorage(auth_file_path)\n",
    "uploademail.main(adwords_client, email_path)"
   ]
  },
  {
   "cell_type": "code",
   "execution_count": null,
   "metadata": {},
   "outputs": [],
   "source": []
  }
 ],
 "metadata": {
  "kernelspec": {
   "display_name": "Python 3",
   "language": "python",
   "name": "python3"
  },
  "language_info": {
   "codemirror_mode": {
    "name": "ipython",
    "version": 3
   },
   "file_extension": ".py",
   "mimetype": "text/x-python",
   "name": "python",
   "nbconvert_exporter": "python",
   "pygments_lexer": "ipython3",
   "version": "3.6.1"
  }
 },
 "nbformat": 4,
 "nbformat_minor": 2
}
