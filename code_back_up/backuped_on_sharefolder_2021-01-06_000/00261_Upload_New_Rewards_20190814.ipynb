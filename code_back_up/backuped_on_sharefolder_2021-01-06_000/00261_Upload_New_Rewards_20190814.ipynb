{
 "cells": [
  {
   "cell_type": "code",
   "execution_count": 1,
   "metadata": {
    "collapsed": true
   },
   "outputs": [],
   "source": [
    "import pandas as pd\n",
    "import numpy as np\n",
    "import datetime\n",
    "import os\n",
    "# Add the new folders of Jian later"
   ]
  },
  {
   "cell_type": "code",
   "execution_count": 2,
   "metadata": {},
   "outputs": [
    {
     "data": {
      "text/plain": [
       "[datetime.date(2019, 8, 10), datetime.date(2019, 8, 3)]"
      ]
     },
     "execution_count": 2,
     "metadata": {},
     "output_type": "execute_result"
    }
   ],
   "source": [
    "def recursive_file_gen(my_root_dir):\n",
    "    for root, dirs, files in os.walk(my_root_dir):\n",
    "        for file in files:\n",
    "            yield os.path.join(root, file)\n",
    "            \n",
    "last_saturday=datetime.datetime.now().date()-datetime.timedelta(days=datetime.datetime.now().date().weekday()+2) #+7\n",
    "\n",
    "write_folder=\"/home/jian/celery/Append_to_celery_LiveRamp/monthly_update/output_\"+str(last_saturday)+\"/\"\n",
    "try:\n",
    "    os.stat(write_folder)\n",
    "except:\n",
    "    os.mkdir(write_folder)\n",
    "\n",
    "week_beginning=last_saturday-datetime.timedelta(days=14) # To be changed to 14\n",
    "\n",
    "recent_2_weeks=[last_saturday-datetime.timedelta(days=x*7) for x in range(2)]\n",
    "recent_2_weeks"
   ]
  },
  {
   "cell_type": "code",
   "execution_count": 3,
   "metadata": {},
   "outputs": [
    {
     "name": "stdout",
     "output_type": "stream",
     "text": [
      "2\n"
     ]
    }
   ],
   "source": [
    "# Checking for the recent weeks that haven't moved to the folder\n",
    "possible_recent_folders=[\"/home/jian/BigLots/MediaStorm_\"+str(x)+\"/\" for x in recent_2_weeks]\n",
    "recent_file_list=[]\n",
    "for dirc in possible_recent_folders:\n",
    "    list_recent=[x for x in list(recursive_file_gen(dirc)) if (\"Master\" in x) & (\".txt\" in x) ]\n",
    "    recent_file_list=recent_file_list+list_recent\n",
    "recent_file_df=pd.DataFrame({\"path\":recent_file_list,\"date\":[datetime.datetime.strptime(x.split(\"MasterWeekly\")[1][:8],\"%Y%m%d\").date()-datetime.timedelta(days=3) for x in recent_file_list]},index=[x for x in range(len(recent_file_list))])\n",
    "\n",
    "\n",
    "list_1_after_201806=[x for x in list(recursive_file_gen(\"/home/jian/BigLots/2019_by_weeks/\")) if (\"Master\" in x) & (\".txt\" in x) ]\n",
    "folder_date=[datetime.datetime.strptime(x.split(\"/\")[len(x.split(\"/\"))-2].split(\"_\")[1],\"%Y-%m-%d\").date() for x in list_1_after_201806]\n",
    "df_1_after_201806=pd.DataFrame({\"date\":folder_date,\"path\":list_1_after_201806},index=[x for x in range(len(list_1_after_201806))])\n",
    "df_1_after_201806['date'].apply(lambda x: x.weekday()).unique()\n",
    "df_1_after_201806=df_1_after_201806.sort_values(\"date\").reset_index()\n",
    "df_1_after_201806=df_1_after_201806[df_1_after_201806['date']>week_beginning]\n",
    "del df_1_after_201806['index']\n",
    "\n",
    "new_2_biweekly_files=df_1_after_201806.append(recent_file_df)\n",
    "\n",
    "print(len(new_2_biweekly_files))\n",
    "new_2_biweekly_files=new_2_biweekly_files['path'].unique().tolist()"
   ]
  },
  {
   "cell_type": "code",
   "execution_count": 4,
   "metadata": {},
   "outputs": [
    {
     "data": {
      "text/plain": [
       "['/home/jian/BigLots/2019_by_weeks/MediaStorm_2019-08-03/MediaStormMasterWeekly20190806-114102-298.txt',\n",
       " '/home/jian/BigLots/MediaStorm_2019-08-10/MediaStormMasterWeekly20190813-120648-031.txt']"
      ]
     },
     "execution_count": 4,
     "metadata": {},
     "output_type": "execute_result"
    }
   ],
   "source": [
    "new_2_biweekly_files"
   ]
  },
  {
   "cell_type": "code",
   "execution_count": 5,
   "metadata": {},
   "outputs": [
    {
     "name": "stdout",
     "output_type": "stream",
     "text": [
      "231295\n",
      "231295\n"
     ]
    }
   ],
   "source": [
    "if len(new_2_biweekly_files)==2: # Changed to weekly\n",
    "    df_all_new_master = pd.DataFrame()\n",
    "    for file in new_2_biweekly_files:\n",
    "        df = pd.read_csv(file,nrows = None,sep= '|',usecols = ['customer_id_hashed','email_address_hash','customer_zip_code'],\n",
    "                         dtype =str)\n",
    "        df_all_new_master = df_all_new_master.append(df,ignore_index = True)\n",
    "    print(len(df_all_new_master.index))\n",
    "    df_all_new_master = df_all_new_master.drop_duplicates('email_address_hash')\n",
    "    print(len(df_all_new_master.index))"
   ]
  },
  {
   "cell_type": "code",
   "execution_count": 6,
   "metadata": {},
   "outputs": [
    {
     "name": "stdout",
     "output_type": "stream",
     "text": [
      "72\n"
     ]
    }
   ],
   "source": [
    "# Remove previous week ids\n",
    "\n",
    "previous_id_files_lists=list(recursive_file_gen(\"/home/jian/Projects/Big_Lots/Live_Ramp/Quarterly_Update_2019Q1/crm_newscore_20190107/by_group_quadrant_24/\"))\n",
    "\n",
    "# previous_id_files_lists=[x for x in previous_id_files_lists if \"Copy of 48 Stores_727.csv\" not in x]\n",
    "previous_id_files_lists=[x for x in previous_id_files_lists if \".csv\" in x]\n",
    "print(len(previous_id_files_lists))"
   ]
  },
  {
   "cell_type": "code",
   "execution_count": 7,
   "metadata": {},
   "outputs": [
    {
     "data": {
      "text/plain": [
       "['/home/jian/Projects/Big_Lots/Live_Ramp/Quarterly_Update_2019Q1/crm_newscore_20190107/by_group_quadrant_24/T_Quadrant I_P_L_2019Q1.csv',\n",
       " '/home/jian/Projects/Big_Lots/Live_Ramp/Quarterly_Update_2019Q1/crm_newscore_20190107/by_group_quadrant_24/T_Quadrant I_S_H_2019Q1.csv',\n",
       " '/home/jian/Projects/Big_Lots/Live_Ramp/Quarterly_Update_2019Q1/crm_newscore_20190107/by_group_quadrant_24/T_Quadrant I_S_L_2019Q1.csv',\n",
       " '/home/jian/Projects/Big_Lots/Live_Ramp/Quarterly_Update_2019Q1/crm_newscore_20190107/by_group_quadrant_24/T_Quadrant I_T_H_2019Q1.csv',\n",
       " '/home/jian/Projects/Big_Lots/Live_Ramp/Quarterly_Update_2019Q1/crm_newscore_20190107/by_group_quadrant_24/T_Quadrant I_T_M_2019Q1.csv',\n",
       " '/home/jian/Projects/Big_Lots/Live_Ramp/Quarterly_Update_2019Q1/crm_newscore_20190107/by_group_quadrant_24/C_Quadrant III_P_H_2019Q1.csv',\n",
       " '/home/jian/Projects/Big_Lots/Live_Ramp/Quarterly_Update_2019Q1/crm_newscore_20190107/by_group_quadrant_24/C_Quadrant III_P_M_2019Q1.csv',\n",
       " '/home/jian/Projects/Big_Lots/Live_Ramp/Quarterly_Update_2019Q1/crm_newscore_20190107/by_group_quadrant_24/C_Quadrant III_S_L_2019Q1.csv',\n",
       " '/home/jian/Projects/Big_Lots/Live_Ramp/Quarterly_Update_2019Q1/crm_newscore_20190107/by_group_quadrant_24/C_Quadrant III_T_H_2019Q1.csv',\n",
       " '/home/jian/Projects/Big_Lots/Live_Ramp/Quarterly_Update_2019Q1/crm_newscore_20190107/by_group_quadrant_24/C_Quadrant III_T_L_2019Q1.csv',\n",
       " '/home/jian/Projects/Big_Lots/Live_Ramp/Quarterly_Update_2019Q1/crm_newscore_20190107/by_group_quadrant_24/C_Quadrant II_P_H_2019Q1.csv',\n",
       " '/home/jian/Projects/Big_Lots/Live_Ramp/Quarterly_Update_2019Q1/crm_newscore_20190107/by_group_quadrant_24/C_Quadrant II_P_M_2019Q1.csv',\n",
       " '/home/jian/Projects/Big_Lots/Live_Ramp/Quarterly_Update_2019Q1/crm_newscore_20190107/by_group_quadrant_24/C_Quadrant II_S_H_2019Q1.csv',\n",
       " '/home/jian/Projects/Big_Lots/Live_Ramp/Quarterly_Update_2019Q1/crm_newscore_20190107/by_group_quadrant_24/C_Quadrant II_S_M_2019Q1.csv',\n",
       " '/home/jian/Projects/Big_Lots/Live_Ramp/Quarterly_Update_2019Q1/crm_newscore_20190107/by_group_quadrant_24/C_Quadrant II_T_L_2019Q1.csv',\n",
       " '/home/jian/Projects/Big_Lots/Live_Ramp/Quarterly_Update_2019Q1/crm_newscore_20190107/by_group_quadrant_24/C_Quadrant II_T_M_2019Q1.csv',\n",
       " '/home/jian/Projects/Big_Lots/Live_Ramp/Quarterly_Update_2019Q1/crm_newscore_20190107/by_group_quadrant_24/C_Quadrant IV_P_L_2019Q1.csv',\n",
       " '/home/jian/Projects/Big_Lots/Live_Ramp/Quarterly_Update_2019Q1/crm_newscore_20190107/by_group_quadrant_24/C_Quadrant IV_S_H_2019Q1.csv',\n",
       " '/home/jian/Projects/Big_Lots/Live_Ramp/Quarterly_Update_2019Q1/crm_newscore_20190107/by_group_quadrant_24/C_Quadrant IV_S_L_2019Q1.csv',\n",
       " '/home/jian/Projects/Big_Lots/Live_Ramp/Quarterly_Update_2019Q1/crm_newscore_20190107/by_group_quadrant_24/C_Quadrant IV_T_H_2019Q1.csv',\n",
       " '/home/jian/Projects/Big_Lots/Live_Ramp/Quarterly_Update_2019Q1/crm_newscore_20190107/by_group_quadrant_24/C_Quadrant IV_T_M_2019Q1.csv',\n",
       " '/home/jian/Projects/Big_Lots/Live_Ramp/Quarterly_Update_2019Q1/crm_newscore_20190107/by_group_quadrant_24/C_Quadrant I_P_H_2019Q1.csv',\n",
       " '/home/jian/Projects/Big_Lots/Live_Ramp/Quarterly_Update_2019Q1/crm_newscore_20190107/by_group_quadrant_24/C_Quadrant I_P_M_2019Q1.csv',\n",
       " '/home/jian/Projects/Big_Lots/Live_Ramp/Quarterly_Update_2019Q1/crm_newscore_20190107/by_group_quadrant_24/C_Quadrant I_S_L_2019Q1.csv',\n",
       " '/home/jian/Projects/Big_Lots/Live_Ramp/Quarterly_Update_2019Q1/crm_newscore_20190107/by_group_quadrant_24/C_Quadrant I_S_M_2019Q1.csv',\n",
       " '/home/jian/Projects/Big_Lots/Live_Ramp/Quarterly_Update_2019Q1/crm_newscore_20190107/by_group_quadrant_24/C_Quadrant I_T_L_2019Q1.csv',\n",
       " '/home/jian/Projects/Big_Lots/Live_Ramp/Quarterly_Update_2019Q1/crm_newscore_20190107/by_group_quadrant_24/T_Quadrant III_P_H_2019Q1.csv',\n",
       " '/home/jian/Projects/Big_Lots/Live_Ramp/Quarterly_Update_2019Q1/crm_newscore_20190107/by_group_quadrant_24/T_Quadrant III_P_L_2019Q1.csv',\n",
       " '/home/jian/Projects/Big_Lots/Live_Ramp/Quarterly_Update_2019Q1/crm_newscore_20190107/by_group_quadrant_24/T_Quadrant III_P_M_2019Q1.csv',\n",
       " '/home/jian/Projects/Big_Lots/Live_Ramp/Quarterly_Update_2019Q1/crm_newscore_20190107/by_group_quadrant_24/T_Quadrant III_S_H_2019Q1.csv',\n",
       " '/home/jian/Projects/Big_Lots/Live_Ramp/Quarterly_Update_2019Q1/crm_newscore_20190107/by_group_quadrant_24/T_Quadrant III_S_L_2019Q1.csv',\n",
       " '/home/jian/Projects/Big_Lots/Live_Ramp/Quarterly_Update_2019Q1/crm_newscore_20190107/by_group_quadrant_24/T_Quadrant III_S_M_2019Q1.csv',\n",
       " '/home/jian/Projects/Big_Lots/Live_Ramp/Quarterly_Update_2019Q1/crm_newscore_20190107/by_group_quadrant_24/T_Quadrant III_T_H_2019Q1.csv',\n",
       " '/home/jian/Projects/Big_Lots/Live_Ramp/Quarterly_Update_2019Q1/crm_newscore_20190107/by_group_quadrant_24/T_Quadrant III_T_L_2019Q1.csv',\n",
       " '/home/jian/Projects/Big_Lots/Live_Ramp/Quarterly_Update_2019Q1/crm_newscore_20190107/by_group_quadrant_24/T_Quadrant III_T_M_2019Q1.csv',\n",
       " '/home/jian/Projects/Big_Lots/Live_Ramp/Quarterly_Update_2019Q1/crm_newscore_20190107/by_group_quadrant_24/T_Quadrant II_P_H_2019Q1.csv',\n",
       " '/home/jian/Projects/Big_Lots/Live_Ramp/Quarterly_Update_2019Q1/crm_newscore_20190107/by_group_quadrant_24/T_Quadrant II_P_L_2019Q1.csv',\n",
       " '/home/jian/Projects/Big_Lots/Live_Ramp/Quarterly_Update_2019Q1/crm_newscore_20190107/by_group_quadrant_24/T_Quadrant II_P_M_2019Q1.csv',\n",
       " '/home/jian/Projects/Big_Lots/Live_Ramp/Quarterly_Update_2019Q1/crm_newscore_20190107/by_group_quadrant_24/T_Quadrant II_S_H_2019Q1.csv',\n",
       " '/home/jian/Projects/Big_Lots/Live_Ramp/Quarterly_Update_2019Q1/crm_newscore_20190107/by_group_quadrant_24/T_Quadrant II_S_L_2019Q1.csv',\n",
       " '/home/jian/Projects/Big_Lots/Live_Ramp/Quarterly_Update_2019Q1/crm_newscore_20190107/by_group_quadrant_24/T_Quadrant II_S_M_2019Q1.csv',\n",
       " '/home/jian/Projects/Big_Lots/Live_Ramp/Quarterly_Update_2019Q1/crm_newscore_20190107/by_group_quadrant_24/T_Quadrant II_T_H_2019Q1.csv',\n",
       " '/home/jian/Projects/Big_Lots/Live_Ramp/Quarterly_Update_2019Q1/crm_newscore_20190107/by_group_quadrant_24/T_Quadrant II_T_L_2019Q1.csv',\n",
       " '/home/jian/Projects/Big_Lots/Live_Ramp/Quarterly_Update_2019Q1/crm_newscore_20190107/by_group_quadrant_24/T_Quadrant II_T_M_2019Q1.csv',\n",
       " '/home/jian/Projects/Big_Lots/Live_Ramp/Quarterly_Update_2019Q1/crm_newscore_20190107/by_group_quadrant_24/T_Quadrant IV_P_H_2019Q1.csv',\n",
       " '/home/jian/Projects/Big_Lots/Live_Ramp/Quarterly_Update_2019Q1/crm_newscore_20190107/by_group_quadrant_24/T_Quadrant IV_P_L_2019Q1.csv',\n",
       " '/home/jian/Projects/Big_Lots/Live_Ramp/Quarterly_Update_2019Q1/crm_newscore_20190107/by_group_quadrant_24/T_Quadrant IV_P_M_2019Q1.csv',\n",
       " '/home/jian/Projects/Big_Lots/Live_Ramp/Quarterly_Update_2019Q1/crm_newscore_20190107/by_group_quadrant_24/T_Quadrant IV_S_H_2019Q1.csv',\n",
       " '/home/jian/Projects/Big_Lots/Live_Ramp/Quarterly_Update_2019Q1/crm_newscore_20190107/by_group_quadrant_24/T_Quadrant IV_S_L_2019Q1.csv',\n",
       " '/home/jian/Projects/Big_Lots/Live_Ramp/Quarterly_Update_2019Q1/crm_newscore_20190107/by_group_quadrant_24/T_Quadrant IV_S_M_2019Q1.csv',\n",
       " '/home/jian/Projects/Big_Lots/Live_Ramp/Quarterly_Update_2019Q1/crm_newscore_20190107/by_group_quadrant_24/T_Quadrant IV_T_H_2019Q1.csv',\n",
       " '/home/jian/Projects/Big_Lots/Live_Ramp/Quarterly_Update_2019Q1/crm_newscore_20190107/by_group_quadrant_24/T_Quadrant IV_T_L_2019Q1.csv',\n",
       " '/home/jian/Projects/Big_Lots/Live_Ramp/Quarterly_Update_2019Q1/crm_newscore_20190107/by_group_quadrant_24/T_Quadrant IV_T_M_2019Q1.csv',\n",
       " '/home/jian/Projects/Big_Lots/Live_Ramp/Quarterly_Update_2019Q1/crm_newscore_20190107/by_group_quadrant_24/T_Quadrant I_P_H_2019Q1.csv',\n",
       " '/home/jian/Projects/Big_Lots/Live_Ramp/Quarterly_Update_2019Q1/crm_newscore_20190107/by_group_quadrant_24/T_Quadrant I_P_M_2019Q1.csv',\n",
       " '/home/jian/Projects/Big_Lots/Live_Ramp/Quarterly_Update_2019Q1/crm_newscore_20190107/by_group_quadrant_24/T_Quadrant I_S_M_2019Q1.csv',\n",
       " '/home/jian/Projects/Big_Lots/Live_Ramp/Quarterly_Update_2019Q1/crm_newscore_20190107/by_group_quadrant_24/T_Quadrant I_T_L_2019Q1.csv',\n",
       " '/home/jian/Projects/Big_Lots/Live_Ramp/Quarterly_Update_2019Q1/crm_newscore_20190107/by_group_quadrant_24/C_Quadrant III_P_L_2019Q1.csv',\n",
       " '/home/jian/Projects/Big_Lots/Live_Ramp/Quarterly_Update_2019Q1/crm_newscore_20190107/by_group_quadrant_24/C_Quadrant III_S_H_2019Q1.csv',\n",
       " '/home/jian/Projects/Big_Lots/Live_Ramp/Quarterly_Update_2019Q1/crm_newscore_20190107/by_group_quadrant_24/C_Quadrant III_S_M_2019Q1.csv',\n",
       " '/home/jian/Projects/Big_Lots/Live_Ramp/Quarterly_Update_2019Q1/crm_newscore_20190107/by_group_quadrant_24/C_Quadrant III_T_M_2019Q1.csv',\n",
       " '/home/jian/Projects/Big_Lots/Live_Ramp/Quarterly_Update_2019Q1/crm_newscore_20190107/by_group_quadrant_24/C_Quadrant II_P_L_2019Q1.csv',\n",
       " '/home/jian/Projects/Big_Lots/Live_Ramp/Quarterly_Update_2019Q1/crm_newscore_20190107/by_group_quadrant_24/C_Quadrant II_S_L_2019Q1.csv',\n",
       " '/home/jian/Projects/Big_Lots/Live_Ramp/Quarterly_Update_2019Q1/crm_newscore_20190107/by_group_quadrant_24/C_Quadrant II_T_H_2019Q1.csv',\n",
       " '/home/jian/Projects/Big_Lots/Live_Ramp/Quarterly_Update_2019Q1/crm_newscore_20190107/by_group_quadrant_24/C_Quadrant IV_P_H_2019Q1.csv',\n",
       " '/home/jian/Projects/Big_Lots/Live_Ramp/Quarterly_Update_2019Q1/crm_newscore_20190107/by_group_quadrant_24/C_Quadrant IV_P_M_2019Q1.csv',\n",
       " '/home/jian/Projects/Big_Lots/Live_Ramp/Quarterly_Update_2019Q1/crm_newscore_20190107/by_group_quadrant_24/C_Quadrant IV_S_M_2019Q1.csv',\n",
       " '/home/jian/Projects/Big_Lots/Live_Ramp/Quarterly_Update_2019Q1/crm_newscore_20190107/by_group_quadrant_24/C_Quadrant IV_T_L_2019Q1.csv',\n",
       " '/home/jian/Projects/Big_Lots/Live_Ramp/Quarterly_Update_2019Q1/crm_newscore_20190107/by_group_quadrant_24/C_Quadrant I_P_L_2019Q1.csv',\n",
       " '/home/jian/Projects/Big_Lots/Live_Ramp/Quarterly_Update_2019Q1/crm_newscore_20190107/by_group_quadrant_24/C_Quadrant I_S_H_2019Q1.csv',\n",
       " '/home/jian/Projects/Big_Lots/Live_Ramp/Quarterly_Update_2019Q1/crm_newscore_20190107/by_group_quadrant_24/C_Quadrant I_T_H_2019Q1.csv',\n",
       " '/home/jian/Projects/Big_Lots/Live_Ramp/Quarterly_Update_2019Q1/crm_newscore_20190107/by_group_quadrant_24/C_Quadrant I_T_M_2019Q1.csv']"
      ]
     },
     "execution_count": 7,
     "metadata": {},
     "output_type": "execute_result"
    }
   ],
   "source": [
    "previous_id_files_lists"
   ]
  },
  {
   "cell_type": "code",
   "execution_count": 8,
   "metadata": {
    "collapsed": true
   },
   "outputs": [],
   "source": [
    "import glob\n",
    "uploaded_new_seg=list(recursive_file_gen(\"/home/jian/celery/Append_to_celery_LiveRamp/monthly_update/\"))\n",
    "uploaded_new_seg=[x for x in uploaded_new_seg if \".csv\" in x]\n",
    "\n",
    "previous_id_files_lists=previous_id_files_lists+uploaded_new_seg"
   ]
  },
  {
   "cell_type": "code",
   "execution_count": 9,
   "metadata": {},
   "outputs": [
    {
     "name": "stdout",
     "output_type": "stream",
     "text": [
      "2019-08-14 10:15:53.164073 231293 /home/jian/Projects/Big_Lots/Live_Ramp/Quarterly_Update_2019Q1/crm_newscore_20190107/by_group_quadrant_24/T_Quadrant I_P_L_2019Q1.csv\n",
      "2019-08-14 10:16:00.255179 231292 /home/jian/Projects/Big_Lots/Live_Ramp/Quarterly_Update_2019Q1/crm_newscore_20190107/by_group_quadrant_24/T_Quadrant I_S_H_2019Q1.csv\n",
      "2019-08-14 10:16:00.901441 231292 /home/jian/Projects/Big_Lots/Live_Ramp/Quarterly_Update_2019Q1/crm_newscore_20190107/by_group_quadrant_24/T_Quadrant I_S_L_2019Q1.csv\n",
      "2019-08-14 10:16:01.705763 231291 /home/jian/Projects/Big_Lots/Live_Ramp/Quarterly_Update_2019Q1/crm_newscore_20190107/by_group_quadrant_24/T_Quadrant I_T_H_2019Q1.csv\n",
      "2019-08-14 10:16:02.337720 231290 /home/jian/Projects/Big_Lots/Live_Ramp/Quarterly_Update_2019Q1/crm_newscore_20190107/by_group_quadrant_24/T_Quadrant I_T_M_2019Q1.csv\n",
      "2019-08-14 10:16:02.499530 231290 /home/jian/Projects/Big_Lots/Live_Ramp/Quarterly_Update_2019Q1/crm_newscore_20190107/by_group_quadrant_24/C_Quadrant III_P_H_2019Q1.csv\n",
      "2019-08-14 10:16:02.624597 231290 /home/jian/Projects/Big_Lots/Live_Ramp/Quarterly_Update_2019Q1/crm_newscore_20190107/by_group_quadrant_24/C_Quadrant III_P_M_2019Q1.csv\n",
      "2019-08-14 10:16:02.689599 231290 /home/jian/Projects/Big_Lots/Live_Ramp/Quarterly_Update_2019Q1/crm_newscore_20190107/by_group_quadrant_24/C_Quadrant III_S_L_2019Q1.csv\n",
      "2019-08-14 10:16:02.744543 231290 /home/jian/Projects/Big_Lots/Live_Ramp/Quarterly_Update_2019Q1/crm_newscore_20190107/by_group_quadrant_24/C_Quadrant III_T_H_2019Q1.csv\n",
      "2019-08-14 10:16:02.801978 231290 /home/jian/Projects/Big_Lots/Live_Ramp/Quarterly_Update_2019Q1/crm_newscore_20190107/by_group_quadrant_24/C_Quadrant III_T_L_2019Q1.csv\n",
      "2019-08-14 10:16:02.898030 231290 /home/jian/Projects/Big_Lots/Live_Ramp/Quarterly_Update_2019Q1/crm_newscore_20190107/by_group_quadrant_24/C_Quadrant II_P_H_2019Q1.csv\n",
      "2019-08-14 10:16:03.007391 231289 /home/jian/Projects/Big_Lots/Live_Ramp/Quarterly_Update_2019Q1/crm_newscore_20190107/by_group_quadrant_24/C_Quadrant II_P_M_2019Q1.csv\n",
      "2019-08-14 10:16:03.064338 231289 /home/jian/Projects/Big_Lots/Live_Ramp/Quarterly_Update_2019Q1/crm_newscore_20190107/by_group_quadrant_24/C_Quadrant II_S_H_2019Q1.csv\n",
      "2019-08-14 10:16:03.113028 231289 /home/jian/Projects/Big_Lots/Live_Ramp/Quarterly_Update_2019Q1/crm_newscore_20190107/by_group_quadrant_24/C_Quadrant II_S_M_2019Q1.csv\n",
      "2019-08-14 10:16:03.170526 231289 /home/jian/Projects/Big_Lots/Live_Ramp/Quarterly_Update_2019Q1/crm_newscore_20190107/by_group_quadrant_24/C_Quadrant II_T_L_2019Q1.csv\n",
      "2019-08-14 10:16:03.218329 231289 /home/jian/Projects/Big_Lots/Live_Ramp/Quarterly_Update_2019Q1/crm_newscore_20190107/by_group_quadrant_24/C_Quadrant II_T_M_2019Q1.csv\n",
      "2019-08-14 10:16:03.323567 231289 /home/jian/Projects/Big_Lots/Live_Ramp/Quarterly_Update_2019Q1/crm_newscore_20190107/by_group_quadrant_24/C_Quadrant IV_P_L_2019Q1.csv\n",
      "2019-08-14 10:16:03.439759 231289 /home/jian/Projects/Big_Lots/Live_Ramp/Quarterly_Update_2019Q1/crm_newscore_20190107/by_group_quadrant_24/C_Quadrant IV_S_H_2019Q1.csv\n",
      "2019-08-14 10:16:03.486672 231289 /home/jian/Projects/Big_Lots/Live_Ramp/Quarterly_Update_2019Q1/crm_newscore_20190107/by_group_quadrant_24/C_Quadrant IV_S_L_2019Q1.csv\n",
      "2019-08-14 10:16:03.553949 231289 /home/jian/Projects/Big_Lots/Live_Ramp/Quarterly_Update_2019Q1/crm_newscore_20190107/by_group_quadrant_24/C_Quadrant IV_T_H_2019Q1.csv\n",
      "2019-08-14 10:16:03.600539 231288 /home/jian/Projects/Big_Lots/Live_Ramp/Quarterly_Update_2019Q1/crm_newscore_20190107/by_group_quadrant_24/C_Quadrant IV_T_M_2019Q1.csv\n",
      "2019-08-14 10:16:03.832874 231288 /home/jian/Projects/Big_Lots/Live_Ramp/Quarterly_Update_2019Q1/crm_newscore_20190107/by_group_quadrant_24/C_Quadrant I_P_H_2019Q1.csv\n",
      "2019-08-14 10:16:04.010562 231288 /home/jian/Projects/Big_Lots/Live_Ramp/Quarterly_Update_2019Q1/crm_newscore_20190107/by_group_quadrant_24/C_Quadrant I_P_M_2019Q1.csv\n",
      "2019-08-14 10:16:04.095007 231288 /home/jian/Projects/Big_Lots/Live_Ramp/Quarterly_Update_2019Q1/crm_newscore_20190107/by_group_quadrant_24/C_Quadrant I_S_L_2019Q1.csv\n",
      "2019-08-14 10:16:04.173381 231288 /home/jian/Projects/Big_Lots/Live_Ramp/Quarterly_Update_2019Q1/crm_newscore_20190107/by_group_quadrant_24/C_Quadrant I_S_M_2019Q1.csv\n",
      "2019-08-14 10:16:04.221466 231288 /home/jian/Projects/Big_Lots/Live_Ramp/Quarterly_Update_2019Q1/crm_newscore_20190107/by_group_quadrant_24/C_Quadrant I_T_L_2019Q1.csv\n",
      "2019-08-14 10:16:19.207915 231283 /home/jian/Projects/Big_Lots/Live_Ramp/Quarterly_Update_2019Q1/crm_newscore_20190107/by_group_quadrant_24/T_Quadrant III_P_H_2019Q1.csv\n",
      "2019-08-14 10:16:24.645623 231281 /home/jian/Projects/Big_Lots/Live_Ramp/Quarterly_Update_2019Q1/crm_newscore_20190107/by_group_quadrant_24/T_Quadrant III_P_L_2019Q1.csv\n",
      "2019-08-14 10:16:32.381312 231280 /home/jian/Projects/Big_Lots/Live_Ramp/Quarterly_Update_2019Q1/crm_newscore_20190107/by_group_quadrant_24/T_Quadrant III_P_M_2019Q1.csv\n",
      "2019-08-14 10:16:33.445450 231278 /home/jian/Projects/Big_Lots/Live_Ramp/Quarterly_Update_2019Q1/crm_newscore_20190107/by_group_quadrant_24/T_Quadrant III_S_H_2019Q1.csv\n",
      "2019-08-14 10:16:33.840687 231278 /home/jian/Projects/Big_Lots/Live_Ramp/Quarterly_Update_2019Q1/crm_newscore_20190107/by_group_quadrant_24/T_Quadrant III_S_L_2019Q1.csv\n",
      "2019-08-14 10:16:34.562819 231277 /home/jian/Projects/Big_Lots/Live_Ramp/Quarterly_Update_2019Q1/crm_newscore_20190107/by_group_quadrant_24/T_Quadrant III_S_M_2019Q1.csv\n",
      "2019-08-14 10:16:34.933828 231275 /home/jian/Projects/Big_Lots/Live_Ramp/Quarterly_Update_2019Q1/crm_newscore_20190107/by_group_quadrant_24/T_Quadrant III_T_H_2019Q1.csv\n",
      "2019-08-14 10:16:35.352219 231275 /home/jian/Projects/Big_Lots/Live_Ramp/Quarterly_Update_2019Q1/crm_newscore_20190107/by_group_quadrant_24/T_Quadrant III_T_L_2019Q1.csv\n",
      "2019-08-14 10:16:35.765929 231275 /home/jian/Projects/Big_Lots/Live_Ramp/Quarterly_Update_2019Q1/crm_newscore_20190107/by_group_quadrant_24/T_Quadrant III_T_M_2019Q1.csv\n",
      "2019-08-14 10:16:45.379182 231272 /home/jian/Projects/Big_Lots/Live_Ramp/Quarterly_Update_2019Q1/crm_newscore_20190107/by_group_quadrant_24/T_Quadrant II_P_H_2019Q1.csv\n",
      "2019-08-14 10:16:47.378481 231270 /home/jian/Projects/Big_Lots/Live_Ramp/Quarterly_Update_2019Q1/crm_newscore_20190107/by_group_quadrant_24/T_Quadrant II_P_L_2019Q1.csv\n",
      "2019-08-14 10:16:52.064529 231267 /home/jian/Projects/Big_Lots/Live_Ramp/Quarterly_Update_2019Q1/crm_newscore_20190107/by_group_quadrant_24/T_Quadrant II_P_M_2019Q1.csv\n",
      "2019-08-14 10:16:52.661451 231266 /home/jian/Projects/Big_Lots/Live_Ramp/Quarterly_Update_2019Q1/crm_newscore_20190107/by_group_quadrant_24/T_Quadrant II_S_H_2019Q1.csv\n",
      "2019-08-14 10:16:52.904027 231266 /home/jian/Projects/Big_Lots/Live_Ramp/Quarterly_Update_2019Q1/crm_newscore_20190107/by_group_quadrant_24/T_Quadrant II_S_L_2019Q1.csv\n",
      "2019-08-14 10:16:53.290080 231265 /home/jian/Projects/Big_Lots/Live_Ramp/Quarterly_Update_2019Q1/crm_newscore_20190107/by_group_quadrant_24/T_Quadrant II_S_M_2019Q1.csv\n",
      "2019-08-14 10:16:53.579403 231264 /home/jian/Projects/Big_Lots/Live_Ramp/Quarterly_Update_2019Q1/crm_newscore_20190107/by_group_quadrant_24/T_Quadrant II_T_H_2019Q1.csv\n",
      "2019-08-14 10:16:53.698718 231264 /home/jian/Projects/Big_Lots/Live_Ramp/Quarterly_Update_2019Q1/crm_newscore_20190107/by_group_quadrant_24/T_Quadrant II_T_L_2019Q1.csv\n",
      "2019-08-14 10:16:53.900565 231263 /home/jian/Projects/Big_Lots/Live_Ramp/Quarterly_Update_2019Q1/crm_newscore_20190107/by_group_quadrant_24/T_Quadrant II_T_M_2019Q1.csv\n",
      "2019-08-14 10:18:22.642297 231257 /home/jian/Projects/Big_Lots/Live_Ramp/Quarterly_Update_2019Q1/crm_newscore_20190107/by_group_quadrant_24/T_Quadrant IV_P_H_2019Q1.csv\n",
      "2019-08-14 10:18:59.590203 231257 /home/jian/Projects/Big_Lots/Live_Ramp/Quarterly_Update_2019Q1/crm_newscore_20190107/by_group_quadrant_24/T_Quadrant IV_P_L_2019Q1.csv\n",
      "2019-08-14 10:19:23.277273 231255 /home/jian/Projects/Big_Lots/Live_Ramp/Quarterly_Update_2019Q1/crm_newscore_20190107/by_group_quadrant_24/T_Quadrant IV_P_M_2019Q1.csv\n",
      "2019-08-14 10:19:43.081971 231255 /home/jian/Projects/Big_Lots/Live_Ramp/Quarterly_Update_2019Q1/crm_newscore_20190107/by_group_quadrant_24/T_Quadrant IV_S_H_2019Q1.csv\n",
      "2019-08-14 10:19:43.530100 231254 /home/jian/Projects/Big_Lots/Live_Ramp/Quarterly_Update_2019Q1/crm_newscore_20190107/by_group_quadrant_24/T_Quadrant IV_S_L_2019Q1.csv\n"
     ]
    },
    {
     "name": "stdout",
     "output_type": "stream",
     "text": [
      "2019-08-14 10:19:44.722613 231253 /home/jian/Projects/Big_Lots/Live_Ramp/Quarterly_Update_2019Q1/crm_newscore_20190107/by_group_quadrant_24/T_Quadrant IV_S_M_2019Q1.csv\n",
      "2019-08-14 10:19:45.445120 231253 /home/jian/Projects/Big_Lots/Live_Ramp/Quarterly_Update_2019Q1/crm_newscore_20190107/by_group_quadrant_24/T_Quadrant IV_T_H_2019Q1.csv\n",
      "2019-08-14 10:19:45.669824 231253 /home/jian/Projects/Big_Lots/Live_Ramp/Quarterly_Update_2019Q1/crm_newscore_20190107/by_group_quadrant_24/T_Quadrant IV_T_L_2019Q1.csv\n",
      "2019-08-14 10:19:46.224237 231252 /home/jian/Projects/Big_Lots/Live_Ramp/Quarterly_Update_2019Q1/crm_newscore_20190107/by_group_quadrant_24/T_Quadrant IV_T_M_2019Q1.csv\n",
      "2019-08-14 10:22:49.043554 231241 /home/jian/Projects/Big_Lots/Live_Ramp/Quarterly_Update_2019Q1/crm_newscore_20190107/by_group_quadrant_24/T_Quadrant I_P_H_2019Q1.csv\n",
      "2019-08-14 10:23:42.649131 231233 /home/jian/Projects/Big_Lots/Live_Ramp/Quarterly_Update_2019Q1/crm_newscore_20190107/by_group_quadrant_24/T_Quadrant I_P_M_2019Q1.csv\n",
      "2019-08-14 10:23:44.457985 231231 /home/jian/Projects/Big_Lots/Live_Ramp/Quarterly_Update_2019Q1/crm_newscore_20190107/by_group_quadrant_24/T_Quadrant I_S_M_2019Q1.csv\n",
      "2019-08-14 10:23:44.832215 231231 /home/jian/Projects/Big_Lots/Live_Ramp/Quarterly_Update_2019Q1/crm_newscore_20190107/by_group_quadrant_24/T_Quadrant I_T_L_2019Q1.csv\n",
      "2019-08-14 10:23:44.937251 231231 /home/jian/Projects/Big_Lots/Live_Ramp/Quarterly_Update_2019Q1/crm_newscore_20190107/by_group_quadrant_24/C_Quadrant III_P_L_2019Q1.csv\n",
      "2019-08-14 10:23:45.013250 231231 /home/jian/Projects/Big_Lots/Live_Ramp/Quarterly_Update_2019Q1/crm_newscore_20190107/by_group_quadrant_24/C_Quadrant III_S_H_2019Q1.csv\n",
      "2019-08-14 10:23:45.072999 231231 /home/jian/Projects/Big_Lots/Live_Ramp/Quarterly_Update_2019Q1/crm_newscore_20190107/by_group_quadrant_24/C_Quadrant III_S_M_2019Q1.csv\n",
      "2019-08-14 10:23:45.140066 231231 /home/jian/Projects/Big_Lots/Live_Ramp/Quarterly_Update_2019Q1/crm_newscore_20190107/by_group_quadrant_24/C_Quadrant III_T_M_2019Q1.csv\n",
      "2019-08-14 10:23:45.207059 231231 /home/jian/Projects/Big_Lots/Live_Ramp/Quarterly_Update_2019Q1/crm_newscore_20190107/by_group_quadrant_24/C_Quadrant II_P_L_2019Q1.csv\n",
      "2019-08-14 10:23:45.252462 231231 /home/jian/Projects/Big_Lots/Live_Ramp/Quarterly_Update_2019Q1/crm_newscore_20190107/by_group_quadrant_24/C_Quadrant II_S_L_2019Q1.csv\n",
      "2019-08-14 10:23:45.306431 231231 /home/jian/Projects/Big_Lots/Live_Ramp/Quarterly_Update_2019Q1/crm_newscore_20190107/by_group_quadrant_24/C_Quadrant II_T_H_2019Q1.csv\n",
      "2019-08-14 10:23:45.478007 231230 /home/jian/Projects/Big_Lots/Live_Ramp/Quarterly_Update_2019Q1/crm_newscore_20190107/by_group_quadrant_24/C_Quadrant IV_P_H_2019Q1.csv\n",
      "2019-08-14 10:23:45.632353 231230 /home/jian/Projects/Big_Lots/Live_Ramp/Quarterly_Update_2019Q1/crm_newscore_20190107/by_group_quadrant_24/C_Quadrant IV_P_M_2019Q1.csv\n",
      "2019-08-14 10:23:45.715809 231230 /home/jian/Projects/Big_Lots/Live_Ramp/Quarterly_Update_2019Q1/crm_newscore_20190107/by_group_quadrant_24/C_Quadrant IV_S_M_2019Q1.csv\n",
      "2019-08-14 10:23:45.769238 231230 /home/jian/Projects/Big_Lots/Live_Ramp/Quarterly_Update_2019Q1/crm_newscore_20190107/by_group_quadrant_24/C_Quadrant IV_T_L_2019Q1.csv\n",
      "2019-08-14 10:23:45.887531 231230 /home/jian/Projects/Big_Lots/Live_Ramp/Quarterly_Update_2019Q1/crm_newscore_20190107/by_group_quadrant_24/C_Quadrant I_P_L_2019Q1.csv\n",
      "2019-08-14 10:23:45.969460 231230 /home/jian/Projects/Big_Lots/Live_Ramp/Quarterly_Update_2019Q1/crm_newscore_20190107/by_group_quadrant_24/C_Quadrant I_S_H_2019Q1.csv\n",
      "2019-08-14 10:23:46.030745 231230 /home/jian/Projects/Big_Lots/Live_Ramp/Quarterly_Update_2019Q1/crm_newscore_20190107/by_group_quadrant_24/C_Quadrant I_T_H_2019Q1.csv\n",
      "2019-08-14 10:23:46.111470 231230 /home/jian/Projects/Big_Lots/Live_Ramp/Quarterly_Update_2019Q1/crm_newscore_20190107/by_group_quadrant_24/C_Quadrant I_T_M_2019Q1.csv\n",
      "2019-08-14 10:23:46.982536 231230 /home/jian/celery/Append_to_celery_LiveRamp/monthly_update/output_2018-12-29/NewReward_2018-12-29_P.csv\n",
      "2019-08-14 10:23:47.303935 231230 /home/jian/celery/Append_to_celery_LiveRamp/monthly_update/output_2018-12-29/NewReward_2018-12-29_S.csv\n",
      "2019-08-14 10:23:47.507040 231230 /home/jian/celery/Append_to_celery_LiveRamp/monthly_update/output_2018-12-29/NewReward_2018-12-29_T.csv\n",
      "2019-08-14 10:23:48.207953 231230 /home/jian/celery/Append_to_celery_LiveRamp/monthly_update/output_2019-01-26/NewReward_2019-01-26_P.csv\n",
      "2019-08-14 10:23:48.422257 231230 /home/jian/celery/Append_to_celery_LiveRamp/monthly_update/output_2019-01-26/NewReward_2019-01-26_S.csv\n",
      "2019-08-14 10:23:48.556273 231229 /home/jian/celery/Append_to_celery_LiveRamp/monthly_update/output_2019-01-26/NewReward_2019-01-26_T.csv\n",
      "2019-08-14 10:23:49.206941 231229 /home/jian/celery/Append_to_celery_LiveRamp/monthly_update/output_2019-02-23/NewReward_2019-02-23_P.csv\n",
      "2019-08-14 10:23:49.422065 231229 /home/jian/celery/Append_to_celery_LiveRamp/monthly_update/output_2019-02-23/NewReward_2019-02-23_S.csv\n",
      "2019-08-14 10:23:49.545097 231229 /home/jian/celery/Append_to_celery_LiveRamp/monthly_update/output_2019-02-23/NewReward_2019-02-23_T.csv\n",
      "2019-08-14 10:23:50.272644 231229 /home/jian/celery/Append_to_celery_LiveRamp/monthly_update/output_2019-03-23/NewReward_2019-03-23_P.csv\n",
      "2019-08-14 10:23:50.488763 231229 /home/jian/celery/Append_to_celery_LiveRamp/monthly_update/output_2019-03-23/NewReward_2019-03-23_S.csv\n",
      "2019-08-14 10:23:50.615430 231229 /home/jian/celery/Append_to_celery_LiveRamp/monthly_update/output_2019-03-23/NewReward_2019-03-23_T.csv\n",
      "2019-08-14 10:23:51.061883 231229 /home/jian/celery/Append_to_celery_LiveRamp/monthly_update/output_2019-04-06/NewReward_2019-04-06_P.csv\n",
      "2019-08-14 10:23:51.207270 231229 /home/jian/celery/Append_to_celery_LiveRamp/monthly_update/output_2019-04-06/NewReward_2019-04-06_S.csv\n",
      "2019-08-14 10:23:51.303764 231229 /home/jian/celery/Append_to_celery_LiveRamp/monthly_update/output_2019-04-06/NewReward_2019-04-06_T.csv\n",
      "2019-08-14 10:23:51.674738 231229 /home/jian/celery/Append_to_celery_LiveRamp/monthly_update/output_2019-04-20/NewReward_2019-04-20_P.csv\n",
      "2019-08-14 10:23:51.778938 231229 /home/jian/celery/Append_to_celery_LiveRamp/monthly_update/output_2019-04-20/NewReward_2019-04-20_S.csv\n",
      "2019-08-14 10:23:51.854913 231229 /home/jian/celery/Append_to_celery_LiveRamp/monthly_update/output_2019-04-20/NewReward_2019-04-20_T.csv\n",
      "2019-08-14 10:23:52.188602 231229 /home/jian/celery/Append_to_celery_LiveRamp/monthly_update/output_2019-05-04/NewReward_2019-05-04_P.csv\n",
      "2019-08-14 10:23:52.320965 231229 /home/jian/celery/Append_to_celery_LiveRamp/monthly_update/output_2019-05-04/NewReward_2019-05-04_S.csv\n",
      "2019-08-14 10:23:52.400629 231229 /home/jian/celery/Append_to_celery_LiveRamp/monthly_update/output_2019-05-04/NewReward_2019-05-04_T.csv\n",
      "2019-08-14 10:23:52.726507 231229 /home/jian/celery/Append_to_celery_LiveRamp/monthly_update/output_2019-05-18/NewReward_2019-05-18_P.csv\n",
      "2019-08-14 10:23:52.857656 231229 /home/jian/celery/Append_to_celery_LiveRamp/monthly_update/output_2019-05-18/NewReward_2019-05-18_S.csv\n",
      "2019-08-14 10:23:52.950227 231229 /home/jian/celery/Append_to_celery_LiveRamp/monthly_update/output_2019-05-18/NewReward_2019-05-18_T.csv\n",
      "2019-08-14 10:23:53.335347 231229 /home/jian/celery/Append_to_celery_LiveRamp/monthly_update/output_2019-06-01/NewReward_2019-06-01_P.csv\n",
      "2019-08-14 10:23:53.471775 231229 /home/jian/celery/Append_to_celery_LiveRamp/monthly_update/output_2019-06-01/NewReward_2019-06-01_S.csv\n",
      "2019-08-14 10:23:53.569585 231229 /home/jian/celery/Append_to_celery_LiveRamp/monthly_update/output_2019-06-01/NewReward_2019-06-01_T.csv\n",
      "2019-08-14 10:23:53.958424 231229 /home/jian/celery/Append_to_celery_LiveRamp/monthly_update/output_2019-06-15/NewReward_2019-06-15_P.csv\n",
      "2019-08-14 10:23:54.085295 231229 /home/jian/celery/Append_to_celery_LiveRamp/monthly_update/output_2019-06-15/NewReward_2019-06-15_S.csv\n",
      "2019-08-14 10:23:54.315761 231228 /home/jian/celery/Append_to_celery_LiveRamp/monthly_update/output_2019-06-15/NewReward_2019-06-15_T.csv\n",
      "2019-08-14 10:23:54.699642 231228 /home/jian/celery/Append_to_celery_LiveRamp/monthly_update/output_2019-06-29/NewReward_2019-06-29_P.csv\n",
      "2019-08-14 10:23:54.834159 231228 /home/jian/celery/Append_to_celery_LiveRamp/monthly_update/output_2019-06-29/NewReward_2019-06-29_S.csv\n"
     ]
    },
    {
     "name": "stdout",
     "output_type": "stream",
     "text": [
      "2019-08-14 10:23:55.065154 231227 /home/jian/celery/Append_to_celery_LiveRamp/monthly_update/output_2019-06-29/NewReward_2019-06-29_T.csv\n",
      "2019-08-14 10:23:56.164772 231227 /home/jian/celery/Append_to_celery_LiveRamp/monthly_update/output_2019-07-13/NewReward_2019-07-13_P.csv\n",
      "2019-08-14 10:23:56.698792 231227 /home/jian/celery/Append_to_celery_LiveRamp/monthly_update/output_2019-07-13/NewReward_2019-07-13_S.csv\n",
      "2019-08-14 10:23:56.988348 231227 /home/jian/celery/Append_to_celery_LiveRamp/monthly_update/output_2019-07-13/NewReward_2019-07-13_T.csv\n",
      "2019-08-14 10:23:58.496234 231227 /home/jian/celery/Append_to_celery_LiveRamp/monthly_update/output_2019-07-27/NewReward_2019-07-27_P.csv\n",
      "2019-08-14 10:23:58.971112 231227 /home/jian/celery/Append_to_celery_LiveRamp/monthly_update/output_2019-07-27/NewReward_2019-07-27_S.csv\n",
      "2019-08-14 10:24:00.251106 231227 /home/jian/celery/Append_to_celery_LiveRamp/monthly_update/output_2019-07-27/NewReward_2019-07-27_T.csv\n"
     ]
    }
   ],
   "source": [
    "for file_uploaded in previous_id_files_lists:\n",
    "    df = pd.read_csv(file_uploaded,usecols = ['email_address_hash'])\n",
    "    previous_email_set=set(df['email_address_hash'].tolist())\n",
    "    df_all_new_master = df_all_new_master[~df_all_new_master['email_address_hash'].isin(previous_email_set)]\n",
    "    print(datetime.datetime.now(),len(df_all_new_master.index),file_uploaded)"
   ]
  },
  {
   "cell_type": "code",
   "execution_count": 10,
   "metadata": {},
   "outputs": [
    {
     "name": "stdout",
     "output_type": "stream",
     "text": [
      "231227\n"
     ]
    }
   ],
   "source": [
    "df_all_new_master = df_all_new_master.drop_duplicates('email_address_hash')\n",
    "df_all_new_master = df_all_new_master.drop_duplicates('customer_id_hashed')\n",
    "print(len(df_all_new_master.index))"
   ]
  },
  {
   "cell_type": "code",
   "execution_count": 11,
   "metadata": {},
   "outputs": [
    {
     "name": "stdout",
     "output_type": "stream",
     "text": [
      "(12980, 3)\n",
      "12980\n"
     ]
    },
    {
     "data": {
      "text/html": [
       "<div>\n",
       "<style>\n",
       "    .dataframe thead tr:only-child th {\n",
       "        text-align: right;\n",
       "    }\n",
       "\n",
       "    .dataframe thead th {\n",
       "        text-align: left;\n",
       "    }\n",
       "\n",
       "    .dataframe tbody tr th {\n",
       "        vertical-align: top;\n",
       "    }\n",
       "</style>\n",
       "<table border=\"1\" class=\"dataframe\">\n",
       "  <thead>\n",
       "    <tr style=\"text-align: right;\">\n",
       "      <th></th>\n",
       "      <th>customer_zip_code</th>\n",
       "      <th>zipcodegroup</th>\n",
       "    </tr>\n",
       "  </thead>\n",
       "  <tbody>\n",
       "    <tr>\n",
       "      <th>0</th>\n",
       "      <td>75040</td>\n",
       "      <td>P</td>\n",
       "    </tr>\n",
       "    <tr>\n",
       "      <th>1</th>\n",
       "      <td>20743</td>\n",
       "      <td>P</td>\n",
       "    </tr>\n",
       "  </tbody>\n",
       "</table>\n",
       "</div>"
      ],
      "text/plain": [
       "  customer_zip_code zipcodegroup\n",
       "0             75040            P\n",
       "1             20743            P"
      ]
     },
     "execution_count": 11,
     "metadata": {},
     "output_type": "execute_result"
    }
   ],
   "source": [
    "zipmap = pd.ExcelFile('/home/jian/Projects/Big_Lots/New_TA/TA_created_in_201906/final_output_20190718/BL_final_TA_updated_JL_2019-07-18.xlsx')\n",
    "zipmap=zipmap.parse(\"unique_zips_full_footprint\",dtype=str)\n",
    "zipmap['zip_type']=zipmap['zip_type'].replace(\"zips_10\",\"trans_S\")\n",
    "\n",
    "zipmap['zipcodegroup'] = zipmap['zip_type'].apply(lambda x: x.split(\"_\")[1])\n",
    "print(zipmap.shape)\n",
    "print(zipmap['zip_cd'].nunique())\n",
    "\n",
    "zipmap=zipmap.rename(columns={\"zip_cd\":\"customer_zip_code\"})\n",
    "\n",
    "zipmap=zipmap[['customer_zip_code','zipcodegroup']]\n",
    "zipmap.head(2)"
   ]
  },
  {
   "cell_type": "code",
   "execution_count": 12,
   "metadata": {},
   "outputs": [
    {
     "name": "stdout",
     "output_type": "stream",
     "text": [
      "['P' 'S' nan]\n",
      "['P' 'S' 'T']\n",
      "P 101780\n",
      "S 42346\n",
      "T 87101\n"
     ]
    }
   ],
   "source": [
    "df_all_new_master = pd.merge(df_all_new_master,zipmap,on ='customer_zip_code',how = 'left' )\n",
    "print(df_all_new_master['zipcodegroup'].unique())\n",
    "\n",
    "df_all_new_master['zipcodegroup'].fillna('T',inplace = True)\n",
    "print(df_all_new_master['zipcodegroup'].unique())\n",
    "\n",
    "last_saturday_str=\"_\"+str(last_saturday).split(\"-\")[1]+str(last_saturday).split(\"-\")[2]+str(last_saturday).split(\"-\")[0][2:]+\"_\"\n",
    "\n",
    "for revenue_flag in ['P','S','T']:\n",
    "    df = df_all_new_master[df_all_new_master['zipcodegroup']==revenue_flag]\n",
    "    df = df[['customer_id_hashed','email_address_hash','customer_zip_code']]\n",
    "    df['segment'] = 'NewReward' + last_saturday_str + revenue_flag\n",
    "    print(revenue_flag,len(df.index))\n",
    "    df.to_csv(write_folder+'NewReward_'+str(last_saturday)+'_'+revenue_flag+'.csv',index = False)\n",
    "# To be uploaded to lr-big-lots /uploads/big_lots_onboarding"
   ]
  },
  {
   "cell_type": "code",
   "execution_count": 13,
   "metadata": {},
   "outputs": [
    {
     "data": {
      "text/html": [
       "<div>\n",
       "<style>\n",
       "    .dataframe thead tr:only-child th {\n",
       "        text-align: right;\n",
       "    }\n",
       "\n",
       "    .dataframe thead th {\n",
       "        text-align: left;\n",
       "    }\n",
       "\n",
       "    .dataframe tbody tr th {\n",
       "        vertical-align: top;\n",
       "    }\n",
       "</style>\n",
       "<table border=\"1\" class=\"dataframe\">\n",
       "  <thead>\n",
       "    <tr style=\"text-align: right;\">\n",
       "      <th></th>\n",
       "      <th>zipcodegroup</th>\n",
       "      <th>email_address_hash</th>\n",
       "    </tr>\n",
       "  </thead>\n",
       "  <tbody>\n",
       "    <tr>\n",
       "      <th>0</th>\n",
       "      <td>P</td>\n",
       "      <td>101780</td>\n",
       "    </tr>\n",
       "    <tr>\n",
       "      <th>1</th>\n",
       "      <td>S</td>\n",
       "      <td>42346</td>\n",
       "    </tr>\n",
       "    <tr>\n",
       "      <th>2</th>\n",
       "      <td>T</td>\n",
       "      <td>87101</td>\n",
       "    </tr>\n",
       "  </tbody>\n",
       "</table>\n",
       "</div>"
      ],
      "text/plain": [
       "  zipcodegroup  email_address_hash\n",
       "0            P              101780\n",
       "1            S               42346\n",
       "2            T               87101"
      ]
     },
     "execution_count": 13,
     "metadata": {},
     "output_type": "execute_result"
    }
   ],
   "source": [
    "df_all_new_master.groupby(['zipcodegroup'])['email_address_hash'].count().to_frame().reset_index()"
   ]
  },
  {
   "cell_type": "code",
   "execution_count": 14,
   "metadata": {},
   "outputs": [
    {
     "data": {
      "text/html": [
       "<div>\n",
       "<style>\n",
       "    .dataframe thead tr:only-child th {\n",
       "        text-align: right;\n",
       "    }\n",
       "\n",
       "    .dataframe thead th {\n",
       "        text-align: left;\n",
       "    }\n",
       "\n",
       "    .dataframe tbody tr th {\n",
       "        vertical-align: top;\n",
       "    }\n",
       "</style>\n",
       "<table border=\"1\" class=\"dataframe\">\n",
       "  <thead>\n",
       "    <tr style=\"text-align: right;\">\n",
       "      <th></th>\n",
       "      <th>customer_id_hashed</th>\n",
       "      <th>email_address_hash</th>\n",
       "      <th>customer_zip_code</th>\n",
       "      <th>segment</th>\n",
       "    </tr>\n",
       "  </thead>\n",
       "  <tbody>\n",
       "    <tr>\n",
       "      <th>6</th>\n",
       "      <td>b7995c9dd0df9b8d8db45c9e507cac785ce9afe0f1d28b...</td>\n",
       "      <td>5119c565c237d8c6f8cc8fe88e41f4294573a472b06802...</td>\n",
       "      <td>NaN</td>\n",
       "      <td>NewReward_081019_T</td>\n",
       "    </tr>\n",
       "    <tr>\n",
       "      <th>10</th>\n",
       "      <td>b5a88b329a22968ff4222371b2f448afa37f549614d400...</td>\n",
       "      <td>82781cee82b5742a07bf351c0620e9e1d0c70bb438a152...</td>\n",
       "      <td>NaN</td>\n",
       "      <td>NewReward_081019_T</td>\n",
       "    </tr>\n",
       "  </tbody>\n",
       "</table>\n",
       "</div>"
      ],
      "text/plain": [
       "                                   customer_id_hashed  \\\n",
       "6   b7995c9dd0df9b8d8db45c9e507cac785ce9afe0f1d28b...   \n",
       "10  b5a88b329a22968ff4222371b2f448afa37f549614d400...   \n",
       "\n",
       "                                   email_address_hash customer_zip_code  \\\n",
       "6   5119c565c237d8c6f8cc8fe88e41f4294573a472b06802...               NaN   \n",
       "10  82781cee82b5742a07bf351c0620e9e1d0c70bb438a152...               NaN   \n",
       "\n",
       "               segment  \n",
       "6   NewReward_081019_T  \n",
       "10  NewReward_081019_T  "
      ]
     },
     "execution_count": 14,
     "metadata": {},
     "output_type": "execute_result"
    }
   ],
   "source": [
    "df.head(2)"
   ]
  },
  {
   "cell_type": "code",
   "execution_count": 15,
   "metadata": {},
   "outputs": [
    {
     "name": "stdout",
     "output_type": "stream",
     "text": [
      "2019-08-14 10:24:09.740950\n"
     ]
    }
   ],
   "source": [
    "print(datetime.datetime.now())"
   ]
  },
  {
   "cell_type": "code",
   "execution_count": 16,
   "metadata": {
    "collapsed": true
   },
   "outputs": [],
   "source": [
    "import paramiko\n",
    "import glob\n",
    "\n",
    "host = \"files.liveramp.com\"\n",
    "port = 22\n",
    "password = \"Biglots2018!\"\n",
    "username = \"lr-big-lots\"\n",
    "\n",
    "transport = paramiko.Transport((host, port))\n",
    "\n",
    "transport.connect(username = username, password = password)\n",
    "sftp = paramiko.SFTPClient.from_transport(transport)\n",
    "\n",
    "# local_path defined above before saving the local txt\n",
    "local_list=glob.glob(write_folder+\"*.csv\")\n",
    "local_list=[x for x in local_list if 'NewReward_'+str(last_saturday)+'_' in x]\n",
    "\n",
    "for local_path in local_list:\n",
    "    remote_path=\"/uploads/big_lots_onboarding/\"+os.path.basename(local_path)\n",
    "    sftp.put(local_path,remote_path)\n",
    "sftp.close()\n",
    "transport.close()"
   ]
  },
  {
   "cell_type": "code",
   "execution_count": null,
   "metadata": {
    "collapsed": true
   },
   "outputs": [],
   "source": []
  },
  {
   "cell_type": "code",
   "execution_count": null,
   "metadata": {
    "collapsed": true
   },
   "outputs": [],
   "source": []
  }
 ],
 "metadata": {
  "kernelspec": {
   "display_name": "Python 3",
   "language": "python",
   "name": "python3"
  },
  "language_info": {
   "codemirror_mode": {
    "name": "ipython",
    "version": 3
   },
   "file_extension": ".py",
   "mimetype": "text/x-python",
   "name": "python",
   "nbconvert_exporter": "python",
   "pygments_lexer": "ipython3",
   "version": "3.6.1"
  }
 },
 "nbformat": 4,
 "nbformat_minor": 2
}
