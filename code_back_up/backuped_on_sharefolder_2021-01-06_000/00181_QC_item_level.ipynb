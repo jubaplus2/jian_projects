{
 "cells": [
  {
   "cell_type": "code",
   "execution_count": 1,
   "metadata": {
    "collapsed": true
   },
   "outputs": [],
   "source": [
    "import pandas as pd\n",
    "import numpy as np\n"
   ]
  },
  {
   "cell_type": "code",
   "execution_count": 4,
   "metadata": {
    "collapsed": true
   },
   "outputs": [],
   "source": [
    "df_daily=pd.read_table(\"/home/jian/BigLots/MediaStorm_2019-02-16/MediaStormDailySales20190219-113605-481.txt\",sep=\"|\",dtype=str)\n",
    "df_daily['item_transaction_amt']=df_daily['item_transaction_amt'].astype(float)\n",
    "df_daily['item_transaction_units']=df_daily['item_transaction_units'].astype(int)\n"
   ]
  },
  {
   "cell_type": "code",
   "execution_count": 5,
   "metadata": {},
   "outputs": [
    {
     "data": {
      "text/plain": [
       "56718.770000000004"
      ]
     },
     "execution_count": 5,
     "metadata": {},
     "output_type": "execute_result"
    }
   ],
   "source": [
    "df_daily_store_1012=df_daily[df_daily['location_id']==\"1012\"]\n",
    "df_daily_store_1012['item_transaction_amt'].sum()"
   ]
  },
  {
   "cell_type": "code",
   "execution_count": 15,
   "metadata": {},
   "outputs": [
    {
     "data": {
      "text/plain": [
       "(1898, 2)"
      ]
     },
     "execution_count": 15,
     "metadata": {},
     "output_type": "execute_result"
    }
   ],
   "source": [
    "df_daily_store_1012[['location_id','transaction_id']].drop_duplicates().shape"
   ]
  },
  {
   "cell_type": "code",
   "execution_count": 13,
   "metadata": {},
   "outputs": [
    {
     "data": {
      "text/html": [
       "<div>\n",
       "<style>\n",
       "    .dataframe thead tr:only-child th {\n",
       "        text-align: right;\n",
       "    }\n",
       "\n",
       "    .dataframe thead th {\n",
       "        text-align: left;\n",
       "    }\n",
       "\n",
       "    .dataframe tbody tr th {\n",
       "        vertical-align: top;\n",
       "    }\n",
       "</style>\n",
       "<table border=\"1\" class=\"dataframe\">\n",
       "  <thead>\n",
       "    <tr style=\"text-align: right;\">\n",
       "      <th></th>\n",
       "      <th>location_id</th>\n",
       "      <th>transaction_dt</th>\n",
       "      <th>transaction_id</th>\n",
       "      <th>customer_id_hashed</th>\n",
       "      <th>class_code_id</th>\n",
       "      <th>subclass_id</th>\n",
       "      <th>item_id</th>\n",
       "      <th>item_transaction_units</th>\n",
       "      <th>item_transaction_amt</th>\n",
       "    </tr>\n",
       "  </thead>\n",
       "  <tbody>\n",
       "    <tr>\n",
       "      <th>2</th>\n",
       "      <td>1012</td>\n",
       "      <td>2019-02-10</td>\n",
       "      <td>4867</td>\n",
       "      <td>f56a202e1bbdca986d3a2e70cb760ab099740c4561b3c7...</td>\n",
       "      <td>15004</td>\n",
       "      <td>2</td>\n",
       "      <td>810297158</td>\n",
       "      <td>1</td>\n",
       "      <td>1.90</td>\n",
       "    </tr>\n",
       "    <tr>\n",
       "      <th>775</th>\n",
       "      <td>1012</td>\n",
       "      <td>2019-02-15</td>\n",
       "      <td>6153</td>\n",
       "      <td>f2febe03ab7da55141632ba431a7e6d6cac187adc01ac9...</td>\n",
       "      <td>11014</td>\n",
       "      <td>23</td>\n",
       "      <td>810375101</td>\n",
       "      <td>1</td>\n",
       "      <td>2.95</td>\n",
       "    </tr>\n",
       "  </tbody>\n",
       "</table>\n",
       "</div>"
      ],
      "text/plain": [
       "    location_id transaction_dt transaction_id  \\\n",
       "2          1012     2019-02-10           4867   \n",
       "775        1012     2019-02-15           6153   \n",
       "\n",
       "                                    customer_id_hashed class_code_id  \\\n",
       "2    f56a202e1bbdca986d3a2e70cb760ab099740c4561b3c7...         15004   \n",
       "775  f2febe03ab7da55141632ba431a7e6d6cac187adc01ac9...         11014   \n",
       "\n",
       "    subclass_id    item_id  item_transaction_units  item_transaction_amt  \n",
       "2             2  810297158                       1                  1.90  \n",
       "775          23  810375101                       1                  2.95  "
      ]
     },
     "execution_count": 13,
     "metadata": {},
     "output_type": "execute_result"
    }
   ],
   "source": [
    "df_daily_store_1012.head(2)"
   ]
  },
  {
   "cell_type": "code",
   "execution_count": null,
   "metadata": {
    "collapsed": true
   },
   "outputs": [],
   "source": []
  }
 ],
 "metadata": {
  "kernelspec": {
   "display_name": "Python 3",
   "language": "python",
   "name": "python3"
  },
  "language_info": {
   "codemirror_mode": {
    "name": "ipython",
    "version": 3
   },
   "file_extension": ".py",
   "mimetype": "text/x-python",
   "name": "python",
   "nbconvert_exporter": "python",
   "pygments_lexer": "ipython3",
   "version": "3.6.1"
  }
 },
 "nbformat": 4,
 "nbformat_minor": 2
}
