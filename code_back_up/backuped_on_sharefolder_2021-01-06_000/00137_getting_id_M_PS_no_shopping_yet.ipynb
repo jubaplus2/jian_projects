{
 "cells": [
  {
   "cell_type": "code",
   "execution_count": 1,
   "metadata": {},
   "outputs": [
    {
     "data": {
      "text/plain": [
       "'/home/jian/Projects/Big_Lots/Live_Ramp/Quarterly_Update_2019Q3'"
      ]
     },
     "execution_count": 1,
     "metadata": {},
     "output_type": "execute_result"
    }
   ],
   "source": [
    "import pandas as pd\n",
    "import os\n",
    "import datetime\n",
    "import glob\n",
    "import numpy as np\n",
    "os.getcwd()"
   ]
  },
  {
   "cell_type": "code",
   "execution_count": 2,
   "metadata": {},
   "outputs": [
    {
     "data": {
      "text/plain": [
       "((18936098, 6), 18936098)"
      ]
     },
     "execution_count": 2,
     "metadata": {},
     "output_type": "execute_result"
    }
   ],
   "source": [
    "df_data=pd.read_csv(\"/home/jian/Projects/Big_Lots/Live_Ramp/Quarterly_Update_2019Q3/output_2019-07-20/dfrfm_final_details_wemail_ziplabel_StoreQuad.csv\",\n",
    "              dtype=str,usecols=['customer_id_hashed','email_address_hash','frmindex','HML_Group','zipcodegroup','segment_2019Q3'])\n",
    "df_data.shape,df_data['customer_id_hashed'].nunique()"
   ]
  },
  {
   "cell_type": "code",
   "execution_count": 5,
   "metadata": {},
   "outputs": [
    {
     "data": {
      "text/plain": [
       "(30, 5)"
      ]
     },
     "execution_count": 5,
     "metadata": {},
     "output_type": "execute_result"
    }
   ],
   "source": [
    "df_total_count=df_data.groupby([\"frmindex\",'HML_Group','zipcodegroup'])['customer_id_hashed','email_address_hash'].nunique().reset_index()\n",
    "df_total_count.shape"
   ]
  },
  {
   "cell_type": "markdown",
   "metadata": {},
   "source": [
    "# 2019Q3 shopping label"
   ]
  },
  {
   "cell_type": "code",
   "execution_count": 6,
   "metadata": {
    "collapsed": true
   },
   "outputs": [],
   "source": [
    "def recursive_file_gen(root_path):\n",
    "    for root, dirs, files in os.walk(root_path):\n",
    "        for file in files:\n",
    "            yield os.path.join(root,file)"
   ]
  },
  {
   "cell_type": "code",
   "execution_count": 8,
   "metadata": {},
   "outputs": [
    {
     "name": "stdout",
     "output_type": "stream",
     "text": [
      "(38, 2)\n",
      "(13, 2) (7, 2)\n"
     ]
    }
   ],
   "source": [
    "Q2_dates=[datetime.date(2019,5,5),datetime.date(2019,8,3)]\n",
    "Q3_dates=[datetime.date(2019,8,4),datetime.date(2019,11,2)]\n",
    "\n",
    "weekly_2019_daily_df=list(recursive_file_gen(\"/home/jian/BigLots/\"))\n",
    "\n",
    "weekly_2019_daily_df=[x for x in weekly_2019_daily_df if \"2018\" not in x]\n",
    "weekly_2019_daily_df=[x for x in weekly_2019_daily_df if \"2017\" not in x]\n",
    "weekly_2019_daily_df=[x for x in weekly_2019_daily_df if \"2016\" not in x]\n",
    "weekly_2019_daily_df=[x for x in weekly_2019_daily_df if \"2016\" not in x]\n",
    "weekly_2019_daily_df=[x for x in weekly_2019_daily_df if \"Historical\" not in x]\n",
    "weekly_2019_daily_df=[x for x in weekly_2019_daily_df if \"hist_daily_data_itemlevel_decompressed\" not in x]\n",
    "weekly_2019_daily_df=[x for x in weekly_2019_daily_df if \".txt\" in x]\n",
    "weekly_2019_daily_df=[x for x in weekly_2019_daily_df if \"aily\" in x]\n",
    "weekly_2019_daily_df=pd.DataFrame({\"file_path\":weekly_2019_daily_df})\n",
    "weekly_2019_daily_df['week_end_dt']=weekly_2019_daily_df['file_path'].apply(lambda x: x.split(\"/MediaStorm_\")[1][:10])\n",
    "\n",
    "weekly_2019_daily_df['week_end_dt']=weekly_2019_daily_df['week_end_dt'].apply(lambda x: datetime.datetime.strptime(x,\"%Y-%m-%d\").date())\n",
    "print(weekly_2019_daily_df.shape)\n",
    "weekly_2019_daily_df.head(2)\n",
    "\n",
    "weekly_2019_daily_Q2=weekly_2019_daily_df[(weekly_2019_daily_df['week_end_dt']>Q2_dates[0]) & (weekly_2019_daily_df['week_end_dt']<=Q2_dates[1])]\n",
    "weekly_2019_daily_Q3=weekly_2019_daily_df[(weekly_2019_daily_df['week_end_dt']>Q3_dates[0]) & (weekly_2019_daily_df['week_end_dt']<=Q3_dates[1])]\n",
    "\n",
    "print(weekly_2019_daily_Q2.shape,weekly_2019_daily_Q3.shape)"
   ]
  },
  {
   "cell_type": "code",
   "execution_count": 11,
   "metadata": {},
   "outputs": [
    {
     "name": "stdout",
     "output_type": "stream",
     "text": [
      "2019-09-25 12:55:37.930723\n",
      "/home/jian/BigLots/2019_by_weeks/MediaStorm_2019-05-11/MediaStormDailySales20190514-121223-405.txt 2019-09-25 12:55:57.298677\n",
      "/home/jian/BigLots/2019_by_weeks/MediaStorm_2019-05-18/MediaStormDailySales20190521-111232-391.txt 2019-09-25 12:56:16.769467\n",
      "/home/jian/BigLots/2019_by_weeks/MediaStorm_2019-05-25/MediaStormDailySales20190528-111211-863.txt 2019-09-25 12:57:30.394750\n",
      "/home/jian/BigLots/2019_by_weeks/MediaStorm_2019-06-01/MediaStormDailySales20190604-111936-950.txt 2019-09-25 12:59:55.398250\n",
      "/home/jian/BigLots/2019_by_weeks/MediaStorm_2019-06-08/MediaStormDailySales20190611-122013-442.txt 2019-09-25 13:01:56.799297\n",
      "/home/jian/BigLots/2019_by_weeks/MediaStorm_2019-06-15/MediaStormDailySales20190618-112500-846.txt 2019-09-25 13:04:47.222420\n",
      "/home/jian/BigLots/2019_by_weeks/MediaStorm_2019-06-22/MediaStormDailySales20190625-111927-257.txt 2019-09-25 13:08:14.073869\n",
      "/home/jian/BigLots/2019_by_weeks/MediaStorm_2019-06-29/MediaStormDailySales20190702-113523-928.txt 2019-09-25 13:11:48.575163\n",
      "/home/jian/BigLots/2019_by_weeks/MediaStorm_2019-07-06/MediaStormDailySales20190709-115715-409.txt 2019-09-25 13:15:50.762645\n",
      "/home/jian/BigLots/2019_by_weeks/MediaStorm_2019-07-13/MediaStormDailySales20190716-122903-926.txt 2019-09-25 13:17:48.140477\n",
      "/home/jian/BigLots/2019_by_weeks/MediaStorm_2019-07-20/MediaStormDailySales20190723-112837-593.txt 2019-09-25 13:20:11.274841\n",
      "/home/jian/BigLots/2019_by_weeks/MediaStorm_2019-07-27/MediaStormDailySales20190730-113653-224.txt 2019-09-25 13:21:19.846806\n",
      "/home/jian/BigLots/2019_by_weeks/MediaStorm_2019-08-03/MediaStormDailySales20190806-113917-862.txt 2019-09-25 13:22:31.348562\n",
      "2019-09-25 13:36:38.837511\n",
      "/home/jian/BigLots/MediaStorm_2019-09-21/MediaStormDailySales20190924-112126-506.txt 2019-09-25 13:36:57.112240\n",
      "/home/jian/BigLots/2019_by_weeks/MediaStorm_2019-08-10/MediaStormDailySales20190813-120541-143.txt 2019-09-25 13:37:14.234113\n",
      "/home/jian/BigLots/2019_by_weeks/MediaStorm_2019-08-17/MediaStormDailySales20190820-113628-440.txt 2019-09-25 13:37:32.535678\n",
      "/home/jian/BigLots/2019_by_weeks/MediaStorm_2019-08-24/MediaStormDailySales20190827-113630-114.txt 2019-09-25 13:37:52.673211\n",
      "/home/jian/BigLots/2019_by_weeks/MediaStorm_2019-08-31/MediaStormDailySales20190903-113649-462.txt 2019-09-25 13:38:13.558367\n",
      "/home/jian/BigLots/2019_by_weeks/MediaStorm_2019-09-07/MediaStormDailySales20190910-120643-163.txt 2019-09-25 13:38:30.320194\n",
      "/home/jian/BigLots/2019_by_weeks/MediaStorm_2019-09-14/MediaStormDailySales20190917-110425-322.txt 2019-09-25 13:41:14.546963\n",
      "2019-09-25 13:47:09.645415\n"
     ]
    }
   ],
   "source": [
    "print(datetime.datetime.now())\n",
    "\n",
    "shoppers_2019Q2=pd.DataFrame()\n",
    "shoppers_2019Q3=pd.DataFrame()\n",
    "\n",
    "\n",
    "for file in weekly_2019_daily_Q2['file_path'].tolist():\n",
    "    df=pd.read_table(file,dtype=str,sep=\"|\",usecols=['customer_id_hashed','transaction_dt'])\n",
    "    df=df[pd.notnull(df['customer_id_hashed'])]\n",
    "    shoppers_2019Q2=shoppers_2019Q2.append(df)\n",
    "    print(file,datetime.datetime.now())\n",
    "shoppers_2019Q2=shoppers_2019Q2.sort_values(['customer_id_hashed','transaction_dt'],ascending=[True,False])\n",
    "shoppers_2019Q2=shoppers_2019Q2.drop_duplicates(['customer_id_hashed'])\n",
    "shoppers_2019Q2['Q2_shopping_flag']=\"Q2_Shopped\"\n",
    "shoppers_2019Q2=shoppers_2019Q2.rename(columns={\"transaction_dt\":\"last_shop_date_Q2\"})\n",
    "print(datetime.datetime.now())\n",
    "\n",
    "for file in weekly_2019_daily_Q3['file_path'].tolist():\n",
    "    df=pd.read_table(file,dtype=str,sep=\"|\",usecols=['customer_id_hashed','transaction_dt'])\n",
    "    df=df[pd.notnull(df['customer_id_hashed'])]\n",
    "    shoppers_2019Q3=shoppers_2019Q3.append(df)\n",
    "    print(file,datetime.datetime.now())\n",
    "shoppers_2019Q3=shoppers_2019Q3.sort_values(['customer_id_hashed','transaction_dt'],ascending=[True,False])\n",
    "shoppers_2019Q3=shoppers_2019Q3.drop_duplicates(['customer_id_hashed'])\n",
    "shoppers_2019Q3['Q3_shopping_flag']=\"Q3_Shopped\"\n",
    "shoppers_2019Q3=shoppers_2019Q3.rename(columns={\"transaction_dt\":\"last_shop_date_Q3\"})\n",
    "print(datetime.datetime.now())\n"
   ]
  },
  {
   "cell_type": "code",
   "execution_count": 19,
   "metadata": {},
   "outputs": [],
   "source": [
    "df_data=pd.merge(df_data,shoppers_2019Q2,on=\"customer_id_hashed\",how=\"outer\")\n",
    "df_data=pd.merge(df_data,shoppers_2019Q3,on=\"customer_id_hashed\",how=\"outer\")"
   ]
  },
  {
   "cell_type": "code",
   "execution_count": 22,
   "metadata": {},
   "outputs": [
    {
     "data": {
      "text/html": [
       "<div>\n",
       "<style>\n",
       "    .dataframe thead tr:only-child th {\n",
       "        text-align: right;\n",
       "    }\n",
       "\n",
       "    .dataframe thead th {\n",
       "        text-align: left;\n",
       "    }\n",
       "\n",
       "    .dataframe tbody tr th {\n",
       "        vertical-align: top;\n",
       "    }\n",
       "</style>\n",
       "<table border=\"1\" class=\"dataframe\">\n",
       "  <thead>\n",
       "    <tr style=\"text-align: right;\">\n",
       "      <th></th>\n",
       "      <th>frmindex</th>\n",
       "      <th>customer_id_hashed</th>\n",
       "      <th>email_address_hash</th>\n",
       "      <th>zipcodegroup</th>\n",
       "      <th>HML_Group</th>\n",
       "      <th>segment_2019Q3</th>\n",
       "      <th>last_shop_date_Q2</th>\n",
       "      <th>Q2_shopping_flag</th>\n",
       "      <th>last_shop_date_Q3</th>\n",
       "      <th>Q3_shopping_flag</th>\n",
       "    </tr>\n",
       "  </thead>\n",
       "  <tbody>\n",
       "    <tr>\n",
       "      <th>0</th>\n",
       "      <td>D01</td>\n",
       "      <td>b78dccfd64ce659af7061c5743b6b9305814336bc9ddec...</td>\n",
       "      <td>4836bfc632a2a5987d47fa6bf0637c21c4466a0e99ddee...</td>\n",
       "      <td>P</td>\n",
       "      <td>H</td>\n",
       "      <td>Quadrant I_P_H_2019Q3</td>\n",
       "      <td>2019-08-03</td>\n",
       "      <td>Q2_Shopped</td>\n",
       "      <td>2019-09-21</td>\n",
       "      <td>Q3_Shopped</td>\n",
       "    </tr>\n",
       "    <tr>\n",
       "      <th>1</th>\n",
       "      <td>D01</td>\n",
       "      <td>bfd2e98c3c7cccf2f0d432f8d02d951479311150e4a540...</td>\n",
       "      <td>bff5e20f383626e52c464341ad29b3b4e161b8b35de99d...</td>\n",
       "      <td>P</td>\n",
       "      <td>H</td>\n",
       "      <td>Quadrant I_P_H_2019Q3</td>\n",
       "      <td>2019-08-03</td>\n",
       "      <td>Q2_Shopped</td>\n",
       "      <td>2019-09-21</td>\n",
       "      <td>Q3_Shopped</td>\n",
       "    </tr>\n",
       "  </tbody>\n",
       "</table>\n",
       "</div>"
      ],
      "text/plain": [
       "  frmindex                                 customer_id_hashed  \\\n",
       "0      D01  b78dccfd64ce659af7061c5743b6b9305814336bc9ddec...   \n",
       "1      D01  bfd2e98c3c7cccf2f0d432f8d02d951479311150e4a540...   \n",
       "\n",
       "                                  email_address_hash zipcodegroup HML_Group  \\\n",
       "0  4836bfc632a2a5987d47fa6bf0637c21c4466a0e99ddee...            P         H   \n",
       "1  bff5e20f383626e52c464341ad29b3b4e161b8b35de99d...            P         H   \n",
       "\n",
       "          segment_2019Q3 last_shop_date_Q2 Q2_shopping_flag last_shop_date_Q3  \\\n",
       "0  Quadrant I_P_H_2019Q3        2019-08-03       Q2_Shopped        2019-09-21   \n",
       "1  Quadrant I_P_H_2019Q3        2019-08-03       Q2_Shopped        2019-09-21   \n",
       "\n",
       "  Q3_shopping_flag  \n",
       "0       Q3_Shopped  \n",
       "1       Q3_Shopped  "
      ]
     },
     "execution_count": 22,
     "metadata": {},
     "output_type": "execute_result"
    }
   ],
   "source": [
    "df_data.head(2)"
   ]
  },
  {
   "cell_type": "code",
   "execution_count": 23,
   "metadata": {},
   "outputs": [
    {
     "name": "stdout",
     "output_type": "stream",
     "text": [
      "(5680830, 10) (5680830, 10)\n"
     ]
    }
   ],
   "source": [
    "df_data_M=df_data[df_data['HML_Group']==\"M\"]\n",
    "df_data_D57=df_data[df_data['frmindex'].isin(['D05','D06','D07'])]\n",
    "print(df_data_M.shape,df_data_D57.shape)"
   ]
  },
  {
   "cell_type": "code",
   "execution_count": 27,
   "metadata": {},
   "outputs": [
    {
     "data": {
      "text/plain": [
       "{True}"
      ]
     },
     "execution_count": 27,
     "metadata": {},
     "output_type": "execute_result"
    }
   ],
   "source": [
    "set(df_data_M.index==df_data_D57.index)"
   ]
  },
  {
   "cell_type": "code",
   "execution_count": 29,
   "metadata": {},
   "outputs": [
    {
     "name": "stderr",
     "output_type": "stream",
     "text": [
      "/usr/local/lib/python3.6/site-packages/ipykernel_launcher.py:1: SettingWithCopyWarning: \n",
      "A value is trying to be set on a copy of a slice from a DataFrame.\n",
      "Try using .loc[row_indexer,col_indexer] = value instead\n",
      "\n",
      "See the caveats in the documentation: http://pandas.pydata.org/pandas-docs/stable/indexing.html#indexing-view-versus-copy\n",
      "  \"\"\"Entry point for launching an IPython kernel.\n",
      "/usr/local/lib/python3.6/site-packages/ipykernel_launcher.py:2: SettingWithCopyWarning: \n",
      "A value is trying to be set on a copy of a slice from a DataFrame.\n",
      "Try using .loc[row_indexer,col_indexer] = value instead\n",
      "\n",
      "See the caveats in the documentation: http://pandas.pydata.org/pandas-docs/stable/indexing.html#indexing-view-versus-copy\n",
      "  \n",
      "/usr/local/lib/python3.6/site-packages/ipykernel_launcher.py:3: SettingWithCopyWarning: \n",
      "A value is trying to be set on a copy of a slice from a DataFrame.\n",
      "Try using .loc[row_indexer,col_indexer] = value instead\n",
      "\n",
      "See the caveats in the documentation: http://pandas.pydata.org/pandas-docs/stable/indexing.html#indexing-view-versus-copy\n",
      "  This is separate from the ipykernel package so we can avoid doing imports until\n",
      "/usr/local/lib/python3.6/site-packages/ipykernel_launcher.py:4: SettingWithCopyWarning: \n",
      "A value is trying to be set on a copy of a slice from a DataFrame.\n",
      "Try using .loc[row_indexer,col_indexer] = value instead\n",
      "\n",
      "See the caveats in the documentation: http://pandas.pydata.org/pandas-docs/stable/indexing.html#indexing-view-versus-copy\n",
      "  after removing the cwd from sys.path.\n"
     ]
    }
   ],
   "source": [
    "df_data_D57['last_shop_date_Q2']=df_data_D57['last_shop_date_Q2'].fillna(\"NoShop\")\n",
    "df_data_D57['Q2_shopping_flag']=df_data_D57['Q2_shopping_flag'].fillna(\"NoShop\")\n",
    "df_data_D57['last_shop_date_Q3']=df_data_D57['last_shop_date_Q3'].fillna(\"NoShop\")\n",
    "df_data_D57['Q3_shopping_flag']=df_data_D57['Q3_shopping_flag'].fillna(\"NoShop\")"
   ]
  },
  {
   "cell_type": "code",
   "execution_count": 40,
   "metadata": {},
   "outputs": [
    {
     "data": {
      "text/plain": [
       "(36, 7)"
      ]
     },
     "execution_count": 40,
     "metadata": {},
     "output_type": "execute_result"
    }
   ],
   "source": [
    "output_summary_D57=df_data_D57.groupby(['HML_Group','frmindex','zipcodegroup','Q3_shopping_flag','Q2_shopping_flag'])['customer_id_hashed','email_address_hash'].nunique().reset_index()\n",
    "output_summary_D57.shape\n",
    "\n"
   ]
  },
  {
   "cell_type": "code",
   "execution_count": null,
   "metadata": {},
   "outputs": [],
   "source": [
    "write_folder='/home/jian/Projects/Big_Lots/Live_Ramp/Quarterly_Update_2019Q3/Q3_M_Shopping_in_Q3/'\n",
    "try:\n",
    "    os.stat(write_folder)\n",
    "except:\n",
    "    os.mkdir(write_folder)"
   ]
  },
  {
   "cell_type": "code",
   "execution_count": 35,
   "metadata": {
    "collapsed": true
   },
   "outputs": [],
   "source": [
    "df_data_D57.to_csv(write_folder+\"df_data_D57.csv\",index=False)\n",
    "df_data.to_csv(write_folder+\"df_data.csv\",index=False)\n"
   ]
  },
  {
   "cell_type": "code",
   "execution_count": 41,
   "metadata": {
    "collapsed": true
   },
   "outputs": [],
   "source": [
    "df_data['HML_Group']=df_data['HML_Group'].fillna(\"nan\")\n",
    "df_data['frmindex']=df_data['frmindex'].fillna(\"nan\")\n",
    "\n",
    "output_summary_count_all=df_data.groupby(['HML_Group','frmindex','zipcodegroup','Q3_shopping_flag','Q2_shopping_flag'])['customer_id_hashed'].nunique().to_frame().reset_index()"
   ]
  },
  {
   "cell_type": "code",
   "execution_count": 43,
   "metadata": {
    "collapsed": true
   },
   "outputs": [],
   "source": [
    "writer=pd.ExcelWriter(write_folder+\"BL_Q3_M_Shopping_in_Q3_JL_\"+str(datetime.datetime.now().date())+\".xlsx\",engine=\"xlsxwriter\")\n",
    "output_summary_D57.to_excel(writer,\"count_M_only\",index=False)\n",
    "output_summary_count_all.to_excel(writer,\"count_all_ids\",index=False)\n",
    "writer.save()"
   ]
  },
  {
   "cell_type": "markdown",
   "metadata": {},
   "source": [
    "# To Spencer"
   ]
  },
  {
   "cell_type": "code",
   "execution_count": 48,
   "metadata": {},
   "outputs": [
    {
     "data": {
      "text/html": [
       "<div>\n",
       "<style>\n",
       "    .dataframe thead tr:only-child th {\n",
       "        text-align: right;\n",
       "    }\n",
       "\n",
       "    .dataframe thead th {\n",
       "        text-align: left;\n",
       "    }\n",
       "\n",
       "    .dataframe tbody tr th {\n",
       "        vertical-align: top;\n",
       "    }\n",
       "</style>\n",
       "<table border=\"1\" class=\"dataframe\">\n",
       "  <thead>\n",
       "    <tr style=\"text-align: right;\">\n",
       "      <th></th>\n",
       "      <th>frmindex</th>\n",
       "      <th>customer_id_hashed</th>\n",
       "      <th>email_address_hash</th>\n",
       "      <th>zipcodegroup</th>\n",
       "      <th>HML_Group</th>\n",
       "      <th>segment_2019Q3</th>\n",
       "      <th>last_shop_date_Q2</th>\n",
       "      <th>Q2_shopping_flag</th>\n",
       "      <th>last_shop_date_Q3</th>\n",
       "      <th>Q3_shopping_flag</th>\n",
       "    </tr>\n",
       "  </thead>\n",
       "  <tbody>\n",
       "    <tr>\n",
       "      <th>7574440</th>\n",
       "      <td>D05</td>\n",
       "      <td>e9e88d85e01a9ebab175190a1e4610e76f1ae23f1b379c...</td>\n",
       "      <td>6c047e08b4bb5b528fb7bd6b49202db21e98bdeeec7dd2...</td>\n",
       "      <td>S</td>\n",
       "      <td>M</td>\n",
       "      <td>Quadrant IV_S_M_2019Q3</td>\n",
       "      <td>NoShop</td>\n",
       "      <td>NoShop</td>\n",
       "      <td>NoShop</td>\n",
       "      <td>NoShop</td>\n",
       "    </tr>\n",
       "    <tr>\n",
       "      <th>7574441</th>\n",
       "      <td>D05</td>\n",
       "      <td>1f93fe197af50fa268e789bb66aeef93fffe2e4de36883...</td>\n",
       "      <td>ae1d4dc68a0d7e1426df95294959ada496bdd05c72d354...</td>\n",
       "      <td>P</td>\n",
       "      <td>M</td>\n",
       "      <td>Quadrant I_P_M_2019Q3</td>\n",
       "      <td>NoShop</td>\n",
       "      <td>NoShop</td>\n",
       "      <td>NoShop</td>\n",
       "      <td>NoShop</td>\n",
       "    </tr>\n",
       "  </tbody>\n",
       "</table>\n",
       "</div>"
      ],
      "text/plain": [
       "        frmindex                                 customer_id_hashed  \\\n",
       "7574440      D05  e9e88d85e01a9ebab175190a1e4610e76f1ae23f1b379c...   \n",
       "7574441      D05  1f93fe197af50fa268e789bb66aeef93fffe2e4de36883...   \n",
       "\n",
       "                                        email_address_hash zipcodegroup  \\\n",
       "7574440  6c047e08b4bb5b528fb7bd6b49202db21e98bdeeec7dd2...            S   \n",
       "7574441  ae1d4dc68a0d7e1426df95294959ada496bdd05c72d354...            P   \n",
       "\n",
       "        HML_Group          segment_2019Q3 last_shop_date_Q2 Q2_shopping_flag  \\\n",
       "7574440         M  Quadrant IV_S_M_2019Q3            NoShop           NoShop   \n",
       "7574441         M   Quadrant I_P_M_2019Q3            NoShop           NoShop   \n",
       "\n",
       "        last_shop_date_Q3 Q3_shopping_flag  \n",
       "7574440            NoShop           NoShop  \n",
       "7574441            NoShop           NoShop  "
      ]
     },
     "execution_count": 48,
     "metadata": {},
     "output_type": "execute_result"
    }
   ],
   "source": [
    "df_data_D57.head(2)"
   ]
  },
  {
   "cell_type": "code",
   "execution_count": 50,
   "metadata": {},
   "outputs": [
    {
     "data": {
      "text/plain": [
       "((5009142, 3), 5009142)"
      ]
     },
     "execution_count": 50,
     "metadata": {},
     "output_type": "execute_result"
    }
   ],
   "source": [
    "all_uploaded_audience=glob.glob(\"/home/jian/Projects/Big_Lots/Live_Ramp/Quarterly_Update_2019Q3/upload_files/*.csv\")\n",
    "df_all_M_contol_test=pd.DataFrame()\n",
    "for file in all_uploaded_audience:\n",
    "    if \"_M_\" in file:\n",
    "        df=pd.read_csv(file,dtype=str)\n",
    "        df['segment']=df['segment'].apply(lambda x: x[0])\n",
    "        df_all_M_contol_test=df_all_M_contol_test.append(df)\n",
    "df_all_M_contol_test=df_all_M_contol_test.rename(columns={\"segment\":\"T_or_C_Q3RFM\"})\n",
    "df_all_M_contol_test.shape,df_all_M_contol_test['customer_id_hashed'].nunique()"
   ]
  },
  {
   "cell_type": "code",
   "execution_count": 52,
   "metadata": {},
   "outputs": [
    {
     "data": {
      "text/plain": [
       "array(['T', 'C'], dtype=object)"
      ]
     },
     "execution_count": 52,
     "metadata": {},
     "output_type": "execute_result"
    }
   ],
   "source": [
    "df_all_M_contol_test['T_or_C_Q3RFM'].unique()"
   ]
  },
  {
   "cell_type": "code",
   "execution_count": 61,
   "metadata": {},
   "outputs": [
    {
     "name": "stdout",
     "output_type": "stream",
     "text": [
      "2019-09-25 14:53:31.294546\n",
      "(4105718, 10)\n",
      "(4105718, 11)\n"
     ]
    }
   ],
   "source": [
    "print(datetime.datetime.now())\n",
    "df_data_D57_PS_NoShopped_Yet=df_data_D57[(df_data_D57['Q3_shopping_flag']==\"NoShop\") & (df_data_D57['zipcodegroup']!=\"T\")]\n",
    "print(df_data_D57_PS_NoShopped_Yet.shape)\n",
    "\n",
    "\n",
    "df_data_D57_PS_NoShopped_Yet=pd.merge(df_data_D57_PS_NoShopped_Yet,df_all_M_contol_test,on=['customer_id_hashed','email_address_hash'],how=\"left\")\n",
    "print(df_data_D57_PS_NoShopped_Yet.shape)\n"
   ]
  },
  {
   "cell_type": "code",
   "execution_count": 62,
   "metadata": {},
   "outputs": [
    {
     "data": {
      "text/plain": [
       "array(['T', 'C'], dtype=object)"
      ]
     },
     "execution_count": 62,
     "metadata": {},
     "output_type": "execute_result"
    }
   ],
   "source": [
    "df_data_D57_PS_NoShopped_Yet['T_or_C_Q3RFM'].unique()"
   ]
  },
  {
   "cell_type": "code",
   "execution_count": 64,
   "metadata": {},
   "outputs": [
    {
     "data": {
      "text/html": [
       "<div>\n",
       "<style>\n",
       "    .dataframe thead tr:only-child th {\n",
       "        text-align: right;\n",
       "    }\n",
       "\n",
       "    .dataframe thead th {\n",
       "        text-align: left;\n",
       "    }\n",
       "\n",
       "    .dataframe tbody tr th {\n",
       "        vertical-align: top;\n",
       "    }\n",
       "</style>\n",
       "<table border=\"1\" class=\"dataframe\">\n",
       "  <thead>\n",
       "    <tr style=\"text-align: right;\">\n",
       "      <th></th>\n",
       "      <th>frmindex</th>\n",
       "      <th>customer_id_hashed</th>\n",
       "      <th>email_address_hash</th>\n",
       "      <th>zipcodegroup</th>\n",
       "      <th>HML_Group</th>\n",
       "      <th>segment_2019Q3</th>\n",
       "      <th>last_shop_date_Q2</th>\n",
       "      <th>Q2_shopping_flag</th>\n",
       "      <th>last_shop_date_Q3</th>\n",
       "      <th>Q3_shopping_flag</th>\n",
       "      <th>T_or_C_Q3RFM</th>\n",
       "    </tr>\n",
       "  </thead>\n",
       "  <tbody>\n",
       "  </tbody>\n",
       "</table>\n",
       "</div>"
      ],
      "text/plain": [
       "Empty DataFrame\n",
       "Columns: [frmindex, customer_id_hashed, email_address_hash, zipcodegroup, HML_Group, segment_2019Q3, last_shop_date_Q2, Q2_shopping_flag, last_shop_date_Q3, Q3_shopping_flag, T_or_C_Q3RFM]\n",
       "Index: []"
      ]
     },
     "execution_count": 64,
     "metadata": {},
     "output_type": "execute_result"
    }
   ],
   "source": [
    "df_data_D57_PS_NoShopped_Yet[pd.isnull(df_data_D57_PS_NoShopped_Yet['T_or_C_Q3RFM'])]"
   ]
  },
  {
   "cell_type": "code",
   "execution_count": 65,
   "metadata": {},
   "outputs": [
    {
     "data": {
      "text/plain": [
       "(4105718, 11)"
      ]
     },
     "execution_count": 65,
     "metadata": {},
     "output_type": "execute_result"
    }
   ],
   "source": [
    "df_data_D57_PS_NoShopped_Yet.shape"
   ]
  },
  {
   "cell_type": "code",
   "execution_count": 67,
   "metadata": {},
   "outputs": [],
   "source": [
    "df_data_D57_PS_NoShopped_Yet.to_csv(write_folder+\"BL_2019Q3_audience_M_PS_no_shopped_yet_7_weeks_JL_\"+str(datetime.datetime.now().date())+\".csv\",index=False)"
   ]
  },
  {
   "cell_type": "code",
   "execution_count": 68,
   "metadata": {},
   "outputs": [
    {
     "data": {
      "text/plain": [
       "['df_data_D57.csv',\n",
       " 'df_data.csv',\n",
       " 'BL_Q3_M_Shopping_in_Q3_JL_2019-09-25.xlsx',\n",
       " 'BL_2019Q3_audience_M_PS_no_shopped_yet_7_weeks_JL_2019-09-25.csv']"
      ]
     },
     "execution_count": 68,
     "metadata": {},
     "output_type": "execute_result"
    }
   ],
   "source": [
    "import paramiko\n",
    "\n",
    "os.listdir(write_folder)"
   ]
  },
  {
   "cell_type": "code",
   "execution_count": 69,
   "metadata": {},
   "outputs": [
    {
     "name": "stdout",
     "output_type": "stream",
     "text": [
      "/home/jian/Projects/Big_Lots/Live_Ramp/Quarterly_Update_2019Q3/Q3_M_Shopping_in_Q3/BL_2019Q3_audience_M_PS_no_shopped_yet_7_weeks_JL_2019-09-25.csv\n"
     ]
    }
   ],
   "source": [
    "local_path=write_folder+\"BL_2019Q3_audience_M_PS_no_shopped_yet_7_weeks_JL_2019-09-25.csv\"\n",
    "print(local_path)"
   ]
  },
  {
   "cell_type": "code",
   "execution_count": 71,
   "metadata": {},
   "outputs": [
    {
     "name": "stdout",
     "output_type": "stream",
     "text": [
      "/mnt/drv5/lr_biglots_data/Q3_2019_not_shopped_yet/BL_2019Q3_audience_M_PS_no_shopped_yet_7_weeks_JL_2019-09-25.csv\n"
     ]
    }
   ],
   "source": [
    "remote_folder=\"/mnt/drv5/lr_biglots_data/Q3_2019_not_shopped_yet/\"\n",
    "remote_path=remote_folder+os.path.basename(local_path)\n",
    "print(remote_path)"
   ]
  },
  {
   "cell_type": "code",
   "execution_count": 72,
   "metadata": {
    "collapsed": true
   },
   "outputs": [],
   "source": [
    "host = \"64.237.51.251\" #hard-coded\n",
    "port = 22\n",
    "transport = paramiko.Transport((host, port))\n",
    "\n",
    "password = \"jian@juba2017\" #hard-coded\n",
    "username = \"jian\" #hard-coded\n",
    "transport.connect(username = username, password = password)\n",
    "sftp = paramiko.SFTPClient.from_transport(transport)\n",
    "\n",
    "sftp.put(local_path,remote_path)\n",
    "sftp.close()\n",
    "transport.close()\n"
   ]
  },
  {
   "cell_type": "code",
   "execution_count": 74,
   "metadata": {},
   "outputs": [
    {
     "data": {
      "text/plain": [
       "(4105718, 11)"
      ]
     },
     "execution_count": 74,
     "metadata": {},
     "output_type": "execute_result"
    }
   ],
   "source": [
    "df_data_D57_PS_NoShopped_Yet.shape"
   ]
  },
  {
   "cell_type": "code",
   "execution_count": null,
   "metadata": {
    "collapsed": true
   },
   "outputs": [],
   "source": []
  }
 ],
 "metadata": {
  "kernelspec": {
   "display_name": "Python 3",
   "language": "python",
   "name": "python3"
  },
  "language_info": {
   "codemirror_mode": {
    "name": "ipython",
    "version": 3
   },
   "file_extension": ".py",
   "mimetype": "text/x-python",
   "name": "python",
   "nbconvert_exporter": "python",
   "pygments_lexer": "ipython3",
   "version": "3.6.1"
  }
 },
 "nbformat": 4,
 "nbformat_minor": 2
}
