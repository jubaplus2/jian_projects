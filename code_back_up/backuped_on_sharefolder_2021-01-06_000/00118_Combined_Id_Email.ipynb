{
 "cells": [
  {
   "cell_type": "code",
   "execution_count": 1,
   "metadata": {
    "collapsed": true
   },
   "outputs": [],
   "source": [
    "import pandas as pd\n",
    "import numpy as np\n",
    "import datetime\n",
    "import os\n",
    "# Add the new folders of Jian later"
   ]
  },
  {
   "cell_type": "code",
   "execution_count": 2,
   "metadata": {},
   "outputs": [
    {
     "data": {
      "text/plain": [
       "['2018-12-29',\n",
       " '2018-12-22',\n",
       " '2018-12-15',\n",
       " '2018-12-08',\n",
       " '2018-12-01',\n",
       " '2018-11-24',\n",
       " '2018-11-17',\n",
       " '2018-11-10',\n",
       " '2018-11-03',\n",
       " '2018-10-27',\n",
       " '2018-10-20',\n",
       " '2018-10-13',\n",
       " '2018-10-06',\n",
       " '2018-09-29']"
      ]
     },
     "execution_count": 2,
     "metadata": {},
     "output_type": "execute_result"
    }
   ],
   "source": [
    "def recursive_file_gen(my_root_dir):\n",
    "    for root, dirs, files in os.walk(my_root_dir):\n",
    "        for file in files:\n",
    "            yield os.path.join(root, file)\n",
    "            \n",
    "last_available_week=datetime.date(2018,12,29)\n",
    "latest_week_included=datetime.date(2018,9,22)\n",
    "write_folder=\"/home/jian/Projects/Big_Lots/Live_Ramp/Quarterly_Update/rewards_id_combined_\"+str(last_available_week)+\"/\"\n",
    "try:\n",
    "    os.stat(write_folder)\n",
    "except:\n",
    "    os.mkdir(write_folder)\n",
    "\n",
    "\n",
    "total_weeks=(last_available_week-latest_week_included).days/7\n",
    "recent_weeks=[str(last_available_week - datetime.timedelta(days=x*7)) for x in range(int(total_weeks))]\n",
    "recent_weeks"
   ]
  },
  {
   "cell_type": "code",
   "execution_count": 3,
   "metadata": {},
   "outputs": [
    {
     "name": "stdout",
     "output_type": "stream",
     "text": [
      "7\n"
     ]
    }
   ],
   "source": [
    "# Checking for the recent weeks that haven't moved to the folder\n",
    "possible_recent_folders=[\"/home/jian/BigLots/MediaStorm_\"+str(x)+\"/\" for x in recent_weeks]\n",
    "recent_file_list=[]\n",
    "for dirc in possible_recent_folders:\n",
    "    list_recent=[x for x in list(recursive_file_gen(dirc)) if (\"MasterBiWeekly\" in x) & (\".txt\" in x) ]\n",
    "    recent_file_list=recent_file_list+list_recent\n",
    "recent_file_df=pd.DataFrame({\"path\":recent_file_list,\"date\":[datetime.datetime.strptime(x.split(\"MasterBiWeekly\")[1][:8],\"%Y%m%d\").date()-datetime.timedelta(days=3) for x in recent_file_list]},index=[x for x in range(len(recent_file_list))])\n",
    "\n",
    "\n",
    "list_1_after_201806=[x for x in list(recursive_file_gen(\"/home/jian/BigLots/2018_by_weeks/\")) if (\"MasterBiWeekly\" in x) & (\".txt\" in x) ]\n",
    "folder_date=[datetime.datetime.strptime(x.split(\"/\")[len(x.split(\"/\"))-2].split(\"_\")[1],\"%Y-%m-%d\").date() for x in list_1_after_201806]\n",
    "df_1_after_201806=pd.DataFrame({\"date\":folder_date,\"path\":list_1_after_201806},index=[x for x in range(len(list_1_after_201806))])\n",
    "df_1_after_201806['date'].apply(lambda x: x.weekday()).unique()\n",
    "df_1_after_201806=df_1_after_201806.sort_values(\"date\").reset_index()\n",
    "df_1_after_201806=df_1_after_201806[df_1_after_201806['date']>latest_week_included]\n",
    "del df_1_after_201806['index']\n",
    "\n",
    "new_2_biweekly_files=df_1_after_201806.append(recent_file_df)\n",
    "\n",
    "print(len(new_2_biweekly_files))\n",
    "new_2_biweekly_files=new_2_biweekly_files['path'].unique().tolist()\n",
    "new_2_biweekly_files=sorted(new_2_biweekly_files,reverse=True)\n",
    "new_2_biweekly_files"
   ]
  },
  {
   "cell_type": "code",
   "execution_count": 4,
   "metadata": {},
   "outputs": [
    {
     "data": {
      "text/plain": [
       "['/home/jian/BigLots/MediaStorm_2018-12-29/MediaStormMasterBiWeekly20190101-132909-580.txt',\n",
       " '/home/jian/BigLots/MediaStorm_2018-12-15/MediaStormMasterBiWeekly20181218-134118-875.txt',\n",
       " '/home/jian/BigLots/2018_by_weeks/MediaStorm_2018-12-01/MediaStormMasterBiWeekly20181204-130330-962.txt',\n",
       " '/home/jian/BigLots/2018_by_weeks/MediaStorm_2018-11-17/MediaStormMasterBiWeekly20181120-132340-144.txt',\n",
       " '/home/jian/BigLots/2018_by_weeks/MediaStorm_2018-11-03/MediaStormMasterBiWeekly20181106-131708-984.txt',\n",
       " '/home/jian/BigLots/2018_by_weeks/MediaStorm_2018-10-20/MediaStormMasterBiWeekly20181023-131639-747.txt',\n",
       " '/home/jian/BigLots/2018_by_weeks/MediaStorm_2018-10-06/MediaStormMasterBiWeekly20181009-132441-994.txt']"
      ]
     },
     "execution_count": 4,
     "metadata": {},
     "output_type": "execute_result"
    }
   ],
   "source": [
    "new_2_biweekly_files"
   ]
  },
  {
   "cell_type": "code",
   "execution_count": 5,
   "metadata": {
    "collapsed": true
   },
   "outputs": [],
   "source": [
    "old_file=pd.read_csv(\"/home/jian/Projects/Big_Lots/Loyal_members/loyalty_register_data/masterids_0922_From_Sp.csv\",dtype=str)\n"
   ]
  },
  {
   "cell_type": "code",
   "execution_count": 6,
   "metadata": {},
   "outputs": [
    {
     "name": "stdout",
     "output_type": "stream",
     "text": [
      "1 2019-01-08 13:13:17.634482\n",
      "2 2019-01-08 13:13:18.408792\n",
      "3 2019-01-08 13:13:19.295082\n",
      "4 2019-01-08 13:13:19.996939\n",
      "5 2019-01-08 13:13:20.477992\n",
      "6 2019-01-08 13:13:20.963609\n",
      "7 2019-01-08 13:13:21.710647\n"
     ]
    }
   ],
   "source": [
    "new_df_agged=pd.DataFrame()\n",
    "i_count=0\n",
    "for file_path in new_2_biweekly_files:\n",
    "    df=pd.read_table(file_path,dtype=str,sep=\"|\",usecols=['customer_id_hashed','email_address_hash','customer_zip_code'])\n",
    "    new_df_agged=new_df_agged.append(df)\n",
    "    i_count+=1\n",
    "    print(i_count,datetime.datetime.now())"
   ]
  },
  {
   "cell_type": "code",
   "execution_count": 7,
   "metadata": {},
   "outputs": [
    {
     "data": {
      "text/plain": [
       "(202189, 3)"
      ]
     },
     "execution_count": 7,
     "metadata": {},
     "output_type": "execute_result"
    }
   ],
   "source": [
    "df.shape"
   ]
  },
  {
   "cell_type": "code",
   "execution_count": 8,
   "metadata": {},
   "outputs": [],
   "source": [
    "old_file=new_df_agged.append(old_file)"
   ]
  },
  {
   "cell_type": "code",
   "execution_count": 9,
   "metadata": {},
   "outputs": [],
   "source": [
    "old_file.to_csv(\"/home/jian/Projects/Big_Lots/Loyal_members/loyalty_register_data/combined_masterids_up_to_20181229_JL.csv\",index=False)\n"
   ]
  },
  {
   "cell_type": "code",
   "execution_count": 18,
   "metadata": {
    "collapsed": true
   },
   "outputs": [],
   "source": [
    "old_file=old_file.drop_duplicates(['customer_id_hashed'])"
   ]
  },
  {
   "cell_type": "code",
   "execution_count": 14,
   "metadata": {},
   "outputs": [
    {
     "name": "stdout",
     "output_type": "stream",
     "text": [
      "9\n"
     ]
    }
   ],
   "source": [
    "# Checking for the recent weeks that haven't moved to the folder\n",
    "possible_recent_folders=[\"/home/jian/BigLots/MediaStorm_\"+str(x)+\"/\" for x in recent_weeks]\n",
    "recent_file_list=[]\n",
    "for dirc in possible_recent_folders:\n",
    "    list_recent=[x for x in list(recursive_file_gen(dirc)) if (\"DailySales\" in x) & (\".txt\" in x) ]\n",
    "    recent_file_list=recent_file_list+list_recent\n",
    "recent_file_df=pd.DataFrame({\"path\":recent_file_list,\"date\":[datetime.datetime.strptime(x.split(\"DailySales\")[1][:8],\"%Y%m%d\").date()-datetime.timedelta(days=3) for x in recent_file_list]},index=[x for x in range(len(recent_file_list))])\n",
    "\n",
    "\n",
    "list_1_after_201806=[x for x in list(recursive_file_gen(\"/home/jian/BigLots/2018_by_weeks/\")) if (\"DailySales\" in x) & (\".txt\" in x) ]\n",
    "folder_date=[datetime.datetime.strptime(x.split(\"/\")[len(x.split(\"/\"))-2].split(\"_\")[1],\"%Y-%m-%d\").date() for x in list_1_after_201806]\n",
    "df_1_after_201806=pd.DataFrame({\"date\":folder_date,\"path\":list_1_after_201806},index=[x for x in range(len(list_1_after_201806))])\n",
    "df_1_after_201806['date'].apply(lambda x: x.weekday()).unique()\n",
    "df_1_after_201806=df_1_after_201806.sort_values(\"date\").reset_index()\n",
    "\n",
    "df_1_after_201806=df_1_after_201806[df_1_after_201806['date']>datetime.date(2018,10,30)]\n",
    "df_1_after_201806=df_1_after_201806[df_1_after_201806['date']<=datetime.date(2018,12,29)]\n",
    "\n",
    "del df_1_after_201806['index']\n",
    "\n",
    "new_2_biweekly_files=df_1_after_201806.append(recent_file_df)\n",
    "\n",
    "print(len(new_2_biweekly_files))\n",
    "new_2_biweekly_files=new_2_biweekly_files['path'].unique().tolist()"
   ]
  },
  {
   "cell_type": "code",
   "execution_count": 19,
   "metadata": {},
   "outputs": [
    {
     "name": "stdout",
     "output_type": "stream",
     "text": [
      "1 2019-01-08 13:29:00.034394\n",
      "2 2019-01-08 13:33:13.970145\n",
      "3 2019-01-08 13:37:57.313433\n",
      "4 2019-01-08 13:42:51.304139\n",
      "5 2019-01-08 13:48:48.732106\n",
      "6 2019-01-08 13:59:38.424526\n",
      "7 2019-01-08 14:10:31.659015\n",
      "8 2019-01-08 14:25:12.514361\n",
      "9 2019-01-08 14:32:06.922067\n"
     ]
    }
   ],
   "source": [
    "Nov_Dec_Rewards_Sales=pd.DataFrame()\n",
    "i_count=0\n",
    "for file_path in new_2_biweekly_files:\n",
    "    df=pd.read_table(file_path,dtype=str,sep=\"|\")\n",
    "    df=df[~pd.isnull(df['customer_id_hashed'])]\n",
    "    df=pd.merge(df,old_file,on=\"customer_id_hashed\",how=\"left\")\n",
    "    Nov_Dec_Rewards_Sales=Nov_Dec_Rewards_Sales.append(df)\n",
    "    i_count+=1\n",
    "    print(i_count,datetime.datetime.now())"
   ]
  },
  {
   "cell_type": "code",
   "execution_count": 20,
   "metadata": {},
   "outputs": [],
   "source": [
    "Nov_Dec_Rewards_Sales.to_csv(\"/home/jian/Projects/Big_Lots/Live_Ramp/Quarterly_Update/BL_DailySales_Rewards_20181031_20181229_JL_\"+str(datetime.datetime.now().date())+\".csv\",index=False)\n"
   ]
  },
  {
   "cell_type": "code",
   "execution_count": null,
   "metadata": {
    "collapsed": true
   },
   "outputs": [],
   "source": []
  }
 ],
 "metadata": {
  "kernelspec": {
   "display_name": "Python 3",
   "language": "python",
   "name": "python3"
  },
  "language_info": {
   "codemirror_mode": {
    "name": "ipython",
    "version": 3
   },
   "file_extension": ".py",
   "mimetype": "text/x-python",
   "name": "python",
   "nbconvert_exporter": "python",
   "pygments_lexer": "ipython3",
   "version": "3.6.1"
  }
 },
 "nbformat": 4,
 "nbformat_minor": 2
}
