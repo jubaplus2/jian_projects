{
 "cells": [
  {
   "cell_type": "code",
   "execution_count": 1,
   "metadata": {},
   "outputs": [
    {
     "name": "stdout",
     "output_type": "stream",
     "text": [
      "2020-12-24 18:41:46.391797\n"
     ]
    }
   ],
   "source": [
    "# copy files from 107 for the monthly store list and product taxonomy\n",
    "\n",
    "import pandas as pd\n",
    "import numpy as np\n",
    "import datetime\n",
    "import paramiko\n",
    "import os\n",
    "import glob\n",
    "import logging\n",
    "\n",
    "logging.basicConfig(filename='/mnt/clients/juba/hqjubaapp02/sharefolder/Automation/BigLots_crontab_on_Merkle/BL_monthly_cron01_1st_per_month.log',level=\"INFO\")\n",
    "\n",
    "def recursive_file_gen(root_path):\n",
    "    for root, dirs, files in os.walk(root_path):\n",
    "        for file in files:\n",
    "            yield os.path.join(root,file)\n",
    "\n",
    "\n",
    "print(datetime.datetime.now())"
   ]
  },
  {
   "cell_type": "markdown",
   "metadata": {},
   "source": [
    "# Store list and product taxonomy"
   ]
  },
  {
   "cell_type": "code",
   "execution_count": 2,
   "metadata": {},
   "outputs": [],
   "source": [
    "# biglots_data: 1.store list; 2.prod_taxo\n",
    "\n",
    "remote_data_path_client=\"/mnt/drv5/biglots_data/\"\n",
    "\n",
    "host = \"107.191.32.220\" #hard-coded\n",
    "port = 22\n",
    "transport = paramiko.Transport((host, port))\n",
    "\n",
    "password = \"vgn5UucsUNHL4n9R\" #hard-coded\n",
    "username = \"biglots_data\" #hard-coded\n",
    "transport.connect(username = username, password = password)\n",
    "sftp = paramiko.SFTPClient.from_transport(transport)"
   ]
  },
  {
   "cell_type": "code",
   "execution_count": 3,
   "metadata": {},
   "outputs": [],
   "source": [
    "folder_move_in_remote_storelist=\"/mnt/drv5/biglots_data/Monthly_Store_List/\"\n",
    "folder_move_in_local_storelist=\"/mnt/clients/juba/hqjubaapp02/sharefolder/biglots_data/static_files/Store_list/\"\n",
    "\n",
    "folder_move_in_remote_product=\"/mnt/drv5/biglots_data/Monthly_Taxonomy/\"\n",
    "folder_move_in_local_product=\"/mnt/clients/juba/hqjubaapp02/sharefolder/biglots_data/static_files/ProductTaxonomy/\""
   ]
  },
  {
   "cell_type": "code",
   "execution_count": 4,
   "metadata": {},
   "outputs": [],
   "source": [
    "remote_list=sftp.listdir()"
   ]
  },
  {
   "cell_type": "code",
   "execution_count": 5,
   "metadata": {},
   "outputs": [
    {
     "name": "stdout",
     "output_type": "stream",
     "text": [
      "File new store list copied to hqjubaapp02 and moved into the subfoler: MediaStormStores20201207-141756-159.txt\n"
     ]
    }
   ],
   "source": [
    "remote_file_store_list=[x for x in remote_list if \"MediaStormStores\" in x]\n",
    "if len(remote_file_store_list)==1:\n",
    "    remote_store_list_file=remote_file_store_list[0]\n",
    "    basename=os.path.basename(remote_store_list_file)\n",
    "    sftp.get(remote_store_list_file,folder_move_in_local_storelist+basename)\n",
    "    sftp.rename(remote_store_list_file, folder_move_in_remote_storelist+basename)\n",
    "    print(\"File new store list copied to hqjubaapp02 and moved into the subfoler: %s\"%basename)\n",
    "    \n",
    "else:\n",
    "    print(\"new store list file length is not 1\")\n",
    "    logging.info(\"new store list file length is not 1\")\n",
    "    "
   ]
  },
  {
   "cell_type": "code",
   "execution_count": 6,
   "metadata": {},
   "outputs": [
    {
     "name": "stdout",
     "output_type": "stream",
     "text": [
      "File new product taxonomy copied to hqjubaapp02 and moved into the subfoler: MediaStormProductTaxonomy20201207-141734-234.txt\n"
     ]
    }
   ],
   "source": [
    "remote_file_prod_taxonomy=[x for x in remote_list if \"MediaStormProductTaxonomy\" in x]\n",
    "if len(remote_file_prod_taxonomy)==1:\n",
    "    remote_prod_taxonomy_file=remote_file_prod_taxonomy[0]\n",
    "    basename=os.path.basename(remote_prod_taxonomy_file)\n",
    "    sftp.get(remote_prod_taxonomy_file,folder_move_in_local_product+basename)\n",
    "    sftp.rename(remote_prod_taxonomy_file, folder_move_in_remote_product+basename)\n",
    "    print(\"File new product taxonomy copied to hqjubaapp02 and moved into the subfoler: %s\"%basename)\n",
    "    \n",
    "else:\n",
    "    print(\"new new product taxonomy file length is not 1\")\n",
    "    logging.info(\"new new product taxonomy file length is not 1\")\n",
    "    "
   ]
  },
  {
   "cell_type": "code",
   "execution_count": 3,
   "metadata": {},
   "outputs": [],
   "source": [
    "'''\n",
    "def copy_file_to_local(pattern_unique,remote_mother_folder,remote_movein_folder,local_folder,sftp):\n",
    "    list_new_files=[x for x in sftp.listdir() if x[-4:]==\".txt\" or x[-4:]==\".csv\"]\n",
    "    list_files_fit_pattern=[x for x in list_new_files if pattern_unique in x]\n",
    "    if not list_files_fit_pattern:\n",
    "        raise ValueError(\"no table found with the pattern: %s\" %pattern_unique)\n",
    "    elif len(list_files_fit_pattern)>1:\n",
    "        raise ValueError(\"multiple tables found with the pattern: %s\" %pattern_unique)\n",
    "    else:\n",
    "        file_path_remote_received=remote_mother_folder+list_files_fit_pattern[0]\n",
    "        basename=os.path.basename(file_path_remote_received)\n",
    "        sftp.get(file_path_remote_received,local_folder+basename)\n",
    "        sftp.rename(file_path_remote_received, remote_movein_folder+basename)\n",
    "        print(\"File copied to hqjubaapp02 and moved into the subfoler: %s\"%basename)\n",
    "'''"
   ]
  },
  {
   "cell_type": "code",
   "execution_count": null,
   "metadata": {},
   "outputs": [],
   "source": []
  }
 ],
 "metadata": {
  "kernelspec": {
   "display_name": "Python 3",
   "language": "python",
   "name": "python3"
  },
  "language_info": {
   "codemirror_mode": {
    "name": "ipython",
    "version": 3
   },
   "file_extension": ".py",
   "mimetype": "text/x-python",
   "name": "python",
   "nbconvert_exporter": "python",
   "pygments_lexer": "ipython3",
   "version": "3.7.6"
  }
 },
 "nbformat": 4,
 "nbformat_minor": 4
}
