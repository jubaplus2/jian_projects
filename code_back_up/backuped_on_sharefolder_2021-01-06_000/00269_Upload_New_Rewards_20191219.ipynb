{
 "cells": [
  {
   "cell_type": "code",
   "execution_count": 1,
   "metadata": {
    "collapsed": true
   },
   "outputs": [],
   "source": [
    "# 2 weeks together\n",
    "import pandas as pd\n",
    "import numpy as np\n",
    "import datetime\n",
    "import os\n",
    "# Add the new folders of Jian later"
   ]
  },
  {
   "cell_type": "code",
   "execution_count": 2,
   "metadata": {},
   "outputs": [
    {
     "data": {
      "text/plain": [
       "[datetime.date(2019, 12, 14), datetime.date(2019, 12, 7)]"
      ]
     },
     "execution_count": 2,
     "metadata": {},
     "output_type": "execute_result"
    }
   ],
   "source": [
    "def recursive_file_gen(my_root_dir):\n",
    "    for root, dirs, files in os.walk(my_root_dir):\n",
    "        for file in files:\n",
    "            yield os.path.join(root, file)\n",
    "            \n",
    "last_saturday=datetime.datetime.now().date()-datetime.timedelta(days=datetime.datetime.now().date().weekday()+2) #+7\n",
    "\n",
    "write_folder=\"/home/jian/celery/BiWeekly_New_SignUps/monthly_update/output_\"+str(last_saturday)+\"/\"\n",
    "try:\n",
    "    os.stat(write_folder)\n",
    "except:\n",
    "    os.mkdir(write_folder)\n",
    "\n",
    "week_beginning=last_saturday-datetime.timedelta(days=14) # To be changed to 14\n",
    "\n",
    "recent_2_weeks=[last_saturday-datetime.timedelta(days=x*7) for x in range(2)]\n",
    "recent_2_weeks"
   ]
  },
  {
   "cell_type": "code",
   "execution_count": 3,
   "metadata": {},
   "outputs": [
    {
     "name": "stdout",
     "output_type": "stream",
     "text": [
      "2\n"
     ]
    },
    {
     "name": "stderr",
     "output_type": "stream",
     "text": [
      "/home/jian/.local/lib/python3.6/site-packages/pandas/core/frame.py:7138: FutureWarning: Sorting because non-concatenation axis is not aligned. A future version\n",
      "of pandas will change to not sort by default.\n",
      "\n",
      "To accept the future behavior, pass 'sort=False'.\n",
      "\n",
      "To retain the current behavior and silence the warning, pass 'sort=True'.\n",
      "\n",
      "  sort=sort,\n"
     ]
    }
   ],
   "source": [
    "# Checking for the recent weeks that haven't moved to the folder\n",
    "possible_recent_folders=[\"/home/jian/BigLots/MediaStorm_\"+str(x)+\"/\" for x in recent_2_weeks]\n",
    "recent_file_list=[]\n",
    "for dirc in possible_recent_folders:\n",
    "    list_recent=[x for x in list(recursive_file_gen(dirc)) if (\"Master\" in x) & (\".txt\" in x) ]\n",
    "    recent_file_list=recent_file_list+list_recent\n",
    "recent_file_df=pd.DataFrame({\"path\":recent_file_list,\"date\":[datetime.datetime.strptime(x.split(\"MasterWeekly\")[1][:8],\"%Y%m%d\").date()-datetime.timedelta(days=3) for x in recent_file_list]},index=[x for x in range(len(recent_file_list))])\n",
    "\n",
    "\n",
    "list_1_after_201806=[x for x in list(recursive_file_gen(\"/home/jian/BigLots/2019_by_weeks/\")) if (\"Master\" in x) & (\".txt\" in x) ]\n",
    "folder_date=[datetime.datetime.strptime(x.split(\"/\")[len(x.split(\"/\"))-2].split(\"_\")[1],\"%Y-%m-%d\").date() for x in list_1_after_201806]\n",
    "df_1_after_201806=pd.DataFrame({\"date\":folder_date,\"path\":list_1_after_201806},index=[x for x in range(len(list_1_after_201806))])\n",
    "df_1_after_201806['date'].apply(lambda x: x.weekday()).unique()\n",
    "df_1_after_201806=df_1_after_201806.sort_values(\"date\").reset_index()\n",
    "df_1_after_201806=df_1_after_201806[df_1_after_201806['date']>week_beginning]\n",
    "del df_1_after_201806['index']\n",
    "\n",
    "new_2_biweekly_files=df_1_after_201806.append(recent_file_df)\n",
    "\n",
    "print(len(new_2_biweekly_files))\n",
    "new_2_biweekly_files=new_2_biweekly_files['path'].unique().tolist()"
   ]
  },
  {
   "cell_type": "code",
   "execution_count": 4,
   "metadata": {},
   "outputs": [
    {
     "data": {
      "text/plain": [
       "['/home/jian/BigLots/2019_by_weeks/MediaStorm_2019-12-07/MediaStormMasterWeekly20191211-170859-504.txt',\n",
       " '/home/jian/BigLots/MediaStorm_2019-12-14/MediaStormMasterWeekly20191217-195802-250.txt']"
      ]
     },
     "execution_count": 4,
     "metadata": {},
     "output_type": "execute_result"
    }
   ],
   "source": [
    "new_2_biweekly_files"
   ]
  },
  {
   "cell_type": "code",
   "execution_count": 5,
   "metadata": {},
   "outputs": [
    {
     "name": "stdout",
     "output_type": "stream",
     "text": [
      "(184058, 3)\n",
      "(349954, 3)\n",
      "349954\n",
      "349950\n"
     ]
    }
   ],
   "source": [
    "if len(new_2_biweekly_files)==2: # Changed to weekly\n",
    "    df_all_new_master = pd.DataFrame()\n",
    "    for file in new_2_biweekly_files:\n",
    "        df = pd.read_csv(file,nrows = None,sep= '|',usecols = ['customer_id_hashed','email_address_hash','customer_zip_code'],\n",
    "                         dtype =str)\n",
    "        df_all_new_master = df_all_new_master.append(df,ignore_index = True)\n",
    "        print(df_all_new_master.shape)\n",
    "    print(len(df_all_new_master.index))\n",
    "    df_all_new_master = df_all_new_master.drop_duplicates('email_address_hash')\n",
    "    print(len(df_all_new_master.index))\n"
   ]
  },
  {
   "cell_type": "code",
   "execution_count": 6,
   "metadata": {},
   "outputs": [
    {
     "name": "stdout",
     "output_type": "stream",
     "text": [
      "178\n"
     ]
    }
   ],
   "source": [
    "# Remove previous week ids\n",
    "\n",
    "previous_id_files_lists=list(recursive_file_gen(\"/home/jian/Projects/Big_Lots/Live_Ramp/Quarterly_Update_2019Q4/upload_files/\"))\n",
    "\n",
    "# previous_id_files_lists=[x for x in previous_id_files_lists if \"Copy of 48 Stores_727.csv\" not in x]\n",
    "previous_id_files_lists=[x for x in previous_id_files_lists if \".csv\" in x]\n",
    "print(len(previous_id_files_lists))"
   ]
  },
  {
   "cell_type": "code",
   "execution_count": 7,
   "metadata": {},
   "outputs": [
    {
     "data": {
      "text/plain": [
       "['/home/jian/Projects/Big_Lots/Live_Ramp/Quarterly_Update_2019Q4/upload_files/T_Active(0-12)_Score(H)_Density(H)_Legacy_HolidayShoppers_P_2019Q4_RFM.csv',\n",
       " '/home/jian/Projects/Big_Lots/Live_Ramp/Quarterly_Update_2019Q4/upload_files/T_Active(0-12)_Score(H)_Density(H)_Legacy_HolidayShoppers_S_2019Q4_RFM.csv',\n",
       " '/home/jian/Projects/Big_Lots/Live_Ramp/Quarterly_Update_2019Q4/upload_files/T_Active(0-12)_Score(H)_Density(H)_Legacy_Others_P_2019Q4_RFM.csv',\n",
       " '/home/jian/Projects/Big_Lots/Live_Ramp/Quarterly_Update_2019Q4/upload_files/T_Active(0-12)_Score(H)_Density(H)_Legacy_Others_S_2019Q4_RFM.csv',\n",
       " '/home/jian/Projects/Big_Lots/Live_Ramp/Quarterly_Update_2019Q4/upload_files/T_Active(0-12)_Score(H)_Density(H)_SOTF_HolidayShoppers_P_2019Q4_RFM.csv',\n",
       " '/home/jian/Projects/Big_Lots/Live_Ramp/Quarterly_Update_2019Q4/upload_files/T_Active(0-12)_Score(H)_Density(H)_SOTF_HolidayShoppers_S_2019Q4_RFM.csv',\n",
       " '/home/jian/Projects/Big_Lots/Live_Ramp/Quarterly_Update_2019Q4/upload_files/T_Active(0-12)_Score(H)_Density(H)_SOTF_Others_P_2019Q4_RFM.csv',\n",
       " '/home/jian/Projects/Big_Lots/Live_Ramp/Quarterly_Update_2019Q4/upload_files/T_Active(0-12)_Score(H)_Density(H)_SOTF_Others_S_2019Q4_RFM.csv',\n",
       " '/home/jian/Projects/Big_Lots/Live_Ramp/Quarterly_Update_2019Q4/upload_files/T_Active(0-12)_Score(H)_Density(L)_Legacy_HolidayShoppers_P_2019Q4_RFM.csv',\n",
       " '/home/jian/Projects/Big_Lots/Live_Ramp/Quarterly_Update_2019Q4/upload_files/T_Active(0-12)_Score(H)_Density(L)_Legacy_HolidayShoppers_S_2019Q4_RFM.csv',\n",
       " '/home/jian/Projects/Big_Lots/Live_Ramp/Quarterly_Update_2019Q4/upload_files/T_Active(0-12)_Score(H)_Density(L)_Legacy_Others_P_2019Q4_RFM.csv',\n",
       " '/home/jian/Projects/Big_Lots/Live_Ramp/Quarterly_Update_2019Q4/upload_files/T_Active(0-12)_Score(H)_Density(L)_Legacy_Others_S_2019Q4_RFM.csv',\n",
       " '/home/jian/Projects/Big_Lots/Live_Ramp/Quarterly_Update_2019Q4/upload_files/T_Active(0-12)_Score(H)_Density(L)_SOTF_HolidayShoppers_P_2019Q4_RFM.csv',\n",
       " '/home/jian/Projects/Big_Lots/Live_Ramp/Quarterly_Update_2019Q4/upload_files/T_Active(0-12)_Score(H)_Density(L)_SOTF_HolidayShoppers_S_2019Q4_RFM.csv',\n",
       " '/home/jian/Projects/Big_Lots/Live_Ramp/Quarterly_Update_2019Q4/upload_files/T_Active(0-12)_Score(H)_Density(L)_SOTF_Others_P_2019Q4_RFM.csv',\n",
       " '/home/jian/Projects/Big_Lots/Live_Ramp/Quarterly_Update_2019Q4/upload_files/T_Active(0-12)_Score(H)_Density(L)_SOTF_Others_S_2019Q4_RFM.csv',\n",
       " '/home/jian/Projects/Big_Lots/Live_Ramp/Quarterly_Update_2019Q4/upload_files/T_Active(0-12)_Score(H)_Density(M)_Legacy_HolidayShoppers_P_2019Q4_RFM.csv',\n",
       " '/home/jian/Projects/Big_Lots/Live_Ramp/Quarterly_Update_2019Q4/upload_files/T_Active(0-12)_Score(H)_Density(M)_Legacy_HolidayShoppers_S_2019Q4_RFM.csv',\n",
       " '/home/jian/Projects/Big_Lots/Live_Ramp/Quarterly_Update_2019Q4/upload_files/T_Active(0-12)_Score(H)_Density(M)_Legacy_Others_P_2019Q4_RFM.csv',\n",
       " '/home/jian/Projects/Big_Lots/Live_Ramp/Quarterly_Update_2019Q4/upload_files/T_Active(0-12)_Score(H)_Density(M)_Legacy_Others_S_2019Q4_RFM.csv',\n",
       " '/home/jian/Projects/Big_Lots/Live_Ramp/Quarterly_Update_2019Q4/upload_files/T_Active(0-12)_Score(H)_Density(M)_SOTF_HolidayShoppers_P_2019Q4_RFM.csv',\n",
       " '/home/jian/Projects/Big_Lots/Live_Ramp/Quarterly_Update_2019Q4/upload_files/T_Active(0-12)_Score(H)_Density(M)_SOTF_HolidayShoppers_S_2019Q4_RFM.csv',\n",
       " '/home/jian/Projects/Big_Lots/Live_Ramp/Quarterly_Update_2019Q4/upload_files/T_Active(0-12)_Score(H)_Density(M)_SOTF_Others_P_2019Q4_RFM.csv',\n",
       " '/home/jian/Projects/Big_Lots/Live_Ramp/Quarterly_Update_2019Q4/upload_files/T_Active(0-12)_Score(H)_Density(M)_SOTF_Others_S_2019Q4_RFM.csv',\n",
       " '/home/jian/Projects/Big_Lots/Live_Ramp/Quarterly_Update_2019Q4/upload_files/T_Active(0-12)_Score(L)_Density(H)_Legacy_HolidayShoppers_P_2019Q4_RFM.csv',\n",
       " '/home/jian/Projects/Big_Lots/Live_Ramp/Quarterly_Update_2019Q4/upload_files/T_Active(0-12)_Score(L)_Density(H)_Legacy_HolidayShoppers_S_2019Q4_RFM.csv',\n",
       " '/home/jian/Projects/Big_Lots/Live_Ramp/Quarterly_Update_2019Q4/upload_files/T_Active(0-12)_Score(L)_Density(H)_Legacy_Others_P_2019Q4_RFM.csv',\n",
       " '/home/jian/Projects/Big_Lots/Live_Ramp/Quarterly_Update_2019Q4/upload_files/T_Active(0-12)_Score(L)_Density(H)_Legacy_Others_S_2019Q4_RFM.csv',\n",
       " '/home/jian/Projects/Big_Lots/Live_Ramp/Quarterly_Update_2019Q4/upload_files/T_Active(0-12)_Score(L)_Density(H)_SOTF_HolidayShoppers_P_2019Q4_RFM.csv',\n",
       " '/home/jian/Projects/Big_Lots/Live_Ramp/Quarterly_Update_2019Q4/upload_files/T_Active(0-12)_Score(L)_Density(H)_SOTF_HolidayShoppers_S_2019Q4_RFM.csv',\n",
       " '/home/jian/Projects/Big_Lots/Live_Ramp/Quarterly_Update_2019Q4/upload_files/T_Active(0-12)_Score(L)_Density(H)_SOTF_Others_P_2019Q4_RFM.csv',\n",
       " '/home/jian/Projects/Big_Lots/Live_Ramp/Quarterly_Update_2019Q4/upload_files/T_Active(0-12)_Score(L)_Density(H)_SOTF_Others_S_2019Q4_RFM.csv',\n",
       " '/home/jian/Projects/Big_Lots/Live_Ramp/Quarterly_Update_2019Q4/upload_files/T_Active(0-12)_Score(L)_Density(L)_Legacy_HolidayShoppers_P_2019Q4_RFM.csv',\n",
       " '/home/jian/Projects/Big_Lots/Live_Ramp/Quarterly_Update_2019Q4/upload_files/T_Active(0-12)_Score(L)_Density(L)_Legacy_HolidayShoppers_S_2019Q4_RFM.csv',\n",
       " '/home/jian/Projects/Big_Lots/Live_Ramp/Quarterly_Update_2019Q4/upload_files/T_Active(0-12)_Score(L)_Density(L)_Legacy_Others_P_2019Q4_RFM.csv',\n",
       " '/home/jian/Projects/Big_Lots/Live_Ramp/Quarterly_Update_2019Q4/upload_files/T_Active(0-12)_Score(L)_Density(L)_Legacy_Others_S_2019Q4_RFM.csv',\n",
       " '/home/jian/Projects/Big_Lots/Live_Ramp/Quarterly_Update_2019Q4/upload_files/T_Active(0-12)_Score(L)_Density(L)_SOTF_HolidayShoppers_P_2019Q4_RFM.csv',\n",
       " '/home/jian/Projects/Big_Lots/Live_Ramp/Quarterly_Update_2019Q4/upload_files/T_Active(0-12)_Score(L)_Density(L)_SOTF_HolidayShoppers_S_2019Q4_RFM.csv',\n",
       " '/home/jian/Projects/Big_Lots/Live_Ramp/Quarterly_Update_2019Q4/upload_files/T_Active(0-12)_Score(L)_Density(L)_SOTF_Others_P_2019Q4_RFM.csv',\n",
       " '/home/jian/Projects/Big_Lots/Live_Ramp/Quarterly_Update_2019Q4/upload_files/T_Active(0-12)_Score(L)_Density(L)_SOTF_Others_S_2019Q4_RFM.csv',\n",
       " '/home/jian/Projects/Big_Lots/Live_Ramp/Quarterly_Update_2019Q4/upload_files/T_Active(0-12)_Score(L)_Density(M)_Legacy_HolidayShoppers_P_2019Q4_RFM.csv',\n",
       " '/home/jian/Projects/Big_Lots/Live_Ramp/Quarterly_Update_2019Q4/upload_files/T_Active(0-12)_Score(L)_Density(M)_Legacy_HolidayShoppers_S_2019Q4_RFM.csv',\n",
       " '/home/jian/Projects/Big_Lots/Live_Ramp/Quarterly_Update_2019Q4/upload_files/T_Active(0-12)_Score(L)_Density(M)_Legacy_Others_P_2019Q4_RFM.csv',\n",
       " '/home/jian/Projects/Big_Lots/Live_Ramp/Quarterly_Update_2019Q4/upload_files/T_Active(0-12)_Score(L)_Density(M)_Legacy_Others_S_2019Q4_RFM.csv',\n",
       " '/home/jian/Projects/Big_Lots/Live_Ramp/Quarterly_Update_2019Q4/upload_files/T_Active(0-12)_Score(L)_Density(M)_SOTF_HolidayShoppers_P_2019Q4_RFM.csv',\n",
       " '/home/jian/Projects/Big_Lots/Live_Ramp/Quarterly_Update_2019Q4/upload_files/T_Active(0-12)_Score(L)_Density(M)_SOTF_HolidayShoppers_S_2019Q4_RFM.csv',\n",
       " '/home/jian/Projects/Big_Lots/Live_Ramp/Quarterly_Update_2019Q4/upload_files/T_Active(0-12)_Score(L)_Density(M)_SOTF_Others_P_2019Q4_RFM.csv',\n",
       " '/home/jian/Projects/Big_Lots/Live_Ramp/Quarterly_Update_2019Q4/upload_files/T_Active(0-12)_Score(L)_Density(M)_SOTF_Others_S_2019Q4_RFM.csv',\n",
       " '/home/jian/Projects/Big_Lots/Live_Ramp/Quarterly_Update_2019Q4/upload_files/T_Active(0-12)_Score(M)_Density(H)_Legacy_HolidayShoppers_P_2019Q4_RFM.csv',\n",
       " '/home/jian/Projects/Big_Lots/Live_Ramp/Quarterly_Update_2019Q4/upload_files/T_Active(0-12)_Score(M)_Density(H)_Legacy_HolidayShoppers_S_2019Q4_RFM.csv',\n",
       " '/home/jian/Projects/Big_Lots/Live_Ramp/Quarterly_Update_2019Q4/upload_files/T_Active(0-12)_Score(M)_Density(H)_Legacy_Others_P_2019Q4_RFM.csv',\n",
       " '/home/jian/Projects/Big_Lots/Live_Ramp/Quarterly_Update_2019Q4/upload_files/T_Active(0-12)_Score(M)_Density(H)_Legacy_Others_S_2019Q4_RFM.csv',\n",
       " '/home/jian/Projects/Big_Lots/Live_Ramp/Quarterly_Update_2019Q4/upload_files/T_Active(0-12)_Score(M)_Density(H)_SOTF_HolidayShoppers_P_2019Q4_RFM.csv',\n",
       " '/home/jian/Projects/Big_Lots/Live_Ramp/Quarterly_Update_2019Q4/upload_files/T_Active(0-12)_Score(M)_Density(H)_SOTF_HolidayShoppers_S_2019Q4_RFM.csv',\n",
       " '/home/jian/Projects/Big_Lots/Live_Ramp/Quarterly_Update_2019Q4/upload_files/T_Active(0-12)_Score(M)_Density(H)_SOTF_Others_P_2019Q4_RFM.csv',\n",
       " '/home/jian/Projects/Big_Lots/Live_Ramp/Quarterly_Update_2019Q4/upload_files/T_Active(0-12)_Score(M)_Density(H)_SOTF_Others_S_2019Q4_RFM.csv',\n",
       " '/home/jian/Projects/Big_Lots/Live_Ramp/Quarterly_Update_2019Q4/upload_files/T_Active(0-12)_Score(M)_Density(L)_Legacy_HolidayShoppers_P_2019Q4_RFM.csv',\n",
       " '/home/jian/Projects/Big_Lots/Live_Ramp/Quarterly_Update_2019Q4/upload_files/T_Active(0-12)_Score(M)_Density(L)_Legacy_HolidayShoppers_S_2019Q4_RFM.csv',\n",
       " '/home/jian/Projects/Big_Lots/Live_Ramp/Quarterly_Update_2019Q4/upload_files/T_Active(0-12)_Score(M)_Density(L)_Legacy_Others_P_2019Q4_RFM.csv',\n",
       " '/home/jian/Projects/Big_Lots/Live_Ramp/Quarterly_Update_2019Q4/upload_files/T_Active(0-12)_Score(M)_Density(L)_Legacy_Others_S_2019Q4_RFM.csv',\n",
       " '/home/jian/Projects/Big_Lots/Live_Ramp/Quarterly_Update_2019Q4/upload_files/T_Active(0-12)_Score(M)_Density(L)_SOTF_HolidayShoppers_P_2019Q4_RFM.csv',\n",
       " '/home/jian/Projects/Big_Lots/Live_Ramp/Quarterly_Update_2019Q4/upload_files/T_Active(0-12)_Score(M)_Density(L)_SOTF_HolidayShoppers_S_2019Q4_RFM.csv',\n",
       " '/home/jian/Projects/Big_Lots/Live_Ramp/Quarterly_Update_2019Q4/upload_files/T_Active(0-12)_Score(M)_Density(L)_SOTF_Others_P_2019Q4_RFM.csv',\n",
       " '/home/jian/Projects/Big_Lots/Live_Ramp/Quarterly_Update_2019Q4/upload_files/T_Active(0-12)_Score(M)_Density(L)_SOTF_Others_S_2019Q4_RFM.csv',\n",
       " '/home/jian/Projects/Big_Lots/Live_Ramp/Quarterly_Update_2019Q4/upload_files/T_Active(0-12)_Score(M)_Density(M)_Legacy_HolidayShoppers_P_2019Q4_RFM.csv',\n",
       " '/home/jian/Projects/Big_Lots/Live_Ramp/Quarterly_Update_2019Q4/upload_files/T_Active(0-12)_Score(M)_Density(M)_Legacy_HolidayShoppers_S_2019Q4_RFM.csv',\n",
       " '/home/jian/Projects/Big_Lots/Live_Ramp/Quarterly_Update_2019Q4/upload_files/T_Active(0-12)_Score(M)_Density(M)_Legacy_Others_P_2019Q4_RFM.csv',\n",
       " '/home/jian/Projects/Big_Lots/Live_Ramp/Quarterly_Update_2019Q4/upload_files/T_Active(0-12)_Score(M)_Density(M)_Legacy_Others_S_2019Q4_RFM.csv',\n",
       " '/home/jian/Projects/Big_Lots/Live_Ramp/Quarterly_Update_2019Q4/upload_files/T_Active(0-12)_Score(M)_Density(M)_SOTF_HolidayShoppers_P_2019Q4_RFM.csv',\n",
       " '/home/jian/Projects/Big_Lots/Live_Ramp/Quarterly_Update_2019Q4/upload_files/T_Active(0-12)_Score(M)_Density(M)_SOTF_HolidayShoppers_S_2019Q4_RFM.csv',\n",
       " '/home/jian/Projects/Big_Lots/Live_Ramp/Quarterly_Update_2019Q4/upload_files/T_Active(0-12)_Score(M)_Density(M)_SOTF_Others_P_2019Q4_RFM.csv',\n",
       " '/home/jian/Projects/Big_Lots/Live_Ramp/Quarterly_Update_2019Q4/upload_files/T_Active(0-12)_Score(M)_Density(M)_SOTF_Others_S_2019Q4_RFM.csv',\n",
       " '/home/jian/Projects/Big_Lots/Live_Ramp/Quarterly_Update_2019Q4/upload_files/T_Lapsed(13-18)_Score(L)_Density(H)_Legacy_AllExpCluster_P_2019Q4_RFM.csv',\n",
       " '/home/jian/Projects/Big_Lots/Live_Ramp/Quarterly_Update_2019Q4/upload_files/T_Lapsed(13-18)_Score(L)_Density(H)_Legacy_AllExpCluster_S_2019Q4_RFM.csv',\n",
       " '/home/jian/Projects/Big_Lots/Live_Ramp/Quarterly_Update_2019Q4/upload_files/T_Lapsed(13-18)_Score(L)_Density(H)_SOTF_AllExpCluster_P_2019Q4_RFM.csv',\n",
       " '/home/jian/Projects/Big_Lots/Live_Ramp/Quarterly_Update_2019Q4/upload_files/T_Lapsed(13-18)_Score(L)_Density(H)_SOTF_AllExpCluster_S_2019Q4_RFM.csv',\n",
       " '/home/jian/Projects/Big_Lots/Live_Ramp/Quarterly_Update_2019Q4/upload_files/T_Lapsed(13-18)_Score(L)_Density(L)_Legacy_AllExpCluster_P_2019Q4_RFM.csv',\n",
       " '/home/jian/Projects/Big_Lots/Live_Ramp/Quarterly_Update_2019Q4/upload_files/T_Lapsed(13-18)_Score(L)_Density(L)_Legacy_AllExpCluster_S_2019Q4_RFM.csv',\n",
       " '/home/jian/Projects/Big_Lots/Live_Ramp/Quarterly_Update_2019Q4/upload_files/T_Lapsed(13-18)_Score(L)_Density(L)_SOTF_AllExpCluster_P_2019Q4_RFM.csv',\n",
       " '/home/jian/Projects/Big_Lots/Live_Ramp/Quarterly_Update_2019Q4/upload_files/T_Lapsed(13-18)_Score(L)_Density(L)_SOTF_AllExpCluster_S_2019Q4_RFM.csv',\n",
       " '/home/jian/Projects/Big_Lots/Live_Ramp/Quarterly_Update_2019Q4/upload_files/T_Lapsed(13-18)_Score(L)_Density(M)_Legacy_AllExpCluster_P_2019Q4_RFM.csv',\n",
       " '/home/jian/Projects/Big_Lots/Live_Ramp/Quarterly_Update_2019Q4/upload_files/T_Lapsed(13-18)_Score(L)_Density(M)_Legacy_AllExpCluster_S_2019Q4_RFM.csv',\n",
       " '/home/jian/Projects/Big_Lots/Live_Ramp/Quarterly_Update_2019Q4/upload_files/T_Lapsed(13-18)_Score(L)_Density(M)_SOTF_AllExpCluster_P_2019Q4_RFM.csv',\n",
       " '/home/jian/Projects/Big_Lots/Live_Ramp/Quarterly_Update_2019Q4/upload_files/T_Lapsed(13-18)_Score(L)_Density(M)_SOTF_AllExpCluster_S_2019Q4_RFM.csv',\n",
       " '/home/jian/Projects/Big_Lots/Live_Ramp/Quarterly_Update_2019Q4/upload_files/C_Active(0-12)_Score(H)_Density(H)_Legacy_HolidayShoppers_P_2019Q4_RFM.csv',\n",
       " '/home/jian/Projects/Big_Lots/Live_Ramp/Quarterly_Update_2019Q4/upload_files/C_Active(0-12)_Score(H)_Density(H)_Legacy_HolidayShoppers_S_2019Q4_RFM.csv',\n",
       " '/home/jian/Projects/Big_Lots/Live_Ramp/Quarterly_Update_2019Q4/upload_files/C_Active(0-12)_Score(H)_Density(H)_Legacy_Others_P_2019Q4_RFM.csv',\n",
       " '/home/jian/Projects/Big_Lots/Live_Ramp/Quarterly_Update_2019Q4/upload_files/C_Active(0-12)_Score(H)_Density(H)_Legacy_Others_S_2019Q4_RFM.csv',\n",
       " '/home/jian/Projects/Big_Lots/Live_Ramp/Quarterly_Update_2019Q4/upload_files/C_Active(0-12)_Score(H)_Density(H)_SOTF_HolidayShoppers_P_2019Q4_RFM.csv',\n",
       " '/home/jian/Projects/Big_Lots/Live_Ramp/Quarterly_Update_2019Q4/upload_files/C_Active(0-12)_Score(H)_Density(H)_SOTF_HolidayShoppers_S_2019Q4_RFM.csv',\n",
       " '/home/jian/Projects/Big_Lots/Live_Ramp/Quarterly_Update_2019Q4/upload_files/C_Active(0-12)_Score(H)_Density(H)_SOTF_Others_P_2019Q4_RFM.csv',\n",
       " '/home/jian/Projects/Big_Lots/Live_Ramp/Quarterly_Update_2019Q4/upload_files/C_Active(0-12)_Score(H)_Density(H)_SOTF_Others_S_2019Q4_RFM.csv',\n",
       " '/home/jian/Projects/Big_Lots/Live_Ramp/Quarterly_Update_2019Q4/upload_files/C_Active(0-12)_Score(H)_Density(L)_Legacy_HolidayShoppers_P_2019Q4_RFM.csv',\n",
       " '/home/jian/Projects/Big_Lots/Live_Ramp/Quarterly_Update_2019Q4/upload_files/C_Active(0-12)_Score(H)_Density(L)_Legacy_HolidayShoppers_S_2019Q4_RFM.csv',\n",
       " '/home/jian/Projects/Big_Lots/Live_Ramp/Quarterly_Update_2019Q4/upload_files/C_Active(0-12)_Score(H)_Density(L)_Legacy_Others_P_2019Q4_RFM.csv',\n",
       " '/home/jian/Projects/Big_Lots/Live_Ramp/Quarterly_Update_2019Q4/upload_files/C_Active(0-12)_Score(H)_Density(L)_Legacy_Others_S_2019Q4_RFM.csv',\n",
       " '/home/jian/Projects/Big_Lots/Live_Ramp/Quarterly_Update_2019Q4/upload_files/C_Active(0-12)_Score(H)_Density(L)_SOTF_HolidayShoppers_P_2019Q4_RFM.csv',\n",
       " '/home/jian/Projects/Big_Lots/Live_Ramp/Quarterly_Update_2019Q4/upload_files/C_Active(0-12)_Score(H)_Density(L)_SOTF_HolidayShoppers_S_2019Q4_RFM.csv',\n",
       " '/home/jian/Projects/Big_Lots/Live_Ramp/Quarterly_Update_2019Q4/upload_files/C_Active(0-12)_Score(H)_Density(L)_SOTF_Others_P_2019Q4_RFM.csv',\n",
       " '/home/jian/Projects/Big_Lots/Live_Ramp/Quarterly_Update_2019Q4/upload_files/C_Active(0-12)_Score(H)_Density(L)_SOTF_Others_S_2019Q4_RFM.csv',\n",
       " '/home/jian/Projects/Big_Lots/Live_Ramp/Quarterly_Update_2019Q4/upload_files/C_Active(0-12)_Score(H)_Density(M)_Legacy_HolidayShoppers_P_2019Q4_RFM.csv',\n",
       " '/home/jian/Projects/Big_Lots/Live_Ramp/Quarterly_Update_2019Q4/upload_files/C_Active(0-12)_Score(H)_Density(M)_Legacy_HolidayShoppers_S_2019Q4_RFM.csv',\n",
       " '/home/jian/Projects/Big_Lots/Live_Ramp/Quarterly_Update_2019Q4/upload_files/C_Active(0-12)_Score(H)_Density(M)_Legacy_Others_P_2019Q4_RFM.csv',\n",
       " '/home/jian/Projects/Big_Lots/Live_Ramp/Quarterly_Update_2019Q4/upload_files/C_Active(0-12)_Score(H)_Density(M)_Legacy_Others_S_2019Q4_RFM.csv',\n",
       " '/home/jian/Projects/Big_Lots/Live_Ramp/Quarterly_Update_2019Q4/upload_files/C_Active(0-12)_Score(H)_Density(M)_SOTF_HolidayShoppers_P_2019Q4_RFM.csv',\n",
       " '/home/jian/Projects/Big_Lots/Live_Ramp/Quarterly_Update_2019Q4/upload_files/C_Active(0-12)_Score(H)_Density(M)_SOTF_HolidayShoppers_S_2019Q4_RFM.csv',\n",
       " '/home/jian/Projects/Big_Lots/Live_Ramp/Quarterly_Update_2019Q4/upload_files/C_Active(0-12)_Score(H)_Density(M)_SOTF_Others_P_2019Q4_RFM.csv',\n",
       " '/home/jian/Projects/Big_Lots/Live_Ramp/Quarterly_Update_2019Q4/upload_files/C_Active(0-12)_Score(H)_Density(M)_SOTF_Others_S_2019Q4_RFM.csv',\n",
       " '/home/jian/Projects/Big_Lots/Live_Ramp/Quarterly_Update_2019Q4/upload_files/C_Active(0-12)_Score(L)_Density(H)_Legacy_HolidayShoppers_P_2019Q4_RFM.csv',\n",
       " '/home/jian/Projects/Big_Lots/Live_Ramp/Quarterly_Update_2019Q4/upload_files/C_Active(0-12)_Score(L)_Density(H)_Legacy_HolidayShoppers_S_2019Q4_RFM.csv',\n",
       " '/home/jian/Projects/Big_Lots/Live_Ramp/Quarterly_Update_2019Q4/upload_files/C_Active(0-12)_Score(L)_Density(H)_Legacy_Others_P_2019Q4_RFM.csv',\n",
       " '/home/jian/Projects/Big_Lots/Live_Ramp/Quarterly_Update_2019Q4/upload_files/C_Active(0-12)_Score(L)_Density(H)_Legacy_Others_S_2019Q4_RFM.csv',\n",
       " '/home/jian/Projects/Big_Lots/Live_Ramp/Quarterly_Update_2019Q4/upload_files/C_Active(0-12)_Score(L)_Density(H)_SOTF_HolidayShoppers_P_2019Q4_RFM.csv',\n",
       " '/home/jian/Projects/Big_Lots/Live_Ramp/Quarterly_Update_2019Q4/upload_files/C_Active(0-12)_Score(L)_Density(H)_SOTF_HolidayShoppers_S_2019Q4_RFM.csv',\n",
       " '/home/jian/Projects/Big_Lots/Live_Ramp/Quarterly_Update_2019Q4/upload_files/C_Active(0-12)_Score(L)_Density(H)_SOTF_Others_P_2019Q4_RFM.csv',\n",
       " '/home/jian/Projects/Big_Lots/Live_Ramp/Quarterly_Update_2019Q4/upload_files/C_Active(0-12)_Score(L)_Density(H)_SOTF_Others_S_2019Q4_RFM.csv',\n",
       " '/home/jian/Projects/Big_Lots/Live_Ramp/Quarterly_Update_2019Q4/upload_files/C_Active(0-12)_Score(L)_Density(L)_Legacy_HolidayShoppers_P_2019Q4_RFM.csv',\n",
       " '/home/jian/Projects/Big_Lots/Live_Ramp/Quarterly_Update_2019Q4/upload_files/C_Active(0-12)_Score(L)_Density(L)_Legacy_HolidayShoppers_S_2019Q4_RFM.csv',\n",
       " '/home/jian/Projects/Big_Lots/Live_Ramp/Quarterly_Update_2019Q4/upload_files/C_Active(0-12)_Score(L)_Density(L)_Legacy_Others_P_2019Q4_RFM.csv',\n",
       " '/home/jian/Projects/Big_Lots/Live_Ramp/Quarterly_Update_2019Q4/upload_files/C_Active(0-12)_Score(L)_Density(L)_Legacy_Others_S_2019Q4_RFM.csv',\n",
       " '/home/jian/Projects/Big_Lots/Live_Ramp/Quarterly_Update_2019Q4/upload_files/C_Active(0-12)_Score(L)_Density(L)_SOTF_HolidayShoppers_P_2019Q4_RFM.csv',\n",
       " '/home/jian/Projects/Big_Lots/Live_Ramp/Quarterly_Update_2019Q4/upload_files/C_Active(0-12)_Score(L)_Density(L)_SOTF_HolidayShoppers_S_2019Q4_RFM.csv',\n",
       " '/home/jian/Projects/Big_Lots/Live_Ramp/Quarterly_Update_2019Q4/upload_files/C_Active(0-12)_Score(L)_Density(L)_SOTF_Others_P_2019Q4_RFM.csv',\n",
       " '/home/jian/Projects/Big_Lots/Live_Ramp/Quarterly_Update_2019Q4/upload_files/C_Active(0-12)_Score(L)_Density(L)_SOTF_Others_S_2019Q4_RFM.csv',\n",
       " '/home/jian/Projects/Big_Lots/Live_Ramp/Quarterly_Update_2019Q4/upload_files/C_Active(0-12)_Score(L)_Density(M)_Legacy_HolidayShoppers_P_2019Q4_RFM.csv',\n",
       " '/home/jian/Projects/Big_Lots/Live_Ramp/Quarterly_Update_2019Q4/upload_files/C_Active(0-12)_Score(L)_Density(M)_Legacy_HolidayShoppers_S_2019Q4_RFM.csv',\n",
       " '/home/jian/Projects/Big_Lots/Live_Ramp/Quarterly_Update_2019Q4/upload_files/C_Active(0-12)_Score(L)_Density(M)_Legacy_Others_P_2019Q4_RFM.csv',\n",
       " '/home/jian/Projects/Big_Lots/Live_Ramp/Quarterly_Update_2019Q4/upload_files/C_Active(0-12)_Score(L)_Density(M)_Legacy_Others_S_2019Q4_RFM.csv',\n",
       " '/home/jian/Projects/Big_Lots/Live_Ramp/Quarterly_Update_2019Q4/upload_files/C_Active(0-12)_Score(L)_Density(M)_SOTF_HolidayShoppers_P_2019Q4_RFM.csv',\n",
       " '/home/jian/Projects/Big_Lots/Live_Ramp/Quarterly_Update_2019Q4/upload_files/C_Active(0-12)_Score(L)_Density(M)_SOTF_HolidayShoppers_S_2019Q4_RFM.csv',\n",
       " '/home/jian/Projects/Big_Lots/Live_Ramp/Quarterly_Update_2019Q4/upload_files/C_Active(0-12)_Score(L)_Density(M)_SOTF_Others_P_2019Q4_RFM.csv',\n",
       " '/home/jian/Projects/Big_Lots/Live_Ramp/Quarterly_Update_2019Q4/upload_files/C_Active(0-12)_Score(L)_Density(M)_SOTF_Others_S_2019Q4_RFM.csv',\n",
       " '/home/jian/Projects/Big_Lots/Live_Ramp/Quarterly_Update_2019Q4/upload_files/C_Active(0-12)_Score(M)_Density(H)_Legacy_HolidayShoppers_P_2019Q4_RFM.csv',\n",
       " '/home/jian/Projects/Big_Lots/Live_Ramp/Quarterly_Update_2019Q4/upload_files/C_Active(0-12)_Score(M)_Density(H)_Legacy_HolidayShoppers_S_2019Q4_RFM.csv',\n",
       " '/home/jian/Projects/Big_Lots/Live_Ramp/Quarterly_Update_2019Q4/upload_files/C_Active(0-12)_Score(M)_Density(H)_Legacy_Others_P_2019Q4_RFM.csv',\n",
       " '/home/jian/Projects/Big_Lots/Live_Ramp/Quarterly_Update_2019Q4/upload_files/C_Active(0-12)_Score(M)_Density(H)_Legacy_Others_S_2019Q4_RFM.csv',\n",
       " '/home/jian/Projects/Big_Lots/Live_Ramp/Quarterly_Update_2019Q4/upload_files/C_Active(0-12)_Score(M)_Density(H)_SOTF_HolidayShoppers_P_2019Q4_RFM.csv',\n",
       " '/home/jian/Projects/Big_Lots/Live_Ramp/Quarterly_Update_2019Q4/upload_files/C_Active(0-12)_Score(M)_Density(H)_SOTF_HolidayShoppers_S_2019Q4_RFM.csv',\n",
       " '/home/jian/Projects/Big_Lots/Live_Ramp/Quarterly_Update_2019Q4/upload_files/C_Active(0-12)_Score(M)_Density(H)_SOTF_Others_P_2019Q4_RFM.csv',\n",
       " '/home/jian/Projects/Big_Lots/Live_Ramp/Quarterly_Update_2019Q4/upload_files/C_Active(0-12)_Score(M)_Density(H)_SOTF_Others_S_2019Q4_RFM.csv',\n",
       " '/home/jian/Projects/Big_Lots/Live_Ramp/Quarterly_Update_2019Q4/upload_files/C_Active(0-12)_Score(M)_Density(L)_Legacy_HolidayShoppers_P_2019Q4_RFM.csv',\n",
       " '/home/jian/Projects/Big_Lots/Live_Ramp/Quarterly_Update_2019Q4/upload_files/C_Active(0-12)_Score(M)_Density(L)_Legacy_HolidayShoppers_S_2019Q4_RFM.csv',\n",
       " '/home/jian/Projects/Big_Lots/Live_Ramp/Quarterly_Update_2019Q4/upload_files/C_Active(0-12)_Score(M)_Density(L)_Legacy_Others_P_2019Q4_RFM.csv',\n",
       " '/home/jian/Projects/Big_Lots/Live_Ramp/Quarterly_Update_2019Q4/upload_files/C_Active(0-12)_Score(M)_Density(L)_Legacy_Others_S_2019Q4_RFM.csv',\n",
       " '/home/jian/Projects/Big_Lots/Live_Ramp/Quarterly_Update_2019Q4/upload_files/C_Active(0-12)_Score(M)_Density(L)_SOTF_HolidayShoppers_P_2019Q4_RFM.csv',\n",
       " '/home/jian/Projects/Big_Lots/Live_Ramp/Quarterly_Update_2019Q4/upload_files/C_Active(0-12)_Score(M)_Density(L)_SOTF_HolidayShoppers_S_2019Q4_RFM.csv',\n",
       " '/home/jian/Projects/Big_Lots/Live_Ramp/Quarterly_Update_2019Q4/upload_files/C_Active(0-12)_Score(M)_Density(L)_SOTF_Others_P_2019Q4_RFM.csv',\n",
       " '/home/jian/Projects/Big_Lots/Live_Ramp/Quarterly_Update_2019Q4/upload_files/C_Active(0-12)_Score(M)_Density(L)_SOTF_Others_S_2019Q4_RFM.csv',\n",
       " '/home/jian/Projects/Big_Lots/Live_Ramp/Quarterly_Update_2019Q4/upload_files/C_Active(0-12)_Score(M)_Density(M)_Legacy_HolidayShoppers_P_2019Q4_RFM.csv',\n",
       " '/home/jian/Projects/Big_Lots/Live_Ramp/Quarterly_Update_2019Q4/upload_files/C_Active(0-12)_Score(M)_Density(M)_Legacy_HolidayShoppers_S_2019Q4_RFM.csv',\n",
       " '/home/jian/Projects/Big_Lots/Live_Ramp/Quarterly_Update_2019Q4/upload_files/C_Active(0-12)_Score(M)_Density(M)_Legacy_Others_P_2019Q4_RFM.csv',\n",
       " '/home/jian/Projects/Big_Lots/Live_Ramp/Quarterly_Update_2019Q4/upload_files/C_Active(0-12)_Score(M)_Density(M)_Legacy_Others_S_2019Q4_RFM.csv',\n",
       " '/home/jian/Projects/Big_Lots/Live_Ramp/Quarterly_Update_2019Q4/upload_files/C_Active(0-12)_Score(M)_Density(M)_SOTF_HolidayShoppers_P_2019Q4_RFM.csv',\n",
       " '/home/jian/Projects/Big_Lots/Live_Ramp/Quarterly_Update_2019Q4/upload_files/C_Active(0-12)_Score(M)_Density(M)_SOTF_HolidayShoppers_S_2019Q4_RFM.csv',\n",
       " '/home/jian/Projects/Big_Lots/Live_Ramp/Quarterly_Update_2019Q4/upload_files/C_Active(0-12)_Score(M)_Density(M)_SOTF_Others_P_2019Q4_RFM.csv',\n",
       " '/home/jian/Projects/Big_Lots/Live_Ramp/Quarterly_Update_2019Q4/upload_files/C_Active(0-12)_Score(M)_Density(M)_SOTF_Others_S_2019Q4_RFM.csv',\n",
       " '/home/jian/Projects/Big_Lots/Live_Ramp/Quarterly_Update_2019Q4/upload_files/C_Lapsed(13-18)_Score(L)_Density(H)_Legacy_AllExpCluster_P_2019Q4_RFM.csv',\n",
       " '/home/jian/Projects/Big_Lots/Live_Ramp/Quarterly_Update_2019Q4/upload_files/C_Lapsed(13-18)_Score(L)_Density(H)_Legacy_AllExpCluster_S_2019Q4_RFM.csv',\n",
       " '/home/jian/Projects/Big_Lots/Live_Ramp/Quarterly_Update_2019Q4/upload_files/C_Lapsed(13-18)_Score(L)_Density(H)_SOTF_AllExpCluster_P_2019Q4_RFM.csv',\n",
       " '/home/jian/Projects/Big_Lots/Live_Ramp/Quarterly_Update_2019Q4/upload_files/C_Lapsed(13-18)_Score(L)_Density(H)_SOTF_AllExpCluster_S_2019Q4_RFM.csv',\n",
       " '/home/jian/Projects/Big_Lots/Live_Ramp/Quarterly_Update_2019Q4/upload_files/C_Lapsed(13-18)_Score(L)_Density(L)_Legacy_AllExpCluster_P_2019Q4_RFM.csv',\n",
       " '/home/jian/Projects/Big_Lots/Live_Ramp/Quarterly_Update_2019Q4/upload_files/C_Lapsed(13-18)_Score(L)_Density(L)_Legacy_AllExpCluster_S_2019Q4_RFM.csv',\n",
       " '/home/jian/Projects/Big_Lots/Live_Ramp/Quarterly_Update_2019Q4/upload_files/C_Lapsed(13-18)_Score(L)_Density(L)_SOTF_AllExpCluster_P_2019Q4_RFM.csv',\n",
       " '/home/jian/Projects/Big_Lots/Live_Ramp/Quarterly_Update_2019Q4/upload_files/C_Lapsed(13-18)_Score(L)_Density(L)_SOTF_AllExpCluster_S_2019Q4_RFM.csv',\n",
       " '/home/jian/Projects/Big_Lots/Live_Ramp/Quarterly_Update_2019Q4/upload_files/C_Lapsed(13-18)_Score(L)_Density(M)_Legacy_AllExpCluster_P_2019Q4_RFM.csv',\n",
       " '/home/jian/Projects/Big_Lots/Live_Ramp/Quarterly_Update_2019Q4/upload_files/C_Lapsed(13-18)_Score(L)_Density(M)_Legacy_AllExpCluster_S_2019Q4_RFM.csv',\n",
       " '/home/jian/Projects/Big_Lots/Live_Ramp/Quarterly_Update_2019Q4/upload_files/C_Lapsed(13-18)_Score(L)_Density(M)_SOTF_AllExpCluster_P_2019Q4_RFM.csv',\n",
       " '/home/jian/Projects/Big_Lots/Live_Ramp/Quarterly_Update_2019Q4/upload_files/C_Lapsed(13-18)_Score(L)_Density(M)_SOTF_AllExpCluster_S_2019Q4_RFM.csv',\n",
       " '/home/jian/Projects/Big_Lots/Live_Ramp/Quarterly_Update_2019Q4/upload_files/T_Lapsed(19-48)_Density(H)_Legacy_AllExpCluster_P_2019Q4_Lapsed.csv',\n",
       " '/home/jian/Projects/Big_Lots/Live_Ramp/Quarterly_Update_2019Q4/upload_files/T_Lapsed(19-48)_Density(L)_Legacy_AllExpCluster_P_2019Q4_Lapsed.csv',\n",
       " '/home/jian/Projects/Big_Lots/Live_Ramp/Quarterly_Update_2019Q4/upload_files/T_Lapsed(19-48)_Density(L)_SOTF_AllExpCluster_P_2019Q4_Lapsed.csv',\n",
       " '/home/jian/Projects/Big_Lots/Live_Ramp/Quarterly_Update_2019Q4/upload_files/T_Lapsed(19-48)_Density(M)_Legacy_AllExpCluster_P_2019Q4_Lapsed.csv',\n",
       " '/home/jian/Projects/Big_Lots/Live_Ramp/Quarterly_Update_2019Q4/upload_files/T_Lapsed(19-48)_Density(M)_SOTF_AllExpCluster_P_2019Q4_Lapsed.csv',\n",
       " '/home/jian/Projects/Big_Lots/Live_Ramp/Quarterly_Update_2019Q4/upload_files/C_Lapsed(19-48)_Density(H)_Legacy_AllExpCluster_P_2019Q4_Lapsed.csv',\n",
       " '/home/jian/Projects/Big_Lots/Live_Ramp/Quarterly_Update_2019Q4/upload_files/C_Lapsed(19-48)_Density(L)_Legacy_AllExpCluster_P_2019Q4_Lapsed.csv',\n",
       " '/home/jian/Projects/Big_Lots/Live_Ramp/Quarterly_Update_2019Q4/upload_files/C_Lapsed(19-48)_Density(L)_SOTF_AllExpCluster_P_2019Q4_Lapsed.csv',\n",
       " '/home/jian/Projects/Big_Lots/Live_Ramp/Quarterly_Update_2019Q4/upload_files/C_Lapsed(19-48)_Density(M)_Legacy_AllExpCluster_P_2019Q4_Lapsed.csv',\n",
       " '/home/jian/Projects/Big_Lots/Live_Ramp/Quarterly_Update_2019Q4/upload_files/C_Lapsed(19-48)_Density(M)_SOTF_AllExpCluster_P_2019Q4_Lapsed.csv']"
      ]
     },
     "execution_count": 7,
     "metadata": {},
     "output_type": "execute_result"
    }
   ],
   "source": [
    "previous_id_files_lists"
   ]
  },
  {
   "cell_type": "code",
   "execution_count": 8,
   "metadata": {},
   "outputs": [
    {
     "name": "stdout",
     "output_type": "stream",
     "text": [
      "len(uploaded_new_seg)63\n"
     ]
    }
   ],
   "source": [
    "import glob\n",
    "uploaded_new_seg=list(recursive_file_gen(\"/home/jian/celery/BiWeekly_New_SignUps/monthly_update/\"))\n",
    "uploaded_new_seg=[x for x in uploaded_new_seg if \".csv\" in x]\n",
    "print(\"len(uploaded_new_seg)\"+str(len(uploaded_new_seg)))\n",
    "previous_id_files_lists=previous_id_files_lists+uploaded_new_seg"
   ]
  },
  {
   "cell_type": "code",
   "execution_count": 9,
   "metadata": {
    "collapsed": true
   },
   "outputs": [],
   "source": [
    "# Exclude the quarterly regular segments\n"
   ]
  },
  {
   "cell_type": "code",
   "execution_count": 10,
   "metadata": {},
   "outputs": [
    {
     "name": "stdout",
     "output_type": "stream",
     "text": [
      "2019-12-18 10:17:48.475334 349950 /home/jian/Projects/Big_Lots/Live_Ramp/Quarterly_Update_2019Q4/upload_files/T_Active(0-12)_Score(H)_Density(H)_Legacy_HolidayShoppers_P_2019Q4_RFM.csv\n",
      "2019-12-18 10:17:48.613711 349950 /home/jian/Projects/Big_Lots/Live_Ramp/Quarterly_Update_2019Q4/upload_files/T_Active(0-12)_Score(H)_Density(H)_Legacy_HolidayShoppers_S_2019Q4_RFM.csv\n",
      "2019-12-18 10:17:51.878136 349950 /home/jian/Projects/Big_Lots/Live_Ramp/Quarterly_Update_2019Q4/upload_files/T_Active(0-12)_Score(H)_Density(H)_Legacy_Others_P_2019Q4_RFM.csv\n",
      "2019-12-18 10:17:52.318361 349950 /home/jian/Projects/Big_Lots/Live_Ramp/Quarterly_Update_2019Q4/upload_files/T_Active(0-12)_Score(H)_Density(H)_Legacy_Others_S_2019Q4_RFM.csv\n",
      "2019-12-18 10:17:52.395290 349950 /home/jian/Projects/Big_Lots/Live_Ramp/Quarterly_Update_2019Q4/upload_files/T_Active(0-12)_Score(H)_Density(H)_SOTF_HolidayShoppers_P_2019Q4_RFM.csv\n",
      "2019-12-18 10:17:52.470204 349950 /home/jian/Projects/Big_Lots/Live_Ramp/Quarterly_Update_2019Q4/upload_files/T_Active(0-12)_Score(H)_Density(H)_SOTF_HolidayShoppers_S_2019Q4_RFM.csv\n",
      "2019-12-18 10:17:52.581413 349950 /home/jian/Projects/Big_Lots/Live_Ramp/Quarterly_Update_2019Q4/upload_files/T_Active(0-12)_Score(H)_Density(H)_SOTF_Others_P_2019Q4_RFM.csv\n",
      "2019-12-18 10:17:52.664954 349950 /home/jian/Projects/Big_Lots/Live_Ramp/Quarterly_Update_2019Q4/upload_files/T_Active(0-12)_Score(H)_Density(H)_SOTF_Others_S_2019Q4_RFM.csv\n",
      "2019-12-18 10:17:52.725864 349950 /home/jian/Projects/Big_Lots/Live_Ramp/Quarterly_Update_2019Q4/upload_files/T_Active(0-12)_Score(H)_Density(L)_Legacy_HolidayShoppers_P_2019Q4_RFM.csv\n",
      "2019-12-18 10:17:52.795366 349950 /home/jian/Projects/Big_Lots/Live_Ramp/Quarterly_Update_2019Q4/upload_files/T_Active(0-12)_Score(H)_Density(L)_Legacy_HolidayShoppers_S_2019Q4_RFM.csv\n",
      "2019-12-18 10:17:52.893182 349950 /home/jian/Projects/Big_Lots/Live_Ramp/Quarterly_Update_2019Q4/upload_files/T_Active(0-12)_Score(H)_Density(L)_Legacy_Others_P_2019Q4_RFM.csv\n",
      "2019-12-18 10:17:52.967627 349950 /home/jian/Projects/Big_Lots/Live_Ramp/Quarterly_Update_2019Q4/upload_files/T_Active(0-12)_Score(H)_Density(L)_Legacy_Others_S_2019Q4_RFM.csv\n",
      "2019-12-18 10:17:53.057454 349950 /home/jian/Projects/Big_Lots/Live_Ramp/Quarterly_Update_2019Q4/upload_files/T_Active(0-12)_Score(H)_Density(L)_SOTF_HolidayShoppers_P_2019Q4_RFM.csv\n",
      "2019-12-18 10:17:53.138765 349950 /home/jian/Projects/Big_Lots/Live_Ramp/Quarterly_Update_2019Q4/upload_files/T_Active(0-12)_Score(H)_Density(L)_SOTF_HolidayShoppers_S_2019Q4_RFM.csv\n",
      "2019-12-18 10:17:53.909297 349950 /home/jian/Projects/Big_Lots/Live_Ramp/Quarterly_Update_2019Q4/upload_files/T_Active(0-12)_Score(H)_Density(L)_SOTF_Others_P_2019Q4_RFM.csv\n",
      "2019-12-18 10:17:54.583408 349949 /home/jian/Projects/Big_Lots/Live_Ramp/Quarterly_Update_2019Q4/upload_files/T_Active(0-12)_Score(H)_Density(L)_SOTF_Others_S_2019Q4_RFM.csv\n",
      "2019-12-18 10:17:55.050410 349947 /home/jian/Projects/Big_Lots/Live_Ramp/Quarterly_Update_2019Q4/upload_files/T_Active(0-12)_Score(H)_Density(M)_Legacy_HolidayShoppers_P_2019Q4_RFM.csv\n",
      "2019-12-18 10:17:55.257172 349947 /home/jian/Projects/Big_Lots/Live_Ramp/Quarterly_Update_2019Q4/upload_files/T_Active(0-12)_Score(H)_Density(M)_Legacy_HolidayShoppers_S_2019Q4_RFM.csv\n",
      "2019-12-18 10:19:22.225083 349936 /home/jian/Projects/Big_Lots/Live_Ramp/Quarterly_Update_2019Q4/upload_files/T_Active(0-12)_Score(H)_Density(M)_Legacy_Others_P_2019Q4_RFM.csv\n",
      "2019-12-18 10:19:40.561184 349931 /home/jian/Projects/Big_Lots/Live_Ramp/Quarterly_Update_2019Q4/upload_files/T_Active(0-12)_Score(H)_Density(M)_Legacy_Others_S_2019Q4_RFM.csv\n",
      "2019-12-18 10:19:41.060992 349930 /home/jian/Projects/Big_Lots/Live_Ramp/Quarterly_Update_2019Q4/upload_files/T_Active(0-12)_Score(H)_Density(M)_SOTF_HolidayShoppers_P_2019Q4_RFM.csv\n",
      "2019-12-18 10:19:41.195940 349929 /home/jian/Projects/Big_Lots/Live_Ramp/Quarterly_Update_2019Q4/upload_files/T_Active(0-12)_Score(H)_Density(M)_SOTF_HolidayShoppers_S_2019Q4_RFM.csv\n",
      "2019-12-18 10:19:46.340695 349918 /home/jian/Projects/Big_Lots/Live_Ramp/Quarterly_Update_2019Q4/upload_files/T_Active(0-12)_Score(H)_Density(M)_SOTF_Others_P_2019Q4_RFM.csv\n",
      "2019-12-18 10:19:50.595321 349916 /home/jian/Projects/Big_Lots/Live_Ramp/Quarterly_Update_2019Q4/upload_files/T_Active(0-12)_Score(H)_Density(M)_SOTF_Others_S_2019Q4_RFM.csv\n",
      "2019-12-18 10:19:50.754869 349916 /home/jian/Projects/Big_Lots/Live_Ramp/Quarterly_Update_2019Q4/upload_files/T_Active(0-12)_Score(L)_Density(H)_Legacy_HolidayShoppers_P_2019Q4_RFM.csv\n",
      "2019-12-18 10:19:50.848049 349916 /home/jian/Projects/Big_Lots/Live_Ramp/Quarterly_Update_2019Q4/upload_files/T_Active(0-12)_Score(L)_Density(H)_Legacy_HolidayShoppers_S_2019Q4_RFM.csv\n",
      "2019-12-18 10:19:52.703808 349916 /home/jian/Projects/Big_Lots/Live_Ramp/Quarterly_Update_2019Q4/upload_files/T_Active(0-12)_Score(L)_Density(H)_Legacy_Others_P_2019Q4_RFM.csv\n",
      "2019-12-18 10:19:52.909350 349916 /home/jian/Projects/Big_Lots/Live_Ramp/Quarterly_Update_2019Q4/upload_files/T_Active(0-12)_Score(L)_Density(H)_Legacy_Others_S_2019Q4_RFM.csv\n",
      "2019-12-18 10:19:52.974309 349916 /home/jian/Projects/Big_Lots/Live_Ramp/Quarterly_Update_2019Q4/upload_files/T_Active(0-12)_Score(L)_Density(H)_SOTF_HolidayShoppers_P_2019Q4_RFM.csv\n",
      "2019-12-18 10:19:53.029145 349916 /home/jian/Projects/Big_Lots/Live_Ramp/Quarterly_Update_2019Q4/upload_files/T_Active(0-12)_Score(L)_Density(H)_SOTF_HolidayShoppers_S_2019Q4_RFM.csv\n",
      "2019-12-18 10:19:53.117557 349916 /home/jian/Projects/Big_Lots/Live_Ramp/Quarterly_Update_2019Q4/upload_files/T_Active(0-12)_Score(L)_Density(H)_SOTF_Others_P_2019Q4_RFM.csv\n",
      "2019-12-18 10:19:53.193989 349916 /home/jian/Projects/Big_Lots/Live_Ramp/Quarterly_Update_2019Q4/upload_files/T_Active(0-12)_Score(L)_Density(H)_SOTF_Others_S_2019Q4_RFM.csv\n",
      "2019-12-18 10:19:53.275636 349916 /home/jian/Projects/Big_Lots/Live_Ramp/Quarterly_Update_2019Q4/upload_files/T_Active(0-12)_Score(L)_Density(L)_Legacy_HolidayShoppers_P_2019Q4_RFM.csv\n",
      "2019-12-18 10:19:53.348716 349916 /home/jian/Projects/Big_Lots/Live_Ramp/Quarterly_Update_2019Q4/upload_files/T_Active(0-12)_Score(L)_Density(L)_Legacy_HolidayShoppers_S_2019Q4_RFM.csv\n",
      "2019-12-18 10:19:53.425876 349916 /home/jian/Projects/Big_Lots/Live_Ramp/Quarterly_Update_2019Q4/upload_files/T_Active(0-12)_Score(L)_Density(L)_Legacy_Others_P_2019Q4_RFM.csv\n",
      "2019-12-18 10:19:53.486326 349916 /home/jian/Projects/Big_Lots/Live_Ramp/Quarterly_Update_2019Q4/upload_files/T_Active(0-12)_Score(L)_Density(L)_Legacy_Others_S_2019Q4_RFM.csv\n",
      "2019-12-18 10:19:53.563221 349916 /home/jian/Projects/Big_Lots/Live_Ramp/Quarterly_Update_2019Q4/upload_files/T_Active(0-12)_Score(L)_Density(L)_SOTF_HolidayShoppers_P_2019Q4_RFM.csv\n",
      "2019-12-18 10:19:53.654481 349916 /home/jian/Projects/Big_Lots/Live_Ramp/Quarterly_Update_2019Q4/upload_files/T_Active(0-12)_Score(L)_Density(L)_SOTF_HolidayShoppers_S_2019Q4_RFM.csv\n",
      "2019-12-18 10:19:53.863774 349916 /home/jian/Projects/Big_Lots/Live_Ramp/Quarterly_Update_2019Q4/upload_files/T_Active(0-12)_Score(L)_Density(L)_SOTF_Others_P_2019Q4_RFM.csv\n",
      "2019-12-18 10:19:54.050637 349916 /home/jian/Projects/Big_Lots/Live_Ramp/Quarterly_Update_2019Q4/upload_files/T_Active(0-12)_Score(L)_Density(L)_SOTF_Others_S_2019Q4_RFM.csv\n",
      "2019-12-18 10:19:54.390376 349916 /home/jian/Projects/Big_Lots/Live_Ramp/Quarterly_Update_2019Q4/upload_files/T_Active(0-12)_Score(L)_Density(M)_Legacy_HolidayShoppers_P_2019Q4_RFM.csv\n",
      "2019-12-18 10:19:54.570216 349915 /home/jian/Projects/Big_Lots/Live_Ramp/Quarterly_Update_2019Q4/upload_files/T_Active(0-12)_Score(L)_Density(M)_Legacy_HolidayShoppers_S_2019Q4_RFM.csv\n",
      "2019-12-18 10:20:05.501633 349915 /home/jian/Projects/Big_Lots/Live_Ramp/Quarterly_Update_2019Q4/upload_files/T_Active(0-12)_Score(L)_Density(M)_Legacy_Others_P_2019Q4_RFM.csv\n",
      "2019-12-18 10:20:09.196422 349915 /home/jian/Projects/Big_Lots/Live_Ramp/Quarterly_Update_2019Q4/upload_files/T_Active(0-12)_Score(L)_Density(M)_Legacy_Others_S_2019Q4_RFM.csv\n",
      "2019-12-18 10:20:10.238207 349915 /home/jian/Projects/Big_Lots/Live_Ramp/Quarterly_Update_2019Q4/upload_files/T_Active(0-12)_Score(L)_Density(M)_SOTF_HolidayShoppers_P_2019Q4_RFM.csv\n",
      "2019-12-18 10:20:11.080782 349914 /home/jian/Projects/Big_Lots/Live_Ramp/Quarterly_Update_2019Q4/upload_files/T_Active(0-12)_Score(L)_Density(M)_SOTF_HolidayShoppers_S_2019Q4_RFM.csv\n"
     ]
    },
    {
     "name": "stdout",
     "output_type": "stream",
     "text": [
      "2019-12-18 10:20:18.395516 349914 /home/jian/Projects/Big_Lots/Live_Ramp/Quarterly_Update_2019Q4/upload_files/T_Active(0-12)_Score(L)_Density(M)_SOTF_Others_P_2019Q4_RFM.csv\n",
      "2019-12-18 10:20:19.737189 349913 /home/jian/Projects/Big_Lots/Live_Ramp/Quarterly_Update_2019Q4/upload_files/T_Active(0-12)_Score(L)_Density(M)_SOTF_Others_S_2019Q4_RFM.csv\n",
      "2019-12-18 10:20:19.875356 349912 /home/jian/Projects/Big_Lots/Live_Ramp/Quarterly_Update_2019Q4/upload_files/T_Active(0-12)_Score(M)_Density(H)_Legacy_HolidayShoppers_P_2019Q4_RFM.csv\n",
      "2019-12-18 10:20:19.978162 349912 /home/jian/Projects/Big_Lots/Live_Ramp/Quarterly_Update_2019Q4/upload_files/T_Active(0-12)_Score(M)_Density(H)_Legacy_HolidayShoppers_S_2019Q4_RFM.csv\n",
      "2019-12-18 10:20:20.818551 349912 /home/jian/Projects/Big_Lots/Live_Ramp/Quarterly_Update_2019Q4/upload_files/T_Active(0-12)_Score(M)_Density(H)_Legacy_Others_P_2019Q4_RFM.csv\n",
      "2019-12-18 10:20:21.095908 349911 /home/jian/Projects/Big_Lots/Live_Ramp/Quarterly_Update_2019Q4/upload_files/T_Active(0-12)_Score(M)_Density(H)_Legacy_Others_S_2019Q4_RFM.csv\n",
      "2019-12-18 10:20:21.173151 349911 /home/jian/Projects/Big_Lots/Live_Ramp/Quarterly_Update_2019Q4/upload_files/T_Active(0-12)_Score(M)_Density(H)_SOTF_HolidayShoppers_P_2019Q4_RFM.csv\n",
      "2019-12-18 10:20:21.232154 349911 /home/jian/Projects/Big_Lots/Live_Ramp/Quarterly_Update_2019Q4/upload_files/T_Active(0-12)_Score(M)_Density(H)_SOTF_HolidayShoppers_S_2019Q4_RFM.csv\n",
      "2019-12-18 10:20:21.329974 349911 /home/jian/Projects/Big_Lots/Live_Ramp/Quarterly_Update_2019Q4/upload_files/T_Active(0-12)_Score(M)_Density(H)_SOTF_Others_P_2019Q4_RFM.csv\n",
      "2019-12-18 10:20:21.403057 349911 /home/jian/Projects/Big_Lots/Live_Ramp/Quarterly_Update_2019Q4/upload_files/T_Active(0-12)_Score(M)_Density(H)_SOTF_Others_S_2019Q4_RFM.csv\n",
      "2019-12-18 10:20:21.465057 349911 /home/jian/Projects/Big_Lots/Live_Ramp/Quarterly_Update_2019Q4/upload_files/T_Active(0-12)_Score(M)_Density(L)_Legacy_HolidayShoppers_P_2019Q4_RFM.csv\n",
      "2019-12-18 10:20:21.521111 349911 /home/jian/Projects/Big_Lots/Live_Ramp/Quarterly_Update_2019Q4/upload_files/T_Active(0-12)_Score(M)_Density(L)_Legacy_HolidayShoppers_S_2019Q4_RFM.csv\n",
      "2019-12-18 10:20:21.587136 349911 /home/jian/Projects/Big_Lots/Live_Ramp/Quarterly_Update_2019Q4/upload_files/T_Active(0-12)_Score(M)_Density(L)_Legacy_Others_P_2019Q4_RFM.csv\n",
      "2019-12-18 10:20:21.660556 349911 /home/jian/Projects/Big_Lots/Live_Ramp/Quarterly_Update_2019Q4/upload_files/T_Active(0-12)_Score(M)_Density(L)_Legacy_Others_S_2019Q4_RFM.csv\n",
      "2019-12-18 10:20:21.768855 349911 /home/jian/Projects/Big_Lots/Live_Ramp/Quarterly_Update_2019Q4/upload_files/T_Active(0-12)_Score(M)_Density(L)_SOTF_HolidayShoppers_P_2019Q4_RFM.csv\n",
      "2019-12-18 10:20:21.845650 349911 /home/jian/Projects/Big_Lots/Live_Ramp/Quarterly_Update_2019Q4/upload_files/T_Active(0-12)_Score(M)_Density(L)_SOTF_HolidayShoppers_S_2019Q4_RFM.csv\n",
      "2019-12-18 10:20:22.255048 349911 /home/jian/Projects/Big_Lots/Live_Ramp/Quarterly_Update_2019Q4/upload_files/T_Active(0-12)_Score(M)_Density(L)_SOTF_Others_P_2019Q4_RFM.csv\n",
      "2019-12-18 10:20:22.609398 349911 /home/jian/Projects/Big_Lots/Live_Ramp/Quarterly_Update_2019Q4/upload_files/T_Active(0-12)_Score(M)_Density(L)_SOTF_Others_S_2019Q4_RFM.csv\n",
      "2019-12-18 10:20:26.043244 349909 /home/jian/Projects/Big_Lots/Live_Ramp/Quarterly_Update_2019Q4/upload_files/T_Active(0-12)_Score(M)_Density(M)_Legacy_HolidayShoppers_P_2019Q4_RFM.csv\n",
      "2019-12-18 10:20:26.605570 349907 /home/jian/Projects/Big_Lots/Live_Ramp/Quarterly_Update_2019Q4/upload_files/T_Active(0-12)_Score(M)_Density(M)_Legacy_HolidayShoppers_S_2019Q4_RFM.csv\n",
      "2019-12-18 10:20:46.246755 349899 /home/jian/Projects/Big_Lots/Live_Ramp/Quarterly_Update_2019Q4/upload_files/T_Active(0-12)_Score(M)_Density(M)_Legacy_Others_P_2019Q4_RFM.csv\n",
      "2019-12-18 10:20:52.613818 349898 /home/jian/Projects/Big_Lots/Live_Ramp/Quarterly_Update_2019Q4/upload_files/T_Active(0-12)_Score(M)_Density(M)_Legacy_Others_S_2019Q4_RFM.csv\n",
      "2019-12-18 10:20:54.399586 349898 /home/jian/Projects/Big_Lots/Live_Ramp/Quarterly_Update_2019Q4/upload_files/T_Active(0-12)_Score(M)_Density(M)_SOTF_HolidayShoppers_P_2019Q4_RFM.csv\n",
      "2019-12-18 10:20:54.862083 349898 /home/jian/Projects/Big_Lots/Live_Ramp/Quarterly_Update_2019Q4/upload_files/T_Active(0-12)_Score(M)_Density(M)_SOTF_HolidayShoppers_S_2019Q4_RFM.csv\n",
      "2019-12-18 10:21:08.209840 349897 /home/jian/Projects/Big_Lots/Live_Ramp/Quarterly_Update_2019Q4/upload_files/T_Active(0-12)_Score(M)_Density(M)_SOTF_Others_P_2019Q4_RFM.csv\n",
      "2019-12-18 10:21:11.678048 349893 /home/jian/Projects/Big_Lots/Live_Ramp/Quarterly_Update_2019Q4/upload_files/T_Active(0-12)_Score(M)_Density(M)_SOTF_Others_S_2019Q4_RFM.csv\n",
      "2019-12-18 10:21:14.953817 349892 /home/jian/Projects/Big_Lots/Live_Ramp/Quarterly_Update_2019Q4/upload_files/T_Lapsed(13-18)_Score(L)_Density(H)_Legacy_AllExpCluster_P_2019Q4_RFM.csv\n",
      "2019-12-18 10:21:15.959605 349892 /home/jian/Projects/Big_Lots/Live_Ramp/Quarterly_Update_2019Q4/upload_files/T_Lapsed(13-18)_Score(L)_Density(H)_Legacy_AllExpCluster_S_2019Q4_RFM.csv\n",
      "2019-12-18 10:21:16.113320 349892 /home/jian/Projects/Big_Lots/Live_Ramp/Quarterly_Update_2019Q4/upload_files/T_Lapsed(13-18)_Score(L)_Density(H)_SOTF_AllExpCluster_P_2019Q4_RFM.csv\n",
      "2019-12-18 10:21:16.214816 349892 /home/jian/Projects/Big_Lots/Live_Ramp/Quarterly_Update_2019Q4/upload_files/T_Lapsed(13-18)_Score(L)_Density(H)_SOTF_AllExpCluster_S_2019Q4_RFM.csv\n",
      "2019-12-18 10:21:16.301623 349892 /home/jian/Projects/Big_Lots/Live_Ramp/Quarterly_Update_2019Q4/upload_files/T_Lapsed(13-18)_Score(L)_Density(L)_Legacy_AllExpCluster_P_2019Q4_RFM.csv\n",
      "2019-12-18 10:21:16.383109 349892 /home/jian/Projects/Big_Lots/Live_Ramp/Quarterly_Update_2019Q4/upload_files/T_Lapsed(13-18)_Score(L)_Density(L)_Legacy_AllExpCluster_S_2019Q4_RFM.csv\n",
      "2019-12-18 10:21:16.925182 349892 /home/jian/Projects/Big_Lots/Live_Ramp/Quarterly_Update_2019Q4/upload_files/T_Lapsed(13-18)_Score(L)_Density(L)_SOTF_AllExpCluster_P_2019Q4_RFM.csv\n",
      "2019-12-18 10:21:17.324375 349892 /home/jian/Projects/Big_Lots/Live_Ramp/Quarterly_Update_2019Q4/upload_files/T_Lapsed(13-18)_Score(L)_Density(L)_SOTF_AllExpCluster_S_2019Q4_RFM.csv\n",
      "2019-12-18 10:21:25.608087 349888 /home/jian/Projects/Big_Lots/Live_Ramp/Quarterly_Update_2019Q4/upload_files/T_Lapsed(13-18)_Score(L)_Density(M)_Legacy_AllExpCluster_P_2019Q4_RFM.csv\n",
      "2019-12-18 10:21:35.819571 349888 /home/jian/Projects/Big_Lots/Live_Ramp/Quarterly_Update_2019Q4/upload_files/T_Lapsed(13-18)_Score(L)_Density(M)_Legacy_AllExpCluster_S_2019Q4_RFM.csv\n",
      "2019-12-18 10:21:41.030827 349887 /home/jian/Projects/Big_Lots/Live_Ramp/Quarterly_Update_2019Q4/upload_files/T_Lapsed(13-18)_Score(L)_Density(M)_SOTF_AllExpCluster_P_2019Q4_RFM.csv\n",
      "2019-12-18 10:21:43.103976 349886 /home/jian/Projects/Big_Lots/Live_Ramp/Quarterly_Update_2019Q4/upload_files/T_Lapsed(13-18)_Score(L)_Density(M)_SOTF_AllExpCluster_S_2019Q4_RFM.csv\n",
      "2019-12-18 10:21:43.280789 349886 /home/jian/Projects/Big_Lots/Live_Ramp/Quarterly_Update_2019Q4/upload_files/C_Active(0-12)_Score(H)_Density(H)_Legacy_HolidayShoppers_P_2019Q4_RFM.csv\n",
      "2019-12-18 10:21:43.359042 349886 /home/jian/Projects/Big_Lots/Live_Ramp/Quarterly_Update_2019Q4/upload_files/C_Active(0-12)_Score(H)_Density(H)_Legacy_HolidayShoppers_S_2019Q4_RFM.csv\n",
      "2019-12-18 10:21:43.492427 349886 /home/jian/Projects/Big_Lots/Live_Ramp/Quarterly_Update_2019Q4/upload_files/C_Active(0-12)_Score(H)_Density(H)_Legacy_Others_P_2019Q4_RFM.csv\n",
      "2019-12-18 10:21:43.571925 349886 /home/jian/Projects/Big_Lots/Live_Ramp/Quarterly_Update_2019Q4/upload_files/C_Active(0-12)_Score(H)_Density(H)_Legacy_Others_S_2019Q4_RFM.csv\n",
      "2019-12-18 10:21:43.655226 349886 /home/jian/Projects/Big_Lots/Live_Ramp/Quarterly_Update_2019Q4/upload_files/C_Active(0-12)_Score(H)_Density(H)_SOTF_HolidayShoppers_P_2019Q4_RFM.csv\n",
      "2019-12-18 10:21:43.718341 349886 /home/jian/Projects/Big_Lots/Live_Ramp/Quarterly_Update_2019Q4/upload_files/C_Active(0-12)_Score(H)_Density(H)_SOTF_HolidayShoppers_S_2019Q4_RFM.csv\n",
      "2019-12-18 10:21:43.787854 349886 /home/jian/Projects/Big_Lots/Live_Ramp/Quarterly_Update_2019Q4/upload_files/C_Active(0-12)_Score(H)_Density(H)_SOTF_Others_P_2019Q4_RFM.csv\n",
      "2019-12-18 10:21:43.866139 349886 /home/jian/Projects/Big_Lots/Live_Ramp/Quarterly_Update_2019Q4/upload_files/C_Active(0-12)_Score(H)_Density(H)_SOTF_Others_S_2019Q4_RFM.csv\n",
      "2019-12-18 10:21:43.935024 349886 /home/jian/Projects/Big_Lots/Live_Ramp/Quarterly_Update_2019Q4/upload_files/C_Active(0-12)_Score(H)_Density(L)_Legacy_HolidayShoppers_P_2019Q4_RFM.csv\n"
     ]
    },
    {
     "name": "stdout",
     "output_type": "stream",
     "text": [
      "2019-12-18 10:21:43.995465 349886 /home/jian/Projects/Big_Lots/Live_Ramp/Quarterly_Update_2019Q4/upload_files/C_Active(0-12)_Score(H)_Density(L)_Legacy_HolidayShoppers_S_2019Q4_RFM.csv\n",
      "2019-12-18 10:21:44.059027 349886 /home/jian/Projects/Big_Lots/Live_Ramp/Quarterly_Update_2019Q4/upload_files/C_Active(0-12)_Score(H)_Density(L)_Legacy_Others_P_2019Q4_RFM.csv\n",
      "2019-12-18 10:21:44.127992 349886 /home/jian/Projects/Big_Lots/Live_Ramp/Quarterly_Update_2019Q4/upload_files/C_Active(0-12)_Score(H)_Density(L)_Legacy_Others_S_2019Q4_RFM.csv\n",
      "2019-12-18 10:21:44.201429 349886 /home/jian/Projects/Big_Lots/Live_Ramp/Quarterly_Update_2019Q4/upload_files/C_Active(0-12)_Score(H)_Density(L)_SOTF_HolidayShoppers_P_2019Q4_RFM.csv\n",
      "2019-12-18 10:21:44.258078 349886 /home/jian/Projects/Big_Lots/Live_Ramp/Quarterly_Update_2019Q4/upload_files/C_Active(0-12)_Score(H)_Density(L)_SOTF_HolidayShoppers_S_2019Q4_RFM.csv\n",
      "2019-12-18 10:21:44.366826 349886 /home/jian/Projects/Big_Lots/Live_Ramp/Quarterly_Update_2019Q4/upload_files/C_Active(0-12)_Score(H)_Density(L)_SOTF_Others_P_2019Q4_RFM.csv\n",
      "2019-12-18 10:21:44.457949 349886 /home/jian/Projects/Big_Lots/Live_Ramp/Quarterly_Update_2019Q4/upload_files/C_Active(0-12)_Score(H)_Density(L)_SOTF_Others_S_2019Q4_RFM.csv\n",
      "2019-12-18 10:21:44.532513 349886 /home/jian/Projects/Big_Lots/Live_Ramp/Quarterly_Update_2019Q4/upload_files/C_Active(0-12)_Score(H)_Density(M)_Legacy_HolidayShoppers_P_2019Q4_RFM.csv\n",
      "2019-12-18 10:21:44.615683 349886 /home/jian/Projects/Big_Lots/Live_Ramp/Quarterly_Update_2019Q4/upload_files/C_Active(0-12)_Score(H)_Density(M)_Legacy_HolidayShoppers_S_2019Q4_RFM.csv\n",
      "2019-12-18 10:21:44.827754 349886 /home/jian/Projects/Big_Lots/Live_Ramp/Quarterly_Update_2019Q4/upload_files/C_Active(0-12)_Score(H)_Density(M)_Legacy_Others_P_2019Q4_RFM.csv\n",
      "2019-12-18 10:21:45.015189 349886 /home/jian/Projects/Big_Lots/Live_Ramp/Quarterly_Update_2019Q4/upload_files/C_Active(0-12)_Score(H)_Density(M)_Legacy_Others_S_2019Q4_RFM.csv\n",
      "2019-12-18 10:21:45.096720 349886 /home/jian/Projects/Big_Lots/Live_Ramp/Quarterly_Update_2019Q4/upload_files/C_Active(0-12)_Score(H)_Density(M)_SOTF_HolidayShoppers_P_2019Q4_RFM.csv\n",
      "2019-12-18 10:21:45.177977 349886 /home/jian/Projects/Big_Lots/Live_Ramp/Quarterly_Update_2019Q4/upload_files/C_Active(0-12)_Score(H)_Density(M)_SOTF_HolidayShoppers_S_2019Q4_RFM.csv\n",
      "2019-12-18 10:21:45.367553 349886 /home/jian/Projects/Big_Lots/Live_Ramp/Quarterly_Update_2019Q4/upload_files/C_Active(0-12)_Score(H)_Density(M)_SOTF_Others_P_2019Q4_RFM.csv\n",
      "2019-12-18 10:21:45.499975 349886 /home/jian/Projects/Big_Lots/Live_Ramp/Quarterly_Update_2019Q4/upload_files/C_Active(0-12)_Score(H)_Density(M)_SOTF_Others_S_2019Q4_RFM.csv\n",
      "2019-12-18 10:21:45.557224 349886 /home/jian/Projects/Big_Lots/Live_Ramp/Quarterly_Update_2019Q4/upload_files/C_Active(0-12)_Score(L)_Density(H)_Legacy_HolidayShoppers_P_2019Q4_RFM.csv\n",
      "2019-12-18 10:21:45.618380 349886 /home/jian/Projects/Big_Lots/Live_Ramp/Quarterly_Update_2019Q4/upload_files/C_Active(0-12)_Score(L)_Density(H)_Legacy_HolidayShoppers_S_2019Q4_RFM.csv\n",
      "2019-12-18 10:21:45.696979 349886 /home/jian/Projects/Big_Lots/Live_Ramp/Quarterly_Update_2019Q4/upload_files/C_Active(0-12)_Score(L)_Density(H)_Legacy_Others_P_2019Q4_RFM.csv\n",
      "2019-12-18 10:21:45.771932 349886 /home/jian/Projects/Big_Lots/Live_Ramp/Quarterly_Update_2019Q4/upload_files/C_Active(0-12)_Score(L)_Density(H)_Legacy_Others_S_2019Q4_RFM.csv\n",
      "2019-12-18 10:21:45.844294 349886 /home/jian/Projects/Big_Lots/Live_Ramp/Quarterly_Update_2019Q4/upload_files/C_Active(0-12)_Score(L)_Density(H)_SOTF_HolidayShoppers_P_2019Q4_RFM.csv\n",
      "2019-12-18 10:21:45.912777 349886 /home/jian/Projects/Big_Lots/Live_Ramp/Quarterly_Update_2019Q4/upload_files/C_Active(0-12)_Score(L)_Density(H)_SOTF_HolidayShoppers_S_2019Q4_RFM.csv\n",
      "2019-12-18 10:21:45.973077 349886 /home/jian/Projects/Big_Lots/Live_Ramp/Quarterly_Update_2019Q4/upload_files/C_Active(0-12)_Score(L)_Density(H)_SOTF_Others_P_2019Q4_RFM.csv\n",
      "2019-12-18 10:21:46.030689 349886 /home/jian/Projects/Big_Lots/Live_Ramp/Quarterly_Update_2019Q4/upload_files/C_Active(0-12)_Score(L)_Density(H)_SOTF_Others_S_2019Q4_RFM.csv\n",
      "2019-12-18 10:21:46.088959 349886 /home/jian/Projects/Big_Lots/Live_Ramp/Quarterly_Update_2019Q4/upload_files/C_Active(0-12)_Score(L)_Density(L)_Legacy_HolidayShoppers_P_2019Q4_RFM.csv\n",
      "2019-12-18 10:21:46.146997 349886 /home/jian/Projects/Big_Lots/Live_Ramp/Quarterly_Update_2019Q4/upload_files/C_Active(0-12)_Score(L)_Density(L)_Legacy_HolidayShoppers_S_2019Q4_RFM.csv\n",
      "2019-12-18 10:21:46.210348 349886 /home/jian/Projects/Big_Lots/Live_Ramp/Quarterly_Update_2019Q4/upload_files/C_Active(0-12)_Score(L)_Density(L)_Legacy_Others_P_2019Q4_RFM.csv\n",
      "2019-12-18 10:21:46.277908 349886 /home/jian/Projects/Big_Lots/Live_Ramp/Quarterly_Update_2019Q4/upload_files/C_Active(0-12)_Score(L)_Density(L)_Legacy_Others_S_2019Q4_RFM.csv\n",
      "2019-12-18 10:21:46.348598 349886 /home/jian/Projects/Big_Lots/Live_Ramp/Quarterly_Update_2019Q4/upload_files/C_Active(0-12)_Score(L)_Density(L)_SOTF_HolidayShoppers_P_2019Q4_RFM.csv\n",
      "2019-12-18 10:21:46.410834 349886 /home/jian/Projects/Big_Lots/Live_Ramp/Quarterly_Update_2019Q4/upload_files/C_Active(0-12)_Score(L)_Density(L)_SOTF_HolidayShoppers_S_2019Q4_RFM.csv\n",
      "2019-12-18 10:21:46.476455 349886 /home/jian/Projects/Big_Lots/Live_Ramp/Quarterly_Update_2019Q4/upload_files/C_Active(0-12)_Score(L)_Density(L)_SOTF_Others_P_2019Q4_RFM.csv\n",
      "2019-12-18 10:21:46.546329 349886 /home/jian/Projects/Big_Lots/Live_Ramp/Quarterly_Update_2019Q4/upload_files/C_Active(0-12)_Score(L)_Density(L)_SOTF_Others_S_2019Q4_RFM.csv\n",
      "2019-12-18 10:21:46.651413 349886 /home/jian/Projects/Big_Lots/Live_Ramp/Quarterly_Update_2019Q4/upload_files/C_Active(0-12)_Score(L)_Density(M)_Legacy_HolidayShoppers_P_2019Q4_RFM.csv\n",
      "2019-12-18 10:21:46.761837 349886 /home/jian/Projects/Big_Lots/Live_Ramp/Quarterly_Update_2019Q4/upload_files/C_Active(0-12)_Score(L)_Density(M)_Legacy_HolidayShoppers_S_2019Q4_RFM.csv\n",
      "2019-12-18 10:21:46.949506 349886 /home/jian/Projects/Big_Lots/Live_Ramp/Quarterly_Update_2019Q4/upload_files/C_Active(0-12)_Score(L)_Density(M)_Legacy_Others_P_2019Q4_RFM.csv\n",
      "2019-12-18 10:21:47.060560 349885 /home/jian/Projects/Big_Lots/Live_Ramp/Quarterly_Update_2019Q4/upload_files/C_Active(0-12)_Score(L)_Density(M)_Legacy_Others_S_2019Q4_RFM.csv\n",
      "2019-12-18 10:21:47.127300 349885 /home/jian/Projects/Big_Lots/Live_Ramp/Quarterly_Update_2019Q4/upload_files/C_Active(0-12)_Score(L)_Density(M)_SOTF_HolidayShoppers_P_2019Q4_RFM.csv\n",
      "2019-12-18 10:21:47.203414 349885 /home/jian/Projects/Big_Lots/Live_Ramp/Quarterly_Update_2019Q4/upload_files/C_Active(0-12)_Score(L)_Density(M)_SOTF_HolidayShoppers_S_2019Q4_RFM.csv\n",
      "2019-12-18 10:21:47.296990 349885 /home/jian/Projects/Big_Lots/Live_Ramp/Quarterly_Update_2019Q4/upload_files/C_Active(0-12)_Score(L)_Density(M)_SOTF_Others_P_2019Q4_RFM.csv\n",
      "2019-12-18 10:21:47.395423 349885 /home/jian/Projects/Big_Lots/Live_Ramp/Quarterly_Update_2019Q4/upload_files/C_Active(0-12)_Score(L)_Density(M)_SOTF_Others_S_2019Q4_RFM.csv\n",
      "2019-12-18 10:21:47.458150 349885 /home/jian/Projects/Big_Lots/Live_Ramp/Quarterly_Update_2019Q4/upload_files/C_Active(0-12)_Score(M)_Density(H)_Legacy_HolidayShoppers_P_2019Q4_RFM.csv\n",
      "2019-12-18 10:21:47.516370 349885 /home/jian/Projects/Big_Lots/Live_Ramp/Quarterly_Update_2019Q4/upload_files/C_Active(0-12)_Score(M)_Density(H)_Legacy_HolidayShoppers_S_2019Q4_RFM.csv\n",
      "2019-12-18 10:21:47.597650 349885 /home/jian/Projects/Big_Lots/Live_Ramp/Quarterly_Update_2019Q4/upload_files/C_Active(0-12)_Score(M)_Density(H)_Legacy_Others_P_2019Q4_RFM.csv\n",
      "2019-12-18 10:21:47.665164 349885 /home/jian/Projects/Big_Lots/Live_Ramp/Quarterly_Update_2019Q4/upload_files/C_Active(0-12)_Score(M)_Density(H)_Legacy_Others_S_2019Q4_RFM.csv\n",
      "2019-12-18 10:21:47.720779 349885 /home/jian/Projects/Big_Lots/Live_Ramp/Quarterly_Update_2019Q4/upload_files/C_Active(0-12)_Score(M)_Density(H)_SOTF_HolidayShoppers_P_2019Q4_RFM.csv\n",
      "2019-12-18 10:21:47.791188 349885 /home/jian/Projects/Big_Lots/Live_Ramp/Quarterly_Update_2019Q4/upload_files/C_Active(0-12)_Score(M)_Density(H)_SOTF_HolidayShoppers_S_2019Q4_RFM.csv\n",
      "2019-12-18 10:21:47.848409 349885 /home/jian/Projects/Big_Lots/Live_Ramp/Quarterly_Update_2019Q4/upload_files/C_Active(0-12)_Score(M)_Density(H)_SOTF_Others_P_2019Q4_RFM.csv\n"
     ]
    },
    {
     "name": "stdout",
     "output_type": "stream",
     "text": [
      "2019-12-18 10:21:47.913502 349885 /home/jian/Projects/Big_Lots/Live_Ramp/Quarterly_Update_2019Q4/upload_files/C_Active(0-12)_Score(M)_Density(H)_SOTF_Others_S_2019Q4_RFM.csv\n",
      "2019-12-18 10:21:47.968667 349885 /home/jian/Projects/Big_Lots/Live_Ramp/Quarterly_Update_2019Q4/upload_files/C_Active(0-12)_Score(M)_Density(L)_Legacy_HolidayShoppers_P_2019Q4_RFM.csv\n",
      "2019-12-18 10:21:48.029233 349885 /home/jian/Projects/Big_Lots/Live_Ramp/Quarterly_Update_2019Q4/upload_files/C_Active(0-12)_Score(M)_Density(L)_Legacy_HolidayShoppers_S_2019Q4_RFM.csv\n",
      "2019-12-18 10:21:48.094485 349885 /home/jian/Projects/Big_Lots/Live_Ramp/Quarterly_Update_2019Q4/upload_files/C_Active(0-12)_Score(M)_Density(L)_Legacy_Others_P_2019Q4_RFM.csv\n",
      "2019-12-18 10:21:48.149839 349885 /home/jian/Projects/Big_Lots/Live_Ramp/Quarterly_Update_2019Q4/upload_files/C_Active(0-12)_Score(M)_Density(L)_Legacy_Others_S_2019Q4_RFM.csv\n",
      "2019-12-18 10:21:48.211804 349885 /home/jian/Projects/Big_Lots/Live_Ramp/Quarterly_Update_2019Q4/upload_files/C_Active(0-12)_Score(M)_Density(L)_SOTF_HolidayShoppers_P_2019Q4_RFM.csv\n",
      "2019-12-18 10:21:48.282863 349885 /home/jian/Projects/Big_Lots/Live_Ramp/Quarterly_Update_2019Q4/upload_files/C_Active(0-12)_Score(M)_Density(L)_SOTF_HolidayShoppers_S_2019Q4_RFM.csv\n",
      "2019-12-18 10:21:48.354502 349885 /home/jian/Projects/Big_Lots/Live_Ramp/Quarterly_Update_2019Q4/upload_files/C_Active(0-12)_Score(M)_Density(L)_SOTF_Others_P_2019Q4_RFM.csv\n",
      "2019-12-18 10:21:48.432356 349885 /home/jian/Projects/Big_Lots/Live_Ramp/Quarterly_Update_2019Q4/upload_files/C_Active(0-12)_Score(M)_Density(L)_SOTF_Others_S_2019Q4_RFM.csv\n",
      "2019-12-18 10:21:48.537941 349885 /home/jian/Projects/Big_Lots/Live_Ramp/Quarterly_Update_2019Q4/upload_files/C_Active(0-12)_Score(M)_Density(M)_Legacy_HolidayShoppers_P_2019Q4_RFM.csv\n",
      "2019-12-18 10:21:48.628697 349885 /home/jian/Projects/Big_Lots/Live_Ramp/Quarterly_Update_2019Q4/upload_files/C_Active(0-12)_Score(M)_Density(M)_Legacy_HolidayShoppers_S_2019Q4_RFM.csv\n",
      "2019-12-18 10:21:48.874189 349885 /home/jian/Projects/Big_Lots/Live_Ramp/Quarterly_Update_2019Q4/upload_files/C_Active(0-12)_Score(M)_Density(M)_Legacy_Others_P_2019Q4_RFM.csv\n",
      "2019-12-18 10:21:49.030393 349885 /home/jian/Projects/Big_Lots/Live_Ramp/Quarterly_Update_2019Q4/upload_files/C_Active(0-12)_Score(M)_Density(M)_Legacy_Others_S_2019Q4_RFM.csv\n",
      "2019-12-18 10:21:49.111491 349885 /home/jian/Projects/Big_Lots/Live_Ramp/Quarterly_Update_2019Q4/upload_files/C_Active(0-12)_Score(M)_Density(M)_SOTF_HolidayShoppers_P_2019Q4_RFM.csv\n",
      "2019-12-18 10:21:49.180400 349885 /home/jian/Projects/Big_Lots/Live_Ramp/Quarterly_Update_2019Q4/upload_files/C_Active(0-12)_Score(M)_Density(M)_SOTF_HolidayShoppers_S_2019Q4_RFM.csv\n",
      "2019-12-18 10:21:49.308479 349885 /home/jian/Projects/Big_Lots/Live_Ramp/Quarterly_Update_2019Q4/upload_files/C_Active(0-12)_Score(M)_Density(M)_SOTF_Others_P_2019Q4_RFM.csv\n",
      "2019-12-18 10:21:49.410232 349885 /home/jian/Projects/Big_Lots/Live_Ramp/Quarterly_Update_2019Q4/upload_files/C_Active(0-12)_Score(M)_Density(M)_SOTF_Others_S_2019Q4_RFM.csv\n",
      "2019-12-18 10:21:49.492492 349885 /home/jian/Projects/Big_Lots/Live_Ramp/Quarterly_Update_2019Q4/upload_files/C_Lapsed(13-18)_Score(L)_Density(H)_Legacy_AllExpCluster_P_2019Q4_RFM.csv\n",
      "2019-12-18 10:21:49.561868 349885 /home/jian/Projects/Big_Lots/Live_Ramp/Quarterly_Update_2019Q4/upload_files/C_Lapsed(13-18)_Score(L)_Density(H)_Legacy_AllExpCluster_S_2019Q4_RFM.csv\n",
      "2019-12-18 10:21:49.624316 349885 /home/jian/Projects/Big_Lots/Live_Ramp/Quarterly_Update_2019Q4/upload_files/C_Lapsed(13-18)_Score(L)_Density(H)_SOTF_AllExpCluster_P_2019Q4_RFM.csv\n",
      "2019-12-18 10:21:49.680873 349885 /home/jian/Projects/Big_Lots/Live_Ramp/Quarterly_Update_2019Q4/upload_files/C_Lapsed(13-18)_Score(L)_Density(H)_SOTF_AllExpCluster_S_2019Q4_RFM.csv\n",
      "2019-12-18 10:21:49.742392 349885 /home/jian/Projects/Big_Lots/Live_Ramp/Quarterly_Update_2019Q4/upload_files/C_Lapsed(13-18)_Score(L)_Density(L)_Legacy_AllExpCluster_P_2019Q4_RFM.csv\n",
      "2019-12-18 10:21:49.804689 349885 /home/jian/Projects/Big_Lots/Live_Ramp/Quarterly_Update_2019Q4/upload_files/C_Lapsed(13-18)_Score(L)_Density(L)_Legacy_AllExpCluster_S_2019Q4_RFM.csv\n",
      "2019-12-18 10:21:49.883168 349885 /home/jian/Projects/Big_Lots/Live_Ramp/Quarterly_Update_2019Q4/upload_files/C_Lapsed(13-18)_Score(L)_Density(L)_SOTF_AllExpCluster_P_2019Q4_RFM.csv\n",
      "2019-12-18 10:21:49.945242 349885 /home/jian/Projects/Big_Lots/Live_Ramp/Quarterly_Update_2019Q4/upload_files/C_Lapsed(13-18)_Score(L)_Density(L)_SOTF_AllExpCluster_S_2019Q4_RFM.csv\n",
      "2019-12-18 10:21:50.094021 349885 /home/jian/Projects/Big_Lots/Live_Ramp/Quarterly_Update_2019Q4/upload_files/C_Lapsed(13-18)_Score(L)_Density(M)_Legacy_AllExpCluster_P_2019Q4_RFM.csv\n",
      "2019-12-18 10:21:50.198858 349885 /home/jian/Projects/Big_Lots/Live_Ramp/Quarterly_Update_2019Q4/upload_files/C_Lapsed(13-18)_Score(L)_Density(M)_Legacy_AllExpCluster_S_2019Q4_RFM.csv\n",
      "2019-12-18 10:21:50.290497 349885 /home/jian/Projects/Big_Lots/Live_Ramp/Quarterly_Update_2019Q4/upload_files/C_Lapsed(13-18)_Score(L)_Density(M)_SOTF_AllExpCluster_P_2019Q4_RFM.csv\n",
      "2019-12-18 10:21:50.379140 349885 /home/jian/Projects/Big_Lots/Live_Ramp/Quarterly_Update_2019Q4/upload_files/C_Lapsed(13-18)_Score(L)_Density(M)_SOTF_AllExpCluster_S_2019Q4_RFM.csv\n",
      "2019-12-18 10:21:55.436251 349883 /home/jian/Projects/Big_Lots/Live_Ramp/Quarterly_Update_2019Q4/upload_files/T_Lapsed(19-48)_Density(H)_Legacy_AllExpCluster_P_2019Q4_Lapsed.csv\n",
      "2019-12-18 10:21:55.648861 349883 /home/jian/Projects/Big_Lots/Live_Ramp/Quarterly_Update_2019Q4/upload_files/T_Lapsed(19-48)_Density(L)_Legacy_AllExpCluster_P_2019Q4_Lapsed.csv\n",
      "2019-12-18 10:21:57.724112 349879 /home/jian/Projects/Big_Lots/Live_Ramp/Quarterly_Update_2019Q4/upload_files/T_Lapsed(19-48)_Density(L)_SOTF_AllExpCluster_P_2019Q4_Lapsed.csv\n",
      "2019-12-18 10:22:23.326234 349868 /home/jian/Projects/Big_Lots/Live_Ramp/Quarterly_Update_2019Q4/upload_files/T_Lapsed(19-48)_Density(M)_Legacy_AllExpCluster_P_2019Q4_Lapsed.csv\n",
      "2019-12-18 10:22:35.877517 349858 /home/jian/Projects/Big_Lots/Live_Ramp/Quarterly_Update_2019Q4/upload_files/T_Lapsed(19-48)_Density(M)_SOTF_AllExpCluster_P_2019Q4_Lapsed.csv\n",
      "2019-12-18 10:22:36.267961 349858 /home/jian/Projects/Big_Lots/Live_Ramp/Quarterly_Update_2019Q4/upload_files/C_Lapsed(19-48)_Density(H)_Legacy_AllExpCluster_P_2019Q4_Lapsed.csv\n",
      "2019-12-18 10:22:36.347889 349858 /home/jian/Projects/Big_Lots/Live_Ramp/Quarterly_Update_2019Q4/upload_files/C_Lapsed(19-48)_Density(L)_Legacy_AllExpCluster_P_2019Q4_Lapsed.csv\n",
      "2019-12-18 10:22:36.435872 349858 /home/jian/Projects/Big_Lots/Live_Ramp/Quarterly_Update_2019Q4/upload_files/C_Lapsed(19-48)_Density(L)_SOTF_AllExpCluster_P_2019Q4_Lapsed.csv\n",
      "2019-12-18 10:22:36.640063 349857 /home/jian/Projects/Big_Lots/Live_Ramp/Quarterly_Update_2019Q4/upload_files/C_Lapsed(19-48)_Density(M)_Legacy_AllExpCluster_P_2019Q4_Lapsed.csv\n",
      "2019-12-18 10:22:36.776391 349856 /home/jian/Projects/Big_Lots/Live_Ramp/Quarterly_Update_2019Q4/upload_files/C_Lapsed(19-48)_Density(M)_SOTF_AllExpCluster_P_2019Q4_Lapsed.csv\n",
      "2019-12-18 10:22:37.590643 349856 /home/jian/celery/BiWeekly_New_SignUps/monthly_update/output_2018-12-29/NewReward_2018-12-29_P.csv\n",
      "2019-12-18 10:22:37.952725 349856 /home/jian/celery/BiWeekly_New_SignUps/monthly_update/output_2018-12-29/NewReward_2018-12-29_S.csv\n",
      "2019-12-18 10:22:38.207253 349856 /home/jian/celery/BiWeekly_New_SignUps/monthly_update/output_2018-12-29/NewReward_2018-12-29_T.csv\n",
      "2019-12-18 10:22:39.449392 349856 /home/jian/celery/BiWeekly_New_SignUps/monthly_update/output_2019-01-26/NewReward_2019-01-26_P.csv\n",
      "2019-12-18 10:22:39.911157 349856 /home/jian/celery/BiWeekly_New_SignUps/monthly_update/output_2019-01-26/NewReward_2019-01-26_S.csv\n",
      "2019-12-18 10:22:40.098266 349856 /home/jian/celery/BiWeekly_New_SignUps/monthly_update/output_2019-01-26/NewReward_2019-01-26_T.csv\n",
      "2019-12-18 10:22:40.707880 349856 /home/jian/celery/BiWeekly_New_SignUps/monthly_update/output_2019-02-23/NewReward_2019-02-23_P.csv\n",
      "2019-12-18 10:22:40.985831 349856 /home/jian/celery/BiWeekly_New_SignUps/monthly_update/output_2019-02-23/NewReward_2019-02-23_S.csv\n",
      "2019-12-18 10:22:41.141036 349855 /home/jian/celery/BiWeekly_New_SignUps/monthly_update/output_2019-02-23/NewReward_2019-02-23_T.csv\n"
     ]
    },
    {
     "name": "stdout",
     "output_type": "stream",
     "text": [
      "2019-12-18 10:22:41.898114 349855 /home/jian/celery/BiWeekly_New_SignUps/monthly_update/output_2019-03-23/NewReward_2019-03-23_P.csv\n",
      "2019-12-18 10:22:42.141416 349855 /home/jian/celery/BiWeekly_New_SignUps/monthly_update/output_2019-03-23/NewReward_2019-03-23_S.csv\n",
      "2019-12-18 10:22:42.280155 349855 /home/jian/celery/BiWeekly_New_SignUps/monthly_update/output_2019-03-23/NewReward_2019-03-23_T.csv\n",
      "2019-12-18 10:22:42.742268 349855 /home/jian/celery/BiWeekly_New_SignUps/monthly_update/output_2019-04-06/NewReward_2019-04-06_P.csv\n",
      "2019-12-18 10:22:42.912070 349855 /home/jian/celery/BiWeekly_New_SignUps/monthly_update/output_2019-04-06/NewReward_2019-04-06_S.csv\n",
      "2019-12-18 10:22:43.025589 349855 /home/jian/celery/BiWeekly_New_SignUps/monthly_update/output_2019-04-06/NewReward_2019-04-06_T.csv\n",
      "2019-12-18 10:22:43.384177 349855 /home/jian/celery/BiWeekly_New_SignUps/monthly_update/output_2019-04-20/NewReward_2019-04-20_P.csv\n",
      "2019-12-18 10:22:43.498897 349855 /home/jian/celery/BiWeekly_New_SignUps/monthly_update/output_2019-04-20/NewReward_2019-04-20_S.csv\n",
      "2019-12-18 10:22:43.589365 349855 /home/jian/celery/BiWeekly_New_SignUps/monthly_update/output_2019-04-20/NewReward_2019-04-20_T.csv\n",
      "2019-12-18 10:22:43.933498 349855 /home/jian/celery/BiWeekly_New_SignUps/monthly_update/output_2019-05-04/NewReward_2019-05-04_P.csv\n",
      "2019-12-18 10:22:44.072714 349855 /home/jian/celery/BiWeekly_New_SignUps/monthly_update/output_2019-05-04/NewReward_2019-05-04_S.csv\n",
      "2019-12-18 10:22:44.179205 349855 /home/jian/celery/BiWeekly_New_SignUps/monthly_update/output_2019-05-04/NewReward_2019-05-04_T.csv\n",
      "2019-12-18 10:22:48.682729 349855 /home/jian/celery/BiWeekly_New_SignUps/monthly_update/output_2019-05-18/NewReward_2019-05-18_P.csv\n",
      "2019-12-18 10:22:48.850043 349855 /home/jian/celery/BiWeekly_New_SignUps/monthly_update/output_2019-05-18/NewReward_2019-05-18_S.csv\n",
      "2019-12-18 10:22:48.977678 349855 /home/jian/celery/BiWeekly_New_SignUps/monthly_update/output_2019-05-18/NewReward_2019-05-18_T.csv\n",
      "2019-12-18 10:22:49.359603 349855 /home/jian/celery/BiWeekly_New_SignUps/monthly_update/output_2019-06-01/NewReward_2019-06-01_P.csv\n",
      "2019-12-18 10:22:49.525108 349855 /home/jian/celery/BiWeekly_New_SignUps/monthly_update/output_2019-06-01/NewReward_2019-06-01_S.csv\n",
      "2019-12-18 10:22:49.649476 349855 /home/jian/celery/BiWeekly_New_SignUps/monthly_update/output_2019-06-01/NewReward_2019-06-01_T.csv\n",
      "2019-12-18 10:22:50.036025 349855 /home/jian/celery/BiWeekly_New_SignUps/monthly_update/output_2019-06-15/NewReward_2019-06-15_P.csv\n",
      "2019-12-18 10:22:50.189272 349855 /home/jian/celery/BiWeekly_New_SignUps/monthly_update/output_2019-06-15/NewReward_2019-06-15_S.csv\n",
      "2019-12-18 10:22:50.426254 349855 /home/jian/celery/BiWeekly_New_SignUps/monthly_update/output_2019-06-15/NewReward_2019-06-15_T.csv\n",
      "2019-12-18 10:23:05.589565 349855 /home/jian/celery/BiWeekly_New_SignUps/monthly_update/output_2019-06-29/NewReward_2019-06-29_P.csv\n",
      "2019-12-18 10:23:05.774046 349855 /home/jian/celery/BiWeekly_New_SignUps/monthly_update/output_2019-06-29/NewReward_2019-06-29_S.csv\n",
      "2019-12-18 10:23:06.036911 349855 /home/jian/celery/BiWeekly_New_SignUps/monthly_update/output_2019-06-29/NewReward_2019-06-29_T.csv\n",
      "2019-12-18 10:23:06.614427 349855 /home/jian/celery/BiWeekly_New_SignUps/monthly_update/output_2019-07-13/NewReward_2019-07-13_P.csv\n",
      "2019-12-18 10:23:06.817031 349855 /home/jian/celery/BiWeekly_New_SignUps/monthly_update/output_2019-07-13/NewReward_2019-07-13_S.csv\n",
      "2019-12-18 10:23:07.147746 349855 /home/jian/celery/BiWeekly_New_SignUps/monthly_update/output_2019-07-13/NewReward_2019-07-13_T.csv\n",
      "2019-12-18 10:23:07.573067 349855 /home/jian/celery/BiWeekly_New_SignUps/monthly_update/output_2019-07-27/NewReward_2019-07-27_P.csv\n",
      "2019-12-18 10:23:07.795841 349855 /home/jian/celery/BiWeekly_New_SignUps/monthly_update/output_2019-07-27/NewReward_2019-07-27_S.csv\n",
      "2019-12-18 10:23:09.808521 349855 /home/jian/celery/BiWeekly_New_SignUps/monthly_update/output_2019-07-27/NewReward_2019-07-27_T.csv\n",
      "2019-12-18 10:23:10.174412 349855 /home/jian/celery/BiWeekly_New_SignUps/monthly_update/output_2019-08-10/NewReward_2019-08-10_P.csv\n",
      "2019-12-18 10:23:10.375452 349855 /home/jian/celery/BiWeekly_New_SignUps/monthly_update/output_2019-08-10/NewReward_2019-08-10_S.csv\n",
      "2019-12-18 10:23:10.714331 349855 /home/jian/celery/BiWeekly_New_SignUps/monthly_update/output_2019-08-10/NewReward_2019-08-10_T.csv\n",
      "2019-12-18 10:23:11.403945 349855 /home/jian/celery/BiWeekly_New_SignUps/monthly_update/output_2019-09-07/NewReward_2019-09-07_P.csv\n",
      "2019-12-18 10:23:11.810024 349855 /home/jian/celery/BiWeekly_New_SignUps/monthly_update/output_2019-09-07/NewReward_2019-09-07_S.csv\n",
      "2019-12-18 10:23:13.252425 349855 /home/jian/celery/BiWeekly_New_SignUps/monthly_update/output_2019-09-07/NewReward_2019-09-07_T.csv\n",
      "2019-12-18 10:23:13.812017 349855 /home/jian/celery/BiWeekly_New_SignUps/monthly_update/output_2019-09-21/NewReward_2019-09-21_P.csv\n",
      "2019-12-18 10:23:14.020896 349855 /home/jian/celery/BiWeekly_New_SignUps/monthly_update/output_2019-09-21/NewReward_2019-09-21_S.csv\n",
      "2019-12-18 10:23:14.296725 349855 /home/jian/celery/BiWeekly_New_SignUps/monthly_update/output_2019-09-21/NewReward_2019-09-21_T.csv\n",
      "2019-12-18 10:23:20.671117 349855 /home/jian/celery/BiWeekly_New_SignUps/monthly_update/output_2019-10-05/NewReward_2019-10-05_P.csv\n",
      "2019-12-18 10:23:20.926179 349855 /home/jian/celery/BiWeekly_New_SignUps/monthly_update/output_2019-10-05/NewReward_2019-10-05_S.csv\n",
      "2019-12-18 10:23:21.314767 349855 /home/jian/celery/BiWeekly_New_SignUps/monthly_update/output_2019-10-05/NewReward_2019-10-05_T.csv\n",
      "2019-12-18 10:23:21.703523 349855 /home/jian/celery/BiWeekly_New_SignUps/monthly_update/output_2019-10-19/NewReward_2019-10-19_P.csv\n",
      "2019-12-18 10:23:21.968106 349855 /home/jian/celery/BiWeekly_New_SignUps/monthly_update/output_2019-10-19/NewReward_2019-10-19_S.csv\n",
      "2019-12-18 10:23:23.148337 349855 /home/jian/celery/BiWeekly_New_SignUps/monthly_update/output_2019-10-19/NewReward_2019-10-19_T.csv\n",
      "2019-12-18 10:23:23.652279 349855 /home/jian/celery/BiWeekly_New_SignUps/monthly_update/output_2019-11-02/NewReward_2019-11-02_P.csv\n",
      "2019-12-18 10:23:23.837406 349855 /home/jian/celery/BiWeekly_New_SignUps/monthly_update/output_2019-11-02/NewReward_2019-11-02_S.csv\n",
      "2019-12-18 10:23:24.246627 349854 /home/jian/celery/BiWeekly_New_SignUps/monthly_update/output_2019-11-02/NewReward_2019-11-02_T.csv\n",
      "2019-12-18 10:23:24.677075 349854 /home/jian/celery/BiWeekly_New_SignUps/monthly_update/output_2019-11-16/NewReward_2019-11-16_P.csv\n",
      "2019-12-18 10:23:24.946077 349854 /home/jian/celery/BiWeekly_New_SignUps/monthly_update/output_2019-11-16/NewReward_2019-11-16_S.csv\n",
      "2019-12-18 10:23:25.340468 349853 /home/jian/celery/BiWeekly_New_SignUps/monthly_update/output_2019-11-16/NewReward_2019-11-16_T.csv\n",
      "2019-12-18 10:23:29.388592 349853 /home/jian/celery/BiWeekly_New_SignUps/monthly_update/output_2019-11-30/NewReward_2019-11-30_P.csv\n",
      "2019-12-18 10:23:29.661600 349853 /home/jian/celery/BiWeekly_New_SignUps/monthly_update/output_2019-11-30/NewReward_2019-11-30_S.csv\n",
      "2019-12-18 10:23:30.258294 349853 /home/jian/celery/BiWeekly_New_SignUps/monthly_update/output_2019-11-30/NewReward_2019-11-30_T.csv\n"
     ]
    }
   ],
   "source": [
    "for file_uploaded in previous_id_files_lists:\n",
    "    df = pd.read_csv(file_uploaded,usecols = ['email_address_hash'])\n",
    "    previous_email_set=set(df['email_address_hash'].tolist())\n",
    "    df_all_new_master = df_all_new_master[~df_all_new_master['email_address_hash'].isin(previous_email_set)]\n",
    "    print(datetime.datetime.now(),len(df_all_new_master.index),file_uploaded)"
   ]
  },
  {
   "cell_type": "code",
   "execution_count": 11,
   "metadata": {},
   "outputs": [
    {
     "name": "stdout",
     "output_type": "stream",
     "text": [
      "349853\n"
     ]
    }
   ],
   "source": [
    "df_all_new_master = df_all_new_master.drop_duplicates('email_address_hash')\n",
    "df_all_new_master = df_all_new_master.drop_duplicates('customer_id_hashed')\n",
    "print(len(df_all_new_master.index))"
   ]
  },
  {
   "cell_type": "code",
   "execution_count": 12,
   "metadata": {},
   "outputs": [
    {
     "name": "stdout",
     "output_type": "stream",
     "text": [
      "(12980, 3)\n",
      "12980\n"
     ]
    },
    {
     "data": {
      "text/html": [
       "<div>\n",
       "<style scoped>\n",
       "    .dataframe tbody tr th:only-of-type {\n",
       "        vertical-align: middle;\n",
       "    }\n",
       "\n",
       "    .dataframe tbody tr th {\n",
       "        vertical-align: top;\n",
       "    }\n",
       "\n",
       "    .dataframe thead th {\n",
       "        text-align: right;\n",
       "    }\n",
       "</style>\n",
       "<table border=\"1\" class=\"dataframe\">\n",
       "  <thead>\n",
       "    <tr style=\"text-align: right;\">\n",
       "      <th></th>\n",
       "      <th>customer_zip_code</th>\n",
       "      <th>zipcodegroup</th>\n",
       "    </tr>\n",
       "  </thead>\n",
       "  <tbody>\n",
       "    <tr>\n",
       "      <th>0</th>\n",
       "      <td>75040</td>\n",
       "      <td>P</td>\n",
       "    </tr>\n",
       "    <tr>\n",
       "      <th>1</th>\n",
       "      <td>20743</td>\n",
       "      <td>P</td>\n",
       "    </tr>\n",
       "  </tbody>\n",
       "</table>\n",
       "</div>"
      ],
      "text/plain": [
       "  customer_zip_code zipcodegroup\n",
       "0             75040            P\n",
       "1             20743            P"
      ]
     },
     "execution_count": 12,
     "metadata": {},
     "output_type": "execute_result"
    }
   ],
   "source": [
    "zipmap = pd.ExcelFile('/home/jian/Projects/Big_Lots/New_TA/TA_created_in_201906/final_output_20190718/BL_final_TA_updated_JL_2019-07-18.xlsx')\n",
    "zipmap=zipmap.parse(\"unique_zips_full_footprint\",dtype=str)\n",
    "zipmap['zip_type']=zipmap['zip_type'].replace(\"zips_10\",\"trans_S\")\n",
    "\n",
    "zipmap['zipcodegroup'] = zipmap['zip_type'].apply(lambda x: x.split(\"_\")[1])\n",
    "print(zipmap.shape)\n",
    "print(zipmap['zip_cd'].nunique())\n",
    "\n",
    "zipmap=zipmap.rename(columns={\"zip_cd\":\"customer_zip_code\"})\n",
    "\n",
    "zipmap=zipmap[['customer_zip_code','zipcodegroup']]\n",
    "zipmap.head(2)"
   ]
  },
  {
   "cell_type": "code",
   "execution_count": 13,
   "metadata": {},
   "outputs": [
    {
     "name": "stdout",
     "output_type": "stream",
     "text": [
      "['P' nan 'S']\n",
      "['P' 'T' 'S']\n",
      "P 126237\n",
      "S 56611\n",
      "T 167005\n"
     ]
    }
   ],
   "source": [
    "df_all_new_master = pd.merge(df_all_new_master,zipmap,on ='customer_zip_code',how = 'left' )\n",
    "print(df_all_new_master['zipcodegroup'].unique())\n",
    "\n",
    "df_all_new_master['zipcodegroup'].fillna('T',inplace = True)\n",
    "print(df_all_new_master['zipcodegroup'].unique())\n",
    "\n",
    "last_saturday_str=\"_\"+str(last_saturday).split(\"-\")[1]+str(last_saturday).split(\"-\")[2]+str(last_saturday).split(\"-\")[0][2:]+\"_\"\n",
    "\n",
    "for revenue_flag in ['P','S','T']:\n",
    "    df = df_all_new_master[df_all_new_master['zipcodegroup']==revenue_flag]\n",
    "    df = df[['customer_id_hashed','email_address_hash','customer_zip_code']]\n",
    "    df['segment'] = 'NewReward' + last_saturday_str + revenue_flag\n",
    "    print(revenue_flag,len(df.index))\n",
    "    df.to_csv(write_folder+'NewReward_'+str(last_saturday)+'_'+revenue_flag+'.csv',index = False)\n",
    "# To be uploaded to lr-big-lots /uploads/big_lots_onboarding"
   ]
  },
  {
   "cell_type": "code",
   "execution_count": 14,
   "metadata": {},
   "outputs": [
    {
     "data": {
      "text/html": [
       "<div>\n",
       "<style scoped>\n",
       "    .dataframe tbody tr th:only-of-type {\n",
       "        vertical-align: middle;\n",
       "    }\n",
       "\n",
       "    .dataframe tbody tr th {\n",
       "        vertical-align: top;\n",
       "    }\n",
       "\n",
       "    .dataframe thead th {\n",
       "        text-align: right;\n",
       "    }\n",
       "</style>\n",
       "<table border=\"1\" class=\"dataframe\">\n",
       "  <thead>\n",
       "    <tr style=\"text-align: right;\">\n",
       "      <th></th>\n",
       "      <th>zipcodegroup</th>\n",
       "      <th>email_address_hash</th>\n",
       "    </tr>\n",
       "  </thead>\n",
       "  <tbody>\n",
       "    <tr>\n",
       "      <th>0</th>\n",
       "      <td>P</td>\n",
       "      <td>126237</td>\n",
       "    </tr>\n",
       "    <tr>\n",
       "      <th>1</th>\n",
       "      <td>S</td>\n",
       "      <td>56611</td>\n",
       "    </tr>\n",
       "    <tr>\n",
       "      <th>2</th>\n",
       "      <td>T</td>\n",
       "      <td>167005</td>\n",
       "    </tr>\n",
       "  </tbody>\n",
       "</table>\n",
       "</div>"
      ],
      "text/plain": [
       "  zipcodegroup  email_address_hash\n",
       "0            P              126237\n",
       "1            S               56611\n",
       "2            T              167005"
      ]
     },
     "execution_count": 14,
     "metadata": {},
     "output_type": "execute_result"
    }
   ],
   "source": [
    "df_all_new_master.groupby(['zipcodegroup'])['email_address_hash'].count().to_frame().reset_index()"
   ]
  },
  {
   "cell_type": "code",
   "execution_count": 15,
   "metadata": {},
   "outputs": [
    {
     "data": {
      "text/html": [
       "<div>\n",
       "<style scoped>\n",
       "    .dataframe tbody tr th:only-of-type {\n",
       "        vertical-align: middle;\n",
       "    }\n",
       "\n",
       "    .dataframe tbody tr th {\n",
       "        vertical-align: top;\n",
       "    }\n",
       "\n",
       "    .dataframe thead th {\n",
       "        text-align: right;\n",
       "    }\n",
       "</style>\n",
       "<table border=\"1\" class=\"dataframe\">\n",
       "  <thead>\n",
       "    <tr style=\"text-align: right;\">\n",
       "      <th></th>\n",
       "      <th>customer_id_hashed</th>\n",
       "      <th>email_address_hash</th>\n",
       "      <th>customer_zip_code</th>\n",
       "      <th>segment</th>\n",
       "    </tr>\n",
       "  </thead>\n",
       "  <tbody>\n",
       "    <tr>\n",
       "      <th>2</th>\n",
       "      <td>e68b0e7843121f03f4208a1b178d503f6c27e5ee6ce80e...</td>\n",
       "      <td>3f2205537d8914daa47af0a06245da560198b998819600...</td>\n",
       "      <td>NaN</td>\n",
       "      <td>NewReward_121419_T</td>\n",
       "    </tr>\n",
       "    <tr>\n",
       "      <th>6</th>\n",
       "      <td>bc4bd72e148bd1c8b381a5cb6617f99af10fb2712c2b44...</td>\n",
       "      <td>cd509849ef8367c03d6318c3cdec648f0b0e5d4e8ee6b8...</td>\n",
       "      <td>59631</td>\n",
       "      <td>NewReward_121419_T</td>\n",
       "    </tr>\n",
       "  </tbody>\n",
       "</table>\n",
       "</div>"
      ],
      "text/plain": [
       "                                  customer_id_hashed  \\\n",
       "2  e68b0e7843121f03f4208a1b178d503f6c27e5ee6ce80e...   \n",
       "6  bc4bd72e148bd1c8b381a5cb6617f99af10fb2712c2b44...   \n",
       "\n",
       "                                  email_address_hash customer_zip_code  \\\n",
       "2  3f2205537d8914daa47af0a06245da560198b998819600...               NaN   \n",
       "6  cd509849ef8367c03d6318c3cdec648f0b0e5d4e8ee6b8...             59631   \n",
       "\n",
       "              segment  \n",
       "2  NewReward_121419_T  \n",
       "6  NewReward_121419_T  "
      ]
     },
     "execution_count": 15,
     "metadata": {},
     "output_type": "execute_result"
    }
   ],
   "source": [
    "df.head(2)"
   ]
  },
  {
   "cell_type": "code",
   "execution_count": 16,
   "metadata": {},
   "outputs": [
    {
     "name": "stdout",
     "output_type": "stream",
     "text": [
      "2019-12-18 10:23:37.020832\n"
     ]
    }
   ],
   "source": [
    "print(datetime.datetime.now())"
   ]
  },
  {
   "cell_type": "code",
   "execution_count": 17,
   "metadata": {},
   "outputs": [
    {
     "name": "stdout",
     "output_type": "stream",
     "text": [
      "2019-12-18 10:23:37.025381\n"
     ]
    }
   ],
   "source": [
    "print(datetime.datetime.now())"
   ]
  },
  {
   "cell_type": "code",
   "execution_count": 18,
   "metadata": {},
   "outputs": [
    {
     "name": "stdout",
     "output_type": "stream",
     "text": [
      "Done:  2019-12-18 10:23:49.400985\n"
     ]
    }
   ],
   "source": [
    "import paramiko\n",
    "import glob\n",
    "\n",
    "host = \"files.liveramp.com\"\n",
    "port = 22\n",
    "password = \"Biglots2018!\"\n",
    "username = \"lr-big-lots\"\n",
    "\n",
    "transport = paramiko.Transport((host, port))\n",
    "\n",
    "transport.connect(username = username, password = password)\n",
    "sftp = paramiko.SFTPClient.from_transport(transport)\n",
    "\n",
    "# local_path defined above before saving the local txt\n",
    "local_list=glob.glob(write_folder+\"*.csv\")\n",
    "local_list=[x for x in local_list if 'NewReward_'+str(last_saturday)+'_' in x]\n",
    "\n",
    "for local_path in local_list:\n",
    "    remote_path=\"/uploads/big_lots_onboarding/\"+os.path.basename(local_path)\n",
    "    sftp.put(local_path,remote_path)\n",
    "sftp.close()\n",
    "transport.close()\n",
    "print(\"Done: \",datetime.datetime.now())"
   ]
  },
  {
   "cell_type": "code",
   "execution_count": null,
   "metadata": {
    "collapsed": true
   },
   "outputs": [],
   "source": []
  }
 ],
 "metadata": {
  "kernelspec": {
   "display_name": "Python 3",
   "language": "python",
   "name": "python3"
  },
  "language_info": {
   "codemirror_mode": {
    "name": "ipython",
    "version": 3
   },
   "file_extension": ".py",
   "mimetype": "text/x-python",
   "name": "python",
   "nbconvert_exporter": "python",
   "pygments_lexer": "ipython3",
   "version": "3.6.1"
  }
 },
 "nbformat": 4,
 "nbformat_minor": 2
}
