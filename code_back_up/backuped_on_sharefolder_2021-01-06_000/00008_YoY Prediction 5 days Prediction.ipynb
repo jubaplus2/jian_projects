{
 "cells": [
  {
   "cell_type": "code",
   "execution_count": 27,
   "metadata": {
    "collapsed": true
   },
   "outputs": [],
   "source": [
    "import json\n",
    "import pandas as pd\n",
    "import numpy as np\n",
    "import os\n",
    "import glob\n",
    "import codecs\n",
    "import datetime\n",
    "today_foloder=\"20180405\" # str(datetime.datetime.now().year)+str(datetime.datetime.now().month).zfill(2)+str(datetime.datetime.now().day).zfill(2)\n",
    "date1=\"2018-03-31\" # Week ending Saturday\n",
    "# date2=\"2018-02-17\" # Week ending Saturday, Not available for 5 days prediction\n",
    "# https://openweathermap.org/weather-conditions reference of weather group\n",
    "\n",
    "json_list_date=glob.glob(\"/home/jian/Projects/Big_Lots/Weather/Json_data/daily/api_response_\"+today_foloder+\"/*.json\")"
   ]
  },
  {
   "cell_type": "code",
   "execution_count": 28,
   "metadata": {
    "collapsed": true
   },
   "outputs": [],
   "source": [
    "json_date1_Friday=json.load(open(\"/home/jian/Projects/Big_Lots/Weather/Json_data/daily/api_response_\"+today_foloder+\"/\"+\n",
    "                                 str(datetime.datetime.strptime(date1,\"%Y-%m-%d\").date()+datetime.timedelta(days=-1))\n",
    "                                 +\".json\",'r'))\n",
    "json_date1_Saturday=json.load(open(\"/home/jian/Projects/Big_Lots/Weather/Json_data/daily/api_response_\"+today_foloder+\"/\"+\n",
    "                                 str(datetime.datetime.strptime(date1,\"%Y-%m-%d\").date())\n",
    "                                 +\".json\",'r'))\n",
    "json_date1_Sunday=json.load(open(\"/home/jian/Projects/Big_Lots/Weather/Json_data/daily/api_response_\"+today_foloder+\"/\"+\n",
    "                                 str(datetime.datetime.strptime(date1,\"%Y-%m-%d\").date()+datetime.timedelta(days=-6))\n",
    "                                 +\".json\",'r'))\n",
    "json_date1_Pred_5_days_ago=json.load(open(\"/home/jian/Projects/Big_Lots/Weather/Json_data/forecasgt/forcast_api_response_\"+today_foloder+\"/\"+\n",
    "                                 str(datetime.datetime.strptime(date1,\"%Y-%m-%d\").date()+datetime.timedelta(days=-5))\n",
    "                                 +\".json\",'r'))\n"
   ]
  },
  {
   "cell_type": "code",
   "execution_count": 29,
   "metadata": {
    "collapsed": true
   },
   "outputs": [],
   "source": [
    "sales=pd.read_excel(\"/home/jian/BiglotsCode/outputs/Output_\"+date1+\"/wide_sales_date\"+date1+\".xlsx\",sheetname=\"sales\")"
   ]
  },
  {
   "cell_type": "code",
   "execution_count": 30,
   "metadata": {
    "collapsed": true
   },
   "outputs": [],
   "source": [
    "date1_ly=str(datetime.datetime.strptime(date1,\"%Y-%m-%d\").date()+datetime.timedelta(days=-364))\n",
    "sales=sales[[\"location_id\",date1,date1_ly]]"
   ]
  },
  {
   "cell_type": "code",
   "execution_count": 31,
   "metadata": {
    "collapsed": true
   },
   "outputs": [],
   "source": [
    "store_dma=pd.read_excel(\"/home/jian/Projects/Big_Lots/Other Input/all_store_DMA.xlsx\",dtype=str)\n",
    "store_dma=store_dma[store_dma['zip_cd']!='nan']\n",
    "store_dma=store_dma[['location_id','zip_cd']]\n",
    "store_dma=store_dma.drop_duplicates().reset_index()\n",
    "del store_dma['index']\n",
    "store_dma['location_id']=store_dma['location_id'].astype(int)\n",
    "sales=pd.merge(sales,store_dma,on=\"location_id\",how=\"left\")"
   ]
  },
  {
   "cell_type": "markdown",
   "metadata": {
    "collapsed": true
   },
   "source": [
    "# Weather Group Level"
   ]
  },
  {
   "cell_type": "code",
   "execution_count": 32,
   "metadata": {
    "collapsed": true
   },
   "outputs": [],
   "source": [
    "response=json_date1_Pred_5_days_ago\n",
    "all_weather_groups=[]\n",
    "all_weather_desc=[]\n",
    "all_weather_id=[]\n",
    "for zip_cd in list(response.keys()):\n",
    "    weather_group = []\n",
    "    weather_desc = []\n",
    "    weather_id = []\n",
    "    for i in range(len(response[zip_cd]['list'][39]['weather'])):\n",
    "        weather_group=list(set(weather_group+[response[zip_cd]['list'][39]['weather'][i]['main']]))\n",
    "        all_weather_groups=list(set(all_weather_groups+weather_group))\n",
    "        \n",
    "        weather_desc=list(set(weather_desc+[response[zip_cd]['list'][39]['weather'][i]['description']]))\n",
    "        all_weather_desc=list(set(all_weather_desc+weather_desc))\n",
    "\n",
    "        weather_id=list(set(weather_id+[response[zip_cd]['list'][39]['weather'][i]['id']]))\n",
    "        all_weather_id=list(set(all_weather_id+weather_id))\n",
    "sales_included=sales[(sales[date1]!=0) & (sales[date1_ly]!=0)]\n",
    "sales_excluded=sales[(sales[date1]==0) | (sales[date1_ly]==0)]\n",
    "sales_included.reset_index(inplace=True)\n",
    "del sales_included['index']\n",
    "sales_excluded.reset_index(inplace=True)"
   ]
  },
  {
   "cell_type": "code",
   "execution_count": 33,
   "metadata": {},
   "outputs": [
    {
     "name": "stderr",
     "output_type": "stream",
     "text": [
      "/usr/local/lib/python3.6/site-packages/ipykernel_launcher.py:1: SettingWithCopyWarning: \n",
      "A value is trying to be set on a copy of a slice from a DataFrame.\n",
      "Try using .loc[row_indexer,col_indexer] = value instead\n",
      "\n",
      "See the caveats in the documentation: http://pandas.pydata.org/pandas-docs/stable/indexing.html#indexing-view-versus-copy\n",
      "  \"\"\"Entry point for launching an IPython kernel.\n",
      "/usr/local/lib/python3.6/site-packages/ipykernel_launcher.py:2: SettingWithCopyWarning: \n",
      "A value is trying to be set on a copy of a slice from a DataFrame.\n",
      "Try using .loc[row_indexer,col_indexer] = value instead\n",
      "\n",
      "See the caveats in the documentation: http://pandas.pydata.org/pandas-docs/stable/indexing.html#indexing-view-versus-copy\n",
      "  \n"
     ]
    }
   ],
   "source": [
    "sales_included['YoY_Pctg']=(sales_included[date1]-sales_included[date1_ly])/sales_included[date1_ly]\n",
    "sales_included['YoY_Dollar']=sales_included[date1]-sales_included[date1_ly]"
   ]
  },
  {
   "cell_type": "code",
   "execution_count": 34,
   "metadata": {
    "collapsed": true
   },
   "outputs": [],
   "source": [
    "df=pd.DataFrame()\n",
    "df_date=pd.DataFrame()\n",
    "\n",
    "weather_list=[]\n",
    "weather_code_list=[]\n",
    "weather_desc_list=[]\n",
    "\n",
    "df_weather_agg=pd.DataFrame()\n",
    "for zip_cd in list(response.keys()):\n",
    "    temp_max=response[zip_cd]['list'][39]['main']['temp_max'] * 9/5 - 459.67    \n",
    "    humidity=response[zip_cd]['list'][39]['main']['humidity']/100    \n",
    "    pressure=response[zip_cd]['list'][39]['main']['pressure']\n",
    "    wind_speed=response[zip_cd]['list'][39]['wind']['speed']\n",
    "    if 'deg' in response[zip_cd]['list'][39]['wind'].keys():\n",
    "        wind_deg=response[zip_cd]['list'][39]['wind']['deg']\n",
    "    else:\n",
    "        wind_deg=np.nan\n",
    "        \n",
    "    df_weather_binary=pd.DataFrame(columns=all_weather_groups,index=[0])\n",
    "    df_weather_binary=df_weather_binary.fillna(0)\n",
    "    for k in range(len(response[zip_cd]['list'][39]['weather'])):\n",
    "        for weather_group in all_weather_groups:\n",
    "            if response[zip_cd]['list'][39]['weather'][k]['main']==weather_group:\n",
    "                df_weather_binary[weather_group]=1\n",
    "    time=str(datetime.datetime.fromtimestamp(response[zip_cd]['list'][39]['dt']).time())\n",
    "    date=str(datetime.datetime.fromtimestamp(response[zip_cd]['list'][39]['dt']).date())\n",
    "    weather = []\n",
    "    weather_types=len(response[zip_cd]['list'][39]['weather'])\n",
    "    \n",
    "    for j in range(weather_types):\n",
    "        weather = weather+[str(response[zip_cd]['list'][39]['weather'][j]['main'])]\n",
    "    \n",
    "    country=response[zip_cd]['city']['country']\n",
    "    name=response[zip_cd]['city']['name']\n",
    "    \n",
    "    if 'clouds' in response[zip_cd]['list'][39].keys():\n",
    "        clouds=response[zip_cd]['list'][39]['clouds']['all']/100\n",
    "    else: \n",
    "        clouds= float('NaN')\n",
    "            \n",
    "    df_weather=pd.DataFrame([{'date':date,'time':time,'zip_cd':zip_cd,'city_name_weather':name,\n",
    "                             'weather':weather,'weather_types':weather_types,'Cloudiness':clouds,'humidity':humidity,'pressure':pressure,\n",
    "                              'temp_max':temp_max,'wind_speed':wind_speed}])\n",
    "    df_weather=df_weather.join(df_weather_binary)\n",
    "    df_weather_agg=df_weather_agg.append(df_weather,ignore_index=False)\n",
    "    \n",
    "sales_included_group=pd.merge(sales_included,df_weather_agg,on=\"zip_cd\",how=\"left\")\n",
    "# sales_included_group.to_csv(\"/home/jian/Projects/Big_Lots/Weather/output_for_sales_model/Group_\"+date1+\"_5_Days_Predicted.csv\",index=False)"
   ]
  },
  {
   "cell_type": "code",
   "execution_count": 35,
   "metadata": {
    "collapsed": true
   },
   "outputs": [],
   "source": [
    "writer=pd.ExcelWriter(\"/home/jian/Projects/Big_Lots/Weather/output_for_sales_model/Excel_Group_\"+date1+\"_5_Days_Predicted.xlsx\",engine=\"xlsxwriter\")\n",
    "sales_included_group.to_excel(writer,\"data\",index=False)\n",
    "for weather_group in all_weather_groups:\n",
    "    df=sales_included_group[['YoY_Pctg','YoY_Dollar',weather_group]]\n",
    "    df=df[~pd.isnull(df[weather_group])]\n",
    "    df_1=df[df[weather_group]==1]\n",
    "    mean_1_pctg=df_1['YoY_Pctg'].mean()\n",
    "    mean_1_dollar=df_1['YoY_Dollar'].mean()\n",
    "    \n",
    "    df_0=df[df[weather_group]==0]\n",
    "    mean_0_pctg=df_0['YoY_Pctg'].mean()\n",
    "    mean_0_dollar=df_0['YoY_Dollar'].mean()\n",
    "\n",
    "    df=pd.DataFrame({weather_group:[1,0],\"YoY_Pctg_Mean\":[mean_1_pctg,mean_0_pctg],\"YoY_Dollar_Mean\":[mean_1_dollar,mean_0_dollar]})\n",
    "    df=df[[weather_group,\"YoY_Pctg_Mean\",\"YoY_Dollar_Mean\"]]\n",
    "    df.to_excel(writer,weather_group,index=False)\n",
    "writer.save()"
   ]
  },
  {
   "cell_type": "markdown",
   "metadata": {
    "collapsed": true
   },
   "source": [
    "# Description Level"
   ]
  },
  {
   "cell_type": "code",
   "execution_count": 36,
   "metadata": {
    "collapsed": true
   },
   "outputs": [],
   "source": [
    "df=pd.DataFrame()\n",
    "df_date=pd.DataFrame()\n",
    "\n",
    "weather_list=[]\n",
    "weather_code_list=[]\n",
    "weather_desc_list=[]\n",
    "\n",
    "df_weather_agg=pd.DataFrame()\n",
    "for zip_cd in list(response.keys()):\n",
    "    temp_max=response[zip_cd]['list'][39]['main']['temp_max'] * 9/5 - 459.67    \n",
    "    humidity=response[zip_cd]['list'][39]['main']['humidity']/100    \n",
    "    pressure=response[zip_cd]['list'][39]['main']['pressure']\n",
    "    wind_speed=response[zip_cd]['list'][39]['wind']['speed']\n",
    "    if 'deg' in response[zip_cd]['list'][39]['wind'].keys():\n",
    "        wind_deg=response[zip_cd]['list'][39]['wind']['deg']\n",
    "    else:\n",
    "        wind_deg=np.nan\n",
    "        \n",
    "    df_weather_binary=pd.DataFrame(columns=all_weather_desc,index=[0])\n",
    "    df_weather_binary=df_weather_binary.fillna(0)\n",
    "    for k in range(len(response[zip_cd]['list'][39]['weather'])):\n",
    "        for weather_group in all_weather_desc:\n",
    "            if response[zip_cd]['list'][39]['weather'][k]['description']==weather_group:\n",
    "                df_weather_binary[weather_group]=1\n",
    "    time=str(datetime.datetime.fromtimestamp(response[zip_cd]['list'][39]['dt']).time())\n",
    "    date=str(datetime.datetime.fromtimestamp(response[zip_cd]['list'][39]['dt']).date())\n",
    "    weather = []\n",
    "    weather_types=len(response[zip_cd]['list'][39]['weather'])\n",
    "    \n",
    "    for j in range(weather_types):\n",
    "        weather = weather+[str(response[zip_cd]['list'][39]['weather'][j]['description'])]\n",
    "    \n",
    "    country=response[zip_cd]['city']['country']\n",
    "    name=response[zip_cd]['city']['name']\n",
    "    \n",
    "    if 'clouds' in response[zip_cd]['list'][39].keys():\n",
    "        clouds=response[zip_cd]['list'][39]['clouds']['all']/100\n",
    "    else: \n",
    "        clouds= float('NaN')\n",
    "            \n",
    "    df_weather=pd.DataFrame([{'date':date,'time':time,'zip_cd':zip_cd,'city_name_weather':name,\n",
    "                             'weather':weather,'weather_types':weather_types,'Cloudiness':clouds,'humidity':humidity,'pressure':pressure,\n",
    "                              'temp_max':temp_max,'wind_speed':wind_speed}])\n",
    "    df_weather=df_weather.join(df_weather_binary)\n",
    "    df_weather_agg=df_weather_agg.append(df_weather,ignore_index=False)\n",
    "    \n",
    "sales_included_desc=pd.merge(sales_included,df_weather_agg,on=\"zip_cd\",how=\"left\")\n",
    "# sales_included_desc.to_csv(\"/home/jian/Projects/Big_Lots/Weather/output_for_sales_model/Desc_\"+date1+\"_5Days_Predicted.csv\",index=False)"
   ]
  },
  {
   "cell_type": "code",
   "execution_count": 37,
   "metadata": {},
   "outputs": [],
   "source": [
    "writer=pd.ExcelWriter(\"/home/jian/Projects/Big_Lots/Weather/output_for_sales_model/Excel_Desc_\"+date1+\"_5_Days_Predicted.xlsx\",engine=\"xlsxwriter\")\n",
    "sales_included_desc.to_excel(writer,\"data\",index=False)\n",
    "for weather_desc in all_weather_desc:\n",
    "    df=sales_included_desc[['YoY_Pctg','YoY_Dollar',weather_desc]]\n",
    "    df=df[~pd.isnull(df[weather_desc])]\n",
    "    df_1=df[df[weather_desc]==1]\n",
    "    mean_1_pctg=df_1['YoY_Pctg'].mean()\n",
    "    mean_1_dollar=df_1['YoY_Dollar'].mean()\n",
    "    \n",
    "    df_0=df[df[weather_desc]==0]\n",
    "    mean_0_pctg=df_0['YoY_Pctg'].mean()\n",
    "    mean_0_dollar=df_0['YoY_Dollar'].mean()\n",
    "\n",
    "    df=pd.DataFrame({weather_desc:[1,0],\"YoY_Pctg_Mean\":[mean_1_pctg,mean_0_pctg],\"YoY_Dollar_Mean\":[mean_1_dollar,mean_0_dollar]})\n",
    "    df=df[[weather_desc,\"YoY_Pctg_Mean\",\"YoY_Dollar_Mean\"]]\n",
    "    df.to_excel(writer,weather_desc,index=False)\n",
    "writer.save()"
   ]
  }
 ],
 "metadata": {
  "kernelspec": {
   "display_name": "Python 3",
   "language": "python",
   "name": "python3"
  },
  "language_info": {
   "codemirror_mode": {
    "name": "ipython",
    "version": 3
   },
   "file_extension": ".py",
   "mimetype": "text/x-python",
   "name": "python",
   "nbconvert_exporter": "python",
   "pygments_lexer": "ipython3",
   "version": "3.6.1"
  }
 },
 "nbformat": 4,
 "nbformat_minor": 2
}
