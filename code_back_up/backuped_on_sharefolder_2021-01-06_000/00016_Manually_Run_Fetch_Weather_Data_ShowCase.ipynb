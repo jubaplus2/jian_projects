{
 "cells": [
  {
   "cell_type": "code",
   "execution_count": 4,
   "metadata": {},
   "outputs": [],
   "source": [
    "# Reference: \n",
    "# https://openweathermap.org/api\n",
    "\n",
    "import json\n",
    "from urllib import request\n",
    "import time\n",
    "import datetime\n",
    "\n",
    "import logging\n",
    "# logging.basicConfig(filename='/home/jian/Projects/Big_Lots/Weather/Json_data/weather_celery/openweathermap.log',level=logging.INFO,format='%(asctime)s %(message)s')\n"
   ]
  },
  {
   "cell_type": "code",
   "execution_count": 5,
   "metadata": {},
   "outputs": [
    {
     "data": {
      "text/plain": [
       "{'coord': {'lon': -73.9505, 'lat': 40.7618},\n",
       " 'weather': [{'id': 800,\n",
       "   'main': 'Clear',\n",
       "   'description': 'clear sky',\n",
       "   'icon': '01d'}],\n",
       " 'base': 'stations',\n",
       " 'main': {'temp': 278.09,\n",
       "  'feels_like': 272.24,\n",
       "  'temp_min': 277.04,\n",
       "  'temp_max': 279.26,\n",
       "  'pressure': 1015,\n",
       "  'humidity': 48},\n",
       " 'visibility': 10000,\n",
       " 'wind': {'speed': 4.6, 'deg': 290, 'gust': 8.7},\n",
       " 'clouds': {'all': 1},\n",
       " 'dt': 1609960276,\n",
       " 'sys': {'type': 1,\n",
       "  'id': 5141,\n",
       "  'country': 'US',\n",
       "  'sunrise': 1609935597,\n",
       "  'sunset': 1609969391},\n",
       " 'timezone': -18000,\n",
       " 'id': 0,\n",
       " 'name': 'New York',\n",
       " 'cod': 200}"
      ]
     },
     "execution_count": 5,
     "metadata": {},
     "output_type": "execute_result"
    }
   ],
   "source": [
    "# Test -- daily actual\n",
    "zip_list=['10013','10044']\n",
    "zip_code=zip_list[1]\n",
    "url = 'http://api.openweathermap.org/data/2.5/weather?zip=%s,us&appid=931f5e95a5c3b97de1c2fccdff056857'%zip_code\n",
    "req = request.urlopen(url)\n",
    "result = req.read()\n",
    "eval(result)"
   ]
  },
  {
   "cell_type": "code",
   "execution_count": 10,
   "metadata": {},
   "outputs": [],
   "source": [
    "# Test -- every 3-hour forecast\n",
    "zip_list=['10013','10044']\n",
    "zip_code=zip_list[1]\n",
    "url = 'http://api.openweathermap.org/data/2.5/forecast?zip=%s,us&appid=931f5e95a5c3b97de1c2fccdff056857'%zip_code\n",
    "req = request.urlopen(url)\n",
    "result = req.read()\n",
    "result=eval(result)"
   ]
  },
  {
   "cell_type": "code",
   "execution_count": 14,
   "metadata": {},
   "outputs": [
    {
     "data": {
      "text/plain": [
       "{'dt': 1610074800,\n",
       " 'main': {'temp': 274.73,\n",
       "  'feels_like': 269.84,\n",
       "  'temp_min': 274.73,\n",
       "  'temp_max': 274.73,\n",
       "  'pressure': 1019,\n",
       "  'sea_level': 1019,\n",
       "  'grnd_level': 1019,\n",
       "  'humidity': 82,\n",
       "  'temp_kf': 0},\n",
       " 'weather': [{'id': 800,\n",
       "   'main': 'Clear',\n",
       "   'description': 'clear sky',\n",
       "   'icon': '01n'}],\n",
       " 'clouds': {'all': 0},\n",
       " 'wind': {'speed': 3.91, 'deg': 349},\n",
       " 'visibility': 10000,\n",
       " 'pop': 0,\n",
       " 'sys': {'pod': 'n'},\n",
       " 'dt_txt': '2021-01-08 03:00:00'}"
      ]
     },
     "execution_count": 14,
     "metadata": {},
     "output_type": "execute_result"
    }
   ],
   "source": [
    "result['list'][10]"
   ]
  },
  {
   "cell_type": "code",
   "execution_count": null,
   "metadata": {},
   "outputs": [],
   "source": []
  },
  {
   "cell_type": "code",
   "execution_count": 2,
   "metadata": {
    "collapsed": true
   },
   "outputs": [],
   "source": [
    "def fetch_all_zips():\n",
    "    zip_list =json.load(open('/home/jian/Projects/Big_Lots/Weather/Json_data/weather_celery/zip_set.json', 'r'))\n",
    "\n",
    "    weather_by_zip = dict()\n",
    "    for zip_code in zip_list:\n",
    "        url = 'http://api.openweathermap.org/data/2.5/weather?zip=%s,us&appid=931f5e95a5c3b97de1c2fccdff056857'%zip_code\n",
    "        time.sleep(1)\n",
    "        try:\n",
    "            req = request.urlopen(url)\n",
    "            # response = urllib2.urlopen(req)\n",
    "            result = req.read()\n",
    "\n",
    "            weather_by_zip[zip_code] = eval(result)\n",
    "            \n",
    "            #logging.info('%s suceeded.'%zip_code)\n",
    "        except Exception as e:\n",
    "            logging.info('%s %s'%(zip_code, e))\n",
    "\n",
    "    json.dump(weather_by_zip, open('/home/jian/Projects/Big_Lots/Weather/Json_data/daily/%s.json'%datetime.datetime.now().strftime('%Y-%m-%d: %H'), 'w'))\n",
    "    \n",
    "    forcast_weather_by_zip = dict()\n",
    "    for zip_code in zip_list:\n",
    "        url = 'http://api.openweathermap.org/data/2.5/forecast?zip=%s,us&appid=931f5e95a5c3b97de1c2fccdff056857'%zip_code\n",
    "        time.sleep(1)\n",
    "        try:\n",
    "            req = request.urlopen(url)\n",
    "            # response = urllib2.urlopen(req)\n",
    "            result = req.read()\n",
    "\n",
    "            forcast_weather_by_zip[zip_code] = eval(result)\n",
    "            \n",
    "            #logging.info('%s suceeded.'%zip_code)\n",
    "        except Exception as e:\n",
    "            logging.info('%s %s'%(zip_code, e))\n",
    "\n",
    "    json.dump(forcast_weather_by_zip, open('/home/jian/Projects/Big_Lots/Weather/Json_data/forecast/%s.json'%datetime.datetime.now().strftime('%Y-%m-%d: %H'), 'w'))\n"
   ]
  },
  {
   "cell_type": "code",
   "execution_count": 3,
   "metadata": {
    "collapsed": true
   },
   "outputs": [],
   "source": [
    "fetch_all_zips()"
   ]
  },
  {
   "cell_type": "code",
   "execution_count": null,
   "metadata": {
    "collapsed": true
   },
   "outputs": [],
   "source": []
  }
 ],
 "metadata": {
  "kernelspec": {
   "display_name": "Python 3",
   "language": "python",
   "name": "python3"
  },
  "language_info": {
   "codemirror_mode": {
    "name": "ipython",
    "version": 3
   },
   "file_extension": ".py",
   "mimetype": "text/x-python",
   "name": "python",
   "nbconvert_exporter": "python",
   "pygments_lexer": "ipython3",
   "version": "3.7.6"
  }
 },
 "nbformat": 4,
 "nbformat_minor": 2
}
