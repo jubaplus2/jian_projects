{
 "cells": [
  {
   "cell_type": "code",
   "execution_count": 23,
   "metadata": {
    "collapsed": true
   },
   "outputs": [],
   "source": [
    "import pandas as pd\n",
    "import json\n",
    "import datetime\n",
    "import glob\n",
    "import numpy as np"
   ]
  },
  {
   "cell_type": "code",
   "execution_count": 24,
   "metadata": {
    "collapsed": true
   },
   "outputs": [],
   "source": [
    "Store_Df=pd.read_csv(\"/home/jian/BiglotsCode/outputs/combined_sales_long_2018-07-28.csv\",dtype=str)\n",
    "Store_Df['week_end_date']=Store_Df['week_end_date'].apply(lambda x: datetime.datetime.strptime(x,\"%Y-%m-%d\").date())\n",
    "Store_Df=Store_Df[(Store_Df['week_end_date']>=datetime.date(2018,2,1))&(Store_Df['week_end_date']<=datetime.date(2018,5,6))]\n",
    "Store_Df['sales']=Store_Df['sales'].astype(float)\n",
    "Store_Df=Store_Df[Store_Df['sales']>0]\n",
    "\n",
    "store_list_Q1=Store_Df['location_id'].unique().tolist()"
   ]
  },
  {
   "cell_type": "code",
   "execution_count": 25,
   "metadata": {
    "collapsed": true
   },
   "outputs": [],
   "source": [
    "store_list_1=pd.read_table(\"/home/jian/BiglotsCode/OtherInput/MediaStormStoreList_Nov15.txt\",dtype=str,sep=\"|\")\n",
    "store_list_2=pd.read_table(\"/home/jian/BiglotsCode/OtherInput/MediaStormStores_20180703.txt\",dtype=str,sep=\"|\")\n",
    "store_list_1['store_zip']=store_list_1['zip_cd'].apply(lambda x: x.split(\"-\")[0].zfill(5))\n",
    "store_list_2['store_zip']=store_list_2['zip_cd'].apply(lambda x: x.split(\"-\")[0].zfill(5))\n",
    "\n",
    "store_list_1=store_list_1[['location_id','store_zip','longitude_meas','latitude_meas']]\n",
    "store_list_2=store_list_2[['location_id','store_zip','longitude_meas','latitude_meas']]\n",
    "store_list_1=store_list_1[~store_list_1['location_id'].isin(store_list_2['location_id'])]\n",
    "store_list=store_list_2.append(store_list_1)\n",
    "store_list=store_list[store_list['location_id']!=\"6990\"]\n",
    "store_list=store_list[store_list['location_id']!=\"145\"]\n",
    "\n",
    "\n",
    "store_list['latitude_meas']=store_list['latitude_meas'].astype(float)\n",
    "store_list['longitude_meas']=store_list['longitude_meas'].astype(float)"
   ]
  },
  {
   "cell_type": "code",
   "execution_count": 26,
   "metadata": {
    "collapsed": true
   },
   "outputs": [],
   "source": [
    "store_list=store_list[store_list['location_id'].isin(store_list_Q1)]\n",
    "inclued_zips=store_list['store_zip'].unique().tolist()"
   ]
  },
  {
   "cell_type": "code",
   "execution_count": 27,
   "metadata": {},
   "outputs": [],
   "source": [
    "weather_json_files=glob.glob(\"/home/jian/Projects/Big_Lots/Weather/Json_data/daily/\"+\"*.json\")\n",
    "weather_date=[datetime.datetime.strptime(x.split(\"/\")[len(x.split(\"/\"))-1][0:10],\"%Y-%m-%d\").date() for x in weather_json_files]\n",
    "df_weather_files=pd.DataFrame({\"path\":weather_json_files,\"date\":weather_date},index=range(len(weather_json_files)))\n",
    "df_weather_files=df_weather_files[(df_weather_files['date']>=datetime.date(2018,2,1)) & (df_weather_files['date']<datetime.date(2018,3,1))]\n"
   ]
  },
  {
   "cell_type": "code",
   "execution_count": 28,
   "metadata": {},
   "outputs": [
    {
     "data": {
      "text/plain": [
       "27"
      ]
     },
     "execution_count": 28,
     "metadata": {},
     "output_type": "execute_result"
    }
   ],
   "source": [
    "len(df_weather_files['date'].unique())"
   ]
  },
  {
   "cell_type": "code",
   "execution_count": 29,
   "metadata": {
    "collapsed": true
   },
   "outputs": [],
   "source": [
    "group_weight=pd.read_excel(\"/home/jian/Projects/Big_Lots/Weather/Q1_Weather_Counts/Q1_inclusion_store_all_weather_type_ranked.xlsx\",sheetname=\"all_weather_group_list\")\n",
    "group_weight['Severity']=group_weight['Severity'].astype(int)\n",
    "group_weight=group_weight[['all_type_group','Severity']]\n",
    "group_weight_dict=group_weight[['all_type_group', 'Severity']].set_index('all_type_group').T.to_dict()"
   ]
  },
  {
   "cell_type": "code",
   "execution_count": 34,
   "metadata": {},
   "outputs": [],
   "source": [
    "output_1_month=pd.DataFrame()\n",
    "for path in df_weather_files['path'].tolist():\n",
    "    response=json.load(open(path,\"r\"))\n",
    "    DATE=df_weather_files[df_weather_files['path']==path]['date'].unique()[0]\n",
    "    output_1_Day=pd.DataFrame()\n",
    "    for zip_cd in inclued_zips:\n",
    "        if zip_cd in list(response.keys()):\n",
    "            weather_list=response[zip_cd]['weather']\n",
    "            dominated_weather_severity=0\n",
    "            dominated_weather=np.nan\n",
    "            for j in range(len(weather_list)):\n",
    "                weather_j=weather_list[j]['main']\n",
    "                weather_j_severity=group_weight_dict[weather_j]['Severity']\n",
    "                if weather_j_severity>dominated_weather_severity:\n",
    "                    dominated_weather=weather_j\n",
    "                    dominated_weather_severity=weather_j_severity\n",
    "            df_app=pd.DataFrame({\"Date\":datetime.datetime.fromtimestamp(response[list(response.keys())[0]]['dt']).date(),\"zip_cd\":zip_cd,\"Weather\":dominated_weather,'Severity':dominated_weather_severity},index=[0])\n",
    "            output_1_Day=output_1_Day.append(df_app)\n",
    "            output_1_Day['file_date']=DATE\n",
    "    output_1_month=output_1_month.append(output_1_Day)"
   ]
  },
  {
   "cell_type": "code",
   "execution_count": 37,
   "metadata": {},
   "outputs": [],
   "source": [
    "zip_DMA=pd.read_excel(\"/home/jian/Docs/Geo_mapping/Zips by DMA by County16-17 nielsen.xlsx\",dtype=str,skiprows=1)\n",
    "zip_DMA=zip_DMA.iloc[:,[0,2]]\n",
    "zip_DMA.columns=['zip_cd','DMA']\n",
    "zip_DMA=zip_DMA.drop_duplicates()"
   ]
  },
  {
   "cell_type": "code",
   "execution_count": 40,
   "metadata": {},
   "outputs": [],
   "source": [
    "Feb_Severity_DMA_Duplicated=pd.merge(output_1_month,zip_DMA,on=\"zip_cd\",how=\"left\")\n",
    "Feb_Severity_DMA_Duplicated=Feb_Severity_DMA_Duplicated.groupby(['DMA'])['Severity'].mean().to_frame().reset_index().sort_values(['Severity'],ascending=False)\n"
   ]
  },
  {
   "cell_type": "code",
   "execution_count": 47,
   "metadata": {},
   "outputs": [],
   "source": [
    "zip_count_DMA=pd.merge(output_1_month,zip_DMA,on=\"zip_cd\",how=\"left\")\n",
    "zip_count_DMA=zip_count_DMA[zip_count_DMA['file_date']==zip_count_DMA['file_date'].max()]\n",
    "zip_count_DMA=zip_count_DMA.groupby(['DMA'])['zip_cd'].count().to_frame().reset_index().rename(columns={\"zip_cd\":\"zip_count\"})\n",
    "output=pd.merge(Feb_Severity_DMA_Duplicated,zip_count_DMA,on=\"DMA\",how=\"left\")"
   ]
  },
  {
   "cell_type": "code",
   "execution_count": 49,
   "metadata": {},
   "outputs": [],
   "source": [
    "output.to_csv(\"/home/jian/Projects/Big_Lots/Weather/Internal_Search_Phrase/Feb_27_Days_Severity_by_DMA_JL_20180806.csv\",index=False)"
   ]
  },
  {
   "cell_type": "code",
   "execution_count": null,
   "metadata": {
    "collapsed": true
   },
   "outputs": [],
   "source": []
  }
 ],
 "metadata": {
  "kernelspec": {
   "display_name": "Python 3",
   "language": "python",
   "name": "python3"
  },
  "language_info": {
   "codemirror_mode": {
    "name": "ipython",
    "version": 3
   },
   "file_extension": ".py",
   "mimetype": "text/x-python",
   "name": "python",
   "nbconvert_exporter": "python",
   "pygments_lexer": "ipython3",
   "version": "3.6.1"
  }
 },
 "nbformat": 4,
 "nbformat_minor": 2
}
