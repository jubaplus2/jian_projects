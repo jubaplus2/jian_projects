{
 "cells": [
  {
   "cell_type": "code",
   "execution_count": 1,
   "metadata": {
    "scrolled": true
   },
   "outputs": [
    {
     "name": "stdout",
     "output_type": "stream",
     "text": [
      "2020-12-21 17:58:33.945299\n",
      "/mnt/clients/juba/hqjubaapp02/sharefolder/GoodYear/jian/Post_Campaign_Analysis\n"
     ]
    }
   ],
   "source": [
    "from google.cloud import bigquery\n",
    "import gc\n",
    "import pandas as pd\n",
    "import numpy as np\n",
    "import datetime\n",
    "import os\n",
    "import json\n",
    "import glob\n",
    "from haversine import haversine\n",
    "os.environ[\"GOOGLE_APPLICATION_CREDENTIALS\"] = \"/mnt/clients/juba/hqjubaapp02/sharefolder/GoodYear/docs/merkle-gdyr-prod-9783607c77a1.json\"\n",
    "\n",
    "zip_centers=json.load(open(\"/mnt/clients/juba/hqjubaapp02/sharefolder/Docs/Geo_mapping/updated_zip_centers_JL_2019-05-23.json\"))\n",
    "client = bigquery.Client()\n",
    "\n",
    "print(datetime.datetime.now())\n",
    "print(os.getcwd())"
   ]
  },
  {
   "cell_type": "markdown",
   "metadata": {},
   "source": [
    "# Audience Report"
   ]
  },
  {
   "cell_type": "code",
   "execution_count": 2,
   "metadata": {},
   "outputs": [
    {
     "name": "stdout",
     "output_type": "stream",
     "text": [
      "31 31\n",
      "9 9\n",
      "80\n"
     ]
    }
   ],
   "source": [
    "df_31_green=pd.read_excel(\"/mnt/clients/juba/hqjubaapp02/sharefolder/GoodYear/jian/Audience_selections/GY_green_store_matching_pair_BenJL_20201103.xlsx\",sheet_name=\"Sheet1\",dtype=str)\n",
    "df_9_single=pd.read_excel(\"/mnt/clients/juba/hqjubaapp02/sharefolder/GoodYear/jian/Audience_selections/GY_twelve_matching_pair_BenJL_20201103.xlsx\",sheet_name=\"Sheet1\",dtype=str)\n",
    "df_31_green=df_31_green[df_31_green['final_selection']==\"1\"]\n",
    "df_9_single=df_9_single[df_9_single['final_selection']==\"1\"]\n",
    "\n",
    "# 1\n",
    "list_test_store_str_id_part_1=[str(int(x)).zfill(4) for x in df_31_green['green_store_id'].tolist()]\n",
    "list_control_store_str_id_part_1=[str(int(x)).zfill(4) for x in df_31_green['matching_store_id'].tolist()]\n",
    "# 2\n",
    "list_test_store_str_id_part_2=[str(int(x)).zfill(4) for x in df_9_single['twelve_store_id'].tolist()]\n",
    "list_control_store_str_id_part_2=[str(int(x)).zfill(4) for x in df_9_single['matching_store_id'].tolist()]\n",
    "\n",
    "print(len(list_test_store_str_id_part_1),len(list_control_store_str_id_part_1))\n",
    "print(len(list_test_store_str_id_part_2),len(list_control_store_str_id_part_2))\n",
    "\n",
    "print(len(set(list_test_store_str_id_part_1+list_control_store_str_id_part_1+list_test_store_str_id_part_2+list_control_store_str_id_part_2)))"
   ]
  },
  {
   "cell_type": "code",
   "execution_count": 3,
   "metadata": {},
   "outputs": [
    {
     "name": "stdout",
     "output_type": "stream",
     "text": [
      "40 40\n"
     ]
    }
   ],
   "source": [
    "list_40_test_stores=list_test_store_str_id_part_1+list_test_store_str_id_part_2\n",
    "list_40_control_stores=list_control_store_str_id_part_1+list_control_store_str_id_part_2\n",
    "print(len(list_40_test_stores),len(list_40_test_stores))"
   ]
  },
  {
   "cell_type": "code",
   "execution_count": 4,
   "metadata": {},
   "outputs": [
    {
     "name": "stdout",
     "output_type": "stream",
     "text": [
      "2020-12-21 17:58:34.042553\n",
      "\n",
      "select t1.indiv_key, t1.best_email_txt, t1.best_phone_num, t2.postal_cd, t2.state_province_cd, t2.country_cd from mdb.indiv_summary as t1\n",
      "join mdb.addr as t2 on\n",
      "t1.cr_addr_key=t2.cr_addr_key\n",
      "\n"
     ]
    },
    {
     "name": "stderr",
     "output_type": "stream",
     "text": [
      "/home/jliang/.local/lib/python3.7/site-packages/google/cloud/bigquery/client.py:441: UserWarning: Cannot create BigQuery Storage client, the dependency google-cloud-bigquery-storage is not installed.\n",
      "  \"Cannot create BigQuery Storage client, the dependency \"\n"
     ]
    },
    {
     "name": "stdout",
     "output_type": "stream",
     "text": [
      "2020-12-21 18:04:48.638623\n",
      "(7617622, 6) 7617622\n"
     ]
    }
   ],
   "source": [
    "print(datetime.datetime.now())\n",
    "query_crm=\"\"\"\n",
    "select t1.indiv_key, t1.best_email_txt, t1.best_phone_num, t2.postal_cd, t2.state_province_cd, t2.country_cd from mdb.indiv_summary as t1\n",
    "join mdb.addr as t2 on\n",
    "t1.cr_addr_key=t2.cr_addr_key\n",
    "\"\"\"\n",
    "\n",
    "print(query_crm)\n",
    "\n",
    "df_all_ids=client.query(query_crm).result().to_dataframe()\n",
    "print(datetime.datetime.now())\n",
    "print(df_all_ids.shape,df_all_ids['indiv_key'].nunique())"
   ]
  },
  {
   "cell_type": "markdown",
   "metadata": {},
   "source": [
    "## Load Store list"
   ]
  },
  {
   "cell_type": "code",
   "execution_count": 5,
   "metadata": {},
   "outputs": [],
   "source": [
    "final_uploaded_folder=\"/mnt/clients/juba/hqjubaapp02/sharefolder/GoodYear/jian/Audience_selections/output_cleaned_audience_2020-11-06/\"\n",
    "list_uploaded_main_aud_files=glob.glob(final_uploaded_folder+\"*.csv\")\n",
    "\n",
    "list_audience_national=[x for x in list_uploaded_main_aud_files if \"balance\" in x.lower() and \"tireandservice\" in x.lower()]\n",
    "list_audience_national.sort()\n",
    "# list_audience_national\n",
    "\n",
    "list_audience_40_stores=[x for x in list_uploaded_main_aud_files if \"_stores_\" in x.lower() and \"tireandservice\" in x.lower() and \"_ecom\" in x.lower()]\n",
    "list_audience_40_stores.sort()\n",
    "# list_audience_40_stores"
   ]
  },
  {
   "cell_type": "markdown",
   "metadata": {},
   "source": [
    "## Load segment ids"
   ]
  },
  {
   "cell_type": "code",
   "execution_count": 6,
   "metadata": {},
   "outputs": [
    {
     "name": "stdout",
     "output_type": "stream",
     "text": [
      "(284729, 2) 284489\n"
     ]
    }
   ],
   "source": [
    "df_id_segment_label=pd.DataFrame()\n",
    "\n",
    "for file in list_audience_national+list_audience_40_stores:\n",
    "    df=pd.read_csv(file,usecols=['indiv_key'])\n",
    "    df['segment']=os.path.basename(file)\n",
    "    df_id_segment_label=df_id_segment_label.append(df)\n",
    "print(df_id_segment_label.shape,df_id_segment_label['indiv_key'].nunique())"
   ]
  },
  {
   "cell_type": "code",
   "execution_count": 7,
   "metadata": {},
   "outputs": [
    {
     "data": {
      "text/plain": [
       "(240, 2)"
      ]
     },
     "execution_count": 7,
     "metadata": {},
     "output_type": "execute_result"
    }
   ],
   "source": [
    "df=df_id_segment_label.groupby('indiv_key')['segment'].count().to_frame().reset_index()\n",
    "df=df.sort_values(\"segment\",ascending=False)\n",
    "df_dup=df[df['segment']>1]\n",
    "df_dup.shape"
   ]
  },
  {
   "cell_type": "code",
   "execution_count": 8,
   "metadata": {},
   "outputs": [],
   "source": [
    "for i in range(len(df_dup)):\n",
    "    df=df_id_segment_label[df_id_segment_label['indiv_key']==df_dup['indiv_key'].tolist()[i]]\n",
    "    df=df[df['segment'].str.contains(\"Test\")]\n",
    "    if len(df)>0:\n",
    "        print(i,df['segment'].tolist())\n",
    "# 240 ids are in the control for both 31 and 9, all 40 anyway"
   ]
  },
  {
   "cell_type": "code",
   "execution_count": 9,
   "metadata": {},
   "outputs": [
    {
     "name": "stdout",
     "output_type": "stream",
     "text": [
      "(284489, 2) 284489\n"
     ]
    }
   ],
   "source": [
    "df_id_segment_label['segment']=df_id_segment_label['segment'].str.replace(\"_31_\",\"_40_\")\n",
    "df_id_segment_label['segment']=df_id_segment_label['segment'].str.replace(\"_9_\",\"_40_\")\n",
    "df_id_segment_label=df_id_segment_label.drop_duplicates()\n",
    "\n",
    "print(df_id_segment_label.shape,df_id_segment_label['indiv_key'].nunique())\n",
    "df_id_group_count=df_id_segment_label.groupby(\"segment\")['indiv_key'].count().to_frame().reset_index()\n",
    "df_id_group_count=df_id_group_count.rename(columns={\"indiv_key\":\"total_ids\"})"
   ]
  },
  {
   "cell_type": "markdown",
   "metadata": {},
   "source": [
    "## Tire And Service"
   ]
  },
  {
   "cell_type": "code",
   "execution_count": 10,
   "metadata": {},
   "outputs": [],
   "source": [
    "str_start_date=\"'2020-11-16'\"\n",
    "str_end_date=\"'2020-12-02'\""
   ]
  },
  {
   "cell_type": "code",
   "execution_count": 11,
   "metadata": {},
   "outputs": [
    {
     "name": "stdout",
     "output_type": "stream",
     "text": [
      "2020-12-21 18:04:52.102370\n",
      "\n",
      "            select indiv_key, min(invoice_date) as min_date, max(invoice_date) as max_date, \n",
      "            count(distinct(case when store_id='ECOM' then trn_id end)) as Ecomm_Trans,\n",
      "            sum(case when store_id='ECOM' then line_item_total_amt else 0 end) as Ecomm_Revenue,\n",
      "            count(distinct(case when store_id!='ECOM' then trn_id end)) as Store_Trans,\n",
      "            sum(case when store_id!='ECOM' then line_item_total_amt else 0 end) as Store_Revenue,\n",
      "            count(distinct trn_id) as Total_Trans,\n",
      "            sum(line_item_total_amt) as Total_Revenue\n",
      "            from mdb.trn_detail\n",
      "            where indiv_key is not null and invoice_date between '2020-11-16' and '2020-12-02'\n",
      "            group by indiv_key\n",
      "            \n",
      "(114609, 9) 114609\n",
      "2020-12-21 18:05:03.905006\n"
     ]
    }
   ],
   "source": [
    "# Service & Tire & null\n",
    "print(datetime.datetime.now())\n",
    "query_both_by_id=\"\"\"\n",
    "            select indiv_key, min(invoice_date) as min_date, max(invoice_date) as max_date, \n",
    "            count(distinct(case when store_id='ECOM' then trn_id end)) as Ecomm_Trans,\n",
    "            sum(case when store_id='ECOM' then line_item_total_amt else 0 end) as Ecomm_Revenue,\n",
    "            count(distinct(case when store_id!='ECOM' then trn_id end)) as Store_Trans,\n",
    "            sum(case when store_id!='ECOM' then line_item_total_amt else 0 end) as Store_Revenue,\n",
    "            count(distinct trn_id) as Total_Trans,\n",
    "            sum(line_item_total_amt) as Total_Revenue\n",
    "            from mdb.trn_detail\n",
    "            where indiv_key is not null and invoice_date between %s and %s\n",
    "            group by indiv_key\n",
    "            \"\"\"  %(str_start_date,str_end_date)\n",
    "print(query_both_by_id)\n",
    "df_both_by_id=client.query(query_both_by_id).result().to_dataframe()\n",
    "print(df_both_by_id.shape,df_both_by_id['indiv_key'].nunique())\n",
    "print(datetime.datetime.now())"
   ]
  },
  {
   "cell_type": "code",
   "execution_count": 12,
   "metadata": {},
   "outputs": [],
   "source": [
    "df_both_by_id['ecom_shopper']=np.where(df_both_by_id['Ecomm_Trans']>0,1,0)\n",
    "df_both_by_id['store_shopper']=np.where(df_both_by_id['Ecomm_Trans']>0,0,1)"
   ]
  },
  {
   "cell_type": "code",
   "execution_count": 13,
   "metadata": {},
   "outputs": [],
   "source": [
    "df_both_by_id=pd.merge(df_both_by_id,df_id_segment_label,on=\"indiv_key\",how=\"left\")\n",
    "df_both_by_id['segment']=df_both_by_id['segment'].fillna(\"balance\")"
   ]
  },
  {
   "cell_type": "code",
   "execution_count": 14,
   "metadata": {},
   "outputs": [
    {
     "data": {
      "text/html": [
       "<div>\n",
       "<style scoped>\n",
       "    .dataframe tbody tr th:only-of-type {\n",
       "        vertical-align: middle;\n",
       "    }\n",
       "\n",
       "    .dataframe tbody tr th {\n",
       "        vertical-align: top;\n",
       "    }\n",
       "\n",
       "    .dataframe thead th {\n",
       "        text-align: right;\n",
       "    }\n",
       "</style>\n",
       "<table border=\"1\" class=\"dataframe\">\n",
       "  <thead>\n",
       "    <tr style=\"text-align: right;\">\n",
       "      <th></th>\n",
       "      <th>indiv_key</th>\n",
       "      <th>min_date</th>\n",
       "      <th>max_date</th>\n",
       "      <th>Ecomm_Trans</th>\n",
       "      <th>Ecomm_Revenue</th>\n",
       "      <th>Store_Trans</th>\n",
       "      <th>Store_Revenue</th>\n",
       "      <th>Total_Trans</th>\n",
       "      <th>Total_Revenue</th>\n",
       "      <th>ecom_shopper</th>\n",
       "      <th>store_shopper</th>\n",
       "      <th>segment</th>\n",
       "    </tr>\n",
       "  </thead>\n",
       "  <tbody>\n",
       "    <tr>\n",
       "      <th>0</th>\n",
       "      <td>13499890992000001</td>\n",
       "      <td>2020-11-22 11:51:40</td>\n",
       "      <td>2020-11-22 11:51:40</td>\n",
       "      <td>1</td>\n",
       "      <td>584.3</td>\n",
       "      <td>0</td>\n",
       "      <td>0.0</td>\n",
       "      <td>1</td>\n",
       "      <td>584.3</td>\n",
       "      <td>1</td>\n",
       "      <td>0</td>\n",
       "      <td>balance</td>\n",
       "    </tr>\n",
       "    <tr>\n",
       "      <th>1</th>\n",
       "      <td>6039751716000002</td>\n",
       "      <td>2020-11-30 21:27:08</td>\n",
       "      <td>2020-11-30 21:27:08</td>\n",
       "      <td>1</td>\n",
       "      <td>872.0</td>\n",
       "      <td>0</td>\n",
       "      <td>0.0</td>\n",
       "      <td>1</td>\n",
       "      <td>872.0</td>\n",
       "      <td>1</td>\n",
       "      <td>0</td>\n",
       "      <td>segment_Test_TireAndService_Balance_Ecommerce_...</td>\n",
       "    </tr>\n",
       "  </tbody>\n",
       "</table>\n",
       "</div>"
      ],
      "text/plain": [
       "           indiv_key            min_date            max_date  Ecomm_Trans  \\\n",
       "0  13499890992000001 2020-11-22 11:51:40 2020-11-22 11:51:40            1   \n",
       "1   6039751716000002 2020-11-30 21:27:08 2020-11-30 21:27:08            1   \n",
       "\n",
       "   Ecomm_Revenue  Store_Trans  Store_Revenue  Total_Trans  Total_Revenue  \\\n",
       "0          584.3            0            0.0            1          584.3   \n",
       "1          872.0            0            0.0            1          872.0   \n",
       "\n",
       "   ecom_shopper  store_shopper  \\\n",
       "0             1              0   \n",
       "1             1              0   \n",
       "\n",
       "                                             segment  \n",
       "0                                            balance  \n",
       "1  segment_Test_TireAndService_Balance_Ecommerce_...  "
      ]
     },
     "execution_count": 14,
     "metadata": {},
     "output_type": "execute_result"
    }
   ],
   "source": [
    "df_both_by_id.head(2)"
   ]
  },
  {
   "cell_type": "code",
   "execution_count": 15,
   "metadata": {},
   "outputs": [
    {
     "name": "stdout",
     "output_type": "stream",
     "text": [
      "2020-11-16 00:00:00 2020-12-02 00:00:00\n",
      "2020-11-16 00:00:00 2020-12-02 00:00:00\n"
     ]
    }
   ],
   "source": [
    "print(df_both_by_id['min_date'].min(),df_both_by_id['min_date'].max())\n",
    "print(df_both_by_id['max_date'].min(),df_both_by_id['max_date'].max())\n",
    "# df_both_by_id[df_both_by_id['min_date']!=df_both_by_id['max_date']]"
   ]
  },
  {
   "cell_type": "code",
   "execution_count": 16,
   "metadata": {},
   "outputs": [],
   "source": [
    "func_agg={\"indiv_key\":\"count\",\"ecom_shopper\":\"sum\",\"store_shopper\":\"sum\",\n",
    "          \"Ecomm_Trans\":\"sum\",\"Ecomm_Revenue\":\"sum\",\n",
    "          \"Store_Trans\":\"sum\",\"Store_Revenue\":\"sum\",\n",
    "          \"Total_Trans\":\"sum\",\"Total_Revenue\":\"sum\",\n",
    "          \"min_date\":\"min\",\"max_date\":\"max\"\n",
    "         }\n",
    "\n",
    "df_output_audience_both=df_both_by_id.groupby('segment').agg(func_agg).reset_index()\n",
    "df_output_audience_both=df_output_audience_both.rename(columns={\"indiv_key\":\"shoppers\"})\n",
    "df_output_audience_both=pd.merge(df_id_group_count,df_output_audience_both,on=\"segment\",how=\"outer\")\n",
    "df_output_audience_both=df_output_audience_both.sort_values(\"segment\")"
   ]
  },
  {
   "cell_type": "code",
   "execution_count": 17,
   "metadata": {},
   "outputs": [
    {
     "data": {
      "text/plain": [
       "(114609, 12)"
      ]
     },
     "execution_count": 17,
     "metadata": {},
     "output_type": "execute_result"
    }
   ],
   "source": [
    "df_both_by_id.shape"
   ]
  },
  {
   "cell_type": "code",
   "execution_count": 18,
   "metadata": {},
   "outputs": [
    {
     "data": {
      "text/plain": [
       "(21065, 12)"
      ]
     },
     "execution_count": 18,
     "metadata": {},
     "output_type": "execute_result"
    }
   ],
   "source": [
    "df_both_by_id[df_both_by_id['Total_Revenue']<=0.0001].shape"
   ]
  },
  {
   "cell_type": "code",
   "execution_count": 19,
   "metadata": {},
   "outputs": [
    {
     "data": {
      "text/html": [
       "<div>\n",
       "<style scoped>\n",
       "    .dataframe tbody tr th:only-of-type {\n",
       "        vertical-align: middle;\n",
       "    }\n",
       "\n",
       "    .dataframe tbody tr th {\n",
       "        vertical-align: top;\n",
       "    }\n",
       "\n",
       "    .dataframe thead th {\n",
       "        text-align: right;\n",
       "    }\n",
       "</style>\n",
       "<table border=\"1\" class=\"dataframe\">\n",
       "  <thead>\n",
       "    <tr style=\"text-align: right;\">\n",
       "      <th></th>\n",
       "      <th>indiv_key</th>\n",
       "      <th>min_date</th>\n",
       "      <th>max_date</th>\n",
       "      <th>Ecomm_Trans</th>\n",
       "      <th>Ecomm_Revenue</th>\n",
       "      <th>Store_Trans</th>\n",
       "      <th>Store_Revenue</th>\n",
       "      <th>Total_Trans</th>\n",
       "      <th>Total_Revenue</th>\n",
       "      <th>ecom_shopper</th>\n",
       "      <th>store_shopper</th>\n",
       "      <th>segment</th>\n",
       "    </tr>\n",
       "  </thead>\n",
       "  <tbody>\n",
       "    <tr>\n",
       "      <th>227</th>\n",
       "      <td>13427900800000001</td>\n",
       "      <td>2020-11-17 08:02:21</td>\n",
       "      <td>2020-11-17 08:02:21</td>\n",
       "      <td>1</td>\n",
       "      <td>0.000000e+00</td>\n",
       "      <td>0</td>\n",
       "      <td>0.0</td>\n",
       "      <td>1</td>\n",
       "      <td>0.000000e+00</td>\n",
       "      <td>1</td>\n",
       "      <td>0</td>\n",
       "      <td>balance</td>\n",
       "    </tr>\n",
       "    <tr>\n",
       "      <th>299</th>\n",
       "      <td>7437010435000007</td>\n",
       "      <td>2020-11-16 14:54:42</td>\n",
       "      <td>2020-11-16 14:54:42</td>\n",
       "      <td>1</td>\n",
       "      <td>1.065814e-14</td>\n",
       "      <td>0</td>\n",
       "      <td>0.0</td>\n",
       "      <td>1</td>\n",
       "      <td>1.065814e-14</td>\n",
       "      <td>1</td>\n",
       "      <td>0</td>\n",
       "      <td>balance</td>\n",
       "    </tr>\n",
       "  </tbody>\n",
       "</table>\n",
       "</div>"
      ],
      "text/plain": [
       "             indiv_key            min_date            max_date  Ecomm_Trans  \\\n",
       "227  13427900800000001 2020-11-17 08:02:21 2020-11-17 08:02:21            1   \n",
       "299   7437010435000007 2020-11-16 14:54:42 2020-11-16 14:54:42            1   \n",
       "\n",
       "     Ecomm_Revenue  Store_Trans  Store_Revenue  Total_Trans  Total_Revenue  \\\n",
       "227   0.000000e+00            0            0.0            1   0.000000e+00   \n",
       "299   1.065814e-14            0            0.0            1   1.065814e-14   \n",
       "\n",
       "     ecom_shopper  store_shopper  segment  \n",
       "227             1              0  balance  \n",
       "299             1              0  balance  "
      ]
     },
     "execution_count": 19,
     "metadata": {},
     "output_type": "execute_result"
    }
   ],
   "source": [
    "df_both_by_id[df_both_by_id['Total_Revenue']<=0.0001].head(2)"
   ]
  },
  {
   "cell_type": "markdown",
   "metadata": {},
   "source": [
    "## Tire Only"
   ]
  },
  {
   "cell_type": "code",
   "execution_count": 20,
   "metadata": {},
   "outputs": [
    {
     "name": "stdout",
     "output_type": "stream",
     "text": [
      "2020-12-21 18:05:04.194302\n",
      "\n",
      "            select indiv_key, min(invoice_date) as min_date, max(invoice_date) as max_date, \n",
      "            count(distinct(case when store_id='ECOM' then trn_id end)) as Ecomm_Trans,\n",
      "            sum(case when store_id='ECOM' then line_item_total_amt else 0 end) as Ecomm_Revenue,\n",
      "            count(distinct(case when store_id!='ECOM' then trn_id end)) as Store_Trans,\n",
      "            sum(case when store_id!='ECOM' then line_item_total_amt else 0 end) as Store_Revenue,\n",
      "            count(distinct trn_id) as Total_Trans,\n",
      "            sum(line_item_total_amt) as Total_Revenue\n",
      "            from mdb.trn_detail\n",
      "            where indiv_key is not null and invoice_date between '2020-11-16' and '2020-12-02' and product_type_cd='TIRE'\n",
      "            group by indiv_key\n",
      "            \n"
     ]
    },
    {
     "name": "stderr",
     "output_type": "stream",
     "text": [
      "/home/jliang/.local/lib/python3.7/site-packages/google/cloud/bigquery/client.py:441: UserWarning: Cannot create BigQuery Storage client, the dependency google-cloud-bigquery-storage is not installed.\n",
      "  \"Cannot create BigQuery Storage client, the dependency \"\n"
     ]
    },
    {
     "name": "stdout",
     "output_type": "stream",
     "text": [
      "(41635, 9) 41635\n",
      "2020-12-21 18:05:09.766202\n"
     ]
    }
   ],
   "source": [
    "# Service & Tire & null\n",
    "print(datetime.datetime.now())\n",
    "query_tireonly_by_id=\"\"\"\n",
    "            select indiv_key, min(invoice_date) as min_date, max(invoice_date) as max_date, \n",
    "            count(distinct(case when store_id='ECOM' then trn_id end)) as Ecomm_Trans,\n",
    "            sum(case when store_id='ECOM' then line_item_total_amt else 0 end) as Ecomm_Revenue,\n",
    "            count(distinct(case when store_id!='ECOM' then trn_id end)) as Store_Trans,\n",
    "            sum(case when store_id!='ECOM' then line_item_total_amt else 0 end) as Store_Revenue,\n",
    "            count(distinct trn_id) as Total_Trans,\n",
    "            sum(line_item_total_amt) as Total_Revenue\n",
    "            from mdb.trn_detail\n",
    "            where indiv_key is not null and invoice_date between %s and %s and product_type_cd='TIRE'\n",
    "            group by indiv_key\n",
    "            \"\"\"  %(str_start_date,str_end_date)\n",
    "print(query_tireonly_by_id)\n",
    "df_tireonly_by_id=client.query(query_tireonly_by_id).result().to_dataframe()\n",
    "print(df_tireonly_by_id.shape,df_tireonly_by_id['indiv_key'].nunique())\n",
    "print(datetime.datetime.now())"
   ]
  },
  {
   "cell_type": "code",
   "execution_count": 21,
   "metadata": {},
   "outputs": [],
   "source": [
    "df_tireonly_by_id['ecom_shopper']=np.where(df_tireonly_by_id['Ecomm_Trans']>0,1,0)\n",
    "df_tireonly_by_id['store_shopper']=np.where(df_tireonly_by_id['Ecomm_Trans']>0,0,1)"
   ]
  },
  {
   "cell_type": "code",
   "execution_count": 22,
   "metadata": {},
   "outputs": [],
   "source": [
    "df_tireonly_by_id=pd.merge(df_tireonly_by_id,df_id_segment_label,on=\"indiv_key\",how=\"left\")\n",
    "df_tireonly_by_id['segment']=df_tireonly_by_id['segment'].fillna(\"balance\")"
   ]
  },
  {
   "cell_type": "code",
   "execution_count": 23,
   "metadata": {},
   "outputs": [
    {
     "data": {
      "text/html": [
       "<div>\n",
       "<style scoped>\n",
       "    .dataframe tbody tr th:only-of-type {\n",
       "        vertical-align: middle;\n",
       "    }\n",
       "\n",
       "    .dataframe tbody tr th {\n",
       "        vertical-align: top;\n",
       "    }\n",
       "\n",
       "    .dataframe thead th {\n",
       "        text-align: right;\n",
       "    }\n",
       "</style>\n",
       "<table border=\"1\" class=\"dataframe\">\n",
       "  <thead>\n",
       "    <tr style=\"text-align: right;\">\n",
       "      <th></th>\n",
       "      <th>indiv_key</th>\n",
       "      <th>min_date</th>\n",
       "      <th>max_date</th>\n",
       "      <th>Ecomm_Trans</th>\n",
       "      <th>Ecomm_Revenue</th>\n",
       "      <th>Store_Trans</th>\n",
       "      <th>Store_Revenue</th>\n",
       "      <th>Total_Trans</th>\n",
       "      <th>Total_Revenue</th>\n",
       "      <th>ecom_shopper</th>\n",
       "      <th>store_shopper</th>\n",
       "      <th>segment</th>\n",
       "    </tr>\n",
       "  </thead>\n",
       "  <tbody>\n",
       "    <tr>\n",
       "      <th>0</th>\n",
       "      <td>13544621436000001</td>\n",
       "      <td>2020-11-25 15:18:14</td>\n",
       "      <td>2020-11-25 15:18:14</td>\n",
       "      <td>1</td>\n",
       "      <td>701.88</td>\n",
       "      <td>0</td>\n",
       "      <td>0.0</td>\n",
       "      <td>1</td>\n",
       "      <td>701.88</td>\n",
       "      <td>1</td>\n",
       "      <td>0</td>\n",
       "      <td>balance</td>\n",
       "    </tr>\n",
       "    <tr>\n",
       "      <th>1</th>\n",
       "      <td>13528850073000002</td>\n",
       "      <td>2020-11-24 10:53:55</td>\n",
       "      <td>2020-11-24 10:53:55</td>\n",
       "      <td>1</td>\n",
       "      <td>377.81</td>\n",
       "      <td>0</td>\n",
       "      <td>0.0</td>\n",
       "      <td>1</td>\n",
       "      <td>377.81</td>\n",
       "      <td>1</td>\n",
       "      <td>0</td>\n",
       "      <td>balance</td>\n",
       "    </tr>\n",
       "  </tbody>\n",
       "</table>\n",
       "</div>"
      ],
      "text/plain": [
       "           indiv_key            min_date            max_date  Ecomm_Trans  \\\n",
       "0  13544621436000001 2020-11-25 15:18:14 2020-11-25 15:18:14            1   \n",
       "1  13528850073000002 2020-11-24 10:53:55 2020-11-24 10:53:55            1   \n",
       "\n",
       "   Ecomm_Revenue  Store_Trans  Store_Revenue  Total_Trans  Total_Revenue  \\\n",
       "0         701.88            0            0.0            1         701.88   \n",
       "1         377.81            0            0.0            1         377.81   \n",
       "\n",
       "   ecom_shopper  store_shopper  segment  \n",
       "0             1              0  balance  \n",
       "1             1              0  balance  "
      ]
     },
     "execution_count": 23,
     "metadata": {},
     "output_type": "execute_result"
    }
   ],
   "source": [
    "df_tireonly_by_id.head(2)"
   ]
  },
  {
   "cell_type": "code",
   "execution_count": 24,
   "metadata": {},
   "outputs": [
    {
     "name": "stdout",
     "output_type": "stream",
     "text": [
      "2020-11-16 00:00:00 2020-12-02 00:00:00\n",
      "2020-11-16 00:00:00 2020-12-02 00:00:00\n"
     ]
    }
   ],
   "source": [
    "print(df_tireonly_by_id['min_date'].min(),df_tireonly_by_id['min_date'].max())\n",
    "print(df_tireonly_by_id['max_date'].min(),df_tireonly_by_id['max_date'].max())\n",
    "# df_tireonly_by_id[df_tireonly_by_id['min_date']!=df_tireonly_by_id['max_date']]"
   ]
  },
  {
   "cell_type": "code",
   "execution_count": 25,
   "metadata": {},
   "outputs": [],
   "source": [
    "func_agg={\"indiv_key\":\"count\",\"ecom_shopper\":\"sum\",\"store_shopper\":\"sum\",\n",
    "          \"Ecomm_Trans\":\"sum\",\"Ecomm_Revenue\":\"sum\",\n",
    "          \"Store_Trans\":\"sum\",\"Store_Revenue\":\"sum\",\n",
    "          \"Total_Trans\":\"sum\",\"Total_Revenue\":\"sum\",\n",
    "          \"min_date\":\"min\",\"max_date\":\"max\"\n",
    "         }\n",
    "\n",
    "df_output_audience_tireonly=df_tireonly_by_id.groupby('segment').agg(func_agg).reset_index()\n",
    "df_output_audience_tireonly=df_output_audience_tireonly.rename(columns={\"indiv_key\":\"shoppers\"})\n",
    "df_output_audience_tireonly=pd.merge(df_id_group_count,df_output_audience_tireonly,on=\"segment\",how=\"outer\")\n",
    "df_output_audience_tireonly=df_output_audience_tireonly.sort_values(\"segment\")"
   ]
  },
  {
   "cell_type": "code",
   "execution_count": 26,
   "metadata": {},
   "outputs": [
    {
     "data": {
      "text/html": [
       "<div>\n",
       "<style scoped>\n",
       "    .dataframe tbody tr th:only-of-type {\n",
       "        vertical-align: middle;\n",
       "    }\n",
       "\n",
       "    .dataframe tbody tr th {\n",
       "        vertical-align: top;\n",
       "    }\n",
       "\n",
       "    .dataframe thead th {\n",
       "        text-align: right;\n",
       "    }\n",
       "</style>\n",
       "<table border=\"1\" class=\"dataframe\">\n",
       "  <thead>\n",
       "    <tr style=\"text-align: right;\">\n",
       "      <th></th>\n",
       "      <th>indiv_key</th>\n",
       "      <th>min_date</th>\n",
       "      <th>max_date</th>\n",
       "      <th>Ecomm_Trans</th>\n",
       "      <th>Ecomm_Revenue</th>\n",
       "      <th>Store_Trans</th>\n",
       "      <th>Store_Revenue</th>\n",
       "      <th>Total_Trans</th>\n",
       "      <th>Total_Revenue</th>\n",
       "      <th>ecom_shopper</th>\n",
       "      <th>store_shopper</th>\n",
       "      <th>segment</th>\n",
       "    </tr>\n",
       "  </thead>\n",
       "  <tbody>\n",
       "    <tr>\n",
       "      <th>0</th>\n",
       "      <td>13544621436000001</td>\n",
       "      <td>2020-11-25 15:18:14</td>\n",
       "      <td>2020-11-25 15:18:14</td>\n",
       "      <td>1</td>\n",
       "      <td>701.88</td>\n",
       "      <td>0</td>\n",
       "      <td>0.00</td>\n",
       "      <td>1</td>\n",
       "      <td>701.88</td>\n",
       "      <td>1</td>\n",
       "      <td>0</td>\n",
       "      <td>balance</td>\n",
       "    </tr>\n",
       "    <tr>\n",
       "      <th>1</th>\n",
       "      <td>13528850073000002</td>\n",
       "      <td>2020-11-24 10:53:55</td>\n",
       "      <td>2020-11-24 10:53:55</td>\n",
       "      <td>1</td>\n",
       "      <td>377.81</td>\n",
       "      <td>0</td>\n",
       "      <td>0.00</td>\n",
       "      <td>1</td>\n",
       "      <td>377.81</td>\n",
       "      <td>1</td>\n",
       "      <td>0</td>\n",
       "      <td>balance</td>\n",
       "    </tr>\n",
       "    <tr>\n",
       "      <th>2</th>\n",
       "      <td>13413510542000001</td>\n",
       "      <td>2020-11-16 21:47:16</td>\n",
       "      <td>2020-11-16 21:47:16</td>\n",
       "      <td>1</td>\n",
       "      <td>490.07</td>\n",
       "      <td>0</td>\n",
       "      <td>0.00</td>\n",
       "      <td>1</td>\n",
       "      <td>490.07</td>\n",
       "      <td>1</td>\n",
       "      <td>0</td>\n",
       "      <td>balance</td>\n",
       "    </tr>\n",
       "    <tr>\n",
       "      <th>3</th>\n",
       "      <td>13499890833000001</td>\n",
       "      <td>2020-11-22 19:27:34</td>\n",
       "      <td>2020-11-22 19:27:34</td>\n",
       "      <td>1</td>\n",
       "      <td>1168.50</td>\n",
       "      <td>0</td>\n",
       "      <td>0.00</td>\n",
       "      <td>1</td>\n",
       "      <td>1168.50</td>\n",
       "      <td>1</td>\n",
       "      <td>0</td>\n",
       "      <td>balance</td>\n",
       "    </tr>\n",
       "    <tr>\n",
       "      <th>4</th>\n",
       "      <td>1222780775000827</td>\n",
       "      <td>2020-12-01 05:58:59</td>\n",
       "      <td>2020-12-01 05:58:59</td>\n",
       "      <td>1</td>\n",
       "      <td>377.89</td>\n",
       "      <td>0</td>\n",
       "      <td>0.00</td>\n",
       "      <td>1</td>\n",
       "      <td>377.89</td>\n",
       "      <td>1</td>\n",
       "      <td>0</td>\n",
       "      <td>balance</td>\n",
       "    </tr>\n",
       "    <tr>\n",
       "      <th>...</th>\n",
       "      <td>...</td>\n",
       "      <td>...</td>\n",
       "      <td>...</td>\n",
       "      <td>...</td>\n",
       "      <td>...</td>\n",
       "      <td>...</td>\n",
       "      <td>...</td>\n",
       "      <td>...</td>\n",
       "      <td>...</td>\n",
       "      <td>...</td>\n",
       "      <td>...</td>\n",
       "      <td>...</td>\n",
       "    </tr>\n",
       "    <tr>\n",
       "      <th>41630</th>\n",
       "      <td>13514483324000002</td>\n",
       "      <td>2020-11-23 00:00:00</td>\n",
       "      <td>2020-11-23 00:00:00</td>\n",
       "      <td>0</td>\n",
       "      <td>0.00</td>\n",
       "      <td>1</td>\n",
       "      <td>100.00</td>\n",
       "      <td>1</td>\n",
       "      <td>100.00</td>\n",
       "      <td>0</td>\n",
       "      <td>1</td>\n",
       "      <td>balance</td>\n",
       "    </tr>\n",
       "    <tr>\n",
       "      <th>41631</th>\n",
       "      <td>1222781702001736</td>\n",
       "      <td>2020-11-23 00:00:00</td>\n",
       "      <td>2020-11-23 00:00:00</td>\n",
       "      <td>0</td>\n",
       "      <td>0.00</td>\n",
       "      <td>1</td>\n",
       "      <td>688.43</td>\n",
       "      <td>1</td>\n",
       "      <td>688.43</td>\n",
       "      <td>0</td>\n",
       "      <td>1</td>\n",
       "      <td>balance</td>\n",
       "    </tr>\n",
       "    <tr>\n",
       "      <th>41632</th>\n",
       "      <td>13514482040000001</td>\n",
       "      <td>2020-11-23 00:00:00</td>\n",
       "      <td>2020-11-23 00:00:00</td>\n",
       "      <td>0</td>\n",
       "      <td>0.00</td>\n",
       "      <td>1</td>\n",
       "      <td>541.98</td>\n",
       "      <td>1</td>\n",
       "      <td>541.98</td>\n",
       "      <td>0</td>\n",
       "      <td>1</td>\n",
       "      <td>balance</td>\n",
       "    </tr>\n",
       "    <tr>\n",
       "      <th>41633</th>\n",
       "      <td>5450881511000003</td>\n",
       "      <td>2020-11-23 00:00:00</td>\n",
       "      <td>2020-11-23 00:00:00</td>\n",
       "      <td>0</td>\n",
       "      <td>0.00</td>\n",
       "      <td>1</td>\n",
       "      <td>88.99</td>\n",
       "      <td>1</td>\n",
       "      <td>88.99</td>\n",
       "      <td>0</td>\n",
       "      <td>1</td>\n",
       "      <td>balance</td>\n",
       "    </tr>\n",
       "    <tr>\n",
       "      <th>41634</th>\n",
       "      <td>1222780851001859</td>\n",
       "      <td>2020-11-23 00:00:00</td>\n",
       "      <td>2020-11-23 00:00:00</td>\n",
       "      <td>0</td>\n",
       "      <td>0.00</td>\n",
       "      <td>1</td>\n",
       "      <td>471.96</td>\n",
       "      <td>1</td>\n",
       "      <td>471.96</td>\n",
       "      <td>0</td>\n",
       "      <td>1</td>\n",
       "      <td>balance</td>\n",
       "    </tr>\n",
       "  </tbody>\n",
       "</table>\n",
       "<p>41635 rows × 12 columns</p>\n",
       "</div>"
      ],
      "text/plain": [
       "               indiv_key            min_date            max_date  Ecomm_Trans  \\\n",
       "0      13544621436000001 2020-11-25 15:18:14 2020-11-25 15:18:14            1   \n",
       "1      13528850073000002 2020-11-24 10:53:55 2020-11-24 10:53:55            1   \n",
       "2      13413510542000001 2020-11-16 21:47:16 2020-11-16 21:47:16            1   \n",
       "3      13499890833000001 2020-11-22 19:27:34 2020-11-22 19:27:34            1   \n",
       "4       1222780775000827 2020-12-01 05:58:59 2020-12-01 05:58:59            1   \n",
       "...                  ...                 ...                 ...          ...   \n",
       "41630  13514483324000002 2020-11-23 00:00:00 2020-11-23 00:00:00            0   \n",
       "41631   1222781702001736 2020-11-23 00:00:00 2020-11-23 00:00:00            0   \n",
       "41632  13514482040000001 2020-11-23 00:00:00 2020-11-23 00:00:00            0   \n",
       "41633   5450881511000003 2020-11-23 00:00:00 2020-11-23 00:00:00            0   \n",
       "41634   1222780851001859 2020-11-23 00:00:00 2020-11-23 00:00:00            0   \n",
       "\n",
       "       Ecomm_Revenue  Store_Trans  Store_Revenue  Total_Trans  Total_Revenue  \\\n",
       "0             701.88            0           0.00            1         701.88   \n",
       "1             377.81            0           0.00            1         377.81   \n",
       "2             490.07            0           0.00            1         490.07   \n",
       "3            1168.50            0           0.00            1        1168.50   \n",
       "4             377.89            0           0.00            1         377.89   \n",
       "...              ...          ...            ...          ...            ...   \n",
       "41630           0.00            1         100.00            1         100.00   \n",
       "41631           0.00            1         688.43            1         688.43   \n",
       "41632           0.00            1         541.98            1         541.98   \n",
       "41633           0.00            1          88.99            1          88.99   \n",
       "41634           0.00            1         471.96            1         471.96   \n",
       "\n",
       "       ecom_shopper  store_shopper  segment  \n",
       "0                 1              0  balance  \n",
       "1                 1              0  balance  \n",
       "2                 1              0  balance  \n",
       "3                 1              0  balance  \n",
       "4                 1              0  balance  \n",
       "...             ...            ...      ...  \n",
       "41630             0              1  balance  \n",
       "41631             0              1  balance  \n",
       "41632             0              1  balance  \n",
       "41633             0              1  balance  \n",
       "41634             0              1  balance  \n",
       "\n",
       "[41635 rows x 12 columns]"
      ]
     },
     "execution_count": 26,
     "metadata": {},
     "output_type": "execute_result"
    }
   ],
   "source": [
    "df_tireonly_by_id"
   ]
  },
  {
   "cell_type": "markdown",
   "metadata": {},
   "source": [
    "# Store Report"
   ]
  },
  {
   "cell_type": "code",
   "execution_count": 27,
   "metadata": {},
   "outputs": [
    {
     "name": "stderr",
     "output_type": "stream",
     "text": [
      "/home/jliang/.local/lib/python3.7/site-packages/google/cloud/bigquery/client.py:441: UserWarning: Cannot create BigQuery Storage client, the dependency google-cloud-bigquery-storage is not installed.\n",
      "  \"Cannot create BigQuery Storage client, the dependency \"\n"
     ]
    },
    {
     "data": {
      "text/html": [
       "<div>\n",
       "<style scoped>\n",
       "    .dataframe tbody tr th:only-of-type {\n",
       "        vertical-align: middle;\n",
       "    }\n",
       "\n",
       "    .dataframe tbody tr th {\n",
       "        vertical-align: top;\n",
       "    }\n",
       "\n",
       "    .dataframe thead th {\n",
       "        text-align: right;\n",
       "    }\n",
       "</style>\n",
       "<table border=\"1\" class=\"dataframe\">\n",
       "  <thead>\n",
       "    <tr style=\"text-align: right;\">\n",
       "      <th></th>\n",
       "      <th>product_type_cd</th>\n",
       "    </tr>\n",
       "  </thead>\n",
       "  <tbody>\n",
       "    <tr>\n",
       "      <th>0</th>\n",
       "      <td>TIRE</td>\n",
       "    </tr>\n",
       "    <tr>\n",
       "      <th>1</th>\n",
       "      <td>None</td>\n",
       "    </tr>\n",
       "    <tr>\n",
       "      <th>2</th>\n",
       "      <td>SERVICE</td>\n",
       "    </tr>\n",
       "  </tbody>\n",
       "</table>\n",
       "</div>"
      ],
      "text/plain": [
       "  product_type_cd\n",
       "0            TIRE\n",
       "1            None\n",
       "2         SERVICE"
      ]
     },
     "execution_count": 27,
     "metadata": {},
     "output_type": "execute_result"
    }
   ],
   "source": [
    "client.query(\"select distinct product_type_cd from mdb.trn_detail\").result().to_dataframe()"
   ]
  },
  {
   "cell_type": "code",
   "execution_count": 28,
   "metadata": {},
   "outputs": [],
   "source": [
    "list_40_test_stores_biqquery=str(list_40_test_stores).replace(\"[\",\"(\").replace(\"]\",\")\")\n",
    "list_40_control_stores_biqquery=str(list_40_control_stores).replace(\"[\",\"(\").replace(\"]\",\")\")\n",
    "list_80_all_stores_biqquery=str(list_40_test_stores+list_40_control_stores).replace(\"[\",\"(\").replace(\"]\",\")\")"
   ]
  },
  {
   "cell_type": "markdown",
   "metadata": {},
   "source": [
    "## 2020 During Campaign"
   ]
  },
  {
   "cell_type": "code",
   "execution_count": 29,
   "metadata": {},
   "outputs": [],
   "source": [
    "def pull_by_trans_with_date_range_80_stores(date_start_date,date_end_date):\n",
    "    print(datetime.datetime.now())\n",
    "    print(date_start_date,date_end_date)\n",
    "    str_start_date=\"'\"+str(date_start_date)+\"'\"\n",
    "    str_end_date=\"'\"+str(date_end_date)+\"'\"\n",
    "    query_both_by_trans=\"\"\"\n",
    "                select trn_id, indiv_key, store_id, invoice_date, \n",
    "                sum(case when product_type_cd='TIRE' then line_item_total_amt else 0 end) as tire_sales,\n",
    "                sum(case when product_type_cd='SERVICE' then line_item_total_amt else 0 end) as service_sales,\n",
    "                sum(case when product_type_cd is null then line_item_total_amt else 0 end) as none_sales \n",
    "                from mdb.trn_detail\n",
    "                where store_id in %s and invoice_date between %s and %s\n",
    "                group by trn_id, indiv_key, store_id, invoice_date\n",
    "                \"\"\"  %(list_80_all_stores_biqquery,str_start_date,str_end_date)\n",
    "    print(query_both_by_trans)\n",
    "    df_both_by_trans=client.query(query_both_by_trans).result().to_dataframe()\n",
    "    print(df_both_by_trans.shape,df_both_by_trans['store_id'].nunique())\n",
    "    print(datetime.datetime.now())\n",
    "    print(df_both_by_trans['invoice_date'].min(),df_both_by_trans['invoice_date'].max())\n",
    "    \n",
    "    print(df_both_by_trans['store_id'].apply(type).unique())\n",
    "    print(df_both_by_trans['store_id'].apply(len).unique())\n",
    "    df_both_by_trans['group']=np.where(df_both_by_trans['store_id'].isin(list_40_test_stores),\"test\",\"control\")\n",
    "    \n",
    "    return df_both_by_trans\n",
    "\n"
   ]
  },
  {
   "cell_type": "code",
   "execution_count": 30,
   "metadata": {},
   "outputs": [],
   "source": [
    "date_start_2020_during=datetime.datetime.strptime(str_start_date.replace(\"'\",\"\"),\"%Y-%m-%d\").date()\n",
    "date_end_2020_during=datetime.datetime.strptime(str_end_date.replace(\"'\",\"\"),\"%Y-%m-%d\").date()\n",
    "\n",
    "date_start_2020_pre=date_start_2020_during-datetime.timedelta(days=21)\n",
    "date_end_2020_pre=date_end_2020_during-datetime.timedelta(days=21)\n",
    "\n",
    "\n",
    "date_start_2019_during=date_start_2020_during-datetime.timedelta(days=52*7)\n",
    "date_end_2019_during=date_end_2020_during-datetime.timedelta(days=52*7)\n",
    "\n",
    "date_start_2019_pre=date_start_2019_during-datetime.timedelta(days=21)\n",
    "date_end_2019_pre=date_end_2019_during-datetime.timedelta(days=21)\n"
   ]
  },
  {
   "cell_type": "code",
   "execution_count": 31,
   "metadata": {},
   "outputs": [
    {
     "name": "stdout",
     "output_type": "stream",
     "text": [
      "2020-12-21 18:05:11.643175\n",
      "2020-11-16 2020-12-02\n",
      "\n",
      "                select trn_id, indiv_key, store_id, invoice_date, \n",
      "                sum(case when product_type_cd='TIRE' then line_item_total_amt else 0 end) as tire_sales,\n",
      "                sum(case when product_type_cd='SERVICE' then line_item_total_amt else 0 end) as service_sales,\n",
      "                sum(case when product_type_cd is null then line_item_total_amt else 0 end) as none_sales \n",
      "                from mdb.trn_detail\n",
      "                where store_id in ('2728', '2178', '2842', '4128', '6227', '0431', '2677', '2750', '4246', '6658', '2724', '2733', '6626', '2248', '4739', '2621', '4328', '8963', '2844', '4738', '2766', '2759', '1224', '2180', '4722', '6258', '4730', '2251', '2777', '6257', '2249', '6568', '6329', '2928', '6325', '4736', '2761', '2680', '8426', '9124', '6661', '4248', '8259', '2523', '0231', '2325', '2654', '0845', '4733', '8836', '6552', '8152', '4330', '2476', '4230', '6641', '2647', '8650', '2424', '2381', '0933', '0544', '1271', '4724', '2755', '6663', '0848', '8766', '0461', '2484', '6644', '8129', '2485', '2521', '2121', '0466', '6272', '6769', '1139', '2450') and invoice_date between '2020-11-16' and '2020-12-02'\n",
      "                group by trn_id, indiv_key, store_id, invoice_date\n",
      "                \n"
     ]
    },
    {
     "name": "stderr",
     "output_type": "stream",
     "text": [
      "/home/jliang/.local/lib/python3.7/site-packages/google/cloud/bigquery/client.py:441: UserWarning: Cannot create BigQuery Storage client, the dependency google-cloud-bigquery-storage is not installed.\n",
      "  \"Cannot create BigQuery Storage client, the dependency \"\n"
     ]
    },
    {
     "name": "stdout",
     "output_type": "stream",
     "text": [
      "(16612, 7) 80\n",
      "2020-12-21 18:05:14.844952\n",
      "2020-11-16 00:00:00 2020-12-02 00:00:00\n",
      "[<class 'str'>]\n",
      "[4]\n",
      "\n",
      "\n",
      "2020-12-21 18:05:14.857849\n",
      "2020-10-26 2020-11-11\n",
      "\n",
      "                select trn_id, indiv_key, store_id, invoice_date, \n",
      "                sum(case when product_type_cd='TIRE' then line_item_total_amt else 0 end) as tire_sales,\n",
      "                sum(case when product_type_cd='SERVICE' then line_item_total_amt else 0 end) as service_sales,\n",
      "                sum(case when product_type_cd is null then line_item_total_amt else 0 end) as none_sales \n",
      "                from mdb.trn_detail\n",
      "                where store_id in ('2728', '2178', '2842', '4128', '6227', '0431', '2677', '2750', '4246', '6658', '2724', '2733', '6626', '2248', '4739', '2621', '4328', '8963', '2844', '4738', '2766', '2759', '1224', '2180', '4722', '6258', '4730', '2251', '2777', '6257', '2249', '6568', '6329', '2928', '6325', '4736', '2761', '2680', '8426', '9124', '6661', '4248', '8259', '2523', '0231', '2325', '2654', '0845', '4733', '8836', '6552', '8152', '4330', '2476', '4230', '6641', '2647', '8650', '2424', '2381', '0933', '0544', '1271', '4724', '2755', '6663', '0848', '8766', '0461', '2484', '6644', '8129', '2485', '2521', '2121', '0466', '6272', '6769', '1139', '2450') and invoice_date between '2020-10-26' and '2020-11-11'\n",
      "                group by trn_id, indiv_key, store_id, invoice_date\n",
      "                \n",
      "(17649, 7) 80\n",
      "2020-12-21 18:05:17.451830\n",
      "2020-10-26 00:00:00 2020-11-11 00:00:00\n",
      "[<class 'str'>]\n",
      "[4]\n",
      "\n",
      "\n",
      "2020-12-21 18:05:17.474228\n",
      "2019-11-18 2019-12-04\n",
      "\n",
      "                select trn_id, indiv_key, store_id, invoice_date, \n",
      "                sum(case when product_type_cd='TIRE' then line_item_total_amt else 0 end) as tire_sales,\n",
      "                sum(case when product_type_cd='SERVICE' then line_item_total_amt else 0 end) as service_sales,\n",
      "                sum(case when product_type_cd is null then line_item_total_amt else 0 end) as none_sales \n",
      "                from mdb.trn_detail\n",
      "                where store_id in ('2728', '2178', '2842', '4128', '6227', '0431', '2677', '2750', '4246', '6658', '2724', '2733', '6626', '2248', '4739', '2621', '4328', '8963', '2844', '4738', '2766', '2759', '1224', '2180', '4722', '6258', '4730', '2251', '2777', '6257', '2249', '6568', '6329', '2928', '6325', '4736', '2761', '2680', '8426', '9124', '6661', '4248', '8259', '2523', '0231', '2325', '2654', '0845', '4733', '8836', '6552', '8152', '4330', '2476', '4230', '6641', '2647', '8650', '2424', '2381', '0933', '0544', '1271', '4724', '2755', '6663', '0848', '8766', '0461', '2484', '6644', '8129', '2485', '2521', '2121', '0466', '6272', '6769', '1139', '2450') and invoice_date between '2019-11-18' and '2019-12-04'\n",
      "                group by trn_id, indiv_key, store_id, invoice_date\n",
      "                \n",
      "(20320, 7) 80\n",
      "2020-12-21 18:05:20.071897\n",
      "2019-11-18 00:00:00 2019-12-04 00:00:00\n",
      "[<class 'str'>]\n",
      "[4]\n",
      "\n",
      "\n",
      "2020-12-21 18:05:20.086735\n",
      "2019-10-28 2019-11-13\n",
      "\n",
      "                select trn_id, indiv_key, store_id, invoice_date, \n",
      "                sum(case when product_type_cd='TIRE' then line_item_total_amt else 0 end) as tire_sales,\n",
      "                sum(case when product_type_cd='SERVICE' then line_item_total_amt else 0 end) as service_sales,\n",
      "                sum(case when product_type_cd is null then line_item_total_amt else 0 end) as none_sales \n",
      "                from mdb.trn_detail\n",
      "                where store_id in ('2728', '2178', '2842', '4128', '6227', '0431', '2677', '2750', '4246', '6658', '2724', '2733', '6626', '2248', '4739', '2621', '4328', '8963', '2844', '4738', '2766', '2759', '1224', '2180', '4722', '6258', '4730', '2251', '2777', '6257', '2249', '6568', '6329', '2928', '6325', '4736', '2761', '2680', '8426', '9124', '6661', '4248', '8259', '2523', '0231', '2325', '2654', '0845', '4733', '8836', '6552', '8152', '4330', '2476', '4230', '6641', '2647', '8650', '2424', '2381', '0933', '0544', '1271', '4724', '2755', '6663', '0848', '8766', '0461', '2484', '6644', '8129', '2485', '2521', '2121', '0466', '6272', '6769', '1139', '2450') and invoice_date between '2019-10-28' and '2019-11-13'\n",
      "                group by trn_id, indiv_key, store_id, invoice_date\n",
      "                \n",
      "(21553, 7) 80\n",
      "2020-12-21 18:05:23.055731\n",
      "2019-10-28 00:00:00 2019-11-13 00:00:00\n",
      "[<class 'str'>]\n",
      "[4]\n",
      "\n",
      "\n"
     ]
    }
   ],
   "source": [
    "df_both_by_trans_during_2020=pull_by_trans_with_date_range_80_stores(date_start_2020_during,date_end_2020_during)\n",
    "print(\"\\n\")\n",
    "df_both_by_trans_pre_2020=pull_by_trans_with_date_range_80_stores(date_start_2020_pre,date_end_2020_pre)\n",
    "print(\"\\n\")\n",
    "df_both_by_trans_during_2019=pull_by_trans_with_date_range_80_stores(date_start_2019_during,date_end_2019_during)\n",
    "print(\"\\n\")\n",
    "df_both_by_trans_pre_2019=pull_by_trans_with_date_range_80_stores(date_start_2019_pre,date_end_2019_pre)\n",
    "print(\"\\n\")"
   ]
  },
  {
   "cell_type": "code",
   "execution_count": 32,
   "metadata": {},
   "outputs": [],
   "source": [
    "df_both_by_trans_during_2020['period']=\"during_2020\"\n",
    "df_both_by_trans_pre_2020['period']=\"pre_2020\"\n",
    "df_both_by_trans_during_2019['period']=\"during_2019\"\n",
    "df_both_by_trans_pre_2019['period']=\"pre_2019\"\n"
   ]
  },
  {
   "cell_type": "code",
   "execution_count": 33,
   "metadata": {},
   "outputs": [
    {
     "data": {
      "text/plain": [
       "(76134, 9)"
      ]
     },
     "execution_count": 33,
     "metadata": {},
     "output_type": "execute_result"
    }
   ],
   "source": [
    "df_both_by_trans=pd.concat([df_both_by_trans_during_2020,df_both_by_trans_pre_2020,df_both_by_trans_during_2019,df_both_by_trans_pre_2019])\n",
    "df_both_by_trans.shape"
   ]
  },
  {
   "cell_type": "code",
   "execution_count": 34,
   "metadata": {},
   "outputs": [],
   "source": [
    "df_both_by_trans['tire_trans']=np.where(df_both_by_trans['tire_sales']>0,1,0)\n",
    "df_both_by_trans['service_trans']=np.where(df_both_by_trans['service_sales']>0,1,0)\n",
    "df_both_by_trans['other_trans']=np.where(df_both_by_trans['tire_trans']==1,0,\n",
    "                                         np.where(df_both_by_trans['service_sales']==1,0,1)\n",
    "                                        )"
   ]
  },
  {
   "cell_type": "code",
   "execution_count": 35,
   "metadata": {},
   "outputs": [],
   "source": [
    "func_agg={\"indiv_key\":\"nunique\",\n",
    "          \"tire_sales\":\"sum\",\"service_sales\":\"sum\",\"none_sales\":\"sum\",\n",
    "          \"tire_trans\":\"sum\",\"service_trans\":\"sum\",\"other_trans\":\"sum\",\n",
    "          \"invoice_date\":\"min\",\"invoice_date\":\"max\"\n",
    "         }"
   ]
  },
  {
   "cell_type": "code",
   "execution_count": 36,
   "metadata": {},
   "outputs": [],
   "source": [
    "df_output_by_store_period=df_both_by_trans.groupby([\"period\",\"group\",\"store_id\"]).agg(func_agg).reset_index()\n",
    "df_output_by_store_period=df_output_by_store_period.rename(columns={\"indiv_key\":\"total_unique_shopper\"})"
   ]
  },
  {
   "cell_type": "code",
   "execution_count": 37,
   "metadata": {},
   "outputs": [],
   "source": [
    "# Per the disscussion, the shopper count per type is by each store in the same period per id, not per transaction \n",
    "df_shoppers_by_type=pd.DataFrame()\n",
    "for period,df_group in df_both_by_trans.groupby(\"period\"):\n",
    "    df_tire=df_group[df_group['tire_sales']>0]\n",
    "    df_tire=df_tire[['period','group','store_id','indiv_key']].drop_duplicates()\n",
    "    df_tire['tire_shopper']=1\n",
    "    \n",
    "    df_service=df_group[df_group['service_sales']>0]\n",
    "    df_service=df_service[['period','group','store_id','indiv_key']].drop_duplicates()\n",
    "    df_service=pd.merge(df_service,df_tire,on=['period','group','store_id','indiv_key'],how=\"left\")\n",
    "    df_service=df_service[df_service['tire_shopper']!=1]\n",
    "    del df_service['tire_shopper']\n",
    "    df_service['service_shopper']=1\n",
    "\n",
    "    \n",
    "    df_tire_count=df_tire.groupby(['period','group','store_id'])['tire_shopper'].sum().to_frame().reset_index()\n",
    "    df_service_count=df_service.groupby(['period','group','store_id'])['service_shopper'].sum().to_frame().reset_index()\n",
    "    df_shopper_count=pd.merge(df_tire_count,df_service_count,on=['period','group','store_id'],how=\"outer\")\n",
    "    df_shopper_count=df_shopper_count.fillna(0)\n",
    "    df_shoppers_by_type=df_shoppers_by_type.append(df_shopper_count)\n",
    "df_output_by_store_period=pd.merge(df_output_by_store_period,df_shoppers_by_type,on=[\"period\",\"group\",\"store_id\"],how=\"left\")\n"
   ]
  },
  {
   "cell_type": "code",
   "execution_count": 38,
   "metadata": {},
   "outputs": [
    {
     "data": {
      "text/html": [
       "<div>\n",
       "<style scoped>\n",
       "    .dataframe tbody tr th:only-of-type {\n",
       "        vertical-align: middle;\n",
       "    }\n",
       "\n",
       "    .dataframe tbody tr th {\n",
       "        vertical-align: top;\n",
       "    }\n",
       "\n",
       "    .dataframe thead th {\n",
       "        text-align: right;\n",
       "    }\n",
       "</style>\n",
       "<table border=\"1\" class=\"dataframe\">\n",
       "  <thead>\n",
       "    <tr style=\"text-align: right;\">\n",
       "      <th></th>\n",
       "      <th>period</th>\n",
       "      <th>group</th>\n",
       "      <th>store_id</th>\n",
       "      <th>total_unique_shopper</th>\n",
       "      <th>tire_sales</th>\n",
       "      <th>service_sales</th>\n",
       "      <th>none_sales</th>\n",
       "      <th>tire_trans</th>\n",
       "      <th>service_trans</th>\n",
       "      <th>other_trans</th>\n",
       "      <th>invoice_date</th>\n",
       "      <th>tire_shopper</th>\n",
       "      <th>service_shopper</th>\n",
       "    </tr>\n",
       "  </thead>\n",
       "  <tbody>\n",
       "    <tr>\n",
       "      <th>0</th>\n",
       "      <td>during_2019</td>\n",
       "      <td>control</td>\n",
       "      <td>0231</td>\n",
       "      <td>138</td>\n",
       "      <td>12734.13</td>\n",
       "      <td>19085.32</td>\n",
       "      <td>0.0</td>\n",
       "      <td>34</td>\n",
       "      <td>95</td>\n",
       "      <td>115</td>\n",
       "      <td>2019-12-04</td>\n",
       "      <td>34</td>\n",
       "      <td>56</td>\n",
       "    </tr>\n",
       "    <tr>\n",
       "      <th>1</th>\n",
       "      <td>during_2019</td>\n",
       "      <td>control</td>\n",
       "      <td>0461</td>\n",
       "      <td>347</td>\n",
       "      <td>46654.05</td>\n",
       "      <td>50474.72</td>\n",
       "      <td>0.0</td>\n",
       "      <td>113</td>\n",
       "      <td>348</td>\n",
       "      <td>337</td>\n",
       "      <td>2019-12-04</td>\n",
       "      <td>91</td>\n",
       "      <td>203</td>\n",
       "    </tr>\n",
       "    <tr>\n",
       "      <th>2</th>\n",
       "      <td>during_2019</td>\n",
       "      <td>control</td>\n",
       "      <td>0466</td>\n",
       "      <td>178</td>\n",
       "      <td>31053.07</td>\n",
       "      <td>15931.64</td>\n",
       "      <td>0.0</td>\n",
       "      <td>59</td>\n",
       "      <td>164</td>\n",
       "      <td>145</td>\n",
       "      <td>2019-12-04</td>\n",
       "      <td>58</td>\n",
       "      <td>93</td>\n",
       "    </tr>\n",
       "    <tr>\n",
       "      <th>3</th>\n",
       "      <td>during_2019</td>\n",
       "      <td>control</td>\n",
       "      <td>0544</td>\n",
       "      <td>285</td>\n",
       "      <td>48070.20</td>\n",
       "      <td>21016.81</td>\n",
       "      <td>0.0</td>\n",
       "      <td>90</td>\n",
       "      <td>216</td>\n",
       "      <td>221</td>\n",
       "      <td>2019-12-04</td>\n",
       "      <td>88</td>\n",
       "      <td>119</td>\n",
       "    </tr>\n",
       "    <tr>\n",
       "      <th>4</th>\n",
       "      <td>during_2019</td>\n",
       "      <td>control</td>\n",
       "      <td>0845</td>\n",
       "      <td>202</td>\n",
       "      <td>27784.04</td>\n",
       "      <td>27787.12</td>\n",
       "      <td>0.0</td>\n",
       "      <td>68</td>\n",
       "      <td>188</td>\n",
       "      <td>150</td>\n",
       "      <td>2019-12-04</td>\n",
       "      <td>67</td>\n",
       "      <td>107</td>\n",
       "    </tr>\n",
       "    <tr>\n",
       "      <th>...</th>\n",
       "      <td>...</td>\n",
       "      <td>...</td>\n",
       "      <td>...</td>\n",
       "      <td>...</td>\n",
       "      <td>...</td>\n",
       "      <td>...</td>\n",
       "      <td>...</td>\n",
       "      <td>...</td>\n",
       "      <td>...</td>\n",
       "      <td>...</td>\n",
       "      <td>...</td>\n",
       "      <td>...</td>\n",
       "      <td>...</td>\n",
       "    </tr>\n",
       "    <tr>\n",
       "      <th>315</th>\n",
       "      <td>pre_2020</td>\n",
       "      <td>test</td>\n",
       "      <td>6626</td>\n",
       "      <td>208</td>\n",
       "      <td>27953.03</td>\n",
       "      <td>33253.43</td>\n",
       "      <td>0.0</td>\n",
       "      <td>62</td>\n",
       "      <td>183</td>\n",
       "      <td>177</td>\n",
       "      <td>2020-11-11</td>\n",
       "      <td>58</td>\n",
       "      <td>107</td>\n",
       "    </tr>\n",
       "    <tr>\n",
       "      <th>316</th>\n",
       "      <td>pre_2020</td>\n",
       "      <td>test</td>\n",
       "      <td>6658</td>\n",
       "      <td>177</td>\n",
       "      <td>21808.68</td>\n",
       "      <td>39457.86</td>\n",
       "      <td>0.0</td>\n",
       "      <td>45</td>\n",
       "      <td>160</td>\n",
       "      <td>149</td>\n",
       "      <td>2020-11-11</td>\n",
       "      <td>43</td>\n",
       "      <td>107</td>\n",
       "    </tr>\n",
       "    <tr>\n",
       "      <th>317</th>\n",
       "      <td>pre_2020</td>\n",
       "      <td>test</td>\n",
       "      <td>8426</td>\n",
       "      <td>216</td>\n",
       "      <td>39468.23</td>\n",
       "      <td>44868.76</td>\n",
       "      <td>0.0</td>\n",
       "      <td>66</td>\n",
       "      <td>204</td>\n",
       "      <td>193</td>\n",
       "      <td>2020-11-11</td>\n",
       "      <td>64</td>\n",
       "      <td>113</td>\n",
       "    </tr>\n",
       "    <tr>\n",
       "      <th>318</th>\n",
       "      <td>pre_2020</td>\n",
       "      <td>test</td>\n",
       "      <td>8963</td>\n",
       "      <td>208</td>\n",
       "      <td>24175.96</td>\n",
       "      <td>20618.04</td>\n",
       "      <td>0.0</td>\n",
       "      <td>64</td>\n",
       "      <td>179</td>\n",
       "      <td>167</td>\n",
       "      <td>2020-11-11</td>\n",
       "      <td>63</td>\n",
       "      <td>107</td>\n",
       "    </tr>\n",
       "    <tr>\n",
       "      <th>319</th>\n",
       "      <td>pre_2020</td>\n",
       "      <td>test</td>\n",
       "      <td>9124</td>\n",
       "      <td>153</td>\n",
       "      <td>42715.30</td>\n",
       "      <td>28524.48</td>\n",
       "      <td>829.7</td>\n",
       "      <td>72</td>\n",
       "      <td>142</td>\n",
       "      <td>132</td>\n",
       "      <td>2020-11-11</td>\n",
       "      <td>52</td>\n",
       "      <td>75</td>\n",
       "    </tr>\n",
       "  </tbody>\n",
       "</table>\n",
       "<p>320 rows × 13 columns</p>\n",
       "</div>"
      ],
      "text/plain": [
       "          period    group store_id  total_unique_shopper  tire_sales  \\\n",
       "0    during_2019  control     0231                   138    12734.13   \n",
       "1    during_2019  control     0461                   347    46654.05   \n",
       "2    during_2019  control     0466                   178    31053.07   \n",
       "3    during_2019  control     0544                   285    48070.20   \n",
       "4    during_2019  control     0845                   202    27784.04   \n",
       "..           ...      ...      ...                   ...         ...   \n",
       "315     pre_2020     test     6626                   208    27953.03   \n",
       "316     pre_2020     test     6658                   177    21808.68   \n",
       "317     pre_2020     test     8426                   216    39468.23   \n",
       "318     pre_2020     test     8963                   208    24175.96   \n",
       "319     pre_2020     test     9124                   153    42715.30   \n",
       "\n",
       "     service_sales  none_sales  tire_trans  service_trans  other_trans  \\\n",
       "0         19085.32         0.0          34             95          115   \n",
       "1         50474.72         0.0         113            348          337   \n",
       "2         15931.64         0.0          59            164          145   \n",
       "3         21016.81         0.0          90            216          221   \n",
       "4         27787.12         0.0          68            188          150   \n",
       "..             ...         ...         ...            ...          ...   \n",
       "315       33253.43         0.0          62            183          177   \n",
       "316       39457.86         0.0          45            160          149   \n",
       "317       44868.76         0.0          66            204          193   \n",
       "318       20618.04         0.0          64            179          167   \n",
       "319       28524.48       829.7          72            142          132   \n",
       "\n",
       "    invoice_date  tire_shopper  service_shopper  \n",
       "0     2019-12-04            34               56  \n",
       "1     2019-12-04            91              203  \n",
       "2     2019-12-04            58               93  \n",
       "3     2019-12-04            88              119  \n",
       "4     2019-12-04            67              107  \n",
       "..           ...           ...              ...  \n",
       "315   2020-11-11            58              107  \n",
       "316   2020-11-11            43              107  \n",
       "317   2020-11-11            64              113  \n",
       "318   2020-11-11            63              107  \n",
       "319   2020-11-11            52               75  \n",
       "\n",
       "[320 rows x 13 columns]"
      ]
     },
     "execution_count": 38,
     "metadata": {},
     "output_type": "execute_result"
    }
   ],
   "source": [
    "df_output_by_store_period"
   ]
  },
  {
   "cell_type": "code",
   "execution_count": 39,
   "metadata": {},
   "outputs": [
    {
     "data": {
      "text/plain": [
       "(149, 12)"
      ]
     },
     "execution_count": 39,
     "metadata": {},
     "output_type": "execute_result"
    }
   ],
   "source": [
    "# QC below\n",
    "\n",
    "df=df_both_by_trans[df_both_by_trans['period']==\"during_2019\"]\n",
    "df=df[df['store_id']==\"0231\"]\n",
    "df.shape"
   ]
  },
  {
   "cell_type": "code",
   "execution_count": 40,
   "metadata": {},
   "outputs": [
    {
     "data": {
      "text/html": [
       "<div>\n",
       "<style scoped>\n",
       "    .dataframe tbody tr th:only-of-type {\n",
       "        vertical-align: middle;\n",
       "    }\n",
       "\n",
       "    .dataframe tbody tr th {\n",
       "        vertical-align: top;\n",
       "    }\n",
       "\n",
       "    .dataframe thead th {\n",
       "        text-align: right;\n",
       "    }\n",
       "</style>\n",
       "<table border=\"1\" class=\"dataframe\">\n",
       "  <thead>\n",
       "    <tr style=\"text-align: right;\">\n",
       "      <th></th>\n",
       "      <th>trn_id</th>\n",
       "      <th>indiv_key</th>\n",
       "      <th>store_id</th>\n",
       "      <th>invoice_date</th>\n",
       "      <th>tire_sales</th>\n",
       "      <th>service_sales</th>\n",
       "      <th>none_sales</th>\n",
       "      <th>group</th>\n",
       "      <th>period</th>\n",
       "      <th>tire_trans</th>\n",
       "      <th>service_trans</th>\n",
       "      <th>other_trans</th>\n",
       "    </tr>\n",
       "  </thead>\n",
       "  <tbody>\n",
       "    <tr>\n",
       "      <th>0</th>\n",
       "      <td>191892201911180231</td>\n",
       "      <td>1.222781e+15</td>\n",
       "      <td>0231</td>\n",
       "      <td>2019-11-18</td>\n",
       "      <td>0.00</td>\n",
       "      <td>0.00</td>\n",
       "      <td>0.0</td>\n",
       "      <td>control</td>\n",
       "      <td>during_2019</td>\n",
       "      <td>0</td>\n",
       "      <td>0</td>\n",
       "      <td>1</td>\n",
       "    </tr>\n",
       "    <tr>\n",
       "      <th>1</th>\n",
       "      <td>191952201911250231</td>\n",
       "      <td>1.222781e+15</td>\n",
       "      <td>0231</td>\n",
       "      <td>2019-11-25</td>\n",
       "      <td>0.00</td>\n",
       "      <td>1149.48</td>\n",
       "      <td>0.0</td>\n",
       "      <td>control</td>\n",
       "      <td>during_2019</td>\n",
       "      <td>0</td>\n",
       "      <td>1</td>\n",
       "      <td>1</td>\n",
       "    </tr>\n",
       "    <tr>\n",
       "      <th>2</th>\n",
       "      <td>192004201911290231</td>\n",
       "      <td>8.330131e+15</td>\n",
       "      <td>0231</td>\n",
       "      <td>2019-11-29</td>\n",
       "      <td>0.00</td>\n",
       "      <td>0.00</td>\n",
       "      <td>0.0</td>\n",
       "      <td>control</td>\n",
       "      <td>during_2019</td>\n",
       "      <td>0</td>\n",
       "      <td>0</td>\n",
       "      <td>1</td>\n",
       "    </tr>\n",
       "    <tr>\n",
       "      <th>3</th>\n",
       "      <td>191942201911220231</td>\n",
       "      <td>8.229531e+15</td>\n",
       "      <td>0231</td>\n",
       "      <td>2019-11-22</td>\n",
       "      <td>0.00</td>\n",
       "      <td>240.24</td>\n",
       "      <td>0.0</td>\n",
       "      <td>control</td>\n",
       "      <td>during_2019</td>\n",
       "      <td>0</td>\n",
       "      <td>1</td>\n",
       "      <td>1</td>\n",
       "    </tr>\n",
       "    <tr>\n",
       "      <th>4</th>\n",
       "      <td>191918201911210231</td>\n",
       "      <td>1.222780e+15</td>\n",
       "      <td>0231</td>\n",
       "      <td>2019-11-21</td>\n",
       "      <td>0.00</td>\n",
       "      <td>1526.80</td>\n",
       "      <td>0.0</td>\n",
       "      <td>control</td>\n",
       "      <td>during_2019</td>\n",
       "      <td>0</td>\n",
       "      <td>1</td>\n",
       "      <td>1</td>\n",
       "    </tr>\n",
       "    <tr>\n",
       "      <th>...</th>\n",
       "      <td>...</td>\n",
       "      <td>...</td>\n",
       "      <td>...</td>\n",
       "      <td>...</td>\n",
       "      <td>...</td>\n",
       "      <td>...</td>\n",
       "      <td>...</td>\n",
       "      <td>...</td>\n",
       "      <td>...</td>\n",
       "      <td>...</td>\n",
       "      <td>...</td>\n",
       "      <td>...</td>\n",
       "    </tr>\n",
       "    <tr>\n",
       "      <th>144</th>\n",
       "      <td>192043201912040231</td>\n",
       "      <td>1.222780e+15</td>\n",
       "      <td>0231</td>\n",
       "      <td>2019-12-04</td>\n",
       "      <td>273.98</td>\n",
       "      <td>148.90</td>\n",
       "      <td>0.0</td>\n",
       "      <td>control</td>\n",
       "      <td>during_2019</td>\n",
       "      <td>1</td>\n",
       "      <td>1</td>\n",
       "      <td>0</td>\n",
       "    </tr>\n",
       "    <tr>\n",
       "      <th>145</th>\n",
       "      <td>191922201911210231</td>\n",
       "      <td>1.222782e+15</td>\n",
       "      <td>0231</td>\n",
       "      <td>2019-11-21</td>\n",
       "      <td>0.00</td>\n",
       "      <td>0.00</td>\n",
       "      <td>0.0</td>\n",
       "      <td>control</td>\n",
       "      <td>during_2019</td>\n",
       "      <td>0</td>\n",
       "      <td>0</td>\n",
       "      <td>1</td>\n",
       "    </tr>\n",
       "    <tr>\n",
       "      <th>146</th>\n",
       "      <td>191927201911230231</td>\n",
       "      <td>1.222782e+15</td>\n",
       "      <td>0231</td>\n",
       "      <td>2019-11-23</td>\n",
       "      <td>0.00</td>\n",
       "      <td>88.00</td>\n",
       "      <td>0.0</td>\n",
       "      <td>control</td>\n",
       "      <td>during_2019</td>\n",
       "      <td>0</td>\n",
       "      <td>1</td>\n",
       "      <td>1</td>\n",
       "    </tr>\n",
       "    <tr>\n",
       "      <th>147</th>\n",
       "      <td>191980201911260231</td>\n",
       "      <td>8.243712e+15</td>\n",
       "      <td>0231</td>\n",
       "      <td>2019-11-26</td>\n",
       "      <td>0.00</td>\n",
       "      <td>65.00</td>\n",
       "      <td>0.0</td>\n",
       "      <td>control</td>\n",
       "      <td>during_2019</td>\n",
       "      <td>0</td>\n",
       "      <td>1</td>\n",
       "      <td>1</td>\n",
       "    </tr>\n",
       "    <tr>\n",
       "      <th>148</th>\n",
       "      <td>191978201911260231</td>\n",
       "      <td>8.286941e+15</td>\n",
       "      <td>0231</td>\n",
       "      <td>2019-11-26</td>\n",
       "      <td>117.99</td>\n",
       "      <td>0.00</td>\n",
       "      <td>0.0</td>\n",
       "      <td>control</td>\n",
       "      <td>during_2019</td>\n",
       "      <td>1</td>\n",
       "      <td>0</td>\n",
       "      <td>0</td>\n",
       "    </tr>\n",
       "  </tbody>\n",
       "</table>\n",
       "<p>149 rows × 12 columns</p>\n",
       "</div>"
      ],
      "text/plain": [
       "                 trn_id     indiv_key store_id invoice_date  tire_sales  \\\n",
       "0    191892201911180231  1.222781e+15     0231   2019-11-18        0.00   \n",
       "1    191952201911250231  1.222781e+15     0231   2019-11-25        0.00   \n",
       "2    192004201911290231  8.330131e+15     0231   2019-11-29        0.00   \n",
       "3    191942201911220231  8.229531e+15     0231   2019-11-22        0.00   \n",
       "4    191918201911210231  1.222780e+15     0231   2019-11-21        0.00   \n",
       "..                  ...           ...      ...          ...         ...   \n",
       "144  192043201912040231  1.222780e+15     0231   2019-12-04      273.98   \n",
       "145  191922201911210231  1.222782e+15     0231   2019-11-21        0.00   \n",
       "146  191927201911230231  1.222782e+15     0231   2019-11-23        0.00   \n",
       "147  191980201911260231  8.243712e+15     0231   2019-11-26        0.00   \n",
       "148  191978201911260231  8.286941e+15     0231   2019-11-26      117.99   \n",
       "\n",
       "     service_sales  none_sales    group       period  tire_trans  \\\n",
       "0             0.00         0.0  control  during_2019           0   \n",
       "1          1149.48         0.0  control  during_2019           0   \n",
       "2             0.00         0.0  control  during_2019           0   \n",
       "3           240.24         0.0  control  during_2019           0   \n",
       "4          1526.80         0.0  control  during_2019           0   \n",
       "..             ...         ...      ...          ...         ...   \n",
       "144         148.90         0.0  control  during_2019           1   \n",
       "145           0.00         0.0  control  during_2019           0   \n",
       "146          88.00         0.0  control  during_2019           0   \n",
       "147          65.00         0.0  control  during_2019           0   \n",
       "148           0.00         0.0  control  during_2019           1   \n",
       "\n",
       "     service_trans  other_trans  \n",
       "0                0            1  \n",
       "1                1            1  \n",
       "2                0            1  \n",
       "3                1            1  \n",
       "4                1            1  \n",
       "..             ...          ...  \n",
       "144              1            0  \n",
       "145              0            1  \n",
       "146              1            1  \n",
       "147              1            1  \n",
       "148              0            0  \n",
       "\n",
       "[149 rows x 12 columns]"
      ]
     },
     "execution_count": 40,
     "metadata": {},
     "output_type": "execute_result"
    }
   ],
   "source": [
    "df"
   ]
  },
  {
   "cell_type": "code",
   "execution_count": 41,
   "metadata": {},
   "outputs": [
    {
     "data": {
      "text/plain": [
       "138"
      ]
     },
     "execution_count": 41,
     "metadata": {},
     "output_type": "execute_result"
    }
   ],
   "source": [
    "df['indiv_key'].nunique()"
   ]
  },
  {
   "cell_type": "code",
   "execution_count": 42,
   "metadata": {},
   "outputs": [
    {
     "data": {
      "text/plain": [
       "1222781397000741.0"
      ]
     },
     "execution_count": 42,
     "metadata": {},
     "output_type": "execute_result"
    }
   ],
   "source": [
    "df_qc=df[(df['tire_sales']<=0) & (df['service_sales']<=0)]\n",
    "df_qc['indiv_key'][0]"
   ]
  },
  {
   "cell_type": "code",
   "execution_count": 43,
   "metadata": {},
   "outputs": [
    {
     "data": {
      "text/html": [
       "<div>\n",
       "<style scoped>\n",
       "    .dataframe tbody tr th:only-of-type {\n",
       "        vertical-align: middle;\n",
       "    }\n",
       "\n",
       "    .dataframe tbody tr th {\n",
       "        vertical-align: top;\n",
       "    }\n",
       "\n",
       "    .dataframe thead th {\n",
       "        text-align: right;\n",
       "    }\n",
       "</style>\n",
       "<table border=\"1\" class=\"dataframe\">\n",
       "  <thead>\n",
       "    <tr style=\"text-align: right;\">\n",
       "      <th></th>\n",
       "      <th>trn_id</th>\n",
       "      <th>indiv_key</th>\n",
       "      <th>store_id</th>\n",
       "      <th>invoice_date</th>\n",
       "      <th>tire_sales</th>\n",
       "      <th>service_sales</th>\n",
       "      <th>none_sales</th>\n",
       "      <th>group</th>\n",
       "      <th>period</th>\n",
       "      <th>tire_trans</th>\n",
       "      <th>service_trans</th>\n",
       "      <th>other_trans</th>\n",
       "    </tr>\n",
       "  </thead>\n",
       "  <tbody>\n",
       "    <tr>\n",
       "      <th>0</th>\n",
       "      <td>191892201911180231</td>\n",
       "      <td>1.222781e+15</td>\n",
       "      <td>0231</td>\n",
       "      <td>2019-11-18</td>\n",
       "      <td>0.0</td>\n",
       "      <td>0.0</td>\n",
       "      <td>0.0</td>\n",
       "      <td>control</td>\n",
       "      <td>during_2019</td>\n",
       "      <td>0</td>\n",
       "      <td>0</td>\n",
       "      <td>1</td>\n",
       "    </tr>\n",
       "    <tr>\n",
       "      <th>2</th>\n",
       "      <td>192004201911290231</td>\n",
       "      <td>8.330131e+15</td>\n",
       "      <td>0231</td>\n",
       "      <td>2019-11-29</td>\n",
       "      <td>0.0</td>\n",
       "      <td>0.0</td>\n",
       "      <td>0.0</td>\n",
       "      <td>control</td>\n",
       "      <td>during_2019</td>\n",
       "      <td>0</td>\n",
       "      <td>0</td>\n",
       "      <td>1</td>\n",
       "    </tr>\n",
       "  </tbody>\n",
       "</table>\n",
       "</div>"
      ],
      "text/plain": [
       "               trn_id     indiv_key store_id invoice_date  tire_sales  \\\n",
       "0  191892201911180231  1.222781e+15     0231   2019-11-18         0.0   \n",
       "2  192004201911290231  8.330131e+15     0231   2019-11-29         0.0   \n",
       "\n",
       "   service_sales  none_sales    group       period  tire_trans  service_trans  \\\n",
       "0            0.0         0.0  control  during_2019           0              0   \n",
       "2            0.0         0.0  control  during_2019           0              0   \n",
       "\n",
       "   other_trans  \n",
       "0            1  \n",
       "2            1  "
      ]
     },
     "execution_count": 43,
     "metadata": {},
     "output_type": "execute_result"
    }
   ],
   "source": [
    "df_qc.head(2)"
   ]
  },
  {
   "cell_type": "code",
   "execution_count": 44,
   "metadata": {},
   "outputs": [
    {
     "data": {
      "text/html": [
       "<div>\n",
       "<style scoped>\n",
       "    .dataframe tbody tr th:only-of-type {\n",
       "        vertical-align: middle;\n",
       "    }\n",
       "\n",
       "    .dataframe tbody tr th {\n",
       "        vertical-align: top;\n",
       "    }\n",
       "\n",
       "    .dataframe thead th {\n",
       "        text-align: right;\n",
       "    }\n",
       "</style>\n",
       "<table border=\"1\" class=\"dataframe\">\n",
       "  <thead>\n",
       "    <tr style=\"text-align: right;\">\n",
       "      <th></th>\n",
       "      <th>trn_id</th>\n",
       "      <th>indiv_key</th>\n",
       "      <th>store_id</th>\n",
       "      <th>invoice_date</th>\n",
       "      <th>tire_sales</th>\n",
       "      <th>service_sales</th>\n",
       "      <th>none_sales</th>\n",
       "      <th>group</th>\n",
       "      <th>period</th>\n",
       "      <th>tire_trans</th>\n",
       "      <th>service_trans</th>\n",
       "      <th>other_trans</th>\n",
       "    </tr>\n",
       "  </thead>\n",
       "  <tbody>\n",
       "    <tr>\n",
       "      <th>0</th>\n",
       "      <td>191892201911180231</td>\n",
       "      <td>1.222781e+15</td>\n",
       "      <td>0231</td>\n",
       "      <td>2019-11-18</td>\n",
       "      <td>0.0</td>\n",
       "      <td>0.0</td>\n",
       "      <td>0.0</td>\n",
       "      <td>control</td>\n",
       "      <td>during_2019</td>\n",
       "      <td>0</td>\n",
       "      <td>0</td>\n",
       "      <td>1</td>\n",
       "    </tr>\n",
       "  </tbody>\n",
       "</table>\n",
       "</div>"
      ],
      "text/plain": [
       "               trn_id     indiv_key store_id invoice_date  tire_sales  \\\n",
       "0  191892201911180231  1.222781e+15     0231   2019-11-18         0.0   \n",
       "\n",
       "   service_sales  none_sales    group       period  tire_trans  service_trans  \\\n",
       "0            0.0         0.0  control  during_2019           0              0   \n",
       "\n",
       "   other_trans  \n",
       "0            1  "
      ]
     },
     "execution_count": 44,
     "metadata": {},
     "output_type": "execute_result"
    }
   ],
   "source": [
    "df_both_by_trans[df_both_by_trans['trn_id']==\"191892201911180231\"]\n",
    "\n",
    "# To show YG"
   ]
  },
  {
   "cell_type": "code",
   "execution_count": 45,
   "metadata": {},
   "outputs": [],
   "source": [
    "writer=pd.ExcelWriter(\"./GY_2020_Nov_Pilot_campaign_performance_JL_%s.xlsx\"%str(datetime.datetime.now().date()),engine=\"xlsxwriter\")\n",
    "df_output_audience_both.to_excel(writer,\"audience_by_group_both\",index=False)\n",
    "df_output_audience_tireonly.to_excel(writer,\"audience_by_group_tireonly\",index=False)\n",
    "\n",
    "df_both_by_trans.to_excel(writer,\"trans_detail\",index=False)\n",
    "df_output_by_store_period.to_excel(writer,\"store_by_each_period\",index=False)\n",
    "\n",
    "writer.save()"
   ]
  },
  {
   "cell_type": "code",
   "execution_count": 46,
   "metadata": {},
   "outputs": [
    {
     "data": {
      "text/plain": [
       "(76134, 12)"
      ]
     },
     "execution_count": 46,
     "metadata": {},
     "output_type": "execute_result"
    }
   ],
   "source": [
    "df_both_by_trans.shape"
   ]
  },
  {
   "cell_type": "code",
   "execution_count": null,
   "metadata": {},
   "outputs": [],
   "source": []
  }
 ],
 "metadata": {
  "kernelspec": {
   "display_name": "Python 3",
   "language": "python",
   "name": "python3"
  },
  "language_info": {
   "codemirror_mode": {
    "name": "ipython",
    "version": 3
   },
   "file_extension": ".py",
   "mimetype": "text/x-python",
   "name": "python",
   "nbconvert_exporter": "python",
   "pygments_lexer": "ipython3",
   "version": "3.7.6"
  }
 },
 "nbformat": 4,
 "nbformat_minor": 4
}
