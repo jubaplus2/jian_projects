{
 "cells": [
  {
   "cell_type": "code",
   "execution_count": 1,
   "metadata": {},
   "outputs": [],
   "source": [
    "import paramiko\n"
   ]
  },
  {
   "cell_type": "code",
   "execution_count": 2,
   "metadata": {},
   "outputs": [],
   "source": [
    "host = \"107.191.32.220\" #hard-coded\n",
    "port = 22\n",
    "transport = paramiko.Transport((host, port))\n",
    "\n",
    "password = \"vgn5UucsUNHL4n9R\" #hard-coded\n",
    "username = \"biglots_data\" #hard-coded\n",
    "transport.connect(username = username, password = password)\n",
    "sftp = paramiko.SFTPClient.from_transport(transport)"
   ]
  },
  {
   "cell_type": "code",
   "execution_count": 3,
   "metadata": {},
   "outputs": [],
   "source": [
    "remote_file=\"/mnt/drv5/biglots_data/9_Grid_MS 62420.zip\"\n",
    "local_file=\"./9_Grid_MS 62420.zip\"\n",
    "sftp.get(remote_file,local_file)\n",
    "sftp.close()\n",
    "transport.close()"
   ]
  },
  {
   "cell_type": "code",
   "execution_count": 4,
   "metadata": {},
   "outputs": [],
   "source": [
    "import zipfile\n",
    "with zipfile.ZipFile(local_file, 'r') as zip_ref:\n",
    "    zip_ref.extractall(\"./\")"
   ]
  },
  {
   "cell_type": "code",
   "execution_count": 1,
   "metadata": {},
   "outputs": [],
   "source": [
    "import pandas as pd\n",
    "import numpy as np\n",
    "import datetime\n",
    "import glob\n",
    "import os"
   ]
  },
  {
   "cell_type": "code",
   "execution_count": 2,
   "metadata": {},
   "outputs": [
    {
     "data": {
      "text/plain": [
       "['./files for MS 62420/high_low.txt',\n",
       " './files for MS 62420/high_med.txt',\n",
       " './files for MS 62420/low_high.txt',\n",
       " './files for MS 62420/low_low.txt',\n",
       " './files for MS 62420/low_med.txt',\n",
       " './files for MS 62420/med_high.txt',\n",
       " './files for MS 62420/med_low.txt']"
      ]
     },
     "execution_count": 2,
     "metadata": {},
     "output_type": "execute_result"
    }
   ],
   "source": [
    "list_new_7_audience=glob.glob(\"./files for MS 62420/*\")\n",
    "list_new_7_audience"
   ]
  },
  {
   "cell_type": "code",
   "execution_count": 3,
   "metadata": {},
   "outputs": [],
   "source": [
    "df_all_7_new=pd.DataFrame(columns={\"hashed_email_address\"})\n",
    "\n",
    "for file in list_new_7_audience:\n",
    "    seg_name=os.path.basename(file).split(\".\")[0]\n",
    "    df=pd.read_table(file,dtype=str,sep=\"\\t\",usecols=[\"hashed_email_address\"]).drop_duplicates()\n",
    "    df['BL_Rewards_2020_Q2_%s'%seg_name]=1\n",
    "    df_all_7_new=pd.merge(df_all_7_new,df,on=\"hashed_email_address\",how=\"outer\")"
   ]
  },
  {
   "cell_type": "code",
   "execution_count": 4,
   "metadata": {},
   "outputs": [
    {
     "data": {
      "text/html": [
       "<div>\n",
       "<style scoped>\n",
       "    .dataframe tbody tr th:only-of-type {\n",
       "        vertical-align: middle;\n",
       "    }\n",
       "\n",
       "    .dataframe tbody tr th {\n",
       "        vertical-align: top;\n",
       "    }\n",
       "\n",
       "    .dataframe thead th {\n",
       "        text-align: right;\n",
       "    }\n",
       "</style>\n",
       "<table border=\"1\" class=\"dataframe\">\n",
       "  <thead>\n",
       "    <tr style=\"text-align: right;\">\n",
       "      <th></th>\n",
       "      <th>hashed_email_address</th>\n",
       "      <th>BL_Rewards_2020_Q2_high_low</th>\n",
       "      <th>BL_Rewards_2020_Q2_high_med</th>\n",
       "      <th>BL_Rewards_2020_Q2_low_high</th>\n",
       "      <th>BL_Rewards_2020_Q2_low_low</th>\n",
       "      <th>BL_Rewards_2020_Q2_low_med</th>\n",
       "      <th>BL_Rewards_2020_Q2_med_high</th>\n",
       "      <th>BL_Rewards_2020_Q2_med_low</th>\n",
       "    </tr>\n",
       "  </thead>\n",
       "  <tbody>\n",
       "    <tr>\n",
       "      <th>0</th>\n",
       "      <td>423f405e0847f7f7c80ece75bfc3955afd55eaa1b49ddb...</td>\n",
       "      <td>1.0</td>\n",
       "      <td>NaN</td>\n",
       "      <td>NaN</td>\n",
       "      <td>NaN</td>\n",
       "      <td>NaN</td>\n",
       "      <td>NaN</td>\n",
       "      <td>NaN</td>\n",
       "    </tr>\n",
       "    <tr>\n",
       "      <th>1</th>\n",
       "      <td>940897f0ef4ac120001f924752a010a69c966364c37de0...</td>\n",
       "      <td>1.0</td>\n",
       "      <td>NaN</td>\n",
       "      <td>NaN</td>\n",
       "      <td>NaN</td>\n",
       "      <td>NaN</td>\n",
       "      <td>NaN</td>\n",
       "      <td>NaN</td>\n",
       "    </tr>\n",
       "  </tbody>\n",
       "</table>\n",
       "</div>"
      ],
      "text/plain": [
       "                                hashed_email_address  \\\n",
       "0  423f405e0847f7f7c80ece75bfc3955afd55eaa1b49ddb...   \n",
       "1  940897f0ef4ac120001f924752a010a69c966364c37de0...   \n",
       "\n",
       "   BL_Rewards_2020_Q2_high_low  BL_Rewards_2020_Q2_high_med  \\\n",
       "0                          1.0                          NaN   \n",
       "1                          1.0                          NaN   \n",
       "\n",
       "   BL_Rewards_2020_Q2_low_high  BL_Rewards_2020_Q2_low_low  \\\n",
       "0                          NaN                         NaN   \n",
       "1                          NaN                         NaN   \n",
       "\n",
       "   BL_Rewards_2020_Q2_low_med  BL_Rewards_2020_Q2_med_high  \\\n",
       "0                         NaN                          NaN   \n",
       "1                         NaN                          NaN   \n",
       "\n",
       "   BL_Rewards_2020_Q2_med_low  \n",
       "0                         NaN  \n",
       "1                         NaN  "
      ]
     },
     "execution_count": 4,
     "metadata": {},
     "output_type": "execute_result"
    }
   ],
   "source": [
    "df_all_7_new.head(2)"
   ]
  },
  {
   "cell_type": "code",
   "execution_count": 5,
   "metadata": {},
   "outputs": [],
   "source": [
    "df_all_7_new=df_all_7_new.fillna(0)\n",
    "for col in df_all_7_new.columns.tolist()[1:]:\n",
    "    df_all_7_new[col]=df_all_7_new[col].astype(int)\n",
    "df_all_7_new=df_all_7_new.rename(columns={\"hashed_email_address\":\"Email_Address\"})"
   ]
  },
  {
   "cell_type": "code",
   "execution_count": 6,
   "metadata": {},
   "outputs": [
    {
     "data": {
      "text/html": [
       "<div>\n",
       "<style scoped>\n",
       "    .dataframe tbody tr th:only-of-type {\n",
       "        vertical-align: middle;\n",
       "    }\n",
       "\n",
       "    .dataframe tbody tr th {\n",
       "        vertical-align: top;\n",
       "    }\n",
       "\n",
       "    .dataframe thead th {\n",
       "        text-align: right;\n",
       "    }\n",
       "</style>\n",
       "<table border=\"1\" class=\"dataframe\">\n",
       "  <thead>\n",
       "    <tr style=\"text-align: right;\">\n",
       "      <th></th>\n",
       "      <th>Email_Address</th>\n",
       "      <th>BL_Rewards_2020_Q2_high_low</th>\n",
       "      <th>BL_Rewards_2020_Q2_high_med</th>\n",
       "      <th>BL_Rewards_2020_Q2_low_high</th>\n",
       "      <th>BL_Rewards_2020_Q2_low_low</th>\n",
       "      <th>BL_Rewards_2020_Q2_low_med</th>\n",
       "      <th>BL_Rewards_2020_Q2_med_high</th>\n",
       "      <th>BL_Rewards_2020_Q2_med_low</th>\n",
       "    </tr>\n",
       "  </thead>\n",
       "  <tbody>\n",
       "    <tr>\n",
       "      <th>6201527</th>\n",
       "      <td>fe54541fddb5042fa26d7bb029df386860824fe2565955...</td>\n",
       "      <td>0</td>\n",
       "      <td>0</td>\n",
       "      <td>0</td>\n",
       "      <td>0</td>\n",
       "      <td>0</td>\n",
       "      <td>0</td>\n",
       "      <td>1</td>\n",
       "    </tr>\n",
       "    <tr>\n",
       "      <th>6201528</th>\n",
       "      <td>eeb54e6d28841391e715e90cbb2c93436856bb9c9ae864...</td>\n",
       "      <td>0</td>\n",
       "      <td>0</td>\n",
       "      <td>0</td>\n",
       "      <td>0</td>\n",
       "      <td>0</td>\n",
       "      <td>0</td>\n",
       "      <td>1</td>\n",
       "    </tr>\n",
       "    <tr>\n",
       "      <th>6201529</th>\n",
       "      <td>d72c6b778db27dc1059da2188b324a1a2190b45e1ea51b...</td>\n",
       "      <td>0</td>\n",
       "      <td>0</td>\n",
       "      <td>0</td>\n",
       "      <td>0</td>\n",
       "      <td>0</td>\n",
       "      <td>0</td>\n",
       "      <td>1</td>\n",
       "    </tr>\n",
       "  </tbody>\n",
       "</table>\n",
       "</div>"
      ],
      "text/plain": [
       "                                             Email_Address  \\\n",
       "6201527  fe54541fddb5042fa26d7bb029df386860824fe2565955...   \n",
       "6201528  eeb54e6d28841391e715e90cbb2c93436856bb9c9ae864...   \n",
       "6201529  d72c6b778db27dc1059da2188b324a1a2190b45e1ea51b...   \n",
       "\n",
       "         BL_Rewards_2020_Q2_high_low  BL_Rewards_2020_Q2_high_med  \\\n",
       "6201527                            0                            0   \n",
       "6201528                            0                            0   \n",
       "6201529                            0                            0   \n",
       "\n",
       "         BL_Rewards_2020_Q2_low_high  BL_Rewards_2020_Q2_low_low  \\\n",
       "6201527                            0                           0   \n",
       "6201528                            0                           0   \n",
       "6201529                            0                           0   \n",
       "\n",
       "         BL_Rewards_2020_Q2_low_med  BL_Rewards_2020_Q2_med_high  \\\n",
       "6201527                           0                            0   \n",
       "6201528                           0                            0   \n",
       "6201529                           0                            0   \n",
       "\n",
       "         BL_Rewards_2020_Q2_med_low  \n",
       "6201527                           1  \n",
       "6201528                           1  \n",
       "6201529                           1  "
      ]
     },
     "execution_count": 6,
     "metadata": {},
     "output_type": "execute_result"
    }
   ],
   "source": [
    "df_all_7_new.tail(3)"
   ]
  },
  {
   "cell_type": "code",
   "execution_count": 7,
   "metadata": {},
   "outputs": [
    {
     "data": {
      "text/plain": [
       "((6201530, 8), 6201530)"
      ]
     },
     "execution_count": 7,
     "metadata": {},
     "output_type": "execute_result"
    }
   ],
   "source": [
    "df_all_7_new.shape,df_all_7_new['Email_Address'].nunique()"
   ]
  },
  {
   "cell_type": "code",
   "execution_count": 8,
   "metadata": {},
   "outputs": [],
   "source": [
    "df_all_7_new.to_csv(path_or_buf=\"./\"+\"BL_SHA256EMAIL_Rewards2020Q2_BL_7_out_of_9_Grid_\"+str(datetime.datetime.now().date())+\".txt\",\n",
    "                         sep='\\t',\n",
    "                         encoding='utf-8',\n",
    "                         line_terminator=\"\\n\",\n",
    "                         header=True,\n",
    "                         index=False)"
   ]
  },
  {
   "cell_type": "code",
   "execution_count": 9,
   "metadata": {},
   "outputs": [
    {
     "data": {
      "text/plain": [
       "'BL_Rewards_2020_Q2_low_high'"
      ]
     },
     "execution_count": 9,
     "metadata": {},
     "output_type": "execute_result"
    }
   ],
   "source": [
    "df_all_7_new.columns[3]"
   ]
  },
  {
   "cell_type": "code",
   "execution_count": null,
   "metadata": {},
   "outputs": [],
   "source": [
    "BL_Rewards_2020_Q2_med_med"
   ]
  }
 ],
 "metadata": {
  "kernelspec": {
   "display_name": "Python 3",
   "language": "python",
   "name": "python3"
  },
  "language_info": {
   "codemirror_mode": {
    "name": "ipython",
    "version": 3
   },
   "file_extension": ".py",
   "mimetype": "text/x-python",
   "name": "python",
   "nbconvert_exporter": "python",
   "pygments_lexer": "ipython3",
   "version": "3.6.1"
  }
 },
 "nbformat": 4,
 "nbformat_minor": 2
}
