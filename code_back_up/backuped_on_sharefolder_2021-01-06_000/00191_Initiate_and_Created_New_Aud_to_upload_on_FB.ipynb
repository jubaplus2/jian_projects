{
 "cells": [
  {
   "cell_type": "code",
   "execution_count": 1,
   "metadata": {},
   "outputs": [],
   "source": [
    "from facebookads.adobjects.customaudience import CustomAudience\n",
    "from facebookads.adobjects.adaccount import AdAccount\n",
    "from facebookads.api import FacebookAdsApi\n",
    "import json\n",
    "import pandas as pd\n",
    "import os\n",
    "import datetime\n",
    "import numpy as np\n",
    "import glob\n",
    "import time\n",
    "import paramiko\n",
    "\n",
    "BigLotsAccount_id=\"act_271491453638620\"\n",
    "BigLotsDcart10_id=\"act_2449979771956630\"\n",
    "\n",
    "list_account_id=[BigLotsAccount_id,BigLotsDcart10_id]\n",
    "# jian_APP_ID=\"2537704939796694\"# jian's fb marketing app id\n",
    "jian_token=json.load(open(\"/mnt/clients/juba/hqjubaapp02/sharefolder/Docs/FB_token/lasest_FB_token_jian.json\",\"r\"))['latest_FB_token']\n"
   ]
  },
  {
   "cell_type": "code",
   "execution_count": 9,
   "metadata": {},
   "outputs": [],
   "source": [
    "def recursive_file_gen(root_path):\n",
    "    for root, dirs, files in os.walk(root_path):\n",
    "        for file in files:\n",
    "            yield os.path.join(root,file)\n",
    "            \n",
    "            \n",
    "# create new adueince and add the new users to the audiecne, 1 step\n",
    "# Please note the change of the CustomAudience.Schema (row 41 based on the user list format)\n",
    "def creatfbaudience(AudienceName,\n",
    "                    AudienceDescription,\n",
    "                    df,\n",
    "                    ACCESS_TOKEN,\n",
    "                    accountid,\n",
    "                    df_use_col_name,\n",
    "                    fb_schema=CustomAudience.Schema.email_hash):\n",
    "    FacebookAdsApi.init(access_token=ACCESS_TOKEN, api_version='v8.0')\n",
    "    \n",
    "    '''\n",
    "    AudienceName: str, the name shown on FB\n",
    "    AudienceDescription: str, the description shown on FB\n",
    "    df: pd.Dataframe, input with the identifier col\n",
    "    ACCESS_TOKEN: str, access to FB marketing api\n",
    "    accountid: str, account to uplaod\n",
    "    df_use_col_name: str, col name in the df\n",
    "    fb_schema: available schema attribution in the CustomAudience.Schema class. Default for us CustomAudience.Schema.email_hash  \n",
    "    https://github.com/facebook/facebook-python-business-sdk/blob/ac390147132101763a99a917bb59bdc8a374a7ce/facebook_business/adobjects/helpers/customaudiencemixin.py\n",
    "    '''\n",
    "    \n",
    "    myAccount = AdAccount(accountid)\n",
    "    fields = [\n",
    "    ]\n",
    "    params = {\n",
    "      'name': AudienceName,\n",
    "      'subtype': 'CUSTOM',\n",
    "      'description': AudienceDescription,\n",
    "      'customer_file_source': 'PARTNER_PROVIDED_ONLY',\n",
    "    }\n",
    "    fbname = myAccount.create_custom_audience(\n",
    "      fields=fields,\n",
    "      params=params,\n",
    "    )['id']\n",
    "    print(\"Audience ID:\",fbname)\n",
    "    audience = CustomAudience(fbname)\n",
    "    users = list(df[df_use_col_name])\n",
    "    listlen = len(users)\n",
    "    chunck_size=50000\n",
    "    count_uploaded=0\n",
    "    for i in range(int(np.ceil(listlen/chunck_size))):\n",
    "        starti = i*50000\n",
    "        if (i+1)*50000<listlen:\n",
    "            endi = (i+1)*50000\n",
    "        else:\n",
    "            endi = listlen\n",
    "        list0 = users[starti:endi]\n",
    "        \n",
    "        count_uploaded+=len(list0)\n",
    "        audience.add_users(fb_schema, list0)\n",
    "        #print len(list0)   \n",
    "    print(datetime.datetime.now(),AudienceName,\"uploaded\",count_uploaded)\n"
   ]
  },
  {
   "cell_type": "code",
   "execution_count": 3,
   "metadata": {},
   "outputs": [
    {
     "data": {
      "text/plain": [
       "[]"
      ]
     },
     "execution_count": 3,
     "metadata": {},
     "output_type": "execute_result"
    }
   ],
   "source": [
    "# For recurrence\n",
    "list_already_copied_deltas=list(recursive_file_gen(\"/mnt/clients/juba/hqjubaapp02/sharefolder/biglots_data/AgilOne/PYD_2020Q4/files_from_client/\"))\n",
    "list_already_copied_deltas"
   ]
  },
  {
   "cell_type": "code",
   "execution_count": 4,
   "metadata": {},
   "outputs": [],
   "source": [
    "remote_data_path_client=\"/home/agilone/\"\n",
    "\n",
    "host = \"107.191.32.220\" #hard-coded\n",
    "port = 22\n",
    "transport = paramiko.Transport((host, port))\n",
    "\n",
    "password = \"Tur87ZqzF9xV5mYF\" #hard-coded\n",
    "username = \"agilone\" #hard-coded\n",
    "transport.connect(username = username, password = password)\n",
    "sftp = paramiko.SFTPClient.from_transport(transport)\n"
   ]
  },
  {
   "cell_type": "code",
   "execution_count": 5,
   "metadata": {},
   "outputs": [
    {
     "data": {
      "text/plain": [
       "['12162020_PYD_Lapsed_MS_Hashed_20201215015235.csv',\n",
       " '12162020_PYD_SingUp_MS_Hashed_20201215015706.csv',\n",
       " '12162020_PYD_Active_MS_Hashed_20201215020409.csv']"
      ]
     },
     "execution_count": 5,
     "metadata": {},
     "output_type": "execute_result"
    }
   ],
   "source": [
    "list_remote_new_delta_file=sftp.listdir()\n",
    "\n",
    "list_remote_new_delta_file=[x for x in list_remote_new_delta_file if \"_PYD_\" in x]\n",
    "list_remote_new_delta_file"
   ]
  },
  {
   "cell_type": "code",
   "execution_count": 6,
   "metadata": {},
   "outputs": [
    {
     "name": "stdout",
     "output_type": "stream",
     "text": [
      "20201215\n"
     ]
    }
   ],
   "source": [
    "date=set([x.split(\"_MS_Hashed_\")[1][:8] for x in list_remote_new_delta_file])\n",
    "if len(date)==1:\n",
    "    date=list(date)[0]\n",
    "else:\n",
    "    raise ValueError(\"multiple dates\")\n",
    "print(date)"
   ]
  },
  {
   "cell_type": "code",
   "execution_count": null,
   "metadata": {},
   "outputs": [],
   "source": [
    "# only copy new files\n",
    "list_remote_new_delta_file=[x for x in list_remote_new_delta_file if os.path.basename(x) not in [os.path.basename(x) for x in list_already_copied_deltas]]"
   ]
  },
  {
   "cell_type": "code",
   "execution_count": 8,
   "metadata": {},
   "outputs": [],
   "source": [
    "local_folder_new_files_delta=\"/mnt/clients/juba/hqjubaapp02/sharefolder/biglots_data/AgilOne/PYD_2020Q4/files_from_client/File_%s/\"%date\n",
    "remote_movein_folder=\"/home/agilone/PYD_2020Q4/\"\n",
    "\n",
    "try:\n",
    "    os.stat(local_folder_new_files_delta)\n",
    "except:\n",
    "    os.mkdir(local_folder_new_files_delta)\n",
    "\n",
    "\n",
    "if len(list_remote_new_delta_file)==3:\n",
    "    for file in list_remote_new_delta_file:\n",
    "        local_file=local_folder_new_files_delta+os.path.basename(file)\n",
    "        sftp.get(file,local_file)\n",
    "        sftp.rename(file, remote_movein_folder+os.path.basename(file))      \n",
    "else:\n",
    "    raise ValueError(\"new received files not 3\")"
   ]
  },
  {
   "cell_type": "code",
   "execution_count": 15,
   "metadata": {},
   "outputs": [
    {
     "name": "stdout",
     "output_type": "stream",
     "text": [
      "3567633 3567633 3567587\n",
      "20120547 20120547 20098519\n",
      "1879040 1879040 1879029\n"
     ]
    }
   ],
   "source": [
    "# Qc new file records\n",
    "list_all_new_received=glob.glob(local_folder_new_files_delta+\"*.csv\")\n",
    "for file in list_all_new_received:\n",
    "    df=pd.read_csv(file,dtype=str)\n",
    "    # row, unique id, unique email\n",
    "    print(df.shape[0],df['customersummary_c_primaryscnhash'].nunique(),df['customersummary_emailhash'].nunique())"
   ]
  },
  {
   "cell_type": "code",
   "execution_count": 11,
   "metadata": {},
   "outputs": [
    {
     "data": {
      "text/plain": [
       "['/mnt/clients/juba/hqjubaapp02/sharefolder/biglots_data/AgilOne/PYD_2020Q4/files_from_client/File_20201215/12162020_PYD_Active_MS_Hashed_20201215020409.csv']"
      ]
     },
     "execution_count": 11,
     "metadata": {},
     "output_type": "execute_result"
    }
   ],
   "source": [
    "list_to_upload=glob.glob(local_folder_new_files_delta+\"*.csv\")\n",
    "list_to_upload=[x for x in list_to_upload if \"_PYD_Active_MS\" in x] ## The note to upload filter per reqeust\n",
    "\n",
    "list_to_upload.sort()\n",
    "list_to_upload"
   ]
  },
  {
   "cell_type": "code",
   "execution_count": 16,
   "metadata": {},
   "outputs": [
    {
     "name": "stdout",
     "output_type": "stream",
     "text": [
      "12162020_PYD_Active_MS_Hashed_20201215020409 20098518\n",
      "Audience ID: 23846130655090265\n",
      "2020-12-15 13:59:45.411105 aud_12162020_PYD_Active_MS_Hashed_20201215020409 uploaded 20100046\n",
      "12162020_PYD_Active_MS_Hashed_20201215020409 20098518\n",
      "Audience ID: 23846494421860632\n",
      "2020-12-15 14:22:46.339806 aud_12162020_PYD_Active_MS_Hashed_20201215020409 uploaded 20100046\n"
     ]
    }
   ],
   "source": [
    "col_identifer='customersummary_emailhash' # the col name in the new received dataframe\n",
    "i=0\n",
    "df_summary=pd.DataFrame()\n",
    "for file in list_to_upload:\n",
    "    for fb_account_id in list_account_id: # The 2 FB accounts\n",
    "        i+=1\n",
    "        audience_name = os.path.basename(file).split(\".\")[0]\n",
    "        description=os.path.basename(file).split(\".\")[0]+\"_uploaded_by_Juba_\"+str(datetime.datetime.now().date())\n",
    "        df = pd.read_csv(file,dtype=str) # load the dataframe contain email list \n",
    "        row_count=df.shape[0]\n",
    "        df=df[df[col_identifer].apply(len)==64]\n",
    "        email_unique_count=df[col_identifer].nunique() \n",
    "        \n",
    "        df_summary_i=pd.DataFrame({'FB_account':fb_account_id,\"audience_name\":audience_name,\"row_count\":row_count,\"unique_id\":email_unique_count},index=[i])\n",
    "        df_summary=df_summary.append(df_summary_i)\n",
    "        print(audience_name, email_unique_count)\n",
    "        creatfbaudience(AudienceName=\"aud_\"+audience_name,\n",
    "                        AudienceDescription=description+\", file received from client on 20201215, 107 agile\",\n",
    "                        df=df,\n",
    "                        df_use_col_name=col_identifer,\n",
    "                        ACCESS_TOKEN=jian_token,\n",
    "                        accountid=fb_account_id)"
   ]
  },
  {
   "cell_type": "code",
   "execution_count": 17,
   "metadata": {},
   "outputs": [
    {
     "data": {
      "text/html": [
       "<div>\n",
       "<style scoped>\n",
       "    .dataframe tbody tr th:only-of-type {\n",
       "        vertical-align: middle;\n",
       "    }\n",
       "\n",
       "    .dataframe tbody tr th {\n",
       "        vertical-align: top;\n",
       "    }\n",
       "\n",
       "    .dataframe thead th {\n",
       "        text-align: right;\n",
       "    }\n",
       "</style>\n",
       "<table border=\"1\" class=\"dataframe\">\n",
       "  <thead>\n",
       "    <tr style=\"text-align: right;\">\n",
       "      <th></th>\n",
       "      <th>FB_account</th>\n",
       "      <th>audience_name</th>\n",
       "      <th>row_count</th>\n",
       "      <th>unique_id</th>\n",
       "    </tr>\n",
       "  </thead>\n",
       "  <tbody>\n",
       "    <tr>\n",
       "      <th>1</th>\n",
       "      <td>act_271491453638620</td>\n",
       "      <td>12162020_PYD_Active_MS_Hashed_20201215020409</td>\n",
       "      <td>20120547</td>\n",
       "      <td>20098518</td>\n",
       "    </tr>\n",
       "    <tr>\n",
       "      <th>2</th>\n",
       "      <td>act_2449979771956630</td>\n",
       "      <td>12162020_PYD_Active_MS_Hashed_20201215020409</td>\n",
       "      <td>20120547</td>\n",
       "      <td>20098518</td>\n",
       "    </tr>\n",
       "  </tbody>\n",
       "</table>\n",
       "</div>"
      ],
      "text/plain": [
       "             FB_account                                 audience_name  \\\n",
       "1   act_271491453638620  12162020_PYD_Active_MS_Hashed_20201215020409   \n",
       "2  act_2449979771956630  12162020_PYD_Active_MS_Hashed_20201215020409   \n",
       "\n",
       "   row_count  unique_id  \n",
       "1   20120547   20098518  \n",
       "2   20120547   20098518  "
      ]
     },
     "execution_count": 17,
     "metadata": {},
     "output_type": "execute_result"
    }
   ],
   "source": [
    "df_summary"
   ]
  },
  {
   "cell_type": "code",
   "execution_count": null,
   "metadata": {},
   "outputs": [],
   "source": []
  }
 ],
 "metadata": {
  "kernelspec": {
   "display_name": "Python 3",
   "language": "python",
   "name": "python3"
  },
  "language_info": {
   "codemirror_mode": {
    "name": "ipython",
    "version": 3
   },
   "file_extension": ".py",
   "mimetype": "text/x-python",
   "name": "python",
   "nbconvert_exporter": "python",
   "pygments_lexer": "ipython3",
   "version": "3.7.6"
  }
 },
 "nbformat": 4,
 "nbformat_minor": 4
}
