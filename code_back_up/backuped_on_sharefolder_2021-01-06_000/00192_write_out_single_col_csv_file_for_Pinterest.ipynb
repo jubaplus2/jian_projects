{
 "cells": [
  {
   "cell_type": "code",
   "execution_count": 2,
   "metadata": {},
   "outputs": [
    {
     "data": {
      "text/plain": [
       "'/mnt/clients/juba/hqjubaapp02/sharefolder/biglots_data/AgilOne/PYD_2020Q4'"
      ]
     },
     "execution_count": 2,
     "metadata": {},
     "output_type": "execute_result"
    }
   ],
   "source": [
    "import pandas as pd\n",
    "import datetime\n",
    "import os\n",
    "os.getcwd()"
   ]
  },
  {
   "cell_type": "code",
   "execution_count": 3,
   "metadata": {},
   "outputs": [
    {
     "data": {
      "text/html": [
       "<div>\n",
       "<style scoped>\n",
       "    .dataframe tbody tr th:only-of-type {\n",
       "        vertical-align: middle;\n",
       "    }\n",
       "\n",
       "    .dataframe tbody tr th {\n",
       "        vertical-align: top;\n",
       "    }\n",
       "\n",
       "    .dataframe thead th {\n",
       "        text-align: right;\n",
       "    }\n",
       "</style>\n",
       "<table border=\"1\" class=\"dataframe\">\n",
       "  <thead>\n",
       "    <tr style=\"text-align: right;\">\n",
       "      <th></th>\n",
       "      <th>customersummary_mastercustomerid</th>\n",
       "      <th>customersummary_emailhash</th>\n",
       "      <th>customersummary_c_primaryscnhash</th>\n",
       "      <th>execution_id</th>\n",
       "    </tr>\n",
       "  </thead>\n",
       "  <tbody>\n",
       "    <tr>\n",
       "      <th>0</th>\n",
       "      <td>KFK_0_22243628</td>\n",
       "      <td>666aaa14c5a8bfbe8a5ad3b4f31e96392fd91c2e7d7cfe...</td>\n",
       "      <td>c65cd4aba8afd611215daf6ddf63d8caaa4d55b3d84549...</td>\n",
       "      <td>1608040723900</td>\n",
       "    </tr>\n",
       "    <tr>\n",
       "      <th>1</th>\n",
       "      <td>FTP_CSV_6_18738348</td>\n",
       "      <td>1793a20125315de568b31dd9844a345d874b9cf9c1abe9...</td>\n",
       "      <td>c7d92d35792a20f67a5d7174f43808f07ed89b8a5563d1...</td>\n",
       "      <td>1608040723900</td>\n",
       "    </tr>\n",
       "    <tr>\n",
       "      <th>2</th>\n",
       "      <td>FTP_CSV_6_48412822</td>\n",
       "      <td>5ce3f30d49befe04d5952aa4aba97aa8e72f7572d700d7...</td>\n",
       "      <td>0203ca34a6f01b0dd86bbace3ef0458b8c569e8afbd285...</td>\n",
       "      <td>1608040723900</td>\n",
       "    </tr>\n",
       "    <tr>\n",
       "      <th>3</th>\n",
       "      <td>KFK_0_12403917</td>\n",
       "      <td>063a97b99d4021ce20e0c1aaa987a43ed109cac9d2162f...</td>\n",
       "      <td>bc1aa666349b22ef968fb9b9c785e25f4ecaa5bdd0afda...</td>\n",
       "      <td>1608040723900</td>\n",
       "    </tr>\n",
       "    <tr>\n",
       "      <th>4</th>\n",
       "      <td>KFK_0_8443484</td>\n",
       "      <td>f6dee03ce5ef7dcf110f685eb664ec9fefc7c879eb6afc...</td>\n",
       "      <td>7f217d90a9723722f817be48856bad8840066dec176366...</td>\n",
       "      <td>1608040723900</td>\n",
       "    </tr>\n",
       "    <tr>\n",
       "      <th>5</th>\n",
       "      <td>FTP_CSV_6_57501492</td>\n",
       "      <td>bc84876c1e76f551bb319ae8088165c3907d5d22825828...</td>\n",
       "      <td>68d36cc360d0c0a837247791743d13aedcf882b314ef54...</td>\n",
       "      <td>1608040723900</td>\n",
       "    </tr>\n",
       "    <tr>\n",
       "      <th>6</th>\n",
       "      <td>KFK_0_46286925</td>\n",
       "      <td>4d2b2995d422747b2c6a48828ffb799e06607a2cfe4df1...</td>\n",
       "      <td>c15b711a581c86bb70ef0848b2dd246e96bc194394eaca...</td>\n",
       "      <td>1608040723900</td>\n",
       "    </tr>\n",
       "    <tr>\n",
       "      <th>7</th>\n",
       "      <td>KFK_0_66578966</td>\n",
       "      <td>6bad76db9322f4e3589bbe2a093a47285cffe8c32001ee...</td>\n",
       "      <td>aa1d17de5adc4ddda40c9ba0e3837f52bc200145e8b152...</td>\n",
       "      <td>1608040723900</td>\n",
       "    </tr>\n",
       "    <tr>\n",
       "      <th>8</th>\n",
       "      <td>FTP_CSV_6_19611422</td>\n",
       "      <td>4cc805b4f37641235beaab0aecbc7b0216e6f732480b0b...</td>\n",
       "      <td>9fad605d649f61c99d8d41c4a510cd05b94e184ad3a1e1...</td>\n",
       "      <td>1608040723900</td>\n",
       "    </tr>\n",
       "    <tr>\n",
       "      <th>9</th>\n",
       "      <td>FTP_CSV_6_41416540</td>\n",
       "      <td>e6237400999d79f1f580a6900c9fbf9eed32c4eff555e5...</td>\n",
       "      <td>2f6f3eba2277c1691c0640a68fe39fe98cf62d36293ad8...</td>\n",
       "      <td>1608040723900</td>\n",
       "    </tr>\n",
       "  </tbody>\n",
       "</table>\n",
       "</div>"
      ],
      "text/plain": [
       "  customersummary_mastercustomerid  \\\n",
       "0                   KFK_0_22243628   \n",
       "1               FTP_CSV_6_18738348   \n",
       "2               FTP_CSV_6_48412822   \n",
       "3                   KFK_0_12403917   \n",
       "4                    KFK_0_8443484   \n",
       "5               FTP_CSV_6_57501492   \n",
       "6                   KFK_0_46286925   \n",
       "7                   KFK_0_66578966   \n",
       "8               FTP_CSV_6_19611422   \n",
       "9               FTP_CSV_6_41416540   \n",
       "\n",
       "                           customersummary_emailhash  \\\n",
       "0  666aaa14c5a8bfbe8a5ad3b4f31e96392fd91c2e7d7cfe...   \n",
       "1  1793a20125315de568b31dd9844a345d874b9cf9c1abe9...   \n",
       "2  5ce3f30d49befe04d5952aa4aba97aa8e72f7572d700d7...   \n",
       "3  063a97b99d4021ce20e0c1aaa987a43ed109cac9d2162f...   \n",
       "4  f6dee03ce5ef7dcf110f685eb664ec9fefc7c879eb6afc...   \n",
       "5  bc84876c1e76f551bb319ae8088165c3907d5d22825828...   \n",
       "6  4d2b2995d422747b2c6a48828ffb799e06607a2cfe4df1...   \n",
       "7  6bad76db9322f4e3589bbe2a093a47285cffe8c32001ee...   \n",
       "8  4cc805b4f37641235beaab0aecbc7b0216e6f732480b0b...   \n",
       "9  e6237400999d79f1f580a6900c9fbf9eed32c4eff555e5...   \n",
       "\n",
       "                    customersummary_c_primaryscnhash   execution_id  \n",
       "0  c65cd4aba8afd611215daf6ddf63d8caaa4d55b3d84549...  1608040723900  \n",
       "1  c7d92d35792a20f67a5d7174f43808f07ed89b8a5563d1...  1608040723900  \n",
       "2  0203ca34a6f01b0dd86bbace3ef0458b8c569e8afbd285...  1608040723900  \n",
       "3  bc1aa666349b22ef968fb9b9c785e25f4ecaa5bdd0afda...  1608040723900  \n",
       "4  7f217d90a9723722f817be48856bad8840066dec176366...  1608040723900  \n",
       "5  68d36cc360d0c0a837247791743d13aedcf882b314ef54...  1608040723900  \n",
       "6  c15b711a581c86bb70ef0848b2dd246e96bc194394eaca...  1608040723900  \n",
       "7  aa1d17de5adc4ddda40c9ba0e3837f52bc200145e8b152...  1608040723900  \n",
       "8  9fad605d649f61c99d8d41c4a510cd05b94e184ad3a1e1...  1608040723900  \n",
       "9  2f6f3eba2277c1691c0640a68fe39fe98cf62d36293ad8...  1608040723900  "
      ]
     },
     "execution_count": 3,
     "metadata": {},
     "output_type": "execute_result"
    }
   ],
   "source": [
    "df=pd.read_csv(\"./files_from_client/File_20201215/12162020_PYD_Active_MS_Hashed_20201215020409.csv\",dtype=str,nrows=10)\n",
    "df"
   ]
  },
  {
   "cell_type": "code",
   "execution_count": 6,
   "metadata": {},
   "outputs": [
    {
     "name": "stdout",
     "output_type": "stream",
     "text": [
      "(20120547, 1)\n",
      "(20098518, 1)\n"
     ]
    }
   ],
   "source": [
    "df=pd.read_csv(\"./files_from_client/File_20201215/12162020_PYD_Active_MS_Hashed_20201215020409.csv\",\n",
    "               dtype=str,usecols=[\"customersummary_emailhash\"])\n",
    "print(df.shape)\n",
    "df=df[df['customersummary_emailhash'].apply(len)==64].drop_duplicates()\n",
    "print(df.shape)\n"
   ]
  },
  {
   "cell_type": "code",
   "execution_count": 7,
   "metadata": {},
   "outputs": [],
   "source": [
    "df.to_csv(\"./aud_12162020_PYD_Active_MS_Hashed_20201215020409.csv\",header=False,index=False)"
   ]
  },
  {
   "cell_type": "code",
   "execution_count": null,
   "metadata": {},
   "outputs": [],
   "source": []
  }
 ],
 "metadata": {
  "kernelspec": {
   "display_name": "Python 3",
   "language": "python",
   "name": "python3"
  },
  "language_info": {
   "codemirror_mode": {
    "name": "ipython",
    "version": 3
   },
   "file_extension": ".py",
   "mimetype": "text/x-python",
   "name": "python",
   "nbconvert_exporter": "python",
   "pygments_lexer": "ipython3",
   "version": "3.7.6"
  }
 },
 "nbformat": 4,
 "nbformat_minor": 4
}
