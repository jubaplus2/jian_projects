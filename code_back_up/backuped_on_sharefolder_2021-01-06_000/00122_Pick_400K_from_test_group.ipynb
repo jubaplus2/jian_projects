{
 "cells": [
  {
   "cell_type": "code",
   "execution_count": 1,
   "metadata": {
    "collapsed": true
   },
   "outputs": [],
   "source": [
    "import pandas as pd\n",
    "import glob\n",
    "import numpy as np\n",
    "import os"
   ]
  },
  {
   "cell_type": "code",
   "execution_count": 2,
   "metadata": {
    "collapsed": true
   },
   "outputs": [],
   "source": [
    "defile_list_test=glob.glob(\"/home/jian/Projects/Big_Lots/Live_Ramp/Quarterly_Update_2019Q1/crm_newscore_20190107/by_group_quadrant_24/*.csv\")\n",
    "defile_list_test=[x for x in defile_list_test if \"/T_Quadrant\" in x]\n",
    "all_test=pd.DataFrame()\n",
    "for file_path in defile_list_test:\n",
    "    df=pd.read_csv(file_path,dtype=str)\n",
    "    all_test=all_test.append(df)"
   ]
  },
  {
   "cell_type": "code",
   "execution_count": 3,
   "metadata": {},
   "outputs": [
    {
     "data": {
      "text/plain": [
       "(18154859, 3)"
      ]
     },
     "execution_count": 3,
     "metadata": {},
     "output_type": "execute_result"
    }
   ],
   "source": [
    "all_test.shape"
   ]
  },
  {
   "cell_type": "code",
   "execution_count": 4,
   "metadata": {},
   "outputs": [
    {
     "data": {
      "text/plain": [
       "(18154859, 2)"
      ]
     },
     "execution_count": 4,
     "metadata": {},
     "output_type": "execute_result"
    }
   ],
   "source": [
    "df_decile_test=pd.read_csv(\"/home/jian/Projects/Big_Lots/Live_Ramp/Quarterly_Update_2019Q1/crm_newscore_20190107/all_test_no_others2019-01-18_21:50:51.386367.csv\",usecols=['frmindex','customer_id_hashed'],dtype=str)\n",
    "\n",
    "df_decile_test.shape"
   ]
  },
  {
   "cell_type": "code",
   "execution_count": 5,
   "metadata": {},
   "outputs": [
    {
     "data": {
      "text/plain": [
       "(18154859, 4)"
      ]
     },
     "execution_count": 5,
     "metadata": {},
     "output_type": "execute_result"
    }
   ],
   "source": [
    "all_test=pd.merge(all_test,df_decile_test,on='customer_id_hashed')\n",
    "all_test.shape\n"
   ]
  },
  {
   "cell_type": "code",
   "execution_count": 6,
   "metadata": {},
   "outputs": [
    {
     "data": {
      "text/plain": [
       "(399998, 5)"
      ]
     },
     "execution_count": 6,
     "metadata": {},
     "output_type": "execute_result"
    }
   ],
   "source": [
    "import random\n",
    "random.seed(1)\n",
    "total_rows=len(all_test)\n",
    "df_control_from_previous_test=pd.DataFrame()\n",
    "\n",
    "for ind,group in all_test.groupby(['segment','frmindex']):\n",
    "    random_list=random.sample(range(len(group)), int(np.round(len(group)/total_rows*400000)))\n",
    "\n",
    "    group=group.reset_index()\n",
    "    del group['index']\n",
    "    group=group.reset_index()\n",
    "    df_control=group[group['index'].isin(random_list)]\n",
    "    df_control_from_previous_test=df_control_from_previous_test.append(df_control)\n",
    "df_control_from_previous_test.shape    "
   ]
  },
  {
   "cell_type": "code",
   "execution_count": 7,
   "metadata": {},
   "outputs": [
    {
     "name": "stderr",
     "output_type": "stream",
     "text": [
      "/usr/local/lib/python3.6/site-packages/ipykernel_launcher.py:2: SettingWithCopyWarning: \n",
      "A value is trying to be set on a copy of a slice from a DataFrame.\n",
      "Try using .loc[row_indexer,col_indexer] = value instead\n",
      "\n",
      "See the caveats in the documentation: http://pandas.pydata.org/pandas-docs/stable/indexing.html#indexing-view-versus-copy\n",
      "  \n"
     ]
    },
    {
     "data": {
      "text/plain": [
       "'/home/jian/Projects/Big_Lots/Live_Ramp/Quarterly_Update_2019Q1/crm_newscore_20190107/Pick_Control_within_Test'"
      ]
     },
     "execution_count": 7,
     "metadata": {},
     "output_type": "execute_result"
    }
   ],
   "source": [
    "output_df_control_from_previous_test=df_control_from_previous_test[['customer_id_hashed','email_address_hash','segment']]\n",
    "output_df_control_from_previous_test['segment']=output_df_control_from_previous_test['segment']+\"_ControlInT\"\n",
    "\n",
    "os.getcwd()"
   ]
  },
  {
   "cell_type": "code",
   "execution_count": 8,
   "metadata": {
    "collapsed": true
   },
   "outputs": [],
   "source": [
    "output_df_control_from_previous_test.to_csv(\"/home/jian/Projects/Big_Lots/Live_Ramp/Quarterly_Update_2019Q1/crm_newscore_20190107/Pick_Control_within_Test/output_control_with_in_Q1_test.csv\",index=False)\n",
    "df_control_from_previous_test.to_csv(\"/home/jian/Projects/Big_Lots/Live_Ramp/Quarterly_Update_2019Q1/crm_newscore_20190107/Pick_Control_within_Test/Control_with_in_Q1_test_with_decile.csv\",index=False)"
   ]
  },
  {
   "cell_type": "code",
   "execution_count": 9,
   "metadata": {},
   "outputs": [
    {
     "data": {
      "text/html": [
       "<div>\n",
       "<style>\n",
       "    .dataframe thead tr:only-child th {\n",
       "        text-align: right;\n",
       "    }\n",
       "\n",
       "    .dataframe thead th {\n",
       "        text-align: left;\n",
       "    }\n",
       "\n",
       "    .dataframe tbody tr th {\n",
       "        vertical-align: top;\n",
       "    }\n",
       "</style>\n",
       "<table border=\"1\" class=\"dataframe\">\n",
       "  <thead>\n",
       "    <tr style=\"text-align: right;\">\n",
       "      <th></th>\n",
       "      <th>customer_id_hashed</th>\n",
       "      <th>email_address_hash</th>\n",
       "      <th>segment</th>\n",
       "    </tr>\n",
       "  </thead>\n",
       "  <tbody>\n",
       "    <tr>\n",
       "      <th>116</th>\n",
       "      <td>12856583db4dbb005e5de4b6991934872a6a7fcb3467b0...</td>\n",
       "      <td>02ef1144e18c2dffa9231f010867716b5a9755a3b2d815...</td>\n",
       "      <td>T_Quadrant III_P_H_2019Q1_ControlInT</td>\n",
       "    </tr>\n",
       "    <tr>\n",
       "      <th>176</th>\n",
       "      <td>5992b52cac7716d755901d7c9b21782df61634b4da51dd...</td>\n",
       "      <td>c6a42afe8a2ba122688724f95c25cb1dfb76133542c5f1...</td>\n",
       "      <td>T_Quadrant III_P_H_2019Q1_ControlInT</td>\n",
       "    </tr>\n",
       "  </tbody>\n",
       "</table>\n",
       "</div>"
      ],
      "text/plain": [
       "                                    customer_id_hashed  \\\n",
       "116  12856583db4dbb005e5de4b6991934872a6a7fcb3467b0...   \n",
       "176  5992b52cac7716d755901d7c9b21782df61634b4da51dd...   \n",
       "\n",
       "                                    email_address_hash  \\\n",
       "116  02ef1144e18c2dffa9231f010867716b5a9755a3b2d815...   \n",
       "176  c6a42afe8a2ba122688724f95c25cb1dfb76133542c5f1...   \n",
       "\n",
       "                                  segment  \n",
       "116  T_Quadrant III_P_H_2019Q1_ControlInT  \n",
       "176  T_Quadrant III_P_H_2019Q1_ControlInT  "
      ]
     },
     "execution_count": 9,
     "metadata": {},
     "output_type": "execute_result"
    }
   ],
   "source": [
    "output_df_control_from_previous_test.head(2)"
   ]
  },
  {
   "cell_type": "code",
   "execution_count": 10,
   "metadata": {},
   "outputs": [
    {
     "data": {
      "text/plain": [
       "36"
      ]
     },
     "execution_count": 10,
     "metadata": {},
     "output_type": "execute_result"
    }
   ],
   "source": [
    "len(output_df_control_from_previous_test['segment'].unique())"
   ]
  },
  {
   "cell_type": "code",
   "execution_count": 11,
   "metadata": {
    "collapsed": true
   },
   "outputs": [],
   "source": [
    "summary_control_in_test=output_df_control_from_previous_test.groupby(['segment'])['customer_id_hashed'].count().to_frame().reset_index()\n",
    "summary_control_in_test.to_csv(\"/home/jian/Projects/Big_Lots/Live_Ramp/Quarterly_Update_2019Q1/crm_newscore_20190107/Pick_Control_within_Test/summary_output_control_with_in_Q1_test.csv\",index=False)\n"
   ]
  },
  {
   "cell_type": "code",
   "execution_count": null,
   "metadata": {
    "collapsed": true
   },
   "outputs": [],
   "source": []
  }
 ],
 "metadata": {
  "kernelspec": {
   "display_name": "Python 3",
   "language": "python",
   "name": "python3"
  },
  "language_info": {
   "codemirror_mode": {
    "name": "ipython",
    "version": 3
   },
   "file_extension": ".py",
   "mimetype": "text/x-python",
   "name": "python",
   "nbconvert_exporter": "python",
   "pygments_lexer": "ipython3",
   "version": "3.6.1"
  }
 },
 "nbformat": 4,
 "nbformat_minor": 2
}
