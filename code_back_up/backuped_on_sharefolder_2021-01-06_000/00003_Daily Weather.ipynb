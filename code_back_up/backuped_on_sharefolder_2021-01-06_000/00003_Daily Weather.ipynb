{
 "cells": [
  {
   "cell_type": "code",
   "execution_count": 22,
   "metadata": {},
   "outputs": [],
   "source": [
    "import json\n",
    "import pandas as pd\n",
    "import os\n",
    "import glob\n",
    "import codecs\n",
    "import datetime\n",
    "today_foloder=str(datetime.datetime.now().year)+str(datetime.datetime.now().month).zfill(2)+str(datetime.datetime.now().day).zfill(2)\n",
    "json_list=glob.glob(\"/home/jian/Projects/Big_Lots/Weather/Json_data/daily/api_response_\"+today_foloder+\"/*.json\")"
   ]
  },
  {
   "cell_type": "code",
   "execution_count": 23,
   "metadata": {
    "collapsed": true
   },
   "outputs": [],
   "source": [
    "store_list=pd.read_csv(\"/home/jian/Projects/Big_Lots/Weather/OtherInput/MediaStormStoreList_Nov15.txt\",sep=\"|\",dtype=str)\n",
    "store_list=store_list[['location_id','city_nm','state_nm','zip_cd']]\n",
    "store_list['zip_cd']=store_list['zip_cd'].apply(lambda x: str.split(x,'-')[0])\n",
    "store_list['zip_cd']=store_list['zip_cd'].astype(int)\n",
    "\n",
    "zip_dma=pd.read_csv(\"/home/jian/Projects/Big_Lots/Weather/OtherInput/zipdmamapping.csv\")\n",
    "zip_dma.columns=['zip_cd','DMA']\n",
    "zip_dma['zip_cd']=zip_dma['zip_cd'].astype(int)\n",
    "store_list=pd.merge(store_list,zip_dma,on='zip_cd',how='left')\n"
   ]
  },
  {
   "cell_type": "code",
   "execution_count": 24,
   "metadata": {
    "collapsed": true
   },
   "outputs": [],
   "source": [
    "date_writer=[]\n",
    "for date_json in json_list:\n",
    "    date_json_time=datetime.datetime.strptime(date_json[len(date_json)-15:len(date_json)-5],\"%Y-%m-%d\").date()\n",
    "    date_str=str(date_json_time)\n",
    "    date_writer=date_writer+[date_json_time]"
   ]
  },
  {
   "cell_type": "code",
   "execution_count": 27,
   "metadata": {
    "collapsed": true
   },
   "outputs": [],
   "source": [
    "response_list=[]\n",
    "date_list=[]\n",
    "output=pd.DataFrame()\n",
    "\n",
    "\n",
    "for f in json_list:\n",
    "    response=json.load(open(f,'r'))\n",
    "    # date=f.split('.')[0][(len(f.split('.')[0])-10):len(f.split('.')[0])]\n",
    "    df_day=pd.DataFrame(response)\n",
    "    df=pd.DataFrame()\n",
    "    df_date=pd.DataFrame()\n",
    "    for i in range(len(df_day.columns)):\n",
    "        zip_cd=df_day.columns[i]   \n",
    "        temp=response[zip_cd]['main']['temp']\n",
    "        temp_max=response[zip_cd]['main']['temp_max']\n",
    "        temp_min=response[zip_cd]['main']['temp_min']\n",
    "        humidity=str(response[zip_cd]['main']['humidity'])+\"%\"\n",
    "        pressure=response[zip_cd]['main']['pressure']\n",
    "        weather_types=len(response[zip_cd]['weather'])\n",
    "        wind_speed=response[zip_cd]['wind']['speed']\n",
    "        name=response[zip_cd]['name']\n",
    "        country=response[zip_cd]['sys']['country']\n",
    "        sunrise=pd.to_datetime(response[zip_cd]['sys']['sunrise'],unit='s')\n",
    "        sunset=pd.to_datetime(response[zip_cd]['sys']['sunset'],unit='s')\n",
    "        \n",
    "        time=str(datetime.datetime.fromtimestamp(response[zip_cd]['dt']).time())\n",
    "        date=str(datetime.datetime.fromtimestamp(response[zip_cd]['dt']).date())\n",
    "        \n",
    "        if 'deg' in response[zip_cd]['wind'].keys():\n",
    "            wind_deg=response[zip_cd]['wind']['deg']\n",
    "        else:\n",
    "            wind_deg=float('NaN')\n",
    "        \n",
    "        if 'visibility' in response[zip_cd].keys():\n",
    "            visibility=response[zip_cd]['visibility']\n",
    "        else: \n",
    "            visibility= float('NaN')\n",
    "            \n",
    "        if 'clouds' in response[zip_cd].keys():\n",
    "            clouds=str(response[zip_cd]['clouds']['all'])+\"%\"\n",
    "        else: \n",
    "            clouds= float('NaN')\n",
    "        '''    \n",
    "        if 'rain' in response[zip_cd].keys():\n",
    "            rain_3h=response[zip_cd]['rain']['3h']\n",
    "        else: \n",
    "            rain_3h= float('NaN')\n",
    "        \n",
    "        if 'snow' in response[zip_cd].keys():\n",
    "            snow_3h=response[zip_cd]['snow']['3h']\n",
    "        else: \n",
    "            snow_3h= float('NaN')\n",
    "        '''    \n",
    "        lat=response[zip_cd]['coord']['lat']\n",
    "        lon=response[zip_cd]['coord']['lon']\n",
    "        # df_weather=pd.DataFrame({'index':i},{'zip':zip_cd},{'weather':weather}).T    \n",
    "        weather = []\n",
    "        for j in range(weather_types):\n",
    "            weather = weather+[str(response[zip_cd]['weather'][j]['main'])]\n",
    "\n",
    "        # df_weather=pd.DataFrame([i,zip_cd,temp,temp_max,temp_min,name,weather,weather_types,pressure,humidity,wind_speed,wind_deg,visibility,lat,lon]).T\n",
    "        # df_weather.columns=['index','zip','temperature','temp_max','temp_min','city_name','weather','weather_types','pressure','humidity','wind_speed','wind_deg','visibility','lat_weather_record','lon_weather_record']\n",
    "        \n",
    "        df_weather=pd.DataFrame([{'date':date,'time':time,'zip_cd':zip_cd,'city_name_weather':name,'temperature':temp,'temp_max':temp_max,'temp_min':temp_min,\n",
    "                                 'weather':weather,'weather_types':weather_types,'pressure':pressure,'humidity':humidity,'clouds':clouds,\n",
    "                                  'wind_speed':wind_speed,'wind_deg':wind_deg,'visibility':visibility,'longitude':lon,'latitude':lat,\n",
    "                                  'utc_sunrise':sunrise,'utc_sunset':sunset}]) #'rain_3h':rain_3h,'snow_3h':snow_3h,\n",
    "        \n",
    "        df_weather.reset_index(inplace=True)\n",
    "\n",
    "        df=df.append(df_weather)\n",
    "        # df=df[df_weather.columns.tolist()]\n",
    "\n",
    "    df['zip_cd']=df['zip_cd'].astype(int)\n",
    "    df_date=pd.merge(store_list,df,on='zip_cd',how='left')\n",
    "\n",
    "    # del df_date['index']\n",
    "    output=output.append(df_date)\n",
    "    \n",
    "# output=output[['date']+store_list.columns.tolist()+df_weather.columns.tolist()]\n",
    "#output['location_id']=output['location_id'].astype(float)\n",
    "#output=output.sort_values(['date','location_id'])    "
   ]
  },
  {
   "cell_type": "code",
   "execution_count": 28,
   "metadata": {
    "collapsed": true
   },
   "outputs": [],
   "source": [
    "output_reshape=output[['date','time','zip_cd','location_id','city_nm','state_nm','DMA','city_name_weather','latitude','longitude','temperature','temp_max',\n",
    "                      'temp_min','weather','weather_types','clouds','humidity','pressure','visibility','wind_speed','wind_deg',\n",
    "                      'utc_sunrise','utc_sunset']]"
   ]
  },
  {
   "cell_type": "code",
   "execution_count": 29,
   "metadata": {
    "collapsed": true
   },
   "outputs": [],
   "source": [
    "output_reshape.to_csv(\"/home/jian/Projects/Big_Lots/Weather/output/BL_whether_output_JL_\" +str(max(date_writer))+\".csv\",index=False)"
   ]
  },
  {
   "cell_type": "code",
   "execution_count": 80,
   "metadata": {
    "collapsed": true
   },
   "outputs": [],
   "source": []
  },
  {
   "cell_type": "code",
   "execution_count": null,
   "metadata": {
    "collapsed": true
   },
   "outputs": [],
   "source": [
    "def convert_k_to_f(Temp_K):\n",
    "    Temp_F= 1.8 * (Temp_K - 273) + 32\n",
    "    return Temp_F"
   ]
  }
 ],
 "metadata": {
  "kernelspec": {
   "display_name": "Python 3",
   "language": "python",
   "name": "python3"
  },
  "language_info": {
   "codemirror_mode": {
    "name": "ipython",
    "version": 3
   },
   "file_extension": ".py",
   "mimetype": "text/x-python",
   "name": "python",
   "nbconvert_exporter": "python",
   "pygments_lexer": "ipython3",
   "version": "3.7.6"
  }
 },
 "nbformat": 4,
 "nbformat_minor": 1
}
