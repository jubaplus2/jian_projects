{
 "cells": [
  {
   "cell_type": "code",
   "execution_count": 1,
   "metadata": {},
   "outputs": [
    {
     "data": {
      "text/plain": [
       "'/home/jian/BigLots/2018_by_weeks/MediaStorm_2018-12-01'"
      ]
     },
     "execution_count": 1,
     "metadata": {},
     "output_type": "execute_result"
    }
   ],
   "source": [
    "import pandas as pd\n",
    "import os\n",
    "import numpy as np\n",
    "import datetime\n",
    "os.getcwd()"
   ]
  },
  {
   "cell_type": "code",
   "execution_count": 2,
   "metadata": {
    "collapsed": true
   },
   "outputs": [],
   "source": [
    "Rewards_biweekly=pd.read_table(\"/home/jian/BigLots/2018_by_weeks/MediaStorm_2018-12-01/MediaStormSalesBiWeekly20181204-131418-511.txt\",\n",
    "                               dtype=str,sep=\"|\")\n",
    "Rewards_biweekly=Rewards_biweekly[Rewards_biweekly['merch_cat']!=\"80040410\"]\n",
    "Rewards_biweekly['total_transaction_amt']=Rewards_biweekly['total_transaction_amt'].astype(float)\n",
    "Rewards_biweekly['total_transaction_units']=Rewards_biweekly['total_transaction_units'].astype(float).astype(int)\n"
   ]
  },
  {
   "cell_type": "code",
   "execution_count": 3,
   "metadata": {},
   "outputs": [
    {
     "data": {
      "text/plain": [
       "(4730242, 8)"
      ]
     },
     "execution_count": 3,
     "metadata": {},
     "output_type": "execute_result"
    }
   ],
   "source": [
    "Rewards_biweekly.shape"
   ]
  },
  {
   "cell_type": "code",
   "execution_count": 7,
   "metadata": {},
   "outputs": [
    {
     "data": {
      "text/plain": [
       "(4432073, 7)"
      ]
     },
     "execution_count": 7,
     "metadata": {},
     "output_type": "execute_result"
    }
   ],
   "source": [
    "del Rewards_biweekly['merch_cat']\n",
    "Rewards_biweekly=Rewards_biweekly.drop_duplicates()\n",
    "Rewards_biweekly.shape"
   ]
  },
  {
   "cell_type": "code",
   "execution_count": 14,
   "metadata": {},
   "outputs": [
    {
     "data": {
      "text/plain": [
       "(4431365, 6)"
      ]
     },
     "execution_count": 14,
     "metadata": {},
     "output_type": "execute_result"
    }
   ],
   "source": [
    "Rewards_biweekly_No_Trans_ID=Rewards_biweekly.copy()\n",
    "del Rewards_biweekly_No_Trans_ID['transaction_id']\n",
    "Rewards_biweekly_No_Trans_ID=Rewards_biweekly_No_Trans_ID.drop_duplicates()\n",
    "Rewards_biweekly_No_Trans_ID.shape"
   ]
  },
  {
   "cell_type": "code",
   "execution_count": 25,
   "metadata": {},
   "outputs": [
    {
     "name": "stderr",
     "output_type": "stream",
     "text": [
      "/usr/local/lib/python3.6/site-packages/ipykernel_launcher.py:5: SettingWithCopyWarning: \n",
      "A value is trying to be set on a copy of a slice from a DataFrame.\n",
      "Try using .loc[row_indexer,col_indexer] = value instead\n",
      "\n",
      "See the caveats in the documentation: http://pandas.pydata.org/pandas-docs/stable/indexing.html#indexing-view-versus-copy\n",
      "  \"\"\"\n"
     ]
    }
   ],
   "source": [
    "Rewards_biweekly_No_Trans_ID=Rewards_biweekly.copy()\n",
    "del Rewards_biweekly_No_Trans_ID['transaction_id']\n",
    "\n",
    "dup_id=Rewards_biweekly[Rewards_biweekly_No_Trans_ID.duplicated()]\n",
    "dup_id['key']=dup_id['customer_id_hashed']+\" | \"+dup_id['transaction_dt']+\" | \"+dup_id['transaction_time']"
   ]
  },
  {
   "cell_type": "code",
   "execution_count": 29,
   "metadata": {},
   "outputs": [],
   "source": [
    "Rewards_biweekly['key']=Rewards_biweekly['customer_id_hashed']+\" | \"+Rewards_biweekly['transaction_dt']+\" | \"+Rewards_biweekly['transaction_time']\n",
    "Rewards_biweekly_Dup=Rewards_biweekly[Rewards_biweekly['key'].isin(dup_id['key'].tolist())]"
   ]
  },
  {
   "cell_type": "code",
   "execution_count": 36,
   "metadata": {},
   "outputs": [
    {
     "data": {
      "text/plain": [
       "'/home/jian/BigLots/2018_by_weeks/MediaStorm_2018-12-01'"
      ]
     },
     "execution_count": 36,
     "metadata": {},
     "output_type": "execute_result"
    }
   ],
   "source": [
    "os.getcwd()"
   ]
  },
  {
   "cell_type": "code",
   "execution_count": 37,
   "metadata": {},
   "outputs": [],
   "source": [
    "Rewards_biweekly_Dup=Rewards_biweekly_Dup.sort_values(['key'])\n",
    "del Rewards_biweekly_Dup['key']\n",
    "Rewards_biweekly_Dup.to_csv(\"/home/jian/BigLots/2018_by_weeks/MediaStorm_2018-12-01/Exampales_BL_20181201_bi_weekly_duplicates.csv\",index=False)"
   ]
  },
  {
   "cell_type": "code",
   "execution_count": null,
   "metadata": {
    "collapsed": true
   },
   "outputs": [],
   "source": []
  },
  {
   "cell_type": "code",
   "execution_count": null,
   "metadata": {
    "collapsed": true
   },
   "outputs": [],
   "source": []
  },
  {
   "cell_type": "code",
   "execution_count": null,
   "metadata": {
    "collapsed": true
   },
   "outputs": [],
   "source": []
  }
 ],
 "metadata": {
  "kernelspec": {
   "display_name": "Python 3",
   "language": "python",
   "name": "python3"
  },
  "language_info": {
   "codemirror_mode": {
    "name": "ipython",
    "version": 3
   },
   "file_extension": ".py",
   "mimetype": "text/x-python",
   "name": "python",
   "nbconvert_exporter": "python",
   "pygments_lexer": "ipython3",
   "version": "3.6.1"
  }
 },
 "nbformat": 4,
 "nbformat_minor": 2
}
