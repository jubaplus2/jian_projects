{
 "cells": [
  {
   "cell_type": "code",
   "execution_count": 1,
   "metadata": {},
   "outputs": [
    {
     "data": {
      "text/plain": [
       "'/home/jian/Projects/Big_Lots/TMR/TMR_data/Up_to_2019Q2'"
      ]
     },
     "execution_count": 1,
     "metadata": {},
     "output_type": "execute_result"
    }
   ],
   "source": [
    "import pandas as pd\n",
    "import numpy as np\n",
    "import os\n",
    "import datetime\n",
    "os.getcwd()\n",
    "\n",
    "# Note email cpm updated based on the Q4 client number\n",
    "# Flipp hosted not included in wide version"
   ]
  },
  {
   "cell_type": "code",
   "execution_count": 2,
   "metadata": {
    "collapsed": true
   },
   "outputs": [],
   "source": [
    "TMR_up_to_2019Q1=pd.read_csv(\"/home/jian/Projects/Big_Lots/TMR/TMR_data/Up_to_2019Q1/output/BL_MMM_long_cumu_up_to_2019Q1_JL_2019-09-10.csv\",dtype=str)\n",
    "TMR_up_to_2019Q1['impression']=TMR_up_to_2019Q1['impression'].astype(float).astype(int)\n",
    "TMR_up_to_2019Q1['click']=TMR_up_to_2019Q1['click'].astype(float).astype(int)\n",
    "TMR_up_to_2019Q1['cost']=TMR_up_to_2019Q1['cost'].astype(float)\n"
   ]
  },
  {
   "cell_type": "code",
   "execution_count": 3,
   "metadata": {},
   "outputs": [
    {
     "name": "stdout",
     "output_type": "stream",
     "text": [
      "2016-09-25\n",
      "2019-04-28\n"
     ]
    }
   ],
   "source": [
    "TMR_up_to_2019Q1_no_DMA=TMR_up_to_2019Q1.groupby([\"week date\",\"media\",\"submedia\",\"placement\"])['impression','click','cost'].sum().reset_index()\n",
    "print(TMR_up_to_2019Q1_no_DMA['week date'].min())\n",
    "print(TMR_up_to_2019Q1_no_DMA['week date'].max())\n",
    "# TMR_up_to_2019Q1_no_DMA"
   ]
  },
  {
   "cell_type": "code",
   "execution_count": 4,
   "metadata": {},
   "outputs": [
    {
     "data": {
      "text/plain": [
       "(6189, 7)"
      ]
     },
     "execution_count": 4,
     "metadata": {},
     "output_type": "execute_result"
    }
   ],
   "source": [
    "TMR_up_to_2019Q1_no_DMA.shape"
   ]
  },
  {
   "cell_type": "markdown",
   "metadata": {},
   "source": [
    "# TV"
   ]
  },
  {
   "cell_type": "code",
   "execution_count": 5,
   "metadata": {
    "scrolled": true
   },
   "outputs": [
    {
     "name": "stdout",
     "output_type": "stream",
     "text": [
      "['Q2 Nat Cable 2019', 'Q2 Print Circ 2019']\n"
     ]
    },
    {
     "data": {
      "text/html": [
       "<div>\n",
       "<style scoped>\n",
       "    .dataframe tbody tr th:only-of-type {\n",
       "        vertical-align: middle;\n",
       "    }\n",
       "\n",
       "    .dataframe tbody tr th {\n",
       "        vertical-align: top;\n",
       "    }\n",
       "\n",
       "    .dataframe thead th {\n",
       "        text-align: right;\n",
       "    }\n",
       "</style>\n",
       "<table border=\"1\" class=\"dataframe\">\n",
       "  <thead>\n",
       "    <tr style=\"text-align: right;\">\n",
       "      <th></th>\n",
       "      <th>Campaign</th>\n",
       "      <th>Status</th>\n",
       "      <th>Data Source</th>\n",
       "      <th>Market</th>\n",
       "      <th>Network</th>\n",
       "      <th>Media Type</th>\n",
       "      <th>Demographic</th>\n",
       "      <th>Week Of</th>\n",
       "      <th>Air Date</th>\n",
       "      <th>Air Day</th>\n",
       "      <th>Air Time</th>\n",
       "      <th>Spot Length</th>\n",
       "      <th>Aired Prg Name</th>\n",
       "      <th>Rating</th>\n",
       "      <th>IMPs (Units)</th>\n",
       "      <th>Net Cost</th>\n",
       "      <th>ISCI Length</th>\n",
       "      <th>Air ISCI</th>\n",
       "      <th>Cmml Title</th>\n",
       "    </tr>\n",
       "  </thead>\n",
       "  <tbody>\n",
       "    <tr>\n",
       "      <th>0</th>\n",
       "      <td>Q2 2019</td>\n",
       "      <td>Post</td>\n",
       "      <td>Nielsen Keeping Trac</td>\n",
       "      <td>National</td>\n",
       "      <td>BET</td>\n",
       "      <td>Cable</td>\n",
       "      <td>W25-54</td>\n",
       "      <td>2019-05-27 00:00:00</td>\n",
       "      <td>2019-05-28 00:00:00</td>\n",
       "      <td>Tuesday</td>\n",
       "      <td>23:27:57</td>\n",
       "      <td>30</td>\n",
       "      <td>GAMES PEOPLE PLAY</td>\n",
       "      <td>0.23</td>\n",
       "      <td>138207</td>\n",
       "      <td>0</td>\n",
       "      <td>30</td>\n",
       "      <td>LGTS1115000</td>\n",
       "      <td>19May/BL/L&amp;G/MemDay/Generic</td>\n",
       "    </tr>\n",
       "    <tr>\n",
       "      <th>1</th>\n",
       "      <td>Q2 2022</td>\n",
       "      <td>Post</td>\n",
       "      <td>Nielsen Keeping Trac</td>\n",
       "      <td>National</td>\n",
       "      <td>BET</td>\n",
       "      <td>Cable</td>\n",
       "      <td>W25-54</td>\n",
       "      <td>2019-06-17 00:00:00</td>\n",
       "      <td>2019-06-23 00:00:00</td>\n",
       "      <td>Sunday</td>\n",
       "      <td>17:59:00</td>\n",
       "      <td>30</td>\n",
       "      <td>2019 BETA RED CARPET HH</td>\n",
       "      <td>0.24</td>\n",
       "      <td>148366</td>\n",
       "      <td>0</td>\n",
       "      <td>30</td>\n",
       "      <td>LGTS1126000</td>\n",
       "      <td>23June/BL/L&amp;G/JulyFourthPatioCle</td>\n",
       "    </tr>\n",
       "  </tbody>\n",
       "</table>\n",
       "</div>"
      ],
      "text/plain": [
       "  Campaign Status           Data Source    Market Network Media Type  \\\n",
       "0  Q2 2019   Post  Nielsen Keeping Trac  National     BET      Cable   \n",
       "1  Q2 2022   Post  Nielsen Keeping Trac  National     BET      Cable   \n",
       "\n",
       "  Demographic              Week Of             Air Date  Air Day  Air Time  \\\n",
       "0      W25-54  2019-05-27 00:00:00  2019-05-28 00:00:00  Tuesday  23:27:57   \n",
       "1      W25-54  2019-06-17 00:00:00  2019-06-23 00:00:00   Sunday  17:59:00   \n",
       "\n",
       "  Spot Length           Aired Prg Name Rating IMPs (Units) Net Cost  \\\n",
       "0          30        GAMES PEOPLE PLAY   0.23       138207        0   \n",
       "1          30  2019 BETA RED CARPET HH   0.24       148366        0   \n",
       "\n",
       "  ISCI Length     Air ISCI                        Cmml Title  \n",
       "0          30  LGTS1115000       19May/BL/L&G/MemDay/Generic  \n",
       "1          30  LGTS1126000  23June/BL/L&G/JulyFourthPatioCle  "
      ]
     },
     "execution_count": 5,
     "metadata": {},
     "output_type": "execute_result"
    }
   ],
   "source": [
    "TV_logs=pd.ExcelFile(\"/home/jian/Projects/Big_Lots/TMR/TMR_data/Up_to_2019Q2/input_2019Q2/Q2_National_TV_Print Circ_TMR Reports 10.10.19.xlsx\")\n",
    "print(TV_logs.sheet_names)\n",
    "TV_logs=TV_logs.parse(\"Q2 Nat Cable 2019\",dtype=str,skiprows=1)\n",
    "TV_logs.head(2)"
   ]
  },
  {
   "cell_type": "code",
   "execution_count": 6,
   "metadata": {},
   "outputs": [
    {
     "name": "stdout",
     "output_type": "stream",
     "text": [
      "['W25-54']\n",
      "['W25-54']\n"
     ]
    }
   ],
   "source": [
    "TV_logs=TV_logs[[\"Air Date\",\"Net Cost\",'IMPs (Units)','Demographic','Network']]\n",
    "print(TV_logs['Demographic'].unique())\n",
    "TV_logs=TV_logs[TV_logs['Demographic']==\"W25-54\"]\n",
    "TV_logs=TV_logs[TV_logs['Air Date']!=\"nan\"]\n",
    "print(TV_logs['Demographic'].unique())\n",
    "\n",
    "TV_logs['Net Cost']=TV_logs['Net Cost'].astype(float)\n",
    "TV_logs['IMPs (Units)']=TV_logs['IMPs (Units)'].astype(float)\n",
    "TV_logs['IMPs (Units)']=TV_logs['IMPs (Units)'].fillna(0).astype(int)\n",
    "TV_logs=TV_logs.rename(columns={\"Net Cost\":\"cost\",\"IMPs (Units)\":\"impression\"})\n",
    "\n",
    "TV_logs['date']=TV_logs['Air Date'].apply(lambda x: datetime.datetime.strptime(x,\"%Y-%m-%d %H:%M:%S\").date())\n",
    "TV_logs=TV_logs[(TV_logs['date']<=datetime.date(2019,8,3)) & (TV_logs['date']>=datetime.date(2019,5,5))]\n"
   ]
  },
  {
   "cell_type": "code",
   "execution_count": 7,
   "metadata": {},
   "outputs": [
    {
     "data": {
      "text/plain": [
       "1697094.7000000002"
      ]
     },
     "execution_count": 7,
     "metadata": {},
     "output_type": "execute_result"
    }
   ],
   "source": [
    "TV_logs['cost'].sum()"
   ]
  },
  {
   "cell_type": "code",
   "execution_count": 8,
   "metadata": {},
   "outputs": [
    {
     "data": {
      "text/plain": [
       "111259722"
      ]
     },
     "execution_count": 8,
     "metadata": {},
     "output_type": "execute_result"
    }
   ],
   "source": [
    "TV_logs['impression'].sum()"
   ]
  },
  {
   "cell_type": "code",
   "execution_count": 9,
   "metadata": {
    "collapsed": true
   },
   "outputs": [],
   "source": [
    "def get_week_end_date_BL(x):\n",
    "    if x.weekday()==6:\n",
    "        y=x+datetime.timedelta(days=6)\n",
    "    else:\n",
    "        y=x+datetime.timedelta(days=5-x.weekday())\n",
    "    return y"
   ]
  },
  {
   "cell_type": "code",
   "execution_count": 10,
   "metadata": {
    "collapsed": true
   },
   "outputs": [],
   "source": [
    "TV_logs['week_end_dt']=TV_logs['date'].apply(lambda x: get_week_end_date_BL(x))\n",
    "TV_logs['week date']=TV_logs['week_end_dt'].apply(lambda x: x-datetime.timedelta(days=6))\n",
    "TV_TMR_data=TV_logs.groupby(['week date','Network'])[['cost','impression']].sum().reset_index()\n",
    "TV_TMR_data=TV_TMR_data.rename(columns={\"Network\":\"placement\"})\n",
    "TV_TMR_data['media']=\"TV\"\n",
    "TV_TMR_data['submedia']=\"National\"\n",
    "TV_TMR_data['click']=0\n",
    "TV_TMR_data=TV_TMR_data[TMR_up_to_2019Q1_no_DMA.columns.tolist()]\n",
    "TV_TMR_data['week date']=TV_TMR_data['week date'].astype(str)"
   ]
  },
  {
   "cell_type": "code",
   "execution_count": 11,
   "metadata": {},
   "outputs": [
    {
     "name": "stdout",
     "output_type": "stream",
     "text": [
      "2019-05-19\n",
      "2019-06-30\n"
     ]
    }
   ],
   "source": [
    "print(TV_TMR_data['week date'].min())\n",
    "print(TV_TMR_data['week date'].max())"
   ]
  },
  {
   "cell_type": "code",
   "execution_count": 12,
   "metadata": {},
   "outputs": [
    {
     "data": {
      "text/html": [
       "<div>\n",
       "<style scoped>\n",
       "    .dataframe tbody tr th:only-of-type {\n",
       "        vertical-align: middle;\n",
       "    }\n",
       "\n",
       "    .dataframe tbody tr th {\n",
       "        vertical-align: top;\n",
       "    }\n",
       "\n",
       "    .dataframe thead th {\n",
       "        text-align: right;\n",
       "    }\n",
       "</style>\n",
       "<table border=\"1\" class=\"dataframe\">\n",
       "  <thead>\n",
       "    <tr style=\"text-align: right;\">\n",
       "      <th></th>\n",
       "      <th>week date</th>\n",
       "      <th>media</th>\n",
       "      <th>submedia</th>\n",
       "      <th>placement</th>\n",
       "      <th>impression</th>\n",
       "      <th>click</th>\n",
       "      <th>cost</th>\n",
       "    </tr>\n",
       "  </thead>\n",
       "  <tbody>\n",
       "    <tr>\n",
       "      <th>0</th>\n",
       "      <td>2019-05-19</td>\n",
       "      <td>TV</td>\n",
       "      <td>National</td>\n",
       "      <td>BRAV</td>\n",
       "      <td>226629</td>\n",
       "      <td>0</td>\n",
       "      <td>0.00</td>\n",
       "    </tr>\n",
       "    <tr>\n",
       "      <th>1</th>\n",
       "      <td>2019-05-19</td>\n",
       "      <td>TV</td>\n",
       "      <td>National</td>\n",
       "      <td>E!</td>\n",
       "      <td>1706420</td>\n",
       "      <td>0</td>\n",
       "      <td>32900.95</td>\n",
       "    </tr>\n",
       "  </tbody>\n",
       "</table>\n",
       "</div>"
      ],
      "text/plain": [
       "    week date media  submedia placement  impression  click      cost\n",
       "0  2019-05-19    TV  National      BRAV      226629      0      0.00\n",
       "1  2019-05-19    TV  National        E!     1706420      0  32900.95"
      ]
     },
     "execution_count": 12,
     "metadata": {},
     "output_type": "execute_result"
    }
   ],
   "source": [
    "TV_TMR_data.head(2)"
   ]
  },
  {
   "cell_type": "markdown",
   "metadata": {},
   "source": [
    "# Others"
   ]
  },
  {
   "cell_type": "code",
   "execution_count": 13,
   "metadata": {
    "collapsed": true
   },
   "outputs": [],
   "source": [
    "Others_TMR_week=pd.read_excel(\"/home/jian/Projects/Big_Lots/TMR/TMR_data/Up_to_2019Q2/input_2019Q2/DatoramaData_2019Q2_1113.xlsx\",\n",
    "                              dtype=str,sheet_name=\"BL_2019Q2_TMR\")\n",
    "Others_TMR_week=Others_TMR_week.rename(columns={\"Week\":\"week date\",\"Media\":\"media\",\"Submedia\":\"submedia\",\"Placement\":\"placement\",\n",
    "                                               \"Impressions\":\"impression\",\"Clicks\":\"click\",\"Media Cost\":\"cost\"})\n",
    "Others_TMR_week['week date']=Others_TMR_week['week date'].apply(lambda x: x[:10])\n",
    "Others_TMR_week['impression']=Others_TMR_week['impression'].fillna(0).astype(float).astype(int)\n",
    "Others_TMR_week['click']=Others_TMR_week['click'].fillna(0).astype(float).astype(int)\n",
    "Others_TMR_week['cost']=Others_TMR_week['cost'].fillna(0).astype(float)\n"
   ]
  },
  {
   "cell_type": "markdown",
   "metadata": {},
   "source": [
    "### Revise Emails"
   ]
  },
  {
   "cell_type": "code",
   "execution_count": 14,
   "metadata": {},
   "outputs": [
    {
     "data": {
      "text/plain": [
       "(2033659691, 926910.6031155817)"
      ]
     },
     "execution_count": 14,
     "metadata": {},
     "output_type": "execute_result"
    }
   ],
   "source": [
    "Others_TMR_week_1=Others_TMR_week[Others_TMR_week['media']!=\"Email\"]\n",
    "Others_TMR_week_2=Others_TMR_week[Others_TMR_week['media']==\"Email\"]\n",
    "Others_TMR_week_2['impression'].sum(),Others_TMR_week_2['cost'].sum()"
   ]
  },
  {
   "cell_type": "code",
   "execution_count": 15,
   "metadata": {},
   "outputs": [
    {
     "name": "stdout",
     "output_type": "stream",
     "text": [
      "0.00023818259389773427\n",
      "0.23818259389773427\n"
     ]
    },
    {
     "name": "stderr",
     "output_type": "stream",
     "text": [
      "/usr/local/lib/python3.6/site-packages/ipykernel_launcher.py:7: SettingWithCopyWarning: \n",
      "A value is trying to be set on a copy of a slice from a DataFrame.\n",
      "Try using .loc[row_indexer,col_indexer] = value instead\n",
      "\n",
      "See the caveats in the documentation: http://pandas.pydata.org/pandas-docs/stable/user_guide/indexing.html#returning-a-view-versus-a-copy\n",
      "  import sys\n"
     ]
    }
   ],
   "source": [
    "# Based on the 2019Q1 number\n",
    "# Email from Kipp, Bryan 2019 July 19, Friday 5:17 p.m.\n",
    "email_cost_client=494229\n",
    "email_cost_impression=2075000494\n",
    "new_email_c_p_impr=email_cost_client/email_cost_impression\n",
    "print(new_email_c_p_impr)\n",
    "Others_TMR_week_2['cost']=Others_TMR_week_2['impression']*new_email_c_p_impr\n",
    "print(new_email_c_p_impr*1000)"
   ]
  },
  {
   "cell_type": "code",
   "execution_count": 16,
   "metadata": {},
   "outputs": [
    {
     "name": "stdout",
     "output_type": "stream",
     "text": [
      "2019-05-05\n",
      "2019-07-28\n"
     ]
    }
   ],
   "source": [
    "print(Others_TMR_week_2['week date'].min())\n",
    "print(Others_TMR_week_2['week date'].max())\n",
    "\n",
    "Others_TMR_week=Others_TMR_week_1.append(Others_TMR_week_2)"
   ]
  },
  {
   "cell_type": "markdown",
   "metadata": {},
   "source": [
    "## Add Print Circ"
   ]
  },
  {
   "cell_type": "code",
   "execution_count": 17,
   "metadata": {
    "collapsed": true
   },
   "outputs": [],
   "source": [
    "updated_circ_2019Q2_Kayla=pd.read_excel(\"/home/jian/Projects/Big_Lots/TMR/TMR_data/Up_to_2019Q2/input_2019Q2/Q2_National_TV_Print Circ_TMR Reports 10.10.19.xlsx\",\n",
    "                                        dtype=str,skiprows=1,sheet_name=\"Q2 Print Circ 2019\")"
   ]
  },
  {
   "cell_type": "code",
   "execution_count": 18,
   "metadata": {
    "collapsed": true
   },
   "outputs": [],
   "source": [
    "updated_circ_2019Q2_Kayla=updated_circ_2019Q2_Kayla[['week_start_Sunday','Circulation actual delivers','Circulation total cost']]\n",
    "updated_circ_2019Q2_Kayla=updated_circ_2019Q2_Kayla.rename(columns={\"week_start_Sunday\":\"week date\",\n",
    "                                                                   \"Circulation actual delivers\":\"impression\",\n",
    "                                                                   \"Circulation total cost\":\"cost\"})\n",
    "updated_circ_2019Q2_Kayla['impression']=updated_circ_2019Q2_Kayla['impression'].astype(int)\n",
    "updated_circ_2019Q2_Kayla['cost']=updated_circ_2019Q2_Kayla['cost'].astype(float)\n",
    "\n",
    "updated_circ_2019Q2_Kayla['week date']=updated_circ_2019Q2_Kayla['week date'].apply(lambda x: x.split(\" \")[0])\n",
    "updated_circ_2019Q2_Kayla['click']=0\n",
    "updated_circ_2019Q2_Kayla['media']=\"Circulation\"\n",
    "updated_circ_2019Q2_Kayla['submedia']=\"xx\"\n",
    "updated_circ_2019Q2_Kayla['placement']=\"xx\"\n",
    "updated_circ_2019Q2_Kayla=updated_circ_2019Q2_Kayla[Others_TMR_week.columns.tolist()]\n",
    "\n"
   ]
  },
  {
   "cell_type": "code",
   "execution_count": 19,
   "metadata": {},
   "outputs": [
    {
     "data": {
      "text/html": [
       "<div>\n",
       "<style scoped>\n",
       "    .dataframe tbody tr th:only-of-type {\n",
       "        vertical-align: middle;\n",
       "    }\n",
       "\n",
       "    .dataframe tbody tr th {\n",
       "        vertical-align: top;\n",
       "    }\n",
       "\n",
       "    .dataframe thead th {\n",
       "        text-align: right;\n",
       "    }\n",
       "</style>\n",
       "<table border=\"1\" class=\"dataframe\">\n",
       "  <thead>\n",
       "    <tr style=\"text-align: right;\">\n",
       "      <th></th>\n",
       "      <th>week date</th>\n",
       "      <th>media</th>\n",
       "      <th>submedia</th>\n",
       "      <th>placement</th>\n",
       "      <th>impression</th>\n",
       "      <th>click</th>\n",
       "      <th>cost</th>\n",
       "    </tr>\n",
       "  </thead>\n",
       "  <tbody>\n",
       "    <tr>\n",
       "      <th>0</th>\n",
       "      <td>2019-05-05</td>\n",
       "      <td>Circulation</td>\n",
       "      <td>xx</td>\n",
       "      <td>xx</td>\n",
       "      <td>0</td>\n",
       "      <td>0</td>\n",
       "      <td>0.0</td>\n",
       "    </tr>\n",
       "    <tr>\n",
       "      <th>1</th>\n",
       "      <td>2019-05-12</td>\n",
       "      <td>Circulation</td>\n",
       "      <td>xx</td>\n",
       "      <td>xx</td>\n",
       "      <td>0</td>\n",
       "      <td>0</td>\n",
       "      <td>0.0</td>\n",
       "    </tr>\n",
       "  </tbody>\n",
       "</table>\n",
       "</div>"
      ],
      "text/plain": [
       "    week date        media submedia placement  impression  click  cost\n",
       "0  2019-05-05  Circulation       xx        xx           0      0   0.0\n",
       "1  2019-05-12  Circulation       xx        xx           0      0   0.0"
      ]
     },
     "execution_count": 19,
     "metadata": {},
     "output_type": "execute_result"
    }
   ],
   "source": [
    "updated_circ_2019Q2_Kayla.head(2)"
   ]
  },
  {
   "cell_type": "code",
   "execution_count": 20,
   "metadata": {},
   "outputs": [
    {
     "name": "stdout",
     "output_type": "stream",
     "text": [
      "week date [<class 'str'>]\n",
      "media [<class 'str'>]\n",
      "submedia [<class 'str'>]\n",
      "placement [<class 'str'>]\n",
      "impression [<class 'int'>]\n",
      "click [<class 'int'>]\n",
      "cost [<class 'float'>]\n"
     ]
    }
   ],
   "source": [
    "for col in Others_TMR_week.columns.tolist():\n",
    "    print(col,Others_TMR_week[col].apply(type).unique())\n",
    "    \n",
    "Others_TMR_week=Others_TMR_week[Others_TMR_week['media']!=\"Circulation\"] \n",
    "Others_TMR_week=Others_TMR_week.append(updated_circ_2019Q2_Kayla)"
   ]
  },
  {
   "cell_type": "markdown",
   "metadata": {},
   "source": [
    "# adjust media numbers in house"
   ]
  },
  {
   "cell_type": "code",
   "execution_count": 21,
   "metadata": {},
   "outputs": [
    {
     "name": "stdout",
     "output_type": "stream",
     "text": [
      "df_circ_in_quarter['impression'].sum(): 82281119\n",
      "df_circ_in_quarter['click'].sum(): 0\n",
      "df_circ_in_quarter['cost'].sum(): 4917129.82\n",
      "df_circ_in_quarter['impression'].sum(): 82346551 new\n",
      "df_circ_in_quarter['cost'].sum(): 4706007.0 new\n"
     ]
    }
   ],
   "source": [
    "# Circulation\n",
    "\n",
    "df_circ_in_quarter=Others_TMR_week[Others_TMR_week['media']==\"Circulation\"]\n",
    "Others_TMR_week=Others_TMR_week[Others_TMR_week['media']!=\"Circulation\"]\n",
    "\n",
    "old_impr_total_circ=df_circ_in_quarter['impression'].sum()\n",
    "old_click_total_circ=df_circ_in_quarter['click'].sum()\n",
    "old_cost_total_circ=df_circ_in_quarter['cost'].sum()\n",
    "\n",
    "print(\"df_circ_in_quarter['impression'].sum():\", old_impr_total_circ)\n",
    "print(\"df_circ_in_quarter['click'].sum():\", old_click_total_circ)\n",
    "print(\"df_circ_in_quarter['cost'].sum():\", old_cost_total_circ)\n",
    "\n",
    "new_clients_impr=82346555\n",
    "new_clients_click=0\n",
    "new_clients_cost=4706007\n",
    "\n",
    "df_circ_in_quarter['impression']=df_circ_in_quarter['impression'].apply(lambda x: int(x/old_impr_total_circ*new_clients_impr))\n",
    "# df_circ_in_quarter['click']=df_circ_in_quarter['click'].apply(lambda x: int(x/old_click_total_circ*new_clients_click))\n",
    "df_circ_in_quarter['cost']=df_circ_in_quarter['cost'].apply(lambda x: x/old_cost_total_circ*new_clients_cost)\n",
    "\n",
    "print(\"df_circ_in_quarter['impression'].sum():\", df_circ_in_quarter['impression'].sum(),\"new\")\n",
    "# print(\"df_circ_in_quarter['click'].sum():\", df_circ_in_quarter['click'].sum(),\"new\")\n",
    "print(\"df_circ_in_quarter['cost'].sum():\", df_circ_in_quarter['cost'].sum(),\"new\")\n",
    "\n",
    "\n",
    "Others_TMR_week=Others_TMR_week.append(df_circ_in_quarter)"
   ]
  },
  {
   "cell_type": "code",
   "execution_count": 22,
   "metadata": {},
   "outputs": [
    {
     "name": "stdout",
     "output_type": "stream",
     "text": [
      "df_flipp_in_quarter_hosted['impression'].sum(): 3277907\n",
      "df_flipp_in_quarter_hosted['click'].sum(): 2833954\n",
      "df_flipp_in_quarter_hosted['cost'].sum(): 0.0\n",
      "df_flipp_in_quarter_nonhosted['impression'].sum(): 2417806\n",
      "df_flipp_in_quarter_nonhosted['click'].sum(): 1242041\n",
      "df_flipp_in_quarter_nonhosted['cost'].sum(): 360191.8899999996\n",
      "df_flipp_in_quarter_hosted['impression'].sum(): 3281327 new\n",
      "df_flipp_in_quarter_hosted['click'].sum(): 2740345 new\n",
      "df_flipp_in_quarter_hosted['cost'].sum(): 0.0 new\n",
      "df_flipp_in_quarter_nonhosted['impression'].sum(): 2415561 new\n",
      "df_flipp_in_quarter_nonhosted['click'].sum(): 971272 new\n",
      "df_flipp_in_quarter_nonhosted['cost'].sum(): 356158.0 new\n"
     ]
    }
   ],
   "source": [
    "# Flipp\n",
    "\n",
    "df_flipp_in_quarter_hosted=Others_TMR_week[(Others_TMR_week['submedia']==\"Flipp\") & (Others_TMR_week['placement']==\"Hosted\")]\n",
    "df_flipp_in_quarter_nonhosted=Others_TMR_week[(Others_TMR_week['submedia']==\"Flipp\") & (Others_TMR_week['placement']!=\"Hosted\")]\n",
    "Others_TMR_week=Others_TMR_week[(Others_TMR_week['submedia']!=\"Flipp\")]\n",
    "\n",
    "\n",
    "old_impr_hosted_flipp=df_flipp_in_quarter_hosted['impression'].sum()\n",
    "old_click_hosted_flipp=df_flipp_in_quarter_hosted['click'].sum()\n",
    "old_cost_hosted_flipp=df_flipp_in_quarter_hosted['cost'].sum()\n",
    "\n",
    "old_impr_Nonhosted_flipp=df_flipp_in_quarter_nonhosted['impression'].sum()\n",
    "old_click_Nonhosted_flipp=df_flipp_in_quarter_nonhosted['click'].sum()\n",
    "old_cost_Nonhosted_flipp=df_flipp_in_quarter_nonhosted['cost'].sum()\n",
    "\n",
    "print(\"df_flipp_in_quarter_hosted['impression'].sum():\", old_impr_hosted_flipp)\n",
    "print(\"df_flipp_in_quarter_hosted['click'].sum():\", old_click_hosted_flipp)\n",
    "print(\"df_flipp_in_quarter_hosted['cost'].sum():\", old_cost_hosted_flipp)\n",
    "\n",
    "print(\"df_flipp_in_quarter_nonhosted['impression'].sum():\", old_impr_Nonhosted_flipp)\n",
    "print(\"df_flipp_in_quarter_nonhosted['click'].sum():\", old_click_Nonhosted_flipp)\n",
    "print(\"df_flipp_in_quarter_nonhosted['cost'].sum():\", old_cost_Nonhosted_flipp)\n",
    "\n",
    "new_clients_impr_hosted_flipp=3281334\n",
    "new_clients_click_hosted_flipp=2740351\n",
    "# new_clients_cost_hosted_flipp=0\n",
    "df_flipp_in_quarter_hosted['impression']=df_flipp_in_quarter_hosted['impression'].apply(lambda x: int(x/old_impr_hosted_flipp*new_clients_impr_hosted_flipp))\n",
    "df_flipp_in_quarter_hosted['click']=df_flipp_in_quarter_hosted['click'].apply(lambda x: int(x/old_click_hosted_flipp*new_clients_click_hosted_flipp))\n",
    "# df_flipp_in_quarter_hosted['cost']=df_flipp_in_quarter_hosted['cost'].apply(lambda x: x/old_cost_total_circ*new_clients_cost)\n",
    "print(\"df_flipp_in_quarter_hosted['impression'].sum():\", df_flipp_in_quarter_hosted['impression'].sum(),\"new\")\n",
    "print(\"df_flipp_in_quarter_hosted['click'].sum():\", df_flipp_in_quarter_hosted['click'].sum(),\"new\")\n",
    "print(\"df_flipp_in_quarter_hosted['cost'].sum():\", df_flipp_in_quarter_hosted['cost'].sum(),\"new\")\n",
    "\n",
    "############\n",
    "new_clients_impr_Nonhosted_flipp=2415572\n",
    "new_clients_click_Nonhosted_flipp=971281\n",
    "new_clients_cost_Nonhosted_flipp=356158\n",
    "df_flipp_in_quarter_nonhosted['impression']=df_flipp_in_quarter_nonhosted['impression'].apply(lambda x: int(x/old_impr_Nonhosted_flipp*new_clients_impr_Nonhosted_flipp))\n",
    "df_flipp_in_quarter_nonhosted['click']=df_flipp_in_quarter_nonhosted['click'].apply(lambda x: int(x/old_click_Nonhosted_flipp*new_clients_click_Nonhosted_flipp))\n",
    "df_flipp_in_quarter_nonhosted['cost']=df_flipp_in_quarter_nonhosted['cost'].apply(lambda x: x/old_cost_Nonhosted_flipp*new_clients_cost_Nonhosted_flipp)\n",
    "print(\"df_flipp_in_quarter_nonhosted['impression'].sum():\", df_flipp_in_quarter_nonhosted['impression'].sum(),\"new\")\n",
    "print(\"df_flipp_in_quarter_nonhosted['click'].sum():\", df_flipp_in_quarter_nonhosted['click'].sum(),\"new\")\n",
    "print(\"df_flipp_in_quarter_nonhosted['cost'].sum():\", df_flipp_in_quarter_nonhosted['cost'].sum(),\"new\")\n",
    "\n",
    "\n",
    "Others_TMR_week=Others_TMR_week.append(df_flipp_in_quarter_hosted).append(df_flipp_in_quarter_nonhosted)\n"
   ]
  },
  {
   "cell_type": "code",
   "execution_count": 23,
   "metadata": {},
   "outputs": [
    {
     "data": {
      "text/plain": [
       "array(['Digital', 'Email', 'Circulation'], dtype=object)"
      ]
     },
     "execution_count": 23,
     "metadata": {},
     "output_type": "execute_result"
    }
   ],
   "source": [
    "Others_TMR_week['media'].unique()"
   ]
  },
  {
   "cell_type": "code",
   "execution_count": 24,
   "metadata": {},
   "outputs": [
    {
     "name": "stdout",
     "output_type": "stream",
     "text": [
      "df_in_quarter_email['impression'].sum(): 2033659691\n",
      "df_in_quarter_email['click'].sum(): 16128461\n",
      "df_in_quarter_email['cost'].sum(): 484382.34030764474\n",
      "df_in_quarter_email['impression'].sum(): 2033659691 new\n",
      "df_in_quarter_email['click'].sum(): 16128461 new\n",
      "df_in_quarter_email['cost'].sum(): 530690.0 new\n"
     ]
    }
   ],
   "source": [
    "# Email confirmed from Dom on 2019 11 15, 1:44 pm\n",
    "df_in_quarter_email=Others_TMR_week[(Others_TMR_week['media']==\"Email\")]\n",
    "Others_TMR_week=Others_TMR_week[(Others_TMR_week['media']!=\"Email\")]\n",
    "\n",
    "old_impr_email=df_in_quarter_email['impression'].sum()\n",
    "old_click_email=df_in_quarter_email['click'].sum()\n",
    "old_cost_email=df_in_quarter_email['cost'].sum()\n",
    "\n",
    "\n",
    "print(\"df_in_quarter_email['impression'].sum():\", old_impr_email)\n",
    "print(\"df_in_quarter_email['click'].sum():\", old_click_email)\n",
    "print(\"df_in_quarter_email['cost'].sum():\", old_cost_email)\n",
    "\n",
    "# new_clients_impr_email=2.04B\n",
    "# new_clients_click_email=/\n",
    "new_clients_cost_email=530690\n",
    "\n",
    "# df_in_quarter_email['impression']=df_in_quarter_email['impression'].apply(lambda x: int(x/*))\n",
    "# df_in_quarter_email['click']=df_in_quarter_email['click'].apply(lambda x: int(x/*))\n",
    "df_in_quarter_email['cost']=df_in_quarter_email['cost'].apply(lambda x: x/old_cost_email*new_clients_cost_email)\n",
    "\n",
    "print(\"df_in_quarter_email['impression'].sum():\", df_in_quarter_email['impression'].sum(),\"new\")\n",
    "print(\"df_in_quarter_email['click'].sum():\", df_in_quarter_email['click'].sum(),\"new\")\n",
    "print(\"df_in_quarter_email['cost'].sum():\", df_in_quarter_email['cost'].sum(),\"new\")\n",
    "\n",
    "Others_TMR_week=Others_TMR_week.append(df_in_quarter_email)"
   ]
  },
  {
   "cell_type": "code",
   "execution_count": null,
   "metadata": {
    "collapsed": true
   },
   "outputs": [],
   "source": []
  },
  {
   "cell_type": "markdown",
   "metadata": {},
   "source": [
    "# Cumulative Q2 TMR"
   ]
  },
  {
   "cell_type": "code",
   "execution_count": 25,
   "metadata": {},
   "outputs": [
    {
     "name": "stderr",
     "output_type": "stream",
     "text": [
      "/home/jian/.local/lib/python3.6/site-packages/pandas/core/frame.py:7138: FutureWarning: Sorting because non-concatenation axis is not aligned. A future version\n",
      "of pandas will change to not sort by default.\n",
      "\n",
      "To accept the future behavior, pass 'sort=False'.\n",
      "\n",
      "To retain the current behavior and silence the warning, pass 'sort=True'.\n",
      "\n",
      "  sort=sort,\n"
     ]
    }
   ],
   "source": [
    "Q2_2019_only_TMR=Others_TMR_week.append(TV_TMR_data)\n",
    "\n",
    "Cum_Q2_2019_TMR=TMR_up_to_2019Q1.append(Q2_2019_only_TMR)"
   ]
  },
  {
   "cell_type": "code",
   "execution_count": 26,
   "metadata": {
    "collapsed": true
   },
   "outputs": [],
   "source": [
    "try:\n",
    "    os.stat(\"/home/jian/Projects/Big_Lots/TMR/TMR_data/Up_to_2019Q2/output/\")\n",
    "except:\n",
    "    os.mkdir(\"/home/jian/Projects/Big_Lots/TMR/TMR_data/Up_to_2019Q2/output/\")\n",
    "\n",
    "Q2_2019_only_TMR.to_csv(\"/home/jian/Projects/Big_Lots/TMR/TMR_data/Up_to_2019Q2/output/BL_MMM_2019Q2_Only_JL_\"+str(datetime.datetime.now().date())+\".csv\",index=False)\n",
    "Cum_Q2_2019_TMR.to_csv(\"/home/jian/Projects/Big_Lots/TMR/TMR_data/Up_to_2019Q2/output/BL_MMM_long_cumu_up_to_2019Q2_JL_\"+str(datetime.datetime.now().date())+\".csv\",index=False)\n",
    "\n"
   ]
  },
  {
   "cell_type": "code",
   "execution_count": 27,
   "metadata": {},
   "outputs": [
    {
     "data": {
      "text/plain": [
       "array(['FSI+Instore', 'Valassis', 'xx'], dtype=object)"
      ]
     },
     "execution_count": 27,
     "metadata": {},
     "output_type": "execute_result"
    }
   ],
   "source": [
    "Cum_Q2_2019_TMR[Cum_Q2_2019_TMR['media']==\"Circulation\"]['submedia'].unique()"
   ]
  },
  {
   "cell_type": "code",
   "execution_count": 28,
   "metadata": {},
   "outputs": [
    {
     "data": {
      "text/plain": [
       "(3484039, 8)"
      ]
     },
     "execution_count": 28,
     "metadata": {},
     "output_type": "execute_result"
    }
   ],
   "source": [
    "Cum_Q2_2019_TMR.shape"
   ]
  },
  {
   "cell_type": "code",
   "execution_count": 29,
   "metadata": {},
   "outputs": [
    {
     "data": {
      "text/plain": [
       "{6}"
      ]
     },
     "execution_count": 29,
     "metadata": {},
     "output_type": "execute_result"
    }
   ],
   "source": [
    "set([datetime.datetime.strptime(x,\"%Y-%m-%d\").weekday() for x in Cum_Q2_2019_TMR['week date'].unique().tolist()])"
   ]
  },
  {
   "cell_type": "code",
   "execution_count": 30,
   "metadata": {},
   "outputs": [
    {
     "data": {
      "text/plain": [
       "array(['Flipp App', 'Native Network'], dtype=object)"
      ]
     },
     "execution_count": 30,
     "metadata": {},
     "output_type": "execute_result"
    }
   ],
   "source": [
    "df_temp_check=Cum_Q2_2019_TMR[(Cum_Q2_2019_TMR['submedia']==\"Flipp\") & (Cum_Q2_2019_TMR['placement']!=\"Hosted\")]\n",
    "df_temp_check['placement'].unique()"
   ]
  },
  {
   "cell_type": "code",
   "execution_count": 31,
   "metadata": {},
   "outputs": [
    {
     "data": {
      "text/plain": [
       "array(['Hosted'], dtype=object)"
      ]
     },
     "execution_count": 31,
     "metadata": {},
     "output_type": "execute_result"
    }
   ],
   "source": [
    "df_temp_check=Cum_Q2_2019_TMR[(Cum_Q2_2019_TMR['submedia']==\"Flipp\") & (Cum_Q2_2019_TMR['placement']==\"Hosted\")]\n",
    "df_temp_check['placement'].unique()"
   ]
  },
  {
   "cell_type": "markdown",
   "metadata": {
    "collapsed": true
   },
   "source": [
    "# Wide"
   ]
  },
  {
   "cell_type": "code",
   "execution_count": 32,
   "metadata": {},
   "outputs": [
    {
     "name": "stderr",
     "output_type": "stream",
     "text": [
      "/usr/local/lib/python3.6/site-packages/ipykernel_launcher.py:3: SettingWithCopyWarning: \n",
      "A value is trying to be set on a copy of a slice from a DataFrame.\n",
      "Try using .loc[row_indexer,col_indexer] = value instead\n",
      "\n",
      "See the caveats in the documentation: http://pandas.pydata.org/pandas-docs/stable/user_guide/indexing.html#returning-a-view-versus-a-copy\n",
      "  This is separate from the ipykernel package so we can avoid doing imports until\n",
      "/usr/local/lib/python3.6/site-packages/ipykernel_launcher.py:6: SettingWithCopyWarning: \n",
      "A value is trying to be set on a copy of a slice from a DataFrame.\n",
      "Try using .loc[row_indexer,col_indexer] = value instead\n",
      "\n",
      "See the caveats in the documentation: http://pandas.pydata.org/pandas-docs/stable/user_guide/indexing.html#returning-a-view-versus-a-copy\n",
      "  \n"
     ]
    }
   ],
   "source": [
    "# seperate the hosted flipp\n",
    "Cum_Q2_2019_TMR_FlippHost=Cum_Q2_2019_TMR[(Cum_Q2_2019_TMR['submedia']==\"Flipp\") & (Cum_Q2_2019_TMR['placement']==\"Hosted\")]\n",
    "Cum_Q2_2019_TMR_FlippHost['submedia']=\"Flipp(hosted)\"\n",
    "\n",
    "Cum_Q2_2019_TMR_FlippNonHost=Cum_Q2_2019_TMR[(Cum_Q2_2019_TMR['submedia']==\"Flipp\") & (Cum_Q2_2019_TMR['placement']!=\"Hosted\")]\n",
    "Cum_Q2_2019_TMR_FlippNonHost['submedia']=\"Flipp(nonhosted)\"\n",
    "\n",
    "\n",
    "Cum_Q2_2019_TMR=Cum_Q2_2019_TMR[(Cum_Q2_2019_TMR['submedia']!=\"Flipp\")]\n",
    "Cum_Q2_2019_TMR['submedia']=np.where(Cum_Q2_2019_TMR['media']==\"Circulation\",\"xx\",Cum_Q2_2019_TMR['submedia'])\n",
    "\n",
    "\n",
    "Cum_Q2_2019_TMR=Cum_Q2_2019_TMR.append(Cum_Q2_2019_TMR_FlippHost).append(Cum_Q2_2019_TMR_FlippNonHost)\n",
    "\n",
    "\n",
    "########################\n",
    "\n",
    "data_media_national=Cum_Q2_2019_TMR.groupby(['week date','media'])['impression','click','cost'].sum().reset_index()\n",
    "data_submedia_national=Cum_Q2_2019_TMR.groupby(['week date','media','submedia'])['impression','click','cost'].sum().reset_index()\n",
    "data_submedia_national['media_submedia']=data_submedia_national['media']+\"-\"+data_submedia_national['submedia']\n",
    "data_submedia_national=data_submedia_national[['week date','media_submedia','impression','click','cost']]\n",
    "\n",
    "\n",
    "data_media_national_wide=data_media_national[['week date']].drop_duplicates()\n",
    "for col in data_media_national.columns.tolist()[-3:]:\n",
    "    df=data_media_national[['week date','media']+[col]].pivot(index='week date',columns='media',values=col).reset_index()\n",
    "    df_new_col_list=df.columns.tolist()\n",
    "    df_new_col_list.remove('week date')\n",
    "    df_new_col_dict={}\n",
    "    for new_col in df_new_col_list:\n",
    "        df_new_col_dict.update({new_col:new_col+\"_\"+col})\n",
    "    df=df.rename(columns=df_new_col_dict)\n",
    "    data_media_national_wide=pd.merge(data_media_national_wide,df,on='week date',how=\"outer\")\n",
    "data_media_national_wide=data_media_national_wide.fillna(0)\n",
    "data_media_national_wide=data_media_national_wide.drop_duplicates()\n",
    "#############\n",
    "\n",
    "data_submedia_national_wide=data_submedia_national[['week date']].drop_duplicates()\n",
    "for col in data_submedia_national.columns.tolist()[-3:]:\n",
    "    df=data_submedia_national[['week date','media_submedia']+[col]].pivot(index='week date',columns='media_submedia',values=col).reset_index()\n",
    "    df_new_col_list=df.columns.tolist()\n",
    "    df_new_col_list.remove('week date')\n",
    "    df_new_col_dict={}\n",
    "    for new_col in df_new_col_list:\n",
    "        df_new_col_dict.update({new_col:new_col+\"_\"+col})\n",
    "    df=df.rename(columns=df_new_col_dict)\n",
    "    data_submedia_national_wide=pd.merge(data_submedia_national_wide,df,on='week date',how=\"outer\")\n",
    "data_submedia_national_wide=data_submedia_national_wide.fillna(0)\n",
    "data_submedia_national_wide=data_submedia_national_wide.drop_duplicates()\n"
   ]
  },
  {
   "cell_type": "code",
   "execution_count": 33,
   "metadata": {},
   "outputs": [
    {
     "data": {
      "text/plain": [
       "array([<class 'int'>], dtype=object)"
      ]
     },
     "execution_count": 33,
     "metadata": {},
     "output_type": "execute_result"
    }
   ],
   "source": [
    "Cum_Q2_2019_TMR['click'].apply(lambda x: type(x)).unique()"
   ]
  },
  {
   "cell_type": "code",
   "execution_count": 34,
   "metadata": {
    "collapsed": true
   },
   "outputs": [],
   "source": [
    "including_weeks=[str(datetime.date(2019,8,3)-datetime.timedelta(days=7*x+6)) for x in range(104)]\n",
    "\n",
    "\n",
    "data_media_national_wide=data_media_national_wide.sort_values(\"week date\")\n",
    "data_media_national_wide=data_media_national_wide[data_media_national_wide['week date'].isin(including_weeks)]\n",
    "\n",
    "data_submedia_national_wide=data_submedia_national_wide.sort_values(\"week date\")\n",
    "data_submedia_national_wide=data_submedia_national_wide[data_submedia_national_wide['week date'].isin(including_weeks)]\n",
    "\n"
   ]
  },
  {
   "cell_type": "code",
   "execution_count": 35,
   "metadata": {},
   "outputs": [
    {
     "data": {
      "text/html": [
       "<div>\n",
       "<style scoped>\n",
       "    .dataframe tbody tr th:only-of-type {\n",
       "        vertical-align: middle;\n",
       "    }\n",
       "\n",
       "    .dataframe tbody tr th {\n",
       "        vertical-align: top;\n",
       "    }\n",
       "\n",
       "    .dataframe thead th {\n",
       "        text-align: right;\n",
       "    }\n",
       "</style>\n",
       "<table border=\"1\" class=\"dataframe\">\n",
       "  <thead>\n",
       "    <tr style=\"text-align: right;\">\n",
       "      <th></th>\n",
       "      <th>cleaned dma</th>\n",
       "      <th>click</th>\n",
       "      <th>cost</th>\n",
       "      <th>impression</th>\n",
       "      <th>media</th>\n",
       "      <th>placement</th>\n",
       "      <th>submedia</th>\n",
       "      <th>week date</th>\n",
       "    </tr>\n",
       "  </thead>\n",
       "  <tbody>\n",
       "    <tr>\n",
       "      <th>0</th>\n",
       "      <td>Los Angeles, CA</td>\n",
       "      <td>6687</td>\n",
       "      <td>309.818159</td>\n",
       "      <td>679747</td>\n",
       "      <td>Email</td>\n",
       "      <td>xx</td>\n",
       "      <td>xx</td>\n",
       "      <td>2016-09-25</td>\n",
       "    </tr>\n",
       "    <tr>\n",
       "      <th>1</th>\n",
       "      <td>Dallas-Ft. Worth, TX</td>\n",
       "      <td>3185</td>\n",
       "      <td>147.561605</td>\n",
       "      <td>323753</td>\n",
       "      <td>Email</td>\n",
       "      <td>xx</td>\n",
       "      <td>xx</td>\n",
       "      <td>2016-09-25</td>\n",
       "    </tr>\n",
       "  </tbody>\n",
       "</table>\n",
       "</div>"
      ],
      "text/plain": [
       "            cleaned dma  click        cost  impression  media placement  \\\n",
       "0       Los Angeles, CA   6687  309.818159      679747  Email        xx   \n",
       "1  Dallas-Ft. Worth, TX   3185  147.561605      323753  Email        xx   \n",
       "\n",
       "  submedia   week date  \n",
       "0       xx  2016-09-25  \n",
       "1       xx  2016-09-25  "
      ]
     },
     "execution_count": 35,
     "metadata": {},
     "output_type": "execute_result"
    }
   ],
   "source": [
    "Cum_Q2_2019_TMR.head(2)"
   ]
  },
  {
   "cell_type": "markdown",
   "metadata": {},
   "source": [
    "## Sales"
   ]
  },
  {
   "cell_type": "code",
   "execution_count": 36,
   "metadata": {
    "collapsed": true
   },
   "outputs": [],
   "source": [
    "sales_data=pd.read_csv(\"/home/jian/BiglotsCode/outputs/combined_sales_long_2019-10-26.csv\",dtype=str)\n",
    "sales_data=sales_data[sales_data['week_end_date']<=\"2019-08-03\"]\n",
    "sales_data['week_end_date']=sales_data['week_end_date'].apply(lambda x: datetime.datetime.strptime(x,\"%Y-%m-%d\").date())\n",
    "sales_data['sales']=sales_data['sales'].astype(float)\n",
    "sales_data['transactions']=sales_data['transactions'].astype(float)\n",
    "sales_data['week date']=sales_data['week_end_date'].apply(lambda x: x-datetime.timedelta(days=6))\n",
    "sales_data_naitonal=sales_data.groupby(['week date'])['sales','transactions'].sum().reset_index()\n",
    "sales_data_naitonal=sales_data_naitonal.set_index(['week date'])\n",
    "sales_data_naitonal.at[datetime.date(2017,4,30),'transactions']=(sales_data_naitonal.at[datetime.date(2017,4,23),'transactions']+sales_data_naitonal.at[datetime.date(2017,5,7),'transactions'])/2\n",
    "sales_data_naitonal=sales_data_naitonal.reset_index()\n",
    "sales_data_store_counts=sales_data[sales_data['sales']>0]\n",
    "sales_data_store_counts=sales_data_store_counts.groupby(['week date'])['location_id'].count().to_frame().reset_index().rename(columns={\"location_id\":\"store_counts\"})\n",
    "\n",
    "sales_data_naitonal=pd.merge(sales_data_naitonal,sales_data_store_counts,on=\"week date\",how=\"outer\")\n",
    "sales_data_naitonal['week date']=sales_data_naitonal['week date'].astype(str)"
   ]
  },
  {
   "cell_type": "code",
   "execution_count": 37,
   "metadata": {
    "collapsed": true
   },
   "outputs": [],
   "source": [
    "data_media_national_wide=pd.merge(data_media_national_wide,sales_data_naitonal,on=\"week date\",how=\"left\")\n",
    "data_submedia_national_wide=pd.merge(data_submedia_national_wide,sales_data_naitonal,on=\"week date\",how=\"left\")"
   ]
  },
  {
   "cell_type": "markdown",
   "metadata": {},
   "source": [
    "## Promotion"
   ]
  },
  {
   "cell_type": "code",
   "execution_count": 38,
   "metadata": {},
   "outputs": [
    {
     "name": "stderr",
     "output_type": "stream",
     "text": [
      "/usr/local/lib/python3.6/site-packages/ipykernel_launcher.py:21: SettingWithCopyWarning: \n",
      "A value is trying to be set on a copy of a slice from a DataFrame.\n",
      "Try using .loc[row_indexer,col_indexer] = value instead\n",
      "\n",
      "See the caveats in the documentation: http://pandas.pydata.org/pandas-docs/stable/user_guide/indexing.html#returning-a-view-versus-a-copy\n",
      "/usr/local/lib/python3.6/site-packages/ipykernel_launcher.py:23: SettingWithCopyWarning: \n",
      "A value is trying to be set on a copy of a slice from a DataFrame.\n",
      "Try using .loc[row_indexer,col_indexer] = value instead\n",
      "\n",
      "See the caveats in the documentation: http://pandas.pydata.org/pandas-docs/stable/user_guide/indexing.html#returning-a-view-versus-a-copy\n",
      "/usr/local/lib/python3.6/site-packages/ipykernel_launcher.py:27: SettingWithCopyWarning: \n",
      "A value is trying to be set on a copy of a slice from a DataFrame.\n",
      "Try using .loc[row_indexer,col_indexer] = value instead\n",
      "\n",
      "See the caveats in the documentation: http://pandas.pydata.org/pandas-docs/stable/user_guide/indexing.html#returning-a-view-versus-a-copy\n",
      "/usr/local/lib/python3.6/site-packages/ipykernel_launcher.py:29: SettingWithCopyWarning: \n",
      "A value is trying to be set on a copy of a slice from a DataFrame.\n",
      "Try using .loc[row_indexer,col_indexer] = value instead\n",
      "\n",
      "See the caveats in the documentation: http://pandas.pydata.org/pandas-docs/stable/user_guide/indexing.html#returning-a-view-versus-a-copy\n"
     ]
    }
   ],
   "source": [
    "Rewards_Promotion_list=[datetime.date(2016,10,1),datetime.date(2016,10,2),\n",
    "                        datetime.date(2017,1,21),datetime.date(2017,1,22),\n",
    "                        datetime.date(2017,4,1),datetime.date(2017,4,2),\n",
    "                        datetime.date(2017,7,8),datetime.date(2017,7,9),\n",
    "                        datetime.date(2017,9,30),datetime.date(2017,10,1),\n",
    "                        datetime.date(2018,1,20),datetime.date(2018,1,21),\n",
    "                        datetime.date(2018,4,7),datetime.date(2018,4,8),\n",
    "                        datetime.date(2018,7,7),datetime.date(2018,7,8),\n",
    "                        datetime.date(2018,9,29),datetime.date(2018,9,30),\n",
    "                        datetime.date(2019,1,26),datetime.date(2019,1,27),  # Changed here\n",
    "                        datetime.date(2019,4,6),datetime.date(2019,4,7),\n",
    "                        datetime.date(2019,7,13),datetime.date(2019,7,14)]\n",
    "\n",
    "df_Rewards_Promotion=pd.DataFrame({\"Date\":Rewards_Promotion_list},index=range(len(Rewards_Promotion_list)))\n",
    "df_Rewards_Promotion['weekday']=df_Rewards_Promotion['Date'].apply(lambda x: x.weekday())\n",
    "df_Rewards_Promotion['week date']=np.where(df_Rewards_Promotion['weekday']==6,df_Rewards_Promotion['Date'],df_Rewards_Promotion['Date']-datetime.timedelta(days=6))\n",
    "\n",
    "del df_Rewards_Promotion['Date']\n",
    "\n",
    "df_Rewards_Promotion_Sunday=df_Rewards_Promotion[df_Rewards_Promotion['weekday']==6]\n",
    "df_Rewards_Promotion_Sunday['Sunday_rewards_ind']=1\n",
    "del df_Rewards_Promotion_Sunday['weekday']\n",
    "df_Rewards_Promotion_Sunday['week date']=df_Rewards_Promotion_Sunday['week date'].astype(str)\n",
    "\n",
    "\n",
    "df_Rewards_Promotion_Saturday=df_Rewards_Promotion[df_Rewards_Promotion['weekday']==5]\n",
    "df_Rewards_Promotion_Saturday['Saturday_rewards_ind']=1\n",
    "del df_Rewards_Promotion_Saturday['weekday']\n",
    "df_Rewards_Promotion_Saturday['week date']=df_Rewards_Promotion_Saturday['week date'].astype(str)\n"
   ]
  },
  {
   "cell_type": "code",
   "execution_count": 39,
   "metadata": {
    "collapsed": true
   },
   "outputs": [],
   "source": [
    "holiday_1_week_df=pd.DataFrame({\"week date\":[datetime.date(2016,12,18),datetime.date(2017,12,17),datetime.date(2018,12,23)],\"Holiday_1_week_only_Ind\":[1]*3},index=[0,1,2])\n",
    "holiday_5_weeks_df=pd.DataFrame({\"week date\":[datetime.date(2016,12,18)-datetime.timedelta(days=x*7) for x in range(5)] +[datetime.date(2017,12,17)-datetime.timedelta(days=x*7) for x in range(5)]+[datetime.date(2018,12,23)-datetime.timedelta(days=x*7) for x in range(5)],\n",
    "                                 \"Holiday_5_weeks_only_Ind\":[1]*15},index=[x for x in range(15)])\n",
    "\n",
    "holiday_1_week_df['week date']=holiday_1_week_df['week date'].astype(str)\n",
    "holiday_5_weeks_df['week date']=holiday_5_weeks_df['week date'].astype(str)\n",
    "\n",
    "df_special_weeks_ind=pd.merge(df_Rewards_Promotion_Saturday,df_Rewards_Promotion_Sunday,on=\"week date\",how=\"outer\")\n",
    "df_special_weeks_ind=pd.merge(df_special_weeks_ind,holiday_1_week_df,on=\"week date\",how=\"outer\")\n",
    "df_special_weeks_ind=pd.merge(df_special_weeks_ind,holiday_5_weeks_df,on=\"week date\",how=\"outer\")\n"
   ]
  },
  {
   "cell_type": "code",
   "execution_count": 40,
   "metadata": {
    "collapsed": true
   },
   "outputs": [],
   "source": [
    "data_media_national_wide=pd.merge(data_media_national_wide,df_special_weeks_ind,on=\"week date\",how=\"left\")\n",
    "\n",
    "data_submedia_national_wide=pd.merge(data_submedia_national_wide,df_special_weeks_ind,on=\"week date\",how=\"left\")\n",
    "\n",
    "data_media_national_wide=data_media_national_wide.fillna(0)\n",
    "data_submedia_national_wide=data_submedia_national_wide.fillna(0)"
   ]
  },
  {
   "cell_type": "code",
   "execution_count": 41,
   "metadata": {
    "collapsed": true
   },
   "outputs": [],
   "source": [
    "data_media_national_wide.to_csv(\"/home/jian/Projects/Big_Lots/TMR/TMR_data/Up_to_2019Q2/output/BL_MMM_data_media_national_wide_JL_\"+str(datetime.datetime.now().date())+\".csv\",index=False)\n",
    "data_submedia_national_wide.to_csv(\"/home/jian/Projects/Big_Lots/TMR/TMR_data/Up_to_2019Q2/output/BL_MMM_data_submedia_national_wide_JL_\"+str(datetime.datetime.now().date())+\".csv\",index=False)\n",
    "\n",
    "# Note email cpm updated based on the Q2 client number\n",
    "# Flipp hosted seperated in wide version\n",
    "# Circ # is based on internal and different from Dom's "
   ]
  }
 ],
 "metadata": {
  "kernelspec": {
   "display_name": "Python 3",
   "language": "python",
   "name": "python3"
  },
  "language_info": {
   "codemirror_mode": {
    "name": "ipython",
    "version": 3
   },
   "file_extension": ".py",
   "mimetype": "text/x-python",
   "name": "python",
   "nbconvert_exporter": "python",
   "pygments_lexer": "ipython3",
   "version": "3.6.1"
  }
 },
 "nbformat": 4,
 "nbformat_minor": 2
}
