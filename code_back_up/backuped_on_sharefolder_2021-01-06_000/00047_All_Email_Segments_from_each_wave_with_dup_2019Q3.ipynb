{
 "cells": [
  {
   "cell_type": "code",
   "execution_count": 1,
   "metadata": {},
   "outputs": [
    {
     "data": {
      "text/plain": [
       "'/home/jian/Projects/Big_Lots/Live_Ramp/Mapping_Files/2019_Q3'"
      ]
     },
     "execution_count": 1,
     "metadata": {},
     "output_type": "execute_result"
    }
   ],
   "source": [
    "# 2019 Q3\n",
    "# In 2019Q3, checked on LR Connection UI, only quarterly segments & new sign ups\n",
    "import pandas as pd\n",
    "import numpy as np\n",
    "import datetime\n",
    "import os\n",
    "import gc\n",
    "import glob\n",
    "os.getcwd()"
   ]
  },
  {
   "cell_type": "code",
   "execution_count": 2,
   "metadata": {
    "collapsed": true
   },
   "outputs": [],
   "source": [
    "def recursive_file_gen(my_root_dir):\n",
    "    for root, dirs, files in os.walk(my_root_dir):\n",
    "        for file in files:\n",
    "            yield os.path.join(root, file)"
   ]
  },
  {
   "cell_type": "code",
   "execution_count": 3,
   "metadata": {},
   "outputs": [
    {
     "data": {
      "text/plain": [
       "'\\nSegments:\\n1. Quarterly regular\\n2. New SignUps\\n'"
      ]
     },
     "execution_count": 3,
     "metadata": {},
     "output_type": "execute_result"
    }
   ],
   "source": [
    "'''\n",
    "Segments:\n",
    "1. Quarterly regular\n",
    "2. New SignUps\n",
    "'''"
   ]
  },
  {
   "cell_type": "code",
   "execution_count": 4,
   "metadata": {},
   "outputs": [
    {
     "name": "stdout",
     "output_type": "stream",
     "text": [
      "seg_1: 50\n",
      "seg_2: 18\n"
     ]
    }
   ],
   "source": [
    "seg_1=list(recursive_file_gen(\"/home/jian/Projects/Big_Lots/Live_Ramp/Quarterly_Update_2019Q3/upload_files/\"))\n",
    "print(\"seg_1: \"+str(len(seg_1)))\n",
    "\n",
    "seg_2=list(recursive_file_gen(\"/home/jian/celery/BiWeekly_New_SignUps/monthly_update/\"))\n",
    "seg_2=[x for x in seg_2 if \".csv\" in x]\n",
    "seg_2=pd.DataFrame({\"file_path\":seg_2})\n",
    "seg_2['date']=seg_2['file_path'].apply(lambda x: x.split(\"onthly_update/output_\")[1][:10])\n",
    "seg_2=seg_2[seg_2['date']>=\"2019-07-27\"] # 1 wave ahead of the quarter\n",
    "seg_2=seg_2[seg_2['date']<\"2019-11-02\"] # \n",
    "seg_2=seg_2['file_path'].tolist()\n",
    "print(\"seg_2: \"+str(len(seg_2)))"
   ]
  },
  {
   "cell_type": "code",
   "execution_count": 5,
   "metadata": {},
   "outputs": [
    {
     "data": {
      "text/plain": [
       "68"
      ]
     },
     "execution_count": 5,
     "metadata": {},
     "output_type": "execute_result"
    }
   ],
   "source": [
    "all_file_list=seg_1+seg_2\n",
    "len(all_file_list)"
   ]
  },
  {
   "cell_type": "code",
   "execution_count": 6,
   "metadata": {},
   "outputs": [
    {
     "name": "stdout",
     "output_type": "stream",
     "text": [
      "(24078232, 3) 24078139\n"
     ]
    }
   ],
   "source": [
    "list_all_Q3_seg=[]\n",
    "col_list=[]\n",
    "for file in all_file_list:\n",
    "    try:\n",
    "        df=pd.read_csv(file,dtype=str,usecols=['customer_id_hashed','email_address_hash','segment'])\n",
    "    except:\n",
    "        df=pd.read_csv(file,dtype=str,usecols=['customer_id_hashed','Email_Address_hash','segment'])\n",
    "        df=df.rename(columns={\"Email_Address_hash\":\"email_address_hash\"})\n",
    "        \n",
    "    list_all_Q3_seg.append(df)\n",
    "df_output_all_Q3_seg=pd.concat(list_all_Q3_seg)\n",
    "del list_all_Q3_seg\n",
    "\n",
    "print(df_output_all_Q3_seg.shape,df_output_all_Q3_seg['email_address_hash'].nunique())"
   ]
  },
  {
   "cell_type": "code",
   "execution_count": 7,
   "metadata": {
    "collapsed": true
   },
   "outputs": [],
   "source": [
    "local_path_agg_dup=\"/home/jian/Projects/Big_Lots/Live_Ramp/Mapping_Files/2019_Q3/BL_2019Q3_all_segments_aggregated_JL_\"+str(datetime.datetime.now().date())+\".csv\"\n",
    "\n",
    "df_output_all_Q3_seg.to_csv(local_path_agg_dup,index=False)"
   ]
  },
  {
   "cell_type": "code",
   "execution_count": 8,
   "metadata": {},
   "outputs": [
    {
     "name": "stdout",
     "output_type": "stream",
     "text": [
      "(24078139, 3) 24078139\n"
     ]
    }
   ],
   "source": [
    "df_output_unique_email_Q3_mapping=df_output_all_Q3_seg.drop_duplicates(\"email_address_hash\")\n",
    "print(df_output_unique_email_Q3_mapping.shape,df_output_unique_email_Q3_mapping['email_address_hash'].nunique())\n",
    "local_mapping=\"/home/jian/Projects/Big_Lots/Live_Ramp/Mapping_Files/2019_Q3/BL_mapping_file_2019Q3_JL_\"+str(datetime.datetime.now().date())+\".csv\"\n",
    "\n",
    "df_output_unique_email_Q3_mapping.to_csv(local_mapping,index=False)"
   ]
  },
  {
   "cell_type": "code",
   "execution_count": null,
   "metadata": {
    "collapsed": true
   },
   "outputs": [],
   "source": []
  },
  {
   "cell_type": "code",
   "execution_count": null,
   "metadata": {
    "collapsed": true
   },
   "outputs": [],
   "source": []
  },
  {
   "cell_type": "code",
   "execution_count": 9,
   "metadata": {
    "collapsed": true
   },
   "outputs": [],
   "source": [
    "import paramiko\n",
    "\n",
    "host = \"64.237.51.251\" #hard-coded\n",
    "port = 22\n",
    "transport = paramiko.Transport((host, port))\n",
    "\n",
    "password = \"jian@juba2017\" #hard-coded\n",
    "username = \"jian\" #hard-coded\n",
    "transport.connect(username = username, password = password)\n",
    "sftp = paramiko.SFTPClient.from_transport(transport)\n"
   ]
  },
  {
   "cell_type": "code",
   "execution_count": 10,
   "metadata": {},
   "outputs": [
    {
     "name": "stdout",
     "output_type": "stream",
     "text": [
      "local_mapping:  /home/jian/Projects/Big_Lots/Live_Ramp/Mapping_Files/2019_Q3/BL_mapping_file_2019Q3_JL_2019-11-20.csv\n",
      "local_path_agg_dup:  /home/jian/Projects/Big_Lots/Live_Ramp/Mapping_Files/2019_Q3/BL_2019Q3_all_segments_aggregated_JL_2019-11-20.csv\n"
     ]
    }
   ],
   "source": [
    "print(\"local_mapping: \",local_mapping)\n",
    "print(\"local_path_agg_dup: \",local_path_agg_dup)"
   ]
  },
  {
   "cell_type": "code",
   "execution_count": 11,
   "metadata": {},
   "outputs": [
    {
     "name": "stdout",
     "output_type": "stream",
     "text": [
      "2019-11-20 16:59:02.730595\n"
     ]
    }
   ],
   "source": [
    "print(datetime.datetime.now())"
   ]
  },
  {
   "cell_type": "code",
   "execution_count": 12,
   "metadata": {},
   "outputs": [
    {
     "data": {
      "text/plain": [
       "<SFTPAttributes: [ size=3772960887 uid=518 gid=551 mode=0o100644 atime=1574287140 mtime=1574287474 ]>"
      ]
     },
     "execution_count": 12,
     "metadata": {},
     "output_type": "execute_result"
    }
   ],
   "source": [
    "# local_mapping\n",
    "remote_folder='/mnt/drv5/jian/Big_Lots/BL_1_to_1_2019Q3/Q3_mapping_file/'\n",
    "basename=os.path.basename(local_mapping)\n",
    "remote_path=remote_folder+basename\n",
    "sftp.put(local_mapping,remote_path)"
   ]
  },
  {
   "cell_type": "code",
   "execution_count": 13,
   "metadata": {},
   "outputs": [
    {
     "data": {
      "text/plain": [
       "<SFTPAttributes: [ size=3772974744 uid=518 gid=551 mode=0o100644 atime=1574281904 mtime=1574287816 ]>"
      ]
     },
     "execution_count": 13,
     "metadata": {},
     "output_type": "execute_result"
    }
   ],
   "source": [
    "# local_path_agg_dup\n",
    "remote_folder='/mnt/drv5/jian/Big_Lots/BL_1_to_1_2019Q3/Aggregated_all_2019Q3_LR_segments/'\n",
    "basename=os.path.basename(local_path_agg_dup)\n",
    "remote_path=remote_folder+basename\n",
    "sftp.put(local_path_agg_dup,remote_path)"
   ]
  },
  {
   "cell_type": "code",
   "execution_count": 14,
   "metadata": {},
   "outputs": [
    {
     "name": "stdout",
     "output_type": "stream",
     "text": [
      "done:  2019-11-20 17:10:19.696711\n"
     ]
    }
   ],
   "source": [
    "sftp.close()\n",
    "transport.close()\n",
    "\n",
    "print(\"done: \",datetime.datetime.now())"
   ]
  },
  {
   "cell_type": "code",
   "execution_count": null,
   "metadata": {
    "collapsed": true
   },
   "outputs": [],
   "source": []
  }
 ],
 "metadata": {
  "kernelspec": {
   "display_name": "Python 3",
   "language": "python",
   "name": "python3"
  },
  "language_info": {
   "codemirror_mode": {
    "name": "ipython",
    "version": 3
   },
   "file_extension": ".py",
   "mimetype": "text/x-python",
   "name": "python",
   "nbconvert_exporter": "python",
   "pygments_lexer": "ipython3",
   "version": "3.6.1"
  }
 },
 "nbformat": 4,
 "nbformat_minor": 2
}
