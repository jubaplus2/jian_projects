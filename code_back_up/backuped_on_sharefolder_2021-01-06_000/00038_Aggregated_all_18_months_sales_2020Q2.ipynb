{
 "cells": [
  {
   "cell_type": "code",
   "execution_count": 1,
   "metadata": {},
   "outputs": [
    {
     "name": "stdout",
     "output_type": "stream",
     "text": [
      "Active Start on: 2019-04-21\n",
      "Lapsed & Store_allocation Start on: 2018-10-21\n",
      "Lapsed 19-48 Start on: 2016-04-24\n"
     ]
    },
    {
     "data": {
      "text/plain": [
       "'/home/jian/Projects/Big_Lots/Live_Ramp/Quarterly_Update_2020Q2'"
      ]
     },
     "execution_count": 1,
     "metadata": {},
     "output_type": "execute_result"
    }
   ],
   "source": [
    "# upto 20200418\n",
    "\n",
    "\n",
    "import pandas as pd\n",
    "import numpy as np\n",
    "import os\n",
    "import datetime\n",
    "import logging\n",
    "import hashlib\n",
    "import gc\n",
    "import glob\n",
    "logging.basicConfig(filename='BL_aggregate_18_months_sales_upto20200418_2020Q4_'+str(datetime.datetime.now().date())+'.log', level=logging.INFO)\n",
    "logging.info('Started')\n",
    "\n",
    "samplerows = None\n",
    "\n",
    "lastdate_date = datetime.date(2020,4,18) # Recent Saturday\n",
    "Beginning_12_months_ago = str(lastdate_date-datetime.timedelta(days=52*7-1)) # Sunday\n",
    "Beginning_18_months_ago=str(lastdate_date-datetime.timedelta(days=52*7*1.5-1)) # Sunday\n",
    "Beginning_48_months_ago=str(lastdate_date-datetime.timedelta(days=52*7*4-1)) # Sunday\n",
    "\n",
    "lastdate_str=str(lastdate_date)\n",
    "print(\"Active Start on: \"+Beginning_12_months_ago) #>=\n",
    "print(\"Lapsed & Store_allocation Start on: \"+Beginning_18_months_ago) #>=\n",
    "print(\"Lapsed 19-48 Start on: \"+Beginning_48_months_ago) #>=\n",
    "\n",
    "def recursive_file_gen(root_folder):\n",
    "    for root, dirs, files in os.walk(root_folder):\n",
    "        for file in files:\n",
    "            yield os.path.join(root, file)\n",
    "            \n",
    "folder_write = '/home/jian/Projects/Big_Lots/Live_Ramp/Quarterly_Update_2020Q2/output_'+str(datetime.datetime.now().date())+'/'\n",
    "try:\n",
    "    os.stat(folder_write)\n",
    "except:\n",
    "    os.mkdir(folder_write)\n",
    "    \n",
    "os.getcwd()"
   ]
  },
  {
   "cell_type": "code",
   "execution_count": 2,
   "metadata": {},
   "outputs": [],
   "source": [
    "historical_item_files=glob.glob(\"/home/jian/BigLots/hist_daily_data_itemlevel_decompressed/*.txt\")\n",
    "historical_item_files=[x for x in historical_item_files if x.split(\"ailySalesHistory\")[1][:8]>=Beginning_18_months_ago.replace(\"-\",\"\")]\n",
    "daily_item_files_2019_20202=list(recursive_file_gen(\"/home/jian/BigLots/2019_by_weeks/\"))\n",
    "daily_item_files_2019_20202_part2=list(recursive_file_gen(\"/home/jian/BigLots/2020_by_weeks/\"))\n",
    "daily_item_files_2019_20202=daily_item_files_2019_20202+daily_item_files_2019_20202_part2\n",
    "del daily_item_files_2019_20202_part2\n",
    "\n",
    "daily_item_files_2019_20202=[x for x in daily_item_files_2019_20202 if x[-4:]==\".txt\" and \"daily\" in x.lower()]\n",
    "\n",
    "\n",
    "historical_item_files.sort()\n",
    "daily_item_files_2019_20202.sort()\n"
   ]
  },
  {
   "cell_type": "code",
   "execution_count": 3,
   "metadata": {},
   "outputs": [
    {
     "name": "stdout",
     "output_type": "stream",
     "text": [
      "min_date_historical_item: 2018-10-21\n",
      "max_date_historical_item: 2019-02-09\n"
     ]
    },
    {
     "data": {
      "text/plain": [
       "0"
      ]
     },
     "execution_count": 3,
     "metadata": {},
     "output_type": "execute_result"
    }
   ],
   "source": [
    "# Piece 1: item 2018-10-21 to 2019-02-09\n",
    "\n",
    "df=pd.read_table(historical_item_files[0],dtype=str,sep=\"|\",usecols=['transaction_dt'])\n",
    "print(\"min_date_historical_item: \"+str(df['transaction_dt'].min()))\n",
    "del df\n",
    "gc.collect()\n",
    "# min_date_historical_item: 2018-08-05\n",
    "\n",
    "\n",
    "df=pd.read_table(historical_item_files[-1],dtype=str,sep=\"|\",usecols=['transaction_dt'])\n",
    "print(\"max_date_historical_item: \"+str(df['transaction_dt'].max()))\n",
    "del df\n",
    "gc.collect()\n",
    "# max_date_historical_item: 2019-02-09"
   ]
  },
  {
   "cell_type": "code",
   "execution_count": 4,
   "metadata": {},
   "outputs": [
    {
     "name": "stdout",
     "output_type": "stream",
     "text": [
      "min_date_daily_item: 2019-02-10\n",
      "max_date_daily_item: 2020-04-18\n"
     ]
    },
    {
     "data": {
      "text/plain": [
       "0"
      ]
     },
     "execution_count": 4,
     "metadata": {},
     "output_type": "execute_result"
    }
   ],
   "source": [
    "# Piece 2: item 2019-02-10 to 2020-01-11\n",
    "\n",
    "daily_item_files_2019_20202=[x for x in daily_item_files_2019_20202 if x.split(\"_weeks/MediaStorm_\")[1][:10]>=\"2019-02-10\"]\n",
    "\n",
    "\n",
    "#QC\n",
    "df=pd.read_table(daily_item_files_2019_20202[0],dtype=str,sep=\"|\",usecols=['transaction_dt'])\n",
    "print(\"min_date_daily_item: \"+str(df['transaction_dt'].min()))\n",
    "del df\n",
    "gc.collect()\n",
    "# min_date_daily_item: 2019-02-10\n",
    "\n",
    "\n",
    "df=pd.read_table(daily_item_files_2019_20202[-1],dtype=str,sep=\"|\",usecols=['transaction_dt'])\n",
    "print(\"max_date_daily_item: \"+str(df['transaction_dt'].max()))\n",
    "del df\n",
    "gc.collect()\n",
    "# max_date_daily_item: 2020-01-11"
   ]
  },
  {
   "cell_type": "code",
   "execution_count": 5,
   "metadata": {},
   "outputs": [
    {
     "name": "stdout",
     "output_type": "stream",
     "text": [
      "78\n"
     ]
    }
   ],
   "source": [
    "list_all_files=historical_item_files+daily_item_files_2019_20202\n",
    "\n",
    "print(len(list_all_files))"
   ]
  },
  {
   "cell_type": "code",
   "execution_count": 6,
   "metadata": {},
   "outputs": [
    {
     "data": {
      "text/plain": [
       "['/home/jian/BigLots/hist_daily_data_itemlevel_decompressed/MediaStormDailySalesHistory20181027.txt',\n",
       " '/home/jian/BigLots/hist_daily_data_itemlevel_decompressed/MediaStormDailySalesHistory20181103.txt',\n",
       " '/home/jian/BigLots/hist_daily_data_itemlevel_decompressed/MediaStormDailySalesHistory20181110.txt',\n",
       " '/home/jian/BigLots/hist_daily_data_itemlevel_decompressed/MediaStormDailySalesHistory20181117.txt',\n",
       " '/home/jian/BigLots/hist_daily_data_itemlevel_decompressed/MediaStormDailySalesHistory20181124.txt',\n",
       " '/home/jian/BigLots/hist_daily_data_itemlevel_decompressed/MediaStormDailySalesHistory20181201.txt',\n",
       " '/home/jian/BigLots/hist_daily_data_itemlevel_decompressed/MediaStormDailySalesHistory20181208.txt',\n",
       " '/home/jian/BigLots/hist_daily_data_itemlevel_decompressed/MediaStormDailySalesHistory20181215.txt',\n",
       " '/home/jian/BigLots/hist_daily_data_itemlevel_decompressed/MediaStormDailySalesHistory20181222.txt',\n",
       " '/home/jian/BigLots/hist_daily_data_itemlevel_decompressed/MediaStormDailySalesHistory20181229.txt',\n",
       " '/home/jian/BigLots/hist_daily_data_itemlevel_decompressed/MediaStormDailySalesHistory20190105.txt',\n",
       " '/home/jian/BigLots/hist_daily_data_itemlevel_decompressed/MediaStormDailySalesHistory20190112.txt',\n",
       " '/home/jian/BigLots/hist_daily_data_itemlevel_decompressed/MediaStormDailySalesHistory20190119.txt',\n",
       " '/home/jian/BigLots/hist_daily_data_itemlevel_decompressed/MediaStormDailySalesHistory20190126.txt',\n",
       " '/home/jian/BigLots/hist_daily_data_itemlevel_decompressed/MediaStormDailySalesHistory20190202.txt',\n",
       " '/home/jian/BigLots/hist_daily_data_itemlevel_decompressed/MediaStormDailySalesHistory20190209.txt',\n",
       " '/home/jian/BigLots/2019_by_weeks/MediaStorm_2019-02-16/MediaStormDailySales20190219-113605-481.txt',\n",
       " '/home/jian/BigLots/2019_by_weeks/MediaStorm_2019-02-23/MediaStormDailySales20190226-112611-940.txt',\n",
       " '/home/jian/BigLots/2019_by_weeks/MediaStorm_2019-03-02/MediaStormDailySales20190305-112738-899.txt',\n",
       " '/home/jian/BigLots/2019_by_weeks/MediaStorm_2019-03-09/MediaStormDailySales20190312-121205-996.txt',\n",
       " '/home/jian/BigLots/2019_by_weeks/MediaStorm_2019-03-16/MediaStormDailySales20190319-112334-057.txt',\n",
       " '/home/jian/BigLots/2019_by_weeks/MediaStorm_2019-03-23/MediaStormDailySales20190326-112740-903.txt',\n",
       " '/home/jian/BigLots/2019_by_weeks/MediaStorm_2019-03-30/MediaStormDailySales20190402-112556-551.txt',\n",
       " '/home/jian/BigLots/2019_by_weeks/MediaStorm_2019-04-06/MediaStormDailySales20190409-122759-093.txt',\n",
       " '/home/jian/BigLots/2019_by_weeks/MediaStorm_2019-04-13/MediaStormDailySales20190416-112824-908.txt',\n",
       " '/home/jian/BigLots/2019_by_weeks/MediaStorm_2019-04-20/MediaStormDailySales20190423-112124-771.txt',\n",
       " '/home/jian/BigLots/2019_by_weeks/MediaStorm_2019-04-27/MediaStormDailySales20190430-112453-448.txt',\n",
       " '/home/jian/BigLots/2019_by_weeks/MediaStorm_2019-05-04/MediaStormDailySales20190507-113110-141.txt',\n",
       " '/home/jian/BigLots/2019_by_weeks/MediaStorm_2019-05-11/MediaStormDailySales20190514-121223-405.txt',\n",
       " '/home/jian/BigLots/2019_by_weeks/MediaStorm_2019-05-18/MediaStormDailySales20190521-111232-391.txt',\n",
       " '/home/jian/BigLots/2019_by_weeks/MediaStorm_2019-05-25/MediaStormDailySales20190528-111211-863.txt',\n",
       " '/home/jian/BigLots/2019_by_weeks/MediaStorm_2019-06-01/MediaStormDailySales20190604-111936-950.txt',\n",
       " '/home/jian/BigLots/2019_by_weeks/MediaStorm_2019-06-08/MediaStormDailySales20190611-122013-442.txt',\n",
       " '/home/jian/BigLots/2019_by_weeks/MediaStorm_2019-06-15/MediaStormDailySales20190618-112500-846.txt',\n",
       " '/home/jian/BigLots/2019_by_weeks/MediaStorm_2019-06-22/MediaStormDailySales20190625-111927-257.txt',\n",
       " '/home/jian/BigLots/2019_by_weeks/MediaStorm_2019-06-29/MediaStormDailySales20190702-113523-928.txt',\n",
       " '/home/jian/BigLots/2019_by_weeks/MediaStorm_2019-07-06/MediaStormDailySales20190709-115715-409.txt',\n",
       " '/home/jian/BigLots/2019_by_weeks/MediaStorm_2019-07-13/MediaStormDailySales20190716-122903-926.txt',\n",
       " '/home/jian/BigLots/2019_by_weeks/MediaStorm_2019-07-20/MediaStormDailySales20190723-112837-593.txt',\n",
       " '/home/jian/BigLots/2019_by_weeks/MediaStorm_2019-07-27/MediaStormDailySales20190730-113653-224.txt',\n",
       " '/home/jian/BigLots/2019_by_weeks/MediaStorm_2019-08-03/MediaStormDailySales20190806-113917-862.txt',\n",
       " '/home/jian/BigLots/2019_by_weeks/MediaStorm_2019-08-10/MediaStormDailySales20190813-120541-143.txt',\n",
       " '/home/jian/BigLots/2019_by_weeks/MediaStorm_2019-08-17/MediaStormDailySales20190820-113628-440.txt',\n",
       " '/home/jian/BigLots/2019_by_weeks/MediaStorm_2019-08-24/MediaStormDailySales20190827-113630-114.txt',\n",
       " '/home/jian/BigLots/2019_by_weeks/MediaStorm_2019-08-31/MediaStormDailySales20190903-113649-462.txt',\n",
       " '/home/jian/BigLots/2019_by_weeks/MediaStorm_2019-09-07/MediaStormDailySales20190910-120643-163.txt',\n",
       " '/home/jian/BigLots/2019_by_weeks/MediaStorm_2019-09-14/MediaStormDailySales20190917-110425-322.txt',\n",
       " '/home/jian/BigLots/2019_by_weeks/MediaStorm_2019-09-21/MediaStormDailySales20190924-112126-506.txt',\n",
       " '/home/jian/BigLots/2019_by_weeks/MediaStorm_2019-09-28/MediaStormDailySales20191001-111241-312.txt',\n",
       " '/home/jian/BigLots/2019_by_weeks/MediaStorm_2019-10-05/MediaStormDailySales20191008-120723-038.txt',\n",
       " '/home/jian/BigLots/2019_by_weeks/MediaStorm_2019-10-12/MediaStormDailySales20191015-111135-657.txt',\n",
       " '/home/jian/BigLots/2019_by_weeks/MediaStorm_2019-10-19/MediaStormDailySales20191022-111240-145.txt',\n",
       " '/home/jian/BigLots/2019_by_weeks/MediaStorm_2019-10-26/MediaStormDailySales20191029-111155-920.txt',\n",
       " '/home/jian/BigLots/2019_by_weeks/MediaStorm_2019-11-02/MediaStormDailySales20191105-111212-139.txt',\n",
       " '/home/jian/BigLots/2019_by_weeks/MediaStorm_2019-11-09/MediaStormDailySales20191112-115210-002.txt',\n",
       " '/home/jian/BigLots/2019_by_weeks/MediaStorm_2019-11-16/MediaStormDailySales20191119-112232-478.txt',\n",
       " '/home/jian/BigLots/2019_by_weeks/MediaStorm_2019-11-23/MediaStormDailySales20191126-112901-552.txt',\n",
       " '/home/jian/BigLots/2019_by_weeks/MediaStorm_2019-11-30/MediaStormDailySales20191203.txt',\n",
       " '/home/jian/BigLots/2019_by_weeks/MediaStorm_2019-12-07/MediaStormDailySales20191211.txt',\n",
       " '/home/jian/BigLots/2019_by_weeks/MediaStorm_2019-12-14/MediaStormDailySales20191217-195625-000.txt',\n",
       " '/home/jian/BigLots/2019_by_weeks/MediaStorm_2019-12-21/MediaStormDailySales20191226-122746-000.txt',\n",
       " '/home/jian/BigLots/2019_by_weeks/MediaStorm_2019-12-28/MediaStormDailySales20191231-112945-515.txt',\n",
       " '/home/jian/BigLots/2020_by_weeks/MediaStorm_2020-01-04/MediaStormDailySales20200107-112859-015.txt',\n",
       " '/home/jian/BigLots/2020_by_weeks/MediaStorm_2020-01-11/MediaStormDailySales20200114-115009-140.txt',\n",
       " '/home/jian/BigLots/2020_by_weeks/MediaStorm_2020-01-18/MediaStormDailySales20200121-111749-649.txt',\n",
       " '/home/jian/BigLots/2020_by_weeks/MediaStorm_2020-01-25/MediaStormDailySales20200128-111758-074.txt',\n",
       " '/home/jian/BigLots/2020_by_weeks/MediaStorm_2020-02-01/MediaStormDailySales20200204-111741-091.txt',\n",
       " '/home/jian/BigLots/2020_by_weeks/MediaStorm_2020-02-08/MediaStormDailySales20200211-120911-483.txt',\n",
       " '/home/jian/BigLots/2020_by_weeks/MediaStorm_2020-02-15/MediaStormDailySales20200218-110927-085.txt',\n",
       " '/home/jian/BigLots/2020_by_weeks/MediaStorm_2020-02-22/MediaStormDailySales20200225-111349-615.txt',\n",
       " '/home/jian/BigLots/2020_by_weeks/MediaStorm_2020-02-29/MediaStormDailySales20200303-111359-260.txt',\n",
       " '/home/jian/BigLots/2020_by_weeks/MediaStorm_2020-03-07/MediaStormDailySales20200311-125005-860.txt',\n",
       " '/home/jian/BigLots/2020_by_weeks/MediaStorm_2020-03-14/MediaStormDailySales20200317-112349-402.txt',\n",
       " '/home/jian/BigLots/2020_by_weeks/MediaStorm_2020-03-21/MediaStormDailySales20200324-112302-496.txt',\n",
       " '/home/jian/BigLots/2020_by_weeks/MediaStorm_2020-03-28/MediaStormDailySales20200331-112303-873.txt',\n",
       " '/home/jian/BigLots/2020_by_weeks/MediaStorm_2020-04-04/MediaStormDailySales20200407-110641-771.txt',\n",
       " '/home/jian/BigLots/2020_by_weeks/MediaStorm_2020-04-11/MediaStormDailySales20200414-120340-722.txt',\n",
       " '/home/jian/BigLots/2020_by_weeks/MediaStorm_2020-04-18/MediaStormDailySales20200421-111910-356.txt']"
      ]
     },
     "execution_count": 6,
     "metadata": {},
     "output_type": "execute_result"
    }
   ],
   "source": [
    "list_all_files"
   ]
  },
  {
   "cell_type": "code",
   "execution_count": 7,
   "metadata": {
    "scrolled": true
   },
   "outputs": [
    {
     "name": "stdout",
     "output_type": "stream",
     "text": [
      "0 2018-10-21 2018-10-27 2020-04-22 15:21:35.954132 /home/jian/BigLots/hist_daily_data_itemlevel_decompressed/MediaStormDailySalesHistory20181027.txt\n",
      "1 2018-10-28 2018-11-03 2020-04-22 15:22:37.165745 /home/jian/BigLots/hist_daily_data_itemlevel_decompressed/MediaStormDailySalesHistory20181103.txt\n",
      "2 2018-11-04 2018-11-10 2020-04-22 15:23:40.903168 /home/jian/BigLots/hist_daily_data_itemlevel_decompressed/MediaStormDailySalesHistory20181110.txt\n",
      "3 2018-11-11 2018-11-17 2020-04-22 15:25:10.731065 /home/jian/BigLots/hist_daily_data_itemlevel_decompressed/MediaStormDailySalesHistory20181117.txt\n",
      "4 2018-11-18 2018-11-24 2020-04-22 15:26:58.661412 /home/jian/BigLots/hist_daily_data_itemlevel_decompressed/MediaStormDailySalesHistory20181124.txt\n",
      "5 2018-11-25 2018-12-01 2020-04-22 15:28:38.786506 /home/jian/BigLots/hist_daily_data_itemlevel_decompressed/MediaStormDailySalesHistory20181201.txt\n",
      "6 2018-12-02 2018-12-08 2020-04-22 15:30:27.611469 /home/jian/BigLots/hist_daily_data_itemlevel_decompressed/MediaStormDailySalesHistory20181208.txt\n",
      "7 2018-12-09 2018-12-15 2020-04-22 15:32:14.984296 /home/jian/BigLots/hist_daily_data_itemlevel_decompressed/MediaStormDailySalesHistory20181215.txt\n",
      "8 2018-12-16 2018-12-22 2020-04-22 15:34:19.409210 /home/jian/BigLots/hist_daily_data_itemlevel_decompressed/MediaStormDailySalesHistory20181222.txt\n",
      "9 2018-12-23 2018-12-29 2020-04-22 15:35:41.771515 /home/jian/BigLots/hist_daily_data_itemlevel_decompressed/MediaStormDailySalesHistory20181229.txt\n",
      "10 2018-12-30 2019-01-05 2020-04-22 15:36:43.236521 /home/jian/BigLots/hist_daily_data_itemlevel_decompressed/MediaStormDailySalesHistory20190105.txt\n",
      "11 2019-01-06 2019-01-12 2020-04-22 15:37:43.788511 /home/jian/BigLots/hist_daily_data_itemlevel_decompressed/MediaStormDailySalesHistory20190112.txt\n",
      "12 2019-01-13 2019-01-19 2020-04-22 15:38:53.739000 /home/jian/BigLots/hist_daily_data_itemlevel_decompressed/MediaStormDailySalesHistory20190119.txt\n",
      "13 2019-01-20 2019-01-26 2020-04-22 15:40:43.830803 /home/jian/BigLots/hist_daily_data_itemlevel_decompressed/MediaStormDailySalesHistory20190126.txt\n",
      "14 2019-01-27 2019-02-02 2020-04-22 15:41:58.011610 /home/jian/BigLots/hist_daily_data_itemlevel_decompressed/MediaStormDailySalesHistory20190202.txt\n",
      "15 2019-02-03 2019-02-09 2020-04-22 15:42:52.416171 /home/jian/BigLots/hist_daily_data_itemlevel_decompressed/MediaStormDailySalesHistory20190209.txt\n",
      "16 2019-02-10 2019-02-16 2020-04-22 15:43:53.985467 /home/jian/BigLots/2019_by_weeks/MediaStorm_2019-02-16/MediaStormDailySales20190219-113605-481.txt\n",
      "17 2019-02-17 2019-02-23 2020-04-22 15:44:52.325508 /home/jian/BigLots/2019_by_weeks/MediaStorm_2019-02-23/MediaStormDailySales20190226-112611-940.txt\n",
      "18 2019-02-24 2019-03-02 2020-04-22 15:46:00.000336 /home/jian/BigLots/2019_by_weeks/MediaStorm_2019-03-02/MediaStormDailySales20190305-112738-899.txt\n",
      "19 2019-03-03 2019-03-09 2020-04-22 15:47:08.062613 /home/jian/BigLots/2019_by_weeks/MediaStorm_2019-03-09/MediaStormDailySales20190312-121205-996.txt\n",
      "20 2019-03-10 2019-03-16 2020-04-22 15:48:10.614170 /home/jian/BigLots/2019_by_weeks/MediaStorm_2019-03-16/MediaStormDailySales20190319-112334-057.txt\n",
      "21 2019-03-17 2019-03-23 2020-04-22 15:49:11.468848 /home/jian/BigLots/2019_by_weeks/MediaStorm_2019-03-23/MediaStormDailySales20190326-112740-903.txt\n",
      "22 2019-03-24 2019-03-30 2020-04-22 15:50:11.822295 /home/jian/BigLots/2019_by_weeks/MediaStorm_2019-03-30/MediaStormDailySales20190402-112556-551.txt\n",
      "23 2019-03-31 2019-04-06 2020-04-22 15:51:30.239554 /home/jian/BigLots/2019_by_weeks/MediaStorm_2019-04-06/MediaStormDailySales20190409-122759-093.txt\n",
      "24 2019-04-07 2019-04-13 2020-04-22 15:52:46.160309 /home/jian/BigLots/2019_by_weeks/MediaStorm_2019-04-13/MediaStormDailySales20190416-112824-908.txt\n",
      "25 2019-04-14 2019-04-20 2020-04-22 15:53:52.639384 /home/jian/BigLots/2019_by_weeks/MediaStorm_2019-04-20/MediaStormDailySales20190423-112124-771.txt\n",
      "26 2019-04-21 2019-04-27 2020-04-22 15:54:48.782855 /home/jian/BigLots/2019_by_weeks/MediaStorm_2019-04-27/MediaStormDailySales20190430-112453-448.txt\n",
      "27 2019-04-28 2019-05-04 2020-04-22 15:55:54.276463 /home/jian/BigLots/2019_by_weeks/MediaStorm_2019-05-04/MediaStormDailySales20190507-113110-141.txt\n",
      "28 2019-05-05 2019-05-11 2020-04-22 15:56:54.568122 /home/jian/BigLots/2019_by_weeks/MediaStorm_2019-05-11/MediaStormDailySales20190514-121223-405.txt\n",
      "29 2019-05-12 2019-05-18 2020-04-22 15:57:50.150766 /home/jian/BigLots/2019_by_weeks/MediaStorm_2019-05-18/MediaStormDailySales20190521-111232-391.txt\n",
      "30 2019-05-19 2019-05-25 2020-04-22 15:58:55.245246 /home/jian/BigLots/2019_by_weeks/MediaStorm_2019-05-25/MediaStormDailySales20190528-111211-863.txt\n",
      "31 2019-05-26 2019-06-01 2020-04-22 16:00:00.060042 /home/jian/BigLots/2019_by_weeks/MediaStorm_2019-06-01/MediaStormDailySales20190604-111936-950.txt\n",
      "32 2019-06-02 2019-06-08 2020-04-22 16:01:02.069307 /home/jian/BigLots/2019_by_weeks/MediaStorm_2019-06-08/MediaStormDailySales20190611-122013-442.txt\n",
      "33 2019-06-09 2019-06-15 2020-04-22 16:02:11.139666 /home/jian/BigLots/2019_by_weeks/MediaStorm_2019-06-15/MediaStormDailySales20190618-112500-846.txt\n",
      "34 2019-06-16 2019-06-22 2020-04-22 16:03:10.066070 /home/jian/BigLots/2019_by_weeks/MediaStorm_2019-06-22/MediaStormDailySales20190625-111927-257.txt\n",
      "35 2019-06-23 2019-06-29 2020-04-22 16:04:12.049232 /home/jian/BigLots/2019_by_weeks/MediaStorm_2019-06-29/MediaStormDailySales20190702-113523-928.txt\n",
      "36 2019-06-30 2019-07-06 2020-04-22 16:05:20.011655 /home/jian/BigLots/2019_by_weeks/MediaStorm_2019-07-06/MediaStormDailySales20190709-115715-409.txt\n",
      "37 2019-07-07 2019-07-13 2020-04-22 16:06:38.488991 /home/jian/BigLots/2019_by_weeks/MediaStorm_2019-07-13/MediaStormDailySales20190716-122903-926.txt\n",
      "38 2019-07-14 2019-07-20 2020-04-22 16:07:56.808032 /home/jian/BigLots/2019_by_weeks/MediaStorm_2019-07-20/MediaStormDailySales20190723-112837-593.txt\n",
      "39 2019-07-21 2019-07-27 2020-04-22 16:09:00.532808 /home/jian/BigLots/2019_by_weeks/MediaStorm_2019-07-27/MediaStormDailySales20190730-113653-224.txt\n",
      "40 2019-07-28 2019-08-03 2020-04-22 16:10:05.053028 /home/jian/BigLots/2019_by_weeks/MediaStorm_2019-08-03/MediaStormDailySales20190806-113917-862.txt\n",
      "41 2019-08-04 2019-08-10 2020-04-22 16:11:08.148821 /home/jian/BigLots/2019_by_weeks/MediaStorm_2019-08-10/MediaStormDailySales20190813-120541-143.txt\n",
      "42 2019-08-11 2019-08-17 2020-04-22 16:12:12.315070 /home/jian/BigLots/2019_by_weeks/MediaStorm_2019-08-17/MediaStormDailySales20190820-113628-440.txt\n",
      "43 2019-08-18 2019-08-24 2020-04-22 16:13:21.927216 /home/jian/BigLots/2019_by_weeks/MediaStorm_2019-08-24/MediaStormDailySales20190827-113630-114.txt\n",
      "44 2019-08-25 2019-08-31 2020-04-22 16:14:29.958107 /home/jian/BigLots/2019_by_weeks/MediaStorm_2019-08-31/MediaStormDailySales20190903-113649-462.txt\n",
      "45 2019-09-01 2019-09-07 2020-04-22 16:15:15.563346 /home/jian/BigLots/2019_by_weeks/MediaStorm_2019-09-07/MediaStormDailySales20190910-120643-163.txt\n",
      "46 2019-09-08 2019-09-14 2020-04-22 16:16:16.029892 /home/jian/BigLots/2019_by_weeks/MediaStorm_2019-09-14/MediaStormDailySales20190917-110425-322.txt\n",
      "47 2019-09-15 2019-09-21 2020-04-22 16:17:15.799010 /home/jian/BigLots/2019_by_weeks/MediaStorm_2019-09-21/MediaStormDailySales20190924-112126-506.txt\n",
      "48 2019-09-22 2019-09-28 2020-04-22 16:18:30.019595 /home/jian/BigLots/2019_by_weeks/MediaStorm_2019-09-28/MediaStormDailySales20191001-111241-312.txt\n",
      "49 2019-09-29 2019-10-05 2020-04-22 16:19:45.105460 /home/jian/BigLots/2019_by_weeks/MediaStorm_2019-10-05/MediaStormDailySales20191008-120723-038.txt\n",
      "50 2019-10-06 2019-10-12 2020-04-22 16:20:46.353663 /home/jian/BigLots/2019_by_weeks/MediaStorm_2019-10-12/MediaStormDailySales20191015-111135-657.txt\n",
      "51 2019-10-13 2019-10-19 2020-04-22 16:22:07.037023 /home/jian/BigLots/2019_by_weeks/MediaStorm_2019-10-19/MediaStormDailySales20191022-111240-145.txt\n",
      "52 2019-10-20 2019-10-26 2020-04-22 16:23:13.171640 /home/jian/BigLots/2019_by_weeks/MediaStorm_2019-10-26/MediaStormDailySales20191029-111155-920.txt\n",
      "53 2019-10-27 2019-11-02 2020-04-22 16:24:25.828341 /home/jian/BigLots/2019_by_weeks/MediaStorm_2019-11-02/MediaStormDailySales20191105-111212-139.txt\n",
      "54 2019-11-03 2019-11-09 2020-04-22 16:25:37.545485 /home/jian/BigLots/2019_by_weeks/MediaStorm_2019-11-09/MediaStormDailySales20191112-115210-002.txt\n"
     ]
    },
    {
     "name": "stdout",
     "output_type": "stream",
     "text": [
      "55 2019-11-10 2019-11-16 2020-04-22 16:26:57.124958 /home/jian/BigLots/2019_by_weeks/MediaStorm_2019-11-16/MediaStormDailySales20191119-112232-478.txt\n",
      "56 2019-11-17 2019-11-23 2020-04-22 16:28:22.346262 /home/jian/BigLots/2019_by_weeks/MediaStorm_2019-11-23/MediaStormDailySales20191126-112901-552.txt\n",
      "57 2019-11-24 2019-11-30 2020-04-22 16:30:19.981851 /home/jian/BigLots/2019_by_weeks/MediaStorm_2019-11-30/MediaStormDailySales20191203.txt\n",
      "58 2019-12-01 2019-12-07 2020-04-22 16:32:15.865426 /home/jian/BigLots/2019_by_weeks/MediaStorm_2019-12-07/MediaStormDailySales20191211.txt\n",
      "59 2019-12-08 2019-12-14 2020-04-22 16:34:15.031627 /home/jian/BigLots/2019_by_weeks/MediaStorm_2019-12-14/MediaStormDailySales20191217-195625-000.txt\n",
      "60 2019-12-15 2019-12-21 2020-04-22 16:36:21.624085 /home/jian/BigLots/2019_by_weeks/MediaStorm_2019-12-21/MediaStormDailySales20191226-122746-000.txt\n",
      "61 2019-12-22 2019-12-28 2020-04-22 16:38:03.253602 /home/jian/BigLots/2019_by_weeks/MediaStorm_2019-12-28/MediaStormDailySales20191231-112945-515.txt\n",
      "62 2019-12-29 2020-01-04 2020-04-22 16:39:16.692090 /home/jian/BigLots/2020_by_weeks/MediaStorm_2020-01-04/MediaStormDailySales20200107-112859-015.txt\n",
      "63 2020-01-05 2020-01-11 2020-04-22 16:40:21.866690 /home/jian/BigLots/2020_by_weeks/MediaStorm_2020-01-11/MediaStormDailySales20200114-115009-140.txt\n",
      "64 2020-01-12 2020-01-18 2020-04-22 16:41:32.258394 /home/jian/BigLots/2020_by_weeks/MediaStorm_2020-01-18/MediaStormDailySales20200121-111749-649.txt\n",
      "65 2020-01-19 2020-01-25 2020-04-22 16:42:42.673012 /home/jian/BigLots/2020_by_weeks/MediaStorm_2020-01-25/MediaStormDailySales20200128-111758-074.txt\n",
      "66 2020-01-26 2020-02-01 2020-04-22 16:43:44.924849 /home/jian/BigLots/2020_by_weeks/MediaStorm_2020-02-01/MediaStormDailySales20200204-111741-091.txt\n",
      "67 2020-02-02 2020-02-08 2020-04-22 16:44:38.333754 /home/jian/BigLots/2020_by_weeks/MediaStorm_2020-02-08/MediaStormDailySales20200211-120911-483.txt\n",
      "68 2020-02-09 2020-02-15 2020-04-22 16:45:35.279118 /home/jian/BigLots/2020_by_weeks/MediaStorm_2020-02-15/MediaStormDailySales20200218-110927-085.txt\n",
      "69 2020-02-16 2020-02-22 2020-04-22 16:46:33.341892 /home/jian/BigLots/2020_by_weeks/MediaStorm_2020-02-22/MediaStormDailySales20200225-111349-615.txt\n",
      "70 2020-02-23 2020-02-29 2020-04-22 16:47:35.919527 /home/jian/BigLots/2020_by_weeks/MediaStorm_2020-02-29/MediaStormDailySales20200303-111359-260.txt\n",
      "71 2020-03-01 2020-03-07 2020-04-22 16:48:47.617783 /home/jian/BigLots/2020_by_weeks/MediaStorm_2020-03-07/MediaStormDailySales20200311-125005-860.txt\n",
      "72 2020-03-08 2020-03-14 2020-04-22 16:50:22.188342 /home/jian/BigLots/2020_by_weeks/MediaStorm_2020-03-14/MediaStormDailySales20200317-112349-402.txt\n",
      "73 2020-03-15 2020-03-21 2020-04-22 16:51:47.809187 /home/jian/BigLots/2020_by_weeks/MediaStorm_2020-03-21/MediaStormDailySales20200324-112302-496.txt\n",
      "74 2020-03-22 2020-03-28 2020-04-22 16:52:41.647534 /home/jian/BigLots/2020_by_weeks/MediaStorm_2020-03-28/MediaStormDailySales20200331-112303-873.txt\n",
      "75 2020-03-29 2020-04-04 2020-04-22 16:53:41.151173 /home/jian/BigLots/2020_by_weeks/MediaStorm_2020-04-04/MediaStormDailySales20200407-110641-771.txt\n",
      "76 2020-04-05 2020-04-11 2020-04-22 16:54:45.538526 /home/jian/BigLots/2020_by_weeks/MediaStorm_2020-04-11/MediaStormDailySales20200414-120340-722.txt\n",
      "77 2020-04-12 2020-04-18 2020-04-22 16:55:53.665440 /home/jian/BigLots/2020_by_weeks/MediaStorm_2020-04-18/MediaStormDailySales20200421-111910-356.txt\n"
     ]
    }
   ],
   "source": [
    "list_df_transactions_18_months=[]\n",
    "i_counter=0\n",
    "for file in list_all_files:\n",
    "    try:\n",
    "        df=pd.read_table(file,dtype=str,sep=\"|\",usecols=['customer_id_hashed','transaction_dt','transaction_id','location_id','item_transaction_amt'])\n",
    "        df=df.rename(columns={\"item_transaction_amt\":\"sales\"})\n",
    "    except:\n",
    "        df=pd.read_table(file,dtype=str,sep=\"|\",usecols=['customer_id_hashed','transaction_dt','transaction_id','location_id','subclass_transaction_amt'])\n",
    "        df=df.rename(columns={\"subclass_transaction_amt\":\"sales\"})\n",
    "    df=df[pd.notnull(df['customer_id_hashed'])]\n",
    "    df['sales']=df['sales'].astype(float)\n",
    "    df_sales=df.groupby(['customer_id_hashed','transaction_dt'])['sales'].sum().to_frame().reset_index()\n",
    "    \n",
    "    df_trans=df[['customer_id_hashed','transaction_dt','transaction_id','location_id']].drop_duplicates()\n",
    "    df_trans['trans']=1\n",
    "    df_trans=df_trans.groupby(['customer_id_hashed','transaction_dt'])['trans'].sum().to_frame().reset_index()\n",
    "    df=pd.merge(df_sales,df_trans,on=[\"customer_id_hashed\",'transaction_dt'],how=\"outer\")\n",
    "\n",
    "    print(i_counter,df['transaction_dt'].min(),df['transaction_dt'].max(),datetime.datetime.now(),file)\n",
    "    i_counter+=1\n",
    "    list_df_transactions_18_months.append(df)"
   ]
  },
  {
   "cell_type": "code",
   "execution_count": 16,
   "metadata": {},
   "outputs": [
    {
     "name": "stdout",
     "output_type": "stream",
     "text": [
      "df_transactions_18_months.shape:(113785770, 4)\n",
      "df_transactions_18_months['transaction_dt'].nunique():546\n",
      "df_transactions_18_months['customer_id_hashed'].nunique():22812016\n",
      "date_range: 2018-10-21 | 2020-04-18\n"
     ]
    }
   ],
   "source": [
    "print(\"len(list_df_transactions_18_months):\" +str(len(list_df_transactions_18_months)))\n",
    "df_transactions_18_months=pd.concat(list_df_transactions_18_months[:])\n",
    "del list_df_transactions_18_months\n",
    "\n",
    "gc.collect()\n",
    "print(\"df_transactions_18_months.shape:\" +str(df_transactions_18_months.shape))\n",
    "print(\"df_transactions_18_months['transaction_dt'].nunique():\" +str(df_transactions_18_months['transaction_dt'].nunique()))\n",
    "print(\"df_transactions_18_months['customer_id_hashed'].nunique():\" +str(df_transactions_18_months['customer_id_hashed'].nunique()))\n",
    "print(\"date_range: \"+str(df_transactions_18_months['transaction_dt'].min())+\" | \"+str(df_transactions_18_months['transaction_dt'].max()))"
   ]
  },
  {
   "cell_type": "code",
   "execution_count": 17,
   "metadata": {},
   "outputs": [],
   "source": [
    "df_transactions_18_months.to_csv(folder_write+\"BL_sales_trans_by_id_date_JL_\"+str(datetime.datetime.now().date())+\".csv\",index=False)"
   ]
  },
  {
   "cell_type": "code",
   "execution_count": 18,
   "metadata": {},
   "outputs": [
    {
     "data": {
      "text/html": [
       "<div>\n",
       "<style scoped>\n",
       "    .dataframe tbody tr th:only-of-type {\n",
       "        vertical-align: middle;\n",
       "    }\n",
       "\n",
       "    .dataframe tbody tr th {\n",
       "        vertical-align: top;\n",
       "    }\n",
       "\n",
       "    .dataframe thead th {\n",
       "        text-align: right;\n",
       "    }\n",
       "</style>\n",
       "<table border=\"1\" class=\"dataframe\">\n",
       "  <thead>\n",
       "    <tr style=\"text-align: right;\">\n",
       "      <th></th>\n",
       "      <th>customer_id_hashed</th>\n",
       "      <th>transaction_dt</th>\n",
       "      <th>sales</th>\n",
       "      <th>trans</th>\n",
       "    </tr>\n",
       "  </thead>\n",
       "  <tbody>\n",
       "    <tr>\n",
       "      <th>0</th>\n",
       "      <td>000001dadc0265bf9d250566d74e0006323f18b5826641...</td>\n",
       "      <td>2018-10-27</td>\n",
       "      <td>42.35</td>\n",
       "      <td>1</td>\n",
       "    </tr>\n",
       "    <tr>\n",
       "      <th>1</th>\n",
       "      <td>00000950dea4a869e9fe70d823444d418c5abebbd8e830...</td>\n",
       "      <td>2018-10-23</td>\n",
       "      <td>22.20</td>\n",
       "      <td>1</td>\n",
       "    </tr>\n",
       "  </tbody>\n",
       "</table>\n",
       "</div>"
      ],
      "text/plain": [
       "                                  customer_id_hashed transaction_dt  sales  \\\n",
       "0  000001dadc0265bf9d250566d74e0006323f18b5826641...     2018-10-27  42.35   \n",
       "1  00000950dea4a869e9fe70d823444d418c5abebbd8e830...     2018-10-23  22.20   \n",
       "\n",
       "   trans  \n",
       "0      1  \n",
       "1      1  "
      ]
     },
     "execution_count": 18,
     "metadata": {},
     "output_type": "execute_result"
    }
   ],
   "source": [
    "df_transactions_18_months.head(2)"
   ]
  },
  {
   "cell_type": "code",
   "execution_count": 19,
   "metadata": {},
   "outputs": [
    {
     "data": {
      "text/plain": [
       "5192910791.289989"
      ]
     },
     "execution_count": 19,
     "metadata": {},
     "output_type": "execute_result"
    }
   ],
   "source": [
    "df_transactions_18_months['sales'].sum()"
   ]
  },
  {
   "cell_type": "code",
   "execution_count": 20,
   "metadata": {},
   "outputs": [
    {
     "data": {
      "text/plain": [
       "547.5"
      ]
     },
     "execution_count": 20,
     "metadata": {},
     "output_type": "execute_result"
    }
   ],
   "source": [
    "365*1.5"
   ]
  },
  {
   "cell_type": "code",
   "execution_count": 21,
   "metadata": {},
   "outputs": [
    {
     "data": {
      "text/plain": [
       "((113785770, 4), 22812016)"
      ]
     },
     "execution_count": 21,
     "metadata": {},
     "output_type": "execute_result"
    }
   ],
   "source": [
    "df_transactions_18_months.shape,df_transactions_18_months['customer_id_hashed'].nunique()"
   ]
  },
  {
   "cell_type": "code",
   "execution_count": 22,
   "metadata": {},
   "outputs": [
    {
     "data": {
      "text/plain": [
       "4.987975196931301"
      ]
     },
     "execution_count": 22,
     "metadata": {},
     "output_type": "execute_result"
    }
   ],
   "source": [
    "113785770/22812016"
   ]
  },
  {
   "cell_type": "code",
   "execution_count": null,
   "metadata": {},
   "outputs": [],
   "source": []
  }
 ],
 "metadata": {
  "kernelspec": {
   "display_name": "Python 3",
   "language": "python",
   "name": "python3"
  },
  "language_info": {
   "codemirror_mode": {
    "name": "ipython",
    "version": 3
   },
   "file_extension": ".py",
   "mimetype": "text/x-python",
   "name": "python",
   "nbconvert_exporter": "python",
   "pygments_lexer": "ipython3",
   "version": "3.6.1"
  }
 },
 "nbformat": 4,
 "nbformat_minor": 2
}
