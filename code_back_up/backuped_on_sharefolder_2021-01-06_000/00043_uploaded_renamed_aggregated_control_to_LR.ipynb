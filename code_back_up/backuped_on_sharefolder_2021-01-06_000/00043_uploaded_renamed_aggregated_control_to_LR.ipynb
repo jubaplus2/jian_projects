{
 "cells": [
  {
   "cell_type": "code",
   "execution_count": 1,
   "metadata": {},
   "outputs": [
    {
     "name": "stdout",
     "output_type": "stream",
     "text": [
      "/home/jian/Projects/Big_Lots/Live_Ramp/Quarterly_Update_2020Q2\n",
      "2020-04-29 16:04:33.546494\n"
     ]
    }
   ],
   "source": [
    "import glob\n",
    "import os\n",
    "import paramiko\n",
    "import pandas as pd\n",
    "import numpy as np\n",
    "import datetime\n",
    "\n",
    "print(os.getcwd())\n",
    "print(datetime.datetime.now())"
   ]
  },
  {
   "cell_type": "code",
   "execution_count": 2,
   "metadata": {},
   "outputs": [
    {
     "data": {
      "text/plain": [
       "164"
      ]
     },
     "execution_count": 2,
     "metadata": {},
     "output_type": "execute_result"
    }
   ],
   "source": [
    "list_all=glob.glob(\"/home/jian/Projects/Big_Lots/Live_Ramp/Quarterly_Update_2020Q2/wanted_segment_files/*\")\n",
    "len(list_all)"
   ]
  },
  {
   "cell_type": "code",
   "execution_count": 3,
   "metadata": {},
   "outputs": [
    {
     "name": "stdout",
     "output_type": "stream",
     "text": [
      "len(list_all_C) 82\n"
     ]
    }
   ],
   "source": [
    "list_all_C=[x for x in list_all if os.path.basename(x)[0]==\"C\"]\n",
    "print(\"len(list_all_C)\",len(list_all_C))"
   ]
  },
  {
   "cell_type": "code",
   "execution_count": 4,
   "metadata": {},
   "outputs": [
    {
     "name": "stdout",
     "output_type": "stream",
     "text": [
      "2020-04-29 16:06:08.905253 (599954, 3)\n"
     ]
    }
   ],
   "source": [
    "df_aggregated_control=pd.DataFrame()\n",
    "\n",
    "for file in list_all_C:\n",
    "    df=pd.read_csv(file,dtype=str,usecols=['customer_id_hashed','email_address_hash','segment_2020Q2'])\n",
    "    df_aggregated_control=df_aggregated_control.append(df)\n",
    "del df_aggregated_control['segment_2020Q2']\n",
    "df_aggregated_control['C_segment_2020Q2']=\"C_segment_2020Q2\"\n",
    "df_aggregated_control.to_csv(\"/home/jian/Projects/Big_Lots/Live_Ramp/Quarterly_Update_2020Q2/upload_files/C_renamed_segment_name_all_quarterly_RFM20Q2.csv\",index=False)\n",
    "print(datetime.datetime.now(),df_aggregated_control.shape)"
   ]
  },
  {
   "cell_type": "code",
   "execution_count": 9,
   "metadata": {},
   "outputs": [
    {
     "data": {
      "text/plain": [
       "array(['C_segment_2020Q2'], dtype=object)"
      ]
     },
     "execution_count": 9,
     "metadata": {},
     "output_type": "execute_result"
    }
   ],
   "source": [
    "df_aggregated_control['C_segment_2020Q2'].unique()"
   ]
  },
  {
   "cell_type": "code",
   "execution_count": 10,
   "metadata": {},
   "outputs": [],
   "source": [
    "import paramiko\n",
    "host = \"files.liveramp.com\"\n",
    "port = 22\n",
    "password = \"Biglots2018!\"\n",
    "username = \"lr-big-lots\"\n",
    "\n",
    "transport = paramiko.Transport((host, port))\n",
    "\n",
    "transport.connect(username = username, password = password)\n",
    "sftp = paramiko.SFTPClient.from_transport(transport)"
   ]
  },
  {
   "cell_type": "code",
   "execution_count": 11,
   "metadata": {},
   "outputs": [
    {
     "name": "stdout",
     "output_type": "stream",
     "text": [
      "2020-04-29 16:08:28.024969 /uploads/big_lots_onboarding/C_renamed_segment_name_all_quarterly_RFM20Q2.csv\n",
      "All_Done: 2020-04-29 16:08:28.025506\n"
     ]
    }
   ],
   "source": [
    "local_file=\"/home/jian/Projects/Big_Lots/Live_Ramp/Quarterly_Update_2020Q2/upload_files/C_renamed_segment_name_all_quarterly_RFM20Q2.csv\"\n",
    "base_name=os.path.basename(local_file)\n",
    "remote_name=\"/uploads/big_lots_onboarding/\"+base_name\n",
    "sftp.put(local_file,remote_name)\n",
    "print(datetime.datetime.now(),remote_name)\n",
    "print(\"All_Done: \"+str(datetime.datetime.now()))\n",
    "sftp.close()\n",
    "transport.close()"
   ]
  },
  {
   "cell_type": "code",
   "execution_count": null,
   "metadata": {},
   "outputs": [],
   "source": []
  }
 ],
 "metadata": {
  "kernelspec": {
   "display_name": "Python 3",
   "language": "python",
   "name": "python3"
  },
  "language_info": {
   "codemirror_mode": {
    "name": "ipython",
    "version": 3
   },
   "file_extension": ".py",
   "mimetype": "text/x-python",
   "name": "python",
   "nbconvert_exporter": "python",
   "pygments_lexer": "ipython3",
   "version": "3.6.1"
  }
 },
 "nbformat": 4,
 "nbformat_minor": 2
}
