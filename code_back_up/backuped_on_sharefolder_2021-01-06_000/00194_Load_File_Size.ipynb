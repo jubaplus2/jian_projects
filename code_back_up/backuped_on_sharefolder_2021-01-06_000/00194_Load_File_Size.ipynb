{
 "cells": [
  {
   "cell_type": "code",
   "execution_count": 1,
   "metadata": {},
   "outputs": [
    {
     "name": "stdout",
     "output_type": "stream",
     "text": [
      "/mnt/clients/juba/hqjubaapp02/sharefolder/biglots_data/AgilOne/Offer_10_off_20_20Q4\n",
      "2021-01-06 18:08:40.521657\n"
     ]
    }
   ],
   "source": [
    "import pandas as pd\n",
    "import glob\n",
    "import numpy as np\n",
    "import datetime\n",
    "import os\n",
    "\n",
    "print(os.getcwd())\n",
    "print(datetime.datetime.now())"
   ]
  },
  {
   "cell_type": "code",
   "execution_count": 2,
   "metadata": {},
   "outputs": [
    {
     "data": {
      "text/plain": [
       "['./InitialFiles/10-12 Month About to Lapse MS A_20201102075436.csv',\n",
       " './InitialFiles/Online Signup MS B_20201102074942.csv',\n",
       " './InitialFiles/13-18 Month Lapsed MS B_20201102073920.csv',\n",
       " './InitialFiles/Online Signup MS A_20201102074635.csv',\n",
       " './InitialFiles/10-12 Month About to Lapse MS B_20201102075837.csv',\n",
       " './InitialFiles/13-18 Month Lapsed MS A_20201102073523.csv']"
      ]
     },
     "execution_count": 2,
     "metadata": {},
     "output_type": "execute_result"
    }
   ],
   "source": [
    "list_initial_files=glob.glob(\"./InitialFiles/*.csv\")\n",
    "list_initial_files"
   ]
  },
  {
   "cell_type": "code",
   "execution_count": 3,
   "metadata": {},
   "outputs": [
    {
     "data": {
      "text/plain": [
       "['./DeltaFiles/File_20201119/13_Month_Lapsed_Delta__20201119021501.csv',\n",
       " './DeltaFiles/File_20201119/Near_Lapsing_Delta__20201119021243.csv',\n",
       " './DeltaFiles/File_20201119/Reactivation_Redeemers__20201119031841.csv',\n",
       " './DeltaFiles/File_20201119/Signup_NoPurchase_Delta__20201119021251.csv',\n",
       " './DeltaFiles/File_20201125/13_Month_Lapsed_Delta__20201125080533.csv',\n",
       " './DeltaFiles/File_20201125/Near_Lapsing_Delta__20201125080541.csv',\n",
       " './DeltaFiles/File_20201125/Reactivation_Redeemers__20201125082106.csv',\n",
       " './DeltaFiles/File_20201125/Signup_NoPurchase_Delta__20201125080540.csv',\n",
       " './DeltaFiles/File_20201202/13_Month_Lapsed_Delta__20201202080404.csv',\n",
       " './DeltaFiles/File_20201202/Near_Lapsing_Delta__20201202080444.csv',\n",
       " './DeltaFiles/File_20201202/Reactivation_Redeemers__20201202081559.csv',\n",
       " './DeltaFiles/File_20201202/Signup_NoPurchase_Delta__20201202080407.csv',\n",
       " './DeltaFiles/File_20201209/13_Month_Lapsed_Delta__20201209080749.csv',\n",
       " './DeltaFiles/File_20201209/Near_Lapsing_Delta__20201209080443.csv',\n",
       " './DeltaFiles/File_20201209/Reactivation_Redeemers__20201209082351.csv',\n",
       " './DeltaFiles/File_20201209/Signup_NoPurchase_Delta__20201209080747.csv',\n",
       " './DeltaFiles/File_20201216/13_Month_Lapsed_Delta__20201216080516.csv',\n",
       " './DeltaFiles/File_20201216/Near_Lapsing_Delta__20201216080348.csv',\n",
       " './DeltaFiles/File_20201216/Reactivation_Redeemers__20201216082125.csv',\n",
       " './DeltaFiles/File_20201216/Signup_NoPurchase_Delta__20201216080431.csv',\n",
       " './DeltaFiles/File_20201223/13_Month_Lapsed_Delta__20201223080705.csv',\n",
       " './DeltaFiles/File_20201223/Near_Lapsing_Delta__20201223080702.csv',\n",
       " './DeltaFiles/File_20201223/Reactivation_Redeemers__20201223082349.csv',\n",
       " './DeltaFiles/File_20201223/Signup_NoPurchase_Delta__20201223080705.csv',\n",
       " './DeltaFiles/File_20201230/13_Month_Lapsed_Delta__20201230080522.csv',\n",
       " './DeltaFiles/File_20201230/Near_Lapsing_Delta__20201230080443.csv',\n",
       " './DeltaFiles/File_20201230/Reactivation_Redeemers__20201230081856.csv',\n",
       " './DeltaFiles/File_20201230/Signup_NoPurchase_Delta__20201230080520.csv',\n",
       " './DeltaFiles/File_20210106/13_Month_Lapsed_Delta__20210106080645.csv',\n",
       " './DeltaFiles/File_20210106/Near_Lapsing_Delta__20210106080652.csv',\n",
       " './DeltaFiles/File_20210106/Reactivation_Redeemers__20210106082111.csv',\n",
       " './DeltaFiles/File_20210106/Signup_NoPurchase_Delta__20210106080650.csv']"
      ]
     },
     "execution_count": 3,
     "metadata": {},
     "output_type": "execute_result"
    }
   ],
   "source": [
    "def recursive_file_gen(root_folder):\n",
    "    for root, dirs, files in os.walk(root_folder):\n",
    "        for file in files:\n",
    "            yield os.path.join(root,file)\n",
    "list_delta_files=list(recursive_file_gen(\"./DeltaFiles/\"))\n",
    "list_delta_files.sort()\n",
    "list_delta_files"
   ]
  },
  {
   "cell_type": "code",
   "execution_count": 4,
   "metadata": {},
   "outputs": [],
   "source": [
    "dict_size={}\n",
    "for file in list_initial_files:\n",
    "    df=pd.read_csv(file)\n",
    "    basename=os.path.basename(file)\n",
    "    dict_f={basename:df.shape[0]}\n",
    "    dict_size.update(dict_f)"
   ]
  },
  {
   "cell_type": "code",
   "execution_count": 5,
   "metadata": {},
   "outputs": [],
   "source": [
    "for file in list_delta_files:\n",
    "    df=pd.read_csv(file)\n",
    "    basename=os.path.basename(file)\n",
    "    dict_f={basename:df.shape[0]}\n",
    "    dict_size.update(dict_f)"
   ]
  },
  {
   "cell_type": "code",
   "execution_count": 6,
   "metadata": {},
   "outputs": [],
   "source": [
    "df_summary_size=pd.DataFrame(dict_size,index=[0]).T.reset_index()\n",
    "df_summary_size.columns=['file_name','rows']\n",
    "df_summary_size['type']=np.where(df_summary_size['file_name'].apply(lambda x: \"20201102\" in x),\"initial\",\n",
    "                                 df_summary_size['file_name'].apply(lambda x: x.split(\"__\")[0].split(\"_\")[-1] if \"__\" in x else \"\")+\\\n",
    "                                 \"_\"+\n",
    "                                 df_summary_size['file_name'].apply(lambda x: x.split(\"__\")[1][:8] if \"__\" in x else \"\"))\n",
    "df_summary_size=df_summary_size.sort_values(['type',\"file_name\"])                               \n",
    "\n",
    "\n"
   ]
  },
  {
   "cell_type": "code",
   "execution_count": 7,
   "metadata": {},
   "outputs": [],
   "source": [
    "def define_set(str_file_name):\n",
    "    if \"_Delta_\" in str_file_name:\n",
    "        if \"13_Month_Lapsed_\" in str_file_name:\n",
    "            return \"13-18 Lapsed\"\n",
    "        elif \"Near_Lapsing_\" in str_file_name:\n",
    "            return \"10-12 about to lapse\"\n",
    "        elif \"Signup_NoPurchase_\" in str_file_name:\n",
    "            return \"Online SUNP\"\n",
    "        else:\n",
    "            return np.nan\n",
    "    elif \"Reactivation_Redeemers\" in str_file_name:\n",
    "            return \"Redeemers\"\n",
    "    else:\n",
    "        if \"13-18 Month Lapsed\" in str_file_name:\n",
    "            return \"13-18 Lapsed\"\n",
    "        elif \"10-12 Month About to Lapse\" in str_file_name:\n",
    "            return \"10-12 about to lapse\"\n",
    "        elif \"Online Signup\" in str_file_name:\n",
    "            return \"Online SUNP\"\n",
    "        else:\n",
    "            return np.nan\n",
    "        "
   ]
  },
  {
   "cell_type": "code",
   "execution_count": 8,
   "metadata": {},
   "outputs": [],
   "source": [
    "df_summary_size['type']=np.where(df_summary_size['file_name'].apply(lambda x: \" MS A\" in x),\"Test\",\n",
    "                                 np.where(df_summary_size['file_name'].apply(lambda x: \" MS B\" in x),\"Control\",\n",
    "                                          df_summary_size['type'])\n",
    "                                )\n",
    "\n",
    "df_summary_size['set']=df_summary_size['file_name'].apply(lambda x: define_set(x))"
   ]
  },
  {
   "cell_type": "code",
   "execution_count": 9,
   "metadata": {},
   "outputs": [
    {
     "name": "stdout",
     "output_type": "stream",
     "text": [
      "(10472244, 2)\n",
      "(10472244, 2)\n"
     ]
    }
   ],
   "source": [
    "df_initial_audience=pd.DataFrame()\n",
    "# list_delta_files_no_redeemers=[x for x in list_delta_files if \"redeemer\" not in x.lower()]\n",
    "for file in list_initial_files:\n",
    "    df=pd.read_csv(file,usecols=[\"customersummary_c_primaryscnhash\"])\n",
    "    df['segment']=os.path.basename(file)\n",
    "    basename=os.path.basename(file)\n",
    "    df_initial_audience=df_initial_audience.append(df)\n",
    "print(df_initial_audience.shape)\n",
    "df_initial_audience=df_initial_audience.drop_duplicates()\n",
    "print(df_initial_audience.shape)"
   ]
  },
  {
   "cell_type": "code",
   "execution_count": 10,
   "metadata": {},
   "outputs": [
    {
     "name": "stdout",
     "output_type": "stream",
     "text": [
      "./DeltaFiles/File_20210106/Reactivation_Redeemers__20210106082111.csv\n",
      "(78116, 2) 78116\n"
     ]
    },
    {
     "data": {
      "text/html": [
       "<div>\n",
       "<style scoped>\n",
       "    .dataframe tbody tr th:only-of-type {\n",
       "        vertical-align: middle;\n",
       "    }\n",
       "\n",
       "    .dataframe tbody tr th {\n",
       "        vertical-align: top;\n",
       "    }\n",
       "\n",
       "    .dataframe thead th {\n",
       "        text-align: right;\n",
       "    }\n",
       "</style>\n",
       "<table border=\"1\" class=\"dataframe\">\n",
       "  <thead>\n",
       "    <tr style=\"text-align: right;\">\n",
       "      <th></th>\n",
       "      <th>customersummary_c_primaryscnhash</th>\n",
       "      <th>redeem_label</th>\n",
       "    </tr>\n",
       "  </thead>\n",
       "  <tbody>\n",
       "    <tr>\n",
       "      <th>0</th>\n",
       "      <td>440aaa3a6079610e012e99c46a696cbfc13460bbb831de...</td>\n",
       "      <td>redeemers</td>\n",
       "    </tr>\n",
       "    <tr>\n",
       "      <th>1</th>\n",
       "      <td>78ed32303b71ce7c1e03010749e9e98f45577640a2d99c...</td>\n",
       "      <td>redeemers</td>\n",
       "    </tr>\n",
       "  </tbody>\n",
       "</table>\n",
       "</div>"
      ],
      "text/plain": [
       "                    customersummary_c_primaryscnhash redeem_label\n",
       "0  440aaa3a6079610e012e99c46a696cbfc13460bbb831de...    redeemers\n",
       "1  78ed32303b71ce7c1e03010749e9e98f45577640a2d99c...    redeemers"
      ]
     },
     "execution_count": 10,
     "metadata": {},
     "output_type": "execute_result"
    }
   ],
   "source": [
    "file_last_cumulative_redeemers=[x for x in list_delta_files if \"redeemer\" in x.lower()]\n",
    "file_last_cumulative_redeemers.sort()\n",
    "file_last_cumulative_redeemers=file_last_cumulative_redeemers[-1]\n",
    "print(file_last_cumulative_redeemers)\n",
    "\n",
    "df_latest_redeemers=pd.read_csv(file_last_cumulative_redeemers,usecols=[\"customersummary_c_primaryscnhash\"])\n",
    "df_latest_redeemers['redeem_label']=\"redeemers\"\n",
    "df_latest_redeemers=df_latest_redeemers[pd.notnull(df_latest_redeemers['customersummary_c_primaryscnhash'])]\n",
    "df_latest_redeemers=df_latest_redeemers.drop_duplicates()\n",
    "print(df_latest_redeemers.shape,df_latest_redeemers['customersummary_c_primaryscnhash'].nunique())\n",
    "df_latest_redeemers.head(2)"
   ]
  },
  {
   "cell_type": "code",
   "execution_count": 11,
   "metadata": {},
   "outputs": [
    {
     "data": {
      "text/html": [
       "<div>\n",
       "<style scoped>\n",
       "    .dataframe tbody tr th:only-of-type {\n",
       "        vertical-align: middle;\n",
       "    }\n",
       "\n",
       "    .dataframe tbody tr th {\n",
       "        vertical-align: top;\n",
       "    }\n",
       "\n",
       "    .dataframe thead th {\n",
       "        text-align: right;\n",
       "    }\n",
       "</style>\n",
       "<table border=\"1\" class=\"dataframe\">\n",
       "  <thead>\n",
       "    <tr style=\"text-align: right;\">\n",
       "      <th></th>\n",
       "      <th>segment</th>\n",
       "      <th>customersummary_c_primaryscnhash</th>\n",
       "    </tr>\n",
       "  </thead>\n",
       "  <tbody>\n",
       "    <tr>\n",
       "      <th>0</th>\n",
       "      <td>10-12 Month About to Lapse MS A_20201102075436...</td>\n",
       "      <td>25320</td>\n",
       "    </tr>\n",
       "    <tr>\n",
       "      <th>1</th>\n",
       "      <td>10-12 Month About to Lapse MS B_20201102075837...</td>\n",
       "      <td>100</td>\n",
       "    </tr>\n",
       "    <tr>\n",
       "      <th>2</th>\n",
       "      <td>13-18 Month Lapsed MS A_20201102073523.csv</td>\n",
       "      <td>16381</td>\n",
       "    </tr>\n",
       "    <tr>\n",
       "      <th>3</th>\n",
       "      <td>13-18 Month Lapsed MS B_20201102073920.csv</td>\n",
       "      <td>24</td>\n",
       "    </tr>\n",
       "    <tr>\n",
       "      <th>4</th>\n",
       "      <td>Online Signup MS A_20201102074635.csv</td>\n",
       "      <td>27448</td>\n",
       "    </tr>\n",
       "    <tr>\n",
       "      <th>5</th>\n",
       "      <td>Online Signup MS B_20201102074942.csv</td>\n",
       "      <td>1735</td>\n",
       "    </tr>\n",
       "    <tr>\n",
       "      <th>6</th>\n",
       "      <td>others</td>\n",
       "      <td>9246</td>\n",
       "    </tr>\n",
       "  </tbody>\n",
       "</table>\n",
       "</div>"
      ],
      "text/plain": [
       "                                             segment  \\\n",
       "0  10-12 Month About to Lapse MS A_20201102075436...   \n",
       "1  10-12 Month About to Lapse MS B_20201102075837...   \n",
       "2         13-18 Month Lapsed MS A_20201102073523.csv   \n",
       "3         13-18 Month Lapsed MS B_20201102073920.csv   \n",
       "4              Online Signup MS A_20201102074635.csv   \n",
       "5              Online Signup MS B_20201102074942.csv   \n",
       "6                                             others   \n",
       "\n",
       "   customersummary_c_primaryscnhash  \n",
       "0                             25320  \n",
       "1                               100  \n",
       "2                             16381  \n",
       "3                                24  \n",
       "4                             27448  \n",
       "5                              1735  \n",
       "6                              9246  "
      ]
     },
     "execution_count": 11,
     "metadata": {},
     "output_type": "execute_result"
    }
   ],
   "source": [
    "df_latest_redeemers=pd.merge(df_latest_redeemers,df_initial_audience,on=\"customersummary_c_primaryscnhash\",how=\"left\")\n",
    "df_latest_redeemers['segment']=df_latest_redeemers['segment'].fillna(\"others\")\n",
    "df_output_redeemers_summary=df_latest_redeemers.groupby(\"segment\")['customersummary_c_primaryscnhash'].count().to_frame().reset_index()\n",
    "df_output_redeemers_summary"
   ]
  },
  {
   "cell_type": "code",
   "execution_count": 12,
   "metadata": {},
   "outputs": [
    {
     "data": {
      "text/plain": [
       "80254"
      ]
     },
     "execution_count": 12,
     "metadata": {},
     "output_type": "execute_result"
    }
   ],
   "source": [
    "df_output_redeemers_summary['customersummary_c_primaryscnhash'].sum()"
   ]
  },
  {
   "cell_type": "code",
   "execution_count": 13,
   "metadata": {},
   "outputs": [
    {
     "data": {
      "text/plain": [
       "['10-12 Month About to Lapse MS A_20201102075436.csv',\n",
       " '10-12 Month About to Lapse MS B_20201102075837.csv',\n",
       " '13-18 Month Lapsed MS A_20201102073523.csv',\n",
       " '13-18 Month Lapsed MS B_20201102073920.csv',\n",
       " 'Online Signup MS A_20201102074635.csv',\n",
       " 'Online Signup MS B_20201102074942.csv']"
      ]
     },
     "execution_count": 13,
     "metadata": {},
     "output_type": "execute_result"
    }
   ],
   "source": [
    "a=df_initial_audience['segment'].unique().tolist()\n",
    "a.sort()\n",
    "a"
   ]
  },
  {
   "cell_type": "code",
   "execution_count": 14,
   "metadata": {},
   "outputs": [],
   "source": [
    "writer=pd.ExcelWriter(\"./BL_10_off_20_size_JL_%s.xlsx\"%str(datetime.datetime.now().date()),engine=\"xlsxwriter\")\n",
    "df_summary_size.to_excel(writer,\"summary_delta_files\",index=False)\n",
    "df_output_redeemers_summary.to_excel(writer,\"cum_redeemer_to_initial_aud\",index=False)\n",
    "writer.save()"
   ]
  },
  {
   "cell_type": "code",
   "execution_count": 15,
   "metadata": {},
   "outputs": [
    {
     "data": {
      "text/plain": [
       "datetime.datetime(2021, 1, 6, 18, 10, 18, 765995)"
      ]
     },
     "execution_count": 15,
     "metadata": {},
     "output_type": "execute_result"
    }
   ],
   "source": [
    "datetime.datetime.now()"
   ]
  },
  {
   "cell_type": "code",
   "execution_count": null,
   "metadata": {},
   "outputs": [],
   "source": []
  }
 ],
 "metadata": {
  "kernelspec": {
   "display_name": "Python 3",
   "language": "python",
   "name": "python3"
  },
  "language_info": {
   "codemirror_mode": {
    "name": "ipython",
    "version": 3
   },
   "file_extension": ".py",
   "mimetype": "text/x-python",
   "name": "python",
   "nbconvert_exporter": "python",
   "pygments_lexer": "ipython3",
   "version": "3.7.6"
  }
 },
 "nbformat": 4,
 "nbformat_minor": 4
}
