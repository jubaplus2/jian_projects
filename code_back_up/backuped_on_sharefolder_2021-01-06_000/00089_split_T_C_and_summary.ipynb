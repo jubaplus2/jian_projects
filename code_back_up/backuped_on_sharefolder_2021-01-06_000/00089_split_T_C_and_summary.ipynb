{
 "cells": [
  {
   "cell_type": "code",
   "execution_count": 1,
   "metadata": {
    "collapsed": true
   },
   "outputs": [],
   "source": [
    "import pandas as pd\n",
    "import datetime\n",
    "import glob\n",
    "import numpy as np\n",
    "import gc\n",
    "import os"
   ]
  },
  {
   "cell_type": "markdown",
   "metadata": {},
   "source": [
    "# Splitting"
   ]
  },
  {
   "cell_type": "code",
   "execution_count": 2,
   "metadata": {},
   "outputs": [
    {
     "name": "stdout",
     "output_type": "stream",
     "text": [
      "(18877283, 12)\n",
      "(3691294, 12)\n",
      "(3691294, 12)\n"
     ]
    }
   ],
   "source": [
    "df_total_regular=pd.read_csv(\"/home/jian/Projects/Big_Lots/Live_Ramp/Quarterly_Update_2019Q2/output_final_20190422/dfrfm_final_details_wemail_zip_StoreQuad.csv\",dtype=str)\n",
    "df_seg_PL18=pd.read_csv(\"/home/jian/Projects/Big_Lots/Live_Ramp/Quarterly_Update_2019Q2/output_final_20190422/seg_P_L_18_plus_details_wemail_zip_StoreQuad.csv\",dtype=str)\n",
    "\n",
    "print(df_total_regular.shape)\n",
    "print(df_seg_PL18.shape)\n",
    "\n",
    "\n",
    "df_seg_PL18=df_seg_PL18[~df_seg_PL18['customer_id_hashed'].isin(df_total_regular['customer_id_hashed'])]\n",
    "df_seg_PL18=df_seg_PL18[~df_seg_PL18['email_address_hash'].isin(df_total_regular['email_address_hash'])]\n",
    "print(df_seg_PL18.shape)\n",
    "\n",
    "\n"
   ]
  },
  {
   "cell_type": "code",
   "execution_count": 3,
   "metadata": {},
   "outputs": [
    {
     "name": "stdout",
     "output_type": "stream",
     "text": [
      "(18877283, 12)\n",
      "(3691294, 12)\n"
     ]
    }
   ],
   "source": [
    "df_total_regular=df_total_regular.drop_duplicates(\"customer_id_hashed\").drop_duplicates(\"email_address_hash\")\n",
    "print(df_total_regular.shape)\n",
    "\n",
    "df_seg_PL18=df_seg_PL18.drop_duplicates(\"customer_id_hashed\").drop_duplicates(\"email_address_hash\")\n",
    "print(df_seg_PL18.shape)\n"
   ]
  },
  {
   "cell_type": "code",
   "execution_count": 4,
   "metadata": {},
   "outputs": [
    {
     "data": {
      "text/plain": [
       "49"
      ]
     },
     "execution_count": 4,
     "metadata": {},
     "output_type": "execute_result"
    }
   ],
   "source": [
    "df_H=pd.DataFrame({\"frmindex\":['D01','D02','D03','D04']})\n",
    "df_H['HML_Group']=\"H\"\n",
    "\n",
    "df_M=pd.DataFrame({\"frmindex\":['D05','D06','D07']})\n",
    "df_M['HML_Group']=\"M\"\n",
    "\n",
    "df_L=pd.DataFrame({\"frmindex\":['D08','D09','D10']})\n",
    "df_L['HML_Group']=\"L\"\n",
    "\n",
    "df_HML=df_H.append(df_M).append(df_L)\n",
    "gc.collect()"
   ]
  },
  {
   "cell_type": "code",
   "execution_count": 5,
   "metadata": {},
   "outputs": [
    {
     "data": {
      "text/plain": [
       "56"
      ]
     },
     "execution_count": 5,
     "metadata": {},
     "output_type": "execute_result"
    }
   ],
   "source": [
    "df_total_regular=pd.merge(df_total_regular,df_HML,on='frmindex') # both 10\n",
    "\n",
    "df_total_regular['segment_Decile']=df_total_regular['Quadrant']+\"_\"+df_total_regular['zipcodegroup']+\"_\"+df_total_regular['frmindex']+\"_2019Q2_RFM\"\n",
    "df_total_regular['segment_2019Q2']=df_total_regular['Quadrant']+\"_\"+df_total_regular['zipcodegroup']+\"_\"+df_total_regular['HML_Group']+\"_2019Q2_RFM\"\n",
    "\n",
    "\n",
    "df_seg_PL18=pd.merge(df_seg_PL18,df_HML,on='frmindex') # both 3\n",
    "\n",
    "df_seg_PL18['segment_Decile']=df_seg_PL18['Quadrant']+\"_\"+df_seg_PL18['zipcodegroup']+\"_\"+df_seg_PL18['frmindex']+\"_2019Q2_PL18\"\n",
    "df_seg_PL18['segment_2019Q2']=df_seg_PL18['Quadrant']+\"_\"+df_seg_PL18['zipcodegroup']+\"_\"+df_seg_PL18['HML_Group']+\"_2019Q2_PL18\"\n",
    "\n",
    "gc.collect()"
   ]
  },
  {
   "cell_type": "code",
   "execution_count": 6,
   "metadata": {},
   "outputs": [
    {
     "name": "stderr",
     "output_type": "stream",
     "text": [
      "/usr/local/lib/python3.6/site-packages/ipykernel_launcher.py:21: SettingWithCopyWarning: \n",
      "A value is trying to be set on a copy of a slice from a DataFrame.\n",
      "Try using .loc[row_indexer,col_indexer] = value instead\n",
      "\n",
      "See the caveats in the documentation: http://pandas.pydata.org/pandas-docs/stable/indexing.html#indexing-view-versus-copy\n",
      "/usr/local/lib/python3.6/site-packages/ipykernel_launcher.py:22: SettingWithCopyWarning: \n",
      "A value is trying to be set on a copy of a slice from a DataFrame.\n",
      "Try using .loc[row_indexer,col_indexer] = value instead\n",
      "\n",
      "See the caveats in the documentation: http://pandas.pydata.org/pandas-docs/stable/indexing.html#indexing-view-versus-copy\n",
      "/usr/local/lib/python3.6/site-packages/ipykernel_launcher.py:24: SettingWithCopyWarning: \n",
      "A value is trying to be set on a copy of a slice from a DataFrame.\n",
      "Try using .loc[row_indexer,col_indexer] = value instead\n",
      "\n",
      "See the caveats in the documentation: http://pandas.pydata.org/pandas-docs/stable/indexing.html#indexing-view-versus-copy\n",
      "/usr/local/lib/python3.6/site-packages/ipykernel_launcher.py:25: SettingWithCopyWarning: \n",
      "A value is trying to be set on a copy of a slice from a DataFrame.\n",
      "Try using .loc[row_indexer,col_indexer] = value instead\n",
      "\n",
      "See the caveats in the documentation: http://pandas.pydata.org/pandas-docs/stable/indexing.html#indexing-view-versus-copy\n"
     ]
    },
    {
     "name": "stdout",
     "output_type": "stream",
     "text": [
      "1 2019-04-23 12:56:59.025383\n",
      "2 2019-04-23 12:56:59.500473\n",
      "3 2019-04-23 12:57:00.050403\n",
      "4 2019-04-23 12:57:00.677222\n",
      "5 2019-04-23 12:57:01.398329\n",
      "6 2019-04-23 12:57:02.171917\n",
      "7 2019-04-23 12:57:03.015600\n",
      "8 2019-04-23 12:57:03.833936\n",
      "9 2019-04-23 12:57:04.382674\n",
      "10 2019-04-23 12:57:04.887605\n",
      "11 2019-04-23 12:57:05.498309\n",
      "12 2019-04-23 12:57:06.153198\n",
      "13 2019-04-23 12:57:06.831866\n",
      "14 2019-04-23 12:57:07.574635\n",
      "15 2019-04-23 12:57:08.334570\n",
      "16 2019-04-23 12:57:09.092381\n",
      "17 2019-04-23 12:57:09.844607\n",
      "18 2019-04-23 12:57:10.594298\n",
      "19 2019-04-23 12:57:11.258598\n",
      "20 2019-04-23 12:57:11.908296\n",
      "21 2019-04-23 12:57:12.611052\n",
      "22 2019-04-23 12:57:13.354293\n",
      "23 2019-04-23 12:57:14.099614\n",
      "24 2019-04-23 12:57:14.866421\n",
      "25 2019-04-23 12:57:15.655354\n",
      "26 2019-04-23 12:57:16.441241\n",
      "27 2019-04-23 12:57:17.236009\n",
      "28 2019-04-23 12:57:18.077029\n",
      "29 2019-04-23 12:57:18.869138\n",
      "30 2019-04-23 12:57:19.605304\n",
      "31 2019-04-23 12:57:20.724682\n",
      "32 2019-04-23 12:57:21.914945\n",
      "33 2019-04-23 12:57:23.165154\n",
      "34 2019-04-23 12:57:24.460692\n",
      "35 2019-04-23 12:57:25.802068\n",
      "36 2019-04-23 12:57:27.169427\n",
      "37 2019-04-23 12:57:28.568456\n",
      "38 2019-04-23 12:57:29.998229\n",
      "39 2019-04-23 12:57:31.184729\n",
      "40 2019-04-23 12:57:32.329161\n",
      "41 2019-04-23 12:57:33.542968\n",
      "42 2019-04-23 12:57:34.793244\n",
      "43 2019-04-23 12:57:36.077158\n",
      "44 2019-04-23 12:57:37.355050\n",
      "45 2019-04-23 12:57:38.639960\n",
      "46 2019-04-23 12:57:39.907388\n",
      "47 2019-04-23 12:57:41.173267\n",
      "48 2019-04-23 12:57:42.443648\n",
      "49 2019-04-23 12:57:43.654179\n",
      "50 2019-04-23 12:57:44.855259\n",
      "51 2019-04-23 12:57:46.085215\n",
      "52 2019-04-23 12:57:47.326558\n",
      "53 2019-04-23 12:57:48.571024\n",
      "54 2019-04-23 12:57:49.835185\n",
      "55 2019-04-23 12:57:51.098833\n",
      "56 2019-04-23 12:57:52.378725\n",
      "57 2019-04-23 12:57:53.680800\n",
      "58 2019-04-23 12:57:55.017043\n",
      "59 2019-04-23 12:57:56.291395\n",
      "60 2019-04-23 12:57:57.545274\n",
      "61 2019-04-23 12:57:59.213367\n",
      "62 2019-04-23 12:58:00.956378\n",
      "63 2019-04-23 12:58:02.750995\n",
      "64 2019-04-23 12:58:04.617256\n",
      "65 2019-04-23 12:58:06.583174\n",
      "66 2019-04-23 12:58:08.537606\n",
      "67 2019-04-23 12:58:10.532419\n",
      "68 2019-04-23 12:58:12.517971\n",
      "69 2019-04-23 12:58:14.233684\n",
      "70 2019-04-23 12:58:15.918887\n",
      "71 2019-04-23 12:58:17.803414\n",
      "72 2019-04-23 12:58:19.673143\n",
      "73 2019-04-23 12:58:21.595876\n",
      "74 2019-04-23 12:58:23.508816\n",
      "75 2019-04-23 12:58:25.469810\n",
      "76 2019-04-23 12:58:27.447936\n",
      "77 2019-04-23 12:58:29.439417\n",
      "78 2019-04-23 12:58:31.432179\n",
      "79 2019-04-23 12:58:33.342473\n",
      "80 2019-04-23 12:58:35.211251\n",
      "81 2019-04-23 12:58:37.140399\n",
      "82 2019-04-23 12:58:39.080231\n",
      "83 2019-04-23 12:58:41.021041\n",
      "84 2019-04-23 12:58:42.937532\n",
      "85 2019-04-23 12:58:44.905440\n",
      "86 2019-04-23 12:58:46.869866\n",
      "87 2019-04-23 12:58:48.823619\n",
      "88 2019-04-23 12:58:50.783413\n",
      "89 2019-04-23 12:58:52.710573\n",
      "90 2019-04-23 12:58:54.605140\n",
      "91 2019-04-23 12:58:57.510935\n",
      "92 2019-04-23 12:59:00.547944\n",
      "93 2019-04-23 12:59:03.716757\n",
      "94 2019-04-23 12:59:07.144461\n",
      "95 2019-04-23 12:59:10.614111\n",
      "96 2019-04-23 12:59:14.166536\n",
      "97 2019-04-23 12:59:17.924242\n",
      "98 2019-04-23 12:59:21.704220\n",
      "99 2019-04-23 12:59:24.893822\n",
      "100 2019-04-23 12:59:27.969099\n",
      "101 2019-04-23 12:59:31.347234\n",
      "102 2019-04-23 12:59:34.786478\n",
      "103 2019-04-23 12:59:38.213247\n",
      "104 2019-04-23 12:59:41.621040\n",
      "105 2019-04-23 12:59:45.079672\n",
      "106 2019-04-23 12:59:48.565378\n",
      "107 2019-04-23 12:59:52.105651\n",
      "108 2019-04-23 12:59:55.693021\n",
      "109 2019-04-23 12:59:59.077049\n",
      "110 2019-04-23 13:00:02.358467\n",
      "111 2019-04-23 13:00:05.746294\n",
      "112 2019-04-23 13:00:09.242759\n",
      "113 2019-04-23 13:00:12.913298\n",
      "114 2019-04-23 13:00:16.500768\n",
      "115 2019-04-23 13:00:20.141984\n",
      "116 2019-04-23 13:00:23.912321\n",
      "117 2019-04-23 13:00:27.679903\n",
      "118 2019-04-23 13:00:31.472571\n",
      "119 2019-04-23 13:00:35.149196\n",
      "120 2019-04-23 13:00:38.725071\n"
     ]
    }
   ],
   "source": [
    "import random\n",
    "random.seed(1)\n",
    "total_rows=len(df_total_regular)\n",
    "\n",
    "df_test_all_regular=pd.DataFrame()\n",
    "df_control_all_regular=pd.DataFrame()\n",
    "\n",
    "i_counter=0\n",
    "\n",
    "df_total_regular=df_total_regular[['segment_Decile','segment_2019Q2','customer_id_hashed','email_address_hash','active']]\n",
    "\n",
    "for seg,group in df_total_regular.groupby(['segment_Decile']):\n",
    "    random_list=random.sample(range(len(group)), int(np.round(len(group)/total_rows*500000)))\n",
    "\n",
    "    group=group.reset_index()\n",
    "    del group['index']\n",
    "    group=group.reset_index()\n",
    "    df_control=group[group['index'].isin(random_list)]\n",
    "    df_test=group[~group['index'].isin(random_list)]\n",
    "    \n",
    "    df_control['segment_Decile']=\"C_\"+df_control['segment_Decile']\n",
    "    df_test['segment_Decile']=\"T_\"+df_test['segment_Decile']\n",
    "    \n",
    "    df_control['segment_2019Q2']=\"C_\"+df_control['segment_2019Q2']\n",
    "    df_test['segment_2019Q2']=\"T_\"+df_test['segment_2019Q2']\n",
    "    df_test_all_regular=df_test_all_regular.append(df_test)\n",
    "    df_control_all_regular=df_control_all_regular.append(df_control)\n",
    "    i_counter+=1\n",
    "    print(i_counter,datetime.datetime.now())\n",
    "    \n",
    "# logging.info(\"Checking Point after splitting T/C\")"
   ]
  },
  {
   "cell_type": "code",
   "execution_count": 7,
   "metadata": {},
   "outputs": [
    {
     "data": {
      "text/plain": [
       "20"
      ]
     },
     "execution_count": 7,
     "metadata": {},
     "output_type": "execute_result"
    }
   ],
   "source": [
    "del df_total_regular\n",
    "gc.collect()"
   ]
  },
  {
   "cell_type": "code",
   "execution_count": 8,
   "metadata": {},
   "outputs": [
    {
     "name": "stderr",
     "output_type": "stream",
     "text": [
      "/usr/local/lib/python3.6/site-packages/ipykernel_launcher.py:21: SettingWithCopyWarning: \n",
      "A value is trying to be set on a copy of a slice from a DataFrame.\n",
      "Try using .loc[row_indexer,col_indexer] = value instead\n",
      "\n",
      "See the caveats in the documentation: http://pandas.pydata.org/pandas-docs/stable/indexing.html#indexing-view-versus-copy\n",
      "/usr/local/lib/python3.6/site-packages/ipykernel_launcher.py:22: SettingWithCopyWarning: \n",
      "A value is trying to be set on a copy of a slice from a DataFrame.\n",
      "Try using .loc[row_indexer,col_indexer] = value instead\n",
      "\n",
      "See the caveats in the documentation: http://pandas.pydata.org/pandas-docs/stable/indexing.html#indexing-view-versus-copy\n",
      "/usr/local/lib/python3.6/site-packages/ipykernel_launcher.py:24: SettingWithCopyWarning: \n",
      "A value is trying to be set on a copy of a slice from a DataFrame.\n",
      "Try using .loc[row_indexer,col_indexer] = value instead\n",
      "\n",
      "See the caveats in the documentation: http://pandas.pydata.org/pandas-docs/stable/indexing.html#indexing-view-versus-copy\n",
      "/usr/local/lib/python3.6/site-packages/ipykernel_launcher.py:25: SettingWithCopyWarning: \n",
      "A value is trying to be set on a copy of a slice from a DataFrame.\n",
      "Try using .loc[row_indexer,col_indexer] = value instead\n",
      "\n",
      "See the caveats in the documentation: http://pandas.pydata.org/pandas-docs/stable/indexing.html#indexing-view-versus-copy\n"
     ]
    },
    {
     "name": "stdout",
     "output_type": "stream",
     "text": [
      "1 2019-04-23 13:00:46.291231\n",
      "2 2019-04-23 13:00:46.908049\n",
      "3 2019-04-23 13:00:47.672347\n",
      "4 2019-04-23 13:00:48.031903\n",
      "5 2019-04-23 13:00:48.506235\n",
      "6 2019-04-23 13:00:49.049825\n",
      "7 2019-04-23 13:00:49.439696\n",
      "8 2019-04-23 13:00:50.031856\n",
      "9 2019-04-23 13:00:50.695947\n",
      "10 2019-04-23 13:00:51.228540\n",
      "11 2019-04-23 13:00:52.243237\n",
      "12 2019-04-23 13:00:53.431329\n"
     ]
    }
   ],
   "source": [
    "import random\n",
    "random.seed(2)\n",
    "total_rows=len(df_seg_PL18)\n",
    "\n",
    "df_test_PL18=pd.DataFrame()\n",
    "df_control_PL18=pd.DataFrame()\n",
    "\n",
    "i_counter=0\n",
    "\n",
    "df_seg_PL18=df_seg_PL18[['segment_Decile','segment_2019Q2','customer_id_hashed','email_address_hash','active']]\n",
    "\n",
    "for seg,group in df_seg_PL18.groupby(['segment_Decile']):\n",
    "    random_list=random.sample(range(len(group)), int(np.round(len(group)/total_rows*100000)))\n",
    "\n",
    "    group=group.reset_index()\n",
    "    del group['index']\n",
    "    group=group.reset_index()\n",
    "    df_control=group[group['index'].isin(random_list)]\n",
    "    df_test=group[~group['index'].isin(random_list)]\n",
    "    \n",
    "    df_control['segment_Decile']=\"C_\"+df_control['segment_Decile']\n",
    "    df_test['segment_Decile']=\"T_\"+df_test['segment_Decile']\n",
    "    \n",
    "    df_control['segment_2019Q2']=\"C_\"+df_control['segment_2019Q2']\n",
    "    df_test['segment_2019Q2']=\"T_\"+df_test['segment_2019Q2']\n",
    "    df_test_PL18=df_test_PL18.append(df_test)\n",
    "    df_control_PL18=df_control_PL18.append(df_control)\n",
    "    i_counter+=1\n",
    "    print(i_counter,datetime.datetime.now())\n",
    "    \n",
    "# logging.info(\"Checking Point after splitting T/C\")"
   ]
  },
  {
   "cell_type": "code",
   "execution_count": 9,
   "metadata": {},
   "outputs": [
    {
     "data": {
      "text/plain": [
       "20"
      ]
     },
     "execution_count": 9,
     "metadata": {},
     "output_type": "execute_result"
    }
   ],
   "source": [
    "del df_seg_PL18\n",
    "gc.collect()"
   ]
  },
  {
   "cell_type": "code",
   "execution_count": 10,
   "metadata": {
    "collapsed": true
   },
   "outputs": [],
   "source": [
    "folder_write=\"/home/jian/Projects/Big_Lots/Live_Ramp/Quarterly_Update_2019Q2/output_final_20190422/Test_and_Control/\""
   ]
  },
  {
   "cell_type": "code",
   "execution_count": 12,
   "metadata": {},
   "outputs": [],
   "source": [
    "df_test_all_regular.to_csv(folder_write+\"df_test_all_regular.csv\",index=False)\n",
    "df_control_all_regular.to_csv(folder_write+\"df_control_all_regular.csv\",index=False)\n",
    "\n",
    "df_test_PL18.to_csv(folder_write+\"df_test_PL18.csv\",index=False)\n",
    "df_control_PL18.to_csv(folder_write+\"df_control_PL18.csv\",index=False)\n",
    "\n",
    "folder_write_inner_decile = folder_write+'by_decile_group/'\n",
    "try:\n",
    "    os.stat(folder_write_inner_decile)\n",
    "except:\n",
    "    os.mkdir(folder_write_inner_decile)\n",
    "    \n",
    "folder_write_inner_HML = folder_write+'by_HML_group/'\n",
    "try:\n",
    "    os.stat(folder_write_inner_HML)\n",
    "except:\n",
    "    os.mkdir(folder_write_inner_HML)"
   ]
  },
  {
   "cell_type": "code",
   "execution_count": 13,
   "metadata": {},
   "outputs": [
    {
     "name": "stdout",
     "output_type": "stream",
     "text": [
      "1 T_Quadrant III_P_D01_2019Q2_RFM 2019-04-23 13:06:19.990051\n",
      "2 T_Quadrant III_P_D02_2019Q2_RFM 2019-04-23 13:06:21.520488\n",
      "3 T_Quadrant III_P_D03_2019Q2_RFM 2019-04-23 13:06:23.206025\n",
      "4 T_Quadrant III_P_D04_2019Q2_RFM 2019-04-23 13:06:24.767417\n",
      "5 T_Quadrant III_P_D05_2019Q2_RFM 2019-04-23 13:06:26.536491\n",
      "6 T_Quadrant III_P_D06_2019Q2_RFM 2019-04-23 13:06:28.204831\n",
      "7 T_Quadrant III_P_D07_2019Q2_RFM 2019-04-23 13:06:30.078254\n",
      "8 T_Quadrant III_P_D08_2019Q2_RFM 2019-04-23 13:06:31.548010\n",
      "9 T_Quadrant III_P_D09_2019Q2_RFM 2019-04-23 13:06:31.588804\n",
      "10 T_Quadrant III_P_D10_2019Q2_RFM 2019-04-23 13:06:31.602055\n",
      "11 T_Quadrant III_S_D01_2019Q2_RFM 2019-04-23 13:06:31.914782\n",
      "12 T_Quadrant III_S_D02_2019Q2_RFM 2019-04-23 13:06:32.287019\n",
      "13 T_Quadrant III_S_D03_2019Q2_RFM 2019-04-23 13:06:32.665584\n",
      "14 T_Quadrant III_S_D04_2019Q2_RFM 2019-04-23 13:06:33.087528\n",
      "15 T_Quadrant III_S_D05_2019Q2_RFM 2019-04-23 13:06:33.578140\n",
      "16 T_Quadrant III_S_D06_2019Q2_RFM 2019-04-23 13:06:34.069832\n",
      "17 T_Quadrant III_S_D07_2019Q2_RFM 2019-04-23 13:06:34.515153\n",
      "18 T_Quadrant III_S_D08_2019Q2_RFM 2019-04-23 13:06:34.909322\n",
      "19 T_Quadrant III_S_D09_2019Q2_RFM 2019-04-23 13:06:34.922475\n",
      "20 T_Quadrant III_S_D10_2019Q2_RFM 2019-04-23 13:06:34.927016\n",
      "21 T_Quadrant III_T_D01_2019Q2_RFM 2019-04-23 13:06:35.054965\n",
      "22 T_Quadrant III_T_D02_2019Q2_RFM 2019-04-23 13:06:35.236584\n",
      "23 T_Quadrant III_T_D03_2019Q2_RFM 2019-04-23 13:06:35.403097\n",
      "24 T_Quadrant III_T_D04_2019Q2_RFM 2019-04-23 13:06:35.657924\n",
      "25 T_Quadrant III_T_D05_2019Q2_RFM 2019-04-23 13:06:35.870476\n",
      "26 T_Quadrant III_T_D06_2019Q2_RFM 2019-04-23 13:06:36.128873\n",
      "27 T_Quadrant III_T_D07_2019Q2_RFM 2019-04-23 13:06:36.359833\n",
      "28 T_Quadrant III_T_D08_2019Q2_RFM 2019-04-23 13:06:36.618379\n",
      "29 T_Quadrant III_T_D09_2019Q2_RFM 2019-04-23 13:06:36.627931\n",
      "30 T_Quadrant III_T_D10_2019Q2_RFM 2019-04-23 13:06:36.631445\n",
      "31 T_Quadrant II_P_D01_2019Q2_RFM 2019-04-23 13:06:38.102991\n",
      "32 T_Quadrant II_P_D02_2019Q2_RFM 2019-04-23 13:06:39.591278\n",
      "33 T_Quadrant II_P_D03_2019Q2_RFM 2019-04-23 13:06:41.079903\n",
      "34 T_Quadrant II_P_D04_2019Q2_RFM 2019-04-23 13:06:42.649049\n",
      "35 T_Quadrant II_P_D05_2019Q2_RFM 2019-04-23 13:06:44.067478\n",
      "36 T_Quadrant II_P_D06_2019Q2_RFM 2019-04-23 13:06:45.489616\n",
      "37 T_Quadrant II_P_D07_2019Q2_RFM 2019-04-23 13:06:46.813998\n",
      "38 T_Quadrant II_P_D08_2019Q2_RFM 2019-04-23 13:06:47.996394\n",
      "39 T_Quadrant II_P_D09_2019Q2_RFM 2019-04-23 13:06:48.027372\n",
      "40 T_Quadrant II_P_D10_2019Q2_RFM 2019-04-23 13:06:48.037210\n",
      "41 T_Quadrant II_S_D01_2019Q2_RFM 2019-04-23 13:06:48.314425\n",
      "42 T_Quadrant II_S_D02_2019Q2_RFM 2019-04-23 13:06:48.653542\n",
      "43 T_Quadrant II_S_D03_2019Q2_RFM 2019-04-23 13:06:48.919246\n",
      "44 T_Quadrant II_S_D04_2019Q2_RFM 2019-04-23 13:06:49.246619\n",
      "45 T_Quadrant II_S_D05_2019Q2_RFM 2019-04-23 13:06:49.528660\n",
      "46 T_Quadrant II_S_D06_2019Q2_RFM 2019-04-23 13:06:49.845436\n",
      "47 T_Quadrant II_S_D07_2019Q2_RFM 2019-04-23 13:06:50.129516\n",
      "48 T_Quadrant II_S_D08_2019Q2_RFM 2019-04-23 13:06:50.404821\n",
      "49 T_Quadrant II_S_D09_2019Q2_RFM 2019-04-23 13:06:50.413836\n",
      "50 T_Quadrant II_S_D10_2019Q2_RFM 2019-04-23 13:06:50.417238\n",
      "51 T_Quadrant II_T_D01_2019Q2_RFM 2019-04-23 13:06:50.539543\n",
      "52 T_Quadrant II_T_D02_2019Q2_RFM 2019-04-23 13:06:50.693871\n",
      "53 T_Quadrant II_T_D03_2019Q2_RFM 2019-04-23 13:06:50.814996\n",
      "54 T_Quadrant II_T_D04_2019Q2_RFM 2019-04-23 13:06:50.979658\n",
      "55 T_Quadrant II_T_D05_2019Q2_RFM 2019-04-23 13:06:51.113954\n",
      "56 T_Quadrant II_T_D06_2019Q2_RFM 2019-04-23 13:06:51.277478\n",
      "57 T_Quadrant II_T_D07_2019Q2_RFM 2019-04-23 13:06:51.421958\n",
      "58 T_Quadrant II_T_D08_2019Q2_RFM 2019-04-23 13:06:51.600202\n",
      "59 T_Quadrant II_T_D09_2019Q2_RFM 2019-04-23 13:06:51.606884\n",
      "60 T_Quadrant II_T_D10_2019Q2_RFM 2019-04-23 13:06:51.609654\n",
      "61 T_Quadrant IV_P_D01_2019Q2_RFM 2019-04-23 13:06:53.518821\n",
      "62 T_Quadrant IV_P_D02_2019Q2_RFM 2019-04-23 13:06:55.171269\n",
      "63 T_Quadrant IV_P_D03_2019Q2_RFM 2019-04-23 13:06:56.956682\n",
      "64 T_Quadrant IV_P_D04_2019Q2_RFM 2019-04-23 13:06:58.750807\n",
      "65 T_Quadrant IV_P_D05_2019Q2_RFM 2019-04-23 13:07:00.499219\n",
      "66 T_Quadrant IV_P_D06_2019Q2_RFM 2019-04-23 13:07:02.043609\n",
      "67 T_Quadrant IV_P_D07_2019Q2_RFM 2019-04-23 13:07:03.741293\n",
      "68 T_Quadrant IV_P_D08_2019Q2_RFM 2019-04-23 13:07:05.129366\n",
      "69 T_Quadrant IV_P_D09_2019Q2_RFM 2019-04-23 13:07:05.168140\n",
      "70 T_Quadrant IV_P_D10_2019Q2_RFM 2019-04-23 13:07:05.180285\n",
      "71 T_Quadrant IV_S_D01_2019Q2_RFM 2019-04-23 13:07:05.584817\n",
      "72 T_Quadrant IV_S_D02_2019Q2_RFM 2019-04-23 13:07:06.000662\n",
      "73 T_Quadrant IV_S_D03_2019Q2_RFM 2019-04-23 13:07:06.445339\n",
      "74 T_Quadrant IV_S_D04_2019Q2_RFM 2019-04-23 13:07:06.885946\n",
      "75 T_Quadrant IV_S_D05_2019Q2_RFM 2019-04-23 13:07:07.360743\n",
      "76 T_Quadrant IV_S_D06_2019Q2_RFM 2019-04-23 13:07:07.803357\n",
      "77 T_Quadrant IV_S_D07_2019Q2_RFM 2019-04-23 13:07:08.274570\n",
      "78 T_Quadrant IV_S_D08_2019Q2_RFM 2019-04-23 13:07:08.686548\n",
      "79 T_Quadrant IV_S_D09_2019Q2_RFM 2019-04-23 13:07:08.700215\n",
      "80 T_Quadrant IV_S_D10_2019Q2_RFM 2019-04-23 13:07:08.705026\n",
      "81 T_Quadrant IV_T_D01_2019Q2_RFM 2019-04-23 13:07:08.863605\n",
      "82 T_Quadrant IV_T_D02_2019Q2_RFM 2019-04-23 13:07:09.064730\n",
      "83 T_Quadrant IV_T_D03_2019Q2_RFM 2019-04-23 13:07:09.259347\n",
      "84 T_Quadrant IV_T_D04_2019Q2_RFM 2019-04-23 13:07:09.485377\n",
      "85 T_Quadrant IV_T_D05_2019Q2_RFM 2019-04-23 13:07:09.699202\n",
      "86 T_Quadrant IV_T_D06_2019Q2_RFM 2019-04-23 13:07:09.934821\n",
      "87 T_Quadrant IV_T_D07_2019Q2_RFM 2019-04-23 13:07:10.171564\n",
      "88 T_Quadrant IV_T_D08_2019Q2_RFM 2019-04-23 13:07:10.432226\n",
      "89 T_Quadrant IV_T_D09_2019Q2_RFM 2019-04-23 13:07:10.441368\n",
      "90 T_Quadrant IV_T_D10_2019Q2_RFM 2019-04-23 13:07:10.444930\n",
      "91 T_Quadrant I_P_D01_2019Q2_RFM 2019-04-23 13:07:15.716515\n",
      "92 T_Quadrant I_P_D02_2019Q2_RFM 2019-04-23 13:07:20.855594\n",
      "93 T_Quadrant I_P_D03_2019Q2_RFM 2019-04-23 13:07:25.928058\n",
      "94 T_Quadrant I_P_D04_2019Q2_RFM 2019-04-23 13:07:30.878299\n",
      "95 T_Quadrant I_P_D05_2019Q2_RFM 2019-04-23 13:07:35.779120\n",
      "96 T_Quadrant I_P_D06_2019Q2_RFM 2019-04-23 13:07:40.717555\n",
      "97 T_Quadrant I_P_D07_2019Q2_RFM 2019-04-23 13:07:45.242777\n",
      "98 T_Quadrant I_P_D08_2019Q2_RFM 2019-04-23 13:07:49.114594\n",
      "99 T_Quadrant I_P_D09_2019Q2_RFM 2019-04-23 13:07:49.208123\n",
      "100 T_Quadrant I_P_D10_2019Q2_RFM 2019-04-23 13:07:49.237757\n",
      "101 T_Quadrant I_S_D01_2019Q2_RFM 2019-04-23 13:07:50.252962\n",
      "102 T_Quadrant I_S_D02_2019Q2_RFM 2019-04-23 13:07:51.527521\n",
      "103 T_Quadrant I_S_D03_2019Q2_RFM 2019-04-23 13:07:52.728421\n",
      "104 T_Quadrant I_S_D04_2019Q2_RFM 2019-04-23 13:07:54.104351\n",
      "105 T_Quadrant I_S_D05_2019Q2_RFM 2019-04-23 13:07:55.321195\n",
      "106 T_Quadrant I_S_D06_2019Q2_RFM 2019-04-23 13:07:56.576322\n",
      "107 T_Quadrant I_S_D07_2019Q2_RFM 2019-04-23 13:07:57.710002\n",
      "108 T_Quadrant I_S_D08_2019Q2_RFM 2019-04-23 13:07:58.770481\n",
      "109 T_Quadrant I_S_D09_2019Q2_RFM 2019-04-23 13:07:58.800239\n",
      "110 T_Quadrant I_S_D10_2019Q2_RFM 2019-04-23 13:07:58.809769\n",
      "111 T_Quadrant I_T_D01_2019Q2_RFM 2019-04-23 13:07:59.235860\n",
      "112 T_Quadrant I_T_D02_2019Q2_RFM 2019-04-23 13:07:59.782756\n",
      "113 T_Quadrant I_T_D03_2019Q2_RFM 2019-04-23 13:08:00.260346\n",
      "114 T_Quadrant I_T_D04_2019Q2_RFM 2019-04-23 13:08:00.883316\n",
      "115 T_Quadrant I_T_D05_2019Q2_RFM 2019-04-23 13:08:01.405623\n",
      "116 T_Quadrant I_T_D06_2019Q2_RFM 2019-04-23 13:08:02.034613\n",
      "117 T_Quadrant I_T_D07_2019Q2_RFM 2019-04-23 13:08:02.577465\n",
      "118 T_Quadrant I_T_D08_2019Q2_RFM 2019-04-23 13:08:03.223693\n",
      "119 T_Quadrant I_T_D09_2019Q2_RFM 2019-04-23 13:08:03.243066\n",
      "120 T_Quadrant I_T_D10_2019Q2_RFM 2019-04-23 13:08:03.249495\n",
      "121 T_Quadrant III_P_D08_2019Q2_PL18 2019-04-23 13:08:04.815406\n",
      "122 T_Quadrant III_P_D09_2019Q2_PL18 2019-04-23 13:08:07.941006\n",
      "123 T_Quadrant III_P_D10_2019Q2_PL18 2019-04-23 13:08:11.090055\n",
      "124 T_Quadrant II_P_D08_2019Q2_PL18 2019-04-23 13:08:11.276219\n",
      "125 T_Quadrant II_P_D09_2019Q2_PL18 2019-04-23 13:08:12.354926\n",
      "126 T_Quadrant II_P_D10_2019Q2_PL18 2019-04-23 13:08:13.458545\n",
      "127 T_Quadrant IV_P_D08_2019Q2_PL18 2019-04-23 13:08:13.676761\n",
      "128 T_Quadrant IV_P_D09_2019Q2_PL18 2019-04-23 13:08:15.022594\n",
      "129 T_Quadrant IV_P_D10_2019Q2_PL18 2019-04-23 13:08:16.378976\n",
      "130 T_Quadrant I_P_D08_2019Q2_PL18 2019-04-23 13:08:16.903913\n",
      "131 T_Quadrant I_P_D09_2019Q2_PL18 2019-04-23 13:08:20.471091\n",
      "132 T_Quadrant I_P_D10_2019Q2_PL18 2019-04-23 13:08:24.184870\n"
     ]
    }
   ],
   "source": [
    "# Decile\n",
    "# Test\n",
    "\n",
    "i_counter=0\n",
    "for seg,group in df_test_all_regular.groupby(['segment_Decile']):\n",
    "    group=group[['customer_id_hashed','email_address_hash','segment_Decile','segment_2019Q2']]\n",
    "    group.to_csv(folder_write_inner_decile+seg+\".csv\",index=False)\n",
    "    i_counter+=1\n",
    "    print(i_counter,seg,datetime.datetime.now())\n",
    "    \n",
    "for seg,group in df_test_PL18.groupby(['segment_Decile']):\n",
    "    group=group[['customer_id_hashed','email_address_hash','segment_Decile','segment_2019Q2']]\n",
    "    group.to_csv(folder_write_inner_decile+seg+\".csv\",index=False)\n",
    "    i_counter+=1\n",
    "    print(i_counter,seg,datetime.datetime.now())"
   ]
  },
  {
   "cell_type": "code",
   "execution_count": 14,
   "metadata": {},
   "outputs": [
    {
     "name": "stdout",
     "output_type": "stream",
     "text": [
      "1 C_Quadrant III_P_D01_2019Q2_RFM 2019-04-23 13:08:24.542981\n",
      "2 C_Quadrant III_P_D02_2019Q2_RFM 2019-04-23 13:08:24.589243\n",
      "3 C_Quadrant III_P_D03_2019Q2_RFM 2019-04-23 13:08:24.639157\n",
      "4 C_Quadrant III_P_D04_2019Q2_RFM 2019-04-23 13:08:24.686138\n",
      "5 C_Quadrant III_P_D05_2019Q2_RFM 2019-04-23 13:08:24.739274\n",
      "6 C_Quadrant III_P_D06_2019Q2_RFM 2019-04-23 13:08:24.788946\n",
      "7 C_Quadrant III_P_D07_2019Q2_RFM 2019-04-23 13:08:24.841571\n",
      "8 C_Quadrant III_P_D08_2019Q2_RFM 2019-04-23 13:08:24.885955\n",
      "9 C_Quadrant III_P_D09_2019Q2_RFM 2019-04-23 13:08:24.889045\n",
      "10 C_Quadrant III_P_D10_2019Q2_RFM 2019-04-23 13:08:24.891172\n",
      "11 C_Quadrant III_S_D01_2019Q2_RFM 2019-04-23 13:08:24.901992\n",
      "12 C_Quadrant III_S_D02_2019Q2_RFM 2019-04-23 13:08:24.914560\n",
      "13 C_Quadrant III_S_D03_2019Q2_RFM 2019-04-23 13:08:24.927162\n",
      "14 C_Quadrant III_S_D04_2019Q2_RFM 2019-04-23 13:08:24.940874\n",
      "15 C_Quadrant III_S_D05_2019Q2_RFM 2019-04-23 13:08:24.954747\n",
      "16 C_Quadrant III_S_D06_2019Q2_RFM 2019-04-23 13:08:24.969233\n",
      "17 C_Quadrant III_S_D07_2019Q2_RFM 2019-04-23 13:08:24.984007\n",
      "18 C_Quadrant III_S_D08_2019Q2_RFM 2019-04-23 13:08:24.998727\n",
      "19 C_Quadrant III_S_D09_2019Q2_RFM 2019-04-23 13:08:25.001030\n",
      "20 C_Quadrant III_S_D10_2019Q2_RFM 2019-04-23 13:08:25.002838\n",
      "21 C_Quadrant III_T_D01_2019Q2_RFM 2019-04-23 13:08:25.008353\n",
      "22 C_Quadrant III_T_D02_2019Q2_RFM 2019-04-23 13:08:25.015465\n",
      "23 C_Quadrant III_T_D03_2019Q2_RFM 2019-04-23 13:08:25.022130\n",
      "24 C_Quadrant III_T_D04_2019Q2_RFM 2019-04-23 13:08:25.030232\n",
      "25 C_Quadrant III_T_D05_2019Q2_RFM 2019-04-23 13:08:25.037613\n",
      "26 C_Quadrant III_T_D06_2019Q2_RFM 2019-04-23 13:08:25.046528\n",
      "27 C_Quadrant III_T_D07_2019Q2_RFM 2019-04-23 13:08:25.054991\n",
      "28 C_Quadrant III_T_D08_2019Q2_RFM 2019-04-23 13:08:25.064724\n",
      "29 C_Quadrant III_T_D09_2019Q2_RFM 2019-04-23 13:08:25.066786\n",
      "30 C_Quadrant III_T_D10_2019Q2_RFM 2019-04-23 13:08:25.100450\n",
      "31 C_Quadrant II_P_D01_2019Q2_RFM 2019-04-23 13:08:25.144745\n",
      "32 C_Quadrant II_P_D02_2019Q2_RFM 2019-04-23 13:08:25.189607\n",
      "33 C_Quadrant II_P_D03_2019Q2_RFM 2019-04-23 13:08:25.232602\n",
      "34 C_Quadrant II_P_D04_2019Q2_RFM 2019-04-23 13:08:25.277077\n",
      "35 C_Quadrant II_P_D05_2019Q2_RFM 2019-04-23 13:08:25.318774\n",
      "36 C_Quadrant II_P_D06_2019Q2_RFM 2019-04-23 13:08:25.361397\n",
      "37 C_Quadrant II_P_D07_2019Q2_RFM 2019-04-23 13:08:25.401432\n",
      "38 C_Quadrant II_P_D08_2019Q2_RFM 2019-04-23 13:08:25.439514\n",
      "39 C_Quadrant II_P_D09_2019Q2_RFM 2019-04-23 13:08:25.442440\n",
      "40 C_Quadrant II_P_D10_2019Q2_RFM 2019-04-23 13:08:25.444477\n",
      "41 C_Quadrant II_S_D01_2019Q2_RFM 2019-04-23 13:08:25.453007\n",
      "42 C_Quadrant II_S_D02_2019Q2_RFM 2019-04-23 13:08:25.463101\n",
      "43 C_Quadrant II_S_D03_2019Q2_RFM 2019-04-23 13:08:25.472526\n",
      "44 C_Quadrant II_S_D04_2019Q2_RFM 2019-04-23 13:08:25.516295\n",
      "45 C_Quadrant II_S_D05_2019Q2_RFM 2019-04-23 13:08:25.526171\n",
      "46 C_Quadrant II_S_D06_2019Q2_RFM 2019-04-23 13:08:25.536924\n",
      "47 C_Quadrant II_S_D07_2019Q2_RFM 2019-04-23 13:08:25.546915\n",
      "48 C_Quadrant II_S_D08_2019Q2_RFM 2019-04-23 13:08:25.557013\n",
      "49 C_Quadrant II_S_D09_2019Q2_RFM 2019-04-23 13:08:25.559076\n",
      "50 C_Quadrant II_S_D10_2019Q2_RFM 2019-04-23 13:08:25.560913\n",
      "51 C_Quadrant II_T_D01_2019Q2_RFM 2019-04-23 13:08:25.565939\n",
      "52 C_Quadrant II_T_D02_2019Q2_RFM 2019-04-23 13:08:25.571813\n",
      "53 C_Quadrant II_T_D03_2019Q2_RFM 2019-04-23 13:08:25.577347\n",
      "54 C_Quadrant II_T_D04_2019Q2_RFM 2019-04-23 13:08:25.583762\n",
      "55 C_Quadrant II_T_D05_2019Q2_RFM 2019-04-23 13:08:25.589415\n",
      "56 C_Quadrant II_T_D06_2019Q2_RFM 2019-04-23 13:08:25.595834\n",
      "57 C_Quadrant II_T_D07_2019Q2_RFM 2019-04-23 13:08:25.601810\n",
      "58 C_Quadrant II_T_D08_2019Q2_RFM 2019-04-23 13:08:25.608834\n",
      "59 C_Quadrant II_T_D09_2019Q2_RFM 2019-04-23 13:08:25.610762\n",
      "60 C_Quadrant II_T_D10_2019Q2_RFM 2019-04-23 13:08:25.612517\n",
      "61 C_Quadrant IV_P_D01_2019Q2_RFM 2019-04-23 13:08:25.667768\n",
      "62 C_Quadrant IV_P_D02_2019Q2_RFM 2019-04-23 13:08:25.747580\n",
      "63 C_Quadrant IV_P_D03_2019Q2_RFM 2019-04-23 13:08:25.800025\n",
      "64 C_Quadrant IV_P_D04_2019Q2_RFM 2019-04-23 13:08:25.846393\n",
      "65 C_Quadrant IV_P_D05_2019Q2_RFM 2019-04-23 13:08:25.899620\n",
      "66 C_Quadrant IV_P_D06_2019Q2_RFM 2019-04-23 13:08:25.946343\n",
      "67 C_Quadrant IV_P_D07_2019Q2_RFM 2019-04-23 13:08:26.001717\n",
      "68 C_Quadrant IV_P_D08_2019Q2_RFM 2019-04-23 13:08:26.046294\n",
      "69 C_Quadrant IV_P_D09_2019Q2_RFM 2019-04-23 13:08:26.049572\n",
      "70 C_Quadrant IV_P_D10_2019Q2_RFM 2019-04-23 13:08:26.051655\n",
      "71 C_Quadrant IV_S_D01_2019Q2_RFM 2019-04-23 13:08:26.065041\n",
      "72 C_Quadrant IV_S_D02_2019Q2_RFM 2019-04-23 13:08:26.078743\n",
      "73 C_Quadrant IV_S_D03_2019Q2_RFM 2019-04-23 13:08:26.093175\n",
      "74 C_Quadrant IV_S_D04_2019Q2_RFM 2019-04-23 13:08:26.108058\n",
      "75 C_Quadrant IV_S_D05_2019Q2_RFM 2019-04-23 13:08:26.123083\n",
      "76 C_Quadrant IV_S_D06_2019Q2_RFM 2019-04-23 13:08:26.137475\n",
      "77 C_Quadrant IV_S_D07_2019Q2_RFM 2019-04-23 13:08:26.153724\n",
      "78 C_Quadrant IV_S_D08_2019Q2_RFM 2019-04-23 13:08:26.168067\n",
      "79 C_Quadrant IV_S_D09_2019Q2_RFM 2019-04-23 13:08:26.170230\n",
      "80 C_Quadrant IV_S_D10_2019Q2_RFM 2019-04-23 13:08:26.172048\n",
      "81 C_Quadrant IV_T_D01_2019Q2_RFM 2019-04-23 13:08:26.178395\n",
      "82 C_Quadrant IV_T_D02_2019Q2_RFM 2019-04-23 13:08:26.185973\n",
      "83 C_Quadrant IV_T_D03_2019Q2_RFM 2019-04-23 13:08:26.193245\n",
      "84 C_Quadrant IV_T_D04_2019Q2_RFM 2019-04-23 13:08:26.201344\n",
      "85 C_Quadrant IV_T_D05_2019Q2_RFM 2019-04-23 13:08:26.209110\n",
      "86 C_Quadrant IV_T_D06_2019Q2_RFM 2019-04-23 13:08:26.217564\n",
      "87 C_Quadrant IV_T_D07_2019Q2_RFM 2019-04-23 13:08:26.226583\n",
      "88 C_Quadrant IV_T_D08_2019Q2_RFM 2019-04-23 13:08:26.236275\n",
      "89 C_Quadrant IV_T_D09_2019Q2_RFM 2019-04-23 13:08:26.238559\n",
      "90 C_Quadrant IV_T_D10_2019Q2_RFM 2019-04-23 13:08:26.240350\n",
      "91 C_Quadrant I_P_D01_2019Q2_RFM 2019-04-23 13:08:26.396942\n",
      "92 C_Quadrant I_P_D02_2019Q2_RFM 2019-04-23 13:08:26.548567\n",
      "93 C_Quadrant I_P_D03_2019Q2_RFM 2019-04-23 13:08:26.699726\n",
      "94 C_Quadrant I_P_D04_2019Q2_RFM 2019-04-23 13:08:26.845610\n",
      "95 C_Quadrant I_P_D05_2019Q2_RFM 2019-04-23 13:08:26.989268\n",
      "96 C_Quadrant I_P_D06_2019Q2_RFM 2019-04-23 13:08:27.131611\n",
      "97 C_Quadrant I_P_D07_2019Q2_RFM 2019-04-23 13:08:27.282023\n",
      "98 C_Quadrant I_P_D08_2019Q2_RFM 2019-04-23 13:08:27.397604\n",
      "99 C_Quadrant I_P_D09_2019Q2_RFM 2019-04-23 13:08:27.403837\n",
      "100 C_Quadrant I_P_D10_2019Q2_RFM 2019-04-23 13:08:27.406437\n",
      "101 C_Quadrant I_S_D01_2019Q2_RFM 2019-04-23 13:08:27.436455\n",
      "102 C_Quadrant I_S_D02_2019Q2_RFM 2019-04-23 13:08:27.472304\n",
      "103 C_Quadrant I_S_D03_2019Q2_RFM 2019-04-23 13:08:27.506478\n",
      "104 C_Quadrant I_S_D04_2019Q2_RFM 2019-04-23 13:08:27.545317\n",
      "105 C_Quadrant I_S_D05_2019Q2_RFM 2019-04-23 13:08:27.580926\n",
      "106 C_Quadrant I_S_D06_2019Q2_RFM 2019-04-23 13:08:27.618937\n",
      "107 C_Quadrant I_S_D07_2019Q2_RFM 2019-04-23 13:08:27.657341\n",
      "108 C_Quadrant I_S_D08_2019Q2_RFM 2019-04-23 13:08:27.691101\n",
      "109 C_Quadrant I_S_D09_2019Q2_RFM 2019-04-23 13:08:27.694325\n",
      "110 C_Quadrant I_S_D10_2019Q2_RFM 2019-04-23 13:08:27.696339\n",
      "111 C_Quadrant I_T_D01_2019Q2_RFM 2019-04-23 13:08:27.710240\n",
      "112 C_Quadrant I_T_D02_2019Q2_RFM 2019-04-23 13:08:27.727586\n",
      "113 C_Quadrant I_T_D03_2019Q2_RFM 2019-04-23 13:08:27.742652\n",
      "114 C_Quadrant I_T_D04_2019Q2_RFM 2019-04-23 13:08:27.782648\n",
      "115 C_Quadrant I_T_D05_2019Q2_RFM 2019-04-23 13:08:27.799132\n",
      "116 C_Quadrant I_T_D06_2019Q2_RFM 2019-04-23 13:08:27.818658\n",
      "117 C_Quadrant I_T_D07_2019Q2_RFM 2019-04-23 13:08:27.838026\n",
      "118 C_Quadrant I_T_D08_2019Q2_RFM 2019-04-23 13:08:27.858337\n",
      "119 C_Quadrant I_T_D09_2019Q2_RFM 2019-04-23 13:08:27.860696\n",
      "120 C_Quadrant I_T_D10_2019Q2_RFM 2019-04-23 13:08:27.862598\n",
      "121 C_Quadrant III_P_D08_2019Q2_PL18 2019-04-23 13:08:27.946060\n",
      "122 C_Quadrant III_P_D09_2019Q2_PL18 2019-04-23 13:08:28.037923\n",
      "123 C_Quadrant III_P_D10_2019Q2_PL18 2019-04-23 13:08:30.489386\n",
      "124 C_Quadrant II_P_D08_2019Q2_PL18 2019-04-23 13:08:30.498353\n",
      "125 C_Quadrant II_P_D09_2019Q2_PL18 2019-04-23 13:08:30.531112\n",
      "126 C_Quadrant II_P_D10_2019Q2_PL18 2019-04-23 13:08:30.564942\n",
      "127 C_Quadrant IV_P_D08_2019Q2_PL18 2019-04-23 13:08:30.573350\n",
      "128 C_Quadrant IV_P_D09_2019Q2_PL18 2019-04-23 13:08:30.614070\n",
      "129 C_Quadrant IV_P_D10_2019Q2_PL18 2019-04-23 13:08:30.654994\n",
      "130 C_Quadrant I_P_D08_2019Q2_PL18 2019-04-23 13:08:30.671894\n",
      "131 C_Quadrant I_P_D09_2019Q2_PL18 2019-04-23 13:08:30.775544\n",
      "132 C_Quadrant I_P_D10_2019Q2_PL18 2019-04-23 13:08:30.881285\n"
     ]
    }
   ],
   "source": [
    "# Decile\n",
    "# Control\n",
    "\n",
    "i_counter=0\n",
    "for seg,group in df_control_all_regular.groupby(['segment_Decile']):\n",
    "    group=group[['customer_id_hashed','email_address_hash','segment_Decile','segment_2019Q2']]\n",
    "    group.to_csv(folder_write_inner_decile+seg+\".csv\",index=False)\n",
    "    i_counter+=1\n",
    "    print(i_counter,seg,datetime.datetime.now())\n",
    "    \n",
    "for seg,group in df_control_PL18.groupby(['segment_Decile']):\n",
    "    group=group[['customer_id_hashed','email_address_hash','segment_Decile','segment_2019Q2']]\n",
    "    group.to_csv(folder_write_inner_decile+seg+\".csv\",index=False)\n",
    "    i_counter+=1\n",
    "    print(i_counter,seg,datetime.datetime.now())    \n",
    "    "
   ]
  },
  {
   "cell_type": "code",
   "execution_count": 15,
   "metadata": {},
   "outputs": [
    {
     "name": "stdout",
     "output_type": "stream",
     "text": [
      "1 T_Quadrant III_P_H_2019Q2_RFM 2019-04-23 13:08:41.329798\n",
      "2 T_Quadrant III_P_L_2019Q2_RFM 2019-04-23 13:08:43.065559\n",
      "3 T_Quadrant III_P_M_2019Q2_RFM 2019-04-23 13:08:48.342156\n",
      "4 T_Quadrant III_S_H_2019Q2_RFM 2019-04-23 13:08:50.030916\n",
      "5 T_Quadrant III_S_L_2019Q2_RFM 2019-04-23 13:08:50.456970\n",
      "6 T_Quadrant III_S_M_2019Q2_RFM 2019-04-23 13:08:51.794941\n",
      "7 T_Quadrant III_T_H_2019Q2_RFM 2019-04-23 13:08:52.541119\n",
      "8 T_Quadrant III_T_L_2019Q2_RFM 2019-04-23 13:08:52.812547\n",
      "9 T_Quadrant III_T_M_2019Q2_RFM 2019-04-23 13:08:53.625172\n",
      "10 T_Quadrant II_P_H_2019Q2_RFM 2019-04-23 13:08:59.560737\n",
      "11 T_Quadrant II_P_L_2019Q2_RFM 2019-04-23 13:09:00.693730\n",
      "12 T_Quadrant II_P_M_2019Q2_RFM 2019-04-23 13:09:04.407658\n",
      "13 T_Quadrant II_S_H_2019Q2_RFM 2019-04-23 13:09:05.576766\n",
      "14 T_Quadrant II_S_L_2019Q2_RFM 2019-04-23 13:09:05.848681\n",
      "15 T_Quadrant II_S_M_2019Q2_RFM 2019-04-23 13:09:06.824194\n",
      "16 T_Quadrant II_T_H_2019Q2_RFM 2019-04-23 13:09:07.648284\n",
      "17 T_Quadrant II_T_L_2019Q2_RFM 2019-04-23 13:09:07.903201\n",
      "18 T_Quadrant II_T_M_2019Q2_RFM 2019-04-23 13:09:08.331402\n",
      "19 T_Quadrant IV_P_H_2019Q2_RFM 2019-04-23 13:09:17.074908\n",
      "20 T_Quadrant IV_P_L_2019Q2_RFM 2019-04-23 13:09:18.412155\n",
      "21 T_Quadrant IV_P_M_2019Q2_RFM 2019-04-23 13:09:22.856330\n",
      "22 T_Quadrant IV_S_H_2019Q2_RFM 2019-04-23 13:09:24.493579\n",
      "23 T_Quadrant IV_S_L_2019Q2_RFM 2019-04-23 13:09:24.900086\n",
      "24 T_Quadrant IV_S_M_2019Q2_RFM 2019-04-23 13:09:26.186445\n",
      "25 T_Quadrant IV_T_H_2019Q2_RFM 2019-04-23 13:09:26.969644\n",
      "26 T_Quadrant IV_T_L_2019Q2_RFM 2019-04-23 13:09:27.261839\n",
      "27 T_Quadrant IV_T_M_2019Q2_RFM 2019-04-23 13:09:27.930726\n",
      "28 T_Quadrant I_P_H_2019Q2_RFM 2019-04-23 13:09:46.936633\n",
      "29 T_Quadrant I_P_L_2019Q2_RFM 2019-04-23 13:09:50.677275\n",
      "30 T_Quadrant I_P_M_2019Q2_RFM 2019-04-23 13:10:03.290599\n",
      "31 T_Quadrant I_S_H_2019Q2_RFM 2019-04-23 13:10:07.640753\n",
      "32 T_Quadrant I_S_L_2019Q2_RFM 2019-04-23 13:10:08.655278\n",
      "33 T_Quadrant I_S_M_2019Q2_RFM 2019-04-23 13:10:11.826120\n",
      "34 T_Quadrant I_T_H_2019Q2_RFM 2019-04-23 13:10:13.750988\n",
      "35 T_Quadrant I_T_L_2019Q2_RFM 2019-04-23 13:10:14.369166\n",
      "36 T_Quadrant I_T_M_2019Q2_RFM 2019-04-23 13:10:15.954110\n",
      "37 T_Quadrant III_P_L_2019Q2_PL18 2019-04-23 13:10:23.125055\n",
      "38 T_Quadrant II_P_L_2019Q2_PL18 2019-04-23 13:10:25.282621\n",
      "39 T_Quadrant IV_P_L_2019Q2_PL18 2019-04-23 13:10:27.890739\n",
      "40 T_Quadrant I_P_L_2019Q2_PL18 2019-04-23 13:10:34.728275\n"
     ]
    }
   ],
   "source": [
    "# HML\n",
    "# Test\n",
    "\n",
    "i_counter=0\n",
    "for seg,group in df_test_all_regular.groupby(['segment_2019Q2']):\n",
    "    group=group[['customer_id_hashed','email_address_hash','segment_2019Q2']].rename(columns={\"segment_2019Q2\":\"segment\"})\n",
    "    group.to_csv(folder_write_inner_HML+seg+\".csv\",index=False)\n",
    "    i_counter+=1\n",
    "    print(i_counter,seg,datetime.datetime.now())\n",
    "\n",
    "    \n",
    "for seg,group in df_test_PL18.groupby(['segment_2019Q2']):\n",
    "    group=group[['customer_id_hashed','email_address_hash','segment_2019Q2']].rename(columns={\"segment_2019Q2\":\"segment\"})\n",
    "    group.to_csv(folder_write_inner_HML+seg+\".csv\",index=False)\n",
    "    i_counter+=1\n",
    "    print(i_counter,seg,datetime.datetime.now())\n"
   ]
  },
  {
   "cell_type": "code",
   "execution_count": 16,
   "metadata": {},
   "outputs": [
    {
     "name": "stdout",
     "output_type": "stream",
     "text": [
      "1 C_Quadrant III_P_H_2019Q2_RFM 2019-04-23 13:10:35.406028\n",
      "2 C_Quadrant III_P_L_2019Q2_RFM 2019-04-23 13:10:35.449320\n",
      "3 C_Quadrant III_P_M_2019Q2_RFM 2019-04-23 13:10:35.587993\n",
      "4 C_Quadrant III_S_H_2019Q2_RFM 2019-04-23 13:10:35.634044\n",
      "5 C_Quadrant III_S_L_2019Q2_RFM 2019-04-23 13:10:35.648262\n",
      "6 C_Quadrant III_S_M_2019Q2_RFM 2019-04-23 13:10:35.685149\n",
      "7 C_Quadrant III_T_H_2019Q2_RFM 2019-04-23 13:10:35.707509\n",
      "8 C_Quadrant III_T_L_2019Q2_RFM 2019-04-23 13:10:35.955296\n",
      "9 C_Quadrant III_T_M_2019Q2_RFM 2019-04-23 13:10:35.975926\n",
      "10 C_Quadrant II_P_H_2019Q2_RFM 2019-04-23 13:10:36.137066\n",
      "11 C_Quadrant II_P_L_2019Q2_RFM 2019-04-23 13:10:36.174758\n",
      "12 C_Quadrant II_P_M_2019Q2_RFM 2019-04-23 13:10:36.285956\n",
      "13 C_Quadrant II_S_H_2019Q2_RFM 2019-04-23 13:10:36.319915\n",
      "14 C_Quadrant II_S_L_2019Q2_RFM 2019-04-23 13:10:36.330295\n",
      "15 C_Quadrant II_S_M_2019Q2_RFM 2019-04-23 13:10:36.355416\n",
      "16 C_Quadrant II_T_H_2019Q2_RFM 2019-04-23 13:10:36.373028\n",
      "17 C_Quadrant II_T_L_2019Q2_RFM 2019-04-23 13:10:36.380994\n",
      "18 C_Quadrant II_T_M_2019Q2_RFM 2019-04-23 13:10:36.395078\n",
      "19 C_Quadrant IV_P_H_2019Q2_RFM 2019-04-23 13:10:36.583026\n",
      "20 C_Quadrant IV_P_L_2019Q2_RFM 2019-04-23 13:10:36.629018\n",
      "21 C_Quadrant IV_P_M_2019Q2_RFM 2019-04-23 13:10:36.762889\n",
      "22 C_Quadrant IV_S_H_2019Q2_RFM 2019-04-23 13:10:36.814511\n",
      "23 C_Quadrant IV_S_L_2019Q2_RFM 2019-04-23 13:10:36.828791\n",
      "24 C_Quadrant IV_S_M_2019Q2_RFM 2019-04-23 13:10:36.866408\n",
      "25 C_Quadrant IV_T_H_2019Q2_RFM 2019-04-23 13:10:36.890424\n",
      "26 C_Quadrant IV_T_L_2019Q2_RFM 2019-04-23 13:10:36.900133\n",
      "27 C_Quadrant IV_T_M_2019Q2_RFM 2019-04-23 13:10:36.919877\n",
      "28 C_Quadrant I_P_H_2019Q2_RFM 2019-04-23 13:10:37.557617\n",
      "29 C_Quadrant I_P_L_2019Q2_RFM 2019-04-23 13:10:37.673093\n",
      "30 C_Quadrant I_P_M_2019Q2_RFM 2019-04-23 13:10:38.080080\n",
      "31 C_Quadrant I_S_H_2019Q2_RFM 2019-04-23 13:10:38.219393\n",
      "32 C_Quadrant I_S_L_2019Q2_RFM 2019-04-23 13:10:38.252331\n",
      "33 C_Quadrant I_S_M_2019Q2_RFM 2019-04-23 13:10:38.348820\n",
      "34 C_Quadrant I_T_H_2019Q2_RFM 2019-04-23 13:10:38.409264\n",
      "35 C_Quadrant I_T_L_2019Q2_RFM 2019-04-23 13:10:38.429751\n",
      "36 C_Quadrant I_T_M_2019Q2_RFM 2019-04-23 13:10:38.475564\n",
      "37 C_Quadrant III_P_L_2019Q2_PL18 2019-04-23 13:10:38.692618\n",
      "38 C_Quadrant II_P_L_2019Q2_PL18 2019-04-23 13:10:38.759130\n",
      "39 C_Quadrant IV_P_L_2019Q2_PL18 2019-04-23 13:10:38.838370\n",
      "40 C_Quadrant I_P_L_2019Q2_PL18 2019-04-23 13:10:39.046719\n"
     ]
    }
   ],
   "source": [
    "# HML\n",
    "# Control\n",
    "\n",
    "i_counter=0\n",
    "for seg,group in df_control_all_regular.groupby(['segment_2019Q2']):\n",
    "    group=group[['customer_id_hashed','email_address_hash','segment_2019Q2']].rename(columns={\"segment_2019Q2\":\"segment\"})\n",
    "    group.to_csv(folder_write_inner_HML+seg+\".csv\",index=False)\n",
    "    i_counter+=1\n",
    "    print(i_counter,seg,datetime.datetime.now())\n",
    "    \n",
    "for seg,group in df_control_PL18.groupby(['segment_2019Q2']):\n",
    "    group=group[['customer_id_hashed','email_address_hash','segment_2019Q2']].rename(columns={\"segment_2019Q2\":\"segment\"})\n",
    "    group.to_csv(folder_write_inner_HML+seg+\".csv\",index=False)\n",
    "    i_counter+=1\n",
    "    print(i_counter,seg,datetime.datetime.now())"
   ]
  },
  {
   "cell_type": "code",
   "execution_count": 17,
   "metadata": {},
   "outputs": [
    {
     "data": {
      "text/plain": [
       "(500003, 6)"
      ]
     },
     "execution_count": 17,
     "metadata": {},
     "output_type": "execute_result"
    }
   ],
   "source": [
    "df_control_all_regular.shape"
   ]
  },
  {
   "cell_type": "code",
   "execution_count": 18,
   "metadata": {},
   "outputs": [
    {
     "data": {
      "text/plain": [
       "(100000, 6)"
      ]
     },
     "execution_count": 18,
     "metadata": {},
     "output_type": "execute_result"
    }
   ],
   "source": [
    "df_control_PL18.shape"
   ]
  },
  {
   "cell_type": "code",
   "execution_count": 19,
   "metadata": {},
   "outputs": [
    {
     "data": {
      "text/html": [
       "<div>\n",
       "<style>\n",
       "    .dataframe thead tr:only-child th {\n",
       "        text-align: right;\n",
       "    }\n",
       "\n",
       "    .dataframe thead th {\n",
       "        text-align: left;\n",
       "    }\n",
       "\n",
       "    .dataframe tbody tr th {\n",
       "        vertical-align: top;\n",
       "    }\n",
       "</style>\n",
       "<table border=\"1\" class=\"dataframe\">\n",
       "  <thead>\n",
       "    <tr style=\"text-align: right;\">\n",
       "      <th></th>\n",
       "      <th>index</th>\n",
       "      <th>segment_Decile</th>\n",
       "      <th>segment_2019Q2</th>\n",
       "      <th>customer_id_hashed</th>\n",
       "      <th>email_address_hash</th>\n",
       "      <th>active</th>\n",
       "    </tr>\n",
       "  </thead>\n",
       "  <tbody>\n",
       "    <tr>\n",
       "      <th>64</th>\n",
       "      <td>64</td>\n",
       "      <td>C_Quadrant III_P_D08_2019Q2_PL18</td>\n",
       "      <td>C_Quadrant III_P_L_2019Q2_PL18</td>\n",
       "      <td>6ff5acd31d94eea5d1617b80088fcd744a064deedff239...</td>\n",
       "      <td>a4c870d86004b7f5a3a6aefc5d9f9f253c3ff3e8a0dd4e...</td>\n",
       "      <td>other</td>\n",
       "    </tr>\n",
       "    <tr>\n",
       "      <th>72</th>\n",
       "      <td>72</td>\n",
       "      <td>C_Quadrant III_P_D08_2019Q2_PL18</td>\n",
       "      <td>C_Quadrant III_P_L_2019Q2_PL18</td>\n",
       "      <td>3a5e962e357c989c41fcfcb890fc9cad99380ddc3dc420...</td>\n",
       "      <td>dc39690e525e5ab71dac41e5d662049f1dc76e797db337...</td>\n",
       "      <td>other</td>\n",
       "    </tr>\n",
       "  </tbody>\n",
       "</table>\n",
       "</div>"
      ],
      "text/plain": [
       "    index                    segment_Decile                  segment_2019Q2  \\\n",
       "64     64  C_Quadrant III_P_D08_2019Q2_PL18  C_Quadrant III_P_L_2019Q2_PL18   \n",
       "72     72  C_Quadrant III_P_D08_2019Q2_PL18  C_Quadrant III_P_L_2019Q2_PL18   \n",
       "\n",
       "                                   customer_id_hashed  \\\n",
       "64  6ff5acd31d94eea5d1617b80088fcd744a064deedff239...   \n",
       "72  3a5e962e357c989c41fcfcb890fc9cad99380ddc3dc420...   \n",
       "\n",
       "                                   email_address_hash active  \n",
       "64  a4c870d86004b7f5a3a6aefc5d9f9f253c3ff3e8a0dd4e...  other  \n",
       "72  dc39690e525e5ab71dac41e5d662049f1dc76e797db337...  other  "
      ]
     },
     "execution_count": 19,
     "metadata": {},
     "output_type": "execute_result"
    }
   ],
   "source": [
    "df_control_PL18.head(2)"
   ]
  },
  {
   "cell_type": "code",
   "execution_count": 20,
   "metadata": {},
   "outputs": [
    {
     "data": {
      "text/plain": [
       "(18377280, 6)"
      ]
     },
     "execution_count": 20,
     "metadata": {},
     "output_type": "execute_result"
    }
   ],
   "source": [
    "df_test_all_regular.shape"
   ]
  },
  {
   "cell_type": "markdown",
   "metadata": {},
   "source": [
    "# Summary"
   ]
  },
  {
   "cell_type": "code",
   "execution_count": 40,
   "metadata": {},
   "outputs": [
    {
     "name": "stdout",
     "output_type": "stream",
     "text": [
      "80\n",
      "48\n",
      "4\n",
      "4\n"
     ]
    }
   ],
   "source": [
    "HML_files=glob.glob(\"/home/jian/Projects/Big_Lots/Live_Ramp/Quarterly_Update_2019Q2/output_final_20190422/Test_and_Control/by_HML_group/*.csv\")\n",
    "print(len(HML_files))\n",
    "\n",
    "HML_files_regular=[x for x in HML_files if (\"RFM\" in x) & (\"_T_\" not in x)]\n",
    "print(len(HML_files_regular))\n",
    "HML_files_PL18_test=[x for x in HML_files if (\"PL18\" in x) & (\"/T_\" in x)]\n",
    "HML_files_PL18_control=[x for x in HML_files if (\"PL18\" in x) & (\"/C_\" in x)]\n",
    "print(len(HML_files_PL18_test))\n",
    "print(len(HML_files_PL18_control))"
   ]
  },
  {
   "cell_type": "code",
   "execution_count": 41,
   "metadata": {
    "collapsed": true
   },
   "outputs": [],
   "source": [
    "writer_uploaded=\"/home/jian/Projects/Big_Lots/Live_Ramp/Quarterly_Update_2019Q2/output_final_20190422/Test_and_Control/uploaded/\"\n",
    "\n",
    " "
   ]
  },
  {
   "cell_type": "code",
   "execution_count": 42,
   "metadata": {},
   "outputs": [
    {
     "name": "stdout",
     "output_type": "stream",
     "text": [
      "17315947\n"
     ]
    },
    {
     "data": {
      "text/html": [
       "<div>\n",
       "<style>\n",
       "    .dataframe thead tr:only-child th {\n",
       "        text-align: right;\n",
       "    }\n",
       "\n",
       "    .dataframe thead th {\n",
       "        text-align: left;\n",
       "    }\n",
       "\n",
       "    .dataframe tbody tr th {\n",
       "        vertical-align: top;\n",
       "    }\n",
       "</style>\n",
       "<table border=\"1\" class=\"dataframe\">\n",
       "  <thead>\n",
       "    <tr style=\"text-align: right;\">\n",
       "      <th></th>\n",
       "      <th>customer_id_hashed</th>\n",
       "      <th>email_address_hash</th>\n",
       "      <th>segment</th>\n",
       "    </tr>\n",
       "  </thead>\n",
       "  <tbody>\n",
       "    <tr>\n",
       "      <th>0</th>\n",
       "      <td>def2d14cc66266f510507df1a6869612c9cad117998ca0...</td>\n",
       "      <td>fc2659c4b45e2025869c73740cd9484f28f1e40ec40cbd...</td>\n",
       "      <td>C_Quadrant I_S_M_2019Q2_RFM</td>\n",
       "    </tr>\n",
       "    <tr>\n",
       "      <th>1</th>\n",
       "      <td>26d4b22e5569ea031e4a61633d7ef9b3806ba3f4985df8...</td>\n",
       "      <td>c5135ac8585a662f8541725d183829f32f8b657560e673...</td>\n",
       "      <td>C_Quadrant I_S_M_2019Q2_RFM</td>\n",
       "    </tr>\n",
       "  </tbody>\n",
       "</table>\n",
       "</div>"
      ],
      "text/plain": [
       "                                  customer_id_hashed  \\\n",
       "0  def2d14cc66266f510507df1a6869612c9cad117998ca0...   \n",
       "1  26d4b22e5569ea031e4a61633d7ef9b3806ba3f4985df8...   \n",
       "\n",
       "                                  email_address_hash  \\\n",
       "0  fc2659c4b45e2025869c73740cd9484f28f1e40ec40cbd...   \n",
       "1  c5135ac8585a662f8541725d183829f32f8b657560e673...   \n",
       "\n",
       "                       segment  \n",
       "0  C_Quadrant I_S_M_2019Q2_RFM  \n",
       "1  C_Quadrant I_S_M_2019Q2_RFM  "
      ]
     },
     "execution_count": 42,
     "metadata": {},
     "output_type": "execute_result"
    }
   ],
   "source": [
    "total_count=0\n",
    "for file in HML_files_regular:\n",
    "    df=pd.read_csv(file,dtype=str)\n",
    "    total_count=total_count+df.shape[0]\n",
    "    \n",
    "print(total_count)\n",
    "df.head(2)   "
   ]
  },
  {
   "cell_type": "code",
   "execution_count": 67,
   "metadata": {},
   "outputs": [],
   "source": [
    "from shutil import copyfile\n",
    "\n",
    "\n",
    "for file in HML_files_regular:\n",
    "    basename=os.path.basename(file).replace(\" \",\"_\")\n",
    "    dst=writer_uploaded+basename\n",
    "    copyfile(file, dst)"
   ]
  },
  {
   "cell_type": "code",
   "execution_count": 44,
   "metadata": {},
   "outputs": [
    {
     "name": "stdout",
     "output_type": "stream",
     "text": [
      "(3591294, 3)\n"
     ]
    }
   ],
   "source": [
    "df_PL18_test=pd.DataFrame()\n",
    "\n",
    "for file in HML_files_PL18_test:\n",
    "    df=pd.read_csv(file,dtype=str)\n",
    "    df_PL18_test=df_PL18_test.append(df)\n",
    "    \n",
    "print(df_PL18_test.shape)\n",
    "df_PL18_test['segment']='T_PL18_P_L_2019Q2'"
   ]
  },
  {
   "cell_type": "code",
   "execution_count": 45,
   "metadata": {},
   "outputs": [
    {
     "name": "stdout",
     "output_type": "stream",
     "text": [
      "(100000, 3)\n"
     ]
    }
   ],
   "source": [
    "df_PL18_control=pd.DataFrame()\n",
    "\n",
    "for file in HML_files_PL18_control:\n",
    "    df=pd.read_csv(file,dtype=str)\n",
    "    df_PL18_control=df_PL18_control.append(df)\n",
    "    \n",
    "print(df_PL18_control.shape)\n",
    "df_PL18_control['segment']='C_PL18_P_L_2019Q2'"
   ]
  },
  {
   "cell_type": "code",
   "execution_count": 46,
   "metadata": {},
   "outputs": [],
   "source": [
    "df_PL18_test.to_csv(writer_uploaded+\"T_PL18_P_L_2019Q2.csv\",index=False)\n",
    "df_PL18_control.to_csv(writer_uploaded+\"C_PL18_P_L_2019Q2.csv\",index=False)"
   ]
  },
  {
   "cell_type": "code",
   "execution_count": 50,
   "metadata": {},
   "outputs": [
    {
     "data": {
      "text/plain": [
       "2732"
      ]
     },
     "execution_count": 50,
     "metadata": {},
     "output_type": "execute_result"
    }
   ],
   "source": [
    "# summary_uploaded_HML\n",
    "df_all_uploaded=pd.DataFrame()\n",
    "for file in glob.glob(writer_uploaded+\"*.csv\"):\n",
    "    df=pd.read_csv(file,dtype=str)\n",
    "    df_all_uploaded=df_all_uploaded.append(df)\n",
    "summary_uploaded_HML=df_all_uploaded.groupby(\"segment\")['customer_id_hashed'].count().to_frame().reset_index()\n",
    "\n",
    "del df_all_uploaded\n",
    "gc.collect()"
   ]
  },
  {
   "cell_type": "code",
   "execution_count": 51,
   "metadata": {},
   "outputs": [
    {
     "data": {
      "text/plain": [
       "147"
      ]
     },
     "execution_count": 51,
     "metadata": {},
     "output_type": "execute_result"
    }
   ],
   "source": [
    "# summary_all_HML\n",
    "\n",
    "df_all_HML=pd.DataFrame()\n",
    "for file in glob.glob(\"/home/jian/Projects/Big_Lots/Live_Ramp/Quarterly_Update_2019Q2/output_final_20190422/Test_and_Control/by_HML_group/*.csv\"):\n",
    "    df=pd.read_csv(file,dtype=str)\n",
    "    df_all_HML=df_all_HML.append(df)\n",
    "summary_all_HML=df_all_HML.groupby(\"segment\")['customer_id_hashed'].count().to_frame().reset_index()\n",
    "\n",
    "del df_all_HML\n",
    "gc.collect()"
   ]
  },
  {
   "cell_type": "code",
   "execution_count": null,
   "metadata": {},
   "outputs": [],
   "source": []
  },
  {
   "cell_type": "code",
   "execution_count": 66,
   "metadata": {},
   "outputs": [
    {
     "data": {
      "text/plain": [
       "562"
      ]
     },
     "execution_count": 66,
     "metadata": {},
     "output_type": "execute_result"
    }
   ],
   "source": [
    "# summary_all_decile\n",
    "\n",
    "df_all_decile=pd.DataFrame()\n",
    "for file in glob.glob(\"/home/jian/Projects/Big_Lots/Live_Ramp/Quarterly_Update_2019Q2/output_final_20190422/Test_and_Control/by_decile_group/*.csv\"):\n",
    "    df=pd.read_csv(file,dtype=str)\n",
    "    df_all_decile=df_all_decile.append(df)\n",
    "summary_all_decile=df_all_decile.groupby(\"segment_Decile\")['customer_id_hashed'].count().to_frame().reset_index()\n",
    "\n",
    "del df_all_decile\n",
    "gc.collect()"
   ]
  },
  {
   "cell_type": "code",
   "execution_count": 65,
   "metadata": {},
   "outputs": [],
   "source": [
    "summary_writer=pd.ExcelWriter(\"/home/jian/Projects/Big_Lots/Live_Ramp/Quarterly_Update_2019Q2/output_final_20190422/summary.xlsx\",engine=\"xlsxwriter\")\n",
    "\n",
    "summary_uploaded_HML.to_excel(summary_writer,\"summary_upload\",index=False)\n",
    "summary_all_HML.to_excel(summary_writer,\"summary_all_HML\",index=False)\n",
    "summary_all_decile.to_excel(summary_writer,\"summary_all_decile\",index=False)\n",
    "\n",
    "summary_writer.save()"
   ]
  },
  {
   "cell_type": "code",
   "execution_count": 61,
   "metadata": {},
   "outputs": [
    {
     "name": "stdout",
     "output_type": "stream",
     "text": [
      "1508994\n"
     ]
    },
    {
     "data": {
      "text/html": [
       "<div>\n",
       "<style>\n",
       "    .dataframe thead tr:only-child th {\n",
       "        text-align: right;\n",
       "    }\n",
       "\n",
       "    .dataframe thead th {\n",
       "        text-align: left;\n",
       "    }\n",
       "\n",
       "    .dataframe tbody tr th {\n",
       "        vertical-align: top;\n",
       "    }\n",
       "</style>\n",
       "<table border=\"1\" class=\"dataframe\">\n",
       "  <thead>\n",
       "    <tr style=\"text-align: right;\">\n",
       "      <th></th>\n",
       "      <th>frmindex</th>\n",
       "      <th>customer_id_hashed</th>\n",
       "      <th>RFM</th>\n",
       "      <th>recency</th>\n",
       "      <th>transactions</th>\n",
       "      <th>sales</th>\n",
       "      <th>active</th>\n",
       "      <th>email_address_hash</th>\n",
       "      <th>customer_zip_code</th>\n",
       "      <th>zipcodegroup</th>\n",
       "      <th>segment</th>\n",
       "    </tr>\n",
       "  </thead>\n",
       "  <tbody>\n",
       "    <tr>\n",
       "      <th>0</th>\n",
       "      <td>6.0</td>\n",
       "      <td>f876787772c92cc9723e338effa9cf73556b1dc283e4bf...</td>\n",
       "      <td>411.0</td>\n",
       "      <td>19.0</td>\n",
       "      <td>238</td>\n",
       "      <td>1790.9100000000003</td>\n",
       "      <td>other</td>\n",
       "      <td>674c0d29231714e3141f50b8f994af7f0a01233f355bc5...</td>\n",
       "      <td>22401</td>\n",
       "      <td>P</td>\n",
       "      <td>18_months_plus_back_201606</td>\n",
       "    </tr>\n",
       "    <tr>\n",
       "      <th>1</th>\n",
       "      <td>6.0</td>\n",
       "      <td>5ebe3711cf830d8ce3c6e8c074ec67c62e32979cc94c93...</td>\n",
       "      <td>411.0</td>\n",
       "      <td>19.0</td>\n",
       "      <td>200</td>\n",
       "      <td>1357.3700000000006</td>\n",
       "      <td>other</td>\n",
       "      <td>15d322a661bc1b6d75f586fbf61650aea2a6e3327ef31a...</td>\n",
       "      <td>97086</td>\n",
       "      <td>S</td>\n",
       "      <td>18_months_plus_back_201606</td>\n",
       "    </tr>\n",
       "  </tbody>\n",
       "</table>\n",
       "</div>"
      ],
      "text/plain": [
       "  frmindex                                 customer_id_hashed    RFM recency  \\\n",
       "0      6.0  f876787772c92cc9723e338effa9cf73556b1dc283e4bf...  411.0    19.0   \n",
       "1      6.0  5ebe3711cf830d8ce3c6e8c074ec67c62e32979cc94c93...  411.0    19.0   \n",
       "\n",
       "  transactions               sales active  \\\n",
       "0          238  1790.9100000000003  other   \n",
       "1          200  1357.3700000000006  other   \n",
       "\n",
       "                                  email_address_hash customer_zip_code  \\\n",
       "0  674c0d29231714e3141f50b8f994af7f0a01233f355bc5...             22401   \n",
       "1  15d322a661bc1b6d75f586fbf61650aea2a6e3327ef31a...             97086   \n",
       "\n",
       "  zipcodegroup                     segment  \n",
       "0            P  18_months_plus_back_201606  \n",
       "1            S  18_months_plus_back_201606  "
      ]
     },
     "execution_count": 61,
     "metadata": {},
     "output_type": "execute_result"
    }
   ],
   "source": [
    "others_not_PL18=pd.read_csv(\"/home/jian/Projects/Big_Lots/Live_Ramp/Quarterly_Update_2019Q2/output_final_20190422/others_not_new_seg_PLother.csv\",dtype=str)\n",
    "\n",
    "print(len(others_not_PL18))\n",
    "others_not_PL18.head(2)"
   ]
  },
  {
   "cell_type": "code",
   "execution_count": null,
   "metadata": {
    "collapsed": true
   },
   "outputs": [],
   "source": []
  }
 ],
 "metadata": {
  "kernelspec": {
   "display_name": "Python 3",
   "language": "python",
   "name": "python3"
  },
  "language_info": {
   "codemirror_mode": {
    "name": "ipython",
    "version": 3
   },
   "file_extension": ".py",
   "mimetype": "text/x-python",
   "name": "python",
   "nbconvert_exporter": "python",
   "pygments_lexer": "ipython3",
   "version": "3.6.1"
  }
 },
 "nbformat": 4,
 "nbformat_minor": 2
}
