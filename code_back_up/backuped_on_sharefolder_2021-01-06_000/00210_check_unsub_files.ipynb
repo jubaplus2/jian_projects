{
 "cells": [
  {
   "cell_type": "code",
   "execution_count": 3,
   "metadata": {},
   "outputs": [],
   "source": [
    "import pandas as pd"
   ]
  },
  {
   "cell_type": "code",
   "execution_count": 4,
   "metadata": {},
   "outputs": [
    {
     "data": {
      "text/plain": [
       "(6871466, 7)"
      ]
     },
     "execution_count": 4,
     "metadata": {},
     "output_type": "execute_result"
    }
   ],
   "source": [
    "df=pd.read_csv(\"./Unsubs/BL_Email_UnSubscriber_File_Refresh__20201125050434.csv\")\n",
    "df.shape"
   ]
  },
  {
   "cell_type": "code",
   "execution_count": 5,
   "metadata": {},
   "outputs": [
    {
     "data": {
      "text/html": [
       "<div>\n",
       "<style scoped>\n",
       "    .dataframe tbody tr th:only-of-type {\n",
       "        vertical-align: middle;\n",
       "    }\n",
       "\n",
       "    .dataframe tbody tr th {\n",
       "        vertical-align: top;\n",
       "    }\n",
       "\n",
       "    .dataframe thead th {\n",
       "        text-align: right;\n",
       "    }\n",
       "</style>\n",
       "<table border=\"1\" class=\"dataframe\">\n",
       "  <thead>\n",
       "    <tr style=\"text-align: right;\">\n",
       "      <th></th>\n",
       "      <th>customersummary_mastercustomerid</th>\n",
       "      <th>customersummary_emailhash</th>\n",
       "      <th>customersummary_c_primaryscnhash</th>\n",
       "      <th>customersummary_c_datecreated</th>\n",
       "      <th>customersummary_c_adsgroupmembershipsunsubscribed</th>\n",
       "      <th>customersummary_c_promosgroupmembershipsunsubscribed</th>\n",
       "      <th>execution_id</th>\n",
       "    </tr>\n",
       "  </thead>\n",
       "  <tbody>\n",
       "    <tr>\n",
       "      <th>0</th>\n",
       "      <td>FTP_CSV_6_31801866</td>\n",
       "      <td>1a52d53e9dcd9960f47c4c44d44c3ada825f503e3b36d6...</td>\n",
       "      <td>4952a48676ff33376660eafbc2191cccca4145bd047c72...</td>\n",
       "      <td>1384471483744</td>\n",
       "      <td>Y</td>\n",
       "      <td>Y</td>\n",
       "      <td>1606323709776</td>\n",
       "    </tr>\n",
       "    <tr>\n",
       "      <th>1</th>\n",
       "      <td>FTP_CSV_5_40156265</td>\n",
       "      <td>5c6dc8d42514365c108a0e6eba72f65e0b6bddc525c3c1...</td>\n",
       "      <td>0dda9d639e133fac81a8eb7017fcb67801e5acc7743909...</td>\n",
       "      <td>1466006759954</td>\n",
       "      <td>Y</td>\n",
       "      <td>Y</td>\n",
       "      <td>1606323709776</td>\n",
       "    </tr>\n",
       "    <tr>\n",
       "      <th>2</th>\n",
       "      <td>FTP_CSV_5_32885067</td>\n",
       "      <td>7bb2289522ce6a35324664fc6b7bd2fd525a423661ab32...</td>\n",
       "      <td>12001520f58ea43e48bb1d4f644549f0c4c03ff78b97ec...</td>\n",
       "      <td>1394984776969</td>\n",
       "      <td>Y</td>\n",
       "      <td>Y</td>\n",
       "      <td>1606323709776</td>\n",
       "    </tr>\n",
       "  </tbody>\n",
       "</table>\n",
       "</div>"
      ],
      "text/plain": [
       "  customersummary_mastercustomerid  \\\n",
       "0               FTP_CSV_6_31801866   \n",
       "1               FTP_CSV_5_40156265   \n",
       "2               FTP_CSV_5_32885067   \n",
       "\n",
       "                           customersummary_emailhash  \\\n",
       "0  1a52d53e9dcd9960f47c4c44d44c3ada825f503e3b36d6...   \n",
       "1  5c6dc8d42514365c108a0e6eba72f65e0b6bddc525c3c1...   \n",
       "2  7bb2289522ce6a35324664fc6b7bd2fd525a423661ab32...   \n",
       "\n",
       "                    customersummary_c_primaryscnhash  \\\n",
       "0  4952a48676ff33376660eafbc2191cccca4145bd047c72...   \n",
       "1  0dda9d639e133fac81a8eb7017fcb67801e5acc7743909...   \n",
       "2  12001520f58ea43e48bb1d4f644549f0c4c03ff78b97ec...   \n",
       "\n",
       "   customersummary_c_datecreated  \\\n",
       "0                  1384471483744   \n",
       "1                  1466006759954   \n",
       "2                  1394984776969   \n",
       "\n",
       "  customersummary_c_adsgroupmembershipsunsubscribed  \\\n",
       "0                                                 Y   \n",
       "1                                                 Y   \n",
       "2                                                 Y   \n",
       "\n",
       "  customersummary_c_promosgroupmembershipsunsubscribed   execution_id  \n",
       "0                                                  Y    1606323709776  \n",
       "1                                                  Y    1606323709776  \n",
       "2                                                  Y    1606323709776  "
      ]
     },
     "execution_count": 5,
     "metadata": {},
     "output_type": "execute_result"
    }
   ],
   "source": [
    "df.head(3)"
   ]
  },
  {
   "cell_type": "code",
   "execution_count": 6,
   "metadata": {},
   "outputs": [
    {
     "data": {
      "text/plain": [
       "6871466"
      ]
     },
     "execution_count": 6,
     "metadata": {},
     "output_type": "execute_result"
    }
   ],
   "source": [
    "df['customersummary_c_primaryscnhash'].nunique()"
   ]
  },
  {
   "cell_type": "code",
   "execution_count": null,
   "metadata": {},
   "outputs": [],
   "source": []
  }
 ],
 "metadata": {
  "kernelspec": {
   "display_name": "Python 3",
   "language": "python",
   "name": "python3"
  },
  "language_info": {
   "codemirror_mode": {
    "name": "ipython",
    "version": 3
   },
   "file_extension": ".py",
   "mimetype": "text/x-python",
   "name": "python",
   "nbconvert_exporter": "python",
   "pygments_lexer": "ipython3",
   "version": "3.7.6"
  }
 },
 "nbformat": 4,
 "nbformat_minor": 4
}
