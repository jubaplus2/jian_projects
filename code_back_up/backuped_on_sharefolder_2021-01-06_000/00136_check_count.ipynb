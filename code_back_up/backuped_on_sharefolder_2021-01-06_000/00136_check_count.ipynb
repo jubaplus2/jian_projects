{
 "cells": [
  {
   "cell_type": "code",
   "execution_count": 2,
   "metadata": {},
   "outputs": [],
   "source": [
    "import pandas as pd\n",
    "import os"
   ]
  },
  {
   "cell_type": "markdown",
   "metadata": {},
   "source": [
    "# LR PS only"
   ]
  },
  {
   "cell_type": "code",
   "execution_count": 3,
   "metadata": {},
   "outputs": [],
   "source": [
    "df=pd.read_csv(\"./uploaded_file_LR/BL_2020Q4_audience_Refreshable_JL_2020-12-10.csv\")"
   ]
  },
  {
   "cell_type": "code",
   "execution_count": 10,
   "metadata": {},
   "outputs": [
    {
     "data": {
      "text/plain": [
       "(25981262, 3)"
      ]
     },
     "execution_count": 10,
     "metadata": {},
     "output_type": "execute_result"
    }
   ],
   "source": [
    "df.shape"
   ]
  },
  {
   "cell_type": "code",
   "execution_count": 4,
   "metadata": {},
   "outputs": [
    {
     "data": {
      "text/html": [
       "<div>\n",
       "<style scoped>\n",
       "    .dataframe tbody tr th:only-of-type {\n",
       "        vertical-align: middle;\n",
       "    }\n",
       "\n",
       "    .dataframe tbody tr th {\n",
       "        vertical-align: top;\n",
       "    }\n",
       "\n",
       "    .dataframe thead th {\n",
       "        text-align: right;\n",
       "    }\n",
       "</style>\n",
       "<table border=\"1\" class=\"dataframe\">\n",
       "  <thead>\n",
       "    <tr style=\"text-align: right;\">\n",
       "      <th></th>\n",
       "      <th>customer_id_hashed</th>\n",
       "      <th>email_address_hash</th>\n",
       "      <th>updated_segment_2020Q4_Refresh</th>\n",
       "    </tr>\n",
       "  </thead>\n",
       "  <tbody>\n",
       "    <tr>\n",
       "      <th>0</th>\n",
       "      <td>84e657f1f656952fb9412a63022017769d59a70cc36883...</td>\n",
       "      <td>64048ee5fbef6db265cf2890276f25c71029da14e7749b...</td>\n",
       "      <td>Refreshable_LR_Rewards_T_SOTF_Active0X_H_PS</td>\n",
       "    </tr>\n",
       "    <tr>\n",
       "      <th>1</th>\n",
       "      <td>b78dccfd64ce659af7061c5743b6b9305814336bc9ddec...</td>\n",
       "      <td>4836bfc632a2a5987d47fa6bf0637c21c4466a0e99ddee...</td>\n",
       "      <td>Refreshable_LR_Rewards_T_Legacy_Active0X_H_PS</td>\n",
       "    </tr>\n",
       "  </tbody>\n",
       "</table>\n",
       "</div>"
      ],
      "text/plain": [
       "                                  customer_id_hashed  \\\n",
       "0  84e657f1f656952fb9412a63022017769d59a70cc36883...   \n",
       "1  b78dccfd64ce659af7061c5743b6b9305814336bc9ddec...   \n",
       "\n",
       "                                  email_address_hash  \\\n",
       "0  64048ee5fbef6db265cf2890276f25c71029da14e7749b...   \n",
       "1  4836bfc632a2a5987d47fa6bf0637c21c4466a0e99ddee...   \n",
       "\n",
       "                  updated_segment_2020Q4_Refresh  \n",
       "0    Refreshable_LR_Rewards_T_SOTF_Active0X_H_PS  \n",
       "1  Refreshable_LR_Rewards_T_Legacy_Active0X_H_PS  "
      ]
     },
     "execution_count": 4,
     "metadata": {},
     "output_type": "execute_result"
    }
   ],
   "source": [
    "df.head(2)"
   ]
  },
  {
   "cell_type": "code",
   "execution_count": 5,
   "metadata": {},
   "outputs": [
    {
     "data": {
      "text/plain": [
       "18"
      ]
     },
     "execution_count": 5,
     "metadata": {},
     "output_type": "execute_result"
    }
   ],
   "source": [
    "list_seg=df['updated_segment_2020Q4_Refresh'].unique().tolist()\n",
    "len(list_seg)"
   ]
  },
  {
   "cell_type": "code",
   "execution_count": 8,
   "metadata": {},
   "outputs": [
    {
     "data": {
      "text/plain": [
       "['Refreshable_LR_Rewards_T_SOTF_Active0X_H_PS',\n",
       " 'Refreshable_LR_Rewards_T_Legacy_Active0X_H_PS',\n",
       " 'Refreshable_LR_Rewards_T_Legacy_Active0X_M_PS',\n",
       " 'Refreshable_LR_Rewards_T_SOTF_Active0X_M_PS',\n",
       " 'Refreshable_LR_Rewards_T_SOTF_ActiveX12_M_PS',\n",
       " 'Refreshable_LR_Rewards_T_Legacy_ActiveX12_M_PS',\n",
       " 'Refreshable_LR_Rewards_T_SOTF_Active0X_L_PS',\n",
       " 'Refreshable_LR_Rewards_T_Legacy_Active0X_L_PS',\n",
       " 'Refreshable_LR_Rewards_T_Legacy_ActiveX12_L_PS',\n",
       " 'Refreshable_LR_Rewards_T_SOTF_ActiveX12_L_PS',\n",
       " 'Refreshable_LR_Rewards_T_Legacy_Lapsed1318_L_PS',\n",
       " 'Refreshable_LR_Rewards_T_SOTF_Lapsed1318_L_PS']"
      ]
     },
     "execution_count": 8,
     "metadata": {},
     "output_type": "execute_result"
    }
   ],
   "source": [
    "list_included_18=[x for x in list_seg if (\"0X\" in x) or (\"X12\" in x) or (\"1318\" in x)]\n",
    "list_included_18"
   ]
  },
  {
   "cell_type": "code",
   "execution_count": 9,
   "metadata": {},
   "outputs": [
    {
     "data": {
      "text/plain": [
       "(18649403, 3)"
      ]
     },
     "execution_count": 9,
     "metadata": {},
     "output_type": "execute_result"
    }
   ],
   "source": [
    "df_18=df[df['updated_segment_2020Q4_Refresh'].isin(list_included_18)]\n",
    "df_18.shape"
   ]
  },
  {
   "cell_type": "markdown",
   "metadata": {},
   "source": [
    "# FB PST"
   ]
  },
  {
   "cell_type": "code",
   "execution_count": 14,
   "metadata": {},
   "outputs": [
    {
     "data": {
      "text/plain": [
       "(22299295, 15)"
      ]
     },
     "execution_count": 14,
     "metadata": {},
     "output_type": "execute_result"
    }
   ],
   "source": [
    "df=pd.read_csv(\"/mnt/clients/juba/hqjubaapp02/sharefolder/Live_Ramp/Quarterly_Update_2020Q4/output_2020-12-10/dftotal_details_full.csv\")\n",
    "df.shape"
   ]
  },
  {
   "cell_type": "code",
   "execution_count": 16,
   "metadata": {},
   "outputs": [
    {
     "data": {
      "text/plain": [
       "('2020-12-05', '2019-06-09')"
      ]
     },
     "execution_count": 16,
     "metadata": {},
     "output_type": "execute_result"
    }
   ],
   "source": [
    "df['max_trans_date'].max(),df['max_trans_date'].min()\n",
    "# 18 months"
   ]
  },
  {
   "cell_type": "code",
   "execution_count": 15,
   "metadata": {},
   "outputs": [
    {
     "data": {
      "text/html": [
       "<div>\n",
       "<style scoped>\n",
       "    .dataframe tbody tr th:only-of-type {\n",
       "        vertical-align: middle;\n",
       "    }\n",
       "\n",
       "    .dataframe tbody tr th {\n",
       "        vertical-align: top;\n",
       "    }\n",
       "\n",
       "    .dataframe thead th {\n",
       "        text-align: right;\n",
       "    }\n",
       "</style>\n",
       "<table border=\"1\" class=\"dataframe\">\n",
       "  <thead>\n",
       "    <tr style=\"text-align: right;\">\n",
       "      <th></th>\n",
       "      <th>frmindex</th>\n",
       "      <th>customer_id_hashed</th>\n",
       "      <th>max_trans_date</th>\n",
       "      <th>sales</th>\n",
       "      <th>transactions</th>\n",
       "      <th>recency</th>\n",
       "      <th>RFM</th>\n",
       "      <th>email_address_hash</th>\n",
       "      <th>cleaned_zip_cd</th>\n",
       "      <th>closet_store</th>\n",
       "      <th>top_sales_store</th>\n",
       "      <th>allocated_store</th>\n",
       "      <th>Store_Type</th>\n",
       "      <th>zip_type</th>\n",
       "      <th>HML_Group</th>\n",
       "    </tr>\n",
       "  </thead>\n",
       "  <tbody>\n",
       "    <tr>\n",
       "      <th>0</th>\n",
       "      <td>D01</td>\n",
       "      <td>84e657f1f656952fb9412a63022017769d59a70cc36883...</td>\n",
       "      <td>2020-12-05</td>\n",
       "      <td>164871.63</td>\n",
       "      <td>7172</td>\n",
       "      <td>1.0</td>\n",
       "      <td>111.0</td>\n",
       "      <td>64048ee5fbef6db265cf2890276f25c71029da14e7749b...</td>\n",
       "      <td>14701.0</td>\n",
       "      <td>1018.0</td>\n",
       "      <td>1018</td>\n",
       "      <td>1018</td>\n",
       "      <td>SOTF</td>\n",
       "      <td>P</td>\n",
       "      <td>H</td>\n",
       "    </tr>\n",
       "    <tr>\n",
       "      <th>1</th>\n",
       "      <td>D01</td>\n",
       "      <td>b78dccfd64ce659af7061c5743b6b9305814336bc9ddec...</td>\n",
       "      <td>2020-12-03</td>\n",
       "      <td>117553.08</td>\n",
       "      <td>7086</td>\n",
       "      <td>1.0</td>\n",
       "      <td>111.0</td>\n",
       "      <td>4836bfc632a2a5987d47fa6bf0637c21c4466a0e99ddee...</td>\n",
       "      <td>28607.0</td>\n",
       "      <td>1684.0</td>\n",
       "      <td>1684</td>\n",
       "      <td>1684</td>\n",
       "      <td>Legacy</td>\n",
       "      <td>P</td>\n",
       "      <td>H</td>\n",
       "    </tr>\n",
       "  </tbody>\n",
       "</table>\n",
       "</div>"
      ],
      "text/plain": [
       "  frmindex                                 customer_id_hashed max_trans_date  \\\n",
       "0      D01  84e657f1f656952fb9412a63022017769d59a70cc36883...     2020-12-05   \n",
       "1      D01  b78dccfd64ce659af7061c5743b6b9305814336bc9ddec...     2020-12-03   \n",
       "\n",
       "       sales  transactions  recency    RFM  \\\n",
       "0  164871.63          7172      1.0  111.0   \n",
       "1  117553.08          7086      1.0  111.0   \n",
       "\n",
       "                                  email_address_hash  cleaned_zip_cd  \\\n",
       "0  64048ee5fbef6db265cf2890276f25c71029da14e7749b...         14701.0   \n",
       "1  4836bfc632a2a5987d47fa6bf0637c21c4466a0e99ddee...         28607.0   \n",
       "\n",
       "   closet_store  top_sales_store  allocated_store Store_Type zip_type  \\\n",
       "0        1018.0             1018             1018       SOTF        P   \n",
       "1        1684.0             1684             1684     Legacy        P   \n",
       "\n",
       "  HML_Group  \n",
       "0         H  \n",
       "1         H  "
      ]
     },
     "execution_count": 15,
     "metadata": {},
     "output_type": "execute_result"
    }
   ],
   "source": [
    "df.head(2)"
   ]
  }
 ],
 "metadata": {
  "kernelspec": {
   "display_name": "Python 3",
   "language": "python",
   "name": "python3"
  },
  "language_info": {
   "codemirror_mode": {
    "name": "ipython",
    "version": 3
   },
   "file_extension": ".py",
   "mimetype": "text/x-python",
   "name": "python",
   "nbconvert_exporter": "python",
   "pygments_lexer": "ipython3",
   "version": "3.7.6"
  }
 },
 "nbformat": 4,
 "nbformat_minor": 4
}
