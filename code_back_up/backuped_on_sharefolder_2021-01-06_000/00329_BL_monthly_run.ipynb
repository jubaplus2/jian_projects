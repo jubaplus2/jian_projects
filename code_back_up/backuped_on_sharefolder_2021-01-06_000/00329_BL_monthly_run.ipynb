{
 "cells": [
  {
   "cell_type": "code",
   "execution_count": 1,
   "metadata": {},
   "outputs": [
    {
     "name": "stdout",
     "output_type": "stream",
     "text": [
      "2020-11-26 15:15:59.011077\n"
     ]
    }
   ],
   "source": [
    "# copy files from 107 and update 2 SQL tables: CRM & POS\n",
    "\n",
    "import pandas as pd\n",
    "import numpy as np\n",
    "import datetime\n",
    "import paramiko\n",
    "import os\n",
    "import glob\n",
    "import logging\n",
    "\n",
    "logging.basicConfig(filename='/mnt/clients/juba/hqjubaapp02/sharefolder/Automation/BigLots_crontab_on_Merkle/weekly_files_copy_and_mysql_update.log',level=\"INFO\")\n",
    "\n",
    "def recursive_file_gen(root_path):\n",
    "    for root, dirs, files in os.walk(root_path):\n",
    "        for file in files:\n",
    "            yield os.path.join(root,file)\n",
    "\n",
    "\n",
    "print(datetime.datetime.now())"
   ]
  },
  {
   "cell_type": "code",
   "execution_count": 3,
   "metadata": {},
   "outputs": [],
   "source": [
    "def copy_file_to_local(pattern_unique,remote_mother_folder,remote_movein_folder,local_folder,sftp):\n",
    "    list_new_files=[x for x in sftp.listdir() if x[-4:]==\".txt\" or x[-4:]==\".csv\"]\n",
    "    list_files_fit_pattern=[x for x in list_new_files if pattern_unique in x]\n",
    "    if not list_files_fit_pattern:\n",
    "        raise ValueError(\"no table found with the pattern: %s\" %pattern_unique)\n",
    "    elif len(list_files_fit_pattern)>1:\n",
    "        raise ValueError(\"multiple tables found with the pattern: %s\" %pattern_unique)\n",
    "    else:\n",
    "        file_path_remote_received=remote_mother_folder+list_files_fit_pattern[0]\n",
    "        basename=os.path.basename(file_path_remote_received)\n",
    "        sftp.get(file_path_remote_received,local_folder+basename)\n",
    "        sftp.rename(file_path_remote_received, remote_movein_folder+basename)\n",
    "        print(\"File copied to hqjubaapp02 and moved into the subfoler: %s\"%basename)"
   ]
  },
  {
   "cell_type": "markdown",
   "metadata": {},
   "source": [
    "# Part 1: 107 biglots_data"
   ]
  },
  {
   "cell_type": "code",
   "execution_count": 2,
   "metadata": {},
   "outputs": [],
   "source": [
    "# 1. product taxonomy\n",
    "# 2. store list\n",
    "# 3. unsub "
   ]
  },
  {
   "cell_type": "code",
   "execution_count": 4,
   "metadata": {},
   "outputs": [],
   "source": [
    "# biglots_data: 1.store list; 2.prod_taxo\n",
    "\n",
    "remote_data_path_client=\"/mnt/drv5/biglots_data/\"\n",
    "\n",
    "host = \"107.191.32.220\" #hard-coded\n",
    "port = 22\n",
    "transport = paramiko.Transport((host, port))\n",
    "\n",
    "password = \"vgn5UucsUNHL4n9R\" #hard-coded\n",
    "username = \"biglots_data\" #hard-coded\n",
    "transport.connect(username = username, password = password)\n",
    "sftp = paramiko.SFTPClient.from_transport(transport)"
   ]
  },
  {
   "cell_type": "code",
   "execution_count": 5,
   "metadata": {},
   "outputs": [],
   "source": [
    "folder_move_in_remote_storelist=\"/mnt/drv5/biglots_data/Monthly_Store_List/\"\n",
    "folder_move_in_local_storelist=\"/mnt/clients/juba/hqjubaapp02/sharefolder/biglots_data/static_files/Store_list/\"\n",
    "\n",
    "folder_move_in_remote_product=\"/mnt/drv5/biglots_data/Monthly_Taxonomy/\"\n",
    "folder_move_in_local_product=\"/mnt/clients/juba/hqjubaapp02/sharefolder/biglots_data/static_files/ProductTaxonomy/\""
   ]
  },
  {
   "cell_type": "code",
   "execution_count": 6,
   "metadata": {},
   "outputs": [
    {
     "ename": "ValueError",
     "evalue": "not table found with the pattern: MediaStormStores",
     "output_type": "error",
     "traceback": [
      "\u001b[0;31m---------------------------------------------------------------------------\u001b[0m",
      "\u001b[0;31mValueError\u001b[0m                                Traceback (most recent call last)",
      "\u001b[0;32m<ipython-input-6-f5a2d598f97d>\u001b[0m in \u001b[0;36m<module>\u001b[0;34m\u001b[0m\n\u001b[1;32m      5\u001b[0m     \u001b[0mremote_mother_folder\u001b[0m\u001b[0;34m=\u001b[0m\u001b[0mremote_data_path_client\u001b[0m\u001b[0;34m,\u001b[0m\u001b[0;34m\u001b[0m\u001b[0;34m\u001b[0m\u001b[0m\n\u001b[1;32m      6\u001b[0m     \u001b[0mlocal_folder\u001b[0m\u001b[0;34m=\u001b[0m\u001b[0mfolder_move_in_local_storelist\u001b[0m\u001b[0;34m,\u001b[0m\u001b[0;34m\u001b[0m\u001b[0;34m\u001b[0m\u001b[0m\n\u001b[0;32m----> 7\u001b[0;31m     \u001b[0msftp\u001b[0m\u001b[0;34m=\u001b[0m\u001b[0msftp\u001b[0m\u001b[0;34m\u001b[0m\u001b[0;34m\u001b[0m\u001b[0m\n\u001b[0m\u001b[1;32m      8\u001b[0m )\n\u001b[1;32m      9\u001b[0m \u001b[0;34m\u001b[0m\u001b[0m\n",
      "\u001b[0;32m<ipython-input-3-6d41dc027b7d>\u001b[0m in \u001b[0;36mcopy_file_to_local\u001b[0;34m(pattern_unique, remote_mother_folder, remote_movein_folder, local_folder, sftp)\u001b[0m\n\u001b[1;32m      3\u001b[0m     \u001b[0mlist_files_fit_pattern\u001b[0m\u001b[0;34m=\u001b[0m\u001b[0;34m[\u001b[0m\u001b[0mx\u001b[0m \u001b[0;32mfor\u001b[0m \u001b[0mx\u001b[0m \u001b[0;32min\u001b[0m \u001b[0mlist_new_files\u001b[0m \u001b[0;32mif\u001b[0m \u001b[0mpattern_unique\u001b[0m \u001b[0;32min\u001b[0m \u001b[0mx\u001b[0m\u001b[0;34m]\u001b[0m\u001b[0;34m\u001b[0m\u001b[0;34m\u001b[0m\u001b[0m\n\u001b[1;32m      4\u001b[0m     \u001b[0;32mif\u001b[0m \u001b[0;32mnot\u001b[0m \u001b[0mlist_files_fit_pattern\u001b[0m\u001b[0;34m:\u001b[0m\u001b[0;34m\u001b[0m\u001b[0;34m\u001b[0m\u001b[0m\n\u001b[0;32m----> 5\u001b[0;31m         \u001b[0;32mraise\u001b[0m \u001b[0mValueError\u001b[0m\u001b[0;34m(\u001b[0m\u001b[0;34m\"not table found with the pattern: %s\"\u001b[0m \u001b[0;34m%\u001b[0m\u001b[0mpattern_unique\u001b[0m\u001b[0;34m)\u001b[0m\u001b[0;34m\u001b[0m\u001b[0;34m\u001b[0m\u001b[0m\n\u001b[0m\u001b[1;32m      6\u001b[0m     \u001b[0;32melif\u001b[0m \u001b[0mlen\u001b[0m\u001b[0;34m(\u001b[0m\u001b[0mlist_files_fit_pattern\u001b[0m\u001b[0;34m)\u001b[0m\u001b[0;34m>\u001b[0m\u001b[0;36m1\u001b[0m\u001b[0;34m:\u001b[0m\u001b[0;34m\u001b[0m\u001b[0;34m\u001b[0m\u001b[0m\n\u001b[1;32m      7\u001b[0m         \u001b[0;32mraise\u001b[0m \u001b[0mValueError\u001b[0m\u001b[0;34m(\u001b[0m\u001b[0;34m\"multiple tables found with the pattern: %s\"\u001b[0m \u001b[0;34m%\u001b[0m\u001b[0mpattern_unique\u001b[0m\u001b[0;34m)\u001b[0m\u001b[0;34m\u001b[0m\u001b[0;34m\u001b[0m\u001b[0m\n",
      "\u001b[0;31mValueError\u001b[0m: not table found with the pattern: MediaStormStores"
     ]
    }
   ],
   "source": [
    "# store list\n",
    "copy_file_to_local(\n",
    "    pattern_unique=\"MediaStormStores\",\n",
    "    remote_movein_folder=folder_move_in_remote_storelist,\n",
    "    remote_mother_folder=remote_data_path_client,\n",
    "    local_folder=folder_move_in_local_storelist,\n",
    "    sftp=sftp\n",
    ")\n",
    "    \n",
    "    \n",
    "# Product taxonomy\n",
    "copy_file_to_local(\n",
    "    pattern_unique=\"MediaStormProductTaxonomy\",\n",
    "    remote_movein_folder=folder_move_in_remote_product,\n",
    "    remote_mother_folder=remote_data_path_client,\n",
    "    local_folder=folder_move_in_local_product,\n",
    "    sftp=sftp\n",
    ")"
   ]
  },
  {
   "cell_type": "markdown",
   "metadata": {},
   "source": [
    "# Part 2: 107 agilone"
   ]
  },
  {
   "cell_type": "code",
   "execution_count": 7,
   "metadata": {},
   "outputs": [],
   "source": [
    "# agilone: 1.email sub delta; 2.email unsub refresh\n",
    "\n",
    "remote_agile_one=\"/home/agilone/\"\n",
    "\n",
    "host = \"107.191.32.220\" #hard-coded\n",
    "port = 22\n",
    "transport = paramiko.Transport((host, port))\n",
    "\n",
    "password = \"Tur87ZqzF9xV5mYF\" #hard-coded\n",
    "username = \"agilone\" #hard-coded\n",
    "transport.connect(username = username, password = password)\n",
    "sftp = paramiko.SFTPClient.from_transport(transport)"
   ]
  },
  {
   "cell_type": "code",
   "execution_count": 8,
   "metadata": {},
   "outputs": [],
   "source": [
    "folder_move_in_remote_subscribers=\"/home/agilone/\"\n",
    "folder_movliste_in_local_subscribers=\"/mnt/clients/juba/hqjubaapp02/sharefolder/biglots_data/Email_Subscription_Files/subscribers/\"\n",
    "\n",
    "folder_move_in_remote_Unsub=\"/home/agilone/\"\n",
    "folder_move_in_local_Unsub=\"/mnt/clients/juba/hqjubaapp02/sharefolder/biglots_data/Email_Subscription_Files/Unsubs/\""
   ]
  },
  {
   "cell_type": "code",
   "execution_count": 10,
   "metadata": {},
   "outputs": [],
   "source": [
    "# Subscribters delta\n",
    "for i in range(13):\n",
    "    pattern=\"BL_Email_Subscriber_File_Delta__20\"\n",
    "    try:\n",
    "        copy_file_to_local(\n",
    "            pattern_unique=pattern,\n",
    "            remote_movein_folder=folder_move_in_remote_subscribers,\n",
    "            remote_mother_folder=remote_agile_one,\n",
    "            local_folder=folder_movliste_in_local_subscribers,\n",
    "            sftp=sftp\n",
    "        )\n",
    "    except:\n",
    "        pass"
   ]
  },
  {
   "cell_type": "code",
   "execution_count": null,
   "metadata": {},
   "outputs": [],
   "source": []
  }
 ],
 "metadata": {
  "kernelspec": {
   "display_name": "Python 3",
   "language": "python",
   "name": "python3"
  },
  "language_info": {
   "codemirror_mode": {
    "name": "ipython",
    "version": 3
   },
   "file_extension": ".py",
   "mimetype": "text/x-python",
   "name": "python",
   "nbconvert_exporter": "python",
   "pygments_lexer": "ipython3",
   "version": "3.7.6"
  }
 },
 "nbformat": 4,
 "nbformat_minor": 4
}
