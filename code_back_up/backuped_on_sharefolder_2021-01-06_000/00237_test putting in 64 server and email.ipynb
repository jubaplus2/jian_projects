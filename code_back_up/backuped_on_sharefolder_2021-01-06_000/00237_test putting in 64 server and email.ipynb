{
 "cells": [
  {
   "cell_type": "code",
   "execution_count": 1,
   "metadata": {
    "collapsed": true
   },
   "outputs": [],
   "source": [
    "import smtplib\n",
    "import paramiko\n",
    "import datetime\n",
    "import glob"
   ]
  },
  {
   "cell_type": "code",
   "execution_count": 2,
   "metadata": {
    "collapsed": true
   },
   "outputs": [],
   "source": [
    "bi_weekly_data=[]"
   ]
  },
  {
   "cell_type": "code",
   "execution_count": 6,
   "metadata": {},
   "outputs": [
    {
     "name": "stdout",
     "output_type": "stream",
     "text": [
      "Successfully sent email\n"
     ]
    }
   ],
   "source": [
    "if len(bi_weekly_data)==0:\n",
    "    message = \"\"\"From: Jian Liang <jliangmkt@gmail.com>\n",
    "To: Jian <jian@jubaplus.com>\n",
    "MIME-Version: 1.0\n",
    "Content-type: text\n",
    "Subject: No Bi-weekly Big Lots data this week\n",
    "\n",
    "Hi Spencer,\n",
    "\n",
    "There is no bi-weekly Big Lots CRM data this week.\n",
    "\n",
    "Thanks,\n",
    "Jian\n",
    "    \"\"\"\n",
    "\n",
    "else:\n",
    "\n",
    "    message = \"\"\"From: Jian Liang <jliangmkt@gmail.com>\n",
    "To: Jian <jian@jubaplus.com>\n",
    "MIME-Version: 1.0\n",
    "Content-type: text\n",
    "Subject: Bi-weekly Big Lots data transfered\n",
    "\n",
    "Hi Spencer,\n",
    "\n",
    "The bi-weekly Big Lots CRM data is uploaded to your folder.\n",
    "\n",
    "Thanks,\n",
    "Jian\n",
    "    \"\"\"\n",
    "\n",
    "\n",
    "smtpObj = smtplib.SMTP('smtp.gmail.com',587)\n",
    "smtpObj.ehlo()\n",
    "smtpObj.starttls()\n",
    "smtpObj.login('jliangmkt@gmail.com','jlj198256')\n",
    "\n",
    "\n",
    "sender=\"jliangmkt@gmail.com\"\n",
    "receivers=['jian@jubaplus.com']\n",
    "try:\n",
    "   smtpObj.sendmail(sender, receivers, message)         \n",
    "   print(\"Successfully sent email\")\n",
    "except:\n",
    "   print(\"Error: unable to send email\")"
   ]
  },
  {
   "cell_type": "code",
   "execution_count": null,
   "metadata": {
    "collapsed": true
   },
   "outputs": [],
   "source": []
  },
  {
   "cell_type": "code",
   "execution_count": null,
   "metadata": {
    "collapsed": true
   },
   "outputs": [],
   "source": []
  },
  {
   "cell_type": "code",
   "execution_count": null,
   "metadata": {
    "collapsed": true
   },
   "outputs": [],
   "source": []
  },
  {
   "cell_type": "code",
   "execution_count": null,
   "metadata": {
    "collapsed": true
   },
   "outputs": [],
   "source": []
  },
  {
   "cell_type": "code",
   "execution_count": null,
   "metadata": {
    "collapsed": true
   },
   "outputs": [],
   "source": []
  },
  {
   "cell_type": "code",
   "execution_count": 17,
   "metadata": {
    "collapsed": true
   },
   "outputs": [],
   "source": []
  },
  {
   "cell_type": "code",
   "execution_count": 3,
   "metadata": {},
   "outputs": [
    {
     "data": {
      "text/plain": [
       "<SFTPAttributes: [ size=114710676 uid=518 gid=520 mode=0o100644 atime=1540908717 mtime=1540908727 ]>"
      ]
     },
     "execution_count": 3,
     "metadata": {},
     "output_type": "execute_result"
    }
   ],
   "source": [
    "host = \"64.237.51.251\" #hard-coded\n",
    "port = 22\n",
    "transport = paramiko.Transport((host, port))\n",
    "\n",
    "password = \"jian@juba2017\" #hard-coded\n",
    "username = \"jian\" #hard-coded\n",
    "transport.connect(username = username, password = password)\n",
    "sftp = paramiko.SFTPClient.from_transport(transport)\n",
    "\n",
    "today_str_for_SP=datetime.datetime.now().date()-datetime.timedelta(days=datetime.datetime.now().date().weekday()-1+3)\n",
    "today_str_for_SP=str(today_str_for_SP.year)+\"_\"+str(today_str_for_SP.month)+\"_\"+str(today_str_for_SP.day-3)\n",
    "remote_new_folder=\"/home/nielsen/Spencer/BigLotsCRM/inputdata/MediaStorm_\"+today_str_for_SP+\"/\"\n",
    "\n",
    "try:\n",
    "    sftp.chdir(remote_new_folder)  # Test if remote_path exists\n",
    "except IOError:\n",
    "    sftp.mkdir(remote_new_folder)  # Create remote_path\n",
    "    sftp.chdir(remote_new_folder)\n",
    "\n",
    "\n",
    "thisweeksdate=str(datetime.datetime.now().date()-datetime.timedelta(days=datetime.datetime.now().date().weekday()-1+3))\n",
    "localpath=\"/home/jian/BigLots/MediaStorm_\"+thisweeksdate+\"/\"\n",
    "bi_weekly_data=glob.glob(localpath+\"*.txt\")\n",
    "bi_weekly_data=[x for x in bi_weekly_data if \"BiWeekly\" in x]\n",
    "\n",
    "if len(bi_weekly_data)==0:\n",
    "    message = \"\"\"From: Jian Liang <jliangmkt@gmail.com>\n",
    "    To: Jian <jian@jubaplus.com>, Spencer Zhao <spencer@jubaplus.com>\n",
    "    MIME-Version: 1.0\n",
    "    Content-type: text\n",
    "    Subject: No Bi-weekly Big Lots data this week\n",
    "\n",
    "    Hi Spencer,\n",
    "    \n",
    "    There is no bi-weekly Big Lots CRM data this week.\n",
    "\n",
    "    Thanks,\n",
    "    Jian\n",
    "    \"\"\"\n",
    "    \n",
    "else:\n",
    "    message = \"\"\"From: Jian Liang <jliangmkt@gmail.com>\n",
    "    To: Jian <jian@jubaplus.com>\n",
    "    MIME-Version: 1.0\n",
    "    Content-type: text\n",
    "    Subject: Bi-weekly Big Lots data transfered\n",
    "\n",
    "    Hi Spencer,\n",
    "    \n",
    "    The bi-weekly Big Lots CRM data is uploaded to your folder.\n",
    "\n",
    "    Thanks,\n",
    "    Jian\n",
    "    \"\"\"\n",
    "    for bi_weekly_file in bi_weekly_data:\n",
    "        sftp.put(bi_weekly_file,remote_new_folder+bi_weekly_file.split(\"/\")[len(bi_weekly_file.split(\"/\"))-1])\n",
    "\n",
    "sftp.close()"
   ]
  },
  {
   "cell_type": "code",
   "execution_count": 25,
   "metadata": {},
   "outputs": [
    {
     "name": "stdout",
     "output_type": "stream",
     "text": [
      "Successfully sent email\n"
     ]
    }
   ],
   "source": [
    "import smtplib\n",
    "\n",
    "smtpObj = smtplib.SMTP('smtp.gmail.com',587)\n",
    "smtpObj.ehlo()\n",
    "smtpObj.starttls()\n",
    "smtpObj.login('jliangmkt@gmail.com','jlj198256')\n",
    "\n",
    "\n",
    "sender=\"jliangmkt@gmail.com\"\n",
    "receivers=['jian@jubaplus.com','jliangchem@gmail.com']\n",
    "try:\n",
    "   smtpObj.sendmail(sender, receivers, message)         \n",
    "   print(\"Successfully sent email\")\n",
    "except:\n",
    "   print(\"Error: unable to send email\")"
   ]
  },
  {
   "cell_type": "code",
   "execution_count": 33,
   "metadata": {},
   "outputs": [
    {
     "data": {
      "text/plain": [
       "'/home/nielsen/Spencer/BigLotsCRM/inputdata/MediaStorm_2018_10_27/MediaStormSalesBiWeekly20181023-132316-829.txt'"
      ]
     },
     "execution_count": 33,
     "metadata": {},
     "output_type": "execute_result"
    }
   ],
   "source": [
    "Saturday_str_for_SP=datetime.datetime.now().date()-datetime.timedelta(days=datetime.datetime.now().date().weekday()-1+3)\n",
    "Saturday_str_for_SP=str(Saturday_str_for_SP.year)+\"_\"+str(Saturday_str_for_SP.month)+\"_\"+str(Saturday_str_for_SP.day)\n",
    "remote_new_folder=\"/home/nielsen/Spencer/BigLotsCRM/inputdata/MediaStorm_\"+Saturday_str_for_SP+\"/\"\n",
    "        \n",
    "remote_new_folder+bi_weekly_file.split(\"/\")[len(bi_weekly_file.split(\"/\"))-1]"
   ]
  },
  {
   "cell_type": "code",
   "execution_count": 32,
   "metadata": {},
   "outputs": [
    {
     "data": {
      "text/plain": [
       "'/home/nielsen/Spencer/BigLotsCRM/inputdata/test_folder/'"
      ]
     },
     "execution_count": 32,
     "metadata": {},
     "output_type": "execute_result"
    }
   ],
   "source": [
    "remote_new_folder"
   ]
  },
  {
   "cell_type": "code",
   "execution_count": 36,
   "metadata": {
    "collapsed": true
   },
   "outputs": [],
   "source": [
    "thisweeksdate=str(datetime.datetime.now().date()-datetime.timedelta(days=datetime.datetime.now().date().weekday()-1+3))\n",
    "localpath=\"/home/jian/BigLots/MediaStorm_\"+thisweeksdate+\"/\"\n",
    "bi_weekly_data=glob.glob(localpath+\"*.txt\")\n",
    "bi_weekly_data=[x for x in bi_weekly_data if \"BiWeekly\" in x]"
   ]
  },
  {
   "cell_type": "code",
   "execution_count": 38,
   "metadata": {},
   "outputs": [
    {
     "data": {
      "text/plain": [
       "'/home/jian/BigLots/MediaStorm_2018-10-27/'"
      ]
     },
     "execution_count": 38,
     "metadata": {},
     "output_type": "execute_result"
    }
   ],
   "source": [
    "localpath"
   ]
  },
  {
   "cell_type": "code",
   "execution_count": null,
   "metadata": {
    "collapsed": true
   },
   "outputs": [],
   "source": []
  }
 ],
 "metadata": {
  "kernelspec": {
   "display_name": "Python 3",
   "language": "python",
   "name": "python3"
  },
  "language_info": {
   "codemirror_mode": {
    "name": "ipython",
    "version": 3
   },
   "file_extension": ".py",
   "mimetype": "text/x-python",
   "name": "python",
   "nbconvert_exporter": "python",
   "pygments_lexer": "ipython3",
   "version": "3.6.1"
  }
 },
 "nbformat": 4,
 "nbformat_minor": 2
}
