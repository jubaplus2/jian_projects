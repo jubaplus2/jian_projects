{
 "cells": [
  {
   "cell_type": "code",
   "execution_count": 19,
   "metadata": {},
   "outputs": [
    {
     "data": {
      "text/plain": [
       "'/home/jian/Projects/Big_Lots/Live_Ramp/Quarterly_Update_2019Q4'"
      ]
     },
     "execution_count": 19,
     "metadata": {},
     "output_type": "execute_result"
    }
   ],
   "source": [
    "# Keep columns: hashed_id, hashed_email, zip_code\n",
    "\n",
    "import pandas as pd\n",
    "import numpy as np\n",
    "import datetime\n",
    "import os\n",
    "import glob\n",
    "import gc\n",
    "import json\n",
    "from haversine import haversine\n",
    "\n",
    "os.getcwd()"
   ]
  },
  {
   "cell_type": "code",
   "execution_count": 21,
   "metadata": {
    "collapsed": true
   },
   "outputs": [],
   "source": [
    "samplerows=None\n",
    "zip_centers=json.load(open(\"/home/jian/Docs/Geo_mapping/updated_zip_centers_JL_2019-05-23.json\",\"r\"))"
   ]
  },
  {
   "cell_type": "code",
   "execution_count": 3,
   "metadata": {
    "collapsed": true
   },
   "outputs": [],
   "source": [
    "dfiddetail=pd.read_csv('/home/jian/Projects/Big_Lots/Loyal_members/loyalty_register_data/combined_masterids_up_to_20181229_JL.csv',nrows=samplerows)\n",
    "dfiddetail=dfiddetail.drop_duplicates('customer_id_hashed')\n",
    "###\n",
    "master_file_2018Q1_2019Q1=pd.read_table(\"/home/jian/BigLots/New_Sing_Ups_2018_Fiscal_Year/All Rewards Members 2018-02-04 - 2019-05-04.zip\",\n",
    "                                             compression=\"zip\",dtype=str,sep=\"|\",usecols=['customer_id_hashed','email_address_hash','customer_zip_code'])\n",
    "dfiddetail=master_file_2018Q1_2019Q1.append(dfiddetail).drop_duplicates(\"customer_id_hashed\")\n",
    "del master_file_2018Q1_2019Q1\n",
    "###\n",
    "master_file_gap=pd.read_table(\"/home/jian/BigLots/New_Sing_Ups_2018_Fiscal_Year/MediaStorm Rewards Master P4 2019 - no transaction info.zip\",\n",
    "                                             compression=\"zip\",dtype=str,sep=\"|\",usecols=['customer_id_hashed','email_address_hash','customer_zip_code'])\n",
    "dfiddetail=master_file_gap.append(dfiddetail).drop_duplicates(\"customer_id_hashed\")\n",
    "del master_file_gap\n",
    "###\n",
    "\n"
   ]
  },
  {
   "cell_type": "code",
   "execution_count": 4,
   "metadata": {},
   "outputs": [
    {
     "name": "stdout",
     "output_type": "stream",
     "text": [
      "dfiddetail.shape (29802865, 3)\n"
     ]
    }
   ],
   "source": [
    "def recursive_file_gen(root_folder):\n",
    "    for root, dirs, files in os.walk(root_folder):\n",
    "        for file in files:\n",
    "            yield os.path.join(root, file)\n",
    "\n",
    "all_master_files_after_201905=list(recursive_file_gen(\"/home/jian/BigLots/2019_by_weeks/\"))\n",
    "all_master_files_after_201905=[x for x in all_master_files_after_201905 if (\"aster\" in x) & (\".txt\" in x)]\n",
    "all_master_files_after_201905=[x for x in all_master_files_after_201905 if x.split(\"ts/2019_by_weeks/MediaStorm_\")[1][:10]>\"2019-05-01\"]\n",
    "all_master_files_after_201905.reverse()\n",
    "df_master_all_later_after_201905=pd.DataFrame()\n",
    "for file in all_master_files_after_201905:\n",
    "    df=pd.read_table(file,dtype=str,sep=\"|\",usecols=['customer_id_hashed','email_address_hash','customer_zip_code'])\n",
    "    df_master_all_later_after_201905=df_master_all_later_after_201905.append(df)\n",
    "\n",
    "dfiddetail=df_master_all_later_after_201905.append(dfiddetail).drop_duplicates(\"customer_id_hashed\")\n",
    "del df_master_all_later_after_201905\n",
    "\n",
    "#dropped id duplicated\n",
    "###\n",
    "gc.collect()\n",
    "print(\"dfiddetail.shape\",dfiddetail.shape)"
   ]
  },
  {
   "cell_type": "code",
   "execution_count": 5,
   "metadata": {},
   "outputs": [
    {
     "data": {
      "text/plain": [
       "14"
      ]
     },
     "execution_count": 5,
     "metadata": {},
     "output_type": "execute_result"
    }
   ],
   "source": [
    "dfiddetail2 = pd.read_csv('/home/jian/Projects/Big_Lots/Loyal_members/loyalty_register_data/MediaStorm_Lapsed_Reward_Member_Master_from2014-08-26to2017-02-26.zip',\n",
    "                     nrows = samplerows,dtype = 'str',sep = '|',\n",
    "                       usecols = ['customer_id_hashed','email_address_hash','customer_zip_code'])\n",
    "\n",
    "dfiddetail = dfiddetail.append(dfiddetail2,ignore_index = True)\n",
    "dfiddetail = dfiddetail.drop_duplicates('customer_id_hashed')\n",
    "del dfiddetail2\n",
    "gc.collect()"
   ]
  },
  {
   "cell_type": "code",
   "execution_count": 8,
   "metadata": {},
   "outputs": [
    {
     "data": {
      "text/html": [
       "<div>\n",
       "<style>\n",
       "    .dataframe thead tr:only-child th {\n",
       "        text-align: right;\n",
       "    }\n",
       "\n",
       "    .dataframe thead th {\n",
       "        text-align: left;\n",
       "    }\n",
       "\n",
       "    .dataframe tbody tr th {\n",
       "        vertical-align: top;\n",
       "    }\n",
       "</style>\n",
       "<table border=\"1\" class=\"dataframe\">\n",
       "  <thead>\n",
       "    <tr style=\"text-align: right;\">\n",
       "      <th></th>\n",
       "      <th>customer_id_hashed</th>\n",
       "      <th>email_address_hash</th>\n",
       "      <th>customer_zip_code</th>\n",
       "    </tr>\n",
       "  </thead>\n",
       "  <tbody>\n",
       "    <tr>\n",
       "      <th>0</th>\n",
       "      <td>5ef4d1f4d0bc545e81340e8ad58db181e904392172c05d...</td>\n",
       "      <td>4979adf6b28136f0f0e7fd092b7f20712fe93fe8b21516...</td>\n",
       "      <td>NaN</td>\n",
       "    </tr>\n",
       "    <tr>\n",
       "      <th>1</th>\n",
       "      <td>9c95a62baf8dcc9c33b117853d30cdd516e219c34eeb6f...</td>\n",
       "      <td>8da7290d6a194661c5af68946ff9ff95ec310dabcb9569...</td>\n",
       "      <td>NaN</td>\n",
       "    </tr>\n",
       "  </tbody>\n",
       "</table>\n",
       "</div>"
      ],
      "text/plain": [
       "                                  customer_id_hashed  \\\n",
       "0  5ef4d1f4d0bc545e81340e8ad58db181e904392172c05d...   \n",
       "1  9c95a62baf8dcc9c33b117853d30cdd516e219c34eeb6f...   \n",
       "\n",
       "                                  email_address_hash customer_zip_code  \n",
       "0  4979adf6b28136f0f0e7fd092b7f20712fe93fe8b21516...               NaN  \n",
       "1  8da7290d6a194661c5af68946ff9ff95ec310dabcb9569...               NaN  "
      ]
     },
     "execution_count": 8,
     "metadata": {},
     "output_type": "execute_result"
    }
   ],
   "source": [
    "dfiddetail.head(2)"
   ]
  },
  {
   "cell_type": "code",
   "execution_count": 11,
   "metadata": {},
   "outputs": [
    {
     "data": {
      "text/plain": [
       "'/home/jian/BigLots/2019_by_weeks/MediaStorm_2019-10-12/MediaStormMasterWeekly20191015-111356-088.txt'"
      ]
     },
     "execution_count": 11,
     "metadata": {},
     "output_type": "execute_result"
    }
   ],
   "source": [
    "all_master_files_after_201905[0]"
   ]
  },
  {
   "cell_type": "code",
   "execution_count": 12,
   "metadata": {
    "collapsed": true
   },
   "outputs": [],
   "source": [
    "# dfiddetail.to_csv(\"./BL_all_master_id_email_zip_upto_20191012_JL_\"+str(datetime.datetime.now().date()),index=False)"
   ]
  },
  {
   "cell_type": "code",
   "execution_count": 13,
   "metadata": {
    "collapsed": true
   },
   "outputs": [],
   "source": [
    "#dropped both email & id duplicated\n"
   ]
  },
  {
   "cell_type": "code",
   "execution_count": 23,
   "metadata": {
    "collapsed": true
   },
   "outputs": [],
   "source": [
    "dfiddetail['customer_zip_code']=dfiddetail['customer_zip_code'].fillna(\"nan\")\n",
    "dfiddetail['cleaned_zip_cd']=dfiddetail['customer_zip_code'].apply(lambda x: x.split(\"-\")[0].split(\" \")[0].zfill(5)[:5])"
   ]
  },
  {
   "cell_type": "code",
   "execution_count": 63,
   "metadata": {},
   "outputs": [
    {
     "name": "stdout",
     "output_type": "stream",
     "text": [
      "(30732606, 4)\n"
     ]
    }
   ],
   "source": [
    "print(dfiddetail.shape)"
   ]
  },
  {
   "cell_type": "markdown",
   "metadata": {},
   "source": [
    "# Closest_Store"
   ]
  },
  {
   "cell_type": "code",
   "execution_count": 46,
   "metadata": {
    "collapsed": true
   },
   "outputs": [],
   "source": [
    "store_list=pd.read_table(\"/home/jian/BigLots/static_files/Store_list/MediaStormStores20191001-134050-499.txt\",dtype=str,sep=\"|\")\n",
    "store_list=store_list[store_list['location_id']!=\"6990\"]\n",
    "store_list=store_list[store_list['location_id']!=\"145\"]\n",
    "store_list=store_list[['location_id','latitude_meas','longitude_meas']]\n",
    "\n",
    "store_list['latitude_meas']=store_list['latitude_meas'].astype(float)\n",
    "store_list['longitude_meas']=store_list['longitude_meas'].astype(float)\n"
   ]
  },
  {
   "cell_type": "code",
   "execution_count": 47,
   "metadata": {
    "collapsed": true
   },
   "outputs": [],
   "source": [
    "dict_store_list=store_list.copy()\n",
    "dict_store_list['lat_lng']=dict_store_list[['latitude_meas','longitude_meas']].values.tolist()\n",
    "dict_store_list=dict_store_list.set_index(\"location_id\").to_dict()[\"lat_lng\"]"
   ]
  },
  {
   "cell_type": "code",
   "execution_count": 25,
   "metadata": {},
   "outputs": [
    {
     "name": "stdout",
     "output_type": "stream",
     "text": [
      "(69013, 1)\n"
     ]
    }
   ],
   "source": [
    "dfiddetail_unique_zips=dfiddetail[['cleaned_zip_cd']].drop_duplicates()\n",
    "dfiddetail_unique_zips=dfiddetail_unique_zips[pd.notnull(dfiddetail_unique_zips['cleaned_zip_cd'])]\n",
    "dfiddetail_unique_zips=dfiddetail_unique_zips[dfiddetail_unique_zips['cleaned_zip_cd']!=\"00nan\"]\n",
    "\n",
    "print(dfiddetail_unique_zips.shape)"
   ]
  },
  {
   "cell_type": "code",
   "execution_count": 26,
   "metadata": {},
   "outputs": [
    {
     "data": {
      "text/plain": [
       "array([5])"
      ]
     },
     "execution_count": 26,
     "metadata": {},
     "output_type": "execute_result"
    }
   ],
   "source": [
    "dfiddetail_unique_zips['cleaned_zip_cd'].apply(len).unique()"
   ]
  },
  {
   "cell_type": "code",
   "execution_count": 60,
   "metadata": {
    "collapsed": true
   },
   "outputs": [],
   "source": [
    "def find_the_closest_store(x_zip_cd):\n",
    "    dist_min=999999999\n",
    "    if x_zip_cd not in zip_centers.keys():\n",
    "        return np.nan,np.nan\n",
    "    else:\n",
    "        zip_center=zip_centers[x_zip_cd]\n",
    "        for location_id,store_center in dict_store_list.items():\n",
    "            dist=haversine(zip_center,store_center,unit=\"mi\")\n",
    "            if dist<dist_min:\n",
    "                dist_min=dist\n",
    "                closet_store=location_id\n",
    "    return closet_store,dist_min\n",
    "                "
   ]
  },
  {
   "cell_type": "code",
   "execution_count": 61,
   "metadata": {
    "collapsed": true
   },
   "outputs": [],
   "source": [
    "dfiddetail_unique_zips['closest_store']=dfiddetail_unique_zips['cleaned_zip_cd'].apply(lambda x: find_the_closest_store(x)[0])\n",
    "dfiddetail_unique_zips['closest_distance']=dfiddetail_unique_zips['cleaned_zip_cd'].apply(lambda x: find_the_closest_store(x)[1])\n",
    "\n"
   ]
  },
  {
   "cell_type": "code",
   "execution_count": 64,
   "metadata": {},
   "outputs": [
    {
     "data": {
      "text/plain": [
       "(30732606, 6)"
      ]
     },
     "execution_count": 64,
     "metadata": {},
     "output_type": "execute_result"
    }
   ],
   "source": [
    "dfiddetail=pd.merge(dfiddetail,dfiddetail_unique_zips,on=\"cleaned_zip_cd\",how=\"left\")\n",
    "dfiddetail.shape"
   ]
  },
  {
   "cell_type": "code",
   "execution_count": 65,
   "metadata": {},
   "outputs": [
    {
     "data": {
      "text/html": [
       "<div>\n",
       "<style>\n",
       "    .dataframe thead tr:only-child th {\n",
       "        text-align: right;\n",
       "    }\n",
       "\n",
       "    .dataframe thead th {\n",
       "        text-align: left;\n",
       "    }\n",
       "\n",
       "    .dataframe tbody tr th {\n",
       "        vertical-align: top;\n",
       "    }\n",
       "</style>\n",
       "<table border=\"1\" class=\"dataframe\">\n",
       "  <thead>\n",
       "    <tr style=\"text-align: right;\">\n",
       "      <th></th>\n",
       "      <th>customer_id_hashed</th>\n",
       "      <th>email_address_hash</th>\n",
       "      <th>customer_zip_code</th>\n",
       "      <th>cleaned_zip_cd</th>\n",
       "      <th>closest_store</th>\n",
       "      <th>closest_distance</th>\n",
       "    </tr>\n",
       "  </thead>\n",
       "  <tbody>\n",
       "    <tr>\n",
       "      <th>0</th>\n",
       "      <td>5ef4d1f4d0bc545e81340e8ad58db181e904392172c05d...</td>\n",
       "      <td>4979adf6b28136f0f0e7fd092b7f20712fe93fe8b21516...</td>\n",
       "      <td>nan</td>\n",
       "      <td>00nan</td>\n",
       "      <td>NaN</td>\n",
       "      <td>NaN</td>\n",
       "    </tr>\n",
       "    <tr>\n",
       "      <th>1</th>\n",
       "      <td>9c95a62baf8dcc9c33b117853d30cdd516e219c34eeb6f...</td>\n",
       "      <td>8da7290d6a194661c5af68946ff9ff95ec310dabcb9569...</td>\n",
       "      <td>nan</td>\n",
       "      <td>00nan</td>\n",
       "      <td>NaN</td>\n",
       "      <td>NaN</td>\n",
       "    </tr>\n",
       "  </tbody>\n",
       "</table>\n",
       "</div>"
      ],
      "text/plain": [
       "                                  customer_id_hashed  \\\n",
       "0  5ef4d1f4d0bc545e81340e8ad58db181e904392172c05d...   \n",
       "1  9c95a62baf8dcc9c33b117853d30cdd516e219c34eeb6f...   \n",
       "\n",
       "                                  email_address_hash customer_zip_code  \\\n",
       "0  4979adf6b28136f0f0e7fd092b7f20712fe93fe8b21516...               nan   \n",
       "1  8da7290d6a194661c5af68946ff9ff95ec310dabcb9569...               nan   \n",
       "\n",
       "  cleaned_zip_cd closest_store  closest_distance  \n",
       "0          00nan           NaN               NaN  \n",
       "1          00nan           NaN               NaN  "
      ]
     },
     "execution_count": 65,
     "metadata": {},
     "output_type": "execute_result"
    }
   ],
   "source": [
    "dfiddetail.head(2)"
   ]
  },
  {
   "cell_type": "code",
   "execution_count": 66,
   "metadata": {},
   "outputs": [
    {
     "data": {
      "text/plain": [
       "(26936791, 6)"
      ]
     },
     "execution_count": 66,
     "metadata": {},
     "output_type": "execute_result"
    }
   ],
   "source": [
    "dfiddetail[pd.notnull(dfiddetail['closest_store'])].shape"
   ]
  },
  {
   "cell_type": "code",
   "execution_count": 67,
   "metadata": {},
   "outputs": [
    {
     "data": {
      "text/plain": [
       "0.8764889967352589"
      ]
     },
     "execution_count": 67,
     "metadata": {},
     "output_type": "execute_result"
    }
   ],
   "source": [
    "26936791/30732606"
   ]
  },
  {
   "cell_type": "markdown",
   "metadata": {},
   "source": [
    "# Zip_Label"
   ]
  },
  {
   "cell_type": "code",
   "execution_count": 2,
   "metadata": {},
   "outputs": [],
   "source": [
    "import pandas as pd\n",
    "Excel_TA=pd.ExcelFile(\"/home/jian/Projects/Big_Lots/New_TA/TA_created_in_201906/final_output_20190718/BL_final_TA_updated_JL_2019-07-18.xlsx\")\n",
    "df_zip_in_TA=Excel_TA.parse(\"unique_zips_full_footprint\",dtype=str)\n",
    "df_store_in_TA=Excel_TA.parse(\"view_by_store\",dtype=str)\n",
    "stores_new=store_list[~store_list['location_id'].isin(df_store_in_TA['location_id'].tolist())].reset_index()\n",
    "del stores_new['index']"
   ]
  },
  {
   "cell_type": "code",
   "execution_count": 87,
   "metadata": {},
   "outputs": [
    {
     "name": "stdout",
     "output_type": "stream",
     "text": [
      "df_zip_in_TA['zip_cd'].nunique() 12980\n",
      "df_zip_in_TA.shape (12980,)\n",
      "df_zip_in_TA['zip_type'].nunique() ['trans_P' 'trans_S' 'zips_10']\n"
     ]
    },
    {
     "data": {
      "text/html": [
       "<div>\n",
       "<style>\n",
       "    .dataframe thead tr:only-child th {\n",
       "        text-align: right;\n",
       "    }\n",
       "\n",
       "    .dataframe thead th {\n",
       "        text-align: left;\n",
       "    }\n",
       "\n",
       "    .dataframe tbody tr th {\n",
       "        vertical-align: top;\n",
       "    }\n",
       "</style>\n",
       "<table border=\"1\" class=\"dataframe\">\n",
       "  <thead>\n",
       "    <tr style=\"text-align: right;\">\n",
       "      <th></th>\n",
       "      <th>zip_type</th>\n",
       "      <th>zip_cd</th>\n",
       "    </tr>\n",
       "  </thead>\n",
       "  <tbody>\n",
       "    <tr>\n",
       "      <th>0</th>\n",
       "      <td>trans_P</td>\n",
       "      <td>75040</td>\n",
       "    </tr>\n",
       "    <tr>\n",
       "      <th>1</th>\n",
       "      <td>trans_P</td>\n",
       "      <td>20743</td>\n",
       "    </tr>\n",
       "  </tbody>\n",
       "</table>\n",
       "</div>"
      ],
      "text/plain": [
       "  zip_type zip_cd\n",
       "0  trans_P  75040\n",
       "1  trans_P  20743"
      ]
     },
     "execution_count": 87,
     "metadata": {},
     "output_type": "execute_result"
    }
   ],
   "source": [
    "print(\"df_zip_in_TA['zip_cd'].nunique()\",df_zip_in_TA['zip_cd'].nunique())\n",
    "print(\"df_zip_in_TA.shape\",df_zip_in_TA['zip_cd'].shape)\n",
    "\n",
    "print(\"df_zip_in_TA['zip_type'].nunique()\",df_zip_in_TA['zip_type'].unique())\n",
    "\n",
    "df_zip_in_TA.head(2)\n"
   ]
  },
  {
   "cell_type": "code",
   "execution_count": 90,
   "metadata": {},
   "outputs": [
    {
     "data": {
      "text/plain": [
       "(404, 4)"
      ]
     },
     "execution_count": 90,
     "metadata": {},
     "output_type": "execute_result"
    }
   ],
   "source": [
    "df_new_store_zips=pd.DataFrame()\n",
    "for ind,row in stores_new.iterrows():\n",
    "    store_num=row['location_id']\n",
    "    store_center=(row['latitude_meas'],row['longitude_meas'])\n",
    "    df_store_zip10=pd.DataFrame()\n",
    "    for zip_cd, v in zip_centers.items():\n",
    "        dist=haversine(store_center,v,unit=\"mi\")\n",
    "        if dist<=10:\n",
    "            df=pd.DataFrame({\"dist\":dist},index=[zip_cd])\n",
    "            df_store_zip10=df_store_zip10.append(df)\n",
    "    df_store_zip10['location_id']= store_num     \n",
    "    df_store_zip10=df_store_zip10.reset_index().rename(columns={\"index\":\"zip_cd\"})\n",
    "    df_new_store_zips=df_new_store_zips.append(df_store_zip10)\n",
    "df_new_store_zips['zip_type']=\"zips_10\"\n",
    "df_new_store_zips.shape"
   ]
  },
  {
   "cell_type": "code",
   "execution_count": 92,
   "metadata": {
    "scrolled": true
   },
   "outputs": [
    {
     "data": {
      "text/html": [
       "<div>\n",
       "<style>\n",
       "    .dataframe thead tr:only-child th {\n",
       "        text-align: right;\n",
       "    }\n",
       "\n",
       "    .dataframe thead th {\n",
       "        text-align: left;\n",
       "    }\n",
       "\n",
       "    .dataframe tbody tr th {\n",
       "        vertical-align: top;\n",
       "    }\n",
       "</style>\n",
       "<table border=\"1\" class=\"dataframe\">\n",
       "  <thead>\n",
       "    <tr style=\"text-align: right;\">\n",
       "      <th></th>\n",
       "      <th>zip_type</th>\n",
       "      <th>zip_cd</th>\n",
       "    </tr>\n",
       "  </thead>\n",
       "  <tbody>\n",
       "    <tr>\n",
       "      <th>0</th>\n",
       "      <td>trans_P</td>\n",
       "      <td>75040</td>\n",
       "    </tr>\n",
       "    <tr>\n",
       "      <th>1</th>\n",
       "      <td>trans_P</td>\n",
       "      <td>20743</td>\n",
       "    </tr>\n",
       "  </tbody>\n",
       "</table>\n",
       "</div>"
      ],
      "text/plain": [
       "  zip_type zip_cd\n",
       "0  trans_P  75040\n",
       "1  trans_P  20743"
      ]
     },
     "execution_count": 92,
     "metadata": {},
     "output_type": "execute_result"
    }
   ],
   "source": [
    "df_zip_in_TA.head(2)"
   ]
  },
  {
   "cell_type": "code",
   "execution_count": 93,
   "metadata": {},
   "outputs": [
    {
     "data": {
      "text/html": [
       "<div>\n",
       "<style>\n",
       "    .dataframe thead tr:only-child th {\n",
       "        text-align: right;\n",
       "    }\n",
       "\n",
       "    .dataframe thead th {\n",
       "        text-align: left;\n",
       "    }\n",
       "\n",
       "    .dataframe tbody tr th {\n",
       "        vertical-align: top;\n",
       "    }\n",
       "</style>\n",
       "<table border=\"1\" class=\"dataframe\">\n",
       "  <thead>\n",
       "    <tr style=\"text-align: right;\">\n",
       "      <th></th>\n",
       "      <th>zip_cd</th>\n",
       "      <th>dist</th>\n",
       "      <th>location_id</th>\n",
       "      <th>zip_type</th>\n",
       "    </tr>\n",
       "  </thead>\n",
       "  <tbody>\n",
       "    <tr>\n",
       "      <th>0</th>\n",
       "      <td>82001</td>\n",
       "      <td>1.719839</td>\n",
       "      <td>4678</td>\n",
       "      <td>zips_10</td>\n",
       "    </tr>\n",
       "    <tr>\n",
       "      <th>1</th>\n",
       "      <td>82009</td>\n",
       "      <td>3.949026</td>\n",
       "      <td>4678</td>\n",
       "      <td>zips_10</td>\n",
       "    </tr>\n",
       "  </tbody>\n",
       "</table>\n",
       "</div>"
      ],
      "text/plain": [
       "  zip_cd      dist location_id zip_type\n",
       "0  82001  1.719839        4678  zips_10\n",
       "1  82009  3.949026        4678  zips_10"
      ]
     },
     "execution_count": 93,
     "metadata": {},
     "output_type": "execute_result"
    }
   ],
   "source": [
    "df_new_store_zips.head(2)"
   ]
  },
  {
   "cell_type": "code",
   "execution_count": 94,
   "metadata": {
    "collapsed": true
   },
   "outputs": [],
   "source": [
    "df_to_append_new_store_zips=df_new_store_zips[['zip_cd','zip_type']].drop_duplicates()\n",
    "df_zip_in_TA=df_zip_in_TA.append(df_to_append_new_store_zips)\n",
    "df_zip_in_TA=df_zip_in_TA.sort_values([\"zip_cd\",\"zip_type\"]).drop_duplicates(\"zip_cd\")"
   ]
  },
  {
   "cell_type": "code",
   "execution_count": 102,
   "metadata": {},
   "outputs": [
    {
     "name": "stdout",
     "output_type": "stream",
     "text": [
      "(13201, 2) 13201\n"
     ]
    }
   ],
   "source": [
    "df_zip_in_TA=df_zip_in_TA.rename(columns={\"zip_cd\":\"cleaned_zip_cd\"})\n",
    "\n",
    "print(df_zip_in_TA.shape,df_zip_in_TA['cleaned_zip_cd'].nunique())"
   ]
  },
  {
   "cell_type": "code",
   "execution_count": 103,
   "metadata": {},
   "outputs": [
    {
     "name": "stdout",
     "output_type": "stream",
     "text": [
      "(30732606, 6)\n",
      "(30732606, 7)\n"
     ]
    }
   ],
   "source": [
    "print(dfiddetail.shape)\n",
    "dfiddetail=pd.merge(dfiddetail,df_zip_in_TA,on=\"cleaned_zip_cd\",how=\"left\")\n",
    "print(dfiddetail.shape)"
   ]
  },
  {
   "cell_type": "code",
   "execution_count": 104,
   "metadata": {
    "collapsed": true
   },
   "outputs": [],
   "source": [
    "dfiddetail.to_csv(\"./BL_all_master_id_email_zip_closet_store_ZipLabel_upto_20191012_JL_\"+str(datetime.datetime.now().date()),index=False)"
   ]
  },
  {
   "cell_type": "code",
   "execution_count": 105,
   "metadata": {},
   "outputs": [
    {
     "data": {
      "text/plain": [
       "(30732606, 7)"
      ]
     },
     "execution_count": 105,
     "metadata": {},
     "output_type": "execute_result"
    }
   ],
   "source": [
    "dfiddetail.shape"
   ]
  },
  {
   "cell_type": "code",
   "execution_count": null,
   "metadata": {
    "collapsed": true
   },
   "outputs": [],
   "source": []
  }
 ],
 "metadata": {
  "kernelspec": {
   "display_name": "Python 3",
   "language": "python",
   "name": "python3"
  },
  "language_info": {
   "codemirror_mode": {
    "name": "ipython",
    "version": 3
   },
   "file_extension": ".py",
   "mimetype": "text/x-python",
   "name": "python",
   "nbconvert_exporter": "python",
   "pygments_lexer": "ipython3",
   "version": "3.6.1"
  }
 },
 "nbformat": 4,
 "nbformat_minor": 2
}
