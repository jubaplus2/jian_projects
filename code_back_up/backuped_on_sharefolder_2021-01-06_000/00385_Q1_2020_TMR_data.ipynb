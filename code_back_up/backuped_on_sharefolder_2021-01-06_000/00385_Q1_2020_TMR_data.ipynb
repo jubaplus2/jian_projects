{
 "cells": [
  {
   "cell_type": "code",
   "execution_count": 1,
   "metadata": {},
   "outputs": [
    {
     "data": {
      "text/plain": [
       "'/mnt/clients/juba/hqjubaapp02/sharefolder/Media/TMR/TMR_data/Up_to_2020Q1'"
      ]
     },
     "execution_count": 1,
     "metadata": {},
     "output_type": "execute_result"
    }
   ],
   "source": [
    "import pandas as pd\n",
    "import numpy as np\n",
    "import os\n",
    "import datetime\n",
    "import glob\n",
    "os.getcwd()\n",
    "\n",
    "# Note email cpm updated based on the Q4 client number\n",
    "# Flipp hosted not included in wide version"
   ]
  },
  {
   "cell_type": "code",
   "execution_count": 2,
   "metadata": {},
   "outputs": [
    {
     "data": {
      "text/plain": [
       "'/mnt/clients/juba/hqjubaapp02/sharefolder/Media/TMR/TMR_data/Up_to_2020Q1'"
      ]
     },
     "execution_count": 2,
     "metadata": {},
     "output_type": "execute_result"
    }
   ],
   "source": [
    "new_quarter=\"2020Q1\"\n",
    "new_quarter_start_date=\"2020-02-02\"\n",
    "new_quarter_end_date=\"2020-05-02\"\n",
    "os.getcwd()"
   ]
  },
  {
   "cell_type": "code",
   "execution_count": 3,
   "metadata": {},
   "outputs": [],
   "source": [
    "TMR_up_to_2019Q4=pd.read_csv(\"/mnt/clients/juba/hqjubaapp02/sharefolder/Media/TMR/TMR_data/Up_to_2019Q4/output/BL_MMM_long_cumu_up_to_2019Q4_JL_2020-12-16.csv\",dtype=str)\n",
    "TMR_up_to_2019Q4['impression']=TMR_up_to_2019Q4['impression'].fillna(0).astype(float).astype(int)\n",
    "TMR_up_to_2019Q4['click']=TMR_up_to_2019Q4['click'].fillna(0).astype(float).astype(int)\n",
    "TMR_up_to_2019Q4['cost']=TMR_up_to_2019Q4['cost'].fillna(0).astype(float)\n"
   ]
  },
  {
   "cell_type": "code",
   "execution_count": 4,
   "metadata": {},
   "outputs": [
    {
     "name": "stderr",
     "output_type": "stream",
     "text": [
      "/opt/anaconda3/lib/python3.7/site-packages/ipykernel_launcher.py:1: FutureWarning: Indexing with multiple keys (implicitly converted to a tuple of keys) will be deprecated, use a list instead.\n",
      "  \"\"\"Entry point for launching an IPython kernel.\n"
     ]
    },
    {
     "name": "stdout",
     "output_type": "stream",
     "text": [
      "2016-09-25\n",
      "2020-01-26\n"
     ]
    }
   ],
   "source": [
    "TMR_up_to_2019Q4_no_DMA=TMR_up_to_2019Q4.groupby([\"week date\",\"media\",\"submedia\",\"placement\"])['impression','click','cost'].sum().reset_index()\n",
    "print(TMR_up_to_2019Q4_no_DMA['week date'].min())\n",
    "print(TMR_up_to_2019Q4_no_DMA['week date'].max())\n",
    "# TMR_up_to_2019Q4_no_DMA"
   ]
  },
  {
   "cell_type": "code",
   "execution_count": 5,
   "metadata": {},
   "outputs": [
    {
     "data": {
      "text/html": [
       "<div>\n",
       "<style scoped>\n",
       "    .dataframe tbody tr th:only-of-type {\n",
       "        vertical-align: middle;\n",
       "    }\n",
       "\n",
       "    .dataframe tbody tr th {\n",
       "        vertical-align: top;\n",
       "    }\n",
       "\n",
       "    .dataframe thead th {\n",
       "        text-align: right;\n",
       "    }\n",
       "</style>\n",
       "<table border=\"1\" class=\"dataframe\">\n",
       "  <thead>\n",
       "    <tr style=\"text-align: right;\">\n",
       "      <th></th>\n",
       "      <th>week date</th>\n",
       "      <th>media</th>\n",
       "      <th>submedia</th>\n",
       "      <th>placement</th>\n",
       "      <th>impression</th>\n",
       "      <th>click</th>\n",
       "      <th>cost</th>\n",
       "    </tr>\n",
       "  </thead>\n",
       "  <tbody>\n",
       "    <tr>\n",
       "      <th>0</th>\n",
       "      <td>2016-09-25</td>\n",
       "      <td>Email</td>\n",
       "      <td>xx</td>\n",
       "      <td>xx</td>\n",
       "      <td>11581550</td>\n",
       "      <td>113834</td>\n",
       "      <td>5278.691191</td>\n",
       "    </tr>\n",
       "    <tr>\n",
       "      <th>1</th>\n",
       "      <td>2016-10-02</td>\n",
       "      <td>Digital</td>\n",
       "      <td>Flipp</td>\n",
       "      <td>Flipp App</td>\n",
       "      <td>74691</td>\n",
       "      <td>37222</td>\n",
       "      <td>10794.380000</td>\n",
       "    </tr>\n",
       "  </tbody>\n",
       "</table>\n",
       "</div>"
      ],
      "text/plain": [
       "    week date    media submedia  placement  impression   click          cost\n",
       "0  2016-09-25    Email       xx         xx    11581550  113834   5278.691191\n",
       "1  2016-10-02  Digital    Flipp  Flipp App       74691   37222  10794.380000"
      ]
     },
     "execution_count": 5,
     "metadata": {},
     "output_type": "execute_result"
    }
   ],
   "source": [
    "TMR_up_to_2019Q4_no_DMA.head(2)"
   ]
  },
  {
   "cell_type": "code",
   "execution_count": 6,
   "metadata": {},
   "outputs": [],
   "source": [
    "def get_week_end_date_BL(x):\n",
    "    if x.weekday()==6:\n",
    "        y=x+datetime.timedelta(days=6)\n",
    "    else:\n",
    "        y=x+datetime.timedelta(days=5-x.weekday())\n",
    "    return y"
   ]
  },
  {
   "cell_type": "markdown",
   "metadata": {},
   "source": [
    "# TV"
   ]
  },
  {
   "cell_type": "code",
   "execution_count": 7,
   "metadata": {},
   "outputs": [
    {
     "data": {
      "text/plain": [
       "0.07614345426784061"
      ]
     },
     "execution_count": 7,
     "metadata": {},
     "output_type": "execute_result"
    }
   ],
   "source": [
    "# Due to no impression by week, 2 out of the 4 tabs are not included\n",
    "# Sinclair(Local) & DISH ignored\n",
    "(160000+125000)/(3373431+125000+160000+84504)"
   ]
  },
  {
   "cell_type": "code",
   "execution_count": 8,
   "metadata": {},
   "outputs": [],
   "source": [
    "# Email: Big Lots Q120 TMR from Jessica, Fhursday, Aug 27, 2020 at 9:09 PM\n",
    "'''\n",
    "Media   (To confirm if net or gross, last quarter was net)                                        \n",
    "National $3,373,431\n",
    "DISH $125,000\n",
    "Sinclair $160,000\n",
    "DRTV $84,504\n",
    "\n",
    "Unfortunately, DISH was unable to break their spots out for the TMR. I have attached the MSA we were provided. There were a total of 773 spots for $125,000 and 5,748,000 impressions.\n",
    "'''\n",
    "national_tv_cost=3373431\n",
    "sinclair_tv_cost=160000\n",
    "drtv_tv_cost=84504\n",
    "# DISH ignored\n",
    "TV_TMR_data=pd.DataFrame()"
   ]
  },
  {
   "cell_type": "code",
   "execution_count": null,
   "metadata": {},
   "outputs": [],
   "source": []
  },
  {
   "cell_type": "code",
   "execution_count": 9,
   "metadata": {
    "scrolled": true
   },
   "outputs": [
    {
     "name": "stdout",
     "output_type": "stream",
     "text": [
      "['National', 'Sinclair', 'DRTV', 'DISH', 'Circ Spend']\n",
      "(3477, 18) (148, 18) (186, 18)\n"
     ]
    }
   ],
   "source": [
    "TV_print_excel=pd.ExcelFile(\"/mnt/clients/juba/hqjubaapp02/sharefolder/Media/TMR/TMR_data/Up_to_2020Q1/input_2020Q1/Big Lots Q1 TMR 8.26.20.xlsx\")\n",
    "print(TV_print_excel.sheet_names)\n",
    "                      \n",
    "df_TV_national=TV_print_excel.parse(\"National\",dtype=str,skiprows=2)\n",
    "df_TV_sinclair=TV_print_excel.parse(\"Sinclair\",dtype=str,skiprows=2)\n",
    "df_TV_DRTV=TV_print_excel.parse(\"DRTV\",dtype=str,skiprows=2)\n",
    "\n",
    "print(df_TV_national.shape,df_TV_sinclair.shape,df_TV_DRTV.shape)\n"
   ]
  },
  {
   "cell_type": "code",
   "execution_count": 10,
   "metadata": {},
   "outputs": [
    {
     "name": "stdout",
     "output_type": "stream",
     "text": [
      "df_TV_national['cost'].sum() 3373431.0\n"
     ]
    }
   ],
   "source": [
    "df_TV_national=df_TV_national[[\"Q1\",'National',\"WeTV\",' 2/10/2018',3935]]\n",
    "df_TV_national.columns=[\"Q1 2020\",'National',\"Network\",\"Air Date\",' Imp(000) - Women 25-54']\n",
    "# df_TV_national['Air Date']=df_TV_national['Air Date'].apply(lambda x: x.strip())\n",
    "df_TV_national=df_TV_national[pd.notnull(df_TV_national['Air Date'])]\n",
    "\n",
    "df_TV_national=df_TV_national.rename(columns={\"Network\":\"placement\"})\n",
    "df_TV_national['date']=df_TV_national['Air Date'].apply(lambda x: datetime.datetime.strptime(x,\" %m/%d/%Y\").date() if \"/\" in x else datetime.datetime.strptime(x,\"%Y-%m-%d %H:%M:%S\").date())\n",
    "df_TV_national['impression']=df_TV_national[' Imp(000) - Women 25-54'].astype(float)\n",
    "\n",
    "df_TV_national['media']=\"TV\"\n",
    "df_TV_national['submedia']=\"National\"\n",
    "df_TV_national['click']=0\n",
    "df_TV_national['week date']=df_TV_national['date'].apply(get_week_end_date_BL)\n",
    "df_TV_national['week date']=df_TV_national['week date'].apply(lambda x: x-datetime.timedelta(days=6))\n",
    "\n",
    "sum_national_cable_impr=df_TV_national['impression'].sum()\n",
    "df_TV_national['cost']=df_TV_national['impression']/sum_national_cable_impr*national_tv_cost\n",
    "print(\"df_TV_national['cost'].sum()\",df_TV_national['cost'].sum())\n",
    "df_TV_national=df_TV_national[TMR_up_to_2019Q4_no_DMA.columns.tolist()]\n"
   ]
  },
  {
   "cell_type": "code",
   "execution_count": 11,
   "metadata": {},
   "outputs": [
    {
     "data": {
      "text/html": [
       "<div>\n",
       "<style scoped>\n",
       "    .dataframe tbody tr th:only-of-type {\n",
       "        vertical-align: middle;\n",
       "    }\n",
       "\n",
       "    .dataframe tbody tr th {\n",
       "        vertical-align: top;\n",
       "    }\n",
       "\n",
       "    .dataframe thead th {\n",
       "        text-align: right;\n",
       "    }\n",
       "</style>\n",
       "<table border=\"1\" class=\"dataframe\">\n",
       "  <thead>\n",
       "    <tr style=\"text-align: right;\">\n",
       "      <th></th>\n",
       "      <th>Q1</th>\n",
       "      <th>Post</th>\n",
       "      <th>Unnamed: 2</th>\n",
       "      <th>Baltimore</th>\n",
       "      <th>WeTV</th>\n",
       "      <th>Spot Cable</th>\n",
       "      <th>2018-02-05 00:00:00</th>\n",
       "      <th>W25-54</th>\n",
       "      <th>2/10/2018</th>\n",
       "      <th>Saturday</th>\n",
       "      <th>5:27 PM</th>\n",
       "      <th>30</th>\n",
       "      <th>LIVE PD</th>\n",
       "      <th>21.25</th>\n",
       "      <th>0.77</th>\n",
       "      <th>3935</th>\n",
       "      <th>6740 COMCAST, Baltimore Interconnect-Cable</th>\n",
       "      <th>Unnamed: 17</th>\n",
       "    </tr>\n",
       "  </thead>\n",
       "  <tbody>\n",
       "    <tr>\n",
       "      <th>0</th>\n",
       "      <td>Q1 2020 Sinclair</td>\n",
       "      <td>Post</td>\n",
       "      <td>Sinclair</td>\n",
       "      <td>Asheville, NC</td>\n",
       "      <td>WLOS</td>\n",
       "      <td>NaN</td>\n",
       "      <td>NaN</td>\n",
       "      <td>W25-54</td>\n",
       "      <td>2020-05-01 03:38:08</td>\n",
       "      <td>Friday</td>\n",
       "      <td>1970-01-01 08:38:08</td>\n",
       "      <td>00:30</td>\n",
       "      <td>NaN</td>\n",
       "      <td>NaN</td>\n",
       "      <td>NaN</td>\n",
       "      <td>NaN</td>\n",
       "      <td>LGTS1336000H</td>\n",
       "      <td>NaN</td>\n",
       "    </tr>\n",
       "    <tr>\n",
       "      <th>1</th>\n",
       "      <td>Q1 2020 Sinclair</td>\n",
       "      <td>Post</td>\n",
       "      <td>Sinclair</td>\n",
       "      <td>Mobile / Pensacola</td>\n",
       "      <td>WPMI</td>\n",
       "      <td>NaN</td>\n",
       "      <td>NaN</td>\n",
       "      <td>W25-55</td>\n",
       "      <td>2020-04-30 00:41:55</td>\n",
       "      <td>Thursday</td>\n",
       "      <td>1970-01-01 05:41:55</td>\n",
       "      <td>00:30</td>\n",
       "      <td>NaN</td>\n",
       "      <td>NaN</td>\n",
       "      <td>NaN</td>\n",
       "      <td>NaN</td>\n",
       "      <td>LGTS1336000H</td>\n",
       "      <td>NaN</td>\n",
       "    </tr>\n",
       "  </tbody>\n",
       "</table>\n",
       "</div>"
      ],
      "text/plain": [
       "                 Q1  Post Unnamed: 2           Baltimore  WeTV Spot Cable  \\\n",
       "0  Q1 2020 Sinclair  Post   Sinclair       Asheville, NC  WLOS        NaN   \n",
       "1  Q1 2020 Sinclair  Post   Sinclair  Mobile / Pensacola  WPMI        NaN   \n",
       "\n",
       "  2018-02-05 00:00:00  W25-54            2/10/2018  Saturday  \\\n",
       "0                 NaN  W25-54  2020-05-01 03:38:08    Friday   \n",
       "1                 NaN  W25-55  2020-04-30 00:41:55  Thursday   \n",
       "\n",
       "               5:27 PM     30 LIVE PD 21.25 0.77 3935  \\\n",
       "0  1970-01-01 08:38:08  00:30     NaN   NaN  NaN  NaN   \n",
       "1  1970-01-01 05:41:55  00:30     NaN   NaN  NaN  NaN   \n",
       "\n",
       "  6740 COMCAST, Baltimore Interconnect-Cable Unnamed: 17  \n",
       "0                               LGTS1336000H         NaN  \n",
       "1                               LGTS1336000H         NaN  "
      ]
     },
     "execution_count": 11,
     "metadata": {},
     "output_type": "execute_result"
    }
   ],
   "source": [
    "df_TV_sinclair.head(2)"
   ]
  },
  {
   "cell_type": "code",
   "execution_count": 12,
   "metadata": {},
   "outputs": [
    {
     "data": {
      "text/plain": [
       "'\\n# To confirm if impression available esle ignore\\n\\ndf_TV_sinclair=df_TV_sinclair[[\"Q1\",\\'Unnamed: 2\\',\"WeTV\",\\' 2/10/2018\\',3935]]\\ndf_TV_sinclair.columns=[\"Q1 2020\",\\'National\\',\"Network\",\"Air Date\",\\' Imp(000) - Women 25-54\\']\\n# df_TV_sinclair[\\'Air Date\\']=df_TV_sinclair[\\'Air Date\\'].apply(lambda x: x.strip())\\ndf_TV_sinclair=df_TV_sinclair[pd.notnull(df_TV_sinclair[\\'Air Date\\'])]\\n\\ndf_TV_sinclair=df_TV_sinclair.rename(columns={\"Network\":\"placement\"})\\ndf_TV_sinclair[\\'date\\']=df_TV_sinclair[\\'Air Date\\'].apply(lambda x: datetime.datetime.strptime(x,\" %m/%d/%Y\").date() if \"/\" in x else datetime.datetime.strptime(x,\"%Y-%m-%d %H:%M:%S\").date())\\ndf_TV_sinclair[\\'impression\\']=df_TV_sinclair[\\' Imp(000) - Women 25-54\\'].astype(float)*1000\\n\\ndf_TV_sinclair[\\'media\\']=\"TV\"\\ndf_TV_sinclair[\\'submedia\\']=\"National\"\\ndf_TV_sinclair[\\'click\\']=0\\ndf_TV_sinclair[\\'week date\\']=df_TV_sinclair[\\'date\\'].apply(get_week_end_date_BL)\\ndf_TV_sinclair[\\'week date\\']=df_TV_sinclair[\\'week date\\'].apply(lambda x: x-datetime.timedelta(days=6))\\n\\nsum_national_cable_impr=df_TV_sinclair[\\'impression\\'].sum()\\ndf_TV_sinclair[\\'cost\\']=df_TV_sinclair[\\'impression\\']/sum_national_cable_impr*national_tv_cost\\nprint(\"df_TV_sinclair[\\'cost\\'].sum()\",df_TV_sinclair[\\'cost\\'].sum())\\ndf_TV_sinclair=df_TV_sinclair[TMR_up_to_2019Q4_no_DMA.columns.tolist()]\\n'"
      ]
     },
     "execution_count": 12,
     "metadata": {},
     "output_type": "execute_result"
    }
   ],
   "source": [
    "'''\n",
    "# To confirm if impression available esle ignore\n",
    "\n",
    "df_TV_sinclair=df_TV_sinclair[[\"Q1\",'Unnamed: 2',\"WeTV\",' 2/10/2018',3935]]\n",
    "df_TV_sinclair.columns=[\"Q1 2020\",'National',\"Network\",\"Air Date\",' Imp(000) - Women 25-54']\n",
    "# df_TV_sinclair['Air Date']=df_TV_sinclair['Air Date'].apply(lambda x: x.strip())\n",
    "df_TV_sinclair=df_TV_sinclair[pd.notnull(df_TV_sinclair['Air Date'])]\n",
    "\n",
    "df_TV_sinclair=df_TV_sinclair.rename(columns={\"Network\":\"placement\"})\n",
    "df_TV_sinclair['date']=df_TV_sinclair['Air Date'].apply(lambda x: datetime.datetime.strptime(x,\" %m/%d/%Y\").date() if \"/\" in x else datetime.datetime.strptime(x,\"%Y-%m-%d %H:%M:%S\").date())\n",
    "df_TV_sinclair['impression']=df_TV_sinclair[' Imp(000) - Women 25-54'].astype(float)*1000\n",
    "\n",
    "df_TV_sinclair['media']=\"TV\"\n",
    "df_TV_sinclair['submedia']=\"National\"\n",
    "df_TV_sinclair['click']=0\n",
    "df_TV_sinclair['week date']=df_TV_sinclair['date'].apply(get_week_end_date_BL)\n",
    "df_TV_sinclair['week date']=df_TV_sinclair['week date'].apply(lambda x: x-datetime.timedelta(days=6))\n",
    "\n",
    "sum_national_cable_impr=df_TV_sinclair['impression'].sum()\n",
    "df_TV_sinclair['cost']=df_TV_sinclair['impression']/sum_national_cable_impr*national_tv_cost\n",
    "print(\"df_TV_sinclair['cost'].sum()\",df_TV_sinclair['cost'].sum())\n",
    "df_TV_sinclair=df_TV_sinclair[TMR_up_to_2019Q4_no_DMA.columns.tolist()]\n",
    "'''"
   ]
  },
  {
   "cell_type": "code",
   "execution_count": 13,
   "metadata": {},
   "outputs": [
    {
     "data": {
      "text/plain": [
       "['Q1',\n",
       " 'Post',\n",
       " 'Nielsen Keeping Trac',\n",
       " 'Baltimore',\n",
       " 'WeTV',\n",
       " 'Spot Cable',\n",
       " datetime.datetime(2018, 2, 5, 0, 0),\n",
       " 'W25-54',\n",
       " ' 2/10/2018',\n",
       " 'Saturday',\n",
       " ' 5:27 PM',\n",
       " 30,\n",
       " 'LIVE PD',\n",
       " 21.25,\n",
       " 0.77,\n",
       " 3935,\n",
       " '6740 COMCAST, Baltimore Interconnect-Cable',\n",
       " 'Unnamed: 17']"
      ]
     },
     "execution_count": 13,
     "metadata": {},
     "output_type": "execute_result"
    }
   ],
   "source": [
    "df_TV_DRTV.columns.tolist()"
   ]
  },
  {
   "cell_type": "code",
   "execution_count": 14,
   "metadata": {},
   "outputs": [
    {
     "name": "stdout",
     "output_type": "stream",
     "text": [
      "df_TV_DRTV['cost'].sum() 84504.0\n"
     ]
    }
   ],
   "source": [
    "df_TV_DRTV=df_TV_DRTV[[\"Q1\",'Baltimore',\"WeTV\",' 2/10/2018',3935]]\n",
    "df_TV_DRTV.columns=[\"Q1 2020\",'National',\"Network\",\"Air Date\",' Imp(000) - Women 25-54']\n",
    "# df_TV_DRTV['Air Date']=df_TV_DRTV['Air Date'].apply(lambda x: x.strip())\n",
    "df_TV_DRTV=df_TV_DRTV[pd.notnull(df_TV_DRTV['Air Date'])]\n",
    "\n",
    "df_TV_DRTV=df_TV_DRTV.rename(columns={\"Network\":\"placement\"})\n",
    "df_TV_DRTV['date']=df_TV_DRTV['Air Date'].apply(lambda x: datetime.datetime.strptime(x,\" %m/%d/%Y\").date() if \"/\" in x else datetime.datetime.strptime(x,\"%Y-%m-%d %H:%M:%S\").date())\n",
    "df_TV_DRTV['impression']=df_TV_DRTV[' Imp(000) - Women 25-54'].astype(float)\n",
    "\n",
    "df_TV_DRTV['media']=\"TV\"\n",
    "df_TV_DRTV['submedia']=\"National\"\n",
    "df_TV_DRTV['click']=0\n",
    "df_TV_DRTV['week date']=df_TV_DRTV['date'].apply(get_week_end_date_BL)\n",
    "df_TV_DRTV['week date']=df_TV_DRTV['week date'].apply(lambda x: x-datetime.timedelta(days=6))\n",
    "\n",
    "sum_DRTV_impr=df_TV_DRTV['impression'].sum()\n",
    "df_TV_DRTV['cost']=df_TV_DRTV['impression']/sum_DRTV_impr*drtv_tv_cost\n",
    "print(\"df_TV_DRTV['cost'].sum()\",df_TV_DRTV['cost'].sum())\n",
    "df_TV_DRTV=df_TV_DRTV[TMR_up_to_2019Q4_no_DMA.columns.tolist()]\n"
   ]
  },
  {
   "cell_type": "code",
   "execution_count": 15,
   "metadata": {},
   "outputs": [
    {
     "name": "stdout",
     "output_type": "stream",
     "text": [
      "TV_TMR_data['cost'].sum() 3457935.0\n",
      "TV_TMR_data['impression'].sum() 131940595.0\n"
     ]
    }
   ],
   "source": [
    "TV_TMR_data=df_TV_national.append(df_TV_DRTV)\n",
    "TV_TMR_data['week date']=TV_TMR_data['week date'].astype(str)\n",
    "print(\"TV_TMR_data['cost'].sum()\",TV_TMR_data['cost'].sum())\n",
    "print(\"TV_TMR_data['impression'].sum()\",TV_TMR_data['impression'].sum())\n"
   ]
  },
  {
   "cell_type": "code",
   "execution_count": 16,
   "metadata": {},
   "outputs": [
    {
     "data": {
      "text/plain": [
       "(3663, 7)"
      ]
     },
     "execution_count": 16,
     "metadata": {},
     "output_type": "execute_result"
    }
   ],
   "source": [
    "TV_TMR_data.shape"
   ]
  },
  {
   "cell_type": "code",
   "execution_count": 17,
   "metadata": {},
   "outputs": [
    {
     "name": "stderr",
     "output_type": "stream",
     "text": [
      "/opt/anaconda3/lib/python3.7/site-packages/ipykernel_launcher.py:1: FutureWarning: Indexing with multiple keys (implicitly converted to a tuple of keys) will be deprecated, use a list instead.\n",
      "  \"\"\"Entry point for launching an IPython kernel.\n"
     ]
    },
    {
     "data": {
      "text/plain": [
       "(57, 7)"
      ]
     },
     "execution_count": 17,
     "metadata": {},
     "output_type": "execute_result"
    }
   ],
   "source": [
    "TV_TMR_data=TV_TMR_data.groupby(['week date','media','submedia','placement'])['impression','click','cost'].sum().reset_index()\n",
    "TV_TMR_data.shape"
   ]
  },
  {
   "cell_type": "code",
   "execution_count": 18,
   "metadata": {},
   "outputs": [
    {
     "name": "stdout",
     "output_type": "stream",
     "text": [
      "(57, 7)\n",
      "8\n",
      "2020-02-02\n",
      "2020-03-29\n"
     ]
    },
    {
     "name": "stderr",
     "output_type": "stream",
     "text": [
      "/opt/anaconda3/lib/python3.7/site-packages/ipykernel_launcher.py:9: FutureWarning: Indexing with multiple keys (implicitly converted to a tuple of keys) will be deprecated, use a list instead.\n",
      "  if __name__ == '__main__':\n"
     ]
    },
    {
     "data": {
      "text/html": [
       "<div>\n",
       "<style scoped>\n",
       "    .dataframe tbody tr th:only-of-type {\n",
       "        vertical-align: middle;\n",
       "    }\n",
       "\n",
       "    .dataframe tbody tr th {\n",
       "        vertical-align: top;\n",
       "    }\n",
       "\n",
       "    .dataframe thead th {\n",
       "        text-align: right;\n",
       "    }\n",
       "</style>\n",
       "<table border=\"1\" class=\"dataframe\">\n",
       "  <thead>\n",
       "    <tr style=\"text-align: right;\">\n",
       "      <th></th>\n",
       "      <th>submedia</th>\n",
       "      <th>impression</th>\n",
       "      <th>cost</th>\n",
       "    </tr>\n",
       "  </thead>\n",
       "  <tbody>\n",
       "    <tr>\n",
       "      <th>0</th>\n",
       "      <td>National</td>\n",
       "      <td>131940595</td>\n",
       "      <td>3457935.0</td>\n",
       "    </tr>\n",
       "  </tbody>\n",
       "</table>\n",
       "</div>"
      ],
      "text/plain": [
       "   submedia  impression       cost\n",
       "0  National   131940595  3457935.0"
      ]
     },
     "execution_count": 18,
     "metadata": {},
     "output_type": "execute_result"
    }
   ],
   "source": [
    "TV_TMR_data=TV_TMR_data[TV_TMR_data['week date']>=new_quarter_start_date]\n",
    "TV_TMR_data=TV_TMR_data[TV_TMR_data['week date']<=new_quarter_end_date]\n",
    "print(TV_TMR_data.shape)\n",
    "print(TV_TMR_data['week date'].nunique())\n",
    "print(TV_TMR_data['week date'].min())\n",
    "print(TV_TMR_data['week date'].max())\n",
    "\n",
    "\n",
    "df_TV_summary=TV_TMR_data.groupby(['submedia'])['impression','cost'].sum().reset_index()\n",
    "df_TV_summary['impression']=df_TV_summary['impression'].astype(int)\n",
    "df_TV_summary"
   ]
  },
  {
   "cell_type": "code",
   "execution_count": 19,
   "metadata": {},
   "outputs": [
    {
     "name": "stdout",
     "output_type": "stream",
     "text": [
      "2661712.1000000006 235130070\n"
     ]
    }
   ],
   "source": [
    "df_qc_tv_lastyear=TMR_up_to_2019Q4_no_DMA[TMR_up_to_2019Q4_no_DMA['week date']>=\"2019-02-03\"]\n",
    "df_qc_tv_lastyear=df_qc_tv_lastyear[df_qc_tv_lastyear['week date']<=\"2019-05-04\"]\n",
    "df_qc_tv_lastyear=df_qc_tv_lastyear[df_qc_tv_lastyear['media']==\"TV\"]\n",
    "print(df_qc_tv_lastyear['cost'].sum(),df_qc_tv_lastyear['impression'].sum())\n",
    "\n",
    "# In line"
   ]
  },
  {
   "cell_type": "code",
   "execution_count": 20,
   "metadata": {},
   "outputs": [
    {
     "data": {
      "text/plain": [
       "(3457935.0000000005, 131940595)"
      ]
     },
     "execution_count": 20,
     "metadata": {},
     "output_type": "execute_result"
    }
   ],
   "source": [
    "df_TV_summary['cost'].sum(),df_TV_summary['impression'].sum()"
   ]
  },
  {
   "cell_type": "code",
   "execution_count": 21,
   "metadata": {},
   "outputs": [
    {
     "data": {
      "text/plain": [
       "1.299139377245195"
      ]
     },
     "execution_count": 21,
     "metadata": {},
     "output_type": "execute_result"
    }
   ],
   "source": [
    "3457935.0000000005/2661712.1000000006"
   ]
  },
  {
   "cell_type": "code",
   "execution_count": 22,
   "metadata": {},
   "outputs": [
    {
     "data": {
      "text/plain": [
       "0.5611387560935953"
      ]
     },
     "execution_count": 22,
     "metadata": {},
     "output_type": "execute_result"
    }
   ],
   "source": [
    "131940595/235130070"
   ]
  },
  {
   "cell_type": "code",
   "execution_count": 23,
   "metadata": {},
   "outputs": [
    {
     "name": "stdout",
     "output_type": "stream",
     "text": [
      "2020-12-16 21:51:59.255619\n"
     ]
    }
   ],
   "source": [
    "print(datetime.datetime.now())"
   ]
  },
  {
   "cell_type": "markdown",
   "metadata": {},
   "source": [
    "# Print Circulation"
   ]
  },
  {
   "cell_type": "code",
   "execution_count": 24,
   "metadata": {},
   "outputs": [],
   "source": [
    "week_1=datetime.date(2020,2,2)\n",
    "df_week_2020Q1=pd.DataFrame({\"week date\":week_1},index=range(13))\n",
    "df_week_2020Q1['Fiscal Week']=range(13)\n",
    "df_week_2020Q1['week date']=df_week_2020Q1['Fiscal Week'].apply(lambda x: week_1+datetime.timedelta(days=x*7))\n",
    "df_week_2020Q1['Fiscal Week']=df_week_2020Q1['Fiscal Week']+1"
   ]
  },
  {
   "cell_type": "code",
   "execution_count": 25,
   "metadata": {},
   "outputs": [
    {
     "name": "stdout",
     "output_type": "stream",
     "text": [
      "(13, 7)\n",
      "13 2020-02-02 2020-04-26\n",
      "['Sunday']\n"
     ]
    }
   ],
   "source": [
    "df_print_circ=TV_print_excel.parse(\"Circ Spend\",dtype=str,skiprows=None)\n",
    "df_print_circ['Fiscal Week']=df_print_circ['Fiscal Week'].apply(lambda x: int(x.split(\"(\")[0]))\n",
    "df_print_circ=pd.merge(df_print_circ,df_week_2020Q1,on=\"Fiscal Week\")\n",
    "df_print_circ=df_print_circ.rename(columns={\"Impressions\":\"impression\",\"Investment\":\"cost\"})\n",
    "df_print_circ['click']=0\n",
    "df_print_circ['cost']=df_print_circ['cost'].astype(float)\n",
    "df_print_circ['media']=\"Circulation\"\n",
    "df_print_circ['submedia']=\"xx\"\n",
    "df_print_circ['placement']=\"xx\"\n",
    "\n",
    "df_print_circ=df_print_circ[TMR_up_to_2019Q4_no_DMA.columns.tolist()]\n",
    "print(df_print_circ.shape)\n",
    "print(df_print_circ['week date'].nunique(),df_print_circ['week date'].min(),df_print_circ['week date'].max())\n",
    "print(pd.to_datetime(df_print_circ['week date']).dt.day_name().unique())\n",
    "\n",
    "# Update for this quarter some circulation was printed but not delivered\n",
    "df_print_circ['cost']=np.where(df_print_circ['impression']==0,0,df_print_circ['cost'])"
   ]
  },
  {
   "cell_type": "markdown",
   "metadata": {},
   "source": [
    "# Others from Datorama"
   ]
  },
  {
   "cell_type": "code",
   "execution_count": 26,
   "metadata": {},
   "outputs": [
    {
     "data": {
      "text/plain": [
       "['./input_2020Q1/datorama_files/Digital Weekly Media Data  (Search).csv',\n",
       " './input_2020Q1/datorama_files/Digital Weekly Media Data without Placement (excluded FB).csv',\n",
       " './input_2020Q1/datorama_files/E-circular_Flipp & Print Circular & Email by Week.csv',\n",
       " './input_2020Q1/datorama_files/Social Daily Media Data.csv']"
      ]
     },
     "execution_count": 26,
     "metadata": {},
     "output_type": "execute_result"
    }
   ],
   "source": [
    "list_datorama_files=glob.glob(\"./input_2020Q1/datorama_files/*.csv\")\n",
    "list_datorama_files.sort()\n",
    "list_datorama_files"
   ]
  },
  {
   "cell_type": "code",
   "execution_count": 27,
   "metadata": {},
   "outputs": [
    {
     "data": {
      "text/html": [
       "<div>\n",
       "<style scoped>\n",
       "    .dataframe tbody tr th:only-of-type {\n",
       "        vertical-align: middle;\n",
       "    }\n",
       "\n",
       "    .dataframe tbody tr th {\n",
       "        vertical-align: top;\n",
       "    }\n",
       "\n",
       "    .dataframe thead th {\n",
       "        text-align: right;\n",
       "    }\n",
       "</style>\n",
       "<table border=\"1\" class=\"dataframe\">\n",
       "  <thead>\n",
       "    <tr style=\"text-align: right;\">\n",
       "      <th></th>\n",
       "      <th>week</th>\n",
       "      <th>media</th>\n",
       "      <th>submedia</th>\n",
       "      <th>placement</th>\n",
       "      <th>impression</th>\n",
       "      <th>click</th>\n",
       "      <th>cost</th>\n",
       "    </tr>\n",
       "  </thead>\n",
       "  <tbody>\n",
       "    <tr>\n",
       "      <th>0</th>\n",
       "      <td>2020-02-02 00:00</td>\n",
       "      <td>Digital</td>\n",
       "      <td>PLA</td>\n",
       "      <td>Bing</td>\n",
       "      <td>22817.0</td>\n",
       "      <td>532.0</td>\n",
       "      <td>1157.74</td>\n",
       "    </tr>\n",
       "    <tr>\n",
       "      <th>7</th>\n",
       "      <td>2020-02-09 00:00</td>\n",
       "      <td>Digital</td>\n",
       "      <td>PLA</td>\n",
       "      <td>Bing</td>\n",
       "      <td>54035.0</td>\n",
       "      <td>1184.0</td>\n",
       "      <td>2376.13</td>\n",
       "    </tr>\n",
       "  </tbody>\n",
       "</table>\n",
       "</div>"
      ],
      "text/plain": [
       "               week    media submedia placement  impression   click     cost\n",
       "0  2020-02-02 00:00  Digital      PLA      Bing     22817.0   532.0  1157.74\n",
       "7  2020-02-09 00:00  Digital      PLA      Bing     54035.0  1184.0  2376.13"
      ]
     },
     "execution_count": 27,
     "metadata": {},
     "output_type": "execute_result"
    }
   ],
   "source": [
    "df_1_search=pd.read_csv(list_datorama_files[0])\n",
    "df_1_search.columns=[x.lower() for x in df_1_search.columns.tolist()]\n",
    "df_1_search=df_1_search.rename(columns={\"impressions\":\"impression\",\"clicks\":\"click\",\"media cost\":\"cost\"})\n",
    "df_1_search=df_1_search[['week','media','submedia','placement','impression','click','cost']]\n",
    "df_1_search['submedia']=df_1_search['submedia'].replace({\"Paid SEM Campaign\":\"SEM\"}).replace({\"Shopping Campaign\":\"PLA\"})\n",
    "df_1_search=df_1_search.sort_values(['media','submedia','placement','week'])\n",
    "df_1_search.head(2)"
   ]
  },
  {
   "cell_type": "code",
   "execution_count": 28,
   "metadata": {},
   "outputs": [
    {
     "name": "stderr",
     "output_type": "stream",
     "text": [
      "/opt/anaconda3/lib/python3.7/site-packages/ipykernel_launcher.py:7: SettingWithCopyWarning: \n",
      "A value is trying to be set on a copy of a slice from a DataFrame.\n",
      "Try using .loc[row_indexer,col_indexer] = value instead\n",
      "\n",
      "See the caveats in the documentation: https://pandas.pydata.org/pandas-docs/stable/user_guide/indexing.html#returning-a-view-versus-a-copy\n",
      "  import sys\n",
      "/opt/anaconda3/lib/python3.7/site-packages/ipykernel_launcher.py:8: SettingWithCopyWarning: \n",
      "A value is trying to be set on a copy of a slice from a DataFrame.\n",
      "Try using .loc[row_indexer,col_indexer] = value instead\n",
      "\n",
      "See the caveats in the documentation: https://pandas.pydata.org/pandas-docs/stable/user_guide/indexing.html#returning-a-view-versus-a-copy\n",
      "  \n",
      "/opt/anaconda3/lib/python3.7/site-packages/ipykernel_launcher.py:17: SettingWithCopyWarning: \n",
      "A value is trying to be set on a copy of a slice from a DataFrame.\n",
      "Try using .loc[row_indexer,col_indexer] = value instead\n",
      "\n",
      "See the caveats in the documentation: https://pandas.pydata.org/pandas-docs/stable/user_guide/indexing.html#returning-a-view-versus-a-copy\n",
      "/opt/anaconda3/lib/python3.7/site-packages/ipykernel_launcher.py:18: SettingWithCopyWarning: \n",
      "A value is trying to be set on a copy of a slice from a DataFrame.\n",
      "Try using .loc[row_indexer,col_indexer] = value instead\n",
      "\n",
      "See the caveats in the documentation: https://pandas.pydata.org/pandas-docs/stable/user_guide/indexing.html#returning-a-view-versus-a-copy\n"
     ]
    },
    {
     "data": {
      "text/html": [
       "<div>\n",
       "<style scoped>\n",
       "    .dataframe tbody tr th:only-of-type {\n",
       "        vertical-align: middle;\n",
       "    }\n",
       "\n",
       "    .dataframe tbody tr th {\n",
       "        vertical-align: top;\n",
       "    }\n",
       "\n",
       "    .dataframe thead th {\n",
       "        text-align: right;\n",
       "    }\n",
       "</style>\n",
       "<table border=\"1\" class=\"dataframe\">\n",
       "  <thead>\n",
       "    <tr style=\"text-align: right;\">\n",
       "      <th></th>\n",
       "      <th>week</th>\n",
       "      <th>media</th>\n",
       "      <th>submedia</th>\n",
       "      <th>placement</th>\n",
       "      <th>impression</th>\n",
       "      <th>click</th>\n",
       "      <th>cost</th>\n",
       "    </tr>\n",
       "  </thead>\n",
       "  <tbody>\n",
       "    <tr>\n",
       "      <th>5</th>\n",
       "      <td>2020-04-26 00:00</td>\n",
       "      <td>Digital</td>\n",
       "      <td>YouTube</td>\n",
       "      <td>Multiplatform Video</td>\n",
       "      <td>0.0</td>\n",
       "      <td>0.0</td>\n",
       "      <td>81146.498788</td>\n",
       "    </tr>\n",
       "    <tr>\n",
       "      <th>7</th>\n",
       "      <td>2020-04-26 00:00</td>\n",
       "      <td>Digital</td>\n",
       "      <td>YouTube</td>\n",
       "      <td>Programmatic Video</td>\n",
       "      <td>14513759.0</td>\n",
       "      <td>14234.0</td>\n",
       "      <td>0.000000</td>\n",
       "    </tr>\n",
       "  </tbody>\n",
       "</table>\n",
       "</div>"
      ],
      "text/plain": [
       "               week    media submedia            placement  impression  \\\n",
       "5  2020-04-26 00:00  Digital  YouTube  Multiplatform Video         0.0   \n",
       "7  2020-04-26 00:00  Digital  YouTube   Programmatic Video  14513759.0   \n",
       "\n",
       "     click          cost  \n",
       "5      0.0  81146.498788  \n",
       "7  14234.0      0.000000  "
      ]
     },
     "execution_count": 28,
     "metadata": {},
     "output_type": "execute_result"
    }
   ],
   "source": [
    "df_2_digital=pd.read_csv(list_datorama_files[1])\n",
    "df_2_digital.columns=[x.lower() for x in df_2_digital.columns.tolist()]\n",
    "df_2_digital=df_2_digital.rename(columns={\"impressions\":\"impression\",\"clicks\":\"click\",\"media cost\":\"cost\"})\n",
    "df_2_digital=df_2_digital[['week','media','submedia','impression','click','cost','partner','tactic']]\n",
    "\n",
    "df_2_digital_YT=df_2_digital[df_2_digital['partner']==\"YouTube\"]\n",
    "df_2_digital_YT['placement']=df_2_digital_YT['submedia']\n",
    "df_2_digital_YT['submedia']=\"YouTube\"\n",
    "df_2_digital_YT=df_2_digital_YT[df_1_search.columns.tolist()]\n",
    "\n",
    "df_2_digital_Pandora=df_2_digital[df_2_digital['partner']==\"Pandora\"]\n",
    "df_2_digital_Pandora['placement']=df_2_digital_Pandora['submedia']\n",
    "df_2_digital_Pandora['submedia']=\"Pandora\"\n",
    "df_2_digital_Pandora=df_2_digital_Pandora[df_1_search.columns.tolist()]\n",
    "\n",
    "df_2_digital_Programmatic=df_2_digital[~df_2_digital['partner'].isin([\"YouTube\",'Pandora'])]\n",
    "df_2_digital_Programmatic['placement']=df_2_digital_Programmatic['submedia']\n",
    "df_2_digital_Programmatic['submedia']=\"Programmatic\"\n",
    "df_2_digital_Programmatic=df_2_digital_Programmatic[df_1_search.columns.tolist()]\n",
    "\n",
    "df_2_digital=df_2_digital_YT.append(df_2_digital_Pandora).append(df_2_digital_Programmatic)\n",
    "\n",
    "\n",
    "df_2_digital.head(2)"
   ]
  },
  {
   "cell_type": "code",
   "execution_count": 29,
   "metadata": {},
   "outputs": [
    {
     "data": {
      "text/html": [
       "<div>\n",
       "<style scoped>\n",
       "    .dataframe tbody tr th:only-of-type {\n",
       "        vertical-align: middle;\n",
       "    }\n",
       "\n",
       "    .dataframe tbody tr th {\n",
       "        vertical-align: top;\n",
       "    }\n",
       "\n",
       "    .dataframe thead th {\n",
       "        text-align: right;\n",
       "    }\n",
       "</style>\n",
       "<table border=\"1\" class=\"dataframe\">\n",
       "  <thead>\n",
       "    <tr style=\"text-align: right;\">\n",
       "      <th></th>\n",
       "      <th>week</th>\n",
       "      <th>media</th>\n",
       "      <th>submedia</th>\n",
       "      <th>placement</th>\n",
       "      <th>impression</th>\n",
       "      <th>click</th>\n",
       "      <th>cost</th>\n",
       "    </tr>\n",
       "  </thead>\n",
       "  <tbody>\n",
       "    <tr>\n",
       "      <th>0</th>\n",
       "      <td>2020-04-26 00:00</td>\n",
       "      <td>Email</td>\n",
       "      <td>xx</td>\n",
       "      <td>xx</td>\n",
       "      <td>197929448.0</td>\n",
       "      <td>2309286.0</td>\n",
       "      <td>90213.178160</td>\n",
       "    </tr>\n",
       "    <tr>\n",
       "      <th>1</th>\n",
       "      <td>2020-04-26 00:00</td>\n",
       "      <td>Digital</td>\n",
       "      <td>Flipp</td>\n",
       "      <td>Hosted</td>\n",
       "      <td>231812.0</td>\n",
       "      <td>201120.0</td>\n",
       "      <td>0.000000</td>\n",
       "    </tr>\n",
       "    <tr>\n",
       "      <th>2</th>\n",
       "      <td>2020-04-19 00:00</td>\n",
       "      <td>Email</td>\n",
       "      <td>xx</td>\n",
       "      <td>xx</td>\n",
       "      <td>165367801.0</td>\n",
       "      <td>1770414.0</td>\n",
       "      <td>75372.083559</td>\n",
       "    </tr>\n",
       "  </tbody>\n",
       "</table>\n",
       "</div>"
      ],
      "text/plain": [
       "               week    media submedia placement   impression      click  \\\n",
       "0  2020-04-26 00:00    Email       xx        xx  197929448.0  2309286.0   \n",
       "1  2020-04-26 00:00  Digital    Flipp    Hosted     231812.0   201120.0   \n",
       "2  2020-04-19 00:00    Email       xx        xx  165367801.0  1770414.0   \n",
       "\n",
       "           cost  \n",
       "0  90213.178160  \n",
       "1      0.000000  \n",
       "2  75372.083559  "
      ]
     },
     "execution_count": 29,
     "metadata": {},
     "output_type": "execute_result"
    }
   ],
   "source": [
    "df_3_email_ecirc=pd.read_csv(list_datorama_files[2])\n",
    "df_3_email_ecirc.columns=[x.lower() for x in df_3_email_ecirc.columns.tolist()]\n",
    "df_3_email_ecirc=df_3_email_ecirc.rename(columns={\"impressions\":\"impression\",\"clicks\":\"click\",\"media cost\":\"cost\"})\n",
    "df_3_email_ecirc=df_3_email_ecirc[['week','media','placement','impression','click','cost']]\n",
    "df_3_email_ecirc.insert(2,\"submedia\",np.nan)\n",
    "df_3_email_ecirc['submedia']=np.where(df_3_email_ecirc['media']==\"Digital\",\"Flipp\",\"xx\")\n",
    "df_3_email_ecirc['placement']=np.where(df_3_email_ecirc['media']==\"Digital\",df_3_email_ecirc['placement'],\"xx\")\n",
    "\n",
    "df_3_email_ecirc.head(3)"
   ]
  },
  {
   "cell_type": "code",
   "execution_count": 30,
   "metadata": {},
   "outputs": [
    {
     "data": {
      "text/html": [
       "<div>\n",
       "<style scoped>\n",
       "    .dataframe tbody tr th:only-of-type {\n",
       "        vertical-align: middle;\n",
       "    }\n",
       "\n",
       "    .dataframe tbody tr th {\n",
       "        vertical-align: top;\n",
       "    }\n",
       "\n",
       "    .dataframe thead th {\n",
       "        text-align: right;\n",
       "    }\n",
       "</style>\n",
       "<table border=\"1\" class=\"dataframe\">\n",
       "  <thead>\n",
       "    <tr style=\"text-align: right;\">\n",
       "      <th></th>\n",
       "      <th>week</th>\n",
       "      <th>media</th>\n",
       "      <th>submedia</th>\n",
       "      <th>placement</th>\n",
       "      <th>impression</th>\n",
       "      <th>click</th>\n",
       "      <th>cost</th>\n",
       "    </tr>\n",
       "  </thead>\n",
       "  <tbody>\n",
       "    <tr>\n",
       "      <th>0</th>\n",
       "      <td>2020-02-02 00:00</td>\n",
       "      <td>Digital</td>\n",
       "      <td>Social</td>\n",
       "      <td>Facebook</td>\n",
       "      <td>8431154.0</td>\n",
       "      <td>24568.0</td>\n",
       "      <td>55517.76</td>\n",
       "    </tr>\n",
       "    <tr>\n",
       "      <th>1</th>\n",
       "      <td>2020-02-02 00:00</td>\n",
       "      <td>Digital</td>\n",
       "      <td>Social</td>\n",
       "      <td>Pinterest</td>\n",
       "      <td>535341.0</td>\n",
       "      <td>2094.0</td>\n",
       "      <td>2795.37</td>\n",
       "    </tr>\n",
       "    <tr>\n",
       "      <th>2</th>\n",
       "      <td>2020-02-02 00:00</td>\n",
       "      <td>Digital</td>\n",
       "      <td>Social</td>\n",
       "      <td>Pinterest</td>\n",
       "      <td>13544.0</td>\n",
       "      <td>22.0</td>\n",
       "      <td>0.00</td>\n",
       "    </tr>\n",
       "  </tbody>\n",
       "</table>\n",
       "</div>"
      ],
      "text/plain": [
       "               week    media submedia  placement  impression    click  \\\n",
       "0  2020-02-02 00:00  Digital   Social   Facebook   8431154.0  24568.0   \n",
       "1  2020-02-02 00:00  Digital   Social  Pinterest    535341.0   2094.0   \n",
       "2  2020-02-02 00:00  Digital   Social  Pinterest     13544.0     22.0   \n",
       "\n",
       "       cost  \n",
       "0  55517.76  \n",
       "1   2795.37  \n",
       "2      0.00  "
      ]
     },
     "execution_count": 30,
     "metadata": {},
     "output_type": "execute_result"
    }
   ],
   "source": [
    "df_4_social=pd.read_csv(list_datorama_files[3])\n",
    "df_4_social.columns=[x.lower() for x in df_4_social.columns.tolist()]\n",
    "df_4_social=df_4_social.rename(columns={\"impressions\":\"impression\",\"clicks\":\"click\",\"media cost\":\"cost\"})\n",
    "\n",
    "df_4_social=df_4_social[['week','media','submedia','partner','impression','click','cost']]\n",
    "df_4_social=df_4_social.rename(columns={\"partner\":\"placement\"})\n",
    "df_4_social.head(3)"
   ]
  },
  {
   "cell_type": "code",
   "execution_count": 31,
   "metadata": {},
   "outputs": [
    {
     "name": "stdout",
     "output_type": "stream",
     "text": [
      "['Sunday']\n"
     ]
    },
    {
     "data": {
      "text/html": [
       "<div>\n",
       "<style scoped>\n",
       "    .dataframe tbody tr th:only-of-type {\n",
       "        vertical-align: middle;\n",
       "    }\n",
       "\n",
       "    .dataframe tbody tr th {\n",
       "        vertical-align: top;\n",
       "    }\n",
       "\n",
       "    .dataframe thead th {\n",
       "        text-align: right;\n",
       "    }\n",
       "</style>\n",
       "<table border=\"1\" class=\"dataframe\">\n",
       "  <thead>\n",
       "    <tr style=\"text-align: right;\">\n",
       "      <th></th>\n",
       "      <th>week date</th>\n",
       "      <th>media</th>\n",
       "      <th>submedia</th>\n",
       "      <th>placement</th>\n",
       "      <th>impression</th>\n",
       "      <th>click</th>\n",
       "      <th>cost</th>\n",
       "    </tr>\n",
       "  </thead>\n",
       "  <tbody>\n",
       "    <tr>\n",
       "      <th>0</th>\n",
       "      <td>2020-02-02</td>\n",
       "      <td>Digital</td>\n",
       "      <td>PLA</td>\n",
       "      <td>Bing</td>\n",
       "      <td>22817.0</td>\n",
       "      <td>532.0</td>\n",
       "      <td>1157.74</td>\n",
       "    </tr>\n",
       "    <tr>\n",
       "      <th>7</th>\n",
       "      <td>2020-02-09</td>\n",
       "      <td>Digital</td>\n",
       "      <td>PLA</td>\n",
       "      <td>Bing</td>\n",
       "      <td>54035.0</td>\n",
       "      <td>1184.0</td>\n",
       "      <td>2376.13</td>\n",
       "    </tr>\n",
       "  </tbody>\n",
       "</table>\n",
       "</div>"
      ],
      "text/plain": [
       "    week date    media submedia placement  impression   click     cost\n",
       "0  2020-02-02  Digital      PLA      Bing     22817.0   532.0  1157.74\n",
       "7  2020-02-09  Digital      PLA      Bing     54035.0  1184.0  2376.13"
      ]
     },
     "execution_count": 31,
     "metadata": {},
     "output_type": "execute_result"
    }
   ],
   "source": [
    "df_all_digital_from_datorama=pd.concat([df_1_search,df_2_digital,df_3_email_ecirc,df_4_social])\n",
    "df_all_digital_from_datorama['week']=df_all_digital_from_datorama['week'].apply(lambda x: x.split(\" \")[0])\n",
    "df_all_digital_from_datorama=df_all_digital_from_datorama.rename(columns={\"week\":\"week date\"})\n",
    "\n",
    "# QC week date as \n",
    "df_all_digital_from_datorama['week_as_date'] = pd.to_datetime(df_all_digital_from_datorama['week date'])\n",
    "df_all_digital_from_datorama['day_of_week'] = df_all_digital_from_datorama['week_as_date'].dt.day_name()\n",
    "print(df_all_digital_from_datorama['day_of_week'].unique())\n",
    "del df_all_digital_from_datorama['week_as_date']\n",
    "del df_all_digital_from_datorama['day_of_week']\n",
    "\n",
    "df_all_digital_from_datorama.head(2)"
   ]
  },
  {
   "cell_type": "code",
   "execution_count": 32,
   "metadata": {},
   "outputs": [
    {
     "name": "stdout",
     "output_type": "stream",
     "text": [
      "13\n",
      "2020-02-02\n",
      "2020-04-26\n"
     ]
    }
   ],
   "source": [
    "print(df_all_digital_from_datorama['week date'].nunique())\n",
    "print(df_all_digital_from_datorama['week date'].min())\n",
    "print(df_all_digital_from_datorama['week date'].max())"
   ]
  },
  {
   "cell_type": "markdown",
   "metadata": {},
   "source": [
    "# Cumulative"
   ]
  },
  {
   "cell_type": "code",
   "execution_count": 33,
   "metadata": {},
   "outputs": [
    {
     "name": "stdout",
     "output_type": "stream",
     "text": [
      "13\n",
      "2020-02-02\n",
      "2020-04-26\n"
     ]
    }
   ],
   "source": [
    "Q1_2020_only_TMR=df_all_digital_from_datorama.append(df_print_circ).append(TV_TMR_data)\n",
    "Q1_2020_only_TMR['week date']=Q1_2020_only_TMR['week date'].astype(str)\n",
    "print(Q1_2020_only_TMR['week date'].nunique())\n",
    "print(Q1_2020_only_TMR['week date'].min())\n",
    "print(Q1_2020_only_TMR['week date'].max())\n"
   ]
  },
  {
   "cell_type": "code",
   "execution_count": 34,
   "metadata": {},
   "outputs": [
    {
     "name": "stdout",
     "output_type": "stream",
     "text": [
      "(13, 7)\n",
      "2132375888.0 18609176.0 522623.9999999999\n"
     ]
    },
    {
     "name": "stderr",
     "output_type": "stream",
     "text": [
      "/opt/anaconda3/lib/python3.7/site-packages/ipykernel_launcher.py:9: SettingWithCopyWarning: \n",
      "A value is trying to be set on a copy of a slice from a DataFrame.\n",
      "Try using .loc[row_indexer,col_indexer] = value instead\n",
      "\n",
      "See the caveats in the documentation: https://pandas.pydata.org/pandas-docs/stable/user_guide/indexing.html#returning-a-view-versus-a-copy\n",
      "  if __name__ == '__main__':\n"
     ]
    }
   ],
   "source": [
    "# Update email cost based on the confirmation from the client\n",
    "\n",
    "# Email:  BL QC of non-Media Storm media for 2019 Q2 from Bryan Kipp, 2020-12-15 5:29 PM\n",
    "Q1_2020_only_TMR_email=Q1_2020_only_TMR[Q1_2020_only_TMR['media']==\"Email\"]\n",
    "\n",
    "cost_q1_total=522624\n",
    "cost_q1_impression=Q1_2020_only_TMR_email['impression'].sum()\n",
    "print(Q1_2020_only_TMR_email.shape)\n",
    "Q1_2020_only_TMR_email['cost']=Q1_2020_only_TMR_email['impression']*cost_q1_total/cost_q1_impression\n",
    "\n",
    "print(Q1_2020_only_TMR_email['impression'].sum(),Q1_2020_only_TMR_email['click'].sum(),Q1_2020_only_TMR_email['cost'].sum())\n"
   ]
  },
  {
   "cell_type": "code",
   "execution_count": 35,
   "metadata": {},
   "outputs": [],
   "source": [
    "Q1_2020_only_TMR_others=Q1_2020_only_TMR[Q1_2020_only_TMR['media']!=\"Email\"]\n",
    "Q1_2020_only_TMR=Q1_2020_only_TMR_others.append(Q1_2020_only_TMR_email)\n",
    "#\n",
    "Cum_Q1_2020_TMR=TMR_up_to_2019Q4.append(Q1_2020_only_TMR)"
   ]
  },
  {
   "cell_type": "code",
   "execution_count": 36,
   "metadata": {},
   "outputs": [
    {
     "name": "stdout",
     "output_type": "stream",
     "text": [
      "2020-12-16 21:52:14.939420\n"
     ]
    }
   ],
   "source": [
    "try:\n",
    "    os.stat(\"/mnt/clients/juba/hqjubaapp02/sharefolder/Media/TMR/TMR_data/Up_to_2020Q1/output/\")\n",
    "except:\n",
    "    os.mkdir(\"/mnt/clients/juba/hqjubaapp02/sharefolder/Media/TMR/TMR_data/Up_to_2020Q1/output/\")\n",
    "\n",
    "Q1_2020_only_TMR.to_csv(\"/mnt/clients/juba/hqjubaapp02/sharefolder/Media/TMR/TMR_data/Up_to_2020Q1/output/BL_MMM_2020Q1_Only_JL_\"+str(datetime.datetime.now().date())+\".csv\",index=False)\n",
    "Cum_Q1_2020_TMR.to_csv(\"/mnt/clients/juba/hqjubaapp02/sharefolder/Media/TMR/TMR_data/Up_to_2020Q1/output/BL_MMM_long_cumu_up_to_2020Q1_JL_\"+str(datetime.datetime.now().date())+\".csv\",index=False)\n",
    "print(datetime.datetime.now())"
   ]
  }
 ],
 "metadata": {
  "kernelspec": {
   "display_name": "Python 3",
   "language": "python",
   "name": "python3"
  },
  "language_info": {
   "codemirror_mode": {
    "name": "ipython",
    "version": 3
   },
   "file_extension": ".py",
   "mimetype": "text/x-python",
   "name": "python",
   "nbconvert_exporter": "python",
   "pygments_lexer": "ipython3",
   "version": "3.7.6"
  }
 },
 "nbformat": 4,
 "nbformat_minor": 2
}
