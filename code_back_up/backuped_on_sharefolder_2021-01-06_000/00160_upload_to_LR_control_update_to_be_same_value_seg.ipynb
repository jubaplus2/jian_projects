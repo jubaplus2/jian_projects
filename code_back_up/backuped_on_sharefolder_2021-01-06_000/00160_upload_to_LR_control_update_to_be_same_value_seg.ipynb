{
 "cells": [
  {
   "cell_type": "code",
   "execution_count": 1,
   "metadata": {},
   "outputs": [
    {
     "name": "stdout",
     "output_type": "stream",
     "text": [
      "/home/jian/Projects/Big_Lots/Live_Ramp/Quarterly_Update_2020Q3\n",
      "2020-08-04 10:43:54.827467\n"
     ]
    }
   ],
   "source": [
    "import glob\n",
    "import os\n",
    "import paramiko\n",
    "import pandas as pd\n",
    "import numpy as np\n",
    "import datetime\n",
    "\n",
    "print(os.getcwd())\n",
    "print(datetime.datetime.now())"
   ]
  },
  {
   "cell_type": "code",
   "execution_count": 2,
   "metadata": {},
   "outputs": [
    {
     "data": {
      "text/plain": [
       "40"
      ]
     },
     "execution_count": 2,
     "metadata": {},
     "output_type": "execute_result"
    }
   ],
   "source": [
    "quarter=\"2020Q3\"\n",
    "writer_upload_files_folder=\"/home/jian/Projects/Big_Lots/Live_Ramp/Quarterly_Update_%s/upload_files/\"%quarter\n",
    "try:\n",
    "    os.stat(writer_upload_files_folder)\n",
    "except:\n",
    "    os.mkdir(writer_upload_files_folder)\n",
    "list_all=glob.glob(\"/home/jian/Projects/Big_Lots/Live_Ramp/Quarterly_Update_%s/wanted_segment_files/*\"%quarter)\n",
    "len(list_all)"
   ]
  },
  {
   "cell_type": "code",
   "execution_count": 3,
   "metadata": {},
   "outputs": [
    {
     "name": "stdout",
     "output_type": "stream",
     "text": [
      "20\n"
     ]
    }
   ],
   "source": [
    "list_all_C=[x for x in list_all if os.path.basename(x)[0]==\"C\"]\n",
    "\n",
    "print(len(list_all_C))"
   ]
  },
  {
   "cell_type": "code",
   "execution_count": 4,
   "metadata": {},
   "outputs": [
    {
     "data": {
      "text/html": [
       "<div>\n",
       "<style scoped>\n",
       "    .dataframe tbody tr th:only-of-type {\n",
       "        vertical-align: middle;\n",
       "    }\n",
       "\n",
       "    .dataframe tbody tr th {\n",
       "        vertical-align: top;\n",
       "    }\n",
       "\n",
       "    .dataframe thead th {\n",
       "        text-align: right;\n",
       "    }\n",
       "</style>\n",
       "<table border=\"1\" class=\"dataframe\">\n",
       "  <thead>\n",
       "    <tr style=\"text-align: right;\">\n",
       "      <th></th>\n",
       "      <th>customer_id_hashed</th>\n",
       "      <th>email_address_hash</th>\n",
       "      <th>Store_Type</th>\n",
       "      <th>HML_Group</th>\n",
       "      <th>Status</th>\n",
       "      <th>EmailSub</th>\n",
       "      <th>segment_2020Q3</th>\n",
       "    </tr>\n",
       "  </thead>\n",
       "  <tbody>\n",
       "    <tr>\n",
       "      <th>0</th>\n",
       "      <td>bbb02589dc717718c03480d9424d8450f33a6e158072e5...</td>\n",
       "      <td>f11f2329b2b066b9a039931c0f1963ed8ff221c352be72...</td>\n",
       "      <td>Legacy</td>\n",
       "      <td>H</td>\n",
       "      <td>Active</td>\n",
       "      <td>N</td>\n",
       "      <td>C_Legacy_H_Active_N</td>\n",
       "    </tr>\n",
       "    <tr>\n",
       "      <th>1</th>\n",
       "      <td>7c058afa0a6e15371f0b27c39228ff3b5bc25dd1c46174...</td>\n",
       "      <td>d2c663a798bfb99e05b0845c6285390f6e04e20de2ac81...</td>\n",
       "      <td>Legacy</td>\n",
       "      <td>H</td>\n",
       "      <td>Active</td>\n",
       "      <td>N</td>\n",
       "      <td>C_Legacy_H_Active_N</td>\n",
       "    </tr>\n",
       "    <tr>\n",
       "      <th>2</th>\n",
       "      <td>270071128fc233e866c1990f0528d6f8583afee65675c7...</td>\n",
       "      <td>2eaf012beaf55622f3378708e2badcdc7ee5e73f72d8c3...</td>\n",
       "      <td>Legacy</td>\n",
       "      <td>H</td>\n",
       "      <td>Active</td>\n",
       "      <td>N</td>\n",
       "      <td>C_Legacy_H_Active_N</td>\n",
       "    </tr>\n",
       "    <tr>\n",
       "      <th>3</th>\n",
       "      <td>669c72b64c5068f1a9c3b64a6faf9b2052025264ec4b0d...</td>\n",
       "      <td>b662fdeae7d8558587123e915573234da967ffde456210...</td>\n",
       "      <td>Legacy</td>\n",
       "      <td>H</td>\n",
       "      <td>Active</td>\n",
       "      <td>N</td>\n",
       "      <td>C_Legacy_H_Active_N</td>\n",
       "    </tr>\n",
       "    <tr>\n",
       "      <th>4</th>\n",
       "      <td>4d6fb5ab42bfe61a00618a6ce811a2d1214a32f78c94f4...</td>\n",
       "      <td>58869f80a66136f4531136259dbb9ac6ddc0925d7fa27c...</td>\n",
       "      <td>Legacy</td>\n",
       "      <td>H</td>\n",
       "      <td>Active</td>\n",
       "      <td>N</td>\n",
       "      <td>C_Legacy_H_Active_N</td>\n",
       "    </tr>\n",
       "    <tr>\n",
       "      <th>5</th>\n",
       "      <td>5abc69fd6047c618367245164b8596b3aaf47ceef003f6...</td>\n",
       "      <td>9663d00f0d0126c9ec62daa344165fa7730fa0118a63e3...</td>\n",
       "      <td>Legacy</td>\n",
       "      <td>H</td>\n",
       "      <td>Active</td>\n",
       "      <td>N</td>\n",
       "      <td>C_Legacy_H_Active_N</td>\n",
       "    </tr>\n",
       "    <tr>\n",
       "      <th>6</th>\n",
       "      <td>1ea15eef4a77d5627e416f6419ee96a2cd3f3c10ddf410...</td>\n",
       "      <td>da4a0aba28f345553725a7517fcea4064c8a5c3e518fbe...</td>\n",
       "      <td>Legacy</td>\n",
       "      <td>H</td>\n",
       "      <td>Active</td>\n",
       "      <td>N</td>\n",
       "      <td>C_Legacy_H_Active_N</td>\n",
       "    </tr>\n",
       "    <tr>\n",
       "      <th>7</th>\n",
       "      <td>7c8ff9aed48bf562fec04e39b1934ccc7a4234ab6f5823...</td>\n",
       "      <td>e429706c833beae9c4145156119bcc450d15c8ef39cfa5...</td>\n",
       "      <td>Legacy</td>\n",
       "      <td>H</td>\n",
       "      <td>Active</td>\n",
       "      <td>N</td>\n",
       "      <td>C_Legacy_H_Active_N</td>\n",
       "    </tr>\n",
       "    <tr>\n",
       "      <th>8</th>\n",
       "      <td>d073e952c77cbb93571325ab05deedb922b17a6e7bc2a3...</td>\n",
       "      <td>dafb7a5b423fc2b0a8e151c10613050ea696a600d4300a...</td>\n",
       "      <td>Legacy</td>\n",
       "      <td>H</td>\n",
       "      <td>Active</td>\n",
       "      <td>N</td>\n",
       "      <td>C_Legacy_H_Active_N</td>\n",
       "    </tr>\n",
       "    <tr>\n",
       "      <th>9</th>\n",
       "      <td>632d75b0c2dacc4c0939c9895d9537f3806e336d2269d3...</td>\n",
       "      <td>77df3ee6d6714f5370bf0f39b5ba22c85e550b0fe6db4e...</td>\n",
       "      <td>Legacy</td>\n",
       "      <td>H</td>\n",
       "      <td>Active</td>\n",
       "      <td>N</td>\n",
       "      <td>C_Legacy_H_Active_N</td>\n",
       "    </tr>\n",
       "  </tbody>\n",
       "</table>\n",
       "</div>"
      ],
      "text/plain": [
       "                                  customer_id_hashed  \\\n",
       "0  bbb02589dc717718c03480d9424d8450f33a6e158072e5...   \n",
       "1  7c058afa0a6e15371f0b27c39228ff3b5bc25dd1c46174...   \n",
       "2  270071128fc233e866c1990f0528d6f8583afee65675c7...   \n",
       "3  669c72b64c5068f1a9c3b64a6faf9b2052025264ec4b0d...   \n",
       "4  4d6fb5ab42bfe61a00618a6ce811a2d1214a32f78c94f4...   \n",
       "5  5abc69fd6047c618367245164b8596b3aaf47ceef003f6...   \n",
       "6  1ea15eef4a77d5627e416f6419ee96a2cd3f3c10ddf410...   \n",
       "7  7c8ff9aed48bf562fec04e39b1934ccc7a4234ab6f5823...   \n",
       "8  d073e952c77cbb93571325ab05deedb922b17a6e7bc2a3...   \n",
       "9  632d75b0c2dacc4c0939c9895d9537f3806e336d2269d3...   \n",
       "\n",
       "                                  email_address_hash Store_Type HML_Group  \\\n",
       "0  f11f2329b2b066b9a039931c0f1963ed8ff221c352be72...     Legacy         H   \n",
       "1  d2c663a798bfb99e05b0845c6285390f6e04e20de2ac81...     Legacy         H   \n",
       "2  2eaf012beaf55622f3378708e2badcdc7ee5e73f72d8c3...     Legacy         H   \n",
       "3  b662fdeae7d8558587123e915573234da967ffde456210...     Legacy         H   \n",
       "4  58869f80a66136f4531136259dbb9ac6ddc0925d7fa27c...     Legacy         H   \n",
       "5  9663d00f0d0126c9ec62daa344165fa7730fa0118a63e3...     Legacy         H   \n",
       "6  da4a0aba28f345553725a7517fcea4064c8a5c3e518fbe...     Legacy         H   \n",
       "7  e429706c833beae9c4145156119bcc450d15c8ef39cfa5...     Legacy         H   \n",
       "8  dafb7a5b423fc2b0a8e151c10613050ea696a600d4300a...     Legacy         H   \n",
       "9  77df3ee6d6714f5370bf0f39b5ba22c85e550b0fe6db4e...     Legacy         H   \n",
       "\n",
       "   Status EmailSub       segment_2020Q3  \n",
       "0  Active        N  C_Legacy_H_Active_N  \n",
       "1  Active        N  C_Legacy_H_Active_N  \n",
       "2  Active        N  C_Legacy_H_Active_N  \n",
       "3  Active        N  C_Legacy_H_Active_N  \n",
       "4  Active        N  C_Legacy_H_Active_N  \n",
       "5  Active        N  C_Legacy_H_Active_N  \n",
       "6  Active        N  C_Legacy_H_Active_N  \n",
       "7  Active        N  C_Legacy_H_Active_N  \n",
       "8  Active        N  C_Legacy_H_Active_N  \n",
       "9  Active        N  C_Legacy_H_Active_N  "
      ]
     },
     "execution_count": 4,
     "metadata": {},
     "output_type": "execute_result"
    }
   ],
   "source": [
    "pd.read_csv(list_all_C[0],nrows=10)"
   ]
  },
  {
   "cell_type": "code",
   "execution_count": 5,
   "metadata": {},
   "outputs": [
    {
     "name": "stdout",
     "output_type": "stream",
     "text": [
      "2020-08-04 10:45:55.246631 (599982, 3)\n"
     ]
    }
   ],
   "source": [
    "df_aggregated_control=pd.DataFrame()\n",
    "\n",
    "for file in list_all_C:\n",
    "    df=pd.read_csv(file,dtype=str,usecols=['customer_id_hashed','email_address_hash','segment_%s'%quarter])\n",
    "    df_aggregated_control=df_aggregated_control.append(df)\n",
    "df_aggregated_control['segment_%s'%quarter]=\"C_aggregated_for_2020Q3\"\n",
    "df_aggregated_control.to_csv(writer_upload_files_folder+\"C_unified_quarterly_segments_RFM%s.csv\"%quarter[-4:],index=False)\n",
    "print(datetime.datetime.now(),df_aggregated_control.shape)"
   ]
  },
  {
   "cell_type": "code",
   "execution_count": 6,
   "metadata": {},
   "outputs": [],
   "source": [
    "# Upload to LR"
   ]
  },
  {
   "cell_type": "code",
   "execution_count": 7,
   "metadata": {},
   "outputs": [
    {
     "data": {
      "text/plain": [
       "['/home/jian/Projects/Big_Lots/Live_Ramp/Quarterly_Update_2020Q3/upload_files/C_unified_quarterly_segments_RFM20Q3.csv']"
      ]
     },
     "execution_count": 7,
     "metadata": {},
     "output_type": "execute_result"
    }
   ],
   "source": [
    "list_all_files_to_upload=glob.glob(writer_upload_files_folder+\"*\")\n",
    "list_all_files_to_upload=[x for x in list_all_files_to_upload if \"unified\" in x]\n",
    "list_all_files_to_upload"
   ]
  },
  {
   "cell_type": "code",
   "execution_count": 10,
   "metadata": {},
   "outputs": [],
   "source": [
    "import paramiko\n",
    "host = \"files.liveramp.com\"\n",
    "port = 22\n",
    "password = \"Biglots2018!\"\n",
    "username = \"lr-big-lots\"\n",
    "\n",
    "transport = paramiko.Transport((host, port))\n",
    "\n",
    "transport.connect(username = username, password = password)\n",
    "sftp = paramiko.SFTPClient.from_transport(transport)\n"
   ]
  },
  {
   "cell_type": "code",
   "execution_count": 11,
   "metadata": {},
   "outputs": [
    {
     "data": {
      "text/plain": [
       "['/home/jian/Projects/Big_Lots/Live_Ramp/Quarterly_Update_2020Q3/upload_files/C_unified_quarterly_segments_RFM20Q3.csv']"
      ]
     },
     "execution_count": 11,
     "metadata": {},
     "output_type": "execute_result"
    }
   ],
   "source": [
    "list_all_files_to_upload"
   ]
  },
  {
   "cell_type": "code",
   "execution_count": 12,
   "metadata": {},
   "outputs": [
    {
     "name": "stdout",
     "output_type": "stream",
     "text": [
      "2020-08-04 11:06:24.572094 /uploads/big_lots_onboarding/C_unified_quarterly_segments_RFM20Q3.csv\n",
      "All_Done: 2020-08-04 11:06:24.573972\n"
     ]
    }
   ],
   "source": [
    "for local_file in list_all_files_to_upload:\n",
    "    base_name=os.path.basename(local_file)\n",
    "    remote_name=\"/uploads/big_lots_onboarding/\"+base_name\n",
    "    sftp.put(local_file,remote_name)\n",
    "    print(datetime.datetime.now(),remote_name)\n",
    "print(\"All_Done: \"+str(datetime.datetime.now()))\n",
    "sftp.close()\n",
    "transport.close()"
   ]
  },
  {
   "cell_type": "code",
   "execution_count": null,
   "metadata": {},
   "outputs": [],
   "source": []
  }
 ],
 "metadata": {
  "kernelspec": {
   "display_name": "Python 3",
   "language": "python",
   "name": "python3"
  },
  "language_info": {
   "codemirror_mode": {
    "name": "ipython",
    "version": 3
   },
   "file_extension": ".py",
   "mimetype": "text/x-python",
   "name": "python",
   "nbconvert_exporter": "python",
   "pygments_lexer": "ipython3",
   "version": "3.6.1"
  }
 },
 "nbformat": 4,
 "nbformat_minor": 2
}
