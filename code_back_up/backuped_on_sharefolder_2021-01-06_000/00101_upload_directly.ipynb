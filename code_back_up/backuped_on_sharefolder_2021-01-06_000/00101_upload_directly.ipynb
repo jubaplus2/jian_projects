{
 "cells": [
  {
   "cell_type": "code",
   "execution_count": 1,
   "metadata": {},
   "outputs": [],
   "source": [
    "# FB and Google\n",
    "\n",
    "\n",
    "import pandas as pd\n",
    "import numpy as np\n",
    "import datetime\n",
    "import os\n",
    "import glob\n",
    "\n",
    "from facebookads.adobjects.customaudience import CustomAudience\n",
    "from facebookads.adobjects.adaccount import AdAccount\n",
    "from facebookads.api import FacebookAdsApi\n",
    "\n",
    "\n",
    "\n",
    "\n",
    "BigLotsAccount_id=\"act_271491453638620\"\n",
    "\n",
    "jian_APP_ID=\"2537704939796694\"# jian's fb marketing app id\n",
    "jian_token=\"EAAkEB3l7ONYBALOwTjZA6ZA69KGshjjZCghKd2FhqZCVvcZCxcQZCglQshts2EZCZBccbvwUddxKlje4ZCz3w8qkLWICYdS8cZCAw2e8VZCs9VHEt7sg5gR6gc4o8TVV73OAABUf7zKqoXLyeREavx7Viz8ArwVQxsDfMVSJK7o5qOqiQZDZD\"\n",
    "\n",
    "def creatfbaudience(file_path,ACCESS_TOKEN,accountid,description,audience_name):\n",
    "    '''\n",
    "    input:\n",
    "    file_path: str, full_path, basename as the audience name on FB\n",
    "        make sure the columns contains the \"email_address_hash\", use this col only\n",
    "    \n",
    "    ACCESS_TOKEN: personal token #app id not needed\n",
    "    accountid: account_id starting with \"act_\", followed by the id str\n",
    "    as Nov. 20, 2019, latest verision is 'v5.0'\n",
    "    '''\n",
    "    FacebookAdsApi.init(access_token=ACCESS_TOKEN, api_version='v5.0')\n",
    "    myAccount = AdAccount(accountid)\n",
    "    fields = []\n",
    "    fbname=audience_name\n",
    "    params = {\n",
    "      'name': fbname,\n",
    "      'subtype': 'CUSTOM',\n",
    "      'description': description,\n",
    "      'customer_file_source': 'USER_PROVIDED_ONLY',\n",
    "    }\n",
    "    fbname = myAccount.create_custom_audience(\n",
    "      fields=fields,\n",
    "      params=params,\n",
    "    )['id']\n",
    "    \n",
    "    df=pd.read_csv(file_path,dtype=str,)\n",
    "    listlen = df.shape[0]\n",
    "    requestUrl = 'https://graph.facebook.com/v5.0/'+ fbname + '/users'\n",
    "    \n",
    "    chunck_size=50000\n",
    "    i_counter=0\n",
    "    for df_chunck in pd.read_csv(file_path,chunksize=chunck_size,dtype=str,usecols=[\"email_address_hash\"]):\n",
    "        payload = {}\n",
    "        payload['schema'] = ['EMAIL']\n",
    "        df_chunck=df_chunck.rename(columns={\"email_address_hash\":\"EMAIL\"})\n",
    "        df_chunck=df_chunck.drop_duplicates()\n",
    "        payload_data=df_chunck['EMAIL'].apply(lambda x: [x]).tolist()\n",
    "\n",
    "        payload['data'] = payload_data\n",
    "        params = {}\n",
    "        params ={'payload':payload} \n",
    "        CustomAudience(fbname).create_user(\n",
    "                      fields=fields,\n",
    "                      params=params,\n",
    "        )\n",
    "        i_counter+=1\n",
    "        print(i_counter,datetime.datetime.now())\n",
    "  \n",
    "\n",
    "    return 'All done: '+str(datetime.datetime.now())"
   ]
  },
  {
   "cell_type": "markdown",
   "metadata": {},
   "source": [
    "# 19-48 Facebook"
   ]
  },
  {
   "cell_type": "code",
   "execution_count": 2,
   "metadata": {},
   "outputs": [
    {
     "name": "stdout",
     "output_type": "stream",
     "text": [
      "16\n",
      "8\n"
     ]
    }
   ],
   "source": [
    "list_file_19_48=glob.glob(\"/home/jian/Projects/Big_Lots/Live_Ramp/Quarterly_Update_2020Q1/wanted_segment_files/*.csv\")\n",
    "list_file_19_48=[x for x in list_file_19_48 if \"1948\" in x]\n",
    "print(len(list_file_19_48))\n",
    "\n",
    "# test only\n",
    "list_file_19_48=[x for x in list_file_19_48 if os.path.basename(x)[0]==\"T\"]\n",
    "print(len(list_file_19_48))"
   ]
  },
  {
   "cell_type": "code",
   "execution_count": 3,
   "metadata": {},
   "outputs": [
    {
     "name": "stdout",
     "output_type": "stream",
     "text": [
      "1 2020-01-29 13:06:42.391529\n",
      "2 2020-01-29 13:06:49.298964\n",
      "3 2020-01-29 13:06:56.241492\n",
      "4 2020-01-29 13:06:58.541722\n",
      "5 2020-01-29 13:07:00.773951\n",
      "6 2020-01-29 13:07:03.225378\n",
      "7 2020-01-29 13:07:09.740124\n",
      "8 2020-01-29 13:07:16.487456\n",
      "9 2020-01-29 13:07:18.505800\n",
      "10 2020-01-29 13:07:25.094119\n",
      "11 2020-01-29 13:07:31.822352\n",
      "12 2020-01-29 13:07:33.862656\n",
      "13 2020-01-29 13:07:40.752669\n",
      "14 2020-01-29 13:07:43.007465\n",
      "15 2020-01-29 13:07:45.216621\n",
      "16 2020-01-29 13:07:52.069542\n",
      "17 2020-01-29 13:07:54.269087\n",
      "18 2020-01-29 13:07:56.509809\n",
      "19 2020-01-29 13:08:03.473653\n",
      "20 2020-01-29 13:08:05.550254\n",
      "21 2020-01-29 13:08:12.073480\n",
      "22 2020-01-29 13:08:18.789108\n",
      "23 2020-01-29 13:08:25.612550\n",
      "24 2020-01-29 13:08:32.431759\n",
      "25 2020-01-29 13:08:34.691766\n",
      "26 2020-01-29 13:08:35.904351\n",
      "1 2020-01-29 13:08:41.416165\n",
      "2 2020-01-29 13:08:43.621601\n",
      "3 2020-01-29 13:08:50.345599\n",
      "4 2020-01-29 13:08:52.888981\n",
      "5 2020-01-29 13:08:55.261897\n",
      "6 2020-01-29 13:09:02.037048\n",
      "7 2020-01-29 13:09:08.470394\n",
      "8 2020-01-29 13:09:10.781421\n",
      "9 2020-01-29 13:09:13.141831\n",
      "10 2020-01-29 13:09:19.963427\n",
      "11 2020-01-29 13:09:22.263774\n",
      "12 2020-01-29 13:09:28.676751\n",
      "13 2020-01-29 13:09:35.001560\n",
      "14 2020-01-29 13:09:35.709310\n",
      "1 2020-01-29 13:09:41.685495\n",
      "2 2020-01-29 13:09:43.899568\n",
      "3 2020-01-29 13:09:46.153330\n",
      "4 2020-01-29 13:09:52.954539\n",
      "5 2020-01-29 13:09:54.928617\n",
      "6 2020-01-29 13:09:57.240991\n",
      "7 2020-01-29 13:10:04.156180\n",
      "8 2020-01-29 13:10:10.979498\n",
      "9 2020-01-29 13:10:13.262660\n",
      "10 2020-01-29 13:10:20.085652\n",
      "11 2020-01-29 13:10:22.308214\n",
      "12 2020-01-29 13:10:24.248673\n",
      "13 2020-01-29 13:10:26.446194\n",
      "14 2020-01-29 13:10:28.804357\n",
      "15 2020-01-29 13:10:35.726425\n",
      "16 2020-01-29 13:10:42.465508\n",
      "17 2020-01-29 13:10:49.340900\n",
      "18 2020-01-29 13:10:56.171143\n",
      "19 2020-01-29 13:10:58.048417\n",
      "1 2020-01-29 13:11:06.959191\n",
      "2 2020-01-29 13:11:09.321186\n",
      "3 2020-01-29 13:11:11.568831\n",
      "4 2020-01-29 13:11:18.333797\n",
      "5 2020-01-29 13:11:25.125084\n",
      "6 2020-01-29 13:11:27.360783\n",
      "7 2020-01-29 13:11:29.196634\n",
      "1 2020-01-29 13:11:39.432404\n",
      "2 2020-01-29 13:11:41.889720\n",
      "3 2020-01-29 13:11:44.394533\n",
      "4 2020-01-29 13:11:46.586043\n",
      "5 2020-01-29 13:11:48.496890\n",
      "6 2020-01-29 13:11:54.861977\n",
      "7 2020-01-29 13:12:01.619538\n",
      "8 2020-01-29 13:12:08.406137\n",
      "9 2020-01-29 13:12:15.229051\n",
      "10 2020-01-29 13:12:22.079523\n",
      "11 2020-01-29 13:12:28.877699\n",
      "12 2020-01-29 13:12:31.114113\n",
      "13 2020-01-29 13:12:37.854485\n",
      "14 2020-01-29 13:12:40.064657\n",
      "15 2020-01-29 13:12:46.871812\n",
      "16 2020-01-29 13:12:53.505222\n",
      "17 2020-01-29 13:13:00.431235\n",
      "18 2020-01-29 13:13:02.745670\n",
      "19 2020-01-29 13:13:04.401443\n",
      "1 2020-01-29 13:13:10.146024\n",
      "2 2020-01-29 13:13:13.691184\n",
      "3 2020-01-29 13:13:20.509743\n",
      "4 2020-01-29 13:13:22.819227\n",
      "1 2020-01-29 13:13:31.356491\n",
      "2 2020-01-29 13:13:34.804224\n",
      "3 2020-01-29 13:13:41.729160\n",
      "4 2020-01-29 13:13:43.990293\n",
      "5 2020-01-29 13:13:46.447253\n",
      "6 2020-01-29 13:13:48.865793\n",
      "7 2020-01-29 13:13:52.162880\n",
      "8 2020-01-29 13:13:58.954926\n",
      "9 2020-01-29 13:14:01.952309\n",
      "1 2020-01-29 13:14:09.289215\n",
      "2 2020-01-29 13:14:14.141944\n"
     ]
    }
   ],
   "source": [
    "for local_file in list_file_19_48:\n",
    "    creatfbaudience(file_path=local_file,\n",
    "                    ACCESS_TOKEN=jian_token,\n",
    "                    accountid=BigLotsAccount_id,\n",
    "                    description=os.path.basename(local_file).split(\".\")[0],\n",
    "                    audience_name=os.path.basename(local_file).split(\".\")[0]\n",
    "                   )"
   ]
  },
  {
   "cell_type": "code",
   "execution_count": 5,
   "metadata": {},
   "outputs": [
    {
     "data": {
      "text/plain": [
       "['/home/jian/Projects/Big_Lots/Live_Ramp/Quarterly_Update_2020Q1/wanted_segment_files/T_Legacy_Lapsed1948_NA_P_NA_NA_CompetitorsHigh_FurinitureHigh_RFM20Q1.csv',\n",
       " '/home/jian/Projects/Big_Lots/Live_Ramp/Quarterly_Update_2020Q1/wanted_segment_files/T_Legacy_Lapsed1948_NA_P_NA_NA_CompetitorsHigh_FurinitureLow_RFM20Q1.csv',\n",
       " '/home/jian/Projects/Big_Lots/Live_Ramp/Quarterly_Update_2020Q1/wanted_segment_files/T_Legacy_Lapsed1948_NA_P_NA_NA_CompetitorsLow_FurinitureHigh_RFM20Q1.csv',\n",
       " '/home/jian/Projects/Big_Lots/Live_Ramp/Quarterly_Update_2020Q1/wanted_segment_files/T_Legacy_Lapsed1948_NA_P_NA_NA_CompetitorsLow_FurinitureLow_RFM20Q1.csv',\n",
       " '/home/jian/Projects/Big_Lots/Live_Ramp/Quarterly_Update_2020Q1/wanted_segment_files/T_SOTF_Lapsed1948_NA_P_NA_NA_CompetitorsHigh_FurinitureHigh_RFM20Q1.csv',\n",
       " '/home/jian/Projects/Big_Lots/Live_Ramp/Quarterly_Update_2020Q1/wanted_segment_files/T_SOTF_Lapsed1948_NA_P_NA_NA_CompetitorsHigh_FurinitureLow_RFM20Q1.csv',\n",
       " '/home/jian/Projects/Big_Lots/Live_Ramp/Quarterly_Update_2020Q1/wanted_segment_files/T_SOTF_Lapsed1948_NA_P_NA_NA_CompetitorsLow_FurinitureHigh_RFM20Q1.csv',\n",
       " '/home/jian/Projects/Big_Lots/Live_Ramp/Quarterly_Update_2020Q1/wanted_segment_files/T_SOTF_Lapsed1948_NA_P_NA_NA_CompetitorsLow_FurinitureLow_RFM20Q1.csv']"
      ]
     },
     "execution_count": 5,
     "metadata": {},
     "output_type": "execute_result"
    }
   ],
   "source": [
    "list_file_19_48"
   ]
  },
  {
   "cell_type": "code",
   "execution_count": 8,
   "metadata": {},
   "outputs": [
    {
     "name": "stdout",
     "output_type": "stream",
     "text": [
      "T_Legacy_Lapsed1948_NA_P_NA_NA_CompetitorsHigh_FurinitureHigh_RFM20Q1.csv (1257156, 3)\n",
      "T_Legacy_Lapsed1948_NA_P_NA_NA_CompetitorsHigh_FurinitureLow_RFM20Q1.csv (656266, 3)\n",
      "T_Legacy_Lapsed1948_NA_P_NA_NA_CompetitorsLow_FurinitureHigh_RFM20Q1.csv (941581, 3)\n",
      "T_Legacy_Lapsed1948_NA_P_NA_NA_CompetitorsLow_FurinitureLow_RFM20Q1.csv (339958, 3)\n",
      "T_SOTF_Lapsed1948_NA_P_NA_NA_CompetitorsHigh_FurinitureHigh_RFM20Q1.csv (935353, 3)\n",
      "T_SOTF_Lapsed1948_NA_P_NA_NA_CompetitorsHigh_FurinitureLow_RFM20Q1.csv (180867, 3)\n",
      "T_SOTF_Lapsed1948_NA_P_NA_NA_CompetitorsLow_FurinitureHigh_RFM20Q1.csv (419159, 3)\n",
      "T_SOTF_Lapsed1948_NA_P_NA_NA_CompetitorsLow_FurinitureLow_RFM20Q1.csv (85333, 3)\n"
     ]
    }
   ],
   "source": [
    "for file in list_file_19_48:\n",
    "    df=pd.read_csv(file,dtype=str)\n",
    "    print(os.path.basename(file),df.shape)"
   ]
  },
  {
   "cell_type": "markdown",
   "metadata": {},
   "source": [
    "# 19-48 Google"
   ]
  },
  {
   "cell_type": "code",
   "execution_count": 35,
   "metadata": {},
   "outputs": [
    {
     "data": {
      "text/plain": [
       "['/home/jian/Projects/Big_Lots/Live_Ramp/Quarterly_Update_2020Q1/wanted_segment_files/T_Legacy_Lapsed1948_NA_P_NA_NA_CompetitorsHigh_FurinitureHigh_RFM20Q1.csv',\n",
       " '/home/jian/Projects/Big_Lots/Live_Ramp/Quarterly_Update_2020Q1/wanted_segment_files/T_Legacy_Lapsed1948_NA_P_NA_NA_CompetitorsHigh_FurinitureLow_RFM20Q1.csv',\n",
       " '/home/jian/Projects/Big_Lots/Live_Ramp/Quarterly_Update_2020Q1/wanted_segment_files/T_Legacy_Lapsed1948_NA_P_NA_NA_CompetitorsLow_FurinitureHigh_RFM20Q1.csv',\n",
       " '/home/jian/Projects/Big_Lots/Live_Ramp/Quarterly_Update_2020Q1/wanted_segment_files/T_Legacy_Lapsed1948_NA_P_NA_NA_CompetitorsLow_FurinitureLow_RFM20Q1.csv',\n",
       " '/home/jian/Projects/Big_Lots/Live_Ramp/Quarterly_Update_2020Q1/wanted_segment_files/T_SOTF_Lapsed1948_NA_P_NA_NA_CompetitorsHigh_FurinitureHigh_RFM20Q1.csv',\n",
       " '/home/jian/Projects/Big_Lots/Live_Ramp/Quarterly_Update_2020Q1/wanted_segment_files/T_SOTF_Lapsed1948_NA_P_NA_NA_CompetitorsHigh_FurinitureLow_RFM20Q1.csv',\n",
       " '/home/jian/Projects/Big_Lots/Live_Ramp/Quarterly_Update_2020Q1/wanted_segment_files/T_SOTF_Lapsed1948_NA_P_NA_NA_CompetitorsLow_FurinitureHigh_RFM20Q1.csv',\n",
       " '/home/jian/Projects/Big_Lots/Live_Ramp/Quarterly_Update_2020Q1/wanted_segment_files/T_SOTF_Lapsed1948_NA_P_NA_NA_CompetitorsLow_FurinitureLow_RFM20Q1.csv']"
      ]
     },
     "execution_count": 35,
     "metadata": {},
     "output_type": "execute_result"
    }
   ],
   "source": [
    "list_file_19_48"
   ]
  },
  {
   "cell_type": "code",
   "execution_count": 46,
   "metadata": {},
   "outputs": [],
   "source": [
    "import hashlib\n",
    "import uuid\n",
    "# Import appropriate modules from the client library.\n",
    "from googleads import adwords\n",
    "import os\n",
    "import datetime\n",
    "auth_file_path = '/home/jian/Docs/Google_Ads_Access/googleads_BL_MMC.yaml'\n",
    "\n",
    "def upload_and_return_count_in_chunk(service, user_list_id, email_list):\n",
    "    ids_in_chunk=0\n",
    "    mutate_members_operation = {\n",
    "      'operand': {\n",
    "          'userListId': user_list_id,\n",
    "          'membersList': email_list\n",
    "      },\n",
    "      'operator': 'ADD'\n",
    "    }\n",
    "    response = service.mutateMembers([mutate_members_operation])\n",
    "    if 'userLists' in response:\n",
    "        for user_list in response['userLists']:\n",
    "            # print('Uploaded %i items to user list with name \"%s\" and ID \"%d\"'\n",
    "            #     % (len(email_list), user_list['name'], user_list['id']))\n",
    "\n",
    "            \n",
    "            ids_in_chunk+=len(email_list)\n",
    "    return ids_in_chunk\n",
    "            \n",
    "def run_the_uploading(client, email_file_path):\n",
    "  # Initialize appropriate services.\n",
    "    total_ids_in_seg=0\n",
    "    user_list_service = client.GetService('AdwordsUserListService', 'v201809')\n",
    "    file_base_name=os.path.basename(email_file_path).split(\".\")[0]\n",
    "    user_list = {\n",
    "        'xsi_type': 'CrmBasedUserList',\n",
    "        'name': file_base_name,\n",
    "        'description': 'A list of customers that originated from email addresses as '+file_base_name,\n",
    "        # CRM-based user lists can use a membershipLifeSpan of 10000 to indicate\n",
    "        # unlimited; otherwise normal values apply.\n",
    "        'membershipLifeSpan': 10000,\n",
    "        'uploadKeyType': 'CONTACT_INFO'\n",
    "     }\n",
    "    # Create an operation to add the user list.\n",
    "    operations = [{\n",
    "        'operator': 'ADD',\n",
    "        'operand': user_list\n",
    "    }]\n",
    "    result = user_list_service.mutate(operations)\n",
    "    user_list_id = result['value'][0]['id']\n",
    "\n",
    "    df = pd.read_csv(email_file_path, chunksize=3000)\n",
    "    for i in df:\n",
    "        mail_col = [k for k in i.columns if 'email' in k.lower()][0]\n",
    "        new_col = ['email' if h == mail_col else h for h in i.columns.tolist()]\n",
    "        i.columns = new_col\n",
    "        emails = i['email']\n",
    "        emails = set([i for i in emails if str(i) != 'nan'])\n",
    "        members = [{'hashedEmail': email} for email in emails]\n",
    "        ids_in_chunk=upload_and_return_count_in_chunk(user_list_service, user_list_id, members)\n",
    "        \n",
    "        total_ids_in_seg+=ids_in_chunk\n",
    "    print(datetime.datetime.now(),\"all %s ids uploaded in the segment \"%str(total_ids_in_seg))\n",
    "\n",
    "\n",
    "\n"
   ]
  },
  {
   "cell_type": "code",
   "execution_count": 47,
   "metadata": {},
   "outputs": [
    {
     "name": "stdout",
     "output_type": "stream",
     "text": [
      "2020-01-29 15:22:15.583597 all 1257155 ids uploaded in the segment \n",
      "2020-01-29 15:25:07.062124 all 656266 ids uploaded in the segment \n",
      "2020-01-29 15:29:35.279825 all 941581 ids uploaded in the segment \n",
      "2020-01-29 15:31:08.663079 all 339958 ids uploaded in the segment \n",
      "2020-01-29 15:35:18.864013 all 935349 ids uploaded in the segment \n",
      "2020-01-29 15:36:12.179550 all 180867 ids uploaded in the segment \n",
      "2020-01-29 15:38:06.161479 all 419158 ids uploaded in the segment \n",
      "2020-01-29 15:38:26.859525 all 85333 ids uploaded in the segment \n"
     ]
    }
   ],
   "source": [
    "BL_client = adwords.AdWordsClient.LoadFromStorage(auth_file_path)\n",
    "for local_seg_file in list_file_19_48:\n",
    "    run_the_uploading(BL_client, local_seg_file)"
   ]
  },
  {
   "cell_type": "code",
   "execution_count": null,
   "metadata": {},
   "outputs": [],
   "source": []
  }
 ],
 "metadata": {
  "kernelspec": {
   "display_name": "Python 3",
   "language": "python",
   "name": "python3"
  },
  "language_info": {
   "codemirror_mode": {
    "name": "ipython",
    "version": 3
   },
   "file_extension": ".py",
   "mimetype": "text/x-python",
   "name": "python",
   "nbconvert_exporter": "python",
   "pygments_lexer": "ipython3",
   "version": "3.6.1"
  }
 },
 "nbformat": 4,
 "nbformat_minor": 2
}
