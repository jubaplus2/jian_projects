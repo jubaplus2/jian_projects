{
 "cells": [
  {
   "cell_type": "code",
   "execution_count": 1,
   "metadata": {},
   "outputs": [
    {
     "data": {
      "text/plain": [
       "'/home/jian/Projects/Big_Lots/TMR/TMR_data/Up_to_2019Q2'"
      ]
     },
     "execution_count": 1,
     "metadata": {},
     "output_type": "execute_result"
    }
   ],
   "source": [
    "import pandas as pd\n",
    "import numpy as np\n",
    "import datetime\n",
    "import os\n",
    "pd.options.display.max_columns=99\n",
    "os.getcwd()\n",
    "\n",
    "# Only YouTube & Social impressions are adjusted to the previous peak"
   ]
  },
  {
   "cell_type": "code",
   "execution_count": 2,
   "metadata": {},
   "outputs": [],
   "source": [
    "mmm_input=pd.read_csv(\"/home/jian/Projects/Big_Lots/TMR/TMR_data/Up_to_2019Q2/output/BL_MMM_data_submedia_national_wide_JL_2019-11-15.csv\",\n",
    "                     dtype=str)\n",
    "mmm_input['Digital-Social_impression_Adjusted_0.6']=mmm_input['Digital-Social_impression'].astype(float).astype(int)\n",
    "mmm_input['Digital-YouTube_impression_Adjusted_0.6']=mmm_input['Digital-YouTube_impression'].astype(float).astype(int)\n"
   ]
  },
  {
   "cell_type": "code",
   "execution_count": 3,
   "metadata": {},
   "outputs": [
    {
     "name": "stdout",
     "output_type": "stream",
     "text": [
      "89    33773643.0\n",
      "Name: Digital-Social_impression, dtype: object\n",
      "90    57055713.0\n",
      "Name: Digital-Social_impression, dtype: object\n",
      "89    11808081.0\n",
      "Name: Digital-YouTube_impression, dtype: object\n",
      "90    9035286.0\n",
      "Name: Digital-YouTube_impression, dtype: object\n"
     ]
    }
   ],
   "source": [
    "print(mmm_input.loc[mmm_input['week date']==\"2019-04-21\",\"Digital-Social_impression\"])\n",
    "print(mmm_input.loc[mmm_input['week date']==\"2019-04-28\",\"Digital-Social_impression\"])\n",
    "\n",
    "print(mmm_input.loc[mmm_input['week date']==\"2019-04-21\",\"Digital-YouTube_impression\"])\n",
    "print(mmm_input.loc[mmm_input['week date']==\"2019-04-28\",\"Digital-YouTube_impression\"])"
   ]
  },
  {
   "cell_type": "code",
   "execution_count": 4,
   "metadata": {},
   "outputs": [],
   "source": [
    "mmm_input.loc[mmm_input['week date']==\"2019-04-21\",\"Digital-Social_impression_Adjusted_0.6\"]=mmm_input.loc[mmm_input['week date']==\"2019-04-21\",\"Digital-Social_impression_Adjusted_0.6\"]*0.6\n",
    "mmm_input.loc[mmm_input['week date']==\"2019-04-28\",\"Digital-Social_impression_Adjusted_0.6\"]=mmm_input.loc[mmm_input['week date']==\"2019-04-28\",\"Digital-Social_impression_Adjusted_0.6\"]*0.6\n",
    "mmm_input.loc[mmm_input['week date']==\"2019-04-21\",\"Digital-YouTube_impression_Adjusted_0.6\"]=mmm_input.loc[mmm_input['week date']==\"2019-04-21\",\"Digital-YouTube_impression_Adjusted_0.6\"]*0.6\n",
    "mmm_input.loc[mmm_input['week date']==\"2019-04-28\",\"Digital-YouTube_impression_Adjusted_0.6\"]=mmm_input.loc[mmm_input['week date']==\"2019-04-28\",\"Digital-YouTube_impression_Adjusted_0.6\"]*0.6"
   ]
  },
  {
   "cell_type": "code",
   "execution_count": 5,
   "metadata": {
    "collapsed": true
   },
   "outputs": [],
   "source": [
    "mmm_input['Dummy_2019Q1_End_2weeks']=np.where(mmm_input['week date'].isin([\"2019-04-21\",\"2019-04-28\"]),1,0)"
   ]
  },
  {
   "cell_type": "code",
   "execution_count": 7,
   "metadata": {
    "collapsed": true
   },
   "outputs": [],
   "source": [
    "mmm_input.to_csv(\"./with_adjusted_BL_MMM_data_submedia_national_wide_JL_2019-11-15.csv\",index=False)"
   ]
  }
 ],
 "metadata": {
  "kernelspec": {
   "display_name": "Python 3",
   "language": "python",
   "name": "python3"
  },
  "language_info": {
   "codemirror_mode": {
    "name": "ipython",
    "version": 3
   },
   "file_extension": ".py",
   "mimetype": "text/x-python",
   "name": "python",
   "nbconvert_exporter": "python",
   "pygments_lexer": "ipython3",
   "version": "3.6.1"
  }
 },
 "nbformat": 4,
 "nbformat_minor": 2
}
