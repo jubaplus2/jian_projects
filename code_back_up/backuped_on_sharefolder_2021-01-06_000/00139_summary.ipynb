{
 "cells": [
  {
   "cell_type": "code",
   "execution_count": 1,
   "metadata": {},
   "outputs": [
    {
     "data": {
      "text/plain": [
       "'/home/jian/Projects/Big_Lots/Live_Ramp/Quarterly_Update_2019Q3'"
      ]
     },
     "execution_count": 1,
     "metadata": {},
     "output_type": "execute_result"
    }
   ],
   "source": [
    "import pandas as pd\n",
    "import os\n",
    "import datetime\n",
    "import random\n",
    "import glob\n",
    "import paramiko\n",
    "import numpy as np\n",
    "import gc\n",
    "from shutil import copyfile\n",
    "os.getcwd()"
   ]
  },
  {
   "cell_type": "code",
   "execution_count": 2,
   "metadata": {
    "collapsed": true
   },
   "outputs": [],
   "source": [
    "def recursive_file_gen(root_folder):\n",
    "    for root, dirs, files in os.walk(root_folder):\n",
    "        for file in files:\n",
    "            yield os.path.join(root, file)"
   ]
  },
  {
   "cell_type": "code",
   "execution_count": 3,
   "metadata": {},
   "outputs": [
    {
     "name": "stdout",
     "output_type": "stream",
     "text": [
      "(18936098, 15)\n",
      "(7337914, 3)\n"
     ]
    }
   ],
   "source": [
    "df_regular=pd.read_csv(\"/home/jian/Projects/Big_Lots/Live_Ramp/Quarterly_Update_2019Q3/output_2019-07-20/dfrfm_final_details_wemail_ziplabel_StoreQuad.csv\",dtype=str)\n",
    "df_18_plus=pd.read_csv(\"/home/jian/Projects/Big_Lots/Live_Ramp/Quarterly_Update_2019Q3/output_2019-07-20/df_ids_email_18_plus_shoppers.csv\",dtype=str)\n",
    "\n",
    "print(df_regular.shape)\n",
    "print(df_18_plus.shape)\n"
   ]
  },
  {
   "cell_type": "code",
   "execution_count": 4,
   "metadata": {},
   "outputs": [
    {
     "data": {
      "text/plain": [
       "(6421320, 3)"
      ]
     },
     "execution_count": 4,
     "metadata": {},
     "output_type": "execute_result"
    }
   ],
   "source": [
    "df_18_plus[pd.isnull(df_18_plus['customer_zip_code'])].shape"
   ]
  },
  {
   "cell_type": "code",
   "execution_count": 5,
   "metadata": {},
   "outputs": [
    {
     "data": {
      "text/plain": [
       "(916594, 3)"
      ]
     },
     "execution_count": 5,
     "metadata": {},
     "output_type": "execute_result"
    }
   ],
   "source": [
    "df_18_plus[pd.notnull(df_18_plus['customer_zip_code'])].shape"
   ]
  },
  {
   "cell_type": "code",
   "execution_count": 6,
   "metadata": {},
   "outputs": [
    {
     "name": "stdout",
     "output_type": "stream",
     "text": [
      "dfiddetail.shape (28200021, 3)\n"
     ]
    },
    {
     "data": {
      "text/html": [
       "<div>\n",
       "<style>\n",
       "    .dataframe thead tr:only-child th {\n",
       "        text-align: right;\n",
       "    }\n",
       "\n",
       "    .dataframe thead th {\n",
       "        text-align: left;\n",
       "    }\n",
       "\n",
       "    .dataframe tbody tr th {\n",
       "        vertical-align: top;\n",
       "    }\n",
       "</style>\n",
       "<table border=\"1\" class=\"dataframe\">\n",
       "  <thead>\n",
       "    <tr style=\"text-align: right;\">\n",
       "      <th></th>\n",
       "      <th>customer_id_hashed</th>\n",
       "      <th>email_address_hash</th>\n",
       "      <th>customer_zip_code</th>\n",
       "    </tr>\n",
       "  </thead>\n",
       "  <tbody>\n",
       "    <tr>\n",
       "      <th>0</th>\n",
       "      <td>767036eb85de7854fcdebc8c551e1132dc740d28d2ed8e...</td>\n",
       "      <td>058b39c75d316fb516d78b1b54d01dee298d20c5290ba0...</td>\n",
       "      <td>00nan</td>\n",
       "    </tr>\n",
       "    <tr>\n",
       "      <th>1</th>\n",
       "      <td>c5a36941a24a7470a30278f3491f0d525a0a202463d1aa...</td>\n",
       "      <td>ea6c5c7931fd759624c3f7756e89ff20aad37c33942bf1...</td>\n",
       "      <td>28043</td>\n",
       "    </tr>\n",
       "  </tbody>\n",
       "</table>\n",
       "</div>"
      ],
      "text/plain": [
       "                                  customer_id_hashed  \\\n",
       "0  767036eb85de7854fcdebc8c551e1132dc740d28d2ed8e...   \n",
       "1  c5a36941a24a7470a30278f3491f0d525a0a202463d1aa...   \n",
       "\n",
       "                                  email_address_hash customer_zip_code  \n",
       "0  058b39c75d316fb516d78b1b54d01dee298d20c5290ba0...             00nan  \n",
       "1  ea6c5c7931fd759624c3f7756e89ff20aad37c33942bf1...             28043  "
      ]
     },
     "execution_count": 6,
     "metadata": {},
     "output_type": "execute_result"
    }
   ],
   "source": [
    "samplerows=None\n",
    "\n",
    "dfiddetail = pd.read_csv('/home/jian/Projects/Big_Lots/Loyal_members/loyalty_register_data/combined_masterids_up_to_20181229_JL.csv',nrows = samplerows)\n",
    "dfiddetail = dfiddetail.drop_duplicates('customer_id_hashed')\n",
    "###\n",
    "master_file_2018Q1_2019Q1=pd.read_table(\"/home/jian/BigLots/New_Sing_Ups_2018_Fiscal_Year/All Rewards Members 2018-02-04 - 2019-05-04.zip\",\n",
    "                                             compression=\"zip\",dtype=str,sep=\"|\",usecols=['customer_id_hashed','email_address_hash','customer_zip_code'])\n",
    "dfiddetail=master_file_2018Q1_2019Q1.append(dfiddetail).drop_duplicates(\"customer_id_hashed\")\n",
    "del master_file_2018Q1_2019Q1\n",
    "###\n",
    "master_file_gap=pd.read_table(\"/home/jian/BigLots/New_Sing_Ups_2018_Fiscal_Year/MediaStorm Rewards Master P4 2019 - no transaction info.zip\",\n",
    "                                             compression=\"zip\",dtype=str,sep=\"|\",usecols=['customer_id_hashed','email_address_hash','customer_zip_code'])\n",
    "dfiddetail=master_file_gap.append(dfiddetail).drop_duplicates(\"customer_id_hashed\")\n",
    "del master_file_gap\n",
    "###\n",
    "\n",
    "all_master_files_after_201906=list(recursive_file_gen(\"/home/jian/BigLots/2019_by_weeks/\"))\n",
    "all_master_files_after_201906=[x for x in all_master_files_after_201906 if (\"aster\" in x) & (\".txt\" in x)]\n",
    "all_master_files_after_201906=[x for x in all_master_files_after_201906 if x.split(\"ts/2019_by_weeks/MediaStorm_\")[1][:10]>\"2019-06-01\"]\n",
    "df_master_all_later_after_201906=pd.DataFrame()\n",
    "for file in all_master_files_after_201906:\n",
    "    df=pd.read_table(file,dtype=str,sep=\"|\",usecols=['customer_id_hashed','email_address_hash','customer_zip_code'])\n",
    "    df_master_all_later_after_201906=df.append(df_master_all_later_after_201906)\n",
    "\n",
    "dfiddetail=df_master_all_later_after_201906.append(dfiddetail).drop_duplicates(\"customer_id_hashed\")\n",
    "del df_master_all_later_after_201906\n",
    "\n",
    "dfiddetail = dfiddetail.drop_duplicates('email_address_hash')\n",
    "\n",
    "#dropped both email & id duplicated\n",
    "###\n",
    "gc.collect()\n",
    "print(\"dfiddetail.shape\",dfiddetail.shape)\n",
    "\n",
    "\n",
    "dfiddetail['customer_zip_code'] = dfiddetail['customer_zip_code'].astype('str')\n",
    "dfiddetail['customer_zip_code'] = dfiddetail['customer_zip_code'].str[0:5]\n",
    "dfiddetail['customer_zip_code'].fillna('00000',inplace = True)\n",
    "dfiddetail['customer_zip_code'] = dfiddetail['customer_zip_code'].apply(lambda x:x.zfill(5))\n",
    "\n",
    "\n",
    "dfiddetail.head(2)"
   ]
  },
  {
   "cell_type": "code",
   "execution_count": 7,
   "metadata": {},
   "outputs": [
    {
     "name": "stdout",
     "output_type": "stream",
     "text": [
      "(7337563, 3)\n"
     ]
    }
   ],
   "source": [
    "df_18_plus=df_18_plus[~df_18_plus['customer_id_hashed'].isin(df_regular['customer_id_hashed'])]\n",
    "df_18_plus=df_18_plus[~df_18_plus['email_address_hash'].isin(df_regular['email_address_hash'])]\n",
    "print(df_18_plus.shape)"
   ]
  },
  {
   "cell_type": "code",
   "execution_count": 8,
   "metadata": {},
   "outputs": [
    {
     "name": "stdout",
     "output_type": "stream",
     "text": [
      "(18936098, 15)\n",
      "(7337563, 3)\n"
     ]
    }
   ],
   "source": [
    "df_regular=df_regular.drop_duplicates(\"customer_id_hashed\").drop_duplicates(\"email_address_hash\")\n",
    "print(df_regular.shape)\n",
    "\n",
    "df_18_plus=df_18_plus.drop_duplicates(\"customer_id_hashed\").drop_duplicates(\"email_address_hash\")\n",
    "print(df_18_plus.shape)"
   ]
  },
  {
   "cell_type": "code",
   "execution_count": 9,
   "metadata": {},
   "outputs": [
    {
     "name": "stdout",
     "output_type": "stream",
     "text": [
      "df_18_plus.shape (7337563, 2)\n"
     ]
    },
    {
     "data": {
      "text/plain": [
       "(7337563, 3)"
      ]
     },
     "execution_count": 9,
     "metadata": {},
     "output_type": "execute_result"
    }
   ],
   "source": [
    "del df_18_plus['customer_zip_code']\n",
    "gc.collect()\n",
    "print(\"df_18_plus.shape\",df_18_plus.shape)\n",
    "dfiddetail_zips=dfiddetail[['customer_id_hashed','customer_zip_code']].drop_duplicates(\"customer_id_hashed\")\n",
    "df_18_plus=pd.merge(df_18_plus,dfiddetail_zips,on=\"customer_id_hashed\",how=\"left\")\n",
    "df_18_plus.shape"
   ]
  },
  {
   "cell_type": "code",
   "execution_count": 10,
   "metadata": {},
   "outputs": [
    {
     "data": {
      "text/plain": [
       "(929370, 3)"
      ]
     },
     "execution_count": 10,
     "metadata": {},
     "output_type": "execute_result"
    }
   ],
   "source": [
    "df_18_plus[pd.isnull(df_18_plus['customer_zip_code'])].shape"
   ]
  },
  {
   "cell_type": "code",
   "execution_count": 11,
   "metadata": {},
   "outputs": [
    {
     "data": {
      "text/plain": [
       "(6408193, 3)"
      ]
     },
     "execution_count": 11,
     "metadata": {},
     "output_type": "execute_result"
    }
   ],
   "source": [
    "df_18_plus[pd.notnull(df_18_plus['customer_zip_code'])].shape"
   ]
  },
  {
   "cell_type": "code",
   "execution_count": 12,
   "metadata": {},
   "outputs": [
    {
     "data": {
      "text/html": [
       "<div>\n",
       "<style>\n",
       "    .dataframe thead tr:only-child th {\n",
       "        text-align: right;\n",
       "    }\n",
       "\n",
       "    .dataframe thead th {\n",
       "        text-align: left;\n",
       "    }\n",
       "\n",
       "    .dataframe tbody tr th {\n",
       "        vertical-align: top;\n",
       "    }\n",
       "</style>\n",
       "<table border=\"1\" class=\"dataframe\">\n",
       "  <thead>\n",
       "    <tr style=\"text-align: right;\">\n",
       "      <th></th>\n",
       "      <th>zipcodegroup</th>\n",
       "      <th>customer_zip_code</th>\n",
       "    </tr>\n",
       "  </thead>\n",
       "  <tbody>\n",
       "    <tr>\n",
       "      <th>0</th>\n",
       "      <td>P</td>\n",
       "      <td>75040</td>\n",
       "    </tr>\n",
       "    <tr>\n",
       "      <th>1</th>\n",
       "      <td>P</td>\n",
       "      <td>20743</td>\n",
       "    </tr>\n",
       "  </tbody>\n",
       "</table>\n",
       "</div>"
      ],
      "text/plain": [
       "  zipcodegroup customer_zip_code\n",
       "0            P             75040\n",
       "1            P             20743"
      ]
     },
     "execution_count": 12,
     "metadata": {},
     "output_type": "execute_result"
    }
   ],
   "source": [
    "zipmap=pd.read_excel('/home/jian/Projects/Big_Lots/New_TA/TA_created_in_201906/final_output_20190718/BL_final_TA_updated_JL_2019-07-18.xlsx',\n",
    "                     dtype = 'str',sheetname=\"unique_zips_full_footprint\")\n",
    "zipmap=zipmap.rename(columns={\"zip_type\":\"zipcodegroup\",\"zip_cd\":\"customer_zip_code\"})\n",
    "\n",
    "zipmap['zipcodegroup']=zipmap['zipcodegroup'].replace(\"trans_P\",\"P\")\n",
    "zipmap['zipcodegroup']=zipmap['zipcodegroup'].replace(\"trans_S\",\"S\")\n",
    "zipmap['zipcodegroup']=zipmap['zipcodegroup'].replace(\"zips_10\",\"S\")\n",
    "zipmap.head(2)"
   ]
  },
  {
   "cell_type": "code",
   "execution_count": 13,
   "metadata": {
    "collapsed": true
   },
   "outputs": [],
   "source": [
    "df_18_plus=pd.merge(df_18_plus,zipmap,on=\"customer_zip_code\",how=\"left\")\n",
    "df_18_plus['zipcodegroup']=df_18_plus['zipcodegroup'].fillna(\"T\")"
   ]
  },
  {
   "cell_type": "code",
   "execution_count": 14,
   "metadata": {
    "collapsed": true
   },
   "outputs": [],
   "source": [
    "df_18_plus_PS=df_18_plus[df_18_plus['zipcodegroup'].isin(['P','S'])]\n",
    "df_18_plus_T=df_18_plus[df_18_plus['zipcodegroup']==\"T\"]\n"
   ]
  },
  {
   "cell_type": "code",
   "execution_count": 15,
   "metadata": {},
   "outputs": [
    {
     "data": {
      "text/html": [
       "<div>\n",
       "<style>\n",
       "    .dataframe thead tr:only-child th {\n",
       "        text-align: right;\n",
       "    }\n",
       "\n",
       "    .dataframe thead th {\n",
       "        text-align: left;\n",
       "    }\n",
       "\n",
       "    .dataframe tbody tr th {\n",
       "        vertical-align: top;\n",
       "    }\n",
       "</style>\n",
       "<table border=\"1\" class=\"dataframe\">\n",
       "  <thead>\n",
       "    <tr style=\"text-align: right;\">\n",
       "      <th></th>\n",
       "      <th>customer_id_hashed</th>\n",
       "      <th>email_address_hash</th>\n",
       "      <th>customer_zip_code</th>\n",
       "      <th>zipcodegroup</th>\n",
       "    </tr>\n",
       "  </thead>\n",
       "  <tbody>\n",
       "    <tr>\n",
       "      <th>3</th>\n",
       "      <td>3d5aa085305d877141840603e61b1a88e58ccb23090deb...</td>\n",
       "      <td>401c280280cd1d418e419b5ac3f81cae1709287ef476fe...</td>\n",
       "      <td>00nan</td>\n",
       "      <td>T</td>\n",
       "    </tr>\n",
       "    <tr>\n",
       "      <th>18</th>\n",
       "      <td>32a628542a5047341fc60b6e14878de6cf4b0cca38f01c...</td>\n",
       "      <td>e2eebd4447564dd57458676c19b4c6588a2a3430d554cb...</td>\n",
       "      <td>00nan</td>\n",
       "      <td>T</td>\n",
       "    </tr>\n",
       "  </tbody>\n",
       "</table>\n",
       "</div>"
      ],
      "text/plain": [
       "                                   customer_id_hashed  \\\n",
       "3   3d5aa085305d877141840603e61b1a88e58ccb23090deb...   \n",
       "18  32a628542a5047341fc60b6e14878de6cf4b0cca38f01c...   \n",
       "\n",
       "                                   email_address_hash customer_zip_code  \\\n",
       "3   401c280280cd1d418e419b5ac3f81cae1709287ef476fe...             00nan   \n",
       "18  e2eebd4447564dd57458676c19b4c6588a2a3430d554cb...             00nan   \n",
       "\n",
       "   zipcodegroup  \n",
       "3             T  \n",
       "18            T  "
      ]
     },
     "execution_count": 15,
     "metadata": {},
     "output_type": "execute_result"
    }
   ],
   "source": [
    "df_18_plus_T.head(2)"
   ]
  },
  {
   "cell_type": "code",
   "execution_count": 16,
   "metadata": {
    "collapsed": true
   },
   "outputs": [],
   "source": [
    "df_18_plus_PS.to_csv(\"/home/jian/Projects/Big_Lots/Live_Ramp/Quarterly_Update_2019Q3/output_2019-07-20/df_18_plus_PS.csv\",\n",
    "                     index=False)\n",
    "df_18_plus_T.to_csv(\"/home/jian/Projects/Big_Lots/Live_Ramp/Quarterly_Update_2019Q3/output_2019-07-20/df_18_plus_T.csv\",\n",
    "                     index=False)"
   ]
  },
  {
   "cell_type": "code",
   "execution_count": 17,
   "metadata": {},
   "outputs": [
    {
     "name": "stderr",
     "output_type": "stream",
     "text": [
      "/usr/local/lib/python3.6/site-packages/ipykernel_launcher.py:21: SettingWithCopyWarning: \n",
      "A value is trying to be set on a copy of a slice from a DataFrame.\n",
      "Try using .loc[row_indexer,col_indexer] = value instead\n",
      "\n",
      "See the caveats in the documentation: http://pandas.pydata.org/pandas-docs/stable/indexing.html#indexing-view-versus-copy\n",
      "/usr/local/lib/python3.6/site-packages/ipykernel_launcher.py:22: SettingWithCopyWarning: \n",
      "A value is trying to be set on a copy of a slice from a DataFrame.\n",
      "Try using .loc[row_indexer,col_indexer] = value instead\n",
      "\n",
      "See the caveats in the documentation: http://pandas.pydata.org/pandas-docs/stable/indexing.html#indexing-view-versus-copy\n",
      "/usr/local/lib/python3.6/site-packages/ipykernel_launcher.py:24: SettingWithCopyWarning: \n",
      "A value is trying to be set on a copy of a slice from a DataFrame.\n",
      "Try using .loc[row_indexer,col_indexer] = value instead\n",
      "\n",
      "See the caveats in the documentation: http://pandas.pydata.org/pandas-docs/stable/indexing.html#indexing-view-versus-copy\n",
      "/usr/local/lib/python3.6/site-packages/ipykernel_launcher.py:25: SettingWithCopyWarning: \n",
      "A value is trying to be set on a copy of a slice from a DataFrame.\n",
      "Try using .loc[row_indexer,col_indexer] = value instead\n",
      "\n",
      "See the caveats in the documentation: http://pandas.pydata.org/pandas-docs/stable/indexing.html#indexing-view-versus-copy\n"
     ]
    },
    {
     "name": "stdout",
     "output_type": "stream",
     "text": [
      "1 2019-07-22 17:54:59.855533\n",
      "2 2019-07-22 17:55:00.387114\n",
      "3 2019-07-22 17:55:00.986589\n",
      "4 2019-07-22 17:55:01.649001\n",
      "5 2019-07-22 17:55:02.480584\n",
      "6 2019-07-22 17:55:03.348772\n",
      "7 2019-07-22 17:55:04.259239\n",
      "8 2019-07-22 17:55:05.219729\n",
      "9 2019-07-22 17:55:06.236765\n",
      "10 2019-07-22 17:55:07.304856\n",
      "11 2019-07-22 17:55:08.200320\n",
      "12 2019-07-22 17:55:09.103892\n",
      "13 2019-07-22 17:55:10.007099\n",
      "14 2019-07-22 17:55:10.940036\n",
      "15 2019-07-22 17:55:11.895758\n",
      "16 2019-07-22 17:55:12.879013\n",
      "17 2019-07-22 17:55:13.904854\n",
      "18 2019-07-22 17:55:14.960520\n",
      "19 2019-07-22 17:55:16.058715\n",
      "20 2019-07-22 17:55:17.177531\n",
      "21 2019-07-22 17:55:18.219685\n",
      "22 2019-07-22 17:55:19.278515\n",
      "23 2019-07-22 17:55:20.345353\n",
      "24 2019-07-22 17:55:21.438582\n",
      "25 2019-07-22 17:55:22.536173\n",
      "26 2019-07-22 17:55:23.669251\n",
      "27 2019-07-22 17:55:24.818202\n",
      "28 2019-07-22 17:55:25.993604\n",
      "29 2019-07-22 17:55:27.184167\n",
      "30 2019-07-22 17:55:28.394704\n",
      "31 2019-07-22 17:55:29.703089\n",
      "32 2019-07-22 17:55:31.041288\n",
      "33 2019-07-22 17:55:32.406505\n",
      "34 2019-07-22 17:55:33.790223\n",
      "35 2019-07-22 17:55:35.196645\n",
      "36 2019-07-22 17:55:36.630628\n",
      "37 2019-07-22 17:55:38.083639\n",
      "38 2019-07-22 17:55:39.560308\n",
      "39 2019-07-22 17:55:41.065389\n",
      "40 2019-07-22 17:55:42.579709\n",
      "41 2019-07-22 17:55:44.042597\n",
      "42 2019-07-22 17:55:45.503650\n",
      "43 2019-07-22 17:55:46.992423\n",
      "44 2019-07-22 17:55:48.475638\n",
      "45 2019-07-22 17:55:50.036790\n",
      "46 2019-07-22 17:55:51.617811\n",
      "47 2019-07-22 17:55:53.197934\n",
      "48 2019-07-22 17:55:54.821603\n",
      "49 2019-07-22 17:55:56.460312\n",
      "50 2019-07-22 17:55:58.116016\n",
      "51 2019-07-22 17:55:59.743687\n",
      "52 2019-07-22 17:56:01.381900\n",
      "53 2019-07-22 17:56:03.013113\n",
      "54 2019-07-22 17:56:04.680194\n",
      "55 2019-07-22 17:56:06.303151\n",
      "56 2019-07-22 17:56:07.898539\n",
      "57 2019-07-22 17:56:09.502251\n",
      "58 2019-07-22 17:56:11.109028\n",
      "59 2019-07-22 17:56:12.713823\n",
      "60 2019-07-22 17:56:14.342874\n",
      "61 2019-07-22 17:56:16.295320\n",
      "62 2019-07-22 17:56:18.276043\n",
      "63 2019-07-22 17:56:20.316045\n",
      "64 2019-07-22 17:56:22.374132\n",
      "65 2019-07-22 17:56:24.493677\n",
      "66 2019-07-22 17:56:26.653627\n",
      "67 2019-07-22 17:56:28.915770\n",
      "68 2019-07-22 17:56:31.166176\n",
      "69 2019-07-22 17:56:33.494978\n",
      "70 2019-07-22 17:56:35.882325\n",
      "71 2019-07-22 17:56:38.206807\n",
      "72 2019-07-22 17:56:40.520136\n",
      "73 2019-07-22 17:56:42.860673\n",
      "74 2019-07-22 17:56:45.211828\n",
      "75 2019-07-22 17:56:47.594394\n",
      "76 2019-07-22 17:56:50.032660\n",
      "77 2019-07-22 17:56:52.459836\n",
      "78 2019-07-22 17:56:54.793644\n",
      "79 2019-07-22 17:56:57.180420\n",
      "80 2019-07-22 17:56:59.601456\n",
      "81 2019-07-22 17:57:01.995553\n",
      "82 2019-07-22 17:57:04.430231\n",
      "83 2019-07-22 17:57:06.797650\n",
      "84 2019-07-22 17:57:09.187304\n",
      "85 2019-07-22 17:57:11.563945\n",
      "86 2019-07-22 17:57:13.977471\n",
      "87 2019-07-22 17:57:16.394376\n",
      "88 2019-07-22 17:57:18.838941\n",
      "89 2019-07-22 17:57:21.316438\n",
      "90 2019-07-22 17:57:23.829024\n",
      "91 2019-07-22 17:57:26.721609\n",
      "92 2019-07-22 17:57:29.696109\n",
      "93 2019-07-22 17:57:32.729323\n",
      "94 2019-07-22 17:57:35.821071\n",
      "95 2019-07-22 17:57:38.932477\n",
      "96 2019-07-22 17:57:41.941093\n",
      "97 2019-07-22 17:57:44.985756\n",
      "98 2019-07-22 17:57:48.242186\n",
      "99 2019-07-22 17:57:51.376615\n",
      "100 2019-07-22 17:57:54.611367\n",
      "101 2019-07-22 17:57:57.671005\n",
      "102 2019-07-22 17:58:00.752944\n",
      "103 2019-07-22 17:58:03.847744\n",
      "104 2019-07-22 17:58:06.983622\n",
      "105 2019-07-22 17:58:10.160107\n",
      "106 2019-07-22 17:58:13.382233\n",
      "107 2019-07-22 17:58:16.732173\n",
      "108 2019-07-22 17:58:20.111301\n",
      "109 2019-07-22 17:58:23.539603\n",
      "110 2019-07-22 17:58:26.950583\n",
      "111 2019-07-22 17:58:30.194858\n",
      "112 2019-07-22 17:58:33.416162\n",
      "113 2019-07-22 17:58:36.771095\n",
      "114 2019-07-22 17:58:40.151216\n",
      "115 2019-07-22 17:58:43.460677\n",
      "116 2019-07-22 17:58:46.754294\n",
      "117 2019-07-22 17:58:50.043339\n",
      "118 2019-07-22 17:58:53.368716\n",
      "119 2019-07-22 17:58:56.717977\n",
      "120 2019-07-22 17:59:00.085858\n"
     ]
    }
   ],
   "source": [
    "random.seed(1)\n",
    "\n",
    "total_rows=len(df_regular)\n",
    "\n",
    "df_test_all_regular=pd.DataFrame()\n",
    "df_control_all_regular=pd.DataFrame()\n",
    "\n",
    "i_counter=0\n",
    "\n",
    "df_regular=df_regular[['segment_Decile','segment_2019Q3','customer_id_hashed','email_address_hash']]\n",
    "\n",
    "for seg,group in df_regular.groupby(['segment_Decile']):\n",
    "    random_list=random.sample(range(len(group)), int(np.round(len(group)/total_rows*500000)))\n",
    "\n",
    "    group=group.reset_index()\n",
    "    del group['index']\n",
    "    group=group.reset_index()\n",
    "    df_control=group[group['index'].isin(random_list)]\n",
    "    df_test=group[~group['index'].isin(random_list)]\n",
    "    \n",
    "    df_control['segment_Decile']=\"C_\"+df_control['segment_Decile']+\"_RFM\"\n",
    "    df_test['segment_Decile']=\"T_\"+df_test['segment_Decile']+\"_RFM\"\n",
    "    \n",
    "    df_control['segment_2019Q3']=\"C_\"+df_control['segment_2019Q3']+\"_RFM\"\n",
    "    df_test['segment_2019Q3']=\"T_\"+df_test['segment_2019Q3']+\"_RFM\"\n",
    "    df_test_all_regular=df_test_all_regular.append(df_test)\n",
    "    df_control_all_regular=df_control_all_regular.append(df_control)\n",
    "    i_counter+=1\n",
    "    print(i_counter,datetime.datetime.now())\n",
    "    "
   ]
  },
  {
   "cell_type": "code",
   "execution_count": 19,
   "metadata": {},
   "outputs": [
    {
     "name": "stderr",
     "output_type": "stream",
     "text": [
      "/usr/local/lib/python3.6/site-packages/ipykernel_launcher.py:15: SettingWithCopyWarning: \n",
      "A value is trying to be set on a copy of a slice from a DataFrame.\n",
      "Try using .loc[row_indexer,col_indexer] = value instead\n",
      "\n",
      "See the caveats in the documentation: http://pandas.pydata.org/pandas-docs/stable/indexing.html#indexing-view-versus-copy\n",
      "  from ipykernel import kernelapp as app\n"
     ]
    },
    {
     "name": "stdout",
     "output_type": "stream",
     "text": [
      "df_18_plus_PS_control.shape (100000, 6)\n",
      "df_18_plus_PS_test.shape (5487169, 6)\n"
     ]
    },
    {
     "name": "stderr",
     "output_type": "stream",
     "text": [
      "/usr/local/lib/python3.6/site-packages/ipykernel_launcher.py:16: SettingWithCopyWarning: \n",
      "A value is trying to be set on a copy of a slice from a DataFrame.\n",
      "Try using .loc[row_indexer,col_indexer] = value instead\n",
      "\n",
      "See the caveats in the documentation: http://pandas.pydata.org/pandas-docs/stable/indexing.html#indexing-view-versus-copy\n",
      "  app.launch_new_instance()\n"
     ]
    }
   ],
   "source": [
    "import random\n",
    "random.seed(2)\n",
    "total_rows=len(df_18_plus_PS)\n",
    "df_18_plus_PS['segment']=\"lapsed_18_48_PS\"\n",
    "del df_18_plus_PS['customer_zip_code']\n",
    "random_list=random.sample(range(total_rows), 100000)\n",
    "\n",
    "df_18_plus_PS=df_18_plus_PS.reset_index()\n",
    "del df_18_plus_PS['index']\n",
    "df_18_plus_PS=df_18_plus_PS.reset_index()\n",
    "\n",
    "df_18_plus_PS_control=df_18_plus_PS[df_18_plus_PS['index'].isin(random_list)]\n",
    "df_18_plus_PS_test=df_18_plus_PS[~df_18_plus_PS['index'].isin(random_list)]\n",
    "\n",
    "df_18_plus_PS_control['segment']=\"C_\"+df_18_plus_PS_control['segment']+\"_RFM\"\n",
    "df_18_plus_PS_test['segment']=\"T_\"+df_18_plus_PS_test['segment']+\"_RFM\"\n",
    "    \n",
    "print(\"df_18_plus_PS_control.shape\",df_18_plus_PS_control.shape)\n",
    "print(\"df_18_plus_PS_test.shape\",df_18_plus_PS_test.shape)\n"
   ]
  },
  {
   "cell_type": "code",
   "execution_count": 20,
   "metadata": {
    "collapsed": true
   },
   "outputs": [],
   "source": [
    "folder_write=\"/home/jian/Projects/Big_Lots/Live_Ramp/Quarterly_Update_2019Q3/output_2019-07-20/Test_and_Control/\"\n",
    "try:\n",
    "    os.stat(folder_write)\n",
    "except:\n",
    "    os.mkdir(folder_write)"
   ]
  },
  {
   "cell_type": "code",
   "execution_count": 21,
   "metadata": {
    "collapsed": true
   },
   "outputs": [],
   "source": [
    "df_test_all_regular.to_csv(folder_write+\"df_test_all_regular.csv\",index=False)\n",
    "df_control_all_regular.to_csv(folder_write+\"df_control_all_regular.csv\",index=False)\n",
    "\n",
    "df_18_plus_PS_test.to_csv(folder_write+\"df_18_plus_PS_test.csv\",index=False)\n",
    "df_18_plus_PS_control.to_csv(folder_write+\"df_18_plus_PS_control.csv\",index=False)\n",
    "\n",
    "folder_write_inner_decile = folder_write+'by_decile_group/'\n",
    "try:\n",
    "    os.stat(folder_write_inner_decile)\n",
    "except:\n",
    "    os.mkdir(folder_write_inner_decile)\n",
    "    \n",
    "folder_write_inner_HML = folder_write+'by_HML_group/'\n",
    "try:\n",
    "    os.stat(folder_write_inner_HML)\n",
    "except:\n",
    "    os.mkdir(folder_write_inner_HML)"
   ]
  },
  {
   "cell_type": "code",
   "execution_count": 22,
   "metadata": {},
   "outputs": [
    {
     "name": "stdout",
     "output_type": "stream",
     "text": [
      "1 T_Quadrant III_P_D01_2019Q3_RFM 2019-07-22 18:02:41.496110\n",
      "2 T_Quadrant III_P_D02_2019Q3_RFM 2019-07-22 18:02:43.787997\n",
      "3 T_Quadrant III_P_D03_2019Q3_RFM 2019-07-22 18:02:46.170734\n",
      "4 T_Quadrant III_P_D04_2019Q3_RFM 2019-07-22 18:02:48.377772\n",
      "5 T_Quadrant III_P_D05_2019Q3_RFM 2019-07-22 18:02:50.728081\n",
      "6 T_Quadrant III_P_D06_2019Q3_RFM 2019-07-22 18:02:52.854543\n",
      "7 T_Quadrant III_P_D07_2019Q3_RFM 2019-07-22 18:02:55.102093\n",
      "8 T_Quadrant III_P_D08_2019Q3_RFM 2019-07-22 18:02:57.259027\n",
      "9 T_Quadrant III_P_D09_2019Q3_RFM 2019-07-22 18:02:59.622117\n",
      "10 T_Quadrant III_P_D10_2019Q3_RFM 2019-07-22 18:03:01.953820\n",
      "11 T_Quadrant III_S_D01_2019Q3_RFM 2019-07-22 18:03:02.640763\n",
      "12 T_Quadrant III_S_D02_2019Q3_RFM 2019-07-22 18:03:03.487516\n",
      "13 T_Quadrant III_S_D03_2019Q3_RFM 2019-07-22 18:03:04.316100\n",
      "14 T_Quadrant III_S_D04_2019Q3_RFM 2019-07-22 18:03:05.242236\n",
      "15 T_Quadrant III_S_D05_2019Q3_RFM 2019-07-22 18:03:06.142424\n",
      "16 T_Quadrant III_S_D06_2019Q3_RFM 2019-07-22 18:03:07.067272\n",
      "17 T_Quadrant III_S_D07_2019Q3_RFM 2019-07-22 18:03:08.065159\n",
      "18 T_Quadrant III_S_D08_2019Q3_RFM 2019-07-22 18:03:09.007538\n",
      "19 T_Quadrant III_S_D09_2019Q3_RFM 2019-07-22 18:03:09.988827\n",
      "20 T_Quadrant III_S_D10_2019Q3_RFM 2019-07-22 18:03:10.960189\n",
      "21 T_Quadrant III_T_D01_2019Q3_RFM 2019-07-22 18:03:11.268991\n",
      "22 T_Quadrant III_T_D02_2019Q3_RFM 2019-07-22 18:03:11.729732\n",
      "23 T_Quadrant III_T_D03_2019Q3_RFM 2019-07-22 18:03:12.075124\n",
      "24 T_Quadrant III_T_D04_2019Q3_RFM 2019-07-22 18:03:12.513985\n",
      "25 T_Quadrant III_T_D05_2019Q3_RFM 2019-07-22 18:03:12.897501\n",
      "26 T_Quadrant III_T_D06_2019Q3_RFM 2019-07-22 18:03:13.388544\n",
      "27 T_Quadrant III_T_D07_2019Q3_RFM 2019-07-22 18:03:13.873952\n",
      "28 T_Quadrant III_T_D08_2019Q3_RFM 2019-07-22 18:03:14.409123\n",
      "29 T_Quadrant III_T_D09_2019Q3_RFM 2019-07-22 18:03:14.949120\n",
      "30 T_Quadrant III_T_D10_2019Q3_RFM 2019-07-22 18:03:15.462845\n",
      "31 T_Quadrant II_P_D01_2019Q3_RFM 2019-07-22 18:03:16.492598\n",
      "32 T_Quadrant II_P_D02_2019Q3_RFM 2019-07-22 18:03:17.407653\n",
      "33 T_Quadrant II_P_D03_2019Q3_RFM 2019-07-22 18:03:18.315564\n",
      "34 T_Quadrant II_P_D04_2019Q3_RFM 2019-07-22 18:03:19.177164\n",
      "35 T_Quadrant II_P_D05_2019Q3_RFM 2019-07-22 18:03:20.056009\n",
      "36 T_Quadrant II_P_D06_2019Q3_RFM 2019-07-22 18:03:20.914284\n",
      "37 T_Quadrant II_P_D07_2019Q3_RFM 2019-07-22 18:03:21.725490\n",
      "38 T_Quadrant II_P_D08_2019Q3_RFM 2019-07-22 18:03:22.537364\n",
      "39 T_Quadrant II_P_D09_2019Q3_RFM 2019-07-22 18:03:23.298387\n",
      "40 T_Quadrant II_P_D10_2019Q3_RFM 2019-07-22 18:03:24.084504\n",
      "41 T_Quadrant II_S_D01_2019Q3_RFM 2019-07-22 18:03:24.389284\n",
      "42 T_Quadrant II_S_D02_2019Q3_RFM 2019-07-22 18:03:24.713569\n",
      "43 T_Quadrant II_S_D03_2019Q3_RFM 2019-07-22 18:03:25.027647\n",
      "44 T_Quadrant II_S_D04_2019Q3_RFM 2019-07-22 18:03:25.356656\n",
      "45 T_Quadrant II_S_D05_2019Q3_RFM 2019-07-22 18:03:25.670837\n",
      "46 T_Quadrant II_S_D06_2019Q3_RFM 2019-07-22 18:03:26.023782\n",
      "47 T_Quadrant II_S_D07_2019Q3_RFM 2019-07-22 18:03:26.340693\n",
      "48 T_Quadrant II_S_D08_2019Q3_RFM 2019-07-22 18:03:26.679070\n",
      "49 T_Quadrant II_S_D09_2019Q3_RFM 2019-07-22 18:03:26.994880\n",
      "50 T_Quadrant II_S_D10_2019Q3_RFM 2019-07-22 18:03:27.320690\n",
      "51 T_Quadrant II_T_D01_2019Q3_RFM 2019-07-22 18:03:27.433942\n",
      "52 T_Quadrant II_T_D02_2019Q3_RFM 2019-07-22 18:03:27.577426\n",
      "53 T_Quadrant II_T_D03_2019Q3_RFM 2019-07-22 18:03:27.695865\n",
      "54 T_Quadrant II_T_D04_2019Q3_RFM 2019-07-22 18:03:27.849844\n",
      "55 T_Quadrant II_T_D05_2019Q3_RFM 2019-07-22 18:03:27.972084\n",
      "56 T_Quadrant II_T_D06_2019Q3_RFM 2019-07-22 18:03:28.149428\n",
      "57 T_Quadrant II_T_D07_2019Q3_RFM 2019-07-22 18:03:28.281333\n",
      "58 T_Quadrant II_T_D08_2019Q3_RFM 2019-07-22 18:03:28.445612\n",
      "59 T_Quadrant II_T_D09_2019Q3_RFM 2019-07-22 18:03:28.584732\n",
      "60 T_Quadrant II_T_D10_2019Q3_RFM 2019-07-22 18:03:28.725857\n",
      "61 T_Quadrant IV_P_D01_2019Q3_RFM 2019-07-22 18:03:30.695738\n",
      "62 T_Quadrant IV_P_D02_2019Q3_RFM 2019-07-22 18:03:32.418351\n",
      "63 T_Quadrant IV_P_D03_2019Q3_RFM 2019-07-22 18:03:34.299902\n",
      "64 T_Quadrant IV_P_D04_2019Q3_RFM 2019-07-22 18:03:35.975273\n",
      "65 T_Quadrant IV_P_D05_2019Q3_RFM 2019-07-22 18:03:37.807944\n",
      "66 T_Quadrant IV_P_D06_2019Q3_RFM 2019-07-22 18:03:39.379884\n",
      "67 T_Quadrant IV_P_D07_2019Q3_RFM 2019-07-22 18:03:41.123577\n",
      "68 T_Quadrant IV_P_D08_2019Q3_RFM 2019-07-22 18:03:42.811079\n",
      "69 T_Quadrant IV_P_D09_2019Q3_RFM 2019-07-22 18:03:44.612403\n",
      "70 T_Quadrant IV_P_D10_2019Q3_RFM 2019-07-22 18:03:46.399708\n",
      "71 T_Quadrant IV_S_D01_2019Q3_RFM 2019-07-22 18:03:47.045546\n",
      "72 T_Quadrant IV_S_D02_2019Q3_RFM 2019-07-22 18:03:47.720148\n",
      "73 T_Quadrant IV_S_D03_2019Q3_RFM 2019-07-22 18:03:48.452810\n",
      "74 T_Quadrant IV_S_D04_2019Q3_RFM 2019-07-22 18:03:49.236658\n",
      "75 T_Quadrant IV_S_D05_2019Q3_RFM 2019-07-22 18:03:49.996701\n",
      "76 T_Quadrant IV_S_D06_2019Q3_RFM 2019-07-22 18:03:50.760535\n",
      "77 T_Quadrant IV_S_D07_2019Q3_RFM 2019-07-22 18:03:51.558926\n",
      "78 T_Quadrant IV_S_D08_2019Q3_RFM 2019-07-22 18:03:52.287169\n",
      "79 T_Quadrant IV_S_D09_2019Q3_RFM 2019-07-22 18:03:53.031489\n",
      "80 T_Quadrant IV_S_D10_2019Q3_RFM 2019-07-22 18:03:53.780253\n",
      "81 T_Quadrant IV_T_D01_2019Q3_RFM 2019-07-22 18:03:54.051955\n",
      "82 T_Quadrant IV_T_D02_2019Q3_RFM 2019-07-22 18:03:54.410420\n",
      "83 T_Quadrant IV_T_D03_2019Q3_RFM 2019-07-22 18:03:54.690597\n",
      "84 T_Quadrant IV_T_D04_2019Q3_RFM 2019-07-22 18:03:55.027067\n",
      "85 T_Quadrant IV_T_D05_2019Q3_RFM 2019-07-22 18:03:55.319111\n",
      "86 T_Quadrant IV_T_D06_2019Q3_RFM 2019-07-22 18:03:55.693171\n",
      "87 T_Quadrant IV_T_D07_2019Q3_RFM 2019-07-22 18:03:56.015660\n",
      "88 T_Quadrant IV_T_D08_2019Q3_RFM 2019-07-22 18:03:56.380461\n",
      "89 T_Quadrant IV_T_D09_2019Q3_RFM 2019-07-22 18:03:56.727940\n",
      "90 T_Quadrant IV_T_D10_2019Q3_RFM 2019-07-22 18:03:57.077893\n",
      "91 T_Quadrant I_P_D01_2019Q3_RFM 2019-07-22 18:03:59.231184\n",
      "92 T_Quadrant I_P_D02_2019Q3_RFM 2019-07-22 18:04:01.230336\n",
      "93 T_Quadrant I_P_D03_2019Q3_RFM 2019-07-22 18:04:03.228853\n",
      "94 T_Quadrant I_P_D04_2019Q3_RFM 2019-07-22 18:04:05.147100\n",
      "95 T_Quadrant I_P_D05_2019Q3_RFM 2019-07-22 18:04:07.046873\n",
      "96 T_Quadrant I_P_D06_2019Q3_RFM 2019-07-22 18:04:08.881048\n",
      "97 T_Quadrant I_P_D07_2019Q3_RFM 2019-07-22 18:04:10.669293\n",
      "98 T_Quadrant I_P_D08_2019Q3_RFM 2019-07-22 18:04:12.418113\n",
      "99 T_Quadrant I_P_D09_2019Q3_RFM 2019-07-22 18:04:14.069794\n",
      "100 T_Quadrant I_P_D10_2019Q3_RFM 2019-07-22 18:04:15.760389\n",
      "101 T_Quadrant I_S_D01_2019Q3_RFM 2019-07-22 18:04:16.381690\n",
      "102 T_Quadrant I_S_D02_2019Q3_RFM 2019-07-22 18:04:17.096924\n",
      "103 T_Quadrant I_S_D03_2019Q3_RFM 2019-07-22 18:04:17.771831\n",
      "104 T_Quadrant I_S_D04_2019Q3_RFM 2019-07-22 18:04:18.505129\n",
      "105 T_Quadrant I_S_D05_2019Q3_RFM 2019-07-22 18:04:19.170835\n",
      "106 T_Quadrant I_S_D06_2019Q3_RFM 2019-07-22 18:04:19.932621\n",
      "107 T_Quadrant I_S_D07_2019Q3_RFM 2019-07-22 18:04:20.678868\n",
      "108 T_Quadrant I_S_D08_2019Q3_RFM 2019-07-22 18:04:21.481399\n",
      "109 T_Quadrant I_S_D09_2019Q3_RFM 2019-07-22 18:04:22.225442\n",
      "110 T_Quadrant I_S_D10_2019Q3_RFM 2019-07-22 18:04:22.971020\n",
      "111 T_Quadrant I_T_D01_2019Q3_RFM 2019-07-22 18:04:23.225448\n",
      "112 T_Quadrant I_T_D02_2019Q3_RFM 2019-07-22 18:04:23.584006\n",
      "113 T_Quadrant I_T_D03_2019Q3_RFM 2019-07-22 18:04:23.877145\n",
      "114 T_Quadrant I_T_D04_2019Q3_RFM 2019-07-22 18:04:24.274823\n",
      "115 T_Quadrant I_T_D05_2019Q3_RFM 2019-07-22 18:04:24.655710\n",
      "116 T_Quadrant I_T_D06_2019Q3_RFM 2019-07-22 18:04:25.141739\n",
      "117 T_Quadrant I_T_D07_2019Q3_RFM 2019-07-22 18:04:25.485222\n",
      "118 T_Quadrant I_T_D08_2019Q3_RFM 2019-07-22 18:04:25.886712\n",
      "119 T_Quadrant I_T_D09_2019Q3_RFM 2019-07-22 18:04:26.241955\n",
      "120 T_Quadrant I_T_D10_2019Q3_RFM 2019-07-22 18:04:26.591908\n",
      "1 C_Quadrant III_P_D01_2019Q3_RFM 2019-07-22 18:04:26.946198\n",
      "2 C_Quadrant III_P_D02_2019Q3_RFM 2019-07-22 18:04:27.010716\n",
      "3 C_Quadrant III_P_D03_2019Q3_RFM 2019-07-22 18:04:27.079614\n",
      "4 C_Quadrant III_P_D04_2019Q3_RFM 2019-07-22 18:04:27.143534\n",
      "5 C_Quadrant III_P_D05_2019Q3_RFM 2019-07-22 18:04:27.211227\n",
      "6 C_Quadrant III_P_D06_2019Q3_RFM 2019-07-22 18:04:27.272637\n",
      "7 C_Quadrant III_P_D07_2019Q3_RFM 2019-07-22 18:04:27.338665\n",
      "8 C_Quadrant III_P_D08_2019Q3_RFM 2019-07-22 18:04:27.402063\n",
      "9 C_Quadrant III_P_D09_2019Q3_RFM 2019-07-22 18:04:27.469122\n",
      "10 C_Quadrant III_P_D10_2019Q3_RFM 2019-07-22 18:04:27.534287\n",
      "11 C_Quadrant III_S_D01_2019Q3_RFM 2019-07-22 18:04:27.557063\n",
      "12 C_Quadrant III_S_D02_2019Q3_RFM 2019-07-22 18:04:27.586581\n",
      "13 C_Quadrant III_S_D03_2019Q3_RFM 2019-07-22 18:04:27.611334\n",
      "14 C_Quadrant III_S_D04_2019Q3_RFM 2019-07-22 18:04:27.637810\n",
      "15 C_Quadrant III_S_D05_2019Q3_RFM 2019-07-22 18:04:27.663888\n"
     ]
    },
    {
     "name": "stdout",
     "output_type": "stream",
     "text": [
      "16 C_Quadrant III_S_D06_2019Q3_RFM 2019-07-22 18:04:27.692346\n",
      "17 C_Quadrant III_S_D07_2019Q3_RFM 2019-07-22 18:04:27.721358\n",
      "18 C_Quadrant III_S_D08_2019Q3_RFM 2019-07-22 18:04:27.750278\n",
      "19 C_Quadrant III_S_D09_2019Q3_RFM 2019-07-22 18:04:27.782751\n",
      "20 C_Quadrant III_S_D10_2019Q3_RFM 2019-07-22 18:04:27.812755\n",
      "21 C_Quadrant III_T_D01_2019Q3_RFM 2019-07-22 18:04:27.823343\n",
      "22 C_Quadrant III_T_D02_2019Q3_RFM 2019-07-22 18:04:27.839280\n",
      "23 C_Quadrant III_T_D03_2019Q3_RFM 2019-07-22 18:04:27.851339\n",
      "24 C_Quadrant III_T_D04_2019Q3_RFM 2019-07-22 18:04:27.866268\n",
      "25 C_Quadrant III_T_D05_2019Q3_RFM 2019-07-22 18:04:27.879931\n",
      "26 C_Quadrant III_T_D06_2019Q3_RFM 2019-07-22 18:04:27.897737\n",
      "27 C_Quadrant III_T_D07_2019Q3_RFM 2019-07-22 18:04:27.914058\n",
      "28 C_Quadrant III_T_D08_2019Q3_RFM 2019-07-22 18:04:27.931694\n",
      "29 C_Quadrant III_T_D09_2019Q3_RFM 2019-07-22 18:04:27.949391\n",
      "30 C_Quadrant III_T_D10_2019Q3_RFM 2019-07-22 18:04:27.966289\n",
      "31 C_Quadrant II_P_D01_2019Q3_RFM 2019-07-22 18:04:27.998942\n",
      "32 C_Quadrant II_P_D02_2019Q3_RFM 2019-07-22 18:04:28.030793\n",
      "33 C_Quadrant II_P_D03_2019Q3_RFM 2019-07-22 18:04:28.058858\n",
      "34 C_Quadrant II_P_D04_2019Q3_RFM 2019-07-22 18:04:28.085991\n",
      "35 C_Quadrant II_P_D05_2019Q3_RFM 2019-07-22 18:04:28.115190\n",
      "36 C_Quadrant II_P_D06_2019Q3_RFM 2019-07-22 18:04:28.142240\n",
      "37 C_Quadrant II_P_D07_2019Q3_RFM 2019-07-22 18:04:28.168311\n",
      "38 C_Quadrant II_P_D08_2019Q3_RFM 2019-07-22 18:04:28.193953\n",
      "39 C_Quadrant II_P_D09_2019Q3_RFM 2019-07-22 18:04:28.218115\n",
      "40 C_Quadrant II_P_D10_2019Q3_RFM 2019-07-22 18:04:28.242906\n",
      "41 C_Quadrant II_S_D01_2019Q3_RFM 2019-07-22 18:04:28.254747\n",
      "42 C_Quadrant II_S_D02_2019Q3_RFM 2019-07-22 18:04:28.268172\n",
      "43 C_Quadrant II_S_D03_2019Q3_RFM 2019-07-22 18:04:28.279598\n",
      "44 C_Quadrant II_S_D04_2019Q3_RFM 2019-07-22 18:04:28.291569\n",
      "45 C_Quadrant II_S_D05_2019Q3_RFM 2019-07-22 18:04:28.303002\n",
      "46 C_Quadrant II_S_D06_2019Q3_RFM 2019-07-22 18:04:28.316899\n",
      "47 C_Quadrant II_S_D07_2019Q3_RFM 2019-07-22 18:04:28.328504\n",
      "48 C_Quadrant II_S_D08_2019Q3_RFM 2019-07-22 18:04:28.340645\n",
      "49 C_Quadrant II_S_D09_2019Q3_RFM 2019-07-22 18:04:28.352078\n",
      "50 C_Quadrant II_S_D10_2019Q3_RFM 2019-07-22 18:04:28.363587\n",
      "51 C_Quadrant II_T_D01_2019Q3_RFM 2019-07-22 18:04:28.369635\n",
      "52 C_Quadrant II_T_D02_2019Q3_RFM 2019-07-22 18:04:28.377058\n",
      "53 C_Quadrant II_T_D03_2019Q3_RFM 2019-07-22 18:04:28.382908\n",
      "54 C_Quadrant II_T_D04_2019Q3_RFM 2019-07-22 18:04:28.389664\n",
      "55 C_Quadrant II_T_D05_2019Q3_RFM 2019-07-22 18:04:28.395679\n",
      "56 C_Quadrant II_T_D06_2019Q3_RFM 2019-07-22 18:04:28.403152\n",
      "57 C_Quadrant II_T_D07_2019Q3_RFM 2019-07-22 18:04:28.409423\n",
      "58 C_Quadrant II_T_D08_2019Q3_RFM 2019-07-22 18:04:28.416541\n",
      "59 C_Quadrant II_T_D09_2019Q3_RFM 2019-07-22 18:04:28.423013\n",
      "60 C_Quadrant II_T_D10_2019Q3_RFM 2019-07-22 18:04:28.429577\n",
      "61 C_Quadrant IV_P_D01_2019Q3_RFM 2019-07-22 18:04:28.490473\n",
      "62 C_Quadrant IV_P_D02_2019Q3_RFM 2019-07-22 18:04:28.551758\n",
      "63 C_Quadrant IV_P_D03_2019Q3_RFM 2019-07-22 18:04:28.608175\n",
      "64 C_Quadrant IV_P_D04_2019Q3_RFM 2019-07-22 18:04:28.658213\n",
      "65 C_Quadrant IV_P_D05_2019Q3_RFM 2019-07-22 18:04:28.711960\n",
      "66 C_Quadrant IV_P_D06_2019Q3_RFM 2019-07-22 18:04:28.760014\n",
      "67 C_Quadrant IV_P_D07_2019Q3_RFM 2019-07-22 18:04:28.811757\n",
      "68 C_Quadrant IV_P_D08_2019Q3_RFM 2019-07-22 18:04:28.860065\n",
      "69 C_Quadrant IV_P_D09_2019Q3_RFM 2019-07-22 18:04:28.911105\n",
      "70 C_Quadrant IV_P_D10_2019Q3_RFM 2019-07-22 18:04:28.963269\n",
      "71 C_Quadrant IV_S_D01_2019Q3_RFM 2019-07-22 18:04:28.987217\n",
      "72 C_Quadrant IV_S_D02_2019Q3_RFM 2019-07-22 18:04:29.011410\n",
      "73 C_Quadrant IV_S_D03_2019Q3_RFM 2019-07-22 18:04:29.033496\n",
      "74 C_Quadrant IV_S_D04_2019Q3_RFM 2019-07-22 18:04:29.055790\n",
      "75 C_Quadrant IV_S_D05_2019Q3_RFM 2019-07-22 18:04:29.078064\n",
      "76 C_Quadrant IV_S_D06_2019Q3_RFM 2019-07-22 18:04:29.100379\n",
      "77 C_Quadrant IV_S_D07_2019Q3_RFM 2019-07-22 18:04:29.123470\n",
      "78 C_Quadrant IV_S_D08_2019Q3_RFM 2019-07-22 18:04:29.146463\n",
      "79 C_Quadrant IV_S_D09_2019Q3_RFM 2019-07-22 18:04:29.172161\n",
      "80 C_Quadrant IV_S_D10_2019Q3_RFM 2019-07-22 18:04:29.196057\n",
      "81 C_Quadrant IV_T_D01_2019Q3_RFM 2019-07-22 18:04:29.205868\n",
      "82 C_Quadrant IV_T_D02_2019Q3_RFM 2019-07-22 18:04:29.217724\n",
      "83 C_Quadrant IV_T_D03_2019Q3_RFM 2019-07-22 18:04:29.227470\n",
      "84 C_Quadrant IV_T_D04_2019Q3_RFM 2019-07-22 18:04:29.241631\n",
      "85 C_Quadrant IV_T_D05_2019Q3_RFM 2019-07-22 18:04:29.252387\n",
      "86 C_Quadrant IV_T_D06_2019Q3_RFM 2019-07-22 18:04:29.265002\n",
      "87 C_Quadrant IV_T_D07_2019Q3_RFM 2019-07-22 18:04:29.276098\n",
      "88 C_Quadrant IV_T_D08_2019Q3_RFM 2019-07-22 18:04:29.288509\n",
      "89 C_Quadrant IV_T_D09_2019Q3_RFM 2019-07-22 18:04:29.300561\n",
      "90 C_Quadrant IV_T_D10_2019Q3_RFM 2019-07-22 18:04:29.312476\n",
      "91 C_Quadrant I_P_D01_2019Q3_RFM 2019-07-22 18:04:29.387991\n",
      "92 C_Quadrant I_P_D02_2019Q3_RFM 2019-07-22 18:04:29.451890\n",
      "93 C_Quadrant I_P_D03_2019Q3_RFM 2019-07-22 18:04:29.511038\n",
      "94 C_Quadrant I_P_D04_2019Q3_RFM 2019-07-22 18:04:29.567785\n",
      "95 C_Quadrant I_P_D05_2019Q3_RFM 2019-07-22 18:04:29.624507\n",
      "96 C_Quadrant I_P_D06_2019Q3_RFM 2019-07-22 18:04:29.678689\n",
      "97 C_Quadrant I_P_D07_2019Q3_RFM 2019-07-22 18:04:29.730781\n",
      "98 C_Quadrant I_P_D08_2019Q3_RFM 2019-07-22 18:04:29.781833\n",
      "99 C_Quadrant I_P_D09_2019Q3_RFM 2019-07-22 18:04:29.831127\n",
      "100 C_Quadrant I_P_D10_2019Q3_RFM 2019-07-22 18:04:29.880674\n",
      "101 C_Quadrant I_S_D01_2019Q3_RFM 2019-07-22 18:04:29.903658\n",
      "102 C_Quadrant I_S_D02_2019Q3_RFM 2019-07-22 18:04:29.928041\n",
      "103 C_Quadrant I_S_D03_2019Q3_RFM 2019-07-22 18:04:29.949215\n",
      "104 C_Quadrant I_S_D04_2019Q3_RFM 2019-07-22 18:04:29.972582\n",
      "105 C_Quadrant I_S_D05_2019Q3_RFM 2019-07-22 18:04:29.994120\n",
      "106 C_Quadrant I_S_D06_2019Q3_RFM 2019-07-22 18:04:30.018109\n",
      "107 C_Quadrant I_S_D07_2019Q3_RFM 2019-07-22 18:04:30.041126\n",
      "108 C_Quadrant I_S_D08_2019Q3_RFM 2019-07-22 18:04:30.064596\n",
      "109 C_Quadrant I_S_D09_2019Q3_RFM 2019-07-22 18:04:30.085812\n",
      "110 C_Quadrant I_S_D10_2019Q3_RFM 2019-07-22 18:04:30.107190\n",
      "111 C_Quadrant I_T_D01_2019Q3_RFM 2019-07-22 18:04:30.120323\n",
      "112 C_Quadrant I_T_D02_2019Q3_RFM 2019-07-22 18:04:30.133352\n",
      "113 C_Quadrant I_T_D03_2019Q3_RFM 2019-07-22 18:04:30.143530\n",
      "114 C_Quadrant I_T_D04_2019Q3_RFM 2019-07-22 18:04:30.156986\n",
      "115 C_Quadrant I_T_D05_2019Q3_RFM 2019-07-22 18:04:30.167772\n",
      "116 C_Quadrant I_T_D06_2019Q3_RFM 2019-07-22 18:04:30.181945\n",
      "117 C_Quadrant I_T_D07_2019Q3_RFM 2019-07-22 18:04:30.193228\n",
      "118 C_Quadrant I_T_D08_2019Q3_RFM 2019-07-22 18:04:30.206315\n",
      "119 C_Quadrant I_T_D09_2019Q3_RFM 2019-07-22 18:04:30.218029\n",
      "120 C_Quadrant I_T_D10_2019Q3_RFM 2019-07-22 18:04:30.229563\n"
     ]
    }
   ],
   "source": [
    "# Decile\n",
    "# Test\n",
    "i_counter=0\n",
    "for seg,group in df_test_all_regular.groupby(['segment_Decile']):\n",
    "    group=group[['customer_id_hashed','email_address_hash','segment_Decile','segment_2019Q3']]\n",
    "    group.to_csv(folder_write_inner_decile+seg.replace(\" \",\"_\")+\".csv\",index=False)\n",
    "    i_counter+=1\n",
    "    print(i_counter,seg,datetime.datetime.now())\n",
    "    \n",
    "# Decile\n",
    "# Control    \n",
    "i_counter=0\n",
    "for seg,group in df_control_all_regular.groupby(['segment_Decile']):\n",
    "    group=group[['customer_id_hashed','email_address_hash','segment_Decile','segment_2019Q3']]\n",
    "    group.to_csv(folder_write_inner_decile+seg.replace(\" \",\"_\")+\".csv\",index=False)\n",
    "    i_counter+=1\n",
    "    print(i_counter,seg,datetime.datetime.now())"
   ]
  },
  {
   "cell_type": "code",
   "execution_count": 23,
   "metadata": {},
   "outputs": [
    {
     "name": "stdout",
     "output_type": "stream",
     "text": [
      "1 T_Quadrant III_P_H_2019Q3_RFM 2019-07-22 18:04:42.863660\n",
      "2 T_Quadrant III_P_L_2019Q3_RFM 2019-07-22 18:04:48.790984\n",
      "3 T_Quadrant III_P_M_2019Q3_RFM 2019-07-22 18:04:54.678416\n",
      "4 T_Quadrant III_S_H_2019Q3_RFM 2019-07-22 18:04:57.498402\n",
      "5 T_Quadrant III_S_L_2019Q3_RFM 2019-07-22 18:05:00.062210\n",
      "6 T_Quadrant III_S_M_2019Q3_RFM 2019-07-22 18:05:02.407421\n",
      "7 T_Quadrant III_T_H_2019Q3_RFM 2019-07-22 18:05:03.740786\n",
      "8 T_Quadrant III_T_L_2019Q3_RFM 2019-07-22 18:05:05.242665\n",
      "9 T_Quadrant III_T_M_2019Q3_RFM 2019-07-22 18:05:06.485944\n",
      "10 T_Quadrant II_P_H_2019Q3_RFM 2019-07-22 18:05:09.774946\n",
      "11 T_Quadrant II_P_L_2019Q3_RFM 2019-07-22 18:05:12.025067\n",
      "12 T_Quadrant II_P_M_2019Q3_RFM 2019-07-22 18:05:14.503094\n",
      "13 T_Quadrant II_S_H_2019Q3_RFM 2019-07-22 18:05:15.785849\n",
      "14 T_Quadrant II_S_L_2019Q3_RFM 2019-07-22 18:05:16.717545\n",
      "15 T_Quadrant II_S_M_2019Q3_RFM 2019-07-22 18:05:17.637165\n",
      "16 T_Quadrant II_T_H_2019Q3_RFM 2019-07-22 18:05:18.208373\n",
      "17 T_Quadrant II_T_L_2019Q3_RFM 2019-07-22 18:05:18.640412\n",
      "18 T_Quadrant II_T_M_2019Q3_RFM 2019-07-22 18:05:19.054657\n",
      "19 T_Quadrant IV_P_H_2019Q3_RFM 2019-07-22 18:05:25.610209\n",
      "20 T_Quadrant IV_P_L_2019Q3_RFM 2019-07-22 18:05:30.170602\n",
      "21 T_Quadrant IV_P_M_2019Q3_RFM 2019-07-22 18:05:34.751029\n",
      "22 T_Quadrant IV_S_H_2019Q3_RFM 2019-07-22 18:05:37.203590\n",
      "23 T_Quadrant IV_S_L_2019Q3_RFM 2019-07-22 18:05:39.214607\n",
      "24 T_Quadrant IV_S_M_2019Q3_RFM 2019-07-22 18:05:41.134028\n",
      "25 T_Quadrant IV_T_H_2019Q3_RFM 2019-07-22 18:05:42.214057\n",
      "26 T_Quadrant IV_T_L_2019Q3_RFM 2019-07-22 18:05:43.192464\n",
      "27 T_Quadrant IV_T_M_2019Q3_RFM 2019-07-22 18:05:44.095220\n",
      "28 T_Quadrant I_P_H_2019Q3_RFM 2019-07-22 18:05:51.298139\n",
      "29 T_Quadrant I_P_L_2019Q3_RFM 2019-07-22 18:05:56.102751\n",
      "30 T_Quadrant I_P_M_2019Q3_RFM 2019-07-22 18:06:01.396647\n",
      "31 T_Quadrant I_S_H_2019Q3_RFM 2019-07-22 18:06:04.160837\n",
      "32 T_Quadrant I_S_L_2019Q3_RFM 2019-07-22 18:06:06.077085\n",
      "33 T_Quadrant I_S_M_2019Q3_RFM 2019-07-22 18:06:07.997295\n",
      "34 T_Quadrant I_T_H_2019Q3_RFM 2019-07-22 18:06:09.211307\n",
      "35 T_Quadrant I_T_L_2019Q3_RFM 2019-07-22 18:06:10.214158\n",
      "36 T_Quadrant I_T_M_2019Q3_RFM 2019-07-22 18:06:11.190336\n",
      "1 C_Quadrant III_P_H_2019Q3_RFM 2019-07-22 18:06:11.627401\n",
      "2 C_Quadrant III_P_L_2019Q3_RFM 2019-07-22 18:06:11.818173\n",
      "3 C_Quadrant III_P_M_2019Q3_RFM 2019-07-22 18:06:11.992956\n",
      "4 C_Quadrant III_S_H_2019Q3_RFM 2019-07-22 18:06:12.079865\n",
      "5 C_Quadrant III_S_L_2019Q3_RFM 2019-07-22 18:06:12.157781\n",
      "6 C_Quadrant III_S_M_2019Q3_RFM 2019-07-22 18:06:12.230715\n",
      "7 C_Quadrant III_T_H_2019Q3_RFM 2019-07-22 18:06:12.273732\n",
      "8 C_Quadrant III_T_L_2019Q3_RFM 2019-07-22 18:06:12.318520\n",
      "9 C_Quadrant III_T_M_2019Q3_RFM 2019-07-22 18:06:12.356239\n",
      "10 C_Quadrant II_P_H_2019Q3_RFM 2019-07-22 18:06:15.781738\n",
      "11 C_Quadrant II_P_L_2019Q3_RFM 2019-07-22 18:06:15.846350\n",
      "12 C_Quadrant II_P_M_2019Q3_RFM 2019-07-22 18:06:15.914312\n",
      "13 C_Quadrant II_S_H_2019Q3_RFM 2019-07-22 18:06:15.950105\n",
      "14 C_Quadrant II_S_L_2019Q3_RFM 2019-07-22 18:06:15.977815\n",
      "15 C_Quadrant II_S_M_2019Q3_RFM 2019-07-22 18:06:16.006009\n",
      "16 C_Quadrant II_T_H_2019Q3_RFM 2019-07-22 18:06:16.022592\n",
      "17 C_Quadrant II_T_L_2019Q3_RFM 2019-07-22 18:06:16.036749\n",
      "18 C_Quadrant II_T_M_2019Q3_RFM 2019-07-22 18:06:16.050577\n",
      "19 C_Quadrant IV_P_H_2019Q3_RFM 2019-07-22 18:06:16.246992\n",
      "20 C_Quadrant IV_P_L_2019Q3_RFM 2019-07-22 18:06:16.385527\n",
      "21 C_Quadrant IV_P_M_2019Q3_RFM 2019-07-22 18:06:16.520895\n",
      "22 C_Quadrant IV_S_H_2019Q3_RFM 2019-07-22 18:06:16.594376\n",
      "23 C_Quadrant IV_S_L_2019Q3_RFM 2019-07-22 18:06:16.653929\n",
      "24 C_Quadrant IV_S_M_2019Q3_RFM 2019-07-22 18:06:16.710848\n",
      "25 C_Quadrant IV_T_H_2019Q3_RFM 2019-07-22 18:06:16.743758\n",
      "26 C_Quadrant IV_T_L_2019Q3_RFM 2019-07-22 18:06:16.773595\n",
      "27 C_Quadrant IV_T_M_2019Q3_RFM 2019-07-22 18:06:16.801094\n",
      "28 C_Quadrant I_P_H_2019Q3_RFM 2019-07-22 18:06:17.022209\n",
      "29 C_Quadrant I_P_L_2019Q3_RFM 2019-07-22 18:06:17.158216\n",
      "30 C_Quadrant I_P_M_2019Q3_RFM 2019-07-22 18:06:17.306437\n",
      "31 C_Quadrant I_S_H_2019Q3_RFM 2019-07-22 18:06:17.381771\n",
      "32 C_Quadrant I_S_L_2019Q3_RFM 2019-07-22 18:06:17.439457\n",
      "33 C_Quadrant I_S_M_2019Q3_RFM 2019-07-22 18:06:17.496641\n",
      "34 C_Quadrant I_T_H_2019Q3_RFM 2019-07-22 18:06:17.533960\n",
      "35 C_Quadrant I_T_L_2019Q3_RFM 2019-07-22 18:06:17.564423\n",
      "36 C_Quadrant I_T_M_2019Q3_RFM 2019-07-22 18:06:17.594347\n"
     ]
    }
   ],
   "source": [
    "# HML\n",
    "# Test\n",
    "i_counter=0\n",
    "for seg,group in df_test_all_regular.groupby(['segment_2019Q3']):\n",
    "    group=group[['customer_id_hashed','email_address_hash','segment_2019Q3']].rename(columns={\"segment_2019Q3\":\"segment\"})\n",
    "    group.to_csv(folder_write_inner_HML+seg.replace(\" \",\"_\")+\".csv\",index=False)\n",
    "    i_counter+=1\n",
    "    print(i_counter,seg,datetime.datetime.now())\n",
    "    \n",
    "# HML\n",
    "# Control\n",
    "i_counter=0\n",
    "for seg,group in df_control_all_regular.groupby(['segment_2019Q3']):\n",
    "    group=group[['customer_id_hashed','email_address_hash','segment_2019Q3']].rename(columns={\"segment_2019Q3\":\"segment\"})\n",
    "    group.to_csv(folder_write_inner_HML+seg.replace(\" \",\"_\")+\".csv\",index=False)\n",
    "    i_counter+=1\n",
    "    print(i_counter,seg,datetime.datetime.now())"
   ]
  },
  {
   "cell_type": "code",
   "execution_count": 24,
   "metadata": {},
   "outputs": [
    {
     "data": {
      "text/plain": [
       "(500002, 5)"
      ]
     },
     "execution_count": 24,
     "metadata": {},
     "output_type": "execute_result"
    }
   ],
   "source": [
    "df_control_all_regular.shape"
   ]
  },
  {
   "cell_type": "code",
   "execution_count": 25,
   "metadata": {},
   "outputs": [
    {
     "data": {
      "text/plain": [
       "(100000, 6)"
      ]
     },
     "execution_count": 25,
     "metadata": {},
     "output_type": "execute_result"
    }
   ],
   "source": [
    "df_18_plus_PS_control.shape"
   ]
  },
  {
   "cell_type": "markdown",
   "metadata": {},
   "source": [
    "# Summary"
   ]
  },
  {
   "cell_type": "code",
   "execution_count": 26,
   "metadata": {},
   "outputs": [
    {
     "name": "stdout",
     "output_type": "stream",
     "text": [
      "48\n"
     ]
    }
   ],
   "source": [
    "HML_files=glob.glob(\"/home/jian/Projects/Big_Lots/Live_Ramp/Quarterly_Update_2019Q3/output_2019-07-20/Test_and_Control/by_HML_group/*.csv\")\n",
    "HML_files=[x for x in HML_files if \"_T_\" not in x]\n",
    "print(len(HML_files))\n"
   ]
  },
  {
   "cell_type": "code",
   "execution_count": 27,
   "metadata": {},
   "outputs": [
    {
     "data": {
      "text/plain": [
       "250"
      ]
     },
     "execution_count": 27,
     "metadata": {},
     "output_type": "execute_result"
    }
   ],
   "source": [
    "# summary_all_HML\n",
    "\n",
    "df_all_HML=pd.DataFrame()\n",
    "for file in glob.glob(\"/home/jian/Projects/Big_Lots/Live_Ramp/Quarterly_Update_2019Q3/output_2019-07-20/Test_and_Control/by_HML_group/*.csv\"):\n",
    "    df=pd.read_csv(file,dtype=str)\n",
    "    df_all_HML=df_all_HML.append(df)\n",
    "summary_all_HML=df_all_HML.groupby(\"segment\")['customer_id_hashed'].count().to_frame().reset_index()\n",
    "\n",
    "del df_all_HML\n",
    "gc.collect()"
   ]
  },
  {
   "cell_type": "code",
   "execution_count": 28,
   "metadata": {},
   "outputs": [
    {
     "data": {
      "text/plain": [
       "315"
      ]
     },
     "execution_count": 28,
     "metadata": {},
     "output_type": "execute_result"
    }
   ],
   "source": [
    "# summary_all_decile\n",
    "\n",
    "df_all_decile=pd.DataFrame()\n",
    "for file in glob.glob(\"/home/jian/Projects/Big_Lots/Live_Ramp/Quarterly_Update_2019Q3/output_2019-07-20/Test_and_Control/by_decile_group/*.csv\"):\n",
    "    df=pd.read_csv(file,dtype=str)\n",
    "    df_all_decile=df_all_decile.append(df)\n",
    "summary_all_decile=df_all_decile.groupby(\"segment_Decile\")['customer_id_hashed'].count().to_frame().reset_index()\n",
    "\n",
    "del df_all_decile\n",
    "gc.collect()"
   ]
  },
  {
   "cell_type": "code",
   "execution_count": 29,
   "metadata": {},
   "outputs": [
    {
     "data": {
      "text/html": [
       "<div>\n",
       "<style>\n",
       "    .dataframe thead tr:only-child th {\n",
       "        text-align: right;\n",
       "    }\n",
       "\n",
       "    .dataframe thead th {\n",
       "        text-align: left;\n",
       "    }\n",
       "\n",
       "    .dataframe tbody tr th {\n",
       "        vertical-align: top;\n",
       "    }\n",
       "</style>\n",
       "<table border=\"1\" class=\"dataframe\">\n",
       "  <thead>\n",
       "    <tr style=\"text-align: right;\">\n",
       "      <th></th>\n",
       "      <th>segment</th>\n",
       "      <th>customer_id_hashed</th>\n",
       "    </tr>\n",
       "  </thead>\n",
       "  <tbody>\n",
       "    <tr>\n",
       "      <th>0</th>\n",
       "      <td>C_Quadrant III_P_H_2019Q3_RFM</td>\n",
       "      <td>42851</td>\n",
       "    </tr>\n",
       "    <tr>\n",
       "      <th>1</th>\n",
       "      <td>C_Quadrant III_P_L_2019Q3_RFM</td>\n",
       "      <td>31860</td>\n",
       "    </tr>\n",
       "  </tbody>\n",
       "</table>\n",
       "</div>"
      ],
      "text/plain": [
       "                         segment  customer_id_hashed\n",
       "0  C_Quadrant III_P_H_2019Q3_RFM               42851\n",
       "1  C_Quadrant III_P_L_2019Q3_RFM               31860"
      ]
     },
     "execution_count": 29,
     "metadata": {},
     "output_type": "execute_result"
    }
   ],
   "source": [
    "summary_all_HML.head(2)"
   ]
  },
  {
   "cell_type": "code",
   "execution_count": 30,
   "metadata": {
    "collapsed": true
   },
   "outputs": [],
   "source": [
    "summary_all_decile=summary_all_decile.sort_values(\"segment_Decile\")\n",
    "summary_all_HML=summary_all_HML.sort_values(\"segment\")\n"
   ]
  },
  {
   "cell_type": "code",
   "execution_count": 31,
   "metadata": {
    "collapsed": true
   },
   "outputs": [],
   "source": [
    "upload_folder=\"/home/jian/Projects/Big_Lots/Live_Ramp/Quarterly_Update_2019Q3/upload_files/\"\n",
    "try:\n",
    "    os.stat(upload_folder)\n",
    "except:\n",
    "    os.mkdir(upload_folder)\n",
    "\n",
    "for local_file in HML_files:\n",
    "    base_name=os.path.basename(local_file)\n",
    "    remote_name=upload_folder+base_name\n",
    "    copyfile(local_file,remote_name)"
   ]
  },
  {
   "cell_type": "code",
   "execution_count": 32,
   "metadata": {},
   "outputs": [
    {
     "name": "stdout",
     "output_type": "stream",
     "text": [
      "df_18_49_lapsed_test_PS, (5487169, 3)\n",
      "df_18_49_lapsed_control_PS, (100000, 3)\n"
     ]
    }
   ],
   "source": [
    "# summary 18_48_lapsed\n",
    "\n",
    "df_18_49_lapsed_test_PS=pd.read_csv(\"/home/jian/Projects/Big_Lots/Live_Ramp/Quarterly_Update_2019Q3/output_2019-07-20/Test_and_Control/df_18_plus_PS_test.csv\",\n",
    "                            dtype=str,usecols=['customer_id_hashed','email_address_hash','segment'])\n",
    "df_18_49_lapsed_control_PS=pd.read_csv(\"/home/jian/Projects/Big_Lots/Live_Ramp/Quarterly_Update_2019Q3/output_2019-07-20/Test_and_Control/df_18_plus_PS_control.csv\",\n",
    "                            dtype=str,usecols=['customer_id_hashed','email_address_hash','segment'])\n",
    "\n",
    "print(\"df_18_49_lapsed_test_PS,\",df_18_49_lapsed_test_PS.shape)\n",
    "print(\"df_18_49_lapsed_control_PS,\",df_18_49_lapsed_control_PS.shape)\n"
   ]
  },
  {
   "cell_type": "code",
   "execution_count": 33,
   "metadata": {
    "collapsed": true
   },
   "outputs": [],
   "source": [
    "df_18_49_lapsed_test_PS=df_18_49_lapsed_test_PS[['customer_id_hashed','email_address_hash','segment']]\n",
    "df_18_49_lapsed_control_PS=df_18_49_lapsed_control_PS[['customer_id_hashed','email_address_hash','segment']]\n",
    "\n",
    "\n",
    "df_18_49_lapsed_test_PS.to_csv(upload_folder+\"T_lapsed_18_48_PS_2019Q3_RFM.csv\",index=False)\n",
    "df_18_49_lapsed_control_PS.to_csv(upload_folder+\"C_lapsed_18_48_PS_2019Q3_RFM.csv\",index=False)\n"
   ]
  },
  {
   "cell_type": "code",
   "execution_count": 34,
   "metadata": {
    "collapsed": true
   },
   "outputs": [],
   "source": [
    "len_test_lapsed_18_49_PS_ids=df_18_49_lapsed_test_PS['customer_id_hashed'].nunique()\n",
    "len_control_lapsed_18_49_PS_ids=df_18_49_lapsed_control_PS['customer_id_hashed'].nunique()\n",
    "\n",
    "summary_lapsed=pd.DataFrame(columns=[\"segment\",\"ids\"])\n",
    "\n",
    "df_test_lapsed_PS_count=pd.DataFrame({\"segment\":\"test_lapsed_18_49_PS\",\"ids\":len_test_lapsed_18_49_PS_ids},index=[0])\n",
    "df_control_lapsed_PS_count=pd.DataFrame({\"segment\":\"control_lapsed_18_49_PS\",\"ids\":len_control_lapsed_18_49_PS_ids},index=[1])\n",
    "summary_lapsed=summary_lapsed.append(df_test_lapsed_PS_count).append(df_control_lapsed_PS_count)"
   ]
  },
  {
   "cell_type": "code",
   "execution_count": 35,
   "metadata": {
    "collapsed": true
   },
   "outputs": [],
   "source": [
    "writer=pd.ExcelWriter(\"/home/jian/Projects/Big_Lots/Live_Ramp/Quarterly_Update_2019Q3/output_2019-07-20/BL_summary_2019_Q3_audience_JL_\"+str(datetime.datetime.now().date())+\".xlsx\",engine=\"xlsxwriter\")\n",
    "summary_all_HML.to_excel(writer,\"summary_all_HML\",index=False)\n",
    "summary_all_decile.to_excel(writer,\"summary_all_decile\",index=False)\n",
    "summary_lapsed.to_excel(writer,\"summary_lapsed\",index=False)\n",
    "writer.save()"
   ]
  }
 ],
 "metadata": {
  "kernelspec": {
   "display_name": "Python 3",
   "language": "python",
   "name": "python3"
  },
  "language_info": {
   "codemirror_mode": {
    "name": "ipython",
    "version": 3
   },
   "file_extension": ".py",
   "mimetype": "text/x-python",
   "name": "python",
   "nbconvert_exporter": "python",
   "pygments_lexer": "ipython3",
   "version": "3.6.1"
  }
 },
 "nbformat": 4,
 "nbformat_minor": 2
}
