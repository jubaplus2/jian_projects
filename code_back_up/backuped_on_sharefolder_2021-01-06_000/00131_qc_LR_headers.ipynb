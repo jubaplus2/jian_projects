{
 "cells": [
  {
   "cell_type": "code",
   "execution_count": 1,
   "metadata": {},
   "outputs": [],
   "source": [
    "import pandas as pd"
   ]
  },
  {
   "cell_type": "code",
   "execution_count": 3,
   "metadata": {},
   "outputs": [],
   "source": [
    "df_1=pd.read_csv(\"./uploaded_file_LR/BL_2020Q4_audience_Refreshable_JL_2020-10-09.csv\",nrows=10)\n",
    "df_2=pd.read_csv(\"./uploaded_file_LR/BL_2020Q4_audience_Refreshable_JL_2020-10-14.csv\",nrows=10)"
   ]
  },
  {
   "cell_type": "code",
   "execution_count": 4,
   "metadata": {},
   "outputs": [
    {
     "data": {
      "text/plain": [
       "['customer_id_hashed', 'email_address_hash', 'updated_segment_2020Q4_Refresh']"
      ]
     },
     "execution_count": 4,
     "metadata": {},
     "output_type": "execute_result"
    }
   ],
   "source": [
    "df_1.columns.tolist()"
   ]
  },
  {
   "cell_type": "code",
   "execution_count": 5,
   "metadata": {},
   "outputs": [
    {
     "data": {
      "text/plain": [
       "['customer_id_hashed', 'email_address_hash', 'updated_Rewards_segment_Refresh']"
      ]
     },
     "execution_count": 5,
     "metadata": {},
     "output_type": "execute_result"
    }
   ],
   "source": [
    "df_2.columns.tolist()"
   ]
  },
  {
   "cell_type": "code",
   "execution_count": 6,
   "metadata": {},
   "outputs": [
    {
     "data": {
      "text/html": [
       "<div>\n",
       "<style scoped>\n",
       "    .dataframe tbody tr th:only-of-type {\n",
       "        vertical-align: middle;\n",
       "    }\n",
       "\n",
       "    .dataframe tbody tr th {\n",
       "        vertical-align: top;\n",
       "    }\n",
       "\n",
       "    .dataframe thead th {\n",
       "        text-align: right;\n",
       "    }\n",
       "</style>\n",
       "<table border=\"1\" class=\"dataframe\">\n",
       "  <thead>\n",
       "    <tr style=\"text-align: right;\">\n",
       "      <th></th>\n",
       "      <th>customer_id_hashed</th>\n",
       "      <th>email_address_hash</th>\n",
       "      <th>updated_segment_2020Q4_Refresh</th>\n",
       "    </tr>\n",
       "  </thead>\n",
       "  <tbody>\n",
       "    <tr>\n",
       "      <th>0</th>\n",
       "      <td>b78dccfd64ce659af7061c5743b6b9305814336bc9ddec...</td>\n",
       "      <td>4836bfc632a2a5987d47fa6bf0637c21c4466a0e99ddee...</td>\n",
       "      <td>T_Legacy_Active0X_H_PS</td>\n",
       "    </tr>\n",
       "    <tr>\n",
       "      <th>1</th>\n",
       "      <td>681869d76dbbf47685b2e2b2c247064ae83194cc5c5f80...</td>\n",
       "      <td>e12683b2ec8b57ddab043609795d36246df869be353af7...</td>\n",
       "      <td>T_Legacy_Active0X_H_PS</td>\n",
       "    </tr>\n",
       "    <tr>\n",
       "      <th>2</th>\n",
       "      <td>3efc4531caf1e69c86e49f007901c143d81df33086abe7...</td>\n",
       "      <td>79fc174d2b4e651ffdd8cc69fde21d61ce27dc65d32e68...</td>\n",
       "      <td>T_Legacy_Active0X_H_PS</td>\n",
       "    </tr>\n",
       "    <tr>\n",
       "      <th>3</th>\n",
       "      <td>af1a67def27b7a4812c299f88c9128d1f1471df969ee7c...</td>\n",
       "      <td>d48d9bde483e3a6524f75f41209df8b6848c1cd6714aff...</td>\n",
       "      <td>T_Legacy_Active0X_H_PS</td>\n",
       "    </tr>\n",
       "    <tr>\n",
       "      <th>4</th>\n",
       "      <td>8f9005dc30f9fb129b21dec1ca9e329eaba3cc43dbd8a9...</td>\n",
       "      <td>089cc0883c4184de4534e6e5f9cbeba535aed590e9ba64...</td>\n",
       "      <td>T_Legacy_Active0X_H_PS</td>\n",
       "    </tr>\n",
       "    <tr>\n",
       "      <th>5</th>\n",
       "      <td>5b9138f003d812e2a908bd405239be7723eb13329e8c29...</td>\n",
       "      <td>db249a8974550210012085b14c95e6f9cdf99ef5ce6161...</td>\n",
       "      <td>T_Legacy_Active0X_H_PS</td>\n",
       "    </tr>\n",
       "    <tr>\n",
       "      <th>6</th>\n",
       "      <td>61050831a15b984752858ee08099e064590a91c2c0d0db...</td>\n",
       "      <td>0310523fb4e53c8391ce906f546ab444ac4ec4b855ab8c...</td>\n",
       "      <td>T_Legacy_Active0X_H_PS</td>\n",
       "    </tr>\n",
       "    <tr>\n",
       "      <th>7</th>\n",
       "      <td>fdb13838f0548517a599380749a93345cac588b953f951...</td>\n",
       "      <td>2b05cbe366d4739480064febdc7d39134a416aa2017b90...</td>\n",
       "      <td>T_Legacy_Active0X_H_PS</td>\n",
       "    </tr>\n",
       "    <tr>\n",
       "      <th>8</th>\n",
       "      <td>454a122b8c72165e91e58355f0393868ef9e6480f2bbbf...</td>\n",
       "      <td>259a03ce23a23661d2e40c6629173cb3bd927b89a11192...</td>\n",
       "      <td>T_Legacy_Active0X_H_PS</td>\n",
       "    </tr>\n",
       "    <tr>\n",
       "      <th>9</th>\n",
       "      <td>b5fc39c279c1d6c94e404c6c55f66cc9faaf905f566a53...</td>\n",
       "      <td>55ab89bb8ecae3075d06dcd2b472a8f6ac6a080daea4c9...</td>\n",
       "      <td>T_Legacy_Active0X_H_PS</td>\n",
       "    </tr>\n",
       "  </tbody>\n",
       "</table>\n",
       "</div>"
      ],
      "text/plain": [
       "                                  customer_id_hashed  \\\n",
       "0  b78dccfd64ce659af7061c5743b6b9305814336bc9ddec...   \n",
       "1  681869d76dbbf47685b2e2b2c247064ae83194cc5c5f80...   \n",
       "2  3efc4531caf1e69c86e49f007901c143d81df33086abe7...   \n",
       "3  af1a67def27b7a4812c299f88c9128d1f1471df969ee7c...   \n",
       "4  8f9005dc30f9fb129b21dec1ca9e329eaba3cc43dbd8a9...   \n",
       "5  5b9138f003d812e2a908bd405239be7723eb13329e8c29...   \n",
       "6  61050831a15b984752858ee08099e064590a91c2c0d0db...   \n",
       "7  fdb13838f0548517a599380749a93345cac588b953f951...   \n",
       "8  454a122b8c72165e91e58355f0393868ef9e6480f2bbbf...   \n",
       "9  b5fc39c279c1d6c94e404c6c55f66cc9faaf905f566a53...   \n",
       "\n",
       "                                  email_address_hash  \\\n",
       "0  4836bfc632a2a5987d47fa6bf0637c21c4466a0e99ddee...   \n",
       "1  e12683b2ec8b57ddab043609795d36246df869be353af7...   \n",
       "2  79fc174d2b4e651ffdd8cc69fde21d61ce27dc65d32e68...   \n",
       "3  d48d9bde483e3a6524f75f41209df8b6848c1cd6714aff...   \n",
       "4  089cc0883c4184de4534e6e5f9cbeba535aed590e9ba64...   \n",
       "5  db249a8974550210012085b14c95e6f9cdf99ef5ce6161...   \n",
       "6  0310523fb4e53c8391ce906f546ab444ac4ec4b855ab8c...   \n",
       "7  2b05cbe366d4739480064febdc7d39134a416aa2017b90...   \n",
       "8  259a03ce23a23661d2e40c6629173cb3bd927b89a11192...   \n",
       "9  55ab89bb8ecae3075d06dcd2b472a8f6ac6a080daea4c9...   \n",
       "\n",
       "  updated_segment_2020Q4_Refresh  \n",
       "0         T_Legacy_Active0X_H_PS  \n",
       "1         T_Legacy_Active0X_H_PS  \n",
       "2         T_Legacy_Active0X_H_PS  \n",
       "3         T_Legacy_Active0X_H_PS  \n",
       "4         T_Legacy_Active0X_H_PS  \n",
       "5         T_Legacy_Active0X_H_PS  \n",
       "6         T_Legacy_Active0X_H_PS  \n",
       "7         T_Legacy_Active0X_H_PS  \n",
       "8         T_Legacy_Active0X_H_PS  \n",
       "9         T_Legacy_Active0X_H_PS  "
      ]
     },
     "execution_count": 6,
     "metadata": {},
     "output_type": "execute_result"
    }
   ],
   "source": [
    "df_1"
   ]
  },
  {
   "cell_type": "code",
   "execution_count": 7,
   "metadata": {},
   "outputs": [
    {
     "data": {
      "text/html": [
       "<div>\n",
       "<style scoped>\n",
       "    .dataframe tbody tr th:only-of-type {\n",
       "        vertical-align: middle;\n",
       "    }\n",
       "\n",
       "    .dataframe tbody tr th {\n",
       "        vertical-align: top;\n",
       "    }\n",
       "\n",
       "    .dataframe thead th {\n",
       "        text-align: right;\n",
       "    }\n",
       "</style>\n",
       "<table border=\"1\" class=\"dataframe\">\n",
       "  <thead>\n",
       "    <tr style=\"text-align: right;\">\n",
       "      <th></th>\n",
       "      <th>customer_id_hashed</th>\n",
       "      <th>email_address_hash</th>\n",
       "      <th>updated_Rewards_segment_Refresh</th>\n",
       "    </tr>\n",
       "  </thead>\n",
       "  <tbody>\n",
       "    <tr>\n",
       "      <th>0</th>\n",
       "      <td>b78dccfd64ce659af7061c5743b6b9305814336bc9ddec...</td>\n",
       "      <td>4836bfc632a2a5987d47fa6bf0637c21c4466a0e99ddee...</td>\n",
       "      <td>Refreshable_LR_Rewards_T_Legacy_Active0X_H_PS</td>\n",
       "    </tr>\n",
       "    <tr>\n",
       "      <th>1</th>\n",
       "      <td>681869d76dbbf47685b2e2b2c247064ae83194cc5c5f80...</td>\n",
       "      <td>e12683b2ec8b57ddab043609795d36246df869be353af7...</td>\n",
       "      <td>Refreshable_LR_Rewards_T_Legacy_Active0X_H_PS</td>\n",
       "    </tr>\n",
       "    <tr>\n",
       "      <th>2</th>\n",
       "      <td>3efc4531caf1e69c86e49f007901c143d81df33086abe7...</td>\n",
       "      <td>79fc174d2b4e651ffdd8cc69fde21d61ce27dc65d32e68...</td>\n",
       "      <td>Refreshable_LR_Rewards_T_Legacy_Active0X_H_PS</td>\n",
       "    </tr>\n",
       "    <tr>\n",
       "      <th>3</th>\n",
       "      <td>af1a67def27b7a4812c299f88c9128d1f1471df969ee7c...</td>\n",
       "      <td>d48d9bde483e3a6524f75f41209df8b6848c1cd6714aff...</td>\n",
       "      <td>Refreshable_LR_Rewards_T_Legacy_Active0X_H_PS</td>\n",
       "    </tr>\n",
       "    <tr>\n",
       "      <th>4</th>\n",
       "      <td>8f9005dc30f9fb129b21dec1ca9e329eaba3cc43dbd8a9...</td>\n",
       "      <td>089cc0883c4184de4534e6e5f9cbeba535aed590e9ba64...</td>\n",
       "      <td>Refreshable_LR_Rewards_T_Legacy_Active0X_H_PS</td>\n",
       "    </tr>\n",
       "    <tr>\n",
       "      <th>5</th>\n",
       "      <td>5b9138f003d812e2a908bd405239be7723eb13329e8c29...</td>\n",
       "      <td>db249a8974550210012085b14c95e6f9cdf99ef5ce6161...</td>\n",
       "      <td>Refreshable_LR_Rewards_T_Legacy_Active0X_H_PS</td>\n",
       "    </tr>\n",
       "    <tr>\n",
       "      <th>6</th>\n",
       "      <td>61050831a15b984752858ee08099e064590a91c2c0d0db...</td>\n",
       "      <td>0310523fb4e53c8391ce906f546ab444ac4ec4b855ab8c...</td>\n",
       "      <td>Refreshable_LR_Rewards_T_Legacy_Active0X_H_PS</td>\n",
       "    </tr>\n",
       "    <tr>\n",
       "      <th>7</th>\n",
       "      <td>fdb13838f0548517a599380749a93345cac588b953f951...</td>\n",
       "      <td>2b05cbe366d4739480064febdc7d39134a416aa2017b90...</td>\n",
       "      <td>Refreshable_LR_Rewards_T_Legacy_Active0X_H_PS</td>\n",
       "    </tr>\n",
       "    <tr>\n",
       "      <th>8</th>\n",
       "      <td>454a122b8c72165e91e58355f0393868ef9e6480f2bbbf...</td>\n",
       "      <td>259a03ce23a23661d2e40c6629173cb3bd927b89a11192...</td>\n",
       "      <td>Refreshable_LR_Rewards_T_Legacy_Active0X_H_PS</td>\n",
       "    </tr>\n",
       "    <tr>\n",
       "      <th>9</th>\n",
       "      <td>b5fc39c279c1d6c94e404c6c55f66cc9faaf905f566a53...</td>\n",
       "      <td>55ab89bb8ecae3075d06dcd2b472a8f6ac6a080daea4c9...</td>\n",
       "      <td>Refreshable_LR_Rewards_T_Legacy_Active0X_H_PS</td>\n",
       "    </tr>\n",
       "  </tbody>\n",
       "</table>\n",
       "</div>"
      ],
      "text/plain": [
       "                                  customer_id_hashed  \\\n",
       "0  b78dccfd64ce659af7061c5743b6b9305814336bc9ddec...   \n",
       "1  681869d76dbbf47685b2e2b2c247064ae83194cc5c5f80...   \n",
       "2  3efc4531caf1e69c86e49f007901c143d81df33086abe7...   \n",
       "3  af1a67def27b7a4812c299f88c9128d1f1471df969ee7c...   \n",
       "4  8f9005dc30f9fb129b21dec1ca9e329eaba3cc43dbd8a9...   \n",
       "5  5b9138f003d812e2a908bd405239be7723eb13329e8c29...   \n",
       "6  61050831a15b984752858ee08099e064590a91c2c0d0db...   \n",
       "7  fdb13838f0548517a599380749a93345cac588b953f951...   \n",
       "8  454a122b8c72165e91e58355f0393868ef9e6480f2bbbf...   \n",
       "9  b5fc39c279c1d6c94e404c6c55f66cc9faaf905f566a53...   \n",
       "\n",
       "                                  email_address_hash  \\\n",
       "0  4836bfc632a2a5987d47fa6bf0637c21c4466a0e99ddee...   \n",
       "1  e12683b2ec8b57ddab043609795d36246df869be353af7...   \n",
       "2  79fc174d2b4e651ffdd8cc69fde21d61ce27dc65d32e68...   \n",
       "3  d48d9bde483e3a6524f75f41209df8b6848c1cd6714aff...   \n",
       "4  089cc0883c4184de4534e6e5f9cbeba535aed590e9ba64...   \n",
       "5  db249a8974550210012085b14c95e6f9cdf99ef5ce6161...   \n",
       "6  0310523fb4e53c8391ce906f546ab444ac4ec4b855ab8c...   \n",
       "7  2b05cbe366d4739480064febdc7d39134a416aa2017b90...   \n",
       "8  259a03ce23a23661d2e40c6629173cb3bd927b89a11192...   \n",
       "9  55ab89bb8ecae3075d06dcd2b472a8f6ac6a080daea4c9...   \n",
       "\n",
       "                 updated_Rewards_segment_Refresh  \n",
       "0  Refreshable_LR_Rewards_T_Legacy_Active0X_H_PS  \n",
       "1  Refreshable_LR_Rewards_T_Legacy_Active0X_H_PS  \n",
       "2  Refreshable_LR_Rewards_T_Legacy_Active0X_H_PS  \n",
       "3  Refreshable_LR_Rewards_T_Legacy_Active0X_H_PS  \n",
       "4  Refreshable_LR_Rewards_T_Legacy_Active0X_H_PS  \n",
       "5  Refreshable_LR_Rewards_T_Legacy_Active0X_H_PS  \n",
       "6  Refreshable_LR_Rewards_T_Legacy_Active0X_H_PS  \n",
       "7  Refreshable_LR_Rewards_T_Legacy_Active0X_H_PS  \n",
       "8  Refreshable_LR_Rewards_T_Legacy_Active0X_H_PS  \n",
       "9  Refreshable_LR_Rewards_T_Legacy_Active0X_H_PS  "
      ]
     },
     "execution_count": 7,
     "metadata": {},
     "output_type": "execute_result"
    }
   ],
   "source": [
    "df_2"
   ]
  },
  {
   "cell_type": "code",
   "execution_count": null,
   "metadata": {},
   "outputs": [],
   "source": []
  }
 ],
 "metadata": {
  "kernelspec": {
   "display_name": "Python 3",
   "language": "python",
   "name": "python3"
  },
  "language_info": {
   "codemirror_mode": {
    "name": "ipython",
    "version": 3
   },
   "file_extension": ".py",
   "mimetype": "text/x-python",
   "name": "python",
   "nbconvert_exporter": "python",
   "pygments_lexer": "ipython3",
   "version": "3.6.1"
  }
 },
 "nbformat": 4,
 "nbformat_minor": 2
}
