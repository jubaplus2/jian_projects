{
 "cells": [
  {
   "cell_type": "code",
   "execution_count": 1,
   "metadata": {},
   "outputs": [
    {
     "name": "stdout",
     "output_type": "stream",
     "text": [
      "/home/jian/Projects/Big_Lots/Live_Ramp/Mapping_Files/all_LR_returned\n",
      "2020-05-15 11:05:53.857439\n"
     ]
    }
   ],
   "source": [
    "import paramiko\n",
    "import datetime\n",
    "import pandas as pd\n",
    "import numpy as np\n",
    "import os\n",
    "\n",
    "print(os.getcwd())\n",
    "print(datetime.datetime.now())"
   ]
  },
  {
   "cell_type": "markdown",
   "metadata": {},
   "source": [
    "# 107"
   ]
  },
  {
   "cell_type": "code",
   "execution_count": 6,
   "metadata": {},
   "outputs": [],
   "source": [
    "host_107 = \"107.191.32.220\" #hard-coded\n",
    "port_107 = 22\n",
    "transport_107 = paramiko.Transport((host_107, port_107))\n",
    "\n",
    "password_107 = \"juba-jl1\" #hard-coded\n",
    "username_107 = \"jian\" #hard-coded\n",
    "transport_107.connect(username = username_107, password = password_107)\n",
    "sftp_107 = paramiko.SFTPClient.from_transport(transport_107)"
   ]
  },
  {
   "cell_type": "code",
   "execution_count": 17,
   "metadata": {},
   "outputs": [],
   "source": [
    "folder_remote_107_others=\"/mnt/drv5/lr_biglots_data/download_logs/others/\"\n",
    "list_mappings=sftp_107.listdir(folder_remote_107_others)\n",
    "list_mappings=[x for x in list_mappings if \"mapping\" in x]\n",
    "df_remote_mapping=pd.DataFrame({\"remote_base_name\":list_mappings},index=[0]*len(list_mappings))\n",
    "df_remote_mapping['Quarter']=df_remote_mapping['remote_base_name'].apply(lambda x: x.split(\"_mapping_file_\")[1][:6])\n",
    "df_remote_mapping=df_remote_mapping.sort_values(\"remote_base_name\",ascending=False)\n",
    "df_remote_mapping=df_remote_mapping.drop_duplicates(\"Quarter\")"
   ]
  },
  {
   "cell_type": "code",
   "execution_count": 18,
   "metadata": {},
   "outputs": [],
   "source": [
    "for file in df_remote_mapping['remote_base_name'].tolist():\n",
    "    sftp_107.get(folder_remote_107_others+file,\"./\"+file)\n",
    "sftp_107.close()\n",
    "transport_107.close()\n"
   ]
  },
  {
   "cell_type": "code",
   "execution_count": null,
   "metadata": {},
   "outputs": [],
   "source": []
  },
  {
   "cell_type": "markdown",
   "metadata": {},
   "source": [
    "# 66"
   ]
  },
  {
   "cell_type": "code",
   "execution_count": 2,
   "metadata": {},
   "outputs": [],
   "source": [
    "host_66 = \"66.55.157.58\" #hard-coded\n",
    "port_66 = 22\n",
    "transport_66 = paramiko.Transport((host_66, port_66))\n",
    "\n",
    "password_66 = \"jubaplus2019\" #hard-coded\n",
    "username_66 = \"jian\" #hard-coded\n",
    "transport_66.connect(username = username_66, password = password_66)\n",
    "sftp_66 = paramiko.SFTPClient.from_transport(transport_66)"
   ]
  },
  {
   "cell_type": "code",
   "execution_count": 3,
   "metadata": {},
   "outputs": [
    {
     "data": {
      "text/html": [
       "<div>\n",
       "<style scoped>\n",
       "    .dataframe tbody tr th:only-of-type {\n",
       "        vertical-align: middle;\n",
       "    }\n",
       "\n",
       "    .dataframe tbody tr th {\n",
       "        vertical-align: top;\n",
       "    }\n",
       "\n",
       "    .dataframe thead th {\n",
       "        text-align: right;\n",
       "    }\n",
       "</style>\n",
       "<table border=\"1\" class=\"dataframe\">\n",
       "  <thead>\n",
       "    <tr style=\"text-align: right;\">\n",
       "      <th></th>\n",
       "      <th>remote_base_name</th>\n",
       "      <th>Quarter</th>\n",
       "      <th>remote_mt_time</th>\n",
       "    </tr>\n",
       "  </thead>\n",
       "  <tbody>\n",
       "    <tr>\n",
       "      <th>0</th>\n",
       "      <td>CL_BigLots_BL_mapping_file_2020Q1_JL_2020-05-1...</td>\n",
       "      <td>2020Q1</td>\n",
       "      <td>1589543111</td>\n",
       "    </tr>\n",
       "  </tbody>\n",
       "</table>\n",
       "</div>"
      ],
      "text/plain": [
       "                                    remote_base_name Quarter  remote_mt_time\n",
       "0  CL_BigLots_BL_mapping_file_2020Q1_JL_2020-05-1...  2020Q1      1589543111"
      ]
     },
     "execution_count": 3,
     "metadata": {},
     "output_type": "execute_result"
    }
   ],
   "source": [
    "folder_remote_66_others=\"/data/jian/BL_LR_download/others/\"\n",
    "list_mappings=sftp_66.listdir(folder_remote_66_others)\n",
    "list_mappings=[x for x in list_mappings if \"mapping\" in x]\n",
    "df_remote_mapping=pd.DataFrame({\"remote_base_name\":list_mappings},index=[0]*len(list_mappings))\n",
    "df_remote_mapping['Quarter']=df_remote_mapping['remote_base_name'].apply(lambda x: x.split(\"_mapping_file_\")[1][:6])\n",
    "df_remote_mapping['remote_mt_time']=df_remote_mapping['remote_base_name'].apply(lambda x: sftp_66.stat(folder_remote_66_others+x).st_mtime)\n",
    "df_remote_mapping=df_remote_mapping.sort_values([\"remote_base_name\",\"remote_mt_time\"],ascending=[False,False])\n",
    "df_remote_mapping=df_remote_mapping.drop_duplicates(\"Quarter\")\n",
    "df_remote_mapping"
   ]
  },
  {
   "cell_type": "code",
   "execution_count": 4,
   "metadata": {},
   "outputs": [
    {
     "data": {
      "text/plain": [
       "['CL_BigLots_BL_mapping_file_2020Q1_JL_2020-05-13_20200514_172449_0000.psv.gz']"
      ]
     },
     "execution_count": 4,
     "metadata": {},
     "output_type": "execute_result"
    }
   ],
   "source": [
    "df_remote_mapping['remote_base_name'].tolist()"
   ]
  },
  {
   "cell_type": "code",
   "execution_count": 5,
   "metadata": {},
   "outputs": [
    {
     "data": {
      "text/plain": [
       "{'2018Q4', '2019Q1', '2019Q2', '2019Q3', '2019Q4'}"
      ]
     },
     "execution_count": 5,
     "metadata": {},
     "output_type": "execute_result"
    }
   ],
   "source": [
    "quarters_already_copied=os.listdir(\"./\")\n",
    "quarters_already_copied=[x for x in quarters_already_copied if \"_mapping_file_\" in x]\n",
    "quarters_already_copied=[x.split(\"_mapping_file_\")[1][:6] for x in quarters_already_copied]\n",
    "quarters_already_copied=set(quarters_already_copied)\n",
    "quarters_already_copied"
   ]
  },
  {
   "cell_type": "code",
   "execution_count": 6,
   "metadata": {},
   "outputs": [
    {
     "data": {
      "text/html": [
       "<div>\n",
       "<style scoped>\n",
       "    .dataframe tbody tr th:only-of-type {\n",
       "        vertical-align: middle;\n",
       "    }\n",
       "\n",
       "    .dataframe tbody tr th {\n",
       "        vertical-align: top;\n",
       "    }\n",
       "\n",
       "    .dataframe thead th {\n",
       "        text-align: right;\n",
       "    }\n",
       "</style>\n",
       "<table border=\"1\" class=\"dataframe\">\n",
       "  <thead>\n",
       "    <tr style=\"text-align: right;\">\n",
       "      <th></th>\n",
       "      <th>remote_base_name</th>\n",
       "      <th>Quarter</th>\n",
       "      <th>remote_mt_time</th>\n",
       "    </tr>\n",
       "  </thead>\n",
       "  <tbody>\n",
       "    <tr>\n",
       "      <th>0</th>\n",
       "      <td>CL_BigLots_BL_mapping_file_2020Q1_JL_2020-05-1...</td>\n",
       "      <td>2020Q1</td>\n",
       "      <td>1589543111</td>\n",
       "    </tr>\n",
       "  </tbody>\n",
       "</table>\n",
       "</div>"
      ],
      "text/plain": [
       "                                    remote_base_name Quarter  remote_mt_time\n",
       "0  CL_BigLots_BL_mapping_file_2020Q1_JL_2020-05-1...  2020Q1      1589543111"
      ]
     },
     "execution_count": 6,
     "metadata": {},
     "output_type": "execute_result"
    }
   ],
   "source": [
    "df_remote_mapping=df_remote_mapping[~df_remote_mapping['Quarter'].isin(quarters_already_copied)]\n",
    "df_remote_mapping"
   ]
  },
  {
   "cell_type": "code",
   "execution_count": 7,
   "metadata": {},
   "outputs": [],
   "source": [
    "df_remote_mapping=df_remote_mapping.drop_duplicates(\"Quarter\")"
   ]
  },
  {
   "cell_type": "code",
   "execution_count": 8,
   "metadata": {},
   "outputs": [],
   "source": [
    "for file in df_remote_mapping['remote_base_name'].tolist():\n",
    "    sftp_66.get(folder_remote_66_others+file,\"./\"+file)\n",
    "sftp_66.close()\n",
    "transport_66.close()"
   ]
  },
  {
   "cell_type": "markdown",
   "metadata": {},
   "source": [
    "# QC: 20Q1 vs 19Q4"
   ]
  },
  {
   "cell_type": "code",
   "execution_count": 10,
   "metadata": {},
   "outputs": [],
   "source": [
    "df_2020Q1_mapping=pd.read_csv(\"./CL_BigLots_BL_mapping_file_2020Q1_JL_2020-05-13_20200514_172449_0000.psv.gz\",dtype=str,\n",
    "                             sep=\"|\",compression=\"gzip\")\n",
    "\n",
    "df_2019Q4_mapping=pd.read_csv(\"./CL_BigLots_BL_mapping_file_2019Q4_JL_2020-02-14_20200215_020719_0000.psv.gz\",dtype=str,\n",
    "                             sep=\"|\",compression=\"gzip\")"
   ]
  },
  {
   "cell_type": "code",
   "execution_count": 11,
   "metadata": {},
   "outputs": [],
   "source": [
    "df_2020Q1_mapping=df_2020Q1_mapping.rename(columns={\"Customer_Link\":\"Customer_Link_Q1\",\"segment\":\"segment_Q1\"})\n",
    "df_2019Q4_mapping=df_2019Q4_mapping.rename(columns={\"Customer_Link\":\"Customer_Link_Q4\",\"segment\":\"segment_Q4\"})"
   ]
  },
  {
   "cell_type": "code",
   "execution_count": 12,
   "metadata": {},
   "outputs": [],
   "source": [
    "list_Q1_seg=df_2020Q1_mapping['segment_Q1'].unique().tolist()\n",
    "list_Q1_seg.sort()"
   ]
  },
  {
   "cell_type": "code",
   "execution_count": 13,
   "metadata": {},
   "outputs": [
    {
     "data": {
      "text/html": [
       "<div>\n",
       "<style scoped>\n",
       "    .dataframe tbody tr th:only-of-type {\n",
       "        vertical-align: middle;\n",
       "    }\n",
       "\n",
       "    .dataframe tbody tr th {\n",
       "        vertical-align: top;\n",
       "    }\n",
       "\n",
       "    .dataframe thead th {\n",
       "        text-align: right;\n",
       "    }\n",
       "</style>\n",
       "<table border=\"1\" class=\"dataframe\">\n",
       "  <thead>\n",
       "    <tr style=\"text-align: right;\">\n",
       "      <th></th>\n",
       "      <th>Customer_Link_Q1</th>\n",
       "      <th>customer_id_hashed</th>\n",
       "      <th>segment_Q1</th>\n",
       "    </tr>\n",
       "  </thead>\n",
       "  <tbody>\n",
       "    <tr>\n",
       "      <th>0</th>\n",
       "      <td>XY1468JYDucT7nAHqbP0nTwx2g2YXFd7oE-Ns_ksNkqyDyJrw</td>\n",
       "      <td>fb06e28fae22be4687038ceb72eed543b7d7af4a6cbbfc...</td>\n",
       "      <td>T_Legacy_Lapsed1318_L_P_Above50K_SingleFamily_...</td>\n",
       "    </tr>\n",
       "    <tr>\n",
       "      <th>1</th>\n",
       "      <td>Xi1468LHmoTx2mIkTbbURLh3KFxI3Hmvm6WQhQTQlSj8ha...</td>\n",
       "      <td>65abd0f8c70be4af489bee446cf0901059f5ab8338b490...</td>\n",
       "      <td>T_Legacy_Active_H_P_Above50K_SingleFamily_Comp...</td>\n",
       "    </tr>\n",
       "  </tbody>\n",
       "</table>\n",
       "</div>"
      ],
      "text/plain": [
       "                                    Customer_Link_Q1  \\\n",
       "0  XY1468JYDucT7nAHqbP0nTwx2g2YXFd7oE-Ns_ksNkqyDyJrw   \n",
       "1  Xi1468LHmoTx2mIkTbbURLh3KFxI3Hmvm6WQhQTQlSj8ha...   \n",
       "\n",
       "                                  customer_id_hashed  \\\n",
       "0  fb06e28fae22be4687038ceb72eed543b7d7af4a6cbbfc...   \n",
       "1  65abd0f8c70be4af489bee446cf0901059f5ab8338b490...   \n",
       "\n",
       "                                          segment_Q1  \n",
       "0  T_Legacy_Lapsed1318_L_P_Above50K_SingleFamily_...  \n",
       "1  T_Legacy_Active_H_P_Above50K_SingleFamily_Comp...  "
      ]
     },
     "execution_count": 13,
     "metadata": {},
     "output_type": "execute_result"
    }
   ],
   "source": [
    "df_2020Q1_mapping.head(2)"
   ]
  },
  {
   "cell_type": "code",
   "execution_count": 14,
   "metadata": {},
   "outputs": [],
   "source": [
    "df_both=pd.merge(df_2020Q1_mapping,df_2019Q4_mapping,on=\"customer_id_hashed\",how=\"outer\")"
   ]
  },
  {
   "cell_type": "code",
   "execution_count": 15,
   "metadata": {},
   "outputs": [
    {
     "data": {
      "text/plain": [
       "(27389002, 5)"
      ]
     },
     "execution_count": 15,
     "metadata": {},
     "output_type": "execute_result"
    }
   ],
   "source": [
    "df_both.shape"
   ]
  },
  {
   "cell_type": "code",
   "execution_count": 16,
   "metadata": {},
   "outputs": [
    {
     "data": {
      "text/plain": [
       "(17320522, 5)"
      ]
     },
     "execution_count": 16,
     "metadata": {},
     "output_type": "execute_result"
    }
   ],
   "source": [
    "df_both[df_both['Customer_Link_Q1']==df_both['Customer_Link_Q4']].shape"
   ]
  },
  {
   "cell_type": "code",
   "execution_count": 17,
   "metadata": {},
   "outputs": [],
   "source": [
    "df_both=df_both[['customer_id_hashed','Customer_Link_Q1','Customer_Link_Q4','segment_Q1','segment_Q4']].sort_values(\"customer_id_hashed\")"
   ]
  },
  {
   "cell_type": "code",
   "execution_count": 18,
   "metadata": {},
   "outputs": [],
   "source": [
    "df_local_uploaded=pd.read_csv(\"/home/jian/Projects/Big_Lots/Live_Ramp/Mapping_Files/2020_Q1/BL_mapping_file_2020Q1_JL_2020-05-13.csv\",\n",
    "                             dtype=str)"
   ]
  },
  {
   "cell_type": "code",
   "execution_count": 19,
   "metadata": {},
   "outputs": [],
   "source": [
    "df_local_uploaded=df_local_uploaded.rename(columns={\"segment\":\"segment_Q1_before_upload\"})"
   ]
  },
  {
   "cell_type": "code",
   "execution_count": 20,
   "metadata": {},
   "outputs": [
    {
     "data": {
      "text/html": [
       "<div>\n",
       "<style scoped>\n",
       "    .dataframe tbody tr th:only-of-type {\n",
       "        vertical-align: middle;\n",
       "    }\n",
       "\n",
       "    .dataframe tbody tr th {\n",
       "        vertical-align: top;\n",
       "    }\n",
       "\n",
       "    .dataframe thead th {\n",
       "        text-align: right;\n",
       "    }\n",
       "</style>\n",
       "<table border=\"1\" class=\"dataframe\">\n",
       "  <thead>\n",
       "    <tr style=\"text-align: right;\">\n",
       "      <th></th>\n",
       "      <th>Customer_Link_Q1</th>\n",
       "      <th>customer_id_hashed</th>\n",
       "      <th>segment_Q1</th>\n",
       "    </tr>\n",
       "  </thead>\n",
       "  <tbody>\n",
       "    <tr>\n",
       "      <th>0</th>\n",
       "      <td>XY1468JYDucT7nAHqbP0nTwx2g2YXFd7oE-Ns_ksNkqyDyJrw</td>\n",
       "      <td>fb06e28fae22be4687038ceb72eed543b7d7af4a6cbbfc...</td>\n",
       "      <td>T_Legacy_Lapsed1318_L_P_Above50K_SingleFamily_...</td>\n",
       "    </tr>\n",
       "    <tr>\n",
       "      <th>1</th>\n",
       "      <td>Xi1468LHmoTx2mIkTbbURLh3KFxI3Hmvm6WQhQTQlSj8ha...</td>\n",
       "      <td>65abd0f8c70be4af489bee446cf0901059f5ab8338b490...</td>\n",
       "      <td>T_Legacy_Active_H_P_Above50K_SingleFamily_Comp...</td>\n",
       "    </tr>\n",
       "  </tbody>\n",
       "</table>\n",
       "</div>"
      ],
      "text/plain": [
       "                                    Customer_Link_Q1  \\\n",
       "0  XY1468JYDucT7nAHqbP0nTwx2g2YXFd7oE-Ns_ksNkqyDyJrw   \n",
       "1  Xi1468LHmoTx2mIkTbbURLh3KFxI3Hmvm6WQhQTQlSj8ha...   \n",
       "\n",
       "                                  customer_id_hashed  \\\n",
       "0  fb06e28fae22be4687038ceb72eed543b7d7af4a6cbbfc...   \n",
       "1  65abd0f8c70be4af489bee446cf0901059f5ab8338b490...   \n",
       "\n",
       "                                          segment_Q1  \n",
       "0  T_Legacy_Lapsed1318_L_P_Above50K_SingleFamily_...  \n",
       "1  T_Legacy_Active_H_P_Above50K_SingleFamily_Comp...  "
      ]
     },
     "execution_count": 20,
     "metadata": {},
     "output_type": "execute_result"
    }
   ],
   "source": [
    "df_2020Q1_mapping.head(2)"
   ]
  },
  {
   "cell_type": "code",
   "execution_count": 21,
   "metadata": {},
   "outputs": [
    {
     "data": {
      "text/plain": [
       "((20003623, 3), (20003623, 3))"
      ]
     },
     "execution_count": 21,
     "metadata": {},
     "output_type": "execute_result"
    }
   ],
   "source": [
    "df_2020Q1_mapping.shape,df_local_uploaded.shape"
   ]
  },
  {
   "cell_type": "code",
   "execution_count": 22,
   "metadata": {},
   "outputs": [
    {
     "data": {
      "text/html": [
       "<div>\n",
       "<style scoped>\n",
       "    .dataframe tbody tr th:only-of-type {\n",
       "        vertical-align: middle;\n",
       "    }\n",
       "\n",
       "    .dataframe tbody tr th {\n",
       "        vertical-align: top;\n",
       "    }\n",
       "\n",
       "    .dataframe thead th {\n",
       "        text-align: right;\n",
       "    }\n",
       "</style>\n",
       "<table border=\"1\" class=\"dataframe\">\n",
       "  <thead>\n",
       "    <tr style=\"text-align: right;\">\n",
       "      <th></th>\n",
       "      <th>customer_id_hashed</th>\n",
       "      <th>email_address_hash</th>\n",
       "      <th>segment_Q1_before_upload</th>\n",
       "    </tr>\n",
       "  </thead>\n",
       "  <tbody>\n",
       "    <tr>\n",
       "      <th>0</th>\n",
       "      <td>f68ce02330d03f94b2e93975fb3bd285f3d5a13dba52dc...</td>\n",
       "      <td>31273951dfe437775d15dde53e914b75f16d83f21f9433...</td>\n",
       "      <td>T_Legacy_Active_H_P_Above50K_MultiFamilyOrCond...</td>\n",
       "    </tr>\n",
       "    <tr>\n",
       "      <th>1</th>\n",
       "      <td>52654f3c1b0eebc123084740e81724fd5c355a1bf921c7...</td>\n",
       "      <td>c2ab5925b536dd4dbf66bf1a82393dd32ab11f5a1ee171...</td>\n",
       "      <td>T_Legacy_Active_H_P_Above50K_MultiFamilyOrCond...</td>\n",
       "    </tr>\n",
       "  </tbody>\n",
       "</table>\n",
       "</div>"
      ],
      "text/plain": [
       "                                  customer_id_hashed  \\\n",
       "0  f68ce02330d03f94b2e93975fb3bd285f3d5a13dba52dc...   \n",
       "1  52654f3c1b0eebc123084740e81724fd5c355a1bf921c7...   \n",
       "\n",
       "                                  email_address_hash  \\\n",
       "0  31273951dfe437775d15dde53e914b75f16d83f21f9433...   \n",
       "1  c2ab5925b536dd4dbf66bf1a82393dd32ab11f5a1ee171...   \n",
       "\n",
       "                            segment_Q1_before_upload  \n",
       "0  T_Legacy_Active_H_P_Above50K_MultiFamilyOrCond...  \n",
       "1  T_Legacy_Active_H_P_Above50K_MultiFamilyOrCond...  "
      ]
     },
     "execution_count": 22,
     "metadata": {},
     "output_type": "execute_result"
    }
   ],
   "source": [
    "df_local_uploaded.head(2)"
   ]
  },
  {
   "cell_type": "code",
   "execution_count": 23,
   "metadata": {},
   "outputs": [
    {
     "data": {
      "text/plain": [
       "(20003623, 5)"
      ]
     },
     "execution_count": 23,
     "metadata": {},
     "output_type": "execute_result"
    }
   ],
   "source": [
    "df=pd.merge(df_local_uploaded,df_2020Q1_mapping,on=\"customer_id_hashed\",how=\"inner\")\n",
    "df.shape"
   ]
  },
  {
   "cell_type": "code",
   "execution_count": null,
   "metadata": {},
   "outputs": [],
   "source": []
  }
 ],
 "metadata": {
  "kernelspec": {
   "display_name": "Python 3",
   "language": "python",
   "name": "python3"
  },
  "language_info": {
   "codemirror_mode": {
    "name": "ipython",
    "version": 3
   },
   "file_extension": ".py",
   "mimetype": "text/x-python",
   "name": "python",
   "nbconvert_exporter": "python",
   "pygments_lexer": "ipython3",
   "version": "3.6.1"
  }
 },
 "nbformat": 4,
 "nbformat_minor": 2
}
