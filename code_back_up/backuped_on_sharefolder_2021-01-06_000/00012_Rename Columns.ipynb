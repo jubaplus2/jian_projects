{
 "cells": [
  {
   "cell_type": "code",
   "execution_count": 60,
   "metadata": {
    "collapsed": true
   },
   "outputs": [],
   "source": [
    "import pandas as pd\n",
    "import numpy as np"
   ]
  },
  {
   "cell_type": "code",
   "execution_count": 61,
   "metadata": {
    "collapsed": true
   },
   "outputs": [],
   "source": [
    "data_rain_Dollar=pd.read_excel(\"/Users/Jian/Desktop/Media Storm/Big Lots/TMR/Weather/Model/By_Day/BL_Weather_8weeks_5ivs_YoY_Dollar.xlsx\",sheetname=\"Rain\")\n",
    "data_snow_Dollar=pd.read_excel(\"/Users/Jian/Desktop/Media Storm/Big Lots/TMR/Weather/Model/By_Day/BL_Weather_8weeks_5ivs_YoY_Dollar.xlsx\",sheetname= \"Snow\")\n",
    "data_rain_Pctg=pd.read_excel(\"/Users/Jian/Desktop/Media Storm/Big Lots/TMR/Weather/Model/By_Day/BL_Weather_8weeks_5ivs_YoY_Pctg.xlsx\",sheetname=\"Rain\")\n",
    "data_snow_Pctg=pd.read_excel(\"/Users/Jian/Desktop/Media Storm/Big Lots/TMR/Weather/Model/By_Day/BL_Weather_8weeks_5ivs_YoY_Pctg.xlsx\",sheetname= \"Snow\")"
   ]
  },
  {
   "cell_type": "code",
   "execution_count": 62,
   "metadata": {},
   "outputs": [],
   "source": [
    "col_rain_Dollar=data_rain_Dollar.columns.tolist()[2:]\n",
    "col_snow_Dollar=data_rain_Dollar.columns.tolist()[2:]"
   ]
  },
  {
   "cell_type": "code",
   "execution_count": 63,
   "metadata": {},
   "outputs": [],
   "source": [
    "def rename_df(df):\n",
    "    df_col_to_change=df.columns.tolist()[2:]\n",
    "    new_cols=[]\n",
    "    for col in df_col_to_change:\n",
    "        if len(col)==15:\n",
    "            new_name=col.split(\"_\")[1]+\"_\"+col.split(\"_\")[0]\n",
    "        else:\n",
    "            new_name=col.split(\"_\")[2]+\"_\"+col.split(\"_\")[0]+\"_\"+col.split(\"_\")[1]\n",
    "        new_cols=new_cols+[new_name]\n",
    "    new_cols=df.columns.tolist()[0:2:]+new_cols\n",
    "    df_new=df.copy()\n",
    "    df_new.columns=new_cols\n",
    "    return df_new"
   ]
  },
  {
   "cell_type": "code",
   "execution_count": 64,
   "metadata": {},
   "outputs": [],
   "source": [
    "data_rain_Dollar_new=rename_df(data_rain_Dollar)\n",
    "data_snow_Dollar_new=rename_df(data_snow_Dollar)\n",
    "data_rain_Pctg_new=rename_df(data_rain_Pctg)\n",
    "data_snow_Pctg_new=rename_df(data_snow_Pctg)"
   ]
  },
  {
   "cell_type": "code",
   "execution_count": 65,
   "metadata": {},
   "outputs": [],
   "source": [
    "week_ending_list=[\"2018-02-17\",\"2018-02-24\",\"2018-03-03\",\"2018-03-10\",\"2018-03-17\",\n",
    "                  \"2018-03-24\",\"2018-03-31\",\"2018-04-07\"]\n",
    "\n",
    "merge_on_Dollar=['location_id','zip_cd']+[x+\"_YoY_Dollar\" for x in week_ending_list]\n",
    "merge_on_Pctg=['location_id','zip_cd']+[x+\"_YoY_Pctg\" for x in week_ending_list]\n",
    "Dollar_Rain_Snow=pd.merge(data_rain_Dollar_new,data_snow_Dollar_new,on=merge_on_Dollar,how='outer')\n",
    "Pctg_Rain_Snow=pd.merge(data_rain_Pctg_new,data_snow_Pctg_new,on=merge_on_Pctg,how='outer')"
   ]
  },
  {
   "cell_type": "code",
   "execution_count": 66,
   "metadata": {},
   "outputs": [],
   "source": [
    "Dollar_Rain_Snow=Dollar_Rain_Snow[['location_id','zip_cd']+sorted(Dollar_Rain_Snow.columns.tolist()[2:])]\n",
    "Pctg_Rain_Snow=Pctg_Rain_Snow[['location_id','zip_cd']+sorted(Pctg_Rain_Snow.columns.tolist()[2:])]"
   ]
  },
  {
   "cell_type": "code",
   "execution_count": 69,
   "metadata": {},
   "outputs": [],
   "source": [
    "Dollar_Rain_Snow.to_excel(\"/Users/Jian/Desktop/Media Storm/Big Lots/TMR/Weather/Model/By_Day/Rain_Snow/Dollar_Rain_Snow.xlsx\",index=False)\n",
    "Pctg_Rain_Snow.to_excel(\"/Users/Jian/Desktop/Media Storm/Big Lots/TMR/Weather/Model/By_Day/Rain_Snow/Pctg_Rain_Snow.xlsx\",index=False)\n",
    "\n"
   ]
  },
  {
   "cell_type": "code",
   "execution_count": null,
   "metadata": {
    "collapsed": true
   },
   "outputs": [],
   "source": []
  }
 ],
 "metadata": {
  "kernelspec": {
   "display_name": "Python 3",
   "language": "python",
   "name": "python3"
  },
  "language_info": {
   "codemirror_mode": {
    "name": "ipython",
    "version": 3
   },
   "file_extension": ".py",
   "mimetype": "text/x-python",
   "name": "python",
   "nbconvert_exporter": "python",
   "pygments_lexer": "ipython3",
   "version": "3.6.3"
  }
 },
 "nbformat": 4,
 "nbformat_minor": 2
}
