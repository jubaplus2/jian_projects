{
 "cells": [
  {
   "cell_type": "code",
   "execution_count": 1,
   "metadata": {},
   "outputs": [
    {
     "data": {
      "text/plain": [
       "'/home/jian/Projects/Big_Lots/Live_Ramp/Quarterly_Update_2019Q4/Experian_EasyLeasing'"
      ]
     },
     "execution_count": 1,
     "metadata": {},
     "output_type": "execute_result"
    }
   ],
   "source": [
    "import pandas as pd\n",
    "import os\n",
    "import glob\n",
    "\n",
    "os.getcwd()"
   ]
  },
  {
   "cell_type": "code",
   "execution_count": 2,
   "metadata": {},
   "outputs": [
    {
     "data": {
      "text/plain": [
       "['./uploaded/Experian_EasyLeasing_SOTF_HHI50KLower.csv',\n",
       " './uploaded/Experian_EasyLeasing_SOTF_HHI50Kto100K_Age50Lower.csv',\n",
       " './uploaded/Experian_EasyLeasing_Legacy_HHI50KLower.csv',\n",
       " './uploaded/Experian_EasyLeasing_Legacy_HHI50Kto100K_Age50Lower.csv']"
      ]
     },
     "execution_count": 2,
     "metadata": {},
     "output_type": "execute_result"
    }
   ],
   "source": [
    "List_Experian_Files=glob.glob(\"./uploaded/*.csv\")\n",
    "List_Experian_Files"
   ]
  },
  {
   "cell_type": "code",
   "execution_count": 3,
   "metadata": {
    "collapsed": true
   },
   "outputs": [],
   "source": [
    "writer_folder_FB=\"/home/jian/Projects/Big_Lots/Live_Ramp/Quarterly_Update_2019Q4/Experian_EasyLeasing/Final_upload_to_FB_directly/\"\n",
    "try:\n",
    "    os.stat(writer_folder_FB)\n",
    "except:\n",
    "    os.mkdir(writer_folder_FB)"
   ]
  },
  {
   "cell_type": "code",
   "execution_count": 4,
   "metadata": {
    "collapsed": true
   },
   "outputs": [],
   "source": [
    "for file in List_Experian_Files:\n",
    "    seg=os.path.basename(file).split(\".\")[0]\n",
    "    df=pd.read_csv(file,usecols=['email_address_hash'],dtype=str).rename(columns={\"email_address_hash\":\"Email\"}).drop_duplicates()\n",
    "    df.to_csv(writer_folder_FB+seg+\".csv\",index=False)"
   ]
  },
  {
   "cell_type": "code",
   "execution_count": 5,
   "metadata": {},
   "outputs": [
    {
     "data": {
      "text/html": [
       "<div>\n",
       "<style scoped>\n",
       "    .dataframe tbody tr th:only-of-type {\n",
       "        vertical-align: middle;\n",
       "    }\n",
       "\n",
       "    .dataframe tbody tr th {\n",
       "        vertical-align: top;\n",
       "    }\n",
       "\n",
       "    .dataframe thead th {\n",
       "        text-align: right;\n",
       "    }\n",
       "</style>\n",
       "<table border=\"1\" class=\"dataframe\">\n",
       "  <thead>\n",
       "    <tr style=\"text-align: right;\">\n",
       "      <th></th>\n",
       "      <th>Email</th>\n",
       "    </tr>\n",
       "  </thead>\n",
       "  <tbody>\n",
       "    <tr>\n",
       "      <th>0</th>\n",
       "      <td>74174b4b7d1a9090e4bfbae62d05af137a77573b266a79...</td>\n",
       "    </tr>\n",
       "    <tr>\n",
       "      <th>1</th>\n",
       "      <td>dcae3d56ca203b801a17039eabb59e17bac5cfe17bab84...</td>\n",
       "    </tr>\n",
       "    <tr>\n",
       "      <th>2</th>\n",
       "      <td>a6fa2ad19dfe05d441d9ee0a1edbefcf1e135049062583...</td>\n",
       "    </tr>\n",
       "    <tr>\n",
       "      <th>3</th>\n",
       "      <td>8fae2e56c03473491ca54a8ec097d5dd4a7e9cdd75c82d...</td>\n",
       "    </tr>\n",
       "    <tr>\n",
       "      <th>4</th>\n",
       "      <td>7eed1ab019507d5c9693568680701241e0033bff1ef040...</td>\n",
       "    </tr>\n",
       "    <tr>\n",
       "      <th>...</th>\n",
       "      <td>...</td>\n",
       "    </tr>\n",
       "    <tr>\n",
       "      <th>2945080</th>\n",
       "      <td>ee126676a38552b7d8f87789d8bed457a4334454ea8b4f...</td>\n",
       "    </tr>\n",
       "    <tr>\n",
       "      <th>2945081</th>\n",
       "      <td>b0b6ff4673646361156520b8c89c2d4ff455b482c55cb1...</td>\n",
       "    </tr>\n",
       "    <tr>\n",
       "      <th>2945082</th>\n",
       "      <td>be906ed314df6f756e9b8310e3f57460b9ebe817750757...</td>\n",
       "    </tr>\n",
       "    <tr>\n",
       "      <th>2945083</th>\n",
       "      <td>516aa7f470718df878c65479d767e2928a46878ebe835a...</td>\n",
       "    </tr>\n",
       "    <tr>\n",
       "      <th>2945084</th>\n",
       "      <td>9629ff85490315ae1ae232006515e4e2fa26e380d58fa3...</td>\n",
       "    </tr>\n",
       "  </tbody>\n",
       "</table>\n",
       "<p>2945085 rows × 1 columns</p>\n",
       "</div>"
      ],
      "text/plain": [
       "                                                     Email\n",
       "0        74174b4b7d1a9090e4bfbae62d05af137a77573b266a79...\n",
       "1        dcae3d56ca203b801a17039eabb59e17bac5cfe17bab84...\n",
       "2        a6fa2ad19dfe05d441d9ee0a1edbefcf1e135049062583...\n",
       "3        8fae2e56c03473491ca54a8ec097d5dd4a7e9cdd75c82d...\n",
       "4        7eed1ab019507d5c9693568680701241e0033bff1ef040...\n",
       "...                                                    ...\n",
       "2945080  ee126676a38552b7d8f87789d8bed457a4334454ea8b4f...\n",
       "2945081  b0b6ff4673646361156520b8c89c2d4ff455b482c55cb1...\n",
       "2945082  be906ed314df6f756e9b8310e3f57460b9ebe817750757...\n",
       "2945083  516aa7f470718df878c65479d767e2928a46878ebe835a...\n",
       "2945084  9629ff85490315ae1ae232006515e4e2fa26e380d58fa3...\n",
       "\n",
       "[2945085 rows x 1 columns]"
      ]
     },
     "execution_count": 5,
     "metadata": {},
     "output_type": "execute_result"
    }
   ],
   "source": [
    "df=pd.read_csv(\"./Final_upload_to_FB_directly/Experian_EasyLeasing_Legacy_HHI50Kto100K_Age50Lower.csv\",dtype=str)\n",
    "df"
   ]
  },
  {
   "cell_type": "code",
   "execution_count": null,
   "metadata": {
    "collapsed": true
   },
   "outputs": [],
   "source": []
  }
 ],
 "metadata": {
  "kernelspec": {
   "display_name": "Python 3",
   "language": "python",
   "name": "python3"
  },
  "language_info": {
   "codemirror_mode": {
    "name": "ipython",
    "version": 3
   },
   "file_extension": ".py",
   "mimetype": "text/x-python",
   "name": "python",
   "nbconvert_exporter": "python",
   "pygments_lexer": "ipython3",
   "version": "3.6.1"
  }
 },
 "nbformat": 4,
 "nbformat_minor": 2
}
