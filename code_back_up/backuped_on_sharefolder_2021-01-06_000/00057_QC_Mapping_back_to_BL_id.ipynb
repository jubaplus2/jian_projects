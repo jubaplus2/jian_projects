{
 "cells": [
  {
   "cell_type": "code",
   "execution_count": 1,
   "metadata": {},
   "outputs": [
    {
     "data": {
      "text/plain": [
       "'/home/jian/Projects/Big_Lots/Live_Ramp/Mapping_Files/2018_Q4/downloads_output'"
      ]
     },
     "execution_count": 1,
     "metadata": {},
     "output_type": "execute_result"
    }
   ],
   "source": [
    "import pandas as pd\n",
    "import numpy as np\n",
    "import datetime\n",
    "import os\n",
    "os.getcwd()"
   ]
  },
  {
   "cell_type": "code",
   "execution_count": 2,
   "metadata": {},
   "outputs": [
    {
     "data": {
      "text/plain": [
       "(23875578, 3)"
      ]
     },
     "execution_count": 2,
     "metadata": {},
     "output_type": "execute_result"
    }
   ],
   "source": [
    "returned_data=pd.read_table(\"/home/jian/Projects/Big_Lots/Live_Ramp/Mapping_Files/2018_Q4/downloads_output/CL_BigLots_BL_mapping_file_2018Q4_JL_2019-02-01_20190207_025237_0000.psv.gz\",\n",
    "                           nrows=None,dtype=str,sep=\"|\")\n",
    "returned_data.shape"
   ]
  },
  {
   "cell_type": "code",
   "execution_count": 3,
   "metadata": {},
   "outputs": [
    {
     "data": {
      "text/html": [
       "<div>\n",
       "<style>\n",
       "    .dataframe thead tr:only-child th {\n",
       "        text-align: right;\n",
       "    }\n",
       "\n",
       "    .dataframe thead th {\n",
       "        text-align: left;\n",
       "    }\n",
       "\n",
       "    .dataframe tbody tr th {\n",
       "        vertical-align: top;\n",
       "    }\n",
       "</style>\n",
       "<table border=\"1\" class=\"dataframe\">\n",
       "  <thead>\n",
       "    <tr style=\"text-align: right;\">\n",
       "      <th></th>\n",
       "      <th>Customer_Link</th>\n",
       "      <th>customer_id_hashed</th>\n",
       "      <th>segment</th>\n",
       "    </tr>\n",
       "  </thead>\n",
       "  <tbody>\n",
       "    <tr>\n",
       "      <th>0</th>\n",
       "      <td>Xi1468RevoBcFDAGYUFS4UZQops-BAdpHQcSDC6KWgQzSL...</td>\n",
       "      <td>dff65ed7cc4d54d8261002bb89126c904f5f2758d4f4e0...</td>\n",
       "      <td>T_active_chain_S_D07_Q4</td>\n",
       "    </tr>\n",
       "    <tr>\n",
       "      <th>1</th>\n",
       "      <td>XY1468dyZYhORNKbPOrzWQCINTM6amBgU9OgKAGVFHECLxPYE</td>\n",
       "      <td>27cf4059243a2472fa8a75f67d41e1c2b1bec79478003a...</td>\n",
       "      <td>T_active_chain_P_D04_Q4</td>\n",
       "    </tr>\n",
       "  </tbody>\n",
       "</table>\n",
       "</div>"
      ],
      "text/plain": [
       "                                       Customer_Link  \\\n",
       "0  Xi1468RevoBcFDAGYUFS4UZQops-BAdpHQcSDC6KWgQzSL...   \n",
       "1  XY1468dyZYhORNKbPOrzWQCINTM6amBgU9OgKAGVFHECLxPYE   \n",
       "\n",
       "                                  customer_id_hashed                  segment  \n",
       "0  dff65ed7cc4d54d8261002bb89126c904f5f2758d4f4e0...  T_active_chain_S_D07_Q4  \n",
       "1  27cf4059243a2472fa8a75f67d41e1c2b1bec79478003a...  T_active_chain_P_D04_Q4  "
      ]
     },
     "execution_count": 3,
     "metadata": {},
     "output_type": "execute_result"
    }
   ],
   "source": [
    "returned_data.head(2)"
   ]
  },
  {
   "cell_type": "code",
   "execution_count": 14,
   "metadata": {},
   "outputs": [
    {
     "data": {
      "text/plain": [
       "23548730"
      ]
     },
     "execution_count": 14,
     "metadata": {},
     "output_type": "execute_result"
    }
   ],
   "source": [
    "len(returned_data['Customer_Link'].unique())"
   ]
  },
  {
   "cell_type": "code",
   "execution_count": 15,
   "metadata": {},
   "outputs": [
    {
     "data": {
      "text/plain": [
       "23874341"
      ]
     },
     "execution_count": 15,
     "metadata": {},
     "output_type": "execute_result"
    }
   ],
   "source": [
    "len(returned_data['customer_id_hashed'].unique())"
   ]
  },
  {
   "cell_type": "code",
   "execution_count": 4,
   "metadata": {},
   "outputs": [
    {
     "data": {
      "text/plain": [
       "(23875578, 3)"
      ]
     },
     "execution_count": 4,
     "metadata": {},
     "output_type": "execute_result"
    }
   ],
   "source": [
    "uploaded_data=pd.read_csv(\"/home/jian/Projects/Big_Lots/Live_Ramp/Mapping_Files/2018_Q4/BL_mapping_file_2018Q4_JL_2019-02-01.csv\",\n",
    "                           usecols=['customer_id_hashed','email_address_hash','segment'],dtype=str).rename(columns={\"segment\":\"segment_uploaded\"})\n",
    "uploaded_data.shape"
   ]
  },
  {
   "cell_type": "code",
   "execution_count": 8,
   "metadata": {},
   "outputs": [
    {
     "data": {
      "text/plain": [
       "23875578"
      ]
     },
     "execution_count": 8,
     "metadata": {},
     "output_type": "execute_result"
    }
   ],
   "source": [
    "len(uploaded_data['email_address_hash'].unique())"
   ]
  },
  {
   "cell_type": "code",
   "execution_count": 16,
   "metadata": {},
   "outputs": [
    {
     "data": {
      "text/plain": [
       "23874341"
      ]
     },
     "execution_count": 16,
     "metadata": {},
     "output_type": "execute_result"
    }
   ],
   "source": [
    "len(uploaded_data['customer_id_hashed'].unique())"
   ]
  },
  {
   "cell_type": "code",
   "execution_count": 5,
   "metadata": {},
   "outputs": [
    {
     "data": {
      "text/html": [
       "<div>\n",
       "<style>\n",
       "    .dataframe thead tr:only-child th {\n",
       "        text-align: right;\n",
       "    }\n",
       "\n",
       "    .dataframe thead th {\n",
       "        text-align: left;\n",
       "    }\n",
       "\n",
       "    .dataframe tbody tr th {\n",
       "        vertical-align: top;\n",
       "    }\n",
       "</style>\n",
       "<table border=\"1\" class=\"dataframe\">\n",
       "  <thead>\n",
       "    <tr style=\"text-align: right;\">\n",
       "      <th></th>\n",
       "      <th>customer_id_hashed</th>\n",
       "      <th>email_address_hash</th>\n",
       "      <th>segment_uploaded</th>\n",
       "    </tr>\n",
       "  </thead>\n",
       "  <tbody>\n",
       "    <tr>\n",
       "      <th>0</th>\n",
       "      <td>73ffdaf7a7c7cc4be0351d7201c4444b745d1e0035a95f...</td>\n",
       "      <td>a909de3c3feee405ec29c9bd9e603d1220b88e64f625fc...</td>\n",
       "      <td>10.5 SOTF Cleveland</td>\n",
       "    </tr>\n",
       "    <tr>\n",
       "      <th>1</th>\n",
       "      <td>3adc60d511958bae1243d4f665ce763238fff72ac6a365...</td>\n",
       "      <td>abe5868177f707194a338dd98e4fd81306c087e3f8c5bd...</td>\n",
       "      <td>10.5 SOTF Cleveland</td>\n",
       "    </tr>\n",
       "  </tbody>\n",
       "</table>\n",
       "</div>"
      ],
      "text/plain": [
       "                                  customer_id_hashed  \\\n",
       "0  73ffdaf7a7c7cc4be0351d7201c4444b745d1e0035a95f...   \n",
       "1  3adc60d511958bae1243d4f665ce763238fff72ac6a365...   \n",
       "\n",
       "                                  email_address_hash     segment_uploaded  \n",
       "0  a909de3c3feee405ec29c9bd9e603d1220b88e64f625fc...  10.5 SOTF Cleveland  \n",
       "1  abe5868177f707194a338dd98e4fd81306c087e3f8c5bd...  10.5 SOTF Cleveland  "
      ]
     },
     "execution_count": 5,
     "metadata": {},
     "output_type": "execute_result"
    }
   ],
   "source": [
    "uploaded_data.head(2)"
   ]
  },
  {
   "cell_type": "code",
   "execution_count": 6,
   "metadata": {},
   "outputs": [
    {
     "data": {
      "text/plain": [
       "(23878052, 5)"
      ]
     },
     "execution_count": 6,
     "metadata": {},
     "output_type": "execute_result"
    }
   ],
   "source": [
    "merged_df=pd.merge(returned_data,uploaded_data,on=\"customer_id_hashed\",how=\"outer\")\n",
    "merged_df.shape"
   ]
  },
  {
   "cell_type": "code",
   "execution_count": 11,
   "metadata": {},
   "outputs": [
    {
     "data": {
      "text/plain": [
       "(0, 5)"
      ]
     },
     "execution_count": 11,
     "metadata": {},
     "output_type": "execute_result"
    }
   ],
   "source": [
    "merged_df[pd.isnull(merged_df['Customer_Link'])].shape"
   ]
  },
  {
   "cell_type": "code",
   "execution_count": 13,
   "metadata": {},
   "outputs": [
    {
     "data": {
      "text/html": [
       "<div>\n",
       "<style>\n",
       "    .dataframe thead tr:only-child th {\n",
       "        text-align: right;\n",
       "    }\n",
       "\n",
       "    .dataframe thead th {\n",
       "        text-align: left;\n",
       "    }\n",
       "\n",
       "    .dataframe tbody tr th {\n",
       "        vertical-align: top;\n",
       "    }\n",
       "</style>\n",
       "<table border=\"1\" class=\"dataframe\">\n",
       "  <thead>\n",
       "    <tr style=\"text-align: right;\">\n",
       "      <th></th>\n",
       "      <th>Customer_Link</th>\n",
       "      <th>customer_id_hashed</th>\n",
       "      <th>segment</th>\n",
       "      <th>email_address_hash</th>\n",
       "      <th>segment_uploaded</th>\n",
       "    </tr>\n",
       "  </thead>\n",
       "  <tbody>\n",
       "    <tr>\n",
       "      <th>0</th>\n",
       "      <td>Xi1468RevoBcFDAGYUFS4UZQops-BAdpHQcSDC6KWgQzSL...</td>\n",
       "      <td>dff65ed7cc4d54d8261002bb89126c904f5f2758d4f4e0...</td>\n",
       "      <td>T_active_chain_S_D07_Q4</td>\n",
       "      <td>d13e7983b223cfc85b646c7570edd24a66bbbba244a60f...</td>\n",
       "      <td>T_active_chain_S_D07_Q4</td>\n",
       "    </tr>\n",
       "    <tr>\n",
       "      <th>1</th>\n",
       "      <td>XY1468dyZYhORNKbPOrzWQCINTM6amBgU9OgKAGVFHECLxPYE</td>\n",
       "      <td>27cf4059243a2472fa8a75f67d41e1c2b1bec79478003a...</td>\n",
       "      <td>T_active_chain_P_D04_Q4</td>\n",
       "      <td>f8834d2e91baad73d8f5cd5235a7a4200cd27fe01990e2...</td>\n",
       "      <td>T_active_chain_P_D04_Q4</td>\n",
       "    </tr>\n",
       "  </tbody>\n",
       "</table>\n",
       "</div>"
      ],
      "text/plain": [
       "                                       Customer_Link  \\\n",
       "0  Xi1468RevoBcFDAGYUFS4UZQops-BAdpHQcSDC6KWgQzSL...   \n",
       "1  XY1468dyZYhORNKbPOrzWQCINTM6amBgU9OgKAGVFHECLxPYE   \n",
       "\n",
       "                                  customer_id_hashed                  segment  \\\n",
       "0  dff65ed7cc4d54d8261002bb89126c904f5f2758d4f4e0...  T_active_chain_S_D07_Q4   \n",
       "1  27cf4059243a2472fa8a75f67d41e1c2b1bec79478003a...  T_active_chain_P_D04_Q4   \n",
       "\n",
       "                                  email_address_hash         segment_uploaded  \n",
       "0  d13e7983b223cfc85b646c7570edd24a66bbbba244a60f...  T_active_chain_S_D07_Q4  \n",
       "1  f8834d2e91baad73d8f5cd5235a7a4200cd27fe01990e2...  T_active_chain_P_D04_Q4  "
      ]
     },
     "execution_count": 13,
     "metadata": {},
     "output_type": "execute_result"
    }
   ],
   "source": [
    "merged_df.head(2)"
   ]
  },
  {
   "cell_type": "code",
   "execution_count": 19,
   "metadata": {},
   "outputs": [
    {
     "data": {
      "text/plain": [
       "1.000103620528056"
      ]
     },
     "execution_count": 19,
     "metadata": {},
     "output_type": "execute_result"
    }
   ],
   "source": [
    "23878052/23875578"
   ]
  },
  {
   "cell_type": "code",
   "execution_count": null,
   "metadata": {
    "collapsed": true
   },
   "outputs": [],
   "source": []
  },
  {
   "cell_type": "code",
   "execution_count": 28,
   "metadata": {
    "collapsed": true
   },
   "outputs": [],
   "source": [
    "x=returned_data['customer_id_hashed'][0]\n",
    "y=uploaded_data['customer_id_hashed'][0]"
   ]
  },
  {
   "cell_type": "code",
   "execution_count": 40,
   "metadata": {},
   "outputs": [
    {
     "data": {
      "text/plain": [
       "'bd21702b8667cd50ff2b112d115d19b14fe914a0467c755b59878f6f820fa94c'"
      ]
     },
     "execution_count": 40,
     "metadata": {},
     "output_type": "execute_result"
    }
   ],
   "source": [
    "x"
   ]
  },
  {
   "cell_type": "code",
   "execution_count": 29,
   "metadata": {
    "collapsed": true
   },
   "outputs": [],
   "source": [
    "uploaded_id_list=uploaded_data['customer_id_hashed'].tolist()\n",
    "returned_id_list=returned_data['customer_id_hashed'].tolist()"
   ]
  },
  {
   "cell_type": "code",
   "execution_count": 30,
   "metadata": {},
   "outputs": [
    {
     "data": {
      "text/plain": [
       "False"
      ]
     },
     "execution_count": 30,
     "metadata": {},
     "output_type": "execute_result"
    }
   ],
   "source": [
    "x in uploaded_id_list"
   ]
  },
  {
   "cell_type": "code",
   "execution_count": 42,
   "metadata": {},
   "outputs": [
    {
     "data": {
      "text/plain": [
       "False"
      ]
     },
     "execution_count": 42,
     "metadata": {},
     "output_type": "execute_result"
    }
   ],
   "source": [
    "import hashlib\n",
    "hashlib.sha256(x.encode('UTF-8')).hexdigest() in uploaded_id_list"
   ]
  },
  {
   "cell_type": "code",
   "execution_count": 43,
   "metadata": {},
   "outputs": [
    {
     "data": {
      "text/plain": [
       "False"
      ]
     },
     "execution_count": 43,
     "metadata": {},
     "output_type": "execute_result"
    }
   ],
   "source": [
    "y in returned_id_list"
   ]
  },
  {
   "cell_type": "code",
   "execution_count": 44,
   "metadata": {},
   "outputs": [
    {
     "data": {
      "text/plain": [
       "False"
      ]
     },
     "execution_count": 44,
     "metadata": {},
     "output_type": "execute_result"
    }
   ],
   "source": [
    "hashlib.sha256(y.encode('UTF-8')).hexdigest() in uploaded_id_list"
   ]
  },
  {
   "cell_type": "code",
   "execution_count": 24,
   "metadata": {},
   "outputs": [
    {
     "data": {
      "text/plain": [
       "array([64])"
      ]
     },
     "execution_count": 24,
     "metadata": {},
     "output_type": "execute_result"
    }
   ],
   "source": [
    "uploaded_data['customer_id_hashed'].apply(lambda x: len(x)).unique()"
   ]
  },
  {
   "cell_type": "code",
   "execution_count": 25,
   "metadata": {},
   "outputs": [
    {
     "data": {
      "text/plain": [
       "array([64])"
      ]
     },
     "execution_count": 25,
     "metadata": {},
     "output_type": "execute_result"
    }
   ],
   "source": [
    "returned_data['customer_id_hashed'].apply(lambda x: len(x)).unique()"
   ]
  },
  {
   "cell_type": "code",
   "execution_count": null,
   "metadata": {
    "collapsed": true
   },
   "outputs": [],
   "source": []
  }
 ],
 "metadata": {
  "kernelspec": {
   "display_name": "Python 3",
   "language": "python",
   "name": "python3"
  },
  "language_info": {
   "codemirror_mode": {
    "name": "ipython",
    "version": 3
   },
   "file_extension": ".py",
   "mimetype": "text/x-python",
   "name": "python",
   "nbconvert_exporter": "python",
   "pygments_lexer": "ipython3",
   "version": "3.6.1"
  }
 },
 "nbformat": 4,
 "nbformat_minor": 2
}
