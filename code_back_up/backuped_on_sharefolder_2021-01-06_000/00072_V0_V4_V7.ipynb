{
 "cells": [
  {
   "cell_type": "code",
   "execution_count": 1,
   "metadata": {},
   "outputs": [
    {
     "data": {
      "text/plain": [
       "'/home/jian/Projects/Big_Lots/Live_Ramp/Quarterly_Update_2019Q2/Compare_Versions'"
      ]
     },
     "execution_count": 1,
     "metadata": {},
     "output_type": "execute_result"
    }
   ],
   "source": [
    "import pandas as pd\n",
    "import glob\n",
    "import os\n",
    "os.getcwd()"
   ]
  },
  {
   "cell_type": "code",
   "execution_count": 2,
   "metadata": {},
   "outputs": [
    {
     "data": {
      "text/plain": [
       "72"
      ]
     },
     "execution_count": 2,
     "metadata": {},
     "output_type": "execute_result"
    }
   ],
   "source": [
    "V0_list=glob.glob('/home/jian/Projects/Big_Lots/Live_Ramp/Quarterly_Update_2019Q2/output_2019-04-12/by_group/*.csv')\n",
    "V0_list=[x for x in V0_list if (\"T_\" in x or \"C_\" in x)]\n",
    "\n",
    "len(V0_list)"
   ]
  },
  {
   "cell_type": "code",
   "execution_count": 3,
   "metadata": {},
   "outputs": [
    {
     "data": {
      "text/plain": [
       "72"
      ]
     },
     "execution_count": 3,
     "metadata": {},
     "output_type": "execute_result"
    }
   ],
   "source": [
    "V4_list=glob.glob('/home/jian/Projects/Big_Lots/Live_Ramp/Quarterly_Update_2019Q2/Investigation_of_differnt_versions/output/Version4_upto20190330_MergeEmail_Decile_NoRemove_2019-04-20/by_group/*.csv')\n",
    "V4_list=[x for x in V4_list if (\"T_\" in x or \"C_\" in x)]\n",
    "\n",
    "len(V4_list)"
   ]
  },
  {
   "cell_type": "code",
   "execution_count": 4,
   "metadata": {},
   "outputs": [
    {
     "data": {
      "text/plain": [
       "72"
      ]
     },
     "execution_count": 4,
     "metadata": {},
     "output_type": "execute_result"
    }
   ],
   "source": [
    "V7_list=glob.glob('/home/jian/Projects/Big_Lots/Live_Ramp/Quarterly_Update_2019Q2/Investigation_of_differnt_versions/output/Version7_4R_upto20190330_MergeEmail_Decile_NoRemove_2019-04-21/by_group/*.csv')\n",
    "V7_list=[x for x in V7_list if (\"T_\" in x or \"C_\" in x)]\n",
    "\n",
    "len(V7_list)"
   ]
  },
  {
   "cell_type": "code",
   "execution_count": 5,
   "metadata": {
    "collapsed": true
   },
   "outputs": [],
   "source": [
    "V0_df=pd.DataFrame()\n",
    "\n",
    "for file in V0_list:\n",
    "    df=pd.read_csv(file,dtype=str)\n",
    "    V0_df=V0_df.append(df)\n",
    "V0_df=V0_df.rename(columns={'segment':\"V0\"})"
   ]
  },
  {
   "cell_type": "code",
   "execution_count": 6,
   "metadata": {
    "collapsed": true
   },
   "outputs": [],
   "source": [
    "V4_df=pd.DataFrame()\n",
    "\n",
    "for file in V4_list:\n",
    "    df=pd.read_csv(file,dtype=str)\n",
    "    V4_df=V4_df.append(df)\n",
    "V4_df=V4_df.rename(columns={'segment':\"V4\"})"
   ]
  },
  {
   "cell_type": "code",
   "execution_count": 7,
   "metadata": {
    "collapsed": true
   },
   "outputs": [],
   "source": [
    "V7_df=pd.DataFrame()\n",
    "\n",
    "for file in V7_list:\n",
    "    df=pd.read_csv(file,dtype=str)\n",
    "    V7_df=V7_df.append(df)\n",
    "V7_df=V7_df.rename(columns={'segment':\"V7\"})"
   ]
  },
  {
   "cell_type": "code",
   "execution_count": 8,
   "metadata": {},
   "outputs": [
    {
     "data": {
      "text/html": [
       "<div>\n",
       "<style>\n",
       "    .dataframe thead tr:only-child th {\n",
       "        text-align: right;\n",
       "    }\n",
       "\n",
       "    .dataframe thead th {\n",
       "        text-align: left;\n",
       "    }\n",
       "\n",
       "    .dataframe tbody tr th {\n",
       "        vertical-align: top;\n",
       "    }\n",
       "</style>\n",
       "<table border=\"1\" class=\"dataframe\">\n",
       "  <thead>\n",
       "    <tr style=\"text-align: right;\">\n",
       "      <th></th>\n",
       "      <th>customer_id_hashed</th>\n",
       "      <th>email_address_hash</th>\n",
       "      <th>V7</th>\n",
       "    </tr>\n",
       "  </thead>\n",
       "  <tbody>\n",
       "    <tr>\n",
       "      <th>0</th>\n",
       "      <td>51ce14856c1e1eae5156bc18e4bd2a63d8412462aab055...</td>\n",
       "      <td>80318c3f741c9a0cc18b19a500113b3e0dff9b9f5cc7e0...</td>\n",
       "      <td>T_Quadrant III_P_H_2019Q2</td>\n",
       "    </tr>\n",
       "    <tr>\n",
       "      <th>1</th>\n",
       "      <td>c5f55af0dce7ff2dbae6da4f74af7bec3e1a7a9a50e381...</td>\n",
       "      <td>a7432c3fc4774db8ad90791cfaf3f501d432ec1307d5f4...</td>\n",
       "      <td>T_Quadrant III_P_H_2019Q2</td>\n",
       "    </tr>\n",
       "    <tr>\n",
       "      <th>2</th>\n",
       "      <td>3edde4cc0f3cd989e1c14952f326c3b4b1026454d7e393...</td>\n",
       "      <td>9577d8527d670db08abbf9de2b543877c425fb448f2c03...</td>\n",
       "      <td>T_Quadrant III_P_H_2019Q2</td>\n",
       "    </tr>\n",
       "    <tr>\n",
       "      <th>3</th>\n",
       "      <td>91097c3e61b166296931e7ea95c2580db14647f29f8c50...</td>\n",
       "      <td>1c76f0ad68cf204df367d859fcdb55af0635394dd21e9d...</td>\n",
       "      <td>T_Quadrant III_P_H_2019Q2</td>\n",
       "    </tr>\n",
       "  </tbody>\n",
       "</table>\n",
       "</div>"
      ],
      "text/plain": [
       "                                  customer_id_hashed  \\\n",
       "0  51ce14856c1e1eae5156bc18e4bd2a63d8412462aab055...   \n",
       "1  c5f55af0dce7ff2dbae6da4f74af7bec3e1a7a9a50e381...   \n",
       "2  3edde4cc0f3cd989e1c14952f326c3b4b1026454d7e393...   \n",
       "3  91097c3e61b166296931e7ea95c2580db14647f29f8c50...   \n",
       "\n",
       "                                  email_address_hash  \\\n",
       "0  80318c3f741c9a0cc18b19a500113b3e0dff9b9f5cc7e0...   \n",
       "1  a7432c3fc4774db8ad90791cfaf3f501d432ec1307d5f4...   \n",
       "2  9577d8527d670db08abbf9de2b543877c425fb448f2c03...   \n",
       "3  1c76f0ad68cf204df367d859fcdb55af0635394dd21e9d...   \n",
       "\n",
       "                          V7  \n",
       "0  T_Quadrant III_P_H_2019Q2  \n",
       "1  T_Quadrant III_P_H_2019Q2  \n",
       "2  T_Quadrant III_P_H_2019Q2  \n",
       "3  T_Quadrant III_P_H_2019Q2  "
      ]
     },
     "execution_count": 8,
     "metadata": {},
     "output_type": "execute_result"
    }
   ],
   "source": [
    "V7_df.head(4)"
   ]
  },
  {
   "cell_type": "code",
   "execution_count": 9,
   "metadata": {
    "collapsed": true
   },
   "outputs": [],
   "source": [
    "df_all_3=pd.merge(V0_df,V4_df,on=['customer_id_hashed','email_address_hash'],how=\"outer\")\n",
    "df_all_3=pd.merge(df_all_3,V7_df,on=['customer_id_hashed','email_address_hash'],how=\"outer\")\n"
   ]
  },
  {
   "cell_type": "code",
   "execution_count": 10,
   "metadata": {},
   "outputs": [
    {
     "data": {
      "text/html": [
       "<div>\n",
       "<style>\n",
       "    .dataframe thead tr:only-child th {\n",
       "        text-align: right;\n",
       "    }\n",
       "\n",
       "    .dataframe thead th {\n",
       "        text-align: left;\n",
       "    }\n",
       "\n",
       "    .dataframe tbody tr th {\n",
       "        vertical-align: top;\n",
       "    }\n",
       "</style>\n",
       "<table border=\"1\" class=\"dataframe\">\n",
       "  <thead>\n",
       "    <tr style=\"text-align: right;\">\n",
       "      <th></th>\n",
       "      <th>customer_id_hashed</th>\n",
       "      <th>email_address_hash</th>\n",
       "      <th>V0</th>\n",
       "      <th>V4</th>\n",
       "      <th>V7</th>\n",
       "    </tr>\n",
       "  </thead>\n",
       "  <tbody>\n",
       "    <tr>\n",
       "      <th>0</th>\n",
       "      <td>51ce14856c1e1eae5156bc18e4bd2a63d8412462aab055...</td>\n",
       "      <td>80318c3f741c9a0cc18b19a500113b3e0dff9b9f5cc7e0...</td>\n",
       "      <td>T_Quadrant III_P_H_2019Q2</td>\n",
       "      <td>T_Quadrant III_P_H_2019Q2</td>\n",
       "      <td>T_Quadrant III_P_H_2019Q2</td>\n",
       "    </tr>\n",
       "    <tr>\n",
       "      <th>1</th>\n",
       "      <td>c5f55af0dce7ff2dbae6da4f74af7bec3e1a7a9a50e381...</td>\n",
       "      <td>a7432c3fc4774db8ad90791cfaf3f501d432ec1307d5f4...</td>\n",
       "      <td>T_Quadrant III_P_H_2019Q2</td>\n",
       "      <td>T_Quadrant III_P_H_2019Q2</td>\n",
       "      <td>T_Quadrant III_P_H_2019Q2</td>\n",
       "    </tr>\n",
       "  </tbody>\n",
       "</table>\n",
       "</div>"
      ],
      "text/plain": [
       "                                  customer_id_hashed  \\\n",
       "0  51ce14856c1e1eae5156bc18e4bd2a63d8412462aab055...   \n",
       "1  c5f55af0dce7ff2dbae6da4f74af7bec3e1a7a9a50e381...   \n",
       "\n",
       "                                  email_address_hash  \\\n",
       "0  80318c3f741c9a0cc18b19a500113b3e0dff9b9f5cc7e0...   \n",
       "1  a7432c3fc4774db8ad90791cfaf3f501d432ec1307d5f4...   \n",
       "\n",
       "                          V0                         V4  \\\n",
       "0  T_Quadrant III_P_H_2019Q2  T_Quadrant III_P_H_2019Q2   \n",
       "1  T_Quadrant III_P_H_2019Q2  T_Quadrant III_P_H_2019Q2   \n",
       "\n",
       "                          V7  \n",
       "0  T_Quadrant III_P_H_2019Q2  \n",
       "1  T_Quadrant III_P_H_2019Q2  "
      ]
     },
     "execution_count": 10,
     "metadata": {},
     "output_type": "execute_result"
    }
   ],
   "source": [
    "df_all_3.head(2)"
   ]
  },
  {
   "cell_type": "code",
   "execution_count": 11,
   "metadata": {},
   "outputs": [
    {
     "name": "stdout",
     "output_type": "stream",
     "text": [
      "V0_df.shape (24077565, 3)\n",
      "V0_unique_id 24077565\n",
      "V0_unique_email 24077565\n"
     ]
    }
   ],
   "source": [
    "print(\"V0_df.shape\",V0_df.shape)\n",
    "print(\"V0_unique_id\",len(V0_df['customer_id_hashed'].unique()))\n",
    "print(\"V0_unique_email\",len(V0_df['email_address_hash'].unique()))\n"
   ]
  },
  {
   "cell_type": "code",
   "execution_count": 12,
   "metadata": {},
   "outputs": [
    {
     "name": "stdout",
     "output_type": "stream",
     "text": [
      "V4_df.shape (24077571, 3)\n",
      "V4_unique_id 24077571\n",
      "V4_unique_email 24077571\n"
     ]
    }
   ],
   "source": [
    "print(\"V4_df.shape\",V4_df.shape)\n",
    "print(\"V4_unique_id\",len(V4_df['customer_id_hashed'].unique()))\n",
    "print(\"V4_unique_email\",len(V4_df['email_address_hash'].unique()))\n"
   ]
  },
  {
   "cell_type": "code",
   "execution_count": 13,
   "metadata": {},
   "outputs": [
    {
     "name": "stdout",
     "output_type": "stream",
     "text": [
      "V7_df.shape (24077571, 3)\n",
      "V7_unique_id 24077571\n",
      "V7_unique_email 24077571\n"
     ]
    }
   ],
   "source": [
    "print(\"V7_df.shape\",V7_df.shape)\n",
    "print(\"V7_unique_id\",len(V7_df['customer_id_hashed'].unique()))\n",
    "print(\"V7_unique_email\",len(V7_df['email_address_hash'].unique()))\n"
   ]
  },
  {
   "cell_type": "code",
   "execution_count": 32,
   "metadata": {},
   "outputs": [],
   "source": [
    "df_all_3=df_all_3.fillna(\"NA\")"
   ]
  },
  {
   "cell_type": "code",
   "execution_count": 27,
   "metadata": {
    "collapsed": true
   },
   "outputs": [],
   "source": [
    "summary=df_all_3.groupby(['V0','V4','V7'])['customer_id_hashed'].count().to_frame().reset_index()"
   ]
  },
  {
   "cell_type": "code",
   "execution_count": 28,
   "metadata": {},
   "outputs": [
    {
     "data": {
      "text/plain": [
       "(1539, 4)"
      ]
     },
     "execution_count": 28,
     "metadata": {},
     "output_type": "execute_result"
    }
   ],
   "source": [
    "summary.shape"
   ]
  },
  {
   "cell_type": "code",
   "execution_count": 29,
   "metadata": {
    "collapsed": true
   },
   "outputs": [],
   "source": [
    "summary.to_csv('/home/jian/Projects/Big_Lots/Live_Ramp/Quarterly_Update_2019Q2/Compare_Versions/QC_V0_V4_V7.csv',index=False)"
   ]
  },
  {
   "cell_type": "code",
   "execution_count": 30,
   "metadata": {},
   "outputs": [],
   "source": [
    "summary_total=summary.copy()\n",
    "summary_total['V0']=summary_total['V0'].apply(lambda x: x.replace(\"T_Quadrant\",\"Quadrant\").replace(\"C_Quadrant\",\"Quadrant\"))\n",
    "summary_total['V4']=summary_total['V4'].apply(lambda x: x.replace(\"T_Quadrant\",\"Quadrant\").replace(\"C_Quadrant\",\"Quadrant\"))\n",
    "summary_total['V7']=summary_total['V7'].apply(lambda x: x.replace(\"T_Quadrant\",\"Quadrant\").replace(\"C_Quadrant\",\"Quadrant\"))\n",
    "\n",
    "summary_total=summary_total.groupby(['V0','V4','V7'])['customer_id_hashed'].sum().to_frame().reset_index()\n",
    "\n",
    "summary_total['V0_DecileGroup']=summary_total['V0'].apply(lambda x: x.split(\"_\")[2])\n",
    "summary_total['V4_DecileGroup']=summary_total['V4'].apply(lambda x: x.split(\"_\")[2])\n",
    "summary_total['V7_DecileGroup']=summary_total['V7'].apply(lambda x: x.split(\"_\")[2])\n"
   ]
  },
  {
   "cell_type": "code",
   "execution_count": 31,
   "metadata": {},
   "outputs": [],
   "source": [
    "summary_total.to_csv('/home/jian/Projects/Big_Lots/Live_Ramp/Quarterly_Update_2019Q2/Compare_Versions/QC_V0_V4_V7_HML.csv',index=False)"
   ]
  },
  {
   "cell_type": "code",
   "execution_count": null,
   "metadata": {
    "collapsed": true
   },
   "outputs": [],
   "source": []
  }
 ],
 "metadata": {
  "kernelspec": {
   "display_name": "Python 3",
   "language": "python",
   "name": "python3"
  },
  "language_info": {
   "codemirror_mode": {
    "name": "ipython",
    "version": 3
   },
   "file_extension": ".py",
   "mimetype": "text/x-python",
   "name": "python",
   "nbconvert_exporter": "python",
   "pygments_lexer": "ipython3",
   "version": "3.6.1"
  }
 },
 "nbformat": 4,
 "nbformat_minor": 2
}
