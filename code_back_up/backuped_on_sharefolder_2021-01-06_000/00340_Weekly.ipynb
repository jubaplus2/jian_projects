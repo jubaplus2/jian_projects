{
 "cells": [
  {
   "cell_type": "code",
   "execution_count": 2,
   "metadata": {},
   "outputs": [
    {
     "name": "stdout",
     "output_type": "stream",
     "text": [
      "start celery\n"
     ]
    }
   ],
   "source": [
    "print(\"start celery\")\n",
    "import pandas as pd\n",
    "import numpy as np\n",
    "import os\n",
    "import datetime\n",
    "import paramiko\n",
    "import glob\n",
    "import logging\n",
    "import gc\n",
    "import smtplib\n",
    "folderpath = '/home/jian/BiglotsCode/outputs/'\n",
    "lastweeksdate=str(datetime.datetime.now().date()-datetime.timedelta(days=datetime.datetime.now().date().weekday()-1+10))\n",
    "\n",
    "Tuesday_StampDate_Str=str(datetime.datetime.now().date()-datetime.timedelta(days=datetime.datetime.now().date().weekday()-1))\n",
    "Tuesday_today_str =Tuesday_StampDate_Str[0:4]+Tuesday_StampDate_Str[5:7]+Tuesday_StampDate_Str[8:10]\n",
    "thisweeksdate=str(datetime.datetime.now().date()-datetime.timedelta(days=datetime.datetime.now().date().weekday()-1+3))\n",
    "\n",
    "today_str=str(datetime.datetime.now().date())\n",
    "logging.basicConfig(filename='debug_weekly.log', level=logging.INFO)"
   ]
  },
  {
   "cell_type": "code",
   "execution_count": 16,
   "metadata": {},
   "outputs": [],
   "source": [
    "recent_weekly_data_folder=\"/home/jian/BigLots/MediaStorm_\"+thisweeksdate+\"/\"\n",
    "Simeng_recent_weekly_data_folder=\"/home/simeng/outputs_\"+thisweeksdate+\"/\"\n",
    "\n",
    "Saturday_str=str(datetime.datetime.now().date()-datetime.timedelta(days=datetime.datetime.now().date().weekday()-1+3-7))\n",
    "\n",
    "if not os.path.exists(\"/home/jian/BiglotsCode/outputs/Output_\"+thisweeksdate+\"/By_Zip_weather_forecast_for_Saturday_\"+Saturday_str+\".csv\"):\n",
    "    del Saturday_str\n",
    "\n",
    "    try:\n",
    "        os.stat(recent_weekly_data_folder)\n",
    "    except:\n",
    "        os.mkdir(recent_weekly_data_folder)\n",
    "\n",
    "    try:\n",
    "        os.stat(Simeng_recent_weekly_data_folder)\n",
    "    except:\n",
    "        os.mkdir(Simeng_recent_weekly_data_folder)\n",
    "\n",
    "    logging.info(str(datetime.datetime.now())+\": Start Running\")\n",
    "    # In[3]:\n",
    "\n",
    "    host = \"64.237.51.251\" #hard-coded\n",
    "    port = 22\n",
    "    transport = paramiko.Transport((host, port))\n",
    "\n",
    "    password = \"bwRi3V6fgZsfJrMl\" #hard-coded\n",
    "    username = \"client\" #hard-coded\n",
    "    transport.connect(username = username, password = password)\n",
    "    sftp = paramiko.SFTPClient.from_transport(transport)\n",
    "\n",
    "\n",
    "    Client_Today_STR=str(datetime.datetime.now().date()\n",
    "    Client_Today_NUM_STR =Client_Today_STR[0:4]+Client_Today_STR[5:7]+Client_Today_STR[8:10]\n",
    "\n",
    "    new_weekly_file_list=sftp.listdir(\"/mnt/drv5/biglots_data/\")"
   ]
  },
  {
   "cell_type": "code",
   "execution_count": 17,
   "metadata": {},
   "outputs": [],
   "source": [
    "new_weekly_file_list=[\"/mnt/drv5/biglots_data/\"+x for x in new_weekly_file_list if Client_Today_NUM_STR in x]\n",
    "        "
   ]
  },
  {
   "cell_type": "code",
   "execution_count": 18,
   "metadata": {},
   "outputs": [
    {
     "data": {
      "text/plain": [
       "['/mnt/drv5/biglots_data/MediaStormInventoryWeekly20191211-170854-931.txt',\n",
       " '/mnt/drv5/biglots_data/MediaStormTrafficDetail20191211-170918-274.txt',\n",
       " '/mnt/drv5/biglots_data/MediaStormTrafficWeekly20191211-170918-273.txt',\n",
       " '/mnt/drv5/biglots_data/MediaStormSalesWeekly20191211-170911-238.txt',\n",
       " '/mnt/drv5/biglots_data/MediaStormMasterWeekly20191211-170859-504.txt']"
      ]
     },
     "execution_count": 18,
     "metadata": {},
     "output_type": "execute_result"
    }
   ],
   "source": [
    "new_weekly_file_list"
   ]
  },
  {
   "cell_type": "code",
   "execution_count": null,
   "metadata": {
    "collapsed": true
   },
   "outputs": [],
   "source": []
  }
 ],
 "metadata": {
  "kernelspec": {
   "display_name": "Python 3",
   "language": "python",
   "name": "python3"
  },
  "language_info": {
   "codemirror_mode": {
    "name": "ipython",
    "version": 3
   },
   "file_extension": ".py",
   "mimetype": "text/x-python",
   "name": "python",
   "nbconvert_exporter": "python",
   "pygments_lexer": "ipython3",
   "version": "3.6.1"
  }
 },
 "nbformat": 4,
 "nbformat_minor": 2
}
