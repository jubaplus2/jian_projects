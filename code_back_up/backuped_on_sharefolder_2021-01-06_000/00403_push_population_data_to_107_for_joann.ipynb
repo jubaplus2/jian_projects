{
 "cells": [
  {
   "cell_type": "code",
   "execution_count": 2,
   "metadata": {},
   "outputs": [],
   "source": [
    "import paramiko\n",
    "import os\n",
    "import datetime"
   ]
  },
  {
   "cell_type": "code",
   "execution_count": 3,
   "metadata": {},
   "outputs": [],
   "source": [
    "host = \"107.191.32.220\" #hard-coded\n",
    "port = 22\n",
    "transport = paramiko.Transport((host, port))\n",
    "\n",
    "password = \"juba-jc1\" #hard-coded\n",
    "username = \"joann\" #hard-coded\n",
    "transport.connect(username = username, password = password)\n",
    "sftp = paramiko.SFTPClient.from_transport(transport)"
   ]
  },
  {
   "cell_type": "code",
   "execution_count": 4,
   "metadata": {},
   "outputs": [],
   "source": [
    "remote_folder=\"/mnt/drv5/joann/Census and EASI/\"\n",
    "\n",
    "EASI_A=\"/home/jian/Docs/EASI/2018-07-19/ZIP4_18_DATA_A2_CSV/ZIP4_18_DATA_A2.CSV\"\n",
    "EASI_B=\"/home/jian/Docs/EASI/2018-07-19/ZIP4_18_DATA_B2_CSV/ZIP4_18_DATA_B2.CSV\"\n",
    "EASI_C=\"/home/jian/Docs/EASI/2018-07-19/ZIP4_18_DATA_C2_CSV/ZIP4_18_DATA_C2.CSV\"\n",
    "list_local_files=[EASI_A,EASI_B,EASI_C]\n",
    "for local_file in list_local_files:\n",
    "    sftp.put(EASI_A,remote_folder+os.path.basename(local_file))\n",
    "sftp.close()\n",
    "transport.close()"
   ]
  },
  {
   "cell_type": "code",
   "execution_count": 7,
   "metadata": {},
   "outputs": [],
   "source": [
    "import paramiko\n",
    "import os\n",
    "\n",
    "class MySFTPClient(paramiko.SFTPClient):\n",
    "    def put_dir(self, source, target):\n",
    "        ''' Uploads the contents of the source directory to the target path. The\n",
    "            target directory needs to exists. All subdirectories in source are \n",
    "            created under target.\n",
    "        '''\n",
    "        for item in os.listdir(source):\n",
    "            if os.path.isfile(os.path.join(source, item)):\n",
    "                self.put(os.path.join(source, item), '%s/%s' % (target, item))\n",
    "            else:\n",
    "                self.mkdir('%s/%s' % (target, item), ignore_existing=True)\n",
    "                self.put_dir(os.path.join(source, item), '%s/%s' % (target, item))\n",
    "\n",
    "    def mkdir(self, path, mode=511, ignore_existing=False):\n",
    "        ''' Augments mkdir by adding an option to not fail if the folder exists  '''\n",
    "        try:\n",
    "            super(MySFTPClient, self).mkdir(path, mode)\n",
    "        except IOError:\n",
    "            if ignore_existing:\n",
    "                pass\n",
    "            else:\n",
    "                raise"
   ]
  },
  {
   "cell_type": "code",
   "execution_count": 9,
   "metadata": {},
   "outputs": [
    {
     "data": {
      "text/plain": [
       "'/home/jian/Docs/Household_and_Population/Cencus_2019/'"
      ]
     },
     "execution_count": 9,
     "metadata": {},
     "output_type": "execute_result"
    }
   ],
   "source": [
    "source_path"
   ]
  },
  {
   "cell_type": "code",
   "execution_count": 8,
   "metadata": {},
   "outputs": [],
   "source": [
    "transport = paramiko.Transport((host, port))\n",
    "transport.connect(username=username, password=password)\n",
    "sftp = MySFTPClient.from_transport(transport)\n",
    "\n",
    "target_path=\"/mnt/drv5/joann/Census and EASI/census_19\"\n",
    "sftp.mkdir(target_path, ignore_existing=True)\n",
    "sftp.put_dir(source_path, target_path)\n",
    "sftp.close()"
   ]
  },
  {
   "cell_type": "code",
   "execution_count": null,
   "metadata": {},
   "outputs": [],
   "source": []
  }
 ],
 "metadata": {
  "kernelspec": {
   "display_name": "Python 3",
   "language": "python",
   "name": "python3"
  },
  "language_info": {
   "codemirror_mode": {
    "name": "ipython",
    "version": 3
   },
   "file_extension": ".py",
   "mimetype": "text/x-python",
   "name": "python",
   "nbconvert_exporter": "python",
   "pygments_lexer": "ipython3",
   "version": "3.6.1"
  }
 },
 "nbformat": 4,
 "nbformat_minor": 2
}
