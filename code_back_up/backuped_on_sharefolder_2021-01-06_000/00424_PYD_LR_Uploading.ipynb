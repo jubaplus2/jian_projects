{
 "cells": [
  {
   "cell_type": "code",
   "execution_count": 2,
   "metadata": {},
   "outputs": [
    {
     "name": "stdout",
     "output_type": "stream",
     "text": [
      "2020-09-17 10:10:54.715377\n",
      "/home/jian/Projects/Big_Lots/Analysis/2020_Q3/Audience_for_21mm_Act_Goal/Uploading_Scripts\n"
     ]
    }
   ],
   "source": [
    "import paramiko \n",
    "import datetime\n",
    "import pandas as pd\n",
    "import os\n",
    "import datetime\n",
    "import glob\n",
    "print(datetime.datetime.now())\n",
    "print(os.getcwd())"
   ]
  },
  {
   "cell_type": "code",
   "execution_count": 4,
   "metadata": {},
   "outputs": [
    {
     "data": {
      "text/plain": [
       "['/home/jian/Projects/Big_Lots/Analysis/2020_Q3/Audience_for_21mm_Act_Goal/Uploaded_Files/PYD_clients/removed_Q3_QuarterlyControl_09142020_PYD_Active_A.csv',\n",
       " '/home/jian/Projects/Big_Lots/Analysis/2020_Q3/Audience_for_21mm_Act_Goal/Uploaded_Files/PYD_clients/removed_Q3_QuarterlyControl_09142020_PYD_Lapsed_A.csv',\n",
       " '/home/jian/Projects/Big_Lots/Analysis/2020_Q3/Audience_for_21mm_Act_Goal/Uploaded_Files/PYD_clients/removed_Q3_QuarterlyControl_09142020_PYD_Signup_NoPurchase_A.csv']"
      ]
     },
     "execution_count": 4,
     "metadata": {},
     "output_type": "execute_result"
    }
   ],
   "source": [
    "list_pyd_removed_quarterly_control=glob.glob(\"/home/jian/Projects/Big_Lots/Analysis/2020_Q3/Audience_for_21mm_Act_Goal/Uploaded_Files/PYD_clients/*.csv\")\n",
    "list_pyd_removed_quarterly_control=[x for x in list_pyd_removed_quarterly_control if \"_A.csv\" in x]\n",
    "list_pyd_removed_quarterly_control"
   ]
  },
  {
   "cell_type": "code",
   "execution_count": 14,
   "metadata": {},
   "outputs": [
    {
     "name": "stdout",
     "output_type": "stream",
     "text": [
      "PYD_Active_A 2020-09-17 10:30:09.992865 (6473944, 3)\n",
      "PYD_Lapsed_A 2020-09-17 10:30:21.919249 (1174859, 3)\n",
      "PYD_Signup_NoPurchase_A 2020-09-17 10:30:37.746960 (971806, 3)\n"
     ]
    }
   ],
   "source": [
    "for file in list_pyd_removed_quarterly_control:\n",
    "    segment_name=os.path.basename(file).split(\"9142020_\")[1][:-4]\n",
    "    df=pd.read_csv(file,dtype=str)\n",
    "    df=df[['customersummary_emailhash','customersummary_c_primaryscnhash']].drop_duplicates()\n",
    "    df=df[['customersummary_c_primaryscnhash','customersummary_emailhash']]\n",
    "    df=df.rename(columns={'customersummary_c_primaryscnhash':'customer_id_hashed',\"customersummary_emailhash\":\"email_address_hash\"})\n",
    "    df['segment_2020_Sept_PYD']=segment_name\n",
    "    df.to_csv(\"/home/jian/Projects/Big_Lots/Analysis/2020_Q3/Audience_for_21mm_Act_Goal/Uploaded_Files/PYD_LR_format/%s.csv\"%segment_name,index=False)\n",
    "    print(segment_name,datetime.datetime.now(),df.shape)"
   ]
  },
  {
   "cell_type": "code",
   "execution_count": 15,
   "metadata": {},
   "outputs": [
    {
     "data": {
      "text/html": [
       "<div>\n",
       "<style scoped>\n",
       "    .dataframe tbody tr th:only-of-type {\n",
       "        vertical-align: middle;\n",
       "    }\n",
       "\n",
       "    .dataframe tbody tr th {\n",
       "        vertical-align: top;\n",
       "    }\n",
       "\n",
       "    .dataframe thead th {\n",
       "        text-align: right;\n",
       "    }\n",
       "</style>\n",
       "<table border=\"1\" class=\"dataframe\">\n",
       "  <thead>\n",
       "    <tr style=\"text-align: right;\">\n",
       "      <th></th>\n",
       "      <th>customer_id_hashed</th>\n",
       "      <th>email_address_hash</th>\n",
       "      <th>segment_2020_Sept_PYD</th>\n",
       "    </tr>\n",
       "  </thead>\n",
       "  <tbody>\n",
       "    <tr>\n",
       "      <th>0</th>\n",
       "      <td>26e9f762bad8fef8236cfc8cc2295438688f96a680d21c...</td>\n",
       "      <td>a18b86772997a332cfdb345d3b040a314a6631e1ea73ae...</td>\n",
       "      <td>PYD_Active_A</td>\n",
       "    </tr>\n",
       "    <tr>\n",
       "      <th>1</th>\n",
       "      <td>a41d61718ae691378e10e77918e29d5761ed7a8361aad7...</td>\n",
       "      <td>ec8fe455ffeed633d1c5e9578f7bdda11a9d8a0ad88be8...</td>\n",
       "      <td>PYD_Active_A</td>\n",
       "    </tr>\n",
       "  </tbody>\n",
       "</table>\n",
       "</div>"
      ],
      "text/plain": [
       "                                  customer_id_hashed  \\\n",
       "0  26e9f762bad8fef8236cfc8cc2295438688f96a680d21c...   \n",
       "1  a41d61718ae691378e10e77918e29d5761ed7a8361aad7...   \n",
       "\n",
       "                                  email_address_hash segment_2020_Sept_PYD  \n",
       "0  a18b86772997a332cfdb345d3b040a314a6631e1ea73ae...          PYD_Active_A  \n",
       "1  ec8fe455ffeed633d1c5e9578f7bdda11a9d8a0ad88be8...          PYD_Active_A  "
      ]
     },
     "execution_count": 15,
     "metadata": {},
     "output_type": "execute_result"
    }
   ],
   "source": [
    "list_files_LR_to_Upload=glob.glob(\"/home/jian/Projects/Big_Lots/Analysis/2020_Q3/Audience_for_21mm_Act_Goal/Uploaded_Files/PYD_LR_format/*.csv\")\n",
    "pd.read_csv(list_files_LR_to_Upload[0],dtype=str,nrows=2)"
   ]
  },
  {
   "cell_type": "code",
   "execution_count": 16,
   "metadata": {},
   "outputs": [],
   "source": [
    "# Uploading\n",
    "\n",
    "import paramiko\n",
    "host = \"files.liveramp.com\"\n",
    "port = 22\n",
    "password = \"Biglots2018!\"\n",
    "username = \"lr-big-lots\"\n",
    "\n",
    "transport = paramiko.Transport((host, port))\n",
    "\n",
    "transport.connect(username = username, password = password)\n",
    "sftp = paramiko.SFTPClient.from_transport(transport)\n"
   ]
  },
  {
   "cell_type": "code",
   "execution_count": 17,
   "metadata": {},
   "outputs": [
    {
     "name": "stdout",
     "output_type": "stream",
     "text": [
      "2020-09-17 10:33:04.887418 /uploads/big_lots_onboarding/PYD_Active_A.csv\n",
      "2020-09-17 10:33:29.835051 /uploads/big_lots_onboarding/PYD_Lapsed_A.csv\n",
      "2020-09-17 10:33:51.792854 /uploads/big_lots_onboarding/PYD_Signup_NoPurchase_A.csv\n",
      "All_Done: 2020-09-17 10:33:51.807575\n"
     ]
    }
   ],
   "source": [
    "for local_file in list_files_LR_to_Upload:\n",
    "    base_name=os.path.basename(local_file)\n",
    "    remote_name=\"/uploads/big_lots_onboarding/\"+base_name\n",
    "    sftp.put(local_file,remote_name)\n",
    "    print(datetime.datetime.now(),remote_name)\n",
    "print(\"All_Done: \"+str(datetime.datetime.now()))\n",
    "sftp.close()\n",
    "transport.close()"
   ]
  },
  {
   "cell_type": "code",
   "execution_count": null,
   "metadata": {},
   "outputs": [],
   "source": []
  }
 ],
 "metadata": {
  "kernelspec": {
   "display_name": "Python 3",
   "language": "python",
   "name": "python3"
  },
  "language_info": {
   "codemirror_mode": {
    "name": "ipython",
    "version": 3
   },
   "file_extension": ".py",
   "mimetype": "text/x-python",
   "name": "python",
   "nbconvert_exporter": "python",
   "pygments_lexer": "ipython3",
   "version": "3.6.1"
  }
 },
 "nbformat": 4,
 "nbformat_minor": 2
}
