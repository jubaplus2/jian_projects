{
 "cells": [
  {
   "cell_type": "code",
   "execution_count": 1,
   "metadata": {
    "collapsed": true
   },
   "outputs": [],
   "source": [
    "import pandas as pd"
   ]
  },
  {
   "cell_type": "code",
   "execution_count": 5,
   "metadata": {},
   "outputs": [
    {
     "data": {
      "text/plain": [
       "['ZIP Code',\n",
       " 'ZIP Plus 4',\n",
       " 'Carrier Route Type',\n",
       " 'Population (1/1/2018)',\n",
       " 'Households (1/1/2018)',\n",
       " 'Population Growth (2018/2010)',\n",
       " 'Household, Average Size',\n",
       " 'Householder, Median Age',\n",
       " 'Housing, Median Rent ($)',\n",
       " 'Housing, Median Value Owner Households ($)',\n",
       " 'Households, Median Vehicles',\n",
       " 'Household Income, Median ($)',\n",
       " 'Household Income, Average ($)',\n",
       " 'Household Income, Per Capita ($)',\n",
       " 'Population, Median Age',\n",
       " '% HH Income 200K Plus',\n",
       " 'Household Income, High Income Average ($)']"
      ]
     },
     "execution_count": 5,
     "metadata": {},
     "output_type": "execute_result"
    }
   ],
   "source": [
    "data_A=pd.read_csv(\"/home/jian/Docs/EASI/ZIP4_18_DATA_A2_CSV/ZIP4_18_DATA_A2.CSV\",dtype=str,nrows=100)\n",
    "data_A.columns.tolist()"
   ]
  },
  {
   "cell_type": "code",
   "execution_count": 6,
   "metadata": {},
   "outputs": [
    {
     "data": {
      "text/plain": [
       "['ZIP Code',\n",
       " 'ZIP Plus 4',\n",
       " 'Carrier Route Type',\n",
       " 'Population (1/1/2018)',\n",
       " 'Households (1/1/2018)',\n",
       " '% Owner Occupied Households',\n",
       " '% Renter Occupied Households',\n",
       " '% White Population, Alone',\n",
       " '% Black Population, Alone',\n",
       " '% Asian, Pacific Islander Population, Alone',\n",
       " '% American Indian and Alaska Native Population, Alone',\n",
       " '% Other Race Population, Alone',\n",
       " '% Two or More Races Population',\n",
       " '% Hispanic Population',\n",
       " '% White Non Hispanic Population',\n",
       " '% Graduate Degree (25+)',\n",
       " '% White Collar Employment']"
      ]
     },
     "execution_count": 6,
     "metadata": {},
     "output_type": "execute_result"
    }
   ],
   "source": [
    "data_B=pd.read_csv(\"/home/jian/Docs/EASI/ZIP4_18_DATA_B2_CSV/ZIP4_18_DATA_B2.CSV\",dtype=str,nrows=100)\n",
    "data_B.columns.tolist()"
   ]
  },
  {
   "cell_type": "code",
   "execution_count": 11,
   "metadata": {},
   "outputs": [
    {
     "data": {
      "text/plain": [
       "['ZIP Code',\n",
       " 'ZIP Plus 4',\n",
       " 'Carrier Route Type',\n",
       " 'Households (1/1/2018)',\n",
       " '% Married Couples no Children',\n",
       " '% Married Couples with Children',\n",
       " '% Single Parents with Children',\n",
       " '% Singles and Unrelated Individuals',\n",
       " '% HH Aged under 25 years',\n",
       " '% HH Aged 25 v 34 years',\n",
       " '% HH Aged 35 v 44 years',\n",
       " '% HH Aged 45 v 54 years',\n",
       " '% HH Aged 55 v 64 years',\n",
       " '% HH Aged 65 v 74 years',\n",
       " '% HH Aged 75 and over years',\n",
       " '% HH¬s earning <$35,000',\n",
       " '% HH¬s earning $35,000 to $100,000',\n",
       " '% HH¬s earning over $100,000']"
      ]
     },
     "execution_count": 11,
     "metadata": {},
     "output_type": "execute_result"
    }
   ],
   "source": [
    "data_C=pd.read_csv(\"/home/jian/Docs/EASI/ZIP4_18_DATA_C2_CSV/ZIP4_18_DATA_C2.CSV\",dtype=str,nrows=100,encoding=\"ISO-8859-1\")\n",
    "data_C.columns.tolist()"
   ]
  },
  {
   "cell_type": "code",
   "execution_count": null,
   "metadata": {
    "collapsed": true
   },
   "outputs": [],
   "source": []
  }
 ],
 "metadata": {
  "kernelspec": {
   "display_name": "Python 3",
   "language": "python",
   "name": "python3"
  },
  "language_info": {
   "codemirror_mode": {
    "name": "ipython",
    "version": 3
   },
   "file_extension": ".py",
   "mimetype": "text/x-python",
   "name": "python",
   "nbconvert_exporter": "python",
   "pygments_lexer": "ipython3",
   "version": "3.6.1"
  }
 },
 "nbformat": 4,
 "nbformat_minor": 2
}
