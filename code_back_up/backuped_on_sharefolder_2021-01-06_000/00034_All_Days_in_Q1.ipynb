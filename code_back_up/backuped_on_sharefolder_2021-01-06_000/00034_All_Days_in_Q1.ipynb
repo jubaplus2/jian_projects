{
 "cells": [
  {
   "cell_type": "code",
   "execution_count": 30,
   "metadata": {
    "collapsed": true
   },
   "outputs": [],
   "source": [
    "import json\n",
    "import datetime\n",
    "import numpy as np\n",
    "import pandas as pd\n",
    "import glob\n",
    "import matplotlib.pyplot as plt\n",
    "import openpyxl\n",
    "import math\n",
    "today_foloder=\"20180416\" # str(datetime.datetime.now().year)+str(datetime.datetime.now().month).zfill(2)+str(datetime.datetime.now().day).zfill(2)\n",
    "sales_file_date=\"2018-04-07\"\n",
    "\n",
    "json_list_date=glob.glob(\"/home/jian/Projects/Big_Lots/Weather/Json_data/daily/api_response_\"+today_foloder+\"/*.json\")\n",
    "\n",
    "start = datetime.datetime(2018,2,11).date()\n",
    "end = datetime.datetime(2018,4,7).date()\n",
    "weather_date_list = [start + datetime.timedelta(days=x) for x in range(0, (end-start+datetime.timedelta(days=1)).days)]\n"
   ]
  },
  {
   "cell_type": "code",
   "execution_count": 31,
   "metadata": {
    "collapsed": true
   },
   "outputs": [],
   "source": [
    "sales=pd.read_excel(\"/home/jian/BiglotsCode/outputs/Output_\"+sales_file_date+\"/wide_sales_date\"+sales_file_date+\".xlsx\",sheetname=\"sales\")"
   ]
  },
  {
   "cell_type": "code",
   "execution_count": 32,
   "metadata": {
    "collapsed": true
   },
   "outputs": [],
   "source": [
    "store_zip=pd.read_excel(\"/home/jian/Projects/Big_Lots/Other Input/all_store_DMA.xlsx\",dtype=str)\n",
    "store_zip=store_zip[store_zip['zip_cd']!='nan']\n",
    "store_zip=store_zip[['location_id','zip_cd']]\n",
    "store_zip=store_zip.drop_duplicates().reset_index()\n",
    "del store_zip['index']\n",
    "store_zip['location_id']=store_zip['location_id'].astype(int)"
   ]
  },
  {
   "cell_type": "code",
   "execution_count": 33,
   "metadata": {
    "collapsed": true
   },
   "outputs": [],
   "source": [
    "Week_End_Date_List=[datetime.datetime(2018,2,17).date(),datetime.datetime(2018,2,24).date(),datetime.datetime(2018,3,3).date(),\n",
    "                    datetime.datetime(2018,3,10).date(),datetime.datetime(2018,3,17).date(),datetime.datetime(2018,3,24).date(),\n",
    "                    datetime.datetime(2018,3,31).date(),datetime.datetime(2018,4,7).date()]"
   ]
  },
  {
   "cell_type": "code",
   "execution_count": 34,
   "metadata": {
    "collapsed": true
   },
   "outputs": [],
   "source": [
    "sales_Q1=store_zip\n",
    "for date in Week_End_Date_List:\n",
    "    sales_week=sales[['location_id',str(date),str(date+datetime.timedelta(days=-364))]]\n",
    "    sales_week=sales_week[(sales[str(date)]>0) & (sales_week[str(date+datetime.timedelta(days=-364))]>0)]\n",
    "    sales_week.reset_index(inplace=True)\n",
    "    del sales_week['index']\n",
    "    sales_week.columns=[['location_id','Sales_2018_'+str(date),'Sales_2017_'+str(date)]]\n",
    "    sales_week['YoY_Dollar_'+str(date)]=sales_week['Sales_2018_'+str(date)]-sales_week['Sales_2017_'+str(date)]\n",
    "    sales_week['YoY_Pctg_'+str(date)]=sales_week['YoY_Dollar_'+str(date)]/sales_week['Sales_2017_'+str(date)]\n",
    "    sales_Q1=pd.merge(sales_Q1,sales_week,on=\"location_id\",how=\"inner\")\n"
   ]
  },
  {
   "cell_type": "code",
   "execution_count": 35,
   "metadata": {
    "collapsed": true
   },
   "outputs": [],
   "source": [
    "sales_Q1_Dollar_Columns=[\"YoY_Dollar_\"+str(date) for date in Week_End_Date_List]\n",
    "sales_Q1_Dollar=sales_Q1[[\"location_id\",\"zip_cd\"]+sales_Q1_Dollar_Columns]\n",
    "\n",
    "sales_Q1_Pctg_Columns=[\"YoY_Pctg_\"+str(date) for date in Week_End_Date_List]\n",
    "sales_Q1_Pctg=sales_Q1[[\"location_id\",\"zip_cd\"]+sales_Q1_Pctg_Columns]\n",
    "\n",
    "unique_zip=sales_Q1['zip_cd'].unique()"
   ]
  },
  {
   "cell_type": "code",
   "execution_count": 36,
   "metadata": {},
   "outputs": [
    {
     "name": "stdout",
     "output_type": "stream",
     "text": [
      "2018-02-27\n",
      "2018-03-23\n"
     ]
    }
   ],
   "source": [
    "remove_date=[]\n",
    "for date in weather_date_list:\n",
    "    try:\n",
    "        date_str=str(date)\n",
    "        response=json.load(open(\"/home/jian/Projects/Big_Lots/Weather/Json_data/daily/api_response_\"+today_foloder+\"/\"+date_str+\".json\",'r'))\n",
    "    except:\n",
    "        print(date)\n",
    "        remove_date=remove_date+[date]\n",
    "weather_date_list.remove(datetime.datetime(2018,2,27).date())\n",
    "weather_date_list.remove(datetime.datetime(2018,3,23).date())\n",
    "# Remove the following 2 dates from the json weather list"
   ]
  },
  {
   "cell_type": "code",
   "execution_count": 10,
   "metadata": {
    "collapsed": true
   },
   "outputs": [],
   "source": [
    "writer=pd.ExcelWriter(\"/home/jian/Projects/Big_Lots/Weather/Q1_Weeks/BL_Weather_8weeks_5ivs_YoY_Dollar.xlsx\",engine='xlsxwriter')"
   ]
  },
  {
   "cell_type": "code",
   "execution_count": 24,
   "metadata": {},
   "outputs": [
    {
     "name": "stdout",
     "output_type": "stream",
     "text": [
      "Clear\n",
      "Snow\n",
      "Rain\n"
     ]
    }
   ],
   "source": [
    "weather_groups=['Clear','Snow','Rain']\n",
    "storage={}\n",
    "for weather in weather_groups:\n",
    "    df_sales=sales_Q1_Dollar.copy()\n",
    "\n",
    "\n",
    "    for date in weather_date_list:\n",
    "        df=pd.DataFrame(index=unique_zip)\n",
    "        df.index.name = 'zip_cd'\n",
    "        date_str=str(date)\n",
    "        df[weather+\"_\"+date_str]=0\n",
    "        response=json.load(open(\"/home/jian/Projects/Big_Lots/Weather/Json_data/daily/api_response_\"+today_foloder+\"/\"+date_str+\".json\",'r'))\n",
    "\n",
    "        for zip_cd in list(response.keys()):\n",
    "            if zip_cd in unique_zip:\n",
    "                for k in range(len(response[zip_cd]['weather'])):\n",
    "                    if response[zip_cd]['weather'][k]['main']==weather:\n",
    "                        df[weather+\"_\"+date_str][zip_cd]=1\n",
    "        df.reset_index(inplace=True)\n",
    "        \n",
    "        df_sales=pd.merge(df_sales,df,on=\"zip_cd\",how=\"left\")\n",
    "\n",
    "    df=df_sales\n",
    "    \n",
    "    df_columns=[\"location_id\",\"zip_cd\"]\n",
    "    for week_end_date in Week_End_Date_List:\n",
    "        week_list=[]\n",
    "        for i in range(7):\n",
    "            weather_date=week_end_date-datetime.timedelta(days=(6-i))\n",
    "            if weather_date in weather_date_list:\n",
    "                col=weather+\"_\"+str(weather_date)\n",
    "                week_list=week_list+[col]\n",
    "        week_list=week_list+[\"YoY_Dollar_\"+str(week_end_date)]\n",
    "        df_columns=df_columns+week_list\n",
    "    df=df[df_columns]\n",
    "    storage.update({weather:df})\n",
    "    df.to_excel(writer,weather,index=False)\n",
    "    print(weather)"
   ]
  },
  {
   "cell_type": "code",
   "execution_count": 12,
   "metadata": {
    "collapsed": true
   },
   "outputs": [],
   "source": [
    "df_temp=sales_Q1_Dollar.copy()\n",
    "for date in weather_date_list:\n",
    "    date_str=str(date)\n",
    "    df=pd.DataFrame(index=unique_zip)\n",
    "    df.index.name = 'zip_cd'\n",
    "    \n",
    "    df[\"Temp_max_\"+date_str]=np.nan\n",
    "    response=json.load(open(\"/home/jian/Projects/Big_Lots/Weather/Json_data/daily/api_response_\"+today_foloder+\"/\"+date_str+\".json\",'r'))\n",
    "    for zip_cd in list(response.keys()):\n",
    "        if zip_cd in unique_zip:\n",
    "            temp_max=response[zip_cd]['main']['temp_max'] * 9/5 - 459.67\n",
    "            df[\"Temp_max_\"+date_str][zip_cd]=temp_max\n",
    "    df.reset_index(inplace=True)\n",
    "\n",
    "    df_temp=pd.merge(df_temp,df,on=\"zip_cd\",how=\"left\")\n",
    "\n",
    "df_columns=[\"location_id\",\"zip_cd\"]\n",
    "for week_end_date in Week_End_Date_List:\n",
    "    week_list=[]\n",
    "    for i in range(7):\n",
    "        weather_date=week_end_date-datetime.timedelta(days=(6-i))\n",
    "        if weather_date in weather_date_list:\n",
    "            col=\"Temp_max_\"+str(weather_date)\n",
    "            week_list=week_list+[col]\n",
    "    week_list=week_list+[\"YoY_Dollar_\"+str(week_end_date)]\n",
    "    df_columns=df_columns+week_list\n",
    "df_columns=[col.rstrip('\\r\\n') for col in df_columns]\n",
    "df_temp=df_temp[df_columns]\n",
    "storage.update({\"Temp_max\":df_temp})\n",
    "df_temp.to_excel(writer,\"Temp_max\",index=False)\n"
   ]
  },
  {
   "cell_type": "code",
   "execution_count": 13,
   "metadata": {
    "collapsed": true
   },
   "outputs": [],
   "source": [
    "df_wind=sales_Q1_Dollar.copy()\n",
    "for date in weather_date_list:\n",
    "    date_str=str(date)\n",
    "    df=pd.DataFrame(index=unique_zip)\n",
    "    df.index.name = 'zip_cd'\n",
    "    \n",
    "    df[\"Wind_speed_\"+date_str]=np.nan\n",
    "    response=json.load(open(\"/home/jian/Projects/Big_Lots/Weather/Json_data/daily/api_response_\"+today_foloder+\"/\"+date_str+\".json\",'r'))\n",
    "    for zip_cd in list(response.keys()):\n",
    "        if zip_cd in unique_zip:\n",
    "            wind_speed=response[zip_cd]['wind']['speed']\n",
    "            df[\"Wind_speed_\"+date_str][zip_cd]=float(wind_speed)\n",
    "    df.reset_index(inplace=True)\n",
    "\n",
    "    df_wind=pd.merge(df_wind,df,on=\"zip_cd\",how=\"left\")\n",
    "\n",
    "df_columns=[\"location_id\",\"zip_cd\"]\n",
    "for week_end_date in Week_End_Date_List:\n",
    "    week_list=[]\n",
    "    for i in range(7):\n",
    "        weather_date=week_end_date-datetime.timedelta(days=(6-i))\n",
    "        if weather_date in weather_date_list:\n",
    "            col=\"Wind_speed_\"+str(weather_date)\n",
    "            week_list=week_list+[col]\n",
    "    week_list=week_list+[\"YoY_Dollar_\"+str(week_end_date)]\n",
    "    df_columns=df_columns+week_list\n",
    "\n",
    "df_wind=df_wind[df_columns]\n",
    "storage.update({\"Wind_speed\":df_wind})\n",
    "df_wind.to_excel(writer,\"Wind_speed\",index=False)\n"
   ]
  },
  {
   "cell_type": "code",
   "execution_count": 14,
   "metadata": {
    "collapsed": true
   },
   "outputs": [],
   "source": [
    "writer.save()"
   ]
  },
  {
   "cell_type": "code",
   "execution_count": 15,
   "metadata": {
    "collapsed": true
   },
   "outputs": [],
   "source": [
    "writer=pd.ExcelWriter(\"/home/jian/Projects/Big_Lots/Weather/Q1_Weeks/BL_Weather_8weeks_5ivs_YoY_Pctg.xlsx\",engine='xlsxwriter')"
   ]
  },
  {
   "cell_type": "code",
   "execution_count": 16,
   "metadata": {},
   "outputs": [
    {
     "data": {
      "text/html": [
       "<div>\n",
       "<style>\n",
       "    .dataframe thead tr:only-child th {\n",
       "        text-align: right;\n",
       "    }\n",
       "\n",
       "    .dataframe thead th {\n",
       "        text-align: left;\n",
       "    }\n",
       "\n",
       "    .dataframe tbody tr th {\n",
       "        vertical-align: top;\n",
       "    }\n",
       "</style>\n",
       "<table border=\"1\" class=\"dataframe\">\n",
       "  <thead>\n",
       "    <tr style=\"text-align: right;\">\n",
       "      <th></th>\n",
       "      <th>location_id</th>\n",
       "      <th>zip_cd</th>\n",
       "      <th>YoY_Pctg_2018-02-17</th>\n",
       "      <th>YoY_Pctg_2018-02-24</th>\n",
       "      <th>YoY_Pctg_2018-03-03</th>\n",
       "      <th>YoY_Pctg_2018-03-10</th>\n",
       "      <th>YoY_Pctg_2018-03-17</th>\n",
       "      <th>YoY_Pctg_2018-03-24</th>\n",
       "      <th>YoY_Pctg_2018-03-31</th>\n",
       "      <th>YoY_Pctg_2018-04-07</th>\n",
       "    </tr>\n",
       "  </thead>\n",
       "  <tbody>\n",
       "    <tr>\n",
       "      <th>0</th>\n",
       "      <td>1493</td>\n",
       "      <td>01060</td>\n",
       "      <td>0.178844</td>\n",
       "      <td>-0.139636</td>\n",
       "      <td>-0.007172</td>\n",
       "      <td>0.123759</td>\n",
       "      <td>0.124528</td>\n",
       "      <td>0.139659</td>\n",
       "      <td>0.275595</td>\n",
       "      <td>-0.104765</td>\n",
       "    </tr>\n",
       "    <tr>\n",
       "      <th>1</th>\n",
       "      <td>1863</td>\n",
       "      <td>01089</td>\n",
       "      <td>0.050643</td>\n",
       "      <td>-0.253947</td>\n",
       "      <td>-0.169881</td>\n",
       "      <td>0.129053</td>\n",
       "      <td>0.089379</td>\n",
       "      <td>0.046839</td>\n",
       "      <td>-0.001417</td>\n",
       "      <td>-0.152419</td>\n",
       "    </tr>\n",
       "  </tbody>\n",
       "</table>\n",
       "</div>"
      ],
      "text/plain": [
       "   location_id zip_cd  YoY_Pctg_2018-02-17  YoY_Pctg_2018-02-24  \\\n",
       "0         1493  01060             0.178844            -0.139636   \n",
       "1         1863  01089             0.050643            -0.253947   \n",
       "\n",
       "   YoY_Pctg_2018-03-03  YoY_Pctg_2018-03-10  YoY_Pctg_2018-03-17  \\\n",
       "0            -0.007172             0.123759             0.124528   \n",
       "1            -0.169881             0.129053             0.089379   \n",
       "\n",
       "   YoY_Pctg_2018-03-24  YoY_Pctg_2018-03-31  YoY_Pctg_2018-04-07  \n",
       "0             0.139659             0.275595            -0.104765  \n",
       "1             0.046839            -0.001417            -0.152419  "
      ]
     },
     "execution_count": 16,
     "metadata": {},
     "output_type": "execute_result"
    }
   ],
   "source": [
    "sales_Q1_Pctg.head(2)"
   ]
  },
  {
   "cell_type": "code",
   "execution_count": 17,
   "metadata": {},
   "outputs": [
    {
     "name": "stdout",
     "output_type": "stream",
     "text": [
      "Clear\n",
      "Snow\n",
      "Rain\n"
     ]
    }
   ],
   "source": [
    "weather_groups=['Clear','Snow','Rain']\n",
    "storage={}\n",
    "for weather in weather_groups:\n",
    "    df_sales=sales_Q1_Pctg.copy()\n",
    "\n",
    "\n",
    "    for date in weather_date_list:\n",
    "        df=pd.DataFrame(index=unique_zip)\n",
    "        df.index.name = 'zip_cd'\n",
    "        date_str=str(date)\n",
    "        df[weather+\"_\"+date_str]=0\n",
    "        response=json.load(open(\"/home/jian/Projects/Big_Lots/Weather/Json_data/daily/api_response_\"+today_foloder+\"/\"+date_str+\".json\",'r'))\n",
    "\n",
    "        for zip_cd in list(response.keys()):\n",
    "            if zip_cd in unique_zip:\n",
    "                for k in range(len(response[zip_cd]['weather'])):\n",
    "                    if response[zip_cd]['weather'][k]['main']==weather:\n",
    "                        df[weather+\"_\"+date_str][zip_cd]=1\n",
    "        df.reset_index(inplace=True)\n",
    "        \n",
    "        df_sales=pd.merge(df_sales,df,on=\"zip_cd\",how=\"left\")\n",
    "\n",
    "    df=df_sales\n",
    "    \n",
    "    df_columns=[\"location_id\",\"zip_cd\"]\n",
    "    for week_end_date in Week_End_Date_List:\n",
    "        week_list=[]\n",
    "        for i in range(7):\n",
    "            weather_date=week_end_date-datetime.timedelta(days=(6-i))\n",
    "            if weather_date in weather_date_list:\n",
    "                col=weather+\"_\"+str(weather_date)\n",
    "                week_list=week_list+[col]\n",
    "        week_list=week_list+[\"YoY_Pctg_\"+str(week_end_date)]\n",
    "        df_columns=df_columns+week_list\n",
    "    df=df[df_columns]\n",
    "    storage.update({weather:df})\n",
    "    df.to_excel(writer,weather,index=False)\n",
    "    print(weather)"
   ]
  },
  {
   "cell_type": "code",
   "execution_count": 18,
   "metadata": {
    "collapsed": true
   },
   "outputs": [],
   "source": [
    "df_temp=sales_Q1_Pctg.copy()\n",
    "for date in weather_date_list:\n",
    "    date_str=str(date)\n",
    "    df=pd.DataFrame(index=unique_zip)\n",
    "    df.index.name = 'zip_cd'\n",
    "    \n",
    "    df[\"Temp_max_\"+date_str]=np.nan\n",
    "    response=json.load(open(\"/home/jian/Projects/Big_Lots/Weather/Json_data/daily/api_response_\"+today_foloder+\"/\"+date_str+\".json\",'r'))\n",
    "    for zip_cd in list(response.keys()):\n",
    "        if zip_cd in unique_zip:\n",
    "            temp_max=response[zip_cd]['main']['temp_max'] * 9/5 - 459.67\n",
    "            df[\"Temp_max_\"+date_str][zip_cd]=temp_max\n",
    "    df.reset_index(inplace=True)\n",
    "\n",
    "    df_temp=pd.merge(df_temp,df,on=\"zip_cd\",how=\"left\")\n",
    "\n",
    "df_columns=[\"location_id\",\"zip_cd\"]\n",
    "for week_end_date in Week_End_Date_List:\n",
    "    week_list=[]\n",
    "    for i in range(7):\n",
    "        weather_date=week_end_date-datetime.timedelta(days=(6-i))\n",
    "        if weather_date in weather_date_list:\n",
    "            col=\"Temp_max_\"+str(weather_date)\n",
    "            week_list=week_list+[col]\n",
    "    week_list=week_list+[\"YoY_Pctg_\"+str(week_end_date)]\n",
    "    df_columns=df_columns+week_list\n",
    "df_columns=[col.rstrip('\\r\\n') for col in df_columns]\n",
    "df_temp=df_temp[df_columns]\n",
    "storage.update({\"Temp_max\":df_temp})\n",
    "df_temp.to_excel(writer,\"Temp_max\",index=False)\n"
   ]
  },
  {
   "cell_type": "code",
   "execution_count": 19,
   "metadata": {
    "collapsed": true
   },
   "outputs": [],
   "source": [
    "df_wind=sales_Q1_Pctg.copy()\n",
    "for date in weather_date_list:\n",
    "    date_str=str(date)\n",
    "    df=pd.DataFrame(index=unique_zip)\n",
    "    df.index.name = 'zip_cd'\n",
    "    \n",
    "    df[\"Wind_speed_\"+date_str]=np.nan\n",
    "    response=json.load(open(\"/home/jian/Projects/Big_Lots/Weather/Json_data/daily/api_response_\"+today_foloder+\"/\"+date_str+\".json\",'r'))\n",
    "    for zip_cd in list(response.keys()):\n",
    "        if zip_cd in unique_zip:\n",
    "            wind_speed=response[zip_cd]['wind']['speed']\n",
    "            df[\"Wind_speed_\"+date_str][zip_cd]=float(wind_speed)\n",
    "    df.reset_index(inplace=True)\n",
    "\n",
    "    df_wind=pd.merge(df_wind,df,on=\"zip_cd\",how=\"left\")\n",
    "\n",
    "df_columns=[\"location_id\",\"zip_cd\"]\n",
    "for week_end_date in Week_End_Date_List:\n",
    "    week_list=[]\n",
    "    for i in range(7):\n",
    "        weather_date=week_end_date-datetime.timedelta(days=(6-i))\n",
    "        if weather_date in weather_date_list:\n",
    "            col=\"Wind_speed_\"+str(weather_date)\n",
    "            week_list=week_list+[col]\n",
    "    week_list=week_list+[\"YoY_Pctg_\"+str(week_end_date)]\n",
    "    df_columns=df_columns+week_list\n",
    "\n",
    "df_wind=df_wind[df_columns]\n",
    "storage.update({\"Wind_speed\":df_wind})\n",
    "df_wind.to_excel(writer,\"Wind_speed\",index=False)\n"
   ]
  },
  {
   "cell_type": "code",
   "execution_count": 20,
   "metadata": {
    "collapsed": true
   },
   "outputs": [],
   "source": [
    "writer.save()"
   ]
  },
  {
   "cell_type": "code",
   "execution_count": 37,
   "metadata": {
    "collapsed": true
   },
   "outputs": [],
   "source": [
    "response=json.load(open(\"/home/jian/Projects/Big_Lots/Weather/Json_data/daily/api_response_\"+today_foloder+\"/\"+\"2018-02-11\"+\".json\",'r'))"
   ]
  },
  {
   "cell_type": "code",
   "execution_count": null,
   "metadata": {
    "collapsed": true
   },
   "outputs": [],
   "source": []
  }
 ],
 "metadata": {
  "kernelspec": {
   "display_name": "Python 3",
   "language": "python",
   "name": "python3"
  },
  "language_info": {
   "codemirror_mode": {
    "name": "ipython",
    "version": 3
   },
   "file_extension": ".py",
   "mimetype": "text/x-python",
   "name": "python",
   "nbconvert_exporter": "python",
   "pygments_lexer": "ipython3",
   "version": "3.6.1"
  }
 },
 "nbformat": 4,
 "nbformat_minor": 2
}
