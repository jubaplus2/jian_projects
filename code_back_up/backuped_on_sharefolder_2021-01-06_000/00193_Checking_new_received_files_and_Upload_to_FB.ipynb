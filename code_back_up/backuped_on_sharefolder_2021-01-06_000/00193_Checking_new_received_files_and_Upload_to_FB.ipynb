{
 "cells": [
  {
   "cell_type": "code",
   "execution_count": 1,
   "metadata": {},
   "outputs": [],
   "source": [
    "from facebookads.adobjects.customaudience import CustomAudience\n",
    "from facebookads.adobjects.adaccount import AdAccount\n",
    "from facebookads.api import FacebookAdsApi\n",
    "import json\n",
    "import pandas as pd\n",
    "import os\n",
    "import datetime\n",
    "import numpy as np\n",
    "import glob\n",
    "import time\n",
    "import paramiko\n",
    "\n",
    "BigLotsAccount_id=\"act_271491453638620\"\n",
    "BigLotsDcart10_id=\"act_2449979771956630\"\n",
    "\n",
    "list_account_id=[BigLotsAccount_id,BigLotsDcart10_id]\n",
    "# jian_APP_ID=\"2537704939796694\"# jian's fb marketing app id\n",
    "jian_token=json.load(open(\"/mnt/clients/juba/hqjubaapp02/sharefolder/Docs/FB_token/lasest_FB_token_jian.json\",\"r\"))['latest_FB_token']\n",
    "\n"
   ]
  },
  {
   "cell_type": "code",
   "execution_count": 2,
   "metadata": {},
   "outputs": [],
   "source": [
    "def recursive_file_gen(root_path):\n",
    "    for root, dirs, files in os.walk(root_path):\n",
    "        for file in files:\n",
    "            yield os.path.join(root,file)"
   ]
  },
  {
   "cell_type": "code",
   "execution_count": 3,
   "metadata": {},
   "outputs": [
    {
     "data": {
      "text/plain": [
       "['./DeltaFiles/File_20201125/Near_Lapsing_Delta__20201125080541.csv',\n",
       " './DeltaFiles/File_20201125/Reactivation_Redeemers__20201125082106.csv',\n",
       " './DeltaFiles/File_20201125/13_Month_Lapsed_Delta__20201125080533.csv',\n",
       " './DeltaFiles/File_20201125/Signup_NoPurchase_Delta__20201125080540.csv',\n",
       " './DeltaFiles/File_20201209/Near_Lapsing_Delta__20201209080443.csv',\n",
       " './DeltaFiles/File_20201209/Reactivation_Redeemers__20201209082351.csv',\n",
       " './DeltaFiles/File_20201209/13_Month_Lapsed_Delta__20201209080749.csv',\n",
       " './DeltaFiles/File_20201209/Signup_NoPurchase_Delta__20201209080747.csv',\n",
       " './DeltaFiles/File_20201223/Near_Lapsing_Delta__20201223080702.csv',\n",
       " './DeltaFiles/File_20201223/13_Month_Lapsed_Delta__20201223080705.csv',\n",
       " './DeltaFiles/File_20201223/Reactivation_Redeemers__20201223082349.csv',\n",
       " './DeltaFiles/File_20201223/Signup_NoPurchase_Delta__20201223080705.csv',\n",
       " './DeltaFiles/File_20201216/Near_Lapsing_Delta__20201216080348.csv',\n",
       " './DeltaFiles/File_20201216/Reactivation_Redeemers__20201216082125.csv',\n",
       " './DeltaFiles/File_20201216/Signup_NoPurchase_Delta__20201216080431.csv',\n",
       " './DeltaFiles/File_20201216/13_Month_Lapsed_Delta__20201216080516.csv',\n",
       " './DeltaFiles/File_20201230/Near_Lapsing_Delta__20201230080443.csv',\n",
       " './DeltaFiles/File_20201230/Signup_NoPurchase_Delta__20201230080520.csv',\n",
       " './DeltaFiles/File_20201230/Reactivation_Redeemers__20201230081856.csv',\n",
       " './DeltaFiles/File_20201230/13_Month_Lapsed_Delta__20201230080522.csv',\n",
       " './DeltaFiles/File_20201202/Near_Lapsing_Delta__20201202080444.csv',\n",
       " './DeltaFiles/File_20201202/Signup_NoPurchase_Delta__20201202080407.csv',\n",
       " './DeltaFiles/File_20201202/13_Month_Lapsed_Delta__20201202080404.csv',\n",
       " './DeltaFiles/File_20201202/Reactivation_Redeemers__20201202081559.csv',\n",
       " './DeltaFiles/File_20201119/Signup_NoPurchase_Delta__20201119021251.csv',\n",
       " './DeltaFiles/File_20201119/Reactivation_Redeemers__20201119031841.csv',\n",
       " './DeltaFiles/File_20201119/13_Month_Lapsed_Delta__20201119021501.csv',\n",
       " './DeltaFiles/File_20201119/Near_Lapsing_Delta__20201119021243.csv']"
      ]
     },
     "execution_count": 3,
     "metadata": {},
     "output_type": "execute_result"
    }
   ],
   "source": [
    "list_already_copied_deltas=list(recursive_file_gen(\"./DeltaFiles/\"))\n",
    "list_already_copied_deltas"
   ]
  },
  {
   "cell_type": "code",
   "execution_count": 4,
   "metadata": {},
   "outputs": [],
   "source": [
    "remote_data_path_client=\"/home/agilone/\"\n",
    "\n",
    "host = \"107.191.32.220\" #hard-coded\n",
    "port = 22\n",
    "transport = paramiko.Transport((host, port))\n",
    "\n",
    "password = \"Tur87ZqzF9xV5mYF\" #hard-coded\n",
    "username = \"agilone\" #hard-coded\n",
    "transport.connect(username = username, password = password)\n",
    "sftp = paramiko.SFTPClient.from_transport(transport)\n"
   ]
  },
  {
   "cell_type": "code",
   "execution_count": 5,
   "metadata": {},
   "outputs": [
    {
     "data": {
      "text/plain": [
       "['Signup_NoPurchase_Delta__20210106080650.csv',\n",
       " '13_Month_Lapsed_Delta__20210106080645.csv',\n",
       " 'Reactivation_Redeemers__20210106082111.csv',\n",
       " 'Near_Lapsing_Delta__20210106080652.csv']"
      ]
     },
     "execution_count": 5,
     "metadata": {},
     "output_type": "execute_result"
    }
   ],
   "source": [
    "list_remote_new_delta_file=sftp.listdir()\n",
    "\n",
    "list_remote_new_delta_file=[x for x in list_remote_new_delta_file if \"_Delta_\" in x or \"Reactivation_Redeem\" in x]\n",
    "list_remote_new_delta_file=[x for x in list_remote_new_delta_file if \"subscrib\" not in x.lower()]\n",
    "list_remote_new_delta_file"
   ]
  },
  {
   "cell_type": "code",
   "execution_count": 6,
   "metadata": {},
   "outputs": [
    {
     "name": "stdout",
     "output_type": "stream",
     "text": [
      "20210106\n"
     ]
    }
   ],
   "source": [
    "date=set([x.split(\"__\")[1][:8] for x in list_remote_new_delta_file])\n",
    "if len(date)==1:\n",
    "    date=list(date)[0]\n",
    "else:\n",
    "    raise ValueError(\"multiple dates\")\n",
    "print(date)"
   ]
  },
  {
   "cell_type": "code",
   "execution_count": 7,
   "metadata": {},
   "outputs": [],
   "source": [
    "local_folder_new_files_delta=\"./DeltaFiles/File_%s/\"%date\n",
    "remote_movein_folder=\"/home/agilone/audience_10_off_20/delta/\"\n",
    "\n",
    "try:\n",
    "    os.stat(local_folder_new_files_delta)\n",
    "except:\n",
    "    os.mkdir(local_folder_new_files_delta)\n",
    "\n",
    "\n",
    "if len(list_remote_new_delta_file)==4:\n",
    "    for file in list_remote_new_delta_file:\n",
    "        local_file=local_folder_new_files_delta+os.path.basename(file)\n",
    "        sftp.get(file,local_file)\n",
    "        sftp.rename(file, remote_movein_folder+os.path.basename(file))      \n",
    "else:\n",
    "    raise ValueError(\"new received files not 4\")"
   ]
  },
  {
   "cell_type": "code",
   "execution_count": 8,
   "metadata": {},
   "outputs": [
    {
     "name": "stdout",
     "output_type": "stream",
     "text": [
      "(10472244, 5)\n"
     ]
    },
    {
     "name": "stderr",
     "output_type": "stream",
     "text": [
      "/opt/anaconda3/lib/python3.7/site-packages/ipykernel_launcher.py:10: FutureWarning: Indexing with multiple keys (implicitly converted to a tuple of keys) will be deprecated, use a list instead.\n",
      "  # Remove the CWD from sys.path while we load stuff.\n"
     ]
    },
    {
     "data": {
      "text/html": [
       "<div>\n",
       "<style scoped>\n",
       "    .dataframe tbody tr th:only-of-type {\n",
       "        vertical-align: middle;\n",
       "    }\n",
       "\n",
       "    .dataframe tbody tr th {\n",
       "        vertical-align: top;\n",
       "    }\n",
       "\n",
       "    .dataframe thead th {\n",
       "        text-align: right;\n",
       "    }\n",
       "</style>\n",
       "<table border=\"1\" class=\"dataframe\">\n",
       "  <thead>\n",
       "    <tr style=\"text-align: right;\">\n",
       "      <th></th>\n",
       "      <th>segment</th>\n",
       "      <th>customersummary_mastercustomerid</th>\n",
       "      <th>customersummary_emailhash</th>\n",
       "      <th>customersummary_c_primaryscnhash</th>\n",
       "    </tr>\n",
       "  </thead>\n",
       "  <tbody>\n",
       "    <tr>\n",
       "      <th>0</th>\n",
       "      <td>10-12 Month About to Lapse MS A_20201102075436</td>\n",
       "      <td>2405635</td>\n",
       "      <td>2405575</td>\n",
       "      <td>2405635</td>\n",
       "    </tr>\n",
       "    <tr>\n",
       "      <th>1</th>\n",
       "      <td>10-12 Month About to Lapse MS B_20201102075837</td>\n",
       "      <td>223906</td>\n",
       "      <td>223906</td>\n",
       "      <td>223906</td>\n",
       "    </tr>\n",
       "    <tr>\n",
       "      <th>2</th>\n",
       "      <td>13-18 Month Lapsed MS A_20201102073523</td>\n",
       "      <td>3541148</td>\n",
       "      <td>3541019</td>\n",
       "      <td>3541148</td>\n",
       "    </tr>\n",
       "    <tr>\n",
       "      <th>3</th>\n",
       "      <td>13-18 Month Lapsed MS B_20201102073920</td>\n",
       "      <td>341226</td>\n",
       "      <td>341224</td>\n",
       "      <td>341226</td>\n",
       "    </tr>\n",
       "    <tr>\n",
       "      <th>4</th>\n",
       "      <td>Online Signup MS A_20201102074635</td>\n",
       "      <td>3600659</td>\n",
       "      <td>3600595</td>\n",
       "      <td>3600659</td>\n",
       "    </tr>\n",
       "    <tr>\n",
       "      <th>5</th>\n",
       "      <td>Online Signup MS B_20201102074942</td>\n",
       "      <td>359670</td>\n",
       "      <td>359666</td>\n",
       "      <td>359670</td>\n",
       "    </tr>\n",
       "  </tbody>\n",
       "</table>\n",
       "</div>"
      ],
      "text/plain": [
       "                                          segment  \\\n",
       "0  10-12 Month About to Lapse MS A_20201102075436   \n",
       "1  10-12 Month About to Lapse MS B_20201102075837   \n",
       "2          13-18 Month Lapsed MS A_20201102073523   \n",
       "3          13-18 Month Lapsed MS B_20201102073920   \n",
       "4               Online Signup MS A_20201102074635   \n",
       "5               Online Signup MS B_20201102074942   \n",
       "\n",
       "   customersummary_mastercustomerid  customersummary_emailhash  \\\n",
       "0                           2405635                    2405575   \n",
       "1                            223906                     223906   \n",
       "2                           3541148                    3541019   \n",
       "3                            341226                     341224   \n",
       "4                           3600659                    3600595   \n",
       "5                            359670                     359666   \n",
       "\n",
       "   customersummary_c_primaryscnhash  \n",
       "0                           2405635  \n",
       "1                            223906  \n",
       "2                           3541148  \n",
       "3                            341226  \n",
       "4                           3600659  \n",
       "5                            359670  "
      ]
     },
     "execution_count": 8,
     "metadata": {},
     "output_type": "execute_result"
    }
   ],
   "source": [
    "list_files_initial_test=glob.glob(\"./InitialFiles/*.csv\")\n",
    "list_files_initial_test=[x for x in list_files_initial_test if \"A_\" in os.path.basename(x) or \"B_\" in os.path.basename(x)]\n",
    "list_files_initial_test.sort()\n",
    "df_initial_test=pd.DataFrame()\n",
    "for file in list_files_initial_test:\n",
    "    df=pd.read_csv(file,dtype=str)\n",
    "    df['segment']=os.path.basename(file).split(\".\")[0]\n",
    "    df_initial_test=df_initial_test.append(df)\n",
    "print(df_initial_test.shape)\n",
    "df_initial_test.groupby('segment')['customersummary_mastercustomerid','customersummary_emailhash','customersummary_c_primaryscnhash'].nunique().reset_index()"
   ]
  },
  {
   "cell_type": "code",
   "execution_count": 9,
   "metadata": {},
   "outputs": [
    {
     "data": {
      "text/html": [
       "<div>\n",
       "<style scoped>\n",
       "    .dataframe tbody tr th:only-of-type {\n",
       "        vertical-align: middle;\n",
       "    }\n",
       "\n",
       "    .dataframe tbody tr th {\n",
       "        vertical-align: top;\n",
       "    }\n",
       "\n",
       "    .dataframe thead th {\n",
       "        text-align: right;\n",
       "    }\n",
       "</style>\n",
       "<table border=\"1\" class=\"dataframe\">\n",
       "  <thead>\n",
       "    <tr style=\"text-align: right;\">\n",
       "      <th></th>\n",
       "      <th>customersummary_mastercustomerid</th>\n",
       "      <th>customersummary_emailhash</th>\n",
       "      <th>customersummary_c_primaryscnhash</th>\n",
       "      <th>execution_id</th>\n",
       "      <th>segment</th>\n",
       "    </tr>\n",
       "  </thead>\n",
       "  <tbody>\n",
       "    <tr>\n",
       "      <th>0</th>\n",
       "      <td>KFK_0_58796144</td>\n",
       "      <td>25abf112b00caffcbd9aef32d66bd67a80b853ce039dcb...</td>\n",
       "      <td>068b3d7bc1f50214e5f0a6e05b8565359687334cddbcf2...</td>\n",
       "      <td>1604346769164</td>\n",
       "      <td>10-12 Month About to Lapse MS A_20201102075436</td>\n",
       "    </tr>\n",
       "    <tr>\n",
       "      <th>1</th>\n",
       "      <td>KFK_0_10898437</td>\n",
       "      <td>976d2bcdbab584263442ea5cc4fb28c0d318f13a4be6b4...</td>\n",
       "      <td>af002365ba37f81669d9db9b61b2f6c5a2f6e3bf4f2bbc...</td>\n",
       "      <td>1604346769164</td>\n",
       "      <td>10-12 Month About to Lapse MS A_20201102075436</td>\n",
       "    </tr>\n",
       "  </tbody>\n",
       "</table>\n",
       "</div>"
      ],
      "text/plain": [
       "  customersummary_mastercustomerid  \\\n",
       "0                   KFK_0_58796144   \n",
       "1                   KFK_0_10898437   \n",
       "\n",
       "                           customersummary_emailhash  \\\n",
       "0  25abf112b00caffcbd9aef32d66bd67a80b853ce039dcb...   \n",
       "1  976d2bcdbab584263442ea5cc4fb28c0d318f13a4be6b4...   \n",
       "\n",
       "                    customersummary_c_primaryscnhash   execution_id  \\\n",
       "0  068b3d7bc1f50214e5f0a6e05b8565359687334cddbcf2...  1604346769164   \n",
       "1  af002365ba37f81669d9db9b61b2f6c5a2f6e3bf4f2bbc...  1604346769164   \n",
       "\n",
       "                                          segment  \n",
       "0  10-12 Month About to Lapse MS A_20201102075436  \n",
       "1  10-12 Month About to Lapse MS A_20201102075436  "
      ]
     },
     "execution_count": 9,
     "metadata": {},
     "output_type": "execute_result"
    }
   ],
   "source": [
    "df_initial_test.head(2)"
   ]
  },
  {
   "cell_type": "code",
   "execution_count": 10,
   "metadata": {},
   "outputs": [
    {
     "data": {
      "text/plain": [
       "((411109, 4), 78142, 78118, 78118)"
      ]
     },
     "execution_count": 10,
     "metadata": {},
     "output_type": "execute_result"
    }
   ],
   "source": [
    "all_redeemers=list(recursive_file_gen(\"./DeltaFiles/\"))\n",
    "all_redeemers=[x for x in all_redeemers if \"Redeemers\" in x]\n",
    "df_redeemers=pd.DataFrame()\n",
    "\n",
    "for file in all_redeemers:\n",
    "    df=pd.read_csv(file,dtype=str).drop_duplicates()\n",
    "    df_redeemers=df_redeemers.append(df)\n",
    "df_redeemers.shape,df_redeemers['customersummary_emailhash'].nunique(),df_redeemers['customersummary_c_primaryscnhash'].nunique(),df_redeemers['customersummary_c_primaryscnhash'].nunique()\n",
    "  "
   ]
  },
  {
   "cell_type": "code",
   "execution_count": 11,
   "metadata": {},
   "outputs": [
    {
     "data": {
      "text/plain": [
       "((79776, 3), 78142, 78118, 78118)"
      ]
     },
     "execution_count": 11,
     "metadata": {},
     "output_type": "execute_result"
    }
   ],
   "source": [
    "del df_redeemers['execution_id']\n",
    "df_redeemers=df_redeemers.drop_duplicates()\n",
    "df_redeemers.shape,df_redeemers['customersummary_emailhash'].nunique(),df_redeemers['customersummary_c_primaryscnhash'].nunique(),df_redeemers['customersummary_c_primaryscnhash'].nunique()\n"
   ]
  },
  {
   "cell_type": "code",
   "execution_count": 12,
   "metadata": {},
   "outputs": [
    {
     "data": {
      "text/html": [
       "<div>\n",
       "<style scoped>\n",
       "    .dataframe tbody tr th:only-of-type {\n",
       "        vertical-align: middle;\n",
       "    }\n",
       "\n",
       "    .dataframe tbody tr th {\n",
       "        vertical-align: top;\n",
       "    }\n",
       "\n",
       "    .dataframe thead th {\n",
       "        text-align: right;\n",
       "    }\n",
       "</style>\n",
       "<table border=\"1\" class=\"dataframe\">\n",
       "  <thead>\n",
       "    <tr style=\"text-align: right;\">\n",
       "      <th></th>\n",
       "      <th>customersummary_mastercustomerid</th>\n",
       "      <th>customersummary_emailhash</th>\n",
       "      <th>customersummary_c_primaryscnhash</th>\n",
       "      <th>execution_id</th>\n",
       "      <th>segment</th>\n",
       "      <th>recent_redeem_status</th>\n",
       "    </tr>\n",
       "  </thead>\n",
       "  <tbody>\n",
       "    <tr>\n",
       "      <th>0</th>\n",
       "      <td>KFK_0_58796144</td>\n",
       "      <td>25abf112b00caffcbd9aef32d66bd67a80b853ce039dcb...</td>\n",
       "      <td>068b3d7bc1f50214e5f0a6e05b8565359687334cddbcf2...</td>\n",
       "      <td>1604346769164</td>\n",
       "      <td>10-12 Month About to Lapse MS A_20201102075436</td>\n",
       "      <td>no_redeemed_yet</td>\n",
       "    </tr>\n",
       "    <tr>\n",
       "      <th>1</th>\n",
       "      <td>KFK_0_10898437</td>\n",
       "      <td>976d2bcdbab584263442ea5cc4fb28c0d318f13a4be6b4...</td>\n",
       "      <td>af002365ba37f81669d9db9b61b2f6c5a2f6e3bf4f2bbc...</td>\n",
       "      <td>1604346769164</td>\n",
       "      <td>10-12 Month About to Lapse MS A_20201102075436</td>\n",
       "      <td>no_redeemed_yet</td>\n",
       "    </tr>\n",
       "  </tbody>\n",
       "</table>\n",
       "</div>"
      ],
      "text/plain": [
       "  customersummary_mastercustomerid  \\\n",
       "0                   KFK_0_58796144   \n",
       "1                   KFK_0_10898437   \n",
       "\n",
       "                           customersummary_emailhash  \\\n",
       "0  25abf112b00caffcbd9aef32d66bd67a80b853ce039dcb...   \n",
       "1  976d2bcdbab584263442ea5cc4fb28c0d318f13a4be6b4...   \n",
       "\n",
       "                    customersummary_c_primaryscnhash   execution_id  \\\n",
       "0  068b3d7bc1f50214e5f0a6e05b8565359687334cddbcf2...  1604346769164   \n",
       "1  af002365ba37f81669d9db9b61b2f6c5a2f6e3bf4f2bbc...  1604346769164   \n",
       "\n",
       "                                          segment recent_redeem_status  \n",
       "0  10-12 Month About to Lapse MS A_20201102075436      no_redeemed_yet  \n",
       "1  10-12 Month About to Lapse MS A_20201102075436      no_redeemed_yet  "
      ]
     },
     "execution_count": 12,
     "metadata": {},
     "output_type": "execute_result"
    }
   ],
   "source": [
    "df_initial_test['recent_redeem_status']=np.where(df_initial_test['customersummary_mastercustomerid'].isin(df_redeemers['customersummary_mastercustomerid'].tolist()),\"redeemers\",\n",
    "                                    np.where(df_initial_test['customersummary_emailhash'].isin(df_redeemers['customersummary_emailhash'].tolist()),\"redeemers\",\n",
    "                                             np.where(df_initial_test['customersummary_c_primaryscnhash'].isin(df_redeemers['customersummary_c_primaryscnhash'].tolist()),\"redeemers\",\n",
    "                                                      \"no_redeemed_yet\"\n",
    "                                                     )\n",
    "                                            )\n",
    "                                    )\n",
    "df_initial_test.head(2)"
   ]
  },
  {
   "cell_type": "code",
   "execution_count": 13,
   "metadata": {},
   "outputs": [
    {
     "data": {
      "text/html": [
       "<div>\n",
       "<style scoped>\n",
       "    .dataframe tbody tr th:only-of-type {\n",
       "        vertical-align: middle;\n",
       "    }\n",
       "\n",
       "    .dataframe tbody tr th {\n",
       "        vertical-align: top;\n",
       "    }\n",
       "\n",
       "    .dataframe thead th {\n",
       "        text-align: right;\n",
       "    }\n",
       "</style>\n",
       "<table border=\"1\" class=\"dataframe\">\n",
       "  <thead>\n",
       "    <tr style=\"text-align: right;\">\n",
       "      <th>recent_redeem_status</th>\n",
       "      <th>segment</th>\n",
       "      <th>no_redeemed_yet</th>\n",
       "      <th>redeemers</th>\n",
       "      <th>conv_rate</th>\n",
       "    </tr>\n",
       "  </thead>\n",
       "  <tbody>\n",
       "    <tr>\n",
       "      <th>0</th>\n",
       "      <td>10-12 Month About to Lapse MS A_20201102075436</td>\n",
       "      <td>2380293</td>\n",
       "      <td>25342</td>\n",
       "      <td>0.010534</td>\n",
       "    </tr>\n",
       "    <tr>\n",
       "      <th>1</th>\n",
       "      <td>10-12 Month About to Lapse MS B_20201102075837</td>\n",
       "      <td>223805</td>\n",
       "      <td>101</td>\n",
       "      <td>0.000451</td>\n",
       "    </tr>\n",
       "    <tr>\n",
       "      <th>2</th>\n",
       "      <td>13-18 Month Lapsed MS A_20201102073523</td>\n",
       "      <td>3524719</td>\n",
       "      <td>16429</td>\n",
       "      <td>0.004639</td>\n",
       "    </tr>\n",
       "    <tr>\n",
       "      <th>3</th>\n",
       "      <td>13-18 Month Lapsed MS B_20201102073920</td>\n",
       "      <td>341199</td>\n",
       "      <td>27</td>\n",
       "      <td>0.000079</td>\n",
       "    </tr>\n",
       "    <tr>\n",
       "      <th>4</th>\n",
       "      <td>Online Signup MS A_20201102074635</td>\n",
       "      <td>3573139</td>\n",
       "      <td>27520</td>\n",
       "      <td>0.007643</td>\n",
       "    </tr>\n",
       "    <tr>\n",
       "      <th>5</th>\n",
       "      <td>Online Signup MS B_20201102074942</td>\n",
       "      <td>357929</td>\n",
       "      <td>1741</td>\n",
       "      <td>0.004841</td>\n",
       "    </tr>\n",
       "  </tbody>\n",
       "</table>\n",
       "</div>"
      ],
      "text/plain": [
       "recent_redeem_status                                         segment  \\\n",
       "0                     10-12 Month About to Lapse MS A_20201102075436   \n",
       "1                     10-12 Month About to Lapse MS B_20201102075837   \n",
       "2                             13-18 Month Lapsed MS A_20201102073523   \n",
       "3                             13-18 Month Lapsed MS B_20201102073920   \n",
       "4                                  Online Signup MS A_20201102074635   \n",
       "5                                  Online Signup MS B_20201102074942   \n",
       "\n",
       "recent_redeem_status  no_redeemed_yet  redeemers  conv_rate  \n",
       "0                             2380293      25342   0.010534  \n",
       "1                              223805        101   0.000451  \n",
       "2                             3524719      16429   0.004639  \n",
       "3                              341199         27   0.000079  \n",
       "4                             3573139      27520   0.007643  \n",
       "5                              357929       1741   0.004841  "
      ]
     },
     "execution_count": 13,
     "metadata": {},
     "output_type": "execute_result"
    }
   ],
   "source": [
    "df_output_performance=df_initial_test.groupby([\"segment\",'recent_redeem_status'])['customersummary_mastercustomerid'].count().reset_index()\n",
    "\n",
    "df_output_performance=df_output_performance.pivot(index=\"segment\",columns=\"recent_redeem_status\",values=\"customersummary_mastercustomerid\").reset_index()\n",
    "df_output_performance['conv_rate']=df_output_performance['redeemers']/(df_output_performance['redeemers']+df_output_performance['no_redeemed_yet'])\n",
    "df_output_performance"
   ]
  },
  {
   "cell_type": "code",
   "execution_count": 14,
   "metadata": {},
   "outputs": [
    {
     "data": {
      "text/plain": [
       "71160"
      ]
     },
     "execution_count": 14,
     "metadata": {},
     "output_type": "execute_result"
    }
   ],
   "source": [
    "df_output_performance['redeemers'].sum()"
   ]
  },
  {
   "cell_type": "code",
   "execution_count": 15,
   "metadata": {},
   "outputs": [],
   "source": [
    "df_output_performance.to_csv(\"./BL_10_off_20_performance_as_initial_up_to_%s_JL_%s.csv\"%(local_folder_new_files_delta[-9:-1],str(datetime.datetime.now().date())),index=False)\n"
   ]
  },
  {
   "cell_type": "code",
   "execution_count": 16,
   "metadata": {},
   "outputs": [
    {
     "data": {
      "text/plain": [
       "[23845836194910265,\n",
       " 23846192280570632,\n",
       " 23845836216340265,\n",
       " 23846192299680632,\n",
       " 23845836247620265,\n",
       " 23846192327750632]"
      ]
     },
     "execution_count": 16,
     "metadata": {},
     "output_type": "execute_result"
    }
   ],
   "source": [
    "dict_Audience_ID={\"Near_Lapsing\":[23845836194910265,23846192280570632],\n",
    "                 '13_Month_Lapsed':[23845836216340265,23846192299680632],\n",
    "                 'Signup_NoPurchase':[23845836247620265,23846192327750632]}\n",
    "\n",
    "list_all_ids=[]\n",
    "for v in dict_Audience_ID.values():\n",
    "    list_all_ids.extend(v)\n",
    "# test A only with two FB account (general and dcart10)\n",
    "list_all_ids\n"
   ]
  },
  {
   "cell_type": "code",
   "execution_count": 17,
   "metadata": {},
   "outputs": [],
   "source": [
    "def remove_ids_from_account(token,aud_id,list_ids_to_remove,fb_schema=CustomAudience.Schema.email_hash):\n",
    "    FacebookAdsApi.init(access_token=token, api_version='v8.0')\n",
    "    audience = CustomAudience(aud_id)\n",
    "    listlen=len(list_ids_to_remove)\n",
    "    \n",
    "    chunck_size=1000\n",
    "    count_removed=0\n",
    "    for i in range(int(np.ceil(listlen/chunck_size))):\n",
    "        starti = i*chunck_size\n",
    "        if (i+1)*chunck_size<listlen:\n",
    "            endi = (i+1)*chunck_size\n",
    "        else:\n",
    "            endi = listlen\n",
    "        list0 = list_ids_to_remove[starti:endi]\n",
    "        \n",
    "        count_removed+=len(list0)\n",
    "        audience.remove_users(fb_schema, list0)\n",
    "        time.sleep(1)\n",
    "    print(\"%i IDs removed from the audience id: %i\"%(count_removed,aud_id))\n",
    "    \n",
    "def add_ids_to_account(token,aud_id,list_ids_to_add,fb_schema=CustomAudience.Schema.email_hash):\n",
    "    FacebookAdsApi.init(access_token=token, api_version='v8.0')\n",
    "    audience = CustomAudience(aud_id)\n",
    "    listlen=len(list_ids_to_add)\n",
    "    \n",
    "    chunck_size=30000\n",
    "    count_added=0\n",
    "    for i in range(int(np.ceil(listlen/chunck_size))):\n",
    "        starti = i*chunck_size\n",
    "        if (i+1)*chunck_size<listlen:\n",
    "            endi = (i+1)*chunck_size\n",
    "        else:\n",
    "            endi = listlen\n",
    "        list0 = list_ids_to_add[starti:endi]\n",
    "        \n",
    "        count_added+=len(list0)\n",
    "        audience.add_users(fb_schema, list0)\n",
    "    print(\"%i IDs added to the audience id: %i\"%(count_added,aud_id))\n",
    "    \n"
   ]
  },
  {
   "cell_type": "code",
   "execution_count": 18,
   "metadata": {},
   "outputs": [],
   "source": [
    "all_redeemers.sort()\n",
    "new_redeemer=all_redeemers[-1]\n",
    "\n",
    "df_new_redeemers=pd.read_csv(new_redeemer,usecols=[\"customersummary_emailhash\"],dtype=str)\n"
   ]
  },
  {
   "cell_type": "code",
   "execution_count": 19,
   "metadata": {},
   "outputs": [
    {
     "name": "stdout",
     "output_type": "stream",
     "text": [
      "78140 IDs removed from the audience id: 23845836194910265\n",
      "78140 IDs removed from the audience id: 23846192280570632\n",
      "78140 IDs removed from the audience id: 23845836216340265\n",
      "78140 IDs removed from the audience id: 23846192299680632\n",
      "78140 IDs removed from the audience id: 23845836247620265\n",
      "78140 IDs removed from the audience id: 23846192327750632\n"
     ]
    }
   ],
   "source": [
    "# remove all of the redeemers from each of the test ids\n",
    "\n",
    "for fb_id in list_all_ids:\n",
    "    list_emails_to_remove=df_redeemers['customersummary_emailhash'].unique().tolist()\n",
    "    list_emails_to_remove=[x for x in list_emails_to_remove if len(x)==64] #SHA256 check\n",
    "    remove_ids_from_account(token=jian_token,\n",
    "                            aud_id=fb_id,\n",
    "                            list_ids_to_remove=list_emails_to_remove,\n",
    "                            fb_schema=CustomAudience.Schema.email_hash)"
   ]
  },
  {
   "cell_type": "code",
   "execution_count": 20,
   "metadata": {},
   "outputs": [
    {
     "data": {
      "text/plain": [
       "['./DeltaFiles/File_20210106/Near_Lapsing_Delta__20210106080652.csv',\n",
       " './DeltaFiles/File_20210106/13_Month_Lapsed_Delta__20210106080645.csv',\n",
       " './DeltaFiles/File_20210106/Signup_NoPurchase_Delta__20210106080650.csv',\n",
       " './DeltaFiles/File_20210106/Reactivation_Redeemers__20210106082111.csv']"
      ]
     },
     "execution_count": 20,
     "metadata": {},
     "output_type": "execute_result"
    }
   ],
   "source": [
    "list_new_deltas=glob.glob(local_folder_new_files_delta+\"*.csv\")\n",
    "list_new_deltas"
   ]
  },
  {
   "cell_type": "code",
   "execution_count": 21,
   "metadata": {},
   "outputs": [
    {
     "name": "stdout",
     "output_type": "stream",
     "text": [
      "['./DeltaFiles/File_20210106/Near_Lapsing_Delta__20210106080652.csv']\n",
      "178465 IDs added to the audience id: 23845836194910265\n",
      "['./DeltaFiles/File_20210106/Near_Lapsing_Delta__20210106080652.csv']\n",
      "178465 IDs added to the audience id: 23846192280570632\n"
     ]
    }
   ],
   "source": [
    "# 1 Near_Lapsing\n",
    "str_pattern=\"Near_Lapsing\"\n",
    "for fb_id in dict_Audience_ID[str_pattern]:\n",
    "    file=[x for x in list_new_deltas if str_pattern in x]\n",
    "    print(file)\n",
    "    if len(file)==1:\n",
    "        list_emails_to_add=pd.read_csv(file[0],dtype=str,usecols=['customersummary_emailhash'])['customersummary_emailhash'].unique().tolist()\n",
    "        list_emails_to_add=[x for x in list_emails_to_add if len(x)==64]\n",
    "    else:\n",
    "        raise ValueError(\"multiple files from list_new_deltas for %s\"%str_pattern)\n",
    "    add_ids_to_account(token=jian_token,\n",
    "                            aud_id=fb_id,\n",
    "                            list_ids_to_add=list_emails_to_add,\n",
    "                            fb_schema=CustomAudience.Schema.email_hash)"
   ]
  },
  {
   "cell_type": "code",
   "execution_count": 22,
   "metadata": {},
   "outputs": [
    {
     "name": "stdout",
     "output_type": "stream",
     "text": [
      "['./DeltaFiles/File_20210106/13_Month_Lapsed_Delta__20210106080645.csv']\n",
      "149518 IDs added to the audience id: 23845836216340265\n",
      "['./DeltaFiles/File_20210106/13_Month_Lapsed_Delta__20210106080645.csv']\n",
      "149518 IDs added to the audience id: 23846192299680632\n"
     ]
    }
   ],
   "source": [
    "# 2 13_Month_Lapsed\n",
    "str_pattern=\"13_Month_Lapsed\"\n",
    "for fb_id in dict_Audience_ID[str_pattern]:\n",
    "    file=[x for x in list_new_deltas if str_pattern in x]\n",
    "    print(file)\n",
    "    if len(file)==1:\n",
    "        list_emails_to_add=pd.read_csv(file[0],dtype=str,usecols=['customersummary_emailhash'])['customersummary_emailhash'].unique().tolist()\n",
    "        list_emails_to_add=[x for x in list_emails_to_add if len(x)==64]\n",
    "    else:\n",
    "        raise ValueError(\"multiple files from list_new_deltas for %s\"%str_pattern)\n",
    "    add_ids_to_account(token=jian_token,\n",
    "                            aud_id=fb_id,\n",
    "                            list_ids_to_add=list_emails_to_add,\n",
    "                            fb_schema=CustomAudience.Schema.email_hash)"
   ]
  },
  {
   "cell_type": "code",
   "execution_count": 23,
   "metadata": {},
   "outputs": [
    {
     "name": "stdout",
     "output_type": "stream",
     "text": [
      "['./DeltaFiles/File_20210106/Signup_NoPurchase_Delta__20210106080650.csv']\n",
      "134319 IDs added to the audience id: 23845836247620265\n",
      "['./DeltaFiles/File_20210106/Signup_NoPurchase_Delta__20210106080650.csv']\n",
      "134319 IDs added to the audience id: 23846192327750632\n"
     ]
    }
   ],
   "source": [
    "# 3 13_Month_Lapsed\n",
    "str_pattern=\"Signup_NoPurchase\"\n",
    "for fb_id in dict_Audience_ID[str_pattern]:\n",
    "    file=[x for x in list_new_deltas if str_pattern in x]\n",
    "    print(file)\n",
    "    if len(file)==1:\n",
    "        list_emails_to_add=pd.read_csv(file[0],dtype=str,usecols=['customersummary_emailhash'])['customersummary_emailhash'].unique().tolist()\n",
    "        list_emails_to_add=[x for x in list_emails_to_add if len(x)==64]\n",
    "    else:\n",
    "        raise ValueError(\"multiple files from list_new_deltas for %s\"%str_pattern)\n",
    "    add_ids_to_account(token=jian_token,\n",
    "                            aud_id=fb_id,\n",
    "                            list_ids_to_add=list_emails_to_add,\n",
    "                            fb_schema=CustomAudience.Schema.email_hash)"
   ]
  },
  {
   "cell_type": "code",
   "execution_count": null,
   "metadata": {},
   "outputs": [],
   "source": []
  }
 ],
 "metadata": {
  "kernelspec": {
   "display_name": "Python 3",
   "language": "python",
   "name": "python3"
  },
  "language_info": {
   "codemirror_mode": {
    "name": "ipython",
    "version": 3
   },
   "file_extension": ".py",
   "mimetype": "text/x-python",
   "name": "python",
   "nbconvert_exporter": "python",
   "pygments_lexer": "ipython3",
   "version": "3.7.6"
  }
 },
 "nbformat": 4,
 "nbformat_minor": 4
}
