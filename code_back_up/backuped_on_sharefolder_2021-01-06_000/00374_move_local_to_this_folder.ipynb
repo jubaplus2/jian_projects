{
 "cells": [
  {
   "cell_type": "code",
   "execution_count": 1,
   "metadata": {},
   "outputs": [],
   "source": [
    "import os\n",
    "import datetime\n",
    "import shutil\n",
    "import glob\n",
    "import pandas as pd"
   ]
  },
  {
   "cell_type": "code",
   "execution_count": 2,
   "metadata": {},
   "outputs": [],
   "source": [
    "original_folder_impression=\"/mnt/clients/juba/hqjubaapp02/jliang/Projects/Big_Lots/Predictive_Model/LR_returned_files/impressions/\"\n",
    "original_folder_click=\"/mnt/clients/juba/hqjubaapp02/jliang/Projects/Big_Lots/Predictive_Model/LR_returned_files/clicks/\"\n",
    "original_folder_act=\"/mnt/clients/juba/hqjubaapp02/jliang/Projects/Big_Lots/Predictive_Model/LR_returned_files/activities/\""
   ]
  },
  {
   "cell_type": "code",
   "execution_count": 3,
   "metadata": {},
   "outputs": [],
   "source": [
    "def check_dcm_file_range(folder):\n",
    "    list_all_files=glob.glob(folder+\"*\")\n",
    "    list_all_dates=[x.split('dcm_account7252_')[1].split('_')[1][:8] for x in list_all_files]\n",
    "    list_all_dates=[x for x in list_all_dates if x.isdigit()]\n",
    "    list_all_dates=list(set(list_all_dates))\n",
    "    min_date=min(list_all_dates)\n",
    "    max_date=max(list_all_dates)\n",
    "    unique_date=len(set([x for x in list_all_dates if x.isdigit()]))\n",
    "    day_diff=(datetime.datetime.strptime(max_date,\"%Y%m%d\")-datetime.datetime.strptime(min_date,\"%Y%m%d\")).days+1\n",
    "    \n",
    "    list_0_should_be_all=[]\n",
    "    for i in range(day_diff):\n",
    "        list_0_should_be_all.append(str((datetime.datetime.strptime(min_date,\"%Y%m%d\")+datetime.timedelta(days=i)).date()).replace(\"-\",\"\"))\n",
    "    list_0_should_be_all.sort()\n",
    "    list_all_dates.sort()\n",
    "\n",
    "    list_missing=[x for x in list_0_should_be_all if x not in list_all_dates]\n",
    "    print(folder)\n",
    "    print(\"total_len: %i\"%len(list_all_files))\n",
    "    print(\"min_date: %s\"%min_date)\n",
    "    print(\"max_date: %s\"%max_date)\n",
    "    print(\"unique_date:%i\"%unique_date)\n",
    "    print(\"day_diff: %i\"%day_diff)\n",
    "    print(\"list_missing\",list_missing)"
   ]
  },
  {
   "cell_type": "code",
   "execution_count": 4,
   "metadata": {},
   "outputs": [
    {
     "name": "stdout",
     "output_type": "stream",
     "text": [
      "/mnt/clients/juba/hqjubaapp02/jliang/Projects/Big_Lots/Predictive_Model/LR_returned_files/impressions/\n",
      "total_len: 10023\n",
      "min_date: 20180524\n",
      "max_date: 20200502\n",
      "unique_date:693\n",
      "day_diff: 710\n",
      "list_missing ['20190125', '20190126', '20190127', '20190128', '20190129', '20190130', '20190131', '20190201', '20190202', '20200123', '20200124', '20200125', '20200126', '20200127', '20200128', '20200129', '20200201']\n"
     ]
    }
   ],
   "source": [
    "check_dcm_file_range(original_folder_impression)"
   ]
  },
  {
   "cell_type": "code",
   "execution_count": 5,
   "metadata": {},
   "outputs": [
    {
     "name": "stdout",
     "output_type": "stream",
     "text": [
      "/mnt/clients/juba/hqjubaapp02/jliang/Projects/Big_Lots/Predictive_Model/LR_returned_files/clicks/\n",
      "total_len: 9965\n",
      "min_date: 20180524\n",
      "max_date: 20200502\n",
      "unique_date:701\n",
      "day_diff: 710\n",
      "list_missing ['20190125', '20190126', '20190127', '20190128', '20190129', '20190130', '20190131', '20190201', '20190202']\n"
     ]
    }
   ],
   "source": [
    "check_dcm_file_range(original_folder_click)"
   ]
  },
  {
   "cell_type": "code",
   "execution_count": 6,
   "metadata": {},
   "outputs": [
    {
     "name": "stdout",
     "output_type": "stream",
     "text": [
      "/mnt/clients/juba/hqjubaapp02/jliang/Projects/Big_Lots/Predictive_Model/LR_returned_files/activities/\n",
      "total_len: 794\n",
      "min_date: 20180524\n",
      "max_date: 20200502\n",
      "unique_date:707\n",
      "day_diff: 710\n",
      "list_missing ['20181010', '20181015', '20190104']\n"
     ]
    }
   ],
   "source": [
    "check_dcm_file_range(original_folder_act)"
   ]
  },
  {
   "cell_type": "code",
   "execution_count": 7,
   "metadata": {},
   "outputs": [
    {
     "data": {
      "text/plain": [
       "'/mnt/clients/juba/hqjubaapp02/sharefolder/Media/lr_returned_files'"
      ]
     },
     "execution_count": 7,
     "metadata": {},
     "output_type": "execute_result"
    }
   ],
   "source": [
    "os.getcwd()"
   ]
  },
  {
   "cell_type": "code",
   "execution_count": 10,
   "metadata": {},
   "outputs": [],
   "source": [
    "new_folder='/mnt/clients/juba/hqjubaapp02/sharefolder/Media/lr_returned_files/'"
   ]
  },
  {
   "cell_type": "code",
   "execution_count": 9,
   "metadata": {
    "scrolled": true
   },
   "outputs": [
    {
     "data": {
      "text/plain": [
       "'/mnt/clients/juba/hqjubaapp02/sharefolder/Media/lr_returned_files/impressions/impressions'"
      ]
     },
     "execution_count": 9,
     "metadata": {},
     "output_type": "execute_result"
    }
   ],
   "source": [
    "shutil.move(original_folder_impression, new_folder)"
   ]
  },
  {
   "cell_type": "code",
   "execution_count": 11,
   "metadata": {},
   "outputs": [
    {
     "data": {
      "text/plain": [
       "'/mnt/clients/juba/hqjubaapp02/sharefolder/Media/lr_returned_files/clicks'"
      ]
     },
     "execution_count": 11,
     "metadata": {},
     "output_type": "execute_result"
    }
   ],
   "source": [
    "shutil.move(original_folder_click, new_folder)"
   ]
  },
  {
   "cell_type": "code",
   "execution_count": 12,
   "metadata": {},
   "outputs": [
    {
     "data": {
      "text/plain": [
       "'/mnt/clients/juba/hqjubaapp02/sharefolder/Media/lr_returned_files/activities'"
      ]
     },
     "execution_count": 12,
     "metadata": {},
     "output_type": "execute_result"
    }
   ],
   "source": [
    "shutil.move(original_folder_act, new_folder)"
   ]
  },
  {
   "cell_type": "code",
   "execution_count": 14,
   "metadata": {},
   "outputs": [
    {
     "name": "stdout",
     "output_type": "stream",
     "text": [
      "(107116, 102)\n"
     ]
    },
    {
     "name": "stderr",
     "output_type": "stream",
     "text": [
      "/opt/anaconda3/lib/python3.7/site-packages/IPython/core/interactiveshell.py:3063: DtypeWarning: Columns (16) have mixed types.Specify dtype option on import or set low_memory=False.\n",
      "  interactivity=interactivity, compiler=compiler, result=result)\n"
     ]
    },
    {
     "data": {
      "text/html": [
       "<div>\n",
       "<style scoped>\n",
       "    .dataframe tbody tr th:only-of-type {\n",
       "        vertical-align: middle;\n",
       "    }\n",
       "\n",
       "    .dataframe tbody tr th {\n",
       "        vertical-align: top;\n",
       "    }\n",
       "\n",
       "    .dataframe thead th {\n",
       "        text-align: right;\n",
       "    }\n",
       "</style>\n",
       "<table border=\"1\" class=\"dataframe\">\n",
       "  <thead>\n",
       "    <tr style=\"text-align: right;\">\n",
       "      <th></th>\n",
       "      <th>Customer_Link</th>\n",
       "      <th>Event Time</th>\n",
       "      <th>Advertiser ID</th>\n",
       "      <th>Campaign ID</th>\n",
       "      <th>Ad ID</th>\n",
       "      <th>Rendering ID</th>\n",
       "      <th>Creative Version</th>\n",
       "      <th>Site ID (DCM)</th>\n",
       "      <th>Placement ID</th>\n",
       "      <th>Country Code</th>\n",
       "      <th>...</th>\n",
       "      <th>DBM Media Fee 5 (Advertiser Currency)</th>\n",
       "      <th>DBM Data Fees (USD)</th>\n",
       "      <th>DBM Data Fees (Partner Currency)</th>\n",
       "      <th>DBM Data Fees (Advertiser Currency)</th>\n",
       "      <th>DBM Billable Cost (USD)</th>\n",
       "      <th>DBM Billable Cost (Partner Currency)</th>\n",
       "      <th>DBM Billable Cost (Advertiser Currency)</th>\n",
       "      <th>Active View: Eligible Impressions</th>\n",
       "      <th>Active View: Measurable Impressions</th>\n",
       "      <th>Active View: Viewable Impressions</th>\n",
       "    </tr>\n",
       "  </thead>\n",
       "  <tbody>\n",
       "    <tr>\n",
       "      <th>0</th>\n",
       "      <td>XY1468hvjK-sG0jUaLRmQocVXvxLUr9nJ13SUnFSRAWqN1QIQ</td>\n",
       "      <td>1570729408937595</td>\n",
       "      <td>8095847</td>\n",
       "      <td>22990170</td>\n",
       "      <td>448644452</td>\n",
       "      <td>122941176</td>\n",
       "      <td>1</td>\n",
       "      <td>2479413</td>\n",
       "      <td>252576136</td>\n",
       "      <td>US</td>\n",
       "      <td>...</td>\n",
       "      <td>0</td>\n",
       "      <td>0</td>\n",
       "      <td>0</td>\n",
       "      <td>0</td>\n",
       "      <td>0</td>\n",
       "      <td>0</td>\n",
       "      <td>0</td>\n",
       "      <td>1</td>\n",
       "      <td>1</td>\n",
       "      <td>1</td>\n",
       "    </tr>\n",
       "    <tr>\n",
       "      <th>1</th>\n",
       "      <td>UNMATCHED</td>\n",
       "      <td>1570730286436368</td>\n",
       "      <td>8095847</td>\n",
       "      <td>22990170</td>\n",
       "      <td>448716229</td>\n",
       "      <td>122903783</td>\n",
       "      <td>1</td>\n",
       "      <td>2479413</td>\n",
       "      <td>252216464</td>\n",
       "      <td>US</td>\n",
       "      <td>...</td>\n",
       "      <td>0</td>\n",
       "      <td>0</td>\n",
       "      <td>0</td>\n",
       "      <td>0</td>\n",
       "      <td>0</td>\n",
       "      <td>0</td>\n",
       "      <td>0</td>\n",
       "      <td>0</td>\n",
       "      <td>0</td>\n",
       "      <td>0</td>\n",
       "    </tr>\n",
       "    <tr>\n",
       "      <th>2</th>\n",
       "      <td>UNMATCHED</td>\n",
       "      <td>1570727347340800</td>\n",
       "      <td>8095847</td>\n",
       "      <td>22990170</td>\n",
       "      <td>448712569</td>\n",
       "      <td>119702123</td>\n",
       "      <td>1</td>\n",
       "      <td>5174983</td>\n",
       "      <td>252643278</td>\n",
       "      <td>US</td>\n",
       "      <td>...</td>\n",
       "      <td>0</td>\n",
       "      <td>0</td>\n",
       "      <td>0</td>\n",
       "      <td>0</td>\n",
       "      <td>0</td>\n",
       "      <td>0</td>\n",
       "      <td>0</td>\n",
       "      <td>0</td>\n",
       "      <td>0</td>\n",
       "      <td>0</td>\n",
       "    </tr>\n",
       "    <tr>\n",
       "      <th>3</th>\n",
       "      <td>UNMATCHED</td>\n",
       "      <td>1570727655425664</td>\n",
       "      <td>8095847</td>\n",
       "      <td>23095462</td>\n",
       "      <td>451005839</td>\n",
       "      <td>120379640</td>\n",
       "      <td>1</td>\n",
       "      <td>2479413</td>\n",
       "      <td>254934370</td>\n",
       "      <td>US</td>\n",
       "      <td>...</td>\n",
       "      <td>0</td>\n",
       "      <td>0</td>\n",
       "      <td>0</td>\n",
       "      <td>0</td>\n",
       "      <td>0</td>\n",
       "      <td>0</td>\n",
       "      <td>0</td>\n",
       "      <td>0</td>\n",
       "      <td>0</td>\n",
       "      <td>0</td>\n",
       "    </tr>\n",
       "    <tr>\n",
       "      <th>4</th>\n",
       "      <td>XY1468pg3yqr85vAazk2N9c8_90WPC0CDQ0DQcQjr1jXubdfk</td>\n",
       "      <td>1570729613478441</td>\n",
       "      <td>8095847</td>\n",
       "      <td>22990170</td>\n",
       "      <td>448644452</td>\n",
       "      <td>122941176</td>\n",
       "      <td>1</td>\n",
       "      <td>2479413</td>\n",
       "      <td>252576136</td>\n",
       "      <td>US</td>\n",
       "      <td>...</td>\n",
       "      <td>0</td>\n",
       "      <td>0</td>\n",
       "      <td>0</td>\n",
       "      <td>0</td>\n",
       "      <td>0</td>\n",
       "      <td>0</td>\n",
       "      <td>0</td>\n",
       "      <td>1</td>\n",
       "      <td>1</td>\n",
       "      <td>1</td>\n",
       "    </tr>\n",
       "  </tbody>\n",
       "</table>\n",
       "<p>5 rows × 102 columns</p>\n",
       "</div>"
      ],
      "text/plain": [
       "                                       Customer_Link        Event Time  \\\n",
       "0  XY1468hvjK-sG0jUaLRmQocVXvxLUr9nJ13SUnFSRAWqN1QIQ  1570729408937595   \n",
       "1                                          UNMATCHED  1570730286436368   \n",
       "2                                          UNMATCHED  1570727347340800   \n",
       "3                                          UNMATCHED  1570727655425664   \n",
       "4  XY1468pg3yqr85vAazk2N9c8_90WPC0CDQ0DQcQjr1jXubdfk  1570729613478441   \n",
       "\n",
       "   Advertiser ID  Campaign ID      Ad ID  Rendering ID  Creative Version  \\\n",
       "0        8095847     22990170  448644452     122941176                 1   \n",
       "1        8095847     22990170  448716229     122903783                 1   \n",
       "2        8095847     22990170  448712569     119702123                 1   \n",
       "3        8095847     23095462  451005839     120379640                 1   \n",
       "4        8095847     22990170  448644452     122941176                 1   \n",
       "\n",
       "   Site ID (DCM)  Placement ID Country Code  ...  \\\n",
       "0        2479413     252576136           US  ...   \n",
       "1        2479413     252216464           US  ...   \n",
       "2        5174983     252643278           US  ...   \n",
       "3        2479413     254934370           US  ...   \n",
       "4        2479413     252576136           US  ...   \n",
       "\n",
       "  DBM Media Fee 5 (Advertiser Currency)  DBM Data Fees (USD)  \\\n",
       "0                                     0                    0   \n",
       "1                                     0                    0   \n",
       "2                                     0                    0   \n",
       "3                                     0                    0   \n",
       "4                                     0                    0   \n",
       "\n",
       "   DBM Data Fees (Partner Currency)  DBM Data Fees (Advertiser Currency)  \\\n",
       "0                                 0                                    0   \n",
       "1                                 0                                    0   \n",
       "2                                 0                                    0   \n",
       "3                                 0                                    0   \n",
       "4                                 0                                    0   \n",
       "\n",
       "   DBM Billable Cost (USD)  DBM Billable Cost (Partner Currency)  \\\n",
       "0                        0                                     0   \n",
       "1                        0                                     0   \n",
       "2                        0                                     0   \n",
       "3                        0                                     0   \n",
       "4                        0                                     0   \n",
       "\n",
       "  DBM Billable Cost (Advertiser Currency)  Active View: Eligible Impressions  \\\n",
       "0                                       0                                  1   \n",
       "1                                       0                                  0   \n",
       "2                                       0                                  0   \n",
       "3                                       0                                  0   \n",
       "4                                       0                                  1   \n",
       "\n",
       "  Active View: Measurable Impressions Active View: Viewable Impressions  \n",
       "0                                   1                                 1  \n",
       "1                                   0                                 0  \n",
       "2                                   0                                 0  \n",
       "3                                   0                                 0  \n",
       "4                                   1                                 1  \n",
       "\n",
       "[5 rows x 102 columns]"
      ]
     },
     "execution_count": 14,
     "metadata": {},
     "output_type": "execute_result"
    }
   ],
   "source": [
    "df=pd.read_csv('/mnt/clients/juba/hqjubaapp02/sharefolder/Media/lr_returned_files/impressions/CL_BigLots_dcm_account7252_impression_20191010_20191010_agg_BL_20191017_114752_0000.tsv.gz',\n",
    "              compression=\"gzip\",sep=\"\\t\")\n",
    "print(df.shape)\n",
    "df.head(5)"
   ]
  },
  {
   "cell_type": "code",
   "execution_count": null,
   "metadata": {},
   "outputs": [],
   "source": []
  }
 ],
 "metadata": {
  "kernelspec": {
   "display_name": "Python 3",
   "language": "python",
   "name": "python3"
  },
  "language_info": {
   "codemirror_mode": {
    "name": "ipython",
    "version": 3
   },
   "file_extension": ".py",
   "mimetype": "text/x-python",
   "name": "python",
   "nbconvert_exporter": "python",
   "pygments_lexer": "ipython3",
   "version": "3.7.6"
  }
 },
 "nbformat": 4,
 "nbformat_minor": 4
}
