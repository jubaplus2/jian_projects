{
 "cells": [
  {
   "cell_type": "code",
   "execution_count": 1,
   "metadata": {},
   "outputs": [
    {
     "data": {
      "text/plain": [
       "'/home/jian/Projects/Big_Lots/Live_Ramp/Quarterly_Update_2019Q4/upload_files_T_zips'"
      ]
     },
     "execution_count": 1,
     "metadata": {},
     "output_type": "execute_result"
    }
   ],
   "source": [
    "import pandas as pd\n",
    "import paramiko\n",
    "import numpy as np\n",
    "import datetime\n",
    "import os\n",
    "import glob\n",
    "\n",
    "os.getcwd()"
   ]
  },
  {
   "cell_type": "code",
   "execution_count": 2,
   "metadata": {},
   "outputs": [
    {
     "data": {
      "text/plain": [
       "262"
      ]
     },
     "execution_count": 2,
     "metadata": {},
     "output_type": "execute_result"
    }
   ],
   "source": [
    "all_files=glob.glob(\"/home/jian/Projects/Big_Lots/Live_Ramp/Quarterly_Update_2019Q4/all_audiences_with_T_not_final/*.csv\")\n",
    "len(all_files)"
   ]
  },
  {
   "cell_type": "code",
   "execution_count": 3,
   "metadata": {},
   "outputs": [
    {
     "data": {
      "text/plain": [
       "24"
      ]
     },
     "execution_count": 3,
     "metadata": {},
     "output_type": "execute_result"
    }
   ],
   "source": [
    "files_new_needed=[x for x in all_files if os.path.basename(x)[:8]==\"T_Active\" and \"_T_\" in os.path.basename(x)]\n",
    "files_new_needed=[x for x in files_new_needed if \"_Score(L)\" not in x]\n",
    "files_new_needed.sort()\n",
    "\n",
    "len(files_new_needed)"
   ]
  },
  {
   "cell_type": "code",
   "execution_count": 5,
   "metadata": {
    "scrolled": false
   },
   "outputs": [
    {
     "name": "stdout",
     "output_type": "stream",
     "text": [
      "1 (1403, 3) T_Active(0-12)_Score(H)_Density(H)_Legacy_HolidayShoppers_T_2019Q4_RFM.csv\n",
      "2 (41819, 3) T_Active(0-12)_Score(H)_Density(H)_Legacy_Others_T_2019Q4_RFM.csv\n",
      "3 (67, 3) T_Active(0-12)_Score(H)_Density(H)_SOTF_HolidayShoppers_T_2019Q4_RFM.csv\n",
      "4 (1396, 3) T_Active(0-12)_Score(H)_Density(H)_SOTF_Others_T_2019Q4_RFM.csv\n",
      "5 (161, 3) T_Active(0-12)_Score(H)_Density(L)_Legacy_HolidayShoppers_T_2019Q4_RFM.csv\n",
      "6 (3698, 3) T_Active(0-12)_Score(H)_Density(L)_Legacy_Others_T_2019Q4_RFM.csv\n",
      "7 (2853, 3) T_Active(0-12)_Score(H)_Density(L)_SOTF_HolidayShoppers_T_2019Q4_RFM.csv\n",
      "8 (61262, 3) T_Active(0-12)_Score(H)_Density(L)_SOTF_Others_T_2019Q4_RFM.csv\n",
      "9 (21785, 3) T_Active(0-12)_Score(H)_Density(M)_Legacy_HolidayShoppers_T_2019Q4_RFM.csv\n",
      "10 (468447, 3) T_Active(0-12)_Score(H)_Density(M)_Legacy_Others_T_2019Q4_RFM.csv\n",
      "11 (8495, 3) T_Active(0-12)_Score(H)_Density(M)_SOTF_HolidayShoppers_T_2019Q4_RFM.csv\n",
      "12 (188411, 3) T_Active(0-12)_Score(H)_Density(M)_SOTF_Others_T_2019Q4_RFM.csv\n",
      "13 (1793, 3) T_Active(0-12)_Score(M)_Density(H)_Legacy_HolidayShoppers_T_2019Q4_RFM.csv\n",
      "14 (35089, 3) T_Active(0-12)_Score(M)_Density(H)_Legacy_Others_T_2019Q4_RFM.csv\n",
      "15 (75, 3) T_Active(0-12)_Score(M)_Density(H)_SOTF_HolidayShoppers_T_2019Q4_RFM.csv\n",
      "16 (1290, 3) T_Active(0-12)_Score(M)_Density(H)_SOTF_Others_T_2019Q4_RFM.csv\n",
      "17 (116, 3) T_Active(0-12)_Score(M)_Density(L)_Legacy_HolidayShoppers_T_2019Q4_RFM.csv\n",
      "18 (2506, 3) T_Active(0-12)_Score(M)_Density(L)_Legacy_Others_T_2019Q4_RFM.csv\n",
      "19 (2554, 3) T_Active(0-12)_Score(M)_Density(L)_SOTF_HolidayShoppers_T_2019Q4_RFM.csv\n",
      "20 (41535, 3) T_Active(0-12)_Score(M)_Density(L)_SOTF_Others_T_2019Q4_RFM.csv\n",
      "21 (24364, 3) T_Active(0-12)_Score(M)_Density(M)_Legacy_HolidayShoppers_T_2019Q4_RFM.csv\n",
      "22 (386584, 3) T_Active(0-12)_Score(M)_Density(M)_Legacy_Others_T_2019Q4_RFM.csv\n",
      "23 (9196, 3) T_Active(0-12)_Score(M)_Density(M)_SOTF_HolidayShoppers_T_2019Q4_RFM.csv\n",
      "24 (153109, 3) T_Active(0-12)_Score(M)_Density(M)_SOTF_Others_T_2019Q4_RFM.csv\n"
     ]
    }
   ],
   "source": [
    "i_counter=0\n",
    "for file in files_new_needed:\n",
    "    i_counter+=1\n",
    "    df=pd.read_csv(file,dtype=str)\n",
    "    print(i_counter,df.shape,os.path.basename(file))\n",
    "# Checked and all match"
   ]
  },
  {
   "cell_type": "code",
   "execution_count": 7,
   "metadata": {},
   "outputs": [],
   "source": [
    "# upload\n",
    "\n",
    "host = \"files.liveramp.com\"\n",
    "port = 22\n",
    "password = \"Biglots2018!\"\n",
    "username = \"lr-big-lots\"\n",
    "\n",
    "transport = paramiko.Transport((host, port))\n",
    "\n",
    "transport.connect(username = username, password = password)\n",
    "sftp = paramiko.SFTPClient.from_transport(transport)"
   ]
  },
  {
   "cell_type": "code",
   "execution_count": null,
   "metadata": {
    "collapsed": true
   },
   "outputs": [],
   "source": [
    "'''\n",
    "i_counter=0\n",
    "for file in files_new_needed:\n",
    "    i_counter+=1\n",
    "    base_name=os.path.basename(file)\n",
    "    remote_name=\"/uploads/big_lots_onboarding/\"+base_name\n",
    "    sftp.put(file,remote_name)\n",
    "    print(datetime.datetime.now(),remote_name)\n",
    "print(\"All_Done: \"+str(datetime.datetime.now()))\n",
    "sftp.close()\n",
    "transport.close()\n",
    "'''"
   ]
  },
  {
   "cell_type": "code",
   "execution_count": null,
   "metadata": {
    "collapsed": true
   },
   "outputs": [],
   "source": []
  }
 ],
 "metadata": {
  "kernelspec": {
   "display_name": "Python 3",
   "language": "python",
   "name": "python3"
  },
  "language_info": {
   "codemirror_mode": {
    "name": "ipython",
    "version": 3
   },
   "file_extension": ".py",
   "mimetype": "text/x-python",
   "name": "python",
   "nbconvert_exporter": "python",
   "pygments_lexer": "ipython3",
   "version": "3.6.1"
  }
 },
 "nbformat": 4,
 "nbformat_minor": 2
}
