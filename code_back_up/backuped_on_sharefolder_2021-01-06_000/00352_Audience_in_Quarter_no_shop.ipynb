{
 "cells": [
  {
   "cell_type": "code",
   "execution_count": 1,
   "metadata": {},
   "outputs": [
    {
     "data": {
      "text/plain": [
       "'/home/jian/celery/Audience_No_Shop'"
      ]
     },
     "execution_count": 1,
     "metadata": {},
     "output_type": "execute_result"
    }
   ],
   "source": [
    "import pandas as pd\n",
    "import datetime\n",
    "import numpy as np\n",
    "import os\n",
    "import glob\n",
    "import gc\n",
    "import logging\n",
    "\n",
    "\n",
    "logging.basicConfig(filename='/home/jian/BL_weekly_crontab/cron_7_no_shopper_in_audience/ID_list_no_shopping_6_weeks.log', level=logging.INFO)\n",
    "\n",
    "def recursive_file_gen(root_folder):\n",
    "    for root, dirs, files in os.walk(root_folder):\n",
    "        for file in files:\n",
    "            yield os.path.join(root, file)\n",
    "            \n",
    "os.getcwd()"
   ]
  },
  {
   "cell_type": "code",
   "execution_count": 2,
   "metadata": {},
   "outputs": [
    {
     "name": "stdout",
     "output_type": "stream",
     "text": [
      "last_sturday: 2019-12-14\n",
      "Year 2019\n",
      "Quarter 4\n",
      "str_current_quarter 2019_Q4\n",
      "current_week 6\n"
     ]
    }
   ],
   "source": [
    "last_sturday = (datetime.datetime.now()-datetime.timedelta(days=(datetime.datetime.now().weekday()+2))).date()\n",
    "print(\"last_sturday: \"+str(last_sturday))\n",
    "logging.info(\"last_sturday: \"+str(last_sturday))\n",
    "last_day_of_2018Q4=datetime.date(2019,2,2)\n",
    "\n",
    "year_of_quarter=(last_sturday-last_day_of_2018Q4).days/(52*7)\n",
    "year_of_quarter=str(int(2019+np.floor(year_of_quarter)))\n",
    "print(\"Year\",year_of_quarter)\n",
    "logging.info(\"Year \"+str(year_of_quarter))\n",
    "\n",
    "\n",
    "quarter_of_quarter=(last_sturday-last_day_of_2018Q4).days/7\n",
    "quarter_of_quarter=np.floor(quarter_of_quarter/13)%4\n",
    "quarter_of_quarter=str(int(1+quarter_of_quarter))\n",
    "print(\"Quarter\",quarter_of_quarter)\n",
    "logging.info(\"Quarter \"+str(quarter_of_quarter))\n",
    "\n",
    "str_current_quarter=year_of_quarter+\"_Q\"+quarter_of_quarter\n",
    "\n",
    "print(\"str_current_quarter\", str_current_quarter)\n",
    "logging.info(\"str_current_quarter \"+str(str_current_quarter))\n",
    "\n",
    "current_week=int((last_sturday-last_day_of_2018Q4).days/7%13)\n",
    "print(\"current_week\",current_week)\n",
    "logging.info(\"current_week: \"+str(current_week))\n",
    "\n",
    "if current_week==0:\n",
    "    quarter_of_quarter=int(quarter_of_quarter)-1\n",
    "    str_current_quarter=year_of_quarter+\"_Q\"+str(quarter_of_quarter)\n",
    "    current_week=13\n",
    "    print(\"week0-Quarter\",quarter_of_quarter)\n",
    "    print(\"week0-current_week\",current_week)\n",
    "    \n",
    "    logging.info(\"week0-Quarter: \"+str(quarter_of_quarter))\n",
    "    logging.info(\"week0-current_week: \"+str(current_week))\n",
    "\n"
   ]
  },
  {
   "cell_type": "code",
   "execution_count": 3,
   "metadata": {},
   "outputs": [
    {
     "name": "stdout",
     "output_type": "stream",
     "text": [
      "current_quarter_beginning: 2019-11-03\n",
      "previous_quarter_beginning: 2019-08-04\n",
      "audience_Quarter_num: 4\n",
      "audience_year: 2019\n"
     ]
    }
   ],
   "source": [
    "current_quarter_beginning=last_day_of_2018Q4+datetime.timedelta(days=(int(year_of_quarter)-2019)*52*7+\\\n",
    "                                                                (int(quarter_of_quarter)-1)*13*7+1)\n",
    "print(\"current_quarter_beginning: \"+str(current_quarter_beginning))\n",
    "logging.info(\"current_quarter_beginning: \"+str(current_quarter_beginning))\n",
    "\n",
    "previous_quarter_beginning=current_quarter_beginning-datetime.timedelta(days=7*13)\n",
    "print(\"previous_quarter_beginning: \"+str(previous_quarter_beginning))\n",
    "logging.info(\"current_quarter_beginning: \"+str(previous_quarter_beginning))\n",
    "\n",
    "Today_date=datetime.datetime.now().date()\n",
    "\n",
    "if Today_date>=current_quarter_beginning:\n",
    "    audience_Quarter_num=int(quarter_of_quarter)\n",
    "    audience_year=int(year_of_quarter)\n",
    "else:\n",
    "    audience_Quarter_num=int(quarter_of_quarter)-1\n",
    "    audience_year=int(year_of_quarter)\n",
    "    if audience_Quarter_num==0:\n",
    "        audience_Quarter_num=4\n",
    "        audience_year=int(year_of_quarter)-1\n",
    "        \n",
    "        \n",
    "        \n",
    "print(\"audience_Quarter_num: \"+str(audience_Quarter_num))\n",
    "logging.info(\"audience_Quarter_num: \"+str(audience_Quarter_num))\n",
    "\n",
    "print(\"audience_year: \"+str(audience_year))\n",
    "logging.info(\"audience_year: \"+str(audience_year))"
   ]
  },
  {
   "cell_type": "code",
   "execution_count": 4,
   "metadata": {},
   "outputs": [
    {
     "name": "stdout",
     "output_type": "stream",
     "text": [
      "len(list_aud_files_uploaded_T): 89\n"
     ]
    }
   ],
   "source": [
    "folder_current_audience=\"/home/jian/Projects/Big_Lots/Live_Ramp/Quarterly_Update_\"+str(audience_year)+\"Q\"+str(audience_Quarter_num)+\"/upload_files/\"\n",
    "list_aud_files_uploaded=glob.glob(folder_current_audience+\"*.csv\")\n",
    "list_aud_files_uploaded_T=[x for x in list_aud_files_uploaded if os.path.basename(x)[0]==\"T\"]\n",
    "print(\"len(list_aud_files_uploaded_T): \"+str(len(list_aud_files_uploaded_T)))\n",
    "logging.info(\"len(list_aud_files_uploaded_T): \"+str(len(list_aud_files_uploaded_T)))"
   ]
  },
  {
   "cell_type": "code",
   "execution_count": 5,
   "metadata": {},
   "outputs": [
    {
     "name": "stdout",
     "output_type": "stream",
     "text": [
      "(21435770, 3) 21435770\n"
     ]
    }
   ],
   "source": [
    "df_current_test_aud=pd.DataFrame()\n",
    "\n",
    "for file in list_aud_files_uploaded_T:\n",
    "    df=pd.read_csv(file,dtype=str)\n",
    "    df_current_test_aud=df_current_test_aud.append(df)\n",
    "print(df_current_test_aud.shape,df_current_test_aud['customer_id_hashed'].nunique()) \n",
    "logging.info(str(df_current_test_aud.shape)+\"|\"+str(df_current_test_aud['customer_id_hashed'].nunique()))"
   ]
  },
  {
   "cell_type": "code",
   "execution_count": 6,
   "metadata": {},
   "outputs": [
    {
     "name": "stdout",
     "output_type": "stream",
     "text": [
      "len(list_files_POS_in_6_weeks): 6\n",
      "len(list_files_POS_in_6_weeks): 6\n",
      "['/home/jian/BigLots/MediaStorm_2019-12-14/MediaStormDailySales20191217-195625-000.txt', '/home/jian/BigLots/2019_by_weeks/MediaStorm_2019-12-07/MediaStormDailySales.txt', '/home/jian/BigLots/2019_by_weeks/MediaStorm_2019-11-30/MediaStormDailySales20191203.txt', '/home/jian/BigLots/2019_by_weeks/MediaStorm_2019-11-23/MediaStormDailySales20191126-112901-552.txt', '/home/jian/BigLots/2019_by_weeks/MediaStorm_2019-11-16/MediaStormDailySales20191119-112232-478.txt', '/home/jian/BigLots/2019_by_weeks/MediaStorm_2019-11-09/MediaStormDailySales20191112-115210-002.txt']\n"
     ]
    }
   ],
   "source": [
    "date_start_4_weeks_start_Sunday=last_sturday-datetime.timedelta(days=27)\n",
    "date_start_6_weeks_start_Sunday=last_sturday-datetime.timedelta(days=27+14)\n",
    "\n",
    "\n",
    "list_files_POS_in_6_weeks=list(recursive_file_gen(\"/home/jian/BigLots/\"))\n",
    "list_files_POS_in_6_weeks=[x for x in list_files_POS_in_6_weeks if \"daily\" in x.lower() and x[-4:]==\".txt\"]\n",
    "list_files_POS_in_6_weeks=[x for x in list_files_POS_in_6_weeks if \"/MediaStorm_\"in x]\n",
    "\n",
    "list_files_POS_in_6_weeks=[x for x in list_files_POS_in_6_weeks if x.split(\"/MediaStorm_\")[1][:10]>=str(date_start_6_weeks_start_Sunday)]\n",
    "print(\"len(list_files_POS_in_6_weeks): \"+str(len(list_files_POS_in_6_weeks)))\n",
    "print(\"len(list_files_POS_in_6_weeks): \"+str(len(list_files_POS_in_6_weeks)))\n",
    "\n",
    "logging.info(\"len(list_files_POS_in_6_weeks): \"+str(len(list_files_POS_in_6_weeks)))\n",
    "logging.info(\"len(list_files_POS_in_6_weeks): \"+str(len(list_files_POS_in_6_weeks)))\n",
    "\n",
    "list_files_POS_in_6_weeks=sorted(list_files_POS_in_6_weeks,key=lambda x: x.split(\"/MediaStorm_\")[1][:10],reverse=True)\n",
    "print(list_files_POS_in_6_weeks)\n",
    "logging.info(str(list_files_POS_in_6_weeks))"
   ]
  },
  {
   "cell_type": "code",
   "execution_count": 7,
   "metadata": {},
   "outputs": [
    {
     "name": "stdout",
     "output_type": "stream",
     "text": [
      "MediaStormDailySales20191217-195625-000.txt | 2019-12-18 10:27:13.458243\n",
      "MediaStormDailySales.txt | 2019-12-18 10:30:26.453700\n",
      "MediaStormDailySales20191203.txt | 2019-12-18 10:36:08.362216\n",
      "MediaStormDailySales20191126-112901-552.txt | 2019-12-18 10:36:53.618689\n",
      "MediaStormDailySales20191119-112232-478.txt | 2019-12-18 10:37:39.873299\n",
      "MediaStormDailySales20191112-115210-002.txt | 2019-12-18 10:38:20.071525\n"
     ]
    }
   ],
   "source": [
    "df_ids_purchased_positive_in_6_weeks=pd.DataFrame()\n",
    "\n",
    "for file in list_files_POS_in_6_weeks:\n",
    "    df=pd.read_table(file,dtype=str,sep=\"|\",\n",
    "                     usecols=['customer_id_hashed','transaction_dt','item_transaction_amt'])\n",
    "    df['item_transaction_amt']=df['item_transaction_amt'].astype(float)\n",
    "    df=df.groupby(['customer_id_hashed','transaction_dt'])['item_transaction_amt'].sum().to_frame().reset_index().rename(columns={\"item_transaction_amt\":\"sales\"})\n",
    "    df=df[df['sales']>0]\n",
    "    df_ids_purchased_positive_in_6_weeks=df_ids_purchased_positive_in_6_weeks.append(df)\n",
    "    print(str(os.path.basename(file))+\" | \"+str(datetime.datetime.now()))\n",
    "    logging.info(str(os.path.basename(file))+\" | \"+str(datetime.datetime.now()))\n",
    "    \n",
    "    "
   ]
  },
  {
   "cell_type": "code",
   "execution_count": 8,
   "metadata": {
    "collapsed": true
   },
   "outputs": [],
   "source": [
    "del df_ids_purchased_positive_in_6_weeks['sales']\n",
    "df_ids_purchased_positive_in_6_weeks=df_ids_purchased_positive_in_6_weeks.sort_values(\"transaction_dt\",ascending=False).drop_duplicates(\"customer_id_hashed\")\n",
    "df_ids_purchased_positive_in_6_weeks=df_ids_purchased_positive_in_6_weeks.rename(columns={\"transaction_dt\":\"last_transaction_dt\"})"
   ]
  },
  {
   "cell_type": "code",
   "execution_count": 9,
   "metadata": {},
   "outputs": [
    {
     "data": {
      "text/html": [
       "<div>\n",
       "<style scoped>\n",
       "    .dataframe tbody tr th:only-of-type {\n",
       "        vertical-align: middle;\n",
       "    }\n",
       "\n",
       "    .dataframe tbody tr th {\n",
       "        vertical-align: top;\n",
       "    }\n",
       "\n",
       "    .dataframe thead th {\n",
       "        text-align: right;\n",
       "    }\n",
       "</style>\n",
       "<table border=\"1\" class=\"dataframe\">\n",
       "  <thead>\n",
       "    <tr style=\"text-align: right;\">\n",
       "      <th></th>\n",
       "      <th>customer_id_hashed</th>\n",
       "      <th>last_transaction_dt</th>\n",
       "    </tr>\n",
       "  </thead>\n",
       "  <tbody>\n",
       "    <tr>\n",
       "      <th>1820149</th>\n",
       "      <td>d4b39d00365542ccfb42f623236cdaafdeaa812fa6d5d6...</td>\n",
       "      <td>2019-12-14</td>\n",
       "    </tr>\n",
       "    <tr>\n",
       "      <th>1325462</th>\n",
       "      <td>9abf5f37f1969be97f51859e56d0b7711597efabbedb58...</td>\n",
       "      <td>2019-12-14</td>\n",
       "    </tr>\n",
       "  </tbody>\n",
       "</table>\n",
       "</div>"
      ],
      "text/plain": [
       "                                        customer_id_hashed last_transaction_dt\n",
       "1820149  d4b39d00365542ccfb42f623236cdaafdeaa812fa6d5d6...          2019-12-14\n",
       "1325462  9abf5f37f1969be97f51859e56d0b7711597efabbedb58...          2019-12-14"
      ]
     },
     "execution_count": 9,
     "metadata": {},
     "output_type": "execute_result"
    }
   ],
   "source": [
    "df_ids_purchased_positive_in_6_weeks.head(2)"
   ]
  },
  {
   "cell_type": "code",
   "execution_count": 10,
   "metadata": {},
   "outputs": [
    {
     "name": "stdout",
     "output_type": "stream",
     "text": [
      "date_start_4_weeks_start_Sunday 2019-11-17\n",
      "date_start_6_weeks_start_Sunday 2019-11-03\n"
     ]
    }
   ],
   "source": [
    "print(\"date_start_4_weeks_start_Sunday\", date_start_4_weeks_start_Sunday)\n",
    "print(\"date_start_6_weeks_start_Sunday\", date_start_6_weeks_start_Sunday)\n",
    "\n",
    "logging.info(\"date_start_4_weeks_start_Sunday\"+str(date_start_4_weeks_start_Sunday))\n",
    "logging.info(\"date_start_6_weeks_start_Sunday\"+str(date_start_6_weeks_start_Sunday))"
   ]
  },
  {
   "cell_type": "code",
   "execution_count": 11,
   "metadata": {},
   "outputs": [
    {
     "name": "stdout",
     "output_type": "stream",
     "text": [
      "df_ids_purchased_positive_in_6_weeks['recency_group'].unique(): ['Shopped_in_4_weeks' 'NoShopped_4-6_weeks']\n"
     ]
    }
   ],
   "source": [
    "df_ids_purchased_positive_in_6_weeks['recency_group']=np.where(df_ids_purchased_positive_in_6_weeks['last_transaction_dt']>=str(date_start_4_weeks_start_Sunday),\"Shopped_in_4_weeks\",\n",
    "                                                              np.where(df_ids_purchased_positive_in_6_weeks['last_transaction_dt']>=str(date_start_6_weeks_start_Sunday),\"NoShopped_4-6_weeks\",\"NoShopped_7+_weeks\")\n",
    "                                                              )\n",
    "print(\"df_ids_purchased_positive_in_6_weeks['recency_group'].unique(): \"+str(df_ids_purchased_positive_in_6_weeks['recency_group'].unique()))\n",
    "logging.info(\"df_ids_purchased_positive_in_6_weeks['recency_group'].unique(): \"+str(df_ids_purchased_positive_in_6_weeks['recency_group'].unique()))\n",
    "del df_ids_purchased_positive_in_6_weeks['last_transaction_dt']\n"
   ]
  },
  {
   "cell_type": "code",
   "execution_count": 12,
   "metadata": {},
   "outputs": [
    {
     "name": "stdout",
     "output_type": "stream",
     "text": [
      "df_current_test_aud['recency_group'].unique(): ['Shopped_in_4_weeks' 'NoShopped_7+_weeks' 'NoShopped_4-6_weeks']\n"
     ]
    }
   ],
   "source": [
    "df_current_test_aud=pd.merge(df_current_test_aud,df_ids_purchased_positive_in_6_weeks,on=\"customer_id_hashed\",how=\"left\")\n",
    "df_current_test_aud['recency_group']=df_current_test_aud['recency_group'].fillna(\"NoShopped_7+_weeks\")\n",
    "print(\"df_current_test_aud['recency_group'].unique(): \"+str(df_current_test_aud['recency_group'].unique()))\n",
    "logging.info(\"df_current_test_aud['recency_group'].unique(): \"+str(df_current_test_aud['recency_group'].unique()))"
   ]
  },
  {
   "cell_type": "code",
   "execution_count": 13,
   "metadata": {},
   "outputs": [
    {
     "data": {
      "text/plain": [
       "(21435770, 4)"
      ]
     },
     "execution_count": 13,
     "metadata": {},
     "output_type": "execute_result"
    }
   ],
   "source": [
    "df_current_test_aud.shape"
   ]
  },
  {
   "cell_type": "code",
   "execution_count": 14,
   "metadata": {},
   "outputs": [
    {
     "data": {
      "text/plain": [
       "(19614845, 3)"
      ]
     },
     "execution_count": 14,
     "metadata": {},
     "output_type": "execute_result"
    }
   ],
   "source": [
    "# Add the decile\n",
    "\n",
    "df_defile_file=pd.read_csv(\"/home/jian/celery/Audience_No_Shop/Quarterly_Decile_Detail/df_detail_\"+str(audience_year)+\"Q\"+str(audience_Quarter_num)+\".csv\",\n",
    "                           dtype=str,usecols=['customer_id_hashed','frmindex','zip_type']).drop_duplicates()\n",
    "df_defile_file.shape\n"
   ]
  },
  {
   "cell_type": "code",
   "execution_count": 15,
   "metadata": {},
   "outputs": [
    {
     "name": "stdout",
     "output_type": "stream",
     "text": [
      "decile_details read done: 2019-12-18 10:45:08.661103\n"
     ]
    }
   ],
   "source": [
    "print(\"decile_details read done: \"+str(datetime.datetime.now()))\n",
    "logging.info(\"decile_details read done: \"+str(datetime.datetime.now()))"
   ]
  },
  {
   "cell_type": "code",
   "execution_count": 16,
   "metadata": {},
   "outputs": [
    {
     "name": "stdout",
     "output_type": "stream",
     "text": [
      "decile_details merged into audience: 2019-12-18 10:46:33.221964\n"
     ]
    },
    {
     "data": {
      "text/plain": [
       "(21435770, 6)"
      ]
     },
     "execution_count": 16,
     "metadata": {},
     "output_type": "execute_result"
    }
   ],
   "source": [
    "df_current_test_aud=pd.merge(df_current_test_aud,df_defile_file,on=\"customer_id_hashed\",how=\"left\")\n",
    "\n",
    "print(\"decile_details merged into audience: \"+str(datetime.datetime.now()))\n",
    "logging.info(\"decile_details merged into audience: \"+str(datetime.datetime.now()))\n",
    "\n",
    "df_current_test_aud.shape\n"
   ]
  },
  {
   "cell_type": "code",
   "execution_count": 17,
   "metadata": {
    "collapsed": true
   },
   "outputs": [],
   "source": [
    "writer_folder_quarter=\"/home/jian/celery/Audience_No_Shop/output_no_shopping/Q\"+str(audience_Quarter_num)+\"_\"+str(audience_year)+\"/\"\n",
    "\n",
    "try:\n",
    "    os.stat(writer_folder_quarter)\n",
    "except:\n",
    "    os.mkdir(writer_folder_quarter)\n",
    "    \n",
    "writer_folder_week=writer_folder_quarter+\"output_\"+str(last_sturday)+\"/\"\n",
    "\n",
    "try:\n",
    "    os.stat(writer_folder_week)\n",
    "except:\n",
    "    os.mkdir(writer_folder_week)"
   ]
  },
  {
   "cell_type": "code",
   "execution_count": 18,
   "metadata": {},
   "outputs": [
    {
     "name": "stdout",
     "output_type": "stream",
     "text": [
      "(21435770, 6) 21435770\n"
     ]
    }
   ],
   "source": [
    "print(df_current_test_aud.shape,df_current_test_aud['customer_id_hashed'].nunique())\n",
    "logging.info(str(df_current_test_aud.shape)+str(df_current_test_aud['customer_id_hashed'].nunique()))"
   ]
  },
  {
   "cell_type": "code",
   "execution_count": 19,
   "metadata": {
    "collapsed": true
   },
   "outputs": [],
   "source": [
    "df_summary=df_current_test_aud.groupby(['zip_type',\"frmindex\",'recency_group'])['customer_id_hashed'].nunique().to_frame().reset_index()\n",
    "df_summary=df_summary.pivot_table(index=['zip_type',\"frmindex\"],columns=\"recency_group\",values='customer_id_hashed').reset_index()"
   ]
  },
  {
   "cell_type": "code",
   "execution_count": 20,
   "metadata": {},
   "outputs": [
    {
     "name": "stdout",
     "output_type": "stream",
     "text": [
      "(17390027, 6)\n",
      "['NoShopped_7+_weeks' 'NoShopped_4-6_weeks']\n",
      "['D01' 'D02' 'D03' 'D04' 'D08' 'D09' 'D10' 'D05' 'D06' 'D07' nan]\n",
      "['P' 'S' nan]\n"
     ]
    }
   ],
   "source": [
    "df_output=df_current_test_aud[df_current_test_aud['recency_group']!='Shopped_in_4_weeks']\n",
    "\n",
    "print(df_output.shape)\n",
    "print(df_output['recency_group'].unique())\n",
    "print(df_output['frmindex'].unique())\n",
    "print(df_output['zip_type'].unique())\n",
    "\n",
    "logging.info(str(df_output.shape))\n",
    "logging.info(str(df_output['recency_group'].unique()))\n",
    "logging.info(str(df_output['frmindex'].unique()))\n",
    "logging.info(str(df_output['zip_type'].unique()))"
   ]
  },
  {
   "cell_type": "code",
   "execution_count": 21,
   "metadata": {},
   "outputs": [
    {
     "data": {
      "text/plain": [
       "array([nan], dtype=object)"
      ]
     },
     "execution_count": 21,
     "metadata": {},
     "output_type": "execute_result"
    }
   ],
   "source": [
    "df_output[pd.isnull(df_output['zip_type'])]['frmindex'].unique()"
   ]
  },
  {
   "cell_type": "code",
   "execution_count": 22,
   "metadata": {
    "collapsed": true
   },
   "outputs": [],
   "source": [
    "count_audience_total=df_defile_file.groupby([\"frmindex\",\"zip_type\"])['customer_id_hashed'].count().to_frame().reset_index()\n",
    "df_summary=pd.merge(count_audience_total,df_summary,on=[\"frmindex\",\"zip_type\"],how=\"outer\")\n",
    "\n",
    "df_summary=df_summary[df_summary['zip_type']!=\"T\"]\n",
    "df_summary=df_summary.fillna(0)\n",
    "df_summary=df_summary[['frmindex','zip_type','customer_id_hashed','Shopped_in_4_weeks','NoShopped_4-6_weeks','NoShopped_7+_weeks']]\n",
    "df_summary.to_csv(writer_folder_week+\"BL_summary_by_decile_zip_uploaded_audience_\"+str(last_sturday)+\"_JL_\"+str(datetime.datetime.now().date())+\".csv\",index=False)"
   ]
  },
  {
   "cell_type": "code",
   "execution_count": 23,
   "metadata": {},
   "outputs": [
    {
     "data": {
      "text/plain": [
       "(21435770, 6)"
      ]
     },
     "execution_count": 23,
     "metadata": {},
     "output_type": "execute_result"
    }
   ],
   "source": [
    "df_current_test_aud.shape"
   ]
  },
  {
   "cell_type": "code",
   "execution_count": 24,
   "metadata": {},
   "outputs": [
    {
     "data": {
      "text/plain": [
       "(17390027, 6)"
      ]
     },
     "execution_count": 24,
     "metadata": {},
     "output_type": "execute_result"
    }
   ],
   "source": [
    "df_output.shape"
   ]
  },
  {
   "cell_type": "code",
   "execution_count": 25,
   "metadata": {},
   "outputs": [
    {
     "name": "stdout",
     "output_type": "stream",
     "text": [
      "local files saved: 2019-12-18 10:54:35.823512\n"
     ]
    }
   ],
   "source": [
    "df_current_test_aud.to_csv(writer_folder_week+\"/BL_df_all_uploaded_audience_\"+str(last_sturday)+\"_JL_\"+str(datetime.datetime.now().date())+\".csv\",index=False)\n",
    "df_output.to_csv(writer_folder_week+\"/BL_df_no_shop_uploaded_audience_\"+str(last_sturday)+\"_JL_\"+str(datetime.datetime.now().date())+\".csv\",index=False)\n",
    "\n",
    "print(\"local files saved: \"+str(datetime.datetime.now()))\n",
    "logging.info(\"local files saved: \"+str(datetime.datetime.now()))"
   ]
  },
  {
   "cell_type": "markdown",
   "metadata": {},
   "source": [
    "# tranfer to 64 for SP"
   ]
  },
  {
   "cell_type": "code",
   "execution_count": 26,
   "metadata": {
    "collapsed": true
   },
   "outputs": [],
   "source": [
    "import paramiko\n",
    "\n",
    "host = \"64.237.51.251\" #hard-coded\n",
    "port = 22\n",
    "transport = paramiko.Transport((host, port))\n",
    "\n",
    "password = \"jian@juba2017\" #hard-coded\n",
    "username = \"jian\" #hard-coded\n",
    "transport.connect(username = username, password = password)\n",
    "sftp = paramiko.SFTPClient.from_transport(transport)"
   ]
  },
  {
   "cell_type": "code",
   "execution_count": 27,
   "metadata": {
    "collapsed": true
   },
   "outputs": [],
   "source": [
    "remote_folder=\"/mnt/drv5/lr_biglots_data/Audience_NoShopping/output_\"+str(last_sturday)+\"/\"\n",
    "\n",
    "try:\n",
    "    sftp.listdir(remote_folder)\n",
    "except:\n",
    "    sftp.mkdir(remote_folder)"
   ]
  },
  {
   "cell_type": "code",
   "execution_count": 28,
   "metadata": {},
   "outputs": [
    {
     "name": "stdout",
     "output_type": "stream",
     "text": [
      "transfered to 64: 2019-12-18 11:10:57.245323\n"
     ]
    }
   ],
   "source": [
    "local_file_list=glob.glob(writer_folder_week+\"*.csv\")\n",
    "local_file_list=[x for x in local_file_list if \"BL_df_all_uploaded_audience\" not in x]\n",
    "for local_file in local_file_list:\n",
    "    sftp.put(local_file,remote_folder+os.path.basename(local_file))\n",
    "sftp.close()\n",
    "transport.close()\n",
    "\n",
    "\n",
    "print(\"transfered to 64: \"+str(datetime.datetime.now()))\n",
    "logging.info(\"transfered to 64: \"+str(datetime.datetime.now()))"
   ]
  },
  {
   "cell_type": "code",
   "execution_count": 29,
   "metadata": {},
   "outputs": [
    {
     "data": {
      "text/plain": [
       "['./output_no_shopping/Q4_2019/output_2019-12-14/BL_summary_by_decile_zip_uploaded_audience_2019-12-14_JL_2019-12-18.csv',\n",
       " './output_no_shopping/Q4_2019/output_2019-12-14/BL_df_no_shop_uploaded_audience_2019-12-14_JL_2019-12-18.csv']"
      ]
     },
     "execution_count": 29,
     "metadata": {},
     "output_type": "execute_result"
    }
   ],
   "source": [
    "local_file_list"
   ]
  },
  {
   "cell_type": "code",
   "execution_count": null,
   "metadata": {
    "collapsed": true
   },
   "outputs": [],
   "source": []
  }
 ],
 "metadata": {
  "kernelspec": {
   "display_name": "Python 3",
   "language": "python",
   "name": "python3"
  },
  "language_info": {
   "codemirror_mode": {
    "name": "ipython",
    "version": 3
   },
   "file_extension": ".py",
   "mimetype": "text/x-python",
   "name": "python",
   "nbconvert_exporter": "python",
   "pygments_lexer": "ipython3",
   "version": "3.6.1"
  }
 },
 "nbformat": 4,
 "nbformat_minor": 2
}
