{
 "cells": [
  {
   "cell_type": "code",
   "execution_count": 17,
   "metadata": {
    "collapsed": true
   },
   "outputs": [],
   "source": [
    "import pandas as pd\n",
    "import numpy as np\n",
    "import datetime\n",
    "import os\n",
    "# Add the new folders of Jian later"
   ]
  },
  {
   "cell_type": "code",
   "execution_count": 18,
   "metadata": {
    "collapsed": true
   },
   "outputs": [],
   "source": [
    "def recursive_file_gen(my_root_dir):\n",
    "    for root, dirs, files in os.walk(my_root_dir):\n",
    "        for file in files:\n",
    "            yield os.path.join(root, file)\n",
    "            \n",
    "last_saturday=datetime.datetime.now().date()-datetime.timedelta(days=datetime.datetime.now().date().weekday()+2)\n",
    "\n",
    "write_folder=\"/home/jian/celery/Append_to_celery_LiveRamp/monthly_update/output_\"+str(last_saturday)+\"/\"\n",
    "try:\n",
    "    os.stat(write_folder)\n",
    "except:\n",
    "    os.mkdir(write_folder)\n",
    "\n",
    "week_beginning=last_saturday-datetime.timedelta(days=14) # To be changed to 14\n",
    "\n",
    "recent_2_weeks=[last_saturday-datetime.timedelta(days=x*7) for x in range(2)]"
   ]
  },
  {
   "cell_type": "code",
   "execution_count": 19,
   "metadata": {},
   "outputs": [
    {
     "name": "stdout",
     "output_type": "stream",
     "text": [
      "2\n"
     ]
    }
   ],
   "source": [
    "# Checking for the recent weeks that haven't moved to the folder\n",
    "possible_recent_folders=[\"/home/jian/BigLots/MediaStorm_\"+str(x)+\"/\" for x in recent_2_weeks]\n",
    "recent_file_list=[]\n",
    "for dirc in possible_recent_folders:\n",
    "    list_recent=[x for x in list(recursive_file_gen(dirc)) if (\"Master\" in x) & (\".txt\" in x) ]\n",
    "    recent_file_list=recent_file_list+list_recent\n",
    "recent_file_df=pd.DataFrame({\"path\":recent_file_list,\"date\":[datetime.datetime.strptime(x.split(\"MasterWeekly\")[1][:8],\"%Y%m%d\").date()-datetime.timedelta(days=3) for x in recent_file_list]},index=[x for x in range(len(recent_file_list))])\n",
    "\n",
    "\n",
    "list_1_after_201806=[x for x in list(recursive_file_gen(\"/home/jian/BigLots/2019_by_weeks/\")) if (\"Master\" in x) & (\".txt\" in x) ]\n",
    "folder_date=[datetime.datetime.strptime(x.split(\"/\")[len(x.split(\"/\"))-2].split(\"_\")[1],\"%Y-%m-%d\").date() for x in list_1_after_201806]\n",
    "df_1_after_201806=pd.DataFrame({\"date\":folder_date,\"path\":list_1_after_201806},index=[x for x in range(len(list_1_after_201806))])\n",
    "df_1_after_201806['date'].apply(lambda x: x.weekday()).unique()\n",
    "df_1_after_201806=df_1_after_201806.sort_values(\"date\").reset_index()\n",
    "df_1_after_201806=df_1_after_201806[df_1_after_201806['date']>week_beginning]\n",
    "del df_1_after_201806['index']\n",
    "\n",
    "new_2_biweekly_files=df_1_after_201806.append(recent_file_df)\n",
    "\n",
    "print(len(new_2_biweekly_files))\n",
    "new_2_biweekly_files=new_2_biweekly_files['path'].unique().tolist()"
   ]
  },
  {
   "cell_type": "code",
   "execution_count": 20,
   "metadata": {},
   "outputs": [
    {
     "data": {
      "text/plain": [
       "['/home/jian/BigLots/2019_by_weeks/MediaStorm_2019-05-25/MediaStormMasterWeekly20190528-111239-184.txt',\n",
       " '/home/jian/BigLots/2019_by_weeks/MediaStorm_2019-06-01/MediaStormMasterWeekly20190604-112021-067.txt']"
      ]
     },
     "execution_count": 20,
     "metadata": {},
     "output_type": "execute_result"
    }
   ],
   "source": [
    "new_2_biweekly_files"
   ]
  },
  {
   "cell_type": "code",
   "execution_count": 21,
   "metadata": {},
   "outputs": [
    {
     "name": "stdout",
     "output_type": "stream",
     "text": [
      "172561\n",
      "172559\n"
     ]
    }
   ],
   "source": [
    "if len(new_2_biweekly_files)==2: # Changed to weekly\n",
    "    df_all_new_master = pd.DataFrame()\n",
    "    for file in new_2_biweekly_files:\n",
    "        df = pd.read_csv(file,nrows = None,sep= '|',usecols = ['customer_id_hashed','email_address_hash','customer_zip_code'],\n",
    "                         dtype =str)\n",
    "        df_all_new_master = df_all_new_master.append(df,ignore_index = True)\n",
    "    print(len(df_all_new_master.index))\n",
    "    df_all_new_master = df_all_new_master.drop_duplicates('email_address_hash')\n",
    "    print(len(df_all_new_master.index))"
   ]
  },
  {
   "cell_type": "code",
   "execution_count": 22,
   "metadata": {},
   "outputs": [
    {
     "name": "stdout",
     "output_type": "stream",
     "text": [
      "72\n"
     ]
    }
   ],
   "source": [
    "# Remove previous week ids\n",
    "\n",
    "previous_id_files_lists=list(recursive_file_gen(\"/home/jian/Projects/Big_Lots/Live_Ramp/Quarterly_Update_2019Q1/crm_newscore_20190107/by_group_quadrant_24/\"))\n",
    "\n",
    "# previous_id_files_lists=[x for x in previous_id_files_lists if \"Copy of 48 Stores_727.csv\" not in x]\n",
    "previous_id_files_lists=[x for x in previous_id_files_lists if \".csv\" in x]\n",
    "print(len(previous_id_files_lists))"
   ]
  },
  {
   "cell_type": "code",
   "execution_count": 23,
   "metadata": {
    "collapsed": true
   },
   "outputs": [],
   "source": [
    "import glob\n",
    "uploaded_new_seg=list(recursive_file_gen(\"/home/jian/celery/Append_to_celery_LiveRamp/monthly_update/\"))\n",
    "uploaded_new_seg=[x for x in uploaded_new_seg if \".csv\" in x]\n",
    "\n",
    "previous_id_files_lists=previous_id_files_lists+uploaded_new_seg"
   ]
  },
  {
   "cell_type": "code",
   "execution_count": 24,
   "metadata": {},
   "outputs": [],
   "source": [
    "previous_id_files_lists # =[x for x in previous_id_files_lists if \"output_2019-06-01\" not in x]"
   ]
  },
  {
   "cell_type": "code",
   "execution_count": 25,
   "metadata": {},
   "outputs": [
    {
     "name": "stdout",
     "output_type": "stream",
     "text": [
      "2019-06-05 15:18:22.130470 172557\n",
      "2019-06-05 15:18:23.732996 172554\n",
      "2019-06-05 15:18:24.297782 172554\n",
      "2019-06-05 15:18:24.979840 172553\n",
      "2019-06-05 15:18:25.551462 172552\n",
      "2019-06-05 15:18:25.674601 172552\n",
      "2019-06-05 15:18:25.769206 172552\n",
      "2019-06-05 15:18:25.809702 172552\n",
      "2019-06-05 15:18:25.845302 172552\n",
      "2019-06-05 15:18:25.884496 172552\n",
      "2019-06-05 15:18:25.972871 172552\n",
      "2019-06-05 15:18:26.065758 172552\n",
      "2019-06-05 15:18:26.114172 172552\n",
      "2019-06-05 15:18:26.153370 172552\n",
      "2019-06-05 15:18:26.192929 172552\n",
      "2019-06-05 15:18:26.225282 172552\n",
      "2019-06-05 15:18:26.298866 172551\n",
      "2019-06-05 15:18:26.361391 172551\n",
      "2019-06-05 15:18:26.398500 172551\n",
      "2019-06-05 15:18:26.443312 172551\n",
      "2019-06-05 15:18:26.480958 172551\n",
      "2019-06-05 15:18:26.683036 172551\n",
      "2019-06-05 15:18:26.836922 172551\n",
      "2019-06-05 15:18:26.890830 172551\n",
      "2019-06-05 15:18:26.947525 172551\n",
      "2019-06-05 15:18:26.986167 172551\n",
      "2019-06-05 15:18:30.135097 172547\n",
      "2019-06-05 15:18:31.632195 172545\n",
      "2019-06-05 15:18:34.486015 172544\n",
      "2019-06-05 15:18:35.306307 172543\n",
      "2019-06-05 15:18:35.677051 172543\n",
      "2019-06-05 15:18:36.363400 172543\n",
      "2019-06-05 15:18:36.712243 172543\n",
      "2019-06-05 15:18:37.079812 172543\n",
      "2019-06-05 15:18:37.453842 172542\n",
      "2019-06-05 15:18:40.233174 172540\n",
      "2019-06-05 15:18:41.041051 172539\n",
      "2019-06-05 15:18:42.928365 172538\n",
      "2019-06-05 15:18:43.447902 172538\n",
      "2019-06-05 15:18:43.622900 172538\n",
      "2019-06-05 15:18:43.968710 172538\n",
      "2019-06-05 15:18:44.193188 172538\n",
      "2019-06-05 15:18:44.285743 172538\n",
      "2019-06-05 15:18:44.456206 172538\n",
      "2019-06-05 15:18:48.791536 172533\n",
      "2019-06-05 15:18:50.135418 172533\n",
      "2019-06-05 15:18:53.119610 172528\n",
      "2019-06-05 15:18:54.312336 172526\n",
      "2019-06-05 15:18:54.706640 172526\n",
      "2019-06-05 15:18:55.510792 172525\n",
      "2019-06-05 15:18:55.975240 172525\n",
      "2019-06-05 15:18:56.149901 172525\n",
      "2019-06-05 15:18:56.495554 172524\n",
      "2019-06-05 15:19:04.257429 172519\n",
      "2019-06-05 15:19:10.202991 172517\n",
      "2019-06-05 15:19:11.736525 172516\n",
      "2019-06-05 15:19:12.010016 172515\n",
      "2019-06-05 15:19:12.079075 172515\n",
      "2019-06-05 15:19:12.128588 172515\n",
      "2019-06-05 15:19:12.173811 172515\n",
      "2019-06-05 15:19:12.214079 172515\n",
      "2019-06-05 15:19:12.261343 172515\n",
      "2019-06-05 15:19:12.293148 172515\n",
      "2019-06-05 15:19:12.331220 172515\n",
      "2019-06-05 15:19:12.469173 172515\n",
      "2019-06-05 15:19:12.568535 172515\n",
      "2019-06-05 15:19:12.622840 172515\n",
      "2019-06-05 15:19:12.654623 172515\n",
      "2019-06-05 15:19:12.736619 172515\n",
      "2019-06-05 15:19:12.803058 172515\n",
      "2019-06-05 15:19:12.850273 172515\n",
      "2019-06-05 15:19:12.902973 172515\n",
      "2019-06-05 15:19:13.675621 172515\n",
      "2019-06-05 15:19:13.945324 172515\n",
      "2019-06-05 15:19:14.102622 172515\n",
      "2019-06-05 15:19:14.731899 172515\n",
      "2019-06-05 15:19:14.915085 172515\n",
      "2019-06-05 15:19:15.021424 172515\n",
      "2019-06-05 15:19:15.581785 172515\n",
      "2019-06-05 15:19:15.751244 172515\n",
      "2019-06-05 15:19:15.846256 172515\n",
      "2019-06-05 15:19:16.480010 172515\n",
      "2019-06-05 15:19:16.674852 172515\n",
      "2019-06-05 15:19:16.780125 172515\n",
      "2019-06-05 15:19:17.139598 172515\n",
      "2019-06-05 15:19:17.263906 172515\n",
      "2019-06-05 15:19:17.344983 172515\n",
      "2019-06-05 15:19:17.620305 172515\n",
      "2019-06-05 15:19:17.712134 172515\n",
      "2019-06-05 15:19:17.774160 172515\n",
      "2019-06-05 15:19:18.060339 172515\n",
      "2019-06-05 15:19:18.157771 172515\n",
      "2019-06-05 15:19:18.224214 172515\n",
      "2019-06-05 15:19:18.502693 172515\n",
      "2019-06-05 15:19:18.598455 172515\n",
      "2019-06-05 15:19:18.658629 172515\n"
     ]
    }
   ],
   "source": [
    "for file_uploaded in previous_id_files_lists:\n",
    "    df = pd.read_csv(file_uploaded,usecols = ['email_address_hash'])\n",
    "    previous_email_set=set(df['email_address_hash'].tolist())\n",
    "    df_all_new_master = df_all_new_master[~df_all_new_master['email_address_hash'].isin(previous_email_set)]\n",
    "    print(datetime.datetime.now(),len(df_all_new_master.index))"
   ]
  },
  {
   "cell_type": "code",
   "execution_count": 26,
   "metadata": {},
   "outputs": [
    {
     "name": "stdout",
     "output_type": "stream",
     "text": [
      "172515\n"
     ]
    }
   ],
   "source": [
    "df_all_new_master = df_all_new_master.drop_duplicates('email_address_hash')\n",
    "df_all_new_master = df_all_new_master.drop_duplicates('customer_id_hashed')\n",
    "print(len(df_all_new_master.index))"
   ]
  },
  {
   "cell_type": "code",
   "execution_count": 27,
   "metadata": {},
   "outputs": [
    {
     "name": "stdout",
     "output_type": "stream",
     "text": [
      "['S' 'P' 'T' nan]\n",
      "['S' 'P' 'T']\n",
      "P 123722\n",
      "S 31463\n",
      "T 17330\n"
     ]
    }
   ],
   "source": [
    "zipmap = pd.read_csv('/home/jian/Projects/Big_Lots/New_TA/zips_in_new_ta/zip_with_ta_dma.csv',dtype = 'str')\n",
    "zipmap['zipcodegroup'] = zipmap['revenue_flag']\n",
    "zipmap = zipmap[['zip','zipcodegroup']].drop_duplicates('zip')\n",
    "zipmap.columns = ['customer_zip_code','zipcodegroup']\n",
    "df_all_new_master = pd.merge(df_all_new_master,zipmap,on ='customer_zip_code',how = 'left' )\n",
    "print(df_all_new_master['zipcodegroup'].unique())\n",
    "df_all_new_master['zipcodegroup'].fillna('T',inplace = True)\n",
    "print(df_all_new_master['zipcodegroup'].unique())\n",
    "\n",
    "last_saturday_str=\"_\"+str(last_saturday).split(\"-\")[1]+str(last_saturday).split(\"-\")[2]+str(last_saturday).split(\"-\")[0][2:]+\"_\"\n",
    "\n",
    "for revenue_flag in ['P','S','T']:\n",
    "    df = df_all_new_master[df_all_new_master['zipcodegroup']==revenue_flag]\n",
    "    df = df[['customer_id_hashed','email_address_hash','customer_zip_code']]\n",
    "    df['segment'] = 'NewReward' + last_saturday_str + revenue_flag\n",
    "    print(revenue_flag,len(df.index))\n",
    "    df.to_csv(write_folder+'NewReward_'+str(last_saturday)+'_'+revenue_flag+'.csv',index = False)\n",
    "# To be uploaded to lr-big-lots uploads/big_lots_onboarding"
   ]
  },
  {
   "cell_type": "code",
   "execution_count": 28,
   "metadata": {},
   "outputs": [
    {
     "data": {
      "text/html": [
       "<div>\n",
       "<style>\n",
       "    .dataframe thead tr:only-child th {\n",
       "        text-align: right;\n",
       "    }\n",
       "\n",
       "    .dataframe thead th {\n",
       "        text-align: left;\n",
       "    }\n",
       "\n",
       "    .dataframe tbody tr th {\n",
       "        vertical-align: top;\n",
       "    }\n",
       "</style>\n",
       "<table border=\"1\" class=\"dataframe\">\n",
       "  <thead>\n",
       "    <tr style=\"text-align: right;\">\n",
       "      <th></th>\n",
       "      <th>zipcodegroup</th>\n",
       "      <th>email_address_hash</th>\n",
       "    </tr>\n",
       "  </thead>\n",
       "  <tbody>\n",
       "    <tr>\n",
       "      <th>0</th>\n",
       "      <td>P</td>\n",
       "      <td>123722</td>\n",
       "    </tr>\n",
       "    <tr>\n",
       "      <th>1</th>\n",
       "      <td>S</td>\n",
       "      <td>31463</td>\n",
       "    </tr>\n",
       "    <tr>\n",
       "      <th>2</th>\n",
       "      <td>T</td>\n",
       "      <td>17330</td>\n",
       "    </tr>\n",
       "  </tbody>\n",
       "</table>\n",
       "</div>"
      ],
      "text/plain": [
       "  zipcodegroup  email_address_hash\n",
       "0            P              123722\n",
       "1            S               31463\n",
       "2            T               17330"
      ]
     },
     "execution_count": 28,
     "metadata": {},
     "output_type": "execute_result"
    }
   ],
   "source": [
    "df_all_new_master.groupby(['zipcodegroup'])['email_address_hash'].count().to_frame().reset_index()"
   ]
  },
  {
   "cell_type": "code",
   "execution_count": null,
   "metadata": {
    "collapsed": true
   },
   "outputs": [],
   "source": []
  },
  {
   "cell_type": "code",
   "execution_count": 15,
   "metadata": {
    "collapsed": true
   },
   "outputs": [],
   "source": [
    "import paramiko\n",
    "import glob\n",
    "\n",
    "host = \"files.liveramp.com\"\n",
    "port = 22\n",
    "password = \"Biglots2018!\"\n",
    "username = \"lr-big-lots\"\n",
    "\n",
    "transport = paramiko.Transport((host, port))\n",
    "\n",
    "transport.connect(username = username, password = password)\n",
    "sftp = paramiko.SFTPClient.from_transport(transport)\n",
    "\n",
    "# local_path defined above before saving the local txt\n",
    "local_list=glob.glob(write_folder+\"*.csv\")\n",
    "local_list=[x for x in local_list if 'NewReward_'+str(last_saturday)+'_' in x]\n",
    "\n",
    "for local_path in local_list:\n",
    "    remote_path=\"/uploads/big_lots_onboarding/\"+os.path.basename(local_path)\n",
    "    sftp.put(local_path,remote_path)\n",
    "sftp.close()\n"
   ]
  },
  {
   "cell_type": "code",
   "execution_count": null,
   "metadata": {
    "collapsed": true
   },
   "outputs": [],
   "source": []
  }
 ],
 "metadata": {
  "kernelspec": {
   "display_name": "Python 3",
   "language": "python",
   "name": "python3"
  },
  "language_info": {
   "codemirror_mode": {
    "name": "ipython",
    "version": 3
   },
   "file_extension": ".py",
   "mimetype": "text/x-python",
   "name": "python",
   "nbconvert_exporter": "python",
   "pygments_lexer": "ipython3",
   "version": "3.6.1"
  }
 },
 "nbformat": 4,
 "nbformat_minor": 2
}
