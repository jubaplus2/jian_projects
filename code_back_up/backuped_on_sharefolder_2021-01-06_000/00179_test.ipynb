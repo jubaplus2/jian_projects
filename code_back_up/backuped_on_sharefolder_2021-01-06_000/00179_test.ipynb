{
 "cells": [
  {
   "cell_type": "code",
   "execution_count": 1,
   "metadata": {},
   "outputs": [
    {
     "data": {
      "text/plain": [
       "'/home/jian/BigLots/MediaStorm_2019-05-04'"
      ]
     },
     "execution_count": 1,
     "metadata": {},
     "output_type": "execute_result"
    }
   ],
   "source": [
    "import pandas as pd\n",
    "import datetime\n",
    "import os\n",
    "os.getcwd()\n"
   ]
  },
  {
   "cell_type": "code",
   "execution_count": 20,
   "metadata": {},
   "outputs": [
    {
     "data": {
      "text/html": [
       "<div>\n",
       "<style>\n",
       "    .dataframe thead tr:only-child th {\n",
       "        text-align: right;\n",
       "    }\n",
       "\n",
       "    .dataframe thead th {\n",
       "        text-align: left;\n",
       "    }\n",
       "\n",
       "    .dataframe tbody tr th {\n",
       "        vertical-align: top;\n",
       "    }\n",
       "</style>\n",
       "<table border=\"1\" class=\"dataframe\">\n",
       "  <thead>\n",
       "    <tr style=\"text-align: right;\">\n",
       "      <th></th>\n",
       "      <th>location_id</th>\n",
       "      <th>transaction_dt</th>\n",
       "      <th>transaction_id</th>\n",
       "      <th>customer_id_hashed</th>\n",
       "      <th>class_code_id</th>\n",
       "      <th>subclass_id</th>\n",
       "      <th>item_id</th>\n",
       "      <th>item_transaction_units</th>\n",
       "      <th>item_transaction_amt</th>\n",
       "    </tr>\n",
       "  </thead>\n",
       "  <tbody>\n",
       "    <tr>\n",
       "      <th>0</th>\n",
       "      <td>1671</td>\n",
       "      <td>2019-05-01</td>\n",
       "      <td>4114</td>\n",
       "      <td>c044127f7b4f5ce0e494f0200b97be309851269783476b...</td>\n",
       "      <td>61002</td>\n",
       "      <td>2</td>\n",
       "      <td>810231217</td>\n",
       "      <td>1</td>\n",
       "      <td>00000000000049.9900</td>\n",
       "    </tr>\n",
       "    <tr>\n",
       "      <th>1</th>\n",
       "      <td>5281</td>\n",
       "      <td>2019-05-01</td>\n",
       "      <td>8748</td>\n",
       "      <td>NaN</td>\n",
       "      <td>12012</td>\n",
       "      <td>12</td>\n",
       "      <td>810184344</td>\n",
       "      <td>1</td>\n",
       "      <td>00000000000001.5000</td>\n",
       "    </tr>\n",
       "  </tbody>\n",
       "</table>\n",
       "</div>"
      ],
      "text/plain": [
       "  location_id transaction_dt transaction_id  \\\n",
       "0        1671     2019-05-01           4114   \n",
       "1        5281     2019-05-01           8748   \n",
       "\n",
       "                                  customer_id_hashed class_code_id  \\\n",
       "0  c044127f7b4f5ce0e494f0200b97be309851269783476b...         61002   \n",
       "1                                                NaN         12012   \n",
       "\n",
       "  subclass_id    item_id item_transaction_units  item_transaction_amt  \n",
       "0           2  810231217                      1   00000000000049.9900  \n",
       "1          12  810184344                      1   00000000000001.5000  "
      ]
     },
     "execution_count": 20,
     "metadata": {},
     "output_type": "execute_result"
    }
   ],
   "source": [
    "daily_1124.head(2)"
   ]
  },
  {
   "cell_type": "code",
   "execution_count": 23,
   "metadata": {},
   "outputs": [
    {
     "name": "stdout",
     "output_type": "stream",
     "text": [
      "27491095.89\n"
     ]
    }
   ],
   "source": [
    "daily_1124=pd.read_csv(\"./MediaStormDailySales20190507-112411-800.txt\",dtype=str,sep=\"|\")\n",
    "daily_1124['item_transaction_amt']=daily_1124['item_transaction_amt'].astype(float)\n",
    "\n",
    "print(daily_1124['item_transaction_amt'].sum())\n"
   ]
  },
  {
   "cell_type": "code",
   "execution_count": 24,
   "metadata": {},
   "outputs": [
    {
     "data": {
      "text/html": [
       "<div>\n",
       "<style>\n",
       "    .dataframe thead tr:only-child th {\n",
       "        text-align: right;\n",
       "    }\n",
       "\n",
       "    .dataframe thead th {\n",
       "        text-align: left;\n",
       "    }\n",
       "\n",
       "    .dataframe tbody tr th {\n",
       "        vertical-align: top;\n",
       "    }\n",
       "</style>\n",
       "<table border=\"1\" class=\"dataframe\">\n",
       "  <thead>\n",
       "    <tr style=\"text-align: right;\">\n",
       "      <th></th>\n",
       "      <th>location_id</th>\n",
       "      <th>transaction_dt</th>\n",
       "      <th>transaction_id</th>\n",
       "      <th>customer_id_hashed</th>\n",
       "      <th>class_code_id</th>\n",
       "      <th>subclass_id</th>\n",
       "      <th>item_id</th>\n",
       "      <th>item_transaction_units</th>\n",
       "      <th>item_transaction_amt</th>\n",
       "    </tr>\n",
       "  </thead>\n",
       "  <tbody>\n",
       "    <tr>\n",
       "      <th>3413444</th>\n",
       "      <td>4282</td>\n",
       "      <td>2019-05-04</td>\n",
       "      <td>4860</td>\n",
       "      <td>NaN</td>\n",
       "      <td>17002</td>\n",
       "      <td>2</td>\n",
       "      <td>810349991</td>\n",
       "      <td>2</td>\n",
       "      <td>8.0</td>\n",
       "    </tr>\n",
       "    <tr>\n",
       "      <th>3413445</th>\n",
       "      <td>1797</td>\n",
       "      <td>2019-05-02</td>\n",
       "      <td>4956</td>\n",
       "      <td>21fb5d8240708b5819157e1125ffd6f171b1a2cb7a8990...</td>\n",
       "      <td>35046</td>\n",
       "      <td>3</td>\n",
       "      <td>810303866</td>\n",
       "      <td>2</td>\n",
       "      <td>7.0</td>\n",
       "    </tr>\n",
       "    <tr>\n",
       "      <th>3413446</th>\n",
       "      <td>5102</td>\n",
       "      <td>2019-05-01</td>\n",
       "      <td>694</td>\n",
       "      <td>NaN</td>\n",
       "      <td>15002</td>\n",
       "      <td>2</td>\n",
       "      <td>810229229</td>\n",
       "      <td>1</td>\n",
       "      <td>6.0</td>\n",
       "    </tr>\n",
       "    <tr>\n",
       "      <th>3413447</th>\n",
       "      <td>1848</td>\n",
       "      <td>2019-05-03</td>\n",
       "      <td>6379</td>\n",
       "      <td>e0f33f56163c374591cad7d078f9edc5efc36b53138135...</td>\n",
       "      <td>11008</td>\n",
       "      <td>15</td>\n",
       "      <td>810395157</td>\n",
       "      <td>1</td>\n",
       "      <td>1.9</td>\n",
       "    </tr>\n",
       "    <tr>\n",
       "      <th>3413448</th>\n",
       "      <td>5227</td>\n",
       "      <td>2019-05-03</td>\n",
       "      <td>1818</td>\n",
       "      <td>c</td>\n",
       "      <td>NaN</td>\n",
       "      <td>NaN</td>\n",
       "      <td>NaN</td>\n",
       "      <td>NaN</td>\n",
       "      <td>NaN</td>\n",
       "    </tr>\n",
       "  </tbody>\n",
       "</table>\n",
       "</div>"
      ],
      "text/plain": [
       "        location_id transaction_dt transaction_id  \\\n",
       "3413444        4282     2019-05-04           4860   \n",
       "3413445        1797     2019-05-02           4956   \n",
       "3413446        5102     2019-05-01            694   \n",
       "3413447        1848     2019-05-03           6379   \n",
       "3413448        5227     2019-05-03           1818   \n",
       "\n",
       "                                        customer_id_hashed class_code_id  \\\n",
       "3413444                                                NaN         17002   \n",
       "3413445  21fb5d8240708b5819157e1125ffd6f171b1a2cb7a8990...         35046   \n",
       "3413446                                                NaN         15002   \n",
       "3413447  e0f33f56163c374591cad7d078f9edc5efc36b53138135...         11008   \n",
       "3413448                                                  c           NaN   \n",
       "\n",
       "        subclass_id    item_id item_transaction_units  item_transaction_amt  \n",
       "3413444           2  810349991                      2                   8.0  \n",
       "3413445           3  810303866                      2                   7.0  \n",
       "3413446           2  810229229                      1                   6.0  \n",
       "3413447          15  810395157                      1                   1.9  \n",
       "3413448         NaN        NaN                    NaN                   NaN  "
      ]
     },
     "execution_count": 24,
     "metadata": {},
     "output_type": "execute_result"
    }
   ],
   "source": [
    "daily_1124.tail(5)\n",
    "\n"
   ]
  },
  {
   "cell_type": "code",
   "execution_count": 26,
   "metadata": {},
   "outputs": [
    {
     "data": {
      "text/plain": [
       "18272.490000000002"
      ]
     },
     "execution_count": 26,
     "metadata": {},
     "output_type": "execute_result"
    }
   ],
   "source": [
    "daily_1124[daily_1124['location_id']==\"4564\"]['item_transaction_amt'].sum()"
   ]
  },
  {
   "cell_type": "code",
   "execution_count": 27,
   "metadata": {},
   "outputs": [
    {
     "name": "stdout",
     "output_type": "stream",
     "text": [
      "103689562.45\n"
     ]
    }
   ],
   "source": [
    "daily_1130=pd.read_csv(\"./MediaStormDailySales20190507-113110-141.txt\",dtype=str,sep=\"|\")\n",
    "daily_1130['item_transaction_amt']=daily_1130['item_transaction_amt'].astype(float)\n",
    "\n",
    "print(daily_1130['item_transaction_amt'].sum())\n"
   ]
  },
  {
   "cell_type": "code",
   "execution_count": 36,
   "metadata": {},
   "outputs": [
    {
     "data": {
      "text/html": [
       "<div>\n",
       "<style>\n",
       "    .dataframe thead tr:only-child th {\n",
       "        text-align: right;\n",
       "    }\n",
       "\n",
       "    .dataframe thead th {\n",
       "        text-align: left;\n",
       "    }\n",
       "\n",
       "    .dataframe tbody tr th {\n",
       "        vertical-align: top;\n",
       "    }\n",
       "</style>\n",
       "<table border=\"1\" class=\"dataframe\">\n",
       "  <thead>\n",
       "    <tr style=\"text-align: right;\">\n",
       "      <th></th>\n",
       "      <th>location_id</th>\n",
       "      <th>transaction_dt</th>\n",
       "      <th>transaction_id</th>\n",
       "      <th>customer_id_hashed</th>\n",
       "      <th>class_code_id</th>\n",
       "      <th>subclass_id</th>\n",
       "      <th>item_id</th>\n",
       "      <th>item_transaction_units</th>\n",
       "      <th>item_transaction_amt</th>\n",
       "    </tr>\n",
       "  </thead>\n",
       "  <tbody>\n",
       "    <tr>\n",
       "      <th>12960076</th>\n",
       "      <td>1755</td>\n",
       "      <td>2019-05-04</td>\n",
       "      <td>61</td>\n",
       "      <td>0837ddb3dd9ffc20e2126ad20a6eeeee3169cd4cb24ce8...</td>\n",
       "      <td>47002</td>\n",
       "      <td>3</td>\n",
       "      <td>810348317</td>\n",
       "      <td>1</td>\n",
       "      <td>11.00</td>\n",
       "    </tr>\n",
       "    <tr>\n",
       "      <th>12960077</th>\n",
       "      <td>4660</td>\n",
       "      <td>2019-05-03</td>\n",
       "      <td>707</td>\n",
       "      <td>NaN</td>\n",
       "      <td>11007</td>\n",
       "      <td>11</td>\n",
       "      <td>810042583</td>\n",
       "      <td>1</td>\n",
       "      <td>1.75</td>\n",
       "    </tr>\n",
       "  </tbody>\n",
       "</table>\n",
       "</div>"
      ],
      "text/plain": [
       "         location_id transaction_dt transaction_id  \\\n",
       "12960076        1755     2019-05-04             61   \n",
       "12960077        4660     2019-05-03            707   \n",
       "\n",
       "                                         customer_id_hashed class_code_id  \\\n",
       "12960076  0837ddb3dd9ffc20e2126ad20a6eeeee3169cd4cb24ce8...         47002   \n",
       "12960077                                                NaN         11007   \n",
       "\n",
       "         subclass_id    item_id item_transaction_units  item_transaction_amt  \n",
       "12960076           3  810348317                      1                 11.00  \n",
       "12960077          11  810042583                      1                  1.75  "
      ]
     },
     "execution_count": 36,
     "metadata": {},
     "output_type": "execute_result"
    }
   ],
   "source": [
    "daily_1130.tail(2)"
   ]
  },
  {
   "cell_type": "code",
   "execution_count": 28,
   "metadata": {},
   "outputs": [
    {
     "data": {
      "text/plain": [
       "58152.199999999997"
      ]
     },
     "execution_count": 28,
     "metadata": {},
     "output_type": "execute_result"
    }
   ],
   "source": [
    "daily_1130[daily_1130['location_id']==\"4564\"]['item_transaction_amt'].sum()"
   ]
  },
  {
   "cell_type": "code",
   "execution_count": 37,
   "metadata": {},
   "outputs": [
    {
     "data": {
      "text/plain": [
       "'2019-04-28'"
      ]
     },
     "execution_count": 37,
     "metadata": {},
     "output_type": "execute_result"
    }
   ],
   "source": [
    "daily_1130['transaction_dt'].min()"
   ]
  },
  {
   "cell_type": "code",
   "execution_count": 38,
   "metadata": {},
   "outputs": [
    {
     "data": {
      "text/plain": [
       "'2019-05-04'"
      ]
     },
     "execution_count": 38,
     "metadata": {},
     "output_type": "execute_result"
    }
   ],
   "source": [
    "daily_1130['transaction_dt'].max()"
   ]
  },
  {
   "cell_type": "code",
   "execution_count": 29,
   "metadata": {},
   "outputs": [
    {
     "data": {
      "text/html": [
       "<div>\n",
       "<style>\n",
       "    .dataframe thead tr:only-child th {\n",
       "        text-align: right;\n",
       "    }\n",
       "\n",
       "    .dataframe thead th {\n",
       "        text-align: left;\n",
       "    }\n",
       "\n",
       "    .dataframe tbody tr th {\n",
       "        vertical-align: top;\n",
       "    }\n",
       "</style>\n",
       "<table border=\"1\" class=\"dataframe\">\n",
       "  <thead>\n",
       "    <tr style=\"text-align: right;\">\n",
       "      <th></th>\n",
       "      <th>location_id</th>\n",
       "      <th>week_end_dt</th>\n",
       "      <th>fiscal_week_nbr</th>\n",
       "      <th>gross_sales_amt</th>\n",
       "      <th>gross_transaction_cnt</th>\n",
       "      <th>class_code_id</th>\n",
       "      <th>subclass_id</th>\n",
       "      <th>subclass_gross_sales_amt</th>\n",
       "    </tr>\n",
       "  </thead>\n",
       "  <tbody>\n",
       "    <tr>\n",
       "      <th>0</th>\n",
       "      <td>1</td>\n",
       "      <td>2019-05-04</td>\n",
       "      <td>13</td>\n",
       "      <td>0000000000083265.69</td>\n",
       "      <td>2232</td>\n",
       "      <td>11001</td>\n",
       "      <td>2</td>\n",
       "      <td>0000000000000431.73</td>\n",
       "    </tr>\n",
       "    <tr>\n",
       "      <th>1</th>\n",
       "      <td>1</td>\n",
       "      <td>2019-05-04</td>\n",
       "      <td>13</td>\n",
       "      <td>0000000000083265.69</td>\n",
       "      <td>2232</td>\n",
       "      <td>11001</td>\n",
       "      <td>4</td>\n",
       "      <td>0000000000000051.78</td>\n",
       "    </tr>\n",
       "  </tbody>\n",
       "</table>\n",
       "</div>"
      ],
      "text/plain": [
       "  location_id week_end_dt fiscal_week_nbr       gross_sales_amt  \\\n",
       "0           1  2019-05-04              13   0000000000083265.69   \n",
       "1           1  2019-05-04              13   0000000000083265.69   \n",
       "\n",
       "  gross_transaction_cnt class_code_id subclass_id subclass_gross_sales_amt  \n",
       "0                  2232         11001           2      0000000000000431.73  \n",
       "1                  2232         11001           4      0000000000000051.78  "
      ]
     },
     "execution_count": 29,
     "metadata": {},
     "output_type": "execute_result"
    }
   ],
   "source": [
    "weekly_1130=pd.read_csv(\"./MediaStormSalesWeekly20190507-113010-717.txt\",dtype=str,sep=\"|\")\n",
    "weekly_1130.head(2)"
   ]
  },
  {
   "cell_type": "code",
   "execution_count": 31,
   "metadata": {},
   "outputs": [
    {
     "name": "stdout",
     "output_type": "stream",
     "text": [
      "103685150.14\n"
     ]
    }
   ],
   "source": [
    "weekly_1130=pd.read_csv(\"./MediaStormSalesWeekly20190507-113010-717.txt\",dtype=str,sep=\"|\")\n",
    "weekly_1130['subclass_gross_sales_amt']=weekly_1130['subclass_gross_sales_amt'].astype(float)\n",
    "\n",
    "print(weekly_1130['subclass_gross_sales_amt'].sum())\n"
   ]
  },
  {
   "cell_type": "code",
   "execution_count": 32,
   "metadata": {},
   "outputs": [
    {
     "data": {
      "text/plain": [
       "'2019-05-04'"
      ]
     },
     "execution_count": 32,
     "metadata": {},
     "output_type": "execute_result"
    }
   ],
   "source": [
    "weekly_1130['week_end_dt'].min()"
   ]
  },
  {
   "cell_type": "code",
   "execution_count": 33,
   "metadata": {},
   "outputs": [
    {
     "data": {
      "text/plain": [
       "'2019-05-04'"
      ]
     },
     "execution_count": 33,
     "metadata": {},
     "output_type": "execute_result"
    }
   ],
   "source": [
    "weekly_1130['week_end_dt'].max()"
   ]
  },
  {
   "cell_type": "code",
   "execution_count": null,
   "metadata": {
    "collapsed": true
   },
   "outputs": [],
   "source": []
  }
 ],
 "metadata": {
  "kernelspec": {
   "display_name": "Python 3",
   "language": "python",
   "name": "python3"
  },
  "language_info": {
   "codemirror_mode": {
    "name": "ipython",
    "version": 3
   },
   "file_extension": ".py",
   "mimetype": "text/x-python",
   "name": "python",
   "nbconvert_exporter": "python",
   "pygments_lexer": "ipython3",
   "version": "3.6.1"
  }
 },
 "nbformat": 4,
 "nbformat_minor": 2
}
