{
 "cells": [
  {
   "cell_type": "code",
   "execution_count": 2,
   "metadata": {},
   "outputs": [
    {
     "name": "stdout",
     "output_type": "stream",
     "text": [
      "12\n"
     ]
    }
   ],
   "source": [
    "list_missing_files=[\n",
    "    'T_Legacy_Active_M_P_Unknown_Unknown_RFM20Q2.csv',\n",
    "    'T_Legacy_Active_M_S_Above50K_SingleFamily_RFM20Q2.csv',\n",
    "    'T_Legacy_Active_M_S_Unknown_Unknown_RFM20Q2.csv',\n",
    "    'T_Legacy_Lapsed1318_L_P_Above50K_MultiFamilyOrCondo_RFM20Q2.csv',\n",
    "    'T_Legacy_Lapsed1318_L_P_Above50K_SingleFamily_RFM20Q2.csv',\n",
    "    'T_Legacy_Lapsed1318_L_P_Below50K_MultiFamilyOrCondo_RFM20Q2.csv',\n",
    "    'T_Legacy_Lapsed1318_L_P_Below50K_SingleFamily_RFM20Q2.csv',\n",
    "    'T_Legacy_Lapsed1318_L_P_Unknown_Unknown_RFM20Q2.csv',\n",
    "    'T_Legacy_Lapsed1318_L_S_Above50K_MultiFamilyOrCondo_RFM20Q2.csv',\n",
    "    'T_Legacy_Lapsed1318_L_S_Below50K_MultiFamilyOrCondo_RFM20Q2.csv',\n",
    "    'T_Legacy_Lapsed1318_L_S_Below50K_SingleFamily_RFM20Q2.csv',\n",
    "    'T_Legacy_Lapsed1318_L_S_Unknown_Unknown_RFM20Q2.csv',\n",
    "]\n",
    "\n",
    "print(len(list_missing_files))"
   ]
  },
  {
   "cell_type": "code",
   "execution_count": 3,
   "metadata": {},
   "outputs": [
    {
     "name": "stdout",
     "output_type": "stream",
     "text": [
      "/home/jian/Projects/Big_Lots/Live_Ramp/Quarterly_Update_2020Q2\n",
      "2020-04-30 11:03:29.019439\n"
     ]
    }
   ],
   "source": [
    "# As email from LR support Skyler\n",
    "# Also confirmed on 0430 morning 11 am on LR connect files\n",
    "import glob\n",
    "import os\n",
    "import paramiko\n",
    "import pandas as pd\n",
    "import numpy as np\n",
    "import datetime\n",
    "\n",
    "print(os.getcwd())\n",
    "print(datetime.datetime.now())"
   ]
  },
  {
   "cell_type": "code",
   "execution_count": 10,
   "metadata": {},
   "outputs": [
    {
     "name": "stdout",
     "output_type": "stream",
     "text": [
      "1 T_Legacy_Active_M_P_Unknown_Unknown_RFM20Q2.csv os.stat_result(st_mode=33204, st_ino=14820137157, st_dev=64770, st_nlink=1, st_uid=1004, st_gid=1006, st_size=133581941, st_atime=1588188105, st_mtime=1588088571, st_ctime=1588088571)\n",
      "2 T_Legacy_Active_M_S_Above50K_SingleFamily_RFM20Q2.csv os.stat_result(st_mode=33204, st_ino=14820137159, st_dev=64770, st_nlink=1, st_uid=1004, st_gid=1006, st_size=83991653, st_atime=1588188107, st_mtime=1588088575, st_ctime=1588088575)\n",
      "3 T_Legacy_Active_M_S_Unknown_Unknown_RFM20Q2.csv os.stat_result(st_mode=33204, st_ino=14820137163, st_dev=64770, st_nlink=1, st_uid=1004, st_gid=1006, st_size=59571737, st_atime=1588188290, st_mtime=1588088580, st_ctime=1588088580)\n",
      "4 T_Legacy_Lapsed1318_L_P_Above50K_MultiFamilyOrCondo_RFM20Q2.csv os.stat_result(st_mode=33204, st_ino=14820137164, st_dev=64770, st_nlink=1, st_uid=1004, st_gid=1006, st_size=11606393, st_atime=1588188290, st_mtime=1588088580, st_ctime=1588088580)\n",
      "5 T_Legacy_Lapsed1318_L_P_Above50K_SingleFamily_RFM20Q2.csv os.stat_result(st_mode=33204, st_ino=14820137165, st_dev=64770, st_nlink=1, st_uid=1004, st_gid=1006, st_size=165096261, st_atime=1588188291, st_mtime=1588088588, st_ctime=1588088588)\n",
      "6 T_Legacy_Lapsed1318_L_P_Below50K_MultiFamilyOrCondo_RFM20Q2.csv os.stat_result(st_mode=33204, st_ino=14820137166, st_dev=64770, st_nlink=1, st_uid=1004, st_gid=1006, st_size=13716533, st_atime=1588188292, st_mtime=1588088589, st_ctime=1588088589)\n",
      "7 T_Legacy_Lapsed1318_L_P_Below50K_SingleFamily_RFM20Q2.csv os.stat_result(st_mode=33204, st_ino=14820137167, st_dev=64770, st_nlink=1, st_uid=1004, st_gid=1006, st_size=44861829, st_atime=1588188293, st_mtime=1588088591, st_ctime=1588088591)\n",
      "8 T_Legacy_Lapsed1318_L_P_Unknown_Unknown_RFM20Q2.csv os.stat_result(st_mode=33204, st_ino=14820137168, st_dev=64770, st_nlink=1, st_uid=1004, st_gid=1006, st_size=2146199, st_atime=1588188293, st_mtime=1588088591, st_ctime=1588088591)\n",
      "9 T_Legacy_Lapsed1318_L_S_Above50K_MultiFamilyOrCondo_RFM20Q2.csv os.stat_result(st_mode=33204, st_ino=14820137169, st_dev=64770, st_nlink=1, st_uid=1004, st_gid=1006, st_size=4879063, st_atime=1588188293, st_mtime=1588088591, st_ctime=1588088591)\n",
      "10 T_Legacy_Lapsed1318_L_S_Below50K_MultiFamilyOrCondo_RFM20Q2.csv os.stat_result(st_mode=33204, st_ino=14820137171, st_dev=64770, st_nlink=1, st_uid=1004, st_gid=1006, st_size=5518033, st_atime=1588188295, st_mtime=1588088596, st_ctime=1588088596)\n",
      "11 T_Legacy_Lapsed1318_L_S_Below50K_SingleFamily_RFM20Q2.csv os.stat_result(st_mode=33204, st_ino=14820137172, st_dev=64770, st_nlink=1, st_uid=1004, st_gid=1006, st_size=22453757, st_atime=1588188295, st_mtime=1588088597, st_ctime=1588088597)\n",
      "12 T_Legacy_Lapsed1318_L_S_Unknown_Unknown_RFM20Q2.csv os.stat_result(st_mode=33204, st_ino=14820137173, st_dev=64770, st_nlink=1, st_uid=1004, st_gid=1006, st_size=973357, st_atime=1588188295, st_mtime=1588088597, st_ctime=1588088597)\n"
     ]
    }
   ],
   "source": [
    "local_folder_final=\"/home/jian/Projects/Big_Lots/Live_Ramp/Quarterly_Update_2020Q2/upload_files/\"\n",
    "list_local_files=glob.glob(local_folder_final+\"*.csv\")\n",
    "i_counter=0\n",
    "list_missing_files_to_upload=[]\n",
    "for file in list_local_files:\n",
    "    basename=os.path.basename(file)\n",
    "    if basename in list_missing_files:\n",
    "        list_missing_files_to_upload.append(file)\n",
    "        i_counter+=1\n",
    "        print(i_counter,basename,os.stat(file))\n",
    "    "
   ]
  },
  {
   "cell_type": "code",
   "execution_count": 9,
   "metadata": {},
   "outputs": [],
   "source": [
    "import paramiko\n",
    "host = \"files.liveramp.com\"\n",
    "port = 22\n",
    "password = \"Biglots2018!\"\n",
    "username = \"lr-big-lots\"\n",
    "\n",
    "transport = paramiko.Transport((host, port))\n",
    "\n",
    "transport.connect(username = username, password = password)\n",
    "sftp = paramiko.SFTPClient.from_transport(transport)\n"
   ]
  },
  {
   "cell_type": "code",
   "execution_count": 14,
   "metadata": {},
   "outputs": [
    {
     "name": "stdout",
     "output_type": "stream",
     "text": [
      "1 2020-04-30 11:07:46.861596 /uploads/big_lots_onboarding/T_Legacy_Active_M_P_Unknown_Unknown_RFM20Q2.csv\n",
      "2 2020-04-30 11:08:04.266231 /uploads/big_lots_onboarding/T_Legacy_Active_M_S_Above50K_SingleFamily_RFM20Q2.csv\n",
      "3 2020-04-30 11:08:15.820883 /uploads/big_lots_onboarding/T_Legacy_Active_M_S_Unknown_Unknown_RFM20Q2.csv\n",
      "4 2020-04-30 11:08:18.251387 /uploads/big_lots_onboarding/T_Legacy_Lapsed1318_L_P_Above50K_MultiFamilyOrCondo_RFM20Q2.csv\n",
      "5 2020-04-30 11:08:50.064768 /uploads/big_lots_onboarding/T_Legacy_Lapsed1318_L_P_Above50K_SingleFamily_RFM20Q2.csv\n",
      "6 2020-04-30 11:08:53.182416 /uploads/big_lots_onboarding/T_Legacy_Lapsed1318_L_P_Below50K_MultiFamilyOrCondo_RFM20Q2.csv\n",
      "7 2020-04-30 11:09:02.414374 /uploads/big_lots_onboarding/T_Legacy_Lapsed1318_L_P_Below50K_SingleFamily_RFM20Q2.csv\n",
      "8 2020-04-30 11:09:02.988412 /uploads/big_lots_onboarding/T_Legacy_Lapsed1318_L_P_Unknown_Unknown_RFM20Q2.csv\n",
      "9 2020-04-30 11:09:04.054821 /uploads/big_lots_onboarding/T_Legacy_Lapsed1318_L_S_Above50K_MultiFamilyOrCondo_RFM20Q2.csv\n",
      "10 2020-04-30 11:09:05.227528 /uploads/big_lots_onboarding/T_Legacy_Lapsed1318_L_S_Below50K_MultiFamilyOrCondo_RFM20Q2.csv\n",
      "11 2020-04-30 11:09:10.266388 /uploads/big_lots_onboarding/T_Legacy_Lapsed1318_L_S_Below50K_SingleFamily_RFM20Q2.csv\n",
      "12 2020-04-30 11:09:10.543380 /uploads/big_lots_onboarding/T_Legacy_Lapsed1318_L_S_Unknown_Unknown_RFM20Q2.csv\n",
      "All_Done: 2020-04-30 11:09:10.545844\n"
     ]
    }
   ],
   "source": [
    "i_counter=0\n",
    "for local_file in list_missing_files_to_upload:\n",
    "    i_counter+=1\n",
    "    base_name=os.path.basename(local_file)\n",
    "    remote_name=\"/uploads/big_lots_onboarding/\"+base_name\n",
    "    sftp.put(local_file,remote_name)\n",
    "    print(i_counter,datetime.datetime.now(),remote_name)\n",
    "print(\"All_Done: \"+str(datetime.datetime.now()))\n",
    "sftp.close()\n",
    "transport.close()"
   ]
  },
  {
   "cell_type": "code",
   "execution_count": null,
   "metadata": {},
   "outputs": [],
   "source": []
  }
 ],
 "metadata": {
  "kernelspec": {
   "display_name": "Python 3",
   "language": "python",
   "name": "python3"
  },
  "language_info": {
   "codemirror_mode": {
    "name": "ipython",
    "version": 3
   },
   "file_extension": ".py",
   "mimetype": "text/x-python",
   "name": "python",
   "nbconvert_exporter": "python",
   "pygments_lexer": "ipython3",
   "version": "3.6.1"
  }
 },
 "nbformat": 4,
 "nbformat_minor": 2
}
