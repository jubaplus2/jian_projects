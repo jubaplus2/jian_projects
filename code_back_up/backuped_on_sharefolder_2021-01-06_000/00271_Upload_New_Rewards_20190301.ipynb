{
 "cells": [
  {
   "cell_type": "code",
   "execution_count": 1,
   "metadata": {
    "collapsed": true
   },
   "outputs": [],
   "source": [
    "import pandas as pd\n",
    "import numpy as np\n",
    "import datetime\n",
    "import os\n",
    "# Add the new folders of Jian later"
   ]
  },
  {
   "cell_type": "code",
   "execution_count": 2,
   "metadata": {
    "collapsed": true
   },
   "outputs": [],
   "source": [
    "def recursive_file_gen(my_root_dir):\n",
    "    for root, dirs, files in os.walk(my_root_dir):\n",
    "        for file in files:\n",
    "            yield os.path.join(root, file)\n",
    "            \n",
    "last_saturday=datetime.datetime.now().date()-datetime.timedelta(days=datetime.datetime.now().date().weekday()+2)\n",
    "\n",
    "write_folder=\"/home/jian/celery/Append_to_celery_LiveRamp/monthly_update/output_\"+str(last_saturday)+\"/\"\n",
    "try:\n",
    "    os.stat(write_folder)\n",
    "except:\n",
    "    os.mkdir(write_folder)\n",
    "\n",
    "week_beginning=last_saturday-datetime.timedelta(days=28)\n",
    "\n",
    "recent_3_weeks=[last_saturday-datetime.timedelta(days=x*7) for x in range(3)]"
   ]
  },
  {
   "cell_type": "code",
   "execution_count": 3,
   "metadata": {},
   "outputs": [
    {
     "name": "stdout",
     "output_type": "stream",
     "text": [
      "4\n"
     ]
    }
   ],
   "source": [
    "# Checking for the recent weeks that haven't moved to the folder\n",
    "possible_recent_folders=[\"/home/jian/BigLots/MediaStorm_\"+str(x)+\"/\" for x in recent_3_weeks]\n",
    "recent_file_list=[]\n",
    "for dirc in possible_recent_folders:\n",
    "    list_recent=[x for x in list(recursive_file_gen(dirc)) if (\"Master\" in x) & (\".txt\" in x) ]\n",
    "    recent_file_list=recent_file_list+list_recent\n",
    "recent_file_df=pd.DataFrame({\"path\":recent_file_list,\"date\":[datetime.datetime.strptime(x.split(\"MasterWeekly\")[1][:8],\"%Y%m%d\").date()-datetime.timedelta(days=3) for x in recent_file_list]},index=[x for x in range(len(recent_file_list))])\n",
    "\n",
    "\n",
    "list_1_after_201806=[x for x in list(recursive_file_gen(\"/home/jian/BigLots/2019_by_weeks/\")) if (\"Master\" in x) & (\".txt\" in x) ]\n",
    "folder_date=[datetime.datetime.strptime(x.split(\"/\")[len(x.split(\"/\"))-2].split(\"_\")[1],\"%Y-%m-%d\").date() for x in list_1_after_201806]\n",
    "df_1_after_201806=pd.DataFrame({\"date\":folder_date,\"path\":list_1_after_201806},index=[x for x in range(len(list_1_after_201806))])\n",
    "df_1_after_201806['date'].apply(lambda x: x.weekday()).unique()\n",
    "df_1_after_201806=df_1_after_201806.sort_values(\"date\").reset_index()\n",
    "df_1_after_201806=df_1_after_201806[df_1_after_201806['date']>week_beginning]\n",
    "del df_1_after_201806['index']\n",
    "\n",
    "new_2_biweekly_files=df_1_after_201806.append(recent_file_df)\n",
    "\n",
    "print(len(new_2_biweekly_files))\n",
    "new_2_biweekly_files=new_2_biweekly_files['path'].unique().tolist()"
   ]
  },
  {
   "cell_type": "code",
   "execution_count": 4,
   "metadata": {},
   "outputs": [
    {
     "data": {
      "text/plain": [
       "['/home/jian/BigLots/2019_by_weeks/MediaStorm_2019-02-02/MediaStormMasterWeekly20190205-111610-675.txt',\n",
       " '/home/jian/BigLots/2019_by_weeks/MediaStorm_2019-02-09/MediaStormMasterWeekly20190212-122428-267.txt',\n",
       " '/home/jian/BigLots/2019_by_weeks/MediaStorm_2019-02-16/MediaStormMasterWeekly20190219-113650-867.txt',\n",
       " '/home/jian/BigLots/2019_by_weeks/MediaStorm_2019-02-23/MediaStormMasterWeekly20190226-112921-061.txt']"
      ]
     },
     "execution_count": 4,
     "metadata": {},
     "output_type": "execute_result"
    }
   ],
   "source": [
    "new_2_biweekly_files"
   ]
  },
  {
   "cell_type": "code",
   "execution_count": 5,
   "metadata": {},
   "outputs": [
    {
     "name": "stdout",
     "output_type": "stream",
     "text": [
      "302004\n",
      "302004\n"
     ]
    }
   ],
   "source": [
    "if len(new_2_biweekly_files)==4: # Changed to weekly\n",
    "    df_all_new_master = pd.DataFrame()\n",
    "    for file in new_2_biweekly_files:\n",
    "        df = pd.read_csv(file,nrows = None,sep= '|',usecols = ['customer_id_hashed','email_address_hash','customer_zip_code'],\n",
    "                         dtype =str)\n",
    "        df_all_new_master = df_all_new_master.append(df,ignore_index = True)\n",
    "    print(len(df_all_new_master.index))\n",
    "    df_all_new_master = df_all_new_master.drop_duplicates('email_address_hash')\n",
    "    print(len(df_all_new_master.index))"
   ]
  },
  {
   "cell_type": "code",
   "execution_count": 6,
   "metadata": {},
   "outputs": [
    {
     "name": "stdout",
     "output_type": "stream",
     "text": [
      "72\n"
     ]
    }
   ],
   "source": [
    "# Remove previous week ids\n",
    "\n",
    "previous_id_files_lists=list(recursive_file_gen(\"/home/jian/Projects/Big_Lots/Live_Ramp/Quarterly_Update/crm_newscore_20190107/by_group_quadrant_24/\"))\n",
    "\n",
    "# previous_id_files_lists=[x for x in previous_id_files_lists if \"Copy of 48 Stores_727.csv\" not in x]\n",
    "previous_id_files_lists=[x for x in previous_id_files_lists if \".csv\" in x]\n",
    "print(len(previous_id_files_lists))"
   ]
  },
  {
   "cell_type": "code",
   "execution_count": 7,
   "metadata": {
    "collapsed": true
   },
   "outputs": [],
   "source": [
    "import glob\n",
    "uploaded_new_seg=glob.glob(\"/home/jian/celery/Append_to_celery_LiveRamp/monthly_update/output_2019-01-26/*.csv\")\n",
    "previous_id_files_lists=previous_id_files_lists+uploaded_new_seg"
   ]
  },
  {
   "cell_type": "code",
   "execution_count": 8,
   "metadata": {},
   "outputs": [
    {
     "name": "stdout",
     "output_type": "stream",
     "text": [
      "2019-03-01 17:48:07.037238 302003\n",
      "2019-03-01 17:48:08.814458 301998\n",
      "2019-03-01 17:48:09.483035 301998\n",
      "2019-03-01 17:48:10.233696 301995\n",
      "2019-03-01 17:48:10.878315 301995\n",
      "2019-03-01 17:48:11.028858 301995\n",
      "2019-03-01 17:48:11.149589 301995\n",
      "2019-03-01 17:48:11.231160 301995\n",
      "2019-03-01 17:48:11.290131 301995\n",
      "2019-03-01 17:48:11.350773 301995\n",
      "2019-03-01 17:48:11.461406 301994\n",
      "2019-03-01 17:48:11.567370 301994\n",
      "2019-03-01 17:48:11.638910 301994\n",
      "2019-03-01 17:48:11.698965 301994\n",
      "2019-03-01 17:48:11.761233 301994\n",
      "2019-03-01 17:48:11.814172 301994\n",
      "2019-03-01 17:48:11.919152 301993\n",
      "2019-03-01 17:48:12.010904 301993\n",
      "2019-03-01 17:48:12.069388 301993\n",
      "2019-03-01 17:48:12.137426 301993\n",
      "2019-03-01 17:48:12.196644 301993\n",
      "2019-03-01 17:48:12.440148 301993\n",
      "2019-03-01 17:48:12.624252 301993\n",
      "2019-03-01 17:48:12.707043 301993\n",
      "2019-03-01 17:48:12.783498 301993\n",
      "2019-03-01 17:48:12.845306 301993\n",
      "2019-03-01 17:48:16.128085 301992\n",
      "2019-03-01 17:48:17.760022 301988\n",
      "2019-03-01 17:48:20.737451 301987\n",
      "2019-03-01 17:48:21.625881 301986\n",
      "2019-03-01 17:48:22.044333 301985\n",
      "2019-03-01 17:48:22.809011 301983\n",
      "2019-03-01 17:48:23.248159 301982\n",
      "2019-03-01 17:48:23.676699 301982\n",
      "2019-03-01 17:48:24.108888 301982\n",
      "2019-03-01 17:48:27.012577 301978\n",
      "2019-03-01 17:48:27.902408 301977\n",
      "2019-03-01 17:48:29.908533 301975\n",
      "2019-03-01 17:48:30.505506 301975\n",
      "2019-03-01 17:48:30.720089 301974\n",
      "2019-03-01 17:48:31.124759 301973\n",
      "2019-03-01 17:48:31.400954 301973\n",
      "2019-03-01 17:48:31.516783 301973\n",
      "2019-03-01 17:48:31.727287 301973\n",
      "2019-03-01 17:48:36.351803 301972\n",
      "2019-03-01 17:48:37.769649 301971\n",
      "2019-03-01 17:48:40.871318 301968\n",
      "2019-03-01 17:48:42.311412 301968\n",
      "2019-03-01 17:48:42.737339 301967\n",
      "2019-03-01 17:48:43.623553 301967\n",
      "2019-03-01 17:48:44.160522 301966\n",
      "2019-03-01 17:48:44.369803 301966\n",
      "2019-03-01 17:48:44.770652 301966\n",
      "2019-03-01 17:48:52.765533 301958\n",
      "2019-03-01 17:48:59.198527 301949\n",
      "2019-03-01 17:49:00.905938 301947\n",
      "2019-03-01 17:49:01.227578 301946\n",
      "2019-03-01 17:49:01.318899 301946\n",
      "2019-03-01 17:49:01.389442 301946\n",
      "2019-03-01 17:49:01.455226 301945\n",
      "2019-03-01 17:49:01.517082 301945\n",
      "2019-03-01 17:49:01.584307 301945\n",
      "2019-03-01 17:49:01.635583 301945\n",
      "2019-03-01 17:49:01.696858 301945\n",
      "2019-03-01 17:49:01.867709 301945\n",
      "2019-03-01 17:49:01.990599 301945\n",
      "2019-03-01 17:49:02.066048 301945\n",
      "2019-03-01 17:49:02.117589 301945\n",
      "2019-03-01 17:49:02.223481 301945\n",
      "2019-03-01 17:49:02.312713 301945\n",
      "2019-03-01 17:49:02.379494 301945\n",
      "2019-03-01 17:49:02.462041 301945\n",
      "2019-03-01 17:49:03.226671 301945\n",
      "2019-03-01 17:49:03.443237 301945\n",
      "2019-03-01 17:49:03.624991 301945\n"
     ]
    }
   ],
   "source": [
    "for file_uploaded in previous_id_files_lists:\n",
    "    df = pd.read_csv(file_uploaded,usecols = ['email_address_hash'])\n",
    "    previous_email_set=set(df['email_address_hash'].tolist())\n",
    "    df_all_new_master = df_all_new_master[~df_all_new_master['email_address_hash'].isin(previous_email_set)]\n",
    "    print(datetime.datetime.now(),len(df_all_new_master.index))"
   ]
  },
  {
   "cell_type": "code",
   "execution_count": 9,
   "metadata": {},
   "outputs": [
    {
     "name": "stdout",
     "output_type": "stream",
     "text": [
      "301945\n"
     ]
    }
   ],
   "source": [
    "df_all_new_master = df_all_new_master.drop_duplicates('email_address_hash')\n",
    "df_all_new_master = df_all_new_master.drop_duplicates('customer_id_hashed')\n",
    "print(len(df_all_new_master.index))"
   ]
  },
  {
   "cell_type": "code",
   "execution_count": 10,
   "metadata": {},
   "outputs": [
    {
     "name": "stdout",
     "output_type": "stream",
     "text": [
      "['P' 'S' 'T' nan]\n",
      "['P' 'S' 'T']\n",
      "P 219438\n",
      "S 54211\n",
      "T 28296\n"
     ]
    }
   ],
   "source": [
    "zipmap = pd.read_csv('/home/jian/Projects/Big_Lots/New_TA/zips_in_new_ta/zip_with_ta_dma.csv',dtype = 'str')\n",
    "zipmap['zipcodegroup'] = zipmap['revenue_flag']\n",
    "zipmap = zipmap[['zip','zipcodegroup']].drop_duplicates('zip')\n",
    "zipmap.columns = ['customer_zip_code','zipcodegroup']\n",
    "df_all_new_master = pd.merge(df_all_new_master,zipmap,on ='customer_zip_code',how = 'left' )\n",
    "print(df_all_new_master['zipcodegroup'].unique())\n",
    "df_all_new_master['zipcodegroup'].fillna('T',inplace = True)\n",
    "print(df_all_new_master['zipcodegroup'].unique())\n",
    "\n",
    "last_saturday_str=\"_\"+str(last_saturday).split(\"-\")[1]+str(last_saturday).split(\"-\")[2]+str(last_saturday).split(\"-\")[0][2:]+\"_\"\n",
    "\n",
    "for revenue_flag in ['P','S','T']:\n",
    "    df = df_all_new_master[df_all_new_master['zipcodegroup']==revenue_flag]\n",
    "    df = df[['customer_id_hashed','email_address_hash','customer_zip_code']]\n",
    "    df['segment'] = 'NewReward' + last_saturday_str + revenue_flag\n",
    "    print(revenue_flag,len(df.index))\n",
    "    df.to_csv(write_folder+'NewReward_'+str(last_saturday)+'_'+revenue_flag+'.csv',index = False)\n",
    "# To be uploaded to lr-big-lots uploads/big_lots_onboarding"
   ]
  },
  {
   "cell_type": "code",
   "execution_count": 11,
   "metadata": {},
   "outputs": [
    {
     "data": {
      "text/html": [
       "<div>\n",
       "<style>\n",
       "    .dataframe thead tr:only-child th {\n",
       "        text-align: right;\n",
       "    }\n",
       "\n",
       "    .dataframe thead th {\n",
       "        text-align: left;\n",
       "    }\n",
       "\n",
       "    .dataframe tbody tr th {\n",
       "        vertical-align: top;\n",
       "    }\n",
       "</style>\n",
       "<table border=\"1\" class=\"dataframe\">\n",
       "  <thead>\n",
       "    <tr style=\"text-align: right;\">\n",
       "      <th></th>\n",
       "      <th>zipcodegroup</th>\n",
       "      <th>email_address_hash</th>\n",
       "    </tr>\n",
       "  </thead>\n",
       "  <tbody>\n",
       "    <tr>\n",
       "      <th>0</th>\n",
       "      <td>P</td>\n",
       "      <td>219438</td>\n",
       "    </tr>\n",
       "    <tr>\n",
       "      <th>1</th>\n",
       "      <td>S</td>\n",
       "      <td>54211</td>\n",
       "    </tr>\n",
       "    <tr>\n",
       "      <th>2</th>\n",
       "      <td>T</td>\n",
       "      <td>28296</td>\n",
       "    </tr>\n",
       "  </tbody>\n",
       "</table>\n",
       "</div>"
      ],
      "text/plain": [
       "  zipcodegroup  email_address_hash\n",
       "0            P              219438\n",
       "1            S               54211\n",
       "2            T               28296"
      ]
     },
     "execution_count": 11,
     "metadata": {},
     "output_type": "execute_result"
    }
   ],
   "source": [
    "df_all_new_master.groupby(['zipcodegroup'])['email_address_hash'].count().to_frame().reset_index()"
   ]
  },
  {
   "cell_type": "code",
   "execution_count": 12,
   "metadata": {},
   "outputs": [
    {
     "data": {
      "text/html": [
       "<div>\n",
       "<style>\n",
       "    .dataframe thead tr:only-child th {\n",
       "        text-align: right;\n",
       "    }\n",
       "\n",
       "    .dataframe thead th {\n",
       "        text-align: left;\n",
       "    }\n",
       "\n",
       "    .dataframe tbody tr th {\n",
       "        vertical-align: top;\n",
       "    }\n",
       "</style>\n",
       "<table border=\"1\" class=\"dataframe\">\n",
       "  <thead>\n",
       "    <tr style=\"text-align: right;\">\n",
       "      <th></th>\n",
       "      <th>customer_id_hashed</th>\n",
       "      <th>email_address_hash</th>\n",
       "      <th>customer_zip_code</th>\n",
       "      <th>segment</th>\n",
       "    </tr>\n",
       "  </thead>\n",
       "  <tbody>\n",
       "    <tr>\n",
       "      <th>18</th>\n",
       "      <td>eb5803318dc28c45daf61e4f9b2b0d9d879c27a9b0ef4c...</td>\n",
       "      <td>503a188e58a7c2a8fef032aeaff0f0d14140a089eb4b5f...</td>\n",
       "      <td>97489</td>\n",
       "      <td>NewReward_022319_T</td>\n",
       "    </tr>\n",
       "    <tr>\n",
       "      <th>31</th>\n",
       "      <td>698006f0aaf346b852fd0145e21fec9aa9d8821f5ffb77...</td>\n",
       "      <td>6a28dfe53ec06095580474f7812044073d9622e2a3c79d...</td>\n",
       "      <td>11980</td>\n",
       "      <td>NewReward_022319_T</td>\n",
       "    </tr>\n",
       "  </tbody>\n",
       "</table>\n",
       "</div>"
      ],
      "text/plain": [
       "                                   customer_id_hashed  \\\n",
       "18  eb5803318dc28c45daf61e4f9b2b0d9d879c27a9b0ef4c...   \n",
       "31  698006f0aaf346b852fd0145e21fec9aa9d8821f5ffb77...   \n",
       "\n",
       "                                   email_address_hash customer_zip_code  \\\n",
       "18  503a188e58a7c2a8fef032aeaff0f0d14140a089eb4b5f...             97489   \n",
       "31  6a28dfe53ec06095580474f7812044073d9622e2a3c79d...             11980   \n",
       "\n",
       "               segment  \n",
       "18  NewReward_022319_T  \n",
       "31  NewReward_022319_T  "
      ]
     },
     "execution_count": 12,
     "metadata": {},
     "output_type": "execute_result"
    }
   ],
   "source": [
    "df.head(2)"
   ]
  },
  {
   "cell_type": "code",
   "execution_count": null,
   "metadata": {
    "collapsed": true
   },
   "outputs": [],
   "source": []
  }
 ],
 "metadata": {
  "kernelspec": {
   "display_name": "Python 3",
   "language": "python",
   "name": "python3"
  },
  "language_info": {
   "codemirror_mode": {
    "name": "ipython",
    "version": 3
   },
   "file_extension": ".py",
   "mimetype": "text/x-python",
   "name": "python",
   "nbconvert_exporter": "python",
   "pygments_lexer": "ipython3",
   "version": "3.6.1"
  }
 },
 "nbformat": 4,
 "nbformat_minor": 2
}
