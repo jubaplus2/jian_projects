{
 "cells": [
  {
   "cell_type": "code",
   "execution_count": 1,
   "metadata": {
    "collapsed": true
   },
   "outputs": [],
   "source": [
    "import pandas as pd\n",
    "import numpy as np\n",
    "import datetime"
   ]
  },
  {
   "cell_type": "markdown",
   "metadata": {},
   "source": [
    "# Google PLA"
   ]
  },
  {
   "cell_type": "code",
   "execution_count": 2,
   "metadata": {
    "collapsed": true
   },
   "outputs": [],
   "source": [
    "Google_PLA_1=pd.read_csv(\"/home/jian/Projects/Big_Lots/TMR/Merkle_Repull/Google_PLA/MetroArea_Shopping_Google_Oct2016-June2017_CSV.csv\",skiprows=2)\n",
    "Google_PLA_2=pd.read_csv(\"/home/jian/Projects/Big_Lots/TMR/Merkle_Repull/Google_PLA/MetroArea_Shopping_Google_July2017-Dec2017_CSV.csv\",skiprows=2)\n",
    "Google_PLA=Google_PLA_1.append(Google_PLA_2)\n",
    "# Google_PLA['Country/Territory'].unique()    US Only\n",
    "Google_PLA.reset_index(inplace=True)\n",
    "del Google_PLA['index']"
   ]
  },
  {
   "cell_type": "code",
   "execution_count": 3,
   "metadata": {
    "collapsed": true
   },
   "outputs": [],
   "source": [
    "def clean_Google_num(df):\n",
    "    if 'Impressions' in df.columns:\n",
    "        df['Impressions']=df['Impressions'].apply(lambda x: x.replace(\",\",\"\"))\n",
    "        df['Impressions']=df['Impressions'].astype(int)\n",
    "    if 'Clicks' in df.columns:\n",
    "        df['Clicks']=df['Clicks'].apply(lambda x: x.replace(\",\",\"\"))\n",
    "        df['Clicks']=df['Clicks'].astype(int)\n",
    "    if 'Cost' in df.columns:\n",
    "        df['Cost']=df['Cost'].apply(lambda x: x.replace(\",\",\"\"))\n",
    "        df['Cost']=df['Cost'].apply(lambda x: x.replace(\"$\",\"\"))\n",
    "        df['Cost']=df['Cost'].astype(float)\n",
    "    return df"
   ]
  },
  {
   "cell_type": "code",
   "execution_count": 141,
   "metadata": {
    "collapsed": true
   },
   "outputs": [],
   "source": [
    "Google_PLA=Google_PLA[['Day','Metro area','Impressions','Clicks','Cost']]\n",
    "Google_PLA=clean_Google_num(Google_PLA)\n",
    "\n",
    "Google_PLA['Day']=Google_PLA['Day'].apply(lambda x: datetime.datetime.strptime(x, '%b %d, %Y').date())\n",
    "Google_PLA['weekday']=Google_PLA['Day'].apply(lambda x: x.weekday())\n",
    "Google_PLA=Google_PLA[(Google_PLA['Day']>=datetime.date(year=2016,month=10,day=2)) & (Google_PLA['Day']<=datetime.date(year=2017,month=12,day=30))]\n",
    "Google_PLA.reset_index(inplace=True)\n",
    "del Google_PLA['index']"
   ]
  },
  {
   "cell_type": "code",
   "execution_count": 142,
   "metadata": {
    "collapsed": true
   },
   "outputs": [],
   "source": [
    "Google_PLA['week_start_date']=np.where(Google_PLA['weekday']==6,\n",
    "                                          Google_PLA['Day'],\n",
    "                                          Google_PLA['Day'].apply(lambda x: x-datetime.timedelta(days=(x.weekday()+1))))\n",
    "Google_PLA['week_end_date']=Google_PLA['week_start_date']+datetime.timedelta(days=6)\n",
    "Google_PLA=Google_PLA.groupby(['week_start_date','week_end_date','Metro area'])['Impressions','Clicks','Cost'].sum()\n",
    "Google_PLA.reset_index(inplace=True)\n",
    "Google_PLA['media']=\"Digital\"\n",
    "Google_PLA['submedia']=\"PLA\"\n",
    "Google_PLA['placement']=\"Google\"\n",
    "Google_PLA=Google_PLA[['week_start_date','week_end_date','Metro area','media','submedia','placement','Impressions','Clicks','Cost']]\n",
    "Google_PLA.columns=['week_start_date','week_end_date','DMA','media','submedia','placement','Impressions','Clicks','Cost']\n",
    "\n",
    "Google_PLA.to_csv(\"/home/jian/Projects/Big_Lots/TMR/Merkle_Repull/Google_PLA/Aggregated_PLA_Google.csv\",index=False)"
   ]
  },
  {
   "cell_type": "code",
   "execution_count": null,
   "metadata": {
    "collapsed": true
   },
   "outputs": [],
   "source": []
  },
  {
   "cell_type": "code",
   "execution_count": null,
   "metadata": {
    "collapsed": true
   },
   "outputs": [],
   "source": []
  },
  {
   "cell_type": "code",
   "execution_count": null,
   "metadata": {
    "collapsed": true
   },
   "outputs": [],
   "source": []
  },
  {
   "cell_type": "code",
   "execution_count": null,
   "metadata": {
    "collapsed": true
   },
   "outputs": [],
   "source": []
  },
  {
   "cell_type": "code",
   "execution_count": 4,
   "metadata": {
    "collapsed": true
   },
   "outputs": [],
   "source": [
    "Google_SEM_GDN_1=pd.read_csv(\"/home/jian/Projects/Big_Lots/TMR/Merkle_Repull/Google_SEM_and_GDN/Google_MetroArea_CampaignType_SEM_Oct2016-June2017_CSV.csv\",skiprows=2)\n",
    "Google_SEM_GDN_2=pd.read_csv(\"/home/jian/Projects/Big_Lots/TMR/Merkle_Repull/Google_SEM_and_GDN/Google_MetroArea_CampaignType_SEM_Jul2017-Dec2017_CSV.csv\",skiprows=2)\n",
    "Google_SEM_GDN=Google_SEM_GDN_1.append(Google_SEM_GDN_2)\n",
    "# US only, no missing found\n",
    "Google_SEM_GDN=Google_SEM_GDN[Google_SEM_GDN['Country/Territory']=='United States']\n",
    "Google_SEM_GDN.reset_index(inplace=True)\n",
    "del Google_SEM_GDN['index']"
   ]
  },
  {
   "cell_type": "code",
   "execution_count": 5,
   "metadata": {},
   "outputs": [
    {
     "data": {
      "text/plain": [
       "array(['Search Only', 'Display Only'], dtype=object)"
      ]
     },
     "execution_count": 5,
     "metadata": {},
     "output_type": "execute_result"
    }
   ],
   "source": [
    "Google_SEM_GDN['Campaign type'].unique()"
   ]
  },
  {
   "cell_type": "markdown",
   "metadata": {},
   "source": [
    "# Google SEM"
   ]
  },
  {
   "cell_type": "code",
   "execution_count": 144,
   "metadata": {},
   "outputs": [
    {
     "name": "stderr",
     "output_type": "stream",
     "text": [
      "/usr/local/lib/python3.6/site-packages/ipykernel_launcher.py:3: SettingWithCopyWarning: \n",
      "A value is trying to be set on a copy of a slice from a DataFrame.\n",
      "Try using .loc[row_indexer,col_indexer] = value instead\n",
      "\n",
      "See the caveats in the documentation: http://pandas.pydata.org/pandas-docs/stable/indexing.html#indexing-view-versus-copy\n",
      "  This is separate from the ipykernel package so we can avoid doing imports until\n",
      "/usr/local/lib/python3.6/site-packages/ipykernel_launcher.py:4: SettingWithCopyWarning: \n",
      "A value is trying to be set on a copy of a slice from a DataFrame.\n",
      "Try using .loc[row_indexer,col_indexer] = value instead\n",
      "\n",
      "See the caveats in the documentation: http://pandas.pydata.org/pandas-docs/stable/indexing.html#indexing-view-versus-copy\n",
      "  after removing the cwd from sys.path.\n",
      "/usr/local/lib/python3.6/site-packages/ipykernel_launcher.py:6: SettingWithCopyWarning: \n",
      "A value is trying to be set on a copy of a slice from a DataFrame.\n",
      "Try using .loc[row_indexer,col_indexer] = value instead\n",
      "\n",
      "See the caveats in the documentation: http://pandas.pydata.org/pandas-docs/stable/indexing.html#indexing-view-versus-copy\n",
      "  \n",
      "/usr/local/lib/python3.6/site-packages/ipykernel_launcher.py:7: SettingWithCopyWarning: \n",
      "A value is trying to be set on a copy of a slice from a DataFrame.\n",
      "Try using .loc[row_indexer,col_indexer] = value instead\n",
      "\n",
      "See the caveats in the documentation: http://pandas.pydata.org/pandas-docs/stable/indexing.html#indexing-view-versus-copy\n",
      "  import sys\n",
      "/usr/local/lib/python3.6/site-packages/ipykernel_launcher.py:9: SettingWithCopyWarning: \n",
      "A value is trying to be set on a copy of a slice from a DataFrame.\n",
      "Try using .loc[row_indexer,col_indexer] = value instead\n",
      "\n",
      "See the caveats in the documentation: http://pandas.pydata.org/pandas-docs/stable/indexing.html#indexing-view-versus-copy\n",
      "  if __name__ == '__main__':\n",
      "/usr/local/lib/python3.6/site-packages/ipykernel_launcher.py:10: SettingWithCopyWarning: \n",
      "A value is trying to be set on a copy of a slice from a DataFrame.\n",
      "Try using .loc[row_indexer,col_indexer] = value instead\n",
      "\n",
      "See the caveats in the documentation: http://pandas.pydata.org/pandas-docs/stable/indexing.html#indexing-view-versus-copy\n",
      "  # Remove the CWD from sys.path while we load stuff.\n",
      "/usr/local/lib/python3.6/site-packages/ipykernel_launcher.py:11: SettingWithCopyWarning: \n",
      "A value is trying to be set on a copy of a slice from a DataFrame.\n",
      "Try using .loc[row_indexer,col_indexer] = value instead\n",
      "\n",
      "See the caveats in the documentation: http://pandas.pydata.org/pandas-docs/stable/indexing.html#indexing-view-versus-copy\n",
      "  # This is added back by InteractiveShellApp.init_path()\n",
      "/usr/local/lib/python3.6/site-packages/ipykernel_launcher.py:5: SettingWithCopyWarning: \n",
      "A value is trying to be set on a copy of a slice from a DataFrame.\n",
      "Try using .loc[row_indexer,col_indexer] = value instead\n",
      "\n",
      "See the caveats in the documentation: http://pandas.pydata.org/pandas-docs/stable/indexing.html#indexing-view-versus-copy\n",
      "  \"\"\"\n"
     ]
    }
   ],
   "source": [
    "Google_SEM=Google_SEM_GDN[Google_SEM_GDN['Campaign type']=='Search Only']\n",
    "del Google_SEM['Campaign type']\n",
    "Google_SEM=clean_Google_num(Google_SEM)\n",
    "Google_SEM['Day']=Google_SEM['Day'].apply(lambda x: datetime.datetime.strptime(x, '%b %d, %Y').date())\n",
    "Google_SEM['weekday']=Google_SEM['Day'].apply(lambda x: x.weekday())\n",
    "Google_SEM=Google_SEM[(Google_SEM['Day']>=datetime.date(year=2016,month=10,day=2)) & (Google_SEM['Day']<=datetime.date(year=2017,month=12,day=30))]\n",
    "Google_SEM.reset_index(inplace=True)\n",
    "del Google_SEM['index']"
   ]
  },
  {
   "cell_type": "code",
   "execution_count": 145,
   "metadata": {
    "collapsed": true
   },
   "outputs": [],
   "source": [
    "Google_SEM['week_start_date']=np.where(Google_SEM['weekday']==6,\n",
    "                                          Google_SEM['Day'],\n",
    "                                          Google_SEM['Day'].apply(lambda x: x-datetime.timedelta(days=(x.weekday()+1))))\n",
    "Google_SEM['week_end_date']=Google_SEM['week_start_date']+datetime.timedelta(days=6)\n",
    "Google_SEM=Google_SEM.groupby(['week_start_date','week_end_date','Metro area'])['Impressions','Clicks','Cost'].sum()\n",
    "Google_SEM.reset_index(inplace=True)\n",
    "Google_SEM['media']=\"Digital\"\n",
    "Google_SEM['submedia']=\"SEM\"\n",
    "Google_SEM['placement']=\"Google\"\n",
    "Google_SEM=Google_SEM[['week_start_date','week_end_date','Metro area','media','submedia','placement','Impressions','Clicks','Cost']]\n",
    "Google_SEM.columns=['week_start_date','week_end_date','DMA','media','submedia','placement','Impressions','Clicks','Cost']\n",
    "\n",
    "Google_SEM.to_csv(\"/home/jian/Projects/Big_Lots/TMR/Merkle_Repull/Google_SEM_and_GDN/Aggregated_SEM_Google.csv\",index=False)"
   ]
  },
  {
   "cell_type": "markdown",
   "metadata": {},
   "source": [
    "# Google GDN"
   ]
  },
  {
   "cell_type": "code",
   "execution_count": 6,
   "metadata": {},
   "outputs": [
    {
     "name": "stderr",
     "output_type": "stream",
     "text": [
      "/usr/local/lib/python3.6/site-packages/ipykernel_launcher.py:3: SettingWithCopyWarning: \n",
      "A value is trying to be set on a copy of a slice from a DataFrame.\n",
      "Try using .loc[row_indexer,col_indexer] = value instead\n",
      "\n",
      "See the caveats in the documentation: http://pandas.pydata.org/pandas-docs/stable/indexing.html#indexing-view-versus-copy\n",
      "  This is separate from the ipykernel package so we can avoid doing imports until\n",
      "/usr/local/lib/python3.6/site-packages/ipykernel_launcher.py:4: SettingWithCopyWarning: \n",
      "A value is trying to be set on a copy of a slice from a DataFrame.\n",
      "Try using .loc[row_indexer,col_indexer] = value instead\n",
      "\n",
      "See the caveats in the documentation: http://pandas.pydata.org/pandas-docs/stable/indexing.html#indexing-view-versus-copy\n",
      "  after removing the cwd from sys.path.\n",
      "/usr/local/lib/python3.6/site-packages/ipykernel_launcher.py:6: SettingWithCopyWarning: \n",
      "A value is trying to be set on a copy of a slice from a DataFrame.\n",
      "Try using .loc[row_indexer,col_indexer] = value instead\n",
      "\n",
      "See the caveats in the documentation: http://pandas.pydata.org/pandas-docs/stable/indexing.html#indexing-view-versus-copy\n",
      "  \n",
      "/usr/local/lib/python3.6/site-packages/ipykernel_launcher.py:7: SettingWithCopyWarning: \n",
      "A value is trying to be set on a copy of a slice from a DataFrame.\n",
      "Try using .loc[row_indexer,col_indexer] = value instead\n",
      "\n",
      "See the caveats in the documentation: http://pandas.pydata.org/pandas-docs/stable/indexing.html#indexing-view-versus-copy\n",
      "  import sys\n",
      "/usr/local/lib/python3.6/site-packages/ipykernel_launcher.py:9: SettingWithCopyWarning: \n",
      "A value is trying to be set on a copy of a slice from a DataFrame.\n",
      "Try using .loc[row_indexer,col_indexer] = value instead\n",
      "\n",
      "See the caveats in the documentation: http://pandas.pydata.org/pandas-docs/stable/indexing.html#indexing-view-versus-copy\n",
      "  if __name__ == '__main__':\n",
      "/usr/local/lib/python3.6/site-packages/ipykernel_launcher.py:10: SettingWithCopyWarning: \n",
      "A value is trying to be set on a copy of a slice from a DataFrame.\n",
      "Try using .loc[row_indexer,col_indexer] = value instead\n",
      "\n",
      "See the caveats in the documentation: http://pandas.pydata.org/pandas-docs/stable/indexing.html#indexing-view-versus-copy\n",
      "  # Remove the CWD from sys.path while we load stuff.\n",
      "/usr/local/lib/python3.6/site-packages/ipykernel_launcher.py:11: SettingWithCopyWarning: \n",
      "A value is trying to be set on a copy of a slice from a DataFrame.\n",
      "Try using .loc[row_indexer,col_indexer] = value instead\n",
      "\n",
      "See the caveats in the documentation: http://pandas.pydata.org/pandas-docs/stable/indexing.html#indexing-view-versus-copy\n",
      "  # This is added back by InteractiveShellApp.init_path()\n",
      "/usr/local/lib/python3.6/site-packages/ipykernel_launcher.py:5: SettingWithCopyWarning: \n",
      "A value is trying to be set on a copy of a slice from a DataFrame.\n",
      "Try using .loc[row_indexer,col_indexer] = value instead\n",
      "\n",
      "See the caveats in the documentation: http://pandas.pydata.org/pandas-docs/stable/indexing.html#indexing-view-versus-copy\n",
      "  \"\"\"\n"
     ]
    }
   ],
   "source": [
    "Google_GDN=Google_SEM_GDN[Google_SEM_GDN['Campaign type']=='Display Only']\n",
    "del Google_GDN['Campaign type']\n",
    "Google_GDN=clean_Google_num(Google_GDN)\n",
    "Google_GDN['Day']=Google_GDN['Day'].apply(lambda x: datetime.datetime.strptime(x, '%b %d, %Y').date())\n",
    "Google_GDN['weekday']=Google_GDN['Day'].apply(lambda x: x.weekday())\n",
    "Google_GDN=Google_GDN[(Google_GDN['Day']>=datetime.date(year=2016,month=10,day=2)) & (Google_GDN['Day']<=datetime.date(year=2017,month=12,day=30))]\n",
    "Google_GDN.reset_index(inplace=True)\n",
    "del Google_GDN['index']"
   ]
  },
  {
   "cell_type": "code",
   "execution_count": 7,
   "metadata": {
    "collapsed": true
   },
   "outputs": [],
   "source": [
    "Google_GDN['week_start_date']=np.where(Google_GDN['weekday']==6,\n",
    "                                          Google_GDN['Day'],\n",
    "                                          Google_GDN['Day'].apply(lambda x: x-datetime.timedelta(days=(x.weekday()+1))))\n",
    "Google_GDN['week_end_date']=Google_GDN['week_start_date']+datetime.timedelta(days=6)\n",
    "Google_GDN=Google_GDN.groupby(['week_start_date','week_end_date','Metro area'])['Impressions','Clicks','Cost'].sum()\n",
    "Google_GDN.reset_index(inplace=True)\n",
    "Google_GDN['media']=\"Digital\"\n",
    "Google_GDN['submedia']=\"Programmatic\"\n",
    "Google_GDN['placement']=\"GDN\"\n",
    "Google_GDN=Google_GDN[['week_start_date','week_end_date','Metro area','media','submedia','placement','Impressions','Clicks','Cost']]\n",
    "Google_GDN.columns=['week_start_date','week_end_date','DMA','media','submedia','placement','Impressions','Clicks','Cost']\n",
    "\n",
    "Google_GDN.to_csv(\"/home/jian/Projects/Big_Lots/TMR/Merkle_Repull/Google_SEM_and_GDN/Aggregated_GDN_Google.csv\",index=False)"
   ]
  },
  {
   "cell_type": "markdown",
   "metadata": {},
   "source": [
    "# Bing PLA"
   ]
  },
  {
   "cell_type": "code",
   "execution_count": 10,
   "metadata": {},
   "outputs": [
    {
     "name": "stderr",
     "output_type": "stream",
     "text": [
      "/usr/local/lib/python3.6/site-packages/ipykernel_launcher.py:1: ParserWarning: Falling back to the 'python' engine because the 'c' engine does not support skipfooter; you can avoid this warning by specifying engine='python'.\n",
      "  \"\"\"Entry point for launching an IPython kernel.\n"
     ]
    }
   ],
   "source": [
    "Bing_PLA=pd.read_csv(\"/home/jian/Projects/Big_Lots/TMR/Merkle_Repull/Bing_PLA/Bing_Shopping_MetroArea_Oct2016_Dec2017_OnFeb27.csv\",skiprows=9,skipfooter=2)\n",
    "Bing_PLA=Bing_PLA[['Gregorian date','Country/region','Metro area','Impressions','Clicks','Spend']]\n",
    "Bing_PLA.columns=['Day','Country','DMA','Impressions','Clicks','Cost']\n",
    "Bing_PLA['DMA']=Bing_PLA['DMA'].fillna(\"xx\")\n",
    "# US only in Bing Shopping\n",
    "Bing_PLA['Day']=Bing_PLA['Day'].apply(lambda x: datetime.datetime.strptime(x, '%Y-%m-%d').date())\n",
    "Bing_PLA['weekday']=Bing_PLA['Day'].apply(lambda x: x.weekday())\n",
    "Bing_PLA=Bing_PLA[(Bing_PLA['Day']>=datetime.date(year=2016,month=10,day=2)) & (Bing_PLA['Day']<=datetime.date(year=2017,month=12,day=30))]\n",
    "Bing_PLA.reset_index(inplace=True)\n",
    "del Bing_PLA['index']"
   ]
  },
  {
   "cell_type": "code",
   "execution_count": 11,
   "metadata": {
    "collapsed": true
   },
   "outputs": [],
   "source": [
    "Bing_PLA['week_start_date']=np.where(Bing_PLA['weekday']==6,\n",
    "                                          Bing_PLA['Day'],\n",
    "                                          Bing_PLA['Day'].apply(lambda x: x-datetime.timedelta(days=(x.weekday()+1))))\n",
    "Bing_PLA['week_end_date']=Bing_PLA['week_start_date']+datetime.timedelta(days=6)\n",
    "Bing_PLA=Bing_PLA.groupby(['week_start_date','week_end_date','DMA'])['Impressions','Clicks','Cost'].sum()\n",
    "Bing_PLA.reset_index(inplace=True)\n",
    "Bing_PLA['media']=\"Digital\"\n",
    "Bing_PLA['submedia']=\"PLA\"\n",
    "Bing_PLA['placement']=\"Bing\"\n",
    "Bing_PLA=Bing_PLA[['week_start_date','week_end_date','DMA','media','submedia','placement','Impressions','Clicks','Cost']]\n",
    "\n",
    "Bing_PLA.to_csv(\"/home/jian/Projects/Big_Lots/TMR/Merkle_Repull/Bing_PLA/Aggregated_PLA_Bing.csv\",index=False)"
   ]
  },
  {
   "cell_type": "markdown",
   "metadata": {},
   "source": [
    "# Bing SEM"
   ]
  },
  {
   "cell_type": "code",
   "execution_count": 15,
   "metadata": {},
   "outputs": [
    {
     "name": "stderr",
     "output_type": "stream",
     "text": [
      "/usr/local/lib/python3.6/site-packages/ipykernel_launcher.py:1: ParserWarning: Falling back to the 'python' engine because the 'c' engine does not support skipfooter; you can avoid this warning by specifying engine='python'.\n",
      "  \"\"\"Entry point for launching an IPython kernel.\n"
     ]
    }
   ],
   "source": [
    "Bing_SEM=pd.read_csv(\"/home/jian/Projects/Big_Lots/TMR/Merkle_Repull/Bing_SEM/Bing_SEM_MetroArea_Oct2016_Dec2017_OnFeb27.csv\",skiprows=9,skipfooter=2)\n",
    "Bing_SEM=Bing_SEM[['Gregorian date','Country/region','Metro area','Impressions','Clicks','Spend']]\n",
    "Bing_SEM.columns=['Day','Country','DMA','Impressions','Clicks','Cost']\n",
    "Bing_SEM=Bing_SEM[Bing_SEM['Country'].isin(['United States',np.nan])]\n",
    "\n",
    "Bing_SEM['Country'].fillna(\"xx\",inplace=True)\n",
    "Bing_SEM['DMA'].fillna(\"xx\",inplace=True)\n",
    "\n",
    "Bing_SEM['Day']=Bing_SEM['Day'].apply(lambda x: datetime.datetime.strptime(x, '%Y-%m-%d').date())\n",
    "Bing_SEM['weekday']=Bing_SEM['Day'].apply(lambda x: x.weekday())\n",
    "Bing_SEM=Bing_SEM[(Bing_SEM['Day']>=datetime.date(year=2016,month=10,day=2)) & (Bing_SEM['Day']<=datetime.date(year=2017,month=12,day=30))]\n",
    "Bing_SEM.reset_index(inplace=True)\n",
    "del Bing_SEM['index']\n"
   ]
  },
  {
   "cell_type": "code",
   "execution_count": null,
   "metadata": {
    "collapsed": true
   },
   "outputs": [],
   "source": []
  },
  {
   "cell_type": "code",
   "execution_count": 16,
   "metadata": {
    "collapsed": true
   },
   "outputs": [],
   "source": [
    "Bing_SEM['week_start_date']=np.where(Bing_SEM['weekday']==6,\n",
    "                                          Bing_SEM['Day'],\n",
    "                                          Bing_SEM['Day'].apply(lambda x: x-datetime.timedelta(days=(x.weekday()+1))))\n",
    "Bing_SEM['week_end_date']=Bing_SEM['week_start_date']+datetime.timedelta(days=6)\n",
    "Bing_SEM=Bing_SEM.groupby(['week_start_date','week_end_date','DMA'])['Impressions','Clicks','Cost'].sum()\n",
    "Bing_SEM.reset_index(inplace=True)\n",
    "Bing_SEM['media']=\"Digital\"\n",
    "Bing_SEM['submedia']=\"SEM\"\n",
    "Bing_SEM['placement']=\"Bing\"\n",
    "Bing_SEM=Bing_SEM[['week_start_date','week_end_date','DMA','media','submedia','placement','Impressions','Clicks','Cost']]\n",
    "\n",
    "Bing_SEM.to_csv(\"/home/jian/Projects/Big_Lots/TMR/Merkle_Repull/Bing_SEM/Aggregated_SEM_Bing.csv\",index=False)"
   ]
  },
  {
   "cell_type": "code",
   "execution_count": null,
   "metadata": {
    "collapsed": true
   },
   "outputs": [],
   "source": []
  },
  {
   "cell_type": "code",
   "execution_count": null,
   "metadata": {
    "collapsed": true
   },
   "outputs": [],
   "source": []
  },
  {
   "cell_type": "code",
   "execution_count": null,
   "metadata": {
    "collapsed": true
   },
   "outputs": [],
   "source": []
  }
 ],
 "metadata": {
  "kernelspec": {
   "display_name": "Python 3",
   "language": "python",
   "name": "python3"
  },
  "language_info": {
   "codemirror_mode": {
    "name": "ipython",
    "version": 3
   },
   "file_extension": ".py",
   "mimetype": "text/x-python",
   "name": "python",
   "nbconvert_exporter": "python",
   "pygments_lexer": "ipython3",
   "version": "3.6.1"
  }
 },
 "nbformat": 4,
 "nbformat_minor": 2
}
