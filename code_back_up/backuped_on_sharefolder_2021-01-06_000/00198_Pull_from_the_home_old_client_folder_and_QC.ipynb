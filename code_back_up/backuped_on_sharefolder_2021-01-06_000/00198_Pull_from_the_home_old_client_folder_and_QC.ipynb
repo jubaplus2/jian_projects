{
 "cells": [
  {
   "cell_type": "code",
   "execution_count": 1,
   "metadata": {
    "collapsed": true
   },
   "outputs": [],
   "source": [
    "import pandas as pd\n",
    "import os\n",
    "import datetime\n",
    "import paramiko"
   ]
  },
  {
   "cell_type": "code",
   "execution_count": 2,
   "metadata": {
    "collapsed": true
   },
   "outputs": [],
   "source": [
    "host=\"64.237.51.251\"\n",
    "port=22\n",
    "transport = paramiko.Transport((host, port))\n",
    "\n",
    "username=\"client\"\n",
    "passwords=\"bwRi3V6fgZsfJrMl\"\n",
    "\n",
    "transport.connect(username = username, password = passwords)\n",
    "sftp = paramiko.SFTPClient.from_transport(transport)"
   ]
  },
  {
   "cell_type": "code",
   "execution_count": 7,
   "metadata": {},
   "outputs": [],
   "source": [
    "all_files=sftp.listdir(\"/home/client/BigLotsData/\")\n",
    "all_new_item_level_files=[]\n",
    "for file_path in all_files:\n",
    "    if \"MediaStormDailySalesHistory\" in file_path:\n",
    "        all_new_item_level_files=all_new_item_level_files+[\"/home/client/BigLotsData/\"+file_path]"
   ]
  },
  {
   "cell_type": "code",
   "execution_count": 14,
   "metadata": {},
   "outputs": [],
   "source": [
    "for remote_file in all_new_item_level_files:\n",
    "    basename=os.path.basename(remote_file)\n",
    "    local_path=\"/home/jian/BigLots/hist_daily_data_itemlevel/\"+basename\n",
    "    sftp.get(remote_file,local_path)\n",
    "    \n",
    "sftp.close()"
   ]
  },
  {
   "cell_type": "code",
   "execution_count": 15,
   "metadata": {},
   "outputs": [
    {
     "data": {
      "text/plain": [
       "'/home/jian/BigLots/hist_daily_data_itemlevel/MediaStormDailySalesHistory20190126.zip'"
      ]
     },
     "execution_count": 15,
     "metadata": {},
     "output_type": "execute_result"
    }
   ],
   "source": [
    "local_path"
   ]
  },
  {
   "cell_type": "code",
   "execution_count": null,
   "metadata": {
    "collapsed": true
   },
   "outputs": [],
   "source": []
  }
 ],
 "metadata": {
  "kernelspec": {
   "display_name": "Python 3",
   "language": "python",
   "name": "python3"
  },
  "language_info": {
   "codemirror_mode": {
    "name": "ipython",
    "version": 3
   },
   "file_extension": ".py",
   "mimetype": "text/x-python",
   "name": "python",
   "nbconvert_exporter": "python",
   "pygments_lexer": "ipython3",
   "version": "3.6.1"
  }
 },
 "nbformat": 4,
 "nbformat_minor": 2
}
