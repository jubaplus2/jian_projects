{
 "cells": [
  {
   "cell_type": "code",
   "execution_count": 1,
   "metadata": {},
   "outputs": [
    {
     "name": "stdout",
     "output_type": "stream",
     "text": [
      "2021-01-04 13:09:19.953758\n"
     ]
    }
   ],
   "source": [
    "import pandas as pd\n",
    "import glob\n",
    "import datetime\n",
    "import random\n",
    "import os\n",
    "import numpy as np\n",
    "print(datetime.datetime.now())"
   ]
  },
  {
   "cell_type": "code",
   "execution_count": 2,
   "metadata": {},
   "outputs": [],
   "source": [
    "output_folder_LR=\"./uploaded_file_LR/\"\n",
    "# output_folder_FB=\"./uploaded_file_FB/\""
   ]
  },
  {
   "cell_type": "code",
   "execution_count": 3,
   "metadata": {},
   "outputs": [
    {
     "name": "stdout",
     "output_type": "stream",
     "text": [
      "(30059100, 4) 30059100 30059100\n"
     ]
    }
   ],
   "source": [
    "df_all=pd.read_csv(\"./output_2021-01-03/df_output_TestOnly_updated_on_2021-01-03.csv\",usecols=['customer_id_hashed','email_address_hash','segment_2020Q4_Refresh'])\n",
    "df_all['segment_2020Q4_Refresh']=df_all['segment_2020Q4_Refresh'].replace(\"Unknown_NoPurchase_Unknown_T\",\"SignUpNoPurchase_2_12\")\n",
    "df_all['Destination']=np.where(df_all['segment_2020Q4_Refresh'].str[-2:]==\"_T\",\"FBAppOnly\",\"LR_and_FBApp\")\n",
    "\n",
    "print(df_all.shape,df_all['customer_id_hashed'].nunique(),df_all['email_address_hash'].nunique())"
   ]
  },
  {
   "cell_type": "markdown",
   "metadata": {},
   "source": [
    "# LR -- full refresh"
   ]
  },
  {
   "cell_type": "code",
   "execution_count": 4,
   "metadata": {},
   "outputs": [
    {
     "data": {
      "text/html": [
       "<div>\n",
       "<style scoped>\n",
       "    .dataframe tbody tr th:only-of-type {\n",
       "        vertical-align: middle;\n",
       "    }\n",
       "\n",
       "    .dataframe tbody tr th {\n",
       "        vertical-align: top;\n",
       "    }\n",
       "\n",
       "    .dataframe thead th {\n",
       "        text-align: right;\n",
       "    }\n",
       "</style>\n",
       "<table border=\"1\" class=\"dataframe\">\n",
       "  <thead>\n",
       "    <tr style=\"text-align: right;\">\n",
       "      <th></th>\n",
       "      <th>customer_id_hashed</th>\n",
       "      <th>email_address_hash</th>\n",
       "      <th>updated_segment_2020Q4_Refresh</th>\n",
       "    </tr>\n",
       "  </thead>\n",
       "  <tbody>\n",
       "    <tr>\n",
       "      <th>0</th>\n",
       "      <td>681869d76dbbf47685b2e2b2c247064ae83194cc5c5f80...</td>\n",
       "      <td>e12683b2ec8b57ddab043609795d36246df869be353af7...</td>\n",
       "      <td>Refreshable_LR_Rewards_T_Legacy_Active0X_H_PS</td>\n",
       "    </tr>\n",
       "    <tr>\n",
       "      <th>1</th>\n",
       "      <td>84e657f1f656952fb9412a63022017769d59a70cc36883...</td>\n",
       "      <td>64048ee5fbef6db265cf2890276f25c71029da14e7749b...</td>\n",
       "      <td>Refreshable_LR_Rewards_T_SOTF_Active0X_H_PS</td>\n",
       "    </tr>\n",
       "  </tbody>\n",
       "</table>\n",
       "</div>"
      ],
      "text/plain": [
       "                                  customer_id_hashed  \\\n",
       "0  681869d76dbbf47685b2e2b2c247064ae83194cc5c5f80...   \n",
       "1  84e657f1f656952fb9412a63022017769d59a70cc36883...   \n",
       "\n",
       "                                  email_address_hash  \\\n",
       "0  e12683b2ec8b57ddab043609795d36246df869be353af7...   \n",
       "1  64048ee5fbef6db265cf2890276f25c71029da14e7749b...   \n",
       "\n",
       "                  updated_segment_2020Q4_Refresh  \n",
       "0  Refreshable_LR_Rewards_T_Legacy_Active0X_H_PS  \n",
       "1    Refreshable_LR_Rewards_T_SOTF_Active0X_H_PS  "
      ]
     },
     "execution_count": 4,
     "metadata": {},
     "output_type": "execute_result"
    }
   ],
   "source": [
    "df_output_LR=df_all[df_all['Destination']==\"LR_and_FBApp\"]\n",
    "df_output_LR=df_output_LR.rename(columns={\"segment_2020Q4_Refresh\":\"updated_segment_2020Q4_Refresh\"})\n",
    "df_output_LR['updated_segment_2020Q4_Refresh']=\"Refreshable_LR_Rewards_T_\"+df_output_LR['updated_segment_2020Q4_Refresh']\n",
    "del df_output_LR['Destination']\n",
    "df_output_LR=df_output_LR[['customer_id_hashed','email_address_hash','updated_segment_2020Q4_Refresh']]\n",
    "df_output_LR.head(2)"
   ]
  },
  {
   "cell_type": "code",
   "execution_count": 5,
   "metadata": {},
   "outputs": [
    {
     "data": {
      "text/plain": [
       "['Refreshable_LR_Rewards_T_Legacy_Active0X_H_PS',\n",
       " 'Refreshable_LR_Rewards_T_Legacy_Active0X_L_PS',\n",
       " 'Refreshable_LR_Rewards_T_Legacy_Active0X_M_PS',\n",
       " 'Refreshable_LR_Rewards_T_Legacy_ActiveX12_L_PS',\n",
       " 'Refreshable_LR_Rewards_T_Legacy_Lapsed1318_L_PS',\n",
       " 'Refreshable_LR_Rewards_T_Legacy_Lapsed1924_Unknown_PS',\n",
       " 'Refreshable_LR_Rewards_T_Legacy_Lapsed2530_Unknown_PS',\n",
       " 'Refreshable_LR_Rewards_T_SOTF_Active0X_H_PS',\n",
       " 'Refreshable_LR_Rewards_T_SOTF_Active0X_L_PS',\n",
       " 'Refreshable_LR_Rewards_T_SOTF_Active0X_M_PS',\n",
       " 'Refreshable_LR_Rewards_T_SOTF_ActiveX12_L_PS',\n",
       " 'Refreshable_LR_Rewards_T_SOTF_Lapsed1318_L_PS',\n",
       " 'Refreshable_LR_Rewards_T_SOTF_Lapsed1924_Unknown_PS',\n",
       " 'Refreshable_LR_Rewards_T_SOTF_Lapsed2530_Unknown_PS',\n",
       " 'Refreshable_LR_Rewards_T_SignUpNoPurchase_2_12']"
      ]
     },
     "execution_count": 5,
     "metadata": {},
     "output_type": "execute_result"
    }
   ],
   "source": [
    "list_seg_LR=df_output_LR['updated_segment_2020Q4_Refresh'].unique().tolist()\n",
    "list_seg_LR.sort()\n",
    "list_seg_LR"
   ]
  },
  {
   "cell_type": "code",
   "execution_count": 6,
   "metadata": {},
   "outputs": [
    {
     "data": {
      "text/html": [
       "<div>\n",
       "<style scoped>\n",
       "    .dataframe tbody tr th:only-of-type {\n",
       "        vertical-align: middle;\n",
       "    }\n",
       "\n",
       "    .dataframe tbody tr th {\n",
       "        vertical-align: top;\n",
       "    }\n",
       "\n",
       "    .dataframe thead th {\n",
       "        text-align: right;\n",
       "    }\n",
       "</style>\n",
       "<table border=\"1\" class=\"dataframe\">\n",
       "  <thead>\n",
       "    <tr style=\"text-align: right;\">\n",
       "      <th></th>\n",
       "      <th>customer_id_hashed</th>\n",
       "      <th>email_address_hash</th>\n",
       "      <th>updated_segment_2020Q4_Refresh</th>\n",
       "    </tr>\n",
       "  </thead>\n",
       "  <tbody>\n",
       "    <tr>\n",
       "      <th>0</th>\n",
       "      <td>b78dccfd64ce659af7061c5743b6b9305814336bc9ddec...</td>\n",
       "      <td>4836bfc632a2a5987d47fa6bf0637c21c4466a0e99ddee...</td>\n",
       "      <td>Refreshable_LR_Rewards_T_Legacy_Active0X_H_PS</td>\n",
       "    </tr>\n",
       "    <tr>\n",
       "      <th>1</th>\n",
       "      <td>681869d76dbbf47685b2e2b2c247064ae83194cc5c5f80...</td>\n",
       "      <td>e12683b2ec8b57ddab043609795d36246df869be353af7...</td>\n",
       "      <td>Refreshable_LR_Rewards_T_Legacy_Active0X_H_PS</td>\n",
       "    </tr>\n",
       "    <tr>\n",
       "      <th>2</th>\n",
       "      <td>3efc4531caf1e69c86e49f007901c143d81df33086abe7...</td>\n",
       "      <td>79fc174d2b4e651ffdd8cc69fde21d61ce27dc65d32e68...</td>\n",
       "      <td>Refreshable_LR_Rewards_T_Legacy_Active0X_H_PS</td>\n",
       "    </tr>\n",
       "  </tbody>\n",
       "</table>\n",
       "</div>"
      ],
      "text/plain": [
       "                                  customer_id_hashed  \\\n",
       "0  b78dccfd64ce659af7061c5743b6b9305814336bc9ddec...   \n",
       "1  681869d76dbbf47685b2e2b2c247064ae83194cc5c5f80...   \n",
       "2  3efc4531caf1e69c86e49f007901c143d81df33086abe7...   \n",
       "\n",
       "                                  email_address_hash  \\\n",
       "0  4836bfc632a2a5987d47fa6bf0637c21c4466a0e99ddee...   \n",
       "1  e12683b2ec8b57ddab043609795d36246df869be353af7...   \n",
       "2  79fc174d2b4e651ffdd8cc69fde21d61ce27dc65d32e68...   \n",
       "\n",
       "                  updated_segment_2020Q4_Refresh  \n",
       "0  Refreshable_LR_Rewards_T_Legacy_Active0X_H_PS  \n",
       "1  Refreshable_LR_Rewards_T_Legacy_Active0X_H_PS  \n",
       "2  Refreshable_LR_Rewards_T_Legacy_Active0X_H_PS  "
      ]
     },
     "execution_count": 6,
     "metadata": {},
     "output_type": "execute_result"
    }
   ],
   "source": [
    "df_initial_LR_file=pd.read_csv(output_folder_LR+\"BL_2020Q4_audience_Refreshable_JL_2020-10-19.csv\",dtype=str)\n",
    "list_seg_LR_old=df_initial_LR_file['updated_segment_2020Q4_Refresh'].unique().tolist()\n",
    "list_seg_LR_old.sort()\n",
    "\n",
    "df_initial_LR_file.head(3)"
   ]
  },
  {
   "cell_type": "code",
   "execution_count": 7,
   "metadata": {},
   "outputs": [
    {
     "data": {
      "text/plain": [
       "(504502, 3)"
      ]
     },
     "execution_count": 7,
     "metadata": {},
     "output_type": "execute_result"
    }
   ],
   "source": [
    "df_initial_LR_file_Control=df_initial_LR_file[df_initial_LR_file['updated_segment_2020Q4_Refresh'].str.contains(\"Control\")]\n",
    "df_initial_LR_file_Control.shape"
   ]
  },
  {
   "cell_type": "code",
   "execution_count": 8,
   "metadata": {},
   "outputs": [
    {
     "name": "stdout",
     "output_type": "stream",
     "text": [
      "True\n",
      "False\n"
     ]
    }
   ],
   "source": [
    "print(df_output_LR.columns.tolist()==df_initial_LR_file.columns.tolist())\n",
    "df_output_LR=df_output_LR.append(df_initial_LR_file_Control)\n",
    "\n",
    "print(sorted(df_output_LR['updated_segment_2020Q4_Refresh'].unique().tolist())==sorted(df_initial_LR_file['updated_segment_2020Q4_Refresh'].unique().tolist()))\n"
   ]
  },
  {
   "cell_type": "code",
   "execution_count": 9,
   "metadata": {},
   "outputs": [
    {
     "data": {
      "text/html": [
       "<div>\n",
       "<style scoped>\n",
       "    .dataframe tbody tr th:only-of-type {\n",
       "        vertical-align: middle;\n",
       "    }\n",
       "\n",
       "    .dataframe tbody tr th {\n",
       "        vertical-align: top;\n",
       "    }\n",
       "\n",
       "    .dataframe thead th {\n",
       "        text-align: right;\n",
       "    }\n",
       "</style>\n",
       "<table border=\"1\" class=\"dataframe\">\n",
       "  <thead>\n",
       "    <tr style=\"text-align: right;\">\n",
       "      <th></th>\n",
       "      <th>customer_id_hashed</th>\n",
       "      <th>email_address_hash</th>\n",
       "      <th>updated_segment_2020Q4_Refresh</th>\n",
       "    </tr>\n",
       "  </thead>\n",
       "  <tbody>\n",
       "    <tr>\n",
       "      <th>0</th>\n",
       "      <td>681869d76dbbf47685b2e2b2c247064ae83194cc5c5f80...</td>\n",
       "      <td>e12683b2ec8b57ddab043609795d36246df869be353af7...</td>\n",
       "      <td>Refreshable_LR_Rewards_T_Legacy_Active0X_H_PS</td>\n",
       "    </tr>\n",
       "    <tr>\n",
       "      <th>1</th>\n",
       "      <td>84e657f1f656952fb9412a63022017769d59a70cc36883...</td>\n",
       "      <td>64048ee5fbef6db265cf2890276f25c71029da14e7749b...</td>\n",
       "      <td>Refreshable_LR_Rewards_T_SOTF_Active0X_H_PS</td>\n",
       "    </tr>\n",
       "  </tbody>\n",
       "</table>\n",
       "</div>"
      ],
      "text/plain": [
       "                                  customer_id_hashed  \\\n",
       "0  681869d76dbbf47685b2e2b2c247064ae83194cc5c5f80...   \n",
       "1  84e657f1f656952fb9412a63022017769d59a70cc36883...   \n",
       "\n",
       "                                  email_address_hash  \\\n",
       "0  e12683b2ec8b57ddab043609795d36246df869be353af7...   \n",
       "1  64048ee5fbef6db265cf2890276f25c71029da14e7749b...   \n",
       "\n",
       "                  updated_segment_2020Q4_Refresh  \n",
       "0  Refreshable_LR_Rewards_T_Legacy_Active0X_H_PS  \n",
       "1    Refreshable_LR_Rewards_T_SOTF_Active0X_H_PS  "
      ]
     },
     "execution_count": 9,
     "metadata": {},
     "output_type": "execute_result"
    }
   ],
   "source": [
    "df_output_LR.head(2)"
   ]
  },
  {
   "cell_type": "code",
   "execution_count": 10,
   "metadata": {},
   "outputs": [],
   "source": [
    "df_output_LR.to_csv(output_folder_LR+\"BL_2020Q4_audience_Refreshable_JL_%s.csv\"%str(datetime.datetime.now().date()),index=False)\n"
   ]
  },
  {
   "cell_type": "markdown",
   "metadata": {},
   "source": [
    "# FB -- Incremental refresh"
   ]
  },
  {
   "cell_type": "code",
   "execution_count": 11,
   "metadata": {},
   "outputs": [],
   "source": [
    "output_folder_FB_inner=output_folder_FB+\"output_%s/\"%str(datetime.datetime.now().date())\n",
    "try:\n",
    "    os.stat(output_folder_FB_inner)\n",
    "except:\n",
    "    os.mkdir(output_folder_FB_inner)"
   ]
  },
  {
   "cell_type": "code",
   "execution_count": 12,
   "metadata": {},
   "outputs": [
    {
     "name": "stdout",
     "output_type": "stream",
     "text": [
      "17\n"
     ]
    }
   ],
   "source": [
    "df_last_output=pd.read_csv(\"./output_2020-12-10/df_output_TestOnly_updated_on_2020-12-10.csv\",usecols=['customer_id_hashed','email_address_hash','segment_2020Q4_Refresh'])\n",
    "df_last_output['segment_2020Q4_Refresh']=df_last_output['segment_2020Q4_Refresh'].replace(\"Unknown_NoPurchase_Unknown_T\",\"SignUpNoPurchase_2_12\")\n",
    "df_last_output['Destination']=np.where(df_last_output['segment_2020Q4_Refresh'].str[-2:]==\"_T\",\"FBAppOnly\",\"LR_and_FBApp\")\n",
    "\n",
    "df_last_output['segment_2020Q4_Refresh']=\"T_\"+df_last_output['segment_2020Q4_Refresh']\n",
    "df_last_output['segment_2020Q4_Refresh']=df_last_output['segment_2020Q4_Refresh'].str.replace(\"_T\",\"\").str.replace(\"_PS\",\"\")\n",
    "list_last_FB_segs=df_last_output['segment_2020Q4_Refresh'].unique().tolist()\n",
    "list_last_FB_segs.sort()\n",
    "print(len(list_last_FB_segs))\n"
   ]
  },
  {
   "cell_type": "code",
   "execution_count": 13,
   "metadata": {},
   "outputs": [
    {
     "name": "stderr",
     "output_type": "stream",
     "text": [
      "/opt/anaconda3/lib/python3.7/site-packages/ipykernel_launcher.py:2: SettingWithCopyWarning: \n",
      "A value is trying to be set on a copy of a slice from a DataFrame.\n",
      "Try using .loc[row_indexer,col_indexer] = value instead\n",
      "\n",
      "See the caveats in the documentation: https://pandas.pydata.org/pandas-docs/stable/user_guide/indexing.html#returning-a-view-versus-a-copy\n",
      "  \n",
      "/opt/anaconda3/lib/python3.7/site-packages/ipykernel_launcher.py:3: SettingWithCopyWarning: \n",
      "A value is trying to be set on a copy of a slice from a DataFrame.\n",
      "Try using .loc[row_indexer,col_indexer] = value instead\n",
      "\n",
      "See the caveats in the documentation: https://pandas.pydata.org/pandas-docs/stable/user_guide/indexing.html#returning-a-view-versus-a-copy\n",
      "  This is separate from the ipykernel package so we can avoid doing imports until\n"
     ]
    },
    {
     "data": {
      "text/html": [
       "<div>\n",
       "<style scoped>\n",
       "    .dataframe tbody tr th:only-of-type {\n",
       "        vertical-align: middle;\n",
       "    }\n",
       "\n",
       "    .dataframe tbody tr th {\n",
       "        vertical-align: top;\n",
       "    }\n",
       "\n",
       "    .dataframe thead th {\n",
       "        text-align: right;\n",
       "    }\n",
       "</style>\n",
       "<table border=\"1\" class=\"dataframe\">\n",
       "  <thead>\n",
       "    <tr style=\"text-align: right;\">\n",
       "      <th></th>\n",
       "      <th>customer_id_hashed</th>\n",
       "      <th>email_address_hash</th>\n",
       "      <th>segment_2020Q4_Refresh</th>\n",
       "    </tr>\n",
       "  </thead>\n",
       "  <tbody>\n",
       "    <tr>\n",
       "      <th>0</th>\n",
       "      <td>681869d76dbbf47685b2e2b2c247064ae83194cc5c5f80...</td>\n",
       "      <td>e12683b2ec8b57ddab043609795d36246df869be353af7...</td>\n",
       "      <td>T_Legacy_Active0X_H</td>\n",
       "    </tr>\n",
       "    <tr>\n",
       "      <th>1</th>\n",
       "      <td>84e657f1f656952fb9412a63022017769d59a70cc36883...</td>\n",
       "      <td>64048ee5fbef6db265cf2890276f25c71029da14e7749b...</td>\n",
       "      <td>T_SOTF_Active0X_H</td>\n",
       "    </tr>\n",
       "  </tbody>\n",
       "</table>\n",
       "</div>"
      ],
      "text/plain": [
       "                                  customer_id_hashed  \\\n",
       "0  681869d76dbbf47685b2e2b2c247064ae83194cc5c5f80...   \n",
       "1  84e657f1f656952fb9412a63022017769d59a70cc36883...   \n",
       "\n",
       "                                  email_address_hash segment_2020Q4_Refresh  \n",
       "0  e12683b2ec8b57ddab043609795d36246df869be353af7...    T_Legacy_Active0X_H  \n",
       "1  64048ee5fbef6db265cf2890276f25c71029da14e7749b...      T_SOTF_Active0X_H  "
      ]
     },
     "execution_count": 13,
     "metadata": {},
     "output_type": "execute_result"
    }
   ],
   "source": [
    "df_output_FB=df_all[['customer_id_hashed','email_address_hash','segment_2020Q4_Refresh']]\n",
    "df_output_FB['segment_2020Q4_Refresh']=\"T_\"+df_output_FB['segment_2020Q4_Refresh']\n",
    "df_output_FB['segment_2020Q4_Refresh']=df_output_FB['segment_2020Q4_Refresh'].str.replace(\"_T\",\"\").str.replace(\"_PS\",\"\")\n",
    "df_output_FB.head(2)\n",
    "\n"
   ]
  },
  {
   "cell_type": "code",
   "execution_count": 14,
   "metadata": {},
   "outputs": [
    {
     "data": {
      "text/plain": [
       "15"
      ]
     },
     "execution_count": 14,
     "metadata": {},
     "output_type": "execute_result"
    }
   ],
   "source": [
    "list_seg_FB=df_output_FB['segment_2020Q4_Refresh'].unique().tolist()\n",
    "list_seg_FB.sort()\n",
    "len(list_seg_FB)"
   ]
  },
  {
   "cell_type": "code",
   "execution_count": 15,
   "metadata": {},
   "outputs": [
    {
     "name": "stdout",
     "output_type": "stream",
     "text": [
      "False\n"
     ]
    }
   ],
   "source": [
    "# sorted([x+\".csv\" for x in list_seg_FB])==sorted([os.path.basename(x) for x in list_initial_FB_files])\n",
    "print(list_last_FB_segs==list_seg_FB)"
   ]
  },
  {
   "cell_type": "code",
   "execution_count": 16,
   "metadata": {},
   "outputs": [
    {
     "name": "stdout",
     "output_type": "stream",
     "text": [
      "['T_Legacy_ActiveX12_M', 'T_SOTF_ActiveX12_M']\n",
      "['T_Legacy_ActiveX12_L', 'T_SOTF_ActiveX12_L']\n"
     ]
    }
   ],
   "source": [
    "print([x for x in list_last_FB_segs if x not in list_seg_FB])\n",
    "print([x for x in list_seg_FB if \"_ActiveX12\" in x])\n",
    "# The update falls in L group"
   ]
  },
  {
   "cell_type": "code",
   "execution_count": 17,
   "metadata": {},
   "outputs": [
    {
     "name": "stdout",
     "output_type": "stream",
     "text": [
      "2021-01-04 13:22:35.460182 T_Legacy_Active0X_H\n",
      "5753028 5659745 1149360 1056077\n",
      "2021-01-04 13:22:43.381165 T_Legacy_Active0X_L\n",
      "1603078 1363408 321897 82227\n",
      "2021-01-04 13:23:05.501610 T_Legacy_Active0X_M\n",
      "4278114 4043085 1052503 817474\n",
      "2021-01-04 13:23:11.092847 T_Legacy_ActiveX12_L\n",
      "1004769 911116 165861 72208\n",
      "2021-01-04 13:23:19.381212 T_Legacy_Lapsed1318_L\n",
      "1752579 2036480 2084 285985\n",
      "2021-01-04 13:23:25.433903 T_Legacy_Lapsed1924_Unknown\n",
      "1407586 1259425 182754 34593\n",
      "2021-01-04 13:23:32.117663 T_Legacy_Lapsed2530_Unknown\n",
      "1619608 1648082 15490 43964\n",
      "2021-01-04 13:23:49.984359 T_SOTF_Active0X_H\n",
      "3139879 3105083 631283 596487\n",
      "2021-01-04 13:23:55.247097 T_SOTF_Active0X_L\n",
      "872835 740092 177616 44873\n",
      "2021-01-04 13:24:08.150481 T_SOTF_Active0X_M\n",
      "2378929 2233540 593973 448584\n",
      "2021-01-04 13:24:11.845077 T_SOTF_ActiveX12_L\n",
      "529043 480314 87447 38718\n",
      "2021-01-04 13:24:17.137278 T_SOTF_Lapsed1318_L\n",
      "885858 1024490 2669 141301\n",
      "2021-01-04 13:24:20.975770 T_SOTF_Lapsed1924_Unknown\n",
      "626094 557779 84235 15920\n",
      "2021-01-04 13:24:24.637630 T_SOTF_Lapsed2530_Unknown\n",
      "679277 690920 8131 19774\n",
      "2021-01-04 13:24:37.287872 T_SignUpNoPurchase_2_12\n",
      "3528423 3439328 289577 200482\n"
     ]
    }
   ],
   "source": [
    "for seg,df_group in df_output_FB.groupby(\"segment_2020Q4_Refresh\"):\n",
    "    # file_old=output_folder_FB+\"output_2020-10-09/%s.csv\"%seg | as the initial one\n",
    "    # file_old=df_last_output[df_last_output['segment_2020Q4_Refresh']==seg]\n",
    "    \n",
    "    df_old=df_last_output[df_last_output['segment_2020Q4_Refresh']==seg]\n",
    "    \n",
    "    df_seg_incremental=df_group[~df_group['email_address_hash'].isin(df_old['email_address_hash'].tolist())]\n",
    "    df_seg_delete=df_old[~df_old['email_address_hash'].isin(df_group['email_address_hash'].tolist())]\n",
    "    \n",
    "    df_seg_incremental.to_csv(output_folder_FB_inner+\"users_to_add_%s.csv\"%seg,index=False)\n",
    "    df_seg_delete.to_csv(output_folder_FB_inner+\"users_to_remove_%s.csv\"%seg,index=False)\n",
    "    print(datetime.datetime.now(),seg)\n",
    "    print(df_group.shape[0],df_old.shape[0],df_seg_incremental.shape[0],df_seg_delete.shape[0])"
   ]
  },
  {
   "cell_type": "markdown",
   "metadata": {},
   "source": [
    "# Uploading"
   ]
  },
  {
   "cell_type": "code",
   "execution_count": 18,
   "metadata": {},
   "outputs": [],
   "source": [
    "# LR\n",
    "\n",
    "import paramiko\n",
    "host = \"files.liveramp.com\"\n",
    "port = 22\n",
    "password = \"Biglots2018!\"\n",
    "username = \"lr-big-lots\"\n",
    "\n",
    "transport = paramiko.Transport((host, port))\n",
    "\n",
    "transport.connect(username = username, password = password)\n",
    "sftp = paramiko.SFTPClient.from_transport(transport)\n"
   ]
  },
  {
   "cell_type": "code",
   "execution_count": 19,
   "metadata": {},
   "outputs": [
    {
     "name": "stdout",
     "output_type": "stream",
     "text": [
      "./uploaded_file_LR/BL_2020Q4_audience_Refreshable_JL_2021-01-04.csv\n"
     ]
    }
   ],
   "source": [
    "local_file=output_folder_LR+\"BL_2020Q4_audience_Refreshable_JL_%s.csv\"%str(datetime.datetime.now().date())\n",
    "print(local_file)"
   ]
  },
  {
   "cell_type": "code",
   "execution_count": 20,
   "metadata": {},
   "outputs": [
    {
     "data": {
      "text/html": [
       "<div>\n",
       "<style scoped>\n",
       "    .dataframe tbody tr th:only-of-type {\n",
       "        vertical-align: middle;\n",
       "    }\n",
       "\n",
       "    .dataframe tbody tr th {\n",
       "        vertical-align: top;\n",
       "    }\n",
       "\n",
       "    .dataframe thead th {\n",
       "        text-align: right;\n",
       "    }\n",
       "</style>\n",
       "<table border=\"1\" class=\"dataframe\">\n",
       "  <thead>\n",
       "    <tr style=\"text-align: right;\">\n",
       "      <th></th>\n",
       "      <th>customer_id_hashed</th>\n",
       "      <th>email_address_hash</th>\n",
       "      <th>updated_segment_2020Q4_Refresh</th>\n",
       "    </tr>\n",
       "  </thead>\n",
       "  <tbody>\n",
       "    <tr>\n",
       "      <th>0</th>\n",
       "      <td>681869d76dbbf47685b2e2b2c247064ae83194cc5c5f80...</td>\n",
       "      <td>e12683b2ec8b57ddab043609795d36246df869be353af7...</td>\n",
       "      <td>Refreshable_LR_Rewards_T_Legacy_Active0X_H_PS</td>\n",
       "    </tr>\n",
       "    <tr>\n",
       "      <th>1</th>\n",
       "      <td>84e657f1f656952fb9412a63022017769d59a70cc36883...</td>\n",
       "      <td>64048ee5fbef6db265cf2890276f25c71029da14e7749b...</td>\n",
       "      <td>Refreshable_LR_Rewards_T_SOTF_Active0X_H_PS</td>\n",
       "    </tr>\n",
       "  </tbody>\n",
       "</table>\n",
       "</div>"
      ],
      "text/plain": [
       "                                  customer_id_hashed  \\\n",
       "0  681869d76dbbf47685b2e2b2c247064ae83194cc5c5f80...   \n",
       "1  84e657f1f656952fb9412a63022017769d59a70cc36883...   \n",
       "\n",
       "                                  email_address_hash  \\\n",
       "0  e12683b2ec8b57ddab043609795d36246df869be353af7...   \n",
       "1  64048ee5fbef6db265cf2890276f25c71029da14e7749b...   \n",
       "\n",
       "                  updated_segment_2020Q4_Refresh  \n",
       "0  Refreshable_LR_Rewards_T_Legacy_Active0X_H_PS  \n",
       "1    Refreshable_LR_Rewards_T_SOTF_Active0X_H_PS  "
      ]
     },
     "execution_count": 20,
     "metadata": {},
     "output_type": "execute_result"
    }
   ],
   "source": [
    "df_output_LR.head(2)"
   ]
  },
  {
   "cell_type": "code",
   "execution_count": 21,
   "metadata": {},
   "outputs": [
    {
     "data": {
      "text/html": [
       "<div>\n",
       "<style scoped>\n",
       "    .dataframe tbody tr th:only-of-type {\n",
       "        vertical-align: middle;\n",
       "    }\n",
       "\n",
       "    .dataframe tbody tr th {\n",
       "        vertical-align: top;\n",
       "    }\n",
       "\n",
       "    .dataframe thead th {\n",
       "        text-align: right;\n",
       "    }\n",
       "</style>\n",
       "<table border=\"1\" class=\"dataframe\">\n",
       "  <thead>\n",
       "    <tr style=\"text-align: right;\">\n",
       "      <th></th>\n",
       "      <th>customer_id_hashed</th>\n",
       "      <th>email_address_hash</th>\n",
       "      <th>updated_segment_2020Q4_Refresh</th>\n",
       "    </tr>\n",
       "  </thead>\n",
       "  <tbody>\n",
       "    <tr>\n",
       "      <th>0</th>\n",
       "      <td>681869d76dbbf47685b2e2b2c247064ae83194cc5c5f80...</td>\n",
       "      <td>e12683b2ec8b57ddab043609795d36246df869be353af7...</td>\n",
       "      <td>Refreshable_LR_Rewards_T_Legacy_Active0X_H_PS</td>\n",
       "    </tr>\n",
       "    <tr>\n",
       "      <th>1</th>\n",
       "      <td>84e657f1f656952fb9412a63022017769d59a70cc36883...</td>\n",
       "      <td>64048ee5fbef6db265cf2890276f25c71029da14e7749b...</td>\n",
       "      <td>Refreshable_LR_Rewards_T_SOTF_Active0X_H_PS</td>\n",
       "    </tr>\n",
       "    <tr>\n",
       "      <th>2</th>\n",
       "      <td>3efc4531caf1e69c86e49f007901c143d81df33086abe7...</td>\n",
       "      <td>79fc174d2b4e651ffdd8cc69fde21d61ce27dc65d32e68...</td>\n",
       "      <td>Refreshable_LR_Rewards_T_Legacy_Active0X_H_PS</td>\n",
       "    </tr>\n",
       "    <tr>\n",
       "      <th>3</th>\n",
       "      <td>b78dccfd64ce659af7061c5743b6b9305814336bc9ddec...</td>\n",
       "      <td>4836bfc632a2a5987d47fa6bf0637c21c4466a0e99ddee...</td>\n",
       "      <td>Refreshable_LR_Rewards_T_Legacy_Active0X_H_PS</td>\n",
       "    </tr>\n",
       "    <tr>\n",
       "      <th>4</th>\n",
       "      <td>02cdd41af5ee82b39607416b74290152b00183fbce3068...</td>\n",
       "      <td>295e2ee597ca9fce3fa6fd8abbd947a93bb4eb4732e6e2...</td>\n",
       "      <td>Refreshable_LR_Rewards_T_SOTF_Active0X_H_PS</td>\n",
       "    </tr>\n",
       "    <tr>\n",
       "      <th>5</th>\n",
       "      <td>8f9005dc30f9fb129b21dec1ca9e329eaba3cc43dbd8a9...</td>\n",
       "      <td>089cc0883c4184de4534e6e5f9cbeba535aed590e9ba64...</td>\n",
       "      <td>Refreshable_LR_Rewards_T_Legacy_Active0X_H_PS</td>\n",
       "    </tr>\n",
       "    <tr>\n",
       "      <th>6</th>\n",
       "      <td>653da115e69c7483b704afd0b59aa6bb1b7985622c1e6e...</td>\n",
       "      <td>7646b3a4274afc2c27b0ba77a5d57fee05f1f67ca3ad2c...</td>\n",
       "      <td>Refreshable_LR_Rewards_T_SOTF_Active0X_H_PS</td>\n",
       "    </tr>\n",
       "    <tr>\n",
       "      <th>7</th>\n",
       "      <td>2b9596baee881d78973a22de74cc444d8bc34c0b2f5c57...</td>\n",
       "      <td>20027e25bed6479d9b2caf01165da75eeb7700f44e88b6...</td>\n",
       "      <td>Refreshable_LR_Rewards_T_Legacy_Active0X_H_PS</td>\n",
       "    </tr>\n",
       "    <tr>\n",
       "      <th>8</th>\n",
       "      <td>155ec31d15d73bd900fdc7e194a703f6975afe86a930bb...</td>\n",
       "      <td>06ebb762d5ba16e5673a5c95e15481064e124d68277c57...</td>\n",
       "      <td>Refreshable_LR_Rewards_T_SOTF_Active0X_H_PS</td>\n",
       "    </tr>\n",
       "    <tr>\n",
       "      <th>9</th>\n",
       "      <td>5b9138f003d812e2a908bd405239be7723eb13329e8c29...</td>\n",
       "      <td>db249a8974550210012085b14c95e6f9cdf99ef5ce6161...</td>\n",
       "      <td>Refreshable_LR_Rewards_T_Legacy_Active0X_H_PS</td>\n",
       "    </tr>\n",
       "  </tbody>\n",
       "</table>\n",
       "</div>"
      ],
      "text/plain": [
       "                                  customer_id_hashed  \\\n",
       "0  681869d76dbbf47685b2e2b2c247064ae83194cc5c5f80...   \n",
       "1  84e657f1f656952fb9412a63022017769d59a70cc36883...   \n",
       "2  3efc4531caf1e69c86e49f007901c143d81df33086abe7...   \n",
       "3  b78dccfd64ce659af7061c5743b6b9305814336bc9ddec...   \n",
       "4  02cdd41af5ee82b39607416b74290152b00183fbce3068...   \n",
       "5  8f9005dc30f9fb129b21dec1ca9e329eaba3cc43dbd8a9...   \n",
       "6  653da115e69c7483b704afd0b59aa6bb1b7985622c1e6e...   \n",
       "7  2b9596baee881d78973a22de74cc444d8bc34c0b2f5c57...   \n",
       "8  155ec31d15d73bd900fdc7e194a703f6975afe86a930bb...   \n",
       "9  5b9138f003d812e2a908bd405239be7723eb13329e8c29...   \n",
       "\n",
       "                                  email_address_hash  \\\n",
       "0  e12683b2ec8b57ddab043609795d36246df869be353af7...   \n",
       "1  64048ee5fbef6db265cf2890276f25c71029da14e7749b...   \n",
       "2  79fc174d2b4e651ffdd8cc69fde21d61ce27dc65d32e68...   \n",
       "3  4836bfc632a2a5987d47fa6bf0637c21c4466a0e99ddee...   \n",
       "4  295e2ee597ca9fce3fa6fd8abbd947a93bb4eb4732e6e2...   \n",
       "5  089cc0883c4184de4534e6e5f9cbeba535aed590e9ba64...   \n",
       "6  7646b3a4274afc2c27b0ba77a5d57fee05f1f67ca3ad2c...   \n",
       "7  20027e25bed6479d9b2caf01165da75eeb7700f44e88b6...   \n",
       "8  06ebb762d5ba16e5673a5c95e15481064e124d68277c57...   \n",
       "9  db249a8974550210012085b14c95e6f9cdf99ef5ce6161...   \n",
       "\n",
       "                  updated_segment_2020Q4_Refresh  \n",
       "0  Refreshable_LR_Rewards_T_Legacy_Active0X_H_PS  \n",
       "1    Refreshable_LR_Rewards_T_SOTF_Active0X_H_PS  \n",
       "2  Refreshable_LR_Rewards_T_Legacy_Active0X_H_PS  \n",
       "3  Refreshable_LR_Rewards_T_Legacy_Active0X_H_PS  \n",
       "4    Refreshable_LR_Rewards_T_SOTF_Active0X_H_PS  \n",
       "5  Refreshable_LR_Rewards_T_Legacy_Active0X_H_PS  \n",
       "6    Refreshable_LR_Rewards_T_SOTF_Active0X_H_PS  \n",
       "7  Refreshable_LR_Rewards_T_Legacy_Active0X_H_PS  \n",
       "8    Refreshable_LR_Rewards_T_SOTF_Active0X_H_PS  \n",
       "9  Refreshable_LR_Rewards_T_Legacy_Active0X_H_PS  "
      ]
     },
     "execution_count": 21,
     "metadata": {},
     "output_type": "execute_result"
    }
   ],
   "source": [
    "qc_df=pd.read_csv(local_file,dtype=str,nrows=10)\n",
    "qc_df"
   ]
  },
  {
   "cell_type": "code",
   "execution_count": 22,
   "metadata": {},
   "outputs": [
    {
     "name": "stdout",
     "output_type": "stream",
     "text": [
      "Done: 2021-01-04 14:29:53.659055\n"
     ]
    }
   ],
   "source": [
    "base_name=os.path.basename(local_file)\n",
    "remote_name=\"/uploads/big_lots_onboarding_refresh/\"+base_name\n",
    "sftp.put(local_file,remote_name)\n",
    "    \n",
    "print(\"Done: \"+str(datetime.datetime.now()))"
   ]
  },
  {
   "cell_type": "code",
   "execution_count": null,
   "metadata": {},
   "outputs": [],
   "source": []
  }
 ],
 "metadata": {
  "kernelspec": {
   "display_name": "Python 3",
   "language": "python",
   "name": "python3"
  },
  "language_info": {
   "codemirror_mode": {
    "name": "ipython",
    "version": 3
   },
   "file_extension": ".py",
   "mimetype": "text/x-python",
   "name": "python",
   "nbconvert_exporter": "python",
   "pygments_lexer": "ipython3",
   "version": "3.7.6"
  }
 },
 "nbformat": 4,
 "nbformat_minor": 2
}
