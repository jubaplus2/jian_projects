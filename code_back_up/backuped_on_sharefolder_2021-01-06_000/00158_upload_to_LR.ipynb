{
 "cells": [
  {
   "cell_type": "code",
   "execution_count": 1,
   "metadata": {},
   "outputs": [
    {
     "name": "stdout",
     "output_type": "stream",
     "text": [
      "/home/jian/Projects/Big_Lots/Live_Ramp/Quarterly_Update_2020Q3\n",
      "2020-07-24 15:08:57.144929\n"
     ]
    }
   ],
   "source": [
    "import glob\n",
    "import os\n",
    "import paramiko\n",
    "import pandas as pd\n",
    "import numpy as np\n",
    "import datetime\n",
    "\n",
    "print(os.getcwd())\n",
    "print(datetime.datetime.now())"
   ]
  },
  {
   "cell_type": "code",
   "execution_count": 2,
   "metadata": {},
   "outputs": [
    {
     "data": {
      "text/plain": [
       "40"
      ]
     },
     "execution_count": 2,
     "metadata": {},
     "output_type": "execute_result"
    }
   ],
   "source": [
    "quarter=\"2020Q3\"\n",
    "writer_upload_files_folder=\"/home/jian/Projects/Big_Lots/Live_Ramp/Quarterly_Update_%s/upload_files/\"%quarter\n",
    "try:\n",
    "    os.stat(writer_upload_files_folder)\n",
    "except:\n",
    "    os.mkdir(writer_upload_files_folder)\n",
    "list_all=glob.glob(\"/home/jian/Projects/Big_Lots/Live_Ramp/Quarterly_Update_%s/wanted_segment_files/*\"%quarter)\n",
    "len(list_all)"
   ]
  },
  {
   "cell_type": "code",
   "execution_count": 3,
   "metadata": {},
   "outputs": [
    {
     "name": "stdout",
     "output_type": "stream",
     "text": [
      "20 20\n"
     ]
    }
   ],
   "source": [
    "list_all_T=[x for x in list_all if os.path.basename(x)[0]==\"T\"]\n",
    "list_all_C=[x for x in list_all if os.path.basename(x)[0]==\"C\"]\n",
    "\n",
    "print(len(list_all_T),len(list_all_C))"
   ]
  },
  {
   "cell_type": "code",
   "execution_count": 4,
   "metadata": {},
   "outputs": [
    {
     "name": "stdout",
     "output_type": "stream",
     "text": [
      "2020-07-24 15:09:09.215430 T_Legacy_H_Active_N.csv (714213, 3)\n",
      "(0, 3) (0, 3)\n",
      "(0, 3) (0, 3)\n",
      "2020-07-24 15:12:12.057613 T_Legacy_H_Active_Y.csv (4566738, 3)\n",
      "(0, 3) (0, 3)\n",
      "(0, 3) (0, 3)\n",
      "2020-07-24 15:12:22.492585 T_Legacy_L_Active_N.csv (337171, 3)\n",
      "(0, 3) (0, 3)\n",
      "(0, 3) (0, 3)\n",
      "2020-07-24 15:12:55.796363 T_Legacy_L_Active_Y.csv (1777547, 3)\n",
      "(0, 3) (0, 3)\n",
      "(0, 3) (0, 3)\n",
      "2020-07-24 15:13:02.794788 T_Legacy_L_Lapsed1318_N.csv (333765, 3)\n",
      "(0, 3) (0, 3)\n",
      "(0, 3) (0, 3)\n",
      "2020-07-24 15:13:34.412356 T_Legacy_L_Lapsed1318_Y.csv (1655051, 3)\n",
      "(0, 3) (0, 3)\n",
      "(0, 3) (0, 3)\n",
      "2020-07-24 15:13:46.371720 T_Legacy_M_Active_N.csv (608266, 3)\n",
      "(0, 3) (0, 3)\n",
      "(0, 3) (0, 3)\n",
      "2020-07-24 15:15:45.507654 T_Legacy_M_Active_Y.csv (3407990, 3)\n",
      "(0, 3) (0, 3)\n",
      "(0, 3) (0, 3)\n",
      "2020-07-24 15:16:04.796857 T_SOTF_H_Active_N.csv (392898, 3)\n",
      "(0, 3) (0, 3)\n",
      "(0, 3) (0, 3)\n",
      "2020-07-24 15:16:56.484280 T_SOTF_H_Active_Y.csv (2492503, 3)\n",
      "(0, 3) (0, 3)\n",
      "(0, 3) (0, 3)\n",
      "2020-07-24 15:17:07.428704 T_SOTF_L_Active_N.csv (180215, 3)\n",
      "(0, 3) (0, 3)\n",
      "(0, 3) (0, 3)\n",
      "2020-07-24 15:17:26.410234 T_SOTF_L_Active_Y.csv (917122, 3)\n",
      "(0, 3) (0, 3)\n",
      "(0, 3) (0, 3)\n",
      "2020-07-24 15:17:29.579644 T_SOTF_L_Lapsed1318_N.csv (161690, 3)\n",
      "(0, 3) (0, 3)\n",
      "(0, 3) (0, 3)\n",
      "2020-07-24 15:17:45.921516 T_SOTF_L_Lapsed1318_Y.csv (762206, 3)\n",
      "(0, 3) (0, 3)\n",
      "(0, 3) (0, 3)\n",
      "2020-07-24 15:17:53.203088 T_SOTF_M_Active_N.csv (322793, 3)\n",
      "(0, 3) (0, 3)\n",
      "(0, 3) (0, 3)\n",
      "2020-07-24 15:18:49.321586 T_SOTF_M_Active_Y.csv (1785716, 3)\n",
      "(0, 3) (0, 3)\n",
      "(0, 3) (0, 3)\n",
      "2020-07-24 15:19:32.859346 T_Legacy_NA_Lapsed1948_N.csv (1055428, 3)\n",
      "(0, 3) (0, 3)\n",
      "(0, 3) (0, 3)\n",
      "2020-07-24 15:23:08.440374 T_Legacy_NA_Lapsed1948_Y.csv (5259772, 3)\n",
      "(0, 3) (0, 3)\n",
      "(0, 3) (0, 3)\n",
      "2020-07-24 15:23:28.330592 T_SOTF_NA_Lapsed1948_N.csv (534504, 3)\n",
      "(0, 3) (0, 3)\n",
      "(0, 3) (0, 3)\n",
      "2020-07-24 15:24:23.801784 T_SOTF_NA_Lapsed1948_Y.csv (2537007, 3)\n",
      "(0, 3) (0, 3)\n",
      "(0, 3) (0, 3)\n"
     ]
    }
   ],
   "source": [
    "count_Test=0\n",
    "for file in list_all_T:\n",
    "    file_name=os.path.basename(file)\n",
    "    df=pd.read_csv(file,dtype=str,usecols=['customer_id_hashed','email_address_hash','segment_%s'%quarter])\n",
    "    df.to_csv(writer_upload_files_folder+file_name,index=False)\n",
    "    print(datetime.datetime.now(),file_name,df.shape)\n",
    "    print(df[pd.isnull(df['customer_id_hashed'])].shape,df[df['customer_id_hashed']==\"nan\"].shape)\n",
    "    print(df[pd.isnull(df['email_address_hash'])].shape,df[df['customer_id_hashed']==\"nan\"].shape)\n",
    "    count_Test+=df.shape[0]"
   ]
  },
  {
   "cell_type": "code",
   "execution_count": 5,
   "metadata": {},
   "outputs": [
    {
     "data": {
      "text/plain": [
       "29802595"
      ]
     },
     "execution_count": 5,
     "metadata": {},
     "output_type": "execute_result"
    }
   ],
   "source": [
    "count_Test"
   ]
  },
  {
   "cell_type": "code",
   "execution_count": 6,
   "metadata": {},
   "outputs": [
    {
     "name": "stdout",
     "output_type": "stream",
     "text": [
      "2020-07-24 15:24:37.658903 (599982, 3)\n"
     ]
    }
   ],
   "source": [
    "df_aggregated_control=pd.DataFrame()\n",
    "\n",
    "for file in list_all_C:\n",
    "    df=pd.read_csv(file,dtype=str,usecols=['customer_id_hashed','email_address_hash','segment_%s'%quarter])\n",
    "    df_aggregated_control=df_aggregated_control.append(df)\n",
    "    \n",
    "df_aggregated_control.to_csv(writer_upload_files_folder+\"C_all_quarterly_segments_RFM%s.csv\"%quarter[-4:],index=False)\n",
    "print(datetime.datetime.now(),df_aggregated_control.shape)"
   ]
  },
  {
   "cell_type": "code",
   "execution_count": 7,
   "metadata": {},
   "outputs": [],
   "source": [
    "# Upload to LR"
   ]
  },
  {
   "cell_type": "code",
   "execution_count": 8,
   "metadata": {},
   "outputs": [
    {
     "data": {
      "text/plain": [
       "21"
      ]
     },
     "execution_count": 8,
     "metadata": {},
     "output_type": "execute_result"
    }
   ],
   "source": [
    "list_all_files_to_upload=glob.glob(writer_upload_files_folder+\"*\")\n",
    "len(list_all_files_to_upload)"
   ]
  },
  {
   "cell_type": "code",
   "execution_count": 9,
   "metadata": {},
   "outputs": [],
   "source": [
    "import paramiko\n",
    "host = \"files.liveramp.com\"\n",
    "port = 22\n",
    "password = \"Biglots2018!\"\n",
    "username = \"lr-big-lots\"\n",
    "\n",
    "transport = paramiko.Transport((host, port))\n",
    "\n",
    "transport.connect(username = username, password = password)\n",
    "sftp = paramiko.SFTPClient.from_transport(transport)\n"
   ]
  },
  {
   "cell_type": "code",
   "execution_count": 14,
   "metadata": {},
   "outputs": [
    {
     "name": "stdout",
     "output_type": "stream",
     "text": [
      "2020-07-24 15:26:52.145681 /uploads/big_lots_onboarding/T_Legacy_H_Active_N.csv\n",
      "2020-07-24 15:28:29.606096 /uploads/big_lots_onboarding/T_Legacy_H_Active_Y.csv\n",
      "2020-07-24 15:28:37.021658 /uploads/big_lots_onboarding/T_Legacy_L_Active_N.csv\n",
      "2020-07-24 15:29:17.999750 /uploads/big_lots_onboarding/T_Legacy_L_Active_Y.csv\n",
      "2020-07-24 15:29:25.710723 /uploads/big_lots_onboarding/T_Legacy_L_Lapsed1318_N.csv\n",
      "2020-07-24 15:30:04.144111 /uploads/big_lots_onboarding/T_Legacy_L_Lapsed1318_Y.csv\n",
      "2020-07-24 15:30:17.952176 /uploads/big_lots_onboarding/T_Legacy_M_Active_N.csv\n",
      "2020-07-24 15:31:38.538985 /uploads/big_lots_onboarding/T_Legacy_M_Active_Y.csv\n",
      "2020-07-24 15:31:46.817992 /uploads/big_lots_onboarding/T_SOTF_H_Active_N.csv\n",
      "2020-07-24 15:32:38.835658 /uploads/big_lots_onboarding/T_SOTF_H_Active_Y.csv\n",
      "2020-07-24 15:32:42.734998 /uploads/big_lots_onboarding/T_SOTF_L_Active_N.csv\n",
      "2020-07-24 15:33:01.823163 /uploads/big_lots_onboarding/T_SOTF_L_Active_Y.csv\n",
      "2020-07-24 15:33:05.364608 /uploads/big_lots_onboarding/T_SOTF_L_Lapsed1318_N.csv\n",
      "2020-07-24 15:33:21.826089 /uploads/big_lots_onboarding/T_SOTF_L_Lapsed1318_Y.csv\n",
      "2020-07-24 15:33:28.644357 /uploads/big_lots_onboarding/T_SOTF_M_Active_N.csv\n",
      "2020-07-24 15:34:05.849100 /uploads/big_lots_onboarding/T_SOTF_M_Active_Y.csv\n",
      "2020-07-24 15:34:29.866607 /uploads/big_lots_onboarding/T_Legacy_NA_Lapsed1948_N.csv\n",
      "2020-07-24 15:36:29.268644 /uploads/big_lots_onboarding/T_Legacy_NA_Lapsed1948_Y.csv\n",
      "2020-07-24 15:36:40.596662 /uploads/big_lots_onboarding/T_SOTF_NA_Lapsed1948_N.csv\n",
      "2020-07-24 15:37:34.355699 /uploads/big_lots_onboarding/T_SOTF_NA_Lapsed1948_Y.csv\n",
      "2020-07-24 15:37:46.733206 /uploads/big_lots_onboarding/C_all_quarterly_segments_RFM20Q3.csv\n",
      "All_Done: 2020-07-24 15:37:46.734671\n"
     ]
    }
   ],
   "source": [
    "for local_file in list_all_files_to_upload:\n",
    "    base_name=os.path.basename(local_file)\n",
    "    remote_name=\"/uploads/big_lots_onboarding/\"+base_name\n",
    "    sftp.put(local_file,remote_name)\n",
    "    print(datetime.datetime.now(),remote_name)\n",
    "print(\"All_Done: \"+str(datetime.datetime.now()))\n",
    "sftp.close()\n",
    "transport.close()"
   ]
  },
  {
   "cell_type": "code",
   "execution_count": 15,
   "metadata": {},
   "outputs": [
    {
     "name": "stdout",
     "output_type": "stream",
     "text": [
      "2020-07-24 15:37:56.591265 /mnt/drv5/lr_biglots_data/Quarterly_files_refresh/2020Q3/id_audience/T_Legacy_H_Active_N.csv\n",
      "2020-07-24 15:38:54.713237 /mnt/drv5/lr_biglots_data/Quarterly_files_refresh/2020Q3/id_audience/T_Legacy_H_Active_Y.csv\n",
      "2020-07-24 15:38:58.964578 /mnt/drv5/lr_biglots_data/Quarterly_files_refresh/2020Q3/id_audience/T_Legacy_L_Active_N.csv\n",
      "2020-07-24 15:39:21.393298 /mnt/drv5/lr_biglots_data/Quarterly_files_refresh/2020Q3/id_audience/T_Legacy_L_Active_Y.csv\n",
      "2020-07-24 15:39:25.715796 /mnt/drv5/lr_biglots_data/Quarterly_files_refresh/2020Q3/id_audience/T_Legacy_L_Lapsed1318_N.csv\n",
      "2020-07-24 15:39:47.157266 /mnt/drv5/lr_biglots_data/Quarterly_files_refresh/2020Q3/id_audience/T_Legacy_L_Lapsed1318_Y.csv\n",
      "2020-07-24 15:39:54.826328 /mnt/drv5/lr_biglots_data/Quarterly_files_refresh/2020Q3/id_audience/T_Legacy_M_Active_N.csv\n",
      "2020-07-24 15:40:37.820409 /mnt/drv5/lr_biglots_data/Quarterly_files_refresh/2020Q3/id_audience/T_Legacy_M_Active_Y.csv\n",
      "2020-07-24 15:40:42.714295 /mnt/drv5/lr_biglots_data/Quarterly_files_refresh/2020Q3/id_audience/T_SOTF_H_Active_N.csv\n",
      "2020-07-24 15:41:13.737314 /mnt/drv5/lr_biglots_data/Quarterly_files_refresh/2020Q3/id_audience/T_SOTF_H_Active_Y.csv\n",
      "2020-07-24 15:41:15.978750 /mnt/drv5/lr_biglots_data/Quarterly_files_refresh/2020Q3/id_audience/T_SOTF_L_Active_N.csv\n",
      "2020-07-24 15:41:27.403251 /mnt/drv5/lr_biglots_data/Quarterly_files_refresh/2020Q3/id_audience/T_SOTF_L_Active_Y.csv\n",
      "2020-07-24 15:41:29.464252 /mnt/drv5/lr_biglots_data/Quarterly_files_refresh/2020Q3/id_audience/T_SOTF_L_Lapsed1318_N.csv\n",
      "2020-07-24 15:41:39.214878 /mnt/drv5/lr_biglots_data/Quarterly_files_refresh/2020Q3/id_audience/T_SOTF_L_Lapsed1318_Y.csv\n",
      "2020-07-24 15:41:43.226768 /mnt/drv5/lr_biglots_data/Quarterly_files_refresh/2020Q3/id_audience/T_SOTF_M_Active_N.csv\n",
      "2020-07-24 15:42:05.452779 /mnt/drv5/lr_biglots_data/Quarterly_files_refresh/2020Q3/id_audience/T_SOTF_M_Active_Y.csv\n",
      "2020-07-24 15:42:19.210262 /mnt/drv5/lr_biglots_data/Quarterly_files_refresh/2020Q3/id_audience/T_Legacy_NA_Lapsed1948_N.csv\n",
      "2020-07-24 15:43:28.740845 /mnt/drv5/lr_biglots_data/Quarterly_files_refresh/2020Q3/id_audience/T_Legacy_NA_Lapsed1948_Y.csv\n",
      "2020-07-24 15:43:35.618828 /mnt/drv5/lr_biglots_data/Quarterly_files_refresh/2020Q3/id_audience/T_SOTF_NA_Lapsed1948_N.csv\n",
      "2020-07-24 15:44:08.250887 /mnt/drv5/lr_biglots_data/Quarterly_files_refresh/2020Q3/id_audience/T_SOTF_NA_Lapsed1948_Y.csv\n",
      "2020-07-24 15:44:15.959283 /mnt/drv5/lr_biglots_data/Quarterly_files_refresh/2020Q3/id_audience/C_all_quarterly_segments_RFM20Q3.csv\n",
      "All_Done: 2020-07-24 15:44:15.960721\n"
     ]
    }
   ],
   "source": [
    "# To sp\n",
    "\n",
    "remote_folder=\"/mnt/drv5/lr_biglots_data/Quarterly_files_refresh/2020Q3/id_audience/\"\n",
    "host = \"107.191.32.220\"\n",
    "port = 22\n",
    "password = \"juba-jl1\"\n",
    "username = \"jian\"\n",
    "\n",
    "transport = paramiko.Transport((host, port))\n",
    "\n",
    "transport.connect(username = username, password = password)\n",
    "sftp = paramiko.SFTPClient.from_transport(transport)\n",
    "for local_file in list_all_files_to_upload:\n",
    "    base_name=os.path.basename(local_file)\n",
    "    remote_name=remote_folder+base_name\n",
    "    sftp.put(local_file,remote_name)\n",
    "    print(datetime.datetime.now(),remote_name)\n",
    "    \n",
    "print(\"All_Done: \"+str(datetime.datetime.now()))\n",
    "sftp.close()\n",
    "transport.close()"
   ]
  },
  {
   "cell_type": "code",
   "execution_count": null,
   "metadata": {},
   "outputs": [],
   "source": []
  }
 ],
 "metadata": {
  "kernelspec": {
   "display_name": "Python 3",
   "language": "python",
   "name": "python3"
  },
  "language_info": {
   "codemirror_mode": {
    "name": "ipython",
    "version": 3
   },
   "file_extension": ".py",
   "mimetype": "text/x-python",
   "name": "python",
   "nbconvert_exporter": "python",
   "pygments_lexer": "ipython3",
   "version": "3.6.1"
  }
 },
 "nbformat": 4,
 "nbformat_minor": 2
}
