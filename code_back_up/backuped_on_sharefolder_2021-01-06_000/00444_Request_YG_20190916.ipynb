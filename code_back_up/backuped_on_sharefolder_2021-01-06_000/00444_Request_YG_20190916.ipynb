{
 "cells": [
  {
   "cell_type": "code",
   "execution_count": 1,
   "metadata": {},
   "outputs": [
    {
     "data": {
      "text/plain": [
       "'/home/jian/Projects/Big_Lots/New_TA/TA_created_in_201906/final_output_20190718/Extract_1_rural_TA_with_1_store'"
      ]
     },
     "execution_count": 1,
     "metadata": {},
     "output_type": "execute_result"
    }
   ],
   "source": [
    "import pandas as pd\n",
    "import os\n",
    "import datetime\n",
    "os.getcwd()"
   ]
  },
  {
   "cell_type": "code",
   "execution_count": 2,
   "metadata": {},
   "outputs": [
    {
     "data": {
      "text/plain": [
       "['unique_zips_full_footprint',\n",
       " 'view_by_TA',\n",
       " 'view_by_store',\n",
       " 'view_for_Tableau']"
      ]
     },
     "execution_count": 2,
     "metadata": {},
     "output_type": "execute_result"
    }
   ],
   "source": [
    "ExcelFile=pd.ExcelFile('/home/jian/Projects/Big_Lots/New_TA/TA_created_in_201906/final_output_20190718/BL_final_TA_updated_JL_2019-07-18.xlsx')\n",
    "ExcelFile.sheet_names\n"
   ]
  },
  {
   "cell_type": "code",
   "execution_count": 3,
   "metadata": {
    "collapsed": true
   },
   "outputs": [],
   "source": [
    "df_by_store=ExcelFile.parse('view_by_store',dtype=str)\n",
    "df_by_TA=ExcelFile.parse('view_by_TA',dtype=str)"
   ]
  },
  {
   "cell_type": "code",
   "execution_count": 7,
   "metadata": {},
   "outputs": [
    {
     "data": {
      "text/plain": [
       "(518, 17)"
      ]
     },
     "execution_count": 7,
     "metadata": {},
     "output_type": "execute_result"
    }
   ],
   "source": [
    "df_by_store_single=df_by_store[df_by_store['ta_name'].apply(lambda x: x[0]==\"s\")]\n",
    "df_by_store_single.shape"
   ]
  },
  {
   "cell_type": "code",
   "execution_count": 14,
   "metadata": {},
   "outputs": [],
   "source": [
    "View_TA_zip_dup=pd.DataFrame()\n",
    "\n",
    "for ind,row in df_by_store.iterrows():\n",
    "    store=row['location_id']\n",
    "    P_70_zips=eval(row['trans_P_zips_70_within_TA'])\n",
    "    S_70_zips=eval(row['trans_S_zips_70_within_TA'])\n",
    "    zips_in_10=eval(row['zips_in_10'])\n",
    "    df_P=pd.DataFrame({\"zips\":P_70_zips},index=[\"P\"]*len(P_70_zips)).reset_index().rename(columns={\"index\":\"trans_flag\"})\n",
    "    df_S=pd.DataFrame({\"zips\":S_70_zips},index=[\"S\"]*len(S_70_zips)).reset_index().rename(columns={\"index\":\"trans_flag\"})\n",
    "    df_10=pd.DataFrame({\"zips\":zips_in_10},index=[\"10\"]*len(zips_in_10)).reset_index().rename(columns={\"index\":\"trans_flag\"})\n",
    "    \n",
    "    df_store=df_P.append(df_S).append(df_10)\n",
    "    df_store['location_id']=store\n",
    "    View_TA_zip_dup=View_TA_zip_dup.append(df_store)\n",
    "    "
   ]
  },
  {
   "cell_type": "code",
   "execution_count": 18,
   "metadata": {},
   "outputs": [],
   "source": [
    "example_output=pd.DataFrame()\n",
    "for store,df_group in View_TA_zip_dup.groupby(\"location_id\"):\n",
    "    copy_df=View_TA_zip_dup.copy()\n",
    "    copy_df=copy_df[copy_df['location_id']!=store]\n",
    "    \n",
    "    set_df_group_zips=set(df_group['zips'].unique().tolist())\n",
    "    set_copy_df_zips=set(copy_df['zips'].unique().tolist())\n",
    "    \n",
    "    if len(set_df_group_zips.intersection(set_copy_df_zips))==0:\n",
    "        example_output=example_output.append(df_group)\n",
    "        break"
   ]
  },
  {
   "cell_type": "code",
   "execution_count": 20,
   "metadata": {
    "collapsed": true
   },
   "outputs": [],
   "source": [
    "store_list_info=pd.read_table(\"/home/jian/BigLots/static_files/Store_list/MediaStormStores20190901-135942-508.txt\",sep=\"|\",dtype=str)\n"
   ]
  },
  {
   "cell_type": "code",
   "execution_count": 24,
   "metadata": {},
   "outputs": [
    {
     "data": {
      "text/html": [
       "<div>\n",
       "<style>\n",
       "    .dataframe thead tr:only-child th {\n",
       "        text-align: right;\n",
       "    }\n",
       "\n",
       "    .dataframe thead th {\n",
       "        text-align: left;\n",
       "    }\n",
       "\n",
       "    .dataframe tbody tr th {\n",
       "        vertical-align: top;\n",
       "    }\n",
       "</style>\n",
       "<table border=\"1\" class=\"dataframe\">\n",
       "  <thead>\n",
       "    <tr style=\"text-align: right;\">\n",
       "      <th></th>\n",
       "      <th>trans_flag</th>\n",
       "      <th>zips</th>\n",
       "      <th>location_id</th>\n",
       "      <th>location_desc</th>\n",
       "      <th>open_dt</th>\n",
       "      <th>close_dt</th>\n",
       "      <th>address_line_1</th>\n",
       "      <th>address_line_2</th>\n",
       "      <th>city_nm</th>\n",
       "      <th>state_nm</th>\n",
       "      <th>zip_cd</th>\n",
       "      <th>longitude_meas</th>\n",
       "      <th>latitude_meas</th>\n",
       "      <th>sales_square_feet</th>\n",
       "      <th>furniture_sales_square_feet</th>\n",
       "    </tr>\n",
       "  </thead>\n",
       "  <tbody>\n",
       "    <tr>\n",
       "      <th>0</th>\n",
       "      <td>P</td>\n",
       "      <td>38930</td>\n",
       "      <td>1021</td>\n",
       "      <td>HIGHLAND PARK SHOPPING CENTER</td>\n",
       "      <td>1995-06-22</td>\n",
       "      <td>NaN</td>\n",
       "      <td>701 W PARK AVE</td>\n",
       "      <td>NaN</td>\n",
       "      <td>GREENWOOD</td>\n",
       "      <td>MS</td>\n",
       "      <td>38930-2909</td>\n",
       "      <td>-000000000090.195702</td>\n",
       "      <td>000000000033.530068</td>\n",
       "      <td>00000000022299.0000</td>\n",
       "      <td>00000000001917.0000</td>\n",
       "    </tr>\n",
       "    <tr>\n",
       "      <th>1</th>\n",
       "      <td>S</td>\n",
       "      <td>38751</td>\n",
       "      <td>1021</td>\n",
       "      <td>HIGHLAND PARK SHOPPING CENTER</td>\n",
       "      <td>1995-06-22</td>\n",
       "      <td>NaN</td>\n",
       "      <td>701 W PARK AVE</td>\n",
       "      <td>NaN</td>\n",
       "      <td>GREENWOOD</td>\n",
       "      <td>MS</td>\n",
       "      <td>38930-2909</td>\n",
       "      <td>-000000000090.195702</td>\n",
       "      <td>000000000033.530068</td>\n",
       "      <td>00000000022299.0000</td>\n",
       "      <td>00000000001917.0000</td>\n",
       "    </tr>\n",
       "  </tbody>\n",
       "</table>\n",
       "</div>"
      ],
      "text/plain": [
       "  trans_flag   zips location_id                  location_desc     open_dt  \\\n",
       "0          P  38930        1021  HIGHLAND PARK SHOPPING CENTER  1995-06-22   \n",
       "1          S  38751        1021  HIGHLAND PARK SHOPPING CENTER  1995-06-22   \n",
       "\n",
       "  close_dt  address_line_1 address_line_2    city_nm state_nm      zip_cd  \\\n",
       "0      NaN  701 W PARK AVE            NaN  GREENWOOD       MS  38930-2909   \n",
       "1      NaN  701 W PARK AVE            NaN  GREENWOOD       MS  38930-2909   \n",
       "\n",
       "         longitude_meas         latitude_meas     sales_square_feet  \\\n",
       "0  -000000000090.195702   000000000033.530068   00000000022299.0000   \n",
       "1  -000000000090.195702   000000000033.530068   00000000022299.0000   \n",
       "\n",
       "  furniture_sales_square_feet  \n",
       "0         00000000001917.0000  \n",
       "1         00000000001917.0000  "
      ]
     },
     "execution_count": 24,
     "metadata": {},
     "output_type": "execute_result"
    }
   ],
   "source": [
    "example_output.head(2)"
   ]
  },
  {
   "cell_type": "code",
   "execution_count": 25,
   "metadata": {},
   "outputs": [
    {
     "data": {
      "text/html": [
       "<div>\n",
       "<style>\n",
       "    .dataframe thead tr:only-child th {\n",
       "        text-align: right;\n",
       "    }\n",
       "\n",
       "    .dataframe thead th {\n",
       "        text-align: left;\n",
       "    }\n",
       "\n",
       "    .dataframe tbody tr th {\n",
       "        vertical-align: top;\n",
       "    }\n",
       "</style>\n",
       "<table border=\"1\" class=\"dataframe\">\n",
       "  <thead>\n",
       "    <tr style=\"text-align: right;\">\n",
       "      <th></th>\n",
       "      <th>TA_num</th>\n",
       "      <th>ta_name</th>\n",
       "      <th>location_id</th>\n",
       "      <th>address_line_1</th>\n",
       "      <th>address_line_2</th>\n",
       "      <th>zip_cd</th>\n",
       "      <th>city_nm</th>\n",
       "      <th>state_nm</th>\n",
       "      <th>latitude_meas</th>\n",
       "      <th>longitude_meas</th>\n",
       "      <th>DMA</th>\n",
       "      <th>CTY</th>\n",
       "      <th>all_trans_P_zips</th>\n",
       "      <th>all_trans_S_zips</th>\n",
       "      <th>zips_in_10</th>\n",
       "      <th>trans_P_zips_70_within_TA</th>\n",
       "      <th>trans_S_zips_70_within_TA</th>\n",
       "    </tr>\n",
       "  </thead>\n",
       "  <tbody>\n",
       "    <tr>\n",
       "      <th>1243</th>\n",
       "      <td>542</td>\n",
       "      <td>single_1021</td>\n",
       "      <td>1021</td>\n",
       "      <td>701 W PARK AVE</td>\n",
       "      <td>nan</td>\n",
       "      <td>38930</td>\n",
       "      <td>GREENWOOD</td>\n",
       "      <td>MS</td>\n",
       "      <td>33.530068</td>\n",
       "      <td>-90.195702</td>\n",
       "      <td>{'GREENWOOD-GREENVILLE'}</td>\n",
       "      <td>{'CARROLL', 'LEFLORE'}</td>\n",
       "      <td>['38930']</td>\n",
       "      <td>['38941', '38917', '39169', '38954', '38751', ...</td>\n",
       "      <td>[]</td>\n",
       "      <td>['38930']</td>\n",
       "      <td>['38751', '39169', '39038', '38923', '38901', ...</td>\n",
       "    </tr>\n",
       "  </tbody>\n",
       "</table>\n",
       "</div>"
      ],
      "text/plain": [
       "     TA_num      ta_name location_id  address_line_1 address_line_2 zip_cd  \\\n",
       "1243    542  single_1021        1021  701 W PARK AVE            nan  38930   \n",
       "\n",
       "        city_nm state_nm latitude_meas longitude_meas  \\\n",
       "1243  GREENWOOD       MS     33.530068     -90.195702   \n",
       "\n",
       "                           DMA                     CTY all_trans_P_zips  \\\n",
       "1243  {'GREENWOOD-GREENVILLE'}  {'CARROLL', 'LEFLORE'}        ['38930']   \n",
       "\n",
       "                                       all_trans_S_zips zips_in_10  \\\n",
       "1243  ['38941', '38917', '39169', '38954', '38751', ...         []   \n",
       "\n",
       "     trans_P_zips_70_within_TA  \\\n",
       "1243                 ['38930']   \n",
       "\n",
       "                              trans_S_zips_70_within_TA  \n",
       "1243  ['38751', '39169', '39038', '38923', '38901', ...  "
      ]
     },
     "execution_count": 25,
     "metadata": {},
     "output_type": "execute_result"
    }
   ],
   "source": [
    "df_by_store[df_by_store['location_id']==\"1021\"]"
   ]
  },
  {
   "cell_type": "code",
   "execution_count": 26,
   "metadata": {},
   "outputs": [
    {
     "data": {
      "text/html": [
       "<div>\n",
       "<style>\n",
       "    .dataframe thead tr:only-child th {\n",
       "        text-align: right;\n",
       "    }\n",
       "\n",
       "    .dataframe thead th {\n",
       "        text-align: left;\n",
       "    }\n",
       "\n",
       "    .dataframe tbody tr th {\n",
       "        vertical-align: top;\n",
       "    }\n",
       "</style>\n",
       "<table border=\"1\" class=\"dataframe\">\n",
       "  <thead>\n",
       "    <tr style=\"text-align: right;\">\n",
       "      <th></th>\n",
       "      <th>TA_num</th>\n",
       "      <th>ta_name</th>\n",
       "      <th>store_list</th>\n",
       "      <th>trans_P_zips</th>\n",
       "      <th>trans_S_zips</th>\n",
       "      <th>distance_10_zips</th>\n",
       "      <th>store_count</th>\n",
       "    </tr>\n",
       "  </thead>\n",
       "  <tbody>\n",
       "    <tr>\n",
       "      <th>541</th>\n",
       "      <td>542</td>\n",
       "      <td>single_1021</td>\n",
       "      <td>['1021']</td>\n",
       "      <td>['38930']</td>\n",
       "      <td>['38701', '38751', '38901', '38917', '38923', ...</td>\n",
       "      <td>nan</td>\n",
       "      <td>1</td>\n",
       "    </tr>\n",
       "  </tbody>\n",
       "</table>\n",
       "</div>"
      ],
      "text/plain": [
       "    TA_num      ta_name store_list trans_P_zips  \\\n",
       "541    542  single_1021   ['1021']    ['38930']   \n",
       "\n",
       "                                          trans_S_zips distance_10_zips  \\\n",
       "541  ['38701', '38751', '38901', '38917', '38923', ...              nan   \n",
       "\n",
       "    store_count  \n",
       "541           1  "
      ]
     },
     "execution_count": 26,
     "metadata": {},
     "output_type": "execute_result"
    }
   ],
   "source": [
    "df_by_TA[df_by_TA['ta_name']==\"single_1021\"]"
   ]
  },
  {
   "cell_type": "code",
   "execution_count": 21,
   "metadata": {},
   "outputs": [],
   "source": [
    "example_output=pd.merge(example_output,store_list_info,on=\"location_id\",how=\"left\")"
   ]
  },
  {
   "cell_type": "code",
   "execution_count": 27,
   "metadata": {
    "collapsed": true
   },
   "outputs": [],
   "source": [
    "writer=pd.ExcelWriter(\"./BL_example_one_single_store_TA_JL_\"+str(datetime.datetime.now().date())+\".xlsx\",engine=\"xlsxwriter\")\n",
    "example_output.to_excel(writer,\"example\",index=False)\n",
    "df_by_store[df_by_store['location_id']==\"1021\"].to_excel(writer,\"row_in_TA_file_store\",index=False)\n",
    "df_by_TA[df_by_TA['ta_name']==\"single_1021\"].to_excel(writer,\"row_in_TA_file_TA\",index=False)\n",
    "writer.save()"
   ]
  },
  {
   "cell_type": "code",
   "execution_count": null,
   "metadata": {
    "collapsed": true
   },
   "outputs": [],
   "source": []
  }
 ],
 "metadata": {
  "kernelspec": {
   "display_name": "Python 3",
   "language": "python",
   "name": "python3"
  },
  "language_info": {
   "codemirror_mode": {
    "name": "ipython",
    "version": 3
   },
   "file_extension": ".py",
   "mimetype": "text/x-python",
   "name": "python",
   "nbconvert_exporter": "python",
   "pygments_lexer": "ipython3",
   "version": "3.6.1"
  }
 },
 "nbformat": 4,
 "nbformat_minor": 2
}
