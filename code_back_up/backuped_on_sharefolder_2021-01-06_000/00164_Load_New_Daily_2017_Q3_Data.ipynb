{
 "cells": [
  {
   "cell_type": "code",
   "execution_count": 1,
   "metadata": {
    "collapsed": true
   },
   "outputs": [],
   "source": [
    "import pandas as pd\n",
    "import numpy as np\n",
    "import datetime\n",
    "import os\n",
    "import glob"
   ]
  },
  {
   "cell_type": "code",
   "execution_count": 2,
   "metadata": {},
   "outputs": [
    {
     "data": {
      "text/plain": [
       "'/home/jian/BigLots/2017_Daily_Sales_Weeks_Quarter_as_Transfer/2017_Q3'"
      ]
     },
     "execution_count": 2,
     "metadata": {},
     "output_type": "execute_result"
    }
   ],
   "source": [
    "os.getcwd()"
   ]
  },
  {
   "cell_type": "code",
   "execution_count": 17,
   "metadata": {},
   "outputs": [],
   "source": [
    "file_list=glob.glob('/home/jian/BigLots/2017_Daily_Sales_Weeks_Quarter_as_Transfer/2017_Q3/*.txt')\n",
    "file_list.remove('/home/jian/BigLots/2017_Daily_Sales_Weeks_Quarter_as_Transfer/2017_Q3/MediaStormDailySales01.txt')\n",
    "next_week='/home/jian/BigLots/2017_Daily_Sales_Weeks_Quarter_as_Transfer/2017_Q4/MediaStormDailySales17Q4W120181204-052708-319.txt'\n",
    "file_list.append(next_week)\n",
    "file_list=sorted(file_list)"
   ]
  },
  {
   "cell_type": "code",
   "execution_count": 18,
   "metadata": {},
   "outputs": [
    {
     "name": "stdout",
     "output_type": "stream",
     "text": [
      "2018-12-05 11:17:21.122833\n",
      "File 1: 2017-08-06 to 2017-08-12\n",
      "2018-12-05 11:21:15.474948\n",
      "File 2: 2017-08-13 to 2017-08-19\n",
      "2018-12-05 11:25:21.863258\n",
      "File 3: 2017-08-20 to 2017-08-26\n",
      "2018-12-05 11:28:40.211263\n",
      "File 4: 2017-08-27 to 2017-09-02\n",
      "2018-12-05 11:32:30.085841\n",
      "File 5: 2017-09-03 to 2017-09-09\n",
      "2018-12-05 11:36:30.371058\n",
      "File 6: 2017-09-10 to 2017-09-16\n",
      "2018-12-05 11:39:43.064095\n",
      "File 7: 2017-09-17 to 2017-09-23\n",
      "2018-12-05 11:43:01.543659\n",
      "File 8: 2017-09-24 to 2017-09-30\n",
      "2018-12-05 11:47:32.583611\n",
      "File 9: 2017-10-01 to 2017-10-07\n",
      "2018-12-05 11:53:03.469156\n",
      "File 10: 2017-10-08 to 2017-10-14\n",
      "2018-12-05 11:56:20.405509\n",
      "File 11: 2017-10-15 to 2017-10-21\n",
      "2018-12-05 11:59:43.954313\n",
      "File 12: 2017-10-22 to 2017-10-28\n",
      "2018-12-05 12:03:15.851752\n",
      "File 13: 2017-10-29 to 2017-11-04\n"
     ]
    }
   ],
   "source": [
    "i=0\n",
    "output=pd.DataFrame()\n",
    "for file in file_list:\n",
    "    print(datetime.datetime.now())\n",
    "    df=pd.read_table(file,dtype=str,sep=\"|\")\n",
    "    df=df.drop_duplicates()\n",
    "    df['subclass_transaction_amt']=df['subclass_transaction_amt'].astype(float)\n",
    "    df['subclass_transaction_units']=df['subclass_transaction_units'].astype(int)\n",
    "    df['rewards_label']=np.where(pd.isnull(df['customer_id_hashed']),\"Non_Rewards\",\"Rewards\")\n",
    "    df['transaction_dt']=df['transaction_dt'].apply(lambda x: datetime.datetime.strptime(x,\"%Y-%m-%d\").date())\n",
    "    i+=1\n",
    "    print(\"File \"+str(i)+\": \"+str(df['transaction_dt'].min())+\" to \"+str(df['transaction_dt'].max()))\n",
    "    \n",
    "    df_sales=df.groupby(['location_id','rewards_label','transaction_dt'])['subclass_transaction_amt'].sum().to_frame().reset_index()\n",
    "    df_sales=df_sales.rename(columns={\"subclass_transaction_amt\":\"sales\"})\n",
    "    df_trans=df.groupby(['location_id','rewards_label','transaction_dt'])['subclass_transaction_amt'].count().to_frame().reset_index()\n",
    "    df_trans=df_trans.rename(columns={\"subclass_transaction_amt\":\"trans\"})\n",
    "    \n",
    "    df=pd.merge(df_sales,df_trans,on=['location_id','rewards_label','transaction_dt'],how=\"left\")\n",
    "    output=output.append(df)"
   ]
  },
  {
   "cell_type": "code",
   "execution_count": 25,
   "metadata": {},
   "outputs": [],
   "source": [
    "output['location_id']=output['location_id'].astype(int)\n",
    "def add_week_end_dt(x):\n",
    "    if x.weekday()==6:\n",
    "        y=x+datetime.timedelta(days=6)\n",
    "    else:\n",
    "        y=x+datetime.timedelta(days=5-x.weekday())\n",
    "    return y\n",
    "output['week_end_dt']=output['transaction_dt'].apply(lambda x: add_week_end_dt(x))\n",
    "output=output.sort_values(['location_id','transaction_dt','rewards_label'])"
   ]
  },
  {
   "cell_type": "code",
   "execution_count": 28,
   "metadata": {},
   "outputs": [],
   "source": [
    "output.to_csv(\"/home/jian/BigLots/2017_Daily_Sales_Weeks_Quarter_as_Transfer/2017_Q3/csv_2017_Q3_rewards_non_rewards.csv\",index=False)"
   ]
  }
 ],
 "metadata": {
  "kernelspec": {
   "display_name": "Python 3",
   "language": "python",
   "name": "python3"
  },
  "language_info": {
   "codemirror_mode": {
    "name": "ipython",
    "version": 3
   },
   "file_extension": ".py",
   "mimetype": "text/x-python",
   "name": "python",
   "nbconvert_exporter": "python",
   "pygments_lexer": "ipython3",
   "version": "3.6.1"
  }
 },
 "nbformat": 4,
 "nbformat_minor": 2
}
