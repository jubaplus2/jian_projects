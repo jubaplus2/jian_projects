{
 "cells": [
  {
   "cell_type": "code",
   "execution_count": 39,
   "metadata": {},
   "outputs": [],
   "source": [
    "import os\n",
    "from shutil import copyfile\n",
    "from os.path import basename\n",
    "\n",
    "my_root_dir='/home/jian/'"
   ]
  },
  {
   "cell_type": "code",
   "execution_count": 40,
   "metadata": {
    "collapsed": true
   },
   "outputs": [],
   "source": [
    "def recursive_file_gen(my_root_dir):\n",
    "    for root, dirs, files in os.walk(my_root_dir):\n",
    "        for file in files:\n",
    "            yield os.path.join(root, file)\n",
    "            \n",
    "list_ipynb=[x for x in list(recursive_file_gen(my_root_dir)) if \".ipynb\" in x]\n",
    "list_py=[x for x in list(recursive_file_gen(my_root_dir)) if \".py\" in x]\n",
    "\n",
    "all_codes=list_ipynb+list_py\n",
    "all_codes.remove(\"/home/jian/code_back_up/AAA_code_for_backing_up.ipynb\")"
   ]
  },
  {
   "cell_type": "code",
   "execution_count": 38,
   "metadata": {},
   "outputs": [],
   "source": [
    "json_dict_original_codes={}\n",
    "for src_file in all_codes:\n",
    "    base_name=\"[\"+src_file.replace(\"/\",\"|\")[1:].split(\".\")[0]+\"]\"+\".\"+src_file.split(\".\")[1]\n",
    "    new_base_name=counter_id+\"_\"+base_name\n",
    "    json_dict_original_codes.update({new_base_name:src_file})\n",
    "    copyfile(src_file, \"/home/jian/code_back_up/\"+new_base_name)\n"
   ]
  },
  {
   "cell_type": "code",
   "execution_count": 36,
   "metadata": {},
   "outputs": [
    {
     "data": {
      "text/plain": [
       "'/home/jian/[home|jian|AdWords_DCM_API|adwords_api].py'"
      ]
     },
     "execution_count": 36,
     "metadata": {},
     "output_type": "execute_result"
    }
   ],
   "source": [
    "dst"
   ]
  },
  {
   "cell_type": "code",
   "execution_count": 20,
   "metadata": {},
   "outputs": [
    {
     "data": {
      "text/plain": [
       "796"
      ]
     },
     "execution_count": 20,
     "metadata": {},
     "output_type": "execute_result"
    }
   ],
   "source": [
    "len(set([basename(x) for x in list_ipynb]))"
   ]
  },
  {
   "cell_type": "code",
   "execution_count": null,
   "metadata": {
    "collapsed": true
   },
   "outputs": [],
   "source": []
  }
 ],
 "metadata": {
  "kernelspec": {
   "display_name": "Python 3",
   "language": "python",
   "name": "python3"
  },
  "language_info": {
   "codemirror_mode": {
    "name": "ipython",
    "version": 3
   },
   "file_extension": ".py",
   "mimetype": "text/x-python",
   "name": "python",
   "nbconvert_exporter": "python",
   "pygments_lexer": "ipython3",
   "version": "3.6.1"
  }
 },
 "nbformat": 4,
 "nbformat_minor": 2
}
