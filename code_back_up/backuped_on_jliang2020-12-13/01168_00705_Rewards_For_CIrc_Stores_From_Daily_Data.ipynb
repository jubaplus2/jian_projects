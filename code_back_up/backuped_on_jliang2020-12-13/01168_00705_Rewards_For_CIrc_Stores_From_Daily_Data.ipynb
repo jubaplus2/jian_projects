{
 "cells": [
  {
   "cell_type": "code",
   "execution_count": 1,
   "metadata": {},
   "outputs": [
    {
     "data": {
      "text/plain": [
       "'/home/jian/Projects/Big_Lots/Analysis/2018_Q4/Circ_Test_Con'"
      ]
     },
     "execution_count": 1,
     "metadata": {},
     "output_type": "execute_result"
    }
   ],
   "source": [
    "import pandas as pd\n",
    "import numpy as np\n",
    "import datetime\n",
    "import os\n",
    "import glob\n",
    "os.getcwd()"
   ]
  },
  {
   "cell_type": "code",
   "execution_count": 2,
   "metadata": {
    "collapsed": true
   },
   "outputs": [],
   "source": [
    "test_week_list_2018=[datetime.date(2018,9,15)+datetime.timedelta(days=x*7) for x in range(8)]\n",
    "test_week_list_2017=[x+datetime.timedelta(days=-52*7) for x in test_week_list_2018]"
   ]
  },
  {
   "cell_type": "code",
   "execution_count": 5,
   "metadata": {},
   "outputs": [
    {
     "data": {
      "text/html": [
       "<div>\n",
       "<style>\n",
       "    .dataframe thead tr:only-child th {\n",
       "        text-align: right;\n",
       "    }\n",
       "\n",
       "    .dataframe thead th {\n",
       "        text-align: left;\n",
       "    }\n",
       "\n",
       "    .dataframe tbody tr th {\n",
       "        vertical-align: top;\n",
       "    }\n",
       "</style>\n",
       "<table border=\"1\" class=\"dataframe\">\n",
       "  <thead>\n",
       "    <tr style=\"text-align: right;\">\n",
       "      <th></th>\n",
       "      <th>location_id</th>\n",
       "      <th>transaction_dt</th>\n",
       "      <th>transaction_id</th>\n",
       "      <th>customer_id_hashed</th>\n",
       "      <th>class_code_id</th>\n",
       "      <th>subclass_id</th>\n",
       "      <th>subclass_transaction_units</th>\n",
       "      <th>subclass_transaction_amt</th>\n",
       "    </tr>\n",
       "  </thead>\n",
       "  <tbody>\n",
       "    <tr>\n",
       "      <th>0</th>\n",
       "      <td>4526</td>\n",
       "      <td>2018-09-15</td>\n",
       "      <td>2646</td>\n",
       "      <td>17a9f5b9ff36669ac3047be96a74da7d140b018f446963...</td>\n",
       "      <td>35080</td>\n",
       "      <td>10</td>\n",
       "      <td>2</td>\n",
       "      <td>00000000000042.0000</td>\n",
       "    </tr>\n",
       "    <tr>\n",
       "      <th>1</th>\n",
       "      <td>1758</td>\n",
       "      <td>2018-09-11</td>\n",
       "      <td>5400</td>\n",
       "      <td>700de64eeb3af77cf8172030f21089cdb9e245e7110e08...</td>\n",
       "      <td>12011</td>\n",
       "      <td>2</td>\n",
       "      <td>1</td>\n",
       "      <td>00000000000003.3000</td>\n",
       "    </tr>\n",
       "    <tr>\n",
       "      <th>2</th>\n",
       "      <td>1744</td>\n",
       "      <td>2018-09-09</td>\n",
       "      <td>6694</td>\n",
       "      <td>NaN</td>\n",
       "      <td>27006</td>\n",
       "      <td>2</td>\n",
       "      <td>1</td>\n",
       "      <td>00000000000006.5000</td>\n",
       "    </tr>\n",
       "    <tr>\n",
       "      <th>3</th>\n",
       "      <td>1555</td>\n",
       "      <td>2018-09-10</td>\n",
       "      <td>9422</td>\n",
       "      <td>NaN</td>\n",
       "      <td>35066</td>\n",
       "      <td>3</td>\n",
       "      <td>1</td>\n",
       "      <td>00000000000012.0000</td>\n",
       "    </tr>\n",
       "    <tr>\n",
       "      <th>4</th>\n",
       "      <td>1361</td>\n",
       "      <td>2018-09-11</td>\n",
       "      <td>8924</td>\n",
       "      <td>3d41d4c31134667fac952d8ee2568e3e55e6e2ab6ecd83...</td>\n",
       "      <td>11003</td>\n",
       "      <td>8</td>\n",
       "      <td>2</td>\n",
       "      <td>00000000000001.3000</td>\n",
       "    </tr>\n",
       "    <tr>\n",
       "      <th>5</th>\n",
       "      <td>5093</td>\n",
       "      <td>2018-09-12</td>\n",
       "      <td>398</td>\n",
       "      <td>NaN</td>\n",
       "      <td>15002</td>\n",
       "      <td>2</td>\n",
       "      <td>1</td>\n",
       "      <td>00000000000003.4000</td>\n",
       "    </tr>\n",
       "    <tr>\n",
       "      <th>6</th>\n",
       "      <td>1228</td>\n",
       "      <td>2018-09-14</td>\n",
       "      <td>7506</td>\n",
       "      <td>cb2228bb874ec960f45d5b682849e320acf45285dca44b...</td>\n",
       "      <td>11001</td>\n",
       "      <td>2</td>\n",
       "      <td>1</td>\n",
       "      <td>00000000000002.2500</td>\n",
       "    </tr>\n",
       "    <tr>\n",
       "      <th>7</th>\n",
       "      <td>1262</td>\n",
       "      <td>2018-09-15</td>\n",
       "      <td>2429</td>\n",
       "      <td>NaN</td>\n",
       "      <td>36703</td>\n",
       "      <td>6</td>\n",
       "      <td>1</td>\n",
       "      <td>00000000000016.0000</td>\n",
       "    </tr>\n",
       "    <tr>\n",
       "      <th>8</th>\n",
       "      <td>5100</td>\n",
       "      <td>2018-09-10</td>\n",
       "      <td>73</td>\n",
       "      <td>4e29b52da457b7cf23e9215bdd43ec5e40849ff064cce3...</td>\n",
       "      <td>11007</td>\n",
       "      <td>2</td>\n",
       "      <td>2</td>\n",
       "      <td>00000000000001.6100</td>\n",
       "    </tr>\n",
       "    <tr>\n",
       "      <th>9</th>\n",
       "      <td>5331</td>\n",
       "      <td>2018-09-15</td>\n",
       "      <td>3986</td>\n",
       "      <td>NaN</td>\n",
       "      <td>55012</td>\n",
       "      <td>1</td>\n",
       "      <td>-1</td>\n",
       "      <td>-00000000000005.0000</td>\n",
       "    </tr>\n",
       "  </tbody>\n",
       "</table>\n",
       "</div>"
      ],
      "text/plain": [
       "  location_id transaction_dt transaction_id  \\\n",
       "0        4526     2018-09-15           2646   \n",
       "1        1758     2018-09-11           5400   \n",
       "2        1744     2018-09-09           6694   \n",
       "3        1555     2018-09-10           9422   \n",
       "4        1361     2018-09-11           8924   \n",
       "5        5093     2018-09-12            398   \n",
       "6        1228     2018-09-14           7506   \n",
       "7        1262     2018-09-15           2429   \n",
       "8        5100     2018-09-10             73   \n",
       "9        5331     2018-09-15           3986   \n",
       "\n",
       "                                  customer_id_hashed class_code_id  \\\n",
       "0  17a9f5b9ff36669ac3047be96a74da7d140b018f446963...         35080   \n",
       "1  700de64eeb3af77cf8172030f21089cdb9e245e7110e08...         12011   \n",
       "2                                                NaN         27006   \n",
       "3                                                NaN         35066   \n",
       "4  3d41d4c31134667fac952d8ee2568e3e55e6e2ab6ecd83...         11003   \n",
       "5                                                NaN         15002   \n",
       "6  cb2228bb874ec960f45d5b682849e320acf45285dca44b...         11001   \n",
       "7                                                NaN         36703   \n",
       "8  4e29b52da457b7cf23e9215bdd43ec5e40849ff064cce3...         11007   \n",
       "9                                                NaN         55012   \n",
       "\n",
       "  subclass_id subclass_transaction_units subclass_transaction_amt  \n",
       "0          10                          2      00000000000042.0000  \n",
       "1           2                          1      00000000000003.3000  \n",
       "2           2                          1      00000000000006.5000  \n",
       "3           3                          1      00000000000012.0000  \n",
       "4           8                          2      00000000000001.3000  \n",
       "5           2                          1      00000000000003.4000  \n",
       "6           2                          1      00000000000002.2500  \n",
       "7           6                          1      00000000000016.0000  \n",
       "8           2                          2      00000000000001.6100  \n",
       "9           1                         -1     -00000000000005.0000  "
      ]
     },
     "execution_count": 5,
     "metadata": {},
     "output_type": "execute_result"
    }
   ],
   "source": [
    "daily_1=pd.read_table(\"/home/jian/BigLots/2018_by_weeks/MediaStorm_2018-09-15/MediaStormDailySales20180918-113439-943.txt\",dtype=str,sep=\"|\",nrows=10)\n",
    "daily_1\n"
   ]
  },
  {
   "cell_type": "code",
   "execution_count": 3,
   "metadata": {},
   "outputs": [
    {
     "data": {
      "text/plain": [
       "datetime.date(2018, 9, 15)"
      ]
     },
     "execution_count": 3,
     "metadata": {},
     "output_type": "execute_result"
    }
   ],
   "source": [
    "min(test_week_list_2018)"
   ]
  },
  {
   "cell_type": "code",
   "execution_count": null,
   "metadata": {
    "collapsed": true
   },
   "outputs": [],
   "source": []
  }
 ],
 "metadata": {
  "kernelspec": {
   "display_name": "Python 3",
   "language": "python",
   "name": "python3"
  },
  "language_info": {
   "codemirror_mode": {
    "name": "ipython",
    "version": 3
   },
   "file_extension": ".py",
   "mimetype": "text/x-python",
   "name": "python",
   "nbconvert_exporter": "python",
   "pygments_lexer": "ipython3",
   "version": "3.6.1"
  }
 },
 "nbformat": 4,
 "nbformat_minor": 2
}
