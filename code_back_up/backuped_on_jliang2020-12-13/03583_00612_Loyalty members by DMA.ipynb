{
 "cells": [
  {
   "cell_type": "code",
   "execution_count": 1,
   "metadata": {
    "collapsed": true
   },
   "outputs": [],
   "source": [
    "import pandas as pd\n",
    "# loyalty members by zip data received from Spencer on April 26, 2018"
   ]
  },
  {
   "cell_type": "code",
   "execution_count": 2,
   "metadata": {
    "collapsed": true
   },
   "outputs": [],
   "source": [
    "zip_dma_deduped=pd.read_csv(\"/home/jian/BiglotsCode/OtherInput/zipdmamapping.csv\",dtype=str)\n",
    "zip_dma_deduped.columns=['customer_zip_code','DMA']"
   ]
  },
  {
   "cell_type": "code",
   "execution_count": 3,
   "metadata": {
    "collapsed": true
   },
   "outputs": [],
   "source": [
    "loyalty_count_by_zip=pd.read_csv(\"/home/jian/Projects/Big_Lots/Loyal_members/sales_of_loyalty_member/Idsbyzipcode.csv\",dtype=str)\n",
    "loyalty_count_by_zip['customer_zip_code']=loyalty_count_by_zip['customer_zip_code'].apply(lambda x: x.zfill(5))\n",
    "loyalty_count_by_zip['IDs']=loyalty_count_by_zip['IDs'].astype(int)"
   ]
  },
  {
   "cell_type": "code",
   "execution_count": 4,
   "metadata": {
    "collapsed": true
   },
   "outputs": [],
   "source": [
    "loyalty_count_by_DMA=pd.merge(zip_dma_deduped,loyalty_count_by_zip,on='customer_zip_code',how='left')\n",
    "loyalty_count_by_DMA=loyalty_count_by_DMA.groupby('DMA')['IDs'].sum().to_frame()\n",
    "loyalty_count_by_DMA.reset_index(inplace=True)\n",
    "# loyalty_count_by_DMA.to_csv(\"/home/jian/Projects/Big_Lots/Loyal_member_count/sales_of_loyalty_member/Id_Counts_by_DMA.csv\",index=False)\n",
    "\n"
   ]
  },
  {
   "cell_type": "code",
   "execution_count": 5,
   "metadata": {
    "collapsed": true
   },
   "outputs": [],
   "source": [
    "F25_54_by_zip=pd.read_csv(\"/home/jian/Docs/Household_and_Population/2016/Demo_Dataset_2018EASI.csv\",dtype=str)\n",
    "\n",
    "F25_54_by_zip=F25_54_by_zip[['ZIP_CODE','Estimate; Female: - 25 to 29 years',\n",
    " 'Estimate; Female: - 30 to 34 years',\n",
    " 'Estimate; Female: - 35 to 39 years',\n",
    " 'Estimate; Female: - 40 to 44 years',\n",
    " 'Estimate; Female: - 45 to 49 years',\n",
    " 'Estimate; Female: - 50 to 54 years']]\n",
    "\n",
    "F25_54_by_zip_Pop_Col=[x for x in F25_54_by_zip.columns.tolist() if 'Estimate' in x]\n",
    "for col in F25_54_by_zip_Pop_Col:\n",
    "    F25_54_by_zip[col]=F25_54_by_zip[col].astype(float)\n",
    "F25_54_by_zip['Female_25_54_Pop']=F25_54_by_zip[F25_54_by_zip_Pop_Col].sum(axis=1)\n",
    "F25_54_by_zip=F25_54_by_zip[['ZIP_CODE','Female_25_54_Pop']].rename(columns={'ZIP_CODE':'customer_zip_code'})\n",
    "F25_54_by_zip['customer_zip_code']=F25_54_by_zip['customer_zip_code'].apply(lambda x: x.zfill(5))"
   ]
  },
  {
   "cell_type": "code",
   "execution_count": 6,
   "metadata": {
    "collapsed": true
   },
   "outputs": [],
   "source": [
    "F25_54_by_DMA=pd.merge(F25_54_by_zip,zip_dma_deduped,on=\"customer_zip_code\",how=\"left\")\n",
    "F25_54_by_DMA=F25_54_by_DMA.groupby(['DMA'])['Female_25_54_Pop'].sum().to_frame().reset_index()"
   ]
  },
  {
   "cell_type": "code",
   "execution_count": 7,
   "metadata": {
    "collapsed": true
   },
   "outputs": [],
   "source": [
    "output=pd.merge(F25_54_by_DMA,loyalty_count_by_DMA,on='DMA',how=\"outer\")\n",
    "output=output.rename(columns={\"IDs\":\"Loyalty_members\"})\n",
    "output['Penetration']=output['Loyalty_members']/output['Female_25_54_Pop']"
   ]
  },
  {
   "cell_type": "code",
   "execution_count": 8,
   "metadata": {
    "collapsed": true
   },
   "outputs": [],
   "source": [
    "output.to_csv(\"/home/jian/Projects/Big_Lots/Loyal_members/Rewards_peneration_by_DMA_JL_20180726.csv\",index=False)"
   ]
  },
  {
   "cell_type": "code",
   "execution_count": null,
   "metadata": {
    "collapsed": true
   },
   "outputs": [],
   "source": []
  }
 ],
 "metadata": {
  "kernelspec": {
   "display_name": "Python 3",
   "language": "python",
   "name": "python3"
  },
  "language_info": {
   "codemirror_mode": {
    "name": "ipython",
    "version": 3
   },
   "file_extension": ".py",
   "mimetype": "text/x-python",
   "name": "python",
   "nbconvert_exporter": "python",
   "pygments_lexer": "ipython3",
   "version": "3.6.1"
  }
 },
 "nbformat": 4,
 "nbformat_minor": 2
}
