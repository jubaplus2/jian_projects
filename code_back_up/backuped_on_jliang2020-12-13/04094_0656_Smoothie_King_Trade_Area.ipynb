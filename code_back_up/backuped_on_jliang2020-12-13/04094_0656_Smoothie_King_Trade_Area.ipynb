{
 "cells": [
  {
   "cell_type": "code",
   "execution_count": 6,
   "metadata": {
    "collapsed": true
   },
   "outputs": [],
   "source": [
    "# Combine_zips_with_any_intersection\n",
    "import pandas as pd\n",
    "import numpy as np\n",
    "import datetime\n",
    "import json\n",
    "from haversine import haversine\n",
    "import zipcodes\n",
    "import googlemaps"
   ]
  },
  {
   "cell_type": "code",
   "execution_count": null,
   "metadata": {
    "collapsed": true
   },
   "outputs": [],
   "source": []
  },
  {
   "cell_type": "code",
   "execution_count": 2,
   "metadata": {
    "collapsed": true
   },
   "outputs": [],
   "source": [
    "zip_centers=json.load(open(\"/home/jian/Docs/Geo_mapping/center_of_rentrak_zip.json\"))"
   ]
  },
  {
   "cell_type": "code",
   "execution_count": 3,
   "metadata": {
    "collapsed": true
   },
   "outputs": [],
   "source": [
    "data=pd.read_csv(\"/home/jian/Projects/Smoothie_King/TA/data_from_Jay/zip_within_3_mile.csv\",dtype=str)"
   ]
  },
  {
   "cell_type": "code",
   "execution_count": 4,
   "metadata": {
    "collapsed": true,
    "scrolled": true
   },
   "outputs": [],
   "source": [
    "data['zip_list']=data['zip_within_3_mile'].apply(lambda x: list(set([str(y).zfill(5) for y in eval(x)])))\n",
    "data['TA']=np.nan\n",
    "data['TA']=1\n",
    "\n",
    "df_TA_zips=pd.DataFrame({\"store\":[data['store_number'][0]]*len(data['zip_list'][0]),\"zip\":data['zip_list'][0],\"TA\":[1]*len(data['zip_list'][0])},index=[1]*len(data['zip_list'][0]))"
   ]
  },
  {
   "cell_type": "code",
   "execution_count": 5,
   "metadata": {},
   "outputs": [
    {
     "data": {
      "text/html": [
       "<div>\n",
       "<style>\n",
       "    .dataframe thead tr:only-child th {\n",
       "        text-align: right;\n",
       "    }\n",
       "\n",
       "    .dataframe thead th {\n",
       "        text-align: left;\n",
       "    }\n",
       "\n",
       "    .dataframe tbody tr th {\n",
       "        vertical-align: top;\n",
       "    }\n",
       "</style>\n",
       "<table border=\"1\" class=\"dataframe\">\n",
       "  <thead>\n",
       "    <tr style=\"text-align: right;\">\n",
       "      <th></th>\n",
       "      <th>store_number</th>\n",
       "      <th>store_name</th>\n",
       "      <th>address</th>\n",
       "      <th>city</th>\n",
       "      <th>state</th>\n",
       "      <th>zip_code</th>\n",
       "      <th>phone_number</th>\n",
       "      <th>store_hours</th>\n",
       "      <th>latitude</th>\n",
       "      <th>longitude</th>\n",
       "      <th>geo_accuracy</th>\n",
       "      <th>country</th>\n",
       "      <th>country_code</th>\n",
       "      <th>county</th>\n",
       "      <th>zip_within_3_mile</th>\n",
       "      <th>zip_list</th>\n",
       "      <th>TA</th>\n",
       "    </tr>\n",
       "  </thead>\n",
       "  <tbody>\n",
       "    <tr>\n",
       "      <th>0</th>\n",
       "      <td>0</td>\n",
       "      <td>NaN</td>\n",
       "      <td>7215 Veterans Memorial Blvd. Ste. C</td>\n",
       "      <td>Metairie</td>\n",
       "      <td>LA</td>\n",
       "      <td>70003</td>\n",
       "      <td>(504) 457-4456</td>\n",
       "      <td>Monday 7:00 am 9:00 pm Tuesday 7:00 am 9:00 pm...</td>\n",
       "      <td>30.005821299999997</td>\n",
       "      <td>-90.22060079999999</td>\n",
       "      <td>SUBPREMISE: ROOFTOP</td>\n",
       "      <td>United States</td>\n",
       "      <td>US</td>\n",
       "      <td>Jefferson Parish</td>\n",
       "      <td>['70060', '70006', '70065', 70003, '70062', '7...</td>\n",
       "      <td>[70065, 70063, 70062, 70060, 70003, 70006]</td>\n",
       "      <td>1</td>\n",
       "    </tr>\n",
       "    <tr>\n",
       "      <th>1</th>\n",
       "      <td>2</td>\n",
       "      <td>Smoothie King Veterans and Clearview</td>\n",
       "      <td>4539 Veterans Blvd.</td>\n",
       "      <td>Metairie</td>\n",
       "      <td>LA</td>\n",
       "      <td>70006</td>\n",
       "      <td>(504) 264-7880</td>\n",
       "      <td>Monday 6:30 am 10:00 pm Tuesday 6:30 am 10:00 ...</td>\n",
       "      <td>30.0058425</td>\n",
       "      <td>-90.1846858</td>\n",
       "      <td>PREMISE: ROOFTOP</td>\n",
       "      <td>United States</td>\n",
       "      <td>US</td>\n",
       "      <td>Jefferson Parish</td>\n",
       "      <td>['70060', '70002', '70006', '70011', '70004', ...</td>\n",
       "      <td>[70009, 70183, 70005, 70004, 70011, 70002, 701...</td>\n",
       "      <td>1</td>\n",
       "    </tr>\n",
       "  </tbody>\n",
       "</table>\n",
       "</div>"
      ],
      "text/plain": [
       "  store_number                            store_name  \\\n",
       "0            0                                   NaN   \n",
       "1            2  Smoothie King Veterans and Clearview   \n",
       "\n",
       "                               address      city state zip_code  \\\n",
       "0  7215 Veterans Memorial Blvd. Ste. C  Metairie    LA    70003   \n",
       "1                  4539 Veterans Blvd.  Metairie    LA    70006   \n",
       "\n",
       "     phone_number                                        store_hours  \\\n",
       "0  (504) 457-4456  Monday 7:00 am 9:00 pm Tuesday 7:00 am 9:00 pm...   \n",
       "1  (504) 264-7880  Monday 6:30 am 10:00 pm Tuesday 6:30 am 10:00 ...   \n",
       "\n",
       "             latitude           longitude         geo_accuracy        country  \\\n",
       "0  30.005821299999997  -90.22060079999999  SUBPREMISE: ROOFTOP  United States   \n",
       "1          30.0058425         -90.1846858     PREMISE: ROOFTOP  United States   \n",
       "\n",
       "  country_code            county  \\\n",
       "0           US  Jefferson Parish   \n",
       "1           US  Jefferson Parish   \n",
       "\n",
       "                                   zip_within_3_mile  \\\n",
       "0  ['70060', '70006', '70065', 70003, '70062', '7...   \n",
       "1  ['70060', '70002', '70006', '70011', '70004', ...   \n",
       "\n",
       "                                            zip_list  TA  \n",
       "0         [70065, 70063, 70062, 70060, 70003, 70006]   1  \n",
       "1  [70009, 70183, 70005, 70004, 70011, 70002, 701...   1  "
      ]
     },
     "execution_count": 5,
     "metadata": {},
     "output_type": "execute_result"
    }
   ],
   "source": [
    "data.head(2)"
   ]
  },
  {
   "cell_type": "code",
   "execution_count": 5,
   "metadata": {},
   "outputs": [
    {
     "name": "stderr",
     "output_type": "stream",
     "text": [
      "/usr/local/lib/python3.6/site-packages/ipykernel_launcher.py:16: SettingWithCopyWarning: \n",
      "A value is trying to be set on a copy of a slice from a DataFrame.\n",
      "Try using .loc[row_indexer,col_indexer] = value instead\n",
      "\n",
      "See the caveats in the documentation: http://pandas.pydata.org/pandas-docs/stable/indexing.html#indexing-view-versus-copy\n",
      "  app.launch_new_instance()\n"
     ]
    }
   ],
   "source": [
    "TA_counter=1\n",
    "\n",
    "for i in range(1,len(data)):\n",
    "    intersection_zip=list(set(data['zip_list'][i]).intersection(set(df_TA_zips['zip'].unique().tolist())))\n",
    "    if len(intersection_zip)==0:\n",
    "        TA_counter+=1\n",
    "        df_TA_zips=df_TA_zips.append(pd.DataFrame({\"store\":[data['store_number'][i]]*len(data['zip_list'][i]),\"zip\":data['zip_list'][i],\"TA\":[TA_counter]*len(data['zip_list'][i])},index=[i]*len(data['zip_list'][i]))).drop_duplicates()\n",
    "        \n",
    "    else:\n",
    "        df_intersection=df_TA_zips[df_TA_zips['zip'].isin(intersection_zip)]\n",
    "        group_df_intersection=df_intersection.groupby(['TA'])['zip'].count().to_frame().reset_index().sort_values(['zip'],ascending=False)\n",
    "        selected_TA=group_df_intersection['TA'][0] \n",
    "        \n",
    "        df_TA_zips_0=df_TA_zips[~df_TA_zips['TA'].isin(set(group_df_intersection['TA']))]\n",
    "        df_TA_zips_1=df_TA_zips[df_TA_zips['TA'].isin(group_df_intersection['TA'].tolist())]\n",
    "        df_TA_zips_1['TA']=selected_TA\n",
    "        df_TA_zips=df_TA_zips_0.append(df_TA_zips_1).append(pd.DataFrame({\"store\":[data['store_number'][i]]*len(data['zip_list'][i]),\"zip\":data['zip_list'][i],\"TA\":[selected_TA]*len(data['zip_list'][i])},index=[i]*len(data['zip_list'][i]))).drop_duplicates()\n",
    "        \n",
    "dict_TA_zips=df_TA_zips.set_index('zip').to_dict()['TA']\n",
    "dict_TA_store=df_TA_zips.set_index('store').to_dict()['TA']\n",
    "data['TA']=data['store_number'].apply(lambda x: dict_TA_store[x])"
   ]
  },
  {
   "cell_type": "code",
   "execution_count": null,
   "metadata": {
    "collapsed": true
   },
   "outputs": [],
   "source": []
  },
  {
   "cell_type": "code",
   "execution_count": 6,
   "metadata": {
    "collapsed": true
   },
   "outputs": [],
   "source": [
    "df_ta_num_unique=data[['TA']].drop_duplicates().reset_index()\n",
    "del df_ta_num_unique['index']\n",
    "df_ta_num_unique['new_TA']=[x+1 for x in range(len(df_ta_num_unique))]\n",
    "\n",
    "dict_ta_num_unique=df_ta_num_unique.set_index(['TA']).to_dict()['new_TA']\n",
    "data['TA']=data['TA'].apply(lambda x: dict_ta_num_unique[x])\n",
    "df_TA_zips['TA']=df_TA_zips['TA'].apply(lambda x: dict_ta_num_unique[x])\n"
   ]
  },
  {
   "cell_type": "code",
   "execution_count": 7,
   "metadata": {
    "collapsed": true
   },
   "outputs": [],
   "source": [
    "\n",
    "summary_store=data.groupby(\"TA\")['store_number'].count().to_frame().reset_index().rename(columns={\"store_number\":\"store_count\"})\n",
    "summary_zip=df_TA_zips[['TA','zip']].drop_duplicates().groupby(\"TA\")['zip'].count().to_frame().reset_index().rename(columns={\"zip\":\"zip_count\"})\n",
    "# summary_store_2=df_TA_zips[['TA','store']].drop_duplicates().groupby(\"TA\")['store'].count().to_frame().reset_index().rename(columns={\"store\":\"store_count_2\"})\n",
    "summary_store_list=data.groupby(\"TA\")['store_number'].apply(list).to_frame().reset_index().rename(columns={\"store_number\":\"store_list\"})\n",
    "summary_zip_list=df_TA_zips[['TA','zip']].drop_duplicates().groupby(\"TA\")['zip'].apply(list).to_frame().reset_index().rename(columns={\"zip\":\"zip_list\"})\n",
    "\n",
    "\n",
    "\n",
    "summary_by_TA=pd.merge(summary_store,summary_zip,on=\"TA\",how=\"outer\")\n",
    "summary_by_TA=pd.merge(summary_by_TA,summary_store_list,on=\"TA\",how=\"outer\")\n",
    "summary_by_TA=pd.merge(summary_by_TA,summary_zip_list,on=\"TA\",how=\"outer\")\n",
    "\n",
    "# summary=pd.merge(summary,summary_store_2,on=\"TA\",how=\"outer\")\n",
    "TA_Store_zip_list=data.groupby(['TA'])['zip_code'].apply(set).to_frame().reset_index().rename(columns={\"zip_code\":\"store_zip_list\"})\n",
    "summary_by_TA=pd.merge(summary_by_TA,TA_Store_zip_list,on=\"TA\",how=\"left\")\n"
   ]
  },
  {
   "cell_type": "code",
   "execution_count": null,
   "metadata": {
    "collapsed": true
   },
   "outputs": [],
   "source": []
  },
  {
   "cell_type": "code",
   "execution_count": 8,
   "metadata": {
    "collapsed": true
   },
   "outputs": [],
   "source": [
    "summary_by_store_count=summary_by_TA.groupby(['store_count'])['TA'].count().to_frame().reset_index().rename(columns={\"TA\":\"TA_count\"})\n",
    "summary_by_store_list=summary_by_TA.groupby(['store_count'])['TA'].apply(list).to_frame().reset_index().rename(columns={\"TA\":\"TA_list\"})\n",
    "summary_by_store_count=pd.merge(summary_by_store_count,summary_by_store_list,on=\"store_count\",how=\"outer\")"
   ]
  },
  {
   "cell_type": "code",
   "execution_count": 9,
   "metadata": {},
   "outputs": [
    {
     "name": "stdout",
     "output_type": "stream",
     "text": [
      "zip not found,  32758\n"
     ]
    }
   ],
   "source": [
    "df_zip_dist_in_TA=df_TA_zips[[\"TA\",\"zip\"]].drop_duplicates().reset_index()\n",
    "del df_zip_dist_in_TA['index']\n",
    "\n",
    "output_distance_zip_in_TA=pd.DataFrame()\n",
    "counter_k=0\n",
    "for ta,group in df_zip_dist_in_TA.groupby(['TA']):\n",
    "    group=group.reset_index()\n",
    "    del group['index']\n",
    "    \n",
    "    if len(group)>1:\n",
    "    \n",
    "        dist_list=[]\n",
    "\n",
    "        for i in range(len(group)):\n",
    "            zip_hold=group['zip'][i]\n",
    "\n",
    "            if zip_hold not in zip_centers.keys():\n",
    "                try:\n",
    "                    zip_hold_center=(zipcodes.matching(zip_hold)[0]['lat'],zipcodes.matching(zip_hold)[0]['long'])\n",
    "                except:\n",
    "                    print(\"zip not found, \",zip_hold)\n",
    "\n",
    "            else:\n",
    "                zip_hold_center=zip_centers[zip_hold]\n",
    "\n",
    "            for j in range(i+1,len(group)):\n",
    "                zip_var=group['zip'][j]\n",
    "                if zip_var not in zip_centers.keys():\n",
    "                    try:\n",
    "                        zip_var_center=(zipcodes.matching(zip_var)[0]['lat'],zipcodes.matching(zip_var)[0]['long'])\n",
    "                    except:\n",
    "                        print(\"zip not found, \",zip_hold)\n",
    "\n",
    "                else:\n",
    "                    zip_var_center=zip_centers[zip_var]\n",
    "\n",
    "                try:\n",
    "                    dist=haversine(zip_hold_center,zip_var_center,miles=True)\n",
    "                except:\n",
    "                    dist=np.nan\n",
    "\n",
    "                dist_list=dist_list+[dist]\n",
    "        df=pd.DataFrame({\"TA\":ta,\"dist_min\":min(dist_list),\"dist_max\":max(dist_list),\"dist_median\":np.median(dist_list),\"All_dist\":[dist_list]},index=[counter_k])\n",
    "        counter_k+=1\n",
    "        output_distance_zip_in_TA=output_distance_zip_in_TA.append(df)\n",
    "    else:\n",
    "        df=pd.DataFrame({\"TA\":ta,\"dist_min\":0,\"dist_max\":0,\"dist_median\":0,\"All_dist\":\"single_zip\"},index=[counter_k])\n",
    "        output_distance_zip_in_TA=output_distance_zip_in_TA.append(df)\n",
    "    "
   ]
  },
  {
   "cell_type": "code",
   "execution_count": 10,
   "metadata": {
    "collapsed": true
   },
   "outputs": [],
   "source": [
    "zip_DMA=pd.read_excel(\"/home/jian/Docs/Geo_mapping/Zips by DMA by County16-17 nielsen.xlsx\",dtype=str,skiprows=1)\n",
    "zip_DMA=zip_DMA.iloc[:,[0,2]]\n",
    "zip_DMA.columns=['zip','DMA']"
   ]
  },
  {
   "cell_type": "code",
   "execution_count": 11,
   "metadata": {
    "collapsed": true
   },
   "outputs": [],
   "source": [
    "df_city_state_in_TA=df_TA_zips[[\"TA\",\"zip\"]].drop_duplicates().reset_index()\n",
    "del df_city_state_in_TA['index']\n",
    "\n",
    "def city_of_zip(x):\n",
    "    try:\n",
    "        city=zipcodes.matching(x)[0]['city']\n",
    "    except:\n",
    "        city=np.nan\n",
    "    return city\n",
    "\n",
    "def state_of_zip(x):\n",
    "    try:\n",
    "        state=zipcodes.matching(x)[0]['state']\n",
    "    except:\n",
    "        state=np.nan\n",
    "    return state\n",
    "    \n",
    "df_city_state_in_TA['city']=df_city_state_in_TA['zip'].apply(lambda x: city_of_zip(x))\n",
    "df_city_state_in_TA['state']=df_city_state_in_TA['zip'].apply(lambda x: state_of_zip(x))\n",
    "df_city_state_in_TA['city']=df_city_state_in_TA['city']+\" (\"+df_city_state_in_TA['state']+\")\"\n",
    "\n"
   ]
  },
  {
   "cell_type": "code",
   "execution_count": 12,
   "metadata": {},
   "outputs": [
    {
     "data": {
      "text/html": [
       "<div>\n",
       "<style>\n",
       "    .dataframe thead tr:only-child th {\n",
       "        text-align: right;\n",
       "    }\n",
       "\n",
       "    .dataframe thead th {\n",
       "        text-align: left;\n",
       "    }\n",
       "\n",
       "    .dataframe tbody tr th {\n",
       "        vertical-align: top;\n",
       "    }\n",
       "</style>\n",
       "<table border=\"1\" class=\"dataframe\">\n",
       "  <thead>\n",
       "    <tr style=\"text-align: right;\">\n",
       "      <th></th>\n",
       "      <th>TA</th>\n",
       "      <th>zip</th>\n",
       "      <th>DMA</th>\n",
       "    </tr>\n",
       "  </thead>\n",
       "  <tbody>\n",
       "    <tr>\n",
       "      <th>0</th>\n",
       "      <td>3</td>\n",
       "      <td>70031</td>\n",
       "      <td>NEW ORLEANS</td>\n",
       "    </tr>\n",
       "    <tr>\n",
       "      <th>1</th>\n",
       "      <td>3</td>\n",
       "      <td>70087</td>\n",
       "      <td>NEW ORLEANS</td>\n",
       "    </tr>\n",
       "  </tbody>\n",
       "</table>\n",
       "</div>"
      ],
      "text/plain": [
       "   TA    zip          DMA\n",
       "0   3  70031  NEW ORLEANS\n",
       "1   3  70087  NEW ORLEANS"
      ]
     },
     "execution_count": 12,
     "metadata": {},
     "output_type": "execute_result"
    }
   ],
   "source": [
    "df_DMA_in_TA=df_TA_zips[[\"TA\",\"zip\"]].drop_duplicates().reset_index()\n",
    "del df_DMA_in_TA['index']\n",
    "df_DMA_in_TA=pd.merge(df_DMA_in_TA,zip_DMA,on=\"zip\",how=\"left\")\n",
    "df_DMA_in_TA.head(2)"
   ]
  },
  {
   "cell_type": "code",
   "execution_count": 13,
   "metadata": {
    "collapsed": true
   },
   "outputs": [],
   "source": [
    "df_city_TA_list=df_city_state_in_TA.groupby(['TA'])['city'].apply(set).to_frame().reset_index()\n",
    "df_city_TA_list=df_city_TA_list.rename(columns={\"city\":\"city_list\"})\n",
    "df_state_TA_list=df_city_state_in_TA.groupby(['TA'])['state'].apply(set).to_frame().reset_index()\n",
    "df_state_TA_list=df_state_TA_list.rename(columns={\"state\":\"state_list\"})\n",
    "df_DMA_TA_list=df_DMA_in_TA.groupby(['TA'])['DMA'].apply(set).to_frame().reset_index()\n",
    "df_DMA_TA_list=df_DMA_TA_list.rename(columns={\"DMA\":\"DMA_list\"})\n"
   ]
  },
  {
   "cell_type": "code",
   "execution_count": 14,
   "metadata": {},
   "outputs": [
    {
     "data": {
      "text/html": [
       "<div>\n",
       "<style>\n",
       "    .dataframe thead tr:only-child th {\n",
       "        text-align: right;\n",
       "    }\n",
       "\n",
       "    .dataframe thead th {\n",
       "        text-align: left;\n",
       "    }\n",
       "\n",
       "    .dataframe tbody tr th {\n",
       "        vertical-align: top;\n",
       "    }\n",
       "</style>\n",
       "<table border=\"1\" class=\"dataframe\">\n",
       "  <thead>\n",
       "    <tr style=\"text-align: right;\">\n",
       "      <th></th>\n",
       "      <th>TA</th>\n",
       "      <th>zip</th>\n",
       "      <th>city</th>\n",
       "      <th>state</th>\n",
       "    </tr>\n",
       "  </thead>\n",
       "  <tbody>\n",
       "    <tr>\n",
       "      <th>0</th>\n",
       "      <td>3</td>\n",
       "      <td>70031</td>\n",
       "      <td>AMA (LA)</td>\n",
       "      <td>LA</td>\n",
       "    </tr>\n",
       "    <tr>\n",
       "      <th>1</th>\n",
       "      <td>3</td>\n",
       "      <td>70087</td>\n",
       "      <td>SAINT ROSE (LA)</td>\n",
       "      <td>LA</td>\n",
       "    </tr>\n",
       "  </tbody>\n",
       "</table>\n",
       "</div>"
      ],
      "text/plain": [
       "   TA    zip             city state\n",
       "0   3  70031         AMA (LA)    LA\n",
       "1   3  70087  SAINT ROSE (LA)    LA"
      ]
     },
     "execution_count": 14,
     "metadata": {},
     "output_type": "execute_result"
    }
   ],
   "source": [
    "df_city_state_in_TA.head(2)"
   ]
  },
  {
   "cell_type": "code",
   "execution_count": 15,
   "metadata": {
    "collapsed": true
   },
   "outputs": [],
   "source": [
    "counter_k\n",
    "df_primary_city_state=pd.DataFrame()\n",
    "df_primary_DMA=pd.DataFrame()\n",
    "for ta,group in df_city_state_in_TA.groupby(['TA']):\n",
    "    df_city=group.groupby(['city'])['zip'].count().to_frame().reset_index().sort_values(['zip'],ascending=False).reset_index()\n",
    "    del df_city['index']\n",
    "    primary_city=df_city['city'][0]\n",
    "    \n",
    "    df_state=group.groupby(['state'])['zip'].count().to_frame().reset_index().sort_values(['zip'],ascending=False).reset_index()\n",
    "    del df_state['index']\n",
    "    primary_state=df_state['state'][0]\n",
    "    \n",
    "    df=pd.DataFrame({\"TA\":ta,\"Primary_City\":primary_city,\"Primary_State\":primary_state},index=[counter_k])\n",
    "    counter_k+=1\n",
    "    df_primary_city_state=df_primary_city_state.append(df)\n",
    "\n",
    "    \n",
    "for ta,group in df_DMA_in_TA.groupby(['TA']):\n",
    "    df_DMA=group.groupby(['DMA'])['zip'].count().to_frame().reset_index().sort_values(['zip'],ascending=False).reset_index()\n",
    "    del df_DMA['index']\n",
    "    primary_DMA=df_DMA['DMA'][0]\n",
    "    \n",
    "    df=pd.DataFrame({\"TA\":ta,\"Primary_DMA\":primary_DMA},index=[counter_k])\n",
    "    counter_k+=1\n",
    "    df_primary_DMA=df_primary_DMA.append(df)"
   ]
  },
  {
   "cell_type": "code",
   "execution_count": 16,
   "metadata": {
    "collapsed": true
   },
   "outputs": [],
   "source": [
    "summary_by_TA=pd.merge(summary_by_TA,df_city_TA_list,on=\"TA\",how=\"left\")\n",
    "summary_by_TA=pd.merge(summary_by_TA,df_state_TA_list,on=\"TA\",how=\"left\")\n",
    "summary_by_TA=pd.merge(summary_by_TA,df_DMA_TA_list,on=\"TA\",how=\"left\")\n",
    "\n",
    "summary_by_TA=pd.merge(summary_by_TA,df_primary_city_state,on=\"TA\",how=\"left\")\n",
    "summary_by_TA=pd.merge(summary_by_TA,df_primary_DMA,on=\"TA\",how=\"left\")\n",
    "\n",
    "summary_by_TA=pd.merge(summary_by_TA,output_distance_zip_in_TA,on=\"TA\",how=\"left\")"
   ]
  },
  {
   "cell_type": "code",
   "execution_count": 17,
   "metadata": {
    "collapsed": true
   },
   "outputs": [],
   "source": [
    "writer=pd.ExcelWriter(\"/home/jian/Projects/Smoothie_King/TA/SmoothieKing_TA_3_miles_JL_\"+str(datetime.datetime.now().date())+\".xlsx\",engine=\"xlsxwriter\")\n",
    "data.to_excel(writer,\"output_TA\",index=False)\n",
    "df_TA_zips.to_excel(writer,\"zip_TA\",index=False)\n",
    "summary_by_TA.to_excel(writer,\"summary_by_TA\",index=False)\n",
    "summary_by_store_count.to_excel(writer,\"summary_by_store_count\",index=False)\n",
    "writer.save()"
   ]
  },
  {
   "cell_type": "code",
   "execution_count": null,
   "metadata": {
    "collapsed": true
   },
   "outputs": [],
   "source": []
  },
  {
   "cell_type": "code",
   "execution_count": null,
   "metadata": {
    "collapsed": true
   },
   "outputs": [],
   "source": []
  }
 ],
 "metadata": {
  "kernelspec": {
   "display_name": "Python 3",
   "language": "python",
   "name": "python3"
  },
  "language_info": {
   "codemirror_mode": {
    "name": "ipython",
    "version": 3
   },
   "file_extension": ".py",
   "mimetype": "text/x-python",
   "name": "python",
   "nbconvert_exporter": "python",
   "pygments_lexer": "ipython3",
   "version": "3.6.1"
  }
 },
 "nbformat": 4,
 "nbformat_minor": 2
}
