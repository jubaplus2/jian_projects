{
 "cells": [
  {
   "cell_type": "code",
   "execution_count": 1,
   "metadata": {},
   "outputs": [],
   "source": [
    "import pandas as pd\n",
    "import numpy as np\n",
    "import datetime\n",
    "import numpy as np\n",
    "from haversine import haversine\n",
    "import json\n",
    "\n",
    "zip_centers=json.load(open(\"/home/jian/Docs/Geo_mapping/updated_zip_centers_JL_2019-05-23.json\",\"r\"))"
   ]
  },
  {
   "cell_type": "code",
   "execution_count": 2,
   "metadata": {},
   "outputs": [
    {
     "data": {
      "text/plain": [
       "['Wolf Furniture',\n",
       " 'Levin & Wolf 2020 Stores',\n",
       " 'BBB',\n",
       " 'BBB 2020 Stores',\n",
       " 'BBB 2020 Planned Closings',\n",
       " \"Macy's\",\n",
       " \"Macy's 2020 Stores\",\n",
       " \"Macy's 2020 Planned Closings\",\n",
       " 'Pier 1',\n",
       " 'Pier 1 2020 Stores',\n",
       " 'Pier 1 2020 Planned Closings',\n",
       " 'Art Van Furniture',\n",
       " 'AVF 2020 Stores',\n",
       " 'AVF 2020 Planned Closings',\n",
       " 'At Home',\n",
       " 'AH 2020 Stores']"
      ]
     },
     "execution_count": 2,
     "metadata": {},
     "output_type": "execute_result"
    }
   ],
   "source": [
    "excel_file=pd.ExcelFile(\"./BL_2020 Comp Store Closing and Opening 3.30.2020.xlsx\")\n",
    "excel_file.sheet_names"
   ]
  },
  {
   "cell_type": "code",
   "execution_count": 3,
   "metadata": {},
   "outputs": [
    {
     "data": {
      "text/html": [
       "<div>\n",
       "<style scoped>\n",
       "    .dataframe tbody tr th:only-of-type {\n",
       "        vertical-align: middle;\n",
       "    }\n",
       "\n",
       "    .dataframe tbody tr th {\n",
       "        vertical-align: top;\n",
       "    }\n",
       "\n",
       "    .dataframe thead th {\n",
       "        text-align: right;\n",
       "    }\n",
       "</style>\n",
       "<table border=\"1\" class=\"dataframe\">\n",
       "  <thead>\n",
       "    <tr style=\"text-align: right;\">\n",
       "      <th></th>\n",
       "      <th>store_name</th>\n",
       "      <th>address</th>\n",
       "      <th>city</th>\n",
       "      <th>state</th>\n",
       "      <th>zip_code</th>\n",
       "      <th>status</th>\n",
       "      <th>latitude</th>\n",
       "      <th>longitude</th>\n",
       "    </tr>\n",
       "  </thead>\n",
       "  <tbody>\n",
       "    <tr>\n",
       "      <th>0</th>\n",
       "      <td>Wolf Furniture</td>\n",
       "      <td>5830 Ballenger Creek Pike</td>\n",
       "      <td>Frederick</td>\n",
       "      <td>MD</td>\n",
       "      <td>21703</td>\n",
       "      <td>Closed</td>\n",
       "      <td>39.393226</td>\n",
       "      <td>-77.440286</td>\n",
       "    </tr>\n",
       "  </tbody>\n",
       "</table>\n",
       "</div>"
      ],
      "text/plain": [
       "       store_name                    address       city state zip_code  \\\n",
       "0  Wolf Furniture  5830 Ballenger Creek Pike  Frederick    MD    21703   \n",
       "\n",
       "   status   latitude  longitude  \n",
       "0  Closed  39.393226 -77.440286  "
      ]
     },
     "execution_count": 3,
     "metadata": {},
     "output_type": "execute_result"
    }
   ],
   "source": [
    "df_closed_comp_store=excel_file.parse(\"Wolf Furniture\",dtype=str,skiprows=5)\n",
    "df_closed_comp_store=df_closed_comp_store[['Company','Address','City ','State','Zip','Status']]\n",
    "df_closed_comp_store=df_closed_comp_store.rename(columns={\"Company\":\"store_name\",\n",
    "                                                          \"Address\":\"address\",\n",
    "                                                          \"City \":\"city\",\n",
    "                                                          \"State\":\"state\",\n",
    "                                                          \"Zip\":\"zip_code\",\n",
    "                                                          'Status':\"status\"})\n",
    "df_closed_comp_store['latitude']=39.3932264\n",
    "df_closed_comp_store['longitude']=-77.440286\n",
    "df_closed_comp_store"
   ]
  },
  {
   "cell_type": "code",
   "execution_count": 4,
   "metadata": {},
   "outputs": [],
   "source": [
    "df_comp_stores=excel_file.parse(\"Levin & Wolf 2020 Stores\",dtype=str)\n",
    "df_comp_stores['status']='open'\n",
    "df_comp_stores=df_comp_stores[df_closed_comp_store.columns.tolist()]"
   ]
  },
  {
   "cell_type": "code",
   "execution_count": 5,
   "metadata": {},
   "outputs": [
    {
     "name": "stdout",
     "output_type": "stream",
     "text": [
      "(57, 8) 57\n",
      "df_all_wolf_and_levin_stores['zip_code'].apply(len).unique() [5]\n"
     ]
    },
    {
     "data": {
      "text/html": [
       "<div>\n",
       "<style scoped>\n",
       "    .dataframe tbody tr th:only-of-type {\n",
       "        vertical-align: middle;\n",
       "    }\n",
       "\n",
       "    .dataframe tbody tr th {\n",
       "        vertical-align: top;\n",
       "    }\n",
       "\n",
       "    .dataframe thead th {\n",
       "        text-align: right;\n",
       "    }\n",
       "</style>\n",
       "<table border=\"1\" class=\"dataframe\">\n",
       "  <thead>\n",
       "    <tr style=\"text-align: right;\">\n",
       "      <th></th>\n",
       "      <th>store_name</th>\n",
       "      <th>address</th>\n",
       "      <th>city</th>\n",
       "      <th>state</th>\n",
       "      <th>zip_code</th>\n",
       "      <th>status</th>\n",
       "      <th>latitude</th>\n",
       "      <th>longitude</th>\n",
       "    </tr>\n",
       "  </thead>\n",
       "  <tbody>\n",
       "    <tr>\n",
       "      <th>0</th>\n",
       "      <td>Wolf Furniture</td>\n",
       "      <td>5830 Ballenger Creek Pike</td>\n",
       "      <td>Frederick</td>\n",
       "      <td>MD</td>\n",
       "      <td>21703</td>\n",
       "      <td>Closed</td>\n",
       "      <td>39.393226</td>\n",
       "      <td>-77.440286</td>\n",
       "    </tr>\n",
       "    <tr>\n",
       "      <th>1</th>\n",
       "      <td>Levin - Montrose</td>\n",
       "      <td>3742 Brookwall Drive</td>\n",
       "      <td>Akron</td>\n",
       "      <td>OH</td>\n",
       "      <td>44333</td>\n",
       "      <td>open</td>\n",
       "      <td>41.131590</td>\n",
       "      <td>-81.644194</td>\n",
       "    </tr>\n",
       "  </tbody>\n",
       "</table>\n",
       "</div>"
      ],
      "text/plain": [
       "         store_name                    address       city state zip_code  \\\n",
       "0    Wolf Furniture  5830 Ballenger Creek Pike  Frederick    MD    21703   \n",
       "1  Levin - Montrose       3742 Brookwall Drive      Akron    OH    44333   \n",
       "\n",
       "   status   latitude  longitude  \n",
       "0  Closed  39.393226 -77.440286  \n",
       "1    open  41.131590 -81.644194  "
      ]
     },
     "execution_count": 5,
     "metadata": {},
     "output_type": "execute_result"
    }
   ],
   "source": [
    "df_all_wolf_and_levin_stores=df_closed_comp_store.append(df_comp_stores)\n",
    "print(df_all_wolf_and_levin_stores.shape,df_all_wolf_and_levin_stores['store_name'].nunique())\n",
    "print(\"df_all_wolf_and_levin_stores['zip_code'].apply(len).unique()\",df_all_wolf_and_levin_stores['zip_code'].apply(len).unique())\n",
    "df_all_wolf_and_levin_stores['latitude']=df_all_wolf_and_levin_stores['latitude'].astype(float)\n",
    "df_all_wolf_and_levin_stores['longitude']=df_all_wolf_and_levin_stores['longitude'].astype(float)\n",
    "df_all_wolf_and_levin_stores=df_all_wolf_and_levin_stores.reset_index()\n",
    "del df_all_wolf_and_levin_stores['index']\n",
    "\n",
    "df_all_wolf_and_levin_stores.head(2)"
   ]
  },
  {
   "cell_type": "code",
   "execution_count": 6,
   "metadata": {},
   "outputs": [
    {
     "data": {
      "text/plain": [
       "(5353, 2)"
      ]
     },
     "execution_count": 6,
     "metadata": {},
     "output_type": "execute_result"
    }
   ],
   "source": [
    "df_competitor_zips_20=pd.DataFrame()\n",
    "for ind,row in df_all_wolf_and_levin_stores.iterrows():\n",
    "    store_center=(row['latitude'],row['longitude'])\n",
    "    store_name=row['store_name']\n",
    "    store_zip_list_20=[]\n",
    "    for zip_cd,v in zip_centers.items():\n",
    "        dist=haversine(store_center,v,unit=\"mi\")\n",
    "        if dist<=20:\n",
    "            store_zip_list_20.append(zip_cd)\n",
    "    df=pd.DataFrame({\"store_name\":[store_name]*len(store_zip_list_20),\"zip_cd\":store_zip_list_20})\n",
    "    df_competitor_zips_20=df_competitor_zips_20.append(df)\n",
    "df_competitor_zips_20.shape"
   ]
  },
  {
   "cell_type": "code",
   "execution_count": 7,
   "metadata": {},
   "outputs": [
    {
     "data": {
      "text/html": [
       "<div>\n",
       "<style scoped>\n",
       "    .dataframe tbody tr th:only-of-type {\n",
       "        vertical-align: middle;\n",
       "    }\n",
       "\n",
       "    .dataframe tbody tr th {\n",
       "        vertical-align: top;\n",
       "    }\n",
       "\n",
       "    .dataframe thead th {\n",
       "        text-align: right;\n",
       "    }\n",
       "</style>\n",
       "<table border=\"1\" class=\"dataframe\">\n",
       "  <thead>\n",
       "    <tr style=\"text-align: right;\">\n",
       "      <th></th>\n",
       "      <th>store_name</th>\n",
       "      <th>zip_cd</th>\n",
       "    </tr>\n",
       "  </thead>\n",
       "  <tbody>\n",
       "    <tr>\n",
       "      <th>0</th>\n",
       "      <td>Wolf Furniture</td>\n",
       "      <td>20129</td>\n",
       "    </tr>\n",
       "    <tr>\n",
       "      <th>1</th>\n",
       "      <td>Wolf Furniture</td>\n",
       "      <td>21720</td>\n",
       "    </tr>\n",
       "  </tbody>\n",
       "</table>\n",
       "</div>"
      ],
      "text/plain": [
       "       store_name zip_cd\n",
       "0  Wolf Furniture  20129\n",
       "1  Wolf Furniture  21720"
      ]
     },
     "execution_count": 7,
     "metadata": {},
     "output_type": "execute_result"
    }
   ],
   "source": [
    "df_competitor_zips_20.head(2)"
   ]
  },
  {
   "cell_type": "code",
   "execution_count": 8,
   "metadata": {},
   "outputs": [
    {
     "data": {
      "text/html": [
       "<div>\n",
       "<style scoped>\n",
       "    .dataframe tbody tr th:only-of-type {\n",
       "        vertical-align: middle;\n",
       "    }\n",
       "\n",
       "    .dataframe tbody tr th {\n",
       "        vertical-align: top;\n",
       "    }\n",
       "\n",
       "    .dataframe thead th {\n",
       "        text-align: right;\n",
       "    }\n",
       "</style>\n",
       "<table border=\"1\" class=\"dataframe\">\n",
       "  <thead>\n",
       "    <tr style=\"text-align: right;\">\n",
       "      <th></th>\n",
       "      <th>location_id</th>\n",
       "      <th>latitude_meas</th>\n",
       "      <th>longitude_meas</th>\n",
       "    </tr>\n",
       "  </thead>\n",
       "  <tbody>\n",
       "    <tr>\n",
       "      <th>0</th>\n",
       "      <td>3</td>\n",
       "      <td>33.421570</td>\n",
       "      <td>-82.018921</td>\n",
       "    </tr>\n",
       "    <tr>\n",
       "      <th>1</th>\n",
       "      <td>30</td>\n",
       "      <td>41.363132</td>\n",
       "      <td>-83.650909</td>\n",
       "    </tr>\n",
       "    <tr>\n",
       "      <th>2</th>\n",
       "      <td>43</td>\n",
       "      <td>41.612553</td>\n",
       "      <td>-83.623582</td>\n",
       "    </tr>\n",
       "  </tbody>\n",
       "</table>\n",
       "</div>"
      ],
      "text/plain": [
       "  location_id  latitude_meas  longitude_meas\n",
       "0           3      33.421570      -82.018921\n",
       "1          30      41.363132      -83.650909\n",
       "2          43      41.612553      -83.623582"
      ]
     },
     "execution_count": 8,
     "metadata": {},
     "output_type": "execute_result"
    }
   ],
   "source": [
    "df_store_list=pd.read_table(\"/home/jian/BigLots/static_files/Store_list/MediaStormStores20200401-135137-445.txt\",\n",
    "                            dtype=str,sep=\"|\")\n",
    "df_store_list=df_store_list[['location_id','latitude_meas','longitude_meas']]\n",
    "df_store_list=df_store_list[~df_store_list['location_id'].isin(['145','6990'])]\n",
    "df_store_list['latitude_meas']=df_store_list['latitude_meas'].astype(float)\n",
    "df_store_list['longitude_meas']=df_store_list['longitude_meas'].astype(float)\n",
    "'''\n",
    "for col in df_store_list.columns.tolist():\n",
    "    df_store_list=df_store_list.rename(columns={col:\"BL_\"+col})\n",
    "'''\n",
    "df_store_list.head(3)"
   ]
  },
  {
   "cell_type": "code",
   "execution_count": 9,
   "metadata": {},
   "outputs": [
    {
     "name": "stdout",
     "output_type": "stream",
     "text": [
      "(34, 5)\n",
      "34\n"
     ]
    }
   ],
   "source": [
    "TA_zips=pd.ExcelFile(\"/home/jian/Projects/Big_Lots/New_TA/TA_created_in_201906/final_output_20190718/BL_final_TA_updated_JL_2019-07-18.xlsx\")\n",
    "TA_zips=TA_zips.parse(\"view_by_store\",dtype=str)\n",
    "#\n",
    "df_temporary=TA_zips[['location_id','trans_P_zips_70_within_TA','trans_S_zips_70_within_TA','zips_in_10']]\n",
    "df_zip_by_store=pd.DataFrame()\n",
    "\n",
    "for ind,row in df_temporary.iterrows():\n",
    "    location_id=row['location_id']\n",
    "    P_zips=eval(row['trans_P_zips_70_within_TA'])\n",
    "    S_zips=eval(row['trans_S_zips_70_within_TA'])\n",
    "    zip_10=eval(row['zips_in_10'])\n",
    "    \n",
    "\n",
    "    df_P=pd.DataFrame(zip([location_id]*len(P_zips),P_zips))\n",
    "    if len(df_P)>0:\n",
    "        df_P.columns=['location_id','zip_cd']\n",
    "        df_P['zip_type']=\"P\"\n",
    "        \n",
    "    df_S=pd.DataFrame(zip([location_id]*len(S_zips),S_zips))\n",
    "    if len(df_S)>0:\n",
    "        df_S.columns=['location_id','zip_cd']\n",
    "        df_S['zip_type']=\"S\"\n",
    "    \n",
    "    df_10=pd.DataFrame(zip([location_id]*len(zip_10),zip_10))\n",
    "    if len(df_10)>0:\n",
    "        df_10.columns=['location_id','zip_cd']\n",
    "        df_10['zip_type']=\"zip_10\"\n",
    "    \n",
    "    df_zip_by_store=df_zip_by_store.append(df_P).append(df_S).append(df_10)\n",
    "    \n",
    "#   \n",
    "df_output=pd.merge(df_store_list,df_zip_by_store,on=\"location_id\",how=\"left\")\n",
    "df_output_2=df_output[pd.isnull(df_output['zip_cd'])]\n",
    "df_output_1=df_output[pd.notnull(df_output['zip_cd'])]\n",
    "print(df_output_2.shape)\n",
    "\n",
    "del df_output_2['zip_cd']\n",
    "del df_output_2['zip_type']\n",
    "#\n",
    "\n",
    "df_10_zips_all_new_stores=pd.DataFrame()\n",
    "for ind, row in df_output_2.iterrows():\n",
    "    location_id=row['location_id']\n",
    "    store_location=(row['latitude_meas'],row['longitude_meas'])\n",
    "    for zip_cd,v in zip_centers.items():\n",
    "        dist=haversine(store_location,v,unit=\"mi\")\n",
    "        if dist<=10:\n",
    "            # print(location_id,zip_cd)\n",
    "            df=pd.DataFrame({\"location_id\":[location_id],\"zip_cd\":[zip_cd],\"dist\":[dist]})\n",
    "            df_10_zips_all_new_stores=df_10_zips_all_new_stores.append(df)\n",
    "df_10_zips_all_new_stores['zip_type']=\"zip_10\"\n",
    "print(df_10_zips_all_new_stores['location_id'].nunique())\n",
    "#\n",
    "df_new_store_zips=df_10_zips_all_new_stores[['location_id','zip_cd','zip_type']]\n",
    "df_output_2=pd.merge(df_output_2,df_new_store_zips,how=\"left\")\n",
    "df_output=df_output_1.append(df_output_2)"
   ]
  },
  {
   "cell_type": "code",
   "execution_count": 10,
   "metadata": {},
   "outputs": [],
   "source": [
    "df_output['zip_type']=df_output['zip_type'].replace(\"zip_10\",\"P\")\n",
    "df_output_P=df_output[df_output['zip_type']==\"P\"]\n",
    "df_output_P=df_output_P[['location_id','zip_cd','zip_type']].drop_duplicates()"
   ]
  },
  {
   "cell_type": "code",
   "execution_count": 11,
   "metadata": {},
   "outputs": [
    {
     "name": "stdout",
     "output_type": "stream",
     "text": [
      "(51, 10) 46\n"
     ]
    },
    {
     "data": {
      "text/html": [
       "<div>\n",
       "<style scoped>\n",
       "    .dataframe tbody tr th:only-of-type {\n",
       "        vertical-align: middle;\n",
       "    }\n",
       "\n",
       "    .dataframe tbody tr th {\n",
       "        vertical-align: top;\n",
       "    }\n",
       "\n",
       "    .dataframe thead th {\n",
       "        text-align: right;\n",
       "    }\n",
       "</style>\n",
       "<table border=\"1\" class=\"dataframe\">\n",
       "  <thead>\n",
       "    <tr style=\"text-align: right;\">\n",
       "      <th></th>\n",
       "      <th>store_name</th>\n",
       "      <th>address</th>\n",
       "      <th>city</th>\n",
       "      <th>state</th>\n",
       "      <th>zip_code</th>\n",
       "      <th>status</th>\n",
       "      <th>latitude</th>\n",
       "      <th>longitude</th>\n",
       "      <th>location_id</th>\n",
       "      <th>paired_condition</th>\n",
       "    </tr>\n",
       "  </thead>\n",
       "  <tbody>\n",
       "    <tr>\n",
       "      <th>0</th>\n",
       "      <td>Wolf Furniture</td>\n",
       "      <td>5830 Ballenger Creek Pike</td>\n",
       "      <td>Frederick</td>\n",
       "      <td>MD</td>\n",
       "      <td>21703</td>\n",
       "      <td>Closed</td>\n",
       "      <td>39.393226</td>\n",
       "      <td>-77.440286</td>\n",
       "      <td>5395</td>\n",
       "      <td>P</td>\n",
       "    </tr>\n",
       "    <tr>\n",
       "      <th>3</th>\n",
       "      <td>Levin - Boardman - Now Open!</td>\n",
       "      <td>300 Boardman Poland Road</td>\n",
       "      <td>Boardman</td>\n",
       "      <td>OH</td>\n",
       "      <td>44512</td>\n",
       "      <td>open</td>\n",
       "      <td>41.025035</td>\n",
       "      <td>-80.651381</td>\n",
       "      <td>1466</td>\n",
       "      <td>P</td>\n",
       "    </tr>\n",
       "  </tbody>\n",
       "</table>\n",
       "</div>"
      ],
      "text/plain": [
       "                     store_name                    address       city state  \\\n",
       "0                Wolf Furniture  5830 Ballenger Creek Pike  Frederick    MD   \n",
       "3  Levin - Boardman - Now Open!   300 Boardman Poland Road   Boardman    OH   \n",
       "\n",
       "  zip_code  status   latitude  longitude location_id paired_condition  \n",
       "0    21703  Closed  39.393226 -77.440286        5395                P  \n",
       "3    44512    open  41.025035 -80.651381        1466                P  "
      ]
     },
     "execution_count": 11,
     "metadata": {},
     "output_type": "execute_result"
    }
   ],
   "source": [
    "df_all_wolf_and_levin_stores_paired_P=pd.merge(df_all_wolf_and_levin_stores,df_output_P,left_on=\"zip_code\",right_on=\"zip_cd\",how=\"left\")\n",
    "df_all_wolf_and_levin_stores_paired_P=df_all_wolf_and_levin_stores_paired_P[df_all_wolf_and_levin_stores_paired_P['zip_type']==\"P\"]\n",
    "del df_all_wolf_and_levin_stores_paired_P['zip_cd']\n",
    "df_all_wolf_and_levin_stores_paired_P=df_all_wolf_and_levin_stores_paired_P.rename(columns={\"zip_type\":\"paired_condition\"})\n",
    "print(df_all_wolf_and_levin_stores_paired_P.shape,df_all_wolf_and_levin_stores_paired_P['store_name'].nunique())\n",
    "df_all_wolf_and_levin_stores_paired_P.head(2)"
   ]
  },
  {
   "cell_type": "code",
   "execution_count": 12,
   "metadata": {},
   "outputs": [
    {
     "name": "stdout",
     "output_type": "stream",
     "text": [
      "(357, 2) 57\n"
     ]
    }
   ],
   "source": [
    "df_paired_20=pd.DataFrame()\n",
    "for ind,row in df_all_wolf_and_levin_stores.iterrows():\n",
    "    store_center=(row['latitude'],row['longitude'])\n",
    "    store_name=row['store_name']\n",
    "    BL_store_list_20=[]\n",
    "    for ind_BL,row_BL in df_store_list.iterrows():\n",
    "        BL_store_location=row_BL['location_id']\n",
    "        BL_store_center=(row_BL['latitude_meas'],row_BL['longitude_meas'])\n",
    "        dist=haversine(store_center,BL_store_center,unit=\"mi\")\n",
    "        if dist<=20:\n",
    "            BL_store_list_20.append(BL_store_location)\n",
    "    df=pd.DataFrame({\"store_name\":[store_name]*len(BL_store_list_20),\"location_id\":BL_store_list_20})\n",
    "    df_paired_20=df_paired_20.append(df)\n",
    "print(df_paired_20.shape,df_paired_20['store_name'].nunique())"
   ]
  },
  {
   "cell_type": "code",
   "execution_count": 13,
   "metadata": {},
   "outputs": [],
   "source": [
    "df_all_wolf_and_levin_stores_paired_20=pd.merge(df_all_wolf_and_levin_stores,df_paired_20,on=\"store_name\",how=\"left\")\n",
    "df_all_wolf_and_levin_stores_paired_20['paired_condition']=\"dist_20\"\n",
    "df_all_wolf_and_levin_stores_paired=df_all_wolf_and_levin_stores_paired_P.append(df_all_wolf_and_levin_stores_paired_20)"
   ]
  },
  {
   "cell_type": "code",
   "execution_count": 14,
   "metadata": {},
   "outputs": [],
   "source": [
    "df_store_list=df_store_list.rename(columns={\"latitude_meas\":\"BL_latitude_meas\",\"longitude_meas\":\"BL_longitude_meas\"})\n",
    "df_all_wolf_and_levin_stores_paired=pd.merge(df_all_wolf_and_levin_stores_paired,df_store_list,on=\"location_id\",how=\"left\")"
   ]
  },
  {
   "cell_type": "code",
   "execution_count": 15,
   "metadata": {},
   "outputs": [
    {
     "data": {
      "text/plain": [
       "(408, 13)"
      ]
     },
     "execution_count": 15,
     "metadata": {},
     "output_type": "execute_result"
    }
   ],
   "source": [
    "df_all_wolf_and_levin_stores_paired['store_dist']=df_all_wolf_and_levin_stores_paired.apply(lambda x: haversine([x['latitude'],x['longitude']],[x['BL_latitude_meas'],x['BL_longitude_meas']],unit='mi'),axis=1)\n",
    "df_all_wolf_and_levin_stores_paired.shape"
   ]
  },
  {
   "cell_type": "code",
   "execution_count": 16,
   "metadata": {},
   "outputs": [
    {
     "data": {
      "text/plain": [
       "(43730, 14)"
      ]
     },
     "execution_count": 16,
     "metadata": {},
     "output_type": "execute_result"
    }
   ],
   "source": [
    "df_competitor_zips_20=df_competitor_zips_20.rename(columns={\"zip_cd\":\"comp_target_zip\"})\n",
    "\n",
    "df_output_detail=pd.merge(df_all_wolf_and_levin_stores_paired,df_competitor_zips_20,on=\"store_name\",how=\"left\")\n",
    "\n",
    "df_output_detail.shape"
   ]
  },
  {
   "cell_type": "code",
   "execution_count": 17,
   "metadata": {},
   "outputs": [
    {
     "name": "stdout",
     "output_type": "stream",
     "text": [
      "(43730, 15)\n"
     ]
    },
    {
     "data": {
      "text/html": [
       "<div>\n",
       "<style scoped>\n",
       "    .dataframe tbody tr th:only-of-type {\n",
       "        vertical-align: middle;\n",
       "    }\n",
       "\n",
       "    .dataframe tbody tr th {\n",
       "        vertical-align: top;\n",
       "    }\n",
       "\n",
       "    .dataframe thead th {\n",
       "        text-align: right;\n",
       "    }\n",
       "</style>\n",
       "<table border=\"1\" class=\"dataframe\">\n",
       "  <thead>\n",
       "    <tr style=\"text-align: right;\">\n",
       "      <th></th>\n",
       "      <th>store_name</th>\n",
       "      <th>address</th>\n",
       "      <th>city</th>\n",
       "      <th>state</th>\n",
       "      <th>zip_code</th>\n",
       "      <th>status</th>\n",
       "      <th>latitude</th>\n",
       "      <th>longitude</th>\n",
       "      <th>location_id</th>\n",
       "      <th>paired_condition</th>\n",
       "      <th>BL_latitude_meas</th>\n",
       "      <th>BL_longitude_meas</th>\n",
       "      <th>store_dist</th>\n",
       "      <th>comp_target_zip</th>\n",
       "      <th>dist_comp_zip_to_BL_store</th>\n",
       "    </tr>\n",
       "  </thead>\n",
       "  <tbody>\n",
       "    <tr>\n",
       "      <th>0</th>\n",
       "      <td>Wolf Furniture</td>\n",
       "      <td>5830 Ballenger Creek Pike</td>\n",
       "      <td>Frederick</td>\n",
       "      <td>MD</td>\n",
       "      <td>21703</td>\n",
       "      <td>Closed</td>\n",
       "      <td>39.393226</td>\n",
       "      <td>-77.440286</td>\n",
       "      <td>5395</td>\n",
       "      <td>P</td>\n",
       "      <td>39.417166</td>\n",
       "      <td>-77.456782</td>\n",
       "      <td>1.873905</td>\n",
       "      <td>20129</td>\n",
       "      <td>19.648582</td>\n",
       "    </tr>\n",
       "    <tr>\n",
       "      <th>1</th>\n",
       "      <td>Wolf Furniture</td>\n",
       "      <td>5830 Ballenger Creek Pike</td>\n",
       "      <td>Frederick</td>\n",
       "      <td>MD</td>\n",
       "      <td>21703</td>\n",
       "      <td>Closed</td>\n",
       "      <td>39.393226</td>\n",
       "      <td>-77.440286</td>\n",
       "      <td>5395</td>\n",
       "      <td>P</td>\n",
       "      <td>39.417166</td>\n",
       "      <td>-77.456782</td>\n",
       "      <td>1.873905</td>\n",
       "      <td>21720</td>\n",
       "      <td>17.086080</td>\n",
       "    </tr>\n",
       "  </tbody>\n",
       "</table>\n",
       "</div>"
      ],
      "text/plain": [
       "       store_name                    address       city state zip_code  \\\n",
       "0  Wolf Furniture  5830 Ballenger Creek Pike  Frederick    MD    21703   \n",
       "1  Wolf Furniture  5830 Ballenger Creek Pike  Frederick    MD    21703   \n",
       "\n",
       "   status   latitude  longitude location_id paired_condition  \\\n",
       "0  Closed  39.393226 -77.440286        5395                P   \n",
       "1  Closed  39.393226 -77.440286        5395                P   \n",
       "\n",
       "   BL_latitude_meas  BL_longitude_meas  store_dist comp_target_zip  \\\n",
       "0         39.417166         -77.456782    1.873905           20129   \n",
       "1         39.417166         -77.456782    1.873905           21720   \n",
       "\n",
       "   dist_comp_zip_to_BL_store  \n",
       "0                  19.648582  \n",
       "1                  17.086080  "
      ]
     },
     "execution_count": 17,
     "metadata": {},
     "output_type": "execute_result"
    }
   ],
   "source": [
    "df_output_detail=df_output_detail.reset_index()\n",
    "del df_output_detail['index']\n",
    "df_output_detail['dist_comp_zip_to_BL_store']=df_output_detail.apply(lambda x: haversine((x['BL_latitude_meas'],x['BL_longitude_meas']),zip_centers[x['comp_target_zip']],unit=\"mi\"),axis=1)\n",
    "print(df_output_detail.shape)\n",
    "df_output_detail.head(2)"
   ]
  },
  {
   "cell_type": "code",
   "execution_count": 18,
   "metadata": {},
   "outputs": [
    {
     "name": "stdout",
     "output_type": "stream",
     "text": [
      "(41734, 15)\n"
     ]
    },
    {
     "data": {
      "text/html": [
       "<div>\n",
       "<style scoped>\n",
       "    .dataframe tbody tr th:only-of-type {\n",
       "        vertical-align: middle;\n",
       "    }\n",
       "\n",
       "    .dataframe tbody tr th {\n",
       "        vertical-align: top;\n",
       "    }\n",
       "\n",
       "    .dataframe thead th {\n",
       "        text-align: right;\n",
       "    }\n",
       "</style>\n",
       "<table border=\"1\" class=\"dataframe\">\n",
       "  <thead>\n",
       "    <tr style=\"text-align: right;\">\n",
       "      <th></th>\n",
       "      <th>store_name</th>\n",
       "      <th>address</th>\n",
       "      <th>city</th>\n",
       "      <th>state</th>\n",
       "      <th>zip_code</th>\n",
       "      <th>status</th>\n",
       "      <th>latitude</th>\n",
       "      <th>longitude</th>\n",
       "      <th>location_id</th>\n",
       "      <th>paired_condition</th>\n",
       "      <th>BL_latitude_meas</th>\n",
       "      <th>BL_longitude_meas</th>\n",
       "      <th>store_dist</th>\n",
       "      <th>comp_target_zip</th>\n",
       "      <th>dist_comp_zip_to_BL_store</th>\n",
       "    </tr>\n",
       "  </thead>\n",
       "  <tbody>\n",
       "    <tr>\n",
       "      <th>0</th>\n",
       "      <td>Wolf Furniture</td>\n",
       "      <td>5830 Ballenger Creek Pike</td>\n",
       "      <td>Frederick</td>\n",
       "      <td>MD</td>\n",
       "      <td>21703</td>\n",
       "      <td>Closed</td>\n",
       "      <td>39.393226</td>\n",
       "      <td>-77.440286</td>\n",
       "      <td>5395</td>\n",
       "      <td>P</td>\n",
       "      <td>39.417166</td>\n",
       "      <td>-77.456782</td>\n",
       "      <td>1.873905</td>\n",
       "      <td>20129</td>\n",
       "      <td>19.648582</td>\n",
       "    </tr>\n",
       "    <tr>\n",
       "      <th>1</th>\n",
       "      <td>Wolf Furniture</td>\n",
       "      <td>5830 Ballenger Creek Pike</td>\n",
       "      <td>Frederick</td>\n",
       "      <td>MD</td>\n",
       "      <td>21703</td>\n",
       "      <td>Closed</td>\n",
       "      <td>39.393226</td>\n",
       "      <td>-77.440286</td>\n",
       "      <td>5395</td>\n",
       "      <td>P</td>\n",
       "      <td>39.417166</td>\n",
       "      <td>-77.456782</td>\n",
       "      <td>1.873905</td>\n",
       "      <td>21720</td>\n",
       "      <td>17.086080</td>\n",
       "    </tr>\n",
       "  </tbody>\n",
       "</table>\n",
       "</div>"
      ],
      "text/plain": [
       "       store_name                    address       city state zip_code  \\\n",
       "0  Wolf Furniture  5830 Ballenger Creek Pike  Frederick    MD    21703   \n",
       "1  Wolf Furniture  5830 Ballenger Creek Pike  Frederick    MD    21703   \n",
       "\n",
       "   status   latitude  longitude location_id paired_condition  \\\n",
       "0  Closed  39.393226 -77.440286        5395                P   \n",
       "1  Closed  39.393226 -77.440286        5395                P   \n",
       "\n",
       "   BL_latitude_meas  BL_longitude_meas  store_dist comp_target_zip  \\\n",
       "0         39.417166         -77.456782    1.873905           20129   \n",
       "1         39.417166         -77.456782    1.873905           21720   \n",
       "\n",
       "   dist_comp_zip_to_BL_store  \n",
       "0                  19.648582  \n",
       "1                  17.086080  "
      ]
     },
     "execution_count": 18,
     "metadata": {},
     "output_type": "execute_result"
    }
   ],
   "source": [
    "df_output=df_output_detail[df_output_detail['dist_comp_zip_to_BL_store']<=30]\n",
    "print(df_output.shape)\n",
    "df_output.head(2)"
   ]
  },
  {
   "cell_type": "code",
   "execution_count": 19,
   "metadata": {},
   "outputs": [],
   "source": [
    "df_zips_with_stores=df_output[['store_name','location_id','comp_target_zip']].drop_duplicates()\n",
    "df_unique_zips=df_output[['comp_target_zip']].drop_duplicates()"
   ]
  },
  {
   "cell_type": "code",
   "execution_count": 26,
   "metadata": {},
   "outputs": [],
   "source": [
    "df_SOTF_list=pd.ExcelFile(\"./Store List Report 03.06.20 409pm.xlsx\")\n",
    "df_SOTF_list=df_SOTF_list.parse(\"Store List\",dtype=str)\n",
    "df_SOTF_list=df_SOTF_list[['Store','SOTF']]\n",
    "df_SOTF_list=df_SOTF_list[pd.notnull(df_SOTF_list['Store'])]\n",
    "df_SOTF_list=df_SOTF_list.rename(columns={\"Store\":\"location_id\"})"
   ]
  },
  {
   "cell_type": "code",
   "execution_count": 29,
   "metadata": {},
   "outputs": [
    {
     "data": {
      "text/plain": [
       "(87, 2)"
      ]
     },
     "execution_count": 29,
     "metadata": {},
     "output_type": "execute_result"
    }
   ],
   "source": [
    "df_BL_store_overlappped=df_output[['location_id']].drop_duplicates()\n",
    "df_BL_store_overlappped=pd.merge(df_BL_store_overlappped,df_SOTF_list,on=\"location_id\",how=\"left\")\n",
    "df_BL_store_overlappped['SOTF']=df_BL_store_overlappped['SOTF'].replace({\"No\":\"Legacy\",\"Yes\":\"SOTF\",\"Yes 2020\":\"SOTF 2020\"})\n",
    "df_BL_store_overlappped.shape"
   ]
  },
  {
   "cell_type": "code",
   "execution_count": 32,
   "metadata": {},
   "outputs": [
    {
     "data": {
      "text/html": [
       "<div>\n",
       "<style scoped>\n",
       "    .dataframe tbody tr th:only-of-type {\n",
       "        vertical-align: middle;\n",
       "    }\n",
       "\n",
       "    .dataframe tbody tr th {\n",
       "        vertical-align: top;\n",
       "    }\n",
       "\n",
       "    .dataframe thead th {\n",
       "        text-align: right;\n",
       "    }\n",
       "</style>\n",
       "<table border=\"1\" class=\"dataframe\">\n",
       "  <thead>\n",
       "    <tr style=\"text-align: right;\">\n",
       "      <th></th>\n",
       "      <th>SOTF</th>\n",
       "      <th>location_id</th>\n",
       "    </tr>\n",
       "  </thead>\n",
       "  <tbody>\n",
       "    <tr>\n",
       "      <th>0</th>\n",
       "      <td>Legacy</td>\n",
       "      <td>22</td>\n",
       "    </tr>\n",
       "    <tr>\n",
       "      <th>1</th>\n",
       "      <td>SOTF</td>\n",
       "      <td>45</td>\n",
       "    </tr>\n",
       "    <tr>\n",
       "      <th>2</th>\n",
       "      <td>SOTF 2020</td>\n",
       "      <td>20</td>\n",
       "    </tr>\n",
       "  </tbody>\n",
       "</table>\n",
       "</div>"
      ],
      "text/plain": [
       "        SOTF  location_id\n",
       "0     Legacy           22\n",
       "1       SOTF           45\n",
       "2  SOTF 2020           20"
      ]
     },
     "execution_count": 32,
     "metadata": {},
     "output_type": "execute_result"
    }
   ],
   "source": [
    "df_BL_store_summary=df_BL_store_overlappped.groupby(\"SOTF\")['location_id'].count().to_frame().reset_index()\n",
    "df_BL_store_summary"
   ]
  },
  {
   "cell_type": "code",
   "execution_count": 33,
   "metadata": {},
   "outputs": [],
   "source": [
    "writer=pd.ExcelWriter(\"./BL_zips_for_Wolf_and_Levin_JL_\"+str(datetime.datetime.now().date())+\".xlsx\",engine=\"xlsxwriter\")\n",
    "df_unique_zips.to_excel(writer,\"unique_zips\",index=False)\n",
    "\n",
    "df_BL_store_summary.to_excel(writer,\"BL_store_summary\",index=False)\n",
    "df_BL_store_overlappped.to_excel(writer,\"BL_store_list\",index=False)\n",
    "\n",
    "df_zips_with_stores.to_excel(writer,\"zips_by_store\",index=False)\n",
    "df_output.to_excel(writer,\"detail\",index=False)\n",
    "writer.save()"
   ]
  },
  {
   "cell_type": "code",
   "execution_count": 25,
   "metadata": {},
   "outputs": [
    {
     "data": {
      "text/plain": [
       "(1579, 1)"
      ]
     },
     "execution_count": 25,
     "metadata": {},
     "output_type": "execute_result"
    }
   ],
   "source": [
    "df_unique_zips.shape"
   ]
  },
  {
   "cell_type": "code",
   "execution_count": 26,
   "metadata": {},
   "outputs": [
    {
     "data": {
      "text/plain": [
       "1579"
      ]
     },
     "execution_count": 26,
     "metadata": {},
     "output_type": "execute_result"
    }
   ],
   "source": [
    "df_output['comp_target_zip'].nunique()"
   ]
  },
  {
   "cell_type": "code",
   "execution_count": 28,
   "metadata": {},
   "outputs": [
    {
     "data": {
      "text/plain": [
       "'/home/jian/Projects/Big_Lots/Analysis/2020_Q1/Competitor_conquest'"
      ]
     },
     "execution_count": 28,
     "metadata": {},
     "output_type": "execute_result"
    }
   ],
   "source": [
    "import os\n",
    "os.getcwd()"
   ]
  },
  {
   "cell_type": "code",
   "execution_count": null,
   "metadata": {},
   "outputs": [],
   "source": []
  }
 ],
 "metadata": {
  "kernelspec": {
   "display_name": "Python 3",
   "language": "python",
   "name": "python3"
  },
  "language_info": {
   "codemirror_mode": {
    "name": "ipython",
    "version": 3
   },
   "file_extension": ".py",
   "mimetype": "text/x-python",
   "name": "python",
   "nbconvert_exporter": "python",
   "pygments_lexer": "ipython3",
   "version": "3.6.1"
  }
 },
 "nbformat": 4,
 "nbformat_minor": 2
}
