{
 "cells": [
  {
   "cell_type": "code",
   "execution_count": 3,
   "metadata": {
    "collapsed": true
   },
   "outputs": [],
   "source": [
    "import pandas as pd\n",
    "import glob\n",
    "import datetime\n",
    "\n",
    "\n",
    "folder_when_write_detail=\"2018-06-22\"\n",
    "today_str=str(datetime.datetime.now().date())\n",
    "read_folder=\"/home/jian/Projects/Big_Lots/Newspaper/zone_zip_level_output_\"+folder_when_write_detail+\"/\""
   ]
  },
  {
   "cell_type": "markdown",
   "metadata": {},
   "source": [
    "# Cost"
   ]
  },
  {
   "cell_type": "code",
   "execution_count": 2,
   "metadata": {
    "collapsed": true
   },
   "outputs": [],
   "source": [
    "# Extrac the cost PM from the RecbyStore\n",
    "RecbyStore_folder=\"/home/jian/Projects/Big_Lots/Newspaper/RecbyStore/\"\n",
    "file_list=glob.glob(RecbyStore_folder+\"*\")\n",
    "\n",
    "cost_df=pd.DataFrame()\n",
    "check_cost_df=pd.DataFrame()\n",
    "for file in file_list:\n",
    "    df=pd.read_excel(file,sheetname=None,dtype=str)\n",
    "    date_name=file.split(\"/\")[len(file.split(\"/\"))-1].split(\" \")[0]+\" \"+file.split(\"/\")[len(file.split(\"/\"))-1].split(\" \")[1]+\" \"+\\\n",
    "    file.split(\"/\")[len(file.split(\"/\"))-1].split(\" \")[2]\n",
    "    if len(date_name.split(\" \")[0])==3:\n",
    "        date_name=datetime.datetime.strptime(date_name,\"%b %d %Y\").date()\n",
    "    else:\n",
    "        date_name=datetime.datetime.strptime(date_name,\"%B %d %Y\").date()\n",
    "    \n",
    "    # print(str(date_name),df.keys())\n",
    "    \n",
    "    try:\n",
    "        df=df[list(df.keys())[0]]\n",
    "        df=df[~pd.isnull(df['DMA'])]\n",
    "        df=df[~pd.isnull(df['PRODUCT ID'])]\n",
    "        df=df[df['DMA']!='nan']\n",
    "        df=df[df['PRODUCT ID']!='nan']\n",
    "        df=df[['PRODUCT ID','STORE','CONFIRM MEDIA CPM','PRINT CPM']].drop_duplicates()\n",
    "        df['Date']=date_name\n",
    "    except:\n",
    "        print(str(date_name))\n",
    "    cost_df=cost_df.append(df)\n",
    "    \n",
    "    \n",
    "    check_cost_df_app=pd.read_excel(file,sheetname=None,dtype=str)\n",
    "    check_cost_df_app=check_cost_df_app[list(check_cost_df_app.keys())[0]]\n",
    "    check_cost_df_app=check_cost_df_app[~pd.isnull(check_cost_df_app['DMA'])]\n",
    "    check_cost_df_app=check_cost_df_app[~pd.isnull(check_cost_df_app['PRODUCT ID'])]\n",
    "    check_cost_df_app=check_cost_df_app[check_cost_df_app['DMA']!='nan']\n",
    "    check_cost_df_app=check_cost_df_app[check_cost_df_app['PRODUCT ID']!='nan']\n",
    "    check_cost_df_app=check_cost_df_app[['PRODUCT ID','STORE','MEDIA COST','PRINT COST']]\n",
    "    check_cost_df_app['Date']=date_name\n",
    "    check_cost_df=check_cost_df.append(check_cost_df_app)\n",
    "    \n",
    "cost_df=cost_df.rename(columns={\"PRODUCT ID\":\"productid\",'STORE':'storeid',\"CONFIRM MEDIA CPM\":\"media_cpm\",\"PRINT CPM\":\"print_cpm\"})\n",
    "cost_df['media_cpm']=cost_df['media_cpm'].astype(float)\n",
    "cost_df['print_cpm']=cost_df['print_cpm'].astype(float)\n",
    "cost_df['productid']=cost_df['productid'].astype(str)\n",
    "cost_df['storeid']=cost_df['storeid'].astype(str)\n",
    "cost_df.shape\n",
    "\n",
    "check_cost_df['MEDIA COST']=check_cost_df['MEDIA COST'].astype(float)\n",
    "check_cost_df['PRINT COST']=check_cost_df['PRINT COST'].astype(float)\n",
    "check_cost_df['cost']=check_cost_df['MEDIA COST']+check_cost_df['PRINT COST']"
   ]
  },
  {
   "cell_type": "code",
   "execution_count": 3,
   "metadata": {
    "collapsed": true
   },
   "outputs": [],
   "source": [
    "# Deal with one duplication with different media cost\n",
    "cost_df_1=cost_df[(cost_df['productid']!=400) | (cost_df['storeid']!=555) | (cost_df['Date']!=datetime.datetime(2017,11,23).date())]\n",
    "cost_df_2=cost_df[(cost_df['productid']==400) & (cost_df['storeid']==555) & (cost_df['Date']==datetime.datetime(2017,11,23).date())]\n",
    "\n",
    "cost_df_2=pd.read_excel(\"/home/jian/Projects/Big_Lots/Newspaper/RecbyStore/November 23 2017 RecByStore 6 STD for BL REPORTS.xlsx\",dtype=str)\n",
    "cost_df_2=cost_df_2[['PRODUCT ID','STORE','CONFIRMED CIRCULATION','MEDIA COST',\"PRINT CPM\"]]\n",
    "cost_df_2=cost_df_2[(cost_df_2['PRODUCT ID']==\"400\") & (cost_df_2['STORE']==\"555\")]\n",
    "cost_df_2['STORE']=cost_df_2['STORE'].astype(int)\n",
    "cost_df_2['PRODUCT ID']=cost_df_2['PRODUCT ID'].astype(int)\n",
    "cost_df_2['MEDIA COST']=cost_df_2['MEDIA COST'].astype(float)\n",
    "cost_df_2['PRINT CPM']=cost_df_2['PRINT CPM'].astype(float)\n",
    "cost_df_2['CONFIRMED CIRCULATION']=cost_df_2['CONFIRMED CIRCULATION'].astype(float)\n",
    "cost_df_2['media_cpm']=cost_df_2['MEDIA COST'].sum()/cost_df_2['CONFIRMED CIRCULATION'].sum()*1000\n",
    "cost_df_2=cost_df_2.rename(columns={\"PRODUCT ID\":\"productid\",'STORE':'storeid',\"PRINT CPM\":\"print_cpm\"})\n",
    "cost_df_2=cost_df_2[['productid','storeid','media_cpm','print_cpm']].drop_duplicates()\n",
    "cost_df_2['Date']=datetime.datetime(2017,11,23).date()\n",
    "\n",
    "cost_df_adjusted=cost_df_1.append(cost_df_2).sort_values(['Date','storeid','productid']).reset_index()\n",
    "del cost_df_adjusted['index']"
   ]
  },
  {
   "cell_type": "code",
   "execution_count": 4,
   "metadata": {},
   "outputs": [
    {
     "data": {
      "text/html": [
       "<div>\n",
       "<style>\n",
       "    .dataframe thead tr:only-child th {\n",
       "        text-align: right;\n",
       "    }\n",
       "\n",
       "    .dataframe thead th {\n",
       "        text-align: left;\n",
       "    }\n",
       "\n",
       "    .dataframe tbody tr th {\n",
       "        vertical-align: top;\n",
       "    }\n",
       "</style>\n",
       "<table border=\"1\" class=\"dataframe\">\n",
       "  <thead>\n",
       "    <tr style=\"text-align: right;\">\n",
       "      <th></th>\n",
       "      <th>productid</th>\n",
       "      <th>storeid</th>\n",
       "      <th>media_cpm</th>\n",
       "      <th>print_cpm</th>\n",
       "      <th>Date</th>\n",
       "    </tr>\n",
       "  </thead>\n",
       "  <tbody>\n",
       "    <tr>\n",
       "      <th>0</th>\n",
       "      <td>165</td>\n",
       "      <td>1</td>\n",
       "      <td>40.7</td>\n",
       "      <td>14.89</td>\n",
       "      <td>2016-02-07</td>\n",
       "    </tr>\n",
       "    <tr>\n",
       "      <th>1</th>\n",
       "      <td>72527</td>\n",
       "      <td>1</td>\n",
       "      <td>38.1</td>\n",
       "      <td>14.89</td>\n",
       "      <td>2016-02-07</td>\n",
       "    </tr>\n",
       "  </tbody>\n",
       "</table>\n",
       "</div>"
      ],
      "text/plain": [
       "  productid storeid  media_cpm  print_cpm        Date\n",
       "0       165       1       40.7      14.89  2016-02-07\n",
       "1     72527       1       38.1      14.89  2016-02-07"
      ]
     },
     "execution_count": 4,
     "metadata": {},
     "output_type": "execute_result"
    }
   ],
   "source": [
    "cost_df_adjusted.head(2)"
   ]
  },
  {
   "cell_type": "markdown",
   "metadata": {},
   "source": [
    "# Circ"
   ]
  },
  {
   "cell_type": "code",
   "execution_count": 4,
   "metadata": {},
   "outputs": [],
   "source": [
    "detail_data=pd.read_csv(\"/home/jian/Projects/Big_Lots/Newspaper/zone_zip_level_output_2018-06-22/\"+\"BL_combined newspaper final detailed_JL_\"+folder_when_write_detail+\".csv\",dtype=str)"
   ]
  },
  {
   "cell_type": "code",
   "execution_count": 6,
   "metadata": {},
   "outputs": [
    {
     "data": {
      "text/plain": [
       "(18488, 2)"
      ]
     },
     "execution_count": 6,
     "metadata": {},
     "output_type": "execute_result"
    }
   ],
   "source": [
    "detail_data[['productid','zoneid']].drop_duplicates().shape"
   ]
  },
  {
   "cell_type": "code",
   "execution_count": 7,
   "metadata": {
    "collapsed": true
   },
   "outputs": [],
   "source": [
    "detail_data['adjusted_circ_with_list']=detail_data['adjusted_circ_with_list'].astype(float)\n",
    "detail_data['Date']=detail_data['Date'].apply(lambda x: datetime.datetime.strptime(x, \"%Y-%m-%d\").date())\n",
    "detail_data=detail_data[['zip_cd','zoneid','productid','Date','storeid','adjusted_circ_with_list']]\n",
    "detail_data=pd.merge(detail_data,cost_df_adjusted,on=['Date','productid','storeid'],how=\"left\")\n",
    "\n",
    "# Replace the date for 2017-11-22 with 2017-11-23\n",
    "# Replace the date for 2016-11-23 with 2016-11-24\n",
    "\n",
    "detail_data['Date']=detail_data['Date'].replace(datetime.datetime(2017,11,22).date(),datetime.datetime(2017,11,23).date())\n",
    "detail_data['Date']=detail_data['Date'].replace(datetime.datetime(2016,11,23).date(),datetime.datetime(2016,11,24).date())\n"
   ]
  },
  {
   "cell_type": "code",
   "execution_count": 8,
   "metadata": {
    "collapsed": true
   },
   "outputs": [],
   "source": [
    "nan_cpm=detail_data[pd.isnull(detail_data['media_cpm']) | pd.isnull(detail_data['print_cpm'])]\n",
    "newspaper_detail_long=detail_data[~pd.isnull(detail_data['media_cpm']) & ~pd.isnull(detail_data['print_cpm'])]\n",
    "nan_cpm_key=nan_cpm[['Date','productid']].drop_duplicates().reset_index()\n",
    "cost_df_for_nan_agg=pd.DataFrame()\n",
    "del nan_cpm_key['index']\n",
    "for i in range(len(nan_cpm_key)):\n",
    "    df_i=nan_cpm_key.iloc[i,:].to_frame().T.reset_index()\n",
    "    del df_i['index']\n",
    "    cost_df_for_nan=cost_df_adjusted[(cost_df_adjusted['Date']==df_i['Date'][0]) & (cost_df_adjusted['productid']==df_i['productid'][0])]\n",
    "    cost_df_for_nan=cost_df_for_nan.groupby(['Date','productid','media_cpm','print_cpm'])['storeid'].count().reset_index()\n",
    "    cost_df_for_nan=cost_df_for_nan.sort_values('storeid',ascending=False).reset_index()\n",
    "    del cost_df_for_nan['index']\n",
    "    try:\n",
    "        cost_df_for_nan=cost_df_for_nan.iloc[0,:].to_frame().T.reset_index()    \n",
    "        del cost_df_for_nan['index']\n",
    "\n",
    "        del cost_df_for_nan['storeid']\n",
    "        cost_df_for_nan_agg=cost_df_for_nan_agg.append(cost_df_for_nan)\n",
    "    except:\n",
    "        print(nan_cpm_key['Date'][i],nan_cpm_key['productid'][i])"
   ]
  },
  {
   "cell_type": "code",
   "execution_count": 9,
   "metadata": {
    "collapsed": true
   },
   "outputs": [],
   "source": [
    "del nan_cpm['media_cpm']\n",
    "del nan_cpm['print_cpm']\n",
    "nan_cpm=pd.merge(nan_cpm,cost_df_for_nan_agg,on=[\"Date\",\"productid\"],how=\"left\")\n",
    "newspaper_detail_long=newspaper_detail_long.append(nan_cpm).reset_index()\n",
    "del newspaper_detail_long['index']\n",
    "newspaper_detail_long=newspaper_detail_long.sort_values(['Date','storeid','productid']).reset_index()\n",
    "del newspaper_detail_long['index']"
   ]
  },
  {
   "cell_type": "code",
   "execution_count": 10,
   "metadata": {
    "collapsed": true
   },
   "outputs": [],
   "source": [
    "newspaper_detail_long['media_cpm']=newspaper_detail_long['media_cpm'].astype(float)\n",
    "newspaper_detail_long['print_cpm']=newspaper_detail_long['print_cpm'].astype(float)\n",
    "newspaper_detail_long['cost']=newspaper_detail_long['adjusted_circ_with_list']*(newspaper_detail_long['media_cpm']+newspaper_detail_long['print_cpm'])/1000"
   ]
  },
  {
   "cell_type": "code",
   "execution_count": 11,
   "metadata": {
    "collapsed": true
   },
   "outputs": [],
   "source": [
    "detail_data_by_Zip_by_Zone_Event=newspaper_detail_long[['zip_cd','zoneid','productid','Date']].drop_duplicates()\n",
    "detail_data_by_Zip_by_Zone_Event=detail_data_by_Zip_by_Zone_Event.groupby(['zip_cd','zoneid','productid'])['Date'].count().to_frame().reset_index()\n",
    "detail_data_by_Zip_by_Zone_Circ=newspaper_detail_long.groupby(['zip_cd','zoneid','productid'])['adjusted_circ_with_list'].sum().to_frame().reset_index()\n",
    "detail_data_by_Zip_by_Zone_Cost=newspaper_detail_long.groupby(['zip_cd','zoneid','productid'])['cost'].sum().to_frame().reset_index()\n",
    "\n",
    "df_by_zip_zone=pd.merge(detail_data_by_Zip_by_Zone_Event,detail_data_by_Zip_by_Zone_Circ,on=['zip_cd','zoneid','productid'],how=\"left\")\n",
    "df_by_zip_zone=pd.merge(df_by_zip_zone,detail_data_by_Zip_by_Zone_Cost,on=['zip_cd','zoneid','productid'],how=\"left\")\n",
    "df_by_zip_zone['zone_newsp_key']=\"P_\"+df_by_zip_zone['productid']+\" | Z_\"+df_by_zip_zone['zoneid']\n",
    "\n"
   ]
  },
  {
   "cell_type": "code",
   "execution_count": 12,
   "metadata": {
    "collapsed": true
   },
   "outputs": [],
   "source": [
    "df_by_zip_zone=df_by_zip_zone[['zip_cd','zone_newsp_key','productid','zoneid','Date','cost','adjusted_circ_with_list']]\n",
    "df_by_zip_zone=df_by_zip_zone.rename(columns={\"Date\":\"Events\",\"adjusted_circ_with_list\":\"total_circ\"})"
   ]
  },
  {
   "cell_type": "code",
   "execution_count": 13,
   "metadata": {},
   "outputs": [
    {
     "data": {
      "text/plain": [
       "array([<class 'str'>], dtype=object)"
      ]
     },
     "execution_count": 13,
     "metadata": {},
     "output_type": "execute_result"
    }
   ],
   "source": [
    "df_by_zip_zone['zip_cd'].apply(lambda x:type(x)).unique()"
   ]
  },
  {
   "cell_type": "code",
   "execution_count": 14,
   "metadata": {},
   "outputs": [
    {
     "data": {
      "text/plain": [
       "(44512, 7)"
      ]
     },
     "execution_count": 14,
     "metadata": {},
     "output_type": "execute_result"
    }
   ],
   "source": [
    "df_by_zip_zone.shape"
   ]
  },
  {
   "cell_type": "code",
   "execution_count": 15,
   "metadata": {},
   "outputs": [
    {
     "data": {
      "text/plain": [
       "18488"
      ]
     },
     "execution_count": 15,
     "metadata": {},
     "output_type": "execute_result"
    }
   ],
   "source": [
    "len(df_by_zip_zone['zone_newsp_key'].unique())"
   ]
  },
  {
   "cell_type": "code",
   "execution_count": 16,
   "metadata": {},
   "outputs": [
    {
     "data": {
      "text/html": [
       "<div>\n",
       "<style>\n",
       "    .dataframe thead tr:only-child th {\n",
       "        text-align: right;\n",
       "    }\n",
       "\n",
       "    .dataframe thead th {\n",
       "        text-align: left;\n",
       "    }\n",
       "\n",
       "    .dataframe tbody tr th {\n",
       "        vertical-align: top;\n",
       "    }\n",
       "</style>\n",
       "<table border=\"1\" class=\"dataframe\">\n",
       "  <thead>\n",
       "    <tr style=\"text-align: right;\">\n",
       "      <th></th>\n",
       "      <th>zip_cd</th>\n",
       "      <th>zone_newsp_key</th>\n",
       "      <th>productid</th>\n",
       "      <th>zoneid</th>\n",
       "      <th>Events</th>\n",
       "      <th>cost</th>\n",
       "      <th>total_circ</th>\n",
       "    </tr>\n",
       "  </thead>\n",
       "  <tbody>\n",
       "    <tr>\n",
       "      <th>0</th>\n",
       "      <td>00000</td>\n",
       "      <td>P_106 | Z_Circ verified May 2017;NEW ZONES Eas...</td>\n",
       "      <td>106</td>\n",
       "      <td>Circ verified May 2017;NEW ZONES East 2;Mon Va...</td>\n",
       "      <td>2</td>\n",
       "      <td>1951.64964</td>\n",
       "      <td>41148.0</td>\n",
       "    </tr>\n",
       "    <tr>\n",
       "      <th>1</th>\n",
       "      <td>00000</td>\n",
       "      <td>P_580 | Z_City Zone</td>\n",
       "      <td>580</td>\n",
       "      <td>City Zone</td>\n",
       "      <td>1</td>\n",
       "      <td>737.36000</td>\n",
       "      <td>13000.0</td>\n",
       "    </tr>\n",
       "  </tbody>\n",
       "</table>\n",
       "</div>"
      ],
      "text/plain": [
       "  zip_cd                                     zone_newsp_key productid  \\\n",
       "0  00000  P_106 | Z_Circ verified May 2017;NEW ZONES Eas...       106   \n",
       "1  00000                                P_580 | Z_City Zone       580   \n",
       "\n",
       "                                              zoneid  Events        cost  \\\n",
       "0  Circ verified May 2017;NEW ZONES East 2;Mon Va...       2  1951.64964   \n",
       "1                                          City Zone       1   737.36000   \n",
       "\n",
       "   total_circ  \n",
       "0     41148.0  \n",
       "1     13000.0  "
      ]
     },
     "execution_count": 16,
     "metadata": {},
     "output_type": "execute_result"
    }
   ],
   "source": [
    "df_by_zip_zone.head(2)"
   ]
  },
  {
   "cell_type": "markdown",
   "metadata": {},
   "source": [
    "# Sales"
   ]
  },
  {
   "cell_type": "code",
   "execution_count": 17,
   "metadata": {
    "collapsed": true
   },
   "outputs": [],
   "source": [
    "loyalty_sales_df=pd.read_csv(\"/home/jian/Projects/Big_Lots/Loyal_members/sales_of_loyalty_member/2018-06-20/sales_by_location_id_agg_2018-06-20.csv\",dtype=str)\n",
    "loyalty_sales_df['customer_zip_code']=loyalty_sales_df['customer_zip_code'].apply(lambda x: x.zfill(5))\n",
    "loyalty_sales_df['non_loyalty_sales_zip']=loyalty_sales_df['non_loyalty_sales_zip'].astype(float)\n",
    "loyalty_sales_df['loyal_sales_zip']=loyalty_sales_df['loyal_sales_zip'].astype(float)\n",
    "loyalty_sales_df['total_sales_zip']=loyalty_sales_df['loyal_sales_zip']+loyalty_sales_df['non_loyalty_sales_zip']\n",
    "loyalty_sales_df['loyal_sales_pctg']=loyalty_sales_df['loyal_sales_pctg'].astype(float)\n",
    "\n",
    "\n",
    "\n",
    "\n",
    "\n",
    "non_loyalty_sales_by_zip=loyalty_sales_df.groupby(['customer_zip_code'])['non_loyalty_sales_zip','loyal_sales_zip','total_sales_zip'].sum().reset_index()\n",
    "non_loyalty_sales_by_zip=non_loyalty_sales_by_zip.rename(columns={\"customer_zip_code\":\"zip_cd\",'non_loyalty_sales_zip':'non_loyalty_sales_46',\n",
    "                                                                 'loyal_sales_zip':'loyal_sales_46','total_sales_zip':'total_sales_46'})\n",
    "non_loyalty_sales_by_zip['Loyalty_Ratio']=non_loyalty_sales_by_zip['loyal_sales_46']/non_loyalty_sales_by_zip['total_sales_46']\n",
    "#Exclude zips which loyalty sales >0.65 and <0 and all sales <0\n",
    "non_loyalty_sales_by_zip_exclude=non_loyalty_sales_by_zip[(non_loyalty_sales_by_zip['non_loyalty_sales_46']<0) |\\\n",
    "                                                         (non_loyalty_sales_by_zip['loyal_sales_46']<0) |\\\n",
    "                                                         (non_loyalty_sales_by_zip['total_sales_46']<0) |\\\n",
    "                                                         (non_loyalty_sales_by_zip['Loyalty_Ratio']<0) |\\\n",
    "                                                         (non_loyalty_sales_by_zip['Loyalty_Ratio']>0.65)]\n",
    "non_loyalty_sales_by_zip_include=non_loyalty_sales_by_zip[(non_loyalty_sales_by_zip['non_loyalty_sales_46']>=0) &\\\n",
    "                                                         (non_loyalty_sales_by_zip['loyal_sales_46']>=0) &\\\n",
    "                                                         (non_loyalty_sales_by_zip['total_sales_46']>=0) &\\\n",
    "                                                         (non_loyalty_sales_by_zip['Loyalty_Ratio']>=0) &\\\n",
    "                                                         (non_loyalty_sales_by_zip['Loyalty_Ratio']<=0.65)]"
   ]
  },
  {
   "cell_type": "code",
   "execution_count": 18,
   "metadata": {
    "collapsed": true
   },
   "outputs": [],
   "source": [
    "df_by_zip_zone_sales=pd.merge(df_by_zip_zone,non_loyalty_sales_by_zip_include,on='zip_cd',how=\"left\")"
   ]
  },
  {
   "cell_type": "code",
   "execution_count": 19,
   "metadata": {
    "collapsed": true
   },
   "outputs": [],
   "source": [
    "zip_circ_analysis=pd.read_csv(\"/home/jian/Projects/Big_Lots/Newspaper/Analysis/zip_level_information.csv\",dtype=str)\n",
    "zip_circ_analysis['zip_cd']=zip_circ_analysis['zip_cd'].apply(lambda x:x.zfill(5))\n",
    "zip_exclude_1=zip_circ_analysis[(zip_circ_analysis['zip_cd']==\"00000\") | (zip_circ_analysis['zip_cd']==\"99999\")]\n",
    "zip_exclude_2=zip_circ_analysis[(zip_circ_analysis['Event_Count']==\"1\") | (zip_circ_analysis['total_circ']==\"0\")]\n",
    "zip_exclude=zip_exclude_1.append(zip_exclude_2)[['zip_cd','total_circ']]"
   ]
  },
  {
   "cell_type": "code",
   "execution_count": 20,
   "metadata": {
    "collapsed": true
   },
   "outputs": [],
   "source": [
    "df_by_zip_zone_sales_Inclusion=df_by_zip_zone_sales[~df_by_zip_zone_sales['zip_cd'].isin(zip_exclude['zip_cd'])]\n",
    "df_by_zip_zone_sales_Inclusion=df_by_zip_zone_sales_Inclusion[df_by_zip_zone_sales_Inclusion['total_circ']>0]\n",
    "df_by_zip_zone_sales_Exclusion_1=df_by_zip_zone_sales[df_by_zip_zone_sales['zip_cd'].isin(zip_exclude['zip_cd'])]\n",
    "df_by_zip_zone_sales_Exclusion_2=df_by_zip_zone_sales_Inclusion[df_by_zip_zone_sales_Inclusion['total_circ']<=0]\n",
    "df_by_zip_zone_sales_Exclusion=df_by_zip_zone_sales_Exclusion_1.append(df_by_zip_zone_sales_Exclusion_2)"
   ]
  },
  {
   "cell_type": "code",
   "execution_count": 21,
   "metadata": {},
   "outputs": [
    {
     "data": {
      "text/html": [
       "<div>\n",
       "<style>\n",
       "    .dataframe thead tr:only-child th {\n",
       "        text-align: right;\n",
       "    }\n",
       "\n",
       "    .dataframe thead th {\n",
       "        text-align: left;\n",
       "    }\n",
       "\n",
       "    .dataframe tbody tr th {\n",
       "        vertical-align: top;\n",
       "    }\n",
       "</style>\n",
       "<table border=\"1\" class=\"dataframe\">\n",
       "  <thead>\n",
       "    <tr style=\"text-align: right;\">\n",
       "      <th></th>\n",
       "      <th>zip_cd</th>\n",
       "      <th>zone_newsp_key</th>\n",
       "      <th>productid</th>\n",
       "      <th>zoneid</th>\n",
       "      <th>Events</th>\n",
       "      <th>cost</th>\n",
       "      <th>total_circ</th>\n",
       "      <th>non_loyalty_sales_46</th>\n",
       "      <th>loyal_sales_46</th>\n",
       "      <th>total_sales_46</th>\n",
       "      <th>Loyalty_Ratio</th>\n",
       "    </tr>\n",
       "  </thead>\n",
       "  <tbody>\n",
       "    <tr>\n",
       "      <th>0</th>\n",
       "      <td>00000</td>\n",
       "      <td>P_106 | Z_Circ verified May 2017;NEW ZONES Eas...</td>\n",
       "      <td>106</td>\n",
       "      <td>Circ verified May 2017;NEW ZONES East 2;Mon Va...</td>\n",
       "      <td>2</td>\n",
       "      <td>1951.64964</td>\n",
       "      <td>41148.0</td>\n",
       "      <td>7.106392e+07</td>\n",
       "      <td>60325476.35</td>\n",
       "      <td>1.313894e+08</td>\n",
       "      <td>0.459135</td>\n",
       "    </tr>\n",
       "    <tr>\n",
       "      <th>1</th>\n",
       "      <td>00000</td>\n",
       "      <td>P_580 | Z_City Zone</td>\n",
       "      <td>580</td>\n",
       "      <td>City Zone</td>\n",
       "      <td>1</td>\n",
       "      <td>737.36000</td>\n",
       "      <td>13000.0</td>\n",
       "      <td>7.106392e+07</td>\n",
       "      <td>60325476.35</td>\n",
       "      <td>1.313894e+08</td>\n",
       "      <td>0.459135</td>\n",
       "    </tr>\n",
       "  </tbody>\n",
       "</table>\n",
       "</div>"
      ],
      "text/plain": [
       "  zip_cd                                     zone_newsp_key productid  \\\n",
       "0  00000  P_106 | Z_Circ verified May 2017;NEW ZONES Eas...       106   \n",
       "1  00000                                P_580 | Z_City Zone       580   \n",
       "\n",
       "                                              zoneid  Events        cost  \\\n",
       "0  Circ verified May 2017;NEW ZONES East 2;Mon Va...       2  1951.64964   \n",
       "1                                          City Zone       1   737.36000   \n",
       "\n",
       "   total_circ  non_loyalty_sales_46  loyal_sales_46  total_sales_46  \\\n",
       "0     41148.0          7.106392e+07     60325476.35    1.313894e+08   \n",
       "1     13000.0          7.106392e+07     60325476.35    1.313894e+08   \n",
       "\n",
       "   Loyalty_Ratio  \n",
       "0       0.459135  \n",
       "1       0.459135  "
      ]
     },
     "execution_count": 21,
     "metadata": {},
     "output_type": "execute_result"
    }
   ],
   "source": [
    "df_by_zip_zone_sales_Exclusion.head(2)"
   ]
  },
  {
   "cell_type": "code",
   "execution_count": 22,
   "metadata": {
    "collapsed": true
   },
   "outputs": [],
   "source": [
    "writer=pd.ExcelWriter(read_folder+\"BL_Newspaper_by_Zip_by_Zone_JL_\"+today_str+\".xlsx\",engine=\"xlsxwriter\")\n",
    "df_by_zip_zone_sales_Inclusion.to_excel(writer,\"circ_info_by_zone_zip\",index=False)\n",
    "df_by_zip_zone_sales_Exclusion.to_excel(writer,\"circ_info_excluded\",index=False)\n",
    "writer.save()"
   ]
  },
  {
   "cell_type": "code",
   "execution_count": 24,
   "metadata": {},
   "outputs": [
    {
     "data": {
      "text/html": [
       "<div>\n",
       "<style>\n",
       "    .dataframe thead tr:only-child th {\n",
       "        text-align: right;\n",
       "    }\n",
       "\n",
       "    .dataframe thead th {\n",
       "        text-align: left;\n",
       "    }\n",
       "\n",
       "    .dataframe tbody tr th {\n",
       "        vertical-align: top;\n",
       "    }\n",
       "</style>\n",
       "<table border=\"1\" class=\"dataframe\">\n",
       "  <thead>\n",
       "    <tr style=\"text-align: right;\">\n",
       "      <th></th>\n",
       "      <th>zip_cd</th>\n",
       "      <th>zone_newsp_key</th>\n",
       "      <th>productid</th>\n",
       "      <th>zoneid</th>\n",
       "      <th>Events</th>\n",
       "      <th>cost</th>\n",
       "      <th>total_circ</th>\n",
       "      <th>non_loyalty_sales_46</th>\n",
       "      <th>loyal_sales_46</th>\n",
       "      <th>total_sales_46</th>\n",
       "      <th>Loyalty_Ratio</th>\n",
       "    </tr>\n",
       "  </thead>\n",
       "  <tbody>\n",
       "    <tr>\n",
       "      <th>28466</th>\n",
       "      <td>54914</td>\n",
       "      <td>P_1305 | Z_ZONE_02</td>\n",
       "      <td>1305</td>\n",
       "      <td>ZONE_02</td>\n",
       "      <td>29</td>\n",
       "      <td>3875.951049</td>\n",
       "      <td>74581.680055</td>\n",
       "      <td>330857.98593</td>\n",
       "      <td>263780.67</td>\n",
       "      <td>594638.65593</td>\n",
       "      <td>0.443598</td>\n",
       "    </tr>\n",
       "    <tr>\n",
       "      <th>28467</th>\n",
       "      <td>54914</td>\n",
       "      <td>P_1305 | Z_ZONE_02_SC</td>\n",
       "      <td>1305</td>\n",
       "      <td>ZONE_02_SC</td>\n",
       "      <td>29</td>\n",
       "      <td>1092.020798</td>\n",
       "      <td>21154.057200</td>\n",
       "      <td>330857.98593</td>\n",
       "      <td>263780.67</td>\n",
       "      <td>594638.65593</td>\n",
       "      <td>0.443598</td>\n",
       "    </tr>\n",
       "    <tr>\n",
       "      <th>28468</th>\n",
       "      <td>54914</td>\n",
       "      <td>P_433 | Z_ZONE_07</td>\n",
       "      <td>433</td>\n",
       "      <td>ZONE_07</td>\n",
       "      <td>1</td>\n",
       "      <td>48.148539</td>\n",
       "      <td>841.022520</td>\n",
       "      <td>330857.98593</td>\n",
       "      <td>263780.67</td>\n",
       "      <td>594638.65593</td>\n",
       "      <td>0.443598</td>\n",
       "    </tr>\n",
       "    <tr>\n",
       "      <th>28469</th>\n",
       "      <td>54914</td>\n",
       "      <td>P_1305 | Z_Zone_02</td>\n",
       "      <td>1305</td>\n",
       "      <td>Zone_02</td>\n",
       "      <td>2</td>\n",
       "      <td>268.020982</td>\n",
       "      <td>5283.283688</td>\n",
       "      <td>330857.98593</td>\n",
       "      <td>263780.67</td>\n",
       "      <td>594638.65593</td>\n",
       "      <td>0.443598</td>\n",
       "    </tr>\n",
       "    <tr>\n",
       "      <th>28470</th>\n",
       "      <td>54914</td>\n",
       "      <td>P_1305 | Z_Zone_02_SC</td>\n",
       "      <td>1305</td>\n",
       "      <td>Zone_02_SC</td>\n",
       "      <td>2</td>\n",
       "      <td>82.356067</td>\n",
       "      <td>1623.419418</td>\n",
       "      <td>330857.98593</td>\n",
       "      <td>263780.67</td>\n",
       "      <td>594638.65593</td>\n",
       "      <td>0.443598</td>\n",
       "    </tr>\n",
       "  </tbody>\n",
       "</table>\n",
       "</div>"
      ],
      "text/plain": [
       "      zip_cd         zone_newsp_key productid      zoneid  Events  \\\n",
       "28466  54914     P_1305 | Z_ZONE_02      1305     ZONE_02      29   \n",
       "28467  54914  P_1305 | Z_ZONE_02_SC      1305  ZONE_02_SC      29   \n",
       "28468  54914      P_433 | Z_ZONE_07       433     ZONE_07       1   \n",
       "28469  54914     P_1305 | Z_Zone_02      1305     Zone_02       2   \n",
       "28470  54914  P_1305 | Z_Zone_02_SC      1305  Zone_02_SC       2   \n",
       "\n",
       "              cost    total_circ  non_loyalty_sales_46  loyal_sales_46  \\\n",
       "28466  3875.951049  74581.680055          330857.98593       263780.67   \n",
       "28467  1092.020798  21154.057200          330857.98593       263780.67   \n",
       "28468    48.148539    841.022520          330857.98593       263780.67   \n",
       "28469   268.020982   5283.283688          330857.98593       263780.67   \n",
       "28470    82.356067   1623.419418          330857.98593       263780.67   \n",
       "\n",
       "       total_sales_46  Loyalty_Ratio  \n",
       "28466    594638.65593       0.443598  \n",
       "28467    594638.65593       0.443598  \n",
       "28468    594638.65593       0.443598  \n",
       "28469    594638.65593       0.443598  \n",
       "28470    594638.65593       0.443598  "
      ]
     },
     "execution_count": 24,
     "metadata": {},
     "output_type": "execute_result"
    }
   ],
   "source": [
    "df_by_zip_zone_sales_Inclusion[df_by_zip_zone_sales_Inclusion['zip_cd']=='54914']"
   ]
  },
  {
   "cell_type": "code",
   "execution_count": null,
   "metadata": {
    "collapsed": true
   },
   "outputs": [],
   "source": []
  }
 ],
 "metadata": {
  "kernelspec": {
   "display_name": "Python 3",
   "language": "python",
   "name": "python3"
  },
  "language_info": {
   "codemirror_mode": {
    "name": "ipython",
    "version": 3
   },
   "file_extension": ".py",
   "mimetype": "text/x-python",
   "name": "python",
   "nbconvert_exporter": "python",
   "pygments_lexer": "ipython3",
   "version": "3.6.1"
  }
 },
 "nbformat": 4,
 "nbformat_minor": 2
}
