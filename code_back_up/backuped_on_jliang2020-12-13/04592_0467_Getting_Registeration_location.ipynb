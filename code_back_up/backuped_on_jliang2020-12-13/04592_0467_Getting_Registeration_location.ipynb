{
 "cells": [
  {
   "cell_type": "code",
   "execution_count": 1,
   "metadata": {},
   "outputs": [
    {
     "data": {
      "text/plain": [
       "'/home/jian/Projects/Big_Lots/Loyal_members/loyalty_register_data'"
      ]
     },
     "execution_count": 1,
     "metadata": {},
     "output_type": "execute_result"
    }
   ],
   "source": [
    "import pandas as pd\n",
    "import numpy as np\n",
    "import datetime\n",
    "import os\n",
    "import hashlib\n",
    "os.getcwd()"
   ]
  },
  {
   "cell_type": "code",
   "execution_count": 6,
   "metadata": {},
   "outputs": [
    {
     "data": {
      "text/html": [
       "<div>\n",
       "<style>\n",
       "    .dataframe thead tr:only-child th {\n",
       "        text-align: right;\n",
       "    }\n",
       "\n",
       "    .dataframe thead th {\n",
       "        text-align: left;\n",
       "    }\n",
       "\n",
       "    .dataframe tbody tr th {\n",
       "        vertical-align: top;\n",
       "    }\n",
       "</style>\n",
       "<table border=\"1\" class=\"dataframe\">\n",
       "  <thead>\n",
       "    <tr style=\"text-align: right;\">\n",
       "      <th></th>\n",
       "      <th>43449831</th>\n",
       "      <th>9a636febd7cdd10fcb4d2dd8a716cd5278cf51f36835034ce56c3aeada0623f1</th>\n",
       "      <th>2017-04-01</th>\n",
       "      <th>STORE</th>\n",
       "      <th>4672</th>\n",
       "      <th>98403</th>\n",
       "      <th>000000000000001.</th>\n",
       "      <th>0000000000000036.68</th>\n",
       "      <th>0</th>\n",
       "      <th>0.1</th>\n",
       "      <th>STORES</th>\n",
       "      <th>N</th>\n",
       "      <th>N.1</th>\n",
       "    </tr>\n",
       "  </thead>\n",
       "  <tbody>\n",
       "    <tr>\n",
       "      <th>0</th>\n",
       "      <td>40000364</td>\n",
       "      <td>60573729f6ecad9eed81fe50100e601f78a314d9e3f83f...</td>\n",
       "      <td>2016-05-29</td>\n",
       "      <td>STORE</td>\n",
       "      <td>5103</td>\n",
       "      <td>21218</td>\n",
       "      <td>000000000000004.</td>\n",
       "      <td>0000000000000411.69</td>\n",
       "      <td>5</td>\n",
       "      <td>1</td>\n",
       "      <td>STORES</td>\n",
       "      <td>N</td>\n",
       "      <td>N</td>\n",
       "    </tr>\n",
       "    <tr>\n",
       "      <th>1</th>\n",
       "      <td>43862041</td>\n",
       "      <td>f852912b8baf39056f1d7c6b56bc19b3e0c0a5dd769fc3...</td>\n",
       "      <td>2017-05-12</td>\n",
       "      <td>STORE</td>\n",
       "      <td>1516</td>\n",
       "      <td>78570</td>\n",
       "      <td>000000000000003.</td>\n",
       "      <td>0000000000000063.00</td>\n",
       "      <td>0</td>\n",
       "      <td>0</td>\n",
       "      <td>STORES</td>\n",
       "      <td>N</td>\n",
       "      <td>N</td>\n",
       "    </tr>\n",
       "    <tr>\n",
       "      <th>2</th>\n",
       "      <td>29572119</td>\n",
       "      <td>c1c9ec45f0a10b2c4325b51070c884849097123829314b...</td>\n",
       "      <td>2013-05-01</td>\n",
       "      <td>ONLINE</td>\n",
       "      <td>0</td>\n",
       "      <td>NaN</td>\n",
       "      <td>000000000000001.</td>\n",
       "      <td>0000000000000020.00</td>\n",
       "      <td>0</td>\n",
       "      <td>0</td>\n",
       "      <td>STORES</td>\n",
       "      <td>N</td>\n",
       "      <td>N</td>\n",
       "    </tr>\n",
       "    <tr>\n",
       "      <th>3</th>\n",
       "      <td>34921710</td>\n",
       "      <td>e66d79d1835bde471e12fc73195da3602a89b0416a3f68...</td>\n",
       "      <td>2014-12-06</td>\n",
       "      <td>STORE</td>\n",
       "      <td>1586</td>\n",
       "      <td>03054</td>\n",
       "      <td>000000000000004.</td>\n",
       "      <td>0000000000000181.53</td>\n",
       "      <td>6</td>\n",
       "      <td>5</td>\n",
       "      <td>STORES</td>\n",
       "      <td>N</td>\n",
       "      <td>N</td>\n",
       "    </tr>\n",
       "    <tr>\n",
       "      <th>4</th>\n",
       "      <td>9197042</td>\n",
       "      <td>c6394ae23492e5ce876ce1bb29e03887ace4dbbeb9dbe9...</td>\n",
       "      <td>2010-02-12</td>\n",
       "      <td>ONLINE</td>\n",
       "      <td>0</td>\n",
       "      <td>93065</td>\n",
       "      <td>000000000000001.</td>\n",
       "      <td>0000000000000190.76</td>\n",
       "      <td>0</td>\n",
       "      <td>0</td>\n",
       "      <td>STORES</td>\n",
       "      <td>N</td>\n",
       "      <td>N</td>\n",
       "    </tr>\n",
       "    <tr>\n",
       "      <th>5</th>\n",
       "      <td>37683897</td>\n",
       "      <td>4ede8d1a3d496d3cdcc5d8cfbfc9f0cb3d27f92327d798...</td>\n",
       "      <td>2015-11-09</td>\n",
       "      <td>STORE</td>\n",
       "      <td>1754</td>\n",
       "      <td>19604</td>\n",
       "      <td>000000000000003.</td>\n",
       "      <td>0000000000000100.00</td>\n",
       "      <td>5</td>\n",
       "      <td>1</td>\n",
       "      <td>STORES</td>\n",
       "      <td>N</td>\n",
       "      <td>N</td>\n",
       "    </tr>\n",
       "    <tr>\n",
       "      <th>6</th>\n",
       "      <td>40376570</td>\n",
       "      <td>6277049b701b6a8cb415fe4ececd5896d7f6df446a32c1...</td>\n",
       "      <td>2016-07-07</td>\n",
       "      <td>STORE</td>\n",
       "      <td>206</td>\n",
       "      <td>28304</td>\n",
       "      <td>000000000000001.</td>\n",
       "      <td>0000000000000017.45</td>\n",
       "      <td>1</td>\n",
       "      <td>1</td>\n",
       "      <td>STORES</td>\n",
       "      <td>N</td>\n",
       "      <td>N</td>\n",
       "    </tr>\n",
       "    <tr>\n",
       "      <th>7</th>\n",
       "      <td>29991369</td>\n",
       "      <td>fe973aa6a6a7333c0a11c2e3d6e06d3ddc39afd47524a7...</td>\n",
       "      <td>2013-06-06</td>\n",
       "      <td>STORE</td>\n",
       "      <td>1799</td>\n",
       "      <td>35226</td>\n",
       "      <td>000000000000002.</td>\n",
       "      <td>0000000000000080.00</td>\n",
       "      <td>4</td>\n",
       "      <td>5</td>\n",
       "      <td>STORES</td>\n",
       "      <td>N</td>\n",
       "      <td>N</td>\n",
       "    </tr>\n",
       "    <tr>\n",
       "      <th>8</th>\n",
       "      <td>44911603</td>\n",
       "      <td>a8e0761ea89e2bf93e189d39e94e571bdc814d7e484c74...</td>\n",
       "      <td>2017-08-18</td>\n",
       "      <td>STORE</td>\n",
       "      <td>333</td>\n",
       "      <td>35661</td>\n",
       "      <td>000000000000001.</td>\n",
       "      <td>0000000000000010.00</td>\n",
       "      <td>0</td>\n",
       "      <td>0</td>\n",
       "      <td>STORES</td>\n",
       "      <td>N</td>\n",
       "      <td>N</td>\n",
       "    </tr>\n",
       "    <tr>\n",
       "      <th>9</th>\n",
       "      <td>24699750</td>\n",
       "      <td>5fdb8e722c8a8561ec88ab4c4787fdb785620673ca4b53...</td>\n",
       "      <td>2012-06-01</td>\n",
       "      <td>STORE</td>\n",
       "      <td>1069</td>\n",
       "      <td>23231</td>\n",
       "      <td>000000000000010.</td>\n",
       "      <td>0000000000000384.44</td>\n",
       "      <td>1</td>\n",
       "      <td>1</td>\n",
       "      <td>STORES</td>\n",
       "      <td>N</td>\n",
       "      <td>N</td>\n",
       "    </tr>\n",
       "  </tbody>\n",
       "</table>\n",
       "</div>"
      ],
      "text/plain": [
       "   43449831 9a636febd7cdd10fcb4d2dd8a716cd5278cf51f36835034ce56c3aeada0623f1  \\\n",
       "0  40000364  60573729f6ecad9eed81fe50100e601f78a314d9e3f83f...                 \n",
       "1  43862041  f852912b8baf39056f1d7c6b56bc19b3e0c0a5dd769fc3...                 \n",
       "2  29572119  c1c9ec45f0a10b2c4325b51070c884849097123829314b...                 \n",
       "3  34921710  e66d79d1835bde471e12fc73195da3602a89b0416a3f68...                 \n",
       "4   9197042  c6394ae23492e5ce876ce1bb29e03887ace4dbbeb9dbe9...                 \n",
       "5  37683897  4ede8d1a3d496d3cdcc5d8cfbfc9f0cb3d27f92327d798...                 \n",
       "6  40376570  6277049b701b6a8cb415fe4ececd5896d7f6df446a32c1...                 \n",
       "7  29991369  fe973aa6a6a7333c0a11c2e3d6e06d3ddc39afd47524a7...                 \n",
       "8  44911603  a8e0761ea89e2bf93e189d39e94e571bdc814d7e484c74...                 \n",
       "9  24699750  5fdb8e722c8a8561ec88ab4c4787fdb785620673ca4b53...                 \n",
       "\n",
       "   2017-04-01   STORE  4672  98403   000000000000001.   0000000000000036.68  \\\n",
       "0  2016-05-29   STORE  5103  21218   000000000000004.   0000000000000411.69   \n",
       "1  2017-05-12   STORE  1516  78570   000000000000003.   0000000000000063.00   \n",
       "2  2013-05-01  ONLINE     0    NaN   000000000000001.   0000000000000020.00   \n",
       "3  2014-12-06   STORE  1586  03054   000000000000004.   0000000000000181.53   \n",
       "4  2010-02-12  ONLINE     0  93065   000000000000001.   0000000000000190.76   \n",
       "5  2015-11-09   STORE  1754  19604   000000000000003.   0000000000000100.00   \n",
       "6  2016-07-07   STORE   206  28304   000000000000001.   0000000000000017.45   \n",
       "7  2013-06-06   STORE  1799  35226   000000000000002.   0000000000000080.00   \n",
       "8  2017-08-18   STORE   333  35661   000000000000001.   0000000000000010.00   \n",
       "9  2012-06-01   STORE  1069  23231   000000000000010.   0000000000000384.44   \n",
       "\n",
       "   0 0.1  STORES  N N.1  \n",
       "0  5   1  STORES  N   N  \n",
       "1  0   0  STORES  N   N  \n",
       "2  0   0  STORES  N   N  \n",
       "3  6   5  STORES  N   N  \n",
       "4  0   0  STORES  N   N  \n",
       "5  5   1  STORES  N   N  \n",
       "6  1   1  STORES  N   N  \n",
       "7  4   5  STORES  N   N  \n",
       "8  0   0  STORES  N   N  \n",
       "9  1   1  STORES  N   N  "
      ]
     },
     "execution_count": 6,
     "metadata": {},
     "output_type": "execute_result"
    }
   ],
   "source": [
    "test=pd.read_table(\"/home/jian/Projects/Big_Lots/Loyal_members/loyalty_register_data/MediaStormCustTot-hashed-email.txt\",\n",
    "                     dtype=str,sep=\",\",nrows=10).drop_duplicates()\n",
    "test\n"
   ]
  },
  {
   "cell_type": "code",
   "execution_count": 8,
   "metadata": {},
   "outputs": [
    {
     "data": {
      "text/plain": [
       "1873387"
      ]
     },
     "execution_count": 8,
     "metadata": {},
     "output_type": "execute_result"
    }
   ],
   "source": [
    "data_0=pd.read_table(\"/home/jian/Projects/Big_Lots/Loyal_members/loyalty_register_data/MediaStorm_Lapsed_Reward_Member_Master_from2014-08-26to2017-02-26.zip\",\n",
    "                     dtype=str,sep=\"|\",usecols=['customer_id_hashed','email_address_hash','sign_up_location']).drop_duplicates()\n",
    "data_0=data_0.drop_duplicates(['customer_id_hashed'])\n",
    "data_0=data_0.drop_duplicates(['email_address_hash'])\n",
    "len(data_0['customer_id_hashed'].unique())"
   ]
  },
  {
   "cell_type": "code",
   "execution_count": 3,
   "metadata": {},
   "outputs": [
    {
     "name": "stdout",
     "output_type": "stream",
     "text": [
      "2864\n"
     ]
    }
   ],
   "source": [
    "data_1=pd.read_csv(\"/home/jian/Projects/Big_Lots/Loyal_members/loyalty_register_data/MediaStormCustTot-hashed-email.txt\",\n",
    "                     dtype=str,header=None,usecols=[0,1,4])\n",
    "data_1.columns=['customer_id_hashed','email_address_hash','sign_up_location']\n",
    "data_1=data_1[data_1['sign_up_location'].apply(lambda x: len(x))<=4]\n",
    "data_1['customer_id_hashed']=data_1['customer_id_hashed'].apply(lambda x: hashlib.sha256(x.encode('utf-8')).hexdigest())\n",
    "data_1=data_1.drop_duplicates(['customer_id_hashed'])\n",
    "data_1=data_1.drop_duplicates(['email_address_hash'])\n",
    "print(len(data_1['sign_up_location'].unique()))\n",
    "data_0=data_1.append(data_0)"
   ]
  },
  {
   "cell_type": "code",
   "execution_count": 4,
   "metadata": {
    "collapsed": true
   },
   "outputs": [],
   "source": [
    "data_1 = pd.read_csv('/home/jian/Projects/Big_Lots/Loyal_members/loyalty_register_data/'+'MediaStormCustomerTransactionTotals_2018-01-09_2018-03-31.txt',\n",
    "                     sep = ',',dtype = str,usecols=['customer_id_hashed','email_address_hash','sign_up_location'])\n",
    "data_0=data_1.append(data_0)\n",
    "\n",
    "#\n",
    "data_1 = pd.read_csv('/home/jian/Projects/Big_Lots/Loyal_members/loyalty_register_data/'+'Existing Reward Member Master as of 2018-06-05.txt',\n",
    "                     dtype = str,sep = '|',usecols=['customer_id_hashed','email_address_hash','sign_up_location'])\n",
    "data_0=data_1.append(data_0)\n",
    "\n",
    "#\n",
    "data_1 = pd.read_csv('/home/jian/Projects/Big_Lots/Loyal_members/loyalty_register_data/'+'New Reward Member Master as of 2018-06-05.txt',\n",
    "                     dtype = str,sep = '|',usecols=['customer_id_hashed','email_address_hash','sign_up_location'])\n",
    "data_0=data_1.append(data_0)\n",
    "\n"
   ]
  },
  {
   "cell_type": "code",
   "execution_count": 5,
   "metadata": {},
   "outputs": [
    {
     "name": "stdout",
     "output_type": "stream",
     "text": [
      "1 2019-01-18 15:37:19.105697\n",
      "2 2019-01-18 15:37:22.355891\n",
      "3 2019-01-18 15:37:25.365589\n",
      "4 2019-01-18 15:37:28.599411\n",
      "5 2019-01-18 15:37:31.850376\n",
      "6 2019-01-18 15:37:35.049976\n",
      "7 2019-01-18 15:37:38.282267\n",
      "8 2019-01-18 15:37:41.727005\n",
      "9 2019-01-18 15:37:44.969922\n",
      "10 2019-01-18 15:37:48.161887\n",
      "11 2019-01-18 15:37:51.558556\n",
      "12 2019-01-18 15:37:55.165969\n",
      "13 2019-01-18 15:37:58.417894\n",
      "14 2019-01-18 15:38:01.848674\n"
     ]
    }
   ],
   "source": [
    "def recursive_file_gen(my_root_dir):\n",
    "    for root, dirs, files in os.walk(my_root_dir):\n",
    "        for file in files:\n",
    "            yield os.path.join(root, file)\n",
    "\n",
    "walk_through_master_list=list(recursive_file_gen(\"/home/jian/BigLots/2018_by_weeks/\"))\n",
    "walk_through_master_list=[x for x in walk_through_master_list if \"Master\" in x]\n",
    "\n",
    "i_counter=0\n",
    "for file_path in walk_through_master_list:\n",
    "    df=pd.read_csv(file_path,dtype = str,sep = '|',usecols=['customer_id_hashed','email_address_hash','sign_up_location'])\n",
    "    data_0=df.append(data_0)\n",
    "    i_counter+=1\n",
    "    print(i_counter,datetime.datetime.now())"
   ]
  },
  {
   "cell_type": "code",
   "execution_count": 6,
   "metadata": {
    "collapsed": true
   },
   "outputs": [],
   "source": [
    "data_0=data_0.drop_duplicates(['customer_id_hashed']).drop_duplicates(\"email_address_hash\")\n",
    "data_0['sign_up_location']=data_0['sign_up_location'].fillna(\"0\")"
   ]
  },
  {
   "cell_type": "code",
   "execution_count": 12,
   "metadata": {
    "collapsed": true
   },
   "outputs": [],
   "source": [
    "\n",
    "data_0.to_csv(\"/home/jian/Projects/Big_Lots/Live_Ramp/Quarterly_Update/crm_newscore_20190107/BL_id_by_register_store_JL_\"+str(datetime.datetime.now().date())+\".csv\",index=False)\n",
    "\n",
    "\n"
   ]
  },
  {
   "cell_type": "code",
   "execution_count": 6,
   "metadata": {},
   "outputs": [
    {
     "data": {
      "text/plain": [
       "(23834022, 1)"
      ]
     },
     "execution_count": 6,
     "metadata": {},
     "output_type": "execute_result"
    }
   ],
   "source": [
    "import pandas as pd\n",
    "x=pd.read_csv(\"/home/jian/Projects/Big_Lots/Live_Ramp/Quarterly_Update/crm_newscore_20190107/BL_id_by_register_store_JL_2019-01-18.csv\",usecols=['customer_id_hashed'])\n",
    "x.shape"
   ]
  },
  {
   "cell_type": "code",
   "execution_count": 7,
   "metadata": {},
   "outputs": [
    {
     "data": {
      "text/plain": [
       "23834022"
      ]
     },
     "execution_count": 7,
     "metadata": {},
     "output_type": "execute_result"
    }
   ],
   "source": [
    "len(x['customer_id_hashed'].unique())"
   ]
  },
  {
   "cell_type": "code",
   "execution_count": null,
   "metadata": {
    "collapsed": true
   },
   "outputs": [],
   "source": []
  },
  {
   "cell_type": "code",
   "execution_count": null,
   "metadata": {
    "collapsed": true
   },
   "outputs": [],
   "source": []
  },
  {
   "cell_type": "code",
   "execution_count": null,
   "metadata": {
    "collapsed": true
   },
   "outputs": [],
   "source": []
  }
 ],
 "metadata": {
  "kernelspec": {
   "display_name": "Python 3",
   "language": "python",
   "name": "python3"
  },
  "language_info": {
   "codemirror_mode": {
    "name": "ipython",
    "version": 3
   },
   "file_extension": ".py",
   "mimetype": "text/x-python",
   "name": "python",
   "nbconvert_exporter": "python",
   "pygments_lexer": "ipython3",
   "version": "3.6.1"
  }
 },
 "nbformat": 4,
 "nbformat_minor": 2
}
