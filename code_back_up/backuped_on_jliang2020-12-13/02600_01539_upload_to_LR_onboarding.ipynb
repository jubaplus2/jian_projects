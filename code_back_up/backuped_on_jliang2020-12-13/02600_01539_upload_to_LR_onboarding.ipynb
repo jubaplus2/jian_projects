{
 "cells": [
  {
   "cell_type": "code",
   "execution_count": 2,
   "metadata": {},
   "outputs": [
    {
     "name": "stdout",
     "output_type": "stream",
     "text": [
      "2019-10-24 16:24:22.968102\n"
     ]
    },
    {
     "data": {
      "text/plain": [
       "'/home/jian/Projects/Big_Lots/Live_Ramp/Quarterly_Update_2019Q4'"
      ]
     },
     "execution_count": 2,
     "metadata": {},
     "output_type": "execute_result"
    }
   ],
   "source": [
    "import pandas as pd\n",
    "import numpy as np\n",
    "import datetime\n",
    "import os\n",
    "import paramiko\n",
    "import glob\n",
    "\n",
    "print(datetime.datetime.now())\n",
    "os.getcwd()"
   ]
  },
  {
   "cell_type": "code",
   "execution_count": 3,
   "metadata": {
    "collapsed": true
   },
   "outputs": [],
   "source": [
    "local_file_list=glob.glob('/home/jian/Projects/Big_Lots/Live_Ramp/Quarterly_Update_2019Q4/upload_files/*')\n",
    "# Hard code the \"upload_files\" for further automation usage"
   ]
  },
  {
   "cell_type": "code",
   "execution_count": 10,
   "metadata": {
    "collapsed": true
   },
   "outputs": [],
   "source": [
    "host = \"files.liveramp.com\"\n",
    "port = 22\n",
    "password = \"Biglots2018!\"\n",
    "username = \"lr-big-lots\"\n",
    "\n",
    "transport = paramiko.Transport((host, port))\n",
    "\n",
    "transport.connect(username = username, password = password)\n",
    "sftp = paramiko.SFTPClient.from_transport(transport)"
   ]
  },
  {
   "cell_type": "code",
   "execution_count": 12,
   "metadata": {},
   "outputs": [
    {
     "name": "stdout",
     "output_type": "stream",
     "text": [
      "178\n"
     ]
    }
   ],
   "source": [
    "print(len(local_file_list))"
   ]
  },
  {
   "cell_type": "code",
   "execution_count": 11,
   "metadata": {},
   "outputs": [
    {
     "name": "stdout",
     "output_type": "stream",
     "text": [
      "2019-10-24 16:28:51.818126 /uploads/big_lots_onboarding/T_Active(0-12)_Score(H)_Density(H)_Legacy_HolidayShoppers_P_2019Q4_RFM.csv\n",
      "2019-10-24 16:28:52.099587 /uploads/big_lots_onboarding/T_Active(0-12)_Score(H)_Density(H)_Legacy_HolidayShoppers_S_2019Q4_RFM.csv\n",
      "2019-10-24 16:29:12.564415 /uploads/big_lots_onboarding/T_Active(0-12)_Score(H)_Density(H)_Legacy_Others_P_2019Q4_RFM.csv\n",
      "2019-10-24 16:29:16.887786 /uploads/big_lots_onboarding/T_Active(0-12)_Score(H)_Density(H)_Legacy_Others_S_2019Q4_RFM.csv\n",
      "2019-10-24 16:29:17.034140 /uploads/big_lots_onboarding/T_Active(0-12)_Score(H)_Density(H)_SOTF_HolidayShoppers_P_2019Q4_RFM.csv\n",
      "2019-10-24 16:29:17.159886 /uploads/big_lots_onboarding/T_Active(0-12)_Score(H)_Density(H)_SOTF_HolidayShoppers_S_2019Q4_RFM.csv\n",
      "2019-10-24 16:29:18.205290 /uploads/big_lots_onboarding/T_Active(0-12)_Score(H)_Density(H)_SOTF_Others_P_2019Q4_RFM.csv\n",
      "2019-10-24 16:29:18.736386 /uploads/big_lots_onboarding/T_Active(0-12)_Score(H)_Density(H)_SOTF_Others_S_2019Q4_RFM.csv\n",
      "2019-10-24 16:29:18.848236 /uploads/big_lots_onboarding/T_Active(0-12)_Score(H)_Density(L)_Legacy_HolidayShoppers_P_2019Q4_RFM.csv\n",
      "2019-10-24 16:29:18.964113 /uploads/big_lots_onboarding/T_Active(0-12)_Score(H)_Density(L)_Legacy_HolidayShoppers_S_2019Q4_RFM.csv\n",
      "2019-10-24 16:29:19.407813 /uploads/big_lots_onboarding/T_Active(0-12)_Score(H)_Density(L)_Legacy_Others_P_2019Q4_RFM.csv\n",
      "2019-10-24 16:29:19.903035 /uploads/big_lots_onboarding/T_Active(0-12)_Score(H)_Density(L)_Legacy_Others_S_2019Q4_RFM.csv\n",
      "2019-10-24 16:29:20.747207 /uploads/big_lots_onboarding/T_Active(0-12)_Score(H)_Density(L)_SOTF_HolidayShoppers_P_2019Q4_RFM.csv\n",
      "2019-10-24 16:29:21.214711 /uploads/big_lots_onboarding/T_Active(0-12)_Score(H)_Density(L)_SOTF_HolidayShoppers_S_2019Q4_RFM.csv\n",
      "2019-10-24 16:29:34.694557 /uploads/big_lots_onboarding/T_Active(0-12)_Score(H)_Density(L)_SOTF_Others_P_2019Q4_RFM.csv\n",
      "2019-10-24 16:29:42.572840 /uploads/big_lots_onboarding/T_Active(0-12)_Score(H)_Density(L)_SOTF_Others_S_2019Q4_RFM.csv\n",
      "2019-10-24 16:29:51.126495 /uploads/big_lots_onboarding/T_Active(0-12)_Score(H)_Density(M)_Legacy_HolidayShoppers_P_2019Q4_RFM.csv\n",
      "2019-10-24 16:29:54.311142 /uploads/big_lots_onboarding/T_Active(0-12)_Score(H)_Density(M)_Legacy_HolidayShoppers_S_2019Q4_RFM.csv\n",
      "2019-10-24 16:33:54.560822 /uploads/big_lots_onboarding/T_Active(0-12)_Score(H)_Density(M)_Legacy_Others_P_2019Q4_RFM.csv\n",
      "2019-10-24 16:35:31.706168 /uploads/big_lots_onboarding/T_Active(0-12)_Score(H)_Density(M)_Legacy_Others_S_2019Q4_RFM.csv\n",
      "2019-10-24 16:35:39.196169 /uploads/big_lots_onboarding/T_Active(0-12)_Score(H)_Density(M)_SOTF_HolidayShoppers_P_2019Q4_RFM.csv\n",
      "2019-10-24 16:35:41.449898 /uploads/big_lots_onboarding/T_Active(0-12)_Score(H)_Density(M)_SOTF_HolidayShoppers_S_2019Q4_RFM.csv\n",
      "2019-10-24 16:38:07.963242 /uploads/big_lots_onboarding/T_Active(0-12)_Score(H)_Density(M)_SOTF_Others_P_2019Q4_RFM.csv\n",
      "2019-10-24 16:38:49.795611 /uploads/big_lots_onboarding/T_Active(0-12)_Score(H)_Density(M)_SOTF_Others_S_2019Q4_RFM.csv\n",
      "2019-10-24 16:38:52.895016 /uploads/big_lots_onboarding/T_Active(0-12)_Score(L)_Density(H)_Legacy_HolidayShoppers_P_2019Q4_RFM.csv\n",
      "2019-10-24 16:38:53.838502 /uploads/big_lots_onboarding/T_Active(0-12)_Score(L)_Density(H)_Legacy_HolidayShoppers_S_2019Q4_RFM.csv\n",
      "2019-10-24 16:39:05.324317 /uploads/big_lots_onboarding/T_Active(0-12)_Score(L)_Density(H)_Legacy_Others_P_2019Q4_RFM.csv\n",
      "2019-10-24 16:39:07.981970 /uploads/big_lots_onboarding/T_Active(0-12)_Score(L)_Density(H)_Legacy_Others_S_2019Q4_RFM.csv\n",
      "2019-10-24 16:39:08.143372 /uploads/big_lots_onboarding/T_Active(0-12)_Score(L)_Density(H)_SOTF_HolidayShoppers_P_2019Q4_RFM.csv\n",
      "2019-10-24 16:39:08.289182 /uploads/big_lots_onboarding/T_Active(0-12)_Score(L)_Density(H)_SOTF_HolidayShoppers_S_2019Q4_RFM.csv\n",
      "2019-10-24 16:39:08.867361 /uploads/big_lots_onboarding/T_Active(0-12)_Score(L)_Density(H)_SOTF_Others_P_2019Q4_RFM.csv\n",
      "2019-10-24 16:39:09.199411 /uploads/big_lots_onboarding/T_Active(0-12)_Score(L)_Density(H)_SOTF_Others_S_2019Q4_RFM.csv\n",
      "2019-10-24 16:39:09.338248 /uploads/big_lots_onboarding/T_Active(0-12)_Score(L)_Density(L)_Legacy_HolidayShoppers_P_2019Q4_RFM.csv\n",
      "2019-10-24 16:39:09.470778 /uploads/big_lots_onboarding/T_Active(0-12)_Score(L)_Density(L)_Legacy_HolidayShoppers_S_2019Q4_RFM.csv\n",
      "2019-10-24 16:39:09.689383 /uploads/big_lots_onboarding/T_Active(0-12)_Score(L)_Density(L)_Legacy_Others_P_2019Q4_RFM.csv\n",
      "2019-10-24 16:39:09.904350 /uploads/big_lots_onboarding/T_Active(0-12)_Score(L)_Density(L)_Legacy_Others_S_2019Q4_RFM.csv\n",
      "2019-10-24 16:39:10.490982 /uploads/big_lots_onboarding/T_Active(0-12)_Score(L)_Density(L)_SOTF_HolidayShoppers_P_2019Q4_RFM.csv\n",
      "2019-10-24 16:39:10.905634 /uploads/big_lots_onboarding/T_Active(0-12)_Score(L)_Density(L)_SOTF_HolidayShoppers_S_2019Q4_RFM.csv\n",
      "2019-10-24 16:39:17.366315 /uploads/big_lots_onboarding/T_Active(0-12)_Score(L)_Density(L)_SOTF_Others_P_2019Q4_RFM.csv\n",
      "2019-10-24 16:39:20.577625 /uploads/big_lots_onboarding/T_Active(0-12)_Score(L)_Density(L)_SOTF_Others_S_2019Q4_RFM.csv\n",
      "2019-10-24 16:39:33.919165 /uploads/big_lots_onboarding/T_Active(0-12)_Score(L)_Density(M)_Legacy_HolidayShoppers_P_2019Q4_RFM.csv\n",
      "2019-10-24 16:39:37.258952 /uploads/big_lots_onboarding/T_Active(0-12)_Score(L)_Density(M)_Legacy_HolidayShoppers_S_2019Q4_RFM.csv\n",
      "2019-10-24 16:40:43.682188 /uploads/big_lots_onboarding/T_Active(0-12)_Score(L)_Density(M)_Legacy_Others_P_2019Q4_RFM.csv\n",
      "2019-10-24 16:41:11.434338 /uploads/big_lots_onboarding/T_Active(0-12)_Score(L)_Density(M)_Legacy_Others_S_2019Q4_RFM.csv\n",
      "2019-10-24 16:41:15.475219 /uploads/big_lots_onboarding/T_Active(0-12)_Score(L)_Density(M)_SOTF_HolidayShoppers_P_2019Q4_RFM.csv\n",
      "2019-10-24 16:41:17.159660 /uploads/big_lots_onboarding/T_Active(0-12)_Score(L)_Density(M)_SOTF_HolidayShoppers_S_2019Q4_RFM.csv\n",
      "2019-10-24 16:41:46.107859 /uploads/big_lots_onboarding/T_Active(0-12)_Score(L)_Density(M)_SOTF_Others_P_2019Q4_RFM.csv\n",
      "2019-10-24 16:41:57.390749 /uploads/big_lots_onboarding/T_Active(0-12)_Score(L)_Density(M)_SOTF_Others_S_2019Q4_RFM.csv\n",
      "2019-10-24 16:41:58.479404 /uploads/big_lots_onboarding/T_Active(0-12)_Score(M)_Density(H)_Legacy_HolidayShoppers_P_2019Q4_RFM.csv\n",
      "2019-10-24 16:41:58.800854 /uploads/big_lots_onboarding/T_Active(0-12)_Score(M)_Density(H)_Legacy_HolidayShoppers_S_2019Q4_RFM.csv\n",
      "2019-10-24 16:42:14.878099 /uploads/big_lots_onboarding/T_Active(0-12)_Score(M)_Density(H)_Legacy_Others_P_2019Q4_RFM.csv\n",
      "2019-10-24 16:42:19.284748 /uploads/big_lots_onboarding/T_Active(0-12)_Score(M)_Density(H)_Legacy_Others_S_2019Q4_RFM.csv\n",
      "2019-10-24 16:42:19.433781 /uploads/big_lots_onboarding/T_Active(0-12)_Score(M)_Density(H)_SOTF_HolidayShoppers_P_2019Q4_RFM.csv\n",
      "2019-10-24 16:42:19.563551 /uploads/big_lots_onboarding/T_Active(0-12)_Score(M)_Density(H)_SOTF_HolidayShoppers_S_2019Q4_RFM.csv\n",
      "2019-10-24 16:42:20.537737 /uploads/big_lots_onboarding/T_Active(0-12)_Score(M)_Density(H)_SOTF_Others_P_2019Q4_RFM.csv\n",
      "2019-10-24 16:42:20.988231 /uploads/big_lots_onboarding/T_Active(0-12)_Score(M)_Density(H)_SOTF_Others_S_2019Q4_RFM.csv\n",
      "2019-10-24 16:42:21.090020 /uploads/big_lots_onboarding/T_Active(0-12)_Score(M)_Density(L)_Legacy_HolidayShoppers_P_2019Q4_RFM.csv\n",
      "2019-10-24 16:42:21.195290 /uploads/big_lots_onboarding/T_Active(0-12)_Score(M)_Density(L)_Legacy_HolidayShoppers_S_2019Q4_RFM.csv\n",
      "2019-10-24 16:42:21.471400 /uploads/big_lots_onboarding/T_Active(0-12)_Score(M)_Density(L)_Legacy_Others_P_2019Q4_RFM.csv\n",
      "2019-10-24 16:42:21.773196 /uploads/big_lots_onboarding/T_Active(0-12)_Score(M)_Density(L)_Legacy_Others_S_2019Q4_RFM.csv\n",
      "2019-10-24 16:42:22.440478 /uploads/big_lots_onboarding/T_Active(0-12)_Score(M)_Density(L)_SOTF_HolidayShoppers_P_2019Q4_RFM.csv\n",
      "2019-10-24 16:42:22.855660 /uploads/big_lots_onboarding/T_Active(0-12)_Score(M)_Density(L)_SOTF_HolidayShoppers_S_2019Q4_RFM.csv\n",
      "2019-10-24 16:42:30.771606 /uploads/big_lots_onboarding/T_Active(0-12)_Score(M)_Density(L)_SOTF_Others_P_2019Q4_RFM.csv\n",
      "2019-10-24 16:42:36.132552 /uploads/big_lots_onboarding/T_Active(0-12)_Score(M)_Density(L)_SOTF_Others_S_2019Q4_RFM.csv\n",
      "2019-10-24 16:42:42.497609 /uploads/big_lots_onboarding/T_Active(0-12)_Score(M)_Density(M)_Legacy_HolidayShoppers_P_2019Q4_RFM.csv\n",
      "2019-10-24 16:42:45.139347 /uploads/big_lots_onboarding/T_Active(0-12)_Score(M)_Density(M)_Legacy_HolidayShoppers_S_2019Q4_RFM.csv\n"
     ]
    },
    {
     "name": "stdout",
     "output_type": "stream",
     "text": [
      "2019-10-24 16:44:21.901940 /uploads/big_lots_onboarding/T_Active(0-12)_Score(M)_Density(M)_Legacy_Others_P_2019Q4_RFM.csv\n",
      "2019-10-24 16:44:52.430358 /uploads/big_lots_onboarding/T_Active(0-12)_Score(M)_Density(M)_Legacy_Others_S_2019Q4_RFM.csv\n",
      "2019-10-24 16:44:56.000772 /uploads/big_lots_onboarding/T_Active(0-12)_Score(M)_Density(M)_SOTF_HolidayShoppers_P_2019Q4_RFM.csv\n",
      "2019-10-24 16:44:56.996935 /uploads/big_lots_onboarding/T_Active(0-12)_Score(M)_Density(M)_SOTF_HolidayShoppers_S_2019Q4_RFM.csv\n",
      "2019-10-24 16:45:43.827425 /uploads/big_lots_onboarding/T_Active(0-12)_Score(M)_Density(M)_SOTF_Others_P_2019Q4_RFM.csv\n",
      "2019-10-24 16:46:00.937719 /uploads/big_lots_onboarding/T_Active(0-12)_Score(M)_Density(M)_SOTF_Others_S_2019Q4_RFM.csv\n",
      "2019-10-24 16:46:08.434933 /uploads/big_lots_onboarding/T_Lapsed(13-18)_Score(L)_Density(H)_Legacy_AllExpCluster_P_2019Q4_RFM.csv\n",
      "2019-10-24 16:46:12.040175 /uploads/big_lots_onboarding/T_Lapsed(13-18)_Score(L)_Density(H)_Legacy_AllExpCluster_S_2019Q4_RFM.csv\n",
      "2019-10-24 16:46:14.948057 /uploads/big_lots_onboarding/T_Lapsed(13-18)_Score(L)_Density(H)_SOTF_AllExpCluster_P_2019Q4_RFM.csv\n",
      "2019-10-24 16:46:15.281087 /uploads/big_lots_onboarding/T_Lapsed(13-18)_Score(L)_Density(H)_SOTF_AllExpCluster_S_2019Q4_RFM.csv\n",
      "2019-10-24 16:46:15.455732 /uploads/big_lots_onboarding/T_Lapsed(13-18)_Score(L)_Density(L)_Legacy_AllExpCluster_P_2019Q4_RFM.csv\n",
      "2019-10-24 16:46:15.591829 /uploads/big_lots_onboarding/T_Lapsed(13-18)_Score(L)_Density(L)_Legacy_AllExpCluster_S_2019Q4_RFM.csv\n",
      "2019-10-24 16:46:17.995282 /uploads/big_lots_onboarding/T_Lapsed(13-18)_Score(L)_Density(L)_SOTF_AllExpCluster_P_2019Q4_RFM.csv\n",
      "2019-10-24 16:46:19.383994 /uploads/big_lots_onboarding/T_Lapsed(13-18)_Score(L)_Density(L)_SOTF_AllExpCluster_S_2019Q4_RFM.csv\n",
      "2019-10-24 16:47:00.857727 /uploads/big_lots_onboarding/T_Lapsed(13-18)_Score(L)_Density(M)_Legacy_AllExpCluster_P_2019Q4_RFM.csv\n",
      "2019-10-24 16:47:17.315989 /uploads/big_lots_onboarding/T_Lapsed(13-18)_Score(L)_Density(M)_Legacy_AllExpCluster_S_2019Q4_RFM.csv\n",
      "2019-10-24 16:47:41.742552 /uploads/big_lots_onboarding/T_Lapsed(13-18)_Score(L)_Density(M)_SOTF_AllExpCluster_P_2019Q4_RFM.csv\n",
      "2019-10-24 16:47:49.964267 /uploads/big_lots_onboarding/T_Lapsed(13-18)_Score(L)_Density(M)_SOTF_AllExpCluster_S_2019Q4_RFM.csv\n",
      "2019-10-24 16:47:50.091000 /uploads/big_lots_onboarding/C_Active(0-12)_Score(H)_Density(H)_Legacy_HolidayShoppers_P_2019Q4_RFM.csv\n",
      "2019-10-24 16:47:50.187881 /uploads/big_lots_onboarding/C_Active(0-12)_Score(H)_Density(H)_Legacy_HolidayShoppers_S_2019Q4_RFM.csv\n",
      "2019-10-24 16:47:50.623013 /uploads/big_lots_onboarding/C_Active(0-12)_Score(H)_Density(H)_Legacy_Others_P_2019Q4_RFM.csv\n",
      "2019-10-24 16:47:50.817494 /uploads/big_lots_onboarding/C_Active(0-12)_Score(H)_Density(H)_Legacy_Others_S_2019Q4_RFM.csv\n",
      "2019-10-24 16:47:50.938023 /uploads/big_lots_onboarding/C_Active(0-12)_Score(H)_Density(H)_SOTF_HolidayShoppers_P_2019Q4_RFM.csv\n",
      "2019-10-24 16:47:51.058535 /uploads/big_lots_onboarding/C_Active(0-12)_Score(H)_Density(H)_SOTF_HolidayShoppers_S_2019Q4_RFM.csv\n",
      "2019-10-24 16:47:51.186874 /uploads/big_lots_onboarding/C_Active(0-12)_Score(H)_Density(H)_SOTF_Others_P_2019Q4_RFM.csv\n",
      "2019-10-24 16:47:51.312156 /uploads/big_lots_onboarding/C_Active(0-12)_Score(H)_Density(H)_SOTF_Others_S_2019Q4_RFM.csv\n",
      "2019-10-24 16:47:51.438177 /uploads/big_lots_onboarding/C_Active(0-12)_Score(H)_Density(L)_Legacy_HolidayShoppers_P_2019Q4_RFM.csv\n",
      "2019-10-24 16:47:51.562834 /uploads/big_lots_onboarding/C_Active(0-12)_Score(H)_Density(L)_Legacy_HolidayShoppers_S_2019Q4_RFM.csv\n",
      "2019-10-24 16:47:51.661315 /uploads/big_lots_onboarding/C_Active(0-12)_Score(H)_Density(L)_Legacy_Others_P_2019Q4_RFM.csv\n",
      "2019-10-24 16:47:51.787534 /uploads/big_lots_onboarding/C_Active(0-12)_Score(H)_Density(L)_Legacy_Others_S_2019Q4_RFM.csv\n",
      "2019-10-24 16:47:51.912978 /uploads/big_lots_onboarding/C_Active(0-12)_Score(H)_Density(L)_SOTF_HolidayShoppers_P_2019Q4_RFM.csv\n",
      "2019-10-24 16:47:52.018677 /uploads/big_lots_onboarding/C_Active(0-12)_Score(H)_Density(L)_SOTF_HolidayShoppers_S_2019Q4_RFM.csv\n",
      "2019-10-24 16:47:52.383623 /uploads/big_lots_onboarding/C_Active(0-12)_Score(H)_Density(L)_SOTF_Others_P_2019Q4_RFM.csv\n",
      "2019-10-24 16:47:52.642303 /uploads/big_lots_onboarding/C_Active(0-12)_Score(H)_Density(L)_SOTF_Others_S_2019Q4_RFM.csv\n",
      "2019-10-24 16:47:52.988692 /uploads/big_lots_onboarding/C_Active(0-12)_Score(H)_Density(M)_Legacy_HolidayShoppers_P_2019Q4_RFM.csv\n",
      "2019-10-24 16:47:53.209066 /uploads/big_lots_onboarding/C_Active(0-12)_Score(H)_Density(M)_Legacy_HolidayShoppers_S_2019Q4_RFM.csv\n",
      "2019-10-24 16:47:56.840919 /uploads/big_lots_onboarding/C_Active(0-12)_Score(H)_Density(M)_Legacy_Others_P_2019Q4_RFM.csv\n",
      "2019-10-24 16:47:58.099589 /uploads/big_lots_onboarding/C_Active(0-12)_Score(H)_Density(M)_Legacy_Others_S_2019Q4_RFM.csv\n",
      "2019-10-24 16:47:58.300982 /uploads/big_lots_onboarding/C_Active(0-12)_Score(H)_Density(M)_SOTF_HolidayShoppers_P_2019Q4_RFM.csv\n",
      "2019-10-24 16:47:58.471613 /uploads/big_lots_onboarding/C_Active(0-12)_Score(H)_Density(M)_SOTF_HolidayShoppers_S_2019Q4_RFM.csv\n",
      "2019-10-24 16:48:00.568507 /uploads/big_lots_onboarding/C_Active(0-12)_Score(H)_Density(M)_SOTF_Others_P_2019Q4_RFM.csv\n",
      "2019-10-24 16:48:01.156214 /uploads/big_lots_onboarding/C_Active(0-12)_Score(H)_Density(M)_SOTF_Others_S_2019Q4_RFM.csv\n",
      "2019-10-24 16:48:01.288825 /uploads/big_lots_onboarding/C_Active(0-12)_Score(L)_Density(H)_Legacy_HolidayShoppers_P_2019Q4_RFM.csv\n",
      "2019-10-24 16:48:01.415164 /uploads/big_lots_onboarding/C_Active(0-12)_Score(L)_Density(H)_Legacy_HolidayShoppers_S_2019Q4_RFM.csv\n",
      "2019-10-24 16:48:01.675928 /uploads/big_lots_onboarding/C_Active(0-12)_Score(L)_Density(H)_Legacy_Others_P_2019Q4_RFM.csv\n",
      "2019-10-24 16:48:01.856237 /uploads/big_lots_onboarding/C_Active(0-12)_Score(L)_Density(H)_Legacy_Others_S_2019Q4_RFM.csv\n",
      "2019-10-24 16:48:01.978991 /uploads/big_lots_onboarding/C_Active(0-12)_Score(L)_Density(H)_SOTF_HolidayShoppers_P_2019Q4_RFM.csv\n",
      "2019-10-24 16:48:02.109110 /uploads/big_lots_onboarding/C_Active(0-12)_Score(L)_Density(H)_SOTF_HolidayShoppers_S_2019Q4_RFM.csv\n",
      "2019-10-24 16:48:02.213262 /uploads/big_lots_onboarding/C_Active(0-12)_Score(L)_Density(H)_SOTF_Others_P_2019Q4_RFM.csv\n",
      "2019-10-24 16:48:02.336529 /uploads/big_lots_onboarding/C_Active(0-12)_Score(L)_Density(H)_SOTF_Others_S_2019Q4_RFM.csv\n",
      "2019-10-24 16:48:02.460957 /uploads/big_lots_onboarding/C_Active(0-12)_Score(L)_Density(L)_Legacy_HolidayShoppers_P_2019Q4_RFM.csv\n",
      "2019-10-24 16:48:02.592696 /uploads/big_lots_onboarding/C_Active(0-12)_Score(L)_Density(L)_Legacy_HolidayShoppers_S_2019Q4_RFM.csv\n",
      "2019-10-24 16:48:02.715983 /uploads/big_lots_onboarding/C_Active(0-12)_Score(L)_Density(L)_Legacy_Others_P_2019Q4_RFM.csv\n",
      "2019-10-24 16:48:02.840066 /uploads/big_lots_onboarding/C_Active(0-12)_Score(L)_Density(L)_Legacy_Others_S_2019Q4_RFM.csv\n",
      "2019-10-24 16:48:02.942762 /uploads/big_lots_onboarding/C_Active(0-12)_Score(L)_Density(L)_SOTF_HolidayShoppers_P_2019Q4_RFM.csv\n",
      "2019-10-24 16:48:03.054559 /uploads/big_lots_onboarding/C_Active(0-12)_Score(L)_Density(L)_SOTF_HolidayShoppers_S_2019Q4_RFM.csv\n",
      "2019-10-24 16:48:03.224920 /uploads/big_lots_onboarding/C_Active(0-12)_Score(L)_Density(L)_SOTF_Others_P_2019Q4_RFM.csv\n",
      "2019-10-24 16:48:03.376097 /uploads/big_lots_onboarding/C_Active(0-12)_Score(L)_Density(L)_SOTF_Others_S_2019Q4_RFM.csv\n",
      "2019-10-24 16:48:03.611728 /uploads/big_lots_onboarding/C_Active(0-12)_Score(L)_Density(M)_Legacy_HolidayShoppers_P_2019Q4_RFM.csv\n",
      "2019-10-24 16:48:03.782103 /uploads/big_lots_onboarding/C_Active(0-12)_Score(L)_Density(M)_Legacy_HolidayShoppers_S_2019Q4_RFM.csv\n",
      "2019-10-24 16:48:05.001578 /uploads/big_lots_onboarding/C_Active(0-12)_Score(L)_Density(M)_Legacy_Others_P_2019Q4_RFM.csv\n",
      "2019-10-24 16:48:05.554904 /uploads/big_lots_onboarding/C_Active(0-12)_Score(L)_Density(M)_Legacy_Others_S_2019Q4_RFM.csv\n",
      "2019-10-24 16:48:05.720029 /uploads/big_lots_onboarding/C_Active(0-12)_Score(L)_Density(M)_SOTF_HolidayShoppers_P_2019Q4_RFM.csv\n",
      "2019-10-24 16:48:05.852343 /uploads/big_lots_onboarding/C_Active(0-12)_Score(L)_Density(M)_SOTF_HolidayShoppers_S_2019Q4_RFM.csv\n",
      "2019-10-24 16:48:06.529911 /uploads/big_lots_onboarding/C_Active(0-12)_Score(L)_Density(M)_SOTF_Others_P_2019Q4_RFM.csv\n"
     ]
    },
    {
     "name": "stdout",
     "output_type": "stream",
     "text": [
      "2019-10-24 16:48:06.817289 /uploads/big_lots_onboarding/C_Active(0-12)_Score(L)_Density(M)_SOTF_Others_S_2019Q4_RFM.csv\n",
      "2019-10-24 16:48:06.943603 /uploads/big_lots_onboarding/C_Active(0-12)_Score(M)_Density(H)_Legacy_HolidayShoppers_P_2019Q4_RFM.csv\n",
      "2019-10-24 16:48:07.043003 /uploads/big_lots_onboarding/C_Active(0-12)_Score(M)_Density(H)_Legacy_HolidayShoppers_S_2019Q4_RFM.csv\n",
      "2019-10-24 16:48:07.406899 /uploads/big_lots_onboarding/C_Active(0-12)_Score(M)_Density(H)_Legacy_Others_P_2019Q4_RFM.csv\n",
      "2019-10-24 16:48:07.570132 /uploads/big_lots_onboarding/C_Active(0-12)_Score(M)_Density(H)_Legacy_Others_S_2019Q4_RFM.csv\n",
      "2019-10-24 16:48:07.692494 /uploads/big_lots_onboarding/C_Active(0-12)_Score(M)_Density(H)_SOTF_HolidayShoppers_P_2019Q4_RFM.csv\n",
      "2019-10-24 16:48:07.816345 /uploads/big_lots_onboarding/C_Active(0-12)_Score(M)_Density(H)_SOTF_HolidayShoppers_S_2019Q4_RFM.csv\n",
      "2019-10-24 16:48:07.941985 /uploads/big_lots_onboarding/C_Active(0-12)_Score(M)_Density(H)_SOTF_Others_P_2019Q4_RFM.csv\n",
      "2019-10-24 16:48:08.045590 /uploads/big_lots_onboarding/C_Active(0-12)_Score(M)_Density(H)_SOTF_Others_S_2019Q4_RFM.csv\n",
      "2019-10-24 16:48:08.169372 /uploads/big_lots_onboarding/C_Active(0-12)_Score(M)_Density(L)_Legacy_HolidayShoppers_P_2019Q4_RFM.csv\n",
      "2019-10-24 16:48:08.294898 /uploads/big_lots_onboarding/C_Active(0-12)_Score(M)_Density(L)_Legacy_HolidayShoppers_S_2019Q4_RFM.csv\n",
      "2019-10-24 16:48:08.417219 /uploads/big_lots_onboarding/C_Active(0-12)_Score(M)_Density(L)_Legacy_Others_P_2019Q4_RFM.csv\n",
      "2019-10-24 16:48:08.517257 /uploads/big_lots_onboarding/C_Active(0-12)_Score(M)_Density(L)_Legacy_Others_S_2019Q4_RFM.csv\n",
      "2019-10-24 16:48:08.648115 /uploads/big_lots_onboarding/C_Active(0-12)_Score(M)_Density(L)_SOTF_HolidayShoppers_P_2019Q4_RFM.csv\n",
      "2019-10-24 16:48:08.774458 /uploads/big_lots_onboarding/C_Active(0-12)_Score(M)_Density(L)_SOTF_HolidayShoppers_S_2019Q4_RFM.csv\n",
      "2019-10-24 16:48:09.002994 /uploads/big_lots_onboarding/C_Active(0-12)_Score(M)_Density(L)_SOTF_Others_P_2019Q4_RFM.csv\n",
      "2019-10-24 16:48:09.183454 /uploads/big_lots_onboarding/C_Active(0-12)_Score(M)_Density(L)_SOTF_Others_S_2019Q4_RFM.csv\n",
      "2019-10-24 16:48:09.458142 /uploads/big_lots_onboarding/C_Active(0-12)_Score(M)_Density(M)_Legacy_HolidayShoppers_P_2019Q4_RFM.csv\n",
      "2019-10-24 16:48:09.626314 /uploads/big_lots_onboarding/C_Active(0-12)_Score(M)_Density(M)_Legacy_HolidayShoppers_S_2019Q4_RFM.csv\n",
      "2019-10-24 16:48:11.629406 /uploads/big_lots_onboarding/C_Active(0-12)_Score(M)_Density(M)_Legacy_Others_P_2019Q4_RFM.csv\n",
      "2019-10-24 16:48:12.407366 /uploads/big_lots_onboarding/C_Active(0-12)_Score(M)_Density(M)_Legacy_Others_S_2019Q4_RFM.csv\n",
      "2019-10-24 16:48:12.623764 /uploads/big_lots_onboarding/C_Active(0-12)_Score(M)_Density(M)_SOTF_HolidayShoppers_P_2019Q4_RFM.csv\n",
      "2019-10-24 16:48:12.787255 /uploads/big_lots_onboarding/C_Active(0-12)_Score(M)_Density(M)_SOTF_HolidayShoppers_S_2019Q4_RFM.csv\n",
      "2019-10-24 16:48:14.418562 /uploads/big_lots_onboarding/C_Active(0-12)_Score(M)_Density(M)_SOTF_Others_P_2019Q4_RFM.csv\n",
      "2019-10-24 16:48:14.940427 /uploads/big_lots_onboarding/C_Active(0-12)_Score(M)_Density(M)_SOTF_Others_S_2019Q4_RFM.csv\n",
      "2019-10-24 16:48:15.218498 /uploads/big_lots_onboarding/C_Lapsed(13-18)_Score(L)_Density(H)_Legacy_AllExpCluster_P_2019Q4_RFM.csv\n",
      "2019-10-24 16:48:15.357829 /uploads/big_lots_onboarding/C_Lapsed(13-18)_Score(L)_Density(H)_Legacy_AllExpCluster_S_2019Q4_RFM.csv\n",
      "2019-10-24 16:48:15.486018 /uploads/big_lots_onboarding/C_Lapsed(13-18)_Score(L)_Density(H)_SOTF_AllExpCluster_P_2019Q4_RFM.csv\n",
      "2019-10-24 16:48:15.587104 /uploads/big_lots_onboarding/C_Lapsed(13-18)_Score(L)_Density(H)_SOTF_AllExpCluster_S_2019Q4_RFM.csv\n",
      "2019-10-24 16:48:15.709853 /uploads/big_lots_onboarding/C_Lapsed(13-18)_Score(L)_Density(L)_Legacy_AllExpCluster_P_2019Q4_RFM.csv\n",
      "2019-10-24 16:48:15.832461 /uploads/big_lots_onboarding/C_Lapsed(13-18)_Score(L)_Density(L)_Legacy_AllExpCluster_S_2019Q4_RFM.csv\n",
      "2019-10-24 16:48:15.991706 /uploads/big_lots_onboarding/C_Lapsed(13-18)_Score(L)_Density(L)_SOTF_AllExpCluster_P_2019Q4_RFM.csv\n",
      "2019-10-24 16:48:16.131276 /uploads/big_lots_onboarding/C_Lapsed(13-18)_Score(L)_Density(L)_SOTF_AllExpCluster_S_2019Q4_RFM.csv\n",
      "2019-10-24 16:48:17.119060 /uploads/big_lots_onboarding/C_Lapsed(13-18)_Score(L)_Density(M)_Legacy_AllExpCluster_P_2019Q4_RFM.csv\n",
      "2019-10-24 16:48:17.674560 /uploads/big_lots_onboarding/C_Lapsed(13-18)_Score(L)_Density(M)_Legacy_AllExpCluster_S_2019Q4_RFM.csv\n",
      "2019-10-24 16:48:18.402307 /uploads/big_lots_onboarding/C_Lapsed(13-18)_Score(L)_Density(M)_SOTF_AllExpCluster_P_2019Q4_RFM.csv\n",
      "2019-10-24 16:48:18.720826 /uploads/big_lots_onboarding/C_Lapsed(13-18)_Score(L)_Density(M)_SOTF_AllExpCluster_S_2019Q4_RFM.csv\n",
      "2019-10-24 16:48:39.871840 /uploads/big_lots_onboarding/T_Lapsed(19-48)_Density(H)_Legacy_AllExpCluster_P_2019Q4_Lapsed.csv\n",
      "2019-10-24 16:48:40.105085 /uploads/big_lots_onboarding/T_Lapsed(19-48)_Density(L)_Legacy_AllExpCluster_P_2019Q4_Lapsed.csv\n",
      "2019-10-24 16:48:47.657925 /uploads/big_lots_onboarding/T_Lapsed(19-48)_Density(L)_SOTF_AllExpCluster_P_2019Q4_Lapsed.csv\n",
      "2019-10-24 16:50:43.269840 /uploads/big_lots_onboarding/T_Lapsed(19-48)_Density(M)_Legacy_AllExpCluster_P_2019Q4_Lapsed.csv\n",
      "2019-10-24 16:51:48.477202 /uploads/big_lots_onboarding/T_Lapsed(19-48)_Density(M)_SOTF_AllExpCluster_P_2019Q4_Lapsed.csv\n",
      "2019-10-24 16:51:49.125886 /uploads/big_lots_onboarding/C_Lapsed(19-48)_Density(H)_Legacy_AllExpCluster_P_2019Q4_Lapsed.csv\n",
      "2019-10-24 16:51:49.254707 /uploads/big_lots_onboarding/C_Lapsed(19-48)_Density(L)_Legacy_AllExpCluster_P_2019Q4_Lapsed.csv\n",
      "2019-10-24 16:51:49.586203 /uploads/big_lots_onboarding/C_Lapsed(19-48)_Density(L)_SOTF_AllExpCluster_P_2019Q4_Lapsed.csv\n",
      "2019-10-24 16:51:55.138425 /uploads/big_lots_onboarding/C_Lapsed(19-48)_Density(M)_Legacy_AllExpCluster_P_2019Q4_Lapsed.csv\n",
      "2019-10-24 16:51:58.678424 /uploads/big_lots_onboarding/C_Lapsed(19-48)_Density(M)_SOTF_AllExpCluster_P_2019Q4_Lapsed.csv\n",
      "All_Done: 2019-10-24 16:51:58.679342\n"
     ]
    }
   ],
   "source": [
    "for file in local_file_list:\n",
    "    base_name=os.path.basename(file)\n",
    "    remote_name=\"/uploads/big_lots_onboarding/\"+base_name\n",
    "    sftp.put(file,remote_name)\n",
    "    print(datetime.datetime.now(),remote_name)\n",
    "print(\"All_Done: \"+str(datetime.datetime.now()))\n",
    "sftp.close()\n",
    "transport.close()"
   ]
  },
  {
   "cell_type": "code",
   "execution_count": null,
   "metadata": {
    "collapsed": true
   },
   "outputs": [],
   "source": []
  }
 ],
 "metadata": {
  "kernelspec": {
   "display_name": "Python 3",
   "language": "python",
   "name": "python3"
  },
  "language_info": {
   "codemirror_mode": {
    "name": "ipython",
    "version": 3
   },
   "file_extension": ".py",
   "mimetype": "text/x-python",
   "name": "python",
   "nbconvert_exporter": "python",
   "pygments_lexer": "ipython3",
   "version": "3.6.1"
  }
 },
 "nbformat": 4,
 "nbformat_minor": 2
}
