{
 "cells": [
  {
   "cell_type": "code",
   "execution_count": 1,
   "metadata": {},
   "outputs": [
    {
     "name": "stderr",
     "output_type": "stream",
     "text": [
      "/usr/local/lib/python3.6/site-packages/fuzzywuzzy/fuzz.py:35: UserWarning: Using slow pure-python SequenceMatcher. Install python-Levenshtein to remove this warning\n",
      "  warnings.warn('Using slow pure-python SequenceMatcher. Install python-Levenshtein to remove this warning')\n"
     ]
    },
    {
     "data": {
      "text/plain": [
       "'/home/jian/Projects/Umpqua_Bank/May_2019'"
      ]
     },
     "execution_count": 1,
     "metadata": {},
     "output_type": "execute_result"
    }
   ],
   "source": [
    "import pandas as pd\n",
    "from haversine import haversine\n",
    "import numpy as np\n",
    "import datetime\n",
    "import os\n",
    "import json\n",
    "import zipcodes\n",
    "from fuzzywuzzy import fuzz\n",
    "os.getcwd()"
   ]
  },
  {
   "cell_type": "code",
   "execution_count": 2,
   "metadata": {
    "collapsed": true
   },
   "outputs": [],
   "source": [
    "zip_centers=json.load(open(\"/home/jian/Docs/Geo_mapping/updated_zip_centers_JL_2019-05-23.json\"))\n",
    "\n",
    "input_address_2019May=pd.read_excel(\"/home/jian/Projects/Umpqua_Bank/May_2019/store_list/Umpqua Bank Store List 3 4 19.xlsx\",dtype=str)\n",
    "cols_list=input_address_2019May.columns.tolist()\n",
    "store_address_2018Dec=pd.read_excel(\"/home/jian/Projects/Umpqua_Bank/May_2019/store_list/UMPQUA - All Locations_old_with_latlng.xlsx\",dtype=str)\n",
    "\n"
   ]
  },
  {
   "cell_type": "code",
   "execution_count": 3,
   "metadata": {
    "collapsed": true
   },
   "outputs": [],
   "source": [
    "store_address_2018Dec=store_address_2018Dec[['Store Number','Address','City','State','State Name ',\n",
    "                                             'Zip Code','Latitude','Longitude','Geo Accuracy','County','Country',\n",
    "                                             'Country Code','DMA', 'Census Region ']]\n",
    "store_address_2018Dec['address_str']=store_address_2018Dec['Address']+\", \"+store_address_2018Dec['City']+\", \"+store_address_2018Dec['State']+\\\n",
    "                                    \", \"+store_address_2018Dec['Zip Code']\n",
    "store_address_2018Dec['Zip Code'].apply(lambda x: len(x)).unique()\n",
    "\n",
    "store_address_2018Dec=store_address_2018Dec[['address_str','Store Number','Latitude','Longitude']]\n",
    "store_address_2018Dec['Latitude']=store_address_2018Dec['Latitude'].astype(float)\n",
    "store_address_2018Dec['Longitude']=store_address_2018Dec['Longitude'].astype(float)\n",
    "\n",
    "store_address_2018Dec['Source']='Dec_2018_file'\n",
    "\n",
    "input_address_2019May=input_address_2019May.reset_index()\n",
    "store_address_2018Dec=store_address_2018Dec.reset_index()\n",
    "\n",
    "del input_address_2019May['index']\n",
    "del store_address_2018Dec['index']"
   ]
  },
  {
   "cell_type": "code",
   "execution_count": 4,
   "metadata": {
    "collapsed": true
   },
   "outputs": [],
   "source": [
    "# No need to find the top 5, only the best match works good enough\n",
    "\n",
    "def find_match_stroes_from_Dec(address_str):\n",
    "    output_top_5_list=[]\n",
    "    df_store=pd.DataFrame()\n",
    "    for i in range(len(store_address_2018Dec)):\n",
    "        store_num_dec=store_address_2018Dec['Store Number'][i]\n",
    "        store_add_dec=store_address_2018Dec['address_str'][i]\n",
    "        ratio=fuzz.ratio(address_str,store_add_dec)\n",
    "\n",
    "        df=pd.DataFrame({\"store_num_dec\":store_num_dec,\"ratio\":ratio,\"store_add_dec\":store_add_dec},index=[0])\n",
    "        df_store=df_store.append(df)\n",
    "    df_store=df_store.sort_values(\"ratio\",ascending=False)\n",
    "    df_store=df_store.head(1)\n",
    "    df_store=df_store.reset_index()\n",
    "    del df_store['index']\n",
    "\n",
    "    output=str(df_store['store_num_dec'][0])+\"|\"+str(df_store['ratio'][0])+\"|\"+str(df_store['store_add_dec'][0])\n",
    "\n",
    "    return output\n"
   ]
  },
  {
   "cell_type": "code",
   "execution_count": 5,
   "metadata": {
    "collapsed": true
   },
   "outputs": [],
   "source": [
    "input_address_2019May_0=input_address_2019May.copy()\n",
    "input_address_2019May_0['best_match']=input_address_2019May_0['Address'].apply(lambda x: find_match_stroes_from_Dec(x))\n"
   ]
  },
  {
   "cell_type": "code",
   "execution_count": 6,
   "metadata": {
    "collapsed": true
   },
   "outputs": [],
   "source": [
    "input_address_2019May_0['best_ratio']=input_address_2019May_0['best_match'].apply(lambda x: int(x.split(\"|\")[1]))\n",
    "input_address_2019May_0['best_add_dec']=input_address_2019May_0['best_match'].apply(lambda x: x.split(\"|\")[2])"
   ]
  },
  {
   "cell_type": "code",
   "execution_count": 7,
   "metadata": {
    "collapsed": true
   },
   "outputs": [],
   "source": [
    "input_address_2019May_0[input_address_2019May_0['best_ratio']<85].to_csv(\"./ratio_85_lower.csv\",index=False) # \n",
    "list_no_good_match=['50211', '50414','50008']\n",
    "\n",
    "# 50301 - WA0095 seem to be same location, googled close enough, different in \"Ave.\" and \"ST\"\n",
    "# WA0145 1 store in Dec matched to 2 stores in May same address (only suit different)\n",
    "input_address_2019May_0[input_address_2019May_0['best_ratio']>=85].to_csv(\"./ratio_85_higher.csv\",index=False) # All good checked by eye"
   ]
  },
  {
   "cell_type": "code",
   "execution_count": 8,
   "metadata": {},
   "outputs": [
    {
     "name": "stderr",
     "output_type": "stream",
     "text": [
      "/usr/local/lib/python3.6/site-packages/ipykernel_launcher.py:11: SettingWithCopyWarning: \n",
      "A value is trying to be set on a copy of a slice from a DataFrame.\n",
      "Try using .loc[row_indexer,col_indexer] = value instead\n",
      "\n",
      "See the caveats in the documentation: http://pandas.pydata.org/pandas-docs/stable/indexing.html#indexing-view-versus-copy\n",
      "  # This is added back by InteractiveShellApp.init_path()\n"
     ]
    }
   ],
   "source": [
    "input_address_2019May_0=input_address_2019May_0[~input_address_2019May_0['Cost Center'].isin(list_no_good_match)]\n",
    "\n",
    "del input_address_2019May_0['best_ratio']\n",
    "del input_address_2019May_0['best_add_dec']\n",
    "\n",
    "input_address_2019May_0['Store Number']=input_address_2019May_0['best_match'].apply(lambda x: x.split(\"|\")[0])\n",
    "del input_address_2019May_0['best_match']\n",
    "\n",
    "# manually match\n",
    "input_address_2019May_50008=input_address_2019May[input_address_2019May['Cost Center']==\"50008\"]\n",
    "input_address_2019May_50008['Store Number']=\"OR0050\"\n",
    "input_address_2019May_0=input_address_2019May_0.append(input_address_2019May_50008)\n",
    "\n",
    "\n",
    "\n",
    "input_address_2019May_1=input_address_2019May[input_address_2019May['Cost Center'].isin(list_no_good_match)]\n",
    "input_address_2019May_1=input_address_2019May_1[input_address_2019May_1['Cost Center']!=\"50008\"]"
   ]
  },
  {
   "cell_type": "code",
   "execution_count": 9,
   "metadata": {
    "collapsed": true
   },
   "outputs": [],
   "source": [
    "input_address_2019May_0=pd.merge(input_address_2019May_0,store_address_2018Dec,on=\"Store Number\",how=\"left\")\n",
    "input_address_2019May_0=input_address_2019May_0.rename(columns={\"address_str\":\"address_Dec\"})\n"
   ]
  },
  {
   "cell_type": "code",
   "execution_count": 10,
   "metadata": {},
   "outputs": [
    {
     "data": {
      "text/html": [
       "<div>\n",
       "<style>\n",
       "    .dataframe thead tr:only-child th {\n",
       "        text-align: right;\n",
       "    }\n",
       "\n",
       "    .dataframe thead th {\n",
       "        text-align: left;\n",
       "    }\n",
       "\n",
       "    .dataframe tbody tr th {\n",
       "        vertical-align: top;\n",
       "    }\n",
       "</style>\n",
       "<table border=\"1\" class=\"dataframe\">\n",
       "  <thead>\n",
       "    <tr style=\"text-align: right;\">\n",
       "      <th></th>\n",
       "      <th>Cost Center</th>\n",
       "      <th>Site Description</th>\n",
       "      <th>Phone and Fax</th>\n",
       "      <th>Hours</th>\n",
       "      <th>Drive Up Hours</th>\n",
       "      <th>Address</th>\n",
       "      <th>City</th>\n",
       "      <th>State</th>\n",
       "      <th>Manager</th>\n",
       "    </tr>\n",
       "  </thead>\n",
       "  <tbody>\n",
       "    <tr>\n",
       "      <th>144</th>\n",
       "      <td>50211</td>\n",
       "      <td>Portland - Alberta</td>\n",
       "      <td>M: 503-219-6160\\r\\nD: 503-219-6161\\r\\nF: 503-2...</td>\n",
       "      <td>M-Th: 9:00-5:00\\r\\nF: 9:00-6:00\\r\\nS:</td>\n",
       "      <td>M-S:</td>\n",
       "      <td>1745 NE Alberta St., Portland, OR, 97211</td>\n",
       "      <td>Portland</td>\n",
       "      <td>OR</td>\n",
       "      <td>Juli Wright</td>\n",
       "    </tr>\n",
       "    <tr>\n",
       "      <th>147</th>\n",
       "      <td>50414</td>\n",
       "      <td>Portland - Fox Tower</td>\n",
       "      <td>M: 971-544-3700\\r\\nD: 971-544-3701\\r\\nF: 503-2...</td>\n",
       "      <td>M-Th: 9:00-5:00\\r\\nF: 9:00-6:00\\r\\nS: CLOSED</td>\n",
       "      <td>M-S:</td>\n",
       "      <td>750 SW Yamhill Street, Portland, OR, 97205</td>\n",
       "      <td>Portland</td>\n",
       "      <td>OR</td>\n",
       "      <td>Derrick Luiz</td>\n",
       "    </tr>\n",
       "  </tbody>\n",
       "</table>\n",
       "</div>"
      ],
      "text/plain": [
       "    Cost Center      Site Description  \\\n",
       "144       50211    Portland - Alberta   \n",
       "147       50414  Portland - Fox Tower   \n",
       "\n",
       "                                         Phone and Fax  \\\n",
       "144  M: 503-219-6160\\r\\nD: 503-219-6161\\r\\nF: 503-2...   \n",
       "147  M: 971-544-3700\\r\\nD: 971-544-3701\\r\\nF: 503-2...   \n",
       "\n",
       "                                            Hours Drive Up Hours  \\\n",
       "144        M-Th: 9:00-5:00\\r\\nF: 9:00-6:00\\r\\nS:           M-S:    \n",
       "147  M-Th: 9:00-5:00\\r\\nF: 9:00-6:00\\r\\nS: CLOSED          M-S:    \n",
       "\n",
       "                                        Address      City State       Manager  \n",
       "144    1745 NE Alberta St., Portland, OR, 97211  Portland    OR   Juli Wright  \n",
       "147  750 SW Yamhill Street, Portland, OR, 97205  Portland    OR  Derrick Luiz  "
      ]
     },
     "execution_count": 10,
     "metadata": {},
     "output_type": "execute_result"
    }
   ],
   "source": [
    "input_address_2019May_1"
   ]
  },
  {
   "cell_type": "code",
   "execution_count": 11,
   "metadata": {
    "collapsed": true
   },
   "outputs": [],
   "source": [
    "google_add_dict={}\n",
    "google_add_dict.update({\"50211\":{'address_google':\"1745 NE Alberta St, Portland, OR 97211\",'Latitude':45.5592252,'Longitude':-122.6472587,\"Store Number\":np.nan,\"Source\":\"Google_Map\"}})\n",
    "google_add_dict.update({\"50414\":{'address_google':\"750 SW Yamhill St, Portland, OR 97205\",'Latitude':45.5187616,'Longitude':-122.6810077,\"Store Number\":np.nan,\"Source\":\"Google_Map\"}})\n",
    "\n",
    "\n",
    "input_address_2019May_1['Store Number']=np.nan\n",
    "input_address_2019May_1['address_google']=input_address_2019May_1['Cost Center'].apply(lambda x: google_add_dict[x]['address_google'])\n",
    "input_address_2019May_1['Latitude']=input_address_2019May_1['Cost Center'].apply(lambda x: google_add_dict[x]['Latitude'])\n",
    "input_address_2019May_1['Longitude']=input_address_2019May_1['Cost Center'].apply(lambda x: google_add_dict[x]['Longitude'])\n",
    "input_address_2019May_1['Source']=input_address_2019May_1['Cost Center'].apply(lambda x: google_add_dict[x]['Source'])\n"
   ]
  },
  {
   "cell_type": "code",
   "execution_count": 12,
   "metadata": {},
   "outputs": [
    {
     "name": "stdout",
     "output_type": "stream",
     "text": [
      "(247, 15)\n",
      "247\n",
      "244\n"
     ]
    }
   ],
   "source": [
    "output_store=input_address_2019May_0.append(input_address_2019May_1)\n",
    "print(output_store.shape)\n",
    "print(output_store['Cost Center'].nunique())\n",
    "print(output_store['Store Number'].nunique())\n",
    "# 2 nan, 1 store matched to 2 addresses in May"
   ]
  },
  {
   "cell_type": "code",
   "execution_count": 13,
   "metadata": {
    "collapsed": true
   },
   "outputs": [],
   "source": [
    "output_store=output_store.reset_index()\n",
    "del output_store['index']"
   ]
  },
  {
   "cell_type": "code",
   "execution_count": 14,
   "metadata": {},
   "outputs": [
    {
     "name": "stdout",
     "output_type": "stream",
     "text": [
      "[<class 'float'>]\n",
      "[<class 'float'>]\n"
     ]
    }
   ],
   "source": [
    "print(output_store['Latitude'].apply(lambda x: type(x)).unique())\n",
    "print(output_store['Longitude'].apply(lambda x: type(x)).unique())"
   ]
  },
  {
   "cell_type": "code",
   "execution_count": 15,
   "metadata": {},
   "outputs": [
    {
     "data": {
      "text/html": [
       "<div>\n",
       "<style>\n",
       "    .dataframe thead tr:only-child th {\n",
       "        text-align: right;\n",
       "    }\n",
       "\n",
       "    .dataframe thead th {\n",
       "        text-align: left;\n",
       "    }\n",
       "\n",
       "    .dataframe tbody tr th {\n",
       "        vertical-align: top;\n",
       "    }\n",
       "</style>\n",
       "<table border=\"1\" class=\"dataframe\">\n",
       "  <thead>\n",
       "    <tr style=\"text-align: right;\">\n",
       "      <th></th>\n",
       "      <th>Address</th>\n",
       "      <th>City</th>\n",
       "      <th>Cost Center</th>\n",
       "      <th>Drive Up Hours</th>\n",
       "      <th>Hours</th>\n",
       "      <th>Latitude</th>\n",
       "      <th>Longitude</th>\n",
       "      <th>Manager</th>\n",
       "      <th>Phone and Fax</th>\n",
       "      <th>Site Description</th>\n",
       "      <th>Source</th>\n",
       "      <th>State</th>\n",
       "      <th>Store Number</th>\n",
       "      <th>address_Dec</th>\n",
       "      <th>address_google</th>\n",
       "    </tr>\n",
       "  </thead>\n",
       "  <tbody>\n",
       "    <tr>\n",
       "      <th>0</th>\n",
       "      <td>333 SW Ellsworth Street, Albany, OR, 97321</td>\n",
       "      <td>Albany</td>\n",
       "      <td>50030</td>\n",
       "      <td>M-F: 8:30-5:30\\r\\nS: 10:00-2:00</td>\n",
       "      <td>M-F: 9:00-5:00\\r\\nS: CLOSED</td>\n",
       "      <td>44.63516</td>\n",
       "      <td>-123.105255</td>\n",
       "      <td>Jack Mochnick</td>\n",
       "      <td>M: 541-967-7000\\r\\nD: 541-967-4214\\r\\nF: 541-8...</td>\n",
       "      <td>Albany</td>\n",
       "      <td>Dec_2018_file</td>\n",
       "      <td>OR</td>\n",
       "      <td>OR0113</td>\n",
       "      <td>333 SW Ellsworth Street, Albany, OR, 97321</td>\n",
       "      <td>NaN</td>\n",
       "    </tr>\n",
       "    <tr>\n",
       "      <th>1</th>\n",
       "      <td>7921 Walerga Road, Antelope, CA, 95843</td>\n",
       "      <td>Antelope</td>\n",
       "      <td>50149</td>\n",
       "      <td>nan</td>\n",
       "      <td>M-Th: 9:00-5:00\\r\\nF: 9:00-6:00\\r\\nS: 9:00-1:00</td>\n",
       "      <td>38.71305</td>\n",
       "      <td>-121.365054</td>\n",
       "      <td>Dominic Mecklenburg</td>\n",
       "      <td>M: 916-745-7100\\r\\nD: 916-745-7101</td>\n",
       "      <td>Antelope - Crossing</td>\n",
       "      <td>Dec_2018_file</td>\n",
       "      <td>CA</td>\n",
       "      <td>CA0071</td>\n",
       "      <td>7921 Walerga Road, Antelope, CA, 95843</td>\n",
       "      <td>NaN</td>\n",
       "    </tr>\n",
       "  </tbody>\n",
       "</table>\n",
       "</div>"
      ],
      "text/plain": [
       "                                      Address      City Cost Center  \\\n",
       "0  333 SW Ellsworth Street, Albany, OR, 97321    Albany       50030   \n",
       "1      7921 Walerga Road, Antelope, CA, 95843  Antelope       50149   \n",
       "\n",
       "                    Drive Up Hours  \\\n",
       "0  M-F: 8:30-5:30\\r\\nS: 10:00-2:00   \n",
       "1                              nan   \n",
       "\n",
       "                                             Hours  Latitude   Longitude  \\\n",
       "0                      M-F: 9:00-5:00\\r\\nS: CLOSED  44.63516 -123.105255   \n",
       "1  M-Th: 9:00-5:00\\r\\nF: 9:00-6:00\\r\\nS: 9:00-1:00  38.71305 -121.365054   \n",
       "\n",
       "               Manager                                      Phone and Fax  \\\n",
       "0        Jack Mochnick  M: 541-967-7000\\r\\nD: 541-967-4214\\r\\nF: 541-8...   \n",
       "1  Dominic Mecklenburg                 M: 916-745-7100\\r\\nD: 916-745-7101   \n",
       "\n",
       "      Site Description         Source State Store Number  \\\n",
       "0               Albany  Dec_2018_file    OR       OR0113   \n",
       "1  Antelope - Crossing  Dec_2018_file    CA       CA0071   \n",
       "\n",
       "                                  address_Dec address_google  \n",
       "0  333 SW Ellsworth Street, Albany, OR, 97321            NaN  \n",
       "1      7921 Walerga Road, Antelope, CA, 95843            NaN  "
      ]
     },
     "execution_count": 15,
     "metadata": {},
     "output_type": "execute_result"
    }
   ],
   "source": [
    "output_store.head(2)"
   ]
  },
  {
   "cell_type": "code",
   "execution_count": 16,
   "metadata": {
    "collapsed": true
   },
   "outputs": [],
   "source": [
    "output_store['zip_list_0_3']=np.nan\n",
    "output_store['zip_list_4_6']=np.nan\n",
    "\n",
    "df_output_by_zip=pd.DataFrame()\n",
    "for index,row in output_store.iterrows():\n",
    "    location_id_May=row['Cost Center']\n",
    "    location_id_Dec=row['Store Number']\n",
    "    \n",
    "    list_0_to_3=[]\n",
    "    list_4_to_6=[]\n",
    "    \n",
    "    store_center=(row['Latitude'],row['Longitude'])\n",
    "    for zip_cd in zip_centers.keys():\n",
    "        dist=haversine(store_center,zip_centers[zip_cd],miles=True)\n",
    "        if dist<=6:\n",
    "            df=pd.DataFrame({\"location_id_May\":location_id_May,'location_id_Dec':location_id_Dec,\"zip_cd\":zip_cd,\"distance_miles\":dist},index=[0])\n",
    "            df_output_by_zip=df_output_by_zip.append(df)\n",
    "            \n",
    "            if dist<=3:\n",
    "                list_0_to_3=list_0_to_3+[zip_cd]\n",
    "            else:\n",
    "                list_4_to_6=list_4_to_6+[zip_cd]\n",
    "    \n",
    "    output_store.loc[index,'zip_list_0_3']=str(list_0_to_3)\n",
    "    output_store.loc[index,'zip_list_4_6']=str(list_4_to_6)\n",
    "            \n"
   ]
  },
  {
   "cell_type": "code",
   "execution_count": 17,
   "metadata": {
    "collapsed": true
   },
   "outputs": [],
   "source": [
    "output_store=output_store[cols_list+[x for x in output_store.columns.tolist() if x not in cols_list]]\n",
    "output_store['store_zip']=output_store['Address'].apply(lambda x: x.split(\", \")[len(x.split(\", \"))-1])\n",
    "output_store['store_zip']=output_store['store_zip'].apply(lambda x: x.split(\"-\")[0])\n",
    "output_store['Store Number']=output_store['Store Number'].fillna(\"nan\")"
   ]
  },
  {
   "cell_type": "code",
   "execution_count": 18,
   "metadata": {
    "collapsed": true
   },
   "outputs": [],
   "source": [
    "def func_set(x):\n",
    "    return set(x)\n",
    "\n",
    "df_zips_with_store=output_store.groupby('store_zip')['Cost Center',\"Store Number\"].agg(func_set).reset_index()\n",
    "\n",
    "\n",
    "df_output_by_zip_by_stores=df_output_by_zip[['zip_cd','location_id_May','location_id_Dec','distance_miles']]\n"
   ]
  },
  {
   "cell_type": "code",
   "execution_count": 19,
   "metadata": {},
   "outputs": [
    {
     "data": {
      "text/html": [
       "<div>\n",
       "<style>\n",
       "    .dataframe thead tr:only-child th {\n",
       "        text-align: right;\n",
       "    }\n",
       "\n",
       "    .dataframe thead th {\n",
       "        text-align: left;\n",
       "    }\n",
       "\n",
       "    .dataframe tbody tr th {\n",
       "        vertical-align: top;\n",
       "    }\n",
       "</style>\n",
       "<table border=\"1\" class=\"dataframe\">\n",
       "  <thead>\n",
       "    <tr style=\"text-align: right;\">\n",
       "      <th></th>\n",
       "      <th>zip_cd</th>\n",
       "      <th>DMA</th>\n",
       "      <th>ST</th>\n",
       "      <th>CTY</th>\n",
       "    </tr>\n",
       "  </thead>\n",
       "  <tbody>\n",
       "    <tr>\n",
       "      <th>0</th>\n",
       "      <td>00501</td>\n",
       "      <td>{NEW YORK}</td>\n",
       "      <td>{NY}</td>\n",
       "      <td>{SUFFOLK}</td>\n",
       "    </tr>\n",
       "    <tr>\n",
       "      <th>1</th>\n",
       "      <td>00544</td>\n",
       "      <td>{NEW YORK}</td>\n",
       "      <td>{NY}</td>\n",
       "      <td>{SUFFOLK}</td>\n",
       "    </tr>\n",
       "  </tbody>\n",
       "</table>\n",
       "</div>"
      ],
      "text/plain": [
       "  zip_cd         DMA    ST        CTY\n",
       "0  00501  {NEW YORK}  {NY}  {SUFFOLK}\n",
       "1  00544  {NEW YORK}  {NY}  {SUFFOLK}"
      ]
     },
     "execution_count": 19,
     "metadata": {},
     "output_type": "execute_result"
    }
   ],
   "source": [
    "zip_nielsen=pd.read_excel(\"/home/jian/Docs/Geo_mapping/Zips by DMA by County16-17 nielsen.xlsx\",dtype=str,usecols=[0,2,6,9],skiprows=1)\n",
    "zip_nielsen.columns=['zip_cd','DMA','ST','CTY']\n",
    "zip_nielsen=zip_nielsen.drop_duplicates()\n",
    "zip_nielsen=zip_nielsen.groupby(['zip_cd'])['DMA','ST','CTY'].agg(func_set).reset_index()\n",
    "zip_nielsen.head(2)\n"
   ]
  },
  {
   "cell_type": "code",
   "execution_count": 20,
   "metadata": {
    "collapsed": true
   },
   "outputs": [],
   "source": [
    "df_nearset_store_by_zip=df_output_by_zip.sort_values(['zip_cd','distance_miles']).drop_duplicates(\"zip_cd\")\n",
    "df_nearset_store_by_zip=df_nearset_store_by_zip.rename(columns={\"location_id_Dec\":\"nearest_store_number\",\"location_id_May\":\"nearest_cost_center\"})\n",
    "df_nearset_store_by_zip=pd.merge(df_nearset_store_by_zip,zip_nielsen,on=\"zip_cd\",how=\"left\")\n",
    "df_nearset_store_by_zip=pd.merge(df_nearset_store_by_zip,df_zips_with_store,left_on=\"zip_cd\",right_on=\"store_zip\",how=\"left\")\n",
    "\n",
    "df_nearset_store_by_zip=df_nearset_store_by_zip[['zip_cd','nearest_cost_center','nearest_store_number','distance_miles','Cost Center','Store Number','ST','CTY','DMA']]\n",
    "df_nearset_store_by_zip['city']=np.nan\n",
    "for index,row in df_nearset_store_by_zip.iterrows():\n",
    "    zip_cd=row['zip_cd']\n",
    "    city_list=[]\n",
    "    try:\n",
    "        list_zip_info=zipcodes.matching(zip_cd)\n",
    "        for i in range(len(list_zip_info)):\n",
    "            city_list=city_list+[list_zip_info[i]['city']]\n",
    "    except:\n",
    "        city_list=[]\n",
    "    city_set=set(city_list)\n",
    "    \n",
    "    df_nearset_store_by_zip.loc[index,'city']=str(city_set)\n",
    "            \n",
    "df_nearset_store_by_zip=df_nearset_store_by_zip.sort_values('zip_cd')"
   ]
  },
  {
   "cell_type": "code",
   "execution_count": 21,
   "metadata": {
    "collapsed": true
   },
   "outputs": [],
   "source": [
    "mapping_zip_info=df_nearset_store_by_zip[['zip_cd','Cost Center','Store Number','ST','CTY','DMA','city']]\n",
    "\n",
    "df_output_by_zip_by_stores=pd.merge(df_output_by_zip_by_stores,mapping_zip_info,on=\"zip_cd\",how=\"left\")"
   ]
  },
  {
   "cell_type": "code",
   "execution_count": 22,
   "metadata": {
    "collapsed": true
   },
   "outputs": [],
   "source": [
    "df_output_by_zip_by_stores_0_3=df_output_by_zip_by_stores[df_output_by_zip_by_stores['distance_miles']<=3]\n",
    "df_output_by_zip_by_stores_4_6=df_output_by_zip_by_stores[df_output_by_zip_by_stores['distance_miles']>3]"
   ]
  },
  {
   "cell_type": "code",
   "execution_count": 32,
   "metadata": {
    "collapsed": true
   },
   "outputs": [],
   "source": [
    "writer=pd.ExcelWriter(\"/home/jian/Projects/Umpqua_Bank/May_2019/output/Umpqua_zip_list_JL_\"+str(datetime.datetime.now().date())+\".xlsx\",engine=\"xlsxwriter\")\n",
    "df_nearset_store_by_zip.index=np.where(df_nearset_store_by_zip['distance_miles']<=3,\"0_to_3_miles\",\"4_to_6_miles\")\n",
    "\n",
    "df_nearset_store_by_zip.to_excel(writer,\"all_unique_zips\",index=True)\n",
    "df_output_by_zip_by_stores_0_3.to_excel(writer,\"zip_0_3_by_store\",index=False)\n",
    "df_output_by_zip_by_stores_4_6.to_excel(writer,\"zip_4_6_by_store\",index=False)\n",
    "df_output_by_zip_by_stores.to_excel(writer,\"zip_all_by_stores\",index=False)\n",
    "output_store.to_excel(writer,\"store_list\",index=False)\n",
    "\n"
   ]
  },
  {
   "cell_type": "code",
   "execution_count": 33,
   "metadata": {
    "collapsed": true
   },
   "outputs": [],
   "source": [
    "all_zips_0_3=df_nearset_store_by_zip[df_nearset_store_by_zip['distance_miles']<=3]['zip_cd'].tolist()"
   ]
  },
  {
   "cell_type": "code",
   "execution_count": 34,
   "metadata": {},
   "outputs": [
    {
     "name": "stderr",
     "output_type": "stream",
     "text": [
      "/usr/local/lib/python3.6/site-packages/ipykernel_launcher.py:2: SettingWithCopyWarning: \n",
      "A value is trying to be set on a copy of a slice from a DataFrame.\n",
      "Try using .loc[row_indexer,col_indexer] = value instead\n",
      "\n",
      "See the caveats in the documentation: http://pandas.pydata.org/pandas-docs/stable/indexing.html#indexing-view-versus-copy\n",
      "  \n",
      "/usr/local/lib/python3.6/site-packages/ipykernel_launcher.py:3: SettingWithCopyWarning: \n",
      "A value is trying to be set on a copy of a slice from a DataFrame.\n",
      "Try using .loc[row_indexer,col_indexer] = value instead\n",
      "\n",
      "See the caveats in the documentation: http://pandas.pydata.org/pandas-docs/stable/indexing.html#indexing-view-versus-copy\n",
      "  This is separate from the ipykernel package so we can avoid doing imports until\n"
     ]
    }
   ],
   "source": [
    "for state,group in output_store.groupby(['State']):\n",
    "    group['zip_list_0_3']=group['zip_list_0_3'].apply(lambda x: eval(x))\n",
    "    group['zip_list_4_6']=group['zip_list_4_6'].apply(lambda x: eval(x))\n",
    "    \n",
    "    zips_state_0_3=[]\n",
    "    zips_state_4_6=[]\n",
    "    \n",
    "    for index,row in group.iterrows():\n",
    "        zips_state_0_3=zips_state_0_3+row['zip_list_0_3']\n",
    "        zips_state_4_6=zips_state_4_6+row['zip_list_4_6']\n",
    "        \n",
    "    zips_state_0_3=list(set(zips_state_0_3))\n",
    "    zips_state_4_6=list(set(zips_state_4_6))\n",
    "    zips_state_4_6=[x for x in zips_state_4_6 if x not in all_zips_0_3]\n",
    "    \n",
    "    if len(zips_state_0_3)>=len(zips_state_4_6):\n",
    "        zips_state_4_6=zips_state_4_6+[np.nan]*(len(zips_state_0_3)-len(zips_state_4_6))\n",
    "    else:\n",
    "        zips_state_0_3=zips_state_0_3+[np.nan]*(len(zips_state_4_6)-len(zips_state_0_3))\n",
    "        \n",
    "    df=pd.DataFrame({\"Store_State\":state,'zips_0_3':zips_state_0_3,'zips_4_6':zips_state_4_6},index=[x for x in range(len(zips_state_0_3))])\n",
    "    df.to_excel(writer,state,index=False)\n",
    "\n",
    "        \n",
    "writer.save()    \n",
    "    "
   ]
  },
  {
   "cell_type": "code",
   "execution_count": 35,
   "metadata": {
    "collapsed": true
   },
   "outputs": [],
   "source": [
    "\n",
    "writer.save()"
   ]
  },
  {
   "cell_type": "code",
   "execution_count": null,
   "metadata": {
    "collapsed": true
   },
   "outputs": [],
   "source": []
  }
 ],
 "metadata": {
  "kernelspec": {
   "display_name": "Python 3",
   "language": "python",
   "name": "python3"
  },
  "language_info": {
   "codemirror_mode": {
    "name": "ipython",
    "version": 3
   },
   "file_extension": ".py",
   "mimetype": "text/x-python",
   "name": "python",
   "nbconvert_exporter": "python",
   "pygments_lexer": "ipython3",
   "version": "3.6.1"
  }
 },
 "nbformat": 4,
 "nbformat_minor": 2
}
