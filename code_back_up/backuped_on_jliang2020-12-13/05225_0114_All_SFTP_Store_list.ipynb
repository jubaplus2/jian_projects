{
 "cells": [
  {
   "cell_type": "code",
   "execution_count": 16,
   "metadata": {
    "collapsed": true
   },
   "outputs": [],
   "source": [
    "import pandas as pd\n",
    "import numpy as np\n",
    "import datetime"
   ]
  },
  {
   "cell_type": "code",
   "execution_count": 17,
   "metadata": {},
   "outputs": [],
   "source": [
    "store_list_20181201=pd.read_table(\"/home/jian/BigLots/static_files/Store_list/MediaStormStores20181201-135231-415.txt\",dtype=str,sep=\"|\")\n"
   ]
  },
  {
   "cell_type": "code",
   "execution_count": 18,
   "metadata": {},
   "outputs": [],
   "source": [
    "store_list_1=pd.read_table(\"/home/jian/BigLots/static_files/Store_list/MediaStormStores20181201-135231-415.txt\",dtype=str,sep=\"|\")\n",
    "\n",
    "store_list_2=pd.read_table(\"/home/jian/BigLots/static_files/Store_list/MediaStormStores20181101-134628-331.txt\",dtype=str,sep=\"|\")\n",
    "store_list_2=store_list_2[store_list_1.columns.tolist()]\n",
    "store_list_2=store_list_2[~store_list_2['location_id'].isin(store_list_1['location_id'])]\n",
    "store_list_1=store_list_1.append(store_list_2)\n",
    "\n",
    "store_list_2=pd.read_table(\"/home/jian/BigLots/static_files/Store_list/MediaStormStores20181001-135417-132.txt\",dtype=str,sep=\"|\")\n",
    "store_list_2=store_list_2[store_list_1.columns.tolist()]\n",
    "store_list_2=store_list_2[~store_list_2['location_id'].isin(store_list_1['location_id'])]\n",
    "store_list_1=store_list_1.append(store_list_2)\n",
    "\n",
    "store_list_2=pd.read_table(\"/home/jian/BigLots/static_files/Store_list/MediaStormStores20180901-133640-935.txt\",dtype=str,sep=\"|\")\n",
    "store_list_2=store_list_2[store_list_1.columns.tolist()]\n",
    "store_list_2=store_list_2[~store_list_2['location_id'].isin(store_list_1['location_id'])]\n",
    "store_list_1=store_list_1.append(store_list_2)\n",
    "\n",
    "store_list_2=pd.read_table(\"/home/jian/BigLots/static_files/Store_list/MediaStormStores20180801-133641-576.txt\",dtype=str,sep=\"|\")\n",
    "store_list_2=store_list_2[store_list_1.columns.tolist()]\n",
    "store_list_2=store_list_2[~store_list_2['location_id'].isin(store_list_1['location_id'])]\n",
    "store_list_1=store_list_1.append(store_list_2)\n",
    "\n",
    "store_list_2=pd.read_table(\"/home/jian/BigLots/static_files/Store_list/MediaStormStores20180703.txt\",dtype=str,sep=\"|\")\n",
    "store_list_2=store_list_2[store_list_1.columns.tolist()]\n",
    "store_list_2=store_list_2[~store_list_2['location_id'].isin(store_list_1['location_id'])]\n",
    "store_list_1=store_list_1.append(store_list_2)\n",
    "\n",
    "store_list_2=pd.read_table(\"/home/jian/BigLots/static_files/Store_list/MediaStormStores20171115.txt\",dtype=str,sep=\"|\")\n",
    "# store_list_2=store_list_2[store_list_1.columns.tolist()]\n",
    "store_list_2=store_list_2[~store_list_2['location_id'].isin(store_list_1['location_id'])]\n",
    "store_list_1=store_list_1.append(store_list_2)\n",
    "\n",
    "store_list_2=pd.read_table(\"/home/jian/BigLots/static_files/Store_list/MediaStormStores20170913.txt\",dtype=str,sep=\"|\")\n",
    "# store_list_2=store_list_2[store_list_1.columns.tolist()]\n",
    "store_list_2=store_list_2[~store_list_2['location_id'].isin(store_list_1['location_id'])]\n",
    "store_list_1=store_list_1.append(store_list_2)"
   ]
  },
  {
   "cell_type": "code",
   "execution_count": 19,
   "metadata": {},
   "outputs": [
    {
     "data": {
      "text/html": [
       "<div>\n",
       "<style>\n",
       "    .dataframe thead tr:only-child th {\n",
       "        text-align: right;\n",
       "    }\n",
       "\n",
       "    .dataframe thead th {\n",
       "        text-align: left;\n",
       "    }\n",
       "\n",
       "    .dataframe tbody tr th {\n",
       "        vertical-align: top;\n",
       "    }\n",
       "</style>\n",
       "<table border=\"1\" class=\"dataframe\">\n",
       "  <thead>\n",
       "    <tr style=\"text-align: right;\">\n",
       "      <th></th>\n",
       "      <th>location_id</th>\n",
       "      <th>location_desc</th>\n",
       "      <th>open_dt</th>\n",
       "      <th>close_dt</th>\n",
       "      <th>address_line_1</th>\n",
       "      <th>address_line_2</th>\n",
       "      <th>city_nm</th>\n",
       "      <th>state_nm</th>\n",
       "      <th>zip_cd</th>\n",
       "      <th>longitude_meas</th>\n",
       "      <th>latitude_meas</th>\n",
       "      <th>sales_square_feet</th>\n",
       "      <th>furniture_sales_square_feet</th>\n",
       "    </tr>\n",
       "  </thead>\n",
       "  <tbody>\n",
       "    <tr>\n",
       "      <th>0</th>\n",
       "      <td>1</td>\n",
       "      <td>BERWICK SHOPPING CENTER</td>\n",
       "      <td>1983-09-15</td>\n",
       "      <td>NaN</td>\n",
       "      <td>2837 WINCHESTER PIKE</td>\n",
       "      <td>NaN</td>\n",
       "      <td>COLUMBUS</td>\n",
       "      <td>OH</td>\n",
       "      <td>43232-9301</td>\n",
       "      <td>-000000000082.914789</td>\n",
       "      <td>000000000039.913636</td>\n",
       "      <td>00000000029217.0000</td>\n",
       "      <td>00000000006692.0000</td>\n",
       "    </tr>\n",
       "    <tr>\n",
       "      <th>1</th>\n",
       "      <td>29</td>\n",
       "      <td>ATHENS SHOPPING CENTER</td>\n",
       "      <td>1984-03-26</td>\n",
       "      <td>NaN</td>\n",
       "      <td>918 E STATE ST</td>\n",
       "      <td>NaN</td>\n",
       "      <td>ATHENS</td>\n",
       "      <td>OH</td>\n",
       "      <td>45701-2188</td>\n",
       "      <td>-000000000082.069765</td>\n",
       "      <td>000000000039.337172</td>\n",
       "      <td>00000000026545.0000</td>\n",
       "      <td>00000000005694.0000</td>\n",
       "    </tr>\n",
       "  </tbody>\n",
       "</table>\n",
       "</div>"
      ],
      "text/plain": [
       "  location_id            location_desc     open_dt close_dt  \\\n",
       "0           1  BERWICK SHOPPING CENTER  1983-09-15      NaN   \n",
       "1          29   ATHENS SHOPPING CENTER  1984-03-26      NaN   \n",
       "\n",
       "         address_line_1 address_line_2   city_nm state_nm      zip_cd  \\\n",
       "0  2837 WINCHESTER PIKE            NaN  COLUMBUS       OH  43232-9301   \n",
       "1        918 E STATE ST            NaN    ATHENS       OH  45701-2188   \n",
       "\n",
       "         longitude_meas         latitude_meas     sales_square_feet  \\\n",
       "0  -000000000082.914789   000000000039.913636   00000000029217.0000   \n",
       "1  -000000000082.069765   000000000039.337172   00000000026545.0000   \n",
       "\n",
       "  furniture_sales_square_feet  \n",
       "0         00000000006692.0000  \n",
       "1         00000000005694.0000  "
      ]
     },
     "execution_count": 19,
     "metadata": {},
     "output_type": "execute_result"
    }
   ],
   "source": [
    "store_list_1=store_list_1[store_list_20181201.columns.tolist()]\n",
    "store_list_1.head(2)"
   ]
  },
  {
   "cell_type": "code",
   "execution_count": 22,
   "metadata": {},
   "outputs": [],
   "source": [
    "\n",
    "writer=pd.ExcelWriter('/home/jian/BigLots/static_files/Store_list/all_store_list_JL_'+str(datetime.datetime.now().date())+'.xlsx',engine=\"xlsxwriter\")\n",
    "store_list_20181201.to_excel(writer,\"latest_Dec01_list\",index=False)\n",
    "store_list_1.to_excel(writer,\"cumalated_store_lists\",index=False)\n",
    "writer.save()\n"
   ]
  },
  {
   "cell_type": "code",
   "execution_count": null,
   "metadata": {
    "collapsed": true
   },
   "outputs": [],
   "source": []
  }
 ],
 "metadata": {
  "kernelspec": {
   "display_name": "Python 3",
   "language": "python",
   "name": "python3"
  },
  "language_info": {
   "codemirror_mode": {
    "name": "ipython",
    "version": 3
   },
   "file_extension": ".py",
   "mimetype": "text/x-python",
   "name": "python",
   "nbconvert_exporter": "python",
   "pygments_lexer": "ipython3",
   "version": "3.6.1"
  }
 },
 "nbformat": 4,
 "nbformat_minor": 2
}
