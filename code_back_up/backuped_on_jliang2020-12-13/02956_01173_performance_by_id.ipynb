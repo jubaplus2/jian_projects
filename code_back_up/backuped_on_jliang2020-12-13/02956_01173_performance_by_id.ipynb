{
 "cells": [
  {
   "cell_type": "code",
   "execution_count": 1,
   "metadata": {
    "collapsed": true
   },
   "outputs": [],
   "source": [
    "# consider the subscription, redeemers, and dcm clickers\n",
    "import pandas as pd\n",
    "import numpy as np\n",
    "import datetime\n",
    "import os\n",
    "import paramiko\n",
    "import gc"
   ]
  },
  {
   "cell_type": "code",
   "execution_count": 2,
   "metadata": {},
   "outputs": [
    {
     "data": {
      "text/plain": [
       "'\\nhost = \"64.237.51.251\" #hard-coded\\nport = 22\\ntransport = paramiko.Transport((host, port))\\n\\npassword = \"jian@juba2017\" #hard-coded\\nusername = \"jian\" #hard-coded\\ntransport.connect(username = username, password = password)\\nsftp = paramiko.SFTPClient.from_transport(transport)\\n\\nremote_file_1_dcm_fb_clickers=\\'/mnt/drv5/lr_biglots_data/download_logs/clicks/CL_BigLots_dcm_account7252_click_20191021_20191107_fboffers_BL_20191206_053923_0000.tsv.gz\\'\\nremote_file_2_Q3_mapping=\"/mnt/drv5/lr_biglots_data/download_logs/others/CL_BigLots_BL_mapping_file_2019Q3_JL_2019-11-20_20191125_232935_0000.psv.gz\"\\n\\nremote_file_list=[remote_file_1_dcm_fb_clickers,remote_file_2_Q3_mapping]\\n\\nfor remote_file in remote_file_list:\\n    local_path=\"./\"+os.path.basename(remote_file)\\n    sftp.get(remote_file,local_path)\\nsftp.close()\\ntransport.close()\\n'"
      ]
     },
     "execution_count": 2,
     "metadata": {},
     "output_type": "execute_result"
    }
   ],
   "source": [
    "'''\n",
    "host = \"64.237.51.251\" #hard-coded\n",
    "port = 22\n",
    "transport = paramiko.Transport((host, port))\n",
    "\n",
    "password = \"jian@juba2017\" #hard-coded\n",
    "username = \"jian\" #hard-coded\n",
    "transport.connect(username = username, password = password)\n",
    "sftp = paramiko.SFTPClient.from_transport(transport)\n",
    "\n",
    "remote_file_1_dcm_fb_clickers='/mnt/drv5/lr_biglots_data/download_logs/clicks/CL_BigLots_dcm_account7252_click_20191021_20191107_fboffers_BL_20191206_053923_0000.tsv.gz'\n",
    "remote_file_2_Q3_mapping=\"/mnt/drv5/lr_biglots_data/download_logs/others/CL_BigLots_BL_mapping_file_2019Q3_JL_2019-11-20_20191125_232935_0000.psv.gz\"\n",
    "\n",
    "remote_file_list=[remote_file_1_dcm_fb_clickers,remote_file_2_Q3_mapping]\n",
    "\n",
    "for remote_file in remote_file_list:\n",
    "    local_path=\"./\"+os.path.basename(remote_file)\n",
    "    sftp.get(remote_file,local_path)\n",
    "sftp.close()\n",
    "transport.close()\n",
    "'''"
   ]
  },
  {
   "cell_type": "code",
   "execution_count": 3,
   "metadata": {},
   "outputs": [
    {
     "name": "stdout",
     "output_type": "stream",
     "text": [
      "(201624, 7)\n",
      "(40660, 7)\n"
     ]
    },
    {
     "data": {
      "text/plain": [
       "((40660, 7), 31219)"
      ]
     },
     "execution_count": 3,
     "metadata": {},
     "output_type": "execute_result"
    }
   ],
   "source": [
    "df_clickers=pd.read_csv(\"./CL_BigLots_dcm_account7252_click_20191021_20191107_fboffers_BL_20191206_053923_0000.tsv.gz\",\n",
    "                       compression=\"gzip\",sep=\"\\t\",dtype=str,\n",
    "                        usecols=['Customer_Link','Event Time','Advertiser ID','Campaign ID','Ad ID','Site ID (DCM)','Placement ID'])\n",
    "print(df_clickers.shape)\n",
    "df_clickers=df_clickers[df_clickers['Customer_Link']!=\"UNMATCHED\"]\n",
    "print(df_clickers.shape)\n",
    "df_clickers.shape,df_clickers['Customer_Link'].nunique()"
   ]
  },
  {
   "cell_type": "code",
   "execution_count": 4,
   "metadata": {},
   "outputs": [
    {
     "data": {
      "text/html": [
       "<div>\n",
       "<style scoped>\n",
       "    .dataframe tbody tr th:only-of-type {\n",
       "        vertical-align: middle;\n",
       "    }\n",
       "\n",
       "    .dataframe tbody tr th {\n",
       "        vertical-align: top;\n",
       "    }\n",
       "\n",
       "    .dataframe thead th {\n",
       "        text-align: right;\n",
       "    }\n",
       "</style>\n",
       "<table border=\"1\" class=\"dataframe\">\n",
       "  <thead>\n",
       "    <tr style=\"text-align: right;\">\n",
       "      <th></th>\n",
       "      <th>Customer_Link</th>\n",
       "      <th>Event Time</th>\n",
       "      <th>Advertiser ID</th>\n",
       "      <th>Campaign ID</th>\n",
       "      <th>Ad ID</th>\n",
       "      <th>Site ID (DCM)</th>\n",
       "      <th>Placement ID</th>\n",
       "    </tr>\n",
       "  </thead>\n",
       "  <tbody>\n",
       "    <tr>\n",
       "      <th>1</th>\n",
       "      <td>XY146898E-Q2rTzSJCtYbthhYTjeBDTPpCEEiCyJil8I-Bahw</td>\n",
       "      <td>1572895050375612</td>\n",
       "      <td>8095847</td>\n",
       "      <td>23030980</td>\n",
       "      <td>454197183</td>\n",
       "      <td>2710167</td>\n",
       "      <td>258481638</td>\n",
       "    </tr>\n",
       "    <tr>\n",
       "      <th>19</th>\n",
       "      <td>XY1468M6qU6CSXTXFx5t1ON3qyJOOEKbzWV1KEQX-fpvjsUzU</td>\n",
       "      <td>1572687338036744</td>\n",
       "      <td>8095847</td>\n",
       "      <td>23030980</td>\n",
       "      <td>454273339</td>\n",
       "      <td>2710167</td>\n",
       "      <td>258073193</td>\n",
       "    </tr>\n",
       "  </tbody>\n",
       "</table>\n",
       "</div>"
      ],
      "text/plain": [
       "                                        Customer_Link        Event Time  \\\n",
       "1   XY146898E-Q2rTzSJCtYbthhYTjeBDTPpCEEiCyJil8I-Bahw  1572895050375612   \n",
       "19  XY1468M6qU6CSXTXFx5t1ON3qyJOOEKbzWV1KEQX-fpvjsUzU  1572687338036744   \n",
       "\n",
       "   Advertiser ID Campaign ID      Ad ID Site ID (DCM) Placement ID  \n",
       "1        8095847    23030980  454197183       2710167    258481638  \n",
       "19       8095847    23030980  454273339       2710167    258073193  "
      ]
     },
     "execution_count": 4,
     "metadata": {},
     "output_type": "execute_result"
    }
   ],
   "source": [
    "df_clickers.head(2)"
   ]
  },
  {
   "cell_type": "code",
   "execution_count": 5,
   "metadata": {},
   "outputs": [
    {
     "data": {
      "text/plain": [
       "(24078139, 2)"
      ]
     },
     "execution_count": 5,
     "metadata": {},
     "output_type": "execute_result"
    }
   ],
   "source": [
    "df_mapping=pd.read_csv(\"./CL_BigLots_BL_mapping_file_2019Q3_JL_2019-11-20_20191125_232935_0000.psv.gz\",\n",
    "                      dtype=str,sep=\"|\",compression=\"gzip\",usecols=['Customer_Link','customer_id_hashed']).drop_duplicates()\n",
    "df_mapping.shape"
   ]
  },
  {
   "cell_type": "code",
   "execution_count": 6,
   "metadata": {},
   "outputs": [
    {
     "name": "stdout",
     "output_type": "stream",
     "text": [
      "(40945, 8)\n"
     ]
    }
   ],
   "source": [
    "df_clickers=pd.merge(df_clickers,df_mapping,on=\"Customer_Link\",how=\"left\")\n",
    "print(df_clickers.shape)\n",
    "\n",
    "list_customer_ids_clickers=df_clickers['customer_id_hashed'].unique().tolist()\n",
    "df_click_ids=pd.DataFrame({\"customer_id_hashed\":list_customer_ids_clickers})\n",
    "df_click_ids=df_click_ids[~pd.isnull(df_click_ids['customer_id_hashed'])]"
   ]
  },
  {
   "cell_type": "code",
   "execution_count": 7,
   "metadata": {},
   "outputs": [
    {
     "data": {
      "text/html": [
       "<div>\n",
       "<style scoped>\n",
       "    .dataframe tbody tr th:only-of-type {\n",
       "        vertical-align: middle;\n",
       "    }\n",
       "\n",
       "    .dataframe tbody tr th {\n",
       "        vertical-align: top;\n",
       "    }\n",
       "\n",
       "    .dataframe thead th {\n",
       "        text-align: right;\n",
       "    }\n",
       "</style>\n",
       "<table border=\"1\" class=\"dataframe\">\n",
       "  <thead>\n",
       "    <tr style=\"text-align: right;\">\n",
       "      <th></th>\n",
       "      <th>Customer_Link</th>\n",
       "      <th>Event Time</th>\n",
       "      <th>Advertiser ID</th>\n",
       "      <th>Campaign ID</th>\n",
       "      <th>Ad ID</th>\n",
       "      <th>Site ID (DCM)</th>\n",
       "      <th>Placement ID</th>\n",
       "      <th>customer_id_hashed</th>\n",
       "    </tr>\n",
       "  </thead>\n",
       "  <tbody>\n",
       "    <tr>\n",
       "      <th>0</th>\n",
       "      <td>XY146898E-Q2rTzSJCtYbthhYTjeBDTPpCEEiCyJil8I-Bahw</td>\n",
       "      <td>1572895050375612</td>\n",
       "      <td>8095847</td>\n",
       "      <td>23030980</td>\n",
       "      <td>454197183</td>\n",
       "      <td>2710167</td>\n",
       "      <td>258481638</td>\n",
       "      <td>0696d2f9ca06589324f76bbbf6f359e87f292db87a5253...</td>\n",
       "    </tr>\n",
       "    <tr>\n",
       "      <th>1</th>\n",
       "      <td>XY1468M6qU6CSXTXFx5t1ON3qyJOOEKbzWV1KEQX-fpvjsUzU</td>\n",
       "      <td>1572687338036744</td>\n",
       "      <td>8095847</td>\n",
       "      <td>23030980</td>\n",
       "      <td>454273339</td>\n",
       "      <td>2710167</td>\n",
       "      <td>258073193</td>\n",
       "      <td>NaN</td>\n",
       "    </tr>\n",
       "    <tr>\n",
       "      <th>2</th>\n",
       "      <td>XY1468yrG3_vuCdJJGFFfy3syaKtX2dr1Mk3or5fV-cVdhlEk</td>\n",
       "      <td>1572687121864585</td>\n",
       "      <td>8095847</td>\n",
       "      <td>23030980</td>\n",
       "      <td>454273339</td>\n",
       "      <td>2710167</td>\n",
       "      <td>258073193</td>\n",
       "      <td>NaN</td>\n",
       "    </tr>\n",
       "    <tr>\n",
       "      <th>3</th>\n",
       "      <td>XY1468ltKlOYOmPbpSMRTNUrintJAKD8sDgXFsLqOvK84odls</td>\n",
       "      <td>1572688700853642</td>\n",
       "      <td>8095847</td>\n",
       "      <td>23030980</td>\n",
       "      <td>454273339</td>\n",
       "      <td>2710167</td>\n",
       "      <td>258073193</td>\n",
       "      <td>NaN</td>\n",
       "    </tr>\n",
       "    <tr>\n",
       "      <th>4</th>\n",
       "      <td>XY1468EnRUYaMj6nqTZwqbWE7Y0cmp_TZmfBE8i5eeEx-HvOI</td>\n",
       "      <td>1572688903301130</td>\n",
       "      <td>8095847</td>\n",
       "      <td>23030980</td>\n",
       "      <td>454273339</td>\n",
       "      <td>2710167</td>\n",
       "      <td>258073193</td>\n",
       "      <td>NaN</td>\n",
       "    </tr>\n",
       "  </tbody>\n",
       "</table>\n",
       "</div>"
      ],
      "text/plain": [
       "                                       Customer_Link        Event Time  \\\n",
       "0  XY146898E-Q2rTzSJCtYbthhYTjeBDTPpCEEiCyJil8I-Bahw  1572895050375612   \n",
       "1  XY1468M6qU6CSXTXFx5t1ON3qyJOOEKbzWV1KEQX-fpvjsUzU  1572687338036744   \n",
       "2  XY1468yrG3_vuCdJJGFFfy3syaKtX2dr1Mk3or5fV-cVdhlEk  1572687121864585   \n",
       "3  XY1468ltKlOYOmPbpSMRTNUrintJAKD8sDgXFsLqOvK84odls  1572688700853642   \n",
       "4  XY1468EnRUYaMj6nqTZwqbWE7Y0cmp_TZmfBE8i5eeEx-HvOI  1572688903301130   \n",
       "\n",
       "  Advertiser ID Campaign ID      Ad ID Site ID (DCM) Placement ID  \\\n",
       "0       8095847    23030980  454197183       2710167    258481638   \n",
       "1       8095847    23030980  454273339       2710167    258073193   \n",
       "2       8095847    23030980  454273339       2710167    258073193   \n",
       "3       8095847    23030980  454273339       2710167    258073193   \n",
       "4       8095847    23030980  454273339       2710167    258073193   \n",
       "\n",
       "                                  customer_id_hashed  \n",
       "0  0696d2f9ca06589324f76bbbf6f359e87f292db87a5253...  \n",
       "1                                                NaN  \n",
       "2                                                NaN  \n",
       "3                                                NaN  \n",
       "4                                                NaN  "
      ]
     },
     "execution_count": 7,
     "metadata": {},
     "output_type": "execute_result"
    }
   ],
   "source": [
    "df_clickers.head(5)"
   ]
  },
  {
   "cell_type": "code",
   "execution_count": 8,
   "metadata": {},
   "outputs": [
    {
     "name": "stdout",
     "output_type": "stream",
     "text": [
      "(262870, 2) 262870 262821\n"
     ]
    },
    {
     "data": {
      "text/html": [
       "<div>\n",
       "<style scoped>\n",
       "    .dataframe tbody tr th:only-of-type {\n",
       "        vertical-align: middle;\n",
       "    }\n",
       "\n",
       "    .dataframe tbody tr th {\n",
       "        vertical-align: top;\n",
       "    }\n",
       "\n",
       "    .dataframe thead th {\n",
       "        text-align: right;\n",
       "    }\n",
       "</style>\n",
       "<table border=\"1\" class=\"dataframe\">\n",
       "  <thead>\n",
       "    <tr style=\"text-align: right;\">\n",
       "      <th></th>\n",
       "      <th>hashed_customer_num</th>\n",
       "      <th>hashed_email_address</th>\n",
       "    </tr>\n",
       "  </thead>\n",
       "  <tbody>\n",
       "    <tr>\n",
       "      <th>0</th>\n",
       "      <td>41448b7946e03d434fb9efe139eff9d64d0a97b58ca15b...</td>\n",
       "      <td>2b575b29eb1a236c2e43ea4b8d07c09391773e401535e9...</td>\n",
       "    </tr>\n",
       "    <tr>\n",
       "      <th>1</th>\n",
       "      <td>dad71dc369858e4d71755b3b88701a3dea4de62eef8ac7...</td>\n",
       "      <td>28bb15e7436c23796ebf07a42e3787bfabf1ed8ad9eb3a...</td>\n",
       "    </tr>\n",
       "  </tbody>\n",
       "</table>\n",
       "</div>"
      ],
      "text/plain": [
       "                                 hashed_customer_num  \\\n",
       "0  41448b7946e03d434fb9efe139eff9d64d0a97b58ca15b...   \n",
       "1  dad71dc369858e4d71755b3b88701a3dea4de62eef8ac7...   \n",
       "\n",
       "                                hashed_email_address  \n",
       "0  2b575b29eb1a236c2e43ea4b8d07c09391773e401535e9...  \n",
       "1  28bb15e7436c23796ebf07a42e3787bfabf1ed8ad9eb3a...  "
      ]
     },
     "execution_count": 8,
     "metadata": {},
     "output_type": "execute_result"
    }
   ],
   "source": [
    "df_redeemers=pd.read_csv(\"/home/jian/Projects/Big_Lots/Analysis/2019_Q3/Slice_ids_FB_Rewards_offers/ID_level_report_of_redeemers/hash_full_file_redeemers_1201.zip\",\n",
    "                        dtype=str,sep=\"|\",compression=\"zip\")\n",
    "print(df_redeemers.shape,df_redeemers['hashed_customer_num'].nunique(),df_redeemers['hashed_email_address'].nunique())\n",
    "df_redeemers.head(2)"
   ]
  },
  {
   "cell_type": "code",
   "execution_count": 9,
   "metadata": {},
   "outputs": [
    {
     "data": {
      "text/plain": [
       "(21505499, 2)"
      ]
     },
     "execution_count": 9,
     "metadata": {},
     "output_type": "execute_result"
    }
   ],
   "source": [
    "df_FB_id_email_all=pd.read_csv(\"/home/jian/Projects/Big_Lots/Analysis/2019_Q3/Slice_ids_FB_Rewards_offers/BL_all_ids_shopped_in_18_or_signed_in_12_with_emails_JL_2019-10-17.csv\",dtype=str)\n",
    "df_FB_id_email_all.shape"
   ]
  },
  {
   "cell_type": "code",
   "execution_count": 10,
   "metadata": {},
   "outputs": [
    {
     "name": "stdout",
     "output_type": "stream",
     "text": [
      "21503336\n"
     ]
    }
   ],
   "source": [
    "print(df_FB_id_email_all['email_address_hash'].nunique())"
   ]
  },
  {
   "cell_type": "code",
   "execution_count": 11,
   "metadata": {},
   "outputs": [
    {
     "name": "stdout",
     "output_type": "stream",
     "text": [
      "(21503357, 2)\n"
     ]
    },
    {
     "data": {
      "text/html": [
       "<div>\n",
       "<style scoped>\n",
       "    .dataframe tbody tr th:only-of-type {\n",
       "        vertical-align: middle;\n",
       "    }\n",
       "\n",
       "    .dataframe tbody tr th {\n",
       "        vertical-align: top;\n",
       "    }\n",
       "\n",
       "    .dataframe thead th {\n",
       "        text-align: right;\n",
       "    }\n",
       "</style>\n",
       "<table border=\"1\" class=\"dataframe\">\n",
       "  <thead>\n",
       "    <tr style=\"text-align: right;\">\n",
       "      <th></th>\n",
       "      <th>Email</th>\n",
       "      <th>Group</th>\n",
       "    </tr>\n",
       "  </thead>\n",
       "  <tbody>\n",
       "    <tr>\n",
       "      <th>0</th>\n",
       "      <td>089bc373eda16a771e023d87ee368fb961c4ff9b36c7d6...</td>\n",
       "      <td>test</td>\n",
       "    </tr>\n",
       "    <tr>\n",
       "      <th>1</th>\n",
       "      <td>065edf59d0ed26bea352be5f44fd7a6f688a0fa28cddb3...</td>\n",
       "      <td>test</td>\n",
       "    </tr>\n",
       "  </tbody>\n",
       "</table>\n",
       "</div>"
      ],
      "text/plain": [
       "                                               Email Group\n",
       "0  089bc373eda16a771e023d87ee368fb961c4ff9b36c7d6...  test\n",
       "1  065edf59d0ed26bea352be5f44fd7a6f688a0fa28cddb3...  test"
      ]
     },
     "execution_count": 11,
     "metadata": {},
     "output_type": "execute_result"
    }
   ],
   "source": [
    "df_test=pd.read_csv(\"/home/jian/Projects/Big_Lots/Analysis/2019_Q3/Slice_ids_FB_Rewards_offers/BL_FB_5_offer_test_emails_JL_2019-10-17.csv\",dtype=str)\n",
    "df_control=pd.read_csv(\"/home/jian/Projects/Big_Lots/Analysis/2019_Q3/Slice_ids_FB_Rewards_offers/BL_FB_5_offer_control_emails_JL_2019-10-17.csv\",dtype=str)\n",
    "\n",
    "df_test['Group']=\"test\"\n",
    "df_control['Group']=\"control\"\n",
    "\n",
    "df_email_group=df_test.append(df_control)\n",
    "del df_test\n",
    "del df_control\n",
    "print(df_email_group.shape)\n",
    "\n",
    "df_email_group.head(2)"
   ]
  },
  {
   "cell_type": "code",
   "execution_count": 12,
   "metadata": {
    "scrolled": true
   },
   "outputs": [
    {
     "name": "stdout",
     "output_type": "stream",
     "text": [
      "(21, 1)\n"
     ]
    },
    {
     "data": {
      "text/html": [
       "<div>\n",
       "<style scoped>\n",
       "    .dataframe tbody tr th:only-of-type {\n",
       "        vertical-align: middle;\n",
       "    }\n",
       "\n",
       "    .dataframe tbody tr th {\n",
       "        vertical-align: top;\n",
       "    }\n",
       "\n",
       "    .dataframe thead th {\n",
       "        text-align: right;\n",
       "    }\n",
       "</style>\n",
       "<table border=\"1\" class=\"dataframe\">\n",
       "  <thead>\n",
       "    <tr style=\"text-align: right;\">\n",
       "      <th></th>\n",
       "      <th>Email</th>\n",
       "      <th>Group</th>\n",
       "    </tr>\n",
       "  </thead>\n",
       "  <tbody>\n",
       "    <tr>\n",
       "      <th>95446</th>\n",
       "      <td>1152cb7e6f7bba4aea1a4a9543cefeb4e5f5fccd92a0c5...</td>\n",
       "      <td>control</td>\n",
       "    </tr>\n",
       "    <tr>\n",
       "      <th>2118993</th>\n",
       "      <td>1152cb7e6f7bba4aea1a4a9543cefeb4e5f5fccd92a0c5...</td>\n",
       "      <td>test</td>\n",
       "    </tr>\n",
       "    <tr>\n",
       "      <th>15843</th>\n",
       "      <td>12d0aded1a1810dd08e60ea3bb1d0b0d46b1a2c224a1e0...</td>\n",
       "      <td>control</td>\n",
       "    </tr>\n",
       "    <tr>\n",
       "      <th>14076876</th>\n",
       "      <td>12d0aded1a1810dd08e60ea3bb1d0b0d46b1a2c224a1e0...</td>\n",
       "      <td>test</td>\n",
       "    </tr>\n",
       "    <tr>\n",
       "      <th>30196</th>\n",
       "      <td>2b5aadd1188c83cfcd23d14e2578a1af92e41a7198ca1f...</td>\n",
       "      <td>control</td>\n",
       "    </tr>\n",
       "    <tr>\n",
       "      <th>19978211</th>\n",
       "      <td>2b5aadd1188c83cfcd23d14e2578a1af92e41a7198ca1f...</td>\n",
       "      <td>test</td>\n",
       "    </tr>\n",
       "    <tr>\n",
       "      <th>25126</th>\n",
       "      <td>33c21258cdfeaae52ea857b0af6a72975fb4963ee9f065...</td>\n",
       "      <td>control</td>\n",
       "    </tr>\n",
       "    <tr>\n",
       "      <th>20562300</th>\n",
       "      <td>33c21258cdfeaae52ea857b0af6a72975fb4963ee9f065...</td>\n",
       "      <td>test</td>\n",
       "    </tr>\n",
       "    <tr>\n",
       "      <th>85183</th>\n",
       "      <td>3f0373fa1412044927d83a5bd105abc584ee8a423607fc...</td>\n",
       "      <td>control</td>\n",
       "    </tr>\n",
       "    <tr>\n",
       "      <th>20870886</th>\n",
       "      <td>3f0373fa1412044927d83a5bd105abc584ee8a423607fc...</td>\n",
       "      <td>test</td>\n",
       "    </tr>\n",
       "    <tr>\n",
       "      <th>11507</th>\n",
       "      <td>4402ca627f1869163ece462532bd44f974f80c51d0c8dd...</td>\n",
       "      <td>control</td>\n",
       "    </tr>\n",
       "    <tr>\n",
       "      <th>11466462</th>\n",
       "      <td>4402ca627f1869163ece462532bd44f974f80c51d0c8dd...</td>\n",
       "      <td>test</td>\n",
       "    </tr>\n",
       "    <tr>\n",
       "      <th>10023</th>\n",
       "      <td>50d794aa359942f1706d37cac1215dc624b13abc45b975...</td>\n",
       "      <td>control</td>\n",
       "    </tr>\n",
       "    <tr>\n",
       "      <th>20925122</th>\n",
       "      <td>50d794aa359942f1706d37cac1215dc624b13abc45b975...</td>\n",
       "      <td>test</td>\n",
       "    </tr>\n",
       "    <tr>\n",
       "      <th>41303</th>\n",
       "      <td>7d0abaaa0ab532f58f8cd5d47394893ed73a22eb185d22...</td>\n",
       "      <td>control</td>\n",
       "    </tr>\n",
       "    <tr>\n",
       "      <th>4435661</th>\n",
       "      <td>7d0abaaa0ab532f58f8cd5d47394893ed73a22eb185d22...</td>\n",
       "      <td>test</td>\n",
       "    </tr>\n",
       "    <tr>\n",
       "      <th>889</th>\n",
       "      <td>867b3c78faf6860cb386795b358b80e2e9dc66fa587e71...</td>\n",
       "      <td>control</td>\n",
       "    </tr>\n",
       "    <tr>\n",
       "      <th>15194080</th>\n",
       "      <td>867b3c78faf6860cb386795b358b80e2e9dc66fa587e71...</td>\n",
       "      <td>test</td>\n",
       "    </tr>\n",
       "    <tr>\n",
       "      <th>16847</th>\n",
       "      <td>952f8098b11238ad2bf39b96a3b80d93f9515973835161...</td>\n",
       "      <td>control</td>\n",
       "    </tr>\n",
       "    <tr>\n",
       "      <th>8203810</th>\n",
       "      <td>952f8098b11238ad2bf39b96a3b80d93f9515973835161...</td>\n",
       "      <td>test</td>\n",
       "    </tr>\n",
       "    <tr>\n",
       "      <th>12861</th>\n",
       "      <td>9881444aff61ae7f80aa64e102ac1b605eb00b0721f620...</td>\n",
       "      <td>control</td>\n",
       "    </tr>\n",
       "    <tr>\n",
       "      <th>15010312</th>\n",
       "      <td>9881444aff61ae7f80aa64e102ac1b605eb00b0721f620...</td>\n",
       "      <td>test</td>\n",
       "    </tr>\n",
       "    <tr>\n",
       "      <th>28958</th>\n",
       "      <td>9a19a44e2c73da182a83c72f1b257ee63a52fa4bb4b4d4...</td>\n",
       "      <td>control</td>\n",
       "    </tr>\n",
       "    <tr>\n",
       "      <th>18469496</th>\n",
       "      <td>9a19a44e2c73da182a83c72f1b257ee63a52fa4bb4b4d4...</td>\n",
       "      <td>test</td>\n",
       "    </tr>\n",
       "    <tr>\n",
       "      <th>80143</th>\n",
       "      <td>9e9ee7a65738b02c17563dd34dd680587d0410b0e213e2...</td>\n",
       "      <td>control</td>\n",
       "    </tr>\n",
       "    <tr>\n",
       "      <th>3516350</th>\n",
       "      <td>9e9ee7a65738b02c17563dd34dd680587d0410b0e213e2...</td>\n",
       "      <td>test</td>\n",
       "    </tr>\n",
       "    <tr>\n",
       "      <th>21759</th>\n",
       "      <td>9ffa5c0e186cb71cf52a131c2b84d028deda2fc954cffa...</td>\n",
       "      <td>control</td>\n",
       "    </tr>\n",
       "    <tr>\n",
       "      <th>18657548</th>\n",
       "      <td>9ffa5c0e186cb71cf52a131c2b84d028deda2fc954cffa...</td>\n",
       "      <td>test</td>\n",
       "    </tr>\n",
       "    <tr>\n",
       "      <th>16606</th>\n",
       "      <td>cc227cd9db26773714bf6f2144719abdb647f90fbce775...</td>\n",
       "      <td>control</td>\n",
       "    </tr>\n",
       "    <tr>\n",
       "      <th>20885930</th>\n",
       "      <td>cc227cd9db26773714bf6f2144719abdb647f90fbce775...</td>\n",
       "      <td>test</td>\n",
       "    </tr>\n",
       "    <tr>\n",
       "      <th>79913</th>\n",
       "      <td>d692be9449bb6940fa114d77e5942fae261e176def3026...</td>\n",
       "      <td>control</td>\n",
       "    </tr>\n",
       "    <tr>\n",
       "      <th>4438880</th>\n",
       "      <td>d692be9449bb6940fa114d77e5942fae261e176def3026...</td>\n",
       "      <td>test</td>\n",
       "    </tr>\n",
       "    <tr>\n",
       "      <th>22182</th>\n",
       "      <td>e7956b4f1167ae6626c02266db8e7da931c94ad94b0bf2...</td>\n",
       "      <td>control</td>\n",
       "    </tr>\n",
       "    <tr>\n",
       "      <th>17059013</th>\n",
       "      <td>e7956b4f1167ae6626c02266db8e7da931c94ad94b0bf2...</td>\n",
       "      <td>test</td>\n",
       "    </tr>\n",
       "    <tr>\n",
       "      <th>16765</th>\n",
       "      <td>eb5cc7896ca68745d57a466889c60198307e4a87641e4b...</td>\n",
       "      <td>control</td>\n",
       "    </tr>\n",
       "    <tr>\n",
       "      <th>5426532</th>\n",
       "      <td>eb5cc7896ca68745d57a466889c60198307e4a87641e4b...</td>\n",
       "      <td>test</td>\n",
       "    </tr>\n",
       "    <tr>\n",
       "      <th>77489</th>\n",
       "      <td>f1d05452c81554316589ec3740564d13921712c6216932...</td>\n",
       "      <td>control</td>\n",
       "    </tr>\n",
       "    <tr>\n",
       "      <th>757133</th>\n",
       "      <td>f1d05452c81554316589ec3740564d13921712c6216932...</td>\n",
       "      <td>test</td>\n",
       "    </tr>\n",
       "    <tr>\n",
       "      <th>18594</th>\n",
       "      <td>fb205f9e3a19ff047cbf571f767ce79d2c24acd8d751d8...</td>\n",
       "      <td>control</td>\n",
       "    </tr>\n",
       "    <tr>\n",
       "      <th>9676211</th>\n",
       "      <td>fb205f9e3a19ff047cbf571f767ce79d2c24acd8d751d8...</td>\n",
       "      <td>test</td>\n",
       "    </tr>\n",
       "    <tr>\n",
       "      <th>30594</th>\n",
       "      <td>fcbdcaa8fe139cb943ddbf56184dde05d63597230e1c97...</td>\n",
       "      <td>control</td>\n",
       "    </tr>\n",
       "    <tr>\n",
       "      <th>16056437</th>\n",
       "      <td>fcbdcaa8fe139cb943ddbf56184dde05d63597230e1c97...</td>\n",
       "      <td>test</td>\n",
       "    </tr>\n",
       "  </tbody>\n",
       "</table>\n",
       "</div>"
      ],
      "text/plain": [
       "                                                      Email    Group\n",
       "95446     1152cb7e6f7bba4aea1a4a9543cefeb4e5f5fccd92a0c5...  control\n",
       "2118993   1152cb7e6f7bba4aea1a4a9543cefeb4e5f5fccd92a0c5...     test\n",
       "15843     12d0aded1a1810dd08e60ea3bb1d0b0d46b1a2c224a1e0...  control\n",
       "14076876  12d0aded1a1810dd08e60ea3bb1d0b0d46b1a2c224a1e0...     test\n",
       "30196     2b5aadd1188c83cfcd23d14e2578a1af92e41a7198ca1f...  control\n",
       "19978211  2b5aadd1188c83cfcd23d14e2578a1af92e41a7198ca1f...     test\n",
       "25126     33c21258cdfeaae52ea857b0af6a72975fb4963ee9f065...  control\n",
       "20562300  33c21258cdfeaae52ea857b0af6a72975fb4963ee9f065...     test\n",
       "85183     3f0373fa1412044927d83a5bd105abc584ee8a423607fc...  control\n",
       "20870886  3f0373fa1412044927d83a5bd105abc584ee8a423607fc...     test\n",
       "11507     4402ca627f1869163ece462532bd44f974f80c51d0c8dd...  control\n",
       "11466462  4402ca627f1869163ece462532bd44f974f80c51d0c8dd...     test\n",
       "10023     50d794aa359942f1706d37cac1215dc624b13abc45b975...  control\n",
       "20925122  50d794aa359942f1706d37cac1215dc624b13abc45b975...     test\n",
       "41303     7d0abaaa0ab532f58f8cd5d47394893ed73a22eb185d22...  control\n",
       "4435661   7d0abaaa0ab532f58f8cd5d47394893ed73a22eb185d22...     test\n",
       "889       867b3c78faf6860cb386795b358b80e2e9dc66fa587e71...  control\n",
       "15194080  867b3c78faf6860cb386795b358b80e2e9dc66fa587e71...     test\n",
       "16847     952f8098b11238ad2bf39b96a3b80d93f9515973835161...  control\n",
       "8203810   952f8098b11238ad2bf39b96a3b80d93f9515973835161...     test\n",
       "12861     9881444aff61ae7f80aa64e102ac1b605eb00b0721f620...  control\n",
       "15010312  9881444aff61ae7f80aa64e102ac1b605eb00b0721f620...     test\n",
       "28958     9a19a44e2c73da182a83c72f1b257ee63a52fa4bb4b4d4...  control\n",
       "18469496  9a19a44e2c73da182a83c72f1b257ee63a52fa4bb4b4d4...     test\n",
       "80143     9e9ee7a65738b02c17563dd34dd680587d0410b0e213e2...  control\n",
       "3516350   9e9ee7a65738b02c17563dd34dd680587d0410b0e213e2...     test\n",
       "21759     9ffa5c0e186cb71cf52a131c2b84d028deda2fc954cffa...  control\n",
       "18657548  9ffa5c0e186cb71cf52a131c2b84d028deda2fc954cffa...     test\n",
       "16606     cc227cd9db26773714bf6f2144719abdb647f90fbce775...  control\n",
       "20885930  cc227cd9db26773714bf6f2144719abdb647f90fbce775...     test\n",
       "79913     d692be9449bb6940fa114d77e5942fae261e176def3026...  control\n",
       "4438880   d692be9449bb6940fa114d77e5942fae261e176def3026...     test\n",
       "22182     e7956b4f1167ae6626c02266db8e7da931c94ad94b0bf2...  control\n",
       "17059013  e7956b4f1167ae6626c02266db8e7da931c94ad94b0bf2...     test\n",
       "16765     eb5cc7896ca68745d57a466889c60198307e4a87641e4b...  control\n",
       "5426532   eb5cc7896ca68745d57a466889c60198307e4a87641e4b...     test\n",
       "77489     f1d05452c81554316589ec3740564d13921712c6216932...  control\n",
       "757133    f1d05452c81554316589ec3740564d13921712c6216932...     test\n",
       "18594     fb205f9e3a19ff047cbf571f767ce79d2c24acd8d751d8...  control\n",
       "9676211   fb205f9e3a19ff047cbf571f767ce79d2c24acd8d751d8...     test\n",
       "30594     fcbdcaa8fe139cb943ddbf56184dde05d63597230e1c97...  control\n",
       "16056437  fcbdcaa8fe139cb943ddbf56184dde05d63597230e1c97...     test"
      ]
     },
     "execution_count": 12,
     "metadata": {},
     "output_type": "execute_result"
    }
   ],
   "source": [
    "df_qc_duplicate=df_email_group.groupby(\"Email\")['Group'].count().to_frame().sort_values(\"Group\",ascending=False)\n",
    "\n",
    "# 2 the max\n",
    "print(df_qc_duplicate[df_qc_duplicate['Group']==2].shape )\n",
    "df_qc_duplicate=df_qc_duplicate.reset_index()\n",
    "Emails_list_21_in_both=df_qc_duplicate[df_qc_duplicate['Group']==2]['Email'].tolist()\n",
    "df_email_group[df_email_group['Email'].isin(Emails_list_21_in_both)].sort_values([\"Email\",\"Group\"])"
   ]
  },
  {
   "cell_type": "code",
   "execution_count": 13,
   "metadata": {},
   "outputs": [
    {
     "name": "stdout",
     "output_type": "stream",
     "text": [
      "2019-12-11 17:20:50.699275 (21505499, 2)\n",
      "2019-12-11 17:22:13.478828 (21505499, 3)\n"
     ]
    }
   ],
   "source": [
    "# The 21 emails are excluded from both test and control\n",
    "\n",
    "del df_qc_duplicate\n",
    "df_email_group=df_email_group[~df_email_group['Email'].isin(Emails_list_21_in_both)]\n",
    "df_email_group=df_email_group.rename(columns={\"Email\":\"email_address_hash\"})\n",
    "\n",
    "print(datetime.datetime.now(),df_FB_id_email_all.shape)\n",
    "df_FB_id_email_all=pd.merge(df_FB_id_email_all,df_email_group,on=\"email_address_hash\",how=\"left\")\n",
    "print(datetime.datetime.now(),df_FB_id_email_all.shape)"
   ]
  },
  {
   "cell_type": "code",
   "execution_count": 14,
   "metadata": {},
   "outputs": [
    {
     "name": "stdout",
     "output_type": "stream",
     "text": [
      "(21505499, 3) 21505499\n"
     ]
    }
   ],
   "source": [
    "print(df_FB_id_email_all.shape,df_FB_id_email_all['customer_id_hashed'].nunique())"
   ]
  },
  {
   "cell_type": "code",
   "execution_count": 15,
   "metadata": {},
   "outputs": [
    {
     "name": "stdout",
     "output_type": "stream",
     "text": [
      "(21505499, 3) 21505499\n",
      "(5535, 1) 5535\n"
     ]
    },
    {
     "name": "stderr",
     "output_type": "stream",
     "text": [
      "/home/jian/.local/lib/python3.6/site-packages/pandas/core/frame.py:7138: FutureWarning: Sorting because non-concatenation axis is not aligned. A future version\n",
      "of pandas will change to not sort by default.\n",
      "\n",
      "To accept the future behavior, pass 'sort=False'.\n",
      "\n",
      "To retain the current behavior and silence the warning, pass 'sort=True'.\n",
      "\n",
      "  sort=sort,\n"
     ]
    },
    {
     "name": "stdout",
     "output_type": "stream",
     "text": [
      "(21506042, 3) 21506042\n"
     ]
    }
   ],
   "source": [
    "print(df_FB_id_email_all.shape,df_FB_id_email_all['customer_id_hashed'].nunique())\n",
    "print(df_click_ids.shape,df_click_ids['customer_id_hashed'].nunique())\n",
    "\n",
    "df_FB_id_email_all=df_FB_id_email_all.append(df_click_ids).drop_duplicates(\"customer_id_hashed\")\n",
    "print(df_FB_id_email_all.shape,df_FB_id_email_all['customer_id_hashed'].nunique())"
   ]
  },
  {
   "cell_type": "code",
   "execution_count": 16,
   "metadata": {},
   "outputs": [
    {
     "data": {
      "text/html": [
       "<div>\n",
       "<style scoped>\n",
       "    .dataframe tbody tr th:only-of-type {\n",
       "        vertical-align: middle;\n",
       "    }\n",
       "\n",
       "    .dataframe tbody tr th {\n",
       "        vertical-align: top;\n",
       "    }\n",
       "\n",
       "    .dataframe thead th {\n",
       "        text-align: right;\n",
       "    }\n",
       "</style>\n",
       "<table border=\"1\" class=\"dataframe\">\n",
       "  <thead>\n",
       "    <tr style=\"text-align: right;\">\n",
       "      <th></th>\n",
       "      <th>Group</th>\n",
       "      <th>customer_id_hashed</th>\n",
       "      <th>email_address_hash</th>\n",
       "    </tr>\n",
       "  </thead>\n",
       "  <tbody>\n",
       "    <tr>\n",
       "      <th>5487</th>\n",
       "      <td>NaN</td>\n",
       "      <td>7bb07312e88de27dfb4478c91d33395fc638adf08a18d6...</td>\n",
       "      <td>NaN</td>\n",
       "    </tr>\n",
       "    <tr>\n",
       "      <th>5491</th>\n",
       "      <td>NaN</td>\n",
       "      <td>25e8136036baf51fa2d85723229369e39786e4f4ec330c...</td>\n",
       "      <td>NaN</td>\n",
       "    </tr>\n",
       "    <tr>\n",
       "      <th>5510</th>\n",
       "      <td>NaN</td>\n",
       "      <td>bca637cff5a94103cde1759a9bf0552dd8393ec2e81ce7...</td>\n",
       "      <td>NaN</td>\n",
       "    </tr>\n",
       "    <tr>\n",
       "      <th>5513</th>\n",
       "      <td>NaN</td>\n",
       "      <td>2a811da19f54ff37a19d0261fd4035f011cb1f83ba9621...</td>\n",
       "      <td>NaN</td>\n",
       "    </tr>\n",
       "    <tr>\n",
       "      <th>5514</th>\n",
       "      <td>NaN</td>\n",
       "      <td>ff507b616b8441b7740a90fe476538114241b4a935cfd4...</td>\n",
       "      <td>NaN</td>\n",
       "    </tr>\n",
       "  </tbody>\n",
       "</table>\n",
       "</div>"
      ],
      "text/plain": [
       "     Group                                 customer_id_hashed  \\\n",
       "5487   NaN  7bb07312e88de27dfb4478c91d33395fc638adf08a18d6...   \n",
       "5491   NaN  25e8136036baf51fa2d85723229369e39786e4f4ec330c...   \n",
       "5510   NaN  bca637cff5a94103cde1759a9bf0552dd8393ec2e81ce7...   \n",
       "5513   NaN  2a811da19f54ff37a19d0261fd4035f011cb1f83ba9621...   \n",
       "5514   NaN  ff507b616b8441b7740a90fe476538114241b4a935cfd4...   \n",
       "\n",
       "     email_address_hash  \n",
       "5487                NaN  \n",
       "5491                NaN  \n",
       "5510                NaN  \n",
       "5513                NaN  \n",
       "5514                NaN  "
      ]
     },
     "execution_count": 16,
     "metadata": {},
     "output_type": "execute_result"
    }
   ],
   "source": [
    "df_FB_id_email_all.tail(5)"
   ]
  },
  {
   "cell_type": "code",
   "execution_count": 17,
   "metadata": {},
   "outputs": [
    {
     "data": {
      "text/plain": [
       "(543, 3)"
      ]
     },
     "execution_count": 17,
     "metadata": {},
     "output_type": "execute_result"
    }
   ],
   "source": [
    "df_FB_id_email_all[pd.isnull(df_FB_id_email_all['email_address_hash'])].shape\n",
    "\n",
    "# BL matched ids that not in the uploaded facebook audiences"
   ]
  },
  {
   "cell_type": "code",
   "execution_count": 18,
   "metadata": {
    "collapsed": true
   },
   "outputs": [],
   "source": [
    "df_FB_id_email_all['Group']=df_FB_id_email_all['Group'].fillna(\"clicker_not_uploaded\")\n",
    "df_FB_id_email_all['email_address_hash']=df_FB_id_email_all['email_address_hash'].fillna(\"nan\")"
   ]
  },
  {
   "cell_type": "code",
   "execution_count": 19,
   "metadata": {
    "collapsed": true
   },
   "outputs": [],
   "source": [
    "list_redeamer_id=df_redeemers['hashed_customer_num'].tolist()\n",
    "list_redeamer_email=df_redeemers['hashed_email_address'].tolist()\n",
    "df_FB_id_email_all['redemption']=np.where((df_FB_id_email_all['customer_id_hashed'].isin(list_redeamer_id) | df_FB_id_email_all['email_address_hash'].isin(list_redeamer_id)),\"redeemers\",\"others\" )"
   ]
  },
  {
   "cell_type": "code",
   "execution_count": 20,
   "metadata": {},
   "outputs": [
    {
     "data": {
      "text/plain": [
       "(21506042, 4)"
      ]
     },
     "execution_count": 20,
     "metadata": {},
     "output_type": "execute_result"
    }
   ],
   "source": [
    "df_FB_id_email_all.shape"
   ]
  },
  {
   "cell_type": "code",
   "execution_count": 21,
   "metadata": {},
   "outputs": [
    {
     "name": "stderr",
     "output_type": "stream",
     "text": [
      "/home/jian/.local/lib/python3.6/site-packages/pandas/core/frame.py:7138: FutureWarning: Sorting because non-concatenation axis is not aligned. A future version\n",
      "of pandas will change to not sort by default.\n",
      "\n",
      "To accept the future behavior, pass 'sort=False'.\n",
      "\n",
      "To retain the current behavior and silence the warning, pass 'sort=True'.\n",
      "\n",
      "  sort=sort,\n"
     ]
    }
   ],
   "source": [
    "df_redeemers_others=df_redeemers[~df_redeemers['hashed_customer_num'].isin(df_FB_id_email_all['customer_id_hashed'].tolist())]\n",
    "df_redeemers_others=df_redeemers_others[~df_redeemers_others['hashed_email_address'].isin(df_FB_id_email_all['email_address_hash'].tolist())]\n",
    "df_redeemers_others['Group']=\"redeemers_not_uploaded\"\n",
    "df_redeemers_others['redemption']=\"redeemers\"\n",
    "\n",
    "df_redeemers_others=df_redeemers_others.rename(columns={\"hashed_customer_num\":\"customer_id_hashed\",\"hashed_email_address\":\"email_address_hash\"})\n",
    "df_FB_id_email_all=df_FB_id_email_all.append(df_redeemers_others)"
   ]
  },
  {
   "cell_type": "code",
   "execution_count": 22,
   "metadata": {},
   "outputs": [
    {
     "data": {
      "text/plain": [
       "(21527626, 4)"
      ]
     },
     "execution_count": 22,
     "metadata": {},
     "output_type": "execute_result"
    }
   ],
   "source": [
    "df_FB_id_email_all.shape"
   ]
  },
  {
   "cell_type": "code",
   "execution_count": 23,
   "metadata": {},
   "outputs": [
    {
     "data": {
      "text/html": [
       "<div>\n",
       "<style scoped>\n",
       "    .dataframe tbody tr th:only-of-type {\n",
       "        vertical-align: middle;\n",
       "    }\n",
       "\n",
       "    .dataframe tbody tr th {\n",
       "        vertical-align: top;\n",
       "    }\n",
       "\n",
       "    .dataframe thead th {\n",
       "        text-align: right;\n",
       "    }\n",
       "</style>\n",
       "<table border=\"1\" class=\"dataframe\">\n",
       "  <thead>\n",
       "    <tr style=\"text-align: right;\">\n",
       "      <th></th>\n",
       "      <th>Group</th>\n",
       "      <th>customer_id_hashed</th>\n",
       "      <th>email_address_hash</th>\n",
       "      <th>redemption</th>\n",
       "    </tr>\n",
       "  </thead>\n",
       "  <tbody>\n",
       "    <tr>\n",
       "      <th>0</th>\n",
       "      <td>test</td>\n",
       "      <td>9b7f9a1ba51dbae2a393c273ce8c9aa9bf610dc03410fd...</td>\n",
       "      <td>089bc373eda16a771e023d87ee368fb961c4ff9b36c7d6...</td>\n",
       "      <td>others</td>\n",
       "    </tr>\n",
       "    <tr>\n",
       "      <th>1</th>\n",
       "      <td>test</td>\n",
       "      <td>c2c5bd862113c4e77c918dd22a25744f2e1224ea63b166...</td>\n",
       "      <td>065edf59d0ed26bea352be5f44fd7a6f688a0fa28cddb3...</td>\n",
       "      <td>others</td>\n",
       "    </tr>\n",
       "  </tbody>\n",
       "</table>\n",
       "</div>"
      ],
      "text/plain": [
       "  Group                                 customer_id_hashed  \\\n",
       "0  test  9b7f9a1ba51dbae2a393c273ce8c9aa9bf610dc03410fd...   \n",
       "1  test  c2c5bd862113c4e77c918dd22a25744f2e1224ea63b166...   \n",
       "\n",
       "                                  email_address_hash redemption  \n",
       "0  089bc373eda16a771e023d87ee368fb961c4ff9b36c7d6...     others  \n",
       "1  065edf59d0ed26bea352be5f44fd7a6f688a0fa28cddb3...     others  "
      ]
     },
     "execution_count": 23,
     "metadata": {},
     "output_type": "execute_result"
    }
   ],
   "source": [
    "df_FB_id_email_all.head(2)"
   ]
  },
  {
   "cell_type": "code",
   "execution_count": 24,
   "metadata": {},
   "outputs": [
    {
     "name": "stdout",
     "output_type": "stream",
     "text": [
      "(21527626, 4) 21527626 21524914\n"
     ]
    }
   ],
   "source": [
    "# del df_FB_id_email_all['hashed_customer_num']\n",
    "# del df_FB_id_email_all['hashed_email_address']\n",
    "gc.collect()\n",
    "\n",
    "print(df_FB_id_email_all.shape,df_FB_id_email_all['customer_id_hashed'].nunique(),df_FB_id_email_all['email_address_hash'].nunique())\n"
   ]
  },
  {
   "cell_type": "code",
   "execution_count": 25,
   "metadata": {},
   "outputs": [
    {
     "data": {
      "text/plain": [
       "(21527626, 4)"
      ]
     },
     "execution_count": 25,
     "metadata": {},
     "output_type": "execute_result"
    }
   ],
   "source": [
    "df_FB_id_email_all=df_FB_id_email_all.drop_duplicates()\n",
    "df_FB_id_email_all.shape"
   ]
  },
  {
   "cell_type": "code",
   "execution_count": 26,
   "metadata": {},
   "outputs": [
    {
     "data": {
      "text/html": [
       "<div>\n",
       "<style scoped>\n",
       "    .dataframe tbody tr th:only-of-type {\n",
       "        vertical-align: middle;\n",
       "    }\n",
       "\n",
       "    .dataframe tbody tr th {\n",
       "        vertical-align: top;\n",
       "    }\n",
       "\n",
       "    .dataframe thead th {\n",
       "        text-align: right;\n",
       "    }\n",
       "</style>\n",
       "<table border=\"1\" class=\"dataframe\">\n",
       "  <thead>\n",
       "    <tr style=\"text-align: right;\">\n",
       "      <th></th>\n",
       "      <th>Group</th>\n",
       "      <th>customer_id_hashed</th>\n",
       "      <th>email_address_hash</th>\n",
       "      <th>redemption</th>\n",
       "    </tr>\n",
       "  </thead>\n",
       "  <tbody>\n",
       "    <tr>\n",
       "      <th>0</th>\n",
       "      <td>test</td>\n",
       "      <td>9b7f9a1ba51dbae2a393c273ce8c9aa9bf610dc03410fd...</td>\n",
       "      <td>089bc373eda16a771e023d87ee368fb961c4ff9b36c7d6...</td>\n",
       "      <td>others</td>\n",
       "    </tr>\n",
       "    <tr>\n",
       "      <th>1</th>\n",
       "      <td>test</td>\n",
       "      <td>c2c5bd862113c4e77c918dd22a25744f2e1224ea63b166...</td>\n",
       "      <td>065edf59d0ed26bea352be5f44fd7a6f688a0fa28cddb3...</td>\n",
       "      <td>others</td>\n",
       "    </tr>\n",
       "    <tr>\n",
       "      <th>2</th>\n",
       "      <td>test</td>\n",
       "      <td>d1d5e857a51c2d795f07f08d600c1fda1eeb85388d02ef...</td>\n",
       "      <td>310e51ebfe35397b827828c4fe40faf4f9b0336aecf2f7...</td>\n",
       "      <td>others</td>\n",
       "    </tr>\n",
       "    <tr>\n",
       "      <th>3</th>\n",
       "      <td>test</td>\n",
       "      <td>a5879872bfdf0b1ced681739a58dec90b19cd96b21456d...</td>\n",
       "      <td>790b7ad5b7d7c1ecfb974a6174e1e814be93ab26f4e459...</td>\n",
       "      <td>others</td>\n",
       "    </tr>\n",
       "    <tr>\n",
       "      <th>4</th>\n",
       "      <td>test</td>\n",
       "      <td>b9792370f5f7e061b85bfa1bc0fbcdd7c0d7b83ce153b8...</td>\n",
       "      <td>25ec4dd616563a3a675c500bedf4a590dfe43d27b636e3...</td>\n",
       "      <td>others</td>\n",
       "    </tr>\n",
       "  </tbody>\n",
       "</table>\n",
       "</div>"
      ],
      "text/plain": [
       "  Group                                 customer_id_hashed  \\\n",
       "0  test  9b7f9a1ba51dbae2a393c273ce8c9aa9bf610dc03410fd...   \n",
       "1  test  c2c5bd862113c4e77c918dd22a25744f2e1224ea63b166...   \n",
       "2  test  d1d5e857a51c2d795f07f08d600c1fda1eeb85388d02ef...   \n",
       "3  test  a5879872bfdf0b1ced681739a58dec90b19cd96b21456d...   \n",
       "4  test  b9792370f5f7e061b85bfa1bc0fbcdd7c0d7b83ce153b8...   \n",
       "\n",
       "                                  email_address_hash redemption  \n",
       "0  089bc373eda16a771e023d87ee368fb961c4ff9b36c7d6...     others  \n",
       "1  065edf59d0ed26bea352be5f44fd7a6f688a0fa28cddb3...     others  \n",
       "2  310e51ebfe35397b827828c4fe40faf4f9b0336aecf2f7...     others  \n",
       "3  790b7ad5b7d7c1ecfb974a6174e1e814be93ab26f4e459...     others  \n",
       "4  25ec4dd616563a3a675c500bedf4a590dfe43d27b636e3...     others  "
      ]
     },
     "execution_count": 26,
     "metadata": {},
     "output_type": "execute_result"
    }
   ],
   "source": [
    "df_FB_id_email_all.head(5)"
   ]
  },
  {
   "cell_type": "code",
   "execution_count": 27,
   "metadata": {
    "collapsed": true
   },
   "outputs": [],
   "source": [
    "# Add clicker col\n",
    "df_FB_id_email_all['FB_clicker']=np.where(df_FB_id_email_all['customer_id_hashed'].isin(list_customer_ids_clickers),\"clickers\",\"non_clickers\")\n"
   ]
  },
  {
   "cell_type": "code",
   "execution_count": 28,
   "metadata": {},
   "outputs": [
    {
     "data": {
      "text/plain": [
       "(262852, 5)"
      ]
     },
     "execution_count": 28,
     "metadata": {},
     "output_type": "execute_result"
    }
   ],
   "source": [
    "df_test=df_FB_id_email_all[df_FB_id_email_all['redemption']==\"redeemers\"]\n",
    "df_test.shape"
   ]
  },
  {
   "cell_type": "code",
   "execution_count": 29,
   "metadata": {},
   "outputs": [
    {
     "name": "stdout",
     "output_type": "stream",
     "text": [
      "(2771375, 2) 2771375 2771350\n"
     ]
    }
   ],
   "source": [
    "# unsubsribers \n",
    "df_unsub_emails=pd.read_csv(\"/home/jian/BigLots/unsubscribe/Unsub_JH_Final20191105Hashed.zip\",\n",
    "                              compression=\"zip\",dtype=str)\n",
    "list_unsub_emails=df_unsub_emails['hashed_email_address'].unique().tolist()\n",
    "list_unsub_ids=df_unsub_emails['hashed_customer_num'].unique().tolist()\n",
    "\n",
    "print(df_unsub_emails.shape,len(list_unsub_ids),len(list_unsub_emails))\n",
    "\n"
   ]
  },
  {
   "cell_type": "code",
   "execution_count": null,
   "metadata": {
    "collapsed": true
   },
   "outputs": [],
   "source": [
    "df_FB_id_email_all['unsubscription']=np.where((df_FB_id_email_all['customer_id_hashed'].isin(list_unsub_ids) | df_FB_id_email_all['email_address_hash'].isin(list_unsub_emails)),\"unsubscribed\",\"default_subscribed\")\n"
   ]
  },
  {
   "cell_type": "code",
   "execution_count": null,
   "metadata": {},
   "outputs": [
    {
     "name": "stdout",
     "output_type": "stream",
     "text": [
      "2019-12-11 17:30:15.780197 (1409778, 6)\n"
     ]
    }
   ],
   "source": [
    "# Sales\n",
    "\n",
    "# POS data range\n",
    "file_week_1=\"/home/jian/BigLots/2019_by_weeks/MediaStorm_2019-10-26/MediaStormDailySales20191029-111155-920.txt\"\n",
    "file_week_2=\"/home/jian/BigLots/2019_by_weeks/MediaStorm_2019-11-02/MediaStormDailySales20191105-111212-139.txt\"\n",
    "file_week_3=\"/home/jian/BigLots/2019_by_weeks/MediaStorm_2019-11-09/MediaStormDailySales20191112-115210-002.txt\"\n",
    "\n",
    "POS_file_list=[file_week_1,file_week_2,file_week_3]\n",
    "\n",
    "df_POS_all=pd.DataFrame()\n",
    "\n",
    "for file in POS_file_list:\n",
    "    df=pd.read_table(file,dtype=str,sep=\"|\")\n",
    "    df=df[pd.notnull(df['customer_id_hashed'])]\n",
    "    df['item_transaction_amt']=df['item_transaction_amt'].astype(float)\n",
    "    df['sales_instore']=np.where(df['location_id']!=\"6990\",df['item_transaction_amt'],0)\n",
    "    df['sales_online']=np.where(df['location_id']==\"6990\",df['item_transaction_amt'],0)\n",
    "    \n",
    "    df_trans=df[['location_id','transaction_dt','transaction_id','customer_id_hashed']].drop_duplicates()\n",
    "    df_trans['trans_instore']=np.where(df_trans['location_id']!=\"6990\",1,0)\n",
    "    df_trans['trans_online']=np.where(df_trans['location_id']==\"6990\",1,0)\n",
    "    \n",
    "    df_trans=df_trans.groupby([\"customer_id_hashed\",\"transaction_dt\"])['trans_instore','trans_online'].sum().reset_index()\n",
    "    \n",
    "    df_sales=df.groupby([\"customer_id_hashed\",\"transaction_dt\"])['sales_instore','sales_online'].sum().reset_index()\n",
    "    \n",
    "    df=pd.merge(df_sales,df_trans,on=[\"customer_id_hashed\",\"transaction_dt\"],how=\"outer\")\n",
    "    df_POS_all=df_POS_all.append(df)\n",
    "    print(datetime.datetime.now(),df_POS_all.shape)\n",
    "    \n",
    "df_POS_all.shape\n",
    "# earlier version doesn't devide the online vs instore"
   ]
  },
  {
   "cell_type": "code",
   "execution_count": null,
   "metadata": {
    "collapsed": true
   },
   "outputs": [],
   "source": [
    "df_FB_id_email_all=df_FB_id_email_all[['customer_id_hashed','email_address_hash','Group','redemption','unsubscription','FB_clicker']]"
   ]
  },
  {
   "cell_type": "code",
   "execution_count": null,
   "metadata": {},
   "outputs": [],
   "source": [
    "df_FB_id_email_all.head(4)"
   ]
  },
  {
   "cell_type": "code",
   "execution_count": null,
   "metadata": {
    "collapsed": true
   },
   "outputs": [],
   "source": [
    "P1_range=[\"2019-10-21\",\"2019-11-02\"]\n",
    "P2_range=[\"2019-11-03\",\"2019-11-07\"]"
   ]
  },
  {
   "cell_type": "code",
   "execution_count": null,
   "metadata": {},
   "outputs": [],
   "source": [
    "print(df_POS_all['transaction_dt'].min(),df_POS_all['transaction_dt'].max())\n",
    "print(df_FB_id_email_all.shape)\n",
    "df_FB_id_email_all.head(2)"
   ]
  },
  {
   "cell_type": "code",
   "execution_count": null,
   "metadata": {},
   "outputs": [],
   "source": [
    "df_FB_id_email_all.shape, df_FB_id_email_all['customer_id_hashed'].nunique()"
   ]
  },
  {
   "cell_type": "code",
   "execution_count": null,
   "metadata": {},
   "outputs": [],
   "source": [
    "# left merge into the POS\n",
    "df_POS_all=pd.merge(df_POS_all,df_FB_id_email_all,on=\"customer_id_hashed\",how=\"left\")\n",
    "print(df_POS_all.shape)\n",
    "df_POS_all.head(2)"
   ]
  },
  {
   "cell_type": "code",
   "execution_count": null,
   "metadata": {
    "collapsed": true
   },
   "outputs": [],
   "source": [
    "df_POS_all['Period']=np.where(((df_POS_all['transaction_dt']>=P1_range[0]) & (df_POS_all['transaction_dt']<=P1_range[1])),\"P1: 10/21-11/2\",\n",
    "                              np.where(((df_POS_all['transaction_dt']>=P2_range[0]) & (df_POS_all['transaction_dt']<=P2_range[1])),\"P2: 11/3-11/7\",\"Others\")\n",
    "                             )"
   ]
  },
  {
   "cell_type": "code",
   "execution_count": null,
   "metadata": {
    "collapsed": true
   },
   "outputs": [],
   "source": [
    "df_POS_all.to_csv(\"./BL_df_detail_3_weeks_POS_instore_and_online_with_redeemers_subscribe_FBclicker_JL_\"+str(datetime.datetime.now().date())+\".csv\",index=\"False\")\n",
    "\n"
   ]
  },
  {
   "cell_type": "code",
   "execution_count": null,
   "metadata": {
    "collapsed": true
   },
   "outputs": [],
   "source": [
    "# Changed back to count customer_id (not email) because the 543 clickers"
   ]
  },
  {
   "cell_type": "code",
   "execution_count": null,
   "metadata": {},
   "outputs": [],
   "source": [
    "agg_func={\"customer_id_hashed\":\"nunique\",\"sales_instore\":\"sum\",\"sales_online\":\"sum\",\"trans_instore\":\"sum\",\"trans_online\":\"sum\"}\n",
    "df_summary=df_POS_all.groupby([\"Group\",\"Period\",\"redemption\",\"unsubscription\",\"FB_clicker\"]).agg(agg_func).reset_index()\n",
    "df_summary.shape"
   ]
  },
  {
   "cell_type": "code",
   "execution_count": null,
   "metadata": {},
   "outputs": [],
   "source": [
    "df_total_id=df_FB_id_email_all.groupby([\"Group\",\"redemption\",\"unsubscription\",\"FB_clicker\"])['customer_id_hashed'].nunique().to_frame().reset_index()\n",
    "df_total_id"
   ]
  },
  {
   "cell_type": "code",
   "execution_count": null,
   "metadata": {},
   "outputs": [],
   "source": [
    "df_unique_shoppers_both_periods=df_POS_all[df_POS_all['Period']!=\"Others\"]\n",
    "df_unique_shoppers_both_periods=df_unique_shoppers_both_periods.groupby([\"Group\",\"redemption\",\"unsubscription\",\"FB_clicker\"])['customer_id_hashed'].nunique().to_frame().reset_index()\n",
    "df_unique_shoppers_both_periods.shape"
   ]
  },
  {
   "cell_type": "code",
   "execution_count": null,
   "metadata": {
    "collapsed": true
   },
   "outputs": [],
   "source": [
    "writer=pd.ExcelWriter(\"./BL_output_FB_offer_result_by_store_type_redemption_unsubscription_clickers_JL_\"+str(datetime.datetime.now().date())+\".xlsx\",engine=\"xlsxwriter\")\n",
    "df_summary.to_excel(writer,\"performance\",index=False)\n",
    "df_total_id.to_excel(writer,\"total_id\",index=False)\n",
    "df_unique_shoppers_both_periods.to_excel(writer,\"total_shoppers_both_P\",index=False)\n",
    "writer.save()"
   ]
  },
  {
   "cell_type": "code",
   "execution_count": null,
   "metadata": {
    "collapsed": true
   },
   "outputs": [],
   "source": []
  },
  {
   "cell_type": "code",
   "execution_count": null,
   "metadata": {
    "collapsed": true
   },
   "outputs": [],
   "source": []
  },
  {
   "cell_type": "code",
   "execution_count": null,
   "metadata": {
    "collapsed": true
   },
   "outputs": [],
   "source": []
  },
  {
   "cell_type": "code",
   "execution_count": null,
   "metadata": {
    "collapsed": true
   },
   "outputs": [],
   "source": []
  },
  {
   "cell_type": "code",
   "execution_count": null,
   "metadata": {
    "collapsed": true
   },
   "outputs": [],
   "source": []
  },
  {
   "cell_type": "code",
   "execution_count": null,
   "metadata": {
    "collapsed": true
   },
   "outputs": [],
   "source": []
  }
 ],
 "metadata": {
  "kernelspec": {
   "display_name": "Python 3",
   "language": "python",
   "name": "python3"
  },
  "language_info": {
   "codemirror_mode": {
    "name": "ipython",
    "version": 3
   },
   "file_extension": ".py",
   "mimetype": "text/x-python",
   "name": "python",
   "nbconvert_exporter": "python",
   "pygments_lexer": "ipython3",
   "version": "3.6.1"
  }
 },
 "nbformat": 4,
 "nbformat_minor": 2
}
