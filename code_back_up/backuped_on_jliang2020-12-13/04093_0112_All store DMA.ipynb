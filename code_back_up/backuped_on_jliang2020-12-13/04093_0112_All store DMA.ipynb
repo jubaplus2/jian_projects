{
 "cells": [
  {
   "cell_type": "code",
   "execution_count": 1,
   "metadata": {},
   "outputs": [
    {
     "data": {
      "text/plain": [
       "'/home/jian/BigLots/static_files/Store_list'"
      ]
     },
     "execution_count": 1,
     "metadata": {},
     "output_type": "execute_result"
    }
   ],
   "source": [
    "import pandas as pd\n",
    "import numpy as np\n",
    "import datetime\n",
    "import os\n",
    "os.getcwd()"
   ]
  },
  {
   "cell_type": "code",
   "execution_count": 2,
   "metadata": {
    "collapsed": true
   },
   "outputs": [],
   "source": [
    "store_list_1=pd.read_table(\"/home/jian/BigLots/static_files/Store_list/MediaStormStores20181101-134628-331.txt\",dtype=str,sep=\"|\")\n",
    "store_list_1=store_list_1[['location_id','zip_cd']].drop_duplicates()\n",
    "\n",
    "store_list_2=pd.read_table(\"/home/jian/BigLots/static_files/Store_list/MediaStormStores20181001-135417-132.txt\",dtype=str,sep=\"|\")\n",
    "store_list_2=store_list_2[['location_id','zip_cd']].drop_duplicates()\n",
    "store_list_2=store_list_2[~store_list_2['location_id'].isin(store_list_1['location_id'])]\n",
    "store_list_1=store_list_1.append(store_list_2)\n",
    "\n",
    "store_list_2=pd.read_table(\"/home/jian/BigLots/static_files/Store_list/MediaStormStores20180901-133640-935.txt\",dtype=str,sep=\"|\")\n",
    "store_list_2=store_list_2[['location_id','zip_cd']].drop_duplicates()\n",
    "store_list_2=store_list_2[~store_list_2['location_id'].isin(store_list_1['location_id'])]\n",
    "store_list_1=store_list_1.append(store_list_2)\n",
    "\n",
    "store_list_2=pd.read_table(\"/home/jian/BigLots/static_files/Store_list/MediaStormStores20180801-133641-576.txt\",dtype=str,sep=\"|\")\n",
    "store_list_2=store_list_2[['location_id','zip_cd']].drop_duplicates()\n",
    "store_list_2=store_list_2[~store_list_2['location_id'].isin(store_list_1['location_id'])]\n",
    "store_list_1=store_list_1.append(store_list_2)\n",
    "\n",
    "store_list_2=pd.read_table(\"/home/jian/BigLots/static_files/Store_list/MediaStormStores20180703.txt\",dtype=str,sep=\"|\")\n",
    "store_list_2=store_list_2[['location_id','zip_cd']].drop_duplicates()\n",
    "store_list_2=store_list_2[~store_list_2['location_id'].isin(store_list_1['location_id'])]\n",
    "store_list_1=store_list_1.append(store_list_2)\n",
    "\n",
    "store_list_2=pd.read_table(\"/home/jian/BigLots/static_files/Store_list/MediaStormStores20171115.txt\",dtype=str,sep=\"|\")\n",
    "store_list_2=store_list_2[['location_id','zip_cd']].drop_duplicates()\n",
    "store_list_2=store_list_2[~store_list_2['location_id'].isin(store_list_1['location_id'])]\n",
    "store_list_1=store_list_1.append(store_list_2)\n",
    "\n",
    "store_list_2=pd.read_table(\"/home/jian/BigLots/static_files/Store_list/MediaStormStores20170913.txt\",dtype=str,sep=\"|\")\n",
    "store_list_2=store_list_2[['location_id','zip_cd']].drop_duplicates()\n",
    "store_list_2=store_list_2[~store_list_2['location_id'].isin(store_list_1['location_id'])]\n",
    "store_list_1=store_list_1.append(store_list_2)"
   ]
  },
  {
   "cell_type": "code",
   "execution_count": 3,
   "metadata": {
    "collapsed": true
   },
   "outputs": [],
   "source": [
    "store_list_1['zip_cd']=store_list_1['zip_cd'].apply(lambda x: x.split(\"-\")[0].zfill(5))"
   ]
  },
  {
   "cell_type": "code",
   "execution_count": 4,
   "metadata": {
    "collapsed": true
   },
   "outputs": [],
   "source": [
    "DMA_Zip=pd.read_excel(\"/home/jian/Docs/Geo_mapping/Zips by DMA by County16-17 nielsen.xlsx\",dtype=str,skiprows=1)\n",
    "DMA_Zip=DMA_Zip.iloc[:,[0,2]]\n",
    "DMA_Zip.columns=['zip_cd','DMA']\n",
    "DMA_Zip=DMA_Zip.drop_duplicates(['zip_cd'])"
   ]
  },
  {
   "cell_type": "code",
   "execution_count": 5,
   "metadata": {},
   "outputs": [
    {
     "data": {
      "text/plain": [
       "(40812, 2)"
      ]
     },
     "execution_count": 5,
     "metadata": {},
     "output_type": "execute_result"
    }
   ],
   "source": [
    "DMA_Zip.shape"
   ]
  },
  {
   "cell_type": "code",
   "execution_count": 6,
   "metadata": {},
   "outputs": [
    {
     "data": {
      "text/plain": [
       "40812"
      ]
     },
     "execution_count": 6,
     "metadata": {},
     "output_type": "execute_result"
    }
   ],
   "source": [
    "len(DMA_Zip['zip_cd'].unique())"
   ]
  },
  {
   "cell_type": "code",
   "execution_count": 7,
   "metadata": {
    "collapsed": true
   },
   "outputs": [],
   "source": [
    "store_list_1=pd.merge(store_list_1,DMA_Zip,on=\"zip_cd\",how=\"left\")"
   ]
  },
  {
   "cell_type": "code",
   "execution_count": 9,
   "metadata": {},
   "outputs": [],
   "source": [
    "writer=pd.ExcelWriter('/home/jian/BigLots/static_files/Store_list/all_store_dma.xlsx',engine=\"xlsxwriter\")\n",
    "store_list_1.to_excel(writer,\"all_store_dma\",index=False)\n",
    "writer.save()"
   ]
  },
  {
   "cell_type": "code",
   "execution_count": null,
   "metadata": {
    "collapsed": true
   },
   "outputs": [],
   "source": []
  }
 ],
 "metadata": {
  "kernelspec": {
   "display_name": "Python 3",
   "language": "python",
   "name": "python3"
  },
  "language_info": {
   "codemirror_mode": {
    "name": "ipython",
    "version": 3
   },
   "file_extension": ".py",
   "mimetype": "text/x-python",
   "name": "python",
   "nbconvert_exporter": "python",
   "pygments_lexer": "ipython3",
   "version": "3.6.1"
  }
 },
 "nbformat": 4,
 "nbformat_minor": 2
}
