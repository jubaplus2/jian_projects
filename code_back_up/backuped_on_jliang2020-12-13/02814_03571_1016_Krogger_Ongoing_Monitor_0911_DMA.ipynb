{
 "cells": [
  {
   "cell_type": "code",
   "execution_count": 1,
   "metadata": {
    "collapsed": true
   },
   "outputs": [],
   "source": [
    "import pandas as pd\n",
    "import datetime\n",
    "import os\n",
    "import numpy as np"
   ]
  },
  {
   "cell_type": "code",
   "execution_count": 2,
   "metadata": {
    "collapsed": true
   },
   "outputs": [],
   "source": [
    "week_list=['26','27','28','29','30','31']"
   ]
  },
  {
   "cell_type": "code",
   "execution_count": 3,
   "metadata": {
    "collapsed": true
   },
   "outputs": [],
   "source": [
    "Krogger_2017_128=pd.read_csv(\"/home/jian/SunnyD/On_Going_WM_KG/Krogger/data/Kroger - Tangy 128oz Only - FY 2017 - FY 2018 YTD w.e. Aug 3 - Weekly Store w_ Kiosk.csv\",dtype=str,skiprows=8)\n",
    "Krogger_2017_64=pd.read_csv(\"/home/jian/SunnyD/On_Going_WM_KG/Krogger/data/Kroger - Tangy 64oz Only - FY 2017 - FY 2018 YTD w.e. Aug 11 - Weekly Store w_ Kiosk.csv\",dtype=str,skiprows=8)\n",
    "\n",
    "Krogger_2018=pd.read_csv(\"/home/jian/SunnyD/On_Going_WM_KG/Krogger/data/Kroger - Tangy 128oz and 64oz FY 2018 YTD w.e. Sep 8 - Weekly Store w_ Kiosk.csv\",dtype=str,skiprows=8)\n"
   ]
  },
  {
   "cell_type": "code",
   "execution_count": 4,
   "metadata": {
    "collapsed": true
   },
   "outputs": [],
   "source": [
    "def clean_df(df):\n",
    "    df=df[['WEEK_NAME','UPC','SCANNED_RETAIL_DOLLARS','SCANNED_MOVEMENT','STO_NAME','STO_ZIP','STO_ADDRESS','ITM_SCN_PRC_GRP_DESC']]\n",
    "    \n",
    "    df['year']=df['WEEK_NAME'].apply(lambda x: x[:4])\n",
    "    \n",
    "    df['week']=np.where(df['year']=='2017',df['WEEK_NAME'].apply(lambda x: str(int(x[len(x)-3:len(x)-1])-1)),\n",
    "                        df['WEEK_NAME'].apply(lambda x: x[len(x)-3:len(x)-1]))\n",
    "    df['zip_cd']=df['STO_ZIP'].apply(lambda x: x[:5])\n",
    "    df=df[df['week'].isin(week_list)]\n",
    "    df=df.rename(columns={\"SCANNED_RETAIL_DOLLARS\":\"sales\",\"SCANNED_MOVEMENT\":\"units\",\"STO_NAME\":\"store\",\n",
    "                          'STO_ADDRESS':'address',\"ITM_SCN_PRC_GRP_DESC\":\"product\"})\n",
    "    df['sales']=df['sales'].astype(float)\n",
    "    df['units']=df['units'].astype(float)\n",
    "    return df[['store','year','week','zip_cd','address','sales','units','product']]"
   ]
  },
  {
   "cell_type": "code",
   "execution_count": 5,
   "metadata": {},
   "outputs": [
    {
     "name": "stderr",
     "output_type": "stream",
     "text": [
      "/usr/local/lib/python3.6/site-packages/ipykernel_launcher.py:4: SettingWithCopyWarning: \n",
      "A value is trying to be set on a copy of a slice from a DataFrame.\n",
      "Try using .loc[row_indexer,col_indexer] = value instead\n",
      "\n",
      "See the caveats in the documentation: http://pandas.pydata.org/pandas-docs/stable/indexing.html#indexing-view-versus-copy\n",
      "  after removing the cwd from sys.path.\n",
      "/usr/local/lib/python3.6/site-packages/ipykernel_launcher.py:7: SettingWithCopyWarning: \n",
      "A value is trying to be set on a copy of a slice from a DataFrame.\n",
      "Try using .loc[row_indexer,col_indexer] = value instead\n",
      "\n",
      "See the caveats in the documentation: http://pandas.pydata.org/pandas-docs/stable/indexing.html#indexing-view-versus-copy\n",
      "  import sys\n",
      "/usr/local/lib/python3.6/site-packages/ipykernel_launcher.py:8: SettingWithCopyWarning: \n",
      "A value is trying to be set on a copy of a slice from a DataFrame.\n",
      "Try using .loc[row_indexer,col_indexer] = value instead\n",
      "\n",
      "See the caveats in the documentation: http://pandas.pydata.org/pandas-docs/stable/indexing.html#indexing-view-versus-copy\n",
      "  \n"
     ]
    }
   ],
   "source": [
    "Krogger_2017_128=clean_df(Krogger_2017_128)\n",
    "Krogger_2017_64=clean_df(Krogger_2017_64)\n",
    "Krogger_2018=clean_df(Krogger_2018)\n",
    "Krogger_2017_128=Krogger_2017_128[Krogger_2017_128['year']=='2017']\n",
    "Krogger_2017_64=Krogger_2017_64[Krogger_2017_64['year']=='2017']\n",
    "Krogger_2018=Krogger_2018[Krogger_2018['year']=='2018']\n"
   ]
  },
  {
   "cell_type": "code",
   "execution_count": 6,
   "metadata": {},
   "outputs": [
    {
     "data": {
      "text/plain": [
       "(40811, 2)"
      ]
     },
     "execution_count": 6,
     "metadata": {},
     "output_type": "execute_result"
    }
   ],
   "source": [
    "Zip_DMA_mapping=pd.read_excel(\"/home/jian/Docs/Geo_mapping/Zips by DMA by County16-17 nielsen.xlsx\",dtype=str,skiprows=2)\n",
    "Zip_DMA_mapping=Zip_DMA_mapping.iloc[:,[0,2]]\n",
    "Zip_DMA_mapping.columns=['zip_cd','DMA']\n",
    "Zip_DMA_mapping=Zip_DMA_mapping.drop_duplicates('zip_cd')\n",
    "Zip_DMA_mapping.shape"
   ]
  },
  {
   "cell_type": "code",
   "execution_count": 7,
   "metadata": {
    "collapsed": true
   },
   "outputs": [],
   "source": [
    "def func(x):\n",
    "    y=len(list(set(x)))\n",
    "    return y\n",
    "\n",
    "Krogger_both_year=Krogger_2018.append(Krogger_2017_128).append(Krogger_2017_64)\n",
    "Krogger_both_year['store_info']=Krogger_both_year['store']+\"_\"+Krogger_both_year['zip_cd']+\"_\"+Krogger_both_year['address']\n",
    "Krogger_both_year['year_week']=Krogger_both_year['year']+\"_\"+Krogger_both_year['week']\n",
    "sales_available_stores=Krogger_both_year.groupby(['store_info'])['year_week'].agg(func).to_frame().reset_index().rename(columns={\"year_week\":\"weeks_with_sales\"})\n",
    "writer=pd.ExcelWriter(\"/home/jian/SunnyD/On_Going_WM_KG/Krogger/output/Investigate_in_Krogger_RALEIGH_\"+str(datetime.datetime.now().date())+\".xlsx\",engine=\"xlsxwriter\")\n",
    "sales_available_stores.to_excel(writer,\"summary_count_weeks\",index=False)\n",
    "writer.save()\n"
   ]
  },
  {
   "cell_type": "markdown",
   "metadata": {},
   "source": [
    "# Combined Comparison"
   ]
  },
  {
   "cell_type": "code",
   "execution_count": 8,
   "metadata": {},
   "outputs": [
    {
     "data": {
      "text/plain": [
       "(54584, 10)"
      ]
     },
     "execution_count": 8,
     "metadata": {},
     "output_type": "execute_result"
    }
   ],
   "source": [
    "Krogger_both_year=Krogger_2018.append(Krogger_2017_128).append(Krogger_2017_64)\n",
    "Krogger_both_year['store_info']=Krogger_both_year['store']+\"_\"+Krogger_both_year['zip_cd']+\"_\"+Krogger_both_year['address']\n",
    "Krogger_both_year['year_week']=Krogger_both_year['year']+\"_\"+Krogger_both_year['week']\n",
    "Krogger_both_year=Krogger_both_year[Krogger_both_year['sales']>0]\n",
    "Krogger_both_year.shape"
   ]
  },
  {
   "cell_type": "code",
   "execution_count": 9,
   "metadata": {},
   "outputs": [
    {
     "data": {
      "text/plain": [
       "2414"
      ]
     },
     "execution_count": 9,
     "metadata": {},
     "output_type": "execute_result"
    }
   ],
   "source": [
    "len(Krogger_both_year['store_info'].unique())"
   ]
  },
  {
   "cell_type": "code",
   "execution_count": 10,
   "metadata": {
    "collapsed": true
   },
   "outputs": [],
   "source": [
    "def func(x):\n",
    "    y=len(list(set(x)))\n",
    "    return y"
   ]
  },
  {
   "cell_type": "code",
   "execution_count": 11,
   "metadata": {
    "collapsed": true
   },
   "outputs": [],
   "source": [
    "Krogger_both_year_existing=Krogger_both_year.groupby(['store_info'])['year_week'].agg(func).to_frame().reset_index()\n",
    "Krogger_both_year_existing=Krogger_both_year_existing[Krogger_both_year_existing['year_week']==12]['store_info'].unique().tolist()\n",
    "Krogger_both_year=Krogger_both_year[Krogger_both_year['store_info'].isin(Krogger_both_year_existing)]\n",
    "\n"
   ]
  },
  {
   "cell_type": "code",
   "execution_count": 12,
   "metadata": {},
   "outputs": [
    {
     "data": {
      "text/plain": [
       "(52930, 11)"
      ]
     },
     "execution_count": 12,
     "metadata": {},
     "output_type": "execute_result"
    }
   ],
   "source": [
    "Krogger_both_year_compare=Krogger_both_year[Krogger_both_year['week'].isin(week_list)]\n",
    "Krogger_both_year_compare=pd.merge(Krogger_both_year_compare,Zip_DMA_mapping,on='zip_cd',how=\"left\")\n",
    "Krogger_both_year_compare.shape"
   ]
  },
  {
   "cell_type": "code",
   "execution_count": 13,
   "metadata": {},
   "outputs": [
    {
     "data": {
      "text/plain": [
       "array(['26', '27', '28', '29', '30', '31'], dtype=object)"
      ]
     },
     "execution_count": 13,
     "metadata": {},
     "output_type": "execute_result"
    }
   ],
   "source": [
    "Krogger_both_year_compare[(Krogger_both_year_compare['year']=='2017')]['week'].unique()"
   ]
  },
  {
   "cell_type": "code",
   "execution_count": 14,
   "metadata": {
    "collapsed": true
   },
   "outputs": [],
   "source": [
    "DMA_15=['DALLAS-FT. WORTH','LOS ANGELES','ATLANTA','NEW YORK','CHICAGO','HOUSTON','PHOENIX (PRESCOTT)','CHARLOTTE',\n",
    "            'WASHINGTON, DC (HAGRSTWN)','DENVER','PHILADELPHIA','GREENVLL-SPART-ASHEVLL-AND','BOSTON (MANCHESTER)',\n",
    "            'DETROIT','MIAMI-FT. LAUDERDALE']\n",
    "\n",
    "def In_18(x):\n",
    "    if x in DMA_15:\n",
    "        y=\"In_15_Mkts\"\n",
    "    else:\n",
    "        y=\"Other\"\n",
    "    return y\n",
    "Krogger_both_year_compare['15_Mkt_Ind']=Krogger_both_year_compare['DMA'].apply(lambda x: In_18(x))"
   ]
  },
  {
   "cell_type": "code",
   "execution_count": 15,
   "metadata": {
    "collapsed": true
   },
   "outputs": [],
   "source": [
    "df_YoY_compare_summary=Krogger_both_year_compare.groupby(['15_Mkt_Ind','year','week'])['sales','units'].sum().reset_index()\n",
    "df_YoY_compare_summary.to_csv(\"/home/jian/SunnyD/On_Going_WM_KG/Krogger/output/SunnyD_Krogger_DMA_YoY_\"+str(datetime.datetime.now().date())+\".csv\",index=False)"
   ]
  },
  {
   "cell_type": "code",
   "execution_count": 16,
   "metadata": {},
   "outputs": [
    {
     "data": {
      "text/html": [
       "<div>\n",
       "<style>\n",
       "    .dataframe thead tr:only-child th {\n",
       "        text-align: right;\n",
       "    }\n",
       "\n",
       "    .dataframe thead th {\n",
       "        text-align: left;\n",
       "    }\n",
       "\n",
       "    .dataframe tbody tr th {\n",
       "        vertical-align: top;\n",
       "    }\n",
       "</style>\n",
       "<table border=\"1\" class=\"dataframe\">\n",
       "  <thead>\n",
       "    <tr style=\"text-align: right;\">\n",
       "      <th></th>\n",
       "      <th>15_Mkt_Ind</th>\n",
       "      <th>year</th>\n",
       "      <th>week</th>\n",
       "      <th>sales</th>\n",
       "      <th>units</th>\n",
       "    </tr>\n",
       "  </thead>\n",
       "  <tbody>\n",
       "    <tr>\n",
       "      <th>0</th>\n",
       "      <td>In_15_Mkts</td>\n",
       "      <td>2017</td>\n",
       "      <td>26</td>\n",
       "      <td>109507.94</td>\n",
       "      <td>51799.0</td>\n",
       "    </tr>\n",
       "    <tr>\n",
       "      <th>1</th>\n",
       "      <td>In_15_Mkts</td>\n",
       "      <td>2017</td>\n",
       "      <td>27</td>\n",
       "      <td>95697.34</td>\n",
       "      <td>43435.0</td>\n",
       "    </tr>\n",
       "    <tr>\n",
       "      <th>2</th>\n",
       "      <td>In_15_Mkts</td>\n",
       "      <td>2017</td>\n",
       "      <td>28</td>\n",
       "      <td>78909.86</td>\n",
       "      <td>35951.0</td>\n",
       "    </tr>\n",
       "    <tr>\n",
       "      <th>3</th>\n",
       "      <td>In_15_Mkts</td>\n",
       "      <td>2017</td>\n",
       "      <td>29</td>\n",
       "      <td>82344.20</td>\n",
       "      <td>38419.0</td>\n",
       "    </tr>\n",
       "    <tr>\n",
       "      <th>4</th>\n",
       "      <td>In_15_Mkts</td>\n",
       "      <td>2017</td>\n",
       "      <td>30</td>\n",
       "      <td>79179.16</td>\n",
       "      <td>36439.0</td>\n",
       "    </tr>\n",
       "    <tr>\n",
       "      <th>5</th>\n",
       "      <td>In_15_Mkts</td>\n",
       "      <td>2017</td>\n",
       "      <td>31</td>\n",
       "      <td>82270.06</td>\n",
       "      <td>37648.0</td>\n",
       "    </tr>\n",
       "    <tr>\n",
       "      <th>6</th>\n",
       "      <td>In_15_Mkts</td>\n",
       "      <td>2018</td>\n",
       "      <td>26</td>\n",
       "      <td>87022.58</td>\n",
       "      <td>46401.0</td>\n",
       "    </tr>\n",
       "    <tr>\n",
       "      <th>7</th>\n",
       "      <td>In_15_Mkts</td>\n",
       "      <td>2018</td>\n",
       "      <td>27</td>\n",
       "      <td>80481.82</td>\n",
       "      <td>35431.0</td>\n",
       "    </tr>\n",
       "    <tr>\n",
       "      <th>8</th>\n",
       "      <td>In_15_Mkts</td>\n",
       "      <td>2018</td>\n",
       "      <td>28</td>\n",
       "      <td>71876.92</td>\n",
       "      <td>29451.0</td>\n",
       "    </tr>\n",
       "    <tr>\n",
       "      <th>9</th>\n",
       "      <td>In_15_Mkts</td>\n",
       "      <td>2018</td>\n",
       "      <td>29</td>\n",
       "      <td>66317.91</td>\n",
       "      <td>26302.0</td>\n",
       "    </tr>\n",
       "    <tr>\n",
       "      <th>10</th>\n",
       "      <td>In_15_Mkts</td>\n",
       "      <td>2018</td>\n",
       "      <td>30</td>\n",
       "      <td>61563.80</td>\n",
       "      <td>23764.0</td>\n",
       "    </tr>\n",
       "    <tr>\n",
       "      <th>11</th>\n",
       "      <td>In_15_Mkts</td>\n",
       "      <td>2018</td>\n",
       "      <td>31</td>\n",
       "      <td>63868.34</td>\n",
       "      <td>25140.0</td>\n",
       "    </tr>\n",
       "    <tr>\n",
       "      <th>12</th>\n",
       "      <td>Other</td>\n",
       "      <td>2017</td>\n",
       "      <td>26</td>\n",
       "      <td>115796.99</td>\n",
       "      <td>54314.0</td>\n",
       "    </tr>\n",
       "    <tr>\n",
       "      <th>13</th>\n",
       "      <td>Other</td>\n",
       "      <td>2017</td>\n",
       "      <td>27</td>\n",
       "      <td>107428.64</td>\n",
       "      <td>48602.0</td>\n",
       "    </tr>\n",
       "    <tr>\n",
       "      <th>14</th>\n",
       "      <td>Other</td>\n",
       "      <td>2017</td>\n",
       "      <td>28</td>\n",
       "      <td>109617.70</td>\n",
       "      <td>56524.0</td>\n",
       "    </tr>\n",
       "    <tr>\n",
       "      <th>15</th>\n",
       "      <td>Other</td>\n",
       "      <td>2017</td>\n",
       "      <td>29</td>\n",
       "      <td>110385.46</td>\n",
       "      <td>60500.0</td>\n",
       "    </tr>\n",
       "    <tr>\n",
       "      <th>16</th>\n",
       "      <td>Other</td>\n",
       "      <td>2017</td>\n",
       "      <td>30</td>\n",
       "      <td>108408.47</td>\n",
       "      <td>57598.0</td>\n",
       "    </tr>\n",
       "    <tr>\n",
       "      <th>17</th>\n",
       "      <td>Other</td>\n",
       "      <td>2017</td>\n",
       "      <td>31</td>\n",
       "      <td>110727.61</td>\n",
       "      <td>57223.0</td>\n",
       "    </tr>\n",
       "    <tr>\n",
       "      <th>18</th>\n",
       "      <td>Other</td>\n",
       "      <td>2018</td>\n",
       "      <td>26</td>\n",
       "      <td>95034.36</td>\n",
       "      <td>40675.0</td>\n",
       "    </tr>\n",
       "    <tr>\n",
       "      <th>19</th>\n",
       "      <td>Other</td>\n",
       "      <td>2018</td>\n",
       "      <td>27</td>\n",
       "      <td>98633.81</td>\n",
       "      <td>39372.0</td>\n",
       "    </tr>\n",
       "    <tr>\n",
       "      <th>20</th>\n",
       "      <td>Other</td>\n",
       "      <td>2018</td>\n",
       "      <td>28</td>\n",
       "      <td>94447.95</td>\n",
       "      <td>37030.0</td>\n",
       "    </tr>\n",
       "    <tr>\n",
       "      <th>21</th>\n",
       "      <td>Other</td>\n",
       "      <td>2018</td>\n",
       "      <td>29</td>\n",
       "      <td>85546.63</td>\n",
       "      <td>32791.0</td>\n",
       "    </tr>\n",
       "    <tr>\n",
       "      <th>22</th>\n",
       "      <td>Other</td>\n",
       "      <td>2018</td>\n",
       "      <td>30</td>\n",
       "      <td>84537.01</td>\n",
       "      <td>31611.0</td>\n",
       "    </tr>\n",
       "    <tr>\n",
       "      <th>23</th>\n",
       "      <td>Other</td>\n",
       "      <td>2018</td>\n",
       "      <td>31</td>\n",
       "      <td>92784.71</td>\n",
       "      <td>35029.0</td>\n",
       "    </tr>\n",
       "  </tbody>\n",
       "</table>\n",
       "</div>"
      ],
      "text/plain": [
       "    15_Mkt_Ind  year week      sales    units\n",
       "0   In_15_Mkts  2017   26  109507.94  51799.0\n",
       "1   In_15_Mkts  2017   27   95697.34  43435.0\n",
       "2   In_15_Mkts  2017   28   78909.86  35951.0\n",
       "3   In_15_Mkts  2017   29   82344.20  38419.0\n",
       "4   In_15_Mkts  2017   30   79179.16  36439.0\n",
       "5   In_15_Mkts  2017   31   82270.06  37648.0\n",
       "6   In_15_Mkts  2018   26   87022.58  46401.0\n",
       "7   In_15_Mkts  2018   27   80481.82  35431.0\n",
       "8   In_15_Mkts  2018   28   71876.92  29451.0\n",
       "9   In_15_Mkts  2018   29   66317.91  26302.0\n",
       "10  In_15_Mkts  2018   30   61563.80  23764.0\n",
       "11  In_15_Mkts  2018   31   63868.34  25140.0\n",
       "12       Other  2017   26  115796.99  54314.0\n",
       "13       Other  2017   27  107428.64  48602.0\n",
       "14       Other  2017   28  109617.70  56524.0\n",
       "15       Other  2017   29  110385.46  60500.0\n",
       "16       Other  2017   30  108408.47  57598.0\n",
       "17       Other  2017   31  110727.61  57223.0\n",
       "18       Other  2018   26   95034.36  40675.0\n",
       "19       Other  2018   27   98633.81  39372.0\n",
       "20       Other  2018   28   94447.95  37030.0\n",
       "21       Other  2018   29   85546.63  32791.0\n",
       "22       Other  2018   30   84537.01  31611.0\n",
       "23       Other  2018   31   92784.71  35029.0"
      ]
     },
     "execution_count": 16,
     "metadata": {},
     "output_type": "execute_result"
    }
   ],
   "source": [
    "df_YoY_compare_summary"
   ]
  },
  {
   "cell_type": "markdown",
   "metadata": {},
   "source": [
    "# 64, 128 respectively comparison"
   ]
  },
  {
   "cell_type": "code",
   "execution_count": 17,
   "metadata": {
    "collapsed": true
   },
   "outputs": [],
   "source": [
    "Krogger_both_year_64=Krogger_both_year[Krogger_both_year['product']==\"Sunny D 64 FO\"]\n",
    "Krogger_both_year_existing_64=Krogger_both_year_64.groupby(['store_info'])['year_week'].agg(func).to_frame().reset_index()\n",
    "Krogger_both_year_existing_64=Krogger_both_year_existing_64[Krogger_both_year_existing_64['year_week']==12]['store_info'].unique().tolist()\n",
    "Krogger_both_year_64=Krogger_both_year_64[Krogger_both_year_64['store_info'].isin(Krogger_both_year_existing_64)]\n",
    "Krogger_both_year_compare_64=Krogger_both_year_64[Krogger_both_year_64['week'].isin(week_list)]\n",
    "Krogger_both_year_compare_64=pd.merge(Krogger_both_year_compare_64,Zip_DMA_mapping,on='zip_cd',how=\"left\")\n",
    "Krogger_both_year_compare_64['15_Mkt_Ind']=Krogger_both_year_compare_64['DMA'].apply(lambda x: In_18(x))\n",
    "df_YoY_compare_summary_64=Krogger_both_year_compare_64.groupby(['15_Mkt_Ind','year','week'])['sales','units'].sum().reset_index()\n"
   ]
  },
  {
   "cell_type": "code",
   "execution_count": null,
   "metadata": {
    "collapsed": true
   },
   "outputs": [],
   "source": []
  },
  {
   "cell_type": "code",
   "execution_count": 18,
   "metadata": {
    "collapsed": true
   },
   "outputs": [],
   "source": [
    "Krogger_both_year_128=Krogger_both_year[Krogger_both_year['product']==\"Sunny D 128 FO\"]\n",
    "Krogger_both_year_existing_128=Krogger_both_year_128.groupby(['store_info'])['year_week'].agg(func).to_frame().reset_index()\n",
    "Krogger_both_year_existing_128=Krogger_both_year_existing_128[Krogger_both_year_existing_128['year_week']==12]['store_info'].unique().tolist()\n",
    "Krogger_both_year_128=Krogger_both_year_128[Krogger_both_year_128['store_info'].isin(Krogger_both_year_existing_128)]\n",
    "Krogger_both_year_compare_128=Krogger_both_year_128[Krogger_both_year_128['week'].isin(week_list)]\n",
    "Krogger_both_year_compare_128=pd.merge(Krogger_both_year_compare_128,Zip_DMA_mapping,on='zip_cd',how=\"left\")\n",
    "Krogger_both_year_compare_128['15_Mkt_Ind']=Krogger_both_year_compare_128['DMA'].apply(lambda x: In_18(x))\n",
    "df_YoY_compare_summary_128=Krogger_both_year_compare_128.groupby(['15_Mkt_Ind','year','week'])['sales','units'].sum().reset_index()\n"
   ]
  },
  {
   "cell_type": "code",
   "execution_count": 19,
   "metadata": {
    "collapsed": true
   },
   "outputs": [],
   "source": [
    "Krogger_both_year_compare_2_product=Krogger_both_year[(Krogger_both_year['store_info'].isin(Krogger_both_year_existing_64)) &\\\n",
    "                                                     (Krogger_both_year['store_info'].isin(Krogger_both_year_existing_128))]\n",
    "Krogger_both_year_compare_2_product=Krogger_both_year_compare_2_product[Krogger_both_year_compare_2_product['week'].isin(week_list)]\n",
    "Krogger_both_year_compare_2_product=pd.merge(Krogger_both_year_compare_2_product,Zip_DMA_mapping,on='zip_cd',how=\"left\")\n",
    "Krogger_both_year_compare_2_product['15_Mkt_Ind']=Krogger_both_year_compare_2_product['DMA'].apply(lambda x: In_18(x))\n",
    "df_YoY_compare_summary_2_product=Krogger_both_year_compare_2_product.groupby(['15_Mkt_Ind','year','week'])['sales','units'].sum().reset_index()\n"
   ]
  },
  {
   "cell_type": "code",
   "execution_count": 20,
   "metadata": {},
   "outputs": [
    {
     "data": {
      "text/plain": [
       "(46586, 12)"
      ]
     },
     "execution_count": 20,
     "metadata": {},
     "output_type": "execute_result"
    }
   ],
   "source": [
    "Krogger_both_year_compare_2_product.shape"
   ]
  },
  {
   "cell_type": "code",
   "execution_count": 21,
   "metadata": {
    "collapsed": true
   },
   "outputs": [],
   "source": [
    "writer=pd.ExcelWriter(\"/home/jian/SunnyD/On_Going_WM_KG/Krogger/output/SunnyD_Krogger_DMA_YoY_\"+str(datetime.datetime.now().date())+\".xlsx\",engine=\"xlsxwriter\")"
   ]
  },
  {
   "cell_type": "code",
   "execution_count": 22,
   "metadata": {
    "collapsed": true
   },
   "outputs": [],
   "source": [
    "def YoY_summary_df(df):\n",
    "    df_2017_sales=df[df['year']=='2017'].rename(columns={\"sales\":\"sales_2017\"})\n",
    "    df_2018_sales=df[df['year']=='2018'].rename(columns={\"sales\":\"sales_2018\"})\n",
    "    del df_2017_sales['units']\n",
    "    del df_2018_sales['units']\n",
    "    del df_2017_sales['year']\n",
    "    del df_2018_sales['year']\n",
    "    sales_yoy=pd.merge(df_2017_sales,df_2018_sales,on=[\"15_Mkt_Ind\",'week'],how=\"left\")\n",
    "    \n",
    "    df_2017_units=df[df['year']=='2017'].rename(columns={\"units\":\"units_2017\"})\n",
    "    df_2018_units=df[df['year']=='2018'].rename(columns={\"units\":\"units_2018\"})\n",
    "    del df_2017_units['sales']\n",
    "    del df_2018_units['sales']\n",
    "    del df_2017_units['year']\n",
    "    del df_2018_units['year']\n",
    "    units_yoy=pd.merge(df_2017_units,df_2018_units,on=[\"15_Mkt_Ind\",'week'],how=\"left\")\n",
    "    \n",
    "    output=pd.merge(sales_yoy,units_yoy,on=[\"15_Mkt_Ind\",'week'],how=\"left\")\n",
    "    output['sales_yoy']=(output['sales_2018']-output['sales_2017'])/output['sales_2017']\n",
    "    output['units_yoy']=(output['units_2018']-output['units_2017'])/output['units_2017']\n",
    "    return output"
   ]
  },
  {
   "cell_type": "code",
   "execution_count": 23,
   "metadata": {},
   "outputs": [
    {
     "data": {
      "text/html": [
       "<div>\n",
       "<style>\n",
       "    .dataframe thead tr:only-child th {\n",
       "        text-align: right;\n",
       "    }\n",
       "\n",
       "    .dataframe thead th {\n",
       "        text-align: left;\n",
       "    }\n",
       "\n",
       "    .dataframe tbody tr th {\n",
       "        vertical-align: top;\n",
       "    }\n",
       "</style>\n",
       "<table border=\"1\" class=\"dataframe\">\n",
       "  <thead>\n",
       "    <tr style=\"text-align: right;\">\n",
       "      <th></th>\n",
       "      <th>15_Mkt_Ind</th>\n",
       "      <th>year</th>\n",
       "      <th>week</th>\n",
       "      <th>sales</th>\n",
       "      <th>units</th>\n",
       "    </tr>\n",
       "  </thead>\n",
       "  <tbody>\n",
       "    <tr>\n",
       "      <th>0</th>\n",
       "      <td>In_15_Mkts</td>\n",
       "      <td>2017</td>\n",
       "      <td>26</td>\n",
       "      <td>77131.90</td>\n",
       "      <td>33015.0</td>\n",
       "    </tr>\n",
       "    <tr>\n",
       "      <th>1</th>\n",
       "      <td>In_15_Mkts</td>\n",
       "      <td>2017</td>\n",
       "      <td>27</td>\n",
       "      <td>63989.54</td>\n",
       "      <td>24873.0</td>\n",
       "    </tr>\n",
       "    <tr>\n",
       "      <th>2</th>\n",
       "      <td>In_15_Mkts</td>\n",
       "      <td>2017</td>\n",
       "      <td>28</td>\n",
       "      <td>48541.11</td>\n",
       "      <td>17671.0</td>\n",
       "    </tr>\n",
       "    <tr>\n",
       "      <th>3</th>\n",
       "      <td>In_15_Mkts</td>\n",
       "      <td>2017</td>\n",
       "      <td>29</td>\n",
       "      <td>51715.13</td>\n",
       "      <td>20415.0</td>\n",
       "    </tr>\n",
       "    <tr>\n",
       "      <th>4</th>\n",
       "      <td>In_15_Mkts</td>\n",
       "      <td>2017</td>\n",
       "      <td>30</td>\n",
       "      <td>51386.49</td>\n",
       "      <td>20684.0</td>\n",
       "    </tr>\n",
       "    <tr>\n",
       "      <th>5</th>\n",
       "      <td>In_15_Mkts</td>\n",
       "      <td>2017</td>\n",
       "      <td>31</td>\n",
       "      <td>52760.37</td>\n",
       "      <td>21043.0</td>\n",
       "    </tr>\n",
       "    <tr>\n",
       "      <th>6</th>\n",
       "      <td>In_15_Mkts</td>\n",
       "      <td>2018</td>\n",
       "      <td>26</td>\n",
       "      <td>46370.30</td>\n",
       "      <td>14685.0</td>\n",
       "    </tr>\n",
       "    <tr>\n",
       "      <th>7</th>\n",
       "      <td>In_15_Mkts</td>\n",
       "      <td>2018</td>\n",
       "      <td>27</td>\n",
       "      <td>52219.16</td>\n",
       "      <td>17194.0</td>\n",
       "    </tr>\n",
       "    <tr>\n",
       "      <th>8</th>\n",
       "      <td>In_15_Mkts</td>\n",
       "      <td>2018</td>\n",
       "      <td>28</td>\n",
       "      <td>48461.34</td>\n",
       "      <td>16386.0</td>\n",
       "    </tr>\n",
       "    <tr>\n",
       "      <th>9</th>\n",
       "      <td>In_15_Mkts</td>\n",
       "      <td>2018</td>\n",
       "      <td>29</td>\n",
       "      <td>45095.44</td>\n",
       "      <td>14698.0</td>\n",
       "    </tr>\n",
       "    <tr>\n",
       "      <th>10</th>\n",
       "      <td>In_15_Mkts</td>\n",
       "      <td>2018</td>\n",
       "      <td>30</td>\n",
       "      <td>41370.27</td>\n",
       "      <td>13030.0</td>\n",
       "    </tr>\n",
       "    <tr>\n",
       "      <th>11</th>\n",
       "      <td>In_15_Mkts</td>\n",
       "      <td>2018</td>\n",
       "      <td>31</td>\n",
       "      <td>42607.44</td>\n",
       "      <td>14047.0</td>\n",
       "    </tr>\n",
       "    <tr>\n",
       "      <th>12</th>\n",
       "      <td>Other</td>\n",
       "      <td>2017</td>\n",
       "      <td>26</td>\n",
       "      <td>69157.77</td>\n",
       "      <td>26546.0</td>\n",
       "    </tr>\n",
       "    <tr>\n",
       "      <th>13</th>\n",
       "      <td>Other</td>\n",
       "      <td>2017</td>\n",
       "      <td>27</td>\n",
       "      <td>61906.02</td>\n",
       "      <td>21615.0</td>\n",
       "    </tr>\n",
       "    <tr>\n",
       "      <th>14</th>\n",
       "      <td>Other</td>\n",
       "      <td>2017</td>\n",
       "      <td>28</td>\n",
       "      <td>53400.74</td>\n",
       "      <td>18033.0</td>\n",
       "    </tr>\n",
       "    <tr>\n",
       "      <th>15</th>\n",
       "      <td>Other</td>\n",
       "      <td>2017</td>\n",
       "      <td>29</td>\n",
       "      <td>52365.02</td>\n",
       "      <td>18759.0</td>\n",
       "    </tr>\n",
       "    <tr>\n",
       "      <th>16</th>\n",
       "      <td>Other</td>\n",
       "      <td>2017</td>\n",
       "      <td>30</td>\n",
       "      <td>54166.15</td>\n",
       "      <td>19758.0</td>\n",
       "    </tr>\n",
       "    <tr>\n",
       "      <th>17</th>\n",
       "      <td>Other</td>\n",
       "      <td>2017</td>\n",
       "      <td>31</td>\n",
       "      <td>57208.14</td>\n",
       "      <td>20865.0</td>\n",
       "    </tr>\n",
       "    <tr>\n",
       "      <th>18</th>\n",
       "      <td>Other</td>\n",
       "      <td>2018</td>\n",
       "      <td>26</td>\n",
       "      <td>58327.10</td>\n",
       "      <td>17956.0</td>\n",
       "    </tr>\n",
       "    <tr>\n",
       "      <th>19</th>\n",
       "      <td>Other</td>\n",
       "      <td>2018</td>\n",
       "      <td>27</td>\n",
       "      <td>65067.87</td>\n",
       "      <td>21121.0</td>\n",
       "    </tr>\n",
       "    <tr>\n",
       "      <th>20</th>\n",
       "      <td>Other</td>\n",
       "      <td>2018</td>\n",
       "      <td>28</td>\n",
       "      <td>63146.51</td>\n",
       "      <td>21098.0</td>\n",
       "    </tr>\n",
       "    <tr>\n",
       "      <th>21</th>\n",
       "      <td>Other</td>\n",
       "      <td>2018</td>\n",
       "      <td>29</td>\n",
       "      <td>56246.45</td>\n",
       "      <td>17905.0</td>\n",
       "    </tr>\n",
       "    <tr>\n",
       "      <th>22</th>\n",
       "      <td>Other</td>\n",
       "      <td>2018</td>\n",
       "      <td>30</td>\n",
       "      <td>55792.79</td>\n",
       "      <td>17042.0</td>\n",
       "    </tr>\n",
       "    <tr>\n",
       "      <th>23</th>\n",
       "      <td>Other</td>\n",
       "      <td>2018</td>\n",
       "      <td>31</td>\n",
       "      <td>61937.53</td>\n",
       "      <td>19440.0</td>\n",
       "    </tr>\n",
       "  </tbody>\n",
       "</table>\n",
       "</div>"
      ],
      "text/plain": [
       "    15_Mkt_Ind  year week     sales    units\n",
       "0   In_15_Mkts  2017   26  77131.90  33015.0\n",
       "1   In_15_Mkts  2017   27  63989.54  24873.0\n",
       "2   In_15_Mkts  2017   28  48541.11  17671.0\n",
       "3   In_15_Mkts  2017   29  51715.13  20415.0\n",
       "4   In_15_Mkts  2017   30  51386.49  20684.0\n",
       "5   In_15_Mkts  2017   31  52760.37  21043.0\n",
       "6   In_15_Mkts  2018   26  46370.30  14685.0\n",
       "7   In_15_Mkts  2018   27  52219.16  17194.0\n",
       "8   In_15_Mkts  2018   28  48461.34  16386.0\n",
       "9   In_15_Mkts  2018   29  45095.44  14698.0\n",
       "10  In_15_Mkts  2018   30  41370.27  13030.0\n",
       "11  In_15_Mkts  2018   31  42607.44  14047.0\n",
       "12       Other  2017   26  69157.77  26546.0\n",
       "13       Other  2017   27  61906.02  21615.0\n",
       "14       Other  2017   28  53400.74  18033.0\n",
       "15       Other  2017   29  52365.02  18759.0\n",
       "16       Other  2017   30  54166.15  19758.0\n",
       "17       Other  2017   31  57208.14  20865.0\n",
       "18       Other  2018   26  58327.10  17956.0\n",
       "19       Other  2018   27  65067.87  21121.0\n",
       "20       Other  2018   28  63146.51  21098.0\n",
       "21       Other  2018   29  56246.45  17905.0\n",
       "22       Other  2018   30  55792.79  17042.0\n",
       "23       Other  2018   31  61937.53  19440.0"
      ]
     },
     "execution_count": 23,
     "metadata": {},
     "output_type": "execute_result"
    }
   ],
   "source": [
    "df_YoY_compare_summary_128"
   ]
  },
  {
   "cell_type": "code",
   "execution_count": 24,
   "metadata": {
    "collapsed": true
   },
   "outputs": [],
   "source": [
    "summary_64=YoY_summary_df(df_YoY_compare_summary_64)\n",
    "summary_128=YoY_summary_df(df_YoY_compare_summary_128)\n",
    "summary_both_respective=YoY_summary_df(df_YoY_compare_summary_2_product)\n",
    "summary_both_together=YoY_summary_df(df_YoY_compare_summary)"
   ]
  },
  {
   "cell_type": "code",
   "execution_count": 25,
   "metadata": {
    "collapsed": true
   },
   "outputs": [],
   "source": [
    "summary_64.to_excel(writer,\"summary_64\",index=False)\n",
    "summary_128.to_excel(writer,\"summary_128\",index=False)\n",
    "summary_both_respective.to_excel(writer,\"summary_both_respective\",index=False)\n",
    "summary_both_together.to_excel(writer,\"summary_both_together\",index=False)"
   ]
  },
  {
   "cell_type": "code",
   "execution_count": 26,
   "metadata": {
    "collapsed": true
   },
   "outputs": [],
   "source": [
    "writer.save()"
   ]
  },
  {
   "cell_type": "code",
   "execution_count": 27,
   "metadata": {},
   "outputs": [
    {
     "data": {
      "text/html": [
       "<div>\n",
       "<style>\n",
       "    .dataframe thead tr:only-child th {\n",
       "        text-align: right;\n",
       "    }\n",
       "\n",
       "    .dataframe thead th {\n",
       "        text-align: left;\n",
       "    }\n",
       "\n",
       "    .dataframe tbody tr th {\n",
       "        vertical-align: top;\n",
       "    }\n",
       "</style>\n",
       "<table border=\"1\" class=\"dataframe\">\n",
       "  <thead>\n",
       "    <tr style=\"text-align: right;\">\n",
       "      <th></th>\n",
       "      <th>15_Mkt_Ind</th>\n",
       "      <th>week</th>\n",
       "      <th>sales_2017</th>\n",
       "      <th>sales_2018</th>\n",
       "      <th>units_2017</th>\n",
       "      <th>units_2018</th>\n",
       "      <th>sales_yoy</th>\n",
       "      <th>units_yoy</th>\n",
       "    </tr>\n",
       "  </thead>\n",
       "  <tbody>\n",
       "    <tr>\n",
       "      <th>0</th>\n",
       "      <td>In_15_Mkts</td>\n",
       "      <td>26</td>\n",
       "      <td>103650.97</td>\n",
       "      <td>82522.95</td>\n",
       "      <td>49062.0</td>\n",
       "      <td>44261.0</td>\n",
       "      <td>-0.203838</td>\n",
       "      <td>-0.097856</td>\n",
       "    </tr>\n",
       "    <tr>\n",
       "      <th>1</th>\n",
       "      <td>In_15_Mkts</td>\n",
       "      <td>27</td>\n",
       "      <td>90510.65</td>\n",
       "      <td>76230.94</td>\n",
       "      <td>40925.0</td>\n",
       "      <td>33525.0</td>\n",
       "      <td>-0.157768</td>\n",
       "      <td>-0.180819</td>\n",
       "    </tr>\n",
       "    <tr>\n",
       "      <th>2</th>\n",
       "      <td>In_15_Mkts</td>\n",
       "      <td>28</td>\n",
       "      <td>74383.31</td>\n",
       "      <td>67824.67</td>\n",
       "      <td>33643.0</td>\n",
       "      <td>27625.0</td>\n",
       "      <td>-0.088174</td>\n",
       "      <td>-0.178878</td>\n",
       "    </tr>\n",
       "    <tr>\n",
       "      <th>3</th>\n",
       "      <td>In_15_Mkts</td>\n",
       "      <td>29</td>\n",
       "      <td>77572.62</td>\n",
       "      <td>62776.22</td>\n",
       "      <td>36121.0</td>\n",
       "      <td>24785.0</td>\n",
       "      <td>-0.190743</td>\n",
       "      <td>-0.313834</td>\n",
       "    </tr>\n",
       "    <tr>\n",
       "      <th>4</th>\n",
       "      <td>In_15_Mkts</td>\n",
       "      <td>30</td>\n",
       "      <td>75146.69</td>\n",
       "      <td>58108.71</td>\n",
       "      <td>34517.0</td>\n",
       "      <td>22336.0</td>\n",
       "      <td>-0.226730</td>\n",
       "      <td>-0.352899</td>\n",
       "    </tr>\n",
       "    <tr>\n",
       "      <th>5</th>\n",
       "      <td>In_15_Mkts</td>\n",
       "      <td>31</td>\n",
       "      <td>77846.22</td>\n",
       "      <td>60350.40</td>\n",
       "      <td>35622.0</td>\n",
       "      <td>23665.0</td>\n",
       "      <td>-0.224748</td>\n",
       "      <td>-0.335663</td>\n",
       "    </tr>\n",
       "    <tr>\n",
       "      <th>6</th>\n",
       "      <td>Other</td>\n",
       "      <td>26</td>\n",
       "      <td>109446.26</td>\n",
       "      <td>90140.15</td>\n",
       "      <td>51117.0</td>\n",
       "      <td>38601.0</td>\n",
       "      <td>-0.176398</td>\n",
       "      <td>-0.244850</td>\n",
       "    </tr>\n",
       "    <tr>\n",
       "      <th>7</th>\n",
       "      <td>Other</td>\n",
       "      <td>27</td>\n",
       "      <td>101447.11</td>\n",
       "      <td>93189.81</td>\n",
       "      <td>45629.0</td>\n",
       "      <td>37077.0</td>\n",
       "      <td>-0.081395</td>\n",
       "      <td>-0.187425</td>\n",
       "    </tr>\n",
       "    <tr>\n",
       "      <th>8</th>\n",
       "      <td>Other</td>\n",
       "      <td>28</td>\n",
       "      <td>103244.43</td>\n",
       "      <td>89273.22</td>\n",
       "      <td>53087.0</td>\n",
       "      <td>34836.0</td>\n",
       "      <td>-0.135322</td>\n",
       "      <td>-0.343794</td>\n",
       "    </tr>\n",
       "    <tr>\n",
       "      <th>9</th>\n",
       "      <td>Other</td>\n",
       "      <td>29</td>\n",
       "      <td>104082.66</td>\n",
       "      <td>80739.76</td>\n",
       "      <td>57058.0</td>\n",
       "      <td>30785.0</td>\n",
       "      <td>-0.224273</td>\n",
       "      <td>-0.460461</td>\n",
       "    </tr>\n",
       "    <tr>\n",
       "      <th>10</th>\n",
       "      <td>Other</td>\n",
       "      <td>30</td>\n",
       "      <td>102536.67</td>\n",
       "      <td>79764.02</td>\n",
       "      <td>54500.0</td>\n",
       "      <td>29633.0</td>\n",
       "      <td>-0.222093</td>\n",
       "      <td>-0.456275</td>\n",
       "    </tr>\n",
       "    <tr>\n",
       "      <th>11</th>\n",
       "      <td>Other</td>\n",
       "      <td>31</td>\n",
       "      <td>104608.39</td>\n",
       "      <td>87875.15</td>\n",
       "      <td>53992.0</td>\n",
       "      <td>32998.0</td>\n",
       "      <td>-0.159961</td>\n",
       "      <td>-0.388835</td>\n",
       "    </tr>\n",
       "  </tbody>\n",
       "</table>\n",
       "</div>"
      ],
      "text/plain": [
       "    15_Mkt_Ind week  sales_2017  sales_2018  units_2017  units_2018  \\\n",
       "0   In_15_Mkts   26   103650.97    82522.95     49062.0     44261.0   \n",
       "1   In_15_Mkts   27    90510.65    76230.94     40925.0     33525.0   \n",
       "2   In_15_Mkts   28    74383.31    67824.67     33643.0     27625.0   \n",
       "3   In_15_Mkts   29    77572.62    62776.22     36121.0     24785.0   \n",
       "4   In_15_Mkts   30    75146.69    58108.71     34517.0     22336.0   \n",
       "5   In_15_Mkts   31    77846.22    60350.40     35622.0     23665.0   \n",
       "6        Other   26   109446.26    90140.15     51117.0     38601.0   \n",
       "7        Other   27   101447.11    93189.81     45629.0     37077.0   \n",
       "8        Other   28   103244.43    89273.22     53087.0     34836.0   \n",
       "9        Other   29   104082.66    80739.76     57058.0     30785.0   \n",
       "10       Other   30   102536.67    79764.02     54500.0     29633.0   \n",
       "11       Other   31   104608.39    87875.15     53992.0     32998.0   \n",
       "\n",
       "    sales_yoy  units_yoy  \n",
       "0   -0.203838  -0.097856  \n",
       "1   -0.157768  -0.180819  \n",
       "2   -0.088174  -0.178878  \n",
       "3   -0.190743  -0.313834  \n",
       "4   -0.226730  -0.352899  \n",
       "5   -0.224748  -0.335663  \n",
       "6   -0.176398  -0.244850  \n",
       "7   -0.081395  -0.187425  \n",
       "8   -0.135322  -0.343794  \n",
       "9   -0.224273  -0.460461  \n",
       "10  -0.222093  -0.456275  \n",
       "11  -0.159961  -0.388835  "
      ]
     },
     "execution_count": 27,
     "metadata": {},
     "output_type": "execute_result"
    }
   ],
   "source": [
    "summary_both_respective"
   ]
  },
  {
   "cell_type": "code",
   "execution_count": null,
   "metadata": {
    "collapsed": true
   },
   "outputs": [],
   "source": []
  },
  {
   "cell_type": "code",
   "execution_count": null,
   "metadata": {
    "collapsed": true
   },
   "outputs": [],
   "source": []
  }
 ],
 "metadata": {
  "kernelspec": {
   "display_name": "Python 3",
   "language": "python",
   "name": "python3"
  },
  "language_info": {
   "codemirror_mode": {
    "name": "ipython",
    "version": 3
   },
   "file_extension": ".py",
   "mimetype": "text/x-python",
   "name": "python",
   "nbconvert_exporter": "python",
   "pygments_lexer": "ipython3",
   "version": "3.6.1"
  }
 },
 "nbformat": 4,
 "nbformat_minor": 2
}
