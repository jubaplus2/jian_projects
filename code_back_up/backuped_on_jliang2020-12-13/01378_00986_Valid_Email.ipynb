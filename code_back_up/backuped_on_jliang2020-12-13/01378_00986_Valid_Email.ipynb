{
 "cells": [
  {
   "cell_type": "code",
   "execution_count": 1,
   "metadata": {},
   "outputs": [
    {
     "data": {
      "text/plain": [
       "\"\\nemail_df = pd.read_csv('./shoptify_email_list.csv')\\nlogging.info('total rows: '+str(len(email_df)))\\n\\n#'customer_email'換成Email Input裡面的column header\\n\\n\\nfor index,row in email_df.iterrows():\\n    email_df.loc[index, 'email_vaild'] = verify_emails(row['customer_email'])\\n    if index%100==0:\\n        logging.info(index)\\n\\nemail_df.to_csv('./res_email_shoptify.csv', index=False)\\nlogging.info('finish!')\\n\""
      ]
     },
     "execution_count": 1,
     "metadata": {},
     "output_type": "execute_result"
    }
   ],
   "source": [
    "\n",
    "import dns.resolver\n",
    "import socket\n",
    "import smtplib\n",
    "import pandas as pd\n",
    "import logging\n",
    "\n",
    "logging.basicConfig(level='INFO', filename='email.log')\n",
    "\n",
    "def c(email):\n",
    "    try:\n",
    "        records = dns.resolver.query(email.split('@')[-1], 'MX')\n",
    "        mxRecord = records[0].exchange\n",
    "        mxRecord = str(mxRecord)\n",
    "\n",
    "        # Get local server hostname\n",
    "        host = socket.gethostname()\n",
    "\n",
    "        # SMTP lib setup (use debug level for full output)\n",
    "        server = smtplib.SMTP()\n",
    "        server.set_debuglevel(0)\n",
    "\n",
    "        # SMTP Conversation\n",
    "        server.connect(mxRecord)\n",
    "        server.helo(host)\n",
    "        server.mail(email)\n",
    "        code, message = server.rcpt(email)\n",
    "        server.quit()\n",
    "    except:\n",
    "        return False\n",
    "\n",
    "    if code==250:\n",
    "        return True\n",
    "    else:\n",
    "        return False\n",
    "\n",
    "    \n",
    "#換Email Input    \n",
    "\n",
    "'''\n",
    "email_df = pd.read_csv('./shoptify_email_list.csv')\n",
    "logging.info('total rows: '+str(len(email_df)))\n",
    "\n",
    "#'customer_email'換成Email Input裡面的column header\n",
    "\n",
    "\n",
    "for index,row in email_df.iterrows():\n",
    "    email_df.loc[index, 'email_vaild'] = verify_emails(row['customer_email'])\n",
    "    if index%100==0:\n",
    "        logging.info(index)\n",
    "\n",
    "email_df.to_csv('./res_email_shoptify.csv', index=False)\n",
    "logging.info('finish!')\n",
    "'''\n",
    "\n",
    "\n"
   ]
  },
  {
   "cell_type": "code",
   "execution_count": 12,
   "metadata": {},
   "outputs": [
    {
     "data": {
      "text/plain": [
       "True"
      ]
     },
     "execution_count": 12,
     "metadata": {},
     "output_type": "execute_result"
    }
   ],
   "source": [
    "verify_emails(\"@nyu.edu\")"
   ]
  },
  {
   "cell_type": "code",
   "execution_count": 13,
   "metadata": {},
   "outputs": [
    {
     "data": {
      "text/plain": [
       "False"
      ]
     },
     "execution_count": 13,
     "metadata": {},
     "output_type": "execute_result"
    }
   ],
   "source": [
    "verify_emails(\"jliangggggggggg@gmail.com\")"
   ]
  },
  {
   "cell_type": "code",
   "execution_count": null,
   "metadata": {
    "collapsed": true
   },
   "outputs": [],
   "source": []
  }
 ],
 "metadata": {
  "kernelspec": {
   "display_name": "Python 3",
   "language": "python",
   "name": "python3"
  },
  "language_info": {
   "codemirror_mode": {
    "name": "ipython",
    "version": 3
   },
   "file_extension": ".py",
   "mimetype": "text/x-python",
   "name": "python",
   "nbconvert_exporter": "python",
   "pygments_lexer": "ipython3",
   "version": "3.6.1"
  }
 },
 "nbformat": 4,
 "nbformat_minor": 2
}
