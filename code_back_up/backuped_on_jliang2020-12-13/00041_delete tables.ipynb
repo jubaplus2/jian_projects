{
 "cells": [
  {
   "cell_type": "code",
   "execution_count": 1,
   "metadata": {},
   "outputs": [],
   "source": [
    "import sqlalchemy\n",
    "import pandas as pd\n",
    "import datetime\n",
    "BL_engine=sqlalchemy.create_engine(\n",
    "            \"mysql+pymysql://%s:%s@localhost/%s\" % ('jliang', 'H1Dswk&Fxz', 'BigLots'))"
   ]
  },
  {
   "cell_type": "code",
   "execution_count": 2,
   "metadata": {},
   "outputs": [
    {
     "data": {
      "text/plain": [
       "['20200425',\n",
       " '20200502',\n",
       " '20200509',\n",
       " '20200516',\n",
       " '20200523',\n",
       " '20200530',\n",
       " '20200606',\n",
       " '20200613',\n",
       " '20200620',\n",
       " '20200627',\n",
       " '20200704',\n",
       " '20200711',\n",
       " '20200718',\n",
       " '20200725',\n",
       " '20200801',\n",
       " '20200808',\n",
       " '20200815',\n",
       " '20200822',\n",
       " '20200829',\n",
       " '20200905',\n",
       " '20200912',\n",
       " '20200919',\n",
       " '20200926',\n",
       " '20201003',\n",
       " '20201010']"
      ]
     },
     "execution_count": 2,
     "metadata": {},
     "output_type": "execute_result"
    }
   ],
   "source": [
    "date_start=datetime.date(2020,4,25)\n",
    "date_end=datetime.date(2020,10,10)\n",
    "count_weeks=int((date_end-date_start).days/7)+1\n",
    "list_str_week=[]\n",
    "for i in range(count_weeks):\n",
    "    str_weekenddt=str(date_start+datetime.timedelta(days=7*i)).replace(\"-\",\"\")\n",
    "    list_str_week.append(str_weekenddt)\n",
    "list_str_week"
   ]
  },
  {
   "cell_type": "code",
   "execution_count": 3,
   "metadata": {},
   "outputs": [
    {
     "name": "stdout",
     "output_type": "stream",
     "text": [
      "[]\n",
      "[]\n",
      "[]\n",
      "[]\n",
      "[]\n",
      "[]\n",
      "[]\n",
      "[]\n",
      "[]\n",
      "[]\n",
      "[]\n",
      "[]\n",
      "[]\n",
      "[]\n",
      "[]\n",
      "[]\n",
      "[]\n",
      "[]\n",
      "['NEall_id_from_crm_pos_until_20200829', 'NEall_id_pos_until_20200829', 'crm_NEall_id_pos_until_20200829', 'pred_pos_dept_NEall_id_pos_until_20200829']\n",
      "['NEall_id_pos_until_20200905', 'all_NEall_id_pred_pos_2_1_pos_until_20200905', 'all_NEall_id_pred_pos_2_2_pos_until_20200905', 'crm_NEall_id_pos_until_20200905', 'crm_table_id_list_test_20200905', 'crm_table_id_list_train_20200905', 'max_trans_NEall_id_pos_until_20200905', 'pred_pos_dept_NEall_id_pos_until_20200905', 'table_pred_1_crm_up_to_20200905']\n",
      "[]\n",
      "[]\n",
      "[]\n",
      "[]\n",
      "[]\n"
     ]
    }
   ],
   "source": [
    "for w in list_str_week:\n",
    "\n",
    "    list_tables_to_delete=pd.read_sql(\"show tables;\",con=BL_engine).iloc[:,0].values.tolist()\n",
    "    list_tables_to_delete=[x for x in list_tables_to_delete if x[-8:]==w]\n",
    "    print(list_tables_to_delete)\n",
    "    \n",
    "    with BL_engine.connect() as connection:\n",
    "        for t in list_tables_to_delete:\n",
    "            query=\"drop table if exists %s\"%t\n",
    "            result = connection.execute(query)"
   ]
  },
  {
   "cell_type": "code",
   "execution_count": 4,
   "metadata": {},
   "outputs": [
    {
     "data": {
      "text/html": [
       "<div>\n",
       "<style scoped>\n",
       "    .dataframe tbody tr th:only-of-type {\n",
       "        vertical-align: middle;\n",
       "    }\n",
       "\n",
       "    .dataframe tbody tr th {\n",
       "        vertical-align: top;\n",
       "    }\n",
       "\n",
       "    .dataframe thead th {\n",
       "        text-align: right;\n",
       "    }\n",
       "</style>\n",
       "<table border=\"1\" class=\"dataframe\">\n",
       "  <thead>\n",
       "    <tr style=\"text-align: right;\">\n",
       "      <th></th>\n",
       "      <th>Tables_in_BigLots</th>\n",
       "    </tr>\n",
       "  </thead>\n",
       "  <tbody>\n",
       "    <tr>\n",
       "      <th>0</th>\n",
       "      <td>BL_CCPA_email</td>\n",
       "    </tr>\n",
       "    <tr>\n",
       "      <th>1</th>\n",
       "      <td>BL_POS_Item</td>\n",
       "    </tr>\n",
       "    <tr>\n",
       "      <th>2</th>\n",
       "      <td>BL_POS_Subclass</td>\n",
       "    </tr>\n",
       "    <tr>\n",
       "      <th>3</th>\n",
       "      <td>BL_Rewards_Master</td>\n",
       "    </tr>\n",
       "    <tr>\n",
       "      <th>4</th>\n",
       "      <td>Pred_ExpV2_Activity_BL_id</td>\n",
       "    </tr>\n",
       "    <tr>\n",
       "      <th>5</th>\n",
       "      <td>Pred_ExposureV2_GU_id</td>\n",
       "    </tr>\n",
       "    <tr>\n",
       "      <th>6</th>\n",
       "      <td>Pred_ExposureV3_BL_id</td>\n",
       "    </tr>\n",
       "    <tr>\n",
       "      <th>7</th>\n",
       "      <td>Pred_POS_Department</td>\n",
       "    </tr>\n",
       "    <tr>\n",
       "      <th>8</th>\n",
       "      <td>view_pred_pos_2_2_first_week</td>\n",
       "    </tr>\n",
       "    <tr>\n",
       "      <th>9</th>\n",
       "      <td>view_pred_pos_2_2_recent_one</td>\n",
       "    </tr>\n",
       "    <tr>\n",
       "      <th>10</th>\n",
       "      <td>view_pred_pos_2_2_recent_two</td>\n",
       "    </tr>\n",
       "  </tbody>\n",
       "</table>\n",
       "</div>"
      ],
      "text/plain": [
       "               Tables_in_BigLots\n",
       "0                  BL_CCPA_email\n",
       "1                    BL_POS_Item\n",
       "2                BL_POS_Subclass\n",
       "3              BL_Rewards_Master\n",
       "4      Pred_ExpV2_Activity_BL_id\n",
       "5          Pred_ExposureV2_GU_id\n",
       "6          Pred_ExposureV3_BL_id\n",
       "7            Pred_POS_Department\n",
       "8   view_pred_pos_2_2_first_week\n",
       "9   view_pred_pos_2_2_recent_one\n",
       "10  view_pred_pos_2_2_recent_two"
      ]
     },
     "execution_count": 4,
     "metadata": {},
     "output_type": "execute_result"
    }
   ],
   "source": [
    "pd.read_sql(\"show tables;\",con=BL_engine)"
   ]
  },
  {
   "cell_type": "code",
   "execution_count": null,
   "metadata": {},
   "outputs": [],
   "source": []
  }
 ],
 "metadata": {
  "kernelspec": {
   "display_name": "Python 3",
   "language": "python",
   "name": "python3"
  },
  "language_info": {
   "codemirror_mode": {
    "name": "ipython",
    "version": 3
   },
   "file_extension": ".py",
   "mimetype": "text/x-python",
   "name": "python",
   "nbconvert_exporter": "python",
   "pygments_lexer": "ipython3",
   "version": "3.7.6"
  }
 },
 "nbformat": 4,
 "nbformat_minor": 2
}
