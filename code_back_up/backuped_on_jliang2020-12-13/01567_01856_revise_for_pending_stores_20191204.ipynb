{
 "cells": [
  {
   "cell_type": "code",
   "execution_count": 1,
   "metadata": {},
   "outputs": [
    {
     "data": {
      "text/plain": [
       "'/home/jian/Projects/Smoothie_King/adjust_for_pending_stores'"
      ]
     },
     "execution_count": 1,
     "metadata": {},
     "output_type": "execute_result"
    }
   ],
   "source": [
    "import pandas as pd\n",
    "import numpy as np\n",
    "import datetime\n",
    "import os\n",
    "import json\n",
    "from haversine import haversine\n",
    "zip_centers=json.load(open(\"/home/jian/Docs/Geo_mapping/updated_zip_centers_JL_2019-05-23.json\",\"r\"))\n",
    "os.getcwd()"
   ]
  },
  {
   "cell_type": "code",
   "execution_count": 2,
   "metadata": {
    "collapsed": true
   },
   "outputs": [],
   "source": [
    "writer_folder=\"./output_\"+str(datetime.datetime.now().date())+\"/\"\n",
    "try:\n",
    "    os.stat(writer_folder)\n",
    "except:\n",
    "    os.mkdir(writer_folder)"
   ]
  },
  {
   "cell_type": "code",
   "execution_count": 3,
   "metadata": {},
   "outputs": [
    {
     "data": {
      "text/plain": [
       "['summary_by_TA', 'output_TA_by_store', 'zip_TA', 'summary_by_store_count']"
      ]
     },
     "execution_count": 3,
     "metadata": {},
     "output_type": "execute_result"
    }
   ],
   "source": [
    "excel_output=pd.ExcelFile(\"/home/jian/Projects/Smoothie_King/weekly_TA_updates/output_20191202/SmoothieKing_TA_of_3_miles_zips_JL_2019-12-03.xlsx\")\n",
    "excel_output.sheet_names\n"
   ]
  },
  {
   "cell_type": "code",
   "execution_count": 4,
   "metadata": {},
   "outputs": [
    {
     "data": {
      "text/plain": [
       "(957, 18)"
      ]
     },
     "execution_count": 4,
     "metadata": {},
     "output_type": "execute_result"
    }
   ],
   "source": [
    "df_by_store=excel_output.parse(\"output_TA_by_store\",dtype=str)\n",
    "df_by_store.shape"
   ]
  },
  {
   "cell_type": "code",
   "execution_count": 5,
   "metadata": {},
   "outputs": [
    {
     "name": "stdout",
     "output_type": "stream",
     "text": [
      "['opening', 'closed']\n",
      "6\n",
      "['1797', '1808', '1768', '1671', '1584', '1709']\n"
     ]
    }
   ],
   "source": [
    "new_store_excel=pd.ExcelFile(\"/home/jian/Projects/Smoothie_King/SK_celery/force_store_list/SK_forced_store_list_20191204.xlsx\")\n",
    "print(new_store_excel.sheet_names)\n",
    "df_new_stores=new_store_excel.parse(\"opening\",dtype=str)\n",
    "new_store_list=df_new_stores['storenumber'].unique().tolist()\n",
    "print(len(new_store_list))\n",
    "print(new_store_list)"
   ]
  },
  {
   "cell_type": "code",
   "execution_count": 6,
   "metadata": {},
   "outputs": [
    {
     "data": {
      "text/html": [
       "<div>\n",
       "<style scoped>\n",
       "    .dataframe tbody tr th:only-of-type {\n",
       "        vertical-align: middle;\n",
       "    }\n",
       "\n",
       "    .dataframe tbody tr th {\n",
       "        vertical-align: top;\n",
       "    }\n",
       "\n",
       "    .dataframe thead th {\n",
       "        text-align: right;\n",
       "    }\n",
       "</style>\n",
       "<table border=\"1\" class=\"dataframe\">\n",
       "  <thead>\n",
       "    <tr style=\"text-align: right;\">\n",
       "      <th></th>\n",
       "      <th>storenumber</th>\n",
       "      <th>Address</th>\n",
       "      <th>city</th>\n",
       "      <th>state</th>\n",
       "      <th>zip</th>\n",
       "      <th>StoreOpenDate</th>\n",
       "      <th>Latitude</th>\n",
       "      <th>Longitude</th>\n",
       "      <th>Ownership</th>\n",
       "      <th>Franchisee_Name</th>\n",
       "      <th>IPAddress</th>\n",
       "      <th>DriveThru</th>\n",
       "      <th>status</th>\n",
       "      <th>StoreCloseDate</th>\n",
       "      <th>used_lat</th>\n",
       "      <th>used_long</th>\n",
       "      <th>zips_3_miles</th>\n",
       "      <th>TA</th>\n",
       "    </tr>\n",
       "  </thead>\n",
       "  <tbody>\n",
       "    <tr>\n",
       "      <th>903</th>\n",
       "      <td>1671</td>\n",
       "      <td>8361 W. Sunrise Blvd</td>\n",
       "      <td>Sunrise</td>\n",
       "      <td>FL</td>\n",
       "      <td>33322</td>\n",
       "      <td>2019-11-14 00:00:00</td>\n",
       "      <td>26.148596</td>\n",
       "      <td>-80.262615</td>\n",
       "      <td>Franchised</td>\n",
       "      <td>Millie Medrano</td>\n",
       "      <td>NaN</td>\n",
       "      <td>N</td>\n",
       "      <td>New</td>\n",
       "      <td>NaN</td>\n",
       "      <td>26.148596</td>\n",
       "      <td>-80.262615</td>\n",
       "      <td>['33084', '33388', '33336', '33324', '33359', ...</td>\n",
       "      <td>4_['0510', '0587', '1139', '1671']</td>\n",
       "    </tr>\n",
       "    <tr>\n",
       "      <th>938</th>\n",
       "      <td>1768</td>\n",
       "      <td>1100 W Main St</td>\n",
       "      <td>Lewisville</td>\n",
       "      <td>TX</td>\n",
       "      <td>75067</td>\n",
       "      <td>2019-11-07 00:00:00</td>\n",
       "      <td>33.0417436</td>\n",
       "      <td>-97.0227896</td>\n",
       "      <td>Franchised</td>\n",
       "      <td>Jackie Ben-Meir</td>\n",
       "      <td>NaN</td>\n",
       "      <td>Y</td>\n",
       "      <td>New</td>\n",
       "      <td>NaN</td>\n",
       "      <td>33.0417436</td>\n",
       "      <td>-97.0227896</td>\n",
       "      <td>['75027', '75028', '75067', '75029', '75057']</td>\n",
       "      <td>3_['0386', '0547', '1768']</td>\n",
       "    </tr>\n",
       "    <tr>\n",
       "      <th>949</th>\n",
       "      <td>1797</td>\n",
       "      <td>1659 STATE HIGHWAY 46 W, SUITE 175</td>\n",
       "      <td>New Braunfels</td>\n",
       "      <td>TX</td>\n",
       "      <td>78132</td>\n",
       "      <td>2019-11-04 00:00:00</td>\n",
       "      <td>29.713163</td>\n",
       "      <td>-98.160644</td>\n",
       "      <td>Franchised</td>\n",
       "      <td>Paul Flores</td>\n",
       "      <td>NaN</td>\n",
       "      <td>N</td>\n",
       "      <td>New</td>\n",
       "      <td>NaN</td>\n",
       "      <td>29.713163</td>\n",
       "      <td>-98.160644</td>\n",
       "      <td>['78132', '78131']</td>\n",
       "      <td>1_['1797']</td>\n",
       "    </tr>\n",
       "  </tbody>\n",
       "</table>\n",
       "</div>"
      ],
      "text/plain": [
       "    storenumber                             Address           city state  \\\n",
       "903        1671                8361 W. Sunrise Blvd        Sunrise    FL   \n",
       "938        1768                      1100 W Main St     Lewisville    TX   \n",
       "949        1797  1659 STATE HIGHWAY 46 W, SUITE 175  New Braunfels    TX   \n",
       "\n",
       "       zip        StoreOpenDate    Latitude    Longitude   Ownership  \\\n",
       "903  33322  2019-11-14 00:00:00   26.148596   -80.262615  Franchised   \n",
       "938  75067  2019-11-07 00:00:00  33.0417436  -97.0227896  Franchised   \n",
       "949  78132  2019-11-04 00:00:00   29.713163   -98.160644  Franchised   \n",
       "\n",
       "     Franchisee_Name IPAddress DriveThru status StoreCloseDate    used_lat  \\\n",
       "903   Millie Medrano       NaN         N    New            NaN   26.148596   \n",
       "938  Jackie Ben-Meir       NaN         Y    New            NaN  33.0417436   \n",
       "949      Paul Flores       NaN         N    New            NaN   29.713163   \n",
       "\n",
       "       used_long                                       zips_3_miles  \\\n",
       "903   -80.262615  ['33084', '33388', '33336', '33324', '33359', ...   \n",
       "938  -97.0227896      ['75027', '75028', '75067', '75029', '75057']   \n",
       "949   -98.160644                                 ['78132', '78131']   \n",
       "\n",
       "                                     TA  \n",
       "903  4_['0510', '0587', '1139', '1671']  \n",
       "938          3_['0386', '0547', '1768']  \n",
       "949                          1_['1797']  "
      ]
     },
     "execution_count": 6,
     "metadata": {},
     "output_type": "execute_result"
    }
   ],
   "source": [
    "df_by_store[df_by_store['storenumber'].isin(new_store_list)]\n",
    "\n",
    "# All of the new stores need to be added"
   ]
  },
  {
   "cell_type": "code",
   "execution_count": 7,
   "metadata": {},
   "outputs": [
    {
     "data": {
      "text/html": [
       "<div>\n",
       "<style scoped>\n",
       "    .dataframe tbody tr th:only-of-type {\n",
       "        vertical-align: middle;\n",
       "    }\n",
       "\n",
       "    .dataframe tbody tr th {\n",
       "        vertical-align: top;\n",
       "    }\n",
       "\n",
       "    .dataframe thead th {\n",
       "        text-align: right;\n",
       "    }\n",
       "</style>\n",
       "<table border=\"1\" class=\"dataframe\">\n",
       "  <thead>\n",
       "    <tr style=\"text-align: right;\">\n",
       "      <th></th>\n",
       "      <th>storenumber</th>\n",
       "    </tr>\n",
       "  </thead>\n",
       "  <tbody>\n",
       "    <tr>\n",
       "      <th>1</th>\n",
       "      <td>1808</td>\n",
       "    </tr>\n",
       "    <tr>\n",
       "      <th>4</th>\n",
       "      <td>1584</td>\n",
       "    </tr>\n",
       "    <tr>\n",
       "      <th>5</th>\n",
       "      <td>1709</td>\n",
       "    </tr>\n",
       "  </tbody>\n",
       "</table>\n",
       "</div>"
      ],
      "text/plain": [
       "  storenumber\n",
       "1        1808\n",
       "4        1584\n",
       "5        1709"
      ]
     },
     "execution_count": 7,
     "metadata": {},
     "output_type": "execute_result"
    }
   ],
   "source": [
    "df_new_stores=df_new_stores[~df_new_stores['storenumber'].isin(df_by_store['storenumber'].tolist())]\n",
    "df_new_stores"
   ]
  },
  {
   "cell_type": "code",
   "execution_count": 8,
   "metadata": {
    "collapsed": true
   },
   "outputs": [],
   "source": [
    "TA_name=df_by_store[['storenumber','TA']].drop_duplicates()\n",
    "TA_name_count=TA_name.groupby(\"TA\")['storenumber'].count().to_frame().reset_index().rename(columns={\"storenumber\":\"store_count\"})\n",
    "TA_name_list=TA_name.groupby(\"TA\")['storenumber'].apply(list).to_frame().reset_index().rename(columns={\"storenumber\":\"store_list\"})\n",
    "TA_name=pd.merge(TA_name_count,TA_name_list,on=\"TA\",how=\"outer\")\n",
    "TA_name['store_count']=TA_name['store_count'].apply(lambda x: str(x))\n",
    "TA_name['store_list']=TA_name['store_list'].apply(lambda x: str(x))\n",
    "TA_name['TA_new_name']=TA_name['store_count']+\"_\"+TA_name['store_list']\n",
    "TA_name_dict=TA_name.set_index(\"TA\").to_dict()['TA_new_name']\n",
    "\n",
    "\n",
    "df_by_store['TA']=df_by_store['TA'].apply(lambda x: TA_name_dict[x])\n",
    "df_by_store=df_by_store.rename(columns={\"TA\":\"TA_new\"})\n"
   ]
  },
  {
   "cell_type": "code",
   "execution_count": 9,
   "metadata": {
    "collapsed": true
   },
   "outputs": [],
   "source": [
    "zip_TA=excel_output.parse(\"zip_TA\",dtype=str)\n",
    "zip_TA['TA']=zip_TA['TA'].apply(lambda x: TA_name_dict[x])\n",
    "zip_TA=zip_TA.rename(columns={\"TA\":\"TA_new\"})\n",
    "\n",
    "# The automatic run region is not updated\n",
    "del zip_TA['Co-Op/Regional']"
   ]
  },
  {
   "cell_type": "code",
   "execution_count": 10,
   "metadata": {},
   "outputs": [
    {
     "name": "stdout",
     "output_type": "stream",
     "text": [
      "[4]\n"
     ]
    }
   ],
   "source": [
    "region_by_store_file=pd.ExcelFile(\"/home/jian/Projects/Smoothie_King/adjust_for_pending_stores/region_mapping/Updated RAF List - Number of Opened Stores-2019-09-13.xlsx\")\n",
    "mapping_store_region=region_by_store_file.parse('All Stores',dtype=str)\n",
    "mapping_store_region=mapping_store_region[['Store: Store Number  ↑','Co-Op/Regional  ↑']]\n",
    "mapping_store_region.columns=['store','Co-Op/Regional']\n",
    "mapping_store_region['Co-Op/Regional']=mapping_store_region['Co-Op/Regional'].fillna(\"nan\")\n",
    "mapping_store_region['store']=mapping_store_region['store'].apply(lambda x: x.replace(\"SK-\",\"\"))\n",
    "print(mapping_store_region['store'].apply(lambda x: len(x)).unique())\n",
    "\n",
    "zip_TA=pd.merge(zip_TA,mapping_store_region,on=\"store\",how=\"left\")\n",
    "zip_TA['Co-Op/Regional']=zip_TA['Co-Op/Regional'].fillna(\"Unknown\")"
   ]
  },
  {
   "cell_type": "code",
   "execution_count": 11,
   "metadata": {},
   "outputs": [
    {
     "data": {
      "text/html": [
       "<div>\n",
       "<style scoped>\n",
       "    .dataframe tbody tr th:only-of-type {\n",
       "        vertical-align: middle;\n",
       "    }\n",
       "\n",
       "    .dataframe tbody tr th {\n",
       "        vertical-align: top;\n",
       "    }\n",
       "\n",
       "    .dataframe thead th {\n",
       "        text-align: right;\n",
       "    }\n",
       "</style>\n",
       "<table border=\"1\" class=\"dataframe\">\n",
       "  <thead>\n",
       "    <tr style=\"text-align: right;\">\n",
       "      <th></th>\n",
       "      <th>storenumber</th>\n",
       "    </tr>\n",
       "  </thead>\n",
       "  <tbody>\n",
       "    <tr>\n",
       "      <th>1</th>\n",
       "      <td>1808</td>\n",
       "    </tr>\n",
       "    <tr>\n",
       "      <th>4</th>\n",
       "      <td>1584</td>\n",
       "    </tr>\n",
       "    <tr>\n",
       "      <th>5</th>\n",
       "      <td>1709</td>\n",
       "    </tr>\n",
       "  </tbody>\n",
       "</table>\n",
       "</div>"
      ],
      "text/plain": [
       "  storenumber\n",
       "1        1808\n",
       "4        1584\n",
       "5        1709"
      ]
     },
     "execution_count": 11,
     "metadata": {},
     "output_type": "execute_result"
    }
   ],
   "source": [
    "df_new_stores"
   ]
  },
  {
   "cell_type": "code",
   "execution_count": 12,
   "metadata": {
    "collapsed": true
   },
   "outputs": [],
   "source": [
    "dict_new_stores={}\n",
    "\n",
    "# 1808\tMSY Airport Metarie, LA 70062\n",
    "dict_new_stores.update({\"1808\":{\"GoogleAddress\":\"1 Terminal Dr, Kenner, LA 70062\",\"Google_LatLng\":[29.9910905,-90.2614186]}})\n",
    "\n",
    "# 1584\t1030 Ave D Westwego LA, 70094\n",
    "dict_new_stores.update({\"1584\":{\"GoogleAddress\":\"1030 Avenue D, Westwego, LA 70094\",\"Google_LatLng\":[29.8991779,-90.1479471]}})\n",
    "\n",
    "# 1709\t2525 Jackson Rd Ann Arbor MI, 48105\n",
    "dict_new_stores.update({\"1709\":{\"GoogleAddress\":\"2635 Jackson Ave, Ann Arbor, MI 48103\",\"Google_LatLng\":[42.2808521,-83.7832389]}})\n",
    "\n"
   ]
  },
  {
   "cell_type": "code",
   "execution_count": 13,
   "metadata": {
    "collapsed": true
   },
   "outputs": [],
   "source": [
    "df_new_stores['GoogleAddress']=df_new_stores['storenumber'].apply(lambda x: dict_new_stores[x]['GoogleAddress'])\n",
    "df_new_stores['GoogleLatitude']=df_new_stores['storenumber'].apply(lambda x: dict_new_stores[x]['Google_LatLng'][0])\n",
    "df_new_stores['GoogleLongitude']=df_new_stores['storenumber'].apply(lambda x: dict_new_stores[x]['Google_LatLng'][1])\n"
   ]
  },
  {
   "cell_type": "code",
   "execution_count": 14,
   "metadata": {
    "collapsed": true
   },
   "outputs": [],
   "source": [
    "df_new_stores['zips_3_miles']=np.nan\n",
    "\n",
    "for ind,row in df_new_stores.iterrows():\n",
    "    store_center=(row['GoogleLatitude'],row['GoogleLongitude'])\n",
    "    zip_list=[]\n",
    "    for zip_cd in zip_centers.keys():\n",
    "        dist=haversine(store_center,zip_centers[zip_cd],unit=\"mi\")\n",
    "        if dist<=3:\n",
    "            zip_list.extend([zip_cd])\n",
    "    df_new_stores.loc[ind,'zips_3_miles']=str(zip_list)\n"
   ]
  },
  {
   "cell_type": "code",
   "execution_count": 15,
   "metadata": {},
   "outputs": [
    {
     "data": {
      "text/html": [
       "<div>\n",
       "<style scoped>\n",
       "    .dataframe tbody tr th:only-of-type {\n",
       "        vertical-align: middle;\n",
       "    }\n",
       "\n",
       "    .dataframe tbody tr th {\n",
       "        vertical-align: top;\n",
       "    }\n",
       "\n",
       "    .dataframe thead th {\n",
       "        text-align: right;\n",
       "    }\n",
       "</style>\n",
       "<table border=\"1\" class=\"dataframe\">\n",
       "  <thead>\n",
       "    <tr style=\"text-align: right;\">\n",
       "      <th></th>\n",
       "      <th>storenumber</th>\n",
       "      <th>GoogleAddress</th>\n",
       "      <th>GoogleLatitude</th>\n",
       "      <th>GoogleLongitude</th>\n",
       "      <th>zips_3_miles</th>\n",
       "    </tr>\n",
       "  </thead>\n",
       "  <tbody>\n",
       "    <tr>\n",
       "      <th>1</th>\n",
       "      <td>1808</td>\n",
       "      <td>1 Terminal Dr, Kenner, LA 70062</td>\n",
       "      <td>29.991090</td>\n",
       "      <td>-90.261419</td>\n",
       "      <td>['70065', '70062', '70063', '70003', '70141']</td>\n",
       "    </tr>\n",
       "    <tr>\n",
       "      <th>4</th>\n",
       "      <td>1584</td>\n",
       "      <td>1030 Avenue D, Westwego, LA 70094</td>\n",
       "      <td>29.899178</td>\n",
       "      <td>-90.147947</td>\n",
       "      <td>['70073', '70094']</td>\n",
       "    </tr>\n",
       "    <tr>\n",
       "      <th>5</th>\n",
       "      <td>1709</td>\n",
       "      <td>2635 Jackson Ave, Ann Arbor, MI 48103</td>\n",
       "      <td>42.280852</td>\n",
       "      <td>-83.783239</td>\n",
       "      <td>['48106', '48103', '48104', '48107', '48109']</td>\n",
       "    </tr>\n",
       "  </tbody>\n",
       "</table>\n",
       "</div>"
      ],
      "text/plain": [
       "  storenumber                          GoogleAddress  GoogleLatitude  \\\n",
       "1        1808        1 Terminal Dr, Kenner, LA 70062       29.991090   \n",
       "4        1584      1030 Avenue D, Westwego, LA 70094       29.899178   \n",
       "5        1709  2635 Jackson Ave, Ann Arbor, MI 48103       42.280852   \n",
       "\n",
       "   GoogleLongitude                                   zips_3_miles  \n",
       "1       -90.261419  ['70065', '70062', '70063', '70003', '70141']  \n",
       "4       -90.147947                             ['70073', '70094']  \n",
       "5       -83.783239  ['48106', '48103', '48104', '48107', '48109']  "
      ]
     },
     "execution_count": 15,
     "metadata": {},
     "output_type": "execute_result"
    }
   ],
   "source": [
    "df_new_stores"
   ]
  },
  {
   "cell_type": "code",
   "execution_count": 16,
   "metadata": {},
   "outputs": [
    {
     "name": "stderr",
     "output_type": "stream",
     "text": [
      "/home/jian/.local/lib/python3.6/site-packages/pandas/core/frame.py:7138: FutureWarning: Sorting because non-concatenation axis is not aligned. A future version\n",
      "of pandas will change to not sort by default.\n",
      "\n",
      "To accept the future behavior, pass 'sort=False'.\n",
      "\n",
      "To retain the current behavior and silence the warning, pass 'sort=True'.\n",
      "\n",
      "  sort=sort,\n"
     ]
    }
   ],
   "source": [
    "cols=zip_TA.columns.tolist()\n",
    "zip_ta_new_stores=pd.DataFrame(columns=zip_TA.columns.tolist())\n",
    "for ind, row in df_new_stores.iterrows():\n",
    "    store=row['storenumber']\n",
    "    zip_list=eval(row['zips_3_miles'])\n",
    "    df=pd.DataFrame({\"zip\":zip_list},index=[store]*len(zip_list)).reset_index().rename(columns={\"index\":\"store\"})\n",
    "    df['TA_new']=\"new_stores\"\n",
    "    df['Primary_DMA']=\"new_stores\"\n",
    "    df['Co-Op/Regional']=\"Unknown\"\n",
    "    zip_ta_new_stores=zip_ta_new_stores.append(df)\n",
    "zip_ta_new_stores=zip_ta_new_stores[cols]"
   ]
  },
  {
   "cell_type": "code",
   "execution_count": 17,
   "metadata": {
    "collapsed": true
   },
   "outputs": [],
   "source": [
    "zip_TA=zip_TA.append(zip_ta_new_stores)\n",
    "df_TA_zips=zip_TA.copy()"
   ]
  },
  {
   "cell_type": "code",
   "execution_count": 18,
   "metadata": {},
   "outputs": [
    {
     "data": {
      "text/html": [
       "<div>\n",
       "<style scoped>\n",
       "    .dataframe tbody tr th:only-of-type {\n",
       "        vertical-align: middle;\n",
       "    }\n",
       "\n",
       "    .dataframe tbody tr th {\n",
       "        vertical-align: top;\n",
       "    }\n",
       "\n",
       "    .dataframe thead th {\n",
       "        text-align: right;\n",
       "    }\n",
       "</style>\n",
       "<table border=\"1\" class=\"dataframe\">\n",
       "  <thead>\n",
       "    <tr style=\"text-align: right;\">\n",
       "      <th></th>\n",
       "      <th>store</th>\n",
       "      <th>TA_new</th>\n",
       "      <th>zip</th>\n",
       "      <th>Primary_DMA</th>\n",
       "      <th>Co-Op/Regional</th>\n",
       "    </tr>\n",
       "  </thead>\n",
       "  <tbody>\n",
       "    <tr>\n",
       "      <th>124</th>\n",
       "      <td>0016</td>\n",
       "      <td>1_['0016']</td>\n",
       "      <td>70605</td>\n",
       "      <td>LAKE CHARLES</td>\n",
       "      <td>nan</td>\n",
       "    </tr>\n",
       "    <tr>\n",
       "      <th>125</th>\n",
       "      <td>0016</td>\n",
       "      <td>1_['0016']</td>\n",
       "      <td>70609</td>\n",
       "      <td>LAKE CHARLES</td>\n",
       "      <td>nan</td>\n",
       "    </tr>\n",
       "    <tr>\n",
       "      <th>126</th>\n",
       "      <td>0016</td>\n",
       "      <td>1_['0016']</td>\n",
       "      <td>70606</td>\n",
       "      <td>LAKE CHARLES</td>\n",
       "      <td>nan</td>\n",
       "    </tr>\n",
       "    <tr>\n",
       "      <th>127</th>\n",
       "      <td>0016</td>\n",
       "      <td>1_['0016']</td>\n",
       "      <td>70607</td>\n",
       "      <td>LAKE CHARLES</td>\n",
       "      <td>nan</td>\n",
       "    </tr>\n",
       "    <tr>\n",
       "      <th>195</th>\n",
       "      <td>0032</td>\n",
       "      <td>3_['0032', '1146', '1686']</td>\n",
       "      <td>70361</td>\n",
       "      <td>NEW ORLEANS</td>\n",
       "      <td>nan</td>\n",
       "    </tr>\n",
       "    <tr>\n",
       "      <th>...</th>\n",
       "      <td>...</td>\n",
       "      <td>...</td>\n",
       "      <td>...</td>\n",
       "      <td>...</td>\n",
       "      <td>...</td>\n",
       "    </tr>\n",
       "    <tr>\n",
       "      <th>6508</th>\n",
       "      <td>1812</td>\n",
       "      <td>1_['1812']</td>\n",
       "      <td>60585</td>\n",
       "      <td>CHICAGO</td>\n",
       "      <td>nan</td>\n",
       "    </tr>\n",
       "    <tr>\n",
       "      <th>6509</th>\n",
       "      <td>1841</td>\n",
       "      <td>4_['0271', '0995', '1532', '1841']</td>\n",
       "      <td>75080</td>\n",
       "      <td>DALLAS-FT. WORTH</td>\n",
       "      <td>nan</td>\n",
       "    </tr>\n",
       "    <tr>\n",
       "      <th>6510</th>\n",
       "      <td>1841</td>\n",
       "      <td>4_['0271', '0995', '1532', '1841']</td>\n",
       "      <td>75075</td>\n",
       "      <td>DALLAS-FT. WORTH</td>\n",
       "      <td>nan</td>\n",
       "    </tr>\n",
       "    <tr>\n",
       "      <th>6511</th>\n",
       "      <td>1841</td>\n",
       "      <td>4_['0271', '0995', '1532', '1841']</td>\n",
       "      <td>75083</td>\n",
       "      <td>DALLAS-FT. WORTH</td>\n",
       "      <td>nan</td>\n",
       "    </tr>\n",
       "    <tr>\n",
       "      <th>6512</th>\n",
       "      <td>1841</td>\n",
       "      <td>4_['0271', '0995', '1532', '1841']</td>\n",
       "      <td>75252</td>\n",
       "      <td>DALLAS-FT. WORTH</td>\n",
       "      <td>nan</td>\n",
       "    </tr>\n",
       "  </tbody>\n",
       "</table>\n",
       "<p>1519 rows × 5 columns</p>\n",
       "</div>"
      ],
      "text/plain": [
       "     store                              TA_new    zip       Primary_DMA  \\\n",
       "124   0016                          1_['0016']  70605      LAKE CHARLES   \n",
       "125   0016                          1_['0016']  70609      LAKE CHARLES   \n",
       "126   0016                          1_['0016']  70606      LAKE CHARLES   \n",
       "127   0016                          1_['0016']  70607      LAKE CHARLES   \n",
       "195   0032          3_['0032', '1146', '1686']  70361       NEW ORLEANS   \n",
       "...    ...                                 ...    ...               ...   \n",
       "6508  1812                          1_['1812']  60585           CHICAGO   \n",
       "6509  1841  4_['0271', '0995', '1532', '1841']  75080  DALLAS-FT. WORTH   \n",
       "6510  1841  4_['0271', '0995', '1532', '1841']  75075  DALLAS-FT. WORTH   \n",
       "6511  1841  4_['0271', '0995', '1532', '1841']  75083  DALLAS-FT. WORTH   \n",
       "6512  1841  4_['0271', '0995', '1532', '1841']  75252  DALLAS-FT. WORTH   \n",
       "\n",
       "     Co-Op/Regional  \n",
       "124             nan  \n",
       "125             nan  \n",
       "126             nan  \n",
       "127             nan  \n",
       "195             nan  \n",
       "...             ...  \n",
       "6508            nan  \n",
       "6509            nan  \n",
       "6510            nan  \n",
       "6511            nan  \n",
       "6512            nan  \n",
       "\n",
       "[1519 rows x 5 columns]"
      ]
     },
     "execution_count": 18,
     "metadata": {},
     "output_type": "execute_result"
    }
   ],
   "source": [
    "df_TA_zips[df_TA_zips['Co-Op/Regional']==\"nan\"]"
   ]
  },
  {
   "cell_type": "code",
   "execution_count": 19,
   "metadata": {
    "collapsed": true
   },
   "outputs": [],
   "source": [
    "for region,df_group in df_TA_zips.groupby(\"Co-Op/Regional\"):\n",
    "    if region!=\"UnknowRegion\":\n",
    "        df_group=df_group[['zip','Co-Op/Regional']].drop_duplicates()\n",
    "        df_group.to_csv(writer_folder+\"zips_for_the_%s.csv\"%region,index=False)\n",
    "    else:\n",
    "        # df_austin=df_group[df_group['store'].isin(Austin_stores['store'].tolist())]\n",
    "        df_unknown=df_group[~df_group['store'].isin(Austin_stores['store'].tolist())]\n",
    "\n",
    "        # df_austin.to_csv(writer_folder+\"zips_for_the_%s.csv\"%\"AustinDMA\",index=False)\n",
    "        df_unknown.to_csv(writer_folder+\"zips_for_the_%s.csv\"%\"UnknownRegion\",index=False)\n",
    "df_output_overall_zips=df_TA_zips[['zip']].drop_duplicates()\n",
    "df_output_overall_zips.to_csv(writer_folder+\"overall_zips_in_TA.csv\",index=False)"
   ]
  },
  {
   "cell_type": "code",
   "execution_count": 20,
   "metadata": {
    "collapsed": true
   },
   "outputs": [],
   "source": [
    "writer=pd.ExcelWriter(writer_folder+\"SmoothieKing_TA_of_3_miles_zips_JL_\"+str(datetime.datetime.now().date())+\".xlsx\",engine=\"xlsxwriter\")\n",
    "df_TA_zips.to_excel(writer,\"df_TA_zips\",index=False)\n",
    "df_new_stores.to_excel(writer,\"new_stores_add_on\",index=False)\n",
    "df_by_store.to_excel(writer,\"df_by_store\",index=False)\n",
    "rfa_mapping=pd.read_excel(\"/home/jian/Projects/Smoothie_King/SK_celery/RFA_region_20190128.xlsx\",dtype=str)\n",
    "rfa_mapping.to_excel(writer,\"RFA_region_20190128\",index=False)\n",
    "writer.save()"
   ]
  },
  {
   "cell_type": "code",
   "execution_count": 21,
   "metadata": {},
   "outputs": [
    {
     "data": {
      "text/plain": [
       "'./output_2019-12-04/'"
      ]
     },
     "execution_count": 21,
     "metadata": {},
     "output_type": "execute_result"
    }
   ],
   "source": [
    "writer_folder"
   ]
  },
  {
   "cell_type": "code",
   "execution_count": 22,
   "metadata": {},
   "outputs": [
    {
     "data": {
      "text/plain": [
       "['Atlanta',\n",
       " 'Austin',\n",
       " 'Baton Rouge',\n",
       " 'Biloxi',\n",
       " 'Charlotte',\n",
       " 'Cincinnati',\n",
       " 'Dallas-Fort Worth',\n",
       " 'Houston',\n",
       " 'Jackson',\n",
       " 'Kansas City',\n",
       " 'Memphis',\n",
       " 'Miami-Ft. Lauderdale',\n",
       " 'Mobile-Pensacola-Destin',\n",
       " 'Nashville',\n",
       " 'New Orleans',\n",
       " 'Orlando',\n",
       " 'San Antonio',\n",
       " 'St. Louis',\n",
       " 'Tampa',\n",
       " 'Unknown',\n",
       " 'Washington DC',\n",
       " 'nan']"
      ]
     },
     "execution_count": 22,
     "metadata": {},
     "output_type": "execute_result"
    }
   ],
   "source": [
    "sorted(df_TA_zips['Co-Op/Regional'].unique().tolist())"
   ]
  },
  {
   "cell_type": "code",
   "execution_count": null,
   "metadata": {
    "collapsed": true
   },
   "outputs": [],
   "source": []
  }
 ],
 "metadata": {
  "kernelspec": {
   "display_name": "Python 3",
   "language": "python",
   "name": "python3"
  },
  "language_info": {
   "codemirror_mode": {
    "name": "ipython",
    "version": 3
   },
   "file_extension": ".py",
   "mimetype": "text/x-python",
   "name": "python",
   "nbconvert_exporter": "python",
   "pygments_lexer": "ipython3",
   "version": "3.6.1"
  }
 },
 "nbformat": 4,
 "nbformat_minor": 2
}
