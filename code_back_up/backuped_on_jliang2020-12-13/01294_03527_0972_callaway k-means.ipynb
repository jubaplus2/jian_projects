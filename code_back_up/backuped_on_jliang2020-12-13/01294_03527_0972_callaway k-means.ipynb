{
 "cells": [
  {
   "cell_type": "code",
   "execution_count": 1,
   "metadata": {
    "collapsed": true
   },
   "outputs": [],
   "source": [
    "import pandas as pd\n",
    "pd.options.display.max_rows=6\n",
    "\n",
    "from sklearn.cluster import KMeans"
   ]
  },
  {
   "cell_type": "code",
   "execution_count": 2,
   "metadata": {
    "collapsed": true
   },
   "outputs": [],
   "source": [
    "media_freq_by_user_id = pd.read_csv('/home/jubauser1/jzou/dcm_account7252/user_path/media_freq_by_user_id.csv')"
   ]
  },
  {
   "cell_type": "code",
   "execution_count": 3,
   "metadata": {},
   "outputs": [],
   "source": [
    "l = list(media_freq_by_user_id['user_id'])"
   ]
  },
  {
   "cell_type": "code",
   "execution_count": 5,
   "metadata": {},
   "outputs": [],
   "source": [
    "l.sort()"
   ]
  },
  {
   "cell_type": "code",
   "execution_count": 8,
   "metadata": {},
   "outputs": [
    {
     "data": {
      "text/plain": [
       "2653952"
      ]
     },
     "execution_count": 8,
     "metadata": {},
     "output_type": "execute_result"
    }
   ],
   "source": [
    "len(l)"
   ]
  },
  {
   "cell_type": "code",
   "execution_count": 10,
   "metadata": {},
   "outputs": [
    {
     "data": {
      "text/plain": [
       "433262"
      ]
     },
     "execution_count": 10,
     "metadata": {},
     "output_type": "execute_result"
    }
   ],
   "source": [
    "l.index('AMsySZYdqUWNI4KFPS3yoVyBKiW2')"
   ]
  },
  {
   "cell_type": "code",
   "execution_count": 12,
   "metadata": {},
   "outputs": [
    {
     "data": {
      "text/plain": [
       "1388"
      ]
     },
     "execution_count": 12,
     "metadata": {},
     "output_type": "execute_result"
    }
   ],
   "source": [
    "l.index('AMsySZY-86ih0HvaqZVbhrzx4yLU')"
   ]
  },
  {
   "cell_type": "code",
   "execution_count": 4,
   "metadata": {},
   "outputs": [
    {
     "data": {
      "text/plain": [
       "Index(['HVA1', 'HVA2', 'HVA3', 'branded_click: DART Search : Google',\n",
       "       'branded_click: DART Search : MSN', 'click: Criteo',\n",
       "       'click: DART Search : Google', 'click: DART Search : MSN',\n",
       "       'click: Facebook', 'click: QuantCast', 'click: Rakuten Marketing Index',\n",
       "       'impr: Criteo', 'impr: QuantCast', 'impr: Rakuten Marketing Index',\n",
       "       'nonbranded_click: DART Search : Google',\n",
       "       'nonbranded_click: DART Search : MSN', 'others', 'transaction',\n",
       "       'user_id', 'group'],\n",
       "      dtype='object')"
      ]
     },
     "execution_count": 4,
     "metadata": {},
     "output_type": "execute_result"
    }
   ],
   "source": [
    "media_freq_by_user_id.columns"
   ]
  },
  {
   "cell_type": "code",
   "execution_count": 5,
   "metadata": {
    "collapsed": true
   },
   "outputs": [],
   "source": [
    "medias = ['branded_click: DART Search : Google',\n",
    "       'branded_click: DART Search : MSN', 'click: Criteo',\n",
    "       'click: DART Search : Google', 'click: DART Search : MSN',\n",
    "       'click: Facebook', 'click: QuantCast', 'click: Rakuten Marketing Index',\n",
    "       'impr: Criteo', 'impr: QuantCast', 'impr: Rakuten Marketing Index',\n",
    "       'nonbranded_click: DART Search : Google',\n",
    "       'nonbranded_click: DART Search : MSN']"
   ]
  },
  {
   "cell_type": "code",
   "execution_count": 11,
   "metadata": {
    "collapsed": true
   },
   "outputs": [],
   "source": [
    "kmeans = KMeans(n_clusters=9, random_state=0, n_init=10, max_iter=50, n_jobs=10).fit(\n",
    "    media_freq_by_user_id[media_freq_by_user_id['group'] == 1][medias])"
   ]
  },
  {
   "cell_type": "code",
   "execution_count": 16,
   "metadata": {},
   "outputs": [
    {
     "data": {
      "text/plain": [
       "array([0, 7, 6, ..., 6, 0, 0], dtype=int32)"
      ]
     },
     "execution_count": 16,
     "metadata": {},
     "output_type": "execute_result"
    }
   ],
   "source": [
    "kmeans.labels_"
   ]
  },
  {
   "cell_type": "code",
   "execution_count": 17,
   "metadata": {},
   "outputs": [
    {
     "data": {
      "text/plain": [
       "3259531.864238977"
      ]
     },
     "execution_count": 17,
     "metadata": {},
     "output_type": "execute_result"
    }
   ],
   "source": [
    "kmeans.inertia_"
   ]
  },
  {
   "cell_type": "code",
   "execution_count": 12,
   "metadata": {
    "collapsed": true
   },
   "outputs": [],
   "source": [
    "pd.DataFrame(kmeans.cluster_centers_, columns=medias).to_csv(\n",
    "    '/home/jubauser1/jzou/dcm_account7252/user_path/k-means/buyer_9_clusters.csv')"
   ]
  },
  {
   "cell_type": "code",
   "execution_count": 17,
   "metadata": {
    "collapsed": true
   },
   "outputs": [],
   "source": [
    "for i in range(4,11):\n",
    "    kmeans = KMeans(n_clusters=i, random_state=0, n_init=10, max_iter=50, n_jobs=10).fit(\n",
    "        media_freq_by_user_id[media_freq_by_user_id['group'] == 4][medias])\n",
    "    pd.DataFrame(kmeans.cluster_centers_, columns=medias).to_csv(\n",
    "        '/home/jubauser1/jzou/dcm_account7252/user_path/k-means/no_visit_%d_clusters.csv'%i)"
   ]
  },
  {
   "cell_type": "code",
   "execution_count": null,
   "metadata": {
    "collapsed": true
   },
   "outputs": [],
   "source": []
  }
 ],
 "metadata": {
  "kernelspec": {
   "display_name": "Python 3",
   "language": "python",
   "name": "python3"
  },
  "language_info": {
   "codemirror_mode": {
    "name": "ipython",
    "version": 3
   },
   "file_extension": ".py",
   "mimetype": "text/x-python",
   "name": "python",
   "nbconvert_exporter": "python",
   "pygments_lexer": "ipython3",
   "version": "3.6.1"
  }
 },
 "nbformat": 4,
 "nbformat_minor": 2
}
