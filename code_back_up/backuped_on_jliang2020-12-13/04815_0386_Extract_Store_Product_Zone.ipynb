{
 "cells": [
  {
   "cell_type": "code",
   "execution_count": 7,
   "metadata": {
    "collapsed": true
   },
   "outputs": [],
   "source": [
    "import pandas as pd\n",
    "import glob\n",
    "import numpy as np\n",
    "import datetime\n",
    "import logging\n",
    "import re\n",
    "import os\n",
    "today_str=str(datetime.datetime.now().date())\n",
    "writer_folder=\"/home/jian/Projects/Big_Lots/Newspaper/output_\"+today_str+\"/\"\n",
    "try:\n",
    "    os.stat(writer_folder)\n",
    "except:\n",
    "    os.mkdir(writer_folder)\n",
    "    \n",
    "\n",
    "logging.basicConfig(filename='read_all_newspaper_'+today_str+'_files.log', level=logging.INFO)"
   ]
  },
  {
   "cell_type": "markdown",
   "metadata": {},
   "source": [
    "# Newspaper Week Availablility"
   ]
  },
  {
   "cell_type": "code",
   "execution_count": 8,
   "metadata": {
    "collapsed": true
   },
   "outputs": [],
   "source": [
    "start_running=str(datetime.datetime.now())\n",
    "logging.info(\"Newspaper level - Start to run: \"+ start_running)\n",
    "\n",
    "folder=\"/home/jian/Projects/Big_Lots/Newspaper/All newspaper files for reading JL/\"\n",
    "\n",
    "file_list=glob.glob(folder+\"*\")\n",
    "logging.info(\"Newspaper level - Total files: \"+str(len(file_list)))\n",
    "\n",
    "# Selected_Col=['projectname','storeid','productname','productid','zoneid','zips']\n",
    "\n",
    "finished=[]"
   ]
  },
  {
   "cell_type": "code",
   "execution_count": 9,
   "metadata": {},
   "outputs": [
    {
     "name": "stderr",
     "output_type": "stream",
     "text": [
      "/usr/local/lib/python3.6/site-packages/ipykernel_launcher.py:16: SettingWithCopyWarning: \n",
      "A value is trying to be set on a copy of a slice from a DataFrame.\n",
      "Try using .loc[row_indexer,col_indexer] = value instead\n",
      "\n",
      "See the caveats in the documentation: http://pandas.pydata.org/pandas-docs/stable/indexing.html#indexing-view-versus-copy\n",
      "  app.launch_new_instance()\n",
      "/usr/local/lib/python3.6/site-packages/ipykernel_launcher.py:19: SettingWithCopyWarning: \n",
      "A value is trying to be set on a copy of a slice from a DataFrame.\n",
      "Try using .loc[row_indexer,col_indexer] = value instead\n",
      "\n",
      "See the caveats in the documentation: http://pandas.pydata.org/pandas-docs/stable/indexing.html#indexing-view-versus-copy\n"
     ]
    }
   ],
   "source": [
    "output_date_zip_store_news_zone=pd.DataFrame()\n",
    "output_date_store_news_zone=pd.DataFrame()\n",
    "output_store_news_zone=pd.DataFrame()\n",
    "\n",
    "\n",
    "for file in file_list:\n",
    "    date=file.split(\"/\")[len(file.split(\"/\"))-1].split(\" \")[0]+\" \"+file.split(\"/\")[len(file.split(\"/\"))-1].split(\" \")[1]+\" \"+\\\n",
    "    file.split(\"/\")[len(file.split(\"/\"))-1].split(\" \")[2]\n",
    "    date=date.replace(\"Sept\",\"Sep\")\n",
    "    if len(date.split(\" \")[0])==3:\n",
    "        date=datetime.datetime.strptime(date,\"%b %d %Y\").date()\n",
    "    else:\n",
    "        date=datetime.datetime.strptime(date,\"%B %d %Y\").date()\n",
    "    if date>=datetime.date(2017,5,10):\n",
    "        df=pd.read_excel(file,sheetname=\"to_read\",dtype=str,na_values=['NULL','null','Null',\"\",\" \"])\n",
    "        df_date_zip_store_news_zone=df[['storeid','productid','zoneid','zips']]\n",
    "        df_date_zip_store_news_zone['Date']=date\n",
    "        \n",
    "        df_date_store_news_zone=df[['storeid','productid','zoneid']]\n",
    "        df_date_store_news_zone['Date']=date\n",
    "        \n",
    "        df_store_news_zone=df[['storeid','productid','zoneid']]\n",
    "        \n",
    "        output_date_zip_store_news_zone=output_date_zip_store_news_zone.append(df_date_zip_store_news_zone).drop_duplicates()\n",
    "        output_date_store_news_zone=output_date_store_news_zone.append(df_date_store_news_zone).drop_duplicates()\n",
    "        output_store_news_zone=output_store_news_zone.append(df_store_news_zone).drop_duplicates()    "
   ]
  },
  {
   "cell_type": "code",
   "execution_count": 11,
   "metadata": {},
   "outputs": [],
   "source": [
    "writer=pd.ExcelWriter(\"/home/jian/Projects/Big_Lots/Newspaper/BL_Newspaper product one extract_JL_\"+today_str+\".xlsx\",engine='xlsxwriter')\n",
    "\n",
    "output_store_news_zone.to_excel(writer,\"store_news_zone\",index=False)\n",
    "output_date_store_news_zone.to_excel(writer,\"date_store_news_zone\",index=False)\n",
    "output_date_zip_store_news_zone.to_excel(writer,\"date_zip_store_news_zone\",index=False)\n",
    "writer.save()"
   ]
  },
  {
   "cell_type": "code",
   "execution_count": null,
   "metadata": {
    "collapsed": true
   },
   "outputs": [],
   "source": []
  }
 ],
 "metadata": {
  "kernelspec": {
   "display_name": "Python 3",
   "language": "python",
   "name": "python3"
  },
  "language_info": {
   "codemirror_mode": {
    "name": "ipython",
    "version": 3
   },
   "file_extension": ".py",
   "mimetype": "text/x-python",
   "name": "python",
   "nbconvert_exporter": "python",
   "pygments_lexer": "ipython3",
   "version": "3.6.1"
  }
 },
 "nbformat": 4,
 "nbformat_minor": 2
}
