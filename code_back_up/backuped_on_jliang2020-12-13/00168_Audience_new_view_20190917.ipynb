{
 "cells": [
  {
   "cell_type": "code",
   "execution_count": 1,
   "metadata": {},
   "outputs": [
    {
     "data": {
      "text/plain": [
       "'/home/jian/Projects/Big_Lots/Analysis/2019_Q3/Projection_est_in_Q3'"
      ]
     },
     "execution_count": 1,
     "metadata": {},
     "output_type": "execute_result"
    }
   ],
   "source": [
    "# First 5 weeks & rewards in 19 Audience only \n",
    "\n",
    "import pandas as pd\n",
    "import datetime\n",
    "import numpy as np\n",
    "import os\n",
    "import glob\n",
    "import gc\n",
    "\n",
    "def recursive_file_gen(root_folder):\n",
    "    for root, dirs, files in os.walk(root_folder):\n",
    "        for file in files:\n",
    "            yield os.path.join(root, file)\n",
    "            \n",
    "os.getcwd()\n",
    "\n",
    "# Note how to difine the new sign ups"
   ]
  },
  {
   "cell_type": "code",
   "execution_count": 2,
   "metadata": {},
   "outputs": [
    {
     "data": {
      "text/plain": [
       "446"
      ]
     },
     "execution_count": 2,
     "metadata": {},
     "output_type": "execute_result"
    }
   ],
   "source": [
    "set_SOTF_number=pd.ExcelFile(\"./SOTF/Store List Report 20190910  09.10.19 417PM Dom edited BR .xlsx\")\n",
    "# set_SOTF_number.sheet_names\n",
    "set_SOTF_number=set_SOTF_number.parse(\"SOTF pre 11-15-19 (462)\",dtype=str)\n",
    "set_SOTF_number=set_SOTF_number[(set_SOTF_number['SOTF']==\"Yes\") & (set_SOTF_number['Open Date']<=\"2019-09-07\")]\n",
    "set_SOTF_number=set(set_SOTF_number['Store'].unique().tolist())\n",
    "len(set_SOTF_number)"
   ]
  },
  {
   "cell_type": "code",
   "execution_count": 3,
   "metadata": {},
   "outputs": [
    {
     "name": "stdout",
     "output_type": "stream",
     "text": [
      "new_sign_ups_after_2019Q3_end.shape (7623850, 2)\n",
      "new_sign_ups_after_2019Q3_end['customer_id_hashed'].nunique() 7623841\n"
     ]
    }
   ],
   "source": [
    "new_sign_ups_after_2019Q3_end=pd.read_table(\"/home/jian/BigLots/New_Sing_Ups_2018_Fiscal_Year/All Rewards Members 2018-02-04 - 2019-05-04.zip\",\n",
    "                                             compression=\"zip\",dtype=str,sep=\"|\",usecols=['customer_id_hashed','sign_up_date'])\n",
    "new_sign_ups_after_2019Q3_end=new_sign_ups_after_2019Q3_end[new_sign_ups_after_2019Q3_end['sign_up_date']>=\"2018-08-05\"] # First of 2018Q3\n",
    "master_file_gap=pd.read_table(\"/home/jian/BigLots/New_Sing_Ups_2018_Fiscal_Year/MediaStorm Rewards Master P4 2019 - no transaction info.zip\",\n",
    "                                             compression=\"zip\",dtype=str,sep=\"|\",usecols=['customer_id_hashed','sign_up_date'])\n",
    "new_sign_ups_after_2019Q3_end=master_file_gap.append(new_sign_ups_after_2019Q3_end).drop_duplicates()\n",
    "del master_file_gap\n",
    "###\n",
    "\n",
    "all_master_files_after_201906=list(recursive_file_gen(\"/home/jian/BigLots/2019_by_weeks/\"))\n",
    "all_master_files_after_201906=[x for x in all_master_files_after_201906 if (\"aster\" in x) & (\".txt\" in x)]\n",
    "all_master_files_after_201906=[x for x in all_master_files_after_201906 if x.split(\"ts/2019_by_weeks/MediaStorm_\")[1][:10]>\"2019-06-01\"]\n",
    "df_master_all_later_after_201906=pd.DataFrame()\n",
    "for file in all_master_files_after_201906:\n",
    "    df=pd.read_table(file,dtype=str,sep=\"|\",usecols=['customer_id_hashed','sign_up_date'])\n",
    "    df_master_all_later_after_201906=df_master_all_later_after_201906.append(df)\n",
    "\n",
    "new_sign_ups_after_2019Q3_end=new_sign_ups_after_2019Q3_end.append(df_master_all_later_after_201906).drop_duplicates()\n",
    "del df_master_all_later_after_201906\n",
    "\n",
    "\n",
    "gc.collect()\n",
    "print(\"new_sign_ups_after_2019Q3_end.shape\",new_sign_ups_after_2019Q3_end.shape)\n",
    "print(\"new_sign_ups_after_2019Q3_end['customer_id_hashed'].nunique()\",new_sign_ups_after_2019Q3_end['customer_id_hashed'].nunique())"
   ]
  },
  {
   "cell_type": "code",
   "execution_count": 4,
   "metadata": {},
   "outputs": [
    {
     "data": {
      "text/plain": [
       "(18, 2)"
      ]
     },
     "execution_count": 4,
     "metadata": {},
     "output_type": "execute_result"
    }
   ],
   "source": [
    "dup_ids=new_sign_ups_after_2019Q3_end[new_sign_ups_after_2019Q3_end['customer_id_hashed'].duplicated()]['customer_id_hashed'].tolist()\n",
    "df=new_sign_ups_after_2019Q3_end[new_sign_ups_after_2019Q3_end['customer_id_hashed'].isin(dup_ids)]\n",
    "df.shape"
   ]
  },
  {
   "cell_type": "code",
   "execution_count": 5,
   "metadata": {},
   "outputs": [
    {
     "data": {
      "text/plain": [
       "35"
      ]
     },
     "execution_count": 5,
     "metadata": {},
     "output_type": "execute_result"
    }
   ],
   "source": [
    "new_sign_ups_after_2019Q3_end=new_sign_ups_after_2019Q3_end.sort_values(['customer_id_hashed','sign_up_date'],ascending=[True,False]).drop_duplicates(\"customer_id_hashed\")\n",
    "set_new_signed_ids=set(new_sign_ups_after_2019Q3_end['customer_id_hashed'].tolist())\n",
    "del new_sign_ups_after_2019Q3_end\n",
    "gc.collect()"
   ]
  },
  {
   "cell_type": "code",
   "execution_count": 6,
   "metadata": {},
   "outputs": [
    {
     "name": "stdout",
     "output_type": "stream",
     "text": [
      "25 25\n",
      "542702\n",
      "(21810554, 2)  |  21810554\n"
     ]
    }
   ],
   "source": [
    "audience_list_2019Q3=\"/home/jian/Projects/Big_Lots/Live_Ramp/Quarterly_Update_2019Q3/upload_files/\"\n",
    "audience_list_2019Q3=glob.glob(audience_list_2019Q3+\"*.csv\")\n",
    "len(audience_list_2019Q3)\n",
    "\n",
    "\n",
    "audience_list_2019Q3_C=[x for x in audience_list_2019Q3 if os.path.basename(x)[0]==\"C\"]\n",
    "audience_list_2019Q3_T=[x for x in audience_list_2019Q3 if os.path.basename(x)[0]==\"T\"]\n",
    "print(len(audience_list_2019Q3_C),len(audience_list_2019Q3_T))\n",
    "\n",
    "set_C_2019Q3=set()\n",
    "for file in audience_list_2019Q3_C:\n",
    "    df=pd.read_csv(file,dtype=str,usecols=[\"customer_id_hashed\"])\n",
    "    set_C_2019Q3=set_C_2019Q3.union(set(df['customer_id_hashed'].tolist()))\n",
    "print(len(set_C_2019Q3))\n",
    "\n",
    "\n",
    "df_audience_2019Q3=pd.DataFrame()\n",
    "\n",
    "for file in audience_list_2019Q3_T:\n",
    "    df=pd.read_csv(file,dtype=str,usecols=['customer_id_hashed','segment'])\n",
    "    df=df[~df['customer_id_hashed'].isin(set_C_2019Q3)]\n",
    "    df_audience_2019Q3=df_audience_2019Q3.append(df)\n",
    "df_audience_2019Q3=df_audience_2019Q3.drop_duplicates()\n",
    "\n",
    "print(df_audience_2019Q3.shape,\" | \",df_audience_2019Q3['customer_id_hashed'].nunique())"
   ]
  },
  {
   "cell_type": "code",
   "execution_count": 7,
   "metadata": {},
   "outputs": [
    {
     "name": "stdout",
     "output_type": "stream",
     "text": [
      "(21810554, 3)\n",
      "(7, 2)\n"
     ]
    },
    {
     "data": {
      "text/html": [
       "<div>\n",
       "<style>\n",
       "    .dataframe thead tr:only-child th {\n",
       "        text-align: right;\n",
       "    }\n",
       "\n",
       "    .dataframe thead th {\n",
       "        text-align: left;\n",
       "    }\n",
       "\n",
       "    .dataframe tbody tr th {\n",
       "        vertical-align: top;\n",
       "    }\n",
       "</style>\n",
       "<table border=\"1\" class=\"dataframe\">\n",
       "  <thead>\n",
       "    <tr style=\"text-align: right;\">\n",
       "      <th></th>\n",
       "      <th>segment_2</th>\n",
       "      <th>ids_total</th>\n",
       "    </tr>\n",
       "  </thead>\n",
       "  <tbody>\n",
       "    <tr>\n",
       "      <th>0</th>\n",
       "      <td>T_P_H_2019Q3_RFM</td>\n",
       "      <td>4937981</td>\n",
       "    </tr>\n",
       "    <tr>\n",
       "      <th>1</th>\n",
       "      <td>T_P_L_2019Q3_RFM</td>\n",
       "      <td>3391401</td>\n",
       "    </tr>\n",
       "    <tr>\n",
       "      <th>2</th>\n",
       "      <td>T_P_M_2019Q3_RFM</td>\n",
       "      <td>3515875</td>\n",
       "    </tr>\n",
       "    <tr>\n",
       "      <th>3</th>\n",
       "      <td>T_S_H_2019Q3_RFM</td>\n",
       "      <td>1694485</td>\n",
       "    </tr>\n",
       "    <tr>\n",
       "      <th>4</th>\n",
       "      <td>T_S_L_2019Q3_RFM</td>\n",
       "      <td>1422640</td>\n",
       "    </tr>\n",
       "    <tr>\n",
       "      <th>5</th>\n",
       "      <td>T_S_M_2019Q3_RFM</td>\n",
       "      <td>1361003</td>\n",
       "    </tr>\n",
       "    <tr>\n",
       "      <th>6</th>\n",
       "      <td>T_lapsed_18_48_PS_RFM</td>\n",
       "      <td>5487169</td>\n",
       "    </tr>\n",
       "  </tbody>\n",
       "</table>\n",
       "</div>"
      ],
      "text/plain": [
       "               segment_2  ids_total\n",
       "0       T_P_H_2019Q3_RFM    4937981\n",
       "1       T_P_L_2019Q3_RFM    3391401\n",
       "2       T_P_M_2019Q3_RFM    3515875\n",
       "3       T_S_H_2019Q3_RFM    1694485\n",
       "4       T_S_L_2019Q3_RFM    1422640\n",
       "5       T_S_M_2019Q3_RFM    1361003\n",
       "6  T_lapsed_18_48_PS_RFM    5487169"
      ]
     },
     "execution_count": 7,
     "metadata": {},
     "output_type": "execute_result"
    }
   ],
   "source": [
    "# Rolling up removing the quadrant\n",
    "df_audience_total_count_original=df_audience_2019Q3.groupby(\"segment\")['customer_id_hashed'].nunique().to_frame().reset_index().rename(columns={\"customer_id_hashed\":\"ids_total\"})\n",
    "df_audience_2019Q3['segment_2']=df_audience_2019Q3['segment'].str.replace(\"Quadrant I_\",\"\")\n",
    "df_audience_2019Q3['segment_2']=df_audience_2019Q3['segment_2'].str.replace(\"Quadrant II_\",\"\")\n",
    "df_audience_2019Q3['segment_2']=df_audience_2019Q3['segment_2'].str.replace(\"Quadrant III_\",\"\")\n",
    "df_audience_2019Q3['segment_2']=df_audience_2019Q3['segment_2'].str.replace(\"Quadrant IV_\",\"\")\n",
    "print(df_audience_2019Q3.shape)\n",
    "\n",
    "df_audience_total_count=df_audience_2019Q3.groupby(\"segment_2\")['customer_id_hashed'].nunique().to_frame().reset_index().rename(columns={\"customer_id_hashed\":\"ids_total\"})\n",
    "\n",
    "del df_audience_2019Q3['segment']\n",
    "df_audience_2019Q3=df_audience_2019Q3.rename(columns={\"segment_2\":\"segment\"})\n",
    "\n",
    "print(df_audience_total_count.shape)\n",
    "df_audience_total_count"
   ]
  },
  {
   "cell_type": "code",
   "execution_count": 8,
   "metadata": {},
   "outputs": [
    {
     "data": {
      "text/plain": [
       "6"
      ]
     },
     "execution_count": 8,
     "metadata": {},
     "output_type": "execute_result"
    }
   ],
   "source": [
    "sales_file_2019Q3=list(recursive_file_gen(\"/home/jian/BigLots/2019_by_weeks/\"))\n",
    "sales_file_2019Q3=[x for x in sales_file_2019Q3 if x.split(\"MediaStorm_\")[1][:10]>=\"2019-08-05\" and x.split(\"MediaStorm_\")[1][:10]<=\"2019-09-14\" and \"Daily\" in x]\n",
    "len(sales_file_2019Q3)\n"
   ]
  },
  {
   "cell_type": "code",
   "execution_count": 9,
   "metadata": {},
   "outputs": [
    {
     "data": {
      "text/plain": [
       "6"
      ]
     },
     "execution_count": 9,
     "metadata": {},
     "output_type": "execute_result"
    }
   ],
   "source": [
    "# First 6 weeks only\n",
    "sales_file_2018Q3=glob.glob(\"/home/jian/BigLots/hist_daily_data_itemlevel_decompressed/*.txt\")\n",
    "sales_file_2018Q3=[x for x in sales_file_2018Q3 if x.split(\"MediaStormDailySalesHistory\")[1][:8]>\"20180804\" and x.split(\"MediaStormDailySalesHistory\")[1][:8]<=\"20180915\"]\n",
    "len(sales_file_2018Q3)"
   ]
  },
  {
   "cell_type": "code",
   "execution_count": 10,
   "metadata": {},
   "outputs": [
    {
     "name": "stdout",
     "output_type": "stream",
     "text": [
      "2019-09-18 11:25:48.727100 0 (1190721, 6)\n",
      "2019-09-18 11:33:34.195734 1 (2414440, 6)\n",
      "2019-09-18 11:39:30.651773 2 (3646503, 6)\n",
      "2019-09-18 11:45:02.110368 3 (4894015, 6)\n",
      "2019-09-18 11:50:40.877220 4 (6144836, 6)\n",
      "2019-09-18 11:55:45.584474 5 (7315812, 6)\n"
     ]
    },
    {
     "data": {
      "text/plain": [
       "96"
      ]
     },
     "execution_count": 10,
     "metadata": {},
     "output_type": "execute_result"
    }
   ],
   "source": [
    "df_agg_POS_data_2018Q3_rewards=pd.DataFrame()\n",
    "\n",
    "i_counter=0\n",
    "for file in sales_file_2018Q3:\n",
    "    df=pd.read_table(file,dtype=str,sep=\"|\",usecols=['location_id','transaction_dt','transaction_id','customer_id_hashed',\n",
    "                                                     'item_transaction_units','item_transaction_amt'])\n",
    "    df=df[pd.notnull(df['customer_id_hashed'])]\n",
    "    df['item_transaction_units']=df['item_transaction_units'].astype(int)\n",
    "    df['item_transaction_amt']=df['item_transaction_amt'].astype(float)\n",
    "    \n",
    "    df_sales=df.groupby(['location_id','transaction_dt','customer_id_hashed'])['item_transaction_units','item_transaction_amt'].sum().reset_index()\n",
    "    df_sales=df_sales.rename(columns={\"item_transaction_units\":\"units\",\"item_transaction_amt\":\"sales\"})\n",
    "    \n",
    "    df_trans=df[['location_id','transaction_dt','transaction_id','customer_id_hashed']].drop_duplicates()\n",
    "    df_trans['trans']=1\n",
    "    df_trans=df_trans.groupby(['location_id','transaction_dt','customer_id_hashed'])['trans'].sum().to_frame().reset_index()\n",
    "    \n",
    "    df=pd.merge(df_sales,df_trans,on=[\"location_id\",'transaction_dt','customer_id_hashed'],how=\"outer\")\n",
    "    df_agg_POS_data_2018Q3_rewards=df_agg_POS_data_2018Q3_rewards.append(df)\n",
    "    \n",
    "    print(datetime.datetime.now(),i_counter,df_agg_POS_data_2018Q3_rewards.shape)\n",
    "    i_counter+=1\n",
    "gc.collect()"
   ]
  },
  {
   "cell_type": "code",
   "execution_count": 11,
   "metadata": {},
   "outputs": [
    {
     "name": "stdout",
     "output_type": "stream",
     "text": [
      "2019-09-18 11:59:24.844043 0 (1312276, 6)\n",
      "2019-09-18 12:07:01.660076 1 (2641439, 6)\n",
      "2019-09-18 12:13:20.714391 2 (3993285, 6)\n",
      "2019-09-18 12:18:58.445942 3 (5407040, 6)\n",
      "2019-09-18 12:23:10.937558 4 (6796632, 6)\n",
      "2019-09-18 12:27:42.354969 5 (8103909, 6)\n"
     ]
    },
    {
     "data": {
      "text/plain": [
       "96"
      ]
     },
     "execution_count": 11,
     "metadata": {},
     "output_type": "execute_result"
    }
   ],
   "source": [
    "df_agg_POS_data_2019Q3_rewards=pd.DataFrame()\n",
    "\n",
    "i_counter=0\n",
    "for file in sales_file_2019Q3:\n",
    "    df=pd.read_table(file,dtype=str,sep=\"|\",usecols=['location_id','transaction_dt','transaction_id','customer_id_hashed',\n",
    "                                                     'item_transaction_units','item_transaction_amt'])\n",
    "    df=df[pd.notnull(df['customer_id_hashed'])]\n",
    "    df['item_transaction_units']=df['item_transaction_units'].astype(int)\n",
    "    df['item_transaction_amt']=df['item_transaction_amt'].astype(float)\n",
    "    \n",
    "    df_sales=df.groupby(['location_id','transaction_dt','customer_id_hashed'])['item_transaction_units','item_transaction_amt'].sum().reset_index()\n",
    "    df_sales=df_sales.rename(columns={\"item_transaction_units\":\"units\",\"item_transaction_amt\":\"sales\"})\n",
    "    \n",
    "    df_trans=df[['location_id','transaction_dt','transaction_id','customer_id_hashed']].drop_duplicates()\n",
    "    df_trans['trans']=1\n",
    "    df_trans=df_trans.groupby(['location_id','transaction_dt','customer_id_hashed'])['trans'].sum().to_frame().reset_index()\n",
    "    \n",
    "    df=pd.merge(df_sales,df_trans,on=[\"location_id\",'transaction_dt','customer_id_hashed'],how=\"outer\")\n",
    "    df_agg_POS_data_2019Q3_rewards=df_agg_POS_data_2019Q3_rewards.append(df)\n",
    "    \n",
    "    print(datetime.datetime.now(),i_counter,df_agg_POS_data_2019Q3_rewards.shape)\n",
    "    i_counter+=1\n",
    "gc.collect()"
   ]
  },
  {
   "cell_type": "code",
   "execution_count": 12,
   "metadata": {
    "collapsed": true
   },
   "outputs": [],
   "source": [
    "def week_end_dt(x):\n",
    "    y=datetime.datetime.strptime(x,\"%Y-%m-%d\").date()\n",
    "    if y.weekday()==6:\n",
    "        y=y+datetime.timedelta(days=6)\n",
    "    else:\n",
    "        y=y+datetime.timedelta(days=5-y.weekday())\n",
    "    return y"
   ]
  },
  {
   "cell_type": "code",
   "execution_count": 13,
   "metadata": {
    "collapsed": true
   },
   "outputs": [],
   "source": [
    "df_agg_POS_data_2019Q3_rewards['Store_Type']=np.where(df_agg_POS_data_2019Q3_rewards['location_id']==\"6990\",\"Online\",\n",
    "                                                      np.where(df_agg_POS_data_2019Q3_rewards['location_id'].isin(set_SOTF_number),\"SOTF\",\"Other\")\n",
    "                                                     )\n",
    "df_agg_POS_data_2018Q3_rewards['Store_Type']=np.where(df_agg_POS_data_2018Q3_rewards['location_id']==\"6990\",\"Online\",\n",
    "                                                      np.where(df_agg_POS_data_2018Q3_rewards['location_id'].isin(set_SOTF_number),\"SOTF\",\"Other\")\n",
    "                                                     )"
   ]
  },
  {
   "cell_type": "code",
   "execution_count": 14,
   "metadata": {
    "collapsed": true
   },
   "outputs": [],
   "source": [
    "df_week_end_dt=df_agg_POS_data_2019Q3_rewards[['transaction_dt']].drop_duplicates()\n",
    "df_week_end_dt_2=df_agg_POS_data_2018Q3_rewards[['transaction_dt']].drop_duplicates()\n",
    "df_week_end_dt=df_week_end_dt.append(df_week_end_dt_2)\n",
    "del df_week_end_dt_2\n",
    "df_week_end_dt['week_end_dt']=df_week_end_dt['transaction_dt'].apply(week_end_dt)\n"
   ]
  },
  {
   "cell_type": "code",
   "execution_count": 15,
   "metadata": {
    "collapsed": true
   },
   "outputs": [],
   "source": [
    "df_agg_POS_data_2019Q3_rewards=pd.merge(df_agg_POS_data_2019Q3_rewards,df_week_end_dt,on=\"transaction_dt\",how=\"left\")\n",
    "df_agg_POS_data_2018Q3_rewards=pd.merge(df_agg_POS_data_2018Q3_rewards,df_week_end_dt,on=\"transaction_dt\",how=\"left\")"
   ]
  },
  {
   "cell_type": "code",
   "execution_count": 16,
   "metadata": {
    "collapsed": true
   },
   "outputs": [],
   "source": [
    "write_folder=\"/home/jian/Projects/Big_Lots/Analysis/2019_Q3/Projection_est_in_Q3/new_audience_view/output_\"+str(datetime.datetime.now().date())+\"/\"\n",
    "try:\n",
    "    os.stat(write_folder)\n",
    "except:\n",
    "    os.mkdir(write_folder)"
   ]
  },
  {
   "cell_type": "code",
   "execution_count": 17,
   "metadata": {
    "collapsed": true
   },
   "outputs": [],
   "source": [
    "df_agg_POS_data_2019Q3_rewards.to_csv(write_folder+\"df_agg_POS_data_2019Q3_rewards.csv\",index=False)\n",
    "df_agg_POS_data_2018Q3_rewards.to_csv(write_folder+\"df_agg_POS_data_2018Q3_rewards.csv\",index=False)"
   ]
  },
  {
   "cell_type": "code",
   "execution_count": 18,
   "metadata": {
    "collapsed": true
   },
   "outputs": [],
   "source": [
    "df_2018Q3_by_id=df_agg_POS_data_2018Q3_rewards.groupby(['customer_id_hashed','Store_Type'])['sales','units','trans'].sum().reset_index()\n",
    "df_2019Q3_by_id=df_agg_POS_data_2019Q3_rewards.groupby(['customer_id_hashed','Store_Type'])['sales','units','trans'].sum().reset_index()\n",
    "\n",
    "# df_2018Q3_by_id=df_2018Q3_by_id.pivot_table(index=['customer_id_hashed'],columns=['Store_Type'],values=['sales','units','trans'])\n",
    "# df_2019Q3_by_id=df_2019Q3_by_id.pivot_table(index=['customer_id_hashed'],columns=['Store_Type'],values=['sales','units','trans'])\n",
    "\n",
    "# df_2018Q3_by_id=df_2018Q3_by_id.fillna(0).reset_index()\n",
    "# df_2019Q3_by_id=df_2019Q3_by_id.fillna(0).reset_index()"
   ]
  },
  {
   "cell_type": "code",
   "execution_count": 20,
   "metadata": {
    "collapsed": true
   },
   "outputs": [],
   "source": [
    "df_2019Q3_by_id=pd.merge(df_2019Q3_by_id,df_audience_2019Q3,on=\"customer_id_hashed\",how=\"left\")\n",
    "df_2018Q3_by_id=pd.merge(df_2018Q3_by_id,df_audience_2019Q3,on=\"customer_id_hashed\",how=\"left\")"
   ]
  },
  {
   "cell_type": "code",
   "execution_count": 21,
   "metadata": {
    "collapsed": true
   },
   "outputs": [],
   "source": [
    "df_2019Q3_by_id['year']=2019\n",
    "df_2018Q3_by_id['year']=2018"
   ]
  },
  {
   "cell_type": "code",
   "execution_count": 22,
   "metadata": {
    "collapsed": true
   },
   "outputs": [],
   "source": [
    "df_18_shopper=df_2018Q3_by_id[['customer_id_hashed','year']].drop_duplicates()\n",
    "df_19_shopper=df_2019Q3_by_id[['customer_id_hashed','year']].drop_duplicates()\n",
    "\n",
    "df_shopper_type=df_18_shopper.append(df_19_shopper)\n",
    "df_shopper_type=df_shopper_type.groupby(['customer_id_hashed'])['year'].sum().to_frame().reset_index()\n",
    "df_shopper_type['shopper_type']=np.where(df_shopper_type['year']==2019,\"Shopper_19Q3_Only\",\n",
    "                                        np.where(df_shopper_type['year']==2018,\"Shopper_18Q3_Only\",\"Shopper_Both\")\n",
    "                                        )"
   ]
  },
  {
   "cell_type": "code",
   "execution_count": 23,
   "metadata": {},
   "outputs": [
    {
     "data": {
      "text/html": [
       "<div>\n",
       "<style>\n",
       "    .dataframe thead tr:only-child th {\n",
       "        text-align: right;\n",
       "    }\n",
       "\n",
       "    .dataframe thead th {\n",
       "        text-align: left;\n",
       "    }\n",
       "\n",
       "    .dataframe tbody tr th {\n",
       "        vertical-align: top;\n",
       "    }\n",
       "</style>\n",
       "<table border=\"1\" class=\"dataframe\">\n",
       "  <thead>\n",
       "    <tr style=\"text-align: right;\">\n",
       "      <th></th>\n",
       "      <th>customer_id_hashed</th>\n",
       "      <th>shopper_type</th>\n",
       "    </tr>\n",
       "  </thead>\n",
       "  <tbody>\n",
       "    <tr>\n",
       "      <th>0</th>\n",
       "      <td>000000ebcf6c6a2f4302291cc9babb0760208fc683b3b5...</td>\n",
       "      <td>Shopper_19Q3_Only</td>\n",
       "    </tr>\n",
       "    <tr>\n",
       "      <th>1</th>\n",
       "      <td>000006ff76d207f0c8fbb0262fb87c64b31a75dc89fd07...</td>\n",
       "      <td>Shopper_Both</td>\n",
       "    </tr>\n",
       "  </tbody>\n",
       "</table>\n",
       "</div>"
      ],
      "text/plain": [
       "                                  customer_id_hashed       shopper_type\n",
       "0  000000ebcf6c6a2f4302291cc9babb0760208fc683b3b5...  Shopper_19Q3_Only\n",
       "1  000006ff76d207f0c8fbb0262fb87c64b31a75dc89fd07...       Shopper_Both"
      ]
     },
     "execution_count": 23,
     "metadata": {},
     "output_type": "execute_result"
    }
   ],
   "source": [
    "del df_shopper_type['year']\n",
    "df_shopper_type.head(2)"
   ]
  },
  {
   "cell_type": "code",
   "execution_count": 24,
   "metadata": {
    "collapsed": true
   },
   "outputs": [],
   "source": [
    "df_2019Q3_by_id=pd.merge(df_2019Q3_by_id,df_shopper_type,on=\"customer_id_hashed\",how=\"left\")\n",
    "df_2018Q3_by_id=pd.merge(df_2018Q3_by_id,df_shopper_type,on=\"customer_id_hashed\",how=\"left\")"
   ]
  },
  {
   "cell_type": "code",
   "execution_count": 25,
   "metadata": {
    "collapsed": true
   },
   "outputs": [],
   "source": [
    "df_2019Q3_by_id['register_group']=np.where(df_2019Q3_by_id['customer_id_hashed'].isin(set_new_signed_ids),\"Registered_After_18Q2\",\n",
    "                                           \"Registered_Before_18Q3\")\n",
    "df_2018Q3_by_id['register_group']=np.where(df_2018Q3_by_id['customer_id_hashed'].isin(set_new_signed_ids),\"Registered_After_18Q2\",\n",
    "                                           \"Registered_Before_18Q3\")\n"
   ]
  },
  {
   "cell_type": "code",
   "execution_count": 26,
   "metadata": {},
   "outputs": [
    {
     "data": {
      "text/html": [
       "<div>\n",
       "<style>\n",
       "    .dataframe thead tr:only-child th {\n",
       "        text-align: right;\n",
       "    }\n",
       "\n",
       "    .dataframe thead th {\n",
       "        text-align: left;\n",
       "    }\n",
       "\n",
       "    .dataframe tbody tr th {\n",
       "        vertical-align: top;\n",
       "    }\n",
       "</style>\n",
       "<table border=\"1\" class=\"dataframe\">\n",
       "  <thead>\n",
       "    <tr style=\"text-align: right;\">\n",
       "      <th></th>\n",
       "      <th>customer_id_hashed</th>\n",
       "      <th>Store_Type</th>\n",
       "      <th>sales</th>\n",
       "      <th>units</th>\n",
       "      <th>trans</th>\n",
       "      <th>segment</th>\n",
       "      <th>year</th>\n",
       "      <th>shopper_type</th>\n",
       "      <th>register_group</th>\n",
       "    </tr>\n",
       "  </thead>\n",
       "  <tbody>\n",
       "    <tr>\n",
       "      <th>0</th>\n",
       "      <td>000006ff76d207f0c8fbb0262fb87c64b31a75dc89fd07...</td>\n",
       "      <td>Other</td>\n",
       "      <td>4.90</td>\n",
       "      <td>2</td>\n",
       "      <td>1</td>\n",
       "      <td>T_P_L_2019Q3_RFM</td>\n",
       "      <td>2018</td>\n",
       "      <td>Shopper_Both</td>\n",
       "      <td>Registered_After_18Q2</td>\n",
       "    </tr>\n",
       "    <tr>\n",
       "      <th>1</th>\n",
       "      <td>00000b02775629a353b0732eead2135aac6bb0502f10db...</td>\n",
       "      <td>Other</td>\n",
       "      <td>96.94</td>\n",
       "      <td>11</td>\n",
       "      <td>1</td>\n",
       "      <td>NaN</td>\n",
       "      <td>2018</td>\n",
       "      <td>Shopper_18Q3_Only</td>\n",
       "      <td>Registered_Before_18Q3</td>\n",
       "    </tr>\n",
       "  </tbody>\n",
       "</table>\n",
       "</div>"
      ],
      "text/plain": [
       "                                  customer_id_hashed Store_Type  sales  units  \\\n",
       "0  000006ff76d207f0c8fbb0262fb87c64b31a75dc89fd07...      Other   4.90      2   \n",
       "1  00000b02775629a353b0732eead2135aac6bb0502f10db...      Other  96.94     11   \n",
       "\n",
       "   trans           segment  year       shopper_type          register_group  \n",
       "0      1  T_P_L_2019Q3_RFM  2018       Shopper_Both   Registered_After_18Q2  \n",
       "1      1               NaN  2018  Shopper_18Q3_Only  Registered_Before_18Q3  "
      ]
     },
     "execution_count": 26,
     "metadata": {},
     "output_type": "execute_result"
    }
   ],
   "source": [
    "df_2018Q3_by_id.head(2)"
   ]
  },
  {
   "cell_type": "code",
   "execution_count": 27,
   "metadata": {
    "collapsed": true
   },
   "outputs": [],
   "source": [
    "df_2019Q3_by_id.to_csv(write_folder+\"df_2019Q3_by_id.csv\",index=False)\n",
    "df_2018Q3_by_id.to_csv(write_folder+\"df_2018Q3_by_id.csv\",index=False)"
   ]
  },
  {
   "cell_type": "code",
   "execution_count": 28,
   "metadata": {
    "collapsed": true
   },
   "outputs": [],
   "source": [
    "agg_func={\"sales\":\"sum\",\"units\":\"sum\",\"trans\":\"sum\",\"customer_id_hashed\":\"nunique\"}\n",
    "df_2019Q3_by_group_storetype=df_2019Q3_by_id.groupby(['segment','shopper_type','register_group','Store_Type'])['sales','units','trans','customer_id_hashed'].agg(agg_func).reset_index()\n",
    "df_2018Q3_by_group_storetype=df_2018Q3_by_id.groupby(['segment','shopper_type','register_group','Store_Type'])['sales','units','trans','customer_id_hashed'].agg(agg_func).reset_index()\n",
    "\n",
    "df_2019Q3_by_group_NoStoretype=df_2019Q3_by_id.groupby(['segment','shopper_type','register_group'])['sales','units','trans','customer_id_hashed'].agg(agg_func).reset_index()\n",
    "df_2018Q3_by_group_NoStoretype=df_2018Q3_by_id.groupby(['segment','shopper_type','register_group'])['sales','units','trans','customer_id_hashed'].agg(agg_func).reset_index()\n"
   ]
  },
  {
   "cell_type": "code",
   "execution_count": 29,
   "metadata": {
    "collapsed": true
   },
   "outputs": [],
   "source": [
    "df_2019Q3_by_group_storetype['year']=2019\n",
    "df_2018Q3_by_group_storetype['year']=2018\n",
    "\n",
    "df_2019Q3_by_group_NoStoretype['year']=2019\n",
    "df_2018Q3_by_group_NoStoretype['year']=2018\n",
    "\n",
    "df_2019Q3_by_group_storetype=df_2019Q3_by_group_storetype.rename(columns={\"customer_id_hashed\":\"shopper_id_count\"})\n",
    "df_2018Q3_by_group_storetype=df_2018Q3_by_group_storetype.rename(columns={\"customer_id_hashed\":\"shopper_id_count\"})\n",
    "df_2019Q3_by_group_NoStoretype=df_2019Q3_by_group_NoStoretype.rename(columns={\"customer_id_hashed\":\"shopper_id_count\"})\n",
    "df_2018Q3_by_group_NoStoretype=df_2018Q3_by_group_NoStoretype.rename(columns={\"customer_id_hashed\":\"shopper_id_count\"})\n"
   ]
  },
  {
   "cell_type": "code",
   "execution_count": 30,
   "metadata": {
    "collapsed": true
   },
   "outputs": [],
   "source": [
    "df_by_gorup_storetype=df_2019Q3_by_group_storetype.append(df_2018Q3_by_group_storetype)\n",
    "df_by_gorup_NoStoretype=df_2019Q3_by_group_NoStoretype.append(df_2018Q3_by_group_NoStoretype)"
   ]
  },
  {
   "cell_type": "code",
   "execution_count": 31,
   "metadata": {
    "collapsed": true
   },
   "outputs": [],
   "source": [
    "df_by_gorup_storetype_wide_2019=df_2019Q3_by_group_storetype.pivot_table(index=[\"segment\",\"shopper_type\",\"register_group\"],columns=\"Store_Type\",values=[\"sales\",\"units\",\"trans\",\"shopper_id_count\"]).reset_index()\n",
    "df_by_gorup_storetype_wide_2018=df_2018Q3_by_group_storetype.pivot_table(index=[\"segment\",\"shopper_type\",\"register_group\"],columns=\"Store_Type\",values=[\"sales\",\"units\",\"trans\",\"shopper_id_count\"]).reset_index()\n"
   ]
  },
  {
   "cell_type": "code",
   "execution_count": 32,
   "metadata": {
    "collapsed": true
   },
   "outputs": [],
   "source": [
    "new_col_list=[]\n",
    "for col in df_by_gorup_storetype_wide_2019.columns.tolist():\n",
    "    new_col=\"_\".join(col)\n",
    "    if new_col[-1]==\"_\":\n",
    "        new_col=new_col[:-1]\n",
    "    new_col_list.append(new_col)\n",
    "df_by_gorup_storetype_wide_2019.columns=new_col_list\n",
    "\n",
    "new_col_list=[]\n",
    "for col in df_by_gorup_storetype_wide_2018.columns.tolist():\n",
    "    new_col=\"_\".join(col)\n",
    "    if new_col[-1]==\"_\":\n",
    "        new_col=new_col[:-1]\n",
    "    new_col_list.append(new_col)\n",
    "df_by_gorup_storetype_wide_2018.columns=new_col_list"
   ]
  },
  {
   "cell_type": "code",
   "execution_count": 33,
   "metadata": {
    "collapsed": true
   },
   "outputs": [],
   "source": [
    "df_by_gorup_storetype_wide_2019=df_by_gorup_storetype_wide_2019.fillna(0)\n",
    "df_by_gorup_storetype_wide_2018=df_by_gorup_storetype_wide_2018.fillna(0)"
   ]
  },
  {
   "cell_type": "code",
   "execution_count": 37,
   "metadata": {},
   "outputs": [],
   "source": [
    "count_aud_reg=df_audience_2019Q3.copy()\n",
    "\n",
    "count_aud_reg['register_group']=np.where(count_aud_reg['customer_id_hashed'].isin(set_new_signed_ids),\"Registered_After_18Q2\",\n",
    "                                           \"Registered_Before_18Q3\")\n",
    "count_aud_reg=count_aud_reg.groupby(['segment','register_group'])['customer_id_hashed'].nunique().to_frame().reset_index()"
   ]
  },
  {
   "cell_type": "code",
   "execution_count": 38,
   "metadata": {},
   "outputs": [],
   "source": [
    "writer=pd.ExcelWriter(write_folder+\"BL_table_view_by_audience_JL_\"+str(datetime.datetime.now().date())+\".xlsx\",engine=\"xlsxwriter\")\n",
    "df_by_gorup_storetype.to_excel(writer,\"df_by_gorup_storetype\",index=False)\n",
    "df_by_gorup_NoStoretype.to_excel(writer,\"by_gorup_NoStoretype\",index=False)\n",
    "df_by_gorup_storetype_wide_2019.to_excel(writer,\"by_gorup_storetype_19_wide\",index=False)\n",
    "df_by_gorup_storetype_wide_2018.to_excel(writer,\"by_gorup_storetype_18_wide\",index=False)\n",
    "df_audience_total_count_original.to_excel(writer,\"audience_original_count\",index=False)\n",
    "df_audience_total_count.to_excel(writer,\"audience_PS_HML_count\",index=False)\n",
    "count_aud_reg.to_excel(writer,\"audience_Register_count\",index=False)\n",
    "writer.save()"
   ]
  },
  {
   "cell_type": "code",
   "execution_count": null,
   "metadata": {
    "collapsed": true
   },
   "outputs": [],
   "source": []
  },
  {
   "cell_type": "markdown",
   "metadata": {},
   "source": [
    "# By week"
   ]
  },
  {
   "cell_type": "code",
   "execution_count": 39,
   "metadata": {},
   "outputs": [
    {
     "data": {
      "text/html": [
       "<div>\n",
       "<style>\n",
       "    .dataframe thead tr:only-child th {\n",
       "        text-align: right;\n",
       "    }\n",
       "\n",
       "    .dataframe thead th {\n",
       "        text-align: left;\n",
       "    }\n",
       "\n",
       "    .dataframe tbody tr th {\n",
       "        vertical-align: top;\n",
       "    }\n",
       "</style>\n",
       "<table border=\"1\" class=\"dataframe\">\n",
       "  <thead>\n",
       "    <tr style=\"text-align: right;\">\n",
       "      <th></th>\n",
       "      <th>location_id</th>\n",
       "      <th>transaction_dt</th>\n",
       "      <th>customer_id_hashed</th>\n",
       "      <th>units</th>\n",
       "      <th>sales</th>\n",
       "      <th>trans</th>\n",
       "      <th>Store_Type</th>\n",
       "      <th>week_end_dt</th>\n",
       "    </tr>\n",
       "  </thead>\n",
       "  <tbody>\n",
       "    <tr>\n",
       "      <th>0</th>\n",
       "      <td>1</td>\n",
       "      <td>2018-08-05</td>\n",
       "      <td>03a2ad831004df2c6bf64a486e5c11841e96b5b8324fef...</td>\n",
       "      <td>8</td>\n",
       "      <td>26.78</td>\n",
       "      <td>1</td>\n",
       "      <td>SOTF</td>\n",
       "      <td>2018-08-11</td>\n",
       "    </tr>\n",
       "    <tr>\n",
       "      <th>1</th>\n",
       "      <td>1</td>\n",
       "      <td>2018-08-05</td>\n",
       "      <td>074be6c6b65fef7dbf023a10df96ec80d3463b2c1067ac...</td>\n",
       "      <td>0</td>\n",
       "      <td>0.00</td>\n",
       "      <td>2</td>\n",
       "      <td>SOTF</td>\n",
       "      <td>2018-08-11</td>\n",
       "    </tr>\n",
       "  </tbody>\n",
       "</table>\n",
       "</div>"
      ],
      "text/plain": [
       "  location_id transaction_dt  \\\n",
       "0           1     2018-08-05   \n",
       "1           1     2018-08-05   \n",
       "\n",
       "                                  customer_id_hashed  units  sales  trans  \\\n",
       "0  03a2ad831004df2c6bf64a486e5c11841e96b5b8324fef...      8  26.78      1   \n",
       "1  074be6c6b65fef7dbf023a10df96ec80d3463b2c1067ac...      0   0.00      2   \n",
       "\n",
       "  Store_Type week_end_dt  \n",
       "0       SOTF  2018-08-11  \n",
       "1       SOTF  2018-08-11  "
      ]
     },
     "execution_count": 39,
     "metadata": {},
     "output_type": "execute_result"
    }
   ],
   "source": [
    "df_agg_POS_data_2018Q3_rewards.head(2)"
   ]
  },
  {
   "cell_type": "code",
   "execution_count": 42,
   "metadata": {},
   "outputs": [],
   "source": [
    "df_2018Q3_by_id_week=df_agg_POS_data_2018Q3_rewards.groupby(['customer_id_hashed','Store_Type','week_end_dt'])['sales','units','trans'].sum().reset_index()\n",
    "df_2019Q3_by_id_week=df_agg_POS_data_2019Q3_rewards.groupby(['customer_id_hashed','Store_Type','week_end_dt'])['sales','units','trans'].sum().reset_index()\n"
   ]
  },
  {
   "cell_type": "code",
   "execution_count": 43,
   "metadata": {
    "collapsed": true
   },
   "outputs": [],
   "source": [
    "df_2018Q3_by_id_week=pd.merge(df_2018Q3_by_id_week,df_audience_2019Q3,on=\"customer_id_hashed\",how=\"left\")\n",
    "df_2019Q3_by_id_week=pd.merge(df_2019Q3_by_id_week,df_audience_2019Q3,on=\"customer_id_hashed\",how=\"left\")"
   ]
  },
  {
   "cell_type": "code",
   "execution_count": 44,
   "metadata": {
    "collapsed": true
   },
   "outputs": [],
   "source": [
    "df_2018Q3_by_id_week['year']=2018\n",
    "df_2019Q3_by_id_week['year']=2019"
   ]
  },
  {
   "cell_type": "code",
   "execution_count": 45,
   "metadata": {
    "collapsed": true
   },
   "outputs": [],
   "source": [
    "# df_shopper_type keep the same for the 6 weeks defination\n",
    "\n",
    "df_2018Q3_by_id_week=pd.merge(df_2018Q3_by_id_week,df_shopper_type,on=\"customer_id_hashed\",how=\"left\")\n",
    "df_2019Q3_by_id_week=pd.merge(df_2019Q3_by_id_week,df_shopper_type,on=\"customer_id_hashed\",how=\"left\")"
   ]
  },
  {
   "cell_type": "code",
   "execution_count": 46,
   "metadata": {
    "collapsed": true
   },
   "outputs": [],
   "source": [
    "df_2018Q3_by_id_week['register_group']=np.where(df_2018Q3_by_id_week['customer_id_hashed'].isin(set_new_signed_ids),\"Registered_After_18Q2\",\n",
    "                                           \"Registered_Before_18Q3\")\n",
    "df_2019Q3_by_id_week['register_group']=np.where(df_2019Q3_by_id_week['customer_id_hashed'].isin(set_new_signed_ids),\"Registered_After_18Q2\",\n",
    "                                           \"Registered_Before_18Q3\")\n"
   ]
  },
  {
   "cell_type": "code",
   "execution_count": 47,
   "metadata": {
    "collapsed": true
   },
   "outputs": [],
   "source": [
    "df_2018Q3_by_id_week.to_csv(write_folder+\"df_2018Q3_by_id_week.csv\",index=False)\n",
    "df_2019Q3_by_id_week.to_csv(write_folder+\"df_2019Q3_by_id_week.csv\",index=False)"
   ]
  },
  {
   "cell_type": "code",
   "execution_count": 49,
   "metadata": {},
   "outputs": [
    {
     "data": {
      "text/html": [
       "<div>\n",
       "<style>\n",
       "    .dataframe thead tr:only-child th {\n",
       "        text-align: right;\n",
       "    }\n",
       "\n",
       "    .dataframe thead th {\n",
       "        text-align: left;\n",
       "    }\n",
       "\n",
       "    .dataframe tbody tr th {\n",
       "        vertical-align: top;\n",
       "    }\n",
       "</style>\n",
       "<table border=\"1\" class=\"dataframe\">\n",
       "  <thead>\n",
       "    <tr style=\"text-align: right;\">\n",
       "      <th></th>\n",
       "      <th>customer_id_hashed</th>\n",
       "      <th>Store_Type</th>\n",
       "      <th>week_end_dt</th>\n",
       "      <th>sales</th>\n",
       "      <th>units</th>\n",
       "      <th>trans</th>\n",
       "      <th>segment</th>\n",
       "      <th>year</th>\n",
       "      <th>shopper_type</th>\n",
       "      <th>register_group</th>\n",
       "    </tr>\n",
       "  </thead>\n",
       "  <tbody>\n",
       "    <tr>\n",
       "      <th>0</th>\n",
       "      <td>000006ff76d207f0c8fbb0262fb87c64b31a75dc89fd07...</td>\n",
       "      <td>Other</td>\n",
       "      <td>2018-08-18</td>\n",
       "      <td>4.90</td>\n",
       "      <td>2</td>\n",
       "      <td>1</td>\n",
       "      <td>T_P_L_2019Q3_RFM</td>\n",
       "      <td>2018</td>\n",
       "      <td>Shopper_Both</td>\n",
       "      <td>Registered_After_18Q2</td>\n",
       "    </tr>\n",
       "    <tr>\n",
       "      <th>1</th>\n",
       "      <td>00000b02775629a353b0732eead2135aac6bb0502f10db...</td>\n",
       "      <td>Other</td>\n",
       "      <td>2018-08-18</td>\n",
       "      <td>96.94</td>\n",
       "      <td>11</td>\n",
       "      <td>1</td>\n",
       "      <td>NaN</td>\n",
       "      <td>2018</td>\n",
       "      <td>Shopper_18Q3_Only</td>\n",
       "      <td>Registered_Before_18Q3</td>\n",
       "    </tr>\n",
       "  </tbody>\n",
       "</table>\n",
       "</div>"
      ],
      "text/plain": [
       "                                  customer_id_hashed Store_Type week_end_dt  \\\n",
       "0  000006ff76d207f0c8fbb0262fb87c64b31a75dc89fd07...      Other  2018-08-18   \n",
       "1  00000b02775629a353b0732eead2135aac6bb0502f10db...      Other  2018-08-18   \n",
       "\n",
       "   sales  units  trans           segment  year       shopper_type  \\\n",
       "0   4.90      2      1  T_P_L_2019Q3_RFM  2018       Shopper_Both   \n",
       "1  96.94     11      1               NaN  2018  Shopper_18Q3_Only   \n",
       "\n",
       "           register_group  \n",
       "0   Registered_After_18Q2  \n",
       "1  Registered_Before_18Q3  "
      ]
     },
     "execution_count": 49,
     "metadata": {},
     "output_type": "execute_result"
    }
   ],
   "source": [
    "df_2018Q3_by_id_week.head(2)"
   ]
  },
  {
   "cell_type": "code",
   "execution_count": 50,
   "metadata": {},
   "outputs": [],
   "source": [
    "agg_func={\"sales\":\"sum\",\"units\":\"sum\",\"trans\":\"sum\",\"customer_id_hashed\":\"nunique\"}\n",
    "df_2018Q3_by_group_storetype_week=df_2018Q3_by_id_week.groupby(['week_end_dt','segment','shopper_type','register_group','Store_Type'])['sales','units','trans','customer_id_hashed'].agg(agg_func).reset_index()\n",
    "df_2019Q3_by_group_storetype_week=df_2019Q3_by_id_week.groupby(['week_end_dt','segment','shopper_type','register_group','Store_Type'])['sales','units','trans','customer_id_hashed'].agg(agg_func).reset_index()\n",
    "\n",
    "df_2018Q3_by_group_NoStoretype_week=df_2018Q3_by_id_week.groupby(['week_end_dt','segment','shopper_type','register_group'])['sales','units','trans','customer_id_hashed'].agg(agg_func).reset_index()\n",
    "df_2019Q3_by_group_NoStoretype_week=df_2019Q3_by_id_week.groupby(['week_end_dt','segment','shopper_type','register_group'])['sales','units','trans','customer_id_hashed'].agg(agg_func).reset_index()\n"
   ]
  },
  {
   "cell_type": "code",
   "execution_count": 51,
   "metadata": {
    "collapsed": true
   },
   "outputs": [],
   "source": [
    "df_2019Q3_by_group_storetype_week['year']=2019\n",
    "df_2018Q3_by_group_storetype_week['year']=2018\n",
    "\n",
    "df_2019Q3_by_group_NoStoretype_week['year']=2019\n",
    "df_2018Q3_by_group_NoStoretype_week['year']=2018\n",
    "\n",
    "df_2019Q3_by_group_storetype_week=df_2019Q3_by_group_storetype_week.rename(columns={\"customer_id_hashed\":\"shopper_id_count\"})\n",
    "df_2018Q3_by_group_storetype_week=df_2018Q3_by_group_storetype_week.rename(columns={\"customer_id_hashed\":\"shopper_id_count\"})\n",
    "df_2019Q3_by_group_NoStoretype_week=df_2019Q3_by_group_NoStoretype_week.rename(columns={\"customer_id_hashed\":\"shopper_id_count\"})\n",
    "df_2018Q3_by_group_NoStoretype_week=df_2018Q3_by_group_NoStoretype_week.rename(columns={\"customer_id_hashed\":\"shopper_id_count\"})\n"
   ]
  },
  {
   "cell_type": "code",
   "execution_count": 52,
   "metadata": {
    "collapsed": true
   },
   "outputs": [],
   "source": [
    "df_by_gorup_storetype_week=df_2019Q3_by_group_storetype_week.append(df_2018Q3_by_group_storetype_week)\n",
    "df_by_gorup_NoStoretype_week=df_2019Q3_by_group_NoStoretype_week.append(df_2018Q3_by_group_NoStoretype_week)"
   ]
  },
  {
   "cell_type": "code",
   "execution_count": 53,
   "metadata": {
    "collapsed": true
   },
   "outputs": [],
   "source": [
    "df_by_gorup_storetype_wide_2019_week=df_2019Q3_by_group_storetype_week.pivot_table(index=[\"week_end_dt\",\"segment\",\"shopper_type\",\"register_group\"],columns=\"Store_Type\",values=[\"sales\",\"units\",\"trans\",\"shopper_id_count\"]).reset_index()\n",
    "df_by_gorup_storetype_wide_2018_week=df_2018Q3_by_group_storetype_week.pivot_table(index=[\"week_end_dt\",\"segment\",\"shopper_type\",\"register_group\"],columns=\"Store_Type\",values=[\"sales\",\"units\",\"trans\",\"shopper_id_count\"]).reset_index()\n"
   ]
  },
  {
   "cell_type": "code",
   "execution_count": 54,
   "metadata": {
    "collapsed": true
   },
   "outputs": [],
   "source": [
    "new_col_list=[]\n",
    "for col in df_by_gorup_storetype_wide_2019_week.columns.tolist():\n",
    "    new_col=\"_\".join(col)\n",
    "    if new_col[-1]==\"_\":\n",
    "        new_col=new_col[:-1]\n",
    "    new_col_list.append(new_col)\n",
    "df_by_gorup_storetype_wide_2019_week.columns=new_col_list\n",
    "\n",
    "new_col_list=[]\n",
    "for col in df_by_gorup_storetype_wide_2018_week.columns.tolist():\n",
    "    new_col=\"_\".join(col)\n",
    "    if new_col[-1]==\"_\":\n",
    "        new_col=new_col[:-1]\n",
    "    new_col_list.append(new_col)\n",
    "df_by_gorup_storetype_wide_2018_week.columns=new_col_list"
   ]
  },
  {
   "cell_type": "code",
   "execution_count": 55,
   "metadata": {
    "collapsed": true
   },
   "outputs": [],
   "source": [
    "df_by_gorup_storetype_wide_2019_week=df_by_gorup_storetype_wide_2019_week.fillna(0)\n",
    "df_by_gorup_storetype_wide_2018_week=df_by_gorup_storetype_wide_2018_week.fillna(0)"
   ]
  },
  {
   "cell_type": "code",
   "execution_count": 60,
   "metadata": {},
   "outputs": [],
   "source": [
    "writer=pd.ExcelWriter(write_folder+\"BL_table_view_by_week_audience_JL_\"+str(datetime.datetime.now().date())+\".xlsx\",engine=\"xlsxwriter\")\n",
    "df_by_gorup_storetype_week.to_excel(writer,\"View_Week_gorup_storetype\",index=False)\n",
    "df_by_gorup_NoStoretype_week.to_excel(writer,\"View_Week_gorup_NoStoretype\",index=False)\n",
    "df_by_gorup_storetype_wide_2019_week.to_excel(writer,\"View_W_gorup_storetype_19_wide\",index=False)\n",
    "df_by_gorup_storetype_wide_2018_week.to_excel(writer,\"View_W_gorup_storetype_18_wide\",index=False)\n",
    "df_audience_total_count_original.to_excel(writer,\"audience_original_count\",index=False)\n",
    "df_audience_total_count.to_excel(writer,\"audience_PS_HML_count\",index=False)\n",
    "count_aud_reg.to_excel(writer,\"audience_Register_count\",index=False)\n",
    "writer.save()"
   ]
  },
  {
   "cell_type": "code",
   "execution_count": 59,
   "metadata": {},
   "outputs": [],
   "source": [
    "# Note how to difine the new sign ups\n"
   ]
  },
  {
   "cell_type": "code",
   "execution_count": null,
   "metadata": {
    "collapsed": true
   },
   "outputs": [],
   "source": []
  }
 ],
 "metadata": {
  "kernelspec": {
   "display_name": "Python 3",
   "language": "python",
   "name": "python3"
  },
  "language_info": {
   "codemirror_mode": {
    "name": "ipython",
    "version": 3
   },
   "file_extension": ".py",
   "mimetype": "text/x-python",
   "name": "python",
   "nbconvert_exporter": "python",
   "pygments_lexer": "ipython3",
   "version": "3.6.1"
  }
 },
 "nbformat": 4,
 "nbformat_minor": 2
}
