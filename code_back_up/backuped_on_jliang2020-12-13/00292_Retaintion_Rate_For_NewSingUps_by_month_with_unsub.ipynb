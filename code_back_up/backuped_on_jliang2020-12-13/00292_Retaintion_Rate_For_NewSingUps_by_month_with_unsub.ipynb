{
 "cells": [
  {
   "cell_type": "code",
   "execution_count": 1,
   "metadata": {},
   "outputs": [
    {
     "name": "stdout",
     "output_type": "stream",
     "text": [
      "2019-12-05 11:49:03.834158\n"
     ]
    }
   ],
   "source": [
    "# Enhenced by unsubscribes 20191205\n",
    "\n",
    "import pandas as pd\n",
    "import numpy as np\n",
    "import datetime\n",
    "import os\n",
    "import glob\n",
    "import gc\n",
    "\n",
    "print(datetime.datetime.now())\n",
    "\n",
    "\n",
    "def recursive_file_gen(root_folder):\n",
    "    for root, dirs, files in os.walk(root_folder):\n",
    "        for file in files:\n",
    "            yield os.path.join(root, file)\n",
    "            \n",
    "os.getcwd()\n",
    "\n",
    "track_start_date=\"2018-09-01\"\n",
    "\n",
    "writer_folder=\"/home/jian/Projects/Big_Lots/Analysis/2019_Q4/LTV_retaintion_rate/output/output_\"+str(datetime.datetime.now().date())+\"/\"\n",
    "try:\n",
    "    os.stat(writer_folder)\n",
    "except:\n",
    "    os.mkdir(writer_folder)"
   ]
  },
  {
   "cell_type": "code",
   "execution_count": 2,
   "metadata": {
    "collapsed": true
   },
   "outputs": [],
   "source": [
    "# July 1 2018 to Oct 2019\n",
    "\n",
    "list_weekly_signs_files=list(recursive_file_gen(\"/home/jian/BigLots/\"))\n",
    "list_weekly_signs_files=[x for x in list_weekly_signs_files if \"master\" in x.lower()]\n",
    "list_weekly_signs_files=[x for x in list_weekly_signs_files if x[-4:]==\".txt\"]\n",
    "list_weekly_signs_files=[x for x in list_weekly_signs_files if \"MediaStorm_\" in x]\n",
    "list_weekly_signs_files=[x for x in list_weekly_signs_files if \"weekly\" in x.lower()]\n",
    "\n",
    "list_weekly_signs_files.sort()"
   ]
  },
  {
   "cell_type": "code",
   "execution_count": 3,
   "metadata": {
    "collapsed": true
   },
   "outputs": [],
   "source": [
    "df_new_signs_since_Sep18=pd.DataFrame()\n",
    "\n",
    "for file in list_weekly_signs_files:\n",
    "    df=pd.read_table(file,dtype=str,sep=\"|\",usecols=['customer_id_hashed','email_address_hash','sign_up_date'])\n",
    "    df=df[df['sign_up_date']>=track_start_date]\n",
    "    df_new_signs_since_Sep18=df_new_signs_since_Sep18.append(df)"
   ]
  },
  {
   "cell_type": "code",
   "execution_count": 4,
   "metadata": {},
   "outputs": [
    {
     "data": {
      "text/plain": [
       "0"
      ]
     },
     "execution_count": 4,
     "metadata": {},
     "output_type": "execute_result"
    }
   ],
   "source": [
    "dfdetail_1=pd.read_table(\"/home/jian/BigLots/New_Sing_Ups_2018_Fiscal_Year/All Rewards Members 2018-02-04 - 2019-05-04.zip\",\n",
    "                         dtype=str,sep=\"|\",usecols=['customer_id_hashed','email_address_hash','sign_up_date'])\n",
    "dfdetail_2=pd.read_table(\"/home/jian/BigLots/New_Sing_Ups_2018_Fiscal_Year/MediaStorm Rewards Master P4 2019 - no transaction info.zip\",\n",
    "                         dtype=str,sep=\"|\",usecols=['customer_id_hashed','email_address_hash','sign_up_date'])\n",
    "\n",
    "dfdetail_1=dfdetail_1[dfdetail_1['sign_up_date']>=track_start_date]\n",
    "dfdetail_2=dfdetail_2[dfdetail_2['sign_up_date']>=track_start_date]\n",
    "\n",
    "df_new_signs_since_Sep18=df_new_signs_since_Sep18.append(dfdetail_1).append(dfdetail_2)\n",
    "\n",
    "del dfdetail_1\n",
    "del dfdetail_2\n",
    "\n",
    "gc.collect()"
   ]
  },
  {
   "cell_type": "code",
   "execution_count": 5,
   "metadata": {},
   "outputs": [
    {
     "name": "stdout",
     "output_type": "stream",
     "text": [
      "(12142496, 3)\n",
      "(8763575, 3)\n"
     ]
    }
   ],
   "source": [
    "print(df_new_signs_since_Sep18.shape)\n",
    "df_new_signs_since_Sep18=df_new_signs_since_Sep18.sort_values(\"sign_up_date\",ascending=False).drop_duplicates(\"customer_id_hashed\")\n",
    "print(df_new_signs_since_Sep18.shape)"
   ]
  },
  {
   "cell_type": "code",
   "execution_count": 6,
   "metadata": {
    "collapsed": true
   },
   "outputs": [],
   "source": [
    "month_date_count=df_new_signs_since_Sep18[['sign_up_date']].drop_duplicates()\n",
    "month_date_count['registerd_month']=month_date_count['sign_up_date'].apply(lambda x: x[:7])\n",
    "month_date_count=month_date_count.groupby(\"registerd_month\")['sign_up_date'].nunique().to_frame().reset_index()"
   ]
  },
  {
   "cell_type": "code",
   "execution_count": 7,
   "metadata": {},
   "outputs": [
    {
     "name": "stdout",
     "output_type": "stream",
     "text": [
      "(8763575, 3)\n"
     ]
    },
    {
     "data": {
      "text/html": [
       "<div>\n",
       "<style scoped>\n",
       "    .dataframe tbody tr th:only-of-type {\n",
       "        vertical-align: middle;\n",
       "    }\n",
       "\n",
       "    .dataframe tbody tr th {\n",
       "        vertical-align: top;\n",
       "    }\n",
       "\n",
       "    .dataframe thead th {\n",
       "        text-align: right;\n",
       "    }\n",
       "</style>\n",
       "<table border=\"1\" class=\"dataframe\">\n",
       "  <thead>\n",
       "    <tr style=\"text-align: right;\">\n",
       "      <th></th>\n",
       "      <th>customer_id_hashed</th>\n",
       "      <th>sign_up_date</th>\n",
       "      <th>registerd_month</th>\n",
       "    </tr>\n",
       "  </thead>\n",
       "  <tbody>\n",
       "    <tr>\n",
       "      <th>201365</th>\n",
       "      <td>14d2626ab97b1895f5c0955d635f2d859d6b7773d24a18...</td>\n",
       "      <td>2019-11-30</td>\n",
       "      <td>2019-11</td>\n",
       "    </tr>\n",
       "    <tr>\n",
       "      <th>1264</th>\n",
       "      <td>0d486acc9776c5daad35c2bde37be6d25e59ae04681585...</td>\n",
       "      <td>2019-11-30</td>\n",
       "      <td>2019-11</td>\n",
       "    </tr>\n",
       "    <tr>\n",
       "      <th>1267</th>\n",
       "      <td>ac101138924bb47feb91fb5ce10178c509ac5830bc9a87...</td>\n",
       "      <td>2019-11-30</td>\n",
       "      <td>2019-11</td>\n",
       "    </tr>\n",
       "  </tbody>\n",
       "</table>\n",
       "</div>"
      ],
      "text/plain": [
       "                                       customer_id_hashed sign_up_date  \\\n",
       "201365  14d2626ab97b1895f5c0955d635f2d859d6b7773d24a18...   2019-11-30   \n",
       "1264    0d486acc9776c5daad35c2bde37be6d25e59ae04681585...   2019-11-30   \n",
       "1267    ac101138924bb47feb91fb5ce10178c509ac5830bc9a87...   2019-11-30   \n",
       "\n",
       "       registerd_month  \n",
       "201365         2019-11  \n",
       "1264           2019-11  \n",
       "1267           2019-11  "
      ]
     },
     "execution_count": 7,
     "metadata": {},
     "output_type": "execute_result"
    }
   ],
   "source": [
    "df_output_long=df_new_signs_since_Sep18[['customer_id_hashed','sign_up_date']]\n",
    "df_output_long['registerd_month']=df_output_long['sign_up_date'].apply(lambda x: x[:7])\n",
    "del df_new_signs_since_Sep18\n",
    "\n",
    "list_ids_new_signs_since_Sep18=df_output_long['customer_id_hashed'].tolist()\n",
    "gc.collect()\n",
    "\n",
    "print(df_output_long.shape)\n",
    "df_output_long.head(3)"
   ]
  },
  {
   "cell_type": "code",
   "execution_count": 8,
   "metadata": {},
   "outputs": [
    {
     "name": "stdout",
     "output_type": "stream",
     "text": [
      "min_signup:  2018-09-01 2018-09\n",
      "max_signup:  2019-11-30 2019-11\n"
     ]
    }
   ],
   "source": [
    "min_month_str=df_output_long['registerd_month'].min()\n",
    "min_date_str=df_output_long['sign_up_date'].min()\n",
    "print(\"min_signup: \",min_date_str,min_month_str)\n",
    "print(\"max_signup: \",df_output_long['sign_up_date'].max(),df_output_long['registerd_month'].max())"
   ]
  },
  {
   "cell_type": "code",
   "execution_count": 9,
   "metadata": {},
   "outputs": [
    {
     "name": "stdout",
     "output_type": "stream",
     "text": [
      "2019-02-09\n"
     ]
    }
   ],
   "source": [
    "# Sales all since 2018-09-01\n",
    "\n",
    "list_hist_item=glob.glob(\"/home/jian/BigLots/hist_daily_data_itemlevel_decompressed/*.txt\")\n",
    "list_hist_item=[x for x in list_hist_item if x.split(\"MediaStormDailySalesHistory\")[1][:8]>=track_start_date.replace(\"-\",\"\")]\n",
    "list_hist_item.sort()\n",
    "last_weekend_dt_historical=max([x.split(\"MediaStormDailySalesHistory\")[1][:8] for x in list_hist_item])\n",
    "print(last_weekend_dt_historical[:4]+\"-\"+last_weekend_dt_historical[4:6]+\"-\"+last_weekend_dt_historical[6:8])"
   ]
  },
  {
   "cell_type": "code",
   "execution_count": 10,
   "metadata": {},
   "outputs": [
    {
     "name": "stdout",
     "output_type": "stream",
     "text": [
      "66\n"
     ]
    }
   ],
   "source": [
    "list_weekly_item=list(recursive_file_gen(\"/home/jian/BigLots/\"))\n",
    "list_weekly_item=[x for x in list_weekly_item if \"daily\" in x.lower() and x[-4:]==\".txt\"]\n",
    "list_weekly_item=[x for x in list_weekly_item if \"/MediaStorm_\" in x]\n",
    "list_weekly_item.sort()\n",
    "list_weekly_item=[x for x in list_weekly_item if x.split(\"/MediaStorm_\")[1][:10]>last_weekend_dt_historical[:4]+\"-\"+last_weekend_dt_historical[4:6]+\"-\"+last_weekend_dt_historical[6:8]]\n",
    "# list_weekly_item\n",
    "\n",
    "\n",
    "list_all_POS_item=list_hist_item+list_weekly_item\n",
    "print(len(list_all_POS_item))"
   ]
  },
  {
   "cell_type": "code",
   "execution_count": 11,
   "metadata": {},
   "outputs": [
    {
     "data": {
      "text/html": [
       "<div>\n",
       "<style scoped>\n",
       "    .dataframe tbody tr th:only-of-type {\n",
       "        vertical-align: middle;\n",
       "    }\n",
       "\n",
       "    .dataframe tbody tr th {\n",
       "        vertical-align: top;\n",
       "    }\n",
       "\n",
       "    .dataframe thead th {\n",
       "        text-align: right;\n",
       "    }\n",
       "</style>\n",
       "<table border=\"1\" class=\"dataframe\">\n",
       "  <thead>\n",
       "    <tr style=\"text-align: right;\">\n",
       "      <th></th>\n",
       "      <th>customer_id_hashed</th>\n",
       "      <th>email_address_hash</th>\n",
       "      <th>sign_up_date</th>\n",
       "      <th>sign_up_channel</th>\n",
       "      <th>sign_up_location</th>\n",
       "      <th>customer_zip_code</th>\n",
       "      <th>transaction_count</th>\n",
       "      <th>transaction_amount</th>\n",
       "      <th>experian_multi_cluster</th>\n",
       "      <th>experian_demo_cluster</th>\n",
       "      <th>purchase_channel</th>\n",
       "      <th>email_unsubscribe_indicator</th>\n",
       "      <th>email_undeliverable_indicator</th>\n",
       "    </tr>\n",
       "  </thead>\n",
       "  <tbody>\n",
       "    <tr>\n",
       "      <th>0</th>\n",
       "      <td>067116941a819b0641bf61a5da4ed180d00d0f3b7c16d6...</td>\n",
       "      <td>ea0585343887acfea493e2eb7e9c8ae099115621785703...</td>\n",
       "      <td>2019-11-25</td>\n",
       "      <td>STORE</td>\n",
       "      <td>296</td>\n",
       "      <td>41011</td>\n",
       "      <td>000000000000001.</td>\n",
       "      <td>0000000000000141.70</td>\n",
       "      <td>0</td>\n",
       "      <td>0</td>\n",
       "      <td>STORES</td>\n",
       "      <td>N</td>\n",
       "      <td>N</td>\n",
       "    </tr>\n",
       "    <tr>\n",
       "      <th>1</th>\n",
       "      <td>a66303919c7b02a36eebfce6f4e696c07f689131cab1aa...</td>\n",
       "      <td>5a5d801f597bd4bf0db773e7c05449e71269d41bf4078c...</td>\n",
       "      <td>2019-11-30</td>\n",
       "      <td>STORE</td>\n",
       "      <td>5353</td>\n",
       "      <td>16701</td>\n",
       "      <td>000000000000001.</td>\n",
       "      <td>0000000000000007.40</td>\n",
       "      <td>0</td>\n",
       "      <td>0</td>\n",
       "      <td>STORES</td>\n",
       "      <td>N</td>\n",
       "      <td>N</td>\n",
       "    </tr>\n",
       "    <tr>\n",
       "      <th>2</th>\n",
       "      <td>e9f2993a8d49cbf2ec429149c34adecee8fba0d1942ddd...</td>\n",
       "      <td>d16a29498bf3327a6362f970cc20310b27e04aa6eecb6a...</td>\n",
       "      <td>2019-11-27</td>\n",
       "      <td>STORE</td>\n",
       "      <td>4690</td>\n",
       "      <td>54555</td>\n",
       "      <td>000000000000001.</td>\n",
       "      <td>0000000000000143.99</td>\n",
       "      <td>0</td>\n",
       "      <td>0</td>\n",
       "      <td>STORES</td>\n",
       "      <td>N</td>\n",
       "      <td>N</td>\n",
       "    </tr>\n",
       "    <tr>\n",
       "      <th>3</th>\n",
       "      <td>4711a6e9ce5cf8269737b20a68e4949d6c4dac0222fd0e...</td>\n",
       "      <td>a67e2f5cb829bf69d2507416aca0275a0822f090b85d81...</td>\n",
       "      <td>2019-11-26</td>\n",
       "      <td>ONLINE</td>\n",
       "      <td>6990</td>\n",
       "      <td>NaN</td>\n",
       "      <td>000000000000000.</td>\n",
       "      <td>0000000000000000.00</td>\n",
       "      <td>0</td>\n",
       "      <td>0</td>\n",
       "      <td>NONE</td>\n",
       "      <td>N</td>\n",
       "      <td>N</td>\n",
       "    </tr>\n",
       "    <tr>\n",
       "      <th>4</th>\n",
       "      <td>0142304a625feb56c3e26303c9f2079195f322b23f43e3...</td>\n",
       "      <td>3659add4d23d9bec2cabb6a645badf5122594f8430985d...</td>\n",
       "      <td>2019-11-27</td>\n",
       "      <td>STORE</td>\n",
       "      <td>1877</td>\n",
       "      <td>25177</td>\n",
       "      <td>000000000000001.</td>\n",
       "      <td>0000000000000044.08</td>\n",
       "      <td>0</td>\n",
       "      <td>0</td>\n",
       "      <td>STORES</td>\n",
       "      <td>N</td>\n",
       "      <td>N</td>\n",
       "    </tr>\n",
       "    <tr>\n",
       "      <th>5</th>\n",
       "      <td>4c32a03431e4f80cc1a90920e9c2f8305267305c833057...</td>\n",
       "      <td>d2e3c9e4845ce00cc492c92ca7c5e122c2650c82134b2b...</td>\n",
       "      <td>2019-11-24</td>\n",
       "      <td>ONLINE</td>\n",
       "      <td>0</td>\n",
       "      <td>NaN</td>\n",
       "      <td>000000000000000.</td>\n",
       "      <td>0000000000000000.00</td>\n",
       "      <td>0</td>\n",
       "      <td>0</td>\n",
       "      <td>NONE</td>\n",
       "      <td>N</td>\n",
       "      <td>N</td>\n",
       "    </tr>\n",
       "    <tr>\n",
       "      <th>6</th>\n",
       "      <td>677ba9782fa14c71089601cc554801919058272bf8edd9...</td>\n",
       "      <td>d6939892de840c5f6cd3d58dedbdffddc97181dffb0dc3...</td>\n",
       "      <td>2019-11-25</td>\n",
       "      <td>STORE</td>\n",
       "      <td>1520</td>\n",
       "      <td>14217</td>\n",
       "      <td>000000000000001.</td>\n",
       "      <td>0000000000000599.98</td>\n",
       "      <td>0</td>\n",
       "      <td>0</td>\n",
       "      <td>STORES</td>\n",
       "      <td>N</td>\n",
       "      <td>N</td>\n",
       "    </tr>\n",
       "    <tr>\n",
       "      <th>7</th>\n",
       "      <td>f09c14a7b0a31a776af8363500b45ca08e009e98303f16...</td>\n",
       "      <td>554440301560f357bb07ea456e1cd350069e732e3fe95a...</td>\n",
       "      <td>2019-11-24</td>\n",
       "      <td>STORE</td>\n",
       "      <td>5205</td>\n",
       "      <td>14471</td>\n",
       "      <td>000000000000002.</td>\n",
       "      <td>0000000000000100.62</td>\n",
       "      <td>0</td>\n",
       "      <td>0</td>\n",
       "      <td>STORES</td>\n",
       "      <td>N</td>\n",
       "      <td>N</td>\n",
       "    </tr>\n",
       "    <tr>\n",
       "      <th>8</th>\n",
       "      <td>3c4431007ad37f2eb7ab2a7d48b41b7b5604557debf1eb...</td>\n",
       "      <td>57ecd782e85023b5bd55112f762004b3b7b6c0018cb8b6...</td>\n",
       "      <td>2019-11-28</td>\n",
       "      <td>STORE</td>\n",
       "      <td>1850</td>\n",
       "      <td>35810</td>\n",
       "      <td>000000000000001.</td>\n",
       "      <td>0000000000000470.64</td>\n",
       "      <td>0</td>\n",
       "      <td>0</td>\n",
       "      <td>STORES</td>\n",
       "      <td>N</td>\n",
       "      <td>N</td>\n",
       "    </tr>\n",
       "    <tr>\n",
       "      <th>9</th>\n",
       "      <td>44d8d200801e9395684fa6cdd164a49332d1070f6fff46...</td>\n",
       "      <td>d347bab561eae38345f5573be5161606a871eddae63970...</td>\n",
       "      <td>2019-11-30</td>\n",
       "      <td>STORE</td>\n",
       "      <td>225</td>\n",
       "      <td>24251</td>\n",
       "      <td>000000000000001.</td>\n",
       "      <td>0000000000000106.15</td>\n",
       "      <td>0</td>\n",
       "      <td>0</td>\n",
       "      <td>STORES</td>\n",
       "      <td>N</td>\n",
       "      <td>N</td>\n",
       "    </tr>\n",
       "  </tbody>\n",
       "</table>\n",
       "</div>"
      ],
      "text/plain": [
       "                                  customer_id_hashed  \\\n",
       "0  067116941a819b0641bf61a5da4ed180d00d0f3b7c16d6...   \n",
       "1  a66303919c7b02a36eebfce6f4e696c07f689131cab1aa...   \n",
       "2  e9f2993a8d49cbf2ec429149c34adecee8fba0d1942ddd...   \n",
       "3  4711a6e9ce5cf8269737b20a68e4949d6c4dac0222fd0e...   \n",
       "4  0142304a625feb56c3e26303c9f2079195f322b23f43e3...   \n",
       "5  4c32a03431e4f80cc1a90920e9c2f8305267305c833057...   \n",
       "6  677ba9782fa14c71089601cc554801919058272bf8edd9...   \n",
       "7  f09c14a7b0a31a776af8363500b45ca08e009e98303f16...   \n",
       "8  3c4431007ad37f2eb7ab2a7d48b41b7b5604557debf1eb...   \n",
       "9  44d8d200801e9395684fa6cdd164a49332d1070f6fff46...   \n",
       "\n",
       "                                  email_address_hash sign_up_date  \\\n",
       "0  ea0585343887acfea493e2eb7e9c8ae099115621785703...   2019-11-25   \n",
       "1  5a5d801f597bd4bf0db773e7c05449e71269d41bf4078c...   2019-11-30   \n",
       "2  d16a29498bf3327a6362f970cc20310b27e04aa6eecb6a...   2019-11-27   \n",
       "3  a67e2f5cb829bf69d2507416aca0275a0822f090b85d81...   2019-11-26   \n",
       "4  3659add4d23d9bec2cabb6a645badf5122594f8430985d...   2019-11-27   \n",
       "5  d2e3c9e4845ce00cc492c92ca7c5e122c2650c82134b2b...   2019-11-24   \n",
       "6  d6939892de840c5f6cd3d58dedbdffddc97181dffb0dc3...   2019-11-25   \n",
       "7  554440301560f357bb07ea456e1cd350069e732e3fe95a...   2019-11-24   \n",
       "8  57ecd782e85023b5bd55112f762004b3b7b6c0018cb8b6...   2019-11-28   \n",
       "9  d347bab561eae38345f5573be5161606a871eddae63970...   2019-11-30   \n",
       "\n",
       "  sign_up_channel sign_up_location customer_zip_code  transaction_count  \\\n",
       "0           STORE              296             41011   000000000000001.   \n",
       "1           STORE             5353             16701   000000000000001.   \n",
       "2           STORE             4690             54555   000000000000001.   \n",
       "3          ONLINE             6990               NaN   000000000000000.   \n",
       "4           STORE             1877             25177   000000000000001.   \n",
       "5          ONLINE                0               NaN   000000000000000.   \n",
       "6           STORE             1520             14217   000000000000001.   \n",
       "7           STORE             5205             14471   000000000000002.   \n",
       "8           STORE             1850             35810   000000000000001.   \n",
       "9           STORE              225             24251   000000000000001.   \n",
       "\n",
       "     transaction_amount experian_multi_cluster experian_demo_cluster  \\\n",
       "0   0000000000000141.70                      0                     0   \n",
       "1   0000000000000007.40                      0                     0   \n",
       "2   0000000000000143.99                      0                     0   \n",
       "3   0000000000000000.00                      0                     0   \n",
       "4   0000000000000044.08                      0                     0   \n",
       "5   0000000000000000.00                      0                     0   \n",
       "6   0000000000000599.98                      0                     0   \n",
       "7   0000000000000100.62                      0                     0   \n",
       "8   0000000000000470.64                      0                     0   \n",
       "9   0000000000000106.15                      0                     0   \n",
       "\n",
       "  purchase_channel email_unsubscribe_indicator email_undeliverable_indicator  \n",
       "0           STORES                           N                             N  \n",
       "1           STORES                           N                             N  \n",
       "2           STORES                           N                             N  \n",
       "3             NONE                           N                             N  \n",
       "4           STORES                           N                             N  \n",
       "5             NONE                           N                             N  \n",
       "6           STORES                           N                             N  \n",
       "7           STORES                           N                             N  \n",
       "8           STORES                           N                             N  \n",
       "9           STORES                           N                             N  "
      ]
     },
     "execution_count": 11,
     "metadata": {},
     "output_type": "execute_result"
    }
   ],
   "source": [
    "pd.read_table(file,dtype=str,sep=\"|\",nrows=10)"
   ]
  },
  {
   "cell_type": "code",
   "execution_count": 12,
   "metadata": {},
   "outputs": [
    {
     "name": "stdout",
     "output_type": "stream",
     "text": [
      "(463, 2)\n",
      "(463, 3)\n"
     ]
    }
   ],
   "source": [
    "mapping_division_class=pd.read_table(\"/home/jian/BigLots/static_files/ProductTaxonomy/MediaStormProductTaxonomy20191101-134011-956.txt\",\n",
    "                                    dtype=str,sep=\"|\",usecols=['division_id','class_code_id']).drop_duplicates()\n",
    "print(mapping_division_class.shape)\n",
    "mapping_division_name=pd.read_table(\"/home/jian/BigLots/static_files/MediaStorm Data Extract - Division Names.txt\",sep=\"|\",dtype=str)\n",
    "mapping_division_class=pd.merge(mapping_division_class,mapping_division_name,on=\"division_id\",how=\"left\")\n",
    "print(mapping_division_class.shape)"
   ]
  },
  {
   "cell_type": "code",
   "execution_count": 13,
   "metadata": {},
   "outputs": [
    {
     "name": "stdout",
     "output_type": "stream",
     "text": [
      "1 2019-12-05 11:54:21.987524\n",
      "11 2019-12-05 12:01:46.851708\n",
      "21 2019-12-05 12:13:25.206225\n",
      "31 2019-12-05 12:20:42.437406\n",
      "41 2019-12-05 12:28:45.574772\n",
      "51 2019-12-05 12:37:10.856941\n",
      "61 2019-12-05 12:45:37.354519\n",
      "(16571933, 4)\n",
      "(11969887, 4)\n",
      "2019-12-05 12:52:32.269376\n"
     ]
    }
   ],
   "source": [
    "shopper_by_day_department_list=[]\n",
    "shopper_by_day_list=[]\n",
    "i_counter=0\n",
    "for file in list_all_POS_item:\n",
    "    df=pd.read_table(file,dtype=str,sep=\"|\",usecols=['customer_id_hashed','transaction_dt','transaction_id','location_id','class_code_id','item_transaction_amt'])\n",
    "    df=df[pd.notnull(df['customer_id_hashed'])]\n",
    "    df=df[df['customer_id_hashed'].isin(list_ids_new_signs_since_Sep18)]\n",
    "    if i_counter==0:\n",
    "        df=df[df['transaction_dt']>=track_start_date]\n",
    "    df['item_transaction_amt']=df['item_transaction_amt'].astype(float)\n",
    "    #\n",
    "    df_sales_depart=df.groupby(['customer_id_hashed','transaction_dt','class_code_id'])['item_transaction_amt'].sum().to_frame().reset_index().rename(columns={\"item_transaction_amt\":\"sales\"})\n",
    "    shopper_by_day_department_list.append(df_sales_depart)\n",
    "    \n",
    "    #\n",
    "    df_sales=df.groupby(['customer_id_hashed','transaction_dt'])['item_transaction_amt'].sum().to_frame().reset_index().rename(columns={\"item_transaction_amt\":\"sales\"})\n",
    "    #\n",
    "    df=df[df['item_transaction_amt']>0]\n",
    "\n",
    "    df_trans=df[['customer_id_hashed','transaction_dt','transaction_id','location_id']].drop_duplicates()\n",
    "    df_trans=df_trans.groupby(['customer_id_hashed','transaction_dt'])['transaction_id'].count().to_frame().reset_index().rename(columns={\"transaction_id\":\"trans\"})\n",
    "    \n",
    "    df=pd.merge(df_sales,df_trans,on=['customer_id_hashed','transaction_dt'],how=\"outer\")\n",
    "    shopper_by_day_list.append(df)\n",
    "    i_counter+=1\n",
    "    if i_counter%10==1:\n",
    "        print(i_counter,datetime.datetime.now())\n",
    "df_shopper_by_month=pd.concat(shopper_by_day_list)\n",
    "print(df_shopper_by_month.shape)\n",
    "\n",
    "del shopper_by_day_list\n",
    "df_shopper_by_month['shop_month']=df_shopper_by_month['transaction_dt'].apply(lambda x: x[:7])\n",
    "df_shopper_by_month=df_shopper_by_month.groupby(['customer_id_hashed','shop_month'])['sales','trans'].sum().reset_index()\n",
    "\n",
    "print(df_shopper_by_month.shape)\n",
    "\n",
    "gc.collect()\n",
    "print(datetime.datetime.now())\n"
   ]
  },
  {
   "cell_type": "code",
   "execution_count": 14,
   "metadata": {},
   "outputs": [
    {
     "name": "stdout",
     "output_type": "stream",
     "text": [
      "2019-12-05 12:53:29.115748\n"
     ]
    },
    {
     "data": {
      "text/html": [
       "<div>\n",
       "<style scoped>\n",
       "    .dataframe tbody tr th:only-of-type {\n",
       "        vertical-align: middle;\n",
       "    }\n",
       "\n",
       "    .dataframe tbody tr th {\n",
       "        vertical-align: top;\n",
       "    }\n",
       "\n",
       "    .dataframe thead th {\n",
       "        text-align: right;\n",
       "    }\n",
       "</style>\n",
       "<table border=\"1\" class=\"dataframe\">\n",
       "  <thead>\n",
       "    <tr style=\"text-align: right;\">\n",
       "      <th></th>\n",
       "      <th>customer_id_hashed</th>\n",
       "      <th>transaction_dt</th>\n",
       "      <th>class_code_id</th>\n",
       "      <th>sales</th>\n",
       "      <th>division_id</th>\n",
       "      <th>division_desc</th>\n",
       "    </tr>\n",
       "  </thead>\n",
       "  <tbody>\n",
       "    <tr>\n",
       "      <th>0</th>\n",
       "      <td>00002f57890442353de21f2ab1b17556089a69ad211c66...</td>\n",
       "      <td>2018-09-01</td>\n",
       "      <td>35039</td>\n",
       "      <td>20.0</td>\n",
       "      <td>4</td>\n",
       "      <td>SOFTHOME</td>\n",
       "    </tr>\n",
       "    <tr>\n",
       "      <th>1</th>\n",
       "      <td>00002f57890442353de21f2ab1b17556089a69ad211c66...</td>\n",
       "      <td>2018-09-01</td>\n",
       "      <td>35045</td>\n",
       "      <td>35.0</td>\n",
       "      <td>4</td>\n",
       "      <td>SOFTHOME</td>\n",
       "    </tr>\n",
       "    <tr>\n",
       "      <th>2</th>\n",
       "      <td>0003ca38cdd0e0b46b6971904e5ded3d313705e7b3cb7c...</td>\n",
       "      <td>2018-09-01</td>\n",
       "      <td>11001</td>\n",
       "      <td>5.0</td>\n",
       "      <td>1</td>\n",
       "      <td>FOOD</td>\n",
       "    </tr>\n",
       "  </tbody>\n",
       "</table>\n",
       "</div>"
      ],
      "text/plain": [
       "                                  customer_id_hashed transaction_dt  \\\n",
       "0  00002f57890442353de21f2ab1b17556089a69ad211c66...     2018-09-01   \n",
       "1  00002f57890442353de21f2ab1b17556089a69ad211c66...     2018-09-01   \n",
       "2  0003ca38cdd0e0b46b6971904e5ded3d313705e7b3cb7c...     2018-09-01   \n",
       "\n",
       "  class_code_id  sales division_id division_desc  \n",
       "0         35039   20.0           4      SOFTHOME  \n",
       "1         35045   35.0           4      SOFTHOME  \n",
       "2         11001    5.0           1          FOOD  "
      ]
     },
     "execution_count": 14,
     "metadata": {},
     "output_type": "execute_result"
    }
   ],
   "source": [
    "df_shopper_by_day_class=pd.concat(shopper_by_day_department_list)\n",
    "df_shopper_by_day_class=pd.merge(df_shopper_by_day_class,mapping_division_class,on=\"class_code_id\",how=\"left\")\n",
    "gc.collect()\n",
    "\n",
    "print(datetime.datetime.now())\n",
    "\n",
    "df_shopper_by_day_class.head(3)"
   ]
  },
  {
   "cell_type": "code",
   "execution_count": 15,
   "metadata": {},
   "outputs": [
    {
     "data": {
      "text/html": [
       "<div>\n",
       "<style scoped>\n",
       "    .dataframe tbody tr th:only-of-type {\n",
       "        vertical-align: middle;\n",
       "    }\n",
       "\n",
       "    .dataframe tbody tr th {\n",
       "        vertical-align: top;\n",
       "    }\n",
       "\n",
       "    .dataframe thead th {\n",
       "        text-align: right;\n",
       "    }\n",
       "</style>\n",
       "<table border=\"1\" class=\"dataframe\">\n",
       "  <thead>\n",
       "    <tr style=\"text-align: right;\">\n",
       "      <th></th>\n",
       "      <th>customer_id_hashed</th>\n",
       "      <th>transaction_dt</th>\n",
       "      <th>division_id</th>\n",
       "      <th>division_desc</th>\n",
       "      <th>sales</th>\n",
       "    </tr>\n",
       "  </thead>\n",
       "  <tbody>\n",
       "    <tr>\n",
       "      <th>0</th>\n",
       "      <td>000001dadc0265bf9d250566d74e0006323f18b5826641...</td>\n",
       "      <td>2018-09-22</td>\n",
       "      <td>1</td>\n",
       "      <td>FOOD</td>\n",
       "      <td>1.6</td>\n",
       "    </tr>\n",
       "    <tr>\n",
       "      <th>1</th>\n",
       "      <td>000001dadc0265bf9d250566d74e0006323f18b5826641...</td>\n",
       "      <td>2018-09-22</td>\n",
       "      <td>10</td>\n",
       "      <td>DIVISION 10</td>\n",
       "      <td>0.1</td>\n",
       "    </tr>\n",
       "  </tbody>\n",
       "</table>\n",
       "</div>"
      ],
      "text/plain": [
       "                                  customer_id_hashed transaction_dt  \\\n",
       "0  000001dadc0265bf9d250566d74e0006323f18b5826641...     2018-09-22   \n",
       "1  000001dadc0265bf9d250566d74e0006323f18b5826641...     2018-09-22   \n",
       "\n",
       "  division_id division_desc  sales  \n",
       "0           1          FOOD    1.6  \n",
       "1          10   DIVISION 10    0.1  "
      ]
     },
     "execution_count": 15,
     "metadata": {},
     "output_type": "execute_result"
    }
   ],
   "source": [
    "df_shopper_by_day_division=df_shopper_by_day_class.groupby([\"customer_id_hashed\",\"transaction_dt\",\"division_id\",\"division_desc\"])['sales'].sum().to_frame().reset_index()\n",
    "df_shopper_by_day_division.head(2)"
   ]
  },
  {
   "cell_type": "code",
   "execution_count": 16,
   "metadata": {},
   "outputs": [
    {
     "data": {
      "text/plain": [
       "0"
      ]
     },
     "execution_count": 16,
     "metadata": {},
     "output_type": "execute_result"
    }
   ],
   "source": [
    "del df_shopper_by_day_class\n",
    "gc.collect()"
   ]
  },
  {
   "cell_type": "code",
   "execution_count": 17,
   "metadata": {},
   "outputs": [
    {
     "data": {
      "text/html": [
       "<div>\n",
       "<style scoped>\n",
       "    .dataframe tbody tr th:only-of-type {\n",
       "        vertical-align: middle;\n",
       "    }\n",
       "\n",
       "    .dataframe tbody tr th {\n",
       "        vertical-align: top;\n",
       "    }\n",
       "\n",
       "    .dataframe thead th {\n",
       "        text-align: right;\n",
       "    }\n",
       "</style>\n",
       "<table border=\"1\" class=\"dataframe\">\n",
       "  <thead>\n",
       "    <tr style=\"text-align: right;\">\n",
       "      <th></th>\n",
       "      <th>customer_id_hashed</th>\n",
       "      <th>transaction_dt</th>\n",
       "      <th>division_id</th>\n",
       "      <th>division_desc</th>\n",
       "      <th>sales</th>\n",
       "    </tr>\n",
       "  </thead>\n",
       "  <tbody>\n",
       "    <tr>\n",
       "      <th>0</th>\n",
       "      <td>000001dadc0265bf9d250566d74e0006323f18b5826641...</td>\n",
       "      <td>2018-09-22</td>\n",
       "      <td>1</td>\n",
       "      <td>FOOD</td>\n",
       "      <td>1.6</td>\n",
       "    </tr>\n",
       "    <tr>\n",
       "      <th>1</th>\n",
       "      <td>000001dadc0265bf9d250566d74e0006323f18b5826641...</td>\n",
       "      <td>2018-09-22</td>\n",
       "      <td>10</td>\n",
       "      <td>DIVISION 10</td>\n",
       "      <td>0.1</td>\n",
       "    </tr>\n",
       "  </tbody>\n",
       "</table>\n",
       "</div>"
      ],
      "text/plain": [
       "                                  customer_id_hashed transaction_dt  \\\n",
       "0  000001dadc0265bf9d250566d74e0006323f18b5826641...     2018-09-22   \n",
       "1  000001dadc0265bf9d250566d74e0006323f18b5826641...     2018-09-22   \n",
       "\n",
       "  division_id division_desc  sales  \n",
       "0           1          FOOD    1.6  \n",
       "1          10   DIVISION 10    0.1  "
      ]
     },
     "execution_count": 17,
     "metadata": {},
     "output_type": "execute_result"
    }
   ],
   "source": [
    "df_shopper_by_day_division.head(2)"
   ]
  },
  {
   "cell_type": "code",
   "execution_count": 18,
   "metadata": {},
   "outputs": [
    {
     "data": {
      "text/plain": [
       "((35243934, 5), 6007038)"
      ]
     },
     "execution_count": 18,
     "metadata": {},
     "output_type": "execute_result"
    }
   ],
   "source": [
    "df_shopper_by_day_division.shape,df_shopper_by_day_division['customer_id_hashed'].nunique()"
   ]
  },
  {
   "cell_type": "code",
   "execution_count": 19,
   "metadata": {},
   "outputs": [
    {
     "name": "stdout",
     "output_type": "stream",
     "text": [
      "(2771375, 2) 2771375\n"
     ]
    }
   ],
   "source": [
    "# Unscribed ids & emails\n",
    "\n",
    "ids_unscribed=pd.read_csv(\"/home/jian/BigLots/unsubscribe/Unsub_JH_Final20191105Hashed.zip\",\n",
    "                          dtype=str,compression=\"zip\",usecols=[\"hashed_customer_num\"])\n",
    "ids_unscribed=ids_unscribed.rename(columns={\"hashed_customer_num\":\"customer_id_hashed\"})\n",
    "ids_unscribed['subscription']=\"Unsubscribed\"\n",
    "ids_unscribed=ids_unscribed.drop_duplicates()\n",
    "print(ids_unscribed.shape,ids_unscribed['customer_id_hashed'].nunique())"
   ]
  },
  {
   "cell_type": "code",
   "execution_count": 20,
   "metadata": {
    "collapsed": true
   },
   "outputs": [],
   "source": [
    "df_shopper_by_day_division=pd.merge(df_shopper_by_day_division,ids_unscribed,on=\"customer_id_hashed\",how=\"left\")\n",
    "df_shopper_by_day_division['subscription']=df_shopper_by_day_division['subscription'].fillna(\"Default_Subscribe\")"
   ]
  },
  {
   "cell_type": "code",
   "execution_count": 21,
   "metadata": {},
   "outputs": [
    {
     "data": {
      "text/html": [
       "<div>\n",
       "<style scoped>\n",
       "    .dataframe tbody tr th:only-of-type {\n",
       "        vertical-align: middle;\n",
       "    }\n",
       "\n",
       "    .dataframe tbody tr th {\n",
       "        vertical-align: top;\n",
       "    }\n",
       "\n",
       "    .dataframe thead th {\n",
       "        text-align: right;\n",
       "    }\n",
       "</style>\n",
       "<table border=\"1\" class=\"dataframe\">\n",
       "  <thead>\n",
       "    <tr style=\"text-align: right;\">\n",
       "      <th></th>\n",
       "      <th>customer_id_hashed</th>\n",
       "      <th>transaction_dt</th>\n",
       "      <th>division_id</th>\n",
       "      <th>division_desc</th>\n",
       "      <th>sales</th>\n",
       "      <th>subscription</th>\n",
       "    </tr>\n",
       "  </thead>\n",
       "  <tbody>\n",
       "    <tr>\n",
       "      <th>0</th>\n",
       "      <td>000001dadc0265bf9d250566d74e0006323f18b5826641...</td>\n",
       "      <td>2018-09-22</td>\n",
       "      <td>1</td>\n",
       "      <td>FOOD</td>\n",
       "      <td>1.6</td>\n",
       "      <td>Default_Subscribe</td>\n",
       "    </tr>\n",
       "    <tr>\n",
       "      <th>1</th>\n",
       "      <td>000001dadc0265bf9d250566d74e0006323f18b5826641...</td>\n",
       "      <td>2018-09-22</td>\n",
       "      <td>10</td>\n",
       "      <td>DIVISION 10</td>\n",
       "      <td>0.1</td>\n",
       "      <td>Default_Subscribe</td>\n",
       "    </tr>\n",
       "    <tr>\n",
       "      <th>2</th>\n",
       "      <td>000001dadc0265bf9d250566d74e0006323f18b5826641...</td>\n",
       "      <td>2018-09-22</td>\n",
       "      <td>2</td>\n",
       "      <td>CONSUMABLES</td>\n",
       "      <td>6.0</td>\n",
       "      <td>Default_Subscribe</td>\n",
       "    </tr>\n",
       "    <tr>\n",
       "      <th>3</th>\n",
       "      <td>000001dadc0265bf9d250566d74e0006323f18b5826641...</td>\n",
       "      <td>2018-09-22</td>\n",
       "      <td>3</td>\n",
       "      <td>SEASONAL</td>\n",
       "      <td>45.0</td>\n",
       "      <td>Default_Subscribe</td>\n",
       "    </tr>\n",
       "    <tr>\n",
       "      <th>4</th>\n",
       "      <td>000001dadc0265bf9d250566d74e0006323f18b5826641...</td>\n",
       "      <td>2018-09-22</td>\n",
       "      <td>4</td>\n",
       "      <td>SOFTHOME</td>\n",
       "      <td>6.0</td>\n",
       "      <td>Default_Subscribe</td>\n",
       "    </tr>\n",
       "  </tbody>\n",
       "</table>\n",
       "</div>"
      ],
      "text/plain": [
       "                                  customer_id_hashed transaction_dt  \\\n",
       "0  000001dadc0265bf9d250566d74e0006323f18b5826641...     2018-09-22   \n",
       "1  000001dadc0265bf9d250566d74e0006323f18b5826641...     2018-09-22   \n",
       "2  000001dadc0265bf9d250566d74e0006323f18b5826641...     2018-09-22   \n",
       "3  000001dadc0265bf9d250566d74e0006323f18b5826641...     2018-09-22   \n",
       "4  000001dadc0265bf9d250566d74e0006323f18b5826641...     2018-09-22   \n",
       "\n",
       "  division_id division_desc  sales       subscription  \n",
       "0           1          FOOD    1.6  Default_Subscribe  \n",
       "1          10   DIVISION 10    0.1  Default_Subscribe  \n",
       "2           2   CONSUMABLES    6.0  Default_Subscribe  \n",
       "3           3      SEASONAL   45.0  Default_Subscribe  \n",
       "4           4      SOFTHOME    6.0  Default_Subscribe  "
      ]
     },
     "execution_count": 21,
     "metadata": {},
     "output_type": "execute_result"
    }
   ],
   "source": [
    "df_shopper_by_day_division.head(5)"
   ]
  },
  {
   "cell_type": "markdown",
   "metadata": {},
   "source": [
    "# 1. Id count"
   ]
  },
  {
   "cell_type": "code",
   "execution_count": 22,
   "metadata": {
    "collapsed": true
   },
   "outputs": [],
   "source": [
    "df_shopper_by_month['shopping_behavior']=1"
   ]
  },
  {
   "cell_type": "code",
   "execution_count": 23,
   "metadata": {
    "collapsed": true
   },
   "outputs": [],
   "source": [
    "def month_add_interval(str_YYYY_mm,int_m_interval):\n",
    "    YYYY_int=int(str_YYYY_mm.split(\"-\")[0])\n",
    "    mm_int=int(str_YYYY_mm.split(\"-\")[1])\n",
    "    \n",
    "    mm_int_new=mm_int+int_m_interval\n",
    "    if mm_int_new>=13:\n",
    "        YYYY_int+=1\n",
    "        mm_int_new=mm_int_new-12\n",
    "    return str(YYYY_int)+\"-\"+str(mm_int_new).zfill(2)"
   ]
  },
  {
   "cell_type": "code",
   "execution_count": 24,
   "metadata": {},
   "outputs": [
    {
     "data": {
      "text/html": [
       "<div>\n",
       "<style scoped>\n",
       "    .dataframe tbody tr th:only-of-type {\n",
       "        vertical-align: middle;\n",
       "    }\n",
       "\n",
       "    .dataframe tbody tr th {\n",
       "        vertical-align: top;\n",
       "    }\n",
       "\n",
       "    .dataframe thead th {\n",
       "        text-align: right;\n",
       "    }\n",
       "</style>\n",
       "<table border=\"1\" class=\"dataframe\">\n",
       "  <thead>\n",
       "    <tr style=\"text-align: right;\">\n",
       "      <th></th>\n",
       "      <th>customer_id_hashed</th>\n",
       "      <th>sign_up_date</th>\n",
       "      <th>registerd_month</th>\n",
       "    </tr>\n",
       "  </thead>\n",
       "  <tbody>\n",
       "    <tr>\n",
       "      <th>201365</th>\n",
       "      <td>14d2626ab97b1895f5c0955d635f2d859d6b7773d24a18...</td>\n",
       "      <td>2019-11-30</td>\n",
       "      <td>2019-11</td>\n",
       "    </tr>\n",
       "    <tr>\n",
       "      <th>1264</th>\n",
       "      <td>0d486acc9776c5daad35c2bde37be6d25e59ae04681585...</td>\n",
       "      <td>2019-11-30</td>\n",
       "      <td>2019-11</td>\n",
       "    </tr>\n",
       "  </tbody>\n",
       "</table>\n",
       "</div>"
      ],
      "text/plain": [
       "                                       customer_id_hashed sign_up_date  \\\n",
       "201365  14d2626ab97b1895f5c0955d635f2d859d6b7773d24a18...   2019-11-30   \n",
       "1264    0d486acc9776c5daad35c2bde37be6d25e59ae04681585...   2019-11-30   \n",
       "\n",
       "       registerd_month  \n",
       "201365         2019-11  \n",
       "1264           2019-11  "
      ]
     },
     "execution_count": 24,
     "metadata": {},
     "output_type": "execute_result"
    }
   ],
   "source": [
    "df_output_long.head(2)"
   ]
  },
  {
   "cell_type": "code",
   "execution_count": 25,
   "metadata": {},
   "outputs": [
    {
     "name": "stdout",
     "output_type": "stream",
     "text": [
      "0 2019-12-05 12:59:25.594695\n",
      "1 2019-12-05 13:00:36.435969\n",
      "2 2019-12-05 13:01:48.879446\n",
      "3 2019-12-05 13:03:02.293284\n",
      "4 2019-12-05 13:04:16.199189\n",
      "5 2019-12-05 13:05:30.620173\n",
      "6 2019-12-05 13:06:47.171883\n",
      "7 2019-12-05 13:08:05.115019\n",
      "8 2019-12-05 13:09:21.703393\n",
      "9 2019-12-05 13:10:39.330594\n",
      "10 2019-12-05 13:11:57.842213\n",
      "11 2019-12-05 13:13:18.905667\n",
      "12 2019-12-05 13:14:41.019678\n",
      "13 2019-12-05 13:16:02.848988\n",
      "14 2019-12-05 13:17:25.376400\n",
      "15 2019-12-05 13:18:49.582632\n",
      "16 2019-12-05 13:20:14.976329\n",
      "17 2019-12-05 13:21:40.892588\n",
      "18 2019-12-05 13:23:07.729248\n",
      "(8763575, 22)\n"
     ]
    }
   ],
   "source": [
    "df_output_1_count=df_output_long.copy()\n",
    "for i in range(19):\n",
    "    df_output_1_count[\"M\"+str(i)]=df_output_1_count['registerd_month'].apply(lambda x: month_add_interval(x,i))\n",
    "    df_output_1_count=pd.merge(df_output_1_count,df_shopper_by_month[['customer_id_hashed','shop_month','shopping_behavior']],\n",
    "                            left_on=['customer_id_hashed',\"M\"+str(i)],\n",
    "                            right_on=['customer_id_hashed',\"shop_month\"],how=\"left\")\n",
    "    del df_output_1_count['shop_month']\n",
    "    del df_output_1_count[\"M\"+str(i)]\n",
    "    df_output_1_count['shopping_behavior']=df_output_1_count['shopping_behavior'].fillna(0)\n",
    "    df_output_1_count=df_output_1_count.rename(columns={\"shopping_behavior\":\"M\"+str(i)})\n",
    "    print(i,datetime.datetime.now())\n",
    "    \n",
    "print(df_output_1_count.shape)"
   ]
  },
  {
   "cell_type": "code",
   "execution_count": 26,
   "metadata": {
    "collapsed": true
   },
   "outputs": [],
   "source": [
    "df_id_count=df_output_1_count.groupby(\"registerd_month\")['customer_id_hashed'].count().to_frame().reset_index().rename(columns={\"customer_id_hashed\":\"id_new_signed_count\"})\n",
    "df_id_shopper_count_sum=df_output_1_count.groupby(['registerd_month'])[[x for x in df_output_1_count.columns.tolist() if x[0]==\"M\"]].sum().reset_index()\n",
    "\n",
    "df_output_1_count=pd.merge(df_id_count,df_id_shopper_count_sum,on=\"registerd_month\",how=\"outer\")"
   ]
  },
  {
   "cell_type": "code",
   "execution_count": 27,
   "metadata": {},
   "outputs": [
    {
     "data": {
      "text/html": [
       "<div>\n",
       "<style scoped>\n",
       "    .dataframe tbody tr th:only-of-type {\n",
       "        vertical-align: middle;\n",
       "    }\n",
       "\n",
       "    .dataframe tbody tr th {\n",
       "        vertical-align: top;\n",
       "    }\n",
       "\n",
       "    .dataframe thead th {\n",
       "        text-align: right;\n",
       "    }\n",
       "</style>\n",
       "<table border=\"1\" class=\"dataframe\">\n",
       "  <thead>\n",
       "    <tr style=\"text-align: right;\">\n",
       "      <th></th>\n",
       "      <th>registerd_month</th>\n",
       "      <th>id_new_signed_count</th>\n",
       "      <th>M0</th>\n",
       "      <th>M1</th>\n",
       "      <th>M2</th>\n",
       "      <th>M3</th>\n",
       "      <th>M4</th>\n",
       "      <th>M5</th>\n",
       "      <th>M6</th>\n",
       "      <th>M7</th>\n",
       "      <th>...</th>\n",
       "      <th>M9</th>\n",
       "      <th>M10</th>\n",
       "      <th>M11</th>\n",
       "      <th>M12</th>\n",
       "      <th>M13</th>\n",
       "      <th>M14</th>\n",
       "      <th>M15</th>\n",
       "      <th>M16</th>\n",
       "      <th>M17</th>\n",
       "      <th>M18</th>\n",
       "    </tr>\n",
       "  </thead>\n",
       "  <tbody>\n",
       "    <tr>\n",
       "      <th>0</th>\n",
       "      <td>2018-09</td>\n",
       "      <td>559549</td>\n",
       "      <td>390823.0</td>\n",
       "      <td>90361.0</td>\n",
       "      <td>87480.0</td>\n",
       "      <td>89580.0</td>\n",
       "      <td>59316.0</td>\n",
       "      <td>53315.0</td>\n",
       "      <td>59465.0</td>\n",
       "      <td>57168.0</td>\n",
       "      <td>...</td>\n",
       "      <td>52844.0</td>\n",
       "      <td>54849.0</td>\n",
       "      <td>53022.0</td>\n",
       "      <td>54257.0</td>\n",
       "      <td>53007.0</td>\n",
       "      <td>61888.0</td>\n",
       "      <td>0.0</td>\n",
       "      <td>0.0</td>\n",
       "      <td>0.0</td>\n",
       "      <td>0.0</td>\n",
       "    </tr>\n",
       "    <tr>\n",
       "      <th>1</th>\n",
       "      <td>2018-10</td>\n",
       "      <td>441767</td>\n",
       "      <td>261677.0</td>\n",
       "      <td>73787.0</td>\n",
       "      <td>67800.0</td>\n",
       "      <td>42327.0</td>\n",
       "      <td>38221.0</td>\n",
       "      <td>41935.0</td>\n",
       "      <td>39953.0</td>\n",
       "      <td>38174.0</td>\n",
       "      <td>...</td>\n",
       "      <td>36938.0</td>\n",
       "      <td>35403.0</td>\n",
       "      <td>36248.0</td>\n",
       "      <td>38088.0</td>\n",
       "      <td>43756.0</td>\n",
       "      <td>0.0</td>\n",
       "      <td>0.0</td>\n",
       "      <td>0.0</td>\n",
       "      <td>0.0</td>\n",
       "      <td>0.0</td>\n",
       "    </tr>\n",
       "    <tr>\n",
       "      <th>2</th>\n",
       "      <td>2018-11</td>\n",
       "      <td>824107</td>\n",
       "      <td>466209.0</td>\n",
       "      <td>136546.0</td>\n",
       "      <td>74056.0</td>\n",
       "      <td>63221.0</td>\n",
       "      <td>69674.0</td>\n",
       "      <td>65457.0</td>\n",
       "      <td>62501.0</td>\n",
       "      <td>58977.0</td>\n",
       "      <td>...</td>\n",
       "      <td>57444.0</td>\n",
       "      <td>59262.0</td>\n",
       "      <td>62430.0</td>\n",
       "      <td>86113.0</td>\n",
       "      <td>0.0</td>\n",
       "      <td>0.0</td>\n",
       "      <td>0.0</td>\n",
       "      <td>0.0</td>\n",
       "      <td>0.0</td>\n",
       "      <td>0.0</td>\n",
       "    </tr>\n",
       "    <tr>\n",
       "      <th>3</th>\n",
       "      <td>2018-12</td>\n",
       "      <td>843469</td>\n",
       "      <td>484238.0</td>\n",
       "      <td>78858.0</td>\n",
       "      <td>60452.0</td>\n",
       "      <td>64319.0</td>\n",
       "      <td>60109.0</td>\n",
       "      <td>56290.0</td>\n",
       "      <td>54078.0</td>\n",
       "      <td>56224.0</td>\n",
       "      <td>...</td>\n",
       "      <td>51853.0</td>\n",
       "      <td>54453.0</td>\n",
       "      <td>72466.0</td>\n",
       "      <td>0.0</td>\n",
       "      <td>0.0</td>\n",
       "      <td>0.0</td>\n",
       "      <td>0.0</td>\n",
       "      <td>0.0</td>\n",
       "      <td>0.0</td>\n",
       "      <td>0.0</td>\n",
       "    </tr>\n",
       "    <tr>\n",
       "      <th>4</th>\n",
       "      <td>2019-01</td>\n",
       "      <td>554172</td>\n",
       "      <td>357651.0</td>\n",
       "      <td>79372.0</td>\n",
       "      <td>71564.0</td>\n",
       "      <td>62632.0</td>\n",
       "      <td>57048.0</td>\n",
       "      <td>53218.0</td>\n",
       "      <td>54413.0</td>\n",
       "      <td>50388.0</td>\n",
       "      <td>...</td>\n",
       "      <td>49653.0</td>\n",
       "      <td>57691.0</td>\n",
       "      <td>0.0</td>\n",
       "      <td>0.0</td>\n",
       "      <td>0.0</td>\n",
       "      <td>0.0</td>\n",
       "      <td>0.0</td>\n",
       "      <td>0.0</td>\n",
       "      <td>0.0</td>\n",
       "      <td>0.0</td>\n",
       "    </tr>\n",
       "    <tr>\n",
       "      <th>5</th>\n",
       "      <td>2019-02</td>\n",
       "      <td>495334</td>\n",
       "      <td>317587.0</td>\n",
       "      <td>78865.0</td>\n",
       "      <td>57211.0</td>\n",
       "      <td>50433.0</td>\n",
       "      <td>45844.0</td>\n",
       "      <td>46079.0</td>\n",
       "      <td>43145.0</td>\n",
       "      <td>41748.0</td>\n",
       "      <td>...</td>\n",
       "      <td>48797.0</td>\n",
       "      <td>0.0</td>\n",
       "      <td>0.0</td>\n",
       "      <td>0.0</td>\n",
       "      <td>0.0</td>\n",
       "      <td>0.0</td>\n",
       "      <td>0.0</td>\n",
       "      <td>0.0</td>\n",
       "      <td>0.0</td>\n",
       "      <td>0.0</td>\n",
       "    </tr>\n",
       "    <tr>\n",
       "      <th>6</th>\n",
       "      <td>2019-03</td>\n",
       "      <td>551970</td>\n",
       "      <td>373413.0</td>\n",
       "      <td>84743.0</td>\n",
       "      <td>62312.0</td>\n",
       "      <td>54405.0</td>\n",
       "      <td>53883.0</td>\n",
       "      <td>49178.0</td>\n",
       "      <td>47412.0</td>\n",
       "      <td>47451.0</td>\n",
       "      <td>...</td>\n",
       "      <td>0.0</td>\n",
       "      <td>0.0</td>\n",
       "      <td>0.0</td>\n",
       "      <td>0.0</td>\n",
       "      <td>0.0</td>\n",
       "      <td>0.0</td>\n",
       "      <td>0.0</td>\n",
       "      <td>0.0</td>\n",
       "      <td>0.0</td>\n",
       "      <td>0.0</td>\n",
       "    </tr>\n",
       "    <tr>\n",
       "      <th>7</th>\n",
       "      <td>2019-04</td>\n",
       "      <td>529464</td>\n",
       "      <td>352694.0</td>\n",
       "      <td>78352.0</td>\n",
       "      <td>59453.0</td>\n",
       "      <td>56434.0</td>\n",
       "      <td>49932.0</td>\n",
       "      <td>48044.0</td>\n",
       "      <td>47322.0</td>\n",
       "      <td>55274.0</td>\n",
       "      <td>...</td>\n",
       "      <td>0.0</td>\n",
       "      <td>0.0</td>\n",
       "      <td>0.0</td>\n",
       "      <td>0.0</td>\n",
       "      <td>0.0</td>\n",
       "      <td>0.0</td>\n",
       "      <td>0.0</td>\n",
       "      <td>0.0</td>\n",
       "      <td>0.0</td>\n",
       "      <td>0.0</td>\n",
       "    </tr>\n",
       "    <tr>\n",
       "      <th>8</th>\n",
       "      <td>2019-05</td>\n",
       "      <td>518120</td>\n",
       "      <td>355840.0</td>\n",
       "      <td>77480.0</td>\n",
       "      <td>61986.0</td>\n",
       "      <td>53535.0</td>\n",
       "      <td>49193.0</td>\n",
       "      <td>48066.0</td>\n",
       "      <td>54817.0</td>\n",
       "      <td>0.0</td>\n",
       "      <td>...</td>\n",
       "      <td>0.0</td>\n",
       "      <td>0.0</td>\n",
       "      <td>0.0</td>\n",
       "      <td>0.0</td>\n",
       "      <td>0.0</td>\n",
       "      <td>0.0</td>\n",
       "      <td>0.0</td>\n",
       "      <td>0.0</td>\n",
       "      <td>0.0</td>\n",
       "      <td>0.0</td>\n",
       "    </tr>\n",
       "    <tr>\n",
       "      <th>9</th>\n",
       "      <td>2019-06</td>\n",
       "      <td>515025</td>\n",
       "      <td>360205.0</td>\n",
       "      <td>85111.0</td>\n",
       "      <td>60986.0</td>\n",
       "      <td>53499.0</td>\n",
       "      <td>51413.0</td>\n",
       "      <td>57516.0</td>\n",
       "      <td>0.0</td>\n",
       "      <td>0.0</td>\n",
       "      <td>...</td>\n",
       "      <td>0.0</td>\n",
       "      <td>0.0</td>\n",
       "      <td>0.0</td>\n",
       "      <td>0.0</td>\n",
       "      <td>0.0</td>\n",
       "      <td>0.0</td>\n",
       "      <td>0.0</td>\n",
       "      <td>0.0</td>\n",
       "      <td>0.0</td>\n",
       "      <td>0.0</td>\n",
       "    </tr>\n",
       "    <tr>\n",
       "      <th>10</th>\n",
       "      <td>2019-07</td>\n",
       "      <td>608678</td>\n",
       "      <td>429755.0</td>\n",
       "      <td>92696.0</td>\n",
       "      <td>70585.0</td>\n",
       "      <td>65226.0</td>\n",
       "      <td>72488.0</td>\n",
       "      <td>0.0</td>\n",
       "      <td>0.0</td>\n",
       "      <td>0.0</td>\n",
       "      <td>...</td>\n",
       "      <td>0.0</td>\n",
       "      <td>0.0</td>\n",
       "      <td>0.0</td>\n",
       "      <td>0.0</td>\n",
       "      <td>0.0</td>\n",
       "      <td>0.0</td>\n",
       "      <td>0.0</td>\n",
       "      <td>0.0</td>\n",
       "      <td>0.0</td>\n",
       "      <td>0.0</td>\n",
       "    </tr>\n",
       "    <tr>\n",
       "      <th>11</th>\n",
       "      <td>2019-08</td>\n",
       "      <td>523732</td>\n",
       "      <td>354020.0</td>\n",
       "      <td>76728.0</td>\n",
       "      <td>61768.0</td>\n",
       "      <td>64370.0</td>\n",
       "      <td>0.0</td>\n",
       "      <td>0.0</td>\n",
       "      <td>0.0</td>\n",
       "      <td>0.0</td>\n",
       "      <td>...</td>\n",
       "      <td>0.0</td>\n",
       "      <td>0.0</td>\n",
       "      <td>0.0</td>\n",
       "      <td>0.0</td>\n",
       "      <td>0.0</td>\n",
       "      <td>0.0</td>\n",
       "      <td>0.0</td>\n",
       "      <td>0.0</td>\n",
       "      <td>0.0</td>\n",
       "      <td>0.0</td>\n",
       "    </tr>\n",
       "    <tr>\n",
       "      <th>12</th>\n",
       "      <td>2019-09</td>\n",
       "      <td>571755</td>\n",
       "      <td>405232.0</td>\n",
       "      <td>94632.0</td>\n",
       "      <td>86786.0</td>\n",
       "      <td>0.0</td>\n",
       "      <td>0.0</td>\n",
       "      <td>0.0</td>\n",
       "      <td>0.0</td>\n",
       "      <td>0.0</td>\n",
       "      <td>...</td>\n",
       "      <td>0.0</td>\n",
       "      <td>0.0</td>\n",
       "      <td>0.0</td>\n",
       "      <td>0.0</td>\n",
       "      <td>0.0</td>\n",
       "      <td>0.0</td>\n",
       "      <td>0.0</td>\n",
       "      <td>0.0</td>\n",
       "      <td>0.0</td>\n",
       "      <td>0.0</td>\n",
       "    </tr>\n",
       "    <tr>\n",
       "      <th>13</th>\n",
       "      <td>2019-10</td>\n",
       "      <td>501127</td>\n",
       "      <td>327228.0</td>\n",
       "      <td>87415.0</td>\n",
       "      <td>0.0</td>\n",
       "      <td>0.0</td>\n",
       "      <td>0.0</td>\n",
       "      <td>0.0</td>\n",
       "      <td>0.0</td>\n",
       "      <td>0.0</td>\n",
       "      <td>...</td>\n",
       "      <td>0.0</td>\n",
       "      <td>0.0</td>\n",
       "      <td>0.0</td>\n",
       "      <td>0.0</td>\n",
       "      <td>0.0</td>\n",
       "      <td>0.0</td>\n",
       "      <td>0.0</td>\n",
       "      <td>0.0</td>\n",
       "      <td>0.0</td>\n",
       "      <td>0.0</td>\n",
       "    </tr>\n",
       "    <tr>\n",
       "      <th>14</th>\n",
       "      <td>2019-11</td>\n",
       "      <td>725306</td>\n",
       "      <td>448124.0</td>\n",
       "      <td>0.0</td>\n",
       "      <td>0.0</td>\n",
       "      <td>0.0</td>\n",
       "      <td>0.0</td>\n",
       "      <td>0.0</td>\n",
       "      <td>0.0</td>\n",
       "      <td>0.0</td>\n",
       "      <td>...</td>\n",
       "      <td>0.0</td>\n",
       "      <td>0.0</td>\n",
       "      <td>0.0</td>\n",
       "      <td>0.0</td>\n",
       "      <td>0.0</td>\n",
       "      <td>0.0</td>\n",
       "      <td>0.0</td>\n",
       "      <td>0.0</td>\n",
       "      <td>0.0</td>\n",
       "      <td>0.0</td>\n",
       "    </tr>\n",
       "  </tbody>\n",
       "</table>\n",
       "<p>15 rows × 21 columns</p>\n",
       "</div>"
      ],
      "text/plain": [
       "   registerd_month  id_new_signed_count        M0        M1       M2       M3  \\\n",
       "0          2018-09               559549  390823.0   90361.0  87480.0  89580.0   \n",
       "1          2018-10               441767  261677.0   73787.0  67800.0  42327.0   \n",
       "2          2018-11               824107  466209.0  136546.0  74056.0  63221.0   \n",
       "3          2018-12               843469  484238.0   78858.0  60452.0  64319.0   \n",
       "4          2019-01               554172  357651.0   79372.0  71564.0  62632.0   \n",
       "5          2019-02               495334  317587.0   78865.0  57211.0  50433.0   \n",
       "6          2019-03               551970  373413.0   84743.0  62312.0  54405.0   \n",
       "7          2019-04               529464  352694.0   78352.0  59453.0  56434.0   \n",
       "8          2019-05               518120  355840.0   77480.0  61986.0  53535.0   \n",
       "9          2019-06               515025  360205.0   85111.0  60986.0  53499.0   \n",
       "10         2019-07               608678  429755.0   92696.0  70585.0  65226.0   \n",
       "11         2019-08               523732  354020.0   76728.0  61768.0  64370.0   \n",
       "12         2019-09               571755  405232.0   94632.0  86786.0      0.0   \n",
       "13         2019-10               501127  327228.0   87415.0      0.0      0.0   \n",
       "14         2019-11               725306  448124.0       0.0      0.0      0.0   \n",
       "\n",
       "         M4       M5       M6       M7  ...       M9      M10      M11  \\\n",
       "0   59316.0  53315.0  59465.0  57168.0  ...  52844.0  54849.0  53022.0   \n",
       "1   38221.0  41935.0  39953.0  38174.0  ...  36938.0  35403.0  36248.0   \n",
       "2   69674.0  65457.0  62501.0  58977.0  ...  57444.0  59262.0  62430.0   \n",
       "3   60109.0  56290.0  54078.0  56224.0  ...  51853.0  54453.0  72466.0   \n",
       "4   57048.0  53218.0  54413.0  50388.0  ...  49653.0  57691.0      0.0   \n",
       "5   45844.0  46079.0  43145.0  41748.0  ...  48797.0      0.0      0.0   \n",
       "6   53883.0  49178.0  47412.0  47451.0  ...      0.0      0.0      0.0   \n",
       "7   49932.0  48044.0  47322.0  55274.0  ...      0.0      0.0      0.0   \n",
       "8   49193.0  48066.0  54817.0      0.0  ...      0.0      0.0      0.0   \n",
       "9   51413.0  57516.0      0.0      0.0  ...      0.0      0.0      0.0   \n",
       "10  72488.0      0.0      0.0      0.0  ...      0.0      0.0      0.0   \n",
       "11      0.0      0.0      0.0      0.0  ...      0.0      0.0      0.0   \n",
       "12      0.0      0.0      0.0      0.0  ...      0.0      0.0      0.0   \n",
       "13      0.0      0.0      0.0      0.0  ...      0.0      0.0      0.0   \n",
       "14      0.0      0.0      0.0      0.0  ...      0.0      0.0      0.0   \n",
       "\n",
       "        M12      M13      M14  M15  M16  M17  M18  \n",
       "0   54257.0  53007.0  61888.0  0.0  0.0  0.0  0.0  \n",
       "1   38088.0  43756.0      0.0  0.0  0.0  0.0  0.0  \n",
       "2   86113.0      0.0      0.0  0.0  0.0  0.0  0.0  \n",
       "3       0.0      0.0      0.0  0.0  0.0  0.0  0.0  \n",
       "4       0.0      0.0      0.0  0.0  0.0  0.0  0.0  \n",
       "5       0.0      0.0      0.0  0.0  0.0  0.0  0.0  \n",
       "6       0.0      0.0      0.0  0.0  0.0  0.0  0.0  \n",
       "7       0.0      0.0      0.0  0.0  0.0  0.0  0.0  \n",
       "8       0.0      0.0      0.0  0.0  0.0  0.0  0.0  \n",
       "9       0.0      0.0      0.0  0.0  0.0  0.0  0.0  \n",
       "10      0.0      0.0      0.0  0.0  0.0  0.0  0.0  \n",
       "11      0.0      0.0      0.0  0.0  0.0  0.0  0.0  \n",
       "12      0.0      0.0      0.0  0.0  0.0  0.0  0.0  \n",
       "13      0.0      0.0      0.0  0.0  0.0  0.0  0.0  \n",
       "14      0.0      0.0      0.0  0.0  0.0  0.0  0.0  \n",
       "\n",
       "[15 rows x 21 columns]"
      ]
     },
     "execution_count": 27,
     "metadata": {},
     "output_type": "execute_result"
    }
   ],
   "source": [
    "df_output_1_count"
   ]
  },
  {
   "cell_type": "markdown",
   "metadata": {},
   "source": [
    "# 2. Sales"
   ]
  },
  {
   "cell_type": "code",
   "execution_count": 28,
   "metadata": {},
   "outputs": [
    {
     "name": "stdout",
     "output_type": "stream",
     "text": [
      "0 2019-12-05 13:24:28.150723\n",
      "1 2019-12-05 13:25:39.348474\n",
      "2 2019-12-05 13:26:52.703869\n",
      "3 2019-12-05 13:28:07.595983\n",
      "4 2019-12-05 13:29:28.280595\n",
      "5 2019-12-05 13:30:45.123275\n",
      "6 2019-12-05 13:32:09.971371\n",
      "7 2019-12-05 13:33:37.689945\n",
      "8 2019-12-05 13:35:03.642278\n",
      "9 2019-12-05 13:36:32.274143\n",
      "10 2019-12-05 13:37:54.956015\n",
      "11 2019-12-05 13:39:28.254187\n",
      "12 2019-12-05 13:40:54.504972\n",
      "13 2019-12-05 13:42:28.668089\n",
      "14 2019-12-05 13:43:55.674862\n",
      "15 2019-12-05 13:45:32.075131\n",
      "16 2019-12-05 13:47:10.728855\n",
      "17 2019-12-05 13:48:50.792629\n",
      "18 2019-12-05 13:50:22.470473\n",
      "(8763575, 22)\n"
     ]
    }
   ],
   "source": [
    "df_output_2_sales=df_output_long.copy()\n",
    "for i in range(19):\n",
    "    df_output_2_sales[\"M\"+str(i)]=df_output_2_sales['registerd_month'].apply(lambda x: month_add_interval(x,i))\n",
    "    df_output_2_sales=pd.merge(df_output_2_sales,df_shopper_by_month[['customer_id_hashed','shop_month','sales']],\n",
    "                            left_on=['customer_id_hashed',\"M\"+str(i)],\n",
    "                            right_on=['customer_id_hashed',\"shop_month\"],how=\"left\")\n",
    "    del df_output_2_sales['shop_month']\n",
    "    del df_output_2_sales[\"M\"+str(i)]\n",
    "    df_output_2_sales['sales']=df_output_2_sales['sales'].fillna(0)\n",
    "    df_output_2_sales=df_output_2_sales.rename(columns={\"sales\":\"M\"+str(i)})\n",
    "    print(i,datetime.datetime.now())\n",
    "print(df_output_2_sales.shape)\n"
   ]
  },
  {
   "cell_type": "code",
   "execution_count": 29,
   "metadata": {
    "collapsed": true
   },
   "outputs": [],
   "source": [
    "df_id_shopper_sales_sum=df_output_2_sales.groupby(['registerd_month'])[[x for x in df_output_2_sales.columns.tolist() if x[0]==\"M\"]].sum().reset_index()\n",
    "\n",
    "df_output_2_sales=pd.merge(df_id_count,df_id_shopper_sales_sum,on=\"registerd_month\",how=\"outer\")"
   ]
  },
  {
   "cell_type": "markdown",
   "metadata": {},
   "source": [
    "# 3. Trans"
   ]
  },
  {
   "cell_type": "code",
   "execution_count": 30,
   "metadata": {},
   "outputs": [
    {
     "name": "stdout",
     "output_type": "stream",
     "text": [
      "0 2019-12-05 13:51:48.424886\n",
      "1 2019-12-05 13:53:08.089434\n",
      "2 2019-12-05 13:54:28.078751\n",
      "3 2019-12-05 13:55:50.535081\n",
      "4 2019-12-05 13:57:14.126142\n",
      "5 2019-12-05 13:58:29.720256\n",
      "6 2019-12-05 13:59:56.295394\n",
      "7 2019-12-05 14:01:19.254366\n",
      "8 2019-12-05 14:02:47.177105\n",
      "9 2019-12-05 14:04:15.682690\n",
      "10 2019-12-05 14:05:46.016266\n",
      "11 2019-12-05 14:07:17.728720\n",
      "12 2019-12-05 14:08:42.961057\n",
      "13 2019-12-05 14:10:12.607600\n",
      "14 2019-12-05 14:11:44.987598\n",
      "15 2019-12-05 14:13:23.578166\n",
      "16 2019-12-05 14:15:02.167184\n",
      "17 2019-12-05 14:16:41.983152\n",
      "18 2019-12-05 14:18:14.773568\n",
      "(8763575, 22)\n"
     ]
    }
   ],
   "source": [
    "df_output_3_trans=df_output_long.copy()\n",
    "for i in range(19):\n",
    "    df_output_3_trans[\"M\"+str(i)]=df_output_3_trans['registerd_month'].apply(lambda x: month_add_interval(x,i))\n",
    "    df_output_3_trans=pd.merge(df_output_3_trans,df_shopper_by_month[['customer_id_hashed','shop_month','trans']],\n",
    "                            left_on=['customer_id_hashed',\"M\"+str(i)],\n",
    "                            right_on=['customer_id_hashed',\"shop_month\"],how=\"left\")\n",
    "    del df_output_3_trans['shop_month']\n",
    "    del df_output_3_trans[\"M\"+str(i)]\n",
    "    df_output_3_trans['trans']=df_output_3_trans['trans'].fillna(0)\n",
    "    df_output_3_trans=df_output_3_trans.rename(columns={\"trans\":\"M\"+str(i)})\n",
    "    print(i,datetime.datetime.now())\n",
    "print(df_output_3_trans.shape)\n"
   ]
  },
  {
   "cell_type": "code",
   "execution_count": 31,
   "metadata": {
    "collapsed": true
   },
   "outputs": [],
   "source": [
    "df_id_shopper_trans_sum=df_output_3_trans.groupby(['registerd_month'])[[x for x in df_output_3_trans.columns.tolist() if x[0]==\"M\"]].sum().reset_index()\n",
    "\n",
    "df_output_3_trans=pd.merge(df_id_count,df_id_shopper_trans_sum,on=\"registerd_month\",how=\"outer\")"
   ]
  },
  {
   "cell_type": "code",
   "execution_count": null,
   "metadata": {
    "collapsed": true
   },
   "outputs": [],
   "source": []
  },
  {
   "cell_type": "code",
   "execution_count": 32,
   "metadata": {
    "collapsed": true
   },
   "outputs": [],
   "source": [
    "writer=pd.ExcelWriter(writer_folder+\"BL_LTV_retention_rate_for_new_sign_ups_JL_\"+str(datetime.datetime.now().date())+\".xlsx\",engine=\"xlsxwriter\")\n",
    "df_output_1_count.to_excel(writer,\"table_1_count\",index=False)\n",
    "df_output_2_sales.to_excel(writer,\"table_2_sales\",index=False)\n",
    "df_output_3_trans.to_excel(writer,\"table_3_trans\",index=False)\n",
    "\n",
    "writer.save()"
   ]
  },
  {
   "cell_type": "markdown",
   "metadata": {
    "collapsed": true
   },
   "source": [
    "# Sales by Division table"
   ]
  },
  {
   "cell_type": "code",
   "execution_count": 33,
   "metadata": {
    "collapsed": true
   },
   "outputs": [],
   "source": [
    "df_shopper_by_day_division['transaction_dt']=pd.to_datetime(df_shopper_by_day_division['transaction_dt'],format=\"%Y-%m-%d\").dt.date\n",
    "df_output_long['sign_up_date']=pd.to_datetime(df_output_long['sign_up_date'],format=\"%Y-%m-%d\").dt.date\n",
    "df_output_long=pd.merge(df_output_long,df_shopper_by_day_division,on=\"customer_id_hashed\",how=\"left\")"
   ]
  },
  {
   "cell_type": "code",
   "execution_count": 34,
   "metadata": {},
   "outputs": [
    {
     "data": {
      "text/html": [
       "<div>\n",
       "<style scoped>\n",
       "    .dataframe tbody tr th:only-of-type {\n",
       "        vertical-align: middle;\n",
       "    }\n",
       "\n",
       "    .dataframe tbody tr th {\n",
       "        vertical-align: top;\n",
       "    }\n",
       "\n",
       "    .dataframe thead th {\n",
       "        text-align: right;\n",
       "    }\n",
       "</style>\n",
       "<table border=\"1\" class=\"dataframe\">\n",
       "  <thead>\n",
       "    <tr style=\"text-align: right;\">\n",
       "      <th></th>\n",
       "      <th>customer_id_hashed</th>\n",
       "      <th>sign_up_date</th>\n",
       "      <th>registerd_month</th>\n",
       "      <th>transaction_dt</th>\n",
       "      <th>division_id</th>\n",
       "      <th>division_desc</th>\n",
       "      <th>sales</th>\n",
       "      <th>subscription</th>\n",
       "      <th>day_diff</th>\n",
       "      <th>month_diff</th>\n",
       "    </tr>\n",
       "  </thead>\n",
       "  <tbody>\n",
       "    <tr>\n",
       "      <th>0</th>\n",
       "      <td>14d2626ab97b1895f5c0955d635f2d859d6b7773d24a18...</td>\n",
       "      <td>2019-11-30</td>\n",
       "      <td>2019-11</td>\n",
       "      <td>2019-11-30</td>\n",
       "      <td>1</td>\n",
       "      <td>FOOD</td>\n",
       "      <td>3.0</td>\n",
       "      <td>Default_Subscribe</td>\n",
       "      <td>0.0</td>\n",
       "      <td>0.0</td>\n",
       "    </tr>\n",
       "    <tr>\n",
       "      <th>1</th>\n",
       "      <td>14d2626ab97b1895f5c0955d635f2d859d6b7773d24a18...</td>\n",
       "      <td>2019-11-30</td>\n",
       "      <td>2019-11</td>\n",
       "      <td>2019-11-30</td>\n",
       "      <td>2</td>\n",
       "      <td>CONSUMABLES</td>\n",
       "      <td>20.6</td>\n",
       "      <td>Default_Subscribe</td>\n",
       "      <td>0.0</td>\n",
       "      <td>0.0</td>\n",
       "    </tr>\n",
       "  </tbody>\n",
       "</table>\n",
       "</div>"
      ],
      "text/plain": [
       "                                  customer_id_hashed sign_up_date  \\\n",
       "0  14d2626ab97b1895f5c0955d635f2d859d6b7773d24a18...   2019-11-30   \n",
       "1  14d2626ab97b1895f5c0955d635f2d859d6b7773d24a18...   2019-11-30   \n",
       "\n",
       "  registerd_month transaction_dt division_id division_desc  sales  \\\n",
       "0         2019-11     2019-11-30           1          FOOD    3.0   \n",
       "1         2019-11     2019-11-30           2   CONSUMABLES   20.6   \n",
       "\n",
       "        subscription  day_diff  month_diff  \n",
       "0  Default_Subscribe       0.0         0.0  \n",
       "1  Default_Subscribe       0.0         0.0  "
      ]
     },
     "execution_count": 34,
     "metadata": {},
     "output_type": "execute_result"
    }
   ],
   "source": [
    "df_output_long['day_diff']=(df_output_long['transaction_dt']-df_output_long['sign_up_date']).dt.days\n",
    "df_output_long['month_diff']=np.floor(df_output_long['day_diff']/30)\n",
    "\n",
    "df_output_long.head(2)"
   ]
  },
  {
   "cell_type": "code",
   "execution_count": 35,
   "metadata": {},
   "outputs": [
    {
     "data": {
      "text/plain": [
       "(55300, 10)"
      ]
     },
     "execution_count": 35,
     "metadata": {},
     "output_type": "execute_result"
    }
   ],
   "source": [
    "df_output_long[df_output_long['month_diff']<0].shape"
   ]
  },
  {
   "cell_type": "code",
   "execution_count": 36,
   "metadata": {},
   "outputs": [
    {
     "data": {
      "text/plain": [
       "(38000471, 10)"
      ]
     },
     "execution_count": 36,
     "metadata": {},
     "output_type": "execute_result"
    }
   ],
   "source": [
    "df_output_long.shape"
   ]
  },
  {
   "cell_type": "code",
   "execution_count": 37,
   "metadata": {},
   "outputs": [
    {
     "data": {
      "text/plain": [
       "22253"
      ]
     },
     "execution_count": 37,
     "metadata": {},
     "output_type": "execute_result"
    }
   ],
   "source": [
    "df_output_long[df_output_long['month_diff']<0]['customer_id_hashed'].nunique()"
   ]
  },
  {
   "cell_type": "code",
   "execution_count": 38,
   "metadata": {},
   "outputs": [
    {
     "data": {
      "text/plain": [
       "8763575"
      ]
     },
     "execution_count": 38,
     "metadata": {},
     "output_type": "execute_result"
    }
   ],
   "source": [
    "df_output_long['customer_id_hashed'].nunique()"
   ]
  },
  {
   "cell_type": "code",
   "execution_count": 39,
   "metadata": {
    "collapsed": true
   },
   "outputs": [],
   "source": [
    "df_output_long['month_diff_str']=df_output_long['month_diff'].apply(lambda x: \"M_\"+str(x).split(\".\")[0].zfill(2))"
   ]
  },
  {
   "cell_type": "code",
   "execution_count": 40,
   "metadata": {
    "collapsed": true
   },
   "outputs": [],
   "source": [
    "df_output_pivot_0=df_output_long.groupby(['registerd_month','division_id','division_desc','month_diff_str'])['sales'].sum().to_frame().reset_index()\n",
    "df_output_pivot_0=df_output_pivot_0.pivot_table(index=['registerd_month','division_id','division_desc'],columns=\"month_diff_str\",values=\"sales\").reset_index()"
   ]
  },
  {
   "cell_type": "code",
   "execution_count": 41,
   "metadata": {
    "collapsed": true
   },
   "outputs": [],
   "source": [
    "df_output_pivot_0['division_id']=df_output_pivot_0['division_id'].astype(int)\n",
    "df_output_pivot_0=df_output_pivot_0.sort_values([\"registerd_month\",'division_id'])"
   ]
  },
  {
   "cell_type": "code",
   "execution_count": 42,
   "metadata": {
    "collapsed": true
   },
   "outputs": [],
   "source": [
    "df_output_pivot_1=df_output_pivot_0[[x for x  in df_output_pivot_0.columns.tolist() if \"-\" not in x]]\n",
    "df_output_pivot_2=df_output_pivot_1[df_output_pivot_1['division_desc']!=\"DIVISION 8 (EMP DISCOUNT)\"]\n",
    "df_output_pivot_2=df_output_pivot_2[df_output_pivot_2['division_desc']!=\"DIVISION 10\"]\n"
   ]
  },
  {
   "cell_type": "code",
   "execution_count": 43,
   "metadata": {
    "collapsed": true
   },
   "outputs": [],
   "source": [
    "writer=pd.ExcelWriter(writer_folder+\"BL_LTV_by_division_rolling_months_JL_\"+str(datetime.datetime.now().date())+\".xlsx\",engine=\"xlsxwriter\")\n",
    "df_output_pivot_2.to_excel(writer,\"table_final\",index=False)\n",
    "df_output_pivot_1.to_excel(writer,\"table_exclude_outlier\",index=False)\n",
    "df_output_pivot_0.to_excel(writer,\"table_original\",index=False)\n",
    "writer.save()"
   ]
  },
  {
   "cell_type": "markdown",
   "metadata": {},
   "source": [
    "# By email subscription"
   ]
  },
  {
   "cell_type": "code",
   "execution_count": 44,
   "metadata": {},
   "outputs": [
    {
     "name": "stdout",
     "output_type": "stream",
     "text": [
      "(12142496, 3)\n",
      "(8763575, 3)\n",
      "(8763575, 3)\n"
     ]
    },
    {
     "data": {
      "text/html": [
       "<div>\n",
       "<style scoped>\n",
       "    .dataframe tbody tr th:only-of-type {\n",
       "        vertical-align: middle;\n",
       "    }\n",
       "\n",
       "    .dataframe tbody tr th {\n",
       "        vertical-align: top;\n",
       "    }\n",
       "\n",
       "    .dataframe thead th {\n",
       "        text-align: right;\n",
       "    }\n",
       "</style>\n",
       "<table border=\"1\" class=\"dataframe\">\n",
       "  <thead>\n",
       "    <tr style=\"text-align: right;\">\n",
       "      <th></th>\n",
       "      <th>customer_id_hashed</th>\n",
       "      <th>sign_up_date</th>\n",
       "      <th>registerd_month</th>\n",
       "    </tr>\n",
       "  </thead>\n",
       "  <tbody>\n",
       "    <tr>\n",
       "      <th>201365</th>\n",
       "      <td>14d2626ab97b1895f5c0955d635f2d859d6b7773d24a18...</td>\n",
       "      <td>2019-11-30</td>\n",
       "      <td>2019-11</td>\n",
       "    </tr>\n",
       "    <tr>\n",
       "      <th>1264</th>\n",
       "      <td>0d486acc9776c5daad35c2bde37be6d25e59ae04681585...</td>\n",
       "      <td>2019-11-30</td>\n",
       "      <td>2019-11</td>\n",
       "    </tr>\n",
       "    <tr>\n",
       "      <th>1267</th>\n",
       "      <td>ac101138924bb47feb91fb5ce10178c509ac5830bc9a87...</td>\n",
       "      <td>2019-11-30</td>\n",
       "      <td>2019-11</td>\n",
       "    </tr>\n",
       "  </tbody>\n",
       "</table>\n",
       "</div>"
      ],
      "text/plain": [
       "                                       customer_id_hashed sign_up_date  \\\n",
       "201365  14d2626ab97b1895f5c0955d635f2d859d6b7773d24a18...   2019-11-30   \n",
       "1264    0d486acc9776c5daad35c2bde37be6d25e59ae04681585...   2019-11-30   \n",
       "1267    ac101138924bb47feb91fb5ce10178c509ac5830bc9a87...   2019-11-30   \n",
       "\n",
       "       registerd_month  \n",
       "201365         2019-11  \n",
       "1264           2019-11  \n",
       "1267           2019-11  "
      ]
     },
     "execution_count": 44,
     "metadata": {},
     "output_type": "execute_result"
    }
   ],
   "source": [
    "df_new_signs_since_Sep18=pd.DataFrame()\n",
    "\n",
    "for file in list_weekly_signs_files:\n",
    "    df=pd.read_table(file,dtype=str,sep=\"|\",usecols=['customer_id_hashed','email_address_hash','sign_up_date'])\n",
    "    df=df[df['sign_up_date']>=track_start_date]\n",
    "    df_new_signs_since_Sep18=df_new_signs_since_Sep18.append(df)\n",
    "    \n",
    "dfdetail_1=pd.read_table(\"/home/jian/BigLots/New_Sing_Ups_2018_Fiscal_Year/All Rewards Members 2018-02-04 - 2019-05-04.zip\",\n",
    "                         dtype=str,sep=\"|\",usecols=['customer_id_hashed','email_address_hash','sign_up_date'])\n",
    "dfdetail_2=pd.read_table(\"/home/jian/BigLots/New_Sing_Ups_2018_Fiscal_Year/MediaStorm Rewards Master P4 2019 - no transaction info.zip\",\n",
    "                         dtype=str,sep=\"|\",usecols=['customer_id_hashed','email_address_hash','sign_up_date'])\n",
    "\n",
    "dfdetail_1=dfdetail_1[dfdetail_1['sign_up_date']>=track_start_date]\n",
    "dfdetail_2=dfdetail_2[dfdetail_2['sign_up_date']>=track_start_date]\n",
    "\n",
    "df_new_signs_since_Sep18=df_new_signs_since_Sep18.append(dfdetail_1).append(dfdetail_2)\n",
    "\n",
    "del dfdetail_1\n",
    "del dfdetail_2\n",
    "\n",
    "gc.collect()\n",
    "\n",
    "print(df_new_signs_since_Sep18.shape)\n",
    "df_new_signs_since_Sep18=df_new_signs_since_Sep18.sort_values(\"sign_up_date\",ascending=False).drop_duplicates(\"customer_id_hashed\")\n",
    "print(df_new_signs_since_Sep18.shape)\n",
    "\n",
    "month_date_count=df_new_signs_since_Sep18[['sign_up_date']].drop_duplicates()\n",
    "month_date_count['registerd_month']=month_date_count['sign_up_date'].apply(lambda x: x[:7])\n",
    "month_date_count=month_date_count.groupby(\"registerd_month\")['sign_up_date'].nunique().to_frame().reset_index()\n",
    "\n",
    "df_output_long=df_new_signs_since_Sep18[['customer_id_hashed','sign_up_date']]\n",
    "df_output_long['registerd_month']=df_output_long['sign_up_date'].apply(lambda x: x[:7])\n",
    "del df_new_signs_since_Sep18\n",
    "\n",
    "list_ids_new_signs_since_Sep18=df_output_long['customer_id_hashed'].tolist()\n",
    "gc.collect()\n",
    "\n",
    "print(df_output_long.shape)\n",
    "df_output_long.head(3)"
   ]
  },
  {
   "cell_type": "code",
   "execution_count": 45,
   "metadata": {
    "collapsed": true
   },
   "outputs": [],
   "source": [
    "df_output_long=pd.merge(df_output_long,ids_unscribed,on=\"customer_id_hashed\",how=\"left\")\n",
    "df_output_long['subscription']=df_output_long['subscription'].fillna(\"Default_Subscribe\")"
   ]
  },
  {
   "cell_type": "code",
   "execution_count": 46,
   "metadata": {},
   "outputs": [
    {
     "data": {
      "text/html": [
       "<div>\n",
       "<style scoped>\n",
       "    .dataframe tbody tr th:only-of-type {\n",
       "        vertical-align: middle;\n",
       "    }\n",
       "\n",
       "    .dataframe tbody tr th {\n",
       "        vertical-align: top;\n",
       "    }\n",
       "\n",
       "    .dataframe thead th {\n",
       "        text-align: right;\n",
       "    }\n",
       "</style>\n",
       "<table border=\"1\" class=\"dataframe\">\n",
       "  <thead>\n",
       "    <tr style=\"text-align: right;\">\n",
       "      <th></th>\n",
       "      <th>customer_id_hashed</th>\n",
       "      <th>sign_up_date</th>\n",
       "      <th>registerd_month</th>\n",
       "      <th>subscription</th>\n",
       "    </tr>\n",
       "  </thead>\n",
       "  <tbody>\n",
       "    <tr>\n",
       "      <th>0</th>\n",
       "      <td>14d2626ab97b1895f5c0955d635f2d859d6b7773d24a18...</td>\n",
       "      <td>2019-11-30</td>\n",
       "      <td>2019-11</td>\n",
       "      <td>Default_Subscribe</td>\n",
       "    </tr>\n",
       "    <tr>\n",
       "      <th>1</th>\n",
       "      <td>0d486acc9776c5daad35c2bde37be6d25e59ae04681585...</td>\n",
       "      <td>2019-11-30</td>\n",
       "      <td>2019-11</td>\n",
       "      <td>Default_Subscribe</td>\n",
       "    </tr>\n",
       "  </tbody>\n",
       "</table>\n",
       "</div>"
      ],
      "text/plain": [
       "                                  customer_id_hashed sign_up_date  \\\n",
       "0  14d2626ab97b1895f5c0955d635f2d859d6b7773d24a18...   2019-11-30   \n",
       "1  0d486acc9776c5daad35c2bde37be6d25e59ae04681585...   2019-11-30   \n",
       "\n",
       "  registerd_month       subscription  \n",
       "0         2019-11  Default_Subscribe  \n",
       "1         2019-11  Default_Subscribe  "
      ]
     },
     "execution_count": 46,
     "metadata": {},
     "output_type": "execute_result"
    }
   ],
   "source": [
    "# 1 id_count\n",
    "df_output_long.head(2)"
   ]
  },
  {
   "cell_type": "code",
   "execution_count": 47,
   "metadata": {},
   "outputs": [
    {
     "name": "stdout",
     "output_type": "stream",
     "text": [
      "0 2019-12-05 14:30:40.909538\n",
      "1 2019-12-05 14:32:01.320264\n",
      "2 2019-12-05 14:33:16.865205\n",
      "3 2019-12-05 14:34:36.977049\n",
      "4 2019-12-05 14:35:54.299777\n",
      "5 2019-12-05 14:37:17.598116\n",
      "6 2019-12-05 14:38:36.875505\n",
      "7 2019-12-05 14:40:04.622098\n",
      "8 2019-12-05 14:41:25.901255\n",
      "9 2019-12-05 14:42:55.520861\n",
      "10 2019-12-05 14:44:25.798839\n",
      "11 2019-12-05 14:45:59.411694\n",
      "12 2019-12-05 14:47:33.737893\n",
      "13 2019-12-05 14:49:01.989960\n",
      "14 2019-12-05 14:50:30.035510\n",
      "15 2019-12-05 14:52:09.247734\n",
      "16 2019-12-05 14:53:41.791134\n",
      "17 2019-12-05 14:55:23.399053\n",
      "18 2019-12-05 14:57:05.952893\n",
      "(8763575, 23)\n"
     ]
    }
   ],
   "source": [
    "df_output_1_count_subscription=df_output_long.copy()\n",
    "for i in range(19):\n",
    "    df_output_1_count_subscription[\"M\"+str(i)]=df_output_1_count_subscription['registerd_month'].apply(lambda x: month_add_interval(x,i))\n",
    "    df_output_1_count_subscription=pd.merge(df_output_1_count_subscription,df_shopper_by_month[['customer_id_hashed','shop_month','shopping_behavior']],\n",
    "                            left_on=['customer_id_hashed',\"M\"+str(i)],\n",
    "                            right_on=['customer_id_hashed',\"shop_month\"],how=\"left\")\n",
    "    del df_output_1_count_subscription['shop_month']\n",
    "    del df_output_1_count_subscription[\"M\"+str(i)]\n",
    "    df_output_1_count_subscription['shopping_behavior']=df_output_1_count_subscription['shopping_behavior'].fillna(0)\n",
    "    df_output_1_count_subscription=df_output_1_count_subscription.rename(columns={\"shopping_behavior\":\"M\"+str(i)})\n",
    "    print(i,datetime.datetime.now())\n",
    "    \n",
    "print(df_output_1_count_subscription.shape)"
   ]
  },
  {
   "cell_type": "code",
   "execution_count": 48,
   "metadata": {},
   "outputs": [
    {
     "data": {
      "text/html": [
       "<div>\n",
       "<style scoped>\n",
       "    .dataframe tbody tr th:only-of-type {\n",
       "        vertical-align: middle;\n",
       "    }\n",
       "\n",
       "    .dataframe tbody tr th {\n",
       "        vertical-align: top;\n",
       "    }\n",
       "\n",
       "    .dataframe thead th {\n",
       "        text-align: right;\n",
       "    }\n",
       "</style>\n",
       "<table border=\"1\" class=\"dataframe\">\n",
       "  <thead>\n",
       "    <tr style=\"text-align: right;\">\n",
       "      <th></th>\n",
       "      <th>customer_id_hashed</th>\n",
       "      <th>sign_up_date</th>\n",
       "      <th>registerd_month</th>\n",
       "      <th>subscription</th>\n",
       "      <th>M0</th>\n",
       "      <th>M1</th>\n",
       "      <th>M2</th>\n",
       "      <th>M3</th>\n",
       "      <th>M4</th>\n",
       "      <th>M5</th>\n",
       "      <th>...</th>\n",
       "      <th>M9</th>\n",
       "      <th>M10</th>\n",
       "      <th>M11</th>\n",
       "      <th>M12</th>\n",
       "      <th>M13</th>\n",
       "      <th>M14</th>\n",
       "      <th>M15</th>\n",
       "      <th>M16</th>\n",
       "      <th>M17</th>\n",
       "      <th>M18</th>\n",
       "    </tr>\n",
       "  </thead>\n",
       "  <tbody>\n",
       "    <tr>\n",
       "      <th>0</th>\n",
       "      <td>14d2626ab97b1895f5c0955d635f2d859d6b7773d24a18...</td>\n",
       "      <td>2019-11-30</td>\n",
       "      <td>2019-11</td>\n",
       "      <td>Default_Subscribe</td>\n",
       "      <td>1.0</td>\n",
       "      <td>0.0</td>\n",
       "      <td>0.0</td>\n",
       "      <td>0.0</td>\n",
       "      <td>0.0</td>\n",
       "      <td>0.0</td>\n",
       "      <td>...</td>\n",
       "      <td>0.0</td>\n",
       "      <td>0.0</td>\n",
       "      <td>0.0</td>\n",
       "      <td>0.0</td>\n",
       "      <td>0.0</td>\n",
       "      <td>0.0</td>\n",
       "      <td>0.0</td>\n",
       "      <td>0.0</td>\n",
       "      <td>0.0</td>\n",
       "      <td>0.0</td>\n",
       "    </tr>\n",
       "    <tr>\n",
       "      <th>1</th>\n",
       "      <td>0d486acc9776c5daad35c2bde37be6d25e59ae04681585...</td>\n",
       "      <td>2019-11-30</td>\n",
       "      <td>2019-11</td>\n",
       "      <td>Default_Subscribe</td>\n",
       "      <td>1.0</td>\n",
       "      <td>0.0</td>\n",
       "      <td>0.0</td>\n",
       "      <td>0.0</td>\n",
       "      <td>0.0</td>\n",
       "      <td>0.0</td>\n",
       "      <td>...</td>\n",
       "      <td>0.0</td>\n",
       "      <td>0.0</td>\n",
       "      <td>0.0</td>\n",
       "      <td>0.0</td>\n",
       "      <td>0.0</td>\n",
       "      <td>0.0</td>\n",
       "      <td>0.0</td>\n",
       "      <td>0.0</td>\n",
       "      <td>0.0</td>\n",
       "      <td>0.0</td>\n",
       "    </tr>\n",
       "    <tr>\n",
       "      <th>2</th>\n",
       "      <td>ac101138924bb47feb91fb5ce10178c509ac5830bc9a87...</td>\n",
       "      <td>2019-11-30</td>\n",
       "      <td>2019-11</td>\n",
       "      <td>Default_Subscribe</td>\n",
       "      <td>0.0</td>\n",
       "      <td>0.0</td>\n",
       "      <td>0.0</td>\n",
       "      <td>0.0</td>\n",
       "      <td>0.0</td>\n",
       "      <td>0.0</td>\n",
       "      <td>...</td>\n",
       "      <td>0.0</td>\n",
       "      <td>0.0</td>\n",
       "      <td>0.0</td>\n",
       "      <td>0.0</td>\n",
       "      <td>0.0</td>\n",
       "      <td>0.0</td>\n",
       "      <td>0.0</td>\n",
       "      <td>0.0</td>\n",
       "      <td>0.0</td>\n",
       "      <td>0.0</td>\n",
       "    </tr>\n",
       "    <tr>\n",
       "      <th>3</th>\n",
       "      <td>119998cf5aefdf2f58451ed1360b37b23043556f00a7d0...</td>\n",
       "      <td>2019-11-30</td>\n",
       "      <td>2019-11</td>\n",
       "      <td>Default_Subscribe</td>\n",
       "      <td>1.0</td>\n",
       "      <td>0.0</td>\n",
       "      <td>0.0</td>\n",
       "      <td>0.0</td>\n",
       "      <td>0.0</td>\n",
       "      <td>0.0</td>\n",
       "      <td>...</td>\n",
       "      <td>0.0</td>\n",
       "      <td>0.0</td>\n",
       "      <td>0.0</td>\n",
       "      <td>0.0</td>\n",
       "      <td>0.0</td>\n",
       "      <td>0.0</td>\n",
       "      <td>0.0</td>\n",
       "      <td>0.0</td>\n",
       "      <td>0.0</td>\n",
       "      <td>0.0</td>\n",
       "    </tr>\n",
       "    <tr>\n",
       "      <th>4</th>\n",
       "      <td>be9eae9bb8c41b04912a6bf94f0331455b2830fe356d80...</td>\n",
       "      <td>2019-11-30</td>\n",
       "      <td>2019-11</td>\n",
       "      <td>Default_Subscribe</td>\n",
       "      <td>1.0</td>\n",
       "      <td>0.0</td>\n",
       "      <td>0.0</td>\n",
       "      <td>0.0</td>\n",
       "      <td>0.0</td>\n",
       "      <td>0.0</td>\n",
       "      <td>...</td>\n",
       "      <td>0.0</td>\n",
       "      <td>0.0</td>\n",
       "      <td>0.0</td>\n",
       "      <td>0.0</td>\n",
       "      <td>0.0</td>\n",
       "      <td>0.0</td>\n",
       "      <td>0.0</td>\n",
       "      <td>0.0</td>\n",
       "      <td>0.0</td>\n",
       "      <td>0.0</td>\n",
       "    </tr>\n",
       "  </tbody>\n",
       "</table>\n",
       "<p>5 rows × 23 columns</p>\n",
       "</div>"
      ],
      "text/plain": [
       "                                  customer_id_hashed sign_up_date  \\\n",
       "0  14d2626ab97b1895f5c0955d635f2d859d6b7773d24a18...   2019-11-30   \n",
       "1  0d486acc9776c5daad35c2bde37be6d25e59ae04681585...   2019-11-30   \n",
       "2  ac101138924bb47feb91fb5ce10178c509ac5830bc9a87...   2019-11-30   \n",
       "3  119998cf5aefdf2f58451ed1360b37b23043556f00a7d0...   2019-11-30   \n",
       "4  be9eae9bb8c41b04912a6bf94f0331455b2830fe356d80...   2019-11-30   \n",
       "\n",
       "  registerd_month       subscription   M0   M1   M2   M3   M4   M5  ...   M9  \\\n",
       "0         2019-11  Default_Subscribe  1.0  0.0  0.0  0.0  0.0  0.0  ...  0.0   \n",
       "1         2019-11  Default_Subscribe  1.0  0.0  0.0  0.0  0.0  0.0  ...  0.0   \n",
       "2         2019-11  Default_Subscribe  0.0  0.0  0.0  0.0  0.0  0.0  ...  0.0   \n",
       "3         2019-11  Default_Subscribe  1.0  0.0  0.0  0.0  0.0  0.0  ...  0.0   \n",
       "4         2019-11  Default_Subscribe  1.0  0.0  0.0  0.0  0.0  0.0  ...  0.0   \n",
       "\n",
       "   M10  M11  M12  M13  M14  M15  M16  M17  M18  \n",
       "0  0.0  0.0  0.0  0.0  0.0  0.0  0.0  0.0  0.0  \n",
       "1  0.0  0.0  0.0  0.0  0.0  0.0  0.0  0.0  0.0  \n",
       "2  0.0  0.0  0.0  0.0  0.0  0.0  0.0  0.0  0.0  \n",
       "3  0.0  0.0  0.0  0.0  0.0  0.0  0.0  0.0  0.0  \n",
       "4  0.0  0.0  0.0  0.0  0.0  0.0  0.0  0.0  0.0  \n",
       "\n",
       "[5 rows x 23 columns]"
      ]
     },
     "execution_count": 48,
     "metadata": {},
     "output_type": "execute_result"
    }
   ],
   "source": [
    "df_output_1_count_subscription.head(5)"
   ]
  },
  {
   "cell_type": "code",
   "execution_count": 49,
   "metadata": {
    "collapsed": true
   },
   "outputs": [],
   "source": [
    "df_id_count_subscription=df_output_1_count_subscription.groupby([\"registerd_month\",\"subscription\"])['customer_id_hashed'].count().to_frame().reset_index().rename(columns={\"customer_id_hashed\":\"id_new_signed_count\"})\n",
    "df_id_shopper_count_sum_subscription=df_output_1_count_subscription.groupby([\"registerd_month\",\"subscription\"])[[x for x in df_output_1_count_subscription.columns.tolist() if x[0]==\"M\"]].sum().reset_index()\n",
    "\n",
    "df_output_1_count_subscription=pd.merge(df_id_count_subscription,df_id_shopper_count_sum_subscription,on=[\"registerd_month\",\"subscription\"],how=\"outer\")"
   ]
  },
  {
   "cell_type": "code",
   "execution_count": 50,
   "metadata": {},
   "outputs": [
    {
     "name": "stdout",
     "output_type": "stream",
     "text": [
      "0 2019-12-05 14:58:33.123300\n",
      "1 2019-12-05 14:59:48.790536\n",
      "2 2019-12-05 15:01:03.622551\n",
      "3 2019-12-05 15:02:25.518835\n",
      "4 2019-12-05 15:03:49.627905\n",
      "5 2019-12-05 15:05:14.275015\n",
      "6 2019-12-05 15:06:42.446764\n",
      "7 2019-12-05 15:08:10.352194\n",
      "8 2019-12-05 15:09:31.154437\n",
      "9 2019-12-05 15:10:51.609507\n",
      "10 2019-12-05 15:12:23.299604\n",
      "11 2019-12-05 15:13:58.020668\n",
      "12 2019-12-05 15:15:33.025455\n",
      "13 2019-12-05 15:17:09.003827\n",
      "14 2019-12-05 15:18:38.227332\n",
      "15 2019-12-05 15:20:13.170661\n",
      "16 2019-12-05 15:21:49.677236\n",
      "17 2019-12-05 15:23:30.880611\n",
      "18 2019-12-05 15:25:14.505610\n",
      "(8763575, 23)\n"
     ]
    }
   ],
   "source": [
    "# 2\n",
    "\n",
    "df_output_2_sales_subscription=df_output_long.copy()\n",
    "for i in range(19):\n",
    "    df_output_2_sales_subscription[\"M\"+str(i)]=df_output_2_sales_subscription['registerd_month'].apply(lambda x: month_add_interval(x,i))\n",
    "    df_output_2_sales_subscription=pd.merge(df_output_2_sales_subscription,df_shopper_by_month[['customer_id_hashed','shop_month','sales']],\n",
    "                            left_on=['customer_id_hashed',\"M\"+str(i)],\n",
    "                            right_on=['customer_id_hashed',\"shop_month\"],how=\"left\")\n",
    "    del df_output_2_sales_subscription['shop_month']\n",
    "    del df_output_2_sales_subscription[\"M\"+str(i)]\n",
    "    df_output_2_sales_subscription['sales']=df_output_2_sales_subscription['sales'].fillna(0)\n",
    "    df_output_2_sales_subscription=df_output_2_sales_subscription.rename(columns={\"sales\":\"M\"+str(i)})\n",
    "    print(i,datetime.datetime.now())\n",
    "print(df_output_2_sales_subscription.shape)\n"
   ]
  },
  {
   "cell_type": "code",
   "execution_count": 51,
   "metadata": {
    "collapsed": true
   },
   "outputs": [],
   "source": [
    "df_id_shopper_sales_sum_subscription=df_output_2_sales_subscription.groupby(['registerd_month','subscription'])[[x for x in df_output_2_sales_subscription.columns.tolist() if x[0]==\"M\"]].sum().reset_index()\n",
    "\n",
    "df_output_2_sales_subscription=pd.merge(df_id_count_subscription,df_id_shopper_sales_sum_subscription,on=[\"registerd_month\",\"subscription\"],how=\"outer\")\n"
   ]
  },
  {
   "cell_type": "code",
   "execution_count": 52,
   "metadata": {},
   "outputs": [
    {
     "name": "stdout",
     "output_type": "stream",
     "text": [
      "0 2019-12-05 15:26:44.342166\n",
      "1 2019-12-05 15:28:04.856249\n",
      "2 2019-12-05 15:29:21.785951\n",
      "3 2019-12-05 15:30:38.313376\n",
      "4 2019-12-05 15:32:00.753980\n",
      "5 2019-12-05 15:33:27.004347\n",
      "6 2019-12-05 15:34:55.776728\n",
      "7 2019-12-05 15:36:26.188997\n",
      "8 2019-12-05 15:37:57.082904\n",
      "9 2019-12-05 15:39:20.577829\n",
      "10 2019-12-05 15:40:44.587571\n",
      "11 2019-12-05 15:42:11.451906\n",
      "12 2019-12-05 15:43:47.705670\n",
      "13 2019-12-05 15:45:24.363014\n",
      "14 2019-12-05 15:47:00.701967\n",
      "15 2019-12-05 15:48:32.976055\n",
      "16 2019-12-05 15:50:05.052723\n",
      "17 2019-12-05 15:51:40.840759\n",
      "18 2019-12-05 15:53:29.230388\n",
      "(8763575, 23)\n"
     ]
    }
   ],
   "source": [
    "# 3\n",
    "\n",
    "df_output_3_trans_subscription=df_output_long.copy()\n",
    "for i in range(19):\n",
    "    df_output_3_trans_subscription[\"M\"+str(i)]=df_output_3_trans_subscription['registerd_month'].apply(lambda x: month_add_interval(x,i))\n",
    "    df_output_3_trans_subscription=pd.merge(df_output_3_trans_subscription,df_shopper_by_month[['customer_id_hashed','shop_month','trans']],\n",
    "                            left_on=['customer_id_hashed',\"M\"+str(i)],\n",
    "                            right_on=['customer_id_hashed',\"shop_month\"],how=\"left\")\n",
    "    del df_output_3_trans_subscription['shop_month']\n",
    "    del df_output_3_trans_subscription[\"M\"+str(i)]\n",
    "    df_output_3_trans_subscription['trans']=df_output_3_trans_subscription['trans'].fillna(0)\n",
    "    df_output_3_trans_subscription=df_output_3_trans_subscription.rename(columns={\"trans\":\"M\"+str(i)})\n",
    "    print(i,datetime.datetime.now())\n",
    "print(df_output_3_trans_subscription.shape)\n"
   ]
  },
  {
   "cell_type": "code",
   "execution_count": 53,
   "metadata": {
    "collapsed": true
   },
   "outputs": [],
   "source": [
    "df_id_shopper_trans_sum_subscription=df_output_3_trans_subscription.groupby(['registerd_month','subscription'])[[x for x in df_output_3_trans_subscription.columns.tolist() if x[0]==\"M\"]].sum().reset_index()\n",
    "\n",
    "df_output_3_trans_subscription=pd.merge(df_id_count_subscription,df_id_shopper_trans_sum_subscription,on=[\"registerd_month\",'subscription'],how=\"outer\")"
   ]
  },
  {
   "cell_type": "code",
   "execution_count": 54,
   "metadata": {
    "collapsed": true
   },
   "outputs": [],
   "source": [
    "writer=pd.ExcelWriter(writer_folder+\"BL_LTV_retention_rate_for_new_sign_ups_subscribetion_label_JL_\"+str(datetime.datetime.now().date())+\".xlsx\",engine=\"xlsxwriter\")\n",
    "df_output_1_count_subscription.to_excel(writer,\"table_1_count\",index=False)\n",
    "df_output_2_sales_subscription.to_excel(writer,\"table_2_sales\",index=False)\n",
    "df_output_3_trans_subscription.to_excel(writer,\"table_3_trans\",index=False)\n",
    "\n",
    "writer.save()"
   ]
  },
  {
   "cell_type": "code",
   "execution_count": null,
   "metadata": {
    "collapsed": true
   },
   "outputs": [],
   "source": []
  }
 ],
 "metadata": {
  "kernelspec": {
   "display_name": "Python 3",
   "language": "python",
   "name": "python3"
  },
  "language_info": {
   "codemirror_mode": {
    "name": "ipython",
    "version": 3
   },
   "file_extension": ".py",
   "mimetype": "text/x-python",
   "name": "python",
   "nbconvert_exporter": "python",
   "pygments_lexer": "ipython3",
   "version": "3.6.1"
  }
 },
 "nbformat": 4,
 "nbformat_minor": 2
}
