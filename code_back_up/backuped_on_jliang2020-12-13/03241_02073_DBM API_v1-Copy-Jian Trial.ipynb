{
 "cells": [
  {
   "cell_type": "code",
   "execution_count": 19,
   "metadata": {},
   "outputs": [],
   "source": [
    "from apiclient.discovery import build\n",
    "from oauth2client.service_account import ServiceAccountCredentials\n",
    "import datetime\n",
    "\n",
    "KEY_FILE_LOCATION = '/home/jian/LIFT/DBM/Key_files/dbm_api_jubapluscc@gmail.com.json'\n",
    "SCOPES = ['https://www.googleapis.com/auth/doubleclickbidmanager']\n",
    "\n",
    "credentials = ServiceAccountCredentials.from_json_keyfile_name(\n",
    "    KEY_FILE_LOCATION, scopes=SCOPES)\n",
    "\n",
    "# Build the service object.\n",
    "service = build('doubleclickbidmanager', 'v1', credentials=credentials)"
   ]
  },
  {
   "cell_type": "markdown",
   "metadata": {},
   "source": [
    "# create query, only need to run once"
   ]
  },
  {
   "cell_type": "code",
   "execution_count": 20,
   "metadata": {
    "collapsed": true
   },
   "outputs": [],
   "source": [
    "query_resourse = {\n",
    "    'kind': 'doubleclickbidmanager#query',\n",
    "    'metadata': {\n",
    "        'dataRange': 'CUSTOM_DATES',\n",
    "        'format': 'CSV',\n",
    "        'title': 'JUBA_day'\n",
    "    },\n",
    "    'params': {\n",
    "        'filters': [\n",
    "            {'type': 'FILTER_ADVERTISER', 'value': '1958747'},\n",
    "            {'type': 'FILTER_LINE_ITEM', 'value': '13906955'},\n",
    "            {'type': 'FILTER_LINE_ITEM', 'value': '13857627'},\n",
    "            {'type': 'FILTER_LINE_ITEM', 'value': '13857390'},\n",
    "            {'type': 'FILTER_LINE_ITEM', 'value': '13857628'},\n",
    "        ],\n",
    "        'groupBys': [\n",
    "            'FILTER_ADVERTISER',\n",
    "            'FILTER_LINE_ITEM',\n",
    "            'FILTER_ACTIVITY_ID',\n",
    "            'FILTER_DAY_OF_WEEK'\n",
    "        ],\n",
    "        'includeInviteData': False,\n",
    "        'metrics': [\n",
    "            'METRIC_IMPRESSIONS',\n",
    "            'METRIC_CLICKS',\n",
    "            'METRIC_TOTAL_CONVERSIONS',\n",
    "            'METRIC_REVENUE_ADVERTISER',\n",
    "            'METRIC_MEDIA_COST_ADVERTISER',\n",
    "            'METRIC_CTR'\n",
    "        ],\n",
    "        'type': 'TYPE_GENERAL'\n",
    "    },\n",
    "    'reportDataEndTimeMs': '1508025600000',\n",
    "    'reportDataStartTimeMs': '1506297600000',\n",
    "    'schedule': {\n",
    "        'endTimeMs': '0',\n",
    "        'frequency': 'ONE_TIME',\n",
    "        'nextRunTimezoneCode': 'America/New_York'\n",
    "    }\n",
    "}"
   ]
  },
  {
   "cell_type": "code",
   "execution_count": 21,
   "metadata": {},
   "outputs": [
    {
     "data": {
      "text/plain": [
       "{'kind': 'doubleclickbidmanager#query',\n",
       " 'metadata': {'dataRange': 'CUSTOM_DATES',\n",
       "  'format': 'CSV',\n",
       "  'googleCloudStoragePathForLatestReport': '',\n",
       "  'googleDrivePathForLatestReport': '',\n",
       "  'latestReportRunTimeMs': '0',\n",
       "  'reportCount': 0,\n",
       "  'running': False,\n",
       "  'sendNotification': False,\n",
       "  'title': 'JUBA_day'},\n",
       " 'params': {'filters': [{'type': 'FILTER_ADVERTISER', 'value': '1958747'},\n",
       "   {'type': 'FILTER_LINE_ITEM', 'value': '13906955'},\n",
       "   {'type': 'FILTER_LINE_ITEM', 'value': '13857627'},\n",
       "   {'type': 'FILTER_LINE_ITEM', 'value': '13857390'},\n",
       "   {'type': 'FILTER_LINE_ITEM', 'value': '13857628'},\n",
       "   {'type': 'FILTER_PARTNER', 'value': '0'}],\n",
       "  'groupBys': ['FILTER_ADVERTISER',\n",
       "   'FILTER_LINE_ITEM',\n",
       "   'FILTER_ACTIVITY_ID',\n",
       "   'FILTER_DAY_OF_WEEK'],\n",
       "  'includeInviteData': False,\n",
       "  'metrics': ['METRIC_IMPRESSIONS',\n",
       "   'METRIC_CLICKS',\n",
       "   'METRIC_TOTAL_CONVERSIONS',\n",
       "   'METRIC_REVENUE_ADVERTISER',\n",
       "   'METRIC_MEDIA_COST_ADVERTISER',\n",
       "   'METRIC_CTR'],\n",
       "  'type': 'TYPE_GENERAL'},\n",
       " 'queryId': '1510181491452',\n",
       " 'reportDataEndTimeMs': '1508025600000',\n",
       " 'reportDataStartTimeMs': '1506297600000',\n",
       " 'schedule': {'endTimeMs': '0',\n",
       "  'frequency': 'ONE_TIME',\n",
       "  'nextRunMinuteOfDay': 1071,\n",
       "  'nextRunTimezoneCode': 'America/New_York'},\n",
       " 'timezoneCode': 'America/New_York'}"
      ]
     },
     "execution_count": 21,
     "metadata": {},
     "output_type": "execute_result"
    }
   ],
   "source": [
    "service.queries().createquery(body=query_resourse).execute()"
   ]
  },
  {
   "cell_type": "markdown",
   "metadata": {},
   "source": [
    "# list all queries created above"
   ]
  },
  {
   "cell_type": "code",
   "execution_count": 22,
   "metadata": {
    "collapsed": true
   },
   "outputs": [],
   "source": [
    "def list_queries():\n",
    "    '''\n",
    "    return:\n",
    "        list of query_id\n",
    "    '''\n",
    "    queries = service.queries().listqueries().execute()\n",
    "    return [x['queryId'] for x in queries['queries']]"
   ]
  },
  {
   "cell_type": "code",
   "execution_count": 23,
   "metadata": {
    "collapsed": true
   },
   "outputs": [],
   "source": [
    "query_ids = list_queries()"
   ]
  },
  {
   "cell_type": "code",
   "execution_count": 24,
   "metadata": {},
   "outputs": [
    {
     "data": {
      "text/plain": [
       "['1510090985328',\n",
       " '1510094521954',\n",
       " '1510094797145',\n",
       " '1510154299818',\n",
       " '1510154794561',\n",
       " '1510174501175',\n",
       " '1510181195488',\n",
       " '1510181491452']"
      ]
     },
     "execution_count": 24,
     "metadata": {},
     "output_type": "execute_result"
    }
   ],
   "source": [
    "query_ids"
   ]
  },
  {
   "cell_type": "markdown",
   "metadata": {},
   "source": [
    "# run queries"
   ]
  },
  {
   "cell_type": "code",
   "execution_count": 25,
   "metadata": {
    "collapsed": true
   },
   "outputs": [],
   "source": [
    "def date_to_timestampMS(date_str):\n",
    "    '''\n",
    "    Args:\n",
    "        date_str, eg. '2017-11-08'\n",
    "    return:\n",
    "        str, timestamp\n",
    "    '''\n",
    "    d = datetime.datetime.strptime(date_str, '%Y-%m-%d')\n",
    "    return str(int((d-datetime.datetime(1970,1,1)).total_seconds()*1000))\n",
    "\n",
    "def run_queries(query_ids, end_date):\n",
    "    '''\n",
    "    Args:\n",
    "        query_ids, list of str\n",
    "        end_date, str, eg. '2017-11-08'\n",
    "    '''\n",
    "    for query_id in query_ids:\n",
    "        service.queries().runquery(queryId=query_id, body={\n",
    "            'dataRange': 'CUSTOM_DATES',\n",
    "            'reportDataEndTimeMs': '1508025600000',\n",
    "            'reportDataStartTimeMs': date_to_timestampMS(end_date),\n",
    "            \"timezoneCode\": 'America/New_York'\n",
    "        }).execute()"
   ]
  },
  {
   "cell_type": "code",
   "execution_count": 26,
   "metadata": {},
   "outputs": [],
   "source": [
    "run_queries(query_ids, '2017-11-07')"
   ]
  },
  {
   "cell_type": "markdown",
   "metadata": {},
   "source": [
    "# download reports"
   ]
  },
  {
   "cell_type": "code",
   "execution_count": 27,
   "metadata": {
    "collapsed": true
   },
   "outputs": [],
   "source": [
    "from urllib.request import urlopen\n",
    "from contextlib import closing\n",
    "\n",
    "def download_reports(query_ids, output_dir):\n",
    "    '''\n",
    "    Args: \n",
    "        query_ids, list of str\n",
    "        output_dir, str, eg. '/home/jzou'\n",
    "    '''\n",
    "    for query_id in query_ids:\n",
    "        query = service.queries().getquery(queryId=query_id).execute()\n",
    "        report_url = query['metadata']['googleCloudStoragePathForLatestReport']\n",
    "        output_file = '%s/%s.csv' % (output_dir, query['metadata']['title'])\n",
    "        with open(output_file, 'wb') as output:\n",
    "            with closing(urlopen(report_url)) as url:\n",
    "                output.write(url.read())"
   ]
  },
  {
   "cell_type": "code",
   "execution_count": 28,
   "metadata": {},
   "outputs": [
    {
     "ename": "ValueError",
     "evalue": "unknown url type: ''",
     "output_type": "error",
     "traceback": [
      "\u001b[0;31m---------------------------------------------------------------------------\u001b[0m",
      "\u001b[0;31mValueError\u001b[0m                                Traceback (most recent call last)",
      "\u001b[0;32m<ipython-input-28-31a0ff4fff17>\u001b[0m in \u001b[0;36m<module>\u001b[0;34m()\u001b[0m\n\u001b[0;32m----> 1\u001b[0;31m \u001b[0mdownload_reports\u001b[0m\u001b[0;34m(\u001b[0m\u001b[0mquery_ids\u001b[0m\u001b[0;34m,\u001b[0m \u001b[0;34m'/home/jian/LIFT/DBM/Data from API/'\u001b[0m\u001b[0;34m)\u001b[0m\u001b[0;34m\u001b[0m\u001b[0m\n\u001b[0m",
      "\u001b[0;32m<ipython-input-27-edaff3f5eeed>\u001b[0m in \u001b[0;36mdownload_reports\u001b[0;34m(query_ids, output_dir)\u001b[0m\n\u001b[1;32m     13\u001b[0m         \u001b[0moutput_file\u001b[0m \u001b[0;34m=\u001b[0m \u001b[0;34m'%s/%s.csv'\u001b[0m \u001b[0;34m%\u001b[0m \u001b[0;34m(\u001b[0m\u001b[0moutput_dir\u001b[0m\u001b[0;34m,\u001b[0m \u001b[0mquery\u001b[0m\u001b[0;34m[\u001b[0m\u001b[0;34m'metadata'\u001b[0m\u001b[0;34m]\u001b[0m\u001b[0;34m[\u001b[0m\u001b[0;34m'title'\u001b[0m\u001b[0;34m]\u001b[0m\u001b[0;34m)\u001b[0m\u001b[0;34m\u001b[0m\u001b[0m\n\u001b[1;32m     14\u001b[0m         \u001b[0;32mwith\u001b[0m \u001b[0mopen\u001b[0m\u001b[0;34m(\u001b[0m\u001b[0moutput_file\u001b[0m\u001b[0;34m,\u001b[0m \u001b[0;34m'wb'\u001b[0m\u001b[0;34m)\u001b[0m \u001b[0;32mas\u001b[0m \u001b[0moutput\u001b[0m\u001b[0;34m:\u001b[0m\u001b[0;34m\u001b[0m\u001b[0m\n\u001b[0;32m---> 15\u001b[0;31m             \u001b[0;32mwith\u001b[0m \u001b[0mclosing\u001b[0m\u001b[0;34m(\u001b[0m\u001b[0murlopen\u001b[0m\u001b[0;34m(\u001b[0m\u001b[0mreport_url\u001b[0m\u001b[0;34m)\u001b[0m\u001b[0;34m)\u001b[0m \u001b[0;32mas\u001b[0m \u001b[0murl\u001b[0m\u001b[0;34m:\u001b[0m\u001b[0;34m\u001b[0m\u001b[0m\n\u001b[0m\u001b[1;32m     16\u001b[0m                 \u001b[0moutput\u001b[0m\u001b[0;34m.\u001b[0m\u001b[0mwrite\u001b[0m\u001b[0;34m(\u001b[0m\u001b[0murl\u001b[0m\u001b[0;34m.\u001b[0m\u001b[0mread\u001b[0m\u001b[0;34m(\u001b[0m\u001b[0;34m)\u001b[0m\u001b[0;34m)\u001b[0m\u001b[0;34m\u001b[0m\u001b[0m\n",
      "\u001b[0;32m/usr/local/lib/python3.6/urllib/request.py\u001b[0m in \u001b[0;36murlopen\u001b[0;34m(url, data, timeout, cafile, capath, cadefault, context)\u001b[0m\n\u001b[1;32m    221\u001b[0m     \u001b[0;32melse\u001b[0m\u001b[0;34m:\u001b[0m\u001b[0;34m\u001b[0m\u001b[0m\n\u001b[1;32m    222\u001b[0m         \u001b[0mopener\u001b[0m \u001b[0;34m=\u001b[0m \u001b[0m_opener\u001b[0m\u001b[0;34m\u001b[0m\u001b[0m\n\u001b[0;32m--> 223\u001b[0;31m     \u001b[0;32mreturn\u001b[0m \u001b[0mopener\u001b[0m\u001b[0;34m.\u001b[0m\u001b[0mopen\u001b[0m\u001b[0;34m(\u001b[0m\u001b[0murl\u001b[0m\u001b[0;34m,\u001b[0m \u001b[0mdata\u001b[0m\u001b[0;34m,\u001b[0m \u001b[0mtimeout\u001b[0m\u001b[0;34m)\u001b[0m\u001b[0;34m\u001b[0m\u001b[0m\n\u001b[0m\u001b[1;32m    224\u001b[0m \u001b[0;34m\u001b[0m\u001b[0m\n\u001b[1;32m    225\u001b[0m \u001b[0;32mdef\u001b[0m \u001b[0minstall_opener\u001b[0m\u001b[0;34m(\u001b[0m\u001b[0mopener\u001b[0m\u001b[0;34m)\u001b[0m\u001b[0;34m:\u001b[0m\u001b[0;34m\u001b[0m\u001b[0m\n",
      "\u001b[0;32m/usr/local/lib/python3.6/urllib/request.py\u001b[0m in \u001b[0;36mopen\u001b[0;34m(self, fullurl, data, timeout)\u001b[0m\n\u001b[1;32m    509\u001b[0m         \u001b[0;31m# accept a URL or a Request object\u001b[0m\u001b[0;34m\u001b[0m\u001b[0;34m\u001b[0m\u001b[0m\n\u001b[1;32m    510\u001b[0m         \u001b[0;32mif\u001b[0m \u001b[0misinstance\u001b[0m\u001b[0;34m(\u001b[0m\u001b[0mfullurl\u001b[0m\u001b[0;34m,\u001b[0m \u001b[0mstr\u001b[0m\u001b[0;34m)\u001b[0m\u001b[0;34m:\u001b[0m\u001b[0;34m\u001b[0m\u001b[0m\n\u001b[0;32m--> 511\u001b[0;31m             \u001b[0mreq\u001b[0m \u001b[0;34m=\u001b[0m \u001b[0mRequest\u001b[0m\u001b[0;34m(\u001b[0m\u001b[0mfullurl\u001b[0m\u001b[0;34m,\u001b[0m \u001b[0mdata\u001b[0m\u001b[0;34m)\u001b[0m\u001b[0;34m\u001b[0m\u001b[0m\n\u001b[0m\u001b[1;32m    512\u001b[0m         \u001b[0;32melse\u001b[0m\u001b[0;34m:\u001b[0m\u001b[0;34m\u001b[0m\u001b[0m\n\u001b[1;32m    513\u001b[0m             \u001b[0mreq\u001b[0m \u001b[0;34m=\u001b[0m \u001b[0mfullurl\u001b[0m\u001b[0;34m\u001b[0m\u001b[0m\n",
      "\u001b[0;32m/usr/local/lib/python3.6/urllib/request.py\u001b[0m in \u001b[0;36m__init__\u001b[0;34m(self, url, data, headers, origin_req_host, unverifiable, method)\u001b[0m\n\u001b[1;32m    327\u001b[0m                  \u001b[0morigin_req_host\u001b[0m\u001b[0;34m=\u001b[0m\u001b[0;32mNone\u001b[0m\u001b[0;34m,\u001b[0m \u001b[0munverifiable\u001b[0m\u001b[0;34m=\u001b[0m\u001b[0;32mFalse\u001b[0m\u001b[0;34m,\u001b[0m\u001b[0;34m\u001b[0m\u001b[0m\n\u001b[1;32m    328\u001b[0m                  method=None):\n\u001b[0;32m--> 329\u001b[0;31m         \u001b[0mself\u001b[0m\u001b[0;34m.\u001b[0m\u001b[0mfull_url\u001b[0m \u001b[0;34m=\u001b[0m \u001b[0murl\u001b[0m\u001b[0;34m\u001b[0m\u001b[0m\n\u001b[0m\u001b[1;32m    330\u001b[0m         \u001b[0mself\u001b[0m\u001b[0;34m.\u001b[0m\u001b[0mheaders\u001b[0m \u001b[0;34m=\u001b[0m \u001b[0;34m{\u001b[0m\u001b[0;34m}\u001b[0m\u001b[0;34m\u001b[0m\u001b[0m\n\u001b[1;32m    331\u001b[0m         \u001b[0mself\u001b[0m\u001b[0;34m.\u001b[0m\u001b[0munredirected_hdrs\u001b[0m \u001b[0;34m=\u001b[0m \u001b[0;34m{\u001b[0m\u001b[0;34m}\u001b[0m\u001b[0;34m\u001b[0m\u001b[0m\n",
      "\u001b[0;32m/usr/local/lib/python3.6/urllib/request.py\u001b[0m in \u001b[0;36mfull_url\u001b[0;34m(self, url)\u001b[0m\n\u001b[1;32m    353\u001b[0m         \u001b[0mself\u001b[0m\u001b[0;34m.\u001b[0m\u001b[0m_full_url\u001b[0m \u001b[0;34m=\u001b[0m \u001b[0munwrap\u001b[0m\u001b[0;34m(\u001b[0m\u001b[0murl\u001b[0m\u001b[0;34m)\u001b[0m\u001b[0;34m\u001b[0m\u001b[0m\n\u001b[1;32m    354\u001b[0m         \u001b[0mself\u001b[0m\u001b[0;34m.\u001b[0m\u001b[0m_full_url\u001b[0m\u001b[0;34m,\u001b[0m \u001b[0mself\u001b[0m\u001b[0;34m.\u001b[0m\u001b[0mfragment\u001b[0m \u001b[0;34m=\u001b[0m \u001b[0msplittag\u001b[0m\u001b[0;34m(\u001b[0m\u001b[0mself\u001b[0m\u001b[0;34m.\u001b[0m\u001b[0m_full_url\u001b[0m\u001b[0;34m)\u001b[0m\u001b[0;34m\u001b[0m\u001b[0m\n\u001b[0;32m--> 355\u001b[0;31m         \u001b[0mself\u001b[0m\u001b[0;34m.\u001b[0m\u001b[0m_parse\u001b[0m\u001b[0;34m(\u001b[0m\u001b[0;34m)\u001b[0m\u001b[0;34m\u001b[0m\u001b[0m\n\u001b[0m\u001b[1;32m    356\u001b[0m \u001b[0;34m\u001b[0m\u001b[0m\n\u001b[1;32m    357\u001b[0m     \u001b[0;34m@\u001b[0m\u001b[0mfull_url\u001b[0m\u001b[0;34m.\u001b[0m\u001b[0mdeleter\u001b[0m\u001b[0;34m\u001b[0m\u001b[0m\n",
      "\u001b[0;32m/usr/local/lib/python3.6/urllib/request.py\u001b[0m in \u001b[0;36m_parse\u001b[0;34m(self)\u001b[0m\n\u001b[1;32m    382\u001b[0m         \u001b[0mself\u001b[0m\u001b[0;34m.\u001b[0m\u001b[0mtype\u001b[0m\u001b[0;34m,\u001b[0m \u001b[0mrest\u001b[0m \u001b[0;34m=\u001b[0m \u001b[0msplittype\u001b[0m\u001b[0;34m(\u001b[0m\u001b[0mself\u001b[0m\u001b[0;34m.\u001b[0m\u001b[0m_full_url\u001b[0m\u001b[0;34m)\u001b[0m\u001b[0;34m\u001b[0m\u001b[0m\n\u001b[1;32m    383\u001b[0m         \u001b[0;32mif\u001b[0m \u001b[0mself\u001b[0m\u001b[0;34m.\u001b[0m\u001b[0mtype\u001b[0m \u001b[0;32mis\u001b[0m \u001b[0;32mNone\u001b[0m\u001b[0;34m:\u001b[0m\u001b[0;34m\u001b[0m\u001b[0m\n\u001b[0;32m--> 384\u001b[0;31m             \u001b[0;32mraise\u001b[0m \u001b[0mValueError\u001b[0m\u001b[0;34m(\u001b[0m\u001b[0;34m\"unknown url type: %r\"\u001b[0m \u001b[0;34m%\u001b[0m \u001b[0mself\u001b[0m\u001b[0;34m.\u001b[0m\u001b[0mfull_url\u001b[0m\u001b[0;34m)\u001b[0m\u001b[0;34m\u001b[0m\u001b[0m\n\u001b[0m\u001b[1;32m    385\u001b[0m         \u001b[0mself\u001b[0m\u001b[0;34m.\u001b[0m\u001b[0mhost\u001b[0m\u001b[0;34m,\u001b[0m \u001b[0mself\u001b[0m\u001b[0;34m.\u001b[0m\u001b[0mselector\u001b[0m \u001b[0;34m=\u001b[0m \u001b[0msplithost\u001b[0m\u001b[0;34m(\u001b[0m\u001b[0mrest\u001b[0m\u001b[0;34m)\u001b[0m\u001b[0;34m\u001b[0m\u001b[0m\n\u001b[1;32m    386\u001b[0m         \u001b[0;32mif\u001b[0m \u001b[0mself\u001b[0m\u001b[0;34m.\u001b[0m\u001b[0mhost\u001b[0m\u001b[0;34m:\u001b[0m\u001b[0;34m\u001b[0m\u001b[0m\n",
      "\u001b[0;31mValueError\u001b[0m: unknown url type: ''"
     ]
    }
   ],
   "source": [
    "download_reports(query_ids, '/home/jian/LIFT/DBM/Data from API/')"
   ]
  },
  {
   "cell_type": "code",
   "execution_count": null,
   "metadata": {},
   "outputs": [],
   "source": [
    "query_ids"
   ]
  },
  {
   "cell_type": "code",
   "execution_count": null,
   "metadata": {
    "collapsed": true
   },
   "outputs": [],
   "source": []
  }
 ],
 "metadata": {
  "kernelspec": {
   "display_name": "Python 3",
   "language": "python",
   "name": "python3"
  },
  "language_info": {
   "codemirror_mode": {
    "name": "ipython",
    "version": 3
   },
   "file_extension": ".py",
   "mimetype": "text/x-python",
   "name": "python",
   "nbconvert_exporter": "python",
   "pygments_lexer": "ipython3",
   "version": "3.6.1"
  }
 },
 "nbformat": 4,
 "nbformat_minor": 2
}
