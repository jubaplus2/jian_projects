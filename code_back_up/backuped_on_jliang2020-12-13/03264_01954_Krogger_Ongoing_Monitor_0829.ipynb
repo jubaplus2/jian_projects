{
 "cells": [
  {
   "cell_type": "code",
   "execution_count": 33,
   "metadata": {
    "collapsed": true
   },
   "outputs": [],
   "source": [
    "import pandas as pd\n",
    "import datetime\n",
    "import os\n",
    "import numpy as np"
   ]
  },
  {
   "cell_type": "code",
   "execution_count": 34,
   "metadata": {
    "collapsed": true
   },
   "outputs": [],
   "source": [
    "week_list=['27','28','29','30','31']"
   ]
  },
  {
   "cell_type": "code",
   "execution_count": 35,
   "metadata": {
    "collapsed": true
   },
   "outputs": [],
   "source": [
    "Krogger_2017_128=pd.read_csv(\"/home/jian/SunnyD/On_Going_WM_KG/Krogger/data/Kroger - Tangy 128oz Only - FY 2017 - FY 2018 YTD w.e. Aug 3 - Weekly Store w_ Kiosk.csv\",dtype=str,skiprows=8)\n",
    "Krogger_2017_64=pd.read_csv(\"/home/jian/SunnyD/On_Going_WM_KG/Krogger/data/Kroger - Tangy 64oz Only - FY 2017 - FY 2018 YTD w.e. Aug 11 - Weekly Store w_ Kiosk.csv\",dtype=str,skiprows=8)\n",
    "\n",
    "Krogger_2018=pd.read_csv(\"/home/jian/SunnyD/On_Going_WM_KG/Krogger/data/Kroger - Tangy 128oz and 64oz FY 2018 YTD w.e. Sep 8 - Weekly Store w_ Kiosk.csv\",dtype=str,skiprows=8)\n"
   ]
  },
  {
   "cell_type": "code",
   "execution_count": null,
   "metadata": {
    "collapsed": true
   },
   "outputs": [],
   "source": []
  },
  {
   "cell_type": "code",
   "execution_count": 8,
   "metadata": {
    "collapsed": true
   },
   "outputs": [],
   "source": [
    "def clean_df(df):\n",
    "    df=df[['WEEK_NAME','UPC','SCANNED_RETAIL_DOLLARS','SCANNED_MOVEMENT','STO_NAME','STO_ZIP','STO_ADDRESS','ITM_SCN_PRC_GRP_DESC']]\n",
    "    \n",
    "    df['year']=df['WEEK_NAME'].apply(lambda x: x[:4])\n",
    "    \n",
    "    df['week']=np.where(df['year']=='2017',df['WEEK_NAME'].apply(lambda x: str(int(x[len(x)-3:len(x)-1])-1)),\n",
    "                        df['WEEK_NAME'].apply(lambda x: x[len(x)-3:len(x)-1]))\n",
    "    df['zip_cd']=df['STO_ZIP'].apply(lambda x: x[:5])\n",
    "    df=df[df['week'].isin(week_list)]\n",
    "    df=df.rename(columns={\"SCANNED_RETAIL_DOLLARS\":\"sales\",\"SCANNED_MOVEMENT\":\"units\",\"STO_NAME\":\"store\",\n",
    "                          'STO_ADDRESS':'address',\"ITM_SCN_PRC_GRP_DESC\":\"product\"})\n",
    "    df['sales']=df['sales'].astype(float)\n",
    "    df['units']=df['units'].astype(float)\n",
    "    return df[['store','year','week','zip_cd','address','sales','units','product']]"
   ]
  },
  {
   "cell_type": "code",
   "execution_count": 9,
   "metadata": {},
   "outputs": [
    {
     "name": "stderr",
     "output_type": "stream",
     "text": [
      "/usr/local/lib/python3.6/site-packages/ipykernel_launcher.py:4: SettingWithCopyWarning: \n",
      "A value is trying to be set on a copy of a slice from a DataFrame.\n",
      "Try using .loc[row_indexer,col_indexer] = value instead\n",
      "\n",
      "See the caveats in the documentation: http://pandas.pydata.org/pandas-docs/stable/indexing.html#indexing-view-versus-copy\n",
      "  after removing the cwd from sys.path.\n",
      "/usr/local/lib/python3.6/site-packages/ipykernel_launcher.py:7: SettingWithCopyWarning: \n",
      "A value is trying to be set on a copy of a slice from a DataFrame.\n",
      "Try using .loc[row_indexer,col_indexer] = value instead\n",
      "\n",
      "See the caveats in the documentation: http://pandas.pydata.org/pandas-docs/stable/indexing.html#indexing-view-versus-copy\n",
      "  import sys\n",
      "/usr/local/lib/python3.6/site-packages/ipykernel_launcher.py:8: SettingWithCopyWarning: \n",
      "A value is trying to be set on a copy of a slice from a DataFrame.\n",
      "Try using .loc[row_indexer,col_indexer] = value instead\n",
      "\n",
      "See the caveats in the documentation: http://pandas.pydata.org/pandas-docs/stable/indexing.html#indexing-view-versus-copy\n",
      "  \n"
     ]
    }
   ],
   "source": [
    "Krogger_2017_128=clean_df(Krogger_2017_128)\n",
    "Krogger_2017_64=clean_df(Krogger_2017_64)\n",
    "Krogger_2018=clean_df(Krogger_2018)\n",
    "Krogger_2017_128=Krogger_2017_128[Krogger_2017_128['year']=='2017']\n",
    "Krogger_2017_64=Krogger_2017_64[Krogger_2017_64['year']=='2017']\n",
    "Krogger_2018=Krogger_2018[Krogger_2018['year']=='2018']\n"
   ]
  },
  {
   "cell_type": "code",
   "execution_count": 10,
   "metadata": {
    "collapsed": true
   },
   "outputs": [],
   "source": [
    "Zip_IRI_mapping=pd.read_excel(\"/home/jian/SunnyD/Otherinput/All_IRI_Mkt_with_Zips_0430.xlsx\",dtype=str)"
   ]
  },
  {
   "cell_type": "code",
   "execution_count": 11,
   "metadata": {
    "collapsed": true
   },
   "outputs": [],
   "source": [
    "def func(x):\n",
    "    y=len(list(set(x)))\n",
    "    return y\n",
    "\n",
    "R_Mkt_zips=['27705','27713','27704','27612','27526','27529','27513','27523','27613','27609','27615','27707']\n",
    "Krogger_both_year=Krogger_2018.append(Krogger_2017_128).append(Krogger_2017_64)\n",
    "Krogger_both_year['store_info']=Krogger_both_year['store']+\"_\"+Krogger_both_year['zip_cd']+\"_\"+Krogger_both_year['address']\n",
    "Krogger_both_year['year_week']=Krogger_both_year['year']+\"_\"+Krogger_both_year['week']\n",
    "temp_RALEIGH=Krogger_both_year[Krogger_both_year['zip_cd'].isin(R_Mkt_zips)]\n",
    "temp_RALEIGH_sales_available_stores=temp_RALEIGH.groupby(['store_info'])['year_week'].agg(func).to_frame().reset_index().rename(columns={\"year_week\":\"weeks_with_sales\"})\n",
    "writer=pd.ExcelWriter(\"/home/jian/SunnyD/On_Going_WM_KG/Krogger/output/Investigate_in_Krogger_RALEIGH_\"+str(datetime.datetime.now().date())+\".xlsx\",engine=\"xlsxwriter\")\n",
    "temp_RALEIGH_sales_available_stores.to_excel(writer,\"summary_count_weeks\",index=False)\n",
    "temp_RALEIGH.to_excel(writer,\"temp_RALEIGH\",index=False)\n",
    "writer.save()\n"
   ]
  },
  {
   "cell_type": "markdown",
   "metadata": {},
   "source": [
    "# Combined Comparison"
   ]
  },
  {
   "cell_type": "code",
   "execution_count": 12,
   "metadata": {
    "collapsed": true
   },
   "outputs": [],
   "source": [
    "Krogger_both_year=Krogger_2018.append(Krogger_2017_128).append(Krogger_2017_64)\n",
    "Krogger_both_year['store_info']=Krogger_both_year['store']+\"_\"+Krogger_both_year['zip_cd']+\"_\"+Krogger_both_year['address']\n",
    "Krogger_both_year['year_week']=Krogger_both_year['year']+\"_\"+Krogger_both_year['week']\n",
    "Krogger_both_year=Krogger_both_year[Krogger_both_year['sales']>0]"
   ]
  },
  {
   "cell_type": "code",
   "execution_count": 13,
   "metadata": {
    "collapsed": true
   },
   "outputs": [],
   "source": [
    "def func(x):\n",
    "    y=len(list(set(x)))\n",
    "    return y"
   ]
  },
  {
   "cell_type": "code",
   "execution_count": 14,
   "metadata": {
    "collapsed": true
   },
   "outputs": [],
   "source": [
    "Krogger_both_year_existing=Krogger_both_year.groupby(['store_info'])['year_week'].agg(func).to_frame().reset_index()\n",
    "Krogger_both_year_existing=Krogger_both_year_existing[Krogger_both_year_existing['year_week']==9]['store_info'].unique().tolist()\n",
    "Krogger_both_year=Krogger_both_year[Krogger_both_year['store_info'].isin(Krogger_both_year_existing)]"
   ]
  },
  {
   "cell_type": "code",
   "execution_count": 15,
   "metadata": {
    "collapsed": true
   },
   "outputs": [],
   "source": [
    "Krogger_both_year_compare=Krogger_both_year[Krogger_both_year['week'].isin(['27','28','29','30'])]\n",
    "Krogger_both_year_compare=pd.merge(Krogger_both_year_compare,Zip_IRI_mapping,on='zip_cd',how=\"left\")\n"
   ]
  },
  {
   "cell_type": "code",
   "execution_count": 16,
   "metadata": {},
   "outputs": [
    {
     "data": {
      "text/plain": [
       "array(['27', '28', '29', '30'], dtype=object)"
      ]
     },
     "execution_count": 16,
     "metadata": {},
     "output_type": "execute_result"
    }
   ],
   "source": [
    "Krogger_both_year_compare[(Krogger_both_year_compare['year']=='2018')]['week'].unique()"
   ]
  },
  {
   "cell_type": "code",
   "execution_count": 17,
   "metadata": {
    "collapsed": true
   },
   "outputs": [],
   "source": [
    "Markets_18=['BIRMINGHAM/MONTGOMERY','NEW ORLEANS/MOBILE','PHOENIX/TUCSON','LOS ANGELES','DENVER','MIAMI/FT LAUDERDALE',\n",
    "            'ATLANTA','SOUTH CAROLINA','CHICAGO','BOSTON','BALTIMORE/WASHINGTON','DETROIT','MISSISSIPPI','RALEIGH/GREENSBORO',\n",
    "            'NEW YORK','WEST TEX/NEW MEXICO','HOUSTON','DALLAS/FT WORTH']\n",
    "\n",
    "def In_18(x):\n",
    "    if x in Markets_18:\n",
    "        y=\"In_18_Mkts\"\n",
    "    else:\n",
    "        y=\"Other\"\n",
    "    return y\n",
    "Krogger_both_year_compare['18_Mkt_Ind']=Krogger_both_year_compare['IRI Market'].apply(lambda x: In_18(x))"
   ]
  },
  {
   "cell_type": "code",
   "execution_count": 18,
   "metadata": {
    "collapsed": true
   },
   "outputs": [],
   "source": [
    "df_YoY_compare_summary=Krogger_both_year_compare.groupby(['18_Mkt_Ind','year','week'])['sales','units'].sum().reset_index()\n",
    "df_YoY_compare_summary.to_csv(\"/home/jian/SunnyD/On_Going_WM_KG/Krogger/output/SunnyD_Krogger_4_weeks_YoY_\"+str(datetime.datetime.now().date())+\".csv\",index=False)"
   ]
  },
  {
   "cell_type": "markdown",
   "metadata": {},
   "source": [
    "# 64, 128 respectively comparison"
   ]
  },
  {
   "cell_type": "code",
   "execution_count": 19,
   "metadata": {
    "collapsed": true
   },
   "outputs": [],
   "source": [
    "Krogger_both_year_64=Krogger_both_year[Krogger_both_year['product']==\"Sunny D 64 FO\"]\n",
    "Krogger_both_year_existing_64=Krogger_both_year_64.groupby(['store_info'])['year_week'].agg(func).to_frame().reset_index()\n",
    "Krogger_both_year_existing_64=Krogger_both_year_existing_64[Krogger_both_year_existing_64['year_week']==9]['store_info'].unique().tolist()\n",
    "Krogger_both_year_64=Krogger_both_year_64[Krogger_both_year_64['store_info'].isin(Krogger_both_year_existing_64)]\n",
    "Krogger_both_year_compare_64=Krogger_both_year_64[Krogger_both_year_64['week'].isin(['27','28','29','30'])]\n",
    "Krogger_both_year_compare_64=pd.merge(Krogger_both_year_compare_64,Zip_IRI_mapping,on='zip_cd',how=\"left\")\n",
    "Krogger_both_year_compare_64['18_Mkt_Ind']=Krogger_both_year_compare_64['IRI Market'].apply(lambda x: In_18(x))\n",
    "df_YoY_compare_summary_64=Krogger_both_year_compare_64.groupby(['18_Mkt_Ind','year','week'])['sales','units'].sum().reset_index()\n"
   ]
  },
  {
   "cell_type": "code",
   "execution_count": null,
   "metadata": {
    "collapsed": true
   },
   "outputs": [],
   "source": []
  },
  {
   "cell_type": "code",
   "execution_count": 20,
   "metadata": {
    "collapsed": true
   },
   "outputs": [],
   "source": [
    "Krogger_both_year_128=Krogger_both_year[Krogger_both_year['product']==\"Sunny D 128 FO\"]\n",
    "Krogger_both_year_existing_128=Krogger_both_year_128.groupby(['store_info'])['year_week'].agg(func).to_frame().reset_index()\n",
    "Krogger_both_year_existing_128=Krogger_both_year_existing_128[Krogger_both_year_existing_128['year_week']==9]['store_info'].unique().tolist()\n",
    "Krogger_both_year_128=Krogger_both_year_128[Krogger_both_year_128['store_info'].isin(Krogger_both_year_existing_128)]\n",
    "Krogger_both_year_compare_128=Krogger_both_year_128[Krogger_both_year_128['week'].isin(['27','28','29','30'])]\n",
    "Krogger_both_year_compare_128=pd.merge(Krogger_both_year_compare_128,Zip_IRI_mapping,on='zip_cd',how=\"left\")\n",
    "Krogger_both_year_compare_128['18_Mkt_Ind']=Krogger_both_year_compare_128['IRI Market'].apply(lambda x: In_18(x))\n",
    "df_YoY_compare_summary_128=Krogger_both_year_compare_128.groupby(['18_Mkt_Ind','year','week'])['sales','units'].sum().reset_index()\n"
   ]
  },
  {
   "cell_type": "code",
   "execution_count": 21,
   "metadata": {
    "collapsed": true
   },
   "outputs": [],
   "source": [
    "Krogger_both_year_compare_2_product=Krogger_both_year[(Krogger_both_year['store_info'].isin(Krogger_both_year_existing_64)) &\\\n",
    "                                                     (Krogger_both_year['store_info'].isin(Krogger_both_year_existing_128))]\n",
    "Krogger_both_year_compare_2_product=Krogger_both_year_compare_2_product[Krogger_both_year_compare_2_product['week'].isin(['27','28','29','30'])]\n",
    "Krogger_both_year_compare_2_product=pd.merge(Krogger_both_year_compare_2_product,Zip_IRI_mapping,on='zip_cd',how=\"left\")\n",
    "Krogger_both_year_compare_2_product['18_Mkt_Ind']=Krogger_both_year_compare_2_product['IRI Market'].apply(lambda x: In_18(x))\n",
    "df_YoY_compare_summary_2_product=Krogger_both_year_compare_2_product.groupby(['18_Mkt_Ind','year','week'])['sales','units'].sum().reset_index()\n"
   ]
  },
  {
   "cell_type": "code",
   "execution_count": 32,
   "metadata": {},
   "outputs": [
    {
     "data": {
      "text/plain": [
       "(0, 10)"
      ]
     },
     "execution_count": 32,
     "metadata": {},
     "output_type": "execute_result"
    }
   ],
   "source": [
    "Krogger_both_year_compare_2_product.shape"
   ]
  },
  {
   "cell_type": "code",
   "execution_count": 22,
   "metadata": {
    "collapsed": true
   },
   "outputs": [],
   "source": [
    "writer=pd.ExcelWriter(\"/home/jian/SunnyD/On_Going_WM_KG/Krogger/output/SunnyD_Krogger_4_weeks_YoY_\"+str(datetime.datetime.now().date())+\".xlsx\",engine=\"xlsxwriter\")"
   ]
  },
  {
   "cell_type": "code",
   "execution_count": 23,
   "metadata": {
    "collapsed": true
   },
   "outputs": [],
   "source": [
    "def YoY_summary_df(df):\n",
    "    df_2017_sales=df[df['year']=='2017'].rename(columns={\"sales\":\"sales_2017\"})\n",
    "    df_2018_sales=df[df['year']=='2018'].rename(columns={\"sales\":\"sales_2018\"})\n",
    "    del df_2017_sales['units']\n",
    "    del df_2018_sales['units']\n",
    "    del df_2017_sales['year']\n",
    "    del df_2018_sales['year']\n",
    "    sales_yoy=pd.merge(df_2017_sales,df_2018_sales,on=[\"18_Mkt_Ind\",'week'],how=\"left\")\n",
    "    \n",
    "    df_2017_units=df[df['year']=='2017'].rename(columns={\"units\":\"units_2017\"})\n",
    "    df_2018_units=df[df['year']=='2018'].rename(columns={\"units\":\"units_2018\"})\n",
    "    del df_2017_units['sales']\n",
    "    del df_2018_units['sales']\n",
    "    del df_2017_units['year']\n",
    "    del df_2018_units['year']\n",
    "    units_yoy=pd.merge(df_2017_units,df_2018_units,on=[\"18_Mkt_Ind\",'week'],how=\"left\")\n",
    "    \n",
    "    output=pd.merge(sales_yoy,units_yoy,on=[\"18_Mkt_Ind\",'week'],how=\"left\")\n",
    "    output['sales_yoy']=(output['sales_2018']-output['sales_2017'])/output['sales_2017']\n",
    "    output['units_yoy']=(output['units_2018']-output['units_2017'])/output['units_2017']\n",
    "    return output"
   ]
  },
  {
   "cell_type": "code",
   "execution_count": 27,
   "metadata": {},
   "outputs": [
    {
     "data": {
      "text/html": [
       "<div>\n",
       "<style>\n",
       "    .dataframe thead tr:only-child th {\n",
       "        text-align: right;\n",
       "    }\n",
       "\n",
       "    .dataframe thead th {\n",
       "        text-align: left;\n",
       "    }\n",
       "\n",
       "    .dataframe tbody tr th {\n",
       "        vertical-align: top;\n",
       "    }\n",
       "</style>\n",
       "<table border=\"1\" class=\"dataframe\">\n",
       "  <thead>\n",
       "    <tr style=\"text-align: right;\">\n",
       "      <th></th>\n",
       "      <th>18_Mkt_Ind</th>\n",
       "      <th>year</th>\n",
       "      <th>week</th>\n",
       "      <th>sales</th>\n",
       "      <th>units</th>\n",
       "    </tr>\n",
       "  </thead>\n",
       "  <tbody>\n",
       "    <tr>\n",
       "      <th>0</th>\n",
       "      <td>In_18_Mkts</td>\n",
       "      <td>2017</td>\n",
       "      <td>27</td>\n",
       "      <td>3.29</td>\n",
       "      <td>1.0</td>\n",
       "    </tr>\n",
       "    <tr>\n",
       "      <th>1</th>\n",
       "      <td>In_18_Mkts</td>\n",
       "      <td>2017</td>\n",
       "      <td>28</td>\n",
       "      <td>20.24</td>\n",
       "      <td>6.0</td>\n",
       "    </tr>\n",
       "    <tr>\n",
       "      <th>2</th>\n",
       "      <td>In_18_Mkts</td>\n",
       "      <td>2017</td>\n",
       "      <td>29</td>\n",
       "      <td>35.40</td>\n",
       "      <td>10.0</td>\n",
       "    </tr>\n",
       "    <tr>\n",
       "      <th>3</th>\n",
       "      <td>In_18_Mkts</td>\n",
       "      <td>2017</td>\n",
       "      <td>30</td>\n",
       "      <td>3.79</td>\n",
       "      <td>1.0</td>\n",
       "    </tr>\n",
       "    <tr>\n",
       "      <th>4</th>\n",
       "      <td>In_18_Mkts</td>\n",
       "      <td>2018</td>\n",
       "      <td>27</td>\n",
       "      <td>36.69</td>\n",
       "      <td>11.0</td>\n",
       "    </tr>\n",
       "    <tr>\n",
       "      <th>5</th>\n",
       "      <td>In_18_Mkts</td>\n",
       "      <td>2018</td>\n",
       "      <td>28</td>\n",
       "      <td>43.66</td>\n",
       "      <td>14.0</td>\n",
       "    </tr>\n",
       "    <tr>\n",
       "      <th>6</th>\n",
       "      <td>In_18_Mkts</td>\n",
       "      <td>2018</td>\n",
       "      <td>29</td>\n",
       "      <td>28.21</td>\n",
       "      <td>9.0</td>\n",
       "    </tr>\n",
       "    <tr>\n",
       "      <th>7</th>\n",
       "      <td>In_18_Mkts</td>\n",
       "      <td>2018</td>\n",
       "      <td>30</td>\n",
       "      <td>23.33</td>\n",
       "      <td>7.0</td>\n",
       "    </tr>\n",
       "    <tr>\n",
       "      <th>8</th>\n",
       "      <td>Other</td>\n",
       "      <td>2017</td>\n",
       "      <td>27</td>\n",
       "      <td>9.87</td>\n",
       "      <td>3.0</td>\n",
       "    </tr>\n",
       "    <tr>\n",
       "      <th>9</th>\n",
       "      <td>Other</td>\n",
       "      <td>2017</td>\n",
       "      <td>28</td>\n",
       "      <td>16.45</td>\n",
       "      <td>5.0</td>\n",
       "    </tr>\n",
       "    <tr>\n",
       "      <th>10</th>\n",
       "      <td>Other</td>\n",
       "      <td>2017</td>\n",
       "      <td>29</td>\n",
       "      <td>6.58</td>\n",
       "      <td>2.0</td>\n",
       "    </tr>\n",
       "    <tr>\n",
       "      <th>11</th>\n",
       "      <td>Other</td>\n",
       "      <td>2017</td>\n",
       "      <td>30</td>\n",
       "      <td>16.45</td>\n",
       "      <td>5.0</td>\n",
       "    </tr>\n",
       "    <tr>\n",
       "      <th>12</th>\n",
       "      <td>Other</td>\n",
       "      <td>2018</td>\n",
       "      <td>27</td>\n",
       "      <td>10.41</td>\n",
       "      <td>3.0</td>\n",
       "    </tr>\n",
       "    <tr>\n",
       "      <th>13</th>\n",
       "      <td>Other</td>\n",
       "      <td>2018</td>\n",
       "      <td>28</td>\n",
       "      <td>10.41</td>\n",
       "      <td>3.0</td>\n",
       "    </tr>\n",
       "    <tr>\n",
       "      <th>14</th>\n",
       "      <td>Other</td>\n",
       "      <td>2018</td>\n",
       "      <td>29</td>\n",
       "      <td>10.41</td>\n",
       "      <td>3.0</td>\n",
       "    </tr>\n",
       "    <tr>\n",
       "      <th>15</th>\n",
       "      <td>Other</td>\n",
       "      <td>2018</td>\n",
       "      <td>30</td>\n",
       "      <td>10.41</td>\n",
       "      <td>3.0</td>\n",
       "    </tr>\n",
       "  </tbody>\n",
       "</table>\n",
       "</div>"
      ],
      "text/plain": [
       "    18_Mkt_Ind  year week  sales  units\n",
       "0   In_18_Mkts  2017   27   3.29    1.0\n",
       "1   In_18_Mkts  2017   28  20.24    6.0\n",
       "2   In_18_Mkts  2017   29  35.40   10.0\n",
       "3   In_18_Mkts  2017   30   3.79    1.0\n",
       "4   In_18_Mkts  2018   27  36.69   11.0\n",
       "5   In_18_Mkts  2018   28  43.66   14.0\n",
       "6   In_18_Mkts  2018   29  28.21    9.0\n",
       "7   In_18_Mkts  2018   30  23.33    7.0\n",
       "8        Other  2017   27   9.87    3.0\n",
       "9        Other  2017   28  16.45    5.0\n",
       "10       Other  2017   29   6.58    2.0\n",
       "11       Other  2017   30  16.45    5.0\n",
       "12       Other  2018   27  10.41    3.0\n",
       "13       Other  2018   28  10.41    3.0\n",
       "14       Other  2018   29  10.41    3.0\n",
       "15       Other  2018   30  10.41    3.0"
      ]
     },
     "execution_count": 27,
     "metadata": {},
     "output_type": "execute_result"
    }
   ],
   "source": [
    "df_YoY_compare_summary_128"
   ]
  },
  {
   "cell_type": "code",
   "execution_count": 24,
   "metadata": {},
   "outputs": [
    {
     "name": "stderr",
     "output_type": "stream",
     "text": [
      "/usr/local/lib/python3.6/site-packages/pandas/core/ops.py:798: FutureWarning: elementwise comparison failed; returning scalar instead, but in the future will perform elementwise comparison\n",
      "  result = getattr(x, name)(y)\n"
     ]
    },
    {
     "ename": "TypeError",
     "evalue": "invalid type comparison",
     "output_type": "error",
     "traceback": [
      "\u001b[0;31m---------------------------------------------------------------------------\u001b[0m",
      "\u001b[0;31mTypeError\u001b[0m                                 Traceback (most recent call last)",
      "\u001b[0;32m<ipython-input-24-3d1a6032c210>\u001b[0m in \u001b[0;36m<module>\u001b[0;34m()\u001b[0m\n\u001b[1;32m      1\u001b[0m \u001b[0msummary_64\u001b[0m\u001b[0;34m=\u001b[0m\u001b[0mYoY_summary_df\u001b[0m\u001b[0;34m(\u001b[0m\u001b[0mdf_YoY_compare_summary_64\u001b[0m\u001b[0;34m)\u001b[0m\u001b[0;34m\u001b[0m\u001b[0m\n\u001b[1;32m      2\u001b[0m \u001b[0msummary_128\u001b[0m\u001b[0;34m=\u001b[0m\u001b[0mYoY_summary_df\u001b[0m\u001b[0;34m(\u001b[0m\u001b[0mdf_YoY_compare_summary_128\u001b[0m\u001b[0;34m)\u001b[0m\u001b[0;34m\u001b[0m\u001b[0m\n\u001b[0;32m----> 3\u001b[0;31m \u001b[0msummary_both_respective\u001b[0m\u001b[0;34m=\u001b[0m\u001b[0mYoY_summary_df\u001b[0m\u001b[0;34m(\u001b[0m\u001b[0mdf_YoY_compare_summary_2_product\u001b[0m\u001b[0;34m)\u001b[0m\u001b[0;34m\u001b[0m\u001b[0m\n\u001b[0m\u001b[1;32m      4\u001b[0m \u001b[0msummary_both_together\u001b[0m\u001b[0;34m=\u001b[0m\u001b[0mYoY_summary_df\u001b[0m\u001b[0;34m(\u001b[0m\u001b[0mdf_YoY_compare_summary\u001b[0m\u001b[0;34m)\u001b[0m\u001b[0;34m\u001b[0m\u001b[0m\n",
      "\u001b[0;32m<ipython-input-23-d8bc29df7189>\u001b[0m in \u001b[0;36mYoY_summary_df\u001b[0;34m(df)\u001b[0m\n\u001b[1;32m      1\u001b[0m \u001b[0;32mdef\u001b[0m \u001b[0mYoY_summary_df\u001b[0m\u001b[0;34m(\u001b[0m\u001b[0mdf\u001b[0m\u001b[0;34m)\u001b[0m\u001b[0;34m:\u001b[0m\u001b[0;34m\u001b[0m\u001b[0m\n\u001b[0;32m----> 2\u001b[0;31m     \u001b[0mdf_2017_sales\u001b[0m\u001b[0;34m=\u001b[0m\u001b[0mdf\u001b[0m\u001b[0;34m[\u001b[0m\u001b[0mdf\u001b[0m\u001b[0;34m[\u001b[0m\u001b[0;34m'year'\u001b[0m\u001b[0;34m]\u001b[0m\u001b[0;34m==\u001b[0m\u001b[0;34m'2017'\u001b[0m\u001b[0;34m]\u001b[0m\u001b[0;34m.\u001b[0m\u001b[0mrename\u001b[0m\u001b[0;34m(\u001b[0m\u001b[0mcolumns\u001b[0m\u001b[0;34m=\u001b[0m\u001b[0;34m{\u001b[0m\u001b[0;34m\"sales\"\u001b[0m\u001b[0;34m:\u001b[0m\u001b[0;34m\"sales_2017\"\u001b[0m\u001b[0;34m}\u001b[0m\u001b[0;34m)\u001b[0m\u001b[0;34m\u001b[0m\u001b[0m\n\u001b[0m\u001b[1;32m      3\u001b[0m     \u001b[0mdf_2018_sales\u001b[0m\u001b[0;34m=\u001b[0m\u001b[0mdf\u001b[0m\u001b[0;34m[\u001b[0m\u001b[0mdf\u001b[0m\u001b[0;34m[\u001b[0m\u001b[0;34m'year'\u001b[0m\u001b[0;34m]\u001b[0m\u001b[0;34m==\u001b[0m\u001b[0;34m'2018'\u001b[0m\u001b[0;34m]\u001b[0m\u001b[0;34m.\u001b[0m\u001b[0mrename\u001b[0m\u001b[0;34m(\u001b[0m\u001b[0mcolumns\u001b[0m\u001b[0;34m=\u001b[0m\u001b[0;34m{\u001b[0m\u001b[0;34m\"sales\"\u001b[0m\u001b[0;34m:\u001b[0m\u001b[0;34m\"sales_2018\"\u001b[0m\u001b[0;34m}\u001b[0m\u001b[0;34m)\u001b[0m\u001b[0;34m\u001b[0m\u001b[0m\n\u001b[1;32m      4\u001b[0m     \u001b[0;32mdel\u001b[0m \u001b[0mdf_2017_sales\u001b[0m\u001b[0;34m[\u001b[0m\u001b[0;34m'units'\u001b[0m\u001b[0;34m]\u001b[0m\u001b[0;34m\u001b[0m\u001b[0m\n\u001b[1;32m      5\u001b[0m     \u001b[0;32mdel\u001b[0m \u001b[0mdf_2018_sales\u001b[0m\u001b[0;34m[\u001b[0m\u001b[0;34m'units'\u001b[0m\u001b[0;34m]\u001b[0m\u001b[0;34m\u001b[0m\u001b[0m\n",
      "\u001b[0;32m/usr/local/lib/python3.6/site-packages/pandas/core/ops.py\u001b[0m in \u001b[0;36mwrapper\u001b[0;34m(self, other, axis)\u001b[0m\n\u001b[1;32m    859\u001b[0m \u001b[0;34m\u001b[0m\u001b[0m\n\u001b[1;32m    860\u001b[0m             \u001b[0;32mwith\u001b[0m \u001b[0mnp\u001b[0m\u001b[0;34m.\u001b[0m\u001b[0merrstate\u001b[0m\u001b[0;34m(\u001b[0m\u001b[0mall\u001b[0m\u001b[0;34m=\u001b[0m\u001b[0;34m'ignore'\u001b[0m\u001b[0;34m)\u001b[0m\u001b[0;34m:\u001b[0m\u001b[0;34m\u001b[0m\u001b[0m\n\u001b[0;32m--> 861\u001b[0;31m                 \u001b[0mres\u001b[0m \u001b[0;34m=\u001b[0m \u001b[0mna_op\u001b[0m\u001b[0;34m(\u001b[0m\u001b[0mvalues\u001b[0m\u001b[0;34m,\u001b[0m \u001b[0mother\u001b[0m\u001b[0;34m)\u001b[0m\u001b[0;34m\u001b[0m\u001b[0m\n\u001b[0m\u001b[1;32m    862\u001b[0m             \u001b[0;32mif\u001b[0m \u001b[0mis_scalar\u001b[0m\u001b[0;34m(\u001b[0m\u001b[0mres\u001b[0m\u001b[0;34m)\u001b[0m\u001b[0;34m:\u001b[0m\u001b[0;34m\u001b[0m\u001b[0m\n\u001b[1;32m    863\u001b[0m                 raise TypeError('Could not compare %s type with Series' %\n",
      "\u001b[0;32m/usr/local/lib/python3.6/site-packages/pandas/core/ops.py\u001b[0m in \u001b[0;36mna_op\u001b[0;34m(x, y)\u001b[0m\n\u001b[1;32m    798\u001b[0m                     \u001b[0mresult\u001b[0m \u001b[0;34m=\u001b[0m \u001b[0mgetattr\u001b[0m\u001b[0;34m(\u001b[0m\u001b[0mx\u001b[0m\u001b[0;34m,\u001b[0m \u001b[0mname\u001b[0m\u001b[0;34m)\u001b[0m\u001b[0;34m(\u001b[0m\u001b[0my\u001b[0m\u001b[0;34m)\u001b[0m\u001b[0;34m\u001b[0m\u001b[0m\n\u001b[1;32m    799\u001b[0m                 \u001b[0;32mif\u001b[0m \u001b[0mresult\u001b[0m \u001b[0;32mis\u001b[0m \u001b[0mNotImplemented\u001b[0m\u001b[0;34m:\u001b[0m\u001b[0;34m\u001b[0m\u001b[0m\n\u001b[0;32m--> 800\u001b[0;31m                     \u001b[0;32mraise\u001b[0m \u001b[0mTypeError\u001b[0m\u001b[0;34m(\u001b[0m\u001b[0;34m\"invalid type comparison\"\u001b[0m\u001b[0;34m)\u001b[0m\u001b[0;34m\u001b[0m\u001b[0m\n\u001b[0m\u001b[1;32m    801\u001b[0m             \u001b[0;32mexcept\u001b[0m \u001b[0mAttributeError\u001b[0m\u001b[0;34m:\u001b[0m\u001b[0;34m\u001b[0m\u001b[0m\n\u001b[1;32m    802\u001b[0m                 \u001b[0mresult\u001b[0m \u001b[0;34m=\u001b[0m \u001b[0mop\u001b[0m\u001b[0;34m(\u001b[0m\u001b[0mx\u001b[0m\u001b[0;34m,\u001b[0m \u001b[0my\u001b[0m\u001b[0;34m)\u001b[0m\u001b[0;34m\u001b[0m\u001b[0m\n",
      "\u001b[0;31mTypeError\u001b[0m: invalid type comparison"
     ]
    }
   ],
   "source": [
    "summary_64=YoY_summary_df(df_YoY_compare_summary_64)\n",
    "summary_128=YoY_summary_df(df_YoY_compare_summary_128)\n",
    "summary_both_respective=YoY_summary_df(df_YoY_compare_summary_2_product)\n",
    "summary_both_together=YoY_summary_df(df_YoY_compare_summary)"
   ]
  },
  {
   "cell_type": "code",
   "execution_count": 25,
   "metadata": {},
   "outputs": [
    {
     "ename": "NameError",
     "evalue": "name 'summary_both_respective' is not defined",
     "output_type": "error",
     "traceback": [
      "\u001b[0;31m---------------------------------------------------------------------------\u001b[0m",
      "\u001b[0;31mNameError\u001b[0m                                 Traceback (most recent call last)",
      "\u001b[0;32m<ipython-input-25-bfb07de4f5c5>\u001b[0m in \u001b[0;36m<module>\u001b[0;34m()\u001b[0m\n\u001b[1;32m      1\u001b[0m \u001b[0msummary_64\u001b[0m\u001b[0;34m.\u001b[0m\u001b[0mto_excel\u001b[0m\u001b[0;34m(\u001b[0m\u001b[0mwriter\u001b[0m\u001b[0;34m,\u001b[0m\u001b[0;34m\"summary_64\"\u001b[0m\u001b[0;34m,\u001b[0m\u001b[0mindex\u001b[0m\u001b[0;34m=\u001b[0m\u001b[0;32mFalse\u001b[0m\u001b[0;34m)\u001b[0m\u001b[0;34m\u001b[0m\u001b[0m\n\u001b[1;32m      2\u001b[0m \u001b[0msummary_128\u001b[0m\u001b[0;34m.\u001b[0m\u001b[0mto_excel\u001b[0m\u001b[0;34m(\u001b[0m\u001b[0mwriter\u001b[0m\u001b[0;34m,\u001b[0m\u001b[0;34m\"summary_128\"\u001b[0m\u001b[0;34m,\u001b[0m\u001b[0mindex\u001b[0m\u001b[0;34m=\u001b[0m\u001b[0;32mFalse\u001b[0m\u001b[0;34m)\u001b[0m\u001b[0;34m\u001b[0m\u001b[0m\n\u001b[0;32m----> 3\u001b[0;31m \u001b[0msummary_both_respective\u001b[0m\u001b[0;34m.\u001b[0m\u001b[0mto_excel\u001b[0m\u001b[0;34m(\u001b[0m\u001b[0mwriter\u001b[0m\u001b[0;34m,\u001b[0m\u001b[0;34m\"summary_both_respective\"\u001b[0m\u001b[0;34m,\u001b[0m\u001b[0mindex\u001b[0m\u001b[0;34m=\u001b[0m\u001b[0;32mFalse\u001b[0m\u001b[0;34m)\u001b[0m\u001b[0;34m\u001b[0m\u001b[0m\n\u001b[0m\u001b[1;32m      4\u001b[0m \u001b[0msummary_both_together\u001b[0m\u001b[0;34m.\u001b[0m\u001b[0mto_excel\u001b[0m\u001b[0;34m(\u001b[0m\u001b[0mwriter\u001b[0m\u001b[0;34m,\u001b[0m\u001b[0;34m\"summary_both_together\"\u001b[0m\u001b[0;34m,\u001b[0m\u001b[0mindex\u001b[0m\u001b[0;34m=\u001b[0m\u001b[0;32mFalse\u001b[0m\u001b[0;34m)\u001b[0m\u001b[0;34m\u001b[0m\u001b[0m\n",
      "\u001b[0;31mNameError\u001b[0m: name 'summary_both_respective' is not defined"
     ]
    }
   ],
   "source": [
    "summary_64.to_excel(writer,\"summary_64\",index=False)\n",
    "summary_128.to_excel(writer,\"summary_128\",index=False)\n",
    "summary_both_respective.to_excel(writer,\"summary_both_respective\",index=False)\n",
    "summary_both_together.to_excel(writer,\"summary_both_together\",index=False)"
   ]
  },
  {
   "cell_type": "code",
   "execution_count": 44,
   "metadata": {
    "collapsed": true
   },
   "outputs": [],
   "source": [
    "writer.save()"
   ]
  }
 ],
 "metadata": {
  "kernelspec": {
   "display_name": "Python 3",
   "language": "python",
   "name": "python3"
  },
  "language_info": {
   "codemirror_mode": {
    "name": "ipython",
    "version": 3
   },
   "file_extension": ".py",
   "mimetype": "text/x-python",
   "name": "python",
   "nbconvert_exporter": "python",
   "pygments_lexer": "ipython3",
   "version": "3.6.1"
  }
 },
 "nbformat": 4,
 "nbformat_minor": 2
}
