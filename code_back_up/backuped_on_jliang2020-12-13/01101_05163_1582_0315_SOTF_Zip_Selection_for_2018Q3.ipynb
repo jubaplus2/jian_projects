{
 "cells": [
  {
   "cell_type": "code",
   "execution_count": 32,
   "metadata": {
    "collapsed": true
   },
   "outputs": [],
   "source": [
    "import pandas as pd\n",
    "from haversine import haversine\n",
    "import datetime\n",
    "import gc\n",
    "import os\n",
    "import json\n",
    "today_str=str(datetime.datetime.now().date())\n"
   ]
  },
  {
   "cell_type": "code",
   "execution_count": 33,
   "metadata": {
    "collapsed": true
   },
   "outputs": [],
   "source": [
    "writer_folder=\"/home/jian/Projects/Big_Lots/New_TA/P_S_Selections/Q3_2018/SOTF_20180619/\"+today_str+\"/\"\n",
    "try:\n",
    "    os.stat(writer_folder)\n",
    "except:\n",
    "    os.mkdir(writer_folder)"
   ]
  },
  {
   "cell_type": "code",
   "execution_count": 34,
   "metadata": {
    "collapsed": true
   },
   "outputs": [],
   "source": [
    "store_list_Q3=pd.read_csv(\"/home/jian/Projects/Big_Lots/New_TA/P_S_Selections/Q3_2018/SOTF_20180619/SOTF_48_20180619.csv\",dtype=str)"
   ]
  },
  {
   "cell_type": "code",
   "execution_count": 35,
   "metadata": {},
   "outputs": [
    {
     "data": {
      "text/plain": [
       "(879, 7)"
      ]
     },
     "execution_count": 35,
     "metadata": {},
     "output_type": "execute_result"
    }
   ],
   "source": [
    "store_level_zips=pd.read_csv(\"/home/jian/Projects/Big_Lots/New_TA/zips_in_new_ta/sales_by_zip (Store level).csv\",dtype=str)\n",
    "store_level_zips_Q3_SOTF=store_level_zips[store_level_zips['location_id'].isin(store_list_Q3['location_id'])]\n",
    "store_level_zips_Q3_SOTF=pd.merge(store_level_zips_Q3_SOTF,store_list_Q3,on=\"location_id\",how=\"left\")\n",
    "\n",
    "store_level_zips_Q3_SOTF_P=store_level_zips_Q3_SOTF[store_level_zips_Q3_SOTF['revenue_flag']==\"P\"]\n",
    "store_level_zips_Q3_SOTF_P_keep_store=store_level_zips_Q3_SOTF_P[['zip','location_id','revenue_flag','Market']]\n",
    "store_level_zips_Q3_SOTF_P=store_level_zips_Q3_SOTF_P[['zip','revenue_flag','Market']].drop_duplicates()\n",
    "\n",
    "store_level_zips_Q3_SOTF_S=store_level_zips_Q3_SOTF[store_level_zips_Q3_SOTF['revenue_flag']==\"S\"]\n",
    "store_level_zips_Q3_SOTF_S=store_level_zips_Q3_SOTF_S[~store_level_zips_Q3_SOTF_S['zip'].isin(store_level_zips_Q3_SOTF_P['zip'])]\n",
    "store_level_zips_Q3_SOTF_S.shape\n"
   ]
  },
  {
   "cell_type": "code",
   "execution_count": 36,
   "metadata": {},
   "outputs": [
    {
     "data": {
      "text/plain": [
       "(48, 2)"
      ]
     },
     "execution_count": 36,
     "metadata": {},
     "output_type": "execute_result"
    }
   ],
   "source": [
    "store_zip=pd.read_excel(\"/home/jian/Projects/Big_Lots/New_TA/P_S_Selections/Store List 6.14.18 225PM.xlsx\",sheetname=\"Store List\",dtype=str)\n",
    "store_zip=store_zip.iloc[:1415,:]\n",
    "store_zip=store_zip[['Store','Zip']].rename(columns={\"Store\":\"location_id\",\"Zip\":\"store_zip\"})\n",
    "store_zip=store_zip[store_zip['location_id'].isin(store_list_Q3['location_id'])]\n",
    "store_zip.shape"
   ]
  },
  {
   "cell_type": "code",
   "execution_count": 37,
   "metadata": {},
   "outputs": [
    {
     "data": {
      "text/plain": [
       "(724, 10)"
      ]
     },
     "execution_count": 37,
     "metadata": {},
     "output_type": "execute_result"
    }
   ],
   "source": [
    "store_level_zips_Q3_SOTF_S=pd.merge(store_level_zips_Q3_SOTF_S,store_zip,on=\"location_id\",how=\"left\")\n",
    "store_level_zips_Q3_SOTF_S['zip_1st_dig']=store_level_zips_Q3_SOTF_S['zip'].apply(lambda x:x[0])\n",
    "store_level_zips_Q3_SOTF_S['store_1st_dig']=store_level_zips_Q3_SOTF_S['store_zip'].apply(lambda x:x[0])\n",
    "store_level_zips_Q3_SOTF_S=store_level_zips_Q3_SOTF_S[store_level_zips_Q3_SOTF_S['zip_1st_dig']==store_level_zips_Q3_SOTF_S['store_1st_dig']]\n",
    "store_level_zips_Q3_SOTF_S.shape"
   ]
  },
  {
   "cell_type": "code",
   "execution_count": null,
   "metadata": {
    "collapsed": true
   },
   "outputs": [],
   "source": []
  },
  {
   "cell_type": "code",
   "execution_count": 38,
   "metadata": {
    "collapsed": true
   },
   "outputs": [],
   "source": [
    "store_level_zips_Q3_SOTF_S_keep_store=store_level_zips_Q3_SOTF_S[['zip','location_id','revenue_flag','Market']]\n",
    "store_level_zips_Q3_SOTF_S=store_level_zips_Q3_SOTF_S[['zip','revenue_flag','Market']].drop_duplicates()\n",
    "store_level_zips_Q3_SOTF_S=store_level_zips_Q3_SOTF_S[~store_level_zips_Q3_SOTF_S['zip'].isin(store_level_zips_Q3_SOTF_P['zip'])]\n",
    "\n",
    "agg_zip_by_Market=store_level_zips_Q3_SOTF_P.append(store_level_zips_Q3_SOTF_S)\n",
    "agg_zip=agg_zip_by_Market[['zip','revenue_flag']].drop_duplicates()\n",
    "agg_zip_by_store=store_level_zips_Q3_SOTF_P_keep_store.append(store_level_zips_Q3_SOTF_S_keep_store)"
   ]
  },
  {
   "cell_type": "code",
   "execution_count": 39,
   "metadata": {},
   "outputs": [],
   "source": [
    "agg_zip_by_store=agg_zip_by_store[agg_zip_by_store['revenue_flag']==\"P\"]\n",
    "agg_zip_by_Market=agg_zip_by_Market[agg_zip_by_Market['revenue_flag']==\"P\"]\n",
    "agg_zip=agg_zip[agg_zip['revenue_flag']==\"P\"]"
   ]
  },
  {
   "cell_type": "code",
   "execution_count": 40,
   "metadata": {
    "collapsed": true
   },
   "outputs": [],
   "source": [
    "new_store_list=[x for x in store_list_Q3['location_id'] if x not in store_level_zips_Q3_SOTF['location_id'].unique()]\n",
    "store_list_20171115=pd.read_table(\"/home/jian/Projects/Big_Lots/New_TA/MediaStormStoreList_Nov15.txt\",sep=\"|\",dtype=str)\n",
    "zip_centers=json.load(open(\"/home/jian/Docs/Geo_mapping/center_of_rentrak_zip.json\",\"r\"))\n",
    "result=pd.DataFrame()\n",
    "i=0\n",
    "for store in new_store_list:\n",
    "   \n",
    "    lat=float(store_list_20171115['latitude_meas'][store_list_20171115['location_id']==store].tolist()[0])\n",
    "    long=float(store_list_20171115['longitude_meas'][store_list_20171115['location_id']==store].tolist()[0])\n",
    "    zip_for_store=store_list_20171115['zip_cd'][store_list_20171115['location_id']==store].tolist()[0]\n",
    "    market=store_list_Q3['Market'][store_list_Q3['location_id']==store].tolist()[0]\n",
    "    \n",
    "    store_center=(lat,long)\n",
    "    \n",
    "    result_df=pd.DataFrame()\n",
    "\n",
    "    for zip_5 in zip_centers.keys():    \n",
    "        dist=haversine(store_center,zip_centers[zip_5],miles=True)\n",
    "        if dist<=10:        \n",
    "            df=pd.DataFrame({\"zip_cd\":zip_5,\"Center_Lat\":zip_centers[zip_5][0],\"Center_Long\":zip_centers[zip_5][1],\"Distance_Mile\":dist},index=[i])\n",
    "            i=i+1\n",
    "            result_df=result_df.append(df)\n",
    "    result_df['Store_id']=store\n",
    "    result_df['Store_zip']=zip_for_store\n",
    "    result_df=result_df[['Store_id','Store_zip','zip_cd','Center_Lat','Center_Long','Distance_Mile']]\n",
    "    result_df['Market']=market\n",
    "    result=result.append(result_df)\n",
    "new_mile_10_store=result[['zip_cd','Store_id','Market']].rename(columns={\"zip_cd\":\"zip\",\"Store_id\":\"location_id\"})\n",
    "new_mile_10_store['revenue_flag']=\"Within_10_miles\"\n",
    "new_mile_10_store=new_mile_10_store[['zip','location_id','revenue_flag','Market']]\n",
    "new_mile_10=result[['zip_cd','Store_id','Market']].rename(columns={\"zip_cd\":\"zip\",\"Store_id\":\"revenue_flag\"})\n",
    "new_mile_10['revenue_flag']=new_mile_10['revenue_flag'].apply(lambda x: \"10_miles_for_store_\"+x)\n",
    "\n"
   ]
  },
  {
   "cell_type": "code",
   "execution_count": null,
   "metadata": {
    "collapsed": true
   },
   "outputs": [],
   "source": []
  },
  {
   "cell_type": "code",
   "execution_count": 41,
   "metadata": {
    "collapsed": true
   },
   "outputs": [],
   "source": [
    "agg_zip_by_Market=agg_zip_by_Market.append(new_mile_10)\n",
    "del new_mile_10['Market']\n",
    "agg_zip=agg_zip.append(new_mile_10)\n",
    "agg_zip_by_store=agg_zip_by_store.append(new_mile_10_store)"
   ]
  },
  {
   "cell_type": "code",
   "execution_count": 42,
   "metadata": {
    "collapsed": true
   },
   "outputs": [],
   "source": [
    "writer=pd.ExcelWriter(writer_folder+\"BL_P_only_zips_for_SOTF_48_stores\"+today_str+\".xlsx\",engine=\"xlsxwriter\")\n",
    "agg_zip.to_excel(writer,\"deduplicated_zips\",index=False)\n",
    "agg_zip_by_Market.to_excel(writer,\"zips_by_Market\",index=False)\n",
    "agg_zip_by_store.to_excel(writer,\"zips_by_store\",index=False)\n",
    "writer.save()\n"
   ]
  },
  {
   "cell_type": "code",
   "execution_count": null,
   "metadata": {
    "collapsed": true
   },
   "outputs": [],
   "source": []
  },
  {
   "cell_type": "code",
   "execution_count": null,
   "metadata": {
    "collapsed": true
   },
   "outputs": [],
   "source": []
  }
 ],
 "metadata": {
  "kernelspec": {
   "display_name": "Python 3",
   "language": "python",
   "name": "python3"
  },
  "language_info": {
   "codemirror_mode": {
    "name": "ipython",
    "version": 3
   },
   "file_extension": ".py",
   "mimetype": "text/x-python",
   "name": "python",
   "nbconvert_exporter": "python",
   "pygments_lexer": "ipython3",
   "version": "3.6.1"
  }
 },
 "nbformat": 4,
 "nbformat_minor": 2
}
