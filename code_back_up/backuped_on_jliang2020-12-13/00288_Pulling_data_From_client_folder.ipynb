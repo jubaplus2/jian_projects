{
 "cells": [
  {
   "cell_type": "code",
   "execution_count": 1,
   "metadata": {},
   "outputs": [
    {
     "data": {
      "text/plain": [
       "'/home/jian/Projects/Big_Lots/Analysis/2019_Q4/Facebook_coupons'"
      ]
     },
     "execution_count": 1,
     "metadata": {},
     "output_type": "execute_result"
    }
   ],
   "source": [
    "import pandas as pd\n",
    "import os\n",
    "import datetime\n",
    "import numpy as np\n",
    "import paramiko\n",
    "import glob\n",
    "os.getcwd()"
   ]
  },
  {
   "cell_type": "code",
   "execution_count": 2,
   "metadata": {
    "collapsed": true
   },
   "outputs": [],
   "source": [
    "host = \"64.237.51.251\" #hard-coded\n",
    "port = 22\n",
    "transport = paramiko.Transport((host, port))\n",
    "\n",
    "password = \"bwRi3V6fgZsfJrMl\" #hard-coded\n",
    "username = \"client\" #hard-coded\n",
    "transport.connect(username = username, password = password)\n",
    "sftp = paramiko.SFTPClient.from_transport(transport)"
   ]
  },
  {
   "cell_type": "code",
   "execution_count": 13,
   "metadata": {
    "collapsed": true
   },
   "outputs": [],
   "source": [
    "remote_folder=\"/mnt/drv5/biglots_data/\"\n",
    "list_remote_basenames=sftp.listdir(remote_folder)\n",
    "\n",
    "remote_list=[]\n",
    "\n",
    "for file in list_remote_basenames:\n",
    "    date_modified=pd.to_datetime(sftp.stat(remote_folder+file).st_mtime,unit=\"s\").date()\n",
    "    if date_modified==datetime.date(2019,12,2) or date_modified==datetime.date(2019,12,4):\n",
    "        if \".zip\" in file:\n",
    "            remote_list.append(remote_folder+file)\n"
   ]
  },
  {
   "cell_type": "code",
   "execution_count": 14,
   "metadata": {},
   "outputs": [
    {
     "data": {
      "text/plain": [
       "['/mnt/drv5/biglots_data/hash_full_file_redeemers_1201.zip',\n",
       " '/mnt/drv5/biglots_data/hash_control_1201.zip',\n",
       " '/mnt/drv5/biglots_data/hash_email_only.zip',\n",
       " '/mnt/drv5/biglots_data/hash_facebook_email_1201.zip',\n",
       " '/mnt/drv5/biglots_data/hash_facebook_only_1201.zip']"
      ]
     },
     "execution_count": 14,
     "metadata": {},
     "output_type": "execute_result"
    }
   ],
   "source": [
    "remote_list"
   ]
  },
  {
   "cell_type": "code",
   "execution_count": 15,
   "metadata": {
    "collapsed": true
   },
   "outputs": [],
   "source": [
    "for remote_file in remote_list:\n",
    "    sftp.get(remote_file,\"./\"+os.path.basename(remote_file))"
   ]
  },
  {
   "cell_type": "code",
   "execution_count": 16,
   "metadata": {
    "collapsed": true
   },
   "outputs": [],
   "source": [
    "sftp.close()\n",
    "transport.close()"
   ]
  },
  {
   "cell_type": "code",
   "execution_count": 17,
   "metadata": {},
   "outputs": [
    {
     "data": {
      "text/plain": [
       "'/home/jian/Projects/Big_Lots/Analysis/2019_Q4/Facebook_coupons'"
      ]
     },
     "execution_count": 17,
     "metadata": {},
     "output_type": "execute_result"
    }
   ],
   "source": [
    "local_folder=os.getcwd()\n",
    "local_folder"
   ]
  },
  {
   "cell_type": "code",
   "execution_count": 18,
   "metadata": {},
   "outputs": [
    {
     "name": "stdout",
     "output_type": "stream",
     "text": [
      "hash_full_file_redeemers_1201.zip (262870, 2)\n",
      "['hashed_customer_num', 'hashed_email_address']\n",
      "hash_control_1201.zip (100000, 2)\n",
      "['hashed_customer_num', 'hashed_email_address']\n",
      "hash_email_only.zip (15875958, 2)\n",
      "['hashed_customer_num', 'hashed_email_address']\n",
      "hash_facebook_email_1201.zip (6400000, 2)\n",
      "['hashed_customer_num', 'hashed_email_address']\n",
      "hash_facebook_only_1201.zip (500000, 2)\n",
      "['hashed_customer_num', 'hashed_email_address']\n"
     ]
    }
   ],
   "source": [
    "dict_all_dfs=dict()\n",
    "for file in glob.glob(local_folder+\"/*.zip\"):\n",
    "    df=pd.read_csv(file,dtype=str,sep=\"|\",compression=\"zip\")\n",
    "    print(os.path.basename(file),df.shape)\n",
    "    print(df.columns.tolist())\n",
    "    dict_all_dfs.update({os.path.basename(file):df})"
   ]
  },
  {
   "cell_type": "code",
   "execution_count": 19,
   "metadata": {
    "collapsed": true
   },
   "outputs": [],
   "source": [
    "# To the folder path\n",
    "host = \"64.237.51.251\" #hard-coded\n",
    "port = 22\n",
    "transport = paramiko.Transport((host, port))\n",
    "\n",
    "password = \"bwRi3V6fgZsfJrMl\" #hard-coded\n",
    "username = \"client\" #hard-coded\n",
    "transport.connect(username = username, password = password)\n",
    "sftp = paramiko.SFTPClient.from_transport(transport)\n",
    "\n",
    "remote_folder=\"/mnt/drv5/biglots_data/\"\n",
    "list_remote_basenames=sftp.listdir(remote_folder)\n",
    "\n",
    "remote_list=[]\n",
    "\n",
    "for file in list_remote_basenames:\n",
    "    date_modified=pd.to_datetime(sftp.stat(remote_folder+file).st_mtime,unit=\"s\").date()\n",
    "    if date_modified==datetime.date(2019,12,2) or date_modified==datetime.date(2019,12,4):\n",
    "        if \".zip\" in file:\n",
    "            remote_list.append(remote_folder+file)\n",
    "            \n"
   ]
  },
  {
   "cell_type": "code",
   "execution_count": 20,
   "metadata": {
    "collapsed": true
   },
   "outputs": [],
   "source": [
    "local_folder=\"/home/jian/BigLots/others/FB_5_offer_20191203/\"\n",
    "for remote_file in remote_list:\n",
    "    sftp.get(remote_file,local_folder+os.path.basename(remote_file))\n",
    "    \n",
    "sftp.close()\n",
    "transport.close()"
   ]
  },
  {
   "cell_type": "code",
   "execution_count": null,
   "metadata": {
    "collapsed": true
   },
   "outputs": [],
   "source": []
  }
 ],
 "metadata": {
  "kernelspec": {
   "display_name": "Python 3",
   "language": "python",
   "name": "python3"
  },
  "language_info": {
   "codemirror_mode": {
    "name": "ipython",
    "version": 3
   },
   "file_extension": ".py",
   "mimetype": "text/x-python",
   "name": "python",
   "nbconvert_exporter": "python",
   "pygments_lexer": "ipython3",
   "version": "3.6.1"
  }
 },
 "nbformat": 4,
 "nbformat_minor": 2
}
