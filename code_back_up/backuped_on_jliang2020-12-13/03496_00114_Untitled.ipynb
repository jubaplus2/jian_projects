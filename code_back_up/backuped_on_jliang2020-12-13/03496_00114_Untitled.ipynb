{
 "cells": [
  {
   "cell_type": "code",
   "execution_count": 18,
   "metadata": {},
   "outputs": [
    {
     "data": {
      "text/plain": [
       "'/home/jian/BigLots'"
      ]
     },
     "execution_count": 18,
     "metadata": {},
     "output_type": "execute_result"
    }
   ],
   "source": [
    "import paramiko\n",
    "import os\n",
    "import datetime\n",
    "\n",
    "os.getcwd()"
   ]
  },
  {
   "cell_type": "code",
   "execution_count": 19,
   "metadata": {
    "collapsed": true
   },
   "outputs": [],
   "source": [
    "folderpath = '/home/jian/BiglotsCode/outputs/'\n",
    "lastweeksdate=str(datetime.datetime.now().date()-datetime.timedelta(days=datetime.datetime.now().date().weekday()-1+10))\n",
    "\n",
    "Tuesday_StampDate_Str=str(datetime.datetime.now().date()-datetime.timedelta(days=datetime.datetime.now().date().weekday()-1))\n",
    "Tuesday_today_str =Tuesday_StampDate_Str[0:4]+Tuesday_StampDate_Str[5:7]+Tuesday_StampDate_Str[8:10]\n",
    "thisweeksdate=str(datetime.datetime.now().date()-datetime.timedelta(days=datetime.datetime.now().date().weekday()-1+3))\n",
    "\n",
    "today_str=str(datetime.datetime.now().date())\n",
    "# logging.basicConfig(filename='celery.log', level=logging.INFO)\n",
    "\n",
    "\n",
    "# In[2]:\n",
    "\n",
    "recent_weekly_data_folder=\"/home/jian/BigLots/MediaStorm_\"+thisweeksdate+\"/\"\n",
    "Simeng_recent_weekly_data_folder=\"/home/simeng/outputs_\"+thisweeksdate+\"/\"\n",
    "\n",
    "Saturday_str=str(datetime.datetime.now().date()-datetime.timedelta(days=datetime.datetime.now().date().weekday()-1+3-7))\n"
   ]
  },
  {
   "cell_type": "code",
   "execution_count": 20,
   "metadata": {},
   "outputs": [],
   "source": [
    "del Saturday_str\n",
    "    \n",
    "try:\n",
    "    os.stat(recent_weekly_data_folder)\n",
    "except:\n",
    "    os.mkdir(recent_weekly_data_folder)\n",
    "\n",
    "try:\n",
    "    os.stat(Simeng_recent_weekly_data_folder)\n",
    "except:\n",
    "    os.mkdir(Simeng_recent_weekly_data_folder)\n",
    "\n",
    "# logging.info(str(datetime.datetime.now())+\": Start Running\")\n",
    "# In[3]:\n",
    "\n",
    "host = \"64.237.51.251\" #hard-coded\n",
    "port = 22\n",
    "transport = paramiko.Transport((host, port))\n",
    "\n",
    "password = \"bwRi3V6fgZsfJrMl\" #hard-coded\n",
    "username = \"client\" #hard-coded\n",
    "transport.connect(username = username, password = password)\n",
    "sftp = paramiko.SFTPClient.from_transport(transport)\n",
    "\n",
    "\n",
    "Client_Today_STR=str(datetime.datetime.now().date())\n",
    "Client_Today_NUM_STR =Client_Today_STR[0:4]+Client_Today_STR[5:7]+Client_Today_STR[8:10]\n",
    "\n",
    "new_weekly_file_list=sftp.listdir(\"/mnt/drv5/biglots_data/\")\n",
    "new_weekly_file_list=[\"/mnt/drv5/biglots_data/\"+x for x in new_weekly_file_list if Client_Today_NUM_STR in x]\n",
    "\n",
    "for new_weekly_file in new_weekly_file_list:\n",
    "    localpath=recent_weekly_data_folder+new_weekly_file.split(\"/\")[len(new_weekly_file.split(\"/\"))-1]\n",
    "    try:\n",
    "        os.stat(localpath)\n",
    "    except:\n",
    "        sftp.get(new_weekly_file,localpath)\n",
    "\n",
    "sftp.close()\n",
    "transport.close()"
   ]
  },
  {
   "cell_type": "code",
   "execution_count": 21,
   "metadata": {
    "collapsed": true
   },
   "outputs": [],
   "source": [
    "host = \"64.237.51.251\" #hard-coded\n",
    "port = 22\n",
    "transport = paramiko.Transport((host, port))\n",
    "\n",
    "password = \"bwRi3V6fgZsfJrMl\" #hard-coded\n",
    "username = \"client\" #hard-coded\n",
    "transport.connect(username = username, password = password)\n",
    "sftp = paramiko.SFTPClient.from_transport(transport)\n"
   ]
  },
  {
   "cell_type": "code",
   "execution_count": 22,
   "metadata": {},
   "outputs": [
    {
     "data": {
      "text/plain": [
       "'20191212'"
      ]
     },
     "execution_count": 22,
     "metadata": {},
     "output_type": "execute_result"
    }
   ],
   "source": [
    "Client_Today_NUM_STR"
   ]
  },
  {
   "cell_type": "code",
   "execution_count": 23,
   "metadata": {
    "collapsed": true
   },
   "outputs": [],
   "source": [
    "new_weekly_file_list=sftp.listdir(\"/mnt/drv5/biglots_data/\")\n",
    "new_weekly_file_list=[\"/mnt/drv5/biglots_data/\"+x for x in new_weekly_file_list if \"20191211\" in x]\n",
    "\n",
    "for new_weekly_file in new_weekly_file_list:\n",
    "    localpath=recent_weekly_data_folder+new_weekly_file.split(\"/\")[len(new_weekly_file.split(\"/\"))-1]\n",
    "    try:\n",
    "        os.stat(localpath)\n",
    "    except:\n",
    "        sftp.get(new_weekly_file,localpath)"
   ]
  },
  {
   "cell_type": "code",
   "execution_count": 25,
   "metadata": {
    "collapsed": true
   },
   "outputs": [],
   "source": [
    "remote_path_POS=\"/mnt/drv5/biglots_data/MediaStormDailySales.txt\""
   ]
  },
  {
   "cell_type": "code",
   "execution_count": 26,
   "metadata": {},
   "outputs": [
    {
     "name": "stdout",
     "output_type": "stream",
     "text": [
      "/home/jian/BigLots/MediaStorm_2019-12-07/MediaStormDailySales.txt\n"
     ]
    }
   ],
   "source": [
    "localpath=recent_weekly_data_folder+remote_path_POS.split(\"/\")[len(remote_path_POS.split(\"/\"))-1]\n",
    "print(localpath)"
   ]
  },
  {
   "cell_type": "code",
   "execution_count": 27,
   "metadata": {},
   "outputs": [],
   "source": [
    "sftp.get(remote_path_POS,localpath)"
   ]
  },
  {
   "cell_type": "code",
   "execution_count": 28,
   "metadata": {
    "collapsed": true
   },
   "outputs": [],
   "source": [
    "sftp.close()\n",
    "transport.close()"
   ]
  },
  {
   "cell_type": "code",
   "execution_count": 29,
   "metadata": {},
   "outputs": [
    {
     "data": {
      "text/plain": [
       "'/home/jian/BigLots/MediaStorm_2019-12-07/MediaStormDailySales.txt'"
      ]
     },
     "execution_count": 29,
     "metadata": {},
     "output_type": "execute_result"
    }
   ],
   "source": [
    "localpath"
   ]
  },
  {
   "cell_type": "code",
   "execution_count": 30,
   "metadata": {},
   "outputs": [
    {
     "data": {
      "text/html": [
       "<div>\n",
       "<style scoped>\n",
       "    .dataframe tbody tr th:only-of-type {\n",
       "        vertical-align: middle;\n",
       "    }\n",
       "\n",
       "    .dataframe tbody tr th {\n",
       "        vertical-align: top;\n",
       "    }\n",
       "\n",
       "    .dataframe thead th {\n",
       "        text-align: right;\n",
       "    }\n",
       "</style>\n",
       "<table border=\"1\" class=\"dataframe\">\n",
       "  <thead>\n",
       "    <tr style=\"text-align: right;\">\n",
       "      <th></th>\n",
       "      <th>location_id</th>\n",
       "      <th>transaction_dt</th>\n",
       "      <th>transaction_id</th>\n",
       "      <th>customer_id_hashed</th>\n",
       "      <th>class_code_id</th>\n",
       "      <th>subclass_id</th>\n",
       "      <th>item_id</th>\n",
       "      <th>item_transaction_units</th>\n",
       "      <th>item_transaction_amt</th>\n",
       "    </tr>\n",
       "  </thead>\n",
       "  <tbody>\n",
       "    <tr>\n",
       "      <th>0</th>\n",
       "      <td>1875</td>\n",
       "      <td>2019-12-01</td>\n",
       "      <td>7520</td>\n",
       "      <td>NaN</td>\n",
       "      <td>25002</td>\n",
       "      <td>1</td>\n",
       "      <td>810447954</td>\n",
       "      <td>1</td>\n",
       "      <td>00000000000012.0000</td>\n",
       "    </tr>\n",
       "    <tr>\n",
       "      <th>1</th>\n",
       "      <td>346</td>\n",
       "      <td>2019-12-04</td>\n",
       "      <td>1871</td>\n",
       "      <td>f33fa8063dab3f143fcc3b569f2eedb57871d2dec8bb31...</td>\n",
       "      <td>33002</td>\n",
       "      <td>4</td>\n",
       "      <td>810349920</td>\n",
       "      <td>1</td>\n",
       "      <td>00000000000003.5000</td>\n",
       "    </tr>\n",
       "    <tr>\n",
       "      <th>2</th>\n",
       "      <td>1635</td>\n",
       "      <td>2019-12-06</td>\n",
       "      <td>8491</td>\n",
       "      <td>NaN</td>\n",
       "      <td>13002</td>\n",
       "      <td>1</td>\n",
       "      <td>810442749</td>\n",
       "      <td>1</td>\n",
       "      <td>00000000000003.5000</td>\n",
       "    </tr>\n",
       "    <tr>\n",
       "      <th>3</th>\n",
       "      <td>4562</td>\n",
       "      <td>2019-12-01</td>\n",
       "      <td>3864</td>\n",
       "      <td>986afd09182d81d7047458f7dd5b70a85356d1034488ce...</td>\n",
       "      <td>36001</td>\n",
       "      <td>8</td>\n",
       "      <td>810117887</td>\n",
       "      <td>1</td>\n",
       "      <td>00000000000005.0000</td>\n",
       "    </tr>\n",
       "    <tr>\n",
       "      <th>4</th>\n",
       "      <td>5345</td>\n",
       "      <td>2019-12-07</td>\n",
       "      <td>5116</td>\n",
       "      <td>f8cd6553d490c3149b7adaa36d08514b066fe64bec9242...</td>\n",
       "      <td>11004</td>\n",
       "      <td>1</td>\n",
       "      <td>810212056</td>\n",
       "      <td>1</td>\n",
       "      <td>00000000000002.5000</td>\n",
       "    </tr>\n",
       "    <tr>\n",
       "      <th>...</th>\n",
       "      <td>...</td>\n",
       "      <td>...</td>\n",
       "      <td>...</td>\n",
       "      <td>...</td>\n",
       "      <td>...</td>\n",
       "      <td>...</td>\n",
       "      <td>...</td>\n",
       "      <td>...</td>\n",
       "      <td>...</td>\n",
       "    </tr>\n",
       "    <tr>\n",
       "      <th>99995</th>\n",
       "      <td>4539</td>\n",
       "      <td>2019-12-01</td>\n",
       "      <td>7603</td>\n",
       "      <td>NaN</td>\n",
       "      <td>27005</td>\n",
       "      <td>3</td>\n",
       "      <td>810220381</td>\n",
       "      <td>1</td>\n",
       "      <td>00000000000004.0000</td>\n",
       "    </tr>\n",
       "    <tr>\n",
       "      <th>99996</th>\n",
       "      <td>4150</td>\n",
       "      <td>2019-12-01</td>\n",
       "      <td>108</td>\n",
       "      <td>NaN</td>\n",
       "      <td>36007</td>\n",
       "      <td>2</td>\n",
       "      <td>360027452</td>\n",
       "      <td>1</td>\n",
       "      <td>00000000000012.0000</td>\n",
       "    </tr>\n",
       "    <tr>\n",
       "      <th>99997</th>\n",
       "      <td>4263</td>\n",
       "      <td>2019-12-04</td>\n",
       "      <td>5807</td>\n",
       "      <td>NaN</td>\n",
       "      <td>48001</td>\n",
       "      <td>3</td>\n",
       "      <td>810446346</td>\n",
       "      <td>1</td>\n",
       "      <td>00000000000005.0000</td>\n",
       "    </tr>\n",
       "    <tr>\n",
       "      <th>99998</th>\n",
       "      <td>4595</td>\n",
       "      <td>2019-12-03</td>\n",
       "      <td>6022</td>\n",
       "      <td>4ce73362c79d4c4c973ae82761ddd70bece07adc24458d...</td>\n",
       "      <td>16003</td>\n",
       "      <td>2</td>\n",
       "      <td>810437966</td>\n",
       "      <td>1</td>\n",
       "      <td>00000000000009.9900</td>\n",
       "    </tr>\n",
       "    <tr>\n",
       "      <th>99999</th>\n",
       "      <td>1589</td>\n",
       "      <td>2019-12-01</td>\n",
       "      <td>2902</td>\n",
       "      <td>3a4f3b9c402ea271af548b366242290412756d8aa96a50...</td>\n",
       "      <td>35084</td>\n",
       "      <td>5</td>\n",
       "      <td>810360280</td>\n",
       "      <td>1</td>\n",
       "      <td>00000000000004.0000</td>\n",
       "    </tr>\n",
       "  </tbody>\n",
       "</table>\n",
       "<p>100000 rows × 9 columns</p>\n",
       "</div>"
      ],
      "text/plain": [
       "      location_id transaction_dt transaction_id  \\\n",
       "0            1875     2019-12-01           7520   \n",
       "1             346     2019-12-04           1871   \n",
       "2            1635     2019-12-06           8491   \n",
       "3            4562     2019-12-01           3864   \n",
       "4            5345     2019-12-07           5116   \n",
       "...           ...            ...            ...   \n",
       "99995        4539     2019-12-01           7603   \n",
       "99996        4150     2019-12-01            108   \n",
       "99997        4263     2019-12-04           5807   \n",
       "99998        4595     2019-12-03           6022   \n",
       "99999        1589     2019-12-01           2902   \n",
       "\n",
       "                                      customer_id_hashed class_code_id  \\\n",
       "0                                                    NaN         25002   \n",
       "1      f33fa8063dab3f143fcc3b569f2eedb57871d2dec8bb31...         33002   \n",
       "2                                                    NaN         13002   \n",
       "3      986afd09182d81d7047458f7dd5b70a85356d1034488ce...         36001   \n",
       "4      f8cd6553d490c3149b7adaa36d08514b066fe64bec9242...         11004   \n",
       "...                                                  ...           ...   \n",
       "99995                                                NaN         27005   \n",
       "99996                                                NaN         36007   \n",
       "99997                                                NaN         48001   \n",
       "99998  4ce73362c79d4c4c973ae82761ddd70bece07adc24458d...         16003   \n",
       "99999  3a4f3b9c402ea271af548b366242290412756d8aa96a50...         35084   \n",
       "\n",
       "      subclass_id    item_id item_transaction_units  item_transaction_amt  \n",
       "0               1  810447954                      1   00000000000012.0000  \n",
       "1               4  810349920                      1   00000000000003.5000  \n",
       "2               1  810442749                      1   00000000000003.5000  \n",
       "3               8  810117887                      1   00000000000005.0000  \n",
       "4               1  810212056                      1   00000000000002.5000  \n",
       "...           ...        ...                    ...                   ...  \n",
       "99995           3  810220381                      1   00000000000004.0000  \n",
       "99996           2  360027452                      1   00000000000012.0000  \n",
       "99997           3  810446346                      1   00000000000005.0000  \n",
       "99998           2  810437966                      1   00000000000009.9900  \n",
       "99999           5  810360280                      1   00000000000004.0000  \n",
       "\n",
       "[100000 rows x 9 columns]"
      ]
     },
     "execution_count": 30,
     "metadata": {},
     "output_type": "execute_result"
    }
   ],
   "source": [
    "import pandas as pd\n",
    "df=pd.read_csv(localpath,dtype=str,nrows=100000,sep=\"|\")\n",
    "df"
   ]
  },
  {
   "cell_type": "code",
   "execution_count": 31,
   "metadata": {},
   "outputs": [
    {
     "data": {
      "text/plain": [
       "'2019-12-07'"
      ]
     },
     "execution_count": 31,
     "metadata": {},
     "output_type": "execute_result"
    }
   ],
   "source": [
    "df['transaction_dt'].max()"
   ]
  },
  {
   "cell_type": "code",
   "execution_count": 32,
   "metadata": {},
   "outputs": [
    {
     "data": {
      "text/plain": [
       "'2019-12-01'"
      ]
     },
     "execution_count": 32,
     "metadata": {},
     "output_type": "execute_result"
    }
   ],
   "source": [
    "df['transaction_dt'].min()"
   ]
  },
  {
   "cell_type": "code",
   "execution_count": null,
   "metadata": {
    "collapsed": true
   },
   "outputs": [],
   "source": []
  }
 ],
 "metadata": {
  "kernelspec": {
   "display_name": "Python 3",
   "language": "python",
   "name": "python3"
  },
  "language_info": {
   "codemirror_mode": {
    "name": "ipython",
    "version": 3
   },
   "file_extension": ".py",
   "mimetype": "text/x-python",
   "name": "python",
   "nbconvert_exporter": "python",
   "pygments_lexer": "ipython3",
   "version": "3.6.1"
  }
 },
 "nbformat": 4,
 "nbformat_minor": 2
}
