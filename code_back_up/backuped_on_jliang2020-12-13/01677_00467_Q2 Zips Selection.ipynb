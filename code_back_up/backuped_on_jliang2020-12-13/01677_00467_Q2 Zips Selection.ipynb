{
 "cells": [
  {
   "cell_type": "code",
   "execution_count": 21,
   "metadata": {
    "collapsed": true
   },
   "outputs": [],
   "source": [
    "import pandas as pd\n",
    "import numpy as np\n"
   ]
  },
  {
   "cell_type": "code",
   "execution_count": 22,
   "metadata": {
    "collapsed": true
   },
   "outputs": [],
   "source": [
    "DMA_List=pd.read_excel(\"/home/jian/Projects/Big_Lots/New_TA/Q2 zip selection/BL_Q2_selected_DMAs_JL_20180330.xlsx\",dtype=str)"
   ]
  },
  {
   "cell_type": "code",
   "execution_count": 28,
   "metadata": {},
   "outputs": [],
   "source": [
    "zip_by_store=pd.read_csv(\"/home/jian/Projects/Big_Lots/New_TA/sales_by_zip_by_store_0330.csv\",dtype=str)"
   ]
  },
  {
   "cell_type": "code",
   "execution_count": 33,
   "metadata": {},
   "outputs": [],
   "source": [
    "store_DMA=pd.read_excel(\"/home/jian/Projects/Big_Lots/Other Input/all_store_DMA.xlsx\",dtype=str)\n",
    "store_DMA=store_DMA[['location_id','DMA']]"
   ]
  },
  {
   "cell_type": "code",
   "execution_count": 34,
   "metadata": {},
   "outputs": [],
   "source": [
    "zip_by_store=pd.merge(zip_by_store,store_DMA,on=\"location_id\",how=\"left\")"
   ]
  },
  {
   "cell_type": "code",
   "execution_count": 38,
   "metadata": {},
   "outputs": [],
   "source": [
    "store_HML_lable=pd.read_excel(\"/home/jian/Projects/Big_Lots/Other Input/BL_Store Sales and Ratio Groups 2017 Year_JL_20180110.xlsx\",skiprows=1)"
   ]
  },
  {
   "cell_type": "code",
   "execution_count": 43,
   "metadata": {},
   "outputs": [],
   "source": [
    "store_HML_lable=store_HML_lable[['location_id','Sales Group','Ratio Group']]"
   ]
  },
  {
   "cell_type": "code",
   "execution_count": 79,
   "metadata": {
    "collapsed": true
   },
   "outputs": [],
   "source": [
    "store_level_revenue_zip=zip_by_store[['zip','revenue_flag','location_id']]\n",
    "store_level_revenue_zip=store_level_revenue_zip.groupby(['location_id','revenue_flag'])['zip'].apply(list).to_frame()\n",
    "store_level_revenue_zip.reset_index(inplace=True)\n",
    "store_level_revenue_zip=store_level_revenue_zip.pivot(\"location_id\",'revenue_flag','zip')\n",
    "store_level_revenue_zip.reset_index(inplace=True)\n",
    "store_level_revenue_zip.columns=[\"location_id\",\"revenue_P\",\"revenue_S\",\"Revenue_T\"]"
   ]
  },
  {
   "cell_type": "code",
   "execution_count": 80,
   "metadata": {},
   "outputs": [],
   "source": [
    "store_level_transaction_zip=zip_by_store[['zip','transaction_flag','location_id']]\n",
    "store_level_transaction_zip=store_level_transaction_zip.groupby(['location_id','transaction_flag'])['zip'].apply(list).to_frame()\n",
    "store_level_transaction_zip.reset_index(inplace=True)\n",
    "store_level_transaction_zip=store_level_transaction_zip.pivot(\"location_id\",'transaction_flag','zip')\n",
    "store_level_transaction_zip.reset_index(inplace=True)\n",
    "store_level_transaction_zip.columns=[\"location_id\",\"transaction_P\",\"transaction_S\",\"transaction_T\"]"
   ]
  },
  {
   "cell_type": "code",
   "execution_count": 81,
   "metadata": {},
   "outputs": [],
   "source": [
    "store_level_zip_df=pd.merge(store_level_revenue_zip,store_level_transaction_zip,on=\"location_id\",how=\"outer\")"
   ]
  },
  {
   "cell_type": "code",
   "execution_count": 89,
   "metadata": {},
   "outputs": [],
   "source": [
    "Store_TA=pd.read_csv(\"/home/jian/BiglotsCode/OtherInput/New_TA_info.csv\",dtype=str)\n",
    "Store_TA['TA']=Store_TA['Ta_Info'].apply(lambda x: x.split(\" | \")[0])\n",
    "Store_TA=Store_TA[['location_id','TA']]"
   ]
  },
  {
   "cell_type": "code",
   "execution_count": 92,
   "metadata": {},
   "outputs": [],
   "source": [
    "store_level_zip_df=pd.merge(Store_TA,store_level_zip_df,on=\"location_id\",how=\"outer\")"
   ]
  },
  {
   "cell_type": "code",
   "execution_count": 94,
   "metadata": {},
   "outputs": [],
   "source": [
    "store_level_zip_df.to_csv(\"/home/jian/Projects/Big_Lots/New_TA/new_ta_zips_by_store_0330.csv\",index=False)"
   ]
  },
  {
   "cell_type": "code",
   "execution_count": 106,
   "metadata": {},
   "outputs": [
    {
     "data": {
      "text/plain": [
       "1407"
      ]
     },
     "execution_count": 106,
     "metadata": {},
     "output_type": "execute_result"
    }
   ],
   "source": [
    "len(zip_by_store['location_id'].unique())"
   ]
  },
  {
   "cell_type": "code",
   "execution_count": 104,
   "metadata": {},
   "outputs": [],
   "source": []
  },
  {
   "cell_type": "code",
   "execution_count": 105,
   "metadata": {},
   "outputs": [
    {
     "data": {
      "text/plain": [
       "(4, 7)"
      ]
     },
     "execution_count": 105,
     "metadata": {},
     "output_type": "execute_result"
    }
   ],
   "source": []
  },
  {
   "cell_type": "code",
   "execution_count": null,
   "metadata": {
    "collapsed": true
   },
   "outputs": [],
   "source": []
  }
 ],
 "metadata": {
  "kernelspec": {
   "display_name": "Python 3",
   "language": "python",
   "name": "python3"
  },
  "language_info": {
   "codemirror_mode": {
    "name": "ipython",
    "version": 3
   },
   "file_extension": ".py",
   "mimetype": "text/x-python",
   "name": "python",
   "nbconvert_exporter": "python",
   "pygments_lexer": "ipython3",
   "version": "3.6.1"
  }
 },
 "nbformat": 4,
 "nbformat_minor": 2
}
