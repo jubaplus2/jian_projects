{
 "cells": [
  {
   "cell_type": "code",
   "execution_count": 56,
   "metadata": {},
   "outputs": [],
   "source": [
    "import pandas as pd\n",
    "import numpy as np\n",
    "import datetime\n",
    "import json\n",
    "import glob\n",
    "from fuzzywuzzy import fuzz\n",
    "from haversine import haversine"
   ]
  },
  {
   "cell_type": "code",
   "execution_count": 4,
   "metadata": {},
   "outputs": [],
   "source": [
    "new_store_list=pd.read_csv(\"/home/jian/Projects/Smoothie_King/weekly_TA_updates/output_20190311/new_store_appared.csv\",dtype=str)\n",
    "\n",
    "new_store_list['address_str']=new_store_list['Address']+\", \"+new_store_list['city']+\", \"+new_store_list['state']+\", \"+new_store_list['zip']\n",
    "new_store_list=new_store_list[['storenumber','address_str']].drop_duplicates()\n",
    "\n"
   ]
  },
  {
   "cell_type": "code",
   "execution_count": 12,
   "metadata": {},
   "outputs": [
    {
     "data": {
      "text/plain": [
       "['Emerald City Smoothie',\n",
       " 'Mr. Smoothie',\n",
       " 'Planet Smoothie',\n",
       " 'Pulp Juice and Smoothie Bar',\n",
       " 'Smoothie King',\n",
       " 'Tropical Smoothie Café']"
      ]
     },
     "execution_count": 12,
     "metadata": {},
     "output_type": "execute_result"
    }
   ],
   "source": [
    "latest_SG_brand_info=pd.read_csv(\"/home/jian/Docs/SafeGraph/places_20190228/brand_info/part-00000-tid-5936742275909629561-4034b3da-5c73-494f-b611-27b92f5ac7cc-571-c000.csv.gz\",\n",
    "                                dtype=str,compression=\"gzip\",sep=\"|\")\n",
    "[x for x in latest_SG_brand_info['brand_name'].unique().tolist() if \"moothie\" in x]"
   ]
  },
  {
   "cell_type": "code",
   "execution_count": 17,
   "metadata": {},
   "outputs": [],
   "source": [
    "POI_data=glob.glob(\"/home/jian/Docs/SafeGraph/places_20190228/poi/*csv.gz\")"
   ]
  },
  {
   "cell_type": "code",
   "execution_count": 21,
   "metadata": {},
   "outputs": [
    {
     "name": "stdout",
     "output_type": "stream",
     "text": [
      "2019-03-11 16:37:17.075931 /home/jian/Docs/SafeGraph/places_20190228/poi/part-00006-tid-8303730837246125361-bea94277-caea-404c-90f6-6a1d6288e138-569-c000.csv.gz\n",
      "2019-03-11 16:37:29.030787 /home/jian/Docs/SafeGraph/places_20190228/poi/part-00000-tid-8303730837246125361-bea94277-caea-404c-90f6-6a1d6288e138-563-c000.csv.gz\n",
      "2019-03-11 16:37:40.594701 /home/jian/Docs/SafeGraph/places_20190228/poi/part-00004-tid-8303730837246125361-bea94277-caea-404c-90f6-6a1d6288e138-567-c000.csv.gz\n",
      "2019-03-11 16:37:52.182384 /home/jian/Docs/SafeGraph/places_20190228/poi/part-00003-tid-8303730837246125361-bea94277-caea-404c-90f6-6a1d6288e138-566-c000.csv.gz\n",
      "2019-03-11 16:38:03.451803 /home/jian/Docs/SafeGraph/places_20190228/poi/part-00007-tid-8303730837246125361-bea94277-caea-404c-90f6-6a1d6288e138-570-c000.csv.gz\n",
      "2019-03-11 16:38:15.062153 /home/jian/Docs/SafeGraph/places_20190228/poi/part-00002-tid-8303730837246125361-bea94277-caea-404c-90f6-6a1d6288e138-565-c000.csv.gz\n",
      "2019-03-11 16:38:26.624044 /home/jian/Docs/SafeGraph/places_20190228/poi/part-00005-tid-8303730837246125361-bea94277-caea-404c-90f6-6a1d6288e138-568-c000.csv.gz\n",
      "2019-03-11 16:38:38.391827 /home/jian/Docs/SafeGraph/places_20190228/poi/part-00001-tid-8303730837246125361-bea94277-caea-404c-90f6-6a1d6288e138-564-c000.csv.gz\n"
     ]
    }
   ],
   "source": [
    "all_SG_SK_POI=pd.DataFrame()\n",
    "\n",
    "for file in POI_data:\n",
    "    df=pd.read_csv(file,dtype=str,compression=\"gzip\",sep=\"|\")\n",
    "    df=df[df['brands']==\"Smoothie King\"]\n",
    "    all_SG_SK_POI=all_SG_SK_POI.append(df)\n",
    "    print(datetime.datetime.now(),file)"
   ]
  },
  {
   "cell_type": "code",
   "execution_count": 25,
   "metadata": {},
   "outputs": [
    {
     "name": "stdout",
     "output_type": "stream",
     "text": [
      "(852, 18)\n"
     ]
    },
    {
     "data": {
      "text/html": [
       "<div>\n",
       "<style>\n",
       "    .dataframe thead tr:only-child th {\n",
       "        text-align: right;\n",
       "    }\n",
       "\n",
       "    .dataframe thead th {\n",
       "        text-align: left;\n",
       "    }\n",
       "\n",
       "    .dataframe tbody tr th {\n",
       "        vertical-align: top;\n",
       "    }\n",
       "</style>\n",
       "<table border=\"1\" class=\"dataframe\">\n",
       "  <thead>\n",
       "    <tr style=\"text-align: right;\">\n",
       "      <th></th>\n",
       "      <th>safegraph_place_id</th>\n",
       "      <th>parent_safegraph_place_id</th>\n",
       "      <th>safegraph_brand_ids</th>\n",
       "      <th>location_name</th>\n",
       "      <th>brands</th>\n",
       "      <th>top_category</th>\n",
       "      <th>sub_category</th>\n",
       "      <th>naics_code</th>\n",
       "      <th>latitude</th>\n",
       "      <th>longitude</th>\n",
       "      <th>street_address</th>\n",
       "      <th>city</th>\n",
       "      <th>state</th>\n",
       "      <th>zip_code</th>\n",
       "      <th>open_hours</th>\n",
       "      <th>polygon_wkt</th>\n",
       "      <th>polygon_class</th>\n",
       "      <th>phone_number</th>\n",
       "    </tr>\n",
       "  </thead>\n",
       "  <tbody>\n",
       "    <tr>\n",
       "      <th>0</th>\n",
       "      <td>sg:5efcd8654a3e46ad831c773ea76529df</td>\n",
       "      <td>NaN</td>\n",
       "      <td>SG_BRAND_19800a6b4d6fb62e6752413f3ac722ef</td>\n",
       "      <td>Smoothie King</td>\n",
       "      <td>Smoothie King</td>\n",
       "      <td>Restaurants and Other Eating Places</td>\n",
       "      <td>Snack and Nonalcoholic Beverage Bars</td>\n",
       "      <td>722515</td>\n",
       "      <td>35.148282</td>\n",
       "      <td>-80.833469</td>\n",
       "      <td>4736 sharon road</td>\n",
       "      <td>charlotte</td>\n",
       "      <td>nc</td>\n",
       "      <td>28210</td>\n",
       "      <td>{ \"Mon\": [[\"7:00\", \"21:00\"]], \"Tue\": [[\"7:00\",...</td>\n",
       "      <td>POLYGON ((-80.833462 35.148348, -80.833385 35....</td>\n",
       "      <td>SHARED_POLYGON</td>\n",
       "      <td>17049005550</td>\n",
       "    </tr>\n",
       "    <tr>\n",
       "      <th>1</th>\n",
       "      <td>sg:79312f30ff1543708c0cfbbd028dc5a3</td>\n",
       "      <td>NaN</td>\n",
       "      <td>SG_BRAND_19800a6b4d6fb62e6752413f3ac722ef</td>\n",
       "      <td>Smoothie King</td>\n",
       "      <td>Smoothie King</td>\n",
       "      <td>Restaurants and Other Eating Places</td>\n",
       "      <td>Snack and Nonalcoholic Beverage Bars</td>\n",
       "      <td>722515</td>\n",
       "      <td>25.685367</td>\n",
       "      <td>-80.398544</td>\n",
       "      <td>12520 south west 88th street</td>\n",
       "      <td>miami</td>\n",
       "      <td>fl</td>\n",
       "      <td>33186</td>\n",
       "      <td>{ \"Mon\": [[\"7:00\", \"22:00\"]], \"Tue\": [[\"7:00\",...</td>\n",
       "      <td>POLYGON ((-80.398614 25.685253, -80.39863 25.6...</td>\n",
       "      <td>SHARED_POLYGON</td>\n",
       "      <td>13055987004</td>\n",
       "    </tr>\n",
       "  </tbody>\n",
       "</table>\n",
       "</div>"
      ],
      "text/plain": [
       "                    safegraph_place_id parent_safegraph_place_id  \\\n",
       "0  sg:5efcd8654a3e46ad831c773ea76529df                       NaN   \n",
       "1  sg:79312f30ff1543708c0cfbbd028dc5a3                       NaN   \n",
       "\n",
       "                         safegraph_brand_ids  location_name         brands  \\\n",
       "0  SG_BRAND_19800a6b4d6fb62e6752413f3ac722ef  Smoothie King  Smoothie King   \n",
       "1  SG_BRAND_19800a6b4d6fb62e6752413f3ac722ef  Smoothie King  Smoothie King   \n",
       "\n",
       "                          top_category                          sub_category  \\\n",
       "0  Restaurants and Other Eating Places  Snack and Nonalcoholic Beverage Bars   \n",
       "1  Restaurants and Other Eating Places  Snack and Nonalcoholic Beverage Bars   \n",
       "\n",
       "  naics_code   latitude   longitude                street_address       city  \\\n",
       "0     722515  35.148282  -80.833469              4736 sharon road  charlotte   \n",
       "1     722515  25.685367  -80.398544  12520 south west 88th street      miami   \n",
       "\n",
       "  state zip_code                                         open_hours  \\\n",
       "0    nc    28210  { \"Mon\": [[\"7:00\", \"21:00\"]], \"Tue\": [[\"7:00\",...   \n",
       "1    fl    33186  { \"Mon\": [[\"7:00\", \"22:00\"]], \"Tue\": [[\"7:00\",...   \n",
       "\n",
       "                                         polygon_wkt   polygon_class  \\\n",
       "0  POLYGON ((-80.833462 35.148348, -80.833385 35....  SHARED_POLYGON   \n",
       "1  POLYGON ((-80.398614 25.685253, -80.39863 25.6...  SHARED_POLYGON   \n",
       "\n",
       "  phone_number  \n",
       "0  17049005550  \n",
       "1  13055987004  "
      ]
     },
     "execution_count": 25,
     "metadata": {},
     "output_type": "execute_result"
    }
   ],
   "source": [
    "all_SG_SK_POI=all_SG_SK_POI.reset_index()\n",
    "del all_SG_SK_POI['index']\n",
    "print(all_SG_SK_POI.shape)\n",
    "all_SG_SK_POI.head(2)"
   ]
  },
  {
   "cell_type": "code",
   "execution_count": 31,
   "metadata": {},
   "outputs": [],
   "source": [
    "all_SG_SK_POI['SG_address_str']=all_SG_SK_POI['street_address']+\", \"+all_SG_SK_POI['city']+\", \"+\\\n",
    "                                all_SG_SK_POI['state']+\", \"+all_SG_SK_POI['zip_code']"
   ]
  },
  {
   "cell_type": "code",
   "execution_count": 36,
   "metadata": {
    "collapsed": true
   },
   "outputs": [],
   "source": [
    "def match_best_str(str_value,list_2):\n",
    "    str_value=str_value.lower()\n",
    "    ratio_max=0\n",
    "    best_match=\"\"\n",
    "    for SG_add in list_2:\n",
    "        ratio=fuzz.partial_ratio(str_value,SG_add)\n",
    "        if ratio>ratio_max:\n",
    "            ratio_max=ratio\n",
    "            best_match=SG_add\n",
    "    return [best_match,ratio_max]"
   ]
  },
  {
   "cell_type": "code",
   "execution_count": 45,
   "metadata": {},
   "outputs": [
    {
     "name": "stderr",
     "output_type": "stream",
     "text": [
      "/usr/local/lib/python3.6/site-packages/ipykernel_launcher.py:13: SettingWithCopyWarning: \n",
      "A value is trying to be set on a copy of a slice from a DataFrame\n",
      "\n",
      "See the caveats in the documentation: http://pandas.pydata.org/pandas-docs/stable/indexing.html#indexing-view-versus-copy\n",
      "  del sys.path[0]\n",
      "/usr/local/lib/python3.6/site-packages/pandas/core/indexing.py:179: SettingWithCopyWarning: \n",
      "A value is trying to be set on a copy of a slice from a DataFrame\n",
      "\n",
      "See the caveats in the documentation: http://pandas.pydata.org/pandas-docs/stable/indexing.html#indexing-view-versus-copy\n",
      "  self._setitem_with_indexer(indexer, value)\n",
      "/usr/local/lib/python3.6/site-packages/ipykernel_launcher.py:14: SettingWithCopyWarning: \n",
      "A value is trying to be set on a copy of a slice from a DataFrame\n",
      "\n",
      "See the caveats in the documentation: http://pandas.pydata.org/pandas-docs/stable/indexing.html#indexing-view-versus-copy\n",
      "  \n"
     ]
    }
   ],
   "source": [
    "all_SG_SK_POI['matched_new_stores']=np.nan\n",
    "all_SG_SK_POI['highest_score']=0\n",
    "for i in range(len(all_SG_SK_POI)):\n",
    "    max_ratio=0\n",
    "    best_match=np.nan\n",
    "    store_SG=all_SG_SK_POI['SG_address_str'][i]\n",
    "    for new_store_add in new_store_list['address_str'].tolist():\n",
    "        new_ratio=fuzz.partial_ratio(store_SG,new_store_add.lower())\n",
    "        if new_ratio>max_ratio:\n",
    "            max_ratio=new_ratio\n",
    "            best_match=new_store_add\n",
    "            \n",
    "    all_SG_SK_POI['matched_new_stores'][i]=best_match\n",
    "    all_SG_SK_POI['highest_score'][i]=max_ratio"
   ]
  },
  {
   "cell_type": "code",
   "execution_count": 48,
   "metadata": {},
   "outputs": [
    {
     "data": {
      "text/html": [
       "<div>\n",
       "<style>\n",
       "    .dataframe thead tr:only-child th {\n",
       "        text-align: right;\n",
       "    }\n",
       "\n",
       "    .dataframe thead th {\n",
       "        text-align: left;\n",
       "    }\n",
       "\n",
       "    .dataframe tbody tr th {\n",
       "        vertical-align: top;\n",
       "    }\n",
       "</style>\n",
       "<table border=\"1\" class=\"dataframe\">\n",
       "  <thead>\n",
       "    <tr style=\"text-align: right;\">\n",
       "      <th></th>\n",
       "      <th>SG_address_str</th>\n",
       "      <th>matched_new_stores</th>\n",
       "      <th>highest_score</th>\n",
       "    </tr>\n",
       "  </thead>\n",
       "  <tbody>\n",
       "    <tr>\n",
       "      <th>23</th>\n",
       "      <td>5300 richmond avenue, houston, tx, 77056</td>\n",
       "      <td>22377 BELLAIRE BLVD #600, Richmond, TX, 77407</td>\n",
       "      <td>62</td>\n",
       "    </tr>\n",
       "    <tr>\n",
       "      <th>68</th>\n",
       "      <td>7121 north west barry road, kansas city, mo, 6...</td>\n",
       "      <td>West Memorial Road, Oklahoma City, OK, 73114</td>\n",
       "      <td>65</td>\n",
       "    </tr>\n",
       "    <tr>\n",
       "      <th>140</th>\n",
       "      <td>11414 montgomery road, cincinnati, oh, 45242</td>\n",
       "      <td>3251 VANDERCAR WAY, CINCINNATI, OH, 45209DMA</td>\n",
       "      <td>64</td>\n",
       "    </tr>\n",
       "    <tr>\n",
       "      <th>142</th>\n",
       "      <td>9591 b colerain avenue, cincinnati, oh, 45251</td>\n",
       "      <td>3251 VANDERCAR WAY, CINCINNATI, OH, 45209DMA</td>\n",
       "      <td>66</td>\n",
       "    </tr>\n",
       "    <tr>\n",
       "      <th>155</th>\n",
       "      <td>1620 west fm 646 road, league city, tx, 77573</td>\n",
       "      <td>West Memorial Road, Oklahoma City, OK, 73114</td>\n",
       "      <td>62</td>\n",
       "    </tr>\n",
       "    <tr>\n",
       "      <th>172</th>\n",
       "      <td>324 west port plaza, saint louis, mo, 63146</td>\n",
       "      <td>6424 Chippewa St, St. Louis, MO, 63109</td>\n",
       "      <td>61</td>\n",
       "    </tr>\n",
       "    <tr>\n",
       "      <th>183</th>\n",
       "      <td>440 c ohio pike, cincinnati, oh, 45255</td>\n",
       "      <td>3251 VANDERCAR WAY, CINCINNATI, OH, 45209DMA</td>\n",
       "      <td>63</td>\n",
       "    </tr>\n",
       "    <tr>\n",
       "      <th>255</th>\n",
       "      <td>5921 south west third street, oklahoma city, o...</td>\n",
       "      <td>West Memorial Road, Oklahoma City, OK, 73114</td>\n",
       "      <td>69</td>\n",
       "    </tr>\n",
       "    <tr>\n",
       "      <th>363</th>\n",
       "      <td>4475 forest park avenue, saint louis, mo, 63108</td>\n",
       "      <td>6424 Chippewa St, St. Louis, MO, 63109</td>\n",
       "      <td>61</td>\n",
       "    </tr>\n",
       "    <tr>\n",
       "      <th>377</th>\n",
       "      <td>2700 childrens way, nashville, tn, 37212</td>\n",
       "      <td>6704 Whitestown Pkwy, Zionsville, IN, 46077</td>\n",
       "      <td>60</td>\n",
       "    </tr>\n",
       "    <tr>\n",
       "      <th>491</th>\n",
       "      <td>6020 westheimer, houston, tx, 77057</td>\n",
       "      <td>22377 BELLAIRE BLVD #600, Richmond, TX, 77407</td>\n",
       "      <td>61</td>\n",
       "    </tr>\n",
       "    <tr>\n",
       "      <th>534</th>\n",
       "      <td>4226 ella boulevard, houston, tx, 77018</td>\n",
       "      <td>22377 BELLAIRE BLVD #600, Richmond, TX, 77407</td>\n",
       "      <td>62</td>\n",
       "    </tr>\n",
       "    <tr>\n",
       "      <th>544</th>\n",
       "      <td>8825 state line road, kansas city, mo, 64114</td>\n",
       "      <td>West Memorial Road, Oklahoma City, OK, 73114</td>\n",
       "      <td>62</td>\n",
       "    </tr>\n",
       "    <tr>\n",
       "      <th>571</th>\n",
       "      <td>215 calhoun street, cincinnati, oh, 45219</td>\n",
       "      <td>3251 VANDERCAR WAY, CINCINNATI, OH, 45209DMA</td>\n",
       "      <td>68</td>\n",
       "    </tr>\n",
       "    <tr>\n",
       "      <th>638</th>\n",
       "      <td>9793 clayton road, saint louis, mo, 63124</td>\n",
       "      <td>6424 Chippewa St, St. Louis, MO, 63109</td>\n",
       "      <td>61</td>\n",
       "    </tr>\n",
       "    <tr>\n",
       "      <th>697</th>\n",
       "      <td>1211 pine street, saint louis, mo, 63103</td>\n",
       "      <td>6424 Chippewa St, St. Louis, MO, 63109</td>\n",
       "      <td>69</td>\n",
       "    </tr>\n",
       "  </tbody>\n",
       "</table>\n",
       "</div>"
      ],
      "text/plain": [
       "                                        SG_address_str  \\\n",
       "23            5300 richmond avenue, houston, tx, 77056   \n",
       "68   7121 north west barry road, kansas city, mo, 6...   \n",
       "140       11414 montgomery road, cincinnati, oh, 45242   \n",
       "142      9591 b colerain avenue, cincinnati, oh, 45251   \n",
       "155      1620 west fm 646 road, league city, tx, 77573   \n",
       "172        324 west port plaza, saint louis, mo, 63146   \n",
       "183             440 c ohio pike, cincinnati, oh, 45255   \n",
       "255  5921 south west third street, oklahoma city, o...   \n",
       "363    4475 forest park avenue, saint louis, mo, 63108   \n",
       "377           2700 childrens way, nashville, tn, 37212   \n",
       "491                6020 westheimer, houston, tx, 77057   \n",
       "534            4226 ella boulevard, houston, tx, 77018   \n",
       "544       8825 state line road, kansas city, mo, 64114   \n",
       "571          215 calhoun street, cincinnati, oh, 45219   \n",
       "638          9793 clayton road, saint louis, mo, 63124   \n",
       "697           1211 pine street, saint louis, mo, 63103   \n",
       "\n",
       "                                matched_new_stores  highest_score  \n",
       "23   22377 BELLAIRE BLVD #600, Richmond, TX, 77407             62  \n",
       "68    West Memorial Road, Oklahoma City, OK, 73114             65  \n",
       "140   3251 VANDERCAR WAY, CINCINNATI, OH, 45209DMA             64  \n",
       "142   3251 VANDERCAR WAY, CINCINNATI, OH, 45209DMA             66  \n",
       "155   West Memorial Road, Oklahoma City, OK, 73114             62  \n",
       "172         6424 Chippewa St, St. Louis, MO, 63109             61  \n",
       "183   3251 VANDERCAR WAY, CINCINNATI, OH, 45209DMA             63  \n",
       "255   West Memorial Road, Oklahoma City, OK, 73114             69  \n",
       "363         6424 Chippewa St, St. Louis, MO, 63109             61  \n",
       "377    6704 Whitestown Pkwy, Zionsville, IN, 46077             60  \n",
       "491  22377 BELLAIRE BLVD #600, Richmond, TX, 77407             61  \n",
       "534  22377 BELLAIRE BLVD #600, Richmond, TX, 77407             62  \n",
       "544   West Memorial Road, Oklahoma City, OK, 73114             62  \n",
       "571   3251 VANDERCAR WAY, CINCINNATI, OH, 45209DMA             68  \n",
       "638         6424 Chippewa St, St. Louis, MO, 63109             61  \n",
       "697         6424 Chippewa St, St. Louis, MO, 63109             69  "
      ]
     },
     "execution_count": 48,
     "metadata": {},
     "output_type": "execute_result"
    }
   ],
   "source": [
    "all_SG_SK_POI[all_SG_SK_POI['highest_score']>=60][['SG_address_str','matched_new_stores','highest_score']]\n",
    "\n",
    "# No match with SafeGraph found, Go to Google Manually"
   ]
  },
  {
   "cell_type": "code",
   "execution_count": 49,
   "metadata": {},
   "outputs": [
    {
     "data": {
      "text/html": [
       "<div>\n",
       "<style>\n",
       "    .dataframe thead tr:only-child th {\n",
       "        text-align: right;\n",
       "    }\n",
       "\n",
       "    .dataframe thead th {\n",
       "        text-align: left;\n",
       "    }\n",
       "\n",
       "    .dataframe tbody tr th {\n",
       "        vertical-align: top;\n",
       "    }\n",
       "</style>\n",
       "<table border=\"1\" class=\"dataframe\">\n",
       "  <thead>\n",
       "    <tr style=\"text-align: right;\">\n",
       "      <th></th>\n",
       "      <th>storenumber</th>\n",
       "      <th>address_str</th>\n",
       "    </tr>\n",
       "  </thead>\n",
       "  <tbody>\n",
       "    <tr>\n",
       "      <th>0</th>\n",
       "      <td>1646</td>\n",
       "      <td>550 DURBIN PAVILION DRIVE,SUITE G107, Durbin P...</td>\n",
       "    </tr>\n",
       "    <tr>\n",
       "      <th>1</th>\n",
       "      <td>1729</td>\n",
       "      <td>22377 BELLAIRE BLVD #600, Richmond, TX, 77407</td>\n",
       "    </tr>\n",
       "    <tr>\n",
       "      <th>2</th>\n",
       "      <td>1706</td>\n",
       "      <td>West Memorial Road, Oklahoma City, OK, 73114</td>\n",
       "    </tr>\n",
       "    <tr>\n",
       "      <th>3</th>\n",
       "      <td>1550</td>\n",
       "      <td>6424 Chippewa St, St. Louis, MO, 63109</td>\n",
       "    </tr>\n",
       "    <tr>\n",
       "      <th>4</th>\n",
       "      <td>1712</td>\n",
       "      <td>1615 Ulster Ave, Lake Katrine, NY, 12449</td>\n",
       "    </tr>\n",
       "    <tr>\n",
       "      <th>5</th>\n",
       "      <td>1742</td>\n",
       "      <td>6704 Whitestown Pkwy, Zionsville, IN, 46077</td>\n",
       "    </tr>\n",
       "    <tr>\n",
       "      <th>6</th>\n",
       "      <td>1719</td>\n",
       "      <td>3251 VANDERCAR WAY, CINCINNATI, OH, 45209DMA</td>\n",
       "    </tr>\n",
       "  </tbody>\n",
       "</table>\n",
       "</div>"
      ],
      "text/plain": [
       "  storenumber                                        address_str\n",
       "0        1646  550 DURBIN PAVILION DRIVE,SUITE G107, Durbin P...\n",
       "1        1729      22377 BELLAIRE BLVD #600, Richmond, TX, 77407\n",
       "2        1706       West Memorial Road, Oklahoma City, OK, 73114\n",
       "3        1550             6424 Chippewa St, St. Louis, MO, 63109\n",
       "4        1712           1615 Ulster Ave, Lake Katrine, NY, 12449\n",
       "5        1742        6704 Whitestown Pkwy, Zionsville, IN, 46077\n",
       "6        1719       3251 VANDERCAR WAY, CINCINNATI, OH, 45209DMA"
      ]
     },
     "execution_count": 49,
     "metadata": {},
     "output_type": "execute_result"
    }
   ],
   "source": [
    "new_store_list"
   ]
  },
  {
   "cell_type": "code",
   "execution_count": 53,
   "metadata": {},
   "outputs": [],
   "source": [
    "google_dict={}\n",
    "google_dict.update({\"1646\":{\"Google_Add\":\"550 Durbin, Pavilion Dr Suite G107, FL 32259\",\"Google_Coor\":[30.0984943,-81.5218346]}})\n",
    "google_dict.update({\"1729\":{\"Google_Add\":\"Suite #600, 22377 Bellaire Blvd Suite #600, Richmond, TX 77407\",\"Google_Coor\":[29.6907498,-95.768674]}})\n",
    "google_dict.update({\"1706\":{\"Google_Add\":\"1001 W Memorial Rd, Oklahoma City, OK 73114\",\"Google_Coor\":[35.6094343,-97.5313474]}})\n",
    "google_dict.update({\"1550\":{\"Google_Add\":\"6424 Chippewa St, St. Louis, MO 63109\",\"Google_Coor\":[38.5935397,-90.2987058]}})\n",
    "google_dict.update({\"1712\":{\"Google_Add\":\"1615 Ulster Ave, Lake Katrine, NY 12449\",\"Google_Coor\":[41.9789269,-73.9897915]}})\n",
    "google_dict.update({\"1742\":{\"Google_Add\":\"6704 Whitestown Pkwy, Zionsville, IN 46077\",\"Google_Coor\":[39.9499312,-86.3418943]}})\n",
    "google_dict.update({\"1719\":{\"Google_Add\":\"3251 Vandercar Way, Cincinnati, OH 45209\",\"Google_Coor\":[39.1582807,-84.4271971]}}) # No SK store found\n"
   ]
  },
  {
   "cell_type": "code",
   "execution_count": 60,
   "metadata": {},
   "outputs": [
    {
     "name": "stderr",
     "output_type": "stream",
     "text": [
      "/usr/local/lib/python3.6/site-packages/ipykernel_launcher.py:9: SettingWithCopyWarning: \n",
      "A value is trying to be set on a copy of a slice from a DataFrame\n",
      "\n",
      "See the caveats in the documentation: http://pandas.pydata.org/pandas-docs/stable/indexing.html#indexing-view-versus-copy\n",
      "  if __name__ == '__main__':\n"
     ]
    }
   ],
   "source": [
    "new_store_list=pd.read_csv(\"/home/jian/Projects/Smoothie_King/weekly_TA_updates/output_20190311/new_store_appared.csv\",dtype=str)\n",
    "new_store_list['Latitude']=new_store_list['Latitude'].astype(float)\n",
    "new_store_list['Longitude']=new_store_list['Longitude'].astype(float)\n",
    "new_store_list['dist']=np.nan\n",
    "for i in range(len(new_store_list)):\n",
    "    client_coor=[new_store_list['Latitude'][i],new_store_list['Longitude'][i]]\n",
    "    Google_coor=google_dict[new_store_list['storenumber'][i]]['Google_Coor']\n",
    "    dist=haversine(client_coor,Google_coor)*1000\n",
    "    new_store_list['dist'][i]=dist\n",
    "    \n",
    "    "
   ]
  },
  {
   "cell_type": "code",
   "execution_count": 65,
   "metadata": {},
   "outputs": [
    {
     "name": "stderr",
     "output_type": "stream",
     "text": [
      "/usr/local/lib/python3.6/site-packages/ipykernel_launcher.py:6: SettingWithCopyWarning: \n",
      "A value is trying to be set on a copy of a slice from a DataFrame.\n",
      "Try using .loc[row_indexer,col_indexer] = value instead\n",
      "\n",
      "See the caveats in the documentation: http://pandas.pydata.org/pandas-docs/stable/indexing.html#indexing-view-versus-copy\n",
      "  \n",
      "/usr/local/lib/python3.6/site-packages/ipykernel_launcher.py:7: SettingWithCopyWarning: \n",
      "A value is trying to be set on a copy of a slice from a DataFrame.\n",
      "Try using .loc[row_indexer,col_indexer] = value instead\n",
      "\n",
      "See the caveats in the documentation: http://pandas.pydata.org/pandas-docs/stable/indexing.html#indexing-view-versus-copy\n",
      "  import sys\n",
      "/usr/local/lib/python3.6/site-packages/ipykernel_launcher.py:8: SettingWithCopyWarning: \n",
      "A value is trying to be set on a copy of a slice from a DataFrame.\n",
      "Try using .loc[row_indexer,col_indexer] = value instead\n",
      "\n",
      "See the caveats in the documentation: http://pandas.pydata.org/pandas-docs/stable/indexing.html#indexing-view-versus-copy\n",
      "  \n",
      "/usr/local/lib/python3.6/site-packages/ipykernel_launcher.py:12: SettingWithCopyWarning: \n",
      "A value is trying to be set on a copy of a slice from a DataFrame.\n",
      "Try using .loc[row_indexer,col_indexer] = value instead\n",
      "\n",
      "See the caveats in the documentation: http://pandas.pydata.org/pandas-docs/stable/indexing.html#indexing-view-versus-copy\n",
      "  if sys.path[0] == '':\n",
      "/usr/local/lib/python3.6/site-packages/ipykernel_launcher.py:13: SettingWithCopyWarning: \n",
      "A value is trying to be set on a copy of a slice from a DataFrame.\n",
      "Try using .loc[row_indexer,col_indexer] = value instead\n",
      "\n",
      "See the caveats in the documentation: http://pandas.pydata.org/pandas-docs/stable/indexing.html#indexing-view-versus-copy\n",
      "  del sys.path[0]\n",
      "/usr/local/lib/python3.6/site-packages/ipykernel_launcher.py:14: SettingWithCopyWarning: \n",
      "A value is trying to be set on a copy of a slice from a DataFrame.\n",
      "Try using .loc[row_indexer,col_indexer] = value instead\n",
      "\n",
      "See the caveats in the documentation: http://pandas.pydata.org/pandas-docs/stable/indexing.html#indexing-view-versus-copy\n",
      "  \n"
     ]
    }
   ],
   "source": [
    "new_store_list['QC_level']=np.where(new_store_list['dist']<=30,\"Google_in_30_meters\",np.where(new_store_list['dist']<=100,\"Google_30_to_100_meters\",\"Google_above_100_meters\"))\n",
    "\n",
    "new_store_list_1=new_store_list[new_store_list['dist']<=30]\n",
    "new_store_list_2=new_store_list[new_store_list['dist']>30]\n",
    "\n",
    "new_store_list_1['assigned_lat']=new_store_list_1['Latitude']\n",
    "new_store_list_1['assigned_long']=new_store_list_1['Longitude']\n",
    "new_store_list_1['assigned_source']=\"Client_list\"\n",
    "\n",
    "\n",
    "\n",
    "new_store_list_2['assigned_lat']=new_store_list_2['storenumber'].apply(lambda x: google_dict[x]['Google_Coor'][0])\n",
    "new_store_list_2['assigned_long']=new_store_list_2['storenumber'].apply(lambda x: google_dict[x]['Google_Coor'][1])\n",
    "new_store_list_2['assigned_source']=\"Google_Map\"\n",
    "\n",
    "new_store_list=new_store_list_1.append(new_store_list_2)\n",
    "\n",
    "new_store_list['updated_date']=str(datetime.datetime.now().date())"
   ]
  },
  {
   "cell_type": "code",
   "execution_count": 64,
   "metadata": {},
   "outputs": [
    {
     "data": {
      "text/plain": [
       "[29.6907498, -95.768674]"
      ]
     },
     "execution_count": 64,
     "metadata": {},
     "output_type": "execute_result"
    }
   ],
   "source": [
    "google_dict['1729']['Google_Coor']"
   ]
  },
  {
   "cell_type": "code",
   "execution_count": 69,
   "metadata": {},
   "outputs": [],
   "source": [
    "a=new_store_list.columns.tolist()\n",
    "a.remove(\"dist\")\n",
    "new_store_list=new_store_list[a+[\"dist\"]]"
   ]
  },
  {
   "cell_type": "code",
   "execution_count": 72,
   "metadata": {},
   "outputs": [
    {
     "data": {
      "text/plain": [
       "'/home/jian/Projects/Smoothie_King/weekly_TA_updates'"
      ]
     },
     "execution_count": 72,
     "metadata": {},
     "output_type": "execute_result"
    }
   ],
   "source": [
    "import os\n",
    "\n",
    "os.getcwd()"
   ]
  },
  {
   "cell_type": "code",
   "execution_count": 73,
   "metadata": {},
   "outputs": [],
   "source": [
    "writer=pd.ExcelWriter(\"/home/jian/Projects/Smoothie_King/weekly_TA_updates/output_20190311/new_store_updates_\"+str(datetime.datetime.now().date())+\".xlsx\",engine=\"xlsxwriter\")\n",
    "\n",
    "new_store_list.to_excel(writer,\"New_Stores\",index=False)\n",
    "writer.save()"
   ]
  },
  {
   "cell_type": "code",
   "execution_count": null,
   "metadata": {
    "collapsed": true
   },
   "outputs": [],
   "source": []
  }
 ],
 "metadata": {
  "kernelspec": {
   "display_name": "Python 3",
   "language": "python",
   "name": "python3"
  },
  "language_info": {
   "codemirror_mode": {
    "name": "ipython",
    "version": 3
   },
   "file_extension": ".py",
   "mimetype": "text/x-python",
   "name": "python",
   "nbconvert_exporter": "python",
   "pygments_lexer": "ipython3",
   "version": "3.6.1"
  }
 },
 "nbformat": 4,
 "nbformat_minor": 2
}
