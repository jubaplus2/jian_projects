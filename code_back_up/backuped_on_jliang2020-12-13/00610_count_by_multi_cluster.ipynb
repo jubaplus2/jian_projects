{
 "cells": [
  {
   "cell_type": "code",
   "execution_count": 1,
   "metadata": {},
   "outputs": [
    {
     "data": {
      "text/plain": [
       "'/home/jian/Projects/Big_Lots/Analysis/2019_Q1/Experian'"
      ]
     },
     "execution_count": 1,
     "metadata": {},
     "output_type": "execute_result"
    }
   ],
   "source": [
    "import pandas as pd\n",
    "import os\n",
    "import datetime\n",
    "import numpy as np\n",
    "os.getcwd()"
   ]
  },
  {
   "cell_type": "code",
   "execution_count": 13,
   "metadata": {
    "collapsed": true
   },
   "outputs": [],
   "source": [
    "summary_cluster_HH_Income=data_HH.groupby(['multi_cluster','multi_cluster_desc','bl_income_range_desc'])['Customer_Num'].count().to_frame().reset_index()\n",
    "summary_cluster_GEO_Income=data_GEO.groupby(['multi_cluster','multi_cluster_desc','bl_income_range_desc'])['Customer_Num'].count().to_frame().reset_index()\n"
   ]
  },
  {
   "cell_type": "code",
   "execution_count": 14,
   "metadata": {},
   "outputs": [],
   "source": [
    "data_HH_sample=data_HH.head(10000)\n",
    "data_GEO_sample=data_GEO.head(10000)\n",
    "writer=pd.ExcelWriter(\"/home/jian/Projects/Big_Lots/Analysis/2019_Q1/Experian/Excel_Experian_Sample_10000_rows.xlsx\",engine=\"xlsxwriter\")\n",
    "data_HH_sample.to_excel(writer,\"data_HH_sample\",index=False)\n",
    "data_GEO_sample.to_excel(writer,\"data_GEO_sample\",index=False)\n",
    "summary_cluster_HH_Income.to_excel(writer,\"summary_cluster_HH_Income\",index=False)\n",
    "summary_cluster_GEO_Income.to_excel(writer,\"summary_cluster_GEO_Income\",index=False)\n",
    "\n",
    "\n",
    "\n",
    "writer.save()"
   ]
  },
  {
   "cell_type": "code",
   "execution_count": 8,
   "metadata": {},
   "outputs": [
    {
     "data": {
      "text/plain": [
       "(9313527, 16)"
      ]
     },
     "execution_count": 8,
     "metadata": {},
     "output_type": "execute_result"
    }
   ],
   "source": [
    "data_HH.shape"
   ]
  },
  {
   "cell_type": "code",
   "execution_count": 2,
   "metadata": {},
   "outputs": [
    {
     "data": {
      "text/html": [
       "<div>\n",
       "<style>\n",
       "    .dataframe thead tr:only-child th {\n",
       "        text-align: right;\n",
       "    }\n",
       "\n",
       "    .dataframe thead th {\n",
       "        text-align: left;\n",
       "    }\n",
       "\n",
       "    .dataframe tbody tr th {\n",
       "        vertical-align: top;\n",
       "    }\n",
       "</style>\n",
       "<table border=\"1\" class=\"dataframe\">\n",
       "  <thead>\n",
       "    <tr style=\"text-align: right;\">\n",
       "      <th></th>\n",
       "      <th>Customer_Num</th>\n",
       "      <th>Email_Address_hash</th>\n",
       "      <th>multi_cluster</th>\n",
       "      <th>multi_cluster_desc</th>\n",
       "      <th>bl_income_range_id</th>\n",
       "      <th>bl_income_range_desc</th>\n",
       "      <th>bl_age_range_id</th>\n",
       "      <th>bl_age_range_desc</th>\n",
       "      <th>bl_homerent_id</th>\n",
       "      <th>bl_homerent_desc</th>\n",
       "      <th>bl_child1_id</th>\n",
       "      <th>bl_child1_desc</th>\n",
       "      <th>bl_child2_id</th>\n",
       "      <th>bl_child2_desc</th>\n",
       "      <th>bl_lives_id</th>\n",
       "      <th>bl_lives_desc</th>\n",
       "    </tr>\n",
       "  </thead>\n",
       "  <tbody>\n",
       "    <tr>\n",
       "      <th>0</th>\n",
       "      <td>22336802</td>\n",
       "      <td>4e580ae1d4efd469fdeab567c263513b1ba77ebedabbd4...</td>\n",
       "      <td>7</td>\n",
       "      <td>Sporadic Seniors</td>\n",
       "      <td>3</td>\n",
       "      <td>&gt;= $100k</td>\n",
       "      <td>3</td>\n",
       "      <td>&gt;= 50</td>\n",
       "      <td>0</td>\n",
       "      <td>rents</td>\n",
       "      <td>0</td>\n",
       "      <td>?</td>\n",
       "      <td>0</td>\n",
       "      <td>?</td>\n",
       "      <td>1</td>\n",
       "      <td>multi family or condo</td>\n",
       "    </tr>\n",
       "    <tr>\n",
       "      <th>1</th>\n",
       "      <td>14396649</td>\n",
       "      <td>0167d70a0cbb24a45057148deea0ca6d48d81f2e4d2d3b...</td>\n",
       "      <td>3</td>\n",
       "      <td>Infrequent Families</td>\n",
       "      <td>3</td>\n",
       "      <td>&gt;= $100k</td>\n",
       "      <td>3</td>\n",
       "      <td>&gt;= 50</td>\n",
       "      <td>0</td>\n",
       "      <td>rents</td>\n",
       "      <td>0</td>\n",
       "      <td>?</td>\n",
       "      <td>0</td>\n",
       "      <td>?</td>\n",
       "      <td>1</td>\n",
       "      <td>multi family or condo</td>\n",
       "    </tr>\n",
       "  </tbody>\n",
       "</table>\n",
       "</div>"
      ],
      "text/plain": [
       "  Customer_Num                                 Email_Address_hash  \\\n",
       "0     22336802  4e580ae1d4efd469fdeab567c263513b1ba77ebedabbd4...   \n",
       "1     14396649  0167d70a0cbb24a45057148deea0ca6d48d81f2e4d2d3b...   \n",
       "\n",
       "  multi_cluster   multi_cluster_desc bl_income_range_id bl_income_range_desc  \\\n",
       "0             7     Sporadic Seniors                  3             >= $100k   \n",
       "1             3  Infrequent Families                  3             >= $100k   \n",
       "\n",
       "  bl_age_range_id bl_age_range_desc bl_homerent_id bl_homerent_desc  \\\n",
       "0               3             >= 50              0            rents   \n",
       "1               3             >= 50              0            rents   \n",
       "\n",
       "  bl_child1_id bl_child1_desc bl_child2_id bl_child2_desc bl_lives_id  \\\n",
       "0            0              ?            0              ?           1   \n",
       "1            0              ?            0              ?           1   \n",
       "\n",
       "           bl_lives_desc  \n",
       "0  multi family or condo  \n",
       "1  multi family or condo  "
      ]
     },
     "execution_count": 2,
     "metadata": {},
     "output_type": "execute_result"
    }
   ],
   "source": [
    "data_HH=pd.read_table(\"/home/jian/Projects/Big_Lots/Analysis/2019_Q1/Experian/MS_Experian_HH_Full.zip\",dtype=str,compression=\"zip\",sep=\"|\")\n",
    "data_HH.head(2)"
   ]
  },
  {
   "cell_type": "code",
   "execution_count": 7,
   "metadata": {},
   "outputs": [
    {
     "data": {
      "text/plain": [
       "(1, 16)"
      ]
     },
     "execution_count": 7,
     "metadata": {},
     "output_type": "execute_result"
    }
   ],
   "source": [
    "data_HH[data_HH['bl_income_range_desc']==\"?\"].shape"
   ]
  },
  {
   "cell_type": "code",
   "execution_count": 5,
   "metadata": {},
   "outputs": [
    {
     "data": {
      "text/html": [
       "<div>\n",
       "<style>\n",
       "    .dataframe thead tr:only-child th {\n",
       "        text-align: right;\n",
       "    }\n",
       "\n",
       "    .dataframe thead th {\n",
       "        text-align: left;\n",
       "    }\n",
       "\n",
       "    .dataframe tbody tr th {\n",
       "        vertical-align: top;\n",
       "    }\n",
       "</style>\n",
       "<table border=\"1\" class=\"dataframe\">\n",
       "  <thead>\n",
       "    <tr style=\"text-align: right;\">\n",
       "      <th></th>\n",
       "      <th>Customer_Num</th>\n",
       "      <th>Email_Address_hash</th>\n",
       "      <th>multi_cluster</th>\n",
       "      <th>multi_cluster_desc</th>\n",
       "      <th>bl_income_range_id</th>\n",
       "      <th>bl_income_range_desc</th>\n",
       "      <th>bl_age_range_id</th>\n",
       "      <th>bl_age_range_desc</th>\n",
       "      <th>bl_homerent_id</th>\n",
       "      <th>bl_homerent_desc</th>\n",
       "      <th>bl_child1_id</th>\n",
       "      <th>bl_child1_desc</th>\n",
       "      <th>bl_child2_id</th>\n",
       "      <th>bl_child2_desc</th>\n",
       "      <th>bl_lives_id</th>\n",
       "      <th>bl_lives_desc</th>\n",
       "    </tr>\n",
       "  </thead>\n",
       "  <tbody>\n",
       "    <tr>\n",
       "      <th>0</th>\n",
       "      <td>30585134</td>\n",
       "      <td>28f63d30e5fb0af27d3e2cc5a36dd78f73e0b94419ca0f...</td>\n",
       "      <td>5</td>\n",
       "      <td>Home Focused</td>\n",
       "      <td>3</td>\n",
       "      <td>&gt;= $100k</td>\n",
       "      <td>2</td>\n",
       "      <td>between 35 and 50</td>\n",
       "      <td>1</td>\n",
       "      <td>own house</td>\n",
       "      <td>0</td>\n",
       "      <td>?</td>\n",
       "      <td>0</td>\n",
       "      <td>?</td>\n",
       "      <td>0</td>\n",
       "      <td>single family home</td>\n",
       "    </tr>\n",
       "    <tr>\n",
       "      <th>1</th>\n",
       "      <td>46842257</td>\n",
       "      <td>37601cdc39589eefa35e569986956c267fe3e24fae81e4...</td>\n",
       "      <td>4</td>\n",
       "      <td>Urban Affluence</td>\n",
       "      <td>3</td>\n",
       "      <td>&gt;= $100k</td>\n",
       "      <td>2</td>\n",
       "      <td>between 35 and 50</td>\n",
       "      <td>1</td>\n",
       "      <td>own house</td>\n",
       "      <td>1</td>\n",
       "      <td>age between 0-6</td>\n",
       "      <td>0</td>\n",
       "      <td>?</td>\n",
       "      <td>0</td>\n",
       "      <td>single family home</td>\n",
       "    </tr>\n",
       "  </tbody>\n",
       "</table>\n",
       "</div>"
      ],
      "text/plain": [
       "  Customer_Num                                 Email_Address_hash  \\\n",
       "0     30585134  28f63d30e5fb0af27d3e2cc5a36dd78f73e0b94419ca0f...   \n",
       "1     46842257  37601cdc39589eefa35e569986956c267fe3e24fae81e4...   \n",
       "\n",
       "  multi_cluster multi_cluster_desc bl_income_range_id bl_income_range_desc  \\\n",
       "0             5       Home Focused                  3             >= $100k   \n",
       "1             4    Urban Affluence                  3             >= $100k   \n",
       "\n",
       "  bl_age_range_id  bl_age_range_desc bl_homerent_id bl_homerent_desc  \\\n",
       "0               2  between 35 and 50              1        own house   \n",
       "1               2  between 35 and 50              1        own house   \n",
       "\n",
       "  bl_child1_id   bl_child1_desc bl_child2_id bl_child2_desc bl_lives_id  \\\n",
       "0            0                ?            0              ?           0   \n",
       "1            1  age between 0-6            0              ?           0   \n",
       "\n",
       "        bl_lives_desc  \n",
       "0  single family home  \n",
       "1  single family home  "
      ]
     },
     "execution_count": 5,
     "metadata": {},
     "output_type": "execute_result"
    }
   ],
   "source": [
    "data_GEO=pd.read_table(\"/home/jian/Projects/Big_Lots/Analysis/2019_Q1/Experian/MS_Experian_GEO_Full.zip\",dtype=str,compression=\"zip\",sep=\"|\")\n",
    "data_GEO.head(2)"
   ]
  },
  {
   "cell_type": "code",
   "execution_count": 3,
   "metadata": {},
   "outputs": [
    {
     "data": {
      "text/plain": [
       "array(['>= $100k', '?', '< $50k', 'between $50k and $100k'], dtype=object)"
      ]
     },
     "execution_count": 3,
     "metadata": {},
     "output_type": "execute_result"
    }
   ],
   "source": [
    "data_HH['bl_income_range_desc'].unique()"
   ]
  },
  {
   "cell_type": "code",
   "execution_count": 6,
   "metadata": {},
   "outputs": [
    {
     "data": {
      "text/plain": [
       "array(['>= $100k', '< $50k', 'between $50k and $100k'], dtype=object)"
      ]
     },
     "execution_count": 6,
     "metadata": {},
     "output_type": "execute_result"
    }
   ],
   "source": [
    "data_GEO['bl_income_range_desc'].unique()"
   ]
  },
  {
   "cell_type": "code",
   "execution_count": 11,
   "metadata": {},
   "outputs": [
    {
     "data": {
      "text/html": [
       "<div>\n",
       "<style>\n",
       "    .dataframe thead tr:only-child th {\n",
       "        text-align: right;\n",
       "    }\n",
       "\n",
       "    .dataframe thead th {\n",
       "        text-align: left;\n",
       "    }\n",
       "\n",
       "    .dataframe tbody tr th {\n",
       "        vertical-align: top;\n",
       "    }\n",
       "</style>\n",
       "<table border=\"1\" class=\"dataframe\">\n",
       "  <thead>\n",
       "    <tr style=\"text-align: right;\">\n",
       "      <th></th>\n",
       "      <th>multi_cluster</th>\n",
       "      <th>multi_cluster_desc</th>\n",
       "      <th>Customer_Num</th>\n",
       "    </tr>\n",
       "  </thead>\n",
       "  <tbody>\n",
       "    <tr>\n",
       "      <th>0</th>\n",
       "      <td>1</td>\n",
       "      <td>Starters in Need</td>\n",
       "      <td>1353996</td>\n",
       "    </tr>\n",
       "    <tr>\n",
       "      <th>1</th>\n",
       "      <td>2</td>\n",
       "      <td>Rising Hispanics</td>\n",
       "      <td>1029504</td>\n",
       "    </tr>\n",
       "    <tr>\n",
       "      <th>2</th>\n",
       "      <td>3</td>\n",
       "      <td>Infrequent Families</td>\n",
       "      <td>1821717</td>\n",
       "    </tr>\n",
       "    <tr>\n",
       "      <th>3</th>\n",
       "      <td>4</td>\n",
       "      <td>Urban Affluence</td>\n",
       "      <td>761450</td>\n",
       "    </tr>\n",
       "    <tr>\n",
       "      <th>4</th>\n",
       "      <td>5</td>\n",
       "      <td>Home Focused</td>\n",
       "      <td>1068564</td>\n",
       "    </tr>\n",
       "    <tr>\n",
       "      <th>5</th>\n",
       "      <td>6</td>\n",
       "      <td>Holiday Shoppers</td>\n",
       "      <td>480362</td>\n",
       "    </tr>\n",
       "    <tr>\n",
       "      <th>6</th>\n",
       "      <td>7</td>\n",
       "      <td>Sporadic Seniors</td>\n",
       "      <td>2266968</td>\n",
       "    </tr>\n",
       "    <tr>\n",
       "      <th>7</th>\n",
       "      <td>8</td>\n",
       "      <td>Spending Fanatics</td>\n",
       "      <td>530966</td>\n",
       "    </tr>\n",
       "  </tbody>\n",
       "</table>\n",
       "</div>"
      ],
      "text/plain": [
       "  multi_cluster   multi_cluster_desc  Customer_Num\n",
       "0             1     Starters in Need       1353996\n",
       "1             2     Rising Hispanics       1029504\n",
       "2             3  Infrequent Families       1821717\n",
       "3             4      Urban Affluence        761450\n",
       "4             5         Home Focused       1068564\n",
       "5             6     Holiday Shoppers        480362\n",
       "6             7     Sporadic Seniors       2266968\n",
       "7             8    Spending Fanatics        530966"
      ]
     },
     "execution_count": 11,
     "metadata": {},
     "output_type": "execute_result"
    }
   ],
   "source": [
    "data_HH=pd.read_table(\"/home/jian/Projects/Big_Lots/Analysis/2019_Q1/Experian/MS_Experian_HH_Full.zip\",dtype=str,compression=\"zip\",sep=\"|\")\n",
    "summary_cluster_HH=data_HH.groupby(['multi_cluster','multi_cluster_desc'])['Customer_Num'].count().to_frame().reset_index()\n",
    "summary_cluster_HH\n",
    "\n"
   ]
  },
  {
   "cell_type": "code",
   "execution_count": 12,
   "metadata": {},
   "outputs": [
    {
     "data": {
      "text/html": [
       "<div>\n",
       "<style>\n",
       "    .dataframe thead tr:only-child th {\n",
       "        text-align: right;\n",
       "    }\n",
       "\n",
       "    .dataframe thead th {\n",
       "        text-align: left;\n",
       "    }\n",
       "\n",
       "    .dataframe tbody tr th {\n",
       "        vertical-align: top;\n",
       "    }\n",
       "</style>\n",
       "<table border=\"1\" class=\"dataframe\">\n",
       "  <thead>\n",
       "    <tr style=\"text-align: right;\">\n",
       "      <th></th>\n",
       "      <th>multi_cluster</th>\n",
       "      <th>multi_cluster_desc</th>\n",
       "      <th>Customer_Num</th>\n",
       "    </tr>\n",
       "  </thead>\n",
       "  <tbody>\n",
       "    <tr>\n",
       "      <th>0</th>\n",
       "      <td>1</td>\n",
       "      <td>Starters in Need</td>\n",
       "      <td>975318</td>\n",
       "    </tr>\n",
       "    <tr>\n",
       "      <th>1</th>\n",
       "      <td>2</td>\n",
       "      <td>Rising Hispanics</td>\n",
       "      <td>1229354</td>\n",
       "    </tr>\n",
       "    <tr>\n",
       "      <th>2</th>\n",
       "      <td>3</td>\n",
       "      <td>Infrequent Families</td>\n",
       "      <td>1403834</td>\n",
       "    </tr>\n",
       "    <tr>\n",
       "      <th>3</th>\n",
       "      <td>4</td>\n",
       "      <td>Urban Affluence</td>\n",
       "      <td>1048417</td>\n",
       "    </tr>\n",
       "    <tr>\n",
       "      <th>4</th>\n",
       "      <td>5</td>\n",
       "      <td>Home Focused</td>\n",
       "      <td>1162382</td>\n",
       "    </tr>\n",
       "    <tr>\n",
       "      <th>5</th>\n",
       "      <td>6</td>\n",
       "      <td>Holiday Shoppers</td>\n",
       "      <td>446516</td>\n",
       "    </tr>\n",
       "    <tr>\n",
       "      <th>6</th>\n",
       "      <td>7</td>\n",
       "      <td>Sporadic Seniors</td>\n",
       "      <td>1935064</td>\n",
       "    </tr>\n",
       "    <tr>\n",
       "      <th>7</th>\n",
       "      <td>8</td>\n",
       "      <td>Spending Fanatics</td>\n",
       "      <td>443962</td>\n",
       "    </tr>\n",
       "  </tbody>\n",
       "</table>\n",
       "</div>"
      ],
      "text/plain": [
       "  multi_cluster   multi_cluster_desc  Customer_Num\n",
       "0             1     Starters in Need        975318\n",
       "1             2     Rising Hispanics       1229354\n",
       "2             3  Infrequent Families       1403834\n",
       "3             4      Urban Affluence       1048417\n",
       "4             5         Home Focused       1162382\n",
       "5             6     Holiday Shoppers        446516\n",
       "6             7     Sporadic Seniors       1935064\n",
       "7             8    Spending Fanatics        443962"
      ]
     },
     "execution_count": 12,
     "metadata": {},
     "output_type": "execute_result"
    }
   ],
   "source": [
    "data_GEO=pd.read_table(\"/home/jian/Projects/Big_Lots/Analysis/2019_Q1/Experian/MS_Experian_GEO_Full.zip\",dtype=str,compression=\"zip\",sep=\"|\")\n",
    "summary_cluster_GEO=data_GEO.groupby(['multi_cluster','multi_cluster_desc'])['Customer_Num'].count().to_frame().reset_index()\n",
    "summary_cluster_GEO"
   ]
  },
  {
   "cell_type": "code",
   "execution_count": 17,
   "metadata": {},
   "outputs": [
    {
     "name": "stdout",
     "output_type": "stream",
     "text": [
      "(17958374, 16)\n",
      "17958374\n"
     ]
    },
    {
     "data": {
      "text/html": [
       "<div>\n",
       "<style>\n",
       "    .dataframe thead tr:only-child th {\n",
       "        text-align: right;\n",
       "    }\n",
       "\n",
       "    .dataframe thead th {\n",
       "        text-align: left;\n",
       "    }\n",
       "\n",
       "    .dataframe tbody tr th {\n",
       "        vertical-align: top;\n",
       "    }\n",
       "</style>\n",
       "<table border=\"1\" class=\"dataframe\">\n",
       "  <thead>\n",
       "    <tr style=\"text-align: right;\">\n",
       "      <th></th>\n",
       "      <th>multi_cluster</th>\n",
       "      <th>multi_cluster_desc</th>\n",
       "      <th>Customer_Num</th>\n",
       "    </tr>\n",
       "  </thead>\n",
       "  <tbody>\n",
       "    <tr>\n",
       "      <th>0</th>\n",
       "      <td>1</td>\n",
       "      <td>Starters in Need</td>\n",
       "      <td>2329314</td>\n",
       "    </tr>\n",
       "    <tr>\n",
       "      <th>1</th>\n",
       "      <td>2</td>\n",
       "      <td>Rising Hispanics</td>\n",
       "      <td>2258858</td>\n",
       "    </tr>\n",
       "    <tr>\n",
       "      <th>2</th>\n",
       "      <td>3</td>\n",
       "      <td>Infrequent Families</td>\n",
       "      <td>3225551</td>\n",
       "    </tr>\n",
       "    <tr>\n",
       "      <th>3</th>\n",
       "      <td>4</td>\n",
       "      <td>Urban Affluence</td>\n",
       "      <td>1809867</td>\n",
       "    </tr>\n",
       "    <tr>\n",
       "      <th>4</th>\n",
       "      <td>5</td>\n",
       "      <td>Home Focused</td>\n",
       "      <td>2230946</td>\n",
       "    </tr>\n",
       "    <tr>\n",
       "      <th>5</th>\n",
       "      <td>6</td>\n",
       "      <td>Holiday Shoppers</td>\n",
       "      <td>926878</td>\n",
       "    </tr>\n",
       "    <tr>\n",
       "      <th>6</th>\n",
       "      <td>7</td>\n",
       "      <td>Sporadic Seniors</td>\n",
       "      <td>4202032</td>\n",
       "    </tr>\n",
       "    <tr>\n",
       "      <th>7</th>\n",
       "      <td>8</td>\n",
       "      <td>Spending Fanatics</td>\n",
       "      <td>974928</td>\n",
       "    </tr>\n",
       "  </tbody>\n",
       "</table>\n",
       "</div>"
      ],
      "text/plain": [
       "  multi_cluster   multi_cluster_desc  Customer_Num\n",
       "0             1     Starters in Need       2329314\n",
       "1             2     Rising Hispanics       2258858\n",
       "2             3  Infrequent Families       3225551\n",
       "3             4      Urban Affluence       1809867\n",
       "4             5         Home Focused       2230946\n",
       "5             6     Holiday Shoppers        926878\n",
       "6             7     Sporadic Seniors       4202032\n",
       "7             8    Spending Fanatics        974928"
      ]
     },
     "execution_count": 17,
     "metadata": {},
     "output_type": "execute_result"
    }
   ],
   "source": [
    "data_HH_GEO=data_HH.append(data_GEO)\n",
    "print(data_HH_GEO.shape)\n",
    "print(len(data_HH_GEO['Customer_Num'].unique()))\n",
    "\n",
    "summary_cluster_HH_and_GEO=data_HH_GEO.groupby(['multi_cluster','multi_cluster_desc'])['Customer_Num'].count().to_frame().reset_index()\n",
    "summary_cluster_HH_and_GEO"
   ]
  },
  {
   "cell_type": "code",
   "execution_count": 18,
   "metadata": {
    "collapsed": true
   },
   "outputs": [],
   "source": [
    "writer=pd.ExcelWriter(\"/home/jian/Projects/Big_Lots/Analysis/2019_Q1/Experian/BL_count_of_Experian_by_multi_cluster_JL_\"+str(datetime.datetime.now().date())+\".xlsx\",engine=\"xlsxwriter\")\n",
    "summary_cluster_HH_and_GEO.to_excel(writer,\"summary_of_the_2_files\",index=False)\n",
    "summary_cluster_HH.to_excel(writer,\"summary_of_HH_only\",index=False)\n",
    "summary_cluster_GEO.to_excel(writer,\"summary_of_GEO_only\",index=False)\n",
    "writer.save()"
   ]
  },
  {
   "cell_type": "code",
   "execution_count": null,
   "metadata": {
    "collapsed": true
   },
   "outputs": [],
   "source": []
  }
 ],
 "metadata": {
  "kernelspec": {
   "display_name": "Python 3",
   "language": "python",
   "name": "python3"
  },
  "language_info": {
   "codemirror_mode": {
    "name": "ipython",
    "version": 3
   },
   "file_extension": ".py",
   "mimetype": "text/x-python",
   "name": "python",
   "nbconvert_exporter": "python",
   "pygments_lexer": "ipython3",
   "version": "3.6.1"
  }
 },
 "nbformat": 4,
 "nbformat_minor": 2
}
