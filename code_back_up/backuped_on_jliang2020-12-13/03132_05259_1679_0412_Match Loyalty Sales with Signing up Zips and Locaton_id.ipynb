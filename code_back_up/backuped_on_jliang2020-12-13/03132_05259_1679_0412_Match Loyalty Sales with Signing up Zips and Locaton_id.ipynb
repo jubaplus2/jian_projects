{
 "cells": [
  {
   "cell_type": "code",
   "execution_count": 6,
   "metadata": {
    "collapsed": true
   },
   "outputs": [],
   "source": [
    "import pandas as pd\n",
    "import gc\n",
    "gc.collect()\n",
    "import datetime\n",
    "import hashlib\n",
    "import numpy as np\n",
    "import logging\n",
    "import os"
   ]
  },
  {
   "cell_type": "code",
   "execution_count": 7,
   "metadata": {
    "collapsed": true
   },
   "outputs": [],
   "source": [
    "today_str=str(datetime.datetime.now().date())\n",
    "writer_folder=\"/home/jian/Projects/Big_Lots/Loyal_members/sales_of_loyalty_member/\"+today_str+\"/\"\n",
    "try:\n",
    "    os.stat(writer_folder)\n",
    "except:\n",
    "    os.mkdir(writer_folder)"
   ]
  },
  {
   "cell_type": "code",
   "execution_count": 8,
   "metadata": {
    "collapsed": true
   },
   "outputs": [],
   "source": [
    "logging.basicConfig(filename='merge_sales_with_signing_up_location_id.log', level=logging.INFO)\n",
    "logging.info(\"Start Running: \"+str(datetime.datetime.now()))\n"
   ]
  },
  {
   "cell_type": "code",
   "execution_count": 9,
   "metadata": {
    "collapsed": true
   },
   "outputs": [],
   "source": [
    "df_id_zip=pd.read_csv(\"/home/jian/Projects/Big_Lots/Loyal_members/Email_Zips/output_loyalty_member_by_id.csv\",dtype=str)\n",
    "del df_id_zip['sign_up_date']\n",
    "df_id_zip['customer_zip_code']=df_id_zip['customer_zip_code'].fillna(\"00000\")\n",
    "df_id_zip['customer_zip_code']=df_id_zip['customer_zip_code'].apply(lambda x: x.zfill(5)[0:5])\n",
    "logging.info(\"Finished Reading Zip by member: \"+str(datetime.datetime.now()))"
   ]
  },
  {
   "cell_type": "code",
   "execution_count": null,
   "metadata": {
    "collapsed": true
   },
   "outputs": [],
   "source": []
  },
  {
   "cell_type": "code",
   "execution_count": 5,
   "metadata": {},
   "outputs": [
    {
     "ename": "KeyboardInterrupt",
     "evalue": "",
     "output_type": "error",
     "traceback": [
      "\u001b[0;31m---------------------------------------------------------------------------\u001b[0m",
      "\u001b[0;31mKeyboardInterrupt\u001b[0m                         Traceback (most recent call last)",
      "\u001b[0;32m<ipython-input-5-a6937fcb46a6>\u001b[0m in \u001b[0;36m<module>\u001b[0;34m()\u001b[0m\n\u001b[0;32m----> 1\u001b[0;31m \u001b[0mdata_1\u001b[0m\u001b[0;34m=\u001b[0m\u001b[0mpd\u001b[0m\u001b[0;34m.\u001b[0m\u001b[0mread_csv\u001b[0m\u001b[0;34m(\u001b[0m\u001b[0;34m\"/home/jian/Projects/Big_Lots/Loyal_members/sales_of_loyalty_member/MediaStormCustDtl.txt\"\u001b[0m\u001b[0;34m,\u001b[0m\u001b[0mheader\u001b[0m\u001b[0;34m=\u001b[0m\u001b[0;32mNone\u001b[0m\u001b[0;34m,\u001b[0m\u001b[0mdtype\u001b[0m\u001b[0;34m=\u001b[0m\u001b[0mstr\u001b[0m\u001b[0;34m)\u001b[0m\u001b[0;34m\u001b[0m\u001b[0m\n\u001b[0m\u001b[1;32m      2\u001b[0m \u001b[0mlogging\u001b[0m\u001b[0;34m.\u001b[0m\u001b[0minfo\u001b[0m\u001b[0;34m(\u001b[0m\u001b[0;34m\"Finished Reading Sales Data 1: \"\u001b[0m\u001b[0;34m+\u001b[0m\u001b[0mstr\u001b[0m\u001b[0;34m(\u001b[0m\u001b[0mdatetime\u001b[0m\u001b[0;34m.\u001b[0m\u001b[0mdatetime\u001b[0m\u001b[0;34m.\u001b[0m\u001b[0mnow\u001b[0m\u001b[0;34m(\u001b[0m\u001b[0;34m)\u001b[0m\u001b[0;34m)\u001b[0m\u001b[0;34m)\u001b[0m\u001b[0;34m\u001b[0m\u001b[0m\n\u001b[1;32m      3\u001b[0m \u001b[0;34m\u001b[0m\u001b[0m\n\u001b[1;32m      4\u001b[0m \u001b[0mdata_2\u001b[0m\u001b[0;34m=\u001b[0m\u001b[0mpd\u001b[0m\u001b[0;34m.\u001b[0m\u001b[0mread_csv\u001b[0m\u001b[0;34m(\u001b[0m\u001b[0;34m\"/home/jian/Projects/Big_Lots/Loyal_members/sales_of_loyalty_member/MediaStorm customer transaction details - 2018-01-09 - 2018-03-31.txt\"\u001b[0m\u001b[0;34m,\u001b[0m\u001b[0mdtype\u001b[0m\u001b[0;34m=\u001b[0m\u001b[0mstr\u001b[0m\u001b[0;34m)\u001b[0m\u001b[0;34m\u001b[0m\u001b[0m\n\u001b[1;32m      5\u001b[0m \u001b[0mlogging\u001b[0m\u001b[0;34m.\u001b[0m\u001b[0minfo\u001b[0m\u001b[0;34m(\u001b[0m\u001b[0;34m\"Finished Reading Sales Data 2: \"\u001b[0m\u001b[0;34m+\u001b[0m\u001b[0mstr\u001b[0m\u001b[0;34m(\u001b[0m\u001b[0mdatetime\u001b[0m\u001b[0;34m.\u001b[0m\u001b[0mdatetime\u001b[0m\u001b[0;34m.\u001b[0m\u001b[0mnow\u001b[0m\u001b[0;34m(\u001b[0m\u001b[0;34m)\u001b[0m\u001b[0;34m)\u001b[0m\u001b[0;34m)\u001b[0m\u001b[0;34m\u001b[0m\u001b[0m\n",
      "\u001b[0;32m/usr/local/lib/python3.6/site-packages/pandas/io/parsers.py\u001b[0m in \u001b[0;36mparser_f\u001b[0;34m(filepath_or_buffer, sep, delimiter, header, names, index_col, usecols, squeeze, prefix, mangle_dupe_cols, dtype, engine, converters, true_values, false_values, skipinitialspace, skiprows, nrows, na_values, keep_default_na, na_filter, verbose, skip_blank_lines, parse_dates, infer_datetime_format, keep_date_col, date_parser, dayfirst, iterator, chunksize, compression, thousands, decimal, lineterminator, quotechar, quoting, escapechar, comment, encoding, dialect, tupleize_cols, error_bad_lines, warn_bad_lines, skipfooter, skip_footer, doublequote, delim_whitespace, as_recarray, compact_ints, use_unsigned, low_memory, buffer_lines, memory_map, float_precision)\u001b[0m\n\u001b[1;32m    653\u001b[0m                     skip_blank_lines=skip_blank_lines)\n\u001b[1;32m    654\u001b[0m \u001b[0;34m\u001b[0m\u001b[0m\n\u001b[0;32m--> 655\u001b[0;31m         \u001b[0;32mreturn\u001b[0m \u001b[0m_read\u001b[0m\u001b[0;34m(\u001b[0m\u001b[0mfilepath_or_buffer\u001b[0m\u001b[0;34m,\u001b[0m \u001b[0mkwds\u001b[0m\u001b[0;34m)\u001b[0m\u001b[0;34m\u001b[0m\u001b[0m\n\u001b[0m\u001b[1;32m    656\u001b[0m \u001b[0;34m\u001b[0m\u001b[0m\n\u001b[1;32m    657\u001b[0m     \u001b[0mparser_f\u001b[0m\u001b[0;34m.\u001b[0m\u001b[0m__name__\u001b[0m \u001b[0;34m=\u001b[0m \u001b[0mname\u001b[0m\u001b[0;34m\u001b[0m\u001b[0m\n",
      "\u001b[0;32m/usr/local/lib/python3.6/site-packages/pandas/io/parsers.py\u001b[0m in \u001b[0;36m_read\u001b[0;34m(filepath_or_buffer, kwds)\u001b[0m\n\u001b[1;32m    409\u001b[0m \u001b[0;34m\u001b[0m\u001b[0m\n\u001b[1;32m    410\u001b[0m     \u001b[0;32mtry\u001b[0m\u001b[0;34m:\u001b[0m\u001b[0;34m\u001b[0m\u001b[0m\n\u001b[0;32m--> 411\u001b[0;31m         \u001b[0mdata\u001b[0m \u001b[0;34m=\u001b[0m \u001b[0mparser\u001b[0m\u001b[0;34m.\u001b[0m\u001b[0mread\u001b[0m\u001b[0;34m(\u001b[0m\u001b[0mnrows\u001b[0m\u001b[0;34m)\u001b[0m\u001b[0;34m\u001b[0m\u001b[0m\n\u001b[0m\u001b[1;32m    412\u001b[0m     \u001b[0;32mfinally\u001b[0m\u001b[0;34m:\u001b[0m\u001b[0;34m\u001b[0m\u001b[0m\n\u001b[1;32m    413\u001b[0m         \u001b[0mparser\u001b[0m\u001b[0;34m.\u001b[0m\u001b[0mclose\u001b[0m\u001b[0;34m(\u001b[0m\u001b[0;34m)\u001b[0m\u001b[0;34m\u001b[0m\u001b[0m\n",
      "\u001b[0;32m/usr/local/lib/python3.6/site-packages/pandas/io/parsers.py\u001b[0m in \u001b[0;36mread\u001b[0;34m(self, nrows)\u001b[0m\n\u001b[1;32m   1003\u001b[0m                 \u001b[0;32mraise\u001b[0m \u001b[0mValueError\u001b[0m\u001b[0;34m(\u001b[0m\u001b[0;34m'skipfooter not supported for iteration'\u001b[0m\u001b[0;34m)\u001b[0m\u001b[0;34m\u001b[0m\u001b[0m\n\u001b[1;32m   1004\u001b[0m \u001b[0;34m\u001b[0m\u001b[0m\n\u001b[0;32m-> 1005\u001b[0;31m         \u001b[0mret\u001b[0m \u001b[0;34m=\u001b[0m \u001b[0mself\u001b[0m\u001b[0;34m.\u001b[0m\u001b[0m_engine\u001b[0m\u001b[0;34m.\u001b[0m\u001b[0mread\u001b[0m\u001b[0;34m(\u001b[0m\u001b[0mnrows\u001b[0m\u001b[0;34m)\u001b[0m\u001b[0;34m\u001b[0m\u001b[0m\n\u001b[0m\u001b[1;32m   1006\u001b[0m \u001b[0;34m\u001b[0m\u001b[0m\n\u001b[1;32m   1007\u001b[0m         \u001b[0;32mif\u001b[0m \u001b[0mself\u001b[0m\u001b[0;34m.\u001b[0m\u001b[0moptions\u001b[0m\u001b[0;34m.\u001b[0m\u001b[0mget\u001b[0m\u001b[0;34m(\u001b[0m\u001b[0;34m'as_recarray'\u001b[0m\u001b[0;34m)\u001b[0m\u001b[0;34m:\u001b[0m\u001b[0;34m\u001b[0m\u001b[0m\n",
      "\u001b[0;32m/usr/local/lib/python3.6/site-packages/pandas/io/parsers.py\u001b[0m in \u001b[0;36mread\u001b[0;34m(self, nrows)\u001b[0m\n\u001b[1;32m   1746\u001b[0m     \u001b[0;32mdef\u001b[0m \u001b[0mread\u001b[0m\u001b[0;34m(\u001b[0m\u001b[0mself\u001b[0m\u001b[0;34m,\u001b[0m \u001b[0mnrows\u001b[0m\u001b[0;34m=\u001b[0m\u001b[0;32mNone\u001b[0m\u001b[0;34m)\u001b[0m\u001b[0;34m:\u001b[0m\u001b[0;34m\u001b[0m\u001b[0m\n\u001b[1;32m   1747\u001b[0m         \u001b[0;32mtry\u001b[0m\u001b[0;34m:\u001b[0m\u001b[0;34m\u001b[0m\u001b[0m\n\u001b[0;32m-> 1748\u001b[0;31m             \u001b[0mdata\u001b[0m \u001b[0;34m=\u001b[0m \u001b[0mself\u001b[0m\u001b[0;34m.\u001b[0m\u001b[0m_reader\u001b[0m\u001b[0;34m.\u001b[0m\u001b[0mread\u001b[0m\u001b[0;34m(\u001b[0m\u001b[0mnrows\u001b[0m\u001b[0;34m)\u001b[0m\u001b[0;34m\u001b[0m\u001b[0m\n\u001b[0m\u001b[1;32m   1749\u001b[0m         \u001b[0;32mexcept\u001b[0m \u001b[0mStopIteration\u001b[0m\u001b[0;34m:\u001b[0m\u001b[0;34m\u001b[0m\u001b[0m\n\u001b[1;32m   1750\u001b[0m             \u001b[0;32mif\u001b[0m \u001b[0mself\u001b[0m\u001b[0;34m.\u001b[0m\u001b[0m_first_chunk\u001b[0m\u001b[0;34m:\u001b[0m\u001b[0;34m\u001b[0m\u001b[0m\n",
      "\u001b[0;32mpandas/_libs/parsers.pyx\u001b[0m in \u001b[0;36mpandas._libs.parsers.TextReader.read (pandas/_libs/parsers.c:10862)\u001b[0;34m()\u001b[0m\n",
      "\u001b[0;32mpandas/_libs/parsers.pyx\u001b[0m in \u001b[0;36mpandas._libs.parsers.TextReader._read_low_memory (pandas/_libs/parsers.c:11138)\u001b[0;34m()\u001b[0m\n",
      "\u001b[0;32mpandas/_libs/parsers.pyx\u001b[0m in \u001b[0;36mpandas._libs.parsers.TextReader._read_rows (pandas/_libs/parsers.c:12175)\u001b[0;34m()\u001b[0m\n",
      "\u001b[0;32mpandas/_libs/parsers.pyx\u001b[0m in \u001b[0;36mpandas._libs.parsers.TextReader._convert_column_data (pandas/_libs/parsers.c:14136)\u001b[0;34m()\u001b[0m\n",
      "\u001b[0;32mpandas/_libs/parsers.pyx\u001b[0m in \u001b[0;36mpandas._libs.parsers.TextReader._convert_tokens (pandas/_libs/parsers.c:14658)\u001b[0;34m()\u001b[0m\n",
      "\u001b[0;32mpandas/_libs/parsers.pyx\u001b[0m in \u001b[0;36mpandas._libs.parsers.TextReader._convert_with_dtype (pandas/_libs/parsers.c:15629)\u001b[0;34m()\u001b[0m\n",
      "\u001b[0;32m/usr/local/lib/python3.6/site-packages/pandas/core/dtypes/common.py\u001b[0m in \u001b[0;36mis_integer_dtype\u001b[0;34m(arr_or_dtype)\u001b[0m\n\u001b[1;32m    738\u001b[0m \u001b[0;34m\u001b[0m\u001b[0m\n\u001b[1;32m    739\u001b[0m \u001b[0;34m\u001b[0m\u001b[0m\n\u001b[0;32m--> 740\u001b[0;31m \u001b[0;32mdef\u001b[0m \u001b[0mis_integer_dtype\u001b[0m\u001b[0;34m(\u001b[0m\u001b[0marr_or_dtype\u001b[0m\u001b[0;34m)\u001b[0m\u001b[0;34m:\u001b[0m\u001b[0;34m\u001b[0m\u001b[0m\n\u001b[0m\u001b[1;32m    741\u001b[0m     \"\"\"\n\u001b[1;32m    742\u001b[0m     \u001b[0mCheck\u001b[0m \u001b[0mwhether\u001b[0m \u001b[0mthe\u001b[0m \u001b[0mprovided\u001b[0m \u001b[0marray\u001b[0m \u001b[0;32mor\u001b[0m \u001b[0mdtype\u001b[0m \u001b[0;32mis\u001b[0m \u001b[0mof\u001b[0m \u001b[0man\u001b[0m \u001b[0minteger\u001b[0m \u001b[0mdtype\u001b[0m\u001b[0;34m.\u001b[0m\u001b[0;34m\u001b[0m\u001b[0m\n",
      "\u001b[0;31mKeyboardInterrupt\u001b[0m: "
     ]
    }
   ],
   "source": [
    "data_1=pd.read_csv(\"/home/jian/Projects/Big_Lots/Loyal_members/sales_of_loyalty_member/MediaStormCustDtl.txt\",header=None,dtype=str)\n",
    "logging.info(\"Finished Reading Sales Data 1: \"+str(datetime.datetime.now()))\n",
    "\n",
    "data_2=pd.read_csv(\"/home/jian/Projects/Big_Lots/Loyal_members/sales_of_loyalty_member/MediaStorm customer transaction details - 2018-01-09 - 2018-03-31.txt\",dtype=str)\n",
    "logging.info(\"Finished Reading Sales Data 2: \"+str(datetime.datetime.now()))\n",
    "\n",
    "data_3=pd.read_csv(\"/home/jian/Projects/Big_Lots/Loyal_members/sales_of_loyalty_member/MediaStorm customer transaction details - 2018-04-01 - 2018-04-15.txt\",dtype=str)\n",
    "logging.info(\"Finished Reading Sales Data 3: \"+str(datetime.datetime.now()))\n",
    "\n",
    "data_1.columns=data_2.columns.tolist()  \n",
    "data_1['customer_id_hashed']=data_1['customer_id_hashed'].apply(lambda x: hashlib.sha256(x.encode('UTF-8')).hexdigest())\n",
    "logging.info(\"Finished Hashing: \"+str(datetime.datetime.now()))\n",
    "gc.collect()\n",
    "\n",
    "def clean_data(df):\n",
    "    del df['merch_cat']\n",
    "\n",
    "    df['total_transaction_amt']=df['total_transaction_amt'].astype(float)\n",
    "    df=df.drop_duplicates()    \n",
    "    df['transaction_date']=df['transaction_date'].apply(lambda x: datetime.datetime.strptime(x,\"%Y-%m-%d\").date())\n",
    "    df=df[['customer_id_hashed','location_id','transaction_date','total_transaction_amt']]\n",
    "    df_sales=df.groupby(['customer_id_hashed','location_id','transaction_date'])['total_transaction_amt'].sum().to_frame().reset_index()\n",
    "    df_trans=df[df['total_transaction_amt']>0]\n",
    "    df_trans=df.groupby(['customer_id_hashed','location_id','transaction_date'])['total_transaction_amt'].count().to_frame().reset_index()\n",
    "    df_trans=df_trans.rename(columns={\"total_transaction_amt\":\"total_transaction_count\"})\n",
    "    df=pd.merge(df_sales,df_trans,on=['customer_id_hashed','location_id','transaction_date'],how=\"left\")\n",
    "    return df\n",
    "data_1=clean_data(data_1)\n",
    "data_2=clean_data(data_2)\n",
    "data_3=clean_data(data_3)\n",
    "data_all=data_1.append(data_2).append(data_3).drop_duplicates()\n",
    "data_all=data_all.drop_duplicates()\n",
    "\n",
    "del data_1\n",
    "del data_2\n",
    "del data_3\n",
    "gc.collect()\n",
    "\n",
    "data_all=data_all[data_all['transaction_date']>=datetime.datetime(2017,5,7).date()]\n",
    "data_all['weekday']=data_all['transaction_date'].apply(lambda x: x.weekday())\n",
    "\n",
    "data_all['week_end_date']=np.where(data_all['weekday']==6,\n",
    "                                   data_all['transaction_date'].apply(lambda x: x+datetime.timedelta(days=6)),\n",
    "                                  data_all['transaction_date'].apply(lambda x: x+datetime.timedelta(days=5-x.weekday()))\n",
    "                                  )\n",
    "\n",
    "full_weeks_only=data_all[['week_end_date','transaction_date','location_id']].drop_duplicates()\n",
    "full_weeks_only=full_weeks_only.groupby(['location_id','week_end_date'])['transaction_date'].count().to_frame().reset_index()\n",
    "full_weeks_only=full_weeks_only[full_weeks_only['transaction_date']==7]\n",
    "\n",
    "full_weeks_only['str_week_end_dt']=full_weeks_only['week_end_date'].apply(lambda x: str(x))\n",
    "full_weeks_only['key']=full_weeks_only['location_id']+\"|\"+full_weeks_only['str_week_end_dt']\n",
    "\n",
    "data_all['str_week_end_dt']=data_all['week_end_date'].apply(lambda x: str(x))\n",
    "data_all['key']=data_all['location_id']+\"|\"+data_all['str_week_end_dt']\n",
    "del data_all['str_week_end_dt']\n",
    "del data_all['transaction_date']\n",
    "del data_all['weekday']\n",
    "data_all=data_all[data_all['key'].isin(full_weeks_only['key'])]\n",
    "del data_all['key']\n",
    "logging.info(\"Total weeks: \"+str(len(data_all['week_end_date'].unique())))\n",
    "\n",
    "\n",
    "gc.collect()\n",
    "logging.info(\"Finished Reading Sales by member: \"+str(datetime.datetime.now()))\n",
    "\n",
    "\n",
    "data_all=data_all.groupby(['customer_id_hashed','week_end_date','location_id'])['total_transaction_amt','total_transaction_count'].sum()\n",
    "\n",
    "try:\n",
    "    data_all=data_all.to_frame()\n",
    "except:\n",
    "    logging.info(\"No need to do 'to_frame' in data_all: \"+str(datetime.datetime.now()))\n",
    "\n",
    "\n",
    "data_all=data_all.reset_index()\n",
    "    \n",
    "try:\n",
    "    del data_all['index']\n",
    "except:\n",
    "    logging.info(\"No index deleted: in data_all\"+str(datetime.datetime.now()))\n",
    "    \n",
    "logging.info(\"Finished aggregating by zip by week: \"+str(datetime.datetime.now()))\n",
    "gc.collect()\n"
   ]
  },
  {
   "cell_type": "code",
   "execution_count": 8,
   "metadata": {
    "collapsed": true
   },
   "outputs": [],
   "source": [
    "sales_by_store_both=pd.read_csv(\"/home/jian/BiglotsCode/outputs/combined_sales_long_2018-06-09.csv\",dtype=str)\n",
    "sales_by_store_both['sales']=sales_by_store_both['sales'].astype(float)\n",
    "\n",
    "sales_by_store_both['key']=sales_by_store_both['location_id']+\"|\"+sales_by_store_both['week_end_date']\n",
    "sales_by_store_both=sales_by_store_both[sales_by_store_both['key'].isin(full_weeks_only['key'])]\n",
    "sales_by_store_both=sales_by_store_both.groupby(['location_id'])['sales'].sum().reset_index()\n"
   ]
  },
  {
   "cell_type": "code",
   "execution_count": 9,
   "metadata": {
    "collapsed": true
   },
   "outputs": [],
   "source": [
    "logging.info(\"Start Merging: \"+str(datetime.datetime.now()))\n",
    "data_all=pd.merge(data_all,df_id_zip,on=\"customer_id_hashed\",how=\"left\")\n",
    "logging.info(\"Finished merging: \"+str(datetime.datetime.now()))\n",
    "\n",
    "gc.collect()\n",
    "\n",
    "logging.info(\"Start Groupby on zip and location: \"+str(datetime.datetime.now()))\n",
    "data_all_46_full_weeks_zip_location=data_all.groupby(['customer_zip_code','location_id'])['total_transaction_amt'].sum().reset_index()\n",
    "data_all_46_full_weeks_location=data_all_46_full_weeks_zip_location.groupby(['location_id'])['total_transaction_amt'].sum().reset_index()\n",
    "\n",
    "data_all_46_full_weeks_zip_location=data_all_46_full_weeks_zip_location.rename(columns={\"total_transaction_amt\":\"loyal_sales_zip\"})\n",
    "gc.collect()\n",
    "data_all_46_full_weeks_location=data_all_46_full_weeks_location.rename(columns={\"total_transaction_amt\":\"loyal_sales_total\"})\n",
    "data_all_46_full_weeks_location=pd.merge(data_all_46_full_weeks_location,sales_by_store_both,on=\"location_id\",how=\"left\")\n",
    "data_all_46_full_weeks_location['non_loyalty_sales_total']=data_all_46_full_weeks_location['sales']-data_all_46_full_weeks_location['loyal_sales_total']\n",
    "# data_all_46_full_weeks_location['non_loyalty_trans_total']=data_all_46_full_weeks_location['transactions']-data_all_46_full_weeks_location['loyal_trans_total']\n",
    "# non_loyalty_sales=data_all_46_full_weeks_location[['location_id','non_loyalty_sales_total']]\n",
    "del data_all_46_full_weeks_location['sales']\n"
   ]
  },
  {
   "cell_type": "code",
   "execution_count": 16,
   "metadata": {
    "collapsed": true
   },
   "outputs": [],
   "source": [
    "data_all_46_full_weeks_zip_location=pd.merge(data_all_46_full_weeks_zip_location,data_all_46_full_weeks_location,on=\"location_id\",how=\"left\")\n",
    "data_all_46_full_weeks_zip_location['loyal_sales_pctg']=data_all_46_full_weeks_zip_location['loyal_sales_zip']/data_all_46_full_weeks_zip_location['loyal_sales_total']\n",
    "data_all_46_full_weeks_zip_location['non_loyalty_sales_zip']=data_all_46_full_weeks_zip_location['non_loyalty_sales_total']*data_all_46_full_weeks_zip_location['loyal_sales_pctg']\n",
    "data_all_46_full_weeks_zip_location.to_csv(writer_folder+\"/sales_by_location_id_agg_\"+today_str+\".csv\",index=False)\n",
    "\n",
    "\n"
   ]
  },
  {
   "cell_type": "code",
   "execution_count": null,
   "metadata": {
    "collapsed": true
   },
   "outputs": [],
   "source": []
  },
  {
   "cell_type": "code",
   "execution_count": 21,
   "metadata": {},
   "outputs": [
    {
     "data": {
      "text/plain": [
       "'\\n# Do the last kernel above (Read output above)\\ndata_all_46_full_weeks=pd.read_csv(\"/home/jian/Projects/Big_Lots/Loyal_members/sales_of_loyalty_member/sales_by_zip_20180529.csv\",dtype=str)\\ndata_all_46_full_weeks[\\'total_transaction_count\\']=data_all_46_full_weeks[\\'total_transaction_count\\'].astype(int)\\ndata_all_46_full_weeks[\\'total_transaction_amt\\']=data_all_46_full_weeks[\\'total_transaction_amt\\'].astype(float)\\ndata_all_46_full_weeks_agg=data_all_46_full_weeks.groupby([\\'customer_zip_code\\',\\'week_end_date\\'])[\\'total_transaction_amt\\',\\'total_transaction_count\\'].sum().reset_index()\\n'"
      ]
     },
     "execution_count": 21,
     "metadata": {},
     "output_type": "execute_result"
    }
   ],
   "source": [
    "'''\n",
    "# Do the last kernel above (Read output above)\n",
    "data_all_46_full_weeks=pd.read_csv(\"/home/jian/Projects/Big_Lots/Loyal_members/sales_of_loyalty_member/sales_by_zip_20180529.csv\",dtype=str)\n",
    "data_all_46_full_weeks['total_transaction_count']=data_all_46_full_weeks['total_transaction_count'].astype(int)\n",
    "data_all_46_full_weeks['total_transaction_amt']=data_all_46_full_weeks['total_transaction_amt'].astype(float)\n",
    "data_all_46_full_weeks_agg=data_all_46_full_weeks.groupby(['customer_zip_code','week_end_date'])['total_transaction_amt','total_transaction_count'].sum().reset_index()\n",
    "'''"
   ]
  }
 ],
 "metadata": {
  "kernelspec": {
   "display_name": "Python 3",
   "language": "python",
   "name": "python3"
  },
  "language_info": {
   "codemirror_mode": {
    "name": "ipython",
    "version": 3
   },
   "file_extension": ".py",
   "mimetype": "text/x-python",
   "name": "python",
   "nbconvert_exporter": "python",
   "pygments_lexer": "ipython3",
   "version": "3.6.1"
  }
 },
 "nbformat": 4,
 "nbformat_minor": 2
}
