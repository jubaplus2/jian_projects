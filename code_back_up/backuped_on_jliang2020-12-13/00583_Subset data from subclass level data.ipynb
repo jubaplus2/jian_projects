{
 "cells": [
  {
   "cell_type": "code",
   "execution_count": 1,
   "metadata": {},
   "outputs": [
    {
     "data": {
      "text/plain": [
       "'/home/jian/Projects/Big_Lots/Analysis/2019_Q1/Planner_Request/Rewards_NonR_LawGardenPatio_JT_20190215'"
      ]
     },
     "execution_count": 1,
     "metadata": {},
     "output_type": "execute_result"
    }
   ],
   "source": [
    "import pandas as pd\n",
    "import numpy as np\n",
    "import os\n",
    "import datetime\n",
    "\n",
    "os.getcwd()"
   ]
  },
  {
   "cell_type": "code",
   "execution_count": 2,
   "metadata": {
    "collapsed": true
   },
   "outputs": [],
   "source": [
    "def recursive_file_gen(my_root_dir):\n",
    "    for root, dirs, files in os.walk(my_root_dir):\n",
    "        for file in files:\n",
    "            yield os.path.join(root, file)"
   ]
  },
  {
   "cell_type": "code",
   "execution_count": 3,
   "metadata": {
    "collapsed": true
   },
   "outputs": [],
   "source": [
    "taxonomy=pd.read_csv(\"/home/jian/BigLots/static_files/ProductTaxonomy/MediaStormProductTaxonomy20190201-133832-059.txt\",dtype=str,sep=\"|\")\n",
    "taxonomy['subclass_id']=taxonomy['subclass_id'].apply(lambda x: x.zfill(3))\n",
    "division_id_id_name=pd.read_table(\"/home/jian/BigLots/static_files/MediaStorm Data Extract - Division Names.txt\",dtype=str,sep=\"|\")\n",
    "department_id_name=pd.read_table(\"/home/jian/BigLots/static_files/MediaStorm Data Extract - Department Names.txt\",dtype=str,sep=\"|\")\n",
    "class_id_name=pd.read_table(\"/home/jian/BigLots/static_files/MediaStorm Data Extract - Class Names.txt\",dtype=str,sep=\"|\",encoding ='ISO-8859-1')"
   ]
  },
  {
   "cell_type": "code",
   "execution_count": 4,
   "metadata": {
    "collapsed": true
   },
   "outputs": [],
   "source": [
    "Patio_Furniture_ClassID=class_id_name[class_id_name['class_code_desc']==\"PATIO FURNITURE\"]['class_code_id'].unique().tolist()\n",
    "if len(Patio_Furniture_ClassID)==1:\n",
    "    Patio_Furniture_ClassID=Patio_Furniture_ClassID[0]\n",
    "else:\n",
    "    Patio_Furniture_ClassID=np.nan\n",
    "\n",
    "Patio_RUGS_ClassID=class_id_name[class_id_name['class_code_desc']==\"PATIO RUGS\"]['class_code_id'].unique().tolist()\n",
    "if len(Patio_RUGS_ClassID)==1:\n",
    "    Patio_RUGS_ClassID=Patio_RUGS_ClassID[0]\n",
    "else:\n",
    "    Patio_RUGS_ClassID=np.nan\n"
   ]
  },
  {
   "cell_type": "code",
   "execution_count": 5,
   "metadata": {},
   "outputs": [
    {
     "data": {
      "text/plain": [
       "{5}"
      ]
     },
     "execution_count": 5,
     "metadata": {},
     "output_type": "execute_result"
    }
   ],
   "source": [
    "Law_and_Garden_DepartmentID=department_id_name[department_id_name['department_desc']==\"LAWN & GARDEN\"]['department_id'].tolist()\n",
    "if len(Law_and_Garden_DepartmentID)==1:\n",
    "    Law_and_Garden_DepartmentID=Law_and_Garden_DepartmentID[0]\n",
    "else:\n",
    "    Law_and_Garden_DepartmentID=np.nan\n",
    "df_taxonomy_LawGarden=taxonomy[taxonomy['department_id']==Law_and_Garden_DepartmentID]\n",
    "LawnGarden_ClassID_list=df_taxonomy_LawGarden['class_code_id'].unique().tolist()\n",
    "set([len(x) for x in LawnGarden_ClassID_list])"
   ]
  },
  {
   "cell_type": "code",
   "execution_count": 6,
   "metadata": {
    "collapsed": true
   },
   "outputs": [],
   "source": [
    "all_2018_week_endings=[datetime.date(2019,2,2) - datetime.timedelta(days=x*7) for x in range(52)]\n",
    "all_2018_week_endings_str=[str(x) for x in all_2018_week_endings]"
   ]
  },
  {
   "cell_type": "code",
   "execution_count": 7,
   "metadata": {
    "collapsed": true
   },
   "outputs": [],
   "source": [
    "historical_daily_files=list(recursive_file_gen(\"/home/jian/BigLots/hist_daily_data/\"))\n",
    "df_all_hist=pd.DataFrame()\n",
    "\n",
    "for week_ends in all_2018_week_endings_str:\n",
    "    for file in historical_daily_files:\n",
    "        if week_ends in file:\n",
    "            df=pd.DataFrame({\"Path\":file,\"date\":week_ends},index=[0])\n",
    "            df_all_hist=df_all_hist.append(df)\n",
    "df_all_hist=df_all_hist.sort_values(['date']).reset_index()\n",
    "del df_all_hist['index']"
   ]
  },
  {
   "cell_type": "code",
   "execution_count": 8,
   "metadata": {
    "collapsed": true
   },
   "outputs": [],
   "source": [
    "weekly_delivered_2018=list(recursive_file_gen(\"/home/jian/BigLots/2018_by_weeks/\"))\n",
    "df_2018_files=pd.DataFrame()\n",
    "for file in weekly_delivered_2018:\n",
    "    if \"aily\" in file:\n",
    "        df=pd.DataFrame({\"Path\":file,\"date\":file.split(\"/\")[5].split(\"_\")[1]},index=[0])\n",
    "        df_2018_files=df_2018_files.append(df)\n",
    "df_2018_files=df_2018_files.sort_values(['date']).reset_index()\n",
    "del df_2018_files['index']"
   ]
  },
  {
   "cell_type": "code",
   "execution_count": 9,
   "metadata": {
    "collapsed": true
   },
   "outputs": [],
   "source": [
    "weekly_delivered_2019=list(recursive_file_gen(\"/home/jian/BigLots/2019_by_weeks/\"))\n",
    "df_2019_files=pd.DataFrame()\n",
    "for file in weekly_delivered_2019:\n",
    "    if \"aily\" in file:\n",
    "        df=pd.DataFrame({\"Path\":file,\"date\":file.split(\"/\")[5].split(\"_\")[1]},index=[0])\n",
    "        df_2019_files=df_2019_files.append(df)\n",
    "df_2019_files=df_2019_files.sort_values(['date']).reset_index()\n",
    "del df_2019_files['index']"
   ]
  },
  {
   "cell_type": "code",
   "execution_count": 10,
   "metadata": {},
   "outputs": [
    {
     "data": {
      "text/plain": [
       "(52, 2)"
      ]
     },
     "execution_count": 10,
     "metadata": {},
     "output_type": "execute_result"
    }
   ],
   "source": [
    "all_daily_files=df_all_hist.append(df_2018_files).append(df_2019_files)\n",
    "all_daily_files=all_daily_files[all_daily_files['Path'].apply(lambda x: \".txt\" in x)]\n",
    "all_daily_files=all_daily_files[all_daily_files['date'].isin(all_2018_week_endings_str)].sort_values(\"date\").reset_index()\n",
    "del all_daily_files['index']\n",
    "all_daily_files.shape"
   ]
  },
  {
   "cell_type": "code",
   "execution_count": 11,
   "metadata": {
    "collapsed": true
   },
   "outputs": [],
   "source": [
    "def get_quarter(x):\n",
    "    if (x>=\"2018-02-10\") and (x<=\"2018-05-05\"):\n",
    "        y=\"Q1\"\n",
    "    elif (x>=\"2018-05-12\") and (x<=\"2018-08-04\"):\n",
    "        y=\"Q2\"\n",
    "    elif (x>=\"2018-08-11\") and (x<=\"2018-11-03\"):\n",
    "        y=\"Q3\"\n",
    "    elif (x>=\"2018-11-10\") and (x<=\"2019-02-02\"):\n",
    "        y=\"Q4\"\n",
    "    return y\n",
    "\n",
    "all_daily_files['Quarter']=all_daily_files['date'].apply(lambda x: get_quarter(x))"
   ]
  },
  {
   "cell_type": "code",
   "execution_count": 12,
   "metadata": {
    "collapsed": true
   },
   "outputs": [],
   "source": [
    "def agg_df(dataframe):\n",
    "    dataframe['subclass_transaction_amt']=dataframe['subclass_transaction_amt'].astype(float)\n",
    "    dataframe['subclass_transaction_units']=dataframe['subclass_transaction_units'].astype(float)\n",
    "    \n",
    "    dataframe_rewards=dataframe[~pd.isnull(dataframe['customer_id_hashed'])]\n",
    "    dataframe_NonRewards=dataframe[pd.isnull(dataframe['customer_id_hashed'])]\n",
    "    \n",
    "    dataframe_rewards_sales=dataframe_rewards.groupby(['location_id'])['subclass_transaction_amt','subclass_transaction_units'].sum().reset_index()\n",
    "    dataframe_rewards_sales=dataframe_rewards_sales.rename(columns={\"subclass_transaction_amt\":\"sales\",\"subclass_transaction_units\":\"units\"})\n",
    "    dataframe_rewards_trans=dataframe_rewards[['location_id','transaction_dt','transaction_id','customer_id_hashed']].drop_duplicates()\n",
    "    dataframe_rewards_trans=dataframe_rewards_trans.groupby('location_id')['transaction_id'].count().to_frame().reset_index().rename(columns={\"transaction_id\":\"transactions\"})\n",
    "    df_rewards=pd.merge(dataframe_rewards_sales,dataframe_rewards_trans,on=\"location_id\",how=\"outer\")\n",
    "    df_rewards['level']=\"Rewards\"\n",
    "    \n",
    "    dataframe_NonRewards_sales=dataframe_NonRewards.groupby(['location_id'])['subclass_transaction_amt','subclass_transaction_units'].sum().reset_index()\n",
    "    dataframe_NonRewards_sales=dataframe_NonRewards_sales.rename(columns={\"subclass_transaction_amt\":\"sales\",\"subclass_transaction_units\":\"units\"})\n",
    "    dataframe_NonRewards_trans=dataframe_NonRewards[['location_id','transaction_dt','transaction_id']].drop_duplicates()\n",
    "    dataframe_NonRewards_trans=dataframe_NonRewards_trans.groupby('location_id')['transaction_id'].count().to_frame().reset_index().rename(columns={\"transaction_id\":\"transactions\"})\n",
    "    df_NonRewards=pd.merge(dataframe_NonRewards_sales,dataframe_NonRewards_trans,on=\"location_id\",how=\"outer\")\n",
    "    df_NonRewards['level']=\"Non_Rewards\"\n",
    "    \n",
    "    output_df=df_rewards.append(df_NonRewards)\n",
    "    return output_df\n",
    "    \n",
    "    "
   ]
  },
  {
   "cell_type": "code",
   "execution_count": 13,
   "metadata": {},
   "outputs": [
    {
     "name": "stderr",
     "output_type": "stream",
     "text": [
      "/usr/local/lib/python3.6/site-packages/ipykernel_launcher.py:2: SettingWithCopyWarning: \n",
      "A value is trying to be set on a copy of a slice from a DataFrame.\n",
      "Try using .loc[row_indexer,col_indexer] = value instead\n",
      "\n",
      "See the caveats in the documentation: http://pandas.pydata.org/pandas-docs/stable/indexing.html#indexing-view-versus-copy\n",
      "  \n",
      "/usr/local/lib/python3.6/site-packages/ipykernel_launcher.py:3: SettingWithCopyWarning: \n",
      "A value is trying to be set on a copy of a slice from a DataFrame.\n",
      "Try using .loc[row_indexer,col_indexer] = value instead\n",
      "\n",
      "See the caveats in the documentation: http://pandas.pydata.org/pandas-docs/stable/indexing.html#indexing-view-versus-copy\n",
      "  This is separate from the ipykernel package so we can avoid doing imports until\n"
     ]
    },
    {
     "name": "stdout",
     "output_type": "stream",
     "text": [
      "2019-02-15 15:20:20.669796\n",
      "2019-02-15 15:29:37.821130\n",
      "2019-02-15 16:00:52.461194\n",
      "2019-02-15 16:14:01.744224\n",
      "2019-02-15 16:36:28.230559\n",
      "2019-02-15 16:56:59.319768\n"
     ]
    }
   ],
   "source": [
    "df_LawGarden_all=pd.DataFrame()\n",
    "df_Patio_Furniture_all=pd.DataFrame()\n",
    "df_Patio_RUGS_all=pd.DataFrame()\n",
    "\n",
    "counter_i=0\n",
    "\n",
    "for i in range(len(all_daily_files)):\n",
    "    date=all_daily_files['date'][i]\n",
    "    file_path=all_daily_files['Path'][i]\n",
    "    quarter=all_daily_files['Quarter'][i]\n",
    "    \n",
    "    df=pd.read_table(file_path,dtype=str,sep=\"|\")\n",
    "    df_LawGarden=df[df['class_code_id'].isin(LawnGarden_ClassID_list)]\n",
    "    df_Patio_Furniture=df[df['class_code_id']==Patio_Furniture_ClassID]\n",
    "    df_Patio_RUGS=df[df['class_code_id']==Patio_RUGS_ClassID]\n",
    "    \n",
    "    df_LawGarden=agg_df(df_LawGarden)\n",
    "    df_Patio_Furniture=agg_df(df_Patio_Furniture)\n",
    "    df_Patio_RUGS=agg_df(df_Patio_RUGS)\n",
    "    \n",
    "    df_LawGarden['week_end_dt']=date\n",
    "    df_Patio_Furniture['week_end_dt']=date\n",
    "    df_Patio_RUGS['week_end_dt']=date\n",
    "    \n",
    "    df_LawGarden['Quarter']=quarter\n",
    "    df_Patio_Furniture['Quarter']=quarter\n",
    "    df_Patio_RUGS['Quarter']=quarter\n",
    "    \n",
    "    df_LawGarden_all=df_LawGarden_all.append(df_LawGarden)\n",
    "    df_Patio_Furniture_all=df_Patio_Furniture_all.append(df_Patio_Furniture)\n",
    "    df_Patio_RUGS_all=df_Patio_RUGS_all.append(df_Patio_RUGS)\n",
    "    \n",
    "    counter_i+=1\n",
    "    if counter_i%10==2:\n",
    "        print(datetime.datetime.now())"
   ]
  },
  {
   "cell_type": "code",
   "execution_count": 14,
   "metadata": {},
   "outputs": [
    {
     "data": {
      "text/plain": [
       "(137689, 7)"
      ]
     },
     "execution_count": 14,
     "metadata": {},
     "output_type": "execute_result"
    }
   ],
   "source": [
    "df_LawGarden_all.shape"
   ]
  },
  {
   "cell_type": "code",
   "execution_count": 15,
   "metadata": {},
   "outputs": [
    {
     "data": {
      "text/plain": [
       "(117060, 7)"
      ]
     },
     "execution_count": 15,
     "metadata": {},
     "output_type": "execute_result"
    }
   ],
   "source": [
    "df_Patio_Furniture_all.shape"
   ]
  },
  {
   "cell_type": "code",
   "execution_count": 16,
   "metadata": {},
   "outputs": [
    {
     "data": {
      "text/plain": [
       "(58270, 7)"
      ]
     },
     "execution_count": 16,
     "metadata": {},
     "output_type": "execute_result"
    }
   ],
   "source": [
    "df_Patio_RUGS_all.shape"
   ]
  },
  {
   "cell_type": "code",
   "execution_count": 17,
   "metadata": {
    "collapsed": true
   },
   "outputs": [],
   "source": [
    "df_LawGarden_all['department_desc']=\"LAWN & GARDEN\"\n",
    "\n",
    "df_Patio_Furniture_all['class_code_desc']=\"PATIO FURNITURE\"\n",
    "df_Patio_RUGS_all['class_code_desc']=\"PATIO RUGS\""
   ]
  },
  {
   "cell_type": "code",
   "execution_count": 21,
   "metadata": {},
   "outputs": [],
   "source": [
    "writer=pd.ExcelWriter(\"/home/jian/Projects/Big_Lots/Analysis/2019_Q1/Planner_Request/BL_Subset_LawnGarden_Patio_JL_\"+str(datetime.datetime.now().date())+\".xlsx\",engine=\"xlsxwriter\")\n",
    "df_LawGarden_all.to_excel(writer,\"Lawn_and_Garden\",index=False)\n",
    "df_Patio_Furniture_all.to_excel(writer,\"PATIO FURNITURE\",index=False)\n",
    "df_Patio_RUGS_all.to_excel(writer,\"PATIO RUGS\",index=False)\n",
    "writer.save()\n"
   ]
  },
  {
   "cell_type": "code",
   "execution_count": 19,
   "metadata": {},
   "outputs": [
    {
     "data": {
      "text/plain": [
       "'/home/jian/Projects/Big_Lots/Analysis/2019_Q1/Planner_Request/Rewards_NonR_LawGardenPatio_JT_20190215'"
      ]
     },
     "execution_count": 19,
     "metadata": {},
     "output_type": "execute_result"
    }
   ],
   "source": [
    "os.getcwd()"
   ]
  },
  {
   "cell_type": "code",
   "execution_count": null,
   "metadata": {
    "collapsed": true
   },
   "outputs": [],
   "source": []
  }
 ],
 "metadata": {
  "kernelspec": {
   "display_name": "Python 3",
   "language": "python",
   "name": "python3"
  },
  "language_info": {
   "codemirror_mode": {
    "name": "ipython",
    "version": 3
   },
   "file_extension": ".py",
   "mimetype": "text/x-python",
   "name": "python",
   "nbconvert_exporter": "python",
   "pygments_lexer": "ipython3",
   "version": "3.6.1"
  }
 },
 "nbformat": 4,
 "nbformat_minor": 2
}
