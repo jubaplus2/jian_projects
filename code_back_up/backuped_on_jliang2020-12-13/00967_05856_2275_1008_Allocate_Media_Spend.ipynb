{
 "cells": [
  {
   "cell_type": "code",
   "execution_count": 1,
   "metadata": {},
   "outputs": [
    {
     "name": "stderr",
     "output_type": "stream",
     "text": [
      "/usr/local/lib/python3.6/site-packages/fuzzywuzzy/fuzz.py:35: UserWarning: Using slow pure-python SequenceMatcher. Install python-Levenshtein to remove this warning\n",
      "  warnings.warn('Using slow pure-python SequenceMatcher. Install python-Levenshtein to remove this warning')\n"
     ]
    }
   ],
   "source": [
    "import pandas as pd\n",
    "import datetime\n",
    "import os\n",
    "import json\n",
    "from fuzzywuzzy import fuzz\n",
    "import numpy as np"
   ]
  },
  {
   "cell_type": "code",
   "execution_count": 2,
   "metadata": {
    "collapsed": true
   },
   "outputs": [],
   "source": [
    "json_file=\"/home/jian/Docs/Geo_mapping/dma_map_latest.json\"\n",
    "DMA_name_mapping=json.load(open(json_file,\"r\"))"
   ]
  },
  {
   "cell_type": "code",
   "execution_count": 3,
   "metadata": {
    "collapsed": true
   },
   "outputs": [],
   "source": [
    "def dma_guess(dma, reference = DMA_name_mapping, max_only = True, threshold = 0):\n",
    "    dma = dma.strip().upper().capitalize()\n",
    "    _reference = set(reference.values())\n",
    "    _results = {}\n",
    "    for i in _reference:\n",
    "        if ((i[:len(dma)] == dma) & (len(dma) >= 10)):\n",
    "            _results.update({101:i})\n",
    "            _results.update({fuzz.ratio(dma, i): i})\n",
    "        else:\n",
    "            _results.update({fuzz.ratio(dma, i): i})\n",
    "    if len(_results) > 0:\n",
    "        _results_filtered = {k:v for (k,v) in _results.items() if k > threshold}\n",
    "        if max_only:\n",
    "            return _results_filtered[max(_results.keys())]\n",
    "        elif max_only == False:\n",
    "            return _results_filtered\n",
    " \n",
    "       \n",
    "def dma_match(target, reference = DMA_name_mapping, output = True, wild_card = {'National': 'National'}):\n",
    "    _pdma = [] # paired\n",
    "    msgs = []\n",
    "    for dma in target:\n",
    "        try:\n",
    "            #msgs.append(\"Found EXACT Match from previous records '{}': '{}'\".format(dma,reference[dma]))\n",
    "            _pdma.append(reference[dma.strip()])\n",
    "        except KeyError:\n",
    "            _pdma.append(dma_guess(dma, reference, max_only = True))\n",
    "            msgs.append(\"'{}': '{}'\".format(dma,dma_guess(dma, reference, max_only = True)))\n",
    "            #print \"Found match for '{}': '{}\".format(dma, dma_guess(dma, DMA_name_mapping, True))\n",
    "    if not msgs:\n",
    "        print('All records found in DMA_name_mapping, please proceed. ')\n",
    "    else:\n",
    "        print (\"Suggested NEW Match: {\")\n",
    "        for i in list(set(msgs)):\n",
    "            print (i+',')\n",
    "        print (\"}\")\n",
    " \n",
    "        print (\"Run the following code if new matches are corrent: \\n DMA_name_mapping.update({\")\n",
    "        for i in list(set(msgs)):\n",
    "            print (i+',')\n",
    "        print (\"})\")"
   ]
  },
  {
   "cell_type": "code",
   "execution_count": 4,
   "metadata": {
    "collapsed": true
   },
   "outputs": [],
   "source": [
    "all_values=[]\n",
    "for key_dma in list(DMA_name_mapping.keys()):\n",
    "    all_values=list(set(all_values+[DMA_name_mapping[key_dma]]))"
   ]
  },
  {
   "cell_type": "code",
   "execution_count": 5,
   "metadata": {
    "collapsed": true
   },
   "outputs": [],
   "source": [
    "allocation_pctg=pd.read_csv(\"/home/jian/SunnyD/Otherinput/DMA_to_IRI_Pctg/from_DMA_to_IRI_based_on_common_population.csv\",dtype=str)\n",
    "allocation_pctg=allocation_pctg[['DMA','IRI Market','Pctg']]\n",
    "allocation_pctg['Pctg']=allocation_pctg['Pctg'].apply(lambda x: float(x))"
   ]
  },
  {
   "cell_type": "code",
   "execution_count": 6,
   "metadata": {
    "collapsed": true
   },
   "outputs": [],
   "source": [
    "agg_df=pd.DataFrame()\n",
    "for dma in allocation_pctg['DMA'].unique().tolist():\n",
    "    if dma not in DMA_name_mapping.keys():\n",
    "        print(dma)\n",
    "        for std_dma in all_values:\n",
    "            if fuzz.ratio(dma, std_dma)>10:\n",
    "                df=pd.DataFrame({\"found_dma\":dma,\"std_dma\":std_dma,\"ratio\":fuzz.ratio(dma, std_dma)},index=[dma])\n",
    "                agg_df=agg_df.append(df).sort_values(\"ratio\",ascending=False).head(5)"
   ]
  },
  {
   "cell_type": "code",
   "execution_count": 7,
   "metadata": {
    "collapsed": true
   },
   "outputs": [],
   "source": [
    "with open(json_file, 'w') as outfile:  \n",
    "    json.dump(DMA_name_mapping, outfile)"
   ]
  },
  {
   "cell_type": "code",
   "execution_count": 8,
   "metadata": {
    "collapsed": true
   },
   "outputs": [],
   "source": [
    "data_folder=os.getcwd()+\"/data/\""
   ]
  },
  {
   "cell_type": "code",
   "execution_count": 9,
   "metadata": {},
   "outputs": [
    {
     "data": {
      "text/plain": [
       "'/home/jian/SunnyD/Allocate_DMA_spend_to_IRI/data/'"
      ]
     },
     "execution_count": 9,
     "metadata": {},
     "output_type": "execute_result"
    }
   ],
   "source": [
    "data_folder"
   ]
  },
  {
   "cell_type": "code",
   "execution_count": 10,
   "metadata": {
    "collapsed": true
   },
   "outputs": [],
   "source": [
    "TMR_cols=['DMA','Date','cost_DMA','Media','coefficient','raw_spend_type']"
   ]
  },
  {
   "cell_type": "markdown",
   "metadata": {},
   "source": [
    "# TV"
   ]
  },
  {
   "cell_type": "code",
   "execution_count": 11,
   "metadata": {},
   "outputs": [
    {
     "data": {
      "text/plain": [
       "229974.5"
      ]
     },
     "execution_count": 11,
     "metadata": {},
     "output_type": "execute_result"
    }
   ],
   "source": [
    "# 1. Local\n",
    "spend_1_TV_local=pd.read_excel(data_folder+\"Update_Sep_1st_Week/\"+\"SunnyD August Local Cable & Broadcast Spend by day by DMA - Final - 9.14.18.xlsx\",dtype=str,sheetname=\"Cable\",skiprows=1)\n",
    "\n",
    "local_tv_cols=spend_1_TV_local.columns.tolist()\n",
    "local_tv_cols=['DMA']+[str(x)[:10] for x in local_tv_cols[1:len(local_tv_cols)-1]]+['DMA Total']\n",
    "\n",
    "spend_1_TV_local.columns=local_tv_cols\n",
    "\n",
    "spend_1_TV_local=spend_1_TV_local[local_tv_cols[:len(local_tv_cols)-1]]\n",
    "for col in spend_1_TV_local.columns.tolist()[1:]:\n",
    "    spend_1_TV_local[col]=spend_1_TV_local[col].astype(float)\n",
    "spend_1_TV_local=spend_1_TV_local[spend_1_TV_local['DMA']!='nan']\n",
    "   \n",
    "spend_1_TV_local=spend_1_TV_local.melt(id_vars=\"DMA\",var_name=\"Date\",value_name=\"cost_DMA\")\n",
    "spend_1_TV_local['Media']='TV_Local'\n",
    "spend_1_TV_local['coefficient']=0.9958\n",
    "spend_1_TV_local['raw_spend_type']='gross'\n",
    "spend_1_TV_local=spend_1_TV_local[['Date','DMA','Media','coefficient','raw_spend_type','cost_DMA']]\n",
    "spend_1_TV_local['cost_DMA'].sum()\n"
   ]
  },
  {
   "cell_type": "code",
   "execution_count": 12,
   "metadata": {
    "collapsed": true
   },
   "outputs": [],
   "source": [
    "# 2. Broadcast\n",
    "spend_2_TV_broadcast=pd.read_excel(data_folder+\"Update_Sep_1st_Week/\"+\"SunnyD August Local Cable & Broadcast Spend by day by DMA - Final - 9.14.18.xlsx\",dtype=str,sheetname=\"Broadcast\",skiprows=1)\n",
    "\n",
    "broadcast_tv_cols=spend_2_TV_broadcast.columns.tolist()\n",
    "broadcast_tv_cols=['DMA']+[str(x)[:10] for x in broadcast_tv_cols[1:len(broadcast_tv_cols)-1]]+['DMA Total']\n",
    "\n",
    "spend_2_TV_broadcast.columns=broadcast_tv_cols\n",
    "\n",
    "spend_2_TV_broadcast=spend_2_TV_broadcast[broadcast_tv_cols[:len(local_tv_cols)-1]]\n",
    "for col in spend_2_TV_broadcast.columns.tolist()[1:]:\n",
    "    spend_2_TV_broadcast[col]=spend_2_TV_broadcast[col].astype(float)\n",
    "spend_2_TV_broadcast=spend_2_TV_broadcast[spend_2_TV_broadcast['DMA']!='nan']\n",
    "   \n",
    "spend_2_TV_broadcast=spend_2_TV_broadcast.melt(id_vars=\"DMA\",var_name=\"Date\",value_name=\"cost_DMA\")\n",
    "spend_2_TV_broadcast['Media']='TV_Broadcast'\n",
    "spend_2_TV_broadcast['coefficient']=0.9958\n",
    "spend_2_TV_broadcast['raw_spend_type']='gross'\n",
    "spend_2_TV_broadcast=spend_2_TV_broadcast[['Date','DMA','Media','coefficient','raw_spend_type','cost_DMA']]\n",
    "spend_2_TV_broadcast['cost_DMA'].sum()\n",
    "spend_2_TV_broadcast['DMA']=spend_2_TV_broadcast['DMA'].apply(lambda x: x.replace(\" Total\",\"\"))\n"
   ]
  },
  {
   "cell_type": "code",
   "execution_count": 13,
   "metadata": {},
   "outputs": [
    {
     "data": {
      "text/html": [
       "<div>\n",
       "<style>\n",
       "    .dataframe thead tr:only-child th {\n",
       "        text-align: right;\n",
       "    }\n",
       "\n",
       "    .dataframe thead th {\n",
       "        text-align: left;\n",
       "    }\n",
       "\n",
       "    .dataframe tbody tr th {\n",
       "        vertical-align: top;\n",
       "    }\n",
       "</style>\n",
       "<table border=\"1\" class=\"dataframe\">\n",
       "  <thead>\n",
       "    <tr style=\"text-align: right;\">\n",
       "      <th></th>\n",
       "      <th>Date</th>\n",
       "      <th>DMA</th>\n",
       "      <th>Media</th>\n",
       "      <th>coefficient</th>\n",
       "      <th>raw_spend_type</th>\n",
       "      <th>cost_DMA</th>\n",
       "    </tr>\n",
       "  </thead>\n",
       "  <tbody>\n",
       "    <tr>\n",
       "      <th>0</th>\n",
       "      <td>2018-07-31</td>\n",
       "      <td>Atlanta</td>\n",
       "      <td>TV_Local</td>\n",
       "      <td>0.9958</td>\n",
       "      <td>gross</td>\n",
       "      <td>2498.0</td>\n",
       "    </tr>\n",
       "    <tr>\n",
       "      <th>1</th>\n",
       "      <td>2018-07-31</td>\n",
       "      <td>Augusta</td>\n",
       "      <td>TV_Local</td>\n",
       "      <td>0.9958</td>\n",
       "      <td>gross</td>\n",
       "      <td>215.0</td>\n",
       "    </tr>\n",
       "  </tbody>\n",
       "</table>\n",
       "</div>"
      ],
      "text/plain": [
       "         Date      DMA     Media  coefficient raw_spend_type  cost_DMA\n",
       "0  2018-07-31  Atlanta  TV_Local       0.9958          gross    2498.0\n",
       "1  2018-07-31  Augusta  TV_Local       0.9958          gross     215.0"
      ]
     },
     "execution_count": 13,
     "metadata": {},
     "output_type": "execute_result"
    }
   ],
   "source": [
    "local_TV_cost=spend_1_TV_local.append(spend_2_TV_broadcast)\n",
    "local_TV_cost.head(2)"
   ]
  },
  {
   "cell_type": "code",
   "execution_count": 14,
   "metadata": {
    "collapsed": true
   },
   "outputs": [],
   "source": [
    "agg_df=pd.DataFrame()\n",
    "for dma in local_TV_cost['DMA'].unique().tolist():\n",
    "    if dma not in DMA_name_mapping.keys():\n",
    "        print(dma)\n",
    "        for std_dma in all_values:\n",
    "            if fuzz.ratio(dma, std_dma)>10:\n",
    "                df=pd.DataFrame({\"found_dma\":dma,\"std_dma\":std_dma,\"ratio\":fuzz.ratio(dma, std_dma)},index=[dma])\n",
    "                agg_df=agg_df.append(df).sort_values(\"ratio\",ascending=False).head(5)"
   ]
  },
  {
   "cell_type": "code",
   "execution_count": 15,
   "metadata": {},
   "outputs": [
    {
     "data": {
      "text/plain": [
       "'\\nupdated_dict=agg_df.head(4)[[\\'std_dma\\']].reset_index().rename(columns={\"index\":\"DMA_Found\"})\\nupdated_dict.index=updated_dict[\\'DMA_Found\\']\\ndel updated_dict[\\'DMA_Found\\']\\nupdated_dict=updated_dict.to_dict()\\nDMA_name_mapping.update(updated_dict[\\'std_dma\\'])\\n'"
      ]
     },
     "execution_count": 15,
     "metadata": {},
     "output_type": "execute_result"
    }
   ],
   "source": [
    "# If empty above, no need to run\n",
    "'''\n",
    "updated_dict=agg_df.head(4)[['std_dma']].reset_index().rename(columns={\"index\":\"DMA_Found\"})\n",
    "updated_dict.index=updated_dict['DMA_Found']\n",
    "del updated_dict['DMA_Found']\n",
    "updated_dict=updated_dict.to_dict()\n",
    "DMA_name_mapping.update(updated_dict['std_dma'])\n",
    "'''"
   ]
  },
  {
   "cell_type": "code",
   "execution_count": 16,
   "metadata": {},
   "outputs": [
    {
     "data": {
      "text/html": [
       "<div>\n",
       "<style>\n",
       "    .dataframe thead tr:only-child th {\n",
       "        text-align: right;\n",
       "    }\n",
       "\n",
       "    .dataframe thead th {\n",
       "        text-align: left;\n",
       "    }\n",
       "\n",
       "    .dataframe tbody tr th {\n",
       "        vertical-align: top;\n",
       "    }\n",
       "</style>\n",
       "<table border=\"1\" class=\"dataframe\">\n",
       "  <thead>\n",
       "    <tr style=\"text-align: right;\">\n",
       "      <th></th>\n",
       "      <th>Date</th>\n",
       "      <th>DMA</th>\n",
       "      <th>Media</th>\n",
       "      <th>coefficient</th>\n",
       "      <th>raw_spend_type</th>\n",
       "      <th>cost_DMA</th>\n",
       "    </tr>\n",
       "  </thead>\n",
       "  <tbody>\n",
       "    <tr>\n",
       "      <th>0</th>\n",
       "      <td>2018-07-31</td>\n",
       "      <td>Atlanta</td>\n",
       "      <td>TV_Local</td>\n",
       "      <td>0.9958</td>\n",
       "      <td>gross</td>\n",
       "      <td>2498.0</td>\n",
       "    </tr>\n",
       "    <tr>\n",
       "      <th>1</th>\n",
       "      <td>2018-07-31</td>\n",
       "      <td>Augusta</td>\n",
       "      <td>TV_Local</td>\n",
       "      <td>0.9958</td>\n",
       "      <td>gross</td>\n",
       "      <td>215.0</td>\n",
       "    </tr>\n",
       "  </tbody>\n",
       "</table>\n",
       "</div>"
      ],
      "text/plain": [
       "         Date      DMA     Media  coefficient raw_spend_type  cost_DMA\n",
       "0  2018-07-31  Atlanta  TV_Local       0.9958          gross    2498.0\n",
       "1  2018-07-31  Augusta  TV_Local       0.9958          gross     215.0"
      ]
     },
     "execution_count": 16,
     "metadata": {},
     "output_type": "execute_result"
    }
   ],
   "source": [
    "local_TV_cost.head(2)"
   ]
  },
  {
   "cell_type": "code",
   "execution_count": 17,
   "metadata": {},
   "outputs": [
    {
     "data": {
      "text/html": [
       "<div>\n",
       "<style>\n",
       "    .dataframe thead tr:only-child th {\n",
       "        text-align: right;\n",
       "    }\n",
       "\n",
       "    .dataframe thead th {\n",
       "        text-align: left;\n",
       "    }\n",
       "\n",
       "    .dataframe tbody tr th {\n",
       "        vertical-align: top;\n",
       "    }\n",
       "</style>\n",
       "<table border=\"1\" class=\"dataframe\">\n",
       "  <thead>\n",
       "    <tr style=\"text-align: right;\">\n",
       "      <th></th>\n",
       "      <th>Date</th>\n",
       "      <th>DMA</th>\n",
       "      <th>Media</th>\n",
       "      <th>coefficient</th>\n",
       "      <th>raw_spend_type</th>\n",
       "      <th>cost_DMA</th>\n",
       "    </tr>\n",
       "  </thead>\n",
       "  <tbody>\n",
       "    <tr>\n",
       "      <th>0</th>\n",
       "      <td>2018-07-31</td>\n",
       "      <td>Atlanta</td>\n",
       "      <td>TV_Local</td>\n",
       "      <td>0.9958</td>\n",
       "      <td>gross</td>\n",
       "      <td>2498.0</td>\n",
       "    </tr>\n",
       "    <tr>\n",
       "      <th>1</th>\n",
       "      <td>2018-07-31</td>\n",
       "      <td>Augusta</td>\n",
       "      <td>TV_Local</td>\n",
       "      <td>0.9958</td>\n",
       "      <td>gross</td>\n",
       "      <td>215.0</td>\n",
       "    </tr>\n",
       "  </tbody>\n",
       "</table>\n",
       "</div>"
      ],
      "text/plain": [
       "         Date      DMA     Media  coefficient raw_spend_type  cost_DMA\n",
       "0  2018-07-31  Atlanta  TV_Local       0.9958          gross    2498.0\n",
       "1  2018-07-31  Augusta  TV_Local       0.9958          gross     215.0"
      ]
     },
     "execution_count": 17,
     "metadata": {},
     "output_type": "execute_result"
    }
   ],
   "source": [
    "local_TV_cost.head(2)"
   ]
  },
  {
   "cell_type": "markdown",
   "metadata": {},
   "source": [
    "# National TV"
   ]
  },
  {
   "cell_type": "code",
   "execution_count": 18,
   "metadata": {
    "collapsed": true
   },
   "outputs": [],
   "source": [
    "spend_national_TV=pd.read_excel(\"/home/jian/SunnyD/Allocate_DMA_spend_to_IRI/data/Update_Sep_1st_Week/Galavision and UniMas Spend by Day by DMA_1.xlsx\",dtype=str,skiprows=9)\n",
    "spend_national_TV_dates=[str(x)[:10] for x in spend_national_TV.columns.tolist() if \"Unnamed\" not in str(x)]\n",
    "spend_national_TV=pd.read_excel(\"/home/jian/SunnyD/Allocate_DMA_spend_to_IRI/data/Galavision and UniMas Spend by Day by DMA.xlsx\",dtype=str,skiprows=10)\n",
    "spend_national_TV=spend_national_TV.rename(columns={\"Unnamed: 0\":\"DMA\"})\n",
    "spend_national_TV=spend_national_TV[[x for x in spend_national_TV.columns.tolist() if \"Spend\" not in x]]\n",
    "spend_national_TV=spend_national_TV.iloc[:,0:len(spend_national_TV_dates)*2+1]"
   ]
  },
  {
   "cell_type": "code",
   "execution_count": 19,
   "metadata": {
    "collapsed": true
   },
   "outputs": [],
   "source": [
    "columns_name=[]\n",
    "for date_str in spend_national_TV_dates:\n",
    "    for channel in [\"Galavision\",\"UniMas\"]:\n",
    "        name_str=date_str+\"|\"+channel\n",
    "        columns_name=columns_name+[name_str]\n",
    "spend_national_TV.columns=['DMA']+columns_name"
   ]
  },
  {
   "cell_type": "code",
   "execution_count": 20,
   "metadata": {
    "collapsed": true
   },
   "outputs": [],
   "source": [
    "spend_national_TV_G=spend_national_TV[['DMA']+[col for col in spend_national_TV.columns.tolist() if \"Gala\" in col]]\n",
    "spend_national_TV_U=spend_national_TV[['DMA']+[col for col in spend_national_TV.columns.tolist() if \"Uni\" in col]]\n",
    "spend_national_TV_G.columns=['DMA']+[x[:10] for x in spend_national_TV_G.columns.tolist()[1:]]\n",
    "spend_national_TV_U.columns=['DMA']+[x[:10] for x in spend_national_TV_U.columns.tolist()[1:]]\n",
    "spend_national_TV_G=spend_national_TV_G.melt(id_vars=\"DMA\",var_name=\"Date\",value_name=\"cost_DMA\")\n",
    "spend_national_TV_U=spend_national_TV_U.melt(id_vars=\"DMA\",var_name=\"Date\",value_name=\"cost_DMA\")\n",
    "spend_national_TV_G['Media']=\"National_TV_Galavision\"\n",
    "spend_national_TV_U['Media']=\"National_TV_UniMas\"\n",
    "national_TV_cost=spend_national_TV_G.append(spend_national_TV_U)\n",
    "national_TV_cost['coefficient']=0.9958\n",
    "national_TV_cost['raw_spend_type']=\"gross\"\n",
    "national_TV_cost=national_TV_cost[local_TV_cost.columns.tolist()]\n",
    "national_TV_cost['DMA']=national_TV_cost['DMA'].apply(lambda x: x.split(\" (\")[0])\n",
    "national_TV_cost['cost_DMA']=national_TV_cost['cost_DMA'].astype(float)"
   ]
  },
  {
   "cell_type": "markdown",
   "metadata": {
    "collapsed": true
   },
   "source": [
    "# FB/IG"
   ]
  },
  {
   "cell_type": "code",
   "execution_count": 21,
   "metadata": {
    "collapsed": true
   },
   "outputs": [],
   "source": [
    "FB_Inst_cost=pd.read_excel(data_folder+\"Update_Sep_1st_Week/\"+\"FB-IG_Sunny D_Spend by DMA Day_9.4.2018.xlsx\",dtype=str,sheetname='Raw Data Report',skiprows=2)\n",
    "FB_Inst_cost=FB_Inst_cost[~FB_Inst_cost['Day'].isin(['nan','All'])]\n",
    "FB_Inst_cost=FB_Inst_cost[['DMA Region','Day','Amount Spent']].rename(columns={\"DMA Region\":\"DMA\",\"Day\":\"Date\",\"Amount Spent\":\"cost_DMA\"})\n",
    "FB_Inst_cost['cost_DMA']=FB_Inst_cost['cost_DMA'].astype(float)\n",
    "FB_Inst_cost['Media']='FB_IG'\n",
    "FB_Inst_cost['coefficient']=0.9958/0.85\n",
    "FB_Inst_cost['raw_spend_type']='net'\n",
    "FB_Inst_cost=FB_Inst_cost[TMR_cols]"
   ]
  },
  {
   "cell_type": "code",
   "execution_count": 22,
   "metadata": {
    "collapsed": true
   },
   "outputs": [],
   "source": [
    "agg_df=pd.DataFrame()\n",
    "for dma in FB_Inst_cost['DMA'].unique().tolist():\n",
    "    if dma not in DMA_name_mapping.keys():\n",
    "        print(dma)\n",
    "        for std_dma in all_values:\n",
    "            if fuzz.ratio(dma, std_dma)>10:\n",
    "                df=pd.DataFrame({\"found_dma\":dma,\"std_dma\":std_dma,\"ratio\":fuzz.ratio(dma, std_dma)},index=[dma])\n",
    "                agg_df=agg_df.append(df).sort_values(\"ratio\",ascending=False).head(5)"
   ]
  },
  {
   "cell_type": "markdown",
   "metadata": {},
   "source": [
    "# Snapchat"
   ]
  },
  {
   "cell_type": "code",
   "execution_count": 23,
   "metadata": {
    "collapsed": true
   },
   "outputs": [],
   "source": [
    "Snapchat_cost=pd.read_excel(data_folder+\"Update_Sep_1st_Week/\"+\"Snapchat_ad-account-EST-3157_SunnyD_SC-campaigns-data.xlsx\",dtype=str)\n",
    "Snapchat_cost=Snapchat_cost[['Start time','Spend']].rename(columns={\"Start time\":\"Date\",\"Spend\":\"cost_DMA\"})\n",
    "Snapchat_cost['DMA']='xx'\n",
    "Snapchat_cost['Media']=\"Snapchat\"\n",
    "Snapchat_cost['Date']=Snapchat_cost['Date'].apply(lambda x: x[:10])\n",
    "Snapchat_cost['coefficient']=0.9958/0.85\n",
    "Snapchat_cost['cost_DMA']=Snapchat_cost['cost_DMA'].astype(float)\n",
    "Snapchat_cost['Date']=Snapchat_cost['Date'].apply(lambda x: datetime.datetime.strptime(x,\"%Y-%m-%d\").date())\n",
    "Snapchat_cost['raw_spend_type']='net'\n",
    "Snapchat_cost=Snapchat_cost[local_TV_cost.columns]\n",
    "Snapchat_cost['Date']=Snapchat_cost['Date'].astype(str)"
   ]
  },
  {
   "cell_type": "markdown",
   "metadata": {},
   "source": [
    "# Spotify"
   ]
  },
  {
   "cell_type": "code",
   "execution_count": 24,
   "metadata": {},
   "outputs": [
    {
     "data": {
      "text/plain": [
       "'\\nSpotify_cost_date=pd.read_excel(data_folder+\"3158_SunnyD_2018Campaign_Spotify PG.xlsx\",dtype=str,sheetname=\"Spotify\")\\nrows=Spotify_cost_date[Spotify_cost_date[\\'DMA\\'].apply(lambda x: \"00:\" in x)].reset_index()[\\'index\\'].tolist()+[len(Spotify_cost_date)]\\n\\nSpotify_cost=pd.DataFrame()\\nfor i in range(len(rows)-1):\\n    df=Spotify_cost_date.iloc[rows[i]:rows[i+1],]\\n    date=Spotify_cost_date[\\'DMA\\'][rows[i]][:10]\\n    df[\\'Date\\']=date\\n    df=df.reset_index()\\n    del df[\\'index\\']\\n    df=df.iloc[1:]\\n    Spotify_cost=Spotify_cost.append(df)\\nSpotify_cost[\\'DMA\\']=Spotify_cost[\\'DMA\\'].replace(\"nan\",\"xx\")\\n\\nSpotify_cost[\\'Date\\']=Spotify_cost[\\'Date\\'].apply(lambda x: datetime.datetime.strptime(x,\"%Y-%m-%d\").date())\\nSpotify_cost[\\'cost_DMA\\']=Spotify_cost[\\'Media Dollars\\'].apply(lambda x: float(x))\\nSpotify_cost[\\'Media\\']=\\'Spotify\\'\\nSpotify_cost[\\'coefficient\\']=0.9958/0.85\\nSpotify_cost[\\'raw_spend_type\\']=\"net\"\\nSpotify_cost=Spotify_cost[local_TV_cost.columns.tolist()]\\n'"
      ]
     },
     "execution_count": 24,
     "metadata": {},
     "output_type": "execute_result"
    }
   ],
   "source": [
    "# Already included in Digital\n",
    "\n",
    "'''\n",
    "Spotify_cost_date=pd.read_excel(data_folder+\"3158_SunnyD_2018Campaign_Spotify PG.xlsx\",dtype=str,sheetname=\"Spotify\")\n",
    "rows=Spotify_cost_date[Spotify_cost_date['DMA'].apply(lambda x: \"00:\" in x)].reset_index()['index'].tolist()+[len(Spotify_cost_date)]\n",
    "\n",
    "Spotify_cost=pd.DataFrame()\n",
    "for i in range(len(rows)-1):\n",
    "    df=Spotify_cost_date.iloc[rows[i]:rows[i+1],]\n",
    "    date=Spotify_cost_date['DMA'][rows[i]][:10]\n",
    "    df['Date']=date\n",
    "    df=df.reset_index()\n",
    "    del df['index']\n",
    "    df=df.iloc[1:]\n",
    "    Spotify_cost=Spotify_cost.append(df)\n",
    "Spotify_cost['DMA']=Spotify_cost['DMA'].replace(\"nan\",\"xx\")\n",
    "\n",
    "Spotify_cost['Date']=Spotify_cost['Date'].apply(lambda x: datetime.datetime.strptime(x,\"%Y-%m-%d\").date())\n",
    "Spotify_cost['cost_DMA']=Spotify_cost['Media Dollars'].apply(lambda x: float(x))\n",
    "Spotify_cost['Media']='Spotify'\n",
    "Spotify_cost['coefficient']=0.9958/0.85\n",
    "Spotify_cost['raw_spend_type']=\"net\"\n",
    "Spotify_cost=Spotify_cost[local_TV_cost.columns.tolist()]\n",
    "'''"
   ]
  },
  {
   "cell_type": "markdown",
   "metadata": {},
   "source": [
    "# Cinema"
   ]
  },
  {
   "cell_type": "code",
   "execution_count": 25,
   "metadata": {
    "collapsed": true
   },
   "outputs": [],
   "source": [
    "Cinema_cost=pd.read_excel(data_folder+\"HH SunnyD Cinema Breakout by Day_8.24_FOR JUBA.XLSX\",dtype=str,skiprows=3,sheetname=\"Spend by DMA_Cinema\")\n",
    "Cinema_cost=Cinema_cost.iloc[:,1:(Cinema_cost.shape[1]-1)]"
   ]
  },
  {
   "cell_type": "code",
   "execution_count": 26,
   "metadata": {
    "collapsed": true
   },
   "outputs": [],
   "source": [
    "Cinema_cost_header=[x[:10] for x in [str(col) for col in Cinema_cost.columns.tolist()] if \"-\" in x]\n",
    "Cinema_cost.columns=[['DMA']+Cinema_cost_header]\n",
    "# All DMA found\n",
    "\n",
    "Cinema_cost=pd.melt(Cinema_cost, id_vars='DMA', value_vars=Cinema_cost.columns.tolist()[1:])\n",
    "Cinema_cost.columns=['DMA','Date','cost_DMA']\n",
    "Cinema_cost['cost_DMA']=Cinema_cost['cost_DMA'].astype(float)\n",
    "Cinema_cost=Cinema_cost.groupby(['DMA','Date'])['cost_DMA'].sum().to_frame().reset_index()\n",
    "Cinema_cost['Media']='Cinema'\n",
    "Cinema_cost['coefficient']=0.9958/0.85\n",
    "Cinema_cost['raw_spend_type']='net'\n",
    "Cinema_cost=Cinema_cost[local_TV_cost.columns]"
   ]
  },
  {
   "cell_type": "markdown",
   "metadata": {},
   "source": [
    "# Dish_DTV"
   ]
  },
  {
   "cell_type": "code",
   "execution_count": 27,
   "metadata": {
    "collapsed": true
   },
   "outputs": [],
   "source": [
    "DISH_cost=pd.read_excel(data_folder+\"Update_Sep_1st_Week/\"+\"HH SunnyD DISH & DTV Breakout by Day_9.4_FOR JUBA.xlsx\",dtype=str,skiprows=3,sheetname=\"Spend by DMA_DISH\")\n",
    "DISH_cost=DISH_cost.iloc[:,1:(DISH_cost.shape[1]-1)]\n",
    "DISH_cost.head(2)\n",
    "\n",
    "\n",
    "DISH_cost_header=[x[:10] for x in [str(col) for col in DISH_cost.columns.tolist()] if \"-\" in x]\n",
    "DISH_cost.columns=[['DMA']+DISH_cost_header]\n",
    "DISH_cost=pd.melt(DISH_cost, id_vars='DMA', value_vars=DISH_cost.columns.tolist()[1:])\n",
    "DISH_cost.columns=['DMA','Date','cost_DMA']\n",
    "DISH_cost['cost_DMA']=DISH_cost['cost_DMA'].astype(float)\n",
    "DISH_cost=DISH_cost.groupby(['DMA','Date'])['cost_DMA'].sum().to_frame().reset_index()\n",
    "DISH_cost['Media']='DISH'\n",
    "DISH_cost['coefficient']=0.9958\n",
    "DISH_cost['raw_spend_type']='gross'\n",
    "DISH_cost=DISH_cost[local_TV_cost.columns]"
   ]
  },
  {
   "cell_type": "code",
   "execution_count": 28,
   "metadata": {
    "collapsed": true
   },
   "outputs": [],
   "source": [
    "DTV_cost=pd.read_excel(data_folder+\"Update_Sep_1st_Week/\"+\"HH SunnyD DISH & DTV Breakout by Day_9.4_FOR JUBA.xlsx\",dtype=str,skiprows=3,sheetname=\"Spend by DMA_DTV\")\n",
    "DTV_cost=DTV_cost.iloc[:,1:(DTV_cost.shape[1]-1)]\n",
    "DTV_cost.head(2)\n",
    "\n",
    "DTV_cost_header=[x[:10] for x in [str(col) for col in DTV_cost.columns.tolist()] if \"-\" in x]\n",
    "DTV_cost.columns=[['DMA']+DTV_cost_header]\n",
    "DTV_cost=pd.melt(DTV_cost, id_vars='DMA', value_vars=DTV_cost.columns.tolist()[1:])\n",
    "DTV_cost.columns=['DMA','Date','cost_DMA']\n",
    "DTV_cost['cost_DMA']=DTV_cost['cost_DMA'].astype(float)\n",
    "DTV_cost=DTV_cost.groupby(['DMA','Date'])['cost_DMA'].sum().to_frame().reset_index()\n",
    "DTV_cost['Media']='DTV'\n",
    "DTV_cost['coefficient']=0.9958\n",
    "DTV_cost['raw_spend_type']='gross'\n",
    "DTV_cost=DTV_cost[local_TV_cost.columns]"
   ]
  },
  {
   "cell_type": "markdown",
   "metadata": {},
   "source": [
    "# Digital by zip"
   ]
  },
  {
   "cell_type": "code",
   "execution_count": 57,
   "metadata": {
    "collapsed": true
   },
   "outputs": [],
   "source": [
    "Digital_cost=pd.read_excel(data_folder+\"Update_Sep_1st_Week/\"+\"Estimated Digital Spend By Zip By Day_Sunny D 9.11.xlsx\",\n",
    "                           dtype=str,sheetname=\"Total Spend by Zip by Day\")\n",
    "Digital_cost_header=[x for x in [str(col) for col in Digital_cost.columns.tolist()] if \"/\" in x]\n",
    "Digital_cost.columns=[['Zips']+Digital_cost_header+[\"Total\"]]\n",
    "Digital_cost=Digital_cost.fillna(0)\n",
    "Digital_cost=Digital_cost.rename(columns={\"Zips\":\"zip_cd\"})"
   ]
  },
  {
   "cell_type": "code",
   "execution_count": 58,
   "metadata": {
    "collapsed": true
   },
   "outputs": [],
   "source": [
    "Digital_cost=Digital_cost[Digital_cost['zip_cd']!='Grand Total']\n",
    "Digital_cost=Digital_cost[Digital_cost['zip_cd']!='Total']\n",
    "Digital_cost['zip_cd']=Digital_cost['zip_cd'].apply(lambda x: x.zfill(5))"
   ]
  },
  {
   "cell_type": "code",
   "execution_count": 59,
   "metadata": {
    "collapsed": true
   },
   "outputs": [],
   "source": [
    "zip_IRI_mapping=pd.read_excel(\"/home/jian/SunnyD/Otherinput/All_IRI_Mkt_with_Zips_0430.xlsx\",dtype=str)"
   ]
  },
  {
   "cell_type": "code",
   "execution_count": 60,
   "metadata": {
    "collapsed": true
   },
   "outputs": [],
   "source": [
    "Digital_cost=pd.merge(Digital_cost,zip_IRI_mapping,on=\"zip_cd\",how=\"left\")\n",
    "Digital_cost['IRI Market']=Digital_cost['IRI Market'].fillna(\"NO MARKET\")\n",
    "# del Digital_cost['zip_cd']\n",
    "\n",
    "QC_Digital_cost=Digital_cost[['zip_cd','IRI Market']+[x for x in Digital_cost.columns.tolist() if \"/\" in x]]\n",
    "QC_Digital_cost['18_Mkt_Ind']=Digital_cost['IRI Market'].apply(lambda x: In_18(x))\n",
    "QC_Digital_cost.to_csv(\"/home/jian/SunnyD/Allocate_DMA_spend_to_IRI/QC_Digital.csv\",index=False)\n",
    "\n",
    "Digital_cost=Digital_cost[['IRI Market']+[x for x in Digital_cost.columns.tolist() if \"/\" in x]]"
   ]
  },
  {
   "cell_type": "code",
   "execution_count": 63,
   "metadata": {
    "collapsed": true
   },
   "outputs": [],
   "source": []
  },
  {
   "cell_type": "code",
   "execution_count": 33,
   "metadata": {
    "collapsed": true
   },
   "outputs": [],
   "source": [
    "Digital_cost=pd.melt(Digital_cost, id_vars='IRI Market', value_vars=Digital_cost.columns.tolist()[1:])\n",
    "Digital_cost.columns=['IRI Market','Date','cost_IRI']\n",
    "Digital_cost['cost_IRI']=Digital_cost['cost_IRI'].astype(float)\n",
    "Digital_cost=Digital_cost.groupby(['IRI Market','Date'])['cost_IRI'].sum().to_frame().reset_index()\n",
    "Digital_cost['Media']='Digital'\n",
    "Digital_cost['coefficient']=1\n",
    "Digital_cost['adjusted_cost_IRI']=Digital_cost['cost_IRI']*Digital_cost['coefficient']\n",
    "Digital_cost['raw_spend_type']='adjusted'\n",
    "Digital_cost['Date']=Digital_cost['Date'].apply(lambda x: datetime.date(int(x.split(\"/\")[2]),int(x.split(\"/\")[0]),int(x.split(\"/\")[1])))\n",
    "Digital_cost['Date']=Digital_cost['Date'].astype(str)\n"
   ]
  },
  {
   "cell_type": "markdown",
   "metadata": {},
   "source": [
    "# Pandora by Zip"
   ]
  },
  {
   "cell_type": "code",
   "execution_count": 35,
   "metadata": {},
   "outputs": [
    {
     "data": {
      "text/plain": [
       "'\\nPandora_cost=pd.read_excel(data_folder+\"Pandora Estimated Digital Spend By Zip By Day_Sunny D.xlsx\",dtype=str,sheetname=\"PANDORA TOTAL ESTIMATED SPEND\")\\nPandora_cost_header=[x[:10] for x in [str(col) for col in Pandora_cost.columns.tolist()] if \"-\" in x]\\nPandora_cost.columns=[[\\'zip_cd\\']+Pandora_cost_header+[\"Total\"]]\\nPandora_cost=Pandora_cost[Pandora_cost[\\'zip_cd\\']!=\\'Total\\']\\nPandora_cost[\\'zip_cd\\']=Pandora_cost[\\'zip_cd\\'].apply(lambda x: x.zfill(5))\\n\\nPandora_cost=pd.merge(Pandora_cost,zip_IRI_mapping,on=\"zip_cd\",how=\"left\")\\nPandora_cost[\\'IRI Market\\']=Pandora_cost[\\'IRI Market\\'].fillna(\"NO MARKET\")\\ndel Pandora_cost[\\'zip_cd\\']\\n\\nPandora_cost=Pandora_cost[[\\'IRI Market\\']+[x for x in Pandora_cost.columns.tolist() if \"-\" in x]]\\n\\nPandora_cost=pd.melt(Pandora_cost, id_vars=\\'IRI Market\\', value_vars=Pandora_cost.columns.tolist()[1:])\\nPandora_cost.columns=[\\'IRI Market\\',\\'Date\\',\\'cost_IRI\\']\\nPandora_cost[\\'cost_IRI\\']=Pandora_cost[\\'cost_IRI\\'].astype(float)\\nPandora_cost=Pandora_cost.groupby([\\'IRI Market\\',\\'Date\\'])[\\'cost_IRI\\'].sum().to_frame().reset_index()\\nPandora_cost[\\'Media\\']=\\'Pandora\\'\\nPandora_cost[\\'coefficient\\']=0.9958\\nPandora_cost[\\'adjusted_cost_IRI\\']=Pandora_cost[\\'cost_IRI\\']*Pandora_cost[\\'coefficient\\']\\nPandora_cost[\\'raw_spend_type\\']=\\'gross\\'\\n'"
      ]
     },
     "execution_count": 35,
     "metadata": {},
     "output_type": "execute_result"
    }
   ],
   "source": [
    "# Already included in Digital\n",
    "'''\n",
    "Pandora_cost=pd.read_excel(data_folder+\"Pandora Estimated Digital Spend By Zip By Day_Sunny D.xlsx\",dtype=str,sheetname=\"PANDORA TOTAL ESTIMATED SPEND\")\n",
    "Pandora_cost_header=[x[:10] for x in [str(col) for col in Pandora_cost.columns.tolist()] if \"-\" in x]\n",
    "Pandora_cost.columns=[['zip_cd']+Pandora_cost_header+[\"Total\"]]\n",
    "Pandora_cost=Pandora_cost[Pandora_cost['zip_cd']!='Total']\n",
    "Pandora_cost['zip_cd']=Pandora_cost['zip_cd'].apply(lambda x: x.zfill(5))\n",
    "\n",
    "Pandora_cost=pd.merge(Pandora_cost,zip_IRI_mapping,on=\"zip_cd\",how=\"left\")\n",
    "Pandora_cost['IRI Market']=Pandora_cost['IRI Market'].fillna(\"NO MARKET\")\n",
    "del Pandora_cost['zip_cd']\n",
    "\n",
    "Pandora_cost=Pandora_cost[['IRI Market']+[x for x in Pandora_cost.columns.tolist() if \"-\" in x]]\n",
    "\n",
    "Pandora_cost=pd.melt(Pandora_cost, id_vars='IRI Market', value_vars=Pandora_cost.columns.tolist()[1:])\n",
    "Pandora_cost.columns=['IRI Market','Date','cost_IRI']\n",
    "Pandora_cost['cost_IRI']=Pandora_cost['cost_IRI'].astype(float)\n",
    "Pandora_cost=Pandora_cost.groupby(['IRI Market','Date'])['cost_IRI'].sum().to_frame().reset_index()\n",
    "Pandora_cost['Media']='Pandora'\n",
    "Pandora_cost['coefficient']=0.9958\n",
    "Pandora_cost['adjusted_cost_IRI']=Pandora_cost['cost_IRI']*Pandora_cost['coefficient']\n",
    "Pandora_cost['raw_spend_type']='gross'\n",
    "'''"
   ]
  },
  {
   "cell_type": "markdown",
   "metadata": {},
   "source": [
    "# Append all of the 3 DMA files"
   ]
  },
  {
   "cell_type": "code",
   "execution_count": 36,
   "metadata": {
    "collapsed": true
   },
   "outputs": [],
   "source": [
    "# Add digital later\n",
    "TMR_cost=Snapchat_cost.append(FB_Inst_cost).append(local_TV_cost).append(national_TV_cost).append(Cinema_cost).append(DISH_cost).append(DTV_cost)"
   ]
  },
  {
   "cell_type": "code",
   "execution_count": 37,
   "metadata": {},
   "outputs": [
    {
     "data": {
      "text/plain": [
       "array([], dtype=object)"
      ]
     },
     "execution_count": 37,
     "metadata": {},
     "output_type": "execute_result"
    }
   ],
   "source": [
    "TMR_cost[TMR_cost['cost_DMA'].apply(lambda x: type(x))==str]['Media'].unique()"
   ]
  },
  {
   "cell_type": "code",
   "execution_count": 38,
   "metadata": {
    "collapsed": true
   },
   "outputs": [],
   "source": [
    "TMR_cost['std_DMA']=TMR_cost['DMA'].apply(lambda x: DMA_name_mapping[x])\n",
    "del TMR_cost['DMA']\n",
    "TMR_cost['adjusted_cost_DMA']=TMR_cost['cost_DMA']*TMR_cost['coefficient']"
   ]
  },
  {
   "cell_type": "markdown",
   "metadata": {},
   "source": [
    "# Apply Pctg"
   ]
  },
  {
   "cell_type": "code",
   "execution_count": 39,
   "metadata": {
    "collapsed": true
   },
   "outputs": [],
   "source": [
    "mapping_pctg=pd.read_csv(\"/home/jian/SunnyD/Otherinput/DMA_to_IRI_Pctg/from_DMA_to_IRI_based_on_common_population.csv\",dtype=str)\n",
    "mapping_pctg=mapping_pctg.append(pd.DataFrame({\"IRI Market\":\"National\",\"Pctg\":1,\"DMA\":\"National\"},index=[0]))\n",
    "mapping_pctg=mapping_pctg.append(pd.DataFrame({\"IRI Market\":\"Unknown\",\"Pctg\":1,\"DMA\":\"Unknown\"},index=[0]))\n",
    "mapping_pctg=mapping_pctg.append(pd.DataFrame({\"IRI Market\":[\"NO MARKET\"]*4,\"Pctg\":[1]*4,\"DMA\":['Honolulu, HI','Anchorage, AK',\n",
    "                                                                                                'Fairbanks, AK','Juneau, AK']},index=[0]*4))\n",
    "\n",
    "mapping_pctg=mapping_pctg[['DMA','IRI Market','Pctg']]\n",
    "mapping_pctg['std_DMA']=mapping_pctg['DMA'].apply(lambda x: DMA_name_mapping[x])\n",
    "del mapping_pctg['DMA']\n",
    "mapping_pctg['Pctg']=mapping_pctg['Pctg'].astype(float)"
   ]
  },
  {
   "cell_type": "code",
   "execution_count": 40,
   "metadata": {
    "collapsed": true
   },
   "outputs": [],
   "source": [
    "TMR_cost_IRI=pd.merge(TMR_cost,mapping_pctg,on='std_DMA',how=\"left\")"
   ]
  },
  {
   "cell_type": "code",
   "execution_count": 41,
   "metadata": {
    "collapsed": true
   },
   "outputs": [],
   "source": [
    "TMR_cost_IRI['adjusted_cost_IRI']=TMR_cost_IRI['adjusted_cost_DMA']*TMR_cost_IRI['Pctg']"
   ]
  },
  {
   "cell_type": "code",
   "execution_count": 42,
   "metadata": {
    "collapsed": true
   },
   "outputs": [],
   "source": [
    "# Add digital"
   ]
  },
  {
   "cell_type": "code",
   "execution_count": 43,
   "metadata": {
    "collapsed": true
   },
   "outputs": [],
   "source": [
    "TMR_cost_IRI=TMR_cost_IRI.append(Digital_cost)"
   ]
  },
  {
   "cell_type": "code",
   "execution_count": 53,
   "metadata": {
    "collapsed": true
   },
   "outputs": [],
   "source": [
    "Markets_18=['BIRMINGHAM/MONTGOMERY','NEW ORLEANS/MOBILE','PHOENIX/TUCSON','LOS ANGELES','DENVER','MIAMI/FT LAUDERDALE',\n",
    "            'ATLANTA','SOUTH CAROLINA','CHICAGO','BOSTON','BALTIMORE/WASHINGTON','DETROIT','MISSISSIPPI','RALEIGH/GREENSBORO',\n",
    "            'NEW YORK','WEST TEX/NEW MEXICO','HOUSTON','DALLAS/FT WORTH']"
   ]
  },
  {
   "cell_type": "code",
   "execution_count": 51,
   "metadata": {
    "collapsed": true
   },
   "outputs": [],
   "source": [
    "def In_18(x):\n",
    "    if x in Markets_18:\n",
    "        y=\"In_18_Mkts\"\n",
    "    else:\n",
    "        y=\"Other\"\n",
    "    return y"
   ]
  },
  {
   "cell_type": "code",
   "execution_count": 46,
   "metadata": {
    "collapsed": true
   },
   "outputs": [],
   "source": [
    "TMR_cost_IRI['18_Mkt_Ind']=TMR_cost_IRI['IRI Market'].apply(lambda x: In_18(x))"
   ]
  },
  {
   "cell_type": "code",
   "execution_count": null,
   "metadata": {
    "collapsed": true
   },
   "outputs": [],
   "source": []
  },
  {
   "cell_type": "code",
   "execution_count": 47,
   "metadata": {
    "collapsed": true
   },
   "outputs": [],
   "source": [
    "TMR_cost_IRI['IRI Market']=np.where(TMR_cost_IRI['std_DMA']==\"National\",\"National\",\n",
    "                               np.where(TMR_cost_IRI['std_DMA'].isin(['xx','Honolulu, HI']),\"Unknown\",TMR_cost_IRI['IRI Market']))"
   ]
  },
  {
   "cell_type": "code",
   "execution_count": 48,
   "metadata": {
    "collapsed": true
   },
   "outputs": [],
   "source": [
    "TMR_cost_IRI.to_csv(os.getcwd()+\"/output/SunnyD_allocated_medial_spend_JL_\"+str(datetime.datetime.now().date())+\".csv\",index=False)"
   ]
  },
  {
   "cell_type": "code",
   "execution_count": 49,
   "metadata": {
    "collapsed": true
   },
   "outputs": [],
   "source": [
    "func= {'adjusted_cost_IRI':['sum'], 'Date':['max','min']}\n",
    "TMR_cost_IRI['Date']=TMR_cost_IRI['Date'].apply(lambda x: datetime.datetime.strptime(x,\"%Y-%m-%d\").date())\n",
    "summary=TMR_cost_IRI.groupby(['IRI Market','18_Mkt_Ind','Media']).agg(func).reset_index()\n",
    "summary.columns=summary.columns.get_level_values(0)\n",
    "summary.columns=summary.columns.tolist()[0:4]+['Date_Max','Date_Min']\n",
    "summary['Cost_Pctg']=summary['adjusted_cost_IRI']/summary['adjusted_cost_IRI'].sum()"
   ]
  },
  {
   "cell_type": "code",
   "execution_count": 50,
   "metadata": {
    "collapsed": true
   },
   "outputs": [],
   "source": [
    "summary=summary.sort_values(['IRI Market','Cost_Pctg'],ascending=[True,False])\n",
    "summary.to_csv(os.getcwd()+\"/output/SunnyD_allocated_medial_spend_summary_JL_\"+str(datetime.datetime.now().date())+\".csv\",index=False)"
   ]
  },
  {
   "cell_type": "code",
   "execution_count": 51,
   "metadata": {
    "collapsed": true
   },
   "outputs": [],
   "source": [
    "dates_in_data=TMR_cost_IRI.groupby(['Media','raw_spend_type','coefficient']).agg(func).reset_index()\n",
    "dates_in_data.columns=dates_in_data.columns.get_level_values(0)\n",
    "dates_in_data.columns=dates_in_data.columns.tolist()[0:4]+['Date_Max','Date_Min']\n",
    "dates_in_data['Cost_Pctg']=dates_in_data['adjusted_cost_IRI']/dates_in_data['adjusted_cost_IRI'].sum()"
   ]
  },
  {
   "cell_type": "code",
   "execution_count": 52,
   "metadata": {
    "collapsed": true
   },
   "outputs": [],
   "source": [
    "# TMR_cost_IRI['Date']=TMR_cost_IRI['Date'].astype(str)\n",
    "dates_in_data.to_csv(os.getcwd()+\"/output/SunnyD_media_date_range_JL_\"+str(datetime.datetime.now().date())+\".csv\",index=False)"
   ]
  },
  {
   "cell_type": "code",
   "execution_count": 53,
   "metadata": {
    "collapsed": true
   },
   "outputs": [],
   "source": [
    "IRI_summary_writer=pd.ExcelWriter(os.getcwd()+\"/output/SunnyD_media_spend_by_IRI_JL\"+str(datetime.datetime.now().date())+\".xlsx\",engine=\"xlsxwriter\")\n",
    "summary.to_excel(IRI_summary_writer,\"IRI_Level_All_Cost_summary\",index=False)\n",
    "TMR_cost_IRI.to_excel(IRI_summary_writer,\"IRI_Level_All_Cost\",index=False)\n",
    "dates_in_data.to_excel(IRI_summary_writer,\"dates_in_data_IRI\",index=False)\n",
    "IRI_summary_writer.save()"
   ]
  },
  {
   "cell_type": "code",
   "execution_count": 54,
   "metadata": {},
   "outputs": [
    {
     "data": {
      "text/plain": [
       "array([<class 'datetime.date'>], dtype=object)"
      ]
     },
     "execution_count": 54,
     "metadata": {},
     "output_type": "execute_result"
    }
   ],
   "source": [
    "TMR_cost_IRI['Date'].apply(lambda x: type(x)).unique()"
   ]
  },
  {
   "cell_type": "code",
   "execution_count": 55,
   "metadata": {},
   "outputs": [
    {
     "data": {
      "text/plain": [
       "array(['Snapchat', 'FB_IG', 'TV_Local', 'TV_Broadcast',\n",
       "       'National_TV_Galavision', 'National_TV_UniMas', 'Cinema', 'DISH',\n",
       "       'DTV', 'Digital'], dtype=object)"
      ]
     },
     "execution_count": 55,
     "metadata": {},
     "output_type": "execute_result"
    }
   ],
   "source": [
    "TMR_cost_IRI[TMR_cost_IRI['Date'].apply(lambda x: type(x))==datetime.date]['Media'].unique()"
   ]
  },
  {
   "cell_type": "markdown",
   "metadata": {
    "collapsed": true
   },
   "source": [
    "# DMA level"
   ]
  },
  {
   "cell_type": "code",
   "execution_count": 56,
   "metadata": {},
   "outputs": [
    {
     "data": {
      "text/html": [
       "<div>\n",
       "<style>\n",
       "    .dataframe thead tr:only-child th {\n",
       "        text-align: right;\n",
       "    }\n",
       "\n",
       "    .dataframe thead th {\n",
       "        text-align: left;\n",
       "    }\n",
       "\n",
       "    .dataframe tbody tr th {\n",
       "        vertical-align: top;\n",
       "    }\n",
       "</style>\n",
       "<table border=\"1\" class=\"dataframe\">\n",
       "  <thead>\n",
       "    <tr style=\"text-align: right;\">\n",
       "      <th></th>\n",
       "      <th>DMA</th>\n",
       "      <th>Date</th>\n",
       "      <th>Media</th>\n",
       "      <th>coefficient</th>\n",
       "      <th>cost_DMA</th>\n",
       "      <th>raw_spend_type</th>\n",
       "    </tr>\n",
       "  </thead>\n",
       "  <tbody>\n",
       "    <tr>\n",
       "      <th>0</th>\n",
       "      <td>xx</td>\n",
       "      <td>2018-08-14</td>\n",
       "      <td>Snapchat</td>\n",
       "      <td>1.171529</td>\n",
       "      <td>173.02</td>\n",
       "      <td>net</td>\n",
       "    </tr>\n",
       "    <tr>\n",
       "      <th>1</th>\n",
       "      <td>xx</td>\n",
       "      <td>2018-08-15</td>\n",
       "      <td>Snapchat</td>\n",
       "      <td>1.171529</td>\n",
       "      <td>2488.68</td>\n",
       "      <td>net</td>\n",
       "    </tr>\n",
       "  </tbody>\n",
       "</table>\n",
       "</div>"
      ],
      "text/plain": [
       "  DMA        Date     Media  coefficient  cost_DMA raw_spend_type\n",
       "0  xx  2018-08-14  Snapchat     1.171529    173.02            net\n",
       "1  xx  2018-08-15  Snapchat     1.171529   2488.68            net"
      ]
     },
     "execution_count": 56,
     "metadata": {},
     "output_type": "execute_result"
    }
   ],
   "source": [
    "DMA_Level_Cost=Snapchat_cost.append(FB_Inst_cost).append(local_TV_cost).append(national_TV_cost).append(Cinema_cost).append(DISH_cost).append(DTV_cost)\n",
    "DMA_Level_Cost.head(2)\n"
   ]
  },
  {
   "cell_type": "code",
   "execution_count": 57,
   "metadata": {},
   "outputs": [
    {
     "data": {
      "text/plain": [
       "'\\nPandora_cost=pd.read_excel(data_folder+\"Pandora Estimated Digital Spend By Zip By Day_Sunny D.xlsx\",dtype=str,sheetname=\"PANDORA TOTAL ESTIMATED SPEND\")\\nPandora_cost_header=[x[:10] for x in [str(col) for col in Pandora_cost.columns.tolist()] if \"-\" in x]\\nPandora_cost.columns=[[\\'zip_cd\\']+Pandora_cost_header+[\"Total\"]]\\nPandora_cost=Pandora_cost[Pandora_cost[\\'zip_cd\\']!=\\'Total\\']\\nPandora_cost[\\'zip_cd\\']=Pandora_cost[\\'zip_cd\\'].apply(lambda x: x.zfill(5))\\nPandora_cost=pd.melt(Pandora_cost, id_vars=\\'zip_cd\\', value_vars=Pandora_cost.columns.tolist()[1:])\\nPandora_cost=Pandora_cost.rename(columns={\"variable\":\"Date\",\"value\":\"cost\"})\\nPandora_cost=Pandora_cost[Pandora_cost[\\'Date\\']!=\"Total\"]\\n\\n'"
      ]
     },
     "execution_count": 57,
     "metadata": {},
     "output_type": "execute_result"
    }
   ],
   "source": [
    "'''\n",
    "Pandora_cost=pd.read_excel(data_folder+\"Pandora Estimated Digital Spend By Zip By Day_Sunny D.xlsx\",dtype=str,sheetname=\"PANDORA TOTAL ESTIMATED SPEND\")\n",
    "Pandora_cost_header=[x[:10] for x in [str(col) for col in Pandora_cost.columns.tolist()] if \"-\" in x]\n",
    "Pandora_cost.columns=[['zip_cd']+Pandora_cost_header+[\"Total\"]]\n",
    "Pandora_cost=Pandora_cost[Pandora_cost['zip_cd']!='Total']\n",
    "Pandora_cost['zip_cd']=Pandora_cost['zip_cd'].apply(lambda x: x.zfill(5))\n",
    "Pandora_cost=pd.melt(Pandora_cost, id_vars='zip_cd', value_vars=Pandora_cost.columns.tolist()[1:])\n",
    "Pandora_cost=Pandora_cost.rename(columns={\"variable\":\"Date\",\"value\":\"cost\"})\n",
    "Pandora_cost=Pandora_cost[Pandora_cost['Date']!=\"Total\"]\n",
    "\n",
    "'''"
   ]
  },
  {
   "cell_type": "code",
   "execution_count": 58,
   "metadata": {
    "collapsed": true
   },
   "outputs": [],
   "source": [
    "Digital_cost=pd.read_excel(data_folder+\"Update_Sep_1st_Week/\"+\"Estimated Digital Spend By Zip By Day_Sunny D 9.11.xlsx\",\n",
    "                           dtype=str,sheetname=\"Total Spend by Zip by Day\")\n",
    "Digital_cost_header=[x for x in [str(col) for col in Digital_cost.columns.tolist()] if \"/\" in x]\n",
    "Digital_cost.columns=[['Zips']+Digital_cost_header+[\"Total\"]]\n",
    "Digital_cost=Digital_cost.fillna(0)\n",
    "Digital_cost=Digital_cost.rename(columns={\"Zips\":\"zip_cd\"})\n",
    "Digital_cost=Digital_cost[Digital_cost['zip_cd']!='Grand Total']\n",
    "Digital_cost=Digital_cost[Digital_cost['zip_cd']!='Total']\n",
    "Digital_cost['zip_cd']=Digital_cost['zip_cd'].apply(lambda x: x.zfill(5))\n",
    "Digital_cost=pd.melt(Digital_cost, id_vars='zip_cd', value_vars=Digital_cost.columns.tolist()[1:])\n",
    "Digital_cost=Digital_cost.rename(columns={\"variable\":\"Date\",\"value\":\"cost\"})\n",
    "Digital_cost=Digital_cost[Digital_cost['zip_cd']!=\"Total\"]\n",
    "Digital_cost=Digital_cost[Digital_cost['Date']!=\"Total\"]"
   ]
  },
  {
   "cell_type": "code",
   "execution_count": null,
   "metadata": {
    "collapsed": true
   },
   "outputs": [],
   "source": []
  },
  {
   "cell_type": "code",
   "execution_count": 59,
   "metadata": {
    "collapsed": true
   },
   "outputs": [],
   "source": [
    "zip_DMA_allocated=pd.read_excel(\"/home/jian/Docs/Geo_mapping/Zips by DMA by County16-17 nielsen.xlsx\",\n",
    "                                dtype=str,skiprows=1,usecols=['CODE','NAME'])\n",
    "zip_DMA_allocated.columns=[['zip_cd','DMA']]\n",
    "zip_DMA_allocated['DMA']=zip_DMA_allocated['DMA'].apply(lambda x: DMA_name_mapping[x])"
   ]
  },
  {
   "cell_type": "code",
   "execution_count": 60,
   "metadata": {
    "collapsed": true
   },
   "outputs": [],
   "source": [
    "zip_DMA_allocated_share=zip_DMA_allocated.groupby(['zip_cd'])['DMA'].count().to_frame().reset_index()\n",
    "zip_DMA_allocated_share=zip_DMA_allocated_share.rename(columns={\"DMA\":\"share\"})\n",
    "zip_DMA_allocated_share['share']=zip_DMA_allocated_share['share'].apply(lambda x: 1/x)\n",
    "zip_DMA_allocated=pd.merge(zip_DMA_allocated,zip_DMA_allocated_share,on=\"zip_cd\",how=\"left\")"
   ]
  },
  {
   "cell_type": "code",
   "execution_count": 61,
   "metadata": {
    "collapsed": true
   },
   "outputs": [],
   "source": [
    "# Pandora_cost_DMA=pd.merge(Pandora_cost,zip_DMA_allocated,on='zip_cd',how=\"outer\")\n",
    "Digital_cost_DMA=pd.merge(Digital_cost,zip_DMA_allocated,on='zip_cd',how=\"outer\")\n",
    "\n",
    "Digital_cost_DMA['DMA']=Digital_cost_DMA['DMA'].fillna(\"xx\")\n",
    "Digital_cost_DMA['share']=Digital_cost_DMA['share'].fillna(1)\n",
    "\n",
    "# Pandora_cost_DMA['cost']=Pandora_cost_DMA['cost'].astype(float)\n",
    "Digital_cost_DMA['cost']=Digital_cost_DMA['cost'].astype(float)\n",
    "\n",
    "# Pandora_cost_DMA['cost_DMA']=Pandora_cost_DMA['cost']*Pandora_cost_DMA['share']\n",
    "Digital_cost_DMA['cost_DMA']=Digital_cost_DMA['cost']*Digital_cost_DMA['share']\n",
    "\n",
    "# Pandora_cost_DMA=Pandora_cost_DMA[~pd.isnull(Pandora_cost_DMA['cost'])]\n",
    "Digital_cost_DMA=Digital_cost_DMA[~pd.isnull(Digital_cost_DMA['cost'])]"
   ]
  },
  {
   "cell_type": "code",
   "execution_count": 62,
   "metadata": {
    "collapsed": true
   },
   "outputs": [],
   "source": [
    "\n",
    "# Pandora_cost_DMA['Date']=Pandora_cost_DMA['Date'].apply(lambda x: datetime.datetime.strptime(x,\"%Y-%m-%d\").date())\n",
    "Digital_cost_DMA['Date']=Digital_cost_DMA['Date'].apply(lambda x: datetime.date(int(x.split(\"/\")[2]),int(x.split(\"/\")[0]),int(x.split(\"/\")[1])))\n",
    "Digital_cost_DMA['Date']=Digital_cost_DMA['Date'].astype(str)\n",
    "# Pandora_cost_DMA=Pandora_cost_DMA.groupby(['DMA','Date'])['cost_DMA'].sum().to_frame().reset_index()\n",
    "Digital_cost_DMA=Digital_cost_DMA.groupby(['DMA','Date'])['cost_DMA'].sum().to_frame().reset_index()\n"
   ]
  },
  {
   "cell_type": "code",
   "execution_count": 63,
   "metadata": {
    "collapsed": true
   },
   "outputs": [],
   "source": [
    "'''\n",
    "Pandora_cost_DMA['Media']=\"Pandora\"\n",
    "Pandora_cost_DMA['coefficient']=0.9958\n",
    "Pandora_cost_DMA['raw_spend_type']='gross'\n",
    "Pandora_cost_DMA=Pandora_cost_DMA[DMA_Level_Cost.columns.tolist()]\n",
    "'''\n",
    "Digital_cost_DMA['Media']=\"Digital\"\n",
    "Digital_cost_DMA['coefficient']=1\n",
    "Digital_cost_DMA['raw_spend_type']='adjusted'\n",
    "Digital_cost_DMA=Digital_cost_DMA[DMA_Level_Cost.columns.tolist()]"
   ]
  },
  {
   "cell_type": "code",
   "execution_count": 64,
   "metadata": {
    "collapsed": true
   },
   "outputs": [],
   "source": [
    "DMA_Level_All_Cost=DMA_Level_Cost.append(Digital_cost_DMA)\n",
    "DMA_Level_All_Cost['std_DMA']=DMA_Level_All_Cost['DMA'].apply(lambda x: DMA_name_mapping[x])\n",
    "DMA_Level_All_Cost['adjusted_DMA_cost']=DMA_Level_All_Cost['cost_DMA']*DMA_Level_All_Cost['coefficient']"
   ]
  },
  {
   "cell_type": "code",
   "execution_count": 65,
   "metadata": {
    "collapsed": true
   },
   "outputs": [],
   "source": [
    "DMA_Level_All_Cost_summary=DMA_Level_All_Cost.groupby(['std_DMA'])['adjusted_DMA_cost'].sum().to_frame().reset_index()\n",
    "DMA_Level_All_Cost_summary=DMA_Level_All_Cost_summary.sort_values(['adjusted_DMA_cost'],ascending=False)"
   ]
  },
  {
   "cell_type": "code",
   "execution_count": 66,
   "metadata": {
    "collapsed": true
   },
   "outputs": [],
   "source": [
    "DMA_summary_writer=pd.ExcelWriter(os.getcwd()+\"/output/SunnyD_media_spend_by_DMA_JL\"+str(datetime.datetime.now().date())+\".xlsx\",engine=\"xlsxwriter\")\n",
    "DMA_Level_All_Cost_summary.to_excel(DMA_summary_writer,\"DMA_Level_All_Cost_summary\",index=False)\n",
    "DMA_Level_All_Cost.to_excel(DMA_summary_writer,\"DMA_Level_All_Cost\",index=False)\n"
   ]
  },
  {
   "cell_type": "code",
   "execution_count": 68,
   "metadata": {
    "collapsed": true
   },
   "outputs": [],
   "source": [
    "func_DMA={'adjusted_DMA_cost': ['sum'],'Date': ['max', 'min']}\n",
    "DMA_Level_All_Cost['Date']=DMA_Level_All_Cost['Date'].apply(lambda x: datetime.datetime.strptime(x,\"%Y-%m-%d\").date())\n",
    "\n",
    "dates_in_data_DMA=DMA_Level_All_Cost.groupby(['Media','raw_spend_type','coefficient']).agg(func_DMA).reset_index()\n",
    "dates_in_data_DMA.columns=dates_in_data_DMA.columns.get_level_values(0)\n",
    "dates_in_data_DMA.columns=dates_in_data_DMA.columns.tolist()[0:4]+['Date_Max','Date_Min']\n",
    "dates_in_data_DMA['Cost_Pctg']=dates_in_data_DMA['adjusted_DMA_cost']/dates_in_data_DMA['adjusted_DMA_cost'].sum()\n",
    "dates_in_data_DMA.to_excel(DMA_summary_writer,\"dates_in_data_DMA\",index=False)\n",
    "DMA_summary_writer.save()"
   ]
  },
  {
   "cell_type": "code",
   "execution_count": null,
   "metadata": {
    "collapsed": true
   },
   "outputs": [],
   "source": []
  },
  {
   "cell_type": "code",
   "execution_count": null,
   "metadata": {
    "collapsed": true
   },
   "outputs": [],
   "source": []
  },
  {
   "cell_type": "code",
   "execution_count": null,
   "metadata": {
    "collapsed": true
   },
   "outputs": [],
   "source": []
  }
 ],
 "metadata": {
  "kernelspec": {
   "display_name": "Python 3",
   "language": "python",
   "name": "python3"
  },
  "language_info": {
   "codemirror_mode": {
    "name": "ipython",
    "version": 3
   },
   "file_extension": ".py",
   "mimetype": "text/x-python",
   "name": "python",
   "nbconvert_exporter": "python",
   "pygments_lexer": "ipython3",
   "version": "3.6.1"
  }
 },
 "nbformat": 4,
 "nbformat_minor": 2
}
