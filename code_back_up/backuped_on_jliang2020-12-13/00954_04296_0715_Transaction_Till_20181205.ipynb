{
 "cells": [
  {
   "cell_type": "code",
   "execution_count": 1,
   "metadata": {
    "collapsed": true
   },
   "outputs": [],
   "source": [
    "import pandas as pd\n",
    "import datetime\n",
    "import numpy as np\n",
    "import os\n",
    "import glob\n",
    "from os.path import basename\n",
    "import calendar"
   ]
  },
  {
   "cell_type": "code",
   "execution_count": 2,
   "metadata": {},
   "outputs": [
    {
     "data": {
      "text/plain": [
       "'/home/jian/Projects/Saatva/Transaction_Data'"
      ]
     },
     "execution_count": 2,
     "metadata": {},
     "output_type": "execute_result"
    }
   ],
   "source": [
    "os.getcwd()"
   ]
  },
  {
   "cell_type": "markdown",
   "metadata": {},
   "source": [
    "# 2018"
   ]
  },
  {
   "cell_type": "code",
   "execution_count": 3,
   "metadata": {},
   "outputs": [
    {
     "name": "stdout",
     "output_type": "stream",
     "text": [
      "['phone' 'online']\n"
     ]
    }
   ],
   "source": [
    "data_1=pd.read_csv(\"/home/jian/Projects/Saatva/Transaction_Data/3 Brands_transactions_20180101-20180308.csv\",\n",
    "                   dtype=str,usecols=['Order ID','Date','Time','Shipping Zip','Product Revenue','Order Type','Brand'])\n",
    "data_1=data_1[data_1['Brand']==\"Saatva\"]\n",
    "print(data_1['Order Type'].unique())\n",
    "data_1['Date']=data_1['Date'].apply(lambda x: datetime.datetime.strptime(x,\"%d-%b-%Y\").date())"
   ]
  },
  {
   "cell_type": "code",
   "execution_count": 4,
   "metadata": {},
   "outputs": [
    {
     "name": "stdout",
     "output_type": "stream",
     "text": [
      "['online' 'phone']\n"
     ]
    }
   ],
   "source": [
    "data_2=pd.read_csv(\"/home/jian/Projects/Saatva/Transaction_Data/Saatva_Only_transactions_60 days-20180403.csv\",\n",
    "                   dtype=str,usecols=['Order ID','Date','Time','Shipping Zip','Product Revenue','Order Type','Brand'])\n",
    "data_2=data_2[data_2['Brand']==\"Saatva\"]\n",
    "print(data_2['Order Type'].unique())\n",
    "data_2['Date']=data_2['Date'].apply(lambda x: datetime.datetime.strptime(x,\"%d-%b-%Y\").date())"
   ]
  },
  {
   "cell_type": "code",
   "execution_count": 5,
   "metadata": {
    "collapsed": true
   },
   "outputs": [],
   "source": [
    "weekly_file_list=sorted(glob.glob(\"/home/jian/Projects/Saatva/Transaction_Data/New Klipfolio with phone num and rep name/*.csv\"),reverse=True)\n",
    "aggregated_sales_data=pd.DataFrame(columns=['Order ID','Date','Time','Shipping Zip','Product Revenue','Order Type','Brand'])\n",
    "for file in weekly_file_list:\n",
    "    weekly_download=pd.read_csv(file,dtype=str,usecols=['Order ID','Date','Time','Shipping Zip','Product Revenue','Order Type','Brand'])\n",
    "    weekly_download=weekly_download[weekly_download['Brand']==\"Saatva\"]\n",
    "    try:\n",
    "        weekly_download['Date']=weekly_download['Date'].apply(lambda x: datetime.datetime.strptime(x,\"%d-%b-%Y\").date())\n",
    "    except:\n",
    "        weekly_download['Date']=weekly_download['Date'].apply(lambda x: datetime.datetime.strptime(x,\"%d-%B-%Y\").date())\n",
    "    \n",
    "    weekly_download=weekly_download[weekly_download['Date']!=weekly_download['Date'].max()]\n",
    "    weekly_download=weekly_download[weekly_download['Date']!=weekly_download['Date'].min()]\n",
    "    weekly_download=weekly_download[~weekly_download['Date'].isin(aggregated_sales_data['Date'])]\n",
    "    aggregated_sales_data=aggregated_sales_data.append(weekly_download)"
   ]
  },
  {
   "cell_type": "code",
   "execution_count": 6,
   "metadata": {
    "collapsed": true
   },
   "outputs": [],
   "source": [
    "data_2=data_2[data_2['Date']!=data_2['Date'].max()]\n",
    "data_2=data_2[data_2['Date']!=data_2['Date'].min()]\n",
    "data_2=data_2[~data_2['Date'].isin(aggregated_sales_data['Date'])]\n",
    "aggregated_sales_data=aggregated_sales_data.append(data_2)"
   ]
  },
  {
   "cell_type": "code",
   "execution_count": 7,
   "metadata": {
    "collapsed": true
   },
   "outputs": [],
   "source": [
    "data_1=data_1[data_1['Date']!=data_2['Date'].max()]\n",
    "data_1=data_1[~data_1['Date'].isin(aggregated_sales_data['Date'])]\n",
    "aggregated_sales_data=aggregated_sales_data.append(data_1)"
   ]
  },
  {
   "cell_type": "code",
   "execution_count": 8,
   "metadata": {},
   "outputs": [
    {
     "name": "stdout",
     "output_type": "stream",
     "text": [
      "['6' '5']\n",
      "[6]\n"
     ]
    }
   ],
   "source": [
    "aggregated_sales_data['Product Revenue']=aggregated_sales_data['Product Revenue'].astype(float)\n",
    "print(aggregated_sales_data['Order ID'].apply(lambda x: x[0]).unique())\n",
    "print(aggregated_sales_data['Order ID'].apply(lambda x: len(x)).unique())"
   ]
  },
  {
   "cell_type": "code",
   "execution_count": 9,
   "metadata": {
    "collapsed": true
   },
   "outputs": [],
   "source": [
    "Saatva_Sales_by_day=aggregated_sales_data.groupby(['Date',\"Brand\"])['Product Revenue'].sum().to_frame().reset_index()\n",
    "Saatva_Trans_by_day=aggregated_sales_data.groupby(['Date',\"Brand\"])['Product Revenue'].count().to_frame().reset_index()\n",
    "\n",
    "Saatva_Sales_by_day=Saatva_Sales_by_day.rename(columns={\"Product Revenue\":\"Sales\"})\n",
    "Saatva_Trans_by_day=Saatva_Trans_by_day.rename(columns={\"Product Revenue\":\"Trans\"})\n",
    "\n",
    "Saatva_Sales_by_day=pd.merge(Saatva_Sales_by_day,Saatva_Trans_by_day,on=['Date','Brand'],how=\"left\")\n",
    "Saatva_Sales_by_day['weekday']=Saatva_Sales_by_day['Date'].apply(lambda x: calendar.day_name[x.weekday()])"
   ]
  },
  {
   "cell_type": "code",
   "execution_count": 10,
   "metadata": {
    "collapsed": true
   },
   "outputs": [],
   "source": [
    "writer=pd.ExcelWriter(\"/home/jian/Projects/Saatva/Transaction_Data/sales_by_day/Saatva_Aggregated_Sales_to_Daily_till_20181205_JL_\"+str(datetime.datetime.now().date())+\".xlsx\",engine=\"xlsxwriter\")\n",
    "Saatva_Sales_by_day.to_excel(writer,'Saatva_sales_by_day_aggregated',index=False)\n",
    "aggregated_sales_data.to_excel(writer,'all_data_aggregated',index=False)\n",
    "writer.save()"
   ]
  },
  {
   "cell_type": "markdown",
   "metadata": {
    "collapsed": true
   },
   "source": [
    "# 2017"
   ]
  },
  {
   "cell_type": "code",
   "execution_count": 11,
   "metadata": {
    "collapsed": true
   },
   "outputs": [],
   "source": [
    "Saatva_2017_sales_data=pd.read_excel(\"/home/jian/Projects/Saatva/Transaction_Data/Order_data.xlsx\",sheetname=\"Saatva\",dtype=str)\n",
    "Saatva_2017_sales_data=Saatva_2017_sales_data[['order_id','date','time','zipcode','product_revenue','online/phone?','brand']]\n",
    "Saatva_2017_sales_data['date']=Saatva_2017_sales_data['date'].apply(lambda x: datetime.datetime.strptime(x.split(\" \")[0],\"%Y-%m-%d\").date())\n",
    "Saatva_2017_sales_data['product_revenue']=Saatva_2017_sales_data['product_revenue'].astype(float)"
   ]
  },
  {
   "cell_type": "code",
   "execution_count": 12,
   "metadata": {
    "collapsed": true
   },
   "outputs": [],
   "source": [
    "Saatva_Sales_by_day=Saatva_2017_sales_data.groupby(['date',\"brand\"])['product_revenue'].sum().to_frame().reset_index()\n",
    "Saatva_Trans_by_day=Saatva_2017_sales_data.groupby(['date',\"brand\"])['product_revenue'].count().to_frame().reset_index()\n",
    "\n",
    "Saatva_Sales_by_day_2017=Saatva_Sales_by_day.rename(columns={\"product_revenue\":\"Sales\"})\n",
    "Saatva_Trans_by_day_2017=Saatva_Trans_by_day.rename(columns={\"product_revenue\":\"Trans\"})\n",
    "\n",
    "Saatva_Sales_by_day_2017=pd.merge(Saatva_Sales_by_day_2017,Saatva_Trans_by_day_2017,on=['date','brand'],how=\"left\")\n",
    "Saatva_Sales_by_day_2017['weekday']=Saatva_Sales_by_day_2017['date'].apply(lambda x: calendar.day_name[x.weekday()])"
   ]
  },
  {
   "cell_type": "code",
   "execution_count": 13,
   "metadata": {
    "collapsed": true
   },
   "outputs": [],
   "source": [
    "writer=pd.ExcelWriter(\"/home/jian/Projects/Saatva/Transaction_Data/sales_by_day/Saatva_Aggregated_Sales_to_Daily_2017_JL_\"+str(datetime.datetime.now().date())+\".xlsx\",engine=\"xlsxwriter\")\n",
    "Saatva_Sales_by_day_2017.to_excel(writer,'Saatva_sales_by_day_2017',index=False)\n",
    "Saatva_2017_sales_data.to_excel(writer,'sales_data_2017',index=False)\n",
    "writer.save()"
   ]
  },
  {
   "cell_type": "code",
   "execution_count": null,
   "metadata": {
    "collapsed": true
   },
   "outputs": [],
   "source": []
  },
  {
   "cell_type": "code",
   "execution_count": null,
   "metadata": {
    "collapsed": true
   },
   "outputs": [],
   "source": []
  },
  {
   "cell_type": "code",
   "execution_count": null,
   "metadata": {
    "collapsed": true
   },
   "outputs": [],
   "source": []
  }
 ],
 "metadata": {
  "kernelspec": {
   "display_name": "Python 3",
   "language": "python",
   "name": "python3"
  },
  "language_info": {
   "codemirror_mode": {
    "name": "ipython",
    "version": 3
   },
   "file_extension": ".py",
   "mimetype": "text/x-python",
   "name": "python",
   "nbconvert_exporter": "python",
   "pygments_lexer": "ipython3",
   "version": "3.6.1"
  }
 },
 "nbformat": 4,
 "nbformat_minor": 2
}
