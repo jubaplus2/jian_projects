{
 "cells": [
  {
   "cell_type": "code",
   "execution_count": 1,
   "metadata": {
    "collapsed": true
   },
   "outputs": [],
   "source": [
    "import pandas as pd\n",
    "import numpy as np\n",
    "import os\n",
    "import datetime\n",
    "import gc\n",
    "import glob"
   ]
  },
  {
   "cell_type": "code",
   "execution_count": 2,
   "metadata": {
    "collapsed": true
   },
   "outputs": [],
   "source": [
    "def recursive_file_gen(root_folder):\n",
    "    for root, dirs, files in os.walk(root_folder):\n",
    "        for file in files:\n",
    "            yield os.path.join(root, file)"
   ]
  },
  {
   "cell_type": "code",
   "execution_count": 4,
   "metadata": {},
   "outputs": [
    {
     "name": "stdout",
     "output_type": "stream",
     "text": [
      "13\n"
     ]
    }
   ],
   "source": [
    "Q3_start=\"2019-08-04\"\n",
    "Q3_end=\"2019-11-02\"\n",
    "\n",
    "daily_item_files_2019Q3=list(recursive_file_gen(\"/home/jian/BigLots/2019_by_weeks/\"))\n",
    "daily_item_files_2019Q3=[x for x in daily_item_files_2019Q3 if x[-4:]==\".txt\" and \"daily\" in x.lower()]\n",
    "daily_item_files_2019Q3=[x for x in daily_item_files_2019Q3 if x.split(\"s/MediaStorm_\")[1][:10]>=Q3_start]\n",
    "daily_item_files_2019Q3=[x for x in daily_item_files_2019Q3 if x.split(\"s/MediaStorm_\")[1][:10]<=Q3_end]\n",
    "\n",
    "print(len(daily_item_files_2019Q3))"
   ]
  },
  {
   "cell_type": "code",
   "execution_count": 5,
   "metadata": {},
   "outputs": [
    {
     "name": "stderr",
     "output_type": "stream",
     "text": [
      "/home/jian/.local/lib/python3.6/site-packages/pandas/core/frame.py:7138: FutureWarning: Sorting because non-concatenation axis is not aligned. A future version\n",
      "of pandas will change to not sort by default.\n",
      "\n",
      "To accept the future behavior, pass 'sort=False'.\n",
      "\n",
      "To retain the current behavior and silence the warning, pass 'sort=True'.\n",
      "\n",
      "  sort=sort,\n"
     ]
    },
    {
     "name": "stdout",
     "output_type": "stream",
     "text": [
      "2019-11-06 13:58:12.771176 /home/jian/BigLots/2019_by_weeks/MediaStorm_2019-08-10/MediaStormDailySales20190813-120541-143.txt\n",
      "2019-11-06 13:58:49.933403 /home/jian/BigLots/2019_by_weeks/MediaStorm_2019-08-17/MediaStormDailySales20190820-113628-440.txt\n",
      "2019-11-06 13:59:30.611830 /home/jian/BigLots/2019_by_weeks/MediaStorm_2019-08-24/MediaStormDailySales20190827-113630-114.txt\n",
      "2019-11-06 14:00:10.219967 /home/jian/BigLots/2019_by_weeks/MediaStorm_2019-08-31/MediaStormDailySales20190903-113649-462.txt\n",
      "2019-11-06 14:00:39.481498 /home/jian/BigLots/2019_by_weeks/MediaStorm_2019-09-07/MediaStormDailySales20190910-120643-163.txt\n",
      "2019-11-06 14:01:16.219493 /home/jian/BigLots/2019_by_weeks/MediaStorm_2019-09-14/MediaStormDailySales20190917-110425-322.txt\n",
      "2019-11-06 14:01:52.254957 /home/jian/BigLots/2019_by_weeks/MediaStorm_2019-09-21/MediaStormDailySales20190924-112126-506.txt\n",
      "2019-11-06 14:02:36.218309 /home/jian/BigLots/2019_by_weeks/MediaStorm_2019-09-28/MediaStormDailySales20191001-111241-312.txt\n",
      "2019-11-06 14:03:18.911514 /home/jian/BigLots/2019_by_weeks/MediaStorm_2019-10-05/MediaStormDailySales20191008-120723-038.txt\n",
      "2019-11-06 14:03:51.198203 /home/jian/BigLots/2019_by_weeks/MediaStorm_2019-10-12/MediaStormDailySales20191015-111135-657.txt\n",
      "2019-11-06 14:04:32.885190 /home/jian/BigLots/2019_by_weeks/MediaStorm_2019-10-19/MediaStormDailySales20191022-111240-145.txt\n",
      "2019-11-06 14:05:05.889689 /home/jian/BigLots/2019_by_weeks/MediaStorm_2019-10-26/MediaStormDailySales20191029-111155-920.txt\n",
      "2019-11-06 14:05:42.990036 /home/jian/BigLots/2019_by_weeks/MediaStorm_2019-11-02/MediaStormDailySales20191105-111212-139.txt\n"
     ]
    }
   ],
   "source": [
    "df_output_Q3_sales=pd.DataFrame()\n",
    "for file in daily_item_files_2019Q3:\n",
    "    week_end_dt=file.split(\"s/MediaStorm_\")[1][:10]\n",
    "    df=pd.read_table(file,dtype=str,sep=\"|\",usecols=['location_id','transaction_dt', 'transaction_id',\n",
    "                                                              'customer_id_hashed', 'item_transaction_amt'])\n",
    "    df['item_transaction_amt']=df['item_transaction_amt'].astype(float)\n",
    "    # Rewards\n",
    "    df_rewards=df[pd.notnull(df['customer_id_hashed'])]\n",
    "    df_rewards_sales=df_rewards.groupby([\"location_id\"])['item_transaction_amt'].sum().to_frame().reset_index()\n",
    "    df_rewards_sales=df_rewards_sales.rename(columns={\"item_transaction_amt\":\"sales\"})\n",
    "    df_rewards_trans=df_rewards[['location_id','transaction_dt', 'transaction_id','customer_id_hashed']].drop_duplicates()\n",
    "    df_rewards_trans['trans']=1\n",
    "    df_rewards_trans=df_rewards_trans.groupby([\"location_id\"])['trans'].sum().to_frame().reset_index()\n",
    "    \n",
    "    df_rewards=pd.merge(df_rewards_trans,df_rewards_sales,on=\"location_id\",how=\"outer\")\n",
    "    df_rewards['rewards_label']=\"rewards\"\n",
    "    \n",
    "    # Non Rewards\n",
    "    df_non_rewards=df[pd.isnull(df['customer_id_hashed'])]\n",
    "    df_non_rewards_sales=df_non_rewards.groupby([\"location_id\"])['item_transaction_amt'].sum().to_frame().reset_index()\n",
    "    df_non_rewards_sales=df_non_rewards_sales.rename(columns={\"item_transaction_amt\":\"sales\"})\n",
    "    df_non_rewards_trans=df_non_rewards[['location_id','transaction_dt', 'transaction_id']].drop_duplicates()\n",
    "    df_non_rewards_trans['trans']=1\n",
    "    df_non_rewards_trans=df_non_rewards_trans.groupby([\"location_id\"])['trans'].sum().to_frame().reset_index()  \n",
    "    \n",
    "    df_non_rewards=pd.merge(df_non_rewards_sales,df_non_rewards_trans,on=\"location_id\",how=\"outer\")\n",
    "    df_non_rewards['rewards_label']=\"non_rewards\"\n",
    "    \n",
    "    df=df_rewards.append(df_non_rewards)\n",
    "    df['store_type']=np.where(df['location_id']==\"6990\",\"online\",\"instre\")\n",
    "    df=df.groupby([\"rewards_label\",\"store_type\"])['sales','trans'].sum().reset_index()\n",
    "    df['week_end_dt']=week_end_dt\n",
    "    \n",
    "    df_output_Q3_sales=df_output_Q3_sales.append(df)\n",
    "    print(datetime.datetime.now(),file)"
   ]
  },
  {
   "cell_type": "code",
   "execution_count": 6,
   "metadata": {
    "collapsed": true
   },
   "outputs": [],
   "source": [
    "writer=pd.ExcelWriter(\"./BL_Q3_total_sales_JL_\"+str(datetime.datetime.now().date())+\".xlsx\",engine=\"xlsxwriter\")\n",
    "df_output_Q3_sales.to_excel(writer,\"Q3_total_sales_12_weeks\",index=False)\n",
    "writer.save()"
   ]
  },
  {
   "cell_type": "code",
   "execution_count": 7,
   "metadata": {},
   "outputs": [
    {
     "data": {
      "text/plain": [
       "(52, 5)"
      ]
     },
     "execution_count": 7,
     "metadata": {},
     "output_type": "execute_result"
    }
   ],
   "source": [
    "df_output_Q3_sales.shape"
   ]
  },
  {
   "cell_type": "code",
   "execution_count": 8,
   "metadata": {},
   "outputs": [
    {
     "data": {
      "text/plain": [
       "33453214.960000075"
      ]
     },
     "execution_count": 8,
     "metadata": {},
     "output_type": "execute_result"
    }
   ],
   "source": [
    "df_non_rewards_sales['sales'].sum()"
   ]
  },
  {
   "cell_type": "code",
   "execution_count": 9,
   "metadata": {},
   "outputs": [
    {
     "data": {
      "text/plain": [
       "1255311"
      ]
     },
     "execution_count": 9,
     "metadata": {},
     "output_type": "execute_result"
    }
   ],
   "source": [
    "df_non_rewards_trans['trans'].sum()"
   ]
  },
  {
   "cell_type": "code",
   "execution_count": null,
   "metadata": {
    "collapsed": true
   },
   "outputs": [],
   "source": []
  }
 ],
 "metadata": {
  "kernelspec": {
   "display_name": "Python 3",
   "language": "python",
   "name": "python3"
  },
  "language_info": {
   "codemirror_mode": {
    "name": "ipython",
    "version": 3
   },
   "file_extension": ".py",
   "mimetype": "text/x-python",
   "name": "python",
   "nbconvert_exporter": "python",
   "pygments_lexer": "ipython3",
   "version": "3.6.1"
  }
 },
 "nbformat": 4,
 "nbformat_minor": 2
}
