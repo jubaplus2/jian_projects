{
 "cells": [
  {
   "cell_type": "code",
   "execution_count": 50,
   "metadata": {},
   "outputs": [
    {
     "name": "stderr",
     "output_type": "stream",
     "text": [
      "/usr/local/lib/python3.6/site-packages/IPython/core/interactiveshell.py:2683: DtypeWarning: Columns (1) have mixed types. Specify dtype option on import or set low_memory=False.\n",
      "  interactivity=interactivity, compiler=compiler, result=result)\n",
      "b'Skipping line 635: expected 25 fields, saw 27\\n'\n",
      "b'Skipping line 151313: expected 26 fields, saw 27\\n'\n",
      "b'Skipping line 432: expected 26 fields, saw 27\\n'\n",
      "b'Skipping line 2097: expected 25 fields, saw 27\\n'\n",
      "b'Skipping line 283: expected 25 fields, saw 27\\n'\n",
      "b'Skipping line 4990: expected 26 fields, saw 27\\n'\n",
      "b'Skipping line 2842: expected 25 fields, saw 27\\n'\n",
      "b'Skipping line 1687: expected 25 fields, saw 27\\n'\n",
      "b'Skipping line 2212: expected 26 fields, saw 27\\n'\n",
      "b'Skipping line 1642: expected 25 fields, saw 27\\n'\n",
      "b'Skipping line 632: expected 25 fields, saw 27\\n'\n"
     ]
    }
   ],
   "source": [
    "import glob\n",
    "import pandas as pd\n",
    "import numpy as np\n",
    "folder=\"/home/jian/LIFT/DBM/manually download data/\"\n",
    "file_list=[]\n",
    "for file_name in glob.glob(folder+'*.csv'):\n",
    "    df = pd.read_csv(file_name,encoding=\"ISO-8859-1\",error_bad_lines=False)\n",
    "    inds = min(df['Line Item'].index[df['Line Item'].apply(lambda x: pd.isnull(x))])\n",
    "    df = df.iloc[0:inds,:]\n",
    "    file_list.append(x)\n",
    "\n"
   ]
  }
 ],
 "metadata": {
  "kernelspec": {
   "display_name": "Python 3",
   "language": "python",
   "name": "python3"
  },
  "language_info": {
   "codemirror_mode": {
    "name": "ipython",
    "version": 3
   },
   "file_extension": ".py",
   "mimetype": "text/x-python",
   "name": "python",
   "nbconvert_exporter": "python",
   "pygments_lexer": "ipython3",
   "version": "3.6.1"
  }
 },
 "nbformat": 4,
 "nbformat_minor": 2
}
