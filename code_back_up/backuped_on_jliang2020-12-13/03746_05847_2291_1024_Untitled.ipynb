{
 "cells": [
  {
   "cell_type": "code",
   "execution_count": null,
   "metadata": {
    "collapsed": true
   },
   "outputs": [],
   "source": [
    "\"https://searchads.google.com/ds/cm/cm#campaigns.ay=20100000000000932;av=21700000001131725;cols=stat,S,iilpe,irlee,chtraftd,chact,chuem,chtu,chst,chic,chtype,chng,h,bdate,edate,dv,cl,ntwk,age,gender,brvid,inmvid,dcmrmid,cvd(0),erli,sq,ssst,av,type,ea,eauth,eauthupdate,oprst,gon,bpstd,bpend,bps,aen,c,ipn,ipp,iflutl,ipletl,iples,iplente,itn,fst,fld,flbn,fcpn,fccc,fcot,fatext,faaid,fastore,eae,ag,agty,abn,abt,itcet,ierme,iertek,ierttec,at,asttxt,asttype,astgrptxt,dsah,dsacp,dsalpt,dsalpu,dsac0,dsac1,dsasc2,pubs,itletl,itles,ctxt,ptpm,pgpf,pgp,sqmecc,sqmenccc,sqmenagcc,ctype,fgn,fan,gan,chsum,vsq,est,bud,aed,erln,agscpc,ccpc,bptgtcost,bpgp,opravgpos,bgmst,bgpsmip,bgpsmap,tgtcpa,tgters,tgtroas,ifnm,ifcid,ifcnm,ifleff,itt,itexid,itcat,itqtycat,iip,itleff,irn,irat,ira,irpm,irklpt,irkmlpt,irtnl,irklo,iatn,iattftd,aestm,aeetm,exptat,cmgts,cmgbud,cmgbps,cmgtpe,cmgbpr,cmgbr,cmgdue,sqamt,ptcpc,pgcpc,pgrcpc,ebsname,ctt,awctc,awcts,awctefb,awctges,awctggst,trlbm,tlgn,tlgbm,osbm,dtcond,dtecpc,chtime,chusr,bsdn,ealss,tar,tagbm,tget,tgebm,xf,orsn,ormn,orce,exptrat,exptval,exptci,click,cwss,impr,cost,ectr,cpc,avgp,pclick,pimpr,pectr,pcpc,pavgp,oclick,oimpr,oectr,oavgp,poclick,poimpr;\"\n",
    "\n",
    "\n"
   ]
  }
 ],
 "metadata": {
  "kernelspec": {
   "display_name": "Python 3",
   "language": "python",
   "name": "python3"
  },
  "language_info": {
   "codemirror_mode": {
    "name": "ipython",
    "version": 3
   },
   "file_extension": ".py",
   "mimetype": "text/x-python",
   "name": "python",
   "nbconvert_exporter": "python",
   "pygments_lexer": "ipython3",
   "version": "3.6.1"
  }
 },
 "nbformat": 4,
 "nbformat_minor": 2
}
