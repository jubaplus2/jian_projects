{
 "cells": [
  {
   "cell_type": "code",
   "execution_count": 1,
   "metadata": {},
   "outputs": [
    {
     "name": "stdout",
     "output_type": "stream",
     "text": [
      "2020-03-19 12:07:46.771762\n"
     ]
    }
   ],
   "source": [
    "# https://business.twitter.com/en/help/campaign-setup/campaign-targeting/tailored-audiences/TA-from-lists.html#how-do-i-prehash-my-file?\n",
    "import pandas as pd\n",
    "import glob\n",
    "import os\n",
    "import datetime\n",
    "print(datetime.datetime.now())"
   ]
  },
  {
   "cell_type": "code",
   "execution_count": 2,
   "metadata": {},
   "outputs": [
    {
     "data": {
      "text/plain": [
       "10"
      ]
     },
     "execution_count": 2,
     "metadata": {},
     "output_type": "execute_result"
    }
   ],
   "source": [
    "list_files=glob.glob(\"/home/jian/Projects/Big_Lots/Analysis/2020_Q1/plannder_requests/JT_aggregated_audience_to_FB_20200317/*.csv\")\n",
    "\n",
    "len(list_files)"
   ]
  },
  {
   "cell_type": "code",
   "execution_count": 4,
   "metadata": {},
   "outputs": [
    {
     "name": "stdout",
     "output_type": "stream",
     "text": [
      "(184406, 1) Legacy_NA_Rewards_ActiveM&L_Above50k_Multi_NA.csv\n",
      "[64]\n",
      "(2815780, 1) Legacy_NA_Rewards_ActiveM&L_Above50k_Single_NA.csv\n",
      "[64]\n",
      "(197333, 1) Legacy_NA_Rewards_ActiveM&L_Below50k_Multi_NA.csv\n",
      "[64]\n",
      "(803814, 1) Legacy_NA_Rewards_ActiveM&L_Below50k_Single_NA.csv\n",
      "[64]\n",
      "(1268693, 1) Legacy_NA_Rewards_ActiveM&L_Unknown_Unknown_NA.csv\n",
      "[64]\n",
      "(62178, 1) SOTF_NA_ActiveM&L_Active_Above50k_Multi_NA.csv\n",
      "[64]\n",
      "(1285356, 1) SOTF_NA_Rewards_ActiveM&L_Above50k_Single_NA.csv\n",
      "[64]\n",
      "(80757, 1) SOTF_NA_Rewards_ActiveM&L_Below50k_Multi_NA.csv\n",
      "[64]\n",
      "(331490, 1) SOTF_NA_Rewards_ActiveM&L_Below50k_Single_NA.csv\n",
      "[64]\n",
      "(627265, 1) SOTF_NA_Rewards_ActiveM&L_Unknown_Unknown_NA.csv\n",
      "[64]\n"
     ]
    }
   ],
   "source": [
    "writer_folder=\"./files_to_upload_to_twitter/\"\n",
    "\n",
    "try:\n",
    "    os.stat(writer_folder)\n",
    "except:\n",
    "    os.mkdir(writer_folder)\n",
    "    \n",
    "for file in list_files:\n",
    "    df=pd.read_csv(file,dtype=str,usecols=['email_address_hash'])\n",
    "    print(df.shape,os.path.basename(file))\n",
    "    df=df.rename(columns={\"email_address_hash\":\"email\"})\n",
    "    print(df['email'].apply(len).unique())\n",
    "    df.to_csv(writer_folder+os.path.basename(file),line_terminator=\"\\n\",header=False,index=False)"
   ]
  },
  {
   "cell_type": "code",
   "execution_count": 5,
   "metadata": {},
   "outputs": [
    {
     "data": {
      "text/html": [
       "<div>\n",
       "<style scoped>\n",
       "    .dataframe tbody tr th:only-of-type {\n",
       "        vertical-align: middle;\n",
       "    }\n",
       "\n",
       "    .dataframe tbody tr th {\n",
       "        vertical-align: top;\n",
       "    }\n",
       "\n",
       "    .dataframe thead th {\n",
       "        text-align: right;\n",
       "    }\n",
       "</style>\n",
       "<table border=\"1\" class=\"dataframe\">\n",
       "  <thead>\n",
       "    <tr style=\"text-align: right;\">\n",
       "      <th></th>\n",
       "      <th>email</th>\n",
       "    </tr>\n",
       "  </thead>\n",
       "  <tbody>\n",
       "    <tr>\n",
       "      <th>0</th>\n",
       "      <td>43368dd7ff3e280e49bc1449c2b98a9da7417ca414b4cf...</td>\n",
       "    </tr>\n",
       "    <tr>\n",
       "      <th>1</th>\n",
       "      <td>8ccb93c07d49ccacaae64f1a4016c1721935d7142f12e4...</td>\n",
       "    </tr>\n",
       "    <tr>\n",
       "      <th>2</th>\n",
       "      <td>a554a5eabb3b32d8215e5c2e081408c203e5384e276d2d...</td>\n",
       "    </tr>\n",
       "    <tr>\n",
       "      <th>3</th>\n",
       "      <td>95a5fc02e2c979e5eca558fd086ab53d932ab066afcb06...</td>\n",
       "    </tr>\n",
       "    <tr>\n",
       "      <th>4</th>\n",
       "      <td>2efaf95211029ee1104caf878da22a4452bc24b4b0360d...</td>\n",
       "    </tr>\n",
       "  </tbody>\n",
       "</table>\n",
       "</div>"
      ],
      "text/plain": [
       "                                               email\n",
       "0  43368dd7ff3e280e49bc1449c2b98a9da7417ca414b4cf...\n",
       "1  8ccb93c07d49ccacaae64f1a4016c1721935d7142f12e4...\n",
       "2  a554a5eabb3b32d8215e5c2e081408c203e5384e276d2d...\n",
       "3  95a5fc02e2c979e5eca558fd086ab53d932ab066afcb06...\n",
       "4  2efaf95211029ee1104caf878da22a4452bc24b4b0360d..."
      ]
     },
     "execution_count": 5,
     "metadata": {},
     "output_type": "execute_result"
    }
   ],
   "source": [
    "df.head(5)"
   ]
  },
  {
   "cell_type": "code",
   "execution_count": 6,
   "metadata": {},
   "outputs": [
    {
     "data": {
      "text/plain": [
       "10"
      ]
     },
     "execution_count": 6,
     "metadata": {},
     "output_type": "execute_result"
    }
   ],
   "source": [
    "a=glob.glob(\"./files_to_upload_to_twitter/*\")\n",
    "len(a)"
   ]
  },
  {
   "cell_type": "code",
   "execution_count": 7,
   "metadata": {},
   "outputs": [
    {
     "data": {
      "text/html": [
       "<div>\n",
       "<style scoped>\n",
       "    .dataframe tbody tr th:only-of-type {\n",
       "        vertical-align: middle;\n",
       "    }\n",
       "\n",
       "    .dataframe tbody tr th {\n",
       "        vertical-align: top;\n",
       "    }\n",
       "\n",
       "    .dataframe thead th {\n",
       "        text-align: right;\n",
       "    }\n",
       "</style>\n",
       "<table border=\"1\" class=\"dataframe\">\n",
       "  <thead>\n",
       "    <tr style=\"text-align: right;\">\n",
       "      <th></th>\n",
       "      <th>3bb8d998523266a0010ba23db52e903d1c59bed53fec5fc803757ce8c0974bfb</th>\n",
       "    </tr>\n",
       "  </thead>\n",
       "  <tbody>\n",
       "    <tr>\n",
       "      <th>0</th>\n",
       "      <td>554f00334afe0c6354cf861d3330528dd10be63874cd39...</td>\n",
       "    </tr>\n",
       "    <tr>\n",
       "      <th>1</th>\n",
       "      <td>33c362b9c478a94222399b729e7789621f801ff9afc996...</td>\n",
       "    </tr>\n",
       "    <tr>\n",
       "      <th>2</th>\n",
       "      <td>c23bbafe9eac273561ac1f9f8fecea4832d4c989efbcdf...</td>\n",
       "    </tr>\n",
       "    <tr>\n",
       "      <th>3</th>\n",
       "      <td>0cc72885fc57859c4180fde21b3b6a5caba9a1440c2faf...</td>\n",
       "    </tr>\n",
       "    <tr>\n",
       "      <th>4</th>\n",
       "      <td>471427ee3731eaf3605810de6cdea5467e0882c587f285...</td>\n",
       "    </tr>\n",
       "    <tr>\n",
       "      <th>5</th>\n",
       "      <td>f4b24d9470a160ef8a88e1b1af1ca8975afed1c366c5aa...</td>\n",
       "    </tr>\n",
       "    <tr>\n",
       "      <th>6</th>\n",
       "      <td>6fa2e7fb47f38270b9d3a344daa3425ac88d5f51c9e7b1...</td>\n",
       "    </tr>\n",
       "    <tr>\n",
       "      <th>7</th>\n",
       "      <td>628085b4efffa33128af5293d2ac9406015a23367bbef2...</td>\n",
       "    </tr>\n",
       "    <tr>\n",
       "      <th>8</th>\n",
       "      <td>db1c1b9bf00dd40a30b8c67a5747be88d63281e46d30a2...</td>\n",
       "    </tr>\n",
       "    <tr>\n",
       "      <th>9</th>\n",
       "      <td>736723d7a98a203d35f3bb40fcf8bbdf214382d9735b1e...</td>\n",
       "    </tr>\n",
       "  </tbody>\n",
       "</table>\n",
       "</div>"
      ],
      "text/plain": [
       "  3bb8d998523266a0010ba23db52e903d1c59bed53fec5fc803757ce8c0974bfb\n",
       "0  554f00334afe0c6354cf861d3330528dd10be63874cd39...              \n",
       "1  33c362b9c478a94222399b729e7789621f801ff9afc996...              \n",
       "2  c23bbafe9eac273561ac1f9f8fecea4832d4c989efbcdf...              \n",
       "3  0cc72885fc57859c4180fde21b3b6a5caba9a1440c2faf...              \n",
       "4  471427ee3731eaf3605810de6cdea5467e0882c587f285...              \n",
       "5  f4b24d9470a160ef8a88e1b1af1ca8975afed1c366c5aa...              \n",
       "6  6fa2e7fb47f38270b9d3a344daa3425ac88d5f51c9e7b1...              \n",
       "7  628085b4efffa33128af5293d2ac9406015a23367bbef2...              \n",
       "8  db1c1b9bf00dd40a30b8c67a5747be88d63281e46d30a2...              \n",
       "9  736723d7a98a203d35f3bb40fcf8bbdf214382d9735b1e...              "
      ]
     },
     "execution_count": 7,
     "metadata": {},
     "output_type": "execute_result"
    }
   ],
   "source": [
    "df_a0=pd.read_csv(a[0],nrows=10)\n",
    "df_a0"
   ]
  },
  {
   "cell_type": "code",
   "execution_count": 9,
   "metadata": {},
   "outputs": [
    {
     "data": {
      "text/plain": [
       "(2815779, 1)"
      ]
     },
     "execution_count": 9,
     "metadata": {},
     "output_type": "execute_result"
    }
   ],
   "source": [
    "a=pd.read_csv(\"./files_to_upload_to_twitter/Legacy_NA_Rewards_ActiveM&L_Above50k_Single_NA.csv\",dtype=str)\n",
    "a.shape"
   ]
  },
  {
   "cell_type": "code",
   "execution_count": 12,
   "metadata": {},
   "outputs": [
    {
     "data": {
      "text/plain": [
       "'83776eac1baeea9bae736a36a388dee1440d30d18410c705f97ff7ecdaf5ecf9'"
      ]
     },
     "execution_count": 12,
     "metadata": {},
     "output_type": "execute_result"
    }
   ],
   "source": [
    "a.columns.tolist()[0]"
   ]
  },
  {
   "cell_type": "code",
   "execution_count": 13,
   "metadata": {},
   "outputs": [
    {
     "data": {
      "text/plain": [
       "array([64])"
      ]
     },
     "execution_count": 13,
     "metadata": {},
     "output_type": "execute_result"
    }
   ],
   "source": [
    "a[a.columns.tolist()[0]].apply(len).unique()"
   ]
  },
  {
   "cell_type": "code",
   "execution_count": null,
   "metadata": {},
   "outputs": [],
   "source": []
  }
 ],
 "metadata": {
  "kernelspec": {
   "display_name": "Python 3",
   "language": "python",
   "name": "python3"
  },
  "language_info": {
   "codemirror_mode": {
    "name": "ipython",
    "version": 3
   },
   "file_extension": ".py",
   "mimetype": "text/x-python",
   "name": "python",
   "nbconvert_exporter": "python",
   "pygments_lexer": "ipython3",
   "version": "3.6.1"
  }
 },
 "nbformat": 4,
 "nbformat_minor": 2
}
