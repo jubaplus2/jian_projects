{
 "cells": [
  {
   "cell_type": "code",
   "execution_count": 50,
   "metadata": {
    "collapsed": true
   },
   "outputs": [],
   "source": [
    "import pandas as pd\n",
    "import numpy as np\n",
    "import google_analytics_reporting_api as ga\n",
    "import json as json\n",
    "import pandas as pd\n",
    "import numpy as np\n",
    "import datetime\n",
    "import googlemaps\n",
    "import glob\n",
    "# google_analytics_reporting_api functions writen by Jay in the path '/home/jian/Projects/Saatva/GA/google_analytics_reporting_api.py'"
   ]
  },
  {
   "cell_type": "code",
   "execution_count": 51,
   "metadata": {
    "collapsed": true
   },
   "outputs": [],
   "source": [
    "Zip_Deduplated=pd.read_excel(\"/home/jian/Projects/Saatva/Otherinput/Zips by DMA by County16-17 nielsen.xlsx\",dtype=str,skiprows=1)\n",
    "Zip_Deduplated=Zip_Deduplated.iloc[:,[0,2,6]]\n",
    "Zip_Deduplated.columns=['zipcode','dma','ST']\n",
    "Zip_Deduplated=Zip_Deduplated.drop_duplicates(['zipcode'])\n",
    "Zip_Deduplated.reset_index(inplace=True)\n",
    "del Zip_Deduplated['index']\n",
    "Zip_Deduplated=Zip_Deduplated[Zip_Deduplated['ST']!=\"HI\"]\n",
    "Zip_Deduplated=Zip_Deduplated[Zip_Deduplated['ST']!=\"AK\"]"
   ]
  },
  {
   "cell_type": "code",
   "execution_count": 52,
   "metadata": {},
   "outputs": [],
   "source": [
    "Sales_2018=pd.read_csv(\"/home/jian/Projects/Saatva/Data/transactions_for_jubaplus-20180328.csv\",dtype=str)\n",
    "Sales_2018=Sales_2018[~pd.isnull(Sales_2018['Order ID'])]\n",
    "Sales_2018.reset_index(inplace=True)\n",
    "del Sales_2018['index']\n",
    "Sales_2018['Date']=Sales_2018['Date'].apply(lambda x: datetime.datetime.strptime(x,\"%d-%b-%Y\").date())\n",
    "Sales_2018=Sales_2018[Sales_2018['Date']>=datetime.datetime.strptime(\"2018-02-01\",\"%Y-%m-%d\").date()]\n",
    "Sales_2018=Sales_2018[Sales_2018['Date']<=datetime.datetime.strptime(\"2018-03-27\",\"%Y-%m-%d\").date()]"
   ]
  },
  {
   "cell_type": "code",
   "execution_count": 53,
   "metadata": {
    "collapsed": true
   },
   "outputs": [],
   "source": [
    "Sales=Sales_2018.copy()"
   ]
  },
  {
   "cell_type": "code",
   "execution_count": 54,
   "metadata": {},
   "outputs": [],
   "source": [
    "# Clean zips in the 50 states of USA\n",
    "Sales['Shipping Zip']=Sales['Shipping Zip'].astype(str).apply(lambda x:x.split(\"-\")[0])\n",
    "Sales['Shipping Zip']=Sales['Shipping Zip'].apply(lambda x: np.where(len(x)<5,x.zfill(5),x))\n",
    "Sales=Sales[Sales['Shipping Zip'].apply(lambda x: len(x))==5]\n",
    "\n",
    "Sales['Product Revenue']=Sales['Product Revenue'].astype(float)\n",
    "Sales['zip_num_index']=pd.to_numeric(Sales['Shipping Zip'], errors='coerce')\n",
    "Sales=Sales[~pd.isnull(Sales['zip_num_index'])]\n",
    "Sales.reset_index(inplace=True)\n",
    "del Sales['zip_num_index']\n",
    "del Sales['index']\n",
    "Sales=Sales.rename(columns={\"Shipping Zip\":\"zipcode\"})\n",
    "Sales_by_Zip_Long=pd.merge(Sales,Zip_Deduplated,on=\"zipcode\",how=\"left\")\n",
    "Sales_by_Zip_Long=Sales_by_Zip_Long[~pd.isnull(Sales_by_Zip_Long['ST'])]\n",
    "Sales_by_Zip_Long.reset_index(inplace=True)\n",
    "del Sales_by_Zip_Long['index']"
   ]
  },
  {
   "cell_type": "code",
   "execution_count": 55,
   "metadata": {},
   "outputs": [],
   "source": [
    "Sales_by_Zip_Long.to_csv(\"/home/jian/Projects/Saatva/output/sales_us_day_after_president_day.csv\")"
   ]
  },
  {
   "cell_type": "code",
   "execution_count": null,
   "metadata": {
    "collapsed": true
   },
   "outputs": [],
   "source": []
  },
  {
   "cell_type": "code",
   "execution_count": null,
   "metadata": {
    "collapsed": true
   },
   "outputs": [],
   "source": []
  },
  {
   "cell_type": "code",
   "execution_count": null,
   "metadata": {
    "collapsed": true
   },
   "outputs": [],
   "source": []
  },
  {
   "cell_type": "code",
   "execution_count": null,
   "metadata": {
    "collapsed": true
   },
   "outputs": [],
   "source": []
  },
  {
   "cell_type": "code",
   "execution_count": null,
   "metadata": {
    "collapsed": true
   },
   "outputs": [],
   "source": []
  },
  {
   "cell_type": "code",
   "execution_count": null,
   "metadata": {
    "collapsed": true
   },
   "outputs": [],
   "source": []
  },
  {
   "cell_type": "code",
   "execution_count": null,
   "metadata": {
    "collapsed": true
   },
   "outputs": [],
   "source": []
  },
  {
   "cell_type": "code",
   "execution_count": null,
   "metadata": {
    "collapsed": true
   },
   "outputs": [],
   "source": []
  }
 ],
 "metadata": {
  "kernelspec": {
   "display_name": "Python 3",
   "language": "python",
   "name": "python3"
  },
  "language_info": {
   "codemirror_mode": {
    "name": "ipython",
    "version": 3
   },
   "file_extension": ".py",
   "mimetype": "text/x-python",
   "name": "python",
   "nbconvert_exporter": "python",
   "pygments_lexer": "ipython3",
   "version": "3.6.1"
  }
 },
 "nbformat": 4,
 "nbformat_minor": 2
}
