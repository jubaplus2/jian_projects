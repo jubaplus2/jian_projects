{
 "cells": [
  {
   "cell_type": "code",
   "execution_count": 1,
   "metadata": {},
   "outputs": [
    {
     "data": {
      "text/plain": [
       "'/home/jian/Projects/C21/TA/TA_of_4_stores'"
      ]
     },
     "execution_count": 1,
     "metadata": {},
     "output_type": "execute_result"
    }
   ],
   "source": [
    "import pandas as pd\n",
    "from haversine import haversine\n",
    "import json\n",
    "import datetime\n",
    "import os\n",
    "import numpy as np\n",
    "import zipcodes\n",
    "zip_centers=json.load(open(\"/home/jian/Docs/Geo_mapping/center_of_rentrak_zip.json\",\"r\"))\n",
    "\n",
    "os.getcwd()"
   ]
  },
  {
   "cell_type": "code",
   "execution_count": 2,
   "metadata": {
    "collapsed": true
   },
   "outputs": [],
   "source": [
    "df_4_stores=pd.DataFrame()\n",
    "df_4_stores=df_4_stores.append(pd.DataFrame({\"Store_Name\":\"DOWNTOWN\",\"Google_Address\":\"22 Cortlandt St, New York, NY 10007\",\"Google_Coor\":[[40.7104649,-74.0107144]]}))\n",
    "df_4_stores=df_4_stores.append(pd.DataFrame({\"Store_Name\":\"REGO_PARK\",\"Google_Address\":\"61-35 Junction Blvd, Rego Park, NY 11374\",\"Google_Coor\":[[40.7332205,-73.8631858]]}))\n",
    "df_4_stores=df_4_stores.append(pd.DataFrame({\"Store_Name\":\"CROSS_COUNTY\",\"Google_Address\":\"750 Central Park Ave, Yonkers, NY 10704\",\"Google_Coor\":[[40.9262461,-73.8553119]]}))\n",
    "df_4_stores=df_4_stores.append(pd.DataFrame({\"Store_Name\":\"PARAMUS\",\"Google_Address\":\"200 Bergen Town Center, Paramus, NJ 07652\",\"Google_Coor\":[[40.9150771,-74.0579318]]}))\n",
    "\n",
    "df_4_stores=df_4_stores.reset_index()\n",
    "del df_4_stores['index']"
   ]
  },
  {
   "cell_type": "code",
   "execution_count": 3,
   "metadata": {},
   "outputs": [
    {
     "data": {
      "text/html": [
       "<div>\n",
       "<style>\n",
       "    .dataframe thead tr:only-child th {\n",
       "        text-align: right;\n",
       "    }\n",
       "\n",
       "    .dataframe thead th {\n",
       "        text-align: left;\n",
       "    }\n",
       "\n",
       "    .dataframe tbody tr th {\n",
       "        vertical-align: top;\n",
       "    }\n",
       "</style>\n",
       "<table border=\"1\" class=\"dataframe\">\n",
       "  <thead>\n",
       "    <tr style=\"text-align: right;\">\n",
       "      <th></th>\n",
       "      <th>Google_Address</th>\n",
       "      <th>Google_Coor</th>\n",
       "      <th>Store_Name</th>\n",
       "    </tr>\n",
       "  </thead>\n",
       "  <tbody>\n",
       "    <tr>\n",
       "      <th>0</th>\n",
       "      <td>22 Cortlandt St, New York, NY 10007</td>\n",
       "      <td>[40.7104649, -74.0107144]</td>\n",
       "      <td>DOWNTOWN</td>\n",
       "    </tr>\n",
       "    <tr>\n",
       "      <th>1</th>\n",
       "      <td>61-35 Junction Blvd, Rego Park, NY 11374</td>\n",
       "      <td>[40.7332205, -73.8631858]</td>\n",
       "      <td>REGO_PARK</td>\n",
       "    </tr>\n",
       "    <tr>\n",
       "      <th>2</th>\n",
       "      <td>750 Central Park Ave, Yonkers, NY 10704</td>\n",
       "      <td>[40.9262461, -73.8553119]</td>\n",
       "      <td>CROSS_COUNTY</td>\n",
       "    </tr>\n",
       "    <tr>\n",
       "      <th>3</th>\n",
       "      <td>200 Bergen Town Center, Paramus, NJ 07652</td>\n",
       "      <td>[40.9150771, -74.0579318]</td>\n",
       "      <td>PARAMUS</td>\n",
       "    </tr>\n",
       "  </tbody>\n",
       "</table>\n",
       "</div>"
      ],
      "text/plain": [
       "                              Google_Address                Google_Coor  \\\n",
       "0        22 Cortlandt St, New York, NY 10007  [40.7104649, -74.0107144]   \n",
       "1   61-35 Junction Blvd, Rego Park, NY 11374  [40.7332205, -73.8631858]   \n",
       "2    750 Central Park Ave, Yonkers, NY 10704  [40.9262461, -73.8553119]   \n",
       "3  200 Bergen Town Center, Paramus, NJ 07652  [40.9150771, -74.0579318]   \n",
       "\n",
       "     Store_Name  \n",
       "0      DOWNTOWN  \n",
       "1     REGO_PARK  \n",
       "2  CROSS_COUNTY  \n",
       "3       PARAMUS  "
      ]
     },
     "execution_count": 3,
     "metadata": {},
     "output_type": "execute_result"
    }
   ],
   "source": [
    "df_4_stores"
   ]
  },
  {
   "cell_type": "code",
   "execution_count": 4,
   "metadata": {
    "collapsed": true
   },
   "outputs": [],
   "source": [
    "df_store_zip=pd.DataFrame()\n",
    "i_counter=1\n",
    "df_4_stores['zip_list_5_miles']=np.nan\n",
    "for index, row in df_4_stores.iterrows():\n",
    "    store_name=row['Store_Name']\n",
    "    store_center=row['Google_Coor']\n",
    "    store_zip=row['Google_Address'][-5:]\n",
    "    df_0=pd.DataFrame({\"Store_Name\":store_name,\"zip_cd\":store_zip,\"distance_miles\":\"store_zip\"},index=[i_counter])\n",
    "    i_counter+=1\n",
    "    df_store_zip=df_store_zip.append(df_0)\n",
    "    zip_list_by_store=[store_zip]\n",
    "    \n",
    "    for zip_cd in zip_centers.keys():\n",
    "        dist=haversine(store_center,zip_centers[zip_cd],miles=True)\n",
    "        if dist<=5:\n",
    "            df=pd.DataFrame({\"Store_Name\":store_name,\"zip_cd\":zip_cd,\"distance_miles\":dist},index=[i_counter])\n",
    "            i_counter+=1\n",
    "            df_store_zip=df_store_zip.append(df)\n",
    "            zip_list_by_store=zip_list_by_store+[zip_cd]\n",
    "            \n",
    "    df_4_stores.loc[index,'zip_list_5_miles']=str(list(set(zip_list_by_store)))"
   ]
  },
  {
   "cell_type": "code",
   "execution_count": 6,
   "metadata": {
    "collapsed": true
   },
   "outputs": [],
   "source": [
    "df_4_stores['zip_list_5_miles']=df_4_stores['zip_list_5_miles'].apply(lambda x: eval(x))\n",
    "df_4_stores['zip_count']=df_4_stores['zip_list_5_miles'].apply(lambda x: len(x))\n",
    "\n",
    "df_4_stores=df_4_stores[['Store_Name','Google_Address','Google_Coor','zip_list_5_miles']]"
   ]
  },
  {
   "cell_type": "code",
   "execution_count": 7,
   "metadata": {},
   "outputs": [],
   "source": [
    "df_store_zip=df_store_zip.reset_index()\n",
    "\n",
    "def get_city_state_of_zip(zip_cd):\n",
    "    \n",
    "    try:\n",
    "        city=zipcodes.matching(zip_cd)[0]['city']\n",
    "        state=zipcodes.matching(zip_cd)[0]['state']\n",
    "    except:\n",
    "        city=np.nan\n",
    "        state=np.nan\n",
    "    return city, state\n",
    "\n",
    "df_store_zip['city']=df_store_zip['zip_cd'].apply(lambda x: get_city_state_of_zip(x)[0])\n",
    "df_store_zip['state']=df_store_zip['zip_cd'].apply(lambda x: get_city_state_of_zip(x)[1])"
   ]
  },
  {
   "cell_type": "code",
   "execution_count": 12,
   "metadata": {},
   "outputs": [
    {
     "data": {
      "text/html": [
       "<div>\n",
       "<style>\n",
       "    .dataframe thead tr:only-child th {\n",
       "        text-align: right;\n",
       "    }\n",
       "\n",
       "    .dataframe thead th {\n",
       "        text-align: left;\n",
       "    }\n",
       "\n",
       "    .dataframe tbody tr th {\n",
       "        vertical-align: top;\n",
       "    }\n",
       "</style>\n",
       "<table border=\"1\" class=\"dataframe\">\n",
       "  <thead>\n",
       "    <tr style=\"text-align: right;\">\n",
       "      <th></th>\n",
       "      <th>index</th>\n",
       "      <th>Store_Name</th>\n",
       "      <th>distance_miles</th>\n",
       "      <th>zip_cd</th>\n",
       "      <th>city</th>\n",
       "      <th>state</th>\n",
       "      <th>(city, state)</th>\n",
       "    </tr>\n",
       "  </thead>\n",
       "  <tbody>\n",
       "    <tr>\n",
       "      <th>0</th>\n",
       "      <td>1</td>\n",
       "      <td>DOWNTOWN</td>\n",
       "      <td>store_zip</td>\n",
       "      <td>10007</td>\n",
       "      <td>NEW YORK</td>\n",
       "      <td>NY</td>\n",
       "      <td>(NEW YORK, NY)</td>\n",
       "    </tr>\n",
       "    <tr>\n",
       "      <th>1</th>\n",
       "      <td>2</td>\n",
       "      <td>DOWNTOWN</td>\n",
       "      <td>4.3827</td>\n",
       "      <td>11225</td>\n",
       "      <td>BROOKLYN</td>\n",
       "      <td>NY</td>\n",
       "      <td>(BROOKLYN, NY)</td>\n",
       "    </tr>\n",
       "    <tr>\n",
       "      <th>2</th>\n",
       "      <td>3</td>\n",
       "      <td>DOWNTOWN</td>\n",
       "      <td>4.49784</td>\n",
       "      <td>11221</td>\n",
       "      <td>BROOKLYN</td>\n",
       "      <td>NY</td>\n",
       "      <td>(BROOKLYN, NY)</td>\n",
       "    </tr>\n",
       "    <tr>\n",
       "      <th>3</th>\n",
       "      <td>4</td>\n",
       "      <td>DOWNTOWN</td>\n",
       "      <td>4.75348</td>\n",
       "      <td>11220</td>\n",
       "      <td>BROOKLYN</td>\n",
       "      <td>NY</td>\n",
       "      <td>(BROOKLYN, NY)</td>\n",
       "    </tr>\n",
       "  </tbody>\n",
       "</table>\n",
       "</div>"
      ],
      "text/plain": [
       "   index Store_Name distance_miles zip_cd      city state   (city, state)\n",
       "0      1   DOWNTOWN      store_zip  10007  NEW YORK    NY  (NEW YORK, NY)\n",
       "1      2   DOWNTOWN         4.3827  11225  BROOKLYN    NY  (BROOKLYN, NY)\n",
       "2      3   DOWNTOWN        4.49784  11221  BROOKLYN    NY  (BROOKLYN, NY)\n",
       "3      4   DOWNTOWN        4.75348  11220  BROOKLYN    NY  (BROOKLYN, NY)"
      ]
     },
     "execution_count": 12,
     "metadata": {},
     "output_type": "execute_result"
    }
   ],
   "source": [
    "df_store_zip['city','state']=df_store_zip['zip_cd'].apply(lambda x: get_city_state_of_zip(x))\n",
    "df_store_zip.head(4)"
   ]
  },
  {
   "cell_type": "code",
   "execution_count": 9,
   "metadata": {},
   "outputs": [
    {
     "name": "stderr",
     "output_type": "stream",
     "text": [
      "/usr/local/lib/python3.6/site-packages/ipykernel_launcher.py:2: SettingWithCopyWarning: \n",
      "A value is trying to be set on a copy of a slice from a DataFrame.\n",
      "Try using .loc[row_indexer,col_indexer] = value instead\n",
      "\n",
      "See the caveats in the documentation: http://pandas.pydata.org/pandas-docs/stable/indexing.html#indexing-view-versus-copy\n",
      "  \n"
     ]
    }
   ],
   "source": [
    "tableau_data=df_4_stores[['Store_Name','Google_Coor']]\n",
    "tableau_data['Latitude']=tableau_data['Google_Coor'].apply(lambda x: x[0])\n",
    "tableau_data['Longitude']=tableau_data['Google_Coor'].apply(lambda x: x[1])\n",
    "tableau_data=tableau_data.append(df_store_zip)\n",
    "tableau_data.head(2)\n",
    "del tableau_data['Google_Coor']\n",
    "\n",
    "tableau_data['Latitude']=tableau_data['Latitude'].fillna(0)\n",
    "tableau_data['Longitude']=tableau_data['Longitude'].fillna(0)"
   ]
  },
  {
   "cell_type": "code",
   "execution_count": 10,
   "metadata": {
    "collapsed": true
   },
   "outputs": [],
   "source": [
    "writer=pd.ExcelWriter(\"/home/jian/Projects/C21/TA/TA_of_4_stores/C21_TA_5_miles_for_4_stores_JL_\"+str(datetime.datetime.now().date())+\".xlsx\",engine=\"xlsxwriter\")\n",
    "df_4_stores.to_excel(writer,\"Four_stores_selected\",index=False)\n",
    "df_store_zip.to_excel(writer,\"Zips_5_miles_by_store\",index=False)\n",
    "tableau_data.to_excel(writer,\"Data_for_Tableau\",index=False)\n",
    "writer.save()"
   ]
  },
  {
   "cell_type": "code",
   "execution_count": 11,
   "metadata": {},
   "outputs": [
    {
     "data": {
      "text/plain": [
       "[{'active': True,\n",
       "  'city': 'NEW YORK',\n",
       "  'country': 'US',\n",
       "  'lat': 40.71,\n",
       "  'long': -73.99,\n",
       "  'state': 'NY',\n",
       "  'world_region': 'NA',\n",
       "  'zip_code': '10007',\n",
       "  'zip_code_type': 'STANDARD'}]"
      ]
     },
     "execution_count": 11,
     "metadata": {},
     "output_type": "execute_result"
    }
   ],
   "source": [
    "zipcodes.matching(\"10007\")"
   ]
  },
  {
   "cell_type": "code",
   "execution_count": null,
   "metadata": {
    "collapsed": true
   },
   "outputs": [],
   "source": []
  }
 ],
 "metadata": {
  "kernelspec": {
   "display_name": "Python 3",
   "language": "python",
   "name": "python3"
  },
  "language_info": {
   "codemirror_mode": {
    "name": "ipython",
    "version": 3
   },
   "file_extension": ".py",
   "mimetype": "text/x-python",
   "name": "python",
   "nbconvert_exporter": "python",
   "pygments_lexer": "ipython3",
   "version": "3.6.1"
  }
 },
 "nbformat": 4,
 "nbformat_minor": 2
}
