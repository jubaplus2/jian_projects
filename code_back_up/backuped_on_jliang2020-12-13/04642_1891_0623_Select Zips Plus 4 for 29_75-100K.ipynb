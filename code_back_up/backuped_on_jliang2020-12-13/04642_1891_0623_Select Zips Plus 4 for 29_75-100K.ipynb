{
 "cells": [
  {
   "cell_type": "code",
   "execution_count": 31,
   "metadata": {
    "collapsed": true
   },
   "outputs": [],
   "source": [
    "import pandas as pd\n",
    "import zipcodes\n",
    "import datetime\n",
    "import gc\n",
    "import numpy as np\n",
    "import logging\n",
    "today_str=str(datetime.datetime.now().date())"
   ]
  },
  {
   "cell_type": "code",
   "execution_count": 32,
   "metadata": {
    "collapsed": true
   },
   "outputs": [],
   "source": [
    "logging.basicConfig(filename='Saatva_Zip5_Plus4_'+today_str+'_run.log', level=logging.INFO)"
   ]
  },
  {
   "cell_type": "code",
   "execution_count": 33,
   "metadata": {
    "collapsed": true
   },
   "outputs": [],
   "source": [
    "EASI_1A=pd.read_csv(\"/home/jian/Docs/EASI/2018-07-19/ZIP4_18_DATA_A2_CSV/ZIP4_18_DATA_A2.CSV\",\n",
    "                    skiprows=1,usecols=['ZIP_CODE','ZIP4','HH18','MEDHHINC','PCTHH200P'],dtype=str)"
   ]
  },
  {
   "cell_type": "code",
   "execution_count": 34,
   "metadata": {
    "collapsed": true
   },
   "outputs": [],
   "source": [
    "EASI_1A['HH18']=EASI_1A['HH18'].astype(float)\n",
    "EASI_1A['MEDHHINC']=EASI_1A['MEDHHINC'].astype(float)\n",
    "EASI_1A['PCTHH200P']=EASI_1A['PCTHH200P'].astype(float)\n",
    "EASI_1A=EASI_1A.rename(columns={\"MEDHHINC\":\"Median_HH_Inc\"})"
   ]
  },
  {
   "cell_type": "code",
   "execution_count": null,
   "metadata": {
    "collapsed": true
   },
   "outputs": [],
   "source": []
  },
  {
   "cell_type": "code",
   "execution_count": 35,
   "metadata": {
    "collapsed": true
   },
   "outputs": [],
   "source": [
    "DMA_Zips=pd.read_excel(\"/home/jian/Docs/Geo_mapping/Zips by DMA by County16-17 nielsen.xlsx\",dtype=str,skiprows=1)\n",
    "DMA_Zips=DMA_Zips.iloc[:,[0,2,6]]\n",
    "DMA_Zips.columns=['ZIP_CODE','DMA','state']"
   ]
  },
  {
   "cell_type": "code",
   "execution_count": 36,
   "metadata": {
    "collapsed": true
   },
   "outputs": [],
   "source": [
    "DMA_29=pd.read_csv(\"/home/jian/Projects/Saatva/High_Income_Zips_for_29_DMAs/Seleceted_DMA_Top25_TV25.csv\",dtype=str)\n",
    "DMA_29=DMA_29['dma'].unique().tolist()"
   ]
  },
  {
   "cell_type": "code",
   "execution_count": 37,
   "metadata": {
    "collapsed": true
   },
   "outputs": [],
   "source": [
    "DMA_Zips_29=DMA_Zips[DMA_Zips['DMA'].isin(DMA_29)]"
   ]
  },
  {
   "cell_type": "code",
   "execution_count": 38,
   "metadata": {
    "collapsed": true
   },
   "outputs": [],
   "source": [
    "DMA_Zips_29=DMA_Zips_29.drop_duplicates()"
   ]
  },
  {
   "cell_type": "code",
   "execution_count": 39,
   "metadata": {
    "collapsed": true
   },
   "outputs": [],
   "source": [
    "DMA_Zips_29=pd.merge(DMA_Zips_29,EASI_1A,on=\"ZIP_CODE\",how=\"left\")"
   ]
  },
  {
   "cell_type": "code",
   "execution_count": 40,
   "metadata": {},
   "outputs": [
    {
     "data": {
      "text/plain": [
       "14289"
      ]
     },
     "execution_count": 40,
     "metadata": {},
     "output_type": "execute_result"
    }
   ],
   "source": [
    "len(DMA_Zips_29['ZIP_CODE'].unique())"
   ]
  },
  {
   "cell_type": "code",
   "execution_count": null,
   "metadata": {
    "collapsed": true
   },
   "outputs": [],
   "source": []
  },
  {
   "cell_type": "markdown",
   "metadata": {},
   "source": [
    "# On Median Income Zip+4"
   ]
  },
  {
   "cell_type": "code",
   "execution_count": 41,
   "metadata": {
    "collapsed": true
   },
   "outputs": [],
   "source": [
    "# Meidan Income $75K to $100K \n",
    "DMA_Zips_29_High=DMA_Zips_29[(DMA_Zips_29['Median_HH_Inc']<100000) & (DMA_Zips_29['Median_HH_Inc']>=75000)]"
   ]
  },
  {
   "cell_type": "code",
   "execution_count": 42,
   "metadata": {},
   "outputs": [
    {
     "name": "stdout",
     "output_type": "stream",
     "text": [
      "63380\n",
      "86005\n",
      "97003\n"
     ]
    }
   ],
   "source": [
    "unique_zip_city=pd.DataFrame()\n",
    "for zip_cd in DMA_Zips_29_High['ZIP_CODE'].unique().tolist():\n",
    "    if len(zipcodes.matching(zip_cd))>=1:\n",
    "        city=zipcodes.matching(zip_cd)[0]['city']\n",
    "        df=pd.DataFrame({\"ZIP_CODE\":zip_cd,\"city\":city},index=[zip_cd])\n",
    "        unique_zip_city=unique_zip_city.append(df)\n",
    "    else:\n",
    "        print(zip_cd)\n",
    "        logging.info(str(zip_cd) + \": no city in zipcodes packages, google for it\")"
   ]
  },
  {
   "cell_type": "code",
   "execution_count": 43,
   "metadata": {
    "collapsed": true
   },
   "outputs": [],
   "source": [
    "unique_zip_city=unique_zip_city.append(pd.DataFrame({\"ZIP_CODE\":['63380','86005','97003'],\"city\":[\"Truesdale\",\"Kachina Village\",\"Hillsboro\"]},index=['63380','86005','97003']))\n",
    "\n"
   ]
  },
  {
   "cell_type": "code",
   "execution_count": 44,
   "metadata": {
    "collapsed": true
   },
   "outputs": [],
   "source": [
    "DMA_Zips_29_High=pd.merge(DMA_Zips_29_High,unique_zip_city,on=\"ZIP_CODE\",how=\"left\")"
   ]
  },
  {
   "cell_type": "code",
   "execution_count": 45,
   "metadata": {
    "collapsed": true
   },
   "outputs": [],
   "source": [
    "DMA_Zips_29_High=DMA_Zips_29_High[['ZIP_CODE','ZIP4','DMA','city','state','HH18','Median_HH_Inc','PCTHH200P']]"
   ]
  },
  {
   "cell_type": "code",
   "execution_count": 46,
   "metadata": {
    "collapsed": true
   },
   "outputs": [],
   "source": [
    "DMA_Zips_29_High['HH_200K_Plus']=DMA_Zips_29_High['HH18']/100*DMA_Zips_29_High['PCTHH200P']"
   ]
  },
  {
   "cell_type": "code",
   "execution_count": null,
   "metadata": {
    "collapsed": true
   },
   "outputs": [],
   "source": [
    "writer=pd.ExcelWriter(\"/home/jian/Projects/Saatva/High_Income_Zips_for_29_DMAs/Saatva_Zip Plus4 Median HH Inc 75K to 100K for 29 DMAs_JL_20180823.xlsx\",engine=\"xlsxwriter\")"
   ]
  },
  {
   "cell_type": "code",
   "execution_count": 18,
   "metadata": {},
   "outputs": [
    {
     "name": "stdout",
     "output_type": "stream",
     "text": [
      "NEW YORK with rows of: 331140\n",
      "LOS ANGELES with rows of: 318610\n",
      "SAN FRANCISCO-OAK-SAN JOSE with rows of: 127572\n",
      "WASHINGTON, DC (HAGRSTWN) with rows of: 139201\n",
      "CHICAGO with rows of: 257954\n",
      "BOSTON (MANCHESTER) with rows of: 192105\n",
      "SEATTLE-TACOMA with rows of: 171818\n",
      "PHILADELPHIA with rows of: 202422\n",
      "DALLAS-FT. WORTH with rows of: 206987\n",
      "DENVER with rows of: 109803\n",
      "ATLANTA with rows of: 180183\n",
      "PHOENIX (PRESCOTT) with rows of: 110595\n",
      "TAMPA-ST. PETE (SARASOTA) with rows of: 93671\n",
      "HOUSTON with rows of: 160064\n",
      "BALTIMORE with rows of: 72930\n",
      "ORLANDO-DAYTONA BCH-MELBRN with rows of: 81707\n",
      "MINNEAPOLIS-ST. PAUL with rows of: 178281\n",
      "DETROIT with rows of: 133099\n",
      "MIAMI-FT. LAUDERDALE with rows of: 83558\n",
      "SAN DIEGO with rows of: 57048\n",
      "SACRAMNTO-STKTON-MODESTO with rows of: 85691\n",
      "AUSTIN with rows of: 68873\n",
      "PORTLAND, OR with rows of: 125018\n",
      "WEST PALM BEACH-FT. PIERCE with rows of: 45184\n",
      "RALEIGH-DURHAM (FAYETVLLE) with rows of: 99175\n",
      "CHARLOTTE with rows of: 70863\n",
      "CLEVELAND-AKRON (CANTON) with rows of: 103790\n",
      "ST. LOUIS with rows of: 102934\n",
      "PITTSBURGH with rows of: 79796\n"
     ]
    }
   ],
   "source": [
    "for dma in DMA_29:\n",
    "    df=DMA_Zips_29_High[DMA_Zips_29_High['DMA']==dma]\n",
    "    df=df.reset_index()\n",
    "    del df['index']\n",
    "    if df.shape[0]>1000000:\n",
    "        df=df.sort_values('Avg_HH_Inc',ascending=False)\n",
    "        df=df.reset_index()\n",
    "        del df['index']\n",
    "        df_0=df.iloc[0:50000,]\n",
    "        df_1=df.iloc[50000:,]\n",
    "        df_0.to_excel(writer,dma+\"_1\",index=False)\n",
    "        df_1.to_excel(writer,dma+\"_2\",index=False)\n",
    "    else:\n",
    "        df.to_excel(writer,dma,index=False)\n",
    "    print(dma+\" with rows of: \"+str(df.shape[0]))"
   ]
  },
  {
   "cell_type": "code",
   "execution_count": 19,
   "metadata": {
    "collapsed": true
   },
   "outputs": [],
   "source": [
    "writer.save()"
   ]
  },
  {
   "cell_type": "code",
   "execution_count": 21,
   "metadata": {},
   "outputs": [
    {
     "data": {
      "text/plain": [
       "0"
      ]
     },
     "execution_count": 21,
     "metadata": {},
     "output_type": "execute_result"
    }
   ],
   "source": [
    "gc.collect()"
   ]
  },
  {
   "cell_type": "code",
   "execution_count": null,
   "metadata": {
    "collapsed": true
   },
   "outputs": [],
   "source": []
  },
  {
   "cell_type": "code",
   "execution_count": null,
   "metadata": {
    "collapsed": true
   },
   "outputs": [],
   "source": []
  },
  {
   "cell_type": "markdown",
   "metadata": {},
   "source": [
    "# On Median Income Zip5"
   ]
  },
  {
   "cell_type": "code",
   "execution_count": 47,
   "metadata": {
    "collapsed": true
   },
   "outputs": [],
   "source": [
    "del EASI_1A\n",
    "del DMA_Zips_29_High\n",
    "del df"
   ]
  },
  {
   "cell_type": "code",
   "execution_count": 48,
   "metadata": {
    "collapsed": true
   },
   "outputs": [],
   "source": [
    "zip5_HH=DMA_Zips_29.groupby(['ZIP_CODE','DMA','state'])['HH18'].sum().to_frame().reset_index()"
   ]
  },
  {
   "cell_type": "code",
   "execution_count": 49,
   "metadata": {},
   "outputs": [
    {
     "data": {
      "text/plain": [
       "(18382899, 7)"
      ]
     },
     "execution_count": 49,
     "metadata": {},
     "output_type": "execute_result"
    }
   ],
   "source": [
    "DMA_Zips_29.shape"
   ]
  },
  {
   "cell_type": "code",
   "execution_count": 50,
   "metadata": {},
   "outputs": [
    {
     "name": "stdout",
     "output_type": "stream",
     "text": [
      "ZIP_CODE [<class 'str'>]\n",
      "DMA [<class 'str'>]\n",
      "state [<class 'str'>]\n",
      "ZIP4 [<class 'str'>, <class 'float'>]\n",
      "HH18 [<class 'float'>]\n",
      "Median_HH_Inc [<class 'float'>]\n",
      "PCTHH200P [<class 'float'>]\n"
     ]
    }
   ],
   "source": [
    "for col in DMA_Zips_29.columns.tolist():\n",
    "    print(col, DMA_Zips_29[col].apply(lambda x: type(x)).unique().tolist())\n"
   ]
  },
  {
   "cell_type": "code",
   "execution_count": 51,
   "metadata": {
    "collapsed": true
   },
   "outputs": [],
   "source": [
    "temp_DMA_Zip_29=DMA_Zips_29[['ZIP_CODE','ZIP4','HH18','Median_HH_Inc','PCTHH200P']].drop_duplicates(['ZIP_CODE','ZIP4'])"
   ]
  },
  {
   "cell_type": "code",
   "execution_count": 52,
   "metadata": {},
   "outputs": [
    {
     "data": {
      "text/plain": [
       "195"
      ]
     },
     "execution_count": 52,
     "metadata": {},
     "output_type": "execute_result"
    }
   ],
   "source": [
    "del temp_DMA_Zip_29['ZIP4']\n",
    "gc.collect()"
   ]
  },
  {
   "cell_type": "code",
   "execution_count": 53,
   "metadata": {},
   "outputs": [
    {
     "data": {
      "text/plain": [
       "650328.0"
      ]
     },
     "execution_count": 53,
     "metadata": {},
     "output_type": "execute_result"
    }
   ],
   "source": [
    "temp_DMA_Zip_29['Median_HH_Inc'].max()"
   ]
  },
  {
   "cell_type": "code",
   "execution_count": 54,
   "metadata": {},
   "outputs": [
    {
     "name": "stdout",
     "output_type": "stream",
     "text": [
      "10 2018-08-29 13:44:54.187378\n",
      "100 2018-08-29 13:44:54.525498\n",
      "1010 2018-08-29 13:44:57.704691\n",
      "1100 2018-08-29 13:44:58.059080\n",
      "2010 2018-08-29 13:45:01.335190\n",
      "2100 2018-08-29 13:45:01.699831\n",
      "3010 2018-08-29 13:45:04.911868\n",
      "3100 2018-08-29 13:45:05.261486\n",
      "4010 2018-08-29 13:45:08.499946\n",
      "4100 2018-08-29 13:45:08.860273\n",
      "5010 2018-08-29 13:45:12.227052\n",
      "5100 2018-08-29 13:45:12.605461\n",
      "6010 2018-08-29 13:45:16.107537\n",
      "6100 2018-08-29 13:45:16.490507\n",
      "7010 2018-08-29 13:45:20.035434\n",
      "7100 2018-08-29 13:45:20.409700\n",
      "8010 2018-08-29 13:45:23.983453\n",
      "8100 2018-08-29 13:45:24.353719\n",
      "9010 2018-08-29 13:45:27.971788\n",
      "9100 2018-08-29 13:45:28.361966\n",
      "10010 2018-08-29 13:45:32.072054\n",
      "10100 2018-08-29 13:45:32.480778\n",
      "11010 2018-08-29 13:45:36.186890\n",
      "11100 2018-08-29 13:45:36.571456\n",
      "12010 2018-08-29 13:45:40.380379\n",
      "12100 2018-08-29 13:45:40.788922\n",
      "13010 2018-08-29 13:45:44.581456\n",
      "13100 2018-08-29 13:45:44.986634\n",
      "14010 2018-08-29 13:45:48.792097\n",
      "14100 2018-08-29 13:45:49.214859\n"
     ]
    }
   ],
   "source": [
    "i=0\n",
    "zip5_HH_Median_Inc=pd.DataFrame()\n",
    "\n",
    "for zip_cd,group in temp_DMA_Zip_29.groupby(['ZIP_CODE']):\n",
    "    \n",
    "    total_HH=group['HH18'].sum()\n",
    "    group=group[['ZIP_CODE','HH18','Median_HH_Inc','PCTHH200P']]\n",
    "    \n",
    "    \n",
    "    agg_Pctg_HH_200P=sum(group['PCTHH200P']*group['HH18']/total_HH)\n",
    "    agg_median=sum(group['Median_HH_Inc']*group['HH18']/total_HH)\n",
    "    \n",
    "    df_app=pd.DataFrame({\"ZIP_CODE\":zip_cd,\"Meidan_HH_Inc_agg\":agg_median,\"Pctg_HH_200P_agg\":agg_Pctg_HH_200P},index=[zip_cd])\n",
    "    \n",
    "    zip5_HH_Median_Inc=zip5_HH_Median_Inc.append(df_app)\n",
    "    \n",
    "    i=i+1\n",
    "    if i % 1000==10:\n",
    "        print(i,datetime.datetime.now())\n",
    "        logging.info(str(i)+\"|\"+str(datetime.datetime.now()))\n",
    "        gc.collect()\n",
    "    if i % 1000==100:\n",
    "        print(i,datetime.datetime.now())\n",
    "        logging.info(str(i)+\"|\"+str(datetime.datetime.now()))\n",
    "    "
   ]
  },
  {
   "cell_type": "code",
   "execution_count": 55,
   "metadata": {},
   "outputs": [
    {
     "data": {
      "text/html": [
       "<div>\n",
       "<style>\n",
       "    .dataframe thead tr:only-child th {\n",
       "        text-align: right;\n",
       "    }\n",
       "\n",
       "    .dataframe thead th {\n",
       "        text-align: left;\n",
       "    }\n",
       "\n",
       "    .dataframe tbody tr th {\n",
       "        vertical-align: top;\n",
       "    }\n",
       "</style>\n",
       "<table border=\"1\" class=\"dataframe\">\n",
       "  <thead>\n",
       "    <tr style=\"text-align: right;\">\n",
       "      <th></th>\n",
       "      <th>ZIP_CODE</th>\n",
       "      <th>DMA</th>\n",
       "      <th>city</th>\n",
       "      <th>state</th>\n",
       "      <th>HH18</th>\n",
       "      <th>Meidan_HH_Inc_agg</th>\n",
       "      <th>Pctg_HH_200P_agg</th>\n",
       "      <th>HH_200K_Plus</th>\n",
       "    </tr>\n",
       "  </thead>\n",
       "  <tbody>\n",
       "  </tbody>\n",
       "</table>\n",
       "</div>"
      ],
      "text/plain": [
       "Empty DataFrame\n",
       "Columns: [ZIP_CODE, DMA, city, state, HH18, Meidan_HH_Inc_agg, Pctg_HH_200P_agg, HH_200K_Plus]\n",
       "Index: []"
      ]
     },
     "execution_count": 55,
     "metadata": {},
     "output_type": "execute_result"
    }
   ],
   "source": [
    "zip5_HH_Median_Inc_High[zip5_HH_Median_Inc_High['Meidan_HH_Inc_agg']==100000]\n",
    "# Check to confirm empty"
   ]
  },
  {
   "cell_type": "code",
   "execution_count": 25,
   "metadata": {
    "collapsed": true
   },
   "outputs": [],
   "source": [
    "# Zip 5 level HH Inc $75K to $100K\n",
    "zip5_HH_Median_Inc_High=zip5_HH_Median_Inc[(zip5_HH_Median_Inc['Meidan_HH_Inc_agg']<100000) & (zip5_HH_Median_Inc['Meidan_HH_Inc_agg']>=75000)]\n",
    "zip5_HH_Median_Inc_High=pd.merge(zip5_HH_Median_Inc_High,zip5_HH,on=\"ZIP_CODE\",how=\"left\")\n",
    "zip5_HH_Median_Inc_High['HH_200K_Plus']=zip5_HH_Median_Inc_High['HH18']*zip5_HH_Median_Inc_High['Pctg_HH_200P_agg']/100"
   ]
  },
  {
   "cell_type": "code",
   "execution_count": 26,
   "metadata": {},
   "outputs": [
    {
     "name": "stdout",
     "output_type": "stream",
     "text": [
      "86005\n"
     ]
    }
   ],
   "source": [
    "unique_zip_city=pd.DataFrame()\n",
    "for zip_cd in zip5_HH_Median_Inc_High['ZIP_CODE'].unique().tolist():\n",
    "    if len(zipcodes.matching(zip_cd))>=1:\n",
    "        city=zipcodes.matching(zip_cd)[0]['city']\n",
    "        df=pd.DataFrame({\"ZIP_CODE\":zip_cd,\"city\":city},index=[zip_cd])\n",
    "        unique_zip_city=unique_zip_city.append(df)\n",
    "    else:\n",
    "        print(zip_cd)\n",
    "# No need to fill through google"
   ]
  },
  {
   "cell_type": "code",
   "execution_count": 22,
   "metadata": {
    "collapsed": true
   },
   "outputs": [],
   "source": [
    "# Stopped here"
   ]
  },
  {
   "cell_type": "code",
   "execution_count": 27,
   "metadata": {
    "collapsed": true
   },
   "outputs": [],
   "source": [
    "zip5_HH_Median_Inc_High=pd.merge(zip5_HH_Median_Inc_High,unique_zip_city,on=\"ZIP_CODE\",how=\"left\")"
   ]
  },
  {
   "cell_type": "code",
   "execution_count": 28,
   "metadata": {
    "collapsed": true
   },
   "outputs": [],
   "source": [
    "zip5_HH_Median_Inc_High=zip5_HH_Median_Inc_High[['ZIP_CODE','DMA','city','state','HH18','Meidan_HH_Inc_agg','Pctg_HH_200P_agg','HH_200K_Plus']]"
   ]
  },
  {
   "cell_type": "code",
   "execution_count": 29,
   "metadata": {
    "collapsed": true
   },
   "outputs": [],
   "source": [
    "writer=pd.ExcelWriter(\"/home/jian/Projects/Saatva/High_Income_Zips_for_29_DMAs/Saatva_Zip5 Median HH Inc 75K to 100K for 29 DMAs_JL_20180823.xlsx\",engine=\"xlsxwriter\")\n",
    "zip5_HH_Median_Inc_High.to_excel(writer,\"all_29_DMAs\",index=False)\n",
    "\n",
    "for dma in DMA_29:\n",
    "    df=zip5_HH_Median_Inc_High[zip5_HH_Median_Inc_High['DMA']==dma]\n",
    "    df.to_excel(writer,dma,index=False)\n"
   ]
  },
  {
   "cell_type": "code",
   "execution_count": 30,
   "metadata": {
    "collapsed": true
   },
   "outputs": [],
   "source": [
    "writer.save()"
   ]
  },
  {
   "cell_type": "code",
   "execution_count": null,
   "metadata": {
    "collapsed": true
   },
   "outputs": [],
   "source": []
  }
 ],
 "metadata": {
  "kernelspec": {
   "display_name": "Python 3",
   "language": "python",
   "name": "python3"
  },
  "language_info": {
   "codemirror_mode": {
    "name": "ipython",
    "version": 3
   },
   "file_extension": ".py",
   "mimetype": "text/x-python",
   "name": "python",
   "nbconvert_exporter": "python",
   "pygments_lexer": "ipython3",
   "version": "3.6.1"
  }
 },
 "nbformat": 4,
 "nbformat_minor": 2
}
