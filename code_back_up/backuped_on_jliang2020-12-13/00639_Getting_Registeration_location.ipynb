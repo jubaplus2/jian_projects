{
 "cells": [
  {
   "cell_type": "code",
   "execution_count": 1,
   "metadata": {},
   "outputs": [
    {
     "data": {
      "text/plain": [
       "'/home/jian/Projects/Big_Lots/Loyal_members/loyalty_register_data'"
      ]
     },
     "execution_count": 1,
     "metadata": {},
     "output_type": "execute_result"
    }
   ],
   "source": [
    "import pandas as pd\n",
    "import numpy as np\n",
    "import datetime\n",
    "import os\n",
    "import hashlib\n",
    "os.getcwd()"
   ]
  },
  {
   "cell_type": "code",
   "execution_count": 2,
   "metadata": {},
   "outputs": [
    {
     "data": {
      "text/plain": [
       "1873387"
      ]
     },
     "execution_count": 2,
     "metadata": {},
     "output_type": "execute_result"
    }
   ],
   "source": [
    "data_0=pd.read_table(\"/home/jian/Projects/Big_Lots/Loyal_members/loyalty_register_data/MediaStorm_Lapsed_Reward_Member_Master_from2014-08-26to2017-02-26.zip\",\n",
    "                     dtype=str,sep=\"|\",usecols=['customer_id_hashed','email_address_hash','sign_up_location']).drop_duplicates()\n",
    "data_0=data_0.drop_duplicates(['customer_id_hashed'])\n",
    "data_0=data_0.drop_duplicates(['email_address_hash'])\n",
    "len(data_0['customer_id_hashed'].unique())"
   ]
  },
  {
   "cell_type": "code",
   "execution_count": 3,
   "metadata": {},
   "outputs": [
    {
     "name": "stdout",
     "output_type": "stream",
     "text": [
      "2864\n"
     ]
    }
   ],
   "source": [
    "data_1=pd.read_csv(\"/home/jian/Projects/Big_Lots/Loyal_members/loyalty_register_data/MediaStormCustTot-hashed-email.txt\",\n",
    "                     dtype=str,header=None,usecols=[0,1,4])\n",
    "data_1.columns=['customer_id_hashed','email_address_hash','sign_up_location']\n",
    "data_1=data_1[data_1['sign_up_location'].apply(lambda x: len(x))<=4]\n",
    "data_1['customer_id_hashed']=data_1['customer_id_hashed'].apply(lambda x: hashlib.sha256(x.encode('utf-8')).hexdigest())\n",
    "data_1=data_1.drop_duplicates(['customer_id_hashed'])\n",
    "data_1=data_1.drop_duplicates(['email_address_hash'])\n",
    "print(len(data_1['sign_up_location'].unique()))\n",
    "data_0=data_1.append(data_0)"
   ]
  },
  {
   "cell_type": "code",
   "execution_count": 4,
   "metadata": {
    "collapsed": true
   },
   "outputs": [],
   "source": [
    "data_1 = pd.read_csv('/home/jian/Projects/Big_Lots/Loyal_members/loyalty_register_data/'+'MediaStormCustomerTransactionTotals_2018-01-09_2018-03-31.txt',\n",
    "                     sep = ',',dtype = str,usecols=['customer_id_hashed','email_address_hash','sign_up_location'])\n",
    "data_0=data_1.append(data_0)\n",
    "\n",
    "#\n",
    "data_1 = pd.read_csv('/home/jian/Projects/Big_Lots/Loyal_members/loyalty_register_data/'+'Existing Reward Member Master as of 2018-06-05.txt',\n",
    "                     dtype = str,sep = '|',usecols=['customer_id_hashed','email_address_hash','sign_up_location'])\n",
    "data_0=data_1.append(data_0)\n",
    "\n",
    "#\n",
    "data_1 = pd.read_csv('/home/jian/Projects/Big_Lots/Loyal_members/loyalty_register_data/'+'New Reward Member Master as of 2018-06-05.txt',\n",
    "                     dtype = str,sep = '|',usecols=['customer_id_hashed','email_address_hash','sign_up_location'])\n",
    "data_0=data_1.append(data_0)\n",
    "\n"
   ]
  },
  {
   "cell_type": "code",
   "execution_count": 6,
   "metadata": {},
   "outputs": [
    {
     "name": "stdout",
     "output_type": "stream",
     "text": [
      "1 2019-04-09 17:17:12.038946\n",
      "2 2019-04-09 17:17:17.821523\n",
      "3 2019-04-09 17:17:23.034275\n",
      "4 2019-04-09 17:17:28.670039\n",
      "5 2019-04-09 17:17:34.300875\n",
      "6 2019-04-09 17:17:39.734728\n",
      "7 2019-04-09 17:17:45.425039\n",
      "8 2019-04-09 17:17:50.247315\n",
      "9 2019-04-09 17:17:55.914097\n",
      "10 2019-04-09 17:18:01.144789\n",
      "11 2019-04-09 17:18:08.402614\n",
      "12 2019-04-09 17:18:13.638784\n",
      "13 2019-04-09 17:18:20.006909\n",
      "14 2019-04-09 17:18:25.946421\n",
      "15 2019-04-09 17:18:32.712584\n",
      "16 2019-04-09 17:18:43.673457\n",
      "17 2019-04-09 17:18:47.361888\n",
      "18 2019-04-09 17:18:50.849142\n",
      "19 2019-04-09 17:18:54.612711\n",
      "20 2019-04-09 17:18:58.076454\n",
      "21 2019-04-09 17:19:01.561907\n",
      "22 2019-04-09 17:19:05.093258\n",
      "23 2019-04-09 17:19:08.715933\n",
      "24 2019-04-09 17:19:12.318779\n",
      "25 2019-04-09 17:19:16.220539\n",
      "26 2019-04-09 17:19:20.352574\n"
     ]
    }
   ],
   "source": [
    "def recursive_file_gen(my_root_dir):\n",
    "    for root, dirs, files in os.walk(my_root_dir):\n",
    "        for file in files:\n",
    "            yield os.path.join(root, file)\n",
    "\n",
    "walk_through_master_list_2018=list(recursive_file_gen(\"/home/jian/BigLots/2018_by_weeks/\"))\n",
    "walk_through_master_list_2019=list(recursive_file_gen(\"/home/jian/BigLots/2019_by_weeks/\"))\n",
    "\n",
    "walk_through_master_list=walk_through_master_list_2018+walk_through_master_list_2019\n",
    "walk_through_master_list=[x for x in walk_through_master_list if \"Master\" in x]\n",
    "walk_through_master_list_df=pd.DataFrame({'file_path':walk_through_master_list})\n",
    "walk_through_master_list_df['Date']=walk_through_master_list_df['file_path'].apply(lambda x: x.split(\"_by_weeks/MediaStorm_\")[1][:10])\n",
    "walk_through_master_list_df=walk_through_master_list_df.sort_values(\"Date\",ascending=False)\n",
    "i_counter=0\n",
    "\n",
    "walk_through_master_list_df=walk_through_master_list_df.reset_index()\n",
    "del walk_through_master_list_df['index']\n",
    "for file_path in walk_through_master_list_df['file_path']:\n",
    "    df=pd.read_csv(file_path,dtype = str,sep = '|',usecols=['customer_id_hashed','email_address_hash','sign_up_location'])\n",
    "    data_0=df.append(data_0)\n",
    "    i_counter+=1\n",
    "    print(i_counter,datetime.datetime.now())\n",
    "\n",
    "    "
   ]
  },
  {
   "cell_type": "code",
   "execution_count": null,
   "metadata": {
    "collapsed": true
   },
   "outputs": [],
   "source": []
  },
  {
   "cell_type": "code",
   "execution_count": 7,
   "metadata": {
    "collapsed": true
   },
   "outputs": [],
   "source": [
    "data_0=data_0.drop_duplicates(['customer_id_hashed']).drop_duplicates(\"email_address_hash\")\n",
    "data_0['sign_up_location']=data_0['sign_up_location'].fillna(\"0\")"
   ]
  },
  {
   "cell_type": "code",
   "execution_count": 8,
   "metadata": {
    "collapsed": true
   },
   "outputs": [],
   "source": [
    "\n",
    "data_0.to_csv(\"/home/jian/Projects/Big_Lots/Loyal_members/loyalty_register_data/output_sing_up_location/BL_id_by_register_store_JL_\"+str(datetime.datetime.now().date())+\".csv\",index=False)\n",
    "\n",
    "\n"
   ]
  },
  {
   "cell_type": "code",
   "execution_count": 9,
   "metadata": {},
   "outputs": [
    {
     "data": {
      "text/plain": [
       "(25013950, 3)"
      ]
     },
     "execution_count": 9,
     "metadata": {},
     "output_type": "execute_result"
    }
   ],
   "source": [
    "data_0.shape"
   ]
  },
  {
   "cell_type": "code",
   "execution_count": 10,
   "metadata": {},
   "outputs": [
    {
     "data": {
      "text/html": [
       "<div>\n",
       "<style>\n",
       "    .dataframe thead tr:only-child th {\n",
       "        text-align: right;\n",
       "    }\n",
       "\n",
       "    .dataframe thead th {\n",
       "        text-align: left;\n",
       "    }\n",
       "\n",
       "    .dataframe tbody tr th {\n",
       "        vertical-align: top;\n",
       "    }\n",
       "</style>\n",
       "<table border=\"1\" class=\"dataframe\">\n",
       "  <thead>\n",
       "    <tr style=\"text-align: right;\">\n",
       "      <th></th>\n",
       "      <th>customer_id_hashed</th>\n",
       "      <th>email_address_hash</th>\n",
       "      <th>sign_up_location</th>\n",
       "    </tr>\n",
       "  </thead>\n",
       "  <tbody>\n",
       "    <tr>\n",
       "      <th>0</th>\n",
       "      <td>3132829a904f1d6c44a1825bb3da6a1172c8da574a48b5...</td>\n",
       "      <td>a1fed2adf904f2b22fbdc0802904e4cb6db38fd09c42a0...</td>\n",
       "      <td>5294</td>\n",
       "    </tr>\n",
       "    <tr>\n",
       "      <th>1</th>\n",
       "      <td>0759b8f23ed38c541d242a6fdd905b3874978cb332321d...</td>\n",
       "      <td>353cfff59ae492fd641ae64357c46dae76d6336229f351...</td>\n",
       "      <td>5143</td>\n",
       "    </tr>\n",
       "  </tbody>\n",
       "</table>\n",
       "</div>"
      ],
      "text/plain": [
       "                                  customer_id_hashed  \\\n",
       "0  3132829a904f1d6c44a1825bb3da6a1172c8da574a48b5...   \n",
       "1  0759b8f23ed38c541d242a6fdd905b3874978cb332321d...   \n",
       "\n",
       "                                  email_address_hash sign_up_location  \n",
       "0  a1fed2adf904f2b22fbdc0802904e4cb6db38fd09c42a0...             5294  \n",
       "1  353cfff59ae492fd641ae64357c46dae76d6336229f351...             5143  "
      ]
     },
     "execution_count": 10,
     "metadata": {},
     "output_type": "execute_result"
    }
   ],
   "source": [
    "data_0.head(2)"
   ]
  },
  {
   "cell_type": "code",
   "execution_count": null,
   "metadata": {
    "collapsed": true
   },
   "outputs": [],
   "source": []
  },
  {
   "cell_type": "code",
   "execution_count": null,
   "metadata": {
    "collapsed": true
   },
   "outputs": [],
   "source": []
  }
 ],
 "metadata": {
  "kernelspec": {
   "display_name": "Python 3",
   "language": "python",
   "name": "python3"
  },
  "language_info": {
   "codemirror_mode": {
    "name": "ipython",
    "version": 3
   },
   "file_extension": ".py",
   "mimetype": "text/x-python",
   "name": "python",
   "nbconvert_exporter": "python",
   "pygments_lexer": "ipython3",
   "version": "3.6.1"
  }
 },
 "nbformat": 4,
 "nbformat_minor": 2
}
