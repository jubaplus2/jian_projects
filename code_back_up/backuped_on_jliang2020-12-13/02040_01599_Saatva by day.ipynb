{
 "cells": [
  {
   "cell_type": "code",
   "execution_count": 1,
   "metadata": {
    "collapsed": true
   },
   "outputs": [],
   "source": [
    "import pandas as pd\n",
    "import numpy as np\n",
    "import google_analytics_reporting_api as ga\n",
    "import json as json\n",
    "import pandas as pd\n",
    "import numpy as np\n",
    "import datetime\n",
    "import googlemaps\n",
    "import glob\n",
    "# google_analytics_reporting_api functions writen by Jay in the path '/home/jian/Projects/Saatva/GA/google_analytics_reporting_api.py'"
   ]
  },
  {
   "cell_type": "code",
   "execution_count": 14,
   "metadata": {
    "collapsed": true
   },
   "outputs": [],
   "source": [
    "Zip_Deduplated=pd.read_excel(\"/home/jian/Projects/Saatva/Otherinput/Zips by DMA by County16-17 nielsen.xlsx\",dtype=str,skiprows=1)\n",
    "Zip_Deduplated=Zip_Deduplated.iloc[:,[0,2,6]]\n",
    "Zip_Deduplated.columns=['zipcode','dma','ST']\n",
    "Zip_Deduplated=Zip_Deduplated.drop_duplicates(['zipcode'])\n",
    "Zip_Deduplated.reset_index(inplace=True)\n",
    "del Zip_Deduplated['index']\n",
    "Zip_Deduplated=Zip_Deduplated[Zip_Deduplated['ST']!=\"HI\"]\n",
    "Zip_Deduplated=Zip_Deduplated[Zip_Deduplated['ST']!=\"AK\"]\n",
    "\n",
    "Saatva=pd.read_excel(\"/home/jian/Projects/Saatva/Data/Order_data.xlsx\",sheetname=\"Saatva\",dtype=str)\n",
    "Loom_and_Leaf=pd.read_excel(\"/home/jian/Projects/Saatva/Data/Order_data.xlsx\",sheetname=\"Loom_and_Leaf\",dtype=str)\n",
    "Zenhaven=pd.read_excel(\"/home/jian/Projects/Saatva/Data/Order_data.xlsx\",sheetname=\"Zenhaven\",dtype=str)"
   ]
  },
  {
   "cell_type": "code",
   "execution_count": 15,
   "metadata": {
    "collapsed": true
   },
   "outputs": [],
   "source": [
    "Saatva=Saatva.iloc[:,0:7]\n",
    "Loom_and_Leaf=Loom_and_Leaf.iloc[:,0:7]\n",
    "Zenhaven=Zenhaven.iloc[:,0:7]\n"
   ]
  },
  {
   "cell_type": "code",
   "execution_count": 16,
   "metadata": {
    "collapsed": true
   },
   "outputs": [],
   "source": [
    "Saatva['date']=Saatva['date'].apply(lambda x:x[0:10])\n",
    "Saatva['date']=Saatva['date'].apply(lambda x: datetime.datetime.strptime(x,\"%Y-%m-%d\").date())\n",
    "Loom_and_Leaf['date']=Loom_and_Leaf['date'].apply(lambda x:x[0:10])\n",
    "Zenhaven['date']=Zenhaven['date'].apply(lambda x:x[0:10])"
   ]
  },
  {
   "cell_type": "code",
   "execution_count": 17,
   "metadata": {
    "collapsed": true
   },
   "outputs": [],
   "source": [
    "Loom_and_Leaf['date_time']=Loom_and_Leaf['date'].apply(lambda x:x[0:10])+\" \"+Loom_and_Leaf['time'].apply(lambda x:x[0:10])\n",
    "Loom_and_Leaf['date_time']=Loom_and_Leaf['date_time'].apply(lambda x: datetime.datetime.strptime(x,\"%Y-%m-%d %H:%M:%S\"))\n",
    "Loom_and_Leaf['date_time']=Loom_and_Leaf['date_time'].apply(lambda x: x-datetime.timedelta(hours=5))\n",
    "Loom_and_Leaf['date']=Loom_and_Leaf['date_time'].apply(lambda x:x.date())\n",
    "Loom_and_Leaf['time']=Loom_and_Leaf['date_time'].apply(lambda x: str(x.time()))\n",
    "del Loom_and_Leaf['date_time']"
   ]
  },
  {
   "cell_type": "code",
   "execution_count": 18,
   "metadata": {
    "collapsed": true
   },
   "outputs": [],
   "source": [
    "Zenhaven['date_time']=Zenhaven['date'].apply(lambda x:x[0:10])+\" \"+Zenhaven['time'].apply(lambda x:x[0:10])\n",
    "Zenhaven['date_time']=Zenhaven['date_time'].apply(lambda x: datetime.datetime.strptime(x,\"%Y-%m-%d %H:%M:%S\"))\n",
    "Zenhaven['date_time']=Zenhaven['date_time'].apply(lambda x: x-datetime.timedelta(hours=5))\n",
    "Zenhaven['date']=Zenhaven['date_time'].apply(lambda x:x.date())\n",
    "Zenhaven['time']=Zenhaven['date_time'].apply(lambda x: str(x.time()))\n",
    "del Zenhaven['date_time']"
   ]
  },
  {
   "cell_type": "code",
   "execution_count": 19,
   "metadata": {
    "collapsed": true
   },
   "outputs": [],
   "source": [
    "Sales_2017=Saatva.append(Loom_and_Leaf)\n",
    "Sales_2017=Sales_2017.append(Zenhaven)\n",
    "Sales_2017.reset_index(inplace=True)\n",
    "del Sales_2017['index']\n"
   ]
  },
  {
   "cell_type": "code",
   "execution_count": 20,
   "metadata": {
    "collapsed": true
   },
   "outputs": [],
   "source": [
    "Sales_2018=pd.read_csv(\"/home/jian/Projects/Saatva/Data/transactions_for_jubaplus-20180306.csv\",dtype=str)\n",
    "Sales_2018.columns=Sales_2017.columns\n",
    "Sales_2018=Sales_2018[~pd.isnull(Sales_2018['order_id'])]\n",
    "Sales_2018.reset_index(inplace=True)\n",
    "del Sales_2018['index']\n",
    "Sales_2018['date']=Sales_2018['date'].apply(lambda x: datetime.datetime.strptime(x,\"%d-%b-%Y\").date())"
   ]
  },
  {
   "cell_type": "code",
   "execution_count": 21,
   "metadata": {
    "collapsed": true
   },
   "outputs": [],
   "source": [
    "Sales=Sales_2017.append(Sales_2018)\n",
    "Sales.reset_index(inplace=True)\n",
    "del Sales['index']\n",
    "Sales=Sales[Sales['date']<datetime.datetime.strptime(\"20180301\",\"%Y%m%d\").date()]"
   ]
  },
  {
   "cell_type": "code",
   "execution_count": 22,
   "metadata": {
    "collapsed": true
   },
   "outputs": [],
   "source": [
    "# Clean zips in the 50 states of USA\n",
    "Sales['zipcode']=Sales['zipcode'].astype(str).apply(lambda x:x.split(\"-\")[0])\n",
    "Sales['zipcode']=Sales['zipcode'].apply(lambda x: np.where(len(x)<5,x.zfill(5),x))\n",
    "Sales=Sales[Sales['zipcode'].apply(lambda x: len(x))==5]\n",
    "\n",
    "Sales['product_revenue']=Sales['product_revenue'].astype(float)\n",
    "Sales['brand']=Sales['brand'].replace(\"LoomAndLeaf\",\"Loom_and_Leaf\")\n",
    "\n",
    "Sales['zip_num_index']=pd.to_numeric(Sales['zipcode'], errors='coerce')\n",
    "Sales=Sales[~pd.isnull(Sales['zip_num_index'])]\n",
    "Sales.reset_index(inplace=True)\n",
    "del Sales['zip_num_index']\n",
    "Sales['online/phone?']=Sales['online/phone?'].replace('phone_order','phone')"
   ]
  },
  {
   "cell_type": "code",
   "execution_count": 23,
   "metadata": {},
   "outputs": [
    {
     "name": "stdout",
     "output_type": "stream",
     "text": [
      "from 2016-10-31 to 2018-02-28\n"
     ]
    },
    {
     "name": "stderr",
     "output_type": "stream",
     "text": [
      "/usr/local/lib/python3.6/site-packages/ipykernel_launcher.py:4: FutureWarning: using a dict on a Series for aggregation\n",
      "is deprecated and will be removed in a future version\n",
      "  after removing the cwd from sys.path.\n"
     ]
    }
   ],
   "source": [
    "# Time range: from 2016-11-01 to 2018-02-28\n",
    "print(\"from \"+str(min(Sales['date']))+\" to \"+str(max(Sales['date'])))\n",
    "groupby_func={'product_revenue':['sum','count']}\n",
    "Sales_by_Day_Long=Sales.groupby(['brand','date'])['product_revenue'].agg(groupby_func)\n",
    "Sales_by_Day_Long.columns=Sales_by_Day_Long.columns.get_level_values(0)\n",
    "Sales_by_Day_Long.columns=['sales','transaction']\n",
    "Sales_by_Day_Long.reset_index(inplace=True)\n",
    "Sales_by_Day_Long['AOV']=round(Sales_by_Day_Long['sales']/Sales_by_Day_Long['transaction'],2)\n",
    "\n",
    "# Sales_by_Day_Long=pd.merge(Sales_by_Zip_Long,Zip_Deduplated_All3,on=['zipcode','brand'],how='right')\n",
    "# Sales_by_Zip_Long is good for Tableau"
   ]
  },
  {
   "cell_type": "code",
   "execution_count": 24,
   "metadata": {
    "collapsed": true
   },
   "outputs": [],
   "source": [
    "Saatva_by_Day=Sales_by_Day_Long[Sales_by_Day_Long['brand']==\"Saatva\"]"
   ]
  },
  {
   "cell_type": "code",
   "execution_count": 2,
   "metadata": {
    "collapsed": true
   },
   "outputs": [],
   "source": [
    "analytics = ga.initialize_analyticsreporting('/home/jian/Projects/Saatva/GA/GA_api_jubapluscc@gmail.com.json')\n",
    "\n",
    "def num_func_trans(df):\n",
    "    if 'ga:sessions' in df.columns:\n",
    "        df['ga:sessions']=df['ga:sessions'].astype(int)\n",
    "    if 'ga:users' in df.columns:\n",
    "        df['ga:users']=df['ga:users'].astype(int)\n",
    "    if 'ga:pageviews' in df.columns:\n",
    "        df['ga:pageviews']=df['ga:pageviews'].astype(int)\n",
    "    if 'ga:bounces' in df.columns:\n",
    "        df['ga:bounces']=df['ga:bounces'].astype(int)\n",
    "    if 'ga:bounceRate' in df.columns:\n",
    "        df['ga:bounceRate']=round(df['ga:bounceRate'].astype(float)/100,4)\n",
    "    if 'ga:pageviews' in df.columns:\n",
    "        df['ga:pageviews']=df['ga:pageviews'].astype(int)\n",
    "    if 'ga:uniquePageviews' in df.columns:\n",
    "        df['ga:uniquePageviews']=df['ga:uniquePageviews'].astype(int)\n",
    "    if 'ga:totalEvents' in df.columns:\n",
    "        df['ga:totalEvents']=df['ga:totalEvents'].astype(int)\n",
    "    if 'ga:uniqueEvents' in df.columns:\n",
    "        df['ga:uniqueEvents']=df['ga:uniqueEvents'].astype(int)\n",
    "    if 'ga:goalCompletionsAll' in df.columns:\n",
    "        df['ga:goalCompletionsAll']=df['ga:goalCompletionsAll'].astype(int)\n",
    "    if 'ga:dateHourMinute' in df.columns:\n",
    "        df['ga:dateHourMinute']=df['ga:dateHourMinute'].apply(lambda x:x[0:4]+\"-\"+x[4:6]+\"-\"+x[6:8]+\" \"+x[8:10]+\":\"+x[10:12])\n",
    "    if 'ga:date' in df.columns:\n",
    "        df['ga:date']=df['ga:date'].apply(lambda x:x[0:4]+\"-\"+x[4:6]+\"-\"+x[6:8])\n",
    "    \n",
    "    return df\n",
    "\n",
    "Start_Date='2016-11-01'\n",
    "End_Date='2018-02-28'"
   ]
  },
  {
   "cell_type": "code",
   "execution_count": 35,
   "metadata": {},
   "outputs": [],
   "source": [
    "GA_Saatva_Day=ga.get_report_over_10000_rows(analytics=analytics, VIEW_ID='33605697',start_date=\"2018-02-01\", end_date=\"2018-02-28\",\n",
    "                                            ga_metrics=['ga:sessions','ga:pageviews','ga:bounceRate','ga:bounces'],\n",
    "                                            ga_dimensions=['ga:date','ga:country','ga:region'])\n",
    "GA_Saatva_Day=GA_Saatva_Day[['ga:date','ga:country','ga:region','ga:sessions','ga:pageviews','ga:bounces','ga:bounceRate']]\n",
    "GA_Saatva_Day.reset_index(inplace=True)\n",
    "del GA_Saatva_Day['index']\n",
    "\n",
    "# GA_Saatva_Day=GA_Saatva_Day # 1234 # Exclude non us and 48 states data\n",
    "GA_Saatva_Day['ga:sessions']=GA_Saatva_Day['ga:sessions'].astype(float)\n",
    "\n",
    "Change here"
   ]
  },
  {
   "cell_type": "code",
   "execution_count": null,
   "metadata": {},
   "outputs": [],
   "source": []
  },
  {
   "cell_type": "code",
   "execution_count": 36,
   "metadata": {},
   "outputs": [
    {
     "data": {
      "text/plain": [
       "1167877.0"
      ]
     },
     "execution_count": 36,
     "metadata": {},
     "output_type": "execute_result"
    }
   ],
   "source": [
    "GA_Saatva_Day['ga:sessions'].sum()"
   ]
  },
  {
   "cell_type": "code",
   "execution_count": 37,
   "metadata": {
    "collapsed": true
   },
   "outputs": [],
   "source": [
    "GA_Saatva_Day_After_ContryUS=GA_Saatva_Day[(GA_Saatva_Day['ga:country']==\"United States\") | (GA_Saatva_Day['ga:country']==\"Unspecified\")]"
   ]
  },
  {
   "cell_type": "code",
   "execution_count": 38,
   "metadata": {},
   "outputs": [
    {
     "data": {
      "text/plain": [
       "952806.0"
      ]
     },
     "execution_count": 38,
     "metadata": {},
     "output_type": "execute_result"
    }
   ],
   "source": [
    "GA_Saatva_Day_After_ContryUS['ga:sessions'].sum()"
   ]
  },
  {
   "cell_type": "code",
   "execution_count": 39,
   "metadata": {},
   "outputs": [
    {
     "data": {
      "text/plain": [
       "array(['(not set)', 'Alabama', 'Alaska', 'Arizona', 'Arkansas',\n",
       "       'California', 'Colorado', 'Connecticut', 'Delaware',\n",
       "       'District of Columbia', 'Florida', 'Georgia', 'Hawaii', 'Idaho',\n",
       "       'Illinois', 'Indiana', 'Iowa', 'Kansas', 'Kentucky', 'Louisiana',\n",
       "       'Maine', 'Maryland', 'Massachusetts', 'Michigan', 'Minnesota',\n",
       "       'Mississippi', 'Missouri', 'Montana', 'Nebraska', 'Nevada',\n",
       "       'New Hampshire', 'New Jersey', 'New Mexico', 'New York',\n",
       "       'North Carolina', 'North Dakota', 'Ohio', 'Oklahoma', 'Oregon',\n",
       "       'Pennsylvania', 'Rhode Island', 'South Carolina', 'South Dakota',\n",
       "       'Tennessee', 'Texas', 'Utah', 'Vermont', 'Virginia', 'Washington',\n",
       "       'West Virginia', 'Wisconsin', 'Wyoming'], dtype=object)"
      ]
     },
     "execution_count": 39,
     "metadata": {},
     "output_type": "execute_result"
    }
   ],
   "source": [
    "GA_Saatva_Day_After_ContryUS['ga:region'].unique()"
   ]
  },
  {
   "cell_type": "code",
   "execution_count": null,
   "metadata": {
    "collapsed": true
   },
   "outputs": [],
   "source": []
  },
  {
   "cell_type": "code",
   "execution_count": 42,
   "metadata": {},
   "outputs": [],
   "source": [
    "GA_Saatva_Day_After_Region=GA_Saatva_Day_After_ContryUS[(GA_Saatva_Day_After_ContryUS['ga:region']!=\"Alaska\") & (GA_Saatva_Day_After_ContryUS['ga:region']!=\"Hawaii\")]"
   ]
  },
  {
   "cell_type": "code",
   "execution_count": 43,
   "metadata": {},
   "outputs": [
    {
     "data": {
      "text/plain": [
       "948549.0"
      ]
     },
     "execution_count": 43,
     "metadata": {},
     "output_type": "execute_result"
    }
   ],
   "source": [
    "GA_Saatva_Day_After_Region['ga:sessions'].sum()"
   ]
  },
  {
   "cell_type": "code",
   "execution_count": null,
   "metadata": {
    "collapsed": true
   },
   "outputs": [],
   "source": []
  },
  {
   "cell_type": "code",
   "execution_count": null,
   "metadata": {
    "collapsed": true
   },
   "outputs": [],
   "source": []
  },
  {
   "cell_type": "code",
   "execution_count": null,
   "metadata": {
    "collapsed": true
   },
   "outputs": [],
   "source": []
  },
  {
   "cell_type": "code",
   "execution_count": 27,
   "metadata": {
    "collapsed": true
   },
   "outputs": [],
   "source": [
    "GA_Saatva_Day['date']=GA_Saatva_Day['ga:date'].apply(lambda x:datetime.datetime.strptime(x,\"%Y%m%d\").date())\n",
    "del GA_Saatva_Day['ga:date']"
   ]
  },
  {
   "cell_type": "code",
   "execution_count": 28,
   "metadata": {
    "collapsed": true
   },
   "outputs": [],
   "source": [
    "Saatva_by_Day=pd.merge(Saatva_by_Day,GA_Saatva_Day,on=['brand','date'],how='left')"
   ]
  },
  {
   "cell_type": "code",
   "execution_count": 29,
   "metadata": {
    "collapsed": true
   },
   "outputs": [],
   "source": [
    "Saatva_by_Day_Online_Sales=Sales[Sales['brand']==\"Saatva\"]"
   ]
  },
  {
   "cell_type": "code",
   "execution_count": 30,
   "metadata": {},
   "outputs": [
    {
     "name": "stderr",
     "output_type": "stream",
     "text": [
      "/usr/local/lib/python3.6/site-packages/ipykernel_launcher.py:1: FutureWarning: using a dict on a Series for aggregation\n",
      "is deprecated and will be removed in a future version\n",
      "  \"\"\"Entry point for launching an IPython kernel.\n"
     ]
    }
   ],
   "source": [
    "Saatva_by_Day_Online=Saatva_by_Day_Online_Sales.groupby(['date','brand','online/phone?'])['product_revenue'].agg(groupby_func)\n",
    "Saatva_by_Day_Online.columns=Saatva_by_Day_Online.columns.get_level_values(0)\n",
    "Saatva_by_Day_Online.columns=['sales','transaction']\n",
    "Saatva_by_Day_Online.reset_index(inplace=True)\n"
   ]
  },
  {
   "cell_type": "code",
   "execution_count": 31,
   "metadata": {
    "collapsed": true
   },
   "outputs": [],
   "source": [
    "Saatva_by_Day_Online_Sales=Saatva_by_Day_Online[['date','online/phone?','sales']]\n",
    "Saatva_by_Day_Online_Sales=Saatva_by_Day_Online_Sales.pivot('date','online/phone?','sales')\n",
    "Saatva_by_Day_Online_Sales.reset_index(inplace=True)\n",
    "Saatva_by_Day_Online_Sales.columns=['date','online_sales','phone_sales']"
   ]
  },
  {
   "cell_type": "code",
   "execution_count": 32,
   "metadata": {
    "collapsed": true
   },
   "outputs": [],
   "source": [
    "Saatva_by_Day_Online_Trans=Saatva_by_Day_Online[['date','online/phone?','transaction']]\n",
    "Saatva_by_Day_Online_Trans=Saatva_by_Day_Online_Trans.pivot('date','online/phone?','transaction')\n",
    "Saatva_by_Day_Online_Trans.reset_index(inplace=True)\n",
    "Saatva_by_Day_Online_Trans.columns=['date','online_trans','phone_trans']"
   ]
  },
  {
   "cell_type": "code",
   "execution_count": 33,
   "metadata": {
    "collapsed": true
   },
   "outputs": [],
   "source": [
    "Saatva_by_Day=pd.merge(Saatva_by_Day,Saatva_by_Day_Online_Sales,on='date',how='left')\n",
    "Saatva_by_Day=pd.merge(Saatva_by_Day,Saatva_by_Day_Online_Trans,on='date',how='left')\n",
    "\n",
    "# Saatva_by_Day.to_csv(\"/home/jian/Projects/Saatva/output/Saatva_GA_Sales_by_Day.csv\")\n",
    "# Merge with Adwords Below"
   ]
  },
  {
   "cell_type": "markdown",
   "metadata": {},
   "source": [
    "# Google Adwords"
   ]
  },
  {
   "cell_type": "code",
   "execution_count": 34,
   "metadata": {
    "collapsed": true
   },
   "outputs": [],
   "source": [
    "# 49+3  'San Francisco Bay Area','Silicon Valley','Unspecified'\n",
    "Lower49_List=['Alabama','Arizona','Arkansas','California','Colorado','Connecticut','Delaware','District of Columbia',\n",
    "             'Florida','Georgia','Idaho','Illinois','Indiana','Iowa','Kansas','Kentucky','Louisiana','Maine','Maryland',\n",
    "             'Massachusetts','Michigan','Minnesota','Mississippi','Missouri','Montana','Nebraska','Nevada','New Hampshire',\n",
    "             'New Jersey','New Mexico','New York','North Carolina','North Dakota','Ohio','Oklahoma','Oregon','Pennsylvania',\n",
    "              'Rhode Island','San Francisco Bay Area','Silicon Valley','South Carolina','South Dakota','Tennessee','Texas',\n",
    "              'Unspecified','Utah','Vermont','Virginia','Washington','West Virginia','Wisconsin','Wyoming']"
   ]
  },
  {
   "cell_type": "code",
   "execution_count": 35,
   "metadata": {
    "collapsed": true
   },
   "outputs": [],
   "source": [
    "def clean_data(df):\n",
    "    if 'Day' in df.columns.tolist():\n",
    "        df['Day']=df['Day'].apply(lambda x: datetime.datetime.strptime(x,\"%b %d, %Y\").date())\n",
    "    if 'Impressions' in df.columns.tolist():\n",
    "        df['Impressions']=df['Impressions'].str.replace(\",\",\"\").astype(int)\n",
    "    if 'Clicks' in df.columns.tolist():\n",
    "        df['Clicks']=df['Clicks'].str.replace(\",\",\"\").astype(int)\n",
    "    if 'Cost' in df.columns.tolist():\n",
    "        df['Cost']=df['Cost'].str.replace(\",\",\"\")\n",
    "        df['Cost']=df['Cost'].str.replace(\"$\",\"\").astype(float)\n",
    "    df=df[df['Country/Territory'].isin([\"United States\",\"Unspecified\",np.nan])]\n",
    "    df=df[df['Region'].isin(Lower49_List)]\n",
    "    return df"
   ]
  },
  {
   "cell_type": "code",
   "execution_count": 36,
   "metadata": {
    "collapsed": true
   },
   "outputs": [],
   "source": [
    "Saatva_GoogleAD_1=pd.read_csv(\"/home/jian/Projects/Saatva/AdWords/Saatva_20161101_20170430_Day_Type_Country_Region_Campaign.csv\",skiprows=2,dtype=str)\n",
    "Saatva_GoogleAD_2=pd.read_csv(\"/home/jian/Projects/Saatva/AdWords/Saatva_20170501_20171031_Day_Type_Country_Region_Campaign.csv\",skiprows=2,dtype=str)\n",
    "Saatva_GoogleAD_3=pd.read_csv(\"/home/jian/Projects/Saatva/AdWords/Saatva_20171101_20180228_Day_Type_Country_Region_Campaign.csv\",skiprows=2,dtype=str)\n",
    "\n",
    "Saatva_GoogleAD=Saatva_GoogleAD_1.append(Saatva_GoogleAD_2).append(Saatva_GoogleAD_3)\n",
    "Saatva_GoogleAD=clean_data(Saatva_GoogleAD)\n",
    "\n",
    "x=Saatva_GoogleAD[((Saatva_GoogleAD['Campaign'].str.contains(\"Leaf\")) | (Saatva_GoogleAD['Campaign'].str.contains(\"Loom\")) | (Saatva_GoogleAD['Campaign'].str.contains(\"Zenhaven\")))]\n",
    "Saatva_GoogleAD=Saatva_GoogleAD[~((Saatva_GoogleAD['Campaign'].str.contains(\"Leaf\")) | (Saatva_GoogleAD['Campaign'].str.contains(\"Loom\")) | (Saatva_GoogleAD['Campaign'].str.contains(\"Zenhaven\")))]\n",
    "\n",
    "\n",
    "del Saatva_GoogleAD['Campaign']\n",
    "\n",
    "Saatva_GoogleAD=Saatva_GoogleAD.groupby(['Day','Campaign type','Country/Territory','Region','Currency'])['Impressions','Clicks','Cost'].sum()\n",
    "Saatva_GoogleAD.reset_index(inplace=True)\n",
    "Saatva_GoogleAD['Campaign Account']=\"Saatva\"\n"
   ]
  },
  {
   "cell_type": "code",
   "execution_count": null,
   "metadata": {
    "collapsed": true
   },
   "outputs": [],
   "source": []
  },
  {
   "cell_type": "code",
   "execution_count": 37,
   "metadata": {},
   "outputs": [
    {
     "data": {
      "text/plain": [
       "array([], dtype=object)"
      ]
     },
     "execution_count": 37,
     "metadata": {},
     "output_type": "execute_result"
    }
   ],
   "source": [
    "SaatvaBranding_GoogleAD=pd.read_csv(\"/home/jian/Projects/Saatva/AdWords/Saatva GSP_20161101_20171031_Day_Type_Country_Region_Campaign.csv\",skiprows=2,dtype=str)\n",
    "SaatvaBranding_GoogleAD=clean_data(SaatvaBranding_GoogleAD)\n",
    "\n",
    "x=SaatvaBranding_GoogleAD[(SaatvaBranding_GoogleAD['Campaign'].str.contains(\"Leaf\") | SaatvaBranding_GoogleAD['Campaign'].str.contains(\"Loom\") | SaatvaBranding_GoogleAD['Campaign'].str.contains(\"Zenhaven\"))]\n",
    "SaatvaBranding_GoogleAD=SaatvaBranding_GoogleAD[~(SaatvaBranding_GoogleAD['Campaign'].str.contains(\"Leaf\") | SaatvaBranding_GoogleAD['Campaign'].str.contains(\"Loom\") | SaatvaBranding_GoogleAD['Campaign'].str.contains(\"Zenhaven\"))]\n",
    "\n",
    "\n",
    "SaatvaBranding_GoogleAD=SaatvaBranding_GoogleAD.groupby(['Day','Campaign type','Country/Territory','Region','Currency'])['Impressions','Clicks','Cost'].sum()\n",
    "SaatvaBranding_GoogleAD.reset_index(inplace=True)\n",
    "SaatvaBranding_GoogleAD['Campaign Account']=\"Saatva Branding\"\n",
    "x['Campaign'].unique()"
   ]
  },
  {
   "cell_type": "code",
   "execution_count": 38,
   "metadata": {},
   "outputs": [
    {
     "data": {
      "text/plain": [
       "array([], dtype=object)"
      ]
     },
     "execution_count": 38,
     "metadata": {},
     "output_type": "execute_result"
    }
   ],
   "source": [
    "SaatvaCompetitor_GoogleAD_1=pd.read_csv(\"/home/jian/Projects/Saatva/AdWords/Saatva Competitors_20161101_20171031_Day_Type_Country_Region_Campaign.csv\",skiprows=2,dtype=str)\n",
    "SaatvaCompetitor_GoogleAD_2=pd.read_csv(\"/home/jian/Projects/Saatva/AdWords/Saatva Competitors_20171101_20180228_Day_Type_Country_Region_Campaign.csv\",skiprows=2,dtype=str)\n",
    "SaatvaCompetitor_GoogleAD=SaatvaCompetitor_GoogleAD_1.append(SaatvaCompetitor_GoogleAD_2)\n",
    "SaatvaCompetitor_GoogleAD=clean_data(SaatvaCompetitor_GoogleAD)\n",
    "\n",
    "x=SaatvaCompetitor_GoogleAD[(SaatvaCompetitor_GoogleAD['Campaign'].str.contains(\"Leaf\") | SaatvaCompetitor_GoogleAD['Campaign'].str.contains(\"Loom\") | SaatvaCompetitor_GoogleAD['Campaign'].str.contains(\"Zenhaven\"))]\n",
    "SaatvaCompetitor_GoogleAD=SaatvaCompetitor_GoogleAD[~(SaatvaCompetitor_GoogleAD['Campaign'].str.contains(\"Leaf\") | SaatvaCompetitor_GoogleAD['Campaign'].str.contains(\"Loom\") | SaatvaCompetitor_GoogleAD['Campaign'].str.contains(\"Zenhaven\"))]\n",
    "\n",
    "\n",
    "SaatvaCompetitor_GoogleAD['Campaign_Brand']=SaatvaCompetitor_GoogleAD['Campaign'].apply(lambda x:x[len(x)-4:len(x)+1])\n",
    "y=SaatvaCompetitor_GoogleAD[SaatvaCompetitor_GoogleAD['Campaign_Brand']!='[SM]']\n",
    "SaatvaCompetitor_GoogleAD=SaatvaCompetitor_GoogleAD[SaatvaCompetitor_GoogleAD['Campaign_Brand']=='[SM]']\n",
    "\n",
    "del SaatvaCompetitor_GoogleAD['Campaign_Brand']\n",
    "del SaatvaCompetitor_GoogleAD['Campaign']\n",
    "\n",
    "SaatvaCompetitor_GoogleAD=SaatvaCompetitor_GoogleAD.groupby(['Day','Campaign type','Country/Territory','Region','Currency'])['Impressions','Clicks','Cost'].sum()\n",
    "SaatvaCompetitor_GoogleAD.reset_index(inplace=True)\n",
    "SaatvaCompetitor_GoogleAD['Campaign Account']=\"Saatva Competitors\"\n",
    "x['Campaign'].unique()"
   ]
  },
  {
   "cell_type": "code",
   "execution_count": 39,
   "metadata": {},
   "outputs": [
    {
     "data": {
      "text/plain": [
       "array([], dtype=object)"
      ]
     },
     "execution_count": 39,
     "metadata": {},
     "output_type": "execute_result"
    }
   ],
   "source": [
    "Saatva_GSP_GoogleAD=pd.read_csv(\"/home/jian/Projects/Saatva/AdWords/Saatva GSP_20161101_20171031_Day_Type_Country_Region_Campaign.csv\",skiprows=2,dtype=str)\n",
    "Saatva_GSP_GoogleAD=clean_data(Saatva_GSP_GoogleAD)\n",
    "\n",
    "x=Saatva_GSP_GoogleAD[(Saatva_GSP_GoogleAD['Campaign'].str.contains(\"Leaf\") | Saatva_GSP_GoogleAD['Campaign'].str.contains(\"Loom\") | Saatva_GSP_GoogleAD['Campaign'].str.contains(\"Zenhaven\"))]\n",
    "Saatva_GSP_GoogleAD=Saatva_GSP_GoogleAD[~(Saatva_GSP_GoogleAD['Campaign'].str.contains(\"Leaf\") | Saatva_GSP_GoogleAD['Campaign'].str.contains(\"Loom\") | Saatva_GSP_GoogleAD['Campaign'].str.contains(\"Zenhaven\"))]\n",
    "\n",
    "\n",
    "Saatva_GSP_GoogleAD=Saatva_GSP_GoogleAD.groupby(['Day','Campaign type','Country/Territory','Region','Currency'])['Impressions','Clicks','Cost'].sum()\n",
    "Saatva_GSP_GoogleAD.reset_index(inplace=True)\n",
    "Saatva_GSP_GoogleAD['Campaign type']='Display/Gmail'\n",
    "Saatva_GSP_GoogleAD['Campaign Account']=\"Saatva GSP\"\n",
    "x['Campaign'].unique()"
   ]
  },
  {
   "cell_type": "code",
   "execution_count": null,
   "metadata": {
    "collapsed": true
   },
   "outputs": [],
   "source": []
  },
  {
   "cell_type": "code",
   "execution_count": 40,
   "metadata": {
    "collapsed": true
   },
   "outputs": [],
   "source": [
    "MediaSpend_Saatva=Saatva_GoogleAD.append(SaatvaBranding_GoogleAD).append(SaatvaCompetitor_GoogleAD).append(Saatva_GSP_GoogleAD)"
   ]
  },
  {
   "cell_type": "code",
   "execution_count": 41,
   "metadata": {
    "collapsed": true
   },
   "outputs": [],
   "source": [
    "# Because of the low value, \"Search Network with Display Select\" is replaced by \"Search Only\"\n",
    "MediaSpend_Saatva['Campaign type']=MediaSpend_Saatva['Campaign type'].replace(\"Search Network with Display Select\",\"Search Only\")"
   ]
  },
  {
   "cell_type": "code",
   "execution_count": 42,
   "metadata": {
    "collapsed": true
   },
   "outputs": [],
   "source": [
    "MediaSpend_Saatva.to_csv(\"/home/jian/Projects/Saatva/output/Saatva_Google_Ads_with_Account.csv\",index=False)"
   ]
  },
  {
   "cell_type": "code",
   "execution_count": 43,
   "metadata": {
    "collapsed": true
   },
   "outputs": [],
   "source": [
    "MediaSpend_Saatva_Day=MediaSpend_Saatva.groupby(['Day'])['Impressions','Clicks','Cost'].sum()\n",
    "MediaSpend_Saatva_Day.reset_index(inplace=True)\n",
    "MediaSpend_Saatva_Day.columns=['date','AdWords_Impr','AdWords_Clicks','AdWords_Cost']"
   ]
  },
  {
   "cell_type": "code",
   "execution_count": 44,
   "metadata": {
    "collapsed": true
   },
   "outputs": [],
   "source": [
    "Saatva_by_Day=pd.merge(Saatva_by_Day,MediaSpend_Saatva_Day,on='date',how='left')\n",
    "Saatva_by_Day.to_csv(\"/home/jian/Projects/Saatva/output/Saatva_GA_Ads_Sales_by_Day.csv\",index=False)"
   ]
  },
  {
   "cell_type": "markdown",
   "metadata": {},
   "source": [
    "# Media Spend Wide"
   ]
  },
  {
   "cell_type": "code",
   "execution_count": 45,
   "metadata": {},
   "outputs": [
    {
     "name": "stdout",
     "output_type": "stream",
     "text": [
      "2016-11-01 to 2018-02-28\n"
     ]
    }
   ],
   "source": [
    "print(str(min(MediaSpend_Saatva['Day']))+\" to \"+str(max(MediaSpend_Saatva['Day'])))\n",
    "MediaSpend_Saatva_Cost=MediaSpend_Saatva.groupby(['Day','Campaign type'])['Cost'].sum().to_frame()\n",
    "MediaSpend_Saatva_Cost.reset_index(inplace=True)\n",
    "MediaSpend_Saatva_Cost=MediaSpend_Saatva_Cost.pivot('Day','Campaign type','Cost')\n",
    "MediaSpend_Saatva_Cost.reset_index(inplace=True)\n",
    "MediaSpend_Saatva_Cost=MediaSpend_Saatva_Cost.rename(columns={\"Display Only\":\"Cost:Display\",\"Search Only\":\"Cost:SEM\",\"Display/Gmail\":\"Cost:Display/Gmail\",\"Shopping\":\"Cost:PLA\",\"Video\":\"Cost:Video\",})\n",
    "MediaSpend_Saatva_Cost=MediaSpend_Saatva_Cost.fillna(0)"
   ]
  },
  {
   "cell_type": "code",
   "execution_count": 46,
   "metadata": {},
   "outputs": [
    {
     "name": "stdout",
     "output_type": "stream",
     "text": [
      "2016-11-01 to 2018-02-28\n"
     ]
    }
   ],
   "source": [
    "print(str(min(MediaSpend_Saatva['Day']))+\" to \"+str(max(MediaSpend_Saatva['Day'])))\n",
    "MediaSpend_Saatva_Impression=MediaSpend_Saatva.groupby(['Day','Campaign type'])['Impressions'].sum().to_frame()\n",
    "MediaSpend_Saatva_Impression.reset_index(inplace=True)\n",
    "MediaSpend_Saatva_Impression=MediaSpend_Saatva_Impression.pivot('Day','Campaign type','Impressions')\n",
    "MediaSpend_Saatva_Impression.reset_index(inplace=True)\n",
    "MediaSpend_Saatva_Impression=MediaSpend_Saatva_Impression.rename(columns={\"Display Only\":\"Impressions:Display\",\"Search Only\":\"Impressions:SEM\",\"Display/Gmail\":\"Impressions:Display/Gmail\",\"Shopping\":\"Impressions:PLA\",\"Video\":\"Impressions:Video\",})\n",
    "MediaSpend_Saatva_Impression=MediaSpend_Saatva_Impression.fillna(0)"
   ]
  },
  {
   "cell_type": "code",
   "execution_count": 47,
   "metadata": {},
   "outputs": [
    {
     "name": "stdout",
     "output_type": "stream",
     "text": [
      "2016-11-01 to 2018-02-28\n"
     ]
    }
   ],
   "source": [
    "print(str(min(MediaSpend_Saatva['Day']))+\" to \"+str(max(MediaSpend_Saatva['Day'])))\n",
    "MediaSpend_Saatva_Click=MediaSpend_Saatva.groupby(['Day','Campaign type'])['Clicks'].sum().to_frame()\n",
    "MediaSpend_Saatva_Click.reset_index(inplace=True)\n",
    "MediaSpend_Saatva_Click=MediaSpend_Saatva_Click.pivot('Day','Campaign type','Clicks')\n",
    "MediaSpend_Saatva_Click.reset_index(inplace=True)\n",
    "MediaSpend_Saatva_Click=MediaSpend_Saatva_Click.rename(columns={\"Display Only\":\"Clicks:Display\",\"Search Only\":\"Clicks:SEM\",\"Display/Gmail\":\"Clicks:Display/Gmail\",\"Shopping\":\"Clicks:PLA\",\"Video\":\"Clicks:Video\",})\n",
    "MediaSpend_Saatva_Click=MediaSpend_Saatva_Click.fillna(0)"
   ]
  },
  {
   "cell_type": "code",
   "execution_count": 48,
   "metadata": {
    "collapsed": true
   },
   "outputs": [],
   "source": [
    "MediaSpend=pd.merge(MediaSpend_Saatva_Cost,MediaSpend_Saatva_Impression,on='Day',how='outer')\n",
    "MediaSpend=pd.merge(MediaSpend,MediaSpend_Saatva_Click,on='Day',how='outer')"
   ]
  },
  {
   "cell_type": "code",
   "execution_count": 49,
   "metadata": {
    "collapsed": true
   },
   "outputs": [],
   "source": [
    "MediaSpend.to_csv(\"/home/jian/Projects/Saatva/output/Saatva_GoogleAdWords_by_Day.csv\",index=False)"
   ]
  },
  {
   "cell_type": "code",
   "execution_count": 50,
   "metadata": {
    "collapsed": true
   },
   "outputs": [],
   "source": [
    "MediaSpend=MediaSpend.rename(columns={\"Day\":\"date\"})"
   ]
  },
  {
   "cell_type": "code",
   "execution_count": 51,
   "metadata": {
    "collapsed": true
   },
   "outputs": [],
   "source": [
    "Saatva_by_Day_Media=pd.merge(Saatva_by_Day,MediaSpend,on=\"date\",how=\"left\")"
   ]
  },
  {
   "cell_type": "code",
   "execution_count": 52,
   "metadata": {
    "collapsed": true
   },
   "outputs": [],
   "source": [
    "Saatva_by_Day_Media.to_csv(\"/home/jian/Projects/Saatva/output/Saatva_GoogleAdWords_by_Day_Media.csv\",index=False)"
   ]
  },
  {
   "cell_type": "code",
   "execution_count": null,
   "metadata": {
    "collapsed": true
   },
   "outputs": [],
   "source": []
  },
  {
   "cell_type": "code",
   "execution_count": null,
   "metadata": {
    "collapsed": true
   },
   "outputs": [],
   "source": []
  },
  {
   "cell_type": "code",
   "execution_count": 53,
   "metadata": {
    "collapsed": true
   },
   "outputs": [],
   "source": [
    "zip_data=pd.read_excel(\"/home/jian/Projects/Saatva/Tableau/Zip_Tableau.xlsx\",dtype=str)"
   ]
  },
  {
   "cell_type": "code",
   "execution_count": 54,
   "metadata": {
    "collapsed": true
   },
   "outputs": [],
   "source": [
    "all_zip=pd.read_excel(\"/home/jian/Projects/Saatva/Tableau/Zips by DMA by County16-17 nielsen.xlsx\",dtype=str,skiprows=1)"
   ]
  },
  {
   "cell_type": "code",
   "execution_count": 55,
   "metadata": {},
   "outputs": [
    {
     "data": {
      "text/plain": [
       "(43102, 2)"
      ]
     },
     "execution_count": 55,
     "metadata": {},
     "output_type": "execute_result"
    }
   ],
   "source": [
    "all_zip=all_zip[['CODE','NAME']]\n",
    "all_zip.columns=['zip5','DMA_Name']\n",
    "all_zip=all_zip.drop_duplicates()\n",
    "all_zip.shape"
   ]
  },
  {
   "cell_type": "code",
   "execution_count": 56,
   "metadata": {
    "collapsed": true
   },
   "outputs": [],
   "source": [
    "all_zip_data=pd.merge(all_zip,zip_data,on=\"zip5\",how='outer')"
   ]
  },
  {
   "cell_type": "code",
   "execution_count": 57,
   "metadata": {
    "collapsed": true
   },
   "outputs": [],
   "source": [
    "all_zip_data.to_excel(\"/home/jian/Projects/Saatva/Tableau/All_Zip_Tableau.xlsx\",index=False)"
   ]
  },
  {
   "cell_type": "code",
   "execution_count": null,
   "metadata": {
    "collapsed": true
   },
   "outputs": [],
   "source": []
  },
  {
   "cell_type": "code",
   "execution_count": null,
   "metadata": {
    "collapsed": true
   },
   "outputs": [],
   "source": []
  },
  {
   "cell_type": "code",
   "execution_count": null,
   "metadata": {
    "collapsed": true
   },
   "outputs": [],
   "source": []
  },
  {
   "cell_type": "code",
   "execution_count": null,
   "metadata": {
    "collapsed": true
   },
   "outputs": [],
   "source": []
  }
 ],
 "metadata": {
  "kernelspec": {
   "display_name": "Python 3",
   "language": "python",
   "name": "python3"
  },
  "language_info": {
   "codemirror_mode": {
    "name": "ipython",
    "version": 3
   },
   "file_extension": ".py",
   "mimetype": "text/x-python",
   "name": "python",
   "nbconvert_exporter": "python",
   "pygments_lexer": "ipython3",
   "version": "3.6.1"
  }
 },
 "nbformat": 4,
 "nbformat_minor": 2
}
