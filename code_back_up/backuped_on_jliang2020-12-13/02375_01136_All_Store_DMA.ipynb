{
 "cells": [
  {
   "cell_type": "code",
   "execution_count": 7,
   "metadata": {
    "collapsed": true
   },
   "outputs": [],
   "source": [
    "import pandas as pd\n",
    "import datetime\n",
    "import glob\n",
    "import os\n",
    "\n",
    "all_store_list_files=sorted(glob.glob(\"/home/jian/BigLots/static_files/Store_list/*.txt\"),reverse=True)"
   ]
  },
  {
   "cell_type": "code",
   "execution_count": 8,
   "metadata": {},
   "outputs": [],
   "source": [
    "df_all_store_DMA=pd.DataFrame()\n",
    "for file in all_store_list_files:\n",
    "    df=pd.read_table(file,sep=\"|\",dtype=str,usecols=[\"location_id\",\"zip_cd\"])\n",
    "    df_all_store_DMA=df_all_store_DMA.append(df)\n",
    "df_all_store_DMA=df_all_store_DMA.drop_duplicates(\"location_id\")\n",
    "df_all_store_DMA['zip_cd']=df_all_store_DMA['zip_cd'].apply(lambda x: x.split(\"-\")[0].zfill(5))"
   ]
  },
  {
   "cell_type": "code",
   "execution_count": 9,
   "metadata": {},
   "outputs": [],
   "source": [
    "DMA_Mapping=pd.read_excel(\"/home/jian/Docs/Geo_mapping/Zips by DMA by County16-17 nielsen.xlsx\",skiprows=1,usecols=[0,2],dtype=str)\n",
    "DMA_Mapping=DMA_Mapping.rename(columns={\"CODE\":\"zip_cd\",\"NAME\":\"DMA\"})\n"
   ]
  },
  {
   "cell_type": "code",
   "execution_count": 10,
   "metadata": {},
   "outputs": [],
   "source": [
    "DMA_Mapping_first=DMA_Mapping.drop_duplicates(\"zip_cd\")\n",
    "DMA_Mapping_list=DMA_Mapping.groupby(\"zip_cd\")['DMA'].apply(set).to_frame().reset_index().rename(columns={\"DMA\":\"DMA_set\"})\n",
    "\n",
    "df_all_store_DMA=pd.merge(df_all_store_DMA,DMA_Mapping_first,on=\"zip_cd\",how=\"left\")\n",
    "df_all_store_DMA=pd.merge(df_all_store_DMA,DMA_Mapping_list,on=\"zip_cd\",how=\"left\")"
   ]
  },
  {
   "cell_type": "code",
   "execution_count": 11,
   "metadata": {},
   "outputs": [
    {
     "data": {
      "text/html": [
       "<div>\n",
       "<style>\n",
       "    .dataframe thead tr:only-child th {\n",
       "        text-align: right;\n",
       "    }\n",
       "\n",
       "    .dataframe thead th {\n",
       "        text-align: left;\n",
       "    }\n",
       "\n",
       "    .dataframe tbody tr th {\n",
       "        vertical-align: top;\n",
       "    }\n",
       "</style>\n",
       "<table border=\"1\" class=\"dataframe\">\n",
       "  <thead>\n",
       "    <tr style=\"text-align: right;\">\n",
       "      <th></th>\n",
       "      <th>location_id</th>\n",
       "      <th>zip_cd</th>\n",
       "      <th>DMA</th>\n",
       "      <th>DMA_set</th>\n",
       "    </tr>\n",
       "  </thead>\n",
       "  <tbody>\n",
       "    <tr>\n",
       "      <th>0</th>\n",
       "      <td>1</td>\n",
       "      <td>43232</td>\n",
       "      <td>COLUMBUS, OH</td>\n",
       "      <td>{COLUMBUS, OH}</td>\n",
       "    </tr>\n",
       "    <tr>\n",
       "      <th>1</th>\n",
       "      <td>29</td>\n",
       "      <td>45701</td>\n",
       "      <td>COLUMBUS, OH</td>\n",
       "      <td>{COLUMBUS, OH}</td>\n",
       "    </tr>\n",
       "    <tr>\n",
       "      <th>2</th>\n",
       "      <td>32</td>\n",
       "      <td>45419</td>\n",
       "      <td>DAYTON</td>\n",
       "      <td>{DAYTON}</td>\n",
       "    </tr>\n",
       "    <tr>\n",
       "      <th>3</th>\n",
       "      <td>43</td>\n",
       "      <td>43614</td>\n",
       "      <td>TOLEDO</td>\n",
       "      <td>{TOLEDO}</td>\n",
       "    </tr>\n",
       "  </tbody>\n",
       "</table>\n",
       "</div>"
      ],
      "text/plain": [
       "  location_id zip_cd           DMA         DMA_set\n",
       "0           1  43232  COLUMBUS, OH  {COLUMBUS, OH}\n",
       "1          29  45701  COLUMBUS, OH  {COLUMBUS, OH}\n",
       "2          32  45419        DAYTON        {DAYTON}\n",
       "3          43  43614        TOLEDO        {TOLEDO}"
      ]
     },
     "execution_count": 11,
     "metadata": {},
     "output_type": "execute_result"
    }
   ],
   "source": [
    "df_all_store_DMA.head(4)"
   ]
  },
  {
   "cell_type": "code",
   "execution_count": 13,
   "metadata": {},
   "outputs": [],
   "source": [
    "writer=pd.ExcelWriter(\"./all_store_dma.xlsx\",engine=\"xlsxwriter\")\n",
    "df_all_store_DMA.to_excel(writer,\"all_stores_DMA\",index=False)\n",
    "\n",
    "writer.save()"
   ]
  },
  {
   "cell_type": "code",
   "execution_count": null,
   "metadata": {
    "collapsed": true
   },
   "outputs": [],
   "source": []
  }
 ],
 "metadata": {
  "kernelspec": {
   "display_name": "Python 3",
   "language": "python",
   "name": "python3"
  },
  "language_info": {
   "codemirror_mode": {
    "name": "ipython",
    "version": 3
   },
   "file_extension": ".py",
   "mimetype": "text/x-python",
   "name": "python",
   "nbconvert_exporter": "python",
   "pygments_lexer": "ipython3",
   "version": "3.6.1"
  }
 },
 "nbformat": 4,
 "nbformat_minor": 2
}
