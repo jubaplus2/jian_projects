{
 "cells": [
  {
   "cell_type": "code",
   "execution_count": 1,
   "metadata": {},
   "outputs": [
    {
     "data": {
      "text/plain": [
       "'/home/jian/Projects/Big_Lots/Analysis/2019_Q2/Past_2_Years_Sales_by_zips'"
      ]
     },
     "execution_count": 1,
     "metadata": {},
     "output_type": "execute_result"
    }
   ],
   "source": [
    "import pandas as pd\n",
    "import numpy as np\n",
    "import os\n",
    "import datetime\n",
    "import glob\n",
    "import gc\n",
    "os.getcwd()"
   ]
  },
  {
   "cell_type": "code",
   "execution_count": 2,
   "metadata": {
    "collapsed": true
   },
   "outputs": [],
   "source": [
    "def recursive_file_gen(root_folder):\n",
    "    for root, dirs, files in os.walk(root_folder):\n",
    "        for file in files:\n",
    "            yield os.path.join(root, file)"
   ]
  },
  {
   "cell_type": "code",
   "execution_count": 75,
   "metadata": {},
   "outputs": [
    {
     "name": "stdout",
     "output_type": "stream",
     "text": [
      "29269940\n",
      "dfiddetail.shape (29269940, 2)\n"
     ]
    }
   ],
   "source": [
    "dfiddetail = pd.read_csv('/home/jian/Projects/Big_Lots/Loyal_members/loyalty_register_data/combined_masterids_up_to_20181229_JL.csv',\n",
    "                         usecols=['customer_id_hashed','customer_zip_code'])\n",
    "###\n",
    "\n",
    "master_file_2018Q1_2019Q1=pd.read_table(\"/home/jian/BigLots/New_Sing_Ups_2018_Fiscal_Year/All Rewards Members 2018-02-04 - 2019-05-04.zip\",\n",
    "                                             compression=\"zip\",dtype=str,sep=\"|\",usecols=['customer_id_hashed','customer_zip_code'])\n",
    "dfiddetail=master_file_2018Q1_2019Q1.append(dfiddetail).drop_duplicates(\"customer_id_hashed\")\n",
    "del master_file_2018Q1_2019Q1\n",
    "###\n",
    "\n",
    "master_file_gap=pd.read_table(\"/home/jian/BigLots/New_Sing_Ups_2018_Fiscal_Year/MediaStorm Rewards Master P4 2019 - no transaction info.zip\",\n",
    "                                             compression=\"zip\",dtype=str,sep=\"|\",usecols=['customer_id_hashed','customer_zip_code'])\n",
    "dfiddetail=master_file_gap.append(dfiddetail).drop_duplicates(\"customer_id_hashed\")\n",
    "del master_file_gap\n",
    "\n",
    "###\n",
    "all_master_files_after_201906=list(recursive_file_gen(\"/home/jian/BigLots/2019_by_weeks/\"))\n",
    "all_master_files_after_201906=[x for x in all_master_files_after_201906 if (\"aster\" in x) & (\".txt\" in x)]\n",
    "all_master_files_after_201906=[x for x in all_master_files_after_201906 if x.split(\"ts/2019_by_weeks/MediaStorm_\")[1][:10]>\"2019-06-01\"]\n",
    "df_master_all_later_after_201906=pd.DataFrame()\n",
    "for file in all_master_files_after_201906:\n",
    "    df=pd.read_table(file,dtype=str,sep=\"|\",usecols=['customer_id_hashed','customer_zip_code'])\n",
    "    df_master_all_later_after_201906=df.append(df_master_all_later_after_201906)\n",
    "\n",
    "dfiddetail=df_master_all_later_after_201906.append(dfiddetail).drop_duplicates(\"customer_id_hashed\")\n",
    "del df_master_all_later_after_201906\n",
    "\n",
    "####\n",
    "lapsed_master=pd.read_csv('/home/jian/Projects/Big_Lots/Loyal_members/loyalty_register_data/MediaStorm_Lapsed_Reward_Member_Master_from2014-08-26to2017-02-26.zip',\n",
    "                     dtype = 'str',sep = '|',usecols = ['customer_id_hashed','customer_zip_code'])\n",
    "\n",
    "dfiddetail=dfiddetail.append(lapsed_master)\n",
    "####\n",
    "dfiddetail=dfiddetail.drop_duplicates(\"customer_id_hashed\")\n",
    "\n",
    "\n",
    "\n",
    "dfiddetail['customer_zip_code'].fillna('00000',inplace = True)\n",
    "dfiddetail['customer_zip_code'] = dfiddetail['customer_zip_code'].apply(lambda x: x.split(\"-\")[0].split(\" \")[0].zfill(5)[:5])\n",
    "\n",
    "print(len(dfiddetail.index))\n",
    "\n",
    "\n",
    "gc.collect()\n",
    "print(\"dfiddetail.shape\",dfiddetail.shape)"
   ]
  },
  {
   "cell_type": "code",
   "execution_count": 76,
   "metadata": {},
   "outputs": [
    {
     "data": {
      "text/plain": [
       "(29269940, 2)"
      ]
     },
     "execution_count": 76,
     "metadata": {},
     "output_type": "execute_result"
    }
   ],
   "source": [
    "dfiddetail.shape"
   ]
  },
  {
   "cell_type": "code",
   "execution_count": 77,
   "metadata": {},
   "outputs": [
    {
     "data": {
      "text/html": [
       "<div>\n",
       "<style>\n",
       "    .dataframe thead tr:only-child th {\n",
       "        text-align: right;\n",
       "    }\n",
       "\n",
       "    .dataframe thead th {\n",
       "        text-align: left;\n",
       "    }\n",
       "\n",
       "    .dataframe tbody tr th {\n",
       "        vertical-align: top;\n",
       "    }\n",
       "</style>\n",
       "<table border=\"1\" class=\"dataframe\">\n",
       "  <thead>\n",
       "    <tr style=\"text-align: right;\">\n",
       "      <th></th>\n",
       "      <th>customer_zip_code</th>\n",
       "      <th>customer_id_hashed</th>\n",
       "    </tr>\n",
       "  </thead>\n",
       "  <tbody>\n",
       "    <tr>\n",
       "      <th>0</th>\n",
       "      <td>00000</td>\n",
       "      <td>3260384</td>\n",
       "    </tr>\n",
       "    <tr>\n",
       "      <th>62192</th>\n",
       "      <td>92335</td>\n",
       "      <td>24199</td>\n",
       "    </tr>\n",
       "    <tr>\n",
       "      <th>62233</th>\n",
       "      <td>92376</td>\n",
       "      <td>18547</td>\n",
       "    </tr>\n",
       "    <tr>\n",
       "      <th>61855</th>\n",
       "      <td>91977</td>\n",
       "      <td>18388</td>\n",
       "    </tr>\n",
       "    <tr>\n",
       "      <th>54924</th>\n",
       "      <td>79936</td>\n",
       "      <td>17948</td>\n",
       "    </tr>\n",
       "    <tr>\n",
       "      <th>61933</th>\n",
       "      <td>92064</td>\n",
       "      <td>16054</td>\n",
       "    </tr>\n",
       "    <tr>\n",
       "      <th>53088</th>\n",
       "      <td>77598</td>\n",
       "      <td>15832</td>\n",
       "    </tr>\n",
       "    <tr>\n",
       "      <th>35007</th>\n",
       "      <td>47715</td>\n",
       "      <td>15656</td>\n",
       "    </tr>\n",
       "    <tr>\n",
       "      <th>62337</th>\n",
       "      <td>92503</td>\n",
       "      <td>15609</td>\n",
       "    </tr>\n",
       "    <tr>\n",
       "      <th>61926</th>\n",
       "      <td>92057</td>\n",
       "      <td>15558</td>\n",
       "    </tr>\n",
       "    <tr>\n",
       "      <th>62948</th>\n",
       "      <td>93230</td>\n",
       "      <td>15311</td>\n",
       "    </tr>\n",
       "    <tr>\n",
       "      <th>62486</th>\n",
       "      <td>92653</td>\n",
       "      <td>14640</td>\n",
       "    </tr>\n",
       "    <tr>\n",
       "      <th>61379</th>\n",
       "      <td>91342</td>\n",
       "      <td>14344</td>\n",
       "    </tr>\n",
       "    <tr>\n",
       "      <th>15819</th>\n",
       "      <td>24112</td>\n",
       "      <td>14179</td>\n",
       "    </tr>\n",
       "    <tr>\n",
       "      <th>57701</th>\n",
       "      <td>85122</td>\n",
       "      <td>14114</td>\n",
       "    </tr>\n",
       "    <tr>\n",
       "      <th>20187</th>\n",
       "      <td>29445</td>\n",
       "      <td>14000</td>\n",
       "    </tr>\n",
       "    <tr>\n",
       "      <th>30912</th>\n",
       "      <td>42420</td>\n",
       "      <td>13969</td>\n",
       "    </tr>\n",
       "    <tr>\n",
       "      <th>62256</th>\n",
       "      <td>92399</td>\n",
       "      <td>13875</td>\n",
       "    </tr>\n",
       "    <tr>\n",
       "      <th>31268</th>\n",
       "      <td>43055</td>\n",
       "      <td>13814</td>\n",
       "    </tr>\n",
       "    <tr>\n",
       "      <th>64222</th>\n",
       "      <td>95076</td>\n",
       "      <td>13377</td>\n",
       "    </tr>\n",
       "    <tr>\n",
       "      <th>32041</th>\n",
       "      <td>44035</td>\n",
       "      <td>13339</td>\n",
       "    </tr>\n",
       "    <tr>\n",
       "      <th>35003</th>\n",
       "      <td>47711</td>\n",
       "      <td>13131</td>\n",
       "    </tr>\n",
       "    <tr>\n",
       "      <th>24142</th>\n",
       "      <td>33903</td>\n",
       "      <td>12987</td>\n",
       "    </tr>\n",
       "    <tr>\n",
       "      <th>57925</th>\n",
       "      <td>85364</td>\n",
       "      <td>12924</td>\n",
       "    </tr>\n",
       "    <tr>\n",
       "      <th>62203</th>\n",
       "      <td>92346</td>\n",
       "      <td>12472</td>\n",
       "    </tr>\n",
       "    <tr>\n",
       "      <th>58197</th>\n",
       "      <td>85741</td>\n",
       "      <td>12361</td>\n",
       "    </tr>\n",
       "    <tr>\n",
       "      <th>17743</th>\n",
       "      <td>26554</td>\n",
       "      <td>12073</td>\n",
       "    </tr>\n",
       "    <tr>\n",
       "      <th>27880</th>\n",
       "      <td>38401</td>\n",
       "      <td>12064</td>\n",
       "    </tr>\n",
       "    <tr>\n",
       "      <th>24083</th>\n",
       "      <td>33844</td>\n",
       "      <td>12001</td>\n",
       "    </tr>\n",
       "    <tr>\n",
       "      <th>31327</th>\n",
       "      <td>43123</td>\n",
       "      <td>11993</td>\n",
       "    </tr>\n",
       "    <tr>\n",
       "      <th>...</th>\n",
       "      <td>...</td>\n",
       "      <td>...</td>\n",
       "    </tr>\n",
       "    <tr>\n",
       "      <th>57562</th>\n",
       "      <td>84896</td>\n",
       "      <td>1</td>\n",
       "    </tr>\n",
       "    <tr>\n",
       "      <th>57560</th>\n",
       "      <td>84881</td>\n",
       "      <td>1</td>\n",
       "    </tr>\n",
       "    <tr>\n",
       "      <th>57532</th>\n",
       "      <td>84781</td>\n",
       "      <td>1</td>\n",
       "    </tr>\n",
       "    <tr>\n",
       "      <th>57559</th>\n",
       "      <td>84880</td>\n",
       "      <td>1</td>\n",
       "    </tr>\n",
       "    <tr>\n",
       "      <th>26033</th>\n",
       "      <td>36216</td>\n",
       "      <td>1</td>\n",
       "    </tr>\n",
       "    <tr>\n",
       "      <th>41703</th>\n",
       "      <td>60038</td>\n",
       "      <td>1</td>\n",
       "    </tr>\n",
       "    <tr>\n",
       "      <th>57536</th>\n",
       "      <td>84786</td>\n",
       "      <td>1</td>\n",
       "    </tr>\n",
       "    <tr>\n",
       "      <th>57537</th>\n",
       "      <td>84788</td>\n",
       "      <td>1</td>\n",
       "    </tr>\n",
       "    <tr>\n",
       "      <th>57538</th>\n",
       "      <td>84789</td>\n",
       "      <td>1</td>\n",
       "    </tr>\n",
       "    <tr>\n",
       "      <th>26030</th>\n",
       "      <td>36210</td>\n",
       "      <td>1</td>\n",
       "    </tr>\n",
       "    <tr>\n",
       "      <th>26019</th>\n",
       "      <td>36197</td>\n",
       "      <td>1</td>\n",
       "    </tr>\n",
       "    <tr>\n",
       "      <th>57541</th>\n",
       "      <td>84796</td>\n",
       "      <td>1</td>\n",
       "    </tr>\n",
       "    <tr>\n",
       "      <th>57542</th>\n",
       "      <td>84798</td>\n",
       "      <td>1</td>\n",
       "    </tr>\n",
       "    <tr>\n",
       "      <th>26018</th>\n",
       "      <td>36195</td>\n",
       "      <td>1</td>\n",
       "    </tr>\n",
       "    <tr>\n",
       "      <th>26017</th>\n",
       "      <td>36193</td>\n",
       "      <td>1</td>\n",
       "    </tr>\n",
       "    <tr>\n",
       "      <th>41714</th>\n",
       "      <td>60049</td>\n",
       "      <td>1</td>\n",
       "    </tr>\n",
       "    <tr>\n",
       "      <th>57546</th>\n",
       "      <td>84807</td>\n",
       "      <td>1</td>\n",
       "    </tr>\n",
       "    <tr>\n",
       "      <th>26015</th>\n",
       "      <td>36190</td>\n",
       "      <td>1</td>\n",
       "    </tr>\n",
       "    <tr>\n",
       "      <th>57548</th>\n",
       "      <td>84815</td>\n",
       "      <td>1</td>\n",
       "    </tr>\n",
       "    <tr>\n",
       "      <th>57549</th>\n",
       "      <td>84816</td>\n",
       "      <td>1</td>\n",
       "    </tr>\n",
       "    <tr>\n",
       "      <th>26014</th>\n",
       "      <td>36186</td>\n",
       "      <td>1</td>\n",
       "    </tr>\n",
       "    <tr>\n",
       "      <th>57551</th>\n",
       "      <td>84828</td>\n",
       "      <td>1</td>\n",
       "    </tr>\n",
       "    <tr>\n",
       "      <th>26013</th>\n",
       "      <td>36180</td>\n",
       "      <td>1</td>\n",
       "    </tr>\n",
       "    <tr>\n",
       "      <th>57553</th>\n",
       "      <td>84833</td>\n",
       "      <td>1</td>\n",
       "    </tr>\n",
       "    <tr>\n",
       "      <th>57554</th>\n",
       "      <td>84835</td>\n",
       "      <td>1</td>\n",
       "    </tr>\n",
       "    <tr>\n",
       "      <th>26012</th>\n",
       "      <td>36179</td>\n",
       "      <td>1</td>\n",
       "    </tr>\n",
       "    <tr>\n",
       "      <th>57556</th>\n",
       "      <td>84854</td>\n",
       "      <td>1</td>\n",
       "    </tr>\n",
       "    <tr>\n",
       "      <th>57557</th>\n",
       "      <td>84867</td>\n",
       "      <td>1</td>\n",
       "    </tr>\n",
       "    <tr>\n",
       "      <th>57558</th>\n",
       "      <td>84874</td>\n",
       "      <td>1</td>\n",
       "    </tr>\n",
       "    <tr>\n",
       "      <th>829</th>\n",
       "      <td>01738</td>\n",
       "      <td>1</td>\n",
       "    </tr>\n",
       "  </tbody>\n",
       "</table>\n",
       "<p>67719 rows × 2 columns</p>\n",
       "</div>"
      ],
      "text/plain": [
       "      customer_zip_code  customer_id_hashed\n",
       "0                 00000             3260384\n",
       "62192             92335               24199\n",
       "62233             92376               18547\n",
       "61855             91977               18388\n",
       "54924             79936               17948\n",
       "61933             92064               16054\n",
       "53088             77598               15832\n",
       "35007             47715               15656\n",
       "62337             92503               15609\n",
       "61926             92057               15558\n",
       "62948             93230               15311\n",
       "62486             92653               14640\n",
       "61379             91342               14344\n",
       "15819             24112               14179\n",
       "57701             85122               14114\n",
       "20187             29445               14000\n",
       "30912             42420               13969\n",
       "62256             92399               13875\n",
       "31268             43055               13814\n",
       "64222             95076               13377\n",
       "32041             44035               13339\n",
       "35003             47711               13131\n",
       "24142             33903               12987\n",
       "57925             85364               12924\n",
       "62203             92346               12472\n",
       "58197             85741               12361\n",
       "17743             26554               12073\n",
       "27880             38401               12064\n",
       "24083             33844               12001\n",
       "31327             43123               11993\n",
       "...                 ...                 ...\n",
       "57562             84896                   1\n",
       "57560             84881                   1\n",
       "57532             84781                   1\n",
       "57559             84880                   1\n",
       "26033             36216                   1\n",
       "41703             60038                   1\n",
       "57536             84786                   1\n",
       "57537             84788                   1\n",
       "57538             84789                   1\n",
       "26030             36210                   1\n",
       "26019             36197                   1\n",
       "57541             84796                   1\n",
       "57542             84798                   1\n",
       "26018             36195                   1\n",
       "26017             36193                   1\n",
       "41714             60049                   1\n",
       "57546             84807                   1\n",
       "26015             36190                   1\n",
       "57548             84815                   1\n",
       "57549             84816                   1\n",
       "26014             36186                   1\n",
       "57551             84828                   1\n",
       "26013             36180                   1\n",
       "57553             84833                   1\n",
       "57554             84835                   1\n",
       "26012             36179                   1\n",
       "57556             84854                   1\n",
       "57557             84867                   1\n",
       "57558             84874                   1\n",
       "829               01738                   1\n",
       "\n",
       "[67719 rows x 2 columns]"
      ]
     },
     "execution_count": 77,
     "metadata": {},
     "output_type": "execute_result"
    }
   ],
   "source": [
    "dfiddetail.groupby(\"customer_zip_code\")['customer_id_hashed'].count().to_frame().reset_index().sort_values(\"customer_id_hashed\",ascending=False)\n"
   ]
  },
  {
   "cell_type": "markdown",
   "metadata": {},
   "source": [
    "# Sales"
   ]
  },
  {
   "cell_type": "code",
   "execution_count": 4,
   "metadata": {
    "collapsed": true
   },
   "outputs": [],
   "source": [
    "def recursive_file_gen(root_path):\n",
    "    for root, dirs, files in os.walk(root_path):\n",
    "        for file in files:\n",
    "            yield os.path.join(root,file)"
   ]
  },
  {
   "cell_type": "code",
   "execution_count": 5,
   "metadata": {},
   "outputs": [
    {
     "name": "stdout",
     "output_type": "stream",
     "text": [
      "2019-07-21\n",
      "2017-07-16\n"
     ]
    }
   ],
   "source": [
    "today=datetime.datetime.now().date()\n",
    "Last_Saturday=today-datetime.timedelta(days=today.weekday()+1)\n",
    "print(Last_Saturday)\n",
    "\n",
    "Saturday_2_years_earlier=Last_Saturday-datetime.timedelta(days=52*2*7)\n",
    "Saturday_2_years_earlier=Saturday_2_years_earlier-datetime.timedelta(days=Saturday_2_years_earlier.weekday()+1)\n",
    "print(Saturday_2_years_earlier)"
   ]
  },
  {
   "cell_type": "code",
   "execution_count": 6,
   "metadata": {},
   "outputs": [
    {
     "data": {
      "text/plain": [
       "'2018-06-09'"
      ]
     },
     "execution_count": 6,
     "metadata": {},
     "output_type": "execute_result"
    }
   ],
   "source": [
    "# 1 historical subclass files\n",
    "all_hist_subclass_files=glob.glob(\"/home/jian/BigLots/hist_daily_data_subclasslevel/*.txt\")\n",
    "df_all_hist_subclass_files=pd.DataFrame({\"file_path\":all_hist_subclass_files})\n",
    "df_all_hist_subclass_files['week_end_dt']=df_all_hist_subclass_files['file_path'].apply(lambda x: x.split(\"rmDailySales_week_ending_\")[1][:10])\n",
    "df_all_hist_subclass_files=df_all_hist_subclass_files[(df_all_hist_subclass_files['week_end_dt']>=str(Saturday_2_years_earlier)) & (df_all_hist_subclass_files['week_end_dt']<=str(Last_Saturday))]\n",
    "\n",
    "df_all_hist_subclass_files_max_date=df_all_hist_subclass_files['week_end_dt'].max()\n",
    "\n",
    "df_all_hist_subclass_files_max_date"
   ]
  },
  {
   "cell_type": "code",
   "execution_count": 7,
   "metadata": {},
   "outputs": [
    {
     "name": "stdout",
     "output_type": "stream",
     "text": [
      "df_all_hist_item_files_max_date 20190209\n",
      "df_all_hist_item_files_min_date 20180811\n"
     ]
    }
   ],
   "source": [
    "# 3 historical item files\n",
    "\n",
    "all_hist_item_files=glob.glob(\"/home/jian/BigLots/hist_daily_data_itemlevel_decompressed/*.txt\")\n",
    "df_all_hist_item_files=pd.DataFrame({\"file_path\":all_hist_item_files})\n",
    "df_all_hist_item_files['week_end_dt']=df_all_hist_item_files['file_path'].apply(lambda x: x.split(\"MediaStormDailySalesHistory\")[1][:8])\n",
    "df_all_hist_item_files=df_all_hist_item_files[(df_all_hist_item_files['week_end_dt']>str(df_all_hist_subclass_files_max_date).replace(\"-\",\"\")) & (df_all_hist_item_files['week_end_dt']<=str(Last_Saturday).replace(\"-\",\"\"))]\n",
    "\n",
    "df_all_hist_item_files_max_date=df_all_hist_item_files['week_end_dt'].max()\n",
    "print(\"df_all_hist_item_files_max_date\",df_all_hist_item_files_max_date)\n",
    "\n",
    "df_all_hist_item_files_min_date=df_all_hist_item_files['week_end_dt'].min()\n",
    "print(\"df_all_hist_item_files_min_date\",df_all_hist_item_files_min_date)"
   ]
  },
  {
   "cell_type": "code",
   "execution_count": 9,
   "metadata": {},
   "outputs": [
    {
     "name": "stdout",
     "output_type": "stream",
     "text": [
      "df_daily_subclass_files_max_date 2018-08-04\n",
      "df_daily_subclass_files_min_date 2018-06-16\n"
     ]
    }
   ],
   "source": [
    "# 2 daily subclass files\n",
    "daily_subclass_files=list(recursive_file_gen(\"/home/jian/BigLots/2018_by_weeks/\"))\n",
    "daily_subclass_files=[x for x in daily_subclass_files if ((\"aily\" in x ) & (\".txt\" in x))]\n",
    "df_daily_subclass_files=pd.DataFrame({\"file_path\":daily_subclass_files})\n",
    "\n",
    "df_daily_subclass_files['week_end_dt']=df_daily_subclass_files['file_path'].apply(lambda x: x.split(\"ks/MediaStorm_\")[1][:10])\n",
    "df_daily_subclass_files=df_daily_subclass_files[(df_daily_subclass_files['week_end_dt']>str(df_all_hist_subclass_files_max_date)) &\\\n",
    "                                                (df_daily_subclass_files['week_end_dt'].apply(lambda x: x.replace(\"-\",\"\"))<str(df_all_hist_item_files_min_date))]\n",
    "\n",
    "df_daily_subclass_files_max_date=df_daily_subclass_files['week_end_dt'].max()\n",
    "print(\"df_daily_subclass_files_max_date\",df_daily_subclass_files_max_date)\n",
    "\n",
    "df_daily_subclass_files_min_date=df_daily_subclass_files['week_end_dt'].min()\n",
    "print(\"df_daily_subclass_files_min_date\",df_daily_subclass_files_min_date)"
   ]
  },
  {
   "cell_type": "code",
   "execution_count": 11,
   "metadata": {},
   "outputs": [
    {
     "name": "stdout",
     "output_type": "stream",
     "text": [
      "df_daily_item_files_max_date 2019-07-20\n",
      "df_daily_item_files_min_date 2019-02-16\n"
     ]
    }
   ],
   "source": [
    "# 4 daily item files\n",
    "daily_item_files=list(recursive_file_gen(\"/home/jian/BigLots/2019_by_weeks/\"))\n",
    "daily_item_files=[x for x in daily_item_files if ((\"aily\" in x ) & (\".txt\" in x))]\n",
    "df_daily_item_files=pd.DataFrame({\"file_path\":daily_item_files})\n",
    "\n",
    "df_daily_item_files['week_end_dt']=df_daily_item_files['file_path'].apply(lambda x: x.split(\"ks/MediaStorm_\")[1][:10])\n",
    "\n",
    "df_daily_item_files=df_daily_item_files[(df_daily_item_files['week_end_dt'].apply(lambda x: x.replace(\"-\",\"\"))>str(df_all_hist_item_files_max_date)) &\\\n",
    "                                                (df_daily_item_files['week_end_dt']<str(Last_Saturday))]\n",
    "\n",
    "df_daily_item_files_max_date=df_daily_item_files['week_end_dt'].max()\n",
    "print(\"df_daily_item_files_max_date\",df_daily_item_files_max_date)\n",
    "\n",
    "df_daily_item_files_min_date=df_daily_item_files['week_end_dt'].min()\n",
    "print(\"df_daily_item_files_min_date\",df_daily_item_files_min_date)\n"
   ]
  },
  {
   "cell_type": "code",
   "execution_count": 12,
   "metadata": {},
   "outputs": [],
   "source": [
    "all_item_files=df_daily_item_files.append(df_all_hist_item_files).sort_values(\"week_end_dt\")\n",
    "all_subclass_files=df_all_hist_subclass_files.append(df_daily_subclass_files).sort_values(\"week_end_dt\")\n"
   ]
  },
  {
   "cell_type": "code",
   "execution_count": 13,
   "metadata": {},
   "outputs": [
    {
     "data": {
      "text/plain": [
       "(50, 2)"
      ]
     },
     "execution_count": 13,
     "metadata": {},
     "output_type": "execute_result"
    }
   ],
   "source": [
    "all_item_files.shape"
   ]
  },
  {
   "cell_type": "code",
   "execution_count": 14,
   "metadata": {},
   "outputs": [
    {
     "data": {
      "text/plain": [
       "50"
      ]
     },
     "execution_count": 14,
     "metadata": {},
     "output_type": "execute_result"
    }
   ],
   "source": [
    "all_item_files['week_end_dt'].nunique()"
   ]
  },
  {
   "cell_type": "code",
   "execution_count": 15,
   "metadata": {},
   "outputs": [
    {
     "data": {
      "text/plain": [
       "(55, 2)"
      ]
     },
     "execution_count": 15,
     "metadata": {},
     "output_type": "execute_result"
    }
   ],
   "source": [
    "all_subclass_files.shape"
   ]
  },
  {
   "cell_type": "code",
   "execution_count": 16,
   "metadata": {},
   "outputs": [
    {
     "data": {
      "text/plain": [
       "55"
      ]
     },
     "execution_count": 16,
     "metadata": {},
     "output_type": "execute_result"
    }
   ],
   "source": [
    "all_subclass_files['week_end_dt'].nunique()"
   ]
  },
  {
   "cell_type": "code",
   "execution_count": 18,
   "metadata": {},
   "outputs": [
    {
     "data": {
      "text/plain": [
       "105"
      ]
     },
     "execution_count": 18,
     "metadata": {},
     "output_type": "execute_result"
    }
   ],
   "source": [
    "len(set(all_subclass_files['week_end_dt'].unique().tolist()+all_item_files['week_end_dt'].unique().tolist()))"
   ]
  },
  {
   "cell_type": "code",
   "execution_count": 22,
   "metadata": {},
   "outputs": [
    {
     "data": {
      "text/html": [
       "<div>\n",
       "<style>\n",
       "    .dataframe thead tr:only-child th {\n",
       "        text-align: right;\n",
       "    }\n",
       "\n",
       "    .dataframe thead th {\n",
       "        text-align: left;\n",
       "    }\n",
       "\n",
       "    .dataframe tbody tr th {\n",
       "        vertical-align: top;\n",
       "    }\n",
       "</style>\n",
       "<table border=\"1\" class=\"dataframe\">\n",
       "  <thead>\n",
       "    <tr style=\"text-align: right;\">\n",
       "      <th></th>\n",
       "      <th>location_id</th>\n",
       "      <th>transaction_dt</th>\n",
       "      <th>transaction_id</th>\n",
       "      <th>customer_id_hashed</th>\n",
       "      <th>class_code_id</th>\n",
       "      <th>subclass_id</th>\n",
       "      <th>subclass_transaction_units</th>\n",
       "      <th>subclass_transaction_amt</th>\n",
       "    </tr>\n",
       "  </thead>\n",
       "  <tbody>\n",
       "    <tr>\n",
       "      <th>0</th>\n",
       "      <td>1103</td>\n",
       "      <td>2017-07-18</td>\n",
       "      <td>4143</td>\n",
       "      <td>af9258adab9d8e063aaa6a2bdb30f3a0c3bfab000ecebd...</td>\n",
       "      <td>36404</td>\n",
       "      <td>7</td>\n",
       "      <td>2</td>\n",
       "      <td>4.50</td>\n",
       "    </tr>\n",
       "    <tr>\n",
       "      <th>1</th>\n",
       "      <td>1412</td>\n",
       "      <td>2017-07-17</td>\n",
       "      <td>9711</td>\n",
       "      <td>NaN</td>\n",
       "      <td>12009</td>\n",
       "      <td>1</td>\n",
       "      <td>3</td>\n",
       "      <td>3.00</td>\n",
       "    </tr>\n",
       "    <tr>\n",
       "      <th>2</th>\n",
       "      <td>4478</td>\n",
       "      <td>2017-07-22</td>\n",
       "      <td>487</td>\n",
       "      <td>NaN</td>\n",
       "      <td>11004</td>\n",
       "      <td>4</td>\n",
       "      <td>1</td>\n",
       "      <td>3.50</td>\n",
       "    </tr>\n",
       "    <tr>\n",
       "      <th>3</th>\n",
       "      <td>5248</td>\n",
       "      <td>2017-07-17</td>\n",
       "      <td>9858</td>\n",
       "      <td>NaN</td>\n",
       "      <td>11007</td>\n",
       "      <td>5</td>\n",
       "      <td>1</td>\n",
       "      <td>3.00</td>\n",
       "    </tr>\n",
       "    <tr>\n",
       "      <th>4</th>\n",
       "      <td>1377</td>\n",
       "      <td>2017-07-21</td>\n",
       "      <td>6956</td>\n",
       "      <td>NaN</td>\n",
       "      <td>12005</td>\n",
       "      <td>5</td>\n",
       "      <td>1</td>\n",
       "      <td>1.50</td>\n",
       "    </tr>\n",
       "    <tr>\n",
       "      <th>5</th>\n",
       "      <td>1926</td>\n",
       "      <td>2017-07-16</td>\n",
       "      <td>7833</td>\n",
       "      <td>52a010e1e2fcd9d58f9a356f4778a0e232fd1c2e39d3c8...</td>\n",
       "      <td>11008</td>\n",
       "      <td>8</td>\n",
       "      <td>2</td>\n",
       "      <td>4.00</td>\n",
       "    </tr>\n",
       "    <tr>\n",
       "      <th>6</th>\n",
       "      <td>1016</td>\n",
       "      <td>2017-07-21</td>\n",
       "      <td>1762</td>\n",
       "      <td>4523882edabe04229ea7063066ed1d08aa51ec7c715091...</td>\n",
       "      <td>55012</td>\n",
       "      <td>1</td>\n",
       "      <td>2</td>\n",
       "      <td>27.00</td>\n",
       "    </tr>\n",
       "    <tr>\n",
       "      <th>7</th>\n",
       "      <td>1910</td>\n",
       "      <td>2017-07-20</td>\n",
       "      <td>7044</td>\n",
       "      <td>4384eb4aa3cfb3524797454ce9fe9b1380b9ba82f427c7...</td>\n",
       "      <td>15002</td>\n",
       "      <td>1</td>\n",
       "      <td>1</td>\n",
       "      <td>6.75</td>\n",
       "    </tr>\n",
       "    <tr>\n",
       "      <th>8</th>\n",
       "      <td>4340</td>\n",
       "      <td>2017-07-18</td>\n",
       "      <td>1861</td>\n",
       "      <td>NaN</td>\n",
       "      <td>15002</td>\n",
       "      <td>1</td>\n",
       "      <td>1</td>\n",
       "      <td>1.50</td>\n",
       "    </tr>\n",
       "    <tr>\n",
       "      <th>9</th>\n",
       "      <td>5185</td>\n",
       "      <td>2017-07-20</td>\n",
       "      <td>5042</td>\n",
       "      <td>NaN</td>\n",
       "      <td>35084</td>\n",
       "      <td>1</td>\n",
       "      <td>1</td>\n",
       "      <td>2.80</td>\n",
       "    </tr>\n",
       "  </tbody>\n",
       "</table>\n",
       "</div>"
      ],
      "text/plain": [
       "   location_id transaction_dt  transaction_id  \\\n",
       "0         1103     2017-07-18            4143   \n",
       "1         1412     2017-07-17            9711   \n",
       "2         4478     2017-07-22             487   \n",
       "3         5248     2017-07-17            9858   \n",
       "4         1377     2017-07-21            6956   \n",
       "5         1926     2017-07-16            7833   \n",
       "6         1016     2017-07-21            1762   \n",
       "7         1910     2017-07-20            7044   \n",
       "8         4340     2017-07-18            1861   \n",
       "9         5185     2017-07-20            5042   \n",
       "\n",
       "                                  customer_id_hashed  class_code_id  \\\n",
       "0  af9258adab9d8e063aaa6a2bdb30f3a0c3bfab000ecebd...          36404   \n",
       "1                                                NaN          12009   \n",
       "2                                                NaN          11004   \n",
       "3                                                NaN          11007   \n",
       "4                                                NaN          12005   \n",
       "5  52a010e1e2fcd9d58f9a356f4778a0e232fd1c2e39d3c8...          11008   \n",
       "6  4523882edabe04229ea7063066ed1d08aa51ec7c715091...          55012   \n",
       "7  4384eb4aa3cfb3524797454ce9fe9b1380b9ba82f427c7...          15002   \n",
       "8                                                NaN          15002   \n",
       "9                                                NaN          35084   \n",
       "\n",
       "   subclass_id  subclass_transaction_units  subclass_transaction_amt  \n",
       "0            7                           2                      4.50  \n",
       "1            1                           3                      3.00  \n",
       "2            4                           1                      3.50  \n",
       "3            5                           1                      3.00  \n",
       "4            5                           1                      1.50  \n",
       "5            8                           2                      4.00  \n",
       "6            1                           2                     27.00  \n",
       "7            1                           1                      6.75  \n",
       "8            1                           1                      1.50  \n",
       "9            1                           1                      2.80  "
      ]
     },
     "execution_count": 22,
     "metadata": {},
     "output_type": "execute_result"
    }
   ],
   "source": [
    "pd.read_table(file,nrows=10,sep=\"|\")"
   ]
  },
  {
   "cell_type": "code",
   "execution_count": 27,
   "metadata": {},
   "outputs": [
    {
     "name": "stdout",
     "output_type": "stream",
     "text": [
      "all_subclass_files['file_path'].nunique() 55\n",
      "1 2019-07-24 14:41:17.612823 (845810, 4)\n",
      "2 2019-07-24 14:41:49.460530 (1677660, 4)\n",
      "3 2019-07-24 14:42:26.079061 (2576389, 4)\n",
      "4 2019-07-24 14:43:01.779995 (3448076, 4)\n",
      "5 2019-07-24 14:43:40.552971 (4332779, 4)\n",
      "6 2019-07-24 14:44:17.189641 (5185442, 4)\n",
      "7 2019-07-24 14:44:56.049772 (6079366, 4)\n",
      "8 2019-07-24 14:45:35.855305 (7011042, 4)\n",
      "9 2019-07-24 14:46:10.848353 (7811712, 4)\n",
      "10 2019-07-24 14:46:45.912836 (8626372, 4)\n",
      "11 2019-07-24 14:47:33.277174 (9743183, 4)\n",
      "12 2019-07-24 14:48:20.010480 (10729674, 4)\n",
      "13 2019-07-24 14:48:56.855399 (11577544, 4)\n",
      "14 2019-07-24 14:49:34.738082 (12449629, 4)\n",
      "15 2019-07-24 14:50:16.295736 (13397658, 4)\n",
      "16 2019-07-24 14:51:00.348865 (14420795, 4)\n",
      "17 2019-07-24 14:51:49.120104 (15552569, 4)\n",
      "18 2019-07-24 14:52:40.638326 (16746882, 4)\n",
      "19 2019-07-24 14:53:48.108362 (18255588, 4)\n",
      "20 2019-07-24 14:55:01.904122 (19808319, 4)\n",
      "21 2019-07-24 14:56:14.185160 (21327344, 4)\n",
      "22 2019-07-24 14:57:28.859391 (22863742, 4)\n",
      "23 2019-07-24 14:58:57.043119 (24578818, 4)\n",
      "24 2019-07-24 14:59:46.148615 (25583870, 4)\n",
      "25 2019-07-24 15:00:25.625218 (26429659, 4)\n",
      "26 2019-07-24 15:01:09.547734 (27303188, 4)\n",
      "27 2019-07-24 15:02:04.104828 (28410659, 4)\n",
      "28 2019-07-24 15:02:57.388737 (29406609, 4)\n",
      "29 2019-07-24 15:03:42.786530 (30289715, 4)\n",
      "30 2019-07-24 15:04:27.895469 (31159679, 4)\n",
      "31 2019-07-24 15:05:17.522264 (32140507, 4)\n",
      "32 2019-07-24 15:06:11.957700 (33179513, 4)\n",
      "33 2019-07-24 15:07:08.657941 (34267362, 4)\n",
      "34 2019-07-24 15:08:11.757694 (35324110, 4)\n",
      "35 2019-07-24 15:09:13.167220 (36359282, 4)\n",
      "36 2019-07-24 15:10:12.037785 (37410805, 4)\n",
      "37 2019-07-24 15:11:14.646919 (38547839, 4)\n",
      "38 2019-07-24 15:12:28.413288 (39808235, 4)\n",
      "39 2019-07-24 15:13:49.763716 (40999407, 4)\n",
      "40 2019-07-24 15:14:44.183868 (41970263, 4)\n",
      "41 2019-07-24 15:15:46.160305 (43009648, 4)\n",
      "42 2019-07-24 15:16:50.239943 (44105719, 4)\n",
      "43 2019-07-24 15:17:41.864165 (45174304, 4)\n",
      "44 2019-07-24 15:18:33.094711 (46182246, 4)\n",
      "45 2019-07-24 15:19:28.295217 (47291274, 4)\n",
      "46 2019-07-24 15:20:25.087575 (48425530, 4)\n",
      "47 2019-07-24 15:21:16.996518 (49487322, 4)\n",
      "48 2019-07-24 15:22:13.500864 (50558254, 4)\n",
      "49 2019-07-24 15:23:07.634606 (51586801, 4)\n",
      "50 2019-07-24 15:24:06.160532 (52685961, 4)\n",
      "51 2019-07-24 15:25:33.581576 (54116084, 4)\n",
      "52 2019-07-24 15:26:53.102820 (55388896, 4)\n",
      "53 2019-07-24 15:27:54.135902 (56443745, 4)\n",
      "54 2019-07-24 15:28:53.901043 (57494557, 4)\n",
      "55 2019-07-24 15:29:55.084541 (58592790, 4)\n"
     ]
    }
   ],
   "source": [
    "df_rewards_sales_by_id_subclass=pd.DataFrame()\n",
    "\n",
    "print(\"all_subclass_files['file_path'].nunique()\",all_subclass_files['file_path'].nunique())\n",
    "\n",
    "i_counter=0\n",
    "for file in all_subclass_files['file_path'].tolist():\n",
    "    try:\n",
    "        df=pd.read_table(file,dtype=str,sep=\"|\",\n",
    "                         usecols=['location_id','transaction_dt','transaction_id','customer_id_hashed','subclass_transaction_amt'])\n",
    "    except:\n",
    "        df=pd.read_table(file,dtype=str,sep=\"|\",\n",
    "                         usecols=['location_id','transaction_date','transaction_id','customer_id_hashed','subclass_transaction_amt'])\n",
    "        df=df.rename(columns={\"transaction_date\":\"transaction_dt\"})\n",
    "    df=df[pd.notnull(df['customer_id_hashed'])]\n",
    "    df['subclass_transaction_amt']=df['subclass_transaction_amt'].astype(float)\n",
    "    \n",
    "    df_sales_by_store_id=df.groupby([\"location_id\",\"customer_id_hashed\"])['subclass_transaction_amt'].sum().to_frame().reset_index()\n",
    "    df_sales_by_store_id=df_sales_by_store_id.rename(columns={\"subclass_transaction_amt\":\"sales\"})\n",
    "    \n",
    "    df_trans_by_store_id=df[['location_id','transaction_dt','transaction_id','customer_id_hashed']].drop_duplicates()\n",
    "    df_trans_by_store_id=df_trans_by_store_id.groupby(['location_id','customer_id_hashed'])['transaction_id'].count().to_frame().reset_index()\n",
    "    df_trans_by_store_id=df_trans_by_store_id.rename(columns={\"transaction_id\":\"trans\"})\n",
    "    \n",
    "    df=pd.merge(df_sales_by_store_id,df_trans_by_store_id,on=['location_id','customer_id_hashed'],how=\"outer\")\n",
    "    df_rewards_sales_by_id_subclass=df_rewards_sales_by_id_subclass.append(df)\n",
    "    \n",
    "    i_counter+=1\n",
    "    \n",
    "    print(i_counter,datetime.datetime.now(),df_rewards_sales_by_id_subclass.shape)\n"
   ]
  },
  {
   "cell_type": "code",
   "execution_count": 32,
   "metadata": {},
   "outputs": [
    {
     "data": {
      "text/html": [
       "<div>\n",
       "<style>\n",
       "    .dataframe thead tr:only-child th {\n",
       "        text-align: right;\n",
       "    }\n",
       "\n",
       "    .dataframe thead th {\n",
       "        text-align: left;\n",
       "    }\n",
       "\n",
       "    .dataframe tbody tr th {\n",
       "        vertical-align: top;\n",
       "    }\n",
       "</style>\n",
       "<table border=\"1\" class=\"dataframe\">\n",
       "  <thead>\n",
       "    <tr style=\"text-align: right;\">\n",
       "      <th></th>\n",
       "      <th>location_id</th>\n",
       "      <th>customer_id_hashed</th>\n",
       "      <th>sales</th>\n",
       "      <th>trans</th>\n",
       "    </tr>\n",
       "  </thead>\n",
       "  <tbody>\n",
       "    <tr>\n",
       "      <th>0</th>\n",
       "      <td>1</td>\n",
       "      <td>00b71d4332bf58b08045ea1941f3def587dd559fe4287e...</td>\n",
       "      <td>6.6</td>\n",
       "      <td>1</td>\n",
       "    </tr>\n",
       "    <tr>\n",
       "      <th>1</th>\n",
       "      <td>1</td>\n",
       "      <td>00d2a17ca9b8b48a0cc8b39051beb82850dd1b67c165e4...</td>\n",
       "      <td>1.5</td>\n",
       "      <td>1</td>\n",
       "    </tr>\n",
       "  </tbody>\n",
       "</table>\n",
       "</div>"
      ],
      "text/plain": [
       "  location_id                                 customer_id_hashed  sales  trans\n",
       "0           1  00b71d4332bf58b08045ea1941f3def587dd559fe4287e...    6.6      1\n",
       "1           1  00d2a17ca9b8b48a0cc8b39051beb82850dd1b67c165e4...    1.5      1"
      ]
     },
     "execution_count": 32,
     "metadata": {},
     "output_type": "execute_result"
    }
   ],
   "source": [
    "df_rewards_sales_by_id_subclass.head(2)"
   ]
  },
  {
   "cell_type": "code",
   "execution_count": 33,
   "metadata": {},
   "outputs": [],
   "source": [
    "df_rewards_sales_by_id_subclass=df_rewards_sales_by_id_subclass.groupby(['location_id','customer_id_hashed'])['sales','trans'].sum().reset_index()"
   ]
  },
  {
   "cell_type": "code",
   "execution_count": 35,
   "metadata": {},
   "outputs": [
    {
     "name": "stdout",
     "output_type": "stream",
     "text": [
      "all_item_files['file_path'].nunique() 50\n",
      "1 2019-07-24 15:43:26.743726 (1101864, 4)\n",
      "2 2019-07-24 15:44:20.931378 (2234355, 4)\n",
      "3 2019-07-24 15:45:22.378177 (3370753, 4)\n",
      "4 2019-07-24 15:46:26.617839 (4524850, 4)\n",
      "5 2019-07-24 15:47:31.517742 (5684357, 4)\n",
      "6 2019-07-24 15:48:33.739176 (6770560, 4)\n",
      "7 2019-07-24 15:49:28.886839 (7833176, 4)\n",
      "8 2019-07-24 15:50:40.522352 (9162398, 4)\n",
      "9 2019-07-24 15:51:50.868184 (10451912, 4)\n",
      "10 2019-07-24 15:52:49.591304 (11521149, 4)\n",
      "11 2019-07-24 15:53:48.678833 (12605091, 4)\n",
      "12 2019-07-24 15:54:52.648935 (13750898, 4)\n",
      "13 2019-07-24 15:55:52.950093 (14930027, 4)\n",
      "14 2019-07-24 15:57:00.904822 (16183163, 4)\n",
      "15 2019-07-24 15:58:21.902626 (17567246, 4)\n",
      "16 2019-07-24 16:00:14.463715 (19413962, 4)\n",
      "17 2019-07-24 16:01:59.249002 (21188482, 4)\n",
      "18 2019-07-24 16:03:50.789594 (23073207, 4)\n",
      "19 2019-07-24 16:05:39.400907 (24933096, 4)\n",
      "20 2019-07-24 16:07:44.323729 (26990775, 4)\n",
      "21 2019-07-24 16:09:12.750328 (28476967, 4)\n",
      "22 2019-07-24 16:10:10.231245 (29616791, 4)\n",
      "23 2019-07-24 16:11:12.331775 (30750413, 4)\n",
      "24 2019-07-24 16:12:18.964205 (31966219, 4)\n",
      "25 2019-07-24 16:13:26.269516 (33166127, 4)\n",
      "26 2019-07-24 16:14:30.934466 (34356973, 4)\n",
      "27 2019-07-24 16:15:42.105671 (35583061, 4)\n",
      "28 2019-07-24 16:16:49.079947 (36791543, 4)\n",
      "29 2019-07-24 16:18:18.987962 (38256889, 4)\n",
      "30 2019-07-24 16:19:43.562288 (39650347, 4)\n",
      "31 2019-07-24 16:20:58.995081 (40903815, 4)\n",
      "32 2019-07-24 16:22:00.336427 (42018159, 4)\n",
      "33 2019-07-24 16:23:11.977595 (43257552, 4)\n",
      "34 2019-07-24 16:24:19.085933 (44439156, 4)\n",
      "35 2019-07-24 16:25:22.484474 (45589162, 4)\n",
      "36 2019-07-24 16:26:30.332460 (46867274, 4)\n",
      "37 2019-07-24 16:27:40.956550 (48145257, 4)\n",
      "38 2019-07-24 16:28:51.879791 (49385115, 4)\n",
      "39 2019-07-24 16:30:04.568544 (50655656, 4)\n",
      "40 2019-07-24 16:31:11.636967 (51834458, 4)\n",
      "41 2019-07-24 16:32:25.341717 (53093025, 4)\n",
      "42 2019-07-24 16:33:43.704077 (54431978, 4)\n",
      "43 2019-07-24 16:35:13.534151 (55907445, 4)\n",
      "44 2019-07-24 16:36:41.984865 (57361543, 4)\n",
      "45 2019-07-24 16:37:53.548556 (58539292, 4)\n",
      "46 2019-07-24 16:39:03.423958 (59655495, 4)\n",
      "47 2019-07-24 16:40:26.425011 (60927757, 4)\n",
      "48 2019-07-24 16:41:44.327735 (62122320, 4)\n",
      "49 2019-07-24 16:42:52.194356 (63166380, 4)\n",
      "50 2019-07-24 16:44:01.707603 (64250881, 4)\n"
     ]
    }
   ],
   "source": [
    "df_rewards_sales_by_id_item=pd.DataFrame()\n",
    "\n",
    "print(\"all_item_files['file_path'].nunique()\",all_item_files['file_path'].nunique())\n",
    "\n",
    "i_counter=0\n",
    "for file in all_item_files['file_path'].tolist():\n",
    "    try:\n",
    "        df=pd.read_table(file,dtype=str,sep=\"|\",\n",
    "                         usecols=['location_id','transaction_dt','transaction_id','customer_id_hashed','item_transaction_amt'])\n",
    "    except:\n",
    "        df=pd.read_table(file,dtype=str,sep=\"|\",\n",
    "                         usecols=['location_id','transaction_date','transaction_id','customer_id_hashed','item_transaction_amt'])\n",
    "        df=df.rename(columns={\"transaction_date\":\"transaction_dt\"})\n",
    "    df=df[pd.notnull(df['customer_id_hashed'])]\n",
    "    df['item_transaction_amt']=df['item_transaction_amt'].astype(float)\n",
    "    \n",
    "    df_sales_by_store_id=df.groupby([\"location_id\",\"customer_id_hashed\"])['item_transaction_amt'].sum().to_frame().reset_index()\n",
    "    df_sales_by_store_id=df_sales_by_store_id.rename(columns={\"item_transaction_amt\":\"sales\"})\n",
    "    \n",
    "    df_trans_by_store_id=df[['location_id','transaction_dt','transaction_id','customer_id_hashed']].drop_duplicates()\n",
    "    df_trans_by_store_id=df_trans_by_store_id.groupby(['location_id','customer_id_hashed'])['transaction_id'].count().to_frame().reset_index()\n",
    "    df_trans_by_store_id=df_trans_by_store_id.rename(columns={\"transaction_id\":\"trans\"})\n",
    "    \n",
    "    df=pd.merge(df_sales_by_store_id,df_trans_by_store_id,on=['location_id','customer_id_hashed'],how=\"outer\")\n",
    "    df_rewards_sales_by_id_item=df_rewards_sales_by_id_item.append(df)\n",
    "    \n",
    "    i_counter+=1\n",
    "    \n",
    "    print(i_counter,datetime.datetime.now(),df_rewards_sales_by_id_item.shape)\n"
   ]
  },
  {
   "cell_type": "code",
   "execution_count": 36,
   "metadata": {
    "collapsed": true
   },
   "outputs": [],
   "source": [
    "df_rewards_sales_by_id_item=df_rewards_sales_by_id_item.groupby(['location_id','customer_id_hashed'])['sales','trans'].sum().reset_index()\n"
   ]
  },
  {
   "cell_type": "code",
   "execution_count": 78,
   "metadata": {},
   "outputs": [
    {
     "name": "stdout",
     "output_type": "stream",
     "text": [
      "(33495691, 4)\n"
     ]
    },
    {
     "data": {
      "text/html": [
       "<div>\n",
       "<style>\n",
       "    .dataframe thead tr:only-child th {\n",
       "        text-align: right;\n",
       "    }\n",
       "\n",
       "    .dataframe thead th {\n",
       "        text-align: left;\n",
       "    }\n",
       "\n",
       "    .dataframe tbody tr th {\n",
       "        vertical-align: top;\n",
       "    }\n",
       "</style>\n",
       "<table border=\"1\" class=\"dataframe\">\n",
       "  <thead>\n",
       "    <tr style=\"text-align: right;\">\n",
       "      <th></th>\n",
       "      <th>location_id</th>\n",
       "      <th>customer_id_hashed</th>\n",
       "      <th>sales</th>\n",
       "      <th>trans</th>\n",
       "    </tr>\n",
       "  </thead>\n",
       "  <tbody>\n",
       "    <tr>\n",
       "      <th>0</th>\n",
       "      <td>1</td>\n",
       "      <td>0000b201f4ee35c0b272fc2161b77d0e113096f4a62cad...</td>\n",
       "      <td>180.35</td>\n",
       "      <td>7</td>\n",
       "    </tr>\n",
       "    <tr>\n",
       "      <th>1</th>\n",
       "      <td>1</td>\n",
       "      <td>00039288d93a71887e27dd93c2209419ab0224532f2d45...</td>\n",
       "      <td>292.72</td>\n",
       "      <td>4</td>\n",
       "    </tr>\n",
       "  </tbody>\n",
       "</table>\n",
       "</div>"
      ],
      "text/plain": [
       "  location_id                                 customer_id_hashed   sales  \\\n",
       "0           1  0000b201f4ee35c0b272fc2161b77d0e113096f4a62cad...  180.35   \n",
       "1           1  00039288d93a71887e27dd93c2209419ab0224532f2d45...  292.72   \n",
       "\n",
       "   trans  \n",
       "0      7  \n",
       "1      4  "
      ]
     },
     "execution_count": 78,
     "metadata": {},
     "output_type": "execute_result"
    }
   ],
   "source": [
    "df_rewars_sales_all=df_rewards_sales_by_id_item.append(df_rewards_sales_by_id_subclass)\n",
    "df_rewars_sales_all=df_rewars_sales_all.groupby(['location_id','customer_id_hashed'])['sales','trans'].sum().reset_index()\n",
    "print(df_rewars_sales_all.shape)\n",
    "df_rewars_sales_all.head(2)"
   ]
  },
  {
   "cell_type": "code",
   "execution_count": 79,
   "metadata": {},
   "outputs": [],
   "source": [
    "df_rewars_sales_all=pd.merge(df_rewars_sales_all,dfiddetail,on=\"customer_id_hashed\",how=\"left\")\n",
    "df_rewars_sales_all['customer_zip_code']=df_rewars_sales_all['customer_zip_code'].fillna(\"00000\")"
   ]
  },
  {
   "cell_type": "code",
   "execution_count": 80,
   "metadata": {},
   "outputs": [
    {
     "data": {
      "text/plain": [
       "(2620110, 4)"
      ]
     },
     "execution_count": 80,
     "metadata": {},
     "output_type": "execute_result"
    }
   ],
   "source": [
    "df_rewars_sales_zip=df_rewars_sales_all.groupby(['location_id','customer_zip_code'])['sales','trans'].sum().reset_index()\n",
    "df_rewars_sales_zip=df_rewars_sales_zip.sort_values(['location_id','sales','trans'],ascending=[True,False,False])\n",
    "df_rewars_sales_zip.shape"
   ]
  },
  {
   "cell_type": "code",
   "execution_count": 81,
   "metadata": {},
   "outputs": [
    {
     "data": {
      "text/html": [
       "<div>\n",
       "<style>\n",
       "    .dataframe thead tr:only-child th {\n",
       "        text-align: right;\n",
       "    }\n",
       "\n",
       "    .dataframe thead th {\n",
       "        text-align: left;\n",
       "    }\n",
       "\n",
       "    .dataframe tbody tr th {\n",
       "        vertical-align: top;\n",
       "    }\n",
       "</style>\n",
       "<table border=\"1\" class=\"dataframe\">\n",
       "  <thead>\n",
       "    <tr style=\"text-align: right;\">\n",
       "      <th></th>\n",
       "      <th>customer_zip_code</th>\n",
       "      <th>valid_zip</th>\n",
       "    </tr>\n",
       "  </thead>\n",
       "  <tbody>\n",
       "    <tr>\n",
       "      <th>0</th>\n",
       "      <td>00501</td>\n",
       "      <td>Valid_Zip</td>\n",
       "    </tr>\n",
       "    <tr>\n",
       "      <th>1</th>\n",
       "      <td>00544</td>\n",
       "      <td>Valid_Zip</td>\n",
       "    </tr>\n",
       "  </tbody>\n",
       "</table>\n",
       "</div>"
      ],
      "text/plain": [
       "  customer_zip_code  valid_zip\n",
       "0             00501  Valid_Zip\n",
       "1             00544  Valid_Zip"
      ]
     },
     "execution_count": 81,
     "metadata": {},
     "output_type": "execute_result"
    }
   ],
   "source": [
    "nielsen_zips=pd.read_excel(\"/home/jian/Docs/Geo_mapping/Zips by DMA by County16-17 nielsen.xlsx\",skiprows=1,usecols=[0],dtype=str)\n",
    "nielsen_zips.columns=['customer_zip_code']\n",
    "nielsen_zips['valid_zip']=\"Valid_Zip\"\n",
    "nielsen_zips=nielsen_zips.drop_duplicates()\n",
    "nielsen_zips.head(2)"
   ]
  },
  {
   "cell_type": "code",
   "execution_count": 82,
   "metadata": {},
   "outputs": [
    {
     "data": {
      "text/html": [
       "<div>\n",
       "<style>\n",
       "    .dataframe thead tr:only-child th {\n",
       "        text-align: right;\n",
       "    }\n",
       "\n",
       "    .dataframe thead th {\n",
       "        text-align: left;\n",
       "    }\n",
       "\n",
       "    .dataframe tbody tr th {\n",
       "        vertical-align: top;\n",
       "    }\n",
       "</style>\n",
       "<table border=\"1\" class=\"dataframe\">\n",
       "  <thead>\n",
       "    <tr style=\"text-align: right;\">\n",
       "      <th></th>\n",
       "      <th>location_id</th>\n",
       "      <th>customer_zip_code</th>\n",
       "      <th>sales</th>\n",
       "      <th>trans</th>\n",
       "    </tr>\n",
       "  </thead>\n",
       "  <tbody>\n",
       "    <tr>\n",
       "      <th>727</th>\n",
       "      <td>1</td>\n",
       "      <td>43232</td>\n",
       "      <td>1201454.97</td>\n",
       "      <td>33784</td>\n",
       "    </tr>\n",
       "    <tr>\n",
       "      <th>703</th>\n",
       "      <td>1</td>\n",
       "      <td>43207</td>\n",
       "      <td>704307.65</td>\n",
       "      <td>14150</td>\n",
       "    </tr>\n",
       "  </tbody>\n",
       "</table>\n",
       "</div>"
      ],
      "text/plain": [
       "    location_id customer_zip_code       sales  trans\n",
       "727           1             43232  1201454.97  33784\n",
       "703           1             43207   704307.65  14150"
      ]
     },
     "execution_count": 82,
     "metadata": {},
     "output_type": "execute_result"
    }
   ],
   "source": [
    "df_rewars_sales_zip.head(2)"
   ]
  },
  {
   "cell_type": "code",
   "execution_count": 83,
   "metadata": {},
   "outputs": [],
   "source": [
    "df_rewars_sales_zip=pd.merge(df_rewars_sales_zip,nielsen_zips,on=\"customer_zip_code\",how=\"left\")\n",
    "df_rewars_sales_zip['valid_zip']=df_rewars_sales_zip['valid_zip'].fillna(\"Unknown_Zip\")"
   ]
  },
  {
   "cell_type": "code",
   "execution_count": 84,
   "metadata": {},
   "outputs": [
    {
     "data": {
      "text/plain": [
       "(2620110, 5)"
      ]
     },
     "execution_count": 84,
     "metadata": {},
     "output_type": "execute_result"
    }
   ],
   "source": [
    "df_rewars_sales_zip.shape"
   ]
  },
  {
   "cell_type": "code",
   "execution_count": 93,
   "metadata": {},
   "outputs": [
    {
     "data": {
      "text/plain": [
       "(2551531, 5)"
      ]
     },
     "execution_count": 93,
     "metadata": {},
     "output_type": "execute_result"
    }
   ],
   "source": [
    "df_rewars_sales_zip_valid=df_rewars_sales_zip[df_rewars_sales_zip['valid_zip']==\"Valid_Zip\"]\n",
    "df_rewars_sales_zip_valid.shape"
   ]
  },
  {
   "cell_type": "code",
   "execution_count": 95,
   "metadata": {},
   "outputs": [],
   "source": [
    "df_rewars_sales_zip.to_csv(\"./BL_sales_by_zip_2_years_up_to_\"+str(Last_Saturday)+\".csv\",index=False)\n",
    "df_rewars_sales_zip_valid.to_csv(\"./BL_sales_by_zip_valid_only_2_years_up_to_\"+str(Last_Saturday)+\".csv\",index=False)\n"
   ]
  },
  {
   "cell_type": "code",
   "execution_count": 96,
   "metadata": {},
   "outputs": [
    {
     "data": {
      "text/plain": [
       "38331"
      ]
     },
     "execution_count": 96,
     "metadata": {},
     "output_type": "execute_result"
    }
   ],
   "source": [
    "df_rewars_sales_zip_valid['customer_zip_code'].nunique()"
   ]
  },
  {
   "cell_type": "code",
   "execution_count": 87,
   "metadata": {},
   "outputs": [
    {
     "data": {
      "text/plain": [
       "(33495691, 5)"
      ]
     },
     "execution_count": 87,
     "metadata": {},
     "output_type": "execute_result"
    }
   ],
   "source": [
    "df_rewars_sales_all.shape"
   ]
  },
  {
   "cell_type": "code",
   "execution_count": 88,
   "metadata": {},
   "outputs": [
    {
     "data": {
      "text/html": [
       "<div>\n",
       "<style>\n",
       "    .dataframe thead tr:only-child th {\n",
       "        text-align: right;\n",
       "    }\n",
       "\n",
       "    .dataframe thead th {\n",
       "        text-align: left;\n",
       "    }\n",
       "\n",
       "    .dataframe tbody tr th {\n",
       "        vertical-align: top;\n",
       "    }\n",
       "</style>\n",
       "<table border=\"1\" class=\"dataframe\">\n",
       "  <thead>\n",
       "    <tr style=\"text-align: right;\">\n",
       "      <th></th>\n",
       "      <th>location_id</th>\n",
       "      <th>customer_id_hashed</th>\n",
       "      <th>sales</th>\n",
       "      <th>trans</th>\n",
       "      <th>customer_zip_code</th>\n",
       "    </tr>\n",
       "  </thead>\n",
       "  <tbody>\n",
       "    <tr>\n",
       "      <th>0</th>\n",
       "      <td>1</td>\n",
       "      <td>0000b201f4ee35c0b272fc2161b77d0e113096f4a62cad...</td>\n",
       "      <td>180.35</td>\n",
       "      <td>7</td>\n",
       "      <td>92020</td>\n",
       "    </tr>\n",
       "    <tr>\n",
       "      <th>1</th>\n",
       "      <td>1</td>\n",
       "      <td>00039288d93a71887e27dd93c2209419ab0224532f2d45...</td>\n",
       "      <td>292.72</td>\n",
       "      <td>4</td>\n",
       "      <td>43081</td>\n",
       "    </tr>\n",
       "  </tbody>\n",
       "</table>\n",
       "</div>"
      ],
      "text/plain": [
       "  location_id                                 customer_id_hashed   sales  \\\n",
       "0           1  0000b201f4ee35c0b272fc2161b77d0e113096f4a62cad...  180.35   \n",
       "1           1  00039288d93a71887e27dd93c2209419ab0224532f2d45...  292.72   \n",
       "\n",
       "   trans customer_zip_code  \n",
       "0      7             92020  \n",
       "1      4             43081  "
      ]
     },
     "execution_count": 88,
     "metadata": {},
     "output_type": "execute_result"
    }
   ],
   "source": [
    "df_rewars_sales_all.head(2)"
   ]
  },
  {
   "cell_type": "code",
   "execution_count": 89,
   "metadata": {},
   "outputs": [
    {
     "data": {
      "text/plain": [
       "23605010"
      ]
     },
     "execution_count": 89,
     "metadata": {},
     "output_type": "execute_result"
    }
   ],
   "source": [
    "df_rewars_sales_all['customer_id_hashed'].nunique()"
   ]
  },
  {
   "cell_type": "code",
   "execution_count": 90,
   "metadata": {
    "collapsed": true
   },
   "outputs": [],
   "source": [
    "df_rewars_sales_all.to_csv(\"./df_rewars_sales_all.csv\",index=False)"
   ]
  },
  {
   "cell_type": "code",
   "execution_count": 91,
   "metadata": {},
   "outputs": [
    {
     "data": {
      "text/plain": [
       "5439250.4899999928"
      ]
     },
     "execution_count": 91,
     "metadata": {},
     "output_type": "execute_result"
    }
   ],
   "source": [
    "df_qc_store_1=df_rewars_sales_zip[df_rewars_sales_zip['location_id']==\"1\"]\n",
    "\n",
    "df_qc_store_1['sales'].sum()"
   ]
  },
  {
   "cell_type": "code",
   "execution_count": 92,
   "metadata": {},
   "outputs": [
    {
     "data": {
      "text/plain": [
       "371119.50999999989"
      ]
     },
     "execution_count": 92,
     "metadata": {},
     "output_type": "execute_result"
    }
   ],
   "source": [
    "df_qc_store_1[df_qc_store_1['valid_zip']==\"Unknown_Zip\"]['sales'].sum()"
   ]
  },
  {
   "cell_type": "code",
   "execution_count": 94,
   "metadata": {},
   "outputs": [
    {
     "data": {
      "text/plain": [
       "0.06822989871165143"
      ]
     },
     "execution_count": 94,
     "metadata": {},
     "output_type": "execute_result"
    }
   ],
   "source": [
    "371119.50999999989/5439250.4899999928"
   ]
  },
  {
   "cell_type": "code",
   "execution_count": null,
   "metadata": {
    "collapsed": true
   },
   "outputs": [],
   "source": []
  }
 ],
 "metadata": {
  "kernelspec": {
   "display_name": "Python 3",
   "language": "python",
   "name": "python3"
  },
  "language_info": {
   "codemirror_mode": {
    "name": "ipython",
    "version": 3
   },
   "file_extension": ".py",
   "mimetype": "text/x-python",
   "name": "python",
   "nbconvert_exporter": "python",
   "pygments_lexer": "ipython3",
   "version": "3.6.1"
  }
 },
 "nbformat": 4,
 "nbformat_minor": 2
}
