{
 "cells": [
  {
   "cell_type": "code",
   "execution_count": 3,
   "metadata": {},
   "outputs": [
    {
     "data": {
      "text/plain": [
       "'/home/jian/BigLots/MediaStorm_2018-09-08'"
      ]
     },
     "execution_count": 3,
     "metadata": {},
     "output_type": "execute_result"
    }
   ],
   "source": [
    "import pandas as pd\n",
    "import os\n",
    "os.getcwd()"
   ]
  },
  {
   "cell_type": "code",
   "execution_count": 4,
   "metadata": {
    "collapsed": true
   },
   "outputs": [],
   "source": [
    "weekly_data=pd.read_table(\"/home/jian/BigLots/MediaStorm_2018-09-08/MediaStormSalesWeekly20180911-121255-891.txt\",nrows=100,sep=\"|\")"
   ]
  },
  {
   "cell_type": "code",
   "execution_count": 5,
   "metadata": {},
   "outputs": [
    {
     "data": {
      "text/html": [
       "<div>\n",
       "<style>\n",
       "    .dataframe thead tr:only-child th {\n",
       "        text-align: right;\n",
       "    }\n",
       "\n",
       "    .dataframe thead th {\n",
       "        text-align: left;\n",
       "    }\n",
       "\n",
       "    .dataframe tbody tr th {\n",
       "        vertical-align: top;\n",
       "    }\n",
       "</style>\n",
       "<table border=\"1\" class=\"dataframe\">\n",
       "  <thead>\n",
       "    <tr style=\"text-align: right;\">\n",
       "      <th></th>\n",
       "      <th>location_id</th>\n",
       "      <th>week_end_dt</th>\n",
       "      <th>fiscal_week_nbr</th>\n",
       "      <th>gross_sales_amt</th>\n",
       "      <th>gross_transaction_cnt</th>\n",
       "      <th>class_code_id</th>\n",
       "      <th>subclass_id</th>\n",
       "      <th>subclass_gross_sales_amt</th>\n",
       "    </tr>\n",
       "  </thead>\n",
       "  <tbody>\n",
       "    <tr>\n",
       "      <th>0</th>\n",
       "      <td>1</td>\n",
       "      <td>2018-09-08</td>\n",
       "      <td>31</td>\n",
       "      <td>98971.55</td>\n",
       "      <td>2389</td>\n",
       "      <td>11001</td>\n",
       "      <td>2</td>\n",
       "      <td>468.09</td>\n",
       "    </tr>\n",
       "    <tr>\n",
       "      <th>1</th>\n",
       "      <td>1</td>\n",
       "      <td>2018-09-08</td>\n",
       "      <td>31</td>\n",
       "      <td>98971.55</td>\n",
       "      <td>2389</td>\n",
       "      <td>11001</td>\n",
       "      <td>4</td>\n",
       "      <td>17.34</td>\n",
       "    </tr>\n",
       "  </tbody>\n",
       "</table>\n",
       "</div>"
      ],
      "text/plain": [
       "   location_id week_end_dt  fiscal_week_nbr  gross_sales_amt  \\\n",
       "0            1  2018-09-08               31         98971.55   \n",
       "1            1  2018-09-08               31         98971.55   \n",
       "\n",
       "   gross_transaction_cnt  class_code_id  subclass_id  subclass_gross_sales_amt  \n",
       "0                   2389          11001            2                    468.09  \n",
       "1                   2389          11001            4                     17.34  "
      ]
     },
     "execution_count": 5,
     "metadata": {},
     "output_type": "execute_result"
    }
   ],
   "source": [
    "weekly_data.head(2)"
   ]
  },
  {
   "cell_type": "code",
   "execution_count": 6,
   "metadata": {},
   "outputs": [
    {
     "data": {
      "text/html": [
       "<div>\n",
       "<style>\n",
       "    .dataframe thead tr:only-child th {\n",
       "        text-align: right;\n",
       "    }\n",
       "\n",
       "    .dataframe thead th {\n",
       "        text-align: left;\n",
       "    }\n",
       "\n",
       "    .dataframe tbody tr th {\n",
       "        vertical-align: top;\n",
       "    }\n",
       "</style>\n",
       "<table border=\"1\" class=\"dataframe\">\n",
       "  <thead>\n",
       "    <tr style=\"text-align: right;\">\n",
       "      <th></th>\n",
       "      <th>location_id</th>\n",
       "      <th>transaction_dt</th>\n",
       "      <th>transaction_id</th>\n",
       "      <th>customer_id_hashed</th>\n",
       "      <th>class_code_id</th>\n",
       "      <th>subclass_id</th>\n",
       "      <th>subclass_transaction_units</th>\n",
       "      <th>subclass_transaction_amt</th>\n",
       "    </tr>\n",
       "  </thead>\n",
       "  <tbody>\n",
       "    <tr>\n",
       "      <th>0</th>\n",
       "      <td>4586</td>\n",
       "      <td>2018-09-02</td>\n",
       "      <td>2643</td>\n",
       "      <td>NaN</td>\n",
       "      <td>12004</td>\n",
       "      <td>3</td>\n",
       "      <td>1</td>\n",
       "      <td>3.0</td>\n",
       "    </tr>\n",
       "    <tr>\n",
       "      <th>1</th>\n",
       "      <td>4669</td>\n",
       "      <td>2018-09-03</td>\n",
       "      <td>9443</td>\n",
       "      <td>NaN</td>\n",
       "      <td>11001</td>\n",
       "      <td>3</td>\n",
       "      <td>2</td>\n",
       "      <td>1.7</td>\n",
       "    </tr>\n",
       "    <tr>\n",
       "      <th>2</th>\n",
       "      <td>5236</td>\n",
       "      <td>2018-09-07</td>\n",
       "      <td>6231</td>\n",
       "      <td>NaN</td>\n",
       "      <td>11003</td>\n",
       "      <td>14</td>\n",
       "      <td>2</td>\n",
       "      <td>3.2</td>\n",
       "    </tr>\n",
       "  </tbody>\n",
       "</table>\n",
       "</div>"
      ],
      "text/plain": [
       "   location_id transaction_dt  transaction_id customer_id_hashed  \\\n",
       "0         4586     2018-09-02            2643                NaN   \n",
       "1         4669     2018-09-03            9443                NaN   \n",
       "2         5236     2018-09-07            6231                NaN   \n",
       "\n",
       "   class_code_id  subclass_id  subclass_transaction_units  \\\n",
       "0          12004            3                           1   \n",
       "1          11001            3                           2   \n",
       "2          11003           14                           2   \n",
       "\n",
       "   subclass_transaction_amt  \n",
       "0                       3.0  \n",
       "1                       1.7  \n",
       "2                       3.2  "
      ]
     },
     "execution_count": 6,
     "metadata": {},
     "output_type": "execute_result"
    }
   ],
   "source": [
    "daily_data=pd.read_table(\"/home/jian/BigLots/MediaStorm_2018-09-08/MediaStormDailySales20180911-120816-779.txt\",nrows=100,sep=\"|\")\n",
    "daily_data.head(3)"
   ]
  },
  {
   "cell_type": "code",
   "execution_count": 7,
   "metadata": {},
   "outputs": [
    {
     "data": {
      "text/html": [
       "<div>\n",
       "<style>\n",
       "    .dataframe thead tr:only-child th {\n",
       "        text-align: right;\n",
       "    }\n",
       "\n",
       "    .dataframe thead th {\n",
       "        text-align: left;\n",
       "    }\n",
       "\n",
       "    .dataframe tbody tr th {\n",
       "        vertical-align: top;\n",
       "    }\n",
       "</style>\n",
       "<table border=\"1\" class=\"dataframe\">\n",
       "  <thead>\n",
       "    <tr style=\"text-align: right;\">\n",
       "      <th></th>\n",
       "      <th>customer_id_hashed</th>\n",
       "      <th>transaction_dt</th>\n",
       "      <th>transaction_time</th>\n",
       "      <th>transaction_id</th>\n",
       "      <th>location_id</th>\n",
       "      <th>total_transaction_amt</th>\n",
       "      <th>total_transaction_units</th>\n",
       "      <th>merch_cat</th>\n",
       "    </tr>\n",
       "  </thead>\n",
       "  <tbody>\n",
       "    <tr>\n",
       "      <th>0</th>\n",
       "      <td>78529f1faaf55eda95c929ae3423447504250c5c3f617d...</td>\n",
       "      <td>2018-09-02</td>\n",
       "      <td>11:06</td>\n",
       "      <td>8761</td>\n",
       "      <td>1997</td>\n",
       "      <td>36.05</td>\n",
       "      <td>14.0</td>\n",
       "      <td>11007006</td>\n",
       "    </tr>\n",
       "    <tr>\n",
       "      <th>1</th>\n",
       "      <td>5deef9a7a81fa5148ce58ad784d04e4c4d915a11389e6a...</td>\n",
       "      <td>2018-08-28</td>\n",
       "      <td>15:16</td>\n",
       "      <td>1764</td>\n",
       "      <td>371</td>\n",
       "      <td>8.00</td>\n",
       "      <td>2.0</td>\n",
       "      <td>12002001</td>\n",
       "    </tr>\n",
       "    <tr>\n",
       "      <th>2</th>\n",
       "      <td>46810561db834ebea9041d2ef57aa2b06de905b5e98968...</td>\n",
       "      <td>2018-09-07</td>\n",
       "      <td>11:17</td>\n",
       "      <td>4530</td>\n",
       "      <td>4247</td>\n",
       "      <td>637.70</td>\n",
       "      <td>11.0</td>\n",
       "      <td>61501002</td>\n",
       "    </tr>\n",
       "    <tr>\n",
       "      <th>3</th>\n",
       "      <td>0b788371c038fe1c09ed1ffb3f82d156d850903340b3b5...</td>\n",
       "      <td>2018-08-26</td>\n",
       "      <td>10:24</td>\n",
       "      <td>6752</td>\n",
       "      <td>428</td>\n",
       "      <td>66.59</td>\n",
       "      <td>9.0</td>\n",
       "      <td>21034003</td>\n",
       "    </tr>\n",
       "    <tr>\n",
       "      <th>4</th>\n",
       "      <td>6b7f473465293a7704fc6a153e71951a10c019bdd0a3d2...</td>\n",
       "      <td>2018-08-30</td>\n",
       "      <td>17:33</td>\n",
       "      <td>2550</td>\n",
       "      <td>1917</td>\n",
       "      <td>91.80</td>\n",
       "      <td>13.0</td>\n",
       "      <td>35047002</td>\n",
       "    </tr>\n",
       "  </tbody>\n",
       "</table>\n",
       "</div>"
      ],
      "text/plain": [
       "                                  customer_id_hashed transaction_dt  \\\n",
       "0  78529f1faaf55eda95c929ae3423447504250c5c3f617d...     2018-09-02   \n",
       "1  5deef9a7a81fa5148ce58ad784d04e4c4d915a11389e6a...     2018-08-28   \n",
       "2  46810561db834ebea9041d2ef57aa2b06de905b5e98968...     2018-09-07   \n",
       "3  0b788371c038fe1c09ed1ffb3f82d156d850903340b3b5...     2018-08-26   \n",
       "4  6b7f473465293a7704fc6a153e71951a10c019bdd0a3d2...     2018-08-30   \n",
       "\n",
       "  transaction_time  transaction_id  location_id  total_transaction_amt  \\\n",
       "0            11:06            8761         1997                  36.05   \n",
       "1            15:16            1764          371                   8.00   \n",
       "2            11:17            4530         4247                 637.70   \n",
       "3            10:24            6752          428                  66.59   \n",
       "4            17:33            2550         1917                  91.80   \n",
       "\n",
       "   total_transaction_units  merch_cat  \n",
       "0                     14.0   11007006  \n",
       "1                      2.0   12002001  \n",
       "2                     11.0   61501002  \n",
       "3                      9.0   21034003  \n",
       "4                     13.0   35047002  "
      ]
     },
     "execution_count": 7,
     "metadata": {},
     "output_type": "execute_result"
    }
   ],
   "source": [
    "rewards_data=pd.read_table(\"/home/jian/BigLots/MediaStorm_2018-09-08/MediaStormSalesBiWeekly20180911-133008-590.txt\",nrows=100,sep=\"|\")\n",
    "rewards_data.head(5)\n",
    "\n"
   ]
  },
  {
   "cell_type": "code",
   "execution_count": null,
   "metadata": {
    "collapsed": true
   },
   "outputs": [],
   "source": []
  }
 ],
 "metadata": {
  "kernelspec": {
   "display_name": "Python 3",
   "language": "python",
   "name": "python3"
  },
  "language_info": {
   "codemirror_mode": {
    "name": "ipython",
    "version": 3
   },
   "file_extension": ".py",
   "mimetype": "text/x-python",
   "name": "python",
   "nbconvert_exporter": "python",
   "pygments_lexer": "ipython3",
   "version": "3.6.1"
  }
 },
 "nbformat": 4,
 "nbformat_minor": 2
}
