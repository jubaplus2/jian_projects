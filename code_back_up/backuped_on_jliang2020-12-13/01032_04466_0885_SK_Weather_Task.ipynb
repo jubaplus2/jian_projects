{
 "cells": [
  {
   "cell_type": "code",
   "execution_count": null,
   "metadata": {
    "collapsed": true
   },
   "outputs": [],
   "source": [
    "from celery import Celery\n",
    "celery = Celery('SK_Weather_Task')\n",
    "celery.config_from_object('SK_weather_celeryconfig')\n",
    "\n",
    "import json\n",
    "from urllib import request\n",
    "import time\n",
    "import datetime\n",
    "\n",
    "import logging\n",
    "logging.basicConfig(filename='SK_Weather_openweathermap.log',level=logging.INFO,format='%(asctime)s %(message)s')\n",
    "\n",
    "@celery.task\n",
    "def fetch_weather_for_SK_zips():\n",
    "    zip_list =json.load(open('/home/jian/Projects/Smoothie_King/Weather_Data/zips_for_SmoothieKing_stores.json', 'r'))\n",
    "\n",
    "    weather_by_zip = dict()\n",
    "    for zip_code in zip_list:\n",
    "        url = 'http://api.openweathermap.org/data/2.5/weather?zip=%s,us&appid=f7f8e8da09d515073ef5c781fd2ceb48'%zip_code\n",
    "        time.sleep(1)\n",
    "        try:\n",
    "            req = request.urlopen(url)\n",
    "            # response = urllib2.urlopen(req)\n",
    "            result = req.read()\n",
    "\n",
    "            weather_by_zip[zip_code] = eval(result)\n",
    "            \n",
    "            #logging.info('%s suceeded.'%zip_code)\n",
    "        except Exception as e:\n",
    "            logging.info('%s %s'%(zip_code, e))\n",
    "\n",
    "    json.dump(weather_by_zip, open('/home/jian/Projects/Smoothie_King/Weather_Data/Daily_Actual/%s.json'%datetime.datetime.now().strftime('%Y-%m-%d: %H'), 'w'))\n",
    "    \n",
    "    forcast_weather_by_zip = dict()\n",
    "    for zip_code in zip_list:\n",
    "        url = 'http://api.openweathermap.org/data/2.5/forecast?zip=%s,us&appid=f7f8e8da09d515073ef5c781fd2ceb48'%zip_code\n",
    "        time.sleep(1)\n",
    "        try:\n",
    "            req = request.urlopen(url)\n",
    "            # response = urllib2.urlopen(req)\n",
    "            result = req.read()\n",
    "\n",
    "            forcast_weather_by_zip[zip_code] = eval(result)\n",
    "            \n",
    "            #logging.info('%s suceeded.'%zip_code)\n",
    "        except Exception as e:\n",
    "            logging.info('%s %s'%(zip_code, e))\n",
    "\n",
    "    json.dump(forcast_weather_by_zip, open('/home/jian/Projects/Smoothie_King/Weather_Data/Forecast/%s.json'%datetime.datetime.now().strftime('%Y-%m-%d: %H'), 'w'))\n"
   ]
  },
  {
   "cell_type": "code",
   "execution_count": 2,
   "metadata": {},
   "outputs": [],
   "source": [
    "import json\n",
    "from urllib import request\n",
    "import time\n",
    "import datetime\n",
    "zip_list =json.load(open('/home/jian/Projects/Smoothie_King/Weather_Data/zips_for_SmoothieKing_stores.json', 'r'))"
   ]
  },
  {
   "cell_type": "code",
   "execution_count": 3,
   "metadata": {
    "collapsed": true
   },
   "outputs": [],
   "source": [
    "zip_code=zip_list[3]"
   ]
  },
  {
   "cell_type": "code",
   "execution_count": 5,
   "metadata": {},
   "outputs": [
    {
     "name": "stdout",
     "output_type": "stream",
     "text": [
      "21054 HTTP Error 401: Unauthorized\n"
     ]
    }
   ],
   "source": [
    "url = 'http://api.openweathermap.org/data/2.5/weather?zip=%s,us&appid=f7f8e8da09d515073ef5c781fd2ceb48'%zip_code\n",
    "time.sleep(1)\n",
    "try:\n",
    "    req = request.urlopen(url)\n",
    "    # response = urllib2.urlopen(req)\n",
    "    result = req.read()\n",
    "\n",
    "    weather_by_zip[zip_code] = eval(result)\n",
    "except Exception as e:\n",
    "    print('%s %s'%(zip_code, e))"
   ]
  },
  {
   "cell_type": "code",
   "execution_count": null,
   "metadata": {
    "collapsed": true
   },
   "outputs": [],
   "source": []
  }
 ],
 "metadata": {
  "kernelspec": {
   "display_name": "Python 3",
   "language": "python",
   "name": "python3"
  },
  "language_info": {
   "codemirror_mode": {
    "name": "ipython",
    "version": 3
   },
   "file_extension": ".py",
   "mimetype": "text/x-python",
   "name": "python",
   "nbconvert_exporter": "python",
   "pygments_lexer": "ipython3",
   "version": "3.6.1"
  }
 },
 "nbformat": 4,
 "nbformat_minor": 2
}
