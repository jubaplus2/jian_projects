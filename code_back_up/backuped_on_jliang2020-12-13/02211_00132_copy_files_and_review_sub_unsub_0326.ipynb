{
 "cells": [
  {
   "cell_type": "code",
   "execution_count": 1,
   "metadata": {},
   "outputs": [
    {
     "data": {
      "text/plain": [
       "'/home/jian/BigLots/AgilOne'"
      ]
     },
     "execution_count": 1,
     "metadata": {},
     "output_type": "execute_result"
    }
   ],
   "source": [
    "import pandas as pd\n",
    "import numpy as np\n",
    "import datetime\n",
    "import os\n",
    "import paramiko\n",
    "\n",
    "os.getcwd()"
   ]
  },
  {
   "cell_type": "code",
   "execution_count": 2,
   "metadata": {},
   "outputs": [],
   "source": [
    "host = \"64.237.51.251\" #hard-coded\n",
    "port = 22\n",
    "transport = paramiko.Transport((host, port))\n",
    "\n",
    "password = \"2d2HWm5y8pbtLn9U\" #hard-coded\n",
    "username = \"agilone\" #hard-coded\n",
    "transport.connect(username = username, password = password)\n",
    "sftp = paramiko.SFTPClient.from_transport(transport)"
   ]
  },
  {
   "cell_type": "code",
   "execution_count": 3,
   "metadata": {},
   "outputs": [
    {
     "data": {
      "text/plain": [
       "['/mnt/drv5/agilone/BL_Email_UnSubscriber_File_Catchup__20200325040427.csv',\n",
       " '/mnt/drv5/agilone/BL_Email_Subscriber_File_Catchup__20200325040440.csv']"
      ]
     },
     "execution_count": 3,
     "metadata": {},
     "output_type": "execute_result"
    }
   ],
   "source": [
    "remote_folder=\"/mnt/drv5/agilone/\"\n",
    "list_remote_files=[remote_folder+x for x in sftp.listdir(remote_folder)]\n",
    "\n",
    "list_remote_files=[x for x in list_remote_files if pd.to_datetime(sftp.stat(x).st_mtime,unit=\"s\")>=datetime.datetime.now()-datetime.timedelta(days=1)]\n",
    "list_remote_files=[x for x in list_remote_files if x[-4]==\".\"]\n",
    "list_remote_files"
   ]
  },
  {
   "cell_type": "code",
   "execution_count": 4,
   "metadata": {},
   "outputs": [],
   "source": [
    "for file in list_remote_files:\n",
    "    basename=os.path.basename(file)\n",
    "    local_path=\"./\"+basename\n",
    "    sftp.get(file,local_path)\n",
    "sftp.close()\n",
    "transport.close()"
   ]
  },
  {
   "cell_type": "code",
   "execution_count": 6,
   "metadata": {},
   "outputs": [
    {
     "name": "stdout",
     "output_type": "stream",
     "text": [
      "df_subscriber_catchup.shape (19052246, 7)\n",
      "df_subscriber_catchup['customersummary_mastercustomerid'].nunique() 19052246\n",
      "df_subscriber_catchup['customersummary_emailhash'].nunique() 19042598\n",
      "df_subscriber_catchup['customersummary_c_primaryscnhash'].nunique() 19051703\n",
      "df_subscriber_catchup['customersummary_c_adsgroupmembershipsunsubscribed'].unique() ['N']\n",
      "df_subscriber_catchup['customersummary_c_promosgroupmembershipsunsubscribed'].unique() ['N']\n"
     ]
    }
   ],
   "source": [
    "df_subscriber_catchup=pd.read_csv(\"./BL_Email_Subscriber_File_Catchup__20200325040440.csv\",dtype=str)\n",
    "print(\"df_subscriber_catchup.shape\",df_subscriber_catchup.shape)\n",
    "print(\"df_subscriber_catchup['customersummary_mastercustomerid'].nunique()\",df_subscriber_catchup['customersummary_mastercustomerid'].nunique())\n",
    "print(\"df_subscriber_catchup['customersummary_emailhash'].nunique()\",df_subscriber_catchup['customersummary_emailhash'].nunique())\n",
    "print(\"df_subscriber_catchup['customersummary_c_primaryscnhash'].nunique()\",df_subscriber_catchup['customersummary_c_primaryscnhash'].nunique())\n",
    "print(\"df_subscriber_catchup['customersummary_c_adsgroupmembershipsunsubscribed'].unique()\",df_subscriber_catchup['customersummary_c_adsgroupmembershipsunsubscribed'].unique())\n",
    "print(\"df_subscriber_catchup['customersummary_c_promosgroupmembershipsunsubscribed'].unique()\",df_subscriber_catchup['customersummary_c_promosgroupmembershipsunsubscribed'].unique())\n"
   ]
  },
  {
   "cell_type": "code",
   "execution_count": 11,
   "metadata": {},
   "outputs": [
    {
     "data": {
      "text/html": [
       "<div>\n",
       "<style scoped>\n",
       "    .dataframe tbody tr th:only-of-type {\n",
       "        vertical-align: middle;\n",
       "    }\n",
       "\n",
       "    .dataframe tbody tr th {\n",
       "        vertical-align: top;\n",
       "    }\n",
       "\n",
       "    .dataframe thead th {\n",
       "        text-align: right;\n",
       "    }\n",
       "</style>\n",
       "<table border=\"1\" class=\"dataframe\">\n",
       "  <thead>\n",
       "    <tr style=\"text-align: right;\">\n",
       "      <th></th>\n",
       "      <th>customersummary_mastercustomerid</th>\n",
       "      <th>customersummary_emailhash</th>\n",
       "      <th>customersummary_c_primaryscnhash</th>\n",
       "      <th>customersummary_c_datecreated</th>\n",
       "      <th>customersummary_c_adsgroupmembershipsunsubscribed</th>\n",
       "      <th>customersummary_c_promosgroupmembershipsunsubscribed</th>\n",
       "      <th>execution_id</th>\n",
       "    </tr>\n",
       "  </thead>\n",
       "  <tbody>\n",
       "    <tr>\n",
       "      <th>0</th>\n",
       "      <td>FTP_CSV_5_43246474</td>\n",
       "      <td>afc94134020c39f03c8e2c0897819023214071a5e67b9f...</td>\n",
       "      <td>bb361595408fe8e7535a3aa6bfca0ec287f3f204edaaac...</td>\n",
       "      <td>1489769525814</td>\n",
       "      <td>N</td>\n",
       "      <td>N</td>\n",
       "      <td>1585152071750</td>\n",
       "    </tr>\n",
       "    <tr>\n",
       "      <th>1</th>\n",
       "      <td>FTP_CSV_5_55628261</td>\n",
       "      <td>8c18fb0ac286fb94ed97a1275518fdbab6e610926a6671...</td>\n",
       "      <td>7c7be103ef96b0c5b5c60a928ea20ad3a0d897e8d9dc0d...</td>\n",
       "      <td>1560525655324</td>\n",
       "      <td>N</td>\n",
       "      <td>N</td>\n",
       "      <td>1585152071750</td>\n",
       "    </tr>\n",
       "  </tbody>\n",
       "</table>\n",
       "</div>"
      ],
      "text/plain": [
       "  customersummary_mastercustomerid  \\\n",
       "0               FTP_CSV_5_43246474   \n",
       "1               FTP_CSV_5_55628261   \n",
       "\n",
       "                           customersummary_emailhash  \\\n",
       "0  afc94134020c39f03c8e2c0897819023214071a5e67b9f...   \n",
       "1  8c18fb0ac286fb94ed97a1275518fdbab6e610926a6671...   \n",
       "\n",
       "                    customersummary_c_primaryscnhash  \\\n",
       "0  bb361595408fe8e7535a3aa6bfca0ec287f3f204edaaac...   \n",
       "1  7c7be103ef96b0c5b5c60a928ea20ad3a0d897e8d9dc0d...   \n",
       "\n",
       "  customersummary_c_datecreated  \\\n",
       "0                 1489769525814   \n",
       "1                 1560525655324   \n",
       "\n",
       "  customersummary_c_adsgroupmembershipsunsubscribed  \\\n",
       "0                                                 N   \n",
       "1                                                 N   \n",
       "\n",
       "  customersummary_c_promosgroupmembershipsunsubscribed   execution_id  \n",
       "0                                                  N    1585152071750  \n",
       "1                                                  N    1585152071750  "
      ]
     },
     "execution_count": 11,
     "metadata": {},
     "output_type": "execute_result"
    }
   ],
   "source": [
    "df_subscriber_catchup.head(2)"
   ]
  },
  {
   "cell_type": "code",
   "execution_count": 7,
   "metadata": {},
   "outputs": [
    {
     "data": {
      "text/html": [
       "<div>\n",
       "<style scoped>\n",
       "    .dataframe tbody tr th:only-of-type {\n",
       "        vertical-align: middle;\n",
       "    }\n",
       "\n",
       "    .dataframe tbody tr th {\n",
       "        vertical-align: top;\n",
       "    }\n",
       "\n",
       "    .dataframe thead th {\n",
       "        text-align: right;\n",
       "    }\n",
       "</style>\n",
       "<table border=\"1\" class=\"dataframe\">\n",
       "  <thead>\n",
       "    <tr style=\"text-align: right;\">\n",
       "      <th></th>\n",
       "      <th>customersummary_c_adsgroupmembershipsunsubscribed</th>\n",
       "      <th>customersummary_c_promosgroupmembershipsunsubscribed</th>\n",
       "      <th>customersummary_c_primaryscnhash</th>\n",
       "    </tr>\n",
       "  </thead>\n",
       "  <tbody>\n",
       "    <tr>\n",
       "      <th>0</th>\n",
       "      <td>N</td>\n",
       "      <td>N</td>\n",
       "      <td>19052246</td>\n",
       "    </tr>\n",
       "  </tbody>\n",
       "</table>\n",
       "</div>"
      ],
      "text/plain": [
       "  customersummary_c_adsgroupmembershipsunsubscribed  \\\n",
       "0                                                 N   \n",
       "\n",
       "  customersummary_c_promosgroupmembershipsunsubscribed  \\\n",
       "0                                                  N     \n",
       "\n",
       "   customersummary_c_primaryscnhash  \n",
       "0                          19052246  "
      ]
     },
     "execution_count": 7,
     "metadata": {},
     "output_type": "execute_result"
    }
   ],
   "source": [
    "df_subscriber_catchup['customersummary_c_adsgroupmembershipsunsubscribed']=df_subscriber_catchup['customersummary_c_adsgroupmembershipsunsubscribed'].fillna(\"nan\")\n",
    "df_subscriber_catchup['customersummary_c_promosgroupmembershipsunsubscribed']=df_subscriber_catchup['customersummary_c_promosgroupmembershipsunsubscribed'].fillna(\"nan\")\n",
    "df_1_qc=df_subscriber_catchup.groupby(['customersummary_c_adsgroupmembershipsunsubscribed','customersummary_c_promosgroupmembershipsunsubscribed'])['customersummary_c_primaryscnhash'].count().to_frame().reset_index()\n",
    "df_1_qc"
   ]
  },
  {
   "cell_type": "code",
   "execution_count": 8,
   "metadata": {},
   "outputs": [
    {
     "name": "stdout",
     "output_type": "stream",
     "text": [
      "df_Unsubscriber_catchup.shape (3033891, 7)\n",
      "df_Unsubscriber_catchup['customersummary_mastercustomerid'].nunique() 3033891\n",
      "df_Unsubscriber_catchup['customersummary_emailhash'].nunique() 3033273\n",
      "df_Unsubscriber_catchup['customersummary_c_primaryscnhash'].nunique() 3033273\n",
      "df_Unsubscriber_catchup['customersummary_c_adsgroupmembershipsunsubscribed'].unique() ['Y' 'N' nan]\n",
      "df_Unsubscriber_catchup['customersummary_c_promosgroupmembershipsunsubscribed'].unique() ['Y' 'N' nan]\n"
     ]
    }
   ],
   "source": [
    "df_Unsubscriber_catchup=pd.read_csv(\"./BL_Email_UnSubscriber_File_Catchup__20200325040427.csv\",dtype=str)\n",
    "print(\"df_Unsubscriber_catchup.shape\",df_Unsubscriber_catchup.shape)\n",
    "print(\"df_Unsubscriber_catchup['customersummary_mastercustomerid'].nunique()\",df_Unsubscriber_catchup['customersummary_mastercustomerid'].nunique())\n",
    "print(\"df_Unsubscriber_catchup['customersummary_emailhash'].nunique()\",df_Unsubscriber_catchup['customersummary_emailhash'].nunique())\n",
    "print(\"df_Unsubscriber_catchup['customersummary_c_primaryscnhash'].nunique()\",df_Unsubscriber_catchup['customersummary_c_primaryscnhash'].nunique())\n",
    "print(\"df_Unsubscriber_catchup['customersummary_c_adsgroupmembershipsunsubscribed'].unique()\",df_Unsubscriber_catchup['customersummary_c_adsgroupmembershipsunsubscribed'].unique())\n",
    "print(\"df_Unsubscriber_catchup['customersummary_c_promosgroupmembershipsunsubscribed'].unique()\",df_Unsubscriber_catchup['customersummary_c_promosgroupmembershipsunsubscribed'].unique())\n"
   ]
  },
  {
   "cell_type": "code",
   "execution_count": 9,
   "metadata": {},
   "outputs": [
    {
     "data": {
      "text/html": [
       "<div>\n",
       "<style scoped>\n",
       "    .dataframe tbody tr th:only-of-type {\n",
       "        vertical-align: middle;\n",
       "    }\n",
       "\n",
       "    .dataframe tbody tr th {\n",
       "        vertical-align: top;\n",
       "    }\n",
       "\n",
       "    .dataframe thead th {\n",
       "        text-align: right;\n",
       "    }\n",
       "</style>\n",
       "<table border=\"1\" class=\"dataframe\">\n",
       "  <thead>\n",
       "    <tr style=\"text-align: right;\">\n",
       "      <th></th>\n",
       "      <th>customersummary_c_adsgroupmembershipsunsubscribed</th>\n",
       "      <th>customersummary_c_promosgroupmembershipsunsubscribed</th>\n",
       "      <th>customersummary_c_primaryscnhash</th>\n",
       "    </tr>\n",
       "  </thead>\n",
       "  <tbody>\n",
       "    <tr>\n",
       "      <th>0</th>\n",
       "      <td>N</td>\n",
       "      <td>Y</td>\n",
       "      <td>3834</td>\n",
       "    </tr>\n",
       "    <tr>\n",
       "      <th>1</th>\n",
       "      <td>Y</td>\n",
       "      <td>N</td>\n",
       "      <td>21144</td>\n",
       "    </tr>\n",
       "    <tr>\n",
       "      <th>2</th>\n",
       "      <td>Y</td>\n",
       "      <td>Y</td>\n",
       "      <td>3008130</td>\n",
       "    </tr>\n",
       "    <tr>\n",
       "      <th>3</th>\n",
       "      <td>Y</td>\n",
       "      <td>nan</td>\n",
       "      <td>39</td>\n",
       "    </tr>\n",
       "    <tr>\n",
       "      <th>4</th>\n",
       "      <td>nan</td>\n",
       "      <td>Y</td>\n",
       "      <td>744</td>\n",
       "    </tr>\n",
       "  </tbody>\n",
       "</table>\n",
       "</div>"
      ],
      "text/plain": [
       "  customersummary_c_adsgroupmembershipsunsubscribed  \\\n",
       "0                                                 N   \n",
       "1                                                 Y   \n",
       "2                                                 Y   \n",
       "3                                                 Y   \n",
       "4                                               nan   \n",
       "\n",
       "  customersummary_c_promosgroupmembershipsunsubscribed  \\\n",
       "0                                                  Y     \n",
       "1                                                  N     \n",
       "2                                                  Y     \n",
       "3                                                nan     \n",
       "4                                                  Y     \n",
       "\n",
       "   customersummary_c_primaryscnhash  \n",
       "0                              3834  \n",
       "1                             21144  \n",
       "2                           3008130  \n",
       "3                                39  \n",
       "4                               744  "
      ]
     },
     "execution_count": 9,
     "metadata": {},
     "output_type": "execute_result"
    }
   ],
   "source": [
    "df_Unsubscriber_catchup['customersummary_c_adsgroupmembershipsunsubscribed']=df_Unsubscriber_catchup['customersummary_c_adsgroupmembershipsunsubscribed'].fillna(\"nan\")\n",
    "df_Unsubscriber_catchup['customersummary_c_promosgroupmembershipsunsubscribed']=df_Unsubscriber_catchup['customersummary_c_promosgroupmembershipsunsubscribed'].fillna(\"nan\")\n",
    "df_2_qc=df_Unsubscriber_catchup.groupby(['customersummary_c_adsgroupmembershipsunsubscribed','customersummary_c_promosgroupmembershipsunsubscribed'])['customersummary_c_primaryscnhash'].count().to_frame().reset_index()\n",
    "df_2_qc"
   ]
  },
  {
   "cell_type": "code",
   "execution_count": 10,
   "metadata": {},
   "outputs": [],
   "source": [
    "df_1_desc=df_subscriber_catchup.describe().T\n",
    "df_2_desc=df_Unsubscriber_catchup.describe().T\n",
    "\n",
    "df_1_sample=df_subscriber_catchup.head(1000)\n",
    "df_2_sample=df_Unsubscriber_catchup.head(1000)\n"
   ]
  },
  {
   "cell_type": "code",
   "execution_count": 16,
   "metadata": {},
   "outputs": [
    {
     "data": {
      "text/plain": [
       "0"
      ]
     },
     "execution_count": 16,
     "metadata": {},
     "output_type": "execute_result"
    }
   ],
   "source": [
    "set_1=set(df_subscriber_catchup['customersummary_c_primaryscnhash'].unique().tolist())\n",
    "set_2=set(df_Unsubscriber_catchup['customersummary_c_primaryscnhash'].unique().tolist())\n",
    "list_common_id=set_1.intersection(set_2)\n",
    "len(list_common_id)"
   ]
  },
  {
   "cell_type": "code",
   "execution_count": 17,
   "metadata": {},
   "outputs": [
    {
     "data": {
      "text/plain": [
       "(0, 1)"
      ]
     },
     "execution_count": 17,
     "metadata": {},
     "output_type": "execute_result"
    }
   ],
   "source": [
    "df_common_id=pd.DataFrame({\"common_ids_in_both\":list(list_common_id)})\n",
    "df_common_id.shape"
   ]
  },
  {
   "cell_type": "code",
   "execution_count": 18,
   "metadata": {},
   "outputs": [
    {
     "data": {
      "text/html": [
       "<div>\n",
       "<style scoped>\n",
       "    .dataframe tbody tr th:only-of-type {\n",
       "        vertical-align: middle;\n",
       "    }\n",
       "\n",
       "    .dataframe tbody tr th {\n",
       "        vertical-align: top;\n",
       "    }\n",
       "\n",
       "    .dataframe thead th {\n",
       "        text-align: right;\n",
       "    }\n",
       "</style>\n",
       "<table border=\"1\" class=\"dataframe\">\n",
       "  <thead>\n",
       "    <tr style=\"text-align: right;\">\n",
       "      <th></th>\n",
       "      <th>common_ids_in_both</th>\n",
       "    </tr>\n",
       "  </thead>\n",
       "  <tbody>\n",
       "  </tbody>\n",
       "</table>\n",
       "</div>"
      ],
      "text/plain": [
       "Empty DataFrame\n",
       "Columns: [common_ids_in_both]\n",
       "Index: []"
      ]
     },
     "execution_count": 18,
     "metadata": {},
     "output_type": "execute_result"
    }
   ],
   "source": [
    "df_common_id.head(2)"
   ]
  },
  {
   "cell_type": "code",
   "execution_count": 19,
   "metadata": {},
   "outputs": [],
   "source": [
    "writer=pd.ExcelWriter(\"./BL_email_subscribption_catchup_quick_view_JL_\"+str(datetime.datetime.now().date())+\".xlsx\",engine=\"xlsxwriter\")\n",
    "df_1_desc.to_excel(writer,\"Subscriber_desc\",index=True)\n",
    "df_2_desc.to_excel(writer,\"UnSubscriber_desc\",index=True)\n",
    "\n",
    "df_1_qc.to_excel(writer,\"Subscriber_status\",index=False)\n",
    "df_2_qc.to_excel(writer,\"UnSubscriber_status\",index=False)\n",
    "\n",
    "df_1_sample.to_excel(writer,\"Subscriber_sample\",index=False)\n",
    "df_2_sample.to_excel(writer,\"UnSubscriber_sample\",index=False)\n",
    "\n",
    "df_common_id.to_excel(writer,\"common_id_in_both\",index=False)\n",
    "writer.save()"
   ]
  },
  {
   "cell_type": "code",
   "execution_count": null,
   "metadata": {},
   "outputs": [],
   "source": []
  }
 ],
 "metadata": {
  "kernelspec": {
   "display_name": "Python 3",
   "language": "python",
   "name": "python3"
  },
  "language_info": {
   "codemirror_mode": {
    "name": "ipython",
    "version": 3
   },
   "file_extension": ".py",
   "mimetype": "text/x-python",
   "name": "python",
   "nbconvert_exporter": "python",
   "pygments_lexer": "ipython3",
   "version": "3.6.1"
  }
 },
 "nbformat": 4,
 "nbformat_minor": 2
}
