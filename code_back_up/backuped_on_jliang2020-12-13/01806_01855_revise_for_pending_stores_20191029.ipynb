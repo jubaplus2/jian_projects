{
 "cells": [
  {
   "cell_type": "code",
   "execution_count": 1,
   "metadata": {},
   "outputs": [
    {
     "data": {
      "text/plain": [
       "'/home/jian/Projects/Smoothie_King/adjust_for_pending_stores'"
      ]
     },
     "execution_count": 1,
     "metadata": {},
     "output_type": "execute_result"
    }
   ],
   "source": [
    "import pandas as pd\n",
    "import numpy as np\n",
    "import datetime\n",
    "import os\n",
    "import json\n",
    "from haversine import haversine\n",
    "zip_centers=json.load(open(\"/home/jian/Docs/Geo_mapping/updated_zip_centers_JL_2019-05-23.json\",\"r\"))\n",
    "os.getcwd()"
   ]
  },
  {
   "cell_type": "code",
   "execution_count": 2,
   "metadata": {
    "collapsed": true
   },
   "outputs": [],
   "source": [
    "writer_folder=\"./output_\"+str(datetime.datetime.now().date())+\"/\"\n",
    "try:\n",
    "    os.stat(writer_folder)\n",
    "except:\n",
    "    os.mkdir(writer_folder)"
   ]
  },
  {
   "cell_type": "code",
   "execution_count": 3,
   "metadata": {},
   "outputs": [
    {
     "data": {
      "text/plain": [
       "['summary_by_TA', 'output_TA_by_store', 'zip_TA', 'summary_by_store_count']"
      ]
     },
     "execution_count": 3,
     "metadata": {},
     "output_type": "execute_result"
    }
   ],
   "source": [
    "excel_output=pd.ExcelFile(\"/home/jian/Projects/Smoothie_King/weekly_TA_updates/output_20191028/SmoothieKing_TA_of_3_miles_zips_JL_2019-10-29.xlsx\")\n",
    "excel_output.sheet_names\n"
   ]
  },
  {
   "cell_type": "code",
   "execution_count": 4,
   "metadata": {},
   "outputs": [
    {
     "data": {
      "text/plain": [
       "(947, 18)"
      ]
     },
     "execution_count": 4,
     "metadata": {},
     "output_type": "execute_result"
    }
   ],
   "source": [
    "df_by_store=excel_output.parse(\"output_TA_by_store\",dtype=str)\n",
    "df_by_store.shape"
   ]
  },
  {
   "cell_type": "code",
   "execution_count": 5,
   "metadata": {},
   "outputs": [
    {
     "name": "stdout",
     "output_type": "stream",
     "text": [
      "['opening', 'closed']\n",
      "8\n",
      "['1681', '1769', '1793', '1539', '1707', '1802', '1747', '1789']\n"
     ]
    }
   ],
   "source": [
    "new_store_excel=pd.ExcelFile(\"/home/jian/Projects/Smoothie_King/SK_celery/force_store_list/SK_forced_store_list_20191029.xlsx\")\n",
    "print(new_store_excel.sheet_names)\n",
    "df_new_stores=new_store_excel.parse(\"opening\",dtype=str)\n",
    "new_store_list=df_new_stores['storenumber'].unique().tolist()\n",
    "print(len(new_store_list))\n",
    "print(new_store_list)"
   ]
  },
  {
   "cell_type": "code",
   "execution_count": 6,
   "metadata": {},
   "outputs": [
    {
     "data": {
      "text/html": [
       "<div>\n",
       "<style scoped>\n",
       "    .dataframe tbody tr th:only-of-type {\n",
       "        vertical-align: middle;\n",
       "    }\n",
       "\n",
       "    .dataframe tbody tr th {\n",
       "        vertical-align: top;\n",
       "    }\n",
       "\n",
       "    .dataframe thead th {\n",
       "        text-align: right;\n",
       "    }\n",
       "</style>\n",
       "<table border=\"1\" class=\"dataframe\">\n",
       "  <thead>\n",
       "    <tr style=\"text-align: right;\">\n",
       "      <th></th>\n",
       "      <th>storenumber</th>\n",
       "      <th>Address</th>\n",
       "      <th>city</th>\n",
       "      <th>state</th>\n",
       "      <th>zip</th>\n",
       "      <th>StoreOpenDate</th>\n",
       "      <th>Latitude</th>\n",
       "      <th>Longitude</th>\n",
       "      <th>Ownership</th>\n",
       "      <th>Franchisee_Name</th>\n",
       "      <th>IPAddress</th>\n",
       "      <th>DriveThru</th>\n",
       "      <th>status</th>\n",
       "      <th>StoreCloseDate</th>\n",
       "      <th>used_lat</th>\n",
       "      <th>used_long</th>\n",
       "      <th>zips_3_miles</th>\n",
       "      <th>TA</th>\n",
       "    </tr>\n",
       "  </thead>\n",
       "  <tbody>\n",
       "    <tr>\n",
       "      <th>905</th>\n",
       "      <td>1681</td>\n",
       "      <td>7949 Dani Drive, Unit #120</td>\n",
       "      <td>Fort Myers</td>\n",
       "      <td>FL</td>\n",
       "      <td>33966</td>\n",
       "      <td>2019-10-04 00:00:00</td>\n",
       "      <td>26.6034622</td>\n",
       "      <td>-81.8101998</td>\n",
       "      <td>Franchised</td>\n",
       "      <td>Nasser Naura</td>\n",
       "      <td>NaN</td>\n",
       "      <td>Y</td>\n",
       "      <td>New</td>\n",
       "      <td>NaN</td>\n",
       "      <td>26.6034622</td>\n",
       "      <td>-81.8101998</td>\n",
       "      <td>['33966']</td>\n",
       "      <td>3_['0821', '0824', '1681']</td>\n",
       "    </tr>\n",
       "    <tr>\n",
       "      <th>932</th>\n",
       "      <td>1769</td>\n",
       "      <td>4925 Walzem Road</td>\n",
       "      <td>San Antonio</td>\n",
       "      <td>TX</td>\n",
       "      <td>78218</td>\n",
       "      <td>2019-10-07 00:00:00</td>\n",
       "      <td>29.510673</td>\n",
       "      <td>-98.393281</td>\n",
       "      <td>Franchised</td>\n",
       "      <td>Matthew Coriell</td>\n",
       "      <td>NaN</td>\n",
       "      <td>Y</td>\n",
       "      <td>New</td>\n",
       "      <td>NaN</td>\n",
       "      <td>29.510673</td>\n",
       "      <td>-98.393281</td>\n",
       "      <td>['78218', '78239', '78265', '78217', '78284']</td>\n",
       "      <td>3_['1509', '1643', '1769']</td>\n",
       "    </tr>\n",
       "    <tr>\n",
       "      <th>940</th>\n",
       "      <td>1793</td>\n",
       "      <td>5009 Miller Road</td>\n",
       "      <td>Flint Township</td>\n",
       "      <td>MI</td>\n",
       "      <td>48507</td>\n",
       "      <td>2019-10-08 00:00:00</td>\n",
       "      <td>42.975289</td>\n",
       "      <td>-83.772766</td>\n",
       "      <td>Franchised</td>\n",
       "      <td>Christopher Klebba</td>\n",
       "      <td>NaN</td>\n",
       "      <td>Y</td>\n",
       "      <td>New</td>\n",
       "      <td>NaN</td>\n",
       "      <td>42.975289</td>\n",
       "      <td>-83.772766</td>\n",
       "      <td>['48554', '48473', '48532', '48507', '48553']</td>\n",
       "      <td>1_['1793']</td>\n",
       "    </tr>\n",
       "  </tbody>\n",
       "</table>\n",
       "</div>"
      ],
      "text/plain": [
       "    storenumber                     Address            city state    zip  \\\n",
       "905        1681  7949 Dani Drive, Unit #120      Fort Myers    FL  33966   \n",
       "932        1769            4925 Walzem Road     San Antonio    TX  78218   \n",
       "940        1793            5009 Miller Road  Flint Township    MI  48507   \n",
       "\n",
       "           StoreOpenDate    Latitude    Longitude   Ownership  \\\n",
       "905  2019-10-04 00:00:00  26.6034622  -81.8101998  Franchised   \n",
       "932  2019-10-07 00:00:00   29.510673   -98.393281  Franchised   \n",
       "940  2019-10-08 00:00:00   42.975289   -83.772766  Franchised   \n",
       "\n",
       "        Franchisee_Name IPAddress DriveThru status StoreCloseDate    used_lat  \\\n",
       "905        Nasser Naura       NaN         Y    New            NaN  26.6034622   \n",
       "932     Matthew Coriell       NaN         Y    New            NaN   29.510673   \n",
       "940  Christopher Klebba       NaN         Y    New            NaN   42.975289   \n",
       "\n",
       "       used_long                                   zips_3_miles  \\\n",
       "905  -81.8101998                                      ['33966']   \n",
       "932   -98.393281  ['78218', '78239', '78265', '78217', '78284']   \n",
       "940   -83.772766  ['48554', '48473', '48532', '48507', '48553']   \n",
       "\n",
       "                             TA  \n",
       "905  3_['0821', '0824', '1681']  \n",
       "932  3_['1509', '1643', '1769']  \n",
       "940                  1_['1793']  "
      ]
     },
     "execution_count": 6,
     "metadata": {},
     "output_type": "execute_result"
    }
   ],
   "source": [
    "df_by_store[df_by_store['storenumber'].isin(new_store_list)]\n",
    "\n",
    "# All of the new stores need to be added"
   ]
  },
  {
   "cell_type": "code",
   "execution_count": 7,
   "metadata": {},
   "outputs": [
    {
     "data": {
      "text/html": [
       "<div>\n",
       "<style scoped>\n",
       "    .dataframe tbody tr th:only-of-type {\n",
       "        vertical-align: middle;\n",
       "    }\n",
       "\n",
       "    .dataframe tbody tr th {\n",
       "        vertical-align: top;\n",
       "    }\n",
       "\n",
       "    .dataframe thead th {\n",
       "        text-align: right;\n",
       "    }\n",
       "</style>\n",
       "<table border=\"1\" class=\"dataframe\">\n",
       "  <thead>\n",
       "    <tr style=\"text-align: right;\">\n",
       "      <th></th>\n",
       "      <th>storenumber</th>\n",
       "    </tr>\n",
       "  </thead>\n",
       "  <tbody>\n",
       "    <tr>\n",
       "      <th>3</th>\n",
       "      <td>1539</td>\n",
       "    </tr>\n",
       "    <tr>\n",
       "      <th>4</th>\n",
       "      <td>1707</td>\n",
       "    </tr>\n",
       "    <tr>\n",
       "      <th>5</th>\n",
       "      <td>1802</td>\n",
       "    </tr>\n",
       "    <tr>\n",
       "      <th>6</th>\n",
       "      <td>1747</td>\n",
       "    </tr>\n",
       "    <tr>\n",
       "      <th>7</th>\n",
       "      <td>1789</td>\n",
       "    </tr>\n",
       "  </tbody>\n",
       "</table>\n",
       "</div>"
      ],
      "text/plain": [
       "  storenumber\n",
       "3        1539\n",
       "4        1707\n",
       "5        1802\n",
       "6        1747\n",
       "7        1789"
      ]
     },
     "execution_count": 7,
     "metadata": {},
     "output_type": "execute_result"
    }
   ],
   "source": [
    "df_new_stores=df_new_stores[~df_new_stores['storenumber'].isin(df_by_store['storenumber'].tolist())]\n",
    "df_new_stores"
   ]
  },
  {
   "cell_type": "code",
   "execution_count": 8,
   "metadata": {
    "collapsed": true
   },
   "outputs": [],
   "source": [
    "TA_name=df_by_store[['storenumber','TA']].drop_duplicates()\n",
    "TA_name_count=TA_name.groupby(\"TA\")['storenumber'].count().to_frame().reset_index().rename(columns={\"storenumber\":\"store_count\"})\n",
    "TA_name_list=TA_name.groupby(\"TA\")['storenumber'].apply(list).to_frame().reset_index().rename(columns={\"storenumber\":\"store_list\"})\n",
    "TA_name=pd.merge(TA_name_count,TA_name_list,on=\"TA\",how=\"outer\")\n",
    "TA_name['store_count']=TA_name['store_count'].apply(lambda x: str(x))\n",
    "TA_name['store_list']=TA_name['store_list'].apply(lambda x: str(x))\n",
    "TA_name['TA_new_name']=TA_name['store_count']+\"_\"+TA_name['store_list']\n",
    "TA_name_dict=TA_name.set_index(\"TA\").to_dict()['TA_new_name']\n",
    "\n",
    "\n",
    "df_by_store['TA']=df_by_store['TA'].apply(lambda x: TA_name_dict[x])\n",
    "df_by_store=df_by_store.rename(columns={\"TA\":\"TA_new\"})\n"
   ]
  },
  {
   "cell_type": "code",
   "execution_count": 9,
   "metadata": {
    "collapsed": true
   },
   "outputs": [],
   "source": [
    "zip_TA=excel_output.parse(\"zip_TA\",dtype=str)\n",
    "zip_TA['TA']=zip_TA['TA'].apply(lambda x: TA_name_dict[x])\n",
    "zip_TA=zip_TA.rename(columns={\"TA\":\"TA_new\"})\n",
    "\n",
    "# The automatic run region is not updated\n",
    "del zip_TA['Co-Op/Regional']"
   ]
  },
  {
   "cell_type": "code",
   "execution_count": 10,
   "metadata": {},
   "outputs": [
    {
     "name": "stdout",
     "output_type": "stream",
     "text": [
      "[4]\n"
     ]
    }
   ],
   "source": [
    "region_by_store_file=pd.ExcelFile(\"/home/jian/Projects/Smoothie_King/adjust_for_pending_stores/region_mapping/Updated RAF List - Number of Opened Stores-2019-09-13.xlsx\")\n",
    "mapping_store_region=region_by_store_file.parse('All Stores',dtype=str)\n",
    "mapping_store_region=mapping_store_region[['Store: Store Number  ↑','Co-Op/Regional  ↑']]\n",
    "mapping_store_region.columns=['store','Co-Op/Regional']\n",
    "mapping_store_region['Co-Op/Regional']=mapping_store_region['Co-Op/Regional'].fillna(\"nan\")\n",
    "mapping_store_region['store']=mapping_store_region['store'].apply(lambda x: x.replace(\"SK-\",\"\"))\n",
    "print(mapping_store_region['store'].apply(lambda x: len(x)).unique())\n",
    "\n",
    "zip_TA=pd.merge(zip_TA,mapping_store_region,on=\"store\",how=\"left\")\n",
    "zip_TA['Co-Op/Regional']=zip_TA['Co-Op/Regional'].fillna(\"Unknown\")"
   ]
  },
  {
   "cell_type": "code",
   "execution_count": 11,
   "metadata": {},
   "outputs": [
    {
     "data": {
      "text/html": [
       "<div>\n",
       "<style scoped>\n",
       "    .dataframe tbody tr th:only-of-type {\n",
       "        vertical-align: middle;\n",
       "    }\n",
       "\n",
       "    .dataframe tbody tr th {\n",
       "        vertical-align: top;\n",
       "    }\n",
       "\n",
       "    .dataframe thead th {\n",
       "        text-align: right;\n",
       "    }\n",
       "</style>\n",
       "<table border=\"1\" class=\"dataframe\">\n",
       "  <thead>\n",
       "    <tr style=\"text-align: right;\">\n",
       "      <th></th>\n",
       "      <th>storenumber</th>\n",
       "    </tr>\n",
       "  </thead>\n",
       "  <tbody>\n",
       "    <tr>\n",
       "      <th>3</th>\n",
       "      <td>1539</td>\n",
       "    </tr>\n",
       "    <tr>\n",
       "      <th>4</th>\n",
       "      <td>1707</td>\n",
       "    </tr>\n",
       "    <tr>\n",
       "      <th>5</th>\n",
       "      <td>1802</td>\n",
       "    </tr>\n",
       "    <tr>\n",
       "      <th>6</th>\n",
       "      <td>1747</td>\n",
       "    </tr>\n",
       "    <tr>\n",
       "      <th>7</th>\n",
       "      <td>1789</td>\n",
       "    </tr>\n",
       "  </tbody>\n",
       "</table>\n",
       "</div>"
      ],
      "text/plain": [
       "  storenumber\n",
       "3        1539\n",
       "4        1707\n",
       "5        1802\n",
       "6        1747\n",
       "7        1789"
      ]
     },
     "execution_count": 11,
     "metadata": {},
     "output_type": "execute_result"
    }
   ],
   "source": [
    "df_new_stores"
   ]
  },
  {
   "cell_type": "code",
   "execution_count": 12,
   "metadata": {
    "collapsed": true
   },
   "outputs": [],
   "source": [
    "dict_new_stores={}\n",
    "\n",
    "# 1539\t1501A Cornerside Boulevard Vienna, VA 22182\n",
    "dict_new_stores.update({\"1539\":{\"GoogleAddress\":\"1501a Cornerside Blvd, Vienna, VA 22182\",\"Google_LatLng\":[38.9295492,-77.2445564]}})\n",
    "\n",
    "# 1707\t105 Kennings Road, 105-2A Crosby, TX, 77532\n",
    "dict_new_stores.update({\"1707\":{\"GoogleAddress\":\"105 Kennings Rd #2A, Crosby, TX 77532\",\"Google_LatLng\":[29.8899358,-95.0627069]}})\n",
    "\n",
    "# 1802\t18602 Kuykendahl Rd, Suite #400 Spring, TX 77379\n",
    "dict_new_stores.update({\"1802\":{\"GoogleAddress\":\"18602 Kuykendahl Rd #400, Spring, TX 77379\",\"Google_LatLng\":[30.0408301,-95.4886038]}})\n",
    "\n",
    "# 1747\t1010-H Beards Hill Rd Aberdeen, MD, 21001\n",
    "dict_new_stores.update({\"1747\":{\"GoogleAddress\":\"1010 Beards Hill Rd, Aberdeen, MD 21001\",\"Google_LatLng\":[39.5212782,-76.181853]}})\n",
    "\n",
    "# 1789\t1309 W Fairmont Parkway Suite O La Porte, TX 77571\n",
    "dict_new_stores.update({\"1789\":{\"GoogleAddress\":\"1309 W Fairmont Pkwy Suite O, La Porte, TX 77571\",\"Google_LatLng\":[29.6512853,-95.0316923]}})\n",
    "\n"
   ]
  },
  {
   "cell_type": "code",
   "execution_count": 13,
   "metadata": {
    "collapsed": true
   },
   "outputs": [],
   "source": [
    "df_new_stores['GoogleAddress']=df_new_stores['storenumber'].apply(lambda x: dict_new_stores[x]['GoogleAddress'])\n",
    "df_new_stores['GoogleLatitude']=df_new_stores['storenumber'].apply(lambda x: dict_new_stores[x]['Google_LatLng'][0])\n",
    "df_new_stores['GoogleLongitude']=df_new_stores['storenumber'].apply(lambda x: dict_new_stores[x]['Google_LatLng'][1])\n"
   ]
  },
  {
   "cell_type": "code",
   "execution_count": 14,
   "metadata": {},
   "outputs": [],
   "source": [
    "df_new_stores['zips_3_miles']=np.nan\n",
    "\n",
    "for ind,row in df_new_stores.iterrows():\n",
    "    store_center=(row['GoogleLatitude'],row['GoogleLongitude'])\n",
    "    zip_list=[]\n",
    "    for zip_cd in zip_centers.keys():\n",
    "        dist=haversine(store_center,zip_centers[zip_cd],unit=\"mi\")\n",
    "        if dist<=3:\n",
    "            zip_list.extend([zip_cd])\n",
    "    df_new_stores.loc[ind,'zips_3_miles']=str(zip_list)\n"
   ]
  },
  {
   "cell_type": "code",
   "execution_count": 15,
   "metadata": {},
   "outputs": [
    {
     "data": {
      "text/html": [
       "<div>\n",
       "<style scoped>\n",
       "    .dataframe tbody tr th:only-of-type {\n",
       "        vertical-align: middle;\n",
       "    }\n",
       "\n",
       "    .dataframe tbody tr th {\n",
       "        vertical-align: top;\n",
       "    }\n",
       "\n",
       "    .dataframe thead th {\n",
       "        text-align: right;\n",
       "    }\n",
       "</style>\n",
       "<table border=\"1\" class=\"dataframe\">\n",
       "  <thead>\n",
       "    <tr style=\"text-align: right;\">\n",
       "      <th></th>\n",
       "      <th>storenumber</th>\n",
       "      <th>GoogleAddress</th>\n",
       "      <th>GoogleLatitude</th>\n",
       "      <th>GoogleLongitude</th>\n",
       "      <th>zips_3_miles</th>\n",
       "    </tr>\n",
       "  </thead>\n",
       "  <tbody>\n",
       "    <tr>\n",
       "      <th>3</th>\n",
       "      <td>1539</td>\n",
       "      <td>1501a Cornerside Blvd, Vienna, VA 22182</td>\n",
       "      <td>38.929549</td>\n",
       "      <td>-77.244556</td>\n",
       "      <td>['22067', '22107', '22027', '22102', '22103', ...</td>\n",
       "    </tr>\n",
       "    <tr>\n",
       "      <th>4</th>\n",
       "      <td>1707</td>\n",
       "      <td>105 Kennings Rd #2A, Crosby, TX 77532</td>\n",
       "      <td>29.889936</td>\n",
       "      <td>-95.062707</td>\n",
       "      <td>['77532']</td>\n",
       "    </tr>\n",
       "    <tr>\n",
       "      <th>5</th>\n",
       "      <td>1802</td>\n",
       "      <td>18602 Kuykendahl Rd #400, Spring, TX 77379</td>\n",
       "      <td>30.040830</td>\n",
       "      <td>-95.488604</td>\n",
       "      <td>['77068', '77379', '77388', '77273', '77290']</td>\n",
       "    </tr>\n",
       "    <tr>\n",
       "      <th>6</th>\n",
       "      <td>1747</td>\n",
       "      <td>1010 Beards Hill Rd, Aberdeen, MD 21001</td>\n",
       "      <td>39.521278</td>\n",
       "      <td>-76.181853</td>\n",
       "      <td>['21001', '21005']</td>\n",
       "    </tr>\n",
       "    <tr>\n",
       "      <th>7</th>\n",
       "      <td>1789</td>\n",
       "      <td>1309 W Fairmont Pkwy Suite O, La Porte, TX 77571</td>\n",
       "      <td>29.651285</td>\n",
       "      <td>-95.031692</td>\n",
       "      <td>['77572', '77571', '77507']</td>\n",
       "    </tr>\n",
       "  </tbody>\n",
       "</table>\n",
       "</div>"
      ],
      "text/plain": [
       "  storenumber                                     GoogleAddress  \\\n",
       "3        1539           1501a Cornerside Blvd, Vienna, VA 22182   \n",
       "4        1707             105 Kennings Rd #2A, Crosby, TX 77532   \n",
       "5        1802        18602 Kuykendahl Rd #400, Spring, TX 77379   \n",
       "6        1747           1010 Beards Hill Rd, Aberdeen, MD 21001   \n",
       "7        1789  1309 W Fairmont Pkwy Suite O, La Porte, TX 77571   \n",
       "\n",
       "   GoogleLatitude  GoogleLongitude  \\\n",
       "3       38.929549       -77.244556   \n",
       "4       29.889936       -95.062707   \n",
       "5       30.040830       -95.488604   \n",
       "6       39.521278       -76.181853   \n",
       "7       29.651285       -95.031692   \n",
       "\n",
       "                                        zips_3_miles  \n",
       "3  ['22067', '22107', '22027', '22102', '22103', ...  \n",
       "4                                          ['77532']  \n",
       "5      ['77068', '77379', '77388', '77273', '77290']  \n",
       "6                                 ['21001', '21005']  \n",
       "7                        ['77572', '77571', '77507']  "
      ]
     },
     "execution_count": 15,
     "metadata": {},
     "output_type": "execute_result"
    }
   ],
   "source": [
    "df_new_stores"
   ]
  },
  {
   "cell_type": "code",
   "execution_count": 16,
   "metadata": {},
   "outputs": [
    {
     "name": "stderr",
     "output_type": "stream",
     "text": [
      "/home/jian/.local/lib/python3.6/site-packages/pandas/core/frame.py:7138: FutureWarning: Sorting because non-concatenation axis is not aligned. A future version\n",
      "of pandas will change to not sort by default.\n",
      "\n",
      "To accept the future behavior, pass 'sort=False'.\n",
      "\n",
      "To retain the current behavior and silence the warning, pass 'sort=True'.\n",
      "\n",
      "  sort=sort,\n"
     ]
    }
   ],
   "source": [
    "cols=zip_TA.columns.tolist()\n",
    "zip_ta_new_stores=pd.DataFrame(columns=zip_TA.columns.tolist())\n",
    "for ind, row in df_new_stores.iterrows():\n",
    "    store=row['storenumber']\n",
    "    zip_list=eval(row['zips_3_miles'])\n",
    "    df=pd.DataFrame({\"zip\":zip_list},index=[store]*len(zip_list)).reset_index().rename(columns={\"index\":\"store\"})\n",
    "    df['TA_new']=\"new_stores\"\n",
    "    df['Primary_DMA']=\"new_stores\"\n",
    "    df['Co-Op/Regional']=\"Unknown\"\n",
    "    zip_ta_new_stores=zip_ta_new_stores.append(df)\n",
    "zip_ta_new_stores=zip_ta_new_stores[cols]"
   ]
  },
  {
   "cell_type": "code",
   "execution_count": 17,
   "metadata": {
    "collapsed": true
   },
   "outputs": [],
   "source": [
    "zip_TA=zip_TA.append(zip_ta_new_stores)\n",
    "df_TA_zips=zip_TA.copy()"
   ]
  },
  {
   "cell_type": "code",
   "execution_count": 18,
   "metadata": {},
   "outputs": [
    {
     "data": {
      "text/html": [
       "<div>\n",
       "<style scoped>\n",
       "    .dataframe tbody tr th:only-of-type {\n",
       "        vertical-align: middle;\n",
       "    }\n",
       "\n",
       "    .dataframe tbody tr th {\n",
       "        vertical-align: top;\n",
       "    }\n",
       "\n",
       "    .dataframe thead th {\n",
       "        text-align: right;\n",
       "    }\n",
       "</style>\n",
       "<table border=\"1\" class=\"dataframe\">\n",
       "  <thead>\n",
       "    <tr style=\"text-align: right;\">\n",
       "      <th></th>\n",
       "      <th>store</th>\n",
       "      <th>TA_new</th>\n",
       "      <th>zip</th>\n",
       "      <th>Primary_DMA</th>\n",
       "      <th>Co-Op/Regional</th>\n",
       "    </tr>\n",
       "  </thead>\n",
       "  <tbody>\n",
       "    <tr>\n",
       "      <th>124</th>\n",
       "      <td>0016</td>\n",
       "      <td>1_['0016']</td>\n",
       "      <td>70609</td>\n",
       "      <td>LAKE CHARLES</td>\n",
       "      <td>nan</td>\n",
       "    </tr>\n",
       "    <tr>\n",
       "      <th>125</th>\n",
       "      <td>0016</td>\n",
       "      <td>1_['0016']</td>\n",
       "      <td>70606</td>\n",
       "      <td>LAKE CHARLES</td>\n",
       "      <td>nan</td>\n",
       "    </tr>\n",
       "    <tr>\n",
       "      <th>126</th>\n",
       "      <td>0016</td>\n",
       "      <td>1_['0016']</td>\n",
       "      <td>70605</td>\n",
       "      <td>LAKE CHARLES</td>\n",
       "      <td>nan</td>\n",
       "    </tr>\n",
       "    <tr>\n",
       "      <th>127</th>\n",
       "      <td>0016</td>\n",
       "      <td>1_['0016']</td>\n",
       "      <td>70607</td>\n",
       "      <td>LAKE CHARLES</td>\n",
       "      <td>nan</td>\n",
       "    </tr>\n",
       "    <tr>\n",
       "      <th>195</th>\n",
       "      <td>0032</td>\n",
       "      <td>3_['0032', '1146', '1686']</td>\n",
       "      <td>70364</td>\n",
       "      <td>NEW ORLEANS</td>\n",
       "      <td>nan</td>\n",
       "    </tr>\n",
       "    <tr>\n",
       "      <th>...</th>\n",
       "      <td>...</td>\n",
       "      <td>...</td>\n",
       "      <td>...</td>\n",
       "      <td>...</td>\n",
       "      <td>...</td>\n",
       "    </tr>\n",
       "    <tr>\n",
       "      <th>6459</th>\n",
       "      <td>1812</td>\n",
       "      <td>1_['1812']</td>\n",
       "      <td>60544</td>\n",
       "      <td>CHICAGO</td>\n",
       "      <td>nan</td>\n",
       "    </tr>\n",
       "    <tr>\n",
       "      <th>6460</th>\n",
       "      <td>1841</td>\n",
       "      <td>4_['0271', '0995', '1532', '1841']</td>\n",
       "      <td>75083</td>\n",
       "      <td>DALLAS-FT. WORTH</td>\n",
       "      <td>nan</td>\n",
       "    </tr>\n",
       "    <tr>\n",
       "      <th>6461</th>\n",
       "      <td>1841</td>\n",
       "      <td>4_['0271', '0995', '1532', '1841']</td>\n",
       "      <td>75080</td>\n",
       "      <td>DALLAS-FT. WORTH</td>\n",
       "      <td>nan</td>\n",
       "    </tr>\n",
       "    <tr>\n",
       "      <th>6462</th>\n",
       "      <td>1841</td>\n",
       "      <td>4_['0271', '0995', '1532', '1841']</td>\n",
       "      <td>75252</td>\n",
       "      <td>DALLAS-FT. WORTH</td>\n",
       "      <td>nan</td>\n",
       "    </tr>\n",
       "    <tr>\n",
       "      <th>6463</th>\n",
       "      <td>1841</td>\n",
       "      <td>4_['0271', '0995', '1532', '1841']</td>\n",
       "      <td>75075</td>\n",
       "      <td>DALLAS-FT. WORTH</td>\n",
       "      <td>nan</td>\n",
       "    </tr>\n",
       "  </tbody>\n",
       "</table>\n",
       "<p>1516 rows × 5 columns</p>\n",
       "</div>"
      ],
      "text/plain": [
       "     store                              TA_new    zip       Primary_DMA  \\\n",
       "124   0016                          1_['0016']  70609      LAKE CHARLES   \n",
       "125   0016                          1_['0016']  70606      LAKE CHARLES   \n",
       "126   0016                          1_['0016']  70605      LAKE CHARLES   \n",
       "127   0016                          1_['0016']  70607      LAKE CHARLES   \n",
       "195   0032          3_['0032', '1146', '1686']  70364       NEW ORLEANS   \n",
       "...    ...                                 ...    ...               ...   \n",
       "6459  1812                          1_['1812']  60544           CHICAGO   \n",
       "6460  1841  4_['0271', '0995', '1532', '1841']  75083  DALLAS-FT. WORTH   \n",
       "6461  1841  4_['0271', '0995', '1532', '1841']  75080  DALLAS-FT. WORTH   \n",
       "6462  1841  4_['0271', '0995', '1532', '1841']  75252  DALLAS-FT. WORTH   \n",
       "6463  1841  4_['0271', '0995', '1532', '1841']  75075  DALLAS-FT. WORTH   \n",
       "\n",
       "     Co-Op/Regional  \n",
       "124             nan  \n",
       "125             nan  \n",
       "126             nan  \n",
       "127             nan  \n",
       "195             nan  \n",
       "...             ...  \n",
       "6459            nan  \n",
       "6460            nan  \n",
       "6461            nan  \n",
       "6462            nan  \n",
       "6463            nan  \n",
       "\n",
       "[1516 rows x 5 columns]"
      ]
     },
     "execution_count": 18,
     "metadata": {},
     "output_type": "execute_result"
    }
   ],
   "source": [
    "df_TA_zips[df_TA_zips['Co-Op/Regional']==\"nan\"]"
   ]
  },
  {
   "cell_type": "code",
   "execution_count": 19,
   "metadata": {
    "collapsed": true
   },
   "outputs": [],
   "source": [
    "for region,df_group in df_TA_zips.groupby(\"Co-Op/Regional\"):\n",
    "    if region!=\"UnknowRegion\":\n",
    "        df_group=df_group[['zip','Co-Op/Regional']].drop_duplicates()\n",
    "        df_group.to_csv(writer_folder+\"zips_for_the_%s.csv\"%region,index=False)\n",
    "    else:\n",
    "        # df_austin=df_group[df_group['store'].isin(Austin_stores['store'].tolist())]\n",
    "        df_unknown=df_group[~df_group['store'].isin(Austin_stores['store'].tolist())]\n",
    "\n",
    "        # df_austin.to_csv(writer_folder+\"zips_for_the_%s.csv\"%\"AustinDMA\",index=False)\n",
    "        df_unknown.to_csv(writer_folder+\"zips_for_the_%s.csv\"%\"UnknownRegion\",index=False)\n",
    "df_output_overall_zips=df_TA_zips[['zip']].drop_duplicates()\n",
    "df_output_overall_zips.to_csv(writer_folder+\"overall_zips_in_TA.csv\",index=False)"
   ]
  },
  {
   "cell_type": "code",
   "execution_count": 20,
   "metadata": {
    "collapsed": true
   },
   "outputs": [],
   "source": [
    "writer=pd.ExcelWriter(writer_folder+\"SmoothieKing_TA_of_3_miles_zips_JL_\"+str(datetime.datetime.now().date())+\".xlsx\",engine=\"xlsxwriter\")\n",
    "df_TA_zips.to_excel(writer,\"df_TA_zips\",index=False)\n",
    "df_new_stores.to_excel(writer,\"new_stores_add_on\",index=False)\n",
    "df_by_store.to_excel(writer,\"df_by_store\",index=False)\n",
    "rfa_mapping=pd.read_excel(\"/home/jian/Projects/Smoothie_King/SK_celery/RFA_region_20190128.xlsx\",dtype=str)\n",
    "rfa_mapping.to_excel(writer,\"RFA_region_20190128\",index=False)\n",
    "writer.save()"
   ]
  },
  {
   "cell_type": "code",
   "execution_count": 21,
   "metadata": {},
   "outputs": [
    {
     "data": {
      "text/plain": [
       "'./output_2019-10-29/'"
      ]
     },
     "execution_count": 21,
     "metadata": {},
     "output_type": "execute_result"
    }
   ],
   "source": [
    "writer_folder"
   ]
  },
  {
   "cell_type": "code",
   "execution_count": 22,
   "metadata": {},
   "outputs": [
    {
     "data": {
      "text/plain": [
       "['Atlanta',\n",
       " 'Austin',\n",
       " 'Baton Rouge',\n",
       " 'Biloxi',\n",
       " 'Charlotte',\n",
       " 'Cincinnati',\n",
       " 'Dallas-Fort Worth',\n",
       " 'Houston',\n",
       " 'Jackson',\n",
       " 'Kansas City',\n",
       " 'Memphis',\n",
       " 'Miami-Ft. Lauderdale',\n",
       " 'Mobile-Pensacola-Destin',\n",
       " 'Nashville',\n",
       " 'New Orleans',\n",
       " 'Orlando',\n",
       " 'San Antonio',\n",
       " 'St. Louis',\n",
       " 'Tampa',\n",
       " 'Unknown',\n",
       " 'Washington DC',\n",
       " 'nan']"
      ]
     },
     "execution_count": 22,
     "metadata": {},
     "output_type": "execute_result"
    }
   ],
   "source": [
    "sorted(df_TA_zips['Co-Op/Regional'].unique().tolist())"
   ]
  },
  {
   "cell_type": "code",
   "execution_count": null,
   "metadata": {
    "collapsed": true
   },
   "outputs": [],
   "source": []
  }
 ],
 "metadata": {
  "kernelspec": {
   "display_name": "Python 3",
   "language": "python",
   "name": "python3"
  },
  "language_info": {
   "codemirror_mode": {
    "name": "ipython",
    "version": 3
   },
   "file_extension": ".py",
   "mimetype": "text/x-python",
   "name": "python",
   "nbconvert_exporter": "python",
   "pygments_lexer": "ipython3",
   "version": "3.6.1"
  }
 },
 "nbformat": 4,
 "nbformat_minor": 2
}
