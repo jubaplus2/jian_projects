{
 "cells": [
  {
   "cell_type": "code",
   "execution_count": 15,
   "metadata": {
    "collapsed": true
   },
   "outputs": [],
   "source": [
    "import pandas as pd\n",
    "import datetime\n",
    "from sklearn.preprocessing import StandardScaler\n",
    "import numpy as np"
   ]
  },
  {
   "cell_type": "code",
   "execution_count": 16,
   "metadata": {
    "collapsed": true
   },
   "outputs": [],
   "source": [
    "excel_file=\"/home/jian/Projects/Saatva/MMM/URL_models/input/URL_SM_input_tabs_data_JL_2019-05-06.xlsx\"\n",
    "excel_file=pd.ExcelFile(excel_file)\n",
    "excel_file.sheet_names\n",
    "\n",
    "tab_list=[x for x in excel_file.sheet_names if \"Stat\" not in x]"
   ]
  },
  {
   "cell_type": "code",
   "execution_count": 17,
   "metadata": {
    "collapsed": true
   },
   "outputs": [],
   "source": [
    "df_data=excel_file.parse('Home Page')\n",
    "df_ivs=df_data.copy()\n",
    "df_ivs.drop(['date','trans_net','sales_net', 'Users', 'Sessions','ga:goal11Completions','Time on Page','Transactions'],axis=1,inplace=True)\n",
    "\n"
   ]
  },
  {
   "cell_type": "markdown",
   "metadata": {},
   "source": [
    "# 1-Eigendecomposition - Computing Eigenvectors and Eigenvalues"
   ]
  },
  {
   "cell_type": "code",
   "execution_count": 18,
   "metadata": {},
   "outputs": [
    {
     "name": "stderr",
     "output_type": "stream",
     "text": [
      "/usr/local/lib/python3.6/site-packages/sklearn/utils/validation.py:429: DataConversionWarning: Data with input dtype int64 was converted to float64 by StandardScaler.\n",
      "  warnings.warn(msg, _DataConversionWarning)\n"
     ]
    }
   ],
   "source": [
    "X = df_ivs.values\n",
    "\n",
    "X_std = StandardScaler().fit_transform(X)"
   ]
  },
  {
   "cell_type": "code",
   "execution_count": null,
   "metadata": {
    "collapsed": true
   },
   "outputs": [],
   "source": []
  },
  {
   "cell_type": "code",
   "execution_count": 19,
   "metadata": {},
   "outputs": [
    {
     "name": "stdout",
     "output_type": "stream",
     "text": [
      "Covariance matrix \n",
      "[[ 1.00274725 -0.23620138  0.38859808 ...,  0.12121055  0.42993815\n",
      "  -0.05314379]\n",
      " [-0.23620138  1.00274725 -0.29564106 ..., -0.04398613 -0.22676353\n",
      "   0.07837289]\n",
      " [ 0.38859808 -0.29564106  1.00274725 ...,  0.19742312  0.3452576\n",
      "   0.01201136]\n",
      " ..., \n",
      " [ 0.12121055 -0.04398613  0.19742312 ...,  1.00274725  0.38089581\n",
      "   0.3679272 ]\n",
      " [ 0.42993815 -0.22676353  0.3452576  ...,  0.38089581  1.00274725\n",
      "   0.00420581]\n",
      " [-0.05314379  0.07837289  0.01201136 ...,  0.3679272   0.00420581\n",
      "   1.00274725]]\n"
     ]
    },
    {
     "data": {
      "text/plain": [
       "\"\\nprint('NumPy covariance matrix: \\n%s' %np.cov(X_std.T))\\n\""
      ]
     },
     "execution_count": 19,
     "metadata": {},
     "output_type": "execute_result"
    }
   ],
   "source": [
    "# Covariance Matrix\n",
    "\n",
    "mean_vec = np.mean(X_std, axis=0)\n",
    "cov_mat = (X_std - mean_vec).T.dot((X_std - mean_vec)) / (X_std.shape[0]-1)\n",
    "print('Covariance matrix \\n%s' %cov_mat)\n",
    "\n",
    "'''\n",
    "print('NumPy covariance matrix: \\n%s' %np.cov(X_std.T))\n",
    "'''"
   ]
  },
  {
   "cell_type": "code",
   "execution_count": 20,
   "metadata": {},
   "outputs": [
    {
     "name": "stdout",
     "output_type": "stream",
     "text": [
      "Eigenvectors \n",
      "[[ 0.21739511 -0.10820999  0.07719584 ...,  0.22336803  0.10912294\n",
      "  -0.00510193]\n",
      " [-0.15265954  0.0756306  -0.04032876 ...,  0.11169865 -0.01951601\n",
      "  -0.12019398]\n",
      " [ 0.25148831 -0.03014505  0.01080879 ..., -0.02807898 -0.17698752\n",
      "  -0.02885343]\n",
      " ..., \n",
      " [ 0.13927934  0.28234812  0.04719309 ..., -0.06126781  0.13292532\n",
      "  -0.03384357]\n",
      " [ 0.21162419  0.05459559  0.14295751 ...,  0.15205248 -0.3780585\n",
      "  -0.05721522]\n",
      " [ 0.02692331  0.13577939 -0.26271013 ..., -0.4528079   0.00116306\n",
      "   0.35210388]]\n",
      "\n",
      "Eigenvalues \n",
      "[ 7.8496294   7.35011869  4.27165865  2.75167208  1.80637368  1.50926279\n",
      "  1.39543386  1.27271891  1.2440523   1.12969544  1.08797855  1.07628016\n",
      "  0.98774847  0.9493792   0.02457303  0.9075104   0.86409209  0.08304159\n",
      "  0.09364035  0.80363981  0.79045767  0.77442572  0.75796854  0.12588653\n",
      "  0.13344621  0.15863984  0.17367984  0.7235117   0.70299153  0.67364597\n",
      "  0.65386405  0.21711986  0.22453284  0.2350358   0.60538492  0.57622079\n",
      "  0.56199458  0.53865967  0.26263884  0.27088805  0.30457453  0.50994941\n",
      "  0.4836837   0.4772613   0.47116563  0.43534566  0.4106257   0.3912072\n",
      "  0.3563519   0.34197174  0.33848072]\n"
     ]
    },
    {
     "data": {
      "text/plain": [
       "\"\\ncor_mat2 = np.corrcoef(X.T)\\n\\neig_vals, eig_vecs = np.linalg.eig(cor_mat2)\\n\\nprint('Eigenvectors \\n%s' %eig_vecs)\\nprint('\\nEigenvalues \\n%s' %eig_vals)\\n\""
      ]
     },
     "execution_count": 20,
     "metadata": {},
     "output_type": "execute_result"
    }
   ],
   "source": [
    "# Correlation Matrix\n",
    "\n",
    "cov_mat = np.cov(X_std.T)\n",
    "\n",
    "eig_vals, eig_vecs = np.linalg.eig(cov_mat)\n",
    "\n",
    "print('Eigenvectors \\n%s' %eig_vecs)\n",
    "print('\\nEigenvalues \\n%s' %eig_vals)\n",
    "\n",
    "'''\n",
    "cor_mat1 = np.corrcoef(X_std.T)\n",
    "\n",
    "eig_vals, eig_vecs = np.linalg.eig(cor_mat1)\n",
    "\n",
    "print('Eigenvectors \\n%s' %eig_vecs)\n",
    "print('\\nEigenvalues \\n%s' %eig_vals)\n",
    "\n",
    "'''\n",
    "\n",
    "'''\n",
    "cor_mat2 = np.corrcoef(X.T)\n",
    "\n",
    "eig_vals, eig_vecs = np.linalg.eig(cor_mat2)\n",
    "\n",
    "print('Eigenvectors \\n%s' %eig_vecs)\n",
    "print('\\nEigenvalues \\n%s' %eig_vals)\n",
    "'''"
   ]
  },
  {
   "cell_type": "code",
   "execution_count": 21,
   "metadata": {},
   "outputs": [
    {
     "data": {
      "text/plain": [
       "array([[-0.21739511, -0.10820999,  0.07719584, ...,  0.07981907,\n",
       "        -0.08797898,  0.02259331],\n",
       "       [ 0.15265954,  0.0756306 , -0.04032876, ...,  0.02116832,\n",
       "        -0.06101859,  0.0197878 ],\n",
       "       [-0.25148831, -0.03014505,  0.01080879, ..., -0.04488925,\n",
       "        -0.08859404,  0.00603682],\n",
       "       ..., \n",
       "       [-0.13927934,  0.28234812,  0.04719309, ..., -0.4941514 ,\n",
       "        -0.60932185, -0.08495439],\n",
       "       [-0.21162419,  0.05459559,  0.14295751, ...,  0.07588005,\n",
       "        -0.01039324, -0.02550683],\n",
       "       [-0.02692331,  0.13577939, -0.26271013, ...,  0.1451977 ,\n",
       "        -0.05084772,  0.01106731]])"
      ]
     },
     "execution_count": 21,
     "metadata": {},
     "output_type": "execute_result"
    }
   ],
   "source": [
    "# Singular Vector Decomposition\n",
    "\n",
    "u,s,v = np.linalg.svd(X_std.T)\n",
    "\n",
    "# Unitary array(s)\n",
    "u"
   ]
  },
  {
   "cell_type": "markdown",
   "metadata": {},
   "source": [
    "# 2-Selecting Principal Components"
   ]
  },
  {
   "cell_type": "code",
   "execution_count": 22,
   "metadata": {},
   "outputs": [
    {
     "name": "stdout",
     "output_type": "stream",
     "text": [
      "Everything ok!\n"
     ]
    }
   ],
   "source": [
    "for ev in eig_vecs:\n",
    "    np.testing.assert_array_almost_equal(1.0, np.linalg.norm(ev))\n",
    "print('Everything ok!')"
   ]
  },
  {
   "cell_type": "code",
   "execution_count": 23,
   "metadata": {},
   "outputs": [
    {
     "data": {
      "text/plain": [
       "array([ 7.8496294 ,  7.35011869,  4.27165865,  2.75167208,  1.80637368,\n",
       "        1.50926279,  1.39543386,  1.27271891,  1.2440523 ,  1.12969544,\n",
       "        1.08797855,  1.07628016,  0.98774847,  0.9493792 ,  0.02457303,\n",
       "        0.9075104 ,  0.86409209,  0.08304159,  0.09364035,  0.80363981,\n",
       "        0.79045767,  0.77442572,  0.75796854,  0.12588653,  0.13344621,\n",
       "        0.15863984,  0.17367984,  0.7235117 ,  0.70299153,  0.67364597,\n",
       "        0.65386405,  0.21711986,  0.22453284,  0.2350358 ,  0.60538492,\n",
       "        0.57622079,  0.56199458,  0.53865967,  0.26263884,  0.27088805,\n",
       "        0.30457453,  0.50994941,  0.4836837 ,  0.4772613 ,  0.47116563,\n",
       "        0.43534566,  0.4106257 ,  0.3912072 ,  0.3563519 ,  0.34197174,\n",
       "        0.33848072])"
      ]
     },
     "execution_count": 23,
     "metadata": {},
     "output_type": "execute_result"
    }
   ],
   "source": [
    "eig_vals"
   ]
  },
  {
   "cell_type": "code",
   "execution_count": 24,
   "metadata": {},
   "outputs": [
    {
     "name": "stdout",
     "output_type": "stream",
     "text": [
      "Eigenvalues in descending order:\n",
      "7.84962939958\n",
      "7.35011869084\n",
      "4.27165864664\n",
      "2.75167208047\n",
      "1.80637368127\n",
      "1.50926278755\n",
      "1.39543386313\n",
      "1.27271890704\n",
      "1.24405230268\n",
      "1.12969543762\n",
      "1.08797854701\n",
      "1.07628016387\n",
      "0.98774847334\n",
      "0.949379204114\n",
      "0.907510399952\n",
      "0.864092092853\n",
      "0.803639812475\n",
      "0.790457665691\n",
      "0.774425721609\n",
      "0.757968541106\n",
      "0.723511695595\n",
      "0.702991529736\n",
      "0.673645968965\n",
      "0.653864045114\n",
      "0.605384919374\n",
      "0.576220790498\n",
      "0.561994581444\n",
      "0.53865967224\n",
      "0.509949406637\n",
      "0.483683704727\n",
      "0.477261301601\n",
      "0.471165625778\n",
      "0.43534566378\n",
      "0.410625702555\n",
      "0.391207200963\n",
      "0.356351899096\n",
      "0.341971737505\n",
      "0.338480721924\n",
      "0.30457452527\n",
      "0.270888046755\n",
      "0.262638835553\n",
      "0.235035804326\n",
      "0.224532838842\n",
      "0.217119855489\n",
      "0.173679843461\n",
      "0.158639842715\n",
      "0.133446208082\n",
      "0.125886534192\n",
      "0.093640348881\n",
      "0.0830415872153\n",
      "0.0245730329581\n"
     ]
    }
   ],
   "source": [
    "\n",
    "# Make a list of (eigenvalue, eigenvector) tuples\n",
    "eig_pairs = [(np.abs(eig_vals[i]), eig_vecs[:,i]) for i in range(len(eig_vals))]\n",
    "\n",
    "# Sort the (eigenvalue, eigenvector) tuples from high to low\n",
    "eig_pairs.sort()\n",
    "eig_pairs.reverse()\n",
    "\n",
    "# Visually confirm that the list is correctly sorted by decreasing eigenvalues\n",
    "print('Eigenvalues in descending order:')\n",
    "for i in eig_pairs:\n",
    "    print(i[0])"
   ]
  },
  {
   "cell_type": "code",
   "execution_count": null,
   "metadata": {
    "collapsed": true
   },
   "outputs": [],
   "source": []
  },
  {
   "cell_type": "code",
   "execution_count": 25,
   "metadata": {},
   "outputs": [
    {
     "name": "stdout",
     "output_type": "stream",
     "text": [
      "Matrix W:\n",
      " [[  2.17395107e-01  -1.08209989e-01   7.71958392e-02  -2.66068169e-01\n",
      "    1.17565087e-01   4.62564969e-02   1.29584123e-03  -4.69541718e-02\n",
      "   -4.29407788e-02  -2.59659166e-02   1.16336942e-01   6.17662439e-02]\n",
      " [ -1.52659544e-01   7.56306030e-02  -4.03287567e-02  -4.30687622e-02\n",
      "    1.76086428e-01   2.74082455e-01   5.38443589e-02   1.63358378e-02\n",
      "    7.54238974e-02   9.98311358e-02  -1.48188098e-01  -1.29790935e-01]\n",
      " [  2.51488310e-01  -3.01450465e-02   1.08087918e-02   5.23142298e-02\n",
      "   -4.58505326e-02   2.57395896e-02  -8.10478407e-02  -1.46124999e-01\n",
      "    1.25763923e-01  -2.64347532e-02  -2.02490939e-02   4.35137841e-02]\n",
      " [  4.49365721e-02   1.54923348e-01  -1.80590307e-01   2.09605446e-01\n",
      "    2.29913109e-01   1.24772761e-01   7.45827090e-02  -2.37793708e-01\n",
      "   -9.19385393e-02  -3.84860341e-02   7.22267591e-02   5.64709164e-02]\n",
      " [ -4.75782769e-02   2.97217729e-02   1.49714921e-01   1.25075872e-01\n",
      "    2.01085516e-01  -1.56859611e-01  -2.21014084e-01  -2.81762887e-01\n",
      "    1.02483617e-01   4.54172052e-02  -5.63808711e-02   1.06604023e-01]\n",
      " [  2.20481741e-02   1.39899281e-01   1.48876120e-02   1.90491070e-01\n",
      "   -2.06564489e-01  -1.53374716e-02   9.01921559e-02  -5.87818636e-02\n",
      "   -1.14002263e-01  -2.78580164e-01   2.00491013e-01  -2.21130326e-02]\n",
      " [ -4.37327656e-02   4.41901842e-02  -3.06285637e-02   1.47075933e-02\n",
      "   -1.64422132e-01  -1.60868513e-01   8.85438206e-02   1.14317036e-01\n",
      "   -3.72789640e-01  -4.33478683e-02  -2.87892649e-01  -4.64356434e-01]\n",
      " [ -1.82539028e-01   2.12159044e-01  -4.71453941e-02  -8.88417115e-02\n",
      "    1.58734773e-02   9.23207354e-02  -1.34305418e-01  -1.48302957e-01\n",
      "    9.63452936e-02  -1.14233568e-01   9.52715902e-02  -1.22240438e-02]\n",
      " [  2.96654807e-01  -7.21424043e-02   1.00635206e-01  -9.79142923e-02\n",
      "    1.00978504e-02  -5.52833063e-02  -3.50211220e-02   7.70046949e-02\n",
      "   -1.05730090e-01   7.35306405e-02  -4.00957276e-02   1.54698991e-02]\n",
      " [  2.39097315e-01  -8.69956028e-02   1.84316708e-02  -3.00060779e-01\n",
      "    1.30652550e-01   7.79085315e-02  -6.16048145e-02  -9.71550034e-02\n",
      "   -9.67107722e-02  -1.23197209e-01   3.29519768e-02  -5.40525873e-02]\n",
      " [ -1.15627705e-01  -9.09799693e-02   1.39507884e-01   9.98058935e-02\n",
      "   -2.58866813e-02   5.83180606e-02  -4.66603604e-01   1.99716740e-01\n",
      "   -1.59074854e-01  -2.22536636e-01   1.92578158e-01  -1.39081255e-01]\n",
      " [  2.19200338e-01  -3.18915641e-02  -6.41860465e-02   1.33585188e-01\n",
      "    6.51831974e-02   1.38340511e-01   8.77885838e-02  -1.61793295e-02\n",
      "   -3.04771109e-02  -7.39134113e-02  -5.11883182e-02   1.78192273e-02]\n",
      " [ -1.78028207e-01  -3.36375547e-02   3.43902437e-01  -4.51092731e-03\n",
      "   -6.24636845e-02   1.28561355e-01   6.75104529e-02   7.79097883e-02\n",
      "   -5.87504269e-02  -2.38079060e-03   6.36271361e-02   5.05445760e-02]\n",
      " [ -1.91555248e-01  -1.79164888e-02   3.34463025e-01  -2.70118771e-02\n",
      "   -6.73406824e-02   6.19232048e-02   1.79547755e-01  -1.14327409e-03\n",
      "    3.01808680e-02   5.40068961e-02   8.90159676e-02   1.71855927e-01]\n",
      " [  1.45034068e-01   1.85093305e-01   9.95535879e-02   2.10804676e-02\n",
      "   -9.64628249e-02  -1.16191238e-01  -5.91556185e-03   6.27803999e-02\n",
      "    7.49623910e-02   1.53910793e-01   8.48613965e-02  -1.30477025e-01]\n",
      " [ -6.45610491e-03   1.70959255e-01  -1.41211385e-01   2.60394354e-02\n",
      "    1.54605213e-01  -2.64784755e-01  -6.63408797e-02   7.62697445e-02\n",
      "    1.39197884e-01  -1.56885273e-01  -1.27356247e-01  -1.95331504e-01]\n",
      " [ -1.67072197e-01   1.60958576e-01   5.03612849e-02  -9.97922594e-02\n",
      "   -1.20964958e-01  -1.94004772e-02   9.81572760e-03  -8.88045246e-02\n",
      "   -1.60990641e-01  -1.71112765e-01  -9.93815471e-02   6.60409285e-02]\n",
      " [  1.05855876e-01   7.99597914e-02   1.50674876e-02   9.89273260e-02\n",
      "    9.69612271e-02   9.32653635e-02   8.47278505e-02  -8.53783739e-02\n",
      "   -3.99092023e-01   1.66035552e-01   2.80661241e-01   1.48510561e-01]\n",
      " [  1.19798221e-01   7.93275440e-02   1.04830665e-01   1.47540243e-01\n",
      "    2.37080484e-01   5.21981014e-02  -1.97708634e-01   1.45945589e-01\n",
      "    4.37201293e-02   9.93919746e-02  -9.43250246e-03  -1.16230480e-01]\n",
      " [ -1.06554931e-01   4.57115366e-02   1.75182936e-01   1.62243643e-01\n",
      "    1.31971276e-01  -1.72549636e-02   5.14697356e-02   3.90768087e-02\n",
      "    7.84375423e-02  -1.31256874e-01  -5.11472131e-02   7.92199631e-02]\n",
      " [ -1.84949359e-01  -2.30984261e-02   3.50910382e-01  -2.17528591e-02\n",
      "   -7.02414116e-02   1.12261872e-01   1.66086283e-01   2.93166911e-02\n",
      "   -2.41949898e-02   3.48718643e-02   7.18062608e-02   1.28865030e-01]\n",
      " [  9.60405394e-02   1.77339946e-01   2.16590603e-01   1.75127159e-01\n",
      "   -8.54184973e-03  -1.08216614e-03  -4.50299441e-02   8.60119380e-02\n",
      "    2.24068206e-02   1.03189972e-01  -6.87010281e-02  -4.62702331e-02]\n",
      " [ -7.37096852e-02   1.05800857e-01  -1.71819489e-01   7.69693722e-03\n",
      "    1.52324085e-01   5.48508378e-02   1.64608396e-01   1.18141196e-01\n",
      "   -3.77446915e-02   1.53681808e-01   3.32804647e-01  -2.78269984e-01]\n",
      " [  9.40895098e-02   2.37234543e-01   6.59058937e-02  -5.06606268e-02\n",
      "   -3.57938857e-02   1.21613304e-01  -7.53142372e-03   5.32973234e-02\n",
      "   -4.76560091e-02  -1.24948964e-02  -7.45049350e-02  -1.82530127e-01]\n",
      " [ -6.14097065e-02   1.68589981e-01  -5.15288240e-02  -2.37584964e-01\n",
      "   -1.25817372e-01  -1.62454086e-01   1.02176464e-01  -1.85754262e-01\n",
      "   -1.09221715e-01  -1.54593933e-01  -3.11944827e-01   1.39667902e-01]\n",
      " [  7.84467614e-02   1.66499355e-01   3.59459631e-02   3.24620618e-02\n",
      "   -6.78363928e-02  -1.30754980e-01  -2.19595862e-01   1.08966575e-01\n",
      "   -1.77140321e-01  -1.41002954e-02   1.99659538e-01   1.97317137e-01]\n",
      " [  2.24799269e-01   1.36477654e-01   7.25194990e-02  -4.75683954e-02\n",
      "    5.29863547e-02  -5.14510805e-02   2.33205701e-01  -8.26249028e-02\n",
      "    7.50665212e-02   1.52757913e-01  -1.34853919e-01   9.69380499e-02]\n",
      " [  3.39012782e-03   2.15656654e-01   1.62050270e-01  -8.55456690e-02\n",
      "    1.59318911e-01  -2.24629360e-01   9.94214921e-02   4.11695643e-02\n",
      "   -8.99702956e-04   1.68840052e-01  -4.93277073e-02  -1.31053843e-01]\n",
      " [ -9.40174968e-02   9.72257206e-02  -1.43743171e-01  -1.53866817e-01\n",
      "    7.41819879e-02   8.74940325e-02  -9.64369927e-02   1.92214314e-02\n",
      "   -8.17126234e-02  -1.76475917e-01   2.57737179e-02   5.01435871e-02]\n",
      " [ -1.28549512e-01   1.37168642e-01  -1.21354324e-01  -2.05108179e-01\n",
      "    8.15473025e-02  -1.64387691e-01  -6.98760347e-02   2.01597372e-01\n",
      "   -1.94740841e-01  -1.01937180e-01   5.18909902e-02   1.97326871e-01]\n",
      " [ -4.45866266e-02   3.62467734e-02  -7.45872169e-02   2.22158101e-01\n",
      "    2.68961670e-02  -3.18632236e-01   2.14183642e-01  -6.32538592e-02\n",
      "   -2.39897525e-01  -1.95707889e-02   2.07553095e-01   1.45494581e-01]\n",
      " [  1.60894293e-01  -1.18479919e-01   1.26035922e-01  -2.54789147e-01\n",
      "    1.74836691e-01  -3.08107235e-02  -5.85007632e-02  -5.89871242e-02\n",
      "   -1.93839449e-01   9.86429060e-02   1.04937971e-01  -3.85663940e-02]\n",
      " [ -5.06472924e-02  -1.26633511e-02  -5.92987790e-02  -1.01260009e-01\n",
      "   -1.69716623e-01  -3.63019013e-01  -1.50796821e-02  -4.11383404e-02\n",
      "    3.42382830e-01   2.94442968e-03   3.08071507e-01  -2.62196769e-02]\n",
      " [  7.71756162e-02   9.91388266e-02  -8.22117853e-02   1.05274937e-01\n",
      "    1.43982754e-01   1.96199079e-01   2.78818298e-01   1.31613533e-01\n",
      "   -2.02348196e-02  -1.42513968e-01  -1.78784133e-01   9.62922773e-02]\n",
      " [ -9.10488122e-02   2.35007624e-01   2.54332818e-02  -1.07014098e-01\n",
      "   -1.22757960e-01   2.15895627e-01  -1.90136227e-02  -6.32669382e-03\n",
      "    5.20345444e-02   1.75071321e-01  -1.89551381e-02  -3.25572441e-04]\n",
      " [ -4.49040864e-02   5.07036096e-02  -5.53536740e-02   1.50817975e-02\n",
      "    2.85708678e-01   3.07785884e-02  -1.82952756e-01   3.65541484e-01\n",
      "   -1.50854827e-01  -2.83013772e-02  -2.15162893e-01   3.23544205e-01]\n",
      " [ -8.36988530e-03   1.25151929e-01   1.03951537e-01  -1.11472193e-01\n",
      "    2.86826411e-01  -3.00155522e-01   1.46743757e-01   2.41742343e-01\n",
      "    1.97320367e-01   4.49875019e-02   2.77812729e-02   1.03103386e-01]\n",
      " [  2.22277980e-02   2.83182180e-01  -2.18507847e-02   1.37949807e-01\n",
      "   -1.27720473e-01   1.04264954e-01  -5.17624108e-02   1.10137617e-02\n",
      "   -1.28907784e-02  -4.23154969e-02   4.21071600e-02  -3.54972606e-02]\n",
      " [  1.57563161e-01  -5.08331157e-02  -2.28794409e-02  -7.52653673e-02\n",
      "   -2.03163229e-01  -1.72468092e-01   4.30556829e-02  -7.49134627e-03\n",
      "   -2.81368662e-01   1.62736262e-01  -2.93921927e-02  -1.96971288e-02]\n",
      " [ -8.81425988e-02   1.73702361e-01  -9.69136492e-02   2.24584550e-01\n",
      "    2.10161584e-01  -9.50633661e-02   5.90954670e-02  -1.99095954e-01\n",
      "   -7.38356969e-02   9.26690534e-03   6.90405519e-02   5.72717213e-03]\n",
      " [ -1.38537873e-01   9.86271433e-02  -9.00865191e-02  -2.08472356e-01\n",
      "    8.77430166e-02   1.11278851e-01   1.01978560e-01   1.72677852e-01\n",
      "   -4.70732857e-02   2.68104198e-01   2.07421132e-01  -1.71445913e-01]\n",
      " [  1.39869632e-01   1.11468055e-01   2.65503457e-02   2.33717651e-01\n",
      "   -2.10794668e-01  -4.51818440e-02  -1.35949819e-01   3.09641630e-01\n",
      "    1.04192644e-01   1.57443446e-01  -8.17826640e-02   8.11935959e-02]\n",
      " [  1.62720933e-01  -7.98565664e-03   7.27007504e-02  -2.57187610e-02\n",
      "    1.00213666e-01  -1.33844763e-02   1.96222402e-01   1.58183670e-01\n",
      "    1.28129242e-01  -4.71588552e-01   1.92073938e-01  -1.59542481e-01]\n",
      " [ -1.73024429e-01   1.27499000e-01   2.49931873e-01  -1.35899695e-01\n",
      "    2.83976563e-02  -1.13736496e-01   9.39933874e-03  -6.90666561e-02\n",
      "   -7.36287182e-02  -6.81660366e-02  -1.25710083e-01  -8.63645426e-02]\n",
      " [ -5.16101399e-02   1.13415460e-03   1.65574246e-01  -2.60487519e-02\n",
      "    2.83158782e-01  -1.06174813e-01  -2.48922905e-01  -2.97327979e-01\n",
      "   -6.16762989e-02   1.65748873e-02  -2.71489203e-02  -1.50460154e-01]\n",
      " [  2.53397407e-01   1.69418357e-01   4.35712347e-02   6.53555481e-02\n",
      "   -8.28089645e-02   2.55138449e-02  -8.72953198e-02  -1.27489713e-01\n",
      "    2.92652017e-02   2.07389555e-02  -5.11957142e-02   1.37780035e-02]\n",
      " [ -7.56091322e-03   2.76976362e-01  -8.41994387e-02  -1.85702881e-01\n",
      "   -5.45929036e-02   1.74060133e-01  -7.29827912e-02  -1.38355196e-01\n",
      "    1.17557739e-01  -1.02719261e-02   1.14582253e-01  -2.75660969e-02]\n",
      " [  1.21995903e-01   2.38258632e-01   2.43620470e-01   2.00520846e-02\n",
      "   -3.36192438e-02   2.78386628e-02   3.56632953e-03  -8.30213594e-02\n",
      "   -1.60798475e-02  -5.51034823e-02   1.92146240e-02   4.22599425e-02]\n",
      " [  1.39279342e-01   2.82348120e-01   4.71930909e-02  -1.50520423e-01\n",
      "   -9.31461205e-02   6.28044326e-02  -1.49116211e-01  -8.49286664e-04\n",
      "   -4.96682479e-03  -2.37883656e-02   7.15883931e-02   1.15660110e-02]\n",
      " [  2.11624185e-01   5.45955925e-02   1.42957511e-01  -1.02171403e-01\n",
      "    3.91881770e-02   5.75729434e-02   1.62883633e-01   1.32993686e-01\n",
      "    6.69811461e-02  -3.18932119e-01   8.08947053e-02   9.24766017e-03]\n",
      " [  2.69233076e-02   1.35779395e-01  -2.62710131e-01  -1.78645856e-01\n",
      "   -1.10766255e-01  -1.85129584e-03  -7.56161918e-02   9.55303965e-02\n",
      "    9.28968147e-02   8.13138109e-02   1.84292470e-02   3.00451602e-01]]\n"
     ]
    }
   ],
   "source": [
    "matrix_w = np.hstack((eig_pairs[0][1].reshape(51,1), \n",
    "                      eig_pairs[1][1].reshape(51,1),\n",
    "                      eig_pairs[2][1].reshape(51,1),\n",
    "                     eig_pairs[3][1].reshape(51,1),\n",
    "                     eig_pairs[4][1].reshape(51,1),\n",
    "                     eig_pairs[5][1].reshape(51,1),\n",
    "                     eig_pairs[6][1].reshape(51,1),\n",
    "                     eig_pairs[7][1].reshape(51,1),\n",
    "                     eig_pairs[8][1].reshape(51,1),\n",
    "                     eig_pairs[9][1].reshape(51,1),\n",
    "                     eig_pairs[10][1].reshape(51,1),\n",
    "                     eig_pairs[11][1].reshape(51,1)))\n",
    "\n",
    "print('Matrix W:\\n', matrix_w)"
   ]
  },
  {
   "cell_type": "markdown",
   "metadata": {},
   "source": [
    "# 3 - Projection Onto the New Feature Space"
   ]
  },
  {
   "cell_type": "code",
   "execution_count": 26,
   "metadata": {
    "collapsed": true
   },
   "outputs": [],
   "source": [
    "Y = X_std.dot(matrix_w)"
   ]
  },
  {
   "cell_type": "code",
   "execution_count": 27,
   "metadata": {},
   "outputs": [
    {
     "data": {
      "text/plain": [
       "array([[  9.58119785e-01,  -6.07125134e+00,  -1.90410142e-01, ...,\n",
       "         -8.17073111e-01,  -7.92736619e-01,   3.85784753e-01],\n",
       "       [  1.44251530e+00,  -5.83282012e+00,  -7.81768250e-01, ...,\n",
       "         -9.78774751e-01,  -9.21365555e-01,   8.92662236e-01],\n",
       "       [  1.88676541e+00,  -6.07855566e+00,  -1.12493025e+00, ...,\n",
       "         -1.10988128e+00,  -8.15910187e-01,   9.24228773e-01],\n",
       "       ..., \n",
       "       [ -3.65032339e+00,  -1.04089687e+00,   3.99422420e+00, ...,\n",
       "         -1.04689499e+00,   1.25717474e+00,  -1.32347809e+00],\n",
       "       [ -1.90080291e+00,   5.16713145e-03,   3.24183011e+00, ...,\n",
       "         -5.14236191e-01,   1.84481595e+00,  -1.46992172e+00],\n",
       "       [ -3.79136064e+00,  -1.33516838e+00,   3.17089269e+00, ...,\n",
       "         -1.13227841e+00,   2.08861767e+00,   1.73641965e-01]])"
      ]
     },
     "execution_count": 27,
     "metadata": {},
     "output_type": "execute_result"
    }
   ],
   "source": [
    "Y"
   ]
  },
  {
   "cell_type": "code",
   "execution_count": 28,
   "metadata": {
    "collapsed": true
   },
   "outputs": [],
   "source": [
    "#################"
   ]
  },
  {
   "cell_type": "code",
   "execution_count": null,
   "metadata": {
    "collapsed": true
   },
   "outputs": [],
   "source": []
  },
  {
   "cell_type": "code",
   "execution_count": 29,
   "metadata": {},
   "outputs": [
    {
     "name": "stderr",
     "output_type": "stream",
     "text": [
      "/usr/local/lib/python3.6/site-packages/ipykernel_launcher.py:2: SettingWithCopyWarning: \n",
      "A value is trying to be set on a copy of a slice from a DataFrame.\n",
      "Try using .loc[row_indexer,col_indexer] = value instead\n",
      "\n",
      "See the caveats in the documentation: http://pandas.pydata.org/pandas-docs/stable/indexing.html#indexing-view-versus-copy\n",
      "  \n"
     ]
    }
   ],
   "source": [
    "DVs=df_data[['date','trans_net','Users','Sessions','ga:goal11Completions']]\n",
    "DVs['Trans_Per_Usr']=DVs['trans_net']/DVs['Users']\n",
    "\n",
    "# 0\n",
    "df_cov_mat=pd.DataFrame(cov_mat)\n",
    "df_cov_mat.index=df_ivs.columns.tolist()\n",
    "df_cov_mat.columns=df_ivs.columns.tolist()\n",
    "\n",
    "# 1\n",
    "df_eigen_values=pd.DataFrame(columns={\"component_count\",\"eigenvalue\"})\n",
    "for i in range(len(eig_pairs)):\n",
    "    df=pd.DataFrame({\"component_count\":i+1,\"eigenvalue\":eig_pairs[i][0]},index=[i])\n",
    "    df_eigen_values=df_eigen_values.append(df)\n",
    "# 2\n",
    "df_X_std=pd.DataFrame(X_std)\n",
    "df_X_std.columns=df_ivs.columns.tolist()\n",
    "df_X_std.index=df_data['date']\n",
    "df_X_std=df_X_std.reset_index()\n",
    "# 3\n",
    "matrics_weight=pd.DataFrame(matrix_w)\n",
    "# 4\n",
    "input_transformed=pd.DataFrame(Y)\n",
    "input_transformed.index=df_data['date']\n",
    "input_transformed.columns=[\"Component_\"+str(x+1) for x in input_transformed.columns.tolist()]\n",
    "input_transformed=input_transformed.reset_index()\n",
    "\n",
    "input_transformed=pd.merge(input_transformed,DVs,on=\"date\")"
   ]
  },
  {
   "cell_type": "code",
   "execution_count": 15,
   "metadata": {
    "collapsed": true
   },
   "outputs": [],
   "source": [
    "input_transformed.to_csv(\"/home/jian/Projects/Saatva/MMM/URL_models/input/PCA_HomePage_MMM_JL_\"+str(datetime.datetime.now().date())+\".csv\",index=False)\n",
    "\n",
    "writer=pd.ExcelWriter(\"/home/jian/Projects/Saatva/MMM/URL_models/input/PCA_HomePage_MMM_JL_\"+str(datetime.datetime.now().date())+\".xlsx\",engine=\"xlsxwriter\")\n",
    "df_data.to_excel(writer,\"HomePage_data\",index=False)\n",
    "df_cov_mat.to_excel(writer,\"cov_mat\",index=False)\n",
    "df_eigen_values.to_excel(writer,\"eigen_values\",index=False)\n",
    "df_X_std.to_excel(writer,\"df_IVs_std\",index=False)\n",
    "matrics_weight.to_excel(writer,\"matrics_weight\",index=False)\n",
    "input_transformed.to_excel(writer,\"input_transformed\",index=False)\n",
    "writer.save()\n",
    "\n"
   ]
  },
  {
   "cell_type": "markdown",
   "metadata": {},
   "source": [
    "# Use sklearn directly"
   ]
  },
  {
   "cell_type": "code",
   "execution_count": 30,
   "metadata": {
    "collapsed": true
   },
   "outputs": [],
   "source": [
    "from sklearn.decomposition import PCA as sklearnPCA\n",
    "sklearn_pca = sklearnPCA(n_components=12)\n",
    "Y_sklearn = sklearn_pca.fit_transform(X_std)"
   ]
  },
  {
   "cell_type": "code",
   "execution_count": 17,
   "metadata": {},
   "outputs": [
    {
     "data": {
      "text/plain": [
       "(365, 12)"
      ]
     },
     "execution_count": 17,
     "metadata": {},
     "output_type": "execute_result"
    }
   ],
   "source": [
    "pd.DataFrame(Y_sklearn).shape"
   ]
  },
  {
   "cell_type": "code",
   "execution_count": 18,
   "metadata": {},
   "outputs": [
    {
     "name": "stderr",
     "output_type": "stream",
     "text": [
      "/usr/local/lib/python3.6/site-packages/ipykernel_launcher.py:2: SettingWithCopyWarning: \n",
      "A value is trying to be set on a copy of a slice from a DataFrame.\n",
      "Try using .loc[row_indexer,col_indexer] = value instead\n",
      "\n",
      "See the caveats in the documentation: http://pandas.pydata.org/pandas-docs/stable/indexing.html#indexing-view-versus-copy\n",
      "  \n"
     ]
    }
   ],
   "source": [
    "DVs=df_data[['date','trans_net','Users','Sessions','ga:goal11Completions']]\n",
    "DVs['Trans_Per_Usr']=DVs['trans_net']/DVs['Users']\n",
    "\n",
    "df_data=df_data[['date']+[x for x in df_data.columns.tolist() if \"www\" in x]]\n",
    "df_data=pd.merge(df_data,DVs,on=\"date\")\n",
    "df_data.to_csv(\"/home/jian/Projects/Saatva/MMM/URL_models/input/Original_HomePage_MMM_JL_\"+str(datetime.datetime.now().date())+\".csv\",index=False)\n",
    "\n",
    "\n"
   ]
  },
  {
   "cell_type": "code",
   "execution_count": null,
   "metadata": {
    "collapsed": true
   },
   "outputs": [],
   "source": []
  }
 ],
 "metadata": {
  "kernelspec": {
   "display_name": "Python 3",
   "language": "python",
   "name": "python3"
  },
  "language_info": {
   "codemirror_mode": {
    "name": "ipython",
    "version": 3
   },
   "file_extension": ".py",
   "mimetype": "text/x-python",
   "name": "python",
   "nbconvert_exporter": "python",
   "pygments_lexer": "ipython3",
   "version": "3.6.1"
  }
 },
 "nbformat": 4,
 "nbformat_minor": 2
}
