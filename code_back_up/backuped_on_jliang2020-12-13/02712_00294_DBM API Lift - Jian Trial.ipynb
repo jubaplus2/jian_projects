{
 "cells": [
  {
   "cell_type": "code",
   "execution_count": 42,
   "metadata": {},
   "outputs": [
    {
     "data": {
      "text/plain": [
       "{'filters': [{'type': 'FILTER_ADVERTISER', 'value': '1958747'},\n",
       "  {'type': 'FILTER_LINE_ITEM', 'value': '13906955'},\n",
       "  {'type': 'FILTER_LINE_ITEM', 'value': '13857627'},\n",
       "  {'type': 'FILTER_LINE_ITEM', 'value': '13857390'},\n",
       "  {'type': 'FILTER_LINE_ITEM', 'value': '13857628'},\n",
       "  {'type': 'FILTER_LINE_ITEM', 'value': '13884831'},\n",
       "  {'type': 'FILTER_LINE_ITEM', 'value': '13857626'},\n",
       "  {'type': 'FILTER_LINE_ITEM', 'value': '13842564'},\n",
       "  {'type': 'FILTER_LINE_ITEM', 'value': '13857621'},\n",
       "  {'type': 'FILTER_LINE_ITEM', 'value': '13788976'},\n",
       "  {'type': 'FILTER_LINE_ITEM', 'value': '13842563'},\n",
       "  {'type': 'FILTER_LINE_ITEM', 'value': '13857392'},\n",
       "  {'type': 'FILTER_LINE_ITEM', 'value': '13857623'},\n",
       "  {'type': 'FILTER_LINE_ITEM', 'value': '13885479'},\n",
       "  {'type': 'FILTER_LINE_ITEM', 'value': '13857629'},\n",
       "  {'type': 'FILTER_LINE_ITEM', 'value': '13926337'},\n",
       "  {'type': 'FILTER_LINE_ITEM', 'value': '13857622'},\n",
       "  {'type': 'FILTER_LINE_ITEM', 'value': '13857403'},\n",
       "  {'type': 'FILTER_LINE_ITEM', 'value': '13820583'},\n",
       "  {'type': 'FILTER_LINE_ITEM', 'value': '13857391'},\n",
       "  {'type': 'FILTER_LINE_ITEM', 'value': '13857625'},\n",
       "  {'type': 'FILTER_LINE_ITEM', 'value': '13857409'},\n",
       "  {'type': 'FILTER_LINE_ITEM', 'value': '13857624'},\n",
       "  {'type': 'FILTER_LINE_ITEM', 'value': '13788977'},\n",
       "  {'type': 'FILTER_LINE_ITEM', 'value': '13842555'},\n",
       "  {'type': 'FILTER_LINE_ITEM', 'value': '14401451'},\n",
       "  {'type': 'FILTER_LINE_ITEM', 'value': '13788978'},\n",
       "  {'type': 'FILTER_PARTNER', 'value': '1850767'}],\n",
       " 'groupBys': ['FILTER_DATE',\n",
       "  'FILTER_ADVERTISER',\n",
       "  'FILTER_LINE_ITEM',\n",
       "  'FILTER_ACTIVITY_ID'],\n",
       " 'includeInviteData': False,\n",
       " 'metrics': ['METRIC_IMPRESSIONS',\n",
       "  'METRIC_UNKNOWN',\n",
       "  'METRIC_CLICKS',\n",
       "  'METRIC_TOTAL_CONVERSIONS',\n",
       "  'METRIC_LAST_CLICKS',\n",
       "  'METRIC_LAST_IMPRESSIONS',\n",
       "  'METRIC_REVENUE_ADVERTISER',\n",
       "  'METRIC_MEDIA_COST_ADVERTISER',\n",
       "  'METRIC_CTR'],\n",
       " 'type': 'TYPE_GENERAL'}"
      ]
     },
     "execution_count": 42,
     "metadata": {},
     "output_type": "execute_result"
    }
   ],
   "source": [
    "import json\n",
    "old_queries = json.load(open('/home/jian/LIFT/DBM/Key_files/queries.json', 'r'))\n",
    "old_titles = [x['metadata']['title'] for x in old_queries['queries']]\n",
    "'''\n",
    "old_titles.index('LIFT_Date_OCT29') #137\n",
    "old_titles.index('LIFT_Weekday_OCT29') #144\n",
    "old_titles.index('LIFT_Time_of_Day_OCT29') #143\n",
    "old_titles.index('LIFT_City_OCT29') #134\n",
    "old_titles.index('LIFT_DMA_OCT29') #139\n",
    "old_titles.index('LIFT_Region_OCT29') #142\n",
    "old_titles.index('LIFT_APP_URL_OCT29') #131\n",
    "old_titles.index('LIFT_Browser_OCT29') #132\n",
    "old_titles.index('LIFT_Creative_OCT29') #135\n",
    "old_titles.index('LIFT_Creative_Size_Oct29') #136\n",
    "old_titles.index('LIFT_Device_Type_OCT29') #138\n",
    "old_titles.index('LIFT_ISP_Carrier_OCT29') #140\n",
    "old_titles.index('LIFT_Operating_System_OCT29') #141\n",
    "'''\n",
    "old_queries['queries'][137]['params']"
   ]
  },
  {
   "cell_type": "code",
   "execution_count": 33,
   "metadata": {},
   "outputs": [
    {
     "data": {
      "text/plain": [
       "140"
      ]
     },
     "execution_count": 33,
     "metadata": {},
     "output_type": "execute_result"
    }
   ],
   "source": [
    "titles.index('LIFT_ISP_Carrier_OCT29') #140"
   ]
  },
  {
   "cell_type": "code",
   "execution_count": 39,
   "metadata": {
    "collapsed": true,
    "scrolled": true
   },
   "outputs": [],
   "source": [
    "title_channel_new='New_Trial_Nov7'\n",
    "format_channel='CSV'\n",
    "dataRange_channel='CUSTOM_DATES'\n",
    "sendNotification_channel= False\n",
    "\n",
    "params_channel=old_queries['queries'][133]['params'] # \n",
    "\n"
   ]
  },
  {
   "cell_type": "code",
   "execution_count": 31,
   "metadata": {
    "collapsed": true
   },
   "outputs": [],
   "source": [
    "from apiclient.discovery import build\n",
    "from oauth2client.service_account import ServiceAccountCredentials\n",
    "\n",
    "KEY_FILE_LOCATION = '/home/jian/LIFT/dbm_api_jubapluscc@gmail.com.json'\n",
    "SCOPES = ['https://www.googleapis.com/auth/doubleclickbidmanager']\n",
    "\n",
    "credentials = ServiceAccountCredentials.from_json_keyfile_name(\n",
    "    KEY_FILE_LOCATION, scopes=SCOPES)\n",
    "\n",
    "# Build the service object.\n",
    "service = build('doubleclickbidmanager', 'v1', credentials=credentials)"
   ]
  },
  {
   "cell_type": "code",
   "execution_count": 2,
   "metadata": {
    "collapsed": true
   },
   "outputs": [],
   "source": [
    "query_resourse = {\n",
    "    'kind': 'doubleclickbidmanager#query',\n",
    "    'metadata': {\n",
    "        'dataRange': 'CUSTOM_DATES',\n",
    "        'format': 'CSV',\n",
    "        'title': 'New_Trial_Channel'\n",
    "    },\n",
    "    'params': params_channel\n",
    "    'reportDataEndTimeMs': '1508025600000',\n",
    "    'reportDataStartTimeMs': '1506297600000',\n",
    "    'schedule': {\n",
    "        'endTimeMs': '0',\n",
    "        'frequency': 'ONE_TIME',\n",
    "        'nextRunTimezoneCode': 'America/New_York'\n",
    "    }\n",
    "}"
   ]
  },
  {
   "cell_type": "code",
   "execution_count": 5,
   "metadata": {},
   "outputs": [
    {
     "data": {
      "text/plain": [
       "datetime.datetime(2017, 10, 14, 20, 0)"
      ]
     },
     "execution_count": 5,
     "metadata": {},
     "output_type": "execute_result"
    }
   ],
   "source": [
    "import datetime\n",
    "datetime.datetime.fromtimestamp(1508025600000/1000)"
   ]
  },
  {
   "cell_type": "code",
   "execution_count": 49,
   "metadata": {},
   "outputs": [
    {
     "name": "stdout",
     "output_type": "stream",
     "text": [
      "[1501545600000.0, 1510099200000.0]\n"
     ]
    }
   ],
   "source": [
    "import datetime\n",
    "date_start=(datetime.datetime(2017, 8, 1) - datetime.datetime(1970, 1, 1)).total_seconds()*1000\n",
    "date_end=(datetime.datetime(2017, 11, 8) - datetime.datetime(1970, 1, 1)).total_seconds()*1000\n",
    "print([date_start,date_end])"
   ]
  },
  {
   "cell_type": "code",
   "execution_count": null,
   "metadata": {
    "collapsed": true
   },
   "outputs": [],
   "source": []
  },
  {
   "cell_type": "code",
   "execution_count": null,
   "metadata": {
    "collapsed": true
   },
   "outputs": [],
   "source": [
    "datetime.datetime.totimestamp('')"
   ]
  },
  {
   "cell_type": "code",
   "execution_count": 3,
   "metadata": {},
   "outputs": [
    {
     "data": {
      "text/plain": [
       "{'kind': 'doubleclickbidmanager#query',\n",
       " 'metadata': {'dataRange': 'CUSTOM_DATES',\n",
       "  'format': 'CSV',\n",
       "  'googleCloudStoragePathForLatestReport': '',\n",
       "  'googleDrivePathForLatestReport': '',\n",
       "  'latestReportRunTimeMs': '0',\n",
       "  'reportCount': 0,\n",
       "  'running': False,\n",
       "  'sendNotification': False,\n",
       "  'title': 'JUBA_day of week'},\n",
       " 'params': {'filters': [{'type': 'FILTER_ADVERTISER', 'value': '1958747'},\n",
       "   {'type': 'FILTER_LINE_ITEM', 'value': '13906955'},\n",
       "   {'type': 'FILTER_LINE_ITEM', 'value': '13857627'},\n",
       "   {'type': 'FILTER_LINE_ITEM', 'value': '13857390'},\n",
       "   {'type': 'FILTER_LINE_ITEM', 'value': '13857628'},\n",
       "   {'type': 'FILTER_PARTNER', 'value': '0'}],\n",
       "  'groupBys': ['FILTER_ADVERTISER',\n",
       "   'FILTER_LINE_ITEM',\n",
       "   'FILTER_ACTIVITY_ID',\n",
       "   'FILTER_DAY_OF_WEEK'],\n",
       "  'includeInviteData': False,\n",
       "  'metrics': ['METRIC_IMPRESSIONS',\n",
       "   'METRIC_CLICKS',\n",
       "   'METRIC_TOTAL_CONVERSIONS',\n",
       "   'METRIC_REVENUE_ADVERTISER',\n",
       "   'METRIC_MEDIA_COST_ADVERTISER',\n",
       "   'METRIC_CTR'],\n",
       "  'type': 'TYPE_GENERAL'},\n",
       " 'queryId': '1510154794561',\n",
       " 'reportDataEndTimeMs': '1508025600000',\n",
       " 'reportDataStartTimeMs': '1506297600000',\n",
       " 'schedule': {'endTimeMs': '0',\n",
       "  'frequency': 'ONE_TIME',\n",
       "  'nextRunMinuteOfDay': 626,\n",
       "  'nextRunTimezoneCode': 'America/New_York'},\n",
       " 'timezoneCode': 'America/New_York'}"
      ]
     },
     "execution_count": 3,
     "metadata": {},
     "output_type": "execute_result"
    }
   ],
   "source": [
    "# create the report descriped above\n",
    "# query_resurse defined above\n",
    "service.queries().createquery(body=query_resourse).execute()"
   ]
  },
  {
   "cell_type": "code",
   "execution_count": 4,
   "metadata": {},
   "outputs": [
    {
     "data": {
      "text/plain": [
       "{'kind': 'doubleclickbidmanager#listQueriesResponse',\n",
       " 'queries': [{'kind': 'doubleclickbidmanager#query',\n",
       "   'metadata': {'dataRange': 'CUSTOM_DATES',\n",
       "    'format': 'CSV',\n",
       "    'googleCloudStoragePathForLatestReport': 'https://storage.googleapis.com/136578715968494243751510090985328_report/JUBA_day_of_week_2017-11-07-2143.csv?GoogleAccessId=539605939877-d5f5o3m6kd1mq4j6tl06v7glf07armq9@developer.gserviceaccount.com&Expires=1825451001&Signature=GBkCwIg9nrqY%2B/Kda4smRtgD1PzGcEgiHnB73lNLr750EvclKikpGDPhTJjily5tRTy451dGByPgEYgGtEEtrxI6dQbo%2B0rEfKTY/CM949Tq44/K6y6oMaZl2iUza2yz8xXrhFzEEQVSNRmA/uYbwXkk8q4NLcatMyyU%2BS8awak%3D',\n",
       "    'latestReportRunTimeMs': '1510090985431',\n",
       "    'reportCount': 1,\n",
       "    'running': False,\n",
       "    'sendNotification': False,\n",
       "    'title': 'JUBA_day of week'},\n",
       "   'params': {'filters': [{'type': 'FILTER_ADVERTISER', 'value': '1958747'},\n",
       "     {'type': 'FILTER_LINE_ITEM', 'value': '13906955'},\n",
       "     {'type': 'FILTER_LINE_ITEM', 'value': '13857627'},\n",
       "     {'type': 'FILTER_LINE_ITEM', 'value': '13857390'},\n",
       "     {'type': 'FILTER_LINE_ITEM', 'value': '13857628'},\n",
       "     {'type': 'FILTER_PARTNER', 'value': '0'}],\n",
       "    'groupBys': ['FILTER_ADVERTISER',\n",
       "     'FILTER_LINE_ITEM',\n",
       "     'FILTER_ACTIVITY_ID',\n",
       "     'FILTER_DAY_OF_WEEK'],\n",
       "    'includeInviteData': False,\n",
       "    'metrics': ['METRIC_IMPRESSIONS',\n",
       "     'METRIC_CLICKS',\n",
       "     'METRIC_TOTAL_CONVERSIONS',\n",
       "     'METRIC_REVENUE_ADVERTISER',\n",
       "     'METRIC_MEDIA_COST_ADVERTISER',\n",
       "     'METRIC_CTR'],\n",
       "    'type': 'TYPE_GENERAL'},\n",
       "   'queryId': '1510090985328',\n",
       "   'reportDataEndTimeMs': '1507939200000',\n",
       "   'reportDataStartTimeMs': '1506211200000',\n",
       "   'schedule': {'endTimeMs': '0',\n",
       "    'frequency': 'ONE_TIME',\n",
       "    'nextRunMinuteOfDay': 1003,\n",
       "    'nextRunTimezoneCode': 'America/New_York'}},\n",
       "  {'kind': 'doubleclickbidmanager#query',\n",
       "   'metadata': {'dataRange': 'CUSTOM_DATES',\n",
       "    'format': 'CSV',\n",
       "    'googleCloudStoragePathForLatestReport': '',\n",
       "    'googleDrivePathForLatestReport': '',\n",
       "    'latestReportRunTimeMs': '0',\n",
       "    'reportCount': 1,\n",
       "    'running': True,\n",
       "    'sendNotification': False,\n",
       "    'title': 'JUBA_day of week'},\n",
       "   'params': {'filters': [{'type': 'FILTER_ADVERTISER', 'value': '1958747'},\n",
       "     {'type': 'FILTER_LINE_ITEM', 'value': '13906955'},\n",
       "     {'type': 'FILTER_LINE_ITEM', 'value': '13857627'},\n",
       "     {'type': 'FILTER_LINE_ITEM', 'value': '13857390'},\n",
       "     {'type': 'FILTER_LINE_ITEM', 'value': '13857628'},\n",
       "     {'type': 'FILTER_PARTNER', 'value': '0'}],\n",
       "    'groupBys': ['FILTER_ADVERTISER',\n",
       "     'FILTER_LINE_ITEM',\n",
       "     'FILTER_ACTIVITY_ID',\n",
       "     'FILTER_DAY_OF_WEEK'],\n",
       "    'includeInviteData': False,\n",
       "    'metrics': ['METRIC_IMPRESSIONS',\n",
       "     'METRIC_CLICKS',\n",
       "     'METRIC_TOTAL_CONVERSIONS',\n",
       "     'METRIC_REVENUE_ADVERTISER',\n",
       "     'METRIC_MEDIA_COST_ADVERTISER',\n",
       "     'METRIC_CTR'],\n",
       "    'type': 'TYPE_GENERAL'},\n",
       "   'queryId': '1510094521954',\n",
       "   'reportDataEndTimeMs': '1507939200000',\n",
       "   'reportDataStartTimeMs': '1506211200000',\n",
       "   'schedule': {'endTimeMs': '0',\n",
       "    'frequency': 'ONE_TIME',\n",
       "    'nextRunMinuteOfDay': 1062,\n",
       "    'nextRunTimezoneCode': 'America/New_York'}},\n",
       "  {'kind': 'doubleclickbidmanager#query',\n",
       "   'metadata': {'dataRange': 'CUSTOM_DATES',\n",
       "    'format': 'CSV',\n",
       "    'googleCloudStoragePathForLatestReport': '',\n",
       "    'googleDrivePathForLatestReport': '',\n",
       "    'latestReportRunTimeMs': '0',\n",
       "    'reportCount': 1,\n",
       "    'running': True,\n",
       "    'sendNotification': False,\n",
       "    'title': 'JUBA_day of week'},\n",
       "   'params': {'filters': [{'type': 'FILTER_ADVERTISER', 'value': '1958747'},\n",
       "     {'type': 'FILTER_LINE_ITEM', 'value': '13906955'},\n",
       "     {'type': 'FILTER_LINE_ITEM', 'value': '13857627'},\n",
       "     {'type': 'FILTER_LINE_ITEM', 'value': '13857390'},\n",
       "     {'type': 'FILTER_LINE_ITEM', 'value': '13857628'},\n",
       "     {'type': 'FILTER_PARTNER', 'value': '0'}],\n",
       "    'groupBys': ['FILTER_ADVERTISER',\n",
       "     'FILTER_LINE_ITEM',\n",
       "     'FILTER_ACTIVITY_ID',\n",
       "     'FILTER_DAY_OF_WEEK'],\n",
       "    'includeInviteData': False,\n",
       "    'metrics': ['METRIC_IMPRESSIONS',\n",
       "     'METRIC_CLICKS',\n",
       "     'METRIC_TOTAL_CONVERSIONS',\n",
       "     'METRIC_REVENUE_ADVERTISER',\n",
       "     'METRIC_MEDIA_COST_ADVERTISER',\n",
       "     'METRIC_CTR'],\n",
       "    'type': 'TYPE_GENERAL'},\n",
       "   'queryId': '1510094797145',\n",
       "   'reportDataEndTimeMs': '1507939200000',\n",
       "   'reportDataStartTimeMs': '1506211200000',\n",
       "   'schedule': {'endTimeMs': '0',\n",
       "    'frequency': 'ONE_TIME',\n",
       "    'nextRunMinuteOfDay': 1066,\n",
       "    'nextRunTimezoneCode': 'America/New_York'}},\n",
       "  {'kind': 'doubleclickbidmanager#query',\n",
       "   'metadata': {'dataRange': 'CUSTOM_DATES',\n",
       "    'format': 'CSV',\n",
       "    'googleCloudStoragePathForLatestReport': 'https://storage.googleapis.com/136578715968494243751510154299818_report/JUBA_day_of_week_2017-11-08-1518.csv?GoogleAccessId=539605939877-d5f5o3m6kd1mq4j6tl06v7glf07armq9@developer.gserviceaccount.com&Expires=1825514318&Signature=PRmRhAdoBEKt96y8d6/j4tmYmmR%2B28tdXx4LQCZ7nOrA%2BmNFpBVOR%2BnOACOFVVutXUeQRKiJctKCnEDFysIYvLJsO3IpKosiMr6fwppO6cj7n%2Bk2XPOWjHxv%2BV3mNIQnT4VqEIv0ZEzF8TLXxeTUcJgiNBI2gfXq3/L/RG4x/aI%3D',\n",
       "    'latestReportRunTimeMs': '1510154299918',\n",
       "    'reportCount': 1,\n",
       "    'running': False,\n",
       "    'sendNotification': False,\n",
       "    'title': 'JUBA_day of week'},\n",
       "   'params': {'filters': [{'type': 'FILTER_ADVERTISER', 'value': '1958747'},\n",
       "     {'type': 'FILTER_LINE_ITEM', 'value': '13906955'},\n",
       "     {'type': 'FILTER_LINE_ITEM', 'value': '13857627'},\n",
       "     {'type': 'FILTER_LINE_ITEM', 'value': '13857390'},\n",
       "     {'type': 'FILTER_LINE_ITEM', 'value': '13857628'},\n",
       "     {'type': 'FILTER_PARTNER', 'value': '0'}],\n",
       "    'groupBys': ['FILTER_ADVERTISER',\n",
       "     'FILTER_LINE_ITEM',\n",
       "     'FILTER_ACTIVITY_ID',\n",
       "     'FILTER_DAY_OF_WEEK'],\n",
       "    'includeInviteData': False,\n",
       "    'metrics': ['METRIC_IMPRESSIONS',\n",
       "     'METRIC_CLICKS',\n",
       "     'METRIC_TOTAL_CONVERSIONS',\n",
       "     'METRIC_REVENUE_ADVERTISER',\n",
       "     'METRIC_MEDIA_COST_ADVERTISER',\n",
       "     'METRIC_CTR'],\n",
       "    'type': 'TYPE_GENERAL'},\n",
       "   'queryId': '1510154299818',\n",
       "   'reportDataEndTimeMs': '1507939200000',\n",
       "   'reportDataStartTimeMs': '1506211200000',\n",
       "   'schedule': {'endTimeMs': '0',\n",
       "    'frequency': 'ONE_TIME',\n",
       "    'nextRunMinuteOfDay': 618,\n",
       "    'nextRunTimezoneCode': 'America/New_York'}},\n",
       "  {'kind': 'doubleclickbidmanager#query',\n",
       "   'metadata': {'dataRange': 'CUSTOM_DATES',\n",
       "    'format': 'CSV',\n",
       "    'googleCloudStoragePathForLatestReport': 'https://storage.googleapis.com/136578715968494243751510154794561_report/JUBA_day_of_week_2017-11-08-1526.csv?GoogleAccessId=539605939877-d5f5o3m6kd1mq4j6tl06v7glf07armq9@developer.gserviceaccount.com&Expires=1825514817&Signature=Oycyh%2B6Xb4v47/wXyuWwbsh/o77n/LFVnpDvjmDfN6/wb18IzZj0LVjGki0TvueuCNIpXT9RGhFDFn08BHE54cCj72p/P9S%2BauGfx2SjG4arZMyjlofBMm/5SljoXTuuZOn2se6fVP0MeBaOmzLNXb5om69HxU7bB2YqNekVeEg%3D',\n",
       "    'latestReportRunTimeMs': '1510154794659',\n",
       "    'reportCount': 1,\n",
       "    'running': False,\n",
       "    'sendNotification': False,\n",
       "    'title': 'JUBA_day of week'},\n",
       "   'params': {'filters': [{'type': 'FILTER_ADVERTISER', 'value': '1958747'},\n",
       "     {'type': 'FILTER_LINE_ITEM', 'value': '13906955'},\n",
       "     {'type': 'FILTER_LINE_ITEM', 'value': '13857627'},\n",
       "     {'type': 'FILTER_LINE_ITEM', 'value': '13857390'},\n",
       "     {'type': 'FILTER_LINE_ITEM', 'value': '13857628'},\n",
       "     {'type': 'FILTER_PARTNER', 'value': '0'}],\n",
       "    'groupBys': ['FILTER_ADVERTISER',\n",
       "     'FILTER_LINE_ITEM',\n",
       "     'FILTER_ACTIVITY_ID',\n",
       "     'FILTER_DAY_OF_WEEK'],\n",
       "    'includeInviteData': False,\n",
       "    'metrics': ['METRIC_IMPRESSIONS',\n",
       "     'METRIC_CLICKS',\n",
       "     'METRIC_TOTAL_CONVERSIONS',\n",
       "     'METRIC_REVENUE_ADVERTISER',\n",
       "     'METRIC_MEDIA_COST_ADVERTISER',\n",
       "     'METRIC_CTR'],\n",
       "    'type': 'TYPE_GENERAL'},\n",
       "   'queryId': '1510154794561',\n",
       "   'reportDataEndTimeMs': '1507939200000',\n",
       "   'reportDataStartTimeMs': '1506211200000',\n",
       "   'schedule': {'endTimeMs': '0',\n",
       "    'frequency': 'ONE_TIME',\n",
       "    'nextRunMinuteOfDay': 626,\n",
       "    'nextRunTimezoneCode': 'America/New_York'}}]}"
      ]
     },
     "execution_count": 4,
     "metadata": {},
     "output_type": "execute_result"
    }
   ],
   "source": [
    "service.queries().listqueries().execute()"
   ]
  },
  {
   "cell_type": "markdown",
   "metadata": {},
   "source": [
    "# download"
   ]
  },
  {
   "cell_type": "code",
   "execution_count": 6,
   "metadata": {
    "collapsed": true
   },
   "outputs": [],
   "source": [
    "query_id = '1510090985328'\n",
    "query_id3 = '1510094797145'"
   ]
  },
  {
   "cell_type": "code",
   "execution_count": 7,
   "metadata": {
    "collapsed": true
   },
   "outputs": [],
   "source": [
    "query = service.queries().getquery(queryId=query_id).execute()"
   ]
  },
  {
   "cell_type": "code",
   "execution_count": 8,
   "metadata": {},
   "outputs": [
    {
     "data": {
      "text/plain": [
       "{'kind': 'doubleclickbidmanager#query',\n",
       " 'metadata': {'dataRange': 'CUSTOM_DATES',\n",
       "  'format': 'CSV',\n",
       "  'googleCloudStoragePathForLatestReport': 'https://storage.googleapis.com/136578715968494243751510090985328_report/JUBA_day_of_week_2017-11-07-2143.csv?GoogleAccessId=539605939877-d5f5o3m6kd1mq4j6tl06v7glf07armq9@developer.gserviceaccount.com&Expires=1825451001&Signature=GBkCwIg9nrqY%2B/Kda4smRtgD1PzGcEgiHnB73lNLr750EvclKikpGDPhTJjily5tRTy451dGByPgEYgGtEEtrxI6dQbo%2B0rEfKTY/CM949Tq44/K6y6oMaZl2iUza2yz8xXrhFzEEQVSNRmA/uYbwXkk8q4NLcatMyyU%2BS8awak%3D',\n",
       "  'latestReportRunTimeMs': '1510090985431',\n",
       "  'reportCount': 1,\n",
       "  'running': False,\n",
       "  'sendNotification': False,\n",
       "  'title': 'JUBA_day of week'},\n",
       " 'params': {'filters': [{'type': 'FILTER_ADVERTISER', 'value': '1958747'},\n",
       "   {'type': 'FILTER_LINE_ITEM', 'value': '13906955'},\n",
       "   {'type': 'FILTER_LINE_ITEM', 'value': '13857627'},\n",
       "   {'type': 'FILTER_LINE_ITEM', 'value': '13857390'},\n",
       "   {'type': 'FILTER_LINE_ITEM', 'value': '13857628'},\n",
       "   {'type': 'FILTER_PARTNER', 'value': '0'}],\n",
       "  'groupBys': ['FILTER_ADVERTISER',\n",
       "   'FILTER_LINE_ITEM',\n",
       "   'FILTER_ACTIVITY_ID',\n",
       "   'FILTER_DAY_OF_WEEK'],\n",
       "  'includeInviteData': False,\n",
       "  'metrics': ['METRIC_IMPRESSIONS',\n",
       "   'METRIC_CLICKS',\n",
       "   'METRIC_TOTAL_CONVERSIONS',\n",
       "   'METRIC_REVENUE_ADVERTISER',\n",
       "   'METRIC_MEDIA_COST_ADVERTISER',\n",
       "   'METRIC_CTR'],\n",
       "  'type': 'TYPE_GENERAL'},\n",
       " 'queryId': '1510090985328',\n",
       " 'reportDataEndTimeMs': '1507939200000',\n",
       " 'reportDataStartTimeMs': '1506211200000',\n",
       " 'schedule': {'endTimeMs': '0',\n",
       "  'frequency': 'ONE_TIME',\n",
       "  'nextRunMinuteOfDay': 1003,\n",
       "  'nextRunTimezoneCode': 'America/New_York'}}"
      ]
     },
     "execution_count": 8,
     "metadata": {},
     "output_type": "execute_result"
    }
   ],
   "source": [
    "query"
   ]
  },
  {
   "cell_type": "code",
   "execution_count": 9,
   "metadata": {
    "collapsed": true
   },
   "outputs": [],
   "source": [
    "report_url = query['metadata']['googleCloudStoragePathForLatestReport']"
   ]
  },
  {
   "cell_type": "code",
   "execution_count": 10,
   "metadata": {},
   "outputs": [
    {
     "data": {
      "text/plain": [
       "'https://storage.googleapis.com/136578715968494243751510090985328_report/JUBA_day_of_week_2017-11-07-2143.csv?GoogleAccessId=539605939877-d5f5o3m6kd1mq4j6tl06v7glf07armq9@developer.gserviceaccount.com&Expires=1825451001&Signature=GBkCwIg9nrqY%2B/Kda4smRtgD1PzGcEgiHnB73lNLr750EvclKikpGDPhTJjily5tRTy451dGByPgEYgGtEEtrxI6dQbo%2B0rEfKTY/CM949Tq44/K6y6oMaZl2iUza2yz8xXrhFzEEQVSNRmA/uYbwXkk8q4NLcatMyyU%2BS8awak%3D'"
      ]
     },
     "execution_count": 10,
     "metadata": {},
     "output_type": "execute_result"
    }
   ],
   "source": [
    "report_url"
   ]
  },
  {
   "cell_type": "code",
   "execution_count": 11,
   "metadata": {
    "collapsed": true
   },
   "outputs": [],
   "source": [
    "output_dir = '/home/jian/LIFT'"
   ]
  },
  {
   "cell_type": "code",
   "execution_count": 12,
   "metadata": {
    "collapsed": true
   },
   "outputs": [],
   "source": [
    "from urllib.request import urlopen\n",
    "from contextlib import closing\n",
    "\n",
    "def download_report(output_dir, report_url):\n",
    "    output_file = '%s/%s.csv' % (output_dir, query['queryId'])\n",
    "    with open(output_file, 'wb') as output:\n",
    "        with closing(urlopen(report_url)) as url:\n",
    "            output.write(url.read())"
   ]
  },
  {
   "cell_type": "code",
   "execution_count": 14,
   "metadata": {
    "collapsed": true
   },
   "outputs": [],
   "source": [
    "download_report(output_dir, report_url)"
   ]
  },
  {
   "cell_type": "code",
   "execution_count": null,
   "metadata": {
    "collapsed": true
   },
   "outputs": [],
   "source": []
  }
 ],
 "metadata": {
  "kernelspec": {
   "display_name": "Python 3",
   "language": "python",
   "name": "python3"
  },
  "language_info": {
   "codemirror_mode": {
    "name": "ipython",
    "version": 3
   },
   "file_extension": ".py",
   "mimetype": "text/x-python",
   "name": "python",
   "nbconvert_exporter": "python",
   "pygments_lexer": "ipython3",
   "version": "3.6.1"
  }
 },
 "nbformat": 4,
 "nbformat_minor": 2
}
