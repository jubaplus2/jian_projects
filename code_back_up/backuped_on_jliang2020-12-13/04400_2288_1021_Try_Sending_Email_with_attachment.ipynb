{
 "cells": [
  {
   "cell_type": "code",
   "execution_count": 6,
   "metadata": {
    "collapsed": true
   },
   "outputs": [],
   "source": [
    "import smtplib\n",
    "from os.path import basename\n",
    "from email.mime.application import MIMEApplication\n",
    "from email.mime.multipart import MIMEMultipart\n",
    "from email.mime.text import MIMEText\n",
    "from email.utils import COMMASPACE, formatdate\n",
    "\n",
    "import paramiko\n",
    "from os.path import basename\n",
    "import os"
   ]
  },
  {
   "cell_type": "code",
   "execution_count": null,
   "metadata": {
    "collapsed": true
   },
   "outputs": [],
   "source": []
  },
  {
   "cell_type": "code",
   "execution_count": 5,
   "metadata": {},
   "outputs": [],
   "source": [
    "host = \"64.237.51.251\" #hard-coded\n",
    "port = 22\n",
    "transport = paramiko.Transport((host, port))\n",
    "\n",
    "password = \"keyi@juba2018\" #hard-coded\n",
    "username = \"keyi\" #hard-coded\n",
    "transport.connect(username = username, password = password)\n",
    "sftp = paramiko.SFTPClient.from_transport(transport)\n",
    "\n",
    "file_64=\"/mnt/drv5/keyi/FB_api/pacing_report/saatva_pacing_report.csv\"\n",
    "keyi_folder_192=\"/home/jian/Files_From_Keyi/\"\n",
    "\n",
    "localpath=keyi_folder_192+basename(file_64)\n",
    "try:\n",
    "    os.stat(localpath)\n",
    "except:\n",
    "    sftp.get(file_64,localpath)\n",
    "        \n",
    "sftp.close()\n"
   ]
  },
  {
   "cell_type": "code",
   "execution_count": 30,
   "metadata": {},
   "outputs": [
    {
     "data": {
      "text/plain": [
       "{}"
      ]
     },
     "execution_count": 30,
     "metadata": {},
     "output_type": "execute_result"
    }
   ],
   "source": [
    "sender=\"jliangmkt@gmail.com\"\n",
    "receivers='keyi@jubaplus.com' # To be motified if multiple receivers using \", \".join\n",
    "subject=\"Test_From_Jian\"\n",
    "\n",
    "\n",
    "msg = MIMEMultipart()\n",
    "msg['From'] = sender\n",
    "msg['To'] = receivers\n",
    "msg['Date'] = formatdate(localtime=True)\n",
    "msg['Subject'] = subject\n",
    "text_mesaage=\"111\"\n",
    "msg.attach(MIMEText(text_mesaage))\n",
    "\n",
    "with open(\"/home/jian/lawn_code.csv\", \"rb\") as fil:\n",
    "    part = MIMEApplication(\n",
    "        fil.read(),\n",
    "        Name=basename(\"/home/jian/lawn_code.csv\")\n",
    "    )\n",
    "    \n",
    "part['Content-Disposition'] = 'attachment; filename=\"%s\"' % basename(\"/home/jian/lawn_code.csv\")\n",
    "\n",
    "msg.attach(part)\n",
    "\n",
    "smtp = smtplib.SMTP('smtp.gmail.com',587)\n",
    "smtp.ehlo()\n",
    "smtp.starttls()\n",
    "smtp.login(self_email_address,self_pwd)\n",
    "\n",
    "smtp.sendmail(sender, receivers, msg.as_string())"
   ]
  },
  {
   "cell_type": "code",
   "execution_count": null,
   "metadata": {
    "collapsed": true
   },
   "outputs": [],
   "source": []
  }
 ],
 "metadata": {
  "kernelspec": {
   "display_name": "Python 3",
   "language": "python",
   "name": "python3"
  },
  "language_info": {
   "codemirror_mode": {
    "name": "ipython",
    "version": 3
   },
   "file_extension": ".py",
   "mimetype": "text/x-python",
   "name": "python",
   "nbconvert_exporter": "python",
   "pygments_lexer": "ipython3",
   "version": "3.6.1"
  }
 },
 "nbformat": 4,
 "nbformat_minor": 2
}
