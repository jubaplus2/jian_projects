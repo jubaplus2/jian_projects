{
 "cells": [
  {
   "cell_type": "code",
   "execution_count": 2,
   "metadata": {
    "collapsed": true
   },
   "outputs": [],
   "source": [
    "import pandas as pd"
   ]
  },
  {
   "cell_type": "code",
   "execution_count": 13,
   "metadata": {
    "collapsed": true
   },
   "outputs": [],
   "source": [
    "select_cols=['customer_id_hashed','transaction_date','transaction_time','transaction_id','location_id','total_transaction_amt','total_transaction_units']\n",
    "rewards_sales=pd.read_csv(\"/home/jian/Projects/Big_Lots/Loyal_members/loyalty_sales_data/From_Sp/combinedtransactions_0811.csv\",\n",
    "                            dtype=str,usecols=select_cols)\n",
    "rewards_sales=rewards_sales.drop_duplicates()\n"
   ]
  },
  {
   "cell_type": "code",
   "execution_count": null,
   "metadata": {
    "collapsed": true
   },
   "outputs": [],
   "source": [
    "rewards_sales_2=pd.read_table(\"/home/jian/Projects/Big_Lots/Loyal_members/loyalty_sales_data/MediaStormSalesBiWeekly20180828-131144-584.txt\",\n",
    "                             dtype=str,sep=\"|\",usecols=select_cols)\n",
    "rewards_sales_2=rewards_sales_2.drop_duplicates()\n",
    "rewards_sales_2=rewards_sales_2.rename(columns={\"transaction_dt\":\"transaction_date\"})\n",
    "rewards_sales=rewards_sales.append(rewards_sales_2)\n",
    "del rewards_sales_2\n",
    "\n",
    "rewards_sales_3=pd.read_table(\"/home/jian/Projects/Big_Lots/Loyal_members/loyalty_sales_data/MediaStormSalesBiWeekly20180911-133008-590.txt\",\n",
    "                             dtype=str,sep=\"|\",usecols=select_cols)\n",
    "rewards_sales_3=rewards_sales_3.drop_duplicates()\n",
    "rewards_sales_3=rewards_sales_3.rename(columns={\"transaction_dt\":\"transaction_date\"})\n",
    "rewards_sales_3['transaction_date']=rewards_sales_3['transaction_date'].apply(lambda x: datetime.datetime.strptime(x,\"%Y-%m-%d\").date())\n",
    "rewards_sales=rewards_sales.append(rewards_sales_3)\n",
    "del rewards_sales_3\n",
    "\n",
    "rewards_sales_4=pd.read_table(\"/home/jian/Projects/Big_Lots/Loyal_members/loyalty_sales_data/MediaStormSalesBiWeekly20180925-132958-543.txt\",\n",
    "                             dtype=str,sep=\"|\",usecols=select_cols)\n",
    "rewards_sales_4=rewards_sales_4.drop_duplicates()\n",
    "rewards_sales_4=rewards_sales_4.rename(columns={\"transaction_dt\":\"transaction_date\"})\n",
    "rewards_sales_4['transaction_date']=rewards_sales_4['transaction_date'].apply(lambda x: datetime.datetime.strptime(x,\"%Y-%m-%d\").date())\n",
    "rewards_sales=rewards_sales.append(rewards_sales_4)\n",
    "del rewards_sales_4\n",
    "\n",
    "rewards_sales_5=pd.read_table(\"/home/jian/Projects/Big_Lots/Loyal_members/loyalty_sales_data/MediaStormSalesBiWeekly20181009-132856-945.txt\",\n",
    "                             dtype=str,sep=\"|\",usecols=select_cols)\n",
    "rewards_sales_5=rewards_sales_5.drop_duplicates()\n",
    "rewards_sales_5=rewards_sales_5.rename(columns={\"transaction_dt\":\"transaction_date\"})\n",
    "rewards_sales_5['transaction_date']=rewards_sales_5['transaction_date'].apply(lambda x: datetime.datetime.strptime(x,\"%Y-%m-%d\").date())\n",
    "rewards_sales=rewards_sales.append(rewards_sales_5)\n",
    "del rewards_sales_5\n"
   ]
  },
  {
   "cell_type": "code",
   "execution_count": null,
   "metadata": {
    "collapsed": true
   },
   "outputs": [],
   "source": [
    "rewards_sales['month']=rewards_sales['transaction_date'].apply(lambda x: x[:7])"
   ]
  },
  {
   "cell_type": "code",
   "execution_count": null,
   "metadata": {
    "collapsed": true
   },
   "outputs": [],
   "source": [
    "for month,group in rewards_sales.groupby(['month']):\n",
    "    del group['month']\n",
    "    group.to_csv(\"/home/jian/Projects/Big_Lots/Loyal_members/loyalty_sales_data/Rewards_sales_by_month/rewards_sales_\"+month+\".csv\",index=False)\n",
    "    \n",
    "    \n",
    "    "
   ]
  }
 ],
 "metadata": {
  "kernelspec": {
   "display_name": "Python 3",
   "language": "python",
   "name": "python3"
  },
  "language_info": {
   "codemirror_mode": {
    "name": "ipython",
    "version": 3
   },
   "file_extension": ".py",
   "mimetype": "text/x-python",
   "name": "python",
   "nbconvert_exporter": "python",
   "pygments_lexer": "ipython3",
   "version": "3.6.1"
  }
 },
 "nbformat": 4,
 "nbformat_minor": 2
}
