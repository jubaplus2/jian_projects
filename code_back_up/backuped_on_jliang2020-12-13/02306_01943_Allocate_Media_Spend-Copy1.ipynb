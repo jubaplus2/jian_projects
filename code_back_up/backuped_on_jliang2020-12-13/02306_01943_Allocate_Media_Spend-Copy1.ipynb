{
 "cells": [
  {
   "cell_type": "code",
   "execution_count": 1,
   "metadata": {},
   "outputs": [
    {
     "name": "stderr",
     "output_type": "stream",
     "text": [
      "/usr/local/lib/python3.6/site-packages/fuzzywuzzy/fuzz.py:35: UserWarning: Using slow pure-python SequenceMatcher. Install python-Levenshtein to remove this warning\n",
      "  warnings.warn('Using slow pure-python SequenceMatcher. Install python-Levenshtein to remove this warning')\n"
     ]
    }
   ],
   "source": [
    "import pandas as pd\n",
    "import datetime\n",
    "import os\n",
    "import json\n",
    "from fuzzywuzzy import fuzz\n",
    "import numpy as np"
   ]
  },
  {
   "cell_type": "code",
   "execution_count": 2,
   "metadata": {},
   "outputs": [],
   "source": [
    "json_file=\"/home/jian/Docs/Geo_mapping/dma_map_latest.json\"\n",
    "DMA_name_mapping=json.load(open(json_file,\"r\"))"
   ]
  },
  {
   "cell_type": "code",
   "execution_count": 3,
   "metadata": {},
   "outputs": [
    {
     "data": {
      "text/plain": [
       "{'DULUTH-SUPERIOR': 'Duluth, MN-Superior, WI',\n",
       " 'Rapid City, SD': 'Rapid City, SD',\n",
       " 'Abilene-Sweetwater': 'Abilene-Sweetwater, TX',\n",
       " 'Toledo': 'Toledo, OH',\n",
       " 'RIO RANCHO, NM': 'Albuquerque-Santa Fe, NM',\n",
       " 'ERIE': 'Erie, PA',\n",
       " 'Des Moines-Ames IA': 'Des Moines-Ames, IA',\n",
       " 'PHILADELPHIA': 'Philadelphia, PA',\n",
       " 'TARPON SPRINGS, FL': 'Tampa-St Petersburg (Sarasota), FL',\n",
       " 'Unknown': 'xx',\n",
       " 'FT. WAYNE': 'Ft. Wayne, IN',\n",
       " 'Lake Charles LA': 'Lake Charles, LA',\n",
       " 'LINCOLN, DE': 'Salisbury, MD',\n",
       " 'Santa Barbara-Santa Maria-San Luis Obispo CA': 'Santa Barbara-San Luis Obispo, CA',\n",
       " 'PORTLAND': 'Portland, OR',\n",
       " 'Victoria TX': 'Victoria, TX',\n",
       " 'PHILADELPHIA, PA': 'Philadelphia, PA',\n",
       " 'Davenport-R.Isl': 'Davenport,IA-Rock Island-Moline,IL',\n",
       " 'BILLERICA, MA': 'Boston, MA-Manchester, NH',\n",
       " 'Waco': 'Waco-Temple-Bryan, TX',\n",
       " 'MilwaukeeWI': 'Milwaukee, WI',\n",
       " 'TRAVERSE CITY-CADILLAC': 'Traverse City-Cadillac, MI',\n",
       " 'ROCKFORD': 'Rockford, IL',\n",
       " 'DEVON, PA': 'Philadelphia, PA',\n",
       " 'BROOKSVILLE, FL': 'Tampa-St Petersburg (Sarasota), FL',\n",
       " 'Boise': 'Boise, ID',\n",
       " 'Grand Junction-Montrose, CO': 'Grand Junction-Montrose, CO',\n",
       " 'Florence-Myrtle Beach, SC': 'Florence-Myrtle Beach, SC',\n",
       " 'MIAMI, FL': 'Miami-Ft. Lauderdale, FL',\n",
       " 'Dallas-Ft. Wort': 'Dallas-Ft. Worth, TX',\n",
       " 'JACKSON': 'Jackson, TN',\n",
       " 'FRESNO': 'Fresno-Visalia, CA',\n",
       " 'WASHINGTON': 'Washington, DC (Hagerstown, MD)',\n",
       " 'FAIRBANKS': 'Fairbanks, AK',\n",
       " 'CEDAR CITY, UT': 'Salt Lake City, UT',\n",
       " 'atlanta, GA': 'Atlanta, GA',\n",
       " 'Monterey-Salinas CA': 'Monterey-Salinas, CA',\n",
       " 'TERRE HAUTE': 'Terre Haute, IN',\n",
       " 'MIDDLEBURG, FL': 'Jacksonville, FL',\n",
       " 'Las Vegas': 'Las Vegas, NV',\n",
       " 'PLEASANT GROVE, UT': 'Salt Lake City, UT',\n",
       " 'CLEVELAND, OH': 'Cleveland-Akron (Canton), OH',\n",
       " 'KANNAPOLIS, NC': 'Charlotte, NC',\n",
       " 'MABLETON, GA': 'Atlanta, GA',\n",
       " 'Portland-Auburn ME': 'Portland-Auburn, ME',\n",
       " 'TRI-CITIES': 'Tri-Cities, TN-VA',\n",
       " 'Ft. Myers-Naple': 'Ft. Myers-Naples, FL',\n",
       " 'Hattiesburg-Laurel, MS': 'Hattiesburg-Laurel, MS',\n",
       " 'MEDFORD-KLAMATH FALLS': 'Medford-Klamath Falls, OR',\n",
       " 'Indianapolis, IN': 'Indianapolis, IN',\n",
       " 'DAVENPORT-R.ISLAND-MOLINE': 'Davenport,IA-Rock Island-Moline,IL',\n",
       " 'Buffalo': 'Buffalo, NY',\n",
       " 'Charlotte NC': 'Charlotte, NC',\n",
       " 'PHOENIXVILLE, PA': 'Philadelphia, PA',\n",
       " 'Tucson (Sierra Vista), AZ': 'Tucson (Sierra Vista), AZ',\n",
       " 'Lake Charles': 'Lake Charles, LA',\n",
       " 'FLORENCE-MYRTLE BEACH': 'Florence-Myrtle Beach, SC',\n",
       " 'Burlington-Plattsburgh': 'Burlington, VT-Plattsburgh, NY',\n",
       " 'Austin TX': 'Austin, TX',\n",
       " 'Oklahoma City OK': 'Oklahoma City, OK',\n",
       " 'Butte-Bozeman, MT': 'Butte-Bozeman, MT',\n",
       " 'Idaho Falls-Pocatello, ID': 'Idaho Falls-Pocatello, ID',\n",
       " 'HARRODSBURG, KY': 'Louisville, KY',\n",
       " 'TYLER-LONGVIEW(LFKN&NCGD)': 'Tyler-Longview(Nacogdoches), TX',\n",
       " 'Flint-Saginaw-B': 'Flint-Saginaw-Bay City, MI',\n",
       " 'Flint-Saginaw-Bay City MI': 'Flint-Saginaw-Bay City, MI',\n",
       " 'BEAUMONT': 'Beaumont-Port Arthur, TX',\n",
       " 'West Palm Beach': 'West Palm Beach-Ft. Pierce, FL',\n",
       " 'LEVITTOWN, PA': 'Philadelphia, PA',\n",
       " 'Washington DC': 'Washington, DC (Hagerstown, MD)',\n",
       " 'Columbus-Tupelo': 'Columbus-Tupelo-West Point, MS',\n",
       " 'MADISON HEIGHTS, MI': 'Detroit, MI',\n",
       " 'BEACHWOOD, OH': 'Cleveland-Akron (Canton), OH',\n",
       " 'LosAngelesCA': 'Los Angeles, CA',\n",
       " 'Phoenix': 'Phoenix, AZ',\n",
       " 'FEASTERVILLE TREVOSE, PA': 'Philadelphia, PA',\n",
       " 'Johnstown-Altoona-St Colge': 'Johnstown-Altoona, PA',\n",
       " 'BARNEGAT, NJ': 'New York, NY',\n",
       " 'LEECHBURG, PA': 'Pittsburgh, PA',\n",
       " 'Hartford': 'Hartford & New Haven, CT',\n",
       " 'Peoria/Bloomngtn': 'Peoria-Bloomington, IL',\n",
       " 'LEXINGTON': 'Lexington, KY',\n",
       " 'Miami-Ft. Lauderdale, FL': 'Miami-Ft. Lauderdale, FL',\n",
       " 'Twin Falls, ID': 'Twin Falls, ID',\n",
       " 'Springfield-Hol': 'Springfield-Holyoke, MA',\n",
       " 'Binghamton NY': 'Binghamton, NY',\n",
       " 'Abilene-Sweetwa': 'Abilene-Sweetwater, TX',\n",
       " 'ROMULUS, MI': 'Detroit, MI',\n",
       " 'RICHMOND-PETERSBURG': 'Richmond-Petersburg, VA',\n",
       " 'BROKEN ARROW, OK': 'Tulsa, OK',\n",
       " 'Chicago, IL': 'Chicago, IL',\n",
       " 'Baton Rouge LA': 'Baton Rouge, LA',\n",
       " 'Portland-Auburn, ME': 'Portland-Auburn, ME',\n",
       " 'Chico-Redding CA': 'Chico-Redding, CA',\n",
       " 'BAKERSFIELD': 'Bakersfield, CA',\n",
       " 'South Bend-Elkhart, IN': 'South Bend-Elkhart, IN',\n",
       " 'FLORHAM PARK, NJ': 'New York, NY',\n",
       " 'NEW PORT RICHEY, FL': 'Tampa-St Petersburg (Sarasota), FL',\n",
       " 'PITTSBURGH, PA': 'Pittsburgh, PA',\n",
       " 'Charlottesville': 'Charlottesville, VA',\n",
       " 'PANAMA CITY': 'Panama City, FL',\n",
       " 'KENNESAW, GA': 'Atlanta, GA',\n",
       " 'WICHITA-HUTCHINSON PLUS': 'Wichita-Hutchinson, KS',\n",
       " 'WashingtonDC': 'Washington, DC (Hagerstown, MD)',\n",
       " 'Detroit ': 'Detroit, MI',\n",
       " 'Jonesboro': 'Jonesboro, AR',\n",
       " 'BENSALEM, PA': 'Philadelphia, PA',\n",
       " 'CHATTANOOGA': 'Chattanooga, TN',\n",
       " 'Mobile': 'Mobile, AL-Pensacola, FL',\n",
       " 'Grand Junction-Montrose CO': 'Grand Junction-Montrose, CO',\n",
       " 'BANGOR': 'Bangor, ME',\n",
       " 'NORTH FORT MYERS, FL': 'Ft. Myers-Naples, FL',\n",
       " 'TAMPA': 'Tampa-St Petersburg (Sarasota), FL',\n",
       " 'Ft. Wayne IN': 'Ft. Wayne, IN',\n",
       " 'Myrtle Beach-Florence': 'Florence-Myrtle Beach, SC',\n",
       " 'Houston, TX': 'Houston, TX',\n",
       " 'Odessa-Midland TX': 'Odessa-Midland, TX',\n",
       " 'Biloxi-Gulfport': 'Biloxi-Gulfport, MS',\n",
       " 'HARRISONBURG': 'Harrisonburg, VA',\n",
       " 'PHOENIX (PRESCOTT)': 'Phoenix, AZ',\n",
       " 'Waco-Temple-Bryan': 'Waco-Temple-Bryan, TX',\n",
       " 'ROANOKE-LYNCHBURG': 'Roanoke-Lynchburg, VA',\n",
       " 'CROTON ON HUDSON, NY': 'New York, NY',\n",
       " 'JUNEAU': 'Juneau, AK',\n",
       " 'MIAMI-FT. LAUDERDALE': 'Miami-Ft. Lauderdale, FL',\n",
       " 'Hattsburg/Laurel': 'Hattiesburg-Laurel, MS',\n",
       " 'Mobile AL-Pensacola (Ft. Walton Beach) FL': 'Mobile, AL-Pensacola, FL',\n",
       " 'VENICE, FL': 'Tampa-St Petersburg (Sarasota), FL',\n",
       " 'Minneapolis-St.': 'Minneapolis-St. Paul, MN',\n",
       " 'Minot-Bsmrck-Dc': 'Minot-Bismarck-Dickinson, ND',\n",
       " 'Corpus Christi, TX': 'Corpus Christi, TX',\n",
       " 'SEAFORD, DE': 'Salisbury, MD',\n",
       " 'Watertown': 'Watertown, NY',\n",
       " 'HOLLISTON, MA': 'Boston, MA-Manchester, NH',\n",
       " 'Albany-Schenectady-Troy NY': 'Albany-Schenectady-Troy, NY',\n",
       " 'CASPER-RIVERTON': 'Casper-Riverton, WY',\n",
       " 'National': 'National',\n",
       " 'CHARLESTON': 'Charleston, SC',\n",
       " 'SEA ISLE CITY, NJ': 'Philadelphia, PA',\n",
       " 'Chico-Redding, CA': 'Chico-Redding, CA',\n",
       " 'Davenport IA-Rock Island-Moline IL': 'Davenport,IA-Rock Island-Moline,IL',\n",
       " 'MobileAL': 'Mobile, AL-Pensacola, FL',\n",
       " 'Mobile, AL-Pensacola, FL': 'Mobile, AL-Pensacola, FL',\n",
       " 'BRIDGEVILLE, DE': 'Salisbury, MD',\n",
       " 'ColumbusOH': 'Columbus, OH',\n",
       " 'Wilkes Barre-Scranton PA': 'Wilkes Barre-Scranton, PA',\n",
       " 'Orlando-Daytona Bch-Melbrn': 'Orlando-Daytona Beach, FL',\n",
       " 'DOTHAN': 'Dothan, AL',\n",
       " 'SEMINOLE, FL': 'Tampa-St Petersburg (Sarasota), FL',\n",
       " 'Lima, OH': 'Lima, OH',\n",
       " 'Dallas-Ft. Worth, TX': 'Dallas-Ft. Worth, TX',\n",
       " 'Pittsburgh, PA': 'Pittsburgh, PA',\n",
       " 'Shreveport': 'Shreveport, LA',\n",
       " 'South Bend-Elkh': 'South Bend-Elkhart, IN',\n",
       " 'ATLANTA': 'Atlanta, GA',\n",
       " 'SEATTLE': 'Seattle-Tacoma, WA',\n",
       " ' MACON': 'Macon, GA',\n",
       " 'Green Bay-Apple': 'Green Bay-Appleton, WI',\n",
       " 'Idaho Fals-Poca': 'Idaho Falls-Pocatello, ID',\n",
       " 'SACRAMNTO-STKTN-MODESTO': 'Sacramento-Stockton-Modesto, CA',\n",
       " 'Wichita-Hutchinson KS': 'Wichita-Hutchinson, KS',\n",
       " 'FT LAUDER': 'Miami-Ft. Lauderdale, FL',\n",
       " 'Charleston': 'Charleston, SC',\n",
       " 'TWIN FALLS': 'Twin Falls, ID',\n",
       " 'GREENWOOD-GREENVILLE': 'Greenwood-Greenville, MS',\n",
       " 'PHOENIX': 'Phoenix, AZ',\n",
       " 'PanamaCityFL': 'Panama City, FL',\n",
       " 'KINGSTON, MA': 'Boston, MA-Manchester, NH',\n",
       " 'NAPLES, FL': 'Ft. Myers-Naples, FL',\n",
       " 'NASHUA, NH': 'Boston, MA-Manchester, NH',\n",
       " 'Buffalo, NY': 'Buffalo, NY',\n",
       " 'AUSTIN': 'Austin, TX',\n",
       " 'SAN ANTONIO': 'San Antonio, TX',\n",
       " 'Chicago': 'Chicago, IL',\n",
       " 'Lubbock': 'Lubbock, TX',\n",
       " 'Cleveland-Akron (Canton) OH': 'Cleveland-Akron (Canton), OH',\n",
       " 'TUCSON (SIERRA VISTA)': 'Tucson (Sierra Vista), AZ',\n",
       " 'MOBILE-PENSACOLA': 'Mobile, AL-Pensacola, FL',\n",
       " 'SiouxCityIA': 'Sioux City, IA',\n",
       " 'SNELLVILLE, GA': 'Atlanta, GA',\n",
       " 'CUDAHY, CA': 'Los Angeles, CA',\n",
       " 'FORT MYERS, FL': 'Ft. Myers-Naples, FL',\n",
       " 'Binghamton, NY': 'Binghamton, NY',\n",
       " 'Grand Rapids': 'Grand Rapids-Kalamazoo, MI',\n",
       " 'BELLE VERNON, PA': 'Pittsburgh, PA',\n",
       " 'RIO GRANDE, NJ': 'Philadelphia, PA',\n",
       " 'Dothan': 'Dothan, AL',\n",
       " 'Bakersfield': 'Bakersfield, CA',\n",
       " 'Fresno/Visalia': 'Fresno-Visalia, CA',\n",
       " 'San Francisco-Oakland-San Jose CA': 'San Francisco-Oakland-San Jose, CA',\n",
       " 'LITTLE ROCK -PINE BLUFF': 'Little Rock-Pine Bluff, AR',\n",
       " 'Wheeling-Steube': 'Wheeling, WV-Steubenville, OH',\n",
       " 'SYRACUSE': 'Syracuse, NY',\n",
       " 'Denver, CO': 'Denver, CO',\n",
       " 'Glendive': 'Glendive, MT',\n",
       " 'HoustonTX': 'Houston, TX',\n",
       " 'MANAHAWKIN, NJ': 'New York, NY',\n",
       " 'Peoria-Bloomington': 'Peoria-Bloomington, IL',\n",
       " 'Fairbanks AK': 'Fairbanks, AK',\n",
       " 'FT LAUDERDALE, FL': 'Miami-Ft. Lauderdale, FL',\n",
       " 'NewYorkNY': 'New York, NY',\n",
       " 'Corpus Christi': 'Corpus Christi, TX',\n",
       " 'Huntsville-Decatur (Florence) AL': 'Huntsville-Decatur (Florence), AL',\n",
       " 'LAREDO': 'Laredo, TX',\n",
       " 'SHEPHERDSVILLE, KY': 'Louisville, KY',\n",
       " 'BOYERTOWN, PA': 'Philadelphia, PA',\n",
       " 'BinghamtonNY': 'Binghamton, NY',\n",
       " 'Presque Isle': 'Presque Isle, ME',\n",
       " 'Sioux Falls(Mit': 'Sioux Falls(Mitchell), SD',\n",
       " 'AMERICAN FORK, UT': 'Salt Lake City, UT',\n",
       " 'PADUCAH-CAPE-GRIARD-HARSBG': 'Paducah, KY-Harrisburg, IL',\n",
       " 'Seattle-Tacoma WA': 'Seattle-Tacoma, WA',\n",
       " 'ALBANY-SCHENECTADY-TROY': 'Albany-Schenectady-Troy, NY',\n",
       " 'Harrisonburg': 'Harrisonburg, VA',\n",
       " 'Rochester, NY': 'Rochester, NY',\n",
       " 'Tampa-St. Petersburg (Sarasota) FL': 'Tampa-St Petersburg (Sarasota), FL',\n",
       " 'Glendive, MT': 'Glendive, MT',\n",
       " 'Roanoke-Lynchbu': 'Roanoke-Lynchburg, VA',\n",
       " 'Greenville-Spartanburg-Asheville-Anderson': 'Greenville-Spartanburg, SC',\n",
       " 'WASHINGTON, PA': 'Pittsburgh, PA',\n",
       " 'JACKSONVILLE BEACH, FL': 'Jacksonville, FL',\n",
       " 'Tucson (Sierra': 'Tucson (Sierra Vista), AZ',\n",
       " 'AkronOH': 'Cleveland-Akron (Canton), OH',\n",
       " 'JEFFERSONVILLE, IN': 'Louisville, KY',\n",
       " 'North Platte, NE': 'North Platte, NE',\n",
       " 'Springfield-Holyoke MA': 'Springfield-Holyoke, MA',\n",
       " 'Tyler': 'Tyler-Longview(Nacogdoches), TX',\n",
       " 'Reno, NV': 'Reno, NV',\n",
       " 'Jackson': 'Jackson, MS',\n",
       " 'Mankato, MN': 'Mankato, MN',\n",
       " 'Lubbock TX': 'Lubbock, TX',\n",
       " 'Spokane WA': 'Spokane, WA',\n",
       " 'WESTLAND, MI': 'Detroit, MI',\n",
       " 'MINOT-BISMARCK-DICKINSON': 'Minot-Bismarck-Dickinson, ND',\n",
       " 'ORANGE PARK, FL': 'Jacksonville, FL',\n",
       " 'South Bend-Elkhart': 'South Bend-Elkhart, IN',\n",
       " 'Sioux City IA': 'Sioux City, IA',\n",
       " 'ACWORTH, GA': 'Atlanta, GA',\n",
       " 'Flint-Saginaw-Bay City': 'Flint-Saginaw-Bay City, MI',\n",
       " 'Boston (Manches': 'Boston, MA-Manchester, NH',\n",
       " 'Corpus Christi TX': 'Corpus Christi, TX',\n",
       " 'San Francisco-Oak-San Jose': 'San Francisco-Oakland-San Jose, CA',\n",
       " 'NORTH OLMSTED, OH': 'Cleveland-Akron (Canton), OH',\n",
       " 'New York': 'New York, NY',\n",
       " 'Lafayette LA': 'LAFAYETTE, LA',\n",
       " 'LINCOLNTON, NC': 'Charlotte, NC',\n",
       " 'Roanoke-Lynchburg VA': 'Roanoke-Lynchburg, VA',\n",
       " 'Miami-Ft. Lauderdale FL': 'Miami-Ft. Lauderdale, FL',\n",
       " 'BRISTOL, PA': 'Philadelphia, PA',\n",
       " 'Duluth MN-Superior WI': 'Duluth, MN-Superior, WI',\n",
       " 'THOROFARE, NJ': 'Philadelphia, PA',\n",
       " 'BIRMINGHAM (ANN AND TUSC)': 'Birmingham, AL',\n",
       " 'Nashville TN': 'Nashville, TN',\n",
       " 'Dayton OH': 'Dayton, OH',\n",
       " 'CHERRY HILL, NJ': 'Philadelphia, PA',\n",
       " 'ChicagoIL': 'Chicago, IL',\n",
       " 'CHARLOTTE': 'Charlotte, NC',\n",
       " 'Charleston-Huntington WV': 'Charleston-Huntington, WV',\n",
       " 'Columbus OH': 'Columbus, OH',\n",
       " 'MISSOULA': 'Missoula, MT',\n",
       " 'Bluefield-Beckley-Oak Hill WV': 'Bluefield-Beckley-Oak Hill, WV',\n",
       " 'Ft. Myers-Naples': 'Ft. Myers-Naples, FL',\n",
       " 'Knoxville, TN': 'Knoxville, TN',\n",
       " 'JONESBORO, GA': 'Atlanta, GA',\n",
       " 'Palm Springs': 'Palm Springs, CA',\n",
       " 'OMAHA': 'Omaha, NE',\n",
       " 'Jackson TN': 'Jackson, TN',\n",
       " 'HuntingtonWV': 'Charleston-Huntington, WV',\n",
       " 'WARREN, OH': 'Youngstown, OH',\n",
       " 'Lafayette IN': 'Lafayette, IN',\n",
       " 'ALLIANCE, OH': 'Cleveland-Akron (Canton), OH',\n",
       " 'HARRINGTON, DE': 'Salisbury, MD',\n",
       " 'JacksonMS': 'Jackson, MS',\n",
       " 'Waco-Temple-Bryan TX': 'Waco-Temple-Bryan, TX',\n",
       " 'CRYSTAL RIVER, FL': 'Tampa-St Petersburg (Sarasota), FL',\n",
       " 'Boston MA-Manchester NH': 'Boston, MA-Manchester, NH',\n",
       " 'ColoradoSpringsC': 'Colorado Springs-Pueblo, CO',\n",
       " 'Tampa': 'Tampa-St Petersburg (Sarasota), FL',\n",
       " 'Cleveland': 'Cleveland-Akron (Canton), OH',\n",
       " 'BERWYN, PA': 'Philadelphia, PA',\n",
       " 'Gainesville FL': 'Gainesville, FL',\n",
       " 'GLENDIVE': 'Glendive, MT',\n",
       " 'Clarksburg': 'Clarksburg-Weston, WV',\n",
       " 'BRANDON, FL': 'Tampa-St Petersburg (Sarasota), FL',\n",
       " 'BEAUMONT -PORT ARTHUR P': 'Beaumont-Port Arthur, TX',\n",
       " 'FT MYERS NAPLES': 'Ft. Myers-Naples, FL',\n",
       " 'CLEVELAND-AKRON (CANTON)': 'Cleveland-Akron (Canton), OH',\n",
       " 'LIVINGSTON, NJ': 'New York, NY',\n",
       " 'Norfolk-Portsmt': 'Norfolk-Portsmouth-Newport News,VA',\n",
       " 'Medford-Klamath Falls, OR': 'Medford-Klamath Falls, OR',\n",
       " 'MERIDIAN': 'Meridian, MS',\n",
       " 'San Angelo': 'San Angelo, TX',\n",
       " 'Monterey-Salina': 'Monterey-Salinas, CA',\n",
       " 'ROCHESTER': 'Rochester, NY',\n",
       " 'Greensboro-H.Po': 'Greensboro-Winston Salem, NC',\n",
       " 'Raleigh-Durham (Fayetteville), NC': 'Raleigh-Durham (Fayetteville), NC',\n",
       " 'RIDGECREST, CA': 'Los Angeles, CA',\n",
       " 'Tyler-Longview(Lfkn&Ncgd)': 'Tyler-Longview(Nacogdoches), TX',\n",
       " 'Columbus-Tupelo-West Point MS': 'Columbus-Tupelo-West Point, MS',\n",
       " 'Tucson (Sierra Vista) AZ': 'Tucson (Sierra Vista), AZ',\n",
       " 'Alpena, MI': 'Alpena, MI',\n",
       " 'San Angelo TX': 'San Angelo, TX',\n",
       " 'Portland': 'Portland, OR',\n",
       " 'WHARTON, NJ': 'New York, NY',\n",
       " 'DANVILLE, KY': 'Lexington, KY',\n",
       " 'BEVERLY, NJ': 'Philadelphia, PA',\n",
       " 'Milwaukee, WI': 'Milwaukee, WI',\n",
       " 'FLINT-SAGINAW-BAY CITY': 'Flint-Saginaw-Bay City, MI',\n",
       " 'WEST MIFFLIN, PA': 'Pittsburgh, PA',\n",
       " 'PoughkeepsieNY': 'New York, NY',\n",
       " 'GREENVLL-SPART-ASHEVLL-AND': 'Greenville-Spartanburg, SC',\n",
       " 'Providence-New Bedford,MA': 'Providence, RI-New Bedford, MA',\n",
       " 'PALM HARBOR, FL': 'Tampa-St Petersburg (Sarasota), FL',\n",
       " 'Wichita-Hutchinson, KS': 'Wichita-Hutchinson, KS',\n",
       " 'ENGLEWOOD, FL': 'Tampa-St Petersburg (Sarasota), FL',\n",
       " 'EAST HANOVER, NJ': 'New York, NY',\n",
       " 'WAUSAU-RHINELANDER': 'Wausau-Rhinelander, WI',\n",
       " 'San Diego CA': 'San Diego, CA',\n",
       " 'LAFAYETTE': 'LAFAYETTE, LA',\n",
       " 'LAND O LAKES, FL': 'Tampa-St Petersburg (Sarasota), FL',\n",
       " 'PORT ARTHUR, TX': 'Beaumont-Port Arthur, TX',\n",
       " 'Fresno': 'Fresno-Visalia, CA',\n",
       " 'Meridian MS': 'Meridian, MS',\n",
       " 'ALPHARETTA, GA': 'Atlanta, GA',\n",
       " 'Grand Rapids-Kalamazoo-Battle Creek MI': 'Grand Rapids-Kalamazoo, MI',\n",
       " 'Parkersburg WV': 'Parkersburg, WV',\n",
       " 'MORRISVILLE, PA': 'Philadelphia, PA',\n",
       " 'CLEARWATER, FL': 'Tampa-St Petersburg (Sarasota), FL',\n",
       " 'Wheeling/Steubn': 'Wheeling, WV-Steubenville, OH',\n",
       " 'Springfield-Holyoke, MA': 'Springfield-Holyoke, MA',\n",
       " 'Marquette, MI': 'Marquette, MI',\n",
       " 'Providence-New': 'Providence, RI-New Bedford, MA',\n",
       " 'POINT PLEASANT BEACH, NJ': 'New York, NY',\n",
       " 'MONROE-EL DORADO': 'Monroe, LA-El Dorado, AR',\n",
       " 'El Paso (Las Cr': 'El Paso, TX',\n",
       " 'Syracuse': 'Syracuse, NY',\n",
       " 'AVALON, NJ': 'Philadelphia, PA',\n",
       " 'Columbus-Tupelo-West Point, MS': 'Columbus-Tupelo-West Point, MS',\n",
       " 'CorpusChristiTX': 'Corpus Christi, TX',\n",
       " 'Richmond-Petersburg, VA': 'Richmond-Petersburg, VA',\n",
       " 'boston, MA-Manchester, NH': 'Boston, MA-Manchester, NH',\n",
       " 'Chp/Sprgfld/Dktr': 'Champaign & Springfield-Decatur,IL',\n",
       " 'RALEIGH-DURHAM': 'Raleigh-Durham (Fayetteville), NC',\n",
       " 'TAMPA-ST. PETE (SARASOTA)': 'Tampa-St Petersburg (Sarasota), FL',\n",
       " 'NORFOLK-PORTSMTH-NEWPT NWS': 'Norfolk-Portsmouth-Newport News,VA',\n",
       " 'HARRISBURG-LNCSTR-LEB-YORK': 'Harrisburg-Lancaster-York, PA',\n",
       " 'Macon': 'Macon, GA',\n",
       " 'INVERNESS, FL': 'Tampa-St Petersburg (Sarasota), FL',\n",
       " 'Norfolk-Portsmouth-Newport News VA': 'Norfolk-Portsmouth-Newport News,VA',\n",
       " 'TACOMA, WA': 'Seattle-Tacoma, WA',\n",
       " 'SHERMAN-ADA': 'Sherman, TX-Ada, OK',\n",
       " 'SALISBURY': 'Salisbury, MD',\n",
       " 'BLACKWOOD, NJ': 'Philadelphia, PA',\n",
       " 'Myrtle Beach-Fl': 'Florence-Myrtle Beach, SC',\n",
       " 'Tyler-Longview(': 'Tyler-Longview(Nacogdoches), TX',\n",
       " 'LINCOLN & HASTINGS-KRNY': 'Lincoln & Hastings-Kearney, NE',\n",
       " 'New Orleans, LA': 'New Orleans, LA',\n",
       " 'Dallas': 'Dallas-Ft. Worth, TX',\n",
       " 'EDISON, NJ': 'New York, NY',\n",
       " 'TuscaloosaAL': 'Birmingham, AL',\n",
       " 'Evansville IN': 'Evansville, IN',\n",
       " 'RIVERSIDE, CA': 'Los Angeles, CA',\n",
       " 'Portland OR': 'Portland, OR',\n",
       " 'TUCSON, AZ': 'Tucson (Sierra Vista), AZ',\n",
       " 'Wichita-Hutchin': 'Wichita-Hutchinson, KS',\n",
       " 'San Diego, CA': 'San Diego, CA',\n",
       " 'Butte-Bozeman': 'Butte-Bozeman, MT',\n",
       " 'MAPLE SHADE, NJ': 'Philadelphia, PA',\n",
       " 'Lexington KY': 'Lexington, KY',\n",
       " 'Florence-Myrtle Beach SC': 'Florence-Myrtle Beach, SC',\n",
       " 'RENO': 'Reno, NV',\n",
       " 'Harrisburg-Lncs': 'Harrisburg-Lancaster-York, PA',\n",
       " 'DECATUR, GA': 'Atlanta, GA',\n",
       " 'LA CROSSE-EAU CLAIRE': 'La Crosse-Eau Claire, WI',\n",
       " 'Tallahassee-Thomasville': 'Tallahassee, FL-Thomasville, GA',\n",
       " 'PLANT CITY, FL': 'Tampa-St Petersburg (Sarasota), FL',\n",
       " 'LAFAYETTE, IN': 'Lafayette, IN',\n",
       " 'Boston, MA-Manchester, NH': 'Boston, MA-Manchester, NH',\n",
       " 'WASHINGTON, DC': 'Washington, DC (Hagerstown, MD)',\n",
       " 'Lexington, KY': 'Lexington, KY',\n",
       " 'SIOUX FALLS(MITCHELL)': 'Sioux Falls(Mitchell), SD',\n",
       " 'COLUMBIA, SC': 'Columbia, SC',\n",
       " 'MONTEREY': 'Monterey-Salinas, CA',\n",
       " 'Burlington VT-Plattsburgh NY': 'Burlington, VT-Plattsburgh, NY',\n",
       " 'LANSING': 'Lansing, MI',\n",
       " 'VENTURA, CA': 'Los Angeles, CA',\n",
       " 'WOOSTER, OH': 'Cleveland-Akron (Canton), OH',\n",
       " 'PLAINFIELD, NJ': 'New York, NY',\n",
       " 'Elmira (Corning) NY': 'Elmira, NY',\n",
       " 'Philadelphia PA': 'Philadelphia, PA',\n",
       " 'Beaumont-Port Arthur TX': 'Beaumont-Port Arthur, TX',\n",
       " 'ROSWELL, GA': 'Atlanta, GA',\n",
       " 'LAS VEGAS': 'Las Vegas, NV',\n",
       " 'TAMPA-ST. PETE': 'Tampa-St Petersburg (Sarasota), FL',\n",
       " 'Clarksburg-Weston WV': 'Clarksburg-Weston, WV',\n",
       " 'MARIETTA, GA': 'Atlanta, GA',\n",
       " 'Wilmington': 'Wilmington, NC',\n",
       " 'AugustaGA': 'Augusta, GA',\n",
       " 'FAIRLESS HILLS, PA': 'Philadelphia, PA',\n",
       " 'Helena MT': 'Helena, MT',\n",
       " 'Jonesboro, AR': 'Jonesboro, AR',\n",
       " 'BEAUMONT-PORT ARTHUR': 'Beaumont-Port Arthur, TX',\n",
       " 'Greenville-New Bern-Washington NC': 'Greenville-New Bern-Washington, NC',\n",
       " 'Green Bay-Appleton': 'Green Bay-Appleton, WI',\n",
       " 'WOODBINE, NJ': 'Philadelphia, PA',\n",
       " 'Wichita Falls &': 'Wichita Falls, TX & Lawton, OK',\n",
       " 'Springfield-Holyoke': 'Springfield-Holyoke, MA',\n",
       " 'LexingtonKY': 'Lexington, KY',\n",
       " 'DALLAS-FT. WORTH': 'Dallas-Ft. Worth, TX',\n",
       " 'LATROBE, PA': 'Pittsburgh, PA',\n",
       " 'Columbia': 'Columbia, SC',\n",
       " 'DALLAS': 'Dallas-Ft. Worth, TX',\n",
       " 'JOPLIN-PITTSBURG': 'Joplin, MO-Pittsburg, KS',\n",
       " 'HARLINGEN-WSLCO-BRNSVL-MCA': 'Harlingen-Weslaco-McAllen, TX',\n",
       " 'Knoxville TN': 'Knoxville, TN',\n",
       " 'El Paso': 'El Paso, TX',\n",
       " 'Atlanta': 'Atlanta, GA',\n",
       " 'Flint-Saginaw-Bay City, MI': 'Flint-Saginaw-Bay City, MI',\n",
       " 'Bluefield-Beckley-Oak Hill, WV': 'Bluefield-Beckley-Oak Hill, WV',\n",
       " 'Cleveland-Akron': 'Cleveland-Akron (Canton), OH',\n",
       " 'Elmira, NY': 'Elmira, NY',\n",
       " 'Spokane, WA': 'Spokane, WA',\n",
       " 'Chattanooga TN': 'Chattanooga, TN',\n",
       " 'Gainesville, FL': 'Gainesville, FL',\n",
       " 'North Platte': 'North Platte, NE',\n",
       " 'Dothan, AL': 'Dothan, AL',\n",
       " 'Minot-Bismarck-Dickinson, ND': 'Minot-Bismarck-Dickinson, ND',\n",
       " 'El Paso TX': 'El Paso, TX',\n",
       " 'Johnstown-Altoona-State College PA': 'Johnstown-Altoona, PA',\n",
       " 'Honolulu': 'Honolulu, HI',\n",
       " 'CAPE MAY COURT HOUSE, NJ': 'Philadelphia, PA',\n",
       " 'DetroitMI': 'Detroit, MI',\n",
       " 'HUNTSVILLE-DECATUR': 'Huntsville-Decatur (Florence), AL',\n",
       " 'Youngstown': 'Youngstown, OH',\n",
       " 'Monroe/El Dorado': 'Monroe, LA-El Dorado, AR',\n",
       " 'Glendive MT': 'Glendive, MT',\n",
       " 'W PALM BEACH': 'West Palm Beach-Ft. Pierce, FL',\n",
       " 'MANCHESTER, NH': 'Boston, MA-Manchester, NH',\n",
       " 'WATERFORD, MI': 'Detroit, MI',\n",
       " 'Lansing, MI': 'Lansing, MI',\n",
       " 'MULLICA HILL, NJ': 'Philadelphia, PA',\n",
       " 'ROCHESTER, PA': 'Pittsburgh, PA',\n",
       " 'Detroit MI': 'Detroit, MI',\n",
       " 'RUSKIN, FL': 'Tampa-St Petersburg (Sarasota), FL',\n",
       " 'Richmond-Peters': 'Richmond-Petersburg, VA',\n",
       " 'PASSAIC, NJ': 'New York, NY',\n",
       " 'Lansing': 'Lansing, MI',\n",
       " 'Missoula, MT': 'Missoula, MT',\n",
       " 'AURORA, IN': 'Cincinnati, OH',\n",
       " 'Burlington, VT-Plattsburgh, NY': 'Burlington, VT-Plattsburgh, NY',\n",
       " 'LOUISVILLE': 'Louisville, KY',\n",
       " 'Columbus-Tupelo-W Pnt-Hstn': 'Columbus-Tupelo-West Point, MS',\n",
       " 'ATLANTA, GA': 'Atlanta, GA',\n",
       " 'Orlando': 'Orlando-Daytona Beach, FL',\n",
       " 'Madison': 'Madison, WI',\n",
       " 'WEST BRIDGEWATER, MA': 'Providence, RI-New Bedford, MA',\n",
       " 'BUFFALO': 'Buffalo, NY',\n",
       " 'Albany-Schenectady-Troy': 'Albany-Schenectady-Troy, NY',\n",
       " 'Jackson, TB': 'Jackson, TN',\n",
       " 'Montgomery-Selm': 'Montgomery-Selma, AL',\n",
       " 'Yakima-Pasco-Richland-Kennewick WA': 'Yakima-Pasco-Richland-Kennewick, WA',\n",
       " 'Waco-Temple-Bryan, TX': 'Waco-Temple-Bryan, TX',\n",
       " 'Jackson, TN': 'Jackson, TN',\n",
       " 'Rochestr-Mason': 'Rochester-Mason City-Austin,IA',\n",
       " 'PENNSAUKEN, NJ': 'Philadelphia, PA',\n",
       " 'CHESAPEAKE, VA': 'Norfolk-Portsmouth-Newport News,VA',\n",
       " 'Beaumont-Port A': 'Beaumont-Port Arthur, TX',\n",
       " 'GAINESVILLE': 'Gainesville, FL',\n",
       " 'WARREN, MI': 'Detroit, MI',\n",
       " 'EL PASO (LAS CRUCES)': 'El Paso, TX',\n",
       " 'Greenvll-Spart-': 'Greenville-Spartanburg, SC',\n",
       " 'BOWLING GREEN': 'Bowling Green, KY',\n",
       " 'Salt Lake City UT': 'Salt Lake City, UT',\n",
       " 'DERRY, NH': 'Boston, MA-Manchester, NH',\n",
       " 'Sacramento-Stockton-Modesto CA': 'Sacramento-Stockton-Modesto, CA',\n",
       " 'Watertown, NY': 'Watertown, NY',\n",
       " 'IDAHO FALLS-POCATELLO': 'Idaho Falls-Pocatello, ID',\n",
       " 'Harlingen-Weslaco-McAllen, TX': 'Harlingen-Weslaco-McAllen, TX',\n",
       " 'SpringfieldMO': 'Springfield, MO',\n",
       " 'Charlottesville VA': 'Charlottesville, VA',\n",
       " 'PLEASANTVILLE, NJ': 'Philadelphia, PA',\n",
       " 'Roanoke-Lynchburg, VA': 'Roanoke-Lynchburg, VA',\n",
       " 'NEW KENSINGTON, PA': 'Pittsburgh, PA',\n",
       " 'CHERRY HILL NJ': 'Philadelphia, PA',\n",
       " 'Greensboro-H.Point-W.Salem': 'Greensboro-Winston Salem, NC',\n",
       " 'DOVER, NJ': 'New York, NY',\n",
       " 'San Antonio TX': 'San Antonio, TX',\n",
       " 'Champaign&Sprng': 'Champaign & Springfield-Decatur,IL',\n",
       " 'Zanesville': 'Zanesville, OH',\n",
       " 'REEDLEY, CA': 'Fresno-Visalia, CA',\n",
       " 'Laredo TX': 'Laredo, TX',\n",
       " 'Wilkes Barr/Scrn': 'Wilkes Barre-Scranton, PA',\n",
       " 'Dothan AL': 'Dothan, AL',\n",
       " 'ALBUQUERQUE-SANTA FE': 'Albuquerque-Santa Fe, NM',\n",
       " 'Joplin, MO-Pittsburg, KS': 'Joplin, MO-Pittsburg, KS',\n",
       " 'Kansas City, MO': 'Kansas City, MO',\n",
       " 'ROCHESTR-MASON CITY-AUSTIN': 'Rochester-Mason City-Austin,IA',\n",
       " 'Augusta': 'Augusta, GA',\n",
       " 'Paducah-Cape Gi': 'Paducah, KY-Harrisburg, IL',\n",
       " 'Casper-Riverton WY': 'Casper-Riverton, WY',\n",
       " 'CENTREVILLE, MD': 'Baltimore, MD',\n",
       " 'Quincy-Hannibal-Keokuk': 'Quincy, IL-Hannibal, MO-Keokuk, IA',\n",
       " 'LITHONIA, GA': 'Atlanta, GA',\n",
       " 'EXTON, PA': 'Philadelphia, PA',\n",
       " 'PittsburghPA': 'Pittsburgh, PA',\n",
       " 'CHAMPAIGN&SPRNGFLD-DECATUR': 'Champaign & Springfield-Decatur,IL',\n",
       " 'PROVO, UT': 'Salt Lake City, UT',\n",
       " 'Zanesville OH': 'Zanesville, OH',\n",
       " 'CHARLOTTESVILLE': 'Charlottesville, VA',\n",
       " 'Yakima-Pasco-Richland-Kennewick, WA': 'Yakima-Pasco-Richland-Kennewick, WA',\n",
       " 'Shreveport, LA': 'Shreveport, LA',\n",
       " 'Laredo': 'Laredo, TX',\n",
       " 'Wichita-Hutchinson Plus': 'Wichita-Hutchinson, KS',\n",
       " 'COLUMBUS, GA (OPELIKA, AL)': 'Columbus, GA',\n",
       " 'Wilkes Barre-Scranton, PA': 'Wilkes Barre-Scranton, PA',\n",
       " 'Peoria-Bloomington IL': 'Peoria-Bloomington, IL',\n",
       " 'Miami-Ft. Laude': 'Miami-Ft. Lauderdale, FL',\n",
       " 'Billings, MT': 'Billings, MT',\n",
       " 'Birmingham (Ann And Tusc)': 'Birmingham, AL',\n",
       " 'Hartford & New Haven': 'Hartford & New Haven, CT',\n",
       " 'Anchorage AK': 'Anchorage, AK',\n",
       " 'RIVERSIDE': 'Los Angeles, CA',\n",
       " 'SPRINGFIELD': 'Springfield, MO',\n",
       " 'Grand Rapids-Kalamazoo, MI': 'Grand Rapids-Kalamazoo, MI',\n",
       " 'WRENTHAM, MA': 'Boston, MA-Manchester, NH',\n",
       " 'PhoenixAZ': 'Phoenix, AZ',\n",
       " 'Erie': 'Erie, PA',\n",
       " 'Columbia-Jefferson City, MO': 'Columbia-Jefferson City, MO',\n",
       " 'LIVONIA, MI': 'Detroit, MI',\n",
       " 'UNKNOWN': 'xx',\n",
       " 'HENDERSON, KY': 'Evansville, IN',\n",
       " 'xx': 'xx',\n",
       " 'Toledo, OH': 'Toledo, OH',\n",
       " 'FT. SMITH': 'Ft Smith-Springdale, AR',\n",
       " 'MOUNT STERLING, KY': 'Lexington, KY',\n",
       " 'NORTH VERSAILLES, PA': 'Pittsburgh, PA',\n",
       " 'COLUMBUS-TUPELO-WEST POINT': 'Columbus-Tupelo-West Point, MS',\n",
       " 'Monterey/Salinas': 'Monterey-Salinas, CA',\n",
       " 'Norfolk-Virginia Beach': 'Norfolk-Portsmouth-Newport News,VA',\n",
       " 'Greenwood-Greenville MS': 'Greenwood-Greenville, MS',\n",
       " 'Clarksburg-Weston, WV': 'Clarksburg-Weston, WV',\n",
       " 'Las Vegas NV': 'Las Vegas, NV',\n",
       " 'BRADENTON, FL': 'Tampa-St Petersburg (Sarasota), FL',\n",
       " 'MENDON, MA': 'Boston, MA-Manchester, NH',\n",
       " 'CORPUS CHRISTI': 'Corpus Christi, TX',\n",
       " 'Albany-Schenect': 'Albany-Schenectady-Troy, NY',\n",
       " 'PONTIAC, MI': 'Detroit, MI',\n",
       " 'Minot-Bsmrck-Dcknsn(Wlstn)': 'Minot-Bismarck-Dickinson, ND',\n",
       " 'West Palm Beach-Ft. Pierce': 'West Palm Beach-Ft. Pierce, FL',\n",
       " 'Greenvll-Spart-Ashevll-And': 'Greenville-Spartanburg, SC',\n",
       " 'FREEHOLD, NJ': 'New York, NY',\n",
       " 'Florence, SC': 'Florence-Myrtle Beach, SC',\n",
       " 'Philadelphia': 'Philadelphia, PA',\n",
       " 'WEST ORANGE, NJ': 'New York, NY',\n",
       " 'Wheeling, WV-Steubenville, OH': 'Wheeling, WV-Steubenville, OH',\n",
       " 'WHEELING-STEUBENVILLE': 'Wheeling, WV-Steubenville, OH',\n",
       " 'Ft. Wayne': 'Ft. Wayne, IN',\n",
       " 'Sioux Falls(Mitchell) SD': 'Sioux Falls(Mitchell), SD',\n",
       " 'Mankato': 'Mankato, MN',\n",
       " 'COLORADO SPRINGS-PUEBLO': 'Colorado Springs-Pueblo, CO',\n",
       " 'EVANSVILLE': 'Evansville, IN',\n",
       " 'Topeka KS': 'Topeka, KS',\n",
       " 'WAYNE, PA': 'Philadelphia, PA',\n",
       " 'Grand Rapids-Kalmzoo-B.Crk': 'Grand Rapids-Kalamazoo, MI',\n",
       " 'Odessa-Midland, TX': 'Odessa-Midland, TX',\n",
       " 'Birmingham (Ann and Tusc) AL': 'Birmingham, AL',\n",
       " 'DADE CITY, FL': 'Tampa-St Petersburg (Sarasota), FL',\n",
       " 'Jonesboro AR': 'Jonesboro, AR',\n",
       " 'STONE HARBOR, NJ': 'Philadelphia, PA',\n",
       " 'JACKSONVILLE, FL': 'Jacksonville, FL',\n",
       " 'ABILENE-SWEETWATER': 'Abilene-Sweetwater, TX',\n",
       " 'Joplin-Pittsbur': 'Joplin, MO-Pittsburg, KS',\n",
       " 'BiloxiMS': 'Biloxi-Gulfport, MS',\n",
       " 'SARASOTA, FL': 'Tampa-St Petersburg (Sarasota), FL',\n",
       " 'SAN DIEGO': 'San Diego, CA',\n",
       " 'El Paso, TX': 'El Paso, TX',\n",
       " 'CONCORD, NC': 'Charlotte, NC',\n",
       " 'ALPENA': 'Alpena, MI',\n",
       " 'Minneapolis-St. Paul, MN': 'Minneapolis-St. Paul, MN',\n",
       " 'Ft. Smith-Fay-S': 'Ft Smith-Springdale, AR',\n",
       " 'UNIONTOWN, PA': 'Pittsburgh, PA',\n",
       " 'ALBUQUERQUE, NM': 'Albuquerque-Santa Fe, NM',\n",
       " 'Sacramento': 'Sacramento-Stockton-Modesto, CA',\n",
       " 'WILMINGTON': 'Wilmington, NC',\n",
       " 'ST. LOUIS ': 'St. Louis, MO',\n",
       " 'BEND, OR': 'Bend, OR',\n",
       " 'Washington, DC': 'Washington, DC (Hagerstown, MD)',\n",
       " 'ELYRIA, OH': 'Cleveland-Akron (Canton), OH',\n",
       " 'Duluth-Superior': 'Duluth, MN-Superior, WI',\n",
       " 'Paducah': 'Paducah, KY-Harrisburg, IL',\n",
       " 'EASTPOINTE, MI': 'Detroit, MI',\n",
       " 'Lexington': 'Lexington, KY',\n",
       " 'FayettevilleAR': 'Ft Smith-Springdale, AR',\n",
       " 'BILLINGS': 'Billings, MT',\n",
       " 'Cedar Rapids-Waterloo-Iowa City & Dubuque IA': 'Cedar Rapids-Waterloo-Iowa City, IA',\n",
       " 'RochesterNY': 'Rochester, NY',\n",
       " 'BATON ROUGE': 'Baton Rouge, LA',\n",
       " 'Minneapolis-St. Paul MN': 'Minneapolis-St. Paul, MN',\n",
       " 'NEW ORLEANS': 'New Orleans, LA',\n",
       " 'Hattiesburg-Laurel MS': 'Hattiesburg-Laurel, MS',\n",
       " 'Birmingham (Ann': 'Birmingham, AL',\n",
       " 'LaGrangeGA': 'Atlanta, GA',\n",
       " 'Ft. Myers/Naples': 'Ft. Myers-Naples, FL',\n",
       " 'Bend OR': 'Bend, OR',\n",
       " 'Hattiesburg-Laurel': 'Hattiesburg-Laurel, MS',\n",
       " 'APOLLO, PA': 'Pittsburgh, PA',\n",
       " 'MinneapolisMN': 'Minneapolis-St. Paul, MN',\n",
       " 'TULSA': 'Tulsa, OK',\n",
       " 'Syracuse, NY': 'Syracuse, NY',\n",
       " 'Eureka, CA': 'Eureka, CA',\n",
       " 'Fresno-Visalia CA': 'Fresno-Visalia, CA',\n",
       " 'Beaumont-Port Arthur': 'Beaumont-Port Arthur, TX',\n",
       " 'WILKES BARRE-SCRANTON': 'Wilkes Barre-Scranton, PA',\n",
       " 'Phoenix AZ': 'Phoenix, AZ',\n",
       " 'DOVER, OH': 'Cleveland-Akron (Canton), OH',\n",
       " 'Wilkes Barre-Sc': 'Wilkes Barre-Scranton, PA',\n",
       " 'Savannah, GA': 'Savannah, GA',\n",
       " 'Lafayette, IN': 'Lafayette, IN',\n",
       " 'MIAMI': 'Miami-Ft. Lauderdale, FL',\n",
       " 'AnchorageAK': 'Anchorage, AK',\n",
       " 'Johnstown-Altoo': 'Johnstown-Altoona, PA',\n",
       " 'Fairbanks': 'Fairbanks, AK',\n",
       " 'St. Louis MO': 'St. Louis, MO',\n",
       " 'Columbus GA': 'Columbus, GA',\n",
       " 'Rochestr-Mason City-Austin': 'Rochester-Mason City-Austin,IA',\n",
       " 'RALEIGH-DURHAM (FAYETVLLE)': 'Raleigh-Durham (Fayetteville), NC',\n",
       " 'Erie, PA': 'Erie, PA',\n",
       " 'Twin Falls': 'Twin Falls, ID',\n",
       " 'MILLVILLE, NJ': 'Philadelphia, PA',\n",
       " 'Bangor ME': 'Bangor, ME',\n",
       " 'ST. LOUIS': 'St. Louis, MO',\n",
       " 'DETROIT, MI': 'Detroit, MI',\n",
       " 'Denver CO': 'Denver, CO',\n",
       " 'KNOXVILLE': 'Knoxville, TN',\n",
       " 'PALM SPRINGS': 'Palm Springs, CA',\n",
       " 'Ft. Wayne, IN': 'Ft. Wayne, IN',\n",
       " 'Davenport-R.Island-Moline': 'Davenport,IA-Rock Island-Moline,IL',\n",
       " 'Casper-Riverton': 'Casper-Riverton, WY',\n",
       " 'Montgomery-Selma': 'Montgomery-Selma, AL',\n",
       " 'GOFFSTOWN, NH': 'Boston, MA-Manchester, NH',\n",
       " 'SIOUX CITY': 'Sioux City, IA',\n",
       " 'Dayton, OH': 'Dayton, OH',\n",
       " 'Charlotte, NC': 'Charlotte, NC',\n",
       " 'Rochester-Mason City-Austin,IA': 'Rochester-Mason City-Austin,IA',\n",
       " 'Hartford & New Haven, CT': 'Hartford & New Haven, CT',\n",
       " 'Tallahassee, FL-Thomasville, GA': 'Tallahassee, FL-Thomasville, GA',\n",
       " 'Washington, DC (Hagrstwn)': 'Washington, DC (Hagerstown, MD)',\n",
       " 'Baltimore, MD': 'Baltimore, MD',\n",
       " 'Wausau-Rhinelander WI': 'Wausau-Rhinelander, WI',\n",
       " 'Nashville': 'Nashville, TN',\n",
       " 'Traverse City-Cadillac, MI': 'Traverse City-Cadillac, MI',\n",
       " 'Amarillo': 'Amarillo, TX',\n",
       " 'SANTABARBRA-SANMAR-SANLUOB': 'Santa Barbara-San Luis Obispo, CA',\n",
       " 'FT. SMITH-FAY-SPRNGDL-RGRS': 'Ft Smith-Springdale, AR',\n",
       " 'INDIANAPOLIS': 'Indianapolis, IN',\n",
       " 'Eugene, OR': 'Eugene, OR',\n",
       " 'Anchorage': 'Anchorage, AK',\n",
       " 'Johnstown-Altoona, PA': 'Johnstown-Altoona, PA',\n",
       " 'ABILINE-SWEETWATER': 'Abilene-Sweetwater, TX',\n",
       " 'NORTH BILLERICA, MA': 'Boston, MA-Manchester, NH',\n",
       " 'Youngstown OH': 'Youngstown, OH',\n",
       " 'MANTUA, NJ': 'Philadelphia, PA',\n",
       " 'Miami-Ft. Lauderdale': 'Miami-Ft. Lauderdale, FL',\n",
       " 'Miami/Ft. Lauder': 'Miami-Ft. Lauderdale, FL',\n",
       " 'CLARKSBURG-WESTON': 'Clarksburg-Weston, WV',\n",
       " 'Elmira (Corning)': 'Elmira, NY',\n",
       " 'CORTLANDT MANOR, NY': 'New York, NY',\n",
       " 'Milwaukee': 'Milwaukee, WI',\n",
       " 'Greenwood-Greenville': 'Greenwood-Greenville, MS',\n",
       " 'HUNTSVILLE-DECATUR,FLOR': 'Huntsville-Decatur (Florence), AL',\n",
       " 'Washington, DC (Hagerstown, MD)': 'Washington, DC (Hagerstown, MD)',\n",
       " 'WilliamsportPA': 'Wilkes Barre-Scranton, PA',\n",
       " 'MERCHANTVILLE, NJ': 'Philadelphia, PA',\n",
       " 'Chattanooga, TN': 'Chattanooga, TN',\n",
       " 'Laredo, TX': 'Laredo, TX',\n",
       " 'Phoenix (Presco': 'Phoenix, AZ',\n",
       " 'Little Rock-Pin': 'Little Rock-Pine Bluff, AR',\n",
       " 'SalisburyMD': 'Salisbury, MD',\n",
       " 'BUTTE-BOZEMAN': 'Butte-Bozeman, MT',\n",
       " 'WorcesterMA': 'Boston, MA-Manchester, NH',\n",
       " 'STEVENSVILLE, MD': 'Baltimore, MD',\n",
       " 'SANTA BARBARA': 'Santa Barbara-San Luis Obispo, CA',\n",
       " 'CONYERS, GA': 'Atlanta, GA',\n",
       " 'LONDONDERRY, NH': 'Boston, MA-Manchester, NH',\n",
       " 'SAVANNAH': 'Savannah, GA',\n",
       " 'DULUTH, GA': 'Atlanta, GA',\n",
       " 'Wichita Falls & Lawton': 'Wichita Falls, TX & Lawton, OK',\n",
       " 'St. Joseph, MO': 'St. Joseph, MO',\n",
       " 'Houston TX': 'Houston, TX',\n",
       " 'ASHLAND, MA': 'Boston, MA-Manchester, NH',\n",
       " 'TUCSON(SIERRA VISTA)': 'Tucson (Sierra Vista), AZ',\n",
       " 'Houston-Galveston': 'Houston, TX',\n",
       " 'DETROIT': 'Detroit, MI',\n",
       " 'Wichita Falls TX & Lawton OK': 'Wichita Falls, TX & Lawton, OK',\n",
       " 'Youngstown, OH': 'Youngstown, OH',\n",
       " 'OCEAN VIEW, NJ': 'Philadelphia, PA',\n",
       " 'STERLING HEIGHTS, MI': 'Detroit, MI',\n",
       " 'HOUSTON': 'Houston, TX',\n",
       " 'Co. Spgs/Pueblo': 'Colorado Springs-Pueblo, CO',\n",
       " 'DEARBORN, MI': 'Detroit, MI',\n",
       " 'Spokane': 'Spokane, WA',\n",
       " 'Paducah KY-Cape Girardeau MO-Harrisburg-Mount Vernon IL': 'Paducah, KY-Harrisburg, IL',\n",
       " 'NORTH WALES, PA': 'Philadelphia, PA',\n",
       " 'Honolulu HI': 'Honolulu, HI',\n",
       " 'PortlandOR': 'Portland, OR',\n",
       " 'LasVegasNV': 'Las Vegas, NV',\n",
       " 'Greensboro-Winston Salem, NC': 'Greensboro-Winston Salem, NC',\n",
       " 'MACON': 'Macon, GA',\n",
       " 'HUDSON, FL': 'Tampa-St Petersburg (Sarasota), FL',\n",
       " 'COLUMBIA-JEFFERSON CITY': 'Columbia-Jefferson City, MO',\n",
       " 'Mobile-Pensacola (Ft Walt)': 'Mobile, AL-Pensacola, FL',\n",
       " 'CHICO-REDDING': 'Chico-Redding, CA',\n",
       " 'Columbia-Jeffer': 'Columbia-Jefferson City, MO',\n",
       " 'STONE MOUNTAIN, GA': 'Atlanta, GA',\n",
       " 'Raleigh-Durham': 'Raleigh-Durham (Fayetteville), NC',\n",
       " 'Cheyenne, WY-Scottsbluff, NE': 'Cheyenne, WY-Scottsbluff, NE',\n",
       " 'SAN FRANCISCO-OAK-SAN JOSE': 'San Francisco-Oakland-San Jose, CA',\n",
       " 'TULSA, OK': 'Tulsa, OK',\n",
       " 'FresnoCA': 'Fresno-Visalia, CA',\n",
       " 'Harlingen-Wslco': 'Harlingen-Weslaco-McAllen, TX',\n",
       " 'Albuquerque-San': 'Albuquerque-Santa Fe, NM',\n",
       " 'Binghamton': 'Binghamton, NY',\n",
       " 'Augusta-Aiken': 'Augusta, GA',\n",
       " 'Savannah GA': 'Savannah, GA',\n",
       " 'MERRIMACK, NH': 'Boston, MA-Manchester, NH',\n",
       " 'Little Rock': 'Little Rock-Pine Bluff, AR',\n",
       " 'ODESSA-MIDLAND': 'Odessa-Midland, TX',\n",
       " 'Medford-Klamath Falls': 'Medford-Klamath Falls, OR',\n",
       " 'Columbus, OH': 'Columbus, OH',\n",
       " 'Utica, NY': 'Utica, NY',\n",
       " 'MEMPHIS': 'Memphis, TN',\n",
       " 'UTICA, MI': 'Detroit, MI',\n",
       " 'WEST CHESTER, OH': 'Cincinnati, OH',\n",
       " 'Little Rock-Pine Bluff, AR': 'Little Rock-Pine Bluff, AR',\n",
       " 'AVONDALE, PA': 'Philadelphia, PA',\n",
       " 'Tyler-Longview(Lufkin & Nacogdoches) TX': 'Tyler-Longview(Nacogdoches), TX',\n",
       " 'SyracuseNY': 'Syracuse, NY',\n",
       " 'Lubbock, TX': 'Lubbock, TX',\n",
       " 'Huntsville-Decatur (Flor)': 'Huntsville-Decatur (Florence), AL',\n",
       " 'Salisbury MD': 'Salisbury, MD',\n",
       " 'Monroe, LA-El Dorado, AR': 'Monroe, LA-El Dorado, AR',\n",
       " 'PORT CHARLOTTE, FL': 'Ft. Myers-Naples, FL',\n",
       " 'MILFORD, DE': 'Salisbury, MD',\n",
       " 'Rockford, IL': 'Rockford, IL',\n",
       " 'Omaha': 'Omaha, NE',\n",
       " 'WILLINGBORO, NJ': 'Philadelphia, PA',\n",
       " 'AMARILLO': 'Amarillo, TX',\n",
       " 'Santabarbra-Sanmar-Sanluob': 'Santa Barbara-San Luis Obispo, CA',\n",
       " 'Alpena MI': 'Alpena, MI',\n",
       " 'Topeka, KS': 'Topeka, KS',\n",
       " 'Hartford/New Hvn': 'Hartford & New Haven, CT',\n",
       " 'Ottumwa IA-Kirksville MO': 'Ottumwa, IA-Kirksville, MO',\n",
       " 'AUSTELL, GA': 'Atlanta, GA',\n",
       " 'WichitaKS': 'Wichita-Hutchinson, KS',\n",
       " 'Ft. Smith-Fay-Sprngdl-Rgrs': 'Ft Smith-Springdale, AR',\n",
       " 'Reno NV': 'Reno, NV',\n",
       " 'Odessa-Midland': 'Odessa-Midland, TX',\n",
       " 'Juneau': 'Juneau, AK',\n",
       " 'CALDWELL, NJ': 'New York, NY',\n",
       " 'PARKERSBURG': 'Parkersburg, WV',\n",
       " 'Bend, OR': 'Bend, OR',\n",
       " 'Sioux Falls(Mitchell)': 'Sioux Falls(Mitchell), SD',\n",
       " 'Sacramnto-Stkto': 'Sacramento-Stockton-Modesto, CA',\n",
       " 'Ft. Myers-Naples, FL': 'Ft. Myers-Naples, FL',\n",
       " 'Great Falls, MT': 'Great Falls, MT',\n",
       " 'SOMERSET, KY': 'Lexington, KY',\n",
       " 'CHICAGO': 'Chicago, IL',\n",
       " 'SaintLouisMO': 'St. Louis, MO',\n",
       " 'LITTLE ROCK-PINE BLUFF': 'Little Rock-Pine Bluff, AR',\n",
       " 'Columbia-Jefferson City MO': 'Columbia-Jefferson City, MO',\n",
       " '--': 'xx',\n",
       " 'MINE HILL, NJ': 'New York, NY',\n",
       " 'Bakersfield, CA': 'Bakersfield, CA',\n",
       " 'RAPID CITY': 'Rapid City, SD',\n",
       " 'REVERE, MA': 'Boston, MA-Manchester, NH',\n",
       " 'TOLEDO': 'Toledo, OH',\n",
       " 'Youngstown-Warren': 'Youngstown, OH',\n",
       " 'San Antonio, TX': 'San Antonio, TX',\n",
       " 'Denver': 'Denver, CO',\n",
       " 'WheelingWV': 'Wheeling, WV-Steubenville, OH',\n",
       " 'Harrisonburg, VA': 'Harrisonburg, VA',\n",
       " 'Traverse City-Cadillac MI': 'Traverse City-Cadillac, MI',\n",
       " 'Indianapolis IN': 'Indianapolis, IN',\n",
       " 'FT. MYERS-NAPLES': 'Ft. Myers-Naples, FL',\n",
       " 'Harrisburg-Lncstr-Leb-York': 'Harrisburg-Lancaster-York, PA',\n",
       " 'COLUMBUS, OH': 'Columbus, OH',\n",
       " 'GRASONVILLE, MD': 'Baltimore, MD',\n",
       " 'RED BANK, NJ': 'New York, NY',\n",
       " 'GreensboroNC': 'Greensboro-Winston Salem, NC',\n",
       " 'EDGEWOOD, MD': 'Baltimore, MD',\n",
       " 'Traverse City-Cadillac': 'Traverse City-Cadillac, MI',\n",
       " 'Jackson, MS': 'Jackson, MS',\n",
       " 'Marquette': 'Marquette, MI',\n",
       " 'Medford-Klamath Falls OR': 'Medford-Klamath Falls, OR',\n",
       " 'Hartford & New': 'Hartford & New Haven, CT',\n",
       " 'AUGUSTA': 'Augusta, GA',\n",
       " 'Richmond': 'Richmond-Petersburg, VA',\n",
       " 'Providence': 'Providence, RI-New Bedford, MA',\n",
       " 'Louisville': 'Louisville, KY',\n",
       " 'BEND': 'Bend, OR',\n",
       " 'Yuma, AZ-El Centro, CA': 'Yuma, AZ-El Centro, CA',\n",
       " 'Columbus': 'Columbus, OH',\n",
       " 'Hartford & New Haven CT': 'Hartford & New Haven, CT',\n",
       " 'SanAntonioTX': 'San Antonio, TX',\n",
       " 'YUMA-EL CENTRO': 'Yuma, AZ-El Centro, CA',\n",
       " 'Yakima-Pasco-Rc': 'Yakima-Pasco-Richland-Kennewick, WA',\n",
       " 'TYLER TX': 'Tyler-Longview(Nacogdoches), TX',\n",
       " 'Biloxi-Gulfport MS': 'Biloxi-Gulfport, MS',\n",
       " 'YORKTOWN HEIGHTS, NY': 'New York, NY',\n",
       " 'Philadelphia, PA': 'Philadelphia, PA',\n",
       " 'Louisville, KY': 'Louisville, KY',\n",
       " 'Alexandria LA': 'Alexandria, LA',\n",
       " 'ST. JOSEPH': 'St. Joseph, MO',\n",
       " 'Bowling Green': 'Bowling Green, KY',\n",
       " 'Cincinnati, OH': 'Cincinnati, OH',\n",
       " 'Springfield MO': 'Springfield, MO',\n",
       " 'Oklahoma City': 'Oklahoma City, OK',\n",
       " 'Greensboro-High Point-Winston Salem NC': 'Greensboro-Winston Salem, NC',\n",
       " 'Monroe LA-El Dorado AR': 'Monroe, LA-El Dorado, AR',\n",
       " 'Dallas-Ft. Worth': 'Dallas-Ft. Worth, TX',\n",
       " 'LimaOH': 'Lima, OH',\n",
       " 'San Angelo, TX': 'San Angelo, TX',\n",
       " 'Harlingen': 'Harlingen-Weslaco-McAllen, TX',\n",
       " 'Des Moines-Ames, IA': 'Des Moines-Ames, IA',\n",
       " 'St. Louis, MO': 'St. Louis, MO',\n",
       " 'TYLER, TX': 'Tyler-Longview(Nacogdoches), TX',\n",
       " 'Los Angeles, CA': 'Los Angeles, CA',\n",
       " 'AlbanyNY': 'Albany-Schenectady-Troy, NY',\n",
       " 'Chattanooga': 'Chattanooga, TN',\n",
       " 'ZANESVILLE': 'Zanesville, OH',\n",
       " 'NORTH PLATTE': 'North Platte, NE',\n",
       " 'Hattiesburg-Lau': 'Hattiesburg-Laurel, MS',\n",
       " 'Minneapolis-St. Paul': 'Minneapolis-St. Paul, MN',\n",
       " 'IRWIN, PA': 'Pittsburgh, PA',\n",
       " 'VICTORIA': 'Victoria, TX',\n",
       " 'Portland-Auburn': 'Portland-Auburn, ME',\n",
       " 'TAMPA-ST. PETE,SARASOTA': 'Tampa-St Petersburg (Sarasota), FL',\n",
       " 'Jacksonville, FL': 'Jacksonville, FL',\n",
       " 'LOUISVILLE, KY': 'Louisville, KY',\n",
       " 'MYRTLE BEACH-FLORENCE': 'Florence-Myrtle Beach, SC',\n",
       " 'Tulsa, OK': 'Tulsa, OK',\n",
       " 'ANCHORAGE': 'Anchorage, AK',\n",
       " 'Roanoke/Lynchbrg': 'Roanoke-Lynchburg, VA',\n",
       " 'HonoluluHI': 'Honolulu, HI',\n",
       " 'Tri-Cities, TN-VA': 'Tri-Cities, TN-VA',\n",
       " 'Abilene-Sweetwater, TX': 'Abilene-Sweetwater, TX',\n",
       " 'LAFAYETTE, LA': 'LAFAYETTE, LA',\n",
       " 'Quincy IL-Hannibal MO-Keokuk IA': 'Quincy, IL-Hannibal, MO-Keokuk, IA',\n",
       " 'Charlotte': 'Charlotte, NC',\n",
       " 'PITMAN, NJ': 'Philadelphia, PA',\n",
       " 'Honolulu, HI': 'Honolulu, HI',\n",
       " 'Los Angeles CA': 'Los Angeles, CA',\n",
       " 'Savannah': 'Savannah, GA',\n",
       " 'LINWOOD, NJ': 'Philadelphia, PA',\n",
       " 'Boise, ID': 'Boise, ID',\n",
       " 'CHARLSTON-HUNTINGTON': 'Charleston-Huntington, WV',\n",
       " 'Columbia-Jefferson City': 'Columbia-Jefferson City, MO',\n",
       " 'INDEPENDENCE, OH': 'Cleveland-Akron (Canton), OH',\n",
       " 'La Crosse-Eau Claire': 'La Crosse-Eau Claire, WI',\n",
       " 'COLUMBIA': 'Columbia, SC',\n",
       " 'Seattle-Tacoma, WA': 'Seattle-Tacoma, WA',\n",
       " 'LANSDALE, PA': 'Philadelphia, PA',\n",
       " 'Amarillo TX': 'Amarillo, TX',\n",
       " 'ELIZABETH, NJ': 'New York, NY',\n",
       " 'Oklahoma City, OK': 'Oklahoma City, OK',\n",
       " 'Clarksburg-Weston': 'Clarksburg-Weston, WV',\n",
       " 'Kansas City': 'Kansas City, MO',\n",
       " 'Syracuse NY': 'Syracuse, NY',\n",
       " 'Tucson': 'Tucson (Sierra Vista), AZ',\n",
       " 'Charlotte-Gastonia-Rk Hill': 'Charlotte, NC',\n",
       " 'Boston': 'Boston, MA-Manchester, NH',\n",
       " 'Colorado Springs-Pueblo': 'Colorado Springs-Pueblo, CO',\n",
       " 'Ft. Smith-Fayetteville-Springdale-Rogers AR': 'Ft Smith-Springdale, AR',\n",
       " 'Wilmington NC': 'Wilmington, NC',\n",
       " 'DAYTON': 'Dayton, OH',\n",
       " 'West Palm Beach-Ft. Pierce FL': 'West Palm Beach-Ft. Pierce, FL',\n",
       " 'SussexNJ': 'New York, NY',\n",
       " 'Harrisburg-Lancaster-Lebanon-York PA': 'Harrisburg-Lancaster-York, PA',\n",
       " 'Columbia, SC': 'Columbia, SC',\n",
       " 'YAKIMA-PASCO-RCHLND-KNNWCK': 'Yakima-Pasco-Richland-Kennewick, WA',\n",
       " 'Toledo OH': 'Toledo, OH',\n",
       " 'CHESAPEAKE': 'Norfolk-Portsmouth-Newport News,VA',\n",
       " 'FARMINGTON, MI': 'Detroit, MI',\n",
       " 'Joplin MO-Pittsburg KS': 'Joplin, MO-Pittsburg, KS',\n",
       " 'Columbus, GA (Opelika, Al)': 'Columbus, GA',\n",
       " 'Great Falls': 'Great Falls, MT',\n",
       " 'MILWAUKEE': 'Milwaukee, WI',\n",
       " 'TEWKSBURY, MA': 'Boston, MA-Manchester, NH',\n",
       " 'PADUCAH-CAPE GIRARD-HARSBG': 'Paducah, KY-Harrisburg, IL',\n",
       " 'Tulsa OK': 'Tulsa, OK',\n",
       " 'Baton Rouge, LA': 'Baton Rouge, LA',\n",
       " 'Phoenix, AZ': 'Phoenix, AZ',\n",
       " 'MC KEES ROCKS, PA': 'Pittsburgh, PA',\n",
       " 'Richmond-Petersburg VA': 'Richmond-Petersburg, VA',\n",
       " 'Terre Haute IN': 'Terre Haute, IN',\n",
       " 'DENVILLE, NJ': 'New York, NY',\n",
       " 'YOUNGSTOWN': 'Youngstown, OH',\n",
       " 'TUCSON': 'Tucson (Sierra Vista), AZ',\n",
       " 'New Orleans': 'New Orleans, LA',\n",
       " 'Lake Charles, LA': 'Lake Charles, LA',\n",
       " 'Chicago IL': 'Chicago, IL',\n",
       " 'MONTEREY-SALINAS': 'Monterey-Salinas, CA',\n",
       " 'Reno': 'Reno, NV',\n",
       " 'LARGO, FL': 'Tampa-St Petersburg (Sarasota), FL',\n",
       " 'JACKSONVILLE': 'Jacksonville, FL',\n",
       " 'Bakersfield CA': 'Bakersfield, CA',\n",
       " 'Baltimore MD': 'Baltimore, MD',\n",
       " 'La Crosse-Eau C': 'La Crosse-Eau Claire, WI',\n",
       " 'MONESSEN, PA': 'Pittsburgh, PA',\n",
       " 'Anchorage, AK': 'Anchorage, AK',\n",
       " 'Nashville, TN': 'Nashville, TN',\n",
       " 'TERRELL, TX': 'Dallas-Ft. Worth, TX',\n",
       " 'Greenville/New Bern/Wash': 'Greenville-New Bern-Washington, NC',\n",
       " 'GRAND JUNCTION-MONTROSE': 'Grand Junction-Montrose, CO',\n",
       " 'TAYLOR, MI': 'Detroit, MI',\n",
       " 'Zanesville, OH': 'Zanesville, OH',\n",
       " 'Charleston-Huntington, WV': 'Charleston-Huntington, WV',\n",
       " 'ChillicotheOH': 'Cincinnati, OH',\n",
       " 'Tulsa': 'Tulsa, OK',\n",
       " 'Wheeling WV-Steubenville OH': 'Wheeling, WV-Steubenville, OH',\n",
       " 'Helena, MT': 'Helena, MT',\n",
       " 'GREEN VALLEY, AZ': 'Tucson (Sierra Vista), AZ',\n",
       " 'SALINAS, CA': 'Monterey-Salinas, CA',\n",
       " 'HUNTINGDON VALLEY, PA': 'Philadelphia, PA',\n",
       " 'Panama City FL': 'Panama City, FL',\n",
       " 'CONNELLSVILLE, PA': 'Pittsburgh, PA',\n",
       " 'Richmond-Petersburg': 'Richmond-Petersburg, VA',\n",
       " 'WENONAH, NJ': 'Philadelphia, PA',\n",
       " 'Palm Springs, CA': 'Palm Springs, CA',\n",
       " 'MADISON, IN': 'Louisville, KY',\n",
       " 'Salt Lake City': 'Salt Lake City, UT',\n",
       " 'BIRMINGHAM (ANNISTON AND TUSCALOOSA)': 'Birmingham, AL',\n",
       " 'Parkersburg, WV': 'Parkersburg, WV',\n",
       " 'MAHOPAC, NY': 'New York, NY',\n",
       " 'CARVER, MA': 'Boston, MA-Manchester, NH',\n",
       " 'Knoxville': 'Knoxville, TN',\n",
       " 'CHEYENNE-SCOTTSBLUF': 'Cheyenne, WY-Scottsbluff, NE',\n",
       " 'Panama City, FL': 'Panama City, FL',\n",
       " 'Rapid City': 'Rapid City, SD',\n",
       " 'SALT LAKE CITY': 'Salt Lake City, UT',\n",
       " 'Johnstown, PA': 'Johnstown-Altoona, PA',\n",
       " 'Ottumwa-Kirksville': 'Ottumwa, IA-Kirksville, MO',\n",
       " 'Victoria, TX': 'Victoria, TX',\n",
       " 'SACRAMNTO-STKTON-MODESTO': 'Sacramento-Stockton-Modesto, CA',\n",
       " 'Cedar Rapids-Wtrlo-Iwc&Dub': 'Cedar Rapids-Waterloo-Iowa City, IA',\n",
       " 'Johnstwn/Altoona': 'Johnstown-Altoona, PA',\n",
       " 'PAOLI, PA': 'Philadelphia, PA',\n",
       " 'LIMA': 'Lima, OH',\n",
       " 'San Francisco-Oakland-San Jose, CA': 'San Francisco-Oakland-San Jose, CA',\n",
       " 'Fargo-Valley City ND': 'Fargo-Valley City, ND',\n",
       " 'Tri-Cities, TN-': 'Tri-Cities, TN-VA',\n",
       " 'Biloxi-Gulfport, MS': 'Biloxi-Gulfport, MS',\n",
       " 'NASHVILLE': 'Nashville, TN',\n",
       " 'COATESVILLE, PA': 'Philadelphia, PA',\n",
       " 'FRESNO-VISALIA': 'Fresno-Visalia, CA',\n",
       " 'ColumbusGA': 'Columbus, GA',\n",
       " 'CLINTON TOWNSHIP, MI': 'Detroit, MI',\n",
       " 'CAPE MAY, NJ': 'Philadelphia, PA',\n",
       " 'EUREKA': 'Eureka, CA',\n",
       " 'Cheyenne WY-Scottsbluff NE': 'Cheyenne, WY-Scottsbluff, NE',\n",
       " 'TOPEKA': 'Topeka, KS',\n",
       " 'SEATTLE-TACOMA': 'Seattle-Tacoma, WA',\n",
       " 'YOUNGSTOWN, OH': 'Youngstown, OH',\n",
       " 'Albany, GA': 'Albany, GA',\n",
       " 'CHARDON, OH': 'Cleveland-Akron (Canton), OH',\n",
       " 'Atlanta, GA': 'Atlanta, GA',\n",
       " 'LAKE HOPATCONG, NJ': 'New York, NY',\n",
       " 'Wilkes Barre-Scranton-Hztn': 'Wilkes Barre-Scranton, PA',\n",
       " 'FARGO-VALLEY CITY': 'Fargo-Valley City, ND',\n",
       " 'WILLOUGHBY, OH': 'Cleveland-Akron (Canton), OH',\n",
       " 'DefianceOH': 'Toledo, OH',\n",
       " 'Albuquerque-Santa Fe, NM': 'Albuquerque-Santa Fe, NM',\n",
       " 'North Platte NE': 'North Platte, NE',\n",
       " 'Presque Isle ME': 'Presque Isle, ME',\n",
       " 'BOSTON (MANCHESTER)': 'Boston, MA-Manchester, NH',\n",
       " 'Tampa-St. Petersburg': 'Tampa-St Petersburg (Sarasota), FL',\n",
       " 'Burlington-Plat': 'Burlington, VT-Plattsburgh, NY',\n",
       " 'Jackson MS': 'Jackson, MS',\n",
       " 'LEOMINSTER, MA': 'Boston, MA-Manchester, NH',\n",
       " 'Buffalo NY': 'Buffalo, NY',\n",
       " 'PROVIDENCE-NEW BEDFORD': 'Providence, RI-New Bedford, MA',\n",
       " 'Harlingen-Wslco-Brnsvl-Mca': 'Harlingen-Weslaco-McAllen, TX',\n",
       " 'SHREVEPORT': 'Shreveport, LA',\n",
       " 'Wheeling-Steubenville': 'Wheeling, WV-Steubenville, OH',\n",
       " 'SavannahGA': 'Savannah, GA',\n",
       " 'Austin, TX': 'Austin, TX',\n",
       " 'Harlingen-Weslaco-Brownsville-McAllen TX': 'Harlingen-Weslaco-McAllen, TX',\n",
       " 'COLLIERVILLE, TN': 'Memphis, TN',\n",
       " 'Providence, RI-New Bedford, MA': 'Providence, RI-New Bedford, MA',\n",
       " 'WILDWOOD, NJ': 'Philadelphia, PA',\n",
       " 'MANKATO': 'Mankato, MN',\n",
       " 'Monroe-El Dorado': 'Monroe, LA-El Dorado, AR',\n",
       " 'CINCINNATI': 'Cincinnati, OH',\n",
       " 'Non-DMA Region': 'xx',\n",
       " ' --': 'xx',\n",
       " 'Cleveland-Akron (Canton), OH': 'Cleveland-Akron (Canton), OH',\n",
       " 'KENNETT SQUARE, PA': 'Philadelphia, PA',\n",
       " 'BALTIMORE': 'Baltimore, MD',\n",
       " 'SMYRNA, GA': 'Atlanta, GA',\n",
       " 'Boston (Manchester)': 'Boston, MA-Manchester, NH',\n",
       " ...}"
      ]
     },
     "execution_count": 3,
     "metadata": {},
     "output_type": "execute_result"
    }
   ],
   "source": [
    "DMA_name_mapping"
   ]
  },
  {
   "cell_type": "code",
   "execution_count": 8,
   "metadata": {},
   "outputs": [
    {
     "ename": "AttributeError",
     "evalue": "'dict_keys' object has no attribute 'tolist'",
     "output_type": "error",
     "traceback": [
      "\u001b[0;31m---------------------------------------------------------------------------\u001b[0m",
      "\u001b[0;31mAttributeError\u001b[0m                            Traceback (most recent call last)",
      "\u001b[0;32m<ipython-input-8-64013316c4bc>\u001b[0m in \u001b[0;36m<module>\u001b[0;34m\u001b[0m\n\u001b[0;32m----> 1\u001b[0;31m \u001b[0mdf\u001b[0m\u001b[0;34m=\u001b[0m\u001b[0mpd\u001b[0m\u001b[0;34m.\u001b[0m\u001b[0mDataFrame\u001b[0m\u001b[0;34m(\u001b[0m\u001b[0;34m{\u001b[0m\u001b[0;34m\"dirty_name\"\u001b[0m\u001b[0;34m:\u001b[0m\u001b[0mDMA_name_mapping\u001b[0m\u001b[0;34m.\u001b[0m\u001b[0mkeys\u001b[0m\u001b[0;34m(\u001b[0m\u001b[0;34m)\u001b[0m\u001b[0;34m.\u001b[0m\u001b[0mtolist\u001b[0m\u001b[0;34m(\u001b[0m\u001b[0;34m)\u001b[0m\u001b[0;34m,\u001b[0m\u001b[0;34m\"clean_name\"\u001b[0m\u001b[0;34m:\u001b[0m\u001b[0mDMA_name_mapping\u001b[0m\u001b[0;34m.\u001b[0m\u001b[0mvalues\u001b[0m\u001b[0;34m(\u001b[0m\u001b[0;34m)\u001b[0m\u001b[0;34m.\u001b[0m\u001b[0mtolist\u001b[0m\u001b[0;34m(\u001b[0m\u001b[0;34m)\u001b[0m\u001b[0;34m}\u001b[0m\u001b[0;34m)\u001b[0m\u001b[0;34m\u001b[0m\u001b[0m\n\u001b[0m",
      "\u001b[0;31mAttributeError\u001b[0m: 'dict_keys' object has no attribute 'tolist'"
     ]
    }
   ],
   "source": [
    "df=pd.DataFrame({\"dirty_name\":lisDMA_name_mapping.keys().tolist(),\"clean_name\":DMA_name_mapping.values().tolist()})"
   ]
  },
  {
   "cell_type": "code",
   "execution_count": 7,
   "metadata": {},
   "outputs": [
    {
     "data": {
      "text/html": [
       "<div>\n",
       "<style scoped>\n",
       "    .dataframe tbody tr th:only-of-type {\n",
       "        vertical-align: middle;\n",
       "    }\n",
       "\n",
       "    .dataframe tbody tr th {\n",
       "        vertical-align: top;\n",
       "    }\n",
       "\n",
       "    .dataframe thead th {\n",
       "        text-align: right;\n",
       "    }\n",
       "</style>\n",
       "<table border=\"1\" class=\"dataframe\">\n",
       "  <thead>\n",
       "    <tr style=\"text-align: right;\">\n",
       "      <th></th>\n",
       "      <th>dirty_name</th>\n",
       "      <th>clean_name</th>\n",
       "    </tr>\n",
       "  </thead>\n",
       "  <tbody>\n",
       "    <tr>\n",
       "      <th>0</th>\n",
       "      <td>(DULUTH-SUPERIOR, Rapid City, SD, Abilene-Swee...</td>\n",
       "      <td>(Duluth, MN-Superior, WI, Rapid City, SD, Abil...</td>\n",
       "    </tr>\n",
       "    <tr>\n",
       "      <th>1</th>\n",
       "      <td>(DULUTH-SUPERIOR, Rapid City, SD, Abilene-Swee...</td>\n",
       "      <td>(Duluth, MN-Superior, WI, Rapid City, SD, Abil...</td>\n",
       "    </tr>\n",
       "    <tr>\n",
       "      <th>2</th>\n",
       "      <td>(DULUTH-SUPERIOR, Rapid City, SD, Abilene-Swee...</td>\n",
       "      <td>(Duluth, MN-Superior, WI, Rapid City, SD, Abil...</td>\n",
       "    </tr>\n",
       "    <tr>\n",
       "      <th>3</th>\n",
       "      <td>(DULUTH-SUPERIOR, Rapid City, SD, Abilene-Swee...</td>\n",
       "      <td>(Duluth, MN-Superior, WI, Rapid City, SD, Abil...</td>\n",
       "    </tr>\n",
       "    <tr>\n",
       "      <th>4</th>\n",
       "      <td>(DULUTH-SUPERIOR, Rapid City, SD, Abilene-Swee...</td>\n",
       "      <td>(Duluth, MN-Superior, WI, Rapid City, SD, Abil...</td>\n",
       "    </tr>\n",
       "    <tr>\n",
       "      <th>...</th>\n",
       "      <td>...</td>\n",
       "      <td>...</td>\n",
       "    </tr>\n",
       "    <tr>\n",
       "      <th>1607</th>\n",
       "      <td>(DULUTH-SUPERIOR, Rapid City, SD, Abilene-Swee...</td>\n",
       "      <td>(Duluth, MN-Superior, WI, Rapid City, SD, Abil...</td>\n",
       "    </tr>\n",
       "    <tr>\n",
       "      <th>1608</th>\n",
       "      <td>(DULUTH-SUPERIOR, Rapid City, SD, Abilene-Swee...</td>\n",
       "      <td>(Duluth, MN-Superior, WI, Rapid City, SD, Abil...</td>\n",
       "    </tr>\n",
       "    <tr>\n",
       "      <th>1609</th>\n",
       "      <td>(DULUTH-SUPERIOR, Rapid City, SD, Abilene-Swee...</td>\n",
       "      <td>(Duluth, MN-Superior, WI, Rapid City, SD, Abil...</td>\n",
       "    </tr>\n",
       "    <tr>\n",
       "      <th>1610</th>\n",
       "      <td>(DULUTH-SUPERIOR, Rapid City, SD, Abilene-Swee...</td>\n",
       "      <td>(Duluth, MN-Superior, WI, Rapid City, SD, Abil...</td>\n",
       "    </tr>\n",
       "    <tr>\n",
       "      <th>1611</th>\n",
       "      <td>(DULUTH-SUPERIOR, Rapid City, SD, Abilene-Swee...</td>\n",
       "      <td>(Duluth, MN-Superior, WI, Rapid City, SD, Abil...</td>\n",
       "    </tr>\n",
       "  </tbody>\n",
       "</table>\n",
       "<p>1612 rows × 2 columns</p>\n",
       "</div>"
      ],
      "text/plain": [
       "                                             dirty_name  \\\n",
       "0     (DULUTH-SUPERIOR, Rapid City, SD, Abilene-Swee...   \n",
       "1     (DULUTH-SUPERIOR, Rapid City, SD, Abilene-Swee...   \n",
       "2     (DULUTH-SUPERIOR, Rapid City, SD, Abilene-Swee...   \n",
       "3     (DULUTH-SUPERIOR, Rapid City, SD, Abilene-Swee...   \n",
       "4     (DULUTH-SUPERIOR, Rapid City, SD, Abilene-Swee...   \n",
       "...                                                 ...   \n",
       "1607  (DULUTH-SUPERIOR, Rapid City, SD, Abilene-Swee...   \n",
       "1608  (DULUTH-SUPERIOR, Rapid City, SD, Abilene-Swee...   \n",
       "1609  (DULUTH-SUPERIOR, Rapid City, SD, Abilene-Swee...   \n",
       "1610  (DULUTH-SUPERIOR, Rapid City, SD, Abilene-Swee...   \n",
       "1611  (DULUTH-SUPERIOR, Rapid City, SD, Abilene-Swee...   \n",
       "\n",
       "                                             clean_name  \n",
       "0     (Duluth, MN-Superior, WI, Rapid City, SD, Abil...  \n",
       "1     (Duluth, MN-Superior, WI, Rapid City, SD, Abil...  \n",
       "2     (Duluth, MN-Superior, WI, Rapid City, SD, Abil...  \n",
       "3     (Duluth, MN-Superior, WI, Rapid City, SD, Abil...  \n",
       "4     (Duluth, MN-Superior, WI, Rapid City, SD, Abil...  \n",
       "...                                                 ...  \n",
       "1607  (Duluth, MN-Superior, WI, Rapid City, SD, Abil...  \n",
       "1608  (Duluth, MN-Superior, WI, Rapid City, SD, Abil...  \n",
       "1609  (Duluth, MN-Superior, WI, Rapid City, SD, Abil...  \n",
       "1610  (Duluth, MN-Superior, WI, Rapid City, SD, Abil...  \n",
       "1611  (Duluth, MN-Superior, WI, Rapid City, SD, Abil...  \n",
       "\n",
       "[1612 rows x 2 columns]"
      ]
     },
     "execution_count": 7,
     "metadata": {},
     "output_type": "execute_result"
    }
   ],
   "source": [
    "df"
   ]
  },
  {
   "cell_type": "code",
   "execution_count": 3,
   "metadata": {
    "collapsed": true
   },
   "outputs": [],
   "source": [
    "def dma_guess(dma, reference = DMA_name_mapping, max_only = True, threshold = 0):\n",
    "    dma = dma.strip().upper().capitalize()\n",
    "    _reference = set(reference.values())\n",
    "    _results = {}\n",
    "    for i in _reference:\n",
    "        if ((i[:len(dma)] == dma) & (len(dma) >= 10)):\n",
    "            _results.update({101:i})\n",
    "            _results.update({fuzz.ratio(dma, i): i})\n",
    "        else:\n",
    "            _results.update({fuzz.ratio(dma, i): i})\n",
    "    if len(_results) > 0:\n",
    "        _results_filtered = {k:v for (k,v) in _results.items() if k > threshold}\n",
    "        if max_only:\n",
    "            return _results_filtered[max(_results.keys())]\n",
    "        elif max_only == False:\n",
    "            return _results_filtered\n",
    " \n",
    "       \n",
    "def dma_match(target, reference = DMA_name_mapping, output = True, wild_card = {'National': 'National'}):\n",
    "    _pdma = [] # paired\n",
    "    msgs = []\n",
    "    for dma in target:\n",
    "        try:\n",
    "            #msgs.append(\"Found EXACT Match from previous records '{}': '{}'\".format(dma,reference[dma]))\n",
    "            _pdma.append(reference[dma.strip()])\n",
    "        except KeyError:\n",
    "            _pdma.append(dma_guess(dma, reference, max_only = True))\n",
    "            msgs.append(\"'{}': '{}'\".format(dma,dma_guess(dma, reference, max_only = True)))\n",
    "            #print \"Found match for '{}': '{}\".format(dma, dma_guess(dma, DMA_name_mapping, True))\n",
    "    if not msgs:\n",
    "        print('All records found in DMA_name_mapping, please proceed. ')\n",
    "    else:\n",
    "        print (\"Suggested NEW Match: {\")\n",
    "        for i in list(set(msgs)):\n",
    "            print (i+',')\n",
    "        print (\"}\")\n",
    " \n",
    "        print (\"Run the following code if new matches are corrent: \\n DMA_name_mapping.update({\")\n",
    "        for i in list(set(msgs)):\n",
    "            print (i+',')\n",
    "        print (\"})\")"
   ]
  },
  {
   "cell_type": "code",
   "execution_count": 4,
   "metadata": {
    "collapsed": true
   },
   "outputs": [],
   "source": [
    "all_values=[]\n",
    "for key_dma in list(DMA_name_mapping.keys()):\n",
    "    all_values=list(set(all_values+[DMA_name_mapping[key_dma]]))"
   ]
  },
  {
   "cell_type": "code",
   "execution_count": 4,
   "metadata": {},
   "outputs": [
    {
     "data": {
      "text/html": [
       "<div>\n",
       "<style scoped>\n",
       "    .dataframe tbody tr th:only-of-type {\n",
       "        vertical-align: middle;\n",
       "    }\n",
       "\n",
       "    .dataframe tbody tr th {\n",
       "        vertical-align: top;\n",
       "    }\n",
       "\n",
       "    .dataframe thead th {\n",
       "        text-align: right;\n",
       "    }\n",
       "</style>\n",
       "<table border=\"1\" class=\"dataframe\">\n",
       "  <thead>\n",
       "    <tr style=\"text-align: right;\">\n",
       "      <th></th>\n",
       "      <th>DMA</th>\n",
       "      <th>IRI Market</th>\n",
       "      <th>Pctg</th>\n",
       "    </tr>\n",
       "  </thead>\n",
       "  <tbody>\n",
       "    <tr>\n",
       "      <th>0</th>\n",
       "      <td>ABILENE-SWEETWATER</td>\n",
       "      <td>NO MARKET</td>\n",
       "      <td>1.000000</td>\n",
       "    </tr>\n",
       "    <tr>\n",
       "      <th>1</th>\n",
       "      <td>ALBANY, GA</td>\n",
       "      <td>NO MARKET</td>\n",
       "      <td>1.000000</td>\n",
       "    </tr>\n",
       "    <tr>\n",
       "      <th>2</th>\n",
       "      <td>ALBANY-SCHENECTADY-TROY</td>\n",
       "      <td>ALBANY</td>\n",
       "      <td>0.796801</td>\n",
       "    </tr>\n",
       "    <tr>\n",
       "      <th>3</th>\n",
       "      <td>ALBANY-SCHENECTADY-TROY</td>\n",
       "      <td>NEW ENGLAND</td>\n",
       "      <td>0.029085</td>\n",
       "    </tr>\n",
       "    <tr>\n",
       "      <th>4</th>\n",
       "      <td>ALBANY-SCHENECTADY-TROY</td>\n",
       "      <td>NO MARKET</td>\n",
       "      <td>0.174114</td>\n",
       "    </tr>\n",
       "    <tr>\n",
       "      <th>...</th>\n",
       "      <td>...</td>\n",
       "      <td>...</td>\n",
       "      <td>...</td>\n",
       "    </tr>\n",
       "    <tr>\n",
       "      <th>322</th>\n",
       "      <td>WILMINGTON</td>\n",
       "      <td>NO MARKET</td>\n",
       "      <td>1.000000</td>\n",
       "    </tr>\n",
       "    <tr>\n",
       "      <th>323</th>\n",
       "      <td>YAKIMA-PASCO-RCHLND-KNNWCK</td>\n",
       "      <td>NO MARKET</td>\n",
       "      <td>1.000000</td>\n",
       "    </tr>\n",
       "    <tr>\n",
       "      <th>324</th>\n",
       "      <td>YOUNGSTOWN</td>\n",
       "      <td>NO MARKET</td>\n",
       "      <td>1.000000</td>\n",
       "    </tr>\n",
       "    <tr>\n",
       "      <th>325</th>\n",
       "      <td>YUMA-EL CENTRO</td>\n",
       "      <td>NO MARKET</td>\n",
       "      <td>1.000000</td>\n",
       "    </tr>\n",
       "    <tr>\n",
       "      <th>326</th>\n",
       "      <td>ZANESVILLE</td>\n",
       "      <td>COLUMBUS</td>\n",
       "      <td>1.000000</td>\n",
       "    </tr>\n",
       "  </tbody>\n",
       "</table>\n",
       "<p>327 rows × 3 columns</p>\n",
       "</div>"
      ],
      "text/plain": [
       "                            DMA   IRI Market      Pctg\n",
       "0            ABILENE-SWEETWATER    NO MARKET  1.000000\n",
       "1                    ALBANY, GA    NO MARKET  1.000000\n",
       "2       ALBANY-SCHENECTADY-TROY       ALBANY  0.796801\n",
       "3       ALBANY-SCHENECTADY-TROY  NEW ENGLAND  0.029085\n",
       "4       ALBANY-SCHENECTADY-TROY    NO MARKET  0.174114\n",
       "..                          ...          ...       ...\n",
       "322                  WILMINGTON    NO MARKET  1.000000\n",
       "323  YAKIMA-PASCO-RCHLND-KNNWCK    NO MARKET  1.000000\n",
       "324                  YOUNGSTOWN    NO MARKET  1.000000\n",
       "325              YUMA-EL CENTRO    NO MARKET  1.000000\n",
       "326                  ZANESVILLE     COLUMBUS  1.000000\n",
       "\n",
       "[327 rows x 3 columns]"
      ]
     },
     "execution_count": 4,
     "metadata": {},
     "output_type": "execute_result"
    }
   ],
   "source": [
    "allocation_pctg=pd.read_csv(\"/home/jian/SunnyD/Otherinput/DMA_to_IRI_Pctg/from_DMA_to_IRI_based_on_common_population.csv\",dtype=str)\n",
    "allocation_pctg=allocation_pctg[['DMA','IRI Market','Pctg']]\n",
    "allocation_pctg['Pctg']=allocation_pctg['Pctg'].apply(lambda x: float(x))\n",
    "allocation_pctg"
   ]
  },
  {
   "cell_type": "code",
   "execution_count": 6,
   "metadata": {
    "collapsed": true
   },
   "outputs": [],
   "source": [
    "agg_df=pd.DataFrame()\n",
    "for dma in allocation_pctg['DMA'].unique().tolist():\n",
    "    if dma not in DMA_name_mapping.keys():\n",
    "        print(dma)\n",
    "        for std_dma in all_values:\n",
    "            if fuzz.ratio(dma, std_dma)>10:\n",
    "                df=pd.DataFrame({\"found_dma\":dma,\"std_dma\":std_dma,\"ratio\":fuzz.ratio(dma, std_dma)},index=[dma])\n",
    "                agg_df=agg_df.append(df).sort_values(\"ratio\",ascending=False).head(5)"
   ]
  },
  {
   "cell_type": "code",
   "execution_count": 7,
   "metadata": {
    "collapsed": true
   },
   "outputs": [],
   "source": [
    "with open(json_file, 'w') as outfile:  \n",
    "    json.dump(DMA_name_mapping, outfile)"
   ]
  },
  {
   "cell_type": "code",
   "execution_count": 8,
   "metadata": {
    "collapsed": true
   },
   "outputs": [],
   "source": [
    "data_folder=os.getcwd()+\"/data/\""
   ]
  },
  {
   "cell_type": "code",
   "execution_count": 9,
   "metadata": {},
   "outputs": [
    {
     "data": {
      "text/plain": [
       "'/home/jian/SunnyD/Allocate_DMA_spend_to_IRI/data/'"
      ]
     },
     "execution_count": 9,
     "metadata": {},
     "output_type": "execute_result"
    }
   ],
   "source": [
    "data_folder"
   ]
  },
  {
   "cell_type": "code",
   "execution_count": 10,
   "metadata": {
    "collapsed": true
   },
   "outputs": [],
   "source": [
    "TMR_cols=['DMA','Date','cost_DMA','Media','coefficient','raw_spend_type']"
   ]
  },
  {
   "cell_type": "markdown",
   "metadata": {},
   "source": [
    "# TV"
   ]
  },
  {
   "cell_type": "code",
   "execution_count": 11,
   "metadata": {},
   "outputs": [
    {
     "data": {
      "text/plain": [
       "229974.5"
      ]
     },
     "execution_count": 11,
     "metadata": {},
     "output_type": "execute_result"
    }
   ],
   "source": [
    "# 1. Local\n",
    "spend_1_TV_local=pd.read_excel(data_folder+\"Update_Sep_1st_Week/\"+\"SunnyD August Local Cable & Broadcast Spend by day by DMA - Final - 9.14.18.xlsx\",dtype=str,sheetname=\"Cable\",skiprows=1)\n",
    "\n",
    "local_tv_cols=spend_1_TV_local.columns.tolist()\n",
    "local_tv_cols=['DMA']+[str(x)[:10] for x in local_tv_cols[1:len(local_tv_cols)-1]]+['DMA Total']\n",
    "\n",
    "spend_1_TV_local.columns=local_tv_cols\n",
    "\n",
    "spend_1_TV_local=spend_1_TV_local[local_tv_cols[:len(local_tv_cols)-1]]\n",
    "for col in spend_1_TV_local.columns.tolist()[1:]:\n",
    "    spend_1_TV_local[col]=spend_1_TV_local[col].astype(float)\n",
    "spend_1_TV_local=spend_1_TV_local[spend_1_TV_local['DMA']!='nan']\n",
    "   \n",
    "spend_1_TV_local=spend_1_TV_local.melt(id_vars=\"DMA\",var_name=\"Date\",value_name=\"cost_DMA\")\n",
    "spend_1_TV_local['Media']='TV_Local'\n",
    "spend_1_TV_local['coefficient']=0.9958\n",
    "spend_1_TV_local['raw_spend_type']='gross'\n",
    "spend_1_TV_local=spend_1_TV_local[['Date','DMA','Media','coefficient','raw_spend_type','cost_DMA']]\n",
    "spend_1_TV_local['cost_DMA'].sum()\n"
   ]
  },
  {
   "cell_type": "code",
   "execution_count": 12,
   "metadata": {
    "collapsed": true
   },
   "outputs": [],
   "source": [
    "# 2. Broadcast\n",
    "spend_2_TV_broadcast=pd.read_excel(data_folder+\"Update_Sep_1st_Week/\"+\"SunnyD August Local Cable & Broadcast Spend by day by DMA - Final - 9.14.18.xlsx\",dtype=str,sheetname=\"Broadcast\",skiprows=1)\n",
    "\n",
    "broadcast_tv_cols=spend_2_TV_broadcast.columns.tolist()\n",
    "broadcast_tv_cols=['DMA']+[str(x)[:10] for x in broadcast_tv_cols[1:len(broadcast_tv_cols)-1]]+['DMA Total']\n",
    "\n",
    "spend_2_TV_broadcast.columns=broadcast_tv_cols\n",
    "\n",
    "spend_2_TV_broadcast=spend_2_TV_broadcast[broadcast_tv_cols[:len(local_tv_cols)-1]]\n",
    "for col in spend_2_TV_broadcast.columns.tolist()[1:]:\n",
    "    spend_2_TV_broadcast[col]=spend_2_TV_broadcast[col].astype(float)\n",
    "spend_2_TV_broadcast=spend_2_TV_broadcast[spend_2_TV_broadcast['DMA']!='nan']\n",
    "   \n",
    "spend_2_TV_broadcast=spend_2_TV_broadcast.melt(id_vars=\"DMA\",var_name=\"Date\",value_name=\"cost_DMA\")\n",
    "spend_2_TV_broadcast['Media']='TV_Broadcast'\n",
    "spend_2_TV_broadcast['coefficient']=0.9958\n",
    "spend_2_TV_broadcast['raw_spend_type']='gross'\n",
    "spend_2_TV_broadcast=spend_2_TV_broadcast[['Date','DMA','Media','coefficient','raw_spend_type','cost_DMA']]\n",
    "spend_2_TV_broadcast['cost_DMA'].sum()\n",
    "spend_2_TV_broadcast['DMA']=spend_2_TV_broadcast['DMA'].apply(lambda x: x.replace(\" Total\",\"\"))\n"
   ]
  },
  {
   "cell_type": "code",
   "execution_count": 13,
   "metadata": {},
   "outputs": [
    {
     "data": {
      "text/html": [
       "<div>\n",
       "<style>\n",
       "    .dataframe thead tr:only-child th {\n",
       "        text-align: right;\n",
       "    }\n",
       "\n",
       "    .dataframe thead th {\n",
       "        text-align: left;\n",
       "    }\n",
       "\n",
       "    .dataframe tbody tr th {\n",
       "        vertical-align: top;\n",
       "    }\n",
       "</style>\n",
       "<table border=\"1\" class=\"dataframe\">\n",
       "  <thead>\n",
       "    <tr style=\"text-align: right;\">\n",
       "      <th></th>\n",
       "      <th>Date</th>\n",
       "      <th>DMA</th>\n",
       "      <th>Media</th>\n",
       "      <th>coefficient</th>\n",
       "      <th>raw_spend_type</th>\n",
       "      <th>cost_DMA</th>\n",
       "    </tr>\n",
       "  </thead>\n",
       "  <tbody>\n",
       "    <tr>\n",
       "      <th>0</th>\n",
       "      <td>2018-07-31</td>\n",
       "      <td>Atlanta</td>\n",
       "      <td>TV_Local</td>\n",
       "      <td>0.9958</td>\n",
       "      <td>gross</td>\n",
       "      <td>2498.0</td>\n",
       "    </tr>\n",
       "    <tr>\n",
       "      <th>1</th>\n",
       "      <td>2018-07-31</td>\n",
       "      <td>Augusta</td>\n",
       "      <td>TV_Local</td>\n",
       "      <td>0.9958</td>\n",
       "      <td>gross</td>\n",
       "      <td>215.0</td>\n",
       "    </tr>\n",
       "  </tbody>\n",
       "</table>\n",
       "</div>"
      ],
      "text/plain": [
       "         Date      DMA     Media  coefficient raw_spend_type  cost_DMA\n",
       "0  2018-07-31  Atlanta  TV_Local       0.9958          gross    2498.0\n",
       "1  2018-07-31  Augusta  TV_Local       0.9958          gross     215.0"
      ]
     },
     "execution_count": 13,
     "metadata": {},
     "output_type": "execute_result"
    }
   ],
   "source": [
    "local_TV_cost=spend_1_TV_local.append(spend_2_TV_broadcast)\n",
    "local_TV_cost.head(2)"
   ]
  },
  {
   "cell_type": "code",
   "execution_count": 14,
   "metadata": {
    "collapsed": true
   },
   "outputs": [],
   "source": [
    "agg_df=pd.DataFrame()\n",
    "for dma in local_TV_cost['DMA'].unique().tolist():\n",
    "    if dma not in DMA_name_mapping.keys():\n",
    "        print(dma)\n",
    "        for std_dma in all_values:\n",
    "            if fuzz.ratio(dma, std_dma)>10:\n",
    "                df=pd.DataFrame({\"found_dma\":dma,\"std_dma\":std_dma,\"ratio\":fuzz.ratio(dma, std_dma)},index=[dma])\n",
    "                agg_df=agg_df.append(df).sort_values(\"ratio\",ascending=False).head(5)"
   ]
  },
  {
   "cell_type": "code",
   "execution_count": 15,
   "metadata": {},
   "outputs": [
    {
     "data": {
      "text/plain": [
       "'\\nupdated_dict=agg_df.head(4)[[\\'std_dma\\']].reset_index().rename(columns={\"index\":\"DMA_Found\"})\\nupdated_dict.index=updated_dict[\\'DMA_Found\\']\\ndel updated_dict[\\'DMA_Found\\']\\nupdated_dict=updated_dict.to_dict()\\nDMA_name_mapping.update(updated_dict[\\'std_dma\\'])\\n'"
      ]
     },
     "execution_count": 15,
     "metadata": {},
     "output_type": "execute_result"
    }
   ],
   "source": [
    "# If empty above, no need to run\n",
    "'''\n",
    "updated_dict=agg_df.head(4)[['std_dma']].reset_index().rename(columns={\"index\":\"DMA_Found\"})\n",
    "updated_dict.index=updated_dict['DMA_Found']\n",
    "del updated_dict['DMA_Found']\n",
    "updated_dict=updated_dict.to_dict()\n",
    "DMA_name_mapping.update(updated_dict['std_dma'])\n",
    "'''"
   ]
  },
  {
   "cell_type": "code",
   "execution_count": 16,
   "metadata": {},
   "outputs": [
    {
     "data": {
      "text/html": [
       "<div>\n",
       "<style>\n",
       "    .dataframe thead tr:only-child th {\n",
       "        text-align: right;\n",
       "    }\n",
       "\n",
       "    .dataframe thead th {\n",
       "        text-align: left;\n",
       "    }\n",
       "\n",
       "    .dataframe tbody tr th {\n",
       "        vertical-align: top;\n",
       "    }\n",
       "</style>\n",
       "<table border=\"1\" class=\"dataframe\">\n",
       "  <thead>\n",
       "    <tr style=\"text-align: right;\">\n",
       "      <th></th>\n",
       "      <th>Date</th>\n",
       "      <th>DMA</th>\n",
       "      <th>Media</th>\n",
       "      <th>coefficient</th>\n",
       "      <th>raw_spend_type</th>\n",
       "      <th>cost_DMA</th>\n",
       "    </tr>\n",
       "  </thead>\n",
       "  <tbody>\n",
       "    <tr>\n",
       "      <th>0</th>\n",
       "      <td>2018-07-31</td>\n",
       "      <td>Atlanta</td>\n",
       "      <td>TV_Local</td>\n",
       "      <td>0.9958</td>\n",
       "      <td>gross</td>\n",
       "      <td>2498.0</td>\n",
       "    </tr>\n",
       "    <tr>\n",
       "      <th>1</th>\n",
       "      <td>2018-07-31</td>\n",
       "      <td>Augusta</td>\n",
       "      <td>TV_Local</td>\n",
       "      <td>0.9958</td>\n",
       "      <td>gross</td>\n",
       "      <td>215.0</td>\n",
       "    </tr>\n",
       "  </tbody>\n",
       "</table>\n",
       "</div>"
      ],
      "text/plain": [
       "         Date      DMA     Media  coefficient raw_spend_type  cost_DMA\n",
       "0  2018-07-31  Atlanta  TV_Local       0.9958          gross    2498.0\n",
       "1  2018-07-31  Augusta  TV_Local       0.9958          gross     215.0"
      ]
     },
     "execution_count": 16,
     "metadata": {},
     "output_type": "execute_result"
    }
   ],
   "source": [
    "local_TV_cost.head(2)"
   ]
  },
  {
   "cell_type": "code",
   "execution_count": 17,
   "metadata": {},
   "outputs": [
    {
     "data": {
      "text/html": [
       "<div>\n",
       "<style>\n",
       "    .dataframe thead tr:only-child th {\n",
       "        text-align: right;\n",
       "    }\n",
       "\n",
       "    .dataframe thead th {\n",
       "        text-align: left;\n",
       "    }\n",
       "\n",
       "    .dataframe tbody tr th {\n",
       "        vertical-align: top;\n",
       "    }\n",
       "</style>\n",
       "<table border=\"1\" class=\"dataframe\">\n",
       "  <thead>\n",
       "    <tr style=\"text-align: right;\">\n",
       "      <th></th>\n",
       "      <th>Date</th>\n",
       "      <th>DMA</th>\n",
       "      <th>Media</th>\n",
       "      <th>coefficient</th>\n",
       "      <th>raw_spend_type</th>\n",
       "      <th>cost_DMA</th>\n",
       "    </tr>\n",
       "  </thead>\n",
       "  <tbody>\n",
       "    <tr>\n",
       "      <th>0</th>\n",
       "      <td>2018-07-31</td>\n",
       "      <td>Atlanta</td>\n",
       "      <td>TV_Local</td>\n",
       "      <td>0.9958</td>\n",
       "      <td>gross</td>\n",
       "      <td>2498.0</td>\n",
       "    </tr>\n",
       "    <tr>\n",
       "      <th>1</th>\n",
       "      <td>2018-07-31</td>\n",
       "      <td>Augusta</td>\n",
       "      <td>TV_Local</td>\n",
       "      <td>0.9958</td>\n",
       "      <td>gross</td>\n",
       "      <td>215.0</td>\n",
       "    </tr>\n",
       "  </tbody>\n",
       "</table>\n",
       "</div>"
      ],
      "text/plain": [
       "         Date      DMA     Media  coefficient raw_spend_type  cost_DMA\n",
       "0  2018-07-31  Atlanta  TV_Local       0.9958          gross    2498.0\n",
       "1  2018-07-31  Augusta  TV_Local       0.9958          gross     215.0"
      ]
     },
     "execution_count": 17,
     "metadata": {},
     "output_type": "execute_result"
    }
   ],
   "source": [
    "local_TV_cost.head(2)"
   ]
  },
  {
   "cell_type": "markdown",
   "metadata": {},
   "source": [
    "# National TV"
   ]
  },
  {
   "cell_type": "code",
   "execution_count": 18,
   "metadata": {
    "collapsed": true
   },
   "outputs": [],
   "source": [
    "spend_national_TV=pd.read_excel(\"/home/jian/SunnyD/Allocate_DMA_spend_to_IRI/data/Update_Sep_1st_Week/Galavision and UniMas Spend by Day by DMA_1.xlsx\",dtype=str,skiprows=9)\n",
    "spend_national_TV_dates=[str(x)[:10] for x in spend_national_TV.columns.tolist() if \"Unnamed\" not in str(x)]\n",
    "spend_national_TV=pd.read_excel(\"/home/jian/SunnyD/Allocate_DMA_spend_to_IRI/data/Galavision and UniMas Spend by Day by DMA.xlsx\",dtype=str,skiprows=10)\n",
    "spend_national_TV=spend_national_TV.rename(columns={\"Unnamed: 0\":\"DMA\"})\n",
    "spend_national_TV=spend_national_TV[[x for x in spend_national_TV.columns.tolist() if \"Spend\" not in x]]\n",
    "spend_national_TV=spend_national_TV.iloc[:,0:len(spend_national_TV_dates)*2+1]"
   ]
  },
  {
   "cell_type": "code",
   "execution_count": 19,
   "metadata": {
    "collapsed": true
   },
   "outputs": [],
   "source": [
    "columns_name=[]\n",
    "for date_str in spend_national_TV_dates:\n",
    "    for channel in [\"Galavision\",\"UniMas\"]:\n",
    "        name_str=date_str+\"|\"+channel\n",
    "        columns_name=columns_name+[name_str]\n",
    "spend_national_TV.columns=['DMA']+columns_name"
   ]
  },
  {
   "cell_type": "code",
   "execution_count": 20,
   "metadata": {
    "collapsed": true
   },
   "outputs": [],
   "source": [
    "spend_national_TV_G=spend_national_TV[['DMA']+[col for col in spend_national_TV.columns.tolist() if \"Gala\" in col]]\n",
    "spend_national_TV_U=spend_national_TV[['DMA']+[col for col in spend_national_TV.columns.tolist() if \"Uni\" in col]]\n",
    "spend_national_TV_G.columns=['DMA']+[x[:10] for x in spend_national_TV_G.columns.tolist()[1:]]\n",
    "spend_national_TV_U.columns=['DMA']+[x[:10] for x in spend_national_TV_U.columns.tolist()[1:]]\n",
    "spend_national_TV_G=spend_national_TV_G.melt(id_vars=\"DMA\",var_name=\"Date\",value_name=\"cost_DMA\")\n",
    "spend_national_TV_U=spend_national_TV_U.melt(id_vars=\"DMA\",var_name=\"Date\",value_name=\"cost_DMA\")\n",
    "spend_national_TV_G['Media']=\"National_TV_Galavision\"\n",
    "spend_national_TV_U['Media']=\"National_TV_UniMas\"\n",
    "national_TV_cost=spend_national_TV_G.append(spend_national_TV_U)\n",
    "national_TV_cost['coefficient']=0.9958\n",
    "national_TV_cost['raw_spend_type']=\"gross\"\n",
    "national_TV_cost=national_TV_cost[local_TV_cost.columns.tolist()]\n",
    "national_TV_cost['DMA']=national_TV_cost['DMA'].apply(lambda x: x.split(\" (\")[0])\n",
    "national_TV_cost['cost_DMA']=national_TV_cost['cost_DMA'].astype(float)"
   ]
  },
  {
   "cell_type": "markdown",
   "metadata": {
    "collapsed": true
   },
   "source": [
    "# FB/IG"
   ]
  },
  {
   "cell_type": "code",
   "execution_count": 21,
   "metadata": {
    "collapsed": true
   },
   "outputs": [],
   "source": [
    "FB_Inst_cost=pd.read_excel(data_folder+\"Update_Sep_1st_Week/\"+\"FB-IG_Sunny D_Spend by DMA Day_9.4.2018.xlsx\",dtype=str,sheetname='Raw Data Report',skiprows=2)\n",
    "FB_Inst_cost=FB_Inst_cost[~FB_Inst_cost['Day'].isin(['nan','All'])]\n",
    "FB_Inst_cost=FB_Inst_cost[['DMA Region','Day','Amount Spent']].rename(columns={\"DMA Region\":\"DMA\",\"Day\":\"Date\",\"Amount Spent\":\"cost_DMA\"})\n",
    "FB_Inst_cost['cost_DMA']=FB_Inst_cost['cost_DMA'].astype(float)\n",
    "FB_Inst_cost['Media']='FB_IG'\n",
    "FB_Inst_cost['coefficient']=0.9958/0.85\n",
    "FB_Inst_cost['raw_spend_type']='net'\n",
    "FB_Inst_cost=FB_Inst_cost[TMR_cols]"
   ]
  },
  {
   "cell_type": "code",
   "execution_count": 22,
   "metadata": {
    "collapsed": true
   },
   "outputs": [],
   "source": [
    "agg_df=pd.DataFrame()\n",
    "for dma in FB_Inst_cost['DMA'].unique().tolist():\n",
    "    if dma not in DMA_name_mapping.keys():\n",
    "        print(dma)\n",
    "        for std_dma in all_values:\n",
    "            if fuzz.ratio(dma, std_dma)>10:\n",
    "                df=pd.DataFrame({\"found_dma\":dma,\"std_dma\":std_dma,\"ratio\":fuzz.ratio(dma, std_dma)},index=[dma])\n",
    "                agg_df=agg_df.append(df).sort_values(\"ratio\",ascending=False).head(5)"
   ]
  },
  {
   "cell_type": "markdown",
   "metadata": {},
   "source": [
    "# Snapchat"
   ]
  },
  {
   "cell_type": "code",
   "execution_count": 23,
   "metadata": {
    "collapsed": true
   },
   "outputs": [],
   "source": [
    "Snapchat_cost=pd.read_excel(data_folder+\"Update_Sep_1st_Week/\"+\"Snapchat_ad-account-EST-3157_SunnyD_SC-campaigns-data.xlsx\",dtype=str)\n",
    "Snapchat_cost=Snapchat_cost[['Start time','Spend']].rename(columns={\"Start time\":\"Date\",\"Spend\":\"cost_DMA\"})\n",
    "Snapchat_cost['DMA']='xx'\n",
    "Snapchat_cost['Media']=\"Snapchat\"\n",
    "Snapchat_cost['Date']=Snapchat_cost['Date'].apply(lambda x: x[:10])\n",
    "Snapchat_cost['coefficient']=0.9958/0.85\n",
    "Snapchat_cost['cost_DMA']=Snapchat_cost['cost_DMA'].astype(float)\n",
    "Snapchat_cost['Date']=Snapchat_cost['Date'].apply(lambda x: datetime.datetime.strptime(x,\"%Y-%m-%d\").date())\n",
    "Snapchat_cost['raw_spend_type']='net'\n",
    "Snapchat_cost=Snapchat_cost[local_TV_cost.columns]\n",
    "Snapchat_cost['Date']=Snapchat_cost['Date'].astype(str)"
   ]
  },
  {
   "cell_type": "markdown",
   "metadata": {},
   "source": [
    "# Spotify"
   ]
  },
  {
   "cell_type": "code",
   "execution_count": 24,
   "metadata": {},
   "outputs": [
    {
     "data": {
      "text/plain": [
       "'\\nSpotify_cost_date=pd.read_excel(data_folder+\"3158_SunnyD_2018Campaign_Spotify PG.xlsx\",dtype=str,sheetname=\"Spotify\")\\nrows=Spotify_cost_date[Spotify_cost_date[\\'DMA\\'].apply(lambda x: \"00:\" in x)].reset_index()[\\'index\\'].tolist()+[len(Spotify_cost_date)]\\n\\nSpotify_cost=pd.DataFrame()\\nfor i in range(len(rows)-1):\\n    df=Spotify_cost_date.iloc[rows[i]:rows[i+1],]\\n    date=Spotify_cost_date[\\'DMA\\'][rows[i]][:10]\\n    df[\\'Date\\']=date\\n    df=df.reset_index()\\n    del df[\\'index\\']\\n    df=df.iloc[1:]\\n    Spotify_cost=Spotify_cost.append(df)\\nSpotify_cost[\\'DMA\\']=Spotify_cost[\\'DMA\\'].replace(\"nan\",\"xx\")\\n\\nSpotify_cost[\\'Date\\']=Spotify_cost[\\'Date\\'].apply(lambda x: datetime.datetime.strptime(x,\"%Y-%m-%d\").date())\\nSpotify_cost[\\'cost_DMA\\']=Spotify_cost[\\'Media Dollars\\'].apply(lambda x: float(x))\\nSpotify_cost[\\'Media\\']=\\'Spotify\\'\\nSpotify_cost[\\'coefficient\\']=0.9958/0.85\\nSpotify_cost[\\'raw_spend_type\\']=\"net\"\\nSpotify_cost=Spotify_cost[local_TV_cost.columns.tolist()]\\n'"
      ]
     },
     "execution_count": 24,
     "metadata": {},
     "output_type": "execute_result"
    }
   ],
   "source": [
    "# Already included in Digital\n",
    "\n",
    "'''\n",
    "Spotify_cost_date=pd.read_excel(data_folder+\"3158_SunnyD_2018Campaign_Spotify PG.xlsx\",dtype=str,sheetname=\"Spotify\")\n",
    "rows=Spotify_cost_date[Spotify_cost_date['DMA'].apply(lambda x: \"00:\" in x)].reset_index()['index'].tolist()+[len(Spotify_cost_date)]\n",
    "\n",
    "Spotify_cost=pd.DataFrame()\n",
    "for i in range(len(rows)-1):\n",
    "    df=Spotify_cost_date.iloc[rows[i]:rows[i+1],]\n",
    "    date=Spotify_cost_date['DMA'][rows[i]][:10]\n",
    "    df['Date']=date\n",
    "    df=df.reset_index()\n",
    "    del df['index']\n",
    "    df=df.iloc[1:]\n",
    "    Spotify_cost=Spotify_cost.append(df)\n",
    "Spotify_cost['DMA']=Spotify_cost['DMA'].replace(\"nan\",\"xx\")\n",
    "\n",
    "Spotify_cost['Date']=Spotify_cost['Date'].apply(lambda x: datetime.datetime.strptime(x,\"%Y-%m-%d\").date())\n",
    "Spotify_cost['cost_DMA']=Spotify_cost['Media Dollars'].apply(lambda x: float(x))\n",
    "Spotify_cost['Media']='Spotify'\n",
    "Spotify_cost['coefficient']=0.9958/0.85\n",
    "Spotify_cost['raw_spend_type']=\"net\"\n",
    "Spotify_cost=Spotify_cost[local_TV_cost.columns.tolist()]\n",
    "'''"
   ]
  },
  {
   "cell_type": "markdown",
   "metadata": {},
   "source": [
    "# Cinema"
   ]
  },
  {
   "cell_type": "code",
   "execution_count": 25,
   "metadata": {
    "collapsed": true
   },
   "outputs": [],
   "source": [
    "Cinema_cost=pd.read_excel(data_folder+\"HH SunnyD Cinema Breakout by Day_8.24_FOR JUBA.XLSX\",dtype=str,skiprows=3,sheetname=\"Spend by DMA_Cinema\")\n",
    "Cinema_cost=Cinema_cost.iloc[:,1:(Cinema_cost.shape[1]-1)]"
   ]
  },
  {
   "cell_type": "code",
   "execution_count": 26,
   "metadata": {
    "collapsed": true
   },
   "outputs": [],
   "source": [
    "Cinema_cost_header=[x[:10] for x in [str(col) for col in Cinema_cost.columns.tolist()] if \"-\" in x]\n",
    "Cinema_cost.columns=[['DMA']+Cinema_cost_header]\n",
    "# All DMA found\n",
    "\n",
    "Cinema_cost=pd.melt(Cinema_cost, id_vars='DMA', value_vars=Cinema_cost.columns.tolist()[1:])\n",
    "Cinema_cost.columns=['DMA','Date','cost_DMA']\n",
    "Cinema_cost['cost_DMA']=Cinema_cost['cost_DMA'].astype(float)\n",
    "Cinema_cost=Cinema_cost.groupby(['DMA','Date'])['cost_DMA'].sum().to_frame().reset_index()\n",
    "Cinema_cost['Media']='Cinema'\n",
    "Cinema_cost['coefficient']=0.9958/0.85\n",
    "Cinema_cost['raw_spend_type']='net'\n",
    "Cinema_cost=Cinema_cost[local_TV_cost.columns]"
   ]
  },
  {
   "cell_type": "markdown",
   "metadata": {},
   "source": [
    "# Dish_DTV"
   ]
  },
  {
   "cell_type": "code",
   "execution_count": 27,
   "metadata": {
    "collapsed": true
   },
   "outputs": [],
   "source": [
    "DISH_cost=pd.read_excel(data_folder+\"Update_Sep_1st_Week/\"+\"HH SunnyD DISH & DTV Breakout by Day_9.4_FOR JUBA.xlsx\",dtype=str,skiprows=3,sheetname=\"Spend by DMA_DISH\")\n",
    "DISH_cost=DISH_cost.iloc[:,1:(DISH_cost.shape[1]-1)]\n",
    "DISH_cost.head(2)\n",
    "\n",
    "\n",
    "DISH_cost_header=[x[:10] for x in [str(col) for col in DISH_cost.columns.tolist()] if \"-\" in x]\n",
    "DISH_cost.columns=[['DMA']+DISH_cost_header]\n",
    "DISH_cost=pd.melt(DISH_cost, id_vars='DMA', value_vars=DISH_cost.columns.tolist()[1:])\n",
    "DISH_cost.columns=['DMA','Date','cost_DMA']\n",
    "DISH_cost['cost_DMA']=DISH_cost['cost_DMA'].astype(float)\n",
    "DISH_cost=DISH_cost.groupby(['DMA','Date'])['cost_DMA'].sum().to_frame().reset_index()\n",
    "DISH_cost['Media']='DISH'\n",
    "DISH_cost['coefficient']=0.9958\n",
    "DISH_cost['raw_spend_type']='gross'\n",
    "DISH_cost=DISH_cost[local_TV_cost.columns]"
   ]
  },
  {
   "cell_type": "code",
   "execution_count": 28,
   "metadata": {
    "collapsed": true
   },
   "outputs": [],
   "source": [
    "DTV_cost=pd.read_excel(data_folder+\"Update_Sep_1st_Week/\"+\"HH SunnyD DISH & DTV Breakout by Day_9.4_FOR JUBA.xlsx\",dtype=str,skiprows=3,sheetname=\"Spend by DMA_DTV\")\n",
    "DTV_cost=DTV_cost.iloc[:,1:(DTV_cost.shape[1]-1)]\n",
    "DTV_cost.head(2)\n",
    "\n",
    "DTV_cost_header=[x[:10] for x in [str(col) for col in DTV_cost.columns.tolist()] if \"-\" in x]\n",
    "DTV_cost.columns=[['DMA']+DTV_cost_header]\n",
    "DTV_cost=pd.melt(DTV_cost, id_vars='DMA', value_vars=DTV_cost.columns.tolist()[1:])\n",
    "DTV_cost.columns=['DMA','Date','cost_DMA']\n",
    "DTV_cost['cost_DMA']=DTV_cost['cost_DMA'].astype(float)\n",
    "DTV_cost=DTV_cost.groupby(['DMA','Date'])['cost_DMA'].sum().to_frame().reset_index()\n",
    "DTV_cost['Media']='DTV'\n",
    "DTV_cost['coefficient']=0.9958\n",
    "DTV_cost['raw_spend_type']='gross'\n",
    "DTV_cost=DTV_cost[local_TV_cost.columns]"
   ]
  },
  {
   "cell_type": "markdown",
   "metadata": {},
   "source": [
    "# Digital by zip"
   ]
  },
  {
   "cell_type": "code",
   "execution_count": 57,
   "metadata": {
    "collapsed": true
   },
   "outputs": [],
   "source": [
    "Digital_cost=pd.read_excel(data_folder+\"Update_Sep_1st_Week/\"+\"Estimated Digital Spend By Zip By Day_Sunny D 9.11.xlsx\",\n",
    "                           dtype=str,sheetname=\"Total Spend by Zip by Day\")\n",
    "Digital_cost_header=[x for x in [str(col) for col in Digital_cost.columns.tolist()] if \"/\" in x]\n",
    "Digital_cost.columns=[['Zips']+Digital_cost_header+[\"Total\"]]\n",
    "Digital_cost=Digital_cost.fillna(0)\n",
    "Digital_cost=Digital_cost.rename(columns={\"Zips\":\"zip_cd\"})"
   ]
  },
  {
   "cell_type": "code",
   "execution_count": 58,
   "metadata": {
    "collapsed": true
   },
   "outputs": [],
   "source": [
    "Digital_cost=Digital_cost[Digital_cost['zip_cd']!='Grand Total']\n",
    "Digital_cost=Digital_cost[Digital_cost['zip_cd']!='Total']\n",
    "Digital_cost['zip_cd']=Digital_cost['zip_cd'].apply(lambda x: x.zfill(5))"
   ]
  },
  {
   "cell_type": "code",
   "execution_count": 59,
   "metadata": {
    "collapsed": true
   },
   "outputs": [],
   "source": [
    "zip_IRI_mapping=pd.read_excel(\"/home/jian/SunnyD/Otherinput/All_IRI_Mkt_with_Zips_0430.xlsx\",dtype=str)"
   ]
  },
  {
   "cell_type": "code",
   "execution_count": 60,
   "metadata": {
    "collapsed": true
   },
   "outputs": [],
   "source": [
    "Digital_cost=pd.merge(Digital_cost,zip_IRI_mapping,on=\"zip_cd\",how=\"left\")\n",
    "Digital_cost['IRI Market']=Digital_cost['IRI Market'].fillna(\"NO MARKET\")\n",
    "# del Digital_cost['zip_cd']\n",
    "\n",
    "QC_Digital_cost=Digital_cost[['zip_cd','IRI Market']+[x for x in Digital_cost.columns.tolist() if \"/\" in x]]\n",
    "QC_Digital_cost['18_Mkt_Ind']=Digital_cost['IRI Market'].apply(lambda x: In_18(x))\n",
    "QC_Digital_cost.to_csv(\"/home/jian/SunnyD/Allocate_DMA_spend_to_IRI/QC_Digital.csv\",index=False)\n",
    "\n",
    "Digital_cost=Digital_cost[['IRI Market']+[x for x in Digital_cost.columns.tolist() if \"/\" in x]]"
   ]
  },
  {
   "cell_type": "code",
   "execution_count": 63,
   "metadata": {
    "collapsed": true
   },
   "outputs": [],
   "source": []
  },
  {
   "cell_type": "code",
   "execution_count": 33,
   "metadata": {
    "collapsed": true
   },
   "outputs": [],
   "source": [
    "Digital_cost=pd.melt(Digital_cost, id_vars='IRI Market', value_vars=Digital_cost.columns.tolist()[1:])\n",
    "Digital_cost.columns=['IRI Market','Date','cost_IRI']\n",
    "Digital_cost['cost_IRI']=Digital_cost['cost_IRI'].astype(float)\n",
    "Digital_cost=Digital_cost.groupby(['IRI Market','Date'])['cost_IRI'].sum().to_frame().reset_index()\n",
    "Digital_cost['Media']='Digital'\n",
    "Digital_cost['coefficient']=1\n",
    "Digital_cost['adjusted_cost_IRI']=Digital_cost['cost_IRI']*Digital_cost['coefficient']\n",
    "Digital_cost['raw_spend_type']='adjusted'\n",
    "Digital_cost['Date']=Digital_cost['Date'].apply(lambda x: datetime.date(int(x.split(\"/\")[2]),int(x.split(\"/\")[0]),int(x.split(\"/\")[1])))\n",
    "Digital_cost['Date']=Digital_cost['Date'].astype(str)\n"
   ]
  },
  {
   "cell_type": "markdown",
   "metadata": {},
   "source": [
    "# Pandora by Zip"
   ]
  },
  {
   "cell_type": "code",
   "execution_count": 35,
   "metadata": {},
   "outputs": [
    {
     "data": {
      "text/plain": [
       "'\\nPandora_cost=pd.read_excel(data_folder+\"Pandora Estimated Digital Spend By Zip By Day_Sunny D.xlsx\",dtype=str,sheetname=\"PANDORA TOTAL ESTIMATED SPEND\")\\nPandora_cost_header=[x[:10] for x in [str(col) for col in Pandora_cost.columns.tolist()] if \"-\" in x]\\nPandora_cost.columns=[[\\'zip_cd\\']+Pandora_cost_header+[\"Total\"]]\\nPandora_cost=Pandora_cost[Pandora_cost[\\'zip_cd\\']!=\\'Total\\']\\nPandora_cost[\\'zip_cd\\']=Pandora_cost[\\'zip_cd\\'].apply(lambda x: x.zfill(5))\\n\\nPandora_cost=pd.merge(Pandora_cost,zip_IRI_mapping,on=\"zip_cd\",how=\"left\")\\nPandora_cost[\\'IRI Market\\']=Pandora_cost[\\'IRI Market\\'].fillna(\"NO MARKET\")\\ndel Pandora_cost[\\'zip_cd\\']\\n\\nPandora_cost=Pandora_cost[[\\'IRI Market\\']+[x for x in Pandora_cost.columns.tolist() if \"-\" in x]]\\n\\nPandora_cost=pd.melt(Pandora_cost, id_vars=\\'IRI Market\\', value_vars=Pandora_cost.columns.tolist()[1:])\\nPandora_cost.columns=[\\'IRI Market\\',\\'Date\\',\\'cost_IRI\\']\\nPandora_cost[\\'cost_IRI\\']=Pandora_cost[\\'cost_IRI\\'].astype(float)\\nPandora_cost=Pandora_cost.groupby([\\'IRI Market\\',\\'Date\\'])[\\'cost_IRI\\'].sum().to_frame().reset_index()\\nPandora_cost[\\'Media\\']=\\'Pandora\\'\\nPandora_cost[\\'coefficient\\']=0.9958\\nPandora_cost[\\'adjusted_cost_IRI\\']=Pandora_cost[\\'cost_IRI\\']*Pandora_cost[\\'coefficient\\']\\nPandora_cost[\\'raw_spend_type\\']=\\'gross\\'\\n'"
      ]
     },
     "execution_count": 35,
     "metadata": {},
     "output_type": "execute_result"
    }
   ],
   "source": [
    "# Already included in Digital\n",
    "'''\n",
    "Pandora_cost=pd.read_excel(data_folder+\"Pandora Estimated Digital Spend By Zip By Day_Sunny D.xlsx\",dtype=str,sheetname=\"PANDORA TOTAL ESTIMATED SPEND\")\n",
    "Pandora_cost_header=[x[:10] for x in [str(col) for col in Pandora_cost.columns.tolist()] if \"-\" in x]\n",
    "Pandora_cost.columns=[['zip_cd']+Pandora_cost_header+[\"Total\"]]\n",
    "Pandora_cost=Pandora_cost[Pandora_cost['zip_cd']!='Total']\n",
    "Pandora_cost['zip_cd']=Pandora_cost['zip_cd'].apply(lambda x: x.zfill(5))\n",
    "\n",
    "Pandora_cost=pd.merge(Pandora_cost,zip_IRI_mapping,on=\"zip_cd\",how=\"left\")\n",
    "Pandora_cost['IRI Market']=Pandora_cost['IRI Market'].fillna(\"NO MARKET\")\n",
    "del Pandora_cost['zip_cd']\n",
    "\n",
    "Pandora_cost=Pandora_cost[['IRI Market']+[x for x in Pandora_cost.columns.tolist() if \"-\" in x]]\n",
    "\n",
    "Pandora_cost=pd.melt(Pandora_cost, id_vars='IRI Market', value_vars=Pandora_cost.columns.tolist()[1:])\n",
    "Pandora_cost.columns=['IRI Market','Date','cost_IRI']\n",
    "Pandora_cost['cost_IRI']=Pandora_cost['cost_IRI'].astype(float)\n",
    "Pandora_cost=Pandora_cost.groupby(['IRI Market','Date'])['cost_IRI'].sum().to_frame().reset_index()\n",
    "Pandora_cost['Media']='Pandora'\n",
    "Pandora_cost['coefficient']=0.9958\n",
    "Pandora_cost['adjusted_cost_IRI']=Pandora_cost['cost_IRI']*Pandora_cost['coefficient']\n",
    "Pandora_cost['raw_spend_type']='gross'\n",
    "'''"
   ]
  },
  {
   "cell_type": "markdown",
   "metadata": {},
   "source": [
    "# Append all of the 3 DMA files"
   ]
  },
  {
   "cell_type": "code",
   "execution_count": 36,
   "metadata": {
    "collapsed": true
   },
   "outputs": [],
   "source": [
    "# Add digital later\n",
    "TMR_cost=Snapchat_cost.append(FB_Inst_cost).append(local_TV_cost).append(national_TV_cost).append(Cinema_cost).append(DISH_cost).append(DTV_cost)"
   ]
  },
  {
   "cell_type": "code",
   "execution_count": 37,
   "metadata": {},
   "outputs": [
    {
     "data": {
      "text/plain": [
       "array([], dtype=object)"
      ]
     },
     "execution_count": 37,
     "metadata": {},
     "output_type": "execute_result"
    }
   ],
   "source": [
    "TMR_cost[TMR_cost['cost_DMA'].apply(lambda x: type(x))==str]['Media'].unique()"
   ]
  },
  {
   "cell_type": "code",
   "execution_count": 38,
   "metadata": {
    "collapsed": true
   },
   "outputs": [],
   "source": [
    "TMR_cost['std_DMA']=TMR_cost['DMA'].apply(lambda x: DMA_name_mapping[x])\n",
    "del TMR_cost['DMA']\n",
    "TMR_cost['adjusted_cost_DMA']=TMR_cost['cost_DMA']*TMR_cost['coefficient']"
   ]
  },
  {
   "cell_type": "markdown",
   "metadata": {},
   "source": [
    "# Apply Pctg"
   ]
  },
  {
   "cell_type": "code",
   "execution_count": 39,
   "metadata": {
    "collapsed": true
   },
   "outputs": [],
   "source": [
    "mapping_pctg=pd.read_csv(\"/home/jian/SunnyD/Otherinput/DMA_to_IRI_Pctg/from_DMA_to_IRI_based_on_common_population.csv\",dtype=str)\n",
    "mapping_pctg=mapping_pctg.append(pd.DataFrame({\"IRI Market\":\"National\",\"Pctg\":1,\"DMA\":\"National\"},index=[0]))\n",
    "mapping_pctg=mapping_pctg.append(pd.DataFrame({\"IRI Market\":\"Unknown\",\"Pctg\":1,\"DMA\":\"Unknown\"},index=[0]))\n",
    "mapping_pctg=mapping_pctg.append(pd.DataFrame({\"IRI Market\":[\"NO MARKET\"]*4,\"Pctg\":[1]*4,\"DMA\":['Honolulu, HI','Anchorage, AK',\n",
    "                                                                                                'Fairbanks, AK','Juneau, AK']},index=[0]*4))\n",
    "\n",
    "mapping_pctg=mapping_pctg[['DMA','IRI Market','Pctg']]\n",
    "mapping_pctg['std_DMA']=mapping_pctg['DMA'].apply(lambda x: DMA_name_mapping[x])\n",
    "del mapping_pctg['DMA']\n",
    "mapping_pctg['Pctg']=mapping_pctg['Pctg'].astype(float)"
   ]
  },
  {
   "cell_type": "code",
   "execution_count": 40,
   "metadata": {
    "collapsed": true
   },
   "outputs": [],
   "source": [
    "TMR_cost_IRI=pd.merge(TMR_cost,mapping_pctg,on='std_DMA',how=\"left\")"
   ]
  },
  {
   "cell_type": "code",
   "execution_count": 41,
   "metadata": {
    "collapsed": true
   },
   "outputs": [],
   "source": [
    "TMR_cost_IRI['adjusted_cost_IRI']=TMR_cost_IRI['adjusted_cost_DMA']*TMR_cost_IRI['Pctg']"
   ]
  },
  {
   "cell_type": "code",
   "execution_count": 42,
   "metadata": {
    "collapsed": true
   },
   "outputs": [],
   "source": [
    "# Add digital"
   ]
  },
  {
   "cell_type": "code",
   "execution_count": 43,
   "metadata": {
    "collapsed": true
   },
   "outputs": [],
   "source": [
    "TMR_cost_IRI=TMR_cost_IRI.append(Digital_cost)"
   ]
  },
  {
   "cell_type": "code",
   "execution_count": 53,
   "metadata": {
    "collapsed": true
   },
   "outputs": [],
   "source": [
    "Markets_18=['BIRMINGHAM/MONTGOMERY','NEW ORLEANS/MOBILE','PHOENIX/TUCSON','LOS ANGELES','DENVER','MIAMI/FT LAUDERDALE',\n",
    "            'ATLANTA','SOUTH CAROLINA','CHICAGO','BOSTON','BALTIMORE/WASHINGTON','DETROIT','MISSISSIPPI','RALEIGH/GREENSBORO',\n",
    "            'NEW YORK','WEST TEX/NEW MEXICO','HOUSTON','DALLAS/FT WORTH']"
   ]
  },
  {
   "cell_type": "code",
   "execution_count": 51,
   "metadata": {
    "collapsed": true
   },
   "outputs": [],
   "source": [
    "def In_18(x):\n",
    "    if x in Markets_18:\n",
    "        y=\"In_18_Mkts\"\n",
    "    else:\n",
    "        y=\"Other\"\n",
    "    return y"
   ]
  },
  {
   "cell_type": "code",
   "execution_count": 46,
   "metadata": {
    "collapsed": true
   },
   "outputs": [],
   "source": [
    "TMR_cost_IRI['18_Mkt_Ind']=TMR_cost_IRI['IRI Market'].apply(lambda x: In_18(x))"
   ]
  },
  {
   "cell_type": "code",
   "execution_count": null,
   "metadata": {
    "collapsed": true
   },
   "outputs": [],
   "source": []
  },
  {
   "cell_type": "code",
   "execution_count": 47,
   "metadata": {
    "collapsed": true
   },
   "outputs": [],
   "source": [
    "TMR_cost_IRI['IRI Market']=np.where(TMR_cost_IRI['std_DMA']==\"National\",\"National\",\n",
    "                               np.where(TMR_cost_IRI['std_DMA'].isin(['xx','Honolulu, HI']),\"Unknown\",TMR_cost_IRI['IRI Market']))"
   ]
  },
  {
   "cell_type": "code",
   "execution_count": 48,
   "metadata": {
    "collapsed": true
   },
   "outputs": [],
   "source": [
    "TMR_cost_IRI.to_csv(os.getcwd()+\"/output/SunnyD_allocated_medial_spend_JL_\"+str(datetime.datetime.now().date())+\".csv\",index=False)"
   ]
  },
  {
   "cell_type": "code",
   "execution_count": 49,
   "metadata": {
    "collapsed": true
   },
   "outputs": [],
   "source": [
    "func= {'adjusted_cost_IRI':['sum'], 'Date':['max','min']}\n",
    "TMR_cost_IRI['Date']=TMR_cost_IRI['Date'].apply(lambda x: datetime.datetime.strptime(x,\"%Y-%m-%d\").date())\n",
    "summary=TMR_cost_IRI.groupby(['IRI Market','18_Mkt_Ind','Media']).agg(func).reset_index()\n",
    "summary.columns=summary.columns.get_level_values(0)\n",
    "summary.columns=summary.columns.tolist()[0:4]+['Date_Max','Date_Min']\n",
    "summary['Cost_Pctg']=summary['adjusted_cost_IRI']/summary['adjusted_cost_IRI'].sum()"
   ]
  },
  {
   "cell_type": "code",
   "execution_count": 50,
   "metadata": {
    "collapsed": true
   },
   "outputs": [],
   "source": [
    "summary=summary.sort_values(['IRI Market','Cost_Pctg'],ascending=[True,False])\n",
    "summary.to_csv(os.getcwd()+\"/output/SunnyD_allocated_medial_spend_summary_JL_\"+str(datetime.datetime.now().date())+\".csv\",index=False)"
   ]
  },
  {
   "cell_type": "code",
   "execution_count": 51,
   "metadata": {
    "collapsed": true
   },
   "outputs": [],
   "source": [
    "dates_in_data=TMR_cost_IRI.groupby(['Media','raw_spend_type','coefficient']).agg(func).reset_index()\n",
    "dates_in_data.columns=dates_in_data.columns.get_level_values(0)\n",
    "dates_in_data.columns=dates_in_data.columns.tolist()[0:4]+['Date_Max','Date_Min']\n",
    "dates_in_data['Cost_Pctg']=dates_in_data['adjusted_cost_IRI']/dates_in_data['adjusted_cost_IRI'].sum()"
   ]
  },
  {
   "cell_type": "code",
   "execution_count": 52,
   "metadata": {
    "collapsed": true
   },
   "outputs": [],
   "source": [
    "# TMR_cost_IRI['Date']=TMR_cost_IRI['Date'].astype(str)\n",
    "dates_in_data.to_csv(os.getcwd()+\"/output/SunnyD_media_date_range_JL_\"+str(datetime.datetime.now().date())+\".csv\",index=False)"
   ]
  },
  {
   "cell_type": "code",
   "execution_count": 53,
   "metadata": {
    "collapsed": true
   },
   "outputs": [],
   "source": [
    "IRI_summary_writer=pd.ExcelWriter(os.getcwd()+\"/output/SunnyD_media_spend_by_IRI_JL\"+str(datetime.datetime.now().date())+\".xlsx\",engine=\"xlsxwriter\")\n",
    "summary.to_excel(IRI_summary_writer,\"IRI_Level_All_Cost_summary\",index=False)\n",
    "TMR_cost_IRI.to_excel(IRI_summary_writer,\"IRI_Level_All_Cost\",index=False)\n",
    "dates_in_data.to_excel(IRI_summary_writer,\"dates_in_data_IRI\",index=False)\n",
    "IRI_summary_writer.save()"
   ]
  },
  {
   "cell_type": "code",
   "execution_count": 54,
   "metadata": {},
   "outputs": [
    {
     "data": {
      "text/plain": [
       "array([<class 'datetime.date'>], dtype=object)"
      ]
     },
     "execution_count": 54,
     "metadata": {},
     "output_type": "execute_result"
    }
   ],
   "source": [
    "TMR_cost_IRI['Date'].apply(lambda x: type(x)).unique()"
   ]
  },
  {
   "cell_type": "code",
   "execution_count": 55,
   "metadata": {},
   "outputs": [
    {
     "data": {
      "text/plain": [
       "array(['Snapchat', 'FB_IG', 'TV_Local', 'TV_Broadcast',\n",
       "       'National_TV_Galavision', 'National_TV_UniMas', 'Cinema', 'DISH',\n",
       "       'DTV', 'Digital'], dtype=object)"
      ]
     },
     "execution_count": 55,
     "metadata": {},
     "output_type": "execute_result"
    }
   ],
   "source": [
    "TMR_cost_IRI[TMR_cost_IRI['Date'].apply(lambda x: type(x))==datetime.date]['Media'].unique()"
   ]
  },
  {
   "cell_type": "markdown",
   "metadata": {
    "collapsed": true
   },
   "source": [
    "# DMA level"
   ]
  },
  {
   "cell_type": "code",
   "execution_count": 56,
   "metadata": {},
   "outputs": [
    {
     "data": {
      "text/html": [
       "<div>\n",
       "<style>\n",
       "    .dataframe thead tr:only-child th {\n",
       "        text-align: right;\n",
       "    }\n",
       "\n",
       "    .dataframe thead th {\n",
       "        text-align: left;\n",
       "    }\n",
       "\n",
       "    .dataframe tbody tr th {\n",
       "        vertical-align: top;\n",
       "    }\n",
       "</style>\n",
       "<table border=\"1\" class=\"dataframe\">\n",
       "  <thead>\n",
       "    <tr style=\"text-align: right;\">\n",
       "      <th></th>\n",
       "      <th>DMA</th>\n",
       "      <th>Date</th>\n",
       "      <th>Media</th>\n",
       "      <th>coefficient</th>\n",
       "      <th>cost_DMA</th>\n",
       "      <th>raw_spend_type</th>\n",
       "    </tr>\n",
       "  </thead>\n",
       "  <tbody>\n",
       "    <tr>\n",
       "      <th>0</th>\n",
       "      <td>xx</td>\n",
       "      <td>2018-08-14</td>\n",
       "      <td>Snapchat</td>\n",
       "      <td>1.171529</td>\n",
       "      <td>173.02</td>\n",
       "      <td>net</td>\n",
       "    </tr>\n",
       "    <tr>\n",
       "      <th>1</th>\n",
       "      <td>xx</td>\n",
       "      <td>2018-08-15</td>\n",
       "      <td>Snapchat</td>\n",
       "      <td>1.171529</td>\n",
       "      <td>2488.68</td>\n",
       "      <td>net</td>\n",
       "    </tr>\n",
       "  </tbody>\n",
       "</table>\n",
       "</div>"
      ],
      "text/plain": [
       "  DMA        Date     Media  coefficient  cost_DMA raw_spend_type\n",
       "0  xx  2018-08-14  Snapchat     1.171529    173.02            net\n",
       "1  xx  2018-08-15  Snapchat     1.171529   2488.68            net"
      ]
     },
     "execution_count": 56,
     "metadata": {},
     "output_type": "execute_result"
    }
   ],
   "source": [
    "DMA_Level_Cost=Snapchat_cost.append(FB_Inst_cost).append(local_TV_cost).append(national_TV_cost).append(Cinema_cost).append(DISH_cost).append(DTV_cost)\n",
    "DMA_Level_Cost.head(2)\n"
   ]
  },
  {
   "cell_type": "code",
   "execution_count": 57,
   "metadata": {},
   "outputs": [
    {
     "data": {
      "text/plain": [
       "'\\nPandora_cost=pd.read_excel(data_folder+\"Pandora Estimated Digital Spend By Zip By Day_Sunny D.xlsx\",dtype=str,sheetname=\"PANDORA TOTAL ESTIMATED SPEND\")\\nPandora_cost_header=[x[:10] for x in [str(col) for col in Pandora_cost.columns.tolist()] if \"-\" in x]\\nPandora_cost.columns=[[\\'zip_cd\\']+Pandora_cost_header+[\"Total\"]]\\nPandora_cost=Pandora_cost[Pandora_cost[\\'zip_cd\\']!=\\'Total\\']\\nPandora_cost[\\'zip_cd\\']=Pandora_cost[\\'zip_cd\\'].apply(lambda x: x.zfill(5))\\nPandora_cost=pd.melt(Pandora_cost, id_vars=\\'zip_cd\\', value_vars=Pandora_cost.columns.tolist()[1:])\\nPandora_cost=Pandora_cost.rename(columns={\"variable\":\"Date\",\"value\":\"cost\"})\\nPandora_cost=Pandora_cost[Pandora_cost[\\'Date\\']!=\"Total\"]\\n\\n'"
      ]
     },
     "execution_count": 57,
     "metadata": {},
     "output_type": "execute_result"
    }
   ],
   "source": [
    "'''\n",
    "Pandora_cost=pd.read_excel(data_folder+\"Pandora Estimated Digital Spend By Zip By Day_Sunny D.xlsx\",dtype=str,sheetname=\"PANDORA TOTAL ESTIMATED SPEND\")\n",
    "Pandora_cost_header=[x[:10] for x in [str(col) for col in Pandora_cost.columns.tolist()] if \"-\" in x]\n",
    "Pandora_cost.columns=[['zip_cd']+Pandora_cost_header+[\"Total\"]]\n",
    "Pandora_cost=Pandora_cost[Pandora_cost['zip_cd']!='Total']\n",
    "Pandora_cost['zip_cd']=Pandora_cost['zip_cd'].apply(lambda x: x.zfill(5))\n",
    "Pandora_cost=pd.melt(Pandora_cost, id_vars='zip_cd', value_vars=Pandora_cost.columns.tolist()[1:])\n",
    "Pandora_cost=Pandora_cost.rename(columns={\"variable\":\"Date\",\"value\":\"cost\"})\n",
    "Pandora_cost=Pandora_cost[Pandora_cost['Date']!=\"Total\"]\n",
    "\n",
    "'''"
   ]
  },
  {
   "cell_type": "code",
   "execution_count": 58,
   "metadata": {
    "collapsed": true
   },
   "outputs": [],
   "source": [
    "Digital_cost=pd.read_excel(data_folder+\"Update_Sep_1st_Week/\"+\"Estimated Digital Spend By Zip By Day_Sunny D 9.11.xlsx\",\n",
    "                           dtype=str,sheetname=\"Total Spend by Zip by Day\")\n",
    "Digital_cost_header=[x for x in [str(col) for col in Digital_cost.columns.tolist()] if \"/\" in x]\n",
    "Digital_cost.columns=[['Zips']+Digital_cost_header+[\"Total\"]]\n",
    "Digital_cost=Digital_cost.fillna(0)\n",
    "Digital_cost=Digital_cost.rename(columns={\"Zips\":\"zip_cd\"})\n",
    "Digital_cost=Digital_cost[Digital_cost['zip_cd']!='Grand Total']\n",
    "Digital_cost=Digital_cost[Digital_cost['zip_cd']!='Total']\n",
    "Digital_cost['zip_cd']=Digital_cost['zip_cd'].apply(lambda x: x.zfill(5))\n",
    "Digital_cost=pd.melt(Digital_cost, id_vars='zip_cd', value_vars=Digital_cost.columns.tolist()[1:])\n",
    "Digital_cost=Digital_cost.rename(columns={\"variable\":\"Date\",\"value\":\"cost\"})\n",
    "Digital_cost=Digital_cost[Digital_cost['zip_cd']!=\"Total\"]\n",
    "Digital_cost=Digital_cost[Digital_cost['Date']!=\"Total\"]"
   ]
  },
  {
   "cell_type": "code",
   "execution_count": null,
   "metadata": {
    "collapsed": true
   },
   "outputs": [],
   "source": []
  },
  {
   "cell_type": "code",
   "execution_count": 59,
   "metadata": {
    "collapsed": true
   },
   "outputs": [],
   "source": [
    "zip_DMA_allocated=pd.read_excel(\"/home/jian/Docs/Geo_mapping/Zips by DMA by County16-17 nielsen.xlsx\",\n",
    "                                dtype=str,skiprows=1,usecols=['CODE','NAME'])\n",
    "zip_DMA_allocated.columns=[['zip_cd','DMA']]\n",
    "zip_DMA_allocated['DMA']=zip_DMA_allocated['DMA'].apply(lambda x: DMA_name_mapping[x])"
   ]
  },
  {
   "cell_type": "code",
   "execution_count": 60,
   "metadata": {
    "collapsed": true
   },
   "outputs": [],
   "source": [
    "zip_DMA_allocated_share=zip_DMA_allocated.groupby(['zip_cd'])['DMA'].count().to_frame().reset_index()\n",
    "zip_DMA_allocated_share=zip_DMA_allocated_share.rename(columns={\"DMA\":\"share\"})\n",
    "zip_DMA_allocated_share['share']=zip_DMA_allocated_share['share'].apply(lambda x: 1/x)\n",
    "zip_DMA_allocated=pd.merge(zip_DMA_allocated,zip_DMA_allocated_share,on=\"zip_cd\",how=\"left\")"
   ]
  },
  {
   "cell_type": "code",
   "execution_count": 61,
   "metadata": {
    "collapsed": true
   },
   "outputs": [],
   "source": [
    "# Pandora_cost_DMA=pd.merge(Pandora_cost,zip_DMA_allocated,on='zip_cd',how=\"outer\")\n",
    "Digital_cost_DMA=pd.merge(Digital_cost,zip_DMA_allocated,on='zip_cd',how=\"outer\")\n",
    "\n",
    "Digital_cost_DMA['DMA']=Digital_cost_DMA['DMA'].fillna(\"xx\")\n",
    "Digital_cost_DMA['share']=Digital_cost_DMA['share'].fillna(1)\n",
    "\n",
    "# Pandora_cost_DMA['cost']=Pandora_cost_DMA['cost'].astype(float)\n",
    "Digital_cost_DMA['cost']=Digital_cost_DMA['cost'].astype(float)\n",
    "\n",
    "# Pandora_cost_DMA['cost_DMA']=Pandora_cost_DMA['cost']*Pandora_cost_DMA['share']\n",
    "Digital_cost_DMA['cost_DMA']=Digital_cost_DMA['cost']*Digital_cost_DMA['share']\n",
    "\n",
    "# Pandora_cost_DMA=Pandora_cost_DMA[~pd.isnull(Pandora_cost_DMA['cost'])]\n",
    "Digital_cost_DMA=Digital_cost_DMA[~pd.isnull(Digital_cost_DMA['cost'])]"
   ]
  },
  {
   "cell_type": "code",
   "execution_count": 62,
   "metadata": {
    "collapsed": true
   },
   "outputs": [],
   "source": [
    "\n",
    "# Pandora_cost_DMA['Date']=Pandora_cost_DMA['Date'].apply(lambda x: datetime.datetime.strptime(x,\"%Y-%m-%d\").date())\n",
    "Digital_cost_DMA['Date']=Digital_cost_DMA['Date'].apply(lambda x: datetime.date(int(x.split(\"/\")[2]),int(x.split(\"/\")[0]),int(x.split(\"/\")[1])))\n",
    "Digital_cost_DMA['Date']=Digital_cost_DMA['Date'].astype(str)\n",
    "# Pandora_cost_DMA=Pandora_cost_DMA.groupby(['DMA','Date'])['cost_DMA'].sum().to_frame().reset_index()\n",
    "Digital_cost_DMA=Digital_cost_DMA.groupby(['DMA','Date'])['cost_DMA'].sum().to_frame().reset_index()\n"
   ]
  },
  {
   "cell_type": "code",
   "execution_count": 63,
   "metadata": {
    "collapsed": true
   },
   "outputs": [],
   "source": [
    "'''\n",
    "Pandora_cost_DMA['Media']=\"Pandora\"\n",
    "Pandora_cost_DMA['coefficient']=0.9958\n",
    "Pandora_cost_DMA['raw_spend_type']='gross'\n",
    "Pandora_cost_DMA=Pandora_cost_DMA[DMA_Level_Cost.columns.tolist()]\n",
    "'''\n",
    "Digital_cost_DMA['Media']=\"Digital\"\n",
    "Digital_cost_DMA['coefficient']=1\n",
    "Digital_cost_DMA['raw_spend_type']='adjusted'\n",
    "Digital_cost_DMA=Digital_cost_DMA[DMA_Level_Cost.columns.tolist()]"
   ]
  },
  {
   "cell_type": "code",
   "execution_count": 64,
   "metadata": {
    "collapsed": true
   },
   "outputs": [],
   "source": [
    "DMA_Level_All_Cost=DMA_Level_Cost.append(Digital_cost_DMA)\n",
    "DMA_Level_All_Cost['std_DMA']=DMA_Level_All_Cost['DMA'].apply(lambda x: DMA_name_mapping[x])\n",
    "DMA_Level_All_Cost['adjusted_DMA_cost']=DMA_Level_All_Cost['cost_DMA']*DMA_Level_All_Cost['coefficient']"
   ]
  },
  {
   "cell_type": "code",
   "execution_count": 65,
   "metadata": {
    "collapsed": true
   },
   "outputs": [],
   "source": [
    "DMA_Level_All_Cost_summary=DMA_Level_All_Cost.groupby(['std_DMA'])['adjusted_DMA_cost'].sum().to_frame().reset_index()\n",
    "DMA_Level_All_Cost_summary=DMA_Level_All_Cost_summary.sort_values(['adjusted_DMA_cost'],ascending=False)"
   ]
  },
  {
   "cell_type": "code",
   "execution_count": 66,
   "metadata": {
    "collapsed": true
   },
   "outputs": [],
   "source": [
    "DMA_summary_writer=pd.ExcelWriter(os.getcwd()+\"/output/SunnyD_media_spend_by_DMA_JL\"+str(datetime.datetime.now().date())+\".xlsx\",engine=\"xlsxwriter\")\n",
    "DMA_Level_All_Cost_summary.to_excel(DMA_summary_writer,\"DMA_Level_All_Cost_summary\",index=False)\n",
    "DMA_Level_All_Cost.to_excel(DMA_summary_writer,\"DMA_Level_All_Cost\",index=False)\n"
   ]
  },
  {
   "cell_type": "code",
   "execution_count": 68,
   "metadata": {
    "collapsed": true
   },
   "outputs": [],
   "source": [
    "func_DMA={'adjusted_DMA_cost': ['sum'],'Date': ['max', 'min']}\n",
    "DMA_Level_All_Cost['Date']=DMA_Level_All_Cost['Date'].apply(lambda x: datetime.datetime.strptime(x,\"%Y-%m-%d\").date())\n",
    "\n",
    "dates_in_data_DMA=DMA_Level_All_Cost.groupby(['Media','raw_spend_type','coefficient']).agg(func_DMA).reset_index()\n",
    "dates_in_data_DMA.columns=dates_in_data_DMA.columns.get_level_values(0)\n",
    "dates_in_data_DMA.columns=dates_in_data_DMA.columns.tolist()[0:4]+['Date_Max','Date_Min']\n",
    "dates_in_data_DMA['Cost_Pctg']=dates_in_data_DMA['adjusted_DMA_cost']/dates_in_data_DMA['adjusted_DMA_cost'].sum()\n",
    "dates_in_data_DMA.to_excel(DMA_summary_writer,\"dates_in_data_DMA\",index=False)\n",
    "DMA_summary_writer.save()"
   ]
  },
  {
   "cell_type": "code",
   "execution_count": null,
   "metadata": {
    "collapsed": true
   },
   "outputs": [],
   "source": []
  },
  {
   "cell_type": "code",
   "execution_count": null,
   "metadata": {
    "collapsed": true
   },
   "outputs": [],
   "source": []
  },
  {
   "cell_type": "code",
   "execution_count": null,
   "metadata": {
    "collapsed": true
   },
   "outputs": [],
   "source": []
  }
 ],
 "metadata": {
  "kernelspec": {
   "display_name": "Python 3",
   "language": "python",
   "name": "python3"
  },
  "language_info": {
   "codemirror_mode": {
    "name": "ipython",
    "version": 3
   },
   "file_extension": ".py",
   "mimetype": "text/x-python",
   "name": "python",
   "nbconvert_exporter": "python",
   "pygments_lexer": "ipython3",
   "version": "3.6.1"
  }
 },
 "nbformat": 4,
 "nbformat_minor": 2
}
