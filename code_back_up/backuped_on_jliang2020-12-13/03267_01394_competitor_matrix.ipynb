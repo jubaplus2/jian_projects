{
 "cells": [
  {
   "cell_type": "code",
   "execution_count": 1,
   "metadata": {},
   "outputs": [
    {
     "name": "stdout",
     "output_type": "stream",
     "text": [
      "2020-04-06 13:17:19.466973\n",
      "/home/jian/Projects/Big_Lots/Analysis/2020_Q1/Competitor_conquest\n"
     ]
    }
   ],
   "source": [
    "import pandas as pd\n",
    "import numpy as np\n",
    "import datetime\n",
    "import numpy as np\n",
    "from haversine import haversine\n",
    "import json\n",
    "import os\n",
    "print(datetime.datetime.now())\n",
    "print(os.getcwd())\n",
    "zip_centers=json.load(open(\"/home/jian/Docs/Geo_mapping/updated_zip_centers_JL_2019-05-23.json\",\"r\"))"
   ]
  },
  {
   "cell_type": "code",
   "execution_count": 2,
   "metadata": {},
   "outputs": [],
   "source": [
    "df_all_competitors=pd.read_csv(\"./BL_competitor_list_with_geo_location_JL_2020-04-03.csv\",dtype=str)\n",
    "df_all_competitors['Google_lat']=df_all_competitors['Google_lat'].astype(float)\n",
    "df_all_competitors['Google_lng']=df_all_competitors['Google_lng'].astype(float)\n",
    "\n",
    "df_all_competitors['zip_code']=df_all_competitors['zip_code'].apply(lambda x: str(x).zfill(5))\n",
    "df_all_competitors['Google_zip']=df_all_competitors['Google_zip'].apply(lambda x: str(x).zfill(5))"
   ]
  },
  {
   "cell_type": "code",
   "execution_count": 3,
   "metadata": {},
   "outputs": [
    {
     "data": {
      "text/html": [
       "<div>\n",
       "<style scoped>\n",
       "    .dataframe tbody tr th:only-of-type {\n",
       "        vertical-align: middle;\n",
       "    }\n",
       "\n",
       "    .dataframe tbody tr th {\n",
       "        vertical-align: top;\n",
       "    }\n",
       "\n",
       "    .dataframe thead th {\n",
       "        text-align: right;\n",
       "    }\n",
       "</style>\n",
       "<table border=\"1\" class=\"dataframe\">\n",
       "  <thead>\n",
       "    <tr style=\"text-align: right;\">\n",
       "      <th></th>\n",
       "      <th>store_name</th>\n",
       "      <th>address</th>\n",
       "      <th>city</th>\n",
       "      <th>state</th>\n",
       "      <th>zip_code</th>\n",
       "      <th>status</th>\n",
       "      <th>search_key</th>\n",
       "      <th>Google_Address</th>\n",
       "      <th>Google_lat</th>\n",
       "      <th>Google_lng</th>\n",
       "      <th>Google_zip</th>\n",
       "    </tr>\n",
       "  </thead>\n",
       "  <tbody>\n",
       "    <tr>\n",
       "      <th>0</th>\n",
       "      <td>Bed Bath &amp; Beyond</td>\n",
       "      <td>700 meyerland plaza</td>\n",
       "      <td>houston</td>\n",
       "      <td>tx</td>\n",
       "      <td>77096</td>\n",
       "      <td>Closed</td>\n",
       "      <td>700 meyerland plaza, houston, tx, 77096</td>\n",
       "      <td>700 Meyerland Plaza, Houston, TX 77096, USA</td>\n",
       "      <td>29.687731</td>\n",
       "      <td>-95.461461</td>\n",
       "      <td>77096</td>\n",
       "    </tr>\n",
       "    <tr>\n",
       "      <th>1</th>\n",
       "      <td>Bed Bath &amp; Beyond</td>\n",
       "      <td>2306 highway 6 south</td>\n",
       "      <td>houston</td>\n",
       "      <td>tx</td>\n",
       "      <td>77077</td>\n",
       "      <td>Closed</td>\n",
       "      <td>2306 highway 6 south, houston, tx, 77077</td>\n",
       "      <td>2306 S Texas 6, Houston, TX 77077, USA</td>\n",
       "      <td>29.738768</td>\n",
       "      <td>-95.644768</td>\n",
       "      <td>77077</td>\n",
       "    </tr>\n",
       "  </tbody>\n",
       "</table>\n",
       "</div>"
      ],
      "text/plain": [
       "          store_name               address     city state zip_code  status  \\\n",
       "0  Bed Bath & Beyond   700 meyerland plaza  houston    tx    77096  Closed   \n",
       "1  Bed Bath & Beyond  2306 highway 6 south  houston    tx    77077  Closed   \n",
       "\n",
       "                                 search_key  \\\n",
       "0   700 meyerland plaza, houston, tx, 77096   \n",
       "1  2306 highway 6 south, houston, tx, 77077   \n",
       "\n",
       "                                Google_Address  Google_lat  Google_lng  \\\n",
       "0  700 Meyerland Plaza, Houston, TX 77096, USA   29.687731  -95.461461   \n",
       "1       2306 S Texas 6, Houston, TX 77077, USA   29.738768  -95.644768   \n",
       "\n",
       "  Google_zip  \n",
       "0      77096  \n",
       "1      77077  "
      ]
     },
     "execution_count": 3,
     "metadata": {},
     "output_type": "execute_result"
    }
   ],
   "source": [
    "df_all_competitors.head(2)"
   ]
  },
  {
   "cell_type": "code",
   "execution_count": 4,
   "metadata": {},
   "outputs": [],
   "source": [
    "df_store_list=pd.read_table(\"/home/jian/BigLots/static_files/Store_list/MediaStormStores20200401-135137-445.txt\",\n",
    "                            dtype=str,sep=\"|\")\n",
    "df_store_list=df_store_list[['location_id','latitude_meas','longitude_meas']]\n",
    "df_store_list=df_store_list[~df_store_list['location_id'].isin(['145','6990'])]\n",
    "df_store_list['latitude_meas']=df_store_list['latitude_meas'].astype(float)\n",
    "df_store_list['longitude_meas']=df_store_list['longitude_meas'].astype(float)"
   ]
  },
  {
   "cell_type": "code",
   "execution_count": 6,
   "metadata": {},
   "outputs": [
    {
     "name": "stdout",
     "output_type": "stream",
     "text": [
      "(34, 5)\n",
      "34\n"
     ]
    }
   ],
   "source": [
    "TA_zips=pd.ExcelFile(\"/home/jian/Projects/Big_Lots/New_TA/TA_created_in_201906/final_output_20190718/BL_final_TA_updated_JL_2019-07-18.xlsx\")\n",
    "TA_zips=TA_zips.parse(\"view_by_store\",dtype=str)\n",
    "#\n",
    "df_temporary=TA_zips[['location_id','trans_P_zips_70_within_TA','trans_S_zips_70_within_TA','zips_in_10']]\n",
    "df_zip_by_store=pd.DataFrame()\n",
    "\n",
    "for ind,row in df_temporary.iterrows():\n",
    "    location_id=row['location_id']\n",
    "    P_zips=eval(row['trans_P_zips_70_within_TA'])\n",
    "    S_zips=eval(row['trans_S_zips_70_within_TA'])\n",
    "    zip_10=eval(row['zips_in_10'])\n",
    "    \n",
    "\n",
    "    df_P=pd.DataFrame(zip([location_id]*len(P_zips),P_zips))\n",
    "    if len(df_P)>0:\n",
    "        df_P.columns=['location_id','zip_cd']\n",
    "        df_P['zip_type']=\"P\"\n",
    "        \n",
    "    df_S=pd.DataFrame(zip([location_id]*len(S_zips),S_zips))\n",
    "    if len(df_S)>0:\n",
    "        df_S.columns=['location_id','zip_cd']\n",
    "        df_S['zip_type']=\"S\"\n",
    "    \n",
    "    df_10=pd.DataFrame(zip([location_id]*len(zip_10),zip_10))\n",
    "    if len(df_10)>0:\n",
    "        df_10.columns=['location_id','zip_cd']\n",
    "        df_10['zip_type']=\"zip_10\"\n",
    "    \n",
    "    df_zip_by_store=df_zip_by_store.append(df_P).append(df_S).append(df_10)\n",
    "    \n",
    "#   \n",
    "df_output=pd.merge(df_store_list,df_zip_by_store,on=\"location_id\",how=\"left\")\n",
    "df_output_2=df_output[pd.isnull(df_output['zip_cd'])]\n",
    "df_output_1=df_output[pd.notnull(df_output['zip_cd'])]\n",
    "print(df_output_2.shape)\n",
    "\n",
    "del df_output_2['zip_cd']\n",
    "del df_output_2['zip_type']\n",
    "#\n",
    "\n",
    "df_10_zips_all_new_stores=pd.DataFrame()\n",
    "for ind, row in df_output_2.iterrows():\n",
    "    location_id=row['location_id']\n",
    "    store_location=(row['latitude_meas'],row['longitude_meas'])\n",
    "    for zip_cd,v in zip_centers.items():\n",
    "        dist=haversine(store_location,v,unit=\"mi\")\n",
    "        if dist<=10:\n",
    "            # print(location_id,zip_cd)\n",
    "            df=pd.DataFrame({\"location_id\":[location_id],\"zip_cd\":[zip_cd],\"dist\":[dist]})\n",
    "            df_10_zips_all_new_stores=df_10_zips_all_new_stores.append(df)\n",
    "df_10_zips_all_new_stores['zip_type']=\"zip_10\"\n",
    "print(df_10_zips_all_new_stores['location_id'].nunique())\n",
    "#\n",
    "df_new_store_zips=df_10_zips_all_new_stores[['location_id','zip_cd','zip_type']]\n",
    "df_output_2=pd.merge(df_output_2,df_new_store_zips,how=\"left\")\n",
    "df_output=df_output_1.append(df_output_2)"
   ]
  },
  {
   "cell_type": "code",
   "execution_count": 7,
   "metadata": {},
   "outputs": [],
   "source": [
    "df_output['zip_type']=df_output['zip_type'].replace(\"zip_10\",\"P\")\n",
    "df_output_P=df_output[df_output['zip_type']==\"P\"]\n",
    "df_output_P=df_output_P[['location_id','zip_cd','zip_type']].drop_duplicates()"
   ]
  },
  {
   "cell_type": "code",
   "execution_count": 8,
   "metadata": {},
   "outputs": [],
   "source": [
    "df_BL_store_info=pd.read_table(\"/home/jian/BigLots/static_files/Store_list/MediaStormStores20200401-135137-445.txt\",\n",
    "                               dtype=str,sep=\"|\")\n",
    "df_SOTF_list=pd.ExcelFile(\"./Store List Report 03.06.20 409pm.xlsx\")\n",
    "df_SOTF_list=df_SOTF_list.parse(\"Store List\",dtype=str)\n",
    "df_SOTF_list=df_SOTF_list[['Store','SOTF']]\n",
    "df_SOTF_list=df_SOTF_list[pd.notnull(df_SOTF_list['Store'])]\n",
    "df_SOTF_list=df_SOTF_list.rename(columns={\"Store\":\"location_id\"})\n",
    "df_SOTF_list=df_SOTF_list.drop_duplicates(\"location_id\")"
   ]
  },
  {
   "cell_type": "code",
   "execution_count": 9,
   "metadata": {},
   "outputs": [
    {
     "data": {
      "text/plain": [
       "(1485, 2)"
      ]
     },
     "execution_count": 9,
     "metadata": {},
     "output_type": "execute_result"
    }
   ],
   "source": [
    "df_SOTF_list.shape"
   ]
  },
  {
   "cell_type": "code",
   "execution_count": 10,
   "metadata": {},
   "outputs": [
    {
     "data": {
      "text/html": [
       "<div>\n",
       "<style scoped>\n",
       "    .dataframe tbody tr th:only-of-type {\n",
       "        vertical-align: middle;\n",
       "    }\n",
       "\n",
       "    .dataframe tbody tr th {\n",
       "        vertical-align: top;\n",
       "    }\n",
       "\n",
       "    .dataframe thead th {\n",
       "        text-align: right;\n",
       "    }\n",
       "</style>\n",
       "<table border=\"1\" class=\"dataframe\">\n",
       "  <thead>\n",
       "    <tr style=\"text-align: right;\">\n",
       "      <th></th>\n",
       "      <th>store_name</th>\n",
       "      <th>search_key</th>\n",
       "    </tr>\n",
       "  </thead>\n",
       "  <tbody>\n",
       "    <tr>\n",
       "      <th>0</th>\n",
       "      <td>Art Van Furniture</td>\n",
       "      <td>142</td>\n",
       "    </tr>\n",
       "    <tr>\n",
       "      <th>1</th>\n",
       "      <td>At Home</td>\n",
       "      <td>218</td>\n",
       "    </tr>\n",
       "    <tr>\n",
       "      <th>2</th>\n",
       "      <td>Bed Bath &amp; Beyond</td>\n",
       "      <td>989</td>\n",
       "    </tr>\n",
       "    <tr>\n",
       "      <th>3</th>\n",
       "      <td>Macy's</td>\n",
       "      <td>617</td>\n",
       "    </tr>\n",
       "    <tr>\n",
       "      <th>4</th>\n",
       "      <td>Pier 1</td>\n",
       "      <td>1166</td>\n",
       "    </tr>\n",
       "  </tbody>\n",
       "</table>\n",
       "</div>"
      ],
      "text/plain": [
       "          store_name  search_key\n",
       "0  Art Van Furniture         142\n",
       "1            At Home         218\n",
       "2  Bed Bath & Beyond         989\n",
       "3             Macy's         617\n",
       "4             Pier 1        1166"
      ]
     },
     "execution_count": 10,
     "metadata": {},
     "output_type": "execute_result"
    }
   ],
   "source": [
    "df_all_competitors.groupby(\"store_name\")['search_key'].nunique().to_frame().reset_index()"
   ]
  },
  {
   "cell_type": "code",
   "execution_count": 11,
   "metadata": {},
   "outputs": [
    {
     "data": {
      "text/html": [
       "<div>\n",
       "<style scoped>\n",
       "    .dataframe tbody tr th:only-of-type {\n",
       "        vertical-align: middle;\n",
       "    }\n",
       "\n",
       "    .dataframe tbody tr th {\n",
       "        vertical-align: top;\n",
       "    }\n",
       "\n",
       "    .dataframe thead th {\n",
       "        text-align: right;\n",
       "    }\n",
       "</style>\n",
       "<table border=\"1\" class=\"dataframe\">\n",
       "  <thead>\n",
       "    <tr style=\"text-align: right;\">\n",
       "      <th></th>\n",
       "      <th>store_name</th>\n",
       "      <th>address</th>\n",
       "      <th>city</th>\n",
       "      <th>state</th>\n",
       "      <th>zip_code</th>\n",
       "      <th>status</th>\n",
       "      <th>search_key</th>\n",
       "      <th>Google_Address</th>\n",
       "      <th>Google_lat</th>\n",
       "      <th>Google_lng</th>\n",
       "      <th>Google_zip</th>\n",
       "    </tr>\n",
       "  </thead>\n",
       "  <tbody>\n",
       "    <tr>\n",
       "      <th>0</th>\n",
       "      <td>Bed Bath &amp; Beyond</td>\n",
       "      <td>700 meyerland plaza</td>\n",
       "      <td>houston</td>\n",
       "      <td>tx</td>\n",
       "      <td>77096</td>\n",
       "      <td>Closed</td>\n",
       "      <td>700 meyerland plaza, houston, tx, 77096</td>\n",
       "      <td>700 Meyerland Plaza, Houston, TX 77096, USA</td>\n",
       "      <td>29.687731</td>\n",
       "      <td>-95.461461</td>\n",
       "      <td>77096</td>\n",
       "    </tr>\n",
       "    <tr>\n",
       "      <th>1</th>\n",
       "      <td>Bed Bath &amp; Beyond</td>\n",
       "      <td>2306 highway 6 south</td>\n",
       "      <td>houston</td>\n",
       "      <td>tx</td>\n",
       "      <td>77077</td>\n",
       "      <td>Closed</td>\n",
       "      <td>2306 highway 6 south, houston, tx, 77077</td>\n",
       "      <td>2306 S Texas 6, Houston, TX 77077, USA</td>\n",
       "      <td>29.738768</td>\n",
       "      <td>-95.644768</td>\n",
       "      <td>77077</td>\n",
       "    </tr>\n",
       "  </tbody>\n",
       "</table>\n",
       "</div>"
      ],
      "text/plain": [
       "          store_name               address     city state zip_code  status  \\\n",
       "0  Bed Bath & Beyond   700 meyerland plaza  houston    tx    77096  Closed   \n",
       "1  Bed Bath & Beyond  2306 highway 6 south  houston    tx    77077  Closed   \n",
       "\n",
       "                                 search_key  \\\n",
       "0   700 meyerland plaza, houston, tx, 77096   \n",
       "1  2306 highway 6 south, houston, tx, 77077   \n",
       "\n",
       "                                Google_Address  Google_lat  Google_lng  \\\n",
       "0  700 Meyerland Plaza, Houston, TX 77096, USA   29.687731  -95.461461   \n",
       "1       2306 S Texas 6, Houston, TX 77077, USA   29.738768  -95.644768   \n",
       "\n",
       "  Google_zip  \n",
       "0      77096  \n",
       "1      77077  "
      ]
     },
     "execution_count": 11,
     "metadata": {},
     "output_type": "execute_result"
    }
   ],
   "source": [
    "df_all_competitors.head(2)"
   ]
  },
  {
   "cell_type": "code",
   "execution_count": 12,
   "metadata": {},
   "outputs": [
    {
     "name": "stdout",
     "output_type": "stream",
     "text": [
      "df_competitor_zips_20.shape (319385, 3)\n"
     ]
    }
   ],
   "source": [
    "df_competitor_zips_20=pd.DataFrame()\n",
    "for ind,row in df_all_competitors.iterrows():\n",
    "    store_center=(row['Google_lat'],row['Google_lng'])\n",
    "    store_add=row['search_key']\n",
    "    store_name=row['store_name']\n",
    "    store_zip_list_20=[]\n",
    "    for zip_cd,v in zip_centers.items():\n",
    "        dist=haversine(store_center,v,unit=\"mi\")\n",
    "        if dist<=20:\n",
    "            store_zip_list_20.append(zip_cd)\n",
    "    df=pd.DataFrame({\"search_key\":[store_add]*len(store_zip_list_20),\n",
    "                     \"store_name\":[store_name]*len(store_zip_list_20),\n",
    "                     \"zip_cd\":store_zip_list_20})\n",
    "    df_competitor_zips_20=df_competitor_zips_20.append(df)\n",
    "df_competitor_zips_20=df_competitor_zips_20.drop_duplicates()\n",
    "print(\"df_competitor_zips_20.shape\",df_competitor_zips_20.shape)\n",
    "\n"
   ]
  },
  {
   "cell_type": "code",
   "execution_count": 13,
   "metadata": {},
   "outputs": [
    {
     "name": "stdout",
     "output_type": "stream",
     "text": [
      "df_1_comp_stores_paired_P.shape df_1_comp_stores_paired_P['search_key'].nunique()\n",
      "(2166, 13) 1833\n",
      "df_paired_20.shape df_paired_20['search_key'].nunique()\n",
      "(16876, 3) 2943\n"
     ]
    }
   ],
   "source": [
    "df_1_comp_stores_paired_P=pd.merge(df_all_competitors,df_output_P,left_on=\"zip_code\",right_on=\"zip_cd\",how=\"left\")\n",
    "df_1_comp_stores_paired_P=df_1_comp_stores_paired_P[df_1_comp_stores_paired_P['zip_type']==\"P\"]\n",
    "del df_1_comp_stores_paired_P['zip_cd']\n",
    "df_1_comp_stores_paired_P=df_1_comp_stores_paired_P.rename(columns={\"zip_type\":\"paired_condition\"})\n",
    "print(\"df_1_comp_stores_paired_P.shape\",\"df_1_comp_stores_paired_P['search_key'].nunique()\")\n",
    "print(df_1_comp_stores_paired_P.shape,df_1_comp_stores_paired_P['search_key'].nunique())\n",
    "\n",
    "df_paired_20=pd.DataFrame()\n",
    "for ind,row in df_all_competitors.iterrows():\n",
    "    store_center=(row['Google_lat'],row['Google_lng'])\n",
    "    search_key=row['search_key']\n",
    "    store_name=row['store_name']\n",
    "    \n",
    "    BL_store_list_20=[]\n",
    "    for ind_BL,row_BL in df_store_list.iterrows():\n",
    "        BL_store_location=row_BL['location_id']\n",
    "        BL_store_center=(row_BL['latitude_meas'],row_BL['longitude_meas'])\n",
    "        dist=haversine(store_center,BL_store_center,unit=\"mi\")\n",
    "        if dist<=20:\n",
    "            BL_store_list_20.append(BL_store_location)\n",
    "    df=pd.DataFrame({\"search_key\":[search_key]*len(BL_store_list_20),\n",
    "                     \"store_name\":[store_name]*len(BL_store_list_20),\n",
    "                     \"location_id\":BL_store_list_20})\n",
    "    df_paired_20=df_paired_20.append(df)\n",
    "print(\"df_paired_20.shape\",\"df_paired_20['search_key'].nunique()\")\n",
    "print(df_paired_20.shape,df_paired_20['search_key'].nunique())\n",
    "\n",
    "df_2_comp_stores_paired_20=pd.merge(df_all_competitors,df_paired_20,on=['store_name',\"search_key\"],how=\"left\")\n",
    "df_2_comp_stores_paired_20['paired_condition']=\"dist_20\"\n"
   ]
  },
  {
   "cell_type": "code",
   "execution_count": 14,
   "metadata": {},
   "outputs": [
    {
     "name": "stdout",
     "output_type": "stream",
     "text": [
      "df_output_detail.shape df_output_detail['search_key'].nunique()\n",
      "(2580213, 18) 3123\n"
     ]
    }
   ],
   "source": [
    "df_comp_stores_paired=df_1_comp_stores_paired_P.append(df_2_comp_stores_paired_20)\n",
    "    \n",
    "df_store_list_rename=df_store_list.rename(columns={\"latitude_meas\":\"BL_latitude_meas\",\"longitude_meas\":\"BL_longitude_meas\"})\n",
    "df_comp_stores_paired=pd.merge(df_comp_stores_paired,df_store_list_rename,on=\"location_id\",how=\"left\")\n",
    "\n",
    "df_comp_stores_paired['store_dist']=df_comp_stores_paired.apply(lambda x: haversine([x['Google_lat'],x['Google_lng']],[x['BL_latitude_meas'],x['BL_longitude_meas']],unit='mi'),axis=1)\n",
    "\n",
    "df_competitor_zips_20=df_competitor_zips_20.rename(columns={\"zip_cd\":\"comp_target_zip\"})\n",
    "df_output_detail=pd.merge(df_comp_stores_paired,df_competitor_zips_20,on=['store_name',\"search_key\"],how=\"left\")\n",
    "\n",
    "df_output_detail=df_output_detail.reset_index()\n",
    "del df_output_detail['index']\n",
    "df_output_detail['dist_comp_zip_to_BL_store']=df_output_detail.apply(lambda x: haversine((x['BL_latitude_meas'],x['BL_longitude_meas']),zip_centers[x['comp_target_zip']],unit=\"mi\"),axis=1)\n",
    "print(\"df_output_detail.shape\",\"df_output_detail['search_key'].nunique()\")\n",
    "print(df_output_detail.shape,df_output_detail['search_key'].nunique())\n",
    "df_output=df_output_detail[df_output_detail['dist_comp_zip_to_BL_store']<=30]\n",
    "\n",
    "df_zips_with_stores=df_output[['store_name','search_key','Google_Address','location_id','comp_target_zip']].drop_duplicates()\n",
    "df_unique_zips=df_output[['comp_target_zip']].drop_duplicates()\n",
    "\n"
   ]
  },
  {
   "cell_type": "code",
   "execution_count": 21,
   "metadata": {},
   "outputs": [],
   "source": [
    "df_BL_associated=df_output[['location_id','store_name','status']].drop_duplicates()\n",
    "df_BL_associated=pd.merge(df_BL_associated,df_BL_store_info,on=\"location_id\",how=\"left\")\n",
    "df_BL_associated=pd.merge(df_BL_associated,df_SOTF_list,on=\"location_id\",how=\"left\")"
   ]
  },
  {
   "cell_type": "code",
   "execution_count": 43,
   "metadata": {},
   "outputs": [
    {
     "name": "stdout",
     "output_type": "stream",
     "text": [
      "(1404, 4) 1404\n",
      "['No' 'Yes']\n"
     ]
    },
    {
     "data": {
      "text/plain": [
       "(1404, 2)"
      ]
     },
     "execution_count": 43,
     "metadata": {},
     "output_type": "execute_result"
    }
   ],
   "source": [
    "df_open_SOTF=pd.merge(df_store_list,df_SOTF_list,on=\"location_id\",how=\"left\")\n",
    "print(df_open_SOTF.shape,df_open_SOTF['location_id'].nunique())\n",
    "df_open_SOTF=df_open_SOTF[['location_id','SOTF']].drop_duplicates()\n",
    "# sotf 2020 labeled as no, for now\n",
    "df_open_SOTF['SOTF']=df_open_SOTF['SOTF'].replace(\"Yes 2020\",\"Yes\")\n",
    "print(df_open_SOTF['SOTF'].unique())\n",
    "df_open_SOTF.shape"
   ]
  },
  {
   "cell_type": "code",
   "execution_count": 51,
   "metadata": {},
   "outputs": [],
   "source": [
    "dict_order_index={\"open\":1,\"Closed\":2,\"impendingclose\":3,\"balance\":4}"
   ]
  },
  {
   "cell_type": "code",
   "execution_count": 70,
   "metadata": {},
   "outputs": [],
   "source": [
    "writer=pd.ExcelWriter(\"./BL_competitor_store_matrix_JL_\"+str(datetime.datetime.now().date())+\".xlsx\",engine=\"xlsxwriter\")\n",
    "for brand, df_group in df_output.groupby(\"store_name\"):\n",
    "    df_brand_store=df_group[['status','location_id']].drop_duplicates()\n",
    "    df_brand_store=pd.merge(df_brand_store,df_open_SOTF,on=\"location_id\",how=\"outer\")\n",
    "    df_brand_store['status']=df_brand_store['status'].fillna(\"balance\")\n",
    "    df_brand_store=df_brand_store.replace(\"Yes\",\"SOTF\").replace(\"No\",\"Legacy\")\n",
    "    df_brand_store_list=df_brand_store[['status','location_id','SOTF']].drop_duplicates()\n",
    "    df_brand_store_list.insert(0,'store_name',brand)\n",
    "    \n",
    "    df_brand_store=df_brand_store.groupby([\"status\",\"SOTF\"])['location_id'].nunique().to_frame().reset_index()    \n",
    "    df_brand_store=df_brand_store.pivot_table(index=\"status\",columns=\"SOTF\",values=\"location_id\").reset_index()\n",
    "    df_brand_store['index']=df_brand_store['status'].apply(lambda x: dict_order_index[x])\n",
    "    df_brand_store=df_brand_store.sort_values(\"index\")\n",
    "    df_brand_store.insert(0,'store_name',brand)\n",
    "    del df_brand_store['index']\n",
    "    \n",
    "    df_brand_store.to_excel(writer,brand+\"_BL_matrix\",index=False)\n",
    "    df_brand_store_list.to_excel(writer,brand+\"_BL_list\",index=False)\n",
    "    \n",
    "writer.save()"
   ]
  },
  {
   "cell_type": "code",
   "execution_count": 69,
   "metadata": {},
   "outputs": [
    {
     "data": {
      "text/plain": [
       "'/home/jian/Projects/Big_Lots/Analysis/2020_Q1/Competitor_conquest'"
      ]
     },
     "execution_count": 69,
     "metadata": {},
     "output_type": "execute_result"
    }
   ],
   "source": [
    "import os\n",
    "os.getcwd()"
   ]
  },
  {
   "cell_type": "code",
   "execution_count": null,
   "metadata": {},
   "outputs": [],
   "source": []
  }
 ],
 "metadata": {
  "kernelspec": {
   "display_name": "Python 3",
   "language": "python",
   "name": "python3"
  },
  "language_info": {
   "codemirror_mode": {
    "name": "ipython",
    "version": 3
   },
   "file_extension": ".py",
   "mimetype": "text/x-python",
   "name": "python",
   "nbconvert_exporter": "python",
   "pygments_lexer": "ipython3",
   "version": "3.6.1"
  }
 },
 "nbformat": 4,
 "nbformat_minor": 2
}
