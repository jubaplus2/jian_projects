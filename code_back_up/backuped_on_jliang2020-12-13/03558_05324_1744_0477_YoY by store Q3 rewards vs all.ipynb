{
 "cells": [
  {
   "cell_type": "code",
   "execution_count": 20,
   "metadata": {},
   "outputs": [
    {
     "data": {
      "text/plain": [
       "'/home/jian/Projects/Big_Lots/Analysis/2018_Q3/YoY'"
      ]
     },
     "execution_count": 20,
     "metadata": {},
     "output_type": "execute_result"
    }
   ],
   "source": [
    "import pandas as pd\n",
    "import numpy as np\n",
    "import datetime\n",
    "import os\n",
    "import glob\n",
    "import gc\n",
    "os.getcwd()"
   ]
  },
  {
   "cell_type": "code",
   "execution_count": 21,
   "metadata": {},
   "outputs": [],
   "source": [
    "store_info=pd.read_table(\"/home/jian/BigLots/static_files/Store_list/MediaStormStores20181201-135231-415.txt\",sep=\"|\",dtype=str)\n",
    "store_info=store_info[['location_id','city_nm','state_nm','zip_cd','open_dt']]\n",
    "\n",
    "store_info_2=pd.read_table(\"/home/jian/BigLots/static_files/Store_list/MediaStormStores20181101-134628-331.txt\",sep=\"|\",dtype=str)\n",
    "store_info_2=store_info_2[['location_id','city_nm','state_nm','zip_cd','open_dt']]\n",
    "store_info_2=store_info_2[~store_info_2['location_id'].isin(store_info['location_id'].tolist())]\n",
    "store_info=store_info.append(store_info_2)\n",
    "\n",
    "store_info_2=pd.read_table(\"/home/jian/BigLots/static_files/Store_list/MediaStormStores20181001-135417-132.txt\",sep=\"|\",dtype=str)\n",
    "store_info_2=store_info_2[['location_id','city_nm','state_nm','zip_cd','open_dt']]\n",
    "store_info_2=store_info_2[~store_info_2['location_id'].isin(store_info['location_id'].tolist())]\n",
    "store_info=store_info.append(store_info_2)\n",
    "\n",
    "store_info_2=pd.read_table(\"/home/jian/BigLots/static_files/Store_list/MediaStormStores20180901-133640-935.txt\",sep=\"|\",dtype=str)\n",
    "store_info_2=store_info_2[['location_id','city_nm','state_nm','zip_cd','open_dt']]\n",
    "store_info_2=store_info_2[~store_info_2['location_id'].isin(store_info['location_id'].tolist())]\n",
    "store_info=store_info.append(store_info_2)\n",
    "\n",
    "store_info_2=pd.read_table(\"/home/jian/BigLots/static_files/Store_list/MediaStormStores20180801-133641-576.txt\",sep=\"|\",dtype=str)\n",
    "store_info_2=store_info_2[['location_id','city_nm','state_nm','zip_cd','open_dt']]\n",
    "store_info_2=store_info_2[~store_info_2['location_id'].isin(store_info['location_id'].tolist())]\n",
    "store_info=store_info.append(store_info_2)\n",
    "\n",
    "store_info_2=pd.read_table(\"/home/jian/BigLots/static_files/Store_list/MediaStormStores20180703.txt\",sep=\"|\",dtype=str)\n",
    "store_info_2=store_info_2[['location_id','city_nm','state_nm','zip_cd','open_dt']]\n",
    "store_info_2=store_info_2[~store_info_2['location_id'].isin(store_info['location_id'].tolist())]\n",
    "store_info=store_info.append(store_info_2)\n",
    "\n",
    "store_info_2=pd.read_table(\"/home/jian/BigLots/static_files/Store_list/MediaStormStores20171115.txt\",sep=\"|\",dtype=str)\n",
    "store_info_2=store_info_2[['location_id','city_nm','state_nm','zip_cd','open_dt']]\n",
    "store_info_2=store_info_2[~store_info_2['location_id'].isin(store_info['location_id'].tolist())]\n",
    "store_info=store_info.append(store_info_2)\n",
    "\n",
    "store_info_2=pd.read_table(\"/home/jian/BigLots/static_files/Store_list/MediaStormStores20170913.txt\",sep=\"|\",dtype=str)\n",
    "store_info_2=store_info_2[['location_id','city_nm','state_nm','zip_cd','open_dt']]\n",
    "store_info_2=store_info_2[~store_info_2['location_id'].isin(store_info['location_id'].tolist())]\n",
    "store_info=store_info.append(store_info_2)\n",
    "store_info['zip_cd']=store_info['zip_cd'].apply(lambda x: x.split(\"-\")[0].zfill(5))\n",
    "\n",
    "\n",
    "DMA_Zip=pd.read_excel(\"/home/jian/Docs/Geo_mapping/Zips by DMA by County16-17 nielsen.xlsx\",skiprows=1,dtype=str)\n",
    "DMA_Zip=DMA_Zip.iloc[:,[0,2]]\n",
    "DMA_Zip.columns=['zip_cd','DMA']\n",
    "DMA_Zip=DMA_Zip.drop_duplicates(['zip_cd'])\n",
    "\n",
    "\n",
    "store_info=pd.merge(store_info,DMA_Zip,on=\"zip_cd\",how=\"left\")"
   ]
  },
  {
   "cell_type": "code",
   "execution_count": 22,
   "metadata": {},
   "outputs": [
    {
     "data": {
      "text/plain": [
       "(1472, 64)"
      ]
     },
     "execution_count": 22,
     "metadata": {},
     "output_type": "execute_result"
    }
   ],
   "source": [
    "stores_sales_data=pd.read_excel(\"/home/jian/BiglotsCode/outputs/Output_2018-12-01/wide_sales_date2018-12-01.xlsx\",dtype=str,sheetname=\"sales\")\n",
    "stores_trans_data=pd.read_excel(\"/home/jian/BiglotsCode/outputs/Output_2018-12-01/wide_sales_date2018-12-01.xlsx\",dtype=str,sheetname=\"transactions\")\n",
    "\n",
    "Q3_Start_week_2018=datetime.date(2018,8,11)\n",
    "Q3_End_week_2018=datetime.date(2018,11,3)\n",
    "Q3_Start_week_2017=datetime.date(2017,8,12)\n",
    "Q3_End_week_2017=datetime.date(2017,11,4)\n",
    "Q3_2017_Weeks=[str(Q3_Start_week_2017+datetime.timedelta(days=7*i)) for i in range(13)]\n",
    "Q3_2018_Weeks=[str(Q3_Start_week_2018+datetime.timedelta(days=7*i)) for i in range(13)]\n",
    "\n",
    "\n",
    "stores_sales_data=stores_sales_data[['location_id']+Q3_2017_Weeks+Q3_2018_Weeks]\n",
    "stores_trans_data=stores_trans_data[['location_id']+Q3_2017_Weeks+Q3_2018_Weeks]\n",
    "\n",
    "\n",
    "for col in Q3_2017_Weeks+Q3_2018_Weeks:\n",
    "    stores_sales_data[col]=stores_sales_data[col].astype(float)\n",
    "    stores_trans_data[col]=stores_trans_data[col].astype(int)\n",
    "    \n",
    "\n",
    "stores_trans_data['2017_Q3_Trans']=stores_trans_data[Q3_2017_Weeks].sum(axis=1)\n",
    "stores_trans_data['2018_Q3_Trans']=stores_trans_data[Q3_2018_Weeks].sum(axis=1)\n",
    "stores_sales_data['2017_Q3_Sales']=stores_sales_data[Q3_2017_Weeks].sum(axis=1)\n",
    "stores_sales_data['2018_Q3_Sales']=stores_sales_data[Q3_2018_Weeks].sum(axis=1)\n",
    "\n",
    "for col in Q3_2017_Weeks+Q3_2018_Weeks:\n",
    "    stores_sales_data=stores_sales_data.rename(columns={col:\"Sales_\"+col})\n",
    "    stores_trans_data=stores_trans_data.rename(columns={col:\"Trans_\"+col})\n",
    "    \n",
    "\n",
    "df_1=pd.merge(store_info,stores_sales_data,on=\"location_id\",how=\"left\")\n",
    "df_1=pd.merge(df_1,stores_trans_data,on=\"location_id\",how=\"left\")\n",
    "del store_info\n",
    "df_1['Q3_Sales_YoY']=(df_1['2018_Q3_Sales']-df_1['2017_Q3_Sales'])/df_1['2017_Q3_Sales']\n",
    "df_1['Q3_Trans_YoY']=(df_1['2018_Q3_Trans']-df_1['2017_Q3_Trans'])/df_1['2017_Q3_Trans']\n",
    "del store_info_2\n",
    "gc.collect()\n",
    "df_1.shape"
   ]
  },
  {
   "cell_type": "code",
   "execution_count": 24,
   "metadata": {},
   "outputs": [
    {
     "data": {
      "text/plain": [
       "'1'"
      ]
     },
     "execution_count": 24,
     "metadata": {},
     "output_type": "execute_result"
    }
   ],
   "source": [
    "df_1['location_id'][0]"
   ]
  },
  {
   "cell_type": "code",
   "execution_count": 6,
   "metadata": {},
   "outputs": [
    {
     "data": {
      "text/plain": [
       "(13727931, 5)"
      ]
     },
     "execution_count": 6,
     "metadata": {},
     "output_type": "execute_result"
    }
   ],
   "source": [
    "rewards_sales_from_SP=pd.read_csv(\"/home/jian/Projects/Big_Lots/Loyal_members/loyalty_sales_data/From_Sp/combinedtransactions_0811.csv\",\n",
    "                                 dtype=str,usecols=['customer_id_hashed','transaction_date','transaction_id','location_id','total_transaction_amt','merch_cat'])\n",
    "rewards_removed=rewards_sales_from_SP[rewards_sales_from_SP['merch_cat']==\"80040410\"]\n",
    "rewards_sales_from_SP=rewards_sales_from_SP[rewards_sales_from_SP['merch_cat']!=\"80040410\"]\n",
    "del rewards_sales_from_SP['merch_cat']\n",
    "\n",
    "rewards_sales_from_SP=rewards_sales_from_SP.drop_duplicates()\n",
    "\n",
    "rewards_sales_from_SP['transaction_date']=rewards_sales_from_SP['transaction_date'].apply(lambda x: datetime.datetime.strptime(x,\"%Y-%m-%d\").date())\n",
    "\n",
    "rewards_sales_from_SP_2017Q3=rewards_sales_from_SP[(rewards_sales_from_SP['transaction_date']>=(Q3_Start_week_2017-datetime.timedelta(days=6))) & (rewards_sales_from_SP['transaction_date']<=Q3_End_week_2017)]\n",
    "del rewards_sales_from_SP\n",
    "gc.collect()\n",
    "\n",
    "\n",
    "rewards_sales_from_SP_2017Q3['total_transaction_amt']=rewards_sales_from_SP_2017Q3['total_transaction_amt'].astype(float)\n",
    "rewards_sales_from_SP_2017Q3=rewards_sales_from_SP_2017Q3.drop_duplicates()\n",
    "gc.collect()\n",
    "rewards_sales_from_SP_2017Q3.shape"
   ]
  },
  {
   "cell_type": "code",
   "execution_count": null,
   "metadata": {},
   "outputs": [],
   "source": []
  },
  {
   "cell_type": "code",
   "execution_count": 7,
   "metadata": {
    "collapsed": true
   },
   "outputs": [],
   "source": [
    "file_list=['/home/jian/Projects/Big_Lots/Loyal_members/loyalty_sales_data/MediaStormSalesBiWeekly20180814-131127-683.txt',\n",
    "          '/home/jian/Projects/Big_Lots/Loyal_members/loyalty_sales_data/MediaStormSalesBiWeekly20180828-131144-584.txt',\n",
    "          '/home/jian/Projects/Big_Lots/Loyal_members/loyalty_sales_data/MediaStormSalesBiWeekly20180911-133008-590.txt',\n",
    "          '/home/jian/Projects/Big_Lots/Loyal_members/loyalty_sales_data/MediaStormSalesBiWeekly20180925-132958-543.txt',\n",
    "          '/home/jian/Projects/Big_Lots/Loyal_members/loyalty_sales_data/MediaStormSalesBiWeekly20181009-132856-945.txt',\n",
    "          '/home/jian/Projects/Big_Lots/Loyal_members/loyalty_sales_data/MediaStormSalesBiWeekly20181023-132316-829.txt',\n",
    "          '/home/jian/Projects/Big_Lots/Loyal_members/loyalty_sales_data/MediaStormSalesBiWeekly20181106-132358-296.txt']"
   ]
  },
  {
   "cell_type": "code",
   "execution_count": 8,
   "metadata": {},
   "outputs": [
    {
     "name": "stdout",
     "output_type": "stream",
     "text": [
      "2018-12-04 17:20:58.574303\n",
      "2018-12-04 17:21:43.440107\n",
      "2018-12-04 17:22:29.292508\n",
      "2018-12-04 17:23:10.643475\n",
      "2018-12-04 17:24:02.211847\n",
      "2018-12-04 17:24:44.561800\n",
      "2018-12-04 17:25:30.436441\n"
     ]
    },
    {
     "data": {
      "text/plain": [
       "(18834515, 6)"
      ]
     },
     "execution_count": 8,
     "metadata": {},
     "output_type": "execute_result"
    }
   ],
   "source": [
    "biweek_rewards_2018=pd.DataFrame()\n",
    "removed_2018=pd.DataFrame()\n",
    "for file_i in file_list:\n",
    "    df=pd.read_table(file_i,dtype=str,sep=\"|\")\n",
    "    df_removed=df[df['merch_cat']==\"80040410\"]\n",
    "    removed_2018=removed_2018.append(df_removed)\n",
    "    df=df[df['merch_cat']!=\"80040410\"]\n",
    "    del df['merch_cat']\n",
    "    del df['total_transaction_units']\n",
    "    df=df.drop_duplicates()\n",
    "    df['transaction_dt']=df['transaction_dt'].apply(lambda x: datetime.datetime.strptime(x,\"%Y-%m-%d\").date())\n",
    "    biweek_rewards_2018=biweek_rewards_2018.append(df)\n",
    "    print(datetime.datetime.now())\n",
    "biweek_rewards_2018.shape"
   ]
  },
  {
   "cell_type": "code",
   "execution_count": 9,
   "metadata": {},
   "outputs": [
    {
     "name": "stdout",
     "output_type": "stream",
     "text": [
      "check_point_2\n"
     ]
    }
   ],
   "source": [
    "print(\"check_point_2\")"
   ]
  },
  {
   "cell_type": "code",
   "execution_count": 12,
   "metadata": {},
   "outputs": [],
   "source": [
    "biweek_rewards_2018['total_transaction_amt']=biweek_rewards_2018['total_transaction_amt'].astype(float)\n",
    "historical_rewards_2017=rewards_sales_from_SP_2017Q3.rename(columns={\"transaction_date\":\"transaction_dt\"})\n",
    "del rewards_sales_from_SP_2017Q3\n",
    "\n",
    "rewards_by_day_2017_sales=historical_rewards_2017.groupby(['location_id','transaction_dt'])['total_transaction_amt'].sum().to_frame().reset_index()\n",
    "rewards_by_day_2017_sales=rewards_by_day_2017_sales.rename(columns={\"total_transaction_amt\":\"rewards_sales\"})\n",
    "rewards_by_day_2018_sales=biweek_rewards_2018.groupby(['location_id','transaction_dt'])['total_transaction_amt'].sum().to_frame().reset_index()\n",
    "rewards_by_day_2018_sales=rewards_by_day_2018_sales.rename(columns={\"total_transaction_amt\":\"rewards_sales\"})\n",
    "\n",
    "rewards_by_day_2017_trans=historical_rewards_2017.groupby(['location_id','transaction_dt'])['total_transaction_amt'].count().to_frame().reset_index()\n",
    "rewards_by_day_2017_trans=rewards_by_day_2017_trans.rename(columns={\"total_transaction_amt\":\"rewards_trans\"})\n",
    "rewards_by_day_2018_trans=biweek_rewards_2018.groupby(['location_id','transaction_dt'])['total_transaction_amt'].count().to_frame().reset_index()\n",
    "rewards_by_day_2018_trans=rewards_by_day_2018_trans.rename(columns={\"total_transaction_amt\":\"rewards_trans\"})\n",
    "\n"
   ]
  },
  {
   "cell_type": "code",
   "execution_count": 27,
   "metadata": {},
   "outputs": [
    {
     "data": {
      "text/plain": [
       "'1'"
      ]
     },
     "execution_count": 27,
     "metadata": {},
     "output_type": "execute_result"
    }
   ],
   "source": []
  },
  {
   "cell_type": "code",
   "execution_count": 13,
   "metadata": {
    "collapsed": true
   },
   "outputs": [],
   "source": [
    "def week_end_dt(x):\n",
    "    if x.weekday()==6:\n",
    "        y=x+datetime.timedelta(days=6)\n",
    "    else:\n",
    "        y=x+datetime.timedelta(days=(5-x.weekday()))\n",
    "    return y\n",
    "rewards_by_day_2017_sales['week_end_dt']=rewards_by_day_2017_sales['transaction_dt'].apply(lambda x: week_end_dt(x))\n",
    "rewards_by_day_2018_sales['week_end_dt']=rewards_by_day_2018_sales['transaction_dt'].apply(lambda x: week_end_dt(x))\n",
    "\n",
    "rewards_by_day_2017_trans['week_end_dt']=rewards_by_day_2017_trans['transaction_dt'].apply(lambda x: week_end_dt(x))\n",
    "rewards_by_day_2018_trans['week_end_dt']=rewards_by_day_2018_trans['transaction_dt'].apply(lambda x: week_end_dt(x))"
   ]
  },
  {
   "cell_type": "code",
   "execution_count": 15,
   "metadata": {},
   "outputs": [],
   "source": [
    "rewards_by_week_2017_sales=rewards_by_day_2017_sales.groupby(['location_id','week_end_dt'])['rewards_sales'].sum().to_frame().reset_index()\n",
    "rewards_by_week_2018_sales=rewards_by_day_2018_sales.groupby(['location_id','week_end_dt'])['rewards_sales'].sum().to_frame().reset_index()\n",
    "\n",
    "rewards_by_week_2017_trans=rewards_by_day_2017_trans.groupby(['location_id','week_end_dt'])['rewards_trans'].sum().to_frame().reset_index()\n",
    "rewards_by_week_2018_trans=rewards_by_day_2018_trans.groupby(['location_id','week_end_dt'])['rewards_trans'].sum().to_frame().reset_index()\n",
    "\n",
    "rewards_by_week_both_sales=rewards_by_week_2017_sales.append(rewards_by_week_2018_sales)\n",
    "rewards_by_week_both_trans=rewards_by_week_2017_trans.append(rewards_by_week_2018_trans)"
   ]
  },
  {
   "cell_type": "code",
   "execution_count": 32,
   "metadata": {
    "collapsed": true
   },
   "outputs": [],
   "source": [
    "rewards_by_week_both_sales_wide=rewards_by_week_both_sales.pivot_table(index=\"location_id\",columns=\"week_end_dt\",values=\"rewards_sales\").reset_index()\n",
    "rewards_by_week_both_trans_wide=rewards_by_week_both_trans.pivot_table(index=\"location_id\",columns=\"week_end_dt\",values=\"rewards_trans\").reset_index()\n",
    "\n",
    "rewards_by_week_both_sales_wide.columns=[str(x) for x in rewards_by_week_both_sales_wide.columns.tolist()]\n",
    "rewards_by_week_both_trans_wide.columns=[str(x) for x in rewards_by_week_both_trans_wide.columns.tolist()]"
   ]
  },
  {
   "cell_type": "code",
   "execution_count": 33,
   "metadata": {
    "collapsed": true
   },
   "outputs": [],
   "source": [
    "for col in Q3_2017_Weeks+Q3_2018_Weeks:\n",
    "    rewards_by_week_both_sales_wide=rewards_by_week_both_sales_wide.rename(columns={col:\"R_Sales_\"+col})\n",
    "    rewards_by_week_both_trans_wide=rewards_by_week_both_trans_wide.rename(columns={col:\"R_Trans_\"+col})\n",
    "    \n",
    "df_1=pd.merge(df_1,rewards_by_week_both_sales_wide,on=\"location_id\",how=\"left\")\n",
    "df_1=pd.merge(df_1,rewards_by_week_both_trans_wide,on=\"location_id\",how=\"left\")\n",
    "df_1=df_1.fillna(0)"
   ]
  },
  {
   "cell_type": "code",
   "execution_count": 37,
   "metadata": {
    "collapsed": true
   },
   "outputs": [],
   "source": [
    "writer=pd.ExcelWriter(\"/home/jian/Projects/Big_Lots/Analysis/2018_Q3/YoY/BL_rewards_by_store_week_JL_\"+str(datetime.datetime.now().date())+\".xlsx\",engine=\"xlsxwriter\")\n",
    "df_1.to_excel(writer,\"data\",index=False)\n",
    "rewards_removed.to_excel(writer,\"exclusion_rewards_2017\",index=False)\n",
    "removed_2018.to_excel(writer,\"exclusion_rewards_2018\",index=False)\n",
    "writer.save()\n",
    "\n"
   ]
  },
  {
   "cell_type": "code",
   "execution_count": 34,
   "metadata": {},
   "outputs": [
    {
     "data": {
      "text/plain": [
       "(1472, 118)"
      ]
     },
     "execution_count": 34,
     "metadata": {},
     "output_type": "execute_result"
    }
   ],
   "source": [
    "df_1.shape"
   ]
  },
  {
   "cell_type": "code",
   "execution_count": null,
   "metadata": {
    "collapsed": true
   },
   "outputs": [],
   "source": []
  }
 ],
 "metadata": {
  "kernelspec": {
   "display_name": "Python 3",
   "language": "python",
   "name": "python3"
  },
  "language_info": {
   "codemirror_mode": {
    "name": "ipython",
    "version": 3
   },
   "file_extension": ".py",
   "mimetype": "text/x-python",
   "name": "python",
   "nbconvert_exporter": "python",
   "pygments_lexer": "ipython3",
   "version": "3.6.1"
  }
 },
 "nbformat": 4,
 "nbformat_minor": 2
}
