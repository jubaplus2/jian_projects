{
 "cells": [
  {
   "cell_type": "code",
   "execution_count": 1,
   "metadata": {
    "collapsed": true
   },
   "outputs": [],
   "source": [
    "import pandas as pd\n",
    "from haversine import haversine\n",
    "import json\n",
    "import numpy as np\n",
    "import datetime\n",
    "zip_centers=json.load(open(\"/home/jian/Docs/Geo_mapping/center_of_rentrak_zip.json\"))"
   ]
  },
  {
   "cell_type": "code",
   "execution_count": 2,
   "metadata": {
    "collapsed": true
   },
   "outputs": [],
   "source": [
    "store_level_zips=pd.read_csv(\"/home/jian/Projects/Big_Lots/New_TA/zips_in_new_ta/sales_by_zip (Store level).csv\",dtype=str)\n",
    "store_level_zips=store_level_zips[store_level_zips['revenue_flag'].isin(['P', 'S'])].drop_duplicates()\n",
    "store_level_zips_excluded=store_level_zips[store_level_zips['location_id'].isin(['5215','1840'])].drop_duplicates()\n",
    "store_level_zips_other=store_level_zips[~store_level_zips['location_id'].isin(['5215','1840'])].drop_duplicates()\n",
    "store_level_zips_other_of_exclusion=store_level_zips_other[store_level_zips_other['zip'].isin(store_level_zips_excluded['zip'])].drop_duplicates()"
   ]
  },
  {
   "cell_type": "code",
   "execution_count": 3,
   "metadata": {
    "collapsed": true
   },
   "outputs": [],
   "source": [
    "store_sales=pd.read_csv(\"/home/jian/BiglotsCode/outputs/combined_sales_long_2018-10-06.csv\",dtype=str)\n",
    "store_sales['sales']=store_sales['sales'].astype(float)\n",
    "store_sales=store_sales[store_sales['week_end_date']==\"2018-10-06\"]\n",
    "store_sales=store_sales[store_sales['sales']>0]\n",
    "open_store_list=store_sales['location_id'].unique().tolist()"
   ]
  },
  {
   "cell_type": "code",
   "execution_count": 4,
   "metadata": {
    "collapsed": true
   },
   "outputs": [],
   "source": [
    "store_level_zips_excluded=store_level_zips_excluded[['location_id','revenue_flag','zip']]\n",
    "store_level_zips_excluded.columns=[x+\"_exclusion\" for x in store_level_zips_excluded.columns.tolist()]\n"
   ]
  },
  {
   "cell_type": "code",
   "execution_count": 5,
   "metadata": {
    "collapsed": true
   },
   "outputs": [],
   "source": [
    "store_level_zips_other_of_exclusion=store_level_zips_other_of_exclusion[['location_id','revenue_flag','zip']]\n",
    "store_level_zips_other_of_exclusion.columns=[x+\"_other_inflected\" for x in store_level_zips_other_of_exclusion.columns.tolist()]\n",
    "store_level_zips_other_of_exclusion=store_level_zips_other_of_exclusion.rename(columns={\"zip_other_inflected\":\"zip_exclusion\"})\n",
    "store_level_zips_other_of_exclusion=store_level_zips_other_of_exclusion[store_level_zips_other_of_exclusion['location_id_other_inflected'].isin(open_store_list)]"
   ]
  },
  {
   "cell_type": "code",
   "execution_count": 6,
   "metadata": {},
   "outputs": [
    {
     "data": {
      "text/html": [
       "<div>\n",
       "<style>\n",
       "    .dataframe thead tr:only-child th {\n",
       "        text-align: right;\n",
       "    }\n",
       "\n",
       "    .dataframe thead th {\n",
       "        text-align: left;\n",
       "    }\n",
       "\n",
       "    .dataframe tbody tr th {\n",
       "        vertical-align: top;\n",
       "    }\n",
       "</style>\n",
       "<table border=\"1\" class=\"dataframe\">\n",
       "  <thead>\n",
       "    <tr style=\"text-align: right;\">\n",
       "      <th></th>\n",
       "      <th>DMA</th>\n",
       "      <th>location_id</th>\n",
       "      <th>sales</th>\n",
       "      <th>traffics</th>\n",
       "      <th>transactions</th>\n",
       "      <th>week_end_date</th>\n",
       "      <th>week_indicator</th>\n",
       "    </tr>\n",
       "  </thead>\n",
       "  <tbody>\n",
       "    <tr>\n",
       "      <th>215146</th>\n",
       "      <td>NaN</td>\n",
       "      <td>4681</td>\n",
       "      <td>88457.47</td>\n",
       "      <td>5444</td>\n",
       "      <td>2477.0</td>\n",
       "      <td>2018-10-06</td>\n",
       "      <td>21</td>\n",
       "    </tr>\n",
       "  </tbody>\n",
       "</table>\n",
       "</div>"
      ],
      "text/plain": [
       "        DMA location_id     sales traffics transactions week_end_date  \\\n",
       "215146  NaN        4681  88457.47     5444       2477.0    2018-10-06   \n",
       "\n",
       "       week_indicator  \n",
       "215146             21  "
      ]
     },
     "execution_count": 6,
     "metadata": {},
     "output_type": "execute_result"
    }
   ],
   "source": [
    "store_level_zips_other_of_exclusion['labels_for_other_stores']=\"{\"+store_level_zips_other_of_exclusion['location_id_other_inflected']+\": \"+store_level_zips_other_of_exclusion['revenue_flag_other_inflected']+\"}\"\n",
    "store_level_zips_other_of_exclusion=store_level_zips_other_of_exclusion.groupby(['zip_exclusion'])['labels_for_other_stores'].apply(list).to_frame().reset_index()\n",
    "\n",
    "output=pd.merge(store_level_zips_excluded,store_level_zips_other_of_exclusion,on=\"zip_exclusion\",how=\"outer\")\n",
    "store_list=pd.read_table(\"/home/jian/BigLots/static_files/Store_list/MediaStormStores20181001-135417-132.txt\",sep=\"|\",dtype=str)\n",
    "store_sales[store_sales['location_id'].apply(lambda x: x in store_list['location_id'].tolist())==False]\n",
    "# Checked from the list from Dom and it's in WA, far away from the 2 exclusions"
   ]
  },
  {
   "cell_type": "code",
   "execution_count": 7,
   "metadata": {
    "collapsed": true
   },
   "outputs": [],
   "source": [
    "store_list=store_list[store_list['location_id'].isin(open_store_list)][['location_id','latitude_meas','longitude_meas']]\n",
    "store_list['latitude_meas']=store_list['latitude_meas'].astype(float)\n",
    "store_list['longitude_meas']=store_list['longitude_meas'].astype(float)\n",
    "store_list=store_list[~store_list['location_id'].isin(['5215','1840'])]\n",
    "store_list=store_list.reset_index()\n",
    "del store_list['index']\n",
    "store_list_lat_dict=store_list.set_index(['location_id']).to_dict()['latitude_meas']\n",
    "store_list_lng_dict=store_list.set_index(['location_id']).to_dict()['longitude_meas']"
   ]
  },
  {
   "cell_type": "code",
   "execution_count": 8,
   "metadata": {},
   "outputs": [
    {
     "name": "stderr",
     "output_type": "stream",
     "text": [
      "/usr/local/lib/python3.6/site-packages/ipykernel_launcher.py:16: SettingWithCopyWarning: \n",
      "A value is trying to be set on a copy of a slice from a DataFrame\n",
      "\n",
      "See the caveats in the documentation: http://pandas.pydata.org/pandas-docs/stable/indexing.html#indexing-view-versus-copy\n",
      "  app.launch_new_instance()\n",
      "/usr/local/lib/python3.6/site-packages/pandas/core/indexing.py:179: SettingWithCopyWarning: \n",
      "A value is trying to be set on a copy of a slice from a DataFrame\n",
      "\n",
      "See the caveats in the documentation: http://pandas.pydata.org/pandas-docs/stable/indexing.html#indexing-view-versus-copy\n",
      "  self._setitem_with_indexer(indexer, value)\n"
     ]
    }
   ],
   "source": [
    "output=output.reset_index()\n",
    "del output['index']\n",
    "output['other_store_in_10_miles']=np.nan\n",
    "for i in range(len(output)):\n",
    "    zip_exclusion=output['zip_exclusion'][i]\n",
    "    zip_dict_with_sotres={}\n",
    "    \n",
    "    if zip_exclusion in list(zip_centers.keys()):\n",
    "        for store in store_list['location_id'].tolist():\n",
    "\n",
    "            store_center=[store_list_lat_dict[store],store_list_lng_dict[store]]\n",
    "            dist=haversine(store_center,zip_centers[zip_exclusion],miles=True)\n",
    "\n",
    "            if dist<=10:\n",
    "                zip_dict_with_sotres.update({store:dist})\n",
    "        output['other_store_in_10_miles'][i]=str(zip_dict_with_sotres)"
   ]
  },
  {
   "cell_type": "code",
   "execution_count": 13,
   "metadata": {},
   "outputs": [],
   "source": [
    "writer=pd.ExcelWriter(\"/home/jian/Projects/Big_Lots/New_TA/Store_Level_Zip_Selection/excluding_zips_for_stores/BL_zip_exclusions_for_2_stores_5215_1840_JL_\"+str(datetime.datetime.now().date())+\".xlsx\",engine=\"xlsxwriter\")\n",
    "output=output.sort_values(['location_id_exclusion','revenue_flag_exclusion'])\n",
    "output.to_excel(writer,\"zip_list_for_2_stores\",index=False)\n",
    "writer.save()"
   ]
  },
  {
   "cell_type": "code",
   "execution_count": 12,
   "metadata": {},
   "outputs": [
    {
     "data": {
      "text/html": [
       "<div>\n",
       "<style>\n",
       "    .dataframe thead tr:only-child th {\n",
       "        text-align: right;\n",
       "    }\n",
       "\n",
       "    .dataframe thead th {\n",
       "        text-align: left;\n",
       "    }\n",
       "\n",
       "    .dataframe tbody tr th {\n",
       "        vertical-align: top;\n",
       "    }\n",
       "</style>\n",
       "<table border=\"1\" class=\"dataframe\">\n",
       "  <thead>\n",
       "    <tr style=\"text-align: right;\">\n",
       "      <th></th>\n",
       "      <th>location_id_exclusion</th>\n",
       "      <th>revenue_flag_exclusion</th>\n",
       "      <th>zip_exclusion</th>\n",
       "      <th>labels_for_other_stores</th>\n",
       "      <th>other_store_in_10_miles</th>\n",
       "    </tr>\n",
       "  </thead>\n",
       "  <tbody>\n",
       "    <tr>\n",
       "      <th>0</th>\n",
       "      <td>1840</td>\n",
       "      <td>P</td>\n",
       "      <td>32446</td>\n",
       "      <td>[{5169: S}, {5239: S}]</td>\n",
       "      <td>{}</td>\n",
       "    </tr>\n",
       "    <tr>\n",
       "      <th>2</th>\n",
       "      <td>1840</td>\n",
       "      <td>P</td>\n",
       "      <td>32460</td>\n",
       "      <td>NaN</td>\n",
       "      <td>{}</td>\n",
       "    </tr>\n",
       "  </tbody>\n",
       "</table>\n",
       "</div>"
      ],
      "text/plain": [
       "  location_id_exclusion revenue_flag_exclusion zip_exclusion  \\\n",
       "0                  1840                      P         32446   \n",
       "2                  1840                      P         32460   \n",
       "\n",
       "  labels_for_other_stores other_store_in_10_miles  \n",
       "0  [{5169: S}, {5239: S}]                      {}  \n",
       "2                     NaN                      {}  "
      ]
     },
     "execution_count": 12,
     "metadata": {},
     "output_type": "execute_result"
    }
   ],
   "source": [
    "output.head(2)"
   ]
  },
  {
   "cell_type": "code",
   "execution_count": null,
   "metadata": {
    "collapsed": true
   },
   "outputs": [],
   "source": []
  }
 ],
 "metadata": {
  "kernelspec": {
   "display_name": "Python 3",
   "language": "python",
   "name": "python3"
  },
  "language_info": {
   "codemirror_mode": {
    "name": "ipython",
    "version": 3
   },
   "file_extension": ".py",
   "mimetype": "text/x-python",
   "name": "python",
   "nbconvert_exporter": "python",
   "pygments_lexer": "ipython3",
   "version": "3.6.1"
  }
 },
 "nbformat": 4,
 "nbformat_minor": 2
}
