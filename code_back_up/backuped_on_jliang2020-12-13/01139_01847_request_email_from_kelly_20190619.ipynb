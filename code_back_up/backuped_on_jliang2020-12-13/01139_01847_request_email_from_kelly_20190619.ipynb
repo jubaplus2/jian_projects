{
 "cells": [
  {
   "cell_type": "code",
   "execution_count": 1,
   "metadata": {},
   "outputs": [
    {
     "data": {
      "text/plain": [
       "'/home/jian/Projects/Smoothie_King/Analysis/zips_for_1_stores_1676_20190620'"
      ]
     },
     "execution_count": 1,
     "metadata": {},
     "output_type": "execute_result"
    }
   ],
   "source": [
    "import pandas as pd\n",
    "import numpy as np\n",
    "import datetime\n",
    "import os\n",
    "from haversine import haversine\n",
    "import json\n",
    "\n",
    "zip_centers=json.load(open(\"/home/jian/Docs/Geo_mapping/updated_zip_centers_JL_2019-05-23.json\",\"r\"))\n",
    "\n",
    "os.getcwd()"
   ]
  },
  {
   "cell_type": "code",
   "execution_count": 2,
   "metadata": {
    "collapsed": true
   },
   "outputs": [],
   "source": [
    "'''\n",
    "Store #1676\n",
    "Address: 10800 Kingston Pike Knoxville, TN 37934\n",
    "'''\n",
    "\n",
    "store_location_dict={\"store_id\":\"1676\",\"Google_Address\":\"10800 Kingston Pike, Knoxville, TN 37934\",\"Google_Coor\":[35.893653,-84.141218]}\n"
   ]
  },
  {
   "cell_type": "code",
   "execution_count": 3,
   "metadata": {
    "collapsed": true
   },
   "outputs": [],
   "source": [
    "df_1676=pd.DataFrame(columns=[\"store_id\",\"store_zip\",\"Google_Address\",\"Google_Lat\",\"Google_Long\",\"zip_cd\",\"distance_miles\"])\n",
    "i_counter=0\n",
    "for zip_cd in zip_centers.keys():\n",
    "    store_id=store_location_dict['store_id']\n",
    "    store_zip=store_location_dict['Google_Address'][-5:]\n",
    "    store_google_add=store_location_dict['Google_Address']\n",
    "    store_center=store_location_dict['Google_Coor']\n",
    "    dist=haversine(store_center,zip_centers[zip_cd],miles=True)\n",
    "    if dist<=3:\n",
    "        df=pd.DataFrame({\"store_id\":store_id,\"store_zip\":store_zip,\"Google_Address\":store_google_add,\"Google_Lat\":store_center[0],\"Google_Long\":store_center[1],\n",
    "                         \"zip_cd\":zip_cd,\"distance_miles\":dist},index=[i_counter])\n",
    "        df_1676=df_1676.append(df)\n",
    "        i_counter+=1\n",
    "        \n",
    "\n",
    "df_1676=df_1676[[\"store_id\",\"store_zip\",\"Google_Address\",\"Google_Lat\",\"Google_Long\",\"zip_cd\",\"distance_miles\"]]"
   ]
  },
  {
   "cell_type": "code",
   "execution_count": 4,
   "metadata": {
    "collapsed": true
   },
   "outputs": [],
   "source": [
    "writer=pd.ExcelWriter(\"/home/jian/Projects/Smoothie_King/Analysis/zips_for_1_stores_1676_20190620/SK_zips_for_1676_JL_\"+str(datetime.datetime.now().date())+\".xlsx\",engine=\"xlsxwriter\")\n",
    "df_1676.to_excel(writer,\"zips_for_1676\",index=False)\n",
    "writer.save()"
   ]
  },
  {
   "cell_type": "code",
   "execution_count": null,
   "metadata": {
    "collapsed": true
   },
   "outputs": [],
   "source": []
  }
 ],
 "metadata": {
  "kernelspec": {
   "display_name": "Python 3",
   "language": "python",
   "name": "python3"
  },
  "language_info": {
   "codemirror_mode": {
    "name": "ipython",
    "version": 3
   },
   "file_extension": ".py",
   "mimetype": "text/x-python",
   "name": "python",
   "nbconvert_exporter": "python",
   "pygments_lexer": "ipython3",
   "version": "3.6.1"
  }
 },
 "nbformat": 4,
 "nbformat_minor": 2
}
