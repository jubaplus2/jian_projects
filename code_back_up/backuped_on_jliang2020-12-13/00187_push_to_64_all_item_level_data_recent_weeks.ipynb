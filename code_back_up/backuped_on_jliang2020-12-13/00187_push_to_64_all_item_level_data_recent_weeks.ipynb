{
 "cells": [
  {
   "cell_type": "code",
   "execution_count": 1,
   "metadata": {},
   "outputs": [
    {
     "data": {
      "text/plain": [
       "'/home/jian/Projects/Big_Lots/Analysis/2019_Q3/Planner_request/Spence_All_Item_Level_data_push_to_64_20190910'"
      ]
     },
     "execution_count": 1,
     "metadata": {},
     "output_type": "execute_result"
    }
   ],
   "source": [
    "import pandas as pd\n",
    "import datetime\n",
    "import os\n",
    "import numpy as np\n",
    "\n",
    "os.getcwd()"
   ]
  },
  {
   "cell_type": "code",
   "execution_count": 2,
   "metadata": {},
   "outputs": [],
   "source": [
    "def recursive_file_gen(root_path):\n",
    "    for root, dirs, files in os.walk(root_path):\n",
    "        for file in files:\n",
    "            yield os.path.join(root,file)"
   ]
  },
  {
   "cell_type": "code",
   "execution_count": 4,
   "metadata": {},
   "outputs": [
    {
     "data": {
      "text/plain": [
       "['/home/sharefolder/biglots_data/2020_by_weeks/MediaStorm_2020-06-06/MediaStormDailySales20200609-115454-814.txt',\n",
       " '/home/sharefolder/biglots_data/2020_by_weeks/MediaStorm_2020-06-13/MediaStormDailySales20200617-154902-583.txt',\n",
       " '/home/sharefolder/biglots_data/2020_by_weeks/MediaStorm_2020-06-20/MediaStormDailySales20200623-111921-522.txt',\n",
       " '/home/sharefolder/biglots_data/2020_by_weeks/MediaStorm_2020-06-27/MediaStormDailySales20200630-111851-626.txt',\n",
       " '/home/sharefolder/biglots_data/2020_by_weeks/MediaStorm_2020-07-04/MediaStormDailySales20200707-111916-669.txt',\n",
       " '/home/sharefolder/biglots_data/2020_by_weeks/MediaStorm_2020-07-11/MediaStormDailySales20200714-120206-595.txt',\n",
       " '/home/sharefolder/biglots_data/2020_by_weeks/MediaStorm_2020-07-18/MediaStormDailySales20200721-111308-488.txt',\n",
       " '/home/sharefolder/biglots_data/2020_by_weeks/MediaStorm_2020-07-25/MediaStormDailySales20200728-111703-352.txt',\n",
       " '/home/sharefolder/biglots_data/2020_by_weeks/MediaStorm_2020-08-01/MediaStormDailySales20200804-111724-517.txt',\n",
       " '/home/sharefolder/biglots_data/2020_by_weeks/MediaStorm_2020-08-08/MediaStormDailySales20200811-115342-511.txt',\n",
       " '/home/sharefolder/biglots_data/2020_by_weeks/MediaStorm_2020-08-15/MediaStormDailySales20200818-112905-505.txt',\n",
       " '/home/sharefolder/biglots_data/2020_by_weeks/MediaStorm_2020-08-22/MediaStormDailySales20200825-112900-084.txt']"
      ]
     },
     "execution_count": 4,
     "metadata": {},
     "output_type": "execute_result"
    }
   ],
   "source": [
    "weekly_files=list(recursive_file_gen(\"/home/sharefolder/biglots_data/2020_by_weeks/\"))\n",
    "\n",
    "\n",
    "weekly_files=[x for x in weekly_files if \"Daily\" in x and x[-4:]==\".txt\"]\n",
    "weekly_files=[x for x in weekly_files if x.split(\"MediaStorm_\")[1][:10]>\"2020-06-01\"] # as the latest\n",
    "weekly_files.sort()\n",
    "len(weekly_files)\n",
    "weekly_files"
   ]
  },
  {
   "cell_type": "code",
   "execution_count": 5,
   "metadata": {},
   "outputs": [],
   "source": [
    "import paramiko\n",
    "\n",
    "host = \"107.191.32.220\" #hard-coded\n",
    "port = 22\n",
    "transport = paramiko.Transport((host, port))\n",
    "\n",
    "password = \"juba-jl1\" #hard-coded\n",
    "username = \"jian\" #hard-coded\n",
    "transport.connect(username = username, password = password)\n",
    "sftp = paramiko.SFTPClient.from_transport(transport)"
   ]
  },
  {
   "cell_type": "code",
   "execution_count": 6,
   "metadata": {},
   "outputs": [
    {
     "name": "stdout",
     "output_type": "stream",
     "text": [
      "/home/sharefolder/biglots_data/2020_by_weeks/MediaStorm_2020-06-06/MediaStormDailySales20200609-115454-814.txt 2020-08-27 22:38:31.431843\n",
      "/home/sharefolder/biglots_data/2020_by_weeks/MediaStorm_2020-06-13/MediaStormDailySales20200617-154902-583.txt 2020-08-27 22:40:31.795177\n",
      "/home/sharefolder/biglots_data/2020_by_weeks/MediaStorm_2020-06-20/MediaStormDailySales20200623-111921-522.txt 2020-08-27 22:42:27.676142\n",
      "/home/sharefolder/biglots_data/2020_by_weeks/MediaStorm_2020-06-27/MediaStormDailySales20200630-111851-626.txt 2020-08-27 22:44:21.954628\n",
      "/home/sharefolder/biglots_data/2020_by_weeks/MediaStorm_2020-07-04/MediaStormDailySales20200707-111916-669.txt 2020-08-27 22:46:30.640271\n",
      "/home/sharefolder/biglots_data/2020_by_weeks/MediaStorm_2020-07-11/MediaStormDailySales20200714-120206-595.txt 2020-08-27 22:48:29.294842\n",
      "/home/sharefolder/biglots_data/2020_by_weeks/MediaStorm_2020-07-18/MediaStormDailySales20200721-111308-488.txt 2020-08-27 22:50:37.796356\n",
      "/home/sharefolder/biglots_data/2020_by_weeks/MediaStorm_2020-07-25/MediaStormDailySales20200728-111703-352.txt 2020-08-27 22:52:30.158784\n",
      "/home/sharefolder/biglots_data/2020_by_weeks/MediaStorm_2020-08-01/MediaStormDailySales20200804-111724-517.txt 2020-08-27 22:54:27.546773\n",
      "/home/sharefolder/biglots_data/2020_by_weeks/MediaStorm_2020-08-08/MediaStormDailySales20200811-115342-511.txt 2020-08-27 22:56:25.356668\n",
      "/home/sharefolder/biglots_data/2020_by_weeks/MediaStorm_2020-08-15/MediaStormDailySales20200818-112905-505.txt 2020-08-27 22:58:22.964723\n",
      "/home/sharefolder/biglots_data/2020_by_weeks/MediaStorm_2020-08-22/MediaStormDailySales20200825-112900-084.txt 2020-08-27 23:00:20.751208\n"
     ]
    }
   ],
   "source": [
    "remote_folder=\"/mnt/drv5/lr_biglots_data/BL_all_item_level_POS_data/\"    \n",
    "for file in weekly_files:\n",
    "    basename=os.path.basename(file)\n",
    "    remote_path=remote_folder+basename\n",
    "    sftp.put(file,remote_path)\n",
    "\n",
    "    print(file,datetime.datetime.now())\n",
    "sftp.close()\n",
    "transport.close()"
   ]
  },
  {
   "cell_type": "code",
   "execution_count": null,
   "metadata": {},
   "outputs": [],
   "source": []
  }
 ],
 "metadata": {
  "kernelspec": {
   "display_name": "Python 3",
   "language": "python",
   "name": "python3"
  },
  "language_info": {
   "codemirror_mode": {
    "name": "ipython",
    "version": 3
   },
   "file_extension": ".py",
   "mimetype": "text/x-python",
   "name": "python",
   "nbconvert_exporter": "python",
   "pygments_lexer": "ipython3",
   "version": "3.6.1"
  }
 },
 "nbformat": 4,
 "nbformat_minor": 2
}
