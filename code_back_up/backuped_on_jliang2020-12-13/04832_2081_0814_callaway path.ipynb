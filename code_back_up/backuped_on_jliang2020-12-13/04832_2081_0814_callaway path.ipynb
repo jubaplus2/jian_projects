{
 "cells": [
  {
   "cell_type": "code",
   "execution_count": 1,
   "metadata": {
    "collapsed": true
   },
   "outputs": [],
   "source": [
    "import pandas as pd\n",
    "pd.options.display.max_rows=6\n",
    "\n",
    "import numpy as np\n",
    "import datetime\n",
    "import sys"
   ]
  },
  {
   "cell_type": "markdown",
   "metadata": {
    "collapsed": true
   },
   "source": [
    "# match tables"
   ]
  },
  {
   "cell_type": "code",
   "execution_count": 4,
   "metadata": {
    "collapsed": true
   },
   "outputs": [],
   "source": [
    "sites = pd.read_csv('/home/jubauser1/jzou/dcm_account7252/match_tables/dcm_account7252_match_table_sites_20170909_20170910_032552_607997080.csv.gz')\n",
    "activity_cats = pd.read_csv('/home/jubauser1/jzou/dcm_account7252/match_tables/dcm_account7252_match_table_activity_cats_20170909_20170910_033227_607997440.csv.gz')\n",
    "#paid_search = pd.read_csv('/home/jubauser1/jzou/dcm_account7252/match_tables/dcm_account7252_match_table_paid_search_20170909_20170910_032551_607997437.csv.gz')\n",
    "#ads = pd.read_csv('/home/jubauser1/jzou/dcm_account7252/match_tables/dcm_account7252_match_table_ads_20170712_20170713_034624_583169409.csv')"
   ]
  },
  {
   "cell_type": "markdown",
   "metadata": {},
   "source": [
    "### paid_search"
   ]
  },
  {
   "cell_type": "code",
   "execution_count": 40,
   "metadata": {
    "collapsed": true
   },
   "outputs": [],
   "source": [
    "import os\n",
    "ps_dir = '/home/jubauser1/jzou/dcm_account7252/match_tables/paid_search/'\n",
    "_ps = os.listdir(ps_dir)\n",
    "paid_search = pd.DataFrame()\n",
    "for _ in _ps:\n",
    "    paid_search = paid_search.append(pd.read_csv(ps_dir+_, dtype=str), ignore_index=True)"
   ]
  },
  {
   "cell_type": "code",
   "execution_count": 41,
   "metadata": {
    "collapsed": true
   },
   "outputs": [],
   "source": [
    "search_click = pd.read_csv(\n",
    "    '/home/jubauser1/jzou/dcm_account7252/user_path/cost_outer_source/callaway_cost_by_kw_by_date.csv', \n",
    "    dtype={'keywordId': str})\n",
    "\n",
    "search_click['keywordMatchType'] = search_click['keywordMatchType'].apply(\n",
    "    lambda x: x.upper() if type(x)==str else x)\n",
    "\n",
    "search_click['cpc'] = search_click['cost']/search_click['clicks']"
   ]
  },
  {
   "cell_type": "code",
   "execution_count": 42,
   "metadata": {
    "collapsed": true
   },
   "outputs": [],
   "source": [
    "kws_in_ds = search_click[['keywordId', 'campaign', 'adGroup', 'keywordMatchType']].drop_duplicates()"
   ]
  },
  {
   "cell_type": "code",
   "execution_count": 43,
   "metadata": {
    "collapsed": true
   },
   "outputs": [],
   "source": [
    "paid_search = paid_search.merge(\n",
    "    kws_in_ds, \n",
    "    left_on=['Paid Search Keyword ID', 'Paid Search Campaign', 'Paid Search Ad Group', 'Paid Search Match Type'], \n",
    "    right_on=['keywordId', 'campaign', 'adGroup', 'keywordMatchType'],\n",
    "    how='left')"
   ]
  },
  {
   "cell_type": "code",
   "execution_count": 44,
   "metadata": {
    "collapsed": true
   },
   "outputs": [],
   "source": [
    "paid_search = paid_search[paid_search['keywordId'].notnull()]\n",
    "\n",
    "paid_search.drop_duplicates('Paid Search Legacy Keyword ID', keep='last', inplace=True)"
   ]
  },
  {
   "cell_type": "markdown",
   "metadata": {},
   "source": [
    "# click"
   ]
  },
  {
   "cell_type": "code",
   "execution_count": 45,
   "metadata": {
    "collapsed": true
   },
   "outputs": [],
   "source": [
    "columns_click = ['Event Time', 'User ID', 'Site ID (DCM)', 'Segment Value 1']\n",
    "dtype_click = {'Event Time': int, 'User ID': str, 'Site ID (DCM)': int}\n",
    "click = pd.read_csv('/home/jubauser1/jzou/dcm_account7252/results/click_callaway_5_campaigns.csv',\n",
    "                    usecols=columns_click, dtype=dtype_click)\n",
    "\n",
    "click = click[click['User ID'] != '0']\n",
    "click = click[click['Site ID (DCM)'] != 4036006] # 'DART Search : Yahoo! Gemini'\n",
    "\n",
    "click['date'] = click['Event Time'].apply(\n",
    "    lambda x: datetime.datetime.fromtimestamp(x/1000000).strftime('%Y-%m-%d'))\n",
    "click = click[click['date'] <= '2017-08-15']\n",
    "\n",
    "click = click.merge(sites[['Site ID (DCM)', 'Site (DCM)']], on='Site ID (DCM)', how='left')"
   ]
  },
  {
   "cell_type": "code",
   "execution_count": 46,
   "metadata": {
    "collapsed": true
   },
   "outputs": [],
   "source": [
    "click['Segment Value 1'] = click['Segment Value 1'].apply(lambda x: x if np.isnan(x) else str(int(x)))\n",
    "\n",
    "click = click.merge(paid_search[['Paid Search Legacy Keyword ID', 'Paid Search Keyword', 'Paid Search Keyword ID',\n",
    "                                 'Paid Search Campaign', 'Paid Search Ad Group',\n",
    "                                 'Paid Search Match Type'#, 'Paid Search Ad ID'\n",
    "                                ]], \n",
    "                    left_on='Segment Value 1', right_on='Paid Search Legacy Keyword ID', how='left')"
   ]
  },
  {
   "cell_type": "code",
   "execution_count": 47,
   "metadata": {
    "collapsed": true,
    "scrolled": true
   },
   "outputs": [],
   "source": [
    "#click['Paid Search Keyword'] = click['Paid Search Keyword'].fillna('empty')\n",
    "def brand_or_non(x, brand):\n",
    "    if type(x) == str:\n",
    "        if brand in x:\n",
    "            return 'branded_'\n",
    "        else:\n",
    "            return 'nonbranded_'\n",
    "    else:\n",
    "        return ''\n",
    "click['brand_or_non'] = click['Paid Search Keyword'].apply(lambda x: brand_or_non(x, 'callaway'))\n",
    "\n",
    "click['activity_cat'] = click['brand_or_non']+'click: '+click['Site (DCM)']"
   ]
  },
  {
   "cell_type": "markdown",
   "metadata": {},
   "source": [
    "### est_click_cost"
   ]
  },
  {
   "cell_type": "code",
   "execution_count": 48,
   "metadata": {
    "collapsed": true
   },
   "outputs": [],
   "source": [
    "search_cpc = click.merge(search_click, \n",
    "                        left_on=['Paid Search Campaign', \n",
    "                                 'Paid Search Ad Group', \n",
    "                                 'Paid Search Keyword ID', 'Paid Search Match Type',\n",
    "                                 'date'], \n",
    "                        right_on=['campaign', \n",
    "                                  'adGroup', 'keywordId', 'keywordMatchType', \n",
    "                                  'date'],\n",
    "                        how='left')\n",
    "\n",
    "search_cpc = search_cpc['cpc']\n",
    "\n",
    "search_cpc = search_cpc[search_cpc.notnull()]"
   ]
  },
  {
   "cell_type": "code",
   "execution_count": 19,
   "metadata": {},
   "outputs": [
    {
     "data": {
      "text/plain": [
       "52        0.847500\n",
       "61        1.447500\n",
       "64        0.847500\n",
       "            ...   \n",
       "141257    1.020000\n",
       "141260    2.707500\n",
       "141263    1.171538\n",
       "Name: cpc, Length: 63080, dtype: float64"
      ]
     },
     "execution_count": 19,
     "metadata": {},
     "output_type": "execute_result"
    }
   ],
   "source": [
    "search_cpc"
   ]
  },
  {
   "cell_type": "code",
   "execution_count": 49,
   "metadata": {
    "collapsed": true
   },
   "outputs": [],
   "source": [
    "pla_cost = pd.read_csv(\n",
    "    '/home/jubauser1/jzou/dcm_account7252/user_path/cost_outer_source/Callaway Apparel - pla cost.csv',\n",
    "    parse_dates=['From'])\n",
    "pla_cost = pla_cost.groupby(['Campaign', 'From'])['Clicks', 'Cost'].sum()\n",
    "pla_cost.reset_index(inplace=True)\n",
    "\n",
    "pla_cost['Site (DCM)'] = pla_cost['Campaign'].apply(\n",
    "    lambda x: {'B_Bing Shopping_EST-2773': 'DART Search : MSN',\n",
    "               'G_Google Shopping_Callaway Apparel_EST-2773': 'DART Search : Google'}[x])\n",
    "\n",
    "pla_cost['cpc'] = pla_cost['Cost'] / pla_cost['Clicks']\n",
    "\n",
    "pla_cost['date'] = pla_cost['From'].apply(pd.to_datetime).apply(lambda x:x.strftime('%Y-%m-%d'))\n",
    "\n",
    "pla_cpc = click.merge(pla_cost, on=['Site (DCM)', 'date'], how='left')\n",
    "\n",
    "pla_cpc = pla_cpc[(pla_cpc['Site (DCM)'].isin({'DART Search : Google', 'DART Search : MSN'})) & \n",
    "                  (pla_cpc['Paid Search Keyword ID'].isnull())]['cpc']"
   ]
  },
  {
   "cell_type": "code",
   "execution_count": 50,
   "metadata": {},
   "outputs": [
    {
     "data": {
      "text/plain": [
       "76             NaN\n",
       "86             NaN\n",
       "106            NaN\n",
       "            ...   \n",
       "141251    1.203333\n",
       "141252    1.203333\n",
       "141262    1.203333\n",
       "Name: cpc, Length: 41389, dtype: float64"
      ]
     },
     "execution_count": 50,
     "metadata": {},
     "output_type": "execute_result"
    }
   ],
   "source": [
    "pla_cpc"
   ]
  },
  {
   "cell_type": "code",
   "execution_count": 51,
   "metadata": {
    "collapsed": true
   },
   "outputs": [],
   "source": [
    "fb_click = pd.read_csv('/home/jubauser1/jzou/dcm_account7252/user_path/cost_outer_source/PEI-Callaway-Mar-1-2017-_-Sep-13-2017.csv')\n",
    "\n",
    "fb_click['cpc'] = fb_click['Amount Spent (USD)'] / fb_click['Clicks (All)']\n",
    "\n",
    "fb_click['site'] = 'Facebook'\n",
    "\n",
    "fb_cpc = click.merge(\n",
    "    fb_click, left_on=['Site (DCM)', 'date'], right_on=['site', 'Reporting Starts'], how='left')\n",
    "\n",
    "fb_cpc = fb_cpc[fb_cpc['Site (DCM)'] == 'Facebook']['cpc']"
   ]
  },
  {
   "cell_type": "code",
   "execution_count": 52,
   "metadata": {},
   "outputs": [
    {
     "data": {
      "text/plain": [
       "6        NaN\n",
       "7        NaN\n",
       "8        NaN\n",
       "          ..\n",
       "124348   NaN\n",
       "125683   NaN\n",
       "138123   NaN\n",
       "Name: cpc, Length: 14422, dtype: float64"
      ]
     },
     "execution_count": 52,
     "metadata": {},
     "output_type": "execute_result"
    }
   ],
   "source": [
    "fb_cpc"
   ]
  },
  {
   "cell_type": "code",
   "execution_count": 53,
   "metadata": {},
   "outputs": [
    {
     "data": {
      "text/plain": [
       "6              NaN\n",
       "7              NaN\n",
       "8              NaN\n",
       "            ...   \n",
       "141251    1.203333\n",
       "141252    1.203333\n",
       "141262    1.203333\n",
       "Name: cpc, Length: 118891, dtype: float64"
      ]
     },
     "execution_count": 53,
     "metadata": {},
     "output_type": "execute_result"
    }
   ],
   "source": [
    "cpc = pd.concat([fb_cpc, search_cpc, pla_cpc])\n",
    "\n",
    "cpc"
   ]
  },
  {
   "cell_type": "code",
   "execution_count": 54,
   "metadata": {
    "collapsed": true
   },
   "outputs": [],
   "source": [
    "click = click.join(cpc)"
   ]
  },
  {
   "cell_type": "code",
   "execution_count": 64,
   "metadata": {},
   "outputs": [
    {
     "data": {
      "text/plain": [
       "0.35272123932245797"
      ]
     },
     "execution_count": 64,
     "metadata": {},
     "output_type": "execute_result"
    }
   ],
   "source": [
    "fb_cpc.mean()"
   ]
  },
  {
   "cell_type": "code",
   "execution_count": 68,
   "metadata": {},
   "outputs": [
    {
     "data": {
      "text/html": [
       "<div>\n",
       "<style>\n",
       "    .dataframe thead tr:only-child th {\n",
       "        text-align: right;\n",
       "    }\n",
       "\n",
       "    .dataframe thead th {\n",
       "        text-align: left;\n",
       "    }\n",
       "\n",
       "    .dataframe tbody tr th {\n",
       "        vertical-align: top;\n",
       "    }\n",
       "</style>\n",
       "<table border=\"1\" class=\"dataframe\">\n",
       "  <thead>\n",
       "    <tr style=\"text-align: right;\">\n",
       "      <th></th>\n",
       "      <th>Event Time</th>\n",
       "      <th>User ID</th>\n",
       "      <th>Site ID (DCM)</th>\n",
       "      <th>Segment Value 1</th>\n",
       "      <th>date</th>\n",
       "      <th>Site (DCM)</th>\n",
       "      <th>Paid Search Legacy Keyword ID</th>\n",
       "      <th>Paid Search Keyword</th>\n",
       "      <th>Paid Search Keyword ID</th>\n",
       "      <th>Paid Search Campaign</th>\n",
       "      <th>Paid Search Ad Group</th>\n",
       "      <th>Paid Search Match Type</th>\n",
       "      <th>brand_or_non</th>\n",
       "      <th>activity_cat</th>\n",
       "      <th>cpc</th>\n",
       "    </tr>\n",
       "  </thead>\n",
       "  <tbody>\n",
       "    <tr>\n",
       "      <th>0</th>\n",
       "      <td>1490902299891058</td>\n",
       "      <td>AMsySZaTfbByUHA4eFC-oaXSEcel</td>\n",
       "      <td>1695745</td>\n",
       "      <td>NaN</td>\n",
       "      <td>2017-03-30</td>\n",
       "      <td>QuantCast</td>\n",
       "      <td>NaN</td>\n",
       "      <td>NaN</td>\n",
       "      <td>NaN</td>\n",
       "      <td>NaN</td>\n",
       "      <td>NaN</td>\n",
       "      <td>NaN</td>\n",
       "      <td></td>\n",
       "      <td>click: QuantCast</td>\n",
       "      <td>NaN</td>\n",
       "    </tr>\n",
       "    <tr>\n",
       "      <th>1</th>\n",
       "      <td>1490969647208748</td>\n",
       "      <td>AMsySZagAWzbVDPRBTEAXJN7YQ7s</td>\n",
       "      <td>1695745</td>\n",
       "      <td>NaN</td>\n",
       "      <td>2017-03-31</td>\n",
       "      <td>QuantCast</td>\n",
       "      <td>NaN</td>\n",
       "      <td>NaN</td>\n",
       "      <td>NaN</td>\n",
       "      <td>NaN</td>\n",
       "      <td>NaN</td>\n",
       "      <td>NaN</td>\n",
       "      <td></td>\n",
       "      <td>click: QuantCast</td>\n",
       "      <td>NaN</td>\n",
       "    </tr>\n",
       "    <tr>\n",
       "      <th>2</th>\n",
       "      <td>1490969409208755</td>\n",
       "      <td>AMsySZbyH3iw4NUZ-TZoCia-_fQ7</td>\n",
       "      <td>1695745</td>\n",
       "      <td>NaN</td>\n",
       "      <td>2017-03-31</td>\n",
       "      <td>QuantCast</td>\n",
       "      <td>NaN</td>\n",
       "      <td>NaN</td>\n",
       "      <td>NaN</td>\n",
       "      <td>NaN</td>\n",
       "      <td>NaN</td>\n",
       "      <td>NaN</td>\n",
       "      <td></td>\n",
       "      <td>click: QuantCast</td>\n",
       "      <td>NaN</td>\n",
       "    </tr>\n",
       "    <tr>\n",
       "      <th>...</th>\n",
       "      <td>...</td>\n",
       "      <td>...</td>\n",
       "      <td>...</td>\n",
       "      <td>...</td>\n",
       "      <td>...</td>\n",
       "      <td>...</td>\n",
       "      <td>...</td>\n",
       "      <td>...</td>\n",
       "      <td>...</td>\n",
       "      <td>...</td>\n",
       "      <td>...</td>\n",
       "      <td>...</td>\n",
       "      <td>...</td>\n",
       "      <td>...</td>\n",
       "      <td>...</td>\n",
       "    </tr>\n",
       "    <tr>\n",
       "      <th>141262</th>\n",
       "      <td>1502855931488876</td>\n",
       "      <td>AMsySZabKw6hZJkJzLuQIJoS_kM2</td>\n",
       "      <td>1234535</td>\n",
       "      <td>19878876612</td>\n",
       "      <td>2017-08-15</td>\n",
       "      <td>DART Search : Google</td>\n",
       "      <td>NaN</td>\n",
       "      <td>NaN</td>\n",
       "      <td>NaN</td>\n",
       "      <td>NaN</td>\n",
       "      <td>NaN</td>\n",
       "      <td>NaN</td>\n",
       "      <td></td>\n",
       "      <td>click: DART Search : Google</td>\n",
       "      <td>1.203333</td>\n",
       "    </tr>\n",
       "    <tr>\n",
       "      <th>141263</th>\n",
       "      <td>1502855243083630</td>\n",
       "      <td>AMsySZZ1movmk7onzi-ZtZwWtkrO</td>\n",
       "      <td>1234535</td>\n",
       "      <td>19839135300</td>\n",
       "      <td>2017-08-15</td>\n",
       "      <td>DART Search : Google</td>\n",
       "      <td>19839135300</td>\n",
       "      <td>+callaway +golf +shoes</td>\n",
       "      <td>43700019839135300</td>\n",
       "      <td>G_Brand_Callaway Apparel_ Shoes _ EST-2773</td>\n",
       "      <td>General - BMM</td>\n",
       "      <td>BROAD</td>\n",
       "      <td>branded_</td>\n",
       "      <td>branded_click: DART Search : Google</td>\n",
       "      <td>1.171538</td>\n",
       "    </tr>\n",
       "    <tr>\n",
       "      <th>141264</th>\n",
       "      <td>1502854557585647</td>\n",
       "      <td>AMsySZZnRXr2xO5oY4BUWfMTHaPV</td>\n",
       "      <td>3446099</td>\n",
       "      <td>NaN</td>\n",
       "      <td>2017-08-15</td>\n",
       "      <td>Criteo</td>\n",
       "      <td>NaN</td>\n",
       "      <td>NaN</td>\n",
       "      <td>NaN</td>\n",
       "      <td>NaN</td>\n",
       "      <td>NaN</td>\n",
       "      <td>NaN</td>\n",
       "      <td></td>\n",
       "      <td>click: Criteo</td>\n",
       "      <td>NaN</td>\n",
       "    </tr>\n",
       "  </tbody>\n",
       "</table>\n",
       "<p>141265 rows × 15 columns</p>\n",
       "</div>"
      ],
      "text/plain": [
       "              Event Time                       User ID  Site ID (DCM)  \\\n",
       "0       1490902299891058  AMsySZaTfbByUHA4eFC-oaXSEcel        1695745   \n",
       "1       1490969647208748  AMsySZagAWzbVDPRBTEAXJN7YQ7s        1695745   \n",
       "2       1490969409208755  AMsySZbyH3iw4NUZ-TZoCia-_fQ7        1695745   \n",
       "...                  ...                           ...            ...   \n",
       "141262  1502855931488876  AMsySZabKw6hZJkJzLuQIJoS_kM2        1234535   \n",
       "141263  1502855243083630  AMsySZZ1movmk7onzi-ZtZwWtkrO        1234535   \n",
       "141264  1502854557585647  AMsySZZnRXr2xO5oY4BUWfMTHaPV        3446099   \n",
       "\n",
       "       Segment Value 1        date            Site (DCM)  \\\n",
       "0                  NaN  2017-03-30             QuantCast   \n",
       "1                  NaN  2017-03-31             QuantCast   \n",
       "2                  NaN  2017-03-31             QuantCast   \n",
       "...                ...         ...                   ...   \n",
       "141262     19878876612  2017-08-15  DART Search : Google   \n",
       "141263     19839135300  2017-08-15  DART Search : Google   \n",
       "141264             NaN  2017-08-15                Criteo   \n",
       "\n",
       "       Paid Search Legacy Keyword ID     Paid Search Keyword  \\\n",
       "0                                NaN                     NaN   \n",
       "1                                NaN                     NaN   \n",
       "2                                NaN                     NaN   \n",
       "...                              ...                     ...   \n",
       "141262                           NaN                     NaN   \n",
       "141263                   19839135300  +callaway +golf +shoes   \n",
       "141264                           NaN                     NaN   \n",
       "\n",
       "       Paid Search Keyword ID                        Paid Search Campaign  \\\n",
       "0                         NaN                                         NaN   \n",
       "1                         NaN                                         NaN   \n",
       "2                         NaN                                         NaN   \n",
       "...                       ...                                         ...   \n",
       "141262                    NaN                                         NaN   \n",
       "141263      43700019839135300  G_Brand_Callaway Apparel_ Shoes _ EST-2773   \n",
       "141264                    NaN                                         NaN   \n",
       "\n",
       "       Paid Search Ad Group Paid Search Match Type brand_or_non  \\\n",
       "0                       NaN                    NaN                \n",
       "1                       NaN                    NaN                \n",
       "2                       NaN                    NaN                \n",
       "...                     ...                    ...          ...   \n",
       "141262                  NaN                    NaN                \n",
       "141263        General - BMM                  BROAD     branded_   \n",
       "141264                  NaN                    NaN                \n",
       "\n",
       "                               activity_cat       cpc  \n",
       "0                          click: QuantCast       NaN  \n",
       "1                          click: QuantCast       NaN  \n",
       "2                          click: QuantCast       NaN  \n",
       "...                                     ...       ...  \n",
       "141262          click: DART Search : Google  1.203333  \n",
       "141263  branded_click: DART Search : Google  1.171538  \n",
       "141264                        click: Criteo       NaN  \n",
       "\n",
       "[141265 rows x 15 columns]"
      ]
     },
     "execution_count": 68,
     "metadata": {},
     "output_type": "execute_result"
    }
   ],
   "source": [
    "click.set_value(click[(click['Site (DCM)']=='Facebook') & (click['date']<'2017-04-30')].index, \n",
    "                'cpc', 0.35272123932245797)"
   ]
  },
  {
   "cell_type": "code",
   "execution_count": 70,
   "metadata": {
    "collapsed": true
   },
   "outputs": [],
   "source": [
    "click.to_csv('/home/jubauser1/jzou/dcm_account7252/results/click_callaway_5_campaigns_with_cost.csv', index=False)"
   ]
  },
  {
   "cell_type": "code",
   "execution_count": 5,
   "metadata": {
    "collapsed": true
   },
   "outputs": [],
   "source": [
    "click = pd.read_csv('/home/jubauser1/jzou/dcm_account7252/results/click_callaway_5_campaigns_with_cost.csv')"
   ]
  },
  {
   "cell_type": "markdown",
   "metadata": {},
   "source": [
    "# impression"
   ]
  },
  {
   "cell_type": "code",
   "execution_count": 3,
   "metadata": {
    "collapsed": true
   },
   "outputs": [],
   "source": [
    "columns_impr = ['Campaign ID', 'Event Time', 'User ID', 'Site ID (DCM)', \n",
    "                'DBM Media Cost (USD)', 'DBM Revenue (USD)',\n",
    "                'DBM Total Media Cost (USD)', 'DBM Billable Cost (USD)']\n",
    "dtype_impr = {'Campaign ID': int, 'Event Time': int, 'User ID': str, 'Site ID (DCM)': int,\n",
    "              'DBM Media Cost (USD)': int, 'DBM Revenue (USD)': int,\n",
    "              'DBM Total Media Cost (USD)': int, 'DBM Billable Cost (USD)': int}\n",
    "\n",
    "impression = pd.read_csv('/home/jubauser1/jzou/dcm_account7252/results/impression_callaway_5_campaigns_reduced.csv',\n",
    "                         usecols=columns_impr, \n",
    "                         dtype=dtype_impr\n",
    "                        )"
   ]
  },
  {
   "cell_type": "code",
   "execution_count": 4,
   "metadata": {
    "scrolled": true
   },
   "outputs": [
    {
     "data": {
      "text/html": [
       "<div>\n",
       "<style>\n",
       "    .dataframe thead tr:only-child th {\n",
       "        text-align: right;\n",
       "    }\n",
       "\n",
       "    .dataframe thead th {\n",
       "        text-align: left;\n",
       "    }\n",
       "\n",
       "    .dataframe tbody tr th {\n",
       "        vertical-align: top;\n",
       "    }\n",
       "</style>\n",
       "<table border=\"1\" class=\"dataframe\">\n",
       "  <thead>\n",
       "    <tr style=\"text-align: right;\">\n",
       "      <th></th>\n",
       "      <th>Campaign ID</th>\n",
       "      <th>DBM Billable Cost (USD)</th>\n",
       "      <th>DBM Media Cost (USD)</th>\n",
       "      <th>DBM Revenue (USD)</th>\n",
       "      <th>DBM Total Media Cost (USD)</th>\n",
       "      <th>Event Time</th>\n",
       "      <th>Site ID (DCM)</th>\n",
       "      <th>User ID</th>\n",
       "      <th>Site (DCM)</th>\n",
       "      <th>activity_cat</th>\n",
       "      <th>date</th>\n",
       "    </tr>\n",
       "  </thead>\n",
       "  <tbody>\n",
       "    <tr>\n",
       "      <th>0</th>\n",
       "      <td>11222752</td>\n",
       "      <td>0</td>\n",
       "      <td>0</td>\n",
       "      <td>0</td>\n",
       "      <td>0</td>\n",
       "      <td>1490974787250049</td>\n",
       "      <td>1695745</td>\n",
       "      <td>AMsySZYCihuTC9doIqCbWK9sjhIm</td>\n",
       "      <td>QuantCast</td>\n",
       "      <td>impr: QuantCast</td>\n",
       "      <td>2017-03-31</td>\n",
       "    </tr>\n",
       "    <tr>\n",
       "      <th>1</th>\n",
       "      <td>11222752</td>\n",
       "      <td>0</td>\n",
       "      <td>0</td>\n",
       "      <td>0</td>\n",
       "      <td>0</td>\n",
       "      <td>1490974738277507</td>\n",
       "      <td>1695745</td>\n",
       "      <td>AMsySZZ-hB0xKXlxMDSs37YP7Q8o</td>\n",
       "      <td>QuantCast</td>\n",
       "      <td>impr: QuantCast</td>\n",
       "      <td>2017-03-31</td>\n",
       "    </tr>\n",
       "    <tr>\n",
       "      <th>2</th>\n",
       "      <td>11222752</td>\n",
       "      <td>0</td>\n",
       "      <td>0</td>\n",
       "      <td>0</td>\n",
       "      <td>0</td>\n",
       "      <td>1490973683656069</td>\n",
       "      <td>1695745</td>\n",
       "      <td>AMsySZY49kkJwdR8ITeGasKc5uiQ</td>\n",
       "      <td>QuantCast</td>\n",
       "      <td>impr: QuantCast</td>\n",
       "      <td>2017-03-31</td>\n",
       "    </tr>\n",
       "    <tr>\n",
       "      <th>...</th>\n",
       "      <td>...</td>\n",
       "      <td>...</td>\n",
       "      <td>...</td>\n",
       "      <td>...</td>\n",
       "      <td>...</td>\n",
       "      <td>...</td>\n",
       "      <td>...</td>\n",
       "      <td>...</td>\n",
       "      <td>...</td>\n",
       "      <td>...</td>\n",
       "      <td>...</td>\n",
       "    </tr>\n",
       "    <tr>\n",
       "      <th>8823205</th>\n",
       "      <td>20073454</td>\n",
       "      <td>0</td>\n",
       "      <td>0</td>\n",
       "      <td>0</td>\n",
       "      <td>0</td>\n",
       "      <td>1502855373165195</td>\n",
       "      <td>1695745</td>\n",
       "      <td>AMsySZaBEqGWjARG8ExYr3168HpH</td>\n",
       "      <td>QuantCast</td>\n",
       "      <td>impr: QuantCast</td>\n",
       "      <td>2017-08-15</td>\n",
       "    </tr>\n",
       "    <tr>\n",
       "      <th>8823206</th>\n",
       "      <td>20073454</td>\n",
       "      <td>0</td>\n",
       "      <td>0</td>\n",
       "      <td>0</td>\n",
       "      <td>0</td>\n",
       "      <td>1502855907646410</td>\n",
       "      <td>1695745</td>\n",
       "      <td>AMsySZZf8V8S9ehxOMnhI3pKQpJ8</td>\n",
       "      <td>QuantCast</td>\n",
       "      <td>impr: QuantCast</td>\n",
       "      <td>2017-08-15</td>\n",
       "    </tr>\n",
       "    <tr>\n",
       "      <th>8823207</th>\n",
       "      <td>20073454</td>\n",
       "      <td>0</td>\n",
       "      <td>0</td>\n",
       "      <td>0</td>\n",
       "      <td>0</td>\n",
       "      <td>1502853679008068</td>\n",
       "      <td>1695745</td>\n",
       "      <td>AMsySZbYTbW6NSpGqf7dTejWdQlH</td>\n",
       "      <td>QuantCast</td>\n",
       "      <td>impr: QuantCast</td>\n",
       "      <td>2017-08-15</td>\n",
       "    </tr>\n",
       "  </tbody>\n",
       "</table>\n",
       "<p>8822646 rows × 11 columns</p>\n",
       "</div>"
      ],
      "text/plain": [
       "         Campaign ID  DBM Billable Cost (USD)  DBM Media Cost (USD)  \\\n",
       "0           11222752                        0                     0   \n",
       "1           11222752                        0                     0   \n",
       "2           11222752                        0                     0   \n",
       "...              ...                      ...                   ...   \n",
       "8823205     20073454                        0                     0   \n",
       "8823206     20073454                        0                     0   \n",
       "8823207     20073454                        0                     0   \n",
       "\n",
       "         DBM Revenue (USD)  DBM Total Media Cost (USD)        Event Time  \\\n",
       "0                        0                           0  1490974787250049   \n",
       "1                        0                           0  1490974738277507   \n",
       "2                        0                           0  1490973683656069   \n",
       "...                    ...                         ...               ...   \n",
       "8823205                  0                           0  1502855373165195   \n",
       "8823206                  0                           0  1502855907646410   \n",
       "8823207                  0                           0  1502853679008068   \n",
       "\n",
       "         Site ID (DCM)                       User ID Site (DCM)  \\\n",
       "0              1695745  AMsySZYCihuTC9doIqCbWK9sjhIm  QuantCast   \n",
       "1              1695745  AMsySZZ-hB0xKXlxMDSs37YP7Q8o  QuantCast   \n",
       "2              1695745  AMsySZY49kkJwdR8ITeGasKc5uiQ  QuantCast   \n",
       "...                ...                           ...        ...   \n",
       "8823205        1695745  AMsySZaBEqGWjARG8ExYr3168HpH  QuantCast   \n",
       "8823206        1695745  AMsySZZf8V8S9ehxOMnhI3pKQpJ8  QuantCast   \n",
       "8823207        1695745  AMsySZbYTbW6NSpGqf7dTejWdQlH  QuantCast   \n",
       "\n",
       "            activity_cat        date  \n",
       "0        impr: QuantCast  2017-03-31  \n",
       "1        impr: QuantCast  2017-03-31  \n",
       "2        impr: QuantCast  2017-03-31  \n",
       "...                  ...         ...  \n",
       "8823205  impr: QuantCast  2017-08-15  \n",
       "8823206  impr: QuantCast  2017-08-15  \n",
       "8823207  impr: QuantCast  2017-08-15  \n",
       "\n",
       "[8822646 rows x 11 columns]"
      ]
     },
     "execution_count": 4,
     "metadata": {},
     "output_type": "execute_result"
    }
   ],
   "source": [
    "impression = impression[impression['User ID'] != '0']\n",
    "\n",
    "impression = impression.merge(sites[['Site ID (DCM)', 'Site (DCM)']], on='Site ID (DCM)', how='left')\n",
    "\n",
    "impression['activity_cat'] = 'impr: '+impression['Site (DCM)']\n",
    "\n",
    "impression['date'] = impression['Event Time'].apply(\n",
    "    lambda x: datetime.datetime.fromtimestamp(x/1000000).strftime('%Y-%m-%d'))\n",
    "impression = impression[impression['date'] <= '2017-08-15']\n",
    "\n",
    "impression"
   ]
  },
  {
   "cell_type": "markdown",
   "metadata": {},
   "source": [
    "### est_impr_cost"
   ]
  },
  {
   "cell_type": "code",
   "execution_count": 5,
   "metadata": {
    "collapsed": true
   },
   "outputs": [],
   "source": [
    "impr_cost = pd.read_csv('/home/jubauser1/jzou/dcm_account7252/user_path/cost_outer_source/Copy of Callaway Costs Daily.csv')"
   ]
  },
  {
   "cell_type": "code",
   "execution_count": 6,
   "metadata": {
    "collapsed": true
   },
   "outputs": [],
   "source": [
    "impr_cost['date'] = impr_cost['Date'].apply(lambda x: datetime.datetime.strptime(x,'%m/%d/%Y').strftime('%Y-%m-%d'))"
   ]
  },
  {
   "cell_type": "code",
   "execution_count": 28,
   "metadata": {},
   "outputs": [
    {
     "data": {
      "text/plain": [
       "Index(['Date', 'Rakuten Marketing Index', 'Criteo', 'QuantCast', 'date'], dtype='object')"
      ]
     },
     "execution_count": 28,
     "metadata": {},
     "output_type": "execute_result"
    }
   ],
   "source": [
    "impr_cost.columns"
   ]
  },
  {
   "cell_type": "code",
   "execution_count": 24,
   "metadata": {
    "collapsed": true
   },
   "outputs": [],
   "source": [
    "impr_cost.rename(columns={'Rakuten Spend': 'Rakuten Marketing Index', \n",
    "                          'Criteo Spend ': 'Criteo', \n",
    "                          'Quancast Spend ': 'QuantCast'},\n",
    "                inplace=True)"
   ]
  },
  {
   "cell_type": "code",
   "execution_count": null,
   "metadata": {
    "collapsed": true
   },
   "outputs": [],
   "source": []
  },
  {
   "cell_type": "code",
   "execution_count": 29,
   "metadata": {
    "collapsed": true
   },
   "outputs": [],
   "source": [
    "l = list()\n",
    "for i in impr_cost.index:\n",
    "    date = impr_cost.loc[i, 'date']\n",
    "    for s in ['Rakuten Marketing Index', 'Criteo', 'QuantCast']:\n",
    "        d = {\n",
    "            'Site (DCM)': s,\n",
    "            'date': date,\n",
    "            'cost': impr_cost.loc[i, s]\n",
    "        }\n",
    "        l.append(d)"
   ]
  },
  {
   "cell_type": "code",
   "execution_count": 31,
   "metadata": {},
   "outputs": [
    {
     "data": {
      "text/html": [
       "<div>\n",
       "<style>\n",
       "    .dataframe thead tr:only-child th {\n",
       "        text-align: right;\n",
       "    }\n",
       "\n",
       "    .dataframe thead th {\n",
       "        text-align: left;\n",
       "    }\n",
       "\n",
       "    .dataframe tbody tr th {\n",
       "        vertical-align: top;\n",
       "    }\n",
       "</style>\n",
       "<table border=\"1\" class=\"dataframe\">\n",
       "  <thead>\n",
       "    <tr style=\"text-align: right;\">\n",
       "      <th></th>\n",
       "      <th>Site (DCM)</th>\n",
       "      <th>cost</th>\n",
       "      <th>date</th>\n",
       "    </tr>\n",
       "  </thead>\n",
       "  <tbody>\n",
       "    <tr>\n",
       "      <th>0</th>\n",
       "      <td>Rakuten Marketing Index</td>\n",
       "      <td>0.00</td>\n",
       "      <td>2017-04-03</td>\n",
       "    </tr>\n",
       "    <tr>\n",
       "      <th>1</th>\n",
       "      <td>Criteo</td>\n",
       "      <td>52.77</td>\n",
       "      <td>2017-04-03</td>\n",
       "    </tr>\n",
       "    <tr>\n",
       "      <th>2</th>\n",
       "      <td>QuantCast</td>\n",
       "      <td>56.00</td>\n",
       "      <td>2017-04-03</td>\n",
       "    </tr>\n",
       "    <tr>\n",
       "      <th>...</th>\n",
       "      <td>...</td>\n",
       "      <td>...</td>\n",
       "      <td>...</td>\n",
       "    </tr>\n",
       "    <tr>\n",
       "      <th>501</th>\n",
       "      <td>Rakuten Marketing Index</td>\n",
       "      <td>0.00</td>\n",
       "      <td>2017-09-17</td>\n",
       "    </tr>\n",
       "    <tr>\n",
       "      <th>502</th>\n",
       "      <td>Criteo</td>\n",
       "      <td>0.00</td>\n",
       "      <td>2017-09-17</td>\n",
       "    </tr>\n",
       "    <tr>\n",
       "      <th>503</th>\n",
       "      <td>QuantCast</td>\n",
       "      <td>60.35</td>\n",
       "      <td>2017-09-17</td>\n",
       "    </tr>\n",
       "  </tbody>\n",
       "</table>\n",
       "<p>504 rows × 3 columns</p>\n",
       "</div>"
      ],
      "text/plain": [
       "                  Site (DCM)   cost        date\n",
       "0    Rakuten Marketing Index   0.00  2017-04-03\n",
       "1                     Criteo  52.77  2017-04-03\n",
       "2                  QuantCast  56.00  2017-04-03\n",
       "..                       ...    ...         ...\n",
       "501  Rakuten Marketing Index   0.00  2017-09-17\n",
       "502                   Criteo   0.00  2017-09-17\n",
       "503                QuantCast  60.35  2017-09-17\n",
       "\n",
       "[504 rows x 3 columns]"
      ]
     },
     "execution_count": 31,
     "metadata": {},
     "output_type": "execute_result"
    }
   ],
   "source": [
    "pd.DataFrame(l)"
   ]
  },
  {
   "cell_type": "code",
   "execution_count": 13,
   "metadata": {
    "collapsed": true
   },
   "outputs": [],
   "source": [
    "impr_by_site_by_date = impression.groupby(['Site (DCM)', 'date']).apply(len)\n",
    "\n",
    "impr_by_site_by_date.name = 'impressions'\n",
    "\n",
    "impr_by_site_by_date = impr_by_site_by_date.reset_index()"
   ]
  },
  {
   "cell_type": "code",
   "execution_count": 34,
   "metadata": {
    "collapsed": true
   },
   "outputs": [],
   "source": [
    "impr_by_site_by_date = impr_by_site_by_date.merge(pd.DataFrame(l), on=['Site (DCM)', 'date'], how='left')"
   ]
  },
  {
   "cell_type": "code",
   "execution_count": 35,
   "metadata": {
    "collapsed": true
   },
   "outputs": [],
   "source": [
    "impr_by_site_by_date['cpm'] = impr_by_site_by_date['cost']/impr_by_site_by_date['impressions']"
   ]
  },
  {
   "cell_type": "code",
   "execution_count": 36,
   "metadata": {},
   "outputs": [
    {
     "data": {
      "text/html": [
       "<div>\n",
       "<style>\n",
       "    .dataframe thead tr:only-child th {\n",
       "        text-align: right;\n",
       "    }\n",
       "\n",
       "    .dataframe thead th {\n",
       "        text-align: left;\n",
       "    }\n",
       "\n",
       "    .dataframe tbody tr th {\n",
       "        vertical-align: top;\n",
       "    }\n",
       "</style>\n",
       "<table border=\"1\" class=\"dataframe\">\n",
       "  <thead>\n",
       "    <tr style=\"text-align: right;\">\n",
       "      <th></th>\n",
       "      <th>Site (DCM)</th>\n",
       "      <th>date</th>\n",
       "      <th>impressions</th>\n",
       "      <th>cost</th>\n",
       "      <th>cpm</th>\n",
       "    </tr>\n",
       "  </thead>\n",
       "  <tbody>\n",
       "    <tr>\n",
       "      <th>0</th>\n",
       "      <td>Criteo</td>\n",
       "      <td>2017-04-03</td>\n",
       "      <td>14582</td>\n",
       "      <td>52.77</td>\n",
       "      <td>0.003619</td>\n",
       "    </tr>\n",
       "    <tr>\n",
       "      <th>1</th>\n",
       "      <td>Criteo</td>\n",
       "      <td>2017-04-04</td>\n",
       "      <td>255</td>\n",
       "      <td>0.33</td>\n",
       "      <td>0.001294</td>\n",
       "    </tr>\n",
       "    <tr>\n",
       "      <th>2</th>\n",
       "      <td>Criteo</td>\n",
       "      <td>2017-04-05</td>\n",
       "      <td>4</td>\n",
       "      <td>0.00</td>\n",
       "      <td>0.000000</td>\n",
       "    </tr>\n",
       "    <tr>\n",
       "      <th>...</th>\n",
       "      <td>...</td>\n",
       "      <td>...</td>\n",
       "      <td>...</td>\n",
       "      <td>...</td>\n",
       "      <td>...</td>\n",
       "    </tr>\n",
       "    <tr>\n",
       "      <th>260</th>\n",
       "      <td>QuantCast</td>\n",
       "      <td>2017-08-13</td>\n",
       "      <td>77447</td>\n",
       "      <td>295.28</td>\n",
       "      <td>0.003813</td>\n",
       "    </tr>\n",
       "    <tr>\n",
       "      <th>261</th>\n",
       "      <td>QuantCast</td>\n",
       "      <td>2017-08-14</td>\n",
       "      <td>78281</td>\n",
       "      <td>298.56</td>\n",
       "      <td>0.003814</td>\n",
       "    </tr>\n",
       "    <tr>\n",
       "      <th>262</th>\n",
       "      <td>QuantCast</td>\n",
       "      <td>2017-08-15</td>\n",
       "      <td>73770</td>\n",
       "      <td>280.87</td>\n",
       "      <td>0.003807</td>\n",
       "    </tr>\n",
       "  </tbody>\n",
       "</table>\n",
       "<p>263 rows × 5 columns</p>\n",
       "</div>"
      ],
      "text/plain": [
       "    Site (DCM)        date  impressions    cost       cpm\n",
       "0       Criteo  2017-04-03        14582   52.77  0.003619\n",
       "1       Criteo  2017-04-04          255    0.33  0.001294\n",
       "2       Criteo  2017-04-05            4    0.00  0.000000\n",
       "..         ...         ...          ...     ...       ...\n",
       "260  QuantCast  2017-08-13        77447  295.28  0.003813\n",
       "261  QuantCast  2017-08-14        78281  298.56  0.003814\n",
       "262  QuantCast  2017-08-15        73770  280.87  0.003807\n",
       "\n",
       "[263 rows x 5 columns]"
      ]
     },
     "execution_count": 36,
     "metadata": {},
     "output_type": "execute_result"
    }
   ],
   "source": [
    "impr_by_site_by_date"
   ]
  },
  {
   "cell_type": "code",
   "execution_count": 38,
   "metadata": {
    "collapsed": true
   },
   "outputs": [],
   "source": [
    "impression = impression.merge(impr_by_site_by_date, on=['Site (DCM)', 'date'], how='left')"
   ]
  },
  {
   "cell_type": "code",
   "execution_count": 39,
   "metadata": {
    "collapsed": true
   },
   "outputs": [],
   "source": [
    "impression.to_csv('/home/jubauser1/jzou/dcm_account7252/results/impression_callaway_5_campaigns_reduced_with_cost.csv', \n",
    "                  index=False)"
   ]
  },
  {
   "cell_type": "code",
   "execution_count": 6,
   "metadata": {
    "collapsed": true
   },
   "outputs": [],
   "source": [
    "impression = pd.read_csv('/home/jubauser1/jzou/dcm_account7252/results/impression_callaway_5_campaigns_reduced_with_cost.csv')"
   ]
  },
  {
   "cell_type": "markdown",
   "metadata": {},
   "source": [
    "# activity"
   ]
  },
  {
   "cell_type": "code",
   "execution_count": 7,
   "metadata": {
    "collapsed": true
   },
   "outputs": [],
   "source": [
    "columns_activity = ['Event Time', 'User ID', 'Site ID (DCM)', 'Activity ID', \n",
    "                    'Total Conversions', 'Total Revenue']\n",
    "dtype_activity = {'Event Time': int, 'User ID': str, 'Site ID (DCM)': int, 'Activity ID': int, \n",
    "                  'Total Conversions': int}\n",
    "\n",
    "activity = pd.read_csv('/home/jubauser1/jzou/dcm_account7252/results/activity_callaway_5_campaigns.csv',\n",
    "                       usecols=columns_activity, dtype=dtype_activity)\n",
    "\n",
    "activity = activity[activity['User ID'] != '0']"
   ]
  },
  {
   "cell_type": "code",
   "execution_count": 8,
   "metadata": {
    "collapsed": true
   },
   "outputs": [],
   "source": [
    "#activity = activity.merge(ads[['Ad ID', 'Ad']], on='Ad ID', how='left')\n",
    "activity = activity.merge(sites[['Site ID (DCM)', 'Site (DCM)']], on='Site ID (DCM)', how='left')\n",
    "activity = activity.merge(activity_cats[['Activity ID', 'Activity']], on='Activity ID', how='left')\n",
    "activity = activity[activity['Activity'].str.contains('Callaway')]"
   ]
  },
  {
   "cell_type": "code",
   "execution_count": 9,
   "metadata": {
    "collapsed": true
   },
   "outputs": [],
   "source": [
    "hva1 = ['Callaway - About Us (Who We Are)',\n",
    "        'Callaway - Create Account',\n",
    "        'Callaway - Subscription (Join Our Email List)',\n",
    "        'Callaway - Subscription Success',\n",
    "        'Callaway - Log In (My Account)',\n",
    "        'Callaway - Shipping & Handling',\n",
    "        'Callaway - Shipping - All',\n",
    "        'Callaway - Shipping - Guest',\n",
    "        'Callaway - Shipping - Registered',]\n",
    "\n",
    "hva2 = ['Callaway - Big & Tall',\n",
    "        'Callaway - Clearance',\n",
    "        'Callaway - Unsubscribe - HVA 2',\n",
    "        'Callaway - Search - HVA2',\n",
    "        'Callaway - Big & Tall_Belts',\n",
    "        'Callaway - Big & Tall_Outerwear',\n",
    "        'Callaway - Big & Tall_Pants-Shorts',\n",
    "        'Callaway - Big & Tall_Polos',\n",
    "        'Callaway - Clearance_Big & Tall Clearance',\n",
    "        'Callaway - Clearance_Mens Clearance',\n",
    "        'Callaway - Clearance_Womens Clearance',\n",
    "        'Callaway - Features_Best-Sellers',\n",
    "        'Callaway - Features_Callaway X',\n",
    "        'Callaway - Features_New Arrivals',\n",
    "        'Callaway - Features_Opti-Series',\n",
    "        'Callaway - Men Golf Shoes',\n",
    "        'Callaway - Men_Belts',\n",
    "        'Callaway - Men_Outerwear',\n",
    "        'Callaway - Men_Pants',\n",
    "        'Callaway - Men_Polos',\n",
    "        'Callaway - Men_Shorts',\n",
    "        'Callaway - Men_Standard Collection',\n",
    "        'Callaway - Products - Belts',\n",
    "        'Callaway - Products - Jacket',\n",
    "        'Callaway - Products - Jackets',\n",
    "        'Callaway - Products - Men Golf Shoes',\n",
    "        'Callaway - Products - Pants',\n",
    "        'Callaway - Products - Polo',\n",
    "        'Callaway - Products - Polos',\n",
    "        'Callaway - Products - Short',\n",
    "        'Callaway - Products - Shorts',\n",
    "        'Callaway - Products - Skorts',\n",
    "        'Callaway - Products - Sweaters',\n",
    "        'Callaway - Products - Vests',\n",
    "        'Callaway - Products - Women Golf Shoes',\n",
    "        'Callaway - Women Golf Shoes',\n",
    "        'Callaway - Women_Belts',\n",
    "        'Callaway - Women_Outerwear',\n",
    "        'Callaway - Women_Pants',\n",
    "        'Callaway - Women_Polos',\n",
    "        'Callaway - Women_Skorts & Shorts',\n",
    "        'Callaway - Women_Standard Collection',\n",
    "        'Callaway  - Products - Universal',\n",
    "        'Callaway - About Us (Who We Are)',\n",
    "        'Callaway - Accessibility Statement',\n",
    "        'Callaway - Accessories_Belts',\n",
    "        'Callaway - Accessories_Hats',\n",
    "        'Callaway - Accessories_Sunglasses',\n",
    "        'Callaway - Women']\n",
    "\n",
    "hva3 = ['Callaway - Add to Cart - HVA 3',\n",
    "        'Callaway - Order Status (Orders)',\n",
    "        'Callaway - Billing_Payment',\n",
    "        'Callaway - Check Out',\n",
    "        'Callaway - Order Review',\n",
    "        'Callaway - Paypal',\n",
    "        #'Callaway - Secure Checkout',\n",
    "        'Callaway - Shipping',\n",
    "        'Callaway - Billing_Payment - All',\n",
    "        'Callaway - Billing_Payment - Guest',\n",
    "        'Callaway - Billing_Payment - Registered',\n",
    "        'Do Not Use - Callaway - Secure Checkout']\n",
    "\n",
    "transaction = [#'Callaway - Thank You Page Items Sold', \n",
    "               'Callaway - Thank You Page Transactions']\n",
    "\n",
    "activity_to_cat = dict()\n",
    "for x in hva1:\n",
    "    activity_to_cat[x] = 'HVA1'\n",
    "    \n",
    "for x in hva2:\n",
    "    activity_to_cat[x] = 'HVA2'\n",
    "\n",
    "for x in hva3:\n",
    "    activity_to_cat[x] = 'HVA3'\n",
    "    \n",
    "for x in transaction:\n",
    "    activity_to_cat[x] = 'transaction'\n",
    "\n",
    "activity['activity_cat'] = activity['Activity'].apply(lambda x : activity_to_cat.get(x, 'others'))\n",
    "\n",
    "activity['total_hva'] = activity.apply(lambda row: row['Total Conversions'] if row['activity_cat'] in {'HVA1', 'HVA2', 'HVA3'} else 0, axis=1)"
   ]
  },
  {
   "cell_type": "markdown",
   "metadata": {},
   "source": [
    "# groups"
   ]
  },
  {
   "cell_type": "code",
   "execution_count": 10,
   "metadata": {},
   "outputs": [
    {
     "data": {
      "text/plain": [
       "4736"
      ]
     },
     "execution_count": 10,
     "metadata": {},
     "output_type": "execute_result"
    }
   ],
   "source": [
    "buyers = set(activity[(activity['activity_cat'] == 'transaction') & \n",
    "                      (activity['Total Conversions'] > 0)]['User ID'])\n",
    "len(buyers)"
   ]
  },
  {
   "cell_type": "code",
   "execution_count": 11,
   "metadata": {},
   "outputs": [
    {
     "data": {
      "text/plain": [
       "5.7742297071930446"
      ]
     },
     "execution_count": 11,
     "metadata": {},
     "output_type": "execute_result"
    }
   ],
   "source": [
    "groups_by_id = activity[~activity['User ID'].isin(buyers)].groupby('User ID')\n",
    "\n",
    "hva_by_id = groups_by_id['total_hva'].sum()\n",
    "\n",
    "average_hva = hva_by_id.mean()\n",
    "average_hva"
   ]
  },
  {
   "cell_type": "code",
   "execution_count": 12,
   "metadata": {},
   "outputs": [
    {
     "data": {
      "text/plain": [
       "26278"
      ]
     },
     "execution_count": 12,
     "metadata": {},
     "output_type": "execute_result"
    }
   ],
   "source": [
    "high_engagers = set(hva_by_id[hva_by_id >= average_hva].index)\n",
    "len(high_engagers)"
   ]
  },
  {
   "cell_type": "code",
   "execution_count": 13,
   "metadata": {},
   "outputs": [
    {
     "data": {
      "text/plain": [
       "83453"
      ]
     },
     "execution_count": 13,
     "metadata": {},
     "output_type": "execute_result"
    }
   ],
   "source": [
    "low_engagers = set(hva_by_id[(hva_by_id < average_hva)\n",
    "                             #& (hva_by_id > 0)\n",
    "                            ].index)\n",
    "len(low_engagers)"
   ]
  },
  {
   "cell_type": "markdown",
   "metadata": {},
   "source": [
    "# impression and click by group"
   ]
  },
  {
   "cell_type": "code",
   "execution_count": 14,
   "metadata": {
    "collapsed": true
   },
   "outputs": [],
   "source": [
    "impression['cost'] = impression['cpm']\n",
    "click['cost'] = click['cpc']\n",
    "activity['cost'] = None\n",
    "impression['revenue'] = None\n",
    "click['revenue'] = None\n",
    "activity['revenue'] = activity['Total Revenue'] * 1000000"
   ]
  },
  {
   "cell_type": "code",
   "execution_count": 15,
   "metadata": {
    "collapsed": true
   },
   "outputs": [],
   "source": [
    "activity = activity[activity['activity_cat']!='others']"
   ]
  },
  {
   "cell_type": "code",
   "execution_count": 16,
   "metadata": {
    "collapsed": true
   },
   "outputs": [],
   "source": [
    "merged_columns = ['Event Time', 'User ID', 'activity_cat', 'cost', 'revenue']\n",
    "merged = impression[merged_columns].append(click[merged_columns], ignore_index=True)\n",
    "merged = merged.append(activity[merged_columns], ignore_index=True)\n",
    "merged.sort_values(by='Event Time', inplace=True)\n",
    "\n",
    "merged.reset_index(inplace=True, drop=True)"
   ]
  },
  {
   "cell_type": "code",
   "execution_count": 17,
   "metadata": {},
   "outputs": [
    {
     "data": {
      "text/html": [
       "<div>\n",
       "<style>\n",
       "    .dataframe thead tr:only-child th {\n",
       "        text-align: right;\n",
       "    }\n",
       "\n",
       "    .dataframe thead th {\n",
       "        text-align: left;\n",
       "    }\n",
       "\n",
       "    .dataframe tbody tr th {\n",
       "        vertical-align: top;\n",
       "    }\n",
       "</style>\n",
       "<table border=\"1\" class=\"dataframe\">\n",
       "  <thead>\n",
       "    <tr style=\"text-align: right;\">\n",
       "      <th></th>\n",
       "      <th>Event Time</th>\n",
       "      <th>User ID</th>\n",
       "      <th>activity_cat</th>\n",
       "      <th>cost</th>\n",
       "      <th>revenue</th>\n",
       "    </tr>\n",
       "  </thead>\n",
       "  <tbody>\n",
       "    <tr>\n",
       "      <th>0</th>\n",
       "      <td>1490902299891058</td>\n",
       "      <td>AMsySZaTfbByUHA4eFC-oaXSEcel</td>\n",
       "      <td>click: QuantCast</td>\n",
       "      <td>NaN</td>\n",
       "      <td>None</td>\n",
       "    </tr>\n",
       "    <tr>\n",
       "      <th>1</th>\n",
       "      <td>1490969409208755</td>\n",
       "      <td>AMsySZbyH3iw4NUZ-TZoCia-_fQ7</td>\n",
       "      <td>click: QuantCast</td>\n",
       "      <td>NaN</td>\n",
       "      <td>None</td>\n",
       "    </tr>\n",
       "    <tr>\n",
       "      <th>2</th>\n",
       "      <td>1490969529196517</td>\n",
       "      <td>AMsySZbCkYLEzuC2-R0IJyWJh51l</td>\n",
       "      <td>click: QuantCast</td>\n",
       "      <td>NaN</td>\n",
       "      <td>None</td>\n",
       "    </tr>\n",
       "    <tr>\n",
       "      <th>...</th>\n",
       "      <td>...</td>\n",
       "      <td>...</td>\n",
       "      <td>...</td>\n",
       "      <td>...</td>\n",
       "      <td>...</td>\n",
       "    </tr>\n",
       "    <tr>\n",
       "      <th>9878709</th>\n",
       "      <td>1504497596191373</td>\n",
       "      <td>AMsySZYqOIi_FMhRk1cWNHS1gB-O</td>\n",
       "      <td>HVA2</td>\n",
       "      <td>NaN</td>\n",
       "      <td>0</td>\n",
       "    </tr>\n",
       "    <tr>\n",
       "      <th>9878710</th>\n",
       "      <td>1504497596212905</td>\n",
       "      <td>AMsySZYqOIi_FMhRk1cWNHS1gB-O</td>\n",
       "      <td>HVA2</td>\n",
       "      <td>NaN</td>\n",
       "      <td>0</td>\n",
       "    </tr>\n",
       "    <tr>\n",
       "      <th>9878711</th>\n",
       "      <td>1504497599912465</td>\n",
       "      <td>AMsySZaAToWbFircoFIR0y8Ipxhd</td>\n",
       "      <td>HVA2</td>\n",
       "      <td>NaN</td>\n",
       "      <td>0</td>\n",
       "    </tr>\n",
       "  </tbody>\n",
       "</table>\n",
       "<p>9878712 rows × 5 columns</p>\n",
       "</div>"
      ],
      "text/plain": [
       "               Event Time                       User ID      activity_cat  \\\n",
       "0        1490902299891058  AMsySZaTfbByUHA4eFC-oaXSEcel  click: QuantCast   \n",
       "1        1490969409208755  AMsySZbyH3iw4NUZ-TZoCia-_fQ7  click: QuantCast   \n",
       "2        1490969529196517  AMsySZbCkYLEzuC2-R0IJyWJh51l  click: QuantCast   \n",
       "...                   ...                           ...               ...   \n",
       "9878709  1504497596191373  AMsySZYqOIi_FMhRk1cWNHS1gB-O              HVA2   \n",
       "9878710  1504497596212905  AMsySZYqOIi_FMhRk1cWNHS1gB-O              HVA2   \n",
       "9878711  1504497599912465  AMsySZaAToWbFircoFIR0y8Ipxhd              HVA2   \n",
       "\n",
       "         cost revenue  \n",
       "0         NaN    None  \n",
       "1         NaN    None  \n",
       "2         NaN    None  \n",
       "...       ...     ...  \n",
       "9878709   NaN       0  \n",
       "9878710   NaN       0  \n",
       "9878711   NaN       0  \n",
       "\n",
       "[9878712 rows x 5 columns]"
      ]
     },
     "execution_count": 17,
     "metadata": {},
     "output_type": "execute_result"
    }
   ],
   "source": [
    "merged"
   ]
  },
  {
   "cell_type": "code",
   "execution_count": 18,
   "metadata": {},
   "outputs": [
    {
     "data": {
      "text/html": [
       "<div>\n",
       "<style>\n",
       "    .dataframe thead tr:only-child th {\n",
       "        text-align: right;\n",
       "    }\n",
       "\n",
       "    .dataframe thead th {\n",
       "        text-align: left;\n",
       "    }\n",
       "\n",
       "    .dataframe tbody tr th {\n",
       "        vertical-align: top;\n",
       "    }\n",
       "</style>\n",
       "<table border=\"1\" class=\"dataframe\">\n",
       "  <thead>\n",
       "    <tr style=\"text-align: right;\">\n",
       "      <th></th>\n",
       "      <th>Event Time</th>\n",
       "      <th>User ID</th>\n",
       "      <th>activity_cat</th>\n",
       "      <th>cost</th>\n",
       "      <th>revenue</th>\n",
       "      <th>group</th>\n",
       "    </tr>\n",
       "  </thead>\n",
       "  <tbody>\n",
       "    <tr>\n",
       "      <th>0</th>\n",
       "      <td>1490902299891058</td>\n",
       "      <td>AMsySZaTfbByUHA4eFC-oaXSEcel</td>\n",
       "      <td>click: QuantCast</td>\n",
       "      <td>NaN</td>\n",
       "      <td>None</td>\n",
       "      <td>3</td>\n",
       "    </tr>\n",
       "    <tr>\n",
       "      <th>1</th>\n",
       "      <td>1490969409208755</td>\n",
       "      <td>AMsySZbyH3iw4NUZ-TZoCia-_fQ7</td>\n",
       "      <td>click: QuantCast</td>\n",
       "      <td>NaN</td>\n",
       "      <td>None</td>\n",
       "      <td>4</td>\n",
       "    </tr>\n",
       "    <tr>\n",
       "      <th>2</th>\n",
       "      <td>1490969529196517</td>\n",
       "      <td>AMsySZbCkYLEzuC2-R0IJyWJh51l</td>\n",
       "      <td>click: QuantCast</td>\n",
       "      <td>NaN</td>\n",
       "      <td>None</td>\n",
       "      <td>4</td>\n",
       "    </tr>\n",
       "    <tr>\n",
       "      <th>...</th>\n",
       "      <td>...</td>\n",
       "      <td>...</td>\n",
       "      <td>...</td>\n",
       "      <td>...</td>\n",
       "      <td>...</td>\n",
       "      <td>...</td>\n",
       "    </tr>\n",
       "    <tr>\n",
       "      <th>9878709</th>\n",
       "      <td>1504497596191373</td>\n",
       "      <td>AMsySZYqOIi_FMhRk1cWNHS1gB-O</td>\n",
       "      <td>HVA2</td>\n",
       "      <td>NaN</td>\n",
       "      <td>0</td>\n",
       "      <td>3</td>\n",
       "    </tr>\n",
       "    <tr>\n",
       "      <th>9878710</th>\n",
       "      <td>1504497596212905</td>\n",
       "      <td>AMsySZYqOIi_FMhRk1cWNHS1gB-O</td>\n",
       "      <td>HVA2</td>\n",
       "      <td>NaN</td>\n",
       "      <td>0</td>\n",
       "      <td>3</td>\n",
       "    </tr>\n",
       "    <tr>\n",
       "      <th>9878711</th>\n",
       "      <td>1504497599912465</td>\n",
       "      <td>AMsySZaAToWbFircoFIR0y8Ipxhd</td>\n",
       "      <td>HVA2</td>\n",
       "      <td>NaN</td>\n",
       "      <td>0</td>\n",
       "      <td>3</td>\n",
       "    </tr>\n",
       "  </tbody>\n",
       "</table>\n",
       "<p>9878712 rows × 6 columns</p>\n",
       "</div>"
      ],
      "text/plain": [
       "               Event Time                       User ID      activity_cat  \\\n",
       "0        1490902299891058  AMsySZaTfbByUHA4eFC-oaXSEcel  click: QuantCast   \n",
       "1        1490969409208755  AMsySZbyH3iw4NUZ-TZoCia-_fQ7  click: QuantCast   \n",
       "2        1490969529196517  AMsySZbCkYLEzuC2-R0IJyWJh51l  click: QuantCast   \n",
       "...                   ...                           ...               ...   \n",
       "9878709  1504497596191373  AMsySZYqOIi_FMhRk1cWNHS1gB-O              HVA2   \n",
       "9878710  1504497596212905  AMsySZYqOIi_FMhRk1cWNHS1gB-O              HVA2   \n",
       "9878711  1504497599912465  AMsySZaAToWbFircoFIR0y8Ipxhd              HVA2   \n",
       "\n",
       "         cost revenue  group  \n",
       "0         NaN    None      3  \n",
       "1         NaN    None      4  \n",
       "2         NaN    None      4  \n",
       "...       ...     ...    ...  \n",
       "9878709   NaN       0      3  \n",
       "9878710   NaN       0      3  \n",
       "9878711   NaN       0      3  \n",
       "\n",
       "[9878712 rows x 6 columns]"
      ]
     },
     "execution_count": 18,
     "metadata": {},
     "output_type": "execute_result"
    }
   ],
   "source": [
    "merged['group'] = 4\n",
    "merged.set_value(merged[merged['User ID'].isin(buyers)].index, 'group', 1)\n",
    "merged.set_value(merged[merged['User ID'].isin(high_engagers)].index, 'group', 2)\n",
    "merged.set_value(merged[merged['User ID'].isin(low_engagers)].index, 'group', 3)"
   ]
  },
  {
   "cell_type": "code",
   "execution_count": 19,
   "metadata": {
    "collapsed": true
   },
   "outputs": [],
   "source": [
    "merged.to_csv('/home/jubauser1/jzou/dcm_account7252/user_path/merged_with_cost_and_group_no_others_2017-08-15.csv', index=False)"
   ]
  },
  {
   "cell_type": "code",
   "execution_count": 111,
   "metadata": {
    "collapsed": true
   },
   "outputs": [],
   "source": [
    "buyer_act = merged[merged['User ID'].isin(buyers)]"
   ]
  },
  {
   "cell_type": "code",
   "execution_count": 112,
   "metadata": {
    "collapsed": true
   },
   "outputs": [],
   "source": [
    "buyer_1st_transaction = pd.DataFrame()\n",
    "for user_id, act_group in buyer_act.groupby('User ID'):\n",
    "    index_of_1st_transaction = act_group.index[act_group['activity_cat'] == 'transaction'][0]\n",
    "    buyer_1st_transaction = buyer_1st_transaction.append(act_group.loc[:index_of_1st_transaction])"
   ]
  },
  {
   "cell_type": "code",
   "execution_count": 88,
   "metadata": {
    "collapsed": true
   },
   "outputs": [],
   "source": [
    "freq_buyer = buyer_1st_transaction['activity_cat'].value_counts()\n",
    "freq_buyer.name = 'buyer'"
   ]
  },
  {
   "cell_type": "code",
   "execution_count": 89,
   "metadata": {
    "collapsed": true
   },
   "outputs": [],
   "source": [
    "high_engager_act = merged[merged['User ID'].isin(high_engagers)]\n",
    "\n",
    "freq_high_engager = high_engager_act['activity_cat'].value_counts()\n",
    "freq_high_engager.name = 'high_engager'"
   ]
  },
  {
   "cell_type": "code",
   "execution_count": 90,
   "metadata": {
    "collapsed": true
   },
   "outputs": [],
   "source": [
    "low_engager_act = merged[merged['User ID'].isin(low_engagers)]\n",
    "\n",
    "freq_low_engager = low_engager_act['activity_cat'].value_counts()\n",
    "freq_low_engager.name = 'low_engager'"
   ]
  },
  {
   "cell_type": "code",
   "execution_count": 91,
   "metadata": {
    "collapsed": true
   },
   "outputs": [],
   "source": [
    "no_visit_act = merged[~merged['User ID'].isin(high_engagers.union(low_engagers).union(buyers))]\n",
    "\n",
    "freq_no_visit = no_visit_act['activity_cat'].value_counts()\n",
    "freq_no_visit.name = 'no_visit'"
   ]
  },
  {
   "cell_type": "code",
   "execution_count": 125,
   "metadata": {},
   "outputs": [
    {
     "data": {
      "text/plain": [
       "2262496"
      ]
     },
     "execution_count": 125,
     "metadata": {},
     "output_type": "execute_result"
    }
   ],
   "source": [
    "len(set(no_visit_act['User ID']))"
   ]
  },
  {
   "cell_type": "code",
   "execution_count": 92,
   "metadata": {
    "collapsed": true
   },
   "outputs": [],
   "source": [
    "freq_by_group = pd.DataFrame(freq_buyer).join(\n",
    "    freq_high_engager, how='outer').join(\n",
    "    freq_low_engager, how='outer').join(\n",
    "    freq_no_visit, how='outer')"
   ]
  },
  {
   "cell_type": "code",
   "execution_count": 93,
   "metadata": {
    "collapsed": true
   },
   "outputs": [],
   "source": [
    "freq_by_group.sort_index().to_csv('/home/jubauser1/jzou/dcm_account7252/user_path/frequency_by_group.csv')"
   ]
  },
  {
   "cell_type": "code",
   "execution_count": 94,
   "metadata": {},
   "outputs": [
    {
     "data": {
      "text/html": [
       "<div>\n",
       "<style>\n",
       "    .dataframe thead tr:only-child th {\n",
       "        text-align: right;\n",
       "    }\n",
       "\n",
       "    .dataframe thead th {\n",
       "        text-align: left;\n",
       "    }\n",
       "\n",
       "    .dataframe tbody tr th {\n",
       "        vertical-align: top;\n",
       "    }\n",
       "</style>\n",
       "<table border=\"1\" class=\"dataframe\">\n",
       "  <thead>\n",
       "    <tr style=\"text-align: right;\">\n",
       "      <th></th>\n",
       "      <th>buyer</th>\n",
       "      <th>high_engager</th>\n",
       "      <th>low_engager</th>\n",
       "      <th>no_visit</th>\n",
       "    </tr>\n",
       "  </thead>\n",
       "  <tbody>\n",
       "    <tr>\n",
       "      <th>HVA1</th>\n",
       "      <td>13733</td>\n",
       "      <td>11298.0</td>\n",
       "      <td>2461.0</td>\n",
       "      <td>NaN</td>\n",
       "    </tr>\n",
       "    <tr>\n",
       "      <th>HVA2</th>\n",
       "      <td>117393</td>\n",
       "      <td>452410.0</td>\n",
       "      <td>128636.0</td>\n",
       "      <td>NaN</td>\n",
       "    </tr>\n",
       "    <tr>\n",
       "      <th>HVA3</th>\n",
       "      <td>54435</td>\n",
       "      <td>37571.0</td>\n",
       "      <td>1236.0</td>\n",
       "      <td>NaN</td>\n",
       "    </tr>\n",
       "    <tr>\n",
       "      <th>...</th>\n",
       "      <td>...</td>\n",
       "      <td>...</td>\n",
       "      <td>...</td>\n",
       "      <td>...</td>\n",
       "    </tr>\n",
       "    <tr>\n",
       "      <th>nonbranded_click: DART Search : MSN</th>\n",
       "      <td>59</td>\n",
       "      <td>365.0</td>\n",
       "      <td>1742.0</td>\n",
       "      <td>534.0</td>\n",
       "    </tr>\n",
       "    <tr>\n",
       "      <th>others</th>\n",
       "      <td>168582</td>\n",
       "      <td>517641.0</td>\n",
       "      <td>270464.0</td>\n",
       "      <td>NaN</td>\n",
       "    </tr>\n",
       "    <tr>\n",
       "      <th>transaction</th>\n",
       "      <td>4736</td>\n",
       "      <td>NaN</td>\n",
       "      <td>NaN</td>\n",
       "      <td>NaN</td>\n",
       "    </tr>\n",
       "  </tbody>\n",
       "</table>\n",
       "<p>16 rows × 4 columns</p>\n",
       "</div>"
      ],
      "text/plain": [
       "                                      buyer  high_engager  low_engager  \\\n",
       "HVA1                                  13733       11298.0       2461.0   \n",
       "HVA2                                 117393      452410.0     128636.0   \n",
       "HVA3                                  54435       37571.0       1236.0   \n",
       "...                                     ...           ...          ...   \n",
       "nonbranded_click: DART Search : MSN      59         365.0       1742.0   \n",
       "others                               168582      517641.0     270464.0   \n",
       "transaction                            4736           NaN          NaN   \n",
       "\n",
       "                                     no_visit  \n",
       "HVA1                                      NaN  \n",
       "HVA2                                      NaN  \n",
       "HVA3                                      NaN  \n",
       "...                                       ...  \n",
       "nonbranded_click: DART Search : MSN     534.0  \n",
       "others                                    NaN  \n",
       "transaction                               NaN  \n",
       "\n",
       "[16 rows x 4 columns]"
      ]
     },
     "execution_count": 94,
     "metadata": {},
     "output_type": "execute_result"
    }
   ],
   "source": [
    "freq_by_group"
   ]
  },
  {
   "cell_type": "code",
   "execution_count": 133,
   "metadata": {},
   "outputs": [
    {
     "data": {
      "text/plain": [
       "(3919.9633583497384, 588939.9199999988)"
      ]
     },
     "execution_count": 133,
     "metadata": {},
     "output_type": "execute_result"
    }
   ],
   "source": [
    "buyer_1st_transaction['cost'].sum(), buyer_1st_transaction[buyer_1st_transaction['activity_cat'] == 'transaction']['revenue'].sum()"
   ]
  },
  {
   "cell_type": "code",
   "execution_count": 122,
   "metadata": {},
   "outputs": [
    {
     "data": {
      "text/plain": [
       "group\n",
       "1     5727.569112\n",
       "2    27178.650553\n",
       "3    77902.292484\n",
       "4    24948.496932\n",
       "Name: cost, dtype: float64"
      ]
     },
     "execution_count": 122,
     "metadata": {},
     "output_type": "execute_result"
    }
   ],
   "source": [
    "merged.groupby('group')['cost'].sum()"
   ]
  },
  {
   "cell_type": "code",
   "execution_count": 123,
   "metadata": {},
   "outputs": [
    {
     "data": {
      "text/plain": [
       "group\n",
       "1    1373314.49\n",
       "2          0.00\n",
       "3          0.00\n",
       "4           NaN\n",
       "Name: revenue, dtype: float64"
      ]
     },
     "execution_count": 123,
     "metadata": {},
     "output_type": "execute_result"
    }
   ],
   "source": [
    "merged.groupby('group')['revenue'].sum()"
   ]
  },
  {
   "cell_type": "code",
   "execution_count": 132,
   "metadata": {},
   "outputs": [
    {
     "data": {
      "text/html": [
       "<div>\n",
       "<style>\n",
       "    .dataframe thead tr:only-child th {\n",
       "        text-align: right;\n",
       "    }\n",
       "\n",
       "    .dataframe thead th {\n",
       "        text-align: left;\n",
       "    }\n",
       "\n",
       "    .dataframe tbody tr th {\n",
       "        vertical-align: top;\n",
       "    }\n",
       "</style>\n",
       "<table border=\"1\" class=\"dataframe\">\n",
       "  <thead>\n",
       "    <tr style=\"text-align: right;\">\n",
       "      <th></th>\n",
       "      <th>Event Time</th>\n",
       "      <th>User ID</th>\n",
       "      <th>activity_cat</th>\n",
       "      <th>cost</th>\n",
       "      <th>revenue</th>\n",
       "      <th>group</th>\n",
       "    </tr>\n",
       "  </thead>\n",
       "  <tbody>\n",
       "    <tr>\n",
       "      <th>6101</th>\n",
       "      <td>1491132099762598</td>\n",
       "      <td>AMsySZYw0CKfR8LS1hLJ3VzhCHNQ</td>\n",
       "      <td>others</td>\n",
       "      <td>NaN</td>\n",
       "      <td>144.94</td>\n",
       "      <td>1</td>\n",
       "    </tr>\n",
       "    <tr>\n",
       "      <th>6102</th>\n",
       "      <td>1491132099762936</td>\n",
       "      <td>AMsySZYw0CKfR8LS1hLJ3VzhCHNQ</td>\n",
       "      <td>transaction</td>\n",
       "      <td>NaN</td>\n",
       "      <td>144.94</td>\n",
       "      <td>1</td>\n",
       "    </tr>\n",
       "    <tr>\n",
       "      <th>13323</th>\n",
       "      <td>1491143891786039</td>\n",
       "      <td>AMsySZYYR0w6tELpcfXcRlw5dM9U</td>\n",
       "      <td>transaction</td>\n",
       "      <td>NaN</td>\n",
       "      <td>84.49</td>\n",
       "      <td>1</td>\n",
       "    </tr>\n",
       "    <tr>\n",
       "      <th>...</th>\n",
       "      <td>...</td>\n",
       "      <td>...</td>\n",
       "      <td>...</td>\n",
       "      <td>...</td>\n",
       "      <td>...</td>\n",
       "      <td>...</td>\n",
       "    </tr>\n",
       "    <tr>\n",
       "      <th>10920562</th>\n",
       "      <td>1504495424345887</td>\n",
       "      <td>AMsySZbPwVfI73R6oB4IS97kaTFi</td>\n",
       "      <td>transaction</td>\n",
       "      <td>NaN</td>\n",
       "      <td>112.17</td>\n",
       "      <td>1</td>\n",
       "    </tr>\n",
       "    <tr>\n",
       "      <th>10920769</th>\n",
       "      <td>1504497592948737</td>\n",
       "      <td>AMsySZZlT9EX-HM8-mE7VC7YIWSp</td>\n",
       "      <td>others</td>\n",
       "      <td>NaN</td>\n",
       "      <td>68.41</td>\n",
       "      <td>1</td>\n",
       "    </tr>\n",
       "    <tr>\n",
       "      <th>10920770</th>\n",
       "      <td>1504497592949476</td>\n",
       "      <td>AMsySZZlT9EX-HM8-mE7VC7YIWSp</td>\n",
       "      <td>transaction</td>\n",
       "      <td>NaN</td>\n",
       "      <td>68.41</td>\n",
       "      <td>1</td>\n",
       "    </tr>\n",
       "  </tbody>\n",
       "</table>\n",
       "<p>10979 rows × 6 columns</p>\n",
       "</div>"
      ],
      "text/plain": [
       "                Event Time                       User ID activity_cat  cost  \\\n",
       "6101      1491132099762598  AMsySZYw0CKfR8LS1hLJ3VzhCHNQ       others   NaN   \n",
       "6102      1491132099762936  AMsySZYw0CKfR8LS1hLJ3VzhCHNQ  transaction   NaN   \n",
       "13323     1491143891786039  AMsySZYYR0w6tELpcfXcRlw5dM9U  transaction   NaN   \n",
       "...                    ...                           ...          ...   ...   \n",
       "10920562  1504495424345887  AMsySZbPwVfI73R6oB4IS97kaTFi  transaction   NaN   \n",
       "10920769  1504497592948737  AMsySZZlT9EX-HM8-mE7VC7YIWSp       others   NaN   \n",
       "10920770  1504497592949476  AMsySZZlT9EX-HM8-mE7VC7YIWSp  transaction   NaN   \n",
       "\n",
       "         revenue  group  \n",
       "6101      144.94      1  \n",
       "6102      144.94      1  \n",
       "13323      84.49      1  \n",
       "...          ...    ...  \n",
       "10920562  112.17      1  \n",
       "10920769   68.41      1  \n",
       "10920770   68.41      1  \n",
       "\n",
       "[10979 rows x 6 columns]"
      ]
     },
     "execution_count": 132,
     "metadata": {},
     "output_type": "execute_result"
    }
   ],
   "source": [
    "buyer_act[buyer_act['revenue'] > 0]"
   ]
  },
  {
   "cell_type": "code",
   "execution_count": 131,
   "metadata": {},
   "outputs": [
    {
     "data": {
      "text/html": [
       "<div>\n",
       "<style>\n",
       "    .dataframe thead tr:only-child th {\n",
       "        text-align: right;\n",
       "    }\n",
       "\n",
       "    .dataframe thead th {\n",
       "        text-align: left;\n",
       "    }\n",
       "\n",
       "    .dataframe tbody tr th {\n",
       "        vertical-align: top;\n",
       "    }\n",
       "</style>\n",
       "<table border=\"1\" class=\"dataframe\">\n",
       "  <thead>\n",
       "    <tr style=\"text-align: right;\">\n",
       "      <th></th>\n",
       "      <th>Event Time</th>\n",
       "      <th>User ID</th>\n",
       "      <th>activity_cat</th>\n",
       "      <th>cost</th>\n",
       "      <th>revenue</th>\n",
       "      <th>group</th>\n",
       "    </tr>\n",
       "  </thead>\n",
       "  <tbody>\n",
       "    <tr>\n",
       "      <th>42147</th>\n",
       "      <td>1491175400643243</td>\n",
       "      <td>AMsySZZlT9EX-HM8-mE7VC7YIWSp</td>\n",
       "      <td>impr: QuantCast</td>\n",
       "      <td>NaN</td>\n",
       "      <td>None</td>\n",
       "      <td>1</td>\n",
       "    </tr>\n",
       "    <tr>\n",
       "      <th>183376</th>\n",
       "      <td>1491368022284708</td>\n",
       "      <td>AMsySZZlT9EX-HM8-mE7VC7YIWSp</td>\n",
       "      <td>impr: QuantCast</td>\n",
       "      <td>4.194455e-07</td>\n",
       "      <td>None</td>\n",
       "      <td>1</td>\n",
       "    </tr>\n",
       "    <tr>\n",
       "      <th>240240</th>\n",
       "      <td>1491453297696814</td>\n",
       "      <td>AMsySZZlT9EX-HM8-mE7VC7YIWSp</td>\n",
       "      <td>impr: QuantCast</td>\n",
       "      <td>2.020200e-03</td>\n",
       "      <td>None</td>\n",
       "      <td>1</td>\n",
       "    </tr>\n",
       "    <tr>\n",
       "      <th>...</th>\n",
       "      <td>...</td>\n",
       "      <td>...</td>\n",
       "      <td>...</td>\n",
       "      <td>...</td>\n",
       "      <td>...</td>\n",
       "      <td>...</td>\n",
       "    </tr>\n",
       "    <tr>\n",
       "      <th>10920766</th>\n",
       "      <td>1504497559892157</td>\n",
       "      <td>AMsySZZlT9EX-HM8-mE7VC7YIWSp</td>\n",
       "      <td>others</td>\n",
       "      <td>NaN</td>\n",
       "      <td>0</td>\n",
       "      <td>1</td>\n",
       "    </tr>\n",
       "    <tr>\n",
       "      <th>10920769</th>\n",
       "      <td>1504497592948737</td>\n",
       "      <td>AMsySZZlT9EX-HM8-mE7VC7YIWSp</td>\n",
       "      <td>others</td>\n",
       "      <td>NaN</td>\n",
       "      <td>68.41</td>\n",
       "      <td>1</td>\n",
       "    </tr>\n",
       "    <tr>\n",
       "      <th>10920770</th>\n",
       "      <td>1504497592949476</td>\n",
       "      <td>AMsySZZlT9EX-HM8-mE7VC7YIWSp</td>\n",
       "      <td>transaction</td>\n",
       "      <td>NaN</td>\n",
       "      <td>68.41</td>\n",
       "      <td>1</td>\n",
       "    </tr>\n",
       "  </tbody>\n",
       "</table>\n",
       "<p>256 rows × 6 columns</p>\n",
       "</div>"
      ],
      "text/plain": [
       "                Event Time                       User ID     activity_cat  \\\n",
       "42147     1491175400643243  AMsySZZlT9EX-HM8-mE7VC7YIWSp  impr: QuantCast   \n",
       "183376    1491368022284708  AMsySZZlT9EX-HM8-mE7VC7YIWSp  impr: QuantCast   \n",
       "240240    1491453297696814  AMsySZZlT9EX-HM8-mE7VC7YIWSp  impr: QuantCast   \n",
       "...                    ...                           ...              ...   \n",
       "10920766  1504497559892157  AMsySZZlT9EX-HM8-mE7VC7YIWSp           others   \n",
       "10920769  1504497592948737  AMsySZZlT9EX-HM8-mE7VC7YIWSp           others   \n",
       "10920770  1504497592949476  AMsySZZlT9EX-HM8-mE7VC7YIWSp      transaction   \n",
       "\n",
       "                  cost revenue  group  \n",
       "42147              NaN    None      1  \n",
       "183376    4.194455e-07    None      1  \n",
       "240240    2.020200e-03    None      1  \n",
       "...                ...     ...    ...  \n",
       "10920766           NaN       0      1  \n",
       "10920769           NaN   68.41      1  \n",
       "10920770           NaN   68.41      1  \n",
       "\n",
       "[256 rows x 6 columns]"
      ]
     },
     "execution_count": 131,
     "metadata": {},
     "output_type": "execute_result"
    }
   ],
   "source": [
    "buyer_act[buyer_act['User ID'] == 'AMsySZZlT9EX-HM8-mE7VC7YIWSp']"
   ]
  },
  {
   "cell_type": "markdown",
   "metadata": {},
   "source": [
    "# time span by group"
   ]
  },
  {
   "cell_type": "code",
   "execution_count": 126,
   "metadata": {
    "collapsed": true
   },
   "outputs": [],
   "source": [
    "def timestamp(x):  \n",
    "    return datetime.datetime.fromtimestamp(x/1000000)"
   ]
  },
  {
   "cell_type": "code",
   "execution_count": 137,
   "metadata": {
    "collapsed": true
   },
   "outputs": [],
   "source": [
    "buyer_time_span = pd.DataFrame()\n",
    "for user_id, act_group in buyer_1st_transaction.groupby('User ID'):\n",
    "    d = {'user_id': user_id}\n",
    "    try:\n",
    "        index_of_1st_hva = act_group.index[act_group['activity_cat'].isin({'HVA1', 'HVA2', 'HVA3'})][0]\n",
    "    except IndexError:\n",
    "        index_of_1st_hva = None\n",
    "        \n",
    "    try:\n",
    "        index_of_1st_exposure = act_group.index[act_group['activity_cat'].isin({\n",
    "             'branded_click: DART Search : Google',\n",
    "             'branded_click: DART Search : MSN',\n",
    "             'click: Criteo',\n",
    "             'click: DART Search : Google',\n",
    "             'click: DART Search : MSN',\n",
    "             'click: Facebook',\n",
    "             'click: QuantCast',\n",
    "             'impr: Criteo',\n",
    "             'impr: QuantCast',\n",
    "             'nonbranded_click: DART Search : Google',\n",
    "             'nonbranded_click: DART Search : MSN',})][0]\n",
    "    except IndexError:\n",
    "        index_of_1st_exposure = None\n",
    "        \n",
    "    try: \n",
    "        index_of_1st_transaction = act_group.index[act_group['activity_cat'] == 'transaction'][0]   \n",
    "    except IndexError:\n",
    "        index_of_1st_transaction = None\n",
    "    \n",
    "    if index_of_1st_transaction and index_of_1st_hva:\n",
    "        d['1st_HVA_to_1st_transaction'] = (timestamp(act_group.loc[index_of_1st_transaction, 'Event Time']) - \\\n",
    "            timestamp(act_group.loc[index_of_1st_hva, 'Event Time'])).total_seconds()\n",
    "    else:\n",
    "        d['1st_HVA_to_1st_transaction'] = None\n",
    "    \n",
    "    if index_of_1st_transaction and index_of_1st_exposure:\n",
    "        d['1st_exposure_to_1st_transaction'] = (timestamp(act_group.loc[index_of_1st_transaction, 'Event Time']) - \\\n",
    "            timestamp(act_group.loc[index_of_1st_exposure, 'Event Time'])).total_seconds()\n",
    "    else:\n",
    "        d['1st_exposure_to_1st_transaction'] = None\n",
    "        \n",
    "    if index_of_1st_hva and index_of_1st_exposure:\n",
    "        d['1st_exposure_to_1st_HVA'] = (timestamp(act_group.loc[index_of_1st_hva, 'Event Time']) - \\\n",
    "            timestamp(act_group.loc[index_of_1st_exposure, 'Event Time'])).total_seconds()\n",
    "    else:\n",
    "        d['1st_exposure_to_1st_HVA'] = None\n",
    "    \n",
    "    buyer_time_span = buyer_time_span.append(d, ignore_index=True)"
   ]
  },
  {
   "cell_type": "code",
   "execution_count": 138,
   "metadata": {},
   "outputs": [
    {
     "data": {
      "text/html": [
       "<div>\n",
       "<style>\n",
       "    .dataframe thead tr:only-child th {\n",
       "        text-align: right;\n",
       "    }\n",
       "\n",
       "    .dataframe thead th {\n",
       "        text-align: left;\n",
       "    }\n",
       "\n",
       "    .dataframe tbody tr th {\n",
       "        vertical-align: top;\n",
       "    }\n",
       "</style>\n",
       "<table border=\"1\" class=\"dataframe\">\n",
       "  <thead>\n",
       "    <tr style=\"text-align: right;\">\n",
       "      <th></th>\n",
       "      <th>1st_HVA_to_1st_transaction</th>\n",
       "      <th>1st_exposure_to_1st_HVA</th>\n",
       "      <th>1st_exposure_to_1st_transaction</th>\n",
       "      <th>user_id</th>\n",
       "    </tr>\n",
       "  </thead>\n",
       "  <tbody>\n",
       "    <tr>\n",
       "      <th>0</th>\n",
       "      <td>752.324</td>\n",
       "      <td>3.37457</td>\n",
       "      <td>7.556984e+02</td>\n",
       "      <td>AMsySZY-3FnuknZAk_Iuw_o7vZXF</td>\n",
       "    </tr>\n",
       "    <tr>\n",
       "      <th>1</th>\n",
       "      <td>1.65241e+06</td>\n",
       "      <td>31.9301</td>\n",
       "      <td>1.652438e+06</td>\n",
       "      <td>AMsySZY-3texhhoZd8Dov2qqQvpN</td>\n",
       "    </tr>\n",
       "    <tr>\n",
       "      <th>2</th>\n",
       "      <td>91124.4</td>\n",
       "      <td>4.44869e+06</td>\n",
       "      <td>4.539812e+06</td>\n",
       "      <td>AMsySZY-BLK48LeaEQ2Na54gg8xM</td>\n",
       "    </tr>\n",
       "    <tr>\n",
       "      <th>...</th>\n",
       "      <td>...</td>\n",
       "      <td>...</td>\n",
       "      <td>...</td>\n",
       "      <td>...</td>\n",
       "    </tr>\n",
       "    <tr>\n",
       "      <th>4733</th>\n",
       "      <td>9.15434e+06</td>\n",
       "      <td>769356</td>\n",
       "      <td>9.923691e+06</td>\n",
       "      <td>AMsySZbzvNKPEjY24T4ae9YRu1u9</td>\n",
       "    </tr>\n",
       "    <tr>\n",
       "      <th>4734</th>\n",
       "      <td>211.599</td>\n",
       "      <td>53.4679</td>\n",
       "      <td>2.650665e+02</td>\n",
       "      <td>AMsySZbzvjSvjfHe5hdYH9wNZYxP</td>\n",
       "    </tr>\n",
       "    <tr>\n",
       "      <th>4735</th>\n",
       "      <td>1.60145e+06</td>\n",
       "      <td>4.24589</td>\n",
       "      <td>1.601451e+06</td>\n",
       "      <td>AMsySZbzzXQ_uBd53piNXo4vEbDm</td>\n",
       "    </tr>\n",
       "  </tbody>\n",
       "</table>\n",
       "<p>4736 rows × 4 columns</p>\n",
       "</div>"
      ],
      "text/plain": [
       "     1st_HVA_to_1st_transaction 1st_exposure_to_1st_HVA  \\\n",
       "0                       752.324                 3.37457   \n",
       "1                   1.65241e+06                 31.9301   \n",
       "2                       91124.4             4.44869e+06   \n",
       "...                         ...                     ...   \n",
       "4733                9.15434e+06                  769356   \n",
       "4734                    211.599                 53.4679   \n",
       "4735                1.60145e+06                 4.24589   \n",
       "\n",
       "      1st_exposure_to_1st_transaction                       user_id  \n",
       "0                        7.556984e+02  AMsySZY-3FnuknZAk_Iuw_o7vZXF  \n",
       "1                        1.652438e+06  AMsySZY-3texhhoZd8Dov2qqQvpN  \n",
       "2                        4.539812e+06  AMsySZY-BLK48LeaEQ2Na54gg8xM  \n",
       "...                               ...                           ...  \n",
       "4733                     9.923691e+06  AMsySZbzvNKPEjY24T4ae9YRu1u9  \n",
       "4734                     2.650665e+02  AMsySZbzvjSvjfHe5hdYH9wNZYxP  \n",
       "4735                     1.601451e+06  AMsySZbzzXQ_uBd53piNXo4vEbDm  \n",
       "\n",
       "[4736 rows x 4 columns]"
      ]
     },
     "execution_count": 138,
     "metadata": {},
     "output_type": "execute_result"
    }
   ],
   "source": [
    "buyer_time_span"
   ]
  },
  {
   "cell_type": "code",
   "execution_count": 139,
   "metadata": {
    "collapsed": true
   },
   "outputs": [],
   "source": [
    "buyer_time_span['1st_HVA_to_1st_transaction (minute)'] = buyer_time_span['1st_HVA_to_1st_transaction']/60\n",
    "buyer_time_span['1st_HVA_to_1st_transaction (hour)'] = buyer_time_span['1st_HVA_to_1st_transaction']/3600\n",
    "buyer_time_span['1st_HVA_to_1st_transaction (day)'] = buyer_time_span['1st_HVA_to_1st_transaction']/3600/24\n",
    "\n",
    "buyer_time_span['1st_exposure_to_1st_HVA (minute)'] = buyer_time_span['1st_exposure_to_1st_HVA']/60\n",
    "buyer_time_span['1st_exposure_to_1st_HVA (hour)'] = buyer_time_span['1st_exposure_to_1st_HVA']/3600\n",
    "buyer_time_span['1st_exposure_to_1st_HVA (day)'] = buyer_time_span['1st_exposure_to_1st_HVA']/3600/24\n",
    "\n",
    "buyer_time_span['1st_exposure_to_1st_transaction (minute)'] = buyer_time_span['1st_exposure_to_1st_transaction']/60\n",
    "buyer_time_span['1st_exposure_to_1st_transaction (hour)'] = buyer_time_span['1st_exposure_to_1st_transaction']/3600\n",
    "buyer_time_span['1st_exposure_to_1st_transaction (day)'] = buyer_time_span['1st_exposure_to_1st_transaction']/3600/24"
   ]
  },
  {
   "cell_type": "code",
   "execution_count": 140,
   "metadata": {
    "collapsed": true
   },
   "outputs": [],
   "source": [
    "buyer_time_span.to_csv('/home/jubauser1/jzou/dcm_account7252/user_path/buyer_time_span.csv', index=False)"
   ]
  },
  {
   "cell_type": "code",
   "execution_count": 142,
   "metadata": {},
   "outputs": [
    {
     "data": {
      "text/plain": [
       "(7.5349377765434555, 'days')"
      ]
     },
     "execution_count": 142,
     "metadata": {},
     "output_type": "execute_result"
    }
   ],
   "source": [
    "buyer_time_span['1st_HVA_to_1st_transaction'].mean()/3600/24, 'days'"
   ]
  },
  {
   "cell_type": "code",
   "execution_count": 144,
   "metadata": {
    "collapsed": true
   },
   "outputs": [],
   "source": [
    "hva_to_transaction = list(buyer_time_span[buyer_time_span['1st_HVA_to_1st_transaction'].notnull()]['1st_HVA_to_1st_transaction'])\n",
    "\n",
    "hva_to_transaction.sort()"
   ]
  },
  {
   "cell_type": "code",
   "execution_count": 145,
   "metadata": {},
   "outputs": [
    {
     "data": {
      "text/plain": [
       "(2.0375388098842593, 'days')"
      ]
     },
     "execution_count": 145,
     "metadata": {},
     "output_type": "execute_result"
    }
   ],
   "source": [
    "hva_to_transaction[int(len(hva_to_transaction)*0.75)]/3600/24, 'days'"
   ]
  },
  {
   "cell_type": "code",
   "execution_count": 146,
   "metadata": {},
   "outputs": [
    {
     "data": {
      "text/plain": [
       "(28.2049281, 'minutes')"
      ]
     },
     "execution_count": 146,
     "metadata": {},
     "output_type": "execute_result"
    }
   ],
   "source": [
    "hva_to_transaction[int(len(hva_to_transaction)*0.5)]/60, 'minutes'"
   ]
  },
  {
   "cell_type": "code",
   "execution_count": 147,
   "metadata": {},
   "outputs": [
    {
     "data": {
      "text/plain": [
       "(10.30299705, 'minutes')"
      ]
     },
     "execution_count": 147,
     "metadata": {},
     "output_type": "execute_result"
    }
   ],
   "source": [
    "hva_to_transaction[int(len(hva_to_transaction)*0.25)]/60, 'minutes'"
   ]
  },
  {
   "cell_type": "code",
   "execution_count": 148,
   "metadata": {},
   "outputs": [
    {
     "data": {
      "text/plain": [
       "(7.9473627298549445, 'days')"
      ]
     },
     "execution_count": 148,
     "metadata": {},
     "output_type": "execute_result"
    }
   ],
   "source": [
    "buyer_time_span['1st_exposure_to_1st_HVA'].mean()/3600/24, 'days'"
   ]
  },
  {
   "cell_type": "code",
   "execution_count": 149,
   "metadata": {
    "collapsed": true
   },
   "outputs": [],
   "source": [
    "exposure_to_hva = list(buyer_time_span[buyer_time_span['1st_exposure_to_1st_HVA'].notnull()]['1st_exposure_to_1st_HVA'])\n",
    "\n",
    "exposure_to_hva.sort()"
   ]
  },
  {
   "cell_type": "code",
   "execution_count": 150,
   "metadata": {},
   "outputs": [
    {
     "data": {
      "text/plain": [
       "(4.280740989849536, 'days')"
      ]
     },
     "execution_count": 150,
     "metadata": {},
     "output_type": "execute_result"
    }
   ],
   "source": [
    "exposure_to_hva[int(len(exposure_to_hva)*0.75)]/3600/24, 'days'"
   ]
  },
  {
   "cell_type": "code",
   "execution_count": 151,
   "metadata": {},
   "outputs": [
    {
     "data": {
      "text/plain": [
       "(53.075141, 'seconds')"
      ]
     },
     "execution_count": 151,
     "metadata": {},
     "output_type": "execute_result"
    }
   ],
   "source": [
    "exposure_to_hva[int(len(exposure_to_hva)*0.5)], 'seconds'"
   ]
  },
  {
   "cell_type": "code",
   "execution_count": 152,
   "metadata": {},
   "outputs": [
    {
     "data": {
      "text/plain": [
       "(9.479183, 'seconds')"
      ]
     },
     "execution_count": 152,
     "metadata": {},
     "output_type": "execute_result"
    }
   ],
   "source": [
    "exposure_to_hva[int(len(exposure_to_hva)*0.25)], 'seconds'"
   ]
  },
  {
   "cell_type": "code",
   "execution_count": 153,
   "metadata": {},
   "outputs": [
    {
     "data": {
      "text/plain": [
       "(15.851691729962853, 'days')"
      ]
     },
     "execution_count": 153,
     "metadata": {},
     "output_type": "execute_result"
    }
   ],
   "source": [
    "buyer_time_span['1st_exposure_to_1st_transaction'].mean()/3600/24, 'days'"
   ]
  },
  {
   "cell_type": "code",
   "execution_count": 154,
   "metadata": {
    "collapsed": true
   },
   "outputs": [],
   "source": [
    "exposure_to_transaction = list(buyer_time_span[buyer_time_span['1st_exposure_to_1st_transaction'].notnull()]['1st_exposure_to_1st_transaction'])\n",
    "\n",
    "exposure_to_transaction.sort()"
   ]
  },
  {
   "cell_type": "code",
   "execution_count": 155,
   "metadata": {},
   "outputs": [
    {
     "data": {
      "text/plain": [
       "(16.972389584814817, 'days')"
      ]
     },
     "execution_count": 155,
     "metadata": {},
     "output_type": "execute_result"
    }
   ],
   "source": [
    "exposure_to_transaction[int(len(exposure_to_transaction)*0.75)]/3600/24, 'days'"
   ]
  },
  {
   "cell_type": "code",
   "execution_count": 160,
   "metadata": {},
   "outputs": [
    {
     "data": {
      "text/plain": [
       "(10.845820556111111, 'hours')"
      ]
     },
     "execution_count": 160,
     "metadata": {},
     "output_type": "execute_result"
    }
   ],
   "source": [
    "exposure_to_transaction[int(len(exposure_to_transaction)*0.5)]/3600, 'hours'"
   ]
  },
  {
   "cell_type": "code",
   "execution_count": 161,
   "metadata": {},
   "outputs": [
    {
     "data": {
      "text/plain": [
       "(15.423910383333332, 'seconds')"
      ]
     },
     "execution_count": 161,
     "metadata": {},
     "output_type": "execute_result"
    }
   ],
   "source": [
    "exposure_to_transaction[int(len(exposure_to_transaction)*0.25)]/60, 'seconds'"
   ]
  },
  {
   "cell_type": "code",
   "execution_count": 163,
   "metadata": {
    "collapsed": true
   },
   "outputs": [],
   "source": [
    "high_engager_act = merged[merged['User ID'].isin(high_engagers)]\n",
    "\n",
    "high_engager_1st_hva = pd.DataFrame()\n",
    "for user_id, act_group in high_engager_act.groupby('User ID'):\n",
    "    try:\n",
    "        index_of_1st_hva = act_group.index[act_group['activity_cat'].isin({'HVA1', 'HVA2', 'HVA3'})][0]\n",
    "        high_engager_1st_hva = high_engager_1st_hva.append(act_group.loc[:index_of_1st_hva])\n",
    "    except Exception as e:\n",
    "        print(user_id)"
   ]
  },
  {
   "cell_type": "code",
   "execution_count": 164,
   "metadata": {
    "collapsed": true
   },
   "outputs": [],
   "source": [
    "high_engager_time_span = pd.DataFrame()\n",
    "for user_id, act_group in high_engager_1st_hva.groupby('User ID'):\n",
    "    d = {'user_id': user_id}\n",
    "    try:\n",
    "        index_of_1st_hva = act_group.index[act_group['activity_cat'].isin({'HVA1', 'HVA2', 'HVA3'})][0]\n",
    "        try:\n",
    "            index_of_1st_exposure = act_group.index[act_group['activity_cat'].isin({\n",
    "                 'branded_click: DART Search : Google',\n",
    "                 'branded_click: DART Search : MSN',\n",
    "                 'click: Criteo',\n",
    "                 'click: DART Search : Google',\n",
    "                 'click: DART Search : MSN',\n",
    "                 'click: Facebook',\n",
    "                 'click: QuantCast',\n",
    "                 'impr: Criteo',\n",
    "                 'impr: QuantCast',\n",
    "                 'nonbranded_click: DART Search : Google',\n",
    "                 'nonbranded_click: DART Search : MSN',})][0]\n",
    "            d['1st_exposure_to_1st_HVA'] = (timestamp(act_group.loc[index_of_1st_hva, 'Event Time']) - \\\n",
    "                timestamp(act_group.loc[index_of_1st_exposure, 'Event Time'])).total_seconds()\n",
    "        except IndexError:\n",
    "            #print(user_id)\n",
    "            d['1st_exposure_to_1st_HVA'] = None\n",
    "        \n",
    "    except IndexError:\n",
    "        d['1st_exposure_to_1st_HVA'] = None\n",
    "    \n",
    "    high_engager_time_span = high_engager_time_span.append(d, ignore_index=True)"
   ]
  },
  {
   "cell_type": "code",
   "execution_count": 165,
   "metadata": {
    "collapsed": true
   },
   "outputs": [],
   "source": [
    "high_engager_time_span['1st_exposure_to_1st_HVA (minute)'] = high_engager_time_span['1st_exposure_to_1st_HVA']/60\n",
    "high_engager_time_span['1st_exposure_to_1st_HVA (hour)'] = high_engager_time_span['1st_exposure_to_1st_HVA']/3600\n",
    "high_engager_time_span['1st_exposure_to_1st_HVA (day)'] = high_engager_time_span['1st_exposure_to_1st_HVA']/3600/24"
   ]
  },
  {
   "cell_type": "code",
   "execution_count": 166,
   "metadata": {
    "collapsed": true
   },
   "outputs": [],
   "source": [
    "high_engager_time_span.to_csv('/home/jubauser1/jzou/dcm_account7252/user_path/high_engager_time_span.csv', index=False)"
   ]
  },
  {
   "cell_type": "code",
   "execution_count": 167,
   "metadata": {},
   "outputs": [
    {
     "data": {
      "text/plain": [
       "7.899013704999013"
      ]
     },
     "execution_count": 167,
     "metadata": {},
     "output_type": "execute_result"
    }
   ],
   "source": [
    "high_engager_time_span['1st_exposure_to_1st_HVA'].mean()/3600/24"
   ]
  },
  {
   "cell_type": "code",
   "execution_count": 168,
   "metadata": {
    "collapsed": true
   },
   "outputs": [],
   "source": [
    "exposure_to_hva = list(high_engager_time_span[high_engager_time_span['1st_exposure_to_1st_HVA'].notnull()]['1st_exposure_to_1st_HVA'])\n",
    "\n",
    "exposure_to_hva.sort()"
   ]
  },
  {
   "cell_type": "code",
   "execution_count": 169,
   "metadata": {},
   "outputs": [
    {
     "data": {
      "text/plain": [
       "47.547844046388889"
      ]
     },
     "execution_count": 169,
     "metadata": {},
     "output_type": "execute_result"
    }
   ],
   "source": [
    "exposure_to_hva[int(len(exposure_to_hva)*0.75)]/3600"
   ]
  },
  {
   "cell_type": "code",
   "execution_count": 170,
   "metadata": {},
   "outputs": [
    {
     "data": {
      "text/plain": [
       "27.569431000000002"
      ]
     },
     "execution_count": 170,
     "metadata": {},
     "output_type": "execute_result"
    }
   ],
   "source": [
    "exposure_to_hva[int(len(exposure_to_hva)*0.5)]"
   ]
  },
  {
   "cell_type": "code",
   "execution_count": 171,
   "metadata": {},
   "outputs": [
    {
     "data": {
      "text/plain": [
       "5.6886270000000003"
      ]
     },
     "execution_count": 171,
     "metadata": {},
     "output_type": "execute_result"
    }
   ],
   "source": [
    "exposure_to_hva[int(len(exposure_to_hva)*0.25)]"
   ]
  },
  {
   "cell_type": "code",
   "execution_count": null,
   "metadata": {
    "collapsed": true
   },
   "outputs": [],
   "source": []
  },
  {
   "cell_type": "code",
   "execution_count": 172,
   "metadata": {
    "collapsed": true,
    "scrolled": false
   },
   "outputs": [],
   "source": [
    "low_engager_act = merged[merged['User ID'].isin(low_engagers)]\n",
    "\n",
    "low_engager_1st_hva = pd.DataFrame()\n",
    "for user_id, act_group in low_engager_act.groupby('User ID'):\n",
    "    try:\n",
    "        index_of_1st_hva = act_group.index[act_group['activity_cat'].isin({'HVA1', 'HVA2', 'HVA3'})][0]\n",
    "        low_engager_1st_hva = low_engager_1st_hva.append(act_group.loc[:index_of_1st_hva])\n",
    "    except Exception as e:\n",
    "        pass"
   ]
  },
  {
   "cell_type": "code",
   "execution_count": 175,
   "metadata": {
    "collapsed": true
   },
   "outputs": [],
   "source": [
    "low_engager_time_span = pd.DataFrame()\n",
    "for user_id, act_group in low_engager_1st_hva.groupby('User ID'):\n",
    "    d = {'user_id': user_id}\n",
    "    try:\n",
    "        index_of_1st_hva = act_group.index[act_group['activity_cat'].isin({'HVA1', 'HVA2', 'HVA3'})][0]\n",
    "        try:\n",
    "            index_of_1st_exposure = act_group.index[act_group['activity_cat'].isin({\n",
    "                 'branded_click: DART Search : Google',\n",
    "                 'branded_click: DART Search : MSN',\n",
    "                 'click: Criteo',\n",
    "                 'click: DART Search : Google',\n",
    "                 'click: DART Search : MSN',\n",
    "                 'click: Facebook',\n",
    "                 'click: QuantCast',\n",
    "                 'impr: Criteo',\n",
    "                 'impr: QuantCast',\n",
    "                 'nonbranded_click: DART Search : Google',\n",
    "                 'nonbranded_click: DART Search : MSN',})][0]\n",
    "            d['1st_exposure_to_1st_HVA'] = (timestamp(act_group.loc[index_of_1st_hva, 'Event Time']) - \\\n",
    "                timestamp(act_group.loc[index_of_1st_exposure, 'Event Time'])).total_seconds()\n",
    "        except IndexError:\n",
    "            #print(user_id)\n",
    "            d['1st_exposure_to_1st_HVA'] = None\n",
    "        \n",
    "    except IndexError:\n",
    "        d['1st_exposure_to_1st_HVA'] = None\n",
    "    \n",
    "    low_engager_time_span = low_engager_time_span.append(d, ignore_index=True)"
   ]
  },
  {
   "cell_type": "code",
   "execution_count": 176,
   "metadata": {
    "collapsed": true
   },
   "outputs": [],
   "source": [
    "low_engager_time_span['1st_exposure_to_1st_HVA (minute)'] = low_engager_time_span['1st_exposure_to_1st_HVA']/60\n",
    "low_engager_time_span['1st_exposure_to_1st_HVA (hour)'] = low_engager_time_span['1st_exposure_to_1st_HVA']/3600\n",
    "low_engager_time_span['1st_exposure_to_1st_HVA (day)'] = low_engager_time_span['1st_exposure_to_1st_HVA']/3600/24"
   ]
  },
  {
   "cell_type": "code",
   "execution_count": 177,
   "metadata": {
    "collapsed": true
   },
   "outputs": [],
   "source": [
    "low_engager_time_span.to_csv('/home/jubauser1/jzou/dcm_account7252/user_path/low_engager_time_span.csv', index=False)"
   ]
  },
  {
   "cell_type": "code",
   "execution_count": 178,
   "metadata": {},
   "outputs": [
    {
     "data": {
      "text/plain": [
       "4.1436344789875141"
      ]
     },
     "execution_count": 178,
     "metadata": {},
     "output_type": "execute_result"
    }
   ],
   "source": [
    "low_engager_time_span['1st_exposure_to_1st_HVA'].mean()/3600/24"
   ]
  },
  {
   "cell_type": "code",
   "execution_count": 179,
   "metadata": {
    "collapsed": true
   },
   "outputs": [],
   "source": [
    "exposure_to_hva = list(low_engager_time_span[low_engager_time_span['1st_exposure_to_1st_HVA'].notnull()]['1st_exposure_to_1st_HVA'])\n",
    "\n",
    "exposure_to_hva.sort()"
   ]
  },
  {
   "cell_type": "code",
   "execution_count": 180,
   "metadata": {},
   "outputs": [
    {
     "data": {
      "text/plain": [
       "56.605944999999998"
      ]
     },
     "execution_count": 180,
     "metadata": {},
     "output_type": "execute_result"
    }
   ],
   "source": [
    "exposure_to_hva[int(len(exposure_to_hva)*0.75)]"
   ]
  },
  {
   "cell_type": "code",
   "execution_count": 181,
   "metadata": {},
   "outputs": [
    {
     "data": {
      "text/plain": [
       "12.832652"
      ]
     },
     "execution_count": 181,
     "metadata": {},
     "output_type": "execute_result"
    }
   ],
   "source": [
    "exposure_to_hva[int(len(exposure_to_hva)*0.5)]"
   ]
  },
  {
   "cell_type": "code",
   "execution_count": 182,
   "metadata": {},
   "outputs": [
    {
     "data": {
      "text/plain": [
       "4.1006869999999997"
      ]
     },
     "execution_count": 182,
     "metadata": {},
     "output_type": "execute_result"
    }
   ],
   "source": [
    "exposure_to_hva[int(len(exposure_to_hva)*0.25)]"
   ]
  },
  {
   "cell_type": "markdown",
   "metadata": {},
   "source": [
    "# media freq k-means"
   ]
  },
  {
   "cell_type": "code",
   "execution_count": null,
   "metadata": {
    "collapsed": true
   },
   "outputs": [],
   "source": [
    "merged"
   ]
  },
  {
   "cell_type": "code",
   "execution_count": null,
   "metadata": {
    "collapsed": true
   },
   "outputs": [],
   "source": [
    "merged_1st_transaction = merged[~merged['User ID'].isin(buyers)].append(buyer_1st_transaction, ignore_index=True)"
   ]
  },
  {
   "cell_type": "code",
   "execution_count": null,
   "metadata": {
    "collapsed": true
   },
   "outputs": [],
   "source": [
    "merged_1st_transaction"
   ]
  },
  {
   "cell_type": "code",
   "execution_count": null,
   "metadata": {
    "collapsed": true
   },
   "outputs": [],
   "source": [
    "l = list()\n",
    "for user_id, group in merged_1st_transaction.groupby('User ID'):\n",
    "    d = group['activity_cat'].value_counts()\n",
    "    d['user_id'] = user_id\n",
    "    l.append(d)\n",
    "\n",
    "media_freq_by_user_id = pd.DataFrame(l)"
   ]
  },
  {
   "cell_type": "code",
   "execution_count": null,
   "metadata": {
    "collapsed": true
   },
   "outputs": [],
   "source": [
    "media_freq_by_user_id.fillna(0, inplace=True)"
   ]
  },
  {
   "cell_type": "code",
   "execution_count": null,
   "metadata": {
    "collapsed": true
   },
   "outputs": [],
   "source": [
    "media_freq_by_user_id"
   ]
  },
  {
   "cell_type": "code",
   "execution_count": null,
   "metadata": {
    "collapsed": true
   },
   "outputs": [],
   "source": [
    "media_freq_by_user_id['group'] = 4"
   ]
  },
  {
   "cell_type": "code",
   "execution_count": null,
   "metadata": {
    "collapsed": true
   },
   "outputs": [],
   "source": [
    "media_freq_by_user_id.set_value(media_freq_by_user_id['user_id'].isin(buyers), 'group', 1)"
   ]
  },
  {
   "cell_type": "code",
   "execution_count": null,
   "metadata": {
    "collapsed": true
   },
   "outputs": [],
   "source": [
    "media_freq_by_user_id.set_value(media_freq_by_user_id['user_id'].isin(high_engagers), 'group', 2)\n",
    "media_freq_by_user_id.set_value(media_freq_by_user_id['user_id'].isin(low_engagers), 'group', 3)"
   ]
  },
  {
   "cell_type": "code",
   "execution_count": null,
   "metadata": {
    "collapsed": true
   },
   "outputs": [],
   "source": [
    "media_freq_by_user_id['group'].value_counts()"
   ]
  },
  {
   "cell_type": "code",
   "execution_count": null,
   "metadata": {
    "collapsed": true
   },
   "outputs": [],
   "source": [
    "media_freq_by_user_id.to_csv('/home/jubauser1/jzou/dcm_account7252/user_path/media_freq_by_user_id.csv', index=False)"
   ]
  },
  {
   "cell_type": "markdown",
   "metadata": {},
   "source": [
    "## user path by group"
   ]
  },
  {
   "cell_type": "code",
   "execution_count": null,
   "metadata": {
    "collapsed": true
   },
   "outputs": [],
   "source": [
    "def path_list_to_str(path):\n",
    "    '''\n",
    "    Args: \n",
    "        path: list, ['a', 'a', 'b', 'c', 'c', 'c']\n",
    "    Returns:\n",
    "        str, 'a(2) -> b(1) -> c(3)'\n",
    "    '''\n",
    "    if 'transaction' in path:\n",
    "        path = path[: path.index('transaction')+1]\n",
    "    curr = path[0]\n",
    "    count = 0\n",
    "    result = list()\n",
    "    for x in path:\n",
    "        if x == 'others':\n",
    "            continue\n",
    "        elif x == curr:\n",
    "            count += 1\n",
    "        else:\n",
    "            result.append('%s(%d)'%(curr, count))\n",
    "            curr = x\n",
    "            count = 1\n",
    "    result.append('%s(%d)'%(curr, count))\n",
    "    return ' -> '.join(result)\n",
    "\n",
    "path_list_to_str(['a', 'a', 'others', 'b', 'others', 'c', 'c',  'c', 'others'])"
   ]
  },
  {
   "cell_type": "code",
   "execution_count": null,
   "metadata": {
    "collapsed": true
   },
   "outputs": [],
   "source": [
    "path = list(merged[merged['User ID'] == 'AMsySZbTx4mBNOHKocl_o0JhbYdj']['activity_cat'])\n",
    "\n",
    "path_list_to_str(path)"
   ]
  },
  {
   "cell_type": "code",
   "execution_count": null,
   "metadata": {
    "collapsed": true,
    "scrolled": true
   },
   "outputs": [],
   "source": [
    "merged_groups_by_id = merged.groupby('User ID')\n",
    "\n",
    "user_path_dict = dict()\n",
    "for user, group in merged_groups_by_id:\n",
    "    try:\n",
    "        path_list = list(group['activity_cat'])\n",
    "        #path_list = [x for x in path_list if x != 'others']\n",
    "        path_list = [x for x in path_list if x not in {'others', 'HVA1', 'HVA2', 'HVA3'}]\n",
    "        if len(path_list) > 0:\n",
    "            path = path_list_to_str(path_list)\n",
    "            logging.info('%s >>>> %s'%(user, path))\n",
    "            user_path_dict[user] = path\n",
    "    except Exception as e:\n",
    "        print(user, e)"
   ]
  },
  {
   "cell_type": "code",
   "execution_count": null,
   "metadata": {
    "collapsed": true
   },
   "outputs": [],
   "source": [
    "user_path = pd.DataFrame({'user_id': list(user_path_dict.keys()), 'path': list(user_path_dict.values())})"
   ]
  },
  {
   "cell_type": "code",
   "execution_count": null,
   "metadata": {
    "collapsed": true
   },
   "outputs": [],
   "source": [
    "#user_path = pd.read_csv('/home/jubauser1/jzou/dcm_account7252/user_path/user_path_added_branded_nonbranded.csv')\n",
    "\n",
    "def user_group(user_id, buyers, high_engagers, low_engagers):\n",
    "    if user_id in buyers:\n",
    "        return 1\n",
    "    elif user_id in high_engagers:\n",
    "        return 2\n",
    "    elif user_id in low_engagers:\n",
    "        return 3\n",
    "    else:\n",
    "        return 4\n",
    "    \n",
    "user_path['group'] = user_path['user_id'].apply(lambda x: user_group(x, buyers, high_engagers, low_engagers))\n",
    "\n",
    "user_path"
   ]
  },
  {
   "cell_type": "code",
   "execution_count": null,
   "metadata": {
    "collapsed": true
   },
   "outputs": [],
   "source": [
    "user_path.to_csv('/home/jubauser1/jzou/dcm_account7252/user_path/user_path_added_branded_nonbranded_no_hva.csv', index=False)"
   ]
  },
  {
   "cell_type": "code",
   "execution_count": null,
   "metadata": {
    "collapsed": true
   },
   "outputs": [],
   "source": [
    "user_path"
   ]
  },
  {
   "cell_type": "code",
   "execution_count": null,
   "metadata": {
    "collapsed": true
   },
   "outputs": [],
   "source": [
    "user_path.to_csv('/home/jubauser1/jzou/dcm_account7252/user_path/model/user_path.csv', index=False)"
   ]
  },
  {
   "cell_type": "code",
   "execution_count": null,
   "metadata": {
    "collapsed": true
   },
   "outputs": [],
   "source": [
    "buyer_path = user_path[user_path['user_id'].isin(buyers)]"
   ]
  },
  {
   "cell_type": "code",
   "execution_count": null,
   "metadata": {
    "collapsed": true
   },
   "outputs": [],
   "source": [
    "high_engagers_path = user_path[user_path['user_id'].isin(high_engagers)]"
   ]
  },
  {
   "cell_type": "code",
   "execution_count": null,
   "metadata": {
    "collapsed": true
   },
   "outputs": [],
   "source": [
    "low_engagers_path = user_path[user_path['user_id'].isin(low_engagers)]"
   ]
  },
  {
   "cell_type": "code",
   "execution_count": null,
   "metadata": {
    "collapsed": true
   },
   "outputs": [],
   "source": [
    "buyer_path_count = pd.DataFrame(buyer_path['path'].value_counts())"
   ]
  },
  {
   "cell_type": "code",
   "execution_count": null,
   "metadata": {
    "collapsed": true
   },
   "outputs": [],
   "source": [
    "high_engagers_path_count = pd.DataFrame(high_engagers_path['path'].value_counts())"
   ]
  },
  {
   "cell_type": "code",
   "execution_count": null,
   "metadata": {
    "collapsed": true
   },
   "outputs": [],
   "source": [
    "low_engagers_path_count = pd.DataFrame(low_engagers_path['path'].value_counts())"
   ]
  },
  {
   "cell_type": "code",
   "execution_count": null,
   "metadata": {
    "collapsed": true
   },
   "outputs": [],
   "source": [
    "writer = pd.ExcelWriter(path='/home/jubauser1/jzou/dcm_account7252/user_path/user_path_by_group_added_branded_nonbranded.xlsx')"
   ]
  },
  {
   "cell_type": "code",
   "execution_count": null,
   "metadata": {
    "collapsed": true
   },
   "outputs": [],
   "source": [
    "buyer_path.to_excel(writer, sheet_name='buyer_path')\n",
    "buyer_path_count.to_excel(writer, sheet_name='buyer_path_count')\n",
    "high_engagers_path.to_excel(writer, sheet_name='high_engagers_path')\n",
    "high_engagers_path_count.to_excel(writer, sheet_name='high_engagers_path_count')\n",
    "low_engagers_path.to_excel(writer, sheet_name='low_engagers_path')\n",
    "low_engagers_path_count.to_excel(writer, sheet_name='low_engagers_path_count')"
   ]
  },
  {
   "cell_type": "code",
   "execution_count": null,
   "metadata": {
    "collapsed": true
   },
   "outputs": [],
   "source": [
    "writer.save()"
   ]
  },
  {
   "cell_type": "markdown",
   "metadata": {},
   "source": [
    "# performance by group"
   ]
  },
  {
   "cell_type": "code",
   "execution_count": null,
   "metadata": {
    "collapsed": true
   },
   "outputs": [],
   "source": [
    "user_groups = {'buyers': buyers, 'high_engagers': high_engagers,'low_engagers': low_engagers}\n",
    "groups_performance = pd.DataFrame()\n",
    "for group_name, users in user_groups.items():\n",
    "    print(group_name, len(users))\n",
    "    group_performance = pd.Series({'group': group_name})\n",
    "\n",
    "    group_impr = impression[impression['User ID'].isin(users)]\n",
    "    group_performance = group_performance.append(group_impr['activity_cat'].value_counts())\n",
    "\n",
    "    group_click = click[click['User ID'].isin(users)]\n",
    "    group_performance = group_performance.append(group_click['activity_cat'].value_counts())\n",
    "\n",
    "    group_activity = activity[activity['User ID'].isin(users)]\n",
    "    group_performance = group_performance.append(group_activity['activity_cat'].value_counts())\n",
    "\n",
    "    groups_performance = groups_performance.append(group_performance, ignore_index=True)"
   ]
  },
  {
   "cell_type": "code",
   "execution_count": null,
   "metadata": {
    "collapsed": true
   },
   "outputs": [],
   "source": [
    "groups_performance"
   ]
  },
  {
   "cell_type": "code",
   "execution_count": null,
   "metadata": {
    "collapsed": true
   },
   "outputs": [],
   "source": [
    "groups_performance = groups_performance[['group', 'impr: Criteo', 'impr: QuantCast', \n",
    "                     'click: Criteo', 'click: DART Search : Google',\n",
    "                     'click: DART Search : MSN', 'click: DART Search : Yahoo! Gemini',\n",
    "                                         'branded_click: DART Search : Google',\n",
    "                     'branded_click: DART Search : MSN', 'branded_click: DART Search : Yahoo! Gemini',\n",
    "                                         'nonbranded_click: DART Search : Google',\n",
    "                     'nonbranded_click: DART Search : MSN', 'nonbranded_click: DART Search : Yahoo! Gemini',\n",
    "                     'click: Facebook', 'click: QuantCast', \n",
    "                     'HVA1', 'HVA2', 'HVA3', 'others', 'transaction']]\n",
    "groups_performance.to_csv('/home/jubauser1/jzou/dcm_account7252/user_path/groups_performance_added_branded_nonbranded.csv', index=False)"
   ]
  },
  {
   "cell_type": "code",
   "execution_count": null,
   "metadata": {
    "collapsed": true
   },
   "outputs": [],
   "source": [
    "merged_buyers = merged[merged['User ID'].isin(buyers)].copy()\n",
    "merged_buyers.sort_values(by='Event Time', inplace=True)\n",
    "merged_buyers.reset_index(inplace=True, drop=True)\n",
    "\n",
    "merged_buyers"
   ]
  },
  {
   "cell_type": "code",
   "execution_count": null,
   "metadata": {
    "collapsed": true
   },
   "outputs": [],
   "source": [
    "time_span = list()\n",
    "for user, df in merged_buyers.groupby('User ID'):\n",
    "    index_of_1st_transaction = df[df['activity_cat'] == 'transaction'].index[0]\n",
    "\n",
    "    df = df.loc[:index_of_1st_transaction]\n",
    "\n",
    "    first_transaction = df.loc[index_of_1st_transaction]['Event Time']\n",
    "    d = {'user_id': user} \n",
    "    \n",
    "    temp = df[df['activity_cat'].isin({'HVA1', 'HVA2', 'HVA3'})]\n",
    "    if len(temp) > 0:\n",
    "        first_hva = df.loc[temp.index[0]]['Event Time']\n",
    "        d['1st HVA to 1st transaction'] = (timestamp(first_transaction) - timestamp(first_hva)).seconds\n",
    "        index_of_1st_hva = temp.index[0]\n",
    "    else:\n",
    "        first_hva = None\n",
    "        d['1st HVA to 1st transaction'] = None\n",
    "    del temp\n",
    "\n",
    "    temp = df[df['activity_cat'].isin({'HVA1', 'HVA2', 'HVA3', 'others'})]\n",
    "    if len(temp) > 0:\n",
    "        first_conversion = df.loc[temp.index[0]]['Event Time']\n",
    "        d['1st conversion to 1st transaction'] = (timestamp(first_transaction) - timestamp(first_conversion)).seconds\n",
    "    else:\n",
    "        first_conversion = None\n",
    "        d['1st conversion to 1st transaction'] = None\n",
    "    del temp\n",
    "\n",
    "    temp = df[df['activity_cat'].isin({'click: Criteo',\n",
    "                                        'click: DART Search : Google',\n",
    "                                        'click: DART Search : MSN',\n",
    "                                        'click: DART Search : Yahoo! Gemini',\n",
    "                                        'branded_click: DART Search : Google',\n",
    "                                        'branded_click: DART Search : MSN',\n",
    "                                        'branded_click: DART Search : Yahoo! Gemini',\n",
    "                                        'nonbranded_click: DART Search : Google',\n",
    "                                        'nonbranded_click: DART Search : MSN',\n",
    "                                        'nonbranded_click: DART Search : Yahoo! Gemini',\n",
    "                                        'click: Facebook',\n",
    "                                        'click: QuantCast',\n",
    "                                        'impr: Criteo',\n",
    "                                        'impr: QuantCast'})]\n",
    "    if len(temp) > 0:\n",
    "        first_exposure = df.loc[temp.index[0]]['Event Time']\n",
    "        last_exposure = df.loc[temp.index[-1]]['Event Time']\n",
    "        d['1st exposure to 1st transaction'] = (timestamp(first_transaction) - timestamp(first_exposure)).seconds\n",
    "        d['last exposure to 1st transaction'] = (timestamp(first_transaction) - timestamp(last_exposure)).seconds\n",
    "        if first_hva:\n",
    "            temp = temp[temp['Event Time'] < first_hva]\n",
    "            if len(temp) > 0:\n",
    "                first_exposure_before_hva = df.loc[temp.index[0]]['Event Time']\n",
    "                last_exposure_before_hva = df.loc[temp.index[-1]]['Event Time']\n",
    "                d['1st exposure to 1st hva'] = (timestamp(first_hva) - timestamp(first_exposure_before_hva)).seconds\n",
    "                d['last exposure to 1st hva'] = (timestamp(first_hva) - timestamp(last_exposure_before_hva)).seconds\n",
    "            else:\n",
    "                d['1st exposure to 1st hva'] = None\n",
    "                d['last exposure to 1st hva'] = None\n",
    "        else:\n",
    "            d['1st exposure to 1st hva'] = None\n",
    "            d['last exposure to 1st hva'] = None\n",
    "    else:\n",
    "        d['1st exposure to 1st transaction'] = None\n",
    "        d['last exposure to 1st transaction'] = None\n",
    "    del temp\n",
    "    time_span.append(d)"
   ]
  },
  {
   "cell_type": "code",
   "execution_count": null,
   "metadata": {
    "collapsed": true
   },
   "outputs": [],
   "source": [
    "time_span_df = pd.DataFrame(time_span)"
   ]
  },
  {
   "cell_type": "code",
   "execution_count": null,
   "metadata": {
    "collapsed": true
   },
   "outputs": [],
   "source": [
    "time_span_df.to_csv('/home/jubauser1/jzou/dcm_account7252/user_path/buyers_time_span_added_branded_nonbranded.csv', index=False)"
   ]
  },
  {
   "cell_type": "code",
   "execution_count": null,
   "metadata": {
    "collapsed": true
   },
   "outputs": [],
   "source": [
    "time_span_df"
   ]
  },
  {
   "cell_type": "code",
   "execution_count": null,
   "metadata": {
    "collapsed": true
   },
   "outputs": [],
   "source": [
    "def second_to_time(sec):\n",
    "    days = sec // 86400\n",
    "    sec -= 86400*days\n",
    "\n",
    "    hrs = sec // 3600\n",
    "    sec -= 3600*hrs\n",
    "\n",
    "    mins = sec // 60\n",
    "    sec -= 60*mins\n",
    "    print(days, ':', hrs, ':', mins, ':', sec)\n",
    "    \n",
    "second_to_time(11823)\n",
    "\n",
    "columns_mean = ['1st exposure to 1st transaction', \n",
    "                'last exposure to 1st transaction', \n",
    "                '1st conversion to 1st transaction',\n",
    "                '1st HVA to 1st transaction',\n",
    "                '1st exposure to 1st hva',\n",
    "                'last exposure to 1st hva']\n",
    "for c in columns_mean:\n",
    "    print(c, '>>>>>',)\n",
    "    second_to_time(time_span_df[time_span_df[c].notnull()][c].mean())"
   ]
  },
  {
   "cell_type": "code",
   "execution_count": null,
   "metadata": {
    "collapsed": true
   },
   "outputs": [],
   "source": [
    "merged_sample = merged[merged['User ID'].isin({\n",
    "    'AMsySZYqZ62isOj4ct2oaN7cxzGm',\n",
    "    'AMsySZbvt4-cUPcPkym8okp_IvkL',\n",
    "    'AMsySZaecrQgZiLlYDllkIP-qrsI',\n",
    "    'AMsySZZx2SL_OWuDkcb1kLFoxZSf',\n",
    "    'AMsySZYPo16_Thv1pOtns8PChLud',\n",
    "    'AMsySZanHUWC9p2FfsUw2bjrJK0u',\n",
    "    'AMsySZYa2OIWa7yfPWOseKc2a8K0',\n",
    "    'AMsySZaeArP_muso7MrpJOmZcBng',\n",
    "    'AMsySZY3yrWNDMK_M7rgKIqdjBYS',\n",
    "    'AMsySZa0hlZABPXiP6U2inxD3M-l'\n",
    "    \n",
    "})]"
   ]
  },
  {
   "cell_type": "code",
   "execution_count": null,
   "metadata": {
    "collapsed": true
   },
   "outputs": [],
   "source": [
    "merged_sample['date'] = merged_sample['Event Time'].apply(lambda x: timestamp(x).strftime('%Y-%m-%d'))\n",
    "merged_sample['time'] = merged_sample['Event Time'].apply(lambda x: timestamp(x).strftime('%H:%M:%S'))"
   ]
  },
  {
   "cell_type": "code",
   "execution_count": null,
   "metadata": {
    "collapsed": true
   },
   "outputs": [],
   "source": [
    "merged_sample"
   ]
  },
  {
   "cell_type": "code",
   "execution_count": null,
   "metadata": {
    "collapsed": true
   },
   "outputs": [],
   "source": [
    "merged_sample.to_csv('/home/jubauser1/jzou/dcm_account7252/user_path/qc/sample_users.csv',index=False)"
   ]
  },
  {
   "cell_type": "markdown",
   "metadata": {},
   "source": [
    "# group performance by user id"
   ]
  },
  {
   "cell_type": "code",
   "execution_count": null,
   "metadata": {
    "collapsed": true
   },
   "outputs": [],
   "source": [
    "merged"
   ]
  },
  {
   "cell_type": "code",
   "execution_count": null,
   "metadata": {
    "collapsed": true
   },
   "outputs": [],
   "source": [
    "groups_performace_by_id = pd.DataFrame(columns=['user_id', 'group', 'impr: Criteo', 'impr: QuantCast', \n",
    "                     'click: Criteo', 'click: DART Search : Google',\n",
    "                     'click: DART Search : MSN', 'click: DART Search : Yahoo! Gemini',\n",
    "                     'click: Facebook', 'click: QuantCast', \n",
    "                     'HVA1', 'HVA2', 'HVA3', 'others', 'transaction'])"
   ]
  },
  {
   "cell_type": "code",
   "execution_count": null,
   "metadata": {
    "collapsed": true
   },
   "outputs": [],
   "source": [
    "list_of_user = list()\n",
    "for user, df in merged.groupby('User ID'):\n",
    "    s = df['activity_cat'].value_counts()\n",
    "    s['user_id'] = user\n",
    "    if user in buyers:\n",
    "        s['group'] = 'buyers'\n",
    "    elif user in high_engagers:\n",
    "        s['group'] = 'high_engagers'\n",
    "    elif user in low_engagers:\n",
    "        s['group'] = 'low_engagers'\n",
    "    else:\n",
    "        s['group'] = 'no_visit'\n",
    "    logging.info(user)\n",
    "    list_of_user.append(s)\n",
    "    #groups_performace_by_id = groups_performace_by_id.append(s, ignore_index=True)"
   ]
  },
  {
   "cell_type": "code",
   "execution_count": null,
   "metadata": {
    "collapsed": true
   },
   "outputs": [],
   "source": [
    "groups_performace_by_id = pd.DataFrame(list_of_user)"
   ]
  },
  {
   "cell_type": "code",
   "execution_count": null,
   "metadata": {
    "collapsed": true
   },
   "outputs": [],
   "source": [
    "groups_performace_by_id.to_csv('/home/jubauser1/jzou/dcm_account7252/user_path/groups_performace_by_id.csv', index=False)"
   ]
  },
  {
   "cell_type": "code",
   "execution_count": null,
   "metadata": {
    "collapsed": true
   },
   "outputs": [],
   "source": [
    "groups_performace_by_id[['user_id', 'group', 'impr: Criteo', 'impr: QuantCast', \n",
    "                         'click: Criteo', 'click: DART Search : Google',\n",
    "                         'click: DART Search : MSN', 'click: DART Search : Yahoo! Gemini',\n",
    "                         'click: Facebook', 'click: QuantCast', \n",
    "                         'HVA1', 'HVA2', 'HVA3', 'others', 'transaction']].to_csv(\n",
    "    '/home/jubauser1/jzou/dcm_account7252/user_path/groups_performace_by_id.csv', index=False)"
   ]
  },
  {
   "cell_type": "code",
   "execution_count": null,
   "metadata": {
    "collapsed": true
   },
   "outputs": [],
   "source": [
    "groups_performace_by_id"
   ]
  },
  {
   "cell_type": "markdown",
   "metadata": {
    "collapsed": true
   },
   "source": [
    "# path permutation"
   ]
  },
  {
   "cell_type": "code",
   "execution_count": null,
   "metadata": {
    "collapsed": true
   },
   "outputs": [],
   "source": [
    "import json\n",
    "import re\n",
    "import sys"
   ]
  },
  {
   "cell_type": "code",
   "execution_count": null,
   "metadata": {
    "collapsed": true
   },
   "outputs": [],
   "source": [
    "def extract_activity_count(s):\n",
    "    '''\n",
    "    Args: str, eg. 'impr(23)'\n",
    "    Returns:\n",
    "    tuple, (str, int), eg. ('impr', 23)\n",
    "    '''\n",
    "    m = re.match('(.*)\\((\\d+)\\)', s)\n",
    "    return m.group(1), int(m.group(2))\n",
    "\n",
    "extract_activity_count('click: DART Search : Yahoo! Gemini(23)')"
   ]
  },
  {
   "cell_type": "code",
   "execution_count": null,
   "metadata": {
    "collapsed": true
   },
   "outputs": [],
   "source": [
    "user_path = pd.read_csv('/home/jubauser1/jzou/dcm_account7252/user_path/user_path_added_branded_nonbranded.csv')"
   ]
  },
  {
   "cell_type": "code",
   "execution_count": null,
   "metadata": {
    "collapsed": true
   },
   "outputs": [],
   "source": [
    "user_path"
   ]
  },
  {
   "cell_type": "code",
   "execution_count": null,
   "metadata": {
    "collapsed": true
   },
   "outputs": [],
   "source": [
    "def path_to_list(s):\n",
    "    '''\n",
    "    Args:\n",
    "    str, path str, eg. 'impr(1) -> click(2) -> hva(3)'\n",
    "    Returns:\n",
    "    list of activity, eg.['impr', 'click', 'hva']\n",
    "    '''\n",
    "    l = s.split(' -> ')\n",
    "    l = [extract_activity_count(x)[0] for x in l]\n",
    "    return l\n",
    "\n",
    "path_to_list('impr(1) -> click(2) -> hva(3)')"
   ]
  },
  {
   "cell_type": "code",
   "execution_count": null,
   "metadata": {
    "collapsed": true
   },
   "outputs": [],
   "source": [
    "user_path['path_list'] = user_path['path'].apply(path_to_list)"
   ]
  },
  {
   "cell_type": "code",
   "execution_count": null,
   "metadata": {
    "collapsed": true
   },
   "outputs": [],
   "source": [
    "user_path['length'] = user_path['path_list'].apply(len)\n",
    "\n",
    "user_path.sort_values(by='length', inplace=True)\n",
    "\n",
    "user_path.reset_index(inplace=True)\n",
    "\n",
    "user_path"
   ]
  },
  {
   "cell_type": "code",
   "execution_count": null,
   "metadata": {
    "collapsed": true
   },
   "outputs": [],
   "source": [
    "all_path = list(user_path['path_list'])"
   ]
  },
  {
   "cell_type": "code",
   "execution_count": null,
   "metadata": {
    "collapsed": true
   },
   "outputs": [],
   "source": [
    "len(all_path[-1])"
   ]
  },
  {
   "cell_type": "code",
   "execution_count": null,
   "metadata": {
    "collapsed": true
   },
   "outputs": [],
   "source": [
    "json.dump(all_path, open('/home/jubauser1/jzou/dcm_account7252/user_path/all_path_added_brand_nonbrand.json', 'w'))"
   ]
  },
  {
   "cell_type": "code",
   "execution_count": null,
   "metadata": {
    "collapsed": true
   },
   "outputs": [],
   "source": [
    "all_path = json.load(open('/home/jubauser1/jzou/dcm_account7252/user_path/all_path.json', 'r'))"
   ]
  },
  {
   "cell_type": "code",
   "execution_count": null,
   "metadata": {
    "collapsed": true
   },
   "outputs": [],
   "source": [
    "path_permutation = list()\n",
    "x = 0\n",
    "for pth in all_path:\n",
    "    n = len(pth)\n",
    "    i = 0\n",
    "    for j in range(len(path_permutation)):\n",
    "        if pth[i] == path_permutation[j]:\n",
    "            i += 1\n",
    "            if i == n: break\n",
    "    path_permutation.extend(pth[i:n])\n",
    "    x += 1\n",
    "    logging.info('%d: %d'%(x, len(path_permutation)))"
   ]
  },
  {
   "cell_type": "code",
   "execution_count": null,
   "metadata": {
    "collapsed": true
   },
   "outputs": [],
   "source": [
    "set(path_permutation)"
   ]
  },
  {
   "cell_type": "code",
   "execution_count": null,
   "metadata": {
    "collapsed": true
   },
   "outputs": [],
   "source": [
    "json.dump(path_permutation, open('/home/jubauser1/jzou/dcm_account7252/user_path/path_permutation_added_brand_nonbrand.json', 'w'))"
   ]
  },
  {
   "cell_type": "code",
   "execution_count": null,
   "metadata": {
    "collapsed": true
   },
   "outputs": [],
   "source": [
    "path_permutation = json.load(open('/home/jubauser1/jzou/dcm_account7252/user_path/path_permutation_added_brand_nonbrand.json', 'r'))"
   ]
  },
  {
   "cell_type": "code",
   "execution_count": null,
   "metadata": {
    "collapsed": true
   },
   "outputs": [],
   "source": [
    "df = pd.DataFrame([[1,0,2,0, 'asdf'], [1,1,1,0, 'dfs']])\n",
    "df\n",
    "\n",
    "df.replace(0, np.nan, inplace=True)\n",
    "\n",
    "df.notnull().astype('int')"
   ]
  },
  {
   "cell_type": "code",
   "execution_count": null,
   "metadata": {
    "collapsed": true
   },
   "outputs": [],
   "source": [
    "def path_str_permutaion_counts(s, permutation):\n",
    "    '''count each activity in order of path_permutaion\n",
    "    Args:\n",
    "    s: str, eg. impr(1) -> click(2) -> hva(3)\n",
    "    permutation: list, eg. [impr, click, impr, hva, transaction]\n",
    "    \n",
    "    Retruns,\n",
    "    list, [1, 2, 0, 3, 0]\n",
    "    '''\n",
    "    l = s.split(' -> ')\n",
    "    i = 0\n",
    "    result = [0]*len(permutation)\n",
    "    for x in l:\n",
    "        act, count = extract_activity_count(x)\n",
    "        while permutation[i] != act:\n",
    "            i += 1\n",
    "        result[i] = count\n",
    "        i += 1\n",
    "    return result\n",
    "        \n",
    "path_str_permutaion_counts('impr(1) -> click(2) -> hva(3)', ['click', 'impr', 'click', 'impr', 'hva', 'transaction'])"
   ]
  },
  {
   "cell_type": "code",
   "execution_count": null,
   "metadata": {
    "collapsed": true
   },
   "outputs": [],
   "source": [
    "import math\n",
    "math.pow(10, 3)"
   ]
  },
  {
   "cell_type": "code",
   "execution_count": null,
   "metadata": {
    "collapsed": true
   },
   "outputs": [],
   "source": [
    "sample_index = list()\n",
    "for i in range(7):\n",
    "    sample_index += range(int(math.pow(10, i)), int(math.pow(10, i)+100))"
   ]
  },
  {
   "cell_type": "code",
   "execution_count": null,
   "metadata": {
    "collapsed": true
   },
   "outputs": [],
   "source": [
    "count_by_permutation = list()\n",
    "for index in user_path.index:\n",
    "#for index in sample_index:\n",
    "    logging.info(index)\n",
    "    pth = user_path.loc[index, 'path']\n",
    "    result = path_str_permutaion_counts(pth, path_permutation)\n",
    "    result.append(user_path.loc[index, 'user_id'])\n",
    "    count_by_permutation.append(result)"
   ]
  },
  {
   "cell_type": "code",
   "execution_count": null,
   "metadata": {
    "collapsed": true
   },
   "outputs": [],
   "source": [
    "sys.getsizeof(count_by_permutation)"
   ]
  },
  {
   "cell_type": "code",
   "execution_count": null,
   "metadata": {
    "collapsed": true
   },
   "outputs": [],
   "source": [
    "len(count_by_permutation)"
   ]
  },
  {
   "cell_type": "code",
   "execution_count": null,
   "metadata": {
    "collapsed": true
   },
   "outputs": [],
   "source": [
    "len(count_by_permutation[0])"
   ]
  },
  {
   "cell_type": "code",
   "execution_count": null,
   "metadata": {
    "collapsed": true
   },
   "outputs": [],
   "source": [
    "json.dump(count_by_permutation, open('/home/jubauser1/jzou/dcm_account7252/user_path/count_by_permutation_added_brand_nonbrand.json', 'w'))"
   ]
  },
  {
   "cell_type": "code",
   "execution_count": null,
   "metadata": {
    "collapsed": true
   },
   "outputs": [],
   "source": [
    "count_by_permutation = json.load(open('/home/jubauser1/jzou/dcm_account7252/user_path/count_by_permutation.json', 'r'))"
   ]
  },
  {
   "cell_type": "code",
   "execution_count": null,
   "metadata": {
    "collapsed": true
   },
   "outputs": [],
   "source": [
    "len(count_by_permutation)"
   ]
  },
  {
   "cell_type": "code",
   "execution_count": null,
   "metadata": {
    "collapsed": true
   },
   "outputs": [],
   "source": [
    "path_permutation.append('user_id')\n",
    "count_by_permutation.insert(0, path_permutation)"
   ]
  },
  {
   "cell_type": "code",
   "execution_count": null,
   "metadata": {
    "collapsed": true
   },
   "outputs": [],
   "source": [
    "count_by_permutation_df = pd.DataFrame(count_by_permutation, dtype=int)"
   ]
  },
  {
   "cell_type": "code",
   "execution_count": null,
   "metadata": {
    "collapsed": true
   },
   "outputs": [],
   "source": [
    "count_by_permutation_df.to_csv('/home/jubauser1/jzou/dcm_account7252/user_path/count_by_permutation_sample.csv', index=False)"
   ]
  },
  {
   "cell_type": "code",
   "execution_count": null,
   "metadata": {
    "collapsed": true
   },
   "outputs": [],
   "source": [
    "count_by_permutation_df.replace(0, np.nan, inplace=True)\n",
    "\n",
    "count_by_permutation_df.notnull().astype(int).to_csv('/home/jubauser1/jzou/dcm_account7252/user_path/count_by_permutation_binary_sample.csv', index=False)"
   ]
  },
  {
   "cell_type": "code",
   "execution_count": null,
   "metadata": {
    "collapsed": true,
    "scrolled": false
   },
   "outputs": [],
   "source": [
    "count_by_permutation_df"
   ]
  },
  {
   "cell_type": "markdown",
   "metadata": {
    "collapsed": true
   },
   "source": [
    "# 3 step path"
   ]
  },
  {
   "cell_type": "code",
   "execution_count": null,
   "metadata": {
    "collapsed": true
   },
   "outputs": [],
   "source": [
    "merged"
   ]
  },
  {
   "cell_type": "code",
   "execution_count": null,
   "metadata": {
    "collapsed": true
   },
   "outputs": [],
   "source": [
    "def path_list_to_str_no_count(path):\n",
    "    '''\n",
    "    Args: \n",
    "        path: list, ['a', 'a', 'b', 'c', 'c', 'c']\n",
    "    Returns:\n",
    "        str, 'a(2) -> b(1) -> c(3)'\n",
    "    '''\n",
    "    #if 'transaction' in path:\n",
    "    #    path = path[: path.index('transaction')+1]\n",
    "    curr = path[0]\n",
    "    result = list()\n",
    "    for x in path:\n",
    "        if x == curr:\n",
    "            continue\n",
    "        else:\n",
    "            result.append(curr)\n",
    "            curr = x\n",
    "    result.append(curr)\n",
    "    return result\n",
    "\n",
    "path_list_to_str_no_count(['a', 'a', 'others', 'b', 'others', 'transaction', 'c', 'c',  'c', 'others'])"
   ]
  },
  {
   "cell_type": "code",
   "execution_count": null,
   "metadata": {
    "collapsed": true
   },
   "outputs": [],
   "source": [
    "import logging\n",
    "logging.basicConfig(filename='path.log', \n",
    "                    level=logging.INFO, \n",
    "                    format='%(asctime)s %(message)s')"
   ]
  },
  {
   "cell_type": "code",
   "execution_count": null,
   "metadata": {
    "collapsed": true,
    "scrolled": true
   },
   "outputs": [],
   "source": [
    "l = ['a', 'b']\n",
    "l.count('c')"
   ]
  },
  {
   "cell_type": "code",
   "execution_count": null,
   "metadata": {
    "collapsed": true
   },
   "outputs": [],
   "source": [
    "acts = set(merged['activity_cat'])"
   ]
  },
  {
   "cell_type": "code",
   "execution_count": null,
   "metadata": {
    "collapsed": true
   },
   "outputs": [],
   "source": [
    "acts"
   ]
  },
  {
   "cell_type": "code",
   "execution_count": null,
   "metadata": {
    "collapsed": true
   },
   "outputs": [],
   "source": [
    "medias = ['branded_click: DART Search : Google',\n",
    "         'branded_click: DART Search : MSN',\n",
    "         'click: Criteo',\n",
    "         'click: DART Search : Google',\n",
    "         'click: DART Search : MSN',\n",
    "         'click: Facebook',\n",
    "         'click: QuantCast',\n",
    "         'click: Rakuten Marketing Index',\n",
    "         'impr: Criteo',\n",
    "         'impr: QuantCast',\n",
    "         'impr: Rakuten Marketing Index',\n",
    "         'nonbranded_click: DART Search : Google',\n",
    "         'nonbranded_click: DART Search : MSN',\n",
    "]"
   ]
  },
  {
   "cell_type": "code",
   "execution_count": null,
   "metadata": {
    "collapsed": true
   },
   "outputs": [],
   "source": [
    "def extract_2_steps_sequence(l):\n",
    "    '''extract all combinations in order, eg. ['a', 'b', 'c'] \n",
    "    will return ['a_to_b', 'a_to_c', 'b_to_c'], 'c_to_b' won't \n",
    "    be in result, since there was no 'b' after 'c'\n",
    "    Args:\n",
    "        l, list of string\n",
    "    Returns:\n",
    "        result, list of string\n",
    "    '''\n",
    "    if len(l) == 1:\n",
    "        return ['%s -> nothing'%l[0]]\n",
    "    elif len(l) == 0:\n",
    "        return ['no_media']\n",
    "    else:\n",
    "        d = {l[0]: set()}\n",
    "        for i in range(1, len(l)):\n",
    "            for v in d.values():\n",
    "                v.add(l[i])\n",
    "            if l[i] not in d:\n",
    "                d[l[i]] = set()\n",
    "        result = list()\n",
    "        for k in d.keys():\n",
    "            for v in d[k]:\n",
    "                result.append('%s -> %s'%(k, v))\n",
    "        return result\n",
    "    \n",
    "extract_2_steps_sequence([])"
   ]
  },
  {
   "cell_type": "code",
   "execution_count": null,
   "metadata": {
    "collapsed": true
   },
   "outputs": [],
   "source": [
    "def count_hva_transaction(l):\n",
    "    '''count how many hva and transaction in list l'''\n",
    "    d = dict()\n",
    "    for x in {'others', 'HVA1', 'HVA2', 'HVA3', 'transaction'}:\n",
    "        d[x] = l.count(x)\n",
    "    return d\n",
    "\n",
    "count_hva_transaction(['a', 'HVA1', 'HVA1', 'HVA2'])"
   ]
  },
  {
   "cell_type": "code",
   "execution_count": null,
   "metadata": {
    "collapsed": true
   },
   "outputs": [],
   "source": [
    "merged[merged['User ID'] == '']"
   ]
  },
  {
   "cell_type": "code",
   "execution_count": null,
   "metadata": {
    "collapsed": true
   },
   "outputs": [],
   "source": [
    "merged_groups_by_id = merged.groupby('User ID')\n",
    "\n",
    "user_paths = list()\n",
    "for user, group in merged_groups_by_id:\n",
    "    try:\n",
    "        path_list = list(group['activity_cat'])\n",
    "        #path_list = [x for x in path_list if x != 'others']\n",
    "        path_list = [x for x in path_list if x not in {'others', 'HVA1', 'HVA2', 'HVA3', 'transaction'}]\n",
    "        if len(path_list) > 0:\n",
    "            path = path_list_to_str_no_count(path_list)\n",
    "            logging.info('%s >>>> %s'%(user, path))\n",
    "            user_path_dict[user] = path\n",
    "    except Exception as e:\n",
    "        print(user, e)"
   ]
  },
  {
   "cell_type": "code",
   "execution_count": null,
   "metadata": {
    "collapsed": true
   },
   "outputs": [],
   "source": [
    "user_path = pd.DataFrame({'user_id': list(user_path_dict.keys()), 'path': list(user_path_dict.values())})"
   ]
  },
  {
   "cell_type": "code",
   "execution_count": null,
   "metadata": {
    "collapsed": true
   },
   "outputs": [],
   "source": [
    "user_path.to_csv('/home/jubauser1/jzou/dcm_account7252/user_path/user_path_no_count.csv', index=False)"
   ]
  },
  {
   "cell_type": "code",
   "execution_count": null,
   "metadata": {
    "collapsed": true
   },
   "outputs": [],
   "source": [
    "user_path = pd.read_csv('/home/jubauser1/jzou/dcm_account7252/user_path/user_path_no_count.csv')"
   ]
  },
  {
   "cell_type": "code",
   "execution_count": null,
   "metadata": {
    "collapsed": true
   },
   "outputs": [],
   "source": [
    "user_path"
   ]
  },
  {
   "cell_type": "code",
   "execution_count": null,
   "metadata": {
    "collapsed": true
   },
   "outputs": [],
   "source": [
    "sample_user = ['AMsySZYqZ62isOj4ct2oaN7cxzGm',\n",
    "    'AMsySZbvt4-cUPcPkym8okp_IvkL',\n",
    "    'AMsySZaecrQgZiLlYDllkIP-qrsI',\n",
    "    'AMsySZZx2SL_OWuDkcb1kLFoxZSf',\n",
    "    'AMsySZYPo16_Thv1pOtns8PChLud',\n",
    "    'AMsySZanHUWC9p2FfsUw2bjrJK0u',\n",
    "    'AMsySZYa2OIWa7yfPWOseKc2a8K0',\n",
    "    'AMsySZaeArP_muso7MrpJOmZcBng',\n",
    "    'AMsySZY3yrWNDMK_M7rgKIqdjBYS',\n",
    "    'AMsySZa0hlZABPXiP6U2inxD3M-l']\n",
    "\n",
    "path_by_user = pd.DataFrame()\n",
    "for user_id in sample_user:\n",
    "    l = list(merged[merged['User ID'] == user_id]['activity_cat'])\n",
    "    media_flag = True\n",
    "    result = dict()\n",
    "    conversions = {'others', 'HVA1', 'HVA2', 'HVA3', 'transaction'}\n",
    "    for i in range((len(l))):\n",
    "        if (l[i] in conversions or i == len(l)-1) and media_flag:\n",
    "            media_flag = False\n",
    "            _i = i+1 if i==len(l)-1 else i\n",
    "            sequences = extract_2_steps_sequence([x for x in l[:_i] if x not in conversions])\n",
    "            counts = count_hva_transaction(l[i:])\n",
    "            #counts['user_id'] = user_id\n",
    "            for s in sequences:\n",
    "                if s not in result:\n",
    "                    result[s] = counts\n",
    "        if l[i] not in conversions and not media_flag:\n",
    "            media_flag = True\n",
    "\n",
    "    df = pd.DataFrame(result).T\n",
    "    df['user_id'] = user_id\n",
    "    path_by_user = path_by_user.append(df)"
   ]
  },
  {
   "cell_type": "code",
   "execution_count": null,
   "metadata": {
    "collapsed": true
   },
   "outputs": [],
   "source": [
    "merged.to_csv('/home/jubauser1/jzou/dcm_account7252/user_path/merged.csv', index=False)"
   ]
  },
  {
   "cell_type": "code",
   "execution_count": null,
   "metadata": {
    "collapsed": true
   },
   "outputs": [],
   "source": []
  },
  {
   "cell_type": "code",
   "execution_count": null,
   "metadata": {
    "collapsed": true
   },
   "outputs": [],
   "source": []
  },
  {
   "cell_type": "code",
   "execution_count": null,
   "metadata": {
    "collapsed": true
   },
   "outputs": [],
   "source": [
    "from collections import Counter\n",
    "def result_cum(d1, d2):\n",
    "    for k, v in d2.items():\n",
    "        if k in d1:\n",
    "            d1[k] = dict(Counter(d1[k]) + Counter(d2[k]))\n",
    "        else:\n",
    "            d1[k] = d2[k]"
   ]
  },
  {
   "cell_type": "code",
   "execution_count": null,
   "metadata": {
    "collapsed": true,
    "scrolled": true
   },
   "outputs": [],
   "source": [
    "path_by_user = pd.DataFrame()\n",
    "cum_result = dict()\n",
    "for user_id in sample_user:\n",
    "    l = list(merged[merged['User ID'] == user_id]['activity_cat'])\n",
    "    media_flag = True\n",
    "    result = dict()\n",
    "    conversions = {'others', 'HVA1', 'HVA2', 'HVA3', 'transaction'}\n",
    "    for i in range((len(l))):\n",
    "        if (l[i] in conversions or i == len(l)-1) and media_flag:\n",
    "            media_flag = False\n",
    "            _i = i+1 if i==len(l)-1 else i\n",
    "            sequences = extract_2_steps_sequence([x for x in l[:_i] if x not in conversions])\n",
    "            counts = count_hva_transaction(l[i:])\n",
    "            counts['user_id'] = 1\n",
    "            for s in sequences:\n",
    "                if s not in result:\n",
    "                    result[s] = counts\n",
    "        if l[i] not in conversions and not media_flag:\n",
    "            media_flag = True\n",
    "    \n",
    "    result_cum(cum_result, result)"
   ]
  },
  {
   "cell_type": "code",
   "execution_count": null,
   "metadata": {
    "collapsed": true
   },
   "outputs": [],
   "source": [
    "path_by_user"
   ]
  },
  {
   "cell_type": "code",
   "execution_count": null,
   "metadata": {
    "collapsed": true
   },
   "outputs": [],
   "source": [
    "groupby_path = path_by_user.groupby(path_by_user.index)\n",
    "temp = groupby_path[list(conversions)].sum()\n",
    "\n",
    "temp['users'] = groupby_path['user_id'].count()"
   ]
  },
  {
   "cell_type": "code",
   "execution_count": null,
   "metadata": {
    "collapsed": true
   },
   "outputs": [],
   "source": [
    "temp"
   ]
  },
  {
   "cell_type": "code",
   "execution_count": null,
   "metadata": {
    "collapsed": true
   },
   "outputs": [],
   "source": [
    "df = pd.DataFrame(cum_result).T\n",
    "df"
   ]
  },
  {
   "cell_type": "code",
   "execution_count": null,
   "metadata": {
    "collapsed": true
   },
   "outputs": [],
   "source": [
    "temp.to_csv('/home/jubauser1/jzou/dcm_account7252/user_path/three_step_path.csv')"
   ]
  },
  {
   "cell_type": "code",
   "execution_count": null,
   "metadata": {
    "collapsed": true
   },
   "outputs": [],
   "source": [
    "temp = pd.read_csv('/home/jubauser1/jzou/dcm_account7252/user_path/three_step_path_dict.csv')"
   ]
  },
  {
   "cell_type": "code",
   "execution_count": null,
   "metadata": {
    "collapsed": true
   },
   "outputs": [],
   "source": [
    "temp['first_step'] = temp['Unnamed: 0'].apply(lambda x: x.split(' -> ')[0])"
   ]
  },
  {
   "cell_type": "code",
   "execution_count": null,
   "metadata": {
    "collapsed": true
   },
   "outputs": [],
   "source": [
    "temp['second_step'] = temp['Unnamed: 0'].apply(lambda x: x.split(' -> ')[1] if len(x.split(' -> '))>1 else x)"
   ]
  },
  {
   "cell_type": "code",
   "execution_count": null,
   "metadata": {
    "collapsed": true
   },
   "outputs": [],
   "source": [
    "temp.to_csv('/home/jubauser1/jzou/dcm_account7252/user_path/three_step_path_dict_split.csv')"
   ]
  },
  {
   "cell_type": "markdown",
   "metadata": {
    "collapsed": true
   },
   "source": [
    "# start point of path"
   ]
  },
  {
   "cell_type": "code",
   "execution_count": 4,
   "metadata": {
    "collapsed": true
   },
   "outputs": [],
   "source": [
    "merged = pd.read_csv(\n",
    "    '/home/jubauser1/jzou/dcm_account7252/user_path/merged_with_cost_and_group_no_others_2017-08-15.csv')"
   ]
  },
  {
   "cell_type": "code",
   "execution_count": 5,
   "metadata": {},
   "outputs": [
    {
     "data": {
      "text/html": [
       "<div>\n",
       "<style>\n",
       "    .dataframe thead tr:only-child th {\n",
       "        text-align: right;\n",
       "    }\n",
       "\n",
       "    .dataframe thead th {\n",
       "        text-align: left;\n",
       "    }\n",
       "\n",
       "    .dataframe tbody tr th {\n",
       "        vertical-align: top;\n",
       "    }\n",
       "</style>\n",
       "<table border=\"1\" class=\"dataframe\">\n",
       "  <thead>\n",
       "    <tr style=\"text-align: right;\">\n",
       "      <th></th>\n",
       "      <th>Event Time</th>\n",
       "      <th>User ID</th>\n",
       "      <th>activity_cat</th>\n",
       "      <th>cost</th>\n",
       "      <th>revenue</th>\n",
       "      <th>group</th>\n",
       "    </tr>\n",
       "  </thead>\n",
       "  <tbody>\n",
       "    <tr>\n",
       "      <th>0</th>\n",
       "      <td>1490902299891058</td>\n",
       "      <td>AMsySZaTfbByUHA4eFC-oaXSEcel</td>\n",
       "      <td>click: QuantCast</td>\n",
       "      <td>NaN</td>\n",
       "      <td>NaN</td>\n",
       "      <td>3</td>\n",
       "    </tr>\n",
       "    <tr>\n",
       "      <th>1</th>\n",
       "      <td>1490969409208755</td>\n",
       "      <td>AMsySZbyH3iw4NUZ-TZoCia-_fQ7</td>\n",
       "      <td>click: QuantCast</td>\n",
       "      <td>NaN</td>\n",
       "      <td>NaN</td>\n",
       "      <td>4</td>\n",
       "    </tr>\n",
       "    <tr>\n",
       "      <th>2</th>\n",
       "      <td>1490969529196517</td>\n",
       "      <td>AMsySZbCkYLEzuC2-R0IJyWJh51l</td>\n",
       "      <td>click: QuantCast</td>\n",
       "      <td>NaN</td>\n",
       "      <td>NaN</td>\n",
       "      <td>4</td>\n",
       "    </tr>\n",
       "    <tr>\n",
       "      <th>...</th>\n",
       "      <td>...</td>\n",
       "      <td>...</td>\n",
       "      <td>...</td>\n",
       "      <td>...</td>\n",
       "      <td>...</td>\n",
       "      <td>...</td>\n",
       "    </tr>\n",
       "    <tr>\n",
       "      <th>9878709</th>\n",
       "      <td>1504497596191373</td>\n",
       "      <td>AMsySZYqOIi_FMhRk1cWNHS1gB-O</td>\n",
       "      <td>HVA2</td>\n",
       "      <td>NaN</td>\n",
       "      <td>0.0</td>\n",
       "      <td>3</td>\n",
       "    </tr>\n",
       "    <tr>\n",
       "      <th>9878710</th>\n",
       "      <td>1504497596212905</td>\n",
       "      <td>AMsySZYqOIi_FMhRk1cWNHS1gB-O</td>\n",
       "      <td>HVA2</td>\n",
       "      <td>NaN</td>\n",
       "      <td>0.0</td>\n",
       "      <td>3</td>\n",
       "    </tr>\n",
       "    <tr>\n",
       "      <th>9878711</th>\n",
       "      <td>1504497599912465</td>\n",
       "      <td>AMsySZaAToWbFircoFIR0y8Ipxhd</td>\n",
       "      <td>HVA2</td>\n",
       "      <td>NaN</td>\n",
       "      <td>0.0</td>\n",
       "      <td>3</td>\n",
       "    </tr>\n",
       "  </tbody>\n",
       "</table>\n",
       "<p>9878712 rows × 6 columns</p>\n",
       "</div>"
      ],
      "text/plain": [
       "               Event Time                       User ID      activity_cat  \\\n",
       "0        1490902299891058  AMsySZaTfbByUHA4eFC-oaXSEcel  click: QuantCast   \n",
       "1        1490969409208755  AMsySZbyH3iw4NUZ-TZoCia-_fQ7  click: QuantCast   \n",
       "2        1490969529196517  AMsySZbCkYLEzuC2-R0IJyWJh51l  click: QuantCast   \n",
       "...                   ...                           ...               ...   \n",
       "9878709  1504497596191373  AMsySZYqOIi_FMhRk1cWNHS1gB-O              HVA2   \n",
       "9878710  1504497596212905  AMsySZYqOIi_FMhRk1cWNHS1gB-O              HVA2   \n",
       "9878711  1504497599912465  AMsySZaAToWbFircoFIR0y8Ipxhd              HVA2   \n",
       "\n",
       "         cost  revenue  group  \n",
       "0         NaN      NaN      3  \n",
       "1         NaN      NaN      4  \n",
       "2         NaN      NaN      4  \n",
       "...       ...      ...    ...  \n",
       "9878709   NaN      0.0      3  \n",
       "9878710   NaN      0.0      3  \n",
       "9878711   NaN      0.0      3  \n",
       "\n",
       "[9878712 rows x 6 columns]"
      ]
     },
     "execution_count": 5,
     "metadata": {},
     "output_type": "execute_result"
    }
   ],
   "source": [
    "merged"
   ]
  },
  {
   "cell_type": "code",
   "execution_count": 6,
   "metadata": {},
   "outputs": [
    {
     "data": {
      "text/plain": [
       "687728.31000000006"
      ]
     },
     "execution_count": 6,
     "metadata": {},
     "output_type": "execute_result"
    }
   ],
   "source": [
    "merged['revenue'].sum()"
   ]
  },
  {
   "cell_type": "code",
   "execution_count": 7,
   "metadata": {},
   "outputs": [
    {
     "data": {
      "text/plain": [
       "135757.00908132232"
      ]
     },
     "execution_count": 7,
     "metadata": {},
     "output_type": "execute_result"
    }
   ],
   "source": [
    "merged['cost'].sum()"
   ]
  },
  {
   "cell_type": "code",
   "execution_count": 8,
   "metadata": {
    "collapsed": true
   },
   "outputs": [],
   "source": [
    "first_point = merged.drop_duplicates('User ID', keep='first')"
   ]
  },
  {
   "cell_type": "code",
   "execution_count": 23,
   "metadata": {
    "collapsed": true
   },
   "outputs": [],
   "source": [
    "path_start_point = pd.DataFrame(\n",
    "    first_point.groupby('activity_cat')['group'].value_counts().rename('user_id')\n",
    ").reset_index().pivot(index='activity_cat', columns='group')"
   ]
  },
  {
   "cell_type": "code",
   "execution_count": 27,
   "metadata": {},
   "outputs": [
    {
     "data": {
      "text/html": [
       "<div>\n",
       "<style>\n",
       "    .dataframe thead tr:only-child th {\n",
       "        text-align: right;\n",
       "    }\n",
       "\n",
       "    .dataframe thead th {\n",
       "        text-align: left;\n",
       "    }\n",
       "\n",
       "    .dataframe tbody tr th {\n",
       "        vertical-align: top;\n",
       "    }\n",
       "</style>\n",
       "<table border=\"1\" class=\"dataframe\">\n",
       "  <thead>\n",
       "    <tr>\n",
       "      <th></th>\n",
       "      <th colspan=\"4\" halign=\"left\">user_id</th>\n",
       "    </tr>\n",
       "    <tr>\n",
       "      <th>group</th>\n",
       "      <th>1</th>\n",
       "      <th>2</th>\n",
       "      <th>3</th>\n",
       "      <th>4</th>\n",
       "    </tr>\n",
       "    <tr>\n",
       "      <th>activity_cat</th>\n",
       "      <th></th>\n",
       "      <th></th>\n",
       "      <th></th>\n",
       "      <th></th>\n",
       "    </tr>\n",
       "  </thead>\n",
       "  <tbody>\n",
       "    <tr>\n",
       "      <th>HVA1</th>\n",
       "      <td>13.0</td>\n",
       "      <td>113.0</td>\n",
       "      <td>131.0</td>\n",
       "      <td>NaN</td>\n",
       "    </tr>\n",
       "    <tr>\n",
       "      <th>HVA2</th>\n",
       "      <td>241.0</td>\n",
       "      <td>2167.0</td>\n",
       "      <td>6247.0</td>\n",
       "      <td>NaN</td>\n",
       "    </tr>\n",
       "    <tr>\n",
       "      <th>HVA3</th>\n",
       "      <td>8.0</td>\n",
       "      <td>5.0</td>\n",
       "      <td>2.0</td>\n",
       "      <td>NaN</td>\n",
       "    </tr>\n",
       "    <tr>\n",
       "      <th>...</th>\n",
       "      <td>...</td>\n",
       "      <td>...</td>\n",
       "      <td>...</td>\n",
       "      <td>...</td>\n",
       "    </tr>\n",
       "    <tr>\n",
       "      <th>nonbranded_click: DART Search : Google</th>\n",
       "      <td>196.0</td>\n",
       "      <td>1028.0</td>\n",
       "      <td>8345.0</td>\n",
       "      <td>914.0</td>\n",
       "    </tr>\n",
       "    <tr>\n",
       "      <th>nonbranded_click: DART Search : MSN</th>\n",
       "      <td>43.0</td>\n",
       "      <td>240.0</td>\n",
       "      <td>1568.0</td>\n",
       "      <td>518.0</td>\n",
       "    </tr>\n",
       "    <tr>\n",
       "      <th>transaction</th>\n",
       "      <td>3.0</td>\n",
       "      <td>NaN</td>\n",
       "      <td>NaN</td>\n",
       "      <td>NaN</td>\n",
       "    </tr>\n",
       "  </tbody>\n",
       "</table>\n",
       "<p>15 rows × 4 columns</p>\n",
       "</div>"
      ],
      "text/plain": [
       "                                       user_id                       \n",
       "group                                        1       2       3      4\n",
       "activity_cat                                                         \n",
       "HVA1                                      13.0   113.0   131.0    NaN\n",
       "HVA2                                     241.0  2167.0  6247.0    NaN\n",
       "HVA3                                       8.0     5.0     2.0    NaN\n",
       "...                                        ...     ...     ...    ...\n",
       "nonbranded_click: DART Search : Google   196.0  1028.0  8345.0  914.0\n",
       "nonbranded_click: DART Search : MSN       43.0   240.0  1568.0  518.0\n",
       "transaction                                3.0     NaN     NaN    NaN\n",
       "\n",
       "[15 rows x 4 columns]"
      ]
     },
     "execution_count": 27,
     "metadata": {},
     "output_type": "execute_result"
    }
   ],
   "source": [
    "path_start_point"
   ]
  },
  {
   "cell_type": "code",
   "execution_count": 34,
   "metadata": {},
   "outputs": [
    {
     "data": {
      "text/plain": [
       "activity_cat\n",
       "HVA1                                        257.0\n",
       "HVA2                                       8655.0\n",
       "HVA3                                         15.0\n",
       "                                           ...   \n",
       "nonbranded_click: DART Search : Google    10483.0\n",
       "nonbranded_click: DART Search : MSN        2369.0\n",
       "transaction                                   3.0\n",
       "Length: 15, dtype: float64"
      ]
     },
     "execution_count": 34,
     "metadata": {},
     "output_type": "execute_result"
    }
   ],
   "source": [
    "path_start_point['user_id'][[1,2,3,4]].sum(axis=1)"
   ]
  },
  {
   "cell_type": "code",
   "execution_count": 35,
   "metadata": {},
   "outputs": [
    {
     "name": "stderr",
     "output_type": "stream",
     "text": [
      "/usr/local/lib/python3.6/site-packages/ipykernel_launcher.py:1: SettingWithCopyWarning: \n",
      "A value is trying to be set on a copy of a slice from a DataFrame.\n",
      "Try using .loc[row_indexer,col_indexer] = value instead\n",
      "\n",
      "See the caveats in the documentation: http://pandas.pydata.org/pandas-docs/stable/indexing.html#indexing-view-versus-copy\n",
      "  \"\"\"Entry point for launching an IPython kernel.\n"
     ]
    }
   ],
   "source": [
    "path_start_point['user_id']['total_user_id'] = path_start_point['user_id'][[1,2,3,4]].sum(axis=1)"
   ]
  },
  {
   "cell_type": "code",
   "execution_count": 39,
   "metadata": {
    "collapsed": true
   },
   "outputs": [],
   "source": [
    "path_start_point.to_csv('/home/jubauser1/jzou/dcm_account7252/user_path/path_start_point.csv')"
   ]
  },
  {
   "cell_type": "markdown",
   "metadata": {},
   "source": [
    "# 4 step path"
   ]
  },
  {
   "cell_type": "code",
   "execution_count": 2,
   "metadata": {
    "collapsed": true
   },
   "outputs": [],
   "source": [
    "import itertools"
   ]
  },
  {
   "cell_type": "code",
   "execution_count": 3,
   "metadata": {
    "collapsed": true
   },
   "outputs": [],
   "source": [
    "merged = pd.read_csv(\n",
    "    '/home/jubauser1/jzou/dcm_account7252/user_path/merged_with_cost_and_group_no_others_2017-08-15.csv')"
   ]
  },
  {
   "cell_type": "code",
   "execution_count": 4,
   "metadata": {},
   "outputs": [
    {
     "data": {
      "text/html": [
       "<div>\n",
       "<style>\n",
       "    .dataframe thead tr:only-child th {\n",
       "        text-align: right;\n",
       "    }\n",
       "\n",
       "    .dataframe thead th {\n",
       "        text-align: left;\n",
       "    }\n",
       "\n",
       "    .dataframe tbody tr th {\n",
       "        vertical-align: top;\n",
       "    }\n",
       "</style>\n",
       "<table border=\"1\" class=\"dataframe\">\n",
       "  <thead>\n",
       "    <tr style=\"text-align: right;\">\n",
       "      <th></th>\n",
       "      <th>Event Time</th>\n",
       "      <th>User ID</th>\n",
       "      <th>activity_cat</th>\n",
       "      <th>cost</th>\n",
       "      <th>revenue</th>\n",
       "      <th>group</th>\n",
       "    </tr>\n",
       "  </thead>\n",
       "  <tbody>\n",
       "    <tr>\n",
       "      <th>0</th>\n",
       "      <td>1490902299891058</td>\n",
       "      <td>AMsySZaTfbByUHA4eFC-oaXSEcel</td>\n",
       "      <td>click: QuantCast</td>\n",
       "      <td>NaN</td>\n",
       "      <td>NaN</td>\n",
       "      <td>3</td>\n",
       "    </tr>\n",
       "    <tr>\n",
       "      <th>1</th>\n",
       "      <td>1490969409208755</td>\n",
       "      <td>AMsySZbyH3iw4NUZ-TZoCia-_fQ7</td>\n",
       "      <td>click: QuantCast</td>\n",
       "      <td>NaN</td>\n",
       "      <td>NaN</td>\n",
       "      <td>4</td>\n",
       "    </tr>\n",
       "    <tr>\n",
       "      <th>2</th>\n",
       "      <td>1490969529196517</td>\n",
       "      <td>AMsySZbCkYLEzuC2-R0IJyWJh51l</td>\n",
       "      <td>click: QuantCast</td>\n",
       "      <td>NaN</td>\n",
       "      <td>NaN</td>\n",
       "      <td>4</td>\n",
       "    </tr>\n",
       "    <tr>\n",
       "      <th>...</th>\n",
       "      <td>...</td>\n",
       "      <td>...</td>\n",
       "      <td>...</td>\n",
       "      <td>...</td>\n",
       "      <td>...</td>\n",
       "      <td>...</td>\n",
       "    </tr>\n",
       "    <tr>\n",
       "      <th>9878709</th>\n",
       "      <td>1504497596191373</td>\n",
       "      <td>AMsySZYqOIi_FMhRk1cWNHS1gB-O</td>\n",
       "      <td>HVA2</td>\n",
       "      <td>NaN</td>\n",
       "      <td>0.0</td>\n",
       "      <td>3</td>\n",
       "    </tr>\n",
       "    <tr>\n",
       "      <th>9878710</th>\n",
       "      <td>1504497596212905</td>\n",
       "      <td>AMsySZYqOIi_FMhRk1cWNHS1gB-O</td>\n",
       "      <td>HVA2</td>\n",
       "      <td>NaN</td>\n",
       "      <td>0.0</td>\n",
       "      <td>3</td>\n",
       "    </tr>\n",
       "    <tr>\n",
       "      <th>9878711</th>\n",
       "      <td>1504497599912465</td>\n",
       "      <td>AMsySZaAToWbFircoFIR0y8Ipxhd</td>\n",
       "      <td>HVA2</td>\n",
       "      <td>NaN</td>\n",
       "      <td>0.0</td>\n",
       "      <td>3</td>\n",
       "    </tr>\n",
       "  </tbody>\n",
       "</table>\n",
       "<p>9878712 rows × 6 columns</p>\n",
       "</div>"
      ],
      "text/plain": [
       "               Event Time                       User ID      activity_cat  \\\n",
       "0        1490902299891058  AMsySZaTfbByUHA4eFC-oaXSEcel  click: QuantCast   \n",
       "1        1490969409208755  AMsySZbyH3iw4NUZ-TZoCia-_fQ7  click: QuantCast   \n",
       "2        1490969529196517  AMsySZbCkYLEzuC2-R0IJyWJh51l  click: QuantCast   \n",
       "...                   ...                           ...               ...   \n",
       "9878709  1504497596191373  AMsySZYqOIi_FMhRk1cWNHS1gB-O              HVA2   \n",
       "9878710  1504497596212905  AMsySZYqOIi_FMhRk1cWNHS1gB-O              HVA2   \n",
       "9878711  1504497599912465  AMsySZaAToWbFircoFIR0y8Ipxhd              HVA2   \n",
       "\n",
       "         cost  revenue  group  \n",
       "0         NaN      NaN      3  \n",
       "1         NaN      NaN      4  \n",
       "2         NaN      NaN      4  \n",
       "...       ...      ...    ...  \n",
       "9878709   NaN      0.0      3  \n",
       "9878710   NaN      0.0      3  \n",
       "9878711   NaN      0.0      3  \n",
       "\n",
       "[9878712 rows x 6 columns]"
      ]
     },
     "execution_count": 4,
     "metadata": {},
     "output_type": "execute_result"
    }
   ],
   "source": [
    "merged"
   ]
  },
  {
   "cell_type": "code",
   "execution_count": 108,
   "metadata": {},
   "outputs": [
    {
     "data": {
      "text/plain": [
       "{'cost': [1, 2, 3, 4, 11, 7, 8, 9],\n",
       " 'counts': [2, 1, 1, 1, 2, 1, 1, 1],\n",
       " 'path': ['a', 'others', 'b', 'others', 'c', 'transaction', 'c', 'others'],\n",
       " 'path_str': 'a -> others -> b -> others -> c -> transaction -> c -> others'}"
      ]
     },
     "execution_count": 108,
     "metadata": {},
     "output_type": "execute_result"
    }
   ],
   "source": [
    "def path_list_count_unique(path, cost):\n",
    "    '''\n",
    "    Args: \n",
    "        path: list, ['a', 'a', 'b', 'c', 'c', 'c']\n",
    "    Returns:\n",
    "        dict, {'path_str': 'a -> b -> c'\n",
    "               'path': [a, b, c],\n",
    "               'counts': [2, 1, 3]}\n",
    "    '''\n",
    "    curr = path[0]\n",
    "    count = 0\n",
    "    step_cost = 0\n",
    "    result = {'path': [], 'counts': [], 'cost': []}\n",
    "    for i in range(len(path)):\n",
    "        if path[i] == curr:\n",
    "            count += 1\n",
    "            step_cost += cost[i]\n",
    "        else:\n",
    "            result['path'].append(curr)\n",
    "            result['counts'].append(count)\n",
    "            result['cost'].append(step_cost)\n",
    "            curr = path[i]\n",
    "            count = 1\n",
    "            step_cost = cost[i]\n",
    "    result['path'].append(curr)\n",
    "    result['counts'].append(count)\n",
    "    result['cost'].append(step_cost)\n",
    "    result['path_str'] = ' -> '.join(result['path'])\n",
    "    return result\n",
    "\n",
    "path_list_count_unique(['a', 'a', 'others', 'b', 'others', 'c', 'c',  'transaction','c', 'others'], \n",
    "                       list(range(10)))"
   ]
  },
  {
   "cell_type": "code",
   "execution_count": 9,
   "metadata": {},
   "outputs": [
    {
     "data": {
      "text/plain": [
       "1848059626"
      ]
     },
     "execution_count": 9,
     "metadata": {},
     "output_type": "execute_result"
    }
   ],
   "source": [
    "sys.getsizeof(merged)"
   ]
  },
  {
   "cell_type": "code",
   "execution_count": 75,
   "metadata": {
    "collapsed": true
   },
   "outputs": [],
   "source": [
    "l = list(merged[merged['User ID'] == 'AMsySZZmsJbSxZxBuzi9HpSxl6cu']['activity_cat'])"
   ]
  },
  {
   "cell_type": "code",
   "execution_count": 77,
   "metadata": {
    "collapsed": true
   },
   "outputs": [],
   "source": [
    "l2 = path_list_count_unique(l)"
   ]
  },
  {
   "cell_type": "code",
   "execution_count": 78,
   "metadata": {},
   "outputs": [
    {
     "data": {
      "text/plain": [
       "{'counts': [1, 1, 2, 5, 2, 4, 2, 50, 3, 3, 2, 6, 1, 1],\n",
       " 'path': ['impr: QuantCast',\n",
       "  'click: QuantCast',\n",
       "  'HVA2',\n",
       "  'impr: QuantCast',\n",
       "  'HVA2',\n",
       "  'impr: QuantCast',\n",
       "  'HVA2',\n",
       "  'impr: QuantCast',\n",
       "  'HVA2',\n",
       "  'HVA3',\n",
       "  'HVA2',\n",
       "  'HVA3',\n",
       "  'HVA1',\n",
       "  'HVA3'],\n",
       " 'path_str': 'impr: QuantCast -> click: QuantCast -> HVA2 -> impr: QuantCast -> HVA2 -> impr: QuantCast -> HVA2 -> impr: QuantCast -> HVA2 -> HVA3 -> HVA2 -> HVA3 -> HVA1 -> HVA3'}"
      ]
     },
     "execution_count": 78,
     "metadata": {},
     "output_type": "execute_result"
    }
   ],
   "source": [
    "l2"
   ]
  },
  {
   "cell_type": "code",
   "execution_count": 90,
   "metadata": {},
   "outputs": [
    {
     "data": {
      "text/plain": [
       "True"
      ]
     },
     "execution_count": 90,
     "metadata": {},
     "output_type": "execute_result"
    }
   ],
   "source": [
    "is_sub_list(l2['path'], ('impr: QuantCast', 'click: QuantCast'))"
   ]
  },
  {
   "cell_type": "code",
   "execution_count": null,
   "metadata": {},
   "outputs": [],
   "source": [
    "path_and_cost = list()\n",
    "for user_id, group in merged.groupby('User ID'):\n",
    "    if 'transaction' in set(group['activity_cat']):\n",
    "        index_of_1st_transaction = group[group['activity_cat'] == 'transaction'].index[0]\n",
    "        group = group.loc[:index_of_1st_transaction]\n",
    "    group = group[group['activity_cat'].isin(steps)]\n",
    "    if len(group) == 0: continue\n",
    "    d = path_list_count_unique(list(group['activity_cat']), list(group['cost'].fillna(0)))\n",
    "    d['user_id'] = user_id\n",
    "    path_and_cost.append(d)"
   ]
  },
  {
   "cell_type": "code",
   "execution_count": null,
   "metadata": {
    "collapsed": true
   },
   "outputs": [],
   "source": [
    "path_and_cost_by_user = pd.DataFrame(path_and_cost)"
   ]
  },
  {
   "cell_type": "code",
   "execution_count": 5,
   "metadata": {},
   "outputs": [],
   "source": [
    "path_and_cost_by_user = pd.read_csv('/home/jubauser1/jzou/dcm_account7252/user_path/path_cost_by_user.csv')"
   ]
  },
  {
   "cell_type": "code",
   "execution_count": 13,
   "metadata": {},
   "outputs": [
    {
     "data": {
      "text/html": [
       "<div>\n",
       "<style>\n",
       "    .dataframe thead tr:only-child th {\n",
       "        text-align: right;\n",
       "    }\n",
       "\n",
       "    .dataframe thead th {\n",
       "        text-align: left;\n",
       "    }\n",
       "\n",
       "    .dataframe tbody tr th {\n",
       "        vertical-align: top;\n",
       "    }\n",
       "</style>\n",
       "<table border=\"1\" class=\"dataframe\">\n",
       "  <thead>\n",
       "    <tr style=\"text-align: right;\">\n",
       "      <th></th>\n",
       "      <th>cost</th>\n",
       "      <th>counts</th>\n",
       "      <th>path</th>\n",
       "      <th>path_str</th>\n",
       "      <th>user_id</th>\n",
       "      <th>User ID</th>\n",
       "      <th>group</th>\n",
       "    </tr>\n",
       "  </thead>\n",
       "  <tbody>\n",
       "    <tr>\n",
       "      <th>548</th>\n",
       "      <td>[1.069672131147541]</td>\n",
       "      <td>[1]</td>\n",
       "      <td>[click: DART Search : Google]</td>\n",
       "      <td>click: DART Search : Google</td>\n",
       "      <td>AMsySZY-3FnuknZAk_Iuw_o7vZXF</td>\n",
       "      <td>AMsySZY-3FnuknZAk_Iuw_o7vZXF</td>\n",
       "      <td>1</td>\n",
       "    </tr>\n",
       "    <tr>\n",
       "      <th>643</th>\n",
       "      <td>[0.2843492353743657, 0.0, 0.09033840775770098,...</td>\n",
       "      <td>[110, 1, 45, 1, 155, 1, 48, 1]</td>\n",
       "      <td>[impr: Criteo, click: Criteo, impr: Criteo, br...</td>\n",
       "      <td>impr: Criteo -&gt; click: Criteo -&gt; impr: Criteo ...</td>\n",
       "      <td>AMsySZY-3texhhoZd8Dov2qqQvpN</td>\n",
       "      <td>AMsySZY-3texhhoZd8Dov2qqQvpN</td>\n",
       "      <td>1</td>\n",
       "    </tr>\n",
       "    <tr>\n",
       "      <th>1708</th>\n",
       "      <td>[0.14987960190620492, 2.6852132701421803, 0.05...</td>\n",
       "      <td>[75, 3, 1, 4, 2]</td>\n",
       "      <td>[impr: Criteo, click: DART Search : Google, br...</td>\n",
       "      <td>impr: Criteo -&gt; click: DART Search : Google -&gt;...</td>\n",
       "      <td>AMsySZY-BLK48LeaEQ2Na54gg8xM</td>\n",
       "      <td>AMsySZY-BLK48LeaEQ2Na54gg8xM</td>\n",
       "      <td>1</td>\n",
       "    </tr>\n",
       "    <tr>\n",
       "      <th>...</th>\n",
       "      <td>...</td>\n",
       "      <td>...</td>\n",
       "      <td>...</td>\n",
       "      <td>...</td>\n",
       "      <td>...</td>\n",
       "      <td>...</td>\n",
       "      <td>...</td>\n",
       "    </tr>\n",
       "    <tr>\n",
       "      <th>2366376</th>\n",
       "      <td>[0.19341085019242615, 0.335, 0.004181313598519...</td>\n",
       "      <td>[78, 1, 2, 1]</td>\n",
       "      <td>[impr: Criteo, branded_click: DART Search : Go...</td>\n",
       "      <td>impr: Criteo -&gt; branded_click: DART Search : G...</td>\n",
       "      <td>AMsySZbzvNKPEjY24T4ae9YRu1u9</td>\n",
       "      <td>AMsySZbzvNKPEjY24T4ae9YRu1u9</td>\n",
       "      <td>1</td>\n",
       "    </tr>\n",
       "    <tr>\n",
       "      <th>2366421</th>\n",
       "      <td>[0.9483333333333334]</td>\n",
       "      <td>[1]</td>\n",
       "      <td>[branded_click: DART Search : Google]</td>\n",
       "      <td>branded_click: DART Search : Google</td>\n",
       "      <td>AMsySZbzvjSvjfHe5hdYH9wNZYxP</td>\n",
       "      <td>AMsySZbzvjSvjfHe5hdYH9wNZYxP</td>\n",
       "      <td>1</td>\n",
       "    </tr>\n",
       "    <tr>\n",
       "      <th>2366991</th>\n",
       "      <td>[0.9001273885350318, 0.3205882352941177]</td>\n",
       "      <td>[1, 1]</td>\n",
       "      <td>[click: DART Search : Google, branded_click: D...</td>\n",
       "      <td>click: DART Search : Google -&gt; branded_click: ...</td>\n",
       "      <td>AMsySZbzzXQ_uBd53piNXo4vEbDm</td>\n",
       "      <td>AMsySZbzzXQ_uBd53piNXo4vEbDm</td>\n",
       "      <td>1</td>\n",
       "    </tr>\n",
       "  </tbody>\n",
       "</table>\n",
       "<p>4479 rows × 7 columns</p>\n",
       "</div>"
      ],
      "text/plain": [
       "                                                      cost  \\\n",
       "548                                    [1.069672131147541]   \n",
       "643      [0.2843492353743657, 0.0, 0.09033840775770098,...   \n",
       "1708     [0.14987960190620492, 2.6852132701421803, 0.05...   \n",
       "...                                                    ...   \n",
       "2366376  [0.19341085019242615, 0.335, 0.004181313598519...   \n",
       "2366421                               [0.9483333333333334]   \n",
       "2366991           [0.9001273885350318, 0.3205882352941177]   \n",
       "\n",
       "                                 counts  \\\n",
       "548                                 [1]   \n",
       "643      [110, 1, 45, 1, 155, 1, 48, 1]   \n",
       "1708                   [75, 3, 1, 4, 2]   \n",
       "...                                 ...   \n",
       "2366376                   [78, 1, 2, 1]   \n",
       "2366421                             [1]   \n",
       "2366991                          [1, 1]   \n",
       "\n",
       "                                                      path  \\\n",
       "548                          [click: DART Search : Google]   \n",
       "643      [impr: Criteo, click: Criteo, impr: Criteo, br...   \n",
       "1708     [impr: Criteo, click: DART Search : Google, br...   \n",
       "...                                                    ...   \n",
       "2366376  [impr: Criteo, branded_click: DART Search : Go...   \n",
       "2366421              [branded_click: DART Search : Google]   \n",
       "2366991  [click: DART Search : Google, branded_click: D...   \n",
       "\n",
       "                                                  path_str  \\\n",
       "548                            click: DART Search : Google   \n",
       "643      impr: Criteo -> click: Criteo -> impr: Criteo ...   \n",
       "1708     impr: Criteo -> click: DART Search : Google ->...   \n",
       "...                                                    ...   \n",
       "2366376  impr: Criteo -> branded_click: DART Search : G...   \n",
       "2366421                branded_click: DART Search : Google   \n",
       "2366991  click: DART Search : Google -> branded_click: ...   \n",
       "\n",
       "                              user_id                       User ID  group  \n",
       "548      AMsySZY-3FnuknZAk_Iuw_o7vZXF  AMsySZY-3FnuknZAk_Iuw_o7vZXF      1  \n",
       "643      AMsySZY-3texhhoZd8Dov2qqQvpN  AMsySZY-3texhhoZd8Dov2qqQvpN      1  \n",
       "1708     AMsySZY-BLK48LeaEQ2Na54gg8xM  AMsySZY-BLK48LeaEQ2Na54gg8xM      1  \n",
       "...                               ...                           ...    ...  \n",
       "2366376  AMsySZbzvNKPEjY24T4ae9YRu1u9  AMsySZbzvNKPEjY24T4ae9YRu1u9      1  \n",
       "2366421  AMsySZbzvjSvjfHe5hdYH9wNZYxP  AMsySZbzvjSvjfHe5hdYH9wNZYxP      1  \n",
       "2366991  AMsySZbzzXQ_uBd53piNXo4vEbDm  AMsySZbzzXQ_uBd53piNXo4vEbDm      1  \n",
       "\n",
       "[4479 rows x 7 columns]"
      ]
     },
     "execution_count": 13,
     "metadata": {},
     "output_type": "execute_result"
    }
   ],
   "source": [
    "path_and_cost_by_user = path_and_cost_by_user.merge(merged[['User ID', 'group']].drop_duplicates('User ID'), left_on='user_id', right_on='User ID', how='left')\n",
    "\n",
    "path_and_cost_by_user[path_and_cost_by_user['group'] == 1].drop_duplicates('User ID')"
   ]
  },
  {
   "cell_type": "code",
   "execution_count": 15,
   "metadata": {
    "collapsed": true
   },
   "outputs": [],
   "source": [
    "del path_and_cost_by_user['User ID']"
   ]
  },
  {
   "cell_type": "code",
   "execution_count": 7,
   "metadata": {},
   "outputs": [],
   "source": [
    "path_and_cost_by_user['cost'] = path_and_cost_by_user['cost'].apply(eval)\n",
    "path_and_cost_by_user['counts'] = path_and_cost_by_user['counts'].apply(eval)\n",
    "path_and_cost_by_user['path'] = path_and_cost_by_user['path'].apply(eval)"
   ]
  },
  {
   "cell_type": "code",
   "execution_count": 8,
   "metadata": {
    "collapsed": true
   },
   "outputs": [],
   "source": [
    "def is_sub_list(long_list, short_list):\n",
    "    '''determine if short_list is sublist of long_list\n",
    "    eg. [1, 3, 5] is sublist of [0, 1, 2, 3, 4, 5]\n",
    "    Args:\n",
    "        long_list: list of str\n",
    "        short_list: iterable obj, tuple or list\n",
    "    Return:\n",
    "        list of index\n",
    "    '''\n",
    "    x = 0\n",
    "    result = list()\n",
    "    for i in short_list:\n",
    "        try:\n",
    "            x = long_list.index(i, x)+1\n",
    "            result.append(x-1)\n",
    "        except ValueError:\n",
    "            return []\n",
    "    return result"
   ]
  },
  {
   "cell_type": "code",
   "execution_count": 9,
   "metadata": {},
   "outputs": [
    {
     "data": {
      "text/plain": [
       "[1, 5, 7]"
      ]
     },
     "execution_count": 9,
     "metadata": {},
     "output_type": "execute_result"
    }
   ],
   "source": [
    "short_list = [1, 6, 5, ]\n",
    "long_list = [0, 1, 2, 3, 1, 6, 4, 5]\n",
    "\n",
    "is_sub_list(long_list, short_list)"
   ]
  },
  {
   "cell_type": "code",
   "execution_count": 10,
   "metadata": {},
   "outputs": [
    {
     "data": {
      "text/plain": [
       "[1, 6, 5]"
      ]
     },
     "execution_count": 10,
     "metadata": {},
     "output_type": "execute_result"
    }
   ],
   "source": [
    "[long_list[i] for i in [1,5,7]]"
   ]
  },
  {
   "cell_type": "code",
   "execution_count": 71,
   "metadata": {},
   "outputs": [
    {
     "data": {
      "text/plain": [
       "('click: Facebook',\n",
       " 'click: QuantCast',\n",
       " 'click: DART Search : MSN',\n",
       " 'impr: QuantCast')"
      ]
     },
     "execution_count": 71,
     "metadata": {},
     "output_type": "execute_result"
    }
   ],
   "source": [
    "steps = {'branded_click: DART Search : Google',\n",
    "         'branded_click: DART Search : MSN',\n",
    "         'click: Criteo',\n",
    "         'click: DART Search : Google',\n",
    "         'click: DART Search : MSN',\n",
    "         'click: Facebook',\n",
    "         'click: QuantCast',\n",
    "         'impr: Criteo',\n",
    "         'impr: QuantCast',\n",
    "         'nonbranded_click: DART Search : Google',\n",
    "         'nonbranded_click: DART Search : MSN',}\n",
    "\n",
    "path_lib = dict()\n",
    "path_lib[1] = list(itertools.permutations(steps, r=1))\n",
    "path_lib[2] = list(itertools.permutations(steps, r=2))\n",
    "path_lib[3] = list(itertools.permutations(steps, r=3))\n",
    "path_lib[4] = list(itertools.permutations(steps, r=4))\n",
    "\n",
    "path_lib[4][1]"
   ]
  },
  {
   "cell_type": "code",
   "execution_count": 18,
   "metadata": {},
   "outputs": [
    {
     "data": {
      "text/plain": [
       "7"
      ]
     },
     "execution_count": 18,
     "metadata": {},
     "output_type": "execute_result"
    }
   ],
   "source": [
    "path_and_cost_by_user['path'].apply(lambda x: len(set(x)))"
   ]
  },
  {
   "cell_type": "code",
   "execution_count": 23,
   "metadata": {},
   "outputs": [
    {
     "data": {
      "text/html": [
       "<div>\n",
       "<style>\n",
       "    .dataframe thead tr:only-child th {\n",
       "        text-align: right;\n",
       "    }\n",
       "\n",
       "    .dataframe thead th {\n",
       "        text-align: left;\n",
       "    }\n",
       "\n",
       "    .dataframe tbody tr th {\n",
       "        vertical-align: top;\n",
       "    }\n",
       "</style>\n",
       "<table border=\"1\" class=\"dataframe\">\n",
       "  <thead>\n",
       "    <tr style=\"text-align: right;\">\n",
       "      <th></th>\n",
       "      <th>cost</th>\n",
       "      <th>counts</th>\n",
       "      <th>path</th>\n",
       "      <th>path_str</th>\n",
       "      <th>user_id</th>\n",
       "      <th>group</th>\n",
       "    </tr>\n",
       "  </thead>\n",
       "  <tbody>\n",
       "    <tr>\n",
       "      <th>548</th>\n",
       "      <td>[1.069672131147541]</td>\n",
       "      <td>[1]</td>\n",
       "      <td>[click: DART Search : Google]</td>\n",
       "      <td>click: DART Search : Google</td>\n",
       "      <td>AMsySZY-3FnuknZAk_Iuw_o7vZXF</td>\n",
       "      <td>1</td>\n",
       "    </tr>\n",
       "    <tr>\n",
       "      <th>643</th>\n",
       "      <td>[0.2843492353743657, 0.0, 0.09033840775770098,...</td>\n",
       "      <td>[110, 1, 45, 1, 155, 1, 48, 1]</td>\n",
       "      <td>[impr: Criteo, click: Criteo, impr: Criteo, br...</td>\n",
       "      <td>impr: Criteo -&gt; click: Criteo -&gt; impr: Criteo ...</td>\n",
       "      <td>AMsySZY-3texhhoZd8Dov2qqQvpN</td>\n",
       "      <td>1</td>\n",
       "    </tr>\n",
       "    <tr>\n",
       "      <th>1708</th>\n",
       "      <td>[0.14987960190620492, 2.6852132701421803, 0.05...</td>\n",
       "      <td>[75, 3, 1, 4, 2]</td>\n",
       "      <td>[impr: Criteo, click: DART Search : Google, br...</td>\n",
       "      <td>impr: Criteo -&gt; click: DART Search : Google -&gt;...</td>\n",
       "      <td>AMsySZY-BLK48LeaEQ2Na54gg8xM</td>\n",
       "      <td>1</td>\n",
       "    </tr>\n",
       "    <tr>\n",
       "      <th>...</th>\n",
       "      <td>...</td>\n",
       "      <td>...</td>\n",
       "      <td>...</td>\n",
       "      <td>...</td>\n",
       "      <td>...</td>\n",
       "      <td>...</td>\n",
       "    </tr>\n",
       "    <tr>\n",
       "      <th>2366376</th>\n",
       "      <td>[0.19341085019242615, 0.335, 0.004181313598519...</td>\n",
       "      <td>[78, 1, 2, 1]</td>\n",
       "      <td>[impr: Criteo, branded_click: DART Search : Go...</td>\n",
       "      <td>impr: Criteo -&gt; branded_click: DART Search : G...</td>\n",
       "      <td>AMsySZbzvNKPEjY24T4ae9YRu1u9</td>\n",
       "      <td>1</td>\n",
       "    </tr>\n",
       "    <tr>\n",
       "      <th>2366421</th>\n",
       "      <td>[0.9483333333333334]</td>\n",
       "      <td>[1]</td>\n",
       "      <td>[branded_click: DART Search : Google]</td>\n",
       "      <td>branded_click: DART Search : Google</td>\n",
       "      <td>AMsySZbzvjSvjfHe5hdYH9wNZYxP</td>\n",
       "      <td>1</td>\n",
       "    </tr>\n",
       "    <tr>\n",
       "      <th>2366991</th>\n",
       "      <td>[0.9001273885350318, 0.3205882352941177]</td>\n",
       "      <td>[1, 1]</td>\n",
       "      <td>[click: DART Search : Google, branded_click: D...</td>\n",
       "      <td>click: DART Search : Google -&gt; branded_click: ...</td>\n",
       "      <td>AMsySZbzzXQ_uBd53piNXo4vEbDm</td>\n",
       "      <td>1</td>\n",
       "    </tr>\n",
       "  </tbody>\n",
       "</table>\n",
       "<p>4479 rows × 6 columns</p>\n",
       "</div>"
      ],
      "text/plain": [
       "                                                      cost  \\\n",
       "548                                    [1.069672131147541]   \n",
       "643      [0.2843492353743657, 0.0, 0.09033840775770098,...   \n",
       "1708     [0.14987960190620492, 2.6852132701421803, 0.05...   \n",
       "...                                                    ...   \n",
       "2366376  [0.19341085019242615, 0.335, 0.004181313598519...   \n",
       "2366421                               [0.9483333333333334]   \n",
       "2366991           [0.9001273885350318, 0.3205882352941177]   \n",
       "\n",
       "                                 counts  \\\n",
       "548                                 [1]   \n",
       "643      [110, 1, 45, 1, 155, 1, 48, 1]   \n",
       "1708                   [75, 3, 1, 4, 2]   \n",
       "...                                 ...   \n",
       "2366376                   [78, 1, 2, 1]   \n",
       "2366421                             [1]   \n",
       "2366991                          [1, 1]   \n",
       "\n",
       "                                                      path  \\\n",
       "548                          [click: DART Search : Google]   \n",
       "643      [impr: Criteo, click: Criteo, impr: Criteo, br...   \n",
       "1708     [impr: Criteo, click: DART Search : Google, br...   \n",
       "...                                                    ...   \n",
       "2366376  [impr: Criteo, branded_click: DART Search : Go...   \n",
       "2366421              [branded_click: DART Search : Google]   \n",
       "2366991  [click: DART Search : Google, branded_click: D...   \n",
       "\n",
       "                                                  path_str  \\\n",
       "548                            click: DART Search : Google   \n",
       "643      impr: Criteo -> click: Criteo -> impr: Criteo ...   \n",
       "1708     impr: Criteo -> click: DART Search : Google ->...   \n",
       "...                                                    ...   \n",
       "2366376  impr: Criteo -> branded_click: DART Search : G...   \n",
       "2366421                branded_click: DART Search : Google   \n",
       "2366991  click: DART Search : Google -> branded_click: ...   \n",
       "\n",
       "                              user_id  group  \n",
       "548      AMsySZY-3FnuknZAk_Iuw_o7vZXF      1  \n",
       "643      AMsySZY-3texhhoZd8Dov2qqQvpN      1  \n",
       "1708     AMsySZY-BLK48LeaEQ2Na54gg8xM      1  \n",
       "...                               ...    ...  \n",
       "2366376  AMsySZbzvNKPEjY24T4ae9YRu1u9      1  \n",
       "2366421  AMsySZbzvjSvjfHe5hdYH9wNZYxP      1  \n",
       "2366991  AMsySZbzzXQ_uBd53piNXo4vEbDm      1  \n",
       "\n",
       "[4479 rows x 6 columns]"
      ]
     },
     "execution_count": 23,
     "metadata": {},
     "output_type": "execute_result"
    }
   ],
   "source": [
    "path_and_cost_by_user[path_and_cost_by_user['group'] == 1]"
   ]
  },
  {
   "cell_type": "code",
   "execution_count": 27,
   "metadata": {},
   "outputs": [
    {
     "data": {
      "text/plain": [
       "[(1, 2, 3), (1, 3, 2), (2, 1, 3), (2, 3, 1), (3, 1, 2), (3, 2, 1)]"
      ]
     },
     "execution_count": 27,
     "metadata": {},
     "output_type": "execute_result"
    }
   ],
   "source": [
    "list(itertools.permutations([1,2, 3], r=3))"
   ]
  },
  {
   "cell_type": "code",
   "execution_count": 29,
   "metadata": {},
   "outputs": [
    {
     "data": {
      "text/plain": [
       "[]"
      ]
     },
     "execution_count": 29,
     "metadata": {},
     "output_type": "execute_result"
    }
   ],
   "source": [
    "is_sub_list([1,2,3], (1, 3, 2))"
   ]
  },
  {
   "cell_type": "code",
   "execution_count": 36,
   "metadata": {
    "collapsed": true
   },
   "outputs": [],
   "source": [
    "four_step_path = dict()"
   ]
  },
  {
   "cell_type": "code",
   "execution_count": 44,
   "metadata": {
    "collapsed": true
   },
   "outputs": [],
   "source": [
    "index = 1708\n",
    "_path = path_and_cost_by_user.loc[index, 'path']\n",
    "_cost = path_and_cost_by_user.loc[index, 'cost']\n",
    "_counts = path_and_cost_by_user.loc[index, 'counts'] \n",
    "_user_id = path_and_cost_by_user.loc[index, 'user_id'] \n",
    "\n",
    "len_of_path = len(set(_path))\n",
    "if len_of_path <= 4:\n",
    "    possible_path = path_lib[len_of_path]\n",
    "else:\n",
    "    possible_path = path_lib[4]\n",
    "\n",
    "for _p_path in possible_path:\n",
    "    list_of_index = is_sub_list(_path, _p_path)\n",
    "    if len(list_of_index) > 0:\n",
    "        d = dict()\n",
    "        d['user_id'] = _user_id\n",
    "        d['counts'] = [_counts[i] for i in list_of_index]\n",
    "        d['cost'] = sum([_cost[i] for i in list_of_index])\n",
    "        if _p_path in four_step_path:\n",
    "            four_step_path.append(d)\n",
    "        else:\n",
    "            four_step_path[_p_path] = [d]         "
   ]
  },
  {
   "cell_type": "code",
   "execution_count": 49,
   "metadata": {},
   "outputs": [
    {
     "data": {
      "text/plain": [
       "dict_keys([('impr: Criteo', 'click: Criteo', 'branded_click: DART Search : Google'), ('click: Criteo', 'impr: Criteo', 'branded_click: DART Search : Google'), ('click: Criteo', 'branded_click: DART Search : Google', 'impr: Criteo'), ('impr: Criteo', 'click: DART Search : Google', 'branded_click: DART Search : Google', 'click: Criteo'), ('click: DART Search : Google', 'branded_click: DART Search : Google', 'impr: Criteo', 'click: Criteo')])"
      ]
     },
     "execution_count": 49,
     "metadata": {},
     "output_type": "execute_result"
    }
   ],
   "source": [
    "four_step_path.keys()"
   ]
  },
  {
   "cell_type": "code",
   "execution_count": 41,
   "metadata": {},
   "outputs": [
    {
     "data": {
      "text/plain": [
       "['impr: Criteo',\n",
       " 'click: Criteo',\n",
       " 'impr: Criteo',\n",
       " 'branded_click: DART Search : Google',\n",
       " 'impr: Criteo',\n",
       " 'branded_click: DART Search : Google',\n",
       " 'impr: Criteo',\n",
       " 'branded_click: DART Search : Google']"
      ]
     },
     "execution_count": 41,
     "metadata": {},
     "output_type": "execute_result"
    }
   ],
   "source": [
    "_path"
   ]
  },
  {
   "cell_type": "code",
   "execution_count": 42,
   "metadata": {},
   "outputs": [
    {
     "data": {
      "text/plain": [
       "[110, 1, 45, 1, 155, 1, 48, 1]"
      ]
     },
     "execution_count": 42,
     "metadata": {},
     "output_type": "execute_result"
    }
   ],
   "source": [
    "_counts"
   ]
  },
  {
   "cell_type": "code",
   "execution_count": 43,
   "metadata": {},
   "outputs": [
    {
     "data": {
      "text/plain": [
       "[0.2843492353743657,\n",
       " 0.0,\n",
       " 0.09033840775770098,\n",
       " 0.6633333333333333,\n",
       " 0.4603856769949713,\n",
       " 0.18583333333333327,\n",
       " 0.13977578626061257,\n",
       " 0.14473684210526316]"
      ]
     },
     "execution_count": 43,
     "metadata": {},
     "output_type": "execute_result"
    }
   ],
   "source": [
    "_cost"
   ]
  },
  {
   "cell_type": "code",
   "execution_count": 40,
   "metadata": {},
   "outputs": [
    {
     "data": {
      "text/plain": [
       "{('click: Criteo',\n",
       "  'branded_click: DART Search : Google',\n",
       "  'impr: Criteo'): [{'cost': 1.1237190103283046,\n",
       "   'counts': [1, 1, 155],\n",
       "   'user_id': 'AMsySZY-3texhhoZd8Dov2qqQvpN'}],\n",
       " ('click: Criteo',\n",
       "  'impr: Criteo',\n",
       "  'branded_click: DART Search : Google'): [{'cost': 0.7536717410910343,\n",
       "   'counts': [1, 45, 1],\n",
       "   'user_id': 'AMsySZY-3texhhoZd8Dov2qqQvpN'}],\n",
       " ('impr: Criteo',\n",
       "  'click: Criteo',\n",
       "  'branded_click: DART Search : Google'): [{'cost': 0.9476825687076991,\n",
       "   'counts': [110, 1, 1],\n",
       "   'user_id': 'AMsySZY-3texhhoZd8Dov2qqQvpN'}]}"
      ]
     },
     "execution_count": 40,
     "metadata": {},
     "output_type": "execute_result"
    }
   ],
   "source": [
    "four_step_path"
   ]
  },
  {
   "cell_type": "code",
   "execution_count": 38,
   "metadata": {},
   "outputs": [
    {
     "data": {
      "text/plain": [
       "28"
      ]
     },
     "execution_count": 38,
     "metadata": {},
     "output_type": "execute_result"
    }
   ],
   "source": [
    "sum([1,23,4])"
   ]
  },
  {
   "cell_type": "code",
   "execution_count": 51,
   "metadata": {},
   "outputs": [],
   "source": [
    "import logging\n",
    "logging.basicConfig(filename='/home/jubauser1/jzou/dcm_account7252/user_path/scripts/path.log', \n",
    "                    level=logging.INFO, \n",
    "                    format='%(asctime)s %(message)s')"
   ]
  },
  {
   "cell_type": "code",
   "execution_count": 102,
   "metadata": {},
   "outputs": [],
   "source": [
    "four_step_path_no_visit = dict()\n",
    "for index in path_and_cost_by_user[path_and_cost_by_user['group'] == 4].index:\n",
    "    _path = path_and_cost_by_user.loc[index, 'path']\n",
    "    _cost = path_and_cost_by_user.loc[index, 'cost']\n",
    "    _counts = path_and_cost_by_user.loc[index, 'counts'] \n",
    "    _user_id = path_and_cost_by_user.loc[index, 'user_id'] \n",
    "    logging.info(index)\n",
    "    len_of_path = len(set(_path))\n",
    "    if len_of_path <= 4:\n",
    "        possible_path = path_lib[len_of_path]\n",
    "    else:\n",
    "        possible_path = path_lib[4]\n",
    "\n",
    "    for _p_path in possible_path:\n",
    "        list_of_index = is_sub_list(_path, _p_path)\n",
    "        if len(list_of_index) > 0:\n",
    "            d = dict()\n",
    "            d['user_id'] = _user_id\n",
    "            d['counts'] = [_counts[i] for i in list_of_index]\n",
    "            d['cost'] = sum([_cost[i] for i in list_of_index])\n",
    "            if str(_p_path) in four_step_path_no_visit:\n",
    "                four_step_path_no_visit[str(_p_path)].append(d)\n",
    "            else:\n",
    "                four_step_path_no_visit[str(_p_path)] = [d]  "
   ]
  },
  {
   "cell_type": "code",
   "execution_count": 95,
   "metadata": {},
   "outputs": [],
   "source": [
    "import json\n",
    "json.dump(four_step_path_buyers, open('/home/jubauser1/jzou/dcm_account7252/user_path/four_step_path_buyers.json', 'w'))"
   ]
  },
  {
   "cell_type": "code",
   "execution_count": 98,
   "metadata": {
    "collapsed": true
   },
   "outputs": [],
   "source": [
    "json.dump(four_step_path_high_engagers, \n",
    "          open('/home/jubauser1/jzou/dcm_account7252/user_path/four_step_path_high_engagers.json', 'w'))"
   ]
  },
  {
   "cell_type": "code",
   "execution_count": 101,
   "metadata": {
    "collapsed": true
   },
   "outputs": [],
   "source": [
    "json.dump(four_step_path_low_engagers, \n",
    "          open('/home/jubauser1/jzou/dcm_account7252/user_path/four_step_path_low_engagers.json', 'w'))"
   ]
  },
  {
   "cell_type": "code",
   "execution_count": 104,
   "metadata": {
    "collapsed": true
   },
   "outputs": [],
   "source": [
    "json.dump(four_step_path_no_visit, \n",
    "          open('/home/jubauser1/jzou/dcm_account7252/user_path/four_step_path_no_visit.json', 'w'))"
   ]
  },
  {
   "cell_type": "code",
   "execution_count": 103,
   "metadata": {},
   "outputs": [
    {
     "data": {
      "text/plain": [
       "(873, 2237, 946, 134)"
      ]
     },
     "execution_count": 103,
     "metadata": {},
     "output_type": "execute_result"
    }
   ],
   "source": [
    "len(four_step_path_buyers), len(four_step_path_high_engagers), len(four_step_path_low_engagers), len(four_step_path_no_visit)"
   ]
  },
  {
   "cell_type": "code",
   "execution_count": 180,
   "metadata": {},
   "outputs": [],
   "source": [
    "path_by_group = {'buyers': four_step_path_buyers,\n",
    "               'high_engagers': four_step_path_high_engagers,\n",
    "               'low_engagers': four_step_path_low_engagers,\n",
    "               'no_visit': four_step_path_no_visit}\n",
    "writer = pd.ExcelWriter('/home/jubauser1/jzou/dcm_account7252/user_path/frequency_of_four_step_path_by_groups.xlsx')\n",
    "\n",
    "for _p, _length in path_by_group.items():\n",
    "    path_length = dict()\n",
    "    for k, v in _length.items():\n",
    "        path_length[k] = len(v)\n",
    "\n",
    "    temp = pd.Series(path_length).sort_values(ascending=False)\n",
    "\n",
    "    temp.name=_p\n",
    "\n",
    "    temp2 = pd.DataFrame(temp)\n",
    "\n",
    "    temp2['path'] = temp2.index\n",
    "\n",
    "    temp2['path'] = temp2['path'].apply(lambda x: eval(x))\n",
    "\n",
    "    temp2['step1'] = temp2['path'].apply(lambda x: x[0] if len(x) >= 1 else '')\n",
    "    temp2['step2'] = temp2['path'].apply(lambda x: x[1] if len(x) >= 2 else '')\n",
    "    temp2['step3'] = temp2['path'].apply(lambda x: x[2] if len(x) >= 3 else '')\n",
    "    temp2['step4'] = temp2['path'].apply(lambda x: x[3] if len(x) >= 4 else '')\n",
    "\n",
    "    del temp2['path']\n",
    "    temp2.to_excel(writer, sheet_name=_p, index=False)\n",
    "    \n",
    "    writer2 = pd.ExcelWriter('/home/jubauser1/jzou/dcm_account7252/user_path/top_10_%s_paths.xlsx'%_p)\n",
    "    top10_paths = list(temp2.index)[:10]\n",
    "    for i in range(10):\n",
    "        _path = top10_paths[i]\n",
    "        temp3 = pd.DataFrame(_length[_path])\n",
    "        temp3 = temp3.join(pd.DataFrame(list(temp3['counts']), columns=eval(_path)))\n",
    "        del temp3['counts']\n",
    "        temp3.to_excel(writer2, sheet_name='path%d'%i, index=False)\n",
    "    writer2.save()\n",
    "writer.save()"
   ]
  },
  {
   "cell_type": "code",
   "execution_count": 182,
   "metadata": {},
   "outputs": [
    {
     "data": {
      "text/plain": [
       "\"('impr: QuantCast',)\""
      ]
     },
     "execution_count": 182,
     "metadata": {},
     "output_type": "execute_result"
    }
   ],
   "source": [
    "top10_paths[0]"
   ]
  },
  {
   "cell_type": "code",
   "execution_count": 183,
   "metadata": {
    "collapsed": true
   },
   "outputs": [],
   "source": [
    "temp3 = pd.DataFrame(_length[top10_paths[0]])"
   ]
  },
  {
   "cell_type": "code",
   "execution_count": 184,
   "metadata": {},
   "outputs": [
    {
     "data": {
      "text/html": [
       "<div>\n",
       "<style>\n",
       "    .dataframe thead tr:only-child th {\n",
       "        text-align: right;\n",
       "    }\n",
       "\n",
       "    .dataframe thead th {\n",
       "        text-align: left;\n",
       "    }\n",
       "\n",
       "    .dataframe tbody tr th {\n",
       "        vertical-align: top;\n",
       "    }\n",
       "</style>\n",
       "<table border=\"1\" class=\"dataframe\">\n",
       "  <thead>\n",
       "    <tr style=\"text-align: right;\">\n",
       "      <th></th>\n",
       "      <th>cost</th>\n",
       "      <th>counts</th>\n",
       "      <th>user_id</th>\n",
       "    </tr>\n",
       "  </thead>\n",
       "  <tbody>\n",
       "    <tr>\n",
       "      <th>0</th>\n",
       "      <td>0.009694</td>\n",
       "      <td>[3]</td>\n",
       "      <td>AMsySZY--0PH7CoXjhqmBxijl-Ia</td>\n",
       "    </tr>\n",
       "    <tr>\n",
       "      <th>1</th>\n",
       "      <td>0.000824</td>\n",
       "      <td>[1]</td>\n",
       "      <td>AMsySZY--0olr34AoV4fpH5jQMxU</td>\n",
       "    </tr>\n",
       "    <tr>\n",
       "      <th>2</th>\n",
       "      <td>0.003829</td>\n",
       "      <td>[1]</td>\n",
       "      <td>AMsySZY--0tGbw00Jq7wk4Y4n8RB</td>\n",
       "    </tr>\n",
       "    <tr>\n",
       "      <th>...</th>\n",
       "      <td>...</td>\n",
       "      <td>...</td>\n",
       "      <td>...</td>\n",
       "    </tr>\n",
       "    <tr>\n",
       "      <th>2130593</th>\n",
       "      <td>0.003825</td>\n",
       "      <td>[1]</td>\n",
       "      <td>AMsySZbzzzPCrgcK7aLHmifIekd7</td>\n",
       "    </tr>\n",
       "    <tr>\n",
       "      <th>2130594</th>\n",
       "      <td>0.000669</td>\n",
       "      <td>[1]</td>\n",
       "      <td>AMsySZbzzzdemn_t_OqL6zxBElbD</td>\n",
       "    </tr>\n",
       "    <tr>\n",
       "      <th>2130595</th>\n",
       "      <td>0.011128</td>\n",
       "      <td>[1]</td>\n",
       "      <td>AMsySZbzzzgrka8IJ3oxBumYjVZ4</td>\n",
       "    </tr>\n",
       "  </tbody>\n",
       "</table>\n",
       "<p>2130596 rows × 3 columns</p>\n",
       "</div>"
      ],
      "text/plain": [
       "             cost counts                       user_id\n",
       "0        0.009694    [3]  AMsySZY--0PH7CoXjhqmBxijl-Ia\n",
       "1        0.000824    [1]  AMsySZY--0olr34AoV4fpH5jQMxU\n",
       "2        0.003829    [1]  AMsySZY--0tGbw00Jq7wk4Y4n8RB\n",
       "...           ...    ...                           ...\n",
       "2130593  0.003825    [1]  AMsySZbzzzPCrgcK7aLHmifIekd7\n",
       "2130594  0.000669    [1]  AMsySZbzzzdemn_t_OqL6zxBElbD\n",
       "2130595  0.011128    [1]  AMsySZbzzzgrka8IJ3oxBumYjVZ4\n",
       "\n",
       "[2130596 rows x 3 columns]"
      ]
     },
     "execution_count": 184,
     "metadata": {},
     "output_type": "execute_result"
    }
   ],
   "source": [
    "temp3"
   ]
  },
  {
   "cell_type": "code",
   "execution_count": 185,
   "metadata": {
    "collapsed": true
   },
   "outputs": [],
   "source": [
    "temp3 = temp3.join(pd.DataFrame(list(temp3['counts']), columns=eval(top10_paths[0])))"
   ]
  },
  {
   "cell_type": "code",
   "execution_count": 187,
   "metadata": {},
   "outputs": [],
   "source": [
    "del temp3['counts']"
   ]
  },
  {
   "cell_type": "code",
   "execution_count": 188,
   "metadata": {
    "collapsed": true
   },
   "outputs": [],
   "source": [
    "temp3.to_csv('/home/jubauser1/jzou/dcm_account7252/user_path/top_1_no_visit_path.csv', index=False)"
   ]
  },
  {
   "cell_type": "code",
   "execution_count": null,
   "metadata": {
    "collapsed": true
   },
   "outputs": [],
   "source": []
  }
 ],
 "metadata": {
  "kernelspec": {
   "display_name": "Python 3",
   "language": "python",
   "name": "python3"
  },
  "language_info": {
   "codemirror_mode": {
    "name": "ipython",
    "version": 3
   },
   "file_extension": ".py",
   "mimetype": "text/x-python",
   "name": "python",
   "nbconvert_exporter": "python",
   "pygments_lexer": "ipython3",
   "version": "3.6.1"
  }
 },
 "nbformat": 4,
 "nbformat_minor": 2
}
