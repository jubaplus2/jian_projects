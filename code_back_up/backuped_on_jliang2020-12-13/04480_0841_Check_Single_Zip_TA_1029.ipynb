{
 "cells": [
  {
   "cell_type": "code",
   "execution_count": 1,
   "metadata": {
    "collapsed": true
   },
   "outputs": [],
   "source": [
    "import json\n",
    "import pandas as pd\n",
    "import numpy as np\n",
    "import datetime\n",
    "from haversine import haversine"
   ]
  },
  {
   "cell_type": "code",
   "execution_count": 2,
   "metadata": {
    "collapsed": true
   },
   "outputs": [],
   "source": [
    "zip_centers=json.load(open(\"/home/jian/Docs/Geo_mapping/center_of_rentrak_zip.json\"))"
   ]
  },
  {
   "cell_type": "code",
   "execution_count": 3,
   "metadata": {
    "collapsed": true
   },
   "outputs": [],
   "source": [
    "TA_to_Check=pd.read_excel(\"/home/jian/Projects/Smoothie_King/TA/check_single_zip/Single_Zip_TA_To_Check.xlsx\",dtype=str)\n",
    "TA_to_Check_list=list(TA_to_Check['TA'].apply(lambda x: x.zfill(3)))"
   ]
  },
  {
   "cell_type": "code",
   "execution_count": 4,
   "metadata": {},
   "outputs": [
    {
     "data": {
      "text/plain": [
       "99"
      ]
     },
     "execution_count": 4,
     "metadata": {},
     "output_type": "execute_result"
    }
   ],
   "source": [
    "len(TA_to_Check_list)"
   ]
  },
  {
   "cell_type": "code",
   "execution_count": 5,
   "metadata": {},
   "outputs": [
    {
     "data": {
      "text/plain": [
       "'025'"
      ]
     },
     "execution_count": 5,
     "metadata": {},
     "output_type": "execute_result"
    }
   ],
   "source": [
    "TA_to_Check_list[0]"
   ]
  },
  {
   "cell_type": "code",
   "execution_count": 6,
   "metadata": {
    "collapsed": true
   },
   "outputs": [],
   "source": [
    "TA_ta_level=pd.read_excel(\"/home/jian/Projects/Smoothie_King/TA/SmoothieKing_TA_revised_3_miles_JL_2018-10-25.xlsx\",dtype=str,sheetname=\"summary_by_TA\")\n",
    "TA_ta_level=TA_ta_level[TA_ta_level['TA'].isin(TA_to_Check_list)]\n",
    "TA_ta_level['store_list']=TA_ta_level['store_list'].apply(lambda x: eval(x))\n",
    "TA_ta_level=TA_ta_level.reset_index()\n",
    "del TA_ta_level['index']"
   ]
  },
  {
   "cell_type": "code",
   "execution_count": 7,
   "metadata": {
    "collapsed": true
   },
   "outputs": [],
   "source": [
    "store_list_to_check=[]\n",
    "for i in range(len(TA_ta_level)):\n",
    "    store_list_to_check=store_list_to_check+TA_ta_level['store_list'][i]"
   ]
  },
  {
   "cell_type": "code",
   "execution_count": 8,
   "metadata": {},
   "outputs": [
    {
     "data": {
      "text/html": [
       "<div>\n",
       "<style>\n",
       "    .dataframe thead tr:only-child th {\n",
       "        text-align: right;\n",
       "    }\n",
       "\n",
       "    .dataframe thead th {\n",
       "        text-align: left;\n",
       "    }\n",
       "\n",
       "    .dataframe tbody tr th {\n",
       "        vertical-align: top;\n",
       "    }\n",
       "</style>\n",
       "<table border=\"1\" class=\"dataframe\">\n",
       "  <thead>\n",
       "    <tr style=\"text-align: right;\">\n",
       "      <th></th>\n",
       "      <th>store_number</th>\n",
       "      <th>TA</th>\n",
       "      <th>city</th>\n",
       "      <th>state</th>\n",
       "      <th>zip_code</th>\n",
       "      <th>latitude</th>\n",
       "      <th>longitude</th>\n",
       "    </tr>\n",
       "  </thead>\n",
       "  <tbody>\n",
       "    <tr>\n",
       "      <th>0</th>\n",
       "      <td>1004</td>\n",
       "      <td>234</td>\n",
       "      <td>Fort. Polk</td>\n",
       "      <td>LA</td>\n",
       "      <td>71459</td>\n",
       "      <td>31.0456878</td>\n",
       "      <td>-93.2046098</td>\n",
       "    </tr>\n",
       "  </tbody>\n",
       "</table>\n",
       "</div>"
      ],
      "text/plain": [
       "  store_number   TA        city state zip_code    latitude    longitude\n",
       "0         1004  234  Fort. Polk    LA    71459  31.0456878  -93.2046098"
      ]
     },
     "execution_count": 8,
     "metadata": {},
     "output_type": "execute_result"
    }
   ],
   "source": [
    "TA_store_level=pd.read_excel(\"/home/jian/Projects/Smoothie_King/TA/SmoothieKing_TA_revised_3_miles_JL_2018-10-25.xlsx\",dtype=str,sheetname=\"output_TA_by_store\")\n",
    "TA_store_level=TA_store_level[TA_store_level['store_number'].isin(store_list_to_check)]\n",
    "TA_store_level=TA_store_level[['store_number','TA','city','state','zip_code','latitude','longitude']]\n",
    "TA_store_level=TA_store_level.reset_index()\n",
    "del TA_store_level['index']\n",
    "TA_store_level.head(1)"
   ]
  },
  {
   "cell_type": "code",
   "execution_count": 9,
   "metadata": {},
   "outputs": [
    {
     "data": {
      "text/plain": [
       "array([5])"
      ]
     },
     "execution_count": 9,
     "metadata": {},
     "output_type": "execute_result"
    }
   ],
   "source": [
    "TA_store_level['zip_code'].apply(lambda x: len(x)).unique()"
   ]
  },
  {
   "cell_type": "code",
   "execution_count": 10,
   "metadata": {},
   "outputs": [
    {
     "name": "stderr",
     "output_type": "stream",
     "text": [
      "/usr/local/lib/python3.6/site-packages/ipykernel_launcher.py:7: SettingWithCopyWarning: \n",
      "A value is trying to be set on a copy of a slice from a DataFrame\n",
      "\n",
      "See the caveats in the documentation: http://pandas.pydata.org/pandas-docs/stable/indexing.html#indexing-view-versus-copy\n",
      "  import sys\n"
     ]
    }
   ],
   "source": [
    "TA_store_level['Store_LatLng_to_Store_Zip_Center']=np.nan\n",
    "for i in range(len(TA_store_level)):\n",
    "    store_lat=float(TA_store_level['latitude'][i])\n",
    "    store_lng=float(TA_store_level['longitude'][i])\n",
    "    store_zip=TA_store_level['zip_code'][i]\n",
    "    zip_center_of_store=zip_centers[store_zip]\n",
    "    TA_store_level['Store_LatLng_to_Store_Zip_Center'][i]=haversine((store_lat,store_lng),zip_center_of_store,miles=True)"
   ]
  },
  {
   "cell_type": "code",
   "execution_count": 11,
   "metadata": {
    "collapsed": true
   },
   "outputs": [],
   "source": [
    "for i in range(3,11):\n",
    "    TA_store_level['zip_'+str(i)+\"_miles_latlng\"]=np.nan\n",
    "for i in range(3,11):\n",
    "    TA_store_level['zip_'+str(i)+\"_miles_storezip\"]=np.nan"
   ]
  },
  {
   "cell_type": "code",
   "execution_count": null,
   "metadata": {
    "collapsed": true
   },
   "outputs": [],
   "source": []
  },
  {
   "cell_type": "code",
   "execution_count": 12,
   "metadata": {},
   "outputs": [
    {
     "name": "stderr",
     "output_type": "stream",
     "text": [
      "/usr/local/lib/python3.6/site-packages/ipykernel_launcher.py:19: SettingWithCopyWarning: \n",
      "A value is trying to be set on a copy of a slice from a DataFrame\n",
      "\n",
      "See the caveats in the documentation: http://pandas.pydata.org/pandas-docs/stable/indexing.html#indexing-view-versus-copy\n",
      "/usr/local/lib/python3.6/site-packages/pandas/core/indexing.py:179: SettingWithCopyWarning: \n",
      "A value is trying to be set on a copy of a slice from a DataFrame\n",
      "\n",
      "See the caveats in the documentation: http://pandas.pydata.org/pandas-docs/stable/indexing.html#indexing-view-versus-copy\n",
      "  self._setitem_with_indexer(indexer, value)\n",
      "/usr/local/lib/python3.6/site-packages/ipykernel_launcher.py:20: SettingWithCopyWarning: \n",
      "A value is trying to be set on a copy of a slice from a DataFrame\n",
      "\n",
      "See the caveats in the documentation: http://pandas.pydata.org/pandas-docs/stable/indexing.html#indexing-view-versus-copy\n"
     ]
    },
    {
     "name": "stdout",
     "output_type": "stream",
     "text": [
      "1\n",
      "11\n",
      "21\n",
      "31\n",
      "41\n",
      "51\n",
      "61\n",
      "71\n",
      "81\n",
      "91\n",
      "101\n"
     ]
    }
   ],
   "source": [
    "for i in range(len(TA_store_level)):\n",
    "    store_lat=float(TA_store_level['latitude'][i])\n",
    "    store_lng=float(TA_store_level['longitude'][i])\n",
    "    store_zip=TA_store_level['zip_code'][i]\n",
    "    zip_center_of_store=zip_centers[store_zip]\n",
    "    for j in range(3,11):\n",
    "        locals()['zip_'+str(j)+\"_miles_latlng\"]=[]\n",
    "        locals()['zip_'+str(j)+\"_miles_storezip\"]=[]\n",
    "                \n",
    "    for zip_cd in zip_centers.keys():\n",
    "        distance_store_lat_long=haversine(zip_centers[zip_cd],(store_lat,store_lng),miles=True)\n",
    "        distance_store_zip=haversine(zip_centers[zip_cd],zip_centers[store_zip],miles=True)\n",
    "        for j in range(3,11):\n",
    "            if distance_store_lat_long<=j:\n",
    "                locals()['zip_'+str(j)+\"_miles_latlng\"]=locals()['zip_'+str(j)+\"_miles_latlng\"]+[zip_cd]\n",
    "            if distance_store_zip<=j:\n",
    "                locals()['zip_'+str(j)+\"_miles_storezip\"]=locals()['zip_'+str(j)+\"_miles_storezip\"]+[zip_cd]\n",
    "    for j in range(3,11):\n",
    "        TA_store_level['zip_'+str(j)+\"_miles_latlng\"][i]=locals()['zip_'+str(j)+\"_miles_latlng\"]\n",
    "        TA_store_level['zip_'+str(j)+\"_miles_storezip\"][i]=locals()['zip_'+str(j)+\"_miles_storezip\"]\n",
    "    if i % 10 ==1:\n",
    "        print(i)\n",
    "        "
   ]
  },
  {
   "cell_type": "code",
   "execution_count": 13,
   "metadata": {
    "collapsed": true
   },
   "outputs": [],
   "source": [
    "writer=pd.ExcelWriter(\"/home/jian/Projects/Smoothie_King/TA/check_single_zip/Single_Zip_Store_Checked_\"+str(datetime.datetime.now().date())+\".xlsx\",engine=\"xlsxwriter\")\n",
    "TA_store_level.to_excel(writer,index=False)\n",
    "writer.save()"
   ]
  },
  {
   "cell_type": "code",
   "execution_count": null,
   "metadata": {
    "collapsed": true
   },
   "outputs": [],
   "source": []
  },
  {
   "cell_type": "code",
   "execution_count": null,
   "metadata": {
    "collapsed": true
   },
   "outputs": [],
   "source": []
  }
 ],
 "metadata": {
  "kernelspec": {
   "display_name": "Python 3",
   "language": "python",
   "name": "python3"
  },
  "language_info": {
   "codemirror_mode": {
    "name": "ipython",
    "version": 3
   },
   "file_extension": ".py",
   "mimetype": "text/x-python",
   "name": "python",
   "nbconvert_exporter": "python",
   "pygments_lexer": "ipython3",
   "version": "3.6.1"
  }
 },
 "nbformat": 4,
 "nbformat_minor": 2
}
