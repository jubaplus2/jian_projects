{
 "cells": [
  {
   "cell_type": "code",
   "execution_count": 1,
   "metadata": {},
   "outputs": [
    {
     "name": "stdout",
     "output_type": "stream",
     "text": [
      "2020-02-13 17:30:33.426879\n"
     ]
    },
    {
     "data": {
      "text/plain": [
       "'/home/jian/Projects/Big_Lots/Analysis/2019_Q4/Planner_Request/JT_product_mapping_and_YoY_20200212'"
      ]
     },
     "execution_count": 1,
     "metadata": {},
     "output_type": "execute_result"
    }
   ],
   "source": [
    "import pandas as pd\n",
    "import numpy as np\n",
    "import datetime\n",
    "import os\n",
    "import glob\n",
    "\n",
    "print(datetime.datetime.now())\n",
    "os.getcwd()"
   ]
  },
  {
   "cell_type": "code",
   "execution_count": 2,
   "metadata": {},
   "outputs": [],
   "source": [
    "df_prod_taxonomy=pd.read_csv(\"/home/jian/BigLots/static_files/ProductTaxonomy/MediaStormProductTaxonomy20200201-134613-815.txt\",\n",
    "                            sep='|',dtype=str)\n",
    "\n",
    "df_div_name=pd.read_csv(\"/home/jian/BigLots/static_files/MediaStorm Data Extract - Division Names.txt\",\n",
    "                            sep='|',dtype=str)\n",
    "\n",
    "df_department_name=pd.read_csv(\"/home/jian/BigLots/static_files/MediaStorm Data Extract - Department Names.txt\",\n",
    "                            sep='|',dtype=str)\n",
    "\n",
    "df_class_name=pd.read_csv(\"/home/jian/BigLots/static_files/MediaStorm Data Extract - Class Names.txt\",\n",
    "                            sep='|',dtype=str,encoding=\"iso-8859-1\")\n"
   ]
  },
  {
   "cell_type": "code",
   "execution_count": 3,
   "metadata": {},
   "outputs": [],
   "source": [
    "df_prod_taxonomy=pd.merge(df_prod_taxonomy,df_div_name,on=\"division_id\",how=\"left\")\n",
    "df_prod_taxonomy=pd.merge(df_prod_taxonomy,df_department_name,on=\"department_id\",how=\"left\")\n",
    "df_prod_taxonomy=pd.merge(df_prod_taxonomy,df_class_name,on=\"class_code_id\",how=\"left\")\n",
    "df_prod_taxonomy=df_prod_taxonomy[['division_id','division_desc','department_id','department_desc',\n",
    "                                  'class_code_id','class_code_desc','subclass_id','subclass_desc']]"
   ]
  },
  {
   "cell_type": "code",
   "execution_count": 4,
   "metadata": {},
   "outputs": [
    {
     "data": {
      "text/html": [
       "<div>\n",
       "<style scoped>\n",
       "    .dataframe tbody tr th:only-of-type {\n",
       "        vertical-align: middle;\n",
       "    }\n",
       "\n",
       "    .dataframe tbody tr th {\n",
       "        vertical-align: top;\n",
       "    }\n",
       "\n",
       "    .dataframe thead th {\n",
       "        text-align: right;\n",
       "    }\n",
       "</style>\n",
       "<table border=\"1\" class=\"dataframe\">\n",
       "  <thead>\n",
       "    <tr style=\"text-align: right;\">\n",
       "      <th></th>\n",
       "      <th>division_id</th>\n",
       "      <th>division_desc</th>\n",
       "      <th>department_id</th>\n",
       "      <th>department_desc</th>\n",
       "      <th>class_code_id</th>\n",
       "      <th>class_code_desc</th>\n",
       "      <th>subclass_id</th>\n",
       "      <th>subclass_desc</th>\n",
       "    </tr>\n",
       "  </thead>\n",
       "  <tbody>\n",
       "    <tr>\n",
       "      <th>0</th>\n",
       "      <td>1</td>\n",
       "      <td>FOOD</td>\n",
       "      <td>108</td>\n",
       "      <td>CANDYSNACK</td>\n",
       "      <td>11001</td>\n",
       "      <td>CANDY</td>\n",
       "      <td>1</td>\n",
       "      <td>Chocolate Bagged</td>\n",
       "    </tr>\n",
       "    <tr>\n",
       "      <th>1</th>\n",
       "      <td>1</td>\n",
       "      <td>FOOD</td>\n",
       "      <td>108</td>\n",
       "      <td>CANDYSNACK</td>\n",
       "      <td>11001</td>\n",
       "      <td>CANDY</td>\n",
       "      <td>3</td>\n",
       "      <td>Single Chocolate</td>\n",
       "    </tr>\n",
       "  </tbody>\n",
       "</table>\n",
       "</div>"
      ],
      "text/plain": [
       "  division_id division_desc department_id department_desc class_code_id  \\\n",
       "0           1          FOOD           108      CANDYSNACK         11001   \n",
       "1           1          FOOD           108      CANDYSNACK         11001   \n",
       "\n",
       "  class_code_desc subclass_id     subclass_desc  \n",
       "0           CANDY           1  Chocolate Bagged  \n",
       "1           CANDY           3  Single Chocolate  "
      ]
     },
     "execution_count": 4,
     "metadata": {},
     "output_type": "execute_result"
    }
   ],
   "source": [
    "df_prod_taxonomy.head(2)"
   ]
  },
  {
   "cell_type": "code",
   "execution_count": 5,
   "metadata": {},
   "outputs": [
    {
     "data": {
      "text/html": [
       "<div>\n",
       "<style scoped>\n",
       "    .dataframe tbody tr th:only-of-type {\n",
       "        vertical-align: middle;\n",
       "    }\n",
       "\n",
       "    .dataframe tbody tr th {\n",
       "        vertical-align: top;\n",
       "    }\n",
       "\n",
       "    .dataframe thead th {\n",
       "        text-align: right;\n",
       "    }\n",
       "</style>\n",
       "<table border=\"1\" class=\"dataframe\">\n",
       "  <thead>\n",
       "    <tr style=\"text-align: right;\">\n",
       "      <th></th>\n",
       "      <th>division_id</th>\n",
       "      <th>department_id</th>\n",
       "    </tr>\n",
       "  </thead>\n",
       "  <tbody>\n",
       "    <tr>\n",
       "      <th>17</th>\n",
       "      <td>1</td>\n",
       "      <td>109</td>\n",
       "    </tr>\n",
       "  </tbody>\n",
       "</table>\n",
       "</div>"
      ],
      "text/plain": [
       "   division_id department_id\n",
       "17           1           109"
      ]
     },
     "execution_count": 5,
     "metadata": {},
     "output_type": "execute_result"
    }
   ],
   "source": [
    "df_1=df_prod_taxonomy[df_prod_taxonomy['department_desc']==\"CANSNPASTA\"]\n",
    "df_1[['division_id','department_id']].drop_duplicates()"
   ]
  },
  {
   "cell_type": "code",
   "execution_count": 6,
   "metadata": {},
   "outputs": [
    {
     "data": {
      "text/html": [
       "<div>\n",
       "<style scoped>\n",
       "    .dataframe tbody tr th:only-of-type {\n",
       "        vertical-align: middle;\n",
       "    }\n",
       "\n",
       "    .dataframe tbody tr th {\n",
       "        vertical-align: top;\n",
       "    }\n",
       "\n",
       "    .dataframe thead th {\n",
       "        text-align: right;\n",
       "    }\n",
       "</style>\n",
       "<table border=\"1\" class=\"dataframe\">\n",
       "  <thead>\n",
       "    <tr style=\"text-align: right;\">\n",
       "      <th></th>\n",
       "      <th>division_id</th>\n",
       "      <th>department_id</th>\n",
       "    </tr>\n",
       "  </thead>\n",
       "  <tbody>\n",
       "    <tr>\n",
       "      <th>435</th>\n",
       "      <td>3</td>\n",
       "      <td>360</td>\n",
       "    </tr>\n",
       "  </tbody>\n",
       "</table>\n",
       "</div>"
      ],
      "text/plain": [
       "    division_id department_id\n",
       "435           3           360"
      ]
     },
     "execution_count": 6,
     "metadata": {},
     "output_type": "execute_result"
    }
   ],
   "source": [
    "df_2=df_prod_taxonomy[df_prod_taxonomy['department_desc']==\"CHRISTMAS\"]\n",
    "df_2[['division_id','department_id']].drop_duplicates()"
   ]
  },
  {
   "cell_type": "code",
   "execution_count": 7,
   "metadata": {},
   "outputs": [
    {
     "data": {
      "text/html": [
       "<div>\n",
       "<style scoped>\n",
       "    .dataframe tbody tr th:only-of-type {\n",
       "        vertical-align: middle;\n",
       "    }\n",
       "\n",
       "    .dataframe tbody tr th {\n",
       "        vertical-align: top;\n",
       "    }\n",
       "\n",
       "    .dataframe thead th {\n",
       "        text-align: right;\n",
       "    }\n",
       "</style>\n",
       "<table border=\"1\" class=\"dataframe\">\n",
       "  <thead>\n",
       "    <tr style=\"text-align: right;\">\n",
       "      <th></th>\n",
       "      <th>division_id</th>\n",
       "      <th>department_id</th>\n",
       "    </tr>\n",
       "  </thead>\n",
       "  <tbody>\n",
       "    <tr>\n",
       "      <th>2159</th>\n",
       "      <td>6</td>\n",
       "      <td>550</td>\n",
       "    </tr>\n",
       "  </tbody>\n",
       "</table>\n",
       "</div>"
      ],
      "text/plain": [
       "     division_id department_id\n",
       "2159           6           550"
      ]
     },
     "execution_count": 7,
     "metadata": {},
     "output_type": "execute_result"
    }
   ],
   "source": [
    "df_3=df_prod_taxonomy[df_prod_taxonomy['department_desc']==\"ELECTRONICS\"]\n",
    "df_3[['division_id','department_id']].drop_duplicates()"
   ]
  },
  {
   "cell_type": "code",
   "execution_count": 8,
   "metadata": {},
   "outputs": [
    {
     "data": {
      "text/html": [
       "<div>\n",
       "<style scoped>\n",
       "    .dataframe tbody tr th:only-of-type {\n",
       "        vertical-align: middle;\n",
       "    }\n",
       "\n",
       "    .dataframe tbody tr th {\n",
       "        vertical-align: top;\n",
       "    }\n",
       "\n",
       "    .dataframe thead th {\n",
       "        text-align: right;\n",
       "    }\n",
       "</style>\n",
       "<table border=\"1\" class=\"dataframe\">\n",
       "  <thead>\n",
       "    <tr style=\"text-align: right;\">\n",
       "      <th></th>\n",
       "      <th>division_id</th>\n",
       "      <th>department_id</th>\n",
       "    </tr>\n",
       "  </thead>\n",
       "  <tbody>\n",
       "    <tr>\n",
       "      <th>1962</th>\n",
       "      <td>5</td>\n",
       "      <td>520</td>\n",
       "    </tr>\n",
       "  </tbody>\n",
       "</table>\n",
       "</div>"
      ],
      "text/plain": [
       "     division_id department_id\n",
       "1962           5           520"
      ]
     },
     "execution_count": 8,
     "metadata": {},
     "output_type": "execute_result"
    }
   ],
   "source": [
    "df_4=df_prod_taxonomy[df_prod_taxonomy['department_desc']==\"STATIONERY\"]\n",
    "df_4[['division_id','department_id']].drop_duplicates()"
   ]
  },
  {
   "cell_type": "code",
   "execution_count": 12,
   "metadata": {},
   "outputs": [
    {
     "name": "stdout",
     "output_type": "stream",
     "text": [
      "(305, 8)\n"
     ]
    },
    {
     "data": {
      "text/html": [
       "<div>\n",
       "<style scoped>\n",
       "    .dataframe tbody tr th:only-of-type {\n",
       "        vertical-align: middle;\n",
       "    }\n",
       "\n",
       "    .dataframe tbody tr th {\n",
       "        vertical-align: top;\n",
       "    }\n",
       "\n",
       "    .dataframe thead th {\n",
       "        text-align: right;\n",
       "    }\n",
       "</style>\n",
       "<table border=\"1\" class=\"dataframe\">\n",
       "  <thead>\n",
       "    <tr style=\"text-align: right;\">\n",
       "      <th></th>\n",
       "      <th>division_id</th>\n",
       "      <th>department_id</th>\n",
       "      <th>division_desc</th>\n",
       "      <th>department_desc</th>\n",
       "    </tr>\n",
       "  </thead>\n",
       "  <tbody>\n",
       "    <tr>\n",
       "      <th>17</th>\n",
       "      <td>1</td>\n",
       "      <td>109</td>\n",
       "      <td>FOOD</td>\n",
       "      <td>CANSNPASTA</td>\n",
       "    </tr>\n",
       "    <tr>\n",
       "      <th>435</th>\n",
       "      <td>3</td>\n",
       "      <td>360</td>\n",
       "      <td>SEASONAL</td>\n",
       "      <td>CHRISTMAS</td>\n",
       "    </tr>\n",
       "    <tr>\n",
       "      <th>2159</th>\n",
       "      <td>6</td>\n",
       "      <td>550</td>\n",
       "      <td>ELECNACCES</td>\n",
       "      <td>ELECTRONICS</td>\n",
       "    </tr>\n",
       "    <tr>\n",
       "      <th>1962</th>\n",
       "      <td>5</td>\n",
       "      <td>520</td>\n",
       "      <td>HARDHOME</td>\n",
       "      <td>STATIONERY</td>\n",
       "    </tr>\n",
       "  </tbody>\n",
       "</table>\n",
       "</div>"
      ],
      "text/plain": [
       "     division_id department_id division_desc department_desc\n",
       "17             1           109          FOOD      CANSNPASTA\n",
       "435            3           360      SEASONAL       CHRISTMAS\n",
       "2159           6           550    ELECNACCES     ELECTRONICS\n",
       "1962           5           520      HARDHOME      STATIONERY"
      ]
     },
     "execution_count": 12,
     "metadata": {},
     "output_type": "execute_result"
    }
   ],
   "source": [
    "df_products_wanted=df_1.append(df_2).append(df_3).append(df_4)\n",
    "print(df_products_wanted.shape)\n",
    "df_products_wanted[['division_id','department_id','division_desc','department_desc']].drop_duplicates()"
   ]
  },
  {
   "cell_type": "code",
   "execution_count": 13,
   "metadata": {},
   "outputs": [
    {
     "name": "stdout",
     "output_type": "stream",
     "text": [
      "13\n"
     ]
    }
   ],
   "source": [
    "list_files_2018Q4=glob.glob(\"/home/jian/BigLots/hist_daily_data_itemlevel_decompressed/*.txt\")\n",
    "list_files_2018Q4=[x for x in list_files_2018Q4 if x.split(\"d/MediaStormDailySalesHistory\")[1][:8]>=\"20181104\"]\n",
    "list_files_2018Q4=[x for x in list_files_2018Q4 if x.split(\"d/MediaStormDailySalesHistory\")[1][:8]<=\"20190202\"]\n",
    "list_files_2018Q4.sort()\n",
    "print(len(list_files_2018Q4))\n",
    "# list_files_2018Q4"
   ]
  },
  {
   "cell_type": "code",
   "execution_count": 14,
   "metadata": {},
   "outputs": [],
   "source": [
    "def recursive_file_gen(my_root_dir):\n",
    "    for root, dirs, files in os.walk(my_root_dir):\n",
    "        for file in files:\n",
    "            yield os.path.join(root, file)\n",
    "            \n",
    "list_files_2019Q4=list(recursive_file_gen(\"/home/jian/BigLots/\"))\n",
    "list_files_2019Q4=[x for x in list_files_2019Q4 if \"/MediaStorm_\" in x and \"daily\" in x.lower()]\n",
    "list_files_2019Q4=[x for x in list_files_2019Q4 if x.split(\"/MediaStorm_\")[1][:10]>=\"2019-11-03\"]\n",
    "list_files_2019Q4=[x for x in list_files_2019Q4 if x.split(\"/MediaStorm_\")[1][:10]<=\"2020-02-02\"]\n",
    "list_files_2019Q4.sort()"
   ]
  },
  {
   "cell_type": "code",
   "execution_count": 15,
   "metadata": {},
   "outputs": [
    {
     "name": "stdout",
     "output_type": "stream",
     "text": [
      "2020-02-13 17:34:48.654550 2018-11-04\n",
      "2020-02-13 17:36:51.091276 2018-11-11\n",
      "2020-02-13 17:40:34.022891 2018-11-18\n",
      "2020-02-13 17:43:48.815483 2018-11-25\n",
      "2020-02-13 17:47:36.200241 2018-12-02\n",
      "2020-02-13 17:51:38.861568 2018-12-09\n",
      "2020-02-13 17:56:06.679127 2018-12-16\n",
      "2020-02-13 17:57:46.980103 2018-12-23\n",
      "2020-02-13 17:58:47.787632 2018-12-30\n",
      "2020-02-13 17:59:49.237723 2019-01-06\n",
      "2020-02-13 18:01:11.110800 2019-01-13\n",
      "2020-02-13 18:02:52.211270 2019-01-20\n",
      "2020-02-13 18:03:46.704769 2019-01-27\n"
     ]
    }
   ],
   "source": [
    "# 2018 sales by class\n",
    "df_2018_wanted=pd.DataFrame()\n",
    "for file in list_files_2018Q4:\n",
    "    df=pd.read_csv(file,dtype=str,sep=\"|\")\n",
    "    df['item_transaction_amt']=df['item_transaction_amt'].astype(float)\n",
    "    df['item_transaction_units']=df['item_transaction_units'].astype(int)\n",
    "    df=pd.merge(df,df_products_wanted,on=['class_code_id','subclass_id'],how=\"left\")\n",
    "    df=df[pd.notnull(df['department_id'])]\n",
    "    df['rewards_label']=np.where(pd.isnull(df['customer_id_hashed']),\"nonrewards\",\"rewards\")\n",
    "    \n",
    "    df_trans=df[['location_id','transaction_dt','transaction_id','rewards_label','customer_id_hashed','division_id','department_id','class_code_id']].drop_duplicates()\n",
    "    df_trans['trans']=1\n",
    "    df_trans=df_trans.groupby(['location_id','transaction_dt','transaction_id','rewards_label','division_id','department_id','class_code_id'])['trans'].sum().to_frame().reset_index()\n",
    "    df_sales=df.groupby(['location_id','transaction_dt','transaction_id','rewards_label','division_id','department_id','class_code_id'])['item_transaction_amt','item_transaction_units'].sum().reset_index()\n",
    "    df_sales=df_sales.rename(columns={\"item_transaction_amt\":\"sales\",'item_transaction_units':\"units\"})\n",
    "    \n",
    "    df=pd.merge(df_sales,df_trans,on=['location_id','transaction_dt','transaction_id','rewards_label','division_id','department_id','class_code_id'],how=\"outer\")\n",
    "    df_2018_wanted=df_2018_wanted.append(df)\n",
    "    print(datetime.datetime.now(),df['transaction_dt'].min())"
   ]
  },
  {
   "cell_type": "code",
   "execution_count": 16,
   "metadata": {},
   "outputs": [
    {
     "name": "stdout",
     "output_type": "stream",
     "text": [
      "2020-02-13 18:05:40.975900 2019-11-03\n",
      "2020-02-13 18:07:39.391115 2019-11-10\n",
      "2020-02-13 18:09:01.666213 2019-11-17\n",
      "2020-02-13 18:11:48.420997 2019-11-24\n",
      "2020-02-13 18:14:29.363060 2019-12-01\n",
      "2020-02-13 18:17:28.758909 2019-12-08\n",
      "2020-02-13 18:20:26.877198 2019-12-15\n",
      "2020-02-13 18:22:18.632780 2019-12-22\n",
      "2020-02-13 18:23:40.326415 2019-12-29\n",
      "2020-02-13 18:24:38.601110 2020-01-05\n",
      "2020-02-13 18:25:52.714199 2020-01-12\n",
      "2020-02-13 18:27:04.796886 2020-01-19\n",
      "2020-02-13 18:27:54.788268 2020-01-26\n"
     ]
    }
   ],
   "source": [
    "# 2019 sales by class\n",
    "df_2019_wanted=pd.DataFrame()\n",
    "for file in list_files_2019Q4:\n",
    "    df=pd.read_csv(file,dtype=str,sep=\"|\")\n",
    "    df['item_transaction_amt']=df['item_transaction_amt'].astype(float)\n",
    "    df['item_transaction_units']=df['item_transaction_units'].astype(int)\n",
    "    df=pd.merge(df,df_products_wanted,on=['class_code_id','subclass_id'],how=\"left\")\n",
    "    df=df[pd.notnull(df['department_id'])]\n",
    "    df['rewards_label']=np.where(pd.isnull(df['customer_id_hashed']),\"nonrewards\",\"rewards\")\n",
    "    \n",
    "    df_trans=df[['location_id','transaction_dt','transaction_id','rewards_label','customer_id_hashed','division_id','department_id','class_code_id']].drop_duplicates()\n",
    "    df_trans['trans']=1\n",
    "    df_trans=df_trans.groupby(['location_id','transaction_dt','transaction_id','rewards_label','division_id','department_id','class_code_id'])['trans'].sum().to_frame().reset_index()\n",
    "    df_sales=df.groupby(['location_id','transaction_dt','transaction_id','rewards_label','division_id','department_id','class_code_id'])['item_transaction_amt','item_transaction_units'].sum().reset_index()\n",
    "    df_sales=df_sales.rename(columns={\"item_transaction_amt\":\"sales\",'item_transaction_units':\"units\"})\n",
    "    \n",
    "    df=pd.merge(df_sales,df_trans,on=['location_id','transaction_dt','transaction_id','rewards_label','division_id','department_id','class_code_id'],how=\"outer\")\n",
    "    df_2019_wanted=df_2019_wanted.append(df)\n",
    "    print(datetime.datetime.now(),df['transaction_dt'].min())"
   ]
  },
  {
   "cell_type": "code",
   "execution_count": 17,
   "metadata": {},
   "outputs": [
    {
     "name": "stdout",
     "output_type": "stream",
     "text": [
      "df_2019_wanted.shape (24820466, 10)\n",
      "2019-11-03 2020-02-01\n",
      "df_2018_wanted.shape (29554978, 10)\n",
      "2018-11-04 2019-02-02\n"
     ]
    }
   ],
   "source": [
    "print(\"df_2019_wanted.shape\",df_2019_wanted.shape)\n",
    "print(df_2019_wanted['transaction_dt'].min(),df_2019_wanted['transaction_dt'].max())\n",
    "\n",
    "print(\"df_2018_wanted.shape\",df_2018_wanted.shape)\n",
    "print(df_2018_wanted['transaction_dt'].min(),df_2018_wanted['transaction_dt'].max())\n"
   ]
  },
  {
   "cell_type": "code",
   "execution_count": 18,
   "metadata": {},
   "outputs": [],
   "source": [
    "df_output_2019Q4=df_2019_wanted.groupby(['division_id','department_id','class_code_id','rewards_label'])['sales','units','trans'].sum().reset_index()\n",
    "df_output_2019Q4['Quarter']=\"2019Q4\"\n",
    "\n",
    "df_output_2018Q4=df_2018_wanted.groupby(['division_id','department_id','class_code_id','rewards_label'])['sales','units','trans'].sum().reset_index()\n",
    "df_output_2018Q4['Quarter']=\"2018Q4\""
   ]
  },
  {
   "cell_type": "code",
   "execution_count": 27,
   "metadata": {},
   "outputs": [],
   "source": [
    "df_naming=df_prod_taxonomy[['division_id','department_id','class_code_id',\n",
    "                           'division_desc','department_desc','class_code_desc']].drop_duplicates()\n",
    "df_output_2019Q4=pd.merge(df_output_2019Q4,df_naming,on=['division_id','department_id','class_code_id'],how=\"left\")\n",
    "df_output_2018Q4=pd.merge(df_output_2018Q4,df_naming,on=['division_id','department_id','class_code_id'],how=\"left\")\n",
    "\n",
    "\n"
   ]
  },
  {
   "cell_type": "code",
   "execution_count": 29,
   "metadata": {},
   "outputs": [],
   "source": [
    "writer=pd.ExcelWriter(\"./BL_YoY_selected_dropping_prods_JL_\"+str(datetime.datetime.now().date())+\".xlsx\",engine=\"xlsxwriter\")\n",
    "df_output_2019Q4.to_excel(writer,\"Q4_2019\",index=False)\n",
    "df_output_2018Q4.to_excel(writer,\"Q4_2018\",index=False)\n",
    "writer.save()"
   ]
  },
  {
   "cell_type": "code",
   "execution_count": 30,
   "metadata": {},
   "outputs": [
    {
     "data": {
      "text/plain": [
       "'/home/jian/Projects/Big_Lots/Analysis/2019_Q4/Planner_Request/JT_product_mapping_and_YoY_20200212'"
      ]
     },
     "execution_count": 30,
     "metadata": {},
     "output_type": "execute_result"
    }
   ],
   "source": [
    "os.getcwd()"
   ]
  },
  {
   "cell_type": "code",
   "execution_count": null,
   "metadata": {},
   "outputs": [],
   "source": []
  }
 ],
 "metadata": {
  "kernelspec": {
   "display_name": "Python 3",
   "language": "python",
   "name": "python3"
  }
 },
 "nbformat": 4,
 "nbformat_minor": 2
}
