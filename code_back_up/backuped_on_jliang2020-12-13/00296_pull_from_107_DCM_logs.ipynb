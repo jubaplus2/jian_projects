{
 "cells": [
  {
   "cell_type": "code",
   "execution_count": 1,
   "metadata": {},
   "outputs": [
    {
     "name": "stdout",
     "output_type": "stream",
     "text": [
      "/home/jian/Projects/Big_Lots/Analysis/2019_Q4/Predictive_Model_Building\n"
     ]
    }
   ],
   "source": [
    "# 107 2020-01-01 to 2020-05-02\n",
    "\n",
    "import pandas as pd\n",
    "import paramiko\n",
    "import numpy as np\n",
    "import os\n",
    "import datetime\n",
    "print(os.getcwd())\n",
    "\n",
    "\n",
    "impr_local_folder=\"/home/jian/Projects/Big_Lots/Analysis/2019_Q4/Predictive_Model_Building/DCM_raw_logs_BL/impressions/\"\n",
    "click_local_folder=\"/home/jian/Projects/Big_Lots/Analysis/2019_Q4/Predictive_Model_Building/DCM_raw_logs_BL/clicks/\"\n",
    "act_local_folder=\"/home/jian/Projects/Big_Lots/Analysis/2019_Q4/Predictive_Model_Building/DCM_raw_logs_BL/activities/\""
   ]
  },
  {
   "cell_type": "code",
   "execution_count": 2,
   "metadata": {},
   "outputs": [],
   "source": [
    "try:\n",
    "    os.stat(impr_local_folder)\n",
    "except:\n",
    "    os.mkdir(impr_local_folder)\n",
    "\n",
    "try:\n",
    "    os.stat(click_local_folder)\n",
    "except:\n",
    "    os.mkdir(click_local_folder)\n",
    "    \n",
    "try:\n",
    "    os.stat(act_local_folder)\n",
    "except:\n",
    "    os.mkdir(act_local_folder)"
   ]
  },
  {
   "cell_type": "code",
   "execution_count": 3,
   "metadata": {},
   "outputs": [],
   "source": [
    "host = \"107.191.32.220\" #hard-coded\n",
    "port = 22\n",
    "transport = paramiko.Transport((host, port))\n",
    "\n",
    "password = \"juba-jl1\" #hard-coded\n",
    "username = \"jian\" #hard-coded\n",
    "transport.connect(username = username, password = password)\n",
    "sftp = paramiko.SFTPClient.from_transport(transport)"
   ]
  },
  {
   "cell_type": "code",
   "execution_count": 9,
   "metadata": {},
   "outputs": [
    {
     "name": "stdout",
     "output_type": "stream",
     "text": [
      "len(list_remote_impr_files) 124\n",
      "len(list_remote_click_files) 124\n",
      "len(list_remote_act_files) 124\n"
     ]
    }
   ],
   "source": [
    "remote_impression_folder=\"/mnt/drv5/jian/Big_Lots/Pred_Dataset_all_BL_DCMs_and_LR/BL_impression_logs/\"\n",
    "list_remote_impr_files=[remote_impression_folder+x for x in sftp.listdir(remote_impression_folder)]\n",
    "list_remote_impr_files=[x for x in list_remote_impr_files if os.path.basename(x) not in os.listdir(impr_local_folder)]\n",
    "list_remote_impr_files.sort()\n",
    "print(\"len(list_remote_impr_files)\",len(list_remote_impr_files))\n",
    "\n",
    "remote_click_folder=\"/mnt/drv5/jian/Big_Lots/Pred_Dataset_all_BL_DCMs_and_LR/BL_click_logs/\"\n",
    "list_remote_click_files=[remote_click_folder+x for x in sftp.listdir(remote_click_folder)]\n",
    "list_remote_click_files=[x for x in list_remote_click_files if os.path.basename(x) not in os.listdir(click_local_folder)]\n",
    "list_remote_click_files.sort()\n",
    "print(\"len(list_remote_click_files)\",len(list_remote_click_files))\n",
    "\n",
    "remote_activity_folder=\"/mnt/drv5/jian/Big_Lots/Pred_Dataset_all_BL_DCMs_and_LR/BL_activity_logs/\"\n",
    "list_remote_act_files=[remote_activity_folder+x for x in sftp.listdir(remote_activity_folder)]\n",
    "list_remote_act_files=[x for x in list_remote_act_files if os.path.basename(x) not in os.listdir(act_local_folder)]\n",
    "list_remote_act_files.sort()\n",
    "print(\"len(list_remote_act_files)\",len(list_remote_act_files))\n"
   ]
  },
  {
   "cell_type": "code",
   "execution_count": 10,
   "metadata": {
    "scrolled": true
   },
   "outputs": [
    {
     "name": "stdout",
     "output_type": "stream",
     "text": [
      "impr:  1 2020-05-23 16:24:21.727575\n",
      "impr:  11 2020-05-23 16:25:56.899246\n",
      "impr:  21 2020-05-23 16:27:25.438277\n",
      "impr:  31 2020-05-23 16:27:26.043610\n",
      "impr:  41 2020-05-23 16:29:34.380426\n",
      "impr:  51 2020-05-23 16:34:46.734967\n",
      "impr:  61 2020-05-23 16:37:13.927873\n",
      "impr:  71 2020-05-23 16:39:00.652595\n",
      "impr:  81 2020-05-23 16:40:52.493026\n",
      "impr:  91 2020-05-23 16:45:13.464164\n",
      "impr:  101 2020-05-23 16:49:22.425211\n",
      "impr:  111 2020-05-23 16:52:25.473868\n",
      "impr:  121 2020-05-23 17:01:05.641907\n",
      "click:  1 2020-05-23 17:03:12.498041\n",
      "click:  11 2020-05-23 17:03:37.337020\n",
      "click:  21 2020-05-23 17:03:57.390267\n",
      "click:  31 2020-05-23 17:04:12.196472\n",
      "click:  41 2020-05-23 17:04:28.325413\n",
      "click:  51 2020-05-23 17:04:52.700863\n",
      "click:  61 2020-05-23 17:05:22.689913\n",
      "click:  71 2020-05-23 17:05:43.950591\n",
      "click:  81 2020-05-23 17:06:08.613103\n",
      "click:  91 2020-05-23 17:06:38.478544\n",
      "click:  101 2020-05-23 17:07:15.038628\n",
      "click:  111 2020-05-23 17:07:58.650845\n",
      "click:  121 2020-05-23 17:09:01.339033\n"
     ]
    }
   ],
   "source": [
    "# impression\n",
    "i_counter=0\n",
    "for file in list_remote_impr_files:\n",
    "    basename=os.path.basename(file)\n",
    "    sftp.get(file,impr_local_folder+basename)\n",
    "    i_counter+=1\n",
    "    if i_counter%10==1:\n",
    "        print('impr: ',i_counter,datetime.datetime.now())\n",
    "    \n",
    "# click\n",
    "i_counter=0\n",
    "for file in list_remote_click_files:\n",
    "    basename=os.path.basename(file)\n",
    "    sftp.get(file,click_local_folder+basename)\n",
    "    i_counter+=1\n",
    "    if i_counter%10==1:\n",
    "        print('click: ',i_counter,datetime.datetime.now())"
   ]
  },
  {
   "cell_type": "code",
   "execution_count": 11,
   "metadata": {},
   "outputs": [
    {
     "name": "stdout",
     "output_type": "stream",
     "text": [
      "act:  1 2020-05-23 17:10:42.193959\n",
      "act:  11 2020-05-23 17:20:14.651372\n",
      "act:  21 2020-05-23 17:28:12.652016\n",
      "act:  31 2020-05-23 17:34:06.112225\n",
      "act:  41 2020-05-23 17:40:30.240092\n",
      "act:  51 2020-05-23 17:48:54.467077\n",
      "act:  61 2020-05-23 17:58:52.221649\n",
      "act:  71 2020-05-23 18:06:54.736327\n",
      "act:  81 2020-05-23 18:15:35.081412\n",
      "act:  91 2020-05-23 18:25:28.629937\n",
      "act:  101 2020-05-23 18:38:46.758413\n",
      "act:  111 2020-05-23 18:56:40.629017\n",
      "act:  121 2020-05-23 19:21:05.554278\n",
      "all done 2020-05-23 19:26:48.461212\n"
     ]
    }
   ],
   "source": [
    "# activity\n",
    "i_counter=0\n",
    "for file in list_remote_act_files:\n",
    "    basename=os.path.basename(file)\n",
    "    sftp.get(file,act_local_folder+basename)\n",
    "    i_counter+=1\n",
    "    if i_counter%10==1:\n",
    "        print('act: ',i_counter,datetime.datetime.now())\n",
    "        \n",
    "sftp.close()\n",
    "transport.close()\n",
    "\n",
    "print(\"all done\", datetime.datetime.now())"
   ]
  },
  {
   "cell_type": "code",
   "execution_count": null,
   "metadata": {},
   "outputs": [],
   "source": []
  }
 ],
 "metadata": {
  "kernelspec": {
   "display_name": "Python 3",
   "language": "python",
   "name": "python3"
  },
  "language_info": {
   "codemirror_mode": {
    "name": "ipython",
    "version": 3
   },
   "file_extension": ".py",
   "mimetype": "text/x-python",
   "name": "python",
   "nbconvert_exporter": "python",
   "pygments_lexer": "ipython3",
   "version": "3.6.1"
  }
 },
 "nbformat": 4,
 "nbformat_minor": 2
}
