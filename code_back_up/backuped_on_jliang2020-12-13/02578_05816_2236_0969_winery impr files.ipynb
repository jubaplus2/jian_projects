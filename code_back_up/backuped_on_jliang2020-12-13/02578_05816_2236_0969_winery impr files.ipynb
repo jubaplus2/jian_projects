{
 "cells": [
  {
   "cell_type": "code",
   "execution_count": 1,
   "metadata": {
    "collapsed": true
   },
   "outputs": [],
   "source": [
    "import pandas as pd\n",
    "pd.options.display.max_rows=6\n",
    "\n",
    "import sys\n",
    "import json\n",
    "import datetime\n",
    "import glob\n",
    "\n",
    "#import logging\n",
    "#logging.basicConfig(filename='impr_files.log', \n",
    "#                    level=logging.INFO, \n",
    "#                    format='%(asctime)s %(message)s')"
   ]
  },
  {
   "cell_type": "code",
   "execution_count": 2,
   "metadata": {
    "collapsed": true
   },
   "outputs": [],
   "source": [
    "columns_impr = ['Campaign ID', 'Ad ID', 'Browser/Platform ID', 'City ID', \n",
    "                'State/Region', 'Designated Market Area (DMA) ID', 'Event Time',\n",
    "                'Operating System ID', 'Placement ID', 'Rendering ID', \n",
    "                'DBM Site ID', 'DBM Line Item ID', 'DBM Billable Cost (USD)',\n",
    "                'DBM Media Cost (USD)', 'DBM Total Media Cost (USD)', 'DBM Revenue (USD)']"
   ]
  },
  {
   "cell_type": "code",
   "execution_count": 3,
   "metadata": {
    "collapsed": true,
    "scrolled": true
   },
   "outputs": [],
   "source": [
    "df = pd.read_csv('/home/jubauser1/jzou/dcm_account7252/winery_weekly/impr/impression_winery_2017032116_to_2017070510.csv',\n",
    "                 usecols=columns_impr)"
   ]
  },
  {
   "cell_type": "code",
   "execution_count": 4,
   "metadata": {},
   "outputs": [
    {
     "data": {
      "text/plain": [
       "Index(['Event Time', 'Campaign ID', 'Ad ID', 'Rendering ID', 'Placement ID',\n",
       "       'State/Region', 'Browser/Platform ID', 'Operating System ID',\n",
       "       'Designated Market Area (DMA) ID', 'City ID', 'DBM Line Item ID',\n",
       "       'DBM Site ID', 'DBM Media Cost (USD)', 'DBM Revenue (USD)',\n",
       "       'DBM Total Media Cost (USD)', 'DBM Billable Cost (USD)'],\n",
       "      dtype='object')"
      ]
     },
     "execution_count": 4,
     "metadata": {},
     "output_type": "execute_result"
    }
   ],
   "source": [
    "df.columns"
   ]
  },
  {
   "cell_type": "code",
   "execution_count": 5,
   "metadata": {},
   "outputs": [
    {
     "data": {
      "text/plain": [
       "0          NaN\n",
       "1          NaN\n",
       "2          NaN\n",
       "            ..\n",
       "12307366   NaN\n",
       "12307367   NaN\n",
       "12307368   NaN\n",
       "Name: DBM Site ID, Length: 12307369, dtype: float64"
      ]
     },
     "execution_count": 5,
     "metadata": {},
     "output_type": "execute_result"
    }
   ],
   "source": [
    "df['DBM Site ID']"
   ]
  },
  {
   "cell_type": "code",
   "execution_count": null,
   "metadata": {
    "collapsed": true
   },
   "outputs": [],
   "source": [
    "'/home/jubauser1/jzou/dcm_account7252/winery_weekly/impr_json/'"
   ]
  },
  {
   "cell_type": "code",
   "execution_count": 6,
   "metadata": {
    "collapsed": true
   },
   "outputs": [],
   "source": [
    "df.to_csv('/home/jubauser1/jzou/dcm_account7252/winery_weekly/impr/impression_winery_reduced_2017032116_to_2017070510.csv', index=False)"
   ]
  },
  {
   "cell_type": "code",
   "execution_count": null,
   "metadata": {
    "collapsed": true
   },
   "outputs": [],
   "source": [
    "df2 = df[columns_impr].copy()\n",
    "sys.getsizeof(df2)"
   ]
  },
  {
   "cell_type": "code",
   "execution_count": 4,
   "metadata": {
    "collapsed": true
   },
   "outputs": [],
   "source": [
    "df = pd.read_csv('/home/jubauser1/jzou/dcm_account7252/winery_weekly/impr/impression_winery_2017032116_to_2017070510.csv',\n",
    "                  usecols=columns_impr)"
   ]
  },
  {
   "cell_type": "code",
   "execution_count": 6,
   "metadata": {},
   "outputs": [
    {
     "data": {
      "text/plain": [
       "1499256575298477"
      ]
     },
     "execution_count": 6,
     "metadata": {},
     "output_type": "execute_result"
    }
   ],
   "source": [
    "df['Event Time'].max()"
   ]
  },
  {
   "cell_type": "code",
   "execution_count": 7,
   "metadata": {},
   "outputs": [
    {
     "data": {
      "text/plain": [
       "1496401589539630"
      ]
     },
     "execution_count": 7,
     "metadata": {},
     "output_type": "execute_result"
    }
   ],
   "source": [
    "df['Event Time'].min()"
   ]
  },
  {
   "cell_type": "code",
   "execution_count": 8,
   "metadata": {},
   "outputs": [
    {
     "data": {
      "text/plain": [
       "datetime.datetime(2017, 6, 2, 7, 6, 29, 539630)"
      ]
     },
     "execution_count": 8,
     "metadata": {},
     "output_type": "execute_result"
    }
   ],
   "source": [
    "datetime.datetime.fromtimestamp(1496401589539630/1000000)"
   ]
  },
  {
   "cell_type": "code",
   "execution_count": null,
   "metadata": {},
   "outputs": [
    {
     "name": "stderr",
     "output_type": "stream",
     "text": [
      "/usr/local/lib/python3.6/site-packages/IPython/core/interactiveshell.py:2683: DtypeWarning: Columns (17) have mixed types. Specify dtype option on import or set low_memory=False.\n",
      "  interactivity=interactivity, compiler=compiler, result=result)\n"
     ]
    }
   ],
   "source": [
    "impr_sample = pd.read_csv('/home/jubauser1/jzou/dcm_account7252/impression/dcm_account7252_impression_2017070511_20170705_134246_580056906.csv.gz')"
   ]
  },
  {
   "cell_type": "code",
   "execution_count": 19,
   "metadata": {},
   "outputs": [
    {
     "data": {
      "text/plain": [
       "datetime.datetime(2017, 7, 5, 8, 13, 16, 584224)"
      ]
     },
     "execution_count": 19,
     "metadata": {},
     "output_type": "execute_result"
    }
   ],
   "source": [
    "datetime.datetime.fromtimestamp(impr_sample['Event Time'].max()/1000000)"
   ]
  },
  {
   "cell_type": "code",
   "execution_count": null,
   "metadata": {
    "collapsed": true
   },
   "outputs": [],
   "source": [
    "set(df['DBM Line Item ID'])"
   ]
  },
  {
   "cell_type": "code",
   "execution_count": null,
   "metadata": {
    "collapsed": true
   },
   "outputs": [],
   "source": [
    "set(df['DBM Site ID'])"
   ]
  },
  {
   "cell_type": "code",
   "execution_count": null,
   "metadata": {
    "collapsed": true
   },
   "outputs": [],
   "source": [
    "set(impr_sample['DBM Line Item ID'])"
   ]
  },
  {
   "cell_type": "code",
   "execution_count": null,
   "metadata": {
    "collapsed": true
   },
   "outputs": [],
   "source": [
    "set(impr_sample['DBM Site ID'])"
   ]
  },
  {
   "cell_type": "code",
   "execution_count": null,
   "metadata": {
    "collapsed": true
   },
   "outputs": [],
   "source": [
    "df"
   ]
  },
  {
   "cell_type": "code",
   "execution_count": null,
   "metadata": {
    "collapsed": true
   },
   "outputs": [],
   "source": [
    "df2.to_csv('/home/jubauser1/jzou/dcm_account7252/results/impression_winery_reduced2.csv', index=False)"
   ]
  },
  {
   "cell_type": "code",
   "execution_count": null,
   "metadata": {
    "collapsed": true
   },
   "outputs": [],
   "source": [
    "sys.getsizeof(df2)"
   ]
  },
  {
   "cell_type": "code",
   "execution_count": null,
   "metadata": {
    "collapsed": true
   },
   "outputs": [],
   "source": [
    "processed_impr_files = json.load(open('/home/jubauser1/jzou/dcm_account7252/scripts/winery/processed_impr_files.json', 'r'))"
   ]
  },
  {
   "cell_type": "code",
   "execution_count": null,
   "metadata": {
    "collapsed": true
   },
   "outputs": [],
   "source": [
    "len(processed_impr_files)"
   ]
  },
  {
   "cell_type": "code",
   "execution_count": null,
   "metadata": {
    "collapsed": true
   },
   "outputs": [],
   "source": [
    "files = glob.glob('/home/jubauser1/jzou/dcm_account7252/impression/*')\n",
    "#files = [x for x in files if x not in processed_impr_files]\n",
    "files = [x for x in files if x < '/home/jubauser1/jzou/dcm_account7252/impression/dcm_account7252_impression_2017070511']\n",
    "files.sort()"
   ]
  },
  {
   "cell_type": "code",
   "execution_count": null,
   "metadata": {
    "collapsed": true
   },
   "outputs": [],
   "source": [
    "files[-1][75:85]"
   ]
  },
  {
   "cell_type": "code",
   "execution_count": 22,
   "metadata": {
    "collapsed": true
   },
   "outputs": [],
   "source": [
    "json.dump(files, open('/home/jubauser1/jzou/dcm_account7252/scripts/winery/processed_impr_files_weekly.json', 'w'))"
   ]
  },
  {
   "cell_type": "code",
   "execution_count": null,
   "metadata": {
    "collapsed": true
   },
   "outputs": [],
   "source": [
    "try:\n",
    "    impression = pd.read_csv('/home/jubauser1/jzou/dcm_account7252/results/impression_winery.csv')\n",
    "except FileNotFoundError: \n",
    "    impression = pd.DataFrame()\n",
    "\n",
    "for f in files[:240]:\n",
    "    try:\n",
    "        df = pd.read_csv(gzip.open(f, 'rb'))\n",
    "        df = df[(df['Campaign ID'] == 11527750)]\n",
    "        impression = impression.append(df, ignore_index=True)\n",
    "        del df\n",
    "        logging.info(f)\n",
    "        processed_impr_files.append(f)\n",
    "    except Exception as e:\n",
    "        logging.warning('file: %s, exception: %s'%(f, e))\n",
    "        pass\n",
    "\n",
    "impression.to_csv('/home/jubauser1/jzou/dcm_account7252/results/impression_winery.csv', index=False)\n",
    "json.dump(processed_impr_files, open('processed_impr_files.json', 'w'))"
   ]
  },
  {
   "cell_type": "markdown",
   "metadata": {},
   "source": [
    "# match tables"
   ]
  },
  {
   "cell_type": "code",
   "execution_count": 42,
   "metadata": {
    "collapsed": true
   },
   "outputs": [],
   "source": [
    "dbmsites = pd.read_csv('/home/jubauser1/jzou/dcm_account7252/winery_weekly/static_match_tables/7252_ffch_match_table_dbm_site_20170831_131239_603856521.csv', \n",
    "                       header=8)"
   ]
  },
  {
   "cell_type": "code",
   "execution_count": 44,
   "metadata": {
    "collapsed": true
   },
   "outputs": [],
   "source": [
    "dbmsites.drop(dbmsites.index[-1],inplace=True)"
   ]
  },
  {
   "cell_type": "code",
   "execution_count": 46,
   "metadata": {
    "collapsed": true
   },
   "outputs": [],
   "source": [
    "dbmsites[['DBM Site', 'DBM Site ID']].to_csv('/home/jubauser1/jzou/dcm_account7252/winery_weekly/static_match_tables/match_table_dbm_site.csv', \n",
    "                                             index=False)"
   ]
  },
  {
   "cell_type": "code",
   "execution_count": 47,
   "metadata": {
    "collapsed": true
   },
   "outputs": [],
   "source": [
    "dbmlineitems = pd.read_csv('/home/jubauser1/jzou/dcm_account7252/winery_weekly/static_match_tables/7252_ffc_match_table_dbm_line_item.csv', \n",
    "                       header=0)"
   ]
  },
  {
   "cell_type": "code",
   "execution_count": 53,
   "metadata": {
    "collapsed": true
   },
   "outputs": [],
   "source": [
    "dbmlineitems = dbmlineitems[dbmlineitems['Line Item ID'].notnull()]"
   ]
  },
  {
   "cell_type": "code",
   "execution_count": 55,
   "metadata": {},
   "outputs": [
    {
     "name": "stderr",
     "output_type": "stream",
     "text": [
      "/usr/local/lib/python3.6/site-packages/ipykernel_launcher.py:1: SettingWithCopyWarning: \n",
      "A value is trying to be set on a copy of a slice from a DataFrame.\n",
      "Try using .loc[row_indexer,col_indexer] = value instead\n",
      "\n",
      "See the caveats in the documentation: http://pandas.pydata.org/pandas-docs/stable/indexing.html#indexing-view-versus-copy\n",
      "  \"\"\"Entry point for launching an IPython kernel.\n"
     ]
    }
   ],
   "source": [
    "dbmlineitems['Line Item ID'] = dbmlineitems['Line Item ID'].astype(int)"
   ]
  },
  {
   "cell_type": "code",
   "execution_count": 56,
   "metadata": {},
   "outputs": [
    {
     "data": {
      "text/html": [
       "<div>\n",
       "<style>\n",
       "    .dataframe thead tr:only-child th {\n",
       "        text-align: right;\n",
       "    }\n",
       "\n",
       "    .dataframe thead th {\n",
       "        text-align: left;\n",
       "    }\n",
       "\n",
       "    .dataframe tbody tr th {\n",
       "        vertical-align: top;\n",
       "    }\n",
       "</style>\n",
       "<table border=\"1\" class=\"dataframe\">\n",
       "  <thead>\n",
       "    <tr style=\"text-align: right;\">\n",
       "      <th></th>\n",
       "      <th>Advertiser</th>\n",
       "      <th>Advertiser ID</th>\n",
       "      <th>Advertiser Status</th>\n",
       "      <th>Advertiser Integration Code</th>\n",
       "      <th>Line Item</th>\n",
       "      <th>Line Item ID</th>\n",
       "      <th>Line Item Status</th>\n",
       "      <th>Line Item Integration Code</th>\n",
       "      <th>Targeted Data Providers</th>\n",
       "      <th>Advertiser Currency</th>\n",
       "      <th>Media Cost (Advertiser Currency)</th>\n",
       "    </tr>\n",
       "  </thead>\n",
       "  <tbody>\n",
       "    <tr>\n",
       "      <th>0</th>\n",
       "      <td>Mediastorm - Francis Ford Coppola</td>\n",
       "      <td>1789631</td>\n",
       "      <td>Active</td>\n",
       "      <td>NaN</td>\n",
       "      <td>California Diamond Retargeting Su-W</td>\n",
       "      <td>12294392</td>\n",
       "      <td>Active</td>\n",
       "      <td>NaN</td>\n",
       "      <td>NaN</td>\n",
       "      <td>USD</td>\n",
       "      <td>1359.187653</td>\n",
       "    </tr>\n",
       "    <tr>\n",
       "      <th>1</th>\n",
       "      <td>Mediastorm - Francis Ford Coppola</td>\n",
       "      <td>1789631</td>\n",
       "      <td>Active</td>\n",
       "      <td>NaN</td>\n",
       "      <td>Colorado Diamond Retargeting Su-W</td>\n",
       "      <td>12294393</td>\n",
       "      <td>Active</td>\n",
       "      <td>NaN</td>\n",
       "      <td>NaN</td>\n",
       "      <td>USD</td>\n",
       "      <td>52.485333</td>\n",
       "    </tr>\n",
       "    <tr>\n",
       "      <th>2</th>\n",
       "      <td>Mediastorm - Francis Ford Coppola</td>\n",
       "      <td>1789631</td>\n",
       "      <td>Active</td>\n",
       "      <td>NaN</td>\n",
       "      <td>Florida Diamond LAL Th-Sa</td>\n",
       "      <td>12273643</td>\n",
       "      <td>Paused</td>\n",
       "      <td>NaN</td>\n",
       "      <td>NaN</td>\n",
       "      <td>USD</td>\n",
       "      <td>617.360802</td>\n",
       "    </tr>\n",
       "    <tr>\n",
       "      <th>...</th>\n",
       "      <td>...</td>\n",
       "      <td>...</td>\n",
       "      <td>...</td>\n",
       "      <td>...</td>\n",
       "      <td>...</td>\n",
       "      <td>...</td>\n",
       "      <td>...</td>\n",
       "      <td>...</td>\n",
       "      <td>...</td>\n",
       "      <td>...</td>\n",
       "      <td>...</td>\n",
       "    </tr>\n",
       "    <tr>\n",
       "      <th>175</th>\n",
       "      <td>Mediastorm - Francis Ford Coppola</td>\n",
       "      <td>1789631</td>\n",
       "      <td>Active</td>\n",
       "      <td>NaN</td>\n",
       "      <td>Wine Lover Florida Su-T</td>\n",
       "      <td>12159825</td>\n",
       "      <td>Active</td>\n",
       "      <td>NaN</td>\n",
       "      <td>BlueKai eXelate Eyeota Navegg Acxiom</td>\n",
       "      <td>USD</td>\n",
       "      <td>1212.041108</td>\n",
       "    </tr>\n",
       "    <tr>\n",
       "      <th>176</th>\n",
       "      <td>Mediastorm - Francis Ford Coppola</td>\n",
       "      <td>1789631</td>\n",
       "      <td>Active</td>\n",
       "      <td>NaN</td>\n",
       "      <td>Wine Lover Michigan Su-T</td>\n",
       "      <td>12159828</td>\n",
       "      <td>Active</td>\n",
       "      <td>NaN</td>\n",
       "      <td>BlueKai Brilig eXelate CrossPixel Lotame Epsil...</td>\n",
       "      <td>USD</td>\n",
       "      <td>519.460797</td>\n",
       "    </tr>\n",
       "    <tr>\n",
       "      <th>177</th>\n",
       "      <td>Mediastorm - Francis Ford Coppola</td>\n",
       "      <td>1789631</td>\n",
       "      <td>Active</td>\n",
       "      <td>NaN</td>\n",
       "      <td>Wine Lover Ohio W-Sa</td>\n",
       "      <td>12273459</td>\n",
       "      <td>Active</td>\n",
       "      <td>NaN</td>\n",
       "      <td>BlueKai Brilig eXelate CrossPixel Lotame Epsil...</td>\n",
       "      <td>USD</td>\n",
       "      <td>198.396529</td>\n",
       "    </tr>\n",
       "  </tbody>\n",
       "</table>\n",
       "<p>178 rows × 11 columns</p>\n",
       "</div>"
      ],
      "text/plain": [
       "                            Advertiser Advertiser ID Advertiser Status  \\\n",
       "0    Mediastorm - Francis Ford Coppola       1789631            Active   \n",
       "1    Mediastorm - Francis Ford Coppola       1789631            Active   \n",
       "2    Mediastorm - Francis Ford Coppola       1789631            Active   \n",
       "..                                 ...           ...               ...   \n",
       "175  Mediastorm - Francis Ford Coppola       1789631            Active   \n",
       "176  Mediastorm - Francis Ford Coppola       1789631            Active   \n",
       "177  Mediastorm - Francis Ford Coppola       1789631            Active   \n",
       "\n",
       "     Advertiser Integration Code                            Line Item  \\\n",
       "0                            NaN  California Diamond Retargeting Su-W   \n",
       "1                            NaN    Colorado Diamond Retargeting Su-W   \n",
       "2                            NaN            Florida Diamond LAL Th-Sa   \n",
       "..                           ...                                  ...   \n",
       "175                          NaN              Wine Lover Florida Su-T   \n",
       "176                          NaN             Wine Lover Michigan Su-T   \n",
       "177                          NaN                 Wine Lover Ohio W-Sa   \n",
       "\n",
       "     Line Item ID Line Item Status  Line Item Integration Code  \\\n",
       "0        12294392           Active                         NaN   \n",
       "1        12294393           Active                         NaN   \n",
       "2        12273643           Paused                         NaN   \n",
       "..            ...              ...                         ...   \n",
       "175      12159825           Active                         NaN   \n",
       "176      12159828           Active                         NaN   \n",
       "177      12273459           Active                         NaN   \n",
       "\n",
       "                               Targeted Data Providers Advertiser Currency  \\\n",
       "0                                                  NaN                 USD   \n",
       "1                                                  NaN                 USD   \n",
       "2                                                  NaN                 USD   \n",
       "..                                                 ...                 ...   \n",
       "175               BlueKai eXelate Eyeota Navegg Acxiom                 USD   \n",
       "176  BlueKai Brilig eXelate CrossPixel Lotame Epsil...                 USD   \n",
       "177  BlueKai Brilig eXelate CrossPixel Lotame Epsil...                 USD   \n",
       "\n",
       "     Media Cost (Advertiser Currency)  \n",
       "0                         1359.187653  \n",
       "1                           52.485333  \n",
       "2                          617.360802  \n",
       "..                                ...  \n",
       "175                       1212.041108  \n",
       "176                        519.460797  \n",
       "177                        198.396529  \n",
       "\n",
       "[178 rows x 11 columns]"
      ]
     },
     "execution_count": 56,
     "metadata": {},
     "output_type": "execute_result"
    }
   ],
   "source": [
    "dbmlineitems"
   ]
  },
  {
   "cell_type": "code",
   "execution_count": 57,
   "metadata": {
    "collapsed": true
   },
   "outputs": [],
   "source": [
    "dbmlineitems[['Line Item', 'Line Item ID']].to_csv('/home/jubauser1/jzou/dcm_account7252/winery_weekly/static_match_tables/match_table_dbm_line_item.csv', index=False)"
   ]
  },
  {
   "cell_type": "code",
   "execution_count": 33,
   "metadata": {
    "collapsed": true
   },
   "outputs": [],
   "source": [
    "cpm = pd.read_csv('/home/jubauser1/jzou/dcm_account7252/winery_weekly/static_match_tables/7252_ffc_impression_cost_20170831_153146_603879924.csv',\n",
    "                  header=9)"
   ]
  },
  {
   "cell_type": "code",
   "execution_count": 34,
   "metadata": {
    "collapsed": true
   },
   "outputs": [],
   "source": [
    "cpm.drop(cpm.index[-1], inplace=True)"
   ]
  },
  {
   "cell_type": "code",
   "execution_count": 35,
   "metadata": {
    "collapsed": true
   },
   "outputs": [],
   "source": [
    "cpm['date'] = cpm['Date'].apply(lambda x:datetime.datetime.strptime(x, '%m/%d/%Y').strftime('%Y-%m-%d'))"
   ]
  },
  {
   "cell_type": "code",
   "execution_count": 36,
   "metadata": {
    "collapsed": true
   },
   "outputs": [],
   "source": [
    "cpm['cost_per_impr'] = cpm['DBM Cost (Account Currency)'] /cpm['Impressions']"
   ]
  },
  {
   "cell_type": "code",
   "execution_count": 37,
   "metadata": {},
   "outputs": [
    {
     "data": {
      "text/html": [
       "<div>\n",
       "<style>\n",
       "    .dataframe thead tr:only-child th {\n",
       "        text-align: right;\n",
       "    }\n",
       "\n",
       "    .dataframe thead th {\n",
       "        text-align: left;\n",
       "    }\n",
       "\n",
       "    .dataframe tbody tr th {\n",
       "        vertical-align: top;\n",
       "    }\n",
       "</style>\n",
       "<table border=\"1\" class=\"dataframe\">\n",
       "  <thead>\n",
       "    <tr style=\"text-align: right;\">\n",
       "      <th></th>\n",
       "      <th>Date</th>\n",
       "      <th>cost/imp</th>\n",
       "      <th>DBM Cost (Account Currency)</th>\n",
       "      <th>Impressions</th>\n",
       "      <th>date</th>\n",
       "      <th>cost_per_impr</th>\n",
       "    </tr>\n",
       "  </thead>\n",
       "  <tbody>\n",
       "    <tr>\n",
       "      <th>0</th>\n",
       "      <td>6/2/2017</td>\n",
       "      <td>$0.00</td>\n",
       "      <td>1087.48</td>\n",
       "      <td>1070769</td>\n",
       "      <td>2017-06-02</td>\n",
       "      <td>0.001016</td>\n",
       "    </tr>\n",
       "    <tr>\n",
       "      <th>1</th>\n",
       "      <td>6/3/2017</td>\n",
       "      <td>$0.00</td>\n",
       "      <td>1257.70</td>\n",
       "      <td>1083509</td>\n",
       "      <td>2017-06-03</td>\n",
       "      <td>0.001161</td>\n",
       "    </tr>\n",
       "    <tr>\n",
       "      <th>2</th>\n",
       "      <td>6/4/2017</td>\n",
       "      <td>$0.00</td>\n",
       "      <td>1258.87</td>\n",
       "      <td>1057959</td>\n",
       "      <td>2017-06-04</td>\n",
       "      <td>0.001190</td>\n",
       "    </tr>\n",
       "    <tr>\n",
       "      <th>...</th>\n",
       "      <td>...</td>\n",
       "      <td>...</td>\n",
       "      <td>...</td>\n",
       "      <td>...</td>\n",
       "      <td>...</td>\n",
       "      <td>...</td>\n",
       "    </tr>\n",
       "    <tr>\n",
       "      <th>53</th>\n",
       "      <td>7/25/2017</td>\n",
       "      <td>$0.00</td>\n",
       "      <td>589.98</td>\n",
       "      <td>736510</td>\n",
       "      <td>2017-07-25</td>\n",
       "      <td>0.000801</td>\n",
       "    </tr>\n",
       "    <tr>\n",
       "      <th>54</th>\n",
       "      <td>7/26/2017</td>\n",
       "      <td>$0.00</td>\n",
       "      <td>1594.11</td>\n",
       "      <td>861023</td>\n",
       "      <td>2017-07-26</td>\n",
       "      <td>0.001851</td>\n",
       "    </tr>\n",
       "    <tr>\n",
       "      <th>55</th>\n",
       "      <td>7/27/2017</td>\n",
       "      <td>$0.00</td>\n",
       "      <td>2066.18</td>\n",
       "      <td>896685</td>\n",
       "      <td>2017-07-27</td>\n",
       "      <td>0.002304</td>\n",
       "    </tr>\n",
       "  </tbody>\n",
       "</table>\n",
       "<p>56 rows × 6 columns</p>\n",
       "</div>"
      ],
      "text/plain": [
       "         Date cost/imp  DBM Cost (Account Currency)  Impressions        date  \\\n",
       "0    6/2/2017   $0.00                       1087.48      1070769  2017-06-02   \n",
       "1    6/3/2017   $0.00                       1257.70      1083509  2017-06-03   \n",
       "2    6/4/2017   $0.00                       1258.87      1057959  2017-06-04   \n",
       "..        ...      ...                          ...          ...         ...   \n",
       "53  7/25/2017   $0.00                        589.98       736510  2017-07-25   \n",
       "54  7/26/2017   $0.00                       1594.11       861023  2017-07-26   \n",
       "55  7/27/2017   $0.00                       2066.18       896685  2017-07-27   \n",
       "\n",
       "    cost_per_impr  \n",
       "0        0.001016  \n",
       "1        0.001161  \n",
       "2        0.001190  \n",
       "..            ...  \n",
       "53       0.000801  \n",
       "54       0.001851  \n",
       "55       0.002304  \n",
       "\n",
       "[56 rows x 6 columns]"
      ]
     },
     "execution_count": 37,
     "metadata": {},
     "output_type": "execute_result"
    }
   ],
   "source": [
    "cpm"
   ]
  },
  {
   "cell_type": "code",
   "execution_count": 38,
   "metadata": {
    "collapsed": true
   },
   "outputs": [],
   "source": [
    "cpm[['date', 'cost_per_impr']].to_csv('/home/jubauser1/jzou/dcm_account7252/winery_weekly/static_match_tables/cost_per_impr_by_date.csv',\n",
    "                                     index=False)"
   ]
  },
  {
   "cell_type": "markdown",
   "metadata": {},
   "source": [
    "# cum counts_by_placement_by_view_impr"
   ]
  },
  {
   "cell_type": "code",
   "execution_count": 60,
   "metadata": {
    "collapsed": true
   },
   "outputs": [],
   "source": [
    "import json"
   ]
  },
  {
   "cell_type": "code",
   "execution_count": 62,
   "metadata": {
    "collapsed": true
   },
   "outputs": [],
   "source": [
    "counts_by_placement_by_view_impr = json.load(\n",
    "    open('/home/jubauser1/jzou/dcm_account7252/results/winery_impr_backup/counts_by_placement_by_view_winery_impr.json', 'r'))"
   ]
  },
  {
   "cell_type": "code",
   "execution_count": 63,
   "metadata": {},
   "outputs": [
    {
     "data": {
      "text/plain": [
       "dict_keys(['direct', 'geo-fence', 'prospecting', 'retargeting'])"
      ]
     },
     "execution_count": 63,
     "metadata": {},
     "output_type": "execute_result"
    }
   ],
   "source": [
    "counts_by_placement_by_view_impr.keys()"
   ]
  },
  {
   "cell_type": "code",
   "execution_count": 64,
   "metadata": {},
   "outputs": [
    {
     "data": {
      "text/plain": [
       "dict_keys(['date', 'hour', 'weekday', 'state_city', 'Designated Market Area (DMA)', 'device', 'Browser/Platform', 'Site (DCM)', 'Placement', 'Ad', 'Ad Click URL', 'Creative', 'Creative Pixel Size'])"
      ]
     },
     "execution_count": 64,
     "metadata": {},
     "output_type": "execute_result"
    }
   ],
   "source": [
    "counts_by_placement_by_view_impr['direct'].keys()"
   ]
  },
  {
   "cell_type": "code",
   "execution_count": 100,
   "metadata": {},
   "outputs": [
    {
     "data": {
      "text/plain": [
       "3268479161000"
      ]
     },
     "execution_count": 100,
     "metadata": {},
     "output_type": "execute_result"
    }
   ],
   "source": [
    "counts_by_placement_by_view_impr['direct']['date']['cost']['2017-08-20'] + \\\n",
    "counts_by_placement_by_view_impr['geo-fence']['date']['cost']['2017-08-20'] + \\\n",
    "counts_by_placement_by_view_impr['prospecting']['date']['cost']['2017-08-20'] + \\\n",
    "counts_by_placement_by_view_impr['retargeting']['date']['cost']['2017-08-20']"
   ]
  },
  {
   "cell_type": "code",
   "execution_count": 87,
   "metadata": {},
   "outputs": [
    {
     "data": {
      "text/plain": [
       "507936286000"
      ]
     },
     "execution_count": 87,
     "metadata": {},
     "output_type": "execute_result"
    }
   ],
   "source": [
    "80955934000+426980352000"
   ]
  },
  {
   "cell_type": "code",
   "execution_count": 66,
   "metadata": {
    "collapsed": true
   },
   "outputs": [],
   "source": [
    "from collections import Counter"
   ]
  },
  {
   "cell_type": "code",
   "execution_count": 67,
   "metadata": {},
   "outputs": [
    {
     "data": {
      "text/plain": [
       "Counter({'cost': {'friday': 0,\n",
       "          'monday': 0,\n",
       "          'saturday': 0,\n",
       "          'sunday': 0,\n",
       "          'thursday': 0,\n",
       "          'tuesday': 0,\n",
       "          'wednesday': 0},\n",
       "         'counts': {'friday': 4497911,\n",
       "          'monday': 4265794,\n",
       "          'saturday': 4462652,\n",
       "          'sunday': 4468847,\n",
       "          'thursday': 5168168,\n",
       "          'tuesday': 5282955,\n",
       "          'wednesday': 4278260},\n",
       "         'revenue': {'friday': 0,\n",
       "          'monday': 0,\n",
       "          'saturday': 0,\n",
       "          'sunday': 0,\n",
       "          'thursday': 0,\n",
       "          'tuesday': 0,\n",
       "          'wednesday': 0}})"
      ]
     },
     "execution_count": 67,
     "metadata": {},
     "output_type": "execute_result"
    }
   ],
   "source": [
    "Counter({'cost': {'friday': 0,\n",
    "  'monday': 0,\n",
    "  'saturday': 0,\n",
    "  'sunday': 0,\n",
    "  'thursday': 0,\n",
    "  'tuesday': 0,\n",
    "  'wednesday': 0},\n",
    " 'counts': {'friday': 4497911,\n",
    "  'monday': 4265794,\n",
    "  'saturday': 4462652,\n",
    "  'sunday': 4468847,\n",
    "  'thursday': 5168168,\n",
    "  'tuesday': 5282955,\n",
    "  'wednesday': 4278260},\n",
    " 'revenue': {'friday': 0,\n",
    "  'monday': 0,\n",
    "  'saturday': 0,\n",
    "  'sunday': 0,\n",
    "  'thursday': 0,\n",
    "  'tuesday': 0,\n",
    "  'wednesday': 0}})"
   ]
  },
  {
   "cell_type": "code",
   "execution_count": 68,
   "metadata": {
    "collapsed": true
   },
   "outputs": [],
   "source": [
    "d1 = {'cost': {'friday': 0,\n",
    "  'monday': 0,\n",
    "  'saturday': 0,\n",
    "  'sunday': 0,\n",
    "  'thursday': 0,\n",
    "  'tuesday': 0,\n",
    "  'wednesday': 0},\n",
    " 'counts': {'friday': 4497911,\n",
    "  'monday': 4265794,\n",
    "  'saturday': 4462652,\n",
    "  'sunday': 4468847,\n",
    "  'thursday': 5168168,\n",
    "  'tuesday': 5282955,\n",
    "  'wednesday': 4278260},\n",
    " 'revenue': {'friday': 0,\n",
    "  'monday': 0,\n",
    "  'saturday': 0,\n",
    "  'sunday': 0,\n",
    "  'thursday': 0,\n",
    "  'tuesday': 0,\n",
    "  'wednesday': 0}}\n",
    "\n",
    "d2 = {'cost': {'friday': 1,\n",
    "  'monday': 2,\n",
    "  'saturday': 3,\n",
    "  'sunday': 4,\n",
    "  'thursday': 5,\n",
    "  'tuesday': 6,\n",
    "  'wednesday': 7},\n",
    " 'counts': {'friday': 4497911,\n",
    "  'monday': 4265794,\n",
    "  'saturday': 4462652,\n",
    "  'sunday': 4468847,\n",
    "  'thursday': 5168168,\n",
    "  'tuesday': 5282955,\n",
    "  'wednesday': 4278260},\n",
    " 'revenue': {'friday': 0,\n",
    "  'monday': 0,\n",
    "  'saturday': 0,\n",
    "  'sunday': 0,\n",
    "  'thursday': 0,\n",
    "  'tuesday': 0,\n",
    "  'wednesday': 0}}"
   ]
  },
  {
   "cell_type": "code",
   "execution_count": 71,
   "metadata": {},
   "outputs": [
    {
     "data": {
      "text/plain": [
       "Counter({'friday': 1,\n",
       "         'monday': 2,\n",
       "         'saturday': 3,\n",
       "         'sunday': 4,\n",
       "         'thursday': 5,\n",
       "         'tuesday': 6,\n",
       "         'wednesday': 7})"
      ]
     },
     "execution_count": 71,
     "metadata": {},
     "output_type": "execute_result"
    },
    {
     "name": "stdout",
     "output_type": "stream",
     "text": [
      "The history saving thread hit an unexpected error (OperationalError('database is locked',)).History will not be written to the database.\n"
     ]
    }
   ],
   "source": [
    "Counter(d1['cost']) + Counter(d2['cost'])"
   ]
  },
  {
   "cell_type": "code",
   "execution_count": 77,
   "metadata": {},
   "outputs": [
    {
     "data": {
      "text/plain": [
       "56"
      ]
     },
     "execution_count": 77,
     "metadata": {},
     "output_type": "execute_result"
    }
   ],
   "source": [
    "len(cpm)"
   ]
  },
  {
   "cell_type": "code",
   "execution_count": null,
   "metadata": {
    "collapsed": true
   },
   "outputs": [],
   "source": []
  }
 ],
 "metadata": {
  "kernelspec": {
   "display_name": "Python 3",
   "language": "python",
   "name": "python3"
  },
  "language_info": {
   "codemirror_mode": {
    "name": "ipython",
    "version": 3
   },
   "file_extension": ".py",
   "mimetype": "text/x-python",
   "name": "python",
   "nbconvert_exporter": "python",
   "pygments_lexer": "ipython3",
   "version": "3.6.1"
  }
 },
 "nbformat": 4,
 "nbformat_minor": 2
}
