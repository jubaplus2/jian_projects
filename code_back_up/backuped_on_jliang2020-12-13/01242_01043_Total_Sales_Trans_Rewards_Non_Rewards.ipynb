{
 "cells": [
  {
   "cell_type": "code",
   "execution_count": 1,
   "metadata": {},
   "outputs": [
    {
     "data": {
      "text/plain": [
       "'/home/jian/Projects/Big_Lots/Analysis/2019_Q2/Post_YoY'"
      ]
     },
     "execution_count": 1,
     "metadata": {},
     "output_type": "execute_result"
    }
   ],
   "source": [
    "import os\n",
    "import pandas as pd\n",
    "import numpy as np\n",
    "import datetime\n",
    "\n",
    "def recursive_file_gen(my_root_dir):\n",
    "    for root, dirs, files in os.walk(my_root_dir):\n",
    "        for file in files:\n",
    "            yield os.path.join(root, file)\n",
    "            \n",
    "os.getcwd()\n"
   ]
  },
  {
   "cell_type": "code",
   "execution_count": 2,
   "metadata": {},
   "outputs": [
    {
     "name": "stdout",
     "output_type": "stream",
     "text": [
      "13\n"
     ]
    },
    {
     "data": {
      "text/plain": [
       "['/home/jian/BigLots/2019_by_weeks/MediaStorm_2019-05-11/MediaStormDailySales20190514-121223-405.txt',\n",
       " '/home/jian/BigLots/2019_by_weeks/MediaStorm_2019-05-18/MediaStormDailySales20190521-111232-391.txt',\n",
       " '/home/jian/BigLots/2019_by_weeks/MediaStorm_2019-05-25/MediaStormDailySales20190528-111211-863.txt',\n",
       " '/home/jian/BigLots/2019_by_weeks/MediaStorm_2019-06-01/MediaStormDailySales20190604-111936-950.txt',\n",
       " '/home/jian/BigLots/2019_by_weeks/MediaStorm_2019-06-08/MediaStormDailySales20190611-122013-442.txt',\n",
       " '/home/jian/BigLots/2019_by_weeks/MediaStorm_2019-06-15/MediaStormDailySales20190618-112500-846.txt',\n",
       " '/home/jian/BigLots/2019_by_weeks/MediaStorm_2019-06-22/MediaStormDailySales20190625-111927-257.txt',\n",
       " '/home/jian/BigLots/2019_by_weeks/MediaStorm_2019-06-29/MediaStormDailySales20190702-113523-928.txt',\n",
       " '/home/jian/BigLots/2019_by_weeks/MediaStorm_2019-07-06/MediaStormDailySales20190709-115715-409.txt',\n",
       " '/home/jian/BigLots/2019_by_weeks/MediaStorm_2019-07-13/MediaStormDailySales20190716-122903-926.txt',\n",
       " '/home/jian/BigLots/2019_by_weeks/MediaStorm_2019-07-20/MediaStormDailySales20190723-112837-593.txt',\n",
       " '/home/jian/BigLots/2019_by_weeks/MediaStorm_2019-07-27/MediaStormDailySales20190730-113653-224.txt',\n",
       " '/home/jian/BigLots/2019_by_weeks/MediaStorm_2019-08-03/MediaStormDailySales20190806-113917-862.txt']"
      ]
     },
     "execution_count": 2,
     "metadata": {},
     "output_type": "execute_result"
    }
   ],
   "source": [
    "weeks_2019Q2=[datetime.date(2019,5,11)+datetime.timedelta(days=x*7) for x in range(13)]\n",
    "\n",
    "folder_2019_by_week=\"/home/jian/BigLots/2019_by_weeks/\"\n",
    "\n",
    "Q2_files_2019_all_types=list(recursive_file_gen(folder_2019_by_week))\n",
    "Q2_files_2019_all_types=[x for x in Q2_files_2019_all_types if \"aily\" in x]\n",
    "Q2_files_2019=[]\n",
    "for week_end_date in weeks_2019Q2:\n",
    "    file_path=[x for x in Q2_files_2019_all_types if str(week_end_date) in x]\n",
    "    Q2_files_2019=Q2_files_2019+file_path\n",
    "    \n",
    "print(len(Q2_files_2019))\n",
    "Q2_files_2019=sorted(Q2_files_2019)\n",
    "Q2_files_2019"
   ]
  },
  {
   "cell_type": "code",
   "execution_count": 3,
   "metadata": {},
   "outputs": [],
   "source": [
    "df_outptu_by_store_week=pd.DataFrame()\n",
    "for file in Q2_files_2019:\n",
    "    week_end_dt=file.split(\"by_weeks/MediaStorm_\")[1][:10]\n",
    "    df=pd.read_table(file,sep=\"|\",dtype=str,usecols=[\"location_id\",\"transaction_dt\",'transaction_id','customer_id_hashed','item_transaction_amt'])\n",
    "    df['item_transaction_amt']=df['item_transaction_amt'].astype(float)\n",
    "    \n",
    "    df_rewards=df[pd.notnull(df['customer_id_hashed'])]\n",
    "    df_nonrewards=df[pd.isnull(df['customer_id_hashed'])]\n",
    "    \n",
    "    df_rewards_sales=df_rewards.groupby([\"location_id\"])['item_transaction_amt'].sum().to_frame().reset_index().rename(columns={\"item_transaction_amt\":\"rewards_sales\"})\n",
    "    df_nonrewards_sales=df_nonrewards.groupby([\"location_id\"])['item_transaction_amt'].sum().reset_index().rename(columns={\"item_transaction_amt\":\"non_rewards_sales\"})\n",
    "    \n",
    "    df_rewards_trans=df_rewards[[\"location_id\",\"transaction_dt\",'transaction_id','customer_id_hashed']].drop_duplicates()\n",
    "    df_rewards_trans=df_rewards_trans.groupby(\"location_id\")['transaction_id'].count().to_frame().reset_index().rename(columns={\"transaction_id\":\"rewards_trans\"})\n",
    "    \n",
    "    df_nonrewards_trans=df_nonrewards[[\"location_id\",\"transaction_dt\",'transaction_id']].drop_duplicates()\n",
    "    df_nonrewards_trans=df_nonrewards_trans.groupby(\"location_id\")['transaction_id'].count().to_frame().reset_index().rename(columns={\"transaction_id\":\"non_rewards_trans\"})\n",
    "\n",
    "    df=pd.merge(df_rewards_sales,df_nonrewards_sales,on=\"location_id\",how=\"outer\")\n",
    "    df=pd.merge(df,df_rewards_trans,on=\"location_id\",how=\"outer\")\n",
    "    df=pd.merge(df,df_nonrewards_trans,on=\"location_id\",how=\"outer\")\n",
    "    df=df.fillna(0)\n",
    "    \n",
    "    df['week_end_dt']=week_end_dt\n",
    "    df_outptu_by_store_week=df_outptu_by_store_week.append(df)\n",
    "    \n",
    "df_outptu_by_store_week['Online/Instore']=np.where(df_outptu_by_store_week['location_id']==\"6990\",\"Online\",\"Instore\")"
   ]
  },
  {
   "cell_type": "code",
   "execution_count": 4,
   "metadata": {
    "collapsed": true
   },
   "outputs": [],
   "source": [
    "df_outptu_by_Type_week=df_outptu_by_store_week.groupby([\"week_end_dt\",'Online/Instore'])['rewards_sales','non_rewards_sales','rewards_trans','non_rewards_trans'].sum().reset_index()\n",
    "df_outptu_by_Type_week=df_outptu_by_Type_week.sort_values(['Online/Instore',\"week_end_dt\"])\n"
   ]
  },
  {
   "cell_type": "code",
   "execution_count": 5,
   "metadata": {
    "collapsed": true
   },
   "outputs": [],
   "source": [
    "writer=pd.ExcelWriter(\"./BL_2019Q2_sales_rewards_level_all_JL_\"+str(datetime.datetime.now().date())+\".xlsx\",engine=\"xlsxwriter\")\n",
    "df_outptu_by_Type_week.to_excel(writer,\"total_by_week_type\",index=False)\n",
    "df_outptu_by_store_week.to_excel(writer,\"total_by_store_week\",index=False)\n",
    "writer.save()"
   ]
  },
  {
   "cell_type": "code",
   "execution_count": 6,
   "metadata": {},
   "outputs": [
    {
     "data": {
      "text/plain": [
       "'/home/jian/Projects/Big_Lots/Analysis/2019_Q2/Post_YoY'"
      ]
     },
     "execution_count": 6,
     "metadata": {},
     "output_type": "execute_result"
    }
   ],
   "source": [
    "os.getcwd()"
   ]
  },
  {
   "cell_type": "code",
   "execution_count": null,
   "metadata": {
    "collapsed": true
   },
   "outputs": [],
   "source": []
  }
 ],
 "metadata": {
  "kernelspec": {
   "display_name": "Python 3",
   "language": "python",
   "name": "python3"
  },
  "language_info": {
   "codemirror_mode": {
    "name": "ipython",
    "version": 3
   },
   "file_extension": ".py",
   "mimetype": "text/x-python",
   "name": "python",
   "nbconvert_exporter": "python",
   "pygments_lexer": "ipython3",
   "version": "3.6.1"
  }
 },
 "nbformat": 4,
 "nbformat_minor": 2
}
