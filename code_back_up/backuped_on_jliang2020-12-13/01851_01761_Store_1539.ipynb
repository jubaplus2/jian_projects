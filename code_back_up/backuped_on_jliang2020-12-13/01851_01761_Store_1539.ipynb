{
 "cells": [
  {
   "cell_type": "code",
   "execution_count": 1,
   "metadata": {},
   "outputs": [
    {
     "data": {
      "text/plain": [
       "'/home/jian/Projects/Smoothie_King/zips_3_miles/SOTF/Store_1539_20190806'"
      ]
     },
     "execution_count": 1,
     "metadata": {},
     "output_type": "execute_result"
    }
   ],
   "source": [
    "from haversine import haversine\n",
    "import pandas as pd\n",
    "import numpy as np\n",
    "import json\n",
    "import os\n",
    "import datetime\n",
    "os.getcwd()"
   ]
  },
  {
   "cell_type": "code",
   "execution_count": 2,
   "metadata": {},
   "outputs": [
    {
     "data": {
      "text/html": [
       "<div>\n",
       "<style>\n",
       "    .dataframe thead tr:only-child th {\n",
       "        text-align: right;\n",
       "    }\n",
       "\n",
       "    .dataframe thead th {\n",
       "        text-align: left;\n",
       "    }\n",
       "\n",
       "    .dataframe tbody tr th {\n",
       "        vertical-align: top;\n",
       "    }\n",
       "</style>\n",
       "<table border=\"1\" class=\"dataframe\">\n",
       "  <thead>\n",
       "    <tr style=\"text-align: right;\">\n",
       "      <th></th>\n",
       "      <th>Google_address</th>\n",
       "      <th>Google_latitude</th>\n",
       "      <th>Google_longitude</th>\n",
       "      <th>location_id</th>\n",
       "    </tr>\n",
       "  </thead>\n",
       "  <tbody>\n",
       "    <tr>\n",
       "      <th>0</th>\n",
       "      <td>1501A Cornerside Blvd, Vienna, VA 22182</td>\n",
       "      <td>38.929553</td>\n",
       "      <td>-77.24454</td>\n",
       "      <td>1539</td>\n",
       "    </tr>\n",
       "  </tbody>\n",
       "</table>\n",
       "</div>"
      ],
      "text/plain": [
       "                            Google_address  Google_latitude  Google_longitude  \\\n",
       "0  1501A Cornerside Blvd, Vienna, VA 22182        38.929553         -77.24454   \n",
       "\n",
       "  location_id  \n",
       "0        1539  "
      ]
     },
     "execution_count": 2,
     "metadata": {},
     "output_type": "execute_result"
    }
   ],
   "source": [
    "# 1501A Cornerside Boulevard, Vienna, VA 22182\n",
    "\n",
    "df_output=pd.DataFrame({\"location_id\":\"1539\",\"Google_address\":\"1501A Cornerside Blvd, Vienna, VA 22182\",\"Google_latitude\":38.9295535,\"Google_longitude\":-77.2445396},index=[0])\n",
    "df_output"
   ]
  },
  {
   "cell_type": "code",
   "execution_count": 3,
   "metadata": {
    "collapsed": true
   },
   "outputs": [],
   "source": [
    "zip_centers=json.load(open(\"/home/jian/Docs/Geo_mapping/updated_zip_centers_JL_2019-05-23.json\",\"r\"))\n"
   ]
  },
  {
   "cell_type": "code",
   "execution_count": 4,
   "metadata": {
    "collapsed": true
   },
   "outputs": [],
   "source": [
    "df_zips_1539=pd.DataFrame(columns={\"location_id\",\"zip_cd\",\"dist_miles\"})\n",
    "for zip_cd in zip_centers.keys():\n",
    "    dist=haversine(zip_centers[zip_cd],[38.9295535,-77.2445396],miles=True)\n",
    "    if dist<=3:\n",
    "        df=pd.DataFrame({\"location_id\":\"1539\",\"zip_cd\":zip_cd,\"dist_miles\":dist},index=[0])\n",
    "        df_zips_1539=df_zips_1539.append(df)\n",
    "    "
   ]
  },
  {
   "cell_type": "code",
   "execution_count": 5,
   "metadata": {},
   "outputs": [],
   "source": [
    "df_output=pd.merge(df_output,df_zips_1539,on=\"location_id\",how=\"left\")"
   ]
  },
  {
   "cell_type": "code",
   "execution_count": 6,
   "metadata": {},
   "outputs": [],
   "source": [
    "df_output=df_output[['location_id','Google_address','Google_latitude','Google_longitude','zip_cd','dist_miles']]\n",
    "\n",
    "\n",
    "writer=pd.ExcelWriter(\"./SK_zips_for_store1539_JL_\"+str(datetime.datetime.now().date())+\".xlsx\",engine=\"xlsxwriter\")\n",
    "df_output.to_excel(writer,\"zip_in_3_miles\",index=False)\n",
    "writer.save()"
   ]
  },
  {
   "cell_type": "code",
   "execution_count": null,
   "metadata": {
    "collapsed": true
   },
   "outputs": [],
   "source": []
  },
  {
   "cell_type": "code",
   "execution_count": null,
   "metadata": {
    "collapsed": true
   },
   "outputs": [],
   "source": []
  }
 ],
 "metadata": {
  "kernelspec": {
   "display_name": "Python 3",
   "language": "python",
   "name": "python3"
  },
  "language_info": {
   "codemirror_mode": {
    "name": "ipython",
    "version": 3
   },
   "file_extension": ".py",
   "mimetype": "text/x-python",
   "name": "python",
   "nbconvert_exporter": "python",
   "pygments_lexer": "ipython3",
   "version": "3.6.1"
  }
 },
 "nbformat": 4,
 "nbformat_minor": 2
}
