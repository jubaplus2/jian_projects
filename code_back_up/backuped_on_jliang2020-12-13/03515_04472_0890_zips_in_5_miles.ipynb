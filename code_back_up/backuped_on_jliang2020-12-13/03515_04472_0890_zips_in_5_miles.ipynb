{
 "cells": [
  {
   "cell_type": "code",
   "execution_count": 8,
   "metadata": {},
   "outputs": [
    {
     "data": {
      "text/plain": [
       "'/home/jian/Projects/Umpqua'"
      ]
     },
     "execution_count": 8,
     "metadata": {},
     "output_type": "execute_result"
    }
   ],
   "source": [
    "import pandas as pd\n",
    "from haversine import haversine\n",
    "import numpy as np\n",
    "import datetime\n",
    "import os\n",
    "import json\n",
    "os.getcwd()"
   ]
  },
  {
   "cell_type": "code",
   "execution_count": 9,
   "metadata": {},
   "outputs": [],
   "source": [
    "zip_centers=json.load(open(\"/home/jian/Docs/Geo_mapping/center_of_rentrak_zip.json\"))\n",
    "input_address=pd.read_excel(\"/home/jian/Projects/Umpqua/UMPQUA - All Locations.xlsx\",dtype=str)\n",
    "\n"
   ]
  },
  {
   "cell_type": "code",
   "execution_count": 11,
   "metadata": {},
   "outputs": [
    {
     "name": "stderr",
     "output_type": "stream",
     "text": [
      "/usr/local/lib/python3.6/site-packages/ipykernel_launcher.py:26: SettingWithCopyWarning: \n",
      "A value is trying to be set on a copy of a slice from a DataFrame\n",
      "\n",
      "See the caveats in the documentation: http://pandas.pydata.org/pandas-docs/stable/indexing.html#indexing-view-versus-copy\n",
      "/usr/local/lib/python3.6/site-packages/pandas/core/indexing.py:179: SettingWithCopyWarning: \n",
      "A value is trying to be set on a copy of a slice from a DataFrame\n",
      "\n",
      "See the caveats in the documentation: http://pandas.pydata.org/pandas-docs/stable/indexing.html#indexing-view-versus-copy\n",
      "  self._setitem_with_indexer(indexer, value)\n"
     ]
    }
   ],
   "source": [
    "input_address['zip_list_in_5_miles']=np.nan\n",
    "address_zips_long=pd.DataFrame()\n",
    "for i in range(len(input_address)):\n",
    "    store_zip_list=[input_address['Zip Code'][i].zfill(5)]\n",
    "    store_lat=float(input_address['Latitude'][i])\n",
    "    store_lng=float(input_address['Longitude'][i])\n",
    "    store_center=[store_lat,store_lng]\n",
    "    df_long_0=input_address.iloc[i,:].to_frame().T\n",
    "    df_long_0['zip_cd_5_miles']=input_address['Zip Code'][i]\n",
    "    df_long_0['distance']=\"Store_Zip\"\n",
    "    \n",
    "    \n",
    "    for zip_cd in zip_centers.keys():\n",
    "        dist=haversine(store_center,zip_centers[zip_cd],miles=True)\n",
    "        if dist<=5:\n",
    "            store_zip_list=store_zip_list+[zip_cd]\n",
    "            df_long=input_address.iloc[i,:].to_frame().T\n",
    "            df_long['zip_cd_5_miles']=zip_cd\n",
    "            df_long['distance']=dist\n",
    "            df_long_0=df_long_0.append(df_long)\n",
    "            \n",
    "            \n",
    "    address_zips_long=address_zips_long.append(df_long_0,ignore_index=True)\n",
    "    \n",
    "    store_zip_list=list(set(store_zip_list))\n",
    "    input_address['zip_list_in_5_miles'][i]=store_zip_list\n",
    "    \n",
    "    \n",
    "    "
   ]
  },
  {
   "cell_type": "code",
   "execution_count": 14,
   "metadata": {},
   "outputs": [],
   "source": [
    "writer=pd.ExcelWriter(\"/home/jian/Projects/Umpqua/Umpqua - All Locations with Zips_JL_\"+str(datetime.datetime.now().date())+\".xlsx\",engine=\"xlsxwriter\")\n",
    "input_address.to_excel(writer,\"address_with_zip_list\",index=False)\n",
    "address_zips_long.to_excel(writer,\"zips_in_5_miles\",index=False)\n",
    "writer.save()\n"
   ]
  },
  {
   "cell_type": "code",
   "execution_count": null,
   "metadata": {
    "collapsed": true
   },
   "outputs": [],
   "source": []
  }
 ],
 "metadata": {
  "kernelspec": {
   "display_name": "Python 3",
   "language": "python",
   "name": "python3"
  },
  "language_info": {
   "codemirror_mode": {
    "name": "ipython",
    "version": 3
   },
   "file_extension": ".py",
   "mimetype": "text/x-python",
   "name": "python",
   "nbconvert_exporter": "python",
   "pygments_lexer": "ipython3",
   "version": "3.6.1"
  }
 },
 "nbformat": 4,
 "nbformat_minor": 2
}
