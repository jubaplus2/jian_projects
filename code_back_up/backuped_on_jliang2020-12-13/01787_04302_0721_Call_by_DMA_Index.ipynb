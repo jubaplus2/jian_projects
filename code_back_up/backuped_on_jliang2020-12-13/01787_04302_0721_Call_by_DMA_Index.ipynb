{
 "cells": [
  {
   "cell_type": "code",
   "execution_count": 1,
   "metadata": {
    "collapsed": true
   },
   "outputs": [],
   "source": [
    "import pandas as pd"
   ]
  },
  {
   "cell_type": "code",
   "execution_count": 8,
   "metadata": {
    "collapsed": true
   },
   "outputs": [],
   "source": [
    "HH_by_Zip=pd.read_csv(\"/home/jian/Docs/EASI/2018-06-25/ZIP4_18_DATA_A2_CSV/Total_HH_POP_by_Zip_JL_20180723.csv\",dtype=str)\n",
    "HH_by_Zip['HH18']=HH_by_Zip['HH18'].astype(float)\n",
    "HH_by_Zip['POP18']=HH_by_Zip['POP18'].astype(float)\n",
    "HH_by_Zip=HH_by_Zip.rename(columns={\"ZIP_CODE\":\"zip_cd\"})\n",
    "\n",
    "zip_DMA=pd.read_excel(\"/home/jian/Docs/Geo_mapping/Zips by DMA by County16-17 nielsen.xlsx\",dtype=str,skiprows=1)\n",
    "zip_DMA=zip_DMA.iloc[:,[0,2]]\n",
    "zip_DMA.columns=['zip_cd',\"DMA\"]\n",
    "zip_DMA=zip_DMA.drop_duplicates(['zip_cd'])\n",
    "\n",
    "pop_DMA=pd.merge(HH_by_Zip,zip_DMA,on=\"zip_cd\",how=\"left\")\n",
    "pop_DMA=pop_DMA.groupby(['DMA'])['HH18','POP18'].sum().reset_index()"
   ]
  },
  {
   "cell_type": "code",
   "execution_count": 21,
   "metadata": {
    "collapsed": true
   },
   "outputs": [],
   "source": [
    "call_data_DMA=pd.read_excel(\"/home/jian/Projects/Saatva/Call_Analysis/output/2018-07-19/Output_5_DMA_of_Calls_2018-07-19.xlsx\",sheetname=\"transacted_phone_DMA_agg_both\")"
   ]
  },
  {
   "cell_type": "code",
   "execution_count": 25,
   "metadata": {},
   "outputs": [],
   "source": [
    "call_Pop_HH=pd.merge(call_data_DMA,pop_DMA,on=\"DMA\",how=\"left\")"
   ]
  },
  {
   "cell_type": "code",
   "execution_count": 30,
   "metadata": {},
   "outputs": [],
   "source": [
    "call_Pop_HH['Call_per_1MM_HH']=call_Pop_HH['Total_Transacted_Call_Count']/call_Pop_HH['HH18']*1000000\n",
    "call_Pop_HH['Buyer_per_1MM_HH']=call_Pop_HH['Buyer_Count']/call_Pop_HH['HH18']*1000000"
   ]
  },
  {
   "cell_type": "code",
   "execution_count": 33,
   "metadata": {},
   "outputs": [],
   "source": [
    "call_Pop_HH.to_csv(\"/home/jian/Projects/Saatva/Call_Analysis/output/2018-07-19/Saatva_DMA_Call_Index_JL_20180723.csv\",index=False)"
   ]
  },
  {
   "cell_type": "code",
   "execution_count": null,
   "metadata": {
    "collapsed": true
   },
   "outputs": [],
   "source": []
  }
 ],
 "metadata": {
  "kernelspec": {
   "display_name": "Python 3",
   "language": "python",
   "name": "python3"
  },
  "language_info": {
   "codemirror_mode": {
    "name": "ipython",
    "version": 3
   },
   "file_extension": ".py",
   "mimetype": "text/x-python",
   "name": "python",
   "nbconvert_exporter": "python",
   "pygments_lexer": "ipython3",
   "version": "3.6.1"
  }
 },
 "nbformat": 4,
 "nbformat_minor": 2
}
