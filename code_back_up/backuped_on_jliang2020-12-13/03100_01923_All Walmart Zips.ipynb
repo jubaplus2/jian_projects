{
 "cells": [
  {
   "cell_type": "code",
   "execution_count": 17,
   "metadata": {
    "collapsed": true
   },
   "outputs": [],
   "source": [
    "import pandas as pd\n",
    "import numpy as np"
   ]
  },
  {
   "cell_type": "code",
   "execution_count": 18,
   "metadata": {
    "collapsed": true
   },
   "outputs": [],
   "source": [
    "Walmart_Zips=pd.read_csv(\"/home/jian/SunnyD/Otherinput/walmart_stores_with_zip.csv\")\n",
    "Walmart_Zips=Walmart_Zips[pd.notnull(Walmart_Zips['zip within 5 miles'])]"
   ]
  },
  {
   "cell_type": "code",
   "execution_count": 19,
   "metadata": {
    "collapsed": true
   },
   "outputs": [],
   "source": [
    "Walmart_Zips['zip within 5 miles']=Walmart_Zips['zip within 5 miles'].apply(lambda x: x.replace(\"[\",\"\"))\n",
    "Walmart_Zips['zip within 5 miles']=Walmart_Zips['zip within 5 miles'].apply(lambda x: x.replace(\"]\",\"\"))\n",
    "Walmart_Zips['zip within 5 miles']=Walmart_Zips['zip within 5 miles'].apply(lambda x: x.replace(\"u\",\"\"))\n",
    "Walmart_Zips['zip code']=Walmart_Zips['zip code'].astype(int)"
   ]
  },
  {
   "cell_type": "code",
   "execution_count": 20,
   "metadata": {
    "collapsed": true
   },
   "outputs": [],
   "source": [
    "all_zips_in_IRI=pd.read_excel(\"/home/jian/SunnyD/Otherinput/All_IRI_Mkt_with_Zips.xlsx\")"
   ]
  },
  {
   "cell_type": "code",
   "execution_count": 21,
   "metadata": {
    "collapsed": true
   },
   "outputs": [],
   "source": [
    "Walmart_Zips_In_Selected_MKTs=Walmart_Zips\n",
    "Walmart_Zips_In_Selected_MKTs.reset_index(inplace=True)\n",
    "del Walmart_Zips_In_Selected_MKTs['index']"
   ]
  },
  {
   "cell_type": "code",
   "execution_count": 22,
   "metadata": {
    "collapsed": true
   },
   "outputs": [],
   "source": [
    "walmart_zips_in_selected_mkt=pd.DataFrame(columns=['Zip_Code','address_of_walmart','city_of_walmart','zip_of_walmart','number_of_walmart','state_of_walmart',\n",
    "                            'latitude_of_walmart','longitude_of_walmart'])\n",
    "for i in range(len(Walmart_Zips_In_Selected_MKTs)):\n",
    "    zips_for_WalMart_store=Walmart_Zips_In_Selected_MKTs['zip within 5 miles'][i]\n",
    "    df=pd.DataFrame(columns=['zips_in_5_miles','address_of_walmart','city_of_walmart','zip_of_walmart','number_of_walmart','state_of_walmart',\n",
    "                            'latitude_of_walmart','longitude_of_walmart'])\n",
    "    zips_for_WalMart_store=zips_for_WalMart_store.split(', ')\n",
    "    #for j in range(len(zips_for_WalMart_store)):\n",
    "        #df['zips_in_5_miles'][j]=zips_for_WalMart_store[j]\n",
    "    df['Zip_Code']=zips_for_WalMart_store\n",
    "    df['address_of_walmart']=Walmart_Zips_In_Selected_MKTs['address'][i]\n",
    "    df['city_of_walmart']=Walmart_Zips_In_Selected_MKTs['city'][i]\n",
    "    df['zip_of_walmart']=Walmart_Zips_In_Selected_MKTs['zip code'][i]\n",
    "    df['number_of_walmart']=Walmart_Zips_In_Selected_MKTs['number'][i]\n",
    "    df['state_of_walmart']=Walmart_Zips_In_Selected_MKTs['state'][i]\n",
    "    df['latitude_of_walmart']=Walmart_Zips_In_Selected_MKTs['lat'][i]\n",
    "    df['longitude_of_walmart']=Walmart_Zips_In_Selected_MKTs['lng'][i]\n",
    "    walmart_zips_in_selected_mkt=walmart_zips_in_selected_mkt.append(df)\n",
    "    \n",
    "walmart_zips_in_selected_mkt.reset_index(inplace=True)\n",
    "del walmart_zips_in_selected_mkt['index']  \n",
    "walmart_zips_in_selected_mkt['Zip_Code']=walmart_zips_in_selected_mkt['Zip_Code'].apply(lambda x: x.replace(\"'\",\"\"))\n",
    "walmart_zips_in_selected_mkt['Zip_Code']=walmart_zips_in_selected_mkt['Zip_Code'].astype(int)"
   ]
  },
  {
   "cell_type": "code",
   "execution_count": 23,
   "metadata": {
    "collapsed": true
   },
   "outputs": [],
   "source": [
    "walmart_zips_in_selected_mkt.to_excel(\"/home/jian/SunnyD/Otherinput/all_walmart_zips_in_5_miles.xlsx\")"
   ]
  },
  {
   "cell_type": "code",
   "execution_count": 24,
   "metadata": {},
   "outputs": [
    {
     "data": {
      "text/html": [
       "<div>\n",
       "<style>\n",
       "    .dataframe thead tr:only-child th {\n",
       "        text-align: right;\n",
       "    }\n",
       "\n",
       "    .dataframe thead th {\n",
       "        text-align: left;\n",
       "    }\n",
       "\n",
       "    .dataframe tbody tr th {\n",
       "        vertical-align: top;\n",
       "    }\n",
       "</style>\n",
       "<table border=\"1\" class=\"dataframe\">\n",
       "  <thead>\n",
       "    <tr style=\"text-align: right;\">\n",
       "      <th></th>\n",
       "      <th>Zip_Code</th>\n",
       "      <th>address_of_walmart</th>\n",
       "      <th>city_of_walmart</th>\n",
       "      <th>latitude_of_walmart</th>\n",
       "      <th>longitude_of_walmart</th>\n",
       "      <th>number_of_walmart</th>\n",
       "      <th>state_of_walmart</th>\n",
       "      <th>zip_of_walmart</th>\n",
       "      <th>zips_in_5_miles</th>\n",
       "    </tr>\n",
       "  </thead>\n",
       "  <tbody>\n",
       "    <tr>\n",
       "      <th>0</th>\n",
       "      <td>99523</td>\n",
       "      <td>8900 OLD SEWARD HWY</td>\n",
       "      <td>ANCHORAGE</td>\n",
       "      <td>61.14022809999999</td>\n",
       "      <td>-149.8699692</td>\n",
       "      <td>2071</td>\n",
       "      <td>AK</td>\n",
       "      <td>99515</td>\n",
       "      <td>NaN</td>\n",
       "    </tr>\n",
       "    <tr>\n",
       "      <th>1</th>\n",
       "      <td>99599</td>\n",
       "      <td>8900 OLD SEWARD HWY</td>\n",
       "      <td>ANCHORAGE</td>\n",
       "      <td>61.14022809999999</td>\n",
       "      <td>-149.8699692</td>\n",
       "      <td>2071</td>\n",
       "      <td>AK</td>\n",
       "      <td>99515</td>\n",
       "      <td>NaN</td>\n",
       "    </tr>\n",
       "    <tr>\n",
       "      <th>2</th>\n",
       "      <td>99519</td>\n",
       "      <td>8900 OLD SEWARD HWY</td>\n",
       "      <td>ANCHORAGE</td>\n",
       "      <td>61.14022809999999</td>\n",
       "      <td>-149.8699692</td>\n",
       "      <td>2071</td>\n",
       "      <td>AK</td>\n",
       "      <td>99515</td>\n",
       "      <td>NaN</td>\n",
       "    </tr>\n",
       "    <tr>\n",
       "      <th>3</th>\n",
       "      <td>99518</td>\n",
       "      <td>8900 OLD SEWARD HWY</td>\n",
       "      <td>ANCHORAGE</td>\n",
       "      <td>61.14022809999999</td>\n",
       "      <td>-149.8699692</td>\n",
       "      <td>2071</td>\n",
       "      <td>AK</td>\n",
       "      <td>99515</td>\n",
       "      <td>NaN</td>\n",
       "    </tr>\n",
       "    <tr>\n",
       "      <th>4</th>\n",
       "      <td>99515</td>\n",
       "      <td>8900 OLD SEWARD HWY</td>\n",
       "      <td>ANCHORAGE</td>\n",
       "      <td>61.14022809999999</td>\n",
       "      <td>-149.8699692</td>\n",
       "      <td>2071</td>\n",
       "      <td>AK</td>\n",
       "      <td>99515</td>\n",
       "      <td>NaN</td>\n",
       "    </tr>\n",
       "  </tbody>\n",
       "</table>\n",
       "</div>"
      ],
      "text/plain": [
       "   Zip_Code   address_of_walmart city_of_walmart latitude_of_walmart  \\\n",
       "0     99523  8900 OLD SEWARD HWY       ANCHORAGE   61.14022809999999   \n",
       "1     99599  8900 OLD SEWARD HWY       ANCHORAGE   61.14022809999999   \n",
       "2     99519  8900 OLD SEWARD HWY       ANCHORAGE   61.14022809999999   \n",
       "3     99518  8900 OLD SEWARD HWY       ANCHORAGE   61.14022809999999   \n",
       "4     99515  8900 OLD SEWARD HWY       ANCHORAGE   61.14022809999999   \n",
       "\n",
       "  longitude_of_walmart number_of_walmart state_of_walmart zip_of_walmart  \\\n",
       "0         -149.8699692              2071               AK          99515   \n",
       "1         -149.8699692              2071               AK          99515   \n",
       "2         -149.8699692              2071               AK          99515   \n",
       "3         -149.8699692              2071               AK          99515   \n",
       "4         -149.8699692              2071               AK          99515   \n",
       "\n",
       "  zips_in_5_miles  \n",
       "0             NaN  \n",
       "1             NaN  \n",
       "2             NaN  \n",
       "3             NaN  \n",
       "4             NaN  "
      ]
     },
     "execution_count": 24,
     "metadata": {},
     "output_type": "execute_result"
    }
   ],
   "source": [
    "walmart_zips_in_selected_mkt.head()"
   ]
  },
  {
   "cell_type": "markdown",
   "metadata": {
    "collapsed": true
   },
   "source": [
    "# Count Stores in Markets"
   ]
  },
  {
   "cell_type": "code",
   "execution_count": 57,
   "metadata": {
    "collapsed": true
   },
   "outputs": [],
   "source": [
    "Walmart_Zips=pd.read_csv(\"/home/jian/SunnyD/Otherinput/walmart_stores_with_zip.csv\")\n",
    "Walmart_Zips=Walmart_Zips[pd.notnull(Walmart_Zips['zip within 5 miles'])]\n",
    "Walmart_Zips['zip code']=Walmart_Zips['zip code'].astype(int)"
   ]
  },
  {
   "cell_type": "code",
   "execution_count": 58,
   "metadata": {},
   "outputs": [],
   "source": [
    "all_zips_in_IRI=pd.read_excel(\"/home/jian/SunnyD/Otherinput/All_IRI_Mkt_with_Zips.xlsx\")\n",
    "all_zips_in_IRI=all_zips_in_IRI[['zip_cd','IRI_Market']]\n",
    "all_zips_in_IRI.columns=['zip code','IRI_Market']"
   ]
  },
  {
   "cell_type": "code",
   "execution_count": 59,
   "metadata": {},
   "outputs": [],
   "source": [
    "Walmart_Zips_IRI=pd.merge(Walmart_Zips,all_zips_in_IRI,on=\"zip code\",how=\"inner\")\n",
    "Walmart_Zips_IRI=Walmart_Zips_IRI[['number','IRI_Market','zip code']]\n",
    "Walmart_Zips_IRI=Walmart_Zips_IRI.drop_duplicates()"
   ]
  },
  {
   "cell_type": "code",
   "execution_count": 60,
   "metadata": {},
   "outputs": [],
   "source": [
    "Walmart_Store_Coutns=Walmart_Zips_IRI.groupby(['IRI_Market'])['number'].apply(len).to_frame()\n",
    "Walmart_Store_Coutns.reset_index(inplace=True)\n",
    "Walmart_Store_Coutns.to_excel(\"/home/jian/SunnyD/Otherinput/Walmart_Counts_In_IRI_Markets.xlsx\",index=False)"
   ]
  },
  {
   "cell_type": "code",
   "execution_count": 63,
   "metadata": {},
   "outputs": [
    {
     "data": {
      "text/html": [
       "<div>\n",
       "<style>\n",
       "    .dataframe thead tr:only-child th {\n",
       "        text-align: right;\n",
       "    }\n",
       "\n",
       "    .dataframe thead th {\n",
       "        text-align: left;\n",
       "    }\n",
       "\n",
       "    .dataframe tbody tr th {\n",
       "        vertical-align: top;\n",
       "    }\n",
       "</style>\n",
       "<table border=\"1\" class=\"dataframe\">\n",
       "  <thead>\n",
       "    <tr style=\"text-align: right;\">\n",
       "      <th></th>\n",
       "      <th>number</th>\n",
       "      <th>IRI_Market</th>\n",
       "      <th>zip code</th>\n",
       "    </tr>\n",
       "  </thead>\n",
       "  <tbody>\n",
       "    <tr>\n",
       "      <th>982</th>\n",
       "      <td>5414</td>\n",
       "      <td>NEW YORK</td>\n",
       "      <td>8734</td>\n",
       "    </tr>\n",
       "    <tr>\n",
       "      <th>983</th>\n",
       "      <td>3795</td>\n",
       "      <td>NEW YORK</td>\n",
       "      <td>7047</td>\n",
       "    </tr>\n",
       "    <tr>\n",
       "      <th>1034</th>\n",
       "      <td>1810</td>\n",
       "      <td>NEW YORK</td>\n",
       "      <td>12524</td>\n",
       "    </tr>\n",
       "    <tr>\n",
       "      <th>1048</th>\n",
       "      <td>2531</td>\n",
       "      <td>NEW YORK</td>\n",
       "      <td>10547</td>\n",
       "    </tr>\n",
       "  </tbody>\n",
       "</table>\n",
       "</div>"
      ],
      "text/plain": [
       "      number IRI_Market  zip code\n",
       "982     5414   NEW YORK      8734\n",
       "983     3795   NEW YORK      7047\n",
       "1034    1810   NEW YORK     12524\n",
       "1048    2531   NEW YORK     10547"
      ]
     },
     "execution_count": 63,
     "metadata": {},
     "output_type": "execute_result"
    }
   ],
   "source": [
    "Walmart_Zips_IRI[Walmart_Zips_IRI['IRI_Market']=='NEW YORK']"
   ]
  },
  {
   "cell_type": "code",
   "execution_count": 62,
   "metadata": {},
   "outputs": [
    {
     "data": {
      "text/plain": [
       "array(['BIRMINGHAM/MONTGOMERY', 'NEW ORLEANS/MOBILE', 'LITTLE ROCK',\n",
       "       'MEMPHIS', 'PHOENIX/TUCSON', 'LOS ANGELES', 'SAN DIEGO',\n",
       "       'SACRAMENTO', 'SAN FRANCISCO/OAKLAND', 'DENVER',\n",
       "       'HARTFORD/SPRINGFIELD', 'PHILADELPHIA', 'ORLANDO',\n",
       "       'TAMPA/ST PETERSBURG', 'MIAMI/FT LAUDERDALE', 'JACKSONVILLE',\n",
       "       'ATLANTA', 'SOUTH CAROLINA', 'DES MOINES', 'OMAHA', 'BOISE',\n",
       "       'SPOKANE', 'CHICAGO', 'ST LOUIS', 'PEORIA/SPRINGFIELD',\n",
       "       'INDIANAPOLIS', 'CINCINNATI/DAYTON', 'LOUISVILLE', 'WICHITA',\n",
       "       'KANSAS CITY', 'NASHVILLE', 'BOSTON', 'BALTIMORE/WASHINGTON',\n",
       "       'NEW ENGLAND', 'GRAND RAPIDS', 'DETROIT', 'MINNEAPOLIS/ST PAUL',\n",
       "       'MISSISSIPPI', 'CHARLOTTE', 'RALEIGH/GREENSBORO', 'NEW YORK',\n",
       "       'WEST TEX/NEW MEXICO', 'BUFFALO/ROCHESTER', 'SYRACUSE', 'ALBANY',\n",
       "       'TOLEDO', 'CLEVELAND', 'COLUMBUS', 'TULSA', 'OKLAHOMA CITY',\n",
       "       'PORTLAND', 'HARRISBURG/SCRANTON', 'PITTSBURGH', 'PROVIDENCE',\n",
       "       'KNOXVILLE', 'ROANOKE', 'SAN ANTONIO/CORPUS CHRISTI', 'HOUSTON',\n",
       "       'DALLAS/FT WORTH', 'SALT LAKE CITY', 'RICHMOND/NORFOLK',\n",
       "       'SEATTLE/TACOMA', 'GREEN BAY', 'MILWAUKEE'], dtype=object)"
      ]
     },
     "execution_count": 62,
     "metadata": {},
     "output_type": "execute_result"
    }
   ],
   "source": [
    "Walmart_Zips_IRI['IRI_Market'].unique()"
   ]
  },
  {
   "cell_type": "code",
   "execution_count": null,
   "metadata": {
    "collapsed": true
   },
   "outputs": [],
   "source": []
  }
 ],
 "metadata": {
  "kernelspec": {
   "display_name": "Python 3",
   "language": "python",
   "name": "python3"
  },
  "language_info": {
   "codemirror_mode": {
    "name": "ipython",
    "version": 3
   },
   "file_extension": ".py",
   "mimetype": "text/x-python",
   "name": "python",
   "nbconvert_exporter": "python",
   "pygments_lexer": "ipython3",
   "version": "3.6.1"
  }
 },
 "nbformat": 4,
 "nbformat_minor": 2
}
