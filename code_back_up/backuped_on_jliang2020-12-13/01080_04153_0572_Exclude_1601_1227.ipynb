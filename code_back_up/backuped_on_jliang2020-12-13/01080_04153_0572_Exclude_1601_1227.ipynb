{
 "cells": [
  {
   "cell_type": "code",
   "execution_count": 1,
   "metadata": {
    "collapsed": true
   },
   "outputs": [],
   "source": [
    "import pandas as pd\n",
    "import numpy as np\n",
    "import json\n",
    "import datetime"
   ]
  },
  {
   "cell_type": "code",
   "execution_count": 2,
   "metadata": {
    "collapsed": true
   },
   "outputs": [],
   "source": [
    "store_level_zips=pd.read_csv(\"/home/jian/Projects/Big_Lots/New_TA/zips_in_new_ta/sales_by_zip (Store level).csv\",dtype=str)\n",
    "store_level_zips=store_level_zips[['location_id','revenue_flag','zip']].drop_duplicates()\n",
    "store_level_zips_1601=store_level_zips[store_level_zips['location_id']==\"1601\"]\n"
   ]
  },
  {
   "cell_type": "code",
   "execution_count": 3,
   "metadata": {
    "collapsed": true
   },
   "outputs": [],
   "source": [
    "open_now_store=pd.read_csv(\"/home/jian/BiglotsCode/outputs/combined_sales_long_2018-12-22.csv\",dtype=str)\n",
    "open_now_store=open_now_store[open_now_store['week_end_date']==\"2018-12-22\"]\n",
    "open_now_store=open_now_store[['location_id','sales']]\n",
    "open_now_store['sales']=open_now_store['sales'].astype(float)\n",
    "open_now_store=open_now_store[open_now_store['sales']>0]\n",
    "\n",
    "store_level_zips=store_level_zips[store_level_zips['location_id'].isin(open_now_store['location_id'].tolist())]\n",
    "store_level_zips_others_PST=store_level_zips[store_level_zips['location_id']!=\"1601\"].sort_values(['revenue_flag'])\n",
    "store_level_zips_others_PST=store_level_zips_others_PST.rename(columns={\"revenue_flag\":\"others_high_flag\"})\n",
    "highest_label=store_level_zips_others_PST[['zip','others_high_flag']].drop_duplicates(['zip'])\n",
    "store_level_zips_others_PS=store_level_zips[(store_level_zips['location_id']!=\"1601\") & (store_level_zips['revenue_flag'].isin(['P','S']))]\n",
    "\n"
   ]
  },
  {
   "cell_type": "code",
   "execution_count": 4,
   "metadata": {
    "collapsed": true
   },
   "outputs": [],
   "source": [
    "store_level_zips_1601=pd.merge(store_level_zips_1601,highest_label,on='zip',how=\"left\")\n",
    "store_level_zips_1601['others_high_flag']=store_level_zips_1601['others_high_flag'].fillna(\"T\")\n",
    "store_level_zips_1601_excluded=store_level_zips_1601[(store_level_zips_1601['revenue_flag'].isin(['P','S'])) & (store_level_zips_1601['others_high_flag']=='T')]\n",
    "store_level_zips_1601_T_and_T=store_level_zips_1601[(store_level_zips_1601['revenue_flag']==\"T\") & (store_level_zips_1601['others_high_flag']=='T')]\n",
    "\n",
    "store_level_zips_1601_keep=store_level_zips_1601[store_level_zips_1601['others_high_flag']!=\"T\"]"
   ]
  },
  {
   "cell_type": "code",
   "execution_count": 5,
   "metadata": {
    "collapsed": true
   },
   "outputs": [],
   "source": [
    "writer=pd.ExcelWriter(\"/home/jian/Projects/Big_Lots/Analysis/2018_Q4/Planner_Request/BL_Zips_For_1601_to_be_excluded_JL_\"+str(datetime.datetime.now().date())+\".xlsx\",engine=\"xlsxwriter\")"
   ]
  },
  {
   "cell_type": "code",
   "execution_count": 6,
   "metadata": {},
   "outputs": [],
   "source": [
    "store_level_zips_1601_excluded.to_excel(writer,\"1_PS_1601_others_T\",index=False)\n",
    "store_level_zips_1601_T_and_T.to_excel(writer,\"2_T_1601_others_T\",index=False)\n",
    "store_level_zips_1601_keep.to_excel(writer,\"3_others_PS\",index=False)\n",
    "writer.save()"
   ]
  },
  {
   "cell_type": "code",
   "execution_count": null,
   "metadata": {
    "collapsed": true
   },
   "outputs": [],
   "source": []
  },
  {
   "cell_type": "code",
   "execution_count": null,
   "metadata": {
    "collapsed": true
   },
   "outputs": [],
   "source": []
  }
 ],
 "metadata": {
  "kernelspec": {
   "display_name": "Python 3",
   "language": "python",
   "name": "python3"
  },
  "language_info": {
   "codemirror_mode": {
    "name": "ipython",
    "version": 3
   },
   "file_extension": ".py",
   "mimetype": "text/x-python",
   "name": "python",
   "nbconvert_exporter": "python",
   "pygments_lexer": "ipython3",
   "version": "3.6.1"
  }
 },
 "nbformat": 4,
 "nbformat_minor": 2
}
