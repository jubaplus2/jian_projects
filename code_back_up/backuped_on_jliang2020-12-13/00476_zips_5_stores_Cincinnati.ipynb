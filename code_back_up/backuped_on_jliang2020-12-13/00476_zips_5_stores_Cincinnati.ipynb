{
 "cells": [
  {
   "cell_type": "code",
   "execution_count": 1,
   "metadata": {
    "collapsed": true
   },
   "outputs": [],
   "source": [
    "import pandas as pd\n",
    "import numpy as np\n",
    "import json\n",
    "from haversine import haversine\n",
    "zip_centers=json.load(open(\"/home/jian/Docs/Geo_mapping/updated_zip_centers_JL_2019-05-23.json\",\"r\"))\n",
    "# Email from Bruce, 2019-05-30 4:16 p.m.\n",
    "# Life's Occasions test primary zips\n",
    "\n",
    "store_list=['49','1243','1817','5340','5354']"
   ]
  },
  {
   "cell_type": "code",
   "execution_count": 2,
   "metadata": {},
   "outputs": [],
   "source": [
    "clients_zip=pd.ExcelFile(\"/home/jian/Projects/Big_Lots/Analysis/2019_Q2/Planner_Requests/zips_Cincinnati_Bruce_20190530/Cincinnati Life's Occasions Test Trade Areas.xlsx\")\n",
    "\n",
    "clients_zip=clients_zip.parse(\"Sheet1\",dtype=str,skiprows=4,usecols=[1,2])\n",
    "clients_zip=clients_zip.head(70)\n",
    "\n",
    "df_client_stores=pd.DataFrame()\n",
    "for store_id,group in clients_zip.groupby(\"PrimStore\"):\n",
    "    if store_id!=\"nan\":\n",
    "        df_client_stores=df_client_stores.append(group)\n",
    "df_client_stores=df_client_stores.rename(columns={\"PrimStore\":\"location_id\"}) \n",
    "df_client_stores['client_inclusion']=1"
   ]
  },
  {
   "cell_type": "code",
   "execution_count": 3,
   "metadata": {},
   "outputs": [
    {
     "data": {
      "text/html": [
       "<div>\n",
       "<style>\n",
       "    .dataframe thead tr:only-child th {\n",
       "        text-align: right;\n",
       "    }\n",
       "\n",
       "    .dataframe thead th {\n",
       "        text-align: left;\n",
       "    }\n",
       "\n",
       "    .dataframe tbody tr th {\n",
       "        vertical-align: top;\n",
       "    }\n",
       "</style>\n",
       "<table border=\"1\" class=\"dataframe\">\n",
       "  <thead>\n",
       "    <tr style=\"text-align: right;\">\n",
       "      <th></th>\n",
       "      <th>postal_cd</th>\n",
       "      <th>location_id</th>\n",
       "      <th>client_inclusion</th>\n",
       "    </tr>\n",
       "  </thead>\n",
       "  <tbody>\n",
       "    <tr>\n",
       "      <th>8</th>\n",
       "      <td>47025</td>\n",
       "      <td>1243</td>\n",
       "      <td>1</td>\n",
       "    </tr>\n",
       "    <tr>\n",
       "      <th>9</th>\n",
       "      <td>47001</td>\n",
       "      <td>1243</td>\n",
       "      <td>1</td>\n",
       "    </tr>\n",
       "  </tbody>\n",
       "</table>\n",
       "</div>"
      ],
      "text/plain": [
       "  postal_cd location_id  client_inclusion\n",
       "8     47025        1243                 1\n",
       "9     47001        1243                 1"
      ]
     },
     "execution_count": 3,
     "metadata": {},
     "output_type": "execute_result"
    }
   ],
   "source": [
    "df_client_stores.head(2)"
   ]
  },
  {
   "cell_type": "code",
   "execution_count": 4,
   "metadata": {},
   "outputs": [],
   "source": [
    "store_zips_labels=pd.read_csv(\"/home/jian/Projects/Big_Lots/New_TA/zips_in_new_ta/sales_by_zip (Store level).csv\",\n",
    "                              dtype=str,usecols=['location_id','zip','revenue_flag'])\n",
    "store_zips_labels=store_zips_labels.rename(columns={\"zip\":'postal_cd','revenue_flag':'juba_flag'})\n",
    "store_zips_labels=store_zips_labels[store_zips_labels['location_id'].isin(df_client_stores['location_id'].tolist())]\n",
    "store_zips_labels=store_zips_labels[store_zips_labels['juba_flag'].isin([\"P\",\"S\"])]"
   ]
  },
  {
   "cell_type": "code",
   "execution_count": 5,
   "metadata": {},
   "outputs": [],
   "source": [
    "df_compare=pd.merge(df_client_stores,store_zips_labels,on=[\"postal_cd\",'location_id'],how=\"outer\")\n",
    "df_compare_1=df_compare[df_compare['location_id'].isin(store_zips_labels['location_id'].unique().tolist())]\n",
    "df_compare_2=df_compare[~df_compare['location_id'].isin(store_zips_labels['location_id'].unique().tolist())]\n"
   ]
  },
  {
   "cell_type": "code",
   "execution_count": 6,
   "metadata": {},
   "outputs": [
    {
     "data": {
      "text/plain": [
       "(53, 4)"
      ]
     },
     "execution_count": 6,
     "metadata": {},
     "output_type": "execute_result"
    }
   ],
   "source": [
    "df_compare_1.shape"
   ]
  },
  {
   "cell_type": "code",
   "execution_count": 7,
   "metadata": {},
   "outputs": [],
   "source": [
    "store_locations=pd.read_csv(\"/home/jian/BigLots/static_files/Store_list/MediaStormStores20190501-135143-036.txt\",\n",
    "                            sep=\"|\",dtype=str,usecols=['location_id','latitude_meas','longitude_meas'])\n",
    "store_locations=store_locations[store_locations['location_id'].isin(df_compare_2['location_id'].tolist())]\n",
    "store_locations['latitude_meas']=store_locations['latitude_meas'].astype(float)\n",
    "store_locations['longitude_meas']=store_locations['longitude_meas'].astype(float)\n",
    "store_locations=store_locations.reset_index()\n",
    "del store_locations['index']\n",
    "\n",
    "df_2_new_stores=pd.DataFrame()\n",
    "for index,row in store_locations.iterrows():\n",
    "    store_center=(row['latitude_meas'],row['longitude_meas'])\n",
    "    for zip_cd in zip_centers.keys():\n",
    "        dist=haversine(zip_centers[zip_cd],store_center,miles=True)\n",
    "        if dist<=10:\n",
    "            df=pd.DataFrame({\"location_id\":row['location_id'],\"postal_cd\":zip_cd,\"juba_flag\":'zips_in_10'},index=[0])\n",
    "            df_2_new_stores=df_2_new_stores.append(df)\n",
    "store_zips_labels=store_zips_labels.append(df_2_new_stores)\n",
    "\n",
    "df_compare=pd.merge(df_client_stores,store_zips_labels,on=[\"postal_cd\",'location_id'],how=\"outer\")\n"
   ]
  },
  {
   "cell_type": "code",
   "execution_count": 10,
   "metadata": {},
   "outputs": [],
   "source": [
    "import datetime\n",
    "writer=pd.ExcelWriter(\"./BL_comepare_zip_5_Cincinnati_stores_JL_\"+str(datetime.datetime.now().date())+\".xlsx\",engine=\"xlsxwriter\")\n",
    "df_compare.to_excel(writer,\"df_compare\",index=False)\n",
    "writer.save()"
   ]
  },
  {
   "cell_type": "code",
   "execution_count": null,
   "metadata": {
    "collapsed": true
   },
   "outputs": [],
   "source": []
  }
 ],
 "metadata": {
  "kernelspec": {
   "display_name": "Python 3",
   "language": "python",
   "name": "python3"
  },
  "language_info": {
   "codemirror_mode": {
    "name": "ipython",
    "version": 3
   },
   "file_extension": ".py",
   "mimetype": "text/x-python",
   "name": "python",
   "nbconvert_exporter": "python",
   "pygments_lexer": "ipython3",
   "version": "3.6.1"
  }
 },
 "nbformat": 4,
 "nbformat_minor": 2
}
