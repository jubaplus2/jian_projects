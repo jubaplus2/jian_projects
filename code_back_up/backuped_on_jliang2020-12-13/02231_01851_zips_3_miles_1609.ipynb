{
 "cells": [
  {
   "cell_type": "code",
   "execution_count": 3,
   "metadata": {
    "collapsed": true
   },
   "outputs": [],
   "source": [
    "import pandas as pd\n",
    "from haversine import haversine\n",
    "import datetime\n",
    "import json\n",
    "\n",
    "zip_centers=json.load(open(\"/home/jian/Docs/Geo_mapping/center_of_rentrak_zip.json\",\"r\"))"
   ]
  },
  {
   "cell_type": "code",
   "execution_count": 4,
   "metadata": {
    "collapsed": true
   },
   "outputs": [],
   "source": [
    "'''\n",
    "In the email from Kelly May 7 2:43 pm\n",
    "\n",
    "Store #1609\n",
    "Address: 1754 S. McKenzie Street, Foley, AL\n",
    "\n",
    "'''\n",
    "\n",
    "Google_Lat=30.3878454\n",
    "Google_Lng=-87.6841418"
   ]
  },
  {
   "cell_type": "code",
   "execution_count": 5,
   "metadata": {
    "collapsed": true
   },
   "outputs": [],
   "source": [
    "zips_for_1609=['36535']\n",
    "\n",
    "df_zips_1609=pd.DataFrame({\"zip_cd\":zips_for_1609,\"dist_miles\":\"store_zip\"},index=[0])\n",
    "\n",
    "i_counter=1\n",
    "for zip_cd in zip_centers.keys():\n",
    "    dist=haversine(zip_centers[zip_cd],[30.3878454,-87.6841418],miles=True)\n",
    "    if dist<=3:\n",
    "        df=pd.DataFrame({\"zip_cd\":[zip_cd],\"dist_miles\":dist},index=[i_counter])\n",
    "        i_counter+=1\n",
    "        df_zips_1609=df_zips_1609.append(df)\n",
    "        \n",
    "    "
   ]
  },
  {
   "cell_type": "code",
   "execution_count": 6,
   "metadata": {
    "collapsed": true
   },
   "outputs": [],
   "source": [
    "df_zips_1609['storenumber']=\"1609\"\n",
    "df_zips_1609['store_lat_google']=Google_Lat\n",
    "df_zips_1609['store_lng_google']=Google_Lng\n",
    "df_zips_1609['store_address_google']=\"1754 S McKenzie St, Foley, AL 36535\"\n",
    "df_zips_1609=df_zips_1609[['storenumber','store_address_google','store_lat_google','store_lng_google','zip_cd','dist_miles']]"
   ]
  },
  {
   "cell_type": "code",
   "execution_count": 7,
   "metadata": {},
   "outputs": [
    {
     "data": {
      "text/plain": [
       "'/home/jian/Projects/Smoothie_King/Planner_request/zips_for_1609'"
      ]
     },
     "execution_count": 7,
     "metadata": {},
     "output_type": "execute_result"
    }
   ],
   "source": [
    "import os\n",
    "os.getcwd()"
   ]
  },
  {
   "cell_type": "code",
   "execution_count": 8,
   "metadata": {
    "collapsed": true
   },
   "outputs": [],
   "source": [
    "df_zips_1609.to_csv(\"/home/jian/Projects/Smoothie_King/Planner_request/zips_for_1609.csv\",index=False)"
   ]
  },
  {
   "cell_type": "code",
   "execution_count": null,
   "metadata": {
    "collapsed": true
   },
   "outputs": [],
   "source": []
  }
 ],
 "metadata": {
  "kernelspec": {
   "display_name": "Python 3",
   "language": "python",
   "name": "python3"
  },
  "language_info": {
   "codemirror_mode": {
    "name": "ipython",
    "version": 3
   },
   "file_extension": ".py",
   "mimetype": "text/x-python",
   "name": "python",
   "nbconvert_exporter": "python",
   "pygments_lexer": "ipython3",
   "version": "3.6.1"
  }
 },
 "nbformat": 4,
 "nbformat_minor": 2
}
