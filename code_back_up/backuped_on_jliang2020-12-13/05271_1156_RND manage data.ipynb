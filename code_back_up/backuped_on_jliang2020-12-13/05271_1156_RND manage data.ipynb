{
 "cells": [
  {
   "cell_type": "code",
   "execution_count": 66,
   "metadata": {
    "collapsed": true
   },
   "outputs": [],
   "source": [
    "import pandas as pd\n",
    "import os\n",
    "import numpy as np\n",
    "pd.options.display.max_columns=199"
   ]
  },
  {
   "cell_type": "code",
   "execution_count": 67,
   "metadata": {
    "collapsed": true
   },
   "outputs": [],
   "source": [
    "source_list_describe=pd.read_excel(\"/home/jian/Projects/Red Nose Day/source_code_list_updated.xlsx\",sheetname=\"source_code\",dtype=str)\n",
    "origin_source_list_describe=pd.read_excel(\"/home/jian/Projects/Red Nose Day/source_code_list_updated.xlsx\",sheetname=\"origin_source_code\",dtype=str)\n",
    "origin_source_list_describe.columns=['Origin Source Code','Description']"
   ]
  },
  {
   "cell_type": "code",
   "execution_count": 68,
   "metadata": {
    "collapsed": true
   },
   "outputs": [],
   "source": [
    "df_x=source_list_describe\n",
    "df_x.columns=['ActivistCodeName','Description']\n",
    "df_y=origin_source_list_describe\n",
    "df_y.columns=['ActivistCodeName','Description']\n",
    "\n",
    "source_list=pd.concat([df_x,df_y],ignore_index=True)\n",
    "source_list.drop_duplicates(inplace=True)\n",
    "\n",
    "source_list_describe.columns=['Source Code','Description']\n",
    "origin_source_list_describe.columns=['Origin Source Code','Description']"
   ]
  },
  {
   "cell_type": "code",
   "execution_count": 69,
   "metadata": {},
   "outputs": [
    {
     "name": "stderr",
     "output_type": "stream",
     "text": [
      "/usr/local/lib/python3.6/site-packages/IPython/core/interactiveshell.py:2683: DtypeWarning: Columns (11,14,21,24,26,27,34,39,47,54,56,57,62,76,77) have mixed types. Specify dtype option on import or set low_memory=False.\n",
      "  interactivity=interactivity, compiler=compiler, result=result)\n",
      "/usr/local/lib/python3.6/site-packages/IPython/core/interactiveshell.py:2683: DtypeWarning: Columns (6,9) have mixed types. Specify dtype option on import or set low_memory=False.\n",
      "  interactivity=interactivity, compiler=compiler, result=result)\n",
      "/usr/local/lib/python3.6/site-packages/IPython/core/interactiveshell.py:2683: DtypeWarning: Columns (1) have mixed types. Specify dtype option on import or set low_memory=False.\n",
      "  interactivity=interactivity, compiler=compiler, result=result)\n"
     ]
    }
   ],
   "source": [
    "data_1 = pd.read_csv(\"/home/jian/Projects/Red Nose Day/Data/20171122_TD-9697.csv\",encoding = \"ISO-8859-1\")\n",
    "data_2 = pd.read_csv(\"/home/jian/Projects/Red Nose Day/Data/ContributionReport-15530264647.csv\",encoding = \"ISO-8859-1\")\n",
    "data_3 = pd.read_csv(\"/home/jian/Projects/Red Nose Day/Data/export44-1355453973.csv\",encoding = \"ISO-8859-1\")\n",
    "data_4 = pd.read_csv(\"/home/jian/Projects/Red Nose Day/Data/export44-4092541519.csv\",encoding = \"ISO-8859-1\")"
   ]
  },
  {
   "cell_type": "code",
   "execution_count": 70,
   "metadata": {
    "collapsed": true
   },
   "outputs": [],
   "source": [
    "data_1['VANID']=data_1['VanID'].astype(int)\n",
    "del data_1['VanID']\n",
    "del data_1['FirstName']\n",
    "del data_1['LastName']\n",
    "data_2['VANID']=data_2['VANID'].astype(int)\n",
    "del data_2['Home Phone']\n",
    "data_3['VANID']=data_3['VANID'].astype(int)\n",
    "data_4['VANID']=data_4['VANID'].astype(int)"
   ]
  },
  {
   "cell_type": "code",
   "execution_count": 71,
   "metadata": {
    "collapsed": true
   },
   "outputs": [],
   "source": [
    "US_state_filter=pd.read_csv(\"/home/jian/Docs/states.csv\",dtype=str)\n",
    "US_state_filter=US_state_filter.append({'State':'NA', 'Abbreviation':'NA'}, ignore_index=True)"
   ]
  },
  {
   "cell_type": "code",
   "execution_count": 72,
   "metadata": {},
   "outputs": [],
   "source": [
    "data=pd.merge(data_1,data_2,on=\"VANID\",how=\"right\")\n",
    "data=pd.merge(data,data_3,on=\"VANID\",how=\"left\")\n",
    "data=pd.merge(data,data_4,on=\"VANID\",how=\"left\")\n",
    "data=data[data['ActivistCodeName']!='Hand in Hand 2017']\n",
    "data=data[data['Designation']!='Hand in Hand']\n",
    "data=data[data['Designation Name']!='Hand in Hand']\n",
    "data['Acknowledgement State/Province']=np.where(pd.isnull(data['Acknowledgement State/Province']),\"NA\",data['Acknowledgement State/Province'])\n",
    "data['Acknowledgement State/Province']=data['Acknowledgement State/Province'].apply(lambda x: str(x).upper())\n",
    "data=data[data['Acknowledgement State/Province'].isin(US_state_filter['Abbreviation'])]\n",
    "\n",
    "data['Acknowledgement State/Province']=data['Acknowledgement State/Province'].apply(lambda x: x.strip())\n",
    "data['Acknowledgement City']=data['Acknowledgement City'].apply(lambda x: str(x).strip().lower().capitalize())"
   ]
  },
  {
   "cell_type": "code",
   "execution_count": 73,
   "metadata": {
    "collapsed": true
   },
   "outputs": [],
   "source": [
    "matrix_column=['VANID','Date Received','Remaining Amount','Amount','Source Code','Acknowledgement City','Acknowledgement State/Province','Acknowledgement Zip/Postal','Contact Type',\n",
    "              'Occupation','Origin Source Code','ActivistCodeType','ActivistCodeName','ActivistCodeDescription','Scope','Designation Name']"
   ]
  },
  {
   "cell_type": "code",
   "execution_count": 74,
   "metadata": {
    "collapsed": true,
    "scrolled": true
   },
   "outputs": [],
   "source": [
    "data_sub=data[matrix_column]"
   ]
  },
  {
   "cell_type": "code",
   "execution_count": 75,
   "metadata": {},
   "outputs": [
    {
     "data": {
      "text/plain": [
       "['VANID',\n",
       " 'Date Received',\n",
       " 'Remaining Amount',\n",
       " 'Amount',\n",
       " 'Source Code',\n",
       " 'Acknowledgement City',\n",
       " 'Acknowledgement State/Province',\n",
       " 'Acknowledgement Zip/Postal',\n",
       " 'Contact Type',\n",
       " 'Occupation',\n",
       " 'Origin Source Code',\n",
       " 'ActivistCodeType',\n",
       " 'ActivistCodeName',\n",
       " 'ActivistCodeDescription',\n",
       " 'Scope',\n",
       " 'Designation Name']"
      ]
     },
     "execution_count": 75,
     "metadata": {},
     "output_type": "execute_result"
    }
   ],
   "source": [
    "matrix_column"
   ]
  },
  {
   "cell_type": "code",
   "execution_count": 88,
   "metadata": {
    "collapsed": true
   },
   "outputs": [],
   "source": [
    "writer=pd.ExcelWriter(\"/home/jian/Projects/Red Nose Day/Output from CRM/Sorted View.xlsx\",engine='xlsxwriter')\n",
    "def count_unique(x):\n",
    "    return len(x.unique())"
   ]
  },
  {
   "cell_type": "code",
   "execution_count": 89,
   "metadata": {},
   "outputs": [
    {
     "name": "stderr",
     "output_type": "stream",
     "text": [
      "/usr/local/lib/python3.6/site-packages/pandas/core/generic.py:3660: SettingWithCopyWarning: \n",
      "A value is trying to be set on a copy of a slice from a DataFrame\n",
      "\n",
      "See the caveats in the documentation: http://pandas.pydata.org/pandas-docs/stable/indexing.html#indexing-view-versus-copy\n",
      "  self._update_inplace(new_data)\n",
      "/usr/local/lib/python3.6/site-packages/ipykernel_launcher.py:5: SettingWithCopyWarning: \n",
      "A value is trying to be set on a copy of a slice from a DataFrame.\n",
      "Try using .loc[row_indexer,col_indexer] = value instead\n",
      "\n",
      "See the caveats in the documentation: http://pandas.pydata.org/pandas-docs/stable/indexing.html#indexing-view-versus-copy\n",
      "  \"\"\"\n"
     ]
    },
    {
     "data": {
      "text/plain": [
       "250741"
      ]
     },
     "execution_count": 89,
     "metadata": {},
     "output_type": "execute_result"
    }
   ],
   "source": [
    "f = {'VANID':[count_unique], 'Amount':['sum']}\n",
    "\n",
    "Df_Source_Code=data_sub[['VANID','Date Received','Amount','Source Code']]\n",
    "Df_Source_Code['Source Code'].fillna(\"NA\",inplace=True)\n",
    "Df_Source_Code['Source Code']=np.where(Df_Source_Code['Source Code']=='NFG','Network for Good',Df_Source_Code['Source Code'])\n",
    "# Remove \"RND17 NoTV\"\n",
    "Df_Source_Code=Df_Source_Code[Df_Source_Code['Source Code']!='RND17 NoTV']\n",
    "Df_Source_Code.drop_duplicates(inplace=True)\n",
    "Df_Source_Code_Summary=Df_Source_Code.groupby('Source Code').agg(f)\n",
    "Df_Source_Code_Summary.reset_index(inplace=True)\n",
    "Df_Source_Code_Summary.columns=Df_Source_Code_Summary.columns.get_level_values(0)\n",
    "Df_Source_Code_Summary=Df_Source_Code_Summary.sort_values(by=['VANID'],ascending=False)\n",
    "Df_Source_Code_Summary['ID Pctg']=Df_Source_Code_Summary['VANID'].apply(lambda x: x/sum(Df_Source_Code_Summary['VANID']))\n",
    "Df_Source_Code_Summary['Donation Pctg']=Df_Source_Code_Summary['Amount'].apply(lambda x: x/sum(Df_Source_Code_Summary['Amount']))\n",
    "Df_Source_Code_Summary=pd.merge(Df_Source_Code_Summary,source_list_describe,on=\"Source Code\",how='left')\n",
    "Df_Source_Code_Summary.to_excel(writer,\"Source_Code\",index=False)\n",
    "len(Df_Source_Code['VANID'].unique())\n",
    "\n",
    "\n",
    "# Df_Source_Code_Summary_2=Df_Source_Code_Summary.sort_values(by=['Amount'],ascending=False)\n",
    "# Df_Source_Code_Summary_2.to_excel(writer,\"Source_Code_2\")"
   ]
  },
  {
   "cell_type": "code",
   "execution_count": 90,
   "metadata": {},
   "outputs": [
    {
     "name": "stderr",
     "output_type": "stream",
     "text": [
      "/usr/local/lib/python3.6/site-packages/pandas/core/generic.py:3660: SettingWithCopyWarning: \n",
      "A value is trying to be set on a copy of a slice from a DataFrame\n",
      "\n",
      "See the caveats in the documentation: http://pandas.pydata.org/pandas-docs/stable/indexing.html#indexing-view-versus-copy\n",
      "  self._update_inplace(new_data)\n",
      "/usr/local/lib/python3.6/site-packages/ipykernel_launcher.py:5: SettingWithCopyWarning: \n",
      "A value is trying to be set on a copy of a slice from a DataFrame.\n",
      "Try using .loc[row_indexer,col_indexer] = value instead\n",
      "\n",
      "See the caveats in the documentation: http://pandas.pydata.org/pandas-docs/stable/indexing.html#indexing-view-versus-copy\n",
      "  \"\"\"\n"
     ]
    },
    {
     "data": {
      "text/plain": [
       "250741"
      ]
     },
     "execution_count": 90,
     "metadata": {},
     "output_type": "execute_result"
    }
   ],
   "source": [
    "f = {'VANID':[count_unique], 'Amount':['sum']}\n",
    "\n",
    "Media=data_sub[['VANID','Date Received','Amount','Source Code']]\n",
    "Media['Source Code'].fillna(\"NA\",inplace=True)\n",
    "Media['Source Code']=np.where(Media['Source Code']=='NFG','Network for Good',Media['Source Code'])\n",
    "# Remove \"RND17 NoTV\"\n",
    "Media=Media[Media['Source Code']!='RND17 NoTV']\n",
    "Media.drop_duplicates(inplace=True)\n",
    "\n",
    "Media['Media']=np.where(Media['Source Code']=='PATRIOT',\"Night of TV\",\n",
    "                                 np.where(Media['Source Code'].isin(['Network for Good','KIMBIA','RND17 Default Donation Form','Red Nose Day 2017']),\"RND Website\",\n",
    "                                          np.where(Media['Source Code']=='mGive',\"Text Message\",\n",
    "                                                   np.where(Media['Source Code'].isin(['CrowdRise','CROWDRISE_FR']),\"CrowdRise Web\",\n",
    "                                                            np.where(Media['Source Code'].isin(['Lockbox']),\"Check\",\n",
    "                                                                      np.where(Media['Source Code'].isin(['PPGF']),\"PayPal's Web\",\n",
    "                                                                               np.where(Media['Source Code'].isin(['RND17 Post-Email Capture']),\"Email\",'Not Defined'\n",
    "                                )))))))\n",
    "del Media['Source Code']\n",
    "Media_Summary=Media.groupby('Media').agg(f)\n",
    "Media_Summary.reset_index(inplace=True)\n",
    "Media_Summary.columns=Media_Summary.columns.get_level_values(0)\n",
    "Media_Summary=Media_Summary.sort_values(by=['VANID'],ascending=False)\n",
    "Media_Summary['ID Pctg']=Media_Summary['VANID'].apply(lambda x: x/sum(Media_Summary['VANID']))\n",
    "Media_Summary['Donation Pctg']=Media_Summary['Amount'].apply(lambda x: x/sum(Media_Summary['Amount']))\n",
    "Media_Summary.to_excel(writer,\"Media\",index=False)\n",
    "# Media_Summary_2=Media_Summary.sort_values(by=['Amount'],ascending=False)\n",
    "# Media_Summary_2.to_excel(writer,\"Media_2\")\n",
    "\n",
    "len(Media['VANID'].unique())"
   ]
  },
  {
   "cell_type": "code",
   "execution_count": 91,
   "metadata": {},
   "outputs": [
    {
     "data": {
      "text/plain": [
       "False"
      ]
     },
     "execution_count": 91,
     "metadata": {},
     "output_type": "execute_result"
    }
   ],
   "source": [
    "'Hand in Hand: Event & .com' in data['Origin Source Code'].unique()"
   ]
  },
  {
   "cell_type": "code",
   "execution_count": 92,
   "metadata": {},
   "outputs": [
    {
     "name": "stderr",
     "output_type": "stream",
     "text": [
      "/usr/local/lib/python3.6/site-packages/pandas/core/generic.py:3660: SettingWithCopyWarning: \n",
      "A value is trying to be set on a copy of a slice from a DataFrame\n",
      "\n",
      "See the caveats in the documentation: http://pandas.pydata.org/pandas-docs/stable/indexing.html#indexing-view-versus-copy\n",
      "  self._update_inplace(new_data)\n",
      "/usr/local/lib/python3.6/site-packages/ipykernel_launcher.py:5: SettingWithCopyWarning: \n",
      "A value is trying to be set on a copy of a slice from a DataFrame.\n",
      "Try using .loc[row_indexer,col_indexer] = value instead\n",
      "\n",
      "See the caveats in the documentation: http://pandas.pydata.org/pandas-docs/stable/indexing.html#indexing-view-versus-copy\n",
      "  \"\"\"\n"
     ]
    },
    {
     "data": {
      "text/plain": [
       "292114"
      ]
     },
     "execution_count": 92,
     "metadata": {},
     "output_type": "execute_result"
    }
   ],
   "source": [
    "f = {'VANID':[count_unique], 'Amount':['sum']}\n",
    "Df_Origin_Source_Code=data_sub[['VANID','Date Received','Amount','Origin Source Code']]\n",
    "Df_Origin_Source_Code['Origin Source Code'].fillna(\"NA\",inplace=True)\n",
    "#\n",
    "Df_Origin_Source_Code['Origin Source Code']=np.where(Df_Origin_Source_Code['Origin Source Code']=='NFG','Network for Good',Df_Origin_Source_Code['Origin Source Code'])\n",
    "Df_Origin_Source_Code=Df_Origin_Source_Code[~Df_Origin_Source_Code['Origin Source Code'].isin(['RND17 NoTV','Hand in Hand Event','Hand in Hand: Event & .com'])]\n",
    "Df_Origin_Source_Code.drop_duplicates(inplace=True)\n",
    "Df_Origin_Source_Code_Summary=Df_Origin_Source_Code.groupby('Origin Source Code').agg(f)\n",
    "Df_Origin_Source_Code_Summary.reset_index(inplace=True)\n",
    "Df_Origin_Source_Code_Summary.columns=Df_Origin_Source_Code_Summary.columns.get_level_values(0)\n",
    "Df_Origin_Source_Code_Summary=Df_Origin_Source_Code_Summary.sort_values(by=['VANID'],ascending=False)\n",
    "Df_Origin_Source_Code_Summary['ID Pctg']=Df_Origin_Source_Code_Summary['VANID'].apply(lambda x: x/sum(Df_Origin_Source_Code_Summary['VANID']))\n",
    "Df_Origin_Source_Code_Summary['Donation Pctg']=Df_Origin_Source_Code_Summary['Amount'].apply(lambda x: x/sum(Df_Origin_Source_Code_Summary['Amount']))\n",
    "Df_Origin_Source_Code_Summary=pd.merge(Df_Origin_Source_Code_Summary,origin_source_list_describe,on=\"Origin Source Code\",how='left')\n",
    "Df_Origin_Source_Code_Summary.to_excel(writer,\"Origin_Source_Code\",index=False)\n",
    "\n",
    "# Df_Origin_Source_Code_Summary_2=Df_Origin_Source_Code_Summary.sort_values(by=['Amount'],ascending=False)\n",
    "# Df_Origin_Source_Code_Summary_2.to_excel(writer,\"Origin_Source_Code_2\")\n",
    "len(Df_Origin_Source_Code['VANID'].unique())"
   ]
  },
  {
   "cell_type": "code",
   "execution_count": 93,
   "metadata": {},
   "outputs": [
    {
     "name": "stderr",
     "output_type": "stream",
     "text": [
      "/usr/local/lib/python3.6/site-packages/ipykernel_launcher.py:3: SettingWithCopyWarning: \n",
      "A value is trying to be set on a copy of a slice from a DataFrame\n",
      "\n",
      "See the caveats in the documentation: http://pandas.pydata.org/pandas-docs/stable/indexing.html#indexing-view-versus-copy\n",
      "  This is separate from the ipykernel package so we can avoid doing imports until\n"
     ]
    },
    {
     "data": {
      "text/plain": [
       "307438"
      ]
     },
     "execution_count": 93,
     "metadata": {},
     "output_type": "execute_result"
    }
   ],
   "source": [
    "f = {'VANID':[count_unique], 'Amount':['sum']}\n",
    "Df_State=data_sub[['VANID','Date Received','Amount','Acknowledgement State/Province']]\n",
    "Df_State.drop_duplicates(inplace=True)\n",
    "\n",
    "Df_State_Summary=Df_State.groupby('Acknowledgement State/Province').agg(f)\n",
    "Df_State_Summary.reset_index(inplace=True)\n",
    "Df_State_Summary.columns=Df_State_Summary.columns.get_level_values(0)\n",
    "Df_State_Summary=Df_State_Summary.sort_values(by=['VANID'],ascending=False)\n",
    "Df_State_Summary['ID Pctg']=Df_State_Summary['VANID'].apply(lambda x: x/sum(Df_State_Summary['VANID']))\n",
    "Df_State_Summary['Donation Pctg']=Df_State_Summary['Amount'].apply(lambda x: x/sum(Df_State_Summary['Amount']))\n",
    "Df_State_Summary.to_excel(writer,\"State\",index=False)\n",
    "# Df_State_Summary_2=Df_State_Summary.sort_values(by=['Amount'],ascending=False)\n",
    "# Df_State_Summary_2.to_excel(writer,\"State_2\")\n",
    "len(Df_State['VANID'].unique())"
   ]
  },
  {
   "cell_type": "code",
   "execution_count": 94,
   "metadata": {},
   "outputs": [
    {
     "name": "stderr",
     "output_type": "stream",
     "text": [
      "/usr/local/lib/python3.6/site-packages/pandas/core/generic.py:3660: SettingWithCopyWarning: \n",
      "A value is trying to be set on a copy of a slice from a DataFrame\n",
      "\n",
      "See the caveats in the documentation: http://pandas.pydata.org/pandas-docs/stable/indexing.html#indexing-view-versus-copy\n",
      "  self._update_inplace(new_data)\n",
      "/usr/local/lib/python3.6/site-packages/ipykernel_launcher.py:7: SettingWithCopyWarning: \n",
      "A value is trying to be set on a copy of a slice from a DataFrame\n",
      "\n",
      "See the caveats in the documentation: http://pandas.pydata.org/pandas-docs/stable/indexing.html#indexing-view-versus-copy\n",
      "  import sys\n"
     ]
    },
    {
     "data": {
      "text/plain": [
       "307438"
      ]
     },
     "execution_count": 94,
     "metadata": {},
     "output_type": "execute_result"
    }
   ],
   "source": [
    "f = {'VANID':[count_unique], 'Amount':['sum']}\n",
    "Df_City=data_sub[['VANID','Date Received','Amount','Acknowledgement State/Province','Acknowledgement City']]\n",
    "\n",
    "Df_City['Acknowledgement State/Province'].fillna(\"NA\",inplace=True)\n",
    "Df_City['Acknowledgement City'].fillna(\"NA\",inplace=True)\n",
    "\n",
    "Df_City.drop_duplicates(inplace=True)\n",
    "Df_City_Summary=Df_City.groupby(['Acknowledgement State/Province','Acknowledgement City']).agg(f)\n",
    "Df_City_Summary.reset_index(inplace=True)\n",
    "\n",
    "Df_City_Summary.columns=Df_City_Summary.columns.get_level_values(0)\n",
    "\n",
    "Df_City_Summary=Df_City_Summary.sort_values(by=['VANID'],ascending=False)\n",
    "Df_City_Summary['ID Pctg']=Df_City_Summary['VANID'].apply(lambda x: x/sum(Df_City_Summary['VANID']))\n",
    "Df_City_Summary['Donation Pctg']=Df_City_Summary['Amount'].apply(lambda x: x/sum(Df_City_Summary['Amount']))\n",
    "Df_City_Summary.to_excel(writer,\"City\",index=False)\n",
    "# Df_City_Summary_2=Df_City_Summary.sort_values(by=['Amount'],ascending=False)\n",
    "# Df_City_Summary_2.to_excel(writer,\"City_2\")\n",
    "len(Df_City['VANID'].unique())"
   ]
  },
  {
   "cell_type": "code",
   "execution_count": 95,
   "metadata": {},
   "outputs": [
    {
     "name": "stderr",
     "output_type": "stream",
     "text": [
      "/usr/local/lib/python3.6/site-packages/ipykernel_launcher.py:3: SettingWithCopyWarning: \n",
      "A value is trying to be set on a copy of a slice from a DataFrame.\n",
      "Try using .loc[row_indexer,col_indexer] = value instead\n",
      "\n",
      "See the caveats in the documentation: http://pandas.pydata.org/pandas-docs/stable/indexing.html#indexing-view-versus-copy\n",
      "  This is separate from the ipykernel package so we can avoid doing imports until\n",
      "/usr/local/lib/python3.6/site-packages/ipykernel_launcher.py:4: SettingWithCopyWarning: \n",
      "A value is trying to be set on a copy of a slice from a DataFrame.\n",
      "Try using .loc[row_indexer,col_indexer] = value instead\n",
      "\n",
      "See the caveats in the documentation: http://pandas.pydata.org/pandas-docs/stable/indexing.html#indexing-view-versus-copy\n",
      "  after removing the cwd from sys.path.\n",
      "/usr/local/lib/python3.6/site-packages/ipykernel_launcher.py:5: SettingWithCopyWarning: \n",
      "A value is trying to be set on a copy of a slice from a DataFrame.\n",
      "Try using .loc[row_indexer,col_indexer] = value instead\n",
      "\n",
      "See the caveats in the documentation: http://pandas.pydata.org/pandas-docs/stable/indexing.html#indexing-view-versus-copy\n",
      "  \"\"\"\n",
      "/usr/local/lib/python3.6/site-packages/pandas/core/generic.py:3660: SettingWithCopyWarning: \n",
      "A value is trying to be set on a copy of a slice from a DataFrame\n",
      "\n",
      "See the caveats in the documentation: http://pandas.pydata.org/pandas-docs/stable/indexing.html#indexing-view-versus-copy\n",
      "  self._update_inplace(new_data)\n",
      "/usr/local/lib/python3.6/site-packages/ipykernel_launcher.py:8: SettingWithCopyWarning: \n",
      "A value is trying to be set on a copy of a slice from a DataFrame.\n",
      "Try using .loc[row_indexer,col_indexer] = value instead\n",
      "\n",
      "See the caveats in the documentation: http://pandas.pydata.org/pandas-docs/stable/indexing.html#indexing-view-versus-copy\n",
      "  \n",
      "/usr/local/lib/python3.6/site-packages/ipykernel_launcher.py:9: SettingWithCopyWarning: \n",
      "A value is trying to be set on a copy of a slice from a DataFrame.\n",
      "Try using .loc[row_indexer,col_indexer] = value instead\n",
      "\n",
      "See the caveats in the documentation: http://pandas.pydata.org/pandas-docs/stable/indexing.html#indexing-view-versus-copy\n",
      "  if __name__ == '__main__':\n"
     ]
    },
    {
     "data": {
      "text/plain": [
       "307437"
      ]
     },
     "execution_count": 95,
     "metadata": {},
     "output_type": "execute_result"
    }
   ],
   "source": [
    "f = {'VANID':[count_unique], 'Amount':['sum']}\n",
    "Df_Zip=data_sub[['VANID','Date Received','Amount','Acknowledgement Zip/Postal','Acknowledgement State/Province']]\n",
    "Df_Zip['Acknowledgement Zip/Postal']=Df_Zip['Acknowledgement Zip/Postal'].astype(str)\n",
    "Df_Zip['Acknowledgement Zip/Postal']=Df_Zip['Acknowledgement Zip/Postal'].apply(lambda x: x.split('-')[0])\n",
    "Df_Zip['Acknowledgement Zip/Postal']=np.where(Df_Zip['Acknowledgement Zip/Postal']=='nan','99999',Df_Zip['Acknowledgement Zip/Postal'])\n",
    "\n",
    "Df_Zip['Acknowledgement Zip/Postal'].fillna(\"99999\",inplace=True)\n",
    "Df_Zip['Acknowledgement Zip/Postal']=Df_Zip['Acknowledgement Zip/Postal'].apply(lambda x: x.split('.')[0])\n",
    "Df_Zip['Zip_len']=Df_Zip['Acknowledgement Zip/Postal'].apply(lambda x: len(x))\n",
    "Df_Zip=Df_Zip[Df_Zip['Zip_len']<=5]\n",
    "\n",
    "Df_Zip['Acknowledgement Zip/Postal']=Df_Zip['Acknowledgement Zip/Postal'].astype(int)\n",
    "Df_Zip['Acknowledgement Zip/Postal']=Df_Zip['Acknowledgement Zip/Postal'].astype(str)\n",
    "Df_Zip['Acknowledgement Zip/Postal']=np.where(len(Df_Zip['Acknowledgement Zip/Postal'])==1,\"0000\"+Df_Zip['Acknowledgement Zip/Postal'],\n",
    "np.where(len(Df_Zip['Acknowledgement Zip/Postal'])==2,\"000\"+Df_Zip['Acknowledgement Zip/Postal'],\n",
    "                                                np.where(len(Df_Zip['Acknowledgement Zip/Postal'])==3,\"00\"+Df_Zip['Acknowledgement Zip/Postal'],\n",
    "                                                                                             np.where(len(Df_Zip['Acknowledgement Zip/Postal'])==4,\"0\"+Df_Zip['Acknowledgement Zip/Postal'],Df_Zip['Acknowledgement Zip/Postal']\n",
    "                                                                                                     ))))\n",
    "\n",
    "Df_Zip['Acknowledgement Zip/Postal']=np.where(Df_Zip['Acknowledgement Zip/Postal']=='99999','NA',Df_Zip['Acknowledgement Zip/Postal'])\n",
    "\n",
    "Df_Zip.drop_duplicates(inplace=True)\n",
    "Df_Zip_Summary=Df_Zip.groupby('Acknowledgement Zip/Postal').agg(f)\n",
    "Df_Zip_Summary.reset_index(inplace=True)\n",
    "Df_Zip_Summary.columns=Df_Zip_Summary.columns.get_level_values(0)\n",
    "Df_Zip_Summary=Df_Zip_Summary.sort_values(by=['VANID'],ascending=False)\n",
    "Df_Zip_Summary['ID Pctg']=Df_Zip_Summary['VANID'].apply(lambda x: x/sum(Df_Zip_Summary['VANID']))\n",
    "Df_Zip_Summary['Donation Pctg']=Df_Zip_Summary['Amount'].apply(lambda x: x/sum(Df_Zip_Summary['Amount']))\n",
    "Df_Zip_Summary.to_excel(writer,\"Zip\",index=False)\n",
    "\n",
    "# Df_Zip_Summary_2=Df_Zip_Summary.sort_values(by=['Amount'],ascending=False)\n",
    "# Df_Zip_Summary_2.to_excel(writer,\"Zip_2\")\n",
    "len(Df_Zip['VANID'].unique())"
   ]
  },
  {
   "cell_type": "code",
   "execution_count": 96,
   "metadata": {},
   "outputs": [
    {
     "data": {
      "text/plain": [
       "21071"
      ]
     },
     "execution_count": 96,
     "metadata": {},
     "output_type": "execute_result"
    }
   ],
   "source": [
    "len(Df_Zip['Acknowledgement Zip/Postal'].unique())"
   ]
  },
  {
   "cell_type": "code",
   "execution_count": 98,
   "metadata": {},
   "outputs": [
    {
     "name": "stderr",
     "output_type": "stream",
     "text": [
      "/usr/local/lib/python3.6/site-packages/pandas/core/generic.py:3660: SettingWithCopyWarning: \n",
      "A value is trying to be set on a copy of a slice from a DataFrame\n",
      "\n",
      "See the caveats in the documentation: http://pandas.pydata.org/pandas-docs/stable/indexing.html#indexing-view-versus-copy\n",
      "  self._update_inplace(new_data)\n",
      "/usr/local/lib/python3.6/site-packages/ipykernel_launcher.py:4: SettingWithCopyWarning: \n",
      "A value is trying to be set on a copy of a slice from a DataFrame\n",
      "\n",
      "See the caveats in the documentation: http://pandas.pydata.org/pandas-docs/stable/indexing.html#indexing-view-versus-copy\n",
      "  after removing the cwd from sys.path.\n"
     ]
    },
    {
     "data": {
      "text/plain": [
       "307438"
      ]
     },
     "execution_count": 98,
     "metadata": {},
     "output_type": "execute_result"
    }
   ],
   "source": [
    "f = {'VANID':[count_unique], 'Amount':['sum']}\n",
    "Df_Activist=data_sub[['VANID','Date Received','Amount','ActivistCodeType','ActivistCodeName']]\n",
    "Df_Activist['ActivistCodeName'].fillna(\"NA\",inplace=True)\n",
    "Df_Activist.drop_duplicates(inplace=True)\n",
    "Df_Activist_Summary=Df_Activist.groupby(['ActivistCodeType','ActivistCodeName']).agg(f)\n",
    "Df_Activist_Summary.reset_index(inplace=True)\n",
    "Df_Activist_Summary.columns=Df_Activist_Summary.columns.get_level_values(0)\n",
    "Df_Activist_Summary=Df_Activist_Summary.sort_values(by=['VANID'],ascending=False)\n",
    "Df_Activist_Summary['ID Pctg']=Df_Activist_Summary['VANID'].apply(lambda x: x/sum(Df_Activist_Summary['VANID']))\n",
    "Df_Activist_Summary['Donation Pctg']=Df_Activist_Summary['Amount'].apply(lambda x: x/sum(Df_Activist_Summary['Amount']))\n",
    "Df_Activist_Summary=pd.merge(Df_Activist_Summary,source_list,on='ActivistCodeName',how='left')\n",
    "\n",
    "\n",
    "Df_Activist_Summary.to_excel(writer,\"Activist_Name\",index=False)\n",
    "# Df_Activist_Summary_2=Df_Activist_Summary.sort_values(by=['Amount'],ascending=False)\n",
    "# Df_Activist_Summary_2.to_excel(writer,\"Activist_Name_2\")\n",
    "len(Df_Activist['VANID'].unique())"
   ]
  },
  {
   "cell_type": "code",
   "execution_count": 99,
   "metadata": {},
   "outputs": [
    {
     "name": "stderr",
     "output_type": "stream",
     "text": [
      "/usr/local/lib/python3.6/site-packages/pandas/core/generic.py:3660: SettingWithCopyWarning: \n",
      "A value is trying to be set on a copy of a slice from a DataFrame\n",
      "\n",
      "See the caveats in the documentation: http://pandas.pydata.org/pandas-docs/stable/indexing.html#indexing-view-versus-copy\n",
      "  self._update_inplace(new_data)\n",
      "/usr/local/lib/python3.6/site-packages/ipykernel_launcher.py:4: SettingWithCopyWarning: \n",
      "A value is trying to be set on a copy of a slice from a DataFrame\n",
      "\n",
      "See the caveats in the documentation: http://pandas.pydata.org/pandas-docs/stable/indexing.html#indexing-view-versus-copy\n",
      "  after removing the cwd from sys.path.\n"
     ]
    },
    {
     "data": {
      "text/plain": [
       "307438"
      ]
     },
     "execution_count": 99,
     "metadata": {},
     "output_type": "execute_result"
    }
   ],
   "source": [
    "f = {'VANID':[count_unique], 'Amount':['sum']}\n",
    "Df_Activist_Code=data_sub[['VANID','Date Received','Amount','ActivistCodeType']]\n",
    "Df_Activist_Code['ActivistCodeType'].fillna(\"NA\",inplace=True)\n",
    "Df_Activist_Code.drop_duplicates(inplace=True)\n",
    "Df_Activist_Code_Summary=Df_Activist_Code.groupby('ActivistCodeType').agg(f)\n",
    "Df_Activist_Code_Summary.reset_index(inplace=True)\n",
    "Df_Activist_Code_Summary.columns=Df_Activist_Code_Summary.columns.get_level_values(0)\n",
    "Df_Activist_Code_Summary=Df_Activist_Code_Summary.sort_values(by=['VANID'],ascending=False)\n",
    "Df_Activist_Code_Summary['ID Pctg']=Df_Activist_Code_Summary['VANID'].apply(lambda x: x/sum(Df_Activist_Code_Summary['VANID']))\n",
    "Df_Activist_Code_Summary['Donation Pctg']=Df_Activist_Code_Summary['Amount'].apply(lambda x: x/sum(Df_Activist_Code_Summary['Amount']))\n",
    "Df_Activist_Code_Summary.to_excel(writer,\"Activist_Type\",index=False)\n",
    "# Df_Activist_Code_Summary_2=Df_Activist_Code_Summary.sort_values(by=['Amount'],ascending=False)\n",
    "# Df_Activist_Code_Summary_2.to_excel(writer,\"Activist_Type_2\")\n",
    "len(Df_Activist_Code['VANID'].unique())"
   ]
  },
  {
   "cell_type": "code",
   "execution_count": 100,
   "metadata": {
    "collapsed": true
   },
   "outputs": [],
   "source": [
    "writer.save()"
   ]
  },
  {
   "cell_type": "code",
   "execution_count": null,
   "metadata": {
    "collapsed": true
   },
   "outputs": [],
   "source": []
  },
  {
   "cell_type": "code",
   "execution_count": null,
   "metadata": {
    "collapsed": true
   },
   "outputs": [],
   "source": []
  }
 ],
 "metadata": {
  "kernelspec": {
   "display_name": "Python 3",
   "language": "python",
   "name": "python3"
  },
  "language_info": {
   "codemirror_mode": {
    "name": "ipython",
    "version": 3
   },
   "file_extension": ".py",
   "mimetype": "text/x-python",
   "name": "python",
   "nbconvert_exporter": "python",
   "pygments_lexer": "ipython3",
   "version": "3.6.1"
  }
 },
 "nbformat": 4,
 "nbformat_minor": 2
}
