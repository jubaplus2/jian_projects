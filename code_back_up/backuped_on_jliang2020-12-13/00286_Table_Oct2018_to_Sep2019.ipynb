{
 "cells": [
  {
   "cell_type": "code",
   "execution_count": 1,
   "metadata": {},
   "outputs": [
    {
     "data": {
      "text/plain": [
       "'/home/jian/Projects/Big_Lots/Analysis/2019_Q4/Loyalty_Health'"
      ]
     },
     "execution_count": 1,
     "metadata": {},
     "output_type": "execute_result"
    }
   ],
   "source": [
    "# scoring as up to the day of 2018-10-01\n",
    "# Track the sales from 2018-10-01 to 2019-09-30\n",
    "# Need to rerun\n",
    "\n",
    "import pandas as pd\n",
    "import numpy as np\n",
    "import datetime\n",
    "import os\n",
    "import logging\n",
    "import glob\n",
    "import gc\n",
    "pd.options.display.max_columns=99\n",
    "os.getcwd()"
   ]
  },
  {
   "cell_type": "code",
   "execution_count": 2,
   "metadata": {
    "collapsed": true
   },
   "outputs": [],
   "source": [
    "def recursive_file_gen(root_folder):\n",
    "    for root, dirs, files in os.walk(root_folder):\n",
    "        for file in files:\n",
    "            yield os.path.join(root, file)"
   ]
  },
  {
   "cell_type": "code",
   "execution_count": 3,
   "metadata": {},
   "outputs": [
    {
     "name": "stdout",
     "output_type": "stream",
     "text": [
      "Lapsed Start on: 2017-04-03\n",
      "Active Start on: 2017-10-02\n",
      "Store Allocation Starting on: 2017-04-03\n",
      "Last Saturday: 2018-09-30\n"
     ]
    }
   ],
   "source": [
    "lastdate_date=datetime.date(2018,9,30) # Last day\n",
    "active_Sunday=str(lastdate_date-datetime.timedelta(days=52*7-1))\n",
    "\n",
    "lapsed_Sunday=str(lastdate_date-datetime.timedelta(days=52*7*1.5-1))\n",
    "Beginning_18_months_ago=str(lastdate_date-datetime.timedelta(days=52*7*1.5-1))\n",
    "\n",
    "lastdate=str(lastdate_date)\n",
    "print(\"Lapsed Start on: \"+lapsed_Sunday) #>=\n",
    "print(\"Active Start on: \"+active_Sunday) #>=\n",
    "print(\"Store Allocation Starting on: \"+Beginning_18_months_ago) #>=\n",
    "print(\"Last Saturday: \"+lastdate) #<="
   ]
  },
  {
   "cell_type": "code",
   "execution_count": 4,
   "metadata": {
    "collapsed": true
   },
   "outputs": [],
   "source": [
    "historical_subclass_files=glob.glob(\"/home/jian/BigLots/hist_daily_data_subclasslevel/*.txt\")\n",
    "historical_item_files=glob.glob(\"/home/jian/BigLots/hist_daily_data_itemlevel_decompressed/*.txt\")\n",
    "\n",
    "daily_item_files_2019=list(recursive_file_gen(\"/home/jian/BigLots/2019_by_weeks/\"))\n",
    "daily_item_files_2019=[x for x in daily_item_files_2019 if x[-4:]==\".txt\" and \"daily\" in x.lower()]\n",
    "\n",
    "daily_subclass_files_2018=list(recursive_file_gen(\"/home/jian/BigLots/2018_by_weeks/\"))\n",
    "daily_subclass_files_2018=[x for x in daily_subclass_files_2018 if x[-4:]==\".txt\" and \"daily\" in x.lower()]\n",
    "\n",
    "historical_subclass_files.sort()\n",
    "historical_item_files.sort()\n",
    "daily_item_files_2019.sort()\n",
    "daily_subclass_files_2018.sort()\n"
   ]
  },
  {
   "cell_type": "code",
   "execution_count": 5,
   "metadata": {},
   "outputs": [
    {
     "data": {
      "text/plain": [
       "'\\ndf=pd.read_table(historical_subclass_files[-1],dtype=str,sep=\"|\",usecols=[\\'transaction_dt\\'])\\nprint(\"max_date_subclass: \"+str(df[\\'transaction_dt\\'].max()))\\ndel df\\ngc.collect()\\n'"
      ]
     },
     "execution_count": 5,
     "metadata": {},
     "output_type": "execute_result"
    }
   ],
   "source": [
    "# Piece 1: subclass 2017-04-16 to 2018-06-09\n",
    "historical_subclass_files=[x for x in historical_subclass_files if x.split(\"_week_ending_\")[1][:10]>=lapsed_Sunday]\n",
    "'''\n",
    "df=pd.read_table(historical_subclass_files[0],dtype=str,sep=\"|\",usecols=['transaction_dt'])\n",
    "print(\"min_date_subclass: \"+str(df['transaction_dt'].min()))\n",
    "del df\n",
    "gc.collect()\n",
    "'''\n",
    "# historical subclass -- min_date_subclass: 2018-04-15\n",
    "\n",
    "\n",
    "'''\n",
    "df=pd.read_table(historical_subclass_files[-1],dtype=str,sep=\"|\",usecols=['transaction_dt'])\n",
    "print(\"max_date_subclass: \"+str(df['transaction_dt'].max()))\n",
    "del df\n",
    "gc.collect()\n",
    "'''\n",
    "# historical subclass -- max_date_subclass: 2018-06-09\n"
   ]
  },
  {
   "cell_type": "code",
   "execution_count": 6,
   "metadata": {},
   "outputs": [
    {
     "data": {
      "text/plain": [
       "'\\ndf=pd.read_table(daily_subclass_files_2018[-1],dtype=str,sep=\"|\",usecols=[\\'transaction_dt\\'])\\nprint(\"max_date_daily_subclass: \"+str(df[\\'transaction_dt\\'].max()))\\ndel df\\ngc.collect()\\n'"
      ]
     },
     "execution_count": 6,
     "metadata": {},
     "output_type": "execute_result"
    }
   ],
   "source": [
    "# Piece 2: subclass 2018-06-10 to 2018-08-04\n",
    "'''\n",
    "df=pd.read_table(historical_item_files[0],dtype=str,sep=\"|\",usecols=['transaction_dt'])\n",
    "print(\"min_date_historical_item: \"+str(df['transaction_dt'].min()))\n",
    "del df\n",
    "gc.collect()\n",
    "'''\n",
    "# historical item -- min_date_historical_item: 2018-08-05\n",
    "daily_subclass_files_2018=[x for x in daily_subclass_files_2018 if x.split(\"eks/MediaStorm_\")[1][:10]>\"2018-06-09\"]\n",
    "daily_subclass_files_2018=[x for x in daily_subclass_files_2018 if x.split(\"eks/MediaStorm_\")[1][:10]<\"2018-08-05\"]\n",
    "\n",
    "\n",
    "\n",
    "# QC the daily subclass 2018 data range\n",
    "'''\n",
    "df=pd.read_table(daily_subclass_files_2018[0],dtype=str,sep=\"|\",usecols=['transaction_dt'])\n",
    "print(\"min_date_daily_subclass: \"+str(df['transaction_dt'].min()))\n",
    "del df\n",
    "gc.collect()\n",
    "'''\n",
    "# min_date_daily_subclass: 2018-06-10\n",
    "\n",
    "'''\n",
    "df=pd.read_table(daily_subclass_files_2018[-1],dtype=str,sep=\"|\",usecols=['transaction_dt'])\n",
    "print(\"max_date_daily_subclass: \"+str(df['transaction_dt'].max()))\n",
    "del df\n",
    "gc.collect()\n",
    "'''\n",
    "# max_date_daily_subclass: 2018-08-04\n"
   ]
  },
  {
   "cell_type": "code",
   "execution_count": 7,
   "metadata": {},
   "outputs": [
    {
     "data": {
      "text/plain": [
       "'\\ndf=pd.read_table(historical_item_files[-1],dtype=str,sep=\"|\",usecols=[\\'transaction_dt\\'])\\nprint(\"max_date_historical_item: \"+str(df[\\'transaction_dt\\'].max()))\\ndel df\\ngc.collect()\\n'"
      ]
     },
     "execution_count": 7,
     "metadata": {},
     "output_type": "execute_result"
    }
   ],
   "source": [
    "# Piece 3: item 2018-08-05 to 2019-02-09\n",
    "\n",
    "historical_item_files=[x for x in historical_item_files if x.split(\"MediaStormDailySalesHistory\")[1][:8]<=\"20181006\"]\n",
    "\n",
    "\n",
    "'''\n",
    "df=pd.read_table(historical_item_files[0],dtype=str,sep=\"|\",usecols=['transaction_dt'])\n",
    "print(\"min_date_historical_item: \"+str(df['transaction_dt'].min()))\n",
    "del df\n",
    "gc.collect()\n",
    "'''\n",
    "# min_date_historical_item: 2018-08-05\n",
    "\n",
    "'''\n",
    "df=pd.read_table(historical_item_files[-1],dtype=str,sep=\"|\",usecols=['transaction_dt'])\n",
    "print(\"max_date_historical_item: \"+str(df['transaction_dt'].max()))\n",
    "del df\n",
    "gc.collect()\n",
    "'''\n",
    "# max_date_historical_item: 2019-02-09"
   ]
  },
  {
   "cell_type": "code",
   "execution_count": 8,
   "metadata": {},
   "outputs": [
    {
     "name": "stdout",
     "output_type": "stream",
     "text": [
      "79\n"
     ]
    }
   ],
   "source": [
    "list_all_files=historical_subclass_files+daily_subclass_files_2018+historical_item_files\n",
    "print(len(list_all_files))\n",
    "# list_all_files"
   ]
  },
  {
   "cell_type": "code",
   "execution_count": 9,
   "metadata": {
    "scrolled": true
   },
   "outputs": [
    {
     "name": "stdout",
     "output_type": "stream",
     "text": [
      "0 2017-04-02 2017-04-08 2019-11-12 18:22:53.294008 /home/jian/BigLots/hist_daily_data_subclasslevel/MediaStormDailySales_week_ending_2017-04-08.txt\n",
      "1 2017-04-09 2017-04-15 2019-11-12 18:23:36.592387 /home/jian/BigLots/hist_daily_data_subclasslevel/MediaStormDailySales_week_ending_2017-04-15.txt\n",
      "2 2017-04-16 2017-04-22 2019-11-12 18:24:11.347530 /home/jian/BigLots/hist_daily_data_subclasslevel/MediaStormDailySales_week_ending_2017-04-22.txt\n",
      "3 2017-04-23 2017-04-29 2019-11-12 18:24:57.201827 /home/jian/BigLots/hist_daily_data_subclasslevel/MediaStormDailySales_week_ending_2017-04-29.txt\n",
      "4 2017-04-30 2017-05-06 2019-11-12 18:25:39.400161 /home/jian/BigLots/hist_daily_data_subclasslevel/MediaStormDailySales_week_ending_2017-05-06.txt\n",
      "5 2017-05-07 2017-05-13 2019-11-12 18:26:21.412892 /home/jian/BigLots/hist_daily_data_subclasslevel/MediaStormDailySales_week_ending_2017-05-13.txt\n",
      "6 2017-05-14 2017-05-20 2019-11-12 18:26:59.900644 /home/jian/BigLots/hist_daily_data_subclasslevel/MediaStormDailySales_week_ending_2017-05-20.txt\n",
      "7 2017-05-21 2017-05-27 2019-11-12 18:27:43.934952 /home/jian/BigLots/hist_daily_data_subclasslevel/MediaStormDailySales_week_ending_2017-05-27.txt\n",
      "8 2017-05-28 2017-06-03 2019-11-12 18:28:26.661895 /home/jian/BigLots/hist_daily_data_subclasslevel/MediaStormDailySales_week_ending_2017-06-03.txt\n",
      "9 2017-06-04 2017-06-10 2019-11-12 18:29:06.755766 /home/jian/BigLots/hist_daily_data_subclasslevel/MediaStormDailySales_week_ending_2017-06-10.txt\n",
      "10 2017-06-11 2017-06-17 2019-11-12 18:29:48.419217 /home/jian/BigLots/hist_daily_data_subclasslevel/MediaStormDailySales_week_ending_2017-06-17.txt\n",
      "11 2017-06-18 2017-06-24 2019-11-12 18:30:27.148137 /home/jian/BigLots/hist_daily_data_subclasslevel/MediaStormDailySales_week_ending_2017-06-24.txt\n",
      "12 2017-06-25 2017-07-01 2019-11-12 18:31:12.370192 /home/jian/BigLots/hist_daily_data_subclasslevel/MediaStormDailySales_week_ending_2017-07-01.txt\n",
      "13 2017-07-02 2017-07-08 2019-11-12 18:32:15.253586 /home/jian/BigLots/hist_daily_data_subclasslevel/MediaStormDailySales_week_ending_2017-07-08.txt\n",
      "14 2017-07-09 2017-07-15 2019-11-12 18:33:03.762838 /home/jian/BigLots/hist_daily_data_subclasslevel/MediaStormDailySales_week_ending_2017-07-15.txt\n",
      "15 2017-07-16 2017-07-22 2019-11-12 18:33:42.263169 /home/jian/BigLots/hist_daily_data_subclasslevel/MediaStormDailySales_week_ending_2017-07-22.txt\n",
      "16 2017-07-23 2017-07-29 2019-11-12 18:34:18.844572 /home/jian/BigLots/hist_daily_data_subclasslevel/MediaStormDailySales_week_ending_2017-07-29.txt\n",
      "17 2017-07-30 2017-08-05 2019-11-12 18:34:56.659823 /home/jian/BigLots/hist_daily_data_subclasslevel/MediaStormDailySales_week_ending_2017-08-05.txt\n",
      "18 2017-08-06 2017-08-12 2019-11-12 18:35:38.794328 /home/jian/BigLots/hist_daily_data_subclasslevel/MediaStormDailySales_week_ending_2017-08-12.txt\n",
      "19 2017-08-13 2017-08-19 2019-11-12 18:36:27.915688 /home/jian/BigLots/hist_daily_data_subclasslevel/MediaStormDailySales_week_ending_2017-08-19.txt\n",
      "20 2017-08-20 2017-08-26 2019-11-12 18:37:16.313275 /home/jian/BigLots/hist_daily_data_subclasslevel/MediaStormDailySales_week_ending_2017-08-26.txt\n",
      "21 2017-08-27 2017-09-02 2019-11-12 18:38:13.078727 /home/jian/BigLots/hist_daily_data_subclasslevel/MediaStormDailySales_week_ending_2017-09-02.txt\n",
      "22 2017-09-03 2017-09-09 2019-11-12 18:39:10.375858 /home/jian/BigLots/hist_daily_data_subclasslevel/MediaStormDailySales_week_ending_2017-09-09.txt\n",
      "23 2017-09-10 2017-09-16 2019-11-12 18:39:56.265121 /home/jian/BigLots/hist_daily_data_subclasslevel/MediaStormDailySales_week_ending_2017-09-16.txt\n",
      "24 2017-09-17 2017-09-23 2019-11-12 18:40:41.828282 /home/jian/BigLots/hist_daily_data_subclasslevel/MediaStormDailySales_week_ending_2017-09-23.txt\n",
      "25 2017-09-24 2017-09-30 2019-11-12 18:41:49.619722 /home/jian/BigLots/hist_daily_data_subclasslevel/MediaStormDailySales_week_ending_2017-09-30.txt\n",
      "26 2017-10-01 2017-10-07 2019-11-12 18:42:50.297387 /home/jian/BigLots/hist_daily_data_subclasslevel/MediaStormDailySales_week_ending_2017-10-07.txt\n",
      "27 2017-10-08 2017-10-14 2019-11-12 18:43:32.109572 /home/jian/BigLots/hist_daily_data_subclasslevel/MediaStormDailySales_week_ending_2017-10-14.txt\n",
      "28 2017-10-15 2017-10-21 2019-11-12 18:44:19.065024 /home/jian/BigLots/hist_daily_data_subclasslevel/MediaStormDailySales_week_ending_2017-10-21.txt\n",
      "29 2017-10-22 2017-10-28 2019-11-12 18:45:14.187981 /home/jian/BigLots/hist_daily_data_subclasslevel/MediaStormDailySales_week_ending_2017-10-28.txt\n",
      "30 2017-10-29 2017-11-04 2019-11-12 18:46:28.432062 /home/jian/BigLots/hist_daily_data_subclasslevel/MediaStormDailySales_week_ending_2017-11-04.txt\n",
      "31 2017-11-05 2017-11-11 2019-11-12 18:48:01.123813 /home/jian/BigLots/hist_daily_data_subclasslevel/MediaStormDailySales_week_ending_2017-11-11.txt\n",
      "32 2017-11-12 2017-11-18 2019-11-12 18:49:22.212306 /home/jian/BigLots/hist_daily_data_subclasslevel/MediaStormDailySales_week_ending_2017-11-18.txt\n",
      "33 2017-11-19 2017-11-25 2019-11-12 18:51:08.121417 /home/jian/BigLots/hist_daily_data_subclasslevel/MediaStormDailySales_week_ending_2017-11-25.txt\n",
      "34 2017-11-26 2017-12-02 2019-11-12 18:53:00.067482 /home/jian/BigLots/hist_daily_data_subclasslevel/MediaStormDailySales_week_ending_2017-12-02.txt\n",
      "35 2017-12-03 2017-12-09 2019-11-12 18:54:53.384216 /home/jian/BigLots/hist_daily_data_subclasslevel/MediaStormDailySales_week_ending_2017-12-09.txt\n",
      "36 2017-12-10 2017-12-16 2019-11-12 18:56:52.246324 /home/jian/BigLots/hist_daily_data_subclasslevel/MediaStormDailySales_week_ending_2017-12-16.txt\n",
      "37 2017-12-17 2017-12-23 2019-11-12 18:58:54.674966 /home/jian/BigLots/hist_daily_data_subclasslevel/MediaStormDailySales_week_ending_2017-12-23.txt\n",
      "38 2017-12-24 2017-12-30 2019-11-12 18:59:37.190687 /home/jian/BigLots/hist_daily_data_subclasslevel/MediaStormDailySales_week_ending_2017-12-30.txt\n",
      "39 2017-12-31 2018-01-06 2019-11-12 19:00:13.510220 /home/jian/BigLots/hist_daily_data_subclasslevel/MediaStormDailySales_week_ending_2018-01-06.txt\n",
      "40 2018-01-07 2018-01-13 2019-11-12 19:00:56.251664 /home/jian/BigLots/hist_daily_data_subclasslevel/MediaStormDailySales_week_ending_2018-01-13.txt\n",
      "41 2018-01-14 2018-01-20 2019-11-12 19:01:53.782043 /home/jian/BigLots/hist_daily_data_subclasslevel/MediaStormDailySales_week_ending_2018-01-20.txt\n",
      "42 2018-01-21 2018-01-27 2019-11-12 19:02:47.148765 /home/jian/BigLots/hist_daily_data_subclasslevel/MediaStormDailySales_week_ending_2018-01-27.txt\n",
      "43 2018-01-28 2018-02-03 2019-11-12 19:03:30.659693 /home/jian/BigLots/hist_daily_data_subclasslevel/MediaStormDailySales_week_ending_2018-02-03.txt\n",
      "44 2018-02-04 2018-02-10 2019-11-12 19:04:14.434012 /home/jian/BigLots/hist_daily_data_subclasslevel/MediaStormDailySales_week_ending_2018-02-10.txt\n",
      "45 2018-02-11 2018-02-17 2019-11-12 19:05:03.279740 /home/jian/BigLots/hist_daily_data_subclasslevel/MediaStormDailySales_week_ending_2018-02-17.txt\n",
      "46 2018-02-18 2018-02-24 2019-11-12 19:05:55.152469 /home/jian/BigLots/hist_daily_data_subclasslevel/MediaStormDailySales_week_ending_2018-02-24.txt\n",
      "47 2018-02-25 2018-03-03 2019-11-12 19:06:48.454647 /home/jian/BigLots/hist_daily_data_subclasslevel/MediaStormDailySales_week_ending_2018-03-03.txt\n",
      "48 2018-03-04 2018-03-10 2019-11-12 19:07:39.106491 /home/jian/BigLots/hist_daily_data_subclasslevel/MediaStormDailySales_week_ending_2018-03-10.txt\n",
      "49 2018-03-11 2018-03-17 2019-11-12 19:08:30.051735 /home/jian/BigLots/hist_daily_data_subclasslevel/MediaStormDailySales_week_ending_2018-03-17.txt\n",
      "50 2018-03-18 2018-03-24 2019-11-12 19:09:18.489785 /home/jian/BigLots/hist_daily_data_subclasslevel/MediaStormDailySales_week_ending_2018-03-24.txt\n",
      "51 2018-03-25 2018-03-31 2019-11-12 19:10:15.094596 /home/jian/BigLots/hist_daily_data_subclasslevel/MediaStormDailySales_week_ending_2018-03-31.txt\n",
      "52 2018-04-01 2018-04-07 2019-11-12 19:11:21.961874 /home/jian/BigLots/hist_daily_data_subclasslevel/MediaStormDailySales_week_ending_2018-04-07.txt\n",
      "53 2018-04-08 2018-04-14 2019-11-12 19:12:27.453720 /home/jian/BigLots/hist_daily_data_subclasslevel/MediaStormDailySales_week_ending_2018-04-14.txt\n",
      "54 2018-04-15 2018-04-21 2019-11-12 19:13:11.671296 /home/jian/BigLots/hist_daily_data_subclasslevel/MediaStormDailySales_week_ending_2018-04-21.txt\n",
      "55 2018-04-22 2018-04-28 2019-11-12 19:13:59.595127 /home/jian/BigLots/hist_daily_data_subclasslevel/MediaStormDailySales_week_ending_2018-04-28.txt\n"
     ]
    },
    {
     "name": "stdout",
     "output_type": "stream",
     "text": [
      "56 2018-04-29 2018-05-05 2019-11-12 19:14:56.876952 /home/jian/BigLots/hist_daily_data_subclasslevel/MediaStormDailySales_week_ending_2018-05-05.txt\n",
      "57 2018-05-06 2018-05-12 2019-11-12 19:15:46.607926 /home/jian/BigLots/hist_daily_data_subclasslevel/MediaStormDailySales_week_ending_2018-05-12.txt\n",
      "58 2018-05-13 2018-05-19 2019-11-12 19:16:32.356598 /home/jian/BigLots/hist_daily_data_subclasslevel/MediaStormDailySales_week_ending_2018-05-19.txt\n",
      "59 2018-05-20 2018-05-26 2019-11-12 19:17:25.218115 /home/jian/BigLots/hist_daily_data_subclasslevel/MediaStormDailySales_week_ending_2018-05-26.txt\n",
      "60 2018-05-27 2018-06-02 2019-11-12 19:18:17.660833 /home/jian/BigLots/hist_daily_data_subclasslevel/MediaStormDailySales_week_ending_2018-06-02.txt\n",
      "61 2018-06-03 2018-06-09 2019-11-12 19:19:07.153382 /home/jian/BigLots/hist_daily_data_subclasslevel/MediaStormDailySales_week_ending_2018-06-09.txt\n",
      "62 2018-06-10 2018-06-16 2019-11-12 19:19:54.866082 /home/jian/BigLots/2018_by_weeks/MediaStorm_2018-06-16/MediaStormDailySales.txt\n",
      "63 2018-06-17 2018-06-23 2019-11-12 19:20:38.017942 /home/jian/BigLots/2018_by_weeks/MediaStorm_2018-06-23/MediaStormDailySales.txt\n",
      "64 2018-06-24 2018-06-30 2019-11-12 19:21:28.068268 /home/jian/BigLots/2018_by_weeks/MediaStorm_2018-06-30/MediaStormDailySales.txt\n",
      "65 2018-07-01 2018-07-07 2019-11-12 19:22:40.907673 /home/jian/BigLots/2018_by_weeks/MediaStorm_2018-07-07/MediaStormDailySales.txt\n",
      "66 2018-07-08 2018-07-14 2019-11-12 19:23:44.358557 /home/jian/BigLots/2018_by_weeks/MediaStorm_2018-07-14/MediaStormDailySales20180717-113630-767.txt\n",
      "67 2018-07-15 2018-07-21 2019-11-12 19:24:35.860583 /home/jian/BigLots/2018_by_weeks/MediaStorm_2018-07-21/MediaStormDailySales20180724-113327-741.txt\n",
      "68 2018-07-22 2018-07-28 2019-11-12 19:25:24.855615 /home/jian/BigLots/2018_by_weeks/MediaStorm_2018-07-28/MediaStormDailySales20180731-111804-489.txt\n",
      "69 2018-07-29 2018-08-04 2019-11-12 19:26:19.408440 /home/jian/BigLots/2018_by_weeks/MediaStorm_2018-08-04/MediaStormDailySales20180807-111637-702.txt\n",
      "70 2018-08-05 2018-08-11 2019-11-12 19:27:22.234467 /home/jian/BigLots/hist_daily_data_itemlevel_decompressed/MediaStormDailySalesHistory20180811.txt\n",
      "71 2018-08-12 2018-08-18 2019-11-12 19:28:28.716677 /home/jian/BigLots/hist_daily_data_itemlevel_decompressed/MediaStormDailySalesHistory20180818.txt\n",
      "72 2018-08-19 2018-08-25 2019-11-12 19:29:34.097420 /home/jian/BigLots/hist_daily_data_itemlevel_decompressed/MediaStormDailySalesHistory20180825.txt\n",
      "73 2018-08-26 2018-09-01 2019-11-12 19:30:37.398015 /home/jian/BigLots/hist_daily_data_itemlevel_decompressed/MediaStormDailySalesHistory20180901.txt\n",
      "74 2018-09-02 2018-09-08 2019-11-12 19:31:43.533819 /home/jian/BigLots/hist_daily_data_itemlevel_decompressed/MediaStormDailySalesHistory20180908.txt\n",
      "75 2018-09-09 2018-09-15 2019-11-12 19:32:46.487202 /home/jian/BigLots/hist_daily_data_itemlevel_decompressed/MediaStormDailySalesHistory20180915.txt\n",
      "76 2018-09-16 2018-09-22 2019-11-12 19:33:47.233449 /home/jian/BigLots/hist_daily_data_itemlevel_decompressed/MediaStormDailySalesHistory20180922.txt\n",
      "77 2018-09-23 2018-09-29 2019-11-12 19:35:06.982407 /home/jian/BigLots/hist_daily_data_itemlevel_decompressed/MediaStormDailySalesHistory20180929.txt\n",
      "78 2018-09-30 2018-10-06 2019-11-12 19:36:22.784286 /home/jian/BigLots/hist_daily_data_itemlevel_decompressed/MediaStormDailySalesHistory20181006.txt\n"
     ]
    }
   ],
   "source": [
    "list_df_transactions_18_months=[]\n",
    "i_counter=0\n",
    "for file in list_all_files:\n",
    "    try:\n",
    "        df=pd.read_table(file,dtype=str,sep=\"|\",usecols=['customer_id_hashed','transaction_dt','transaction_id','location_id','item_transaction_amt'])\n",
    "        df=df.rename(columns={\"item_transaction_amt\":\"sales\"})\n",
    "    except:\n",
    "        df=pd.read_table(file,dtype=str,sep=\"|\",usecols=['customer_id_hashed','transaction_dt','transaction_id','location_id','subclass_transaction_amt'])\n",
    "        df=df.rename(columns={\"subclass_transaction_amt\":\"sales\"})\n",
    "    df=df[pd.notnull(df['customer_id_hashed'])]\n",
    "    df['sales']=df['sales'].astype(float)\n",
    "    df_sales=df.groupby(['customer_id_hashed','transaction_dt'])['sales'].sum().to_frame().reset_index()\n",
    "    \n",
    "    df_trans=df[['customer_id_hashed','transaction_dt','transaction_id','location_id']].drop_duplicates()\n",
    "    df_trans['trans']=1\n",
    "    df_trans=df_trans.groupby(['customer_id_hashed','transaction_dt'])['trans'].sum().to_frame().reset_index()\n",
    "    df=pd.merge(df_sales,df_trans,on=[\"customer_id_hashed\",'transaction_dt'],how=\"outer\")\n",
    "\n",
    "    print(i_counter,df['transaction_dt'].min(),df['transaction_dt'].max(),datetime.datetime.now(),file)\n",
    "    i_counter+=1\n",
    "    list_df_transactions_18_months.append(df)"
   ]
  },
  {
   "cell_type": "code",
   "execution_count": 10,
   "metadata": {},
   "outputs": [
    {
     "data": {
      "text/plain": [
       "0"
      ]
     },
     "execution_count": 10,
     "metadata": {},
     "output_type": "execute_result"
    }
   ],
   "source": [
    "df_transactions_18_months=pd.concat(list_df_transactions_18_months)\n",
    "del list_df_transactions_18_months\n",
    "gc.collect()\n"
   ]
  },
  {
   "cell_type": "code",
   "execution_count": 11,
   "metadata": {},
   "outputs": [
    {
     "data": {
      "text/plain": [
       "(87255633, 4)"
      ]
     },
     "execution_count": 11,
     "metadata": {},
     "output_type": "execute_result"
    }
   ],
   "source": [
    "df_transactions_18_months=df_transactions_18_months[(df_transactions_18_months['transaction_dt']>=str(lapsed_Sunday)) & (df_transactions_18_months['transaction_dt']<=str(lastdate_date))]\n",
    "df_transactions_18_months.shape"
   ]
  },
  {
   "cell_type": "code",
   "execution_count": 12,
   "metadata": {},
   "outputs": [
    {
     "data": {
      "text/html": [
       "<div>\n",
       "<style scoped>\n",
       "    .dataframe tbody tr th:only-of-type {\n",
       "        vertical-align: middle;\n",
       "    }\n",
       "\n",
       "    .dataframe tbody tr th {\n",
       "        vertical-align: top;\n",
       "    }\n",
       "\n",
       "    .dataframe thead th {\n",
       "        text-align: right;\n",
       "    }\n",
       "</style>\n",
       "<table border=\"1\" class=\"dataframe\">\n",
       "  <thead>\n",
       "    <tr style=\"text-align: right;\">\n",
       "      <th></th>\n",
       "      <th>customer_id_hashed</th>\n",
       "      <th>transaction_dt</th>\n",
       "      <th>sales</th>\n",
       "      <th>trans</th>\n",
       "    </tr>\n",
       "  </thead>\n",
       "  <tbody>\n",
       "    <tr>\n",
       "      <th>0</th>\n",
       "      <td>000010e1fda19a1d87e283791f0abfebef1911f771f0b1...</td>\n",
       "      <td>2017-04-04</td>\n",
       "      <td>21.75</td>\n",
       "      <td>1</td>\n",
       "    </tr>\n",
       "    <tr>\n",
       "      <th>1</th>\n",
       "      <td>0000141dbeb91820de94321c672f0a4cf3b763e31739ce...</td>\n",
       "      <td>2017-04-08</td>\n",
       "      <td>27.25</td>\n",
       "      <td>1</td>\n",
       "    </tr>\n",
       "  </tbody>\n",
       "</table>\n",
       "</div>"
      ],
      "text/plain": [
       "                                  customer_id_hashed transaction_dt  sales  \\\n",
       "0  000010e1fda19a1d87e283791f0abfebef1911f771f0b1...     2017-04-04  21.75   \n",
       "1  0000141dbeb91820de94321c672f0a4cf3b763e31739ce...     2017-04-08  27.25   \n",
       "\n",
       "   trans  \n",
       "0      1  \n",
       "1      1  "
      ]
     },
     "execution_count": 12,
     "metadata": {},
     "output_type": "execute_result"
    }
   ],
   "source": [
    "df_transactions_18_months.head(2)"
   ]
  },
  {
   "cell_type": "code",
   "execution_count": 13,
   "metadata": {},
   "outputs": [
    {
     "name": "stdout",
     "output_type": "stream",
     "text": [
      "545 2018-09-30 2017-04-03\n"
     ]
    }
   ],
   "source": [
    "print(df_transactions_18_months['transaction_dt'].nunique(),df_transactions_18_months['transaction_dt'].max(),df_transactions_18_months['transaction_dt'].min())\n"
   ]
  },
  {
   "cell_type": "code",
   "execution_count": 14,
   "metadata": {},
   "outputs": [
    {
     "data": {
      "text/plain": [
       "(18871088, 4)"
      ]
     },
     "execution_count": 14,
     "metadata": {},
     "output_type": "execute_result"
    }
   ],
   "source": [
    "agg_f={\"transaction_dt\":\"max\",\"sales\":\"sum\",\"trans\":\"sum\"}\n",
    "df_sales_by_id=df_transactions_18_months.groupby(\"customer_id_hashed\")['transaction_dt','sales','trans'].agg(agg_f).reset_index()\n",
    "df_sales_by_id=df_sales_by_id.rename(columns={\"transaction_dt\":\"last_trans_date\"})\n",
    "df_sales_by_id.shape"
   ]
  },
  {
   "cell_type": "code",
   "execution_count": 15,
   "metadata": {},
   "outputs": [
    {
     "data": {
      "text/html": [
       "<div>\n",
       "<style scoped>\n",
       "    .dataframe tbody tr th:only-of-type {\n",
       "        vertical-align: middle;\n",
       "    }\n",
       "\n",
       "    .dataframe tbody tr th {\n",
       "        vertical-align: top;\n",
       "    }\n",
       "\n",
       "    .dataframe thead th {\n",
       "        text-align: right;\n",
       "    }\n",
       "</style>\n",
       "<table border=\"1\" class=\"dataframe\">\n",
       "  <thead>\n",
       "    <tr style=\"text-align: right;\">\n",
       "      <th></th>\n",
       "      <th>customer_id_hashed</th>\n",
       "      <th>last_trans_date</th>\n",
       "      <th>sales</th>\n",
       "      <th>trans</th>\n",
       "    </tr>\n",
       "  </thead>\n",
       "  <tbody>\n",
       "    <tr>\n",
       "      <th>0</th>\n",
       "      <td>000001dadc0265bf9d250566d74e0006323f18b5826641...</td>\n",
       "      <td>2018-09-22</td>\n",
       "      <td>58.70</td>\n",
       "      <td>1</td>\n",
       "    </tr>\n",
       "    <tr>\n",
       "      <th>1</th>\n",
       "      <td>000003066bafc6b19c55d3be5fc646a253c659e9e6baea...</td>\n",
       "      <td>2017-11-10</td>\n",
       "      <td>39.99</td>\n",
       "      <td>1</td>\n",
       "    </tr>\n",
       "  </tbody>\n",
       "</table>\n",
       "</div>"
      ],
      "text/plain": [
       "                                  customer_id_hashed last_trans_date  sales  \\\n",
       "0  000001dadc0265bf9d250566d74e0006323f18b5826641...      2018-09-22  58.70   \n",
       "1  000003066bafc6b19c55d3be5fc646a253c659e9e6baea...      2017-11-10  39.99   \n",
       "\n",
       "   trans  \n",
       "0      1  \n",
       "1      1  "
      ]
     },
     "execution_count": 15,
     "metadata": {},
     "output_type": "execute_result"
    }
   ],
   "source": [
    "df_sales_by_id.head(2)"
   ]
  },
  {
   "cell_type": "code",
   "execution_count": 16,
   "metadata": {},
   "outputs": [
    {
     "data": {
      "text/plain": [
       "datetime.date(2018, 9, 30)"
      ]
     },
     "execution_count": 16,
     "metadata": {},
     "output_type": "execute_result"
    }
   ],
   "source": [
    "lastdate_date"
   ]
  },
  {
   "cell_type": "code",
   "execution_count": 17,
   "metadata": {
    "collapsed": true
   },
   "outputs": [],
   "source": [
    "df_sales_by_id['last_trans_date']=pd.to_datetime(df_sales_by_id['last_trans_date'])\n",
    "df_sales_by_id['recency']= lastdate_date - df_sales_by_id['last_trans_date'].dt.date\n",
    "df_sales_by_id['recency']=df_sales_by_id['recency'].apply(lambda x:x.days)\n",
    "df_sales_by_id['recency']=np.ceil((df_sales_by_id['recency']+1)/30)"
   ]
  },
  {
   "cell_type": "code",
   "execution_count": 18,
   "metadata": {
    "collapsed": true
   },
   "outputs": [],
   "source": [
    "df_sales_by_id=df_sales_by_id.sort_values(['trans','recency','sales'],ascending=[0,1,0])\n",
    "df_sales_by_id.reset_index(drop=True, inplace=True)\n",
    "df_sales_by_id.reset_index(inplace=True)\n",
    "df_sales_by_id=df_sales_by_id.rename(columns={'index':'Transindex'})\n",
    "\n",
    "df_sales_by_id=df_sales_by_id.sort_values(['sales','recency','trans'],ascending=[0,1,0])\n",
    "df_sales_by_id.reset_index(drop=True, inplace=True)\n",
    "df_sales_by_id.reset_index(inplace=True)\n",
    "df_sales_by_id=df_sales_by_id.rename(columns={'index':'Amtindex'})\n",
    "\n",
    "df_sales_by_id=df_sales_by_id.sort_values(['recency','trans','sales'],ascending=[1,0,0])\n",
    "df_sales_by_id.reset_index(drop=True, inplace=True)\n",
    "df_sales_by_id.reset_index(inplace=True)\n",
    "df_sales_by_id=df_sales_by_id.rename(columns={'index':'recencyindex'})\n",
    "\n",
    "c_ids=len(df_sales_by_id.index)\n",
    "c_ids=c_ids//5\n",
    "\n",
    "df_sales_by_id['Transindex']=np.ceil((df_sales_by_id['Transindex']+1)/c_ids)\n",
    "df_sales_by_id['Amtindex']=np.ceil((df_sales_by_id['Amtindex']+1)/c_ids)\n",
    "df_sales_by_id['recencyindex']=np.ceil((df_sales_by_id['recencyindex']+1)/c_ids)\n",
    "\n",
    "df_sales_by_id['RFM']=df_sales_by_id['recencyindex']*100 + df_sales_by_id['Transindex']*10 + df_sales_by_id['Amtindex']\n"
   ]
  },
  {
   "cell_type": "code",
   "execution_count": 19,
   "metadata": {},
   "outputs": [
    {
     "name": "stdout",
     "output_type": "stream",
     "text": [
      "(18871088, 9)\n",
      "Done with the RFM scoring, 2019-11-12 20:48:45.094524\n"
     ]
    }
   ],
   "source": [
    "df_sales_by_id = df_sales_by_id.sort_values(['RFM','recency','trans',\n",
    "                               'sales'],ascending = [1,1,0,0])\n",
    "\n",
    "print(df_sales_by_id.shape)\n",
    "\n",
    "df_sales_by_id.reset_index(drop = True, inplace = True)\n",
    "df_sales_by_id.reset_index(inplace = True)\n",
    "\n",
    "df_sales_by_id = df_sales_by_id.rename(columns = {'index':'frmindex'})\n",
    "c_ids = len(df_sales_by_id.index)//10+1\n",
    "\n",
    "df_sales_by_id['frmindex'] = np.ceil((df_sales_by_id['frmindex']+1)/c_ids)\n",
    "\n",
    "print(\"Done with the RFM scoring, \"+str(datetime.datetime.now()))\n",
    "\n",
    "df_sales_by_id['frmindex']=df_sales_by_id['frmindex'].apply(lambda x: \"D\"+str(int(float(x))).zfill(2))"
   ]
  },
  {
   "cell_type": "code",
   "execution_count": 20,
   "metadata": {},
   "outputs": [
    {
     "data": {
      "text/html": [
       "<div>\n",
       "<style scoped>\n",
       "    .dataframe tbody tr th:only-of-type {\n",
       "        vertical-align: middle;\n",
       "    }\n",
       "\n",
       "    .dataframe tbody tr th {\n",
       "        vertical-align: top;\n",
       "    }\n",
       "\n",
       "    .dataframe thead th {\n",
       "        text-align: right;\n",
       "    }\n",
       "</style>\n",
       "<table border=\"1\" class=\"dataframe\">\n",
       "  <thead>\n",
       "    <tr style=\"text-align: right;\">\n",
       "      <th></th>\n",
       "      <th>frmindex</th>\n",
       "      <th>HML_Group</th>\n",
       "    </tr>\n",
       "  </thead>\n",
       "  <tbody>\n",
       "    <tr>\n",
       "      <th>0</th>\n",
       "      <td>D01</td>\n",
       "      <td>H</td>\n",
       "    </tr>\n",
       "    <tr>\n",
       "      <th>1</th>\n",
       "      <td>D02</td>\n",
       "      <td>H</td>\n",
       "    </tr>\n",
       "  </tbody>\n",
       "</table>\n",
       "</div>"
      ],
      "text/plain": [
       "  frmindex HML_Group\n",
       "0      D01         H\n",
       "1      D02         H"
      ]
     },
     "execution_count": 20,
     "metadata": {},
     "output_type": "execute_result"
    }
   ],
   "source": [
    "df_H=pd.DataFrame({\"frmindex\":['D01','D02','D03','D04']})\n",
    "df_H['HML_Group']=\"H\"\n",
    "\n",
    "df_M=pd.DataFrame({\"frmindex\":['D05','D06','D07']})\n",
    "df_M['HML_Group']=\"M\"\n",
    "\n",
    "df_L=pd.DataFrame({\"frmindex\":['D08','D09','D10']})\n",
    "df_L['HML_Group']=\"L\"\n",
    "\n",
    "df_HML=df_H.append(df_M).append(df_L)\n",
    "\n",
    "df_HML.head(2)"
   ]
  },
  {
   "cell_type": "code",
   "execution_count": 21,
   "metadata": {},
   "outputs": [
    {
     "name": "stdout",
     "output_type": "stream",
     "text": [
      "(18871088, 11)\n"
     ]
    }
   ],
   "source": [
    "df_sales_by_id=pd.merge(df_sales_by_id,df_HML,on=\"frmindex\",how=\"left\")\n",
    "print(df_sales_by_id.shape)"
   ]
  },
  {
   "cell_type": "code",
   "execution_count": 22,
   "metadata": {},
   "outputs": [
    {
     "name": "stdout",
     "output_type": "stream",
     "text": [
      "(30732606, 3) 30732606\n"
     ]
    }
   ],
   "source": [
    "df_master=pd.read_csv('/home/jian/Projects/Big_Lots/Live_Ramp/Quarterly_Update_2019Q4/BL_all_master_id_email_zip_closet_store_ZipLabel_upto_20191012_JL_2019-10-21',\n",
    "                       usecols=['customer_id_hashed','cleaned_zip_cd','zip_type'],dtype=str)\n",
    "\n",
    "print(df_master.shape,df_master['customer_id_hashed'].nunique())"
   ]
  },
  {
   "cell_type": "code",
   "execution_count": 23,
   "metadata": {
    "collapsed": true
   },
   "outputs": [],
   "source": [
    "df_sales_by_id=pd.merge(df_sales_by_id,df_master,on=\"customer_id_hashed\",how=\"left\")"
   ]
  },
  {
   "cell_type": "code",
   "execution_count": 24,
   "metadata": {
    "collapsed": true
   },
   "outputs": [],
   "source": [
    "df_sales_by_id.to_csv(\"./BL_Loyalty_Health_18_19_HML_score_details_JL_\"+str(datetime.datetime.now().date())+\".csv\",index=False)"
   ]
  },
  {
   "cell_type": "code",
   "execution_count": 25,
   "metadata": {},
   "outputs": [
    {
     "data": {
      "text/html": [
       "<div>\n",
       "<style scoped>\n",
       "    .dataframe tbody tr th:only-of-type {\n",
       "        vertical-align: middle;\n",
       "    }\n",
       "\n",
       "    .dataframe tbody tr th {\n",
       "        vertical-align: top;\n",
       "    }\n",
       "\n",
       "    .dataframe thead th {\n",
       "        text-align: right;\n",
       "    }\n",
       "</style>\n",
       "<table border=\"1\" class=\"dataframe\">\n",
       "  <thead>\n",
       "    <tr style=\"text-align: right;\">\n",
       "      <th></th>\n",
       "      <th>frmindex</th>\n",
       "      <th>recencyindex</th>\n",
       "      <th>Amtindex</th>\n",
       "      <th>Transindex</th>\n",
       "      <th>customer_id_hashed</th>\n",
       "      <th>last_trans_date</th>\n",
       "      <th>sales</th>\n",
       "      <th>trans</th>\n",
       "      <th>recency</th>\n",
       "      <th>RFM</th>\n",
       "      <th>HML_Group</th>\n",
       "      <th>cleaned_zip_cd</th>\n",
       "      <th>zip_type</th>\n",
       "    </tr>\n",
       "  </thead>\n",
       "  <tbody>\n",
       "    <tr>\n",
       "      <th>0</th>\n",
       "      <td>D01</td>\n",
       "      <td>1.0</td>\n",
       "      <td>1.0</td>\n",
       "      <td>1.0</td>\n",
       "      <td>2f5db30f6367de199f1a4db628fe77ebe1c6e27cd35a39...</td>\n",
       "      <td>2018-09-28</td>\n",
       "      <td>48700.51</td>\n",
       "      <td>2659</td>\n",
       "      <td>1.0</td>\n",
       "      <td>111.0</td>\n",
       "      <td>H</td>\n",
       "      <td>00nan</td>\n",
       "      <td>NaN</td>\n",
       "    </tr>\n",
       "    <tr>\n",
       "      <th>1</th>\n",
       "      <td>D01</td>\n",
       "      <td>1.0</td>\n",
       "      <td>1.0</td>\n",
       "      <td>1.0</td>\n",
       "      <td>dd66c64db55c9c3ce033192ad9c7ddae635a65f3d4e545...</td>\n",
       "      <td>2018-09-30</td>\n",
       "      <td>40232.94</td>\n",
       "      <td>2347</td>\n",
       "      <td>1.0</td>\n",
       "      <td>111.0</td>\n",
       "      <td>H</td>\n",
       "      <td>37311</td>\n",
       "      <td>trans_P</td>\n",
       "    </tr>\n",
       "  </tbody>\n",
       "</table>\n",
       "</div>"
      ],
      "text/plain": [
       "  frmindex  recencyindex  Amtindex  Transindex  \\\n",
       "0      D01           1.0       1.0         1.0   \n",
       "1      D01           1.0       1.0         1.0   \n",
       "\n",
       "                                  customer_id_hashed last_trans_date  \\\n",
       "0  2f5db30f6367de199f1a4db628fe77ebe1c6e27cd35a39...      2018-09-28   \n",
       "1  dd66c64db55c9c3ce033192ad9c7ddae635a65f3d4e545...      2018-09-30   \n",
       "\n",
       "      sales  trans  recency    RFM HML_Group cleaned_zip_cd zip_type  \n",
       "0  48700.51   2659      1.0  111.0         H          00nan      NaN  \n",
       "1  40232.94   2347      1.0  111.0         H          37311  trans_P  "
      ]
     },
     "execution_count": 25,
     "metadata": {},
     "output_type": "execute_result"
    }
   ],
   "source": [
    "df_sales_by_id.head(2)"
   ]
  },
  {
   "cell_type": "code",
   "execution_count": 26,
   "metadata": {
    "collapsed": true
   },
   "outputs": [],
   "source": [
    "df_sales_by_id['zip_type']=df_sales_by_id['zip_type'].fillna(\"T\")\n",
    "df_sales_by_id['zip_type']=df_sales_by_id['zip_type'].replace(\"trans_P\",\"P\").replace(\"trans_S\",\"S\").replace(\"zips_10\",\"S\")"
   ]
  },
  {
   "cell_type": "code",
   "execution_count": 27,
   "metadata": {},
   "outputs": [
    {
     "data": {
      "text/plain": [
       "0"
      ]
     },
     "execution_count": 27,
     "metadata": {},
     "output_type": "execute_result"
    }
   ],
   "source": [
    "df_sales_by_id=df_sales_by_id[['customer_id_hashed','frmindex','last_trans_date','HML_Group','zip_type']]\n",
    "gc.collect()"
   ]
  },
  {
   "cell_type": "code",
   "execution_count": 28,
   "metadata": {
    "collapsed": true
   },
   "outputs": [],
   "source": [
    "df_sales_by_id['Active_Status']=np.where(df_sales_by_id['last_trans_date']>=active_Sunday,\"Active (0-12)\",\"Lapsed (13-18)\")\n"
   ]
  },
  {
   "cell_type": "code",
   "execution_count": 29,
   "metadata": {},
   "outputs": [
    {
     "data": {
      "text/plain": [
       "Timestamp('2017-04-03 00:00:00')"
      ]
     },
     "execution_count": 29,
     "metadata": {},
     "output_type": "execute_result"
    }
   ],
   "source": [
    "df_sales_by_id['last_trans_date'].min()"
   ]
  },
  {
   "cell_type": "code",
   "execution_count": 30,
   "metadata": {},
   "outputs": [
    {
     "data": {
      "text/plain": [
       "datetime.date(2018, 9, 30)"
      ]
     },
     "execution_count": 30,
     "metadata": {},
     "output_type": "execute_result"
    }
   ],
   "source": [
    "lastdate_date"
   ]
  },
  {
   "cell_type": "code",
   "execution_count": 31,
   "metadata": {},
   "outputs": [
    {
     "data": {
      "text/plain": [
       "'2017-04-03'"
      ]
     },
     "execution_count": 31,
     "metadata": {},
     "output_type": "execute_result"
    }
   ],
   "source": [
    "Beginning_18_months_ago"
   ]
  },
  {
   "cell_type": "code",
   "execution_count": 32,
   "metadata": {},
   "outputs": [
    {
     "name": "stdout",
     "output_type": "stream",
     "text": [
      "Lapsed Start on: 2017-04-03\n",
      "Active Start on: 2017-10-02\n",
      "Store Allocation Starting on: 2017-04-03\n",
      "Last Saturday: 2018-09-30\n",
      "Beginning_48_months_ago:2014-10-06\n"
     ]
    }
   ],
   "source": [
    "# Lapsed 19 - 48\n",
    "\n",
    "\n",
    "Beginning_18_months_ago=str(lastdate_date-datetime.timedelta(days=52*7*1.5-1))\n",
    "Beginning_48_months_ago=str(lastdate_date-datetime.timedelta(days=52*7*4-1))\n",
    "\n",
    "lastdate=str(lastdate_date)\n",
    "print(\"Lapsed Start on: \"+lapsed_Sunday) #>=\n",
    "print(\"Active Start on: \"+active_Sunday) #>=\n",
    "print(\"Store Allocation Starting on: \"+Beginning_18_months_ago) #>=\n",
    "print(\"Last Saturday: \"+lastdate) #<=\n",
    "print(\"Beginning_48_months_ago:\"+Beginning_48_months_ago)\n",
    "\n",
    "\n",
    "def recursive_file_gen(root_folder):\n",
    "    for root, dirs, files in os.walk(root_folder):\n",
    "        for file in files:\n",
    "            yield os.path.join(root, file)\n",
    "\n"
   ]
  },
  {
   "cell_type": "code",
   "execution_count": 33,
   "metadata": {},
   "outputs": [
    {
     "name": "stdout",
     "output_type": "stream",
     "text": [
      "1 2019-11-12 21:01:25.465504\n",
      "2 2019-11-12 21:01:39.646691\n",
      "3 2019-11-12 21:01:52.093451\n",
      "4 2019-11-12 21:02:13.868441\n",
      "5 2019-11-12 21:02:55.337812\n",
      "6 2019-11-12 21:03:21.901323\n",
      "7 2019-11-12 21:04:06.677500\n",
      "8 2019-11-12 21:04:59.419332\n",
      "9 2019-11-12 21:05:43.272110\n",
      "10 2019-11-12 21:06:12.972574\n",
      "11 2019-11-12 21:06:33.473311\n",
      "12 2019-11-12 21:06:52.054357\n",
      "13 2019-11-12 21:07:12.293588\n",
      "14 2019-11-12 21:07:33.444118\n",
      "15 2019-11-12 21:07:49.482855\n",
      "Earliest Date:2016-06-26\n",
      "Latest Date:2017-04-02\n",
      "(12564586, 1)\n"
     ]
    },
    {
     "data": {
      "text/plain": [
       "0"
      ]
     },
     "execution_count": 33,
     "metadata": {},
     "output_type": "execute_result"
    }
   ],
   "source": [
    "# 1 out of the 3\n",
    "\n",
    "chunksize_num = 10**7\n",
    "filename='/home/jian/Projects/Big_Lots/Live_Ramp/Quarterly_Update_2019Q1/crm_newscore_0922/combinedtransactions_0922.csv'\n",
    "df_lapsed_sales_ids=pd.DataFrame()\n",
    "count_i=0\n",
    "\n",
    "for chunk in pd.read_csv(filename, chunksize=chunksize_num,dtype=str,usecols=['customer_id_hashed','transaction_date']):\n",
    "    chunk=chunk[(chunk['transaction_date']>=Beginning_48_months_ago) & (chunk['transaction_date']<Beginning_18_months_ago)]\n",
    "    chunk=chunk.drop_duplicates()\n",
    "    \n",
    "    df_lapsed_sales_ids=df_lapsed_sales_ids.append(chunk)\n",
    "    count_i+=1\n",
    "    print(count_i,datetime.datetime.now())\n",
    "\n",
    "del chunk\n",
    "\n",
    "print(\"Earliest Date:\" + str(df_lapsed_sales_ids['transaction_date'].min()))\n",
    "print(\"Latest Date:\" + str(df_lapsed_sales_ids['transaction_date'].max()))\n",
    "del df_lapsed_sales_ids['transaction_date']\n",
    "df_lapsed_sales_ids=df_lapsed_sales_ids.drop_duplicates()\n",
    "print(df_lapsed_sales_ids.shape)\n",
    "logging.info(\"Deduped: \"+str(datetime.datetime.now()))\n",
    "\n",
    "gc.collect()"
   ]
  },
  {
   "cell_type": "code",
   "execution_count": 34,
   "metadata": {},
   "outputs": [
    {
     "data": {
      "text/plain": [
       "0"
      ]
     },
     "execution_count": 34,
     "metadata": {},
     "output_type": "execute_result"
    }
   ],
   "source": [
    "# 2 out of the 3\n",
    "\n",
    "lapsed_trans=pd.read_table(\"/home/jian/Projects/Big_Lots/Loyal_members/loyalty_sales_data/lapsed20140826_20170226/MediaStormLapsedCustDtl.txt\",\n",
    "                     sep=\",\",usecols=['customer_id_hashed','transaction_date'],dtype=str)# .drop_duplicates() # Doesn't go to score at all, so no need to read all columns\n",
    "lapsed_trans=lapsed_trans[(lapsed_trans['transaction_date']>=Beginning_48_months_ago) & (lapsed_trans['transaction_date']<Beginning_18_months_ago)]\n",
    "del lapsed_trans['transaction_date']\n",
    "\n",
    "df_lapsed_sales_ids=df_lapsed_sales_ids.append(lapsed_trans).drop_duplicates()\n",
    "del lapsed_trans\n",
    "gc.collect()"
   ]
  },
  {
   "cell_type": "code",
   "execution_count": 35,
   "metadata": {},
   "outputs": [
    {
     "name": "stdout",
     "output_type": "stream",
     "text": [
      "40\n",
      "1 2019-11-12 21:09:42.874592\n",
      "11 2019-11-12 21:12:09.529540\n",
      "21 2019-11-12 21:14:18.791225\n",
      "31 2019-11-12 21:16:44.735869\n"
     ]
    },
    {
     "data": {
      "text/plain": [
       "0"
      ]
     },
     "execution_count": 35,
     "metadata": {},
     "output_type": "execute_result"
    }
   ],
   "source": [
    "# 3 out of the 3\n",
    "\n",
    "daily_sales_historical=glob.glob(\"/home/jian/BigLots/hist_daily_data_subclasslevel/*.txt\")\n",
    "daily_sales_historical=[x for x in daily_sales_historical if x.split(\"MediaStormDailySales_week_ending_\")[1][:10]>=Beginning_48_months_ago]\n",
    "daily_sales_historical=[x for x in daily_sales_historical if x.split(\"MediaStormDailySales_week_ending_\")[1][:10]<Beginning_18_months_ago]\n",
    "print(len(daily_sales_historical))\n",
    "\n",
    "i_counter=0\n",
    "list_historical_19_48=[]\n",
    "for file in daily_sales_historical:\n",
    "    df=pd.read_table(file,dtype=str,sep=\"|\",usecols=['customer_id_hashed']).drop_duplicates() # No date read, since will exclude the shoppers in 18 later\n",
    "    df=df[pd.notnull(df['customer_id_hashed'])]\n",
    "    list_historical_19_48.append(df)\n",
    "    i_counter+=1\n",
    "    if i_counter%10==1:\n",
    "        print(i_counter,datetime.datetime.now())\n",
    "df=pd.concat(list_historical_19_48).drop_duplicates()\n",
    "\n",
    "df_lapsed_sales_ids=df_lapsed_sales_ids.append(df).drop_duplicates()\n",
    "del df\n",
    "gc.collect()\n"
   ]
  },
  {
   "cell_type": "code",
   "execution_count": 36,
   "metadata": {},
   "outputs": [
    {
     "data": {
      "text/plain": [
       "(4486353, 2)"
      ]
     },
     "execution_count": 36,
     "metadata": {},
     "output_type": "execute_result"
    }
   ],
   "source": [
    "df_lapsed_sales_ids=df_lapsed_sales_ids[~df_lapsed_sales_ids['customer_id_hashed'].isin(df_sales_by_id['customer_id_hashed'].tolist())]\n",
    "df_lapsed_sales_ids['Active_Status']=\"Lapsed (19-48)\"\n",
    "df_lapsed_sales_ids.shape"
   ]
  },
  {
   "cell_type": "code",
   "execution_count": null,
   "metadata": {
    "collapsed": true
   },
   "outputs": [],
   "source": []
  },
  {
   "cell_type": "code",
   "execution_count": 37,
   "metadata": {},
   "outputs": [
    {
     "name": "stderr",
     "output_type": "stream",
     "text": [
      "/home/jian/.local/lib/python3.6/site-packages/pandas/core/frame.py:7138: FutureWarning: Sorting because non-concatenation axis is not aligned. A future version\n",
      "of pandas will change to not sort by default.\n",
      "\n",
      "To accept the future behavior, pass 'sort=False'.\n",
      "\n",
      "To retain the current behavior and silence the warning, pass 'sort=True'.\n",
      "\n",
      "  sort=sort,\n"
     ]
    }
   ],
   "source": [
    "df_sales_by_id=df_sales_by_id.append(df_lapsed_sales_ids)"
   ]
  },
  {
   "cell_type": "code",
   "execution_count": 38,
   "metadata": {},
   "outputs": [
    {
     "data": {
      "text/plain": [
       "0"
      ]
     },
     "execution_count": 38,
     "metadata": {},
     "output_type": "execute_result"
    }
   ],
   "source": [
    "del df_lapsed_sales_ids\n",
    "df_sales_by_id.to_csv(\"./BL_Loyalty_Health_2018_2019_all_ids_JL_\"+str(datetime.datetime.now().date())+\".csv\",index=False)\n",
    "gc.collect()"
   ]
  },
  {
   "cell_type": "markdown",
   "metadata": {},
   "source": [
    "# Sale in 1 Year"
   ]
  },
  {
   "cell_type": "code",
   "execution_count": 39,
   "metadata": {
    "collapsed": true
   },
   "outputs": [
    {
     "data": {
      "text/plain": [
       "['/home/jian/BigLots/hist_daily_data_itemlevel_decompressed/MediaStormDailySalesHistory20181006.txt',\n",
       " '/home/jian/BigLots/hist_daily_data_itemlevel_decompressed/MediaStormDailySalesHistory20181013.txt',\n",
       " '/home/jian/BigLots/hist_daily_data_itemlevel_decompressed/MediaStormDailySalesHistory20181020.txt',\n",
       " '/home/jian/BigLots/hist_daily_data_itemlevel_decompressed/MediaStormDailySalesHistory20181027.txt',\n",
       " '/home/jian/BigLots/hist_daily_data_itemlevel_decompressed/MediaStormDailySalesHistory20181103.txt',\n",
       " '/home/jian/BigLots/hist_daily_data_itemlevel_decompressed/MediaStormDailySalesHistory20181110.txt',\n",
       " '/home/jian/BigLots/hist_daily_data_itemlevel_decompressed/MediaStormDailySalesHistory20181117.txt',\n",
       " '/home/jian/BigLots/hist_daily_data_itemlevel_decompressed/MediaStormDailySalesHistory20181124.txt',\n",
       " '/home/jian/BigLots/hist_daily_data_itemlevel_decompressed/MediaStormDailySalesHistory20181201.txt',\n",
       " '/home/jian/BigLots/hist_daily_data_itemlevel_decompressed/MediaStormDailySalesHistory20181208.txt',\n",
       " '/home/jian/BigLots/hist_daily_data_itemlevel_decompressed/MediaStormDailySalesHistory20181215.txt',\n",
       " '/home/jian/BigLots/hist_daily_data_itemlevel_decompressed/MediaStormDailySalesHistory20181222.txt',\n",
       " '/home/jian/BigLots/hist_daily_data_itemlevel_decompressed/MediaStormDailySalesHistory20181229.txt',\n",
       " '/home/jian/BigLots/hist_daily_data_itemlevel_decompressed/MediaStormDailySalesHistory20190105.txt',\n",
       " '/home/jian/BigLots/hist_daily_data_itemlevel_decompressed/MediaStormDailySalesHistory20190112.txt',\n",
       " '/home/jian/BigLots/hist_daily_data_itemlevel_decompressed/MediaStormDailySalesHistory20190119.txt',\n",
       " '/home/jian/BigLots/hist_daily_data_itemlevel_decompressed/MediaStormDailySalesHistory20190126.txt',\n",
       " '/home/jian/BigLots/hist_daily_data_itemlevel_decompressed/MediaStormDailySalesHistory20190202.txt',\n",
       " '/home/jian/BigLots/hist_daily_data_itemlevel_decompressed/MediaStormDailySalesHistory20190209.txt']"
      ]
     },
     "execution_count": 39,
     "metadata": {},
     "output_type": "execute_result"
    }
   ],
   "source": [
    "historical_item_files=glob.glob(\"/home/jian/BigLots/hist_daily_data_itemlevel_decompressed/*.txt\")\n",
    "historical_item_files=[x for x in historical_item_files if x.split(\"/MediaStormDailySalesHistory\")[1][:8]>=\"201810\"]\n",
    "historical_item_files.sort()\n",
    "historical_item_files"
   ]
  },
  {
   "cell_type": "code",
   "execution_count": 40,
   "metadata": {
    "collapsed": true
   },
   "outputs": [
    {
     "data": {
      "text/plain": [
       "['/home/jian/BigLots/2019_by_weeks/MediaStorm_2019-02-16/MediaStormDailySales20190219-113605-481.txt',\n",
       " '/home/jian/BigLots/2019_by_weeks/MediaStorm_2019-02-23/MediaStormDailySales20190226-112611-940.txt',\n",
       " '/home/jian/BigLots/2019_by_weeks/MediaStorm_2019-03-02/MediaStormDailySales20190305-112738-899.txt',\n",
       " '/home/jian/BigLots/2019_by_weeks/MediaStorm_2019-03-09/MediaStormDailySales20190312-121205-996.txt',\n",
       " '/home/jian/BigLots/2019_by_weeks/MediaStorm_2019-03-16/MediaStormDailySales20190319-112334-057.txt',\n",
       " '/home/jian/BigLots/2019_by_weeks/MediaStorm_2019-03-23/MediaStormDailySales20190326-112740-903.txt',\n",
       " '/home/jian/BigLots/2019_by_weeks/MediaStorm_2019-03-30/MediaStormDailySales20190402-112556-551.txt',\n",
       " '/home/jian/BigLots/2019_by_weeks/MediaStorm_2019-04-06/MediaStormDailySales20190409-122759-093.txt',\n",
       " '/home/jian/BigLots/2019_by_weeks/MediaStorm_2019-04-13/MediaStormDailySales20190416-112824-908.txt',\n",
       " '/home/jian/BigLots/2019_by_weeks/MediaStorm_2019-04-20/MediaStormDailySales20190423-112124-771.txt',\n",
       " '/home/jian/BigLots/2019_by_weeks/MediaStorm_2019-04-27/MediaStormDailySales20190430-112453-448.txt',\n",
       " '/home/jian/BigLots/2019_by_weeks/MediaStorm_2019-05-04/MediaStormDailySales20190507-113110-141.txt',\n",
       " '/home/jian/BigLots/2019_by_weeks/MediaStorm_2019-05-11/MediaStormDailySales20190514-121223-405.txt',\n",
       " '/home/jian/BigLots/2019_by_weeks/MediaStorm_2019-05-18/MediaStormDailySales20190521-111232-391.txt',\n",
       " '/home/jian/BigLots/2019_by_weeks/MediaStorm_2019-05-25/MediaStormDailySales20190528-111211-863.txt',\n",
       " '/home/jian/BigLots/2019_by_weeks/MediaStorm_2019-06-01/MediaStormDailySales20190604-111936-950.txt',\n",
       " '/home/jian/BigLots/2019_by_weeks/MediaStorm_2019-06-08/MediaStormDailySales20190611-122013-442.txt',\n",
       " '/home/jian/BigLots/2019_by_weeks/MediaStorm_2019-06-15/MediaStormDailySales20190618-112500-846.txt',\n",
       " '/home/jian/BigLots/2019_by_weeks/MediaStorm_2019-06-22/MediaStormDailySales20190625-111927-257.txt',\n",
       " '/home/jian/BigLots/2019_by_weeks/MediaStorm_2019-06-29/MediaStormDailySales20190702-113523-928.txt',\n",
       " '/home/jian/BigLots/2019_by_weeks/MediaStorm_2019-07-06/MediaStormDailySales20190709-115715-409.txt',\n",
       " '/home/jian/BigLots/2019_by_weeks/MediaStorm_2019-07-13/MediaStormDailySales20190716-122903-926.txt',\n",
       " '/home/jian/BigLots/2019_by_weeks/MediaStorm_2019-07-20/MediaStormDailySales20190723-112837-593.txt',\n",
       " '/home/jian/BigLots/2019_by_weeks/MediaStorm_2019-07-27/MediaStormDailySales20190730-113653-224.txt',\n",
       " '/home/jian/BigLots/2019_by_weeks/MediaStorm_2019-08-03/MediaStormDailySales20190806-113917-862.txt',\n",
       " '/home/jian/BigLots/2019_by_weeks/MediaStorm_2019-08-10/MediaStormDailySales20190813-120541-143.txt',\n",
       " '/home/jian/BigLots/2019_by_weeks/MediaStorm_2019-08-17/MediaStormDailySales20190820-113628-440.txt',\n",
       " '/home/jian/BigLots/2019_by_weeks/MediaStorm_2019-08-24/MediaStormDailySales20190827-113630-114.txt',\n",
       " '/home/jian/BigLots/2019_by_weeks/MediaStorm_2019-08-31/MediaStormDailySales20190903-113649-462.txt',\n",
       " '/home/jian/BigLots/2019_by_weeks/MediaStorm_2019-09-07/MediaStormDailySales20190910-120643-163.txt',\n",
       " '/home/jian/BigLots/2019_by_weeks/MediaStorm_2019-09-14/MediaStormDailySales20190917-110425-322.txt',\n",
       " '/home/jian/BigLots/2019_by_weeks/MediaStorm_2019-09-21/MediaStormDailySales20190924-112126-506.txt',\n",
       " '/home/jian/BigLots/2019_by_weeks/MediaStorm_2019-09-28/MediaStormDailySales20191001-111241-312.txt',\n",
       " '/home/jian/BigLots/2019_by_weeks/MediaStorm_2019-10-05/MediaStormDailySales20191008-120723-038.txt']"
      ]
     },
     "execution_count": 40,
     "metadata": {},
     "output_type": "execute_result"
    }
   ],
   "source": [
    "daily_item_files_2019=[x for x in daily_item_files_2019 if x.split(\"eks/MediaStorm_\")[1][:10]>=\"2019-02-16\"]\n",
    "daily_item_files_2019=[x for x in daily_item_files_2019 if x.split(\"eks/MediaStorm_\")[1][:10]<=\"2019-10-07\"]\n",
    "daily_item_files_2019"
   ]
  },
  {
   "cell_type": "code",
   "execution_count": 41,
   "metadata": {},
   "outputs": [
    {
     "data": {
      "text/plain": [
       "53"
      ]
     },
     "execution_count": 41,
     "metadata": {},
     "output_type": "execute_result"
    }
   ],
   "source": [
    "list_POS_item_in_1_year=historical_item_files+daily_item_files_2019\n",
    "len(list_POS_item_in_1_year)"
   ]
  },
  {
   "cell_type": "code",
   "execution_count": 42,
   "metadata": {
    "collapsed": true
   },
   "outputs": [
    {
     "name": "stdout",
     "output_type": "stream",
     "text": [
      "0 2018-10-01 2018-10-06 2019-11-12 21:27:21.361594 /home/jian/BigLots/hist_daily_data_itemlevel_decompressed/MediaStormDailySalesHistory20181006.txt\n",
      "1 2018-10-07 2018-10-13 2019-11-12 21:28:16.897083 /home/jian/BigLots/hist_daily_data_itemlevel_decompressed/MediaStormDailySalesHistory20181013.txt\n",
      "2 2018-10-14 2018-10-20 2019-11-12 21:29:12.490828 /home/jian/BigLots/hist_daily_data_itemlevel_decompressed/MediaStormDailySalesHistory20181020.txt\n",
      "3 2018-10-21 2018-10-27 2019-11-12 21:30:13.311513 /home/jian/BigLots/hist_daily_data_itemlevel_decompressed/MediaStormDailySalesHistory20181027.txt\n",
      "4 2018-10-28 2018-11-03 2019-11-12 21:31:17.752160 /home/jian/BigLots/hist_daily_data_itemlevel_decompressed/MediaStormDailySalesHistory20181103.txt\n",
      "5 2018-11-04 2018-11-10 2019-11-12 21:32:25.520403 /home/jian/BigLots/hist_daily_data_itemlevel_decompressed/MediaStormDailySalesHistory20181110.txt\n",
      "6 2018-11-11 2018-11-17 2019-11-12 21:33:45.529916 /home/jian/BigLots/hist_daily_data_itemlevel_decompressed/MediaStormDailySalesHistory20181117.txt\n",
      "7 2018-11-18 2018-11-24 2019-11-12 21:35:44.060484 /home/jian/BigLots/hist_daily_data_itemlevel_decompressed/MediaStormDailySalesHistory20181124.txt\n",
      "8 2018-11-25 2018-12-01 2019-11-12 21:37:51.028446 /home/jian/BigLots/hist_daily_data_itemlevel_decompressed/MediaStormDailySalesHistory20181201.txt\n",
      "9 2018-12-02 2018-12-08 2019-11-12 21:40:08.147806 /home/jian/BigLots/hist_daily_data_itemlevel_decompressed/MediaStormDailySalesHistory20181208.txt\n",
      "10 2018-12-09 2018-12-15 2019-11-12 21:42:23.421678 /home/jian/BigLots/hist_daily_data_itemlevel_decompressed/MediaStormDailySalesHistory20181215.txt\n",
      "11 2018-12-16 2018-12-22 2019-11-12 21:45:04.529952 /home/jian/BigLots/hist_daily_data_itemlevel_decompressed/MediaStormDailySalesHistory20181222.txt\n",
      "12 2018-12-23 2018-12-29 2019-11-12 21:46:55.758424 /home/jian/BigLots/hist_daily_data_itemlevel_decompressed/MediaStormDailySalesHistory20181229.txt\n",
      "13 2018-12-30 2019-01-05 2019-11-12 21:48:14.045495 /home/jian/BigLots/hist_daily_data_itemlevel_decompressed/MediaStormDailySalesHistory20190105.txt\n",
      "14 2019-01-06 2019-01-12 2019-11-12 21:49:31.641269 /home/jian/BigLots/hist_daily_data_itemlevel_decompressed/MediaStormDailySalesHistory20190112.txt\n",
      "15 2019-01-13 2019-01-19 2019-11-12 21:50:58.876135 /home/jian/BigLots/hist_daily_data_itemlevel_decompressed/MediaStormDailySalesHistory20190119.txt\n",
      "16 2019-01-20 2019-01-26 2019-11-12 21:52:19.579032 /home/jian/BigLots/hist_daily_data_itemlevel_decompressed/MediaStormDailySalesHistory20190126.txt\n",
      "17 2019-01-27 2019-02-02 2019-11-12 21:53:27.847165 /home/jian/BigLots/hist_daily_data_itemlevel_decompressed/MediaStormDailySalesHistory20190202.txt\n",
      "18 2019-02-03 2019-02-09 2019-11-12 21:54:36.521446 /home/jian/BigLots/hist_daily_data_itemlevel_decompressed/MediaStormDailySalesHistory20190209.txt\n",
      "19 2019-02-10 2019-02-16 2019-11-12 21:55:51.426721 /home/jian/BigLots/2019_by_weeks/MediaStorm_2019-02-16/MediaStormDailySales20190219-113605-481.txt\n",
      "20 2019-02-17 2019-02-23 2019-11-12 21:57:12.254232 /home/jian/BigLots/2019_by_weeks/MediaStorm_2019-02-23/MediaStormDailySales20190226-112611-940.txt\n",
      "21 2019-02-24 2019-03-02 2019-11-12 21:58:35.464405 /home/jian/BigLots/2019_by_weeks/MediaStorm_2019-03-02/MediaStormDailySales20190305-112738-899.txt\n",
      "22 2019-03-03 2019-03-09 2019-11-12 21:59:59.520020 /home/jian/BigLots/2019_by_weeks/MediaStorm_2019-03-09/MediaStormDailySales20190312-121205-996.txt\n",
      "23 2019-03-10 2019-03-16 2019-11-12 22:01:20.845731 /home/jian/BigLots/2019_by_weeks/MediaStorm_2019-03-16/MediaStormDailySales20190319-112334-057.txt\n",
      "24 2019-03-17 2019-03-23 2019-11-12 22:02:36.944747 /home/jian/BigLots/2019_by_weeks/MediaStorm_2019-03-23/MediaStormDailySales20190326-112740-903.txt\n",
      "25 2019-03-24 2019-03-30 2019-11-12 22:03:55.291694 /home/jian/BigLots/2019_by_weeks/MediaStorm_2019-03-30/MediaStormDailySales20190402-112556-551.txt\n",
      "26 2019-03-31 2019-04-06 2019-11-12 22:05:39.818265 /home/jian/BigLots/2019_by_weeks/MediaStorm_2019-04-06/MediaStormDailySales20190409-122759-093.txt\n",
      "27 2019-04-07 2019-04-13 2019-11-12 22:07:15.211866 /home/jian/BigLots/2019_by_weeks/MediaStorm_2019-04-13/MediaStormDailySales20190416-112824-908.txt\n",
      "28 2019-04-14 2019-04-20 2019-11-12 22:08:43.218577 /home/jian/BigLots/2019_by_weeks/MediaStorm_2019-04-20/MediaStormDailySales20190423-112124-771.txt\n",
      "29 2019-04-21 2019-04-27 2019-11-12 22:10:02.238747 /home/jian/BigLots/2019_by_weeks/MediaStorm_2019-04-27/MediaStormDailySales20190430-112453-448.txt\n",
      "30 2019-04-28 2019-05-04 2019-11-12 22:11:25.920878 /home/jian/BigLots/2019_by_weeks/MediaStorm_2019-05-04/MediaStormDailySales20190507-113110-141.txt\n",
      "31 2019-05-05 2019-05-11 2019-11-12 22:12:46.201948 /home/jian/BigLots/2019_by_weeks/MediaStorm_2019-05-11/MediaStormDailySales20190514-121223-405.txt\n",
      "32 2019-05-12 2019-05-18 2019-11-12 22:14:02.452776 /home/jian/BigLots/2019_by_weeks/MediaStorm_2019-05-18/MediaStormDailySales20190521-111232-391.txt\n",
      "33 2019-05-19 2019-05-25 2019-11-12 22:15:24.467844 /home/jian/BigLots/2019_by_weeks/MediaStorm_2019-05-25/MediaStormDailySales20190528-111211-863.txt\n",
      "34 2019-05-26 2019-06-01 2019-11-12 22:16:51.258393 /home/jian/BigLots/2019_by_weeks/MediaStorm_2019-06-01/MediaStormDailySales20190604-111936-950.txt\n",
      "35 2019-06-02 2019-06-08 2019-11-12 22:18:18.668320 /home/jian/BigLots/2019_by_weeks/MediaStorm_2019-06-08/MediaStormDailySales20190611-122013-442.txt\n",
      "36 2019-06-09 2019-06-15 2019-11-12 22:19:42.035050 /home/jian/BigLots/2019_by_weeks/MediaStorm_2019-06-15/MediaStormDailySales20190618-112500-846.txt\n",
      "37 2019-06-16 2019-06-22 2019-11-12 22:21:02.761043 /home/jian/BigLots/2019_by_weeks/MediaStorm_2019-06-22/MediaStormDailySales20190625-111927-257.txt\n",
      "38 2019-06-23 2019-06-29 2019-11-12 22:22:27.204326 /home/jian/BigLots/2019_by_weeks/MediaStorm_2019-06-29/MediaStormDailySales20190702-113523-928.txt\n",
      "39 2019-06-30 2019-07-06 2019-11-12 22:24:00.871977 /home/jian/BigLots/2019_by_weeks/MediaStorm_2019-07-06/MediaStormDailySales20190709-115715-409.txt\n",
      "40 2019-07-07 2019-07-13 2019-11-12 22:25:48.206114 /home/jian/BigLots/2019_by_weeks/MediaStorm_2019-07-13/MediaStormDailySales20190716-122903-926.txt\n",
      "41 2019-07-14 2019-07-20 2019-11-12 22:27:43.193908 /home/jian/BigLots/2019_by_weeks/MediaStorm_2019-07-20/MediaStormDailySales20190723-112837-593.txt\n",
      "42 2019-07-21 2019-07-27 2019-11-12 22:29:20.223159 /home/jian/BigLots/2019_by_weeks/MediaStorm_2019-07-27/MediaStormDailySales20190730-113653-224.txt\n",
      "43 2019-07-28 2019-08-03 2019-11-12 22:30:56.124032 /home/jian/BigLots/2019_by_weeks/MediaStorm_2019-08-03/MediaStormDailySales20190806-113917-862.txt\n",
      "44 2019-08-04 2019-08-10 2019-11-12 22:32:27.708458 /home/jian/BigLots/2019_by_weeks/MediaStorm_2019-08-10/MediaStormDailySales20190813-120541-143.txt\n",
      "45 2019-08-11 2019-08-17 2019-11-12 22:34:01.387432 /home/jian/BigLots/2019_by_weeks/MediaStorm_2019-08-17/MediaStormDailySales20190820-113628-440.txt\n",
      "46 2019-08-18 2019-08-24 2019-11-12 22:35:40.746061 /home/jian/BigLots/2019_by_weeks/MediaStorm_2019-08-24/MediaStormDailySales20190827-113630-114.txt\n",
      "47 2019-08-25 2019-08-31 2019-11-12 22:37:21.995738 /home/jian/BigLots/2019_by_weeks/MediaStorm_2019-08-31/MediaStormDailySales20190903-113649-462.txt\n",
      "48 2019-09-01 2019-09-07 2019-11-12 22:38:33.609230 /home/jian/BigLots/2019_by_weeks/MediaStorm_2019-09-07/MediaStormDailySales20190910-120643-163.txt\n",
      "49 2019-09-08 2019-09-14 2019-11-12 22:40:09.654996 /home/jian/BigLots/2019_by_weeks/MediaStorm_2019-09-14/MediaStormDailySales20190917-110425-322.txt\n",
      "50 2019-09-15 2019-09-21 2019-11-12 22:41:41.949258 /home/jian/BigLots/2019_by_weeks/MediaStorm_2019-09-21/MediaStormDailySales20190924-112126-506.txt\n",
      "51 2019-09-22 2019-09-28 2019-11-12 22:43:33.118801 /home/jian/BigLots/2019_by_weeks/MediaStorm_2019-09-28/MediaStormDailySales20191001-111241-312.txt\n",
      "52 2019-09-29 2019-09-30 2019-11-12 22:44:51.877154 /home/jian/BigLots/2019_by_weeks/MediaStorm_2019-10-05/MediaStormDailySales20191008-120723-038.txt\n"
     ]
    }
   ],
   "source": [
    "df_sales_in_1_year=pd.DataFrame()\n",
    "i_counter=0\n",
    "for file in list_POS_item_in_1_year:\n",
    "    try:\n",
    "        df=pd.read_table(file,dtype=str,sep=\"|\",usecols=['customer_id_hashed','transaction_dt','transaction_id','location_id','item_transaction_amt'])\n",
    "        df=df.rename(columns={\"item_transaction_amt\":\"sales\"})\n",
    "    except:\n",
    "        df=pd.read_table(file,dtype=str,sep=\"|\",usecols=['customer_id_hashed','transaction_dt','transaction_id','location_id','subclass_transaction_amt'])\n",
    "        df=df.rename(columns={\"subclass_transaction_amt\":\"sales\"})\n",
    "        \n",
    "    df=df[pd.notnull(df['customer_id_hashed'])]\n",
    "    ###\n",
    "    df=df[df['transaction_dt']>=\"2018-10-01\"]\n",
    "    df=df[df['transaction_dt']<=\"2019-09-30\"]\n",
    "    ###\n",
    "    df['sales']=df['sales'].astype(float)\n",
    "    df_sales=df.groupby(['customer_id_hashed','transaction_dt'])['sales'].sum().to_frame().reset_index()\n",
    "    \n",
    "    df_trans=df[['customer_id_hashed','transaction_dt','transaction_id','location_id']].drop_duplicates()\n",
    "    df_trans['trans']=1\n",
    "    df_trans=df_trans.groupby(['customer_id_hashed','transaction_dt'])['trans'].sum().to_frame().reset_index()\n",
    "    df=pd.merge(df_sales,df_trans,on=[\"customer_id_hashed\",'transaction_dt'],how=\"outer\")\n",
    "\n",
    "    print(i_counter,df['transaction_dt'].min(),df['transaction_dt'].max(),datetime.datetime.now(),file)\n",
    "    i_counter+=1\n",
    "    df_sales_in_1_year=df_sales_in_1_year.append(df)"
   ]
  },
  {
   "cell_type": "code",
   "execution_count": 43,
   "metadata": {},
   "outputs": [
    {
     "data": {
      "text/plain": [
       "(18603131, 4)"
      ]
     },
     "execution_count": 43,
     "metadata": {},
     "output_type": "execute_result"
    }
   ],
   "source": [
    "gc.collect()\n",
    "\n",
    "agg_f={\"transaction_dt\":\"max\",\"sales\":\"sum\",\"trans\":\"sum\"}\n",
    "df_sales_in_1_year=df_sales_in_1_year.groupby(\"customer_id_hashed\")['transaction_dt','sales','trans'].agg(agg_f).reset_index()\n",
    "df_sales_in_1_year=df_sales_in_1_year.rename(columns={\"transaction_dt\":\"last_trans_date_in_1_year\"})\n",
    "df_sales_in_1_year=df_sales_in_1_year.rename(columns={\"sales\":\"sales_in_1_year\"})\n",
    "df_sales_in_1_year=df_sales_in_1_year.rename(columns={\"trans\":\"trans_in_1_year\"})\n",
    "\n",
    "df_sales_in_1_year.shape"
   ]
  },
  {
   "cell_type": "code",
   "execution_count": 44,
   "metadata": {},
   "outputs": [
    {
     "data": {
      "text/html": [
       "<div>\n",
       "<style scoped>\n",
       "    .dataframe tbody tr th:only-of-type {\n",
       "        vertical-align: middle;\n",
       "    }\n",
       "\n",
       "    .dataframe tbody tr th {\n",
       "        vertical-align: top;\n",
       "    }\n",
       "\n",
       "    .dataframe thead th {\n",
       "        text-align: right;\n",
       "    }\n",
       "</style>\n",
       "<table border=\"1\" class=\"dataframe\">\n",
       "  <thead>\n",
       "    <tr style=\"text-align: right;\">\n",
       "      <th></th>\n",
       "      <th>customer_id_hashed</th>\n",
       "      <th>last_trans_date_in_1_year</th>\n",
       "      <th>sales_in_1_year</th>\n",
       "      <th>trans_in_1_year</th>\n",
       "    </tr>\n",
       "  </thead>\n",
       "  <tbody>\n",
       "    <tr>\n",
       "      <th>0</th>\n",
       "      <td>000000ebcf6c6a2f4302291cc9babb0760208fc683b3b5...</td>\n",
       "      <td>2019-08-29</td>\n",
       "      <td>3.80</td>\n",
       "      <td>1</td>\n",
       "    </tr>\n",
       "    <tr>\n",
       "      <th>1</th>\n",
       "      <td>00000135f48c68690ad3d5fc9ada41bb5cd687452007e8...</td>\n",
       "      <td>2018-10-30</td>\n",
       "      <td>211.78</td>\n",
       "      <td>3</td>\n",
       "    </tr>\n",
       "  </tbody>\n",
       "</table>\n",
       "</div>"
      ],
      "text/plain": [
       "                                  customer_id_hashed  \\\n",
       "0  000000ebcf6c6a2f4302291cc9babb0760208fc683b3b5...   \n",
       "1  00000135f48c68690ad3d5fc9ada41bb5cd687452007e8...   \n",
       "\n",
       "  last_trans_date_in_1_year  sales_in_1_year  trans_in_1_year  \n",
       "0                2019-08-29             3.80                1  \n",
       "1                2018-10-30           211.78                3  "
      ]
     },
     "execution_count": 44,
     "metadata": {},
     "output_type": "execute_result"
    }
   ],
   "source": [
    "df_sales_in_1_year.head(2)"
   ]
  },
  {
   "cell_type": "code",
   "execution_count": 45,
   "metadata": {},
   "outputs": [
    {
     "data": {
      "text/plain": [
       "18603131"
      ]
     },
     "execution_count": 45,
     "metadata": {},
     "output_type": "execute_result"
    }
   ],
   "source": [
    "df_sales_in_1_year['customer_id_hashed'].nunique()"
   ]
  },
  {
   "cell_type": "code",
   "execution_count": 46,
   "metadata": {},
   "outputs": [
    {
     "data": {
      "text/plain": [
       "(23357441, 6)"
      ]
     },
     "execution_count": 46,
     "metadata": {},
     "output_type": "execute_result"
    }
   ],
   "source": [
    "df_sales_by_id.shape"
   ]
  },
  {
   "cell_type": "code",
   "execution_count": 47,
   "metadata": {},
   "outputs": [
    {
     "name": "stdout",
     "output_type": "stream",
     "text": [
      "(23357441, 6)\n",
      "(23357441, 9)\n"
     ]
    }
   ],
   "source": [
    "print(df_sales_by_id.shape)\n",
    "df_sales_by_id=pd.merge(df_sales_by_id,df_sales_in_1_year,on=\"customer_id_hashed\",how=\"left\")\n",
    "print(df_sales_by_id.shape)\n",
    "df_sales_by_id['sales_in_1_year']=df_sales_by_id['sales_in_1_year'].fillna(0)\n",
    "df_sales_by_id['trans_in_1_year']=df_sales_by_id['trans_in_1_year'].fillna(0)\n"
   ]
  },
  {
   "cell_type": "code",
   "execution_count": 48,
   "metadata": {},
   "outputs": [
    {
     "data": {
      "text/plain": [
       "0"
      ]
     },
     "execution_count": 48,
     "metadata": {},
     "output_type": "execute_result"
    }
   ],
   "source": [
    "del df_sales_in_1_year\n",
    "gc.collect()"
   ]
  },
  {
   "cell_type": "code",
   "execution_count": 49,
   "metadata": {},
   "outputs": [
    {
     "data": {
      "text/plain": [
       "'/home/jian/Projects/Big_Lots/Analysis/2019_Q4/Loyalty_Health'"
      ]
     },
     "execution_count": 49,
     "metadata": {},
     "output_type": "execute_result"
    }
   ],
   "source": [
    "os.getcwd()"
   ]
  },
  {
   "cell_type": "code",
   "execution_count": 50,
   "metadata": {
    "collapsed": true
   },
   "outputs": [],
   "source": [
    "df_sales_by_id.to_csv(\"./BL_2018Audience_Performance_in_detail_19_JL_\"+str(datetime.datetime.now().date())+\".csv\",index=False)"
   ]
  },
  {
   "cell_type": "code",
   "execution_count": 51,
   "metadata": {
    "collapsed": true
   },
   "outputs": [],
   "source": [
    "df_sales_by_id['shoppers_in_1_year']=np.where(pd.isnull(df_sales_by_id['last_trans_date_in_1_year']),0,1)\n",
    "df_sales_by_id['zip_type']=df_sales_by_id['zip_type'].fillna(\"T\")\n",
    "df_sales_by_id['HML_Group']=df_sales_by_id['HML_Group'].fillna(\"nan\")"
   ]
  },
  {
   "cell_type": "code",
   "execution_count": 52,
   "metadata": {},
   "outputs": [
    {
     "data": {
      "text/plain": [
       "array(['Active (0-12)', 'Lapsed (13-18)', 'Lapsed (19-48)'], dtype=object)"
      ]
     },
     "execution_count": 52,
     "metadata": {},
     "output_type": "execute_result"
    }
   ],
   "source": [
    "df_sales_by_id['Active_Status'].unique()"
   ]
  },
  {
   "cell_type": "code",
   "execution_count": 53,
   "metadata": {},
   "outputs": [
    {
     "data": {
      "text/plain": [
       "array(['H', 'M', 'L', 'nan'], dtype=object)"
      ]
     },
     "execution_count": 53,
     "metadata": {},
     "output_type": "execute_result"
    }
   ],
   "source": [
    "df_sales_by_id['HML_Group'].unique()"
   ]
  },
  {
   "cell_type": "code",
   "execution_count": 54,
   "metadata": {},
   "outputs": [
    {
     "data": {
      "text/plain": [
       "array(['T', 'P', 'S'], dtype=object)"
      ]
     },
     "execution_count": 54,
     "metadata": {},
     "output_type": "execute_result"
    }
   ],
   "source": [
    "df_sales_by_id['zip_type'].unique()"
   ]
  },
  {
   "cell_type": "code",
   "execution_count": 62,
   "metadata": {},
   "outputs": [
    {
     "data": {
      "text/plain": [
       "((23357441, 10), 23357441)"
      ]
     },
     "execution_count": 62,
     "metadata": {},
     "output_type": "execute_result"
    }
   ],
   "source": [
    "df_sales_by_id.shape,df_sales_by_id['customer_id_hashed'].nunique()"
   ]
  },
  {
   "cell_type": "code",
   "execution_count": 63,
   "metadata": {},
   "outputs": [
    {
     "data": {
      "text/html": [
       "<div>\n",
       "<style scoped>\n",
       "    .dataframe tbody tr th:only-of-type {\n",
       "        vertical-align: middle;\n",
       "    }\n",
       "\n",
       "    .dataframe tbody tr th {\n",
       "        vertical-align: top;\n",
       "    }\n",
       "\n",
       "    .dataframe thead th {\n",
       "        text-align: right;\n",
       "    }\n",
       "</style>\n",
       "<table border=\"1\" class=\"dataframe\">\n",
       "  <thead>\n",
       "    <tr style=\"text-align: right;\">\n",
       "      <th></th>\n",
       "      <th>Active_Status</th>\n",
       "      <th>HML_Group</th>\n",
       "      <th>customer_id_hashed</th>\n",
       "      <th>frmindex</th>\n",
       "      <th>last_trans_date</th>\n",
       "      <th>zip_type</th>\n",
       "      <th>last_trans_date_in_1_year</th>\n",
       "      <th>sales_in_1_year</th>\n",
       "      <th>trans_in_1_year</th>\n",
       "      <th>shoppers_in_1_year</th>\n",
       "    </tr>\n",
       "  </thead>\n",
       "  <tbody>\n",
       "    <tr>\n",
       "      <th>0</th>\n",
       "      <td>Active (0-12)</td>\n",
       "      <td>H</td>\n",
       "      <td>2f5db30f6367de199f1a4db628fe77ebe1c6e27cd35a39...</td>\n",
       "      <td>D01</td>\n",
       "      <td>2018-09-28</td>\n",
       "      <td>T</td>\n",
       "      <td>2019-05-16</td>\n",
       "      <td>877.38</td>\n",
       "      <td>53.0</td>\n",
       "      <td>1</td>\n",
       "    </tr>\n",
       "    <tr>\n",
       "      <th>1</th>\n",
       "      <td>Active (0-12)</td>\n",
       "      <td>H</td>\n",
       "      <td>dd66c64db55c9c3ce033192ad9c7ddae635a65f3d4e545...</td>\n",
       "      <td>D01</td>\n",
       "      <td>2018-09-30</td>\n",
       "      <td>P</td>\n",
       "      <td>2018-10-15</td>\n",
       "      <td>-5.70</td>\n",
       "      <td>3.0</td>\n",
       "      <td>1</td>\n",
       "    </tr>\n",
       "  </tbody>\n",
       "</table>\n",
       "</div>"
      ],
      "text/plain": [
       "   Active_Status HML_Group                                 customer_id_hashed  \\\n",
       "0  Active (0-12)         H  2f5db30f6367de199f1a4db628fe77ebe1c6e27cd35a39...   \n",
       "1  Active (0-12)         H  dd66c64db55c9c3ce033192ad9c7ddae635a65f3d4e545...   \n",
       "\n",
       "  frmindex last_trans_date zip_type last_trans_date_in_1_year  \\\n",
       "0      D01      2018-09-28        T                2019-05-16   \n",
       "1      D01      2018-09-30        P                2018-10-15   \n",
       "\n",
       "   sales_in_1_year  trans_in_1_year  shoppers_in_1_year  \n",
       "0           877.38             53.0                   1  \n",
       "1            -5.70              3.0                   1  "
      ]
     },
     "execution_count": 63,
     "metadata": {},
     "output_type": "execute_result"
    }
   ],
   "source": [
    "df_sales_by_id.head(2)"
   ]
  },
  {
   "cell_type": "code",
   "execution_count": 56,
   "metadata": {},
   "outputs": [
    {
     "data": {
      "text/plain": [
       "(13, 7)"
      ]
     },
     "execution_count": 56,
     "metadata": {},
     "output_type": "execute_result"
    }
   ],
   "source": [
    "agg_f={\"customer_id_hashed\":\"count\",\"shoppers_in_1_year\":\"sum\",\"sales_in_1_year\":\"sum\",\"trans_in_1_year\":\"sum\"}\n",
    "\n",
    "df_output=df_sales_by_id.groupby([\"Active_Status\",'HML_Group','zip_type'])['customer_id_hashed','shoppers_in_1_year','sales_in_1_year','trans_in_1_year'].agg(agg_f).reset_index()\n",
    "df_output.shape"
   ]
  },
  {
   "cell_type": "code",
   "execution_count": 57,
   "metadata": {
    "collapsed": true
   },
   "outputs": [],
   "source": [
    "df_output.to_csv(\"./BL_2018Audience_Performance_in_summary_19_JL_\"+str(datetime.datetime.now().date())+\".csv\",index=False)"
   ]
  },
  {
   "cell_type": "code",
   "execution_count": 58,
   "metadata": {},
   "outputs": [
    {
     "data": {
      "text/html": [
       "<div>\n",
       "<style scoped>\n",
       "    .dataframe tbody tr th:only-of-type {\n",
       "        vertical-align: middle;\n",
       "    }\n",
       "\n",
       "    .dataframe tbody tr th {\n",
       "        vertical-align: top;\n",
       "    }\n",
       "\n",
       "    .dataframe thead th {\n",
       "        text-align: right;\n",
       "    }\n",
       "</style>\n",
       "<table border=\"1\" class=\"dataframe\">\n",
       "  <thead>\n",
       "    <tr style=\"text-align: right;\">\n",
       "      <th></th>\n",
       "      <th>Active_Status</th>\n",
       "      <th>HML_Group</th>\n",
       "      <th>zip_type</th>\n",
       "      <th>customer_id_hashed</th>\n",
       "      <th>shoppers_in_1_year</th>\n",
       "      <th>sales_in_1_year</th>\n",
       "      <th>trans_in_1_year</th>\n",
       "    </tr>\n",
       "  </thead>\n",
       "  <tbody>\n",
       "    <tr>\n",
       "      <th>0</th>\n",
       "      <td>Active (0-12)</td>\n",
       "      <td>H</td>\n",
       "      <td>P</td>\n",
       "      <td>4821245</td>\n",
       "      <td>4044130</td>\n",
       "      <td>1.050063e+09</td>\n",
       "      <td>32374924.0</td>\n",
       "    </tr>\n",
       "    <tr>\n",
       "      <th>1</th>\n",
       "      <td>Active (0-12)</td>\n",
       "      <td>H</td>\n",
       "      <td>S</td>\n",
       "      <td>1673803</td>\n",
       "      <td>1351390</td>\n",
       "      <td>3.326459e+08</td>\n",
       "      <td>9250986.0</td>\n",
       "    </tr>\n",
       "    <tr>\n",
       "      <th>2</th>\n",
       "      <td>Active (0-12)</td>\n",
       "      <td>H</td>\n",
       "      <td>T</td>\n",
       "      <td>1053388</td>\n",
       "      <td>727156</td>\n",
       "      <td>1.589735e+08</td>\n",
       "      <td>4229824.0</td>\n",
       "    </tr>\n",
       "    <tr>\n",
       "      <th>3</th>\n",
       "      <td>Active (0-12)</td>\n",
       "      <td>L</td>\n",
       "      <td>P</td>\n",
       "      <td>1843668</td>\n",
       "      <td>740653</td>\n",
       "      <td>8.347527e+07</td>\n",
       "      <td>1967423.0</td>\n",
       "    </tr>\n",
       "    <tr>\n",
       "      <th>4</th>\n",
       "      <td>Active (0-12)</td>\n",
       "      <td>L</td>\n",
       "      <td>S</td>\n",
       "      <td>787297</td>\n",
       "      <td>302226</td>\n",
       "      <td>3.515459e+07</td>\n",
       "      <td>756247.0</td>\n",
       "    </tr>\n",
       "    <tr>\n",
       "      <th>5</th>\n",
       "      <td>Active (0-12)</td>\n",
       "      <td>L</td>\n",
       "      <td>T</td>\n",
       "      <td>413151</td>\n",
       "      <td>138143</td>\n",
       "      <td>1.632324e+07</td>\n",
       "      <td>344801.0</td>\n",
       "    </tr>\n",
       "    <tr>\n",
       "      <th>6</th>\n",
       "      <td>Active (0-12)</td>\n",
       "      <td>M</td>\n",
       "      <td>P</td>\n",
       "      <td>3464852</td>\n",
       "      <td>2158231</td>\n",
       "      <td>3.296508e+08</td>\n",
       "      <td>8183925.0</td>\n",
       "    </tr>\n",
       "    <tr>\n",
       "      <th>7</th>\n",
       "      <td>Active (0-12)</td>\n",
       "      <td>M</td>\n",
       "      <td>S</td>\n",
       "      <td>1353427</td>\n",
       "      <td>806517</td>\n",
       "      <td>1.252245e+08</td>\n",
       "      <td>2830635.0</td>\n",
       "    </tr>\n",
       "    <tr>\n",
       "      <th>8</th>\n",
       "      <td>Active (0-12)</td>\n",
       "      <td>M</td>\n",
       "      <td>T</td>\n",
       "      <td>843048</td>\n",
       "      <td>422896</td>\n",
       "      <td>6.323831e+07</td>\n",
       "      <td>1362926.0</td>\n",
       "    </tr>\n",
       "    <tr>\n",
       "      <th>9</th>\n",
       "      <td>Lapsed (13-18)</td>\n",
       "      <td>L</td>\n",
       "      <td>P</td>\n",
       "      <td>1619477</td>\n",
       "      <td>520183</td>\n",
       "      <td>6.040963e+07</td>\n",
       "      <td>1347603.0</td>\n",
       "    </tr>\n",
       "    <tr>\n",
       "      <th>10</th>\n",
       "      <td>Lapsed (13-18)</td>\n",
       "      <td>L</td>\n",
       "      <td>S</td>\n",
       "      <td>683495</td>\n",
       "      <td>209918</td>\n",
       "      <td>2.509923e+07</td>\n",
       "      <td>512275.0</td>\n",
       "    </tr>\n",
       "    <tr>\n",
       "      <th>11</th>\n",
       "      <td>Lapsed (13-18)</td>\n",
       "      <td>L</td>\n",
       "      <td>T</td>\n",
       "      <td>314237</td>\n",
       "      <td>81921</td>\n",
       "      <td>1.010078e+07</td>\n",
       "      <td>196981.0</td>\n",
       "    </tr>\n",
       "    <tr>\n",
       "      <th>12</th>\n",
       "      <td>Lapsed (19-48)</td>\n",
       "      <td>nan</td>\n",
       "      <td>T</td>\n",
       "      <td>4486353</td>\n",
       "      <td>893103</td>\n",
       "      <td>1.024956e+08</td>\n",
       "      <td>2077143.0</td>\n",
       "    </tr>\n",
       "  </tbody>\n",
       "</table>\n",
       "</div>"
      ],
      "text/plain": [
       "     Active_Status HML_Group zip_type  customer_id_hashed  shoppers_in_1_year  \\\n",
       "0    Active (0-12)         H        P             4821245             4044130   \n",
       "1    Active (0-12)         H        S             1673803             1351390   \n",
       "2    Active (0-12)         H        T             1053388              727156   \n",
       "3    Active (0-12)         L        P             1843668              740653   \n",
       "4    Active (0-12)         L        S              787297              302226   \n",
       "5    Active (0-12)         L        T              413151              138143   \n",
       "6    Active (0-12)         M        P             3464852             2158231   \n",
       "7    Active (0-12)         M        S             1353427              806517   \n",
       "8    Active (0-12)         M        T              843048              422896   \n",
       "9   Lapsed (13-18)         L        P             1619477              520183   \n",
       "10  Lapsed (13-18)         L        S              683495              209918   \n",
       "11  Lapsed (13-18)         L        T              314237               81921   \n",
       "12  Lapsed (19-48)       nan        T             4486353              893103   \n",
       "\n",
       "    sales_in_1_year  trans_in_1_year  \n",
       "0      1.050063e+09       32374924.0  \n",
       "1      3.326459e+08        9250986.0  \n",
       "2      1.589735e+08        4229824.0  \n",
       "3      8.347527e+07        1967423.0  \n",
       "4      3.515459e+07         756247.0  \n",
       "5      1.632324e+07         344801.0  \n",
       "6      3.296508e+08        8183925.0  \n",
       "7      1.252245e+08        2830635.0  \n",
       "8      6.323831e+07        1362926.0  \n",
       "9      6.040963e+07        1347603.0  \n",
       "10     2.509923e+07         512275.0  \n",
       "11     1.010078e+07         196981.0  \n",
       "12     1.024956e+08        2077143.0  "
      ]
     },
     "execution_count": 58,
     "metadata": {},
     "output_type": "execute_result"
    }
   ],
   "source": [
    "df_output"
   ]
  },
  {
   "cell_type": "code",
   "execution_count": 59,
   "metadata": {},
   "outputs": [
    {
     "data": {
      "text/plain": [
       "23357441"
      ]
     },
     "execution_count": 59,
     "metadata": {},
     "output_type": "execute_result"
    }
   ],
   "source": [
    "df_output['customer_id_hashed'].sum()"
   ]
  },
  {
   "cell_type": "code",
   "execution_count": 60,
   "metadata": {},
   "outputs": [
    {
     "data": {
      "text/html": [
       "<div>\n",
       "<style scoped>\n",
       "    .dataframe tbody tr th:only-of-type {\n",
       "        vertical-align: middle;\n",
       "    }\n",
       "\n",
       "    .dataframe tbody tr th {\n",
       "        vertical-align: top;\n",
       "    }\n",
       "\n",
       "    .dataframe thead th {\n",
       "        text-align: right;\n",
       "    }\n",
       "</style>\n",
       "<table border=\"1\" class=\"dataframe\">\n",
       "  <thead>\n",
       "    <tr style=\"text-align: right;\">\n",
       "      <th></th>\n",
       "      <th>Active_Status</th>\n",
       "      <th>HML_Group</th>\n",
       "      <th>customer_id_hashed</th>\n",
       "      <th>frmindex</th>\n",
       "      <th>last_trans_date</th>\n",
       "      <th>zip_type</th>\n",
       "      <th>last_trans_date_in_1_year</th>\n",
       "      <th>sales_in_1_year</th>\n",
       "      <th>trans_in_1_year</th>\n",
       "      <th>shoppers_in_1_year</th>\n",
       "    </tr>\n",
       "  </thead>\n",
       "  <tbody>\n",
       "  </tbody>\n",
       "</table>\n",
       "</div>"
      ],
      "text/plain": [
       "Empty DataFrame\n",
       "Columns: [Active_Status, HML_Group, customer_id_hashed, frmindex, last_trans_date, zip_type, last_trans_date_in_1_year, sales_in_1_year, trans_in_1_year, shoppers_in_1_year]\n",
       "Index: []"
      ]
     },
     "execution_count": 60,
     "metadata": {},
     "output_type": "execute_result"
    }
   ],
   "source": [
    "df_sales_by_id[(df_sales_by_id['Active_Status']==\"Lapsed (13-18)\") & (df_sales_by_id['HML_Group']==\"nan\")]"
   ]
  },
  {
   "cell_type": "code",
   "execution_count": 61,
   "metadata": {},
   "outputs": [
    {
     "name": "stdout",
     "output_type": "stream",
     "text": [
      "2019-11-12 23:58:39.860519\n"
     ]
    }
   ],
   "source": [
    "print(datetime.datetime.now())"
   ]
  },
  {
   "cell_type": "code",
   "execution_count": null,
   "metadata": {
    "collapsed": true
   },
   "outputs": [],
   "source": []
  },
  {
   "cell_type": "code",
   "execution_count": null,
   "metadata": {
    "collapsed": true
   },
   "outputs": [],
   "source": []
  }
 ],
 "metadata": {
  "kernelspec": {
   "display_name": "Python 3",
   "language": "python",
   "name": "python3"
  },
  "language_info": {
   "codemirror_mode": {
    "name": "ipython",
    "version": 3
   },
   "file_extension": ".py",
   "mimetype": "text/x-python",
   "name": "python",
   "nbconvert_exporter": "python",
   "pygments_lexer": "ipython3",
   "version": "3.6.1"
  }
 },
 "nbformat": 4,
 "nbformat_minor": 2
}
