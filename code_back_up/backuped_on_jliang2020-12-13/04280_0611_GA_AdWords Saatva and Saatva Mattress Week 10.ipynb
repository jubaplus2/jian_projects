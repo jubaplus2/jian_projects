{
 "cells": [
  {
   "cell_type": "code",
   "execution_count": 1,
   "metadata": {
    "collapsed": true
   },
   "outputs": [],
   "source": [
    "# Week 10: 4/9/18-4/29/18\n",
    "import pandas as pd\n",
    "import numpy as np\n",
    "import datetime\n",
    "import pandas as pd\n",
    "from googleads import adwords\n",
    "import google_analytics_reporting_api as ga\n",
    "import os\n",
    "\n",
    "week=\"_week10\" # 2018 Spring\n",
    "\n",
    "Start_Date_overall='2018-04-09'\n",
    "End_Data_overall='2018-04-29'\n",
    "\n",
    "Start_Date_1='2018-04-09'\n",
    "End_Date_1='2018-04-18'\n",
    "\n",
    "Start_Date_2='2018-04-19'\n",
    "End_Date_2='2018-04-29'\n",
    "\n",
    "\n",
    "today_str=str(datetime.datetime.now().date())\n",
    "writer_folder=\"/home/jian/Projects/Saatva/To Lexie/output/running_on_\"+today_str+\"/\"\n",
    "try:\n",
    "    os.stat(writer_folder)\n",
    "except:\n",
    "    os.mkdir(writer_folder)"
   ]
  },
  {
   "cell_type": "markdown",
   "metadata": {},
   "source": [
    "# Google Analytics"
   ]
  },
  {
   "cell_type": "code",
   "execution_count": 2,
   "metadata": {
    "collapsed": true
   },
   "outputs": [],
   "source": [
    "analytics = ga.initialize_analyticsreporting('/home/jian/Projects/Saatva/GA/GA_api_jubapluscc@gmail.com.json')\n",
    "\n",
    "def num_func_trans(df):\n",
    "    if 'ga:sessions' in df.columns:\n",
    "        df['ga:sessions']=df['ga:sessions'].apply(lambda x: int(x.replace(\",\",\"\")))\n",
    "        df['ga:sessions']=df['ga:sessions'].astype(int)\n",
    "\n",
    "    if 'ga:adClicks' in df.columns:\n",
    "        df['ga:adClicks']=df['ga:adClicks'].apply(lambda x: int(x.replace(\",\",\"\")))\n",
    "        df['ga:adClicks']=df['ga:adClicks'].astype(int)\n",
    "\n",
    "    if 'ga:impressions' in df.columns:\n",
    "        df['ga:impressions']=df['ga:impressions'].apply(lambda x: int(x.replace(\",\",\"\")))\n",
    "        df['ga:impressions']=df['ga:impressions'].astype(int)\n",
    "\n",
    "    \n",
    "    return df\n"
   ]
  },
  {
   "cell_type": "code",
   "execution_count": 3,
   "metadata": {},
   "outputs": [
    {
     "data": {
      "text/plain": [
       "(3358, 5)"
      ]
     },
     "execution_count": 3,
     "metadata": {},
     "output_type": "execute_result"
    }
   ],
   "source": [
    "# Saatva.com\n",
    "# dateHour, sourceMedium      sessions, adClicks, impressions\n",
    "ga_data_1=ga.get_report_over_10000_rows(analytics=analytics, VIEW_ID='122377905',start_date=Start_Date_1, end_date=End_Date_1,\n",
    "                                            ga_metrics=['ga:sessions','ga:adClicks','ga:impressions'],\n",
    "                                            ga_dimensions=['ga:dateHour','ga:sourceMedium'])\n",
    "\n",
    "ga_data_2=ga.get_report_over_10000_rows(analytics=analytics, VIEW_ID='122377905',start_date=Start_Date_2, end_date=End_Date_2,\n",
    "                                            ga_metrics=['ga:sessions','ga:adClicks','ga:impressions'],\n",
    "                                            ga_dimensions=['ga:dateHour','ga:sourceMedium'])\n",
    "\n",
    "\n",
    "ga_data_saatva=ga_data_1.append(ga_data_2)\n",
    "ga_data_saatva.shape"
   ]
  },
  {
   "cell_type": "code",
   "execution_count": 4,
   "metadata": {},
   "outputs": [
    {
     "data": {
      "text/plain": [
       "(18394, 5)"
      ]
     },
     "execution_count": 4,
     "metadata": {},
     "output_type": "execute_result"
    }
   ],
   "source": [
    "# Saatvamattress.com\n",
    "# dateHour, sourceMedium      sessions, adClicks, impressions\n",
    "ga_data_1=ga.get_report_over_10000_rows(analytics=analytics, VIEW_ID='33605697',start_date=Start_Date_1, end_date=End_Date_1,\n",
    "                                            ga_metrics=['ga:sessions','ga:adClicks','ga:impressions'],\n",
    "                                            ga_dimensions=['ga:dateHour','ga:sourceMedium'])\n",
    "\n",
    "ga_data_2=ga.get_report_over_10000_rows(analytics=analytics, VIEW_ID='33605697',start_date=Start_Date_2, end_date=End_Date_2,\n",
    "                                            ga_metrics=['ga:sessions','ga:adClicks','ga:impressions'],\n",
    "                                            ga_dimensions=['ga:dateHour','ga:sourceMedium'])\n",
    "\n",
    "\n",
    "ga_data_SM=ga_data_1.append(ga_data_2)\n",
    "ga_data_SM.shape"
   ]
  },
  {
   "cell_type": "code",
   "execution_count": 13,
   "metadata": {
    "collapsed": true
   },
   "outputs": [],
   "source": [
    "ga_data_SM=num_func_trans(ga_data_SM)\n",
    "ga_data_saatva=num_func_trans(ga_data_saatva)\n",
    "ga_data_both=ga_data_SM.append(ga_data_saatva)"
   ]
  },
  {
   "cell_type": "code",
   "execution_count": 14,
   "metadata": {
    "collapsed": true
   },
   "outputs": [],
   "source": [
    "def define_media(df,writing_df_name):\n",
    "    df['Source']=df['ga:sourceMedium'].apply(lambda x: x.split(\" / \")[0])\n",
    "    df['Medium']=df['ga:sourceMedium'].apply(lambda x: x.split(\" / \")[1])\n",
    "    # msn in 'social'\n",
    "    # mail.yahoo.com / referral in 'referral'\n",
    "\n",
    "    df['Defined_Media']=np.nan\n",
    "    df['Defined_Media']=np.where(df['ga:sourceMedium'].str.contains('youtube.'),\"Social\",\n",
    "                                      np.where((df['Source'].isin(['msn','instagram','pinterest','facebook'])) & (df['Medium']=='cpc'),\"Social\", # Social: 'msn','instagram','pinterest','facebook\n",
    "                                               np.where(df['ga:sourceMedium'].str.contains('criteo'),\"Retarget\",\n",
    "                                                        np.where(df['Source']==\"(direct)\",\"Direct\",\n",
    "                                                                 np.where((df['Source'].isin(['google','bing','yahoo'])) & (df['Medium']=='cpc'),\"SEM\",\n",
    "                                                                              np.where((df['Source'].isin(['google','bing','yahoo'])) & (df['Medium']=='organic'),\"SEO\",\n",
    "                                                                                       np.where(df['Source']==\"powerInbox\",\"Email\",\n",
    "                                                                                                np.where((df['ga:sourceMedium'].str.contains('email')) & (~df['ga:sourceMedium'].isin([\"taboola / townnews-wvgazettemail\",\"query.hemailaccessonline.com / referral\"]) | (df['ga:sourceMedium'].str.contains(\"mail.\") )),\"Email\",\n",
    "                                                                                                         np.where(df['ga:sourceMedium'].str.contains('taboola'),\"Video\",\n",
    "                                                                                                                  np.where(df['Medium']==\"referral\",\"Referral\",\n",
    "                                                                                                                           np.where(df['ga:sourceMedium'].str.contains('display'),\"Display\",\n",
    "                                                                                                                                    \"Others\")\n",
    "                                                                                                                           )\n",
    "                                                                                                                  )\n",
    "                                                                                                         )\n",
    "                                                                                               )\n",
    "                                                                                      )\n",
    "                                                                         )\n",
    "                                                                )\n",
    "                                                       )\n",
    "                                              )\n",
    "                                     )\n",
    "    GA_taxonomy=df[['ga:sourceMedium','Source','Medium','Defined_Media']].drop_duplicates()\n",
    "    GA_taxonomy.reset_index(inplace=True)\n",
    "    GA_taxonomy=GA_taxonomy.sort_values('Defined_Media')\n",
    "    del GA_taxonomy['index']\n",
    "    ga_agg=df.groupby(['ga:dateHour','Defined_Media'])['ga:sessions'].sum().to_frame()\n",
    "    ga_agg.reset_index(inplace=True)\n",
    "    ga_agg_wide=ga_agg.pivot('ga:dateHour','Defined_Media','ga:sessions')\n",
    "    ga_agg_wide.reset_index(inplace=True)\n",
    "    ga_agg_wide['time_hour']=ga_agg_wide['ga:dateHour'].apply(lambda x:datetime.datetime.strptime(x,\"%Y%m%d%H\"))\n",
    "    writer=pd.ExcelWriter(writer_folder+'/Saatva_'+writing_df_name+'_GA_by_Media_'+Start_Date_1+'_to_'+End_Date_2+week+'.xlsx', engine='xlsxwriter')\n",
    "    ga_agg_wide.to_excel(writer,\"reshaped_df_hour_media\",index=False)\n",
    "    df.to_excel(writer,\"data\",index=False)\n",
    "    GA_taxonomy.to_excel(writer,\"taxonomy\",index=False)\n",
    "    writer.save()     \n",
    "    media_col=ga_agg_wide.columns.tolist()[1:(len(ga_agg_wide.columns)-1)]\n",
    "    ga_output_csv=ga_agg_wide.copy()\n",
    "    ga_output_csv['Date']=ga_output_csv['ga:dateHour'].apply(lambda x:int(x[0:8]))\n",
    "    ga_output_csv['Hour']=ga_output_csv['ga:dateHour'].apply(lambda x:int(x[8:10]))\n",
    "    del ga_output_csv['ga:dateHour']\n",
    "    ga_output_csv=ga_output_csv.sort_values(['Date','Hour'],ascending=True)\n",
    "    ga_output_csv=ga_output_csv[['Date','Hour']+media_col]\n",
    "    ga_output_csv=ga_output_csv.fillna(0)\n",
    "    ga_output_csv.to_csv(writer_folder+'/Saatva_'+writing_df_name+'_GA_by_Media_'+Start_Date_1+'_to_'+End_Date_2+week+'.csv',index=False)\n",
    "    "
   ]
  },
  {
   "cell_type": "code",
   "execution_count": 15,
   "metadata": {
    "collapsed": true
   },
   "outputs": [],
   "source": [
    "define_media(ga_data_SM,\"SaatvaMattress_Only\")\n",
    "define_media(ga_data_saatva,\"Saatva_Only\")\n",
    "define_media(ga_data_both,\"Both\")"
   ]
  },
  {
   "cell_type": "code",
   "execution_count": null,
   "metadata": {
    "collapsed": true
   },
   "outputs": [],
   "source": []
  },
  {
   "cell_type": "code",
   "execution_count": null,
   "metadata": {
    "collapsed": true
   },
   "outputs": [],
   "source": []
  },
  {
   "cell_type": "code",
   "execution_count": null,
   "metadata": {
    "collapsed": true
   },
   "outputs": [],
   "source": []
  },
  {
   "cell_type": "code",
   "execution_count": null,
   "metadata": {
    "collapsed": true
   },
   "outputs": [],
   "source": []
  },
  {
   "cell_type": "code",
   "execution_count": 6,
   "metadata": {},
   "outputs": [
    {
     "data": {
      "text/plain": [
       "'\\n# Moved into the function\\nga_data[\\'Source\\']=ga_data[\\'ga:sourceMedium\\'].apply(lambda x: x.split(\" / \")[0])\\nga_data[\\'Medium\\']=ga_data[\\'ga:sourceMedium\\'].apply(lambda x: x.split(\" / \")[1])\\n'"
      ]
     },
     "execution_count": 6,
     "metadata": {},
     "output_type": "execute_result"
    }
   ],
   "source": [
    "'''\n",
    "# Moved into the function\n",
    "ga_data['Source']=ga_data['ga:sourceMedium'].apply(lambda x: x.split(\" / \")[0])\n",
    "ga_data['Medium']=ga_data['ga:sourceMedium'].apply(lambda x: x.split(\" / \")[1])\n",
    "'''"
   ]
  },
  {
   "cell_type": "code",
   "execution_count": 7,
   "metadata": {},
   "outputs": [
    {
     "data": {
      "text/plain": [
       "'\\n# Moved into the function\\n# msn in \\'social\\'\\n# mail.yahoo.com / referral in \\'referral\\'\\n\\nga_data[\\'Defined_Media\\']=np.nan\\nga_data[\\'Defined_Media\\']=np.where(ga_data[\\'ga:sourceMedium\\'].str.contains(\\'youtube.\\'),\"Social\",\\n                                  np.where((ga_data[\\'Source\\'].isin([\\'msn\\',\\'instagram\\',\\'pinterest\\',\\'facebook\\'])) & (ga_data[\\'Medium\\']==\\'cpc\\'),\"Social\", # Social: \\'msn\\',\\'instagram\\',\\'pinterest\\',\\'facebook\\n                                           np.where(ga_data[\\'ga:sourceMedium\\'].str.contains(\\'criteo\\'),\"Retarget\",\\n                                                    np.where(ga_data[\\'Source\\']==\"(direct)\",\"Direct\",\\n                                                             np.where((ga_data[\\'Source\\'].isin([\\'google\\',\\'bing\\',\\'yahoo\\'])) & (ga_data[\\'Medium\\']==\\'cpc\\'),\"SEM\",\\n                                                                          np.where((ga_data[\\'Source\\'].isin([\\'google\\',\\'bing\\',\\'yahoo\\'])) & (ga_data[\\'Medium\\']==\\'organic\\'),\"SEO\",\\n                                                                                   np.where(ga_data[\\'Source\\']==\"powerInbox\",\"Email\",\\n                                                                                            np.where((ga_data[\\'ga:sourceMedium\\'].str.contains(\\'email\\')) & (~ga_data[\\'ga:sourceMedium\\'].isin([\"taboola / townnews-wvgazettemail\",\"query.hemailaccessonline.com / referral\"]) | (ga_data[\\'ga:sourceMedium\\'].str.contains(\"mail.\") )),\"Email\",\\n                                                                                                     np.where(ga_data[\\'ga:sourceMedium\\'].str.contains(\\'taboola\\'),\"Video\",\\n                                                                                                              np.where(ga_data[\\'Medium\\']==\"referral\",\"Referral\",\\n                                                                                                                       np.where(ga_data[\\'ga:sourceMedium\\'].str.contains(\\'display\\'),\"Display\",\\n                                                                                                                                \"Others\")\\n                                                                                                                       )\\n                                                                                                              )\\n                                                                                                     )\\n                                                                                           )\\n                                                                                  )\\n                                                                     )\\n                                                            )\\n                                                   )\\n                                          )\\n                                 )\\n'"
      ]
     },
     "execution_count": 7,
     "metadata": {},
     "output_type": "execute_result"
    }
   ],
   "source": [
    "'''\n",
    "# Moved into the function\n",
    "# msn in 'social'\n",
    "# mail.yahoo.com / referral in 'referral'\n",
    "\n",
    "ga_data['Defined_Media']=np.nan\n",
    "ga_data['Defined_Media']=np.where(ga_data['ga:sourceMedium'].str.contains('youtube.'),\"Social\",\n",
    "                                  np.where((ga_data['Source'].isin(['msn','instagram','pinterest','facebook'])) & (ga_data['Medium']=='cpc'),\"Social\", # Social: 'msn','instagram','pinterest','facebook\n",
    "                                           np.where(ga_data['ga:sourceMedium'].str.contains('criteo'),\"Retarget\",\n",
    "                                                    np.where(ga_data['Source']==\"(direct)\",\"Direct\",\n",
    "                                                             np.where((ga_data['Source'].isin(['google','bing','yahoo'])) & (ga_data['Medium']=='cpc'),\"SEM\",\n",
    "                                                                          np.where((ga_data['Source'].isin(['google','bing','yahoo'])) & (ga_data['Medium']=='organic'),\"SEO\",\n",
    "                                                                                   np.where(ga_data['Source']==\"powerInbox\",\"Email\",\n",
    "                                                                                            np.where((ga_data['ga:sourceMedium'].str.contains('email')) & (~ga_data['ga:sourceMedium'].isin([\"taboola / townnews-wvgazettemail\",\"query.hemailaccessonline.com / referral\"]) | (ga_data['ga:sourceMedium'].str.contains(\"mail.\") )),\"Email\",\n",
    "                                                                                                     np.where(ga_data['ga:sourceMedium'].str.contains('taboola'),\"Video\",\n",
    "                                                                                                              np.where(ga_data['Medium']==\"referral\",\"Referral\",\n",
    "                                                                                                                       np.where(ga_data['ga:sourceMedium'].str.contains('display'),\"Display\",\n",
    "                                                                                                                                \"Others\")\n",
    "                                                                                                                       )\n",
    "                                                                                                              )\n",
    "                                                                                                     )\n",
    "                                                                                           )\n",
    "                                                                                  )\n",
    "                                                                     )\n",
    "                                                            )\n",
    "                                                   )\n",
    "                                          )\n",
    "                                 )\n",
    "'''"
   ]
  },
  {
   "cell_type": "code",
   "execution_count": 8,
   "metadata": {},
   "outputs": [
    {
     "data": {
      "text/plain": [
       "\"\\n# Moved into the function\\nGA_taxonomy=ga_data[['ga:sourceMedium','Source','Medium','Defined_Media']].drop_duplicates()\\nGA_taxonomy.reset_index(inplace=True)\\nGA_taxonomy=GA_taxonomy.sort_values('Defined_Media')\\ndel GA_taxonomy['index']\\n\""
      ]
     },
     "execution_count": 8,
     "metadata": {},
     "output_type": "execute_result"
    }
   ],
   "source": [
    "'''\n",
    "# Moved into the function\n",
    "GA_taxonomy=ga_data[['ga:sourceMedium','Source','Medium','Defined_Media']].drop_duplicates()\n",
    "GA_taxonomy.reset_index(inplace=True)\n",
    "GA_taxonomy=GA_taxonomy.sort_values('Defined_Media')\n",
    "del GA_taxonomy['index']\n",
    "'''"
   ]
  },
  {
   "cell_type": "code",
   "execution_count": 9,
   "metadata": {},
   "outputs": [
    {
     "data": {
      "text/plain": [
       "\"\\n# Moved into the function\\nga_agg=ga_data.groupby(['ga:dateHour','Defined_Media'])['ga:sessions'].sum().to_frame()\\nga_agg.reset_index(inplace=True)\\n\""
      ]
     },
     "execution_count": 9,
     "metadata": {},
     "output_type": "execute_result"
    }
   ],
   "source": [
    "'''\n",
    "# Moved into the function\n",
    "ga_agg=ga_data.groupby(['ga:dateHour','Defined_Media'])['ga:sessions'].sum().to_frame()\n",
    "ga_agg.reset_index(inplace=True)\n",
    "'''"
   ]
  },
  {
   "cell_type": "code",
   "execution_count": 10,
   "metadata": {},
   "outputs": [
    {
     "data": {
      "text/plain": [
       "\"\\n# Moved into the function\\nga_agg_wide=ga_agg.pivot('ga:dateHour','Defined_Media','ga:sessions')\\nga_agg_wide.reset_index(inplace=True)\\n\""
      ]
     },
     "execution_count": 10,
     "metadata": {},
     "output_type": "execute_result"
    }
   ],
   "source": [
    "'''\n",
    "# Moved into the function\n",
    "ga_agg_wide=ga_agg.pivot('ga:dateHour','Defined_Media','ga:sessions')\n",
    "ga_agg_wide.reset_index(inplace=True)\n",
    "'''"
   ]
  },
  {
   "cell_type": "code",
   "execution_count": 11,
   "metadata": {},
   "outputs": [
    {
     "data": {
      "text/plain": [
       "'\\n# Moved into the function\\nga_agg_wide[\\'time_hour\\']=ga_agg_wide[\\'ga:dateHour\\'].apply(lambda x:datetime.datetime.strptime(x,\"%Y%m%d%H\"))\\n'"
      ]
     },
     "execution_count": 11,
     "metadata": {},
     "output_type": "execute_result"
    }
   ],
   "source": [
    "'''\n",
    "# Moved into the function\n",
    "ga_agg_wide['time_hour']=ga_agg_wide['ga:dateHour'].apply(lambda x:datetime.datetime.strptime(x,\"%Y%m%d%H\"))\n",
    "'''"
   ]
  },
  {
   "cell_type": "code",
   "execution_count": 12,
   "metadata": {},
   "outputs": [
    {
     "data": {
      "text/plain": [
       "\"\\n# Moved into the function\\nwriter=pd.ExcelWriter(writer_folder+'/Saatva_S_and_SM_GA_by_Media_'+Start_Date_1+'_to_'+End_Date_2+week+'.xlsx', engine='xlsxwriter')\\n\""
      ]
     },
     "execution_count": 12,
     "metadata": {},
     "output_type": "execute_result"
    }
   ],
   "source": [
    "'''\n",
    "# Moved into the function\n",
    "writer=pd.ExcelWriter(writer_folder+'/Saatva_S_and_SM_GA_by_Media_'+Start_Date_1+'_to_'+End_Date_2+week+'.xlsx', engine='xlsxwriter')\n",
    "'''"
   ]
  },
  {
   "cell_type": "code",
   "execution_count": 100,
   "metadata": {
    "collapsed": true
   },
   "outputs": [],
   "source": [
    "'''\n",
    "# Moved into the function\n",
    "\n",
    "# Combined both Saatva.com and Saatvamattress.com\n",
    "ga_agg_wide.to_excel(writer,\"reshaped_df_hour_media\",index=False)\n",
    "ga_data.to_excel(writer,\"data\",index=False)\n",
    "GA_taxonomy.to_excel(writer,\"taxonomy\",index=False)\n",
    "writer.save()\n",
    "'''"
   ]
  },
  {
   "cell_type": "code",
   "execution_count": 101,
   "metadata": {
    "collapsed": true
   },
   "outputs": [],
   "source": [
    "'''\n",
    "# Moved into the function\n",
    "\n",
    "media_col=ga_agg_wide.columns.tolist()[1:(len(ga_agg_wide.columns)-1)]\n",
    "ga_output_csv=ga_agg_wide.copy()\n",
    "ga_output_csv['Date']=ga_output_csv['ga:dateHour'].apply(lambda x:int(x[0:8]))\n",
    "ga_output_csv['Hour']=ga_output_csv['ga:dateHour'].apply(lambda x:int(x[8:10]))\n",
    "del ga_output_csv['ga:dateHour']\n",
    "ga_output_csv=ga_output_csv.sort_values(['Date','Hour'],ascending=True)\n",
    "ga_output_csv=ga_output_csv[['Date','Hour']+media_col]\n",
    "ga_output_csv=ga_output_csv.fillna(0)\n",
    "ga_output_csv.to_csv(writer_folder+'/Saatva_S_and_SM_GA_by_Media_'+Start_Date_1+'_to_'+End_Date_2+week+'.csv',index=False)\n",
    "'''"
   ]
  },
  {
   "cell_type": "markdown",
   "metadata": {},
   "source": [
    "# Google AdWords"
   ]
  },
  {
   "cell_type": "code",
   "execution_count": 2,
   "metadata": {
    "collapsed": true
   },
   "outputs": [],
   "source": [
    "def get_client(config_path='googleads_saatva.yaml'):\n",
    "    return adwords.AdWordsClient.LoadFromStorage(config_path)\n",
    "\n",
    "def download_report_as_stream(client, report_type, fields, start_date, end_date):\n",
    "    '''Download Adwords report, then save as csv file to base_dir\n",
    "    Args:\n",
    "        client: adwords.AdWordsClient.LoadFromStorage()\n",
    "        report_type: str eg. 'KEYWORDS_PERFORMANCE_REPORT'\n",
    "        fields: list eg. [\"CampaignId\", \"CampaignName\", ... ]\n",
    "        start_date: str, eg. '2018-02-11'\n",
    "        end_date: str, eg.\n",
    "    Return:\n",
    "        str, path to csv file\n",
    "    '''\n",
    "    report_downloader = client.GetReportDownloader(version='v201802')\n",
    "    # Create report definition.\n",
    "    report = {\n",
    "        'reportName': report_type,\n",
    "        'dateRangeType': 'CUSTOM_DATE',\n",
    "        'reportType': report_type,\n",
    "        'downloadFormat': 'CSV',\n",
    "        'selector': {\n",
    "            'fields': fields,\n",
    "            'dateRange': {\n",
    "                'min': start_date,\n",
    "                'max': end_date}\n",
    "        }\n",
    "    }\n",
    "\n",
    "    # save output\n",
    "    return report_downloader.DownloadReportAsStream(report, \n",
    "        skip_report_header=True, skip_column_header=False,\n",
    "        skip_report_summary=True)\n",
    "\n"
   ]
  },
  {
   "cell_type": "code",
   "execution_count": 3,
   "metadata": {
    "collapsed": true
   },
   "outputs": [],
   "source": [
    "client_Saatva = get_client(config_path='/home/jian/Projects/Saatva/To Lexie/googleads_saatva_JL_Saatva.yaml')\n",
    "report_type = 'CAMPAIGN_PERFORMANCE_REPORT'\n",
    "fields = [\"AccountDescriptiveName\",\"CampaignName\",\"Date\",\"HourOfDay\",\"AdvertisingChannelType\",\"Impressions\", \"Clicks\", \"Cost\"]\n",
    "response_Saatva = download_report_as_stream(client_Saatva, report_type, fields, Start_Date_overall, End_Data_overall)\n",
    "Saatva_Click = pd.read_csv(response_Saatva)\n",
    "Saatva_Click['Cost']=Saatva_Click['Cost'].apply(lambda x: x/1000000)"
   ]
  },
  {
   "cell_type": "code",
   "execution_count": 4,
   "metadata": {
    "collapsed": true
   },
   "outputs": [],
   "source": [
    "client_Saatva_Branding = get_client(config_path='/home/jian/Projects/Saatva/To Lexie/googleads_saatva_JL_Saatva_Branding.yaml')\n",
    "report_type = 'CAMPAIGN_PERFORMANCE_REPORT'\n",
    "fields = [\"AccountDescriptiveName\",\"CampaignName\",\"Date\",\"HourOfDay\",\"AdvertisingChannelType\",\"Impressions\", \"Clicks\", \"Cost\"]\n",
    "response_Saatva_Branding = download_report_as_stream(client_Saatva_Branding, report_type, fields, Start_Date_overall, End_Data_overall)\n",
    "Saatva_Brand_Click = pd.read_csv(response_Saatva_Branding)\n",
    "Saatva_Brand_Click['Cost']=Saatva_Brand_Click['Cost'].apply(lambda x: x/1000000)"
   ]
  },
  {
   "cell_type": "code",
   "execution_count": 5,
   "metadata": {
    "collapsed": true
   },
   "outputs": [],
   "source": [
    "client_Saatva_Competitors = get_client(config_path='/home/jian/Projects/Saatva/To Lexie/googleads_saatva_JL_Saatva_Competitors.yaml')\n",
    "report_type = 'CAMPAIGN_PERFORMANCE_REPORT'\n",
    "fields = [\"AccountDescriptiveName\",\"CampaignName\",\"Date\",\"HourOfDay\",\"AdvertisingChannelType\",\"Impressions\", \"Clicks\", \"Cost\"]\n",
    "response_Saatva_Competitor = download_report_as_stream(client_Saatva_Competitors, report_type, fields, Start_Date_overall, End_Data_overall)\n",
    "Saatva_Competitor_Click = pd.read_csv(response_Saatva_Competitor)\n",
    "Saatva_Competitor_Click['Cost']=Saatva_Competitor_Click['Cost'].apply(lambda x: x/1000000)"
   ]
  },
  {
   "cell_type": "code",
   "execution_count": 6,
   "metadata": {
    "collapsed": true
   },
   "outputs": [],
   "source": [
    "Saatva_Click=Saatva_Click[~((Saatva_Click['Campaign'].str.contains(\"Loom\")) | (Saatva_Click['Campaign'].str.contains(\"Leaf\")) | (Saatva_Click['Campaign'].str.contains(\"Zenhaven\")))]\n",
    "\n",
    "Saatva_Competitor_Click=Saatva_Competitor_Click[Saatva_Competitor_Click['Campaign'].apply(lambda x: x[len(x)-4:len(x)+1])==\"[SM]\"]\n",
    "Saatva_Competitor_Click.reset_index(inplace=True)\n",
    "del Saatva_Competitor_Click['index']\n",
    "\n",
    "Saatva_Click['Campaign_Type']=Saatva_Click['Advertising Channel'].apply(lambda x: x.replace(\"Search\",\"SEM\").replace(\"Shopping\",\"PLA\"))\n",
    "Saatva_Brand_Click['Campaign_Type']=Saatva_Brand_Click['Advertising Channel'].apply(lambda x: x.replace(\"Search\",\"SEM_Brand\").replace(\"Shopping\",\"PLA\"))\n",
    "Saatva_Competitor_Click['Campaign_Type']=\"SEM_Non_Brand\" # Because it's all labeled as Non-Brand in Campaign and in Search Only Campaign Type"
   ]
  },
  {
   "cell_type": "code",
   "execution_count": 7,
   "metadata": {
    "collapsed": true
   },
   "outputs": [],
   "source": [
    "# Split Saatva\n",
    "# 'Search Network with Display Select' Campaign Type all 0 Impr and Clicks\n",
    "Saatva_Click_Search=Saatva_Click[Saatva_Click['Advertising Channel']=='Search']\n",
    "Saatva_Click_Others=Saatva_Click[Saatva_Click['Advertising Channel']!='Search']"
   ]
  },
  {
   "cell_type": "code",
   "execution_count": 8,
   "metadata": {},
   "outputs": [
    {
     "name": "stderr",
     "output_type": "stream",
     "text": [
      "/usr/local/lib/python3.6/site-packages/ipykernel_launcher.py:2: SettingWithCopyWarning: \n",
      "A value is trying to be set on a copy of a slice from a DataFrame.\n",
      "Try using .loc[row_indexer,col_indexer] = value instead\n",
      "\n",
      "See the caveats in the documentation: http://pandas.pydata.org/pandas-docs/stable/indexing.html#indexing-view-versus-copy\n",
      "  \n"
     ]
    },
    {
     "data": {
      "text/plain": [
       "0"
      ]
     },
     "execution_count": 8,
     "metadata": {},
     "output_type": "execute_result"
    }
   ],
   "source": [
    "Saatva_Click_Search['Campaign_Type']=np.where((Saatva_Click_Search['Campaign'].str.contains(\"Branded\")) | (Saatva_Click_Search['Campaign'].str.contains(\" Brand \")) | (Saatva_Click_Search['Campaign'].str.contains(\"Co-Brand\")) | (Saatva_Click_Search['Campaign'].str.contains(\"\\[Brand\\]\")),\"SEM_Brand\",\n",
    "                                                 np.where((Saatva_Click_Search['Campaign'].str.contains(\"Non-Brand\")) | (Saatva_Click_Search['Campaign'].str.contains(\"Dynamic Search Ads\")),\"SEM_Non_Brand\",\"NA\"))\n",
    "Saatva_Click_Search_1=Saatva_Click_Search[Saatva_Click_Search['Campaign_Type']!=\"NA\"]\n",
    "Saatva_Click_Search_2=Saatva_Click_Search[Saatva_Click_Search['Campaign_Type']==\"NA\"]\n",
    "len(Saatva_Click_Search_2) # Make sure it's 0"
   ]
  },
  {
   "cell_type": "code",
   "execution_count": 9,
   "metadata": {},
   "outputs": [
    {
     "data": {
      "text/plain": [
       "'\\nSaatva_keywords=pd.read_csv(\"/home/jian/Projects/Saatva/To Lexie/AdWords/saatva_keywords.csv\",dtype=str,skiprows=2)\\nSaatva_Brand_keywords=pd.read_csv(\"/home/jian/Projects/Saatva/To Lexie/AdWords/saatva branding_keywords.csv\",dtype=str)\\nSaatva_Competitor_keywords=pd.read_csv(\"/home/jian/Projects/Saatva/To Lexie/AdWords/saatva competitors_keywords.csv\",dtype=str,skiprows=2)\\n\\nSaatva_keywords=Saatva_keywords[~((Saatva_keywords[\\'Campaign\\'].str.contains(\"Loom\")) | (Saatva_keywords[\\'Campaign\\'].str.contains(\"Leaf\")) | (Saatva_keywords[\\'Campaign\\'].str.contains(\"Zenhaven\")))]\\nSaatva_keywords[\\'Campaign_Type\\']=np.where(Saatva_keywords[\\'Search keyword\\'].str.contains(\"aatva\"),\"SEM_Brand\",\"SEM_Non_Brand\")\\nSaatva_keywords[\\'Impressions\\']=Saatva_keywords[\\'Impressions\\'].apply(lambda x: int(x.replace(\",\",\"\")))\\nSaatva_keywords[\\'Impressions\\']=Saatva_keywords[\\'Impressions\\'].astype(int)\\nSaatva_keywords[\\'Clicks\\']=Saatva_keywords[\\'Clicks\\'].apply(lambda x: int(x.replace(\",\",\"\")))\\nSaatva_keywords[\\'Clicks\\']=Saatva_keywords[\\'Clicks\\'].astype(int)\\nSaatva_keywords=Saatva_keywords.groupby([\\'Campaign\\',\\'Campaign_Type\\'])[\\'Impressions\\',\\'Clicks\\'].sum()\\nSaatva_keywords.reset_index(inplace=True)\\nSaatva_keywords=Saatva_keywords.sort_values([\\'Campaign\\',\\'Impressions\\'])\\nSaatva_keywords=Saatva_keywords.drop_duplicates(\\'Campaign\\')\\nSaatva_Campaign_Type=Saatva_keywords[[\\'Campaign\\',\\'Campaign_Type\\']]\\n\\ndel Saatva_Click_Search_2[\\'Campaign_Type\\']\\nSaatva_Click_Search_2=pd.merge(Saatva_Click_Search_2,Saatva_Campaign_Type,on=\"Campaign\",how=\"left\")\\n\\nSaatva_Search_Click=Saatva_Click_Search_1.append(Saatva_Click_Search_2)\\nSaatva_Search_Click[\\'Campaign_Type\\']=Saatva_Search_Click[\\'Campaign_Type\\'].fillna(\"All_0_Values_and_No_Kws\")\\n'"
      ]
     },
     "execution_count": 9,
     "metadata": {},
     "output_type": "execute_result"
    }
   ],
   "source": [
    "# All campaing is able to differentiate from the name about brand and non-brand, so no need to go to keywords level\n",
    "'''\n",
    "Saatva_keywords=pd.read_csv(\"/home/jian/Projects/Saatva/To Lexie/AdWords/saatva_keywords.csv\",dtype=str,skiprows=2)\n",
    "Saatva_Brand_keywords=pd.read_csv(\"/home/jian/Projects/Saatva/To Lexie/AdWords/saatva branding_keywords.csv\",dtype=str)\n",
    "Saatva_Competitor_keywords=pd.read_csv(\"/home/jian/Projects/Saatva/To Lexie/AdWords/saatva competitors_keywords.csv\",dtype=str,skiprows=2)\n",
    "\n",
    "Saatva_keywords=Saatva_keywords[~((Saatva_keywords['Campaign'].str.contains(\"Loom\")) | (Saatva_keywords['Campaign'].str.contains(\"Leaf\")) | (Saatva_keywords['Campaign'].str.contains(\"Zenhaven\")))]\n",
    "Saatva_keywords['Campaign_Type']=np.where(Saatva_keywords['Search keyword'].str.contains(\"aatva\"),\"SEM_Brand\",\"SEM_Non_Brand\")\n",
    "Saatva_keywords['Impressions']=Saatva_keywords['Impressions'].apply(lambda x: int(x.replace(\",\",\"\")))\n",
    "Saatva_keywords['Impressions']=Saatva_keywords['Impressions'].astype(int)\n",
    "Saatva_keywords['Clicks']=Saatva_keywords['Clicks'].apply(lambda x: int(x.replace(\",\",\"\")))\n",
    "Saatva_keywords['Clicks']=Saatva_keywords['Clicks'].astype(int)\n",
    "Saatva_keywords=Saatva_keywords.groupby(['Campaign','Campaign_Type'])['Impressions','Clicks'].sum()\n",
    "Saatva_keywords.reset_index(inplace=True)\n",
    "Saatva_keywords=Saatva_keywords.sort_values(['Campaign','Impressions'])\n",
    "Saatva_keywords=Saatva_keywords.drop_duplicates('Campaign')\n",
    "Saatva_Campaign_Type=Saatva_keywords[['Campaign','Campaign_Type']]\n",
    "\n",
    "del Saatva_Click_Search_2['Campaign_Type']\n",
    "Saatva_Click_Search_2=pd.merge(Saatva_Click_Search_2,Saatva_Campaign_Type,on=\"Campaign\",how=\"left\")\n",
    "\n",
    "Saatva_Search_Click=Saatva_Click_Search_1.append(Saatva_Click_Search_2)\n",
    "Saatva_Search_Click['Campaign_Type']=Saatva_Search_Click['Campaign_Type'].fillna(\"All_0_Values_and_No_Kws\")\n",
    "'''"
   ]
  },
  {
   "cell_type": "code",
   "execution_count": 10,
   "metadata": {
    "collapsed": true
   },
   "outputs": [],
   "source": [
    "Saatva_Click=Saatva_Click_Search.append(Saatva_Click_Others)"
   ]
  },
  {
   "cell_type": "code",
   "execution_count": 11,
   "metadata": {
    "collapsed": true
   },
   "outputs": [],
   "source": [
    "writer=pd.ExcelWriter(writer_folder+\"/Saatva_AdWords_\"+Start_Date_overall+\"_to_\"+End_Data_overall+week+\".xlsx\",engine='xlsxwriter')"
   ]
  },
  {
   "cell_type": "code",
   "execution_count": 12,
   "metadata": {
    "collapsed": true
   },
   "outputs": [],
   "source": [
    "Saatva_Agg=Saatva_Click.append(Saatva_Brand_Click).append(Saatva_Competitor_Click)\n",
    "Saatva_Agg['Day']=Saatva_Agg['Day'].apply(lambda x: datetime.datetime.strptime(x,\"%Y-%m-%d\").date())\n",
    "Saatva_Agg.reset_index(inplace=True)\n",
    "del Saatva_Agg['index']\n",
    "Saatva_Agg['Hour of day']=Saatva_Agg['Hour of day'].astype(int)\n",
    "Saatva_Agg_Category=Saatva_Agg[['Campaign','Account','Advertising Channel','Campaign_Type']].drop_duplicates()\n",
    "Saatva_Agg_Category.to_excel(writer,\"Campaign Category\",index=False)"
   ]
  },
  {
   "cell_type": "code",
   "execution_count": 13,
   "metadata": {
    "collapsed": true
   },
   "outputs": [],
   "source": [
    "Saatva_Agg=Saatva_Agg.groupby([\"Campaign_Type\",\"Day\",\"Hour of day\"])['Impressions','Clicks','Cost'].sum()\n",
    "Saatva_Agg.reset_index(inplace=True)\n",
    "Saatva_Agg['CTR']=Saatva_Agg['Clicks']/Saatva_Agg['Impressions']\n",
    "Saatva_Agg.to_excel(writer,\"reshaped by hour day\",index=False)\n",
    "\n",
    "Saatva_Agg_No_NA=Saatva_Agg[(Saatva_Agg['Campaign_Type']!=\"NA\") & (Saatva_Agg['Campaign_Type']!=\"Search Network with Display Select\")]\n",
    "\n",
    "Saatva_Agg_No_NA.to_excel(writer,\"clean data by hour day\",index=False)"
   ]
  },
  {
   "cell_type": "code",
   "execution_count": 14,
   "metadata": {
    "collapsed": true
   },
   "outputs": [],
   "source": [
    "writer.save()"
   ]
  },
  {
   "cell_type": "code",
   "execution_count": 15,
   "metadata": {
    "collapsed": true
   },
   "outputs": [],
   "source": [
    "AdWords_output=Saatva_Agg.copy()\n",
    "AdWords_output['Date']=AdWords_output['Day'].apply(lambda x: str(x)[0:4]+str(x)[5:7]+str(x)[8:10])\n",
    "AdWords_output=AdWords_output[['Campaign_Type','Date','Hour of day','Impressions','Clicks','Cost']]\n",
    "AdWords_output=AdWords_output.rename(columns={\"Hour of day\":\"Hour\",\"Impressions\":\"IMP\"})\n",
    "AdWords_output=AdWords_output.sort_values([\"Campaign_Type\",\"Date\",\"Hour\"],ascending=[True,True,True])\n",
    "AdWords_output.to_csv(writer_folder+\"/Saatva_AdWords_\"+Start_Date_overall+\"_to_\"+End_Data_overall+week+\".csv\",index=False)"
   ]
  },
  {
   "cell_type": "code",
   "execution_count": null,
   "metadata": {
    "collapsed": true
   },
   "outputs": [],
   "source": []
  },
  {
   "cell_type": "code",
   "execution_count": 116,
   "metadata": {},
   "outputs": [
    {
     "data": {
      "text/html": [
       "<div>\n",
       "<style>\n",
       "    .dataframe thead tr:only-child th {\n",
       "        text-align: right;\n",
       "    }\n",
       "\n",
       "    .dataframe thead th {\n",
       "        text-align: left;\n",
       "    }\n",
       "\n",
       "    .dataframe tbody tr th {\n",
       "        vertical-align: top;\n",
       "    }\n",
       "</style>\n",
       "<table border=\"1\" class=\"dataframe\">\n",
       "  <thead>\n",
       "    <tr style=\"text-align: right;\">\n",
       "      <th></th>\n",
       "      <th>Campaign_Type</th>\n",
       "      <th>Date</th>\n",
       "      <th>Hour</th>\n",
       "      <th>IMP</th>\n",
       "      <th>Clicks</th>\n",
       "    </tr>\n",
       "  </thead>\n",
       "  <tbody>\n",
       "    <tr>\n",
       "      <th>2515</th>\n",
       "      <td>Video</td>\n",
       "      <td>20180429</td>\n",
       "      <td>19</td>\n",
       "      <td>10896</td>\n",
       "      <td>36</td>\n",
       "    </tr>\n",
       "    <tr>\n",
       "      <th>2516</th>\n",
       "      <td>Video</td>\n",
       "      <td>20180429</td>\n",
       "      <td>20</td>\n",
       "      <td>11352</td>\n",
       "      <td>45</td>\n",
       "    </tr>\n",
       "    <tr>\n",
       "      <th>2517</th>\n",
       "      <td>Video</td>\n",
       "      <td>20180429</td>\n",
       "      <td>21</td>\n",
       "      <td>12303</td>\n",
       "      <td>52</td>\n",
       "    </tr>\n",
       "    <tr>\n",
       "      <th>2518</th>\n",
       "      <td>Video</td>\n",
       "      <td>20180429</td>\n",
       "      <td>22</td>\n",
       "      <td>12690</td>\n",
       "      <td>29</td>\n",
       "    </tr>\n",
       "    <tr>\n",
       "      <th>2519</th>\n",
       "      <td>Video</td>\n",
       "      <td>20180429</td>\n",
       "      <td>23</td>\n",
       "      <td>6925</td>\n",
       "      <td>24</td>\n",
       "    </tr>\n",
       "  </tbody>\n",
       "</table>\n",
       "</div>"
      ],
      "text/plain": [
       "     Campaign_Type      Date  Hour    IMP  Clicks\n",
       "2515         Video  20180429    19  10896      36\n",
       "2516         Video  20180429    20  11352      45\n",
       "2517         Video  20180429    21  12303      52\n",
       "2518         Video  20180429    22  12690      29\n",
       "2519         Video  20180429    23   6925      24"
      ]
     },
     "execution_count": 116,
     "metadata": {},
     "output_type": "execute_result"
    }
   ],
   "source": []
  },
  {
   "cell_type": "code",
   "execution_count": null,
   "metadata": {
    "collapsed": true
   },
   "outputs": [],
   "source": []
  }
 ],
 "metadata": {
  "kernelspec": {
   "display_name": "Python 3",
   "language": "python",
   "name": "python3"
  },
  "language_info": {
   "codemirror_mode": {
    "name": "ipython",
    "version": 3
   },
   "file_extension": ".py",
   "mimetype": "text/x-python",
   "name": "python",
   "nbconvert_exporter": "python",
   "pygments_lexer": "ipython3",
   "version": "3.6.1"
  }
 },
 "nbformat": 4,
 "nbformat_minor": 2
}
