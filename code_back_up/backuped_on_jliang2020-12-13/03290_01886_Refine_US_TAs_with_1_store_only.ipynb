{
 "cells": [
  {
   "cell_type": "code",
   "execution_count": 1,
   "metadata": {
    "collapsed": true
   },
   "outputs": [],
   "source": [
    "# 2+ stores TA zips to removed selected in Tableau\n",
    "\n",
    "import pandas as pd\n",
    "import numpy as np\n",
    "import os\n",
    "import datetime\n",
    "from haversine import haversine\n",
    "import json\n",
    "\n",
    "zip_centers=json.load(open(\"/home/jian/Docs/Geo_mapping/center_of_rentrak_zip.json\",\"r\"))"
   ]
  },
  {
   "cell_type": "code",
   "execution_count": 2,
   "metadata": {
    "collapsed": true
   },
   "outputs": [],
   "source": [
    "remove_zip_2_store_TA_dict={\"1\":\"98012\",\n",
    "                           \"14\":\"89036\",\n",
    "                           \"87\":\"20817\",\n",
    "                           \"7\":\"55446\"}"
   ]
  },
  {
   "cell_type": "code",
   "execution_count": 3,
   "metadata": {},
   "outputs": [
    {
     "data": {
      "text/plain": [
       "['Store_list',\n",
       " 'revised_TA_Summary',\n",
       " 'TA_Summary_by_store_count',\n",
       " 'TA_zips',\n",
       " 'tableau_data',\n",
       " 'maps_2_plus_stores_TA',\n",
       " 'maps_1_store_TA_5_miles_plus']"
      ]
     },
     "execution_count": 3,
     "metadata": {},
     "output_type": "execute_result"
    }
   ],
   "source": [
    "US_ta_excel=pd.ExcelFile(\"/home/jian/Projects/Savers/TA_creation/TA_output/Savers_US_TA_2nd_Version_JL_2019-03-14.xlsx\")\n",
    "US_ta_excel.sheet_names"
   ]
  },
  {
   "cell_type": "code",
   "execution_count": 4,
   "metadata": {
    "collapsed": true
   },
   "outputs": [],
   "source": [
    "tab_1_Store_list=US_ta_excel.parse(\"Store_list\",dtype=str)\n",
    "\n",
    "tab_2_revised_TA_Summary=US_ta_excel.parse(\"revised_TA_Summary\",dtype=str)\n",
    "tab_2_revised_TA_Summary['store_count']=tab_2_revised_TA_Summary['store_count'].astype(int)\n",
    "\n",
    "tab_3_TA_Summary_by_store_count=US_ta_excel.parse(\"TA_Summary_by_store_count\",dtype=str)\n",
    "tab_4_TA_zips=US_ta_excel.parse(\"TA_zips\",dtype=str)\n",
    "tab_5_tableau_data=US_ta_excel.parse(\"tableau_data\",dtype=str)\n",
    "tab_6_maps_2_plus_stores_TA=US_ta_excel.parse(\"maps_2_plus_stores_TA\",dtype=str)\n",
    "tab_7_maps_1_store_TA_5_miles_plus=US_ta_excel.parse(\"maps_1_store_TA_5_miles_plus\",dtype=str)\n"
   ]
  },
  {
   "cell_type": "code",
   "execution_count": 5,
   "metadata": {
    "collapsed": true
   },
   "outputs": [],
   "source": [
    "store_center=tab_1_Store_list[['location_id','Google_lat','Google_lng']].drop_duplicates()\n",
    "store_center['Google_lat']=store_center['Google_lat'].astype(float)\n",
    "store_center['Google_lng']=store_center['Google_lng'].astype(float)\n",
    "store_center['store_center']=store_center[['Google_lat','Google_lng']].values.tolist()\n",
    "store_center_dict=store_center.set_index(\"location_id\").to_dict()['store_center']"
   ]
  },
  {
   "cell_type": "code",
   "execution_count": 6,
   "metadata": {
    "collapsed": true
   },
   "outputs": [],
   "source": [
    "tab_7_maps_1_store_TA_5_miles_plus['dist_max']=tab_7_maps_1_store_TA_5_miles_plus['dist_max'].astype(float)\n",
    "tab_7_maps_1_store_TA_5_miles_plus_keep=tab_7_maps_1_store_TA_5_miles_plus[tab_7_maps_1_store_TA_5_miles_plus['dist_max']<5.6]\n",
    "\n",
    "tab_7_maps_1_store_TA_5_miles_plus_revise=tab_7_maps_1_store_TA_5_miles_plus[tab_7_maps_1_store_TA_5_miles_plus['dist_max']>5.6]\n",
    "\n"
   ]
  },
  {
   "cell_type": "code",
   "execution_count": 7,
   "metadata": {},
   "outputs": [
    {
     "name": "stderr",
     "output_type": "stream",
     "text": [
      "/usr/local/lib/python3.6/site-packages/ipykernel_launcher.py:4: SettingWithCopyWarning: \n",
      "A value is trying to be set on a copy of a slice from a DataFrame.\n",
      "Try using .loc[row_indexer,col_indexer] = value instead\n",
      "\n",
      "See the caveats in the documentation: http://pandas.pydata.org/pandas-docs/stable/indexing.html#indexing-view-versus-copy\n",
      "  after removing the cwd from sys.path.\n",
      "/usr/local/lib/python3.6/site-packages/ipykernel_launcher.py:5: SettingWithCopyWarning: \n",
      "A value is trying to be set on a copy of a slice from a DataFrame.\n",
      "Try using .loc[row_indexer,col_indexer] = value instead\n",
      "\n",
      "See the caveats in the documentation: http://pandas.pydata.org/pandas-docs/stable/indexing.html#indexing-view-versus-copy\n",
      "  \"\"\"\n"
     ]
    }
   ],
   "source": [
    "revise_TA_list=tab_7_maps_1_store_TA_5_miles_plus_revise['ta_number'].tolist()\n",
    "\n",
    "tab_2_revised_TA_Summary_revise=tab_2_revised_TA_Summary[tab_2_revised_TA_Summary['ta_number'].isin(revise_TA_list)]\n",
    "tab_2_revised_TA_Summary_revise['zip_list']=tab_2_revised_TA_Summary_revise['zip_list'].apply(lambda x: eval(x))\n",
    "tab_2_revised_TA_Summary_revise['store_list']=tab_2_revised_TA_Summary_revise['store_list'].apply(lambda x: eval(x))\n"
   ]
  },
  {
   "cell_type": "code",
   "execution_count": 8,
   "metadata": {},
   "outputs": [
    {
     "name": "stderr",
     "output_type": "stream",
     "text": [
      "/usr/local/lib/python3.6/site-packages/ipykernel_launcher.py:1: SettingWithCopyWarning: \n",
      "A value is trying to be set on a copy of a slice from a DataFrame.\n",
      "Try using .loc[row_indexer,col_indexer] = value instead\n",
      "\n",
      "See the caveats in the documentation: http://pandas.pydata.org/pandas-docs/stable/indexing.html#indexing-view-versus-copy\n",
      "  \"\"\"Entry point for launching an IPython kernel.\n",
      "/usr/local/lib/python3.6/site-packages/ipykernel_launcher.py:2: SettingWithCopyWarning: \n",
      "A value is trying to be set on a copy of a slice from a DataFrame.\n",
      "Try using .loc[row_indexer,col_indexer] = value instead\n",
      "\n",
      "See the caveats in the documentation: http://pandas.pydata.org/pandas-docs/stable/indexing.html#indexing-view-versus-copy\n",
      "  \n",
      "/usr/local/lib/python3.6/site-packages/ipykernel_launcher.py:3: SettingWithCopyWarning: \n",
      "A value is trying to be set on a copy of a slice from a DataFrame.\n",
      "Try using .loc[row_indexer,col_indexer] = value instead\n",
      "\n",
      "See the caveats in the documentation: http://pandas.pydata.org/pandas-docs/stable/indexing.html#indexing-view-versus-copy\n",
      "  This is separate from the ipykernel package so we can avoid doing imports until\n",
      "/usr/local/lib/python3.6/site-packages/ipykernel_launcher.py:4: SettingWithCopyWarning: \n",
      "A value is trying to be set on a copy of a slice from a DataFrame.\n",
      "Try using .loc[row_indexer,col_indexer] = value instead\n",
      "\n",
      "See the caveats in the documentation: http://pandas.pydata.org/pandas-docs/stable/indexing.html#indexing-view-versus-copy\n",
      "  after removing the cwd from sys.path.\n",
      "/usr/local/lib/python3.6/site-packages/ipykernel_launcher.py:5: SettingWithCopyWarning: \n",
      "A value is trying to be set on a copy of a slice from a DataFrame.\n",
      "Try using .loc[row_indexer,col_indexer] = value instead\n",
      "\n",
      "See the caveats in the documentation: http://pandas.pydata.org/pandas-docs/stable/indexing.html#indexing-view-versus-copy\n",
      "  \"\"\"\n",
      "/usr/local/lib/python3.6/site-packages/ipykernel_launcher.py:6: SettingWithCopyWarning: \n",
      "A value is trying to be set on a copy of a slice from a DataFrame.\n",
      "Try using .loc[row_indexer,col_indexer] = value instead\n",
      "\n",
      "See the caveats in the documentation: http://pandas.pydata.org/pandas-docs/stable/indexing.html#indexing-view-versus-copy\n",
      "  \n",
      "/usr/local/lib/python3.6/site-packages/pandas/core/indexing.py:517: SettingWithCopyWarning: \n",
      "A value is trying to be set on a copy of a slice from a DataFrame.\n",
      "Try using .loc[row_indexer,col_indexer] = value instead\n",
      "\n",
      "See the caveats in the documentation: http://pandas.pydata.org/pandas-docs/stable/indexing.html#indexing-view-versus-copy\n",
      "  self.obj[item] = s\n"
     ]
    }
   ],
   "source": [
    "tab_2_revised_TA_Summary_revise['dist_list']=np.nan\n",
    "tab_2_revised_TA_Summary_revise['dist_max']=np.nan\n",
    "tab_2_revised_TA_Summary_revise['dist_median']=np.nan\n",
    "tab_2_revised_TA_Summary_revise['dist_mean']=np.nan\n",
    "tab_2_revised_TA_Summary_revise['dist_min']=np.nan\n",
    "tab_2_revised_TA_Summary_revise['maxium_zip']=np.nan\n",
    "\n",
    "for index,row in tab_2_revised_TA_Summary_revise.iterrows():\n",
    "    zip_list=row['zip_list']\n",
    "    dist_list=[]\n",
    "    store=list(row['store_list'])[0]\n",
    "    store_center_coor=store_center_dict[store]\n",
    "    \n",
    "    dist_max=0\n",
    "    zip_pair_max_dist=[]\n",
    "    \n",
    "    for i in range(len(zip_list)):\n",
    "        for j in range(i+1,len(zip_list)):\n",
    "            zip_i=zip_list[i]\n",
    "            zip_j=zip_list[j]\n",
    "            \n",
    "            dist=haversine(zip_centers[zip_i],zip_centers[zip_j],miles=True)\n",
    "            dist_list.append(dist)\n",
    "            if dist>dist_max:\n",
    "                dist_max=dist\n",
    "                zip_pair_max_dist=[zip_i,zip_j]\n",
    "                \n",
    "\n",
    "    dist_i=haversine(zip_centers[zip_pair_max_dist[0]],store_center_coor,miles=True)\n",
    "    dist_j=haversine(zip_centers[zip_pair_max_dist[1]],store_center_coor,miles=True)\n",
    "    if dist_i>=dist_j:\n",
    "        zip_max=zip_pair_max_dist[0]\n",
    "    else:\n",
    "        zip_max=zip_pair_max_dist[1]\n",
    "    zip_list.remove(zip_max)\n",
    "    if len(dist_list)>=1:\n",
    "        # tab_2_revised_TA_Summary_revise.loc[index, 'dist_list']=str(dist_list)\n",
    "        # tab_2_revised_TA_Summary_revise.loc[index,'dist_max']=np.max(dist_list)\n",
    "        # tab_2_revised_TA_Summary_revise.loc[index,'dist_median']=np.median(dist_list)\n",
    "        # tab_2_revised_TA_Summary_revise.loc[index,'dist_mean']=np.mean(dist_list)\n",
    "        # tab_2_revised_TA_Summary_revise.loc[index,'dist_min']=np.min(dist_list)\n",
    "        tab_2_revised_TA_Summary_revise.loc[index,'maxium_zip']=zip_max\n"
   ]
  },
  {
   "cell_type": "code",
   "execution_count": 9,
   "metadata": {},
   "outputs": [
    {
     "data": {
      "text/plain": [
       "98"
      ]
     },
     "execution_count": 9,
     "metadata": {},
     "output_type": "execute_result"
    }
   ],
   "source": [
    "remove_zip_1_store_TA_dict=tab_2_revised_TA_Summary_revise.set_index(\"ta_number\").to_dict()['maxium_zip']\n",
    "len(remove_zip_1_store_TA_dict)"
   ]
  },
  {
   "cell_type": "code",
   "execution_count": 10,
   "metadata": {
    "collapsed": true
   },
   "outputs": [],
   "source": [
    "all_ta_remove_zip_dict=remove_zip_1_store_TA_dict.copy()\n",
    "all_ta_remove_zip_dict.update(remove_zip_2_store_TA_dict)"
   ]
  },
  {
   "cell_type": "code",
   "execution_count": 11,
   "metadata": {},
   "outputs": [],
   "source": [
    "len(all_ta_remove_zip_dict)\n",
    "\n",
    "del tab_2_revised_TA_Summary_revise"
   ]
  },
  {
   "cell_type": "code",
   "execution_count": 12,
   "metadata": {
    "collapsed": true
   },
   "outputs": [],
   "source": [
    "tab_1_Store_list=tab_1_Store_list.rename(columns={\"zip_list_in_5_miles\":\"zip_list_in_5_miles_original\"})\n",
    "tab_1_Store_list['zip_list_in_5_miles_original']=tab_1_Store_list['zip_list_in_5_miles_original'].apply(lambda x: eval(x))\n",
    "tab_1_Store_list['zip_list_in_5_miles_new']=np.nan"
   ]
  },
  {
   "cell_type": "code",
   "execution_count": 13,
   "metadata": {},
   "outputs": [
    {
     "data": {
      "text/html": [
       "<div>\n",
       "<style>\n",
       "    .dataframe thead tr:only-child th {\n",
       "        text-align: right;\n",
       "    }\n",
       "\n",
       "    .dataframe thead th {\n",
       "        text-align: left;\n",
       "    }\n",
       "\n",
       "    .dataframe tbody tr th {\n",
       "        vertical-align: top;\n",
       "    }\n",
       "</style>\n",
       "<table border=\"1\" class=\"dataframe\">\n",
       "  <thead>\n",
       "    <tr style=\"text-align: right;\">\n",
       "      <th></th>\n",
       "      <th>location_id</th>\n",
       "      <th>Name/Indicator</th>\n",
       "      <th>Brand</th>\n",
       "      <th>Address</th>\n",
       "      <th>City</th>\n",
       "      <th>St/Province</th>\n",
       "      <th>Zip/Postal</th>\n",
       "      <th>Country</th>\n",
       "      <th>Company</th>\n",
       "      <th>Phone</th>\n",
       "      <th>...</th>\n",
       "      <th>Cluster</th>\n",
       "      <th>Search_Key_Brand</th>\n",
       "      <th>Google_Address</th>\n",
       "      <th>Google_lat</th>\n",
       "      <th>Google_lng</th>\n",
       "      <th>store_zip</th>\n",
       "      <th>zip_list_in_5_miles_original</th>\n",
       "      <th>ta_number</th>\n",
       "      <th>TA_label</th>\n",
       "      <th>zip_list_in_5_miles_new</th>\n",
       "    </tr>\n",
       "  </thead>\n",
       "  <tbody>\n",
       "    <tr>\n",
       "      <th>0</th>\n",
       "      <td>1003</td>\n",
       "      <td>Burien</td>\n",
       "      <td>Value Village</td>\n",
       "      <td>131 SW 157th St</td>\n",
       "      <td>Burien</td>\n",
       "      <td>WA</td>\n",
       "      <td>98166</td>\n",
       "      <td>US</td>\n",
       "      <td>TVI</td>\n",
       "      <td>206-246-6237</td>\n",
       "      <td>...</td>\n",
       "      <td>3</td>\n",
       "      <td>Value Village, 131 SW 157th St, Burien, WA, 98166</td>\n",
       "      <td>131 SW 157th St, Burien, WA 98166, USA</td>\n",
       "      <td>47.4618219</td>\n",
       "      <td>-122.3354587</td>\n",
       "      <td>98166</td>\n",
       "      <td>[98166, 98062, 98158, 98148, 98188, 98198, 981...</td>\n",
       "      <td>91</td>\n",
       "      <td>2_{'1173', '1003'}</td>\n",
       "      <td>['98166', '98062', '98158', '98148', '98188', ...</td>\n",
       "    </tr>\n",
       "    <tr>\n",
       "      <th>1</th>\n",
       "      <td>1004</td>\n",
       "      <td>Lake City</td>\n",
       "      <td>Value Village</td>\n",
       "      <td>12548 Lake City Way NE</td>\n",
       "      <td>Seattle</td>\n",
       "      <td>WA</td>\n",
       "      <td>98125</td>\n",
       "      <td>US</td>\n",
       "      <td>TVI</td>\n",
       "      <td>(206) 365-8232</td>\n",
       "      <td>...</td>\n",
       "      <td>3</td>\n",
       "      <td>Value Village, 12548 Lake City Way NE, Seattle...</td>\n",
       "      <td>12548 Lake City Way NE, Seattle, WA 98125, USA</td>\n",
       "      <td>47.7205966</td>\n",
       "      <td>-122.2937321</td>\n",
       "      <td>98125</td>\n",
       "      <td>[98028, 98195, 98145, 98133, 98115, 98105, 981...</td>\n",
       "      <td>1</td>\n",
       "      <td>9_{'1111', '1125', '1004', '1214', '1021', '10...</td>\n",
       "      <td>['98028', '98195', '98145', '98133', '98115', ...</td>\n",
       "    </tr>\n",
       "  </tbody>\n",
       "</table>\n",
       "<p>2 rows × 27 columns</p>\n",
       "</div>"
      ],
      "text/plain": [
       "  location_id Name/Indicator          Brand                 Address     City  \\\n",
       "0        1003         Burien  Value Village         131 SW 157th St   Burien   \n",
       "1        1004      Lake City  Value Village  12548 Lake City Way NE  Seattle   \n",
       "\n",
       "  St/Province Zip/Postal Country Company           Phone  \\\n",
       "0          WA      98166      US     TVI    206-246-6237   \n",
       "1          WA      98125      US     TVI  (206) 365-8232   \n",
       "\n",
       "                         ...                         Cluster  \\\n",
       "0                        ...                               3   \n",
       "1                        ...                               3   \n",
       "\n",
       "                                    Search_Key_Brand  \\\n",
       "0  Value Village, 131 SW 157th St, Burien, WA, 98166   \n",
       "1  Value Village, 12548 Lake City Way NE, Seattle...   \n",
       "\n",
       "                                   Google_Address  Google_lat    Google_lng  \\\n",
       "0          131 SW 157th St, Burien, WA 98166, USA  47.4618219  -122.3354587   \n",
       "1  12548 Lake City Way NE, Seattle, WA 98125, USA  47.7205966  -122.2937321   \n",
       "\n",
       "  store_zip                       zip_list_in_5_miles_original ta_number  \\\n",
       "0     98166  [98166, 98062, 98158, 98148, 98188, 98198, 981...        91   \n",
       "1     98125  [98028, 98195, 98145, 98133, 98115, 98105, 981...         1   \n",
       "\n",
       "                                            TA_label  \\\n",
       "0                                 2_{'1173', '1003'}   \n",
       "1  9_{'1111', '1125', '1004', '1214', '1021', '10...   \n",
       "\n",
       "                             zip_list_in_5_miles_new  \n",
       "0  ['98166', '98062', '98158', '98148', '98188', ...  \n",
       "1  ['98028', '98195', '98145', '98133', '98115', ...  \n",
       "\n",
       "[2 rows x 27 columns]"
      ]
     },
     "execution_count": 13,
     "metadata": {},
     "output_type": "execute_result"
    }
   ],
   "source": [
    "\n",
    "for i in range(len(tab_1_Store_list)):\n",
    "    zip_list_str=str(tab_1_Store_list.loc[i,'zip_list_in_5_miles_original'])\n",
    "    \n",
    "    if tab_1_Store_list.loc[i,'ta_number'] in all_ta_remove_zip_dict.keys():\n",
    "        \n",
    "        zip_list_copy=eval(zip_list_str)\n",
    "        TA_num=tab_1_Store_list.loc[i,'ta_number']\n",
    "        if all_ta_remove_zip_dict[TA_num] in zip_list_copy:\n",
    "            # print(i)\n",
    "            zip_list_copy.remove(all_ta_remove_zip_dict[TA_num])\n",
    "        tab_1_Store_list.loc[i,'zip_list_in_5_miles_new']=str(zip_list_copy)\n",
    "    else:\n",
    "        tab_1_Store_list.loc[i,'zip_list_in_5_miles_new']=zip_list_str\n",
    "\n",
    "tab_1_Store_list.head(2)"
   ]
  },
  {
   "cell_type": "code",
   "execution_count": 14,
   "metadata": {
    "collapsed": true
   },
   "outputs": [],
   "source": [
    "tab_1_Store_list['len_zip_original']=tab_1_Store_list['zip_list_in_5_miles_original'].apply(lambda x: len(x))\n",
    "tab_1_Store_list['len_zip_new']=tab_1_Store_list['zip_list_in_5_miles_new'].apply(lambda x: len(eval(x)))"
   ]
  },
  {
   "cell_type": "markdown",
   "metadata": {},
   "source": [
    "# TAB 2"
   ]
  },
  {
   "cell_type": "code",
   "execution_count": 15,
   "metadata": {},
   "outputs": [
    {
     "data": {
      "text/html": [
       "<div>\n",
       "<style>\n",
       "    .dataframe thead tr:only-child th {\n",
       "        text-align: right;\n",
       "    }\n",
       "\n",
       "    .dataframe thead th {\n",
       "        text-align: left;\n",
       "    }\n",
       "\n",
       "    .dataframe tbody tr th {\n",
       "        vertical-align: top;\n",
       "    }\n",
       "</style>\n",
       "<table border=\"1\" class=\"dataframe\">\n",
       "  <thead>\n",
       "    <tr style=\"text-align: right;\">\n",
       "      <th></th>\n",
       "      <th>ta_number</th>\n",
       "      <th>store_count</th>\n",
       "      <th>zip_count</th>\n",
       "      <th>store_list</th>\n",
       "      <th>zip_list</th>\n",
       "      <th>Cluster</th>\n",
       "      <th>dist_list</th>\n",
       "      <th>dist_max</th>\n",
       "      <th>dist_median</th>\n",
       "      <th>dist_mean</th>\n",
       "      <th>dist_min</th>\n",
       "      <th>ratio_max_to_median</th>\n",
       "      <th>city_list</th>\n",
       "      <th>state_list</th>\n",
       "      <th>DMA_list</th>\n",
       "      <th>Primary_City</th>\n",
       "      <th>Primary_State</th>\n",
       "      <th>Primary_DMA</th>\n",
       "      <th>TA_label</th>\n",
       "    </tr>\n",
       "  </thead>\n",
       "  <tbody>\n",
       "    <tr>\n",
       "      <th>0</th>\n",
       "      <td>1</td>\n",
       "      <td>9</td>\n",
       "      <td>56</td>\n",
       "      <td>{'1111', '1125', '1004', '1214', '1021', '1023...</td>\n",
       "      <td>['98028', '98195', '98145', '98133', '98115', ...</td>\n",
       "      <td>3</td>\n",
       "      <td>[7.829780079742904, 7.4605886535748125, 4.7824...</td>\n",
       "      <td>33.59139167678625</td>\n",
       "      <td>10.6911154947475</td>\n",
       "      <td>11.52132643272832</td>\n",
       "      <td>0</td>\n",
       "      <td>3.141991281760034</td>\n",
       "      <td>{'SEATTLE (WA)', 'REDMOND (WA)', 'EVERETT (WA)...</td>\n",
       "      <td>{'WA'}</td>\n",
       "      <td>{'SEATTLE-TACOMA'}</td>\n",
       "      <td>SEATTLE (WA)</td>\n",
       "      <td>WA</td>\n",
       "      <td>SEATTLE-TACOMA</td>\n",
       "      <td>9_{'1111', '1125', '1004', '1214', '1021', '10...</td>\n",
       "    </tr>\n",
       "    <tr>\n",
       "      <th>1</th>\n",
       "      <td>2</td>\n",
       "      <td>1</td>\n",
       "      <td>13</td>\n",
       "      <td>{'1007'}</td>\n",
       "      <td>['94065', '95155', '94301', '94302', '94062', ...</td>\n",
       "      <td>4</td>\n",
       "      <td>[7.7606192566939125, 8.196608020113727, 7.7522...</td>\n",
       "      <td>9.260507273812983</td>\n",
       "      <td>3.545390934778147</td>\n",
       "      <td>3.963251384386047</td>\n",
       "      <td>0.3765233218180234</td>\n",
       "      <td>2.611984811878711</td>\n",
       "      <td>{'PALO ALTO (CA)', 'MENLO PARK (CA)', 'BELMONT...</td>\n",
       "      <td>{'CA'}</td>\n",
       "      <td>{'SAN FRANCISCO-OAK-SAN JOSE'}</td>\n",
       "      <td>REDWOOD CITY (CA)</td>\n",
       "      <td>CA</td>\n",
       "      <td>SAN FRANCISCO-OAK-SAN JOSE</td>\n",
       "      <td>1_{'1007'}</td>\n",
       "    </tr>\n",
       "  </tbody>\n",
       "</table>\n",
       "</div>"
      ],
      "text/plain": [
       "  ta_number  store_count zip_count  \\\n",
       "0         1            9        56   \n",
       "1         2            1        13   \n",
       "\n",
       "                                          store_list  \\\n",
       "0  {'1111', '1125', '1004', '1214', '1021', '1023...   \n",
       "1                                           {'1007'}   \n",
       "\n",
       "                                            zip_list Cluster  \\\n",
       "0  ['98028', '98195', '98145', '98133', '98115', ...       3   \n",
       "1  ['94065', '95155', '94301', '94302', '94062', ...       4   \n",
       "\n",
       "                                           dist_list           dist_max  \\\n",
       "0  [7.829780079742904, 7.4605886535748125, 4.7824...  33.59139167678625   \n",
       "1  [7.7606192566939125, 8.196608020113727, 7.7522...  9.260507273812983   \n",
       "\n",
       "         dist_median          dist_mean            dist_min  \\\n",
       "0   10.6911154947475  11.52132643272832                   0   \n",
       "1  3.545390934778147  3.963251384386047  0.3765233218180234   \n",
       "\n",
       "  ratio_max_to_median                                          city_list  \\\n",
       "0   3.141991281760034  {'SEATTLE (WA)', 'REDMOND (WA)', 'EVERETT (WA)...   \n",
       "1   2.611984811878711  {'PALO ALTO (CA)', 'MENLO PARK (CA)', 'BELMONT...   \n",
       "\n",
       "  state_list                        DMA_list       Primary_City Primary_State  \\\n",
       "0     {'WA'}              {'SEATTLE-TACOMA'}       SEATTLE (WA)            WA   \n",
       "1     {'CA'}  {'SAN FRANCISCO-OAK-SAN JOSE'}  REDWOOD CITY (CA)            CA   \n",
       "\n",
       "                  Primary_DMA  \\\n",
       "0              SEATTLE-TACOMA   \n",
       "1  SAN FRANCISCO-OAK-SAN JOSE   \n",
       "\n",
       "                                            TA_label  \n",
       "0  9_{'1111', '1125', '1004', '1214', '1021', '10...  \n",
       "1                                         1_{'1007'}  "
      ]
     },
     "execution_count": 15,
     "metadata": {},
     "output_type": "execute_result"
    }
   ],
   "source": [
    "tab_2_revised_TA_Summary.head(2)"
   ]
  },
  {
   "cell_type": "code",
   "execution_count": 16,
   "metadata": {},
   "outputs": [
    {
     "data": {
      "text/html": [
       "<div>\n",
       "<style>\n",
       "    .dataframe thead tr:only-child th {\n",
       "        text-align: right;\n",
       "    }\n",
       "\n",
       "    .dataframe thead th {\n",
       "        text-align: left;\n",
       "    }\n",
       "\n",
       "    .dataframe tbody tr th {\n",
       "        vertical-align: top;\n",
       "    }\n",
       "</style>\n",
       "<table border=\"1\" class=\"dataframe\">\n",
       "  <thead>\n",
       "    <tr style=\"text-align: right;\">\n",
       "      <th></th>\n",
       "      <th>ta_number</th>\n",
       "      <th>store_count</th>\n",
       "      <th>zip_count</th>\n",
       "      <th>store_list</th>\n",
       "      <th>zip_list_original</th>\n",
       "      <th>Cluster</th>\n",
       "      <th>dist_list</th>\n",
       "      <th>dist_max</th>\n",
       "      <th>dist_median</th>\n",
       "      <th>dist_mean</th>\n",
       "      <th>dist_min</th>\n",
       "      <th>ratio_max_to_median</th>\n",
       "      <th>city_list</th>\n",
       "      <th>state_list</th>\n",
       "      <th>DMA_list</th>\n",
       "      <th>Primary_City</th>\n",
       "      <th>Primary_State</th>\n",
       "      <th>Primary_DMA</th>\n",
       "      <th>TA_label</th>\n",
       "      <th>zip_list_new</th>\n",
       "    </tr>\n",
       "  </thead>\n",
       "  <tbody>\n",
       "    <tr>\n",
       "      <th>0</th>\n",
       "      <td>1</td>\n",
       "      <td>9</td>\n",
       "      <td>56</td>\n",
       "      <td>{'1111', '1125', '1004', '1214', '1021', '1023...</td>\n",
       "      <td>['98028', '98195', '98145', '98133', '98115', ...</td>\n",
       "      <td>3</td>\n",
       "      <td>[7.829780079742904, 7.4605886535748125, 4.7824...</td>\n",
       "      <td>33.59139167678625</td>\n",
       "      <td>10.6911154947475</td>\n",
       "      <td>11.52132643272832</td>\n",
       "      <td>0</td>\n",
       "      <td>3.141991281760034</td>\n",
       "      <td>{'SEATTLE (WA)', 'REDMOND (WA)', 'EVERETT (WA)...</td>\n",
       "      <td>{'WA'}</td>\n",
       "      <td>{'SEATTLE-TACOMA'}</td>\n",
       "      <td>SEATTLE (WA)</td>\n",
       "      <td>WA</td>\n",
       "      <td>SEATTLE-TACOMA</td>\n",
       "      <td>9_{'1111', '1125', '1004', '1214', '1021', '10...</td>\n",
       "      <td>['98028', '98195', '98145', '98133', '98115', ...</td>\n",
       "    </tr>\n",
       "    <tr>\n",
       "      <th>1</th>\n",
       "      <td>2</td>\n",
       "      <td>1</td>\n",
       "      <td>13</td>\n",
       "      <td>{'1007'}</td>\n",
       "      <td>['94065', '95155', '94301', '94302', '94062', ...</td>\n",
       "      <td>4</td>\n",
       "      <td>[7.7606192566939125, 8.196608020113727, 7.7522...</td>\n",
       "      <td>9.260507273812983</td>\n",
       "      <td>3.545390934778147</td>\n",
       "      <td>3.963251384386047</td>\n",
       "      <td>0.3765233218180234</td>\n",
       "      <td>2.611984811878711</td>\n",
       "      <td>{'PALO ALTO (CA)', 'MENLO PARK (CA)', 'BELMONT...</td>\n",
       "      <td>{'CA'}</td>\n",
       "      <td>{'SAN FRANCISCO-OAK-SAN JOSE'}</td>\n",
       "      <td>REDWOOD CITY (CA)</td>\n",
       "      <td>CA</td>\n",
       "      <td>SAN FRANCISCO-OAK-SAN JOSE</td>\n",
       "      <td>1_{'1007'}</td>\n",
       "      <td>['94065', '95155', '94302', '94062', '94061', ...</td>\n",
       "    </tr>\n",
       "  </tbody>\n",
       "</table>\n",
       "</div>"
      ],
      "text/plain": [
       "  ta_number  store_count zip_count  \\\n",
       "0         1            9        56   \n",
       "1         2            1        13   \n",
       "\n",
       "                                          store_list  \\\n",
       "0  {'1111', '1125', '1004', '1214', '1021', '1023...   \n",
       "1                                           {'1007'}   \n",
       "\n",
       "                                   zip_list_original Cluster  \\\n",
       "0  ['98028', '98195', '98145', '98133', '98115', ...       3   \n",
       "1  ['94065', '95155', '94301', '94302', '94062', ...       4   \n",
       "\n",
       "                                           dist_list           dist_max  \\\n",
       "0  [7.829780079742904, 7.4605886535748125, 4.7824...  33.59139167678625   \n",
       "1  [7.7606192566939125, 8.196608020113727, 7.7522...  9.260507273812983   \n",
       "\n",
       "         dist_median          dist_mean            dist_min  \\\n",
       "0   10.6911154947475  11.52132643272832                   0   \n",
       "1  3.545390934778147  3.963251384386047  0.3765233218180234   \n",
       "\n",
       "  ratio_max_to_median                                          city_list  \\\n",
       "0   3.141991281760034  {'SEATTLE (WA)', 'REDMOND (WA)', 'EVERETT (WA)...   \n",
       "1   2.611984811878711  {'PALO ALTO (CA)', 'MENLO PARK (CA)', 'BELMONT...   \n",
       "\n",
       "  state_list                        DMA_list       Primary_City Primary_State  \\\n",
       "0     {'WA'}              {'SEATTLE-TACOMA'}       SEATTLE (WA)            WA   \n",
       "1     {'CA'}  {'SAN FRANCISCO-OAK-SAN JOSE'}  REDWOOD CITY (CA)            CA   \n",
       "\n",
       "                  Primary_DMA  \\\n",
       "0              SEATTLE-TACOMA   \n",
       "1  SAN FRANCISCO-OAK-SAN JOSE   \n",
       "\n",
       "                                            TA_label  \\\n",
       "0  9_{'1111', '1125', '1004', '1214', '1021', '10...   \n",
       "1                                         1_{'1007'}   \n",
       "\n",
       "                                        zip_list_new  \n",
       "0  ['98028', '98195', '98145', '98133', '98115', ...  \n",
       "1  ['94065', '95155', '94302', '94062', '94061', ...  "
      ]
     },
     "execution_count": 16,
     "metadata": {},
     "output_type": "execute_result"
    }
   ],
   "source": [
    "tab_2_revised_TA_Summary=tab_2_revised_TA_Summary.rename(columns={\"zip_list\":\"zip_list_original\"})\n",
    "tab_2_revised_TA_Summary['zip_list_new']=np.nan\n",
    "\n",
    "for i in range(len(tab_2_revised_TA_Summary)):\n",
    "    zip_list_str=str(tab_2_revised_TA_Summary.loc[i,'zip_list_original'])\n",
    "    \n",
    "    if tab_2_revised_TA_Summary.loc[i,'ta_number'] in all_ta_remove_zip_dict.keys():\n",
    "        \n",
    "        zip_list_copy=eval(zip_list_str)\n",
    "        TA_num=tab_2_revised_TA_Summary.loc[i,'ta_number']\n",
    "        if all_ta_remove_zip_dict[TA_num] in zip_list_copy:\n",
    "            # print(i)\n",
    "            zip_list_copy.remove(all_ta_remove_zip_dict[TA_num])\n",
    "        tab_2_revised_TA_Summary.loc[i,'zip_list_new']=str(zip_list_copy)\n",
    "    else:\n",
    "        tab_2_revised_TA_Summary.loc[i,'zip_list_new']=zip_list_str\n",
    "\n",
    "tab_2_revised_TA_Summary.head(2)"
   ]
  },
  {
   "cell_type": "code",
   "execution_count": 17,
   "metadata": {
    "collapsed": true
   },
   "outputs": [],
   "source": [
    "tab_2_revised_TA_Summary=tab_2_revised_TA_Summary.rename(columns={\"zip_count\":\"zip_count_original\"})\n",
    "\n",
    "tab_2_revised_TA_Summary['zip_count_new']=tab_2_revised_TA_Summary['zip_list_new'].apply(lambda x: len(eval(x)))\n"
   ]
  },
  {
   "cell_type": "code",
   "execution_count": 18,
   "metadata": {
    "collapsed": true
   },
   "outputs": [],
   "source": [
    "tab_2_revised_TA_Summary['dist_list']=np.nan\n",
    "tab_2_revised_TA_Summary['dist_max']=np.nan\n",
    "tab_2_revised_TA_Summary['dist_median']=np.nan\n",
    "tab_2_revised_TA_Summary['dist_mean']=np.nan\n",
    "tab_2_revised_TA_Summary['dist_min']=np.nan\n",
    "\n",
    "for index,row in tab_2_revised_TA_Summary.iterrows():\n",
    "    zip_list=eval(row['zip_list_new'])\n",
    "    dist_list=[]\n",
    "    for i in range(len(zip_list)):\n",
    "        for j in range(i+1,len(zip_list)):\n",
    "            zip_i=zip_list[i]\n",
    "            zip_j=zip_list[j]\n",
    "            \n",
    "            dist=haversine(zip_centers[zip_i],zip_centers[zip_j],miles=True)\n",
    "            dist_list.append(dist)\n",
    "    if len(dist_list)>=1:\n",
    "        tab_2_revised_TA_Summary.loc[index, 'dist_list']=str(dist_list)\n",
    "        tab_2_revised_TA_Summary.loc[index,'dist_max']=np.max(dist_list)\n",
    "        tab_2_revised_TA_Summary.loc[index,'dist_median']=np.median(dist_list)\n",
    "        tab_2_revised_TA_Summary.loc[index,'dist_mean']=np.mean(dist_list)\n",
    "        tab_2_revised_TA_Summary.loc[index,'dist_min']=np.min(dist_list)\n",
    "        \n",
    "tab_2_revised_TA_Summary['ratio_max_to_median']=tab_2_revised_TA_Summary['dist_max']/tab_2_revised_TA_Summary['dist_median']\n"
   ]
  },
  {
   "cell_type": "markdown",
   "metadata": {},
   "source": [
    "# TAB 3"
   ]
  },
  {
   "cell_type": "code",
   "execution_count": 19,
   "metadata": {},
   "outputs": [
    {
     "data": {
      "text/html": [
       "<div>\n",
       "<style>\n",
       "    .dataframe thead tr:only-child th {\n",
       "        text-align: right;\n",
       "    }\n",
       "\n",
       "    .dataframe thead th {\n",
       "        text-align: left;\n",
       "    }\n",
       "\n",
       "    .dataframe tbody tr th {\n",
       "        vertical-align: top;\n",
       "    }\n",
       "</style>\n",
       "<table border=\"1\" class=\"dataframe\">\n",
       "  <thead>\n",
       "    <tr style=\"text-align: right;\">\n",
       "      <th></th>\n",
       "      <th>store_count</th>\n",
       "      <th>TA_count</th>\n",
       "      <th>TA_list</th>\n",
       "    </tr>\n",
       "  </thead>\n",
       "  <tbody>\n",
       "    <tr>\n",
       "      <th>0</th>\n",
       "      <td>1</td>\n",
       "      <td>109</td>\n",
       "      <td>['2', '3', '4', '5', '6', '8', '9', '10', '11'...</td>\n",
       "    </tr>\n",
       "    <tr>\n",
       "      <th>1</th>\n",
       "      <td>2</td>\n",
       "      <td>8</td>\n",
       "      <td>['39', '45', '58', '64', '91', '100', '101', '...</td>\n",
       "    </tr>\n",
       "  </tbody>\n",
       "</table>\n",
       "</div>"
      ],
      "text/plain": [
       "  store_count TA_count                                            TA_list\n",
       "0           1      109  ['2', '3', '4', '5', '6', '8', '9', '10', '11'...\n",
       "1           2        8  ['39', '45', '58', '64', '91', '100', '101', '..."
      ]
     },
     "execution_count": 19,
     "metadata": {},
     "output_type": "execute_result"
    }
   ],
   "source": [
    "tab_3_TA_Summary_by_store_count.head(2)\n",
    "\n",
    "# tab_3_TA_Summary_by_store_count       no change"
   ]
  },
  {
   "cell_type": "markdown",
   "metadata": {},
   "source": [
    "# TAB 4"
   ]
  },
  {
   "cell_type": "code",
   "execution_count": 20,
   "metadata": {},
   "outputs": [
    {
     "data": {
      "text/plain": [
       "(1952, 5)"
      ]
     },
     "execution_count": 20,
     "metadata": {},
     "output_type": "execute_result"
    }
   ],
   "source": [
    "tab_4_TA_zips.shape"
   ]
  },
  {
   "cell_type": "code",
   "execution_count": 21,
   "metadata": {
    "collapsed": true
   },
   "outputs": [],
   "source": [
    "tab_4_TA_zips_updated=pd.DataFrame()\n",
    "for ta_number,group in tab_4_TA_zips.groupby(['ta_number']):\n",
    "    if ta_number in all_ta_remove_zip_dict.keys():\n",
    "        group=group[group['zip_cd']!=all_ta_remove_zip_dict[ta_number]]\n",
    "    tab_4_TA_zips_updated=tab_4_TA_zips_updated.append(group)"
   ]
  },
  {
   "cell_type": "code",
   "execution_count": 22,
   "metadata": {},
   "outputs": [],
   "source": [
    "tab_4_TA_zips=tab_4_TA_zips_updated.copy()"
   ]
  },
  {
   "cell_type": "markdown",
   "metadata": {},
   "source": [
    "# TAB 5"
   ]
  },
  {
   "cell_type": "code",
   "execution_count": 23,
   "metadata": {},
   "outputs": [
    {
     "data": {
      "text/html": [
       "<div>\n",
       "<style>\n",
       "    .dataframe thead tr:only-child th {\n",
       "        text-align: right;\n",
       "    }\n",
       "\n",
       "    .dataframe thead th {\n",
       "        text-align: left;\n",
       "    }\n",
       "\n",
       "    .dataframe tbody tr th {\n",
       "        vertical-align: top;\n",
       "    }\n",
       "</style>\n",
       "<table border=\"1\" class=\"dataframe\">\n",
       "  <thead>\n",
       "    <tr style=\"text-align: right;\">\n",
       "      <th></th>\n",
       "      <th>Google_lat</th>\n",
       "      <th>Google_lng</th>\n",
       "      <th>TA_label</th>\n",
       "      <th>location_id</th>\n",
       "      <th>ta_number</th>\n",
       "      <th>zip_cd</th>\n",
       "      <th>dist_max</th>\n",
       "      <th>store_count</th>\n",
       "    </tr>\n",
       "  </thead>\n",
       "  <tbody>\n",
       "    <tr>\n",
       "      <th>0</th>\n",
       "      <td>47.4618219</td>\n",
       "      <td>-122.3354587</td>\n",
       "      <td>2_{'1173', '1003'}</td>\n",
       "      <td>1003</td>\n",
       "      <td>91</td>\n",
       "      <td>nan</td>\n",
       "      <td>10.67035746840996</td>\n",
       "      <td>2</td>\n",
       "    </tr>\n",
       "    <tr>\n",
       "      <th>1</th>\n",
       "      <td>47.7205966</td>\n",
       "      <td>-122.2937321</td>\n",
       "      <td>9_{'1111', '1125', '1004', '1214', '1021', '10...</td>\n",
       "      <td>1004</td>\n",
       "      <td>1</td>\n",
       "      <td>nan</td>\n",
       "      <td>33.59139167678625</td>\n",
       "      <td>9</td>\n",
       "    </tr>\n",
       "  </tbody>\n",
       "</table>\n",
       "</div>"
      ],
      "text/plain": [
       "   Google_lat    Google_lng  \\\n",
       "0  47.4618219  -122.3354587   \n",
       "1  47.7205966  -122.2937321   \n",
       "\n",
       "                                            TA_label location_id ta_number  \\\n",
       "0                                 2_{'1173', '1003'}        1003        91   \n",
       "1  9_{'1111', '1125', '1004', '1214', '1021', '10...        1004         1   \n",
       "\n",
       "  zip_cd           dist_max store_count  \n",
       "0    nan  10.67035746840996           2  \n",
       "1    nan  33.59139167678625           9  "
      ]
     },
     "execution_count": 23,
     "metadata": {},
     "output_type": "execute_result"
    }
   ],
   "source": [
    "tab_5_tableau_data.head(2)"
   ]
  },
  {
   "cell_type": "code",
   "execution_count": 24,
   "metadata": {},
   "outputs": [
    {
     "name": "stderr",
     "output_type": "stream",
     "text": [
      "/usr/local/lib/python3.6/site-packages/ipykernel_launcher.py:2: SettingWithCopyWarning: \n",
      "A value is trying to be set on a copy of a slice from a DataFrame.\n",
      "Try using .loc[row_indexer,col_indexer] = value instead\n",
      "\n",
      "See the caveats in the documentation: http://pandas.pydata.org/pandas-docs/stable/indexing.html#indexing-view-versus-copy\n",
      "  \n"
     ]
    }
   ],
   "source": [
    "tab_5_tableau_data_1=tab_5_tableau_data[tab_5_tableau_data['Google_lat']!=\"0\"]\n",
    "tab_5_tableau_data_1['zip_cd']=tab_5_tableau_data_1['zip_cd'].replace(\"nan\",np.nan)\n",
    "tab_5_tableau_data_2=tab_4_TA_zips[['ta_number','TA_label','zip_cd']].drop_duplicates()\n",
    "\n",
    "tab_5_tableau_data=tab_5_tableau_data_1.append(tab_5_tableau_data_2)\n",
    "tab_5_tableau_data['Google_lat']=tab_5_tableau_data['Google_lat'].fillna(\"0\")\n",
    "tab_5_tableau_data['Google_lng']=tab_5_tableau_data['Google_lng'].fillna(\"0\")\n",
    "tab_5_tableau_data['Google_lat']=tab_5_tableau_data['Google_lat'].astype(float)\n",
    "tab_5_tableau_data['Google_lat']=tab_5_tableau_data['Google_lat'].astype(float)\n",
    "del tab_5_tableau_data['dist_max']\n",
    "del tab_5_tableau_data['store_count']\n",
    "\n",
    "df_TA_dist_max_count=tab_2_revised_TA_Summary[['ta_number','dist_max','store_count']]\n",
    "tab_5_tableau_data=pd.merge(tab_5_tableau_data,df_TA_dist_max_count,on=\"ta_number\",how=\"left\")"
   ]
  },
  {
   "cell_type": "code",
   "execution_count": 25,
   "metadata": {},
   "outputs": [],
   "source": [
    "tab_6_maps_2_plus_stores_TA=tab_2_revised_TA_Summary[tab_2_revised_TA_Summary['store_count']>=2]\n",
    "tab_7_maps_1_store_TA_5_miles_plus=tab_2_revised_TA_Summary[(tab_2_revised_TA_Summary['store_count']==1) & (tab_2_revised_TA_Summary['dist_max']>5)]\n"
   ]
  },
  {
   "cell_type": "code",
   "execution_count": 26,
   "metadata": {},
   "outputs": [],
   "source": [
    "writer=pd.ExcelWriter(\"/home/jian/Projects/Savers/TA_creation/TA_output/Savers_US_TA_3rd_Version_JL_\"+str(datetime.datetime.now().date())+\".xlsx\",engine=\"xlsxwriter\")\n",
    "\n",
    "tab_1_Store_list.to_excel(writer,\"Store_list\",index=False)\n",
    "tab_2_revised_TA_Summary.to_excel(writer,\"revised_TA_Summary\",index=False)\n",
    "tab_3_TA_Summary_by_store_count.to_excel(writer,\"TA_Summary_by_store_count\",index=False)\n",
    "tab_4_TA_zips.to_excel(writer,\"TA_zips\",index=False)\n",
    "tab_5_tableau_data.to_excel(writer,\"tableau_data\",index=False)\n",
    "\n",
    "tab_6_maps_2_plus_stores_TA.to_excel(writer,\"maps_2_plus_stores_TA\",index=False)\n",
    "tab_7_maps_1_store_TA_5_miles_plus.to_excel(writer,\"maps_1_store_TA_5_miles_plus\",index=False)\n",
    "\n",
    "writer.save()"
   ]
  },
  {
   "cell_type": "code",
   "execution_count": null,
   "metadata": {
    "collapsed": true
   },
   "outputs": [],
   "source": []
  }
 ],
 "metadata": {
  "kernelspec": {
   "display_name": "Python 3",
   "language": "python",
   "name": "python3"
  },
  "language_info": {
   "codemirror_mode": {
    "name": "ipython",
    "version": 3
   },
   "file_extension": ".py",
   "mimetype": "text/x-python",
   "name": "python",
   "nbconvert_exporter": "python",
   "pygments_lexer": "ipython3",
   "version": "3.6.1"
  }
 },
 "nbformat": 4,
 "nbformat_minor": 2
}
