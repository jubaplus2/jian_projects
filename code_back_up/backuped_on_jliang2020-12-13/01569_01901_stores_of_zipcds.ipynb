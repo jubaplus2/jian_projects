{
 "cells": [
  {
   "cell_type": "code",
   "execution_count": 1,
   "metadata": {},
   "outputs": [
    {
     "data": {
      "text/plain": [
       "'/home/jian/Projects/Savers/Store_of_zips_already_selected_BR_20190531'"
      ]
     },
     "execution_count": 1,
     "metadata": {},
     "output_type": "execute_result"
    }
   ],
   "source": [
    "import pandas as pd\n",
    "import numpy as np\n",
    "import datetime\n",
    "import os\n",
    "\n",
    "os.getcwd()"
   ]
  },
  {
   "cell_type": "code",
   "execution_count": 2,
   "metadata": {},
   "outputs": [
    {
     "data": {
      "text/plain": [
       "['Summary',\n",
       " 'USA TA_zips',\n",
       " 'CAN TA_zips De-Duped',\n",
       " 'US_C1_NonExpose_CELLA',\n",
       " 'US_C1_Expose_CELLB',\n",
       " 'US_C2-4_NonExpose_CELLC',\n",
       " 'US_C2-4_Expose_CELLD',\n",
       " 'CAN_C2_NonExposeCELLE',\n",
       " 'CAN_C2_Expose_CELLF',\n",
       " 'CAN_C1.3.4_NonExpose_CELLG',\n",
       " 'CAN_C1.3.4_Expose_CELLH']"
      ]
     },
     "execution_count": 2,
     "metadata": {},
     "output_type": "execute_result"
    }
   ],
   "source": [
    "excel_file=pd.ExcelFile(\"/home/jian/Projects/Savers/Store_of_zips_already_selected_BR_20190531/Savers 2019 Q2 Q3 Audience Cluster Zip 20190530.xlsx\")\n",
    "excel_file.sheet_names"
   ]
  },
  {
   "cell_type": "code",
   "execution_count": 4,
   "metadata": {},
   "outputs": [],
   "source": [
    "US_zips_C=excel_file.parse(\"US_C2-4_NonExpose_CELLC\",dtype=str)\n",
    "US_zips_D=excel_file.parse(\"US_C2-4_Expose_CELLD\",dtype=str)\n",
    "\n",
    "CAN_zips_G=excel_file.parse(\"CAN_C1.3.4_NonExpose_CELLG\",dtype=str)\n",
    "CAN_zips_H=excel_file.parse(\"CAN_C1.3.4_Expose_CELLH\",dtype=str)\n",
    "\n",
    "if \"Store\" in US_zips_C.columns:\n",
    "    del US_zips_C['Store']\n",
    "    \n",
    "if \"Store\" in US_zips_D.columns:\n",
    "    del US_zips_D['Store']\n",
    "\n",
    "if \"Store\" in CAN_zips_G.columns:\n",
    "    del CAN_zips_G['Store']\n",
    "\n",
    "if \"Store\" in CAN_zips_H.columns:\n",
    "    del CAN_zips_H['Store']"
   ]
  },
  {
   "cell_type": "code",
   "execution_count": 5,
   "metadata": {},
   "outputs": [],
   "source": [
    "USA_all_zips=excel_file.parse(\"USA TA_zips\",dtype=str)\n",
    "CAN_all_zips=excel_file.parse(\"CAN TA_zips De-Duped\",dtype=str)"
   ]
  },
  {
   "cell_type": "code",
   "execution_count": 6,
   "metadata": {},
   "outputs": [],
   "source": [
    "USA_all_zips=USA_all_zips.groupby(\"zip_cd\")['location_id'].apply(set).to_frame().reset_index()\n",
    "CAN_all_zips=CAN_all_zips.groupby(\"zip 3\")['location_id'].apply(set).to_frame().reset_index()\n",
    "\n",
    "USA_all_zips['count_of_associated_stores']=USA_all_zips['location_id'].apply(lambda x: len(x))\n",
    "CAN_all_zips['count_of_associated_stores']=CAN_all_zips['location_id'].apply(lambda x: len(x))\n"
   ]
  },
  {
   "cell_type": "code",
   "execution_count": 7,
   "metadata": {},
   "outputs": [],
   "source": [
    "us_max_store_count=max(USA_all_zips['location_id'].apply(lambda x: len(x)).unique())\n",
    "ca_max_store_count=max(CAN_all_zips['location_id'].apply(lambda x: len(x)).unique())\n",
    "\n",
    "\n"
   ]
  },
  {
   "cell_type": "code",
   "execution_count": 8,
   "metadata": {},
   "outputs": [],
   "source": [
    "for i in range(us_max_store_count):\n",
    "    USA_all_zips['store_'+str(i+1)]=np.nan\n",
    "for i in range(ca_max_store_count):\n",
    "    CAN_all_zips['store_'+str(i+1)]=np.nan"
   ]
  },
  {
   "cell_type": "code",
   "execution_count": 9,
   "metadata": {},
   "outputs": [],
   "source": [
    "for index,row in USA_all_zips.iterrows():\n",
    "    store_list=sorted(list(row['location_id']))\n",
    "    list_filled_na=store_list+[np.nan]*(us_max_store_count-len(store_list))\n",
    "    for i in range(us_max_store_count):\n",
    "        USA_all_zips.loc[index,\"store_\"+str(i+1)]=list_filled_na[i]\n",
    "        \n",
    "        \n",
    "for index,row in CAN_all_zips.iterrows():\n",
    "    store_list=sorted(list(row['location_id']))\n",
    "    list_filled_na=store_list+[np.nan]*(ca_max_store_count-len(store_list))\n",
    "    for i in range(ca_max_store_count):\n",
    "        CAN_all_zips.loc[index,\"store_\"+str(i+1)]=list_filled_na[i]\n",
    "CAN_all_zips=CAN_all_zips.rename(columns={\"zip 3\":\"zip_cd\"})    "
   ]
  },
  {
   "cell_type": "code",
   "execution_count": 10,
   "metadata": {},
   "outputs": [],
   "source": [
    "US_zips_C=pd.merge(US_zips_C,USA_all_zips,on=\"zip_cd\",how=\"left\")\n",
    "US_zips_D=pd.merge(US_zips_D,USA_all_zips,on=\"zip_cd\",how=\"left\")\n",
    "\n",
    "CAN_zips_G=pd.merge(CAN_zips_G,CAN_all_zips,on=\"zip_cd\",how=\"left\")\n",
    "CAN_zips_H=pd.merge(CAN_zips_H,CAN_all_zips,on=\"zip_cd\",how=\"left\")\n"
   ]
  },
  {
   "cell_type": "code",
   "execution_count": 13,
   "metadata": {},
   "outputs": [],
   "source": [
    "writer=pd.ExcelWriter(\"./Savers_zips_with_respective_stores_JL_\"+str(datetime.datetime.now().date())+\".xlsx\",engine=\"xlsxwriter\")\n",
    "\n",
    "US_zips_C.to_excel(writer,\"US_zips_C\",index=False)\n",
    "US_zips_D.to_excel(writer,\"US_zips_D\",index=False)\n",
    "CAN_zips_G.to_excel(writer,\"CAN_zips_G\",index=False)\n",
    "CAN_zips_H.to_excel(writer,\"CAN_zips_H\",index=False)\n",
    "\n",
    "writer.save()"
   ]
  },
  {
   "cell_type": "code",
   "execution_count": null,
   "metadata": {
    "collapsed": true
   },
   "outputs": [],
   "source": []
  }
 ],
 "metadata": {
  "kernelspec": {
   "display_name": "Python 3",
   "language": "python",
   "name": "python3"
  },
  "language_info": {
   "codemirror_mode": {
    "name": "ipython",
    "version": 3
   },
   "file_extension": ".py",
   "mimetype": "text/x-python",
   "name": "python",
   "nbconvert_exporter": "python",
   "pygments_lexer": "ipython3",
   "version": "3.6.1"
  }
 },
 "nbformat": 4,
 "nbformat_minor": 2
}
