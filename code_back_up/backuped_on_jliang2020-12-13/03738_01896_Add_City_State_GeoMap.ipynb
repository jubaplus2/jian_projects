{
 "cells": [
  {
   "cell_type": "code",
   "execution_count": 1,
   "metadata": {
    "collapsed": true
   },
   "outputs": [],
   "source": [
    "import pandas as pd\n",
    "import datetime"
   ]
  },
  {
   "cell_type": "code",
   "execution_count": 2,
   "metadata": {},
   "outputs": [],
   "source": [
    "store_geomap=pd.read_excel(\"/home/jian/Projects/Savers/TA_creation/TA_output_Final_Version/Savers Cluster store details_20190227 Tom.xlsx\",sheetname=\"US by store\",dtype=str)\n",
    "store_geomap=store_geomap[['LOCATIONNUMBER','GEOMAP']].drop_duplicates().rename(columns={\"LOCATIONNUMBER\":\"location_id\",\"GEOMAP\":\"Store_GEOMAP\"})"
   ]
  },
  {
   "cell_type": "code",
   "execution_count": 3,
   "metadata": {},
   "outputs": [
    {
     "data": {
      "text/plain": [
       "['Store_list', 'TA_Summary', 'TA_Summary_by_store_count', 'TA_zips']"
      ]
     },
     "execution_count": 3,
     "metadata": {},
     "output_type": "execute_result"
    }
   ],
   "source": [
    "CA_TA_Excel=pd.ExcelFile(\"/home/jian/Projects/Savers/TA_creation/TA_output_Final_Version/Savers_CA_TA_Final_Version_JL_2019-03-22.xlsx\")\n",
    "CA_TA_Excel.sheet_names"
   ]
  },
  {
   "cell_type": "code",
   "execution_count": 4,
   "metadata": {},
   "outputs": [
    {
     "name": "stdout",
     "output_type": "stream",
     "text": [
      "(981422, 5)\n",
      "(981422, 8)\n"
     ]
    }
   ],
   "source": [
    "CA_store_list=CA_TA_Excel.parse('Store_list',dtype=str)\n",
    "CA_store_list=CA_store_list[['location_id','City','St/Province']].rename(columns={\"City\":\"city_of_store\",\"St/Province\":\"Province_of_store\"})\n",
    "CA_TA_zip=CA_TA_Excel.parse('TA_zips',dtype=str)\n",
    "print(CA_TA_zip.shape)\n",
    "CA_TA_zip=pd.merge(CA_TA_zip,CA_store_list,on=\"location_id\",how=\"left\")\n",
    "CA_TA_zip=pd.merge(CA_TA_zip,store_geomap,on=\"location_id\",how=\"left\")\n",
    "print(CA_TA_zip.shape)"
   ]
  },
  {
   "cell_type": "code",
   "execution_count": null,
   "metadata": {},
   "outputs": [],
   "source": []
  },
  {
   "cell_type": "code",
   "execution_count": 5,
   "metadata": {},
   "outputs": [
    {
     "name": "stdout",
     "output_type": "stream",
     "text": [
      "(873339, 2)\n",
      "873339\n"
     ]
    }
   ],
   "source": [
    "CA_zip_state=pd.read_table(\"/home/jian/Docs/Geo_mapping/Canadian_Postal_Codes/canada-postal-code-database-BUSINESS-CSV/canada-postal-code-database-BUSINESS.csv\",\n",
    "                          dtype=str,usecols=['PostalCode','Province'],sep=\",\")\n",
    "CA_zip_state=CA_zip_state.drop_duplicates()\n",
    "print(CA_zip_state.shape)\n",
    "print(len(CA_zip_state['PostalCode'].unique()))\n",
    "\n",
    "CA_zip_state=CA_zip_state.rename(columns={\"PostalCode\":\"zip_cd\",\"Province\":\"Province_of_zip\"})\n",
    "CA_zip_state=CA_zip_state.append(pd.DataFrame({\"zip_cd\":\"N3S 7P2\",\"Province_of_zip\":\"ON\"},index=[1]))\n",
    "CA_zip_state=CA_zip_state.append(pd.DataFrame({\"zip_cd\":\"T1Y 6J6\",\"Province_of_zip\":\"AB\"},index=[1]))\n",
    "CA_zip_state=CA_zip_state.append(pd.DataFrame({\"zip_cd\":\"L0R 2H2\",\"Province_of_zip\":\"ON\"},index=[1]))\n",
    "\n",
    "CA_zip_state=CA_zip_state.reset_index()\n",
    "del CA_zip_state['index']\n",
    "\n",
    "CA_TA_zip=pd.merge(CA_TA_zip,CA_zip_state,on=\"zip_cd\",how=\"left\")"
   ]
  },
  {
   "cell_type": "code",
   "execution_count": null,
   "metadata": {},
   "outputs": [],
   "source": []
  },
  {
   "cell_type": "code",
   "execution_count": 6,
   "metadata": {},
   "outputs": [
    {
     "data": {
      "text/plain": [
       "['Store_list',\n",
       " 'TA_Summary',\n",
       " 'TA_Summary_by_store_count',\n",
       " 'TA_zips',\n",
       " 'tableau_data',\n",
       " 'maps_1_store_TA_5_miles_plus',\n",
       " 'maps_2_plus_stores_TA']"
      ]
     },
     "execution_count": 6,
     "metadata": {},
     "output_type": "execute_result"
    }
   ],
   "source": [
    "US_TA_Excel=pd.ExcelFile(\"/home/jian/Projects/Savers/TA_creation/TA_output_Final_Version/Savers_US_TA_Final_Version_JL_2019-03-21.xlsx\")\n",
    "US_TA_Excel.sheet_names"
   ]
  },
  {
   "cell_type": "code",
   "execution_count": 7,
   "metadata": {},
   "outputs": [
    {
     "name": "stdout",
     "output_type": "stream",
     "text": [
      "(1850, 5)\n",
      "(1850, 8)\n"
     ]
    }
   ],
   "source": [
    "US_store_list=US_TA_Excel.parse('Store_list',dtype=str)\n",
    "US_store_list=US_store_list[['location_id','City','St/Province']].rename(columns={\"City\":\"city_of_store\",\"St/Province\":\"St_of_store\"})\n",
    "US_TA_zip=US_TA_Excel.parse('TA_zips',dtype=str)\n",
    "print(US_TA_zip.shape)\n",
    "US_TA_zip=pd.merge(US_TA_zip,US_store_list,on=\"location_id\",how=\"left\")\n",
    "US_TA_zip=pd.merge(US_TA_zip,store_geomap,on=\"location_id\",how=\"left\")\n",
    "print(US_TA_zip.shape)"
   ]
  },
  {
   "cell_type": "code",
   "execution_count": 8,
   "metadata": {},
   "outputs": [],
   "source": [
    "US_zip_state_from_Nielsen=pd.read_excel(\"/home/jian/Docs/Geo_mapping/Zips by DMA by County16-17 nielsen.xlsx\",dtype=str)\n",
    "US_zip_state_from_Nielsen=US_zip_state_from_Nielsen.rename(columns={\"ZIP\":\"zip_cd\",\"ST\":\"st_of_zip\"})\n",
    "US_zip_state_from_Nielsen=US_zip_state_from_Nielsen.loc[1:,['zip_cd','st_of_zip']]\n",
    "US_zip_state_from_Nielsen=US_zip_state_from_Nielsen.drop_duplicates().reset_index()\n",
    "del US_zip_state_from_Nielsen['index']"
   ]
  },
  {
   "cell_type": "code",
   "execution_count": 9,
   "metadata": {},
   "outputs": [
    {
     "name": "stdout",
     "output_type": "stream",
     "text": [
      "(1850, 9)\n"
     ]
    }
   ],
   "source": [
    "US_TA_zip=pd.merge(US_TA_zip,US_zip_state_from_Nielsen,on=\"zip_cd\",how=\"left\")\n",
    "print(US_TA_zip.shape)"
   ]
  },
  {
   "cell_type": "code",
   "execution_count": 10,
   "metadata": {},
   "outputs": [],
   "source": [
    "writer_TA_zip=pd.ExcelWriter(\"/home/jian/Projects/Savers/TA_creation/TA_output_Final_Version/Excel_of_TA_zip_with_City_State_GEOMAP_JL_\"+str(datetime.datetime.now().date())+\".xlsx\",engine=\"xlsxwriter\")\n",
    "US_TA_zip.to_excel(writer_TA_zip,\"US_ta_zips\",index=False)\n",
    "CA_TA_zip.to_excel(writer_TA_zip,\"CA_ta_zips\",index=False)\n",
    "writer_TA_zip.save()"
   ]
  },
  {
   "cell_type": "code",
   "execution_count": null,
   "metadata": {
    "collapsed": true
   },
   "outputs": [],
   "source": []
  }
 ],
 "metadata": {
  "kernelspec": {
   "display_name": "Python 3",
   "language": "python",
   "name": "python3"
  },
  "language_info": {
   "codemirror_mode": {
    "name": "ipython",
    "version": 3
   },
   "file_extension": ".py",
   "mimetype": "text/x-python",
   "name": "python",
   "nbconvert_exporter": "python",
   "pygments_lexer": "ipython3",
   "version": "3.6.1"
  }
 },
 "nbformat": 4,
 "nbformat_minor": 2
}
