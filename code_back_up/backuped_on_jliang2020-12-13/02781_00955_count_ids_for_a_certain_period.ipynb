{
 "cells": [
  {
   "cell_type": "code",
   "execution_count": 1,
   "metadata": {},
   "outputs": [
    {
     "data": {
      "text/plain": [
       "'/home/jian/Projects/Big_Lots/Analysis/2019_Q2/Planner_Requests/id_counts_100_75_higher_Bruce_20190614'"
      ]
     },
     "execution_count": 1,
     "metadata": {},
     "output_type": "execute_result"
    }
   ],
   "source": [
    "import pandas as pd\n",
    "import numpy as np\n",
    "import datetime\n",
    "import os\n",
    "\n",
    "os.getcwd()"
   ]
  },
  {
   "cell_type": "code",
   "execution_count": 2,
   "metadata": {
    "collapsed": true
   },
   "outputs": [],
   "source": [
    "def recursive_file_gen(root_path):\n",
    "    for root, dirs, files in os.walk(root_path):\n",
    "        for file in files:\n",
    "            yield os.path.join(root, file)\n"
   ]
  },
  {
   "cell_type": "code",
   "execution_count": 3,
   "metadata": {},
   "outputs": [
    {
     "data": {
      "text/plain": [
       "22"
      ]
     },
     "execution_count": 3,
     "metadata": {},
     "output_type": "execute_result"
    }
   ],
   "source": [
    "daily_item_level_list=list(recursive_file_gen(\"/home/jian/BigLots/2019_by_weeks/\"))\n",
    "daily_item_level_list=[x for x in daily_item_level_list if \"Daily\" in x]\n",
    "len(daily_item_level_list)"
   ]
  },
  {
   "cell_type": "code",
   "execution_count": 4,
   "metadata": {},
   "outputs": [
    {
     "data": {
      "text/plain": [
       "'/home/jian/BigLots/2019_by_weeks/MediaStorm_2019-02-02/MediaStormDailySales20190205-111300-808.txt'"
      ]
     },
     "execution_count": 4,
     "metadata": {},
     "output_type": "execute_result"
    }
   ],
   "source": [
    "daily_item_level_list[4]"
   ]
  },
  {
   "cell_type": "code",
   "execution_count": 5,
   "metadata": {},
   "outputs": [
    {
     "data": {
      "text/plain": [
       "(3, 2)"
      ]
     },
     "execution_count": 5,
     "metadata": {},
     "output_type": "execute_result"
    }
   ],
   "source": [
    "date_wanted_start=\"2019-04-18\"\n",
    "date_wanted_end=\"2019-05-04\"\n",
    "\n",
    "df_daily_item_level_files=pd.DataFrame({\"file_path\":daily_item_level_list})\n",
    "df_daily_item_level_files['week_end_dt']=df_daily_item_level_files['file_path'].apply(lambda x: x.split(\"by_weeks/MediaStorm_\")[1][:10])\n",
    "df_daily_item_level_files=df_daily_item_level_files[df_daily_item_level_files['week_end_dt']>=date_wanted_start]\n",
    "df_daily_item_level_files=df_daily_item_level_files[df_daily_item_level_files['week_end_dt']<=date_wanted_end]\n",
    "df_daily_item_level_files.shape"
   ]
  },
  {
   "cell_type": "code",
   "execution_count": 18,
   "metadata": {},
   "outputs": [
    {
     "data": {
      "text/plain": [
       "['/home/jian/BigLots/2019_by_weeks/MediaStorm_2019-04-20/MediaStormDailySales20190423-112124-771.txt',\n",
       " '/home/jian/BigLots/2019_by_weeks/MediaStorm_2019-04-27/MediaStormDailySales20190430-112453-448.txt',\n",
       " '/home/jian/BigLots/2019_by_weeks/MediaStorm_2019-05-04/MediaStormDailySales20190507-113110-141.txt']"
      ]
     },
     "execution_count": 18,
     "metadata": {},
     "output_type": "execute_result"
    }
   ],
   "source": [
    "df_daily_item_level_files['file_path'].tolist()"
   ]
  },
  {
   "cell_type": "code",
   "execution_count": 6,
   "metadata": {},
   "outputs": [],
   "source": [
    "df_all_trans_rewards=pd.DataFrame()\n",
    "df_all_trans_non_rewards=pd.DataFrame()\n",
    "\n",
    "for file in df_daily_item_level_files['file_path'].tolist():\n",
    "    df=pd.read_table(file,dtype=str,sep=\"|\",usecols=['location_id','transaction_dt','transaction_id','customer_id_hashed','item_transaction_amt'])\n",
    "    df=df[(df['transaction_dt']>=date_wanted_start) & (df['transaction_dt']<=date_wanted_end)]\n",
    "    df['type']=np.where(df['location_id']==\"6990\",\"Online\",\"Instore\")\n",
    "    df['item_transaction_amt']=df['item_transaction_amt'].astype(float)\n",
    "    \n",
    "    df_rewards=df[pd.notnull(df['customer_id_hashed'])]\n",
    "    df_non_rewards=df[pd.isnull(df['customer_id_hashed'])]\n",
    "    \n",
    "    df_all_trans_rewards=df_all_trans_rewards.append(df_rewards)\n",
    "    df_all_trans_non_rewards=df_all_trans_non_rewards.append(df_non_rewards)"
   ]
  },
  {
   "cell_type": "code",
   "execution_count": 19,
   "metadata": {},
   "outputs": [
    {
     "data": {
      "text/plain": [
       "(12960078, 6)"
      ]
     },
     "execution_count": 19,
     "metadata": {},
     "output_type": "execute_result"
    }
   ],
   "source": [
    "df.shape"
   ]
  },
  {
   "cell_type": "code",
   "execution_count": 7,
   "metadata": {},
   "outputs": [],
   "source": [
    "df_all_trans_rewards_agg=df_all_trans_rewards.groupby(['location_id','transaction_dt','transaction_id','customer_id_hashed','type'])['item_transaction_amt'].sum().to_frame().reset_index()\n",
    "df_all_trans_non_rewards_agg=df_all_trans_non_rewards.groupby(['location_id','transaction_dt','transaction_id','type'])['item_transaction_amt'].sum().to_frame().reset_index()\n",
    "\n"
   ]
  },
  {
   "cell_type": "code",
   "execution_count": 16,
   "metadata": {},
   "outputs": [
    {
     "data": {
      "text/plain": [
       "(12223357, 6)"
      ]
     },
     "execution_count": 16,
     "metadata": {},
     "output_type": "execute_result"
    }
   ],
   "source": [
    "df_all_trans_non_rewards.shape"
   ]
  },
  {
   "cell_type": "code",
   "execution_count": 15,
   "metadata": {},
   "outputs": [
    {
     "data": {
      "text/plain": [
       "(126032, 4)"
      ]
     },
     "execution_count": 15,
     "metadata": {},
     "output_type": "execute_result"
    }
   ],
   "source": [
    "df_all_trans_non_rewards_agg=df_all_trans_non_rewards.groupby(['location_id','transaction_dt','transaction_id'])['item_transaction_amt'].sum().to_frame().reset_index()\n",
    "\n",
    "df_all_trans_non_rewards_agg[df_all_trans_non_rewards_agg['item_transaction_amt']>100].shape"
   ]
  },
  {
   "cell_type": "code",
   "execution_count": 8,
   "metadata": {
    "collapsed": true
   },
   "outputs": [],
   "source": [
    "df_all_trans_rewards_agg['gruop_75']=np.where(df_all_trans_rewards_agg['item_transaction_amt']>75,\"Over75\",\"LE75\")\n",
    "df_all_trans_rewards_agg['gruop_100']=np.where(df_all_trans_rewards_agg['item_transaction_amt']>100,\"Over100\",\"LE100\")\n",
    "\n",
    "df_all_trans_rewards_agg['gruop_75_type']=df_all_trans_rewards_agg['gruop_75']+\"|\"+df_all_trans_rewards_agg['type']\n",
    "df_all_trans_rewards_agg['gruop_100_type']=df_all_trans_rewards_agg['gruop_100']+\"|\"+df_all_trans_rewards_agg['type']\n",
    "\n",
    "df_all_trans_non_rewards_agg['gruop_75']=np.where(df_all_trans_non_rewards_agg['item_transaction_amt']>75,\"Over75\",\"LE75\")\n",
    "df_all_trans_non_rewards_agg['gruop_100']=np.where(df_all_trans_non_rewards_agg['item_transaction_amt']>100,\"Over100\",\"LE100\")\n",
    "\n",
    "df_all_trans_non_rewards_agg['gruop_75_type']=df_all_trans_non_rewards_agg['gruop_75']+\" | \"+df_all_trans_non_rewards_agg['type']\n",
    "df_all_trans_non_rewards_agg['gruop_100_type']=df_all_trans_non_rewards_agg['gruop_100']+\" | \"+df_all_trans_non_rewards_agg['type']"
   ]
  },
  {
   "cell_type": "code",
   "execution_count": 9,
   "metadata": {},
   "outputs": [],
   "source": [
    "output_75_rewards=df_all_trans_rewards_agg.groupby(['gruop_75']).agg({\"customer_id_hashed\":\"nunique\",\"transaction_id\":\"count\"}).reset_index()\n",
    "output_100_rewards=df_all_trans_rewards_agg.groupby(['gruop_100']).agg({\"customer_id_hashed\":\"nunique\",\"transaction_id\":\"count\"}).reset_index()\n",
    "\n",
    "output_75_type_rewards=df_all_trans_rewards_agg.groupby(['gruop_75','type']).agg({\"customer_id_hashed\":\"nunique\",\"transaction_id\":\"count\"}).reset_index()\n",
    "output_100_type_rewards=df_all_trans_rewards_agg.groupby(['gruop_100','type']).agg({\"customer_id_hashed\":\"nunique\",\"transaction_id\":\"count\"}).reset_index()\n",
    "\n",
    "\n",
    "output_rewards=output_75_rewards.append(output_100_rewards).append(output_75_type_rewards).append(output_100_type_rewards)"
   ]
  },
  {
   "cell_type": "code",
   "execution_count": 10,
   "metadata": {},
   "outputs": [],
   "source": [
    "output_75_non_rewards=df_all_trans_non_rewards_agg.groupby(['gruop_75']).agg({\"transaction_id\":\"count\"}).reset_index()\n",
    "output_100_non_rewards=df_all_trans_non_rewards_agg.groupby(['gruop_100']).agg({\"transaction_id\":\"count\"}).reset_index()\n",
    "\n",
    "output_75_type_non_rewards=df_all_trans_non_rewards_agg.groupby(['gruop_75','type']).agg({\"transaction_id\":\"count\"}).reset_index()\n",
    "output_100_type_non_rewards=df_all_trans_non_rewards_agg.groupby(['gruop_100','type']).agg({\"transaction_id\":\"count\"}).reset_index()\n",
    "\n",
    "\n",
    "output_non_rewards=output_75_non_rewards.append(output_100_non_rewards).append(output_75_type_non_rewards).append(output_100_type_non_rewards)"
   ]
  },
  {
   "cell_type": "code",
   "execution_count": 11,
   "metadata": {
    "collapsed": true
   },
   "outputs": [],
   "source": [
    "output_rewards=output_rewards[['type','gruop_100','gruop_75','transaction_id','customer_id_hashed']]\n",
    "output_non_rewards=output_non_rewards[['type','gruop_100','gruop_75','transaction_id']]"
   ]
  },
  {
   "cell_type": "code",
   "execution_count": 12,
   "metadata": {
    "collapsed": true
   },
   "outputs": [],
   "source": [
    "writer=pd.ExcelWriter(\"./BL_id_counts_2019-04-18_to_2019-05-04_JL_\"+str(datetime.datetime.now().date())+\".xlsx\",engine=\"xlsxwriter\")\n",
    "output_rewards.to_excel(writer,\"rewards\",index=False)\n",
    "output_non_rewards.to_excel(writer,\"non_rewards\",index=False)\n",
    "writer.save()"
   ]
  },
  {
   "cell_type": "code",
   "execution_count": null,
   "metadata": {
    "collapsed": true
   },
   "outputs": [],
   "source": []
  }
 ],
 "metadata": {
  "kernelspec": {
   "display_name": "Python 3",
   "language": "python",
   "name": "python3"
  },
  "language_info": {
   "codemirror_mode": {
    "name": "ipython",
    "version": 3
   },
   "file_extension": ".py",
   "mimetype": "text/x-python",
   "name": "python",
   "nbconvert_exporter": "python",
   "pygments_lexer": "ipython3",
   "version": "3.6.1"
  }
 },
 "nbformat": 4,
 "nbformat_minor": 2
}
