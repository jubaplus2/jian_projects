{
 "cells": [
  {
   "cell_type": "code",
   "execution_count": 1,
   "metadata": {},
   "outputs": [
    {
     "data": {
      "text/plain": [
       "'/home/jian/Projects/Big_Lots/Analysis/2019_Q3/AOV_analysis_by_audience'"
      ]
     },
     "execution_count": 1,
     "metadata": {},
     "output_type": "execute_result"
    }
   ],
   "source": [
    "# First 9 weeks & rewards in 19 Audience only \n",
    "\n",
    "import pandas as pd\n",
    "import datetime\n",
    "import numpy as np\n",
    "import os\n",
    "import glob\n",
    "import gc\n",
    "\n",
    "def recursive_file_gen(root_folder):\n",
    "    for root, dirs, files in os.walk(root_folder):\n",
    "        for file in files:\n",
    "            yield os.path.join(root, file)\n",
    "            \n",
    "os.getcwd()"
   ]
  },
  {
   "cell_type": "code",
   "execution_count": 2,
   "metadata": {},
   "outputs": [
    {
     "name": "stdout",
     "output_type": "stream",
     "text": [
      "25 25\n",
      "542702\n",
      "(21810554, 2)  |  21810554\n"
     ]
    }
   ],
   "source": [
    "audience_list_2019Q3=\"/home/jian/Projects/Big_Lots/Live_Ramp/Quarterly_Update_2019Q3/upload_files/\"\n",
    "audience_list_2019Q3=glob.glob(audience_list_2019Q3+\"*.csv\")\n",
    "len(audience_list_2019Q3)\n",
    "\n",
    "\n",
    "audience_list_2019Q3_C=[x for x in audience_list_2019Q3 if os.path.basename(x)[0]==\"C\"]\n",
    "audience_list_2019Q3_T=[x for x in audience_list_2019Q3 if os.path.basename(x)[0]==\"T\"]\n",
    "print(len(audience_list_2019Q3_C),len(audience_list_2019Q3_T))\n",
    "\n",
    "set_C_2019Q3=set()\n",
    "for file in audience_list_2019Q3_C:\n",
    "    df=pd.read_csv(file,dtype=str,usecols=[\"customer_id_hashed\"])\n",
    "    set_C_2019Q3=set_C_2019Q3.union(set(df['customer_id_hashed'].tolist()))\n",
    "print(len(set_C_2019Q3))\n",
    "\n",
    "\n",
    "df_audience_2019Q3=pd.DataFrame()\n",
    "\n",
    "for file in audience_list_2019Q3_T:\n",
    "    df=pd.read_csv(file,dtype=str,usecols=['customer_id_hashed','segment'])\n",
    "    df=df[~df['customer_id_hashed'].isin(set_C_2019Q3)]\n",
    "    df_audience_2019Q3=df_audience_2019Q3.append(df)\n",
    "df_audience_2019Q3=df_audience_2019Q3.drop_duplicates()\n",
    "\n",
    "print(df_audience_2019Q3.shape,\" | \",df_audience_2019Q3['customer_id_hashed'].nunique())"
   ]
  },
  {
   "cell_type": "code",
   "execution_count": 3,
   "metadata": {},
   "outputs": [
    {
     "name": "stdout",
     "output_type": "stream",
     "text": [
      "(21810554, 3)\n",
      "(7, 2)\n"
     ]
    },
    {
     "data": {
      "text/html": [
       "<div>\n",
       "<style>\n",
       "    .dataframe thead tr:only-child th {\n",
       "        text-align: right;\n",
       "    }\n",
       "\n",
       "    .dataframe thead th {\n",
       "        text-align: left;\n",
       "    }\n",
       "\n",
       "    .dataframe tbody tr th {\n",
       "        vertical-align: top;\n",
       "    }\n",
       "</style>\n",
       "<table border=\"1\" class=\"dataframe\">\n",
       "  <thead>\n",
       "    <tr style=\"text-align: right;\">\n",
       "      <th></th>\n",
       "      <th>segment_2</th>\n",
       "      <th>ids_total</th>\n",
       "    </tr>\n",
       "  </thead>\n",
       "  <tbody>\n",
       "    <tr>\n",
       "      <th>0</th>\n",
       "      <td>T_P_H_2019Q3_RFM</td>\n",
       "      <td>4937981</td>\n",
       "    </tr>\n",
       "    <tr>\n",
       "      <th>1</th>\n",
       "      <td>T_P_L_2019Q3_RFM</td>\n",
       "      <td>3391401</td>\n",
       "    </tr>\n",
       "    <tr>\n",
       "      <th>2</th>\n",
       "      <td>T_P_M_2019Q3_RFM</td>\n",
       "      <td>3515875</td>\n",
       "    </tr>\n",
       "    <tr>\n",
       "      <th>3</th>\n",
       "      <td>T_S_H_2019Q3_RFM</td>\n",
       "      <td>1694485</td>\n",
       "    </tr>\n",
       "    <tr>\n",
       "      <th>4</th>\n",
       "      <td>T_S_L_2019Q3_RFM</td>\n",
       "      <td>1422640</td>\n",
       "    </tr>\n",
       "    <tr>\n",
       "      <th>5</th>\n",
       "      <td>T_S_M_2019Q3_RFM</td>\n",
       "      <td>1361003</td>\n",
       "    </tr>\n",
       "    <tr>\n",
       "      <th>6</th>\n",
       "      <td>T_lapsed_18_48_PS_RFM</td>\n",
       "      <td>5487169</td>\n",
       "    </tr>\n",
       "  </tbody>\n",
       "</table>\n",
       "</div>"
      ],
      "text/plain": [
       "               segment_2  ids_total\n",
       "0       T_P_H_2019Q3_RFM    4937981\n",
       "1       T_P_L_2019Q3_RFM    3391401\n",
       "2       T_P_M_2019Q3_RFM    3515875\n",
       "3       T_S_H_2019Q3_RFM    1694485\n",
       "4       T_S_L_2019Q3_RFM    1422640\n",
       "5       T_S_M_2019Q3_RFM    1361003\n",
       "6  T_lapsed_18_48_PS_RFM    5487169"
      ]
     },
     "execution_count": 3,
     "metadata": {},
     "output_type": "execute_result"
    }
   ],
   "source": [
    "# Rolling up removing the quadrant\n",
    "df_audience_total_count_original=df_audience_2019Q3.groupby(\"segment\")['customer_id_hashed'].nunique().to_frame().reset_index().rename(columns={\"customer_id_hashed\":\"ids_total\"})\n",
    "df_audience_2019Q3['segment_2']=df_audience_2019Q3['segment'].str.replace(\"Quadrant I_\",\"\")\n",
    "df_audience_2019Q3['segment_2']=df_audience_2019Q3['segment_2'].str.replace(\"Quadrant II_\",\"\")\n",
    "df_audience_2019Q3['segment_2']=df_audience_2019Q3['segment_2'].str.replace(\"Quadrant III_\",\"\")\n",
    "df_audience_2019Q3['segment_2']=df_audience_2019Q3['segment_2'].str.replace(\"Quadrant IV_\",\"\")\n",
    "print(df_audience_2019Q3.shape)\n",
    "\n",
    "df_audience_total_count=df_audience_2019Q3.groupby(\"segment_2\")['customer_id_hashed'].nunique().to_frame().reset_index().rename(columns={\"customer_id_hashed\":\"ids_total\"})\n",
    "\n",
    "del df_audience_2019Q3['segment']\n",
    "df_audience_2019Q3=df_audience_2019Q3.rename(columns={\"segment_2\":\"segment\"})\n",
    "\n",
    "print(df_audience_total_count.shape)\n",
    "df_audience_total_count"
   ]
  },
  {
   "cell_type": "code",
   "execution_count": null,
   "metadata": {
    "collapsed": true
   },
   "outputs": [],
   "source": []
  },
  {
   "cell_type": "code",
   "execution_count": 4,
   "metadata": {},
   "outputs": [
    {
     "name": "stdout",
     "output_type": "stream",
     "text": [
      "new_sign_ups_since_2019Q3_end.shape (8135521, 2)\n",
      "new_sign_ups_since_2019Q3_end['customer_id_hashed'].nunique() 8135510\n"
     ]
    },
    {
     "data": {
      "text/plain": [
       "35"
      ]
     },
     "execution_count": 4,
     "metadata": {},
     "output_type": "execute_result"
    }
   ],
   "source": [
    "# New ids\n",
    "\n",
    "new_sign_ups_since_2019Q3_end=pd.read_table(\"/home/jian/BigLots/New_Sing_Ups_2018_Fiscal_Year/All Rewards Members 2018-02-04 - 2019-05-04.zip\",\n",
    "                                             compression=\"zip\",dtype=str,sep=\"|\",usecols=['customer_id_hashed','sign_up_date'])\n",
    "new_sign_ups_since_2019Q3_end=new_sign_ups_since_2019Q3_end[new_sign_ups_since_2019Q3_end['sign_up_date']>=\"2018-08-05\"] # First of 2018Q3\n",
    "master_file_gap=pd.read_table(\"/home/jian/BigLots/New_Sing_Ups_2018_Fiscal_Year/MediaStorm Rewards Master P4 2019 - no transaction info.zip\",\n",
    "                                             compression=\"zip\",dtype=str,sep=\"|\",usecols=['customer_id_hashed','sign_up_date'])\n",
    "new_sign_ups_since_2019Q3_end=master_file_gap.append(new_sign_ups_since_2019Q3_end).drop_duplicates()\n",
    "del master_file_gap\n",
    "###\n",
    "\n",
    "all_master_files_after_201906=list(recursive_file_gen(\"/home/jian/BigLots/\"))\n",
    "all_master_files_after_201906=[x for x in all_master_files_after_201906 if (\"aster\" in x) & (\".txt\" in x)]\n",
    "all_master_files_after_201906=[x for x in all_master_files_after_201906 if x.split(\"/MediaStorm_\")[1][:10]>\"2019-05-01\"]\n",
    "\n",
    "df_master_all_later_after_201906=pd.DataFrame()\n",
    "for file in all_master_files_after_201906:\n",
    "    df=pd.read_table(file,dtype=str,sep=\"|\",usecols=['customer_id_hashed','sign_up_date'])\n",
    "    df_master_all_later_after_201906=df_master_all_later_after_201906.append(df)\n",
    "\n",
    "new_sign_ups_since_2019Q3_end=new_sign_ups_since_2019Q3_end.append(df_master_all_later_after_201906).drop_duplicates()\n",
    "del df_master_all_later_after_201906\n",
    "\n",
    "\n",
    "gc.collect()\n",
    "print(\"new_sign_ups_since_2019Q3_end.shape\",new_sign_ups_since_2019Q3_end.shape)\n",
    "print(\"new_sign_ups_since_2019Q3_end['customer_id_hashed'].nunique()\",new_sign_ups_since_2019Q3_end['customer_id_hashed'].nunique())\n",
    "\n",
    "dup_ids=new_sign_ups_since_2019Q3_end[new_sign_ups_since_2019Q3_end['customer_id_hashed'].duplicated()]['customer_id_hashed'].tolist()\n",
    "df=new_sign_ups_since_2019Q3_end[new_sign_ups_since_2019Q3_end['customer_id_hashed'].isin(dup_ids)]\n",
    "\n",
    "new_sign_ups_since_2019Q3_end=new_sign_ups_since_2019Q3_end.sort_values(['customer_id_hashed','sign_up_date'],ascending=[True,False]).drop_duplicates(\"customer_id_hashed\")\n",
    "set_new_signed_ids=set(new_sign_ups_since_2019Q3_end['customer_id_hashed'].tolist())\n",
    "del new_sign_ups_since_2019Q3_end\n",
    "gc.collect()"
   ]
  },
  {
   "cell_type": "code",
   "execution_count": 5,
   "metadata": {},
   "outputs": [
    {
     "name": "stdout",
     "output_type": "stream",
     "text": [
      "8135510\n"
     ]
    }
   ],
   "source": [
    "print(len(set_new_signed_ids))"
   ]
  },
  {
   "cell_type": "markdown",
   "metadata": {},
   "source": [
    "# Without Product Information"
   ]
  },
  {
   "cell_type": "code",
   "execution_count": 6,
   "metadata": {},
   "outputs": [
    {
     "data": {
      "text/plain": [
       "9"
      ]
     },
     "execution_count": 6,
     "metadata": {},
     "output_type": "execute_result"
    }
   ],
   "source": [
    "sales_file_2019Q3=list(recursive_file_gen(\"/home/jian/BigLots/\"))\n",
    "sales_file_2019Q3=[x for x in sales_file_2019Q3 if \"Daily\" in x and x[-4:]==\".txt\" and \"2019-\" in x]\n",
    "sales_file_2019Q3=[x for x in sales_file_2019Q3 if x.split(\"/MediaStorm_\")[1][:10]>=\"2019-08-05\" and x.split(\"/MediaStorm_\")[1][:10]<=\"2019-10-10\"]\n",
    "# date only >=\n",
    "len(sales_file_2019Q3)\n"
   ]
  },
  {
   "cell_type": "code",
   "execution_count": 7,
   "metadata": {},
   "outputs": [
    {
     "data": {
      "text/plain": [
       "9"
      ]
     },
     "execution_count": 7,
     "metadata": {},
     "output_type": "execute_result"
    }
   ],
   "source": [
    "# First 9 weeks only\n",
    "sales_file_2018Q3=glob.glob(\"/home/jian/BigLots/hist_daily_data_itemlevel_decompressed/*.txt\")\n",
    "sales_file_2018Q3=[x for x in sales_file_2018Q3 if x.split(\"MediaStormDailySalesHistory\")[1][:8]>\"20180804\" and x.split(\"MediaStormDailySalesHistory\")[1][:8]<=\"20181008\"]\n",
    "len(sales_file_2018Q3)"
   ]
  },
  {
   "cell_type": "code",
   "execution_count": 8,
   "metadata": {},
   "outputs": [
    {
     "name": "stdout",
     "output_type": "stream",
     "text": [
      "2019-10-16 10:49:00.107108 0 (1190721, 6)\n",
      "2019-10-16 10:54:18.755599 1 (2414440, 6)\n",
      "2019-10-16 10:58:36.923315 2 (3646503, 6)\n",
      "2019-10-16 11:02:44.688973 3 (4894015, 6)\n",
      "2019-10-16 11:06:51.178192 4 (6144836, 6)\n",
      "2019-10-16 11:10:49.382260 5 (7315812, 6)\n",
      "2019-10-16 11:14:31.728694 6 (8459424, 6)\n",
      "2019-10-16 11:19:32.599606 7 (9898381, 6)\n",
      "2019-10-16 11:24:01.685510 8 (11287537, 6)\n"
     ]
    },
    {
     "data": {
      "text/plain": [
       "96"
      ]
     },
     "execution_count": 8,
     "metadata": {},
     "output_type": "execute_result"
    }
   ],
   "source": [
    "df_agg_POS_data_2018Q3_rewards=pd.DataFrame()\n",
    "\n",
    "i_counter=0\n",
    "for file in sales_file_2018Q3:\n",
    "    df=pd.read_table(file,dtype=str,sep=\"|\",usecols=['location_id','transaction_dt','transaction_id','customer_id_hashed',\n",
    "                                                     'item_transaction_units','item_transaction_amt'])\n",
    "    df=df[pd.notnull(df['customer_id_hashed'])]\n",
    "    df['item_transaction_units']=df['item_transaction_units'].astype(int)\n",
    "    df['item_transaction_amt']=df['item_transaction_amt'].astype(float)\n",
    "    \n",
    "    df_sales=df.groupby(['location_id','transaction_dt','customer_id_hashed'])['item_transaction_units','item_transaction_amt'].sum().reset_index()\n",
    "    df_sales=df_sales.rename(columns={\"item_transaction_units\":\"units\",\"item_transaction_amt\":\"sales\"})\n",
    "    \n",
    "    df_trans=df[['location_id','transaction_dt','transaction_id','customer_id_hashed']].drop_duplicates()\n",
    "    df_trans['trans']=1\n",
    "    df_trans=df_trans.groupby(['location_id','transaction_dt','customer_id_hashed'])['trans'].sum().to_frame().reset_index()\n",
    "    \n",
    "    df=pd.merge(df_sales,df_trans,on=[\"location_id\",'transaction_dt','customer_id_hashed'],how=\"outer\")\n",
    "    df_agg_POS_data_2018Q3_rewards=df_agg_POS_data_2018Q3_rewards.append(df)\n",
    "    \n",
    "    print(datetime.datetime.now(),i_counter,df_agg_POS_data_2018Q3_rewards.shape)\n",
    "    i_counter+=1\n",
    "gc.collect()"
   ]
  },
  {
   "cell_type": "code",
   "execution_count": 9,
   "metadata": {},
   "outputs": [
    {
     "name": "stdout",
     "output_type": "stream",
     "text": [
      "2019-10-16 11:27:53.484493 0 (1312276, 6)\n",
      "2019-10-16 11:32:29.080256 1 (2641439, 6)\n",
      "2019-10-16 11:36:40.753387 2 (3993285, 6)\n",
      "2019-10-16 11:42:44.671540 3 (5407040, 6)\n",
      "2019-10-16 11:46:16.082892 4 (6796632, 6)\n",
      "2019-10-16 11:49:42.963747 5 (8103909, 6)\n",
      "2019-10-16 11:53:18.741436 6 (9423221, 6)\n",
      "2019-10-16 11:57:04.437314 7 (11014408, 6)\n",
      "2019-10-16 12:04:06.075018 8 (12541623, 6)\n"
     ]
    },
    {
     "data": {
      "text/plain": [
       "96"
      ]
     },
     "execution_count": 9,
     "metadata": {},
     "output_type": "execute_result"
    }
   ],
   "source": [
    "df_agg_POS_data_2019Q3_rewards=pd.DataFrame()\n",
    "\n",
    "i_counter=0\n",
    "for file in sales_file_2019Q3:\n",
    "    df=pd.read_table(file,dtype=str,sep=\"|\",usecols=['location_id','transaction_dt','transaction_id','customer_id_hashed',\n",
    "                                                     'item_transaction_units','item_transaction_amt'])\n",
    "    df=df[pd.notnull(df['customer_id_hashed'])]\n",
    "    df['item_transaction_units']=df['item_transaction_units'].astype(int)\n",
    "    df['item_transaction_amt']=df['item_transaction_amt'].astype(float)\n",
    "    \n",
    "    df_sales=df.groupby(['location_id','transaction_dt','customer_id_hashed'])['item_transaction_units','item_transaction_amt'].sum().reset_index()\n",
    "    df_sales=df_sales.rename(columns={\"item_transaction_units\":\"units\",\"item_transaction_amt\":\"sales\"})\n",
    "    \n",
    "    df_trans=df[['location_id','transaction_dt','transaction_id','customer_id_hashed']].drop_duplicates()\n",
    "    df_trans['trans']=1\n",
    "    df_trans=df_trans.groupby(['location_id','transaction_dt','customer_id_hashed'])['trans'].sum().to_frame().reset_index()\n",
    "    \n",
    "    df=pd.merge(df_sales,df_trans,on=[\"location_id\",'transaction_dt','customer_id_hashed'],how=\"outer\")\n",
    "    df_agg_POS_data_2019Q3_rewards=df_agg_POS_data_2019Q3_rewards.append(df)\n",
    "    \n",
    "    print(datetime.datetime.now(),i_counter,df_agg_POS_data_2019Q3_rewards.shape)\n",
    "    i_counter+=1\n",
    "gc.collect()"
   ]
  },
  {
   "cell_type": "code",
   "execution_count": 10,
   "metadata": {
    "collapsed": true
   },
   "outputs": [],
   "source": [
    "def week_end_dt(x):\n",
    "    y=datetime.datetime.strptime(x,\"%Y-%m-%d\").date()\n",
    "    if y.weekday()==6:\n",
    "        y=y+datetime.timedelta(days=6)\n",
    "    else:\n",
    "        y=y+datetime.timedelta(days=5-y.weekday())\n",
    "    return y"
   ]
  },
  {
   "cell_type": "code",
   "execution_count": 11,
   "metadata": {
    "collapsed": true
   },
   "outputs": [],
   "source": [
    "df_week_end_dt=df_agg_POS_data_2019Q3_rewards[['transaction_dt']].drop_duplicates()\n",
    "df_week_end_dt_2=df_agg_POS_data_2018Q3_rewards[['transaction_dt']].drop_duplicates()\n",
    "df_week_end_dt=df_week_end_dt.append(df_week_end_dt_2)\n",
    "del df_week_end_dt_2\n",
    "df_week_end_dt['week_end_dt']=df_week_end_dt['transaction_dt'].apply(week_end_dt)\n"
   ]
  },
  {
   "cell_type": "code",
   "execution_count": 12,
   "metadata": {
    "collapsed": true
   },
   "outputs": [],
   "source": [
    "df_agg_POS_data_2018Q3_rewards=pd.merge(df_agg_POS_data_2018Q3_rewards,df_week_end_dt,on=\"transaction_dt\",how=\"left\")\n",
    "df_agg_POS_data_2019Q3_rewards=pd.merge(df_agg_POS_data_2019Q3_rewards,df_week_end_dt,on=\"transaction_dt\",how=\"left\")\n"
   ]
  },
  {
   "cell_type": "code",
   "execution_count": 13,
   "metadata": {
    "collapsed": true
   },
   "outputs": [],
   "source": [
    "write_folder=\"./output_\"+str(datetime.datetime.now().date())+\"/\"\n",
    "try:\n",
    "    os.stat(write_folder)\n",
    "except:\n",
    "    os.mkdir(write_folder)"
   ]
  },
  {
   "cell_type": "code",
   "execution_count": 14,
   "metadata": {
    "collapsed": true
   },
   "outputs": [],
   "source": [
    "df_agg_POS_data_2019Q3_rewards.to_csv(write_folder+\"df_agg_POS_data_2019Q3_rewards.csv\",index=False)\n",
    "df_agg_POS_data_2018Q3_rewards.to_csv(write_folder+\"df_agg_POS_data_2018Q3_rewards.csv\",index=False)"
   ]
  },
  {
   "cell_type": "code",
   "execution_count": 15,
   "metadata": {},
   "outputs": [
    {
     "name": "stdout",
     "output_type": "stream",
     "text": [
      "(12541623, 7)\n",
      "(11287537, 7)\n"
     ]
    }
   ],
   "source": [
    "# Registered before 2018Q3 only\n",
    "print(df_agg_POS_data_2019Q3_rewards.shape)\n",
    "print(df_agg_POS_data_2018Q3_rewards.shape)\n",
    "\n",
    "df_agg_POS_data_2019Q3_rewards=df_agg_POS_data_2019Q3_rewards[~df_agg_POS_data_2019Q3_rewards['customer_id_hashed'].isin(set_new_signed_ids)]\n",
    "df_agg_POS_data_2018Q3_rewards=df_agg_POS_data_2018Q3_rewards[~df_agg_POS_data_2018Q3_rewards['customer_id_hashed'].isin(set_new_signed_ids)]\n"
   ]
  },
  {
   "cell_type": "code",
   "execution_count": 16,
   "metadata": {},
   "outputs": [
    {
     "name": "stdout",
     "output_type": "stream",
     "text": [
      "(9525575, 7)\n",
      "(10209645, 7)\n",
      "(5185319, 4)\n",
      "(5563584, 4)\n"
     ]
    }
   ],
   "source": [
    "df_2019Q3_by_id=df_agg_POS_data_2019Q3_rewards.groupby(['customer_id_hashed'])['sales','units','trans'].sum().reset_index()\n",
    "df_2018Q3_by_id=df_agg_POS_data_2018Q3_rewards.groupby(['customer_id_hashed'])['sales','units','trans'].sum().reset_index()\n",
    "\n",
    "# df_2019Q3_by_id_week=df_agg_POS_data_2019Q3_rewards.groupby(['customer_id_hashed','week_end_dt'])['sales','units','trans'].sum().reset_index()\n",
    "# df_2018Q3_by_id_week=df_agg_POS_data_2018Q3_rewards.groupby(['customer_id_hashed','week_end_dt'])['sales','units','trans'].sum().reset_index()\n",
    "\n",
    "print(df_agg_POS_data_2019Q3_rewards.shape)\n",
    "print(df_agg_POS_data_2018Q3_rewards.shape)\n",
    "\n",
    "print(df_2019Q3_by_id.shape)\n",
    "print(df_2018Q3_by_id.shape)\n",
    "\n",
    "# print(df_2019Q3_by_id_week.shape)\n",
    "# print(df_2018Q3_by_id_week.shape)"
   ]
  },
  {
   "cell_type": "code",
   "execution_count": 17,
   "metadata": {},
   "outputs": [
    {
     "name": "stdout",
     "output_type": "stream",
     "text": [
      "(5185319, 5)\n",
      "(5563584, 5)\n"
     ]
    }
   ],
   "source": [
    "df_2019Q3_by_id=pd.merge(df_2019Q3_by_id,df_audience_2019Q3,on=\"customer_id_hashed\",how=\"left\")\n",
    "df_2018Q3_by_id=pd.merge(df_2018Q3_by_id,df_audience_2019Q3,on=\"customer_id_hashed\",how=\"left\")\n",
    "print(df_2019Q3_by_id.shape)\n",
    "print(df_2018Q3_by_id.shape)\n",
    "\n",
    "# df_2019Q3_by_id_week=pd.merge(df_2019Q3_by_id_week,df_audience_2019Q3,on=\"customer_id_hashed\",how=\"left\")\n",
    "# df_2018Q3_by_id_week=pd.merge(df_2018Q3_by_id_week,df_audience_2019Q3,on=\"customer_id_hashed\",how=\"left\")\n",
    "# print(df_2019Q3_by_id_week.shape)\n",
    "# print(df_2018Q3_by_id_week.shape)\n",
    "\n",
    "df_2019Q3_by_id['segment']=df_2019Q3_by_id['segment'].fillna(\"balance\")\n",
    "df_2018Q3_by_id['segment']=df_2018Q3_by_id['segment'].fillna(\"balance\")\n",
    "# df_2018Q3_by_id_week['segment']=df_2018Q3_by_id_week['segment'].fillna(\"balance\")\n",
    "# df_2019Q3_by_id_week['segment']=df_2019Q3_by_id_week['segment'].fillna(\"balance\")"
   ]
  },
  {
   "cell_type": "code",
   "execution_count": 18,
   "metadata": {
    "collapsed": true
   },
   "outputs": [],
   "source": [
    "agg_function={\"customer_id_hashed\":\"nunique\",\"sales\":\"sum\",\"units\":\"sum\",\"trans\":\"sum\"}\n",
    "\n",
    "df_output_19=df_2019Q3_by_id.groupby(\"segment\")['customer_id_hashed','sales','units','trans'].agg(agg_function).reset_index()\n",
    "df_output_19=df_output_19.rename(columns={\"customer_id_hashed\":\"count_shoppers\"})\n",
    "for col in df_output_19.columns.tolist()[1:]:\n",
    "    df_output_19=df_output_19.rename(columns={col:col+\"_2019\"})\n",
    "    \n",
    "df_output_18=df_2018Q3_by_id.groupby(\"segment\")['customer_id_hashed','sales','units','trans'].agg(agg_function).reset_index()\n",
    "df_output_18=df_output_18.rename(columns={\"customer_id_hashed\":\"count_shoppers\"})\n",
    "for col in df_output_18.columns.tolist()[1:]:\n",
    "    df_output_18=df_output_18.rename(columns={col:col+\"_2018\"})\n"
   ]
  },
  {
   "cell_type": "code",
   "execution_count": 19,
   "metadata": {
    "collapsed": true
   },
   "outputs": [],
   "source": [
    "df_output=pd.merge(df_output_18,df_output_19,on=\"segment\")\n",
    "df_audience_total_count=df_audience_total_count.rename(columns={\"segment_2\":\"segment\"})\n",
    "df_output=pd.merge(df_output,df_audience_total_count,on=\"segment\",how=\"left\")\n",
    "\n",
    "\n",
    "cols=[\"segment\",\"ids_total\",\"sales_2019\",\"sales_2018\",\"units_2019\",\"units_2018\",\"trans_2019\",\"trans_2018\",\"count_shoppers_2019\",\"count_shoppers_2018\"]\n",
    "df_output=df_output[cols]\n"
   ]
  },
  {
   "cell_type": "code",
   "execution_count": 50,
   "metadata": {
    "collapsed": true
   },
   "outputs": [],
   "source": [
    "del df_output['AOV_2019']\n",
    "del df_output['AOV_2018']\n",
    "\n",
    "del df_output['SalesPerShopper_2019']\n",
    "del df_output['SalesPerShopper_2018']"
   ]
  },
  {
   "cell_type": "code",
   "execution_count": 51,
   "metadata": {
    "collapsed": true
   },
   "outputs": [],
   "source": [
    "df_output['AOV_2019']=df_output['sales_2019']/df_output['trans_2019']\n",
    "df_output['AOV_2018']=df_output['sales_2018']/df_output['trans_2018']\n",
    "\n",
    "df_output['UnitPerTrans_2019']=df_output['units_2019']/df_output['trans_2019']\n",
    "df_output['UnitPerTrans_2018']=df_output['units_2018']/df_output['trans_2018']\n",
    "\n",
    "\n",
    "df_output['SalesPerShopper_2019']=df_output['sales_2019']/df_output['count_shoppers_2019']\n",
    "df_output['SalesPerShopper_2018']=df_output['sales_2018']/df_output['count_shoppers_2018']\n",
    "\n",
    "\n",
    "df_output['TransPerShopper_2019']=df_output['trans_2019']/df_output['count_shoppers_2019']\n",
    "df_output['TransPerShopper_2018']=df_output['trans_2018']/df_output['count_shoppers_2018']\n",
    "\n",
    "\n",
    "df_output['UnitPerShopper_2019']=df_output['units_2019']/df_output['count_shoppers_2019']\n",
    "df_output['UnitPerShopper_2018']=df_output['units_2018']/df_output['count_shoppers_2018']\n"
   ]
  },
  {
   "cell_type": "code",
   "execution_count": 20,
   "metadata": {},
   "outputs": [
    {
     "data": {
      "text/plain": [
       "177"
      ]
     },
     "execution_count": 20,
     "metadata": {},
     "output_type": "execute_result"
    }
   ],
   "source": [
    "del df_agg_POS_data_2019Q3_rewards\n",
    "del df_agg_POS_data_2018Q3_rewards\n",
    "del df_2019Q3_by_id\n",
    "del df_2018Q3_by_id\n",
    "gc.collect()"
   ]
  },
  {
   "cell_type": "code",
   "execution_count": 52,
   "metadata": {},
   "outputs": [
    {
     "data": {
      "text/html": [
       "<div>\n",
       "<style>\n",
       "    .dataframe thead tr:only-child th {\n",
       "        text-align: right;\n",
       "    }\n",
       "\n",
       "    .dataframe thead th {\n",
       "        text-align: left;\n",
       "    }\n",
       "\n",
       "    .dataframe tbody tr th {\n",
       "        vertical-align: top;\n",
       "    }\n",
       "</style>\n",
       "<table border=\"1\" class=\"dataframe\">\n",
       "  <thead>\n",
       "    <tr style=\"text-align: right;\">\n",
       "      <th></th>\n",
       "      <th>segment</th>\n",
       "      <th>ids_total</th>\n",
       "      <th>sales_2019</th>\n",
       "      <th>sales_2018</th>\n",
       "      <th>units_2019</th>\n",
       "      <th>units_2018</th>\n",
       "      <th>trans_2019</th>\n",
       "      <th>trans_2018</th>\n",
       "      <th>count_shoppers_2019</th>\n",
       "      <th>count_shoppers_2018</th>\n",
       "      <th>AOV_2019</th>\n",
       "      <th>AOV_2018</th>\n",
       "      <th>UnitPerTrans_2019</th>\n",
       "      <th>UnitPerTrans_2018</th>\n",
       "      <th>SalesPerShopper_2019</th>\n",
       "      <th>SalesPerShopper_2018</th>\n",
       "      <th>TransPerShopper_2019</th>\n",
       "      <th>TransPerShopper_2018</th>\n",
       "      <th>UnitPerShopper_2019</th>\n",
       "      <th>UnitPerShopper_2018</th>\n",
       "    </tr>\n",
       "  </thead>\n",
       "  <tbody>\n",
       "    <tr>\n",
       "      <th>0</th>\n",
       "      <td>T_P_H_2019Q3_RFM</td>\n",
       "      <td>4937981.0</td>\n",
       "      <td>1.513964e+08</td>\n",
       "      <td>1.568991e+08</td>\n",
       "      <td>34638733</td>\n",
       "      <td>37269915</td>\n",
       "      <td>4905401</td>\n",
       "      <td>4969709</td>\n",
       "      <td>1986048</td>\n",
       "      <td>2019594</td>\n",
       "      <td>30.863206</td>\n",
       "      <td>31.571079</td>\n",
       "      <td>7.061346</td>\n",
       "      <td>7.499416</td>\n",
       "      <td>76.229981</td>\n",
       "      <td>77.688425</td>\n",
       "      <td>2.469931</td>\n",
       "      <td>2.460747</td>\n",
       "      <td>17.441035</td>\n",
       "      <td>18.454162</td>\n",
       "    </tr>\n",
       "    <tr>\n",
       "      <th>1</th>\n",
       "      <td>T_P_L_2019Q3_RFM</td>\n",
       "      <td>3391401.0</td>\n",
       "      <td>1.821562e+07</td>\n",
       "      <td>1.682016e+07</td>\n",
       "      <td>2668876</td>\n",
       "      <td>2927391</td>\n",
       "      <td>434169</td>\n",
       "      <td>472419</td>\n",
       "      <td>295866</td>\n",
       "      <td>400984</td>\n",
       "      <td>41.955147</td>\n",
       "      <td>35.604336</td>\n",
       "      <td>6.147090</td>\n",
       "      <td>6.196599</td>\n",
       "      <td>61.567143</td>\n",
       "      <td>41.947222</td>\n",
       "      <td>1.467451</td>\n",
       "      <td>1.178149</td>\n",
       "      <td>9.020557</td>\n",
       "      <td>7.300518</td>\n",
       "    </tr>\n",
       "    <tr>\n",
       "      <th>2</th>\n",
       "      <td>T_P_M_2019Q3_RFM</td>\n",
       "      <td>3515875.0</td>\n",
       "      <td>4.196397e+07</td>\n",
       "      <td>6.856101e+07</td>\n",
       "      <td>7302789</td>\n",
       "      <td>12562336</td>\n",
       "      <td>1105461</td>\n",
       "      <td>1837912</td>\n",
       "      <td>677739</td>\n",
       "      <td>1020133</td>\n",
       "      <td>37.960610</td>\n",
       "      <td>37.303748</td>\n",
       "      <td>6.606103</td>\n",
       "      <td>6.835113</td>\n",
       "      <td>61.917602</td>\n",
       "      <td>67.207909</td>\n",
       "      <td>1.631101</td>\n",
       "      <td>1.801640</td>\n",
       "      <td>10.775223</td>\n",
       "      <td>12.314410</td>\n",
       "    </tr>\n",
       "    <tr>\n",
       "      <th>3</th>\n",
       "      <td>T_S_H_2019Q3_RFM</td>\n",
       "      <td>1694485.0</td>\n",
       "      <td>4.719755e+07</td>\n",
       "      <td>4.917203e+07</td>\n",
       "      <td>10499334</td>\n",
       "      <td>11410684</td>\n",
       "      <td>1381345</td>\n",
       "      <td>1404277</td>\n",
       "      <td>612535</td>\n",
       "      <td>623518</td>\n",
       "      <td>34.167824</td>\n",
       "      <td>35.015904</td>\n",
       "      <td>7.600805</td>\n",
       "      <td>8.125665</td>\n",
       "      <td>77.052826</td>\n",
       "      <td>78.862245</td>\n",
       "      <td>2.255128</td>\n",
       "      <td>2.252184</td>\n",
       "      <td>17.140790</td>\n",
       "      <td>18.300489</td>\n",
       "    </tr>\n",
       "    <tr>\n",
       "      <th>4</th>\n",
       "      <td>T_S_L_2019Q3_RFM</td>\n",
       "      <td>1422640.0</td>\n",
       "      <td>7.619965e+06</td>\n",
       "      <td>7.329770e+06</td>\n",
       "      <td>1100409</td>\n",
       "      <td>1263769</td>\n",
       "      <td>166913</td>\n",
       "      <td>189787</td>\n",
       "      <td>115060</td>\n",
       "      <td>161457</td>\n",
       "      <td>45.652316</td>\n",
       "      <td>38.621031</td>\n",
       "      <td>6.592710</td>\n",
       "      <td>6.658881</td>\n",
       "      <td>66.226013</td>\n",
       "      <td>45.397658</td>\n",
       "      <td>1.450661</td>\n",
       "      <td>1.175465</td>\n",
       "      <td>9.563784</td>\n",
       "      <td>7.827279</td>\n",
       "    </tr>\n",
       "    <tr>\n",
       "      <th>5</th>\n",
       "      <td>T_S_M_2019Q3_RFM</td>\n",
       "      <td>1361003.0</td>\n",
       "      <td>1.592390e+07</td>\n",
       "      <td>2.651176e+07</td>\n",
       "      <td>2744227</td>\n",
       "      <td>4751179</td>\n",
       "      <td>385567</td>\n",
       "      <td>640924</td>\n",
       "      <td>241158</td>\n",
       "      <td>366565</td>\n",
       "      <td>41.299956</td>\n",
       "      <td>41.364904</td>\n",
       "      <td>7.117380</td>\n",
       "      <td>7.413015</td>\n",
       "      <td>66.030985</td>\n",
       "      <td>72.324853</td>\n",
       "      <td>1.598815</td>\n",
       "      <td>1.748459</td>\n",
       "      <td>11.379374</td>\n",
       "      <td>12.961355</td>\n",
       "    </tr>\n",
       "    <tr>\n",
       "      <th>6</th>\n",
       "      <td>T_lapsed_18_48_PS_RFM</td>\n",
       "      <td>5487169.0</td>\n",
       "      <td>1.673176e+07</td>\n",
       "      <td>6.014869e+04</td>\n",
       "      <td>2172591</td>\n",
       "      <td>13193</td>\n",
       "      <td>345018</td>\n",
       "      <td>1510</td>\n",
       "      <td>239155</td>\n",
       "      <td>1502</td>\n",
       "      <td>48.495337</td>\n",
       "      <td>39.833570</td>\n",
       "      <td>6.297037</td>\n",
       "      <td>8.737086</td>\n",
       "      <td>69.962009</td>\n",
       "      <td>40.045732</td>\n",
       "      <td>1.442654</td>\n",
       "      <td>1.005326</td>\n",
       "      <td>9.084447</td>\n",
       "      <td>8.783622</td>\n",
       "    </tr>\n",
       "    <tr>\n",
       "      <th>7</th>\n",
       "      <td>balance</td>\n",
       "      <td>NaN</td>\n",
       "      <td>7.577442e+07</td>\n",
       "      <td>7.224081e+07</td>\n",
       "      <td>12815730</td>\n",
       "      <td>12745081</td>\n",
       "      <td>1850182</td>\n",
       "      <td>1708605</td>\n",
       "      <td>1017758</td>\n",
       "      <td>969831</td>\n",
       "      <td>40.955117</td>\n",
       "      <td>42.280578</td>\n",
       "      <td>6.926740</td>\n",
       "      <td>7.459349</td>\n",
       "      <td>74.452296</td>\n",
       "      <td>74.488037</td>\n",
       "      <td>1.817900</td>\n",
       "      <td>1.761755</td>\n",
       "      <td>12.592119</td>\n",
       "      <td>13.141548</td>\n",
       "    </tr>\n",
       "  </tbody>\n",
       "</table>\n",
       "</div>"
      ],
      "text/plain": [
       "                 segment  ids_total    sales_2019    sales_2018  units_2019  \\\n",
       "0       T_P_H_2019Q3_RFM  4937981.0  1.513964e+08  1.568991e+08    34638733   \n",
       "1       T_P_L_2019Q3_RFM  3391401.0  1.821562e+07  1.682016e+07     2668876   \n",
       "2       T_P_M_2019Q3_RFM  3515875.0  4.196397e+07  6.856101e+07     7302789   \n",
       "3       T_S_H_2019Q3_RFM  1694485.0  4.719755e+07  4.917203e+07    10499334   \n",
       "4       T_S_L_2019Q3_RFM  1422640.0  7.619965e+06  7.329770e+06     1100409   \n",
       "5       T_S_M_2019Q3_RFM  1361003.0  1.592390e+07  2.651176e+07     2744227   \n",
       "6  T_lapsed_18_48_PS_RFM  5487169.0  1.673176e+07  6.014869e+04     2172591   \n",
       "7                balance        NaN  7.577442e+07  7.224081e+07    12815730   \n",
       "\n",
       "   units_2018  trans_2019  trans_2018  count_shoppers_2019  \\\n",
       "0    37269915     4905401     4969709              1986048   \n",
       "1     2927391      434169      472419               295866   \n",
       "2    12562336     1105461     1837912               677739   \n",
       "3    11410684     1381345     1404277               612535   \n",
       "4     1263769      166913      189787               115060   \n",
       "5     4751179      385567      640924               241158   \n",
       "6       13193      345018        1510               239155   \n",
       "7    12745081     1850182     1708605              1017758   \n",
       "\n",
       "   count_shoppers_2018   AOV_2019   AOV_2018  UnitPerTrans_2019  \\\n",
       "0              2019594  30.863206  31.571079           7.061346   \n",
       "1               400984  41.955147  35.604336           6.147090   \n",
       "2              1020133  37.960610  37.303748           6.606103   \n",
       "3               623518  34.167824  35.015904           7.600805   \n",
       "4               161457  45.652316  38.621031           6.592710   \n",
       "5               366565  41.299956  41.364904           7.117380   \n",
       "6                 1502  48.495337  39.833570           6.297037   \n",
       "7               969831  40.955117  42.280578           6.926740   \n",
       "\n",
       "   UnitPerTrans_2018  SalesPerShopper_2019  SalesPerShopper_2018  \\\n",
       "0           7.499416             76.229981             77.688425   \n",
       "1           6.196599             61.567143             41.947222   \n",
       "2           6.835113             61.917602             67.207909   \n",
       "3           8.125665             77.052826             78.862245   \n",
       "4           6.658881             66.226013             45.397658   \n",
       "5           7.413015             66.030985             72.324853   \n",
       "6           8.737086             69.962009             40.045732   \n",
       "7           7.459349             74.452296             74.488037   \n",
       "\n",
       "   TransPerShopper_2019  TransPerShopper_2018  UnitPerShopper_2019  \\\n",
       "0              2.469931              2.460747            17.441035   \n",
       "1              1.467451              1.178149             9.020557   \n",
       "2              1.631101              1.801640            10.775223   \n",
       "3              2.255128              2.252184            17.140790   \n",
       "4              1.450661              1.175465             9.563784   \n",
       "5              1.598815              1.748459            11.379374   \n",
       "6              1.442654              1.005326             9.084447   \n",
       "7              1.817900              1.761755            12.592119   \n",
       "\n",
       "   UnitPerShopper_2018  \n",
       "0            18.454162  \n",
       "1             7.300518  \n",
       "2            12.314410  \n",
       "3            18.300489  \n",
       "4             7.827279  \n",
       "5            12.961355  \n",
       "6             8.783622  \n",
       "7            13.141548  "
      ]
     },
     "execution_count": 52,
     "metadata": {},
     "output_type": "execute_result"
    }
   ],
   "source": [
    "df_output"
   ]
  },
  {
   "cell_type": "markdown",
   "metadata": {},
   "source": [
    "# By product division"
   ]
  },
  {
   "cell_type": "code",
   "execution_count": 22,
   "metadata": {},
   "outputs": [
    {
     "data": {
      "text/plain": [
       "(462, 6)"
      ]
     },
     "execution_count": 22,
     "metadata": {},
     "output_type": "execute_result"
    }
   ],
   "source": [
    "Product_Taxonomy=pd.read_table(\"/home/jian/BigLots/static_files/ProductTaxonomy/MediaStormProductTaxonomy20190901-135942-034.txt\",\n",
    "                              sep=\"|\",dtype=str)\n",
    "Product_Taxonomy=Product_Taxonomy[['class_code_id','department_id','division_id']].drop_duplicates()\n",
    "Product_Taxonomy.shape,Product_Taxonomy['class_code_id'].nunique()\n",
    "Product_Taxonomy_name=Product_Taxonomy.copy()\n",
    "division_name=pd.read_table(\"/home/jian/BigLots/static_files/MediaStorm Data Extract - Division Names.txt\",sep=\"|\",dtype=str)\n",
    "department_name=pd.read_table(\"/home/jian/BigLots/static_files/MediaStorm Data Extract - Department Names.txt\",sep=\"|\",dtype=str)\n",
    "class_name=pd.read_table(\"/home/jian/BigLots/static_files/MediaStorm Data Extract - Class Names.txt\",sep=\"|\",dtype=str,encoding=\"iso-8859-1\")\n",
    "Product_Taxonomy_name=pd.merge(Product_Taxonomy_name,division_name,on=\"division_id\",how=\"left\")\n",
    "Product_Taxonomy_name=pd.merge(Product_Taxonomy_name,department_name,on=\"department_id\",how=\"left\")\n",
    "Product_Taxonomy_name=pd.merge(Product_Taxonomy_name,class_name,on=\"class_code_id\",how=\"left\")\n",
    "Product_Taxonomy_name.shape"
   ]
  },
  {
   "cell_type": "code",
   "execution_count": 23,
   "metadata": {},
   "outputs": [
    {
     "name": "stdout",
     "output_type": "stream",
     "text": [
      "2019-10-16 12:18:49.481519 0 (2368093, 8)\n",
      "2019-10-16 12:18:49.482471 0 (3681525, 8)\n",
      "2019-10-16 12:22:09.174021 1 (4800824, 8)\n",
      "2019-10-16 12:22:09.175693 1 (7508965, 8)\n",
      "2019-10-16 12:25:22.205561 2 (7222526, 8)\n",
      "2019-10-16 12:25:22.206809 2 (11274812, 8)\n",
      "2019-10-16 12:28:35.997732 3 (9633372, 8)\n",
      "2019-10-16 12:28:35.998981 3 (15062157, 8)\n",
      "2019-10-16 12:31:50.731988 4 (12024247, 8)\n",
      "2019-10-16 12:31:50.734111 4 (18820857, 8)\n",
      "2019-10-16 12:34:59.920778 5 (14252854, 8)\n",
      "2019-10-16 12:34:59.921724 5 (22361656, 8)\n",
      "2019-10-16 12:38:06.008600 6 (16393496, 8)\n",
      "2019-10-16 12:38:06.009869 6 (25736266, 8)\n",
      "2019-10-16 12:42:44.351633 7 (19163356, 8)\n",
      "2019-10-16 12:42:44.353380 7 (30304048, 8)\n",
      "2019-10-16 12:50:30.660817 8 (21914810, 8)\n",
      "2019-10-16 12:50:30.663279 8 (34787212, 8)\n"
     ]
    },
    {
     "data": {
      "text/plain": [
       "63"
      ]
     },
     "execution_count": 23,
     "metadata": {},
     "output_type": "execute_result"
    }
   ],
   "source": [
    "df_agg_POS_data_2018Q3_rewards_division=pd.DataFrame()\n",
    "df_agg_POS_data_2018Q3_rewards_department=pd.DataFrame()\n",
    "\n",
    "i_counter=0\n",
    "for file in sales_file_2018Q3:\n",
    "    df=pd.read_table(file,dtype=str,sep=\"|\",usecols=['location_id','transaction_dt','transaction_id','customer_id_hashed','class_code_id',\n",
    "                                                     'item_transaction_units','item_transaction_amt'])\n",
    "    df=df[pd.notnull(df['customer_id_hashed'])]\n",
    "    df=df[~df['customer_id_hashed'].isin(set_new_signed_ids)]  # remove the new sign ups\n",
    "\n",
    "    df['item_transaction_units']=df['item_transaction_units'].astype(int)\n",
    "    df['item_transaction_amt']=df['item_transaction_amt'].astype(float)\n",
    "    df=pd.merge(df,Product_Taxonomy_name,on='class_code_id',how=\"left\")\n",
    "    \n",
    "    # Division level\n",
    "    df_sales_division=df.groupby(['location_id','transaction_dt','customer_id_hashed','division_id','division_desc'])['item_transaction_units','item_transaction_amt'].sum().reset_index()\n",
    "    df_sales_division=df_sales_division.rename(columns={\"item_transaction_units\":\"units\",\"item_transaction_amt\":\"sales\"})\n",
    "    \n",
    "    df_trans_division=df[['location_id','transaction_dt','transaction_id','customer_id_hashed','division_id','division_desc']].drop_duplicates()\n",
    "    df_trans_division['trans']=1\n",
    "    df_trans_division=df_trans_division.groupby(['location_id','transaction_dt','customer_id_hashed','division_id','division_desc'])['trans'].sum().to_frame().reset_index()\n",
    "\n",
    "    df_division=pd.merge(df_sales_division,df_trans_division,on=[\"location_id\",'transaction_dt','customer_id_hashed','division_id','division_desc'],how=\"outer\")\n",
    "    \n",
    "    # Department level\n",
    "    df_sales_department=df.groupby(['location_id','transaction_dt','customer_id_hashed','department_id','department_desc'])['item_transaction_units','item_transaction_amt'].sum().reset_index()\n",
    "    df_sales_department=df_sales_department.rename(columns={\"item_transaction_units\":\"units\",\"item_transaction_amt\":\"sales\"})\n",
    "    \n",
    "    df_trans_department=df[['location_id','transaction_dt','transaction_id','customer_id_hashed','department_id','department_desc']].drop_duplicates()\n",
    "    df_trans_department['trans']=1\n",
    "    df_trans_department=df_trans_department.groupby(['location_id','transaction_dt','customer_id_hashed','department_id','department_desc'])['trans'].sum().to_frame().reset_index()\n",
    "\n",
    "    df_department=pd.merge(df_sales_department,df_trans_department,on=[\"location_id\",'transaction_dt','customer_id_hashed','department_id','department_desc'],how=\"outer\")\n",
    "    \n",
    "    df_agg_POS_data_2018Q3_rewards_division=df_agg_POS_data_2018Q3_rewards_division.append(df_division)\n",
    "    df_agg_POS_data_2018Q3_rewards_department=df_agg_POS_data_2018Q3_rewards_department.append(df_department)\n",
    "    \n",
    "    print(datetime.datetime.now(),i_counter,df_agg_POS_data_2018Q3_rewards_division.shape)\n",
    "    print(datetime.datetime.now(),i_counter,df_agg_POS_data_2018Q3_rewards_department.shape)\n",
    "    i_counter+=1\n",
    "gc.collect()\n",
    "\n",
    "# new sign ups already removed"
   ]
  },
  {
   "cell_type": "code",
   "execution_count": 24,
   "metadata": {},
   "outputs": [
    {
     "name": "stdout",
     "output_type": "stream",
     "text": [
      "2019-10-16 12:53:42.680412 0 (2123544, 8)\n",
      "2019-10-16 12:53:42.681319 0 (3308276, 8)\n",
      "2019-10-16 12:57:01.499442 1 (4283340, 8)\n",
      "2019-10-16 12:57:01.500730 1 (6716449, 8)\n",
      "2019-10-16 13:00:33.103081 2 (6472265, 8)\n",
      "2019-10-16 13:00:33.105549 2 (10134954, 8)\n",
      "2019-10-16 13:04:10.645719 3 (8722899, 8)\n",
      "2019-10-16 13:04:10.648118 3 (13709263, 8)\n",
      "2019-10-16 13:06:54.022004 4 (10910252, 8)\n",
      "2019-10-16 13:06:54.022960 4 (17165321, 8)\n",
      "2019-10-16 13:10:11.056293 5 (12964240, 8)\n",
      "2019-10-16 13:10:11.057550 5 (20421793, 8)\n",
      "2019-10-16 13:13:34.904444 6 (15031591, 8)\n",
      "2019-10-16 13:13:34.905745 6 (23684280, 8)\n",
      "2019-10-16 13:17:51.823215 7 (17555830, 8)\n",
      "2019-10-16 13:17:51.824952 7 (27788032, 8)\n",
      "2019-10-16 13:21:55.584563 8 (20032754, 8)\n",
      "2019-10-16 13:21:55.585803 8 (31794731, 8)\n"
     ]
    },
    {
     "data": {
      "text/plain": [
       "63"
      ]
     },
     "execution_count": 24,
     "metadata": {},
     "output_type": "execute_result"
    }
   ],
   "source": [
    "df_agg_POS_data_2019Q3_rewards_division=pd.DataFrame()\n",
    "df_agg_POS_data_2019Q3_rewards_department=pd.DataFrame()\n",
    "\n",
    "i_counter=0\n",
    "for file in sales_file_2019Q3:\n",
    "    df=pd.read_table(file,dtype=str,sep=\"|\",usecols=['location_id','transaction_dt','transaction_id','customer_id_hashed','class_code_id',\n",
    "                                                     'item_transaction_units','item_transaction_amt'])\n",
    "    df=df[pd.notnull(df['customer_id_hashed'])]\n",
    "    df['item_transaction_units']=df['item_transaction_units'].astype(int)\n",
    "    df['item_transaction_amt']=df['item_transaction_amt'].astype(float)\n",
    "    df=pd.merge(df,Product_Taxonomy_name,on='class_code_id',how=\"left\")\n",
    "    df=df[~df['customer_id_hashed'].isin(set_new_signed_ids)] # remove the new sign ups\n",
    "\n",
    "    # Division level\n",
    "    df_sales_division=df.groupby(['location_id','transaction_dt','customer_id_hashed','division_id','division_desc'])['item_transaction_units','item_transaction_amt'].sum().reset_index()\n",
    "    df_sales_division=df_sales_division.rename(columns={\"item_transaction_units\":\"units\",\"item_transaction_amt\":\"sales\"})\n",
    "    \n",
    "    df_trans_division=df[['location_id','transaction_dt','transaction_id','customer_id_hashed','division_id','division_desc']].drop_duplicates()\n",
    "    df_trans_division['trans']=1\n",
    "    df_trans_division=df_trans_division.groupby(['location_id','transaction_dt','customer_id_hashed','division_id','division_desc'])['trans'].sum().to_frame().reset_index()\n",
    "\n",
    "    df_division=pd.merge(df_sales_division,df_trans_division,on=[\"location_id\",'transaction_dt','customer_id_hashed','division_id','division_desc'],how=\"outer\")\n",
    "    \n",
    "    # Department level\n",
    "    df_sales_department=df.groupby(['location_id','transaction_dt','customer_id_hashed','department_id','department_desc'])['item_transaction_units','item_transaction_amt'].sum().reset_index()\n",
    "    df_sales_department=df_sales_department.rename(columns={\"item_transaction_units\":\"units\",\"item_transaction_amt\":\"sales\"})\n",
    "    \n",
    "    df_trans_department=df[['location_id','transaction_dt','transaction_id','customer_id_hashed','department_id','department_desc']].drop_duplicates()\n",
    "    df_trans_department['trans']=1\n",
    "    df_trans_department=df_trans_department.groupby(['location_id','transaction_dt','customer_id_hashed','department_id','department_desc'])['trans'].sum().to_frame().reset_index()\n",
    "\n",
    "    df_department=pd.merge(df_sales_department,df_trans_department,on=[\"location_id\",'transaction_dt','customer_id_hashed','department_id','department_desc'],how=\"outer\")\n",
    "    \n",
    "    df_agg_POS_data_2019Q3_rewards_division=df_agg_POS_data_2019Q3_rewards_division.append(df_division)\n",
    "    df_agg_POS_data_2019Q3_rewards_department=df_agg_POS_data_2019Q3_rewards_department.append(df_department)\n",
    "    \n",
    "    print(datetime.datetime.now(),i_counter,df_agg_POS_data_2019Q3_rewards_division.shape)\n",
    "    print(datetime.datetime.now(),i_counter,df_agg_POS_data_2019Q3_rewards_department.shape)\n",
    "    i_counter+=1\n",
    "gc.collect()\n",
    "\n",
    "# new sign ups already removed"
   ]
  },
  {
   "cell_type": "code",
   "execution_count": 25,
   "metadata": {},
   "outputs": [
    {
     "data": {
      "text/plain": [
       "104"
      ]
     },
     "execution_count": 25,
     "metadata": {},
     "output_type": "execute_result"
    }
   ],
   "source": [
    "del df\n",
    "del df_department\n",
    "del df_division\n",
    "gc.collect()"
   ]
  },
  {
   "cell_type": "code",
   "execution_count": 26,
   "metadata": {},
   "outputs": [
    {
     "name": "stdout",
     "output_type": "stream",
     "text": [
      "2019-10-16 13:21:59.919705\n"
     ]
    },
    {
     "data": {
      "text/html": [
       "<div>\n",
       "<style>\n",
       "    .dataframe thead tr:only-child th {\n",
       "        text-align: right;\n",
       "    }\n",
       "\n",
       "    .dataframe thead th {\n",
       "        text-align: left;\n",
       "    }\n",
       "\n",
       "    .dataframe tbody tr th {\n",
       "        vertical-align: top;\n",
       "    }\n",
       "</style>\n",
       "<table border=\"1\" class=\"dataframe\">\n",
       "  <thead>\n",
       "    <tr style=\"text-align: right;\">\n",
       "      <th></th>\n",
       "      <th>location_id</th>\n",
       "      <th>transaction_dt</th>\n",
       "      <th>customer_id_hashed</th>\n",
       "      <th>division_id</th>\n",
       "      <th>division_desc</th>\n",
       "      <th>units</th>\n",
       "      <th>sales</th>\n",
       "      <th>trans</th>\n",
       "    </tr>\n",
       "  </thead>\n",
       "  <tbody>\n",
       "    <tr>\n",
       "      <th>0</th>\n",
       "      <td>1</td>\n",
       "      <td>2019-08-04</td>\n",
       "      <td>023978948616cd96f8ddf41b5122cd9291b89d0b47675f...</td>\n",
       "      <td>1</td>\n",
       "      <td>FOOD</td>\n",
       "      <td>2</td>\n",
       "      <td>9.50</td>\n",
       "      <td>1</td>\n",
       "    </tr>\n",
       "    <tr>\n",
       "      <th>1</th>\n",
       "      <td>1</td>\n",
       "      <td>2019-08-04</td>\n",
       "      <td>0304353c3725d559df8e954aeb75ed1b6e40f14812835c...</td>\n",
       "      <td>1</td>\n",
       "      <td>FOOD</td>\n",
       "      <td>3</td>\n",
       "      <td>5.09</td>\n",
       "      <td>1</td>\n",
       "    </tr>\n",
       "  </tbody>\n",
       "</table>\n",
       "</div>"
      ],
      "text/plain": [
       "  location_id transaction_dt  \\\n",
       "0           1     2019-08-04   \n",
       "1           1     2019-08-04   \n",
       "\n",
       "                                  customer_id_hashed division_id  \\\n",
       "0  023978948616cd96f8ddf41b5122cd9291b89d0b47675f...           1   \n",
       "1  0304353c3725d559df8e954aeb75ed1b6e40f14812835c...           1   \n",
       "\n",
       "  division_desc  units  sales  trans  \n",
       "0          FOOD      2   9.50      1  \n",
       "1          FOOD      3   5.09      1  "
      ]
     },
     "execution_count": 26,
     "metadata": {},
     "output_type": "execute_result"
    }
   ],
   "source": [
    "print(datetime.datetime.now())\n",
    "df_agg_POS_data_2019Q3_rewards_division.head(2)"
   ]
  },
  {
   "cell_type": "code",
   "execution_count": null,
   "metadata": {
    "collapsed": true
   },
   "outputs": [],
   "source": []
  },
  {
   "cell_type": "code",
   "execution_count": 27,
   "metadata": {},
   "outputs": [
    {
     "data": {
      "text/plain": [
       "206"
      ]
     },
     "execution_count": 27,
     "metadata": {},
     "output_type": "execute_result"
    }
   ],
   "source": [
    "# Rolling up to id, division level\n",
    "df_agg_POS_data_2019Q3_rewards_division=df_agg_POS_data_2019Q3_rewards_division.groupby(['customer_id_hashed','division_id','division_desc'])['sales','units','trans'].sum().reset_index()\n",
    "df_agg_POS_data_2018Q3_rewards_division=df_agg_POS_data_2018Q3_rewards_division.groupby(['customer_id_hashed','division_id','division_desc'])['sales','units','trans'].sum().reset_index()\n",
    "\n",
    "# Rolling up to id, department level\n",
    "df_agg_POS_data_2019Q3_rewards_department=df_agg_POS_data_2019Q3_rewards_department.groupby(['customer_id_hashed','department_id','department_desc'])['sales','units','trans'].sum().reset_index()\n",
    "df_agg_POS_data_2018Q3_rewards_department=df_agg_POS_data_2018Q3_rewards_department.groupby(['customer_id_hashed','department_id','department_desc'])['sales','units','trans'].sum().reset_index()\n",
    "\n",
    "gc.collect()"
   ]
  },
  {
   "cell_type": "code",
   "execution_count": 28,
   "metadata": {},
   "outputs": [
    {
     "name": "stdout",
     "output_type": "stream",
     "text": [
      "(13619612, 7)\n",
      "(14967745, 7)\n",
      "(24957198, 7)\n",
      "(27377028, 7)\n"
     ]
    }
   ],
   "source": [
    "df_agg_POS_data_2019Q3_rewards_division=pd.merge(df_agg_POS_data_2019Q3_rewards_division,df_audience_2019Q3,on=\"customer_id_hashed\",how=\"left\")\n",
    "df_agg_POS_data_2018Q3_rewards_division=pd.merge(df_agg_POS_data_2018Q3_rewards_division,df_audience_2019Q3,on=\"customer_id_hashed\",how=\"left\")\n",
    "\n",
    "df_agg_POS_data_2019Q3_rewards_department=pd.merge(df_agg_POS_data_2019Q3_rewards_department,df_audience_2019Q3,on=\"customer_id_hashed\",how=\"left\")\n",
    "df_agg_POS_data_2018Q3_rewards_department=pd.merge(df_agg_POS_data_2018Q3_rewards_department,df_audience_2019Q3,on=\"customer_id_hashed\",how=\"left\")\n",
    "\n",
    "\n",
    "df_agg_POS_data_2019Q3_rewards_division['segment']=df_agg_POS_data_2019Q3_rewards_division['segment'].fillna(\"balance\")\n",
    "df_agg_POS_data_2018Q3_rewards_division['segment']=df_agg_POS_data_2018Q3_rewards_division['segment'].fillna(\"balance\")\n",
    "\n",
    "df_agg_POS_data_2019Q3_rewards_department['segment']=df_agg_POS_data_2019Q3_rewards_department['segment'].fillna(\"balance\")\n",
    "df_agg_POS_data_2018Q3_rewards_department['segment']=df_agg_POS_data_2018Q3_rewards_department['segment'].fillna(\"balance\")\n",
    "\n",
    "\n",
    "print(df_agg_POS_data_2019Q3_rewards_division.shape)\n",
    "print(df_agg_POS_data_2018Q3_rewards_division.shape)\n",
    "\n",
    "print(df_agg_POS_data_2019Q3_rewards_department.shape)\n",
    "print(df_agg_POS_data_2018Q3_rewards_department.shape)"
   ]
  },
  {
   "cell_type": "code",
   "execution_count": 67,
   "metadata": {},
   "outputs": [
    {
     "data": {
      "text/html": [
       "<div>\n",
       "<style>\n",
       "    .dataframe thead tr:only-child th {\n",
       "        text-align: right;\n",
       "    }\n",
       "\n",
       "    .dataframe thead th {\n",
       "        text-align: left;\n",
       "    }\n",
       "\n",
       "    .dataframe tbody tr th {\n",
       "        vertical-align: top;\n",
       "    }\n",
       "</style>\n",
       "<table border=\"1\" class=\"dataframe\">\n",
       "  <thead>\n",
       "    <tr style=\"text-align: right;\">\n",
       "      <th></th>\n",
       "      <th>customer_id_hashed</th>\n",
       "      <th>division_id</th>\n",
       "      <th>division_desc</th>\n",
       "      <th>sales</th>\n",
       "      <th>units</th>\n",
       "      <th>trans</th>\n",
       "      <th>segment</th>\n",
       "    </tr>\n",
       "  </thead>\n",
       "  <tbody>\n",
       "    <tr>\n",
       "      <th>0</th>\n",
       "      <td>000008374518306e87838f387eedc47d49a447707dc6da...</td>\n",
       "      <td>2</td>\n",
       "      <td>CONSUMABLES</td>\n",
       "      <td>4.88</td>\n",
       "      <td>1</td>\n",
       "      <td>1</td>\n",
       "      <td>T_P_H_2019Q3_RFM</td>\n",
       "    </tr>\n",
       "    <tr>\n",
       "      <th>1</th>\n",
       "      <td>000008374518306e87838f387eedc47d49a447707dc6da...</td>\n",
       "      <td>5</td>\n",
       "      <td>HARDHOME</td>\n",
       "      <td>4.50</td>\n",
       "      <td>1</td>\n",
       "      <td>1</td>\n",
       "      <td>T_P_H_2019Q3_RFM</td>\n",
       "    </tr>\n",
       "  </tbody>\n",
       "</table>\n",
       "</div>"
      ],
      "text/plain": [
       "                                  customer_id_hashed division_id  \\\n",
       "0  000008374518306e87838f387eedc47d49a447707dc6da...           2   \n",
       "1  000008374518306e87838f387eedc47d49a447707dc6da...           5   \n",
       "\n",
       "  division_desc  sales  units  trans           segment  \n",
       "0   CONSUMABLES   4.88      1      1  T_P_H_2019Q3_RFM  \n",
       "1      HARDHOME   4.50      1      1  T_P_H_2019Q3_RFM  "
      ]
     },
     "execution_count": 67,
     "metadata": {},
     "output_type": "execute_result"
    }
   ],
   "source": [
    "df_agg_POS_data_2018Q3_rewards_division.head(2)"
   ]
  },
  {
   "cell_type": "code",
   "execution_count": 30,
   "metadata": {},
   "outputs": [
    {
     "data": {
      "text/plain": [
       "(13619612, 7)"
      ]
     },
     "execution_count": 30,
     "metadata": {},
     "output_type": "execute_result"
    }
   ],
   "source": []
  },
  {
   "cell_type": "code",
   "execution_count": 31,
   "metadata": {},
   "outputs": [
    {
     "data": {
      "text/html": [
       "<div>\n",
       "<style>\n",
       "    .dataframe thead tr:only-child th {\n",
       "        text-align: right;\n",
       "    }\n",
       "\n",
       "    .dataframe thead th {\n",
       "        text-align: left;\n",
       "    }\n",
       "\n",
       "    .dataframe tbody tr th {\n",
       "        vertical-align: top;\n",
       "    }\n",
       "</style>\n",
       "<table border=\"1\" class=\"dataframe\">\n",
       "  <thead>\n",
       "    <tr style=\"text-align: right;\">\n",
       "      <th></th>\n",
       "      <th>customer_id_hashed</th>\n",
       "      <th>department_id</th>\n",
       "      <th>department_desc</th>\n",
       "      <th>sales</th>\n",
       "      <th>units</th>\n",
       "      <th>trans</th>\n",
       "      <th>segment</th>\n",
       "    </tr>\n",
       "  </thead>\n",
       "  <tbody>\n",
       "    <tr>\n",
       "      <th>0</th>\n",
       "      <td>000000ebcf6c6a2f4302291cc9babb0760208fc683b3b5...</td>\n",
       "      <td>170</td>\n",
       "      <td>HOME ORGANIZATION</td>\n",
       "      <td>3.8</td>\n",
       "      <td>1</td>\n",
       "      <td>1</td>\n",
       "      <td>balance</td>\n",
       "    </tr>\n",
       "    <tr>\n",
       "      <th>1</th>\n",
       "      <td>00000435bfb3bf42e3beb4c9b3942c552d09f0e49e5a75...</td>\n",
       "      <td>110</td>\n",
       "      <td>BEVGROCERY</td>\n",
       "      <td>3.0</td>\n",
       "      <td>3</td>\n",
       "      <td>1</td>\n",
       "      <td>T_P_H_2019Q3_RFM</td>\n",
       "    </tr>\n",
       "  </tbody>\n",
       "</table>\n",
       "</div>"
      ],
      "text/plain": [
       "                                  customer_id_hashed department_id  \\\n",
       "0  000000ebcf6c6a2f4302291cc9babb0760208fc683b3b5...           170   \n",
       "1  00000435bfb3bf42e3beb4c9b3942c552d09f0e49e5a75...           110   \n",
       "\n",
       "     department_desc  sales  units  trans           segment  \n",
       "0  HOME ORGANIZATION    3.8      1      1           balance  \n",
       "1         BEVGROCERY    3.0      3      1  T_P_H_2019Q3_RFM  "
      ]
     },
     "execution_count": 31,
     "metadata": {},
     "output_type": "execute_result"
    }
   ],
   "source": [
    "df_agg_POS_data_2019Q3_rewards_department.head(2)"
   ]
  },
  {
   "cell_type": "code",
   "execution_count": 54,
   "metadata": {},
   "outputs": [],
   "source": [
    "df_output_seg_division_19=df_agg_POS_data_2019Q3_rewards_division.groupby([\"segment\",\"division_id\",\"division_desc\"])['sales','units','trans','customer_id_hashed'].agg(agg_function).reset_index()\n",
    "df_output_seg_division_19_long=df_output_seg_division_19.rename(columns={\"customer_id_hashed\":\"shopper_count\"})\n",
    "df_output_seg_division_19_wide=df_output_seg_division_19_long.pivot_table(index=\"segment\",columns=\"division_desc\",values=['sales','units','trans','shopper_count'])\n",
    "df_output_seg_division_19_wide=df_output_seg_division_19_wide.reset_index()\n",
    "\n",
    "new_cols=[]\n",
    "for col in df_output_seg_division_19_wide.columns.tolist():\n",
    "    if col[1]==\"\":\n",
    "        new_cols.append(col[0])\n",
    "    else:\n",
    "        new_cols.append(\"Q3_19_\"+col[0]+\"_\"+col[1])\n",
    "df_output_seg_division_19_wide.columns=new_cols"
   ]
  },
  {
   "cell_type": "code",
   "execution_count": 57,
   "metadata": {},
   "outputs": [],
   "source": [
    "df_output_seg_division_18=df_agg_POS_data_2018Q3_rewards_division.groupby([\"segment\",\"division_id\",\"division_desc\"])['sales','units','trans','customer_id_hashed'].agg(agg_function).reset_index()\n",
    "df_output_seg_division_18_long=df_output_seg_division_18.rename(columns={\"customer_id_hashed\":\"shopper_count\"})\n",
    "df_output_seg_division_18_wide=df_output_seg_division_18_long.pivot_table(index=\"segment\",columns=\"division_desc\",values=['sales','units','trans','shopper_count'])\n",
    "df_output_seg_division_18_wide=df_output_seg_division_18_wide.reset_index()\n",
    "\n",
    "new_cols=[]\n",
    "for col in df_output_seg_division_18_wide.columns.tolist():\n",
    "    if col[1]==\"\":\n",
    "        new_cols.append(col[0])\n",
    "    else:\n",
    "        new_cols.append(\"Q3_18_\"+col[0]+\"_\"+col[1])\n",
    "df_output_seg_division_18_wide.columns=new_cols"
   ]
  },
  {
   "cell_type": "code",
   "execution_count": 60,
   "metadata": {},
   "outputs": [],
   "source": [
    "df_output_seg_department_19_long=df_agg_POS_data_2019Q3_rewards_department.groupby([\"segment\",\"department_id\",\"department_desc\"])['sales','units','trans','customer_id_hashed'].agg(agg_function).reset_index()\n",
    "df_output_seg_department_19_long=df_output_seg_department_19_long.rename(columns={\"customer_id_hashed\":\"shopper_count\"})\n",
    "\n",
    "df_output_seg_department_18_long=df_agg_POS_data_2018Q3_rewards_department.groupby([\"segment\",\"department_id\",\"department_desc\"])['sales','units','trans','customer_id_hashed'].agg(agg_function).reset_index()\n",
    "df_output_seg_department_18_long=df_output_seg_department_18_long.rename(columns={\"customer_id_hashed\":\"shopper_count\"})\n"
   ]
  },
  {
   "cell_type": "code",
   "execution_count": 61,
   "metadata": {},
   "outputs": [
    {
     "data": {
      "text/plain": [
       "(395, 7)"
      ]
     },
     "execution_count": 61,
     "metadata": {},
     "output_type": "execute_result"
    }
   ],
   "source": [
    "df_output_seg_department_19_long.shape"
   ]
  },
  {
   "cell_type": "code",
   "execution_count": 63,
   "metadata": {},
   "outputs": [
    {
     "data": {
      "text/plain": [
       "'\\ndef summarize_pivot_seg_product(df,product_id,product_col_desc,year):\\n    # df = input dateframe\\n    # product = \"division_id\" or \"department_id\"\\n    # product_col_desc = \"division_desc\" or \"department_desc\"\\n    # year = 4-digit interger 2019 or 2018\\n    df=df.groupby([\"segment\",product_id,product_col_desc])[\\'sales\\',\\'units\\',\\'trans\\',\\'customer_id_hashed\\'].sum(agg_function).reset_index()\\n    df=df.rename(columns={\"customer_id_hashed\":\"shopper_count\"})\\n    df=df.pivot_table(index=\"segment\",columns=product_col_desc,values=[\\'sales\\',\\'units\\',\\'trans\\',\\'shopper_count\\'])\\n    df=df.reset_index()\\n    new_cols=[]\\n    for col in df.columns.tolist():\\n        if col[1]==\"\":\\n            new_cols.append(col[0])\\n        else:\\n            new_cols.append(col[0]+\"_\"+col[1])\\n    df.columns=new_cols\\n    \\n\\n    for col in df.columns.tolist():\\n        if col!=\"segment\":\\n            df=df.rename(columns={col:col+str(year)[:2]+\"Q3\"})\\n    return df\\n'"
      ]
     },
     "execution_count": 63,
     "metadata": {},
     "output_type": "execute_result"
    }
   ],
   "source": [
    "'''\n",
    "def summarize_pivot_seg_product(df,product_id,product_col_desc,year):\n",
    "    # df = input dateframe\n",
    "    # product = \"division_id\" or \"department_id\"\n",
    "    # product_col_desc = \"division_desc\" or \"department_desc\"\n",
    "    # year = 4-digit interger 2019 or 2018\n",
    "    df=df.groupby([\"segment\",product_id,product_col_desc])['sales','units','trans','customer_id_hashed'].sum(agg_function).reset_index()\n",
    "    df=df.rename(columns={\"customer_id_hashed\":\"shopper_count\"})\n",
    "    df=df.pivot_table(index=\"segment\",columns=product_col_desc,values=['sales','units','trans','shopper_count'])\n",
    "    df=df.reset_index()\n",
    "    new_cols=[]\n",
    "    for col in df.columns.tolist():\n",
    "        if col[1]==\"\":\n",
    "            new_cols.append(col[0])\n",
    "        else:\n",
    "            new_cols.append(col[0]+\"_\"+col[1])\n",
    "    df.columns=new_cols\n",
    "    \n",
    "\n",
    "    for col in df.columns.tolist():\n",
    "        if col!=\"segment\":\n",
    "            df=df.rename(columns={col:col+str(year)[:2]+\"Q3\"})\n",
    "    return df\n",
    "'''"
   ]
  },
  {
   "cell_type": "code",
   "execution_count": 64,
   "metadata": {
    "collapsed": true
   },
   "outputs": [],
   "source": [
    "df_output_seg_department_19_long=df_output_seg_department_19_long.fillna(0)\n",
    "df_output_seg_department_18_long=df_output_seg_department_18_long.fillna(0)\n",
    "\n",
    "df_output_seg_division_19_long=df_output_seg_division_19_long.fillna(0)\n",
    "df_output_seg_division_18_long=df_output_seg_division_18_long.fillna(0)\n",
    "df_output_seg_division_19_wide=df_output_seg_division_19_wide.fillna(0)\n",
    "df_output_seg_division_18_wide=df_output_seg_division_18_wide.fillna(0)\n"
   ]
  },
  {
   "cell_type": "code",
   "execution_count": 65,
   "metadata": {
    "collapsed": true
   },
   "outputs": [],
   "source": [
    "writer=pd.ExcelWriter(write_folder+\"/BL_output_AOV_analysis_by_segment_9_weeks_JL_\"+str(datetime.datetime.now().date())+\".xlsx\",engine=\"xlsxwriter\")\n",
    "\n",
    "df_output.to_excel(writer,\"overall\",index=False)\n",
    "\n",
    "df_output_seg_division_19_wide.to_excel(writer,\"divison_wide_19\",index=False)\n",
    "df_output_seg_division_18_wide.to_excel(writer,\"divison_wide_18\",index=False)\n",
    "\n",
    "df_output_seg_division_19_long.to_excel(writer,\"divison_long_19\",index=False)\n",
    "df_output_seg_division_18_long.to_excel(writer,\"divison_long_18\",index=False)\n",
    "\n",
    "df_output_seg_department_19_long.to_excel(writer,\"department_long_19\",index=False)\n",
    "df_output_seg_department_18_long.to_excel(writer,\"department_long_18\",index=False)\n",
    "\n",
    "writer.save()"
   ]
  },
  {
   "cell_type": "code",
   "execution_count": null,
   "metadata": {
    "collapsed": true
   },
   "outputs": [],
   "source": []
  }
 ],
 "metadata": {
  "kernelspec": {
   "display_name": "Python 3",
   "language": "python",
   "name": "python3"
  },
  "language_info": {
   "codemirror_mode": {
    "name": "ipython",
    "version": 3
   },
   "file_extension": ".py",
   "mimetype": "text/x-python",
   "name": "python",
   "nbconvert_exporter": "python",
   "pygments_lexer": "ipython3",
   "version": "3.6.1"
  }
 },
 "nbformat": 4,
 "nbformat_minor": 2
}
