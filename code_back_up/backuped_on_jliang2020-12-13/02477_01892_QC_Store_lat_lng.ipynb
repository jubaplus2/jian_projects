{
 "cells": [
  {
   "cell_type": "code",
   "execution_count": 11,
   "metadata": {},
   "outputs": [
    {
     "data": {
      "text/plain": [
       "'/home/jian/Projects/Savers/TA_creation/store_from_client'"
      ]
     },
     "execution_count": 11,
     "metadata": {},
     "output_type": "execute_result"
    }
   ],
   "source": [
    "import pandas as pd\n",
    "import numpy as np\n",
    "from haversine import haversine\n",
    "import datetime\n",
    "import os\n",
    "os.getcwd()"
   ]
  },
  {
   "cell_type": "code",
   "execution_count": 16,
   "metadata": {},
   "outputs": [
    {
     "name": "stdout",
     "output_type": "stream",
     "text": [
      "['US Brand', 'CA Brand']\n"
     ]
    }
   ],
   "source": [
    "client_store=pd.ExcelFile(\"/home/jian/Projects/Savers/TA_creation/store_from_client/Lat-Long - Bressler.xlsx\")\n",
    "print(client_store.sheet_names)\n",
    "\n",
    "US_stores_client=client_store.parse(\"US Brand\",dtype=str)\n",
    "US_stores_client=US_stores_client.rename(columns={\"Store\":\"location_id\"})"
   ]
  },
  {
   "cell_type": "code",
   "execution_count": 17,
   "metadata": {},
   "outputs": [
    {
     "data": {
      "text/html": [
       "<div>\n",
       "<style>\n",
       "    .dataframe thead tr:only-child th {\n",
       "        text-align: right;\n",
       "    }\n",
       "\n",
       "    .dataframe thead th {\n",
       "        text-align: left;\n",
       "    }\n",
       "\n",
       "    .dataframe tbody tr th {\n",
       "        vertical-align: top;\n",
       "    }\n",
       "</style>\n",
       "<table border=\"1\" class=\"dataframe\">\n",
       "  <thead>\n",
       "    <tr style=\"text-align: right;\">\n",
       "      <th></th>\n",
       "      <th>location_id</th>\n",
       "      <th>Name</th>\n",
       "      <th>Lat</th>\n",
       "      <th>Long</th>\n",
       "    </tr>\n",
       "  </thead>\n",
       "  <tbody>\n",
       "    <tr>\n",
       "      <th>0</th>\n",
       "      <td>1003</td>\n",
       "      <td>Burien</td>\n",
       "      <td>47.462201</td>\n",
       "      <td>-122.334936</td>\n",
       "    </tr>\n",
       "    <tr>\n",
       "      <th>1</th>\n",
       "      <td>1004</td>\n",
       "      <td>Lake City</td>\n",
       "      <td>47.720044</td>\n",
       "      <td>-122.294473</td>\n",
       "    </tr>\n",
       "  </tbody>\n",
       "</table>\n",
       "</div>"
      ],
      "text/plain": [
       "  location_id       Name        Lat         Long\n",
       "0        1003     Burien  47.462201  -122.334936\n",
       "1        1004  Lake City  47.720044  -122.294473"
      ]
     },
     "execution_count": 17,
     "metadata": {},
     "output_type": "execute_result"
    }
   ],
   "source": [
    "US_stores_client.head(2)"
   ]
  },
  {
   "cell_type": "code",
   "execution_count": 18,
   "metadata": {},
   "outputs": [
    {
     "data": {
      "text/html": [
       "<div>\n",
       "<style>\n",
       "    .dataframe thead tr:only-child th {\n",
       "        text-align: right;\n",
       "    }\n",
       "\n",
       "    .dataframe thead th {\n",
       "        text-align: left;\n",
       "    }\n",
       "\n",
       "    .dataframe tbody tr th {\n",
       "        vertical-align: top;\n",
       "    }\n",
       "</style>\n",
       "<table border=\"1\" class=\"dataframe\">\n",
       "  <thead>\n",
       "    <tr style=\"text-align: right;\">\n",
       "      <th></th>\n",
       "      <th>location_id</th>\n",
       "      <th>Name/Indicator</th>\n",
       "      <th>Brand</th>\n",
       "      <th>Address</th>\n",
       "      <th>City</th>\n",
       "      <th>St/Province</th>\n",
       "      <th>Zip/Postal</th>\n",
       "      <th>Country</th>\n",
       "      <th>Company</th>\n",
       "      <th>Phone</th>\n",
       "      <th>...</th>\n",
       "      <th>Regional Director</th>\n",
       "      <th>Region</th>\n",
       "      <th>Time</th>\n",
       "      <th>Type</th>\n",
       "      <th>Cluster</th>\n",
       "      <th>Search_Key_Brand</th>\n",
       "      <th>Google_Address</th>\n",
       "      <th>Google_lat</th>\n",
       "      <th>Google_lng</th>\n",
       "      <th>store_zip</th>\n",
       "    </tr>\n",
       "  </thead>\n",
       "  <tbody>\n",
       "    <tr>\n",
       "      <th>0</th>\n",
       "      <td>1003</td>\n",
       "      <td>Burien</td>\n",
       "      <td>Value Village</td>\n",
       "      <td>131 SW 157th St</td>\n",
       "      <td>Burien</td>\n",
       "      <td>WA</td>\n",
       "      <td>98166</td>\n",
       "      <td>US</td>\n",
       "      <td>TVI</td>\n",
       "      <td>206-246-6237</td>\n",
       "      <td>...</td>\n",
       "      <td>Tina Lang</td>\n",
       "      <td>Western US</td>\n",
       "      <td>Pacific</td>\n",
       "      <td>Retail</td>\n",
       "      <td>3</td>\n",
       "      <td>Value Village, 131 SW 157th St, Burien, WA, 98166</td>\n",
       "      <td>131 SW 157th St, Burien, WA 98166, USA</td>\n",
       "      <td>47.4618219</td>\n",
       "      <td>-122.3354587</td>\n",
       "      <td>98166</td>\n",
       "    </tr>\n",
       "    <tr>\n",
       "      <th>1</th>\n",
       "      <td>1004</td>\n",
       "      <td>Lake City</td>\n",
       "      <td>Value Village</td>\n",
       "      <td>12548 Lake City Way NE</td>\n",
       "      <td>Seattle</td>\n",
       "      <td>WA</td>\n",
       "      <td>98125</td>\n",
       "      <td>US</td>\n",
       "      <td>TVI</td>\n",
       "      <td>(206) 365-8232</td>\n",
       "      <td>...</td>\n",
       "      <td>Tina Lang</td>\n",
       "      <td>Western US</td>\n",
       "      <td>Pacific</td>\n",
       "      <td>Retail</td>\n",
       "      <td>3</td>\n",
       "      <td>Value Village, 12548 Lake City Way NE, Seattle...</td>\n",
       "      <td>12548 Lake City Way NE, Seattle, WA 98125, USA</td>\n",
       "      <td>47.7205966</td>\n",
       "      <td>-122.2937321</td>\n",
       "      <td>98125</td>\n",
       "    </tr>\n",
       "  </tbody>\n",
       "</table>\n",
       "<p>2 rows × 23 columns</p>\n",
       "</div>"
      ],
      "text/plain": [
       "  location_id Name/Indicator          Brand                 Address     City  \\\n",
       "0        1003         Burien  Value Village         131 SW 157th St   Burien   \n",
       "1        1004      Lake City  Value Village  12548 Lake City Way NE  Seattle   \n",
       "\n",
       "  St/Province Zip/Postal Country Company           Phone    ...     \\\n",
       "0          WA      98166      US     TVI    206-246-6237    ...      \n",
       "1          WA      98125      US     TVI  (206) 365-8232    ...      \n",
       "\n",
       "  Regional Director      Region     Time    Type Cluster  \\\n",
       "0         Tina Lang  Western US  Pacific  Retail       3   \n",
       "1         Tina Lang  Western US  Pacific  Retail       3   \n",
       "\n",
       "                                    Search_Key_Brand  \\\n",
       "0  Value Village, 131 SW 157th St, Burien, WA, 98166   \n",
       "1  Value Village, 12548 Lake City Way NE, Seattle...   \n",
       "\n",
       "                                   Google_Address  Google_lat    Google_lng  \\\n",
       "0          131 SW 157th St, Burien, WA 98166, USA  47.4618219  -122.3354587   \n",
       "1  12548 Lake City Way NE, Seattle, WA 98125, USA  47.7205966  -122.2937321   \n",
       "\n",
       "  store_zip  \n",
       "0     98166  \n",
       "1     98125  \n",
       "\n",
       "[2 rows x 23 columns]"
      ]
     },
     "execution_count": 18,
     "metadata": {},
     "output_type": "execute_result"
    }
   ],
   "source": [
    "Google_stores=pd.read_csv(\"/home/jian/Projects/Savers/TA_creation/store_data/Savers_QCed_Address_For_US_stores_Google_JL_2019-03-08.csv\",dtype=str)\n",
    "Google_stores.head(2)"
   ]
  },
  {
   "cell_type": "code",
   "execution_count": 22,
   "metadata": {},
   "outputs": [],
   "source": [
    "QC_df=pd.merge(Google_stores,US_stores_client,on=\"location_id\",how=\"outer\")\n",
    "QC_df['Google_lat']=QC_df['Google_lat'].astype(float)\n",
    "QC_df['Google_lng']=QC_df['Google_lng'].astype(float)\n",
    "QC_df['Lat']=QC_df['Lat'].astype(float)\n",
    "QC_df['Long']=QC_df['Long'].astype(float)"
   ]
  },
  {
   "cell_type": "code",
   "execution_count": 23,
   "metadata": {},
   "outputs": [
    {
     "name": "stderr",
     "output_type": "stream",
     "text": [
      "/usr/local/lib/python3.6/site-packages/ipykernel_launcher.py:9: SettingWithCopyWarning: \n",
      "A value is trying to be set on a copy of a slice from a DataFrame\n",
      "\n",
      "See the caveats in the documentation: http://pandas.pydata.org/pandas-docs/stable/indexing.html#indexing-view-versus-copy\n",
      "  if __name__ == '__main__':\n"
     ]
    }
   ],
   "source": [
    "QC_df=QC_df.reset_index()\n",
    "del QC_df['index']\n",
    "QC_df['dist_meters']=np.nan\n",
    "for i in range(len(QC_df)):\n",
    "    google_coor=[QC_df['Google_lat'][i],QC_df['Google_lng'][i]]\n",
    "    client_coor=[QC_df['Lat'][i],QC_df['Long'][i]]\n",
    "    \n",
    "    dist=haversine(google_coor,client_coor)*1000\n",
    "    QC_df['dist_meters'][i]=dist"
   ]
  },
  {
   "cell_type": "code",
   "execution_count": 25,
   "metadata": {},
   "outputs": [],
   "source": [
    "QC_df.to_csv(\"/home/jian/Projects/Savers/TA_creation/store_data/QC_with_client_lat_lng.csv\",index=False)"
   ]
  },
  {
   "cell_type": "code",
   "execution_count": 26,
   "metadata": {},
   "outputs": [
    {
     "data": {
      "text/plain": [
       "12.475870915602695"
      ]
     },
     "execution_count": 26,
     "metadata": {},
     "output_type": "execute_result"
    }
   ],
   "source": [
    "haversine([47.6689388,-117.4220484],[47.6689375,-117.422215])*1000"
   ]
  },
  {
   "cell_type": "code",
   "execution_count": 27,
   "metadata": {},
   "outputs": [
    {
     "data": {
      "text/plain": [
       "1093.378449968061"
      ]
     },
     "execution_count": 27,
     "metadata": {},
     "output_type": "execute_result"
    }
   ],
   "source": [
    "haversine([47.66248,-117.433226],[47.6689375,-117.422215])*1000"
   ]
  },
  {
   "cell_type": "code",
   "execution_count": null,
   "metadata": {
    "collapsed": true
   },
   "outputs": [],
   "source": []
  }
 ],
 "metadata": {
  "kernelspec": {
   "display_name": "Python 3",
   "language": "python",
   "name": "python3"
  },
  "language_info": {
   "codemirror_mode": {
    "name": "ipython",
    "version": 3
   },
   "file_extension": ".py",
   "mimetype": "text/x-python",
   "name": "python",
   "nbconvert_exporter": "python",
   "pygments_lexer": "ipython3",
   "version": "3.6.1"
  }
 },
 "nbformat": 4,
 "nbformat_minor": 2
}
