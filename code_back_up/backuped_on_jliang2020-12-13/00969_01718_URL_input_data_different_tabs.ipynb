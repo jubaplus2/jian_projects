{
 "cells": [
  {
   "cell_type": "code",
   "execution_count": 1,
   "metadata": {},
   "outputs": [
    {
     "data": {
      "text/plain": [
       "'/home/jian/Projects/Saatva/MMM/URL_models/input'"
      ]
     },
     "execution_count": 1,
     "metadata": {},
     "output_type": "execute_result"
    }
   ],
   "source": [
    "import pandas as pd\n",
    "import numpy as np\n",
    "import datetime\n",
    "import os\n",
    "\n",
    "os.getcwd()"
   ]
  },
  {
   "cell_type": "code",
   "execution_count": 2,
   "metadata": {},
   "outputs": [
    {
     "name": "stderr",
     "output_type": "stream",
     "text": [
      "/usr/local/lib/python3.6/site-packages/ipykernel_launcher.py:3: SettingWithCopyWarning: \n",
      "A value is trying to be set on a copy of a slice from a DataFrame.\n",
      "Try using .loc[row_indexer,col_indexer] = value instead\n",
      "\n",
      "See the caveats in the documentation: http://pandas.pydata.org/pandas-docs/stable/indexing.html#indexing-view-versus-copy\n",
      "  This is separate from the ipykernel package so we can avoid doing imports until\n",
      "/usr/local/lib/python3.6/site-packages/ipykernel_launcher.py:5: SettingWithCopyWarning: \n",
      "A value is trying to be set on a copy of a slice from a DataFrame.\n",
      "Try using .loc[row_indexer,col_indexer] = value instead\n",
      "\n",
      "See the caveats in the documentation: http://pandas.pydata.org/pandas-docs/stable/indexing.html#indexing-view-versus-copy\n",
      "  \"\"\"\n",
      "/usr/local/lib/python3.6/site-packages/ipykernel_launcher.py:7: SettingWithCopyWarning: \n",
      "A value is trying to be set on a copy of a slice from a DataFrame.\n",
      "Try using .loc[row_indexer,col_indexer] = value instead\n",
      "\n",
      "See the caveats in the documentation: http://pandas.pydata.org/pandas-docs/stable/indexing.html#indexing-view-versus-copy\n",
      "  import sys\n"
     ]
    },
    {
     "data": {
      "text/plain": [
       "(365, 3)"
      ]
     },
     "execution_count": 2,
     "metadata": {},
     "output_type": "execute_result"
    }
   ],
   "source": [
    "sales_data=pd.read_csv('/home/jian/Projects/Saatva/MMM/Input/sales_data.csv',dtype=str)\n",
    "sales_data_saatva=sales_data[sales_data['brand']=='saatva']\n",
    "sales_data_saatva['sales']=sales_data_saatva['sales'].astype(float).round(2)\n",
    "\n",
    "sales_data_saatva['date']=sales_data_saatva['date_time'].apply(lambda x: datetime.datetime.strptime(x.split(\" \")[0],\"%Y-%m-%d\").date())\n",
    "sales_data_2018_Saatva=sales_data_saatva[sales_data_saatva['date'].apply(lambda x: x.year==2018)]\n",
    "sales_data_2018_Saatva['date']=sales_data_2018_Saatva['date'].astype(str)\n",
    "sales_data_2018_Saatva_sales=sales_data_2018_Saatva.groupby(['date'])['sales'].sum().to_frame().reset_index().rename(columns={\"sales\":\"sales_net\"})\n",
    "sales_data_2018_Saatva_trans=sales_data_2018_Saatva.groupby(['date'])['sales'].count().to_frame().reset_index().rename(columns={\"sales\":\"trans_net\"})\n",
    "sales_data_2018_Saatva=pd.merge(sales_data_2018_Saatva_sales,sales_data_2018_Saatva_trans,on=\"date\")\n",
    "sales_data_2018_Saatva.shape"
   ]
  },
  {
   "cell_type": "code",
   "execution_count": 3,
   "metadata": {},
   "outputs": [
    {
     "data": {
      "text/plain": [
       "['Home Page', 'Blogs', 'Other', '404 Pages']"
      ]
     },
     "execution_count": 3,
     "metadata": {},
     "output_type": "execute_result"
    }
   ],
   "source": [
    "SM_input_excel=pd.ExcelFile(\"/home/jian/Projects/Saatva/MMM/URL_models/input/sm_all_urls_0417.xlsx\")\n",
    "SM_input_excel.sheet_names"
   ]
  },
  {
   "cell_type": "code",
   "execution_count": 4,
   "metadata": {},
   "outputs": [
    {
     "data": {
      "text/html": [
       "<div>\n",
       "<style>\n",
       "    .dataframe thead tr:only-child th {\n",
       "        text-align: right;\n",
       "    }\n",
       "\n",
       "    .dataframe thead th {\n",
       "        text-align: left;\n",
       "    }\n",
       "\n",
       "    .dataframe tbody tr th {\n",
       "        vertical-align: top;\n",
       "    }\n",
       "</style>\n",
       "<table border=\"1\" class=\"dataframe\">\n",
       "  <thead>\n",
       "    <tr style=\"text-align: right;\">\n",
       "      <th></th>\n",
       "      <th>date</th>\n",
       "      <th>sales_net</th>\n",
       "      <th>trans_net</th>\n",
       "    </tr>\n",
       "  </thead>\n",
       "  <tbody>\n",
       "    <tr>\n",
       "      <th>0</th>\n",
       "      <td>2018-01-01</td>\n",
       "      <td>330007.80</td>\n",
       "      <td>232</td>\n",
       "    </tr>\n",
       "    <tr>\n",
       "      <th>1</th>\n",
       "      <td>2018-01-02</td>\n",
       "      <td>316132.57</td>\n",
       "      <td>227</td>\n",
       "    </tr>\n",
       "  </tbody>\n",
       "</table>\n",
       "</div>"
      ],
      "text/plain": [
       "         date  sales_net  trans_net\n",
       "0  2018-01-01  330007.80        232\n",
       "1  2018-01-02  316132.57        227"
      ]
     },
     "execution_count": 4,
     "metadata": {},
     "output_type": "execute_result"
    }
   ],
   "source": [
    "sales_data_2018_Saatva.head(2)"
   ]
  },
  {
   "cell_type": "code",
   "execution_count": null,
   "metadata": {},
   "outputs": [],
   "source": []
  },
  {
   "cell_type": "code",
   "execution_count": 6,
   "metadata": {
    "collapsed": true
   },
   "outputs": [],
   "source": [
    "agg_SM_data=pd.DataFrame()\n",
    "append_trans_df_list=[]\n",
    "\n",
    "writer=pd.ExcelWriter(\"/home/jian/Projects/Saatva/MMM/URL_models/input/URL_SM_input_tabs_data_JL_\"+str(datetime.datetime.now().date())+\".xlsx\",engine=\"xlsxwriter\")\n",
    "for sheet in SM_input_excel.sheet_names:\n",
    "    \n",
    "    df=SM_input_excel.parse(sheet)\n",
    "    df_date=df.rename(columns={\"Date\":\"date\"})\n",
    "    locals()['df_'+sheet.replace(\" \",\"\")]=pd.merge(sales_data_2018_Saatva,df_date,on='date')\n",
    "    locals()['df_'+sheet.replace(\" \",\"\")].to_excel(writer,sheet,index=False)\n",
    "    locals()['df_'+sheet.replace(\" \",\"\")].describe().T.to_excel(writer,\"Stat_\"+sheet.replace(\" \",\"\"),index=True)\n",
    "    \n",
    "    \n",
    "    for col in df.columns.tolist():\n",
    "        if col not in [\"Date\",'Users','Sessions','ga:goal11Completions','Time on Page','Transactions']:\n",
    "            df=df.rename(columns={col:sheet.replace(\" \",\"\")+\"|\"+col})\n",
    "    if len(agg_SM_data)==0:\n",
    "        agg_SM_data=df\n",
    "    else:\n",
    "        agg_SM_data=pd.merge(agg_SM_data,df,on=[\"Date\",'Users','Sessions','ga:goal11Completions','Time on Page','Transactions'])\n",
    "agg_SM_data=agg_SM_data.rename(columns={\"Date\":\"date\"})\n",
    "\n",
    "    \n",
    "writer.save()   "
   ]
  },
  {
   "cell_type": "code",
   "execution_count": 7,
   "metadata": {
    "collapsed": true
   },
   "outputs": [],
   "source": [
    "agg_SM_data=pd.merge(sales_data_2018_Saatva,agg_SM_data,on=\"date\")\n"
   ]
  },
  {
   "cell_type": "code",
   "execution_count": 8,
   "metadata": {
    "collapsed": true
   },
   "outputs": [],
   "source": [
    "agg_SM_data.to_csv(\"/home/jian/Projects/Saatva/MMM/URL_models/input/URL_SM_input_data_JL_\"+str(datetime.datetime.now().date())+\".csv\",index=False)"
   ]
  },
  {
   "cell_type": "code",
   "execution_count": null,
   "metadata": {
    "collapsed": true
   },
   "outputs": [],
   "source": []
  },
  {
   "cell_type": "code",
   "execution_count": null,
   "metadata": {
    "collapsed": true
   },
   "outputs": [],
   "source": []
  }
 ],
 "metadata": {
  "kernelspec": {
   "display_name": "Python 3",
   "language": "python",
   "name": "python3"
  },
  "language_info": {
   "codemirror_mode": {
    "name": "ipython",
    "version": 3
   },
   "file_extension": ".py",
   "mimetype": "text/x-python",
   "name": "python",
   "nbconvert_exporter": "python",
   "pygments_lexer": "ipython3",
   "version": "3.6.1"
  }
 },
 "nbformat": 4,
 "nbformat_minor": 2
}
