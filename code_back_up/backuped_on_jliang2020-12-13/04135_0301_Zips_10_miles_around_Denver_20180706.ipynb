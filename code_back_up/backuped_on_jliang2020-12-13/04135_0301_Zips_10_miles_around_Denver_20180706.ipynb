{
 "cells": [
  {
   "cell_type": "code",
   "execution_count": 25,
   "metadata": {
    "collapsed": true
   },
   "outputs": [],
   "source": [
    "import pandas as pd\n",
    "import json\n",
    "from haversine import haversine\n",
    "import datetime\n",
    "today_str=str(datetime.datetime.now().date())"
   ]
  },
  {
   "cell_type": "code",
   "execution_count": 26,
   "metadata": {
    "collapsed": true
   },
   "outputs": [],
   "source": [
    "zip_centers=json.load(open(\"/home/jian/Docs/Geo_mapping/center_of_rentrak_zip.json\",\"r\"))"
   ]
  },
  {
   "cell_type": "code",
   "execution_count": 27,
   "metadata": {
    "collapsed": true
   },
   "outputs": [],
   "source": [
    "demo_df=pd.read_csv(\"/home/jian/Docs/Household_and_Population/2016/Demo_Dataset.csv\",dtype=str)\n",
    "demo_df=demo_df[['ZIP_CODE','HH15','Estimate; Female: - 25 to 29 years','Estimate; Female: - 30 to 34 years',\n",
    "                 'Estimate; Female: - 35 to 39 years','Estimate; Female: - 40 to 44 years',\n",
    "                 'Estimate; Female: - 45 to 49 years','Estimate; Female: - 50 to 54 years']]\n",
    "for col in demo_df.columns.tolist()[1:]:\n",
    "    demo_df[col]=demo_df[col].astype(float)\n",
    "demo_df['Female_25_54']=demo_df[['Estimate; Female: - 25 to 29 years','Estimate; Female: - 30 to 34 years',\n",
    "                 'Estimate; Female: - 35 to 39 years','Estimate; Female: - 40 to 44 years',\n",
    "                 'Estimate; Female: - 45 to 49 years','Estimate; Female: - 50 to 54 years']].sum(axis=1)\n",
    "demo_df=demo_df[['ZIP_CODE','HH15','Female_25_54']].rename(columns={\"ZIP_CODE\":\"zip_cd\",\"HH15\":\"Households\"})\n",
    "demo_df['zip_cd']=demo_df['zip_cd'].apply(lambda x:x.zfill(5))"
   ]
  },
  {
   "cell_type": "code",
   "execution_count": 28,
   "metadata": {},
   "outputs": [
    {
     "data": {
      "text/plain": [
       "'01002'"
      ]
     },
     "execution_count": 28,
     "metadata": {},
     "output_type": "execute_result"
    }
   ],
   "source": [
    "demo_df['zip_cd'][2]"
   ]
  },
  {
   "cell_type": "code",
   "execution_count": 29,
   "metadata": {
    "collapsed": true
   },
   "outputs": [],
   "source": [
    "def finding_10_miles_zips(store_center,location_id,zip_for_store):\n",
    "    result=pd.DataFrame()\n",
    "    i=0\n",
    "    for zip_5 in zip_centers.keys():    \n",
    "        dist=haversine(store_center,zip_centers[zip_5],miles=True)\n",
    "        if dist<=10:        \n",
    "            df=pd.DataFrame({\"zip_cd\":zip_5,\"Center_Lat\":zip_centers[zip_5][0],\"Center_Long\":zip_centers[zip_5][1],\"Distance_Mile\":dist},index=[i])\n",
    "            i=i+1\n",
    "            result=result.append(df)\n",
    "    result['Store_id']=store_location_id\n",
    "    result['Store_zip']=zip_for_store\n",
    "    result=result[['Store_id','Store_zip','zip_cd','Center_Lat','Center_Long','Distance_Mile']]\n",
    "    result=pd.merge(result,demo_df,on=\"zip_cd\",how=\"left\")\n",
    "    return result"
   ]
  },
  {
   "cell_type": "code",
   "execution_count": 30,
   "metadata": {
    "collapsed": true
   },
   "outputs": [],
   "source": [
    "writer=pd.ExcelWriter(\"/home/jian/Projects/Big_Lots/New_TA/Zips_within_10_miles/BL_Zips_in_10_miles_\"+today_str+\"_Denver_12_stores.xlsx\",engine=\"xlsxwriter\")"
   ]
  },
  {
   "cell_type": "code",
   "execution_count": 31,
   "metadata": {},
   "outputs": [],
   "source": [
    "store_list=pd.read_table(\"/home/jian/BigLots/static_files/MediaStormStores_20180703.txt\",dtype=str,sep=\"|\")\n",
    "store_list['location_id']=store_list['location_id'].astype(int)\n",
    "store_list['longitude_meas']=store_list['longitude_meas'].astype(float)\n",
    "store_list['latitude_meas']=store_list['latitude_meas'].astype(float)\n",
    "store_list['zip_cd']=store_list['zip_cd'].apply(lambda x: x.split(\"-\")[0].zfill(5))\n",
    "store_list=store_list[['location_id','zip_cd','latitude_meas','longitude_meas']]"
   ]
  },
  {
   "cell_type": "code",
   "execution_count": 32,
   "metadata": {},
   "outputs": [],
   "source": [
    "Denver_Target_Store_List=[1914, 1920, 4117, 4133, 4513, 4586, 4121, 4341, 4486, 4490, 4517, 4572]\n",
    "Devnver_Store_Df=store_list[store_list['location_id'].isin(Denver_Target_Store_List)].reset_index()\n",
    "del Devnver_Store_Df['index']"
   ]
  },
  {
   "cell_type": "code",
   "execution_count": 33,
   "metadata": {},
   "outputs": [],
   "source": [
    "'''\n",
    "df_store_zips=pd.DataFrame()\n",
    "for i in range(len(Devnver_Store_Df)):\n",
    "    store_center=(Devnver_Store_Df['latitude_meas'][i],Devnver_Store_Df['longitude_meas'][i])\n",
    "    zip_for_store=Devnver_Store_Df['zip_cd'][i]\n",
    "    store_location_id=Devnver_Store_Df['location_id'][i]\n",
    "    df=finding_10_miles_zips(store_center,store_location_id,zip_for_store)\n",
    "    df_store_zips=df_store_zips.append(df)\n",
    "df_store_zips['DMA']='Denver, CO'\n",
    "df_target_zips_unique=df_store_zips[['zip_cd','DMA']].drop_duplicates()\n",
    "df_target_zips_unique.to_excel(writer,\"target_zips_unique\",index=False)\n",
    "df_store_zips.to_excel(writer,\"12_store_zips\",index=False)\n",
    "writer.save()\n",
    "'''"
   ]
  },
  {
   "cell_type": "code",
   "execution_count": null,
   "metadata": {
    "collapsed": true
   },
   "outputs": [],
   "source": []
  },
  {
   "cell_type": "code",
   "execution_count": null,
   "metadata": {
    "collapsed": true
   },
   "outputs": [],
   "source": []
  },
  {
   "cell_type": "code",
   "execution_count": 64,
   "metadata": {},
   "outputs": [],
   "source": [
    "store_level_TA_zips=pd.read_csv(\"/home/jian/Projects/Big_Lots/New_TA/zips_in_new_ta/sales_by_zip (Store level).csv\",dtype=str)\n",
    "store_level_TA_zips['location_id']=store_level_TA_zips['location_id'].astype(int)\n",
    "store_level_TA_zips_Devner_12_Stores=store_level_TA_zips[store_level_TA_zips['location_id'].isin(Denver_Target_Store_List)]\n",
    "store_level_TA_zips_Devner_12_Stores=store_level_TA_zips_Devner_12_Stores[['location_id','zip','revenue_flag']]\n",
    "P_store_level_TA_zips_Devner_12_Stores=store_level_TA_zips_Devner_12_Stores[store_level_TA_zips_Devner_12_Stores['revenue_flag']==\"P\"]\n",
    "S_store_level_TA_zips_Devner_12_Stores=store_level_TA_zips_Devner_12_Stores[store_level_TA_zips_Devner_12_Stores['revenue_flag']==\"S\"]\n",
    "S_store_level_TA_zips_Devner_12_Stores=S_store_level_TA_zips_Devner_12_Stores[S_store_level_TA_zips_Devner_12_Stores['zip'].apply(lambda x:x[0])=='8']\n",
    "\n"
   ]
  },
  {
   "cell_type": "code",
   "execution_count": 65,
   "metadata": {},
   "outputs": [],
   "source": [
    "P_store_level_TA_zips_Devner_12_Stores.head(2)\n",
    "unique_P_zips=P_store_level_TA_zips_Devner_12_Stores['zip'].unique().tolist()\n",
    "unique_S_zips=[x for x in S_store_level_TA_zips_Devner_12_Stores['zip'].unique().tolist() if x not in unique_P_zips]\n",
    "unique_P_df=pd.DataFrame({\"zip_cd\":unique_P_zips,\"revenue_flag\":\"P\"},index=range(len(unique_P_zips)))\n",
    "unique_S_df=pd.DataFrame({\"zip_cd\":unique_S_zips,\"revenue_flag\":\"S\"},index=range(len(unique_S_zips)))\n"
   ]
  },
  {
   "cell_type": "code",
   "execution_count": 66,
   "metadata": {},
   "outputs": [],
   "source": [
    "writer=pd.ExcelWriter(\"/home/jian/Projects/Big_Lots/New_TA/Zips_within_10_miles/BL_Zips_in_P_S_store_level_\"+today_str+\"_Denver_12_stores.xlsx\",engine=\"xlsxwriter\")\n",
    "unique_P_df.to_excel(writer,'unique_P_list',index=False)\n",
    "unique_S_df.to_excel(writer,'unique_S_list',index=False)\n",
    "P_store_level_TA_zips_Devner_12_Stores.to_excel(writer,\"P_zips_by_store\",index=False)\n",
    "S_store_level_TA_zips_Devner_12_Stores.to_excel(writer,\"S_zips_by_store\",index=False)\n",
    "writer.save()"
   ]
  },
  {
   "cell_type": "code",
   "execution_count": null,
   "metadata": {
    "collapsed": true
   },
   "outputs": [],
   "source": []
  }
 ],
 "metadata": {
  "kernelspec": {
   "display_name": "Python 3",
   "language": "python",
   "name": "python3"
  },
  "language_info": {
   "codemirror_mode": {
    "name": "ipython",
    "version": 3
   },
   "file_extension": ".py",
   "mimetype": "text/x-python",
   "name": "python",
   "nbconvert_exporter": "python",
   "pygments_lexer": "ipython3",
   "version": "3.6.1"
  }
 },
 "nbformat": 4,
 "nbformat_minor": 2
}
