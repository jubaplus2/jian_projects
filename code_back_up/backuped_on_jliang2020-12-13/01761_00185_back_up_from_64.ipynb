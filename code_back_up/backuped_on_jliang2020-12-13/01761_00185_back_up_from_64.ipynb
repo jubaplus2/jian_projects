{
 "cells": [
  {
   "cell_type": "code",
   "execution_count": 1,
   "metadata": {},
   "outputs": [
    {
     "data": {
      "text/plain": [
       "'/home/jian/BigLots/back_dcm_lr_returned_earlier'"
      ]
     },
     "execution_count": 1,
     "metadata": {},
     "output_type": "execute_result"
    }
   ],
   "source": [
    "# impr, click, act for BigLots before 20191101\n",
    "import paramiko\n",
    "import os\n",
    "import datetime\n",
    "os.getcwd()"
   ]
  },
  {
   "cell_type": "code",
   "execution_count": 2,
   "metadata": {},
   "outputs": [
    {
     "name": "stdout",
     "output_type": "stream",
     "text": [
      "dir created 2020-03-16 16:22:35.575916 /home/jian/BigLots/back_dcm_lr_returned_earlier/impressions/\n",
      "dir created 2020-03-16 16:22:35.591813 /home/jian/BigLots/back_dcm_lr_returned_earlier/clicks/\n",
      "dir created 2020-03-16 16:22:35.636099 /home/jian/BigLots/back_dcm_lr_returned_earlier/activities/\n"
     ]
    }
   ],
   "source": [
    "local_folder_impr='/home/jian/BigLots/back_dcm_lr_returned_earlier/impressions/'\n",
    "local_folder_click='/home/jian/BigLots/back_dcm_lr_returned_earlier/clicks/'\n",
    "local_folder_act='/home/jian/BigLots/back_dcm_lr_returned_earlier/activities/'\n",
    "\n",
    "try:\n",
    "    os.stat(local_folder_impr)\n",
    "except:\n",
    "    os.mkdir(local_folder_impr)\n",
    "    print(\"dir created\", datetime.datetime.now(),local_folder_impr)\n",
    "try:\n",
    "    os.stat(local_folder_click)\n",
    "except:\n",
    "    os.mkdir(local_folder_click)\n",
    "    print(\"dir created\", datetime.datetime.now(),local_folder_click)\n",
    "    \n",
    "try:\n",
    "    os.stat(local_folder_act)\n",
    "except:\n",
    "    os.mkdir(local_folder_act)\n",
    "    print(\"dir created\", datetime.datetime.now(),local_folder_act)\n",
    "        "
   ]
  },
  {
   "cell_type": "code",
   "execution_count": 5,
   "metadata": {},
   "outputs": [],
   "source": [
    "host = \"64.237.51.251\" #hard-coded\n",
    "port = 22\n",
    "transport = paramiko.Transport((host, port))\n",
    "\n",
    "password = \"jian@juba2017\" #hard-coded\n",
    "username = \"jian\" #hard-coded\n",
    "transport.connect(username = username, password = password)\n",
    "sftp = paramiko.SFTPClient.from_transport(transport)"
   ]
  },
  {
   "cell_type": "code",
   "execution_count": 6,
   "metadata": {},
   "outputs": [],
   "source": [
    "lr_returned_path_impressions=\"/mnt/drv5/lr_biglots_data/download_logs/impressions/\"\n",
    "lr_returned_path_clicks=\"/mnt/drv5/lr_biglots_data/download_logs/clicks/\"\n",
    "lr_returned_path_activities=\"/mnt/drv5/lr_biglots_data/download_logs/activities/\""
   ]
  },
  {
   "cell_type": "code",
   "execution_count": 9,
   "metadata": {},
   "outputs": [
    {
     "name": "stdout",
     "output_type": "stream",
     "text": [
      "11280\n"
     ]
    }
   ],
   "source": [
    "# impr\n",
    "list_impr_before_20191101=sftp.listdir(lr_returned_path_impressions)\n",
    "\n",
    "list_impr_before_20191101=[x for x in list_impr_before_20191101 if os.path.basename(x).split(\"CL_BigLots_dcm_account7252_impression_\")[1][:8]<\"20191101\"]\n",
    "print(len(list_impr_before_20191101))\n"
   ]
  },
  {
   "cell_type": "code",
   "execution_count": 11,
   "metadata": {},
   "outputs": [
    {
     "name": "stdout",
     "output_type": "stream",
     "text": [
      "Start 0 2020-03-16 16:30:01.781967\n",
      "Done 11280 2020-03-16 17:59:31.609859\n"
     ]
    }
   ],
   "source": [
    "i=0\n",
    "print(\"Start\",i,datetime.datetime.now())\n",
    "for impr_basename in list_impr_before_20191101:\n",
    "    remote_path=lr_returned_path_impressions+impr_basename\n",
    "    local_path=local_folder_impr+impr_basename\n",
    "    sftp.get(remote_path,local_path)\n",
    "    i+=1\n",
    "print(\"Done\",i,datetime.datetime.now())"
   ]
  },
  {
   "cell_type": "code",
   "execution_count": 13,
   "metadata": {},
   "outputs": [
    {
     "name": "stdout",
     "output_type": "stream",
     "text": [
      "11163\n"
     ]
    }
   ],
   "source": [
    "# click\n",
    "list_click_before_20191101=sftp.listdir(lr_returned_path_clicks)\n",
    "\n",
    "list_click_before_20191101=[x for x in list_click_before_20191101 if os.path.basename(x).split(\"CL_BigLots_dcm_account7252_click_\")[1][:8]<\"20191101\"]\n",
    "print(len(list_click_before_20191101))\n"
   ]
  },
  {
   "cell_type": "code",
   "execution_count": 14,
   "metadata": {},
   "outputs": [
    {
     "name": "stdout",
     "output_type": "stream",
     "text": [
      "Start 0 2020-03-16 18:04:07.735422\n",
      "Done 11163 2020-03-16 18:14:33.754444\n"
     ]
    }
   ],
   "source": [
    "i=0\n",
    "print(\"Start\",i,datetime.datetime.now())\n",
    "for click_basename in list_click_before_20191101:\n",
    "    remote_path=lr_returned_path_clicks+click_basename\n",
    "    local_path=local_folder_click+click_basename\n",
    "    sftp.get(remote_path,local_path)\n",
    "    i+=1\n",
    "print(\"Done\",i,datetime.datetime.now())"
   ]
  },
  {
   "cell_type": "code",
   "execution_count": 15,
   "metadata": {},
   "outputs": [
    {
     "name": "stdout",
     "output_type": "stream",
     "text": [
      "662\n"
     ]
    }
   ],
   "source": [
    "# activity\n",
    "list_act_before_20191101=sftp.listdir(lr_returned_path_activities)\n",
    "\n",
    "list_act_before_20191101=[x for x in list_act_before_20191101 if os.path.basename(x).split(\"CL_BigLots_dcm_account7252_activity_\")[1][:8]<\"20191101\"]\n",
    "print(len(list_act_before_20191101))"
   ]
  },
  {
   "cell_type": "code",
   "execution_count": 16,
   "metadata": {},
   "outputs": [
    {
     "name": "stdout",
     "output_type": "stream",
     "text": [
      "Start 0 2020-03-16 18:14:33.954752\n",
      "Done 662 2020-03-16 19:32:10.076082\n"
     ]
    }
   ],
   "source": [
    "i=0\n",
    "print(\"Start\",i,datetime.datetime.now())\n",
    "for act_basename in list_act_before_20191101:\n",
    "    remote_path=lr_returned_path_activities+act_basename\n",
    "    local_path=local_folder_act+act_basename\n",
    "    sftp.get(remote_path,local_path)\n",
    "    i+=1\n",
    "print(\"Done\",i,datetime.datetime.now())"
   ]
  },
  {
   "cell_type": "code",
   "execution_count": null,
   "metadata": {},
   "outputs": [],
   "source": []
  }
 ],
 "metadata": {
  "kernelspec": {
   "display_name": "Python 3",
   "language": "python",
   "name": "python3"
  },
  "language_info": {
   "codemirror_mode": {
    "name": "ipython",
    "version": 3
   },
   "file_extension": ".py",
   "mimetype": "text/x-python",
   "name": "python",
   "nbconvert_exporter": "python",
   "pygments_lexer": "ipython3",
   "version": "3.6.1"
  }
 },
 "nbformat": 4,
 "nbformat_minor": 2
}
