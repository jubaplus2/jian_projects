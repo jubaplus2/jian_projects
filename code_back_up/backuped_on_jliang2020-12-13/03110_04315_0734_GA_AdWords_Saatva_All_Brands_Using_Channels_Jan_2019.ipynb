{
 "cells": [
  {
   "cell_type": "code",
   "execution_count": 1,
   "metadata": {
    "collapsed": true
   },
   "outputs": [],
   "source": [
    "# _September_Week7 2019: 1/01/19-1/28/19\n",
    "\n",
    "import pandas as pd\n",
    "import numpy as np\n",
    "import datetime\n",
    "import pandas as pd\n",
    "from googleads import adwords\n",
    "import google_analytics_reporting_api as ga\n",
    "import os\n",
    "\n",
    "week=\"_Jan_Week1\"\n",
    "\n",
    "Start_Date_overall='2019-01-01'\n",
    "End_Data_overall='2019-01-28'\n",
    "\n",
    "Start_Date_1='2019-01-01' # No Change\n",
    "End_Date_1='2019-01-16'\n",
    "\n",
    "Start_Date_2='2019-01-17'\n",
    "End_Date_2='2019-01-28'\n",
    "\n",
    "\n",
    "today_str=str(datetime.datetime.now().date())\n",
    "writer_folder=\"/home/jian/Projects/Saatva/To_Lexie_and_Connor/output/running_on_\"+today_str+\"/\"\n",
    "try:\n",
    "    os.stat(writer_folder)\n",
    "except:\n",
    "    os.mkdir(writer_folder)\n",
    "\n",
    "writer_folder=\"/home/jian/Projects/Saatva/To_Lexie_and_Connor/output/running_on_\"+today_str+\"/\"+week[1:]+\"/\"\n",
    "try:\n",
    "    os.stat(writer_folder)\n",
    "except:\n",
    "    os.mkdir(writer_folder)"
   ]
  },
  {
   "cell_type": "markdown",
   "metadata": {},
   "source": [
    "# Google Analytics"
   ]
  },
  {
   "cell_type": "code",
   "execution_count": 15,
   "metadata": {
    "collapsed": true
   },
   "outputs": [],
   "source": [
    "analytics_key = ga.initialize_analyticsreporting('/home/jian/Projects/Saatva/GA/GA_api_jubapluscc@gmail.com.json')\n",
    "\n",
    "def num_func_trans(df):\n",
    "    if 'ga:sessions' in df.columns:\n",
    "        df['ga:sessions']=df['ga:sessions'].apply(lambda x: int(x.replace(\",\",\"\")))\n",
    "        df['ga:sessions']=df['ga:sessions'].astype(int)\n",
    "\n",
    "    if 'ga:adClicks' in df.columns:\n",
    "        df['ga:adClicks']=df['ga:adClicks'].apply(lambda x: int(x.replace(\",\",\"\")))\n",
    "        df['ga:adClicks']=df['ga:adClicks'].astype(int)\n",
    "\n",
    "    if 'ga:impressions' in df.columns:\n",
    "        df['ga:impressions']=df['ga:impressions'].apply(lambda x: int(x.replace(\",\",\"\")))\n",
    "        df['ga:impressions']=df['ga:impressions'].astype(int)\n",
    "    \n",
    "    if 'ga:transactions' in df.columns:\n",
    "        df['ga:transactions']=df['ga:transactions'].apply(lambda x: int(x.replace(\",\",\"\")))\n",
    "        df['ga:transactions']=df['ga:transactions'].astype(int)\n",
    "    \n",
    "    if 'ga:transactionRevenue' in df.columns:\n",
    "        df['ga:transactionRevenue']=df['ga:transactionRevenue'].apply(lambda x: float(x.replace(\",\",\"\")))\n",
    "        df['ga:transactionRevenue']=df['ga:transactionRevenue'].astype(float)\n",
    "\n",
    "    \n",
    "    return df\n"
   ]
  },
  {
   "cell_type": "code",
   "execution_count": 3,
   "metadata": {},
   "outputs": [
    {
     "data": {
      "text/plain": [
       "(1348, 6)"
      ]
     },
     "execution_count": 3,
     "metadata": {},
     "output_type": "execute_result"
    }
   ],
   "source": [
    "# Saatva.com\n",
    "# dateHour, sourceMedium      sessions, adClicks, impressions\n",
    "ga_data_1=ga.get_report_over_10000_rows(analytics=analytics_key, VIEW_ID='122377905',start_date=Start_Date_1, end_date=End_Date_1,\n",
    "                                            ga_metrics=['ga:sessions'],\n",
    "                                            ga_dimensions=['ga:date','ga:sourceMedium','ga:channelGrouping']) # When use, change the date to dataHour\n",
    "\n",
    "ga_data_2=ga.get_report_over_10000_rows(analytics=analytics_key, VIEW_ID='122377905',start_date=Start_Date_2, end_date=End_Date_2,\n",
    "                                            ga_metrics=['ga:sessions'],\n",
    "                                            ga_dimensions=['ga:date','ga:sourceMedium','ga:channelGrouping'])\n",
    "\n",
    "\n",
    "ga_data_saatva=ga_data_1.append(ga_data_2)\n",
    "ga_data_saatva['View']=\"Saatva.com\"\n",
    "ga_data_saatva['View_ID']=\"122377905\"\n",
    "ga_data_saatva.shape"
   ]
  },
  {
   "cell_type": "code",
   "execution_count": 4,
   "metadata": {},
   "outputs": [
    {
     "data": {
      "text/plain": [
       "(29880, 6)"
      ]
     },
     "execution_count": 4,
     "metadata": {},
     "output_type": "execute_result"
    }
   ],
   "source": [
    "# Saatvamattress.com\n",
    "# dateHour, sourceMedium      sessions, adClicks, impressions\n",
    "ga_data_1=ga.get_report_over_10000_rows(analytics=analytics_key, VIEW_ID='33605697',start_date=Start_Date_1, end_date=End_Date_1,\n",
    "                                            ga_metrics=['ga:sessions'],\n",
    "                                            ga_dimensions=['ga:date','ga:sourceMedium','ga:channelGrouping'])\n",
    "\n",
    "ga_data_2=ga.get_report_over_10000_rows(analytics=analytics_key, VIEW_ID='33605697',start_date=Start_Date_2, end_date=End_Date_2,\n",
    "                                            ga_metrics=['ga:sessions'],\n",
    "                                            ga_dimensions=['ga:date','ga:sourceMedium','ga:channelGrouping'])\n",
    "\n",
    "\n",
    "ga_data_SM=ga_data_1.append(ga_data_2)\n",
    "ga_data_SM['View']=\"Saatvamattress.com\"\n",
    "ga_data_SM['View_ID']=\"33605697\"\n",
    "ga_data_SM.shape"
   ]
  },
  {
   "cell_type": "code",
   "execution_count": 16,
   "metadata": {},
   "outputs": [
    {
     "data": {
      "text/plain": [
       "(10143, 6)"
      ]
     },
     "execution_count": 16,
     "metadata": {},
     "output_type": "execute_result"
    }
   ],
   "source": [
    "# Loomandleaf.com\n",
    "# dateHour, sourceMedium      sessions, adClicks, impressions\n",
    "ga_data_1=ga.get_report_over_10000_rows(analytics=analytics_key, VIEW_ID='98219589',start_date=Start_Date_1, end_date=End_Date_1,\n",
    "                                            ga_metrics=['ga:sessions'],\n",
    "                                            ga_dimensions=['ga:date','ga:sourceMedium','ga:channelGrouping'])\n",
    "\n",
    "ga_data_2=ga.get_report_over_10000_rows(analytics=analytics_key, VIEW_ID='98219589',start_date=Start_Date_2, end_date=End_Date_2,\n",
    "                                            ga_metrics=['ga:sessions'],\n",
    "                                            ga_dimensions=['ga:date','ga:sourceMedium','ga:channelGrouping'])\n",
    "\n",
    "\n",
    "ga_data_LL=ga_data_1.append(ga_data_2)\n",
    "ga_data_LL['View']=\"LoomandLeaf.com\"\n",
    "ga_data_LL['View_ID']=\"98219589\"\n",
    "ga_data_LL.shape"
   ]
  },
  {
   "cell_type": "code",
   "execution_count": 18,
   "metadata": {},
   "outputs": [
    {
     "data": {
      "text/plain": [
       "(5785, 4)"
      ]
     },
     "execution_count": 18,
     "metadata": {},
     "output_type": "execute_result"
    }
   ],
   "source": [
    "ga_data_1.shape"
   ]
  },
  {
   "cell_type": "code",
   "execution_count": 6,
   "metadata": {},
   "outputs": [
    {
     "data": {
      "text/plain": [
       "(4246, 6)"
      ]
     },
     "execution_count": 6,
     "metadata": {},
     "output_type": "execute_result"
    }
   ],
   "source": [
    "# ZenHaven.com\n",
    "# dateHour, sourceMedium      sessions, adClicks, impressions\n",
    "ga_data_1=ga.get_report_over_10000_rows(analytics=analytics_key, VIEW_ID='118897580',start_date=Start_Date_1, end_date=End_Date_1,\n",
    "                                            ga_metrics=['ga:sessions'],\n",
    "                                            ga_dimensions=['ga:date','ga:sourceMedium','ga:channelGrouping'])\n",
    "\n",
    "ga_data_2=ga.get_report_over_10000_rows(analytics=analytics_key, VIEW_ID='118897580',start_date=Start_Date_2, end_date=End_Date_2,\n",
    "                                            ga_metrics=['ga:sessions'],\n",
    "                                            ga_dimensions=['ga:date','ga:sourceMedium','ga:channelGrouping'])\n",
    "\n",
    "\n",
    "ga_data_ZH=ga_data_1.append(ga_data_2)\n",
    "ga_data_ZH['View']=\"ZenHaven.com\"\n",
    "ga_data_ZH['View_ID']=\"118897580\"\n",
    "ga_data_ZH.shape"
   ]
  },
  {
   "cell_type": "code",
   "execution_count": 7,
   "metadata": {
    "collapsed": true
   },
   "outputs": [],
   "source": [
    "ga_data=ga_data_SM.append(ga_data_saatva).append(ga_data_LL).append(ga_data_ZH)\n",
    "ga_data=num_func_trans(ga_data)"
   ]
  },
  {
   "cell_type": "code",
   "execution_count": 8,
   "metadata": {
    "collapsed": true
   },
   "outputs": [],
   "source": [
    "GA_taxonomy=ga_data[['View','ga:sourceMedium','ga:channelGrouping']].drop_duplicates()\n",
    "GA_taxonomy.reset_index(inplace=True)\n",
    "GA_taxonomy=GA_taxonomy.sort_values('ga:channelGrouping')\n",
    "del GA_taxonomy['index']"
   ]
  },
  {
   "cell_type": "code",
   "execution_count": 9,
   "metadata": {},
   "outputs": [
    {
     "data": {
      "text/html": [
       "<div>\n",
       "<style>\n",
       "    .dataframe thead tr:only-child th {\n",
       "        text-align: right;\n",
       "    }\n",
       "\n",
       "    .dataframe thead th {\n",
       "        text-align: left;\n",
       "    }\n",
       "\n",
       "    .dataframe tbody tr th {\n",
       "        vertical-align: top;\n",
       "    }\n",
       "</style>\n",
       "<table border=\"1\" class=\"dataframe\">\n",
       "  <thead>\n",
       "    <tr style=\"text-align: right;\">\n",
       "      <th>ga:channelGrouping</th>\n",
       "      <th>ga:date</th>\n",
       "      <th>(Other)</th>\n",
       "      <th>Direct</th>\n",
       "      <th>Display</th>\n",
       "      <th>Email</th>\n",
       "      <th>Organic Search</th>\n",
       "      <th>Paid Search</th>\n",
       "      <th>Referral</th>\n",
       "      <th>Social</th>\n",
       "    </tr>\n",
       "  </thead>\n",
       "  <tbody>\n",
       "    <tr>\n",
       "      <th>0</th>\n",
       "      <td>20190101</td>\n",
       "      <td>7746</td>\n",
       "      <td>2988</td>\n",
       "      <td>8054</td>\n",
       "      <td>36</td>\n",
       "      <td>3221</td>\n",
       "      <td>17895</td>\n",
       "      <td>3224</td>\n",
       "      <td>773</td>\n",
       "    </tr>\n",
       "    <tr>\n",
       "      <th>1</th>\n",
       "      <td>20190102</td>\n",
       "      <td>7782</td>\n",
       "      <td>3235</td>\n",
       "      <td>6742</td>\n",
       "      <td>23</td>\n",
       "      <td>3586</td>\n",
       "      <td>16949</td>\n",
       "      <td>3348</td>\n",
       "      <td>431</td>\n",
       "    </tr>\n",
       "  </tbody>\n",
       "</table>\n",
       "</div>"
      ],
      "text/plain": [
       "ga:channelGrouping   ga:date  (Other)  Direct  Display  Email  Organic Search  \\\n",
       "0                   20190101     7746    2988     8054     36            3221   \n",
       "1                   20190102     7782    3235     6742     23            3586   \n",
       "\n",
       "ga:channelGrouping  Paid Search  Referral  Social  \n",
       "0                         17895      3224     773  \n",
       "1                         16949      3348     431  "
      ]
     },
     "execution_count": 9,
     "metadata": {},
     "output_type": "execute_result"
    }
   ],
   "source": [
    "ga_agg_session=ga_data.groupby(['ga:date','ga:channelGrouping'])['ga:sessions'].sum().to_frame()\n",
    "ga_agg_session.reset_index(inplace=True)\n",
    "ga_agg_wide_session=ga_agg_session.pivot('ga:date','ga:channelGrouping','ga:sessions')\n",
    "ga_agg_wide_session.reset_index(inplace=True)\n",
    "ga_agg_wide_session.head(2)\n",
    "# ga_agg_wide_session['time_hour']=ga_agg_wide_session['ga:date'].apply(lambda x:datetime.datetime.strptime(x,\"%Y%m%d%H\"))"
   ]
  },
  {
   "cell_type": "code",
   "execution_count": 10,
   "metadata": {
    "collapsed": true
   },
   "outputs": [],
   "source": [
    "writer=pd.ExcelWriter(writer_folder+'/Saatva_S_and_SM_GA_by_Media_'+Start_Date_1+'_to_'+End_Date_2+week+'.xlsx', \n",
    "                      engine='xlsxwriter',options={'strings_to_urls': False})"
   ]
  },
  {
   "cell_type": "code",
   "execution_count": 11,
   "metadata": {},
   "outputs": [
    {
     "data": {
      "text/plain": [
       "'\\nGA_taxonomy[\\'ga:sourceMedium\\']=GA_taxonomy[\\'ga:sourceMedium\\'].apply(lambda x: x.encode(\"utf-8\"))\\nGA_taxonomy[\\'Source\\']=GA_taxonomy[\\'Source\\'].apply(lambda x: x.encode(\"utf-8\"))\\nGA_taxonomy[\\'Medium\\']=GA_taxonomy[\\'Medium\\'].apply(lambda x: x.encode(\"utf-8\"))\\n\\n\\nga_data[\\'ga:sourceMedium\\']=ga_data[\\'ga:sourceMedium\\'].apply(lambda x: x.encode(\"utf-8\"))\\nga_data[\\'Source\\']=ga_data[\\'Source\\'].apply(lambda x: x.encode(\"utf-8\"))\\nga_data[\\'Medium\\']=ga_data[\\'Medium\\'].apply(lambda x: x.encode(\"utf-8\"))\\n'"
      ]
     },
     "execution_count": 11,
     "metadata": {},
     "output_type": "execute_result"
    }
   ],
   "source": [
    "'''\n",
    "GA_taxonomy['ga:sourceMedium']=GA_taxonomy['ga:sourceMedium'].apply(lambda x: x.encode(\"utf-8\"))\n",
    "GA_taxonomy['Source']=GA_taxonomy['Source'].apply(lambda x: x.encode(\"utf-8\"))\n",
    "GA_taxonomy['Medium']=GA_taxonomy['Medium'].apply(lambda x: x.encode(\"utf-8\"))\n",
    "\n",
    "\n",
    "ga_data['ga:sourceMedium']=ga_data['ga:sourceMedium'].apply(lambda x: x.encode(\"utf-8\"))\n",
    "ga_data['Source']=ga_data['Source'].apply(lambda x: x.encode(\"utf-8\"))\n",
    "ga_data['Medium']=ga_data['Medium'].apply(lambda x: x.encode(\"utf-8\"))\n",
    "'''"
   ]
  },
  {
   "cell_type": "code",
   "execution_count": 12,
   "metadata": {
    "collapsed": true
   },
   "outputs": [],
   "source": [
    "# Combined both Saatva.com and Saatvamattress.com\n",
    "ga_agg_wide_session.to_excel(writer,\"Session_hour_media\",index=False)\n",
    "\n",
    "ga_data.to_excel(writer,\"data\",index=False)\n",
    "GA_taxonomy.to_excel(writer,\"taxonomy\",index=False)\n",
    "writer.save()\n",
    "GA_taxonomy.to_csv(writer_folder+'/Saatva_S_and_SM_GA_taxonomy_'+Start_Date_1+'_to_'+End_Date_2+week+'.csv',index=False)"
   ]
  },
  {
   "cell_type": "code",
   "execution_count": 22,
   "metadata": {},
   "outputs": [],
   "source": [
    "media_col=sorted(ga_agg_wide_session.columns.tolist()[1:(len(ga_agg_wide_session.columns))])"
   ]
  },
  {
   "cell_type": "code",
   "execution_count": 16,
   "metadata": {
    "collapsed": true
   },
   "outputs": [],
   "source": [
    "def write_csv_output(df,Matrics):\n",
    "    ga_output_csv=df.copy()\n",
    "    ga_output_csv=ga_output_csv[['ga:date']+media_col]\n",
    "    ga_output_csv=ga_output_csv.fillna(0)\n",
    "    ga_output_csv.to_csv(writer_folder+'/Saatva_S_and_SM_GA_by_Media_'+Start_Date_1+'_to_'+End_Date_2+week+\"_\"+Matrics+'.csv',index=False)"
   ]
  },
  {
   "cell_type": "code",
   "execution_count": 17,
   "metadata": {
    "collapsed": true
   },
   "outputs": [],
   "source": [
    "write_csv_output(ga_agg_wide_session,\"Session\")\n",
    "\n"
   ]
  },
  {
   "cell_type": "code",
   "execution_count": 18,
   "metadata": {
    "collapsed": true
   },
   "outputs": [],
   "source": [
    "ga_agg_session_by_View=ga_data.groupby(['View','View_ID','ga:date','ga:channelGrouping'])['ga:sessions'].sum().unstack('ga:channelGrouping')\n",
    "ga_agg_session_by_View.reset_index(inplace=True)\n",
    "ga_agg_session_by_View=ga_agg_session_by_View.fillna(0)\n",
    "ga_agg_session_by_View.to_csv(writer_folder+'/Saatva_S_and_SM_GA_by_Media_by_View'+Start_Date_1+'_to_'+End_Date_2+week+\"_Sessions\"+'.csv',index=False)\n",
    "\n"
   ]
  },
  {
   "cell_type": "markdown",
   "metadata": {},
   "source": [
    "# Google AdWords"
   ]
  },
  {
   "cell_type": "code",
   "execution_count": 19,
   "metadata": {
    "collapsed": true
   },
   "outputs": [],
   "source": [
    "def get_client(config_path='googleads_saatva.yaml'):\n",
    "    return adwords.AdWordsClient.LoadFromStorage(config_path)\n",
    "\n",
    "def download_report_as_stream(client, report_type, fields, start_date, end_date):\n",
    "    '''Download Adwords report, then save as csv file to base_dir\n",
    "    Args:\n",
    "        client: adwords.AdWordsClient.LoadFromStorage()\n",
    "        report_type: str eg. 'KEYWORDS_PERFORMANCE_REPORT'\n",
    "        fields: list eg. [\"CampaignId\", \"CampaignName\", ... ]\n",
    "        start_date: str, eg. '2018-02-11'\n",
    "        end_date: str, eg.\n",
    "    Return:\n",
    "        str, path to csv file\n",
    "    '''\n",
    "    report_downloader = client.GetReportDownloader(version='v201802')\n",
    "    # Create report definition.\n",
    "    report = {\n",
    "        'reportName': report_type,\n",
    "        'dateRangeType': 'CUSTOM_DATE',\n",
    "        'reportType': report_type,\n",
    "        'downloadFormat': 'CSV',\n",
    "        'selector': {\n",
    "            'fields': fields,\n",
    "            'dateRange': {\n",
    "                'min': start_date,\n",
    "                'max': end_date}\n",
    "        }\n",
    "    }\n",
    "\n",
    "    # save output\n",
    "    return report_downloader.DownloadReportAsStream(report, \n",
    "        skip_report_header=True, skip_column_header=False,\n",
    "        skip_report_summary=True)\n",
    "\n"
   ]
  },
  {
   "cell_type": "code",
   "execution_count": 20,
   "metadata": {
    "collapsed": true
   },
   "outputs": [],
   "source": [
    "client_Saatva = get_client(config_path='/home/jian/Projects/Saatva/To_Lexie_and_Connor/googleads_saatva_JL_Saatva.yaml')\n",
    "report_type = 'CAMPAIGN_PERFORMANCE_REPORT'\n",
    "fields = [\"AccountDescriptiveName\",\"CampaignName\",\"Date\",\"HourOfDay\",\"AdvertisingChannelType\",\"AdNetworkType1\",\"AdNetworkType2\",\"Impressions\", \"Clicks\", \"Cost\"]\n",
    "response_Saatva = download_report_as_stream(client_Saatva, report_type, fields, Start_Date_overall, End_Data_overall)\n",
    "Saatva_Click = pd.read_csv(response_Saatva)\n",
    "Saatva_Click['Cost']=Saatva_Click['Cost'].apply(lambda x: x/1000000)\n",
    "Saatva_Click['Channel_Network']=Saatva_Click['Advertising Channel']+\"|\"+Saatva_Click['Network']+\"|\"+Saatva_Click['Network (with search partners)']"
   ]
  },
  {
   "cell_type": "code",
   "execution_count": 21,
   "metadata": {},
   "outputs": [
    {
     "data": {
      "text/plain": [
       "array(['Video|YouTube Videos|YouTube Videos',\n",
       "       'Display|Display Network|Display Network',\n",
       "       'Video|YouTube Search|YouTube Search'], dtype=object)"
      ]
     },
     "execution_count": 21,
     "metadata": {},
     "output_type": "execute_result"
    }
   ],
   "source": [
    "client_Saatva_Branding = get_client(config_path='/home/jian/Projects/Saatva/To_Lexie_and_Connor/googleads_saatva_JL_Saatva_Branding.yaml')\n",
    "report_type = 'CAMPAIGN_PERFORMANCE_REPORT'\n",
    "fields = [\"AccountDescriptiveName\",\"CampaignName\",\"Date\",\"HourOfDay\",\"AdvertisingChannelType\",\"AdNetworkType1\",\"AdNetworkType2\",\"Impressions\", \"Clicks\", \"Cost\"]\n",
    "response_Saatva_Branding = download_report_as_stream(client_Saatva_Branding, report_type, fields, Start_Date_overall, End_Data_overall)\n",
    "Saatva_Brand_Click = pd.read_csv(response_Saatva_Branding)\n",
    "Saatva_Brand_Click['Cost']=Saatva_Brand_Click['Cost'].apply(lambda x: x/1000000)\n",
    "Saatva_Brand_Click['Channel_Network']=Saatva_Brand_Click['Advertising Channel']+\"|\"+Saatva_Brand_Click['Network']+\"|\"+Saatva_Brand_Click['Network (with search partners)']\n",
    "Saatva_Brand_Click['Channel_Network'].unique()"
   ]
  },
  {
   "cell_type": "code",
   "execution_count": 33,
   "metadata": {
    "collapsed": true
   },
   "outputs": [],
   "source": [
    "client_Saatva_Competitors = get_client(config_path='/home/jian/Projects/Saatva/To_Lexie_and_Connor/googleads_saatva_JL_Saatva_Competitors.yaml')\n",
    "report_type = 'CAMPAIGN_PERFORMANCE_REPORT'\n",
    "fields = [\"AccountDescriptiveName\",\"CampaignName\",\"Date\",\"HourOfDay\",\"AdvertisingChannelType\",\"AdNetworkType1\",\"AdNetworkType2\",\"Impressions\", \"Clicks\", \"Cost\"]\n",
    "response_Saatva_Competitor = download_report_as_stream(client_Saatva_Competitors, report_type, fields, Start_Date_overall, End_Data_overall)\n",
    "Saatva_Competitor_Click = pd.read_csv(response_Saatva_Competitor)\n",
    "Saatva_Competitor_Click['Cost']=Saatva_Competitor_Click['Cost'].apply(lambda x: x/1000000)\n",
    "Saatva_Competitor_Click['Channel_Network']=Saatva_Competitor_Click['Advertising Channel']+\"|\"+Saatva_Competitor_Click['Network']+\"|\"+Saatva_Competitor_Click['Network (with search partners)']\n",
    "\n"
   ]
  },
  {
   "cell_type": "code",
   "execution_count": 34,
   "metadata": {
    "collapsed": true
   },
   "outputs": [],
   "source": [
    "client_TheSaatvaCompany = get_client(config_path='/home/jian/Projects/Saatva/To_Lexie_and_Connor/googleads_saatva_JL_TheSaatvaCompany.yaml')\n",
    "report_type = 'CAMPAIGN_PERFORMANCE_REPORT'\n",
    "fields = [\"AccountDescriptiveName\",\"CampaignName\",\"Date\",\"HourOfDay\",\"AdvertisingChannelType\",\"AdNetworkType1\",\"AdNetworkType2\",\"Impressions\", \"Clicks\", \"Cost\"]\n",
    "response_TheSaatvaCompany = download_report_as_stream(client_TheSaatvaCompany, report_type, fields, Start_Date_overall, End_Data_overall)\n",
    "TheSaatvaCompany_Click = pd.read_csv(response_TheSaatvaCompany)\n",
    "TheSaatvaCompany_Click['Cost']=TheSaatvaCompany_Click['Cost'].apply(lambda x: x/1000000)\n",
    "TheSaatvaCompany_Click['Channel_Network']=TheSaatvaCompany_Click['Advertising Channel']+\"|\"+TheSaatvaCompany_Click['Network']+\"|\"+TheSaatvaCompany_Click['Network (with search partners)']\n",
    "\n"
   ]
  },
  {
   "cell_type": "code",
   "execution_count": 35,
   "metadata": {
    "collapsed": true
   },
   "outputs": [],
   "source": [
    "client_TheSaatvaCompanyBranding = get_client(config_path='/home/jian/Projects/Saatva/To_Lexie_and_Connor/googleads_saatva_JL_TheSaatvaCompanyBranding.yaml')\n",
    "report_type = 'CAMPAIGN_PERFORMANCE_REPORT'\n",
    "fields = [\"AccountDescriptiveName\",\"CampaignName\",\"Date\",\"HourOfDay\",\"AdvertisingChannelType\",\"AdNetworkType1\",\"AdNetworkType2\",\"Impressions\", \"Clicks\", \"Cost\"]\n",
    "response_TheSaatvaCompanyBranding = download_report_as_stream(client_TheSaatvaCompanyBranding, report_type, fields, Start_Date_overall, End_Data_overall)\n",
    "TheSaatvaCompanyBranding_Click = pd.read_csv(response_TheSaatvaCompanyBranding)\n",
    "TheSaatvaCompanyBranding_Click['Cost']=TheSaatvaCompanyBranding_Click['Cost'].apply(lambda x: x/1000000)\n",
    "TheSaatvaCompanyBranding_Click['Channel_Network']=TheSaatvaCompanyBranding_Click['Advertising Channel']+\"|\"+TheSaatvaCompanyBranding_Click['Network']+\"|\"+TheSaatvaCompanyBranding_Click['Network (with search partners)']\n",
    "\n"
   ]
  },
  {
   "cell_type": "code",
   "execution_count": 36,
   "metadata": {
    "collapsed": true
   },
   "outputs": [],
   "source": [
    "Saatva_Competitor_Click=Saatva_Competitor_Click[Saatva_Competitor_Click['Campaign'].apply(lambda x: x[len(x)-4:len(x)+1])==\"[SM]\"]\n",
    "Saatva_Competitor_Click.reset_index(inplace=True)\n",
    "del Saatva_Competitor_Click['index']\n",
    "# Keep only campaign labeled as \"[SM]\" in Saatva Competitor account\n",
    "# Broad and Exact ADL Non-Brand Search Partners are not included"
   ]
  },
  {
   "cell_type": "code",
   "execution_count": 37,
   "metadata": {},
   "outputs": [
    {
     "data": {
      "text/plain": [
       "{'Display|Display Network|Display Network',\n",
       " 'Search|Search Network|Google search',\n",
       " 'Search|Search Network|Search partners',\n",
       " 'Shopping|Search Network|Google search',\n",
       " 'Shopping|Search Network|Search partners',\n",
       " 'Video|Display Network|Display Network',\n",
       " 'Video|YouTube Search|YouTube Search',\n",
       " 'Video|YouTube Videos|YouTube Videos'}"
      ]
     },
     "execution_count": 37,
     "metadata": {},
     "output_type": "execute_result"
    }
   ],
   "source": [
    "set(Saatva_Click['Channel_Network'].unique().tolist()+Saatva_Brand_Click['Channel_Network'].unique().tolist()+Saatva_Competitor_Click['Channel_Network'].unique().tolist()+\\\n",
    "    TheSaatvaCompany_Click['Channel_Network'].unique().tolist()+TheSaatvaCompanyBranding_Click['Channel_Network'].unique().tolist())"
   ]
  },
  {
   "cell_type": "code",
   "execution_count": 38,
   "metadata": {
    "collapsed": true
   },
   "outputs": [],
   "source": [
    "df_all_adwords=Saatva_Click.append(Saatva_Brand_Click).append(Saatva_Competitor_Click)\n",
    "df_all_adwords=df_all_adwords.append(TheSaatvaCompany_Click).append(TheSaatvaCompanyBranding_Click)"
   ]
  },
  {
   "cell_type": "code",
   "execution_count": 39,
   "metadata": {},
   "outputs": [
    {
     "data": {
      "text/html": [
       "<div>\n",
       "<style>\n",
       "    .dataframe thead tr:only-child th {\n",
       "        text-align: right;\n",
       "    }\n",
       "\n",
       "    .dataframe thead th {\n",
       "        text-align: left;\n",
       "    }\n",
       "\n",
       "    .dataframe tbody tr th {\n",
       "        vertical-align: top;\n",
       "    }\n",
       "</style>\n",
       "<table border=\"1\" class=\"dataframe\">\n",
       "  <thead>\n",
       "    <tr style=\"text-align: right;\">\n",
       "      <th></th>\n",
       "      <th>Channel_Network</th>\n",
       "      <th>Impressions</th>\n",
       "      <th>Clicks</th>\n",
       "      <th>Cost</th>\n",
       "    </tr>\n",
       "  </thead>\n",
       "  <tbody>\n",
       "    <tr>\n",
       "      <th>5</th>\n",
       "      <td>Video|Display Network|Display Network</td>\n",
       "      <td>55817</td>\n",
       "      <td>126</td>\n",
       "      <td>114.438362</td>\n",
       "    </tr>\n",
       "    <tr>\n",
       "      <th>6</th>\n",
       "      <td>Video|YouTube Search|YouTube Search</td>\n",
       "      <td>835903</td>\n",
       "      <td>57</td>\n",
       "      <td>2658.320000</td>\n",
       "    </tr>\n",
       "    <tr>\n",
       "      <th>7</th>\n",
       "      <td>Video|YouTube Videos|YouTube Videos</td>\n",
       "      <td>23715172</td>\n",
       "      <td>130499</td>\n",
       "      <td>320905.694238</td>\n",
       "    </tr>\n",
       "  </tbody>\n",
       "</table>\n",
       "</div>"
      ],
      "text/plain": [
       "                         Channel_Network  Impressions  Clicks           Cost\n",
       "5  Video|Display Network|Display Network        55817     126     114.438362\n",
       "6    Video|YouTube Search|YouTube Search       835903      57    2658.320000\n",
       "7    Video|YouTube Videos|YouTube Videos     23715172  130499  320905.694238"
      ]
     },
     "execution_count": 39,
     "metadata": {},
     "output_type": "execute_result"
    }
   ],
   "source": [
    "df_s=df_all_adwords.groupby(['Channel_Network'])[['Impressions','Clicks','Cost']].sum().reset_index()\n",
    "df_s[df_s['Channel_Network'].apply(lambda x: \"Video\" in x)]"
   ]
  },
  {
   "cell_type": "code",
   "execution_count": 40,
   "metadata": {},
   "outputs": [
    {
     "data": {
      "text/html": [
       "<div>\n",
       "<style>\n",
       "    .dataframe thead tr:only-child th {\n",
       "        text-align: right;\n",
       "    }\n",
       "\n",
       "    .dataframe thead th {\n",
       "        text-align: left;\n",
       "    }\n",
       "\n",
       "    .dataframe tbody tr th {\n",
       "        vertical-align: top;\n",
       "    }\n",
       "</style>\n",
       "<table border=\"1\" class=\"dataframe\">\n",
       "  <thead>\n",
       "    <tr style=\"text-align: right;\">\n",
       "      <th></th>\n",
       "      <th>Account</th>\n",
       "      <th>Campaign</th>\n",
       "      <th>Day</th>\n",
       "      <th>Hour of day</th>\n",
       "      <th>Advertising Channel</th>\n",
       "      <th>Network</th>\n",
       "      <th>Network (with search partners)</th>\n",
       "      <th>Impressions</th>\n",
       "      <th>Clicks</th>\n",
       "      <th>Cost</th>\n",
       "      <th>Channel_Network</th>\n",
       "    </tr>\n",
       "  </thead>\n",
       "  <tbody>\n",
       "    <tr>\n",
       "      <th>0</th>\n",
       "      <td>Saatva</td>\n",
       "      <td>[ADL] [Non-Brand] [US] Mattresses - Superlativ...</td>\n",
       "      <td>2018-09-20</td>\n",
       "      <td>8</td>\n",
       "      <td>Search</td>\n",
       "      <td>Search Network</td>\n",
       "      <td>Google search</td>\n",
       "      <td>150</td>\n",
       "      <td>11</td>\n",
       "      <td>241.97</td>\n",
       "      <td>Search|Search Network|Google search</td>\n",
       "    </tr>\n",
       "    <tr>\n",
       "      <th>1</th>\n",
       "      <td>Saatva</td>\n",
       "      <td>[ADL] [Non-Brand] [US] Mattresses - Superlativ...</td>\n",
       "      <td>2018-11-02</td>\n",
       "      <td>21</td>\n",
       "      <td>Search</td>\n",
       "      <td>Search Network</td>\n",
       "      <td>Google search</td>\n",
       "      <td>213</td>\n",
       "      <td>16</td>\n",
       "      <td>155.66</td>\n",
       "      <td>Search|Search Network|Google search</td>\n",
       "    </tr>\n",
       "  </tbody>\n",
       "</table>\n",
       "</div>"
      ],
      "text/plain": [
       "  Account                                           Campaign         Day  \\\n",
       "0  Saatva  [ADL] [Non-Brand] [US] Mattresses - Superlativ...  2018-09-20   \n",
       "1  Saatva  [ADL] [Non-Brand] [US] Mattresses - Superlativ...  2018-11-02   \n",
       "\n",
       "   Hour of day Advertising Channel         Network  \\\n",
       "0            8              Search  Search Network   \n",
       "1           21              Search  Search Network   \n",
       "\n",
       "  Network (with search partners)  Impressions  Clicks    Cost  \\\n",
       "0                  Google search          150      11  241.97   \n",
       "1                  Google search          213      16  155.66   \n",
       "\n",
       "                       Channel_Network  \n",
       "0  Search|Search Network|Google search  \n",
       "1  Search|Search Network|Google search  "
      ]
     },
     "execution_count": 40,
     "metadata": {},
     "output_type": "execute_result"
    }
   ],
   "source": [
    "df_all_adwords.head(2)"
   ]
  },
  {
   "cell_type": "code",
   "execution_count": 41,
   "metadata": {},
   "outputs": [
    {
     "data": {
      "text/plain": [
       "114.43836200000001"
      ]
     },
     "execution_count": 41,
     "metadata": {},
     "output_type": "execute_result"
    }
   ],
   "source": [
    "df_all_adwords[df_all_adwords['Channel_Network']==\"Video|Display Network|Display Network\"]['Cost'].sum()"
   ]
  },
  {
   "cell_type": "code",
   "execution_count": 42,
   "metadata": {},
   "outputs": [
    {
     "data": {
      "text/plain": [
       "2658.3200000000002"
      ]
     },
     "execution_count": 42,
     "metadata": {},
     "output_type": "execute_result"
    }
   ],
   "source": [
    "df_all_adwords[df_all_adwords['Channel_Network']==\"Video|YouTube Search|YouTube Search\"]['Cost'].sum()"
   ]
  },
  {
   "cell_type": "code",
   "execution_count": 43,
   "metadata": {},
   "outputs": [
    {
     "data": {
      "text/plain": [
       "320905.69423800003"
      ]
     },
     "execution_count": 43,
     "metadata": {},
     "output_type": "execute_result"
    }
   ],
   "source": [
    "df_all_adwords[df_all_adwords['Channel_Network']==\"Video|YouTube Videos|YouTube Videos\"]['Cost'].sum()"
   ]
  },
  {
   "cell_type": "code",
   "execution_count": 44,
   "metadata": {},
   "outputs": [
    {
     "data": {
      "text/plain": [
       "datetime.date(2018, 9, 11)"
      ]
     },
     "execution_count": 44,
     "metadata": {},
     "output_type": "execute_result"
    }
   ],
   "source": [
    "df_all_adwords[df_all_adwords['Channel_Network']==\"Video|Display Network|Display Network\"]['Day'].apply(lambda x: datetime.datetime.strptime(x,\"%Y-%m-%d\").date()).min()"
   ]
  },
  {
   "cell_type": "code",
   "execution_count": 45,
   "metadata": {},
   "outputs": [
    {
     "data": {
      "text/plain": [
       "datetime.date(2018, 11, 8)"
      ]
     },
     "execution_count": 45,
     "metadata": {},
     "output_type": "execute_result"
    }
   ],
   "source": [
    "df_all_adwords[df_all_adwords['Channel_Network']==\"Video|Display Network|Display Network\"]['Day'].apply(lambda x: datetime.datetime.strptime(x,\"%Y-%m-%d\").date()).max()"
   ]
  },
  {
   "cell_type": "code",
   "execution_count": 46,
   "metadata": {},
   "outputs": [
    {
     "data": {
      "text/plain": [
       "datetime.date(2018, 9, 11)"
      ]
     },
     "execution_count": 46,
     "metadata": {},
     "output_type": "execute_result"
    }
   ],
   "source": [
    "df_all_adwords[df_all_adwords['Channel_Network']==\"Video|YouTube Search|YouTube Search\"]['Day'].apply(lambda x: datetime.datetime.strptime(x,\"%Y-%m-%d\").date()).min()"
   ]
  },
  {
   "cell_type": "code",
   "execution_count": 47,
   "metadata": {},
   "outputs": [
    {
     "data": {
      "text/plain": [
       "datetime.date(2018, 11, 8)"
      ]
     },
     "execution_count": 47,
     "metadata": {},
     "output_type": "execute_result"
    }
   ],
   "source": [
    "df_all_adwords[df_all_adwords['Channel_Network']==\"Video|YouTube Search|YouTube Search\"]['Day'].apply(lambda x: datetime.datetime.strptime(x,\"%Y-%m-%d\").date()).max()"
   ]
  },
  {
   "cell_type": "code",
   "execution_count": 48,
   "metadata": {},
   "outputs": [
    {
     "data": {
      "text/plain": [
       "datetime.date(2018, 9, 11)"
      ]
     },
     "execution_count": 48,
     "metadata": {},
     "output_type": "execute_result"
    }
   ],
   "source": [
    "df_all_adwords[df_all_adwords['Channel_Network']==\"Video|YouTube Videos|YouTube Videos\"]['Day'].apply(lambda x: datetime.datetime.strptime(x,\"%Y-%m-%d\").date()).min()"
   ]
  },
  {
   "cell_type": "code",
   "execution_count": 49,
   "metadata": {},
   "outputs": [
    {
     "data": {
      "text/plain": [
       "datetime.date(2018, 11, 8)"
      ]
     },
     "execution_count": 49,
     "metadata": {},
     "output_type": "execute_result"
    }
   ],
   "source": [
    "df_all_adwords[df_all_adwords['Channel_Network']==\"Video|YouTube Videos|YouTube Videos\"]['Day'].apply(lambda x: datetime.datetime.strptime(x,\"%Y-%m-%d\").date()).max()"
   ]
  },
  {
   "cell_type": "code",
   "execution_count": 50,
   "metadata": {},
   "outputs": [
    {
     "name": "stderr",
     "output_type": "stream",
     "text": [
      "/usr/local/lib/python3.6/site-packages/ipykernel_launcher.py:2: SettingWithCopyWarning: \n",
      "A value is trying to be set on a copy of a slice from a DataFrame.\n",
      "Try using .loc[row_indexer,col_indexer] = value instead\n",
      "\n",
      "See the caveats in the documentation: http://pandas.pydata.org/pandas-docs/stable/indexing.html#indexing-view-versus-copy\n",
      "  \n"
     ]
    },
    {
     "data": {
      "text/plain": [
       "9427.5978469999991"
      ]
     },
     "execution_count": 50,
     "metadata": {},
     "output_type": "execute_result"
    }
   ],
   "source": [
    "df_x=df_all_adwords[df_all_adwords['Channel_Network']==\"Video|YouTube Videos|YouTube Videos\"]\n",
    "df_x['Day']=df_x['Day'].apply(lambda x: datetime.datetime.strptime(x,\"%Y-%m-%d\").date())\n",
    "df_x[df_x['Day']<datetime.date(2018,9,19)]['Cost'].sum()"
   ]
  },
  {
   "cell_type": "code",
   "execution_count": null,
   "metadata": {
    "collapsed": true
   },
   "outputs": [],
   "source": []
  },
  {
   "cell_type": "code",
   "execution_count": null,
   "metadata": {
    "collapsed": true
   },
   "outputs": [],
   "source": []
  },
  {
   "cell_type": "code",
   "execution_count": 52,
   "metadata": {
    "collapsed": true
   },
   "outputs": [],
   "source": [
    "'''\n",
    "Saatva_Click=Saatva_Click[~((Saatva_Click['Campaign'].str.contains(\"Loom\")) | (Saatva_Click['Campaign'].str.contains(\"Leaf\")) | (Saatva_Click['Campaign'].str.contains(\"Zenhaven\")))]\n",
    "TheSaatvaCompany_Click=TheSaatvaCompany_Click[~((TheSaatvaCompany_Click['Campaign'].str.contains(\"Loom\")) | (TheSaatvaCompany_Click['Campaign'].str.contains(\"Leaf\")) | (TheSaatvaCompany_Click['Campaign'].str.contains(\"Zenhaven\")))]\n",
    "TheSaatvaCompanyBranding_Click=TheSaatvaCompanyBranding_Click[~((TheSaatvaCompanyBranding_Click['Campaign'].str.contains(\"Loom\")) | (TheSaatvaCompanyBranding_Click['Campaign'].str.contains(\"Leaf\")) | (TheSaatvaCompanyBranding_Click['Campaign'].str.contains(\"Zenhaven\")))]\n",
    "'''\n",
    "# No need to exclude the compaigns because of the small pctg\n",
    "\n",
    "Saatva_Click['Campaign_Type']=Saatva_Click['Advertising Channel'].apply(lambda x: x.replace(\"Search\",\"SEM\").replace(\"Shopping\",\"PLA\"))\n",
    "Saatva_Brand_Click['Campaign_Type']=Saatva_Brand_Click['Advertising Channel'].apply(lambda x: x.replace(\"Search\",\"SEM_Brand\").replace(\"Shopping\",\"PLA\"))\n",
    "Saatva_Competitor_Click['Campaign_Type']=\"SEM_Non_Brand\" # Because it's all labeled as Non-Brand in Campaign and in Search Only Campaign Type\n",
    "TheSaatvaCompany_Click['Campaign_Type']=TheSaatvaCompany_Click['Advertising Channel'].apply(lambda x: x.replace(\"Search\",\"SEM\").replace(\"Shopping\",\"PLA\"))\n",
    "TheSaatvaCompanyBranding_Click['Campaign_Type']=TheSaatvaCompanyBranding_Click['Advertising Channel'].apply(lambda x: x.replace(\"Search\",\"SEM\").replace(\"Shopping\",\"PLA\"))\n"
   ]
  },
  {
   "cell_type": "code",
   "execution_count": 53,
   "metadata": {},
   "outputs": [
    {
     "name": "stderr",
     "output_type": "stream",
     "text": [
      "/usr/local/lib/python3.6/site-packages/ipykernel_launcher.py:7: SettingWithCopyWarning: \n",
      "A value is trying to be set on a copy of a slice from a DataFrame.\n",
      "Try using .loc[row_indexer,col_indexer] = value instead\n",
      "\n",
      "See the caveats in the documentation: http://pandas.pydata.org/pandas-docs/stable/indexing.html#indexing-view-versus-copy\n",
      "  import sys\n"
     ]
    },
    {
     "data": {
      "text/plain": [
       "0"
      ]
     },
     "execution_count": 53,
     "metadata": {},
     "output_type": "execute_result"
    }
   ],
   "source": [
    "# Split Saatva\n",
    "# 'Search Network with Display Select' Campaign Type all 0 Impr and Clicks\n",
    "Saatva_Click_Search=Saatva_Click[Saatva_Click['Advertising Channel']=='Search']\n",
    "Saatva_Click_Others=Saatva_Click[Saatva_Click['Advertising Channel']!='Search']\n",
    "\n",
    "Saatva_Click_Search['Campaign_Type']=np.where((Saatva_Click_Search['Campaign'].str.contains(\"Branded\")) | (Saatva_Click_Search['Campaign'].str.contains(\" Brand \")) | (Saatva_Click_Search['Campaign'].str.contains(\"Co-Brand\")) | (Saatva_Click_Search['Campaign'].str.contains(\"\\[Brand\\]\")),\"SEM_Brand\",\n",
    "                                                 np.where((Saatva_Click_Search['Campaign'].str.contains(\"Non-Brand\")) | (Saatva_Click_Search['Campaign'].str.contains(\"Dynamic Search Ads\")),\"SEM_Non_Brand\",\"NA\"))\n",
    "Saatva_Click_Search_1=Saatva_Click_Search[Saatva_Click_Search['Campaign_Type']!=\"NA\"]\n",
    "Saatva_Click_Search_2=Saatva_Click_Search[Saatva_Click_Search['Campaign_Type']==\"NA\"]\n",
    "len(Saatva_Click_Search_2) # Make sure it's 0"
   ]
  },
  {
   "cell_type": "code",
   "execution_count": 54,
   "metadata": {},
   "outputs": [
    {
     "name": "stderr",
     "output_type": "stream",
     "text": [
      "/usr/local/lib/python3.6/site-packages/ipykernel_launcher.py:7: SettingWithCopyWarning: \n",
      "A value is trying to be set on a copy of a slice from a DataFrame.\n",
      "Try using .loc[row_indexer,col_indexer] = value instead\n",
      "\n",
      "See the caveats in the documentation: http://pandas.pydata.org/pandas-docs/stable/indexing.html#indexing-view-versus-copy\n",
      "  import sys\n"
     ]
    },
    {
     "data": {
      "text/plain": [
       "0"
      ]
     },
     "execution_count": 54,
     "metadata": {},
     "output_type": "execute_result"
    }
   ],
   "source": [
    "# Split TheSaatvaCompany\n",
    "\n",
    "TheSaatvaCompany_Click_Search=TheSaatvaCompany_Click[TheSaatvaCompany_Click['Advertising Channel']=='Search']\n",
    "TheSaatvaCompany_Click_Others=TheSaatvaCompany_Click[TheSaatvaCompany_Click['Advertising Channel']!='Search']\n",
    "\n",
    "TheSaatvaCompany_Click_Search['Campaign_Type']=np.where((TheSaatvaCompany_Click_Search['Campaign'].str.contains(\"Branded\")) | (TheSaatvaCompany_Click_Search['Campaign'].str.contains(\" Brand \")) | (TheSaatvaCompany_Click_Search['Campaign'].str.contains(\"Co-Brand\")) | (TheSaatvaCompany_Click_Search['Campaign'].str.contains(\"\\[Brand\\]\")),\"SEM_Brand\",\n",
    "                                                 np.where((TheSaatvaCompany_Click_Search['Campaign'].str.contains(\"Non-Brand\")) | (TheSaatvaCompany_Click_Search['Campaign'].str.contains(\"Dynamic Search Ads\")),\"SEM_Non_Brand\",\"NA\"))\n",
    "TheSaatvaCompany_Click_Search_1=TheSaatvaCompany_Click_Search[TheSaatvaCompany_Click_Search['Campaign_Type']!=\"NA\"]\n",
    "TheSaatvaCompany_Click_Search_2=TheSaatvaCompany_Click_Search[TheSaatvaCompany_Click_Search['Campaign_Type']==\"NA\"]\n",
    "len(TheSaatvaCompany_Click_Search_2) # Make sure it's 0"
   ]
  },
  {
   "cell_type": "code",
   "execution_count": 55,
   "metadata": {},
   "outputs": [
    {
     "data": {
      "text/plain": [
       "'\\nSaatva_keywords=pd.read_csv(\"/home/jian/Projects/Saatva/To_Lexie_and_Connor/AdWords/saatva_keywords.csv\",dtype=str,skiprows=2)\\nSaatva_Brand_keywords=pd.read_csv(\"/home/jian/Projects/Saatva/To_Lexie_and_Connor/AdWords/saatva branding_keywords.csv\",dtype=str)\\nSaatva_Competitor_keywords=pd.read_csv(\"/home/jian/Projects/Saatva/To_Lexie_and_Connor/AdWords/saatva competitors_keywords.csv\",dtype=str,skiprows=2)\\n\\nSaatva_keywords=Saatva_keywords[~((Saatva_keywords[\\'Campaign\\'].str.contains(\"Loom\")) | (Saatva_keywords[\\'Campaign\\'].str.contains(\"Leaf\")) | (Saatva_keywords[\\'Campaign\\'].str.contains(\"Zenhaven\")))]\\nSaatva_keywords[\\'Campaign_Type\\']=np.where(Saatva_keywords[\\'Search keyword\\'].str.contains(\"aatva\"),\"SEM_Brand\",\"SEM_Non_Brand\")\\nSaatva_keywords[\\'Impressions\\']=Saatva_keywords[\\'Impressions\\'].apply(lambda x: int(x.replace(\",\",\"\")))\\nSaatva_keywords[\\'Impressions\\']=Saatva_keywords[\\'Impressions\\'].astype(int)\\nSaatva_keywords[\\'Clicks\\']=Saatva_keywords[\\'Clicks\\'].apply(lambda x: int(x.replace(\",\",\"\")))\\nSaatva_keywords[\\'Clicks\\']=Saatva_keywords[\\'Clicks\\'].astype(int)\\nSaatva_keywords=Saatva_keywords.groupby([\\'Campaign\\',\\'Campaign_Type\\'])[\\'Impressions\\',\\'Clicks\\'].sum()\\nSaatva_keywords.reset_index(inplace=True)\\nSaatva_keywords=Saatva_keywords.sort_values([\\'Campaign\\',\\'Impressions\\'])\\nSaatva_keywords=Saatva_keywords.drop_duplicates(\\'Campaign\\')\\nSaatva_Campaign_Type=Saatva_keywords[[\\'Campaign\\',\\'Campaign_Type\\']]\\n\\ndel Saatva_Click_Search_2[\\'Campaign_Type\\']\\nSaatva_Click_Search_2=pd.merge(Saatva_Click_Search_2,Saatva_Campaign_Type,on=\"Campaign\",how=\"left\")\\n\\nSaatva_Search_Click=Saatva_Click_Search_1.append(Saatva_Click_Search_2)\\nSaatva_Search_Click[\\'Campaign_Type\\']=Saatva_Search_Click[\\'Campaign_Type\\'].fillna(\"All_0_Values_and_No_Kws\")\\n'"
      ]
     },
     "execution_count": 55,
     "metadata": {},
     "output_type": "execute_result"
    }
   ],
   "source": [
    "# All campaing is able to differentiate from the name about brand and non-brand, so no need to go to keywords level\n",
    "'''\n",
    "Saatva_keywords=pd.read_csv(\"/home/jian/Projects/Saatva/To_Lexie_and_Connor/AdWords/saatva_keywords.csv\",dtype=str,skiprows=2)\n",
    "Saatva_Brand_keywords=pd.read_csv(\"/home/jian/Projects/Saatva/To_Lexie_and_Connor/AdWords/saatva branding_keywords.csv\",dtype=str)\n",
    "Saatva_Competitor_keywords=pd.read_csv(\"/home/jian/Projects/Saatva/To_Lexie_and_Connor/AdWords/saatva competitors_keywords.csv\",dtype=str,skiprows=2)\n",
    "\n",
    "Saatva_keywords=Saatva_keywords[~((Saatva_keywords['Campaign'].str.contains(\"Loom\")) | (Saatva_keywords['Campaign'].str.contains(\"Leaf\")) | (Saatva_keywords['Campaign'].str.contains(\"Zenhaven\")))]\n",
    "Saatva_keywords['Campaign_Type']=np.where(Saatva_keywords['Search keyword'].str.contains(\"aatva\"),\"SEM_Brand\",\"SEM_Non_Brand\")\n",
    "Saatva_keywords['Impressions']=Saatva_keywords['Impressions'].apply(lambda x: int(x.replace(\",\",\"\")))\n",
    "Saatva_keywords['Impressions']=Saatva_keywords['Impressions'].astype(int)\n",
    "Saatva_keywords['Clicks']=Saatva_keywords['Clicks'].apply(lambda x: int(x.replace(\",\",\"\")))\n",
    "Saatva_keywords['Clicks']=Saatva_keywords['Clicks'].astype(int)\n",
    "Saatva_keywords=Saatva_keywords.groupby(['Campaign','Campaign_Type'])['Impressions','Clicks'].sum()\n",
    "Saatva_keywords.reset_index(inplace=True)\n",
    "Saatva_keywords=Saatva_keywords.sort_values(['Campaign','Impressions'])\n",
    "Saatva_keywords=Saatva_keywords.drop_duplicates('Campaign')\n",
    "Saatva_Campaign_Type=Saatva_keywords[['Campaign','Campaign_Type']]\n",
    "\n",
    "del Saatva_Click_Search_2['Campaign_Type']\n",
    "Saatva_Click_Search_2=pd.merge(Saatva_Click_Search_2,Saatva_Campaign_Type,on=\"Campaign\",how=\"left\")\n",
    "\n",
    "Saatva_Search_Click=Saatva_Click_Search_1.append(Saatva_Click_Search_2)\n",
    "Saatva_Search_Click['Campaign_Type']=Saatva_Search_Click['Campaign_Type'].fillna(\"All_0_Values_and_No_Kws\")\n",
    "'''"
   ]
  },
  {
   "cell_type": "code",
   "execution_count": 56,
   "metadata": {},
   "outputs": [
    {
     "data": {
      "text/html": [
       "<div>\n",
       "<style>\n",
       "    .dataframe thead tr:only-child th {\n",
       "        text-align: right;\n",
       "    }\n",
       "\n",
       "    .dataframe thead th {\n",
       "        text-align: left;\n",
       "    }\n",
       "\n",
       "    .dataframe tbody tr th {\n",
       "        vertical-align: top;\n",
       "    }\n",
       "</style>\n",
       "<table border=\"1\" class=\"dataframe\">\n",
       "  <thead>\n",
       "    <tr style=\"text-align: right;\">\n",
       "      <th></th>\n",
       "      <th>Account</th>\n",
       "      <th>Campaign</th>\n",
       "      <th>Day</th>\n",
       "      <th>Hour of day</th>\n",
       "      <th>Advertising Channel</th>\n",
       "      <th>Network</th>\n",
       "      <th>Network (with search partners)</th>\n",
       "      <th>Impressions</th>\n",
       "      <th>Clicks</th>\n",
       "      <th>Cost</th>\n",
       "      <th>Channel_Network</th>\n",
       "      <th>Campaign_Type</th>\n",
       "    </tr>\n",
       "  </thead>\n",
       "  <tbody>\n",
       "  </tbody>\n",
       "</table>\n",
       "</div>"
      ],
      "text/plain": [
       "Empty DataFrame\n",
       "Columns: [Account, Campaign, Day, Hour of day, Advertising Channel, Network, Network (with search partners), Impressions, Clicks, Cost, Channel_Network, Campaign_Type]\n",
       "Index: []"
      ]
     },
     "execution_count": 56,
     "metadata": {},
     "output_type": "execute_result"
    }
   ],
   "source": [
    "Saatva_Click_Search_2.head(2)"
   ]
  },
  {
   "cell_type": "code",
   "execution_count": 57,
   "metadata": {
    "collapsed": true
   },
   "outputs": [],
   "source": [
    "Saatva_Click=Saatva_Click_Search.append(Saatva_Click_Others)\n",
    "TheSaatvaCompany_Click=TheSaatvaCompany_Click_Search.append(TheSaatvaCompany_Click_Others)\n"
   ]
  },
  {
   "cell_type": "code",
   "execution_count": 58,
   "metadata": {
    "collapsed": true
   },
   "outputs": [],
   "source": [
    "writer=pd.ExcelWriter(writer_folder+\"/Saatva_AdWords_\"+Start_Date_overall+\"_to_\"+End_Data_overall+week+\"_cost.xlsx\",engine='xlsxwriter')"
   ]
  },
  {
   "cell_type": "code",
   "execution_count": 59,
   "metadata": {
    "collapsed": true
   },
   "outputs": [],
   "source": [
    "Saatva_Agg=Saatva_Click.append(Saatva_Brand_Click).append(Saatva_Competitor_Click).append(TheSaatvaCompany_Click).append(TheSaatvaCompanyBranding_Click)\n",
    "Saatva_Agg['Day']=Saatva_Agg['Day'].apply(lambda x: datetime.datetime.strptime(x,\"%Y-%m-%d\").date())\n",
    "Saatva_Agg.reset_index(inplace=True)\n",
    "del Saatva_Agg['index']\n",
    "Saatva_Agg['Hour of day']=Saatva_Agg['Hour of day'].astype(int)\n",
    "Saatva_Agg_Category=Saatva_Agg[['Campaign','Account','Advertising Channel','Campaign_Type']].drop_duplicates()\n",
    "Saatva_Agg_Category.to_excel(writer,\"Campaign Category\",index=False)"
   ]
  },
  {
   "cell_type": "code",
   "execution_count": 60,
   "metadata": {
    "collapsed": true
   },
   "outputs": [],
   "source": [
    "Saatva_Agg=Saatva_Agg.groupby([\"Campaign_Type\",\"Day\",\"Hour of day\"])['Impressions','Clicks', 'Cost'].apply(sum)\n",
    "Saatva_Agg.reset_index(inplace=True)\n",
    "Saatva_Agg['CTR']=Saatva_Agg['Clicks']/Saatva_Agg['Impressions']\n",
    "Saatva_Agg.to_excel(writer,\"reshaped by hour day\",index=False)\n",
    "\n",
    "Saatva_Agg_No_NA=Saatva_Agg[(Saatva_Agg['Campaign_Type']!=\"NA\") & (Saatva_Agg['Campaign_Type']!=\"Search Network with Display Select\")]\n",
    "\n",
    "Saatva_Agg_No_NA.to_excel(writer,\"clean data by hour day\",index=False)"
   ]
  },
  {
   "cell_type": "code",
   "execution_count": 61,
   "metadata": {
    "collapsed": true
   },
   "outputs": [],
   "source": [
    "writer.save()"
   ]
  },
  {
   "cell_type": "code",
   "execution_count": 62,
   "metadata": {
    "collapsed": true
   },
   "outputs": [],
   "source": [
    "AdWords_output=Saatva_Agg.copy()\n",
    "AdWords_output['Date']=AdWords_output['Day'].apply(lambda x: str(x)[0:4]+str(x)[5:7]+str(x)[8:10])\n",
    "AdWords_output=AdWords_output[['Campaign_Type','Date','Hour of day','Impressions','Clicks','Cost']]\n",
    "AdWords_output=AdWords_output.rename(columns={\"Hour of day\":\"Hour\",\"Impressions\":\"IMP\"})\n",
    "AdWords_output=AdWords_output.sort_values([\"Campaign_Type\",\"Date\",\"Hour\"],ascending=[True,True,True])\n",
    "AdWords_output.to_csv(writer_folder+\"/Saatva_AdWords_\"+Start_Date_overall+\"_to_\"+End_Data_overall+week+\"_cost.csv\",index=False)"
   ]
  },
  {
   "cell_type": "code",
   "execution_count": 63,
   "metadata": {
    "collapsed": true
   },
   "outputs": [],
   "source": [
    "Saatva_Agg_Category.to_csv(writer_folder+\"/Saatva_AdWords_Taxonomy_\"+Start_Date_overall+\"_to_\"+End_Data_overall+week+\"_cost.csv\",index=False)\n"
   ]
  },
  {
   "cell_type": "code",
   "execution_count": null,
   "metadata": {
    "collapsed": true
   },
   "outputs": [],
   "source": []
  }
 ],
 "metadata": {
  "kernelspec": {
   "display_name": "Python 3",
   "language": "python",
   "name": "python3"
  },
  "language_info": {
   "codemirror_mode": {
    "name": "ipython",
    "version": 3
   },
   "file_extension": ".py",
   "mimetype": "text/x-python",
   "name": "python",
   "nbconvert_exporter": "python",
   "pygments_lexer": "ipython3",
   "version": "3.6.1"
  }
 },
 "nbformat": 4,
 "nbformat_minor": 2
}
