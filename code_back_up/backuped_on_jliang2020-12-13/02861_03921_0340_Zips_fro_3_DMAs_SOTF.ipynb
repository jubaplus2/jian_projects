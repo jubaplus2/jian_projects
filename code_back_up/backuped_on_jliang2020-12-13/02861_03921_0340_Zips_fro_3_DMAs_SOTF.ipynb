{
 "cells": [
  {
   "cell_type": "code",
   "execution_count": 1,
   "metadata": {
    "collapsed": true
   },
   "outputs": [],
   "source": [
    "import pandas as pd\n",
    "import numpy as np"
   ]
  },
  {
   "cell_type": "code",
   "execution_count": 2,
   "metadata": {
    "collapsed": true
   },
   "outputs": [],
   "source": [
    "store_lists_3_DMAs=pd.read_excel(\"/home/jian/Projects/Big_Lots/New_TA/P_S_Selections/0531_Kayla_Request/SOTF_3DMAs_0531.xlsx\",dtype=str)"
   ]
  },
  {
   "cell_type": "code",
   "execution_count": 3,
   "metadata": {},
   "outputs": [],
   "source": [
    "store_lists_3_DMAs=store_lists_3_DMAs.fillna(\"nan\")"
   ]
  },
  {
   "cell_type": "code",
   "execution_count": 4,
   "metadata": {
    "collapsed": true
   },
   "outputs": [],
   "source": [
    "Columns_SOTF_stores=[x for x in store_lists_3_DMAs['COLUMBUS, OH'] if x!=\"nan\"]\n",
    "AUSTIN_SOTF_stores=[x for x in store_lists_3_DMAs['AUSTIN'] if x!=\"nan\"]\n",
    "PHOENIX_SOTF_stores=[x for x in store_lists_3_DMAs['PHOENIX (PRESCOTT)'] if x!=\"nan\"]"
   ]
  },
  {
   "cell_type": "code",
   "execution_count": 5,
   "metadata": {
    "collapsed": true
   },
   "outputs": [],
   "source": [
    "sales_zip_by_store=pd.read_csv(\"/home/jian/Projects/Big_Lots/New_TA/P_S_Selections/0531_Kayla_Request/sales_by_zip.csv\",dtype=str)"
   ]
  },
  {
   "cell_type": "code",
   "execution_count": 6,
   "metadata": {
    "collapsed": true
   },
   "outputs": [],
   "source": [
    "sales_zip_by_store=sales_zip_by_store[['zip','revenue_flag','location_id']].drop_duplicates()"
   ]
  },
  {
   "cell_type": "code",
   "execution_count": 7,
   "metadata": {
    "collapsed": true
   },
   "outputs": [],
   "source": [
    "df_location_dma=pd.DataFrame(columns=[\"location_id\",\"DMA\"])\n",
    "df_Columns=pd.DataFrame(columns=[\"location_id\",\"DMA\"])\n",
    "df_Columns['location_id']=Columns_SOTF_stores\n",
    "df_Columns['DMA']=\"COLUMBUS, OH\"\n",
    "\n",
    "df_AUSTIN=pd.DataFrame(columns=[\"location_id\",\"DMA\"])\n",
    "df_AUSTIN['location_id']=AUSTIN_SOTF_stores\n",
    "df_AUSTIN['DMA']=\"AUSTIN\"\n",
    "\n",
    "df_PHOENIX=pd.DataFrame(columns=[\"location_id\",\"DMA\"])\n",
    "df_PHOENIX['location_id']=PHOENIX_SOTF_stores\n",
    "df_PHOENIX['DMA']=\"PHOENIX (PRESCOTT)\"\n",
    "\n",
    "df_location_dma=df_Columns.append(df_AUSTIN).append(df_PHOENIX)\n",
    "df_location_dma=df_location_dma.reset_index()\n",
    "del df_location_dma['index']"
   ]
  },
  {
   "cell_type": "code",
   "execution_count": 8,
   "metadata": {
    "collapsed": true
   },
   "outputs": [],
   "source": [
    "sales_zip_by_store['location_id']=sales_zip_by_store['location_id'].apply(lambda x: x.replace(\" \",\"\"))\n",
    "sales_zip_by_store['location_id']=sales_zip_by_store['location_id'].apply(lambda x: x.replace(\" \",\"\"))\n",
    "sales_zip_by_store['location_id']=sales_zip_by_store['location_id'].apply(lambda x: x.replace(\" \",\"\"))\n",
    "\n",
    "df_location_dma['location_id']=df_location_dma['location_id'].apply(lambda x: x.replace(\" \",\"\"))\n",
    "df_location_dma['location_id']=df_location_dma['location_id'].apply(lambda x: x.replace(\" \",\"\"))\n",
    "df_location_dma['location_id']=df_location_dma['location_id'].apply(lambda x: x.replace(\" \",\"\"))"
   ]
  },
  {
   "cell_type": "code",
   "execution_count": 9,
   "metadata": {
    "collapsed": true
   },
   "outputs": [],
   "source": [
    "sales_zip_by_store_P_S=sales_zip_by_store[sales_zip_by_store['location_id'].isin(df_location_dma['location_id'])]\n",
    "sales_zip_by_store_P_S=sales_zip_by_store_P_S[sales_zip_by_store_P_S['revenue_flag'].isin([\"P\",\"S\"])]\n",
    "sales_zip_by_store_P_S=pd.merge(sales_zip_by_store_P_S,df_location_dma,on=\"location_id\",how=\"left\")\n",
    "sales_zip_by_store_P_S=sales_zip_by_store_P_S.rename(columns={\"DMA\":\"DMA_for_store\"})"
   ]
  },
  {
   "cell_type": "code",
   "execution_count": 10,
   "metadata": {},
   "outputs": [
    {
     "data": {
      "text/html": [
       "<div>\n",
       "<style>\n",
       "    .dataframe thead tr:only-child th {\n",
       "        text-align: right;\n",
       "    }\n",
       "\n",
       "    .dataframe thead th {\n",
       "        text-align: left;\n",
       "    }\n",
       "\n",
       "    .dataframe tbody tr th {\n",
       "        vertical-align: top;\n",
       "    }\n",
       "</style>\n",
       "<table border=\"1\" class=\"dataframe\">\n",
       "  <thead>\n",
       "    <tr style=\"text-align: right;\">\n",
       "      <th></th>\n",
       "      <th>zip</th>\n",
       "      <th>revenue_flag</th>\n",
       "      <th>location_id</th>\n",
       "      <th>DMA_for_store</th>\n",
       "    </tr>\n",
       "  </thead>\n",
       "  <tbody>\n",
       "    <tr>\n",
       "      <th>0</th>\n",
       "      <td>43232</td>\n",
       "      <td>P</td>\n",
       "      <td>1</td>\n",
       "      <td>COLUMBUS, OH</td>\n",
       "    </tr>\n",
       "    <tr>\n",
       "      <th>1</th>\n",
       "      <td>43209</td>\n",
       "      <td>P</td>\n",
       "      <td>1</td>\n",
       "      <td>COLUMBUS, OH</td>\n",
       "    </tr>\n",
       "  </tbody>\n",
       "</table>\n",
       "</div>"
      ],
      "text/plain": [
       "     zip revenue_flag location_id DMA_for_store\n",
       "0  43232            P           1  COLUMBUS, OH\n",
       "1  43209            P           1  COLUMBUS, OH"
      ]
     },
     "execution_count": 10,
     "metadata": {},
     "output_type": "execute_result"
    }
   ],
   "source": [
    "sales_zip_by_store_P_S.head(2)"
   ]
  },
  {
   "cell_type": "code",
   "execution_count": 17,
   "metadata": {
    "collapsed": true
   },
   "outputs": [],
   "source": [
    "Nielsen_Zip_DMA=pd.read_excel(\"/home/jian/Projects/Big_Lots/New_TA/P_S_Selections/0531_Kayla_Request/Zips by DMA by County16-17 nielsen.xlsx\",skiprows=1,dtype=str)\n",
    "Nielsen_Zip_DMA=Nielsen_Zip_DMA.iloc[:,[0,2]].drop_duplicates()\n",
    "Nielsen_Zip_DMA=Nielsen_Zip_DMA.rename(columns={\"CODE\":\"zip_cd\",\"NAME\":\"DMA\"})\n",
    "Nielsen_Zip_DMA=Nielsen_Zip_DMA[Nielsen_Zip_DMA['DMA'].isin(df_location_dma['DMA'])]\n",
    "Nielsen_Zip_DMA_Blance=Nielsen_Zip_DMA[~Nielsen_Zip_DMA['zip_cd'].isin(sales_zip_by_store_P_S['zip'])]"
   ]
  },
  {
   "cell_type": "code",
   "execution_count": 32,
   "metadata": {},
   "outputs": [],
   "source": [
    "writer=pd.ExcelWriter(\"/home/jian/Projects/Big_Lots/New_TA/P_S_Selections/0531_Kayla_Request/BL_3 DMAs zips for SOTF_20180531.xlsx\",engine=\"xlsxwriter\")"
   ]
  },
  {
   "cell_type": "code",
   "execution_count": 33,
   "metadata": {},
   "outputs": [],
   "source": [
    "sales_zip_by_store_P_S.to_excel(writer,\"P_S_Zips_3 DMAs\",index=False)\n",
    "Nielsen_Zip_DMA_Blance.to_excel(writer,\"P_S_Balance_3 DMAs\",index=False)\n",
    "writer.save()"
   ]
  },
  {
   "cell_type": "code",
   "execution_count": null,
   "metadata": {
    "collapsed": true
   },
   "outputs": [],
   "source": []
  }
 ],
 "metadata": {
  "kernelspec": {
   "display_name": "Python 3",
   "language": "python",
   "name": "python3"
  },
  "language_info": {
   "codemirror_mode": {
    "name": "ipython",
    "version": 3
   },
   "file_extension": ".py",
   "mimetype": "text/x-python",
   "name": "python",
   "nbconvert_exporter": "python",
   "pygments_lexer": "ipython3",
   "version": "3.6.1"
  }
 },
 "nbformat": 4,
 "nbformat_minor": 2
}
