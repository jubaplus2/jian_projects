{
 "cells": [
  {
   "cell_type": "code",
   "execution_count": 1,
   "metadata": {},
   "outputs": [
    {
     "data": {
      "text/plain": [
       "'/home/jian/Projects/Big_Lots/Analysis/2019_Q2/Planner_Requests/Bruce_2019Q1_uploaded_groups'"
      ]
     },
     "execution_count": 1,
     "metadata": {},
     "output_type": "execute_result"
    }
   ],
   "source": [
    "import pandas as pd\n",
    "import numpy as np\n",
    "import os\n",
    "import gc\n",
    "import datetime\n",
    "import glob\n",
    "\n",
    "os.getcwd()"
   ]
  },
  {
   "cell_type": "code",
   "execution_count": 2,
   "metadata": {},
   "outputs": [
    {
     "data": {
      "text/plain": [
       "72"
      ]
     },
     "execution_count": 2,
     "metadata": {},
     "output_type": "execute_result"
    }
   ],
   "source": [
    "file_id_groups=glob.glob(\"/home/jian/Projects/Big_Lots/Live_Ramp/Quarterly_Update_2019Q1/crm_newscore_20190107/by_group_quadrant_24/*.csv\")\n",
    "\n",
    "len(file_id_groups)"
   ]
  },
  {
   "cell_type": "code",
   "execution_count": 4,
   "metadata": {},
   "outputs": [
    {
     "name": "stdout",
     "output_type": "stream",
     "text": [
      "(18654857, 2)\n"
     ]
    }
   ],
   "source": [
    "df_all_Q1_segments=pd.DataFrame()\n",
    "for file in file_id_groups:\n",
    "    df=pd.read_csv(file,dtype=str,usecols=['customer_id_hashed','segment'])\n",
    "    df_all_Q1_segments=df_all_Q1_segments.append(df)\n",
    "print(df_all_Q1_segments.shape)"
   ]
  },
  {
   "cell_type": "code",
   "execution_count": 18,
   "metadata": {},
   "outputs": [
    {
     "data": {
      "text/plain": [
       "18654857"
      ]
     },
     "execution_count": 18,
     "metadata": {},
     "output_type": "execute_result"
    }
   ],
   "source": [
    "df_all_Q1_segments['customer_id_hashed'].nunique()"
   ]
  },
  {
   "cell_type": "code",
   "execution_count": 5,
   "metadata": {},
   "outputs": [],
   "source": [
    "def recursive_file_gen(root_path):\n",
    "    for root_path, dirs, files in os.walk(root_path):\n",
    "        for file in files:\n",
    "            yield os.path.join(root_path,file)\n",
    "            \n",
    "list_2019_Q1_item_files=list(recursive_file_gen(\"/home/jian/BigLots/2019_by_weeks/\"))\n",
    "list_2019_Q1_item_files=[x for x in list_2019_Q1_item_files if \"ily\" in x]\n",
    "df_2019_Q1_item_files=pd.DataFrame({\"file_path\":list_2019_Q1_item_files})\n",
    "df_2019_Q1_item_files['week_end_dt']=df_2019_Q1_item_files['file_path'].apply(lambda x: x.split(\"MediaStorm_\")[1][:10])\n",
    "df_2019_Q1_item_files=df_2019_Q1_item_files[(df_2019_Q1_item_files['week_end_dt']<=\"2019-05-04\") & (df_2019_Q1_item_files['week_end_dt']>=\"2019-02-16\")]\n",
    "\n",
    "\n",
    "extra_1_week=pd.DataFrame({\"file_path\":\"/home/jian/BigLots/hist_daily_data_itemlevel_decompressed/MediaStormDailySalesHistory20190209.txt\",\n",
    "                          \"week_end_dt\":\"2019-02-09\"},index=[0])\n",
    "\n",
    "df_2019_Q1_item_files=df_2019_Q1_item_files.append(extra_1_week)\n",
    "df_2019_Q1_item_files=df_2019_Q1_item_files.sort_values(\"week_end_dt\").reset_index()\n",
    "del df_2019_Q1_item_files['index']"
   ]
  },
  {
   "cell_type": "code",
   "execution_count": 14,
   "metadata": {},
   "outputs": [
    {
     "name": "stdout",
     "output_type": "stream",
     "text": [
      "2019-07-31 13:40:21.805065 /home/jian/BigLots/hist_daily_data_itemlevel_decompressed/MediaStormDailySalesHistory20190209.txt\n",
      "2019-07-31 13:43:52.552775 /home/jian/BigLots/2019_by_weeks/MediaStorm_2019-02-16/MediaStormDailySales20190219-113605-481.txt\n",
      "2019-07-31 13:49:47.264970 /home/jian/BigLots/2019_by_weeks/MediaStorm_2019-02-23/MediaStormDailySales20190226-112611-940.txt\n",
      "2019-07-31 13:55:38.727928 /home/jian/BigLots/2019_by_weeks/MediaStorm_2019-03-02/MediaStormDailySales20190305-112738-899.txt\n",
      "2019-07-31 14:03:34.864230 /home/jian/BigLots/2019_by_weeks/MediaStorm_2019-03-09/MediaStormDailySales20190312-121205-996.txt\n",
      "2019-07-31 14:13:26.368556 /home/jian/BigLots/2019_by_weeks/MediaStorm_2019-03-16/MediaStormDailySales20190319-112334-057.txt\n",
      "2019-07-31 14:19:21.653047 /home/jian/BigLots/2019_by_weeks/MediaStorm_2019-03-23/MediaStormDailySales20190326-112740-903.txt\n",
      "2019-07-31 14:24:04.619915 /home/jian/BigLots/2019_by_weeks/MediaStorm_2019-03-30/MediaStormDailySales20190402-112556-551.txt\n",
      "2019-07-31 14:31:39.191007 /home/jian/BigLots/2019_by_weeks/MediaStorm_2019-04-06/MediaStormDailySales20190409-122759-093.txt\n",
      "2019-07-31 14:36:55.380176 /home/jian/BigLots/2019_by_weeks/MediaStorm_2019-04-13/MediaStormDailySales20190416-112824-908.txt\n",
      "2019-07-31 14:39:04.362501 /home/jian/BigLots/2019_by_weeks/MediaStorm_2019-04-20/MediaStormDailySales20190423-112124-771.txt\n",
      "2019-07-31 14:40:33.588240 /home/jian/BigLots/2019_by_weeks/MediaStorm_2019-04-27/MediaStormDailySales20190430-112453-448.txt\n",
      "2019-07-31 14:42:44.921633 /home/jian/BigLots/2019_by_weeks/MediaStorm_2019-05-04/MediaStormDailySales20190507-113110-141.txt\n"
     ]
    },
    {
     "data": {
      "text/plain": [
       "(17099863, 5)"
      ]
     },
     "execution_count": 14,
     "metadata": {},
     "output_type": "execute_result"
    }
   ],
   "source": [
    "df_all_sales_by_id_week=pd.DataFrame()\n",
    "for file in df_2019_Q1_item_files['file_path'].tolist():\n",
    "    df=pd.read_table(file,dtype=str,sep=\"|\",\n",
    "                    usecols=['location_id','customer_id_hashed','transaction_dt','transaction_id','item_transaction_amt'])\n",
    "    df=df[pd.notnull(df['customer_id_hashed'])]\n",
    "    df['item_transaction_amt']=df['item_transaction_amt'].astype(float)\n",
    "    \n",
    "    df_sales=df.groupby(['customer_id_hashed','transaction_dt','location_id'])['item_transaction_amt'].sum().to_frame().reset_index().rename(columns={\"item_transaction_amt\":\"sales\"})\n",
    "    \n",
    "    df_trans=df[['customer_id_hashed','transaction_dt','location_id','transaction_id']].drop_duplicates()\n",
    "    df_trans=df_trans.groupby(['customer_id_hashed','transaction_dt','location_id'])['transaction_id'].count().to_frame().reset_index().rename(columns={\"transaction_id\":\"trans\"})\n",
    "    \n",
    "    df=pd.merge(df_sales,df_trans,on=['customer_id_hashed','transaction_dt','location_id'],how=\"outer\")\n",
    "    \n",
    "    df['store_type']=np.where(df['location_id']==\"6990\",\"Online\",\"Instore\")\n",
    "    df=df.groupby(['customer_id_hashed','transaction_dt','store_type'])['sales',\"trans\"].sum().reset_index()\n",
    "    df_all_sales_by_id_week=df_all_sales_by_id_week.append(df)\n",
    "    print(datetime.datetime.now(),file)\n",
    "    \n",
    "df_all_sales_by_id_week.shape"
   ]
  },
  {
   "cell_type": "code",
   "execution_count": 16,
   "metadata": {},
   "outputs": [
    {
     "data": {
      "text/plain": [
       "'2019-02-03'"
      ]
     },
     "execution_count": 16,
     "metadata": {},
     "output_type": "execute_result"
    }
   ],
   "source": [
    "df_all_sales_by_id_week['transaction_dt'].min()"
   ]
  },
  {
   "cell_type": "code",
   "execution_count": 17,
   "metadata": {},
   "outputs": [
    {
     "data": {
      "text/plain": [
       "'2019-05-04'"
      ]
     },
     "execution_count": 17,
     "metadata": {},
     "output_type": "execute_result"
    }
   ],
   "source": [
    "df_all_sales_by_id_week['transaction_dt'].max()"
   ]
  },
  {
   "cell_type": "code",
   "execution_count": 30,
   "metadata": {},
   "outputs": [
    {
     "data": {
      "text/html": [
       "<div>\n",
       "<style>\n",
       "    .dataframe thead tr:only-child th {\n",
       "        text-align: right;\n",
       "    }\n",
       "\n",
       "    .dataframe thead th {\n",
       "        text-align: left;\n",
       "    }\n",
       "\n",
       "    .dataframe tbody tr th {\n",
       "        vertical-align: top;\n",
       "    }\n",
       "</style>\n",
       "<table border=\"1\" class=\"dataframe\">\n",
       "  <thead>\n",
       "    <tr style=\"text-align: right;\">\n",
       "      <th></th>\n",
       "      <th>customer_id_hashed</th>\n",
       "      <th>transaction_dt</th>\n",
       "      <th>store_type</th>\n",
       "      <th>sales</th>\n",
       "      <th>trans</th>\n",
       "    </tr>\n",
       "  </thead>\n",
       "  <tbody>\n",
       "    <tr>\n",
       "      <th>0</th>\n",
       "      <td>000009e0ff428cd05649d579c6b188ad41635b662f79f5...</td>\n",
       "      <td>2019-02-08</td>\n",
       "      <td>Instore</td>\n",
       "      <td>8.45</td>\n",
       "      <td>1</td>\n",
       "    </tr>\n",
       "    <tr>\n",
       "      <th>1</th>\n",
       "      <td>00002227290330cf6112d04470e512057ba4b50ab64c9f...</td>\n",
       "      <td>2019-02-07</td>\n",
       "      <td>Instore</td>\n",
       "      <td>4.05</td>\n",
       "      <td>1</td>\n",
       "    </tr>\n",
       "  </tbody>\n",
       "</table>\n",
       "</div>"
      ],
      "text/plain": [
       "                                  customer_id_hashed transaction_dt  \\\n",
       "0  000009e0ff428cd05649d579c6b188ad41635b662f79f5...     2019-02-08   \n",
       "1  00002227290330cf6112d04470e512057ba4b50ab64c9f...     2019-02-07   \n",
       "\n",
       "  store_type  sales  trans  \n",
       "0    Instore   8.45      1  \n",
       "1    Instore   4.05      1  "
      ]
     },
     "execution_count": 30,
     "metadata": {},
     "output_type": "execute_result"
    }
   ],
   "source": [
    "df_all_sales_by_id_week.head(2)"
   ]
  },
  {
   "cell_type": "code",
   "execution_count": 34,
   "metadata": {},
   "outputs": [
    {
     "data": {
      "text/html": [
       "<div>\n",
       "<style>\n",
       "    .dataframe thead tr:only-child th {\n",
       "        text-align: right;\n",
       "    }\n",
       "\n",
       "    .dataframe thead th {\n",
       "        text-align: left;\n",
       "    }\n",
       "\n",
       "    .dataframe tbody tr th {\n",
       "        vertical-align: top;\n",
       "    }\n",
       "</style>\n",
       "<table border=\"1\" class=\"dataframe\">\n",
       "  <thead>\n",
       "    <tr style=\"text-align: right;\">\n",
       "      <th></th>\n",
       "      <th>customer_id_hashed</th>\n",
       "      <th>sales_Instore</th>\n",
       "      <th>trans_Instore</th>\n",
       "      <th>sales_Online</th>\n",
       "      <th>trans_Online</th>\n",
       "      <th>segment</th>\n",
       "    </tr>\n",
       "  </thead>\n",
       "  <tbody>\n",
       "    <tr>\n",
       "      <th>0</th>\n",
       "      <td>00000435bfb3bf42e3beb4c9b3942c552d09f0e49e5a75...</td>\n",
       "      <td>31.59</td>\n",
       "      <td>3.0</td>\n",
       "      <td>0.0</td>\n",
       "      <td>0.0</td>\n",
       "      <td>T_Quadrant I_P_H_2019Q1</td>\n",
       "    </tr>\n",
       "    <tr>\n",
       "      <th>1</th>\n",
       "      <td>000007eccbfdc528a745aea90d34404b4fae9fbad2525f...</td>\n",
       "      <td>15.44</td>\n",
       "      <td>1.0</td>\n",
       "      <td>0.0</td>\n",
       "      <td>0.0</td>\n",
       "      <td>not_defined</td>\n",
       "    </tr>\n",
       "  </tbody>\n",
       "</table>\n",
       "</div>"
      ],
      "text/plain": [
       "                                  customer_id_hashed  sales_Instore  \\\n",
       "0  00000435bfb3bf42e3beb4c9b3942c552d09f0e49e5a75...          31.59   \n",
       "1  000007eccbfdc528a745aea90d34404b4fae9fbad2525f...          15.44   \n",
       "\n",
       "   trans_Instore  sales_Online  trans_Online                  segment  \n",
       "0            3.0           0.0           0.0  T_Quadrant I_P_H_2019Q1  \n",
       "1            1.0           0.0           0.0              not_defined  "
      ]
     },
     "execution_count": 34,
     "metadata": {},
     "output_type": "execute_result"
    }
   ],
   "source": [
    "df_all_sales_by_id=df_all_sales_by_id_week.groupby(['customer_id_hashed','store_type'])['sales','trans'].sum().reset_index()\n",
    "\n",
    "df_all_sales_by_id_Ecom=df_all_sales_by_id[df_all_sales_by_id['store_type']==\"Online\"]\n",
    "del df_all_sales_by_id_Ecom['store_type']\n",
    "df_all_sales_by_id_Ecom=df_all_sales_by_id_Ecom.rename(columns={\"sales\":\"sales_Online\",\"trans\":\"trans_Online\"})\n",
    "\n",
    "\n",
    "df_all_sales_by_id_POS=df_all_sales_by_id[df_all_sales_by_id['store_type']==\"Instore\"]\n",
    "del df_all_sales_by_id_POS['store_type']\n",
    "df_all_sales_by_id_POS=df_all_sales_by_id_POS.rename(columns={\"sales\":\"sales_Instore\",\"trans\":\"trans_Instore\"})\n",
    "\n",
    "df_all_sales_by_id=pd.merge(df_all_sales_by_id_POS,df_all_sales_by_id_Ecom,on=\"customer_id_hashed\",how=\"outer\")\n",
    "df_all_sales_by_id=df_all_sales_by_id.fillna(0)\n",
    "\n",
    "df_all_sales_by_id=pd.merge(df_all_sales_by_id,df_all_Q1_segments,on=\"customer_id_hashed\",how=\"outer\")\n",
    "df_all_sales_by_id['segment']=df_all_sales_by_id['segment'].fillna(\"not_defined\")\n",
    "\n",
    "df_all_sales_by_id.head(2)"
   ]
  },
  {
   "cell_type": "code",
   "execution_count": 35,
   "metadata": {},
   "outputs": [
    {
     "data": {
      "text/plain": [
       "(20861451, 6)"
      ]
     },
     "execution_count": 35,
     "metadata": {},
     "output_type": "execute_result"
    }
   ],
   "source": [
    "df_all_sales_by_id.shape"
   ]
  },
  {
   "cell_type": "code",
   "execution_count": 36,
   "metadata": {},
   "outputs": [],
   "source": [
    "df_all_sales_by_id['shoppers']=np.where(((df_all_sales_by_id['trans_Instore']>0) | (df_all_sales_by_id['trans_Online']>0)),1,0)\n",
    "df_all_sales_by_id['id_count']=1"
   ]
  },
  {
   "cell_type": "code",
   "execution_count": 37,
   "metadata": {},
   "outputs": [
    {
     "data": {
      "text/plain": [
       "(73, 7)"
      ]
     },
     "execution_count": 37,
     "metadata": {},
     "output_type": "execute_result"
    }
   ],
   "source": [
    "df_output_by_group=df_all_sales_by_id.groupby(\"segment\")['id_count','shoppers','sales_Instore','trans_Instore','sales_Online','trans_Online'].sum().reset_index()\n",
    "df_output_by_group.shape\n"
   ]
  },
  {
   "cell_type": "code",
   "execution_count": 38,
   "metadata": {},
   "outputs": [],
   "source": [
    "df_output_by_group.to_csv(\"./BL_2019Q1_liveramp_id_summary_by_group_JL_\"+str(datetime.datetime.now().date())+\".csv\",index=False)\n"
   ]
  },
  {
   "cell_type": "code",
   "execution_count": null,
   "metadata": {
    "collapsed": true
   },
   "outputs": [],
   "source": []
  }
 ],
 "metadata": {
  "kernelspec": {
   "display_name": "Python 3",
   "language": "python",
   "name": "python3"
  },
  "language_info": {
   "codemirror_mode": {
    "name": "ipython",
    "version": 3
   },
   "file_extension": ".py",
   "mimetype": "text/x-python",
   "name": "python",
   "nbconvert_exporter": "python",
   "pygments_lexer": "ipython3",
   "version": "3.6.1"
  }
 },
 "nbformat": 4,
 "nbformat_minor": 2
}
