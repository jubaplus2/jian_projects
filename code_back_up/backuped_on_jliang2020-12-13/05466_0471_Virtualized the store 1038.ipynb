{
 "cells": [
  {
   "cell_type": "code",
   "execution_count": 61,
   "metadata": {},
   "outputs": [],
   "source": [
    "import pandas as pd\n",
    "import ete3\n",
    "import numpy as np"
   ]
  },
  {
   "cell_type": "code",
   "execution_count": 15,
   "metadata": {},
   "outputs": [
    {
     "data": {
      "text/plain": [
       "4055669"
      ]
     },
     "execution_count": 15,
     "metadata": {},
     "output_type": "execute_result"
    }
   ],
   "source": [
    "data=pd.read_excel(\"/home/jian/Projects/Big_Lots/Loyal_members/Rewards_Members_Distritbution_Analysis/output/BL_unique_id_by_store_2018-10-02.xlsx\",\n",
    "                  dtype=str,sheetname=\"ids_went_2_stores\")\n",
    "data['unique_id_count']=data['unique_id_count'].astype(int)\n",
    "data['distance']=data['distance'].astype(float)\n",
    "data['unique_id_count'].sum()"
   ]
  },
  {
   "cell_type": "code",
   "execution_count": 49,
   "metadata": {},
   "outputs": [],
   "source": [
    "data_1=data[(data['store_1']==\"1666\") | (data['store_2']==\"1666\")]\n",
    "data_1666=data_1666.reset_index()\n",
    "del data_1666['index']\n",
    "data_1666['Fix_store']=\"1666\"\n",
    "data_1666['Other_store']=np.where(data_1666['store_1']==\"1666\",data_1666['store_2'],data_1666['store_1'])\n",
    "\n",
    "\n",
    "data_1666_above_20_miles=data_1666[data_1666['distance']>20]\n",
    "data_1666_above_20_miles=data_1666_above_20_miles[['Fix_store','Other_store','distance','unique_id_count']]\n",
    "data_1666_in_20_miles=data_1666[data_1666['distance']<=20]\n",
    "data_1666_in_20_miles=data_1666_in_20_miles[['Fix_store','Other_store','distance','unique_id_count']]\n",
    "\n",
    "distance_dict=data_1666_in_20_miles.set_index(['Other_store']).to_dict()['distance']\n",
    "id_counts_dict=data_1666_in_20_miles.set_index(['Other_store']).to_dict()['unique_id_count']"
   ]
  },
  {
   "cell_type": "code",
   "execution_count": 52,
   "metadata": {
    "collapsed": true
   },
   "outputs": [],
   "source": [
    "other_store_list=data_1666_in_20_miles['Other_store'].unique().tolist()"
   ]
  },
  {
   "cell_type": "code",
   "execution_count": 62,
   "metadata": {},
   "outputs": [
    {
     "ename": "AttributeError",
     "evalue": "module 'ete3' has no attribute 'TreeStyle'",
     "output_type": "error",
     "traceback": [
      "\u001b[0;31m---------------------------------------------------------------------------\u001b[0m",
      "\u001b[0;31mAttributeError\u001b[0m                            Traceback (most recent call last)",
      "\u001b[0;32m<ipython-input-62-f7aba6de0f48>\u001b[0m in \u001b[0;36m<module>\u001b[0;34m()\u001b[0m\n\u001b[1;32m      5\u001b[0m     \u001b[0mlocals\u001b[0m\u001b[0;34m(\u001b[0m\u001b[0;34m)\u001b[0m\u001b[0;34m[\u001b[0m\u001b[0;34m'Child_'\u001b[0m\u001b[0;34m+\u001b[0m\u001b[0mstr\u001b[0m\u001b[0;34m(\u001b[0m\u001b[0mi\u001b[0m\u001b[0;34m)\u001b[0m\u001b[0;34m]\u001b[0m\u001b[0;34m=\u001b[0m\u001b[0mtree_x\u001b[0m\u001b[0;34m.\u001b[0m\u001b[0madd_child\u001b[0m\u001b[0;34m(\u001b[0m\u001b[0mname\u001b[0m\u001b[0;34m=\u001b[0m\u001b[0mother_store\u001b[0m\u001b[0;34m,\u001b[0m\u001b[0msupport\u001b[0m\u001b[0;34m=\u001b[0m\u001b[0mid_counts_dict\u001b[0m\u001b[0;34m[\u001b[0m\u001b[0mother_store\u001b[0m\u001b[0;34m]\u001b[0m\u001b[0;34m,\u001b[0m\u001b[0mdist\u001b[0m\u001b[0;34m=\u001b[0m\u001b[0mdistance_dict\u001b[0m\u001b[0;34m[\u001b[0m\u001b[0mother_store\u001b[0m\u001b[0;34m]\u001b[0m\u001b[0;34m)\u001b[0m\u001b[0;34m\u001b[0m\u001b[0m\n\u001b[1;32m      6\u001b[0m \u001b[0;34m\u001b[0m\u001b[0m\n\u001b[0;32m----> 7\u001b[0;31m \u001b[0mts\u001b[0m \u001b[0;34m=\u001b[0m \u001b[0mete3\u001b[0m\u001b[0;34m.\u001b[0m\u001b[0mTreeStyle\u001b[0m\u001b[0;34m(\u001b[0m\u001b[0;34m)\u001b[0m\u001b[0;34m\u001b[0m\u001b[0m\n\u001b[0m\u001b[1;32m      8\u001b[0m \u001b[0mts\u001b[0m\u001b[0;34m.\u001b[0m\u001b[0mshow_leaf_name\u001b[0m \u001b[0;34m=\u001b[0m \u001b[0;32mFalse\u001b[0m\u001b[0;34m\u001b[0m\u001b[0m\n\u001b[1;32m      9\u001b[0m \u001b[0;32mdef\u001b[0m \u001b[0mmy_layout\u001b[0m\u001b[0;34m(\u001b[0m\u001b[0mnode\u001b[0m\u001b[0;34m)\u001b[0m\u001b[0;34m:\u001b[0m\u001b[0;34m\u001b[0m\u001b[0m\n",
      "\u001b[0;31mAttributeError\u001b[0m: module 'ete3' has no attribute 'TreeStyle'"
     ]
    }
   ],
   "source": [
    "tree_x=ete3.Tree()\n",
    "\n",
    "for i in range(len(other_store_list)):\n",
    "    other_store=other_store_list[i]\n",
    "    locals()['Child_'+str(i)]=tree_x.add_child(name=other_store,support=id_counts_dict[other_store],dist=distance_dict[other_store])\n",
    "    \n",
    "ts = ete3.TreeStyle()\n",
    "ts.show_leaf_name = False\n",
    "def my_layout(node):\n",
    "    F = TextFace(node.name, tight_text=True)\n",
    "    ete3.faces.add_face_to_node(F, node, column=0, position=\"branch-right\")\n",
    "ts.layout_fn = my_layout\n",
    "\n",
    "ts.show_branch_support = True\n"
   ]
  },
  {
   "cell_type": "code",
   "execution_count": 44,
   "metadata": {},
   "outputs": [
    {
     "data": {
      "text/plain": [
       "{'1': 128,\n",
       " '1379': 1326,\n",
       " '1667': 374,\n",
       " '1668': 462,\n",
       " '410': 524,\n",
       " '429': 600,\n",
       " '451': 243,\n",
       " '5092': 1106,\n",
       " '5243': 447,\n",
       " '5324': 186,\n",
       " '5356': 637}"
      ]
     },
     "execution_count": 44,
     "metadata": {},
     "output_type": "execute_result"
    }
   ],
   "source": [
    "id_counts_dict"
   ]
  },
  {
   "cell_type": "code",
   "execution_count": 45,
   "metadata": {},
   "outputs": [],
   "source": [
    "data_1=data[(data['store_1']==\"1\") | (data['store_2']==\"1\")]\n",
    "data_1=data_1.reset_index()\n",
    "del data_1['index']\n",
    "data_1['Fix_store']=\"1\"\n",
    "data_1['Other_store']=np.where(data_1['store_1']==\"1\",data_1['store_2'],data_1['store_1'])\n",
    "\n",
    "\n",
    "data_1_above_20_miles=data_1[data_1['distance']>20]\n",
    "data_1_above_20_miles=data_1_above_20_miles[['Fix_store','Other_store','distance','unique_id_count']]\n",
    "data_1_in_20_miles=data_1[data_1['distance']<=20]\n",
    "data_1_in_20_miles=data_1_in_20_miles[['Fix_store','Other_store','distance','unique_id_count']]\n",
    "\n",
    "distance_dict=data_1_in_20_miles.set_index(['Other_store']).to_dict()['distance']\n",
    "id_counts_dict=data_1_in_20_miles.set_index(['Other_store']).to_dict()['unique_id_count']"
   ]
  },
  {
   "cell_type": "code",
   "execution_count": 47,
   "metadata": {},
   "outputs": [
    {
     "data": {
      "text/plain": [
       "{'1379': 16.172938139315381,\n",
       " '1666': 15.96860763043648,\n",
       " '1668': 13.55486177433718,\n",
       " '410': 10.611393975011289,\n",
       " '451': 8.5414883798262817,\n",
       " '5092': 13.96873616133181,\n",
       " '5176': 7.0941844722970719,\n",
       " '5243': 11.018852728877841,\n",
       " '5324': 4.9025600207156987,\n",
       " '5356': 8.6213685816291044}"
      ]
     },
     "execution_count": 47,
     "metadata": {},
     "output_type": "execute_result"
    }
   ],
   "source": [
    "distance_dict"
   ]
  },
  {
   "cell_type": "code",
   "execution_count": 48,
   "metadata": {},
   "outputs": [
    {
     "data": {
      "text/plain": [
       "{'1379': 124,\n",
       " '1666': 128,\n",
       " '1668': 196,\n",
       " '410': 541,\n",
       " '451': 499,\n",
       " '5092': 102,\n",
       " '5176': 1069,\n",
       " '5243': 419,\n",
       " '5324': 2879,\n",
       " '5356': 199}"
      ]
     },
     "execution_count": 48,
     "metadata": {},
     "output_type": "execute_result"
    }
   ],
   "source": [
    "id_counts_dict"
   ]
  },
  {
   "cell_type": "code",
   "execution_count": null,
   "metadata": {
    "collapsed": true
   },
   "outputs": [],
   "source": []
  }
 ],
 "metadata": {
  "kernelspec": {
   "display_name": "Python 3",
   "language": "python",
   "name": "python3"
  },
  "language_info": {
   "codemirror_mode": {
    "name": "ipython",
    "version": 3
   },
   "file_extension": ".py",
   "mimetype": "text/x-python",
   "name": "python",
   "nbconvert_exporter": "python",
   "pygments_lexer": "ipython3",
   "version": "3.6.1"
  }
 },
 "nbformat": 4,
 "nbformat_minor": 2
}
