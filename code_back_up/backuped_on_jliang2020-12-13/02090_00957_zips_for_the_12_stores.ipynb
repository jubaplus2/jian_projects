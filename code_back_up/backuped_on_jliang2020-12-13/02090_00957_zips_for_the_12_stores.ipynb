{
 "cells": [
  {
   "cell_type": "code",
   "execution_count": 1,
   "metadata": {
    "collapsed": true
   },
   "outputs": [],
   "source": [
    "# Email Tuesday, May 28, 2019 at 4:50 PM\n",
    "\n",
    "import pandas as pd\n",
    "import numpy as np\n",
    "import datetime\n",
    "from haversine import haversine\n",
    "import json"
   ]
  },
  {
   "cell_type": "code",
   "execution_count": 2,
   "metadata": {
    "collapsed": true
   },
   "outputs": [],
   "source": [
    "zip_centers=json.load(open(\"/home/jian/Docs/Geo_mapping/updated_zip_centers_JL_2019-05-23.json\",\"r\"))\n",
    "store_numbers=pd.read_excel(\"./LIFO Traffic Driver Store list Zip Request.xlsx\",dtype=str)\n",
    "store_numbers=store_numbers['Store'].unique().tolist()\n"
   ]
  },
  {
   "cell_type": "code",
   "execution_count": 3,
   "metadata": {},
   "outputs": [
    {
     "data": {
      "text/plain": [
       "12"
      ]
     },
     "execution_count": 3,
     "metadata": {},
     "output_type": "execute_result"
    }
   ],
   "source": [
    "len(store_numbers)"
   ]
  },
  {
   "cell_type": "code",
   "execution_count": 4,
   "metadata": {
    "collapsed": true
   },
   "outputs": [],
   "source": [
    "\n",
    "\n",
    "store_list_SFTP=pd.read_table(\"/home/jian/BigLots/static_files/Store_list/MediaStormStores20190501-135143-036.txt\",sep=\"|\",dtype=str)\n",
    "store_list_SFTP=store_list_SFTP[store_list_SFTP['location_id'].isin(store_numbers)]\n",
    "store_list_SFTP=store_list_SFTP[['location_id','zip_cd','latitude_meas','longitude_meas','address_line_1','address_line_2','city_nm','state_nm']].rename(columns={\"zip_cd\":\"store_zip\"})\n",
    "store_list_SFTP['store_zip']=store_list_SFTP['store_zip'].apply(lambda x: x.split(\"-\")[0])\n",
    "store_list_SFTP['latitude_meas']=store_list_SFTP['latitude_meas'].astype(float)\n",
    "store_list_SFTP['longitude_meas']=store_list_SFTP['longitude_meas'].astype(float)\n"
   ]
  },
  {
   "cell_type": "code",
   "execution_count": 5,
   "metadata": {},
   "outputs": [
    {
     "data": {
      "text/plain": [
       "(12, 8)"
      ]
     },
     "execution_count": 5,
     "metadata": {},
     "output_type": "execute_result"
    }
   ],
   "source": [
    "store_list_SFTP.shape"
   ]
  },
  {
   "cell_type": "code",
   "execution_count": 6,
   "metadata": {},
   "outputs": [
    {
     "name": "stdout",
     "output_type": "stream",
     "text": [
      "(151, 10)\n",
      "10\n"
     ]
    }
   ],
   "source": [
    "df_store_lables_zip=pd.read_csv(\"/home/jian/Projects/Big_Lots/New_TA/zips_in_new_ta/sales_by_zip (Store level).csv\",\n",
    "                                  dtype=str,usecols=['zip','location_id','revenue_flag'])\n",
    "output_1=pd.merge(store_list_SFTP,df_store_lables_zip,on=\"location_id\",how=\"left\")\n",
    "output_1=output_1[output_1['revenue_flag'].isin(['P','S'])]\n",
    "print(output_1.shape)\n",
    "print(output_1['location_id'].nunique())\n"
   ]
  },
  {
   "cell_type": "code",
   "execution_count": 7,
   "metadata": {
    "collapsed": true
   },
   "outputs": [],
   "source": [
    "output_1=output_1.reset_index()\n",
    "del output_1['index']\n",
    "output_1['dist_miles']=np.nan\n",
    "for i,row in output_1.iterrows():\n",
    "    store_center=(row['latitude_meas'],row['longitude_meas'])\n",
    "    zip_cd = row['zip']\n",
    "    \n",
    "    try:\n",
    "        dist=haversine(store_center,zip_centers[zip_cd],miles=True)\n",
    "    except:\n",
    "        print(zip_cd)\n",
    "    output_1.loc[i,'dist_miles']=dist\n",
    "    \n",
    "output_1=output_1[(output_1['revenue_flag']==\"P\") | (output_1['dist_miles']<=20)]\n"
   ]
  },
  {
   "cell_type": "code",
   "execution_count": 8,
   "metadata": {
    "collapsed": true
   },
   "outputs": [],
   "source": [
    "output_2=store_list_SFTP[~store_list_SFTP['location_id'].isin(output_1['location_id'].tolist())]\n",
    "output_2=output_2.reset_index()\n",
    "del output_2['index']\n",
    "df_store_new_zip=pd.DataFrame(columns=[\"location_id\",'zip','revenue_flag','dist_miles'])\n",
    "\n",
    "for i,row in output_2.iterrows():\n",
    "    location_id=row['location_id']\n",
    "    store_center=(row['latitude_meas'],row['longitude_meas'])\n",
    "    for zip_cd in zip_centers.keys():\n",
    "        dist=haversine(store_center,zip_centers[zip_cd],miles=True)\n",
    "        if dist<=10:\n",
    "            df=pd.DataFrame({\"location_id\":location_id,\"zip\":zip_cd,\"revenue_flag\":\"zips_in_10\",\"dist_miles\":dist},index=[location_id])\n",
    "            df_store_new_zip=df_store_new_zip.append(df)\n",
    "            \n",
    "df_store_new_zip=df_store_new_zip.reset_index()\n",
    "del df_store_new_zip['index']       \n",
    "output_2=pd.merge(output_2,df_store_new_zip,on=\"location_id\",how=\"left\")        "
   ]
  },
  {
   "cell_type": "code",
   "execution_count": 9,
   "metadata": {
    "collapsed": true
   },
   "outputs": [],
   "source": [
    "output=output_1.append(output_2)\n",
    "output=output[output_1.columns.tolist()]"
   ]
  },
  {
   "cell_type": "code",
   "execution_count": 10,
   "metadata": {
    "collapsed": true
   },
   "outputs": [],
   "source": [
    "df_unique_zips=output.sort_values(['revenue_flag','dist_miles'])\n",
    "df_unique_zips=df_unique_zips[['zip','revenue_flag']].drop_duplicates(\"zip\")"
   ]
  },
  {
   "cell_type": "code",
   "execution_count": 11,
   "metadata": {
    "collapsed": true
   },
   "outputs": [],
   "source": [
    "writer=pd.ExcelWriter(\"/home/jian/Projects/Big_Lots/Analysis/2019_Q2/Planner_Requests/Zips_12_life_moments_test_Faith_20190620/BL_zips_for_12_life_moments_JL_\"+str(datetime.datetime.now().date())+\".xlsx\",engine=\"xlsxwriter\")\n",
    "df_unique_zips.to_excel(writer,\"unique_zips\",index=False)\n",
    "output.to_excel(writer,\"zips_by_store\",index=False)\n",
    "writer.save()"
   ]
  },
  {
   "cell_type": "code",
   "execution_count": null,
   "metadata": {
    "collapsed": true
   },
   "outputs": [],
   "source": []
  }
 ],
 "metadata": {
  "kernelspec": {
   "display_name": "Python 3",
   "language": "python",
   "name": "python3"
  },
  "language_info": {
   "codemirror_mode": {
    "name": "ipython",
    "version": 3
   },
   "file_extension": ".py",
   "mimetype": "text/x-python",
   "name": "python",
   "nbconvert_exporter": "python",
   "pygments_lexer": "ipython3",
   "version": "3.6.1"
  }
 },
 "nbformat": 4,
 "nbformat_minor": 2
}
