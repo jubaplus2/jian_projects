{
 "cells": [
  {
   "cell_type": "code",
   "execution_count": 44,
   "metadata": {
    "collapsed": true
   },
   "outputs": [],
   "source": [
    "import numpy as np\n",
    "import pandas as pd\n",
    "import json\n",
    "import datetime\n",
    "import glob\n",
    "import gc\n",
    "import os"
   ]
  },
  {
   "cell_type": "code",
   "execution_count": 45,
   "metadata": {
    "collapsed": true
   },
   "outputs": [],
   "source": [
    "folder=\"/home/jian/Projects/Big_Lots/Weather/Json_data/forecast/forcast_api_response_20180524/\"\n",
    "\n",
    "json_list_all=glob.glob(folder+\"*.json\")"
   ]
  },
  {
   "cell_type": "code",
   "execution_count": 46,
   "metadata": {
    "collapsed": true
   },
   "outputs": [],
   "source": [
    "inclusion_stores=pd.read_excel(\"/home/jian/Projects/Big_Lots/Q1_Post/BL_Sales YoY_JL_20180514.xlsx\",sheetname=\"Inclusion Stores\",skiprows=1,dtype=str)\n",
    "store_zips=pd.read_excel(\"/home/jian/Projects/Big_Lots/Other_Input/all_store_DMA.xlsx\",dtype=str)[['location_id','zip']]\n",
    "store_zips['zip']=store_zips['zip'].apply(lambda x: x.zfill(5))\n",
    "inclusion_stores=pd.merge(inclusion_stores,store_zips,on=\"location_id\",how=\"left\")\n",
    "inclusion_stores=inclusion_stores[['location_id','zip']].rename(columns={\"zip\":\"zip_cd\"})\n",
    "inclusion_stores=inclusion_stores[inclusion_stores['location_id']!='1769']"
   ]
  },
  {
   "cell_type": "code",
   "execution_count": 47,
   "metadata": {
    "collapsed": true
   },
   "outputs": [],
   "source": [
    "df_files=pd.DataFrame({\"file\":json_list_all},index=range(len(json_list_all)))\n",
    "df_files['Date']=df_files['file'].apply(lambda x: datetime.datetime.strptime(x[len(x)-15:len(x)-5],\"%Y-%m-%d\"))\n",
    "df_files=df_files[df_files['Date']>=datetime.datetime(2018,2,4)]"
   ]
  },
  {
   "cell_type": "code",
   "execution_count": 48,
   "metadata": {},
   "outputs": [
    {
     "data": {
      "text/plain": [
       "'\\nfile=df_files[\\'file\\'][0]\\ntest=json.load(open(file,\"r\"))\\n\\nlen(test[\\'36535\\'][\\'list\\'])\\n'"
      ]
     },
     "execution_count": 48,
     "metadata": {},
     "output_type": "execute_result"
    }
   ],
   "source": [
    "'''\n",
    "file=df_files['file'][0]\n",
    "test=json.load(open(file,\"r\"))\n",
    "\n",
    "len(test['36535']['list'])\n",
    "'''"
   ]
  },
  {
   "cell_type": "code",
   "execution_count": 49,
   "metadata": {},
   "outputs": [],
   "source": [
    "all_weather_groups=[]\n",
    "all_weather_desc=[]\n",
    "df_missing_weather=pd.DataFrame()\n",
    "for file in df_files['file']:\n",
    "    response=json.load(open(file,\"r\"))\n",
    "    for hour_index_forecast in range(40):\n",
    "        for zip_cd in inclusion_stores['zip_cd']:\n",
    "            try:        \n",
    "                data_zip_weather=response[zip_cd]['list'][hour_index_forecast]['weather']\n",
    "                for i in range(len(data_zip_weather)):            \n",
    "                    weather_group=data_zip_weather[i]['main']\n",
    "                    weather_desc=data_zip_weather[i]['description']\n",
    "\n",
    "\n",
    "\n",
    "                    all_weather_groups=list(set(all_weather_groups+[weather_group]))\n",
    "                    all_weather_desc=list(set(all_weather_desc+[weather_desc]))\n",
    "\n",
    "            except:\n",
    "                df_missing_weather=df_missing_weather.append(pd.DataFrame({\"Date\":file[len(file)-15:len(file)-5],\"zips\":zip_cd},index=[0]))\n",
    "                # print(\"zip data not available: \" + zip_cd+\" | \"+file[len(file)-15:len(file)-5])"
   ]
  },
  {
   "cell_type": "code",
   "execution_count": 50,
   "metadata": {},
   "outputs": [
    {
     "data": {
      "text/plain": [
       "['Clouds', 'Clear', 'Snow', 'Rain']"
      ]
     },
     "execution_count": 50,
     "metadata": {},
     "output_type": "execute_result"
    }
   ],
   "source": [
    "all_weather_groups"
   ]
  },
  {
   "cell_type": "code",
   "execution_count": 51,
   "metadata": {},
   "outputs": [
    {
     "data": {
      "text/plain": [
       "['very heavy rain',\n",
       " 'heavy intensity rain',\n",
       " 'scattered clouds',\n",
       " 'snow',\n",
       " 'few clouds',\n",
       " 'broken clouds',\n",
       " 'overcast clouds',\n",
       " 'light rain',\n",
       " 'moderate rain',\n",
       " 'clear sky',\n",
       " 'heavy snow',\n",
       " 'light snow']"
      ]
     },
     "execution_count": 51,
     "metadata": {},
     "output_type": "execute_result"
    }
   ],
   "source": [
    "all_weather_desc"
   ]
  },
  {
   "cell_type": "code",
   "execution_count": null,
   "metadata": {
    "collapsed": true
   },
   "outputs": [],
   "source": []
  }
 ],
 "metadata": {
  "kernelspec": {
   "display_name": "Python 3",
   "language": "python",
   "name": "python3"
  },
  "language_info": {
   "codemirror_mode": {
    "name": "ipython",
    "version": 3
   },
   "file_extension": ".py",
   "mimetype": "text/x-python",
   "name": "python",
   "nbconvert_exporter": "python",
   "pygments_lexer": "ipython3",
   "version": "3.6.1"
  }
 },
 "nbformat": 4,
 "nbformat_minor": 2
}
