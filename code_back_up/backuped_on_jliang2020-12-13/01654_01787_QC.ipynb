{
 "cells": [
  {
   "cell_type": "code",
   "execution_count": 1,
   "metadata": {},
   "outputs": [
    {
     "data": {
      "text/plain": [
       "'/home/jian/Projects/Smoothie_King/TA/New_TA_20190108/20190118_Zips_3_DMA_and_States'"
      ]
     },
     "execution_count": 1,
     "metadata": {},
     "output_type": "execute_result"
    }
   ],
   "source": [
    "import pandas as pd\n",
    "import numpy as np\n",
    "import datetime\n",
    "import os\n",
    "os.getcwd()"
   ]
  },
  {
   "cell_type": "code",
   "execution_count": 2,
   "metadata": {},
   "outputs": [
    {
     "name": "stderr",
     "output_type": "stream",
     "text": [
      "/usr/local/lib/python3.6/site-packages/pandas/core/frame.py:4528: RuntimeWarning: '<' not supported between instances of 'str' and 'int', sort order is undefined for incomparable objects\n",
      "  other.index).difference(self.columns).tolist()\n",
      "/usr/local/lib/python3.6/site-packages/ipykernel_launcher.py:40: SettingWithCopyWarning: \n",
      "A value is trying to be set on a copy of a slice from a DataFrame.\n",
      "Try using .loc[row_indexer,col_indexer] = value instead\n",
      "\n",
      "See the caveats in the documentation: http://pandas.pydata.org/pandas-docs/stable/indexing.html#indexing-view-versus-copy\n"
     ]
    }
   ],
   "source": [
    "store_list=pd.read_excel(\"/home/jian/Projects/Smoothie_King/TA/New_TA_20190108/StoreList_20190107.xlsx\",dtype=str)\n",
    "store_list=store_list[~pd.isnull(store_list['storenumber'])]\n",
    "closed_stores=store_list[store_list['status']==\"Closed\"]\n",
    "store_list=store_list[store_list['status']!=\"Closed\"]\n",
    "store_list=store_list[store_list['storenumber']!=\"0930\"]\n",
    "closed_stores=closed_stores.append(store_list['storenumber']==\"0930\")\n",
    "store_list=store_list[store_list['storenumber']!=\"nan\"].reset_index()\n",
    "del store_list['index']\n",
    "\n",
    "store_list['Latitude']=store_list['Latitude'].astype(float)\n",
    "store_list['Longitude']=store_list['Longitude'].astype(float)\n",
    "store_list['zip']=store_list['zip'].apply(lambda x: x.split(\"-\")[0])\n",
    "\n",
    "# Manually update the zip for the 11 stores\n",
    "store_zip_dic_updated={}\n",
    "store_zip_dic_updated.update({\"1333\":\"36695\"})\n",
    "store_zip_dic_updated.update({\"1349\":\"07747\"})\n",
    "store_zip_dic_updated.update({\"1436\":\"78411\"})\n",
    "\n",
    "store_zip_dic_updated.update({\"1245\":\"68133\"})\n",
    "store_zip_dic_updated.update({\"1152\":\"70810\"})\n",
    "store_zip_dic_updated.update({\"1282\":\"70803\"})\n",
    "\n",
    "store_zip_dic_updated.update({\"1386\":\"62711\"})\n",
    "store_zip_dic_updated.update({\"1467\":\"63146\"})\n",
    "store_zip_dic_updated.update({\"1252\":\"73013\"})\n",
    "\n",
    "store_zip_dic_updated.update({\"1397\":\"28054\"})\n",
    "store_zip_dic_updated.update({\"1653\":\"46074\"})\n",
    "\n",
    "store_zip_dic_updated.update({\"1390\":\"39440\"}) # Changed\n",
    "store_zip_dic_updated.update({\"1464\":\"07901\"}) # Changed\n",
    "\n",
    "store_zip_dic_updated.update({\"0989\":\"70130\"}) # Changed\n",
    "store_zip_dic_updated.update({\"1457\":\"08873\"}) # Changed\n",
    "store_zip_dic_updated.update({\"1432\":\"30281\"}) # Changed\n",
    "\n",
    "store_without_zips=store_list[store_list['storenumber'].isin(store_zip_dic_updated.keys())]\n",
    "store_with_zips=store_list[~store_list['storenumber'].isin(store_zip_dic_updated.keys())]\n",
    "store_without_zips['zip']=store_without_zips['storenumber'].apply(lambda x: store_zip_dic_updated[x])\n",
    "\n",
    "store_list=store_with_zips.append(store_without_zips).reset_index()\n",
    "store_list=store_list.sort_values(['index'])\n",
    "del store_list['index']\n",
    "store_list=store_list.reset_index()\n",
    "del store_list['index']\n",
    "\n",
    "store_zip5_dic=store_list.set_index(['storenumber'])['zip'].to_dict()\n",
    "store_list=store_list.rename(columns={\"zip\":\"store_zip\"})"
   ]
  },
  {
   "cell_type": "code",
   "execution_count": 3,
   "metadata": {
    "collapsed": true
   },
   "outputs": [],
   "source": [
    "DMA_zips=pd.read_excel(\"/home/jian/Docs/Geo_mapping/Zips by DMA by County16-17 nielsen.xlsx\",skiprows=1,usecols=[0,2],dtype=str).drop_duplicates()\n",
    "DMA_zips.columns=['zip_cd','DMA']\n",
    "\n",
    "Dallas_zips=DMA_zips[DMA_zips['DMA']==\"DALLAS-FT. WORTH\"]\n",
    "NewOrleans_zips=DMA_zips[DMA_zips['DMA']==\"NEW ORLEANS\"]\n",
    "BatonRouge_zips=DMA_zips[DMA_zips['DMA']==\"BATON ROUGE\"]"
   ]
  },
  {
   "cell_type": "code",
   "execution_count": 4,
   "metadata": {
    "collapsed": true
   },
   "outputs": [],
   "source": [
    "stores_in_Dallas=store_list[store_list['store_zip'].isin(Dallas_zips['zip_cd'].tolist())]\n",
    "stores_in_NewOrleans=store_list[store_list['store_zip'].isin(NewOrleans_zips['zip_cd'].tolist())]\n",
    "stores_in_BatonRouge=store_list[store_list['store_zip'].isin(BatonRouge_zips['zip_cd'].tolist())]"
   ]
  },
  {
   "cell_type": "code",
   "execution_count": 5,
   "metadata": {},
   "outputs": [
    {
     "data": {
      "text/html": [
       "<div>\n",
       "<style>\n",
       "    .dataframe thead tr:only-child th {\n",
       "        text-align: right;\n",
       "    }\n",
       "\n",
       "    .dataframe thead th {\n",
       "        text-align: left;\n",
       "    }\n",
       "\n",
       "    .dataframe tbody tr th {\n",
       "        vertical-align: top;\n",
       "    }\n",
       "</style>\n",
       "<table border=\"1\" class=\"dataframe\">\n",
       "  <thead>\n",
       "    <tr style=\"text-align: right;\">\n",
       "      <th></th>\n",
       "      <th>storenumber</th>\n",
       "      <th>Address</th>\n",
       "      <th>city</th>\n",
       "      <th>state</th>\n",
       "      <th>store_zip</th>\n",
       "      <th>StoreOpenDate</th>\n",
       "      <th>Latitude</th>\n",
       "      <th>Longitude</th>\n",
       "      <th>Ownership</th>\n",
       "      <th>Franchisee_Name</th>\n",
       "      <th>IPAddress</th>\n",
       "      <th>DriveThru</th>\n",
       "      <th>status</th>\n",
       "      <th>StoreCloseDate</th>\n",
       "    </tr>\n",
       "  </thead>\n",
       "  <tbody>\n",
       "    <tr>\n",
       "      <th>281</th>\n",
       "      <td>1022</td>\n",
       "      <td>1910 SW Rail Road Ave</td>\n",
       "      <td>Hammond</td>\n",
       "      <td>LA</td>\n",
       "      <td>70403</td>\n",
       "      <td>2010-04-23 00:00:00</td>\n",
       "      <td>30.483038</td>\n",
       "      <td>-90.457365</td>\n",
       "      <td>Franchised</td>\n",
       "      <td>Jason Finley</td>\n",
       "      <td>108.210.88.87</td>\n",
       "      <td>Y</td>\n",
       "      <td>Same</td>\n",
       "      <td>nan</td>\n",
       "    </tr>\n",
       "    <tr>\n",
       "      <th>394</th>\n",
       "      <td>1243</td>\n",
       "      <td>906 W Oak Street</td>\n",
       "      <td>Amite</td>\n",
       "      <td>LA</td>\n",
       "      <td>70422</td>\n",
       "      <td>2014-11-26 00:00:00</td>\n",
       "      <td>30.726929</td>\n",
       "      <td>-90.522259</td>\n",
       "      <td>Franchised</td>\n",
       "      <td>Matt Montgomery</td>\n",
       "      <td>97.80.24.205</td>\n",
       "      <td>Y</td>\n",
       "      <td>Same</td>\n",
       "      <td>nan</td>\n",
       "    </tr>\n",
       "  </tbody>\n",
       "</table>\n",
       "</div>"
      ],
      "text/plain": [
       "    storenumber                Address     city state store_zip  \\\n",
       "281        1022  1910 SW Rail Road Ave  Hammond    LA     70403   \n",
       "394        1243       906 W Oak Street    Amite    LA     70422   \n",
       "\n",
       "           StoreOpenDate   Latitude  Longitude   Ownership  Franchisee_Name  \\\n",
       "281  2010-04-23 00:00:00  30.483038 -90.457365  Franchised     Jason Finley   \n",
       "394  2014-11-26 00:00:00  30.726929 -90.522259  Franchised  Matt Montgomery   \n",
       "\n",
       "         IPAddress DriveThru status StoreCloseDate  \n",
       "281  108.210.88.87         Y   Same            nan  \n",
       "394   97.80.24.205         Y   Same            nan  "
      ]
     },
     "execution_count": 5,
     "metadata": {},
     "output_type": "execute_result"
    }
   ],
   "source": [
    "stores_in_BatonRouge.head(2)"
   ]
  },
  {
   "cell_type": "code",
   "execution_count": 6,
   "metadata": {
    "collapsed": true
   },
   "outputs": [],
   "source": [
    "TA_zips_by_store=pd.read_excel(\"/home/jian/Projects/Smoothie_King/TA/New_TA_20190108/SmoothieKing_TA_of_3_miles_zips_JL_2019-01-09.xlsx\",sheetname=\"zip_TA\",dtype=str)\n",
    "TA_zips_by_store=TA_zips_by_store.rename(columns={\"store\":\"storenumber\",\"zip\":\"TA_zip\"})\n",
    "\n",
    "zips_for_Dallas=pd.merge(stores_in_Dallas,TA_zips_by_store,on=\"storenumber\",how=\"left\")\n",
    "zips_for_Dallas['Store_DMA']=\"DALLAS-FT. WORTH\"\n",
    "zips_for_Dallas_unique_zip=zips_for_Dallas[['Store_DMA','TA_zip']].drop_duplicates()\n",
    "\n",
    "zips_for_NewOrleans=pd.merge(stores_in_NewOrleans,TA_zips_by_store,on=\"storenumber\",how=\"left\")\n",
    "zips_for_NewOrleans['Store_DMA']=\"NEW ORLEANS\"\n",
    "zips_for_NewOrleans_unique_zip=zips_for_NewOrleans[['Store_DMA','TA_zip']].drop_duplicates()\n",
    "\n",
    "zips_for_BatonRouge=pd.merge(stores_in_BatonRouge,TA_zips_by_store,on=\"storenumber\",how=\"left\")\n",
    "zips_for_BatonRouge['Store_DMA']=\"BATON ROUGE\"\n",
    "zips_for_BatonRouge_unique_zip=zips_for_BatonRouge[['Store_DMA','TA_zip']].drop_duplicates()\n"
   ]
  },
  {
   "cell_type": "code",
   "execution_count": 7,
   "metadata": {
    "collapsed": true
   },
   "outputs": [],
   "source": [
    "TA_zips=TA_zips_by_store[['TA_zip']].drop_duplicates()\n",
    "\n",
    "state_zips=pd.read_excel(\"/home/jian/Docs/Geo_mapping/Zips by DMA by County16-17 nielsen.xlsx\",skiprows=1,usecols=[0,6,7],dtype=str).drop_duplicates()\n",
    "state_zips.columns=['TA_zip','ST',\"state\"]\n",
    "state_zips=state_zips.drop_duplicates()\n",
    "states_list=['LA','MS',\"TX\",\"FL\",\"AL\",\"NC\",\"SC\",\"TN\",\"GA\",\"KS\",\"IN\",\"MO\",\"VA\",\"MD\",\"DC\"]\n",
    "len(states_list)\n",
    "state_zips=state_zips[state_zips['ST'].isin(states_list)].drop_duplicates()\n",
    "state_zips=pd.DataFrame({\"TA_zip\":\"20532\",\"ST\":\"DC\",\"state\":\"Dist. of Columbia\"},index=[0]).append(state_zips)"
   ]
  },
  {
   "cell_type": "code",
   "execution_count": 8,
   "metadata": {
    "collapsed": true
   },
   "outputs": [],
   "source": [
    "TA_zips_for_state=pd.merge(TA_zips,state_zips,on=\"TA_zip\",how=\"left\").drop_duplicates()\n",
    "TA_zips_for_others=TA_zips_for_state[pd.isnull(TA_zips_for_state['ST'])]\n",
    "TA_zips_for_state=TA_zips_for_state[~pd.isnull(TA_zips_for_state['ST'])]\n"
   ]
  },
  {
   "cell_type": "code",
   "execution_count": 9,
   "metadata": {},
   "outputs": [
    {
     "name": "stderr",
     "output_type": "stream",
     "text": [
      "/usr/local/lib/python3.6/site-packages/ipykernel_launcher.py:6: SettingWithCopyWarning: \n",
      "A value is trying to be set on a copy of a slice from a DataFrame\n",
      "\n",
      "See the caveats in the documentation: http://pandas.pydata.org/pandas-docs/stable/indexing.html#indexing-view-versus-copy\n",
      "  \n",
      "/usr/local/lib/python3.6/site-packages/pandas/core/indexing.py:179: SettingWithCopyWarning: \n",
      "A value is trying to be set on a copy of a slice from a DataFrame\n",
      "\n",
      "See the caveats in the documentation: http://pandas.pydata.org/pandas-docs/stable/indexing.html#indexing-view-versus-copy\n",
      "  self._setitem_with_indexer(indexer, value)\n",
      "/usr/local/lib/python3.6/site-packages/ipykernel_launcher.py:8: SettingWithCopyWarning: \n",
      "A value is trying to be set on a copy of a slice from a DataFrame\n",
      "\n",
      "See the caveats in the documentation: http://pandas.pydata.org/pandas-docs/stable/indexing.html#indexing-view-versus-copy\n",
      "  \n"
     ]
    }
   ],
   "source": [
    "import zipcodes\n",
    "TA_zips_for_others=TA_zips_for_others.reset_index()\n",
    "TA_zips_for_others['st_check']=np.nan\n",
    "for i in range(len(TA_zips_for_others)):\n",
    "    try:\n",
    "        TA_zips_for_others['st_check'][i]=zipcodes.matching(TA_zips_for_others['TA_zip'][i])[0]['state']\n",
    "    except:\n",
    "        TA_zips_for_others['st_check'][i]=np.nan"
   ]
  },
  {
   "cell_type": "code",
   "execution_count": null,
   "metadata": {
    "collapsed": true
   },
   "outputs": [],
   "source": []
  },
  {
   "cell_type": "code",
   "execution_count": 11,
   "metadata": {
    "collapsed": true
   },
   "outputs": [],
   "source": [
    "writer=pd.ExcelWriter(\"/home/jian/Projects/Smoothie_King/TA/New_TA_20190108/20190118_Zips_3_DMA_and_States/SK_zip_list_file_JL_\"+str(datetime.datetime.now().date())+\".xlsx\",engine=\"xlsxwriter\")\n",
    "\n",
    "\n",
    "zips_for_Dallas_unique_zip.to_excel(writer,\"Dallas_unique_zip\",index=False)\n",
    "zips_for_NewOrleans_unique_zip.to_excel(writer,\"NewOrleans_unique_zip\",index=False)\n",
    "zips_for_BatonRouge_unique_zip.to_excel(writer,\"BatonRouge_unique_zip\",index=False)\n",
    "TA_zips_for_state.to_excel(writer,\"zips_for_15_states_in_TA\",index=False)\n",
    "\n",
    "\n",
    "zips_for_Dallas.to_excel(writer,\"zips_for_Dallas_by_store\",index=False)\n",
    "zips_for_NewOrleans.to_excel(writer,\"zips_for_NewOrleans_by_store\",index=False)\n",
    "zips_for_BatonRouge.to_excel(writer,\"zips_for_BatonRouge_by_store\",index=False)\n",
    "TA_zips_for_others.to_excel(writer,\"zips_for_other_states_in_TA\",index=False)\n",
    "\n",
    "writer.save()\n"
   ]
  }
 ],
 "metadata": {
  "kernelspec": {
   "display_name": "Python 3",
   "language": "python",
   "name": "python3"
  },
  "language_info": {
   "codemirror_mode": {
    "name": "ipython",
    "version": 3
   },
   "file_extension": ".py",
   "mimetype": "text/x-python",
   "name": "python",
   "nbconvert_exporter": "python",
   "pygments_lexer": "ipython3",
   "version": "3.6.1"
  }
 },
 "nbformat": 4,
 "nbformat_minor": 2
}
