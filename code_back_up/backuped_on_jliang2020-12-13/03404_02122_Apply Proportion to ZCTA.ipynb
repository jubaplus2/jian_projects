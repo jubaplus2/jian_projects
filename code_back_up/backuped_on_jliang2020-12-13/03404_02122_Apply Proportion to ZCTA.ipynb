{
 "cells": [
  {
   "cell_type": "code",
   "execution_count": 10,
   "metadata": {
    "collapsed": true
   },
   "outputs": [],
   "source": [
    "import pandas as pd\n",
    "import numpy as np"
   ]
  },
  {
   "cell_type": "code",
   "execution_count": null,
   "metadata": {
    "collapsed": true
   },
   "outputs": [],
   "source": []
  },
  {
   "cell_type": "code",
   "execution_count": 11,
   "metadata": {},
   "outputs": [
    {
     "name": "stdout",
     "output_type": "stream",
     "text": [
      "51\n"
     ]
    }
   ],
   "source": [
    "pop_JL_2018=pd.read_csv(\"/home/jian/Docs/EASI/2018-06-25/ZIP4_18_DATA_A2_CSV/Total_HH_POP_by_Zip_JL_20180723.csv\",dtype=str)\n",
    "pop_JL_2018['ZIP_CODE']=pop_JL_2018['ZIP_CODE'].astype(int)\n",
    "\n",
    "udsmapping=pd.read_excel(\"/home/jian/Docs/Household_and_Population/2016/zip_to_zcta_2017_From udsmapper.xlsx\",dtype=str)\n",
    "udsmapping=udsmapping[~udsmapping['STATE'].isin([\"AS\",\"FM\",\"GU\",\"MH\",\"MP\",\"PW\",\"PR\",\"VI\",\"AE\",\"AA\",\"AP\"])]\n",
    "print(len(udsmapping['STATE'].unique()))\n",
    "\n",
    "udsmapping=udsmapping[['ZIP_CODE','ZCTA']]\n",
    "udsmapping['ZIP_CODE']=udsmapping['ZIP_CODE'].astype(int)\n",
    "pop_JL_2018_ZCTA=pd.merge(pop_JL_2018,udsmapping,on=\"ZIP_CODE\",how=\"left\")\n",
    "pop_JL_2018_ZCTA['HH18']=pop_JL_2018_ZCTA['HH18'].astype(float)\n",
    "pop_JL_2018_ZCTA['POP18']=pop_JL_2018_ZCTA['POP18'].astype(float)"
   ]
  },
  {
   "cell_type": "code",
   "execution_count": 12,
   "metadata": {},
   "outputs": [
    {
     "data": {
      "text/html": [
       "<div>\n",
       "<style>\n",
       "    .dataframe thead tr:only-child th {\n",
       "        text-align: right;\n",
       "    }\n",
       "\n",
       "    .dataframe thead th {\n",
       "        text-align: left;\n",
       "    }\n",
       "\n",
       "    .dataframe tbody tr th {\n",
       "        vertical-align: top;\n",
       "    }\n",
       "</style>\n",
       "<table border=\"1\" class=\"dataframe\">\n",
       "  <thead>\n",
       "    <tr style=\"text-align: right;\">\n",
       "      <th></th>\n",
       "      <th>ZIP_CODE</th>\n",
       "      <th>HH18</th>\n",
       "      <th>POP18</th>\n",
       "      <th>ZCTA</th>\n",
       "    </tr>\n",
       "  </thead>\n",
       "  <tbody>\n",
       "    <tr>\n",
       "      <th>0</th>\n",
       "      <td>501</td>\n",
       "      <td>0.0</td>\n",
       "      <td>0.0</td>\n",
       "      <td>11742</td>\n",
       "    </tr>\n",
       "    <tr>\n",
       "      <th>1</th>\n",
       "      <td>1001</td>\n",
       "      <td>6853.6</td>\n",
       "      <td>16240.7</td>\n",
       "      <td>01001</td>\n",
       "    </tr>\n",
       "  </tbody>\n",
       "</table>\n",
       "</div>"
      ],
      "text/plain": [
       "   ZIP_CODE    HH18    POP18   ZCTA\n",
       "0       501     0.0      0.0  11742\n",
       "1      1001  6853.6  16240.7  01001"
      ]
     },
     "execution_count": 12,
     "metadata": {},
     "output_type": "execute_result"
    }
   ],
   "source": [
    "pop_JL_2018_ZCTA.head(2)"
   ]
  },
  {
   "cell_type": "code",
   "execution_count": 13,
   "metadata": {},
   "outputs": [
    {
     "data": {
      "text/html": [
       "<div>\n",
       "<style>\n",
       "    .dataframe thead tr:only-child th {\n",
       "        text-align: right;\n",
       "    }\n",
       "\n",
       "    .dataframe thead th {\n",
       "        text-align: left;\n",
       "    }\n",
       "\n",
       "    .dataframe tbody tr th {\n",
       "        vertical-align: top;\n",
       "    }\n",
       "</style>\n",
       "<table border=\"1\" class=\"dataframe\">\n",
       "  <thead>\n",
       "    <tr style=\"text-align: right;\">\n",
       "      <th></th>\n",
       "      <th>ZIP_CODE</th>\n",
       "      <th>ZCTA</th>\n",
       "    </tr>\n",
       "  </thead>\n",
       "  <tbody>\n",
       "    <tr>\n",
       "      <th>0</th>\n",
       "      <td>501</td>\n",
       "      <td>11742</td>\n",
       "    </tr>\n",
       "    <tr>\n",
       "      <th>1</th>\n",
       "      <td>544</td>\n",
       "      <td>11742</td>\n",
       "    </tr>\n",
       "  </tbody>\n",
       "</table>\n",
       "</div>"
      ],
      "text/plain": [
       "   ZIP_CODE   ZCTA\n",
       "0       501  11742\n",
       "1       544  11742"
      ]
     },
     "execution_count": 13,
     "metadata": {},
     "output_type": "execute_result"
    }
   ],
   "source": [
    "udsmapping.head(2)"
   ]
  },
  {
   "cell_type": "code",
   "execution_count": 14,
   "metadata": {},
   "outputs": [
    {
     "name": "stderr",
     "output_type": "stream",
     "text": [
      "/usr/local/lib/python3.6/site-packages/ipykernel_launcher.py:7: SettingWithCopyWarning: \n",
      "A value is trying to be set on a copy of a slice from a DataFrame.\n",
      "Try using .loc[row_indexer,col_indexer] = value instead\n",
      "\n",
      "See the caveats in the documentation: http://pandas.pydata.org/pandas-docs/stable/indexing.html#indexing-view-versus-copy\n",
      "  import sys\n",
      "/usr/local/lib/python3.6/site-packages/ipykernel_launcher.py:8: SettingWithCopyWarning: \n",
      "A value is trying to be set on a copy of a slice from a DataFrame.\n",
      "Try using .loc[row_indexer,col_indexer] = value instead\n",
      "\n",
      "See the caveats in the documentation: http://pandas.pydata.org/pandas-docs/stable/indexing.html#indexing-view-versus-copy\n",
      "  \n"
     ]
    }
   ],
   "source": [
    "udsmapping_Not_in_EASI=udsmapping[~udsmapping['ZCTA'].isin(pop_JL_2018_ZCTA['ZCTA'])] \n",
    "# Note1: for a group of zips of a ZCTA in udsmapping, if partial of the zips are included in spencer's file, the rest zips are\n",
    "# not included in the final dataset, because there's no weight to apply to such zips\n",
    "\n",
    "# Note2: for a group of zips of a ZCTA in udsmapping, if all of the zips are not included in spencer's file, all of these zips\n",
    "# are given a -1 value of POP15 and HH15 for next step to evenly allocated the difference about 2%\n",
    "udsmapping_Not_in_EASI['POP18']=-1\n",
    "udsmapping_Not_in_EASI['HH18']=-1\n",
    "udsmapping_Not_in_EASI=udsmapping_Not_in_EASI[pop_JL_2018_ZCTA.columns]\n",
    "pop_JL_2018_ZCTA=pop_JL_2018_ZCTA.append(udsmapping_Not_in_EASI)"
   ]
  },
  {
   "cell_type": "code",
   "execution_count": 15,
   "metadata": {},
   "outputs": [
    {
     "name": "stderr",
     "output_type": "stream",
     "text": [
      "/usr/local/lib/python3.6/site-packages/ipykernel_launcher.py:7: SettingWithCopyWarning: \n",
      "A value is trying to be set on a copy of a slice from a DataFrame.\n",
      "Try using .loc[row_indexer,col_indexer] = value instead\n",
      "\n",
      "See the caveats in the documentation: http://pandas.pydata.org/pandas-docs/stable/indexing.html#indexing-view-versus-copy\n",
      "  import sys\n",
      "/usr/local/lib/python3.6/site-packages/ipykernel_launcher.py:14: SettingWithCopyWarning: \n",
      "A value is trying to be set on a copy of a slice from a DataFrame.\n",
      "Try using .loc[row_indexer,col_indexer] = value instead\n",
      "\n",
      "See the caveats in the documentation: http://pandas.pydata.org/pandas-docs/stable/indexing.html#indexing-view-versus-copy\n",
      "  \n",
      "/usr/local/lib/python3.6/site-packages/ipykernel_launcher.py:9: SettingWithCopyWarning: \n",
      "A value is trying to be set on a copy of a slice from a DataFrame.\n",
      "Try using .loc[row_indexer,col_indexer] = value instead\n",
      "\n",
      "See the caveats in the documentation: http://pandas.pydata.org/pandas-docs/stable/indexing.html#indexing-view-versus-copy\n",
      "  if __name__ == '__main__':\n",
      "/usr/local/lib/python3.6/site-packages/ipykernel_launcher.py:16: SettingWithCopyWarning: \n",
      "A value is trying to be set on a copy of a slice from a DataFrame.\n",
      "Try using .loc[row_indexer,col_indexer] = value instead\n",
      "\n",
      "See the caveats in the documentation: http://pandas.pydata.org/pandas-docs/stable/indexing.html#indexing-view-versus-copy\n",
      "  app.launch_new_instance()\n"
     ]
    },
    {
     "name": "stdout",
     "output_type": "stream",
     "text": [
      "1\n",
      "1001\n",
      "2001\n",
      "3001\n",
      "4001\n",
      "5001\n",
      "6001\n",
      "7001\n",
      "8001\n",
      "9001\n",
      "10001\n",
      "11001\n",
      "12001\n",
      "13001\n",
      "14001\n",
      "15001\n",
      "16001\n",
      "17001\n",
      "18001\n",
      "19001\n",
      "20001\n",
      "21001\n",
      "22001\n",
      "23001\n",
      "24001\n",
      "25001\n",
      "26001\n",
      "27001\n",
      "28001\n",
      "29001\n",
      "30001\n",
      "31001\n",
      "32001\n"
     ]
    }
   ],
   "source": [
    "result=pd.DataFrame()\n",
    "ilit_time=0\n",
    "for ZCTA, df in pop_JL_2018_ZCTA.groupby('ZCTA'):\n",
    "    total_df_pop=df['POP18'].sum()\n",
    "    total_df_hh=df['HH18'].sum()\n",
    "    if total_df_pop!=0:\n",
    "        df['Pop_Ratio']=df['POP18'].apply(lambda x: np.round(x/total_df_pop,6))    \n",
    "    elif total_df_pop==0:\n",
    "        df['Pop_Ratio']=1/len(df)\n",
    "    else:\n",
    "        df['Pop_Ratio']='nan'\n",
    "    \n",
    "    if total_df_hh!=0:\n",
    "        df['HH_Ratio']=df['HH18'].apply(lambda x: np.round(x/total_df_hh,6))\n",
    "    elif total_df_hh==0:\n",
    "        df['HH_Ratio']=1/len(df)\n",
    "    else:\n",
    "        df['HH_Ratio']='nan'\n",
    "    \n",
    "    result=result.append(df)\n",
    "\n",
    "    # 20+ minutes of running\n",
    "    ilit_time=ilit_time+1\n",
    "    if ilit_time % 1000==1:\n",
    "        print(ilit_time)\n",
    "     \n",
    "result=result.sort_values('ZIP_CODE')"
   ]
  },
  {
   "cell_type": "code",
   "execution_count": 16,
   "metadata": {
    "collapsed": true
   },
   "outputs": [],
   "source": [
    "result['ZCTA']=result['ZCTA'].astype(int)\n",
    "result_NoAjust=result[['ZIP_CODE','ZCTA']]\n",
    "result_Pop=result[['ZIP_CODE','ZCTA','Pop_Ratio']]\n",
    "result_HH=result[['ZIP_CODE','ZCTA','HH_Ratio']]"
   ]
  },
  {
   "cell_type": "code",
   "execution_count": 17,
   "metadata": {},
   "outputs": [
    {
     "name": "stderr",
     "output_type": "stream",
     "text": [
      "/usr/local/lib/python3.6/site-packages/ipykernel_launcher.py:30: SettingWithCopyWarning: \n",
      "A value is trying to be set on a copy of a slice from a DataFrame.\n",
      "Try using .loc[row_indexer,col_indexer] = value instead\n",
      "\n",
      "See the caveats in the documentation: http://pandas.pydata.org/pandas-docs/stable/indexing.html#indexing-view-versus-copy\n"
     ]
    }
   ],
   "source": [
    "Data_1_DemoPopu=pd.read_excel(\"/home/jian/Docs/Household_and_Population/2016/ACS_16_5YR_DP05_with_ann (Demographic Population).xlsx\",skiprows=1)\n",
    "Data_1_DemoPopu=Data_1_DemoPopu.rename(columns={\"Id2\":\"ZCTA\"})\n",
    "\n",
    "Data_1_DemoPopu_Col=Data_1_DemoPopu.columns.tolist()\n",
    "Data_1_DemoPopu_Col=[x for x in Data_1_DemoPopu_Col if \"Estimate\" in x]\n",
    "\n",
    "Data_1_DemoPopu_Col_NoAdjust=['Estimate; SEX AND AGE - Median age (years)']\n",
    "Data_1_DemoPopu_Col_HH=[x for x in Data_1_DemoPopu_Col if \"housing\" in x]\n",
    "no_pop_ajusted_num_col=Data_1_DemoPopu_Col_NoAdjust+Data_1_DemoPopu_Col_HH\n",
    "Data_1_DemoPopu_Col_Pop=[x for x in Data_1_DemoPopu_Col if x not in no_pop_ajusted_num_col]\n",
    "\n",
    "Data_1_NoAdjust=Data_1_DemoPopu[['ZCTA']+Data_1_DemoPopu_Col_NoAdjust]\n",
    "Data_1_NoAdjust=pd.merge(result_NoAjust,Data_1_NoAdjust,on=['ZCTA'],how='left')\n",
    "\n",
    "Data_1_PopAdjust=Data_1_DemoPopu[['ZCTA']+Data_1_DemoPopu_Col_Pop]\n",
    "Data_1_PopAdjust=pd.merge(result_Pop,Data_1_PopAdjust,on=['ZCTA'],how='left')\n",
    "for col in Data_1_DemoPopu_Col_Pop:\n",
    "    Data_1_PopAdjust[col]=Data_1_PopAdjust[col]*Data_1_PopAdjust['Pop_Ratio']\n",
    "\n",
    "Data_1_HHAdjust=Data_1_DemoPopu[['ZCTA']+Data_1_DemoPopu_Col_HH]\n",
    "Data_1_HHAdjust=pd.merge(result_HH,Data_1_HHAdjust,on=['ZCTA'],how='left')\n",
    "for col in Data_1_DemoPopu_Col_HH:\n",
    "    Data_1_HHAdjust[col]=Data_1_HHAdjust[col]*Data_1_HHAdjust['HH_Ratio']\n",
    "Data_1=pd.merge(Data_1_PopAdjust,Data_1_HHAdjust,on=[\"ZIP_CODE\",\"ZCTA\"],how=\"outer\")\n",
    "Data_1=pd.merge(Data_1,Data_1_NoAdjust,on=[\"ZIP_CODE\",\"ZCTA\"],how=\"outer\")\n",
    "del Data_1['Pop_Ratio']\n",
    "del Data_1['HH_Ratio']\n",
    "\n",
    "Data_1_DemoPopu_No_Zip=Data_1_DemoPopu[~Data_1_DemoPopu['ZCTA'].isin(Data_1['ZCTA'])]\n",
    "Data_1_DemoPopu_No_Zip['ZIP_CODE']=np.nan\n",
    "Data_1_DemoPopu_No_Zip=Data_1_DemoPopu_No_Zip[Data_1.columns.tolist()]\n",
    "Data_1=Data_1.append(Data_1_DemoPopu_No_Zip)"
   ]
  },
  {
   "cell_type": "code",
   "execution_count": 18,
   "metadata": {},
   "outputs": [
    {
     "name": "stderr",
     "output_type": "stream",
     "text": [
      "/usr/local/lib/python3.6/site-packages/ipykernel_launcher.py:28: SettingWithCopyWarning: \n",
      "A value is trying to be set on a copy of a slice from a DataFrame.\n",
      "Try using .loc[row_indexer,col_indexer] = value instead\n",
      "\n",
      "See the caveats in the documentation: http://pandas.pydata.org/pandas-docs/stable/indexing.html#indexing-view-versus-copy\n"
     ]
    }
   ],
   "source": [
    "Data_2_HouseComp=pd.read_csv(\"/home/jian/Docs/Household_and_Population/2016/ACS_16_5YR_S1101_with_ann (Household Composition).csv\",skiprows=1)\n",
    "\n",
    "Data_2_HouseComp=Data_2_HouseComp.rename(columns={\"Id2\":\"ZCTA\"})\n",
    "\n",
    "Data_2_HouseComp_Col=Data_2_HouseComp.columns.tolist()\n",
    "Data_2_HouseComp_Col=[x for x in Data_2_HouseComp_Col if \"Estimate\" in x]\n",
    "\n",
    "Data_2_NoAdjust_Col=[x for x in Data_2_HouseComp_Col if \"size\" in x]\n",
    "Data_2_HHAdjust_Col=[x for x in Data_2_HouseComp_Col if \"Total households\" in x]\n",
    "Data_2_HHAdjust_Col=['Total; Estimate; Total households',\n",
    "                     'Married-couple family household; Estimate; Total households',\n",
    "                     'Male householder, no wife present, family household; Estimate; Total households',\n",
    "                     'Female householder, no husband present, family household; Estimate; Total households',\n",
    "                     'Nonfamily household; Estimate; Total households',\n",
    "                    ]\n",
    "\n",
    "Data_2_NoAdjust=Data_2_HouseComp[['ZCTA']+Data_2_NoAdjust_Col]\n",
    "Data_2_NoAdjust=pd.merge(result_NoAjust,Data_2_NoAdjust,on=['ZCTA'],how='left')\n",
    "\n",
    "Data_2_HHAdjust=Data_2_HouseComp[['ZCTA']+Data_2_HHAdjust_Col]\n",
    "Data_2_HHAdjust=pd.merge(result_HH,Data_2_HHAdjust,on=['ZCTA'],how='left')\n",
    "for col in Data_2_HHAdjust_Col:\n",
    "    Data_2_HHAdjust[col]=Data_2_HHAdjust[col]*Data_2_HHAdjust['HH_Ratio']\n",
    "Data_2=pd.merge(Data_2_NoAdjust,Data_2_HHAdjust,on=[\"ZIP_CODE\",\"ZCTA\"],how=\"outer\")\n",
    "del Data_2['HH_Ratio']\n",
    "\n",
    "Data_2_HouseComp_No_Zip=Data_2_HouseComp[~Data_2_HouseComp['ZCTA'].isin(Data_2['ZCTA'])]\n",
    "Data_2_HouseComp_No_Zip['ZIP_CODE']=np.nan\n",
    "Data_2_HouseComp_No_Zip=Data_2_HouseComp_No_Zip[Data_2.columns.tolist()]\n",
    "Data_2=Data_2.append(Data_2_HouseComp_No_Zip)"
   ]
  },
  {
   "cell_type": "code",
   "execution_count": 19,
   "metadata": {},
   "outputs": [
    {
     "name": "stderr",
     "output_type": "stream",
     "text": [
      "/usr/local/lib/python3.6/site-packages/ipykernel_launcher.py:14: SettingWithCopyWarning: \n",
      "A value is trying to be set on a copy of a slice from a DataFrame.\n",
      "Try using .loc[row_indexer,col_indexer] = value instead\n",
      "\n",
      "See the caveats in the documentation: http://pandas.pydata.org/pandas-docs/stable/indexing.html#indexing-view-versus-copy\n",
      "  \n"
     ]
    }
   ],
   "source": [
    "Data_3_Eco=pd.read_csv(\"/home/jian/Docs/Household_and_Population/2016/ACS_16_5YR_DP03_with_ann (Demo work force).csv\",skiprows=1)\n",
    "\n",
    "Data_3_Eco=Data_3_Eco.rename(columns={\"Id2\":\"ZCTA\"})\n",
    "\n",
    "Data_3_Eco_Col=Data_3_Eco.columns.tolist()\n",
    "Data_3_Eco_Col=[x for x in Data_3_Eco_Col if \"Estimate\" in x]\n",
    "Data_3_NoAdjust_Col=[x for x in Data_3_Eco_Col if \"Rate\" in x]+[x for x in Data_3_Eco_Col if \"ncome\" in x]\n",
    "\n",
    "Data_3_NoAdjust=Data_3_Eco[['ZCTA']+Data_3_NoAdjust_Col]\n",
    "Data_3_NoAdjust=pd.merge(result_NoAjust,Data_3_NoAdjust,on=['ZCTA'],how='left')\n",
    "Data_3=Data_3_NoAdjust.copy()\n",
    "\n",
    "Data_3_Eco_No_Zip=Data_3_Eco[~Data_3_Eco['ZCTA'].isin(Data_3['ZCTA'])]\n",
    "Data_3_Eco_No_Zip['ZIP_CODE']=np.nan\n",
    "Data_3_Eco_No_Zip=Data_3_Eco_No_Zip[Data_3.columns.tolist()]\n",
    "Data_3=Data_3.append(Data_3_Eco_No_Zip)"
   ]
  },
  {
   "cell_type": "code",
   "execution_count": 20,
   "metadata": {},
   "outputs": [
    {
     "name": "stderr",
     "output_type": "stream",
     "text": [
      "/usr/local/lib/python3.6/site-packages/IPython/core/interactiveshell.py:2683: DtypeWarning: Columns (4,6,8,14,16,24,26,32,34,54,56,62,64,72,74,80,82) have mixed types. Specify dtype option on import or set low_memory=False.\n",
      "  interactivity=interactivity, compiler=compiler, result=result)\n",
      "/usr/local/lib/python3.6/site-packages/ipykernel_launcher.py:17: SettingWithCopyWarning: \n",
      "A value is trying to be set on a copy of a slice from a DataFrame.\n",
      "Try using .loc[row_indexer,col_indexer] = value instead\n",
      "\n",
      "See the caveats in the documentation: http://pandas.pydata.org/pandas-docs/stable/indexing.html#indexing-view-versus-copy\n"
     ]
    }
   ],
   "source": [
    "Data_4_AgeGender=pd.read_csv(\"/home/jian/Docs/Household_and_Population/2016/ACS_16_5YR_B01001_with_ann (Age by Sex).csv\",skiprows=1)\n",
    "\n",
    "Data_4_AgeGender=Data_4_AgeGender.rename(columns={\"Id2\":\"ZCTA\"})\n",
    "\n",
    "Data_4_AgeGender_Col=Data_4_AgeGender.columns.tolist()\n",
    "Data_4_AgeGender_Col=[x for x in Data_4_AgeGender_Col if \"Estimate\" in x]\n",
    "\n",
    "Data_4_PopAdjust=Data_4_AgeGender[['ZCTA']+Data_4_AgeGender_Col]\n",
    "Data_4_PopAdjust=pd.merge(result_Pop,Data_4_PopAdjust,on=['ZCTA'],how='left')\n",
    "for col in Data_4_AgeGender_Col:\n",
    "    Data_4_PopAdjust[col]=Data_4_PopAdjust[col]*Data_4_PopAdjust['Pop_Ratio']\n",
    "Data_4_PopAdjust.head(2)\n",
    "del Data_4_PopAdjust['Pop_Ratio']\n",
    "Data_4=Data_4_PopAdjust.copy()\n",
    "\n",
    "Data_4_AgeGender_No_Zip=Data_4_AgeGender[~Data_4_AgeGender['ZCTA'].isin(Data_4['ZCTA'])]\n",
    "Data_4_AgeGender_No_Zip['ZIP_CODE']=np.nan\n",
    "Data_4_AgeGender_No_Zip=Data_4_AgeGender_No_Zip[Data_4.columns.tolist()]\n",
    "Data_4=Data_4.append(Data_4_AgeGender_No_Zip)"
   ]
  },
  {
   "cell_type": "code",
   "execution_count": 21,
   "metadata": {
    "collapsed": true
   },
   "outputs": [],
   "source": [
    "result=pd.merge(result,Data_1,on=['ZIP_CODE','ZCTA'],how=\"left\")\n",
    "result=pd.merge(result,Data_2,on=['ZIP_CODE','ZCTA'],how=\"left\")\n",
    "result=pd.merge(result,Data_3,on=['ZIP_CODE','ZCTA'],how=\"left\")\n",
    "result=pd.merge(result,Data_4,on=['ZIP_CODE','ZCTA'],how=\"left\")\n",
    "result.to_csv(\"/home/jian/Docs/Household_and_Population/2016/Demo_Dataset_2018EASI.csv\",index=False)"
   ]
  },
  {
   "cell_type": "code",
   "execution_count": null,
   "metadata": {
    "collapsed": true
   },
   "outputs": [],
   "source": []
  },
  {
   "cell_type": "code",
   "execution_count": null,
   "metadata": {
    "collapsed": true
   },
   "outputs": [],
   "source": []
  }
 ],
 "metadata": {
  "kernelspec": {
   "display_name": "Python 3",
   "language": "python",
   "name": "python3"
  },
  "language_info": {
   "codemirror_mode": {
    "name": "ipython",
    "version": 3
   },
   "file_extension": ".py",
   "mimetype": "text/x-python",
   "name": "python",
   "nbconvert_exporter": "python",
   "pygments_lexer": "ipython3",
   "version": "3.6.1"
  }
 },
 "nbformat": 4,
 "nbformat_minor": 2
}
