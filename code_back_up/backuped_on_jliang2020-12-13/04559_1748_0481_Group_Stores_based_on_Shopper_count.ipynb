{
 "cells": [
  {
   "cell_type": "code",
   "execution_count": 1,
   "metadata": {},
   "outputs": [
    {
     "data": {
      "text/plain": [
       "'/home/jian/Projects/Big_Lots/Analysis/2018_Q3/Recent_52_weeks_shoppers_Upto_End_of_Circ_Test'"
      ]
     },
     "execution_count": 1,
     "metadata": {},
     "output_type": "execute_result"
    }
   ],
   "source": [
    "import pandas as pd\n",
    "import numpy as np\n",
    "import os\n",
    "import datetime\n",
    "os.getcwd()"
   ]
  },
  {
   "cell_type": "code",
   "execution_count": 2,
   "metadata": {
    "collapsed": true
   },
   "outputs": [],
   "source": [
    "end_date=datetime.date(2018,11,17)\n",
    "start_date=end_date-datetime.timedelta(days=52*7-1)"
   ]
  },
  {
   "cell_type": "code",
   "execution_count": null,
   "metadata": {
    "collapsed": true
   },
   "outputs": [],
   "source": []
  },
  {
   "cell_type": "code",
   "execution_count": 3,
   "metadata": {},
   "outputs": [
    {
     "data": {
      "text/html": [
       "<div>\n",
       "<style>\n",
       "    .dataframe thead tr:only-child th {\n",
       "        text-align: right;\n",
       "    }\n",
       "\n",
       "    .dataframe thead th {\n",
       "        text-align: left;\n",
       "    }\n",
       "\n",
       "    .dataframe tbody tr th {\n",
       "        vertical-align: top;\n",
       "    }\n",
       "</style>\n",
       "<table border=\"1\" class=\"dataframe\">\n",
       "  <thead>\n",
       "    <tr style=\"text-align: right;\">\n",
       "      <th></th>\n",
       "      <th>customer_id_hashed</th>\n",
       "      <th>transaction_date</th>\n",
       "      <th>location_id</th>\n",
       "      <th>total_transaction_amt</th>\n",
       "      <th>merch_cat</th>\n",
       "    </tr>\n",
       "  </thead>\n",
       "  <tbody>\n",
       "    <tr>\n",
       "      <th>0</th>\n",
       "      <td>bc45d2747297addd8bcad579da77756b007d27cd634c71...</td>\n",
       "      <td>2018-03-20</td>\n",
       "      <td>5158</td>\n",
       "      <td>22.25</td>\n",
       "      <td>12006001</td>\n",
       "    </tr>\n",
       "    <tr>\n",
       "      <th>1</th>\n",
       "      <td>f627e56e080cb699864d9c488345aee82c98fa66ebc2f2...</td>\n",
       "      <td>2018-03-10</td>\n",
       "      <td>186</td>\n",
       "      <td>16.00</td>\n",
       "      <td>55003009</td>\n",
       "    </tr>\n",
       "  </tbody>\n",
       "</table>\n",
       "</div>"
      ],
      "text/plain": [
       "                                  customer_id_hashed transaction_date  \\\n",
       "0  bc45d2747297addd8bcad579da77756b007d27cd634c71...       2018-03-20   \n",
       "1  f627e56e080cb699864d9c488345aee82c98fa66ebc2f2...       2018-03-10   \n",
       "\n",
       "  location_id  total_transaction_amt merch_cat  \n",
       "0        5158                  22.25  12006001  \n",
       "1         186                  16.00  55003009  "
      ]
     },
     "execution_count": 3,
     "metadata": {},
     "output_type": "execute_result"
    }
   ],
   "source": [
    "historical_2017=pd.read_csv(\"/home/jian/Projects/Big_Lots/Loyal_members/loyalty_sales_data/From_Sp/combinedtransactions_0811.csv\",\n",
    "                            dtype=str,usecols=['customer_id_hashed','transaction_date','location_id','total_transaction_amt','merch_cat'])\n",
    "historical_2017=historical_2017[historical_2017['merch_cat']!=\"80040410\"]\n",
    "historical_2017['total_transaction_amt']=historical_2017['total_transaction_amt'].astype(float)\n",
    "historical_2017=historical_2017.drop_duplicates()\n",
    "historical_2017=historical_2017[historical_2017['total_transaction_amt']>-400000]\n",
    "historical_2017['transaction_date']=historical_2017['transaction_date'].apply(lambda x: datetime.datetime.strptime(x,\"%Y-%m-%d\").date())\n",
    "historical_2017=historical_2017[historical_2017['transaction_date']>=start_date]\n",
    "historical_2017.head(2)\n"
   ]
  },
  {
   "cell_type": "code",
   "execution_count": 4,
   "metadata": {},
   "outputs": [],
   "source": [
    "def count_unique(x):\n",
    "    y=len(set(x))\n",
    "    return y"
   ]
  },
  {
   "cell_type": "code",
   "execution_count": 6,
   "metadata": {},
   "outputs": [
    {
     "data": {
      "text/plain": [
       "datetime.date(2018, 8, 11)"
      ]
     },
     "execution_count": 6,
     "metadata": {},
     "output_type": "execute_result"
    }
   ],
   "source": [
    "historical_2017['transaction_date'].max()"
   ]
  },
  {
   "cell_type": "code",
   "execution_count": 7,
   "metadata": {
    "collapsed": true
   },
   "outputs": [],
   "source": [
    "historical_2017=historical_2017[['customer_id_hashed','transaction_date','location_id']].drop_duplicates()"
   ]
  },
  {
   "cell_type": "code",
   "execution_count": 25,
   "metadata": {},
   "outputs": [],
   "source": [
    "rewards_2018=pd.read_table(\"/home/jian/Projects/Big_Lots/Loyal_members/loyalty_sales_data/MediaStormSalesBiWeekly20180828-131144-584.txt\",\n",
    "                             dtype=str,sep=\"|\",usecols=['customer_id_hashed','location_id','transaction_dt','total_transaction_amt','merch_cat'])\n",
    "rewards_2018=rewards_2018[rewards_2018['merch_cat']!='80040410']\n",
    "rewards_2018['total_transaction_amt']=rewards_2018['total_transaction_amt'].astype(float)\n",
    "rewards_2018=rewards_2018[rewards_2018['total_transaction_amt']>=-400000]\n",
    "rewards_2018['transaction_dt']=rewards_2018['transaction_dt'].apply(lambda x: datetime.datetime.strptime(x,\"%Y-%m-%d\").date())\n",
    "rewards_2018=rewards_2018[rewards_2018['transaction_dt']>historical_2017['transaction_date'].max()]\n"
   ]
  },
  {
   "cell_type": "code",
   "execution_count": 26,
   "metadata": {},
   "outputs": [],
   "source": [
    "rewards_2018_1=pd.read_table(\"/home/jian/Projects/Big_Lots/Loyal_members/loyalty_sales_data/MediaStormSalesBiWeekly20180911-133008-590.txt\",\n",
    "                             dtype=str,sep=\"|\",usecols=['customer_id_hashed','location_id','transaction_dt','total_transaction_amt','merch_cat'])\n",
    "rewards_2018_1=rewards_2018_1[rewards_2018_1['merch_cat']!='80040410']\n",
    "rewards_2018_1['total_transaction_amt']=rewards_2018_1['total_transaction_amt'].astype(float)\n",
    "rewards_2018_1=rewards_2018_1[rewards_2018_1['total_transaction_amt']>=-400000]\n",
    "rewards_2018_1['transaction_dt']=rewards_2018_1['transaction_dt'].apply(lambda x: datetime.datetime.strptime(x,\"%Y-%m-%d\").date())\n",
    "rewards_2018_1=rewards_2018_1[rewards_2018_1['transaction_dt']>rewards_2018['transaction_dt'].max()]\n",
    "rewards_2018=rewards_2018.append(rewards_2018_1)"
   ]
  },
  {
   "cell_type": "code",
   "execution_count": 27,
   "metadata": {},
   "outputs": [],
   "source": [
    "rewards_2018_1=pd.read_table(\"/home/jian/Projects/Big_Lots/Loyal_members/loyalty_sales_data/MediaStormSalesBiWeekly20180925-132958-543.txt\",\n",
    "                             dtype=str,sep=\"|\",usecols=['customer_id_hashed','location_id','transaction_dt','total_transaction_amt','merch_cat'])\n",
    "rewards_2018_1=rewards_2018_1[rewards_2018_1['merch_cat']!='80040410']\n",
    "rewards_2018_1['total_transaction_amt']=rewards_2018_1['total_transaction_amt'].astype(float)\n",
    "rewards_2018_1=rewards_2018_1[rewards_2018_1['total_transaction_amt']>=-400000]\n",
    "rewards_2018_1['transaction_dt']=rewards_2018_1['transaction_dt'].apply(lambda x: datetime.datetime.strptime(x,\"%Y-%m-%d\").date())\n",
    "rewards_2018_1=rewards_2018_1[rewards_2018_1['transaction_dt']>rewards_2018['transaction_dt'].max()]\n",
    "rewards_2018=rewards_2018.append(rewards_2018_1)"
   ]
  },
  {
   "cell_type": "code",
   "execution_count": 28,
   "metadata": {
    "collapsed": true
   },
   "outputs": [],
   "source": [
    "rewards_2018_1=pd.read_table(\"/home/jian/Projects/Big_Lots/Loyal_members/loyalty_sales_data/MediaStormSalesBiWeekly20181009-132856-945.txt\",\n",
    "                             dtype=str,sep=\"|\",usecols=['customer_id_hashed','location_id','transaction_dt','total_transaction_amt','merch_cat'])\n",
    "rewards_2018_1=rewards_2018_1[rewards_2018_1['merch_cat']!='80040410']\n",
    "rewards_2018_1['total_transaction_amt']=rewards_2018_1['total_transaction_amt'].astype(float)\n",
    "rewards_2018_1=rewards_2018_1[rewards_2018_1['total_transaction_amt']>=-400000]\n",
    "rewards_2018_1['transaction_dt']=rewards_2018_1['transaction_dt'].apply(lambda x: datetime.datetime.strptime(x,\"%Y-%m-%d\").date())\n",
    "rewards_2018_1=rewards_2018_1[rewards_2018_1['transaction_dt']>rewards_2018['transaction_dt'].max()]\n",
    "rewards_2018=rewards_2018.append(rewards_2018_1)"
   ]
  },
  {
   "cell_type": "code",
   "execution_count": 29,
   "metadata": {
    "collapsed": true
   },
   "outputs": [],
   "source": [
    "rewards_2018_1=pd.read_table(\"/home/jian/Projects/Big_Lots/Loyal_members/loyalty_sales_data/MediaStormSalesBiWeekly20181023-132316-829.txt\",\n",
    "                             dtype=str,sep=\"|\",usecols=['customer_id_hashed','location_id','transaction_dt','total_transaction_amt','merch_cat'])\n",
    "rewards_2018_1=rewards_2018_1[rewards_2018_1['merch_cat']!='80040410']\n",
    "rewards_2018_1['total_transaction_amt']=rewards_2018_1['total_transaction_amt'].astype(float)\n",
    "rewards_2018_1=rewards_2018_1[rewards_2018_1['total_transaction_amt']>=-400000]\n",
    "rewards_2018_1['transaction_dt']=rewards_2018_1['transaction_dt'].apply(lambda x: datetime.datetime.strptime(x,\"%Y-%m-%d\").date())\n",
    "rewards_2018_1=rewards_2018_1[rewards_2018_1['transaction_dt']>rewards_2018['transaction_dt'].max()]\n",
    "rewards_2018=rewards_2018.append(rewards_2018_1)"
   ]
  },
  {
   "cell_type": "code",
   "execution_count": 30,
   "metadata": {
    "collapsed": true
   },
   "outputs": [],
   "source": [
    "rewards_2018_1=pd.read_table(\"/home/jian/Projects/Big_Lots/Loyal_members/loyalty_sales_data/MediaStormSalesBiWeekly20181106-132358-296.txt\",\n",
    "                             dtype=str,sep=\"|\",usecols=['customer_id_hashed','location_id','transaction_dt','total_transaction_amt','merch_cat'])\n",
    "rewards_2018_1=rewards_2018_1[rewards_2018_1['merch_cat']!='80040410']\n",
    "rewards_2018_1['total_transaction_amt']=rewards_2018_1['total_transaction_amt'].astype(float)\n",
    "rewards_2018_1=rewards_2018_1[rewards_2018_1['total_transaction_amt']>=-400000]\n",
    "rewards_2018_1['transaction_dt']=rewards_2018_1['transaction_dt'].apply(lambda x: datetime.datetime.strptime(x,\"%Y-%m-%d\").date())\n",
    "rewards_2018_1=rewards_2018_1[rewards_2018_1['transaction_dt']>rewards_2018['transaction_dt'].max()]\n",
    "rewards_2018=rewards_2018.append(rewards_2018_1)"
   ]
  },
  {
   "cell_type": "code",
   "execution_count": 31,
   "metadata": {
    "collapsed": true
   },
   "outputs": [],
   "source": [
    "rewards_2018_1=pd.read_table(\"/home/jian/Projects/Big_Lots/Loyal_members/loyalty_sales_data/MediaStormSalesBiWeekly20181120-132652-284.txt\",\n",
    "                             dtype=str,sep=\"|\",usecols=['customer_id_hashed','location_id','transaction_dt','total_transaction_amt','merch_cat'])\n",
    "rewards_2018_1=rewards_2018_1[rewards_2018_1['merch_cat']!='80040410']\n",
    "rewards_2018_1['total_transaction_amt']=rewards_2018_1['total_transaction_amt'].astype(float)\n",
    "rewards_2018_1=rewards_2018_1[rewards_2018_1['total_transaction_amt']>=-400000]\n",
    "rewards_2018_1['transaction_dt']=rewards_2018_1['transaction_dt'].apply(lambda x: datetime.datetime.strptime(x,\"%Y-%m-%d\").date())\n",
    "rewards_2018_1=rewards_2018_1[rewards_2018_1['transaction_dt']>rewards_2018['transaction_dt'].max()]\n",
    "rewards_2018=rewards_2018.append(rewards_2018_1)\n",
    "\n"
   ]
  },
  {
   "cell_type": "code",
   "execution_count": 32,
   "metadata": {},
   "outputs": [
    {
     "data": {
      "text/plain": [
       "datetime.date(2018, 11, 17)"
      ]
     },
     "execution_count": 32,
     "metadata": {},
     "output_type": "execute_result"
    }
   ],
   "source": [
    "rewards_2018['transaction_dt'].max()"
   ]
  },
  {
   "cell_type": "code",
   "execution_count": 33,
   "metadata": {},
   "outputs": [
    {
     "data": {
      "text/plain": [
       "datetime.date(2018, 8, 12)"
      ]
     },
     "execution_count": 33,
     "metadata": {},
     "output_type": "execute_result"
    }
   ],
   "source": [
    "rewards_2018['transaction_dt'].min()"
   ]
  },
  {
   "cell_type": "code",
   "execution_count": 34,
   "metadata": {
    "collapsed": true
   },
   "outputs": [],
   "source": [
    "rewards_2018=rewards_2018[['customer_id_hashed','transaction_dt','location_id']].rename(columns={\"transaction_dt\":\"transaction_date\"})\n",
    "rewards_2018=rewards_2018.drop_duplicates()\n"
   ]
  },
  {
   "cell_type": "code",
   "execution_count": 35,
   "metadata": {},
   "outputs": [
    {
     "data": {
      "text/plain": [
       "1871"
      ]
     },
     "execution_count": 35,
     "metadata": {},
     "output_type": "execute_result"
    }
   ],
   "source": [
    "import gc\n",
    "gc.collect()"
   ]
  },
  {
   "cell_type": "code",
   "execution_count": 47,
   "metadata": {},
   "outputs": [],
   "source": [
    "recent_52_weeks_id_date=historical_2017.append(rewards_2018)\n",
    "\n",
    "stores_rewards_date_counts=recent_52_weeks_id_date.groupby(['location_id'])['transaction_date'].apply(count_unique).to_frame().reset_index()\n",
    "stores_rewards_date_counts=stores_rewards_date_counts.rename(columns={\"transaction_date\":\"day_counts\"})\n",
    "\n",
    "stores_rewards_id_counts=recent_52_weeks_id_date.groupby(['location_id'])['customer_id_hashed'].apply(count_unique).to_frame().reset_index()\n",
    "stores_rewards_id_counts=stores_rewards_id_counts.rename(columns={\"customer_id_hashed\":\"rewards_id_counts\"})"
   ]
  },
  {
   "cell_type": "code",
   "execution_count": 53,
   "metadata": {},
   "outputs": [],
   "source": [
    "output=pd.merge(stores_rewards_date_counts,stores_rewards_id_counts,on=\"location_id\",how=\"left\")\n",
    "output['location_id']=output['location_id'].astype(int)\n",
    "output=output.sort_values('location_id')\n"
   ]
  },
  {
   "cell_type": "code",
   "execution_count": 56,
   "metadata": {},
   "outputs": [],
   "source": [
    "writer=pd.ExcelWriter(\"/home/jian/Projects/Big_Lots/Analysis/2018_Q3/Recent_52_weeks_shoppers_Upto_End_of_Circ_Test/BL_recent_52_weeks_ids_by_Store_to_20181117_JL_\"+str(datetime.datetime.now().date())+\".xlsx\",engine=\"xlsxwriter\")\n",
    "output.to_excel(writer,\"rewards_shoppers_by_store\",index=False)\n",
    "writer.save()"
   ]
  },
  {
   "cell_type": "code",
   "execution_count": 50,
   "metadata": {},
   "outputs": [
    {
     "data": {
      "text/html": [
       "<div>\n",
       "<style>\n",
       "    .dataframe thead tr:only-child th {\n",
       "        text-align: right;\n",
       "    }\n",
       "\n",
       "    .dataframe thead th {\n",
       "        text-align: left;\n",
       "    }\n",
       "\n",
       "    .dataframe tbody tr th {\n",
       "        vertical-align: top;\n",
       "    }\n",
       "</style>\n",
       "<table border=\"1\" class=\"dataframe\">\n",
       "  <thead>\n",
       "    <tr style=\"text-align: right;\">\n",
       "      <th></th>\n",
       "      <th>location_id</th>\n",
       "      <th>rewards_id_counts</th>\n",
       "    </tr>\n",
       "  </thead>\n",
       "  <tbody>\n",
       "    <tr>\n",
       "      <th>0</th>\n",
       "      <td>1</td>\n",
       "      <td>16761</td>\n",
       "    </tr>\n",
       "    <tr>\n",
       "      <th>1</th>\n",
       "      <td>1001</td>\n",
       "      <td>8611</td>\n",
       "    </tr>\n",
       "  </tbody>\n",
       "</table>\n",
       "</div>"
      ],
      "text/plain": [
       "  location_id  rewards_id_counts\n",
       "0           1              16761\n",
       "1        1001               8611"
      ]
     },
     "execution_count": 50,
     "metadata": {},
     "output_type": "execute_result"
    }
   ],
   "source": [
    "stores_rewards_id_counts.head(2)"
   ]
  },
  {
   "cell_type": "code",
   "execution_count": 52,
   "metadata": {},
   "outputs": [
    {
     "data": {
      "text/html": [
       "<div>\n",
       "<style>\n",
       "    .dataframe thead tr:only-child th {\n",
       "        text-align: right;\n",
       "    }\n",
       "\n",
       "    .dataframe thead th {\n",
       "        text-align: left;\n",
       "    }\n",
       "\n",
       "    .dataframe tbody tr th {\n",
       "        vertical-align: top;\n",
       "    }\n",
       "</style>\n",
       "<table border=\"1\" class=\"dataframe\">\n",
       "  <thead>\n",
       "    <tr style=\"text-align: right;\">\n",
       "      <th></th>\n",
       "      <th>location_id</th>\n",
       "      <th>day_counts</th>\n",
       "    </tr>\n",
       "  </thead>\n",
       "  <tbody>\n",
       "    <tr>\n",
       "      <th>0</th>\n",
       "      <td>1</td>\n",
       "      <td>363</td>\n",
       "    </tr>\n",
       "    <tr>\n",
       "      <th>1</th>\n",
       "      <td>1001</td>\n",
       "      <td>363</td>\n",
       "    </tr>\n",
       "    <tr>\n",
       "      <th>2</th>\n",
       "      <td>1003</td>\n",
       "      <td>362</td>\n",
       "    </tr>\n",
       "    <tr>\n",
       "      <th>3</th>\n",
       "      <td>1005</td>\n",
       "      <td>362</td>\n",
       "    </tr>\n",
       "    <tr>\n",
       "      <th>4</th>\n",
       "      <td>1006</td>\n",
       "      <td>160</td>\n",
       "    </tr>\n",
       "    <tr>\n",
       "      <th>5</th>\n",
       "      <td>1007</td>\n",
       "      <td>363</td>\n",
       "    </tr>\n",
       "    <tr>\n",
       "      <th>6</th>\n",
       "      <td>1009</td>\n",
       "      <td>363</td>\n",
       "    </tr>\n",
       "    <tr>\n",
       "      <th>7</th>\n",
       "      <td>1011</td>\n",
       "      <td>363</td>\n",
       "    </tr>\n",
       "    <tr>\n",
       "      <th>8</th>\n",
       "      <td>1012</td>\n",
       "      <td>362</td>\n",
       "    </tr>\n",
       "    <tr>\n",
       "      <th>9</th>\n",
       "      <td>1013</td>\n",
       "      <td>363</td>\n",
       "    </tr>\n",
       "    <tr>\n",
       "      <th>10</th>\n",
       "      <td>1016</td>\n",
       "      <td>362</td>\n",
       "    </tr>\n",
       "    <tr>\n",
       "      <th>11</th>\n",
       "      <td>1017</td>\n",
       "      <td>363</td>\n",
       "    </tr>\n",
       "    <tr>\n",
       "      <th>12</th>\n",
       "      <td>1018</td>\n",
       "      <td>363</td>\n",
       "    </tr>\n",
       "    <tr>\n",
       "      <th>13</th>\n",
       "      <td>1019</td>\n",
       "      <td>363</td>\n",
       "    </tr>\n",
       "    <tr>\n",
       "      <th>14</th>\n",
       "      <td>1020</td>\n",
       "      <td>363</td>\n",
       "    </tr>\n",
       "    <tr>\n",
       "      <th>15</th>\n",
       "      <td>1021</td>\n",
       "      <td>362</td>\n",
       "    </tr>\n",
       "    <tr>\n",
       "      <th>16</th>\n",
       "      <td>1022</td>\n",
       "      <td>363</td>\n",
       "    </tr>\n",
       "    <tr>\n",
       "      <th>17</th>\n",
       "      <td>1027</td>\n",
       "      <td>363</td>\n",
       "    </tr>\n",
       "    <tr>\n",
       "      <th>18</th>\n",
       "      <td>1037</td>\n",
       "      <td>363</td>\n",
       "    </tr>\n",
       "    <tr>\n",
       "      <th>19</th>\n",
       "      <td>1038</td>\n",
       "      <td>362</td>\n",
       "    </tr>\n",
       "  </tbody>\n",
       "</table>\n",
       "</div>"
      ],
      "text/plain": [
       "   location_id  day_counts\n",
       "0            1         363\n",
       "1         1001         363\n",
       "2         1003         362\n",
       "3         1005         362\n",
       "4         1006         160\n",
       "5         1007         363\n",
       "6         1009         363\n",
       "7         1011         363\n",
       "8         1012         362\n",
       "9         1013         363\n",
       "10        1016         362\n",
       "11        1017         363\n",
       "12        1018         363\n",
       "13        1019         363\n",
       "14        1020         363\n",
       "15        1021         362\n",
       "16        1022         363\n",
       "17        1027         363\n",
       "18        1037         363\n",
       "19        1038         362"
      ]
     },
     "execution_count": 52,
     "metadata": {},
     "output_type": "execute_result"
    }
   ],
   "source": [
    "stores_rewards_date_counts.head(20)"
   ]
  },
  {
   "cell_type": "code",
   "execution_count": null,
   "metadata": {
    "collapsed": true
   },
   "outputs": [],
   "source": []
  }
 ],
 "metadata": {
  "kernelspec": {
   "display_name": "Python 3",
   "language": "python",
   "name": "python3"
  },
  "language_info": {
   "codemirror_mode": {
    "name": "ipython",
    "version": 3
   },
   "file_extension": ".py",
   "mimetype": "text/x-python",
   "name": "python",
   "nbconvert_exporter": "python",
   "pygments_lexer": "ipython3",
   "version": "3.6.1"
  }
 },
 "nbformat": 4,
 "nbformat_minor": 2
}
