{
 "cells": [
  {
   "cell_type": "code",
   "execution_count": 1,
   "metadata": {
    "collapsed": true
   },
   "outputs": [],
   "source": [
    "import pandas as pd\n",
    "import numpy as np\n",
    "import logging\n",
    "import datetime\n",
    "import os\n",
    "import glob\n",
    "Read_rows=None"
   ]
  },
  {
   "cell_type": "code",
   "execution_count": 2,
   "metadata": {
    "collapsed": true
   },
   "outputs": [],
   "source": [
    "os.getcwd()\n",
    "logging.basicConfig(filename='Load_All_Daily_and_Compare_to_Rewards_'+str(datetime.datetime.now().date())+'_files.log', level=logging.INFO)"
   ]
  },
  {
   "cell_type": "markdown",
   "metadata": {},
   "source": [
    "# Load Daily Data"
   ]
  },
  {
   "cell_type": "code",
   "execution_count": 17,
   "metadata": {
    "collapsed": true
   },
   "outputs": [],
   "source": [
    "daily_2017_file_list_1=glob.glob(\"/home/jian/BigLots/2017_Daily_Sales_Weeks_Quarter_as_Transfer/2017_Q3/*.txt\")\n",
    "daily_2017_file_list_2=glob.glob(\"/home/jian/BigLots/2017_Daily_Sales_Weeks_Quarter_as_Transfer/2017_Q4/*.txt\")\n",
    "daily_2017_file_list_3=glob.glob(\"/home/jian/BigLots/2017_Daily_Sales_Weeks_Quarter_as_Transfer/2018_Q1/*.txt\")\n",
    "daily_2017_file_list_zip=glob.glob(\"/home/jian/BigLots/2017_Daily_Sales_Weeks_Quarter_as_Transfer/Historical_Back_2016June/*.zip\")"
   ]
  },
  {
   "cell_type": "code",
   "execution_count": 11,
   "metadata": {
    "collapsed": true
   },
   "outputs": [],
   "source": [
    "start_date_2018_daily=datetime.date(2018,6,16)\n",
    "\n",
    "all_2018_received_dates=[start_date_2018_daily+datetime.timedelta(days=x*7) for x in range(24)]\n",
    "max(all_2018_received_dates)\n",
    "daily_2018_file_list=list()\n",
    "for date_folder in all_2018_received_dates:\n",
    "    folder_path=\"/home/jian/BigLots/2018_by_weeks/MediaStorm_\"+str(date_folder)+\"/\"\n",
    "    file_daily=[x for x in glob.glob(folder_path+\"*.txt\") if \"ailySales\" in x]\n",
    "    if len(file_daily)!=1:\n",
    "        logging.info(\"Missing daily date in teh folder: \"+str(date_folder))\n",
    "    daily_2018_file_list.append(file_daily[0])\n",
    "\n",
    "daily_2017_file_list_4=daily_2017_file_list_1+daily_2017_file_list_2+daily_2017_file_list_3+daily_2018_file_list"
   ]
  },
  {
   "cell_type": "code",
   "execution_count": 5,
   "metadata": {
    "collapsed": true
   },
   "outputs": [],
   "source": [
    "all_file_daily_txt=pd.DataFrame()\n",
    "i=0\n",
    "for file in all_file_daily_txt:\n",
    "    logging.info(datetime.datetime.now())\n",
    "    df=pd.read_table(file,dtype=str,sep=\"|\",nrows=Read_rows)\n",
    "    df=df.drop_duplicates()\n",
    "    df['subclass_transaction_amt']=df['subclass_transaction_amt'].astype(float)\n",
    "    df['subclass_transaction_units']=df['subclass_transaction_units'].astype(int)\n",
    "    df['rewards_label']=np.where(pd.isnull(df['customer_id_hashed']),\"Non_Rewards\",\"Rewards\")\n",
    "    df['transaction_dt']=df['transaction_dt'].apply(lambda x: datetime.datetime.strptime(x,\"%Y-%m-%d\").date())\n",
    "    i+=1\n",
    "    logging.info(\"File \"+str(i)+\": \"+str(df['transaction_dt'].min())+\" to \"+str(df['transaction_dt'].max()))\n",
    "    df_sales=df.groupby(['location_id','rewards_label','transaction_dt'])['subclass_transaction_amt'].sum().to_frame().reset_index()\n",
    "    df_sales=df_sales.rename(columns={\"subclass_transaction_amt\":\"sales\"})\n",
    "    df_trans=df.groupby(['location_id','rewards_label','transaction_dt'])['subclass_transaction_amt'].count().to_frame().reset_index()\n",
    "    df_trans=df_trans.rename(columns={\"subclass_transaction_amt\":\"trans\"})\n",
    "    \n",
    "    df=pd.merge(df_sales,df_trans,on=['location_id','rewards_label','transaction_dt'],how=\"left\")\n",
    "    daily_aggregated=daily_aggregated.append(df)"
   ]
  },
  {
   "cell_type": "code",
   "execution_count": null,
   "metadata": {
    "collapsed": true
   },
   "outputs": [],
   "source": [
    "daily_aggregated_zip=pd.DataFrame()\n",
    "i=0\n",
    "for file in daily_2017_file_list_zip:\n",
    "    logging.info(datetime.datetime.now())\n",
    "    df=pd.read_table(file,dtype=str,sep=\"|\",nrows=Read_rows,compression=\"zip\")\n",
    "    df=df.drop_duplicates()\n",
    "    df['subclass_transaction_amt']=df['subclass_transaction_amt'].astype(float)\n",
    "    df['subclass_transaction_units']=df['subclass_transaction_units'].astype(int)\n",
    "    df['rewards_label']=np.where(pd.isnull(df['customer_id_hashed']),\"Non_Rewards\",\"Rewards\")\n",
    "    df['transaction_dt']=df['transaction_dt'].apply(lambda x: datetime.datetime.strptime(x,\"%Y-%m-%d\").date())\n",
    "    i+=1\n",
    "    logging.info(\"File \"+str(i)+\": \"+str(df['transaction_dt'].min())+\" to \"+str(df['transaction_dt'].max()))\n",
    "    df_sales=df.groupby(['location_id','rewards_label','transaction_dt'])['subclass_transaction_amt'].sum().to_frame().reset_index()\n",
    "    df_sales=df_sales.rename(columns={\"subclass_transaction_amt\":\"sales\"})\n",
    "    df_trans=df.groupby(['location_id','rewards_label','transaction_dt'])['subclass_transaction_amt'].count().to_frame().reset_index()\n",
    "    df_trans=df_trans.rename(columns={\"subclass_transaction_amt\":\"trans\"})\n",
    "    \n",
    "    df=pd.merge(df_sales,df_trans,on=['location_id','rewards_label','transaction_dt'],how=\"left\")\n",
    "    daily_aggregated_zip=daily_aggregated_zip.append(df)"
   ]
  },
  {
   "cell_type": "code",
   "execution_count": null,
   "metadata": {
    "collapsed": true
   },
   "outputs": [],
   "source": [
    "daily_aggregated=daily_aggregated_txt.append(daily_aggregated_zip)\n",
    "daily_aggregated=daily_aggregated.sort_values(['week_end_dt','location_id']).reset_index()\n",
    "del daily_aggregated['index']"
   ]
  },
  {
   "cell_type": "code",
   "execution_count": 6,
   "metadata": {
    "collapsed": true
   },
   "outputs": [],
   "source": [
    "daily_aggregated['location_id']=daily_aggregated['location_id'].astype(int)\n",
    "def add_week_end_dt(x):\n",
    "    if x.weekday()==6:\n",
    "        y=x+datetime.timedelta(days=6)\n",
    "    else:\n",
    "        y=x+datetime.timedelta(days=5-x.weekday())\n",
    "    return y\n",
    "daily_aggregated['week_end_dt']=daily_aggregated['transaction_dt'].apply(lambda x: add_week_end_dt(x))\n",
    "daily_aggregated=daily_aggregated.sort_values(['location_id','transaction_dt','rewards_label'])\n",
    "\n",
    "daily_aggregated_rewards=daily_aggregated[daily_aggregated['rewards_label']==\"Rewards\"]\n",
    "daily_aggregated_Non_rewards=daily_aggregated[daily_aggregated['rewards_label']==\"Non_Rewards\"]\n",
    "\n",
    "daily_aggregated_rewards_by_week=daily_aggregated_rewards.groupby(['location_id','week_end_dt'])['sales','trans'].sum().reset_index()\n",
    "daily_aggregated_Non_rewards_by_week=daily_aggregated_Non_rewards.groupby(['location_id','week_end_dt'])['sales','trans'].sum().reset_index()\n",
    "daily_aggregated_Total_by_week=daily_aggregated.groupby(['location_id','week_end_dt'])['sales','trans'].sum().reset_index()\n",
    "\n",
    "daily_aggregated_rewards_by_week=daily_aggregated_rewards_by_week.rename(columns={\"sales\":\"R_sales_DailyData\",\"trans\":\"R_trans_DailyData\"})\n",
    "daily_aggregated_Non_rewards_by_week=daily_aggregated_Non_rewards_by_week.rename(columns={\"sales\":\"NonR_sales_DailyData\",\"trans\":\"NonR_trans_DailyData\"})\n",
    "daily_aggregated_Total_by_week=daily_aggregated_Total_by_week.rename(columns={\"sales\":\"Total_sales_DailyData\",\"trans\":\"Total_trans_DailyData\"})\n",
    "\n",
    "daily_data_by_week=pd.merge(daily_aggregated_rewards_by_week,daily_aggregated_Non_rewards_by_week,on=['location_id','week_end_dt'],how=\"left\")\n",
    "daily_data_by_week=pd.merge(daily_data_by_week,daily_aggregated_Total_by_week,on=['location_id','week_end_dt'],how=\"left\")\n"
   ]
  },
  {
   "cell_type": "markdown",
   "metadata": {},
   "source": [
    "# Load Rewards Data removing 80040410"
   ]
  },
  {
   "cell_type": "code",
   "execution_count": 7,
   "metadata": {
    "collapsed": true
   },
   "outputs": [],
   "source": [
    "data_from_SP=pd.read_csv(\"/home/jian/Projects/Big_Lots/Loyal_members/loyalty_sales_data/From_Sp/combinedtransactions_0811.csv\",nrows=Read_rows,\n",
    "                         dtype=str,usecols=['customer_id_hashed','location_id','transaction_date','transaction_id','total_transaction_amt','merch_cat'])\n",
    "data_from_SP=data_from_SP[data_from_SP['merch_cat']!=\"80040410\"]\n",
    "data_from_SP=data_from_SP.drop_duplicates()\n",
    "data_from_SP['total_transaction_amt']=data_from_SP['total_transaction_amt'].astype(float)\n",
    "data_from_SP_sales=data_from_SP.groupby(['location_id','transaction_date'])['total_transaction_amt'].sum().to_frame().reset_index()\n",
    "data_from_SP_trans=data_from_SP.groupby(['location_id','transaction_date'])['total_transaction_amt'].count().to_frame().reset_index()\n",
    "data_from_SP_sales=data_from_SP_sales.rename(columns={\"total_transaction_amt\":\"rewards_sales\"})\n",
    "data_from_SP_trans=data_from_SP_trans.rename(columns={\"total_transaction_amt\":\"rewards_trans\"})\n",
    "\n",
    "data_from_SP=pd.merge(data_from_SP_sales,data_from_SP_trans,on=['location_id','transaction_date'],how=\"left\")\n",
    "data_from_SP['transaction_date']=data_from_SP['transaction_date'].apply(lambda x: datetime.datetime.strptime(x,\"%Y-%m-%d\").date())\n",
    "data_from_SP['week_end_dt']=data_from_SP['transaction_date'].apply(lambda x: add_week_end_dt(x))\n",
    "data_from_SP_weekly=data_from_SP.groupby(['location_id','week_end_dt'])['rewards_sales','rewards_trans'].sum().reset_index()\n"
   ]
  },
  {
   "cell_type": "code",
   "execution_count": 8,
   "metadata": {
    "collapsed": true
   },
   "outputs": [],
   "source": [
    "start_date_2018_BiWeekly=datetime.date(2018,8,25)\n",
    "\n",
    "all_2018_received_dates=[start_date_2018_BiWeekly+datetime.timedelta(days=x*7) for x in range(16)]\n",
    "max(all_2018_received_dates)\n",
    "BiWeekly_2018_file_list=list()\n",
    "for date_folder in all_2018_received_dates:\n",
    "    folder_path=\"/home/jian/BigLots/2018_by_weeks/MediaStorm_\"+str(date_folder)+\"/\"\n",
    "    file_biweekly=[x for x in glob.glob(folder_path+\"*.txt\") if \"SalesBiWeekly\" in x]\n",
    "    if len(file_biweekly)!=1:\n",
    "        logging.info(\"Missing daily date in teh folder: \"+str(date_folder))\n",
    "    else:\n",
    "        BiWeekly_2018_file_list.append(file_biweekly[0])"
   ]
  },
  {
   "cell_type": "code",
   "execution_count": 9,
   "metadata": {
    "collapsed": true
   },
   "outputs": [],
   "source": [
    "Biweekly_aggregated=pd.DataFrame()\n",
    "for file in BiWeekly_2018_file_list:\n",
    "    df=pd.read_table(file,sep=\"|\",dtype=str,nrows=Read_rows,usecols=['customer_id_hashed','location_id','transaction_dt','transaction_id','total_transaction_amt','merch_cat'])\n",
    "    df=df[df['merch_cat']!=\"80040410\"]\n",
    "    df=df.drop_duplicates()\n",
    "    df['total_transaction_amt']=df['total_transaction_amt'].astype(float)\n",
    "    df_sales=df.groupby(['location_id','transaction_dt'])['total_transaction_amt'].sum().to_frame().reset_index()\n",
    "    df_trans=df.groupby(['location_id','transaction_dt'])['total_transaction_amt'].count().to_frame().reset_index()\n",
    "    df_sales=df_sales.rename(columns={\"total_transaction_amt\":\"rewards_sales\"})\n",
    "    df_trans=df_trans.rename(columns={\"total_transaction_amt\":\"rewards_trans\"})\n",
    "\n",
    "    df=pd.merge(df_sales,df_trans,on=['location_id','transaction_dt'],how=\"left\")\n",
    "    df['transaction_dt']=df['transaction_dt'].apply(lambda x: datetime.datetime.strptime(x,\"%Y-%m-%d\").date())\n",
    "    df['week_end_dt']=df['transaction_dt'].apply(lambda x: add_week_end_dt(x))\n",
    "    df_weekly=df.groupby(['location_id','week_end_dt'])['rewards_sales','rewards_trans'].sum().reset_index()\n",
    "    Biweekly_aggregated=Biweekly_aggregated.append(df_weekly)\n",
    "    \n",
    "All_rewards=data_from_SP_weekly.append(Biweekly_aggregated)\n",
    "All_rewards=All_rewards.rename(columns={\"rewards_sales\":\"R_sales_BiWeeklyDate\",\"rewards_trans\":\"R_trans_BiWeeklyDate\",})"
   ]
  },
  {
   "cell_type": "markdown",
   "metadata": {},
   "source": [
    "# Load weekly sales"
   ]
  },
  {
   "cell_type": "code",
   "execution_count": 10,
   "metadata": {
    "collapsed": true
   },
   "outputs": [],
   "source": [
    "Weekly_Long=pd.read_csv(\"/home/jian/BiglotsCode/outputs/combined_sales_long_2018-12-01.csv\",dtype=str,nrows=Read_rows)\n",
    "Weekly_Long=Weekly_Long[['location_id','week_end_date','sales','transactions']]\n",
    "Weekly_Long['sales']=Weekly_Long['sales'].astype(float)\n",
    "Weekly_Long['transactions']=Weekly_Long['transactions'].astype(float).astype(int)\n",
    "Weekly_Long['week_end_date']=Weekly_Long['week_end_date'].apply(lambda x: datetime.datetime.strptime(x,\"%Y-%m-%d\").date())\n",
    "Weekly_Long=Weekly_Long.rename(columns={'week_end_date':'week_end_dt',\"sales\":\"sales_WeeklyData\",\"transactions\":\"trans_WeeklyData\"})\n",
    "\n",
    "daily_data_by_week['location_id']=daily_data_by_week['location_id'].astype(str)\n",
    "All_rewards['location_id']=All_rewards['location_id'].astype(str)\n",
    "Weekly_Long['location_id']=Weekly_Long['location_id'].astype(str)\n",
    "\n"
   ]
  },
  {
   "cell_type": "code",
   "execution_count": 19,
   "metadata": {
    "collapsed": true
   },
   "outputs": [],
   "source": [
    "output=pd.merge(daily_data_by_week,All_rewards,on=[\"location_id\",'week_end_dt'],how=\"left\")\n",
    "output=pd.merge(output,Weekly_Long,on=[\"location_id\",'week_end_dt'],how=\"left\")\n",
    "output=output[output['location_id']!=\"6990\"]\n",
    "output['TotalSales_Ratio_DailyToWeekly']=output['Total_sales_DailyData']/output['sales_WeeklyData']\n",
    "output['R_Sales_Ratio_DailyToBiweekly']=output['R_sales_DailyData']/output['R_sales_BiWeeklyDate']\n",
    "output['location_id']=output['location_id'].astype(int)\n",
    "output=output.sort_values(['week_end_dt','location_id'],ascending=[True,True])\n"
   ]
  },
  {
   "cell_type": "code",
   "execution_count": 88,
   "metadata": {
    "collapsed": true
   },
   "outputs": [],
   "source": [
    "output.to_csv(\"/home/jian/BigLots/2017_Daily_Sales_Weeks_Quarter_as_Transfer/BL_Compare_daily_all_JL_\"+str(datetime.datetime.now().date())+\".csv\",index=False)"
   ]
  },
  {
   "cell_type": "code",
   "execution_count": null,
   "metadata": {
    "collapsed": true
   },
   "outputs": [],
   "source": []
  }
 ],
 "metadata": {
  "kernelspec": {
   "display_name": "Python 3",
   "language": "python",
   "name": "python3"
  },
  "language_info": {
   "codemirror_mode": {
    "name": "ipython",
    "version": 3
   },
   "file_extension": ".py",
   "mimetype": "text/x-python",
   "name": "python",
   "nbconvert_exporter": "python",
   "pygments_lexer": "ipython3",
   "version": "3.6.1"
  }
 },
 "nbformat": 4,
 "nbformat_minor": 2
}
