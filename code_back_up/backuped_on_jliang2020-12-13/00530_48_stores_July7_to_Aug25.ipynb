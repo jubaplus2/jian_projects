{
 "cells": [
  {
   "cell_type": "code",
   "execution_count": 36,
   "metadata": {
    "collapsed": true
   },
   "outputs": [],
   "source": [
    "import pandas as pd\n",
    "import datetime\n",
    "import os\n",
    "import numpy as np"
   ]
  },
  {
   "cell_type": "code",
   "execution_count": 37,
   "metadata": {
    "collapsed": true
   },
   "outputs": [],
   "source": [
    "# Keep all stores for the 35+48+balance"
   ]
  },
  {
   "cell_type": "code",
   "execution_count": 38,
   "metadata": {},
   "outputs": [
    {
     "data": {
      "text/plain": [
       "'/home/jian/Projects/Big_Lots/Analysis/2018_Q2_Post/SOTF_Post'"
      ]
     },
     "execution_count": 38,
     "metadata": {},
     "output_type": "execute_result"
    }
   ],
   "source": [
    "os.getcwd()"
   ]
  },
  {
   "cell_type": "code",
   "execution_count": 43,
   "metadata": {
    "collapsed": true
   },
   "outputs": [],
   "source": [
    "store_list_48=pd.read_excel('/home/jian/Projects/Big_Lots/Analysis/2018_Q2_Post/SOTF_Post/BL SOTF 48 Stores_7.27 Zip Codes FINAL Kayla 20180712.xlsx',\n",
    "                         dtype=str,sheetname=\"zips_by_store\")\n",
    "store_set_48=set(store_list_48['location_id'].unique().tolist())"
   ]
  },
  {
   "cell_type": "code",
   "execution_count": 45,
   "metadata": {},
   "outputs": [],
   "source": [
    "store_list_35=pd.read_excel('/home/jian/Projects/Big_Lots/Analysis/2018_Q2_Post/SOTF_Post/SOTF Wave 1 Store IDs_8.20.xlsx',\n",
    "                         dtype=str,sheetname=\"Stores_6_8\")\n",
    "store_set_35=set(store_list_35['SOTF'].unique().tolist())"
   ]
  },
  {
   "cell_type": "code",
   "execution_count": 47,
   "metadata": {},
   "outputs": [
    {
     "data": {
      "text/plain": [
       "83"
      ]
     },
     "execution_count": 47,
     "metadata": {},
     "output_type": "execute_result"
    }
   ],
   "source": [
    "store_set=set(list(store_set_48)+list(store_set_35))\n",
    "len(store_set)"
   ]
  },
  {
   "cell_type": "code",
   "execution_count": 41,
   "metadata": {
    "collapsed": true
   },
   "outputs": [],
   "source": [
    "store_wide_sales=pd.read_excel(\"/home/jian/Projects/Big_Lots/Analysis/2018_Q2_Post/SOTF_Post/wide_sales_date2018-09-01.xlsx\",\n",
    "                               dtype=str,sheetname=\"sales\")"
   ]
  },
  {
   "cell_type": "code",
   "execution_count": 42,
   "metadata": {
    "collapsed": true
   },
   "outputs": [],
   "source": [
    "store_wide_trans=pd.read_excel(\"/home/jian/Projects/Big_Lots/Analysis/2018_Q2_Post/SOTF_Post/wide_sales_date2018-09-01.xlsx\",\n",
    "                               dtype=str,sheetname=\"transactions\")"
   ]
  },
  {
   "cell_type": "code",
   "execution_count": 48,
   "metadata": {
    "collapsed": true
   },
   "outputs": [],
   "source": [
    "First_week_2018=datetime.date(2018,7,7)\n",
    "First_week_2017=datetime.date(2017,7,8)\n",
    "\n",
    "weeks_2018=[str(First_week_2018+datetime.timedelta(days=i*7)) for i in range(8)]\n",
    "weeks_2017=[str(First_week_2017+datetime.timedelta(days=i*7)) for i in range(8)]"
   ]
  },
  {
   "cell_type": "code",
   "execution_count": 49,
   "metadata": {
    "collapsed": true
   },
   "outputs": [],
   "source": [
    "all_store_sales=store_wide_sales[['location_id']+weeks_2017+weeks_2018]\n",
    "# SOTF_sales=SOTF_sales[SOTF_sales['location_id'].isin(store_set)]\n",
    "all_store_trans=store_wide_trans[['location_id']+weeks_2017+weeks_2018]\n",
    "# SOTF_trans=SOTF_trans[SOTF_trans['location_id'].isin(store_set)]\n"
   ]
  },
  {
   "cell_type": "code",
   "execution_count": 50,
   "metadata": {},
   "outputs": [
    {
     "name": "stderr",
     "output_type": "stream",
     "text": [
      "/usr/local/lib/python3.6/site-packages/ipykernel_launcher.py:2: SettingWithCopyWarning: \n",
      "A value is trying to be set on a copy of a slice from a DataFrame.\n",
      "Try using .loc[row_indexer,col_indexer] = value instead\n",
      "\n",
      "See the caveats in the documentation: http://pandas.pydata.org/pandas-docs/stable/indexing.html#indexing-view-versus-copy\n",
      "  \n",
      "/usr/local/lib/python3.6/site-packages/ipykernel_launcher.py:5: SettingWithCopyWarning: \n",
      "A value is trying to be set on a copy of a slice from a DataFrame.\n",
      "Try using .loc[row_indexer,col_indexer] = value instead\n",
      "\n",
      "See the caveats in the documentation: http://pandas.pydata.org/pandas-docs/stable/indexing.html#indexing-view-versus-copy\n",
      "  \"\"\"\n"
     ]
    }
   ],
   "source": [
    "for col in all_store_trans.columns.tolist()[1:]:\n",
    "    all_store_trans[col]=all_store_trans[col].astype(int)\n",
    "    \n",
    "for col in all_store_sales.columns.tolist()[1:]:\n",
    "    all_store_sales[col]=all_store_sales[col].apply(lambda x: np.round(float(x),2))"
   ]
  },
  {
   "cell_type": "markdown",
   "metadata": {},
   "source": [
    "# Rewards"
   ]
  },
  {
   "cell_type": "code",
   "execution_count": 9,
   "metadata": {
    "collapsed": true
   },
   "outputs": [],
   "source": [
    "start_2017=datetime.datetime.strptime(weeks_2017[0],\"%Y-%m-%d\").date()-datetime.timedelta(days=6)\n",
    "start_2018=datetime.datetime.strptime(weeks_2018[0],\"%Y-%m-%d\").date()-datetime.timedelta(days=6)\n",
    "end_2017=datetime.datetime.strptime(weeks_2017[7],\"%Y-%m-%d\").date()\n",
    "end_2018=datetime.datetime.strptime(weeks_2018[7],\"%Y-%m-%d\").date()"
   ]
  },
  {
   "cell_type": "code",
   "execution_count": 10,
   "metadata": {},
   "outputs": [
    {
     "data": {
      "text/html": [
       "<div>\n",
       "<style>\n",
       "    .dataframe thead tr:only-child th {\n",
       "        text-align: right;\n",
       "    }\n",
       "\n",
       "    .dataframe thead th {\n",
       "        text-align: left;\n",
       "    }\n",
       "\n",
       "    .dataframe tbody tr th {\n",
       "        vertical-align: top;\n",
       "    }\n",
       "</style>\n",
       "<table border=\"1\" class=\"dataframe\">\n",
       "  <thead>\n",
       "    <tr style=\"text-align: right;\">\n",
       "      <th></th>\n",
       "      <th>customer_id_hashed</th>\n",
       "      <th>transaction_date</th>\n",
       "      <th>transaction_id</th>\n",
       "      <th>location_id</th>\n",
       "      <th>total_transaction_amt</th>\n",
       "    </tr>\n",
       "  </thead>\n",
       "  <tbody>\n",
       "    <tr>\n",
       "      <th>35777307</th>\n",
       "      <td>981ac89d974c5816e213220ff66499c0e9c3c020d35d00...</td>\n",
       "      <td>2018-07-02</td>\n",
       "      <td>9894</td>\n",
       "      <td>383</td>\n",
       "      <td>34.75</td>\n",
       "    </tr>\n",
       "    <tr>\n",
       "      <th>35777308</th>\n",
       "      <td>0c501ea9a5a4c619732b89599c93a23ea19d9c81b3a314...</td>\n",
       "      <td>2018-07-01</td>\n",
       "      <td>8690</td>\n",
       "      <td>5340</td>\n",
       "      <td>2.0</td>\n",
       "    </tr>\n",
       "  </tbody>\n",
       "</table>\n",
       "</div>"
      ],
      "text/plain": [
       "                                         customer_id_hashed transaction_date  \\\n",
       "35777307  981ac89d974c5816e213220ff66499c0e9c3c020d35d00...       2018-07-02   \n",
       "35777308  0c501ea9a5a4c619732b89599c93a23ea19d9c81b3a314...       2018-07-01   \n",
       "\n",
       "         transaction_id location_id total_transaction_amt  \n",
       "35777307           9894         383                 34.75  \n",
       "35777308           8690        5340                   2.0  "
      ]
     },
     "execution_count": 10,
     "metadata": {},
     "output_type": "execute_result"
    }
   ],
   "source": [
    "data_from_SP=pd.read_csv(\"/home/jian/Projects/Big_Lots/Loyal_members/loyalty_sales_data/From_Sp/combinedtransactions_0811.csv\",\n",
    "                        dtype=str,usecols=['customer_id_hashed','transaction_date','transaction_id','location_id','total_transaction_amt'])\n",
    "data_from_SP['transaction_date']=data_from_SP['transaction_date'].apply(lambda x: datetime.datetime.strptime(x,\"%Y-%m-%d\").date())\n",
    "data_from_SP=data_from_SP[(data_from_SP['transaction_date']>=start_2017) & (data_from_SP['transaction_date']<=end_2017) |\\\n",
    "                         (data_from_SP['transaction_date']>=start_2018) & (data_from_SP['transaction_date']<=end_2018)]\n",
    "data_from_SP=data_from_SP.drop_duplicates()\n",
    "data_from_SP['total_transaction_amt']=data_from_SP['total_transaction_amt'].astype(float)\n",
    "data_from_SP.head(2)"
   ]
  },
  {
   "cell_type": "code",
   "execution_count": 17,
   "metadata": {},
   "outputs": [
    {
     "data": {
      "text/html": [
       "<div>\n",
       "<style>\n",
       "    .dataframe thead tr:only-child th {\n",
       "        text-align: right;\n",
       "    }\n",
       "\n",
       "    .dataframe thead th {\n",
       "        text-align: left;\n",
       "    }\n",
       "\n",
       "    .dataframe tbody tr th {\n",
       "        vertical-align: top;\n",
       "    }\n",
       "</style>\n",
       "<table border=\"1\" class=\"dataframe\">\n",
       "  <thead>\n",
       "    <tr style=\"text-align: right;\">\n",
       "      <th></th>\n",
       "      <th>customer_id_hashed</th>\n",
       "      <th>transaction_date</th>\n",
       "      <th>transaction_id</th>\n",
       "      <th>location_id</th>\n",
       "      <th>total_transaction_amt</th>\n",
       "    </tr>\n",
       "  </thead>\n",
       "  <tbody>\n",
       "    <tr>\n",
       "      <th>0</th>\n",
       "      <td>bf424b606c019216eb946c925572e5a9d63c94ea050dd7...</td>\n",
       "      <td>2018-08-24</td>\n",
       "      <td>8849</td>\n",
       "      <td>1267</td>\n",
       "      <td>43.65</td>\n",
       "    </tr>\n",
       "    <tr>\n",
       "      <th>1</th>\n",
       "      <td>9ba14b6eacc750af161a486c431b1adc39daf8a47c2007...</td>\n",
       "      <td>2018-08-12</td>\n",
       "      <td>4830</td>\n",
       "      <td>4341</td>\n",
       "      <td>6.60</td>\n",
       "    </tr>\n",
       "  </tbody>\n",
       "</table>\n",
       "</div>"
      ],
      "text/plain": [
       "                                  customer_id_hashed transaction_date  \\\n",
       "0  bf424b606c019216eb946c925572e5a9d63c94ea050dd7...       2018-08-24   \n",
       "1  9ba14b6eacc750af161a486c431b1adc39daf8a47c2007...       2018-08-12   \n",
       "\n",
       "  transaction_id location_id  total_transaction_amt  \n",
       "0           8849        1267                  43.65  \n",
       "1           4830        4341                   6.60  "
      ]
     },
     "execution_count": 17,
     "metadata": {},
     "output_type": "execute_result"
    }
   ],
   "source": [
    "data_aug_28=pd.read_table(\"/home/jian/Projects/Big_Lots/Loyal_members/loyalty_sales_data/MediaStormSalesBiWeekly20180828-131144-584.txt\",\n",
    "                  dtype=str,sep=\"|\",usecols=['customer_id_hashed','transaction_dt','transaction_id','location_id','total_transaction_amt'])\n",
    "data_aug_28=data_aug_28.drop_duplicates()\n",
    "data_aug_28['transaction_dt']=data_aug_28['transaction_dt'].apply(lambda x: datetime.datetime.strptime(x,\"%Y-%m-%d\").date())\n",
    "data_aug_28=data_aug_28.rename(columns={\"transaction_dt\":\"transaction_date\"})\n",
    "data_aug_28['total_transaction_amt']=data_aug_28['total_transaction_amt'].astype(float)\n",
    "data_aug_28.head(2)"
   ]
  },
  {
   "cell_type": "code",
   "execution_count": 19,
   "metadata": {},
   "outputs": [],
   "source": [
    "rewards_data=data_from_SP.append(data_aug_28)\n",
    "del data_from_SP\n",
    "del data_aug_28\n",
    "rewards_data=rewards_data.drop_duplicates()\n",
    "del rewards_data['transaction_id']"
   ]
  },
  {
   "cell_type": "code",
   "execution_count": 26,
   "metadata": {},
   "outputs": [],
   "source": []
  },
  {
   "cell_type": "code",
   "execution_count": 27,
   "metadata": {
    "collapsed": true
   },
   "outputs": [],
   "source": [
    "def week_end_func(x):\n",
    "    if x.weekday()==6:\n",
    "        week=x+datetime.timedelta(days=6)\n",
    "    else:\n",
    "        diff=x.weekday()\n",
    "        week=x+datetime.timedelta(days=5-diff)\n",
    "    return week\n",
    "        "
   ]
  },
  {
   "cell_type": "code",
   "execution_count": 28,
   "metadata": {
    "collapsed": true
   },
   "outputs": [],
   "source": [
    "rewards_data['week_end_date']=rewards_data['transaction_date'].apply(lambda x: week_end_func(x))\n"
   ]
  },
  {
   "cell_type": "code",
   "execution_count": 29,
   "metadata": {
    "collapsed": true
   },
   "outputs": [],
   "source": [
    "rewards_by_week_sales=rewards_data.groupby(['location_id','week_end_date'])['total_transaction_amt'].sum().to_frame().reset_index()\n",
    "rewards_by_week_trans=rewards_data.groupby(['location_id','week_end_date'])['total_transaction_amt'].count().to_frame().reset_index()\n"
   ]
  },
  {
   "cell_type": "code",
   "execution_count": 54,
   "metadata": {},
   "outputs": [
    {
     "data": {
      "text/plain": [
       "(1513, 17)"
      ]
     },
     "execution_count": 54,
     "metadata": {},
     "output_type": "execute_result"
    }
   ],
   "source": [
    "all_store_sales.shape"
   ]
  },
  {
   "cell_type": "markdown",
   "metadata": {},
   "source": [
    "# Combine"
   ]
  },
  {
   "cell_type": "code",
   "execution_count": 62,
   "metadata": {
    "collapsed": true
   },
   "outputs": [],
   "source": [
    "output=all_store_sales[['location_id']]\n"
   ]
  },
  {
   "cell_type": "code",
   "execution_count": 63,
   "metadata": {
    "collapsed": true
   },
   "outputs": [],
   "source": [
    "output_store_total_sales=pd.merge(output,all_store_sales,on=\"location_id\",how=\"left\")\n",
    "output_store_total_trans=pd.merge(output,all_store_trans,on=\"location_id\",how=\"left\")"
   ]
  },
  {
   "cell_type": "code",
   "execution_count": 57,
   "metadata": {
    "collapsed": true
   },
   "outputs": [],
   "source": [
    "rewards_by_week_trans=rewards_by_week_trans.pivot(index=\"location_id\",columns=\"week_end_date\",values=\"total_transaction_amt\").reset_index()\n",
    "rewards_by_week_sales=rewards_by_week_sales.pivot(index=\"location_id\",columns=\"week_end_date\",values=\"total_transaction_amt\").reset_index()\n"
   ]
  },
  {
   "cell_type": "code",
   "execution_count": 64,
   "metadata": {
    "collapsed": true
   },
   "outputs": [],
   "source": [
    "output_store_rewards_sales=pd.merge(output,rewards_by_week_sales,on=\"location_id\",how=\"left\")\n",
    "output_store_rewards_trans=pd.merge(output,rewards_by_week_trans,on=\"location_id\",how=\"left\")"
   ]
  },
  {
   "cell_type": "code",
   "execution_count": 65,
   "metadata": {
    "collapsed": true
   },
   "outputs": [],
   "source": [
    "output_store_rewards_sales=output_store_rewards_sales.fillna(0)\n",
    "output_store_rewards_trans=output_store_rewards_trans.fillna(0)"
   ]
  },
  {
   "cell_type": "code",
   "execution_count": 66,
   "metadata": {
    "collapsed": true
   },
   "outputs": [],
   "source": [
    "writer=pd.ExcelWriter(\"/home/jian/Projects/Big_Lots/Analysis/2018_Q2_Post/SOTF_Post/\"+\"BL_48_35_stores_opened_20180727_JL_\"+str(datetime.datetime.now().date())+\".xlsx\",engine=\"xlsxwriter\")"
   ]
  },
  {
   "cell_type": "code",
   "execution_count": 67,
   "metadata": {
    "collapsed": true
   },
   "outputs": [],
   "source": [
    "output_store_total_sales.to_excel(writer,\"store_total_sales\",index=False)\n",
    "output_store_total_trans.to_excel(writer,\"store_total_trans\",index=False)\n",
    "output_store_rewards_sales.to_excel(writer,\"store_rewards_sales\",index=False)\n",
    "output_store_rewards_trans.to_excel(writer,\"store_rewards_trans\",index=False)\n",
    "writer.save()"
   ]
  },
  {
   "cell_type": "code",
   "execution_count": null,
   "metadata": {
    "collapsed": true
   },
   "outputs": [],
   "source": []
  },
  {
   "cell_type": "code",
   "execution_count": null,
   "metadata": {
    "collapsed": true
   },
   "outputs": [],
   "source": []
  }
 ],
 "metadata": {
  "kernelspec": {
   "display_name": "Python 3",
   "language": "python",
   "name": "python3"
  },
  "language_info": {
   "codemirror_mode": {
    "name": "ipython",
    "version": 3
   },
   "file_extension": ".py",
   "mimetype": "text/x-python",
   "name": "python",
   "nbconvert_exporter": "python",
   "pygments_lexer": "ipython3",
   "version": "3.6.1"
  }
 },
 "nbformat": 4,
 "nbformat_minor": 2
}
