{
 "cells": [
  {
   "cell_type": "code",
   "execution_count": 18,
   "metadata": {
    "collapsed": true
   },
   "outputs": [],
   "source": [
    "from apiclient.discovery import build\n",
    "from oauth2client.service_account import ServiceAccountCredentials\n",
    "\n",
    "KEY_FILE_LOCATION = '/home/jzou/key_files/dbm_api_jubapluscc@gmail.com.json'\n",
    "SCOPES = ['https://www.googleapis.com/auth/doubleclickbidmanager']\n",
    "\n",
    "credentials = ServiceAccountCredentials.from_json_keyfile_name(\n",
    "    KEY_FILE_LOCATION, scopes=SCOPES)\n",
    "\n",
    "# Build the service object.\n",
    "service = build('doubleclickbidmanager', 'v1', credentials=credentials)"
   ]
  },
  {
   "cell_type": "code",
   "execution_count": 46,
   "metadata": {},
   "outputs": [
    {
     "data": {
      "text/plain": [
       "{'kind': 'doubleclickbidmanager#listQueriesResponse',\n",
       " 'queries': [{'kind': 'doubleclickbidmanager#query',\n",
       "   'metadata': {'dataRange': 'CUSTOM_DATES',\n",
       "    'format': 'CSV',\n",
       "    'googleCloudStoragePathForLatestReport': 'https://storage.googleapis.com/136578715968494243751510090985328_report/JUBA_day_of_week_2017-11-07-2143.csv?GoogleAccessId=539605939877-d5f5o3m6kd1mq4j6tl06v7glf07armq9@developer.gserviceaccount.com&Expires=1825451001&Signature=GBkCwIg9nrqY%2B/Kda4smRtgD1PzGcEgiHnB73lNLr750EvclKikpGDPhTJjily5tRTy451dGByPgEYgGtEEtrxI6dQbo%2B0rEfKTY/CM949Tq44/K6y6oMaZl2iUza2yz8xXrhFzEEQVSNRmA/uYbwXkk8q4NLcatMyyU%2BS8awak%3D',\n",
       "    'latestReportRunTimeMs': '1510090985431',\n",
       "    'reportCount': 1,\n",
       "    'running': False,\n",
       "    'sendNotification': False,\n",
       "    'title': 'JUBA_day of week'},\n",
       "   'params': {'filters': [{'type': 'FILTER_ADVERTISER', 'value': '1958747'},\n",
       "     {'type': 'FILTER_LINE_ITEM', 'value': '13906955'},\n",
       "     {'type': 'FILTER_LINE_ITEM', 'value': '13857627'},\n",
       "     {'type': 'FILTER_LINE_ITEM', 'value': '13857390'},\n",
       "     {'type': 'FILTER_LINE_ITEM', 'value': '13857628'},\n",
       "     {'type': 'FILTER_PARTNER', 'value': '0'}],\n",
       "    'groupBys': ['FILTER_ADVERTISER',\n",
       "     'FILTER_LINE_ITEM',\n",
       "     'FILTER_ACTIVITY_ID',\n",
       "     'FILTER_DAY_OF_WEEK'],\n",
       "    'includeInviteData': False,\n",
       "    'metrics': ['METRIC_IMPRESSIONS',\n",
       "     'METRIC_CLICKS',\n",
       "     'METRIC_TOTAL_CONVERSIONS',\n",
       "     'METRIC_REVENUE_ADVERTISER',\n",
       "     'METRIC_MEDIA_COST_ADVERTISER',\n",
       "     'METRIC_CTR'],\n",
       "    'type': 'TYPE_GENERAL'},\n",
       "   'queryId': '1510090985328',\n",
       "   'reportDataEndTimeMs': '1507939200000',\n",
       "   'reportDataStartTimeMs': '1506211200000',\n",
       "   'schedule': {'endTimeMs': '0',\n",
       "    'frequency': 'ONE_TIME',\n",
       "    'nextRunMinuteOfDay': 1003,\n",
       "    'nextRunTimezoneCode': 'America/New_York'}}]}"
      ]
     },
     "execution_count": 46,
     "metadata": {},
     "output_type": "execute_result"
    }
   ],
   "source": [
    "service.queries().listqueries().execute()"
   ]
  },
  {
   "cell_type": "code",
   "execution_count": 2,
   "metadata": {
    "collapsed": true
   },
   "outputs": [],
   "source": [
    "import json"
   ]
  },
  {
   "cell_type": "code",
   "execution_count": 4,
   "metadata": {},
   "outputs": [],
   "source": [
    "r = json.load(open('/home/jzou/queries.json', 'r'))"
   ]
  },
  {
   "cell_type": "code",
   "execution_count": 5,
   "metadata": {},
   "outputs": [
    {
     "data": {
      "text/plain": [
       "dict_keys(['kind', 'queries'])"
      ]
     },
     "execution_count": 5,
     "metadata": {},
     "output_type": "execute_result"
    }
   ],
   "source": [
    "r.keys()"
   ]
  },
  {
   "cell_type": "code",
   "execution_count": 13,
   "metadata": {},
   "outputs": [],
   "source": [
    "titles = [x['metadata']['title'] for x in r['queries']]"
   ]
  },
  {
   "cell_type": "code",
   "execution_count": 48,
   "metadata": {},
   "outputs": [
    {
     "data": {
      "text/plain": [
       "['juba',\n",
       " 'Copy of juba',\n",
       " 'Copy of Copy of juba',\n",
       " 'Copy of juba',\n",
       " 'Copy of Copy of Copy of juba',\n",
       " 'Copy of Copy of Copy of Copy of juba',\n",
       " 'Copy of Copy of Copy of Copy of Copy of juba',\n",
       " 'Copy of Copy of juba',\n",
       " 'k',\n",
       " 'Copy of k',\n",
       " 'Copy of kkkk',\n",
       " 'Copy of Copy of k',\n",
       " 'Juba Lift test',\n",
       " 'biglot juba test',\n",
       " 'lift bid report',\n",
       " 'lift',\n",
       " 'juba lift ',\n",
       " 'Copy of juba lift ',\n",
       " 'retargeting',\n",
       " 'lift keyword',\n",
       " 'juba lift 2',\n",
       " 'test',\n",
       " 'test1',\n",
       " 'KW_lift_1',\n",
       " 'lift geo Creative',\n",
       " 'Copy of lift geo Creative',\n",
       " 'time of day',\n",
       " 'lift geo date',\n",
       " 'lift geo Channel',\n",
       " 'lift geo app/url',\n",
       " 'lift geo Creative Size',\n",
       " 'lift geo Creative Type',\n",
       " 'lift geo Time of Day',\n",
       " 'lift geo Day of Week',\n",
       " 'lift geo Device Type',\n",
       " 'lift geo City',\n",
       " 'winery for checking code dma',\n",
       " 'lift geo DMA',\n",
       " 'lift geo Browser',\n",
       " 'lift geo Operating System',\n",
       " 'lift geo Region',\n",
       " 'lift geo Line Item',\n",
       " 'lift geo Creative Attribute',\n",
       " 'lift geo Carrier or ISP\\t',\n",
       " 'lift kw date',\n",
       " 'lift kw Time of Day',\n",
       " 'lift kw Day of Week',\n",
       " 'lift kw Device Type',\n",
       " 'lift kw Region',\n",
       " 'lift kw City',\n",
       " 'lift kw DMA',\n",
       " 'lift kw Browser',\n",
       " 'lift kw App/URL',\n",
       " 'lift kw Creative',\n",
       " 'lift kw Creative Size',\n",
       " 'lift kw Line Item',\n",
       " 'lift kw Channel',\n",
       " 'lift kw Creative Type',\n",
       " 'lift kw Operating System',\n",
       " 'lift kw Creative Attribute',\n",
       " 'lift kw Carrier or ISP',\n",
       " 'lift rt App/URL',\n",
       " 'lift rt Browser',\n",
       " 'lift rt Carrier or ISP',\n",
       " 'lift rt Channel',\n",
       " 'lift rt City',\n",
       " 'lift rt Creative',\n",
       " 'lift rt Creative Attribute',\n",
       " 'lift rt Creative Size',\n",
       " 'lift rt Creative Type',\n",
       " 'lift rt date',\n",
       " 'lift rt Day of Week',\n",
       " 'lift rt Device Type',\n",
       " 'lift rt DMA',\n",
       " 'lift rt Line Item',\n",
       " 'lift rt Operating System',\n",
       " 'lift rt Region',\n",
       " 'lift rt Time of Day',\n",
       " 'lift geo Channel',\n",
       " 'Copy of lift kw Time of Day',\n",
       " 'Copy of lift kw Day of Week',\n",
       " 'Copy of lift rt Day of Week',\n",
       " 'Copy of lift rt Device Type',\n",
       " 'Copy of lift rt DMA',\n",
       " 'Copy of lift rt Operating System',\n",
       " 'Copy of lift rt Region',\n",
       " 'Copy of lift rt Time of Day',\n",
       " 'JUBA_date',\n",
       " 'JUBA_day of week',\n",
       " 'JUBA_time of day',\n",
       " 'JUBA_city',\n",
       " 'JUBA_region',\n",
       " 'JUBA_DMA',\n",
       " 'JUBA_APP/URL',\n",
       " 'JUBA_browser',\n",
       " 'JUBA_Carrier or ISP',\n",
       " 'JUBA_channel',\n",
       " 'JUBA_creative type',\n",
       " 'JUBA_creative',\n",
       " 'JUBA_creative size',\n",
       " 'JUBA_device type',\n",
       " 'JUBA_operating system',\n",
       " 'KW_city',\n",
       " 'KW_date',\n",
       " 'KW_day of week',\n",
       " 'KW_time of day',\n",
       " 'KW_region',\n",
       " 'KW_DMA',\n",
       " 'KW_APP/URL',\n",
       " 'KW_browser',\n",
       " 'KW_channel',\n",
       " 'KW_Carrier or ISP',\n",
       " 'KW_creative',\n",
       " 'KW_creative size',\n",
       " 'KW_creative type',\n",
       " 'KW_device type',\n",
       " 'KW_operating system',\n",
       " 'LIFT_Date',\n",
       " 'LIFT_Weekday',\n",
       " 'LIFT_City',\n",
       " 'LIFT_Time of Day',\n",
       " 'LIFT_Region',\n",
       " 'LIFT_Channel',\n",
       " 'LIFT_DMA',\n",
       " 'LIFT_APP_URL',\n",
       " 'LIFT_Browser',\n",
       " 'LIFT_ISP_Carrier',\n",
       " 'LIFT_Creative',\n",
       " 'LIFT_Creative Size',\n",
       " 'LIFT_Device_Type',\n",
       " 'LIFT_Operating_System',\n",
       " 'LIFT_APP_URL_OCT29',\n",
       " 'LIFT_Browser_OCT29',\n",
       " 'LIFT_Channel_OCT29',\n",
       " 'LIFT_City_OCT29',\n",
       " 'LIFT_Creative_OCT29',\n",
       " 'LIFT_Creative_Size_Oct29',\n",
       " 'LIFT_Date_OCT29',\n",
       " 'LIFT_Device_Type_OCT29',\n",
       " 'LIFT_DMA_OCT29',\n",
       " 'LIFT_ISP_Carrier_OCT29',\n",
       " 'LIFT_Operating_System_OCT29',\n",
       " 'LIFT_Region_OCT29',\n",
       " 'LIFT_Time_of_Day_OCT29',\n",
       " 'LIFT_Weekday_OCT29',\n",
       " 'Lift_Campaign_LineItem_to_Jay',\n",
       " 'LIFT_Campaign_ID_to_Jay',\n",
       " 'test2']"
      ]
     },
     "execution_count": 48,
     "metadata": {},
     "output_type": "execute_result"
    }
   ],
   "source": [
    "titles"
   ]
  },
  {
   "cell_type": "code",
   "execution_count": 16,
   "metadata": {},
   "outputs": [
    {
     "data": {
      "text/plain": [
       "88"
      ]
     },
     "execution_count": 16,
     "metadata": {},
     "output_type": "execute_result"
    }
   ],
   "source": [
    "titles.index('JUBA_day of week')"
   ]
  },
  {
   "cell_type": "code",
   "execution_count": 44,
   "metadata": {
    "collapsed": true
   },
   "outputs": [],
   "source": [
    "import pprint"
   ]
  },
  {
   "cell_type": "code",
   "execution_count": 45,
   "metadata": {},
   "outputs": [
    {
     "name": "stdout",
     "output_type": "stream",
     "text": [
      "{'kind': 'doubleclickbidmanager#query',\n",
      " 'metadata': {'dataRange': 'CUSTOM_DATES',\n",
      "              'format': 'CSV',\n",
      "              'googleCloudStoragePathForLatestReport': 'https://storage.googleapis.com/072598828633981124151508165605580_report/JUBA_day_of_week_2017-10-16-1453.csv?GoogleAccessId=539605939877-d5f5o3m6kd1mq4j6tl06v7glf07armq9@developer.gserviceaccount.com&Expires=1823550463&Signature=CObjNeDze7YntMUtZgFHK0wb6F5CUAANUPs4zCyswz2yQlvtGEwyWS8atlHPqWr25H%2BNwlrpwTk6nfddXjc3tBNoX1FjtAF4BIjgxvIykqhstT1VbTDLro%2BdODCq3PwQ2LYug1Pwwh9ZVqattIdpzc12LAru1ez%2B7IVgCibVL48%3D',\n",
      "              'latestReportRunTimeMs': '1508165605686',\n",
      "              'reportCount': 1,\n",
      "              'running': False,\n",
      "              'sendNotification': False,\n",
      "              'title': 'JUBA_day of week'},\n",
      " 'params': {'filters': [{'type': 'FILTER_ADVERTISER', 'value': '1958747'},\n",
      "                        {'type': 'FILTER_LINE_ITEM', 'value': '13906955'},\n",
      "                        {'type': 'FILTER_LINE_ITEM', 'value': '13857627'},\n",
      "                        {'type': 'FILTER_LINE_ITEM', 'value': '13857390'},\n",
      "                        {'type': 'FILTER_LINE_ITEM', 'value': '13857628'},\n",
      "                        {'type': 'FILTER_LINE_ITEM', 'value': '13884831'},\n",
      "                        {'type': 'FILTER_LINE_ITEM', 'value': '13857626'},\n",
      "                        {'type': 'FILTER_LINE_ITEM', 'value': '13842564'},\n",
      "                        {'type': 'FILTER_LINE_ITEM', 'value': '13857621'},\n",
      "                        {'type': 'FILTER_LINE_ITEM', 'value': '13788976'},\n",
      "                        {'type': 'FILTER_LINE_ITEM', 'value': '13842563'},\n",
      "                        {'type': 'FILTER_LINE_ITEM', 'value': '13857392'},\n",
      "                        {'type': 'FILTER_LINE_ITEM', 'value': '13857623'},\n",
      "                        {'type': 'FILTER_LINE_ITEM', 'value': '13885479'},\n",
      "                        {'type': 'FILTER_LINE_ITEM', 'value': '13857629'},\n",
      "                        {'type': 'FILTER_LINE_ITEM', 'value': '13926337'},\n",
      "                        {'type': 'FILTER_LINE_ITEM', 'value': '13857622'},\n",
      "                        {'type': 'FILTER_LINE_ITEM', 'value': '13857403'},\n",
      "                        {'type': 'FILTER_LINE_ITEM', 'value': '13820583'},\n",
      "                        {'type': 'FILTER_LINE_ITEM', 'value': '13857391'},\n",
      "                        {'type': 'FILTER_LINE_ITEM', 'value': '13857625'},\n",
      "                        {'type': 'FILTER_LINE_ITEM', 'value': '13857409'},\n",
      "                        {'type': 'FILTER_LINE_ITEM', 'value': '13857624'},\n",
      "                        {'type': 'FILTER_PARTNER', 'value': '1850767'}],\n",
      "            'groupBys': ['FILTER_ADVERTISER',\n",
      "                         'FILTER_LINE_ITEM',\n",
      "                         'FILTER_ACTIVITY_ID',\n",
      "                         'FILTER_DAY_OF_WEEK'],\n",
      "            'includeInviteData': False,\n",
      "            'metrics': ['METRIC_IMPRESSIONS',\n",
      "                        'METRIC_CLICKS',\n",
      "                        'METRIC_TOTAL_CONVERSIONS',\n",
      "                        'METRIC_REVENUE_ADVERTISER',\n",
      "                        'METRIC_MEDIA_COST_ADVERTISER',\n",
      "                        'METRIC_CTR'],\n",
      "            'type': 'TYPE_GENERAL'},\n",
      " 'queryId': '1508165605580',\n",
      " 'reportDataEndTimeMs': '1508025600000',\n",
      " 'reportDataStartTimeMs': '1506297600000',\n",
      " 'schedule': {'endTimeMs': '0',\n",
      "              'frequency': 'ONE_TIME',\n",
      "              'nextRunTimezoneCode': 'America/New_York'}}\n"
     ]
    }
   ],
   "source": [
    "pprint.pprint(r['queries'][88])"
   ]
  },
  {
   "cell_type": "code",
   "execution_count": 20,
   "metadata": {},
   "outputs": [],
   "source": [
    "query_resourse = {\n",
    "    'kind': 'doubleclickbidmanager#query',\n",
    "    'metadata': {\n",
    "        'dataRange': 'CUSTOM_DATES',\n",
    "        'format': 'CSV',\n",
    "        'title': 'JUBA_day of week'\n",
    "    },\n",
    "    'params': {\n",
    "        'filters': [\n",
    "            {'type': 'FILTER_ADVERTISER', 'value': '1958747'},\n",
    "            {'type': 'FILTER_LINE_ITEM', 'value': '13906955'},\n",
    "            {'type': 'FILTER_LINE_ITEM', 'value': '13857627'},\n",
    "            {'type': 'FILTER_LINE_ITEM', 'value': '13857390'},\n",
    "            {'type': 'FILTER_LINE_ITEM', 'value': '13857628'},\n",
    "        ],\n",
    "        'groupBys': [\n",
    "            'FILTER_ADVERTISER',\n",
    "            'FILTER_LINE_ITEM',\n",
    "            'FILTER_ACTIVITY_ID',\n",
    "            'FILTER_DAY_OF_WEEK'\n",
    "        ],\n",
    "        'includeInviteData': False,\n",
    "        'metrics': [\n",
    "            'METRIC_IMPRESSIONS',\n",
    "            'METRIC_CLICKS',\n",
    "            'METRIC_TOTAL_CONVERSIONS',\n",
    "            'METRIC_REVENUE_ADVERTISER',\n",
    "            'METRIC_MEDIA_COST_ADVERTISER',\n",
    "            'METRIC_CTR'\n",
    "        ],\n",
    "        'type': 'TYPE_GENERAL'\n",
    "    },\n",
    "    'reportDataEndTimeMs': '1508025600000',\n",
    "    'reportDataStartTimeMs': '1506297600000',\n",
    "    'schedule': {\n",
    "        'endTimeMs': '0',\n",
    "        'frequency': 'ONE_TIME',\n",
    "        'nextRunTimezoneCode': 'America/New_York'\n",
    "    }\n",
    "}"
   ]
  },
  {
   "cell_type": "code",
   "execution_count": 24,
   "metadata": {},
   "outputs": [
    {
     "data": {
      "text/plain": [
       "{'kind': 'doubleclickbidmanager#query',\n",
       " 'metadata': {'dataRange': 'CUSTOM_DATES',\n",
       "  'format': 'CSV',\n",
       "  'googleCloudStoragePathForLatestReport': '',\n",
       "  'googleDrivePathForLatestReport': '',\n",
       "  'latestReportRunTimeMs': '0',\n",
       "  'reportCount': 0,\n",
       "  'running': False,\n",
       "  'sendNotification': False,\n",
       "  'title': 'JUBA_day of week'},\n",
       " 'params': {'filters': [{'type': 'FILTER_ADVERTISER', 'value': '1958747'},\n",
       "   {'type': 'FILTER_LINE_ITEM', 'value': '13906955'},\n",
       "   {'type': 'FILTER_LINE_ITEM', 'value': '13857627'},\n",
       "   {'type': 'FILTER_LINE_ITEM', 'value': '13857390'},\n",
       "   {'type': 'FILTER_LINE_ITEM', 'value': '13857628'},\n",
       "   {'type': 'FILTER_PARTNER', 'value': '0'}],\n",
       "  'groupBys': ['FILTER_ADVERTISER',\n",
       "   'FILTER_LINE_ITEM',\n",
       "   'FILTER_ACTIVITY_ID',\n",
       "   'FILTER_DAY_OF_WEEK'],\n",
       "  'includeInviteData': False,\n",
       "  'metrics': ['METRIC_IMPRESSIONS',\n",
       "   'METRIC_CLICKS',\n",
       "   'METRIC_TOTAL_CONVERSIONS',\n",
       "   'METRIC_REVENUE_ADVERTISER',\n",
       "   'METRIC_MEDIA_COST_ADVERTISER',\n",
       "   'METRIC_CTR'],\n",
       "  'type': 'TYPE_GENERAL'},\n",
       " 'queryId': '1510090985328',\n",
       " 'reportDataEndTimeMs': '1508025600000',\n",
       " 'reportDataStartTimeMs': '1506297600000',\n",
       " 'schedule': {'endTimeMs': '0',\n",
       "  'frequency': 'ONE_TIME',\n",
       "  'nextRunMinuteOfDay': 1003,\n",
       "  'nextRunTimezoneCode': 'America/New_York'},\n",
       " 'timezoneCode': 'America/New_York'}"
      ]
     },
     "execution_count": 24,
     "metadata": {},
     "output_type": "execute_result"
    }
   ],
   "source": [
    "service.queries().createquery(body=query_resourse).execute()"
   ]
  },
  {
   "cell_type": "code",
   "execution_count": 25,
   "metadata": {},
   "outputs": [
    {
     "data": {
      "text/plain": [
       "{'kind': 'doubleclickbidmanager#listQueriesResponse',\n",
       " 'queries': [{'kind': 'doubleclickbidmanager#query',\n",
       "   'metadata': {'dataRange': 'CUSTOM_DATES',\n",
       "    'format': 'CSV',\n",
       "    'googleCloudStoragePathForLatestReport': 'https://storage.googleapis.com/136578715968494243751510090985328_report/JUBA_day_of_week_2017-11-07-2143.csv?GoogleAccessId=539605939877-d5f5o3m6kd1mq4j6tl06v7glf07armq9@developer.gserviceaccount.com&Expires=1825451001&Signature=GBkCwIg9nrqY%2B/Kda4smRtgD1PzGcEgiHnB73lNLr750EvclKikpGDPhTJjily5tRTy451dGByPgEYgGtEEtrxI6dQbo%2B0rEfKTY/CM949Tq44/K6y6oMaZl2iUza2yz8xXrhFzEEQVSNRmA/uYbwXkk8q4NLcatMyyU%2BS8awak%3D',\n",
       "    'latestReportRunTimeMs': '1510090985431',\n",
       "    'reportCount': 1,\n",
       "    'running': False,\n",
       "    'sendNotification': False,\n",
       "    'title': 'JUBA_day of week'},\n",
       "   'params': {'filters': [{'type': 'FILTER_ADVERTISER', 'value': '1958747'},\n",
       "     {'type': 'FILTER_LINE_ITEM', 'value': '13906955'},\n",
       "     {'type': 'FILTER_LINE_ITEM', 'value': '13857627'},\n",
       "     {'type': 'FILTER_LINE_ITEM', 'value': '13857390'},\n",
       "     {'type': 'FILTER_LINE_ITEM', 'value': '13857628'},\n",
       "     {'type': 'FILTER_PARTNER', 'value': '0'}],\n",
       "    'groupBys': ['FILTER_ADVERTISER',\n",
       "     'FILTER_LINE_ITEM',\n",
       "     'FILTER_ACTIVITY_ID',\n",
       "     'FILTER_DAY_OF_WEEK'],\n",
       "    'includeInviteData': False,\n",
       "    'metrics': ['METRIC_IMPRESSIONS',\n",
       "     'METRIC_CLICKS',\n",
       "     'METRIC_TOTAL_CONVERSIONS',\n",
       "     'METRIC_REVENUE_ADVERTISER',\n",
       "     'METRIC_MEDIA_COST_ADVERTISER',\n",
       "     'METRIC_CTR'],\n",
       "    'type': 'TYPE_GENERAL'},\n",
       "   'queryId': '1510090985328',\n",
       "   'reportDataEndTimeMs': '1507939200000',\n",
       "   'reportDataStartTimeMs': '1506211200000',\n",
       "   'schedule': {'endTimeMs': '0',\n",
       "    'frequency': 'ONE_TIME',\n",
       "    'nextRunMinuteOfDay': 1003,\n",
       "    'nextRunTimezoneCode': 'America/New_York'}}]}"
      ]
     },
     "execution_count": 25,
     "metadata": {},
     "output_type": "execute_result"
    }
   ],
   "source": [
    "service.queries().listqueries().execute()"
   ]
  },
  {
   "cell_type": "code",
   "execution_count": 29,
   "metadata": {},
   "outputs": [
    {
     "data": {
      "text/plain": [
       "{'kind': 'doubleclickbidmanager#listReportsResponse',\n",
       " 'reports': [{'key': {'queryId': '1510090985328', 'reportId': '1510090985431'},\n",
       "   'metadata': {'googleCloudStoragePath': 'https://storage.googleapis.com/136578715968494243751510090985328_report/JUBA_day_of_week_2017-11-07-2143.csv?GoogleAccessId=539605939877-d5f5o3m6kd1mq4j6tl06v7glf07armq9@developer.gserviceaccount.com&Expires=1825451001&Signature=GBkCwIg9nrqY%2B/Kda4smRtgD1PzGcEgiHnB73lNLr750EvclKikpGDPhTJjily5tRTy451dGByPgEYgGtEEtrxI6dQbo%2B0rEfKTY/CM949Tq44/K6y6oMaZl2iUza2yz8xXrhFzEEQVSNRmA/uYbwXkk8q4NLcatMyyU%2BS8awak%3D',\n",
       "    'reportDataEndTimeMs': '1507939200000',\n",
       "    'reportDataStartTimeMs': '1506211200000',\n",
       "    'status': {'finishTimeMs': '1510091001024', 'state': 'DONE'}},\n",
       "   'params': {'filters': [{'type': 'FILTER_ADVERTISER', 'value': '1958747'},\n",
       "     {'type': 'FILTER_LINE_ITEM', 'value': '13906955'},\n",
       "     {'type': 'FILTER_LINE_ITEM', 'value': '13857627'},\n",
       "     {'type': 'FILTER_LINE_ITEM', 'value': '13857390'},\n",
       "     {'type': 'FILTER_LINE_ITEM', 'value': '13857628'}],\n",
       "    'groupBys': ['FILTER_ADVERTISER',\n",
       "     'FILTER_LINE_ITEM',\n",
       "     'FILTER_ACTIVITY_ID',\n",
       "     'FILTER_DAY_OF_WEEK'],\n",
       "    'includeInviteData': False,\n",
       "    'metrics': ['METRIC_IMPRESSIONS',\n",
       "     'METRIC_CLICKS',\n",
       "     'METRIC_TOTAL_CONVERSIONS',\n",
       "     'METRIC_REVENUE_ADVERTISER',\n",
       "     'METRIC_MEDIA_COST_ADVERTISER',\n",
       "     'METRIC_CTR'],\n",
       "    'type': 'TYPE_GENERAL'}}]}"
      ]
     },
     "execution_count": 29,
     "metadata": {},
     "output_type": "execute_result"
    }
   ],
   "source": [
    "service.reports().listreports(queryId='1510090985328').execute()"
   ]
  },
  {
   "cell_type": "code",
   "execution_count": 30,
   "metadata": {
    "collapsed": true
   },
   "outputs": [],
   "source": [
    "query_id = '1510090985328'"
   ]
  },
  {
   "cell_type": "code",
   "execution_count": 31,
   "metadata": {
    "collapsed": true
   },
   "outputs": [],
   "source": [
    "query = service.queries().getquery(queryId=query_id).execute()"
   ]
  },
  {
   "cell_type": "code",
   "execution_count": 47,
   "metadata": {},
   "outputs": [
    {
     "data": {
      "text/plain": [
       "{'kind': 'doubleclickbidmanager#query',\n",
       " 'metadata': {'dataRange': 'CUSTOM_DATES',\n",
       "  'format': 'CSV',\n",
       "  'googleCloudStoragePathForLatestReport': 'https://storage.googleapis.com/136578715968494243751510090985328_report/JUBA_day_of_week_2017-11-07-2143.csv?GoogleAccessId=539605939877-d5f5o3m6kd1mq4j6tl06v7glf07armq9@developer.gserviceaccount.com&Expires=1825451001&Signature=GBkCwIg9nrqY%2B/Kda4smRtgD1PzGcEgiHnB73lNLr750EvclKikpGDPhTJjily5tRTy451dGByPgEYgGtEEtrxI6dQbo%2B0rEfKTY/CM949Tq44/K6y6oMaZl2iUza2yz8xXrhFzEEQVSNRmA/uYbwXkk8q4NLcatMyyU%2BS8awak%3D',\n",
       "  'latestReportRunTimeMs': '1510090985431',\n",
       "  'reportCount': 1,\n",
       "  'running': False,\n",
       "  'sendNotification': False,\n",
       "  'title': 'JUBA_day of week'},\n",
       " 'params': {'filters': [{'type': 'FILTER_ADVERTISER', 'value': '1958747'},\n",
       "   {'type': 'FILTER_LINE_ITEM', 'value': '13906955'},\n",
       "   {'type': 'FILTER_LINE_ITEM', 'value': '13857627'},\n",
       "   {'type': 'FILTER_LINE_ITEM', 'value': '13857390'},\n",
       "   {'type': 'FILTER_LINE_ITEM', 'value': '13857628'},\n",
       "   {'type': 'FILTER_PARTNER', 'value': '0'}],\n",
       "  'groupBys': ['FILTER_ADVERTISER',\n",
       "   'FILTER_LINE_ITEM',\n",
       "   'FILTER_ACTIVITY_ID',\n",
       "   'FILTER_DAY_OF_WEEK'],\n",
       "  'includeInviteData': False,\n",
       "  'metrics': ['METRIC_IMPRESSIONS',\n",
       "   'METRIC_CLICKS',\n",
       "   'METRIC_TOTAL_CONVERSIONS',\n",
       "   'METRIC_REVENUE_ADVERTISER',\n",
       "   'METRIC_MEDIA_COST_ADVERTISER',\n",
       "   'METRIC_CTR'],\n",
       "  'type': 'TYPE_GENERAL'},\n",
       " 'queryId': '1510090985328',\n",
       " 'reportDataEndTimeMs': '1507939200000',\n",
       " 'reportDataStartTimeMs': '1506211200000',\n",
       " 'schedule': {'endTimeMs': '0',\n",
       "  'frequency': 'ONE_TIME',\n",
       "  'nextRunMinuteOfDay': 1003,\n",
       "  'nextRunTimezoneCode': 'America/New_York'}}"
      ]
     },
     "execution_count": 47,
     "metadata": {},
     "output_type": "execute_result"
    }
   ],
   "source": [
    "query"
   ]
  },
  {
   "cell_type": "code",
   "execution_count": 32,
   "metadata": {
    "collapsed": true
   },
   "outputs": [],
   "source": [
    "report_url = query['metadata']['googleCloudStoragePathForLatestReport']"
   ]
  },
  {
   "cell_type": "code",
   "execution_count": 33,
   "metadata": {},
   "outputs": [
    {
     "data": {
      "text/plain": [
       "'https://storage.googleapis.com/136578715968494243751510090985328_report/JUBA_day_of_week_2017-11-07-2143.csv?GoogleAccessId=539605939877-d5f5o3m6kd1mq4j6tl06v7glf07armq9@developer.gserviceaccount.com&Expires=1825451001&Signature=GBkCwIg9nrqY%2B/Kda4smRtgD1PzGcEgiHnB73lNLr750EvclKikpGDPhTJjily5tRTy451dGByPgEYgGtEEtrxI6dQbo%2B0rEfKTY/CM949Tq44/K6y6oMaZl2iUza2yz8xXrhFzEEQVSNRmA/uYbwXkk8q4NLcatMyyU%2BS8awak%3D'"
      ]
     },
     "execution_count": 33,
     "metadata": {},
     "output_type": "execute_result"
    }
   ],
   "source": [
    "report_url"
   ]
  },
  {
   "cell_type": "code",
   "execution_count": 38,
   "metadata": {},
   "outputs": [],
   "source": [
    "import urllib\n",
    "from contextlib import closing"
   ]
  },
  {
   "cell_type": "code",
   "execution_count": 43,
   "metadata": {},
   "outputs": [],
   "source": [
    "output_dir = '/home/jzou'\n",
    "output_file = '%s/%s.csv' % (output_dir, query['queryId'])\n",
    "with open(output_file, 'wb') as output:\n",
    "    with closing(urlopen(report_url)) as url:\n",
    "        output.write(url.read())"
   ]
  },
  {
   "cell_type": "code",
   "execution_count": 42,
   "metadata": {
    "collapsed": true
   },
   "outputs": [],
   "source": [
    "from urllib.request import urlopen"
   ]
  },
  {
   "cell_type": "code",
   "execution_count": null,
   "metadata": {
    "collapsed": true
   },
   "outputs": [],
   "source": []
  }
 ],
 "metadata": {
  "kernelspec": {
   "display_name": "Python 3",
   "language": "python",
   "name": "python3"
  },
  "language_info": {
   "codemirror_mode": {
    "name": "ipython",
    "version": 3
   },
   "file_extension": ".py",
   "mimetype": "text/x-python",
   "name": "python",
   "nbconvert_exporter": "python",
   "pygments_lexer": "ipython3",
   "version": "3.6.1"
  }
 },
 "nbformat": 4,
 "nbformat_minor": 2
}
