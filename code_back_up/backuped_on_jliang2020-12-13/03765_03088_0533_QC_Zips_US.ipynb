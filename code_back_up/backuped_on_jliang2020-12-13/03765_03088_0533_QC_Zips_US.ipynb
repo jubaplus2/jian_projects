{
 "cells": [
  {
   "cell_type": "code",
   "execution_count": 1,
   "metadata": {
    "collapsed": true
   },
   "outputs": [],
   "source": [
    "import pandas as pd"
   ]
  },
  {
   "cell_type": "code",
   "execution_count": 2,
   "metadata": {
    "collapsed": true
   },
   "outputs": [],
   "source": [
    "micro_zips=pd.read_excel(\"/home/jian/Projects/Saatva/Analysis/Zips_Comparison_Saatva_Juba/Saatva YT microsegments 9.14_AdOps.xlsx\",\n",
    "                        dtype=str,sheetname=\"Zip Juba Unique\")"
   ]
  },
  {
   "cell_type": "code",
   "execution_count": 14,
   "metadata": {},
   "outputs": [],
   "source": [
    "micro_zips_list=micro_zips['zip_cd'].unique().tolist()"
   ]
  },
  {
   "cell_type": "code",
   "execution_count": 9,
   "metadata": {},
   "outputs": [],
   "source": [
    "EASI_Zips_C=pd.read_csv(\"/home/jian/Docs/EASI/2018-07-19/ZIP4_18_DATA_C2_CSV/ZIP4_18_DATA_C2.CSV\",\n",
    "                        dtype=str,skiprows=1,encoding = \"ISO-8859-1\",usecols=['ZIP_CODE','ZIP4'])"
   ]
  },
  {
   "cell_type": "code",
   "execution_count": 23,
   "metadata": {},
   "outputs": [],
   "source": [
    "EASI_Zips_A=pd.read_csv(\"/home/jian/Docs/EASI/2018-07-19/ZIP4_18_DATA_A2_CSV/ZIP4_18_DATA_A2.CSV\",\n",
    "                        dtype=str,skiprows=1,usecols=['ZIP_CODE','POP18'])\n",
    "EASI_Zips_A['POP18']=EASI_Zips_A['POP18'].astype(float)\n",
    "EASI_Zips_A_Pop_Zip5=EASI_Zips_A.groupby(['ZIP_CODE'])['POP18'].sum().to_frame().reset_index()\n"
   ]
  },
  {
   "cell_type": "code",
   "execution_count": 24,
   "metadata": {},
   "outputs": [],
   "source": [
    "EASI_Zips_A_Pop_Zip5=EASI_Zips_A_Pop_Zip5.rename(columns={'ZIP_CODE':\"zip_cd\"})\n",
    "micro_zips=pd.merge(micro_zips,EASI_Zips_A_Pop_Zip5,on=\"zip_cd\",how=\"left\")"
   ]
  },
  {
   "cell_type": "code",
   "execution_count": 27,
   "metadata": {},
   "outputs": [],
   "source": [
    "micro_zips.to_csv(\"/home/jian/Projects/Saatva/Analysis/Zips_Comparison_Saatva_Juba/QC_JubaOnly_Zips_Population.csv\",index=False)"
   ]
  },
  {
   "cell_type": "code",
   "execution_count": 29,
   "metadata": {},
   "outputs": [
    {
     "data": {
      "text/plain": [
       "326868762.39999998"
      ]
     },
     "execution_count": 29,
     "metadata": {},
     "output_type": "execute_result"
    }
   ],
   "source": [
    "EASI_Zips_A_Pop_Zip5['POP18'].sum()"
   ]
  },
  {
   "cell_type": "code",
   "execution_count": 30,
   "metadata": {},
   "outputs": [
    {
     "data": {
      "text/plain": [
       "41013806.300000019"
      ]
     },
     "execution_count": 30,
     "metadata": {},
     "output_type": "execute_result"
    }
   ],
   "source": [
    "micro_zips['POP18'].sum()"
   ]
  },
  {
   "cell_type": "code",
   "execution_count": 31,
   "metadata": {},
   "outputs": [
    {
     "data": {
      "text/plain": [
       "0.12547484194837219"
      ]
     },
     "execution_count": 31,
     "metadata": {},
     "output_type": "execute_result"
    }
   ],
   "source": [
    "micro_zips['POP18'].sum()/EASI_Zips_A_Pop_Zip5['POP18'].sum()"
   ]
  },
  {
   "cell_type": "code",
   "execution_count": null,
   "metadata": {
    "collapsed": true
   },
   "outputs": [],
   "source": []
  }
 ],
 "metadata": {
  "kernelspec": {
   "display_name": "Python 3",
   "language": "python",
   "name": "python3"
  },
  "language_info": {
   "codemirror_mode": {
    "name": "ipython",
    "version": 3
   },
   "file_extension": ".py",
   "mimetype": "text/x-python",
   "name": "python",
   "nbconvert_exporter": "python",
   "pygments_lexer": "ipython3",
   "version": "3.6.1"
  }
 },
 "nbformat": 4,
 "nbformat_minor": 2
}
