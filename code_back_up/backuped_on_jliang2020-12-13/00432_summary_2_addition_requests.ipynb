{
 "cells": [
  {
   "cell_type": "code",
   "execution_count": 21,
   "metadata": {},
   "outputs": [
    {
     "name": "stdout",
     "output_type": "stream",
     "text": [
      "/home/jian/Projects/Big_Lots/Analysis/2020_Q1/plannder_requests/YG_zips_all_current_stores\n",
      "2020-05-14 17:12:10.504581\n"
     ]
    }
   ],
   "source": [
    "import pandas as pd\n",
    "import datetime\n",
    "import numpy as np\n",
    "import os\n",
    "\n",
    "print(os.getcwd())\n",
    "print(datetime.datetime.now())"
   ]
  },
  {
   "cell_type": "code",
   "execution_count": 22,
   "metadata": {},
   "outputs": [
    {
     "data": {
      "text/plain": [
       "(1426, 1)"
      ]
     },
     "execution_count": 22,
     "metadata": {},
     "output_type": "execute_result"
    }
   ],
   "source": [
    "df_YG_store_list=pd.read_excel(\"./OnboardingKit BL 0427.xlsx\",dtype=str,sheet_name=\"List of stores\")\n",
    "df_YG_store_list=df_YG_store_list[['Store']].rename(columns={\"Store\":\"location_id\"}).drop_duplicates()\n",
    "df_YG_store_list.shape"
   ]
  },
  {
   "cell_type": "code",
   "execution_count": 23,
   "metadata": {},
   "outputs": [
    {
     "data": {
      "text/plain": [
       "['unique_zips_full_footprint',\n",
       " 'view_by_TA',\n",
       " 'view_by_store',\n",
       " 'view_for_Tableau']"
      ]
     },
     "execution_count": 23,
     "metadata": {},
     "output_type": "execute_result"
    }
   ],
   "source": [
    "excel_file_TA=pd.ExcelFile(\"/home/jian/Projects/Big_Lots/New_TA/TA_created_in_201906/final_output_20190718/BL_final_TA_updated_JL_2019-07-18.xlsx\")\n",
    "excel_file_TA.sheet_names"
   ]
  },
  {
   "cell_type": "code",
   "execution_count": 24,
   "metadata": {},
   "outputs": [
    {
     "data": {
      "text/html": [
       "<div>\n",
       "<style scoped>\n",
       "    .dataframe tbody tr th:only-of-type {\n",
       "        vertical-align: middle;\n",
       "    }\n",
       "\n",
       "    .dataframe tbody tr th {\n",
       "        vertical-align: top;\n",
       "    }\n",
       "\n",
       "    .dataframe thead th {\n",
       "        text-align: right;\n",
       "    }\n",
       "</style>\n",
       "<table border=\"1\" class=\"dataframe\">\n",
       "  <thead>\n",
       "    <tr style=\"text-align: right;\">\n",
       "      <th></th>\n",
       "      <th>TA_num</th>\n",
       "      <th>ta_name</th>\n",
       "      <th>location_id</th>\n",
       "    </tr>\n",
       "  </thead>\n",
       "  <tbody>\n",
       "    <tr>\n",
       "      <th>0</th>\n",
       "      <td>1</td>\n",
       "      <td>multiple_1</td>\n",
       "      <td>1949</td>\n",
       "    </tr>\n",
       "    <tr>\n",
       "      <th>1</th>\n",
       "      <td>1</td>\n",
       "      <td>multiple_1</td>\n",
       "      <td>1255</td>\n",
       "    </tr>\n",
       "  </tbody>\n",
       "</table>\n",
       "</div>"
      ],
      "text/plain": [
       "  TA_num     ta_name location_id\n",
       "0      1  multiple_1        1949\n",
       "1      1  multiple_1        1255"
      ]
     },
     "execution_count": 24,
     "metadata": {},
     "output_type": "execute_result"
    }
   ],
   "source": [
    "df_store_TA=excel_file_TA.parse(\"view_by_store\",dtype=str,usecols=['ta_name','location_id','TA_num'])\n",
    "df_YG_store_list=pd.merge(df_YG_store_list,df_store_TA,on=\"location_id\",how=\"left\")"
   ]
  },
  {
   "cell_type": "code",
   "execution_count": 30,
   "metadata": {},
   "outputs": [
    {
     "data": {
      "text/html": [
       "<div>\n",
       "<style scoped>\n",
       "    .dataframe tbody tr th:only-of-type {\n",
       "        vertical-align: middle;\n",
       "    }\n",
       "\n",
       "    .dataframe tbody tr th {\n",
       "        vertical-align: top;\n",
       "    }\n",
       "\n",
       "    .dataframe thead th {\n",
       "        text-align: right;\n",
       "    }\n",
       "</style>\n",
       "<table border=\"1\" class=\"dataframe\">\n",
       "  <thead>\n",
       "    <tr style=\"text-align: right;\">\n",
       "      <th></th>\n",
       "      <th>location_id</th>\n",
       "      <th>TA_num</th>\n",
       "      <th>ta_name</th>\n",
       "    </tr>\n",
       "  </thead>\n",
       "  <tbody>\n",
       "    <tr>\n",
       "      <th>0</th>\n",
       "      <td>1</td>\n",
       "      <td>121</td>\n",
       "      <td>multiple_121</td>\n",
       "    </tr>\n",
       "    <tr>\n",
       "      <th>1</th>\n",
       "      <td>3</td>\n",
       "      <td>227</td>\n",
       "      <td>single_3</td>\n",
       "    </tr>\n",
       "  </tbody>\n",
       "</table>\n",
       "</div>"
      ],
      "text/plain": [
       "  location_id  TA_num       ta_name\n",
       "0           1     121  multiple_121\n",
       "1           3     227      single_3"
      ]
     },
     "execution_count": 30,
     "metadata": {},
     "output_type": "execute_result"
    }
   ],
   "source": [
    "df_YG_store_list_existing=df_YG_store_list[pd.notnull(df_YG_store_list['TA_num'])]\n",
    "df_YG_store_list_existing['TA_num']=df_YG_store_list_existing['TA_num'].astype(int)\n",
    "df_YG_store_list_existing['TA_num'].min(),df_YG_store_list_existing['TA_num'].max(),df_YG_store_list_existing['TA_num'].nunique()"
   ]
  },
  {
   "cell_type": "code",
   "execution_count": 28,
   "metadata": {},
   "outputs": [],
   "source": [
    "df_YG_store_list_new=df_YG_store_list[pd.isnull(df_YG_store_list['TA_num'])]\n",
    "df_YG_store_list_new=df_YG_store_list_new.sort_values(\"location_id\")\n",
    "df_YG_store_list_new['TA_num']=range(707,707+len(df_YG_store_list_new))\n",
    "df_YG_store_list_new['ta_name']=\"new_\"+df_YG_store_list_new['location_id']\n"
   ]
  },
  {
   "cell_type": "code",
   "execution_count": 32,
   "metadata": {},
   "outputs": [],
   "source": [
    "df_YG_store_list=df_YG_store_list_existing.append(df_YG_store_list_new)\n",
    "df_YG_store_list['location_id']=df_YG_store_list['location_id'].astype(int)\n",
    "df_YG_store_list=df_YG_store_list.sort_values(\"location_id\")"
   ]
  },
  {
   "cell_type": "code",
   "execution_count": 33,
   "metadata": {},
   "outputs": [
    {
     "data": {
      "text/html": [
       "<div>\n",
       "<style scoped>\n",
       "    .dataframe tbody tr th:only-of-type {\n",
       "        vertical-align: middle;\n",
       "    }\n",
       "\n",
       "    .dataframe tbody tr th {\n",
       "        vertical-align: top;\n",
       "    }\n",
       "\n",
       "    .dataframe thead th {\n",
       "        text-align: right;\n",
       "    }\n",
       "</style>\n",
       "<table border=\"1\" class=\"dataframe\">\n",
       "  <thead>\n",
       "    <tr style=\"text-align: right;\">\n",
       "      <th></th>\n",
       "      <th>location_id</th>\n",
       "      <th>TA_num</th>\n",
       "      <th>ta_name</th>\n",
       "    </tr>\n",
       "  </thead>\n",
       "  <tbody>\n",
       "    <tr>\n",
       "      <th>0</th>\n",
       "      <td>1</td>\n",
       "      <td>121</td>\n",
       "      <td>multiple_121</td>\n",
       "    </tr>\n",
       "    <tr>\n",
       "      <th>1</th>\n",
       "      <td>3</td>\n",
       "      <td>227</td>\n",
       "      <td>single_3</td>\n",
       "    </tr>\n",
       "    <tr>\n",
       "      <th>2</th>\n",
       "      <td>29</td>\n",
       "      <td>594</td>\n",
       "      <td>single_29</td>\n",
       "    </tr>\n",
       "    <tr>\n",
       "      <th>3</th>\n",
       "      <td>30</td>\n",
       "      <td>235</td>\n",
       "      <td>single_30</td>\n",
       "    </tr>\n",
       "    <tr>\n",
       "      <th>4</th>\n",
       "      <td>42</td>\n",
       "      <td>79</td>\n",
       "      <td>multiple_79</td>\n",
       "    </tr>\n",
       "    <tr>\n",
       "      <th>...</th>\n",
       "      <td>...</td>\n",
       "      <td>...</td>\n",
       "      <td>...</td>\n",
       "    </tr>\n",
       "    <tr>\n",
       "      <th>1421</th>\n",
       "      <td>5420</td>\n",
       "      <td>758</td>\n",
       "      <td>new_5420</td>\n",
       "    </tr>\n",
       "    <tr>\n",
       "      <th>1422</th>\n",
       "      <td>5421</td>\n",
       "      <td>759</td>\n",
       "      <td>new_5421</td>\n",
       "    </tr>\n",
       "    <tr>\n",
       "      <th>1423</th>\n",
       "      <td>5422</td>\n",
       "      <td>760</td>\n",
       "      <td>new_5422</td>\n",
       "    </tr>\n",
       "    <tr>\n",
       "      <th>1424</th>\n",
       "      <td>5423</td>\n",
       "      <td>761</td>\n",
       "      <td>new_5423</td>\n",
       "    </tr>\n",
       "    <tr>\n",
       "      <th>1425</th>\n",
       "      <td>5424</td>\n",
       "      <td>762</td>\n",
       "      <td>new_5424</td>\n",
       "    </tr>\n",
       "  </tbody>\n",
       "</table>\n",
       "<p>1426 rows × 3 columns</p>\n",
       "</div>"
      ],
      "text/plain": [
       "      location_id  TA_num       ta_name\n",
       "0               1     121  multiple_121\n",
       "1               3     227      single_3\n",
       "2              29     594     single_29\n",
       "3              30     235     single_30\n",
       "4              42      79   multiple_79\n",
       "...           ...     ...           ...\n",
       "1421         5420     758      new_5420\n",
       "1422         5421     759      new_5421\n",
       "1423         5422     760      new_5422\n",
       "1424         5423     761      new_5423\n",
       "1425         5424     762      new_5424\n",
       "\n",
       "[1426 rows x 3 columns]"
      ]
     },
     "execution_count": 33,
     "metadata": {},
     "output_type": "execute_result"
    }
   ],
   "source": [
    "df_YG_store_list"
   ]
  },
  {
   "cell_type": "code",
   "execution_count": 37,
   "metadata": {},
   "outputs": [],
   "source": [
    "df_zips_by_store=pd.read_excel(\"./BL_TA_zips_JL_2020-04-30.xlsx\",sheet_name=\"store_with_zips\",dtype=str)\n",
    "df_zips_by_store['location_id']=df_zips_by_store['location_id'].astype(int)\n",
    "df_zips_by_store=pd.merge(df_zips_by_store,df_YG_store_list,on=\"location_id\")"
   ]
  },
  {
   "cell_type": "code",
   "execution_count": 44,
   "metadata": {},
   "outputs": [],
   "source": [
    "# In case if you want to replace the zip label first\n",
    "# df_zips_by_store['zip_type']=df_zips_by_store['zip_type'].replace(\"10_zip_count\",\"P\")\n",
    "\n",
    "df_summary_by_TA=df_zips_by_store.groupby(['TA_num','ta_name','zip_type'])['zip_cd'].nunique().to_frame().reset_index()\n",
    "df_summary_by_TA=df_summary_by_TA.pivot_table(index=['TA_num','ta_name'],columns=\"zip_type\",values=\"zip_cd\").reset_index()\n",
    "df_summary_by_TA=df_summary_by_TA.rename(columns={\"P\":\"P_zip_count\",\"S\":\"S_zip_count\",\"zip_10\":\"10_zip_count\"})\n",
    "\n",
    "df_summary_by_TA_2=df_zips_by_store.groupby(['TA_num','ta_name'])['location_id'].nunique().to_frame().reset_index().rename(columns={\"location_id\":\"store_count\"})\n",
    "df_summary_by_TA=pd.merge(df_summary_by_TA,df_summary_by_TA_2,on=['TA_num','ta_name'])\n",
    "df_summary_by_TA=df_summary_by_TA.fillna(0)"
   ]
  },
  {
   "cell_type": "code",
   "execution_count": 45,
   "metadata": {},
   "outputs": [],
   "source": [
    "writer=pd.ExcelWriter(\"./BL_additional_2_needs_filed_JL_\"+str(datetime.datetime.now().date())+\".xlsx\",engine=\"xlsxwriter\")\n",
    "df_YG_store_list.to_excel(writer,\"TA_mapping_to_store\",index=False)\n",
    "df_summary_by_TA.to_excel(writer,\"summary_by_TA\",index=False)\n",
    "writer.save()"
   ]
  },
  {
   "cell_type": "code",
   "execution_count": null,
   "metadata": {},
   "outputs": [],
   "source": []
  }
 ],
 "metadata": {
  "kernelspec": {
   "display_name": "Python 3",
   "language": "python",
   "name": "python3"
  },
  "language_info": {
   "codemirror_mode": {
    "name": "ipython",
    "version": 3
   },
   "file_extension": ".py",
   "mimetype": "text/x-python",
   "name": "python",
   "nbconvert_exporter": "python",
   "pygments_lexer": "ipython3",
   "version": "3.6.1"
  }
 },
 "nbformat": 4,
 "nbformat_minor": 2
}
