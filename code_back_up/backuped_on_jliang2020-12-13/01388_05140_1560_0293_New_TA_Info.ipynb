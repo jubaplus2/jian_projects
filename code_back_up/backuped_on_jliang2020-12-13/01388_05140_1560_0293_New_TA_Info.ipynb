{
 "cells": [
  {
   "cell_type": "code",
   "execution_count": 1,
   "metadata": {
    "collapsed": true
   },
   "outputs": [],
   "source": [
    "import pandas as pd\n",
    "import numpy as np"
   ]
  },
  {
   "cell_type": "code",
   "execution_count": 2,
   "metadata": {
    "collapsed": true
   },
   "outputs": [],
   "source": [
    "all_zip_ta=pd.read_excel(\"/home/jian/Projects/Big_Lots/New_TA/New_TA_Info/BL_TA data by zip_JL_20180328.xlsx\",dtype=str,na_values=\"\")\n",
    "ta_store=pd.read_csv(\"/home/jian/Projects/Big_Lots/New_TA/New_TA_Info/new_biglots_trade_areas_20171227.csv\",dtype=str,na_values=\"\")\n"
   ]
  },
  {
   "cell_type": "code",
   "execution_count": 3,
   "metadata": {
    "collapsed": true
   },
   "outputs": [],
   "source": [
    "store_city_state=all_zip_ta[['location_id','city_of_store','state_of_store','TA_of_store']]\n",
    "store_city_state=store_city_state[store_city_state['location_id']!=\"nan\"]"
   ]
  },
  {
   "cell_type": "code",
   "execution_count": 4,
   "metadata": {
    "collapsed": true
   },
   "outputs": [],
   "source": [
    "store_city_state['city_state']=store_city_state['city_of_store']+\" | \"+store_city_state['state_of_store']"
   ]
  },
  {
   "cell_type": "code",
   "execution_count": 5,
   "metadata": {
    "collapsed": true
   },
   "outputs": [],
   "source": [
    "TA_geo=store_city_state.groupby(['TA_of_store','city_state'])['location_id'].count().to_frame()\n",
    "TA_geo.reset_index(inplace=True)\n",
    "TA_geo=TA_geo.sort_values(['TA_of_store','location_id'],ascending=[True,False])"
   ]
  },
  {
   "cell_type": "code",
   "execution_count": 6,
   "metadata": {
    "collapsed": true
   },
   "outputs": [],
   "source": [
    "TA_geo=TA_geo.drop_duplicates(\"TA_of_store\")\n",
    "TA_geo.reset_index(inplace=True)\n",
    "del TA_geo['index']\n",
    "del TA_geo['location_id']"
   ]
  },
  {
   "cell_type": "code",
   "execution_count": 7,
   "metadata": {
    "collapsed": true
   },
   "outputs": [],
   "source": [
    "ta_store=ta_store[['trade_area_code','number_of_stores']]\n",
    "ta_store.columns=['TA_of_store','number_of_stores']"
   ]
  },
  {
   "cell_type": "code",
   "execution_count": 8,
   "metadata": {
    "collapsed": true
   },
   "outputs": [],
   "source": [
    "TA_info=pd.merge(TA_geo,ta_store,on='TA_of_store',how=\"outer\")"
   ]
  },
  {
   "cell_type": "code",
   "execution_count": 9,
   "metadata": {
    "collapsed": true
   },
   "outputs": [],
   "source": [
    "TA_info['Ta_Info']=TA_info['TA_of_store']+\" | \"+TA_info['number_of_stores']+\" | \"+TA_info['city_state']\n",
    "TA_info=TA_info[['TA_of_store','Ta_Info']]"
   ]
  },
  {
   "cell_type": "code",
   "execution_count": 14,
   "metadata": {
    "collapsed": true
   },
   "outputs": [],
   "source": [
    "store_ta=all_zip_ta[['location_id','TA_of_store']]\n",
    "store_ta=store_ta[store_ta['location_id']!=\"nan\"]\n",
    "store_ta=pd.merge(store_ta,TA_info,on=\"TA_of_store\",how=\"left\")\n",
    "del store_ta['TA_of_store']\n",
    "store_ta=store_ta.drop_duplicates()\n",
    "store_ta.reset_index(inplace=True)\n",
    "del store_ta['index']"
   ]
  },
  {
   "cell_type": "code",
   "execution_count": 15,
   "metadata": {},
   "outputs": [
    {
     "data": {
      "text/html": [
       "<div>\n",
       "<style>\n",
       "    .dataframe thead tr:only-child th {\n",
       "        text-align: right;\n",
       "    }\n",
       "\n",
       "    .dataframe thead th {\n",
       "        text-align: left;\n",
       "    }\n",
       "\n",
       "    .dataframe tbody tr th {\n",
       "        vertical-align: top;\n",
       "    }\n",
       "</style>\n",
       "<table border=\"1\" class=\"dataframe\">\n",
       "  <thead>\n",
       "    <tr style=\"text-align: right;\">\n",
       "      <th></th>\n",
       "      <th>location_id</th>\n",
       "      <th>Ta_Info</th>\n",
       "    </tr>\n",
       "  </thead>\n",
       "  <tbody>\n",
       "    <tr>\n",
       "      <th>1426</th>\n",
       "      <td>5358</td>\n",
       "      <td>N298 | 2 | ELYRIA | OH</td>\n",
       "    </tr>\n",
       "    <tr>\n",
       "      <th>1427</th>\n",
       "      <td>5359</td>\n",
       "      <td>N5 | 32 | MARIETTA | GA</td>\n",
       "    </tr>\n",
       "    <tr>\n",
       "      <th>1428</th>\n",
       "      <td>5360</td>\n",
       "      <td>N24 | 10 | SPARTANBURG | SC</td>\n",
       "    </tr>\n",
       "  </tbody>\n",
       "</table>\n",
       "</div>"
      ],
      "text/plain": [
       "     location_id                      Ta_Info\n",
       "1426        5358       N298 | 2 | ELYRIA | OH\n",
       "1427        5359      N5 | 32 | MARIETTA | GA\n",
       "1428        5360  N24 | 10 | SPARTANBURG | SC"
      ]
     },
     "execution_count": 15,
     "metadata": {},
     "output_type": "execute_result"
    }
   ],
   "source": [
    "store_ta.tail(3)"
   ]
  },
  {
   "cell_type": "code",
   "execution_count": 16,
   "metadata": {
    "collapsed": true
   },
   "outputs": [],
   "source": [
    "store_ta.to_csv(\"/home/jian/BiglotsCode/OtherInput/New_TA_info.csv\",index=False)"
   ]
  },
  {
   "cell_type": "code",
   "execution_count": 10,
   "metadata": {},
   "outputs": [
    {
     "data": {
      "text/plain": [
       "(541, 2)"
      ]
     },
     "execution_count": 10,
     "metadata": {},
     "output_type": "execute_result"
    }
   ],
   "source": []
  },
  {
   "cell_type": "code",
   "execution_count": null,
   "metadata": {
    "collapsed": true
   },
   "outputs": [],
   "source": []
  }
 ],
 "metadata": {
  "kernelspec": {
   "display_name": "Python 3",
   "language": "python",
   "name": "python3"
  },
  "language_info": {
   "codemirror_mode": {
    "name": "ipython",
    "version": 3
   },
   "file_extension": ".py",
   "mimetype": "text/x-python",
   "name": "python",
   "nbconvert_exporter": "python",
   "pygments_lexer": "ipython3",
   "version": "3.6.1"
  }
 },
 "nbformat": 4,
 "nbformat_minor": 2
}
