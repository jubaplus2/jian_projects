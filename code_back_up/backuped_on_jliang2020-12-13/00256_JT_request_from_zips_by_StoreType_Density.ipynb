{
 "cells": [
  {
   "cell_type": "code",
   "execution_count": 1,
   "metadata": {},
   "outputs": [
    {
     "name": "stdout",
     "output_type": "stream",
     "text": [
      "2020-02-03 13:40:42.143344\n"
     ]
    },
    {
     "data": {
      "text/plain": [
       "'/home/jian/Projects/Big_Lots/Analysis/2019_Q4/Planner_Request/JT_zips_by_SOTF_Density_20200128'"
      ]
     },
     "execution_count": 1,
     "metadata": {},
     "output_type": "execute_result"
    }
   ],
   "source": [
    "import pandas as pd\n",
    "import numpy as np\n",
    "import datetime\n",
    "import os\n",
    "\n",
    "print(datetime.datetime.now())\n",
    "os.getcwd()"
   ]
  },
  {
   "cell_type": "code",
   "execution_count": 2,
   "metadata": {},
   "outputs": [
    {
     "name": "stdout",
     "output_type": "stream",
     "text": [
      "479 479\n",
      "['SOTF']\n"
     ]
    },
    {
     "data": {
      "text/html": [
       "<div>\n",
       "<style scoped>\n",
       "    .dataframe tbody tr th:only-of-type {\n",
       "        vertical-align: middle;\n",
       "    }\n",
       "\n",
       "    .dataframe tbody tr th {\n",
       "        vertical-align: top;\n",
       "    }\n",
       "\n",
       "    .dataframe thead th {\n",
       "        text-align: right;\n",
       "    }\n",
       "</style>\n",
       "<table border=\"1\" class=\"dataframe\">\n",
       "  <thead>\n",
       "    <tr style=\"text-align: right;\">\n",
       "      <th></th>\n",
       "      <th>location_id</th>\n",
       "      <th>Store_Type</th>\n",
       "    </tr>\n",
       "  </thead>\n",
       "  <tbody>\n",
       "    <tr>\n",
       "      <th>0</th>\n",
       "      <td>1</td>\n",
       "      <td>SOTF</td>\n",
       "    </tr>\n",
       "    <tr>\n",
       "      <th>8</th>\n",
       "      <td>49</td>\n",
       "      <td>SOTF</td>\n",
       "    </tr>\n",
       "  </tbody>\n",
       "</table>\n",
       "</div>"
      ],
      "text/plain": [
       "  location_id Store_Type\n",
       "0           1       SOTF\n",
       "8          49       SOTF"
      ]
     },
     "execution_count": 2,
     "metadata": {},
     "output_type": "execute_result"
    }
   ],
   "source": [
    "df_store_type=pd.ExcelFile(\"/home/jian/Projects/Big_Lots/Live_Ramp/Quarterly_Update_2020Q1/other_input/BL Store List Report from Dom 12.20.19.xlsx\")\n",
    "df_store_type=df_store_type.parse(\"Store List\",dtype=str)\n",
    "df_store_type=df_store_type[[\"Store\",'SOTF']]\n",
    "df_store_type=df_store_type[df_store_type['SOTF']==\"Yes\"]\n",
    "df_store_type=df_store_type[df_store_type['Store']!=\"TBD\"]\n",
    "print(len(df_store_type),df_store_type['Store'].nunique())\n",
    "df_store_type=df_store_type.rename(columns={\"Store\":\"location_id\",\"SOTF\":\"Store_Type\"})\n",
    "df_store_type['Store_Type']=df_store_type['Store_Type'].replace({\"Yes\":\"SOTF\"})\n",
    "print(df_store_type['Store_Type'].unique())\n",
    "df_store_type.head(2)"
   ]
  },
  {
   "cell_type": "code",
   "execution_count": 3,
   "metadata": {},
   "outputs": [],
   "source": [
    "store_list=pd.read_table(\"/home/jian/BigLots/static_files/Store_list/MediaStormStores20200101-135601-098.txt\",\n",
    "                        dtype=str,sep=\"|\",usecols=['location_id'])\n",
    "store_list=store_list.drop_duplicates()\n",
    "store_list=pd.merge(store_list,df_store_type,on=\"location_id\",how=\"left\")\n",
    "store_list['Store_Type']=store_list['Store_Type'].fillna(\"Legacy\")\n",
    "store_list=store_list[store_list['location_id']!=\"145\"]\n",
    "store_list=store_list[store_list['location_id']!=\"6990\"]\n"
   ]
  },
  {
   "cell_type": "code",
   "execution_count": 4,
   "metadata": {},
   "outputs": [
    {
     "data": {
      "text/plain": [
       "(1412, 3)"
      ]
     },
     "execution_count": 4,
     "metadata": {},
     "output_type": "execute_result"
    }
   ],
   "source": [
    "df_store_density=pd.read_excel(\"/home/jian/Projects/Big_Lots/Analysis/2019_Q4/Planner_Request/JT_zips_by_SOTF_Density_20200128/BL 2020Q1 Budget Allocation Model 20200122 BR Summary.xlsx\",\n",
    "                              sheet_name=\"Full Store List Q1\",dtype=str,usecols=['Store #','Density Tier','SOTF'])\n",
    "df_store_density=df_store_density.rename(columns={\"Store #\":\"location_id\",\"Density Tier\":\"density\",\"SOTF\":\"SOTF_in_density_file\"})\n",
    "df_store_density['SOTF_in_density_file']=df_store_density['SOTF_in_density_file'].replace({\"NonSOTF\":\"Legacy\"})\n",
    "df_store_density.shape"
   ]
  },
  {
   "cell_type": "code",
   "execution_count": 5,
   "metadata": {},
   "outputs": [
    {
     "data": {
      "text/plain": [
       "(1420, 4)"
      ]
     },
     "execution_count": 5,
     "metadata": {},
     "output_type": "execute_result"
    }
   ],
   "source": [
    "store_list=pd.merge(store_list,df_store_density,on=\"location_id\",how=\"outer\")\n",
    "store_list=store_list[pd.notnull(store_list['location_id'])]\n",
    "store_list.shape"
   ]
  },
  {
   "cell_type": "code",
   "execution_count": 6,
   "metadata": {},
   "outputs": [
    {
     "name": "stdout",
     "output_type": "stream",
     "text": [
      "(32, 4)\n",
      "(14, 4)\n"
     ]
    }
   ],
   "source": [
    "df_different_store_type=store_list[store_list['Store_Type']!=store_list['SOTF_in_density_file']]\n",
    "print(df_different_store_type.shape)\n",
    "\n",
    "df_missing_density=store_list[pd.isnull(store_list['density'])]\n",
    "print(df_missing_density.shape)\n"
   ]
  },
  {
   "cell_type": "code",
   "execution_count": 7,
   "metadata": {},
   "outputs": [],
   "source": [
    "writer=pd.ExcelWriter(\"./to_confirm_with_BR_inconsistence_store_JL_\"+str(datetime.datetime.now().date())+\".xlsx\",engine=\"xlsxwriter\")\n",
    "df_different_store_type.to_excel(writer,\"different_store_type\",index=False)\n",
    "df_missing_density.to_excel(writer,\"missing_density\",index=False)\n",
    "writer.save()"
   ]
  },
  {
   "cell_type": "code",
   "execution_count": 8,
   "metadata": {},
   "outputs": [
    {
     "name": "stdout",
     "output_type": "stream",
     "text": [
      "['SOTF' 'Legacy']\n",
      "['M' 'L' 'H']\n",
      "(1406, 3)\n"
     ]
    },
    {
     "data": {
      "text/html": [
       "<div>\n",
       "<style scoped>\n",
       "    .dataframe tbody tr th:only-of-type {\n",
       "        vertical-align: middle;\n",
       "    }\n",
       "\n",
       "    .dataframe tbody tr th {\n",
       "        vertical-align: top;\n",
       "    }\n",
       "\n",
       "    .dataframe thead th {\n",
       "        text-align: right;\n",
       "    }\n",
       "</style>\n",
       "<table border=\"1\" class=\"dataframe\">\n",
       "  <thead>\n",
       "    <tr style=\"text-align: right;\">\n",
       "      <th></th>\n",
       "      <th>location_id</th>\n",
       "      <th>Store_Type</th>\n",
       "      <th>density</th>\n",
       "    </tr>\n",
       "  </thead>\n",
       "  <tbody>\n",
       "    <tr>\n",
       "      <th>0</th>\n",
       "      <td>1</td>\n",
       "      <td>SOTF</td>\n",
       "      <td>M</td>\n",
       "    </tr>\n",
       "    <tr>\n",
       "      <th>1</th>\n",
       "      <td>29</td>\n",
       "      <td>Legacy</td>\n",
       "      <td>M</td>\n",
       "    </tr>\n",
       "  </tbody>\n",
       "</table>\n",
       "</div>"
      ],
      "text/plain": [
       "  location_id Store_Type density\n",
       "0           1       SOTF       M\n",
       "1          29     Legacy       M"
      ]
     },
     "execution_count": 8,
     "metadata": {},
     "output_type": "execute_result"
    }
   ],
   "source": [
    "# Confirmed with BR through email RE: Big Lots Q1 Zip Code Lists, Wednesday, January 29, 2020 at 4:35 PM\n",
    "# Use Dom's SOTF and exclude the denstiy missing stores\n",
    "\n",
    "del store_list['SOTF_in_density_file']\n",
    "store_list=store_list[pd.notnull(store_list['density'])]\n",
    "print(store_list['Store_Type'].unique())\n",
    "print(store_list['density'].unique())\n",
    "print(store_list.shape)\n",
    "store_list.head(2)\n"
   ]
  },
  {
   "cell_type": "code",
   "execution_count": 10,
   "metadata": {},
   "outputs": [
    {
     "data": {
      "text/html": [
       "<div>\n",
       "<style scoped>\n",
       "    .dataframe tbody tr th:only-of-type {\n",
       "        vertical-align: middle;\n",
       "    }\n",
       "\n",
       "    .dataframe tbody tr th {\n",
       "        vertical-align: top;\n",
       "    }\n",
       "\n",
       "    .dataframe thead th {\n",
       "        text-align: right;\n",
       "    }\n",
       "</style>\n",
       "<table border=\"1\" class=\"dataframe\">\n",
       "  <thead>\n",
       "    <tr style=\"text-align: right;\">\n",
       "      <th></th>\n",
       "      <th>Store_Type</th>\n",
       "      <th>density</th>\n",
       "      <th>location_id</th>\n",
       "    </tr>\n",
       "  </thead>\n",
       "  <tbody>\n",
       "    <tr>\n",
       "      <th>0</th>\n",
       "      <td>Legacy</td>\n",
       "      <td>H</td>\n",
       "      <td>135</td>\n",
       "    </tr>\n",
       "    <tr>\n",
       "      <th>1</th>\n",
       "      <td>Legacy</td>\n",
       "      <td>L</td>\n",
       "      <td>9</td>\n",
       "    </tr>\n",
       "    <tr>\n",
       "      <th>2</th>\n",
       "      <td>Legacy</td>\n",
       "      <td>M</td>\n",
       "      <td>798</td>\n",
       "    </tr>\n",
       "    <tr>\n",
       "      <th>3</th>\n",
       "      <td>SOTF</td>\n",
       "      <td>H</td>\n",
       "      <td>6</td>\n",
       "    </tr>\n",
       "    <tr>\n",
       "      <th>4</th>\n",
       "      <td>SOTF</td>\n",
       "      <td>L</td>\n",
       "      <td>133</td>\n",
       "    </tr>\n",
       "    <tr>\n",
       "      <th>5</th>\n",
       "      <td>SOTF</td>\n",
       "      <td>M</td>\n",
       "      <td>325</td>\n",
       "    </tr>\n",
       "  </tbody>\n",
       "</table>\n",
       "</div>"
      ],
      "text/plain": [
       "  Store_Type density  location_id\n",
       "0     Legacy       H          135\n",
       "1     Legacy       L            9\n",
       "2     Legacy       M          798\n",
       "3       SOTF       H            6\n",
       "4       SOTF       L          133\n",
       "5       SOTF       M          325"
      ]
     },
     "execution_count": 10,
     "metadata": {},
     "output_type": "execute_result"
    }
   ],
   "source": [
    "store_list.groupby(['Store_Type','density'])['location_id'].nunique().to_frame().reset_index()"
   ]
  },
  {
   "cell_type": "code",
   "execution_count": 9,
   "metadata": {},
   "outputs": [
    {
     "name": "stdout",
     "output_type": "stream",
     "text": [
      "['unique_zips', 'view_by_TA', 'view_by_store', 'view_by_store_and_zip', 'store_list_full_202001']\n"
     ]
    }
   ],
   "source": [
    "TA_excel=pd.ExcelFile(\"/home/jian/Projects/Big_Lots/Analysis/2019_Q4/Planner_Request/Ramiro_TA_request_20200124/BL_zips_in_TA_2020_updated_30_new_stores_JL_2020-01-27.xlsx\")\n",
    "print(TA_excel.sheet_names)"
   ]
  },
  {
   "cell_type": "code",
   "execution_count": 10,
   "metadata": {},
   "outputs": [
    {
     "data": {
      "text/plain": [
       "(23383, 5)"
      ]
     },
     "execution_count": 10,
     "metadata": {},
     "output_type": "execute_result"
    }
   ],
   "source": [
    "df_zips_by_store=TA_excel.parse(\"view_by_store_and_zip\",dtype=str)\n",
    "df_zips_by_store=df_zips_by_store[['location_id','zip_cd','zip_type']]\n",
    "\n",
    "df_store_list_with_zip=pd.merge(store_list,df_zips_by_store,on=\"location_id\",how=\"left\")\n",
    "df_store_list_with_zip.shape"
   ]
  },
  {
   "cell_type": "code",
   "execution_count": 12,
   "metadata": {},
   "outputs": [
    {
     "data": {
      "text/html": [
       "<div>\n",
       "<style scoped>\n",
       "    .dataframe tbody tr th:only-of-type {\n",
       "        vertical-align: middle;\n",
       "    }\n",
       "\n",
       "    .dataframe tbody tr th {\n",
       "        vertical-align: top;\n",
       "    }\n",
       "\n",
       "    .dataframe thead th {\n",
       "        text-align: right;\n",
       "    }\n",
       "</style>\n",
       "<table border=\"1\" class=\"dataframe\">\n",
       "  <thead>\n",
       "    <tr style=\"text-align: right;\">\n",
       "      <th></th>\n",
       "      <th>location_id</th>\n",
       "      <th>Store_Type</th>\n",
       "      <th>density</th>\n",
       "      <th>zip_cd</th>\n",
       "      <th>zip_type</th>\n",
       "    </tr>\n",
       "  </thead>\n",
       "  <tbody>\n",
       "    <tr>\n",
       "      <th>0</th>\n",
       "      <td>1</td>\n",
       "      <td>SOTF</td>\n",
       "      <td>M</td>\n",
       "      <td>43227</td>\n",
       "      <td>trans_P</td>\n",
       "    </tr>\n",
       "    <tr>\n",
       "      <th>1</th>\n",
       "      <td>1</td>\n",
       "      <td>SOTF</td>\n",
       "      <td>M</td>\n",
       "      <td>43207</td>\n",
       "      <td>trans_P</td>\n",
       "    </tr>\n",
       "    <tr>\n",
       "      <th>2</th>\n",
       "      <td>1</td>\n",
       "      <td>SOTF</td>\n",
       "      <td>M</td>\n",
       "      <td>43209</td>\n",
       "      <td>trans_P</td>\n",
       "    </tr>\n",
       "    <tr>\n",
       "      <th>3</th>\n",
       "      <td>1</td>\n",
       "      <td>SOTF</td>\n",
       "      <td>M</td>\n",
       "      <td>43232</td>\n",
       "      <td>trans_P</td>\n",
       "    </tr>\n",
       "    <tr>\n",
       "      <th>4</th>\n",
       "      <td>1</td>\n",
       "      <td>SOTF</td>\n",
       "      <td>M</td>\n",
       "      <td>43125</td>\n",
       "      <td>trans_S</td>\n",
       "    </tr>\n",
       "    <tr>\n",
       "      <th>...</th>\n",
       "      <td>...</td>\n",
       "      <td>...</td>\n",
       "      <td>...</td>\n",
       "      <td>...</td>\n",
       "      <td>...</td>\n",
       "    </tr>\n",
       "    <tr>\n",
       "      <th>23378</th>\n",
       "      <td>5410</td>\n",
       "      <td>SOTF</td>\n",
       "      <td>L</td>\n",
       "      <td>45263</td>\n",
       "      <td>zips_10</td>\n",
       "    </tr>\n",
       "    <tr>\n",
       "      <th>23379</th>\n",
       "      <td>5410</td>\n",
       "      <td>SOTF</td>\n",
       "      <td>L</td>\n",
       "      <td>45264</td>\n",
       "      <td>zips_10</td>\n",
       "    </tr>\n",
       "    <tr>\n",
       "      <th>23380</th>\n",
       "      <td>5410</td>\n",
       "      <td>SOTF</td>\n",
       "      <td>L</td>\n",
       "      <td>45267</td>\n",
       "      <td>zips_10</td>\n",
       "    </tr>\n",
       "    <tr>\n",
       "      <th>23381</th>\n",
       "      <td>5410</td>\n",
       "      <td>SOTF</td>\n",
       "      <td>L</td>\n",
       "      <td>45268</td>\n",
       "      <td>zips_10</td>\n",
       "    </tr>\n",
       "    <tr>\n",
       "      <th>23382</th>\n",
       "      <td>5410</td>\n",
       "      <td>SOTF</td>\n",
       "      <td>L</td>\n",
       "      <td>45280</td>\n",
       "      <td>zips_10</td>\n",
       "    </tr>\n",
       "  </tbody>\n",
       "</table>\n",
       "<p>23383 rows × 5 columns</p>\n",
       "</div>"
      ],
      "text/plain": [
       "      location_id Store_Type density zip_cd zip_type\n",
       "0               1       SOTF       M  43227  trans_P\n",
       "1               1       SOTF       M  43207  trans_P\n",
       "2               1       SOTF       M  43209  trans_P\n",
       "3               1       SOTF       M  43232  trans_P\n",
       "4               1       SOTF       M  43125  trans_S\n",
       "...           ...        ...     ...    ...      ...\n",
       "23378        5410       SOTF       L  45263  zips_10\n",
       "23379        5410       SOTF       L  45264  zips_10\n",
       "23380        5410       SOTF       L  45267  zips_10\n",
       "23381        5410       SOTF       L  45268  zips_10\n",
       "23382        5410       SOTF       L  45280  zips_10\n",
       "\n",
       "[23383 rows x 5 columns]"
      ]
     },
     "execution_count": 12,
     "metadata": {},
     "output_type": "execute_result"
    }
   ],
   "source": [
    "df_store_list_with_zip"
   ]
  },
  {
   "cell_type": "code",
   "execution_count": 13,
   "metadata": {},
   "outputs": [
    {
     "data": {
      "text/plain": [
       "(39602, 2)"
      ]
     },
     "execution_count": 13,
     "metadata": {},
     "output_type": "execute_result"
    }
   ],
   "source": [
    "df_EASI_income=pd.read_csv(\"/home/jian/Docs/EASI/2018-07-19/ZIP4_18_DATA_A2_CSV/ZIP4_18_DATA_A2.CSV\",\n",
    "                           dtype=str,skiprows=1,usecols=['ZIP_CODE','ZIP4','HH18','AVGHHINC'])\n",
    "df_EASI_income['HH18']=df_EASI_income['HH18'].astype(float)\n",
    "df_EASI_income['AVGHHINC']=df_EASI_income['AVGHHINC'].astype(float)\n",
    "df_EASI_income['Total_Inc']=df_EASI_income['HH18']*df_EASI_income['AVGHHINC']\n",
    "df_EASI_income=df_EASI_income.groupby(\"ZIP_CODE\")['HH18','Total_Inc'].sum().reset_index()\n",
    "df_EASI_income['Avg_Inc_HH']=df_EASI_income['Total_Inc']/df_EASI_income['HH18']\n",
    "df_EASI_income=df_EASI_income.rename(columns={\"ZIP_CODE\":\"zip_cd\"})\n",
    "df_EASI_income=df_EASI_income[['zip_cd','Avg_Inc_HH']]\n",
    "\n",
    "df_EASI_income.shape"
   ]
  },
  {
   "cell_type": "code",
   "execution_count": 15,
   "metadata": {},
   "outputs": [
    {
     "data": {
      "text/html": [
       "<div>\n",
       "<style scoped>\n",
       "    .dataframe tbody tr th:only-of-type {\n",
       "        vertical-align: middle;\n",
       "    }\n",
       "\n",
       "    .dataframe tbody tr th {\n",
       "        vertical-align: top;\n",
       "    }\n",
       "\n",
       "    .dataframe thead th {\n",
       "        text-align: right;\n",
       "    }\n",
       "</style>\n",
       "<table border=\"1\" class=\"dataframe\">\n",
       "  <thead>\n",
       "    <tr style=\"text-align: right;\">\n",
       "      <th></th>\n",
       "      <th>location_id</th>\n",
       "      <th>Store_Type</th>\n",
       "      <th>density</th>\n",
       "      <th>zip_cd</th>\n",
       "      <th>zip_type</th>\n",
       "      <th>Avg_Inc_HH</th>\n",
       "    </tr>\n",
       "  </thead>\n",
       "  <tbody>\n",
       "    <tr>\n",
       "      <th>0</th>\n",
       "      <td>1</td>\n",
       "      <td>SOTF</td>\n",
       "      <td>M</td>\n",
       "      <td>43227</td>\n",
       "      <td>trans_P</td>\n",
       "      <td>59889.822133</td>\n",
       "    </tr>\n",
       "    <tr>\n",
       "      <th>1</th>\n",
       "      <td>1</td>\n",
       "      <td>SOTF</td>\n",
       "      <td>M</td>\n",
       "      <td>43207</td>\n",
       "      <td>trans_P</td>\n",
       "      <td>59020.889831</td>\n",
       "    </tr>\n",
       "  </tbody>\n",
       "</table>\n",
       "</div>"
      ],
      "text/plain": [
       "  location_id Store_Type density zip_cd zip_type    Avg_Inc_HH\n",
       "0           1       SOTF       M  43227  trans_P  59889.822133\n",
       "1           1       SOTF       M  43207  trans_P  59020.889831"
      ]
     },
     "execution_count": 15,
     "metadata": {},
     "output_type": "execute_result"
    }
   ],
   "source": [
    "df_store_list_with_zip=pd.merge(df_store_list_with_zip,df_EASI_income,on=\"zip_cd\",how=\"left\")\n",
    "df_store_list_with_zip.head(2)"
   ]
  },
  {
   "cell_type": "code",
   "execution_count": 16,
   "metadata": {},
   "outputs": [],
   "source": [
    "writer=pd.ExcelWriter(\"./BL_zips_all_stores_in_detail_and_Density_JL_\"+str(datetime.datetime.now().date())+\".xlsx\",engine=\"xlsxwriter\")\n",
    "df_store_list_with_zip.to_excel(writer,\"details_by_store\",index=False)\n",
    "writer.save()"
   ]
  },
  {
   "cell_type": "code",
   "execution_count": 38,
   "metadata": {},
   "outputs": [
    {
     "name": "stderr",
     "output_type": "stream",
     "text": [
      "/home/jian/.local/lib/python3.6/site-packages/ipykernel_launcher.py:9: SettingWithCopyWarning: \n",
      "A value is trying to be set on a copy of a slice from a DataFrame.\n",
      "Try using .loc[row_indexer,col_indexer] = value instead\n",
      "\n",
      "See the caveats in the documentation: http://pandas.pydata.org/pandas-docs/stable/user_guide/indexing.html#returning-a-view-versus-a-copy\n",
      "  if __name__ == '__main__':\n",
      "/home/jian/.local/lib/python3.6/site-packages/ipykernel_launcher.py:15: SettingWithCopyWarning: \n",
      "A value is trying to be set on a copy of a slice from a DataFrame.\n",
      "Try using .loc[row_indexer,col_indexer] = value instead\n",
      "\n",
      "See the caveats in the documentation: http://pandas.pydata.org/pandas-docs/stable/user_guide/indexing.html#returning-a-view-versus-a-copy\n",
      "  from ipykernel import kernelapp as app\n"
     ]
    }
   ],
   "source": [
    "writer=pd.ExcelWriter(\"./BL_zips_by_SOTF_Density_JL_\"+str(datetime.datetime.now().date())+\".xlsx\",engine=\"xlsxwriter\")\n",
    "dict_unique_zips={}\n",
    "max_len=0\n",
    "for seg,df_group in df_store_list_with_zip.groupby(['Store_Type','density']):\n",
    "\n",
    "    segment_name=\"_\".join(seg)\n",
    "    df_unique_zip_cd=df_group[['zip_type','zip_cd','Avg_Inc_HH']].drop_duplicates()\n",
    "    df_unique_zip_cd=df_unique_zip_cd.sort_values(['zip_type','zip_cd']).drop_duplicates(\"zip_cd\")\n",
    "    df_group['Store_Density_group']=segment_name\n",
    "    dict_unique_zips.update({segment_name:df_unique_zip_cd})\n",
    "    \n",
    "    df_group.to_excel(writer,\"by_store_\"+segment_name,index=False)\n",
    "    \n",
    "df_all_SOTF_zips_detail=df_store_list_with_zip[df_store_list_with_zip['Store_Type']==\"SOTF\"]\n",
    "df_all_SOTF_zips_detail['Store_Density_group']=\"SOTF_all\"\n",
    "df_all_SOTF_zips_detail.to_excel(writer,\"by_store_SOTF_all\",index=False)\n",
    "\n",
    "df_all_SOTF_zips_unique=df_all_SOTF_zips_detail[['zip_type','zip_cd','Avg_Inc_HH']].drop_duplicates()\n",
    "df_all_SOTF_zips_unique=df_all_SOTF_zips_unique.sort_values(['zip_type','zip_cd']).drop_duplicates(\"zip_cd\")\n",
    "dict_unique_zips.update({\"SOTF_all\":df_all_SOTF_zips_unique})\n",
    "\n",
    "if len(list_all_SOTF_zips_unique)>max_len:\n",
    "    max_len=len(list_all_SOTF_zips_unique)\n",
    "        "
   ]
  },
  {
   "cell_type": "code",
   "execution_count": 41,
   "metadata": {},
   "outputs": [],
   "source": [
    "for k,v in dict_unique_zips.items():\n",
    "    df_fill=pd.DataFrame({\"zip_type\":[np.nan]*(max_len-len(v)),\"zip_cd\":[np.nan]*(max_len-len(v)),\"Avg_Inc_HH\":[np.nan]*(max_len-len(v))})\n",
    "    new_v=v.append(df_fill)\n",
    "    new_v.to_excel(writer,\"unique_\"+k,index=False)\n",
    "\n",
    "\n",
    "writer.save()"
   ]
  },
  {
   "cell_type": "code",
   "execution_count": 42,
   "metadata": {},
   "outputs": [
    {
     "data": {
      "text/plain": [
       "'/home/jian/Projects/Big_Lots/Analysis/2019_Q4/Planner_Request/JT_zips_by_SOTF_Density_20200128'"
      ]
     },
     "execution_count": 42,
     "metadata": {},
     "output_type": "execute_result"
    }
   ],
   "source": [
    "os.getcwd()"
   ]
  },
  {
   "cell_type": "code",
   "execution_count": 43,
   "metadata": {},
   "outputs": [],
   "source": [
    "df=pd.read_table(\"/home/jian/BigLots/2020_by_weeks/MediaStorm_2020-01-18/MediaStormDailySales20200121-111749-649.txt\",\n",
    "                dtype=str,nrows=10,sep=\"|\")"
   ]
  },
  {
   "cell_type": "code",
   "execution_count": 44,
   "metadata": {},
   "outputs": [
    {
     "data": {
      "text/html": [
       "<div>\n",
       "<style scoped>\n",
       "    .dataframe tbody tr th:only-of-type {\n",
       "        vertical-align: middle;\n",
       "    }\n",
       "\n",
       "    .dataframe tbody tr th {\n",
       "        vertical-align: top;\n",
       "    }\n",
       "\n",
       "    .dataframe thead th {\n",
       "        text-align: right;\n",
       "    }\n",
       "</style>\n",
       "<table border=\"1\" class=\"dataframe\">\n",
       "  <thead>\n",
       "    <tr style=\"text-align: right;\">\n",
       "      <th></th>\n",
       "      <th>location_id</th>\n",
       "      <th>transaction_dt</th>\n",
       "      <th>transaction_id</th>\n",
       "      <th>customer_id_hashed</th>\n",
       "      <th>class_code_id</th>\n",
       "      <th>subclass_id</th>\n",
       "      <th>item_id</th>\n",
       "      <th>item_transaction_units</th>\n",
       "      <th>item_transaction_amt</th>\n",
       "    </tr>\n",
       "  </thead>\n",
       "  <tbody>\n",
       "    <tr>\n",
       "      <th>0</th>\n",
       "      <td>1027</td>\n",
       "      <td>2020-01-18</td>\n",
       "      <td>2108</td>\n",
       "      <td>51cc9db6c31bf222baea4e50b9a6b1be2c7c4ec833bcfe...</td>\n",
       "      <td>14001</td>\n",
       "      <td>1</td>\n",
       "      <td>140008972</td>\n",
       "      <td>1</td>\n",
       "      <td>00000000000001.6000</td>\n",
       "    </tr>\n",
       "    <tr>\n",
       "      <th>1</th>\n",
       "      <td>1960</td>\n",
       "      <td>2020-01-14</td>\n",
       "      <td>9803</td>\n",
       "      <td>NaN</td>\n",
       "      <td>55006</td>\n",
       "      <td>1</td>\n",
       "      <td>810330818</td>\n",
       "      <td>-1</td>\n",
       "      <td>-00000000000002.5000</td>\n",
       "    </tr>\n",
       "    <tr>\n",
       "      <th>2</th>\n",
       "      <td>5353</td>\n",
       "      <td>2020-01-15</td>\n",
       "      <td>9988</td>\n",
       "      <td>NaN</td>\n",
       "      <td>61501</td>\n",
       "      <td>3</td>\n",
       "      <td>810435268</td>\n",
       "      <td>1</td>\n",
       "      <td>00000000000299.9900</td>\n",
       "    </tr>\n",
       "    <tr>\n",
       "      <th>3</th>\n",
       "      <td>5269</td>\n",
       "      <td>2020-01-18</td>\n",
       "      <td>7147</td>\n",
       "      <td>3fb7f19d961a20055d0fb89d584bd36b35f26c56e29e32...</td>\n",
       "      <td>12007</td>\n",
       "      <td>4</td>\n",
       "      <td>810358789</td>\n",
       "      <td>1</td>\n",
       "      <td>00000000000002.8000</td>\n",
       "    </tr>\n",
       "    <tr>\n",
       "      <th>4</th>\n",
       "      <td>4516</td>\n",
       "      <td>2020-01-13</td>\n",
       "      <td>9006</td>\n",
       "      <td>4f819d6299f6b7c14fe1bafcba4edfebbb7db239e6b091...</td>\n",
       "      <td>35016</td>\n",
       "      <td>14</td>\n",
       "      <td>810373236</td>\n",
       "      <td>1</td>\n",
       "      <td>00000000000036.9900</td>\n",
       "    </tr>\n",
       "    <tr>\n",
       "      <th>5</th>\n",
       "      <td>5234</td>\n",
       "      <td>2020-01-15</td>\n",
       "      <td>4697</td>\n",
       "      <td>NaN</td>\n",
       "      <td>11404</td>\n",
       "      <td>4</td>\n",
       "      <td>810447658</td>\n",
       "      <td>1</td>\n",
       "      <td>00000000000001.5000</td>\n",
       "    </tr>\n",
       "    <tr>\n",
       "      <th>6</th>\n",
       "      <td>4081</td>\n",
       "      <td>2020-01-13</td>\n",
       "      <td>8480</td>\n",
       "      <td>0e4a8229e683bd22cf40d646f4164e848355b9579b2968...</td>\n",
       "      <td>12002</td>\n",
       "      <td>2</td>\n",
       "      <td>810360230</td>\n",
       "      <td>1</td>\n",
       "      <td>00000000000001.0000</td>\n",
       "    </tr>\n",
       "    <tr>\n",
       "      <th>7</th>\n",
       "      <td>5331</td>\n",
       "      <td>2020-01-18</td>\n",
       "      <td>2651</td>\n",
       "      <td>NaN</td>\n",
       "      <td>13003</td>\n",
       "      <td>3</td>\n",
       "      <td>810333801</td>\n",
       "      <td>1</td>\n",
       "      <td>00000000000003.2000</td>\n",
       "    </tr>\n",
       "    <tr>\n",
       "      <th>8</th>\n",
       "      <td>509</td>\n",
       "      <td>2020-01-12</td>\n",
       "      <td>7774</td>\n",
       "      <td>NaN</td>\n",
       "      <td>21013</td>\n",
       "      <td>2</td>\n",
       "      <td>810412855</td>\n",
       "      <td>3</td>\n",
       "      <td>00000000000104.3100</td>\n",
       "    </tr>\n",
       "    <tr>\n",
       "      <th>9</th>\n",
       "      <td>4002</td>\n",
       "      <td>2020-01-16</td>\n",
       "      <td>9005</td>\n",
       "      <td>7e3b4038eb960c824005600f57cff9b9afe68deba1bb19...</td>\n",
       "      <td>61501</td>\n",
       "      <td>3</td>\n",
       "      <td>810435268</td>\n",
       "      <td>1</td>\n",
       "      <td>00000000000299.9900</td>\n",
       "    </tr>\n",
       "  </tbody>\n",
       "</table>\n",
       "</div>"
      ],
      "text/plain": [
       "  location_id transaction_dt transaction_id  \\\n",
       "0        1027     2020-01-18           2108   \n",
       "1        1960     2020-01-14           9803   \n",
       "2        5353     2020-01-15           9988   \n",
       "3        5269     2020-01-18           7147   \n",
       "4        4516     2020-01-13           9006   \n",
       "5        5234     2020-01-15           4697   \n",
       "6        4081     2020-01-13           8480   \n",
       "7        5331     2020-01-18           2651   \n",
       "8         509     2020-01-12           7774   \n",
       "9        4002     2020-01-16           9005   \n",
       "\n",
       "                                  customer_id_hashed class_code_id  \\\n",
       "0  51cc9db6c31bf222baea4e50b9a6b1be2c7c4ec833bcfe...         14001   \n",
       "1                                                NaN         55006   \n",
       "2                                                NaN         61501   \n",
       "3  3fb7f19d961a20055d0fb89d584bd36b35f26c56e29e32...         12007   \n",
       "4  4f819d6299f6b7c14fe1bafcba4edfebbb7db239e6b091...         35016   \n",
       "5                                                NaN         11404   \n",
       "6  0e4a8229e683bd22cf40d646f4164e848355b9579b2968...         12002   \n",
       "7                                                NaN         13003   \n",
       "8                                                NaN         21013   \n",
       "9  7e3b4038eb960c824005600f57cff9b9afe68deba1bb19...         61501   \n",
       "\n",
       "  subclass_id    item_id item_transaction_units  item_transaction_amt  \n",
       "0           1  140008972                      1   00000000000001.6000  \n",
       "1           1  810330818                     -1  -00000000000002.5000  \n",
       "2           3  810435268                      1   00000000000299.9900  \n",
       "3           4  810358789                      1   00000000000002.8000  \n",
       "4          14  810373236                      1   00000000000036.9900  \n",
       "5           4  810447658                      1   00000000000001.5000  \n",
       "6           2  810360230                      1   00000000000001.0000  \n",
       "7           3  810333801                      1   00000000000003.2000  \n",
       "8           2  810412855                      3   00000000000104.3100  \n",
       "9           3  810435268                      1   00000000000299.9900  "
      ]
     },
     "execution_count": 44,
     "metadata": {},
     "output_type": "execute_result"
    }
   ],
   "source": [
    "df"
   ]
  },
  {
   "cell_type": "code",
   "execution_count": 45,
   "metadata": {},
   "outputs": [],
   "source": [
    "df_prod_taxo=pd.read_table(\"/home/jian/BigLots/static_files/ProductTaxonomy/MediaStormProductTaxonomy20200101-135600-916.txt\",\n",
    "                          dtype=str,nrows=10,sep=\"|\")"
   ]
  },
  {
   "cell_type": "code",
   "execution_count": 46,
   "metadata": {},
   "outputs": [
    {
     "data": {
      "text/html": [
       "<div>\n",
       "<style scoped>\n",
       "    .dataframe tbody tr th:only-of-type {\n",
       "        vertical-align: middle;\n",
       "    }\n",
       "\n",
       "    .dataframe tbody tr th {\n",
       "        vertical-align: top;\n",
       "    }\n",
       "\n",
       "    .dataframe thead th {\n",
       "        text-align: right;\n",
       "    }\n",
       "</style>\n",
       "<table border=\"1\" class=\"dataframe\">\n",
       "  <thead>\n",
       "    <tr style=\"text-align: right;\">\n",
       "      <th></th>\n",
       "      <th>division_id</th>\n",
       "      <th>department_id</th>\n",
       "      <th>class_code_id</th>\n",
       "      <th>subclass_id</th>\n",
       "      <th>subclass_desc</th>\n",
       "    </tr>\n",
       "  </thead>\n",
       "  <tbody>\n",
       "    <tr>\n",
       "      <th>0</th>\n",
       "      <td>1</td>\n",
       "      <td>108</td>\n",
       "      <td>11001</td>\n",
       "      <td>2</td>\n",
       "      <td>Non-Chocolate Bagged</td>\n",
       "    </tr>\n",
       "    <tr>\n",
       "      <th>1</th>\n",
       "      <td>1</td>\n",
       "      <td>108</td>\n",
       "      <td>11001</td>\n",
       "      <td>4</td>\n",
       "      <td>Single Non-Chocolate</td>\n",
       "    </tr>\n",
       "    <tr>\n",
       "      <th>2</th>\n",
       "      <td>1</td>\n",
       "      <td>108</td>\n",
       "      <td>11001</td>\n",
       "      <td>6</td>\n",
       "      <td>King Size Non-Chocolate</td>\n",
       "    </tr>\n",
       "    <tr>\n",
       "      <th>3</th>\n",
       "      <td>1</td>\n",
       "      <td>108</td>\n",
       "      <td>11001</td>\n",
       "      <td>8</td>\n",
       "      <td>Count Goods Non-Chocolate</td>\n",
       "    </tr>\n",
       "    <tr>\n",
       "      <th>4</th>\n",
       "      <td>1</td>\n",
       "      <td>108</td>\n",
       "      <td>11001</td>\n",
       "      <td>10</td>\n",
       "      <td>Gum And Mints</td>\n",
       "    </tr>\n",
       "    <tr>\n",
       "      <th>5</th>\n",
       "      <td>1</td>\n",
       "      <td>108</td>\n",
       "      <td>11001</td>\n",
       "      <td>12</td>\n",
       "      <td>Big Top Checkstand</td>\n",
       "    </tr>\n",
       "    <tr>\n",
       "      <th>6</th>\n",
       "      <td>1</td>\n",
       "      <td>108</td>\n",
       "      <td>11001</td>\n",
       "      <td>14</td>\n",
       "      <td>Mint &amp; Breath Checkstand</td>\n",
       "    </tr>\n",
       "    <tr>\n",
       "      <th>7</th>\n",
       "      <td>1</td>\n",
       "      <td>108</td>\n",
       "      <td>11002</td>\n",
       "      <td>1</td>\n",
       "      <td>Valentine</td>\n",
       "    </tr>\n",
       "    <tr>\n",
       "      <th>8</th>\n",
       "      <td>1</td>\n",
       "      <td>108</td>\n",
       "      <td>11002</td>\n",
       "      <td>3</td>\n",
       "      <td>Halloween</td>\n",
       "    </tr>\n",
       "    <tr>\n",
       "      <th>9</th>\n",
       "      <td>1</td>\n",
       "      <td>108</td>\n",
       "      <td>11002</td>\n",
       "      <td>999</td>\n",
       "      <td>Finance Use Only</td>\n",
       "    </tr>\n",
       "  </tbody>\n",
       "</table>\n",
       "</div>"
      ],
      "text/plain": [
       "  division_id department_id class_code_id subclass_id  \\\n",
       "0           1           108         11001           2   \n",
       "1           1           108         11001           4   \n",
       "2           1           108         11001           6   \n",
       "3           1           108         11001           8   \n",
       "4           1           108         11001          10   \n",
       "5           1           108         11001          12   \n",
       "6           1           108         11001          14   \n",
       "7           1           108         11002           1   \n",
       "8           1           108         11002           3   \n",
       "9           1           108         11002         999   \n",
       "\n",
       "               subclass_desc  \n",
       "0       Non-Chocolate Bagged  \n",
       "1       Single Non-Chocolate  \n",
       "2    King Size Non-Chocolate  \n",
       "3  Count Goods Non-Chocolate  \n",
       "4              Gum And Mints  \n",
       "5         Big Top Checkstand  \n",
       "6   Mint & Breath Checkstand  \n",
       "7                  Valentine  \n",
       "8                  Halloween  \n",
       "9           Finance Use Only  "
      ]
     },
     "execution_count": 46,
     "metadata": {},
     "output_type": "execute_result"
    }
   ],
   "source": [
    "df_prod_taxo"
   ]
  },
  {
   "cell_type": "code",
   "execution_count": null,
   "metadata": {},
   "outputs": [],
   "source": []
  }
 ],
 "metadata": {
  "kernelspec": {
   "display_name": "Python 3",
   "language": "python",
   "name": "python3"
  },
  "language_info": {
   "codemirror_mode": {
    "name": "ipython",
    "version": 3
   },
   "file_extension": ".py",
   "mimetype": "text/x-python",
   "name": "python",
   "nbconvert_exporter": "python",
   "pygments_lexer": "ipython3",
   "version": "3.6.1"
  }
 },
 "nbformat": 4,
 "nbformat_minor": 2
}
