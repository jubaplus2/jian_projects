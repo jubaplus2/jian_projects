{
 "cells": [
  {
   "cell_type": "code",
   "execution_count": 22,
   "metadata": {
    "collapsed": true
   },
   "outputs": [],
   "source": [
    "import pandas as pd\n",
    "import numpy as ny"
   ]
  },
  {
   "cell_type": "code",
   "execution_count": 23,
   "metadata": {
    "collapsed": true
   },
   "outputs": [],
   "source": [
    "county_name_match=pd.read_excel(\"/home/jian/SunnyD/Otherinput/CountyMatch.xlsx\",sheetname=\"Matching County\")\n",
    "del county_name_match['x']\n",
    "county_name_match.columns=['County_St_IRI','County_St_Nielsen']"
   ]
  },
  {
   "cell_type": "code",
   "execution_count": 24,
   "metadata": {
    "collapsed": true
   },
   "outputs": [],
   "source": [
    "nielsen_dma=pd.read_excel(\"/home/jian/SunnyD/Otherinput/Zips by DMA 16-17.xlsx\",skiprows=1)\n",
    "nielsen_dma=nielsen_dma.iloc[:,[2,6,7,0]]\n",
    "nielsen_dma.columns=['DMA','ST','County','zip_cd']\n",
    "nielsen_dma['County_St_Nielsen']=nielsen_dma['County'].apply(lambda x: x.replace(\" \", \"\"))\n",
    "nielsen_dma['County_St_Nielsen']=nielsen_dma['County_St_Nielsen']+\", \"+nielsen_dma['ST']"
   ]
  },
  {
   "cell_type": "code",
   "execution_count": 25,
   "metadata": {
    "collapsed": true
   },
   "outputs": [],
   "source": [
    "IRI_dma=pd.read_excel(\"/home/jian/SunnyD/Otherinput/Total_US_counties_IRI_markets_and_regions_cr_12272016.xlsx\",skiprows=1,sheetname=\"U.S. Counties\")\n",
    "IRI_dma=IRI_dma.iloc[:,[1,2,3]]\n",
    "IRI_dma.columns=['County','ST','IRI_Market']\n",
    "IRI_dma=IRI_dma[IRI_dma['IRI_Market']!=\"NO MARKET\"]\n",
    "IRI_dma['County_St_IRI']=IRI_dma['County'].apply(lambda x: x.replace(\" \", \"\"))\n",
    "IRI_dma['County_St_IRI']=IRI_dma['County_St_IRI']+\", \"+IRI_dma['ST']\n",
    "IRIMKT_NielsenCounty=pd.merge(county_name_match,IRI_dma,on=\"County_St_IRI\",how=\"left\")\n",
    "IRIMKT_NielsenCounty=IRIMKT_NielsenCounty[['IRI_Market','County_St_Nielsen']].drop_duplicates()"
   ]
  },
  {
   "cell_type": "code",
   "execution_count": 26,
   "metadata": {},
   "outputs": [
    {
     "data": {
      "text/plain": [
       "(946, 2)"
      ]
     },
     "execution_count": 26,
     "metadata": {},
     "output_type": "execute_result"
    }
   ],
   "source": [
    "# Test result = No duplicate in the IRI markets\n",
    "'''\n",
    "All_Overlap=pd.DataFrame(columns=['County_St_Nielsen','DMA','Common_Zips','Zip_Count_In_DMA'])\n",
    "County_DMA=pd.DataFrame(columns=['County_St_Nielsen','DMA'])\n",
    "\n",
    "for county in IRIMKT_NielsenCounty['County_St_Nielsen'].unique():\n",
    "    df=nielsen_dma[nielsen_dma['County_St_Nielsen']==county]\n",
    "\n",
    "    if len(df['DMA'].unique())==0:\n",
    "        error=[{'County_St_Nielsen' : county, 'DMA': 'Error'},]\n",
    "        df_app=pd.DataFrame(error)\n",
    "        \n",
    "    elif len(df['DMA'].unique())==1:\n",
    "        df_app=df[['County_St_Nielsen','DMA']].drop_duplicates()\n",
    "        \n",
    "    elif len(df['DMA'].unique())>1:\n",
    "        zip_county=df['zip_cd'].unique()\n",
    "        Zip_Overlap=pd.DataFrame(columns=['County_St_Nielsen','DMA','Common_Zips','Zip_Count_In_DMA'])\n",
    "        \n",
    "        for i in range(len(df['DMA'].unique())):\n",
    "            zip_DMA=nielsen_dma[nielsen_dma['DMA']==df['DMA'].unique()[i]]['zip_cd'].unique()\n",
    "            common_zips=pd.Series(list(set(zip_county).intersection(set(zip_DMA))))\n",
    "            Zip_Count_In_DMA=len(common_zips)\n",
    "            DMA_ZIP_OVERLAP=pd.DataFrame[{'County_St_Nielsen':county,'DMA':df['DMA'].unique()[i],'Common_Zips':common_zips,'Zip_Count_In_DMA':Zip_Count_In_DMA}]\n",
    "            Zip_Overlap=Zip_Overlap.append(DMA_ZIP_OVERLAP)\n",
    "            \n",
    "        df_app=Zip_Overlap[Zip_Overlap['Zip_Count_In_DMA']==max(Zip_Overlap['Zip_Count_In_DMA'])]\n",
    "        df_app=df[['County_St_Nielsen','DMA']]\n",
    "        \n",
    "        All_Overlap=All_Overlap.append(Zip_Overlap)\n",
    "        \n",
    "    County_DMA=County_DMA.append(df_app)\n",
    "# No County in more than one DMA\n",
    "'''        \n",
    "County_DMA=nielsen_dma[nielsen_dma['County_St_Nielsen'].isin(IRIMKT_NielsenCounty['County_St_Nielsen'])]\n",
    "County_DMA=County_DMA[['DMA','County_St_Nielsen']].drop_duplicates()\n",
    "County_DMA.shape            \n"
   ]
  },
  {
   "cell_type": "code",
   "execution_count": 27,
   "metadata": {
    "collapsed": true
   },
   "outputs": [],
   "source": [
    "IRI_to_dma=pd.merge(IRIMKT_NielsenCounty,County_DMA,on=\"County_St_Nielsen\",how=\"left\")\n",
    "IRI_with_DMA=IRI_to_dma.groupby(['IRI_Market'])['DMA'].apply(set).to_frame()\n",
    "IRI_with_DMA['DMA']=IRI_with_DMA['DMA'].apply(list)\n",
    "IRI_with_DMA.reset_index(inplace=True)\n",
    "IRI_with_DMA['DMA_count']=IRI_with_DMA['DMA'].apply(lambda x: len(x))"
   ]
  },
  {
   "cell_type": "code",
   "execution_count": 28,
   "metadata": {
    "collapsed": true
   },
   "outputs": [],
   "source": [
    "IRI_with_DMA.to_excel(\"/home/jian/SunnyD/Otherinput/IRI_DMA.xlsx\",index=False)"
   ]
  },
  {
   "cell_type": "markdown",
   "metadata": {},
   "source": [
    "# Add Percentage of zips for each DMA associated with an IRI Market"
   ]
  },
  {
   "cell_type": "code",
   "execution_count": 29,
   "metadata": {
    "collapsed": true
   },
   "outputs": [],
   "source": [
    "nielsen_county_zip=nielsen_dma[['County_St_Nielsen','zip_cd']]\n",
    "nielsen_county_zip=nielsen_county_zip.groupby(['County_St_Nielsen'])['zip_cd'].apply(set).to_frame()\n",
    "nielsen_county_zip.reset_index(inplace=True)\n",
    "nielsen_county_zip['zip_cd']=nielsen_county_zip['zip_cd'].apply(list)\n",
    "IRIMKT_Zip=pd.merge(IRIMKT_NielsenCounty,nielsen_county_zip,on='County_St_Nielsen',how='left')\n",
    "IRIMKT_Zip_Agg=IRIMKT_Zip.groupby(['IRI_Market'])['zip_cd'].apply(sum).to_frame()\n",
    "IRIMKT_Zip_Agg.reset_index(inplace=True)\n",
    "IRIMKT_Zip_Agg['zip_cd']=IRIMKT_Zip_Agg['zip_cd'].apply(set)"
   ]
  },
  {
   "cell_type": "code",
   "execution_count": 30,
   "metadata": {
    "collapsed": true
   },
   "outputs": [],
   "source": [
    "DMA_Zip_Agg=nielsen_dma.groupby(['DMA'])['zip_cd'].apply(set).to_frame()\n",
    "DMA_Zip_Agg.reset_index(inplace=True)"
   ]
  },
  {
   "cell_type": "code",
   "execution_count": 31,
   "metadata": {},
   "outputs": [
    {
     "name": "stderr",
     "output_type": "stream",
     "text": [
      "/usr/local/lib/python3.6/site-packages/ipykernel_launcher.py:22: SettingWithCopyWarning: \n",
      "A value is trying to be set on a copy of a slice from a DataFrame.\n",
      "Try using .loc[row_indexer,col_indexer] = value instead\n",
      "\n",
      "See the caveats in the documentation: http://pandas.pydata.org/pandas-docs/stable/indexing.html#indexing-view-versus-copy\n"
     ]
    }
   ],
   "source": [
    "df_app=pd.DataFrame(columns=['IRI_Market','DMA'])\n",
    "for i in range(len(IRI_with_DMA)):\n",
    "    IRI_Market=IRI_with_DMA['IRI_Market'][i]\n",
    "    zips_of_IRI=IRIMKT_Zip_Agg[IRIMKT_Zip_Agg['IRI_Market']==IRI_Market]\n",
    "    zips_of_IRI.reset_index(inplace=True)\n",
    "    zips_of_IRI=zips_of_IRI['zip_cd'][0]\n",
    "\n",
    "\n",
    "    list_dma_int=[]\n",
    "    for j in range(len(IRI_with_DMA['DMA'][i])):\n",
    "        DMA=IRI_with_DMA['DMA'][i][j]\n",
    "        zips_of_DMA=DMA_Zip_Agg[DMA_Zip_Agg['DMA']==DMA]\n",
    "        zips_of_DMA.reset_index(inplace=True)\n",
    "        zips_of_DMA=zips_of_DMA['zip_cd'][0]\n",
    "\n",
    "        overlap_of_zips=pd.Series(list(zips_of_DMA.intersection(zips_of_IRI)))\n",
    "        pctg_overlap=round(len(overlap_of_zips)/len(zips_of_DMA),4)\n",
    "        list_intersec=[{DMA:pctg_overlap}]\n",
    "        list_dma_int=list_dma_int+list_intersec\n",
    "    df_app=df_app.append(pd.DataFrame([{'IRI_Market':IRI_Market,'DMA':list_dma_int}]))\n",
    "IRI_Market_DMA=df_app[['IRI_Market','DMA']]\n",
    "IRI_Market_DMA['DMA_Count']=IRI_Market_DMA['DMA'].apply(len)\n",
    "IRI_Market_DMA.to_excel(\"/home/jian/SunnyD/Otherinput/IRI_DMA_Pctg.xlsx\",index=False)\n",
    "\n",
    "\n",
    "        \n",
    "        "
   ]
  },
  {
   "cell_type": "markdown",
   "metadata": {},
   "source": [
    "# All IRI Market with Zips"
   ]
  },
  {
   "cell_type": "code",
   "execution_count": 32,
   "metadata": {
    "collapsed": true
   },
   "outputs": [],
   "source": [
    "zip_all_in_IRIMKT=nielsen_dma[nielsen_dma['County_St_Nielsen'].isin(IRIMKT_NielsenCounty['County_St_Nielsen'])]\n",
    "zip_all_in_IRIMKT=pd.merge(zip_all_in_IRIMKT,IRIMKT_NielsenCounty,on='County_St_Nielsen',how='left')\n",
    "zip_all_in_IRIMKT.to_excel(\"/home/jian/SunnyD/Otherinput/All_IRI_Mkt_with_Zips.xlsx\",index=False)\n"
   ]
  },
  {
   "cell_type": "code",
   "execution_count": null,
   "metadata": {
    "collapsed": true
   },
   "outputs": [],
   "source": []
  }
 ],
 "metadata": {
  "kernelspec": {
   "display_name": "Python 3",
   "language": "python",
   "name": "python3"
  },
  "language_info": {
   "codemirror_mode": {
    "name": "ipython",
    "version": 3
   },
   "file_extension": ".py",
   "mimetype": "text/x-python",
   "name": "python",
   "nbconvert_exporter": "python",
   "pygments_lexer": "ipython3",
   "version": "3.6.1"
  }
 },
 "nbformat": 4,
 "nbformat_minor": 2
}
