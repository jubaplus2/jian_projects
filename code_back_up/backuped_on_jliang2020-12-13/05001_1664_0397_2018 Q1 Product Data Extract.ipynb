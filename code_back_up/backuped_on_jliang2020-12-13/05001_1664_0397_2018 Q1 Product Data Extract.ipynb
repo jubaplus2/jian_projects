{
 "cells": [
  {
   "cell_type": "code",
   "execution_count": 1,
   "metadata": {
    "collapsed": true
   },
   "outputs": [],
   "source": [
    "import pandas as pd\n",
    "import glob\n",
    "import datetime\n",
    "import numpy as np\n",
    "today_str=str(datetime.datetime.now().date())"
   ]
  },
  {
   "cell_type": "code",
   "execution_count": 2,
   "metadata": {
    "collapsed": true
   },
   "outputs": [],
   "source": [
    "folder_file_pattern=glob.glob(\"/home/jian/Projects/Big_Lots/Sales_All/Sales_Data/*.txt\")"
   ]
  },
  {
   "cell_type": "code",
   "execution_count": 3,
   "metadata": {
    "collapsed": true
   },
   "outputs": [],
   "source": [
    "taxonomy=pd.read_csv(\"/home/jian/BigLots/static_files/MediaStorm Data Extract - Product Taxonomy.txt\",sep=\"|\",dtype=str)\n",
    "depart_name=pd.read_csv(\"/home/jian/BigLots/static_files/MediaStorm Data Extract - Department Names.txt\",sep=\"|\",dtype=str)\n",
    "class_name=pd.read_csv(\"/home/jian/BigLots/static_files/MediaStorm Data Extract - Class Names.txt\",sep=\"|\",dtype=str,encoding = \"ISO-8859-1\")"
   ]
  },
  {
   "cell_type": "code",
   "execution_count": 4,
   "metadata": {
    "collapsed": true
   },
   "outputs": [],
   "source": [
    "depart_class=taxonomy[['department_id','class_code_id']].drop_duplicates()\n",
    "depart_class=pd.merge(depart_class,depart_name,on='department_id',how=\"left\")\n",
    "depart_class=pd.merge(depart_class,class_name,on='class_code_id',how=\"left\")"
   ]
  },
  {
   "cell_type": "code",
   "execution_count": 5,
   "metadata": {},
   "outputs": [
    {
     "data": {
      "text/html": [
       "<div>\n",
       "<style>\n",
       "    .dataframe thead tr:only-child th {\n",
       "        text-align: right;\n",
       "    }\n",
       "\n",
       "    .dataframe thead th {\n",
       "        text-align: left;\n",
       "    }\n",
       "\n",
       "    .dataframe tbody tr th {\n",
       "        vertical-align: top;\n",
       "    }\n",
       "</style>\n",
       "<table border=\"1\" class=\"dataframe\">\n",
       "  <thead>\n",
       "    <tr style=\"text-align: right;\">\n",
       "      <th></th>\n",
       "      <th>department_id</th>\n",
       "      <th>class_code_id</th>\n",
       "      <th>department_desc</th>\n",
       "      <th>class_code_desc</th>\n",
       "    </tr>\n",
       "  </thead>\n",
       "  <tbody>\n",
       "    <tr>\n",
       "      <th>0</th>\n",
       "      <td>108</td>\n",
       "      <td>11099</td>\n",
       "      <td>CANDYSNACK</td>\n",
       "      <td>FINANCE USE ONLY</td>\n",
       "    </tr>\n",
       "    <tr>\n",
       "      <th>1</th>\n",
       "      <td>111</td>\n",
       "      <td>11199</td>\n",
       "      <td>DIRECT STORE DELIVERIES</td>\n",
       "      <td>FINANCE USE ONLY</td>\n",
       "    </tr>\n",
       "  </tbody>\n",
       "</table>\n",
       "</div>"
      ],
      "text/plain": [
       "  department_id class_code_id          department_desc   class_code_desc\n",
       "0           108         11099               CANDYSNACK  FINANCE USE ONLY\n",
       "1           111         11199  DIRECT STORE DELIVERIES  FINANCE USE ONLY"
      ]
     },
     "execution_count": 5,
     "metadata": {},
     "output_type": "execute_result"
    }
   ],
   "source": [
    "depart_class.head(2)"
   ]
  },
  {
   "cell_type": "code",
   "execution_count": 6,
   "metadata": {
    "collapsed": true
   },
   "outputs": [],
   "source": [
    "sales_all=pd.DataFrame()\n",
    "for file in folder_file_pattern:\n",
    "    df=pd.read_csv(file,sep=\"|\",dtype=str,na_values=\"?\")\n",
    "    if \"class_code_id\" in df.columns:\n",
    "\n",
    "\n",
    "        df['class_gross_sales_amt']=df['class_gross_sales_amt'].astype(float)\n",
    "        df['class_gross_sales_amt']=df['class_gross_sales_amt'].fillna(0.0)\n",
    "        df=df[['location_id','week_end_dt','class_code_id','class_gross_sales_amt']].drop_duplicates()\n",
    "        df.reset_index(inplace=True)\n",
    "        try:\n",
    "            df['week_end_dt']=df['week_end_dt'].apply(lambda x: datetime.datetime.strptime(x,\"%Y-%m-%d\").date())\n",
    "            \n",
    "        except:\n",
    "            print(file,\"Date Error\")\n",
    "            \n",
    "            \n",
    "    else:\n",
    "        print (file,\"Error: class_code_id not in columns\")\n",
    "        \n",
    "    sales_all=sales_all.append(df)"
   ]
  },
  {
   "cell_type": "code",
   "execution_count": 7,
   "metadata": {
    "collapsed": true
   },
   "outputs": [],
   "source": [
    "Q1_sale_2017=sales_all[(sales_all['week_end_dt']>=datetime.datetime(2017,2,11).date()) & (sales_all['week_end_dt']<=datetime.datetime(2017,5,6).date())]\n",
    "Q1_sale_2018=sales_all[(sales_all['week_end_dt']>=datetime.datetime(2018,2,10).date()) & (sales_all['week_end_dt']<=datetime.datetime(2018,5,5).date())]"
   ]
  },
  {
   "cell_type": "code",
   "execution_count": 8,
   "metadata": {
    "collapsed": true
   },
   "outputs": [],
   "source": [
    "Q1_sales_all=Q1_sale_2017.append(Q1_sale_2018)\n",
    "Q1_sales_all=Q1_sales_all.drop_duplicates()\n",
    "Q1_sales_all=pd.merge(Q1_sales_all,depart_class,on=\"class_code_id\",how=\"left\")\n",
    "del Q1_sales_all['index']"
   ]
  },
  {
   "cell_type": "code",
   "execution_count": 12,
   "metadata": {},
   "outputs": [
    {
     "data": {
      "text/html": [
       "<div>\n",
       "<style>\n",
       "    .dataframe thead tr:only-child th {\n",
       "        text-align: right;\n",
       "    }\n",
       "\n",
       "    .dataframe thead th {\n",
       "        text-align: left;\n",
       "    }\n",
       "\n",
       "    .dataframe tbody tr th {\n",
       "        vertical-align: top;\n",
       "    }\n",
       "</style>\n",
       "<table border=\"1\" class=\"dataframe\">\n",
       "  <thead>\n",
       "    <tr style=\"text-align: right;\">\n",
       "      <th></th>\n",
       "      <th>location_id</th>\n",
       "      <th>DMA</th>\n",
       "      <th>Q1 Campaign Type</th>\n",
       "      <th>2017-02-11</th>\n",
       "      <th>2017-02-18</th>\n",
       "      <th>2017-02-25</th>\n",
       "      <th>2017-03-04</th>\n",
       "      <th>2017-03-11</th>\n",
       "      <th>2017-03-18</th>\n",
       "      <th>2017-03-25</th>\n",
       "      <th>...</th>\n",
       "      <th>2018-03-03.1</th>\n",
       "      <th>2018-03-10.1</th>\n",
       "      <th>2018-03-17.1</th>\n",
       "      <th>2018-03-24.1</th>\n",
       "      <th>2018-03-31.1</th>\n",
       "      <th>2018-04-07.1</th>\n",
       "      <th>2018-04-14.1</th>\n",
       "      <th>2018-04-21.1</th>\n",
       "      <th>2018-04-28.1</th>\n",
       "      <th>2018-05-05.1</th>\n",
       "    </tr>\n",
       "  </thead>\n",
       "  <tbody>\n",
       "    <tr>\n",
       "      <th>0</th>\n",
       "      <td>1</td>\n",
       "      <td>COLUMBUS, OH</td>\n",
       "      <td>TV+Digital</td>\n",
       "      <td>65529.31</td>\n",
       "      <td>72052.29</td>\n",
       "      <td>144591.9</td>\n",
       "      <td>111094.38</td>\n",
       "      <td>91900.32</td>\n",
       "      <td>92978.17</td>\n",
       "      <td>88751.56</td>\n",
       "      <td>...</td>\n",
       "      <td>2566</td>\n",
       "      <td>2453</td>\n",
       "      <td>2369</td>\n",
       "      <td>2393</td>\n",
       "      <td>2295</td>\n",
       "      <td>2377</td>\n",
       "      <td>2712</td>\n",
       "      <td>2097</td>\n",
       "      <td>2160</td>\n",
       "      <td>2352</td>\n",
       "    </tr>\n",
       "    <tr>\n",
       "      <th>1</th>\n",
       "      <td>3</td>\n",
       "      <td>AUGUSTA-AIKEN</td>\n",
       "      <td>Balance</td>\n",
       "      <td>59518.92</td>\n",
       "      <td>67264.36</td>\n",
       "      <td>124226.79</td>\n",
       "      <td>105042.77</td>\n",
       "      <td>85331.1</td>\n",
       "      <td>78149.36</td>\n",
       "      <td>80778.23</td>\n",
       "      <td>...</td>\n",
       "      <td>2480</td>\n",
       "      <td>2194</td>\n",
       "      <td>2070</td>\n",
       "      <td>2093</td>\n",
       "      <td>2186</td>\n",
       "      <td>2320</td>\n",
       "      <td>2180</td>\n",
       "      <td>1935</td>\n",
       "      <td>1934</td>\n",
       "      <td>2139</td>\n",
       "    </tr>\n",
       "  </tbody>\n",
       "</table>\n",
       "<p>2 rows × 55 columns</p>\n",
       "</div>"
      ],
      "text/plain": [
       "  location_id            DMA Q1 Campaign Type 2017-02-11 2017-02-18  \\\n",
       "0           1   COLUMBUS, OH       TV+Digital   65529.31   72052.29   \n",
       "1           3  AUGUSTA-AIKEN          Balance   59518.92   67264.36   \n",
       "\n",
       "  2017-02-25 2017-03-04 2017-03-11 2017-03-18 2017-03-25     ...       \\\n",
       "0   144591.9  111094.38   91900.32   92978.17   88751.56     ...        \n",
       "1  124226.79  105042.77    85331.1   78149.36   80778.23     ...        \n",
       "\n",
       "  2018-03-03.1 2018-03-10.1 2018-03-17.1 2018-03-24.1 2018-03-31.1  \\\n",
       "0         2566         2453         2369         2393         2295   \n",
       "1         2480         2194         2070         2093         2186   \n",
       "\n",
       "  2018-04-07.1 2018-04-14.1 2018-04-21.1 2018-04-28.1 2018-05-05.1  \n",
       "0         2377         2712         2097         2160         2352  \n",
       "1         2320         2180         1935         1934         2139  \n",
       "\n",
       "[2 rows x 55 columns]"
      ]
     },
     "execution_count": 12,
     "metadata": {},
     "output_type": "execute_result"
    }
   ],
   "source": [
    "Inclusion_stores=pd.read_excel(\"/home/jian/Projects/Big_Lots/Q1_Post/BL_Sales YoY_JL_20180618.xlsx\",dtype=str,sheetname=\"Inclusion Stores\",skiprows=1)\n",
    "Store_Inclusion_List=Inclusion_stores['location_id'].unique().tolist()\n",
    "Inclusion_stores.head(2)\n"
   ]
  },
  {
   "cell_type": "code",
   "execution_count": 15,
   "metadata": {},
   "outputs": [],
   "source": [
    "Store_DMA=Inclusion_stores[['location_id','DMA','Q1 Campaign Type']]"
   ]
  },
  {
   "cell_type": "code",
   "execution_count": 17,
   "metadata": {},
   "outputs": [],
   "source": [
    "Q1_sales_all=pd.merge(Q1_sales_all,Store_DMA,on=\"location_id\",how=\"left\")"
   ]
  },
  {
   "cell_type": "code",
   "execution_count": 19,
   "metadata": {},
   "outputs": [
    {
     "data": {
      "text/html": [
       "<div>\n",
       "<style>\n",
       "    .dataframe thead tr:only-child th {\n",
       "        text-align: right;\n",
       "    }\n",
       "\n",
       "    .dataframe thead th {\n",
       "        text-align: left;\n",
       "    }\n",
       "\n",
       "    .dataframe tbody tr th {\n",
       "        vertical-align: top;\n",
       "    }\n",
       "</style>\n",
       "<table border=\"1\" class=\"dataframe\">\n",
       "  <thead>\n",
       "    <tr style=\"text-align: right;\">\n",
       "      <th></th>\n",
       "      <th>location_id</th>\n",
       "      <th>week_end_dt</th>\n",
       "      <th>class_code_id</th>\n",
       "      <th>class_gross_sales_amt</th>\n",
       "      <th>department_id</th>\n",
       "      <th>department_desc</th>\n",
       "      <th>class_code_desc</th>\n",
       "      <th>DMA</th>\n",
       "      <th>Q1 Campaign Type</th>\n",
       "    </tr>\n",
       "  </thead>\n",
       "  <tbody>\n",
       "    <tr>\n",
       "      <th>0</th>\n",
       "      <td>1</td>\n",
       "      <td>2017-02-11</td>\n",
       "      <td>11001</td>\n",
       "      <td>1027.22</td>\n",
       "      <td>108</td>\n",
       "      <td>CANDYSNACK</td>\n",
       "      <td>CANDY</td>\n",
       "      <td>COLUMBUS, OH</td>\n",
       "      <td>TV+Digital</td>\n",
       "    </tr>\n",
       "    <tr>\n",
       "      <th>1</th>\n",
       "      <td>1</td>\n",
       "      <td>2017-02-11</td>\n",
       "      <td>11002</td>\n",
       "      <td>436.71</td>\n",
       "      <td>108</td>\n",
       "      <td>CANDYSNACK</td>\n",
       "      <td>SEASONAL CANDY</td>\n",
       "      <td>COLUMBUS, OH</td>\n",
       "      <td>TV+Digital</td>\n",
       "    </tr>\n",
       "  </tbody>\n",
       "</table>\n",
       "</div>"
      ],
      "text/plain": [
       "  location_id week_end_dt class_code_id  class_gross_sales_amt department_id  \\\n",
       "0           1  2017-02-11         11001                1027.22           108   \n",
       "1           1  2017-02-11         11002                 436.71           108   \n",
       "\n",
       "  department_desc class_code_desc           DMA Q1 Campaign Type  \n",
       "0      CANDYSNACK           CANDY  COLUMBUS, OH       TV+Digital  \n",
       "1      CANDYSNACK  SEASONAL CANDY  COLUMBUS, OH       TV+Digital  "
      ]
     },
     "execution_count": 19,
     "metadata": {},
     "output_type": "execute_result"
    }
   ],
   "source": [
    "Q1_sales_all.head(2)"
   ]
  },
  {
   "cell_type": "code",
   "execution_count": 39,
   "metadata": {
    "collapsed": true
   },
   "outputs": [],
   "source": [
    "Q1_sales_all_In=Q1_sales_all[Q1_sales_all['location_id'].isin(Store_Inclusion_List)]\n",
    "\n"
   ]
  },
  {
   "cell_type": "code",
   "execution_count": 55,
   "metadata": {
    "collapsed": true
   },
   "outputs": [],
   "source": [
    "test_check=Q1_sales_all_In[Q1_sales_all_In['class_code_id']==\"21012\"]"
   ]
  },
  {
   "cell_type": "code",
   "execution_count": 59,
   "metadata": {},
   "outputs": [
    {
     "data": {
      "text/html": [
       "<div>\n",
       "<style>\n",
       "    .dataframe thead tr:only-child th {\n",
       "        text-align: right;\n",
       "    }\n",
       "\n",
       "    .dataframe thead th {\n",
       "        text-align: left;\n",
       "    }\n",
       "\n",
       "    .dataframe tbody tr th {\n",
       "        vertical-align: top;\n",
       "    }\n",
       "</style>\n",
       "<table border=\"1\" class=\"dataframe\">\n",
       "  <thead>\n",
       "    <tr style=\"text-align: right;\">\n",
       "      <th></th>\n",
       "      <th>location_id</th>\n",
       "      <th>week_end_dt</th>\n",
       "      <th>class_code_id</th>\n",
       "      <th>class_gross_sales_amt</th>\n",
       "      <th>department_id</th>\n",
       "      <th>department_desc</th>\n",
       "      <th>class_code_desc</th>\n",
       "      <th>DMA</th>\n",
       "      <th>Q1 Campaign Type</th>\n",
       "    </tr>\n",
       "  </thead>\n",
       "  <tbody>\n",
       "    <tr>\n",
       "      <th>65</th>\n",
       "      <td>1</td>\n",
       "      <td>2017-02-11</td>\n",
       "      <td>21012</td>\n",
       "      <td>317.97</td>\n",
       "      <td>210</td>\n",
       "      <td>LAWN &amp; GARDEN</td>\n",
       "      <td>PATIO FURNITURE</td>\n",
       "      <td>COLUMBUS, OH</td>\n",
       "      <td>TV+Digital</td>\n",
       "    </tr>\n",
       "    <tr>\n",
       "      <th>288</th>\n",
       "      <td>1</td>\n",
       "      <td>2017-02-18</td>\n",
       "      <td>21012</td>\n",
       "      <td>113.99</td>\n",
       "      <td>210</td>\n",
       "      <td>LAWN &amp; GARDEN</td>\n",
       "      <td>PATIO FURNITURE</td>\n",
       "      <td>COLUMBUS, OH</td>\n",
       "      <td>TV+Digital</td>\n",
       "    </tr>\n",
       "  </tbody>\n",
       "</table>\n",
       "</div>"
      ],
      "text/plain": [
       "    location_id week_end_dt class_code_id  class_gross_sales_amt  \\\n",
       "65            1  2017-02-11         21012                 317.97   \n",
       "288           1  2017-02-18         21012                 113.99   \n",
       "\n",
       "    department_id department_desc  class_code_desc           DMA  \\\n",
       "65            210   LAWN & GARDEN  PATIO FURNITURE  COLUMBUS, OH   \n",
       "288           210   LAWN & GARDEN  PATIO FURNITURE  COLUMBUS, OH   \n",
       "\n",
       "    Q1 Campaign Type  \n",
       "65        TV+Digital  \n",
       "288       TV+Digital  "
      ]
     },
     "execution_count": 59,
     "metadata": {},
     "output_type": "execute_result"
    }
   ],
   "source": [
    "test_check.head(2)"
   ]
  },
  {
   "cell_type": "code",
   "execution_count": 56,
   "metadata": {},
   "outputs": [
    {
     "data": {
      "text/plain": [
       "53635511.780000001"
      ]
     },
     "execution_count": 56,
     "metadata": {},
     "output_type": "execute_result"
    }
   ],
   "source": [
    "test_check_2017=test_check[(test_check['week_end_dt']>=datetime.date(2017,1,1))&(test_check['week_end_dt']<=datetime.date(2018,1,1))]\n",
    "test_check_2017['class_gross_sales_amt'].sum()"
   ]
  },
  {
   "cell_type": "code",
   "execution_count": 57,
   "metadata": {},
   "outputs": [
    {
     "data": {
      "text/plain": [
       "53965461.140000001"
      ]
     },
     "execution_count": 57,
     "metadata": {},
     "output_type": "execute_result"
    }
   ],
   "source": [
    "test_check_2018=test_check[test_check['week_end_dt']>=datetime.date(2018,1,1)]\n",
    "test_check_2018['class_gross_sales_amt'].sum()"
   ]
  },
  {
   "cell_type": "code",
   "execution_count": 58,
   "metadata": {},
   "outputs": [
    {
     "data": {
      "text/plain": [
       "107600972.92"
      ]
     },
     "execution_count": 58,
     "metadata": {},
     "output_type": "execute_result"
    }
   ],
   "source": [
    "test_check['class_gross_sales_amt'].sum()"
   ]
  },
  {
   "cell_type": "code",
   "execution_count": 67,
   "metadata": {},
   "outputs": [
    {
     "data": {
      "text/plain": [
       "8466860.7600000016"
      ]
     },
     "execution_count": 67,
     "metadata": {},
     "output_type": "execute_result"
    }
   ],
   "source": [
    "week_13=pd.read_csv(\"/home/jian/BigLots/MediaStorm 2018-04-14/MediaStormSalesWeekly.txt\",dtype=str,sep=\"|\")\n",
    "week_13['class_gross_sales_amt']=week_13['class_gross_sales_amt'].astype(float)\n",
    "\n",
    "week_13[week_13['class_code_id']==\"21012\"]['class_gross_sales_amt'].sum()"
   ]
  },
  {
   "cell_type": "code",
   "execution_count": 66,
   "metadata": {},
   "outputs": [
    {
     "data": {
      "text/plain": [
       "8466860.7600000016"
      ]
     },
     "execution_count": 66,
     "metadata": {},
     "output_type": "execute_result"
    }
   ],
   "source": [
    "Q1_sales_all[(Q1_sales_all['week_end_dt']==datetime.date(2018,4,14)) & (Q1_sales_all['class_code_id']==\"21012\")]['class_gross_sales_amt'].sum()"
   ]
  },
  {
   "cell_type": "code",
   "execution_count": 62,
   "metadata": {},
   "outputs": [
    {
     "data": {
      "text/html": [
       "<div>\n",
       "<style>\n",
       "    .dataframe thead tr:only-child th {\n",
       "        text-align: right;\n",
       "    }\n",
       "\n",
       "    .dataframe thead th {\n",
       "        text-align: left;\n",
       "    }\n",
       "\n",
       "    .dataframe tbody tr th {\n",
       "        vertical-align: top;\n",
       "    }\n",
       "</style>\n",
       "<table border=\"1\" class=\"dataframe\">\n",
       "  <thead>\n",
       "    <tr style=\"text-align: right;\">\n",
       "      <th></th>\n",
       "      <th>location_id</th>\n",
       "      <th>week_end_dt</th>\n",
       "      <th>class_code_id</th>\n",
       "      <th>class_gross_sales_amt</th>\n",
       "      <th>department_id</th>\n",
       "      <th>department_desc</th>\n",
       "      <th>class_code_desc</th>\n",
       "      <th>DMA</th>\n",
       "      <th>Q1 Campaign Type</th>\n",
       "    </tr>\n",
       "  </thead>\n",
       "  <tbody>\n",
       "    <tr>\n",
       "      <th>0</th>\n",
       "      <td>1</td>\n",
       "      <td>2017-02-11</td>\n",
       "      <td>11001</td>\n",
       "      <td>1027.22</td>\n",
       "      <td>108</td>\n",
       "      <td>CANDYSNACK</td>\n",
       "      <td>CANDY</td>\n",
       "      <td>COLUMBUS, OH</td>\n",
       "      <td>TV+Digital</td>\n",
       "    </tr>\n",
       "    <tr>\n",
       "      <th>1</th>\n",
       "      <td>1</td>\n",
       "      <td>2017-02-11</td>\n",
       "      <td>11002</td>\n",
       "      <td>436.71</td>\n",
       "      <td>108</td>\n",
       "      <td>CANDYSNACK</td>\n",
       "      <td>SEASONAL CANDY</td>\n",
       "      <td>COLUMBUS, OH</td>\n",
       "      <td>TV+Digital</td>\n",
       "    </tr>\n",
       "  </tbody>\n",
       "</table>\n",
       "</div>"
      ],
      "text/plain": [
       "  location_id week_end_dt class_code_id  class_gross_sales_amt department_id  \\\n",
       "0           1  2017-02-11         11001                1027.22           108   \n",
       "1           1  2017-02-11         11002                 436.71           108   \n",
       "\n",
       "  department_desc class_code_desc           DMA Q1 Campaign Type  \n",
       "0      CANDYSNACK           CANDY  COLUMBUS, OH       TV+Digital  \n",
       "1      CANDYSNACK  SEASONAL CANDY  COLUMBUS, OH       TV+Digital  "
      ]
     },
     "execution_count": 62,
     "metadata": {},
     "output_type": "execute_result"
    }
   ],
   "source": [
    "Q1_sales_all_In.head(2)"
   ]
  },
  {
   "cell_type": "code",
   "execution_count": null,
   "metadata": {
    "collapsed": true
   },
   "outputs": [],
   "source": []
  },
  {
   "cell_type": "code",
   "execution_count": null,
   "metadata": {
    "collapsed": true
   },
   "outputs": [],
   "source": []
  },
  {
   "cell_type": "code",
   "execution_count": 22,
   "metadata": {
    "collapsed": true
   },
   "outputs": [],
   "source": [
    "Q1_sales_all.to_csv(\"/home/jian/Projects/Big_Lots/Sales_All/BL_Q1 Product_\"+today_str+\".csv\")"
   ]
  },
  {
   "cell_type": "code",
   "execution_count": 29,
   "metadata": {
    "collapsed": true
   },
   "outputs": [],
   "source": []
  },
  {
   "cell_type": "code",
   "execution_count": 31,
   "metadata": {
    "collapsed": true
   },
   "outputs": [],
   "source": []
  },
  {
   "cell_type": "code",
   "execution_count": null,
   "metadata": {
    "collapsed": true
   },
   "outputs": [],
   "source": []
  }
 ],
 "metadata": {
  "kernelspec": {
   "display_name": "Python 3",
   "language": "python",
   "name": "python3"
  },
  "language_info": {
   "codemirror_mode": {
    "name": "ipython",
    "version": 3
   },
   "file_extension": ".py",
   "mimetype": "text/x-python",
   "name": "python",
   "nbconvert_exporter": "python",
   "pygments_lexer": "ipython3",
   "version": "3.6.1"
  }
 },
 "nbformat": 4,
 "nbformat_minor": 2
}
