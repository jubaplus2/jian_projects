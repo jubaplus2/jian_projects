{
 "cells": [
  {
   "cell_type": "code",
   "execution_count": 1,
   "metadata": {},
   "outputs": [
    {
     "data": {
      "text/plain": [
       "'/home/jian/Projects/Big_Lots/Analysis/2019_Q3/Planner_request/Bruce_competitors_in_PS_zips_20190830'"
      ]
     },
     "execution_count": 1,
     "metadata": {},
     "output_type": "execute_result"
    }
   ],
   "source": [
    "import pandas as pd\n",
    "import numpy as np\n",
    "import datetime\n",
    "import os\n",
    "import glob\n",
    "os.getcwd()"
   ]
  },
  {
   "cell_type": "code",
   "execution_count": 2,
   "metadata": {},
   "outputs": [
    {
     "name": "stdout",
     "output_type": "stream",
     "text": [
      "7\n",
      "['Walmart Supercenter', 'Dollar General', 'Dollar Tree', \"Kohl's\", 'Target', \"Bob's Discount Furniture\", 'Walmart']\n"
     ]
    }
   ],
   "source": [
    "list_competitors=pd.ExcelFile(\"./BL Sito Raw and Output sample file 20190528 BR.xlsx\")\n",
    "list_competitors=list_competitors.parse(\"Input RAW Both combined visits \",dtype=str)\n",
    "list_competitors=list_competitors[\"brand\"].unique().tolist()\n",
    "list_competitors=[x for x in list_competitors if x!=\"nan\"]\n",
    "print(len(list_competitors))\n",
    "print(list_competitors)"
   ]
  },
  {
   "cell_type": "code",
   "execution_count": 3,
   "metadata": {},
   "outputs": [
    {
     "name": "stdout",
     "output_type": "stream",
     "text": [
      "['unique_zips_full_footprint', 'view_by_TA', 'view_by_store']\n",
      "['trans_P' 'trans_S' 'zips_10']\n"
     ]
    },
    {
     "data": {
      "text/html": [
       "<div>\n",
       "<style>\n",
       "    .dataframe thead tr:only-child th {\n",
       "        text-align: right;\n",
       "    }\n",
       "\n",
       "    .dataframe thead th {\n",
       "        text-align: left;\n",
       "    }\n",
       "\n",
       "    .dataframe tbody tr th {\n",
       "        vertical-align: top;\n",
       "    }\n",
       "</style>\n",
       "<table border=\"1\" class=\"dataframe\">\n",
       "  <thead>\n",
       "    <tr style=\"text-align: right;\">\n",
       "      <th></th>\n",
       "      <th>zip_type</th>\n",
       "      <th>zip_cd</th>\n",
       "    </tr>\n",
       "  </thead>\n",
       "  <tbody>\n",
       "    <tr>\n",
       "      <th>0</th>\n",
       "      <td>trans_P</td>\n",
       "      <td>17403</td>\n",
       "    </tr>\n",
       "    <tr>\n",
       "      <th>1</th>\n",
       "      <td>trans_P</td>\n",
       "      <td>41522</td>\n",
       "    </tr>\n",
       "  </tbody>\n",
       "</table>\n",
       "</div>"
      ],
      "text/plain": [
       "  zip_type zip_cd\n",
       "0  trans_P  17403\n",
       "1  trans_P  41522"
      ]
     },
     "execution_count": 3,
     "metadata": {},
     "output_type": "execute_result"
    }
   ],
   "source": [
    "zips_BL_PS=pd.ExcelFile(\"/home/jian/Projects/Big_Lots/New_TA/TA_created_in_201906/final_output_20190718/BL_final_TA_updated_remove_8_closing_stores_JL_2019-08-20.xlsx\")\n",
    "print(zips_BL_PS.sheet_names)\n",
    "zips_BL_PS=zips_BL_PS.parse(\"unique_zips_full_footprint\",dtype=str)\n",
    "print(zips_BL_PS['zip_type'].unique())\n",
    "zips_BL_PS.head(2)"
   ]
  },
  {
   "cell_type": "code",
   "execution_count": 4,
   "metadata": {},
   "outputs": [
    {
     "name": "stdout",
     "output_type": "stream",
     "text": [
      "(6, 6)\n"
     ]
    },
    {
     "data": {
      "text/html": [
       "<div>\n",
       "<style>\n",
       "    .dataframe thead tr:only-child th {\n",
       "        text-align: right;\n",
       "    }\n",
       "\n",
       "    .dataframe thead th {\n",
       "        text-align: left;\n",
       "    }\n",
       "\n",
       "    .dataframe tbody tr th {\n",
       "        vertical-align: top;\n",
       "    }\n",
       "</style>\n",
       "<table border=\"1\" class=\"dataframe\">\n",
       "  <thead>\n",
       "    <tr style=\"text-align: right;\">\n",
       "      <th></th>\n",
       "      <th>safegraph_brand_id</th>\n",
       "      <th>brand_name</th>\n",
       "      <th>parent_safegraph_brand_id</th>\n",
       "      <th>naics_code</th>\n",
       "      <th>top_category</th>\n",
       "      <th>sub_category</th>\n",
       "    </tr>\n",
       "  </thead>\n",
       "  <tbody>\n",
       "    <tr>\n",
       "      <th>566</th>\n",
       "      <td>SG_BRAND_11126e8062018d7b6b1ede4745827e72</td>\n",
       "      <td>Bob's Discount Furniture</td>\n",
       "      <td>NaN</td>\n",
       "      <td>442110</td>\n",
       "      <td>Furniture Stores</td>\n",
       "      <td>Furniture Stores</td>\n",
       "    </tr>\n",
       "    <tr>\n",
       "      <th>1284</th>\n",
       "      <td>SG_BRAND_a4efb9d8ddf0f71207d49f713c5bc1e9</td>\n",
       "      <td>Dollar General</td>\n",
       "      <td>NaN</td>\n",
       "      <td>452319</td>\n",
       "      <td>General Merchandise Stores, including Warehous...</td>\n",
       "      <td>All Other General Merchandise Stores</td>\n",
       "    </tr>\n",
       "    <tr>\n",
       "      <th>1287</th>\n",
       "      <td>SG_BRAND_6b1e006c89aa3f8b054a05fa90581501</td>\n",
       "      <td>Dollar Tree</td>\n",
       "      <td>NaN</td>\n",
       "      <td>452319</td>\n",
       "      <td>General Merchandise Stores, including Warehous...</td>\n",
       "      <td>All Other General Merchandise Stores</td>\n",
       "    </tr>\n",
       "    <tr>\n",
       "      <th>2411</th>\n",
       "      <td>SG_BRAND_64a77880c7f7c1d3133d10e574c97a8b</td>\n",
       "      <td>Kohl's</td>\n",
       "      <td>NaN</td>\n",
       "      <td>452210</td>\n",
       "      <td>Department Stores</td>\n",
       "      <td>Department Stores</td>\n",
       "    </tr>\n",
       "    <tr>\n",
       "      <th>4138</th>\n",
       "      <td>SG_BRAND_42aefbae01d2dfd981f7da7d823d689e</td>\n",
       "      <td>Target</td>\n",
       "      <td>NaN</td>\n",
       "      <td>452210</td>\n",
       "      <td>Department Stores</td>\n",
       "      <td>Department Stores</td>\n",
       "    </tr>\n",
       "    <tr>\n",
       "      <th>4600</th>\n",
       "      <td>SG_BRAND_04a8ca7bf49e7ecb4a32451676e929f0</td>\n",
       "      <td>Walmart</td>\n",
       "      <td>SG_BRAND_f49758461e68a211</td>\n",
       "      <td>452319</td>\n",
       "      <td>General Merchandise Stores, including Warehous...</td>\n",
       "      <td>All Other General Merchandise Stores</td>\n",
       "    </tr>\n",
       "  </tbody>\n",
       "</table>\n",
       "</div>"
      ],
      "text/plain": [
       "                             safegraph_brand_id                brand_name  \\\n",
       "566   SG_BRAND_11126e8062018d7b6b1ede4745827e72  Bob's Discount Furniture   \n",
       "1284  SG_BRAND_a4efb9d8ddf0f71207d49f713c5bc1e9            Dollar General   \n",
       "1287  SG_BRAND_6b1e006c89aa3f8b054a05fa90581501               Dollar Tree   \n",
       "2411  SG_BRAND_64a77880c7f7c1d3133d10e574c97a8b                    Kohl's   \n",
       "4138  SG_BRAND_42aefbae01d2dfd981f7da7d823d689e                    Target   \n",
       "4600  SG_BRAND_04a8ca7bf49e7ecb4a32451676e929f0                   Walmart   \n",
       "\n",
       "      parent_safegraph_brand_id naics_code  \\\n",
       "566                         NaN     442110   \n",
       "1284                        NaN     452319   \n",
       "1287                        NaN     452319   \n",
       "2411                        NaN     452210   \n",
       "4138                        NaN     452210   \n",
       "4600  SG_BRAND_f49758461e68a211     452319   \n",
       "\n",
       "                                           top_category  \\\n",
       "566                                    Furniture Stores   \n",
       "1284  General Merchandise Stores, including Warehous...   \n",
       "1287  General Merchandise Stores, including Warehous...   \n",
       "2411                                  Department Stores   \n",
       "4138                                  Department Stores   \n",
       "4600  General Merchandise Stores, including Warehous...   \n",
       "\n",
       "                              sub_category  \n",
       "566                       Furniture Stores  \n",
       "1284  All Other General Merchandise Stores  \n",
       "1287  All Other General Merchandise Stores  \n",
       "2411                     Department Stores  \n",
       "4138                     Department Stores  \n",
       "4600  All Other General Merchandise Stores  "
      ]
     },
     "execution_count": 4,
     "metadata": {},
     "output_type": "execute_result"
    }
   ],
   "source": [
    "latest_SG_brand_info=pd.read_csv(\"/home/jian/Docs/SafeGraph/places_20190629/brand_info/part-00000-tid-3844431843075532209-d890661b-f976-44e8-9678-725e8cd08c6f-119-c000.csv.gz\",\n",
    "                                dtype=str,compression=\"gzip\",sep=\"|\")\n",
    "\n",
    "latest_SG_brand_info=latest_SG_brand_info[latest_SG_brand_info[\"brand_name\"].isin(list_competitors)]\n",
    "print(latest_SG_brand_info.shape)\n",
    "latest_SG_brand_info\n"
   ]
  },
  {
   "cell_type": "code",
   "execution_count": 5,
   "metadata": {},
   "outputs": [],
   "source": [
    "POI_data=glob.glob(\"/home/jian/Docs/SafeGraph/places_20190629/poi/*csv.gz\")\n",
    "# POI_data"
   ]
  },
  {
   "cell_type": "code",
   "execution_count": 6,
   "metadata": {},
   "outputs": [
    {
     "name": "stdout",
     "output_type": "stream",
     "text": [
      "2019-08-29 20:30:14.911316 /home/jian/Docs/SafeGraph/places_20190629/poi/part-00001-tid-9006125908719184114-1808d564-228a-44d4-8710-c00fc4c1b790-112-c000.csv.gz\n",
      "2019-08-29 20:30:27.401250 /home/jian/Docs/SafeGraph/places_20190629/poi/part-00003-tid-9006125908719184114-1808d564-228a-44d4-8710-c00fc4c1b790-114-c000.csv.gz\n",
      "2019-08-29 20:30:40.193537 /home/jian/Docs/SafeGraph/places_20190629/poi/part-00000-tid-9006125908719184114-1808d564-228a-44d4-8710-c00fc4c1b790-111-c000.csv.gz\n",
      "2019-08-29 20:30:51.549659 /home/jian/Docs/SafeGraph/places_20190629/poi/part-00004-tid-9006125908719184114-1808d564-228a-44d4-8710-c00fc4c1b790-115-c000.csv.gz\n",
      "2019-08-29 20:31:03.494741 /home/jian/Docs/SafeGraph/places_20190629/poi/part-00002-tid-9006125908719184114-1808d564-228a-44d4-8710-c00fc4c1b790-113-c000.csv.gz\n",
      "2019-08-29 20:31:14.777690 /home/jian/Docs/SafeGraph/places_20190629/poi/part-00005-tid-9006125908719184114-1808d564-228a-44d4-8710-c00fc4c1b790-116-c000.csv.gz\n",
      "2019-08-29 20:31:25.855737 /home/jian/Docs/SafeGraph/places_20190629/poi/part-00007-tid-9006125908719184114-1808d564-228a-44d4-8710-c00fc4c1b790-118-c000.csv.gz\n",
      "2019-08-29 20:31:37.030719 /home/jian/Docs/SafeGraph/places_20190629/poi/part-00006-tid-9006125908719184114-1808d564-228a-44d4-8710-c00fc4c1b790-117-c000.csv.gz\n"
     ]
    }
   ],
   "source": [
    "store_dict_of_df={} \n",
    "\n",
    "for file in POI_data:\n",
    "    df=pd.read_csv(file,dtype=str,compression=\"gzip\",sep=\"|\")\n",
    "    for brand_name in list_competitors:\n",
    "        df_brand_i=df[df['location_name']==brand_name]\n",
    "        try:\n",
    "            df_already_agg_brand=store_dict_of_df[brand_name]\n",
    "            store_dict_of_df.update({brand_name:df_already_agg_brand.append(df_brand_i)})\n",
    "        except:\n",
    "            store_dict_of_df.update({brand_name:df_brand_i})\n",
    "\n",
    "   \n",
    "    print(datetime.datetime.now(),file)"
   ]
  },
  {
   "cell_type": "code",
   "execution_count": 7,
   "metadata": {},
   "outputs": [
    {
     "name": "stdout",
     "output_type": "stream",
     "text": [
      "Walmart Supercenter (11, 20)\n",
      "Dollar General (15032, 20)\n",
      "Dollar Tree (6869, 20)\n",
      "Kohl's (1133, 20)\n",
      "Target (1834, 20)\n",
      "Bob's Discount Furniture (113, 20)\n",
      "Walmart (4615, 20)\n"
     ]
    }
   ],
   "source": [
    "df_output=pd.DataFrame()\n",
    "for k,v in store_dict_of_df.items():\n",
    "    print(k,v.shape)\n",
    "    df_output=df_output.append(v)"
   ]
  },
  {
   "cell_type": "code",
   "execution_count": 8,
   "metadata": {},
   "outputs": [
    {
     "name": "stdout",
     "output_type": "stream",
     "text": [
      "[5 4 3]\n",
      "[5]\n"
     ]
    }
   ],
   "source": [
    "print(df_output['zip_code'].apply(len).unique())\n",
    "df_output['zip_code']=df_output['zip_code'].apply(lambda x: x.zfill(5))\n",
    "print(df_output['zip_code'].apply(len).unique())\n"
   ]
  },
  {
   "cell_type": "code",
   "execution_count": 9,
   "metadata": {},
   "outputs": [],
   "source": [
    "zips_BL_PS=zips_BL_PS.rename(columns={\"zip_cd\":\"zip_code\"})\n",
    "df_output=pd.merge(df_output,zips_BL_PS,on=\"zip_code\",how=\"left\")\n",
    "df_output_PS_only=df_output[pd.notnull(df_output['zip_type'])]"
   ]
  },
  {
   "cell_type": "code",
   "execution_count": 13,
   "metadata": {},
   "outputs": [],
   "source": [
    "writer=pd.ExcelWriter(\"./BL_competitors_in_PS_zips_JL_\"+str(datetime.datetime.now().date())+\".xlsx\",engine=\"xlsxwriter\")\n",
    "df_output_PS_only.to_excel(writer,\"competitors_in_PS\",index=False)\n",
    "df_output.to_excel(writer,\"all_competitors\",index=False)\n",
    "writer.save()"
   ]
  }
 ],
 "metadata": {
  "kernelspec": {
   "display_name": "Python 3",
   "language": "python",
   "name": "python3"
  },
  "language_info": {
   "codemirror_mode": {
    "name": "ipython",
    "version": 3
   },
   "file_extension": ".py",
   "mimetype": "text/x-python",
   "name": "python",
   "nbconvert_exporter": "python",
   "pygments_lexer": "ipython3",
   "version": "3.6.1"
  }
 },
 "nbformat": 4,
 "nbformat_minor": 2
}
