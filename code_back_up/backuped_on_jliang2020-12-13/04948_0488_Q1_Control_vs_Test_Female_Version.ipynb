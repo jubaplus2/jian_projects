{
 "cells": [
  {
   "cell_type": "code",
   "execution_count": 1,
   "metadata": {
    "collapsed": true
   },
   "outputs": [],
   "source": [
    "import pandas as pd\n",
    "import numpy as np\n",
    "import os\n",
    "import gc\n",
    "import datetime\n",
    "import gc\n",
    "import logging\n",
    "\n",
    "today_str=str(datetime.datetime.now().date())\n",
    "logging.basicConfig(filename='control_test_'+today_str+'_.log', level=logging.INFO)"
   ]
  },
  {
   "cell_type": "code",
   "execution_count": 2,
   "metadata": {
    "collapsed": true
   },
   "outputs": [],
   "source": [
    "writer_folder=\"/home/jian/Projects/Big_Lots/Q1_Post/Test_vs_Control/\"+today_str+\"/\"\n",
    "\n",
    "try:\n",
    "    os.stat(writer_folder)\n",
    "except:\n",
    "    os.mkdir(writer_folder)"
   ]
  },
  {
   "cell_type": "code",
   "execution_count": 3,
   "metadata": {
    "collapsed": true
   },
   "outputs": [],
   "source": [
    "# The comparing pool are thoses stores only have sales every week before the beginning of 2018 Q1 campaign\n",
    "\n",
    "sales_base_week_list=[datetime.datetime(2018,1,20).date(),datetime.datetime(2018,1,27).date(),datetime.datetime(2018,2,3).date()] # start of Jan.14, 3 weeks in total\n",
    "\n",
    "base1_week=datetime.datetime(2018,2,3).date()\n",
    "campaign1_week=datetime.datetime(2018,2,10).date()\n",
    "\n",
    "base2_week=datetime.datetime(2018,3,24).date()\n",
    "campaign2_week=datetime.datetime(2018,3,31).date()\n",
    "\n",
    "\n",
    "Q1_start_week=datetime.datetime(2018,2,10) # start of Feb.4\n",
    "Q1_end_week=datetime.datetime(2018,5,5)"
   ]
  },
  {
   "cell_type": "code",
   "execution_count": 4,
   "metadata": {
    "collapsed": true
   },
   "outputs": [],
   "source": [
    "inclusion_stores=pd.read_excel(\"/home/jian/Projects/Big_Lots/Q1_Post/BL_Sales YoY_JL_20180618.xlsx\",sheetname=\"Inclusion Stores\",skiprows=1,dtype=str)\n",
    "store_zips=pd.read_excel(\"/home/jian/Projects/Big_Lots/Other_Input/all_store_DMA.xlsx\",dtype=str)[['location_id','zip']]\n",
    "store_zips['zip']=store_zips['zip'].apply(lambda x: x.zfill(5))\n",
    "inclusion_stores=pd.merge(inclusion_stores,store_zips,on=\"location_id\",how=\"left\")\n",
    "inclusion_stores=inclusion_stores[['location_id','zip']].rename(columns={\"zip\":\"zip_cd\"})\n"
   ]
  },
  {
   "cell_type": "code",
   "execution_count": 5,
   "metadata": {
    "collapsed": true
   },
   "outputs": [],
   "source": [
    "\n",
    "store_DMA=pd.read_excel(\"/home/jian/Projects/Big_Lots/Other_Input/all_store_DMA.xlsx\",dtype=str)[['location_id','DMA']]"
   ]
  },
  {
   "cell_type": "code",
   "execution_count": 6,
   "metadata": {},
   "outputs": [
    {
     "name": "stderr",
     "output_type": "stream",
     "text": [
      "/usr/local/lib/python3.6/site-packages/ipykernel_launcher.py:14: SettingWithCopyWarning: \n",
      "A value is trying to be set on a copy of a slice from a DataFrame.\n",
      "Try using .loc[row_indexer,col_indexer] = value instead\n",
      "\n",
      "See the caveats in the documentation: http://pandas.pydata.org/pandas-docs/stable/indexing.html#indexing-view-versus-copy\n",
      "  \n"
     ]
    }
   ],
   "source": [
    "\n",
    "# 1. 26 weeks sales\n",
    "sales_all=pd.read_csv(\"/home/jian/BiglotsCode/outputs/combined_sales_long_2018-06-02.csv\",dtype=str)\n",
    "\n",
    "\n",
    "sales_all['sales']=sales_all['sales'].astype(float)\n",
    "sales_all=sales_all[sales_all['sales']>0]\n",
    "\n",
    "sales_all['week_end_date']=sales_all['week_end_date'].apply(lambda x:datetime.datetime.strptime(x,\"%Y-%m-%d\").date())\n",
    "sales_inclusion_long=sales_all[sales_all['location_id'].isin(inclusion_stores['location_id'])]\n",
    "\n",
    "sales_52_weeks=sales_inclusion_long[(sales_inclusion_long['week_end_date']>=datetime.datetime(2017,2,1).date()) & (sales_inclusion_long['week_end_date']<=datetime.datetime(2017,7,31).date())]\n",
    "\n",
    "sales_52_weeks['sales']=sales_52_weeks['sales'].astype(float)\n",
    "# sales_52_weeks['transactions']=sales_52_weeks['transactions'].astype(float)\n",
    "# sales_52_weeks['traffics']=sales_52_weeks['traffics'].astype(float)\n",
    "# del sales_52_weeks['week_indicator']\n",
    "\n",
    "df_sales_52=sales_52_weeks[['location_id','week_end_date','sales']]\n",
    "df_sales_52=df_sales_52[df_sales_52['sales']!=0]\n",
    "df_sales_52_dollar=df_sales_52.groupby([\"location_id\"])['sales'].sum().to_frame().reset_index().rename(columns={\"sales\":\"26_week_sales\"})\n",
    "df_sales_52_week=df_sales_52.groupby([\"location_id\"])['week_end_date'].count().to_frame().reset_index().rename(columns={\"week_end_date\":\"week_count\"})\n",
    "df_sales_52=pd.merge(df_sales_52_dollar,df_sales_52_week,on=\"location_id\",how=\"inner\")\n",
    "df_sales_52=df_sales_52[df_sales_52['week_count']==df_sales_52['week_count'].max()]\n",
    "\n",
    "Df_parameters=pd.merge(df_sales_52,store_DMA,on=\"location_id\",how=\"left\")"
   ]
  },
  {
   "cell_type": "code",
   "execution_count": 7,
   "metadata": {
    "collapsed": true
   },
   "outputs": [],
   "source": [
    "# 2. Jan Sales\n",
    "# No extra exclusion for the Jan weeks involoved\n",
    "sales_all_base_Jan=sales_inclusion_long[sales_inclusion_long['week_end_date'].isin(sales_base_week_list)]\n",
    "sales_all_base_Jan=sales_all_base_Jan.groupby(['location_id'])['sales'].sum().to_frame().reset_index()\n",
    "sales_all_base_Jan=sales_all_base_Jan.rename(columns={\"sales\":\"Jan_3_weeks_sales\"})"
   ]
  },
  {
   "cell_type": "code",
   "execution_count": 8,
   "metadata": {
    "collapsed": true
   },
   "outputs": [],
   "source": [
    "Df_parameters=pd.merge(Df_parameters,sales_all_base_Jan,on=\"location_id\",how=\"left\")"
   ]
  },
  {
   "cell_type": "code",
   "execution_count": 9,
   "metadata": {},
   "outputs": [
    {
     "data": {
      "text/html": [
       "<div>\n",
       "<style>\n",
       "    .dataframe thead tr:only-child th {\n",
       "        text-align: right;\n",
       "    }\n",
       "\n",
       "    .dataframe thead th {\n",
       "        text-align: left;\n",
       "    }\n",
       "\n",
       "    .dataframe tbody tr th {\n",
       "        vertical-align: top;\n",
       "    }\n",
       "</style>\n",
       "<table border=\"1\" class=\"dataframe\">\n",
       "  <thead>\n",
       "    <tr style=\"text-align: right;\">\n",
       "      <th></th>\n",
       "      <th>location_id</th>\n",
       "      <th>week_end_date</th>\n",
       "      <th>sales</th>\n",
       "      <th>transactions</th>\n",
       "      <th>traffics</th>\n",
       "      <th>week_indicator</th>\n",
       "    </tr>\n",
       "  </thead>\n",
       "  <tbody>\n",
       "    <tr>\n",
       "      <th>0</th>\n",
       "      <td>1</td>\n",
       "      <td>2015-05-23</td>\n",
       "      <td>84370.89</td>\n",
       "      <td>2823.0</td>\n",
       "      <td>4631</td>\n",
       "      <td>1</td>\n",
       "    </tr>\n",
       "    <tr>\n",
       "      <th>1</th>\n",
       "      <td>1</td>\n",
       "      <td>2015-05-30</td>\n",
       "      <td>85665.43</td>\n",
       "      <td>2945.0</td>\n",
       "      <td>4873</td>\n",
       "      <td>2</td>\n",
       "    </tr>\n",
       "  </tbody>\n",
       "</table>\n",
       "</div>"
      ],
      "text/plain": [
       "  location_id week_end_date     sales transactions traffics week_indicator\n",
       "0           1    2015-05-23  84370.89       2823.0     4631              1\n",
       "1           1    2015-05-30  85665.43       2945.0     4873              2"
      ]
     },
     "execution_count": 9,
     "metadata": {},
     "output_type": "execute_result"
    }
   ],
   "source": [
    "sales_all.head(2)"
   ]
  },
  {
   "cell_type": "code",
   "execution_count": 10,
   "metadata": {
    "collapsed": true
   },
   "outputs": [],
   "source": [
    "#3. ARI\n",
    "def ARI_calculation(df_all,base_week,campaign_week):\n",
    "    df=df_all[df_all['week_end_date'].isin(base_week+campaign_week)]\n",
    "\n",
    "    df_0=df[df['sales']==0]\n",
    "    df=df[~df['location_id'].isin(df_0)]\n",
    "    df=df[df['sales']>0]\n",
    "    \n",
    "    df_both_weeks=df.groupby(\"location_id\")['week_end_date'].count().to_frame().reset_index()\n",
    "    df_both_weeks=df_both_weeks[df_both_weeks['week_end_date']==6]\n",
    "    \n",
    "    df=df[df['location_id'].isin(df_both_weeks['location_id'])]\n",
    "    print(len(df['location_id'].unique()))\n",
    "    df_base=df[df['week_end_date'].isin(base_week)].groupby([\"location_id\"])['sales'].sum().to_frame().reset_index()\n",
    "    df_base=df_base.rename(columns={\"sales\":\"base_sales\"})\n",
    "    df_campaign=df[df['week_end_date'].isin(campaign_week)].groupby([\"location_id\"])['sales'].sum().to_frame().reset_index()\n",
    "    df_campaign=df_campaign.rename(columns={\"sales\":\"campaign_sales\",\"week_end_date\":\"campaign_week\"})\n",
    "    df_pair=pd.merge(df_base,df_campaign,on=\"location_id\",how=\"inner\")\n",
    "    base_sales_all=df_pair['base_sales'].sum()\n",
    "    campaign_sales_all=df_pair['campaign_sales'].sum()\n",
    "    \n",
    "    df_pair['ARI']=(df_pair['campaign_sales']/df_pair['base_sales'])/(campaign_sales_all/base_sales_all)*100\n",
    "    \n",
    "    return df_pair"
   ]
  },
  {
   "cell_type": "code",
   "execution_count": 11,
   "metadata": {
    "collapsed": true
   },
   "outputs": [],
   "source": [
    "AIR_Base_Week=sales_base_week_list.copy()\n",
    "AIR_Campaign_Week=[datetime.date(2018,2,17),datetime.date(2018,2,24),datetime.date(2018,3,3)]"
   ]
  },
  {
   "cell_type": "code",
   "execution_count": 12,
   "metadata": {},
   "outputs": [
    {
     "data": {
      "text/html": [
       "<div>\n",
       "<style>\n",
       "    .dataframe thead tr:only-child th {\n",
       "        text-align: right;\n",
       "    }\n",
       "\n",
       "    .dataframe thead th {\n",
       "        text-align: left;\n",
       "    }\n",
       "\n",
       "    .dataframe tbody tr th {\n",
       "        vertical-align: top;\n",
       "    }\n",
       "</style>\n",
       "<table border=\"1\" class=\"dataframe\">\n",
       "  <thead>\n",
       "    <tr style=\"text-align: right;\">\n",
       "      <th></th>\n",
       "      <th>location_id</th>\n",
       "      <th>week_end_date</th>\n",
       "      <th>sales</th>\n",
       "      <th>transactions</th>\n",
       "      <th>traffics</th>\n",
       "      <th>week_indicator</th>\n",
       "    </tr>\n",
       "  </thead>\n",
       "  <tbody>\n",
       "    <tr>\n",
       "      <th>0</th>\n",
       "      <td>1</td>\n",
       "      <td>2015-05-23</td>\n",
       "      <td>84370.89</td>\n",
       "      <td>2823.0</td>\n",
       "      <td>4631</td>\n",
       "      <td>1</td>\n",
       "    </tr>\n",
       "    <tr>\n",
       "      <th>1</th>\n",
       "      <td>1</td>\n",
       "      <td>2015-05-30</td>\n",
       "      <td>85665.43</td>\n",
       "      <td>2945.0</td>\n",
       "      <td>4873</td>\n",
       "      <td>2</td>\n",
       "    </tr>\n",
       "  </tbody>\n",
       "</table>\n",
       "</div>"
      ],
      "text/plain": [
       "  location_id week_end_date     sales transactions traffics week_indicator\n",
       "0           1    2015-05-23  84370.89       2823.0     4631              1\n",
       "1           1    2015-05-30  85665.43       2945.0     4873              2"
      ]
     },
     "execution_count": 12,
     "metadata": {},
     "output_type": "execute_result"
    }
   ],
   "source": [
    "sales_all.head(2)"
   ]
  },
  {
   "cell_type": "code",
   "execution_count": 13,
   "metadata": {},
   "outputs": [
    {
     "name": "stdout",
     "output_type": "stream",
     "text": [
      "1412\n"
     ]
    },
    {
     "data": {
      "text/plain": [
       "'\\nARI_df_1=ARI_calculation(df_all=sales_all,base_week=base1_week,campaign_week=campaign1_week)\\nARI_df_1=ARI_df_1.rename(columns={\"ARI\":\"ARI_P1\"})[[\\'location_id\\',\\'ARI_P1\\']]\\nARI_df_2=ARI_calculation(df_all=sales_all,base_week=base2_week,campaign_week=campaign2_week)\\nARI_df_2=ARI_df_2.rename(columns={\"ARI\":\"ARI_P2\"})[[\\'location_id\\',\\'ARI_P2\\']]\\n'"
      ]
     },
     "execution_count": 13,
     "metadata": {},
     "output_type": "execute_result"
    }
   ],
   "source": [
    "ARI_df=ARI_calculation(df_all=sales_all,base_week=AIR_Base_Week,campaign_week=AIR_Campaign_Week)\n",
    "ARI_df=ARI_df[['location_id','ARI']]\n",
    "'''\n",
    "ARI_df_1=ARI_calculation(df_all=sales_all,base_week=base1_week,campaign_week=campaign1_week)\n",
    "ARI_df_1=ARI_df_1.rename(columns={\"ARI\":\"ARI_P1\"})[['location_id','ARI_P1']]\n",
    "ARI_df_2=ARI_calculation(df_all=sales_all,base_week=base2_week,campaign_week=campaign2_week)\n",
    "ARI_df_2=ARI_df_2.rename(columns={\"ARI\":\"ARI_P2\"})[['location_id','ARI_P2']]\n",
    "'''"
   ]
  },
  {
   "cell_type": "code",
   "execution_count": 14,
   "metadata": {
    "collapsed": true
   },
   "outputs": [],
   "source": [
    "Df_parameters=pd.merge(Df_parameters,ARI_df,on=\"location_id\",how=\"left\")\n",
    "# Df_parameters=pd.merge(Df_parameters,ARI_df_2,on=\"location_id\",how=\"left\")"
   ]
  },
  {
   "cell_type": "code",
   "execution_count": 15,
   "metadata": {},
   "outputs": [
    {
     "data": {
      "text/html": [
       "<div>\n",
       "<style>\n",
       "    .dataframe thead tr:only-child th {\n",
       "        text-align: right;\n",
       "    }\n",
       "\n",
       "    .dataframe thead th {\n",
       "        text-align: left;\n",
       "    }\n",
       "\n",
       "    .dataframe tbody tr th {\n",
       "        vertical-align: top;\n",
       "    }\n",
       "</style>\n",
       "<table border=\"1\" class=\"dataframe\">\n",
       "  <thead>\n",
       "    <tr style=\"text-align: right;\">\n",
       "      <th></th>\n",
       "      <th>location_id</th>\n",
       "      <th>26_week_sales</th>\n",
       "      <th>week_count</th>\n",
       "      <th>DMA</th>\n",
       "      <th>Jan_3_weeks_sales</th>\n",
       "      <th>ARI</th>\n",
       "    </tr>\n",
       "  </thead>\n",
       "  <tbody>\n",
       "    <tr>\n",
       "      <th>0</th>\n",
       "      <td>1</td>\n",
       "      <td>2243400.62</td>\n",
       "      <td>26</td>\n",
       "      <td>COLUMBUS, OH</td>\n",
       "      <td>202241.46</td>\n",
       "      <td>118.509320</td>\n",
       "    </tr>\n",
       "    <tr>\n",
       "      <th>1</th>\n",
       "      <td>1001</td>\n",
       "      <td>1123476.33</td>\n",
       "      <td>26</td>\n",
       "      <td>CHATTANOOGA</td>\n",
       "      <td>95384.23</td>\n",
       "      <td>125.956767</td>\n",
       "    </tr>\n",
       "  </tbody>\n",
       "</table>\n",
       "</div>"
      ],
      "text/plain": [
       "  location_id  26_week_sales  week_count           DMA  Jan_3_weeks_sales  \\\n",
       "0           1     2243400.62          26  COLUMBUS, OH          202241.46   \n",
       "1        1001     1123476.33          26   CHATTANOOGA           95384.23   \n",
       "\n",
       "          ARI  \n",
       "0  118.509320  \n",
       "1  125.956767  "
      ]
     },
     "execution_count": 15,
     "metadata": {},
     "output_type": "execute_result"
    }
   ],
   "source": [
    "Df_parameters.head(2)"
   ]
  },
  {
   "cell_type": "code",
   "execution_count": 16,
   "metadata": {},
   "outputs": [
    {
     "data": {
      "text/html": [
       "<div>\n",
       "<style>\n",
       "    .dataframe thead tr:only-child th {\n",
       "        text-align: right;\n",
       "    }\n",
       "\n",
       "    .dataframe thead th {\n",
       "        text-align: left;\n",
       "    }\n",
       "\n",
       "    .dataframe tbody tr th {\n",
       "        vertical-align: top;\n",
       "    }\n",
       "</style>\n",
       "<table border=\"1\" class=\"dataframe\">\n",
       "  <thead>\n",
       "    <tr style=\"text-align: right;\">\n",
       "      <th></th>\n",
       "      <th>DMA</th>\n",
       "      <th>Female_25_to_54</th>\n",
       "    </tr>\n",
       "  </thead>\n",
       "  <tbody>\n",
       "    <tr>\n",
       "      <th>0</th>\n",
       "      <td>ABILENE-SWEETWATER</td>\n",
       "      <td>58988.0</td>\n",
       "    </tr>\n",
       "    <tr>\n",
       "      <th>1</th>\n",
       "      <td>ALBANY, GA</td>\n",
       "      <td>87756.0</td>\n",
       "    </tr>\n",
       "  </tbody>\n",
       "</table>\n",
       "</div>"
      ],
      "text/plain": [
       "                  DMA  Female_25_to_54\n",
       "0  ABILENE-SWEETWATER          58988.0\n",
       "1          ALBANY, GA          87756.0"
      ]
     },
     "execution_count": 16,
     "metadata": {},
     "output_type": "execute_result"
    }
   ],
   "source": [
    "# 4. BDI (with female 25-54)\n",
    "Zip_DMA=pd.read_csv(\"/home/jian/BiglotsCode/OtherInput/zipdmamapping.csv\",dtype=str)\n",
    "Zip_DMA['zip_cd']=Zip_DMA['zip_cd'].apply(lambda x:x.zfill(5))\n",
    "\n",
    "female_2554=pd.read_csv(\"/home/jian/Docs/Household_and_Population/2016/Demo_Dataset.csv\")\n",
    "female_2554['Female_25_to_54']=female_2554[['Estimate; Female: - 25 to 29 years',\n",
    "                                            'Estimate; Female: - 30 to 34 years',\n",
    "                                            'Estimate; Female: - 35 to 39 years',\n",
    "                                            'Estimate; Female: - 40 to 44 years',\n",
    "                                            'Estimate; Female: - 45 to 49 years',\n",
    "                                            'Estimate; Female: - 50 to 54 years']].sum(axis=1)\n",
    "\n",
    "female_2554=female_2554[['ZIP_CODE','Female_25_to_54']].rename(columns={\"ZIP_CODE\":\"zip_cd\"})\n",
    "female_2554['zip_cd']=female_2554['zip_cd'].apply(lambda x: str(x).zfill(5))\n",
    "\n",
    "female_2554_DMA=pd.merge(Zip_DMA,female_2554,on=\"zip_cd\",how=\"left\")\n",
    "female_2554_DMA=female_2554_DMA.groupby(['DMA'])['Female_25_to_54'].sum().to_frame().reset_index()\n",
    "female_2554_DMA.head(2)"
   ]
  },
  {
   "cell_type": "code",
   "execution_count": 17,
   "metadata": {},
   "outputs": [
    {
     "data": {
      "text/html": [
       "<div>\n",
       "<style>\n",
       "    .dataframe thead tr:only-child th {\n",
       "        text-align: right;\n",
       "    }\n",
       "\n",
       "    .dataframe thead th {\n",
       "        text-align: left;\n",
       "    }\n",
       "\n",
       "    .dataframe tbody tr th {\n",
       "        vertical-align: top;\n",
       "    }\n",
       "</style>\n",
       "<table border=\"1\" class=\"dataframe\">\n",
       "  <thead>\n",
       "    <tr style=\"text-align: right;\">\n",
       "      <th></th>\n",
       "      <th>DMA</th>\n",
       "      <th>Female_25_to_54</th>\n",
       "    </tr>\n",
       "  </thead>\n",
       "  <tbody>\n",
       "    <tr>\n",
       "      <th>0</th>\n",
       "      <td>ABILENE-SWEETWATER</td>\n",
       "      <td>58988.0</td>\n",
       "    </tr>\n",
       "    <tr>\n",
       "      <th>1</th>\n",
       "      <td>ALBANY, GA</td>\n",
       "      <td>87756.0</td>\n",
       "    </tr>\n",
       "  </tbody>\n",
       "</table>\n",
       "</div>"
      ],
      "text/plain": [
       "                  DMA  Female_25_to_54\n",
       "0  ABILENE-SWEETWATER          58988.0\n",
       "1          ALBANY, GA          87756.0"
      ]
     },
     "execution_count": 17,
     "metadata": {},
     "output_type": "execute_result"
    }
   ],
   "source": [
    "female_2554_DMA.head(2)"
   ]
  },
  {
   "cell_type": "code",
   "execution_count": 18,
   "metadata": {
    "collapsed": true
   },
   "outputs": [],
   "source": [
    "Jan_Sales_for_BDI=sales_all[sales_all['week_end_date'].isin(sales_base_week_list)]\n",
    "Jan_Sales_for_BDI=Jan_Sales_for_BDI[Jan_Sales_for_BDI['sales']>0]\n",
    "Jan_Sales_for_BDI=Jan_Sales_for_BDI.drop_duplicates()\n",
    "Jan_Sales_for_BDI=Jan_Sales_for_BDI.groupby([\"location_id\"])['week_end_date'].count().to_frame().reset_index()\n",
    "Jan_Sales_for_BDI=Jan_Sales_for_BDI[Jan_Sales_for_BDI['week_end_date']>0] #the same as ==3\n",
    "\n",
    "\n",
    "Jan_Sales_for_BDI=sales_all[sales_all['location_id'].isin(Jan_Sales_for_BDI['location_id'])]\n",
    "Jan_Sales_for_BDI=Jan_Sales_for_BDI[Jan_Sales_for_BDI['week_end_date'].isin(sales_base_week_list)]"
   ]
  },
  {
   "cell_type": "code",
   "execution_count": 19,
   "metadata": {
    "collapsed": true
   },
   "outputs": [],
   "source": [
    "stores_DMA=pd.read_excel(\"/home/jian/Projects/Big_Lots/Q1_Post/BL_Sales YoY_JL_20180618.xlsx\",sheetname=\"all store DMA\",dtype=str)\n",
    "stores_DMA=stores_DMA[['location_id','DMA']].drop_duplicates()\n",
    "Jan_Sales_for_BDI=pd.merge(Jan_Sales_for_BDI,stores_DMA,on=\"location_id\",how=\"left\")\n",
    "DMA_Jan_Sales=Jan_Sales_for_BDI.groupby([\"DMA\"])['sales'].sum().to_frame().reset_index()"
   ]
  },
  {
   "cell_type": "code",
   "execution_count": 20,
   "metadata": {
    "collapsed": true
   },
   "outputs": [],
   "source": [
    "DMA_Jan_Sales_Female=pd.merge(DMA_Jan_Sales,female_2554_DMA,on=\"DMA\",how=\"left\")"
   ]
  },
  {
   "cell_type": "code",
   "execution_count": 21,
   "metadata": {
    "collapsed": true
   },
   "outputs": [],
   "source": [
    "Jan_Store_Count_by_DMA=Jan_Sales_for_BDI[['location_id','DMA']].drop_duplicates()\n",
    "Jan_Store_Count_by_DMA=Jan_Store_Count_by_DMA.groupby([\"DMA\"])['location_id'].count().to_frame().reset_index()\n",
    "Jan_Store_Count_by_DMA=Jan_Store_Count_by_DMA.rename(columns={\"location_id\":\"store_count\"})"
   ]
  },
  {
   "cell_type": "code",
   "execution_count": 22,
   "metadata": {
    "collapsed": true
   },
   "outputs": [],
   "source": [
    "DMA_Jan_Sales_Female=pd.merge(DMA_Jan_Sales_Female,Jan_Store_Count_by_DMA,on=\"DMA\",how=\"left\")"
   ]
  },
  {
   "cell_type": "code",
   "execution_count": 23,
   "metadata": {},
   "outputs": [
    {
     "data": {
      "text/html": [
       "<div>\n",
       "<style>\n",
       "    .dataframe thead tr:only-child th {\n",
       "        text-align: right;\n",
       "    }\n",
       "\n",
       "    .dataframe thead th {\n",
       "        text-align: left;\n",
       "    }\n",
       "\n",
       "    .dataframe tbody tr th {\n",
       "        vertical-align: top;\n",
       "    }\n",
       "</style>\n",
       "<table border=\"1\" class=\"dataframe\">\n",
       "  <thead>\n",
       "    <tr style=\"text-align: right;\">\n",
       "      <th></th>\n",
       "      <th>DMA</th>\n",
       "      <th>sales</th>\n",
       "      <th>Female_25_to_54</th>\n",
       "      <th>store_count</th>\n",
       "    </tr>\n",
       "  </thead>\n",
       "  <tbody>\n",
       "    <tr>\n",
       "      <th>0</th>\n",
       "      <td>ABILENE-SWEETWATER</td>\n",
       "      <td>268898.44</td>\n",
       "      <td>58988.0</td>\n",
       "      <td>2</td>\n",
       "    </tr>\n",
       "    <tr>\n",
       "      <th>1</th>\n",
       "      <td>ALBANY, GA</td>\n",
       "      <td>280515.05</td>\n",
       "      <td>87756.0</td>\n",
       "      <td>2</td>\n",
       "    </tr>\n",
       "  </tbody>\n",
       "</table>\n",
       "</div>"
      ],
      "text/plain": [
       "                  DMA      sales  Female_25_to_54  store_count\n",
       "0  ABILENE-SWEETWATER  268898.44          58988.0            2\n",
       "1          ALBANY, GA  280515.05          87756.0            2"
      ]
     },
     "execution_count": 23,
     "metadata": {},
     "output_type": "execute_result"
    }
   ],
   "source": [
    "DMA_Jan_Sales_Female.head(2)"
   ]
  },
  {
   "cell_type": "code",
   "execution_count": 24,
   "metadata": {
    "collapsed": true
   },
   "outputs": [],
   "source": [
    "DMA_Jan_Sales_Female['Female_25-54_per_Store']=DMA_Jan_Sales_Female['Female_25_to_54']/DMA_Jan_Sales_Female['store_count']\n",
    "sales_all_DMA_Jan_Sales_Female=DMA_Jan_Sales_Female['sales'].sum()\n",
    "Female_all_DMA_Jan_Sales_Female=DMA_Jan_Sales_Female['Female_25_to_54'].sum()\n",
    "\n",
    "DMA_Jan_Sales_Female['BDI']=(DMA_Jan_Sales_Female['sales']/DMA_Jan_Sales_Female['Female_25_to_54'])/(sales_all_DMA_Jan_Sales_Female/Female_all_DMA_Jan_Sales_Female)*100\n",
    "\n",
    "df_BDI_by_DMA=DMA_Jan_Sales_Female[['DMA','BDI']]\n",
    "\n",
    "Df_parameters=pd.merge(Df_parameters,df_BDI_by_DMA,on=\"DMA\",how=\"left\")"
   ]
  },
  {
   "cell_type": "code",
   "execution_count": null,
   "metadata": {
    "collapsed": true
   },
   "outputs": [],
   "source": []
  },
  {
   "cell_type": "code",
   "execution_count": 25,
   "metadata": {},
   "outputs": [
    {
     "data": {
      "text/html": [
       "<div>\n",
       "<style>\n",
       "    .dataframe thead tr:only-child th {\n",
       "        text-align: right;\n",
       "    }\n",
       "\n",
       "    .dataframe thead th {\n",
       "        text-align: left;\n",
       "    }\n",
       "\n",
       "    .dataframe tbody tr th {\n",
       "        vertical-align: top;\n",
       "    }\n",
       "</style>\n",
       "<table border=\"1\" class=\"dataframe\">\n",
       "  <thead>\n",
       "    <tr style=\"text-align: right;\">\n",
       "      <th></th>\n",
       "      <th>zip_cd</th>\n",
       "      <th>Female_25_to_54</th>\n",
       "    </tr>\n",
       "  </thead>\n",
       "  <tbody>\n",
       "    <tr>\n",
       "      <th>0</th>\n",
       "      <td>00501</td>\n",
       "      <td>0.0</td>\n",
       "    </tr>\n",
       "    <tr>\n",
       "      <th>1</th>\n",
       "      <td>01001</td>\n",
       "      <td>3604.0</td>\n",
       "    </tr>\n",
       "  </tbody>\n",
       "</table>\n",
       "</div>"
      ],
      "text/plain": [
       "  zip_cd  Female_25_to_54\n",
       "0  00501              0.0\n",
       "1  01001           3604.0"
      ]
     },
     "execution_count": 25,
     "metadata": {},
     "output_type": "execute_result"
    }
   ],
   "source": [
    "# 5 Female 25-54 per store (store_level_TA)\n",
    "female_2554=pd.read_csv(\"/home/jian/Docs/Household_and_Population/2016/Demo_Dataset.csv\")\n",
    "female_2554['Female_25_to_54']=female_2554[['Estimate; Female: - 25 to 29 years',\n",
    "                                            'Estimate; Female: - 30 to 34 years',\n",
    "                                            'Estimate; Female: - 35 to 39 years',\n",
    "                                            'Estimate; Female: - 40 to 44 years',\n",
    "                                            'Estimate; Female: - 45 to 49 years',\n",
    "                                            'Estimate; Female: - 50 to 54 years',]].sum(axis=1)\n",
    "female_2554=female_2554[['ZIP_CODE','Female_25_to_54']].rename(columns={\"ZIP_CODE\":\"zip_cd\"})\n",
    "female_2554['zip_cd']=female_2554['zip_cd'].apply(lambda x: str(x).zfill(5))\n",
    "female_2554.head(2)"
   ]
  },
  {
   "cell_type": "code",
   "execution_count": 26,
   "metadata": {
    "collapsed": true
   },
   "outputs": [],
   "source": [
    "zips_store_ta=pd.read_csv(\"/home/jian/Projects/Big_Lots/New_TA/zips_in_new_ta/sales_by_zip (Store level).csv\",dtype=str)\n",
    "zips_store_ta=zips_store_ta[['zip','location_id','revenue_flag']].drop_duplicates()\n",
    "zips_store_ta=zips_store_ta[zips_store_ta['revenue_flag'].isin(['P','S'])]\n",
    "zips_store_ta=zips_store_ta.rename(columns={\"zip\":\"zip_cd\"})"
   ]
  },
  {
   "cell_type": "code",
   "execution_count": 27,
   "metadata": {
    "collapsed": true
   },
   "outputs": [],
   "source": [
    "Df_parameters=Df_parameters[Df_parameters['location_id'].isin(zips_store_ta['location_id'])] # Keep those only in TA stores"
   ]
  },
  {
   "cell_type": "code",
   "execution_count": 28,
   "metadata": {
    "collapsed": true
   },
   "outputs": [],
   "source": [
    "zips_store_ta_Female=pd.merge(zips_store_ta,female_2554,on=\"zip_cd\",how=\"left\")\n",
    "female_by_store=zips_store_ta_Female.groupby([\"location_id\"])['Female_25_to_54'].sum().to_frame().reset_index()\n",
    "female_by_store.head(2)\n",
    "female_by_store=female_by_store.rename(columns={\"Female_25_to_54\":\"Female_25_54_per_Store\"})"
   ]
  },
  {
   "cell_type": "code",
   "execution_count": 29,
   "metadata": {
    "collapsed": true
   },
   "outputs": [],
   "source": [
    "Df_parameters=pd.merge(Df_parameters,female_by_store,on=\"location_id\",how=\"left\")"
   ]
  },
  {
   "cell_type": "code",
   "execution_count": 30,
   "metadata": {
    "collapsed": true
   },
   "outputs": [],
   "source": [
    "# 6 and 7 Labels (Use 2017 calander year labels)\n",
    "labels=pd.read_excel(\"/home/jian/Projects/Big_Lots/Q1_Post/Test_vs_Control/Other_input/BL_Store Sales and Ratio Groups 2017 Year_JL_20180110.xlsx\",sheetname=\"store list with group Nov. 15\",skiprows=1,dtype=str)\n",
    "labels=labels[['location_id','state_nm','city_nm','Sales Group','Ratio Group']]\n",
    "Df_parameters=pd.merge(Df_parameters,labels,on=\"location_id\",how=\"left\")\n"
   ]
  },
  {
   "cell_type": "code",
   "execution_count": 31,
   "metadata": {},
   "outputs": [
    {
     "data": {
      "text/html": [
       "<div>\n",
       "<style>\n",
       "    .dataframe thead tr:only-child th {\n",
       "        text-align: right;\n",
       "    }\n",
       "\n",
       "    .dataframe thead th {\n",
       "        text-align: left;\n",
       "    }\n",
       "\n",
       "    .dataframe tbody tr th {\n",
       "        vertical-align: top;\n",
       "    }\n",
       "</style>\n",
       "<table border=\"1\" class=\"dataframe\">\n",
       "  <thead>\n",
       "    <tr style=\"text-align: right;\">\n",
       "      <th></th>\n",
       "      <th>location_id</th>\n",
       "      <th>26_week_sales</th>\n",
       "      <th>week_count</th>\n",
       "      <th>DMA</th>\n",
       "      <th>Jan_3_weeks_sales</th>\n",
       "      <th>ARI</th>\n",
       "      <th>BDI</th>\n",
       "      <th>Female_25_54_per_Store</th>\n",
       "      <th>state_nm</th>\n",
       "      <th>city_nm</th>\n",
       "      <th>Sales Group</th>\n",
       "      <th>Ratio Group</th>\n",
       "    </tr>\n",
       "  </thead>\n",
       "  <tbody>\n",
       "    <tr>\n",
       "      <th>0</th>\n",
       "      <td>1</td>\n",
       "      <td>2243400.62</td>\n",
       "      <td>26</td>\n",
       "      <td>COLUMBUS, OH</td>\n",
       "      <td>202241.46</td>\n",
       "      <td>118.509320</td>\n",
       "      <td>168.826491</td>\n",
       "      <td>83537.0</td>\n",
       "      <td>OH</td>\n",
       "      <td>COLUMBUS</td>\n",
       "      <td>H</td>\n",
       "      <td>H</td>\n",
       "    </tr>\n",
       "    <tr>\n",
       "      <th>1</th>\n",
       "      <td>1001</td>\n",
       "      <td>1123476.33</td>\n",
       "      <td>26</td>\n",
       "      <td>CHATTANOOGA</td>\n",
       "      <td>95384.23</td>\n",
       "      <td>125.956767</td>\n",
       "      <td>146.301855</td>\n",
       "      <td>17928.0</td>\n",
       "      <td>TN</td>\n",
       "      <td>McMINNVILLE</td>\n",
       "      <td>L</td>\n",
       "      <td>L</td>\n",
       "    </tr>\n",
       "  </tbody>\n",
       "</table>\n",
       "</div>"
      ],
      "text/plain": [
       "  location_id  26_week_sales  week_count           DMA  Jan_3_weeks_sales  \\\n",
       "0           1     2243400.62          26  COLUMBUS, OH          202241.46   \n",
       "1        1001     1123476.33          26   CHATTANOOGA           95384.23   \n",
       "\n",
       "          ARI         BDI  Female_25_54_per_Store state_nm      city_nm  \\\n",
       "0  118.509320  168.826491                 83537.0       OH     COLUMBUS   \n",
       "1  125.956767  146.301855                 17928.0       TN  McMINNVILLE   \n",
       "\n",
       "  Sales Group Ratio Group  \n",
       "0           H           H  \n",
       "1           L           L  "
      ]
     },
     "execution_count": 31,
     "metadata": {},
     "output_type": "execute_result"
    }
   ],
   "source": [
    "Df_parameters.head(2)"
   ]
  },
  {
   "cell_type": "code",
   "execution_count": 34,
   "metadata": {},
   "outputs": [
    {
     "data": {
      "text/plain": [
       "(1379, 11)"
      ]
     },
     "execution_count": 34,
     "metadata": {},
     "output_type": "execute_result"
    }
   ],
   "source": [
    "Df_parameters.shape"
   ]
  },
  {
   "cell_type": "code",
   "execution_count": 32,
   "metadata": {
    "collapsed": true
   },
   "outputs": [],
   "source": [
    "Df_parameters=Df_parameters[['location_id','state_nm','city_nm','DMA','26_week_sales','Jan_3_weeks_sales',\n",
    "                            'Female_25_54_per_Store','ARI','BDI','Sales Group','Ratio Group']]"
   ]
  },
  {
   "cell_type": "code",
   "execution_count": 33,
   "metadata": {
    "collapsed": true
   },
   "outputs": [],
   "source": [
    "Df_parameters.to_csv(writer_folder+\"parameters for match stores\"+today_str+\".csv\")"
   ]
  },
  {
   "cell_type": "markdown",
   "metadata": {},
   "source": [
    "# Match T and C"
   ]
  },
  {
   "cell_type": "code",
   "execution_count": 34,
   "metadata": {
    "collapsed": true
   },
   "outputs": [],
   "source": [
    "# 60 TV\n",
    "# 40 Digital\n",
    "\n",
    "DMA_Type=pd.read_excel(\"/home/jian/Projects/Big_Lots/Q1_Post/BL_Sales YoY_JL_20180618.xlsx\",sheetname=\"DMA List\",dtype=str)\n",
    "DMA_Type.head(2)\n",
    "\n",
    "Df_parameters['Campaign_Type']=np.where(Df_parameters['DMA'].isin(DMA_Type['TV+Digital']),\"TV_Digital\",\n",
    "                                        np.where(Df_parameters['DMA'].isin(DMA_Type['Digital Only']),\"Digital Only\",\"Balance\")\n",
    "                                                )"
   ]
  },
  {
   "cell_type": "code",
   "execution_count": 35,
   "metadata": {
    "collapsed": true
   },
   "outputs": [],
   "source": [
    "df_Test=Df_parameters[Df_parameters['Campaign_Type'].isin([\"TV_Digital\",\"Digital Only\"])]\n",
    "df_Control=Df_parameters[~Df_parameters['Campaign_Type'].isin([\"TV_Digital\",\"Digital Only\"])]\n",
    "\n",
    "\n",
    "df_Test_TV=df_Test[df_Test['Campaign_Type']==\"TV_Digital\"]\n",
    "df_Test_Digital=df_Test[df_Test['Campaign_Type']==\"Digital Only\"]"
   ]
  },
  {
   "cell_type": "code",
   "execution_count": 36,
   "metadata": {},
   "outputs": [
    {
     "name": "stderr",
     "output_type": "stream",
     "text": [
      "/usr/local/lib/python3.6/site-packages/ipykernel_launcher.py:3: SettingWithCopyWarning: \n",
      "A value is trying to be set on a copy of a slice from a DataFrame.\n",
      "Try using .loc[row_indexer,col_indexer] = value instead\n",
      "\n",
      "See the caveats in the documentation: http://pandas.pydata.org/pandas-docs/stable/indexing.html#indexing-view-versus-copy\n",
      "  This is separate from the ipykernel package so we can avoid doing imports until\n"
     ]
    }
   ],
   "source": [
    "df_Control_temp=df_Control[['location_id','Campaign_Type','26_week_sales','Jan_3_weeks_sales','Female_25_54_per_Store','ARI','BDI','Sales Group','Ratio Group']]\n",
    "df_Control_temp.columns=[\"C_\"+x for x in ['location_id','Campaign_Type','26_week_sales','Jan_3_weeks_sales','Female_25_54_per_Store','ARI','BDI','Sales Group','Ratio Group']]\n",
    "df_Control_temp['temp_key']=1"
   ]
  },
  {
   "cell_type": "code",
   "execution_count": 37,
   "metadata": {},
   "outputs": [
    {
     "data": {
      "text/plain": [
       "(573, 12)"
      ]
     },
     "execution_count": 37,
     "metadata": {},
     "output_type": "execute_result"
    }
   ],
   "source": [
    "df_Test.shape"
   ]
  },
  {
   "cell_type": "code",
   "execution_count": 38,
   "metadata": {},
   "outputs": [
    {
     "data": {
      "text/plain": [
       "(806, 12)"
      ]
     },
     "execution_count": 38,
     "metadata": {},
     "output_type": "execute_result"
    }
   ],
   "source": [
    "df_Control.shape"
   ]
  },
  {
   "cell_type": "code",
   "execution_count": 39,
   "metadata": {},
   "outputs": [
    {
     "data": {
      "text/plain": [
       "186"
      ]
     },
     "execution_count": 39,
     "metadata": {},
     "output_type": "execute_result"
    }
   ],
   "source": [
    "len(Df_parameters['DMA'].unique())"
   ]
  },
  {
   "cell_type": "code",
   "execution_count": 40,
   "metadata": {},
   "outputs": [
    {
     "data": {
      "text/plain": [
       "['location_id',\n",
       " 'state_nm',\n",
       " 'city_nm',\n",
       " 'DMA',\n",
       " '26_week_sales',\n",
       " 'Jan_3_weeks_sales',\n",
       " 'Female_25_54_per_Store',\n",
       " 'ARI',\n",
       " 'BDI',\n",
       " 'Sales Group',\n",
       " 'Ratio Group',\n",
       " 'Campaign_Type']"
      ]
     },
     "execution_count": 40,
     "metadata": {},
     "output_type": "execute_result"
    }
   ],
   "source": [
    "Df_parameters.columns.tolist()"
   ]
  },
  {
   "cell_type": "code",
   "execution_count": 41,
   "metadata": {},
   "outputs": [
    {
     "name": "stdout",
     "output_type": "stream",
     "text": [
      "1 2018-06-25 15:17:36.276793\n",
      "20 2018-06-25 15:17:41.076957\n",
      "101 2018-06-25 15:18:02.832948\n",
      "120 2018-06-25 15:18:08.192891\n",
      "201 2018-06-25 15:18:32.266188\n",
      "220 2018-06-25 15:18:38.221547\n",
      "301 2018-06-25 15:19:05.041381\n",
      "320 2018-06-25 15:19:11.590025\n",
      "401 2018-06-25 15:19:40.748944\n",
      "420 2018-06-25 15:19:47.866351\n",
      "501 2018-06-25 15:20:21.114474\n",
      "520 2018-06-25 15:20:30.364652\n"
     ]
    }
   ],
   "source": [
    "group_label_diff_score=0.1\n",
    "\n",
    "df_match_all=pd.DataFrame()\n",
    "k_loop=0\n",
    "logging.info(str(datetime.datetime.now())+ \" : Start to do the match\")\n",
    "for location_tv in df_Test[\"location_id\"].unique().tolist():\n",
    "    df_t=df_Test[df_Test['location_id']==location_tv].reset_index()\n",
    "    df_t=df_t[['location_id','Campaign_Type','26_week_sales','Jan_3_weeks_sales','Female_25_54_per_Store','ARI','BDI','Sales Group','Ratio Group']]\n",
    "    df_t.columns=[\"T_\"+x for x in ['location_id','Campaign_Type','26_week_sales','Jan_3_weeks_sales','Female_25_54_per_Store','ARI','BDI','Sales Group','Ratio Group']]\n",
    "    df_t['temp_key']=1\n",
    "    df_match=pd.DataFrame()\n",
    "    df_match=pd.merge(df_t,df_Control_temp,on=\"temp_key\",how=\"left\")\n",
    "    \n",
    "    df_match['diff_26_week_sales']=np.nan\n",
    "    df_match['diff_Jan_3_weeks_sales']=np.nan\n",
    "    df_match['diff_ARI']=np.nan\n",
    "    df_match['diff_BDI']=np.nan\n",
    "    df_match['diff_sales_lable']=np.nan\n",
    "    df_match['diff_ratio_lable']=np.nan\n",
    "    diff_26_week_sales_list=[np.nan]*len(df_Control_temp)\n",
    "    diff_Jan_3_weeks_sales_list=[np.nan]*len(df_Control_temp)\n",
    "    diff_Female_per_Store_list=[np.nan]*len(df_Control_temp)\n",
    "    diff_ARI_list=[np.nan]*len(df_Control_temp)\n",
    "    diff_BDI_list=[np.nan]*len(df_Control_temp)\n",
    "    diff_sales_lable_list=[np.nan]*len(df_Control_temp)\n",
    "    diff_ratio_lable_list=[np.nan]*len(df_Control_temp)\n",
    "    \n",
    "    \n",
    "    \n",
    "    for i in range(len(df_Control_temp)):\n",
    "        \n",
    "        diff_26_week_sales_list[i]=(df_match['T_26_week_sales'][i]-df_match['C_26_week_sales'][i])/df_match['C_26_week_sales'][i]\n",
    "        diff_Jan_3_weeks_sales_list[i]=(df_match['T_Jan_3_weeks_sales'][i]-df_match['C_Jan_3_weeks_sales'][i])/df_match['C_Jan_3_weeks_sales'][i]\n",
    "        diff_ARI_list[i]=(df_match['T_ARI'][i]-df_match['C_ARI'][i])/df_match['C_ARI'][i]\n",
    "        diff_BDI_list[i]=(df_match['T_BDI'][i]-df_match['C_BDI'][i])/df_match['C_BDI'][i]\n",
    "        diff_Female_per_Store_list[i]=(df_match['T_Female_25_54_per_Store'][i]-df_match['C_Female_25_54_per_Store'][i])/df_match['C_Female_25_54_per_Store'][i]\n",
    "        \n",
    "        if df_match['T_Sales Group'][i]==df_match['C_Sales Group'][i]:\n",
    "            diff_sales_lable_list[i]=0\n",
    "        else:\n",
    "            diff_sales_lable_list[i]=group_label_diff_score\n",
    "            \n",
    "        if df_match['T_Ratio Group'][i]==df_match['C_Ratio Group'][i]:\n",
    "            diff_ratio_lable_list[i]=0\n",
    "        else:\n",
    "            diff_ratio_lable_list[i]=group_label_diff_score\n",
    "            \n",
    "    df_match['diff_26_week_sales']=diff_26_week_sales_list\n",
    "    df_match['diff_Jan_3_weeks_sales']=diff_Jan_3_weeks_sales_list\n",
    "    df_match['diff_Female_per_Store']=diff_Female_per_Store_list\n",
    "    df_match['diff_ARI']=diff_ARI_list\n",
    "    df_match['diff_BDI']=diff_BDI_list\n",
    "    df_match['diff_sales_lable']=diff_sales_lable_list\n",
    "    df_match['diff_ratio_lable']=diff_ratio_lable_list\n",
    "\n",
    "    \n",
    "    df_match_all=df_match_all.append(df_match)\n",
    "    \n",
    "    k_loop=k_loop+1\n",
    "    if k_loop%100==1:\n",
    "        logging.info(str(k_loop)+\": \"+str(datetime.datetime.now()))\n",
    "        print(k_loop,datetime.datetime.now())\n",
    "    if k_loop%100==20:\n",
    "        logging.info(str(k_loop)+\": \"+str(datetime.datetime.now()))\n",
    "        print(k_loop,datetime.datetime.now())\n",
    "\n",
    "logging.info(\"Finished matching: \"+str(datetime.datetime.now()))   \n"
   ]
  },
  {
   "cell_type": "code",
   "execution_count": 42,
   "metadata": {
    "collapsed": true
   },
   "outputs": [],
   "source": [
    "# Score 1: All parameters '26_week_sales','Jan_3_weeks_sales','Female_25_54_per_Store','ARI','BDI','Sales Group','Ratio Group',\n",
    "df_match_all_score_1=df_match_all.copy()\n",
    "df_match_all_score_1['score']=df_match_all['diff_26_week_sales'].apply(lambda x: abs(x))+\\\n",
    "                        df_match_all_score_1['diff_Jan_3_weeks_sales'].apply(lambda x: abs(x))+\\\n",
    "                        df_match_all_score_1['diff_Female_per_Store'].apply(lambda x: abs(x))+\\\n",
    "                        df_match_all_score_1['diff_ARI'].apply(lambda x: abs(x))+\\\n",
    "                        df_match_all_score_1['diff_BDI'].apply(lambda x: abs(x))+\\\n",
    "                        df_match_all_score_1['diff_sales_lable'].apply(lambda x: abs(x))+\\\n",
    "                        df_match_all_score_1['diff_ratio_lable'].apply(lambda x: abs(x))\n",
    "df_match_all_score_1=df_match_all_score_1.sort_values('score')   \n",
    "df_match_all_score_1.to_csv(writer_folder+\"match_overall_score_1_all_Pramateters.csv\",index=False)\n",
    "df_match_all_copy=df_match_all_score_1.copy()\n",
    "\n",
    "selected_T=[]\n",
    "selected_C=[]\n",
    "df_selected_match=pd.DataFrame()\n",
    "i=0\n",
    "while i <100:\n",
    "    df_match_all_copy=df_match_all_copy[(~df_match_all_copy['T_location_id'].isin(selected_T)) & (~df_match_all_copy['C_location_id'].isin(selected_C))]\n",
    "    df=df_match_all_copy.head(1)\n",
    "    df_selected_match=df_selected_match.append(df)\n",
    "\n",
    "    selected_T=selected_T+[df['T_location_id'].unique().tolist()[0]]\n",
    "    selected_C=selected_T+[df['C_location_id'].unique().tolist()[0]]\n",
    "    i=i+1\n",
    "df_selected_match_Score_1=df_selected_match.sort_values([\"T_Campaign_Type\",\"score\"])\n",
    "df_selected_match_Score_1.to_csv(writer_folder+\"Score_1_selectet_top_100_match_pairs\"+today_str+\".csv\")"
   ]
  },
  {
   "cell_type": "code",
   "execution_count": 43,
   "metadata": {
    "collapsed": true
   },
   "outputs": [],
   "source": [
    "# Score 2: 'Jan_3_weeks_sales','Female_25_54_per_Store','ARI','BDI','Sales Group','Ratio Group'\n",
    "# No 26 weeks sales\n",
    "df_match_all_score_2=df_match_all.copy()\n",
    "df_match_all_score_2['score']=df_match_all_score_2['diff_Jan_3_weeks_sales'].apply(lambda x: abs(x))+\\\n",
    "                        df_match_all_score_2['diff_Female_per_Store'].apply(lambda x: abs(x))+\\\n",
    "                        df_match_all_score_2['diff_ARI'].apply(lambda x: abs(x))+\\\n",
    "                        df_match_all_score_2['diff_BDI'].apply(lambda x: abs(x))+\\\n",
    "                        df_match_all_score_2['diff_sales_lable'].apply(lambda x: abs(x))+\\\n",
    "                        df_match_all_score_2['diff_ratio_lable'].apply(lambda x: abs(x))\n",
    "df_match_all_score_2=df_match_all_score_2.sort_values('score')   \n",
    "df_match_all_score_2.to_csv(writer_folder+\"match_overall_score_2_all_Pramateters.csv\",index=False)\n",
    "df_match_all_copy=df_match_all_score_2.copy()\n",
    "\n",
    "selected_T=[]\n",
    "selected_C=[]\n",
    "df_selected_match=pd.DataFrame()\n",
    "i=0\n",
    "while i <100:\n",
    "    df_match_all_copy=df_match_all_copy[(~df_match_all_copy['T_location_id'].isin(selected_T)) & (~df_match_all_copy['C_location_id'].isin(selected_C))]\n",
    "    df=df_match_all_copy.head(1)\n",
    "    df_selected_match=df_selected_match.append(df)\n",
    "\n",
    "    selected_T=selected_T+[df['T_location_id'].unique().tolist()[0]]\n",
    "    selected_C=selected_T+[df['C_location_id'].unique().tolist()[0]]\n",
    "    i=i+1\n",
    "df_selected_match_score_2=df_selected_match.sort_values([\"T_Campaign_Type\",\"score\"])\n",
    "df_selected_match_score_2.to_csv(writer_folder+\"Score_2_selectet_top_100_match_pairs\"+today_str+\".csv\")"
   ]
  },
  {
   "cell_type": "code",
   "execution_count": 44,
   "metadata": {
    "collapsed": true
   },
   "outputs": [],
   "source": [
    "# Score 3: '26_week_sales','Female_25_54_per_Store','ARI','BDI','Sales Group','Ratio Group'\n",
    "# No Jan 3 weeks sales\n",
    "df_match_all_score_3=df_match_all.copy()\n",
    "df_match_all_score_3['score']=df_match_all['diff_26_week_sales'].apply(lambda x: abs(x))+\\\n",
    "                        df_match_all_score_3['diff_Female_per_Store'].apply(lambda x: abs(x))+\\\n",
    "                        df_match_all_score_3['diff_ARI'].apply(lambda x: abs(x))+\\\n",
    "                        df_match_all_score_3['diff_BDI'].apply(lambda x: abs(x))+\\\n",
    "                        df_match_all_score_3['diff_sales_lable'].apply(lambda x: abs(x))+\\\n",
    "                        df_match_all_score_3['diff_ratio_lable'].apply(lambda x: abs(x))\n",
    "df_match_all_score_3=df_match_all_score_3.sort_values('score')   \n",
    "df_match_all_score_3.to_csv(writer_folder+\"match_overall_score_3_all_Pramateters.csv\",index=False)\n",
    "df_match_all_copy=df_match_all_score_3.copy()\n",
    "\n",
    "selected_T=[]\n",
    "selected_C=[]\n",
    "df_selected_match=pd.DataFrame()\n",
    "i=0\n",
    "while i <100:\n",
    "    df_match_all_copy=df_match_all_copy[(~df_match_all_copy['T_location_id'].isin(selected_T)) & (~df_match_all_copy['C_location_id'].isin(selected_C))]\n",
    "    df=df_match_all_copy.head(1)\n",
    "    df_selected_match=df_selected_match.append(df)\n",
    "\n",
    "    selected_T=selected_T+[df['T_location_id'].unique().tolist()[0]]\n",
    "    selected_C=selected_T+[df['C_location_id'].unique().tolist()[0]]\n",
    "    i=i+1\n",
    "df_selected_match_score_3=df_selected_match.sort_values([\"T_Campaign_Type\",\"score\"])\n",
    "df_selected_match_score_3.to_csv(writer_folder+\"Score_3_selectet_top_100_match_pairs\"+today_str+\".csv\")"
   ]
  },
  {
   "cell_type": "code",
   "execution_count": null,
   "metadata": {
    "collapsed": true
   },
   "outputs": [],
   "source": []
  },
  {
   "cell_type": "code",
   "execution_count": 50,
   "metadata": {
    "collapsed": true
   },
   "outputs": [],
   "source": [
    "# Score 1: All parameters '26_week_sales','Jan_3_weeks_sales','Female_25_54_per_Store','ARI','BDI','Sales Group','Ratio Group',\n",
    "# 0.05 Label Diff\n",
    "df_match_all_score_1=df_match_all.copy()\n",
    "df_match_all_score_1['score']=df_match_all['diff_26_week_sales'].apply(lambda x: abs(x))+\\\n",
    "                        df_match_all_score_1['diff_Jan_3_weeks_sales'].apply(lambda x: abs(x))+\\\n",
    "                        df_match_all_score_1['diff_Female_per_Store'].apply(lambda x: abs(x))+\\\n",
    "                        df_match_all_score_1['diff_ARI'].apply(lambda x: abs(x))+\\\n",
    "                        df_match_all_score_1['diff_BDI'].apply(lambda x: abs(x))+\\\n",
    "                        df_match_all_score_1['diff_sales_lable'].apply(lambda x: abs(x)/2)+\\\n",
    "                        df_match_all_score_1['diff_ratio_lable'].apply(lambda x: abs(x)/2)\n",
    "df_match_all_score_1=df_match_all_score_1.sort_values('score')   \n",
    "# df_match_all_score_1.to_csv(writer_folder+\"match_overall_score_1_all_Pramateters.csv\",index=False)\n",
    "df_match_all_copy=df_match_all_score_1.copy()\n",
    "\n",
    "selected_T=[]\n",
    "selected_C=[]\n",
    "df_selected_match=pd.DataFrame()\n",
    "i=0\n",
    "while i <100:\n",
    "    df_match_all_copy=df_match_all_copy[(~df_match_all_copy['T_location_id'].isin(selected_T)) & (~df_match_all_copy['C_location_id'].isin(selected_C))]\n",
    "    df=df_match_all_copy.head(1)\n",
    "    df_selected_match=df_selected_match.append(df)\n",
    "\n",
    "    selected_T=selected_T+[df['T_location_id'].unique().tolist()[0]]\n",
    "    selected_C=selected_T+[df['C_location_id'].unique().tolist()[0]]\n",
    "    i=i+1\n",
    "df_selected_match_Score_1=df_selected_match.sort_values([\"T_Campaign_Type\",\"score\"])\n",
    "df_selected_match_Score_1.to_csv(writer_folder+\"Score_1_selectet_top_100_match_pairs_0.05_Lable_\"+today_str+\".csv\")"
   ]
  },
  {
   "cell_type": "code",
   "execution_count": 51,
   "metadata": {
    "collapsed": true
   },
   "outputs": [],
   "source": [
    "# Score 2: 'Jan_3_weeks_sales','Female_25_54_per_Store','ARI','BDI','Sales Group','Ratio Group'\n",
    "# No 26 weeks sales\n",
    "# 0.05 Label Diff\n",
    "df_match_all_score_2=df_match_all.copy()\n",
    "df_match_all_score_2['score']=df_match_all_score_2['diff_Jan_3_weeks_sales'].apply(lambda x: abs(x))+\\\n",
    "                        df_match_all_score_2['diff_Female_per_Store'].apply(lambda x: abs(x))+\\\n",
    "                        df_match_all_score_2['diff_ARI'].apply(lambda x: abs(x))+\\\n",
    "                        df_match_all_score_2['diff_BDI'].apply(lambda x: abs(x))+\\\n",
    "                        df_match_all_score_2['diff_sales_lable'].apply(lambda x: abs(x)/2)+\\\n",
    "                        df_match_all_score_2['diff_ratio_lable'].apply(lambda x: abs(x)/2)\n",
    "df_match_all_score_2=df_match_all_score_2.sort_values('score')   \n",
    "# df_match_all_score_2.to_csv(writer_folder+\"match_overall_score_2_all_Pramateters.csv\",index=False)\n",
    "df_match_all_copy=df_match_all_score_2.copy()\n",
    "\n",
    "selected_T=[]\n",
    "selected_C=[]\n",
    "df_selected_match=pd.DataFrame()\n",
    "i=0\n",
    "while i <100:\n",
    "    df_match_all_copy=df_match_all_copy[(~df_match_all_copy['T_location_id'].isin(selected_T)) & (~df_match_all_copy['C_location_id'].isin(selected_C))]\n",
    "    df=df_match_all_copy.head(1)\n",
    "    df_selected_match=df_selected_match.append(df)\n",
    "\n",
    "    selected_T=selected_T+[df['T_location_id'].unique().tolist()[0]]\n",
    "    selected_C=selected_T+[df['C_location_id'].unique().tolist()[0]]\n",
    "    i=i+1\n",
    "df_selected_match_score_2=df_selected_match.sort_values([\"T_Campaign_Type\",\"score\"])\n",
    "df_selected_match_score_2.to_csv(writer_folder+\"Score_2_selectet_top_100_match_pairs_0.05_Lable_\"+today_str+\".csv\")"
   ]
  },
  {
   "cell_type": "code",
   "execution_count": 52,
   "metadata": {
    "collapsed": true
   },
   "outputs": [],
   "source": [
    "# Score 3: '26_week_sales','Female_25_54_per_Store','ARI','BDI','Sales Group','Ratio Group'\n",
    "# No Jan 3 weeks sales\n",
    "# 0.05 Label Diff\n",
    "df_match_all_score_3=df_match_all.copy()\n",
    "df_match_all_score_3['score']=df_match_all['diff_26_week_sales'].apply(lambda x: abs(x))+\\\n",
    "                        df_match_all_score_3['diff_Female_per_Store'].apply(lambda x: abs(x))+\\\n",
    "                        df_match_all_score_3['diff_ARI'].apply(lambda x: abs(x))+\\\n",
    "                        df_match_all_score_3['diff_BDI'].apply(lambda x: abs(x))+\\\n",
    "                        df_match_all_score_3['diff_sales_lable'].apply(lambda x: abs(x)/2)+\\\n",
    "                        df_match_all_score_3['diff_ratio_lable'].apply(lambda x: abs(x)/2)\n",
    "df_match_all_score_3=df_match_all_score_3.sort_values('score')   \n",
    "# df_match_all_score_3.to_csv(writer_folder+\"match_overall_score_3_all_Pramateters.csv\",index=False)\n",
    "df_match_all_copy=df_match_all_score_3.copy()\n",
    "\n",
    "selected_T=[]\n",
    "selected_C=[]\n",
    "df_selected_match=pd.DataFrame()\n",
    "i=0\n",
    "while i <100:\n",
    "    df_match_all_copy=df_match_all_copy[(~df_match_all_copy['T_location_id'].isin(selected_T)) & (~df_match_all_copy['C_location_id'].isin(selected_C))]\n",
    "    df=df_match_all_copy.head(1)\n",
    "    df_selected_match=df_selected_match.append(df)\n",
    "\n",
    "    selected_T=selected_T+[df['T_location_id'].unique().tolist()[0]]\n",
    "    selected_C=selected_T+[df['C_location_id'].unique().tolist()[0]]\n",
    "    i=i+1\n",
    "df_selected_match_score_3=df_selected_match.sort_values([\"T_Campaign_Type\",\"score\"])\n",
    "df_selected_match_score_3.to_csv(writer_folder+\"Score_3_selectet_top_100_match_pairs_0.05_Lable_\"+today_str+\".csv\")"
   ]
  },
  {
   "cell_type": "code",
   "execution_count": null,
   "metadata": {
    "collapsed": true
   },
   "outputs": [],
   "source": []
  },
  {
   "cell_type": "code",
   "execution_count": null,
   "metadata": {
    "collapsed": true
   },
   "outputs": [],
   "source": []
  }
 ],
 "metadata": {
  "kernelspec": {
   "display_name": "Python 3",
   "language": "python",
   "name": "python3"
  },
  "language_info": {
   "codemirror_mode": {
    "name": "ipython",
    "version": 3
   },
   "file_extension": ".py",
   "mimetype": "text/x-python",
   "name": "python",
   "nbconvert_exporter": "python",
   "pygments_lexer": "ipython3",
   "version": "3.6.1"
  }
 },
 "nbformat": 4,
 "nbformat_minor": 2
}
