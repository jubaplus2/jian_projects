{
 "cells": [
  {
   "cell_type": "code",
   "execution_count": 1,
   "metadata": {
    "collapsed": true
   },
   "outputs": [],
   "source": [
    "# 2 weeks together\n",
    "import pandas as pd\n",
    "import numpy as np\n",
    "import datetime\n",
    "import os\n",
    "# Add the new folders of Jian later"
   ]
  },
  {
   "cell_type": "code",
   "execution_count": 2,
   "metadata": {},
   "outputs": [
    {
     "data": {
      "text/plain": [
       "[datetime.date(2019, 11, 2), datetime.date(2019, 10, 26)]"
      ]
     },
     "execution_count": 2,
     "metadata": {},
     "output_type": "execute_result"
    }
   ],
   "source": [
    "def recursive_file_gen(my_root_dir):\n",
    "    for root, dirs, files in os.walk(my_root_dir):\n",
    "        for file in files:\n",
    "            yield os.path.join(root, file)\n",
    "            \n",
    "last_saturday=datetime.datetime.now().date()-datetime.timedelta(days=datetime.datetime.now().date().weekday()+2) #+7\n",
    "\n",
    "write_folder=\"/home/jian/celery/BiWeekly_New_SignUps/monthly_update/output_\"+str(last_saturday)+\"/\"\n",
    "try:\n",
    "    os.stat(write_folder)\n",
    "except:\n",
    "    os.mkdir(write_folder)\n",
    "\n",
    "week_beginning=last_saturday-datetime.timedelta(days=14) # To be changed to 14\n",
    "\n",
    "recent_2_weeks=[last_saturday-datetime.timedelta(days=x*7) for x in range(2)]\n",
    "recent_2_weeks"
   ]
  },
  {
   "cell_type": "code",
   "execution_count": 3,
   "metadata": {},
   "outputs": [
    {
     "name": "stdout",
     "output_type": "stream",
     "text": [
      "2\n"
     ]
    },
    {
     "name": "stderr",
     "output_type": "stream",
     "text": [
      "/home/jian/.local/lib/python3.6/site-packages/pandas/core/frame.py:7138: FutureWarning: Sorting because non-concatenation axis is not aligned. A future version\n",
      "of pandas will change to not sort by default.\n",
      "\n",
      "To accept the future behavior, pass 'sort=False'.\n",
      "\n",
      "To retain the current behavior and silence the warning, pass 'sort=True'.\n",
      "\n",
      "  sort=sort,\n"
     ]
    }
   ],
   "source": [
    "# Checking for the recent weeks that haven't moved to the folder\n",
    "possible_recent_folders=[\"/home/jian/BigLots/MediaStorm_\"+str(x)+\"/\" for x in recent_2_weeks]\n",
    "recent_file_list=[]\n",
    "for dirc in possible_recent_folders:\n",
    "    list_recent=[x for x in list(recursive_file_gen(dirc)) if (\"Master\" in x) & (\".txt\" in x) ]\n",
    "    recent_file_list=recent_file_list+list_recent\n",
    "recent_file_df=pd.DataFrame({\"path\":recent_file_list,\"date\":[datetime.datetime.strptime(x.split(\"MasterWeekly\")[1][:8],\"%Y%m%d\").date()-datetime.timedelta(days=3) for x in recent_file_list]},index=[x for x in range(len(recent_file_list))])\n",
    "\n",
    "\n",
    "list_1_after_201806=[x for x in list(recursive_file_gen(\"/home/jian/BigLots/2019_by_weeks/\")) if (\"Master\" in x) & (\".txt\" in x) ]\n",
    "folder_date=[datetime.datetime.strptime(x.split(\"/\")[len(x.split(\"/\"))-2].split(\"_\")[1],\"%Y-%m-%d\").date() for x in list_1_after_201806]\n",
    "df_1_after_201806=pd.DataFrame({\"date\":folder_date,\"path\":list_1_after_201806},index=[x for x in range(len(list_1_after_201806))])\n",
    "df_1_after_201806['date'].apply(lambda x: x.weekday()).unique()\n",
    "df_1_after_201806=df_1_after_201806.sort_values(\"date\").reset_index()\n",
    "df_1_after_201806=df_1_after_201806[df_1_after_201806['date']>week_beginning]\n",
    "del df_1_after_201806['index']\n",
    "\n",
    "new_2_biweekly_files=df_1_after_201806.append(recent_file_df)\n",
    "\n",
    "print(len(new_2_biweekly_files))\n",
    "new_2_biweekly_files=new_2_biweekly_files['path'].unique().tolist()"
   ]
  },
  {
   "cell_type": "code",
   "execution_count": 4,
   "metadata": {},
   "outputs": [
    {
     "data": {
      "text/plain": [
       "['/home/jian/BigLots/2019_by_weeks/MediaStorm_2019-10-26/MediaStormMasterWeekly20191029-111418-126.txt',\n",
       " '/home/jian/BigLots/MediaStorm_2019-11-02/MediaStormMasterWeekly20191105-111529-340.txt']"
      ]
     },
     "execution_count": 4,
     "metadata": {},
     "output_type": "execute_result"
    }
   ],
   "source": [
    "new_2_biweekly_files"
   ]
  },
  {
   "cell_type": "code",
   "execution_count": 5,
   "metadata": {},
   "outputs": [
    {
     "name": "stdout",
     "output_type": "stream",
     "text": [
      "(112905, 3)\n",
      "(230946, 3)\n",
      "230946\n",
      "230946\n"
     ]
    }
   ],
   "source": [
    "if len(new_2_biweekly_files)==2: # Changed to weekly\n",
    "    df_all_new_master = pd.DataFrame()\n",
    "    for file in new_2_biweekly_files:\n",
    "        df = pd.read_csv(file,nrows = None,sep= '|',usecols = ['customer_id_hashed','email_address_hash','customer_zip_code'],\n",
    "                         dtype =str)\n",
    "        df_all_new_master = df_all_new_master.append(df,ignore_index = True)\n",
    "        print(df_all_new_master.shape)\n",
    "    print(len(df_all_new_master.index))\n",
    "    df_all_new_master = df_all_new_master.drop_duplicates('email_address_hash')\n",
    "    print(len(df_all_new_master.index))\n"
   ]
  },
  {
   "cell_type": "code",
   "execution_count": 6,
   "metadata": {},
   "outputs": [
    {
     "name": "stdout",
     "output_type": "stream",
     "text": [
      "178\n"
     ]
    }
   ],
   "source": [
    "# Remove previous week ids\n",
    "\n",
    "previous_id_files_lists=list(recursive_file_gen(\"/home/jian/Projects/Big_Lots/Live_Ramp/Quarterly_Update_2019Q4/upload_files/\"))\n",
    "\n",
    "# previous_id_files_lists=[x for x in previous_id_files_lists if \"Copy of 48 Stores_727.csv\" not in x]\n",
    "previous_id_files_lists=[x for x in previous_id_files_lists if \".csv\" in x]\n",
    "print(len(previous_id_files_lists))"
   ]
  },
  {
   "cell_type": "code",
   "execution_count": 7,
   "metadata": {},
   "outputs": [
    {
     "data": {
      "text/plain": [
       "['/home/jian/Projects/Big_Lots/Live_Ramp/Quarterly_Update_2019Q4/upload_files/T_Active(0-12)_Score(H)_Density(H)_Legacy_HolidayShoppers_P_2019Q4_RFM.csv',\n",
       " '/home/jian/Projects/Big_Lots/Live_Ramp/Quarterly_Update_2019Q4/upload_files/T_Active(0-12)_Score(H)_Density(H)_Legacy_HolidayShoppers_S_2019Q4_RFM.csv',\n",
       " '/home/jian/Projects/Big_Lots/Live_Ramp/Quarterly_Update_2019Q4/upload_files/T_Active(0-12)_Score(H)_Density(H)_Legacy_Others_P_2019Q4_RFM.csv',\n",
       " '/home/jian/Projects/Big_Lots/Live_Ramp/Quarterly_Update_2019Q4/upload_files/T_Active(0-12)_Score(H)_Density(H)_Legacy_Others_S_2019Q4_RFM.csv',\n",
       " '/home/jian/Projects/Big_Lots/Live_Ramp/Quarterly_Update_2019Q4/upload_files/T_Active(0-12)_Score(H)_Density(H)_SOTF_HolidayShoppers_P_2019Q4_RFM.csv',\n",
       " '/home/jian/Projects/Big_Lots/Live_Ramp/Quarterly_Update_2019Q4/upload_files/T_Active(0-12)_Score(H)_Density(H)_SOTF_HolidayShoppers_S_2019Q4_RFM.csv',\n",
       " '/home/jian/Projects/Big_Lots/Live_Ramp/Quarterly_Update_2019Q4/upload_files/T_Active(0-12)_Score(H)_Density(H)_SOTF_Others_P_2019Q4_RFM.csv',\n",
       " '/home/jian/Projects/Big_Lots/Live_Ramp/Quarterly_Update_2019Q4/upload_files/T_Active(0-12)_Score(H)_Density(H)_SOTF_Others_S_2019Q4_RFM.csv',\n",
       " '/home/jian/Projects/Big_Lots/Live_Ramp/Quarterly_Update_2019Q4/upload_files/T_Active(0-12)_Score(H)_Density(L)_Legacy_HolidayShoppers_P_2019Q4_RFM.csv',\n",
       " '/home/jian/Projects/Big_Lots/Live_Ramp/Quarterly_Update_2019Q4/upload_files/T_Active(0-12)_Score(H)_Density(L)_Legacy_HolidayShoppers_S_2019Q4_RFM.csv',\n",
       " '/home/jian/Projects/Big_Lots/Live_Ramp/Quarterly_Update_2019Q4/upload_files/T_Active(0-12)_Score(H)_Density(L)_Legacy_Others_P_2019Q4_RFM.csv',\n",
       " '/home/jian/Projects/Big_Lots/Live_Ramp/Quarterly_Update_2019Q4/upload_files/T_Active(0-12)_Score(H)_Density(L)_Legacy_Others_S_2019Q4_RFM.csv',\n",
       " '/home/jian/Projects/Big_Lots/Live_Ramp/Quarterly_Update_2019Q4/upload_files/T_Active(0-12)_Score(H)_Density(L)_SOTF_HolidayShoppers_P_2019Q4_RFM.csv',\n",
       " '/home/jian/Projects/Big_Lots/Live_Ramp/Quarterly_Update_2019Q4/upload_files/T_Active(0-12)_Score(H)_Density(L)_SOTF_HolidayShoppers_S_2019Q4_RFM.csv',\n",
       " '/home/jian/Projects/Big_Lots/Live_Ramp/Quarterly_Update_2019Q4/upload_files/T_Active(0-12)_Score(H)_Density(L)_SOTF_Others_P_2019Q4_RFM.csv',\n",
       " '/home/jian/Projects/Big_Lots/Live_Ramp/Quarterly_Update_2019Q4/upload_files/T_Active(0-12)_Score(H)_Density(L)_SOTF_Others_S_2019Q4_RFM.csv',\n",
       " '/home/jian/Projects/Big_Lots/Live_Ramp/Quarterly_Update_2019Q4/upload_files/T_Active(0-12)_Score(H)_Density(M)_Legacy_HolidayShoppers_P_2019Q4_RFM.csv',\n",
       " '/home/jian/Projects/Big_Lots/Live_Ramp/Quarterly_Update_2019Q4/upload_files/T_Active(0-12)_Score(H)_Density(M)_Legacy_HolidayShoppers_S_2019Q4_RFM.csv',\n",
       " '/home/jian/Projects/Big_Lots/Live_Ramp/Quarterly_Update_2019Q4/upload_files/T_Active(0-12)_Score(H)_Density(M)_Legacy_Others_P_2019Q4_RFM.csv',\n",
       " '/home/jian/Projects/Big_Lots/Live_Ramp/Quarterly_Update_2019Q4/upload_files/T_Active(0-12)_Score(H)_Density(M)_Legacy_Others_S_2019Q4_RFM.csv',\n",
       " '/home/jian/Projects/Big_Lots/Live_Ramp/Quarterly_Update_2019Q4/upload_files/T_Active(0-12)_Score(H)_Density(M)_SOTF_HolidayShoppers_P_2019Q4_RFM.csv',\n",
       " '/home/jian/Projects/Big_Lots/Live_Ramp/Quarterly_Update_2019Q4/upload_files/T_Active(0-12)_Score(H)_Density(M)_SOTF_HolidayShoppers_S_2019Q4_RFM.csv',\n",
       " '/home/jian/Projects/Big_Lots/Live_Ramp/Quarterly_Update_2019Q4/upload_files/T_Active(0-12)_Score(H)_Density(M)_SOTF_Others_P_2019Q4_RFM.csv',\n",
       " '/home/jian/Projects/Big_Lots/Live_Ramp/Quarterly_Update_2019Q4/upload_files/T_Active(0-12)_Score(H)_Density(M)_SOTF_Others_S_2019Q4_RFM.csv',\n",
       " '/home/jian/Projects/Big_Lots/Live_Ramp/Quarterly_Update_2019Q4/upload_files/T_Active(0-12)_Score(L)_Density(H)_Legacy_HolidayShoppers_P_2019Q4_RFM.csv',\n",
       " '/home/jian/Projects/Big_Lots/Live_Ramp/Quarterly_Update_2019Q4/upload_files/T_Active(0-12)_Score(L)_Density(H)_Legacy_HolidayShoppers_S_2019Q4_RFM.csv',\n",
       " '/home/jian/Projects/Big_Lots/Live_Ramp/Quarterly_Update_2019Q4/upload_files/T_Active(0-12)_Score(L)_Density(H)_Legacy_Others_P_2019Q4_RFM.csv',\n",
       " '/home/jian/Projects/Big_Lots/Live_Ramp/Quarterly_Update_2019Q4/upload_files/T_Active(0-12)_Score(L)_Density(H)_Legacy_Others_S_2019Q4_RFM.csv',\n",
       " '/home/jian/Projects/Big_Lots/Live_Ramp/Quarterly_Update_2019Q4/upload_files/T_Active(0-12)_Score(L)_Density(H)_SOTF_HolidayShoppers_P_2019Q4_RFM.csv',\n",
       " '/home/jian/Projects/Big_Lots/Live_Ramp/Quarterly_Update_2019Q4/upload_files/T_Active(0-12)_Score(L)_Density(H)_SOTF_HolidayShoppers_S_2019Q4_RFM.csv',\n",
       " '/home/jian/Projects/Big_Lots/Live_Ramp/Quarterly_Update_2019Q4/upload_files/T_Active(0-12)_Score(L)_Density(H)_SOTF_Others_P_2019Q4_RFM.csv',\n",
       " '/home/jian/Projects/Big_Lots/Live_Ramp/Quarterly_Update_2019Q4/upload_files/T_Active(0-12)_Score(L)_Density(H)_SOTF_Others_S_2019Q4_RFM.csv',\n",
       " '/home/jian/Projects/Big_Lots/Live_Ramp/Quarterly_Update_2019Q4/upload_files/T_Active(0-12)_Score(L)_Density(L)_Legacy_HolidayShoppers_P_2019Q4_RFM.csv',\n",
       " '/home/jian/Projects/Big_Lots/Live_Ramp/Quarterly_Update_2019Q4/upload_files/T_Active(0-12)_Score(L)_Density(L)_Legacy_HolidayShoppers_S_2019Q4_RFM.csv',\n",
       " '/home/jian/Projects/Big_Lots/Live_Ramp/Quarterly_Update_2019Q4/upload_files/T_Active(0-12)_Score(L)_Density(L)_Legacy_Others_P_2019Q4_RFM.csv',\n",
       " '/home/jian/Projects/Big_Lots/Live_Ramp/Quarterly_Update_2019Q4/upload_files/T_Active(0-12)_Score(L)_Density(L)_Legacy_Others_S_2019Q4_RFM.csv',\n",
       " '/home/jian/Projects/Big_Lots/Live_Ramp/Quarterly_Update_2019Q4/upload_files/T_Active(0-12)_Score(L)_Density(L)_SOTF_HolidayShoppers_P_2019Q4_RFM.csv',\n",
       " '/home/jian/Projects/Big_Lots/Live_Ramp/Quarterly_Update_2019Q4/upload_files/T_Active(0-12)_Score(L)_Density(L)_SOTF_HolidayShoppers_S_2019Q4_RFM.csv',\n",
       " '/home/jian/Projects/Big_Lots/Live_Ramp/Quarterly_Update_2019Q4/upload_files/T_Active(0-12)_Score(L)_Density(L)_SOTF_Others_P_2019Q4_RFM.csv',\n",
       " '/home/jian/Projects/Big_Lots/Live_Ramp/Quarterly_Update_2019Q4/upload_files/T_Active(0-12)_Score(L)_Density(L)_SOTF_Others_S_2019Q4_RFM.csv',\n",
       " '/home/jian/Projects/Big_Lots/Live_Ramp/Quarterly_Update_2019Q4/upload_files/T_Active(0-12)_Score(L)_Density(M)_Legacy_HolidayShoppers_P_2019Q4_RFM.csv',\n",
       " '/home/jian/Projects/Big_Lots/Live_Ramp/Quarterly_Update_2019Q4/upload_files/T_Active(0-12)_Score(L)_Density(M)_Legacy_HolidayShoppers_S_2019Q4_RFM.csv',\n",
       " '/home/jian/Projects/Big_Lots/Live_Ramp/Quarterly_Update_2019Q4/upload_files/T_Active(0-12)_Score(L)_Density(M)_Legacy_Others_P_2019Q4_RFM.csv',\n",
       " '/home/jian/Projects/Big_Lots/Live_Ramp/Quarterly_Update_2019Q4/upload_files/T_Active(0-12)_Score(L)_Density(M)_Legacy_Others_S_2019Q4_RFM.csv',\n",
       " '/home/jian/Projects/Big_Lots/Live_Ramp/Quarterly_Update_2019Q4/upload_files/T_Active(0-12)_Score(L)_Density(M)_SOTF_HolidayShoppers_P_2019Q4_RFM.csv',\n",
       " '/home/jian/Projects/Big_Lots/Live_Ramp/Quarterly_Update_2019Q4/upload_files/T_Active(0-12)_Score(L)_Density(M)_SOTF_HolidayShoppers_S_2019Q4_RFM.csv',\n",
       " '/home/jian/Projects/Big_Lots/Live_Ramp/Quarterly_Update_2019Q4/upload_files/T_Active(0-12)_Score(L)_Density(M)_SOTF_Others_P_2019Q4_RFM.csv',\n",
       " '/home/jian/Projects/Big_Lots/Live_Ramp/Quarterly_Update_2019Q4/upload_files/T_Active(0-12)_Score(L)_Density(M)_SOTF_Others_S_2019Q4_RFM.csv',\n",
       " '/home/jian/Projects/Big_Lots/Live_Ramp/Quarterly_Update_2019Q4/upload_files/T_Active(0-12)_Score(M)_Density(H)_Legacy_HolidayShoppers_P_2019Q4_RFM.csv',\n",
       " '/home/jian/Projects/Big_Lots/Live_Ramp/Quarterly_Update_2019Q4/upload_files/T_Active(0-12)_Score(M)_Density(H)_Legacy_HolidayShoppers_S_2019Q4_RFM.csv',\n",
       " '/home/jian/Projects/Big_Lots/Live_Ramp/Quarterly_Update_2019Q4/upload_files/T_Active(0-12)_Score(M)_Density(H)_Legacy_Others_P_2019Q4_RFM.csv',\n",
       " '/home/jian/Projects/Big_Lots/Live_Ramp/Quarterly_Update_2019Q4/upload_files/T_Active(0-12)_Score(M)_Density(H)_Legacy_Others_S_2019Q4_RFM.csv',\n",
       " '/home/jian/Projects/Big_Lots/Live_Ramp/Quarterly_Update_2019Q4/upload_files/T_Active(0-12)_Score(M)_Density(H)_SOTF_HolidayShoppers_P_2019Q4_RFM.csv',\n",
       " '/home/jian/Projects/Big_Lots/Live_Ramp/Quarterly_Update_2019Q4/upload_files/T_Active(0-12)_Score(M)_Density(H)_SOTF_HolidayShoppers_S_2019Q4_RFM.csv',\n",
       " '/home/jian/Projects/Big_Lots/Live_Ramp/Quarterly_Update_2019Q4/upload_files/T_Active(0-12)_Score(M)_Density(H)_SOTF_Others_P_2019Q4_RFM.csv',\n",
       " '/home/jian/Projects/Big_Lots/Live_Ramp/Quarterly_Update_2019Q4/upload_files/T_Active(0-12)_Score(M)_Density(H)_SOTF_Others_S_2019Q4_RFM.csv',\n",
       " '/home/jian/Projects/Big_Lots/Live_Ramp/Quarterly_Update_2019Q4/upload_files/T_Active(0-12)_Score(M)_Density(L)_Legacy_HolidayShoppers_P_2019Q4_RFM.csv',\n",
       " '/home/jian/Projects/Big_Lots/Live_Ramp/Quarterly_Update_2019Q4/upload_files/T_Active(0-12)_Score(M)_Density(L)_Legacy_HolidayShoppers_S_2019Q4_RFM.csv',\n",
       " '/home/jian/Projects/Big_Lots/Live_Ramp/Quarterly_Update_2019Q4/upload_files/T_Active(0-12)_Score(M)_Density(L)_Legacy_Others_P_2019Q4_RFM.csv',\n",
       " '/home/jian/Projects/Big_Lots/Live_Ramp/Quarterly_Update_2019Q4/upload_files/T_Active(0-12)_Score(M)_Density(L)_Legacy_Others_S_2019Q4_RFM.csv',\n",
       " '/home/jian/Projects/Big_Lots/Live_Ramp/Quarterly_Update_2019Q4/upload_files/T_Active(0-12)_Score(M)_Density(L)_SOTF_HolidayShoppers_P_2019Q4_RFM.csv',\n",
       " '/home/jian/Projects/Big_Lots/Live_Ramp/Quarterly_Update_2019Q4/upload_files/T_Active(0-12)_Score(M)_Density(L)_SOTF_HolidayShoppers_S_2019Q4_RFM.csv',\n",
       " '/home/jian/Projects/Big_Lots/Live_Ramp/Quarterly_Update_2019Q4/upload_files/T_Active(0-12)_Score(M)_Density(L)_SOTF_Others_P_2019Q4_RFM.csv',\n",
       " '/home/jian/Projects/Big_Lots/Live_Ramp/Quarterly_Update_2019Q4/upload_files/T_Active(0-12)_Score(M)_Density(L)_SOTF_Others_S_2019Q4_RFM.csv',\n",
       " '/home/jian/Projects/Big_Lots/Live_Ramp/Quarterly_Update_2019Q4/upload_files/T_Active(0-12)_Score(M)_Density(M)_Legacy_HolidayShoppers_P_2019Q4_RFM.csv',\n",
       " '/home/jian/Projects/Big_Lots/Live_Ramp/Quarterly_Update_2019Q4/upload_files/T_Active(0-12)_Score(M)_Density(M)_Legacy_HolidayShoppers_S_2019Q4_RFM.csv',\n",
       " '/home/jian/Projects/Big_Lots/Live_Ramp/Quarterly_Update_2019Q4/upload_files/T_Active(0-12)_Score(M)_Density(M)_Legacy_Others_P_2019Q4_RFM.csv',\n",
       " '/home/jian/Projects/Big_Lots/Live_Ramp/Quarterly_Update_2019Q4/upload_files/T_Active(0-12)_Score(M)_Density(M)_Legacy_Others_S_2019Q4_RFM.csv',\n",
       " '/home/jian/Projects/Big_Lots/Live_Ramp/Quarterly_Update_2019Q4/upload_files/T_Active(0-12)_Score(M)_Density(M)_SOTF_HolidayShoppers_P_2019Q4_RFM.csv',\n",
       " '/home/jian/Projects/Big_Lots/Live_Ramp/Quarterly_Update_2019Q4/upload_files/T_Active(0-12)_Score(M)_Density(M)_SOTF_HolidayShoppers_S_2019Q4_RFM.csv',\n",
       " '/home/jian/Projects/Big_Lots/Live_Ramp/Quarterly_Update_2019Q4/upload_files/T_Active(0-12)_Score(M)_Density(M)_SOTF_Others_P_2019Q4_RFM.csv',\n",
       " '/home/jian/Projects/Big_Lots/Live_Ramp/Quarterly_Update_2019Q4/upload_files/T_Active(0-12)_Score(M)_Density(M)_SOTF_Others_S_2019Q4_RFM.csv',\n",
       " '/home/jian/Projects/Big_Lots/Live_Ramp/Quarterly_Update_2019Q4/upload_files/T_Lapsed(13-18)_Score(L)_Density(H)_Legacy_AllExpCluster_P_2019Q4_RFM.csv',\n",
       " '/home/jian/Projects/Big_Lots/Live_Ramp/Quarterly_Update_2019Q4/upload_files/T_Lapsed(13-18)_Score(L)_Density(H)_Legacy_AllExpCluster_S_2019Q4_RFM.csv',\n",
       " '/home/jian/Projects/Big_Lots/Live_Ramp/Quarterly_Update_2019Q4/upload_files/T_Lapsed(13-18)_Score(L)_Density(H)_SOTF_AllExpCluster_P_2019Q4_RFM.csv',\n",
       " '/home/jian/Projects/Big_Lots/Live_Ramp/Quarterly_Update_2019Q4/upload_files/T_Lapsed(13-18)_Score(L)_Density(H)_SOTF_AllExpCluster_S_2019Q4_RFM.csv',\n",
       " '/home/jian/Projects/Big_Lots/Live_Ramp/Quarterly_Update_2019Q4/upload_files/T_Lapsed(13-18)_Score(L)_Density(L)_Legacy_AllExpCluster_P_2019Q4_RFM.csv',\n",
       " '/home/jian/Projects/Big_Lots/Live_Ramp/Quarterly_Update_2019Q4/upload_files/T_Lapsed(13-18)_Score(L)_Density(L)_Legacy_AllExpCluster_S_2019Q4_RFM.csv',\n",
       " '/home/jian/Projects/Big_Lots/Live_Ramp/Quarterly_Update_2019Q4/upload_files/T_Lapsed(13-18)_Score(L)_Density(L)_SOTF_AllExpCluster_P_2019Q4_RFM.csv',\n",
       " '/home/jian/Projects/Big_Lots/Live_Ramp/Quarterly_Update_2019Q4/upload_files/T_Lapsed(13-18)_Score(L)_Density(L)_SOTF_AllExpCluster_S_2019Q4_RFM.csv',\n",
       " '/home/jian/Projects/Big_Lots/Live_Ramp/Quarterly_Update_2019Q4/upload_files/T_Lapsed(13-18)_Score(L)_Density(M)_Legacy_AllExpCluster_P_2019Q4_RFM.csv',\n",
       " '/home/jian/Projects/Big_Lots/Live_Ramp/Quarterly_Update_2019Q4/upload_files/T_Lapsed(13-18)_Score(L)_Density(M)_Legacy_AllExpCluster_S_2019Q4_RFM.csv',\n",
       " '/home/jian/Projects/Big_Lots/Live_Ramp/Quarterly_Update_2019Q4/upload_files/T_Lapsed(13-18)_Score(L)_Density(M)_SOTF_AllExpCluster_P_2019Q4_RFM.csv',\n",
       " '/home/jian/Projects/Big_Lots/Live_Ramp/Quarterly_Update_2019Q4/upload_files/T_Lapsed(13-18)_Score(L)_Density(M)_SOTF_AllExpCluster_S_2019Q4_RFM.csv',\n",
       " '/home/jian/Projects/Big_Lots/Live_Ramp/Quarterly_Update_2019Q4/upload_files/C_Active(0-12)_Score(H)_Density(H)_Legacy_HolidayShoppers_P_2019Q4_RFM.csv',\n",
       " '/home/jian/Projects/Big_Lots/Live_Ramp/Quarterly_Update_2019Q4/upload_files/C_Active(0-12)_Score(H)_Density(H)_Legacy_HolidayShoppers_S_2019Q4_RFM.csv',\n",
       " '/home/jian/Projects/Big_Lots/Live_Ramp/Quarterly_Update_2019Q4/upload_files/C_Active(0-12)_Score(H)_Density(H)_Legacy_Others_P_2019Q4_RFM.csv',\n",
       " '/home/jian/Projects/Big_Lots/Live_Ramp/Quarterly_Update_2019Q4/upload_files/C_Active(0-12)_Score(H)_Density(H)_Legacy_Others_S_2019Q4_RFM.csv',\n",
       " '/home/jian/Projects/Big_Lots/Live_Ramp/Quarterly_Update_2019Q4/upload_files/C_Active(0-12)_Score(H)_Density(H)_SOTF_HolidayShoppers_P_2019Q4_RFM.csv',\n",
       " '/home/jian/Projects/Big_Lots/Live_Ramp/Quarterly_Update_2019Q4/upload_files/C_Active(0-12)_Score(H)_Density(H)_SOTF_HolidayShoppers_S_2019Q4_RFM.csv',\n",
       " '/home/jian/Projects/Big_Lots/Live_Ramp/Quarterly_Update_2019Q4/upload_files/C_Active(0-12)_Score(H)_Density(H)_SOTF_Others_P_2019Q4_RFM.csv',\n",
       " '/home/jian/Projects/Big_Lots/Live_Ramp/Quarterly_Update_2019Q4/upload_files/C_Active(0-12)_Score(H)_Density(H)_SOTF_Others_S_2019Q4_RFM.csv',\n",
       " '/home/jian/Projects/Big_Lots/Live_Ramp/Quarterly_Update_2019Q4/upload_files/C_Active(0-12)_Score(H)_Density(L)_Legacy_HolidayShoppers_P_2019Q4_RFM.csv',\n",
       " '/home/jian/Projects/Big_Lots/Live_Ramp/Quarterly_Update_2019Q4/upload_files/C_Active(0-12)_Score(H)_Density(L)_Legacy_HolidayShoppers_S_2019Q4_RFM.csv',\n",
       " '/home/jian/Projects/Big_Lots/Live_Ramp/Quarterly_Update_2019Q4/upload_files/C_Active(0-12)_Score(H)_Density(L)_Legacy_Others_P_2019Q4_RFM.csv',\n",
       " '/home/jian/Projects/Big_Lots/Live_Ramp/Quarterly_Update_2019Q4/upload_files/C_Active(0-12)_Score(H)_Density(L)_Legacy_Others_S_2019Q4_RFM.csv',\n",
       " '/home/jian/Projects/Big_Lots/Live_Ramp/Quarterly_Update_2019Q4/upload_files/C_Active(0-12)_Score(H)_Density(L)_SOTF_HolidayShoppers_P_2019Q4_RFM.csv',\n",
       " '/home/jian/Projects/Big_Lots/Live_Ramp/Quarterly_Update_2019Q4/upload_files/C_Active(0-12)_Score(H)_Density(L)_SOTF_HolidayShoppers_S_2019Q4_RFM.csv',\n",
       " '/home/jian/Projects/Big_Lots/Live_Ramp/Quarterly_Update_2019Q4/upload_files/C_Active(0-12)_Score(H)_Density(L)_SOTF_Others_P_2019Q4_RFM.csv',\n",
       " '/home/jian/Projects/Big_Lots/Live_Ramp/Quarterly_Update_2019Q4/upload_files/C_Active(0-12)_Score(H)_Density(L)_SOTF_Others_S_2019Q4_RFM.csv',\n",
       " '/home/jian/Projects/Big_Lots/Live_Ramp/Quarterly_Update_2019Q4/upload_files/C_Active(0-12)_Score(H)_Density(M)_Legacy_HolidayShoppers_P_2019Q4_RFM.csv',\n",
       " '/home/jian/Projects/Big_Lots/Live_Ramp/Quarterly_Update_2019Q4/upload_files/C_Active(0-12)_Score(H)_Density(M)_Legacy_HolidayShoppers_S_2019Q4_RFM.csv',\n",
       " '/home/jian/Projects/Big_Lots/Live_Ramp/Quarterly_Update_2019Q4/upload_files/C_Active(0-12)_Score(H)_Density(M)_Legacy_Others_P_2019Q4_RFM.csv',\n",
       " '/home/jian/Projects/Big_Lots/Live_Ramp/Quarterly_Update_2019Q4/upload_files/C_Active(0-12)_Score(H)_Density(M)_Legacy_Others_S_2019Q4_RFM.csv',\n",
       " '/home/jian/Projects/Big_Lots/Live_Ramp/Quarterly_Update_2019Q4/upload_files/C_Active(0-12)_Score(H)_Density(M)_SOTF_HolidayShoppers_P_2019Q4_RFM.csv',\n",
       " '/home/jian/Projects/Big_Lots/Live_Ramp/Quarterly_Update_2019Q4/upload_files/C_Active(0-12)_Score(H)_Density(M)_SOTF_HolidayShoppers_S_2019Q4_RFM.csv',\n",
       " '/home/jian/Projects/Big_Lots/Live_Ramp/Quarterly_Update_2019Q4/upload_files/C_Active(0-12)_Score(H)_Density(M)_SOTF_Others_P_2019Q4_RFM.csv',\n",
       " '/home/jian/Projects/Big_Lots/Live_Ramp/Quarterly_Update_2019Q4/upload_files/C_Active(0-12)_Score(H)_Density(M)_SOTF_Others_S_2019Q4_RFM.csv',\n",
       " '/home/jian/Projects/Big_Lots/Live_Ramp/Quarterly_Update_2019Q4/upload_files/C_Active(0-12)_Score(L)_Density(H)_Legacy_HolidayShoppers_P_2019Q4_RFM.csv',\n",
       " '/home/jian/Projects/Big_Lots/Live_Ramp/Quarterly_Update_2019Q4/upload_files/C_Active(0-12)_Score(L)_Density(H)_Legacy_HolidayShoppers_S_2019Q4_RFM.csv',\n",
       " '/home/jian/Projects/Big_Lots/Live_Ramp/Quarterly_Update_2019Q4/upload_files/C_Active(0-12)_Score(L)_Density(H)_Legacy_Others_P_2019Q4_RFM.csv',\n",
       " '/home/jian/Projects/Big_Lots/Live_Ramp/Quarterly_Update_2019Q4/upload_files/C_Active(0-12)_Score(L)_Density(H)_Legacy_Others_S_2019Q4_RFM.csv',\n",
       " '/home/jian/Projects/Big_Lots/Live_Ramp/Quarterly_Update_2019Q4/upload_files/C_Active(0-12)_Score(L)_Density(H)_SOTF_HolidayShoppers_P_2019Q4_RFM.csv',\n",
       " '/home/jian/Projects/Big_Lots/Live_Ramp/Quarterly_Update_2019Q4/upload_files/C_Active(0-12)_Score(L)_Density(H)_SOTF_HolidayShoppers_S_2019Q4_RFM.csv',\n",
       " '/home/jian/Projects/Big_Lots/Live_Ramp/Quarterly_Update_2019Q4/upload_files/C_Active(0-12)_Score(L)_Density(H)_SOTF_Others_P_2019Q4_RFM.csv',\n",
       " '/home/jian/Projects/Big_Lots/Live_Ramp/Quarterly_Update_2019Q4/upload_files/C_Active(0-12)_Score(L)_Density(H)_SOTF_Others_S_2019Q4_RFM.csv',\n",
       " '/home/jian/Projects/Big_Lots/Live_Ramp/Quarterly_Update_2019Q4/upload_files/C_Active(0-12)_Score(L)_Density(L)_Legacy_HolidayShoppers_P_2019Q4_RFM.csv',\n",
       " '/home/jian/Projects/Big_Lots/Live_Ramp/Quarterly_Update_2019Q4/upload_files/C_Active(0-12)_Score(L)_Density(L)_Legacy_HolidayShoppers_S_2019Q4_RFM.csv',\n",
       " '/home/jian/Projects/Big_Lots/Live_Ramp/Quarterly_Update_2019Q4/upload_files/C_Active(0-12)_Score(L)_Density(L)_Legacy_Others_P_2019Q4_RFM.csv',\n",
       " '/home/jian/Projects/Big_Lots/Live_Ramp/Quarterly_Update_2019Q4/upload_files/C_Active(0-12)_Score(L)_Density(L)_Legacy_Others_S_2019Q4_RFM.csv',\n",
       " '/home/jian/Projects/Big_Lots/Live_Ramp/Quarterly_Update_2019Q4/upload_files/C_Active(0-12)_Score(L)_Density(L)_SOTF_HolidayShoppers_P_2019Q4_RFM.csv',\n",
       " '/home/jian/Projects/Big_Lots/Live_Ramp/Quarterly_Update_2019Q4/upload_files/C_Active(0-12)_Score(L)_Density(L)_SOTF_HolidayShoppers_S_2019Q4_RFM.csv',\n",
       " '/home/jian/Projects/Big_Lots/Live_Ramp/Quarterly_Update_2019Q4/upload_files/C_Active(0-12)_Score(L)_Density(L)_SOTF_Others_P_2019Q4_RFM.csv',\n",
       " '/home/jian/Projects/Big_Lots/Live_Ramp/Quarterly_Update_2019Q4/upload_files/C_Active(0-12)_Score(L)_Density(L)_SOTF_Others_S_2019Q4_RFM.csv',\n",
       " '/home/jian/Projects/Big_Lots/Live_Ramp/Quarterly_Update_2019Q4/upload_files/C_Active(0-12)_Score(L)_Density(M)_Legacy_HolidayShoppers_P_2019Q4_RFM.csv',\n",
       " '/home/jian/Projects/Big_Lots/Live_Ramp/Quarterly_Update_2019Q4/upload_files/C_Active(0-12)_Score(L)_Density(M)_Legacy_HolidayShoppers_S_2019Q4_RFM.csv',\n",
       " '/home/jian/Projects/Big_Lots/Live_Ramp/Quarterly_Update_2019Q4/upload_files/C_Active(0-12)_Score(L)_Density(M)_Legacy_Others_P_2019Q4_RFM.csv',\n",
       " '/home/jian/Projects/Big_Lots/Live_Ramp/Quarterly_Update_2019Q4/upload_files/C_Active(0-12)_Score(L)_Density(M)_Legacy_Others_S_2019Q4_RFM.csv',\n",
       " '/home/jian/Projects/Big_Lots/Live_Ramp/Quarterly_Update_2019Q4/upload_files/C_Active(0-12)_Score(L)_Density(M)_SOTF_HolidayShoppers_P_2019Q4_RFM.csv',\n",
       " '/home/jian/Projects/Big_Lots/Live_Ramp/Quarterly_Update_2019Q4/upload_files/C_Active(0-12)_Score(L)_Density(M)_SOTF_HolidayShoppers_S_2019Q4_RFM.csv',\n",
       " '/home/jian/Projects/Big_Lots/Live_Ramp/Quarterly_Update_2019Q4/upload_files/C_Active(0-12)_Score(L)_Density(M)_SOTF_Others_P_2019Q4_RFM.csv',\n",
       " '/home/jian/Projects/Big_Lots/Live_Ramp/Quarterly_Update_2019Q4/upload_files/C_Active(0-12)_Score(L)_Density(M)_SOTF_Others_S_2019Q4_RFM.csv',\n",
       " '/home/jian/Projects/Big_Lots/Live_Ramp/Quarterly_Update_2019Q4/upload_files/C_Active(0-12)_Score(M)_Density(H)_Legacy_HolidayShoppers_P_2019Q4_RFM.csv',\n",
       " '/home/jian/Projects/Big_Lots/Live_Ramp/Quarterly_Update_2019Q4/upload_files/C_Active(0-12)_Score(M)_Density(H)_Legacy_HolidayShoppers_S_2019Q4_RFM.csv',\n",
       " '/home/jian/Projects/Big_Lots/Live_Ramp/Quarterly_Update_2019Q4/upload_files/C_Active(0-12)_Score(M)_Density(H)_Legacy_Others_P_2019Q4_RFM.csv',\n",
       " '/home/jian/Projects/Big_Lots/Live_Ramp/Quarterly_Update_2019Q4/upload_files/C_Active(0-12)_Score(M)_Density(H)_Legacy_Others_S_2019Q4_RFM.csv',\n",
       " '/home/jian/Projects/Big_Lots/Live_Ramp/Quarterly_Update_2019Q4/upload_files/C_Active(0-12)_Score(M)_Density(H)_SOTF_HolidayShoppers_P_2019Q4_RFM.csv',\n",
       " '/home/jian/Projects/Big_Lots/Live_Ramp/Quarterly_Update_2019Q4/upload_files/C_Active(0-12)_Score(M)_Density(H)_SOTF_HolidayShoppers_S_2019Q4_RFM.csv',\n",
       " '/home/jian/Projects/Big_Lots/Live_Ramp/Quarterly_Update_2019Q4/upload_files/C_Active(0-12)_Score(M)_Density(H)_SOTF_Others_P_2019Q4_RFM.csv',\n",
       " '/home/jian/Projects/Big_Lots/Live_Ramp/Quarterly_Update_2019Q4/upload_files/C_Active(0-12)_Score(M)_Density(H)_SOTF_Others_S_2019Q4_RFM.csv',\n",
       " '/home/jian/Projects/Big_Lots/Live_Ramp/Quarterly_Update_2019Q4/upload_files/C_Active(0-12)_Score(M)_Density(L)_Legacy_HolidayShoppers_P_2019Q4_RFM.csv',\n",
       " '/home/jian/Projects/Big_Lots/Live_Ramp/Quarterly_Update_2019Q4/upload_files/C_Active(0-12)_Score(M)_Density(L)_Legacy_HolidayShoppers_S_2019Q4_RFM.csv',\n",
       " '/home/jian/Projects/Big_Lots/Live_Ramp/Quarterly_Update_2019Q4/upload_files/C_Active(0-12)_Score(M)_Density(L)_Legacy_Others_P_2019Q4_RFM.csv',\n",
       " '/home/jian/Projects/Big_Lots/Live_Ramp/Quarterly_Update_2019Q4/upload_files/C_Active(0-12)_Score(M)_Density(L)_Legacy_Others_S_2019Q4_RFM.csv',\n",
       " '/home/jian/Projects/Big_Lots/Live_Ramp/Quarterly_Update_2019Q4/upload_files/C_Active(0-12)_Score(M)_Density(L)_SOTF_HolidayShoppers_P_2019Q4_RFM.csv',\n",
       " '/home/jian/Projects/Big_Lots/Live_Ramp/Quarterly_Update_2019Q4/upload_files/C_Active(0-12)_Score(M)_Density(L)_SOTF_HolidayShoppers_S_2019Q4_RFM.csv',\n",
       " '/home/jian/Projects/Big_Lots/Live_Ramp/Quarterly_Update_2019Q4/upload_files/C_Active(0-12)_Score(M)_Density(L)_SOTF_Others_P_2019Q4_RFM.csv',\n",
       " '/home/jian/Projects/Big_Lots/Live_Ramp/Quarterly_Update_2019Q4/upload_files/C_Active(0-12)_Score(M)_Density(L)_SOTF_Others_S_2019Q4_RFM.csv',\n",
       " '/home/jian/Projects/Big_Lots/Live_Ramp/Quarterly_Update_2019Q4/upload_files/C_Active(0-12)_Score(M)_Density(M)_Legacy_HolidayShoppers_P_2019Q4_RFM.csv',\n",
       " '/home/jian/Projects/Big_Lots/Live_Ramp/Quarterly_Update_2019Q4/upload_files/C_Active(0-12)_Score(M)_Density(M)_Legacy_HolidayShoppers_S_2019Q4_RFM.csv',\n",
       " '/home/jian/Projects/Big_Lots/Live_Ramp/Quarterly_Update_2019Q4/upload_files/C_Active(0-12)_Score(M)_Density(M)_Legacy_Others_P_2019Q4_RFM.csv',\n",
       " '/home/jian/Projects/Big_Lots/Live_Ramp/Quarterly_Update_2019Q4/upload_files/C_Active(0-12)_Score(M)_Density(M)_Legacy_Others_S_2019Q4_RFM.csv',\n",
       " '/home/jian/Projects/Big_Lots/Live_Ramp/Quarterly_Update_2019Q4/upload_files/C_Active(0-12)_Score(M)_Density(M)_SOTF_HolidayShoppers_P_2019Q4_RFM.csv',\n",
       " '/home/jian/Projects/Big_Lots/Live_Ramp/Quarterly_Update_2019Q4/upload_files/C_Active(0-12)_Score(M)_Density(M)_SOTF_HolidayShoppers_S_2019Q4_RFM.csv',\n",
       " '/home/jian/Projects/Big_Lots/Live_Ramp/Quarterly_Update_2019Q4/upload_files/C_Active(0-12)_Score(M)_Density(M)_SOTF_Others_P_2019Q4_RFM.csv',\n",
       " '/home/jian/Projects/Big_Lots/Live_Ramp/Quarterly_Update_2019Q4/upload_files/C_Active(0-12)_Score(M)_Density(M)_SOTF_Others_S_2019Q4_RFM.csv',\n",
       " '/home/jian/Projects/Big_Lots/Live_Ramp/Quarterly_Update_2019Q4/upload_files/C_Lapsed(13-18)_Score(L)_Density(H)_Legacy_AllExpCluster_P_2019Q4_RFM.csv',\n",
       " '/home/jian/Projects/Big_Lots/Live_Ramp/Quarterly_Update_2019Q4/upload_files/C_Lapsed(13-18)_Score(L)_Density(H)_Legacy_AllExpCluster_S_2019Q4_RFM.csv',\n",
       " '/home/jian/Projects/Big_Lots/Live_Ramp/Quarterly_Update_2019Q4/upload_files/C_Lapsed(13-18)_Score(L)_Density(H)_SOTF_AllExpCluster_P_2019Q4_RFM.csv',\n",
       " '/home/jian/Projects/Big_Lots/Live_Ramp/Quarterly_Update_2019Q4/upload_files/C_Lapsed(13-18)_Score(L)_Density(H)_SOTF_AllExpCluster_S_2019Q4_RFM.csv',\n",
       " '/home/jian/Projects/Big_Lots/Live_Ramp/Quarterly_Update_2019Q4/upload_files/C_Lapsed(13-18)_Score(L)_Density(L)_Legacy_AllExpCluster_P_2019Q4_RFM.csv',\n",
       " '/home/jian/Projects/Big_Lots/Live_Ramp/Quarterly_Update_2019Q4/upload_files/C_Lapsed(13-18)_Score(L)_Density(L)_Legacy_AllExpCluster_S_2019Q4_RFM.csv',\n",
       " '/home/jian/Projects/Big_Lots/Live_Ramp/Quarterly_Update_2019Q4/upload_files/C_Lapsed(13-18)_Score(L)_Density(L)_SOTF_AllExpCluster_P_2019Q4_RFM.csv',\n",
       " '/home/jian/Projects/Big_Lots/Live_Ramp/Quarterly_Update_2019Q4/upload_files/C_Lapsed(13-18)_Score(L)_Density(L)_SOTF_AllExpCluster_S_2019Q4_RFM.csv',\n",
       " '/home/jian/Projects/Big_Lots/Live_Ramp/Quarterly_Update_2019Q4/upload_files/C_Lapsed(13-18)_Score(L)_Density(M)_Legacy_AllExpCluster_P_2019Q4_RFM.csv',\n",
       " '/home/jian/Projects/Big_Lots/Live_Ramp/Quarterly_Update_2019Q4/upload_files/C_Lapsed(13-18)_Score(L)_Density(M)_Legacy_AllExpCluster_S_2019Q4_RFM.csv',\n",
       " '/home/jian/Projects/Big_Lots/Live_Ramp/Quarterly_Update_2019Q4/upload_files/C_Lapsed(13-18)_Score(L)_Density(M)_SOTF_AllExpCluster_P_2019Q4_RFM.csv',\n",
       " '/home/jian/Projects/Big_Lots/Live_Ramp/Quarterly_Update_2019Q4/upload_files/C_Lapsed(13-18)_Score(L)_Density(M)_SOTF_AllExpCluster_S_2019Q4_RFM.csv',\n",
       " '/home/jian/Projects/Big_Lots/Live_Ramp/Quarterly_Update_2019Q4/upload_files/T_Lapsed(19-48)_Density(H)_Legacy_AllExpCluster_P_2019Q4_Lapsed.csv',\n",
       " '/home/jian/Projects/Big_Lots/Live_Ramp/Quarterly_Update_2019Q4/upload_files/T_Lapsed(19-48)_Density(L)_Legacy_AllExpCluster_P_2019Q4_Lapsed.csv',\n",
       " '/home/jian/Projects/Big_Lots/Live_Ramp/Quarterly_Update_2019Q4/upload_files/T_Lapsed(19-48)_Density(L)_SOTF_AllExpCluster_P_2019Q4_Lapsed.csv',\n",
       " '/home/jian/Projects/Big_Lots/Live_Ramp/Quarterly_Update_2019Q4/upload_files/T_Lapsed(19-48)_Density(M)_Legacy_AllExpCluster_P_2019Q4_Lapsed.csv',\n",
       " '/home/jian/Projects/Big_Lots/Live_Ramp/Quarterly_Update_2019Q4/upload_files/T_Lapsed(19-48)_Density(M)_SOTF_AllExpCluster_P_2019Q4_Lapsed.csv',\n",
       " '/home/jian/Projects/Big_Lots/Live_Ramp/Quarterly_Update_2019Q4/upload_files/C_Lapsed(19-48)_Density(H)_Legacy_AllExpCluster_P_2019Q4_Lapsed.csv',\n",
       " '/home/jian/Projects/Big_Lots/Live_Ramp/Quarterly_Update_2019Q4/upload_files/C_Lapsed(19-48)_Density(L)_Legacy_AllExpCluster_P_2019Q4_Lapsed.csv',\n",
       " '/home/jian/Projects/Big_Lots/Live_Ramp/Quarterly_Update_2019Q4/upload_files/C_Lapsed(19-48)_Density(L)_SOTF_AllExpCluster_P_2019Q4_Lapsed.csv',\n",
       " '/home/jian/Projects/Big_Lots/Live_Ramp/Quarterly_Update_2019Q4/upload_files/C_Lapsed(19-48)_Density(M)_Legacy_AllExpCluster_P_2019Q4_Lapsed.csv',\n",
       " '/home/jian/Projects/Big_Lots/Live_Ramp/Quarterly_Update_2019Q4/upload_files/C_Lapsed(19-48)_Density(M)_SOTF_AllExpCluster_P_2019Q4_Lapsed.csv']"
      ]
     },
     "execution_count": 7,
     "metadata": {},
     "output_type": "execute_result"
    }
   ],
   "source": [
    "previous_id_files_lists"
   ]
  },
  {
   "cell_type": "code",
   "execution_count": 8,
   "metadata": {},
   "outputs": [
    {
     "name": "stdout",
     "output_type": "stream",
     "text": [
      "len(uploaded_new_seg)54\n"
     ]
    }
   ],
   "source": [
    "import glob\n",
    "uploaded_new_seg=list(recursive_file_gen(\"/home/jian/celery/BiWeekly_New_SignUps/monthly_update/\"))\n",
    "uploaded_new_seg=[x for x in uploaded_new_seg if \".csv\" in x]\n",
    "print(\"len(uploaded_new_seg)\"+str(len(uploaded_new_seg)))\n",
    "previous_id_files_lists=previous_id_files_lists+uploaded_new_seg"
   ]
  },
  {
   "cell_type": "code",
   "execution_count": 9,
   "metadata": {
    "collapsed": true
   },
   "outputs": [],
   "source": [
    "# Exclude the quarterly regular segments\n"
   ]
  },
  {
   "cell_type": "code",
   "execution_count": 10,
   "metadata": {},
   "outputs": [
    {
     "name": "stdout",
     "output_type": "stream",
     "text": [
      "2019-11-06 10:39:07.227461 230946 /home/jian/Projects/Big_Lots/Live_Ramp/Quarterly_Update_2019Q4/upload_files/T_Active(0-12)_Score(H)_Density(H)_Legacy_HolidayShoppers_P_2019Q4_RFM.csv\n",
      "2019-11-06 10:39:08.164003 230946 /home/jian/Projects/Big_Lots/Live_Ramp/Quarterly_Update_2019Q4/upload_files/T_Active(0-12)_Score(H)_Density(H)_Legacy_HolidayShoppers_S_2019Q4_RFM.csv\n",
      "2019-11-06 10:39:45.147404 230945 /home/jian/Projects/Big_Lots/Live_Ramp/Quarterly_Update_2019Q4/upload_files/T_Active(0-12)_Score(H)_Density(H)_Legacy_Others_P_2019Q4_RFM.csv\n",
      "2019-11-06 10:39:54.285517 230945 /home/jian/Projects/Big_Lots/Live_Ramp/Quarterly_Update_2019Q4/upload_files/T_Active(0-12)_Score(H)_Density(H)_Legacy_Others_S_2019Q4_RFM.csv\n",
      "2019-11-06 10:39:57.294499 230945 /home/jian/Projects/Big_Lots/Live_Ramp/Quarterly_Update_2019Q4/upload_files/T_Active(0-12)_Score(H)_Density(H)_SOTF_HolidayShoppers_P_2019Q4_RFM.csv\n",
      "2019-11-06 10:39:57.363208 230945 /home/jian/Projects/Big_Lots/Live_Ramp/Quarterly_Update_2019Q4/upload_files/T_Active(0-12)_Score(H)_Density(H)_SOTF_HolidayShoppers_S_2019Q4_RFM.csv\n",
      "2019-11-06 10:39:57.471930 230944 /home/jian/Projects/Big_Lots/Live_Ramp/Quarterly_Update_2019Q4/upload_files/T_Active(0-12)_Score(H)_Density(H)_SOTF_Others_P_2019Q4_RFM.csv\n",
      "2019-11-06 10:39:57.532785 230944 /home/jian/Projects/Big_Lots/Live_Ramp/Quarterly_Update_2019Q4/upload_files/T_Active(0-12)_Score(H)_Density(H)_SOTF_Others_S_2019Q4_RFM.csv\n",
      "2019-11-06 10:39:57.573143 230944 /home/jian/Projects/Big_Lots/Live_Ramp/Quarterly_Update_2019Q4/upload_files/T_Active(0-12)_Score(H)_Density(L)_Legacy_HolidayShoppers_P_2019Q4_RFM.csv\n",
      "2019-11-06 10:39:57.618975 230944 /home/jian/Projects/Big_Lots/Live_Ramp/Quarterly_Update_2019Q4/upload_files/T_Active(0-12)_Score(H)_Density(L)_Legacy_HolidayShoppers_S_2019Q4_RFM.csv\n",
      "2019-11-06 10:39:57.688251 230944 /home/jian/Projects/Big_Lots/Live_Ramp/Quarterly_Update_2019Q4/upload_files/T_Active(0-12)_Score(H)_Density(L)_Legacy_Others_P_2019Q4_RFM.csv\n",
      "2019-11-06 10:39:59.997288 230944 /home/jian/Projects/Big_Lots/Live_Ramp/Quarterly_Update_2019Q4/upload_files/T_Active(0-12)_Score(H)_Density(L)_Legacy_Others_S_2019Q4_RFM.csv\n",
      "2019-11-06 10:40:00.485271 230944 /home/jian/Projects/Big_Lots/Live_Ramp/Quarterly_Update_2019Q4/upload_files/T_Active(0-12)_Score(H)_Density(L)_SOTF_HolidayShoppers_P_2019Q4_RFM.csv\n",
      "2019-11-06 10:40:00.721927 230944 /home/jian/Projects/Big_Lots/Live_Ramp/Quarterly_Update_2019Q4/upload_files/T_Active(0-12)_Score(H)_Density(L)_SOTF_HolidayShoppers_S_2019Q4_RFM.csv\n",
      "2019-11-06 10:40:19.630752 230942 /home/jian/Projects/Big_Lots/Live_Ramp/Quarterly_Update_2019Q4/upload_files/T_Active(0-12)_Score(H)_Density(L)_SOTF_Others_P_2019Q4_RFM.csv\n",
      "2019-11-06 10:40:25.673634 230942 /home/jian/Projects/Big_Lots/Live_Ramp/Quarterly_Update_2019Q4/upload_files/T_Active(0-12)_Score(H)_Density(L)_SOTF_Others_S_2019Q4_RFM.csv\n",
      "2019-11-06 10:40:30.647416 230942 /home/jian/Projects/Big_Lots/Live_Ramp/Quarterly_Update_2019Q4/upload_files/T_Active(0-12)_Score(H)_Density(M)_Legacy_HolidayShoppers_P_2019Q4_RFM.csv\n",
      "2019-11-06 10:40:32.079716 230941 /home/jian/Projects/Big_Lots/Live_Ramp/Quarterly_Update_2019Q4/upload_files/T_Active(0-12)_Score(H)_Density(M)_Legacy_HolidayShoppers_S_2019Q4_RFM.csv\n",
      "2019-11-06 10:42:58.048696 230927 /home/jian/Projects/Big_Lots/Live_Ramp/Quarterly_Update_2019Q4/upload_files/T_Active(0-12)_Score(H)_Density(M)_Legacy_Others_P_2019Q4_RFM.csv\n",
      "2019-11-06 10:43:53.416401 230920 /home/jian/Projects/Big_Lots/Live_Ramp/Quarterly_Update_2019Q4/upload_files/T_Active(0-12)_Score(H)_Density(M)_Legacy_Others_S_2019Q4_RFM.csv\n",
      "2019-11-06 10:43:53.936635 230920 /home/jian/Projects/Big_Lots/Live_Ramp/Quarterly_Update_2019Q4/upload_files/T_Active(0-12)_Score(H)_Density(M)_SOTF_HolidayShoppers_P_2019Q4_RFM.csv\n",
      "2019-11-06 10:43:54.054760 230920 /home/jian/Projects/Big_Lots/Live_Ramp/Quarterly_Update_2019Q4/upload_files/T_Active(0-12)_Score(H)_Density(M)_SOTF_HolidayShoppers_S_2019Q4_RFM.csv\n",
      "2019-11-06 10:45:01.321196 230914 /home/jian/Projects/Big_Lots/Live_Ramp/Quarterly_Update_2019Q4/upload_files/T_Active(0-12)_Score(H)_Density(M)_SOTF_Others_P_2019Q4_RFM.csv\n",
      "2019-11-06 10:45:32.577647 230914 /home/jian/Projects/Big_Lots/Live_Ramp/Quarterly_Update_2019Q4/upload_files/T_Active(0-12)_Score(H)_Density(M)_SOTF_Others_S_2019Q4_RFM.csv\n",
      "2019-11-06 10:45:32.895226 230914 /home/jian/Projects/Big_Lots/Live_Ramp/Quarterly_Update_2019Q4/upload_files/T_Active(0-12)_Score(L)_Density(H)_Legacy_HolidayShoppers_P_2019Q4_RFM.csv\n",
      "2019-11-06 10:45:33.198174 230914 /home/jian/Projects/Big_Lots/Live_Ramp/Quarterly_Update_2019Q4/upload_files/T_Active(0-12)_Score(L)_Density(H)_Legacy_HolidayShoppers_S_2019Q4_RFM.csv\n",
      "2019-11-06 10:45:34.079358 230914 /home/jian/Projects/Big_Lots/Live_Ramp/Quarterly_Update_2019Q4/upload_files/T_Active(0-12)_Score(L)_Density(H)_Legacy_Others_P_2019Q4_RFM.csv\n",
      "2019-11-06 10:45:34.533970 230914 /home/jian/Projects/Big_Lots/Live_Ramp/Quarterly_Update_2019Q4/upload_files/T_Active(0-12)_Score(L)_Density(H)_Legacy_Others_S_2019Q4_RFM.csv\n",
      "2019-11-06 10:45:34.599485 230914 /home/jian/Projects/Big_Lots/Live_Ramp/Quarterly_Update_2019Q4/upload_files/T_Active(0-12)_Score(L)_Density(H)_SOTF_HolidayShoppers_P_2019Q4_RFM.csv\n",
      "2019-11-06 10:45:34.638933 230914 /home/jian/Projects/Big_Lots/Live_Ramp/Quarterly_Update_2019Q4/upload_files/T_Active(0-12)_Score(L)_Density(H)_SOTF_HolidayShoppers_S_2019Q4_RFM.csv\n",
      "2019-11-06 10:45:34.771274 230914 /home/jian/Projects/Big_Lots/Live_Ramp/Quarterly_Update_2019Q4/upload_files/T_Active(0-12)_Score(L)_Density(H)_SOTF_Others_P_2019Q4_RFM.csv\n",
      "2019-11-06 10:45:34.898764 230914 /home/jian/Projects/Big_Lots/Live_Ramp/Quarterly_Update_2019Q4/upload_files/T_Active(0-12)_Score(L)_Density(H)_SOTF_Others_S_2019Q4_RFM.csv\n",
      "2019-11-06 10:45:36.887505 230914 /home/jian/Projects/Big_Lots/Live_Ramp/Quarterly_Update_2019Q4/upload_files/T_Active(0-12)_Score(L)_Density(L)_Legacy_HolidayShoppers_P_2019Q4_RFM.csv\n",
      "2019-11-06 10:45:38.742690 230914 /home/jian/Projects/Big_Lots/Live_Ramp/Quarterly_Update_2019Q4/upload_files/T_Active(0-12)_Score(L)_Density(L)_Legacy_HolidayShoppers_S_2019Q4_RFM.csv\n",
      "2019-11-06 10:45:38.797149 230914 /home/jian/Projects/Big_Lots/Live_Ramp/Quarterly_Update_2019Q4/upload_files/T_Active(0-12)_Score(L)_Density(L)_Legacy_Others_P_2019Q4_RFM.csv\n",
      "2019-11-06 10:45:38.840935 230914 /home/jian/Projects/Big_Lots/Live_Ramp/Quarterly_Update_2019Q4/upload_files/T_Active(0-12)_Score(L)_Density(L)_Legacy_Others_S_2019Q4_RFM.csv\n",
      "2019-11-06 10:45:39.180858 230914 /home/jian/Projects/Big_Lots/Live_Ramp/Quarterly_Update_2019Q4/upload_files/T_Active(0-12)_Score(L)_Density(L)_SOTF_HolidayShoppers_P_2019Q4_RFM.csv\n",
      "2019-11-06 10:45:39.466418 230914 /home/jian/Projects/Big_Lots/Live_Ramp/Quarterly_Update_2019Q4/upload_files/T_Active(0-12)_Score(L)_Density(L)_SOTF_HolidayShoppers_S_2019Q4_RFM.csv\n",
      "2019-11-06 10:45:43.155729 230914 /home/jian/Projects/Big_Lots/Live_Ramp/Quarterly_Update_2019Q4/upload_files/T_Active(0-12)_Score(L)_Density(L)_SOTF_Others_P_2019Q4_RFM.csv\n",
      "2019-11-06 10:45:49.000977 230914 /home/jian/Projects/Big_Lots/Live_Ramp/Quarterly_Update_2019Q4/upload_files/T_Active(0-12)_Score(L)_Density(L)_SOTF_Others_S_2019Q4_RFM.csv\n",
      "2019-11-06 10:45:59.235040 230914 /home/jian/Projects/Big_Lots/Live_Ramp/Quarterly_Update_2019Q4/upload_files/T_Active(0-12)_Score(L)_Density(M)_Legacy_HolidayShoppers_P_2019Q4_RFM.csv\n",
      "2019-11-06 10:46:02.665900 230914 /home/jian/Projects/Big_Lots/Live_Ramp/Quarterly_Update_2019Q4/upload_files/T_Active(0-12)_Score(L)_Density(M)_Legacy_HolidayShoppers_S_2019Q4_RFM.csv\n",
      "2019-11-06 10:50:31.668476 230911 /home/jian/Projects/Big_Lots/Live_Ramp/Quarterly_Update_2019Q4/upload_files/T_Active(0-12)_Score(L)_Density(M)_Legacy_Others_P_2019Q4_RFM.csv\n",
      "2019-11-06 10:50:34.383452 230908 /home/jian/Projects/Big_Lots/Live_Ramp/Quarterly_Update_2019Q4/upload_files/T_Active(0-12)_Score(L)_Density(M)_Legacy_Others_S_2019Q4_RFM.csv\n",
      "2019-11-06 10:50:34.728396 230908 /home/jian/Projects/Big_Lots/Live_Ramp/Quarterly_Update_2019Q4/upload_files/T_Active(0-12)_Score(L)_Density(M)_SOTF_HolidayShoppers_P_2019Q4_RFM.csv\n",
      "2019-11-06 10:50:34.833508 230908 /home/jian/Projects/Big_Lots/Live_Ramp/Quarterly_Update_2019Q4/upload_files/T_Active(0-12)_Score(L)_Density(M)_SOTF_HolidayShoppers_S_2019Q4_RFM.csv\n"
     ]
    },
    {
     "name": "stdout",
     "output_type": "stream",
     "text": [
      "2019-11-06 10:50:36.572592 230907 /home/jian/Projects/Big_Lots/Live_Ramp/Quarterly_Update_2019Q4/upload_files/T_Active(0-12)_Score(L)_Density(M)_SOTF_Others_P_2019Q4_RFM.csv\n",
      "2019-11-06 10:50:37.438493 230906 /home/jian/Projects/Big_Lots/Live_Ramp/Quarterly_Update_2019Q4/upload_files/T_Active(0-12)_Score(L)_Density(M)_SOTF_Others_S_2019Q4_RFM.csv\n",
      "2019-11-06 10:50:39.548792 230906 /home/jian/Projects/Big_Lots/Live_Ramp/Quarterly_Update_2019Q4/upload_files/T_Active(0-12)_Score(M)_Density(H)_Legacy_HolidayShoppers_P_2019Q4_RFM.csv\n",
      "2019-11-06 10:50:39.620519 230906 /home/jian/Projects/Big_Lots/Live_Ramp/Quarterly_Update_2019Q4/upload_files/T_Active(0-12)_Score(M)_Density(H)_Legacy_HolidayShoppers_S_2019Q4_RFM.csv\n",
      "2019-11-06 10:50:40.460609 230906 /home/jian/Projects/Big_Lots/Live_Ramp/Quarterly_Update_2019Q4/upload_files/T_Active(0-12)_Score(M)_Density(H)_Legacy_Others_P_2019Q4_RFM.csv\n",
      "2019-11-06 10:50:40.699667 230906 /home/jian/Projects/Big_Lots/Live_Ramp/Quarterly_Update_2019Q4/upload_files/T_Active(0-12)_Score(M)_Density(H)_Legacy_Others_S_2019Q4_RFM.csv\n",
      "2019-11-06 10:50:40.756457 230906 /home/jian/Projects/Big_Lots/Live_Ramp/Quarterly_Update_2019Q4/upload_files/T_Active(0-12)_Score(M)_Density(H)_SOTF_HolidayShoppers_P_2019Q4_RFM.csv\n",
      "2019-11-06 10:50:40.796588 230906 /home/jian/Projects/Big_Lots/Live_Ramp/Quarterly_Update_2019Q4/upload_files/T_Active(0-12)_Score(M)_Density(H)_SOTF_HolidayShoppers_S_2019Q4_RFM.csv\n",
      "2019-11-06 10:50:40.873601 230906 /home/jian/Projects/Big_Lots/Live_Ramp/Quarterly_Update_2019Q4/upload_files/T_Active(0-12)_Score(M)_Density(H)_SOTF_Others_P_2019Q4_RFM.csv\n",
      "2019-11-06 10:50:40.930370 230906 /home/jian/Projects/Big_Lots/Live_Ramp/Quarterly_Update_2019Q4/upload_files/T_Active(0-12)_Score(M)_Density(H)_SOTF_Others_S_2019Q4_RFM.csv\n",
      "2019-11-06 10:50:40.973408 230906 /home/jian/Projects/Big_Lots/Live_Ramp/Quarterly_Update_2019Q4/upload_files/T_Active(0-12)_Score(M)_Density(L)_Legacy_HolidayShoppers_P_2019Q4_RFM.csv\n",
      "2019-11-06 10:50:41.011683 230906 /home/jian/Projects/Big_Lots/Live_Ramp/Quarterly_Update_2019Q4/upload_files/T_Active(0-12)_Score(M)_Density(L)_Legacy_HolidayShoppers_S_2019Q4_RFM.csv\n",
      "2019-11-06 10:50:41.117249 230906 /home/jian/Projects/Big_Lots/Live_Ramp/Quarterly_Update_2019Q4/upload_files/T_Active(0-12)_Score(M)_Density(L)_Legacy_Others_P_2019Q4_RFM.csv\n",
      "2019-11-06 10:50:41.189245 230906 /home/jian/Projects/Big_Lots/Live_Ramp/Quarterly_Update_2019Q4/upload_files/T_Active(0-12)_Score(M)_Density(L)_Legacy_Others_S_2019Q4_RFM.csv\n",
      "2019-11-06 10:50:41.272195 230906 /home/jian/Projects/Big_Lots/Live_Ramp/Quarterly_Update_2019Q4/upload_files/T_Active(0-12)_Score(M)_Density(L)_SOTF_HolidayShoppers_P_2019Q4_RFM.csv\n",
      "2019-11-06 10:50:41.330363 230906 /home/jian/Projects/Big_Lots/Live_Ramp/Quarterly_Update_2019Q4/upload_files/T_Active(0-12)_Score(M)_Density(L)_SOTF_HolidayShoppers_S_2019Q4_RFM.csv\n",
      "2019-11-06 10:50:44.166536 230906 /home/jian/Projects/Big_Lots/Live_Ramp/Quarterly_Update_2019Q4/upload_files/T_Active(0-12)_Score(M)_Density(L)_SOTF_Others_P_2019Q4_RFM.csv\n",
      "2019-11-06 10:50:44.509309 230906 /home/jian/Projects/Big_Lots/Live_Ramp/Quarterly_Update_2019Q4/upload_files/T_Active(0-12)_Score(M)_Density(L)_SOTF_Others_S_2019Q4_RFM.csv\n",
      "2019-11-06 10:50:44.908592 230906 /home/jian/Projects/Big_Lots/Live_Ramp/Quarterly_Update_2019Q4/upload_files/T_Active(0-12)_Score(M)_Density(M)_Legacy_HolidayShoppers_P_2019Q4_RFM.csv\n",
      "2019-11-06 10:50:45.088927 230906 /home/jian/Projects/Big_Lots/Live_Ramp/Quarterly_Update_2019Q4/upload_files/T_Active(0-12)_Score(M)_Density(M)_Legacy_HolidayShoppers_S_2019Q4_RFM.csv\n",
      "2019-11-06 10:54:24.135531 230898 /home/jian/Projects/Big_Lots/Live_Ramp/Quarterly_Update_2019Q4/upload_files/T_Active(0-12)_Score(M)_Density(M)_Legacy_Others_P_2019Q4_RFM.csv\n",
      "2019-11-06 10:54:27.450186 230897 /home/jian/Projects/Big_Lots/Live_Ramp/Quarterly_Update_2019Q4/upload_files/T_Active(0-12)_Score(M)_Density(M)_Legacy_Others_S_2019Q4_RFM.csv\n",
      "2019-11-06 10:54:28.368601 230897 /home/jian/Projects/Big_Lots/Live_Ramp/Quarterly_Update_2019Q4/upload_files/T_Active(0-12)_Score(M)_Density(M)_SOTF_HolidayShoppers_P_2019Q4_RFM.csv\n",
      "2019-11-06 10:54:28.489389 230897 /home/jian/Projects/Big_Lots/Live_Ramp/Quarterly_Update_2019Q4/upload_files/T_Active(0-12)_Score(M)_Density(M)_SOTF_HolidayShoppers_S_2019Q4_RFM.csv\n",
      "2019-11-06 10:54:51.115807 230895 /home/jian/Projects/Big_Lots/Live_Ramp/Quarterly_Update_2019Q4/upload_files/T_Active(0-12)_Score(M)_Density(M)_SOTF_Others_P_2019Q4_RFM.csv\n",
      "2019-11-06 10:55:16.280828 230894 /home/jian/Projects/Big_Lots/Live_Ramp/Quarterly_Update_2019Q4/upload_files/T_Active(0-12)_Score(M)_Density(M)_SOTF_Others_S_2019Q4_RFM.csv\n",
      "2019-11-06 10:55:28.599919 230892 /home/jian/Projects/Big_Lots/Live_Ramp/Quarterly_Update_2019Q4/upload_files/T_Lapsed(13-18)_Score(L)_Density(H)_Legacy_AllExpCluster_P_2019Q4_RFM.csv\n",
      "2019-11-06 10:55:29.056659 230892 /home/jian/Projects/Big_Lots/Live_Ramp/Quarterly_Update_2019Q4/upload_files/T_Lapsed(13-18)_Score(L)_Density(H)_Legacy_AllExpCluster_S_2019Q4_RFM.csv\n",
      "2019-11-06 10:55:29.132336 230892 /home/jian/Projects/Big_Lots/Live_Ramp/Quarterly_Update_2019Q4/upload_files/T_Lapsed(13-18)_Score(L)_Density(H)_SOTF_AllExpCluster_P_2019Q4_RFM.csv\n",
      "2019-11-06 10:55:29.187878 230892 /home/jian/Projects/Big_Lots/Live_Ramp/Quarterly_Update_2019Q4/upload_files/T_Lapsed(13-18)_Score(L)_Density(H)_SOTF_AllExpCluster_S_2019Q4_RFM.csv\n",
      "2019-11-06 10:55:29.240480 230892 /home/jian/Projects/Big_Lots/Live_Ramp/Quarterly_Update_2019Q4/upload_files/T_Lapsed(13-18)_Score(L)_Density(L)_Legacy_AllExpCluster_P_2019Q4_RFM.csv\n",
      "2019-11-06 10:55:29.294550 230892 /home/jian/Projects/Big_Lots/Live_Ramp/Quarterly_Update_2019Q4/upload_files/T_Lapsed(13-18)_Score(L)_Density(L)_Legacy_AllExpCluster_S_2019Q4_RFM.csv\n",
      "2019-11-06 10:55:30.194307 230891 /home/jian/Projects/Big_Lots/Live_Ramp/Quarterly_Update_2019Q4/upload_files/T_Lapsed(13-18)_Score(L)_Density(L)_SOTF_AllExpCluster_P_2019Q4_RFM.csv\n",
      "2019-11-06 10:55:30.345497 230890 /home/jian/Projects/Big_Lots/Live_Ramp/Quarterly_Update_2019Q4/upload_files/T_Lapsed(13-18)_Score(L)_Density(L)_SOTF_AllExpCluster_S_2019Q4_RFM.csv\n",
      "2019-11-06 10:55:45.028370 230888 /home/jian/Projects/Big_Lots/Live_Ramp/Quarterly_Update_2019Q4/upload_files/T_Lapsed(13-18)_Score(L)_Density(M)_Legacy_AllExpCluster_P_2019Q4_RFM.csv\n",
      "2019-11-06 10:55:47.361815 230888 /home/jian/Projects/Big_Lots/Live_Ramp/Quarterly_Update_2019Q4/upload_files/T_Lapsed(13-18)_Score(L)_Density(M)_Legacy_AllExpCluster_S_2019Q4_RFM.csv\n",
      "2019-11-06 10:55:55.480962 230886 /home/jian/Projects/Big_Lots/Live_Ramp/Quarterly_Update_2019Q4/upload_files/T_Lapsed(13-18)_Score(L)_Density(M)_SOTF_AllExpCluster_P_2019Q4_RFM.csv\n",
      "2019-11-06 10:55:56.190753 230886 /home/jian/Projects/Big_Lots/Live_Ramp/Quarterly_Update_2019Q4/upload_files/T_Lapsed(13-18)_Score(L)_Density(M)_SOTF_AllExpCluster_S_2019Q4_RFM.csv\n",
      "2019-11-06 10:55:56.268494 230886 /home/jian/Projects/Big_Lots/Live_Ramp/Quarterly_Update_2019Q4/upload_files/C_Active(0-12)_Score(H)_Density(H)_Legacy_HolidayShoppers_P_2019Q4_RFM.csv\n",
      "2019-11-06 10:55:56.306815 230886 /home/jian/Projects/Big_Lots/Live_Ramp/Quarterly_Update_2019Q4/upload_files/C_Active(0-12)_Score(H)_Density(H)_Legacy_HolidayShoppers_S_2019Q4_RFM.csv\n",
      "2019-11-06 10:55:56.424517 230886 /home/jian/Projects/Big_Lots/Live_Ramp/Quarterly_Update_2019Q4/upload_files/C_Active(0-12)_Score(H)_Density(H)_Legacy_Others_P_2019Q4_RFM.csv\n",
      "2019-11-06 10:55:56.475223 230886 /home/jian/Projects/Big_Lots/Live_Ramp/Quarterly_Update_2019Q4/upload_files/C_Active(0-12)_Score(H)_Density(H)_Legacy_Others_S_2019Q4_RFM.csv\n",
      "2019-11-06 10:55:56.524548 230886 /home/jian/Projects/Big_Lots/Live_Ramp/Quarterly_Update_2019Q4/upload_files/C_Active(0-12)_Score(H)_Density(H)_SOTF_HolidayShoppers_P_2019Q4_RFM.csv\n",
      "2019-11-06 10:55:56.585068 230886 /home/jian/Projects/Big_Lots/Live_Ramp/Quarterly_Update_2019Q4/upload_files/C_Active(0-12)_Score(H)_Density(H)_SOTF_HolidayShoppers_S_2019Q4_RFM.csv\n",
      "2019-11-06 10:55:56.645771 230886 /home/jian/Projects/Big_Lots/Live_Ramp/Quarterly_Update_2019Q4/upload_files/C_Active(0-12)_Score(H)_Density(H)_SOTF_Others_P_2019Q4_RFM.csv\n",
      "2019-11-06 10:55:56.698086 230886 /home/jian/Projects/Big_Lots/Live_Ramp/Quarterly_Update_2019Q4/upload_files/C_Active(0-12)_Score(H)_Density(H)_SOTF_Others_S_2019Q4_RFM.csv\n",
      "2019-11-06 10:55:56.743690 230886 /home/jian/Projects/Big_Lots/Live_Ramp/Quarterly_Update_2019Q4/upload_files/C_Active(0-12)_Score(H)_Density(L)_Legacy_HolidayShoppers_P_2019Q4_RFM.csv\n",
      "2019-11-06 10:55:56.782682 230886 /home/jian/Projects/Big_Lots/Live_Ramp/Quarterly_Update_2019Q4/upload_files/C_Active(0-12)_Score(H)_Density(L)_Legacy_HolidayShoppers_S_2019Q4_RFM.csv\n",
      "2019-11-06 10:55:56.843531 230886 /home/jian/Projects/Big_Lots/Live_Ramp/Quarterly_Update_2019Q4/upload_files/C_Active(0-12)_Score(H)_Density(L)_Legacy_Others_P_2019Q4_RFM.csv\n"
     ]
    },
    {
     "name": "stdout",
     "output_type": "stream",
     "text": [
      "2019-11-06 10:55:56.891599 230886 /home/jian/Projects/Big_Lots/Live_Ramp/Quarterly_Update_2019Q4/upload_files/C_Active(0-12)_Score(H)_Density(L)_Legacy_Others_S_2019Q4_RFM.csv\n",
      "2019-11-06 10:55:56.952133 230886 /home/jian/Projects/Big_Lots/Live_Ramp/Quarterly_Update_2019Q4/upload_files/C_Active(0-12)_Score(H)_Density(L)_SOTF_HolidayShoppers_P_2019Q4_RFM.csv\n",
      "2019-11-06 10:55:56.990802 230886 /home/jian/Projects/Big_Lots/Live_Ramp/Quarterly_Update_2019Q4/upload_files/C_Active(0-12)_Score(H)_Density(L)_SOTF_HolidayShoppers_S_2019Q4_RFM.csv\n",
      "2019-11-06 10:55:57.068071 230886 /home/jian/Projects/Big_Lots/Live_Ramp/Quarterly_Update_2019Q4/upload_files/C_Active(0-12)_Score(H)_Density(L)_SOTF_Others_P_2019Q4_RFM.csv\n",
      "2019-11-06 10:55:57.121011 230886 /home/jian/Projects/Big_Lots/Live_Ramp/Quarterly_Update_2019Q4/upload_files/C_Active(0-12)_Score(H)_Density(L)_SOTF_Others_S_2019Q4_RFM.csv\n",
      "2019-11-06 10:55:57.176577 230886 /home/jian/Projects/Big_Lots/Live_Ramp/Quarterly_Update_2019Q4/upload_files/C_Active(0-12)_Score(H)_Density(M)_Legacy_HolidayShoppers_P_2019Q4_RFM.csv\n",
      "2019-11-06 10:55:57.234869 230886 /home/jian/Projects/Big_Lots/Live_Ramp/Quarterly_Update_2019Q4/upload_files/C_Active(0-12)_Score(H)_Density(M)_Legacy_HolidayShoppers_S_2019Q4_RFM.csv\n",
      "2019-11-06 10:55:57.460261 230886 /home/jian/Projects/Big_Lots/Live_Ramp/Quarterly_Update_2019Q4/upload_files/C_Active(0-12)_Score(H)_Density(M)_Legacy_Others_P_2019Q4_RFM.csv\n",
      "2019-11-06 10:55:57.610415 230885 /home/jian/Projects/Big_Lots/Live_Ramp/Quarterly_Update_2019Q4/upload_files/C_Active(0-12)_Score(H)_Density(M)_Legacy_Others_S_2019Q4_RFM.csv\n",
      "2019-11-06 10:55:57.687180 230885 /home/jian/Projects/Big_Lots/Live_Ramp/Quarterly_Update_2019Q4/upload_files/C_Active(0-12)_Score(H)_Density(M)_SOTF_HolidayShoppers_P_2019Q4_RFM.csv\n",
      "2019-11-06 10:55:57.743357 230885 /home/jian/Projects/Big_Lots/Live_Ramp/Quarterly_Update_2019Q4/upload_files/C_Active(0-12)_Score(H)_Density(M)_SOTF_HolidayShoppers_S_2019Q4_RFM.csv\n",
      "2019-11-06 10:55:57.905724 230884 /home/jian/Projects/Big_Lots/Live_Ramp/Quarterly_Update_2019Q4/upload_files/C_Active(0-12)_Score(H)_Density(M)_SOTF_Others_P_2019Q4_RFM.csv\n",
      "2019-11-06 10:55:58.015185 230884 /home/jian/Projects/Big_Lots/Live_Ramp/Quarterly_Update_2019Q4/upload_files/C_Active(0-12)_Score(H)_Density(M)_SOTF_Others_S_2019Q4_RFM.csv\n",
      "2019-11-06 10:55:58.054853 230884 /home/jian/Projects/Big_Lots/Live_Ramp/Quarterly_Update_2019Q4/upload_files/C_Active(0-12)_Score(L)_Density(H)_Legacy_HolidayShoppers_P_2019Q4_RFM.csv\n",
      "2019-11-06 10:55:58.094771 230884 /home/jian/Projects/Big_Lots/Live_Ramp/Quarterly_Update_2019Q4/upload_files/C_Active(0-12)_Score(L)_Density(H)_Legacy_HolidayShoppers_S_2019Q4_RFM.csv\n",
      "2019-11-06 10:55:58.167675 230884 /home/jian/Projects/Big_Lots/Live_Ramp/Quarterly_Update_2019Q4/upload_files/C_Active(0-12)_Score(L)_Density(H)_Legacy_Others_P_2019Q4_RFM.csv\n",
      "2019-11-06 10:55:58.215304 230884 /home/jian/Projects/Big_Lots/Live_Ramp/Quarterly_Update_2019Q4/upload_files/C_Active(0-12)_Score(L)_Density(H)_Legacy_Others_S_2019Q4_RFM.csv\n",
      "2019-11-06 10:55:58.263329 230884 /home/jian/Projects/Big_Lots/Live_Ramp/Quarterly_Update_2019Q4/upload_files/C_Active(0-12)_Score(L)_Density(H)_SOTF_HolidayShoppers_P_2019Q4_RFM.csv\n",
      "2019-11-06 10:55:58.308003 230884 /home/jian/Projects/Big_Lots/Live_Ramp/Quarterly_Update_2019Q4/upload_files/C_Active(0-12)_Score(L)_Density(H)_SOTF_HolidayShoppers_S_2019Q4_RFM.csv\n",
      "2019-11-06 10:55:58.348100 230884 /home/jian/Projects/Big_Lots/Live_Ramp/Quarterly_Update_2019Q4/upload_files/C_Active(0-12)_Score(L)_Density(H)_SOTF_Others_P_2019Q4_RFM.csv\n",
      "2019-11-06 10:55:58.386315 230884 /home/jian/Projects/Big_Lots/Live_Ramp/Quarterly_Update_2019Q4/upload_files/C_Active(0-12)_Score(L)_Density(H)_SOTF_Others_S_2019Q4_RFM.csv\n",
      "2019-11-06 10:55:58.425031 230884 /home/jian/Projects/Big_Lots/Live_Ramp/Quarterly_Update_2019Q4/upload_files/C_Active(0-12)_Score(L)_Density(L)_Legacy_HolidayShoppers_P_2019Q4_RFM.csv\n",
      "2019-11-06 10:55:58.462422 230884 /home/jian/Projects/Big_Lots/Live_Ramp/Quarterly_Update_2019Q4/upload_files/C_Active(0-12)_Score(L)_Density(L)_Legacy_HolidayShoppers_S_2019Q4_RFM.csv\n",
      "2019-11-06 10:55:58.504569 230884 /home/jian/Projects/Big_Lots/Live_Ramp/Quarterly_Update_2019Q4/upload_files/C_Active(0-12)_Score(L)_Density(L)_Legacy_Others_P_2019Q4_RFM.csv\n",
      "2019-11-06 10:55:58.549373 230884 /home/jian/Projects/Big_Lots/Live_Ramp/Quarterly_Update_2019Q4/upload_files/C_Active(0-12)_Score(L)_Density(L)_Legacy_Others_S_2019Q4_RFM.csv\n",
      "2019-11-06 10:55:58.597781 230884 /home/jian/Projects/Big_Lots/Live_Ramp/Quarterly_Update_2019Q4/upload_files/C_Active(0-12)_Score(L)_Density(L)_SOTF_HolidayShoppers_P_2019Q4_RFM.csv\n",
      "2019-11-06 10:55:58.638747 230884 /home/jian/Projects/Big_Lots/Live_Ramp/Quarterly_Update_2019Q4/upload_files/C_Active(0-12)_Score(L)_Density(L)_SOTF_HolidayShoppers_S_2019Q4_RFM.csv\n",
      "2019-11-06 10:55:58.725783 230884 /home/jian/Projects/Big_Lots/Live_Ramp/Quarterly_Update_2019Q4/upload_files/C_Active(0-12)_Score(L)_Density(L)_SOTF_Others_P_2019Q4_RFM.csv\n",
      "2019-11-06 10:55:58.791648 230884 /home/jian/Projects/Big_Lots/Live_Ramp/Quarterly_Update_2019Q4/upload_files/C_Active(0-12)_Score(L)_Density(L)_SOTF_Others_S_2019Q4_RFM.csv\n",
      "2019-11-06 10:55:58.863628 230884 /home/jian/Projects/Big_Lots/Live_Ramp/Quarterly_Update_2019Q4/upload_files/C_Active(0-12)_Score(L)_Density(M)_Legacy_HolidayShoppers_P_2019Q4_RFM.csv\n",
      "2019-11-06 10:55:58.932210 230884 /home/jian/Projects/Big_Lots/Live_Ramp/Quarterly_Update_2019Q4/upload_files/C_Active(0-12)_Score(L)_Density(M)_Legacy_HolidayShoppers_S_2019Q4_RFM.csv\n",
      "2019-11-06 10:55:59.065787 230884 /home/jian/Projects/Big_Lots/Live_Ramp/Quarterly_Update_2019Q4/upload_files/C_Active(0-12)_Score(L)_Density(M)_Legacy_Others_P_2019Q4_RFM.csv\n",
      "2019-11-06 10:55:59.162832 230884 /home/jian/Projects/Big_Lots/Live_Ramp/Quarterly_Update_2019Q4/upload_files/C_Active(0-12)_Score(L)_Density(M)_Legacy_Others_S_2019Q4_RFM.csv\n",
      "2019-11-06 10:55:59.209202 230884 /home/jian/Projects/Big_Lots/Live_Ramp/Quarterly_Update_2019Q4/upload_files/C_Active(0-12)_Score(L)_Density(M)_SOTF_HolidayShoppers_P_2019Q4_RFM.csv\n",
      "2019-11-06 10:55:59.257291 230884 /home/jian/Projects/Big_Lots/Live_Ramp/Quarterly_Update_2019Q4/upload_files/C_Active(0-12)_Score(L)_Density(M)_SOTF_HolidayShoppers_S_2019Q4_RFM.csv\n",
      "2019-11-06 10:55:59.354140 230884 /home/jian/Projects/Big_Lots/Live_Ramp/Quarterly_Update_2019Q4/upload_files/C_Active(0-12)_Score(L)_Density(M)_SOTF_Others_P_2019Q4_RFM.csv\n",
      "2019-11-06 10:55:59.439083 230884 /home/jian/Projects/Big_Lots/Live_Ramp/Quarterly_Update_2019Q4/upload_files/C_Active(0-12)_Score(L)_Density(M)_SOTF_Others_S_2019Q4_RFM.csv\n",
      "2019-11-06 10:55:59.482301 230884 /home/jian/Projects/Big_Lots/Live_Ramp/Quarterly_Update_2019Q4/upload_files/C_Active(0-12)_Score(M)_Density(H)_Legacy_HolidayShoppers_P_2019Q4_RFM.csv\n",
      "2019-11-06 10:55:59.523986 230884 /home/jian/Projects/Big_Lots/Live_Ramp/Quarterly_Update_2019Q4/upload_files/C_Active(0-12)_Score(M)_Density(H)_Legacy_HolidayShoppers_S_2019Q4_RFM.csv\n",
      "2019-11-06 10:55:59.603092 230884 /home/jian/Projects/Big_Lots/Live_Ramp/Quarterly_Update_2019Q4/upload_files/C_Active(0-12)_Score(M)_Density(H)_Legacy_Others_P_2019Q4_RFM.csv\n",
      "2019-11-06 10:55:59.650207 230884 /home/jian/Projects/Big_Lots/Live_Ramp/Quarterly_Update_2019Q4/upload_files/C_Active(0-12)_Score(M)_Density(H)_Legacy_Others_S_2019Q4_RFM.csv\n",
      "2019-11-06 10:55:59.688542 230884 /home/jian/Projects/Big_Lots/Live_Ramp/Quarterly_Update_2019Q4/upload_files/C_Active(0-12)_Score(M)_Density(H)_SOTF_HolidayShoppers_P_2019Q4_RFM.csv\n",
      "2019-11-06 10:55:59.735685 230884 /home/jian/Projects/Big_Lots/Live_Ramp/Quarterly_Update_2019Q4/upload_files/C_Active(0-12)_Score(M)_Density(H)_SOTF_HolidayShoppers_S_2019Q4_RFM.csv\n",
      "2019-11-06 10:55:59.774751 230884 /home/jian/Projects/Big_Lots/Live_Ramp/Quarterly_Update_2019Q4/upload_files/C_Active(0-12)_Score(M)_Density(H)_SOTF_Others_P_2019Q4_RFM.csv\n",
      "2019-11-06 10:55:59.820620 230884 /home/jian/Projects/Big_Lots/Live_Ramp/Quarterly_Update_2019Q4/upload_files/C_Active(0-12)_Score(M)_Density(H)_SOTF_Others_S_2019Q4_RFM.csv\n",
      "2019-11-06 10:55:59.858417 230884 /home/jian/Projects/Big_Lots/Live_Ramp/Quarterly_Update_2019Q4/upload_files/C_Active(0-12)_Score(M)_Density(L)_Legacy_HolidayShoppers_P_2019Q4_RFM.csv\n",
      "2019-11-06 10:55:59.899424 230884 /home/jian/Projects/Big_Lots/Live_Ramp/Quarterly_Update_2019Q4/upload_files/C_Active(0-12)_Score(M)_Density(L)_Legacy_HolidayShoppers_S_2019Q4_RFM.csv\n",
      "2019-11-06 10:55:59.963294 230884 /home/jian/Projects/Big_Lots/Live_Ramp/Quarterly_Update_2019Q4/upload_files/C_Active(0-12)_Score(M)_Density(L)_Legacy_Others_P_2019Q4_RFM.csv\n",
      "2019-11-06 10:56:00.001047 230884 /home/jian/Projects/Big_Lots/Live_Ramp/Quarterly_Update_2019Q4/upload_files/C_Active(0-12)_Score(M)_Density(L)_Legacy_Others_S_2019Q4_RFM.csv\n"
     ]
    },
    {
     "name": "stdout",
     "output_type": "stream",
     "text": [
      "2019-11-06 10:56:00.044550 230884 /home/jian/Projects/Big_Lots/Live_Ramp/Quarterly_Update_2019Q4/upload_files/C_Active(0-12)_Score(M)_Density(L)_SOTF_HolidayShoppers_P_2019Q4_RFM.csv\n",
      "2019-11-06 10:56:00.093368 230884 /home/jian/Projects/Big_Lots/Live_Ramp/Quarterly_Update_2019Q4/upload_files/C_Active(0-12)_Score(M)_Density(L)_SOTF_HolidayShoppers_S_2019Q4_RFM.csv\n",
      "2019-11-06 10:56:00.144462 230884 /home/jian/Projects/Big_Lots/Live_Ramp/Quarterly_Update_2019Q4/upload_files/C_Active(0-12)_Score(M)_Density(L)_SOTF_Others_P_2019Q4_RFM.csv\n",
      "2019-11-06 10:56:00.199088 230884 /home/jian/Projects/Big_Lots/Live_Ramp/Quarterly_Update_2019Q4/upload_files/C_Active(0-12)_Score(M)_Density(L)_SOTF_Others_S_2019Q4_RFM.csv\n",
      "2019-11-06 10:56:00.250649 230884 /home/jian/Projects/Big_Lots/Live_Ramp/Quarterly_Update_2019Q4/upload_files/C_Active(0-12)_Score(M)_Density(M)_Legacy_HolidayShoppers_P_2019Q4_RFM.csv\n",
      "2019-11-06 10:56:00.311530 230884 /home/jian/Projects/Big_Lots/Live_Ramp/Quarterly_Update_2019Q4/upload_files/C_Active(0-12)_Score(M)_Density(M)_Legacy_HolidayShoppers_S_2019Q4_RFM.csv\n",
      "2019-11-06 10:56:00.514173 230884 /home/jian/Projects/Big_Lots/Live_Ramp/Quarterly_Update_2019Q4/upload_files/C_Active(0-12)_Score(M)_Density(M)_Legacy_Others_P_2019Q4_RFM.csv\n",
      "2019-11-06 10:56:00.664637 230884 /home/jian/Projects/Big_Lots/Live_Ramp/Quarterly_Update_2019Q4/upload_files/C_Active(0-12)_Score(M)_Density(M)_Legacy_Others_S_2019Q4_RFM.csv\n",
      "2019-11-06 10:56:00.737366 230884 /home/jian/Projects/Big_Lots/Live_Ramp/Quarterly_Update_2019Q4/upload_files/C_Active(0-12)_Score(M)_Density(M)_SOTF_HolidayShoppers_P_2019Q4_RFM.csv\n",
      "2019-11-06 10:56:00.778265 230884 /home/jian/Projects/Big_Lots/Live_Ramp/Quarterly_Update_2019Q4/upload_files/C_Active(0-12)_Score(M)_Density(M)_SOTF_HolidayShoppers_S_2019Q4_RFM.csv\n",
      "2019-11-06 10:56:00.911269 230884 /home/jian/Projects/Big_Lots/Live_Ramp/Quarterly_Update_2019Q4/upload_files/C_Active(0-12)_Score(M)_Density(M)_SOTF_Others_P_2019Q4_RFM.csv\n",
      "2019-11-06 10:56:00.986495 230884 /home/jian/Projects/Big_Lots/Live_Ramp/Quarterly_Update_2019Q4/upload_files/C_Active(0-12)_Score(M)_Density(M)_SOTF_Others_S_2019Q4_RFM.csv\n",
      "2019-11-06 10:56:01.042735 230884 /home/jian/Projects/Big_Lots/Live_Ramp/Quarterly_Update_2019Q4/upload_files/C_Lapsed(13-18)_Score(L)_Density(H)_Legacy_AllExpCluster_P_2019Q4_RFM.csv\n",
      "2019-11-06 10:56:01.094895 230884 /home/jian/Projects/Big_Lots/Live_Ramp/Quarterly_Update_2019Q4/upload_files/C_Lapsed(13-18)_Score(L)_Density(H)_Legacy_AllExpCluster_S_2019Q4_RFM.csv\n",
      "2019-11-06 10:56:01.135923 230884 /home/jian/Projects/Big_Lots/Live_Ramp/Quarterly_Update_2019Q4/upload_files/C_Lapsed(13-18)_Score(L)_Density(H)_SOTF_AllExpCluster_P_2019Q4_RFM.csv\n",
      "2019-11-06 10:56:01.174675 230884 /home/jian/Projects/Big_Lots/Live_Ramp/Quarterly_Update_2019Q4/upload_files/C_Lapsed(13-18)_Score(L)_Density(H)_SOTF_AllExpCluster_S_2019Q4_RFM.csv\n",
      "2019-11-06 10:56:01.216896 230884 /home/jian/Projects/Big_Lots/Live_Ramp/Quarterly_Update_2019Q4/upload_files/C_Lapsed(13-18)_Score(L)_Density(L)_Legacy_AllExpCluster_P_2019Q4_RFM.csv\n",
      "2019-11-06 10:56:01.258713 230884 /home/jian/Projects/Big_Lots/Live_Ramp/Quarterly_Update_2019Q4/upload_files/C_Lapsed(13-18)_Score(L)_Density(L)_Legacy_AllExpCluster_S_2019Q4_RFM.csv\n",
      "2019-11-06 10:56:01.312038 230884 /home/jian/Projects/Big_Lots/Live_Ramp/Quarterly_Update_2019Q4/upload_files/C_Lapsed(13-18)_Score(L)_Density(L)_SOTF_AllExpCluster_P_2019Q4_RFM.csv\n",
      "2019-11-06 10:56:01.354987 230884 /home/jian/Projects/Big_Lots/Live_Ramp/Quarterly_Update_2019Q4/upload_files/C_Lapsed(13-18)_Score(L)_Density(L)_SOTF_AllExpCluster_S_2019Q4_RFM.csv\n",
      "2019-11-06 10:56:01.471002 230883 /home/jian/Projects/Big_Lots/Live_Ramp/Quarterly_Update_2019Q4/upload_files/C_Lapsed(13-18)_Score(L)_Density(M)_Legacy_AllExpCluster_P_2019Q4_RFM.csv\n",
      "2019-11-06 10:56:01.571120 230883 /home/jian/Projects/Big_Lots/Live_Ramp/Quarterly_Update_2019Q4/upload_files/C_Lapsed(13-18)_Score(L)_Density(M)_Legacy_AllExpCluster_S_2019Q4_RFM.csv\n",
      "2019-11-06 10:56:01.652925 230883 /home/jian/Projects/Big_Lots/Live_Ramp/Quarterly_Update_2019Q4/upload_files/C_Lapsed(13-18)_Score(L)_Density(M)_SOTF_AllExpCluster_P_2019Q4_RFM.csv\n",
      "2019-11-06 10:56:01.718805 230883 /home/jian/Projects/Big_Lots/Live_Ramp/Quarterly_Update_2019Q4/upload_files/C_Lapsed(13-18)_Score(L)_Density(M)_SOTF_AllExpCluster_S_2019Q4_RFM.csv\n",
      "2019-11-06 10:56:12.953457 230882 /home/jian/Projects/Big_Lots/Live_Ramp/Quarterly_Update_2019Q4/upload_files/T_Lapsed(19-48)_Density(H)_Legacy_AllExpCluster_P_2019Q4_Lapsed.csv\n",
      "2019-11-06 10:56:13.083612 230882 /home/jian/Projects/Big_Lots/Live_Ramp/Quarterly_Update_2019Q4/upload_files/T_Lapsed(19-48)_Density(L)_Legacy_AllExpCluster_P_2019Q4_Lapsed.csv\n",
      "2019-11-06 10:56:13.648856 230882 /home/jian/Projects/Big_Lots/Live_Ramp/Quarterly_Update_2019Q4/upload_files/T_Lapsed(19-48)_Density(L)_SOTF_AllExpCluster_P_2019Q4_Lapsed.csv\n",
      "2019-11-06 10:56:58.605136 230872 /home/jian/Projects/Big_Lots/Live_Ramp/Quarterly_Update_2019Q4/upload_files/T_Lapsed(19-48)_Density(M)_Legacy_AllExpCluster_P_2019Q4_Lapsed.csv\n",
      "2019-11-06 10:57:20.775944 230865 /home/jian/Projects/Big_Lots/Live_Ramp/Quarterly_Update_2019Q4/upload_files/T_Lapsed(19-48)_Density(M)_SOTF_AllExpCluster_P_2019Q4_Lapsed.csv\n",
      "2019-11-06 10:57:21.073663 230864 /home/jian/Projects/Big_Lots/Live_Ramp/Quarterly_Update_2019Q4/upload_files/C_Lapsed(19-48)_Density(H)_Legacy_AllExpCluster_P_2019Q4_Lapsed.csv\n",
      "2019-11-06 10:57:21.139248 230864 /home/jian/Projects/Big_Lots/Live_Ramp/Quarterly_Update_2019Q4/upload_files/C_Lapsed(19-48)_Density(L)_Legacy_AllExpCluster_P_2019Q4_Lapsed.csv\n",
      "2019-11-06 10:57:21.192105 230864 /home/jian/Projects/Big_Lots/Live_Ramp/Quarterly_Update_2019Q4/upload_files/C_Lapsed(19-48)_Density(L)_SOTF_AllExpCluster_P_2019Q4_Lapsed.csv\n",
      "2019-11-06 10:57:21.365956 230864 /home/jian/Projects/Big_Lots/Live_Ramp/Quarterly_Update_2019Q4/upload_files/C_Lapsed(19-48)_Density(M)_Legacy_AllExpCluster_P_2019Q4_Lapsed.csv\n",
      "2019-11-06 10:57:21.524816 230863 /home/jian/Projects/Big_Lots/Live_Ramp/Quarterly_Update_2019Q4/upload_files/C_Lapsed(19-48)_Density(M)_SOTF_AllExpCluster_P_2019Q4_Lapsed.csv\n",
      "2019-11-06 10:57:22.418822 230863 /home/jian/celery/BiWeekly_New_SignUps/monthly_update/output_2018-12-29/NewReward_2018-12-29_P.csv\n",
      "2019-11-06 10:57:22.761037 230863 /home/jian/celery/BiWeekly_New_SignUps/monthly_update/output_2018-12-29/NewReward_2018-12-29_S.csv\n",
      "2019-11-06 10:57:22.993972 230863 /home/jian/celery/BiWeekly_New_SignUps/monthly_update/output_2018-12-29/NewReward_2018-12-29_T.csv\n",
      "2019-11-06 10:57:23.695449 230863 /home/jian/celery/BiWeekly_New_SignUps/monthly_update/output_2019-01-26/NewReward_2019-01-26_P.csv\n",
      "2019-11-06 10:57:23.907343 230863 /home/jian/celery/BiWeekly_New_SignUps/monthly_update/output_2019-01-26/NewReward_2019-01-26_S.csv\n",
      "2019-11-06 10:57:24.065104 230863 /home/jian/celery/BiWeekly_New_SignUps/monthly_update/output_2019-01-26/NewReward_2019-01-26_T.csv\n",
      "2019-11-06 10:57:24.695549 230862 /home/jian/celery/BiWeekly_New_SignUps/monthly_update/output_2019-02-23/NewReward_2019-02-23_P.csv\n",
      "2019-11-06 10:57:24.930201 230862 /home/jian/celery/BiWeekly_New_SignUps/monthly_update/output_2019-02-23/NewReward_2019-02-23_S.csv\n",
      "2019-11-06 10:57:25.081374 230862 /home/jian/celery/BiWeekly_New_SignUps/monthly_update/output_2019-02-23/NewReward_2019-02-23_T.csv\n",
      "2019-11-06 10:57:25.801473 230862 /home/jian/celery/BiWeekly_New_SignUps/monthly_update/output_2019-03-23/NewReward_2019-03-23_P.csv\n",
      "2019-11-06 10:57:26.024876 230862 /home/jian/celery/BiWeekly_New_SignUps/monthly_update/output_2019-03-23/NewReward_2019-03-23_S.csv\n",
      "2019-11-06 10:57:26.145201 230862 /home/jian/celery/BiWeekly_New_SignUps/monthly_update/output_2019-03-23/NewReward_2019-03-23_T.csv\n",
      "2019-11-06 10:57:26.602579 230862 /home/jian/celery/BiWeekly_New_SignUps/monthly_update/output_2019-04-06/NewReward_2019-04-06_P.csv\n",
      "2019-11-06 10:57:26.758130 230862 /home/jian/celery/BiWeekly_New_SignUps/monthly_update/output_2019-04-06/NewReward_2019-04-06_S.csv\n",
      "2019-11-06 10:57:26.871288 230862 /home/jian/celery/BiWeekly_New_SignUps/monthly_update/output_2019-04-06/NewReward_2019-04-06_T.csv\n",
      "2019-11-06 10:57:27.262700 230862 /home/jian/celery/BiWeekly_New_SignUps/monthly_update/output_2019-04-20/NewReward_2019-04-20_P.csv\n",
      "2019-11-06 10:57:27.360507 230862 /home/jian/celery/BiWeekly_New_SignUps/monthly_update/output_2019-04-20/NewReward_2019-04-20_S.csv\n",
      "2019-11-06 10:57:27.431844 230862 /home/jian/celery/BiWeekly_New_SignUps/monthly_update/output_2019-04-20/NewReward_2019-04-20_T.csv\n"
     ]
    },
    {
     "name": "stdout",
     "output_type": "stream",
     "text": [
      "2019-11-06 10:57:27.823894 230862 /home/jian/celery/BiWeekly_New_SignUps/monthly_update/output_2019-05-04/NewReward_2019-05-04_P.csv\n",
      "2019-11-06 10:57:27.989324 230862 /home/jian/celery/BiWeekly_New_SignUps/monthly_update/output_2019-05-04/NewReward_2019-05-04_S.csv\n",
      "2019-11-06 10:57:28.097659 230862 /home/jian/celery/BiWeekly_New_SignUps/monthly_update/output_2019-05-04/NewReward_2019-05-04_T.csv\n",
      "2019-11-06 10:57:28.471777 230862 /home/jian/celery/BiWeekly_New_SignUps/monthly_update/output_2019-05-18/NewReward_2019-05-18_P.csv\n",
      "2019-11-06 10:57:28.630552 230862 /home/jian/celery/BiWeekly_New_SignUps/monthly_update/output_2019-05-18/NewReward_2019-05-18_S.csv\n",
      "2019-11-06 10:57:28.756240 230862 /home/jian/celery/BiWeekly_New_SignUps/monthly_update/output_2019-05-18/NewReward_2019-05-18_T.csv\n",
      "2019-11-06 10:57:29.152035 230862 /home/jian/celery/BiWeekly_New_SignUps/monthly_update/output_2019-06-01/NewReward_2019-06-01_P.csv\n",
      "2019-11-06 10:57:29.326132 230862 /home/jian/celery/BiWeekly_New_SignUps/monthly_update/output_2019-06-01/NewReward_2019-06-01_S.csv\n",
      "2019-11-06 10:57:29.424998 230862 /home/jian/celery/BiWeekly_New_SignUps/monthly_update/output_2019-06-01/NewReward_2019-06-01_T.csv\n",
      "2019-11-06 10:57:29.818279 230862 /home/jian/celery/BiWeekly_New_SignUps/monthly_update/output_2019-06-15/NewReward_2019-06-15_P.csv\n",
      "2019-11-06 10:57:29.954066 230862 /home/jian/celery/BiWeekly_New_SignUps/monthly_update/output_2019-06-15/NewReward_2019-06-15_S.csv\n",
      "2019-11-06 10:57:30.159675 230861 /home/jian/celery/BiWeekly_New_SignUps/monthly_update/output_2019-06-15/NewReward_2019-06-15_T.csv\n",
      "2019-11-06 10:57:30.566835 230861 /home/jian/celery/BiWeekly_New_SignUps/monthly_update/output_2019-06-29/NewReward_2019-06-29_P.csv\n",
      "2019-11-06 10:57:30.686672 230861 /home/jian/celery/BiWeekly_New_SignUps/monthly_update/output_2019-06-29/NewReward_2019-06-29_S.csv\n",
      "2019-11-06 10:57:30.907915 230861 /home/jian/celery/BiWeekly_New_SignUps/monthly_update/output_2019-06-29/NewReward_2019-06-29_T.csv\n",
      "2019-11-06 10:57:33.079709 230861 /home/jian/celery/BiWeekly_New_SignUps/monthly_update/output_2019-07-13/NewReward_2019-07-13_P.csv\n",
      "2019-11-06 10:57:33.602254 230861 /home/jian/celery/BiWeekly_New_SignUps/monthly_update/output_2019-07-13/NewReward_2019-07-13_S.csv\n",
      "2019-11-06 10:57:33.960563 230860 /home/jian/celery/BiWeekly_New_SignUps/monthly_update/output_2019-07-13/NewReward_2019-07-13_T.csv\n",
      "2019-11-06 10:57:35.026733 230860 /home/jian/celery/BiWeekly_New_SignUps/monthly_update/output_2019-07-27/NewReward_2019-07-27_P.csv\n",
      "2019-11-06 10:57:35.202602 230860 /home/jian/celery/BiWeekly_New_SignUps/monthly_update/output_2019-07-27/NewReward_2019-07-27_S.csv\n",
      "2019-11-06 10:57:36.765870 230860 /home/jian/celery/BiWeekly_New_SignUps/monthly_update/output_2019-07-27/NewReward_2019-07-27_T.csv\n",
      "2019-11-06 10:57:39.287641 230860 /home/jian/celery/BiWeekly_New_SignUps/monthly_update/output_2019-08-10/NewReward_2019-08-10_P.csv\n",
      "2019-11-06 10:57:39.595945 230860 /home/jian/celery/BiWeekly_New_SignUps/monthly_update/output_2019-08-10/NewReward_2019-08-10_S.csv\n",
      "2019-11-06 11:00:43.052322 230860 /home/jian/celery/BiWeekly_New_SignUps/monthly_update/output_2019-08-10/NewReward_2019-08-10_T.csv\n",
      "2019-11-06 11:01:00.443832 230860 /home/jian/celery/BiWeekly_New_SignUps/monthly_update/output_2019-09-07/NewReward_2019-09-07_P.csv\n",
      "2019-11-06 11:01:03.886873 230860 /home/jian/celery/BiWeekly_New_SignUps/monthly_update/output_2019-09-07/NewReward_2019-09-07_S.csv\n",
      "2019-11-06 11:01:18.749545 230860 /home/jian/celery/BiWeekly_New_SignUps/monthly_update/output_2019-09-07/NewReward_2019-09-07_T.csv\n",
      "2019-11-06 11:01:27.020717 230860 /home/jian/celery/BiWeekly_New_SignUps/monthly_update/output_2019-09-21/NewReward_2019-09-21_P.csv\n",
      "2019-11-06 11:01:29.757326 230860 /home/jian/celery/BiWeekly_New_SignUps/monthly_update/output_2019-09-21/NewReward_2019-09-21_S.csv\n",
      "2019-11-06 11:01:33.645554 230860 /home/jian/celery/BiWeekly_New_SignUps/monthly_update/output_2019-09-21/NewReward_2019-09-21_T.csv\n",
      "2019-11-06 11:01:51.374578 230860 /home/jian/celery/BiWeekly_New_SignUps/monthly_update/output_2019-10-05/NewReward_2019-10-05_P.csv\n",
      "2019-11-06 11:01:51.684258 230860 /home/jian/celery/BiWeekly_New_SignUps/monthly_update/output_2019-10-05/NewReward_2019-10-05_S.csv\n",
      "2019-11-06 11:01:54.924059 230860 /home/jian/celery/BiWeekly_New_SignUps/monthly_update/output_2019-10-05/NewReward_2019-10-05_T.csv\n",
      "2019-11-06 11:01:58.198643 230860 /home/jian/celery/BiWeekly_New_SignUps/monthly_update/output_2019-10-19/NewReward_2019-10-19_P.csv\n",
      "2019-11-06 11:02:01.840686 230860 /home/jian/celery/BiWeekly_New_SignUps/monthly_update/output_2019-10-19/NewReward_2019-10-19_S.csv\n",
      "2019-11-06 11:02:04.877810 230860 /home/jian/celery/BiWeekly_New_SignUps/monthly_update/output_2019-10-19/NewReward_2019-10-19_T.csv\n"
     ]
    }
   ],
   "source": [
    "for file_uploaded in previous_id_files_lists:\n",
    "    df = pd.read_csv(file_uploaded,usecols = ['email_address_hash'])\n",
    "    previous_email_set=set(df['email_address_hash'].tolist())\n",
    "    df_all_new_master = df_all_new_master[~df_all_new_master['email_address_hash'].isin(previous_email_set)]\n",
    "    print(datetime.datetime.now(),len(df_all_new_master.index),file_uploaded)"
   ]
  },
  {
   "cell_type": "code",
   "execution_count": 11,
   "metadata": {},
   "outputs": [
    {
     "name": "stdout",
     "output_type": "stream",
     "text": [
      "230860\n"
     ]
    }
   ],
   "source": [
    "df_all_new_master = df_all_new_master.drop_duplicates('email_address_hash')\n",
    "df_all_new_master = df_all_new_master.drop_duplicates('customer_id_hashed')\n",
    "print(len(df_all_new_master.index))"
   ]
  },
  {
   "cell_type": "code",
   "execution_count": 12,
   "metadata": {},
   "outputs": [
    {
     "name": "stdout",
     "output_type": "stream",
     "text": [
      "(12980, 3)\n",
      "12980\n"
     ]
    },
    {
     "data": {
      "text/html": [
       "<div>\n",
       "<style scoped>\n",
       "    .dataframe tbody tr th:only-of-type {\n",
       "        vertical-align: middle;\n",
       "    }\n",
       "\n",
       "    .dataframe tbody tr th {\n",
       "        vertical-align: top;\n",
       "    }\n",
       "\n",
       "    .dataframe thead th {\n",
       "        text-align: right;\n",
       "    }\n",
       "</style>\n",
       "<table border=\"1\" class=\"dataframe\">\n",
       "  <thead>\n",
       "    <tr style=\"text-align: right;\">\n",
       "      <th></th>\n",
       "      <th>customer_zip_code</th>\n",
       "      <th>zipcodegroup</th>\n",
       "    </tr>\n",
       "  </thead>\n",
       "  <tbody>\n",
       "    <tr>\n",
       "      <th>0</th>\n",
       "      <td>75040</td>\n",
       "      <td>P</td>\n",
       "    </tr>\n",
       "    <tr>\n",
       "      <th>1</th>\n",
       "      <td>20743</td>\n",
       "      <td>P</td>\n",
       "    </tr>\n",
       "  </tbody>\n",
       "</table>\n",
       "</div>"
      ],
      "text/plain": [
       "  customer_zip_code zipcodegroup\n",
       "0             75040            P\n",
       "1             20743            P"
      ]
     },
     "execution_count": 12,
     "metadata": {},
     "output_type": "execute_result"
    }
   ],
   "source": [
    "zipmap = pd.ExcelFile('/home/jian/Projects/Big_Lots/New_TA/TA_created_in_201906/final_output_20190718/BL_final_TA_updated_JL_2019-07-18.xlsx')\n",
    "zipmap=zipmap.parse(\"unique_zips_full_footprint\",dtype=str)\n",
    "zipmap['zip_type']=zipmap['zip_type'].replace(\"zips_10\",\"trans_S\")\n",
    "\n",
    "zipmap['zipcodegroup'] = zipmap['zip_type'].apply(lambda x: x.split(\"_\")[1])\n",
    "print(zipmap.shape)\n",
    "print(zipmap['zip_cd'].nunique())\n",
    "\n",
    "zipmap=zipmap.rename(columns={\"zip_cd\":\"customer_zip_code\"})\n",
    "\n",
    "zipmap=zipmap[['customer_zip_code','zipcodegroup']]\n",
    "zipmap.head(2)"
   ]
  },
  {
   "cell_type": "code",
   "execution_count": 13,
   "metadata": {},
   "outputs": [
    {
     "name": "stdout",
     "output_type": "stream",
     "text": [
      "[nan 'P' 'S']\n",
      "['T' 'P' 'S']\n",
      "P 94730\n",
      "S 40618\n",
      "T 95512\n"
     ]
    }
   ],
   "source": [
    "df_all_new_master = pd.merge(df_all_new_master,zipmap,on ='customer_zip_code',how = 'left' )\n",
    "print(df_all_new_master['zipcodegroup'].unique())\n",
    "\n",
    "df_all_new_master['zipcodegroup'].fillna('T',inplace = True)\n",
    "print(df_all_new_master['zipcodegroup'].unique())\n",
    "\n",
    "last_saturday_str=\"_\"+str(last_saturday).split(\"-\")[1]+str(last_saturday).split(\"-\")[2]+str(last_saturday).split(\"-\")[0][2:]+\"_\"\n",
    "\n",
    "for revenue_flag in ['P','S','T']:\n",
    "    df = df_all_new_master[df_all_new_master['zipcodegroup']==revenue_flag]\n",
    "    df = df[['customer_id_hashed','email_address_hash','customer_zip_code']]\n",
    "    df['segment'] = 'NewReward' + last_saturday_str + revenue_flag\n",
    "    print(revenue_flag,len(df.index))\n",
    "    df.to_csv(write_folder+'NewReward_'+str(last_saturday)+'_'+revenue_flag+'.csv',index = False)\n",
    "# To be uploaded to lr-big-lots /uploads/big_lots_onboarding"
   ]
  },
  {
   "cell_type": "code",
   "execution_count": 14,
   "metadata": {},
   "outputs": [
    {
     "data": {
      "text/html": [
       "<div>\n",
       "<style scoped>\n",
       "    .dataframe tbody tr th:only-of-type {\n",
       "        vertical-align: middle;\n",
       "    }\n",
       "\n",
       "    .dataframe tbody tr th {\n",
       "        vertical-align: top;\n",
       "    }\n",
       "\n",
       "    .dataframe thead th {\n",
       "        text-align: right;\n",
       "    }\n",
       "</style>\n",
       "<table border=\"1\" class=\"dataframe\">\n",
       "  <thead>\n",
       "    <tr style=\"text-align: right;\">\n",
       "      <th></th>\n",
       "      <th>zipcodegroup</th>\n",
       "      <th>email_address_hash</th>\n",
       "    </tr>\n",
       "  </thead>\n",
       "  <tbody>\n",
       "    <tr>\n",
       "      <th>0</th>\n",
       "      <td>P</td>\n",
       "      <td>94730</td>\n",
       "    </tr>\n",
       "    <tr>\n",
       "      <th>1</th>\n",
       "      <td>S</td>\n",
       "      <td>40618</td>\n",
       "    </tr>\n",
       "    <tr>\n",
       "      <th>2</th>\n",
       "      <td>T</td>\n",
       "      <td>95512</td>\n",
       "    </tr>\n",
       "  </tbody>\n",
       "</table>\n",
       "</div>"
      ],
      "text/plain": [
       "  zipcodegroup  email_address_hash\n",
       "0            P               94730\n",
       "1            S               40618\n",
       "2            T               95512"
      ]
     },
     "execution_count": 14,
     "metadata": {},
     "output_type": "execute_result"
    }
   ],
   "source": [
    "df_all_new_master.groupby(['zipcodegroup'])['email_address_hash'].count().to_frame().reset_index()"
   ]
  },
  {
   "cell_type": "code",
   "execution_count": 15,
   "metadata": {},
   "outputs": [
    {
     "data": {
      "text/html": [
       "<div>\n",
       "<style scoped>\n",
       "    .dataframe tbody tr th:only-of-type {\n",
       "        vertical-align: middle;\n",
       "    }\n",
       "\n",
       "    .dataframe tbody tr th {\n",
       "        vertical-align: top;\n",
       "    }\n",
       "\n",
       "    .dataframe thead th {\n",
       "        text-align: right;\n",
       "    }\n",
       "</style>\n",
       "<table border=\"1\" class=\"dataframe\">\n",
       "  <thead>\n",
       "    <tr style=\"text-align: right;\">\n",
       "      <th></th>\n",
       "      <th>customer_id_hashed</th>\n",
       "      <th>email_address_hash</th>\n",
       "      <th>customer_zip_code</th>\n",
       "      <th>segment</th>\n",
       "    </tr>\n",
       "  </thead>\n",
       "  <tbody>\n",
       "    <tr>\n",
       "      <th>0</th>\n",
       "      <td>8fb2e482332dcc7d72cd05386dfd772b4ff542e0676af2...</td>\n",
       "      <td>05d0a9251efd1e50e46b84a6e8c5668d9a2559eed4dd56...</td>\n",
       "      <td>NaN</td>\n",
       "      <td>NewReward_110219_T</td>\n",
       "    </tr>\n",
       "    <tr>\n",
       "      <th>3</th>\n",
       "      <td>aae4f1700d7c192de452b76729bfe40283c8d0d4e9da65...</td>\n",
       "      <td>86ff0f5cbcf39c9750922c50e300e4927240215856d9c2...</td>\n",
       "      <td>NaN</td>\n",
       "      <td>NewReward_110219_T</td>\n",
       "    </tr>\n",
       "  </tbody>\n",
       "</table>\n",
       "</div>"
      ],
      "text/plain": [
       "                                  customer_id_hashed  \\\n",
       "0  8fb2e482332dcc7d72cd05386dfd772b4ff542e0676af2...   \n",
       "3  aae4f1700d7c192de452b76729bfe40283c8d0d4e9da65...   \n",
       "\n",
       "                                  email_address_hash customer_zip_code  \\\n",
       "0  05d0a9251efd1e50e46b84a6e8c5668d9a2559eed4dd56...               NaN   \n",
       "3  86ff0f5cbcf39c9750922c50e300e4927240215856d9c2...               NaN   \n",
       "\n",
       "              segment  \n",
       "0  NewReward_110219_T  \n",
       "3  NewReward_110219_T  "
      ]
     },
     "execution_count": 15,
     "metadata": {},
     "output_type": "execute_result"
    }
   ],
   "source": [
    "df.head(2)"
   ]
  },
  {
   "cell_type": "code",
   "execution_count": 16,
   "metadata": {},
   "outputs": [
    {
     "name": "stdout",
     "output_type": "stream",
     "text": [
      "2019-11-06 11:02:16.795778\n"
     ]
    }
   ],
   "source": [
    "print(datetime.datetime.now())"
   ]
  },
  {
   "cell_type": "code",
   "execution_count": null,
   "metadata": {
    "collapsed": true
   },
   "outputs": [],
   "source": []
  },
  {
   "cell_type": "code",
   "execution_count": 17,
   "metadata": {},
   "outputs": [
    {
     "name": "stdout",
     "output_type": "stream",
     "text": [
      "Done:  2019-11-06 11:04:16.091080\n"
     ]
    }
   ],
   "source": [
    "import paramiko\n",
    "import glob\n",
    "\n",
    "host = \"files.liveramp.com\"\n",
    "port = 22\n",
    "password = \"Biglots2018!\"\n",
    "username = \"lr-big-lots\"\n",
    "\n",
    "transport = paramiko.Transport((host, port))\n",
    "\n",
    "transport.connect(username = username, password = password)\n",
    "sftp = paramiko.SFTPClient.from_transport(transport)\n",
    "\n",
    "# local_path defined above before saving the local txt\n",
    "local_list=glob.glob(write_folder+\"*.csv\")\n",
    "local_list=[x for x in local_list if 'NewReward_'+str(last_saturday)+'_' in x]\n",
    "\n",
    "for local_path in local_list:\n",
    "    remote_path=\"/uploads/big_lots_onboarding/\"+os.path.basename(local_path)\n",
    "    sftp.put(local_path,remote_path)\n",
    "sftp.close()\n",
    "transport.close()\n",
    "print(\"Done: \",datetime.datetime.now())"
   ]
  },
  {
   "cell_type": "code",
   "execution_count": null,
   "metadata": {
    "collapsed": true
   },
   "outputs": [],
   "source": []
  }
 ],
 "metadata": {
  "kernelspec": {
   "display_name": "Python 3",
   "language": "python",
   "name": "python3"
  },
  "language_info": {
   "codemirror_mode": {
    "name": "ipython",
    "version": 3
   },
   "file_extension": ".py",
   "mimetype": "text/x-python",
   "name": "python",
   "nbconvert_exporter": "python",
   "pygments_lexer": "ipython3",
   "version": "3.6.1"
  }
 },
 "nbformat": 4,
 "nbformat_minor": 2
}
