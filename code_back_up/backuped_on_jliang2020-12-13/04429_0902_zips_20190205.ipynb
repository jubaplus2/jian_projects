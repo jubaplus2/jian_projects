{
 "cells": [
  {
   "cell_type": "code",
   "execution_count": 13,
   "metadata": {},
   "outputs": [
    {
     "data": {
      "text/plain": [
       "'/home/jian/Projects/Perry_Ellis'"
      ]
     },
     "execution_count": 13,
     "metadata": {},
     "output_type": "execute_result"
    }
   ],
   "source": [
    "import pandas as pd\n",
    "import json\n",
    "from haversine import haversine\n",
    "import datetime\n",
    "import os\n",
    "import numpy as np\n",
    "zip_centers=json.load(open(\"/home/jian/Docs/Geo_mapping/center_of_rentrak_zip.json\",\"r\"))\n",
    "os.getcwd()"
   ]
  },
  {
   "cell_type": "code",
   "execution_count": 14,
   "metadata": {},
   "outputs": [],
   "source": [
    "store_list=pd.read_excel(\"/home/jian/Projects/Perry_Ellis/Perry Ellis - Major Department Stores.xlsx\",dtype=str)\n",
    "store_list['latitude']=store_list['latitude'].astype(float)\n",
    "store_list['longitude']=store_list['longitude'].astype(float)\n",
    "store_list['zip_code']=store_list['zip_code'].apply(lambda x: x.zfill(5))\n",
    "store_list['Store_Comb']=store_list['list_name']+\"|\"+store_list['address']+\"|\"+store_list['city']+\"|\"+store_list['state']+\"|\"+store_list['zip_code']\n"
   ]
  },
  {
   "cell_type": "code",
   "execution_count": 15,
   "metadata": {},
   "outputs": [
    {
     "name": "stderr",
     "output_type": "stream",
     "text": [
      "/usr/local/lib/python3.6/site-packages/ipykernel_launcher.py:20: SettingWithCopyWarning: \n",
      "A value is trying to be set on a copy of a slice from a DataFrame\n",
      "\n",
      "See the caveats in the documentation: http://pandas.pydata.org/pandas-docs/stable/indexing.html#indexing-view-versus-copy\n",
      "/usr/local/lib/python3.6/site-packages/pandas/core/indexing.py:179: SettingWithCopyWarning: \n",
      "A value is trying to be set on a copy of a slice from a DataFrame\n",
      "\n",
      "See the caveats in the documentation: http://pandas.pydata.org/pandas-docs/stable/indexing.html#indexing-view-versus-copy\n",
      "  self._setitem_with_indexer(indexer, value)\n"
     ]
    }
   ],
   "source": [
    "i_counter=0\n",
    "output_long=pd.DataFrame()\n",
    "output_wide=store_list.copy()\n",
    "output_wide['zip_list']=np.nan\n",
    "for i in range(len(store_list)):\n",
    "    store_name=store_list['Store_Comb'][i]\n",
    "    store_center=[store_list['latitude'][i],store_list['longitude'][i]]\n",
    "    zip_list=[store_list['zip_code'][i]]\n",
    "    df_store=pd.DataFrame({\"Store_Comb\":store_name,\"zip_cd\":zip_list,\"dist_miles\":\"store_zip\"},index=[i_counter])\n",
    "    \n",
    "    i_counter+=1\n",
    "    for zip_cd in zip_centers.keys():\n",
    "        dist=haversine(store_center,zip_centers[zip_cd],miles=True)\n",
    "        if dist<=10:\n",
    "            zip_list=zip_list+[zip_cd]\n",
    "            df=pd.DataFrame({\"Store_Comb\":store_name,\"zip_cd\":zip_cd,\"dist_miles\":dist},index=[i_counter])\n",
    "            df_store=df_store.append(df)\n",
    "    zip_list=set(zip_list)\n",
    "    output_long=output_long.append(df_store)\n",
    "    output_wide['zip_list'][i]=[zip_list]\n",
    "    "
   ]
  },
  {
   "cell_type": "code",
   "execution_count": 19,
   "metadata": {},
   "outputs": [],
   "source": [
    "output_long_unique=output_long.sort_values(['zip_cd','dist_miles']).drop_duplicates(['zip_cd'])"
   ]
  },
  {
   "cell_type": "code",
   "execution_count": 20,
   "metadata": {},
   "outputs": [],
   "source": [
    "writer=pd.ExcelWriter(\"/home/jian/Projects/Perry_Ellis/Perry Ellis - Major Department Stores_With_Zips_in_10_miles_JL_\"+str(datetime.datetime.now().date())+\".xlsx\",engine=\"xlsxwriter\")\n",
    "output_long_unique.to_excel(writer,\"unique_zips\",index=False)\n",
    "output_wide.to_excel(writer,\"store_list_with_zips\",index=False)\n",
    "output_long.to_excel(writer,\"zips_by_store\",index=False)\n",
    "writer.save()"
   ]
  },
  {
   "cell_type": "code",
   "execution_count": 18,
   "metadata": {},
   "outputs": [
    {
     "data": {
      "text/html": [
       "<div>\n",
       "<style>\n",
       "    .dataframe thead tr:only-child th {\n",
       "        text-align: right;\n",
       "    }\n",
       "\n",
       "    .dataframe thead th {\n",
       "        text-align: left;\n",
       "    }\n",
       "\n",
       "    .dataframe tbody tr th {\n",
       "        vertical-align: top;\n",
       "    }\n",
       "</style>\n",
       "<table border=\"1\" class=\"dataframe\">\n",
       "  <thead>\n",
       "    <tr style=\"text-align: right;\">\n",
       "      <th></th>\n",
       "      <th>Store_Comb</th>\n",
       "      <th>dist_miles</th>\n",
       "      <th>zip_cd</th>\n",
       "    </tr>\n",
       "  </thead>\n",
       "  <tbody>\n",
       "    <tr>\n",
       "      <th>0</th>\n",
       "      <td>Macy's|54 East Main Street|Walla Walla|WA|99362</td>\n",
       "      <td>store_zip</td>\n",
       "      <td>99362</td>\n",
       "    </tr>\n",
       "    <tr>\n",
       "      <th>1</th>\n",
       "      <td>Macy's|54 East Main Street|Walla Walla|WA|99362</td>\n",
       "      <td>2.83511</td>\n",
       "      <td>99324</td>\n",
       "    </tr>\n",
       "  </tbody>\n",
       "</table>\n",
       "</div>"
      ],
      "text/plain": [
       "                                        Store_Comb dist_miles zip_cd\n",
       "0  Macy's|54 East Main Street|Walla Walla|WA|99362  store_zip  99362\n",
       "1  Macy's|54 East Main Street|Walla Walla|WA|99362    2.83511  99324"
      ]
     },
     "execution_count": 18,
     "metadata": {},
     "output_type": "execute_result"
    }
   ],
   "source": [
    "output_long.head(2)"
   ]
  },
  {
   "cell_type": "code",
   "execution_count": null,
   "metadata": {
    "collapsed": true
   },
   "outputs": [],
   "source": []
  }
 ],
 "metadata": {
  "kernelspec": {
   "display_name": "Python 3",
   "language": "python",
   "name": "python3"
  },
  "language_info": {
   "codemirror_mode": {
    "name": "ipython",
    "version": 3
   },
   "file_extension": ".py",
   "mimetype": "text/x-python",
   "name": "python",
   "nbconvert_exporter": "python",
   "pygments_lexer": "ipython3",
   "version": "3.6.1"
  }
 },
 "nbformat": 4,
 "nbformat_minor": 2
}
