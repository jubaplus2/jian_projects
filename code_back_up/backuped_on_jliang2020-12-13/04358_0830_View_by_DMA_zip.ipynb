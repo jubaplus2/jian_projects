{
 "cells": [
  {
   "cell_type": "code",
   "execution_count": 1,
   "metadata": {
    "collapsed": true
   },
   "outputs": [],
   "source": [
    "import pandas as pd\n",
    "import numpy as np\n",
    "import os\n",
    "import datetime"
   ]
  },
  {
   "cell_type": "code",
   "execution_count": 11,
   "metadata": {},
   "outputs": [
    {
     "data": {
      "text/plain": [
       "(5125, 3)"
      ]
     },
     "execution_count": 11,
     "metadata": {},
     "output_type": "execute_result"
    }
   ],
   "source": [
    "data_zip_long=pd.read_excel(\"/home/jian/Projects/Smoothie_King/Dallas_Map/SmoothieKing_TA_revised_3_miles_JC_11052018.xlsx\",\n",
    "                           sheetname=\"zip_TA\",dtype=str)\n",
    "data_zip_long.columns=['TA','Store','zip_cd']\n",
    "data_zip_long.shape"
   ]
  },
  {
   "cell_type": "code",
   "execution_count": 3,
   "metadata": {
    "collapsed": true
   },
   "outputs": [],
   "source": [
    "DMA_Zip=pd.read_excel(\"/home/jian/Docs/Geo_mapping/Zips by DMA by County16-17 nielsen.xlsx\",dtype=str,skiprows=1)\n",
    "DMA_Zip=DMA_Zip.iloc[:,[0,2]].drop_duplicates()\n",
    "DMA_Zip.columns=['zip_cd','DMA']"
   ]
  },
  {
   "cell_type": "code",
   "execution_count": 4,
   "metadata": {
    "collapsed": true
   },
   "outputs": [],
   "source": [
    "zip_DMA_only=data_zip_long[['zip_cd']].drop_duplicates()\n",
    "zip_DMA_only=pd.merge(zip_DMA_only,DMA_Zip,on=\"zip_cd\",how=\"left\")\n",
    "\n",
    "DMA_zip=zip_DMA_only[['DMA','zip_cd']]"
   ]
  },
  {
   "cell_type": "code",
   "execution_count": 5,
   "metadata": {
    "collapsed": true
   },
   "outputs": [],
   "source": [
    "zip_DMA_only=zip_DMA_only.groupby(['zip_cd'])['DMA'].apply(list).to_frame().reset_index()"
   ]
  },
  {
   "cell_type": "code",
   "execution_count": 6,
   "metadata": {},
   "outputs": [
    {
     "data": {
      "text/plain": [
       "array([1, 2])"
      ]
     },
     "execution_count": 6,
     "metadata": {},
     "output_type": "execute_result"
    }
   ],
   "source": [
    "zip_DMA_only['DMA'].apply(lambda x: len(x)).unique()"
   ]
  },
  {
   "cell_type": "code",
   "execution_count": 7,
   "metadata": {
    "collapsed": true
   },
   "outputs": [],
   "source": [
    "zip_DMA_only=zip_DMA_only.rename(columns={\"DMA\":\"DMA_list\"})\n",
    "zip_DMA_only['DMA_1']=np.nan\n",
    "zip_DMA_only['DMA_2']=np.nan"
   ]
  },
  {
   "cell_type": "code",
   "execution_count": 8,
   "metadata": {},
   "outputs": [
    {
     "name": "stderr",
     "output_type": "stream",
     "text": [
      "/usr/local/lib/python3.6/site-packages/ipykernel_launcher.py:5: SettingWithCopyWarning: \n",
      "A value is trying to be set on a copy of a slice from a DataFrame\n",
      "\n",
      "See the caveats in the documentation: http://pandas.pydata.org/pandas-docs/stable/indexing.html#indexing-view-versus-copy\n",
      "  \"\"\"\n",
      "/usr/local/lib/python3.6/site-packages/pandas/core/indexing.py:179: SettingWithCopyWarning: \n",
      "A value is trying to be set on a copy of a slice from a DataFrame\n",
      "\n",
      "See the caveats in the documentation: http://pandas.pydata.org/pandas-docs/stable/indexing.html#indexing-view-versus-copy\n",
      "  self._setitem_with_indexer(indexer, value)\n",
      "/usr/local/lib/python3.6/site-packages/ipykernel_launcher.py:7: SettingWithCopyWarning: \n",
      "A value is trying to be set on a copy of a slice from a DataFrame\n",
      "\n",
      "See the caveats in the documentation: http://pandas.pydata.org/pandas-docs/stable/indexing.html#indexing-view-versus-copy\n",
      "  import sys\n",
      "/usr/local/lib/python3.6/site-packages/ipykernel_launcher.py:8: SettingWithCopyWarning: \n",
      "A value is trying to be set on a copy of a slice from a DataFrame\n",
      "\n",
      "See the caveats in the documentation: http://pandas.pydata.org/pandas-docs/stable/indexing.html#indexing-view-versus-copy\n",
      "  \n"
     ]
    }
   ],
   "source": [
    "zip_DMA_only=zip_DMA_only.reset_index()\n",
    "del zip_DMA_only['index']\n",
    "for i in range(len(zip_DMA_only)):\n",
    "    if len(zip_DMA_only['DMA_list'][i])==1:\n",
    "        zip_DMA_only['DMA_1'][i]=zip_DMA_only['DMA_list'][i][0]\n",
    "    elif len(zip_DMA_only['DMA_list'][i])==2:\n",
    "        zip_DMA_only['DMA_1'][i]=zip_DMA_only['DMA_list'][i][0]\n",
    "        zip_DMA_only['DMA_2'][i]=zip_DMA_only['DMA_list'][i][1]"
   ]
  },
  {
   "cell_type": "code",
   "execution_count": 13,
   "metadata": {
    "collapsed": true
   },
   "outputs": [],
   "source": [
    "data_zip_long=pd.merge(data_zip_long,DMA_Zip,on=\"zip_cd\",how=\"left\")\n",
    "\n",
    "writer=pd.ExcelWriter(\"/home/jian/Projects/Smoothie_King/TA/SK_zipcodes in TA by DMA_JL_\"+str(datetime.datetime.now().date())+\".xlsx\",engine=\"xlsxwriter\")\n",
    "zip_DMA_only.to_excel(writer,\"zip_DMA\",index=False)\n",
    "DMA_zip.to_excel(writer,\"DMA_zip\",index=False)\n",
    "data_zip_long.to_excel(writer,\"TA_store_zip_DMA\",index=False)\n",
    "writer.save()"
   ]
  },
  {
   "cell_type": "code",
   "execution_count": 14,
   "metadata": {},
   "outputs": [
    {
     "data": {
      "text/plain": [
       "(5147, 4)"
      ]
     },
     "execution_count": 14,
     "metadata": {},
     "output_type": "execute_result"
    }
   ],
   "source": [
    "data_zip_long.shape"
   ]
  },
  {
   "cell_type": "code",
   "execution_count": null,
   "metadata": {
    "collapsed": true
   },
   "outputs": [],
   "source": []
  }
 ],
 "metadata": {
  "kernelspec": {
   "display_name": "Python 3",
   "language": "python",
   "name": "python3"
  },
  "language_info": {
   "codemirror_mode": {
    "name": "ipython",
    "version": 3
   },
   "file_extension": ".py",
   "mimetype": "text/x-python",
   "name": "python",
   "nbconvert_exporter": "python",
   "pygments_lexer": "ipython3",
   "version": "3.6.1"
  }
 },
 "nbformat": 4,
 "nbformat_minor": 2
}
