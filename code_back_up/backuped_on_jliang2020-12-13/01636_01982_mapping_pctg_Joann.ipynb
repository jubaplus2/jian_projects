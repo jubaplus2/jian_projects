{
 "cells": [
  {
   "cell_type": "code",
   "execution_count": 1,
   "metadata": {},
   "outputs": [
    {
     "data": {
      "text/plain": [
       "'/home/jian/SunnyD/Analysis_2019/IRI_DMA_mapping_Pctg'"
      ]
     },
     "execution_count": 1,
     "metadata": {},
     "output_type": "execute_result"
    }
   ],
   "source": [
    "import pandas as pd\n",
    "import numpy as np\n",
    "import datetime\n",
    "import os\n",
    "IRI_Selected_18=['LOS ANGELES','DALLAS/FT WORTH','NEW YORK','HOUSTON','WEST TEX/NEW MEXICO','PHOENIX/TUCSON','SOUTH CAROLINA',\n",
    "                'BIRMINGHAM/MONTGOMERY','MISSISSIPPI','BALTIMORE/WASHINGTON','NEW ORLEANS/MOBILE',\n",
    "                 'CHICAGO','ATLANTA','DETROIT','MIAMI/FT LAUDERDALE','HARRISBURG/SCRANTON','BOSTON',\"ROANOKE\"] #'RALEIGH/GREENSBORO','DENVER'\n",
    "\n",
    "os.getcwd()"
   ]
  },
  {
   "cell_type": "code",
   "execution_count": 2,
   "metadata": {
    "collapsed": true
   },
   "outputs": [],
   "source": [
    "IRI_Counties_both=pd.read_excel(\"/home/jian/SunnyD/Otherinput/DMA_to_IRI_Pctg/match_counties.xlsx\",sheetname='Sheet1',dtype=str)\n",
    "IRI_Counties_IRI=pd.read_excel(\"/home/jian/SunnyD/Otherinput/DMA_to_IRI_Pctg/match_counties.xlsx\",sheetname='IRI',dtype=str,usecols=[0,1])\n",
    "IRI_Counties_Nielsen=pd.read_excel(\"/home/jian/SunnyD/Otherinput/DMA_to_IRI_Pctg/match_counties.xlsx\",sheetname='Nielsen',dtype=str,usecols=[0,1])\n",
    "IRI_Counties_Nielsen.columns=[['County','cleaned_name']]\n",
    "IRI_Counties_both=IRI_Counties_both[(IRI_Counties_both['IRI_Label']!='nan') & (IRI_Counties_both['Nielsen_Label']!='nan')]\n",
    "\n",
    "IRI_Counties_both=IRI_Counties_both[['County','County']]\n",
    "IRI_Counties_both.columns=['County','cleaned_name']\n",
    "\n",
    "Nielsen_counties=IRI_Counties_both.append(IRI_Counties_Nielsen).drop_duplicates().reset_index()\n",
    "IRI_counties=IRI_Counties_both.append(IRI_Counties_IRI).drop_duplicates().reset_index()\n",
    "\n",
    "del Nielsen_counties['index']\n",
    "del IRI_counties['index']\n"
   ]
  },
  {
   "cell_type": "code",
   "execution_count": 3,
   "metadata": {
    "collapsed": true
   },
   "outputs": [],
   "source": [
    "All_DMA_zips=pd.read_excel(\"/home/jian/Docs/Geo_mapping/Zips by DMA by County16-17 nielsen.xlsx\",dtype=str,skiprows=1)\n",
    "All_DMA_zips=All_DMA_zips.iloc[:,[0,2,6,9]]\n",
    "All_DMA_zips.columns=['zip_code','DMA','State','County']\n",
    "All_DMA_zips['County']=All_DMA_zips['County']+\"|\"+All_DMA_zips['State']\n",
    "All_DMA_zips['County']=All_DMA_zips['County'].apply(lambda x: x.replace(\" \",\"\").lower())\n",
    "All_DMA_zips=All_DMA_zips[~All_DMA_zips['State'].isin(['AK','HI'])]\n",
    "# 206 DMA after reomoving AK and HI"
   ]
  },
  {
   "cell_type": "code",
   "execution_count": 4,
   "metadata": {
    "collapsed": true
   },
   "outputs": [],
   "source": [
    "All_IRI_counties=pd.read_excel(\"/home/jian/SunnyD/Otherinput/Total_US_counties_IRI_markets_and_regions_cr_12272016.xlsx\",dtype=str,sheetname='U.S. Counties',skiprows=1)\n",
    "All_IRI_counties=All_IRI_counties[['County Name','State','IRI Market']]\n",
    "All_IRI_counties['County']=All_IRI_counties['County Name']+\"|\"+All_IRI_counties['State']\n",
    "All_IRI_counties['County']=All_IRI_counties['County'].apply(lambda x: x.replace(\" \",\"\").lower())\n",
    "All_IRI_counties=pd.merge(All_IRI_counties,IRI_counties,on=\"County\",how=\"left\")\n",
    "All_IRI_counties=All_IRI_counties[['IRI Market','cleaned_name']]"
   ]
  },
  {
   "cell_type": "code",
   "execution_count": 5,
   "metadata": {},
   "outputs": [
    {
     "name": "stdout",
     "output_type": "stream",
     "text": [
      "(51066, 4)\n",
      "(51066, 4)\n"
     ]
    },
    {
     "data": {
      "text/html": [
       "<div>\n",
       "<style>\n",
       "    .dataframe thead tr:only-child th {\n",
       "        text-align: right;\n",
       "    }\n",
       "\n",
       "    .dataframe thead th {\n",
       "        text-align: left;\n",
       "    }\n",
       "\n",
       "    .dataframe tbody tr th {\n",
       "        vertical-align: top;\n",
       "    }\n",
       "</style>\n",
       "<table border=\"1\" class=\"dataframe\">\n",
       "  <thead>\n",
       "    <tr style=\"text-align: right;\">\n",
       "      <th></th>\n",
       "      <th>zip_code</th>\n",
       "      <th>DMA</th>\n",
       "      <th>Nielsen_County</th>\n",
       "      <th>cleaned_name</th>\n",
       "    </tr>\n",
       "  </thead>\n",
       "  <tbody>\n",
       "    <tr>\n",
       "      <th>0</th>\n",
       "      <td>00501</td>\n",
       "      <td>NEW YORK</td>\n",
       "      <td>suffolk|ny</td>\n",
       "      <td>suffolk|ny</td>\n",
       "    </tr>\n",
       "    <tr>\n",
       "      <th>1</th>\n",
       "      <td>00544</td>\n",
       "      <td>NEW YORK</td>\n",
       "      <td>suffolk|ny</td>\n",
       "      <td>suffolk|ny</td>\n",
       "    </tr>\n",
       "  </tbody>\n",
       "</table>\n",
       "</div>"
      ],
      "text/plain": [
       "  zip_code       DMA Nielsen_County cleaned_name\n",
       "0    00501  NEW YORK     suffolk|ny   suffolk|ny\n",
       "1    00544  NEW YORK     suffolk|ny   suffolk|ny"
      ]
     },
     "execution_count": 5,
     "metadata": {},
     "output_type": "execute_result"
    }
   ],
   "source": [
    "print(All_DMA_zips.shape)\n",
    "All_DMA_zips=pd.merge(All_DMA_zips,Nielsen_counties,on=\"County\",how=\"left\")\n",
    "All_DMA_zips=All_DMA_zips[['zip_code','DMA','County','cleaned_name']].rename(columns={\"County\":\"Nielsen_County\"})\n",
    "print(All_DMA_zips.shape)\n",
    "\n",
    "# Use only zip and DMA\n",
    "All_DMA_zips.head(2)"
   ]
  },
  {
   "cell_type": "code",
   "execution_count": 6,
   "metadata": {},
   "outputs": [
    {
     "data": {
      "text/html": [
       "<div>\n",
       "<style>\n",
       "    .dataframe thead tr:only-child th {\n",
       "        text-align: right;\n",
       "    }\n",
       "\n",
       "    .dataframe thead th {\n",
       "        text-align: left;\n",
       "    }\n",
       "\n",
       "    .dataframe tbody tr th {\n",
       "        vertical-align: top;\n",
       "    }\n",
       "</style>\n",
       "<table border=\"1\" class=\"dataframe\">\n",
       "  <thead>\n",
       "    <tr style=\"text-align: right;\">\n",
       "      <th></th>\n",
       "      <th>IRI Market</th>\n",
       "      <th>cleaned_name</th>\n",
       "      <th>zip_code</th>\n",
       "    </tr>\n",
       "  </thead>\n",
       "  <tbody>\n",
       "    <tr>\n",
       "      <th>0</th>\n",
       "      <td>BIRMINGHAM/MONTGOMERY</td>\n",
       "      <td>autauga|al</td>\n",
       "      <td>36003</td>\n",
       "    </tr>\n",
       "    <tr>\n",
       "      <th>1</th>\n",
       "      <td>BIRMINGHAM/MONTGOMERY</td>\n",
       "      <td>autauga|al</td>\n",
       "      <td>36006</td>\n",
       "    </tr>\n",
       "  </tbody>\n",
       "</table>\n",
       "</div>"
      ],
      "text/plain": [
       "              IRI Market cleaned_name zip_code\n",
       "0  BIRMINGHAM/MONTGOMERY   autauga|al    36003\n",
       "1  BIRMINGHAM/MONTGOMERY   autauga|al    36006"
      ]
     },
     "execution_count": 6,
     "metadata": {},
     "output_type": "execute_result"
    }
   ],
   "source": [
    "county_zip=All_DMA_zips[['zip_code','cleaned_name']].drop_duplicates()\n",
    "All_IRI_zip=pd.merge(All_IRI_counties,county_zip,on=\"cleaned_name\",how=\"left\")\n",
    "All_IRI_zip.head(2)"
   ]
  },
  {
   "cell_type": "code",
   "execution_count": 7,
   "metadata": {
    "collapsed": true
   },
   "outputs": [],
   "source": [
    "IRI_zip_list=All_IRI_zip.groupby(\"IRI Market\")['zip_code'].apply(list).to_frame().reset_index()\n",
    "IRI_zip_list['zip_code']=IRI_zip_list['zip_code'].apply(set)"
   ]
  },
  {
   "cell_type": "code",
   "execution_count": 8,
   "metadata": {
    "collapsed": true
   },
   "outputs": [],
   "source": [
    "DMA_zip_list=All_DMA_zips.groupby(\"DMA\")['zip_code'].apply(list).to_frame().reset_index()\n",
    "DMA_zip_list['zip_code']=DMA_zip_list['zip_code'].apply(set)"
   ]
  },
  {
   "cell_type": "code",
   "execution_count": 9,
   "metadata": {
    "collapsed": true
   },
   "outputs": [],
   "source": [
    "# hold IRI\n",
    "col_1=[\"IRI_Market\",\"iri_zip_counts\",\"DMA_count_overlapped\",\"Covred_other_DMA_pctg\",\"Be_covered_by_DMA\"]\n",
    "col_2=[\"IRI_Market\",\"DMA\",\"IRI_zip_count\",\"DMA_zip_count\",\"overlap_zip_count\",\"overlap_pctg_of_DMA\",\"covered_by_DMA\"]\n",
    "df_iri_with_DMAs_by_IRI=pd.DataFrame(columns=col_1)\n",
    "df_iri_with_DMAs_by_IRI_and_DMA=pd.DataFrame(columns=col_2)\n",
    "for ind_iri, row_iri in IRI_zip_list.iterrows():\n",
    "    iri_name=row_iri['IRI Market']\n",
    "    IRI_zip_set=row_iri['zip_code']\n",
    "    dict_covered_other_dma=dict()\n",
    "    dict_covered_by_dma=dict()\n",
    "    \n",
    "    for ind_dma,row_dma in DMA_zip_list.iterrows():\n",
    "        dma_name=row_dma['DMA']\n",
    "        dma_zip_set=row_dma['zip_code']\n",
    "        intersection=IRI_zip_set.intersection(dma_zip_set)\n",
    "        \n",
    "        if len(intersection)>0:\n",
    "            iri_covered_other_dma=np.round(len(intersection)/len(dma_zip_set),8)\n",
    "            iri_covered_by_dma=np.round(len(intersection)/len(IRI_zip_set),8)\n",
    "            dict_covered_other_dma.update({dma_name:iri_covered_other_dma})\n",
    "            dict_covered_by_dma.update({dma_name:iri_covered_by_dma})\n",
    "            \n",
    "            df=pd.DataFrame({\"IRI_Market\":iri_name,\n",
    "                             \"DMA\":dma_name,\n",
    "                             \"IRI_zip_count\":len(IRI_zip_set),\n",
    "                             \"DMA_zip_count\":len(dma_zip_set),\n",
    "                             \"overlap_zip_count\":len(intersection),\n",
    "                             \"overlap_pctg_of_DMA\":iri_covered_other_dma,\n",
    "                             \"covered_by_DMA\":iri_covered_by_dma},index=[0])\n",
    "            df_iri_with_DMAs_by_IRI_and_DMA=df_iri_with_DMAs_by_IRI_and_DMA.append(df)\n",
    "    df_iri_with_DMAs_by_IRI=df_iri_with_DMAs_by_IRI.append(pd.DataFrame({\"IRI_Market\":iri_name,\n",
    "                                                                         \"iri_zip_counts\":len(IRI_zip_set),\n",
    "                                                                         \"DMA_count_overlapped\":len(dict_covered_other_dma),\n",
    "                                                                         \"Covred_other_DMA_pctg\":str(dict_covered_other_dma),\n",
    "                                                                         \"Be_covered_by_DMA\":str(dict_covered_by_dma)},\n",
    "                                                                        index=[0]))\n",
    "df_iri_with_DMAs_by_IRI=df_iri_with_DMAs_by_IRI[col_1]\n",
    "df_iri_with_DMAs_by_IRI_and_DMA=df_iri_with_DMAs_by_IRI_and_DMA[col_2]\n"
   ]
  },
  {
   "cell_type": "code",
   "execution_count": 10,
   "metadata": {
    "collapsed": true
   },
   "outputs": [],
   "source": [
    "writer=pd.ExcelWriter(\"./SunnyD_mapping_overlap_hodling_IRI_JL_\"+str(datetime.datetime.now().date())+\".xlsx\",engine=\"xlsxwriter\")\n",
    "df_iri_with_DMAs_by_IRI.to_excel(writer,\"by_IRI\",index=False)\n",
    "df_iri_with_DMAs_by_IRI_and_DMA.to_excel(writer,\"by_IRI_and_DMA\",index=False)\n",
    "writer.save()"
   ]
  },
  {
   "cell_type": "code",
   "execution_count": 11,
   "metadata": {
    "collapsed": true
   },
   "outputs": [],
   "source": [
    "# hold DMA\n",
    "col_1=[\"DMA\",\"DMA_zip_counts\",\"IRI_count_overlapped\",\"Covred_other_IRI_pctg\",\"Be_covered_by_IRI\"]\n",
    "col_2=[\"DMA\",\"IRI_Market\",\"DMA_zip_count\",\"IRI_zip_count\",\"overlap_zip_count\",\"overlap_pctg_of_IRI\",\"covered_by_IRI\"]\n",
    "df_DMA_with_IRIs_by_DMA=pd.DataFrame(columns=col_1)\n",
    "df_DMA_with_IRI_by_DMA_and_IRI=pd.DataFrame(columns=col_2)\n",
    "for ind_dma,row_dma  in DMA_zip_list.iterrows():\n",
    "    dma_name=row_dma['DMA']\n",
    "    dma_zip_set=row_dma['zip_code']\n",
    "    dict_covered_other_iri=dict()\n",
    "    dict_covered_by_iri=dict()\n",
    "    \n",
    "    for ind_iri,row_iri in IRI_zip_list.iterrows():\n",
    "        iri_name=row_iri['IRI Market']\n",
    "        iri_zip_set=row_iri['zip_code']\n",
    "        intersection=dma_zip_set.intersection(iri_zip_set)\n",
    "        if len(intersection)>0:\n",
    "            dma_covered_other_iri=np.round(len(intersection)/len(IRI_zip_set),8)\n",
    "            dma_covered_by_iri=np.round(len(intersection)/len(dma_zip_set),8)\n",
    "            dict_covered_other_iri.update({iri_name:dma_covered_other_iri})\n",
    "            dict_covered_by_iri.update({iri_name:dma_covered_by_iri})\n",
    "            \n",
    "            df=pd.DataFrame({\"DMA\":dma_name,\n",
    "                             \"IRI_Market\":iri_name,\n",
    "                             \"DMA_zip_count\":len(dma_zip_set),\n",
    "                             \"IRI_zip_count\":len(iri_zip_set),\n",
    "                             \"overlap_zip_count\":len(intersection),\n",
    "                             \"overlap_pctg_of_IRI\":dma_covered_other_iri,\n",
    "                             \"covered_by_IRI\":dma_covered_by_iri},index=[0])\n",
    "            df_DMA_with_IRI_by_DMA_and_IRI=df_DMA_with_IRI_by_DMA_and_IRI.append(df)\n",
    "    df_DMA_with_IRIs_by_DMA=df_DMA_with_IRIs_by_DMA.append(pd.DataFrame({\"DMA\":dma_name,\n",
    "                                                                         \"DMA_zip_counts\":len(dma_zip_set),\n",
    "                                                                         \"IRI_count_overlapped\":len(dict_covered_other_iri),\n",
    "                                                                         \"Covred_other_IRI_pctg\":str(dict_covered_other_iri),\n",
    "                                                                         \"Be_covered_by_IRI\":str(dict_covered_by_iri)},\n",
    "                                                                        index=[0]))\n",
    "df_DMA_with_IRIs_by_DMA=df_DMA_with_IRIs_by_DMA[col_1]\n",
    "df_DMA_with_IRI_by_DMA_and_IRI=df_DMA_with_IRI_by_DMA_and_IRI[col_2]"
   ]
  },
  {
   "cell_type": "code",
   "execution_count": 30,
   "metadata": {
    "collapsed": true
   },
   "outputs": [],
   "source": [
    "writer=pd.ExcelWriter(\"./SunnyD_mapping_overlap_hodling_DMA_JL_\"+str(datetime.datetime.now().date())+\".xlsx\",engine=\"xlsxwriter\")\n",
    "df_DMA_with_IRIs_by_DMA.to_excel(writer,\"by_DMA\",index=False)\n",
    "df_DMA_with_IRI_by_DMA_and_IRI.to_excel(writer,\"by_DMA_and_IRI\",index=False)\n",
    "writer.save()"
   ]
  },
  {
   "cell_type": "markdown",
   "metadata": {},
   "source": [
    "# Format for deck"
   ]
  },
  {
   "cell_type": "code",
   "execution_count": 31,
   "metadata": {
    "collapsed": true
   },
   "outputs": [],
   "source": [
    "def format_pctg(x):\n",
    "    y=\"\"\n",
    "    x=eval(x)\n",
    "    for k,v in x.items():\n",
    "        y=y+k+\" (\"+str(int(np.round(v*100,0)))+\"%\"+\")\"+\", \"\n",
    "    \n",
    "    return y[:len(y)-2]\n",
    "    "
   ]
  },
  {
   "cell_type": "code",
   "execution_count": 32,
   "metadata": {},
   "outputs": [],
   "source": [
    "df_iri_with_DMAs_by_IRI['formated_Covred_other_DMA_pctg']=df_iri_with_DMAs_by_IRI['Covred_other_DMA_pctg'].apply(lambda x: format_pctg(x))"
   ]
  },
  {
   "cell_type": "code",
   "execution_count": 33,
   "metadata": {
    "collapsed": true
   },
   "outputs": [],
   "source": [
    "writer=pd.ExcelWriter(\"./SunnyD_mapping_overlap_hodling_IRI_JL_\"+str(datetime.datetime.now().date())+\".xlsx\",engine=\"xlsxwriter\")\n",
    "df_iri_with_DMAs_by_IRI.to_excel(writer,\"by_IRI\",index=False)\n",
    "df_iri_with_DMAs_by_IRI_and_DMA.to_excel(writer,\"by_IRI_and_DMA\",index=False)\n",
    "writer.save()"
   ]
  },
  {
   "cell_type": "code",
   "execution_count": null,
   "metadata": {
    "collapsed": true
   },
   "outputs": [],
   "source": []
  },
  {
   "cell_type": "code",
   "execution_count": null,
   "metadata": {
    "collapsed": true
   },
   "outputs": [],
   "source": []
  }
 ],
 "metadata": {
  "kernelspec": {
   "display_name": "Python 3",
   "language": "python",
   "name": "python3"
  },
  "language_info": {
   "codemirror_mode": {
    "name": "ipython",
    "version": 3
   },
   "file_extension": ".py",
   "mimetype": "text/x-python",
   "name": "python",
   "nbconvert_exporter": "python",
   "pygments_lexer": "ipython3",
   "version": "3.6.1"
  }
 },
 "nbformat": 4,
 "nbformat_minor": 2
}
