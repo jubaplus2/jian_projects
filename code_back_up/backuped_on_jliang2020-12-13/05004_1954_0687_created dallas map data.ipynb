{
 "cells": [
  {
   "cell_type": "code",
   "execution_count": 2,
   "metadata": {
    "collapsed": true
   },
   "outputs": [],
   "source": [
    "import pandas as pd\n",
    "import numpy as np\n",
    "import datetime"
   ]
  },
  {
   "cell_type": "code",
   "execution_count": 2,
   "metadata": {},
   "outputs": [
    {
     "data": {
      "text/plain": [
       "'/home/jian/Projects/Smoothie_King/Dallas_Map'"
      ]
     },
     "execution_count": 2,
     "metadata": {},
     "output_type": "execute_result"
    }
   ],
   "source": [
    "import os\n",
    "os.getcwd()"
   ]
  },
  {
   "cell_type": "code",
   "execution_count": 3,
   "metadata": {
    "collapsed": true
   },
   "outputs": [],
   "source": [
    "data_by_store=pd.read_excel(\"/home/jian/Projects/Smoothie_King/Dallas_Map/SmoothieKing_TA_revised_3_miles_JC_11052018.xlsx\",\n",
    "                           sheetname=\"output_TA_by_store\",dtype=str)\n"
   ]
  },
  {
   "cell_type": "code",
   "execution_count": 4,
   "metadata": {
    "collapsed": true
   },
   "outputs": [],
   "source": [
    "data_zip_long=pd.read_excel(\"/home/jian/Projects/Smoothie_King/Dallas_Map/SmoothieKing_TA_revised_3_miles_JC_11052018.xlsx\",\n",
    "                           sheetname=\"zip_TA\",dtype=str)\n",
    "data_zip_long.columns=['TA','Store','zip_cd_3_miles']"
   ]
  },
  {
   "cell_type": "code",
   "execution_count": 3,
   "metadata": {},
   "outputs": [],
   "source": [
    "DMA_Zip=pd.read_excel(\"/home/jian/Docs/Geo_mapping/Zips by DMA by County16-17 nielsen.xlsx\",dtype=str,skiprows=1)\n",
    "DMA_Zip=DMA_Zip.iloc[:,[0,2]]\n",
    "DMA_Zip.columns=['zip_cd','DMA']\n",
    "DMA_Zip_Dallas=DMA_Zip[DMA_Zip['DMA']==\"DALLAS-FT. WORTH\"].drop_duplicates()\n",
    "\n"
   ]
  },
  {
   "cell_type": "code",
   "execution_count": 6,
   "metadata": {
    "collapsed": true
   },
   "outputs": [],
   "source": [
    "TAs_associated_with_Dallas=data_zip_long[data_zip_long['zip_cd_3_miles'].isin(DMA_Zip_Dallas['zip_cd'])]\n",
    "TAs_associated_with_Dallas_list=TAs_associated_with_Dallas['TA'].unique().tolist()"
   ]
  },
  {
   "cell_type": "code",
   "execution_count": 7,
   "metadata": {
    "collapsed": true
   },
   "outputs": [],
   "source": [
    "data_zip_long_Dallas=data_zip_long[data_zip_long['TA'].isin(TAs_associated_with_Dallas_list)]\n",
    "data_zip_long_Dallas=data_zip_long_Dallas[['TA','zip_cd_3_miles']].drop_duplicates()\n",
    "data_zip_long_Dallas['DMA_of_zip']=np.where(data_zip_long_Dallas['zip_cd_3_miles'].isin(DMA_Zip_Dallas['zip_cd']),\"DALLAS-FT. WORTH\",\"Others\")"
   ]
  },
  {
   "cell_type": "code",
   "execution_count": 8,
   "metadata": {
    "collapsed": true
   },
   "outputs": [],
   "source": [
    "data_by_store_Dallas=data_by_store[data_by_store['TA'].isin(TAs_associated_with_Dallas_list)]\n",
    "data_by_store_Dallas=data_by_store_Dallas[['storenumber','TA','Latitude','Longitude','city','revised_store_zip','state']]\n",
    "data_by_store_Dallas.columns=['storenumber','TA']+[\"store_\"+x for x in data_by_store_Dallas.columns.tolist()[2:]]\n",
    "data_by_store_Dallas['DMA_of_zip']=np.where(data_by_store_Dallas['store_revised_store_zip'].isin(DMA_Zip_Dallas['zip_cd']),\"DALLAS-FT. WORTH\",\"Others\")\n",
    "\n"
   ]
  },
  {
   "cell_type": "code",
   "execution_count": null,
   "metadata": {
    "collapsed": true
   },
   "outputs": [],
   "source": []
  },
  {
   "cell_type": "code",
   "execution_count": 9,
   "metadata": {
    "collapsed": true
   },
   "outputs": [],
   "source": [
    "data_for_tableau=data_by_store_Dallas.append(data_zip_long_Dallas)\n",
    "\n",
    "data_for_tableau['store_Latitude']=data_for_tableau['store_Latitude'].fillna(0)\n",
    "data_for_tableau['store_Longitude']=data_for_tableau['store_Longitude'].fillna(0)\n",
    "\n",
    "data_for_tableau['store_Latitude']=data_for_tableau['store_Latitude'].astype(float)\n",
    "data_for_tableau['store_Longitude']=data_for_tableau['store_Longitude'].astype(float)"
   ]
  },
  {
   "cell_type": "code",
   "execution_count": null,
   "metadata": {
    "collapsed": true
   },
   "outputs": [],
   "source": []
  },
  {
   "cell_type": "code",
   "execution_count": 10,
   "metadata": {},
   "outputs": [
    {
     "data": {
      "text/html": [
       "<div>\n",
       "<style>\n",
       "    .dataframe thead tr:only-child th {\n",
       "        text-align: right;\n",
       "    }\n",
       "\n",
       "    .dataframe thead th {\n",
       "        text-align: left;\n",
       "    }\n",
       "\n",
       "    .dataframe tbody tr th {\n",
       "        vertical-align: top;\n",
       "    }\n",
       "</style>\n",
       "<table border=\"1\" class=\"dataframe\">\n",
       "  <thead>\n",
       "    <tr style=\"text-align: right;\">\n",
       "      <th></th>\n",
       "      <th>DMA_of_zip</th>\n",
       "      <th>TA</th>\n",
       "      <th>store_Latitude</th>\n",
       "      <th>store_Longitude</th>\n",
       "      <th>store_city</th>\n",
       "      <th>store_revised_store_zip</th>\n",
       "      <th>store_state</th>\n",
       "      <th>storenumber</th>\n",
       "      <th>zip_cd_3_miles</th>\n",
       "    </tr>\n",
       "  </thead>\n",
       "  <tbody>\n",
       "    <tr>\n",
       "      <th>49</th>\n",
       "      <td>DALLAS-FT. WORTH</td>\n",
       "      <td>024_2</td>\n",
       "      <td>32.910011</td>\n",
       "      <td>-96.802320</td>\n",
       "      <td>Dallas</td>\n",
       "      <td>75230</td>\n",
       "      <td>TX</td>\n",
       "      <td>101</td>\n",
       "      <td>NaN</td>\n",
       "    </tr>\n",
       "    <tr>\n",
       "      <th>66</th>\n",
       "      <td>DALLAS-FT. WORTH</td>\n",
       "      <td>032</td>\n",
       "      <td>32.706763</td>\n",
       "      <td>-97.360794</td>\n",
       "      <td>Fort  Worth</td>\n",
       "      <td>76109</td>\n",
       "      <td>TX</td>\n",
       "      <td>153</td>\n",
       "      <td>NaN</td>\n",
       "    </tr>\n",
       "  </tbody>\n",
       "</table>\n",
       "</div>"
      ],
      "text/plain": [
       "          DMA_of_zip     TA  store_Latitude  store_Longitude   store_city  \\\n",
       "49  DALLAS-FT. WORTH  024_2       32.910011       -96.802320       Dallas   \n",
       "66  DALLAS-FT. WORTH    032       32.706763       -97.360794  Fort  Worth   \n",
       "\n",
       "   store_revised_store_zip store_state storenumber zip_cd_3_miles  \n",
       "49                   75230          TX         101            NaN  \n",
       "66                   76109          TX         153            NaN  "
      ]
     },
     "execution_count": 10,
     "metadata": {},
     "output_type": "execute_result"
    }
   ],
   "source": [
    "data_for_tableau.head(2)"
   ]
  },
  {
   "cell_type": "code",
   "execution_count": 11,
   "metadata": {},
   "outputs": [
    {
     "data": {
      "text/plain": [
       "array(['DALLAS-FT. WORTH'], dtype=object)"
      ]
     },
     "execution_count": 11,
     "metadata": {},
     "output_type": "execute_result"
    }
   ],
   "source": [
    "data_for_tableau['DMA_of_zip'].unique()"
   ]
  },
  {
   "cell_type": "code",
   "execution_count": 12,
   "metadata": {},
   "outputs": [
    {
     "name": "stdout",
     "output_type": "stream",
     "text": [
      "stores_not_in_dallas (also in others):  0\n",
      "zips_not_in_dallas (also in others):  0\n"
     ]
    }
   ],
   "source": [
    "DMA_Zip_NonDallas=DMA_Zip[DMA_Zip['DMA']!=\"DALLAS-FT. WORTH\"].drop_duplicates()\n",
    "print(\"stores_not_in_dallas (also in others): \",data_by_store_Dallas[data_by_store_Dallas['store_revised_store_zip'].isin(DMA_Zip_NonDallas['zip_cd'])].shape[0])\n",
    "print(\"zips_not_in_dallas (also in others): \",data_zip_long_Dallas[data_zip_long_Dallas['zip_cd_3_miles'].isin(DMA_Zip_NonDallas['zip_cd'])].shape[0])\n"
   ]
  },
  {
   "cell_type": "code",
   "execution_count": 13,
   "metadata": {
    "collapsed": true
   },
   "outputs": [],
   "source": [
    "data_for_tableau.to_csv('/home/jian/Projects/Smoothie_King/Dallas_Map/SK_Dallas_Map_Data_Tableau_JL_'+str(datetime.datetime.now().date())+\".csv\",index=False)"
   ]
  },
  {
   "cell_type": "code",
   "execution_count": null,
   "metadata": {
    "collapsed": true
   },
   "outputs": [],
   "source": []
  }
 ],
 "metadata": {
  "kernelspec": {
   "display_name": "Python 3",
   "language": "python",
   "name": "python3"
  },
  "language_info": {
   "codemirror_mode": {
    "name": "ipython",
    "version": 3
   },
   "file_extension": ".py",
   "mimetype": "text/x-python",
   "name": "python",
   "nbconvert_exporter": "python",
   "pygments_lexer": "ipython3",
   "version": "3.6.1"
  }
 },
 "nbformat": 4,
 "nbformat_minor": 2
}
