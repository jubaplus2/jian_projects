{
 "cells": [
  {
   "cell_type": "code",
   "execution_count": 1,
   "metadata": {},
   "outputs": [
    {
     "data": {
      "text/plain": [
       "'/home/jian/Projects/Big_Lots/Analysis/2019_Q2/Planner_Requests/sales_Margret_20190717'"
      ]
     },
     "execution_count": 1,
     "metadata": {},
     "output_type": "execute_result"
    }
   ],
   "source": [
    "import pandas as pd\n",
    "import os\n",
    "import numpy as np\n",
    "import datetime\n",
    "os.getcwd()"
   ]
  },
  {
   "cell_type": "code",
   "execution_count": 2,
   "metadata": {},
   "outputs": [],
   "source": [
    "def recursive_file_gen(root_path):\n",
    "    for root, dirs, files in os.walk(root_path):\n",
    "        for file in files:\n",
    "            yield os.path.join(root,file)"
   ]
  },
  {
   "cell_type": "code",
   "execution_count": 3,
   "metadata": {},
   "outputs": [],
   "source": [
    "all_BL_weekly_sales_file_2018=list(recursive_file_gen(\"/home/jian/BigLots/2018_by_weeks/\"))\n",
    "all_BL_weekly_sales_file_2018=sorted([x for x in all_BL_weekly_sales_file_2018 if (\"SalesWeekly\" in x) & (\".txt\" in x)])\n",
    "\n",
    "all_BL_weekly_sales_file_2019=list(recursive_file_gen(\"/home/jian/BigLots/2019_by_weeks/\"))\n",
    "all_BL_weekly_sales_file_2019=sorted([x for x in all_BL_weekly_sales_file_2019 if (\"SalesWeekly\" in x) & (\".txt\" in x)])\n",
    "\n",
    "all_BL_weekly_sales_file_2020=list(recursive_file_gen(\"/home/jian/BigLots/2020_by_weeks/\"))\n",
    "all_BL_weekly_sales_file_2020=sorted([x for x in all_BL_weekly_sales_file_2020 if (\"SalesWeekly\" in x) & (\".txt\" in x)])\n"
   ]
  },
  {
   "cell_type": "code",
   "execution_count": 4,
   "metadata": {},
   "outputs": [
    {
     "data": {
      "text/plain": [
       "(222, 3)"
      ]
     },
     "execution_count": 4,
     "metadata": {},
     "output_type": "execute_result"
    }
   ],
   "source": [
    "df_sales_2018_19=pd.DataFrame()\n",
    "for file in all_BL_weekly_sales_file_2018+all_BL_weekly_sales_file_2019+all_BL_weekly_sales_file_2020:\n",
    "    df=pd.read_table(file,dtype=str,sep=\"|\",usecols=['location_id','week_end_dt','gross_sales_amt'])\n",
    "    df['gross_sales_amt']=df['gross_sales_amt'].astype(float)\n",
    "    df=df.drop_duplicates()\n",
    "    \n",
    "    df['store_type']=np.where(df['location_id']==\"6990\",\"Ecomm\",\"Instore\")\n",
    "    df=df.groupby([\"week_end_dt\",\"store_type\"])['gross_sales_amt'].sum().to_frame().reset_index()\n",
    "    df_sales_2018_19=df_sales_2018_19.append(df)\n",
    "    \n",
    "df_sales_2018_19.shape"
   ]
  },
  {
   "cell_type": "code",
   "execution_count": 5,
   "metadata": {},
   "outputs": [
    {
     "data": {
      "text/plain": [
       "(222, 3)"
      ]
     },
     "execution_count": 5,
     "metadata": {},
     "output_type": "execute_result"
    }
   ],
   "source": [
    "df_sales_2018_19.shape"
   ]
  },
  {
   "cell_type": "code",
   "execution_count": 6,
   "metadata": {},
   "outputs": [
    {
     "data": {
      "text/plain": [
       "111"
      ]
     },
     "execution_count": 6,
     "metadata": {},
     "output_type": "execute_result"
    }
   ],
   "source": [
    "df_sales_2018_19['week_end_dt'].nunique()"
   ]
  },
  {
   "cell_type": "code",
   "execution_count": 7,
   "metadata": {},
   "outputs": [
    {
     "data": {
      "text/plain": [
       "26"
      ]
     },
     "execution_count": 7,
     "metadata": {},
     "output_type": "execute_result"
    }
   ],
   "source": [
    "all_BL_weekly_sales_file_2017=list(recursive_file_gen(\"/home/jian/BigLots/2017_by_weeks/\"))\n",
    "all_BL_weekly_sales_file_2017=[x for x in all_BL_weekly_sales_file_2017 if (\"SalesWeekly\" in x) & (\".txt\" in x)]\n",
    "previous_sales_files=['/home/jian/BigLots/MediaStormDataExtract/MediaStorm Data Extract - Detail Store Sales1 (stores up to 1000).txt',\n",
    "                     '/home/jian/BigLots/MediaStormDataExtract/MediaStorm Data Extract - Detail Store Sales2 (stores 1001 to 1450).txt',\n",
    "                     '/home/jian/BigLots/MediaStormDataExtract/MediaStorm Data Extract - Detail Store Sales3 (stores 1451 to 1750).txt',\n",
    "                     '/home/jian/BigLots/MediaStormDataExtract/MediaStorm Data Extract - Detail Store Sales4 (stores 1751 to 2000).txt',\n",
    "                     '/home/jian/BigLots/MediaStormDataExtract/MediaStorm Data Extract - Detail Store Sales5 (stores 2001 to 4500).txt',\n",
    "                     '/home/jian/BigLots/MediaStormDataExtract/MediaStorm Data Extract - Detail Store Sales6 (stores 4501 to 5000).txt',\n",
    "                     '/home/jian/BigLots/MediaStormDataExtract/MediaStorm Data Extract - Detail Store Sales7 (stores 5001 to 6990).txt'\n",
    "                     ]\n",
    "\n",
    "sales_files_2017_May=['/home/jian/BigLots/2017-05/MediaStorm Data Extract - Detail Store Sales May 2017.txt']\n",
    "sales_files_2017_June_Aug=['/home/jian/BigLots/MediaStorm Data Extract June-August 2017/MediaStorm Data Extract - Detail Store Sales June-August 2017.txt']\n",
    "\n",
    "all_2017_files=previous_sales_files+sales_files_2017_May+sales_files_2017_June_Aug+all_BL_weekly_sales_file_2017\n",
    "                           \n",
    "len(all_2017_files)"
   ]
  },
  {
   "cell_type": "code",
   "execution_count": 8,
   "metadata": {},
   "outputs": [
    {
     "data": {
      "text/html": [
       "<div>\n",
       "<style scoped>\n",
       "    .dataframe tbody tr th:only-of-type {\n",
       "        vertical-align: middle;\n",
       "    }\n",
       "\n",
       "    .dataframe tbody tr th {\n",
       "        vertical-align: top;\n",
       "    }\n",
       "\n",
       "    .dataframe thead th {\n",
       "        text-align: right;\n",
       "    }\n",
       "</style>\n",
       "<table border=\"1\" class=\"dataframe\">\n",
       "  <thead>\n",
       "    <tr style=\"text-align: right;\">\n",
       "      <th></th>\n",
       "      <th>week_end_dt</th>\n",
       "      <th>store_type</th>\n",
       "      <th>gross_sales_amt</th>\n",
       "    </tr>\n",
       "  </thead>\n",
       "  <tbody>\n",
       "    <tr>\n",
       "      <th>0</th>\n",
       "      <td>2017-01-07</td>\n",
       "      <td>Ecomm</td>\n",
       "      <td>432202.66</td>\n",
       "    </tr>\n",
       "    <tr>\n",
       "      <th>1</th>\n",
       "      <td>2017-01-07</td>\n",
       "      <td>Instore</td>\n",
       "      <td>71550131.95</td>\n",
       "    </tr>\n",
       "    <tr>\n",
       "      <th>2</th>\n",
       "      <td>2017-01-14</td>\n",
       "      <td>Ecomm</td>\n",
       "      <td>211334.39</td>\n",
       "    </tr>\n",
       "    <tr>\n",
       "      <th>3</th>\n",
       "      <td>2017-01-14</td>\n",
       "      <td>Instore</td>\n",
       "      <td>71815622.84</td>\n",
       "    </tr>\n",
       "    <tr>\n",
       "      <th>4</th>\n",
       "      <td>2017-01-21</td>\n",
       "      <td>Ecomm</td>\n",
       "      <td>133178.15</td>\n",
       "    </tr>\n",
       "  </tbody>\n",
       "</table>\n",
       "</div>"
      ],
      "text/plain": [
       "  week_end_dt store_type  gross_sales_amt\n",
       "0  2017-01-07      Ecomm        432202.66\n",
       "1  2017-01-07    Instore      71550131.95\n",
       "2  2017-01-14      Ecomm        211334.39\n",
       "3  2017-01-14    Instore      71815622.84\n",
       "4  2017-01-21      Ecomm        133178.15"
      ]
     },
     "execution_count": 8,
     "metadata": {},
     "output_type": "execute_result"
    }
   ],
   "source": [
    "df_sales_2017=pd.DataFrame()\n",
    "for file in all_2017_files:\n",
    "    df=pd.read_table(file,dtype=str,sep=\"|\",usecols=['location_id','week_end_dt','gross_sales_amt'])\n",
    "    df['gross_sales_amt']=df['gross_sales_amt'].astype(float)\n",
    "    df=df[df['week_end_dt']>=\"2017-01-01\"]\n",
    "    df=df.drop_duplicates()\n",
    "    df['store_type']=np.where(df['location_id']==\"6990\",\"Ecomm\",\"Instore\")\n",
    "    df_sales_2017=df_sales_2017.append(df)\n",
    "    \n",
    "df_sales_2017=df_sales_2017.groupby([\"week_end_dt\",\"store_type\"])['gross_sales_amt'].sum().to_frame().reset_index()\n",
    "df_sales_2017=df_sales_2017.sort_values(\"week_end_dt\")\n",
    "df_sales_2017.head(5)"
   ]
  },
  {
   "cell_type": "code",
   "execution_count": 9,
   "metadata": {},
   "outputs": [
    {
     "data": {
      "text/plain": [
       "(104, 3)"
      ]
     },
     "execution_count": 9,
     "metadata": {},
     "output_type": "execute_result"
    }
   ],
   "source": [
    "df_sales_2017.shape"
   ]
  },
  {
   "cell_type": "code",
   "execution_count": 10,
   "metadata": {},
   "outputs": [
    {
     "data": {
      "text/plain": [
       "52"
      ]
     },
     "execution_count": 10,
     "metadata": {},
     "output_type": "execute_result"
    }
   ],
   "source": [
    "df_sales_2017['week_end_dt'].nunique()"
   ]
  },
  {
   "cell_type": "code",
   "execution_count": 19,
   "metadata": {},
   "outputs": [],
   "source": [
    "all_sales=df_sales_2017.append(df_sales_2018_19)\n",
    "all_sales=all_sales.sort_values([\"store_type\",\"week_end_dt\"])\n",
    "all_sales_table=all_sales.pivot(index=\"week_end_dt\",columns=\"store_type\",values=\"gross_sales_amt\")\n",
    "all_sales_table=all_sales_table.fillna(0)\n",
    "all_sales_table['total_sales']=all_sales_table['Ecomm']+all_sales_table['Instore']\n",
    "all_sales_table=all_sales_table.reset_index()"
   ]
  },
  {
   "cell_type": "code",
   "execution_count": 20,
   "metadata": {},
   "outputs": [],
   "source": [
    "writer=pd.ExcelWriter('/home/jian/Projects/Big_Lots/Analysis/2019_Q2/Planner_Requests/sales_Margret_20190717/sales_by_week_JL_'+str(datetime.datetime.now().date())+\".xlsx\",engine=\"xlsxwriter\")\n",
    "all_sales_table.to_excel(writer,\"sales_by_week\",index=False)\n",
    "all_sales.to_excel(writer,\"sales_long\",index=False)\n",
    "writer.save()"
   ]
  },
  {
   "cell_type": "code",
   "execution_count": 21,
   "metadata": {},
   "outputs": [
    {
     "data": {
      "text/plain": [
       "(326, 3)"
      ]
     },
     "execution_count": 21,
     "metadata": {},
     "output_type": "execute_result"
    }
   ],
   "source": [
    "all_sales.shape"
   ]
  },
  {
   "cell_type": "code",
   "execution_count": 22,
   "metadata": {},
   "outputs": [
    {
     "data": {
      "text/plain": [
       "163"
      ]
     },
     "execution_count": 22,
     "metadata": {},
     "output_type": "execute_result"
    }
   ],
   "source": [
    "all_sales['week_end_dt'].nunique()"
   ]
  },
  {
   "cell_type": "code",
   "execution_count": 23,
   "metadata": {},
   "outputs": [
    {
     "data": {
      "text/plain": [
       "(163, 4)"
      ]
     },
     "execution_count": 23,
     "metadata": {},
     "output_type": "execute_result"
    }
   ],
   "source": [
    "all_sales_table.shape"
   ]
  },
  {
   "cell_type": "code",
   "execution_count": 25,
   "metadata": {},
   "outputs": [
    {
     "data": {
      "text/plain": [
       "163"
      ]
     },
     "execution_count": 25,
     "metadata": {},
     "output_type": "execute_result"
    }
   ],
   "source": [
    "all_sales_table['week_end_dt'].nunique()"
   ]
  },
  {
   "cell_type": "code",
   "execution_count": null,
   "metadata": {},
   "outputs": [],
   "source": []
  }
 ],
 "metadata": {
  "kernelspec": {
   "display_name": "Python 3",
   "language": "python",
   "name": "python3"
  },
  "language_info": {
   "codemirror_mode": {
    "name": "ipython",
    "version": 3
   },
   "file_extension": ".py",
   "mimetype": "text/x-python",
   "name": "python",
   "nbconvert_exporter": "python",
   "pygments_lexer": "ipython3",
   "version": "3.6.1"
  }
 },
 "nbformat": 4,
 "nbformat_minor": 2
}
