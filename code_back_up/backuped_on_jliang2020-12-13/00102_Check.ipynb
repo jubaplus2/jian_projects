{
 "cells": [
  {
   "cell_type": "code",
   "execution_count": 2,
   "metadata": {
    "collapsed": true
   },
   "outputs": [],
   "source": [
    "import numpy as np\n",
    "import pandas as pd"
   ]
  },
  {
   "cell_type": "code",
   "execution_count": 16,
   "metadata": {},
   "outputs": [
    {
     "data": {
      "text/plain": [
       "[True, False, False]"
      ]
     },
     "execution_count": 16,
     "metadata": {},
     "output_type": "execute_result"
    }
   ],
   "source": [
    "from string import punctuation\n",
    "[any(c.isalpha() for c in x) for x in [\"jid, 32d, 89\",\"0004dg\",' 09 87']]\n",
    "\n",
    "[any(c in punctuation for c in x) for x in [\"jid, 32d, 89\",\"0004dg\",' 09 87']]\n"
   ]
  },
  {
   "cell_type": "code",
   "execution_count": 14,
   "metadata": {},
   "outputs": [
    {
     "data": {
      "text/plain": [
       "False"
      ]
     },
     "execution_count": 14,
     "metadata": {},
     "output_type": "execute_result"
    }
   ],
   "source": []
  },
  {
   "cell_type": "code",
   "execution_count": null,
   "metadata": {
    "collapsed": true
   },
   "outputs": [],
   "source": []
  },
  {
   "cell_type": "code",
   "execution_count": null,
   "metadata": {
    "collapsed": true
   },
   "outputs": [],
   "source": []
  },
  {
   "cell_type": "code",
   "execution_count": 5,
   "metadata": {},
   "outputs": [],
   "source": [
    "detailed_data=pd.read_csv(\"/home/jian/Projects/Big_Lots/Newspaper/Newspaper_0507/BL_combined newspaper final detailed_JL_20180507.csv\",dtype=str)"
   ]
  },
  {
   "cell_type": "code",
   "execution_count": 6,
   "metadata": {},
   "outputs": [
    {
     "data": {
      "text/html": [
       "<div>\n",
       "<style>\n",
       "    .dataframe thead tr:only-child th {\n",
       "        text-align: right;\n",
       "    }\n",
       "\n",
       "    .dataframe thead th {\n",
       "        text-align: left;\n",
       "    }\n",
       "\n",
       "    .dataframe tbody tr th {\n",
       "        vertical-align: top;\n",
       "    }\n",
       "</style>\n",
       "<table border=\"1\" class=\"dataframe\">\n",
       "  <thead>\n",
       "    <tr style=\"text-align: right;\">\n",
       "      <th></th>\n",
       "      <th>Date</th>\n",
       "      <th>Households</th>\n",
       "      <th>adjusted_circ_about_Null</th>\n",
       "      <th>adjusted_circ_with_list</th>\n",
       "      <th>circ_proportion_of_Null</th>\n",
       "      <th>dayname</th>\n",
       "      <th>productid</th>\n",
       "      <th>productname</th>\n",
       "      <th>storeid</th>\n",
       "      <th>totalcirc</th>\n",
       "      <th>zip_cd</th>\n",
       "      <th>zip_count</th>\n",
       "      <th>zip_list</th>\n",
       "      <th>zip_list_proportion</th>\n",
       "      <th>zips</th>\n",
       "    </tr>\n",
       "  </thead>\n",
       "  <tbody>\n",
       "    <tr>\n",
       "      <th>0</th>\n",
       "      <td>2017-03-19</td>\n",
       "      <td>9692.7</td>\n",
       "      <td>297.49131193565523</td>\n",
       "      <td>163.56073848939138</td>\n",
       "      <td>0.023749905152135972</td>\n",
       "      <td>Sunday</td>\n",
       "      <td>572</td>\n",
       "      <td>Abilene Reporter News (Abilene, TX)</td>\n",
       "      <td>4598</td>\n",
       "      <td>313.0</td>\n",
       "      <td>76801</td>\n",
       "      <td>6</td>\n",
       "      <td>['76442', '76471', '76801', '76802', '76443', ...</td>\n",
       "      <td>0.5498000510507955</td>\n",
       "      <td>76442, 76471, 76801, 76802, 76443, 79504</td>\n",
       "    </tr>\n",
       "    <tr>\n",
       "      <th>1</th>\n",
       "      <td>2017-03-19</td>\n",
       "      <td>3159.3</td>\n",
       "      <td>297.49131193565523</td>\n",
       "      <td>53.31202256435609</td>\n",
       "      <td>0.023749905152135972</td>\n",
       "      <td>Sunday</td>\n",
       "      <td>572</td>\n",
       "      <td>Abilene Reporter News (Abilene, TX)</td>\n",
       "      <td>4598</td>\n",
       "      <td>313.0</td>\n",
       "      <td>76442</td>\n",
       "      <td>6</td>\n",
       "      <td>['76442', '76471', '76801', '76802', '76443', ...</td>\n",
       "      <td>0.17920530928273634</td>\n",
       "      <td>76442, 76471, 76801, 76802, 76443, 79504</td>\n",
       "    </tr>\n",
       "  </tbody>\n",
       "</table>\n",
       "</div>"
      ],
      "text/plain": [
       "         Date Households adjusted_circ_about_Null adjusted_circ_with_list  \\\n",
       "0  2017-03-19     9692.7       297.49131193565523      163.56073848939138   \n",
       "1  2017-03-19     3159.3       297.49131193565523       53.31202256435609   \n",
       "\n",
       "  circ_proportion_of_Null dayname productid  \\\n",
       "0    0.023749905152135972  Sunday       572   \n",
       "1    0.023749905152135972  Sunday       572   \n",
       "\n",
       "                           productname storeid totalcirc zip_cd zip_count  \\\n",
       "0  Abilene Reporter News (Abilene, TX)    4598     313.0  76801         6   \n",
       "1  Abilene Reporter News (Abilene, TX)    4598     313.0  76442         6   \n",
       "\n",
       "                                            zip_list  zip_list_proportion  \\\n",
       "0  ['76442', '76471', '76801', '76802', '76443', ...   0.5498000510507955   \n",
       "1  ['76442', '76471', '76801', '76802', '76443', ...  0.17920530928273634   \n",
       "\n",
       "                                       zips  \n",
       "0  76442, 76471, 76801, 76802, 76443, 79504  \n",
       "1  76442, 76471, 76801, 76802, 76443, 79504  "
      ]
     },
     "execution_count": 6,
     "metadata": {},
     "output_type": "execute_result"
    }
   ],
   "source": [
    "detailed_data.head(2)"
   ]
  },
  {
   "cell_type": "code",
   "execution_count": 3,
   "metadata": {},
   "outputs": [
    {
     "data": {
      "text/plain": [
       "(1244217, 15)"
      ]
     },
     "execution_count": 3,
     "metadata": {},
     "output_type": "execute_result"
    }
   ],
   "source": [
    "output_no_detail=output_adjusted_final.groupby(['zip_cd','Date'])['adjusted_circ_with_list'].sum().to_frame()\n",
    "output_no_detail.reset_index(inplace=True)\n",
    "output_no_detail=output_no_detail.sort_values(['Date','zip_cd'])\n",
    "output_no_detail.to_csv(\"/home/jian/Projects/Big_Lots/Newspaper/Newspaper_0507/BL_newspaper count by zip by date_JL_20180507.csv\",index=False)\n",
    "\n",
    "output_no_detail=pd.read_csv(\"/home/jian/Projects/Big_Lots/Newspaper/Newspaper_0507/BL_newspaper count by zip by date_JL_20180507.csv\")\n",
    "test_agg_wide=output_no_detail.pivot(index=\"zip_cd\",columns='Date',values='adjusted_circ_with_list')\n",
    "test_agg_wide.reset_index(inplace=True)\n",
    "test_agg_wide_columns=test_agg_wide.columns.tolist()[1:]\n",
    "test_agg_wide_columns=[\"newspaper_\"+x for x in test_agg_wide_columns]\n",
    "test_agg_wide.columns=[['zip_cd']+test_agg_wide_columns]\n",
    "test_agg_wide=test_agg_wide.fillna(0)\n",
    "test_agg_wide.to_csv(\"/home/jian/Projects/Big_Lots/Newspaper/Newspaper_0507/BL_newspaper wide of date by zip_JL_20180507.csv\",index=False)\n",
    "\n",
    "\n"
   ]
  },
  {
   "cell_type": "code",
   "execution_count": 4,
   "metadata": {},
   "outputs": [
    {
     "data": {
      "text/html": [
       "<div>\n",
       "<style>\n",
       "    .dataframe thead tr:only-child th {\n",
       "        text-align: right;\n",
       "    }\n",
       "\n",
       "    .dataframe thead th {\n",
       "        text-align: left;\n",
       "    }\n",
       "\n",
       "    .dataframe tbody tr th {\n",
       "        vertical-align: top;\n",
       "    }\n",
       "</style>\n",
       "<table border=\"1\" class=\"dataframe\">\n",
       "  <thead>\n",
       "    <tr style=\"text-align: right;\">\n",
       "      <th></th>\n",
       "      <th>Date</th>\n",
       "      <th>Households</th>\n",
       "      <th>adjusted_circ_about_Null</th>\n",
       "      <th>adjusted_circ_with_list</th>\n",
       "      <th>circ_proportion_of_Null</th>\n",
       "      <th>dayname</th>\n",
       "      <th>productid</th>\n",
       "      <th>productname</th>\n",
       "      <th>storeid</th>\n",
       "      <th>totalcirc</th>\n",
       "      <th>zip_cd</th>\n",
       "      <th>zip_count</th>\n",
       "      <th>zip_list</th>\n",
       "      <th>zip_list_proportion</th>\n",
       "      <th>zips</th>\n",
       "    </tr>\n",
       "  </thead>\n",
       "  <tbody>\n",
       "    <tr>\n",
       "      <th>0</th>\n",
       "      <td>2017-03-19</td>\n",
       "      <td>1252.2</td>\n",
       "      <td>297.491312</td>\n",
       "      <td>21.130413</td>\n",
       "      <td>0.02375</td>\n",
       "      <td>Sunday</td>\n",
       "      <td>572</td>\n",
       "      <td>Abilene Reporter News (Abilene, TX)</td>\n",
       "      <td>4598</td>\n",
       "      <td>313.0</td>\n",
       "      <td>79504</td>\n",
       "      <td>6</td>\n",
       "      <td>['76442', '76471', '76801', '76802', '76443', ...</td>\n",
       "      <td>0.071029</td>\n",
       "      <td>76442, 76471, 76801, 76802, 76443, 79504</td>\n",
       "    </tr>\n",
       "    <tr>\n",
       "      <th>1</th>\n",
       "      <td>2017-03-19</td>\n",
       "      <td>1947.9</td>\n",
       "      <td>297.491312</td>\n",
       "      <td>32.870094</td>\n",
       "      <td>0.02375</td>\n",
       "      <td>Sunday</td>\n",
       "      <td>572</td>\n",
       "      <td>Abilene Reporter News (Abilene, TX)</td>\n",
       "      <td>4598</td>\n",
       "      <td>313.0</td>\n",
       "      <td>76802</td>\n",
       "      <td>6</td>\n",
       "      <td>['76442', '76471', '76801', '76802', '76443', ...</td>\n",
       "      <td>0.110491</td>\n",
       "      <td>76442, 76471, 76801, 76802, 76443, 79504</td>\n",
       "    </tr>\n",
       "  </tbody>\n",
       "</table>\n",
       "</div>"
      ],
      "text/plain": [
       "         Date  Households  adjusted_circ_about_Null  adjusted_circ_with_list  \\\n",
       "0  2017-03-19      1252.2                297.491312                21.130413   \n",
       "1  2017-03-19      1947.9                297.491312                32.870094   \n",
       "\n",
       "   circ_proportion_of_Null dayname  productid  \\\n",
       "0                  0.02375  Sunday        572   \n",
       "1                  0.02375  Sunday        572   \n",
       "\n",
       "                           productname  storeid  totalcirc zip_cd  zip_count  \\\n",
       "0  Abilene Reporter News (Abilene, TX)     4598      313.0  79504          6   \n",
       "1  Abilene Reporter News (Abilene, TX)     4598      313.0  76802          6   \n",
       "\n",
       "                                            zip_list  zip_list_proportion  \\\n",
       "0  ['76442', '76471', '76801', '76802', '76443', ...             0.071029   \n",
       "1  ['76442', '76471', '76801', '76802', '76443', ...             0.110491   \n",
       "\n",
       "                                       zips  \n",
       "0  76442, 76471, 76801, 76802, 76443, 79504  \n",
       "1  76442, 76471, 76801, 76802, 76443, 79504  "
      ]
     },
     "execution_count": 4,
     "metadata": {},
     "output_type": "execute_result"
    }
   ],
   "source": [
    "x.head(2)"
   ]
  },
  {
   "cell_type": "code",
   "execution_count": 5,
   "metadata": {},
   "outputs": [
    {
     "data": {
      "text/plain": [
       "950694719.49970007"
      ]
     },
     "execution_count": 5,
     "metadata": {},
     "output_type": "execute_result"
    }
   ],
   "source": [
    "x['adjusted_circ_with_list'].sum()"
   ]
  },
  {
   "cell_type": "code",
   "execution_count": 12,
   "metadata": {},
   "outputs": [
    {
     "name": "stderr",
     "output_type": "stream",
     "text": [
      "/usr/local/lib/python3.6/site-packages/ipykernel_launcher.py:2: SettingWithCopyWarning: \n",
      "A value is trying to be set on a copy of a slice from a DataFrame.\n",
      "Try using .loc[row_indexer,col_indexer] = value instead\n",
      "\n",
      "See the caveats in the documentation: http://pandas.pydata.org/pandas-docs/stable/indexing.html#indexing-view-versus-copy\n",
      "  \n"
     ]
    }
   ],
   "source": [
    "Thanksgiving_2016=x[x['Date']==\"2016-11-24\"]\n",
    "Thanksgiving_2016['zip_cd']=Thanksgiving_2016['zip_cd'].astype(str)"
   ]
  },
  {
   "cell_type": "code",
   "execution_count": 13,
   "metadata": {
    "collapsed": true
   },
   "outputs": [],
   "source": [
    "Thanksgiving_2016=Thanksgiving_2016.sort_values(\"zip_cd\")"
   ]
  },
  {
   "cell_type": "code",
   "execution_count": 35,
   "metadata": {
    "collapsed": true
   },
   "outputs": [],
   "source": [
    "Thanksgiving_2016_by_store=Thanksgiving_2016.groupby(['storeid'])['adjusted_circ_with_list'].sum().to_frame()\n",
    "Thanksgiving_2016_by_store.reset_index(inplace=True)\n",
    "Thanksgiving_2016_by_store.columns=['store_id','after']"
   ]
  },
  {
   "cell_type": "code",
   "execution_count": 23,
   "metadata": {
    "collapsed": true
   },
   "outputs": [],
   "source": []
  },
  {
   "cell_type": "code",
   "execution_count": 42,
   "metadata": {
    "collapsed": true
   },
   "outputs": [],
   "source": [
    "Before=pd.read_excel(\"/home/jian/Projects/Big_Lots/Newspaper/Newspaper_0507/BL_combined newspaper data_JL_20180507.xlsx\")\n",
    "Before_TG2016=Before[Before['Date']==\"2016-11-24\"]\n",
    "Before_TG2016_by_store=Before_TG2016.groupby(['storeid'])['adjusted_circ_about_Null'].sum().to_frame()\n",
    "Before_TG2016_by_store.reset_index(inplace=True)\n",
    "Before_TG2016_by_store.columns=['store_id','before']"
   ]
  },
  {
   "cell_type": "code",
   "execution_count": 43,
   "metadata": {
    "collapsed": true
   },
   "outputs": [],
   "source": []
  },
  {
   "cell_type": "code",
   "execution_count": 45,
   "metadata": {},
   "outputs": [
    {
     "data": {
      "text/html": [
       "<div>\n",
       "<style>\n",
       "    .dataframe thead tr:only-child th {\n",
       "        text-align: right;\n",
       "    }\n",
       "\n",
       "    .dataframe thead th {\n",
       "        text-align: left;\n",
       "    }\n",
       "\n",
       "    .dataframe tbody tr th {\n",
       "        vertical-align: top;\n",
       "    }\n",
       "</style>\n",
       "<table border=\"1\" class=\"dataframe\">\n",
       "  <thead>\n",
       "    <tr style=\"text-align: right;\">\n",
       "      <th></th>\n",
       "      <th>store_id</th>\n",
       "      <th>before</th>\n",
       "    </tr>\n",
       "  </thead>\n",
       "  <tbody>\n",
       "    <tr>\n",
       "      <th>0</th>\n",
       "      <td>1</td>\n",
       "      <td>20732.375086</td>\n",
       "    </tr>\n",
       "    <tr>\n",
       "      <th>1</th>\n",
       "      <td>3</td>\n",
       "      <td>4351.390552</td>\n",
       "    </tr>\n",
       "  </tbody>\n",
       "</table>\n",
       "</div>"
      ],
      "text/plain": [
       "   store_id        before\n",
       "0         1  20732.375086\n",
       "1         3   4351.390552"
      ]
     },
     "execution_count": 45,
     "metadata": {},
     "output_type": "execute_result"
    }
   ],
   "source": [
    "Before_TG2016_by_store.head(2)"
   ]
  },
  {
   "cell_type": "code",
   "execution_count": 46,
   "metadata": {
    "collapsed": true
   },
   "outputs": [],
   "source": [
    "compare=pd.merge(Thanksgiving_2016_by_store,Before_TG2016_by_store,on=\"store_id\",how=\"outer\")"
   ]
  },
  {
   "cell_type": "code",
   "execution_count": 53,
   "metadata": {
    "collapsed": true
   },
   "outputs": [],
   "source": [
    "compare['check']=np.nan"
   ]
  },
  {
   "cell_type": "code",
   "execution_count": 54,
   "metadata": {},
   "outputs": [
    {
     "data": {
      "text/html": [
       "<div>\n",
       "<style>\n",
       "    .dataframe thead tr:only-child th {\n",
       "        text-align: right;\n",
       "    }\n",
       "\n",
       "    .dataframe thead th {\n",
       "        text-align: left;\n",
       "    }\n",
       "\n",
       "    .dataframe tbody tr th {\n",
       "        vertical-align: top;\n",
       "    }\n",
       "</style>\n",
       "<table border=\"1\" class=\"dataframe\">\n",
       "  <thead>\n",
       "    <tr style=\"text-align: right;\">\n",
       "      <th></th>\n",
       "      <th>store_id</th>\n",
       "      <th>after</th>\n",
       "      <th>before</th>\n",
       "      <th>check</th>\n",
       "    </tr>\n",
       "  </thead>\n",
       "  <tbody>\n",
       "    <tr>\n",
       "      <th>0</th>\n",
       "      <td>1</td>\n",
       "      <td>20732.375086</td>\n",
       "      <td>20732.375086</td>\n",
       "      <td>NaN</td>\n",
       "    </tr>\n",
       "    <tr>\n",
       "      <th>1</th>\n",
       "      <td>3</td>\n",
       "      <td>4351.390552</td>\n",
       "      <td>4351.390552</td>\n",
       "      <td>NaN</td>\n",
       "    </tr>\n",
       "  </tbody>\n",
       "</table>\n",
       "</div>"
      ],
      "text/plain": [
       "   store_id         after        before  check\n",
       "0         1  20732.375086  20732.375086    NaN\n",
       "1         3   4351.390552   4351.390552    NaN"
      ]
     },
     "execution_count": 54,
     "metadata": {},
     "output_type": "execute_result"
    }
   ],
   "source": [
    "compare.head(2)"
   ]
  },
  {
   "cell_type": "code",
   "execution_count": 56,
   "metadata": {},
   "outputs": [
    {
     "name": "stderr",
     "output_type": "stream",
     "text": [
      "/usr/local/lib/python3.6/site-packages/ipykernel_launcher.py:3: SettingWithCopyWarning: \n",
      "A value is trying to be set on a copy of a slice from a DataFrame\n",
      "\n",
      "See the caveats in the documentation: http://pandas.pydata.org/pandas-docs/stable/indexing.html#indexing-view-versus-copy\n",
      "  This is separate from the ipykernel package so we can avoid doing imports until\n",
      "/usr/local/lib/python3.6/site-packages/pandas/core/indexing.py:179: SettingWithCopyWarning: \n",
      "A value is trying to be set on a copy of a slice from a DataFrame\n",
      "\n",
      "See the caveats in the documentation: http://pandas.pydata.org/pandas-docs/stable/indexing.html#indexing-view-versus-copy\n",
      "  self._setitem_with_indexer(indexer, value)\n",
      "/usr/local/lib/python3.6/site-packages/ipykernel_launcher.py:5: SettingWithCopyWarning: \n",
      "A value is trying to be set on a copy of a slice from a DataFrame\n",
      "\n",
      "See the caveats in the documentation: http://pandas.pydata.org/pandas-docs/stable/indexing.html#indexing-view-versus-copy\n",
      "  \"\"\"\n"
     ]
    }
   ],
   "source": [
    "for i in range(len(compare)):\n",
    "    if round(compare['after'][i],2)==round(compare['before'][i],2):\n",
    "        compare['check'][i]=\"Match\"\n",
    "    else:\n",
    "        compare['check'][i]=\"No_Match\""
   ]
  },
  {
   "cell_type": "code",
   "execution_count": 58,
   "metadata": {
    "collapsed": true
   },
   "outputs": [],
   "source": [
    "not_match_df=compare[compare['check']==\"No_Match\"]"
   ]
  },
  {
   "cell_type": "code",
   "execution_count": 59,
   "metadata": {},
   "outputs": [
    {
     "data": {
      "text/html": [
       "<div>\n",
       "<style>\n",
       "    .dataframe thead tr:only-child th {\n",
       "        text-align: right;\n",
       "    }\n",
       "\n",
       "    .dataframe thead th {\n",
       "        text-align: left;\n",
       "    }\n",
       "\n",
       "    .dataframe tbody tr th {\n",
       "        vertical-align: top;\n",
       "    }\n",
       "</style>\n",
       "<table border=\"1\" class=\"dataframe\">\n",
       "  <thead>\n",
       "    <tr style=\"text-align: right;\">\n",
       "      <th></th>\n",
       "      <th>store_id</th>\n",
       "      <th>after</th>\n",
       "      <th>before</th>\n",
       "      <th>check</th>\n",
       "    </tr>\n",
       "  </thead>\n",
       "  <tbody>\n",
       "    <tr>\n",
       "      <th>1061</th>\n",
       "      <td>4519</td>\n",
       "      <td>32645.0</td>\n",
       "      <td>35186.0</td>\n",
       "      <td>No_Match</td>\n",
       "    </tr>\n",
       "  </tbody>\n",
       "</table>\n",
       "</div>"
      ],
      "text/plain": [
       "      store_id    after   before     check\n",
       "1061      4519  32645.0  35186.0  No_Match"
      ]
     },
     "execution_count": 59,
     "metadata": {},
     "output_type": "execute_result"
    }
   ],
   "source": [
    "not_match_df"
   ]
  },
  {
   "cell_type": "code",
   "execution_count": 60,
   "metadata": {
    "collapsed": true
   },
   "outputs": [],
   "source": [
    "Thanksgiving_2016_4519_After=Thanksgiving_2016[Thanksgiving_2016['storeid']==4519]"
   ]
  },
  {
   "cell_type": "code",
   "execution_count": 66,
   "metadata": {},
   "outputs": [
    {
     "data": {
      "text/plain": [
       "32645.0"
      ]
     },
     "execution_count": 66,
     "metadata": {},
     "output_type": "execute_result"
    }
   ],
   "source": [
    "Thanksgiving_2016_4519_After['adjusted_circ_with_list'].sum()"
   ]
  },
  {
   "cell_type": "code",
   "execution_count": 67,
   "metadata": {
    "collapsed": true
   },
   "outputs": [],
   "source": [
    "Thanksgiving_2016_4519_After.to_excel(\"/home/jian/Projects/Big_Lots/Newspaper/Newspaper_0507/check.xlsx\")"
   ]
  },
  {
   "cell_type": "code",
   "execution_count": 69,
   "metadata": {
    "collapsed": true
   },
   "outputs": [],
   "source": [
    "Thanksgiving_2016_4519_After.reset_index(inplace=True)"
   ]
  },
  {
   "cell_type": "code",
   "execution_count": 72,
   "metadata": {},
   "outputs": [
    {
     "data": {
      "text/html": [
       "<div>\n",
       "<style>\n",
       "    .dataframe thead tr:only-child th {\n",
       "        text-align: right;\n",
       "    }\n",
       "\n",
       "    .dataframe thead th {\n",
       "        text-align: left;\n",
       "    }\n",
       "\n",
       "    .dataframe tbody tr th {\n",
       "        vertical-align: top;\n",
       "    }\n",
       "</style>\n",
       "<table border=\"1\" class=\"dataframe\">\n",
       "  <thead>\n",
       "    <tr style=\"text-align: right;\">\n",
       "      <th></th>\n",
       "      <th>Date</th>\n",
       "      <th>Households</th>\n",
       "      <th>adjusted_circ_about_Null</th>\n",
       "      <th>adjusted_circ_with_list</th>\n",
       "      <th>circ_proportion_of_Null</th>\n",
       "      <th>dayname</th>\n",
       "      <th>productid</th>\n",
       "      <th>productname</th>\n",
       "      <th>storeid</th>\n",
       "      <th>totalcirc</th>\n",
       "      <th>zip_cd</th>\n",
       "      <th>zip_count</th>\n",
       "      <th>zip_list</th>\n",
       "      <th>zip_list_proportion</th>\n",
       "      <th>zips</th>\n",
       "    </tr>\n",
       "  </thead>\n",
       "  <tbody>\n",
       "    <tr>\n",
       "      <th>0</th>\n",
       "      <td>2016-11-24</td>\n",
       "      <td>8675.9</td>\n",
       "      <td>8346.0</td>\n",
       "      <td>1938.855024</td>\n",
       "      <td>0.0</td>\n",
       "      <td>Tuesday</td>\n",
       "      <td>11650</td>\n",
       "      <td>Show Low White Mountain Independent</td>\n",
       "      <td>4519</td>\n",
       "      <td>8346.0</td>\n",
       "      <td>85901</td>\n",
       "      <td>21</td>\n",
       "      <td>['85901', '85902', '85911', '85920', '85939', ...</td>\n",
       "      <td>0.232309</td>\n",
       "      <td>85901, 85902, 85911, 85920, 85939, 85925, 8592...</td>\n",
       "    </tr>\n",
       "    <tr>\n",
       "      <th>1</th>\n",
       "      <td>2016-11-24</td>\n",
       "      <td>8675.9</td>\n",
       "      <td>10733.0</td>\n",
       "      <td>10733.000000</td>\n",
       "      <td>0.0</td>\n",
       "      <td>Wednesday</td>\n",
       "      <td>15442</td>\n",
       "      <td>Show Low Wampum Saver-TMC</td>\n",
       "      <td>4519</td>\n",
       "      <td>10733.0</td>\n",
       "      <td>85901</td>\n",
       "      <td>3</td>\n",
       "      <td>['85901', '85902', '85940']</td>\n",
       "      <td>1.000000</td>\n",
       "      <td>85901, 85902, 85940</td>\n",
       "    </tr>\n",
       "  </tbody>\n",
       "</table>\n",
       "</div>"
      ],
      "text/plain": [
       "         Date  Households  adjusted_circ_about_Null  adjusted_circ_with_list  \\\n",
       "0  2016-11-24      8675.9                    8346.0              1938.855024   \n",
       "1  2016-11-24      8675.9                   10733.0             10733.000000   \n",
       "\n",
       "   circ_proportion_of_Null    dayname  productid  \\\n",
       "0                      0.0    Tuesday      11650   \n",
       "1                      0.0  Wednesday      15442   \n",
       "\n",
       "                           productname  storeid  totalcirc zip_cd  zip_count  \\\n",
       "0  Show Low White Mountain Independent     4519     8346.0  85901         21   \n",
       "1            Show Low Wampum Saver-TMC     4519    10733.0  85901          3   \n",
       "\n",
       "                                            zip_list  zip_list_proportion  \\\n",
       "0  ['85901', '85902', '85911', '85920', '85939', ...             0.232309   \n",
       "1                        ['85901', '85902', '85940']             1.000000   \n",
       "\n",
       "                                                zips  \n",
       "0  85901, 85902, 85911, 85920, 85939, 85925, 8592...  \n",
       "1                                85901, 85902, 85940  "
      ]
     },
     "execution_count": 72,
     "metadata": {},
     "output_type": "execute_result"
    }
   ],
   "source": [
    "Thanksgiving_2016_4519_After.head(2)"
   ]
  },
  {
   "cell_type": "code",
   "execution_count": 73,
   "metadata": {
    "collapsed": true
   },
   "outputs": [],
   "source": [
    "test=Thanksgiving_2016_4519_After[Thanksgiving_2016_4519_After['adjusted_circ_about_Null']==2541]"
   ]
  },
  {
   "cell_type": "code",
   "execution_count": 75,
   "metadata": {},
   "outputs": [
    {
     "data": {
      "text/plain": [
       "nan"
      ]
     },
     "execution_count": 75,
     "metadata": {},
     "output_type": "execute_result"
    }
   ],
   "source": [
    "test['Households'].sum()"
   ]
  },
  {
   "cell_type": "code",
   "execution_count": null,
   "metadata": {
    "collapsed": true
   },
   "outputs": [],
   "source": []
  }
 ],
 "metadata": {
  "kernelspec": {
   "display_name": "Python 3",
   "language": "python",
   "name": "python3"
  },
  "language_info": {
   "codemirror_mode": {
    "name": "ipython",
    "version": 3
   },
   "file_extension": ".py",
   "mimetype": "text/x-python",
   "name": "python",
   "nbconvert_exporter": "python",
   "pygments_lexer": "ipython3",
   "version": "3.6.1"
  }
 },
 "nbformat": 4,
 "nbformat_minor": 2
}
