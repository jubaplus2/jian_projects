{
 "cells": [
  {
   "cell_type": "code",
   "execution_count": 27,
   "metadata": {
    "collapsed": true
   },
   "outputs": [],
   "source": [
    "import pandas as pd\n",
    "import os\n",
    "import datetime\n",
    "import numpy as np\n",
    "\n",
    "\n",
    "def recursive_file_gen(my_root_dir):\n",
    "    for root, dirs, files in os.walk(my_root_dir):\n",
    "        for file in files:\n",
    "            yield os.path.join(root, file)\n",
    "   "
   ]
  },
  {
   "cell_type": "code",
   "execution_count": 28,
   "metadata": {
    "collapsed": true
   },
   "outputs": [],
   "source": [
    "Weeks_2018_Q2=[datetime.date(2018,5,12)+datetime.timedelta(days=x*7) for x in range(13)]\n",
    "\n",
    "Q2_2018_weekly_data=list(recursive_file_gen(\"/home/jian/BigLots/2018_by_weeks/\"))\n",
    "Q2_2018_weekly_data=[x for x in Q2_2018_weekly_data if (\"SalesWeekly\" in x)]\n",
    "\n",
    "Q2_2018_weekly_data_list=[]\n",
    "for week in Weeks_2018_Q2:\n",
    "    weekly_file=[x for x in Q2_2018_weekly_data if str(week) in x]\n",
    "    if len(weekly_file)==1:\n",
    "        Q2_2018_weekly_data_list=Q2_2018_weekly_data_list+weekly_file\n"
   ]
  },
  {
   "cell_type": "code",
   "execution_count": 36,
   "metadata": {},
   "outputs": [],
   "source": [
    "df_output=pd.DataFrame()\n",
    "df_by_store=pd.DataFrame()\n",
    "for file in Q2_2018_weekly_data_list:\n",
    "    try:\n",
    "        df=pd.read_table(file,dtype=str,sep=\"|\",usecols=['location_id','week_end_dt','subclass_gross_sales_amt'])\n",
    "        df['subclass_gross_sales_amt']=df['subclass_gross_sales_amt'].astype(float)\n",
    "        df=df.rename(columns={\"subclass_gross_sales_amt\":\"sales\"})\n",
    "        df=df.groupby(['location_id','week_end_dt'])['sales'].sum().to_frame().reset_index()\n",
    "        df['type']=np.where(df['location_id']==\"6990\",\"Ecommerce\",\"InStore\")\n",
    "        df_by_store=df_by_store.append(df)\n",
    "        df=df.groupby(['type','week_end_dt'])['sales'].sum().to_frame().reset_index()\n",
    "        df_output=df_output.append(df)\n",
    "    except:\n",
    "        df=pd.read_table(file,dtype=str,sep=\"|\",usecols=['location_id','week_end_dt','class_gross_sales_amt'])\n",
    "        df['class_gross_sales_amt']=df['class_gross_sales_amt'].astype(float)\n",
    "        df=df.rename(columns={\"class_gross_sales_amt\":\"sales\"})\n",
    "        df=df.groupby(['location_id','week_end_dt'])['sales'].sum().to_frame().reset_index()\n",
    "        df['type']=np.where(df['location_id']==\"6990\",\"Ecommerce\",\"InStore\")\n",
    "        df_by_store=df_by_store.append(df)\n",
    "        df=df.groupby(['type','week_end_dt'])['sales'].sum().to_frame().reset_index()\n",
    "        df_output=df_output.append(df)"
   ]
  },
  {
   "cell_type": "code",
   "execution_count": 38,
   "metadata": {},
   "outputs": [],
   "source": [
    "type_df=df_output.groupby(['type'])['sales'].sum().to_frame().reset_index()"
   ]
  },
  {
   "cell_type": "code",
   "execution_count": 39,
   "metadata": {
    "collapsed": true
   },
   "outputs": [],
   "source": [
    "writer=pd.ExcelWriter(\"/home/jian/Projects/Big_Lots/Analysis/2019_Q1/Planner_Request/Q2_2018_Sales_Ecom_InStore_Bruce_0320/BL_2018Q2_total_Sales.xlsx\",engine=\"xlsxwriter\")\n",
    "type_df.to_excel(writer,\"Total_Type\",index=False)\n",
    "df_output.to_excel(writer,\"Total_Type_week\",index=False)\n",
    "df_by_store.to_excel(writer,\"Store_Week\",index=False)\n",
    "writer.save()"
   ]
  },
  {
   "cell_type": "code",
   "execution_count": null,
   "metadata": {
    "collapsed": true
   },
   "outputs": [],
   "source": []
  }
 ],
 "metadata": {
  "kernelspec": {
   "display_name": "Python 3",
   "language": "python",
   "name": "python3"
  },
  "language_info": {
   "codemirror_mode": {
    "name": "ipython",
    "version": 3
   },
   "file_extension": ".py",
   "mimetype": "text/x-python",
   "name": "python",
   "nbconvert_exporter": "python",
   "pygments_lexer": "ipython3",
   "version": "3.6.1"
  }
 },
 "nbformat": 4,
 "nbformat_minor": 2
}
