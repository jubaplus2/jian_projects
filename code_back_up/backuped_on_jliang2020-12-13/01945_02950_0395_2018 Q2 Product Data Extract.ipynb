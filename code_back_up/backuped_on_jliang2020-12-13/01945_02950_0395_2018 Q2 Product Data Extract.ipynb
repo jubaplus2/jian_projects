{
 "cells": [
  {
   "cell_type": "code",
   "execution_count": 1,
   "metadata": {
    "collapsed": true
   },
   "outputs": [],
   "source": [
    "import pandas as pd\n",
    "import glob\n",
    "import datetime\n",
    "import numpy as np\n",
    "today_str=str(datetime.datetime.now().date())"
   ]
  },
  {
   "cell_type": "code",
   "execution_count": 2,
   "metadata": {
    "collapsed": true
   },
   "outputs": [],
   "source": [
    "folder_file_pattern=glob.glob(\"/home/jian/Projects/Big_Lots/Sales_All/Sales_Data/*.txt\")"
   ]
  },
  {
   "cell_type": "code",
   "execution_count": 3,
   "metadata": {
    "collapsed": true
   },
   "outputs": [],
   "source": [
    "taxonomy=pd.read_csv(\"/home/jian/BigLots/static_files/MediaStorm Data Extract - Product Taxonomy.txt\",sep=\"|\",dtype=str)\n",
    "depart_name=pd.read_csv(\"/home/jian/BigLots/static_files/MediaStorm Data Extract - Department Names.txt\",sep=\"|\",dtype=str)\n",
    "class_name=pd.read_csv(\"/home/jian/BigLots/static_files/MediaStorm Data Extract - Class Names.txt\",sep=\"|\",dtype=str,encoding = \"ISO-8859-1\")"
   ]
  },
  {
   "cell_type": "code",
   "execution_count": 4,
   "metadata": {
    "collapsed": true
   },
   "outputs": [],
   "source": [
    "depart_class=taxonomy[['department_id','class_code_id']].drop_duplicates()\n",
    "depart_class=pd.merge(depart_class,depart_name,on='department_id',how=\"left\")\n",
    "depart_class=pd.merge(depart_class,class_name,on='class_code_id',how=\"left\")"
   ]
  },
  {
   "cell_type": "code",
   "execution_count": 5,
   "metadata": {},
   "outputs": [
    {
     "data": {
      "text/html": [
       "<div>\n",
       "<style>\n",
       "    .dataframe thead tr:only-child th {\n",
       "        text-align: right;\n",
       "    }\n",
       "\n",
       "    .dataframe thead th {\n",
       "        text-align: left;\n",
       "    }\n",
       "\n",
       "    .dataframe tbody tr th {\n",
       "        vertical-align: top;\n",
       "    }\n",
       "</style>\n",
       "<table border=\"1\" class=\"dataframe\">\n",
       "  <thead>\n",
       "    <tr style=\"text-align: right;\">\n",
       "      <th></th>\n",
       "      <th>department_id</th>\n",
       "      <th>class_code_id</th>\n",
       "      <th>department_desc</th>\n",
       "      <th>class_code_desc</th>\n",
       "    </tr>\n",
       "  </thead>\n",
       "  <tbody>\n",
       "    <tr>\n",
       "      <th>0</th>\n",
       "      <td>108</td>\n",
       "      <td>11099</td>\n",
       "      <td>CANDYSNACK</td>\n",
       "      <td>FINANCE USE ONLY</td>\n",
       "    </tr>\n",
       "    <tr>\n",
       "      <th>1</th>\n",
       "      <td>111</td>\n",
       "      <td>11199</td>\n",
       "      <td>DIRECT STORE DELIVERIES</td>\n",
       "      <td>FINANCE USE ONLY</td>\n",
       "    </tr>\n",
       "  </tbody>\n",
       "</table>\n",
       "</div>"
      ],
      "text/plain": [
       "  department_id class_code_id          department_desc   class_code_desc\n",
       "0           108         11099               CANDYSNACK  FINANCE USE ONLY\n",
       "1           111         11199  DIRECT STORE DELIVERIES  FINANCE USE ONLY"
      ]
     },
     "execution_count": 5,
     "metadata": {},
     "output_type": "execute_result"
    }
   ],
   "source": [
    "depart_class.head(2)"
   ]
  },
  {
   "cell_type": "code",
   "execution_count": 6,
   "metadata": {
    "collapsed": true
   },
   "outputs": [],
   "source": [
    "sales_all=pd.DataFrame()\n",
    "for file in folder_file_pattern:\n",
    "    df=pd.read_csv(file,sep=\"|\",dtype=str,na_values=\"?\")\n",
    "    if ((\"class_code_id\" in df.columns.tolist()) &\\\n",
    "       (\"subclass_id\" not in df.columns.tolist())):\n",
    "\n",
    "\n",
    "        df['class_gross_sales_amt']=df['class_gross_sales_amt'].astype(float)\n",
    "        df['class_gross_sales_amt']=df['class_gross_sales_amt'].fillna(0.0)\n",
    "        df=df[['location_id','week_end_dt','class_code_id','class_gross_sales_amt']].drop_duplicates()\n",
    "        df.reset_index(inplace=True)\n",
    "        try:\n",
    "            df['week_end_dt']=df['week_end_dt'].apply(lambda x: datetime.datetime.strptime(x,\"%Y-%m-%d\").date())\n",
    "            \n",
    "        except:\n",
    "            print(file,\"Date Error\")\n",
    "    elif ((\"class_code_id\" in df.columns.tolist()) &\\\n",
    "       (\"subclass_id\" in df.columns.tolist())):\n",
    "\n",
    "\n",
    "        df['subclass_gross_sales_amt']=df['subclass_gross_sales_amt'].astype(float)\n",
    "        df['subclass_gross_sales_amt']=df['subclass_gross_sales_amt'].fillna(0.0)\n",
    "        df=df[['location_id','week_end_dt','class_code_id','subclass_id','subclass_gross_sales_amt']].drop_duplicates()\n",
    "        df=df.groupby(['location_id','week_end_dt','class_code_id'])['subclass_gross_sales_amt'].sum().to_frame().reset_index()\n",
    "        df=df.rename(columns={\"subclass_gross_sales_amt\":\"class_gross_sales_amt\"})\n",
    "        try:\n",
    "            df['week_end_dt']=df['week_end_dt'].apply(lambda x: datetime.datetime.strptime(x,\"%Y-%m-%d\").date())\n",
    "            \n",
    "        except:\n",
    "            print(file,\"Date Error\")\n",
    "            \n",
    "            \n",
    "    else:\n",
    "        print (file,\"Error: class_code_id not in columns\")\n",
    "        \n",
    "    sales_all=sales_all.append(df)"
   ]
  },
  {
   "cell_type": "code",
   "execution_count": 7,
   "metadata": {
    "collapsed": true
   },
   "outputs": [],
   "source": [
    "Q2_sale_2017=sales_all[(sales_all['week_end_dt']>=datetime.datetime(2017,5,13).date()) & (sales_all['week_end_dt']<=datetime.datetime(2017,8,5).date())]\n",
    "Q2_sale_2018=sales_all[(sales_all['week_end_dt']>=datetime.datetime(2018,5,12).date()) & (sales_all['week_end_dt']<=datetime.datetime(2018,8,6).date())]"
   ]
  },
  {
   "cell_type": "code",
   "execution_count": 8,
   "metadata": {
    "collapsed": true
   },
   "outputs": [],
   "source": [
    "Q2_sales_all=Q2_sale_2017.append(Q2_sale_2018)\n",
    "Q2_sales_all=Q2_sales_all.drop_duplicates()\n",
    "Q2_sales_all=pd.merge(Q2_sales_all,depart_class,on=\"class_code_id\",how=\"left\")\n",
    "del Q2_sales_all['index']"
   ]
  },
  {
   "cell_type": "code",
   "execution_count": 9,
   "metadata": {},
   "outputs": [
    {
     "data": {
      "text/html": [
       "<div>\n",
       "<style>\n",
       "    .dataframe thead tr:only-child th {\n",
       "        text-align: right;\n",
       "    }\n",
       "\n",
       "    .dataframe thead th {\n",
       "        text-align: left;\n",
       "    }\n",
       "\n",
       "    .dataframe tbody tr th {\n",
       "        vertical-align: top;\n",
       "    }\n",
       "</style>\n",
       "<table border=\"1\" class=\"dataframe\">\n",
       "  <thead>\n",
       "    <tr style=\"text-align: right;\">\n",
       "      <th></th>\n",
       "      <th>location_id</th>\n",
       "      <th>DMA</th>\n",
       "      <th>Q2 Campaign Type</th>\n",
       "      <th>2017-05-13</th>\n",
       "      <th>2017-05-20</th>\n",
       "      <th>2017-05-27</th>\n",
       "      <th>2017-06-03</th>\n",
       "      <th>2017-06-10</th>\n",
       "      <th>2017-06-17</th>\n",
       "      <th>2017-06-24</th>\n",
       "      <th>...</th>\n",
       "      <th>2018-06-02.1</th>\n",
       "      <th>2018-06-09.1</th>\n",
       "      <th>2018-06-16.1</th>\n",
       "      <th>2018-06-23.1</th>\n",
       "      <th>2018-06-30.1</th>\n",
       "      <th>2018-07-07.1</th>\n",
       "      <th>2018-07-14.1</th>\n",
       "      <th>2018-07-21.1</th>\n",
       "      <th>2018-07-28.1</th>\n",
       "      <th>2018-08-04.1</th>\n",
       "    </tr>\n",
       "  </thead>\n",
       "  <tbody>\n",
       "    <tr>\n",
       "      <th>0</th>\n",
       "      <td>1</td>\n",
       "      <td>COLUMBUS, OH</td>\n",
       "      <td>Q2_DMA</td>\n",
       "      <td>82420.48</td>\n",
       "      <td>74072.4</td>\n",
       "      <td>88270.91</td>\n",
       "      <td>91990.34</td>\n",
       "      <td>77190.27</td>\n",
       "      <td>76737.68</td>\n",
       "      <td>70746.61</td>\n",
       "      <td>...</td>\n",
       "      <td>2712</td>\n",
       "      <td>2416</td>\n",
       "      <td>2449</td>\n",
       "      <td>2372</td>\n",
       "      <td>2444</td>\n",
       "      <td>2819</td>\n",
       "      <td>2874</td>\n",
       "      <td>2339</td>\n",
       "      <td>2151</td>\n",
       "      <td>2248</td>\n",
       "    </tr>\n",
       "    <tr>\n",
       "      <th>1</th>\n",
       "      <td>3</td>\n",
       "      <td>AUGUSTA-AIKEN</td>\n",
       "      <td>Balance</td>\n",
       "      <td>65171.78</td>\n",
       "      <td>64123.69</td>\n",
       "      <td>68969.28</td>\n",
       "      <td>78738.19</td>\n",
       "      <td>60562.76</td>\n",
       "      <td>63397.87</td>\n",
       "      <td>59027.22</td>\n",
       "      <td>...</td>\n",
       "      <td>1857</td>\n",
       "      <td>2028</td>\n",
       "      <td>1886</td>\n",
       "      <td>1855</td>\n",
       "      <td>1937</td>\n",
       "      <td>2196</td>\n",
       "      <td>2059</td>\n",
       "      <td>1784</td>\n",
       "      <td>1835</td>\n",
       "      <td>1942</td>\n",
       "    </tr>\n",
       "  </tbody>\n",
       "</table>\n",
       "<p>2 rows × 55 columns</p>\n",
       "</div>"
      ],
      "text/plain": [
       "  location_id            DMA Q2 Campaign Type 2017-05-13 2017-05-20  \\\n",
       "0           1   COLUMBUS, OH           Q2_DMA   82420.48    74072.4   \n",
       "1           3  AUGUSTA-AIKEN          Balance   65171.78   64123.69   \n",
       "\n",
       "  2017-05-27 2017-06-03 2017-06-10 2017-06-17 2017-06-24     ...       \\\n",
       "0   88270.91   91990.34   77190.27   76737.68   70746.61     ...        \n",
       "1   68969.28   78738.19   60562.76   63397.87   59027.22     ...        \n",
       "\n",
       "  2018-06-02.1 2018-06-09.1 2018-06-16.1 2018-06-23.1 2018-06-30.1  \\\n",
       "0         2712         2416         2449         2372         2444   \n",
       "1         1857         2028         1886         1855         1937   \n",
       "\n",
       "  2018-07-07.1 2018-07-14.1 2018-07-21.1 2018-07-28.1 2018-08-04.1  \n",
       "0         2819         2874         2339         2151         2248  \n",
       "1         2196         2059         1784         1835         1942  \n",
       "\n",
       "[2 rows x 55 columns]"
      ]
     },
     "execution_count": 9,
     "metadata": {},
     "output_type": "execute_result"
    }
   ],
   "source": [
    "Inclusion_stores=pd.read_excel(\"/home/jian/Projects/Big_Lots/Analysis/2018_Q2_Post/BL_Sales 2018 Q2 YoY_JL_20180808.xlsx\",dtype=str,sheetname=\"Inclusion Stores\",skiprows=1)\n",
    "Store_Inclusion_List=Inclusion_stores['location_id'].unique().tolist()\n",
    "Inclusion_stores.head(2)\n"
   ]
  },
  {
   "cell_type": "code",
   "execution_count": 10,
   "metadata": {
    "collapsed": true
   },
   "outputs": [],
   "source": [
    "Store_DMA=Inclusion_stores[['location_id','DMA','Q2 Campaign Type']]"
   ]
  },
  {
   "cell_type": "code",
   "execution_count": 11,
   "metadata": {
    "collapsed": true
   },
   "outputs": [],
   "source": [
    "Q2_sales_all=pd.merge(Q2_sales_all,Store_DMA,on=\"location_id\",how=\"left\")"
   ]
  },
  {
   "cell_type": "code",
   "execution_count": 12,
   "metadata": {},
   "outputs": [
    {
     "data": {
      "text/html": [
       "<div>\n",
       "<style>\n",
       "    .dataframe thead tr:only-child th {\n",
       "        text-align: right;\n",
       "    }\n",
       "\n",
       "    .dataframe thead th {\n",
       "        text-align: left;\n",
       "    }\n",
       "\n",
       "    .dataframe tbody tr th {\n",
       "        vertical-align: top;\n",
       "    }\n",
       "</style>\n",
       "<table border=\"1\" class=\"dataframe\">\n",
       "  <thead>\n",
       "    <tr style=\"text-align: right;\">\n",
       "      <th></th>\n",
       "      <th>class_code_id</th>\n",
       "      <th>class_gross_sales_amt</th>\n",
       "      <th>location_id</th>\n",
       "      <th>week_end_dt</th>\n",
       "      <th>department_id</th>\n",
       "      <th>department_desc</th>\n",
       "      <th>class_code_desc</th>\n",
       "      <th>DMA</th>\n",
       "      <th>Q2 Campaign Type</th>\n",
       "    </tr>\n",
       "  </thead>\n",
       "  <tbody>\n",
       "    <tr>\n",
       "      <th>0</th>\n",
       "      <td>11001</td>\n",
       "      <td>1281.54</td>\n",
       "      <td>1</td>\n",
       "      <td>2017-06-03</td>\n",
       "      <td>108</td>\n",
       "      <td>CANDYSNACK</td>\n",
       "      <td>CANDY</td>\n",
       "      <td>COLUMBUS, OH</td>\n",
       "      <td>Q2_DMA</td>\n",
       "    </tr>\n",
       "    <tr>\n",
       "      <th>1</th>\n",
       "      <td>11003</td>\n",
       "      <td>3215.30</td>\n",
       "      <td>1</td>\n",
       "      <td>2017-06-03</td>\n",
       "      <td>110</td>\n",
       "      <td>BEVGROCERY</td>\n",
       "      <td>BEVERAGES</td>\n",
       "      <td>COLUMBUS, OH</td>\n",
       "      <td>Q2_DMA</td>\n",
       "    </tr>\n",
       "  </tbody>\n",
       "</table>\n",
       "</div>"
      ],
      "text/plain": [
       "  class_code_id  class_gross_sales_amt location_id week_end_dt department_id  \\\n",
       "0         11001                1281.54           1  2017-06-03           108   \n",
       "1         11003                3215.30           1  2017-06-03           110   \n",
       "\n",
       "  department_desc class_code_desc           DMA Q2 Campaign Type  \n",
       "0      CANDYSNACK           CANDY  COLUMBUS, OH           Q2_DMA  \n",
       "1      BEVGROCERY       BEVERAGES  COLUMBUS, OH           Q2_DMA  "
      ]
     },
     "execution_count": 12,
     "metadata": {},
     "output_type": "execute_result"
    }
   ],
   "source": [
    "Q2_sales_all.head(2)"
   ]
  },
  {
   "cell_type": "code",
   "execution_count": 13,
   "metadata": {
    "collapsed": true
   },
   "outputs": [],
   "source": [
    "Q2_sales_all_In=Q2_sales_all[Q2_sales_all['location_id'].isin(Store_Inclusion_List)]"
   ]
  },
  {
   "cell_type": "code",
   "execution_count": 14,
   "metadata": {
    "collapsed": true
   },
   "outputs": [],
   "source": [
    "test_check=Q2_sales_all_In[Q2_sales_all_In['class_code_id']==\"21012\"]"
   ]
  },
  {
   "cell_type": "code",
   "execution_count": 15,
   "metadata": {},
   "outputs": [
    {
     "data": {
      "text/html": [
       "<div>\n",
       "<style>\n",
       "    .dataframe thead tr:only-child th {\n",
       "        text-align: right;\n",
       "    }\n",
       "\n",
       "    .dataframe thead th {\n",
       "        text-align: left;\n",
       "    }\n",
       "\n",
       "    .dataframe tbody tr th {\n",
       "        vertical-align: top;\n",
       "    }\n",
       "</style>\n",
       "<table border=\"1\" class=\"dataframe\">\n",
       "  <thead>\n",
       "    <tr style=\"text-align: right;\">\n",
       "      <th></th>\n",
       "      <th>class_code_id</th>\n",
       "      <th>class_gross_sales_amt</th>\n",
       "      <th>location_id</th>\n",
       "      <th>week_end_dt</th>\n",
       "      <th>department_id</th>\n",
       "      <th>department_desc</th>\n",
       "      <th>class_code_desc</th>\n",
       "      <th>DMA</th>\n",
       "      <th>Q2 Campaign Type</th>\n",
       "    </tr>\n",
       "  </thead>\n",
       "  <tbody>\n",
       "    <tr>\n",
       "      <th>65</th>\n",
       "      <td>21012</td>\n",
       "      <td>3922.63</td>\n",
       "      <td>1</td>\n",
       "      <td>2017-06-03</td>\n",
       "      <td>210</td>\n",
       "      <td>LAWN &amp; GARDEN</td>\n",
       "      <td>PATIO FURNITURE</td>\n",
       "      <td>COLUMBUS, OH</td>\n",
       "      <td>Q2_DMA</td>\n",
       "    </tr>\n",
       "    <tr>\n",
       "      <th>281</th>\n",
       "      <td>21012</td>\n",
       "      <td>697.27</td>\n",
       "      <td>1</td>\n",
       "      <td>2017-06-10</td>\n",
       "      <td>210</td>\n",
       "      <td>LAWN &amp; GARDEN</td>\n",
       "      <td>PATIO FURNITURE</td>\n",
       "      <td>COLUMBUS, OH</td>\n",
       "      <td>Q2_DMA</td>\n",
       "    </tr>\n",
       "  </tbody>\n",
       "</table>\n",
       "</div>"
      ],
      "text/plain": [
       "    class_code_id  class_gross_sales_amt location_id week_end_dt  \\\n",
       "65          21012                3922.63           1  2017-06-03   \n",
       "281         21012                 697.27           1  2017-06-10   \n",
       "\n",
       "    department_id department_desc  class_code_desc           DMA  \\\n",
       "65            210   LAWN & GARDEN  PATIO FURNITURE  COLUMBUS, OH   \n",
       "281           210   LAWN & GARDEN  PATIO FURNITURE  COLUMBUS, OH   \n",
       "\n",
       "    Q2 Campaign Type  \n",
       "65            Q2_DMA  \n",
       "281           Q2_DMA  "
      ]
     },
     "execution_count": 15,
     "metadata": {},
     "output_type": "execute_result"
    }
   ],
   "source": [
    "test_check.head(2)"
   ]
  },
  {
   "cell_type": "code",
   "execution_count": 16,
   "metadata": {},
   "outputs": [
    {
     "data": {
      "text/plain": [
       "57836900.269999996"
      ]
     },
     "execution_count": 16,
     "metadata": {},
     "output_type": "execute_result"
    }
   ],
   "source": [
    "test_check_2017=test_check[(test_check['week_end_dt']>=datetime.date(2017,1,1))&(test_check['week_end_dt']<=datetime.date(2018,1,1))]\n",
    "test_check_2017['class_gross_sales_amt'].sum()"
   ]
  },
  {
   "cell_type": "code",
   "execution_count": 17,
   "metadata": {},
   "outputs": [
    {
     "data": {
      "text/plain": [
       "68050997.25999999"
      ]
     },
     "execution_count": 17,
     "metadata": {},
     "output_type": "execute_result"
    }
   ],
   "source": [
    "test_check_2018=test_check[test_check['week_end_dt']>=datetime.date(2018,1,1)]\n",
    "test_check_2018['class_gross_sales_amt'].sum()"
   ]
  },
  {
   "cell_type": "code",
   "execution_count": 18,
   "metadata": {},
   "outputs": [
    {
     "data": {
      "text/plain": [
       "125887897.53"
      ]
     },
     "execution_count": 18,
     "metadata": {},
     "output_type": "execute_result"
    }
   ],
   "source": [
    "test_check['class_gross_sales_amt'].sum()"
   ]
  },
  {
   "cell_type": "code",
   "execution_count": 19,
   "metadata": {},
   "outputs": [
    {
     "data": {
      "text/plain": [
       "2645305.7199999997"
      ]
     },
     "execution_count": 19,
     "metadata": {},
     "output_type": "execute_result"
    }
   ],
   "source": [
    "week_x=pd.read_csv(\"/home/jian/BigLots/MediaStorm_2018-07-28/MediaStormSalesWeekly20180731-112123-506.txt\",dtype=str,sep=\"|\")\n",
    "week_x['subclass_gross_sales_amt']=week_x['subclass_gross_sales_amt'].astype(float)\n",
    "\n",
    "week_x[week_x['class_code_id']==\"21012\"]['subclass_gross_sales_amt'].sum()"
   ]
  },
  {
   "cell_type": "code",
   "execution_count": 20,
   "metadata": {},
   "outputs": [
    {
     "data": {
      "text/plain": [
       "2645305.7199999997"
      ]
     },
     "execution_count": 20,
     "metadata": {},
     "output_type": "execute_result"
    }
   ],
   "source": [
    "Q2_sales_all[(Q2_sales_all['week_end_dt']==datetime.date(2018,7,28)) & (Q2_sales_all['class_code_id']==\"21012\")]['class_gross_sales_amt'].sum()"
   ]
  },
  {
   "cell_type": "code",
   "execution_count": 30,
   "metadata": {},
   "outputs": [],
   "source": [
    "Q2_sales_all=Q2_sales_all[['location_id','week_end_dt','DMA','Q2 Campaign Type','department_id','department_desc','class_code_id','class_code_desc','class_gross_sales_amt']]\n",
    "Q2_sales_all.to_csv(\"/home/jian/Projects/Big_Lots/Sales_All/BL_Q2 2018 Product Extract_\"+today_str+\".csv\",index=False)\n",
    "\n"
   ]
  },
  {
   "cell_type": "code",
   "execution_count": 31,
   "metadata": {},
   "outputs": [],
   "source": [
    "Q2_sales_all_In=Q2_sales_all_In[Q2_sales_all.columns.tolist()]\n",
    "Q2_sales_all_In.to_csv(\"/home/jian/Projects/Big_Lots/Sales_All/BL_Q2 2018 Inclusion Stores Product Extract_\"+today_str+\".csv\",index=False)\n"
   ]
  },
  {
   "cell_type": "code",
   "execution_count": 32,
   "metadata": {
    "collapsed": true
   },
   "outputs": [],
   "source": [
    "promoted_list=['21034','60801','21012','21032','61503','36403']\n",
    "Q2_sales_Promoted=Q2_sales_all_In[Q2_sales_all_In['class_code_id'].isin(promoted_list)]\n",
    "Q2_sales_Promoted.to_csv(\"/home/jian/Projects/Big_Lots/Sales_All/BL_Q2 2018 Inclusion Stores Product Promoted_Only Extract_\"+today_str+\".csv\",index=False)"
   ]
  },
  {
   "cell_type": "code",
   "execution_count": null,
   "metadata": {
    "collapsed": true
   },
   "outputs": [],
   "source": []
  },
  {
   "cell_type": "code",
   "execution_count": 39,
   "metadata": {},
   "outputs": [
    {
     "data": {
      "text/plain": [
       "83021811.800000012"
      ]
     },
     "execution_count": 39,
     "metadata": {},
     "output_type": "execute_result"
    }
   ],
   "source": [
    "Q2_sales_all[Q2_sales_all['week_end_dt']==datetime.date(2018,7,28)]['class_gross_sales_amt'].sum()"
   ]
  },
  {
   "cell_type": "code",
   "execution_count": 38,
   "metadata": {},
   "outputs": [
    {
     "data": {
      "text/plain": [
       "83021811.799999982"
      ]
     },
     "execution_count": 38,
     "metadata": {},
     "output_type": "execute_result"
    }
   ],
   "source": [
    "week_x['subclass_gross_sales_amt'].sum()"
   ]
  },
  {
   "cell_type": "code",
   "execution_count": 41,
   "metadata": {},
   "outputs": [
    {
     "data": {
      "text/plain": [
       "82309553.739999995"
      ]
     },
     "execution_count": 41,
     "metadata": {},
     "output_type": "execute_result"
    }
   ],
   "source": [
    "week_x[week_x['location_id']!='6990']['subclass_gross_sales_amt'].sum()"
   ]
  },
  {
   "cell_type": "code",
   "execution_count": null,
   "metadata": {
    "collapsed": true
   },
   "outputs": [],
   "source": []
  }
 ],
 "metadata": {
  "kernelspec": {
   "display_name": "Python 3",
   "language": "python",
   "name": "python3"
  },
  "language_info": {
   "codemirror_mode": {
    "name": "ipython",
    "version": 3
   },
   "file_extension": ".py",
   "mimetype": "text/x-python",
   "name": "python",
   "nbconvert_exporter": "python",
   "pygments_lexer": "ipython3",
   "version": "3.6.1"
  }
 },
 "nbformat": 4,
 "nbformat_minor": 2
}
