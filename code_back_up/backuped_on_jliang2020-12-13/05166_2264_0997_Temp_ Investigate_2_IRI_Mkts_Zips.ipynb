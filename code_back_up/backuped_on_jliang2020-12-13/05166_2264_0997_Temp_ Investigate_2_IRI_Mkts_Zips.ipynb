{
 "cells": [
  {
   "cell_type": "code",
   "execution_count": 1,
   "metadata": {
    "collapsed": true
   },
   "outputs": [],
   "source": [
    "import pandas as pd\n",
    "import datetime"
   ]
  },
  {
   "cell_type": "code",
   "execution_count": 2,
   "metadata": {
    "collapsed": true
   },
   "outputs": [],
   "source": [
    "IRI_Counties_both=pd.read_excel(\"/home/jian/SunnyD/Otherinput/DMA_to_IRI_Pctg/match_counties.xlsx\",sheetname='Sheet1',dtype=str)\n",
    "IRI_Counties_IRI=pd.read_excel(\"/home/jian/SunnyD/Otherinput/DMA_to_IRI_Pctg/match_counties.xlsx\",sheetname='IRI',dtype=str,usecols=[0,1])\n",
    "IRI_Counties_Nielsen=pd.read_excel(\"/home/jian/SunnyD/Otherinput/DMA_to_IRI_Pctg/match_counties.xlsx\",sheetname='Nielsen',dtype=str,usecols=[0,1])\n",
    "IRI_Counties_Nielsen.columns=[['County','cleaned_name']]\n",
    "IRI_Counties_both=IRI_Counties_both[(IRI_Counties_both['IRI_Label']!='nan') & (IRI_Counties_both['Nielsen_Label']!='nan')]\n",
    "\n",
    "IRI_Counties_both=IRI_Counties_both[['County','County']]\n",
    "IRI_Counties_both.columns=['County','cleaned_name']\n",
    "\n",
    "Nielsen_counties=IRI_Counties_both.append(IRI_Counties_Nielsen).drop_duplicates().reset_index()\n",
    "IRI_counties=IRI_Counties_both.append(IRI_Counties_IRI).drop_duplicates().reset_index()\n",
    "\n",
    "del Nielsen_counties['index']\n",
    "del IRI_counties['index']\n",
    "\n",
    "All_DMA_zips=pd.read_excel(\"/home/jian/Docs/Geo_mapping/Zips by DMA by County16-17 nielsen.xlsx\",dtype=str,skiprows=1)\n",
    "All_DMA_zips=All_DMA_zips.iloc[:,[0,2,6,9]]\n",
    "All_DMA_zips.columns=['zip_cd','DMA','State','County']\n",
    "All_DMA_zips['County']=All_DMA_zips['County']+\"|\"+All_DMA_zips['State']\n",
    "All_DMA_zips['County']=All_DMA_zips['County'].apply(lambda x: x.replace(\" \",\"\").lower())\n",
    "All_DMA_zips=All_DMA_zips[~All_DMA_zips['State'].isin(['AK','HI'])]\n",
    "\n",
    "All_IRI_counties=pd.read_excel(\"/home/jian/SunnyD/Otherinput/Total_US_counties_IRI_markets_and_regions_cr_12272016.xlsx\",dtype=str,sheetname='U.S. Counties',skiprows=1)\n",
    "All_IRI_counties=All_IRI_counties[['County Name','State','IRI Market']]\n",
    "All_IRI_counties['County']=All_IRI_counties['County Name']+\"|\"+All_IRI_counties['State']\n",
    "All_IRI_counties['County']=All_IRI_counties['County'].apply(lambda x: x.replace(\" \",\"\").lower())\n",
    "All_IRI_counties=pd.merge(All_IRI_counties,IRI_counties,on=\"County\",how=\"outer\")\n",
    "All_IRI_counties=All_IRI_counties[['IRI Market','cleaned_name']]\n",
    "\n",
    "All_DMA_zips=pd.merge(All_DMA_zips,Nielsen_counties,on=\"County\",how=\"outer\")\n",
    "All_DMA_zips=All_DMA_zips[['zip_cd','DMA','County','cleaned_name']].rename(columns={\"County\":\"Nielsen_County\"})\n",
    "\n",
    "All_DMA_zips_merge=pd.merge(All_DMA_zips,All_IRI_counties,on=\"cleaned_name\",how=\"outer\")"
   ]
  },
  {
   "cell_type": "code",
   "execution_count": 3,
   "metadata": {
    "collapsed": true
   },
   "outputs": [],
   "source": [
    "IRI_2_Mkts=All_DMA_zips_merge[All_DMA_zips_merge['IRI Market'].isin(['RALEIGH/GREENSBORO','NEW ORLEANS/MOBILE'])]"
   ]
  },
  {
   "cell_type": "code",
   "execution_count": 4,
   "metadata": {
    "collapsed": true
   },
   "outputs": [],
   "source": [
    "IRI_2_Mkts.to_csv(\"/home/jian/SunnyD/Otherinput/DMA_to_IRI_Pctg/Investigate_2_IRI_Mkts_zips.csv\",index=False)"
   ]
  },
  {
   "cell_type": "code",
   "execution_count": 13,
   "metadata": {
    "collapsed": true
   },
   "outputs": [],
   "source": [
    "all_zips_mkts_in_2=All_DMA_zips_merge[All_DMA_zips_merge['zip_cd'].isin(IRI_2_Mkts['zip_cd'])]"
   ]
  },
  {
   "cell_type": "code",
   "execution_count": 17,
   "metadata": {},
   "outputs": [
    {
     "data": {
      "text/plain": [
       "(872, 5)"
      ]
     },
     "execution_count": 17,
     "metadata": {},
     "output_type": "execute_result"
    }
   ],
   "source": [
    "all_zips_mkts_in_2.shape"
   ]
  },
  {
   "cell_type": "code",
   "execution_count": 16,
   "metadata": {},
   "outputs": [
    {
     "data": {
      "text/plain": [
       "(753, 5)"
      ]
     },
     "execution_count": 16,
     "metadata": {},
     "output_type": "execute_result"
    }
   ],
   "source": [
    "IRI_2_Mkts.shape"
   ]
  },
  {
   "cell_type": "code",
   "execution_count": 7,
   "metadata": {
    "collapsed": true
   },
   "outputs": [],
   "source": [
    "Krogger_address=pd.read_excel(\"/home/jian/SunnyD/Otherinput/DMA_to_IRI_Pctg/kroger address.xlsx\",dtype=str)"
   ]
  },
  {
   "cell_type": "code",
   "execution_count": 8,
   "metadata": {
    "collapsed": true
   },
   "outputs": [],
   "source": [
    "Mkt2=Krogger_address[Krogger_address['Zip 5 digit'].isin(IRI_2_Mkts['zip_cd'])]"
   ]
  },
  {
   "cell_type": "code",
   "execution_count": 25,
   "metadata": {},
   "outputs": [
    {
     "data": {
      "text/plain": [
       "array(['RALEIGH/GREENSBORO'], dtype=object)"
      ]
     },
     "execution_count": 25,
     "metadata": {},
     "output_type": "execute_result"
    }
   ],
   "source": [
    "IRI_2_Mkts[IRI_2_Mkts['zip_cd'].isin(Mkt2['Zip 5 digit'].unique().tolist())]['IRI Market'].unique()"
   ]
  },
  {
   "cell_type": "code",
   "execution_count": 10,
   "metadata": {},
   "outputs": [
    {
     "data": {
      "text/plain": [
       "14"
      ]
     },
     "execution_count": 10,
     "metadata": {},
     "output_type": "execute_result"
    }
   ],
   "source": [
    "len(Mkt2['STO_ADDRESS'].unique())"
   ]
  },
  {
   "cell_type": "code",
   "execution_count": 11,
   "metadata": {},
   "outputs": [
    {
     "data": {
      "text/plain": [
       "['27705',\n",
       " '27713',\n",
       " '27704',\n",
       " '27612',\n",
       " '27526',\n",
       " '27529',\n",
       " '27513',\n",
       " '27523',\n",
       " '27613',\n",
       " '27609',\n",
       " '27615',\n",
       " '27707']"
      ]
     },
     "execution_count": 11,
     "metadata": {},
     "output_type": "execute_result"
    }
   ],
   "source": [
    "Mkt2['Zip 5 digit'].unique().tolist()"
   ]
  },
  {
   "cell_type": "code",
   "execution_count": 12,
   "metadata": {},
   "outputs": [
    {
     "data": {
      "text/html": [
       "<div>\n",
       "<style>\n",
       "    .dataframe thead tr:only-child th {\n",
       "        text-align: right;\n",
       "    }\n",
       "\n",
       "    .dataframe thead th {\n",
       "        text-align: left;\n",
       "    }\n",
       "\n",
       "    .dataframe tbody tr th {\n",
       "        vertical-align: top;\n",
       "    }\n",
       "</style>\n",
       "<table border=\"1\" class=\"dataframe\">\n",
       "  <thead>\n",
       "    <tr style=\"text-align: right;\">\n",
       "      <th></th>\n",
       "      <th>zip_cd</th>\n",
       "      <th>DMA</th>\n",
       "      <th>Nielsen_County</th>\n",
       "      <th>cleaned_name</th>\n",
       "      <th>IRI Market</th>\n",
       "    </tr>\n",
       "  </thead>\n",
       "  <tbody>\n",
       "    <tr>\n",
       "      <th>12755</th>\n",
       "      <td>27006</td>\n",
       "      <td>GREENSBORO-H.POINT-W.SALEM</td>\n",
       "      <td>davie|nc</td>\n",
       "      <td>davie|nc</td>\n",
       "      <td>RALEIGH/GREENSBORO</td>\n",
       "    </tr>\n",
       "    <tr>\n",
       "      <th>12756</th>\n",
       "      <td>27014</td>\n",
       "      <td>GREENSBORO-H.POINT-W.SALEM</td>\n",
       "      <td>davie|nc</td>\n",
       "      <td>davie|nc</td>\n",
       "      <td>RALEIGH/GREENSBORO</td>\n",
       "    </tr>\n",
       "  </tbody>\n",
       "</table>\n",
       "</div>"
      ],
      "text/plain": [
       "      zip_cd                         DMA Nielsen_County cleaned_name  \\\n",
       "12755  27006  GREENSBORO-H.POINT-W.SALEM       davie|nc     davie|nc   \n",
       "12756  27014  GREENSBORO-H.POINT-W.SALEM       davie|nc     davie|nc   \n",
       "\n",
       "               IRI Market  \n",
       "12755  RALEIGH/GREENSBORO  \n",
       "12756  RALEIGH/GREENSBORO  "
      ]
     },
     "execution_count": 12,
     "metadata": {},
     "output_type": "execute_result"
    }
   ],
   "source": [
    "IRI_2_Mkts.head(2)"
   ]
  },
  {
   "cell_type": "code",
   "execution_count": 18,
   "metadata": {},
   "outputs": [
    {
     "data": {
      "text/html": [
       "<div>\n",
       "<style>\n",
       "    .dataframe thead tr:only-child th {\n",
       "        text-align: right;\n",
       "    }\n",
       "\n",
       "    .dataframe thead th {\n",
       "        text-align: left;\n",
       "    }\n",
       "\n",
       "    .dataframe tbody tr th {\n",
       "        vertical-align: top;\n",
       "    }\n",
       "</style>\n",
       "<table border=\"1\" class=\"dataframe\">\n",
       "  <thead>\n",
       "    <tr style=\"text-align: right;\">\n",
       "      <th></th>\n",
       "      <th>zip_cd</th>\n",
       "      <th>DMA</th>\n",
       "      <th>Nielsen_County</th>\n",
       "      <th>cleaned_name</th>\n",
       "      <th>IRI Market</th>\n",
       "    </tr>\n",
       "  </thead>\n",
       "  <tbody>\n",
       "    <tr>\n",
       "      <th>12997</th>\n",
       "      <td>27523</td>\n",
       "      <td>RALEIGH-DURHAM (FAYETVLLE)</td>\n",
       "      <td>chatham|nc</td>\n",
       "      <td>chatham|nc</td>\n",
       "      <td>NO MARKET</td>\n",
       "    </tr>\n",
       "    <tr>\n",
       "      <th>13000</th>\n",
       "      <td>27713</td>\n",
       "      <td>RALEIGH-DURHAM (FAYETVLLE)</td>\n",
       "      <td>chatham|nc</td>\n",
       "      <td>chatham|nc</td>\n",
       "      <td>NO MARKET</td>\n",
       "    </tr>\n",
       "    <tr>\n",
       "      <th>13104</th>\n",
       "      <td>27705</td>\n",
       "      <td>RALEIGH-DURHAM (FAYETVLLE)</td>\n",
       "      <td>orange|nc</td>\n",
       "      <td>orange|nc</td>\n",
       "      <td>RALEIGH/GREENSBORO</td>\n",
       "    </tr>\n",
       "    <tr>\n",
       "      <th>13105</th>\n",
       "      <td>27707</td>\n",
       "      <td>RALEIGH-DURHAM (FAYETVLLE)</td>\n",
       "      <td>orange|nc</td>\n",
       "      <td>orange|nc</td>\n",
       "      <td>RALEIGH/GREENSBORO</td>\n",
       "    </tr>\n",
       "    <tr>\n",
       "      <th>13119</th>\n",
       "      <td>27613</td>\n",
       "      <td>RALEIGH-DURHAM (FAYETVLLE)</td>\n",
       "      <td>durham|nc</td>\n",
       "      <td>durham|nc</td>\n",
       "      <td>RALEIGH/GREENSBORO</td>\n",
       "    </tr>\n",
       "    <tr>\n",
       "      <th>13124</th>\n",
       "      <td>27704</td>\n",
       "      <td>RALEIGH-DURHAM (FAYETVLLE)</td>\n",
       "      <td>durham|nc</td>\n",
       "      <td>durham|nc</td>\n",
       "      <td>RALEIGH/GREENSBORO</td>\n",
       "    </tr>\n",
       "    <tr>\n",
       "      <th>13125</th>\n",
       "      <td>27705</td>\n",
       "      <td>RALEIGH-DURHAM (FAYETVLLE)</td>\n",
       "      <td>durham|nc</td>\n",
       "      <td>durham|nc</td>\n",
       "      <td>RALEIGH/GREENSBORO</td>\n",
       "    </tr>\n",
       "    <tr>\n",
       "      <th>13127</th>\n",
       "      <td>27707</td>\n",
       "      <td>RALEIGH-DURHAM (FAYETVLLE)</td>\n",
       "      <td>durham|nc</td>\n",
       "      <td>durham|nc</td>\n",
       "      <td>RALEIGH/GREENSBORO</td>\n",
       "    </tr>\n",
       "    <tr>\n",
       "      <th>13133</th>\n",
       "      <td>27713</td>\n",
       "      <td>RALEIGH-DURHAM (FAYETVLLE)</td>\n",
       "      <td>durham|nc</td>\n",
       "      <td>durham|nc</td>\n",
       "      <td>RALEIGH/GREENSBORO</td>\n",
       "    </tr>\n",
       "    <tr>\n",
       "      <th>13163</th>\n",
       "      <td>27526</td>\n",
       "      <td>RALEIGH-DURHAM (FAYETVLLE)</td>\n",
       "      <td>harnett|nc</td>\n",
       "      <td>harnett|nc</td>\n",
       "      <td>NO MARKET</td>\n",
       "    </tr>\n",
       "    <tr>\n",
       "      <th>13184</th>\n",
       "      <td>27529</td>\n",
       "      <td>RALEIGH-DURHAM (FAYETVLLE)</td>\n",
       "      <td>johnston|nc</td>\n",
       "      <td>johnston|nc</td>\n",
       "      <td>RALEIGH/GREENSBORO</td>\n",
       "    </tr>\n",
       "    <tr>\n",
       "      <th>13204</th>\n",
       "      <td>27513</td>\n",
       "      <td>RALEIGH-DURHAM (FAYETVLLE)</td>\n",
       "      <td>wake|nc</td>\n",
       "      <td>wake|nc</td>\n",
       "      <td>RALEIGH/GREENSBORO</td>\n",
       "    </tr>\n",
       "    <tr>\n",
       "      <th>13209</th>\n",
       "      <td>27523</td>\n",
       "      <td>RALEIGH-DURHAM (FAYETVLLE)</td>\n",
       "      <td>wake|nc</td>\n",
       "      <td>wake|nc</td>\n",
       "      <td>RALEIGH/GREENSBORO</td>\n",
       "    </tr>\n",
       "    <tr>\n",
       "      <th>13210</th>\n",
       "      <td>27526</td>\n",
       "      <td>RALEIGH-DURHAM (FAYETVLLE)</td>\n",
       "      <td>wake|nc</td>\n",
       "      <td>wake|nc</td>\n",
       "      <td>RALEIGH/GREENSBORO</td>\n",
       "    </tr>\n",
       "    <tr>\n",
       "      <th>13211</th>\n",
       "      <td>27529</td>\n",
       "      <td>RALEIGH-DURHAM (FAYETVLLE)</td>\n",
       "      <td>wake|nc</td>\n",
       "      <td>wake|nc</td>\n",
       "      <td>RALEIGH/GREENSBORO</td>\n",
       "    </tr>\n",
       "    <tr>\n",
       "      <th>13232</th>\n",
       "      <td>27609</td>\n",
       "      <td>RALEIGH-DURHAM (FAYETVLLE)</td>\n",
       "      <td>wake|nc</td>\n",
       "      <td>wake|nc</td>\n",
       "      <td>RALEIGH/GREENSBORO</td>\n",
       "    </tr>\n",
       "    <tr>\n",
       "      <th>13235</th>\n",
       "      <td>27612</td>\n",
       "      <td>RALEIGH-DURHAM (FAYETVLLE)</td>\n",
       "      <td>wake|nc</td>\n",
       "      <td>wake|nc</td>\n",
       "      <td>RALEIGH/GREENSBORO</td>\n",
       "    </tr>\n",
       "    <tr>\n",
       "      <th>13236</th>\n",
       "      <td>27613</td>\n",
       "      <td>RALEIGH-DURHAM (FAYETVLLE)</td>\n",
       "      <td>wake|nc</td>\n",
       "      <td>wake|nc</td>\n",
       "      <td>RALEIGH/GREENSBORO</td>\n",
       "    </tr>\n",
       "    <tr>\n",
       "      <th>13238</th>\n",
       "      <td>27615</td>\n",
       "      <td>RALEIGH-DURHAM (FAYETVLLE)</td>\n",
       "      <td>wake|nc</td>\n",
       "      <td>wake|nc</td>\n",
       "      <td>RALEIGH/GREENSBORO</td>\n",
       "    </tr>\n",
       "    <tr>\n",
       "      <th>13269</th>\n",
       "      <td>27713</td>\n",
       "      <td>RALEIGH-DURHAM (FAYETVLLE)</td>\n",
       "      <td>wake|nc</td>\n",
       "      <td>wake|nc</td>\n",
       "      <td>RALEIGH/GREENSBORO</td>\n",
       "    </tr>\n",
       "  </tbody>\n",
       "</table>\n",
       "</div>"
      ],
      "text/plain": [
       "      zip_cd                         DMA Nielsen_County cleaned_name  \\\n",
       "12997  27523  RALEIGH-DURHAM (FAYETVLLE)     chatham|nc   chatham|nc   \n",
       "13000  27713  RALEIGH-DURHAM (FAYETVLLE)     chatham|nc   chatham|nc   \n",
       "13104  27705  RALEIGH-DURHAM (FAYETVLLE)      orange|nc    orange|nc   \n",
       "13105  27707  RALEIGH-DURHAM (FAYETVLLE)      orange|nc    orange|nc   \n",
       "13119  27613  RALEIGH-DURHAM (FAYETVLLE)      durham|nc    durham|nc   \n",
       "13124  27704  RALEIGH-DURHAM (FAYETVLLE)      durham|nc    durham|nc   \n",
       "13125  27705  RALEIGH-DURHAM (FAYETVLLE)      durham|nc    durham|nc   \n",
       "13127  27707  RALEIGH-DURHAM (FAYETVLLE)      durham|nc    durham|nc   \n",
       "13133  27713  RALEIGH-DURHAM (FAYETVLLE)      durham|nc    durham|nc   \n",
       "13163  27526  RALEIGH-DURHAM (FAYETVLLE)     harnett|nc   harnett|nc   \n",
       "13184  27529  RALEIGH-DURHAM (FAYETVLLE)    johnston|nc  johnston|nc   \n",
       "13204  27513  RALEIGH-DURHAM (FAYETVLLE)        wake|nc      wake|nc   \n",
       "13209  27523  RALEIGH-DURHAM (FAYETVLLE)        wake|nc      wake|nc   \n",
       "13210  27526  RALEIGH-DURHAM (FAYETVLLE)        wake|nc      wake|nc   \n",
       "13211  27529  RALEIGH-DURHAM (FAYETVLLE)        wake|nc      wake|nc   \n",
       "13232  27609  RALEIGH-DURHAM (FAYETVLLE)        wake|nc      wake|nc   \n",
       "13235  27612  RALEIGH-DURHAM (FAYETVLLE)        wake|nc      wake|nc   \n",
       "13236  27613  RALEIGH-DURHAM (FAYETVLLE)        wake|nc      wake|nc   \n",
       "13238  27615  RALEIGH-DURHAM (FAYETVLLE)        wake|nc      wake|nc   \n",
       "13269  27713  RALEIGH-DURHAM (FAYETVLLE)        wake|nc      wake|nc   \n",
       "\n",
       "               IRI Market  \n",
       "12997           NO MARKET  \n",
       "13000           NO MARKET  \n",
       "13104  RALEIGH/GREENSBORO  \n",
       "13105  RALEIGH/GREENSBORO  \n",
       "13119  RALEIGH/GREENSBORO  \n",
       "13124  RALEIGH/GREENSBORO  \n",
       "13125  RALEIGH/GREENSBORO  \n",
       "13127  RALEIGH/GREENSBORO  \n",
       "13133  RALEIGH/GREENSBORO  \n",
       "13163           NO MARKET  \n",
       "13184  RALEIGH/GREENSBORO  \n",
       "13204  RALEIGH/GREENSBORO  \n",
       "13209  RALEIGH/GREENSBORO  \n",
       "13210  RALEIGH/GREENSBORO  \n",
       "13211  RALEIGH/GREENSBORO  \n",
       "13232  RALEIGH/GREENSBORO  \n",
       "13235  RALEIGH/GREENSBORO  \n",
       "13236  RALEIGH/GREENSBORO  \n",
       "13238  RALEIGH/GREENSBORO  \n",
       "13269  RALEIGH/GREENSBORO  "
      ]
     },
     "execution_count": 18,
     "metadata": {},
     "output_type": "execute_result"
    }
   ],
   "source": [
    "all_zips_mkts_in_2[all_zips_mkts_in_2['zip_cd'].isin(Mkt2['Zip 5 digit'].unique().tolist())]"
   ]
  },
  {
   "cell_type": "code",
   "execution_count": 19,
   "metadata": {
    "collapsed": true
   },
   "outputs": [],
   "source": [
    "zip_iri_1to1=pd.read_excel(\"/home/jian/SunnyD/Otherinput/All_IRI_Mkt_with_Zips_0430.xlsx\",dtype=str)"
   ]
  },
  {
   "cell_type": "code",
   "execution_count": 21,
   "metadata": {},
   "outputs": [
    {
     "data": {
      "text/html": [
       "<div>\n",
       "<style>\n",
       "    .dataframe thead tr:only-child th {\n",
       "        text-align: right;\n",
       "    }\n",
       "\n",
       "    .dataframe thead th {\n",
       "        text-align: left;\n",
       "    }\n",
       "\n",
       "    .dataframe tbody tr th {\n",
       "        vertical-align: top;\n",
       "    }\n",
       "</style>\n",
       "<table border=\"1\" class=\"dataframe\">\n",
       "  <thead>\n",
       "    <tr style=\"text-align: right;\">\n",
       "      <th></th>\n",
       "      <th>zip_cd</th>\n",
       "      <th>IRI Market</th>\n",
       "    </tr>\n",
       "  </thead>\n",
       "  <tbody>\n",
       "    <tr>\n",
       "      <th>2714</th>\n",
       "      <td>27513</td>\n",
       "      <td>RALEIGH/GREENSBORO</td>\n",
       "    </tr>\n",
       "    <tr>\n",
       "      <th>2723</th>\n",
       "      <td>27523</td>\n",
       "      <td>RALEIGH/GREENSBORO</td>\n",
       "    </tr>\n",
       "    <tr>\n",
       "      <th>2726</th>\n",
       "      <td>27526</td>\n",
       "      <td>RALEIGH/GREENSBORO</td>\n",
       "    </tr>\n",
       "    <tr>\n",
       "      <th>2729</th>\n",
       "      <td>27529</td>\n",
       "      <td>RALEIGH/GREENSBORO</td>\n",
       "    </tr>\n",
       "    <tr>\n",
       "      <th>2771</th>\n",
       "      <td>27609</td>\n",
       "      <td>RALEIGH/GREENSBORO</td>\n",
       "    </tr>\n",
       "    <tr>\n",
       "      <th>2774</th>\n",
       "      <td>27612</td>\n",
       "      <td>RALEIGH/GREENSBORO</td>\n",
       "    </tr>\n",
       "    <tr>\n",
       "      <th>2775</th>\n",
       "      <td>27613</td>\n",
       "      <td>RALEIGH/GREENSBORO</td>\n",
       "    </tr>\n",
       "    <tr>\n",
       "      <th>2777</th>\n",
       "      <td>27615</td>\n",
       "      <td>RALEIGH/GREENSBORO</td>\n",
       "    </tr>\n",
       "    <tr>\n",
       "      <th>2810</th>\n",
       "      <td>27704</td>\n",
       "      <td>RALEIGH/GREENSBORO</td>\n",
       "    </tr>\n",
       "    <tr>\n",
       "      <th>2811</th>\n",
       "      <td>27705</td>\n",
       "      <td>RALEIGH/GREENSBORO</td>\n",
       "    </tr>\n",
       "    <tr>\n",
       "      <th>2813</th>\n",
       "      <td>27707</td>\n",
       "      <td>RALEIGH/GREENSBORO</td>\n",
       "    </tr>\n",
       "    <tr>\n",
       "      <th>2819</th>\n",
       "      <td>27713</td>\n",
       "      <td>RALEIGH/GREENSBORO</td>\n",
       "    </tr>\n",
       "  </tbody>\n",
       "</table>\n",
       "</div>"
      ],
      "text/plain": [
       "     zip_cd          IRI Market\n",
       "2714  27513  RALEIGH/GREENSBORO\n",
       "2723  27523  RALEIGH/GREENSBORO\n",
       "2726  27526  RALEIGH/GREENSBORO\n",
       "2729  27529  RALEIGH/GREENSBORO\n",
       "2771  27609  RALEIGH/GREENSBORO\n",
       "2774  27612  RALEIGH/GREENSBORO\n",
       "2775  27613  RALEIGH/GREENSBORO\n",
       "2777  27615  RALEIGH/GREENSBORO\n",
       "2810  27704  RALEIGH/GREENSBORO\n",
       "2811  27705  RALEIGH/GREENSBORO\n",
       "2813  27707  RALEIGH/GREENSBORO\n",
       "2819  27713  RALEIGH/GREENSBORO"
      ]
     },
     "execution_count": 21,
     "metadata": {},
     "output_type": "execute_result"
    }
   ],
   "source": [
    "zip_iri_1to1[zip_iri_1to1['zip_cd'].isin(Mkt2['Zip 5 digit'].unique().tolist())]"
   ]
  },
  {
   "cell_type": "code",
   "execution_count": null,
   "metadata": {
    "collapsed": true
   },
   "outputs": [],
   "source": []
  }
 ],
 "metadata": {
  "kernelspec": {
   "display_name": "Python 3",
   "language": "python",
   "name": "python3"
  },
  "language_info": {
   "codemirror_mode": {
    "name": "ipython",
    "version": 3
   },
   "file_extension": ".py",
   "mimetype": "text/x-python",
   "name": "python",
   "nbconvert_exporter": "python",
   "pygments_lexer": "ipython3",
   "version": "3.6.1"
  }
 },
 "nbformat": 4,
 "nbformat_minor": 2
}
