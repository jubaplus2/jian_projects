{
 "cells": [
  {
   "cell_type": "code",
   "execution_count": 1,
   "metadata": {},
   "outputs": [
    {
     "data": {
      "text/plain": [
       "18"
      ]
     },
     "execution_count": 1,
     "metadata": {},
     "output_type": "execute_result"
    }
   ],
   "source": [
    "import pandas as pd\n",
    "import datetime\n",
    "import datetime\n",
    "import os\n",
    "from haversine import haversine\n",
    "import glob\n",
    "import json\n",
    "\n",
    "zip_centers=json.load(open(\"/home/jian/Docs/Geo_mapping/updated_zip_centers_JL_2019-05-23.json\",\"r\"))\n",
    "\n",
    "IRI_Selected_18=['LOS ANGELES','DALLAS/FT WORTH','NEW YORK','HOUSTON','WEST TEX/NEW MEXICO','PHOENIX/TUCSON','SOUTH CAROLINA',\n",
    "                'BIRMINGHAM/MONTGOMERY','MISSISSIPPI','BALTIMORE/WASHINGTON','NEW ORLEANS/MOBILE',\n",
    "                 'CHICAGO','ATLANTA','DETROIT','MIAMI/FT LAUDERDALE','HARRISBURG/SCRANTON','BOSTON',\"ROANOKE\"] #'RALEIGH/GREENSBORO','DENVER'\n",
    "len(IRI_Selected_18)"
   ]
  },
  {
   "cell_type": "markdown",
   "metadata": {},
   "source": [
    "# IRI zips for the 18 Mkts"
   ]
  },
  {
   "cell_type": "code",
   "execution_count": 2,
   "metadata": {
    "collapsed": true
   },
   "outputs": [],
   "source": [
    "IRI_Counties_both=pd.read_excel(\"/home/jian/SunnyD/Otherinput/DMA_to_IRI_Pctg/match_counties.xlsx\",sheetname='Sheet1',dtype=str)\n",
    "IRI_Counties_IRI=pd.read_excel(\"/home/jian/SunnyD/Otherinput/DMA_to_IRI_Pctg/match_counties.xlsx\",sheetname='IRI',dtype=str,usecols=[0,1])\n",
    "IRI_Counties_Nielsen=pd.read_excel(\"/home/jian/SunnyD/Otherinput/DMA_to_IRI_Pctg/match_counties.xlsx\",sheetname='Nielsen',dtype=str,usecols=[0,1])\n",
    "IRI_Counties_Nielsen.columns=[['County','cleaned_name']]\n",
    "IRI_Counties_both=IRI_Counties_both[(IRI_Counties_both['IRI_Label']!='nan') & (IRI_Counties_both['Nielsen_Label']!='nan')]\n",
    "\n",
    "IRI_Counties_both=IRI_Counties_both[['County','County']]\n",
    "IRI_Counties_both.columns=['County','cleaned_name']\n",
    "\n",
    "Nielsen_counties=IRI_Counties_both.append(IRI_Counties_Nielsen).drop_duplicates().reset_index()\n",
    "IRI_counties=IRI_Counties_both.append(IRI_Counties_IRI).drop_duplicates().reset_index()\n",
    "\n",
    "del Nielsen_counties['index']\n",
    "del IRI_counties['index']\n"
   ]
  },
  {
   "cell_type": "code",
   "execution_count": 3,
   "metadata": {
    "collapsed": true
   },
   "outputs": [],
   "source": [
    "All_DMA_zips=pd.read_excel(\"/home/jian/Docs/Geo_mapping/Zips by DMA by County16-17 nielsen.xlsx\",dtype=str,skiprows=1)\n",
    "All_DMA_zips=All_DMA_zips.iloc[:,[0,2,6,9]]\n",
    "All_DMA_zips.columns=['zip_code','DMA','State','County']\n",
    "All_DMA_zips['County']=All_DMA_zips['County']+\"|\"+All_DMA_zips['State']\n",
    "All_DMA_zips['County']=All_DMA_zips['County'].apply(lambda x: x.replace(\" \",\"\").lower())\n",
    "All_DMA_zips=All_DMA_zips[~All_DMA_zips['State'].isin(['AK','HI'])]"
   ]
  },
  {
   "cell_type": "code",
   "execution_count": 4,
   "metadata": {
    "collapsed": true
   },
   "outputs": [],
   "source": [
    "All_IRI_counties=pd.read_excel(\"/home/jian/SunnyD/Otherinput/Total_US_counties_IRI_markets_and_regions_cr_12272016.xlsx\",dtype=str,sheetname='U.S. Counties',skiprows=1)\n",
    "All_IRI_counties=All_IRI_counties[['County Name','State','IRI Market']]\n",
    "All_IRI_counties['County']=All_IRI_counties['County Name']+\"|\"+All_IRI_counties['State']\n",
    "All_IRI_counties['County']=All_IRI_counties['County'].apply(lambda x: x.replace(\" \",\"\").lower())\n",
    "All_IRI_counties=pd.merge(All_IRI_counties,IRI_counties,on=\"County\",how=\"left\")\n",
    "All_IRI_counties=All_IRI_counties[['IRI Market','cleaned_name']]"
   ]
  },
  {
   "cell_type": "code",
   "execution_count": 5,
   "metadata": {
    "collapsed": true
   },
   "outputs": [],
   "source": [
    "All_DMA_zips=pd.merge(All_DMA_zips,Nielsen_counties,on=\"County\",how=\"left\")\n",
    "All_DMA_zips=All_DMA_zips[['zip_code','DMA','County','cleaned_name']].rename(columns={\"County\":\"Nielsen_County\"})\n",
    "All_DMA_zips_merge=pd.merge(All_DMA_zips,All_IRI_counties,on=\"cleaned_name\",how=\"left\")\n"
   ]
  },
  {
   "cell_type": "code",
   "execution_count": 6,
   "metadata": {
    "collapsed": true
   },
   "outputs": [],
   "source": [
    "IRI_Zip_with_dup=All_DMA_zips_merge[['IRI Market','zip_code']].drop_duplicates()"
   ]
  },
  {
   "cell_type": "code",
   "execution_count": 7,
   "metadata": {},
   "outputs": [
    {
     "name": "stdout",
     "output_type": "stream",
     "text": [
      "(10157, 2)\n",
      "18\n",
      "10149\n",
      "(12009, 2)\n",
      "46\n",
      "11961\n",
      "(40610, 2)\n"
     ]
    }
   ],
   "source": [
    "IRI_Zip_18=IRI_Zip_with_dup[IRI_Zip_with_dup['IRI Market'].isin(IRI_Selected_18)]\n",
    "\n",
    "IRI_Zip_others=IRI_Zip_with_dup[~IRI_Zip_with_dup['IRI Market'].isin(IRI_Selected_18)]\n",
    "IRI_Zip_others=IRI_Zip_others[~IRI_Zip_others['zip_code'].isin(IRI_Zip_18['zip_code'].tolist())]\n",
    "IRI_Zip_others=IRI_Zip_others[IRI_Zip_others['IRI Market']!=\"NO MARKET\"]\n",
    "\n",
    "IRI_Zip_NoMkt=IRI_Zip_with_dup[IRI_Zip_with_dup['IRI Market']==\"NO MARKET\"]\n",
    "IRI_Zip_NoMkt=IRI_Zip_NoMkt[~IRI_Zip_NoMkt['zip_code'].isin(IRI_Zip_18['zip_code'].tolist())]\n",
    "IRI_Zip_NoMkt=IRI_Zip_NoMkt[~IRI_Zip_NoMkt['zip_code'].isin(IRI_Zip_others['zip_code'].tolist())]\n",
    "\n",
    "print(IRI_Zip_18.shape)\n",
    "print(IRI_Zip_18['IRI Market'].nunique())\n",
    "print(IRI_Zip_18['zip_code'].nunique())\n",
    "\n",
    "\n",
    "print(IRI_Zip_others.shape)\n",
    "print(IRI_Zip_others['IRI Market'].nunique())\n",
    "print(IRI_Zip_others['zip_code'].nunique())\n",
    "\n",
    "IRI_zip_18_and_the_rest=IRI_Zip_18.append(IRI_Zip_others).append(IRI_Zip_NoMkt)\n",
    "print(IRI_zip_18_and_the_rest.shape)\n",
    "# IRI_zip_18_and_the_rest.groupby(\"IRI Market\")['zip_code'].count().to_frame().reset_index().sort_values(\"zip_code\",ascending=False)"
   ]
  },
  {
   "cell_type": "markdown",
   "metadata": {},
   "source": [
    "# Walmarts in the zips above from SafeGraph"
   ]
  },
  {
   "cell_type": "code",
   "execution_count": 8,
   "metadata": {},
   "outputs": [
    {
     "data": {
      "text/plain": [
       "['Walmart', 'Walmart inc']"
      ]
     },
     "execution_count": 8,
     "metadata": {},
     "output_type": "execute_result"
    }
   ],
   "source": [
    "latest_SG_brand_info=pd.read_csv(\"/home/jian/Docs/SafeGraph/places_20190629/brand_info/part-00000-tid-3844431843075532209-d890661b-f976-44e8-9678-725e8cd08c6f-119-c000.csv.gz\",\n",
    "                                dtype=str,compression=\"gzip\",sep=\"|\")\n",
    "[x for x in latest_SG_brand_info['brand_name'].unique().tolist() if \"almart\" in x.lower()]"
   ]
  },
  {
   "cell_type": "code",
   "execution_count": 9,
   "metadata": {},
   "outputs": [
    {
     "data": {
      "text/plain": [
       "['/home/jian/Docs/SafeGraph/places_20190629/poi/part-00001-tid-9006125908719184114-1808d564-228a-44d4-8710-c00fc4c1b790-112-c000.csv.gz',\n",
       " '/home/jian/Docs/SafeGraph/places_20190629/poi/part-00003-tid-9006125908719184114-1808d564-228a-44d4-8710-c00fc4c1b790-114-c000.csv.gz',\n",
       " '/home/jian/Docs/SafeGraph/places_20190629/poi/part-00000-tid-9006125908719184114-1808d564-228a-44d4-8710-c00fc4c1b790-111-c000.csv.gz',\n",
       " '/home/jian/Docs/SafeGraph/places_20190629/poi/part-00004-tid-9006125908719184114-1808d564-228a-44d4-8710-c00fc4c1b790-115-c000.csv.gz',\n",
       " '/home/jian/Docs/SafeGraph/places_20190629/poi/part-00002-tid-9006125908719184114-1808d564-228a-44d4-8710-c00fc4c1b790-113-c000.csv.gz',\n",
       " '/home/jian/Docs/SafeGraph/places_20190629/poi/part-00005-tid-9006125908719184114-1808d564-228a-44d4-8710-c00fc4c1b790-116-c000.csv.gz',\n",
       " '/home/jian/Docs/SafeGraph/places_20190629/poi/part-00007-tid-9006125908719184114-1808d564-228a-44d4-8710-c00fc4c1b790-118-c000.csv.gz',\n",
       " '/home/jian/Docs/SafeGraph/places_20190629/poi/part-00006-tid-9006125908719184114-1808d564-228a-44d4-8710-c00fc4c1b790-117-c000.csv.gz']"
      ]
     },
     "execution_count": 9,
     "metadata": {},
     "output_type": "execute_result"
    }
   ],
   "source": [
    "POI_data=glob.glob(\"/home/jian/Docs/SafeGraph/places_20190629/poi/*csv.gz\")\n",
    "POI_data"
   ]
  },
  {
   "cell_type": "code",
   "execution_count": 10,
   "metadata": {},
   "outputs": [
    {
     "name": "stdout",
     "output_type": "stream",
     "text": [
      "2019-09-25 17:20:43.787462 /home/jian/Docs/SafeGraph/places_20190629/poi/part-00001-tid-9006125908719184114-1808d564-228a-44d4-8710-c00fc4c1b790-112-c000.csv.gz\n",
      "2019-09-25 17:21:41.998873 /home/jian/Docs/SafeGraph/places_20190629/poi/part-00003-tid-9006125908719184114-1808d564-228a-44d4-8710-c00fc4c1b790-114-c000.csv.gz\n",
      "2019-09-25 17:21:54.271612 /home/jian/Docs/SafeGraph/places_20190629/poi/part-00000-tid-9006125908719184114-1808d564-228a-44d4-8710-c00fc4c1b790-111-c000.csv.gz\n",
      "2019-09-25 17:22:04.501787 /home/jian/Docs/SafeGraph/places_20190629/poi/part-00004-tid-9006125908719184114-1808d564-228a-44d4-8710-c00fc4c1b790-115-c000.csv.gz\n",
      "2019-09-25 17:22:15.047481 /home/jian/Docs/SafeGraph/places_20190629/poi/part-00002-tid-9006125908719184114-1808d564-228a-44d4-8710-c00fc4c1b790-113-c000.csv.gz\n",
      "2019-09-25 17:22:25.149227 /home/jian/Docs/SafeGraph/places_20190629/poi/part-00005-tid-9006125908719184114-1808d564-228a-44d4-8710-c00fc4c1b790-116-c000.csv.gz\n",
      "2019-09-25 17:22:34.863639 /home/jian/Docs/SafeGraph/places_20190629/poi/part-00007-tid-9006125908719184114-1808d564-228a-44d4-8710-c00fc4c1b790-118-c000.csv.gz\n",
      "2019-09-25 17:22:44.892940 /home/jian/Docs/SafeGraph/places_20190629/poi/part-00006-tid-9006125908719184114-1808d564-228a-44d4-8710-c00fc4c1b790-117-c000.csv.gz\n"
     ]
    }
   ],
   "source": [
    "all_SG_WMT_POI=pd.DataFrame()\n",
    "all_SG_WMTinc_POI=pd.DataFrame()\n",
    "\n",
    "for file in POI_data:\n",
    "    df=pd.read_csv(file,dtype=str,compression=\"gzip\",sep=\"|\")\n",
    "    df_Walmart=df[df['brands']==\"Walmart\"]\n",
    "    df_Walmartinc=df[df['brands']==\"Walmart inc\"]\n",
    "    \n",
    "    all_SG_WMT_POI=all_SG_WMT_POI.append(df_Walmart)\n",
    "    all_SG_WMTinc_POI=all_SG_WMTinc_POI.append(df_Walmartinc)\n",
    "    \n",
    "    print(datetime.datetime.now(),file)"
   ]
  },
  {
   "cell_type": "code",
   "execution_count": 11,
   "metadata": {},
   "outputs": [
    {
     "name": "stdout",
     "output_type": "stream",
     "text": [
      "(4669, 20)\n",
      "(0, 20)\n"
     ]
    }
   ],
   "source": [
    "print(all_SG_WMT_POI.shape)\n",
    "print(all_SG_WMTinc_POI.shape)\n",
    "\n",
    "# all_SG_WMT_POI"
   ]
  },
  {
   "cell_type": "code",
   "execution_count": 12,
   "metadata": {},
   "outputs": [
    {
     "data": {
      "text/plain": [
       "array(['Walmart'], dtype=object)"
      ]
     },
     "execution_count": 12,
     "metadata": {},
     "output_type": "execute_result"
    }
   ],
   "source": [
    "all_SG_WMT_POI['brands'].unique()"
   ]
  },
  {
   "cell_type": "code",
   "execution_count": 13,
   "metadata": {},
   "outputs": [
    {
     "name": "stdout",
     "output_type": "stream",
     "text": [
      "['Walmart Supercenter', 'Wal Mart Supercenter', 'Walmart']\n"
     ]
    },
    {
     "data": {
      "text/plain": [
       "(4653, 20)"
      ]
     },
     "execution_count": 13,
     "metadata": {},
     "output_type": "execute_result"
    }
   ],
   "source": [
    "df_slicing_Wmts=all_SG_WMT_POI.groupby(\"location_name\")['safegraph_place_id'].count().to_frame().reset_index().sort_values(\"safegraph_place_id\")\n",
    "included_location_names_list=df_slicing_Wmts[df_slicing_Wmts['safegraph_place_id']>=10]['location_name'].tolist()\n",
    "print(included_location_names_list)\n",
    "\n",
    "all_SG_WMT_POI=all_SG_WMT_POI[all_SG_WMT_POI[\"location_name\"].isin(included_location_names_list)]\n",
    "all_SG_WMT_POI['zip_code']=all_SG_WMT_POI['zip_code'].apply(lambda x: x.zfill(5))\n",
    "all_SG_WMT_POI.shape"
   ]
  },
  {
   "cell_type": "code",
   "execution_count": 14,
   "metadata": {},
   "outputs": [
    {
     "data": {
      "text/plain": [
       "(40554, 3)"
      ]
     },
     "execution_count": 14,
     "metadata": {},
     "output_type": "execute_result"
    }
   ],
   "source": [
    "'''\n",
    "df_zip_by_18_mkt_count=IRI_Zip_18.groupby(\"zip_code\")['IRI Market'].nunique().to_frame().reset_index().rename(columns={\"IRI Market\":\"count_mkts\"}).sort_values(\"count_mkts\",ascending=False)\n",
    "df_zip_by_18_mkt_list=IRI_Zip_18.groupby(\"zip_code\")['IRI Market'].apply(list).to_frame().reset_index()\n",
    "\n",
    "df_zip_by_18_mkts=pd.merge(df_zip_by_18_mkt_count,df_zip_by_18_mkt_list,on=\"zip_code\",how=\"outer\")\n",
    "df_zip_by_18_mkts.shape\n",
    "'''\n",
    "\n",
    "df_zip_by_18_and_the_rest=IRI_zip_18_and_the_rest.groupby(\"zip_code\")['IRI Market'].apply(list).to_frame().reset_index().rename(columns={\"IRI Market\":\"IRI_list\"})\n",
    "df_zip_by_18_and_the_rest_2=IRI_zip_18_and_the_rest.groupby(\"zip_code\")['IRI Market'].nunique().to_frame().reset_index().rename(columns={\"IRI Market\":\"count_mkts\"}).sort_values(\"count_mkts\",ascending=False)\n",
    "df_zip_by_18_and_the_rest=pd.merge(df_zip_by_18_and_the_rest,df_zip_by_18_and_the_rest_2,on=\"zip_code\",how=\"outer\")\n",
    "df_zip_by_18_and_the_rest['IRI_list']=df_zip_by_18_and_the_rest['IRI_list'].apply(lambda x: list(set(x)))\n",
    "del df_zip_by_18_and_the_rest_2\n",
    "df_zip_by_18_and_the_rest.shape"
   ]
  },
  {
   "cell_type": "code",
   "execution_count": 15,
   "metadata": {},
   "outputs": [
    {
     "data": {
      "text/html": [
       "<div>\n",
       "<style>\n",
       "    .dataframe thead tr:only-child th {\n",
       "        text-align: right;\n",
       "    }\n",
       "\n",
       "    .dataframe thead th {\n",
       "        text-align: left;\n",
       "    }\n",
       "\n",
       "    .dataframe tbody tr th {\n",
       "        vertical-align: top;\n",
       "    }\n",
       "</style>\n",
       "<table border=\"1\" class=\"dataframe\">\n",
       "  <thead>\n",
       "    <tr style=\"text-align: right;\">\n",
       "      <th></th>\n",
       "      <th>safegraph_place_id</th>\n",
       "      <th>parent_safegraph_place_id</th>\n",
       "      <th>safegraph_brand_ids</th>\n",
       "      <th>location_name</th>\n",
       "      <th>brands</th>\n",
       "      <th>top_category</th>\n",
       "      <th>sub_category</th>\n",
       "      <th>naics_code</th>\n",
       "      <th>latitude</th>\n",
       "      <th>longitude</th>\n",
       "      <th>...</th>\n",
       "      <th>state</th>\n",
       "      <th>zip_code</th>\n",
       "      <th>open_hours</th>\n",
       "      <th>polygon_wkt</th>\n",
       "      <th>polygon_class</th>\n",
       "      <th>phone_number</th>\n",
       "      <th>is_synthetic</th>\n",
       "      <th>includes_parking_lot</th>\n",
       "      <th>IRI_list</th>\n",
       "      <th>count_mkts</th>\n",
       "    </tr>\n",
       "  </thead>\n",
       "  <tbody>\n",
       "    <tr>\n",
       "      <th>0</th>\n",
       "      <td>sg:3d14eae49ae24306a6db19a386c658b0</td>\n",
       "      <td>sg:5c052cee6ebf4ba0acc781a7218470ab</td>\n",
       "      <td>SG_BRAND_04a8ca7bf49e7ecb4a32451676e929f0</td>\n",
       "      <td>Walmart</td>\n",
       "      <td>Walmart</td>\n",
       "      <td>General Merchandise Stores, including Warehous...</td>\n",
       "      <td>All Other General Merchandise Stores</td>\n",
       "      <td>452319</td>\n",
       "      <td>38.660866</td>\n",
       "      <td>-121.763446</td>\n",
       "      <td>...</td>\n",
       "      <td>ca</td>\n",
       "      <td>95776</td>\n",
       "      <td>{ \"Mon\": [[\"6:00\", \"24:00\"]], \"Tue\": [[\"6:00\",...</td>\n",
       "      <td>POLYGON ((-121.76448965459713 38.6618353425036...</td>\n",
       "      <td>OWNED_POLYGON</td>\n",
       "      <td>NaN</td>\n",
       "      <td>false</td>\n",
       "      <td>NaN</td>\n",
       "      <td>[SACRAMENTO]</td>\n",
       "      <td>1.0</td>\n",
       "    </tr>\n",
       "    <tr>\n",
       "      <th>1</th>\n",
       "      <td>sg:a34b1824bf7c4d758634a35173905c85</td>\n",
       "      <td>NaN</td>\n",
       "      <td>SG_BRAND_04a8ca7bf49e7ecb4a32451676e929f0</td>\n",
       "      <td>Walmart</td>\n",
       "      <td>Walmart</td>\n",
       "      <td>General Merchandise Stores, including Warehous...</td>\n",
       "      <td>All Other General Merchandise Stores</td>\n",
       "      <td>452319</td>\n",
       "      <td>28.055297</td>\n",
       "      <td>-80.623241</td>\n",
       "      <td>...</td>\n",
       "      <td>fl</td>\n",
       "      <td>32901</td>\n",
       "      <td>{ \"Mon\": [[\"9:00\", \"18:00\"]], \"Tue\": [[\"9:00\",...</td>\n",
       "      <td>POLYGON ((-80.6234859 28.055599800000003, -80....</td>\n",
       "      <td>OWNED_POLYGON</td>\n",
       "      <td>NaN</td>\n",
       "      <td>false</td>\n",
       "      <td>NaN</td>\n",
       "      <td>[ORLANDO]</td>\n",
       "      <td>1.0</td>\n",
       "    </tr>\n",
       "  </tbody>\n",
       "</table>\n",
       "<p>2 rows × 22 columns</p>\n",
       "</div>"
      ],
      "text/plain": [
       "                    safegraph_place_id            parent_safegraph_place_id  \\\n",
       "0  sg:3d14eae49ae24306a6db19a386c658b0  sg:5c052cee6ebf4ba0acc781a7218470ab   \n",
       "1  sg:a34b1824bf7c4d758634a35173905c85                                  NaN   \n",
       "\n",
       "                         safegraph_brand_ids location_name   brands  \\\n",
       "0  SG_BRAND_04a8ca7bf49e7ecb4a32451676e929f0       Walmart  Walmart   \n",
       "1  SG_BRAND_04a8ca7bf49e7ecb4a32451676e929f0       Walmart  Walmart   \n",
       "\n",
       "                                        top_category  \\\n",
       "0  General Merchandise Stores, including Warehous...   \n",
       "1  General Merchandise Stores, including Warehous...   \n",
       "\n",
       "                           sub_category naics_code   latitude   longitude  \\\n",
       "0  All Other General Merchandise Stores     452319  38.660866 -121.763446   \n",
       "1  All Other General Merchandise Stores     452319  28.055297  -80.623241   \n",
       "\n",
       "     ...     state zip_code  \\\n",
       "0    ...        ca    95776   \n",
       "1    ...        fl    32901   \n",
       "\n",
       "                                          open_hours  \\\n",
       "0  { \"Mon\": [[\"6:00\", \"24:00\"]], \"Tue\": [[\"6:00\",...   \n",
       "1  { \"Mon\": [[\"9:00\", \"18:00\"]], \"Tue\": [[\"9:00\",...   \n",
       "\n",
       "                                         polygon_wkt  polygon_class  \\\n",
       "0  POLYGON ((-121.76448965459713 38.6618353425036...  OWNED_POLYGON   \n",
       "1  POLYGON ((-80.6234859 28.055599800000003, -80....  OWNED_POLYGON   \n",
       "\n",
       "  phone_number is_synthetic includes_parking_lot      IRI_list count_mkts  \n",
       "0          NaN        false                  NaN  [SACRAMENTO]        1.0  \n",
       "1          NaN        false                  NaN     [ORLANDO]        1.0  \n",
       "\n",
       "[2 rows x 22 columns]"
      ]
     },
     "execution_count": 15,
     "metadata": {},
     "output_type": "execute_result"
    }
   ],
   "source": [
    "walmarts_with_IRIs=pd.merge(all_SG_WMT_POI,df_zip_by_18_and_the_rest,on=\"zip_code\",how=\"left\")\n",
    "walmarts_with_IRIs['IRI_list']=walmarts_with_IRIs['IRI_list'].fillna(\"['miss_matched']\")\n",
    "walmarts_with_IRIs['IRI_list']=walmarts_with_IRIs['IRI_list'].astype(str)\n",
    "walmarts_with_IRIs['IRI_list']=walmarts_with_IRIs['IRI_list'].apply(eval)\n",
    "walmarts_with_IRIs['latitude']=walmarts_with_IRIs['latitude'].astype(float)\n",
    "walmarts_with_IRIs['longitude']=walmarts_with_IRIs['longitude'].astype(float)\n",
    "\n",
    "walmarts_with_IRIs.head(2)"
   ]
  },
  {
   "cell_type": "code",
   "execution_count": 16,
   "metadata": {
    "collapsed": true
   },
   "outputs": [],
   "source": [
    "# 1 store in IL 60418 is missing matching and PR, AK, HI are also missing matching"
   ]
  },
  {
   "cell_type": "code",
   "execution_count": 17,
   "metadata": {
    "collapsed": true
   },
   "outputs": [],
   "source": [
    "walmarts_with_IRIs_iter=walmarts_with_IRIs[['safegraph_place_id','latitude','longitude']]"
   ]
  },
  {
   "cell_type": "code",
   "execution_count": 18,
   "metadata": {
    "collapsed": true
   },
   "outputs": [],
   "source": [
    "df_mapping_store_10_zips=pd.DataFrame()\n",
    "for ind,row in walmarts_with_IRIs_iter.iterrows():\n",
    "    store_coor=[row['latitude'],row['longitude']]\n",
    "    store_id=row['safegraph_place_id']\n",
    "    for zip_cd in zip_centers.keys():\n",
    "        dist=haversine(store_coor,zip_centers[zip_cd],miles=True)\n",
    "        if dist<=10:\n",
    "            df=pd.DataFrame({\"zip_cd\":zip_cd,\"dist_miles\":dist},index=[store_id])\n",
    "            df_mapping_store_10_zips=df_mapping_store_10_zips.append(df)"
   ]
  },
  {
   "cell_type": "code",
   "execution_count": 19,
   "metadata": {
    "collapsed": true
   },
   "outputs": [],
   "source": [
    "df_mapping_store_10_zips=df_mapping_store_10_zips.reset_index().rename(columns={\"index\":\"safegraph_place_id\"})"
   ]
  },
  {
   "cell_type": "code",
   "execution_count": 20,
   "metadata": {},
   "outputs": [
    {
     "data": {
      "text/html": [
       "<div>\n",
       "<style>\n",
       "    .dataframe thead tr:only-child th {\n",
       "        text-align: right;\n",
       "    }\n",
       "\n",
       "    .dataframe thead th {\n",
       "        text-align: left;\n",
       "    }\n",
       "\n",
       "    .dataframe tbody tr th {\n",
       "        vertical-align: top;\n",
       "    }\n",
       "</style>\n",
       "<table border=\"1\" class=\"dataframe\">\n",
       "  <thead>\n",
       "    <tr style=\"text-align: right;\">\n",
       "      <th></th>\n",
       "      <th>safegraph_place_id</th>\n",
       "      <th>parent_safegraph_place_id</th>\n",
       "      <th>safegraph_brand_ids</th>\n",
       "      <th>location_name</th>\n",
       "      <th>brands</th>\n",
       "      <th>top_category</th>\n",
       "      <th>sub_category</th>\n",
       "      <th>naics_code</th>\n",
       "      <th>latitude</th>\n",
       "      <th>longitude</th>\n",
       "      <th>...</th>\n",
       "      <th>open_hours</th>\n",
       "      <th>polygon_wkt</th>\n",
       "      <th>polygon_class</th>\n",
       "      <th>phone_number</th>\n",
       "      <th>is_synthetic</th>\n",
       "      <th>includes_parking_lot</th>\n",
       "      <th>IRI_list</th>\n",
       "      <th>count_mkts</th>\n",
       "      <th>dist_miles</th>\n",
       "      <th>zip_cd</th>\n",
       "    </tr>\n",
       "  </thead>\n",
       "  <tbody>\n",
       "    <tr>\n",
       "      <th>0</th>\n",
       "      <td>sg:3d14eae49ae24306a6db19a386c658b0</td>\n",
       "      <td>sg:5c052cee6ebf4ba0acc781a7218470ab</td>\n",
       "      <td>SG_BRAND_04a8ca7bf49e7ecb4a32451676e929f0</td>\n",
       "      <td>Walmart</td>\n",
       "      <td>Walmart</td>\n",
       "      <td>General Merchandise Stores, including Warehous...</td>\n",
       "      <td>All Other General Merchandise Stores</td>\n",
       "      <td>452319</td>\n",
       "      <td>38.660866</td>\n",
       "      <td>-121.763446</td>\n",
       "      <td>...</td>\n",
       "      <td>{ \"Mon\": [[\"6:00\", \"24:00\"]], \"Tue\": [[\"6:00\",...</td>\n",
       "      <td>POLYGON ((-121.76448965459713 38.6618353425036...</td>\n",
       "      <td>OWNED_POLYGON</td>\n",
       "      <td>NaN</td>\n",
       "      <td>false</td>\n",
       "      <td>NaN</td>\n",
       "      <td>[SACRAMENTO]</td>\n",
       "      <td>1.0</td>\n",
       "      <td>7.889054</td>\n",
       "      <td>95618</td>\n",
       "    </tr>\n",
       "    <tr>\n",
       "      <th>1</th>\n",
       "      <td>sg:3d14eae49ae24306a6db19a386c658b0</td>\n",
       "      <td>sg:5c052cee6ebf4ba0acc781a7218470ab</td>\n",
       "      <td>SG_BRAND_04a8ca7bf49e7ecb4a32451676e929f0</td>\n",
       "      <td>Walmart</td>\n",
       "      <td>Walmart</td>\n",
       "      <td>General Merchandise Stores, including Warehous...</td>\n",
       "      <td>All Other General Merchandise Stores</td>\n",
       "      <td>452319</td>\n",
       "      <td>38.660866</td>\n",
       "      <td>-121.763446</td>\n",
       "      <td>...</td>\n",
       "      <td>{ \"Mon\": [[\"6:00\", \"24:00\"]], \"Tue\": [[\"6:00\",...</td>\n",
       "      <td>POLYGON ((-121.76448965459713 38.6618353425036...</td>\n",
       "      <td>OWNED_POLYGON</td>\n",
       "      <td>NaN</td>\n",
       "      <td>false</td>\n",
       "      <td>NaN</td>\n",
       "      <td>[SACRAMENTO]</td>\n",
       "      <td>1.0</td>\n",
       "      <td>1.005072</td>\n",
       "      <td>95776</td>\n",
       "    </tr>\n",
       "  </tbody>\n",
       "</table>\n",
       "<p>2 rows × 24 columns</p>\n",
       "</div>"
      ],
      "text/plain": [
       "                    safegraph_place_id            parent_safegraph_place_id  \\\n",
       "0  sg:3d14eae49ae24306a6db19a386c658b0  sg:5c052cee6ebf4ba0acc781a7218470ab   \n",
       "1  sg:3d14eae49ae24306a6db19a386c658b0  sg:5c052cee6ebf4ba0acc781a7218470ab   \n",
       "\n",
       "                         safegraph_brand_ids location_name   brands  \\\n",
       "0  SG_BRAND_04a8ca7bf49e7ecb4a32451676e929f0       Walmart  Walmart   \n",
       "1  SG_BRAND_04a8ca7bf49e7ecb4a32451676e929f0       Walmart  Walmart   \n",
       "\n",
       "                                        top_category  \\\n",
       "0  General Merchandise Stores, including Warehous...   \n",
       "1  General Merchandise Stores, including Warehous...   \n",
       "\n",
       "                           sub_category naics_code   latitude   longitude  \\\n",
       "0  All Other General Merchandise Stores     452319  38.660866 -121.763446   \n",
       "1  All Other General Merchandise Stores     452319  38.660866 -121.763446   \n",
       "\n",
       "   ...                                           open_hours  \\\n",
       "0  ...    { \"Mon\": [[\"6:00\", \"24:00\"]], \"Tue\": [[\"6:00\",...   \n",
       "1  ...    { \"Mon\": [[\"6:00\", \"24:00\"]], \"Tue\": [[\"6:00\",...   \n",
       "\n",
       "                                         polygon_wkt  polygon_class  \\\n",
       "0  POLYGON ((-121.76448965459713 38.6618353425036...  OWNED_POLYGON   \n",
       "1  POLYGON ((-121.76448965459713 38.6618353425036...  OWNED_POLYGON   \n",
       "\n",
       "  phone_number is_synthetic includes_parking_lot      IRI_list count_mkts  \\\n",
       "0          NaN        false                  NaN  [SACRAMENTO]        1.0   \n",
       "1          NaN        false                  NaN  [SACRAMENTO]        1.0   \n",
       "\n",
       "  dist_miles zip_cd  \n",
       "0   7.889054  95618  \n",
       "1   1.005072  95776  \n",
       "\n",
       "[2 rows x 24 columns]"
      ]
     },
     "execution_count": 20,
     "metadata": {},
     "output_type": "execute_result"
    }
   ],
   "source": [
    "df_output=pd.merge(walmarts_with_IRIs,df_mapping_store_10_zips,on=\"safegraph_place_id\",how=\"left\")\n",
    "df_output=df_output.rename(columns={\"zip_code\":\"store_zip\"})\n",
    "\n",
    "df_output.head(2)"
   ]
  },
  {
   "cell_type": "code",
   "execution_count": 21,
   "metadata": {},
   "outputs": [
    {
     "data": {
      "text/plain": [
       "(96993, 25)"
      ]
     },
     "execution_count": 21,
     "metadata": {},
     "output_type": "execute_result"
    }
   ],
   "source": [
    "df_output=df_output[['IRI_list','safegraph_place_id','zip_cd','dist_miles']+[x for x in df_output.columns.tolist() if x not in ['IRI_list','safegraph_place_id','zip_cd','dist_miles'] ]]\n",
    "df_output['iri_list_str']=df_output['IRI_list'].astype(str)\n",
    "df_output=df_output.sort_values(['iri_list_str','safegraph_place_id','dist_miles'])\n",
    "df_output.shape"
   ]
  },
  {
   "cell_type": "code",
   "execution_count": 23,
   "metadata": {},
   "outputs": [
    {
     "name": "stdout",
     "output_type": "stream",
     "text": [
      "(4661, 4)\n"
     ]
    }
   ],
   "source": [
    "# Get the market centroid and allocate to the nearest mkt if in multiple mkts\n",
    "df_mkt_store=df_output[['safegraph_place_id','latitude','longitude','iri_list_str']].drop_duplicates()\n",
    "df_mkt_store['iri_list']=df_mkt_store['iri_list_str'].apply(eval)\n",
    "df_mkt_store=df_mkt_store.reset_index()\n",
    "del df_mkt_store['index']\n",
    "mkt_centroid=pd.DataFrame()\n",
    "for ind, row in df_mkt_store.iterrows():\n",
    "    mkt_list=row['iri_list']\n",
    "    safegraph_place_id=row['safegraph_place_id']\n",
    "    latitude=row['latitude']\n",
    "    longitude=row['longitude']\n",
    "    \n",
    "    df=pd.DataFrame({\"mkt\":mkt_list,\n",
    "                     \"safegraph_place_id\":[safegraph_place_id]*len(mkt_list),\n",
    "                     \"latitude\":[latitude]*len(mkt_list),\n",
    "                     \"longitude\":[longitude]*len(mkt_list)\n",
    "                    },index=[0]*len(mkt_list))\n",
    "    mkt_centroid=mkt_centroid.append(df)\n",
    "mkt_centroid=mkt_centroid.reset_index()\n",
    "del mkt_centroid['index']\n",
    "print(mkt_centroid.shape)\n",
    "\n",
    "mkt_centroid=mkt_centroid.groupby(['mkt'])['latitude','longitude'].mean().reset_index()\n",
    "\n",
    "mkt_centroid['centroid']=mkt_centroid[['latitude','longitude']].values.tolist()\n",
    "mkt_centroid_dict=mkt_centroid[(mkt_centroid['mkt']!=\"NO MARKET\") & (mkt_centroid['mkt']!=\"miss_matched\")].set_index(\"mkt\").to_dict()['centroid']\n"
   ]
  },
  {
   "cell_type": "code",
   "execution_count": 24,
   "metadata": {},
   "outputs": [
    {
     "name": "stdout",
     "output_type": "stream",
     "text": [
      "(4653, 4)\n"
     ]
    },
    {
     "data": {
      "text/html": [
       "<div>\n",
       "<style>\n",
       "    .dataframe thead tr:only-child th {\n",
       "        text-align: right;\n",
       "    }\n",
       "\n",
       "    .dataframe thead th {\n",
       "        text-align: left;\n",
       "    }\n",
       "\n",
       "    .dataframe tbody tr th {\n",
       "        vertical-align: top;\n",
       "    }\n",
       "</style>\n",
       "<table border=\"1\" class=\"dataframe\">\n",
       "  <thead>\n",
       "    <tr style=\"text-align: right;\">\n",
       "      <th></th>\n",
       "      <th>safegraph_place_id</th>\n",
       "      <th>iri_list_str</th>\n",
       "      <th>latitude</th>\n",
       "      <th>longitude</th>\n",
       "    </tr>\n",
       "  </thead>\n",
       "  <tbody>\n",
       "    <tr>\n",
       "      <th>31622</th>\n",
       "      <td>sg:13d741a918de4e1aae92fa5d275f3c39</td>\n",
       "      <td>['ALBANY']</td>\n",
       "      <td>42.785604</td>\n",
       "      <td>-73.941729</td>\n",
       "    </tr>\n",
       "    <tr>\n",
       "      <th>58755</th>\n",
       "      <td>sg:154487f4a28d4de6a408efcd3bfca115</td>\n",
       "      <td>['ALBANY']</td>\n",
       "      <td>42.641576</td>\n",
       "      <td>-73.701794</td>\n",
       "    </tr>\n",
       "  </tbody>\n",
       "</table>\n",
       "</div>"
      ],
      "text/plain": [
       "                        safegraph_place_id iri_list_str   latitude  longitude\n",
       "31622  sg:13d741a918de4e1aae92fa5d275f3c39   ['ALBANY']  42.785604 -73.941729\n",
       "58755  sg:154487f4a28d4de6a408efcd3bfca115   ['ALBANY']  42.641576 -73.701794"
      ]
     },
     "execution_count": 24,
     "metadata": {},
     "output_type": "execute_result"
    }
   ],
   "source": [
    "allocated_mkt_for_store=df_output[['safegraph_place_id','iri_list_str','latitude','longitude']].drop_duplicates()\n",
    "print(allocated_mkt_for_store.shape)\n",
    "allocated_mkt_for_store.head(2)"
   ]
  },
  {
   "cell_type": "code",
   "execution_count": 25,
   "metadata": {
    "collapsed": true
   },
   "outputs": [],
   "source": [
    "def select_main_mkt(list_x_str,store_lat,store_long):\n",
    "    list_x=eval(list_x_str)\n",
    "    if len(list_x)==1:\n",
    "        return list_x[0]\n",
    "    elif len(list_x)==0:\n",
    "        return nan\n",
    "    else:\n",
    "        intersect_with_18=set(list_x).intersection(IRI_Selected_18)\n",
    "        if len(intersect_with_18)==1:\n",
    "            return intersect_with_18[0]\n",
    "        elif len(intersect_with_18)>1:\n",
    "            select_mkt=None\n",
    "            min_dist=99999999999\n",
    "            for mkt_v in intersect_with_18:\n",
    "                dist=haversine(mkt_centroid_dict[mkt_v],(store_lat,store_long),miles=True)\n",
    "                if dist<min_dist:\n",
    "                    min_dist=dist\n",
    "                    select_mkt=mkt_v\n",
    "            return select_mkt\n",
    "        else: # no overlap with 18\n",
    "            try:\n",
    "                list_x.remove(\"NO MARKET\")\n",
    "            except:\n",
    "                pass\n",
    "            try:\n",
    "                list_x.remove(\"miss_matched\")\n",
    "            except:\n",
    "                pass\n",
    "            \n",
    "            select_mkt=None\n",
    "            min_dist=99999999999\n",
    "            for mkt_v in list_x:\n",
    "                dist=haversine(mkt_centroid_dict[mkt_v],(store_lat,store_long),miles=True)\n",
    "                if dist<min_dist:\n",
    "                    min_dist=dist\n",
    "                    select_mkt=mkt_v\n",
    "            return select_mkt\n"
   ]
  },
  {
   "cell_type": "code",
   "execution_count": 26,
   "metadata": {
    "collapsed": true
   },
   "outputs": [],
   "source": [
    "allocated_mkt_for_store['allocated_mkt']=allocated_mkt_for_store.apply(lambda x: select_main_mkt(x['iri_list_str'],x['latitude'],x['longitude']),axis=1)\n"
   ]
  },
  {
   "cell_type": "code",
   "execution_count": 27,
   "metadata": {},
   "outputs": [
    {
     "data": {
      "text/html": [
       "<div>\n",
       "<style>\n",
       "    .dataframe thead tr:only-child th {\n",
       "        text-align: right;\n",
       "    }\n",
       "\n",
       "    .dataframe thead th {\n",
       "        text-align: left;\n",
       "    }\n",
       "\n",
       "    .dataframe tbody tr th {\n",
       "        vertical-align: top;\n",
       "    }\n",
       "</style>\n",
       "<table border=\"1\" class=\"dataframe\">\n",
       "  <thead>\n",
       "    <tr style=\"text-align: right;\">\n",
       "      <th></th>\n",
       "      <th>safegraph_place_id</th>\n",
       "      <th>iri_list_str</th>\n",
       "      <th>latitude</th>\n",
       "      <th>longitude</th>\n",
       "      <th>allocated_mkt</th>\n",
       "    </tr>\n",
       "  </thead>\n",
       "  <tbody>\n",
       "    <tr>\n",
       "      <th>31622</th>\n",
       "      <td>sg:13d741a918de4e1aae92fa5d275f3c39</td>\n",
       "      <td>['ALBANY']</td>\n",
       "      <td>42.785604</td>\n",
       "      <td>-73.941729</td>\n",
       "      <td>ALBANY</td>\n",
       "    </tr>\n",
       "    <tr>\n",
       "      <th>58755</th>\n",
       "      <td>sg:154487f4a28d4de6a408efcd3bfca115</td>\n",
       "      <td>['ALBANY']</td>\n",
       "      <td>42.641576</td>\n",
       "      <td>-73.701794</td>\n",
       "      <td>ALBANY</td>\n",
       "    </tr>\n",
       "  </tbody>\n",
       "</table>\n",
       "</div>"
      ],
      "text/plain": [
       "                        safegraph_place_id iri_list_str   latitude  longitude  \\\n",
       "31622  sg:13d741a918de4e1aae92fa5d275f3c39   ['ALBANY']  42.785604 -73.941729   \n",
       "58755  sg:154487f4a28d4de6a408efcd3bfca115   ['ALBANY']  42.641576 -73.701794   \n",
       "\n",
       "      allocated_mkt  \n",
       "31622        ALBANY  \n",
       "58755        ALBANY  "
      ]
     },
     "execution_count": 27,
     "metadata": {},
     "output_type": "execute_result"
    }
   ],
   "source": [
    "allocated_mkt_for_store.head(2)"
   ]
  },
  {
   "cell_type": "code",
   "execution_count": 28,
   "metadata": {},
   "outputs": [
    {
     "data": {
      "text/plain": [
       "\"['ALBANY']\""
      ]
     },
     "execution_count": 28,
     "metadata": {},
     "output_type": "execute_result"
    }
   ],
   "source": [
    "allocated_mkt_for_store['iri_list_str'].tolist()[0]"
   ]
  },
  {
   "cell_type": "code",
   "execution_count": 29,
   "metadata": {},
   "outputs": [
    {
     "data": {
      "text/plain": [
       "(4653, 2)"
      ]
     },
     "execution_count": 29,
     "metadata": {},
     "output_type": "execute_result"
    }
   ],
   "source": [
    "allocated_multiple_mkt_stores=allocated_mkt_for_store[allocated_mkt_for_store['iri_list_str'].apply(lambda x: len(eval(x))>1)]\n",
    "all_allocated_mkt_stores=allocated_mkt_for_store[['safegraph_place_id','allocated_mkt']].drop_duplicates()\n",
    "all_allocated_mkt_stores.shape"
   ]
  },
  {
   "cell_type": "code",
   "execution_count": 30,
   "metadata": {},
   "outputs": [
    {
     "data": {
      "text/plain": [
       "(96993, 26)"
      ]
     },
     "execution_count": 30,
     "metadata": {},
     "output_type": "execute_result"
    }
   ],
   "source": [
    "df_output=pd.merge(df_output,all_allocated_mkt_stores,on=\"safegraph_place_id\",how=\"left\")\n",
    "df_output.shape"
   ]
  },
  {
   "cell_type": "code",
   "execution_count": 31,
   "metadata": {},
   "outputs": [
    {
     "data": {
      "text/html": [
       "<div>\n",
       "<style>\n",
       "    .dataframe thead tr:only-child th {\n",
       "        text-align: right;\n",
       "    }\n",
       "\n",
       "    .dataframe thead th {\n",
       "        text-align: left;\n",
       "    }\n",
       "\n",
       "    .dataframe tbody tr th {\n",
       "        vertical-align: top;\n",
       "    }\n",
       "</style>\n",
       "<table border=\"1\" class=\"dataframe\">\n",
       "  <thead>\n",
       "    <tr style=\"text-align: right;\">\n",
       "      <th></th>\n",
       "      <th>IRI_list</th>\n",
       "      <th>safegraph_place_id</th>\n",
       "      <th>zip_cd</th>\n",
       "      <th>dist_miles</th>\n",
       "      <th>parent_safegraph_place_id</th>\n",
       "      <th>safegraph_brand_ids</th>\n",
       "      <th>location_name</th>\n",
       "      <th>brands</th>\n",
       "      <th>top_category</th>\n",
       "      <th>sub_category</th>\n",
       "      <th>...</th>\n",
       "      <th>store_zip</th>\n",
       "      <th>open_hours</th>\n",
       "      <th>polygon_wkt</th>\n",
       "      <th>polygon_class</th>\n",
       "      <th>phone_number</th>\n",
       "      <th>is_synthetic</th>\n",
       "      <th>includes_parking_lot</th>\n",
       "      <th>count_mkts</th>\n",
       "      <th>iri_list_str</th>\n",
       "      <th>allocated_mkt</th>\n",
       "    </tr>\n",
       "  </thead>\n",
       "  <tbody>\n",
       "    <tr>\n",
       "      <th>0</th>\n",
       "      <td>[ALBANY]</td>\n",
       "      <td>sg:13d741a918de4e1aae92fa5d275f3c39</td>\n",
       "      <td>12303</td>\n",
       "      <td>1.16109</td>\n",
       "      <td>sg:6b5d2b26eabc4061b1da3f4b72f37770</td>\n",
       "      <td>SG_BRAND_04a8ca7bf49e7ecb4a32451676e929f0</td>\n",
       "      <td>Walmart</td>\n",
       "      <td>Walmart</td>\n",
       "      <td>General Merchandise Stores, including Warehous...</td>\n",
       "      <td>All Other General Merchandise Stores</td>\n",
       "      <td>...</td>\n",
       "      <td>12303</td>\n",
       "      <td>{ \"Mon\": [[\"7:00\", \"19:00\"]], \"Tue\": [[\"7:00\",...</td>\n",
       "      <td>POLYGON ((-73.9423194 42.785352800000005, -73....</td>\n",
       "      <td>OWNED_POLYGON</td>\n",
       "      <td>NaN</td>\n",
       "      <td>false</td>\n",
       "      <td>NaN</td>\n",
       "      <td>1.0</td>\n",
       "      <td>['ALBANY']</td>\n",
       "      <td>ALBANY</td>\n",
       "    </tr>\n",
       "    <tr>\n",
       "      <th>1</th>\n",
       "      <td>[ALBANY]</td>\n",
       "      <td>sg:13d741a918de4e1aae92fa5d275f3c39</td>\n",
       "      <td>12307</td>\n",
       "      <td>1.43240</td>\n",
       "      <td>sg:6b5d2b26eabc4061b1da3f4b72f37770</td>\n",
       "      <td>SG_BRAND_04a8ca7bf49e7ecb4a32451676e929f0</td>\n",
       "      <td>Walmart</td>\n",
       "      <td>Walmart</td>\n",
       "      <td>General Merchandise Stores, including Warehous...</td>\n",
       "      <td>All Other General Merchandise Stores</td>\n",
       "      <td>...</td>\n",
       "      <td>12303</td>\n",
       "      <td>{ \"Mon\": [[\"7:00\", \"19:00\"]], \"Tue\": [[\"7:00\",...</td>\n",
       "      <td>POLYGON ((-73.9423194 42.785352800000005, -73....</td>\n",
       "      <td>OWNED_POLYGON</td>\n",
       "      <td>NaN</td>\n",
       "      <td>false</td>\n",
       "      <td>NaN</td>\n",
       "      <td>1.0</td>\n",
       "      <td>['ALBANY']</td>\n",
       "      <td>ALBANY</td>\n",
       "    </tr>\n",
       "  </tbody>\n",
       "</table>\n",
       "<p>2 rows × 26 columns</p>\n",
       "</div>"
      ],
      "text/plain": [
       "   IRI_list                   safegraph_place_id zip_cd  dist_miles  \\\n",
       "0  [ALBANY]  sg:13d741a918de4e1aae92fa5d275f3c39  12303     1.16109   \n",
       "1  [ALBANY]  sg:13d741a918de4e1aae92fa5d275f3c39  12307     1.43240   \n",
       "\n",
       "             parent_safegraph_place_id  \\\n",
       "0  sg:6b5d2b26eabc4061b1da3f4b72f37770   \n",
       "1  sg:6b5d2b26eabc4061b1da3f4b72f37770   \n",
       "\n",
       "                         safegraph_brand_ids location_name   brands  \\\n",
       "0  SG_BRAND_04a8ca7bf49e7ecb4a32451676e929f0       Walmart  Walmart   \n",
       "1  SG_BRAND_04a8ca7bf49e7ecb4a32451676e929f0       Walmart  Walmart   \n",
       "\n",
       "                                        top_category  \\\n",
       "0  General Merchandise Stores, including Warehous...   \n",
       "1  General Merchandise Stores, including Warehous...   \n",
       "\n",
       "                           sub_category      ...      store_zip  \\\n",
       "0  All Other General Merchandise Stores      ...          12303   \n",
       "1  All Other General Merchandise Stores      ...          12303   \n",
       "\n",
       "                                          open_hours  \\\n",
       "0  { \"Mon\": [[\"7:00\", \"19:00\"]], \"Tue\": [[\"7:00\",...   \n",
       "1  { \"Mon\": [[\"7:00\", \"19:00\"]], \"Tue\": [[\"7:00\",...   \n",
       "\n",
       "                                         polygon_wkt  polygon_class  \\\n",
       "0  POLYGON ((-73.9423194 42.785352800000005, -73....  OWNED_POLYGON   \n",
       "1  POLYGON ((-73.9423194 42.785352800000005, -73....  OWNED_POLYGON   \n",
       "\n",
       "  phone_number is_synthetic includes_parking_lot count_mkts iri_list_str  \\\n",
       "0          NaN        false                  NaN        1.0   ['ALBANY']   \n",
       "1          NaN        false                  NaN        1.0   ['ALBANY']   \n",
       "\n",
       "  allocated_mkt  \n",
       "0        ALBANY  \n",
       "1        ALBANY  \n",
       "\n",
       "[2 rows x 26 columns]"
      ]
     },
     "execution_count": 31,
     "metadata": {},
     "output_type": "execute_result"
    }
   ],
   "source": [
    "df_output.head(2)"
   ]
  },
  {
   "cell_type": "code",
   "execution_count": 32,
   "metadata": {
    "collapsed": true
   },
   "outputs": [],
   "source": [
    "# Use the allocated only 1 market\n",
    "import numpy as np\n",
    "df_output_unique_zip_by_IRI=df_output[['allocated_mkt','zip_cd']].drop_duplicates()\n",
    "df_output_unique_zip_by_IRI.shape,df_output_unique_zip_by_IRI['zip_cd'].nunique()\n",
    "df_output_unique_zip_by_IRI['market_type']=np.where(df_output_unique_zip_by_IRI['allocated_mkt'].isin(IRI_Selected_18),\"selected_18\",\n",
    "                                                   np.where(df_output_unique_zip_by_IRI['allocated_mkt'].isin([\"NO MARKET\",'miss_matched']),df_output_unique_zip_by_IRI['allocated_mkt'],\n",
    "                                                            \"others_64mkts_not_selected\"\n",
    "                                                           )\n",
    "                                                   )"
   ]
  },
  {
   "cell_type": "code",
   "execution_count": 33,
   "metadata": {},
   "outputs": [
    {
     "data": {
      "text/html": [
       "<div>\n",
       "<style>\n",
       "    .dataframe thead tr:only-child th {\n",
       "        text-align: right;\n",
       "    }\n",
       "\n",
       "    .dataframe thead th {\n",
       "        text-align: left;\n",
       "    }\n",
       "\n",
       "    .dataframe tbody tr th {\n",
       "        vertical-align: top;\n",
       "    }\n",
       "</style>\n",
       "<table border=\"1\" class=\"dataframe\">\n",
       "  <thead>\n",
       "    <tr style=\"text-align: right;\">\n",
       "      <th></th>\n",
       "      <th>IRI_list</th>\n",
       "      <th>safegraph_place_id</th>\n",
       "      <th>zip_cd</th>\n",
       "      <th>dist_miles</th>\n",
       "      <th>parent_safegraph_place_id</th>\n",
       "      <th>safegraph_brand_ids</th>\n",
       "      <th>location_name</th>\n",
       "      <th>brands</th>\n",
       "      <th>top_category</th>\n",
       "      <th>sub_category</th>\n",
       "      <th>...</th>\n",
       "      <th>store_zip</th>\n",
       "      <th>open_hours</th>\n",
       "      <th>polygon_wkt</th>\n",
       "      <th>polygon_class</th>\n",
       "      <th>phone_number</th>\n",
       "      <th>is_synthetic</th>\n",
       "      <th>includes_parking_lot</th>\n",
       "      <th>count_mkts</th>\n",
       "      <th>iri_list_str</th>\n",
       "      <th>allocated_mkt</th>\n",
       "    </tr>\n",
       "  </thead>\n",
       "  <tbody>\n",
       "    <tr>\n",
       "      <th>0</th>\n",
       "      <td>[ALBANY]</td>\n",
       "      <td>sg:13d741a918de4e1aae92fa5d275f3c39</td>\n",
       "      <td>12303</td>\n",
       "      <td>1.16109</td>\n",
       "      <td>sg:6b5d2b26eabc4061b1da3f4b72f37770</td>\n",
       "      <td>SG_BRAND_04a8ca7bf49e7ecb4a32451676e929f0</td>\n",
       "      <td>Walmart</td>\n",
       "      <td>Walmart</td>\n",
       "      <td>General Merchandise Stores, including Warehous...</td>\n",
       "      <td>All Other General Merchandise Stores</td>\n",
       "      <td>...</td>\n",
       "      <td>12303</td>\n",
       "      <td>{ \"Mon\": [[\"7:00\", \"19:00\"]], \"Tue\": [[\"7:00\",...</td>\n",
       "      <td>POLYGON ((-73.9423194 42.785352800000005, -73....</td>\n",
       "      <td>OWNED_POLYGON</td>\n",
       "      <td>NaN</td>\n",
       "      <td>false</td>\n",
       "      <td>NaN</td>\n",
       "      <td>1.0</td>\n",
       "      <td>['ALBANY']</td>\n",
       "      <td>ALBANY</td>\n",
       "    </tr>\n",
       "    <tr>\n",
       "      <th>1</th>\n",
       "      <td>[ALBANY]</td>\n",
       "      <td>sg:13d741a918de4e1aae92fa5d275f3c39</td>\n",
       "      <td>12307</td>\n",
       "      <td>1.43240</td>\n",
       "      <td>sg:6b5d2b26eabc4061b1da3f4b72f37770</td>\n",
       "      <td>SG_BRAND_04a8ca7bf49e7ecb4a32451676e929f0</td>\n",
       "      <td>Walmart</td>\n",
       "      <td>Walmart</td>\n",
       "      <td>General Merchandise Stores, including Warehous...</td>\n",
       "      <td>All Other General Merchandise Stores</td>\n",
       "      <td>...</td>\n",
       "      <td>12303</td>\n",
       "      <td>{ \"Mon\": [[\"7:00\", \"19:00\"]], \"Tue\": [[\"7:00\",...</td>\n",
       "      <td>POLYGON ((-73.9423194 42.785352800000005, -73....</td>\n",
       "      <td>OWNED_POLYGON</td>\n",
       "      <td>NaN</td>\n",
       "      <td>false</td>\n",
       "      <td>NaN</td>\n",
       "      <td>1.0</td>\n",
       "      <td>['ALBANY']</td>\n",
       "      <td>ALBANY</td>\n",
       "    </tr>\n",
       "  </tbody>\n",
       "</table>\n",
       "<p>2 rows × 26 columns</p>\n",
       "</div>"
      ],
      "text/plain": [
       "   IRI_list                   safegraph_place_id zip_cd  dist_miles  \\\n",
       "0  [ALBANY]  sg:13d741a918de4e1aae92fa5d275f3c39  12303     1.16109   \n",
       "1  [ALBANY]  sg:13d741a918de4e1aae92fa5d275f3c39  12307     1.43240   \n",
       "\n",
       "             parent_safegraph_place_id  \\\n",
       "0  sg:6b5d2b26eabc4061b1da3f4b72f37770   \n",
       "1  sg:6b5d2b26eabc4061b1da3f4b72f37770   \n",
       "\n",
       "                         safegraph_brand_ids location_name   brands  \\\n",
       "0  SG_BRAND_04a8ca7bf49e7ecb4a32451676e929f0       Walmart  Walmart   \n",
       "1  SG_BRAND_04a8ca7bf49e7ecb4a32451676e929f0       Walmart  Walmart   \n",
       "\n",
       "                                        top_category  \\\n",
       "0  General Merchandise Stores, including Warehous...   \n",
       "1  General Merchandise Stores, including Warehous...   \n",
       "\n",
       "                           sub_category      ...      store_zip  \\\n",
       "0  All Other General Merchandise Stores      ...          12303   \n",
       "1  All Other General Merchandise Stores      ...          12303   \n",
       "\n",
       "                                          open_hours  \\\n",
       "0  { \"Mon\": [[\"7:00\", \"19:00\"]], \"Tue\": [[\"7:00\",...   \n",
       "1  { \"Mon\": [[\"7:00\", \"19:00\"]], \"Tue\": [[\"7:00\",...   \n",
       "\n",
       "                                         polygon_wkt  polygon_class  \\\n",
       "0  POLYGON ((-73.9423194 42.785352800000005, -73....  OWNED_POLYGON   \n",
       "1  POLYGON ((-73.9423194 42.785352800000005, -73....  OWNED_POLYGON   \n",
       "\n",
       "  phone_number is_synthetic includes_parking_lot count_mkts iri_list_str  \\\n",
       "0          NaN        false                  NaN        1.0   ['ALBANY']   \n",
       "1          NaN        false                  NaN        1.0   ['ALBANY']   \n",
       "\n",
       "  allocated_mkt  \n",
       "0        ALBANY  \n",
       "1        ALBANY  \n",
       "\n",
       "[2 rows x 26 columns]"
      ]
     },
     "execution_count": 33,
     "metadata": {},
     "output_type": "execute_result"
    }
   ],
   "source": [
    "df_output.head(2)"
   ]
  },
  {
   "cell_type": "code",
   "execution_count": 34,
   "metadata": {
    "collapsed": true
   },
   "outputs": [],
   "source": [
    "store_count_by_mkt=df_output.groupby(\"allocated_mkt\")['safegraph_place_id'].nunique().to_frame().reset_index()\n",
    "store_count_by_mkt['market_type']=np.where(store_count_by_mkt['allocated_mkt'].isin(IRI_Selected_18),\"selected_18\",\n",
    "                                                   np.where(store_count_by_mkt['allocated_mkt'].isin([\"NO MARKET\",'miss_matched']),store_count_by_mkt['allocated_mkt'],\n",
    "                                                            \"others_64mkts_not_selected\"\n",
    "                                                           )\n",
    "                                                   )\n",
    "store_count_by_mkt=store_count_by_mkt.sort_values([\"market_type\",'allocated_mkt'],ascending=[False,True])\n",
    "# store_count_by_mkt"
   ]
  },
  {
   "cell_type": "markdown",
   "metadata": {},
   "source": [
    "# Add demo"
   ]
  },
  {
   "cell_type": "code",
   "execution_count": 35,
   "metadata": {},
   "outputs": [
    {
     "data": {
      "text/plain": [
       "['based_on_EASI_zip4', 'based_on_census', 'both_sidebyside']"
      ]
     },
     "execution_count": 35,
     "metadata": {},
     "output_type": "execute_result"
    }
   ],
   "source": [
    "excel_demo=pd.ExcelFile(\"./SunnyD_target_demo_by_zip_JL_2019-09-05.xlsx\")\n",
    "excel_demo.sheet_names"
   ]
  },
  {
   "cell_type": "code",
   "execution_count": 36,
   "metadata": {
    "collapsed": true
   },
   "outputs": [],
   "source": [
    "# Census\n",
    "df_census_demo=excel_demo.parse(\"based_on_census\")\n",
    "df_census_demo['ZIP_CODE']=df_census_demo['ZIP_CODE'].apply(lambda x: str(x).zfill(5))\n",
    "df_census_demo=df_census_demo[['ZIP_CODE','teenagers_10_19_census','calculated_Monther_census','HH_inc_avg']]\n",
    "df_census_demo=df_census_demo.rename(columns={\"ZIP_CODE\":\"zip_cd\"})"
   ]
  },
  {
   "cell_type": "code",
   "execution_count": 37,
   "metadata": {
    "collapsed": true
   },
   "outputs": [],
   "source": [
    "df_output_unique_zip_by_IRI_agg_census=pd.merge(df_output_unique_zip_by_IRI,df_census_demo,on=\"zip_cd\",how=\"left\")"
   ]
  },
  {
   "cell_type": "code",
   "execution_count": 38,
   "metadata": {
    "collapsed": true
   },
   "outputs": [],
   "source": [
    "unique_zips=df_output_unique_zip_by_IRI_agg_census[['zip_cd']].drop_duplicates()"
   ]
  },
  {
   "cell_type": "code",
   "execution_count": 39,
   "metadata": {
    "collapsed": true
   },
   "outputs": [],
   "source": [
    "writer=pd.ExcelWriter(\"./df_zips_10_miles_around_all_walmarts_labled_IRI_JL_\"+str(datetime.datetime.now().date())+\".xlsx\",engine=\"xlsxwriter\")\n",
    "# unique_zips.to_excel(writer,\"unique_zips\",index=False) # only unique \n",
    "df_output_unique_zip_by_IRI_agg_census.to_excel(writer,\"zips_by_market_with_dup\",index=False) # only unique as store in maket\n",
    "df_output.to_excel(writer,\"all_zips_with_store_info_POI\",index=False)\n",
    "store_count_by_mkt.to_excel(writer,\"store_count_by_mkt\",index=False)\n",
    "all_allocated_mkt_stores.to_excel(writer,\"allocated_mkt_by_store\",index=False)\n",
    "allocated_multiple_mkt_stores.to_excel(writer,\"multiple_mkt_case\",index=False)\n",
    "writer.save()"
   ]
  },
  {
   "cell_type": "code",
   "execution_count": 40,
   "metadata": {},
   "outputs": [
    {
     "data": {
      "text/plain": [
       "(24708, 3)"
      ]
     },
     "execution_count": 40,
     "metadata": {},
     "output_type": "execute_result"
    }
   ],
   "source": [
    "df_output_unique_zip_by_IRI.shape"
   ]
  },
  {
   "cell_type": "code",
   "execution_count": 41,
   "metadata": {},
   "outputs": [
    {
     "data": {
      "text/plain": [
       "23882"
      ]
     },
     "execution_count": 41,
     "metadata": {},
     "output_type": "execute_result"
    }
   ],
   "source": [
    "df_output_unique_zip_by_IRI['zip_cd'].nunique()"
   ]
  },
  {
   "cell_type": "code",
   "execution_count": 42,
   "metadata": {},
   "outputs": [
    {
     "data": {
      "text/html": [
       "<div>\n",
       "<style>\n",
       "    .dataframe thead tr:only-child th {\n",
       "        text-align: right;\n",
       "    }\n",
       "\n",
       "    .dataframe thead th {\n",
       "        text-align: left;\n",
       "    }\n",
       "\n",
       "    .dataframe tbody tr th {\n",
       "        vertical-align: top;\n",
       "    }\n",
       "</style>\n",
       "<table border=\"1\" class=\"dataframe\">\n",
       "  <thead>\n",
       "    <tr style=\"text-align: right;\">\n",
       "      <th></th>\n",
       "      <th>allocated_mkt</th>\n",
       "      <th>zip_cd</th>\n",
       "      <th>market_type</th>\n",
       "    </tr>\n",
       "  </thead>\n",
       "  <tbody>\n",
       "    <tr>\n",
       "      <th>0</th>\n",
       "      <td>ALBANY</td>\n",
       "      <td>12303</td>\n",
       "      <td>others_64mkts_not_selected</td>\n",
       "    </tr>\n",
       "    <tr>\n",
       "      <th>1</th>\n",
       "      <td>ALBANY</td>\n",
       "      <td>12307</td>\n",
       "      <td>others_64mkts_not_selected</td>\n",
       "    </tr>\n",
       "  </tbody>\n",
       "</table>\n",
       "</div>"
      ],
      "text/plain": [
       "  allocated_mkt zip_cd                 market_type\n",
       "0        ALBANY  12303  others_64mkts_not_selected\n",
       "1        ALBANY  12307  others_64mkts_not_selected"
      ]
     },
     "execution_count": 42,
     "metadata": {},
     "output_type": "execute_result"
    }
   ],
   "source": [
    "df_output_unique_zip_by_IRI.head(2)"
   ]
  },
  {
   "cell_type": "code",
   "execution_count": null,
   "metadata": {
    "collapsed": true
   },
   "outputs": [],
   "source": []
  }
 ],
 "metadata": {
  "kernelspec": {
   "display_name": "Python 3",
   "language": "python",
   "name": "python3"
  },
  "language_info": {
   "codemirror_mode": {
    "name": "ipython",
    "version": 3
   },
   "file_extension": ".py",
   "mimetype": "text/x-python",
   "name": "python",
   "nbconvert_exporter": "python",
   "pygments_lexer": "ipython3",
   "version": "3.6.1"
  }
 },
 "nbformat": 4,
 "nbformat_minor": 2
}
