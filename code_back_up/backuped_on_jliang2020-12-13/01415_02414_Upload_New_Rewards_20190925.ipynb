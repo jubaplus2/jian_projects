{
 "cells": [
  {
   "cell_type": "code",
   "execution_count": 1,
   "metadata": {
    "collapsed": true
   },
   "outputs": [],
   "source": [
    "# 4 weeks together\n",
    "# Then changed back to 2\n",
    "import pandas as pd\n",
    "import numpy as np\n",
    "import datetime\n",
    "import os\n",
    "# Add the new folders of Jian later"
   ]
  },
  {
   "cell_type": "code",
   "execution_count": 2,
   "metadata": {},
   "outputs": [
    {
     "data": {
      "text/plain": [
       "[datetime.date(2019, 9, 21), datetime.date(2019, 9, 14)]"
      ]
     },
     "execution_count": 2,
     "metadata": {},
     "output_type": "execute_result"
    }
   ],
   "source": [
    "def recursive_file_gen(my_root_dir):\n",
    "    for root, dirs, files in os.walk(my_root_dir):\n",
    "        for file in files:\n",
    "            yield os.path.join(root, file)\n",
    "            \n",
    "last_saturday=datetime.datetime.now().date()-datetime.timedelta(days=datetime.datetime.now().date().weekday()+2) #+7\n",
    "\n",
    "write_folder=\"/home/jian/celery/Append_to_celery_LiveRamp/monthly_update/output_\"+str(last_saturday)+\"/\"\n",
    "try:\n",
    "    os.stat(write_folder)\n",
    "except:\n",
    "    os.mkdir(write_folder)\n",
    "\n",
    "week_beginning=last_saturday-datetime.timedelta(days=14) # To be changed to 14\n",
    "\n",
    "recent_2_weeks=[last_saturday-datetime.timedelta(days=x*7) for x in range(2)]\n",
    "recent_2_weeks"
   ]
  },
  {
   "cell_type": "code",
   "execution_count": 3,
   "metadata": {},
   "outputs": [
    {
     "name": "stdout",
     "output_type": "stream",
     "text": [
      "2\n"
     ]
    }
   ],
   "source": [
    "# Checking for the recent weeks that haven't moved to the folder\n",
    "possible_recent_folders=[\"/home/jian/BigLots/MediaStorm_\"+str(x)+\"/\" for x in recent_2_weeks]\n",
    "recent_file_list=[]\n",
    "for dirc in possible_recent_folders:\n",
    "    list_recent=[x for x in list(recursive_file_gen(dirc)) if (\"Master\" in x) & (\".txt\" in x) ]\n",
    "    recent_file_list=recent_file_list+list_recent\n",
    "recent_file_df=pd.DataFrame({\"path\":recent_file_list,\"date\":[datetime.datetime.strptime(x.split(\"MasterWeekly\")[1][:8],\"%Y%m%d\").date()-datetime.timedelta(days=3) for x in recent_file_list]},index=[x for x in range(len(recent_file_list))])\n",
    "\n",
    "\n",
    "list_1_after_201806=[x for x in list(recursive_file_gen(\"/home/jian/BigLots/2019_by_weeks/\")) if (\"Master\" in x) & (\".txt\" in x) ]\n",
    "folder_date=[datetime.datetime.strptime(x.split(\"/\")[len(x.split(\"/\"))-2].split(\"_\")[1],\"%Y-%m-%d\").date() for x in list_1_after_201806]\n",
    "df_1_after_201806=pd.DataFrame({\"date\":folder_date,\"path\":list_1_after_201806},index=[x for x in range(len(list_1_after_201806))])\n",
    "df_1_after_201806['date'].apply(lambda x: x.weekday()).unique()\n",
    "df_1_after_201806=df_1_after_201806.sort_values(\"date\").reset_index()\n",
    "df_1_after_201806=df_1_after_201806[df_1_after_201806['date']>week_beginning]\n",
    "del df_1_after_201806['index']\n",
    "\n",
    "new_2_biweekly_files=df_1_after_201806.append(recent_file_df)\n",
    "\n",
    "print(len(new_2_biweekly_files))\n",
    "new_2_biweekly_files=new_2_biweekly_files['path'].unique().tolist()"
   ]
  },
  {
   "cell_type": "code",
   "execution_count": 4,
   "metadata": {},
   "outputs": [
    {
     "data": {
      "text/plain": [
       "['/home/jian/BigLots/2019_by_weeks/MediaStorm_2019-09-14/MediaStormMasterWeekly20190917-110653-239.txt',\n",
       " '/home/jian/BigLots/MediaStorm_2019-09-21/MediaStormMasterWeekly20190924-112340-890.txt']"
      ]
     },
     "execution_count": 4,
     "metadata": {},
     "output_type": "execute_result"
    }
   ],
   "source": [
    "new_2_biweekly_files"
   ]
  },
  {
   "cell_type": "code",
   "execution_count": 5,
   "metadata": {},
   "outputs": [
    {
     "name": "stdout",
     "output_type": "stream",
     "text": [
      "234833\n",
      "234830\n"
     ]
    }
   ],
   "source": [
    "if len(new_2_biweekly_files)==2: # Changed to weekly\n",
    "    df_all_new_master = pd.DataFrame()\n",
    "    for file in new_2_biweekly_files:\n",
    "        df = pd.read_csv(file,nrows = None,sep= '|',usecols = ['customer_id_hashed','email_address_hash','customer_zip_code'],\n",
    "                         dtype =str)\n",
    "        df_all_new_master = df_all_new_master.append(df,ignore_index = True)\n",
    "    print(len(df_all_new_master.index))\n",
    "    df_all_new_master = df_all_new_master.drop_duplicates('email_address_hash')\n",
    "    print(len(df_all_new_master.index))"
   ]
  },
  {
   "cell_type": "code",
   "execution_count": 6,
   "metadata": {},
   "outputs": [
    {
     "name": "stdout",
     "output_type": "stream",
     "text": [
      "72\n"
     ]
    }
   ],
   "source": [
    "# Remove previous week ids\n",
    "\n",
    "previous_id_files_lists=list(recursive_file_gen(\"/home/jian/Projects/Big_Lots/Live_Ramp/Quarterly_Update_2019Q1/crm_newscore_20190107/by_group_quadrant_24/\"))\n",
    "\n",
    "# previous_id_files_lists=[x for x in previous_id_files_lists if \"Copy of 48 Stores_727.csv\" not in x]\n",
    "previous_id_files_lists=[x for x in previous_id_files_lists if \".csv\" in x]\n",
    "print(len(previous_id_files_lists))"
   ]
  },
  {
   "cell_type": "code",
   "execution_count": 7,
   "metadata": {},
   "outputs": [
    {
     "data": {
      "text/plain": [
       "['/home/jian/Projects/Big_Lots/Live_Ramp/Quarterly_Update_2019Q1/crm_newscore_20190107/by_group_quadrant_24/T_Quadrant I_P_L_2019Q1.csv',\n",
       " '/home/jian/Projects/Big_Lots/Live_Ramp/Quarterly_Update_2019Q1/crm_newscore_20190107/by_group_quadrant_24/T_Quadrant I_S_H_2019Q1.csv',\n",
       " '/home/jian/Projects/Big_Lots/Live_Ramp/Quarterly_Update_2019Q1/crm_newscore_20190107/by_group_quadrant_24/T_Quadrant I_S_L_2019Q1.csv',\n",
       " '/home/jian/Projects/Big_Lots/Live_Ramp/Quarterly_Update_2019Q1/crm_newscore_20190107/by_group_quadrant_24/T_Quadrant I_T_H_2019Q1.csv',\n",
       " '/home/jian/Projects/Big_Lots/Live_Ramp/Quarterly_Update_2019Q1/crm_newscore_20190107/by_group_quadrant_24/T_Quadrant I_T_M_2019Q1.csv',\n",
       " '/home/jian/Projects/Big_Lots/Live_Ramp/Quarterly_Update_2019Q1/crm_newscore_20190107/by_group_quadrant_24/C_Quadrant III_P_H_2019Q1.csv',\n",
       " '/home/jian/Projects/Big_Lots/Live_Ramp/Quarterly_Update_2019Q1/crm_newscore_20190107/by_group_quadrant_24/C_Quadrant III_P_M_2019Q1.csv',\n",
       " '/home/jian/Projects/Big_Lots/Live_Ramp/Quarterly_Update_2019Q1/crm_newscore_20190107/by_group_quadrant_24/C_Quadrant III_S_L_2019Q1.csv',\n",
       " '/home/jian/Projects/Big_Lots/Live_Ramp/Quarterly_Update_2019Q1/crm_newscore_20190107/by_group_quadrant_24/C_Quadrant III_T_H_2019Q1.csv',\n",
       " '/home/jian/Projects/Big_Lots/Live_Ramp/Quarterly_Update_2019Q1/crm_newscore_20190107/by_group_quadrant_24/C_Quadrant III_T_L_2019Q1.csv',\n",
       " '/home/jian/Projects/Big_Lots/Live_Ramp/Quarterly_Update_2019Q1/crm_newscore_20190107/by_group_quadrant_24/C_Quadrant II_P_H_2019Q1.csv',\n",
       " '/home/jian/Projects/Big_Lots/Live_Ramp/Quarterly_Update_2019Q1/crm_newscore_20190107/by_group_quadrant_24/C_Quadrant II_P_M_2019Q1.csv',\n",
       " '/home/jian/Projects/Big_Lots/Live_Ramp/Quarterly_Update_2019Q1/crm_newscore_20190107/by_group_quadrant_24/C_Quadrant II_S_H_2019Q1.csv',\n",
       " '/home/jian/Projects/Big_Lots/Live_Ramp/Quarterly_Update_2019Q1/crm_newscore_20190107/by_group_quadrant_24/C_Quadrant II_S_M_2019Q1.csv',\n",
       " '/home/jian/Projects/Big_Lots/Live_Ramp/Quarterly_Update_2019Q1/crm_newscore_20190107/by_group_quadrant_24/C_Quadrant II_T_L_2019Q1.csv',\n",
       " '/home/jian/Projects/Big_Lots/Live_Ramp/Quarterly_Update_2019Q1/crm_newscore_20190107/by_group_quadrant_24/C_Quadrant II_T_M_2019Q1.csv',\n",
       " '/home/jian/Projects/Big_Lots/Live_Ramp/Quarterly_Update_2019Q1/crm_newscore_20190107/by_group_quadrant_24/C_Quadrant IV_P_L_2019Q1.csv',\n",
       " '/home/jian/Projects/Big_Lots/Live_Ramp/Quarterly_Update_2019Q1/crm_newscore_20190107/by_group_quadrant_24/C_Quadrant IV_S_H_2019Q1.csv',\n",
       " '/home/jian/Projects/Big_Lots/Live_Ramp/Quarterly_Update_2019Q1/crm_newscore_20190107/by_group_quadrant_24/C_Quadrant IV_S_L_2019Q1.csv',\n",
       " '/home/jian/Projects/Big_Lots/Live_Ramp/Quarterly_Update_2019Q1/crm_newscore_20190107/by_group_quadrant_24/C_Quadrant IV_T_H_2019Q1.csv',\n",
       " '/home/jian/Projects/Big_Lots/Live_Ramp/Quarterly_Update_2019Q1/crm_newscore_20190107/by_group_quadrant_24/C_Quadrant IV_T_M_2019Q1.csv',\n",
       " '/home/jian/Projects/Big_Lots/Live_Ramp/Quarterly_Update_2019Q1/crm_newscore_20190107/by_group_quadrant_24/C_Quadrant I_P_H_2019Q1.csv',\n",
       " '/home/jian/Projects/Big_Lots/Live_Ramp/Quarterly_Update_2019Q1/crm_newscore_20190107/by_group_quadrant_24/C_Quadrant I_P_M_2019Q1.csv',\n",
       " '/home/jian/Projects/Big_Lots/Live_Ramp/Quarterly_Update_2019Q1/crm_newscore_20190107/by_group_quadrant_24/C_Quadrant I_S_L_2019Q1.csv',\n",
       " '/home/jian/Projects/Big_Lots/Live_Ramp/Quarterly_Update_2019Q1/crm_newscore_20190107/by_group_quadrant_24/C_Quadrant I_S_M_2019Q1.csv',\n",
       " '/home/jian/Projects/Big_Lots/Live_Ramp/Quarterly_Update_2019Q1/crm_newscore_20190107/by_group_quadrant_24/C_Quadrant I_T_L_2019Q1.csv',\n",
       " '/home/jian/Projects/Big_Lots/Live_Ramp/Quarterly_Update_2019Q1/crm_newscore_20190107/by_group_quadrant_24/T_Quadrant III_P_H_2019Q1.csv',\n",
       " '/home/jian/Projects/Big_Lots/Live_Ramp/Quarterly_Update_2019Q1/crm_newscore_20190107/by_group_quadrant_24/T_Quadrant III_P_L_2019Q1.csv',\n",
       " '/home/jian/Projects/Big_Lots/Live_Ramp/Quarterly_Update_2019Q1/crm_newscore_20190107/by_group_quadrant_24/T_Quadrant III_P_M_2019Q1.csv',\n",
       " '/home/jian/Projects/Big_Lots/Live_Ramp/Quarterly_Update_2019Q1/crm_newscore_20190107/by_group_quadrant_24/T_Quadrant III_S_H_2019Q1.csv',\n",
       " '/home/jian/Projects/Big_Lots/Live_Ramp/Quarterly_Update_2019Q1/crm_newscore_20190107/by_group_quadrant_24/T_Quadrant III_S_L_2019Q1.csv',\n",
       " '/home/jian/Projects/Big_Lots/Live_Ramp/Quarterly_Update_2019Q1/crm_newscore_20190107/by_group_quadrant_24/T_Quadrant III_S_M_2019Q1.csv',\n",
       " '/home/jian/Projects/Big_Lots/Live_Ramp/Quarterly_Update_2019Q1/crm_newscore_20190107/by_group_quadrant_24/T_Quadrant III_T_H_2019Q1.csv',\n",
       " '/home/jian/Projects/Big_Lots/Live_Ramp/Quarterly_Update_2019Q1/crm_newscore_20190107/by_group_quadrant_24/T_Quadrant III_T_L_2019Q1.csv',\n",
       " '/home/jian/Projects/Big_Lots/Live_Ramp/Quarterly_Update_2019Q1/crm_newscore_20190107/by_group_quadrant_24/T_Quadrant III_T_M_2019Q1.csv',\n",
       " '/home/jian/Projects/Big_Lots/Live_Ramp/Quarterly_Update_2019Q1/crm_newscore_20190107/by_group_quadrant_24/T_Quadrant II_P_H_2019Q1.csv',\n",
       " '/home/jian/Projects/Big_Lots/Live_Ramp/Quarterly_Update_2019Q1/crm_newscore_20190107/by_group_quadrant_24/T_Quadrant II_P_L_2019Q1.csv',\n",
       " '/home/jian/Projects/Big_Lots/Live_Ramp/Quarterly_Update_2019Q1/crm_newscore_20190107/by_group_quadrant_24/T_Quadrant II_P_M_2019Q1.csv',\n",
       " '/home/jian/Projects/Big_Lots/Live_Ramp/Quarterly_Update_2019Q1/crm_newscore_20190107/by_group_quadrant_24/T_Quadrant II_S_H_2019Q1.csv',\n",
       " '/home/jian/Projects/Big_Lots/Live_Ramp/Quarterly_Update_2019Q1/crm_newscore_20190107/by_group_quadrant_24/T_Quadrant II_S_L_2019Q1.csv',\n",
       " '/home/jian/Projects/Big_Lots/Live_Ramp/Quarterly_Update_2019Q1/crm_newscore_20190107/by_group_quadrant_24/T_Quadrant II_S_M_2019Q1.csv',\n",
       " '/home/jian/Projects/Big_Lots/Live_Ramp/Quarterly_Update_2019Q1/crm_newscore_20190107/by_group_quadrant_24/T_Quadrant II_T_H_2019Q1.csv',\n",
       " '/home/jian/Projects/Big_Lots/Live_Ramp/Quarterly_Update_2019Q1/crm_newscore_20190107/by_group_quadrant_24/T_Quadrant II_T_L_2019Q1.csv',\n",
       " '/home/jian/Projects/Big_Lots/Live_Ramp/Quarterly_Update_2019Q1/crm_newscore_20190107/by_group_quadrant_24/T_Quadrant II_T_M_2019Q1.csv',\n",
       " '/home/jian/Projects/Big_Lots/Live_Ramp/Quarterly_Update_2019Q1/crm_newscore_20190107/by_group_quadrant_24/T_Quadrant IV_P_H_2019Q1.csv',\n",
       " '/home/jian/Projects/Big_Lots/Live_Ramp/Quarterly_Update_2019Q1/crm_newscore_20190107/by_group_quadrant_24/T_Quadrant IV_P_L_2019Q1.csv',\n",
       " '/home/jian/Projects/Big_Lots/Live_Ramp/Quarterly_Update_2019Q1/crm_newscore_20190107/by_group_quadrant_24/T_Quadrant IV_P_M_2019Q1.csv',\n",
       " '/home/jian/Projects/Big_Lots/Live_Ramp/Quarterly_Update_2019Q1/crm_newscore_20190107/by_group_quadrant_24/T_Quadrant IV_S_H_2019Q1.csv',\n",
       " '/home/jian/Projects/Big_Lots/Live_Ramp/Quarterly_Update_2019Q1/crm_newscore_20190107/by_group_quadrant_24/T_Quadrant IV_S_L_2019Q1.csv',\n",
       " '/home/jian/Projects/Big_Lots/Live_Ramp/Quarterly_Update_2019Q1/crm_newscore_20190107/by_group_quadrant_24/T_Quadrant IV_S_M_2019Q1.csv',\n",
       " '/home/jian/Projects/Big_Lots/Live_Ramp/Quarterly_Update_2019Q1/crm_newscore_20190107/by_group_quadrant_24/T_Quadrant IV_T_H_2019Q1.csv',\n",
       " '/home/jian/Projects/Big_Lots/Live_Ramp/Quarterly_Update_2019Q1/crm_newscore_20190107/by_group_quadrant_24/T_Quadrant IV_T_L_2019Q1.csv',\n",
       " '/home/jian/Projects/Big_Lots/Live_Ramp/Quarterly_Update_2019Q1/crm_newscore_20190107/by_group_quadrant_24/T_Quadrant IV_T_M_2019Q1.csv',\n",
       " '/home/jian/Projects/Big_Lots/Live_Ramp/Quarterly_Update_2019Q1/crm_newscore_20190107/by_group_quadrant_24/T_Quadrant I_P_H_2019Q1.csv',\n",
       " '/home/jian/Projects/Big_Lots/Live_Ramp/Quarterly_Update_2019Q1/crm_newscore_20190107/by_group_quadrant_24/T_Quadrant I_P_M_2019Q1.csv',\n",
       " '/home/jian/Projects/Big_Lots/Live_Ramp/Quarterly_Update_2019Q1/crm_newscore_20190107/by_group_quadrant_24/T_Quadrant I_S_M_2019Q1.csv',\n",
       " '/home/jian/Projects/Big_Lots/Live_Ramp/Quarterly_Update_2019Q1/crm_newscore_20190107/by_group_quadrant_24/T_Quadrant I_T_L_2019Q1.csv',\n",
       " '/home/jian/Projects/Big_Lots/Live_Ramp/Quarterly_Update_2019Q1/crm_newscore_20190107/by_group_quadrant_24/C_Quadrant III_P_L_2019Q1.csv',\n",
       " '/home/jian/Projects/Big_Lots/Live_Ramp/Quarterly_Update_2019Q1/crm_newscore_20190107/by_group_quadrant_24/C_Quadrant III_S_H_2019Q1.csv',\n",
       " '/home/jian/Projects/Big_Lots/Live_Ramp/Quarterly_Update_2019Q1/crm_newscore_20190107/by_group_quadrant_24/C_Quadrant III_S_M_2019Q1.csv',\n",
       " '/home/jian/Projects/Big_Lots/Live_Ramp/Quarterly_Update_2019Q1/crm_newscore_20190107/by_group_quadrant_24/C_Quadrant III_T_M_2019Q1.csv',\n",
       " '/home/jian/Projects/Big_Lots/Live_Ramp/Quarterly_Update_2019Q1/crm_newscore_20190107/by_group_quadrant_24/C_Quadrant II_P_L_2019Q1.csv',\n",
       " '/home/jian/Projects/Big_Lots/Live_Ramp/Quarterly_Update_2019Q1/crm_newscore_20190107/by_group_quadrant_24/C_Quadrant II_S_L_2019Q1.csv',\n",
       " '/home/jian/Projects/Big_Lots/Live_Ramp/Quarterly_Update_2019Q1/crm_newscore_20190107/by_group_quadrant_24/C_Quadrant II_T_H_2019Q1.csv',\n",
       " '/home/jian/Projects/Big_Lots/Live_Ramp/Quarterly_Update_2019Q1/crm_newscore_20190107/by_group_quadrant_24/C_Quadrant IV_P_H_2019Q1.csv',\n",
       " '/home/jian/Projects/Big_Lots/Live_Ramp/Quarterly_Update_2019Q1/crm_newscore_20190107/by_group_quadrant_24/C_Quadrant IV_P_M_2019Q1.csv',\n",
       " '/home/jian/Projects/Big_Lots/Live_Ramp/Quarterly_Update_2019Q1/crm_newscore_20190107/by_group_quadrant_24/C_Quadrant IV_S_M_2019Q1.csv',\n",
       " '/home/jian/Projects/Big_Lots/Live_Ramp/Quarterly_Update_2019Q1/crm_newscore_20190107/by_group_quadrant_24/C_Quadrant IV_T_L_2019Q1.csv',\n",
       " '/home/jian/Projects/Big_Lots/Live_Ramp/Quarterly_Update_2019Q1/crm_newscore_20190107/by_group_quadrant_24/C_Quadrant I_P_L_2019Q1.csv',\n",
       " '/home/jian/Projects/Big_Lots/Live_Ramp/Quarterly_Update_2019Q1/crm_newscore_20190107/by_group_quadrant_24/C_Quadrant I_S_H_2019Q1.csv',\n",
       " '/home/jian/Projects/Big_Lots/Live_Ramp/Quarterly_Update_2019Q1/crm_newscore_20190107/by_group_quadrant_24/C_Quadrant I_T_H_2019Q1.csv',\n",
       " '/home/jian/Projects/Big_Lots/Live_Ramp/Quarterly_Update_2019Q1/crm_newscore_20190107/by_group_quadrant_24/C_Quadrant I_T_M_2019Q1.csv']"
      ]
     },
     "execution_count": 7,
     "metadata": {},
     "output_type": "execute_result"
    }
   ],
   "source": [
    "previous_id_files_lists"
   ]
  },
  {
   "cell_type": "code",
   "execution_count": 8,
   "metadata": {
    "collapsed": true
   },
   "outputs": [],
   "source": [
    "import glob\n",
    "uploaded_new_seg=list(recursive_file_gen(\"/home/jian/celery/Append_to_celery_LiveRamp/monthly_update/\"))\n",
    "uploaded_new_seg=[x for x in uploaded_new_seg if \".csv\" in x]\n",
    "\n",
    "previous_id_files_lists=previous_id_files_lists+uploaded_new_seg"
   ]
  },
  {
   "cell_type": "code",
   "execution_count": null,
   "metadata": {
    "collapsed": true
   },
   "outputs": [],
   "source": [
    "# Exclude the quarterly regular segments\n"
   ]
  },
  {
   "cell_type": "code",
   "execution_count": 9,
   "metadata": {},
   "outputs": [
    {
     "name": "stdout",
     "output_type": "stream",
     "text": [
      "2019-09-25 10:11:05.831672 234829 /home/jian/Projects/Big_Lots/Live_Ramp/Quarterly_Update_2019Q1/crm_newscore_20190107/by_group_quadrant_24/T_Quadrant I_P_L_2019Q1.csv\n",
      "2019-09-25 10:11:32.154539 234829 /home/jian/Projects/Big_Lots/Live_Ramp/Quarterly_Update_2019Q1/crm_newscore_20190107/by_group_quadrant_24/T_Quadrant I_S_H_2019Q1.csv\n",
      "2019-09-25 10:11:32.811189 234829 /home/jian/Projects/Big_Lots/Live_Ramp/Quarterly_Update_2019Q1/crm_newscore_20190107/by_group_quadrant_24/T_Quadrant I_S_L_2019Q1.csv\n",
      "2019-09-25 10:11:33.605445 234827 /home/jian/Projects/Big_Lots/Live_Ramp/Quarterly_Update_2019Q1/crm_newscore_20190107/by_group_quadrant_24/T_Quadrant I_T_H_2019Q1.csv\n",
      "2019-09-25 10:11:34.244645 234827 /home/jian/Projects/Big_Lots/Live_Ramp/Quarterly_Update_2019Q1/crm_newscore_20190107/by_group_quadrant_24/T_Quadrant I_T_M_2019Q1.csv\n",
      "2019-09-25 10:11:34.394971 234827 /home/jian/Projects/Big_Lots/Live_Ramp/Quarterly_Update_2019Q1/crm_newscore_20190107/by_group_quadrant_24/C_Quadrant III_P_H_2019Q1.csv\n",
      "2019-09-25 10:11:34.524894 234826 /home/jian/Projects/Big_Lots/Live_Ramp/Quarterly_Update_2019Q1/crm_newscore_20190107/by_group_quadrant_24/C_Quadrant III_P_M_2019Q1.csv\n",
      "2019-09-25 10:11:34.598750 234826 /home/jian/Projects/Big_Lots/Live_Ramp/Quarterly_Update_2019Q1/crm_newscore_20190107/by_group_quadrant_24/C_Quadrant III_S_L_2019Q1.csv\n",
      "2019-09-25 10:11:34.654986 234826 /home/jian/Projects/Big_Lots/Live_Ramp/Quarterly_Update_2019Q1/crm_newscore_20190107/by_group_quadrant_24/C_Quadrant III_T_H_2019Q1.csv\n",
      "2019-09-25 10:11:34.711058 234826 /home/jian/Projects/Big_Lots/Live_Ramp/Quarterly_Update_2019Q1/crm_newscore_20190107/by_group_quadrant_24/C_Quadrant III_T_L_2019Q1.csv\n",
      "2019-09-25 10:11:34.827104 234826 /home/jian/Projects/Big_Lots/Live_Ramp/Quarterly_Update_2019Q1/crm_newscore_20190107/by_group_quadrant_24/C_Quadrant II_P_H_2019Q1.csv\n",
      "2019-09-25 10:11:34.934408 234826 /home/jian/Projects/Big_Lots/Live_Ramp/Quarterly_Update_2019Q1/crm_newscore_20190107/by_group_quadrant_24/C_Quadrant II_P_M_2019Q1.csv\n",
      "2019-09-25 10:11:34.993497 234826 /home/jian/Projects/Big_Lots/Live_Ramp/Quarterly_Update_2019Q1/crm_newscore_20190107/by_group_quadrant_24/C_Quadrant II_S_H_2019Q1.csv\n",
      "2019-09-25 10:11:35.054032 234826 /home/jian/Projects/Big_Lots/Live_Ramp/Quarterly_Update_2019Q1/crm_newscore_20190107/by_group_quadrant_24/C_Quadrant II_S_M_2019Q1.csv\n",
      "2019-09-25 10:11:35.111678 234826 /home/jian/Projects/Big_Lots/Live_Ramp/Quarterly_Update_2019Q1/crm_newscore_20190107/by_group_quadrant_24/C_Quadrant II_T_L_2019Q1.csv\n",
      "2019-09-25 10:11:35.159656 234826 /home/jian/Projects/Big_Lots/Live_Ramp/Quarterly_Update_2019Q1/crm_newscore_20190107/by_group_quadrant_24/C_Quadrant II_T_M_2019Q1.csv\n",
      "2019-09-25 10:11:35.261115 234826 /home/jian/Projects/Big_Lots/Live_Ramp/Quarterly_Update_2019Q1/crm_newscore_20190107/by_group_quadrant_24/C_Quadrant IV_P_L_2019Q1.csv\n",
      "2019-09-25 10:11:35.354575 234826 /home/jian/Projects/Big_Lots/Live_Ramp/Quarterly_Update_2019Q1/crm_newscore_20190107/by_group_quadrant_24/C_Quadrant IV_S_H_2019Q1.csv\n",
      "2019-09-25 10:11:35.402433 234826 /home/jian/Projects/Big_Lots/Live_Ramp/Quarterly_Update_2019Q1/crm_newscore_20190107/by_group_quadrant_24/C_Quadrant IV_S_L_2019Q1.csv\n",
      "2019-09-25 10:11:35.484133 234826 /home/jian/Projects/Big_Lots/Live_Ramp/Quarterly_Update_2019Q1/crm_newscore_20190107/by_group_quadrant_24/C_Quadrant IV_T_H_2019Q1.csv\n",
      "2019-09-25 10:11:35.532624 234826 /home/jian/Projects/Big_Lots/Live_Ramp/Quarterly_Update_2019Q1/crm_newscore_20190107/by_group_quadrant_24/C_Quadrant IV_T_M_2019Q1.csv\n",
      "2019-09-25 10:11:35.780261 234825 /home/jian/Projects/Big_Lots/Live_Ramp/Quarterly_Update_2019Q1/crm_newscore_20190107/by_group_quadrant_24/C_Quadrant I_P_H_2019Q1.csv\n",
      "2019-09-25 10:11:36.270600 234825 /home/jian/Projects/Big_Lots/Live_Ramp/Quarterly_Update_2019Q1/crm_newscore_20190107/by_group_quadrant_24/C_Quadrant I_P_M_2019Q1.csv\n",
      "2019-09-25 10:11:36.372379 234825 /home/jian/Projects/Big_Lots/Live_Ramp/Quarterly_Update_2019Q1/crm_newscore_20190107/by_group_quadrant_24/C_Quadrant I_S_L_2019Q1.csv\n",
      "2019-09-25 10:11:36.458862 234825 /home/jian/Projects/Big_Lots/Live_Ramp/Quarterly_Update_2019Q1/crm_newscore_20190107/by_group_quadrant_24/C_Quadrant I_S_M_2019Q1.csv\n",
      "2019-09-25 10:11:36.508499 234825 /home/jian/Projects/Big_Lots/Live_Ramp/Quarterly_Update_2019Q1/crm_newscore_20190107/by_group_quadrant_24/C_Quadrant I_T_L_2019Q1.csv\n",
      "2019-09-25 10:12:24.626751 234821 /home/jian/Projects/Big_Lots/Live_Ramp/Quarterly_Update_2019Q1/crm_newscore_20190107/by_group_quadrant_24/T_Quadrant III_P_H_2019Q1.csv\n",
      "2019-09-25 10:12:47.089880 234819 /home/jian/Projects/Big_Lots/Live_Ramp/Quarterly_Update_2019Q1/crm_newscore_20190107/by_group_quadrant_24/T_Quadrant III_P_L_2019Q1.csv\n",
      "2019-09-25 10:13:25.413006 234817 /home/jian/Projects/Big_Lots/Live_Ramp/Quarterly_Update_2019Q1/crm_newscore_20190107/by_group_quadrant_24/T_Quadrant III_P_M_2019Q1.csv\n",
      "2019-09-25 10:13:28.764058 234815 /home/jian/Projects/Big_Lots/Live_Ramp/Quarterly_Update_2019Q1/crm_newscore_20190107/by_group_quadrant_24/T_Quadrant III_S_H_2019Q1.csv\n",
      "2019-09-25 10:13:29.174821 234815 /home/jian/Projects/Big_Lots/Live_Ramp/Quarterly_Update_2019Q1/crm_newscore_20190107/by_group_quadrant_24/T_Quadrant III_S_L_2019Q1.csv\n",
      "2019-09-25 10:13:29.998263 234815 /home/jian/Projects/Big_Lots/Live_Ramp/Quarterly_Update_2019Q1/crm_newscore_20190107/by_group_quadrant_24/T_Quadrant III_S_M_2019Q1.csv\n",
      "2019-09-25 10:13:30.420931 234815 /home/jian/Projects/Big_Lots/Live_Ramp/Quarterly_Update_2019Q1/crm_newscore_20190107/by_group_quadrant_24/T_Quadrant III_T_H_2019Q1.csv\n",
      "2019-09-25 10:13:30.846019 234815 /home/jian/Projects/Big_Lots/Live_Ramp/Quarterly_Update_2019Q1/crm_newscore_20190107/by_group_quadrant_24/T_Quadrant III_T_L_2019Q1.csv\n",
      "2019-09-25 10:13:31.525649 234815 /home/jian/Projects/Big_Lots/Live_Ramp/Quarterly_Update_2019Q1/crm_newscore_20190107/by_group_quadrant_24/T_Quadrant III_T_M_2019Q1.csv\n",
      "2019-09-25 10:14:19.478165 234812 /home/jian/Projects/Big_Lots/Live_Ramp/Quarterly_Update_2019Q1/crm_newscore_20190107/by_group_quadrant_24/T_Quadrant II_P_H_2019Q1.csv\n",
      "2019-09-25 10:14:30.743332 234811 /home/jian/Projects/Big_Lots/Live_Ramp/Quarterly_Update_2019Q1/crm_newscore_20190107/by_group_quadrant_24/T_Quadrant II_P_L_2019Q1.csv\n",
      "2019-09-25 10:14:45.370638 234809 /home/jian/Projects/Big_Lots/Live_Ramp/Quarterly_Update_2019Q1/crm_newscore_20190107/by_group_quadrant_24/T_Quadrant II_P_M_2019Q1.csv\n",
      "2019-09-25 10:14:48.410433 234808 /home/jian/Projects/Big_Lots/Live_Ramp/Quarterly_Update_2019Q1/crm_newscore_20190107/by_group_quadrant_24/T_Quadrant II_S_H_2019Q1.csv\n",
      "2019-09-25 10:14:48.645738 234808 /home/jian/Projects/Big_Lots/Live_Ramp/Quarterly_Update_2019Q1/crm_newscore_20190107/by_group_quadrant_24/T_Quadrant II_S_L_2019Q1.csv\n",
      "2019-09-25 10:14:49.066572 234807 /home/jian/Projects/Big_Lots/Live_Ramp/Quarterly_Update_2019Q1/crm_newscore_20190107/by_group_quadrant_24/T_Quadrant II_S_M_2019Q1.csv\n",
      "2019-09-25 10:14:49.318575 234805 /home/jian/Projects/Big_Lots/Live_Ramp/Quarterly_Update_2019Q1/crm_newscore_20190107/by_group_quadrant_24/T_Quadrant II_T_H_2019Q1.csv\n",
      "2019-09-25 10:14:49.440960 234805 /home/jian/Projects/Big_Lots/Live_Ramp/Quarterly_Update_2019Q1/crm_newscore_20190107/by_group_quadrant_24/T_Quadrant II_T_L_2019Q1.csv\n",
      "2019-09-25 10:14:49.659588 234804 /home/jian/Projects/Big_Lots/Live_Ramp/Quarterly_Update_2019Q1/crm_newscore_20190107/by_group_quadrant_24/T_Quadrant II_T_M_2019Q1.csv\n",
      "2019-09-25 10:15:47.317704 234797 /home/jian/Projects/Big_Lots/Live_Ramp/Quarterly_Update_2019Q1/crm_newscore_20190107/by_group_quadrant_24/T_Quadrant IV_P_H_2019Q1.csv\n",
      "2019-09-25 10:16:04.881458 234796 /home/jian/Projects/Big_Lots/Live_Ramp/Quarterly_Update_2019Q1/crm_newscore_20190107/by_group_quadrant_24/T_Quadrant IV_P_L_2019Q1.csv\n",
      "2019-09-25 10:16:23.939955 234793 /home/jian/Projects/Big_Lots/Live_Ramp/Quarterly_Update_2019Q1/crm_newscore_20190107/by_group_quadrant_24/T_Quadrant IV_P_M_2019Q1.csv\n",
      "2019-09-25 10:16:35.130501 234790 /home/jian/Projects/Big_Lots/Live_Ramp/Quarterly_Update_2019Q1/crm_newscore_20190107/by_group_quadrant_24/T_Quadrant IV_S_H_2019Q1.csv\n",
      "2019-09-25 10:16:35.596334 234790 /home/jian/Projects/Big_Lots/Live_Ramp/Quarterly_Update_2019Q1/crm_newscore_20190107/by_group_quadrant_24/T_Quadrant IV_S_L_2019Q1.csv\n"
     ]
    },
    {
     "name": "stdout",
     "output_type": "stream",
     "text": [
      "2019-09-25 10:16:36.505580 234789 /home/jian/Projects/Big_Lots/Live_Ramp/Quarterly_Update_2019Q1/crm_newscore_20190107/by_group_quadrant_24/T_Quadrant IV_S_M_2019Q1.csv\n",
      "2019-09-25 10:16:37.033487 234789 /home/jian/Projects/Big_Lots/Live_Ramp/Quarterly_Update_2019Q1/crm_newscore_20190107/by_group_quadrant_24/T_Quadrant IV_T_H_2019Q1.csv\n",
      "2019-09-25 10:16:37.295849 234789 /home/jian/Projects/Big_Lots/Live_Ramp/Quarterly_Update_2019Q1/crm_newscore_20190107/by_group_quadrant_24/T_Quadrant IV_T_L_2019Q1.csv\n",
      "2019-09-25 10:16:37.719909 234788 /home/jian/Projects/Big_Lots/Live_Ramp/Quarterly_Update_2019Q1/crm_newscore_20190107/by_group_quadrant_24/T_Quadrant IV_T_M_2019Q1.csv\n",
      "2019-09-25 10:18:30.506150 234773 /home/jian/Projects/Big_Lots/Live_Ramp/Quarterly_Update_2019Q1/crm_newscore_20190107/by_group_quadrant_24/T_Quadrant I_P_H_2019Q1.csv\n",
      "2019-09-25 10:19:43.728391 234766 /home/jian/Projects/Big_Lots/Live_Ramp/Quarterly_Update_2019Q1/crm_newscore_20190107/by_group_quadrant_24/T_Quadrant I_P_M_2019Q1.csv\n",
      "2019-09-25 10:19:45.484361 234765 /home/jian/Projects/Big_Lots/Live_Ramp/Quarterly_Update_2019Q1/crm_newscore_20190107/by_group_quadrant_24/T_Quadrant I_S_M_2019Q1.csv\n",
      "2019-09-25 10:19:45.903754 234765 /home/jian/Projects/Big_Lots/Live_Ramp/Quarterly_Update_2019Q1/crm_newscore_20190107/by_group_quadrant_24/T_Quadrant I_T_L_2019Q1.csv\n",
      "2019-09-25 10:19:46.012244 234765 /home/jian/Projects/Big_Lots/Live_Ramp/Quarterly_Update_2019Q1/crm_newscore_20190107/by_group_quadrant_24/C_Quadrant III_P_L_2019Q1.csv\n",
      "2019-09-25 10:19:46.090321 234765 /home/jian/Projects/Big_Lots/Live_Ramp/Quarterly_Update_2019Q1/crm_newscore_20190107/by_group_quadrant_24/C_Quadrant III_S_H_2019Q1.csv\n",
      "2019-09-25 10:19:46.146074 234765 /home/jian/Projects/Big_Lots/Live_Ramp/Quarterly_Update_2019Q1/crm_newscore_20190107/by_group_quadrant_24/C_Quadrant III_S_M_2019Q1.csv\n",
      "2019-09-25 10:19:46.209897 234765 /home/jian/Projects/Big_Lots/Live_Ramp/Quarterly_Update_2019Q1/crm_newscore_20190107/by_group_quadrant_24/C_Quadrant III_T_M_2019Q1.csv\n",
      "2019-09-25 10:19:46.284970 234765 /home/jian/Projects/Big_Lots/Live_Ramp/Quarterly_Update_2019Q1/crm_newscore_20190107/by_group_quadrant_24/C_Quadrant II_P_L_2019Q1.csv\n",
      "2019-09-25 10:19:46.326294 234765 /home/jian/Projects/Big_Lots/Live_Ramp/Quarterly_Update_2019Q1/crm_newscore_20190107/by_group_quadrant_24/C_Quadrant II_S_L_2019Q1.csv\n",
      "2019-09-25 10:19:46.375656 234765 /home/jian/Projects/Big_Lots/Live_Ramp/Quarterly_Update_2019Q1/crm_newscore_20190107/by_group_quadrant_24/C_Quadrant II_T_H_2019Q1.csv\n",
      "2019-09-25 10:19:46.551407 234765 /home/jian/Projects/Big_Lots/Live_Ramp/Quarterly_Update_2019Q1/crm_newscore_20190107/by_group_quadrant_24/C_Quadrant IV_P_H_2019Q1.csv\n",
      "2019-09-25 10:19:46.675023 234765 /home/jian/Projects/Big_Lots/Live_Ramp/Quarterly_Update_2019Q1/crm_newscore_20190107/by_group_quadrant_24/C_Quadrant IV_P_M_2019Q1.csv\n",
      "2019-09-25 10:19:46.760170 234765 /home/jian/Projects/Big_Lots/Live_Ramp/Quarterly_Update_2019Q1/crm_newscore_20190107/by_group_quadrant_24/C_Quadrant IV_S_M_2019Q1.csv\n",
      "2019-09-25 10:19:46.810828 234765 /home/jian/Projects/Big_Lots/Live_Ramp/Quarterly_Update_2019Q1/crm_newscore_20190107/by_group_quadrant_24/C_Quadrant IV_T_L_2019Q1.csv\n",
      "2019-09-25 10:19:46.923343 234765 /home/jian/Projects/Big_Lots/Live_Ramp/Quarterly_Update_2019Q1/crm_newscore_20190107/by_group_quadrant_24/C_Quadrant I_P_L_2019Q1.csv\n",
      "2019-09-25 10:19:47.003271 234765 /home/jian/Projects/Big_Lots/Live_Ramp/Quarterly_Update_2019Q1/crm_newscore_20190107/by_group_quadrant_24/C_Quadrant I_S_H_2019Q1.csv\n",
      "2019-09-25 10:19:47.060407 234765 /home/jian/Projects/Big_Lots/Live_Ramp/Quarterly_Update_2019Q1/crm_newscore_20190107/by_group_quadrant_24/C_Quadrant I_T_H_2019Q1.csv\n",
      "2019-09-25 10:19:47.136528 234765 /home/jian/Projects/Big_Lots/Live_Ramp/Quarterly_Update_2019Q1/crm_newscore_20190107/by_group_quadrant_24/C_Quadrant I_T_M_2019Q1.csv\n",
      "2019-09-25 10:19:48.043931 234765 /home/jian/celery/Append_to_celery_LiveRamp/monthly_update/output_2018-12-29/NewReward_2018-12-29_P.csv\n",
      "2019-09-25 10:19:48.345970 234765 /home/jian/celery/Append_to_celery_LiveRamp/monthly_update/output_2018-12-29/NewReward_2018-12-29_S.csv\n",
      "2019-09-25 10:19:48.587385 234765 /home/jian/celery/Append_to_celery_LiveRamp/monthly_update/output_2018-12-29/NewReward_2018-12-29_T.csv\n",
      "2019-09-25 10:19:49.285223 234765 /home/jian/celery/Append_to_celery_LiveRamp/monthly_update/output_2019-01-26/NewReward_2019-01-26_P.csv\n",
      "2019-09-25 10:19:49.509193 234765 /home/jian/celery/Append_to_celery_LiveRamp/monthly_update/output_2019-01-26/NewReward_2019-01-26_S.csv\n",
      "2019-09-25 10:19:49.652761 234765 /home/jian/celery/Append_to_celery_LiveRamp/monthly_update/output_2019-01-26/NewReward_2019-01-26_T.csv\n",
      "2019-09-25 10:19:50.289536 234765 /home/jian/celery/Append_to_celery_LiveRamp/monthly_update/output_2019-02-23/NewReward_2019-02-23_P.csv\n",
      "2019-09-25 10:19:50.486516 234765 /home/jian/celery/Append_to_celery_LiveRamp/monthly_update/output_2019-02-23/NewReward_2019-02-23_S.csv\n",
      "2019-09-25 10:19:50.613180 234765 /home/jian/celery/Append_to_celery_LiveRamp/monthly_update/output_2019-02-23/NewReward_2019-02-23_T.csv\n",
      "2019-09-25 10:19:51.381946 234765 /home/jian/celery/Append_to_celery_LiveRamp/monthly_update/output_2019-03-23/NewReward_2019-03-23_P.csv\n",
      "2019-09-25 10:19:51.593071 234765 /home/jian/celery/Append_to_celery_LiveRamp/monthly_update/output_2019-03-23/NewReward_2019-03-23_S.csv\n",
      "2019-09-25 10:19:51.711997 234765 /home/jian/celery/Append_to_celery_LiveRamp/monthly_update/output_2019-03-23/NewReward_2019-03-23_T.csv\n",
      "2019-09-25 10:19:52.132075 234765 /home/jian/celery/Append_to_celery_LiveRamp/monthly_update/output_2019-04-06/NewReward_2019-04-06_P.csv\n",
      "2019-09-25 10:19:52.271675 234765 /home/jian/celery/Append_to_celery_LiveRamp/monthly_update/output_2019-04-06/NewReward_2019-04-06_S.csv\n",
      "2019-09-25 10:19:52.363832 234765 /home/jian/celery/Append_to_celery_LiveRamp/monthly_update/output_2019-04-06/NewReward_2019-04-06_T.csv\n",
      "2019-09-25 10:19:52.863503 234765 /home/jian/celery/Append_to_celery_LiveRamp/monthly_update/output_2019-04-20/NewReward_2019-04-20_P.csv\n",
      "2019-09-25 10:19:53.033790 234765 /home/jian/celery/Append_to_celery_LiveRamp/monthly_update/output_2019-04-20/NewReward_2019-04-20_S.csv\n",
      "2019-09-25 10:19:53.171462 234765 /home/jian/celery/Append_to_celery_LiveRamp/monthly_update/output_2019-04-20/NewReward_2019-04-20_T.csv\n",
      "2019-09-25 10:19:53.569104 234765 /home/jian/celery/Append_to_celery_LiveRamp/monthly_update/output_2019-05-04/NewReward_2019-05-04_P.csv\n",
      "2019-09-25 10:19:53.848736 234765 /home/jian/celery/Append_to_celery_LiveRamp/monthly_update/output_2019-05-04/NewReward_2019-05-04_S.csv\n",
      "2019-09-25 10:19:54.021649 234765 /home/jian/celery/Append_to_celery_LiveRamp/monthly_update/output_2019-05-04/NewReward_2019-05-04_T.csv\n",
      "2019-09-25 10:19:54.594268 234765 /home/jian/celery/Append_to_celery_LiveRamp/monthly_update/output_2019-05-18/NewReward_2019-05-18_P.csv\n",
      "2019-09-25 10:19:55.510915 234765 /home/jian/celery/Append_to_celery_LiveRamp/monthly_update/output_2019-05-18/NewReward_2019-05-18_S.csv\n",
      "2019-09-25 10:19:55.967714 234765 /home/jian/celery/Append_to_celery_LiveRamp/monthly_update/output_2019-05-18/NewReward_2019-05-18_T.csv\n",
      "2019-09-25 10:19:58.101911 234765 /home/jian/celery/Append_to_celery_LiveRamp/monthly_update/output_2019-06-01/NewReward_2019-06-01_P.csv\n",
      "2019-09-25 10:19:58.297908 234765 /home/jian/celery/Append_to_celery_LiveRamp/monthly_update/output_2019-06-01/NewReward_2019-06-01_S.csv\n",
      "2019-09-25 10:19:58.516157 234765 /home/jian/celery/Append_to_celery_LiveRamp/monthly_update/output_2019-06-01/NewReward_2019-06-01_T.csv\n",
      "2019-09-25 10:20:00.519384 234765 /home/jian/celery/Append_to_celery_LiveRamp/monthly_update/output_2019-06-15/NewReward_2019-06-15_P.csv\n",
      "2019-09-25 10:20:01.448022 234765 /home/jian/celery/Append_to_celery_LiveRamp/monthly_update/output_2019-06-15/NewReward_2019-06-15_S.csv\n",
      "2019-09-25 10:20:02.760050 234765 /home/jian/celery/Append_to_celery_LiveRamp/monthly_update/output_2019-06-15/NewReward_2019-06-15_T.csv\n",
      "2019-09-25 10:20:06.428697 234765 /home/jian/celery/Append_to_celery_LiveRamp/monthly_update/output_2019-06-29/NewReward_2019-06-29_P.csv\n",
      "2019-09-25 10:20:07.069587 234765 /home/jian/celery/Append_to_celery_LiveRamp/monthly_update/output_2019-06-29/NewReward_2019-06-29_S.csv\n"
     ]
    },
    {
     "name": "stdout",
     "output_type": "stream",
     "text": [
      "2019-09-25 10:20:07.488571 234765 /home/jian/celery/Append_to_celery_LiveRamp/monthly_update/output_2019-06-29/NewReward_2019-06-29_T.csv\n",
      "2019-09-25 10:20:12.638434 234765 /home/jian/celery/Append_to_celery_LiveRamp/monthly_update/output_2019-07-13/NewReward_2019-07-13_P.csv\n",
      "2019-09-25 10:20:13.717164 234765 /home/jian/celery/Append_to_celery_LiveRamp/monthly_update/output_2019-07-13/NewReward_2019-07-13_S.csv\n",
      "2019-09-25 10:20:15.665094 234764 /home/jian/celery/Append_to_celery_LiveRamp/monthly_update/output_2019-07-13/NewReward_2019-07-13_T.csv\n",
      "2019-09-25 10:20:18.798054 234764 /home/jian/celery/Append_to_celery_LiveRamp/monthly_update/output_2019-07-27/NewReward_2019-07-27_P.csv\n",
      "2019-09-25 10:20:20.008770 234764 /home/jian/celery/Append_to_celery_LiveRamp/monthly_update/output_2019-07-27/NewReward_2019-07-27_S.csv\n",
      "2019-09-25 10:20:21.500388 234764 /home/jian/celery/Append_to_celery_LiveRamp/monthly_update/output_2019-07-27/NewReward_2019-07-27_T.csv\n",
      "2019-09-25 10:20:24.835229 234764 /home/jian/celery/Append_to_celery_LiveRamp/monthly_update/output_2019-08-10/NewReward_2019-08-10_P.csv\n",
      "2019-09-25 10:20:25.759686 234764 /home/jian/celery/Append_to_celery_LiveRamp/monthly_update/output_2019-08-10/NewReward_2019-08-10_S.csv\n",
      "2019-09-25 10:20:27.432121 234764 /home/jian/celery/Append_to_celery_LiveRamp/monthly_update/output_2019-08-10/NewReward_2019-08-10_T.csv\n",
      "2019-09-25 10:20:34.488998 234764 /home/jian/celery/Append_to_celery_LiveRamp/monthly_update/output_2019-09-07/NewReward_2019-09-07_P.csv\n",
      "2019-09-25 10:20:36.369080 234764 /home/jian/celery/Append_to_celery_LiveRamp/monthly_update/output_2019-09-07/NewReward_2019-09-07_S.csv\n",
      "2019-09-25 10:20:40.873673 234763 /home/jian/celery/Append_to_celery_LiveRamp/monthly_update/output_2019-09-07/NewReward_2019-09-07_T.csv\n"
     ]
    }
   ],
   "source": [
    "for file_uploaded in previous_id_files_lists:\n",
    "    df = pd.read_csv(file_uploaded,usecols = ['email_address_hash'])\n",
    "    previous_email_set=set(df['email_address_hash'].tolist())\n",
    "    df_all_new_master = df_all_new_master[~df_all_new_master['email_address_hash'].isin(previous_email_set)]\n",
    "    print(datetime.datetime.now(),len(df_all_new_master.index),file_uploaded)"
   ]
  },
  {
   "cell_type": "code",
   "execution_count": 10,
   "metadata": {},
   "outputs": [
    {
     "name": "stdout",
     "output_type": "stream",
     "text": [
      "234763\n"
     ]
    }
   ],
   "source": [
    "df_all_new_master = df_all_new_master.drop_duplicates('email_address_hash')\n",
    "df_all_new_master = df_all_new_master.drop_duplicates('customer_id_hashed')\n",
    "print(len(df_all_new_master.index))"
   ]
  },
  {
   "cell_type": "code",
   "execution_count": 11,
   "metadata": {},
   "outputs": [
    {
     "name": "stdout",
     "output_type": "stream",
     "text": [
      "(12980, 3)\n",
      "12980\n"
     ]
    },
    {
     "data": {
      "text/html": [
       "<div>\n",
       "<style>\n",
       "    .dataframe thead tr:only-child th {\n",
       "        text-align: right;\n",
       "    }\n",
       "\n",
       "    .dataframe thead th {\n",
       "        text-align: left;\n",
       "    }\n",
       "\n",
       "    .dataframe tbody tr th {\n",
       "        vertical-align: top;\n",
       "    }\n",
       "</style>\n",
       "<table border=\"1\" class=\"dataframe\">\n",
       "  <thead>\n",
       "    <tr style=\"text-align: right;\">\n",
       "      <th></th>\n",
       "      <th>customer_zip_code</th>\n",
       "      <th>zipcodegroup</th>\n",
       "    </tr>\n",
       "  </thead>\n",
       "  <tbody>\n",
       "    <tr>\n",
       "      <th>0</th>\n",
       "      <td>75040</td>\n",
       "      <td>P</td>\n",
       "    </tr>\n",
       "    <tr>\n",
       "      <th>1</th>\n",
       "      <td>20743</td>\n",
       "      <td>P</td>\n",
       "    </tr>\n",
       "  </tbody>\n",
       "</table>\n",
       "</div>"
      ],
      "text/plain": [
       "  customer_zip_code zipcodegroup\n",
       "0             75040            P\n",
       "1             20743            P"
      ]
     },
     "execution_count": 11,
     "metadata": {},
     "output_type": "execute_result"
    }
   ],
   "source": [
    "zipmap = pd.ExcelFile('/home/jian/Projects/Big_Lots/New_TA/TA_created_in_201906/final_output_20190718/BL_final_TA_updated_JL_2019-07-18.xlsx')\n",
    "zipmap=zipmap.parse(\"unique_zips_full_footprint\",dtype=str)\n",
    "zipmap['zip_type']=zipmap['zip_type'].replace(\"zips_10\",\"trans_S\")\n",
    "\n",
    "zipmap['zipcodegroup'] = zipmap['zip_type'].apply(lambda x: x.split(\"_\")[1])\n",
    "print(zipmap.shape)\n",
    "print(zipmap['zip_cd'].nunique())\n",
    "\n",
    "zipmap=zipmap.rename(columns={\"zip_cd\":\"customer_zip_code\"})\n",
    "\n",
    "zipmap=zipmap[['customer_zip_code','zipcodegroup']]\n",
    "zipmap.head(2)"
   ]
  },
  {
   "cell_type": "code",
   "execution_count": 12,
   "metadata": {},
   "outputs": [
    {
     "name": "stdout",
     "output_type": "stream",
     "text": [
      "[nan 'P' 'S']\n",
      "['T' 'P' 'S']\n",
      "P 107228\n",
      "S 44092\n",
      "T 83443\n"
     ]
    }
   ],
   "source": [
    "df_all_new_master = pd.merge(df_all_new_master,zipmap,on ='customer_zip_code',how = 'left' )\n",
    "print(df_all_new_master['zipcodegroup'].unique())\n",
    "\n",
    "df_all_new_master['zipcodegroup'].fillna('T',inplace = True)\n",
    "print(df_all_new_master['zipcodegroup'].unique())\n",
    "\n",
    "last_saturday_str=\"_\"+str(last_saturday).split(\"-\")[1]+str(last_saturday).split(\"-\")[2]+str(last_saturday).split(\"-\")[0][2:]+\"_\"\n",
    "\n",
    "for revenue_flag in ['P','S','T']:\n",
    "    df = df_all_new_master[df_all_new_master['zipcodegroup']==revenue_flag]\n",
    "    df = df[['customer_id_hashed','email_address_hash','customer_zip_code']]\n",
    "    df['segment'] = 'NewReward' + last_saturday_str + revenue_flag\n",
    "    print(revenue_flag,len(df.index))\n",
    "    df.to_csv(write_folder+'NewReward_'+str(last_saturday)+'_'+revenue_flag+'.csv',index = False)\n",
    "# To be uploaded to lr-big-lots /uploads/big_lots_onboarding"
   ]
  },
  {
   "cell_type": "code",
   "execution_count": 13,
   "metadata": {},
   "outputs": [
    {
     "data": {
      "text/html": [
       "<div>\n",
       "<style>\n",
       "    .dataframe thead tr:only-child th {\n",
       "        text-align: right;\n",
       "    }\n",
       "\n",
       "    .dataframe thead th {\n",
       "        text-align: left;\n",
       "    }\n",
       "\n",
       "    .dataframe tbody tr th {\n",
       "        vertical-align: top;\n",
       "    }\n",
       "</style>\n",
       "<table border=\"1\" class=\"dataframe\">\n",
       "  <thead>\n",
       "    <tr style=\"text-align: right;\">\n",
       "      <th></th>\n",
       "      <th>zipcodegroup</th>\n",
       "      <th>email_address_hash</th>\n",
       "    </tr>\n",
       "  </thead>\n",
       "  <tbody>\n",
       "    <tr>\n",
       "      <th>0</th>\n",
       "      <td>P</td>\n",
       "      <td>107228</td>\n",
       "    </tr>\n",
       "    <tr>\n",
       "      <th>1</th>\n",
       "      <td>S</td>\n",
       "      <td>44092</td>\n",
       "    </tr>\n",
       "    <tr>\n",
       "      <th>2</th>\n",
       "      <td>T</td>\n",
       "      <td>83443</td>\n",
       "    </tr>\n",
       "  </tbody>\n",
       "</table>\n",
       "</div>"
      ],
      "text/plain": [
       "  zipcodegroup  email_address_hash\n",
       "0            P              107228\n",
       "1            S               44092\n",
       "2            T               83443"
      ]
     },
     "execution_count": 13,
     "metadata": {},
     "output_type": "execute_result"
    }
   ],
   "source": [
    "df_all_new_master.groupby(['zipcodegroup'])['email_address_hash'].count().to_frame().reset_index()"
   ]
  },
  {
   "cell_type": "code",
   "execution_count": 14,
   "metadata": {},
   "outputs": [
    {
     "data": {
      "text/html": [
       "<div>\n",
       "<style>\n",
       "    .dataframe thead tr:only-child th {\n",
       "        text-align: right;\n",
       "    }\n",
       "\n",
       "    .dataframe thead th {\n",
       "        text-align: left;\n",
       "    }\n",
       "\n",
       "    .dataframe tbody tr th {\n",
       "        vertical-align: top;\n",
       "    }\n",
       "</style>\n",
       "<table border=\"1\" class=\"dataframe\">\n",
       "  <thead>\n",
       "    <tr style=\"text-align: right;\">\n",
       "      <th></th>\n",
       "      <th>customer_id_hashed</th>\n",
       "      <th>email_address_hash</th>\n",
       "      <th>customer_zip_code</th>\n",
       "      <th>segment</th>\n",
       "    </tr>\n",
       "  </thead>\n",
       "  <tbody>\n",
       "    <tr>\n",
       "      <th>0</th>\n",
       "      <td>12f452fd6f43bd56d0d8406a2e29bd2f547873efb362ec...</td>\n",
       "      <td>14c53e06abf6f0d45e4ad5811617a0c88fc19cdb367461...</td>\n",
       "      <td>NaN</td>\n",
       "      <td>NewReward_092119_T</td>\n",
       "    </tr>\n",
       "    <tr>\n",
       "      <th>2</th>\n",
       "      <td>6ea149192ed34f3e4051e574ad6a94d216cc4bec2d21b6...</td>\n",
       "      <td>1a8ed11f4a6f9e5c59ffa0433a20e75d79cf8d6face483...</td>\n",
       "      <td>NaN</td>\n",
       "      <td>NewReward_092119_T</td>\n",
       "    </tr>\n",
       "  </tbody>\n",
       "</table>\n",
       "</div>"
      ],
      "text/plain": [
       "                                  customer_id_hashed  \\\n",
       "0  12f452fd6f43bd56d0d8406a2e29bd2f547873efb362ec...   \n",
       "2  6ea149192ed34f3e4051e574ad6a94d216cc4bec2d21b6...   \n",
       "\n",
       "                                  email_address_hash customer_zip_code  \\\n",
       "0  14c53e06abf6f0d45e4ad5811617a0c88fc19cdb367461...               NaN   \n",
       "2  1a8ed11f4a6f9e5c59ffa0433a20e75d79cf8d6face483...               NaN   \n",
       "\n",
       "              segment  \n",
       "0  NewReward_092119_T  \n",
       "2  NewReward_092119_T  "
      ]
     },
     "execution_count": 14,
     "metadata": {},
     "output_type": "execute_result"
    }
   ],
   "source": [
    "df.head(2)"
   ]
  },
  {
   "cell_type": "code",
   "execution_count": 15,
   "metadata": {},
   "outputs": [
    {
     "name": "stdout",
     "output_type": "stream",
     "text": [
      "2019-09-25 10:20:52.551149\n"
     ]
    }
   ],
   "source": [
    "print(datetime.datetime.now())"
   ]
  },
  {
   "cell_type": "code",
   "execution_count": null,
   "metadata": {
    "collapsed": true
   },
   "outputs": [],
   "source": []
  },
  {
   "cell_type": "code",
   "execution_count": 16,
   "metadata": {},
   "outputs": [
    {
     "name": "stdout",
     "output_type": "stream",
     "text": [
      "Done:  2019-09-25 10:23:51.447635\n"
     ]
    }
   ],
   "source": [
    "import paramiko\n",
    "import glob\n",
    "\n",
    "host = \"files.liveramp.com\"\n",
    "port = 22\n",
    "password = \"Biglots2018!\"\n",
    "username = \"lr-big-lots\"\n",
    "\n",
    "transport = paramiko.Transport((host, port))\n",
    "\n",
    "transport.connect(username = username, password = password)\n",
    "sftp = paramiko.SFTPClient.from_transport(transport)\n",
    "\n",
    "# local_path defined above before saving the local txt\n",
    "local_list=glob.glob(write_folder+\"*.csv\")\n",
    "local_list=[x for x in local_list if 'NewReward_'+str(last_saturday)+'_' in x]\n",
    "\n",
    "for local_path in local_list:\n",
    "    remote_path=\"/uploads/big_lots_onboarding/\"+os.path.basename(local_path)\n",
    "    sftp.put(local_path,remote_path)\n",
    "sftp.close()\n",
    "transport.close()\n",
    "print(\"Done: \",datetime.datetime.now())"
   ]
  },
  {
   "cell_type": "code",
   "execution_count": null,
   "metadata": {
    "collapsed": true
   },
   "outputs": [],
   "source": []
  }
 ],
 "metadata": {
  "kernelspec": {
   "display_name": "Python 3",
   "language": "python",
   "name": "python3"
  },
  "language_info": {
   "codemirror_mode": {
    "name": "ipython",
    "version": 3
   },
   "file_extension": ".py",
   "mimetype": "text/x-python",
   "name": "python",
   "nbconvert_exporter": "python",
   "pygments_lexer": "ipython3",
   "version": "3.6.1"
  }
 },
 "nbformat": 4,
 "nbformat_minor": 2
}
