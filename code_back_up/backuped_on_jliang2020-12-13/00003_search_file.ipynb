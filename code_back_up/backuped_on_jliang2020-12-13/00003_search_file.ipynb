{
 "cells": [
  {
   "cell_type": "code",
   "execution_count": 1,
   "metadata": {},
   "outputs": [
    {
     "data": {
      "text/plain": [
       "'/mnt/clients/juba/hqjubaapp02/jliang'"
      ]
     },
     "execution_count": 1,
     "metadata": {},
     "output_type": "execute_result"
    }
   ],
   "source": [
    "import os\n",
    "import datetime\n",
    "os.getcwd()\n"
   ]
  },
  {
   "cell_type": "code",
   "execution_count": 2,
   "metadata": {},
   "outputs": [],
   "source": [
    "def recursive_file_gen(root_path):\n",
    "    for root, dirst, files in os.walk(root_path):\n",
    "        for file in files:\n",
    "            yield os.path.join(root,file)"
   ]
  },
  {
   "cell_type": "code",
   "execution_count": 4,
   "metadata": {},
   "outputs": [],
   "source": [
    "all_files=list(recursive_file_gen(\"/mnt/clients/juba/hqjubaapp02/jliang/\"))"
   ]
  },
  {
   "cell_type": "code",
   "execution_count": 5,
   "metadata": {},
   "outputs": [
    {
     "data": {
      "text/plain": [
       "277744"
      ]
     },
     "execution_count": 5,
     "metadata": {},
     "output_type": "execute_result"
    }
   ],
   "source": [
    "len(all_files)"
   ]
  },
  {
   "cell_type": "code",
   "execution_count": 7,
   "metadata": {},
   "outputs": [
    {
     "data": {
      "text/plain": [
       "['/mnt/clients/juba/hqjubaapp02/jliang/Projects/Big_Lots/Predictive_Model/extract_from_MySQL/BL_RL_modeling_summary_JL_2020-08-21.xlsx',\n",
       " '/mnt/clients/juba/hqjubaapp02/jliang/Projects/Big_Lots/Predictive_Model/extract_from_MySQL/BL_RL_modeling_summary_JL_2020-08-24.xlsx',\n",
       " '/mnt/clients/juba/hqjubaapp02/jliang/Projects/Big_Lots/Predictive_Model/extract_from_MySQL/BL_RL_modeling_summary_JL_2020-08-20.xlsx',\n",
       " '/mnt/clients/juba/hqjubaapp02/jliang/Projects/Big_Lots/Predictive_Model/extract_from_MySQL/View_Multiple_Weeks_summary.ipynb',\n",
       " '/mnt/clients/juba/hqjubaapp02/jliang/Projects/Big_Lots/Predictive_Model/extract_from_MySQL/BL_RL_modeling_summary_JL_2020-08-31.xlsx',\n",
       " '/mnt/clients/juba/hqjubaapp02/jliang/Projects/Big_Lots/Predictive_Model/extract_from_MySQL/BL_RL_modeling_summary_JL_2020-09-02.xlsx',\n",
       " '/mnt/clients/juba/hqjubaapp02/jliang/Projects/Big_Lots/Predictive_Model/extract_from_MySQL/BL_RL_modeling_summary_JL_2020-08-17.xlsx',\n",
       " '/mnt/clients/juba/hqjubaapp02/jliang/Projects/Big_Lots/Predictive_Model/extract_from_MySQL/BL_RL_modeling_summary_JL_2020-08-18.xlsx',\n",
       " '/mnt/clients/juba/hqjubaapp02/jliang/Projects/Big_Lots/Predictive_Model/extract_from_MySQL/.ipynb_checkpoints/View_Multiple_Weeks_summary-checkpoint.ipynb']"
      ]
     },
     "execution_count": 7,
     "metadata": {},
     "output_type": "execute_result"
    }
   ],
   "source": [
    "a=[x for x in all_files if \"summary\" in x.lower()]\n",
    "[x for x in a if \"predictive\" in x.lower()]\n"
   ]
  },
  {
   "cell_type": "code",
   "execution_count": null,
   "metadata": {},
   "outputs": [],
   "source": []
  }
 ],
 "metadata": {
  "kernelspec": {
   "display_name": "Python 3",
   "language": "python",
   "name": "python3"
  },
  "language_info": {
   "codemirror_mode": {
    "name": "ipython",
    "version": 3
   },
   "file_extension": ".py",
   "mimetype": "text/x-python",
   "name": "python",
   "nbconvert_exporter": "python",
   "pygments_lexer": "ipython3",
   "version": "3.7.6"
  }
 },
 "nbformat": 4,
 "nbformat_minor": 2
}
