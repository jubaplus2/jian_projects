{
 "cells": [
  {
   "cell_type": "code",
   "execution_count": 1,
   "metadata": {},
   "outputs": [
    {
     "data": {
      "text/plain": [
       "'/home/jian/Projects/Smoothie_King/adjust_for_pending_stores'"
      ]
     },
     "execution_count": 1,
     "metadata": {},
     "output_type": "execute_result"
    }
   ],
   "source": [
    "import pandas as pd\n",
    "import numpy as np\n",
    "import datetime\n",
    "import os\n",
    "import json\n",
    "from haversine import haversine\n",
    "zip_centers=json.load(open(\"/home/jian/Docs/Geo_mapping/updated_zip_centers_JL_2019-05-23.json\",\"r\"))\n",
    "os.getcwd()"
   ]
  },
  {
   "cell_type": "code",
   "execution_count": 2,
   "metadata": {
    "collapsed": true
   },
   "outputs": [],
   "source": [
    "writer_folder=\"./output_\"+str(datetime.datetime.now().date())+\"/\"\n",
    "try:\n",
    "    os.stat(writer_folder)\n",
    "except:\n",
    "    os.mkdir(writer_folder)"
   ]
  },
  {
   "cell_type": "code",
   "execution_count": 3,
   "metadata": {},
   "outputs": [
    {
     "data": {
      "text/plain": [
       "['summary_by_TA', 'output_TA_by_store', 'zip_TA', 'summary_by_store_count']"
      ]
     },
     "execution_count": 3,
     "metadata": {},
     "output_type": "execute_result"
    }
   ],
   "source": [
    "excel_output=pd.ExcelFile(\"/home/jian/Projects/Smoothie_King/weekly_TA_updates/output_20190930/SmoothieKing_TA_of_3_miles_zips_JL_2019-10-03.xlsx\")\n",
    "excel_output.sheet_names\n"
   ]
  },
  {
   "cell_type": "code",
   "execution_count": 4,
   "metadata": {},
   "outputs": [
    {
     "data": {
      "text/plain": [
       "(938, 18)"
      ]
     },
     "execution_count": 4,
     "metadata": {},
     "output_type": "execute_result"
    }
   ],
   "source": [
    "df_by_store=excel_output.parse(\"output_TA_by_store\",dtype=str)\n",
    "df_by_store.shape"
   ]
  },
  {
   "cell_type": "code",
   "execution_count": 5,
   "metadata": {},
   "outputs": [
    {
     "name": "stdout",
     "output_type": "stream",
     "text": [
      "['opening', 'closed']\n",
      "5\n",
      "['1805', '1727', '1735', '1787', '1549']\n"
     ]
    }
   ],
   "source": [
    "new_store_excel=pd.ExcelFile(\"/home/jian/Projects/Smoothie_King/SK_celery/force_store_list/SK_forced_store_list_20191002.xlsx\")\n",
    "print(new_store_excel.sheet_names)\n",
    "df_new_stores=new_store_excel.parse(\"opening\",dtype=str)\n",
    "new_store_list=df_new_stores['storenumber'].unique().tolist()\n",
    "print(len(new_store_list))\n",
    "print(new_store_list)"
   ]
  },
  {
   "cell_type": "code",
   "execution_count": 6,
   "metadata": {},
   "outputs": [
    {
     "data": {
      "text/html": [
       "<div>\n",
       "<style>\n",
       "    .dataframe thead tr:only-child th {\n",
       "        text-align: right;\n",
       "    }\n",
       "\n",
       "    .dataframe thead th {\n",
       "        text-align: left;\n",
       "    }\n",
       "\n",
       "    .dataframe tbody tr th {\n",
       "        vertical-align: top;\n",
       "    }\n",
       "</style>\n",
       "<table border=\"1\" class=\"dataframe\">\n",
       "  <thead>\n",
       "    <tr style=\"text-align: right;\">\n",
       "      <th></th>\n",
       "      <th>storenumber</th>\n",
       "      <th>Address</th>\n",
       "      <th>city</th>\n",
       "      <th>state</th>\n",
       "      <th>zip</th>\n",
       "      <th>StoreOpenDate</th>\n",
       "      <th>Latitude</th>\n",
       "      <th>Longitude</th>\n",
       "      <th>Ownership</th>\n",
       "      <th>Franchisee_Name</th>\n",
       "      <th>IPAddress</th>\n",
       "      <th>DriveThru</th>\n",
       "      <th>status</th>\n",
       "      <th>StoreCloseDate</th>\n",
       "      <th>used_lat</th>\n",
       "      <th>used_long</th>\n",
       "      <th>zips_3_miles</th>\n",
       "      <th>TA</th>\n",
       "    </tr>\n",
       "  </thead>\n",
       "  <tbody>\n",
       "  </tbody>\n",
       "</table>\n",
       "</div>"
      ],
      "text/plain": [
       "Empty DataFrame\n",
       "Columns: [storenumber, Address, city, state, zip, StoreOpenDate, Latitude, Longitude, Ownership, Franchisee_Name, IPAddress, DriveThru, status, StoreCloseDate, used_lat, used_long, zips_3_miles, TA]\n",
       "Index: []"
      ]
     },
     "execution_count": 6,
     "metadata": {},
     "output_type": "execute_result"
    }
   ],
   "source": [
    "df_by_store[df_by_store['storenumber'].isin(new_store_list)]\n",
    "\n",
    "# All of the new stores need to be added"
   ]
  },
  {
   "cell_type": "code",
   "execution_count": 7,
   "metadata": {},
   "outputs": [
    {
     "data": {
      "text/html": [
       "<div>\n",
       "<style>\n",
       "    .dataframe thead tr:only-child th {\n",
       "        text-align: right;\n",
       "    }\n",
       "\n",
       "    .dataframe thead th {\n",
       "        text-align: left;\n",
       "    }\n",
       "\n",
       "    .dataframe tbody tr th {\n",
       "        vertical-align: top;\n",
       "    }\n",
       "</style>\n",
       "<table border=\"1\" class=\"dataframe\">\n",
       "  <thead>\n",
       "    <tr style=\"text-align: right;\">\n",
       "      <th></th>\n",
       "      <th>storenumber</th>\n",
       "    </tr>\n",
       "  </thead>\n",
       "  <tbody>\n",
       "    <tr>\n",
       "      <th>0</th>\n",
       "      <td>1805</td>\n",
       "    </tr>\n",
       "    <tr>\n",
       "      <th>1</th>\n",
       "      <td>1727</td>\n",
       "    </tr>\n",
       "    <tr>\n",
       "      <th>2</th>\n",
       "      <td>1735</td>\n",
       "    </tr>\n",
       "    <tr>\n",
       "      <th>3</th>\n",
       "      <td>1787</td>\n",
       "    </tr>\n",
       "    <tr>\n",
       "      <th>4</th>\n",
       "      <td>1549</td>\n",
       "    </tr>\n",
       "  </tbody>\n",
       "</table>\n",
       "</div>"
      ],
      "text/plain": [
       "  storenumber\n",
       "0        1805\n",
       "1        1727\n",
       "2        1735\n",
       "3        1787\n",
       "4        1549"
      ]
     },
     "execution_count": 7,
     "metadata": {},
     "output_type": "execute_result"
    }
   ],
   "source": [
    "df_new_stores"
   ]
  },
  {
   "cell_type": "code",
   "execution_count": 8,
   "metadata": {
    "collapsed": true
   },
   "outputs": [],
   "source": [
    "TA_name=df_by_store[['storenumber','TA']].drop_duplicates()\n",
    "TA_name_count=TA_name.groupby(\"TA\")['storenumber'].count().to_frame().reset_index().rename(columns={\"storenumber\":\"store_count\"})\n",
    "TA_name_list=TA_name.groupby(\"TA\")['storenumber'].apply(list).to_frame().reset_index().rename(columns={\"storenumber\":\"store_list\"})\n",
    "TA_name=pd.merge(TA_name_count,TA_name_list,on=\"TA\",how=\"outer\")\n",
    "TA_name['store_count']=TA_name['store_count'].apply(lambda x: str(x))\n",
    "TA_name['store_list']=TA_name['store_list'].apply(lambda x: str(x))\n",
    "TA_name['TA_new_name']=TA_name['store_count']+\"_\"+TA_name['store_list']\n",
    "TA_name_dict=TA_name.set_index(\"TA\").to_dict()['TA_new_name']\n",
    "\n",
    "\n",
    "df_by_store['TA']=df_by_store['TA'].apply(lambda x: TA_name_dict[x])\n",
    "df_by_store=df_by_store.rename(columns={\"TA\":\"TA_new\"})\n"
   ]
  },
  {
   "cell_type": "code",
   "execution_count": 9,
   "metadata": {},
   "outputs": [
    {
     "data": {
      "text/html": [
       "<div>\n",
       "<style>\n",
       "    .dataframe thead tr:only-child th {\n",
       "        text-align: right;\n",
       "    }\n",
       "\n",
       "    .dataframe thead th {\n",
       "        text-align: left;\n",
       "    }\n",
       "\n",
       "    .dataframe tbody tr th {\n",
       "        vertical-align: top;\n",
       "    }\n",
       "</style>\n",
       "<table border=\"1\" class=\"dataframe\">\n",
       "  <thead>\n",
       "    <tr style=\"text-align: right;\">\n",
       "      <th></th>\n",
       "      <th>storenumber</th>\n",
       "      <th>Address</th>\n",
       "      <th>city</th>\n",
       "      <th>state</th>\n",
       "      <th>zip</th>\n",
       "      <th>StoreOpenDate</th>\n",
       "      <th>Latitude</th>\n",
       "      <th>Longitude</th>\n",
       "      <th>Ownership</th>\n",
       "      <th>Franchisee_Name</th>\n",
       "      <th>IPAddress</th>\n",
       "      <th>DriveThru</th>\n",
       "      <th>status</th>\n",
       "      <th>StoreCloseDate</th>\n",
       "      <th>used_lat</th>\n",
       "      <th>used_long</th>\n",
       "      <th>zips_3_miles</th>\n",
       "      <th>TA_new</th>\n",
       "    </tr>\n",
       "  </thead>\n",
       "  <tbody>\n",
       "    <tr>\n",
       "      <th>0</th>\n",
       "      <td>0000</td>\n",
       "      <td>7215 Veterans Memorial Blvd.</td>\n",
       "      <td>Metairie</td>\n",
       "      <td>LA</td>\n",
       "      <td>70003</td>\n",
       "      <td>1973-07-07 00:00:00</td>\n",
       "      <td>30.00589291</td>\n",
       "      <td>-90.22051644</td>\n",
       "      <td>Franchised</td>\n",
       "      <td>Steve Shields</td>\n",
       "      <td>70.183.114.37</td>\n",
       "      <td>Y</td>\n",
       "      <td>Same</td>\n",
       "      <td>nan</td>\n",
       "      <td>30.00589291</td>\n",
       "      <td>-90.22051644</td>\n",
       "      <td>['70062', '70141', '70006', '70065', '70003', ...</td>\n",
       "      <td>15_['0000', '0002', '0003', '0006', '0010', '0...</td>\n",
       "    </tr>\n",
       "    <tr>\n",
       "      <th>1</th>\n",
       "      <td>0002</td>\n",
       "      <td>4539 Veterans Blvd.</td>\n",
       "      <td>Metairie</td>\n",
       "      <td>LA</td>\n",
       "      <td>70006</td>\n",
       "      <td>1989-09-11 00:00:00</td>\n",
       "      <td>30.00581824</td>\n",
       "      <td>-90.18467266</td>\n",
       "      <td>Franchised</td>\n",
       "      <td>Steve Shields</td>\n",
       "      <td>108.65.143.116</td>\n",
       "      <td>N</td>\n",
       "      <td>Same</td>\n",
       "      <td>nan</td>\n",
       "      <td>30.00581824</td>\n",
       "      <td>-90.18467266</td>\n",
       "      <td>['70009', '70006', '70001', '70183', '70002', ...</td>\n",
       "      <td>15_['0000', '0002', '0003', '0006', '0010', '0...</td>\n",
       "    </tr>\n",
       "  </tbody>\n",
       "</table>\n",
       "</div>"
      ],
      "text/plain": [
       "  storenumber                       Address      city state    zip  \\\n",
       "0        0000  7215 Veterans Memorial Blvd.  Metairie    LA  70003   \n",
       "1        0002           4539 Veterans Blvd.  Metairie    LA  70006   \n",
       "\n",
       "         StoreOpenDate     Latitude     Longitude   Ownership Franchisee_Name  \\\n",
       "0  1973-07-07 00:00:00  30.00589291  -90.22051644  Franchised   Steve Shields   \n",
       "1  1989-09-11 00:00:00  30.00581824  -90.18467266  Franchised   Steve Shields   \n",
       "\n",
       "        IPAddress DriveThru status StoreCloseDate     used_lat     used_long  \\\n",
       "0   70.183.114.37         Y   Same            nan  30.00589291  -90.22051644   \n",
       "1  108.65.143.116         N   Same            nan  30.00581824  -90.18467266   \n",
       "\n",
       "                                        zips_3_miles  \\\n",
       "0  ['70062', '70141', '70006', '70065', '70003', ...   \n",
       "1  ['70009', '70006', '70001', '70183', '70002', ...   \n",
       "\n",
       "                                              TA_new  \n",
       "0  15_['0000', '0002', '0003', '0006', '0010', '0...  \n",
       "1  15_['0000', '0002', '0003', '0006', '0010', '0...  "
      ]
     },
     "execution_count": 9,
     "metadata": {},
     "output_type": "execute_result"
    }
   ],
   "source": [
    "df_by_store.head(2)"
   ]
  },
  {
   "cell_type": "code",
   "execution_count": 10,
   "metadata": {
    "collapsed": true
   },
   "outputs": [],
   "source": [
    "zip_TA=excel_output.parse(\"zip_TA\",dtype=str)\n",
    "zip_TA['TA']=zip_TA['TA'].apply(lambda x: TA_name_dict[x])\n",
    "zip_TA=zip_TA.rename(columns={\"TA\":\"TA_new\"})\n",
    "\n",
    "# The automatic run region is not updated\n",
    "del zip_TA['Co-Op/Regional']"
   ]
  },
  {
   "cell_type": "code",
   "execution_count": 11,
   "metadata": {},
   "outputs": [
    {
     "name": "stdout",
     "output_type": "stream",
     "text": [
      "[4]\n"
     ]
    }
   ],
   "source": [
    "region_by_store_file=pd.ExcelFile(\"/home/jian/Projects/Smoothie_King/adjust_for_pending_stores/region_mapping/Updated RAF List - Number of Opened Stores-2019-09-13.xlsx\")\n",
    "mapping_store_region=region_by_store_file.parse('All Stores',dtype=str)\n",
    "mapping_store_region=mapping_store_region[['Store: Store Number  ↑','Co-Op/Regional  ↑']]\n",
    "mapping_store_region.columns=['store','Co-Op/Regional']\n",
    "mapping_store_region['store']=mapping_store_region['store'].apply(lambda x: x.replace(\"SK-\",\"\"))\n",
    "print(mapping_store_region['store'].apply(lambda x: len(x)).unique())\n",
    "\n",
    "zip_TA=pd.merge(zip_TA,mapping_store_region,on=\"store\",how=\"left\")\n",
    "zip_TA['Co-Op/Regional']=zip_TA['Co-Op/Regional'].fillna(\"Unknown\")"
   ]
  },
  {
   "cell_type": "code",
   "execution_count": 12,
   "metadata": {
    "collapsed": true
   },
   "outputs": [],
   "source": [
    "dict_new_stores={}\n",
    "\n",
    "# 1805\t4986 Steiner Way Suite 3 Grovetown, GA 30813\n",
    "dict_new_stores.update({\"1805\":{\"GoogleAddress\":\"4986 Steiner Way #3, Grovetown, GA 30813\",\"Google_LatLng\":[33.4806824,-82.1987107]}})\n",
    "\n",
    "# 1727\t301 Central Avuenue, Unit 7 Clark, NJ 07066\n",
    "dict_new_stores.update({\"1727\":{\"GoogleAddress\":\"301 Central Ave #7, Clark, NJ 07066\",\"Google_LatLng\":[40.6317773,-74.3137618]}})\n",
    "\n",
    "# 1735\t10225 Ocean Highway Suite 601 Pawleys Island, SC 29585\n",
    "dict_new_stores.update({\"1735\":{\"GoogleAddress\":\"10225 Ocean Hwy #601, Pawleys Island, SC 29585\",\"Google_LatLng\":[33.4378257,-79.1320184]}})\n",
    "\n",
    "# 1787\t317 Homer Adams Parkway, STE L Alton, IL 62002\n",
    "dict_new_stores.update({\"1787\":{\"GoogleAddress\":\"317 Homer Adams Pkwy STE L, Alton, IL 62002\",\"Google_LatLng\":[38.9189721,-90.1711105]}})\n",
    "\n",
    "# 1549\t2426 SE Military, Building 700 San Antonio, TX 78223\n",
    "dict_new_stores.update({\"1549\":{\"GoogleAddress\":\"2426 SE Military Dr Building 700, San Antonio, TX 78223\",\"Google_LatLng\":[29.3517249,-98.4541786]}})\n",
    "\n"
   ]
  },
  {
   "cell_type": "code",
   "execution_count": 14,
   "metadata": {},
   "outputs": [],
   "source": [
    "df_new_stores['GoogleAddress']=df_new_stores['storenumber'].apply(lambda x: dict_new_stores[x]['GoogleAddress'])\n",
    "df_new_stores['GoogleLatitude']=df_new_stores['storenumber'].apply(lambda x: dict_new_stores[x]['Google_LatLng'][0])\n",
    "df_new_stores['GoogleLongitude']=df_new_stores['storenumber'].apply(lambda x: dict_new_stores[x]['Google_LatLng'][1])\n"
   ]
  },
  {
   "cell_type": "code",
   "execution_count": 15,
   "metadata": {
    "collapsed": true
   },
   "outputs": [],
   "source": [
    "df_new_stores['zips_3_miles']=np.nan\n",
    "\n",
    "for ind,row in df_new_stores.iterrows():\n",
    "    store_center=(row['GoogleLatitude'],row['GoogleLongitude'])\n",
    "    zip_list=[]\n",
    "    for zip_cd in zip_centers.keys():\n",
    "        dist=haversine(store_center,zip_centers[zip_cd],miles=True)\n",
    "        if dist<=3:\n",
    "            zip_list.extend([zip_cd])\n",
    "    df_new_stores.loc[ind,'zips_3_miles']=str(zip_list)\n"
   ]
  },
  {
   "cell_type": "code",
   "execution_count": 16,
   "metadata": {},
   "outputs": [
    {
     "data": {
      "text/html": [
       "<div>\n",
       "<style>\n",
       "    .dataframe thead tr:only-child th {\n",
       "        text-align: right;\n",
       "    }\n",
       "\n",
       "    .dataframe thead th {\n",
       "        text-align: left;\n",
       "    }\n",
       "\n",
       "    .dataframe tbody tr th {\n",
       "        vertical-align: top;\n",
       "    }\n",
       "</style>\n",
       "<table border=\"1\" class=\"dataframe\">\n",
       "  <thead>\n",
       "    <tr style=\"text-align: right;\">\n",
       "      <th></th>\n",
       "      <th>storenumber</th>\n",
       "      <th>GoogleAddress</th>\n",
       "      <th>GoogleLatitude</th>\n",
       "      <th>GoogleLongitude</th>\n",
       "      <th>zips_3_miles</th>\n",
       "    </tr>\n",
       "  </thead>\n",
       "  <tbody>\n",
       "    <tr>\n",
       "      <th>0</th>\n",
       "      <td>1805</td>\n",
       "      <td>4986 Steiner Way #3, Grovetown, GA 30813</td>\n",
       "      <td>33.480682</td>\n",
       "      <td>-82.198711</td>\n",
       "      <td>['30813']</td>\n",
       "    </tr>\n",
       "    <tr>\n",
       "      <th>1</th>\n",
       "      <td>1727</td>\n",
       "      <td>301 Central Ave #7, Clark, NJ 07066</td>\n",
       "      <td>40.631777</td>\n",
       "      <td>-74.313762</td>\n",
       "      <td>['07027', '07033', '07066', '07067', '07065', ...</td>\n",
       "    </tr>\n",
       "    <tr>\n",
       "      <th>2</th>\n",
       "      <td>1735</td>\n",
       "      <td>10225 Ocean Hwy #601, Pawleys Island, SC 29585</td>\n",
       "      <td>33.437826</td>\n",
       "      <td>-79.132018</td>\n",
       "      <td>['29585']</td>\n",
       "    </tr>\n",
       "    <tr>\n",
       "      <th>3</th>\n",
       "      <td>1787</td>\n",
       "      <td>317 Homer Adams Pkwy STE L, Alton, IL 62002</td>\n",
       "      <td>38.918972</td>\n",
       "      <td>-90.171110</td>\n",
       "      <td>['62002']</td>\n",
       "    </tr>\n",
       "    <tr>\n",
       "      <th>4</th>\n",
       "      <td>1549</td>\n",
       "      <td>2426 SE Military Dr Building 700, San Antonio,...</td>\n",
       "      <td>29.351725</td>\n",
       "      <td>-98.454179</td>\n",
       "      <td>['78235', '78214', '78223']</td>\n",
       "    </tr>\n",
       "  </tbody>\n",
       "</table>\n",
       "</div>"
      ],
      "text/plain": [
       "  storenumber                                      GoogleAddress  \\\n",
       "0        1805           4986 Steiner Way #3, Grovetown, GA 30813   \n",
       "1        1727                301 Central Ave #7, Clark, NJ 07066   \n",
       "2        1735     10225 Ocean Hwy #601, Pawleys Island, SC 29585   \n",
       "3        1787        317 Homer Adams Pkwy STE L, Alton, IL 62002   \n",
       "4        1549  2426 SE Military Dr Building 700, San Antonio,...   \n",
       "\n",
       "   GoogleLatitude  GoogleLongitude  \\\n",
       "0       33.480682       -82.198711   \n",
       "1       40.631777       -74.313762   \n",
       "2       33.437826       -79.132018   \n",
       "3       38.918972       -90.171110   \n",
       "4       29.351725       -98.454179   \n",
       "\n",
       "                                        zips_3_miles  \n",
       "0                                          ['30813']  \n",
       "1  ['07027', '07033', '07066', '07067', '07065', ...  \n",
       "2                                          ['29585']  \n",
       "3                                          ['62002']  \n",
       "4                        ['78235', '78214', '78223']  "
      ]
     },
     "execution_count": 16,
     "metadata": {},
     "output_type": "execute_result"
    }
   ],
   "source": [
    "df_new_stores"
   ]
  },
  {
   "cell_type": "code",
   "execution_count": 17,
   "metadata": {},
   "outputs": [],
   "source": [
    "cols=zip_TA.columns.tolist()\n",
    "zip_ta_new_stores=pd.DataFrame(columns=zip_TA.columns.tolist())\n",
    "for ind, row in df_new_stores.iterrows():\n",
    "    store=row['storenumber']\n",
    "    zip_list=eval(row['zips_3_miles'])\n",
    "    df=pd.DataFrame({\"zip\":zip_list},index=[store]*len(zip_list)).reset_index().rename(columns={\"index\":\"store\"})\n",
    "    df['TA_new']=\"new_stores\"\n",
    "    df['Primary_DMA']=\"new_stores\"\n",
    "    df['Co-Op/Regional']=\"Unknown\"\n",
    "    zip_ta_new_stores=zip_ta_new_stores.append(df)\n",
    "zip_ta_new_stores=zip_ta_new_stores[cols]"
   ]
  },
  {
   "cell_type": "code",
   "execution_count": 18,
   "metadata": {
    "collapsed": true
   },
   "outputs": [],
   "source": [
    "zip_TA=zip_TA.append(zip_ta_new_stores)\n",
    "df_TA_zips=zip_TA.copy()"
   ]
  },
  {
   "cell_type": "code",
   "execution_count": 19,
   "metadata": {},
   "outputs": [],
   "source": [
    "for region,df_group in df_TA_zips.groupby(\"Co-Op/Regional\"):\n",
    "    if region!=\"UnknowRegion\":\n",
    "        df_group=df_group[['zip','Co-Op/Regional']].drop_duplicates()\n",
    "        df_group.to_csv(writer_folder+\"zips_for_the_%s.csv\"%region,index=False)\n",
    "    else:\n",
    "        # df_austin=df_group[df_group['store'].isin(Austin_stores['store'].tolist())]\n",
    "        df_unknown=df_group[~df_group['store'].isin(Austin_stores['store'].tolist())]\n",
    "\n",
    "        # df_austin.to_csv(writer_folder+\"zips_for_the_%s.csv\"%\"AustinDMA\",index=False)\n",
    "        df_unknown.to_csv(writer_folder+\"zips_for_the_%s.csv\"%\"UnknownRegion\",index=False)\n",
    "df_output_overall_zips=df_TA_zips[['zip']].drop_duplicates()\n",
    "df_output_overall_zips.to_csv(writer_folder+\"overall_zips_in_TA.csv\",index=False)"
   ]
  },
  {
   "cell_type": "code",
   "execution_count": 20,
   "metadata": {
    "collapsed": true
   },
   "outputs": [],
   "source": [
    "writer=pd.ExcelWriter(writer_folder+\"SmoothieKing_TA_of_3_miles_zips_JL_\"+str(datetime.datetime.now().date())+\".xlsx\",engine=\"xlsxwriter\")\n",
    "df_TA_zips.to_excel(writer,\"df_TA_zips\",index=False)\n",
    "df_new_stores.to_excel(writer,\"new_stores_add_on\",index=False)\n",
    "df_by_store.to_excel(writer,\"df_by_store\",index=False)\n",
    "rfa_mapping=pd.read_excel(\"/home/jian/Projects/Smoothie_King/SK_celery/RFA_region_20190128.xlsx\",dtype=str)\n",
    "rfa_mapping.to_excel(writer,\"RFA_region_20190128\",index=False)\n",
    "writer.save()"
   ]
  },
  {
   "cell_type": "code",
   "execution_count": null,
   "metadata": {
    "collapsed": true
   },
   "outputs": [],
   "source": []
  }
 ],
 "metadata": {
  "kernelspec": {
   "display_name": "Python 3",
   "language": "python",
   "name": "python3"
  },
  "language_info": {
   "codemirror_mode": {
    "name": "ipython",
    "version": 3
   },
   "file_extension": ".py",
   "mimetype": "text/x-python",
   "name": "python",
   "nbconvert_exporter": "python",
   "pygments_lexer": "ipython3",
   "version": "3.6.1"
  }
 },
 "nbformat": 4,
 "nbformat_minor": 2
}
