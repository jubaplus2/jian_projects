{
 "cells": [
  {
   "cell_type": "code",
   "execution_count": 1,
   "metadata": {
    "collapsed": true
   },
   "outputs": [],
   "source": [
    "# talk with Jay about the missing zips\n",
    "\n",
    "import json\n",
    "import pandas as pd\n",
    "import os\n",
    "import glob\n",
    "json_list=glob.glob(\"/home/jian/Projects/Big Lots/Weather/jsons/*.json\")"
   ]
  },
  {
   "cell_type": "code",
   "execution_count": 2,
   "metadata": {
    "collapsed": true
   },
   "outputs": [],
   "source": [
    "store_list=pd.read_csv(\"/home/jian/BigLots/static_files/MediaStormStoreList_Nov15.txt\",sep=\"|\",dtype=str)\n",
    "store_list=store_list[['location_id','city_nm','state_nm','zip_cd']]\n",
    "store_list['zip']=store_list['zip_cd'].apply(lambda x: str.split(x,'-')[0])\n",
    "store_list['zip']=store_list['zip'].astype(int)\n",
    "\n",
    "zip_dma=pd.read_csv(\"/home/jian/BiglotsCode/OtherInput/zipdmamapping.csv\")\n",
    "zip_dma.columns=['zip','DMA']\n",
    "zip_dma['zip']=zip_dma['zip'].astype(int)\n",
    "store_list=pd.merge(store_list,zip_dma,on='zip',how='left')\n",
    "del store_list['zip_cd']"
   ]
  },
  {
   "cell_type": "code",
   "execution_count": 4,
   "metadata": {},
   "outputs": [
    {
     "data": {
      "text/plain": [
       "1435"
      ]
     },
     "execution_count": 4,
     "metadata": {},
     "output_type": "execute_result"
    }
   ],
   "source": [
    "len(json.load(open(\"/home/jian/Projects/Big Lots/Weather/jsons/2017-12-19.json\", 'r')))"
   ]
  },
  {
   "cell_type": "code",
   "execution_count": 3,
   "metadata": {
    "collapsed": true
   },
   "outputs": [],
   "source": [
    "response_list=[]\n",
    "date_list=[]\n",
    "output=pd.DataFrame()\n",
    "\n",
    "\n",
    "for f in json_list:\n",
    "    response=json.load(open(f,'r'))\n",
    "    date=f.split('.')[0][(len(f.split('.')[0])-10):len(f.split('.')[0])]\n",
    "    df_day=pd.DataFrame(response)\n",
    "    df=pd.DataFrame()\n",
    "    df_date=pd.DataFrame()\n",
    "    for i in range(len(df_day.columns)):\n",
    "        zip_cd=df_day.columns[i]   \n",
    "        temp=response[zip_cd]['main']['temp']\n",
    "        humidity=response[zip_cd]['main']['humidity']\n",
    "        pressure=response[zip_cd]['main']['pressure']\n",
    "        weather_types=len(response[zip_cd]['weather'])\n",
    "        wind_speed=response[zip_cd]['wind']['speed']\n",
    "        if 'visibility' in response[zip_cd].keys():\n",
    "            visibility=response[zip_cd]['visibility']\n",
    "        else: \n",
    "            visibility= float('NaN')\n",
    "        lat=response[zip_cd]['coord']['lat']\n",
    "        lon=response[zip_cd]['coord']['lon']\n",
    "        # df_weather=pd.DataFrame({'index':i},{'zip':zip_cd},{'weather':weather}).T    \n",
    "        weather = []\n",
    "        for j in range(weather_types):\n",
    "            weather = weather+[response[zip_cd]['weather'][j]['main']]\n",
    "\n",
    "        df_weather=pd.DataFrame([i,zip_cd,temp,weather,weather_types,pressure,humidity,wind_speed,visibility,lat,lon]).T\n",
    "        df_weather.columns=['index','zip','temperature','weather','weather_types','pressure','humidity','wind_speed','visibility','lat_weather_record','lon_weather_recort']\n",
    "        df_weather.reset_index(inplace=True)\n",
    "\n",
    "        df=df.append(df_weather)\n",
    "    \n",
    "    df['date']=date\n",
    "    df['zip']=df['zip'].astype(int)\n",
    "    del df['level_0']\n",
    "    del df['index']\n",
    "    df_date=pd.merge(store_list,df,on='zip',how='left')\n",
    "\n",
    "        #del df_weather['level_0']\n",
    "        #del df_weather['index']\n",
    "    output=output.append(df_date)\n",
    "#output['location_id']=output['location_id'].astype(float)\n",
    "#output=output.sort_values(['date','location_id'])    "
   ]
  },
  {
   "cell_type": "code",
   "execution_count": 452,
   "metadata": {
    "collapsed": true
   },
   "outputs": [],
   "source": [
    "output.to_csv(\"/home/jian/Projects/Big Lots/Weather/example.csv\",index=False)"
   ]
  },
  {
   "cell_type": "code",
   "execution_count": null,
   "metadata": {
    "collapsed": true
   },
   "outputs": [],
   "source": []
  },
  {
   "cell_type": "code",
   "execution_count": null,
   "metadata": {
    "collapsed": true
   },
   "outputs": [],
   "source": []
  },
  {
   "cell_type": "code",
   "execution_count": null,
   "metadata": {
    "collapsed": true
   },
   "outputs": [],
   "source": []
  },
  {
   "cell_type": "code",
   "execution_count": null,
   "metadata": {
    "collapsed": true
   },
   "outputs": [],
   "source": []
  },
  {
   "cell_type": "code",
   "execution_count": null,
   "metadata": {
    "collapsed": true
   },
   "outputs": [],
   "source": []
  },
  {
   "cell_type": "code",
   "execution_count": null,
   "metadata": {
    "collapsed": true
   },
   "outputs": [],
   "source": []
  },
  {
   "cell_type": "code",
   "execution_count": 445,
   "metadata": {},
   "outputs": [
    {
     "data": {
      "text/plain": [
       "(5728, 17)"
      ]
     },
     "execution_count": 445,
     "metadata": {},
     "output_type": "execute_result"
    }
   ],
   "source": [
    "output.shape"
   ]
  },
  {
   "cell_type": "code",
   "execution_count": 448,
   "metadata": {},
   "outputs": [
    {
     "data": {
      "text/plain": [
       "False"
      ]
     },
     "execution_count": 448,
     "metadata": {},
     "output_type": "execute_result"
    }
   ],
   "source": [
    "'28562' in df_day.columns"
   ]
  },
  {
   "cell_type": "code",
   "execution_count": 433,
   "metadata": {
    "collapsed": true
   },
   "outputs": [],
   "source": [
    "response=json.load(open(json_list[0],'r'))"
   ]
  },
  {
   "cell_type": "code",
   "execution_count": 434,
   "metadata": {
    "collapsed": true
   },
   "outputs": [],
   "source": [
    "df_day=pd.DataFrame(response)"
   ]
  },
  {
   "cell_type": "code",
   "execution_count": 435,
   "metadata": {},
   "outputs": [
    {
     "data": {
      "text/plain": [
       "(12, 1435)"
      ]
     },
     "execution_count": 435,
     "metadata": {},
     "output_type": "execute_result"
    }
   ],
   "source": [
    "df_day.shape"
   ]
  },
  {
   "cell_type": "code",
   "execution_count": 436,
   "metadata": {},
   "outputs": [
    {
     "data": {
      "text/plain": [
       "1435"
      ]
     },
     "execution_count": 436,
     "metadata": {},
     "output_type": "execute_result"
    }
   ],
   "source": [
    "len(df_day.columns)"
   ]
  },
  {
   "cell_type": "code",
   "execution_count": 441,
   "metadata": {
    "collapsed": true
   },
   "outputs": [],
   "source": [
    "zip_cd=df_day.columns[1]   "
   ]
  },
  {
   "cell_type": "code",
   "execution_count": 442,
   "metadata": {
    "collapsed": true
   },
   "outputs": [],
   "source": [
    "temp=response[zip_cd]['main']['temp']\n",
    "humidity=response[zip_cd]['main']['humidity']\n",
    "pressure=response[zip_cd]['main']['pressure']\n",
    "weather_types=len(response[zip_cd]['weather'])\n",
    "wind_speed=response[zip_cd]['wind']['speed']\n",
    "if 'visibility' in response[zip_cd].keys():\n",
    "    visibility=response[zip_cd]['visibility']\n",
    "else: \n",
    "    visibility= float('NaN')\n",
    "lat=response[zip_cd]['coord']['lat']\n",
    "lon=response[zip_cd]['coord']['lon']\n",
    "# df_weather=pd.DataFrame({'index':i},{'zip':zip_cd},{'weather':weather}).T    \n",
    "weather = []\n",
    "for j in range(weather_types):\n",
    "    weather = weather+[response[zip_cd]['weather'][j]['main']]\n",
    "\n",
    "df_weather=pd.DataFrame([i,zip_cd,temp,weather,weather_types,pressure,humidity,wind_speed,visibility,lat,lon]).T\n",
    "df_weather.columns=['index','zip','temperature','weather','weather_types','pressure','humidity','wind_speed','visibility','lat_weather_record','lon_weather_recort']\n",
    "df_weather.reset_index(inplace=True)"
   ]
  },
  {
   "cell_type": "code",
   "execution_count": 443,
   "metadata": {},
   "outputs": [
    {
     "data": {
      "text/html": [
       "<div>\n",
       "<style>\n",
       "    .dataframe thead tr:only-child th {\n",
       "        text-align: right;\n",
       "    }\n",
       "\n",
       "    .dataframe thead th {\n",
       "        text-align: left;\n",
       "    }\n",
       "\n",
       "    .dataframe tbody tr th {\n",
       "        vertical-align: top;\n",
       "    }\n",
       "</style>\n",
       "<table border=\"1\" class=\"dataframe\">\n",
       "  <thead>\n",
       "    <tr style=\"text-align: right;\">\n",
       "      <th></th>\n",
       "      <th>level_0</th>\n",
       "      <th>index</th>\n",
       "      <th>zip</th>\n",
       "      <th>temperature</th>\n",
       "      <th>weather</th>\n",
       "      <th>weather_types</th>\n",
       "      <th>pressure</th>\n",
       "      <th>humidity</th>\n",
       "      <th>wind_speed</th>\n",
       "      <th>visibility</th>\n",
       "      <th>lat_weather_record</th>\n",
       "      <th>lon_weather_recort</th>\n",
       "    </tr>\n",
       "  </thead>\n",
       "  <tbody>\n",
       "    <tr>\n",
       "      <th>0</th>\n",
       "      <td>0</td>\n",
       "      <td>1433</td>\n",
       "      <td>01089</td>\n",
       "      <td>271.72</td>\n",
       "      <td>[Snow]</td>\n",
       "      <td>1</td>\n",
       "      <td>1018</td>\n",
       "      <td>50</td>\n",
       "      <td>1.37</td>\n",
       "      <td>16093</td>\n",
       "      <td>42.12</td>\n",
       "      <td>-72.64</td>\n",
       "    </tr>\n",
       "  </tbody>\n",
       "</table>\n",
       "</div>"
      ],
      "text/plain": [
       "   level_0 index    zip temperature weather weather_types pressure humidity  \\\n",
       "0        0  1433  01089      271.72  [Snow]             1     1018       50   \n",
       "\n",
       "  wind_speed visibility lat_weather_record lon_weather_recort  \n",
       "0       1.37      16093              42.12             -72.64  "
      ]
     },
     "execution_count": 443,
     "metadata": {},
     "output_type": "execute_result"
    }
   ],
   "source": [
    "df_weather"
   ]
  },
  {
   "cell_type": "code",
   "execution_count": 454,
   "metadata": {},
   "outputs": [
    {
     "data": {
      "text/plain": [
       "False"
      ]
     },
     "execution_count": 454,
     "metadata": {},
     "output_type": "execute_result"
    }
   ],
   "source": [
    "'30046' in df_day.columns"
   ]
  },
  {
   "cell_type": "code",
   "execution_count": 455,
   "metadata": {},
   "outputs": [
    {
     "data": {
      "text/plain": [
       "1434"
      ]
     },
     "execution_count": 455,
     "metadata": {},
     "output_type": "execute_result"
    }
   ],
   "source": [
    "len(df_day.columns)"
   ]
  },
  {
   "cell_type": "code",
   "execution_count": null,
   "metadata": {
    "collapsed": true
   },
   "outputs": [],
   "source": []
  }
 ],
 "metadata": {
  "kernelspec": {
   "display_name": "Python 3",
   "language": "python",
   "name": "python3"
  },
  "language_info": {
   "codemirror_mode": {
    "name": "ipython",
    "version": 3
   },
   "file_extension": ".py",
   "mimetype": "text/x-python",
   "name": "python",
   "nbconvert_exporter": "python",
   "pygments_lexer": "ipython3",
   "version": "3.6.1"
  }
 },
 "nbformat": 4,
 "nbformat_minor": 1
}
