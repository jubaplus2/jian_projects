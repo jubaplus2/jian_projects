{
 "cells": [
  {
   "cell_type": "code",
   "execution_count": 1,
   "metadata": {
    "collapsed": true
   },
   "outputs": [],
   "source": [
    "import pandas as pd\n",
    "import geocoder\n",
    "from haversine import haversine\n",
    "import numpy as np\n",
    "import datetime"
   ]
  },
  {
   "cell_type": "code",
   "execution_count": 2,
   "metadata": {
    "collapsed": true
   },
   "outputs": [],
   "source": [
    "store_list=pd.read_excel(\"/home/jian/Projects/Smoothie_King/TA/StoreList.xlsx\",dtype=str)\n",
    "closed_stores=store_list[store_list['status']==\"Closed\"].reset_index()\n",
    "\n",
    "store_list=store_list[~store_list['status'].isin([\"Closed\",\"NonComp\"])].reset_index()\n",
    "del store_list['index']"
   ]
  },
  {
   "cell_type": "code",
   "execution_count": 3,
   "metadata": {
    "collapsed": true
   },
   "outputs": [],
   "source": [
    "store_list['search_key_1']=store_list['Address']+\", \"+store_list['city']+\", \"+store_list['state']+\", \"+store_list['zip']\n",
    "store_list['search_key_2']=\"Smoothie King\"+\",\"+store_list['Address']+\", \"+store_list['city']+\", \"+store_list['state']+\", \"+store_list['zip']\n",
    "\n",
    "store_list['Bing_Address_1']=np.nan\n",
    "store_list['Bing_Lat_1']=np.nan\n",
    "store_list['Bing_Lng_1']=np.nan\n",
    "\n",
    "store_list['Bing_Address_2']=np.nan\n",
    "store_list['Bing_Lat_2']=np.nan\n",
    "store_list['Bing_Lng_2']=np.nan"
   ]
  },
  {
   "cell_type": "code",
   "execution_count": 21,
   "metadata": {},
   "outputs": [
    {
     "name": "stderr",
     "output_type": "stream",
     "text": [
      "/usr/local/lib/python3.6/site-packages/ipykernel_launcher.py:16: SettingWithCopyWarning: \n",
      "A value is trying to be set on a copy of a slice from a DataFrame\n",
      "\n",
      "See the caveats in the documentation: http://pandas.pydata.org/pandas-docs/stable/indexing.html#indexing-view-versus-copy\n",
      "  app.launch_new_instance()\n",
      "/usr/local/lib/python3.6/site-packages/pandas/core/indexing.py:179: SettingWithCopyWarning: \n",
      "A value is trying to be set on a copy of a slice from a DataFrame\n",
      "\n",
      "See the caveats in the documentation: http://pandas.pydata.org/pandas-docs/stable/indexing.html#indexing-view-versus-copy\n",
      "  self._setitem_with_indexer(indexer, value)\n",
      "/usr/local/lib/python3.6/site-packages/ipykernel_launcher.py:17: SettingWithCopyWarning: \n",
      "A value is trying to be set on a copy of a slice from a DataFrame\n",
      "\n",
      "See the caveats in the documentation: http://pandas.pydata.org/pandas-docs/stable/indexing.html#indexing-view-versus-copy\n",
      "/usr/local/lib/python3.6/site-packages/ipykernel_launcher.py:18: SettingWithCopyWarning: \n",
      "A value is trying to be set on a copy of a slice from a DataFrame\n",
      "\n",
      "See the caveats in the documentation: http://pandas.pydata.org/pandas-docs/stable/indexing.html#indexing-view-versus-copy\n",
      "/usr/local/lib/python3.6/site-packages/ipykernel_launcher.py:20: SettingWithCopyWarning: \n",
      "A value is trying to be set on a copy of a slice from a DataFrame\n",
      "\n",
      "See the caveats in the documentation: http://pandas.pydata.org/pandas-docs/stable/indexing.html#indexing-view-versus-copy\n",
      "/usr/local/lib/python3.6/site-packages/ipykernel_launcher.py:21: SettingWithCopyWarning: \n",
      "A value is trying to be set on a copy of a slice from a DataFrame\n",
      "\n",
      "See the caveats in the documentation: http://pandas.pydata.org/pandas-docs/stable/indexing.html#indexing-view-versus-copy\n",
      "/usr/local/lib/python3.6/site-packages/ipykernel_launcher.py:22: SettingWithCopyWarning: \n",
      "A value is trying to be set on a copy of a slice from a DataFrame\n",
      "\n",
      "See the caveats in the documentation: http://pandas.pydata.org/pandas-docs/stable/indexing.html#indexing-view-versus-copy\n"
     ]
    }
   ],
   "source": [
    "geo_key=\"AuR1ORKdndGqHaD4jiql1C5Inwmc5BOqJrlo5joEAb2Yljp5aizGIN7IVoxJNcim\"\n",
    "\n",
    "for i in range(len(store_list)):\n",
    "    search_key_1=store_list['search_key_1'][i]\n",
    "    response_1=geocoder.bing(search_key_1,key=geo_key)\n",
    "    lat1=response_1.latlng[0]\n",
    "    lng1=response_1.latlng[1]\n",
    "    Add1=response_1.address\n",
    "    \n",
    "    search_key_2=store_list['search_key_2'][i]\n",
    "    response_2=geocoder.bing(search_key_2,key=geo_key)\n",
    "    lat2=response_2.latlng[0]\n",
    "    lng2=response_2.latlng[1]\n",
    "    Add2=response_2.address\n",
    "    \n",
    "    store_list['Bing_Address_1'][i]=Add1\n",
    "    store_list['Bing_Lat_1'][i]=lat1\n",
    "    store_list['Bing_Lng_1'][i]=lng1\n",
    "    \n",
    "    store_list['Bing_Address_2'][i]=Add2\n",
    "    store_list['Bing_Lat_2'][i]=lat2\n",
    "    store_list['Bing_Lng_2'][i]=lng2    \n",
    "    "
   ]
  },
  {
   "cell_type": "code",
   "execution_count": 28,
   "metadata": {},
   "outputs": [
    {
     "name": "stderr",
     "output_type": "stream",
     "text": [
      "/usr/local/lib/python3.6/site-packages/ipykernel_launcher.py:14: SettingWithCopyWarning: \n",
      "A value is trying to be set on a copy of a slice from a DataFrame\n",
      "\n",
      "See the caveats in the documentation: http://pandas.pydata.org/pandas-docs/stable/indexing.html#indexing-view-versus-copy\n",
      "  \n",
      "/usr/local/lib/python3.6/site-packages/ipykernel_launcher.py:15: SettingWithCopyWarning: \n",
      "A value is trying to be set on a copy of a slice from a DataFrame\n",
      "\n",
      "See the caveats in the documentation: http://pandas.pydata.org/pandas-docs/stable/indexing.html#indexing-view-versus-copy\n",
      "  from ipykernel import kernelapp as app\n"
     ]
    }
   ],
   "source": [
    "store_list['Distance_1']=np.nan\n",
    "store_list['Distance_2']=np.nan\n",
    "store_list['Latitude']=store_list['Latitude'].astype(float)\n",
    "store_list['Longitude']=store_list['Longitude'].astype(float)\n",
    "for i in range(len(store_list)):\n",
    "    store_center=[store_list['Latitude'][i],store_list['Longitude'][i]]\n",
    "    Bing_1=[store_list['Bing_Lat_1'][i],store_list['Bing_Lng_1'][i]]\n",
    "    dist_1=haversine(store_center,Bing_1,miles=True)\n",
    "    \n",
    "\n",
    "    Bing_2=[store_list['Bing_Lat_2'][i],store_list['Bing_Lng_2'][i]]\n",
    "    dist_2=haversine(store_center,Bing_2,miles=True)\n",
    "    \n",
    "    store_list['Distance_1'][i]=dist_1\n",
    "    store_list['Distance_2'][i]=dist_2"
   ]
  },
  {
   "cell_type": "code",
   "execution_count": 29,
   "metadata": {},
   "outputs": [
    {
     "data": {
      "text/plain": [
       "'/home/jian/Projects/Smoothie_King/TA'"
      ]
     },
     "execution_count": 29,
     "metadata": {},
     "output_type": "execute_result"
    }
   ],
   "source": [
    "import os\n",
    "os.getcwd()"
   ]
  },
  {
   "cell_type": "code",
   "execution_count": 31,
   "metadata": {
    "collapsed": true
   },
   "outputs": [],
   "source": [
    "original_store_list=pd.read_excel(\"/home/jian/Projects/Smoothie_King/TA/StoreList.xlsx\",dtype=str)\n",
    "\n",
    "\n",
    "writer=pd.ExcelWriter(\"/home/jian/Projects/Smoothie_King/TA/Check_Original_Lat_Lng_JL_\"+str(datetime.datetime.now().date())+\".xlsx\",engine=\"xlsxwriter\")\n",
    "store_list.to_excel(writer,\"check_latlng\",index=False)\n",
    "original_store_list.to_excel(writer,\"original_store\",index=False)\n",
    "writer.save()\n"
   ]
  },
  {
   "cell_type": "code",
   "execution_count": 41,
   "metadata": {},
   "outputs": [
    {
     "name": "stdout",
     "output_type": "stream",
     "text": [
      "1926 28th Ave N, Bessemer, AL 35023 33.424186063295 -86.9853630399516\n"
     ]
    }
   ],
   "source": [
    "search_key_test=\"Smoothie King, 1926 28th Ave. South, Birmingham, AL, 35209\"\n",
    "response_1=geocoder.bing(search_key_test,key=geo_key)\n",
    "lat1=response_1.latlng[0]\n",
    "lng1=response_1.latlng[1]\n",
    "Add1=response_1.address\n",
    "print(Add1, lat1, lng1)"
   ]
  },
  {
   "cell_type": "code",
   "execution_count": 36,
   "metadata": {},
   "outputs": [
    {
     "data": {
      "text/plain": [
       "{'address': 'Fort Bliss, TX',\n",
       " 'bbox': {'northeast': [31.8377571105957, -106.363777160645],\n",
       "  'southwest': [31.7889938354492, -106.440589904785]},\n",
       " 'city': 'Fort Bliss',\n",
       " 'confidence': 5,\n",
       " 'country': 'United States',\n",
       " 'lat': 31.813570022583,\n",
       " 'lng': -106.412239074707,\n",
       " 'ok': True,\n",
       " 'quality': 'PopulatedPlace',\n",
       " 'raw': {'__type': 'Location:http://schemas.microsoft.com/search/local/ws/rest/v1',\n",
       "  'address': {'adminDistrict': 'TX',\n",
       "   'adminDistrict2': 'El Paso County',\n",
       "   'countryRegion': 'United States',\n",
       "   'formattedAddress': 'Fort Bliss, TX',\n",
       "   'locality': 'Fort Bliss'},\n",
       "  'bbox': [31.7889938354492,\n",
       "   -106.440589904785,\n",
       "   31.8377571105957,\n",
       "   -106.363777160645],\n",
       "  'confidence': 'Medium',\n",
       "  'entityType': 'PopulatedPlace',\n",
       "  'geocodePoints': [{'calculationMethod': 'Rooftop',\n",
       "    'coordinates': [31.813570022583, -106.412239074707],\n",
       "    'type': 'Point',\n",
       "    'usageTypes': ['Display']}],\n",
       "  'matchCodes': ['UpHierarchy'],\n",
       "  'name': 'Fort Bliss, TX',\n",
       "  'point': {'coordinates': [31.813570022583, -106.412239074707],\n",
       "   'type': 'Point'}},\n",
       " 'state': 'TX',\n",
       " 'status': 'OK'}"
      ]
     },
     "execution_count": 36,
     "metadata": {},
     "output_type": "execute_result"
    }
   ],
   "source": [
    "response_1.json"
   ]
  },
  {
   "cell_type": "code",
   "execution_count": null,
   "metadata": {
    "collapsed": true
   },
   "outputs": [],
   "source": []
  }
 ],
 "metadata": {
  "kernelspec": {
   "display_name": "Python 3",
   "language": "python",
   "name": "python3"
  },
  "language_info": {
   "codemirror_mode": {
    "name": "ipython",
    "version": 3
   },
   "file_extension": ".py",
   "mimetype": "text/x-python",
   "name": "python",
   "nbconvert_exporter": "python",
   "pygments_lexer": "ipython3",
   "version": "3.6.1"
  }
 },
 "nbformat": 4,
 "nbformat_minor": 2
}
