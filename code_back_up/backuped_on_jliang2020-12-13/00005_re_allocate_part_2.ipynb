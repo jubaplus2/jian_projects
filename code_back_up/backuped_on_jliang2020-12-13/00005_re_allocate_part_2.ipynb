{
 "cells": [
  {
   "cell_type": "code",
   "execution_count": 1,
   "metadata": {},
   "outputs": [],
   "source": [
    "import os\n",
    "import datetime\n",
    "import shutil\n",
    "from google.cloud import bigquery\n"
   ]
  },
  {
   "cell_type": "code",
   "execution_count": 10,
   "metadata": {},
   "outputs": [
    {
     "name": "stdout",
     "output_type": "stream",
     "text": [
      "['/home/jian/Projects/LIFT/', '/home/jian/Projects/MOTV/', '/home/jian/Projects/FFC/', '/home/jian/Projects/Red_Nose_Day/', '/home/jian/Projects/Saatva/', '/home/jian/Projects/Tone_Networks/', '/home/jian/Projects/.ipynb_checkpoints/', '/home/jian/Projects/Cepia/', '/home/jian/Projects/Smoothie_King/', '/home/jian/Projects/Crunch_Fitness/', '/home/jian/Projects/C21/', '/home/jian/Projects/Perry_Ellis/', '/home/jian/Projects/Savers/', '/home/jian/Projects/Umpqua_Bank/', '/home/jian/Projects/Garanimal/', '/home/jian/Projects/SunnyD/', '/home/jian/Projects/Jared/', '/home/jian/Projects/MSK/']\n"
     ]
    }
   ],
   "source": [
    "list_folders=os.listdir(\"/home/jian/Projects/\")\n",
    "list_folder_other_clients=[]\n",
    "for dir_x in list_folders:\n",
    "    path_x=\"/home/jian/Projects/\"+dir_x+\"/\"\n",
    "    if os.path.isdir(path_x):\n",
    "        list_folder_other_clients.append(path_x)\n",
    "        \n",
    "list_folder_other_clients.remove(\"/home/jian/Projects/Big_Lots/\")\n",
    "list_folder_other_clients.remove(\"/home/jian/Projects/Research_zip_request/\")\n",
    "list_folder_other_clients.remove(\"/home/jian/Projects/TA_25_miles_for_SP/\")\n",
    "\n",
    "print(list_folder_other_clients)"
   ]
  },
  {
   "cell_type": "code",
   "execution_count": 14,
   "metadata": {},
   "outputs": [],
   "source": [
    "for old_folder in list_folder_other_clients:\n",
    "    new_folder=\"/home/jian_other_clients/\"+old_folder.split(\"/\")[-2]+\"/\"\n",
    "    shutil.move(old_folder,new_folder)\n"
   ]
  },
  {
   "cell_type": "code",
   "execution_count": null,
   "metadata": {},
   "outputs": [],
   "source": []
  }
 ],
 "metadata": {
  "kernelspec": {
   "display_name": "Python 3",
   "language": "python",
   "name": "python3"
  },
  "language_info": {
   "codemirror_mode": {
    "name": "ipython",
    "version": 3
   },
   "file_extension": ".py",
   "mimetype": "text/x-python",
   "name": "python",
   "nbconvert_exporter": "python",
   "pygments_lexer": "ipython3",
   "version": "3.7.6"
  }
 },
 "nbformat": 4,
 "nbformat_minor": 2
}
