{
 "cells": [
  {
   "cell_type": "code",
   "execution_count": 1,
   "metadata": {
    "collapsed": true
   },
   "outputs": [],
   "source": [
    "import pandas as pd\n",
    "import json\n",
    "from haversine import haversine\n",
    "import datetime\n",
    "today_str=str(datetime.datetime.now().date())"
   ]
  },
  {
   "cell_type": "code",
   "execution_count": 2,
   "metadata": {
    "collapsed": true
   },
   "outputs": [],
   "source": [
    "zip_centers=json.load(open(\"/home/jian/Docs/Geo_mapping/center_of_rentrak_zip.json\",\"r\"))"
   ]
  },
  {
   "cell_type": "code",
   "execution_count": 3,
   "metadata": {
    "collapsed": true
   },
   "outputs": [],
   "source": [
    "demo_df=pd.read_csv(\"/home/jian/Docs/Household_and_Population/2016/Demo_Dataset.csv\",dtype=str)\n",
    "demo_df=demo_df[['ZIP_CODE','HH15','Estimate; Female: - 25 to 29 years','Estimate; Female: - 30 to 34 years',\n",
    "                 'Estimate; Female: - 35 to 39 years','Estimate; Female: - 40 to 44 years',\n",
    "                 'Estimate; Female: - 45 to 49 years','Estimate; Female: - 50 to 54 years']]\n",
    "for col in demo_df.columns.tolist()[1:]:\n",
    "    demo_df[col]=demo_df[col].astype(float)\n",
    "demo_df['Female_25_54']=demo_df[['Estimate; Female: - 25 to 29 years','Estimate; Female: - 30 to 34 years',\n",
    "                 'Estimate; Female: - 35 to 39 years','Estimate; Female: - 40 to 44 years',\n",
    "                 'Estimate; Female: - 45 to 49 years','Estimate; Female: - 50 to 54 years']].sum(axis=1)\n",
    "demo_df=demo_df[['ZIP_CODE','HH15','Female_25_54']].rename(columns={\"ZIP_CODE\":\"zip_cd\",\"HH15\":\"Households\"})\n",
    "demo_df['zip_cd']=demo_df['zip_cd'].apply(lambda x:x.zfill(5))"
   ]
  },
  {
   "cell_type": "code",
   "execution_count": 4,
   "metadata": {},
   "outputs": [
    {
     "data": {
      "text/plain": [
       "'01002'"
      ]
     },
     "execution_count": 4,
     "metadata": {},
     "output_type": "execute_result"
    }
   ],
   "source": [
    "demo_df['zip_cd'][2]"
   ]
  },
  {
   "cell_type": "code",
   "execution_count": 5,
   "metadata": {
    "collapsed": true
   },
   "outputs": [],
   "source": [
    "def finding_10_miles_zips(store_center,location_id,zip_for_store):\n",
    "    result=pd.DataFrame()\n",
    "    i=0\n",
    "    for zip_5 in zip_centers.keys():    \n",
    "        dist=haversine(store_center,zip_centers[zip_5],miles=True)\n",
    "        if dist<=10:        \n",
    "            df=pd.DataFrame({\"zip_cd\":zip_5,\"Center_Lat\":zip_centers[zip_5][0],\"Center_Long\":zip_centers[zip_5][1],\"Distance_Mile\":dist},index=[i])\n",
    "            i=i+1\n",
    "            result=result.append(df)\n",
    "    result['Store_id']=store_location_id\n",
    "    result['Store_zip']=zip_for_store\n",
    "    result=result[['Store_id','Store_zip','zip_cd','Center_Lat','Center_Long','Distance_Mile']]\n",
    "    result=pd.merge(result,demo_df,on=\"zip_cd\",how=\"left\")\n",
    "    return result"
   ]
  },
  {
   "cell_type": "code",
   "execution_count": 6,
   "metadata": {
    "collapsed": true
   },
   "outputs": [],
   "source": [
    "writer=pd.ExcelWriter(\"/home/jian/Projects/Big_Lots/New_TA/Zips_within_10_miles/BL_Zips_in_10_miles_\"+today_str+\"_store_4676.xlsx\",engine=\"xlsxwriter\")"
   ]
  },
  {
   "cell_type": "code",
   "execution_count": 7,
   "metadata": {
    "collapsed": true
   },
   "outputs": [],
   "source": [
    "# 4676: Google Map the lat long for \"1702 OCEANSIDE BLVD, Oceanside, CA 92054\"\n",
    "store_center=(33.192385,-117.3630678) # 4676\n",
    "zip_for_store=\"92054\"\n",
    "store_location_id=\"4676\"\n",
    "\n",
    "df=finding_10_miles_zips(store_center,store_location_id,zip_for_store)\n",
    "df.to_excel(writer,store_location_id,index=False)"
   ]
  },
  {
   "cell_type": "code",
   "execution_count": 10,
   "metadata": {
    "collapsed": true
   },
   "outputs": [],
   "source": [
    "# 4677: Google Map the lat long for \"1300 DISC DRIVE Sparks, NV 89436\"\n",
    "store_center=(39.5776446,-119.7230628) # 4677\n",
    "zip_for_store=\"89436\"\n",
    "store_location_id=\"4677\"\n",
    "\n",
    "df=finding_10_miles_zips(store_center,store_location_id,zip_for_store)\n",
    "df.to_excel(writer,store_location_id,index=False)"
   ]
  },
  {
   "cell_type": "code",
   "execution_count": 8,
   "metadata": {
    "collapsed": true
   },
   "outputs": [],
   "source": [
    "writer.save()"
   ]
  },
  {
   "cell_type": "code",
   "execution_count": null,
   "metadata": {
    "collapsed": true
   },
   "outputs": [],
   "source": []
  },
  {
   "cell_type": "code",
   "execution_count": null,
   "metadata": {
    "collapsed": true
   },
   "outputs": [],
   "source": []
  },
  {
   "cell_type": "code",
   "execution_count": null,
   "metadata": {
    "collapsed": true
   },
   "outputs": [],
   "source": []
  },
  {
   "cell_type": "code",
   "execution_count": null,
   "metadata": {
    "collapsed": true
   },
   "outputs": [],
   "source": []
  },
  {
   "cell_type": "code",
   "execution_count": 3,
   "metadata": {},
   "outputs": [
    {
     "data": {
      "text/plain": [
       "2.4806868805428506"
      ]
     },
     "execution_count": 3,
     "metadata": {},
     "output_type": "execute_result"
    }
   ],
   "source": [
    "haversine((39.5776446,-119.7230628),(39.542953,-119.73506),miles=True)"
   ]
  },
  {
   "cell_type": "code",
   "execution_count": null,
   "metadata": {
    "collapsed": true
   },
   "outputs": [],
   "source": []
  }
 ],
 "metadata": {
  "kernelspec": {
   "display_name": "Python 3",
   "language": "python",
   "name": "python3"
  },
  "language_info": {
   "codemirror_mode": {
    "name": "ipython",
    "version": 3
   },
   "file_extension": ".py",
   "mimetype": "text/x-python",
   "name": "python",
   "nbconvert_exporter": "python",
   "pygments_lexer": "ipython3",
   "version": "3.6.1"
  }
 },
 "nbformat": 4,
 "nbformat_minor": 2
}
