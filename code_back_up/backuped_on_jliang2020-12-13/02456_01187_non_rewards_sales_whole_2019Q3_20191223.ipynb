{
 "cells": [
  {
   "cell_type": "code",
   "execution_count": 1,
   "metadata": {},
   "outputs": [],
   "source": [
    "import pandas as pd\n",
    "import numpy as np \n",
    "import datetime\n",
    "import os\n",
    "\n",
    "def recursive_file_gen(root_path):\n",
    "    for root, dirs, files in os.walk(root_path):\n",
    "        for file in files:\n",
    "            yield os.path.join(root,file)\n",
    "            \n",
    "start_date_2019Q3=datetime.date(2019,8,4)\n",
    "end_date_2019Q3=datetime.date(2019,11,2)"
   ]
  },
  {
   "cell_type": "code",
   "execution_count": 4,
   "metadata": {},
   "outputs": [
    {
     "name": "stdout",
     "output_type": "stream",
     "text": [
      "13\n"
     ]
    }
   ],
   "source": [
    "# POS date\n",
    "\n",
    "list_all_files=list(recursive_file_gen(\"/home/jian/BigLots/2019_by_weeks/\"))\n",
    "list_all_files=[x for x in list_all_files if \"daily\" in x.lower() and x[-4:]==\".txt\"]\n",
    "list_all_files=[x for x in list_all_files if x.split(\"/MediaStorm_\")[1][:10]>=str(start_date_2019Q3)]\n",
    "list_all_files=[x for x in list_all_files if x.split(\"/MediaStorm_\")[1][:10]<=str(end_date_2019Q3)]\n",
    "print(len(list_all_files))\n",
    "list_all_files.sort()"
   ]
  },
  {
   "cell_type": "code",
   "execution_count": 5,
   "metadata": {},
   "outputs": [
    {
     "name": "stdout",
     "output_type": "stream",
     "text": [
      "2019-12-23 14:54:55.641605 2019-08-10\n",
      "2019-12-23 14:58:05.243542 2019-08-17\n",
      "2019-12-23 15:01:16.258377 2019-08-24\n",
      "2019-12-23 15:04:48.076104 2019-08-31\n",
      "2019-12-23 15:06:20.328205 2019-09-07\n",
      "2019-12-23 15:09:57.923454 2019-09-14\n",
      "2019-12-23 15:13:01.632319 2019-09-21\n",
      "2019-12-23 15:17:50.553908 2019-09-28\n",
      "2019-12-23 15:21:25.103801 2019-10-05\n",
      "2019-12-23 15:22:45.381834 2019-10-12\n",
      "2019-12-23 15:28:00.083671 2019-10-19\n",
      "2019-12-23 15:29:25.697554 2019-10-26\n",
      "2019-12-23 15:33:04.131337 2019-11-02\n"
     ]
    }
   ],
   "source": [
    "df_all_POS_by_store=pd.DataFrame()\n",
    "for file in list_all_files:\n",
    "    df=pd.read_csv(file,dtype=str,sep=\"|\")\n",
    "    df['item_transaction_amt']=df['item_transaction_amt'].astype(float)\n",
    "    df_rewards=df[pd.notnull(df['customer_id_hashed'])]\n",
    "    df_non_rewards=df[pd.isnull(df['customer_id_hashed'])]\n",
    "    \n",
    "    df_rewards_sales=df_rewards.groupby(['location_id','transaction_dt'])['item_transaction_amt'].sum().to_frame().reset_index().rename(columns={\"item_transaction_amt\":\"rewards_sales\"})\n",
    "    df_rewards_trans=df_rewards[['location_id','transaction_dt','transaction_id','customer_id_hashed']].drop_duplicates()\n",
    "    df_rewards_trans['rewards_trans']=1\n",
    "    df_rewards_trans=df_rewards_trans.groupby(['location_id','transaction_dt'])['rewards_trans'].sum().to_frame().reset_index()\n",
    "    df_rewards=pd.merge(df_rewards_sales,df_rewards_trans,on=['location_id','transaction_dt'],how=\"outer\")\n",
    "    \n",
    "    df_non_rewards_sales=df_non_rewards.groupby(['location_id','transaction_dt'])['item_transaction_amt'].sum().to_frame().reset_index().rename(columns={\"item_transaction_amt\":\"non_rewards_sales\"})\n",
    "    df_non_rewards_trans=df_non_rewards[['location_id','transaction_dt','transaction_id']].drop_duplicates()\n",
    "    df_non_rewards_trans['non_rewards_trans']=1\n",
    "    df_non_rewards_trans=df_non_rewards_trans.groupby(['location_id','transaction_dt'])['non_rewards_trans'].sum().to_frame().reset_index()\n",
    "    df_non_rewards=pd.merge(df_non_rewards_sales,df_non_rewards_trans,on=['location_id','transaction_dt'],how=\"outer\")\n",
    "    \n",
    "    df=pd.merge(df_rewards,df_non_rewards,on=['location_id','transaction_dt'],how=\"outer\")\n",
    "    df['week_end_dt']=df['transaction_dt'].max()\n",
    "    df_all_POS_by_store=df_all_POS_by_store.append(df)\n",
    "    print(datetime.datetime.now(),df['transaction_dt'].max())\n"
   ]
  },
  {
   "cell_type": "code",
   "execution_count": 6,
   "metadata": {},
   "outputs": [],
   "source": [
    "df_all_POS_by_store['store_type']=np.where(df_all_POS_by_store['location_id']==\"6990\",\"online\",\"instore\")\n",
    "df_summary=df_all_POS_by_store.groupby([\"week_end_dt\",'store_type'])['rewards_sales','non_rewards_sales','rewards_trans','non_rewards_trans'].sum().reset_index()"
   ]
  },
  {
   "cell_type": "code",
   "execution_count": 7,
   "metadata": {},
   "outputs": [],
   "source": [
    "writer=pd.ExcelWriter(\"./BL_total_sales_2019Q3_JL_\"+str(datetime.datetime.now().date())+\".xlsx\",engine=\"xlsxwriter\")\n",
    "df_summary.to_excel(writer,\"df_summary\",index=False)\n",
    "df_all_POS_by_store.to_excel(writer,\"df_by_store_date\",index=False)\n",
    "writer.save()"
   ]
  },
  {
   "cell_type": "code",
   "execution_count": 8,
   "metadata": {},
   "outputs": [
    {
     "data": {
      "text/plain": [
       "(128736, 8)"
      ]
     },
     "execution_count": 8,
     "metadata": {},
     "output_type": "execute_result"
    }
   ],
   "source": [
    "df_all_POS_by_store.shape"
   ]
  },
  {
   "cell_type": "code",
   "execution_count": 9,
   "metadata": {},
   "outputs": [
    {
     "data": {
      "text/html": [
       "<div>\n",
       "<style scoped>\n",
       "    .dataframe tbody tr th:only-of-type {\n",
       "        vertical-align: middle;\n",
       "    }\n",
       "\n",
       "    .dataframe tbody tr th {\n",
       "        vertical-align: top;\n",
       "    }\n",
       "\n",
       "    .dataframe thead th {\n",
       "        text-align: right;\n",
       "    }\n",
       "</style>\n",
       "<table border=\"1\" class=\"dataframe\">\n",
       "  <thead>\n",
       "    <tr style=\"text-align: right;\">\n",
       "      <th></th>\n",
       "      <th>location_id</th>\n",
       "      <th>transaction_dt</th>\n",
       "      <th>rewards_sales</th>\n",
       "      <th>rewards_trans</th>\n",
       "      <th>non_rewards_sales</th>\n",
       "      <th>non_rewards_trans</th>\n",
       "      <th>week_end_dt</th>\n",
       "      <th>store_type</th>\n",
       "    </tr>\n",
       "  </thead>\n",
       "  <tbody>\n",
       "    <tr>\n",
       "      <th>0</th>\n",
       "      <td>1</td>\n",
       "      <td>2019-08-04</td>\n",
       "      <td>6136.13</td>\n",
       "      <td>157.0</td>\n",
       "      <td>2930.72</td>\n",
       "      <td>150</td>\n",
       "      <td>2019-08-10</td>\n",
       "      <td>instore</td>\n",
       "    </tr>\n",
       "    <tr>\n",
       "      <th>1</th>\n",
       "      <td>1</td>\n",
       "      <td>2019-08-05</td>\n",
       "      <td>4661.49</td>\n",
       "      <td>135.0</td>\n",
       "      <td>3089.69</td>\n",
       "      <td>134</td>\n",
       "      <td>2019-08-10</td>\n",
       "      <td>instore</td>\n",
       "    </tr>\n",
       "    <tr>\n",
       "      <th>2</th>\n",
       "      <td>1</td>\n",
       "      <td>2019-08-06</td>\n",
       "      <td>4065.35</td>\n",
       "      <td>131.0</td>\n",
       "      <td>2628.10</td>\n",
       "      <td>121</td>\n",
       "      <td>2019-08-10</td>\n",
       "      <td>instore</td>\n",
       "    </tr>\n",
       "  </tbody>\n",
       "</table>\n",
       "</div>"
      ],
      "text/plain": [
       "  location_id transaction_dt  rewards_sales  rewards_trans  non_rewards_sales  \\\n",
       "0           1     2019-08-04        6136.13          157.0            2930.72   \n",
       "1           1     2019-08-05        4661.49          135.0            3089.69   \n",
       "2           1     2019-08-06        4065.35          131.0            2628.10   \n",
       "\n",
       "   non_rewards_trans week_end_dt store_type  \n",
       "0                150  2019-08-10    instore  \n",
       "1                134  2019-08-10    instore  \n",
       "2                121  2019-08-10    instore  "
      ]
     },
     "execution_count": 9,
     "metadata": {},
     "output_type": "execute_result"
    }
   ],
   "source": [
    "df_all_POS_by_store.head(3)"
   ]
  },
  {
   "cell_type": "code",
   "execution_count": null,
   "metadata": {
    "collapsed": true
   },
   "outputs": [],
   "source": []
  }
 ],
 "metadata": {
  "kernelspec": {
   "display_name": "Python 3",
   "language": "python",
   "name": "python3"
  },
  "language_info": {
   "codemirror_mode": {
    "name": "ipython",
    "version": 3
   },
   "file_extension": ".py",
   "mimetype": "text/x-python",
   "name": "python",
   "nbconvert_exporter": "python",
   "pygments_lexer": "ipython3",
   "version": "3.6.1"
  }
 },
 "nbformat": 4,
 "nbformat_minor": 2
}
