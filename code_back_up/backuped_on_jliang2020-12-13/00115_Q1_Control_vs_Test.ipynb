{
 "cells": [
  {
   "cell_type": "code",
   "execution_count": 1,
   "metadata": {
    "collapsed": true
   },
   "outputs": [],
   "source": [
    "import pandas as pd\n",
    "import numpy as np\n",
    "import os\n",
    "import gc\n",
    "import datetime\n",
    "import gc\n",
    "import logging\n",
    "\n",
    "today_str=str(datetime.datetime.now().date())\n",
    "logging.basicConfig(filename='control_test_'+today_str+'_.log', level=logging.INFO)"
   ]
  },
  {
   "cell_type": "code",
   "execution_count": 2,
   "metadata": {
    "collapsed": true
   },
   "outputs": [],
   "source": [
    "today_str=str(datetime.datetime.now().date())"
   ]
  },
  {
   "cell_type": "code",
   "execution_count": 3,
   "metadata": {
    "collapsed": true
   },
   "outputs": [],
   "source": [
    "# The comparing pool are thoses stores only have sales every week before the beginning of 2018 Q1 campaign\n",
    "\n",
    "sales_base_week_list=[datetime.datetime(2018,1,20).date(),datetime.datetime(2018,1,27).date(),datetime.datetime(2018,2,3).date()] # start of Jan.14, 3 weeks in total\n",
    "\n",
    "base1_week=datetime.datetime(2018,2,3).date()\n",
    "campaign1_week=datetime.datetime(2018,2,10).date()\n",
    "\n",
    "base2_week=datetime.datetime(2018,3,24).date()\n",
    "campaign2_week=datetime.datetime(2018,3,31).date()\n",
    "\n",
    "\n",
    "Q1_start_week=datetime.datetime(2018,2,10) # start of Feb.4\n",
    "Q1_end_week=datetime.datetime(2018,5,5)"
   ]
  },
  {
   "cell_type": "code",
   "execution_count": 4,
   "metadata": {
    "collapsed": true
   },
   "outputs": [],
   "source": [
    "inclusion_stores=pd.read_excel(\"/home/jian/Projects/Big_Lots/Q1_Post/BL_Sales YoY_JL_20180618.xlsx\",sheetname=\"Inclusion Stores\",skiprows=1,dtype=str)\n",
    "store_zips=pd.read_excel(\"/home/jian/Projects/Big_Lots/Other_Input/all_store_DMA.xlsx\",dtype=str)[['location_id','zip']]\n",
    "store_zips['zip']=store_zips['zip'].apply(lambda x: x.zfill(5))\n",
    "inclusion_stores=pd.merge(inclusion_stores,store_zips,on=\"location_id\",how=\"left\")\n",
    "inclusion_stores=inclusion_stores[['location_id','zip']].rename(columns={\"zip\":\"zip_cd\"})\n"
   ]
  },
  {
   "cell_type": "code",
   "execution_count": 5,
   "metadata": {
    "collapsed": true
   },
   "outputs": [],
   "source": [
    "sales_all=pd.read_csv(\"/home/jian/BiglotsCode/outputs/combined_sales_long_2018-06-02.csv\",dtype=str)"
   ]
  },
  {
   "cell_type": "code",
   "execution_count": 6,
   "metadata": {
    "collapsed": true
   },
   "outputs": [],
   "source": [
    "sales_all=sales_all[['location_id','week_end_date','sales']]\n",
    "sales_all['sales']=sales_all['sales'].astype(float)\n",
    "sales_all['week_end_date']=sales_all['week_end_date'].apply(lambda x:datetime.datetime.strptime(x,\"%Y-%m-%d\").date())\n",
    "sales_inclusion_long=sales_all[sales_all['location_id'].isin(inclusion_stores['location_id'])]\n",
    "\n",
    "store_DMA=pd.read_excel(\"/home/jian/Projects/Big_Lots/Other_Input/all_store_DMA.xlsx\",dtype=str)[['location_id','DMA']]"
   ]
  },
  {
   "cell_type": "code",
   "execution_count": 7,
   "metadata": {},
   "outputs": [
    {
     "name": "stderr",
     "output_type": "stream",
     "text": [
      "/usr/local/lib/python3.6/site-packages/ipykernel_launcher.py:7: SettingWithCopyWarning: \n",
      "A value is trying to be set on a copy of a slice from a DataFrame.\n",
      "Try using .loc[row_indexer,col_indexer] = value instead\n",
      "\n",
      "See the caveats in the documentation: http://pandas.pydata.org/pandas-docs/stable/indexing.html#indexing-view-versus-copy\n",
      "  import sys\n",
      "/usr/local/lib/python3.6/site-packages/ipykernel_launcher.py:8: SettingWithCopyWarning: \n",
      "A value is trying to be set on a copy of a slice from a DataFrame.\n",
      "Try using .loc[row_indexer,col_indexer] = value instead\n",
      "\n",
      "See the caveats in the documentation: http://pandas.pydata.org/pandas-docs/stable/indexing.html#indexing-view-versus-copy\n",
      "  \n",
      "/usr/local/lib/python3.6/site-packages/ipykernel_launcher.py:9: SettingWithCopyWarning: \n",
      "A value is trying to be set on a copy of a slice from a DataFrame.\n",
      "Try using .loc[row_indexer,col_indexer] = value instead\n",
      "\n",
      "See the caveats in the documentation: http://pandas.pydata.org/pandas-docs/stable/indexing.html#indexing-view-versus-copy\n",
      "  if __name__ == '__main__':\n"
     ]
    }
   ],
   "source": [
    "\n",
    "# 1. Recent 52 weeks sales\n",
    "sales_all=pd.read_csv(\"/home/jian/BiglotsCode/outputs/combined_sales_long_2018-06-02.csv\",dtype=str)\n",
    "sales_all['week_end_date']=sales_all['week_end_date'].apply(lambda x:datetime.datetime.strptime(x,\"%Y-%m-%d\").date())\n",
    "sales_all['sales']=sales_all['sales'].astype(float)\n",
    "sales_52_weeks=sales_all[(sales_all['week_end_date']>=datetime.datetime(2017,2,1).date()) & (sales_all['week_end_date']<=datetime.datetime(2017,7,31).date())]\n",
    "sales_52_weeks['sales']=sales_52_weeks['sales'].astype(float)\n",
    "sales_52_weeks['transactions']=sales_52_weeks['transactions'].astype(float)\n",
    "sales_52_weeks['traffics']=sales_52_weeks['traffics'].astype(float)\n",
    "del sales_52_weeks['week_indicator']\n",
    "\n",
    "df_sales_52=sales_52_weeks[['location_id','week_end_date','sales']]\n",
    "df_sales_52=df_sales_52[df_sales_52['sales']!=0]\n",
    "df_sales_52_dollar=df_sales_52.groupby(\"location_id\")['sales'].sum().to_frame().reset_index().rename(columns={\"sales\":\"52_week_sales\"})\n",
    "df_sales_52_week=df_sales_52.groupby(\"location_id\")['week_end_date'].count().to_frame().reset_index().rename(columns={\"week_end_date\":\"week_count\"})\n",
    "df_sales_52=pd.merge(df_sales_52_dollar,df_sales_52_week,on=\"location_id\",how=\"inner\")\n",
    "df_sales_52=df_sales_52[df_sales_52['week_count']==df_sales_52['week_count'].max()]\n",
    "\n",
    "Df_parameters=pd.merge(df_sales_52,store_DMA,on=\"location_id\",how=\"left\")"
   ]
  },
  {
   "cell_type": "code",
   "execution_count": 8,
   "metadata": {},
   "outputs": [
    {
     "data": {
      "text/plain": [
       "26"
      ]
     },
     "execution_count": 8,
     "metadata": {},
     "output_type": "execute_result"
    }
   ],
   "source": [
    "df_sales_52['week_count'].max()"
   ]
  },
  {
   "cell_type": "code",
   "execution_count": 9,
   "metadata": {
    "collapsed": true
   },
   "outputs": [],
   "source": [
    "# 2. Jan Sales\n",
    "# No extra exclusion for the Jan weeks involoved\n",
    "sales_all_base_Jan=sales_inclusion_long[sales_inclusion_long['week_end_date'].isin(sales_base_week_list)]\n",
    "sales_all_base_Jan=sales_all_base_Jan.groupby(['location_id'])['sales'].sum().to_frame().reset_index()\n",
    "sales_all_base_Jan=sales_all_base_Jan.rename(columns={\"sales\":\"Jan_3_weeks_sales\"})"
   ]
  },
  {
   "cell_type": "code",
   "execution_count": 10,
   "metadata": {
    "collapsed": true
   },
   "outputs": [],
   "source": [
    "Df_parameters=pd.merge(Df_parameters,sales_all_base_Jan,on=\"location_id\",how=\"left\")"
   ]
  },
  {
   "cell_type": "code",
   "execution_count": 11,
   "metadata": {},
   "outputs": [
    {
     "data": {
      "text/html": [
       "<div>\n",
       "<style>\n",
       "    .dataframe thead tr:only-child th {\n",
       "        text-align: right;\n",
       "    }\n",
       "\n",
       "    .dataframe thead th {\n",
       "        text-align: left;\n",
       "    }\n",
       "\n",
       "    .dataframe tbody tr th {\n",
       "        vertical-align: top;\n",
       "    }\n",
       "</style>\n",
       "<table border=\"1\" class=\"dataframe\">\n",
       "  <thead>\n",
       "    <tr style=\"text-align: right;\">\n",
       "      <th></th>\n",
       "      <th>location_id</th>\n",
       "      <th>week_end_date</th>\n",
       "      <th>sales</th>\n",
       "      <th>transactions</th>\n",
       "      <th>traffics</th>\n",
       "      <th>week_indicator</th>\n",
       "    </tr>\n",
       "  </thead>\n",
       "  <tbody>\n",
       "    <tr>\n",
       "      <th>0</th>\n",
       "      <td>1</td>\n",
       "      <td>2015-05-23</td>\n",
       "      <td>84370.89</td>\n",
       "      <td>2823.0</td>\n",
       "      <td>4631</td>\n",
       "      <td>1</td>\n",
       "    </tr>\n",
       "    <tr>\n",
       "      <th>1</th>\n",
       "      <td>1</td>\n",
       "      <td>2015-05-30</td>\n",
       "      <td>85665.43</td>\n",
       "      <td>2945.0</td>\n",
       "      <td>4873</td>\n",
       "      <td>2</td>\n",
       "    </tr>\n",
       "  </tbody>\n",
       "</table>\n",
       "</div>"
      ],
      "text/plain": [
       "  location_id week_end_date     sales transactions traffics week_indicator\n",
       "0           1    2015-05-23  84370.89       2823.0     4631              1\n",
       "1           1    2015-05-30  85665.43       2945.0     4873              2"
      ]
     },
     "execution_count": 11,
     "metadata": {},
     "output_type": "execute_result"
    }
   ],
   "source": [
    "sales_all.head(2)"
   ]
  },
  {
   "cell_type": "code",
   "execution_count": 12,
   "metadata": {
    "collapsed": true
   },
   "outputs": [],
   "source": [
    "#3. ARI\n",
    "def ARI_calculation(df_all,base_week,campaign_week):\n",
    "    df=df_all[df_all['week_end_date'].isin(base_week+campaign_week)]\n",
    "\n",
    "    df_0=df[df['sales']==0]\n",
    "    df=df[~df['location_id'].isin(df_0)]\n",
    "    df=df[df['sales']>0]\n",
    "    \n",
    "    df_both_weeks=df.groupby(\"location_id\")['week_end_date'].count().to_frame().reset_index()\n",
    "    df_both_weeks=df_both_weeks[df_both_weeks['week_end_date']==6]\n",
    "    \n",
    "    df=df[df['location_id'].isin(df_both_weeks['location_id'])]\n",
    "    print(len(df['location_id'].unique()))\n",
    "    df_base=df[df['week_end_date'].isin(base_week)].groupby([\"location_id\"])['sales'].sum().to_frame().reset_index()\n",
    "    df_base=df_base.rename(columns={\"sales\":\"base_sales\"})\n",
    "    df_campaign=df[df['week_end_date'].isin(campaign_week)].groupby([\"location_id\"])['sales'].sum().to_frame().reset_index()\n",
    "    df_campaign=df_campaign.rename(columns={\"sales\":\"campaign_sales\",\"week_end_date\":\"campaign_week\"})\n",
    "    df_pair=pd.merge(df_base,df_campaign,on=\"location_id\",how=\"inner\")\n",
    "    base_sales_all=df_pair['base_sales'].sum()\n",
    "    campaign_sales_all=df_pair['campaign_sales'].sum()\n",
    "    \n",
    "    df_pair['ARI']=(df_pair['campaign_sales']/df_pair['base_sales'])/(campaign_sales_all/base_sales_all)*100\n",
    "    \n",
    "    return df_pair"
   ]
  },
  {
   "cell_type": "code",
   "execution_count": 13,
   "metadata": {
    "collapsed": true
   },
   "outputs": [],
   "source": [
    "AIR_Base_Week=sales_base_week_list.copy()\n",
    "AIR_Campaign_Week=[datetime.date(2018,2,17),datetime.date(2018,2,24),datetime.date(2018,3,3)]"
   ]
  },
  {
   "cell_type": "code",
   "execution_count": 14,
   "metadata": {},
   "outputs": [
    {
     "name": "stdout",
     "output_type": "stream",
     "text": [
      "1412\n"
     ]
    },
    {
     "data": {
      "text/plain": [
       "'\\nARI_df_1=ARI_calculation(df_all=sales_all,base_week=base1_week,campaign_week=campaign1_week)\\nARI_df_1=ARI_df_1.rename(columns={\"ARI\":\"ARI_P1\"})[[\\'location_id\\',\\'ARI_P1\\']]\\nARI_df_2=ARI_calculation(df_all=sales_all,base_week=base2_week,campaign_week=campaign2_week)\\nARI_df_2=ARI_df_2.rename(columns={\"ARI\":\"ARI_P2\"})[[\\'location_id\\',\\'ARI_P2\\']]\\n'"
      ]
     },
     "execution_count": 14,
     "metadata": {},
     "output_type": "execute_result"
    }
   ],
   "source": [
    "ARI_df=ARI_calculation(df_all=sales_all,base_week=AIR_Base_Week,campaign_week=AIR_Campaign_Week)\n",
    "ARI_df=ARI_df[['location_id','ARI']]\n",
    "'''\n",
    "ARI_df_1=ARI_calculation(df_all=sales_all,base_week=base1_week,campaign_week=campaign1_week)\n",
    "ARI_df_1=ARI_df_1.rename(columns={\"ARI\":\"ARI_P1\"})[['location_id','ARI_P1']]\n",
    "ARI_df_2=ARI_calculation(df_all=sales_all,base_week=base2_week,campaign_week=campaign2_week)\n",
    "ARI_df_2=ARI_df_2.rename(columns={\"ARI\":\"ARI_P2\"})[['location_id','ARI_P2']]\n",
    "'''"
   ]
  },
  {
   "cell_type": "code",
   "execution_count": 15,
   "metadata": {
    "collapsed": true
   },
   "outputs": [],
   "source": [
    "Df_parameters=pd.merge(Df_parameters,ARI_df,on=\"location_id\",how=\"left\")\n",
    "# Df_parameters=pd.merge(Df_parameters,ARI_df_2,on=\"location_id\",how=\"left\")"
   ]
  },
  {
   "cell_type": "code",
   "execution_count": 16,
   "metadata": {},
   "outputs": [
    {
     "data": {
      "text/html": [
       "<div>\n",
       "<style>\n",
       "    .dataframe thead tr:only-child th {\n",
       "        text-align: right;\n",
       "    }\n",
       "\n",
       "    .dataframe thead th {\n",
       "        text-align: left;\n",
       "    }\n",
       "\n",
       "    .dataframe tbody tr th {\n",
       "        vertical-align: top;\n",
       "    }\n",
       "</style>\n",
       "<table border=\"1\" class=\"dataframe\">\n",
       "  <thead>\n",
       "    <tr style=\"text-align: right;\">\n",
       "      <th></th>\n",
       "      <th>location_id</th>\n",
       "      <th>52_week_sales</th>\n",
       "      <th>week_count</th>\n",
       "      <th>DMA</th>\n",
       "      <th>Jan_3_weeks_sales</th>\n",
       "      <th>ARI</th>\n",
       "    </tr>\n",
       "  </thead>\n",
       "  <tbody>\n",
       "    <tr>\n",
       "      <th>0</th>\n",
       "      <td>1</td>\n",
       "      <td>2243400.62</td>\n",
       "      <td>26</td>\n",
       "      <td>COLUMBUS, OH</td>\n",
       "      <td>202241.46</td>\n",
       "      <td>118.509320</td>\n",
       "    </tr>\n",
       "    <tr>\n",
       "      <th>1</th>\n",
       "      <td>1001</td>\n",
       "      <td>1123476.33</td>\n",
       "      <td>26</td>\n",
       "      <td>CHATTANOOGA</td>\n",
       "      <td>95384.23</td>\n",
       "      <td>125.956767</td>\n",
       "    </tr>\n",
       "  </tbody>\n",
       "</table>\n",
       "</div>"
      ],
      "text/plain": [
       "  location_id  52_week_sales  week_count           DMA  Jan_3_weeks_sales  \\\n",
       "0           1     2243400.62          26  COLUMBUS, OH          202241.46   \n",
       "1        1001     1123476.33          26   CHATTANOOGA           95384.23   \n",
       "\n",
       "          ARI  \n",
       "0  118.509320  \n",
       "1  125.956767  "
      ]
     },
     "execution_count": 16,
     "metadata": {},
     "output_type": "execute_result"
    }
   ],
   "source": [
    "Df_parameters.head(2)"
   ]
  },
  {
   "cell_type": "code",
   "execution_count": 17,
   "metadata": {
    "collapsed": true
   },
   "outputs": [],
   "source": [
    "# 4. BDI (with female 25-54)\n",
    "\n",
    "SP_Household=pd.read_csv(\"/home/jian/Docs/Household_and_Population/2016/ZipcodePopulation_FromSP.csv\",dtype=str)\n",
    "SP_Household['ZIP_CODE']=SP_Household['ZIP_CODE'].apply(lambda x: x.zfill(5))\n",
    "SP_Household=SP_Household.rename(columns={\"ZIP_CODE\":\"zip_cd\"})[['zip_cd','HH15']]\n",
    "SP_Household['HH15']=SP_Household['HH15'].astype(float)\n",
    "\n",
    "Zip_DMA=pd.read_csv(\"/home/jian/BiglotsCode/OtherInput/zipdmamapping.csv\",dtype=str)\n",
    "Zip_DMA['zip_cd']=Zip_DMA['zip_cd'].apply(lambda x:x.zfill(5))\n",
    "Zip_DMA_HH=pd.merge(Zip_DMA,SP_Household,on=\"zip_cd\",how=\"left\")\n",
    "Zip_DMA_HH=Zip_DMA_HH.fillna(0)\n",
    "DMA_HH=Zip_DMA_HH.groupby([\"DMA\"])['HH15'].sum().to_frame().reset_index()"
   ]
  },
  {
   "cell_type": "code",
   "execution_count": 56,
   "metadata": {},
   "outputs": [
    {
     "data": {
      "text/plain": [
       "'\\nfemale_2554=female_2554[[\\'ZIP_CODE\\',\\'Female_25_to_54\\']].rename(columns={\"ZIP_CODE\":\"zip_cd\"})\\nfemale_2554[\\'zip_cd\\']=female_2554[\\'zip_cd\\'].apply(lambda x: str(x).zfill(5))\\n\\nfemale_2554_DMA=pd.merge(Zip_DMA,female_2554,on=\"zip_cd\",how=\"left\")\\nfemale_2554_DMA=female_2554_DMA.groupby([\\'DMA\\'])[\\'Female_25_to_54\\'].sum().to_frame().reset_index()\\nfemale_2554_DMA.head(2)\\n'"
      ]
     },
     "execution_count": 56,
     "metadata": {},
     "output_type": "execute_result"
    }
   ],
   "source": [
    "female_2554=pd.read_csv(\"/home/jian/Docs/Household_and_Population/2016/Demo_Dataset.csv\")\n",
    "female_2554['Female_25_to_54']=female_2554[['Estimate; Female: - 25 to 29 years',\n",
    "                                            'Estimate; Female: - 30 to 34 years',\n",
    "                                            'Estimate; Female: - 35 to 39 years',\n",
    "                                            'Estimate; Female: - 40 to 44 years',\n",
    "                                            'Estimate; Female: - 45 to 49 years',\n",
    "                                            'Estimate; Female: - 50 to 54 years']].sum(axis=1)\n",
    "'''\n",
    "female_2554=female_2554[['ZIP_CODE','Female_25_to_54']].rename(columns={\"ZIP_CODE\":\"zip_cd\"})\n",
    "female_2554['zip_cd']=female_2554['zip_cd'].apply(lambda x: str(x).zfill(5))\n",
    "\n",
    "female_2554_DMA=pd.merge(Zip_DMA,female_2554,on=\"zip_cd\",how=\"left\")\n",
    "female_2554_DMA=female_2554_DMA.groupby(['DMA'])['Female_25_to_54'].sum().to_frame().reset_index()\n",
    "female_2554_DMA.head(2)\n",
    "'''"
   ]
  },
  {
   "cell_type": "code",
   "execution_count": 58,
   "metadata": {},
   "outputs": [
    {
     "data": {
      "text/html": [
       "<div>\n",
       "<style>\n",
       "    .dataframe thead tr:only-child th {\n",
       "        text-align: right;\n",
       "    }\n",
       "\n",
       "    .dataframe thead th {\n",
       "        text-align: left;\n",
       "    }\n",
       "\n",
       "    .dataframe tbody tr th {\n",
       "        vertical-align: top;\n",
       "    }\n",
       "</style>\n",
       "<table border=\"1\" class=\"dataframe\">\n",
       "  <thead>\n",
       "    <tr style=\"text-align: right;\">\n",
       "      <th></th>\n",
       "      <th>Estimate; Female: - 25 to 29 years</th>\n",
       "      <th>Estimate; Female: - 30 to 34 years</th>\n",
       "      <th>Estimate; Female: - 35 to 39 years</th>\n",
       "      <th>Estimate; Female: - 40 to 44 years</th>\n",
       "      <th>Estimate; Female: - 45 to 49 years</th>\n",
       "      <th>Estimate; Female: - 50 to 54 years</th>\n",
       "      <th>Female_25_to_54</th>\n",
       "    </tr>\n",
       "  </thead>\n",
       "  <tbody>\n",
       "    <tr>\n",
       "      <th>0</th>\n",
       "      <td>0.0</td>\n",
       "      <td>0.0</td>\n",
       "      <td>0.0</td>\n",
       "      <td>0.0</td>\n",
       "      <td>0.0</td>\n",
       "      <td>0.0</td>\n",
       "      <td>0.0</td>\n",
       "    </tr>\n",
       "    <tr>\n",
       "      <th>1</th>\n",
       "      <td>554.0</td>\n",
       "      <td>619.0</td>\n",
       "      <td>518.0</td>\n",
       "      <td>639.0</td>\n",
       "      <td>653.0</td>\n",
       "      <td>621.0</td>\n",
       "      <td>3604.0</td>\n",
       "    </tr>\n",
       "    <tr>\n",
       "      <th>2</th>\n",
       "      <td>878.0</td>\n",
       "      <td>615.0</td>\n",
       "      <td>463.0</td>\n",
       "      <td>605.0</td>\n",
       "      <td>525.0</td>\n",
       "      <td>754.0</td>\n",
       "      <td>3840.0</td>\n",
       "    </tr>\n",
       "    <tr>\n",
       "      <th>3</th>\n",
       "      <td>9.0</td>\n",
       "      <td>0.0</td>\n",
       "      <td>0.0</td>\n",
       "      <td>0.0</td>\n",
       "      <td>0.0</td>\n",
       "      <td>0.0</td>\n",
       "      <td>9.0</td>\n",
       "    </tr>\n",
       "    <tr>\n",
       "      <th>4</th>\n",
       "      <td>0.0</td>\n",
       "      <td>0.0</td>\n",
       "      <td>0.0</td>\n",
       "      <td>0.0</td>\n",
       "      <td>0.0</td>\n",
       "      <td>0.0</td>\n",
       "      <td>0.0</td>\n",
       "    </tr>\n",
       "  </tbody>\n",
       "</table>\n",
       "</div>"
      ],
      "text/plain": [
       "   Estimate; Female: - 25 to 29 years  Estimate; Female: - 30 to 34 years  \\\n",
       "0                                 0.0                                 0.0   \n",
       "1                               554.0                               619.0   \n",
       "2                               878.0                               615.0   \n",
       "3                                 9.0                                 0.0   \n",
       "4                                 0.0                                 0.0   \n",
       "\n",
       "   Estimate; Female: - 35 to 39 years  Estimate; Female: - 40 to 44 years  \\\n",
       "0                                 0.0                                 0.0   \n",
       "1                               518.0                               639.0   \n",
       "2                               463.0                               605.0   \n",
       "3                                 0.0                                 0.0   \n",
       "4                                 0.0                                 0.0   \n",
       "\n",
       "   Estimate; Female: - 45 to 49 years  Estimate; Female: - 50 to 54 years  \\\n",
       "0                                 0.0                                 0.0   \n",
       "1                               653.0                               621.0   \n",
       "2                               525.0                               754.0   \n",
       "3                                 0.0                                 0.0   \n",
       "4                                 0.0                                 0.0   \n",
       "\n",
       "   Female_25_to_54  \n",
       "0              0.0  \n",
       "1           3604.0  \n",
       "2           3840.0  \n",
       "3              9.0  \n",
       "4              0.0  "
      ]
     },
     "execution_count": 58,
     "metadata": {},
     "output_type": "execute_result"
    }
   ],
   "source": [
    "female_2554[['Estimate; Female: - 25 to 29 years',\n",
    "                                            'Estimate; Female: - 30 to 34 years',\n",
    "                                            'Estimate; Female: - 35 to 39 years',\n",
    "                                            'Estimate; Female: - 40 to 44 years',\n",
    "                                            'Estimate; Female: - 45 to 49 years',\n",
    "                                            'Estimate; Female: - 50 to 54 years','Female_25_to_54']].head(5)"
   ]
  },
  {
   "cell_type": "code",
   "execution_count": 18,
   "metadata": {
    "collapsed": true
   },
   "outputs": [],
   "source": [
    "Jan_Sales_for_BDI=sales_all[sales_all['week_end_date'].isin(sales_base_week_list)]\n",
    "Jan_Sales_for_BDI=Jan_Sales_for_BDI[Jan_Sales_for_BDI['sales']>0]\n",
    "Jan_Sales_for_BDI=Jan_Sales_for_BDI.drop_duplicates()\n",
    "Jan_Sales_for_BDI=Jan_Sales_for_BDI.groupby([\"location_id\"])['week_end_date'].count().to_frame().reset_index()\n",
    "Jan_Sales_for_BDI=Jan_Sales_for_BDI[Jan_Sales_for_BDI['week_end_date']>0] #the same as ==3\n",
    "\n",
    "\n",
    "Jan_Sales_for_BDI=sales_all[sales_all['location_id'].isin(Jan_Sales_for_BDI['location_id'])]\n",
    "Jan_Sales_for_BDI=Jan_Sales_for_BDI[Jan_Sales_for_BDI['week_end_date'].isin(sales_base_week_list)]"
   ]
  },
  {
   "cell_type": "code",
   "execution_count": 19,
   "metadata": {
    "collapsed": true
   },
   "outputs": [],
   "source": [
    "stores_DMA=pd.read_excel(\"/home/jian/Projects/Big_Lots/Q1_Post/BL_Sales YoY_JL_20180618.xlsx\",sheetname=\"all store DMA\",dtype=str)\n",
    "stores_DMA=stores_DMA[['location_id','DMA']].drop_duplicates()\n",
    "Jan_Sales_for_BDI=pd.merge(Jan_Sales_for_BDI,stores_DMA,on=\"location_id\",how=\"left\")\n",
    "DMA_Jan_Sales=Jan_Sales_for_BDI.groupby([\"DMA\"])['sales'].sum().to_frame().reset_index()"
   ]
  },
  {
   "cell_type": "code",
   "execution_count": 20,
   "metadata": {
    "collapsed": true
   },
   "outputs": [],
   "source": [
    "DMA_Jan_Sales_HH=pd.merge(DMA_Jan_Sales,DMA_HH,on=\"DMA\",how=\"left\")"
   ]
  },
  {
   "cell_type": "code",
   "execution_count": 21,
   "metadata": {
    "collapsed": true
   },
   "outputs": [],
   "source": [
    "Jan_Store_Count_by_DMA=Jan_Sales_for_BDI[['location_id','DMA']].drop_duplicates()\n",
    "Jan_Store_Count_by_DMA=Jan_Store_Count_by_DMA.groupby([\"DMA\"])['location_id'].count().to_frame().reset_index()\n",
    "Jan_Store_Count_by_DMA=Jan_Store_Count_by_DMA.rename(columns={\"location_id\":\"store_count\"})"
   ]
  },
  {
   "cell_type": "code",
   "execution_count": 22,
   "metadata": {
    "collapsed": true
   },
   "outputs": [],
   "source": [
    "DMA_Jan_Sales_HH=pd.merge(DMA_Jan_Sales_HH,Jan_Store_Count_by_DMA,on=\"DMA\",how=\"left\")"
   ]
  },
  {
   "cell_type": "code",
   "execution_count": 23,
   "metadata": {
    "collapsed": true
   },
   "outputs": [],
   "source": [
    "DMA_Jan_Sales_HH['HH_per_Store']=DMA_Jan_Sales_HH['HH15']/DMA_Jan_Sales_HH['store_count']\n",
    "sales_all_DMA_Jan_Sales_HH=DMA_Jan_Sales_HH['sales'].sum()\n",
    "HH_all_DMA_Jan_Sales_HH=DMA_Jan_Sales_HH['HH15'].sum()\n",
    "\n",
    "DMA_Jan_Sales_HH['BDI']=(DMA_Jan_Sales_HH['sales']/DMA_Jan_Sales_HH['HH15'])/(sales_all_DMA_Jan_Sales_HH/HH_all_DMA_Jan_Sales_HH)*100\n",
    "\n",
    "df_BDI_by_DMA=DMA_Jan_Sales_HH[['DMA','BDI']]\n",
    "\n",
    "Df_parameters=pd.merge(Df_parameters,df_BDI_by_DMA,on=\"DMA\",how=\"left\")"
   ]
  },
  {
   "cell_type": "code",
   "execution_count": null,
   "metadata": {
    "collapsed": true
   },
   "outputs": [],
   "source": []
  },
  {
   "cell_type": "code",
   "execution_count": 24,
   "metadata": {
    "collapsed": true
   },
   "outputs": [],
   "source": [
    "# 5.0 HH per store (HH per DMA devided by store counts)\n",
    "df_HH_per_store_by_DMA=DMA_Jan_Sales_HH[['DMA','HH_per_Store']]\n",
    "Df_parameters=pd.merge(Df_parameters,df_HH_per_store_by_DMA,on=\"DMA\",how=\"left\")"
   ]
  },
  {
   "cell_type": "code",
   "execution_count": null,
   "metadata": {
    "collapsed": true
   },
   "outputs": [],
   "source": []
  },
  {
   "cell_type": "code",
   "execution_count": 25,
   "metadata": {
    "collapsed": true
   },
   "outputs": [],
   "source": [
    "# 5.1 Female 25-54 per store\n",
    "female_2554=pd.read_csv(\"/home/jian/Docs/Household_and_Population/2016/Demo_Dataset.csv\")\n",
    "female_2554['Female_25_to_54']=female_2554[['Estimate; Female: - 25 to 29 years',\n",
    "                                            'Estimate; Female: - 30 to 34 years',\n",
    "                                            'Estimate; Female: - 35 to 39 years',\n",
    "                                            'Estimate; Female: - 40 to 44 years',\n",
    "                                            'Estimate; Female: - 45 to 49 years',\n",
    "                                            'Estimate; Female: - 50 to 54 years',]].sum(axis=1)\n",
    "female_2554=female_2554[['ZIP_CODE','Female_25_to_54']].rename(columns={\"ZIP_CODE\":\"zip_cd\"})\n",
    "female_2554['zip_cd']=female_2554['zip_cd'].apply(lambda x: str(x).zfill(5))\n",
    "female_2554_DMA=pd.merge(Zip_DMA,female_2554,on=\"zip_cd\",how=\"left\")\n",
    "female_2554_DMA=female_2554_DMA.groupby(['DMA'])['Female_25_to_54'].sum().to_frame().reset_index()\n",
    "female_2554_DMA=pd.merge(DMA_Jan_Sales_HH,female_2554_DMA,on=\"DMA\",how=\"left\")\n",
    "female_2554_DMA['Female_25_54_per_Store']=female_2554_DMA['Female_25_to_54']/female_2554_DMA['store_count']\n",
    "female_2554_DMA=female_2554_DMA[['DMA','Female_25_54_per_Store']]"
   ]
  },
  {
   "cell_type": "code",
   "execution_count": 26,
   "metadata": {
    "collapsed": true
   },
   "outputs": [],
   "source": [
    "Df_parameters=pd.merge(Df_parameters,female_2554_DMA,on=\"DMA\",how=\"left\")"
   ]
  },
  {
   "cell_type": "code",
   "execution_count": 27,
   "metadata": {
    "collapsed": true
   },
   "outputs": [],
   "source": [
    "# 6 and 7 Labels (Use 2017 calander year labels)\n",
    "labels=pd.read_excel(\"/home/jian/Projects/Big_Lots/Q1_Post/Test_vs_Control/Other_input/BL_Store Sales and Ratio Groups 2017 Year_JL_20180110.xlsx\",sheetname=\"store list with group Nov. 15\",skiprows=1,dtype=str)\n",
    "labels=labels[['location_id','state_nm','city_nm','Sales Group','Ratio Group']]\n",
    "Df_parameters=pd.merge(Df_parameters,labels,on=\"location_id\",how=\"left\")\n"
   ]
  },
  {
   "cell_type": "code",
   "execution_count": 28,
   "metadata": {
    "collapsed": true
   },
   "outputs": [],
   "source": [
    "Df_parameters=Df_parameters[['location_id','state_nm','city_nm','DMA','52_week_sales','Jan_3_weeks_sales','HH_per_Store',\n",
    "                            'Female_25_54_per_Store','ARI','BDI','Sales Group','Ratio Group']]"
   ]
  },
  {
   "cell_type": "code",
   "execution_count": 29,
   "metadata": {
    "collapsed": true
   },
   "outputs": [],
   "source": [
    "Df_parameters.to_csv(\"/home/jian/Projects/Big_Lots/Q1_Post/Test_vs_Control/parameters for match stores\"+today_str+\".csv\")"
   ]
  },
  {
   "cell_type": "code",
   "execution_count": 30,
   "metadata": {},
   "outputs": [
    {
     "data": {
      "text/html": [
       "<div>\n",
       "<style>\n",
       "    .dataframe thead tr:only-child th {\n",
       "        text-align: right;\n",
       "    }\n",
       "\n",
       "    .dataframe thead th {\n",
       "        text-align: left;\n",
       "    }\n",
       "\n",
       "    .dataframe tbody tr th {\n",
       "        vertical-align: top;\n",
       "    }\n",
       "</style>\n",
       "<table border=\"1\" class=\"dataframe\">\n",
       "  <thead>\n",
       "    <tr style=\"text-align: right;\">\n",
       "      <th></th>\n",
       "      <th>location_id</th>\n",
       "      <th>state_nm</th>\n",
       "      <th>city_nm</th>\n",
       "      <th>DMA</th>\n",
       "      <th>52_week_sales</th>\n",
       "      <th>Jan_3_weeks_sales</th>\n",
       "      <th>HH_per_Store</th>\n",
       "      <th>Female_25_54_per_Store</th>\n",
       "      <th>ARI</th>\n",
       "      <th>BDI</th>\n",
       "      <th>Sales Group</th>\n",
       "      <th>Ratio Group</th>\n",
       "    </tr>\n",
       "  </thead>\n",
       "  <tbody>\n",
       "    <tr>\n",
       "      <th>0</th>\n",
       "      <td>1</td>\n",
       "      <td>OH</td>\n",
       "      <td>COLUMBUS</td>\n",
       "      <td>COLUMBUS, OH</td>\n",
       "      <td>2243400.62</td>\n",
       "      <td>202241.46</td>\n",
       "      <td>47791.1600</td>\n",
       "      <td>25206.147155</td>\n",
       "      <td>118.509320</td>\n",
       "      <td>167.766311</td>\n",
       "      <td>H</td>\n",
       "      <td>H</td>\n",
       "    </tr>\n",
       "    <tr>\n",
       "      <th>1</th>\n",
       "      <td>1001</td>\n",
       "      <td>TN</td>\n",
       "      <td>McMINNVILLE</td>\n",
       "      <td>CHATTANOOGA</td>\n",
       "      <td>1123476.33</td>\n",
       "      <td>95384.23</td>\n",
       "      <td>50243.3875</td>\n",
       "      <td>25042.647974</td>\n",
       "      <td>125.956767</td>\n",
       "      <td>137.390414</td>\n",
       "      <td>L</td>\n",
       "      <td>L</td>\n",
       "    </tr>\n",
       "  </tbody>\n",
       "</table>\n",
       "</div>"
      ],
      "text/plain": [
       "  location_id state_nm      city_nm           DMA  52_week_sales  \\\n",
       "0           1       OH     COLUMBUS  COLUMBUS, OH     2243400.62   \n",
       "1        1001       TN  McMINNVILLE   CHATTANOOGA     1123476.33   \n",
       "\n",
       "   Jan_3_weeks_sales  HH_per_Store  Female_25_54_per_Store         ARI  \\\n",
       "0          202241.46    47791.1600            25206.147155  118.509320   \n",
       "1           95384.23    50243.3875            25042.647974  125.956767   \n",
       "\n",
       "          BDI Sales Group Ratio Group  \n",
       "0  167.766311           H           H  \n",
       "1  137.390414           L           L  "
      ]
     },
     "execution_count": 30,
     "metadata": {},
     "output_type": "execute_result"
    }
   ],
   "source": [
    "Df_parameters.head(2)"
   ]
  },
  {
   "cell_type": "markdown",
   "metadata": {},
   "source": [
    "# Match T and C"
   ]
  },
  {
   "cell_type": "code",
   "execution_count": 31,
   "metadata": {
    "collapsed": true
   },
   "outputs": [],
   "source": [
    "# 60 TV\n",
    "# 40 Digital\n",
    "\n",
    "DMA_Type=pd.read_excel(\"/home/jian/Projects/Big_Lots/Q1_Post/BL_Sales YoY_JL_20180618.xlsx\",sheetname=\"DMA List\",dtype=str)\n",
    "DMA_Type.head(2)\n",
    "\n",
    "Df_parameters['Campaign_Type']=np.where(Df_parameters['DMA'].isin(DMA_Type['TV+Digital']),\"TV_Digital\",\n",
    "                                        np.where(Df_parameters['DMA'].isin(DMA_Type['Digital Only']),\"Digital Only\",\"Balance\")\n",
    "                                                )"
   ]
  },
  {
   "cell_type": "code",
   "execution_count": 53,
   "metadata": {},
   "outputs": [
    {
     "data": {
      "text/plain": [
       "(824, 13)"
      ]
     },
     "execution_count": 53,
     "metadata": {},
     "output_type": "execute_result"
    }
   ],
   "source": [
    "df_Control.shape"
   ]
  },
  {
   "cell_type": "code",
   "execution_count": 32,
   "metadata": {
    "collapsed": true
   },
   "outputs": [],
   "source": [
    "df_Test=Df_parameters[Df_parameters['Campaign_Type'].isin([\"TV_Digital\",\"Digital Only\"])]\n",
    "df_Control=Df_parameters[~Df_parameters['Campaign_Type'].isin([\"TV_Digital\",\"Digital Only\"])]\n",
    "\n",
    "\n",
    "df_Test_TV=df_Test[df_Test['Campaign_Type']==\"TV_Digital\"]\n",
    "df_Test_Digital=df_Test[df_Test['Campaign_Type']==\"Digital Only\"]"
   ]
  },
  {
   "cell_type": "code",
   "execution_count": 33,
   "metadata": {},
   "outputs": [
    {
     "name": "stderr",
     "output_type": "stream",
     "text": [
      "/usr/local/lib/python3.6/site-packages/ipykernel_launcher.py:3: SettingWithCopyWarning: \n",
      "A value is trying to be set on a copy of a slice from a DataFrame.\n",
      "Try using .loc[row_indexer,col_indexer] = value instead\n",
      "\n",
      "See the caveats in the documentation: http://pandas.pydata.org/pandas-docs/stable/indexing.html#indexing-view-versus-copy\n",
      "  This is separate from the ipykernel package so we can avoid doing imports until\n"
     ]
    }
   ],
   "source": [
    "df_Control_temp=df_Control[['location_id','Campaign_Type','52_week_sales','Jan_3_weeks_sales','HH_per_Store','Female_25_54_per_Store','ARI','BDI','Sales Group','Ratio Group']]\n",
    "df_Control_temp.columns=[\"C_\"+x for x in ['location_id','Campaign_Type','52_week_sales','Jan_3_weeks_sales','HH_per_Store','Female_25_54_per_Store','ARI','BDI','Sales Group','Ratio Group']]\n",
    "df_Control_temp['temp_key']=1"
   ]
  },
  {
   "cell_type": "code",
   "execution_count": 34,
   "metadata": {},
   "outputs": [
    {
     "data": {
      "text/plain": [
       "186"
      ]
     },
     "execution_count": 34,
     "metadata": {},
     "output_type": "execute_result"
    }
   ],
   "source": [
    "len(Df_parameters['DMA'].unique())"
   ]
  },
  {
   "cell_type": "code",
   "execution_count": 35,
   "metadata": {},
   "outputs": [
    {
     "name": "stdout",
     "output_type": "stream",
     "text": [
      "1 2018-06-25 10:19:21.071903\n",
      "20 2018-06-25 10:19:27.211602\n",
      "101 2018-06-25 10:19:54.738531\n",
      "120 2018-06-25 10:20:01.053694\n",
      "201 2018-06-25 10:20:30.169787\n",
      "220 2018-06-25 10:20:37.852254\n",
      "301 2018-06-25 10:21:12.189921\n",
      "320 2018-06-25 10:21:20.206287\n",
      "401 2018-06-25 10:21:57.383138\n",
      "420 2018-06-25 10:22:06.576197\n",
      "501 2018-06-25 10:22:46.536939\n",
      "520 2018-06-25 10:22:56.756741\n"
     ]
    }
   ],
   "source": [
    "group_label_diff_score=0.1\n",
    "\n",
    "df_match_all=pd.DataFrame()\n",
    "k_loop=0\n",
    "logging.info(str(datetime.datetime.now())+ \" : Start to do the match\")\n",
    "for location_tv in df_Test[\"location_id\"].unique().tolist():\n",
    "    df_t=df_Test[df_Test['location_id']==location_tv].reset_index()\n",
    "    df_t=df_t[['location_id','Campaign_Type','52_week_sales','Jan_3_weeks_sales','HH_per_Store','Female_25_54_per_Store','ARI','BDI','Sales Group','Ratio Group']]\n",
    "    df_t.columns=[\"T_\"+x for x in ['location_id','Campaign_Type','52_week_sales','Jan_3_weeks_sales','HH_per_Store','Female_25_54_per_Store','ARI','BDI','Sales Group','Ratio Group']]\n",
    "    df_t['temp_key']=1\n",
    "    df_match=pd.DataFrame()\n",
    "    df_match=pd.merge(df_t,df_Control_temp,on=\"temp_key\",how=\"left\")\n",
    "    \n",
    "    df_match['diff_52_week_sales']=np.nan\n",
    "    df_match['diff_Jan_3_weeks_sales']=np.nan\n",
    "    df_match['diff_HH_per_Store']=np.nan\n",
    "    df_match['diff_ARI']=np.nan\n",
    "    df_match['diff_BDI']=np.nan\n",
    "    df_match['diff_sales_lable']=np.nan\n",
    "    df_match['diff_ratio_lable']=np.nan\n",
    "    diff_52_week_sales_list=[np.nan]*len(df_Control_temp)\n",
    "    diff_Jan_3_weeks_sales_list=[np.nan]*len(df_Control_temp)\n",
    "    diff_HH_per_Store_list=[np.nan]*len(df_Control_temp)\n",
    "    diff_Female_per_Store_list=[np.nan]*len(df_Control_temp)\n",
    "    diff_ARI_list=[np.nan]*len(df_Control_temp)\n",
    "    diff_BDI_list=[np.nan]*len(df_Control_temp)\n",
    "    diff_sales_lable_list=[np.nan]*len(df_Control_temp)\n",
    "    diff_ratio_lable_list=[np.nan]*len(df_Control_temp)\n",
    "    \n",
    "    \n",
    "    \n",
    "    for i in range(len(df_Control_temp)):\n",
    "        \n",
    "        diff_52_week_sales_list[i]=(df_match['T_52_week_sales'][i]-df_match['C_52_week_sales'][i])/df_match['C_52_week_sales'][i]\n",
    "        diff_Jan_3_weeks_sales_list[i]=(df_match['T_Jan_3_weeks_sales'][i]-df_match['C_Jan_3_weeks_sales'][i])/df_match['C_Jan_3_weeks_sales'][i]\n",
    "        diff_HH_per_Store_list[i]=(df_match['T_HH_per_Store'][i]-df_match['C_HH_per_Store'][i])/df_match['C_HH_per_Store'][i]\n",
    "        diff_ARI_list[i]=(df_match['T_ARI'][i]-df_match['C_ARI'][i])/df_match['C_ARI'][i]\n",
    "        diff_BDI_list[i]=(df_match['T_BDI'][i]-df_match['C_BDI'][i])/df_match['C_BDI'][i]\n",
    "        diff_Female_per_Store_list[i]=(df_match['T_Female_25_54_per_Store'][i]-df_match['C_Female_25_54_per_Store'][i])/df_match['C_Female_25_54_per_Store'][i]\n",
    "        \n",
    "        if df_match['T_Sales Group'][i]==df_match['C_Sales Group'][i]:\n",
    "            diff_sales_lable_list[i]=0\n",
    "        else:\n",
    "            diff_sales_lable_list[i]=group_label_diff_score\n",
    "            \n",
    "        if df_match['T_Ratio Group'][i]==df_match['C_Ratio Group'][i]:\n",
    "            diff_ratio_lable_list[i]=0\n",
    "        else:\n",
    "            diff_ratio_lable_list[i]=group_label_diff_score\n",
    "            \n",
    "    df_match['diff_52_week_sales']=diff_52_week_sales_list\n",
    "    df_match['diff_Jan_3_weeks_sales']=diff_Jan_3_weeks_sales_list\n",
    "    df_match['diff_HH_per_Store']=diff_HH_per_Store_list\n",
    "    df_match['diff_Female_per_Store']=diff_Female_per_Store_list\n",
    "    df_match['diff_ARI']=diff_ARI_list\n",
    "    df_match['diff_BDI']=diff_BDI_list\n",
    "    df_match['diff_sales_lable']=diff_sales_lable_list\n",
    "    df_match['diff_ratio_lable']=diff_ratio_lable_list\n",
    "\n",
    "    \n",
    "    df_match_all=df_match_all.append(df_match)\n",
    "    \n",
    "    k_loop=k_loop+1\n",
    "    if k_loop%100==1:\n",
    "        logging.info(str(k_loop)+\": \"+str(datetime.datetime.now()))\n",
    "        print(k_loop,datetime.datetime.now())\n",
    "    if k_loop%100==20:\n",
    "        logging.info(str(k_loop)+\": \"+str(datetime.datetime.now()))\n",
    "        print(k_loop,datetime.datetime.now())\n",
    "\n",
    "logging.info(\"Finished matching: \"+str(datetime.datetime.now()))   \n"
   ]
  },
  {
   "cell_type": "code",
   "execution_count": 45,
   "metadata": {},
   "outputs": [],
   "source": [
    "df_match_all['score']=df_match_all['diff_Jan_3_weeks_sales'].apply(lambda x: abs(x))+\\\n",
    "                        df_match_all['diff_Female_per_Store'].apply(lambda x: abs(x))+\\\n",
    "                        df_match_all['diff_ARI'].apply(lambda x: abs(x))+\\\n",
    "                        df_match_all['diff_BDI'].apply(lambda x: abs(x))+\\\n",
    "                        df_match_all['diff_sales_lable'].apply(lambda x: abs(x))+\\\n",
    "                        df_match_all['diff_ratio_lable'].apply(lambda x: abs(x))\n",
    "                        \n",
    "# df_match_all['diff_52_week_sales'].apply(lambda x: abs(x))+\\                    "
   ]
  },
  {
   "cell_type": "code",
   "execution_count": 46,
   "metadata": {
    "collapsed": true
   },
   "outputs": [],
   "source": [
    "df_match_all=df_match_all.sort_values('score')\n",
    "# df_match_all.to_csv(\"/home/jian/Projects/Big_Lots/Q1_Post/Test_vs_Control/match_overall.csv\",index=False)"
   ]
  },
  {
   "cell_type": "code",
   "execution_count": 47,
   "metadata": {},
   "outputs": [
    {
     "data": {
      "text/html": [
       "<div>\n",
       "<style>\n",
       "    .dataframe thead tr:only-child th {\n",
       "        text-align: right;\n",
       "    }\n",
       "\n",
       "    .dataframe thead th {\n",
       "        text-align: left;\n",
       "    }\n",
       "\n",
       "    .dataframe tbody tr th {\n",
       "        vertical-align: top;\n",
       "    }\n",
       "</style>\n",
       "<table border=\"1\" class=\"dataframe\">\n",
       "  <thead>\n",
       "    <tr style=\"text-align: right;\">\n",
       "      <th></th>\n",
       "      <th>T_location_id</th>\n",
       "      <th>T_Campaign_Type</th>\n",
       "      <th>T_52_week_sales</th>\n",
       "      <th>T_Jan_3_weeks_sales</th>\n",
       "      <th>T_HH_per_Store</th>\n",
       "      <th>T_Female_25_54_per_Store</th>\n",
       "      <th>T_ARI</th>\n",
       "      <th>T_BDI</th>\n",
       "      <th>T_Sales Group</th>\n",
       "      <th>T_Ratio Group</th>\n",
       "      <th>...</th>\n",
       "      <th>C_Ratio Group</th>\n",
       "      <th>diff_52_week_sales</th>\n",
       "      <th>diff_Jan_3_weeks_sales</th>\n",
       "      <th>diff_HH_per_Store</th>\n",
       "      <th>diff_ARI</th>\n",
       "      <th>diff_BDI</th>\n",
       "      <th>diff_sales_lable</th>\n",
       "      <th>diff_ratio_lable</th>\n",
       "      <th>diff_Female_per_Store</th>\n",
       "      <th>score</th>\n",
       "    </tr>\n",
       "  </thead>\n",
       "  <tbody>\n",
       "    <tr>\n",
       "      <th>633</th>\n",
       "      <td>1595</td>\n",
       "      <td>TV_Digital</td>\n",
       "      <td>2320126.55</td>\n",
       "      <td>215055.08</td>\n",
       "      <td>72403.543750</td>\n",
       "      <td>40034.437500</td>\n",
       "      <td>101.549852</td>\n",
       "      <td>118.941269</td>\n",
       "      <td>H</td>\n",
       "      <td>M</td>\n",
       "      <td>...</td>\n",
       "      <td>M</td>\n",
       "      <td>0.077317</td>\n",
       "      <td>-0.017307</td>\n",
       "      <td>-0.158908</td>\n",
       "      <td>-0.000142</td>\n",
       "      <td>-0.011662</td>\n",
       "      <td>0.0</td>\n",
       "      <td>0.0</td>\n",
       "      <td>0.006674</td>\n",
       "      <td>0.035785</td>\n",
       "    </tr>\n",
       "    <tr>\n",
       "      <th>384</th>\n",
       "      <td>1829</td>\n",
       "      <td>TV_Digital</td>\n",
       "      <td>1424071.70</td>\n",
       "      <td>122146.77</td>\n",
       "      <td>55080.561538</td>\n",
       "      <td>27578.384615</td>\n",
       "      <td>110.365935</td>\n",
       "      <td>130.242075</td>\n",
       "      <td>L</td>\n",
       "      <td>M</td>\n",
       "      <td>...</td>\n",
       "      <td>M</td>\n",
       "      <td>0.090868</td>\n",
       "      <td>-0.014721</td>\n",
       "      <td>0.044899</td>\n",
       "      <td>0.008516</td>\n",
       "      <td>-0.006985</td>\n",
       "      <td>0.0</td>\n",
       "      <td>0.0</td>\n",
       "      <td>0.020149</td>\n",
       "      <td>0.050371</td>\n",
       "    </tr>\n",
       "    <tr>\n",
       "      <th>227</th>\n",
       "      <td>5268</td>\n",
       "      <td>TV_Digital</td>\n",
       "      <td>1845178.26</td>\n",
       "      <td>182547.87</td>\n",
       "      <td>53470.063158</td>\n",
       "      <td>27296.421053</td>\n",
       "      <td>109.134036</td>\n",
       "      <td>133.014649</td>\n",
       "      <td>M</td>\n",
       "      <td>M</td>\n",
       "      <td>...</td>\n",
       "      <td>M</td>\n",
       "      <td>-0.058547</td>\n",
       "      <td>0.013562</td>\n",
       "      <td>0.014347</td>\n",
       "      <td>0.015409</td>\n",
       "      <td>0.014154</td>\n",
       "      <td>0.0</td>\n",
       "      <td>0.0</td>\n",
       "      <td>0.009719</td>\n",
       "      <td>0.052844</td>\n",
       "    </tr>\n",
       "    <tr>\n",
       "      <th>349</th>\n",
       "      <td>5141</td>\n",
       "      <td>Digital Only</td>\n",
       "      <td>1378789.84</td>\n",
       "      <td>128624.44</td>\n",
       "      <td>74864.340000</td>\n",
       "      <td>37362.400000</td>\n",
       "      <td>106.682102</td>\n",
       "      <td>91.784260</td>\n",
       "      <td>L</td>\n",
       "      <td>L</td>\n",
       "      <td>...</td>\n",
       "      <td>L</td>\n",
       "      <td>-0.019396</td>\n",
       "      <td>0.014631</td>\n",
       "      <td>-0.038545</td>\n",
       "      <td>0.002096</td>\n",
       "      <td>-0.016461</td>\n",
       "      <td>0.0</td>\n",
       "      <td>0.0</td>\n",
       "      <td>0.025022</td>\n",
       "      <td>0.058210</td>\n",
       "    </tr>\n",
       "    <tr>\n",
       "      <th>632</th>\n",
       "      <td>1799</td>\n",
       "      <td>TV_Digital</td>\n",
       "      <td>1463031.91</td>\n",
       "      <td>141282.63</td>\n",
       "      <td>60927.707692</td>\n",
       "      <td>30820.153846</td>\n",
       "      <td>97.659759</td>\n",
       "      <td>106.698092</td>\n",
       "      <td>M</td>\n",
       "      <td>M</td>\n",
       "      <td>...</td>\n",
       "      <td>M</td>\n",
       "      <td>-0.065973</td>\n",
       "      <td>0.001717</td>\n",
       "      <td>-0.071258</td>\n",
       "      <td>0.018577</td>\n",
       "      <td>0.034053</td>\n",
       "      <td>0.0</td>\n",
       "      <td>0.0</td>\n",
       "      <td>0.005610</td>\n",
       "      <td>0.059957</td>\n",
       "    </tr>\n",
       "  </tbody>\n",
       "</table>\n",
       "<p>5 rows × 30 columns</p>\n",
       "</div>"
      ],
      "text/plain": [
       "    T_location_id T_Campaign_Type  T_52_week_sales  T_Jan_3_weeks_sales  \\\n",
       "633          1595      TV_Digital       2320126.55            215055.08   \n",
       "384          1829      TV_Digital       1424071.70            122146.77   \n",
       "227          5268      TV_Digital       1845178.26            182547.87   \n",
       "349          5141    Digital Only       1378789.84            128624.44   \n",
       "632          1799      TV_Digital       1463031.91            141282.63   \n",
       "\n",
       "     T_HH_per_Store  T_Female_25_54_per_Store       T_ARI       T_BDI  \\\n",
       "633    72403.543750              40034.437500  101.549852  118.941269   \n",
       "384    55080.561538              27578.384615  110.365935  130.242075   \n",
       "227    53470.063158              27296.421053  109.134036  133.014649   \n",
       "349    74864.340000              37362.400000  106.682102   91.784260   \n",
       "632    60927.707692              30820.153846   97.659759  106.698092   \n",
       "\n",
       "    T_Sales Group T_Ratio Group    ...     C_Ratio Group diff_52_week_sales  \\\n",
       "633             H             M    ...                 M           0.077317   \n",
       "384             L             M    ...                 M           0.090868   \n",
       "227             M             M    ...                 M          -0.058547   \n",
       "349             L             L    ...                 L          -0.019396   \n",
       "632             M             M    ...                 M          -0.065973   \n",
       "\n",
       "    diff_Jan_3_weeks_sales  diff_HH_per_Store  diff_ARI  diff_BDI  \\\n",
       "633              -0.017307          -0.158908 -0.000142 -0.011662   \n",
       "384              -0.014721           0.044899  0.008516 -0.006985   \n",
       "227               0.013562           0.014347  0.015409  0.014154   \n",
       "349               0.014631          -0.038545  0.002096 -0.016461   \n",
       "632               0.001717          -0.071258  0.018577  0.034053   \n",
       "\n",
       "     diff_sales_lable  diff_ratio_lable  diff_Female_per_Store     score  \n",
       "633               0.0               0.0               0.006674  0.035785  \n",
       "384               0.0               0.0               0.020149  0.050371  \n",
       "227               0.0               0.0               0.009719  0.052844  \n",
       "349               0.0               0.0               0.025022  0.058210  \n",
       "632               0.0               0.0               0.005610  0.059957  \n",
       "\n",
       "[5 rows x 30 columns]"
      ]
     },
     "execution_count": 47,
     "metadata": {},
     "output_type": "execute_result"
    }
   ],
   "source": [
    "df_match_all.head(5)"
   ]
  },
  {
   "cell_type": "code",
   "execution_count": 48,
   "metadata": {},
   "outputs": [
    {
     "data": {
      "text/plain": [
       "'1595'"
      ]
     },
     "execution_count": 48,
     "metadata": {},
     "output_type": "execute_result"
    }
   ],
   "source": [
    "df_match_all_copy=df_match_all.copy()\n",
    "df=df_match_all_copy.head(1)\n",
    "df['T_location_id'].unique().tolist()[0]"
   ]
  },
  {
   "cell_type": "code",
   "execution_count": 49,
   "metadata": {
    "collapsed": true
   },
   "outputs": [],
   "source": [
    "df_match_all_copy=df_match_all.copy()\n",
    "selected_T=[]\n",
    "selected_C=[]\n",
    "df_selected_match=pd.DataFrame()\n",
    "i=0\n",
    "while i <100:\n",
    "    df_match_all_copy=df_match_all_copy[(~df_match_all_copy['T_location_id'].isin(selected_T)) & (~df_match_all_copy['C_location_id'].isin(selected_C))]\n",
    "    df=df_match_all_copy.head(1)\n",
    "    df_selected_match=df_selected_match.append(df)\n",
    "\n",
    "    selected_T=selected_T+[df['T_location_id'].unique().tolist()[0]]\n",
    "    selected_C=selected_T+[df['C_location_id'].unique().tolist()[0]]\n",
    "    i=i+1\n",
    "    \n",
    "    \n",
    "    \n",
    "    \n",
    "    "
   ]
  },
  {
   "cell_type": "code",
   "execution_count": 50,
   "metadata": {
    "collapsed": true
   },
   "outputs": [],
   "source": [
    "df_selected_match=df_selected_match.sort_values([\"T_Campaign_Type\",\"score\"])"
   ]
  },
  {
   "cell_type": "code",
   "execution_count": 51,
   "metadata": {
    "collapsed": true
   },
   "outputs": [],
   "source": [
    "df_selected_match.to_csv(\"/home/jian/Projects/Big_Lots/Q1_Post/Test_vs_Control/selectet_top_100_match_pairs\"+today_str+\".csv\")\n",
    "\n"
   ]
  },
  {
   "cell_type": "code",
   "execution_count": null,
   "metadata": {
    "collapsed": true
   },
   "outputs": [],
   "source": []
  },
  {
   "cell_type": "code",
   "execution_count": null,
   "metadata": {
    "collapsed": true
   },
   "outputs": [],
   "source": []
  }
 ],
 "metadata": {
  "kernelspec": {
   "display_name": "Python 3",
   "language": "python",
   "name": "python3"
  },
  "language_info": {
   "codemirror_mode": {
    "name": "ipython",
    "version": 3
   },
   "file_extension": ".py",
   "mimetype": "text/x-python",
   "name": "python",
   "nbconvert_exporter": "python",
   "pygments_lexer": "ipython3",
   "version": "3.6.1"
  }
 },
 "nbformat": 4,
 "nbformat_minor": 2
}
