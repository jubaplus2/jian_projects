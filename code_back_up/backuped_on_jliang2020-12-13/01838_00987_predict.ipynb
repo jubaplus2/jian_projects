{
 "cells": [
  {
   "cell_type": "code",
   "execution_count": 7,
   "metadata": {
    "scrolled": true
   },
   "outputs": [
    {
     "data": {
      "text/plain": [
       "'/home/jian/Projects/Big_Lots/Analysis/2019_Q2/Planner_Requests/temp'"
      ]
     },
     "execution_count": 7,
     "metadata": {},
     "output_type": "execute_result"
    }
   ],
   "source": [
    "import pandas as pd\n",
    "import os\n",
    "import datetime\n",
    "import numpy as np\n",
    "import json\n",
    "import gc\n",
    "os.getcwd()"
   ]
  },
  {
   "cell_type": "code",
   "execution_count": 8,
   "metadata": {
    "collapsed": true
   },
   "outputs": [],
   "source": [
    "dict_xx=json.load(open(\"./dict_XX_prodcut.json\",\"r\"))\n",
    "dict_yy=json.load(open(\"./dict_YY_prodcut.json\",\"r\"))"
   ]
  },
  {
   "cell_type": "code",
   "execution_count": 9,
   "metadata": {},
   "outputs": [
    {
     "name": "stdout",
     "output_type": "stream",
     "text": [
      "(166832, 2)\n",
      "(2399699, 2)\n"
     ]
    },
    {
     "data": {
      "text/plain": [
       "21"
      ]
     },
     "execution_count": 9,
     "metadata": {},
     "output_type": "execute_result"
    }
   ],
   "source": [
    "df_yy=pd.read_csv(\"./data/Antai_AE_round1_test_20190626.csv\",dtype=str,usecols=['buyer_country_id','item_id'])\n",
    "print(df_yy.shape)\n",
    "df_xx=pd.read_csv(\"./data/Antai_AE_round1_train_20190626.zip\",compression=\"zip\",dtype=str,usecols=['buyer_country_id','item_id'])\n",
    "df_xx=df_xx[df_xx['buyer_country_id']==\"yy\"]\n",
    "df_yy=df_yy.append(df_xx)\n",
    "del df_xx\n",
    "gc.collect()\n",
    "\n",
    "\n",
    "df_most_popular_30_items=df_yy.groupby(\"item_id\")['buyer_country_id'].count().to_frame().reset_index().sort_values(\"buyer_country_id\",ascending=False)\n",
    "most_popular_30_items=df_most_popular_30_items.head(30)['item_id'].tolist()\n",
    "\n",
    "print(df_yy.shape)\n",
    "del df_yy\n",
    "gc.collect()"
   ]
  },
  {
   "cell_type": "code",
   "execution_count": 47,
   "metadata": {},
   "outputs": [
    {
     "data": {
      "text/plain": [
       "2399699"
      ]
     },
     "execution_count": 47,
     "metadata": {},
     "output_type": "execute_result"
    }
   ],
   "source": [
    "df_most_popular_30_items['buyer_country_id'].sum()"
   ]
  },
  {
   "cell_type": "code",
   "execution_count": 10,
   "metadata": {},
   "outputs": [
    {
     "data": {
      "text/plain": [
       "(122630, 3)"
      ]
     },
     "execution_count": 10,
     "metadata": {},
     "output_type": "execute_result"
    }
   ],
   "source": [
    "df_YY_total=pd.DataFrame()\n",
    "for key,value in dict_yy.items():\n",
    "    df=pd.DataFrame(value,index=[\"prob_yy\"]).T\n",
    "    df['hold_item']=key\n",
    "    df=df.reset_index().rename(columns={\"index\":\"pred_item\"})\n",
    "    \n",
    "    df_YY_total=df_YY_total.append(df)\n",
    "df_YY_total.shape"
   ]
  },
  {
   "cell_type": "code",
   "execution_count": 11,
   "metadata": {},
   "outputs": [
    {
     "data": {
      "text/plain": [
       "(1161314, 3)"
      ]
     },
     "execution_count": 11,
     "metadata": {},
     "output_type": "execute_result"
    }
   ],
   "source": [
    "df_XX_total=pd.DataFrame()\n",
    "for key,value in dict_xx.items():\n",
    "    df=pd.DataFrame(value,index=[\"prob_xx\"]).T\n",
    "    df['hold_item']=key\n",
    "    df=df.reset_index().rename(columns={\"index\":\"pred_item\"})\n",
    "    \n",
    "    df_XX_total=df_XX_total.append(df)\n",
    "df_XX_total.shape"
   ]
  },
  {
   "cell_type": "code",
   "execution_count": 12,
   "metadata": {},
   "outputs": [
    {
     "data": {
      "text/plain": [
       "(1275788, 5)"
      ]
     },
     "execution_count": 12,
     "metadata": {},
     "output_type": "execute_result"
    }
   ],
   "source": [
    "df_hold_pred_items=pd.merge(df_XX_total,df_YY_total,on=['hold_item','pred_item'],how=\"outer\")\n",
    "df_hold_pred_items=df_hold_pred_items.fillna(0)\n",
    "# df_hold_pred_items['weighted_prob']=df_hold_pred_items['prob_xx']*0.4+df_hold_pred_items['prob_yy']*0.6\n",
    "df_hold_pred_items['weighted_prob']=np.where(df_hold_pred_items['prob_xx']==0,df_hold_pred_items['prob_yy'],\n",
    "                                            np.where(df_hold_pred_items['prob_yy']==0,df_hold_pred_items['prob_xx']*0.95,\n",
    "                                                    df_hold_pred_items['prob_yy']*0.85+df_hold_pred_items['prob_xx']*0.15)\n",
    "                                            )\n",
    "# df_hold_pred_items['prob_xx']*0.4+df_hold_pred_items['prob_yy']*0.6\n",
    "\n",
    "df_hold_pred_items=df_hold_pred_items.sort_values(['hold_item','weighted_prob'],ascending=[True,False]).reset_index()\n",
    "del df_hold_pred_items['index']\n",
    "df_hold_pred_items.shape"
   ]
  },
  {
   "cell_type": "code",
   "execution_count": 14,
   "metadata": {},
   "outputs": [
    {
     "data": {
      "text/plain": [
       "(166832, 5)"
      ]
     },
     "execution_count": 14,
     "metadata": {},
     "output_type": "execute_result"
    }
   ],
   "source": [
    "df_test=pd.read_csv(\"./data/Antai_AE_round1_test_20190626.csv\",dtype=str)\n",
    "df_test['irank']=df_test['irank'].astype(int)\n",
    "df_test=df_test.sort_values([\"buyer_admin_id\",\"create_order_time\",\"irank\"])\n",
    "df_test.shape"
   ]
  },
  {
   "cell_type": "code",
   "execution_count": 15,
   "metadata": {
    "collapsed": true
   },
   "outputs": [],
   "source": [
    "df_temp=df_test[['buyer_admin_id','create_order_time']].drop_duplicates()\n",
    "new_rank=[]\n",
    "for buyer_id,df_group in df_temp.groupby(\"buyer_admin_id\"):\n",
    "    new_rank=new_rank+[x+1 for x in range(len(df_group))]\n",
    "        \n",
    "df_temp['new_rank']=new_rank\n",
    "df_test=pd.merge(df_test,df_temp,on=['buyer_admin_id','create_order_time'])"
   ]
  },
  {
   "cell_type": "code",
   "execution_count": 16,
   "metadata": {},
   "outputs": [
    {
     "name": "stdout",
     "output_type": "stream",
     "text": [
      "(1275788, 3)\n",
      "(1275788, 2)\n"
     ]
    }
   ],
   "source": [
    "df_dict_prob=df_hold_pred_items[['pred_item','hold_item','weighted_prob']]\n",
    "print(df_dict_prob.shape)\n",
    "print(df_dict_prob[['pred_item','hold_item']].drop_duplicates().shape)\n",
    "df_dict_prob=df_dict_prob.rename(columns={\"hold_item\":\"item_id\"})"
   ]
  },
  {
   "cell_type": "code",
   "execution_count": 19,
   "metadata": {
    "scrolled": true
   },
   "outputs": [
    {
     "data": {
      "text/html": [
       "<div>\n",
       "<style>\n",
       "    .dataframe thead tr:only-child th {\n",
       "        text-align: right;\n",
       "    }\n",
       "\n",
       "    .dataframe thead th {\n",
       "        text-align: left;\n",
       "    }\n",
       "\n",
       "    .dataframe tbody tr th {\n",
       "        vertical-align: top;\n",
       "    }\n",
       "</style>\n",
       "<table border=\"1\" class=\"dataframe\">\n",
       "  <thead>\n",
       "    <tr style=\"text-align: right;\">\n",
       "      <th></th>\n",
       "      <th>buyer_country_id</th>\n",
       "      <th>buyer_admin_id</th>\n",
       "      <th>item_id</th>\n",
       "      <th>create_order_time</th>\n",
       "      <th>irank</th>\n",
       "      <th>new_rank</th>\n",
       "      <th>date_time</th>\n",
       "      <th>date</th>\n",
       "    </tr>\n",
       "  </thead>\n",
       "  <tbody>\n",
       "    <tr>\n",
       "      <th>0</th>\n",
       "      <td>yy</td>\n",
       "      <td>1000334</td>\n",
       "      <td>7610114</td>\n",
       "      <td>2018-08-16 09:23:33</td>\n",
       "      <td>18</td>\n",
       "      <td>1</td>\n",
       "      <td>2018-08-16 09:23:33</td>\n",
       "      <td>2018-08-16</td>\n",
       "    </tr>\n",
       "    <tr>\n",
       "      <th>1</th>\n",
       "      <td>yy</td>\n",
       "      <td>1000334</td>\n",
       "      <td>7610114</td>\n",
       "      <td>2018-08-16 09:23:33</td>\n",
       "      <td>19</td>\n",
       "      <td>1</td>\n",
       "      <td>2018-08-16 09:23:33</td>\n",
       "      <td>2018-08-16</td>\n",
       "    </tr>\n",
       "    <tr>\n",
       "      <th>2</th>\n",
       "      <td>yy</td>\n",
       "      <td>1000334</td>\n",
       "      <td>9559864</td>\n",
       "      <td>2018-08-16 09:48:57</td>\n",
       "      <td>16</td>\n",
       "      <td>2</td>\n",
       "      <td>2018-08-16 09:48:57</td>\n",
       "      <td>2018-08-16</td>\n",
       "    </tr>\n",
       "    <tr>\n",
       "      <th>3</th>\n",
       "      <td>yy</td>\n",
       "      <td>1000334</td>\n",
       "      <td>10908604</td>\n",
       "      <td>2018-08-16 09:48:57</td>\n",
       "      <td>17</td>\n",
       "      <td>2</td>\n",
       "      <td>2018-08-16 09:48:57</td>\n",
       "      <td>2018-08-16</td>\n",
       "    </tr>\n",
       "    <tr>\n",
       "      <th>4</th>\n",
       "      <td>yy</td>\n",
       "      <td>1000334</td>\n",
       "      <td>6271572</td>\n",
       "      <td>2018-08-16 09:52:21</td>\n",
       "      <td>15</td>\n",
       "      <td>3</td>\n",
       "      <td>2018-08-16 09:52:21</td>\n",
       "      <td>2018-08-16</td>\n",
       "    </tr>\n",
       "    <tr>\n",
       "      <th>5</th>\n",
       "      <td>yy</td>\n",
       "      <td>1000334</td>\n",
       "      <td>11549978</td>\n",
       "      <td>2018-08-17 09:25:11</td>\n",
       "      <td>14</td>\n",
       "      <td>4</td>\n",
       "      <td>2018-08-17 09:25:11</td>\n",
       "      <td>2018-08-17</td>\n",
       "    </tr>\n",
       "    <tr>\n",
       "      <th>6</th>\n",
       "      <td>yy</td>\n",
       "      <td>1000334</td>\n",
       "      <td>4326555</td>\n",
       "      <td>2018-08-21 04:13:38</td>\n",
       "      <td>13</td>\n",
       "      <td>5</td>\n",
       "      <td>2018-08-21 04:13:38</td>\n",
       "      <td>2018-08-21</td>\n",
       "    </tr>\n",
       "    <tr>\n",
       "      <th>7</th>\n",
       "      <td>yy</td>\n",
       "      <td>1000334</td>\n",
       "      <td>1313773</td>\n",
       "      <td>2018-08-27 02:52:21</td>\n",
       "      <td>9</td>\n",
       "      <td>6</td>\n",
       "      <td>2018-08-27 02:52:21</td>\n",
       "      <td>2018-08-27</td>\n",
       "    </tr>\n",
       "    <tr>\n",
       "      <th>8</th>\n",
       "      <td>yy</td>\n",
       "      <td>1000334</td>\n",
       "      <td>838639</td>\n",
       "      <td>2018-08-27 02:52:21</td>\n",
       "      <td>10</td>\n",
       "      <td>6</td>\n",
       "      <td>2018-08-27 02:52:21</td>\n",
       "      <td>2018-08-27</td>\n",
       "    </tr>\n",
       "    <tr>\n",
       "      <th>9</th>\n",
       "      <td>yy</td>\n",
       "      <td>1000334</td>\n",
       "      <td>4982387</td>\n",
       "      <td>2018-08-27 02:52:21</td>\n",
       "      <td>11</td>\n",
       "      <td>6</td>\n",
       "      <td>2018-08-27 02:52:21</td>\n",
       "      <td>2018-08-27</td>\n",
       "    </tr>\n",
       "  </tbody>\n",
       "</table>\n",
       "</div>"
      ],
      "text/plain": [
       "  buyer_country_id buyer_admin_id   item_id    create_order_time  irank  \\\n",
       "0               yy        1000334   7610114  2018-08-16 09:23:33     18   \n",
       "1               yy        1000334   7610114  2018-08-16 09:23:33     19   \n",
       "2               yy        1000334   9559864  2018-08-16 09:48:57     16   \n",
       "3               yy        1000334  10908604  2018-08-16 09:48:57     17   \n",
       "4               yy        1000334   6271572  2018-08-16 09:52:21     15   \n",
       "5               yy        1000334  11549978  2018-08-17 09:25:11     14   \n",
       "6               yy        1000334   4326555  2018-08-21 04:13:38     13   \n",
       "7               yy        1000334   1313773  2018-08-27 02:52:21      9   \n",
       "8               yy        1000334    838639  2018-08-27 02:52:21     10   \n",
       "9               yy        1000334   4982387  2018-08-27 02:52:21     11   \n",
       "\n",
       "   new_rank           date_time        date  \n",
       "0         1 2018-08-16 09:23:33  2018-08-16  \n",
       "1         1 2018-08-16 09:23:33  2018-08-16  \n",
       "2         2 2018-08-16 09:48:57  2018-08-16  \n",
       "3         2 2018-08-16 09:48:57  2018-08-16  \n",
       "4         3 2018-08-16 09:52:21  2018-08-16  \n",
       "5         4 2018-08-17 09:25:11  2018-08-17  \n",
       "6         5 2018-08-21 04:13:38  2018-08-21  \n",
       "7         6 2018-08-27 02:52:21  2018-08-27  \n",
       "8         6 2018-08-27 02:52:21  2018-08-27  \n",
       "9         6 2018-08-27 02:52:21  2018-08-27  "
      ]
     },
     "execution_count": 19,
     "metadata": {},
     "output_type": "execute_result"
    }
   ],
   "source": [
    "df_test['date_time']=pd.to_datetime(df_test['create_order_time'],format=\"%Y-%m-%d %H:%M:%S\")\n",
    "df_test['date']=df_test['date_time'].apply(lambda x: x.date())\n",
    "df_test.head(10)"
   ]
  },
  {
   "cell_type": "code",
   "execution_count": 20,
   "metadata": {},
   "outputs": [
    {
     "data": {
      "text/plain": [
       "11398"
      ]
     },
     "execution_count": 20,
     "metadata": {},
     "output_type": "execute_result"
    }
   ],
   "source": [
    "df_test_iter=df_test[[\"buyer_admin_id\",'new_rank',\"item_id\",'date']]\n",
    "df_test_iter['buyer_admin_id'].nunique()"
   ]
  },
  {
   "cell_type": "code",
   "execution_count": null,
   "metadata": {
    "collapsed": true
   },
   "outputs": [],
   "source": []
  },
  {
   "cell_type": "code",
   "execution_count": 54,
   "metadata": {},
   "outputs": [
    {
     "name": "stderr",
     "output_type": "stream",
     "text": [
      "/usr/local/lib/python3.6/site-packages/ipykernel_launcher.py:11: SettingWithCopyWarning: \n",
      "A value is trying to be set on a copy of a slice from a DataFrame.\n",
      "Try using .loc[row_indexer,col_indexer] = value instead\n",
      "\n",
      "See the caveats in the documentation: http://pandas.pydata.org/pandas-docs/stable/indexing.html#indexing-view-versus-copy\n",
      "  # This is added back by InteractiveShellApp.init_path()\n"
     ]
    },
    {
     "name": "stdout",
     "output_type": "stream",
     "text": [
      "2019-08-11 15:51:01.104469 2\n",
      "2019-08-11 15:51:23.369738 102\n",
      "2019-08-11 15:51:45.879314 202\n",
      "2019-08-11 15:52:08.452527 302\n",
      "2019-08-11 15:52:30.956277 402\n",
      "2019-08-11 15:52:53.399148 502\n",
      "2019-08-11 15:53:16.089655 602\n",
      "2019-08-11 15:53:38.513950 702\n",
      "2019-08-11 15:54:00.989134 802\n",
      "2019-08-11 15:54:23.587810 902\n",
      "2019-08-11 15:54:46.154620 1002\n",
      "2019-08-11 15:55:08.473112 1102\n",
      "2019-08-11 15:55:30.900415 1202\n",
      "2019-08-11 15:55:53.547416 1302\n",
      "2019-08-11 15:56:16.108890 1402\n",
      "2019-08-11 15:56:38.748398 1502\n",
      "2019-08-11 15:57:01.078289 1602\n",
      "2019-08-11 15:57:23.694475 1702\n",
      "2019-08-11 15:57:46.403723 1802\n",
      "2019-08-11 15:58:09.009830 1902\n",
      "2019-08-11 15:58:31.344580 2002\n",
      "2019-08-11 15:58:53.715688 2102\n",
      "2019-08-11 15:59:16.159068 2202\n",
      "2019-08-11 15:59:38.275840 2302\n",
      "2019-08-11 16:00:00.692297 2402\n",
      "2019-08-11 16:00:23.311006 2502\n",
      "2019-08-11 16:00:45.990215 2602\n",
      "2019-08-11 16:01:08.476624 2702\n",
      "2019-08-11 16:01:31.188951 2802\n",
      "2019-08-11 16:01:53.708460 2902\n",
      "2019-08-11 16:02:16.422459 3002\n",
      "2019-08-11 16:02:39.005363 3102\n",
      "2019-08-11 16:03:01.786173 3202\n",
      "2019-08-11 16:03:24.667950 3302\n",
      "2019-08-11 16:03:47.606637 3402\n",
      "2019-08-11 16:04:10.473705 3502\n",
      "2019-08-11 16:04:33.132133 3602\n",
      "2019-08-11 16:04:55.902595 3702\n",
      "2019-08-11 16:05:18.716144 3802\n",
      "2019-08-11 16:05:41.478420 3902\n",
      "2019-08-11 16:06:04.207760 4002\n",
      "2019-08-11 16:06:26.698763 4102\n",
      "2019-08-11 16:06:49.116217 4202\n",
      "2019-08-11 16:07:11.403049 4302\n",
      "2019-08-11 16:07:33.889710 4402\n",
      "2019-08-11 16:07:56.421631 4502\n",
      "2019-08-11 16:08:19.143625 4602\n",
      "2019-08-11 16:08:41.517535 4702\n",
      "2019-08-11 16:09:04.015115 4802\n",
      "2019-08-11 16:09:26.511111 4902\n",
      "2019-08-11 16:09:49.115092 5002\n",
      "2019-08-11 16:10:11.966571 5102\n",
      "2019-08-11 16:10:34.831725 5202\n",
      "2019-08-11 16:10:57.894435 5302\n",
      "2019-08-11 16:11:21.076899 5402\n",
      "2019-08-11 16:11:43.896260 5502\n",
      "2019-08-11 16:12:06.968995 5602\n",
      "2019-08-11 16:12:30.012579 5702\n",
      "2019-08-11 16:12:53.245858 5802\n",
      "2019-08-11 16:13:16.315788 5902\n",
      "2019-08-11 16:13:38.984774 6002\n",
      "2019-08-11 16:14:01.591206 6102\n",
      "2019-08-11 16:14:23.895297 6202\n",
      "2019-08-11 16:14:46.703622 6302\n",
      "2019-08-11 16:15:09.324371 6402\n",
      "2019-08-11 16:15:31.423597 6502\n",
      "2019-08-11 16:15:53.210789 6602\n",
      "2019-08-11 16:16:15.963948 6702\n",
      "2019-08-11 16:16:38.656434 6802\n",
      "2019-08-11 16:17:01.275361 6902\n",
      "2019-08-11 16:17:24.081434 7002\n",
      "2019-08-11 16:17:46.722095 7102\n",
      "2019-08-11 16:18:09.583550 7202\n",
      "2019-08-11 16:18:32.468094 7302\n",
      "2019-08-11 16:18:55.208139 7402\n",
      "2019-08-11 16:19:17.946848 7502\n",
      "2019-08-11 16:19:40.833730 7602\n",
      "2019-08-11 16:20:03.281367 7702\n",
      "2019-08-11 16:20:25.895831 7802\n",
      "2019-08-11 16:20:48.890491 7902\n",
      "2019-08-11 16:21:11.647463 8002\n",
      "2019-08-11 16:21:34.438718 8102\n",
      "2019-08-11 16:21:57.087232 8202\n",
      "2019-08-11 16:22:20.029761 8302\n",
      "2019-08-11 16:22:42.921312 8402\n",
      "2019-08-11 16:23:05.872931 8502\n",
      "2019-08-11 16:23:28.745625 8602\n",
      "2019-08-11 16:23:51.711032 8702\n",
      "2019-08-11 16:24:14.546135 8802\n",
      "2019-08-11 16:24:37.430048 8902\n",
      "2019-08-11 16:25:00.295608 9002\n",
      "2019-08-11 16:25:23.156878 9102\n",
      "2019-08-11 16:25:45.990165 9202\n",
      "2019-08-11 16:26:08.873870 9302\n",
      "2019-08-11 16:26:32.161055 9402\n",
      "2019-08-11 16:26:54.805228 9502\n",
      "2019-08-11 16:27:17.853792 9602\n",
      "2019-08-11 16:27:40.965865 9702\n",
      "2019-08-11 16:28:04.073678 9802\n",
      "2019-08-11 16:28:27.065611 9902\n",
      "2019-08-11 16:28:50.026521 10002\n",
      "2019-08-11 16:29:13.127468 10102\n",
      "2019-08-11 16:29:36.159171 10202\n",
      "2019-08-11 16:29:59.178927 10302\n",
      "2019-08-11 16:30:22.079008 10402\n",
      "2019-08-11 16:30:45.199928 10502\n",
      "2019-08-11 16:31:08.173689 10602\n",
      "2019-08-11 16:31:31.247016 10702\n",
      "2019-08-11 16:31:54.034038 10802\n",
      "2019-08-11 16:32:16.983578 10902\n",
      "2019-08-11 16:32:40.002017 11002\n",
      "2019-08-11 16:33:03.014539 11102\n",
      "2019-08-11 16:33:25.878568 11202\n",
      "2019-08-11 16:33:48.832021 11302\n",
      "11398 3307\n"
     ]
    }
   ],
   "source": [
    "col_30=[x+1 for x in range(30)]\n",
    "df_output=pd.DataFrame(columns=['buyer_id']+col_30)\n",
    "i=0\n",
    "i_fill=0\n",
    "for buyer_id,df_group in df_test_iter.groupby([\"buyer_admin_id\"]):\n",
    "    purchased_items=df_group['item_id'].tolist()\n",
    "    last_item=purchased_items[-1]\n",
    "    df_date_max=df_group['date'].max()\n",
    "    # break\n",
    "    df_group=df_group[df_group['date']>=(df_date_max-datetime.timedelta(days=7))]\n",
    "    df_group['days_delta']=df_group['date'].apply(lambda x: (7-(df_date_max-x).days))\n",
    "    # break\n",
    "    df_group=pd.merge(df_group,df_dict_prob,on=\"item_id\",how=\"left\")\n",
    "    df_group=df_group.fillna(0)\n",
    "    df_group=df_group[df_group['weighted_prob']!=0]\n",
    "    \n",
    "    df_group['final_score']=df_group['weighted_prob']*df_group['days_delta']*df_group['days_delta']\n",
    "\n",
    "    df_group=df_group.groupby(\"pred_item\")['final_score'].sum().to_frame().reset_index()\n",
    "    \n",
    "    df_group['final_score']=np.where(df_group['pred_item'].isin(purchased_items),df_group['final_score']*0.01,df_group['final_score'])\n",
    "    df_group=df_group.sort_values(\"final_score\",ascending=False).head(30)\n",
    "    \n",
    "    df_list_30=df_group['pred_item'].tolist()\n",
    "    if len(df_list_30)<=20:\n",
    "        i_fill+=1\n",
    "    df_list_30=df_list_30+most_popular_30_items[:30-len(df_list_30)]\n",
    "\n",
    "    df=pd.DataFrame({\"result\":df_list_30},index=col_30).T\n",
    "    df['buyer_id']=buyer_id\n",
    "    \n",
    "    df_output=df_output.append(df)\n",
    "    i+=1\n",
    "    if i%100==2:\n",
    "        print(datetime.datetime.now(),i)\n",
    "\n",
    "print(i,i_fill)"
   ]
  },
  {
   "cell_type": "code",
   "execution_count": 59,
   "metadata": {
    "collapsed": true
   },
   "outputs": [],
   "source": [
    "df_output.to_csv(\"./outputV3_JL_\"+str(datetime.datetime.now().date()).replace(\"-\",\"\")+\".csv\",index=False,header=False)"
   ]
  },
  {
   "cell_type": "code",
   "execution_count": 58,
   "metadata": {},
   "outputs": [
    {
     "data": {
      "text/plain": [
       "(11398, 31)"
      ]
     },
     "execution_count": 58,
     "metadata": {},
     "output_type": "execute_result"
    }
   ],
   "source": [
    "df_output.shape"
   ]
  },
  {
   "cell_type": "code",
   "execution_count": 56,
   "metadata": {},
   "outputs": [
    {
     "name": "stdout",
     "output_type": "stream",
     "text": [
      "buyer_id [<class 'str'>]\n",
      "1 [<class 'str'>]\n",
      "2 [<class 'str'>]\n",
      "3 [<class 'str'>]\n",
      "4 [<class 'str'>]\n",
      "5 [<class 'str'>]\n",
      "6 [<class 'str'>]\n",
      "7 [<class 'str'>]\n",
      "8 [<class 'str'>]\n",
      "9 [<class 'str'>]\n",
      "10 [<class 'str'>]\n",
      "11 [<class 'str'>]\n",
      "12 [<class 'str'>]\n",
      "13 [<class 'str'>]\n",
      "14 [<class 'str'>]\n",
      "15 [<class 'str'>]\n",
      "16 [<class 'str'>]\n",
      "17 [<class 'str'>]\n",
      "18 [<class 'str'>]\n",
      "19 [<class 'str'>]\n",
      "20 [<class 'str'>]\n",
      "21 [<class 'str'>]\n",
      "22 [<class 'str'>]\n",
      "23 [<class 'str'>]\n",
      "24 [<class 'str'>]\n",
      "25 [<class 'str'>]\n",
      "26 [<class 'str'>]\n",
      "27 [<class 'str'>]\n",
      "28 [<class 'str'>]\n",
      "29 [<class 'str'>]\n",
      "30 [<class 'str'>]\n"
     ]
    }
   ],
   "source": [
    "for col in df_output.columns.tolist():\n",
    "    print(col,df_output[col].apply(lambda x: type(x)).unique())"
   ]
  },
  {
   "cell_type": "code",
   "execution_count": 57,
   "metadata": {},
   "outputs": [
    {
     "data": {
      "text/plain": [
       "datetime.datetime(2019, 8, 11, 16, 35, 0, 828111)"
      ]
     },
     "execution_count": 57,
     "metadata": {},
     "output_type": "execute_result"
    }
   ],
   "source": [
    "datetime.datetime.now()"
   ]
  },
  {
   "cell_type": "code",
   "execution_count": null,
   "metadata": {
    "collapsed": true
   },
   "outputs": [],
   "source": []
  }
 ],
 "metadata": {
  "kernelspec": {
   "display_name": "Python 3",
   "language": "python",
   "name": "python3"
  },
  "language_info": {
   "codemirror_mode": {
    "name": "ipython",
    "version": 3
   },
   "file_extension": ".py",
   "mimetype": "text/x-python",
   "name": "python",
   "nbconvert_exporter": "python",
   "pygments_lexer": "ipython3",
   "version": "3.6.1"
  }
 },
 "nbformat": 4,
 "nbformat_minor": 2
}
