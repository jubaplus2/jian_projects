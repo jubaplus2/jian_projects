{
 "cells": [
  {
   "cell_type": "code",
   "execution_count": 9,
   "metadata": {
    "collapsed": true
   },
   "outputs": [],
   "source": [
    "import pandas as pd\n",
    "import numpy as np"
   ]
  },
  {
   "cell_type": "code",
   "execution_count": 10,
   "metadata": {
    "collapsed": true
   },
   "outputs": [],
   "source": [
    "Jay_Compelet_DF=pd.read_csv('/home/jian/Projects/Big Lots/QC Jay/sales_by_zip_completed.csv')"
   ]
  },
  {
   "cell_type": "code",
   "execution_count": 11,
   "metadata": {},
   "outputs": [
    {
     "data": {
      "text/plain": [
       "(1634909, 14)"
      ]
     },
     "execution_count": 11,
     "metadata": {},
     "output_type": "execute_result"
    }
   ],
   "source": [
    "Jay_Compelet_DF.shape"
   ]
  },
  {
   "cell_type": "code",
   "execution_count": 12,
   "metadata": {},
   "outputs": [
    {
     "data": {
      "text/plain": [
       "14993708"
      ]
     },
     "execution_count": 12,
     "metadata": {},
     "output_type": "execute_result"
    }
   ],
   "source": [
    "Jay_Compelet_DF['transactions'].sum()"
   ]
  },
  {
   "cell_type": "code",
   "execution_count": 32,
   "metadata": {
    "collapsed": true
   },
   "outputs": [],
   "source": [
    "df = pd.read_csv('/home/jian/BigLots/By Zip/MediaStorm Sales by Zip fiscal 2016/MediaStorm Sales by Zip - Feb-May 2016.txt',sep = ',',dtype = 'str')\n",
    "df2 = pd.read_csv('/home/jian/BigLots/By Zip/MediaStorm Sales by Zip fiscal 2016/MediaStorm Sales by Zip - Oct 2016 -Jan 2017.txt',sep = ',',dtype = 'str')\n",
    "df3 = pd.read_csv('/home/jian/BigLots/By Zip/MediaStorm Sales by Zip fiscal 2016/MediaStorm Sales by Zip - Jun-Sep 2016.txt',sep = ',',dtype = 'str')\n",
    "\n",
    "df = df.append(df2, ignore_index=True)\n",
    "df = df.append(df3, ignore_index=True)"
   ]
  },
  {
   "cell_type": "code",
   "execution_count": 33,
   "metadata": {
    "collapsed": true
   },
   "outputs": [],
   "source": [
    "del df2\n",
    "del df3"
   ]
  },
  {
   "cell_type": "code",
   "execution_count": 34,
   "metadata": {
    "collapsed": true
   },
   "outputs": [],
   "source": [
    "df['zip']=df['zip_cd'].apply(lambda x: x[0:5])"
   ]
  },
  {
   "cell_type": "code",
   "execution_count": 37,
   "metadata": {
    "collapsed": true
   },
   "outputs": [],
   "source": [
    "df['zip_len']=df['zip_cd'].apply(len)"
   ]
  },
  {
   "cell_type": "code",
   "execution_count": 38,
   "metadata": {},
   "outputs": [],
   "source": [
    "df=df[df['zip_len']>=5]"
   ]
  },
  {
   "cell_type": "code",
   "execution_count": 39,
   "metadata": {},
   "outputs": [],
   "source": [
    "df['zip_1']=df['zip_cd'].apply(lambda x: x[0])\n",
    "df['zip_2']=df['zip_cd'].apply(lambda x: x[1])\n",
    "df['zip_3']=df['zip_cd'].apply(lambda x: x[2])\n",
    "df['zip_4']=df['zip_cd'].apply(lambda x: x[3])\n",
    "df['zip_5']=df['zip_cd'].apply(lambda x: x[4])"
   ]
  },
  {
   "cell_type": "code",
   "execution_count": 40,
   "metadata": {
    "collapsed": true
   },
   "outputs": [],
   "source": [
    "num_list = ['0','1','2','3','4','5','6','7','8','9']"
   ]
  },
  {
   "cell_type": "code",
   "execution_count": 41,
   "metadata": {},
   "outputs": [
    {
     "data": {
      "text/plain": [
       "(15655073, 11)"
      ]
     },
     "execution_count": 41,
     "metadata": {},
     "output_type": "execute_result"
    }
   ],
   "source": [
    "df.shape"
   ]
  },
  {
   "cell_type": "code",
   "execution_count": 42,
   "metadata": {},
   "outputs": [
    {
     "data": {
      "text/plain": [
       "(15655070, 11)"
      ]
     },
     "execution_count": 42,
     "metadata": {},
     "output_type": "execute_result"
    }
   ],
   "source": [
    "df = df[df['zip_1'].isin(num_list)]\n",
    "df = df[df['zip_2'].isin(num_list)]\n",
    "df = df[df['zip_3'].isin(num_list)]\n",
    "df = df[df['zip_4'].isin(num_list)]\n",
    "df = df[df['zip_5'].isin(num_list)]\n",
    "df.shape"
   ]
  },
  {
   "cell_type": "code",
   "execution_count": 43,
   "metadata": {
    "collapsed": true
   },
   "outputs": [],
   "source": [
    "del df['zip_1']\n",
    "del df['zip_2']\n",
    "del df['zip_3']\n",
    "del df['zip_4']\n",
    "del df['zip_5']\n",
    "del df['zip_len']"
   ]
  },
  {
   "cell_type": "code",
   "execution_count": 45,
   "metadata": {},
   "outputs": [],
   "source": [
    "df['zip']=df['zip'].astype('int')"
   ]
  },
  {
   "cell_type": "code",
   "execution_count": null,
   "metadata": {
    "collapsed": true
   },
   "outputs": [],
   "source": [
    "df['zip']=df[df['zip']!=0]"
   ]
  },
  {
   "cell_type": "code",
   "execution_count": 46,
   "metadata": {
    "collapsed": true
   },
   "outputs": [],
   "source": [
    "store_list = pd.read_csv('/home/jian/BigLots/static_files/MediaStormStoreList_Nov15.txt',sep = '|',dtype = 'str')"
   ]
  },
  {
   "cell_type": "code",
   "execution_count": 47,
   "metadata": {
    "collapsed": true
   },
   "outputs": [],
   "source": [
    "df = df[df['location_id'].isin(store_list['location_id'])]"
   ]
  },
  {
   "cell_type": "code",
   "execution_count": 48,
   "metadata": {
    "collapsed": true
   },
   "outputs": [],
   "source": [
    "df['net_transaction_amt']=df['net_transaction_amt'].astype(float)"
   ]
  },
  {
   "cell_type": "code",
   "execution_count": 49,
   "metadata": {
    "collapsed": true
   },
   "outputs": [],
   "source": [
    "df.drop_duplicates(inplace=True)"
   ]
  },
  {
   "cell_type": "code",
   "execution_count": 51,
   "metadata": {},
   "outputs": [
    {
     "data": {
      "text/plain": [
       "(15218174, 5)"
      ]
     },
     "execution_count": 51,
     "metadata": {},
     "output_type": "execute_result"
    }
   ],
   "source": [
    "df.shape"
   ]
  },
  {
   "cell_type": "code",
   "execution_count": 52,
   "metadata": {
    "collapsed": true
   },
   "outputs": [],
   "source": [
    "def f(x):\n",
    "    d = {}\n",
    "    d['net_transaction_amt'] = x['net_transaction_amt'].sum()\n",
    "    d['transactions'] = x['net_transaction_amt'].count()\n",
    "    return pd.Series(d, index=['net_transaction_amt', 'transactions'])"
   ]
  },
  {
   "cell_type": "code",
   "execution_count": 53,
   "metadata": {
    "collapsed": true
   },
   "outputs": [],
   "source": [
    "df_agg = df.groupby(['location_id','zip']).apply(f)"
   ]
  },
  {
   "cell_type": "code",
   "execution_count": 54,
   "metadata": {
    "collapsed": true
   },
   "outputs": [],
   "source": [
    "df_agg.reset_index(inplace=True)"
   ]
  },
  {
   "cell_type": "code",
   "execution_count": 64,
   "metadata": {
    "collapsed": true
   },
   "outputs": [],
   "source": [
    "df_agg['location_id']=df_agg['location_id'].astype(int)\n",
    "df_agg['zip']=df_agg['zip'].astype(int)\n",
    "\n",
    "Jay_Compelet_DF['zip']=Jay_Compelet_DF['zip'].astype(int)\n",
    "Jay_Compelet_DF['location_id']=Jay_Compelet_DF['location_id'].astype(int)"
   ]
  },
  {
   "cell_type": "code",
   "execution_count": 66,
   "metadata": {},
   "outputs": [],
   "source": [
    "df_agg['location_id']=df_agg['location_id'].astype(str)\n",
    "df_agg['zip']=df_agg['zip'].astype(str)\n",
    "\n",
    "Jay_Compelet_DF['zip']=Jay_Compelet_DF['zip'].astype(str)\n",
    "Jay_Compelet_DF['location_id']=Jay_Compelet_DF['location_id'].astype(str)"
   ]
  },
  {
   "cell_type": "code",
   "execution_count": 67,
   "metadata": {
    "collapsed": true
   },
   "outputs": [],
   "source": [
    "Jay_Compelet_DF['Key']=Jay_Compelet_DF['location_id']+'|'+Jay_Compelet_DF['zip']"
   ]
  },
  {
   "cell_type": "code",
   "execution_count": 68,
   "metadata": {
    "collapsed": true
   },
   "outputs": [],
   "source": [
    "df_agg['Key']=df_agg['location_id']+'|'+df_agg['zip']"
   ]
  },
  {
   "cell_type": "code",
   "execution_count": 69,
   "metadata": {},
   "outputs": [
    {
     "data": {
      "text/plain": [
       "(1634909, 15)"
      ]
     },
     "execution_count": 69,
     "metadata": {},
     "output_type": "execute_result"
    }
   ],
   "source": [
    "Jay_Compelet_DF.shape"
   ]
  },
  {
   "cell_type": "code",
   "execution_count": 70,
   "metadata": {},
   "outputs": [
    {
     "data": {
      "text/plain": [
       "(1674151, 7)"
      ]
     },
     "execution_count": 70,
     "metadata": {},
     "output_type": "execute_result"
    }
   ],
   "source": [
    "df_agg.shape"
   ]
  },
  {
   "cell_type": "code",
   "execution_count": 71,
   "metadata": {
    "collapsed": true
   },
   "outputs": [],
   "source": [
    "df_agg_inmy=df_agg[~df_agg['Key'].isin(Jay_Compelet_DF['Key'])]"
   ]
  },
  {
   "cell_type": "code",
   "execution_count": 72,
   "metadata": {},
   "outputs": [
    {
     "data": {
      "text/plain": [
       "(39242, 7)"
      ]
     },
     "execution_count": 72,
     "metadata": {},
     "output_type": "execute_result"
    }
   ],
   "source": [
    "df_agg_inmy.shape"
   ]
  },
  {
   "cell_type": "code",
   "execution_count": 75,
   "metadata": {},
   "outputs": [
    {
     "data": {
      "text/html": [
       "<div>\n",
       "<style>\n",
       "    .dataframe thead tr:only-child th {\n",
       "        text-align: right;\n",
       "    }\n",
       "\n",
       "    .dataframe thead th {\n",
       "        text-align: left;\n",
       "    }\n",
       "\n",
       "    .dataframe tbody tr th {\n",
       "        vertical-align: top;\n",
       "    }\n",
       "</style>\n",
       "<table border=\"1\" class=\"dataframe\">\n",
       "  <thead>\n",
       "    <tr style=\"text-align: right;\">\n",
       "      <th></th>\n",
       "      <th>location_id</th>\n",
       "      <th>zip</th>\n",
       "      <th>net_transaction_amt</th>\n",
       "      <th>transactions</th>\n",
       "      <th>revenue_flag</th>\n",
       "      <th>transaction_flag</th>\n",
       "      <th>Key</th>\n",
       "    </tr>\n",
       "  </thead>\n",
       "  <tbody>\n",
       "    <tr>\n",
       "      <th>212</th>\n",
       "      <td>1</td>\n",
       "      <td>31100</td>\n",
       "      <td>68.89</td>\n",
       "      <td>1.0</td>\n",
       "      <td>P</td>\n",
       "      <td>T</td>\n",
       "      <td>1|31100</td>\n",
       "    </tr>\n",
       "    <tr>\n",
       "      <th>213</th>\n",
       "      <td>1</td>\n",
       "      <td>31115</td>\n",
       "      <td>12.78</td>\n",
       "      <td>2.0</td>\n",
       "      <td>T</td>\n",
       "      <td>P</td>\n",
       "      <td>1|31115</td>\n",
       "    </tr>\n",
       "    <tr>\n",
       "      <th>320</th>\n",
       "      <td>1</td>\n",
       "      <td>40354</td>\n",
       "      <td>854.99</td>\n",
       "      <td>3.0</td>\n",
       "      <td>P</td>\n",
       "      <td>P</td>\n",
       "      <td>1|40354</td>\n",
       "    </tr>\n",
       "    <tr>\n",
       "      <th>342</th>\n",
       "      <td>1</td>\n",
       "      <td>42110</td>\n",
       "      <td>196.45</td>\n",
       "      <td>5.0</td>\n",
       "      <td>P</td>\n",
       "      <td>P</td>\n",
       "      <td>1|42110</td>\n",
       "    </tr>\n",
       "    <tr>\n",
       "      <th>344</th>\n",
       "      <td>1</td>\n",
       "      <td>42209</td>\n",
       "      <td>28.65</td>\n",
       "      <td>1.0</td>\n",
       "      <td>S</td>\n",
       "      <td>T</td>\n",
       "      <td>1|42209</td>\n",
       "    </tr>\n",
       "  </tbody>\n",
       "</table>\n",
       "</div>"
      ],
      "text/plain": [
       "    location_id    zip  net_transaction_amt  transactions revenue_flag  \\\n",
       "212           1  31100                68.89           1.0            P   \n",
       "213           1  31115                12.78           2.0            T   \n",
       "320           1  40354               854.99           3.0            P   \n",
       "342           1  42110               196.45           5.0            P   \n",
       "344           1  42209                28.65           1.0            S   \n",
       "\n",
       "    transaction_flag      Key  \n",
       "212                T  1|31100  \n",
       "213                P  1|31115  \n",
       "320                P  1|40354  \n",
       "342                P  1|42110  \n",
       "344                T  1|42209  "
      ]
     },
     "execution_count": 75,
     "metadata": {},
     "output_type": "execute_result"
    }
   ],
   "source": [
    "df_agg_inmy=df_agg_inmy[df_agg_inmy['zip']!='0']\n",
    "df_agg_inmy.head()"
   ]
  },
  {
   "cell_type": "code",
   "execution_count": 103,
   "metadata": {
    "collapsed": true
   },
   "outputs": [],
   "source": [
    "df_us_zip_neilson = pd.read_csv('/home/jian/Projects/Big Lots/QC Jay/US_Zip_from_Neilson.csv',dtype='str')"
   ]
  },
  {
   "cell_type": "code",
   "execution_count": 104,
   "metadata": {},
   "outputs": [
    {
     "data": {
      "text/html": [
       "<div>\n",
       "<style>\n",
       "    .dataframe thead tr:only-child th {\n",
       "        text-align: right;\n",
       "    }\n",
       "\n",
       "    .dataframe thead th {\n",
       "        text-align: left;\n",
       "    }\n",
       "\n",
       "    .dataframe tbody tr th {\n",
       "        vertical-align: top;\n",
       "    }\n",
       "</style>\n",
       "<table border=\"1\" class=\"dataframe\">\n",
       "  <thead>\n",
       "    <tr style=\"text-align: right;\">\n",
       "      <th></th>\n",
       "      <th>ZIP</th>\n",
       "      <th>DMA</th>\n",
       "      <th>DMA.1</th>\n",
       "      <th>ADDITIONAL_DMA</th>\n",
       "      <th>ST.CODE</th>\n",
       "      <th>CTY_CODE</th>\n",
       "      <th>ST</th>\n",
       "      <th>COUNTY</th>\n",
       "      <th>CTY_SIZE</th>\n",
       "      <th>NMR_TERR.</th>\n",
       "      <th>NOT_USED</th>\n",
       "      <th>DMA_RANK</th>\n",
       "      <th>METRO_INDIC.</th>\n",
       "    </tr>\n",
       "  </thead>\n",
       "  <tbody>\n",
       "    <tr>\n",
       "      <th>0</th>\n",
       "      <td>501</td>\n",
       "      <td>501</td>\n",
       "      <td>NEW YORK</td>\n",
       "      <td>NaN</td>\n",
       "      <td>31</td>\n",
       "      <td>103</td>\n",
       "      <td>NY</td>\n",
       "      <td>SUFFOLK</td>\n",
       "      <td>6</td>\n",
       "      <td>1</td>\n",
       "      <td>NaN</td>\n",
       "      <td>1</td>\n",
       "      <td>M</td>\n",
       "    </tr>\n",
       "    <tr>\n",
       "      <th>1</th>\n",
       "      <td>544</td>\n",
       "      <td>501</td>\n",
       "      <td>NEW YORK</td>\n",
       "      <td>NaN</td>\n",
       "      <td>31</td>\n",
       "      <td>103</td>\n",
       "      <td>NY</td>\n",
       "      <td>SUFFOLK</td>\n",
       "      <td>6</td>\n",
       "      <td>1</td>\n",
       "      <td>NaN</td>\n",
       "      <td>1</td>\n",
       "      <td>M</td>\n",
       "    </tr>\n",
       "    <tr>\n",
       "      <th>2</th>\n",
       "      <td>1001</td>\n",
       "      <td>543</td>\n",
       "      <td>SPRINGFIELD-HOLYOKE</td>\n",
       "      <td>NaN</td>\n",
       "      <td>20</td>\n",
       "      <td>13</td>\n",
       "      <td>MA</td>\n",
       "      <td>HAMPDEN</td>\n",
       "      <td>7</td>\n",
       "      <td>1</td>\n",
       "      <td>NaN</td>\n",
       "      <td>114</td>\n",
       "      <td>M</td>\n",
       "    </tr>\n",
       "    <tr>\n",
       "      <th>3</th>\n",
       "      <td>1002</td>\n",
       "      <td>543</td>\n",
       "      <td>SPRINGFIELD-HOLYOKE</td>\n",
       "      <td>#</td>\n",
       "      <td>20</td>\n",
       "      <td>11</td>\n",
       "      <td>MA</td>\n",
       "      <td>FRANKLIN</td>\n",
       "      <td>7</td>\n",
       "      <td>1</td>\n",
       "      <td>NaN</td>\n",
       "      <td>114</td>\n",
       "      <td>NaN</td>\n",
       "    </tr>\n",
       "    <tr>\n",
       "      <th>4</th>\n",
       "      <td>1002</td>\n",
       "      <td>543</td>\n",
       "      <td>SPRINGFIELD-HOLYOKE</td>\n",
       "      <td>#</td>\n",
       "      <td>20</td>\n",
       "      <td>15</td>\n",
       "      <td>MA</td>\n",
       "      <td>HAMPSHIRE</td>\n",
       "      <td>7</td>\n",
       "      <td>1</td>\n",
       "      <td>NaN</td>\n",
       "      <td>114</td>\n",
       "      <td>M</td>\n",
       "    </tr>\n",
       "  </tbody>\n",
       "</table>\n",
       "</div>"
      ],
      "text/plain": [
       "    ZIP  DMA                DMA.1 ADDITIONAL_DMA ST.CODE CTY_CODE  ST  \\\n",
       "0   501  501             NEW YORK            NaN      31      103  NY   \n",
       "1   544  501             NEW YORK            NaN      31      103  NY   \n",
       "2  1001  543  SPRINGFIELD-HOLYOKE            NaN      20       13  MA   \n",
       "3  1002  543  SPRINGFIELD-HOLYOKE              #      20       11  MA   \n",
       "4  1002  543  SPRINGFIELD-HOLYOKE              #      20       15  MA   \n",
       "\n",
       "      COUNTY CTY_SIZE NMR_TERR. NOT_USED DMA_RANK METRO_INDIC.  \n",
       "0    SUFFOLK        6         1      NaN        1            M  \n",
       "1    SUFFOLK        6         1      NaN        1            M  \n",
       "2    HAMPDEN        7         1      NaN      114            M  \n",
       "3   FRANKLIN        7         1      NaN      114          NaN  \n",
       "4  HAMPSHIRE        7         1      NaN      114            M  "
      ]
     },
     "execution_count": 104,
     "metadata": {},
     "output_type": "execute_result"
    }
   ],
   "source": [
    "df_us_zip_neilson.head()"
   ]
  },
  {
   "cell_type": "code",
   "execution_count": 105,
   "metadata": {
    "collapsed": true
   },
   "outputs": [],
   "source": [
    "df_agg=df_agg[df_agg['zip'].isin(df_us_zip_neilson['ZIP'])]\n",
    "df_agg=df_agg[df_agg['zip']!='0']"
   ]
  },
  {
   "cell_type": "code",
   "execution_count": 106,
   "metadata": {},
   "outputs": [
    {
     "data": {
      "text/plain": [
       "(1635207, 7)"
      ]
     },
     "execution_count": 106,
     "metadata": {},
     "output_type": "execute_result"
    }
   ],
   "source": [
    "df_agg.shape"
   ]
  },
  {
   "cell_type": "code",
   "execution_count": 107,
   "metadata": {},
   "outputs": [
    {
     "data": {
      "text/plain": [
       "(1634909, 15)"
      ]
     },
     "execution_count": 107,
     "metadata": {},
     "output_type": "execute_result"
    }
   ],
   "source": [
    "Jay_Compelet_DF.shape"
   ]
  },
  {
   "cell_type": "code",
   "execution_count": 120,
   "metadata": {
    "collapsed": true
   },
   "outputs": [],
   "source": [
    "df_agg=df_agg[df_agg['Key'].isin(Jay_Compelet_DF['Key'])]"
   ]
  },
  {
   "cell_type": "code",
   "execution_count": 122,
   "metadata": {
    "collapsed": true
   },
   "outputs": [],
   "source": [
    "df_agg=df_agg.sort_values(['location_id','zip'])"
   ]
  },
  {
   "cell_type": "code",
   "execution_count": 123,
   "metadata": {
    "collapsed": true
   },
   "outputs": [],
   "source": [
    "Jay_Compelet_DF=Jay_Compelet_DF.sort_values(['location_id','zip'])"
   ]
  },
  {
   "cell_type": "code",
   "execution_count": 130,
   "metadata": {},
   "outputs": [
    {
     "data": {
      "text/html": [
       "<div>\n",
       "<style>\n",
       "    .dataframe thead tr:only-child th {\n",
       "        text-align: right;\n",
       "    }\n",
       "\n",
       "    .dataframe thead th {\n",
       "        text-align: left;\n",
       "    }\n",
       "\n",
       "    .dataframe tbody tr th {\n",
       "        vertical-align: top;\n",
       "    }\n",
       "</style>\n",
       "<table border=\"1\" class=\"dataframe\">\n",
       "  <thead>\n",
       "    <tr style=\"text-align: right;\">\n",
       "      <th></th>\n",
       "      <th>zip</th>\n",
       "      <th>city</th>\n",
       "      <th>state</th>\n",
       "      <th>zip_lat</th>\n",
       "      <th>zip_lng</th>\n",
       "      <th>store_zip</th>\n",
       "      <th>location_id</th>\n",
       "      <th>store_lat</th>\n",
       "      <th>store_lng</th>\n",
       "      <th>distance_to_store</th>\n",
       "      <th>net_transaction_amt</th>\n",
       "      <th>transactions</th>\n",
       "      <th>revenue_flag</th>\n",
       "      <th>transaction_flag</th>\n",
       "      <th>Key</th>\n",
       "    </tr>\n",
       "  </thead>\n",
       "  <tbody>\n",
       "    <tr>\n",
       "      <th>632</th>\n",
       "      <td>10454</td>\n",
       "      <td>set(['BRONX'])</td>\n",
       "      <td>set(['New York'])</td>\n",
       "      <td>40.807740</td>\n",
       "      <td>-73.918452</td>\n",
       "      <td>False</td>\n",
       "      <td>1</td>\n",
       "      <td>39.913636</td>\n",
       "      <td>-82.914789</td>\n",
       "      <td>477.432399</td>\n",
       "      <td>6.45</td>\n",
       "      <td>1</td>\n",
       "      <td>T</td>\n",
       "      <td>T</td>\n",
       "      <td>1|10454</td>\n",
       "    </tr>\n",
       "    <tr>\n",
       "      <th>339</th>\n",
       "      <td>10467</td>\n",
       "      <td>set(['BRONX'])</td>\n",
       "      <td>set(['New York'])</td>\n",
       "      <td>40.873658</td>\n",
       "      <td>-73.871631</td>\n",
       "      <td>False</td>\n",
       "      <td>1</td>\n",
       "      <td>39.913636</td>\n",
       "      <td>-82.914789</td>\n",
       "      <td>480.247994</td>\n",
       "      <td>259.59</td>\n",
       "      <td>3</td>\n",
       "      <td>T</td>\n",
       "      <td>T</td>\n",
       "      <td>1|10467</td>\n",
       "    </tr>\n",
       "    <tr>\n",
       "      <th>140</th>\n",
       "      <td>10469</td>\n",
       "      <td>set(['BRONX'])</td>\n",
       "      <td>set(['New York'])</td>\n",
       "      <td>40.870917</td>\n",
       "      <td>-73.849413</td>\n",
       "      <td>False</td>\n",
       "      <td>1</td>\n",
       "      <td>39.913636</td>\n",
       "      <td>-82.914789</td>\n",
       "      <td>481.388058</td>\n",
       "      <td>191.19</td>\n",
       "      <td>8</td>\n",
       "      <td>T</td>\n",
       "      <td>T</td>\n",
       "      <td>1|10469</td>\n",
       "    </tr>\n",
       "    <tr>\n",
       "      <th>739</th>\n",
       "      <td>10977</td>\n",
       "      <td>set(['ROCKLAND'])</td>\n",
       "      <td>set(['New York'])</td>\n",
       "      <td>41.120201</td>\n",
       "      <td>-74.041619</td>\n",
       "      <td>False</td>\n",
       "      <td>1</td>\n",
       "      <td>39.913636</td>\n",
       "      <td>-82.914789</td>\n",
       "      <td>473.245766</td>\n",
       "      <td>65.15</td>\n",
       "      <td>1</td>\n",
       "      <td>T</td>\n",
       "      <td>T</td>\n",
       "      <td>1|10977</td>\n",
       "    </tr>\n",
       "    <tr>\n",
       "      <th>114</th>\n",
       "      <td>11238</td>\n",
       "      <td>set(['KINGS'])</td>\n",
       "      <td>set(['New York'])</td>\n",
       "      <td>40.679620</td>\n",
       "      <td>-73.962926</td>\n",
       "      <td>False</td>\n",
       "      <td>1</td>\n",
       "      <td>39.913636</td>\n",
       "      <td>-82.914789</td>\n",
       "      <td>474.493161</td>\n",
       "      <td>426.17</td>\n",
       "      <td>10</td>\n",
       "      <td>T</td>\n",
       "      <td>T</td>\n",
       "      <td>1|11238</td>\n",
       "    </tr>\n",
       "  </tbody>\n",
       "</table>\n",
       "</div>"
      ],
      "text/plain": [
       "       zip               city              state    zip_lat    zip_lng  \\\n",
       "632  10454     set(['BRONX'])  set(['New York'])  40.807740 -73.918452   \n",
       "339  10467     set(['BRONX'])  set(['New York'])  40.873658 -73.871631   \n",
       "140  10469     set(['BRONX'])  set(['New York'])  40.870917 -73.849413   \n",
       "739  10977  set(['ROCKLAND'])  set(['New York'])  41.120201 -74.041619   \n",
       "114  11238     set(['KINGS'])  set(['New York'])  40.679620 -73.962926   \n",
       "\n",
       "     store_zip location_id  store_lat  store_lng  distance_to_store  \\\n",
       "632      False           1  39.913636 -82.914789         477.432399   \n",
       "339      False           1  39.913636 -82.914789         480.247994   \n",
       "140      False           1  39.913636 -82.914789         481.388058   \n",
       "739      False           1  39.913636 -82.914789         473.245766   \n",
       "114      False           1  39.913636 -82.914789         474.493161   \n",
       "\n",
       "     net_transaction_amt  transactions revenue_flag transaction_flag      Key  \n",
       "632                 6.45             1            T                T  1|10454  \n",
       "339               259.59             3            T                T  1|10467  \n",
       "140               191.19             8            T                T  1|10469  \n",
       "739                65.15             1            T                T  1|10977  \n",
       "114               426.17            10            T                T  1|11238  "
      ]
     },
     "execution_count": 130,
     "metadata": {},
     "output_type": "execute_result"
    }
   ],
   "source": [
    "Jay_Compelet_DF.head()"
   ]
  },
  {
   "cell_type": "code",
   "execution_count": 124,
   "metadata": {},
   "outputs": [
    {
     "data": {
      "text/html": [
       "<div>\n",
       "<style>\n",
       "    .dataframe thead tr:only-child th {\n",
       "        text-align: right;\n",
       "    }\n",
       "\n",
       "    .dataframe thead th {\n",
       "        text-align: left;\n",
       "    }\n",
       "\n",
       "    .dataframe tbody tr th {\n",
       "        vertical-align: top;\n",
       "    }\n",
       "</style>\n",
       "<table border=\"1\" class=\"dataframe\">\n",
       "  <thead>\n",
       "    <tr style=\"text-align: right;\">\n",
       "      <th></th>\n",
       "      <th>location_id</th>\n",
       "      <th>zip</th>\n",
       "      <th>net_transaction_amt</th>\n",
       "      <th>transactions</th>\n",
       "      <th>revenue_flag</th>\n",
       "      <th>transaction_flag</th>\n",
       "      <th>Key</th>\n",
       "    </tr>\n",
       "  </thead>\n",
       "  <tbody>\n",
       "    <tr>\n",
       "      <th>19</th>\n",
       "      <td>1</td>\n",
       "      <td>10454</td>\n",
       "      <td>6.45</td>\n",
       "      <td>1.0</td>\n",
       "      <td>T</td>\n",
       "      <td>T</td>\n",
       "      <td>1|10454</td>\n",
       "    </tr>\n",
       "    <tr>\n",
       "      <th>20</th>\n",
       "      <td>1</td>\n",
       "      <td>10467</td>\n",
       "      <td>259.59</td>\n",
       "      <td>3.0</td>\n",
       "      <td>P</td>\n",
       "      <td>P</td>\n",
       "      <td>1|10467</td>\n",
       "    </tr>\n",
       "    <tr>\n",
       "      <th>21</th>\n",
       "      <td>1</td>\n",
       "      <td>10469</td>\n",
       "      <td>191.19</td>\n",
       "      <td>8.0</td>\n",
       "      <td>P</td>\n",
       "      <td>P</td>\n",
       "      <td>1|10469</td>\n",
       "    </tr>\n",
       "    <tr>\n",
       "      <th>22</th>\n",
       "      <td>1</td>\n",
       "      <td>10977</td>\n",
       "      <td>65.15</td>\n",
       "      <td>1.0</td>\n",
       "      <td>P</td>\n",
       "      <td>T</td>\n",
       "      <td>1|10977</td>\n",
       "    </tr>\n",
       "    <tr>\n",
       "      <th>23</th>\n",
       "      <td>1</td>\n",
       "      <td>11238</td>\n",
       "      <td>426.17</td>\n",
       "      <td>10.0</td>\n",
       "      <td>P</td>\n",
       "      <td>P</td>\n",
       "      <td>1|11238</td>\n",
       "    </tr>\n",
       "  </tbody>\n",
       "</table>\n",
       "</div>"
      ],
      "text/plain": [
       "   location_id    zip  net_transaction_amt  transactions revenue_flag  \\\n",
       "19           1  10454                 6.45           1.0            T   \n",
       "20           1  10467               259.59           3.0            P   \n",
       "21           1  10469               191.19           8.0            P   \n",
       "22           1  10977                65.15           1.0            P   \n",
       "23           1  11238               426.17          10.0            P   \n",
       "\n",
       "   transaction_flag      Key  \n",
       "19                T  1|10454  \n",
       "20                P  1|10467  \n",
       "21                P  1|10469  \n",
       "22                T  1|10977  \n",
       "23                P  1|11238  "
      ]
     },
     "execution_count": 124,
     "metadata": {},
     "output_type": "execute_result"
    }
   ],
   "source": [
    "df_agg.head()"
   ]
  },
  {
   "cell_type": "code",
   "execution_count": 131,
   "metadata": {},
   "outputs": [
    {
     "data": {
      "text/plain": [
       "-2962.0"
      ]
     },
     "execution_count": 131,
     "metadata": {},
     "output_type": "execute_result"
    }
   ],
   "source": [
    "Jay_Compelet_DF['transactions'].sum()-df_agg['transactions'].sum()"
   ]
  },
  {
   "cell_type": "code",
   "execution_count": 132,
   "metadata": {},
   "outputs": [
    {
     "data": {
      "text/plain": [
       "-103109.88999843597"
      ]
     },
     "execution_count": 132,
     "metadata": {},
     "output_type": "execute_result"
    }
   ],
   "source": [
    "Jay_Compelet_DF['net_transaction_amt'].sum()-df_agg['net_transaction_amt'].sum()"
   ]
  },
  {
   "cell_type": "code",
   "execution_count": 127,
   "metadata": {},
   "outputs": [
    {
     "data": {
      "text/plain": [
       "(1634909, 15)"
      ]
     },
     "execution_count": 127,
     "metadata": {},
     "output_type": "execute_result"
    }
   ],
   "source": [
    "Jay_Compelet_DF.shape"
   ]
  },
  {
   "cell_type": "code",
   "execution_count": 128,
   "metadata": {},
   "outputs": [
    {
     "data": {
      "text/plain": [
       "(1634909, 7)"
      ]
     },
     "execution_count": 128,
     "metadata": {},
     "output_type": "execute_result"
    }
   ],
   "source": [
    "df_agg.shape"
   ]
  },
  {
   "cell_type": "code",
   "execution_count": null,
   "metadata": {
    "collapsed": true
   },
   "outputs": [],
   "source": []
  }
 ],
 "metadata": {
  "kernelspec": {
   "display_name": "Python 3",
   "language": "python",
   "name": "python3"
  },
  "language_info": {
   "codemirror_mode": {
    "name": "ipython",
    "version": 3
   },
   "file_extension": ".py",
   "mimetype": "text/x-python",
   "name": "python",
   "nbconvert_exporter": "python",
   "pygments_lexer": "ipython3",
   "version": "3.6.1"
  }
 },
 "nbformat": 4,
 "nbformat_minor": 2
}
