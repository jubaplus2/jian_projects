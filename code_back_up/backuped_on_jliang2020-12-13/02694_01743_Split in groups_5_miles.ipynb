{
 "cells": [
  {
   "cell_type": "code",
   "execution_count": 13,
   "metadata": {
    "collapsed": true
   },
   "outputs": [],
   "source": [
    "import pandas as pd\n",
    "import json\n",
    "import numpy as np"
   ]
  },
  {
   "cell_type": "code",
   "execution_count": 14,
   "metadata": {
    "collapsed": true
   },
   "outputs": [],
   "source": [
    "zip_centers=json.load(open(\"/home/jian/Docs/Geo_mapping/center_of_rentrak_zip.json\"))"
   ]
  },
  {
   "cell_type": "code",
   "execution_count": 15,
   "metadata": {
    "collapsed": true
   },
   "outputs": [],
   "source": [
    "Walmart_Stores_tab1=pd.read_excel(\"/home/jian/Projects/Cepia/Zips_10_Mile_retailers/retailer_address_data/Cepia Store List Walmart w35 BR 20180828.XLSX\",dtype=str,sheetname=\"Wmt Stores by Product\")\n",
    "Walmart_Stores_tab2=pd.read_excel(\"/home/jian/Projects/Cepia/Zips_10_Mile_retailers/retailer_address_data/Cepia Store List Walmart w35 BR 20180828.XLSX\",dtype=str,sheetname=\"Unique Wmt stores with Cepia\")\n",
    "Walmart_Stores_tab3=pd.read_excel(\"/home/jian/Projects/Cepia/Zips_10_Mile_retailers/retailer_address_data/Cepia Store List Walmart w35 BR 20180828.XLSX\",dtype=str,sheetname=\"Full Wmt Store Listing\")\n",
    "Walmart_Stores_tab1=Walmart_Stores_tab1[~pd.isnull(Walmart_Stores_tab1['City '])]\n",
    "\n",
    "df_Walmart_Stores_Bananas=Walmart_Stores_tab1[Walmart_Stores_tab1['Item Desc'].apply(lambda x: x[:2]==\"MM\")]\n",
    "df_Walmart_Stores_MM=Walmart_Stores_tab1[Walmart_Stores_tab1['Item Desc'].apply(lambda x: x[:6]==\"BANANA\")]\n",
    "\n",
    "Walmart_Stores_MM_list=Walmart_Stores_tab1[Walmart_Stores_tab1['Item Desc'].apply(lambda x: x[:2]==\"MM\")]['Store #/Count'].unique().tolist()\n",
    "Walmart_Stores_Bananas_list=Walmart_Stores_tab1[Walmart_Stores_tab1['Item Desc'].apply(lambda x: x[:6]==\"BANANA\")]['Store #/Count'].unique().tolist()"
   ]
  },
  {
   "cell_type": "code",
   "execution_count": 16,
   "metadata": {
    "collapsed": true
   },
   "outputs": [],
   "source": [
    "previous_work_walmart=pd.read_excel(\"/home/jian/Projects/Cepia/Zips_10_Mile_retailers/output_5_miles/Cepia_2_retailers_zips_in_5_miles_JL_20180926.xlsx\",\n",
    "                           dtype=str,sheetname=\"Walmart_zips_by_store\")\n",
    "previous_work_target=pd.read_excel(\"/home/jian/Projects/Cepia/Zips_10_Mile_retailers/output_5_miles/Cepia_2_retailers_zips_in_5_miles_JL_20180926.xlsx\",\n",
    "                           dtype=str,sheetname=\"Target_zips_by_store\")"
   ]
  },
  {
   "cell_type": "code",
   "execution_count": 17,
   "metadata": {
    "collapsed": true
   },
   "outputs": [],
   "source": [
    "df_Walmart_Banana=previous_work_walmart[previous_work_walmart['Store_id'].isin(Walmart_Stores_Bananas_list)]\n",
    "df_Walmart_MM=previous_work_walmart[previous_work_walmart['Store_id'].isin(Walmart_Stores_MM_list)]"
   ]
  },
  {
   "cell_type": "code",
   "execution_count": 18,
   "metadata": {
    "collapsed": true
   },
   "outputs": [],
   "source": [
    "df_Target_MM=pd.read_excel(\"/home/jian/Projects/Cepia/Zips_10_Mile_retailers/output_5_miles/Cepia_2_retailers_zips_in_5_miles_JL_20180926.xlsx\",\n",
    "                           dtype=str,sheetname=\"Target_zips_by_store\")"
   ]
  },
  {
   "cell_type": "code",
   "execution_count": 19,
   "metadata": {
    "collapsed": true
   },
   "outputs": [],
   "source": [
    "# In the assumpktion that target store has both products\n",
    "df_Target_Banana=pd.read_excel(\"/home/jian/Projects/Cepia/Zips_10_Mile_retailers/retailer_address_data/data_address_by_group_Data/Cepia Store List Wmt+Target Banana 082018.xlsx\",\n",
    "                           dtype=str)\n",
    "df_Target_Banana=df_Target_Banana[df_Target_Banana['RETAILER']==\"TARGET\"]\n",
    "df_Target_Banana=df_Target_MM.copy()"
   ]
  },
  {
   "cell_type": "code",
   "execution_count": 20,
   "metadata": {
    "collapsed": true
   },
   "outputs": [],
   "source": [
    "Walmart_Banana_Zips=sorted(df_Walmart_Banana['zip_cd'].unique().tolist())\n",
    "Walmart_Mojimoto_Zips=sorted(df_Walmart_MM['zip_cd'].unique().tolist())\n",
    "Target_Banana_Zips=sorted(df_Target_Banana['zip_cd'].unique().tolist())\n",
    "Target_Mojimoto_Zips=sorted(df_Target_MM['zip_cd'].unique().tolist())"
   ]
  },
  {
   "cell_type": "code",
   "execution_count": 21,
   "metadata": {
    "collapsed": true
   },
   "outputs": [],
   "source": [
    "max_len=max(len(Walmart_Banana_Zips),len(Walmart_Mojimoto_Zips),len(Target_Banana_Zips),len(Target_Mojimoto_Zips))"
   ]
  },
  {
   "cell_type": "code",
   "execution_count": 22,
   "metadata": {
    "collapsed": true
   },
   "outputs": [],
   "source": [
    "deduplicate_zips=pd.DataFrame({\"Walmart_Bananas_Zips\":Walmart_Banana_Zips+[np.nan]*(max_len-len(Walmart_Banana_Zips)),\n",
    "                               \"Walmart_Mojimoto_Zips\":Walmart_Mojimoto_Zips+[np.nan]*(max_len-len(Walmart_Mojimoto_Zips)),\n",
    "                               \"Target_Bananas_Zips\":Target_Banana_Zips+[np.nan]*(max_len-len(Target_Banana_Zips)),\n",
    "                               \"Target_Mojimoto_Zips\":Target_Mojimoto_Zips+[np.nan]*(max_len-len(Target_Mojimoto_Zips)),\n",
    "                              },index=[x for x in range(max_len)])"
   ]
  },
  {
   "cell_type": "code",
   "execution_count": 23,
   "metadata": {
    "collapsed": true
   },
   "outputs": [],
   "source": [
    "writer=pd.ExcelWriter(\"/home/jian/Projects/Cepia/Zips_10_Mile_retailers/output_5_miles/Cepia_5_miles_zips_by_group_JL_20180926.xlsx\")"
   ]
  },
  {
   "cell_type": "code",
   "execution_count": 24,
   "metadata": {
    "collapsed": true
   },
   "outputs": [],
   "source": [
    "deduplicate_zips.to_excel(writer,\"zips_by_group\",index=False)\n",
    "df_Walmart_Banana.to_excel(writer,\"Walmart_Banana_by_store\",index=False)\n",
    "df_Walmart_MM.to_excel(writer,\"Walmart_MM_by_store\",index=False)\n",
    "df_Target_Banana.to_excel(writer,\"Target_Banana_by_store\",index=False)\n",
    "df_Target_MM.to_excel(writer,\"Target_MM_by_store\",index=False)\n",
    "writer.save()"
   ]
  }
 ],
 "metadata": {
  "kernelspec": {
   "display_name": "Python 3",
   "language": "python",
   "name": "python3"
  },
  "language_info": {
   "codemirror_mode": {
    "name": "ipython",
    "version": 3
   },
   "file_extension": ".py",
   "mimetype": "text/x-python",
   "name": "python",
   "nbconvert_exporter": "python",
   "pygments_lexer": "ipython3",
   "version": "3.6.1"
  }
 },
 "nbformat": 4,
 "nbformat_minor": 2
}
