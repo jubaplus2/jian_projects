{
 "cells": [
  {
   "cell_type": "code",
   "execution_count": 1,
   "metadata": {},
   "outputs": [
    {
     "data": {
      "text/plain": [
       "'/home/jian/Projects/Saatva/Analysis/Q1_2019_ARI'"
      ]
     },
     "execution_count": 1,
     "metadata": {},
     "output_type": "execute_result"
    }
   ],
   "source": [
    "import pandas as pd\n",
    "import numpy as np\n",
    "import os\n",
    "import datetime\n",
    "os.sys.path.append(\"/home/jian/Projects/Saatva/To_Lexie_and_Connor/\")\n",
    "from googleads import adwords\n",
    "import google_analytics_reporting_api as ga\n",
    "\n",
    "os.getcwd()"
   ]
  },
  {
   "cell_type": "code",
   "execution_count": 2,
   "metadata": {
    "collapsed": true
   },
   "outputs": [],
   "source": [
    "start_date=\"2019-01-01\"\n",
    "end_date=\"2019-03-31\"\n",
    "\n",
    "today_str=str(datetime.datetime.now().date())\n",
    "writer_folder=\"/home/jian/Projects/Saatva/Analysis/Q1_2019_ARI/output/\"\n",
    "try:\n",
    "    os.stat(writer_folder)\n",
    "except:\n",
    "    os.mkdir(writer_folder)"
   ]
  },
  {
   "cell_type": "markdown",
   "metadata": {},
   "source": [
    "# AdWords Overall for CTR by channels"
   ]
  },
  {
   "cell_type": "code",
   "execution_count": 3,
   "metadata": {
    "collapsed": true
   },
   "outputs": [],
   "source": [
    "def get_client(config_path='googleads_saatva.yaml'):\n",
    "    return adwords.AdWordsClient.LoadFromStorage(config_path)\n",
    "\n",
    "def download_report_as_stream(client, report_type, fields, start_date, end_date):\n",
    "    '''Download Adwords report, then save as csv file to base_dir\n",
    "    Args:\n",
    "        client: adwords.AdWordsClient.LoadFromStorage()\n",
    "        report_type: str eg. 'KEYWORDS_PERFORMANCE_REPORT'\n",
    "        fields: list eg. [\"CampaignId\", \"CampaignName\", ... ]\n",
    "        start_date: str, eg. '2018-02-11'\n",
    "        end_date: str, eg.\n",
    "    Return:\n",
    "        str, path to csv file\n",
    "    '''\n",
    "    report_downloader = client.GetReportDownloader(version='v201809')\n",
    "    # Create report definition.\n",
    "    report = {\n",
    "        'reportName': report_type,\n",
    "        'dateRangeType': 'CUSTOM_DATE',\n",
    "        'reportType': report_type,\n",
    "        'downloadFormat': 'CSV',\n",
    "        'selector': {\n",
    "            'fields': fields,\n",
    "            'dateRange': {\n",
    "                'min': start_date,\n",
    "                'max': end_date}\n",
    "        }\n",
    "    }\n",
    "\n",
    "    # save output\n",
    "    return report_downloader.DownloadReportAsStream(report, \n",
    "        skip_report_header=True, skip_column_header=False,\n",
    "        skip_report_summary=True)\n",
    "\n"
   ]
  },
  {
   "cell_type": "code",
   "execution_count": 4,
   "metadata": {},
   "outputs": [
    {
     "data": {
      "text/plain": [
       "(11967, 10)"
      ]
     },
     "execution_count": 4,
     "metadata": {},
     "output_type": "execute_result"
    }
   ],
   "source": [
    "client_Saatva = get_client(config_path='/home/jian/Projects/Saatva/To_Lexie_and_Connor/googleads_saatva_JL_Saatva.yaml')\n",
    "report_type = 'CAMPAIGN_PERFORMANCE_REPORT'\n",
    "fields = [\"AccountDescriptiveName\",\"CampaignName\",\"Date\",\"AdvertisingChannelType\",\"AdNetworkType1\",\"AdNetworkType2\",\"Impressions\", \"Clicks\", \"Cost\"]\n",
    "response_Saatva = download_report_as_stream(client_Saatva, report_type, fields, start_date, end_date)\n",
    "Saatva_Click = pd.read_csv(response_Saatva)\n",
    "Saatva_Click['Cost']=Saatva_Click['Cost'].apply(lambda x: x/1000000)\n",
    "Saatva_Click['Channel_Network']=Saatva_Click['Advertising Channel']+\"|\"+Saatva_Click['Network']+\"|\"+Saatva_Click['Network (with search partners)']\n",
    "Saatva_Click.shape\n"
   ]
  },
  {
   "cell_type": "code",
   "execution_count": 5,
   "metadata": {},
   "outputs": [
    {
     "data": {
      "text/plain": [
       "(266, 10)"
      ]
     },
     "execution_count": 5,
     "metadata": {},
     "output_type": "execute_result"
    }
   ],
   "source": [
    "client_Saatva_Branding = get_client(config_path='/home/jian/Projects/Saatva/To_Lexie_and_Connor/googleads_saatva_JL_Saatva_Branding.yaml')\n",
    "report_type = 'CAMPAIGN_PERFORMANCE_REPORT'\n",
    "fields = [\"AccountDescriptiveName\",\"CampaignName\",\"Date\",\"AdvertisingChannelType\",\"AdNetworkType1\",\"AdNetworkType2\",\"Impressions\", \"Clicks\", \"Cost\"]\n",
    "response_Saatva_Branding = download_report_as_stream(client_Saatva_Branding, report_type, fields, start_date, end_date)\n",
    "Saatva_Brand_Click = pd.read_csv(response_Saatva_Branding)\n",
    "Saatva_Brand_Click['Cost']=Saatva_Brand_Click['Cost'].apply(lambda x: x/1000000)\n",
    "Saatva_Brand_Click['Channel_Network']=Saatva_Brand_Click['Advertising Channel']+\"|\"+Saatva_Brand_Click['Network']+\"|\"+Saatva_Brand_Click['Network (with search partners)']\n",
    "Saatva_Brand_Click.shape\n"
   ]
  },
  {
   "cell_type": "code",
   "execution_count": 6,
   "metadata": {},
   "outputs": [
    {
     "data": {
      "text/plain": [
       "(11887, 10)"
      ]
     },
     "execution_count": 6,
     "metadata": {},
     "output_type": "execute_result"
    }
   ],
   "source": [
    "client_Saatva_Competitors = get_client(config_path='/home/jian/Projects/Saatva/To_Lexie_and_Connor/googleads_saatva_JL_Saatva_Competitors.yaml')\n",
    "report_type = 'CAMPAIGN_PERFORMANCE_REPORT'\n",
    "fields = [\"AccountDescriptiveName\",\"CampaignName\",\"Date\",\"AdvertisingChannelType\",\"AdNetworkType1\",\"AdNetworkType2\",\"Impressions\", \"Clicks\", \"Cost\"]\n",
    "response_Saatva_Competitor = download_report_as_stream(client_Saatva_Competitors, report_type, fields, start_date, end_date)\n",
    "Saatva_Competitor_Click = pd.read_csv(response_Saatva_Competitor)\n",
    "Saatva_Competitor_Click['Cost']=Saatva_Competitor_Click['Cost'].apply(lambda x: x/1000000)\n",
    "Saatva_Competitor_Click['Channel_Network']=Saatva_Competitor_Click['Advertising Channel']+\"|\"+Saatva_Competitor_Click['Network']+\"|\"+Saatva_Competitor_Click['Network (with search partners)']\n",
    "Saatva_Competitor_Click.shape\n"
   ]
  },
  {
   "cell_type": "code",
   "execution_count": 7,
   "metadata": {},
   "outputs": [
    {
     "data": {
      "text/plain": [
       "(2332, 10)"
      ]
     },
     "execution_count": 7,
     "metadata": {},
     "output_type": "execute_result"
    }
   ],
   "source": [
    "client_TheSaatvaCompany = get_client(config_path='/home/jian/Projects/Saatva/To_Lexie_and_Connor/googleads_saatva_JL_TheSaatvaCompany.yaml')\n",
    "report_type = 'CAMPAIGN_PERFORMANCE_REPORT'\n",
    "fields = [\"AccountDescriptiveName\",\"CampaignName\",\"Date\",\"AdvertisingChannelType\",\"AdNetworkType1\",\"AdNetworkType2\",\"Impressions\", \"Clicks\", \"Cost\"]\n",
    "response_TheSaatvaCompany = download_report_as_stream(client_TheSaatvaCompany, report_type, fields, start_date, end_date)\n",
    "TheSaatvaCompany_Click = pd.read_csv(response_TheSaatvaCompany)\n",
    "TheSaatvaCompany_Click['Cost']=TheSaatvaCompany_Click['Cost'].apply(lambda x: x/1000000)\n",
    "TheSaatvaCompany_Click['Channel_Network']=TheSaatvaCompany_Click['Advertising Channel']+\"|\"+TheSaatvaCompany_Click['Network']+\"|\"+TheSaatvaCompany_Click['Network (with search partners)']\n",
    "TheSaatvaCompany_Click.shape\n"
   ]
  },
  {
   "cell_type": "code",
   "execution_count": 8,
   "metadata": {},
   "outputs": [
    {
     "data": {
      "text/plain": [
       "(3, 10)"
      ]
     },
     "execution_count": 8,
     "metadata": {},
     "output_type": "execute_result"
    }
   ],
   "source": [
    "client_TheSaatvaCompanyBranding = get_client(config_path='/home/jian/Projects/Saatva/To_Lexie_and_Connor/googleads_saatva_JL_TheSaatvaCompanyBranding.yaml')\n",
    "report_type = 'CAMPAIGN_PERFORMANCE_REPORT'\n",
    "fields = [\"AccountDescriptiveName\",\"CampaignName\",\"Date\",\"AdvertisingChannelType\",\"AdNetworkType1\",\"AdNetworkType2\",\"Impressions\", \"Clicks\", \"Cost\"]\n",
    "response_TheSaatvaCompanyBranding = download_report_as_stream(client_TheSaatvaCompanyBranding, report_type, fields, start_date, end_date)\n",
    "TheSaatvaCompanyBranding_Click = pd.read_csv(response_TheSaatvaCompanyBranding)\n",
    "TheSaatvaCompanyBranding_Click['Cost']=TheSaatvaCompanyBranding_Click['Cost'].apply(lambda x: x/1000000)\n",
    "TheSaatvaCompanyBranding_Click['Channel_Network']=TheSaatvaCompanyBranding_Click['Advertising Channel']+\"|\"+TheSaatvaCompanyBranding_Click['Network']+\"|\"+TheSaatvaCompanyBranding_Click['Network (with search partners)']\n",
    "TheSaatvaCompanyBranding_Click.shape\n"
   ]
  },
  {
   "cell_type": "code",
   "execution_count": 9,
   "metadata": {
    "collapsed": true
   },
   "outputs": [],
   "source": [
    "#########"
   ]
  },
  {
   "cell_type": "code",
   "execution_count": 10,
   "metadata": {},
   "outputs": [
    {
     "data": {
      "text/plain": [
       "{'Display|Display Network|Display Network',\n",
       " 'Search|Search Network|Google search',\n",
       " 'Search|Search Network|Search partners',\n",
       " 'Shopping|Search Network|Google search',\n",
       " 'Shopping|Search Network|Search partners',\n",
       " 'Video|Display Network|Display Network',\n",
       " 'Video|YouTube Search|YouTube Search',\n",
       " 'Video|YouTube Videos|YouTube Videos'}"
      ]
     },
     "execution_count": 10,
     "metadata": {},
     "output_type": "execute_result"
    }
   ],
   "source": [
    "Saatva_Competitor_Click=Saatva_Competitor_Click[Saatva_Competitor_Click['Campaign'].apply(lambda x: \"[SM]\" in x)]\n",
    "Saatva_Competitor_Click.reset_index(inplace=True)\n",
    "del Saatva_Competitor_Click['index']\n",
    "\n",
    "set(Saatva_Click['Channel_Network'].unique().tolist()+Saatva_Brand_Click['Channel_Network'].unique().tolist()+Saatva_Competitor_Click['Channel_Network'].unique().tolist()+\\\n",
    "    TheSaatvaCompany_Click['Channel_Network'].unique().tolist()+TheSaatvaCompanyBranding_Click['Channel_Network'].unique().tolist())"
   ]
  },
  {
   "cell_type": "code",
   "execution_count": 11,
   "metadata": {
    "collapsed": true
   },
   "outputs": [],
   "source": [
    "Saatva_Click['Campaign_Type']=Saatva_Click['Advertising Channel'].apply(lambda x: x.replace(\"Search\",\"SEM\").replace(\"Shopping\",\"PLA\"))\n",
    "Saatva_Brand_Click['Campaign_Type']=Saatva_Brand_Click['Advertising Channel'].apply(lambda x: x.replace(\"Search\",\"SEM_Brand\").replace(\"Shopping\",\"PLA\"))\n",
    "Saatva_Competitor_Click['Campaign_Type']=\"SEM_Non_Brand\" # Because it's all labeled as Non-Brand in Campaign and in Search Only Campaign Type\n",
    "TheSaatvaCompany_Click['Campaign_Type']=TheSaatvaCompany_Click['Advertising Channel'].apply(lambda x: x.replace(\"Search\",\"SEM\").replace(\"Shopping\",\"PLA\"))\n",
    "TheSaatvaCompanyBranding_Click['Campaign_Type']=TheSaatvaCompanyBranding_Click['Advertising Channel'].apply(lambda x: x.replace(\"Search\",\"SEM\").replace(\"Shopping\",\"PLA\"))\n"
   ]
  },
  {
   "cell_type": "code",
   "execution_count": 12,
   "metadata": {},
   "outputs": [
    {
     "name": "stderr",
     "output_type": "stream",
     "text": [
      "/usr/local/lib/python3.6/site-packages/ipykernel_launcher.py:5: SettingWithCopyWarning: \n",
      "A value is trying to be set on a copy of a slice from a DataFrame.\n",
      "Try using .loc[row_indexer,col_indexer] = value instead\n",
      "\n",
      "See the caveats in the documentation: http://pandas.pydata.org/pandas-docs/stable/indexing.html#indexing-view-versus-copy\n",
      "  \"\"\"\n"
     ]
    },
    {
     "data": {
      "text/plain": [
       "0"
      ]
     },
     "execution_count": 12,
     "metadata": {},
     "output_type": "execute_result"
    }
   ],
   "source": [
    "Saatva_Click_Search=Saatva_Click[Saatva_Click['Advertising Channel']=='Search']\n",
    "Saatva_Click_Others=Saatva_Click[Saatva_Click['Advertising Channel']!='Search']\n",
    "\n",
    "Saatva_Click_Search['Campaign_Type']=np.where((Saatva_Click_Search['Campaign'].str.contains(\"Branded\")) | (Saatva_Click_Search['Campaign'].str.contains(\" Brand \")) | (Saatva_Click_Search['Campaign'].str.contains(\"Co-Brand\")) | (Saatva_Click_Search['Campaign'].str.contains(\"\\[Brand\\]\")),\"SEM_Brand\",\n",
    "                                                 np.where((Saatva_Click_Search['Campaign'].str.contains(\"Non-Brand\")) | (Saatva_Click_Search['Campaign'].str.contains(\"Dynamic Search Ads\")),\"SEM_Non_Brand\",\"NA\"))\n",
    "Saatva_Click_Search_1=Saatva_Click_Search[Saatva_Click_Search['Campaign_Type']!=\"NA\"]\n",
    "Saatva_Click_Search_2=Saatva_Click_Search[Saatva_Click_Search['Campaign_Type']==\"NA\"]\n",
    "len(Saatva_Click_Search_2) # Make sure it's 0"
   ]
  },
  {
   "cell_type": "code",
   "execution_count": 13,
   "metadata": {},
   "outputs": [
    {
     "name": "stderr",
     "output_type": "stream",
     "text": [
      "/usr/local/lib/python3.6/site-packages/ipykernel_launcher.py:7: SettingWithCopyWarning: \n",
      "A value is trying to be set on a copy of a slice from a DataFrame.\n",
      "Try using .loc[row_indexer,col_indexer] = value instead\n",
      "\n",
      "See the caveats in the documentation: http://pandas.pydata.org/pandas-docs/stable/indexing.html#indexing-view-versus-copy\n",
      "  import sys\n"
     ]
    },
    {
     "data": {
      "text/plain": [
       "0"
      ]
     },
     "execution_count": 13,
     "metadata": {},
     "output_type": "execute_result"
    }
   ],
   "source": [
    "# Split TheSaatvaCompany\n",
    "\n",
    "TheSaatvaCompany_Click_Search=TheSaatvaCompany_Click[TheSaatvaCompany_Click['Advertising Channel']=='Search']\n",
    "TheSaatvaCompany_Click_Others=TheSaatvaCompany_Click[TheSaatvaCompany_Click['Advertising Channel']!='Search']\n",
    "\n",
    "TheSaatvaCompany_Click_Search['Campaign_Type']=np.where((TheSaatvaCompany_Click_Search['Campaign'].str.contains(\"Branded\")) | (TheSaatvaCompany_Click_Search['Campaign'].str.contains(\" Brand \")) | (TheSaatvaCompany_Click_Search['Campaign'].str.contains(\"Co-Brand\")) | (TheSaatvaCompany_Click_Search['Campaign'].str.contains(\"\\[Brand\\]\")),\"SEM_Brand\",\n",
    "                                                 np.where((TheSaatvaCompany_Click_Search['Campaign'].str.contains(\"Non-Brand\")) | (TheSaatvaCompany_Click_Search['Campaign'].str.contains(\"Dynamic Search Ads\")),\"SEM_Non_Brand\",\"NA\"))\n",
    "TheSaatvaCompany_Click_Search_1=TheSaatvaCompany_Click_Search[TheSaatvaCompany_Click_Search['Campaign_Type']!=\"NA\"]\n",
    "TheSaatvaCompany_Click_Search_2=TheSaatvaCompany_Click_Search[TheSaatvaCompany_Click_Search['Campaign_Type']==\"NA\"]\n",
    "len(TheSaatvaCompany_Click_Search_2) # Make sure it's 0"
   ]
  },
  {
   "cell_type": "code",
   "execution_count": 14,
   "metadata": {
    "collapsed": true
   },
   "outputs": [],
   "source": [
    "Saatva_Click=Saatva_Click_Search.append(Saatva_Click_Others)\n",
    "TheSaatvaCompany_Click=TheSaatvaCompany_Click_Search.append(TheSaatvaCompany_Click_Others)\n"
   ]
  },
  {
   "cell_type": "code",
   "execution_count": 15,
   "metadata": {
    "collapsed": true
   },
   "outputs": [],
   "source": [
    "Saatva_Agg=Saatva_Click.append(Saatva_Brand_Click).append(Saatva_Competitor_Click).append(TheSaatvaCompany_Click).append(TheSaatvaCompanyBranding_Click)\n",
    "Saatva_Agg['Day']=Saatva_Agg['Day'].apply(lambda x: datetime.datetime.strptime(x,\"%Y-%m-%d\").date())\n",
    "Saatva_Agg.reset_index(inplace=True)\n",
    "\n",
    "Saatva_Agg_Category=Saatva_Agg[['Campaign','Account','Advertising Channel','Campaign_Type']].drop_duplicates()\n",
    "\n",
    "\n",
    "Saatva_Agg=Saatva_Agg.groupby([\"Campaign_Type\",\"Day\"])['Impressions','Clicks', 'Cost'].apply(sum)\n",
    "Saatva_Agg.reset_index(inplace=True)\n",
    "Saatva_Agg['CTR']=Saatva_Agg['Clicks']/Saatva_Agg['Impressions']"
   ]
  },
  {
   "cell_type": "code",
   "execution_count": 16,
   "metadata": {
    "collapsed": true
   },
   "outputs": [],
   "source": [
    "writer=pd.ExcelWriter(writer_folder+\"/Saatva_CTR_by_day_by_Channel_Overall_JL_\"+str(datetime.datetime.now().date())+\".xlsx\",engine=\"xlsxwriter\")\n",
    "Saatva_Agg.to_excel(writer,\"AdWords_data\",index=False)\n",
    "Saatva_Agg_Category.to_excel(writer,\"Campaign_Type\",index=False)\n",
    "writer.save()"
   ]
  },
  {
   "cell_type": "code",
   "execution_count": 17,
   "metadata": {},
   "outputs": [
    {
     "data": {
      "text/plain": [
       "(256, 2)"
      ]
     },
     "execution_count": 17,
     "metadata": {},
     "output_type": "execute_result"
    }
   ],
   "source": [
    "Saatva_Agg_Category[['Campaign','Campaign_Type']].drop_duplicates().shape"
   ]
  },
  {
   "cell_type": "code",
   "execution_count": 18,
   "metadata": {},
   "outputs": [
    {
     "data": {
      "text/plain": [
       "256"
      ]
     },
     "execution_count": 18,
     "metadata": {},
     "output_type": "execute_result"
    }
   ],
   "source": [
    "len(Saatva_Agg_Category['Campaign'].unique())"
   ]
  },
  {
   "cell_type": "code",
   "execution_count": 19,
   "metadata": {
    "collapsed": true
   },
   "outputs": [],
   "source": [
    "account_campaing_name_type=Saatva_Agg_Category[['Campaign','Campaign_Type']].drop_duplicates()"
   ]
  },
  {
   "cell_type": "markdown",
   "metadata": {},
   "source": [
    "# Market_Level_AdWords"
   ]
  },
  {
   "cell_type": "code",
   "execution_count": 27,
   "metadata": {
    "collapsed": true
   },
   "outputs": [],
   "source": [
    "fields = [\"AccountDescriptiveName\",'CampaignName',\"Date\",\"CountryCriteriaId\",\"MetroCriteriaId\",\"Impressions\", \"Clicks\", \"Cost\"]\n",
    "report_type = 'GEO_PERFORMANCE_REPORT'\n",
    "    \n",
    "def getting_geo_df(client_yaml, report_type, fields, Start_Date_overall, End_Date_overall):\n",
    "    response_Saatva = download_report_as_stream(client_yaml, report_type, fields, Start_Date_overall, End_Date_overall)\n",
    "    df = pd.read_csv(response_Saatva)\n",
    "    return df"
   ]
  },
  {
   "cell_type": "code",
   "execution_count": 28,
   "metadata": {},
   "outputs": [
    {
     "name": "stderr",
     "output_type": "stream",
     "text": [
      "/usr/local/lib/python3.6/site-packages/IPython/core/interactiveshell.py:2787: DtypeWarning: Columns (3) have mixed types. Specify dtype option on import or set low_memory=False.\n",
      "  if self.run_code(code, result):\n"
     ]
    }
   ],
   "source": [
    "Geo_Saatva = getting_geo_df(client_Saatva, report_type, fields, start_date, end_date)\n",
    "Geo_Saatva['Cost']=Geo_Saatva['Cost'].apply(lambda x: x/1000000)\n",
    "\n",
    "Geo_Saatva_Branding = getting_geo_df(client_Saatva_Branding, report_type, fields, start_date, end_date)\n",
    "Geo_Saatva_Branding['Cost']=Geo_Saatva_Branding['Cost'].apply(lambda x: x/1000000)\n",
    "\n",
    "Geo_Saatva_Competitors = getting_geo_df(client_Saatva_Competitors, report_type, fields, start_date, end_date)\n",
    "Geo_Saatva_Competitors['Cost']=Geo_Saatva_Competitors['Cost'].apply(lambda x: x/1000000)\n",
    "\n",
    "Geo_TheSaatvaCompany = getting_geo_df(client_TheSaatvaCompany, report_type, fields, start_date, end_date)\n",
    "Geo_TheSaatvaCompany['Cost']=Geo_TheSaatvaCompany['Cost'].apply(lambda x: x/1000000)\n",
    "\n",
    "Geo_TheSaatvaCompanyBranding = getting_geo_df(client_TheSaatvaCompanyBranding, report_type, fields, start_date, end_date)\n",
    "Geo_TheSaatvaCompanyBranding['Cost']=Geo_TheSaatvaCompanyBranding['Cost'].apply(lambda x: x/1000000)"
   ]
  },
  {
   "cell_type": "code",
   "execution_count": 29,
   "metadata": {
    "collapsed": true
   },
   "outputs": [],
   "source": [
    "Geo_Saatva_Competitors=Geo_Saatva_Competitors[Geo_Saatva_Competitors['Campaign'].apply(lambda x: x[len(x)-4:len(x)+1])==\"[SM]\"]\n",
    "Geo_Saatva_Competitors.reset_index(inplace=True)\n",
    "del Geo_Saatva_Competitors['index']\n",
    "\n"
   ]
  },
  {
   "cell_type": "code",
   "execution_count": 30,
   "metadata": {
    "collapsed": true
   },
   "outputs": [],
   "source": [
    "Geo_All_5=Geo_Saatva.append(Geo_Saatva_Branding).append(Geo_Saatva_Competitors).append(Geo_TheSaatvaCompany).append(Geo_TheSaatvaCompanyBranding)\n",
    "Geo_All_5['Country/Territory']=Geo_All_5['Country/Territory'].astype(str)\n",
    "Geo_All_5=Geo_All_5[Geo_All_5['Country/Territory'].isin(['2840',' --'])] # US or missing country code only\n",
    "\n",
    "Metro_id_list=Geo_All_5['Metro area'].unique().tolist()\n",
    "Metro_id_list.remove(\" --\")\n",
    "Metro_id_list=Metro_id_list+[int(x) for x in Metro_id_list]"
   ]
  },
  {
   "cell_type": "code",
   "execution_count": 31,
   "metadata": {},
   "outputs": [
    {
     "data": {
      "text/html": [
       "<div>\n",
       "<style>\n",
       "    .dataframe thead tr:only-child th {\n",
       "        text-align: right;\n",
       "    }\n",
       "\n",
       "    .dataframe thead th {\n",
       "        text-align: left;\n",
       "    }\n",
       "\n",
       "    .dataframe tbody tr th {\n",
       "        vertical-align: top;\n",
       "    }\n",
       "</style>\n",
       "<table border=\"1\" class=\"dataframe\">\n",
       "  <thead>\n",
       "    <tr style=\"text-align: right;\">\n",
       "      <th></th>\n",
       "      <th>DMA_id</th>\n",
       "      <th>DMA_name</th>\n",
       "      <th>DMA_type</th>\n",
       "    </tr>\n",
       "  </thead>\n",
       "  <tbody>\n",
       "    <tr>\n",
       "      <th>0</th>\n",
       "      <td>200602</td>\n",
       "      <td>Chicago IL</td>\n",
       "      <td>DMA Region</td>\n",
       "    </tr>\n",
       "    <tr>\n",
       "      <th>1</th>\n",
       "      <td>200819</td>\n",
       "      <td>Seattle-Tacoma WA</td>\n",
       "      <td>DMA Region</td>\n",
       "    </tr>\n",
       "  </tbody>\n",
       "</table>\n",
       "</div>"
      ],
      "text/plain": [
       "   DMA_id           DMA_name    DMA_type\n",
       "0  200602         Chicago IL  DMA Region\n",
       "1  200819  Seattle-Tacoma WA  DMA Region"
      ]
     },
     "execution_count": 31,
     "metadata": {},
     "output_type": "execute_result"
    }
   ],
   "source": [
    "# DMA names\n",
    "\n",
    "DMA_ID_Name=pd.DataFrame()\n",
    "count_i=0\n",
    "for client_ in [client_Saatva,client_Saatva_Branding,client_Saatva_Competitors,client_TheSaatvaCompany,client_TheSaatvaCompanyBranding]:\n",
    "\n",
    "    location_criterion_service = client_.GetService('LocationCriterionService',version='v201809')\n",
    "\n",
    "    location_id_list = Metro_id_list\n",
    "\n",
    "    selector = {\n",
    "      'fields': ['Id', 'LocationName', 'DisplayType', 'CanonicalName',\n",
    "                 'ParentLocations', 'Reach', 'TargetingStatus'],\n",
    "      'predicates': [{\n",
    "          'field': 'Id',\n",
    "          'operator': 'IN',\n",
    "          'values': location_id_list\n",
    "      }]\n",
    "    }\n",
    "    response_list = location_criterion_service.get(selector)\n",
    "    for response in response_list:\n",
    "        DMA_id=response['location']['id']\n",
    "        DMA_type=response['location']['displayType']\n",
    "        DMA_name=response['location']['locationName']\n",
    "\n",
    "        df=pd.DataFrame({\"DMA_id\":DMA_id,\"DMA_type\":DMA_type,\"DMA_name\":DMA_name},index=[count_i])\n",
    "        count_i+=1\n",
    "        DMA_ID_Name=DMA_ID_Name.append(df)\n",
    "DMA_ID_Name=DMA_ID_Name.drop_duplicates()\n",
    "DMA_ID_Name['DMA_id']=DMA_ID_Name['DMA_id'].astype(str)\n",
    "DMA_ID_Name.head(2)"
   ]
  },
  {
   "cell_type": "code",
   "execution_count": 32,
   "metadata": {},
   "outputs": [
    {
     "data": {
      "text/plain": [
       "(967455, 11)"
      ]
     },
     "execution_count": 32,
     "metadata": {},
     "output_type": "execute_result"
    }
   ],
   "source": [
    "Geo_All_5=pd.merge(Geo_All_5,DMA_ID_Name,left_on=\"Metro area\",right_on=\"DMA_id\",how=\"left\")\n",
    "\n",
    "Geo_All_5[pd.isnull(Geo_All_5['DMA_name'])]['Metro area'].unique()\n",
    "Geo_All_5['DMA_name']=Geo_All_5['DMA_name'].fillna(\" --\")\n",
    "Geo_All_5.shape"
   ]
  },
  {
   "cell_type": "code",
   "execution_count": 33,
   "metadata": {},
   "outputs": [
    {
     "name": "stdout",
     "output_type": "stream",
     "text": [
      "(967455, 12)\n"
     ]
    }
   ],
   "source": [
    "Geo_All_5=pd.merge(Geo_All_5,account_campaing_name_type,on=['Campaign'],how=\"left\")\n",
    "Geo_All_5=Geo_All_5.reset_index()\n",
    "del Geo_All_5['index']\n",
    "print(Geo_All_5.shape)\n",
    "\n",
    "Geo_All_5=Geo_All_5.groupby(['Day','Campaign_Type','DMA_name'])['Impressions','Clicks','Cost'].apply(sum).reset_index()#.sum()#\n"
   ]
  },
  {
   "cell_type": "code",
   "execution_count": 34,
   "metadata": {},
   "outputs": [
    {
     "data": {
      "text/html": [
       "<div>\n",
       "<style>\n",
       "    .dataframe thead tr:only-child th {\n",
       "        text-align: right;\n",
       "    }\n",
       "\n",
       "    .dataframe thead th {\n",
       "        text-align: left;\n",
       "    }\n",
       "\n",
       "    .dataframe tbody tr th {\n",
       "        vertical-align: top;\n",
       "    }\n",
       "</style>\n",
       "<table border=\"1\" class=\"dataframe\">\n",
       "  <thead>\n",
       "    <tr style=\"text-align: right;\">\n",
       "      <th></th>\n",
       "      <th>DMA_name</th>\n",
       "      <th>Mkt</th>\n",
       "    </tr>\n",
       "  </thead>\n",
       "  <tbody>\n",
       "    <tr>\n",
       "      <th>0</th>\n",
       "      <td>San Francisco-Oakland-San Jose CA</td>\n",
       "      <td>Test_Mkts</td>\n",
       "    </tr>\n",
       "    <tr>\n",
       "      <th>1</th>\n",
       "      <td>Minneapolis-St. Paul MN</td>\n",
       "      <td>Test_Mkts</td>\n",
       "    </tr>\n",
       "    <tr>\n",
       "      <th>2</th>\n",
       "      <td>Denver CO</td>\n",
       "      <td>Test_Mkts</td>\n",
       "    </tr>\n",
       "    <tr>\n",
       "      <th>...</th>\n",
       "      <td>...</td>\n",
       "      <td>...</td>\n",
       "    </tr>\n",
       "    <tr>\n",
       "      <th>7</th>\n",
       "      <td>Los Angeles CA</td>\n",
       "      <td>Control_Mkts</td>\n",
       "    </tr>\n",
       "    <tr>\n",
       "      <th>8</th>\n",
       "      <td>Boston MA-Manchester NH</td>\n",
       "      <td>Control_Mkts</td>\n",
       "    </tr>\n",
       "    <tr>\n",
       "      <th>9</th>\n",
       "      <td>Raleigh-Durham (Fayetteville) NC</td>\n",
       "      <td>Control_Mkts</td>\n",
       "    </tr>\n",
       "  </tbody>\n",
       "</table>\n",
       "<p>10 rows × 2 columns</p>\n",
       "</div>"
      ],
      "text/plain": [
       "                             DMA_name           Mkt\n",
       "0   San Francisco-Oakland-San Jose CA     Test_Mkts\n",
       "1             Minneapolis-St. Paul MN     Test_Mkts\n",
       "2                           Denver CO     Test_Mkts\n",
       "..                                ...           ...\n",
       "7                      Los Angeles CA  Control_Mkts\n",
       "8             Boston MA-Manchester NH  Control_Mkts\n",
       "9    Raleigh-Durham (Fayetteville) NC  Control_Mkts\n",
       "\n",
       "[10 rows x 2 columns]"
      ]
     },
     "execution_count": 34,
     "metadata": {},
     "output_type": "execute_result"
    }
   ],
   "source": [
    "test_makret_list=['San Francisco-Oakland-San Jose CA','Minneapolis-St. Paul MN','Denver CO','Charlotte NC','New York NY','Chicago IL','Washington DC (Hagerstown MD)']\n",
    "control_makret_list=['Los Angeles CA','Boston MA-Manchester NH','Raleigh-Durham (Fayetteville) NC']\n",
    "\n",
    "all_selected_mkts=test_makret_list+control_makret_list\n",
    "df_all_selected_mkts=pd.DataFrame({\"DMA_name\":all_selected_mkts})\n",
    "df_all_selected_mkts=df_all_selected_mkts.reset_index()\n",
    "del df_all_selected_mkts['index']\n",
    "df_all_selected_mkts['Mkt']=np.where(df_all_selected_mkts['DMA_name'].isin(test_makret_list),\"Test_Mkts\",\"Control_Mkts\")\n",
    "df_all_selected_mkts"
   ]
  },
  {
   "cell_type": "code",
   "execution_count": 35,
   "metadata": {},
   "outputs": [
    {
     "data": {
      "text/plain": [
       "(89653, 6)"
      ]
     },
     "execution_count": 35,
     "metadata": {},
     "output_type": "execute_result"
    }
   ],
   "source": [
    "Geo_All_5.shape"
   ]
  },
  {
   "cell_type": "code",
   "execution_count": 36,
   "metadata": {
    "collapsed": true
   },
   "outputs": [],
   "source": [
    "writer=pd.ExcelWriter(writer_folder+\"/Saatva_Mkt_CTR_by_day_by_Channel_Overall_JL_\"+str(datetime.datetime.now().date())+\".xlsx\",engine=\"xlsxwriter\")\n",
    "\n",
    "Selected_Mkt=Geo_All_5[Geo_All_5['DMA_name'].isin(df_all_selected_mkts['DMA_name'].tolist())]\n",
    "Selected_Mkt=pd.merge(Selected_Mkt,df_all_selected_mkts,on=\"DMA_name\",how=\"outer\")\n",
    "Selected_Mkt.to_excel(writer,\"Selected_Mkt_US_AD_data\",index=False)\n",
    "\n",
    "Geo_All_5.to_excel(writer,\"All_Mkt_US_AD_data\",index=False)\n",
    "\n",
    "DMA_ID_Name.to_excel(writer,\"US_DMA_Google_ID\",index=False)\n",
    "\n",
    "writer.save()"
   ]
  },
  {
   "cell_type": "markdown",
   "metadata": {},
   "source": [
    "# Market_Level_GoogleAnalytics"
   ]
  },
  {
   "cell_type": "code",
   "execution_count": 37,
   "metadata": {
    "collapsed": true
   },
   "outputs": [],
   "source": [
    "# GA New York Time Zone\n",
    "\n",
    "analytics = ga.initialize_analyticsreporting('/home/jian/Projects/Saatva/GA/GA_api_jubapluscc@gmail.com.json')\n",
    "\n",
    "def num_func_trans(df):\n",
    "    if 'ga:sessions' in df.columns:\n",
    "        df['ga:sessions']=df['ga:sessions'].apply(lambda x: int(x.replace(\",\",\"\")))\n",
    "        df['ga:sessions']=df['ga:sessions'].astype(int)\n",
    "\n",
    "    if 'ga:adClicks' in df.columns:\n",
    "        df['ga:adClicks']=df['ga:adClicks'].apply(lambda x: int(x.replace(\",\",\"\")))\n",
    "        df['ga:adClicks']=df['ga:adClicks'].astype(int)\n",
    "\n",
    "    if 'ga:impressions' in df.columns:\n",
    "        df['ga:impressions']=df['ga:impressions'].apply(lambda x: int(x.replace(\",\",\"\")))\n",
    "        df['ga:impressions']=df['ga:impressions'].astype(int)\n",
    "    \n",
    "    if 'ga:transactions' in df.columns:\n",
    "        df['ga:transactions']=df['ga:transactions'].apply(lambda x: int(x.replace(\",\",\"\")))\n",
    "        df['ga:transactions']=df['ga:transactions'].astype(int)\n",
    "    \n",
    "    if 'ga:transactionRevenue' in df.columns:\n",
    "        df['ga:transactionRevenue']=df['ga:transactionRevenue'].apply(lambda x: float(x.replace(\",\",\"\")))\n",
    "        df['ga:transactionRevenue']=df['ga:transactionRevenue'].astype(float)\n",
    "\n",
    "    \n",
    "    return df\n"
   ]
  },
  {
   "cell_type": "code",
   "execution_count": 38,
   "metadata": {},
   "outputs": [
    {
     "data": {
      "text/plain": [
       "['(not set)',\n",
       " 'Afghanistan',\n",
       " 'Albania',\n",
       " 'Algeria',\n",
       " 'Angola',\n",
       " 'Argentina',\n",
       " 'Armenia',\n",
       " 'Aruba',\n",
       " 'Australia',\n",
       " 'Austria',\n",
       " 'Azerbaijan',\n",
       " 'Bahamas',\n",
       " 'Bahrain',\n",
       " 'Bangladesh',\n",
       " 'Barbados',\n",
       " 'Belarus',\n",
       " 'Belgium',\n",
       " 'Belize',\n",
       " 'Benin',\n",
       " 'Bermuda',\n",
       " 'Bolivia',\n",
       " 'Bosnia & Herzegovina',\n",
       " 'Brazil',\n",
       " 'Bulgaria',\n",
       " 'Burundi',\n",
       " 'Cambodia',\n",
       " 'Cameroon',\n",
       " 'Canada',\n",
       " 'Cayman Islands',\n",
       " 'Chile',\n",
       " 'China',\n",
       " 'Colombia',\n",
       " 'Costa Rica',\n",
       " 'Croatia',\n",
       " 'Curaçao',\n",
       " 'Cyprus',\n",
       " 'Czechia',\n",
       " 'Côte d’Ivoire',\n",
       " 'Denmark',\n",
       " 'Dominica',\n",
       " 'Dominican Republic',\n",
       " 'Ecuador',\n",
       " 'Egypt',\n",
       " 'El Salvador',\n",
       " 'Ethiopia',\n",
       " 'Finland',\n",
       " 'France',\n",
       " 'Georgia',\n",
       " 'Germany',\n",
       " 'Ghana',\n",
       " 'Greece',\n",
       " 'Grenada',\n",
       " 'Guam',\n",
       " 'Guatemala',\n",
       " 'Guyana',\n",
       " 'Haiti',\n",
       " 'Honduras',\n",
       " 'Hong Kong',\n",
       " 'Hungary',\n",
       " 'Iceland',\n",
       " 'India',\n",
       " 'Indonesia',\n",
       " 'Iran',\n",
       " 'Iraq',\n",
       " 'Ireland',\n",
       " 'Israel',\n",
       " 'Italy',\n",
       " 'Jamaica',\n",
       " 'Japan',\n",
       " 'Jordan',\n",
       " 'Kazakhstan',\n",
       " 'Kenya',\n",
       " 'Kosovo',\n",
       " 'Kuwait',\n",
       " 'Kyrgyzstan',\n",
       " 'Laos',\n",
       " 'Latvia',\n",
       " 'Lebanon',\n",
       " 'Liberia',\n",
       " 'Libya',\n",
       " 'Lithuania',\n",
       " 'Luxembourg',\n",
       " 'Macau',\n",
       " 'Macedonia (FYROM)',\n",
       " 'Madagascar',\n",
       " 'Malaysia',\n",
       " 'Maldives',\n",
       " 'Mali',\n",
       " 'Martinique',\n",
       " 'Mauritania',\n",
       " 'Mauritius',\n",
       " 'Mexico',\n",
       " 'Moldova',\n",
       " 'Monaco',\n",
       " 'Mongolia',\n",
       " 'Morocco',\n",
       " 'Mozambique',\n",
       " 'Myanmar (Burma)',\n",
       " 'Nepal',\n",
       " 'Netherlands',\n",
       " 'New Zealand',\n",
       " 'Nicaragua',\n",
       " 'Niger',\n",
       " 'Nigeria',\n",
       " 'Norway',\n",
       " 'Oman',\n",
       " 'Pakistan',\n",
       " 'Palestine',\n",
       " 'Panama',\n",
       " 'Paraguay',\n",
       " 'Peru',\n",
       " 'Philippines',\n",
       " 'Poland',\n",
       " 'Portugal',\n",
       " 'Puerto Rico',\n",
       " 'Qatar',\n",
       " 'Romania',\n",
       " 'Russia',\n",
       " 'Rwanda',\n",
       " 'Saudi Arabia',\n",
       " 'Senegal',\n",
       " 'Serbia',\n",
       " 'Sierra Leone',\n",
       " 'Singapore',\n",
       " 'Sint Maarten',\n",
       " 'Slovakia',\n",
       " 'Slovenia',\n",
       " 'Somalia',\n",
       " 'South Africa',\n",
       " 'South Korea',\n",
       " 'South Sudan',\n",
       " 'Spain',\n",
       " 'Sri Lanka',\n",
       " 'St. Kitts & Nevis',\n",
       " 'St. Vincent & Grenadines',\n",
       " 'Sudan',\n",
       " 'Suriname',\n",
       " 'Sweden',\n",
       " 'Switzerland',\n",
       " 'Syria',\n",
       " 'Taiwan',\n",
       " 'Tajikistan',\n",
       " 'Tanzania',\n",
       " 'Thailand',\n",
       " 'Togo',\n",
       " 'Trinidad & Tobago',\n",
       " 'Tunisia',\n",
       " 'Turkey',\n",
       " 'Turkmenistan',\n",
       " 'U.S. Virgin Islands',\n",
       " 'Uganda',\n",
       " 'Ukraine',\n",
       " 'United Arab Emirates',\n",
       " 'United Kingdom',\n",
       " 'United States',\n",
       " 'Uruguay',\n",
       " 'Uzbekistan',\n",
       " 'Venezuela',\n",
       " 'Vietnam',\n",
       " 'Zambia']"
      ]
     },
     "execution_count": 38,
     "metadata": {},
     "output_type": "execute_result"
    }
   ],
   "source": [
    "ga_data_saatva=ga.get_report_over_10000_rows(analytics=analytics, VIEW_ID='122377905',start_date=start_date, end_date=end_date,\n",
    "                                            ga_metrics=['ga:sessions'],\n",
    "                                            ga_dimensions=['ga:date','ga:sourceMedium','ga:country','ga:metro'])\n",
    "sorted(ga_data_saatva['ga:country'].unique().tolist())\n"
   ]
  },
  {
   "cell_type": "code",
   "execution_count": 39,
   "metadata": {},
   "outputs": [
    {
     "name": "stdout",
     "output_type": "stream",
     "text": [
      "(35045, 7)\n",
      "(161921, 7)\n"
     ]
    }
   ],
   "source": [
    "ga_data_saatva=ga.get_report_over_10000_rows(analytics=analytics, VIEW_ID='122377905',start_date=start_date, end_date=end_date,\n",
    "                                            ga_metrics=['ga:sessions'],\n",
    "                                            ga_dimensions=['ga:date','ga:sourceMedium','ga:country','ga:metro'])\n",
    "ga_data_saatva=ga_data_saatva[ga_data_saatva['ga:country'].isin([\"United States\",\"(not set)\"])]\n",
    "ga_data_saatva['View']=\"Saatva.com\"\n",
    "ga_data_saatva['View_ID']=\"122377905\"\n",
    "print(ga_data_saatva.shape)\n",
    "\n",
    "ga_data_SM=ga.get_report_over_10000_rows(analytics=analytics, VIEW_ID='33605697',start_date=start_date, end_date=end_date,\n",
    "                                            ga_metrics=['ga:sessions'],\n",
    "                                            ga_dimensions=['ga:date','ga:sourceMedium','ga:country','ga:metro'])\n",
    "\n",
    "ga_data_SM=ga_data_SM[ga_data_SM['ga:country'].isin([\"United States\",\"(not set)\"])]\n",
    "ga_data_SM['View']=\"Saatvamattress.com\"\n",
    "ga_data_SM['View_ID']=\"33605697\"\n",
    "print(ga_data_SM.shape)"
   ]
  },
  {
   "cell_type": "code",
   "execution_count": 40,
   "metadata": {
    "collapsed": true
   },
   "outputs": [],
   "source": [
    "ga_data=ga_data_SM.append(ga_data_saatva)\n",
    "ga_data=num_func_trans(ga_data)\n",
    "\n",
    "ga_data['Source']=ga_data['ga:sourceMedium'].apply(lambda x: x.split(\" / \")[0])\n",
    "ga_data['Medium']=ga_data['ga:sourceMedium'].apply(lambda x: x.split(\" / \")[1])\n",
    "\n",
    "ga_data['Defined_Media']=np.nan\n",
    "ga_data['Defined_Media']=np.where(((ga_data['ga:sourceMedium'].str.contains('youtube.')) | (ga_data['Medium']==\"social\")),\"Social\",\n",
    "                                  np.where(((ga_data['Source'].isin(['msn','instagram','Instagram','pinterest','facebook'])) & (ga_data['Medium']=='cpc')),\"Social\",\n",
    "                                           np.where(ga_data['ga:sourceMedium'].str.contains('criteo'),\"Retarget\",\n",
    "                                                    np.where(ga_data['Source']==\"(direct)\",\"Direct\",\n",
    "                                                             np.where(((ga_data['Source'].isin(['google','bing','yahoo'])) & (ga_data['Medium']=='cpc')),\"SEM\",\n",
    "                                                                      np.where(((ga_data['Source'].isin(['google','bing','yahoo'])) & (ga_data['Medium']=='organic')),\"SEO\",\n",
    "                                                                               np.where(ga_data['Source']==\"powerInbox\",\"Email\",\n",
    "                                                                                        np.where((ga_data['ga:sourceMedium'].str.contains('email')) & (~ga_data['ga:sourceMedium'].isin([\"taboola / townnews-wvgazettemail\",\"query.hemailaccessonline.com / referral\"]) | (ga_data['ga:sourceMedium'].str.contains(\"mail.\") )),\"Email\",\n",
    "                                                                                                 np.where(ga_data['ga:sourceMedium'].str.contains('taboola'),\"Video\",\n",
    "                                                                                                          np.where(ga_data['Medium']==\"referral\",\"Referral\",\n",
    "                                                                                                                   np.where(ga_data['Medium'].isin([\"partner\",\"partners\"]),\"partner\",\n",
    "                                                                                                                            np.where(ga_data['ga:sourceMedium'].str.contains('display'),\"Display\",\"Others\")\n",
    "                                                                                                                            )\n",
    "                                                                                                                   )\n",
    "                                                                                                          )\n",
    "                                                                                                )\n",
    "                                                                                       )\n",
    "                                                                              )\n",
    "                                                                     )\n",
    "                                                            )\n",
    "                                                   )\n",
    "                                          )\n",
    "                                 )"
   ]
  },
  {
   "cell_type": "code",
   "execution_count": 41,
   "metadata": {
    "collapsed": true
   },
   "outputs": [],
   "source": [
    "GA_taxonomy=ga_data[['ga:sourceMedium','Source','Medium','Defined_Media']].drop_duplicates()\n",
    "GA_taxonomy.reset_index(inplace=True)\n",
    "GA_taxonomy=GA_taxonomy.sort_values('Defined_Media')\n",
    "del GA_taxonomy['index']"
   ]
  },
  {
   "cell_type": "code",
   "execution_count": 42,
   "metadata": {
    "collapsed": true
   },
   "outputs": [],
   "source": [
    "ga_agg_session=ga_data.groupby(['ga:date','ga:metro','Defined_Media'])['ga:sessions'].sum().to_frame()\n",
    "ga_agg_session.reset_index(inplace=True)\n",
    "ga_agg_session['ga:date']=ga_agg_session['ga:date'].apply(lambda x: datetime.datetime.strptime(x,\"%Y%m%d\").date())"
   ]
  },
  {
   "cell_type": "code",
   "execution_count": null,
   "metadata": {
    "collapsed": true
   },
   "outputs": [],
   "source": []
  },
  {
   "cell_type": "code",
   "execution_count": 43,
   "metadata": {
    "collapsed": true
   },
   "outputs": [],
   "source": [
    "writer=pd.ExcelWriter(writer_folder+\"/Saatva_Sessions_by_day_by_Channel_JL_\"+str(datetime.datetime.now().date())+\".xlsx\",\n",
    "                      engine=\"xlsxwriter\",options={'strings_to_urls': False})\n",
    "\n",
    "ga_agg_session_local_selected=ga_agg_session[ga_agg_session['ga:metro'].isin(df_all_selected_mkts['DMA_name'].tolist())]\n",
    "ga_agg_session_local_selected=pd.merge(ga_agg_session_local_selected,df_all_selected_mkts,left_on='ga:metro',right_on=\"DMA_name\",how=\"outer\")\n",
    "ga_agg_session_local_selected.to_excel(writer,\"Selected_Mkt_US_GA_data\",index=False)\n",
    "\n",
    "ga_agg_session.to_excel(writer,\"All_Mkt_US_GA_data\",index=False)\n",
    "\n",
    "GA_taxonomy.to_excel(writer,\"Media_Type_Mapping\",index=False)\n",
    "\n",
    "writer.save()"
   ]
  },
  {
   "cell_type": "code",
   "execution_count": null,
   "metadata": {
    "collapsed": true
   },
   "outputs": [],
   "source": []
  }
 ],
 "metadata": {
  "kernelspec": {
   "display_name": "Python 3",
   "language": "python",
   "name": "python3"
  },
  "language_info": {
   "codemirror_mode": {
    "name": "ipython",
    "version": 3
   },
   "file_extension": ".py",
   "mimetype": "text/x-python",
   "name": "python",
   "nbconvert_exporter": "python",
   "pygments_lexer": "ipython3",
   "version": "3.6.1"
  }
 },
 "nbformat": 4,
 "nbformat_minor": 2
}
