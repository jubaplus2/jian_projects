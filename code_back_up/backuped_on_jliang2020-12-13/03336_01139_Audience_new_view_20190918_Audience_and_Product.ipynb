{
 "cells": [
  {
   "cell_type": "code",
   "execution_count": 1,
   "metadata": {},
   "outputs": [
    {
     "data": {
      "text/plain": [
       "'/home/jian/Projects/Big_Lots/Analysis/2019_Q3/Projection_est_in_Q3'"
      ]
     },
     "execution_count": 1,
     "metadata": {},
     "output_type": "execute_result"
    }
   ],
   "source": [
    "# First 6 weeks & rewards in 19 Audience only \n",
    "\n",
    "import pandas as pd\n",
    "import datetime\n",
    "import numpy as np\n",
    "import os\n",
    "import glob\n",
    "import gc\n",
    "\n",
    "def recursive_file_gen(root_folder):\n",
    "    for root, dirs, files in os.walk(root_folder):\n",
    "        for file in files:\n",
    "            yield os.path.join(root, file)\n",
    "            \n",
    "os.getcwd()\n",
    "\n",
    "# Note how to difine the new sign ups"
   ]
  },
  {
   "cell_type": "code",
   "execution_count": 2,
   "metadata": {},
   "outputs": [
    {
     "data": {
      "text/plain": [
       "446"
      ]
     },
     "execution_count": 2,
     "metadata": {},
     "output_type": "execute_result"
    }
   ],
   "source": [
    "set_SOTF_number=pd.ExcelFile(\"./SOTF/Store List Report 20190910  09.10.19 417PM Dom edited BR .xlsx\")\n",
    "# set_SOTF_number.sheet_names\n",
    "set_SOTF_number=set_SOTF_number.parse(\"SOTF pre 11-15-19 (462)\",dtype=str)\n",
    "set_SOTF_number=set_SOTF_number[(set_SOTF_number['SOTF']==\"Yes\") & (set_SOTF_number['Open Date']<=\"2019-09-07\")]\n",
    "set_SOTF_number=set(set_SOTF_number['Store'].unique().tolist())\n",
    "len(set_SOTF_number)"
   ]
  },
  {
   "cell_type": "code",
   "execution_count": 3,
   "metadata": {},
   "outputs": [
    {
     "name": "stdout",
     "output_type": "stream",
     "text": [
      "new_sign_ups_after_2019Q3_end.shape (7623850, 2)\n",
      "new_sign_ups_after_2019Q3_end['customer_id_hashed'].nunique() 7623841\n"
     ]
    }
   ],
   "source": [
    "new_sign_ups_after_2019Q3_end=pd.read_table(\"/home/jian/BigLots/New_Sing_Ups_2018_Fiscal_Year/All Rewards Members 2018-02-04 - 2019-05-04.zip\",\n",
    "                                             compression=\"zip\",dtype=str,sep=\"|\",usecols=['customer_id_hashed','sign_up_date'])\n",
    "new_sign_ups_after_2019Q3_end=new_sign_ups_after_2019Q3_end[new_sign_ups_after_2019Q3_end['sign_up_date']>=\"2018-08-05\"] # First of 2018Q3\n",
    "master_file_gap=pd.read_table(\"/home/jian/BigLots/New_Sing_Ups_2018_Fiscal_Year/MediaStorm Rewards Master P4 2019 - no transaction info.zip\",\n",
    "                                             compression=\"zip\",dtype=str,sep=\"|\",usecols=['customer_id_hashed','sign_up_date'])\n",
    "new_sign_ups_after_2019Q3_end=master_file_gap.append(new_sign_ups_after_2019Q3_end).drop_duplicates()\n",
    "del master_file_gap\n",
    "###\n",
    "\n",
    "all_master_files_after_201906=list(recursive_file_gen(\"/home/jian/BigLots/2019_by_weeks/\"))\n",
    "all_master_files_after_201906=[x for x in all_master_files_after_201906 if (\"aster\" in x) & (\".txt\" in x)]\n",
    "all_master_files_after_201906=[x for x in all_master_files_after_201906 if x.split(\"ts/2019_by_weeks/MediaStorm_\")[1][:10]>\"2019-06-01\"]\n",
    "df_master_all_later_after_201906=pd.DataFrame()\n",
    "for file in all_master_files_after_201906:\n",
    "    df=pd.read_table(file,dtype=str,sep=\"|\",usecols=['customer_id_hashed','sign_up_date'])\n",
    "    df_master_all_later_after_201906=df_master_all_later_after_201906.append(df)\n",
    "\n",
    "new_sign_ups_after_2019Q3_end=new_sign_ups_after_2019Q3_end.append(df_master_all_later_after_201906).drop_duplicates()\n",
    "del df_master_all_later_after_201906\n",
    "\n",
    "\n",
    "gc.collect()\n",
    "print(\"new_sign_ups_after_2019Q3_end.shape\",new_sign_ups_after_2019Q3_end.shape)\n",
    "print(\"new_sign_ups_after_2019Q3_end['customer_id_hashed'].nunique()\",new_sign_ups_after_2019Q3_end['customer_id_hashed'].nunique())"
   ]
  },
  {
   "cell_type": "code",
   "execution_count": 4,
   "metadata": {},
   "outputs": [
    {
     "data": {
      "text/plain": [
       "(18, 2)"
      ]
     },
     "execution_count": 4,
     "metadata": {},
     "output_type": "execute_result"
    }
   ],
   "source": [
    "dup_ids=new_sign_ups_after_2019Q3_end[new_sign_ups_after_2019Q3_end['customer_id_hashed'].duplicated()]['customer_id_hashed'].tolist()\n",
    "df=new_sign_ups_after_2019Q3_end[new_sign_ups_after_2019Q3_end['customer_id_hashed'].isin(dup_ids)]\n",
    "df.shape"
   ]
  },
  {
   "cell_type": "code",
   "execution_count": 5,
   "metadata": {},
   "outputs": [
    {
     "data": {
      "text/plain": [
       "35"
      ]
     },
     "execution_count": 5,
     "metadata": {},
     "output_type": "execute_result"
    }
   ],
   "source": [
    "new_sign_ups_after_2019Q3_end=new_sign_ups_after_2019Q3_end.sort_values(['customer_id_hashed','sign_up_date'],ascending=[True,False]).drop_duplicates(\"customer_id_hashed\")\n",
    "set_new_signed_ids=set(new_sign_ups_after_2019Q3_end['customer_id_hashed'].tolist())\n",
    "del new_sign_ups_after_2019Q3_end\n",
    "gc.collect()"
   ]
  },
  {
   "cell_type": "code",
   "execution_count": 6,
   "metadata": {},
   "outputs": [
    {
     "name": "stdout",
     "output_type": "stream",
     "text": [
      "25 25\n",
      "542702\n",
      "(21810554, 2)  |  21810554\n"
     ]
    }
   ],
   "source": [
    "audience_list_2019Q3=\"/home/jian/Projects/Big_Lots/Live_Ramp/Quarterly_Update_2019Q3/upload_files/\"\n",
    "audience_list_2019Q3=glob.glob(audience_list_2019Q3+\"*.csv\")\n",
    "len(audience_list_2019Q3)\n",
    "\n",
    "\n",
    "audience_list_2019Q3_C=[x for x in audience_list_2019Q3 if os.path.basename(x)[0]==\"C\"]\n",
    "audience_list_2019Q3_T=[x for x in audience_list_2019Q3 if os.path.basename(x)[0]==\"T\"]\n",
    "print(len(audience_list_2019Q3_C),len(audience_list_2019Q3_T))\n",
    "\n",
    "set_C_2019Q3=set()\n",
    "for file in audience_list_2019Q3_C:\n",
    "    df=pd.read_csv(file,dtype=str,usecols=[\"customer_id_hashed\"])\n",
    "    set_C_2019Q3=set_C_2019Q3.union(set(df['customer_id_hashed'].tolist()))\n",
    "print(len(set_C_2019Q3))\n",
    "\n",
    "\n",
    "df_audience_2019Q3=pd.DataFrame()\n",
    "\n",
    "for file in audience_list_2019Q3_T:\n",
    "    df=pd.read_csv(file,dtype=str,usecols=['customer_id_hashed','segment'])\n",
    "    df=df[~df['customer_id_hashed'].isin(set_C_2019Q3)]\n",
    "    df_audience_2019Q3=df_audience_2019Q3.append(df)\n",
    "df_audience_2019Q3=df_audience_2019Q3.drop_duplicates()\n",
    "\n",
    "print(df_audience_2019Q3.shape,\" | \",df_audience_2019Q3['customer_id_hashed'].nunique())"
   ]
  },
  {
   "cell_type": "code",
   "execution_count": 7,
   "metadata": {},
   "outputs": [
    {
     "name": "stdout",
     "output_type": "stream",
     "text": [
      "(21810554, 3)\n",
      "(7, 2)\n"
     ]
    },
    {
     "data": {
      "text/html": [
       "<div>\n",
       "<style>\n",
       "    .dataframe thead tr:only-child th {\n",
       "        text-align: right;\n",
       "    }\n",
       "\n",
       "    .dataframe thead th {\n",
       "        text-align: left;\n",
       "    }\n",
       "\n",
       "    .dataframe tbody tr th {\n",
       "        vertical-align: top;\n",
       "    }\n",
       "</style>\n",
       "<table border=\"1\" class=\"dataframe\">\n",
       "  <thead>\n",
       "    <tr style=\"text-align: right;\">\n",
       "      <th></th>\n",
       "      <th>segment_2</th>\n",
       "      <th>ids_total</th>\n",
       "    </tr>\n",
       "  </thead>\n",
       "  <tbody>\n",
       "    <tr>\n",
       "      <th>0</th>\n",
       "      <td>T_P_H_2019Q3_RFM</td>\n",
       "      <td>4937981</td>\n",
       "    </tr>\n",
       "    <tr>\n",
       "      <th>1</th>\n",
       "      <td>T_P_L_2019Q3_RFM</td>\n",
       "      <td>3391401</td>\n",
       "    </tr>\n",
       "    <tr>\n",
       "      <th>2</th>\n",
       "      <td>T_P_M_2019Q3_RFM</td>\n",
       "      <td>3515875</td>\n",
       "    </tr>\n",
       "    <tr>\n",
       "      <th>3</th>\n",
       "      <td>T_S_H_2019Q3_RFM</td>\n",
       "      <td>1694485</td>\n",
       "    </tr>\n",
       "    <tr>\n",
       "      <th>4</th>\n",
       "      <td>T_S_L_2019Q3_RFM</td>\n",
       "      <td>1422640</td>\n",
       "    </tr>\n",
       "    <tr>\n",
       "      <th>5</th>\n",
       "      <td>T_S_M_2019Q3_RFM</td>\n",
       "      <td>1361003</td>\n",
       "    </tr>\n",
       "    <tr>\n",
       "      <th>6</th>\n",
       "      <td>T_lapsed_18_48_PS_RFM</td>\n",
       "      <td>5487169</td>\n",
       "    </tr>\n",
       "  </tbody>\n",
       "</table>\n",
       "</div>"
      ],
      "text/plain": [
       "               segment_2  ids_total\n",
       "0       T_P_H_2019Q3_RFM    4937981\n",
       "1       T_P_L_2019Q3_RFM    3391401\n",
       "2       T_P_M_2019Q3_RFM    3515875\n",
       "3       T_S_H_2019Q3_RFM    1694485\n",
       "4       T_S_L_2019Q3_RFM    1422640\n",
       "5       T_S_M_2019Q3_RFM    1361003\n",
       "6  T_lapsed_18_48_PS_RFM    5487169"
      ]
     },
     "execution_count": 7,
     "metadata": {},
     "output_type": "execute_result"
    }
   ],
   "source": [
    "# Rolling up removing the quadrant\n",
    "df_audience_total_count_original=df_audience_2019Q3.groupby(\"segment\")['customer_id_hashed'].nunique().to_frame().reset_index().rename(columns={\"customer_id_hashed\":\"ids_total\"})\n",
    "df_audience_2019Q3['segment_2']=df_audience_2019Q3['segment'].str.replace(\"Quadrant I_\",\"\")\n",
    "df_audience_2019Q3['segment_2']=df_audience_2019Q3['segment_2'].str.replace(\"Quadrant II_\",\"\")\n",
    "df_audience_2019Q3['segment_2']=df_audience_2019Q3['segment_2'].str.replace(\"Quadrant III_\",\"\")\n",
    "df_audience_2019Q3['segment_2']=df_audience_2019Q3['segment_2'].str.replace(\"Quadrant IV_\",\"\")\n",
    "print(df_audience_2019Q3.shape)\n",
    "\n",
    "df_audience_total_count=df_audience_2019Q3.groupby(\"segment_2\")['customer_id_hashed'].nunique().to_frame().reset_index().rename(columns={\"customer_id_hashed\":\"ids_total\"})\n",
    "\n",
    "del df_audience_2019Q3['segment']\n",
    "df_audience_2019Q3=df_audience_2019Q3.rename(columns={\"segment_2\":\"segment\"})\n",
    "\n",
    "print(df_audience_total_count.shape)\n",
    "df_audience_total_count"
   ]
  },
  {
   "cell_type": "code",
   "execution_count": null,
   "metadata": {
    "collapsed": true
   },
   "outputs": [],
   "source": []
  },
  {
   "cell_type": "code",
   "execution_count": null,
   "metadata": {
    "collapsed": true
   },
   "outputs": [],
   "source": []
  },
  {
   "cell_type": "code",
   "execution_count": 10,
   "metadata": {},
   "outputs": [
    {
     "name": "stdout",
     "output_type": "stream",
     "text": [
      "2019-09-19 12:36:36.435992\n"
     ]
    }
   ],
   "source": [
    "# Read from the deat session, the POS data is passed\n",
    "print(datetime.datetime.now())"
   ]
  },
  {
   "cell_type": "code",
   "execution_count": 8,
   "metadata": {},
   "outputs": [
    {
     "data": {
      "text/plain": [
       "6"
      ]
     },
     "execution_count": 8,
     "metadata": {},
     "output_type": "execute_result"
    }
   ],
   "source": [
    "sales_file_2019Q3=list(recursive_file_gen(\"/home/jian/BigLots/2019_by_weeks/\"))\n",
    "sales_file_2019Q3=[x for x in sales_file_2019Q3 if x.split(\"MediaStorm_\")[1][:10]>=\"2019-08-05\" and x.split(\"MediaStorm_\")[1][:10]<=\"2019-09-14\" and \"Daily\" in x]\n",
    "len(sales_file_2019Q3)\n"
   ]
  },
  {
   "cell_type": "code",
   "execution_count": 9,
   "metadata": {},
   "outputs": [
    {
     "data": {
      "text/plain": [
       "6"
      ]
     },
     "execution_count": 9,
     "metadata": {},
     "output_type": "execute_result"
    }
   ],
   "source": [
    "# First 6 weeks only\n",
    "sales_file_2018Q3=glob.glob(\"/home/jian/BigLots/hist_daily_data_itemlevel_decompressed/*.txt\")\n",
    "sales_file_2018Q3=[x for x in sales_file_2018Q3 if x.split(\"MediaStormDailySalesHistory\")[1][:8]>\"20180804\" and x.split(\"MediaStormDailySalesHistory\")[1][:8]<=\"20180915\"]\n",
    "len(sales_file_2018Q3)"
   ]
  },
  {
   "cell_type": "code",
   "execution_count": null,
   "metadata": {
    "collapsed": true
   },
   "outputs": [],
   "source": []
  },
  {
   "cell_type": "code",
   "execution_count": 11,
   "metadata": {},
   "outputs": [
    {
     "name": "stdout",
     "output_type": "stream",
     "text": [
      "2019-09-19 11:25:32.326172 0 (5073014, 7)\n",
      "2019-09-19 11:29:41.244508 1 (10434174, 7)\n",
      "2019-09-19 11:35:43.367113 2 (15684268, 7)\n",
      "2019-09-19 11:41:27.599695 3 (20972585, 7)\n",
      "2019-09-19 11:43:44.021951 4 (26239492, 7)\n",
      "2019-09-19 11:45:52.907062 5 (31250037, 7)\n"
     ]
    },
    {
     "data": {
      "text/plain": [
       "112"
      ]
     },
     "execution_count": 11,
     "metadata": {},
     "output_type": "execute_result"
    }
   ],
   "source": [
    "df_agg_POS_data_2018Q3_rewards=pd.DataFrame()\n",
    "\n",
    "i_counter=0\n",
    "for file in sales_file_2018Q3:\n",
    "    df=pd.read_table(file,dtype=str,sep=\"|\",usecols=['location_id','transaction_dt','transaction_id','customer_id_hashed','class_code_id',\n",
    "                                                     'item_transaction_units','item_transaction_amt'])\n",
    "    df=df[pd.notnull(df['customer_id_hashed'])]\n",
    "    df['item_transaction_units']=df['item_transaction_units'].astype(int)\n",
    "    df['item_transaction_amt']=df['item_transaction_amt'].astype(float)\n",
    "    \n",
    "    df_sales=df.groupby(['location_id','transaction_dt','customer_id_hashed','class_code_id'])['item_transaction_units','item_transaction_amt'].sum().reset_index()\n",
    "    df_sales=df_sales.rename(columns={\"item_transaction_units\":\"units\",\"item_transaction_amt\":\"sales\"})\n",
    "    \n",
    "    df_trans=df[['location_id','transaction_dt','transaction_id','customer_id_hashed','class_code_id']].drop_duplicates()\n",
    "    df_trans['trans']=1\n",
    "    df_trans=df_trans.groupby(['location_id','transaction_dt','customer_id_hashed','class_code_id'])['trans'].sum().to_frame().reset_index()\n",
    "    \n",
    "    df=pd.merge(df_sales,df_trans,on=[\"location_id\",'transaction_dt','customer_id_hashed','class_code_id'],how=\"outer\")\n",
    "    df_agg_POS_data_2018Q3_rewards=df_agg_POS_data_2018Q3_rewards.append(df)\n",
    "    \n",
    "    print(datetime.datetime.now(),i_counter,df_agg_POS_data_2018Q3_rewards.shape)\n",
    "    i_counter+=1\n",
    "gc.collect()"
   ]
  },
  {
   "cell_type": "code",
   "execution_count": 12,
   "metadata": {},
   "outputs": [
    {
     "name": "stdout",
     "output_type": "stream",
     "text": [
      "2019-09-19 11:47:06.636305 0 (5384758, 7)\n",
      "2019-09-19 11:48:27.058804 1 (10980271, 7)\n",
      "2019-09-19 11:50:24.984047 2 (16585638, 7)\n",
      "2019-09-19 11:52:20.871793 3 (22411370, 7)\n",
      "2019-09-19 11:53:59.604035 4 (28046903, 7)\n",
      "2019-09-19 11:55:56.083952 5 (33417444, 7)\n"
     ]
    },
    {
     "data": {
      "text/plain": [
       "112"
      ]
     },
     "execution_count": 12,
     "metadata": {},
     "output_type": "execute_result"
    }
   ],
   "source": [
    "df_agg_POS_data_2019Q3_rewards=pd.DataFrame()\n",
    "\n",
    "i_counter=0\n",
    "for file in sales_file_2019Q3:\n",
    "    df=pd.read_table(file,dtype=str,sep=\"|\",usecols=['location_id','transaction_dt','transaction_id','customer_id_hashed','class_code_id',\n",
    "                                                     'item_transaction_units','item_transaction_amt'])\n",
    "    df=df[pd.notnull(df['customer_id_hashed'])]\n",
    "    df['item_transaction_units']=df['item_transaction_units'].astype(int)\n",
    "    df['item_transaction_amt']=df['item_transaction_amt'].astype(float)\n",
    "    \n",
    "    df_sales=df.groupby(['location_id','transaction_dt','customer_id_hashed','class_code_id'])['item_transaction_units','item_transaction_amt'].sum().reset_index()\n",
    "    df_sales=df_sales.rename(columns={\"item_transaction_units\":\"units\",\"item_transaction_amt\":\"sales\"})\n",
    "    \n",
    "    df_trans=df[['location_id','transaction_dt','transaction_id','customer_id_hashed','class_code_id']].drop_duplicates()\n",
    "    df_trans['trans']=1\n",
    "    df_trans=df_trans.groupby(['location_id','transaction_dt','customer_id_hashed','class_code_id'])['trans'].sum().to_frame().reset_index()\n",
    "    \n",
    "    df=pd.merge(df_sales,df_trans,on=[\"location_id\",'transaction_dt','customer_id_hashed','class_code_id'],how=\"outer\")\n",
    "    df_agg_POS_data_2019Q3_rewards=df_agg_POS_data_2019Q3_rewards.append(df)\n",
    "    \n",
    "    print(datetime.datetime.now(),i_counter,df_agg_POS_data_2019Q3_rewards.shape)\n",
    "    i_counter+=1\n",
    "gc.collect()"
   ]
  },
  {
   "cell_type": "code",
   "execution_count": 13,
   "metadata": {
    "collapsed": true
   },
   "outputs": [],
   "source": [
    "def week_end_dt(x):\n",
    "    y=datetime.datetime.strptime(x,\"%Y-%m-%d\").date()\n",
    "    if y.weekday()==6:\n",
    "        y=y+datetime.timedelta(days=6)\n",
    "    else:\n",
    "        y=y+datetime.timedelta(days=5-y.weekday())\n",
    "    return y"
   ]
  },
  {
   "cell_type": "code",
   "execution_count": 14,
   "metadata": {
    "collapsed": true
   },
   "outputs": [],
   "source": [
    "df_agg_POS_data_2019Q3_rewards['Store_Type']=np.where(df_agg_POS_data_2019Q3_rewards['location_id']==\"6990\",\"Online\",\n",
    "                                                      np.where(df_agg_POS_data_2019Q3_rewards['location_id'].isin(set_SOTF_number),\"SOTF\",\"Other\")\n",
    "                                                     )\n",
    "df_agg_POS_data_2018Q3_rewards['Store_Type']=np.where(df_agg_POS_data_2018Q3_rewards['location_id']==\"6990\",\"Online\",\n",
    "                                                      np.where(df_agg_POS_data_2018Q3_rewards['location_id'].isin(set_SOTF_number),\"SOTF\",\"Other\")\n",
    "                                                     )"
   ]
  },
  {
   "cell_type": "code",
   "execution_count": 15,
   "metadata": {
    "collapsed": true
   },
   "outputs": [],
   "source": [
    "df_week_end_dt=df_agg_POS_data_2019Q3_rewards[['transaction_dt']].drop_duplicates()\n",
    "df_week_end_dt_2=df_agg_POS_data_2018Q3_rewards[['transaction_dt']].drop_duplicates()\n",
    "df_week_end_dt=df_week_end_dt.append(df_week_end_dt_2)\n",
    "del df_week_end_dt_2\n",
    "df_week_end_dt['week_end_dt']=df_week_end_dt['transaction_dt'].apply(week_end_dt)\n"
   ]
  },
  {
   "cell_type": "code",
   "execution_count": 16,
   "metadata": {
    "collapsed": true
   },
   "outputs": [],
   "source": [
    "df_agg_POS_data_2019Q3_rewards=pd.merge(df_agg_POS_data_2019Q3_rewards,df_week_end_dt,on=\"transaction_dt\",how=\"left\")\n",
    "df_agg_POS_data_2018Q3_rewards=pd.merge(df_agg_POS_data_2018Q3_rewards,df_week_end_dt,on=\"transaction_dt\",how=\"left\")"
   ]
  },
  {
   "cell_type": "code",
   "execution_count": null,
   "metadata": {
    "collapsed": true
   },
   "outputs": [],
   "source": []
  },
  {
   "cell_type": "code",
   "execution_count": null,
   "metadata": {
    "collapsed": true
   },
   "outputs": [],
   "source": []
  },
  {
   "cell_type": "code",
   "execution_count": 11,
   "metadata": {},
   "outputs": [
    {
     "name": "stdout",
     "output_type": "stream",
     "text": [
      "2019-09-19 12:36:36.440652\n"
     ]
    }
   ],
   "source": [
    "# Continue here\n",
    "print(datetime.datetime.now())"
   ]
  },
  {
   "cell_type": "code",
   "execution_count": 8,
   "metadata": {
    "collapsed": true
   },
   "outputs": [],
   "source": [
    "write_folder=\"/home/jian/Projects/Big_Lots/Analysis/2019_Q3/Projection_est_in_Q3/new_audience_view/output_\"+str(datetime.datetime.now().date())+\"/\"\n",
    "try:\n",
    "    os.stat(write_folder)\n",
    "except:\n",
    "    os.mkdir(write_folder)"
   ]
  },
  {
   "cell_type": "code",
   "execution_count": 18,
   "metadata": {
    "collapsed": true
   },
   "outputs": [],
   "source": [
    "'''\n",
    "df_agg_POS_data_2019Q3_rewards.to_csv(write_folder+\"df_agg_POS_data_2019Q3_rewards.csv\",index=False)\n",
    "df_agg_POS_data_2018Q3_rewards.to_csv(write_folder+\"df_agg_POS_data_2018Q3_rewards.csv\",index=False)\n",
    "'''"
   ]
  },
  {
   "cell_type": "code",
   "execution_count": 12,
   "metadata": {},
   "outputs": [],
   "source": [
    "df_agg_POS_data_2018Q3_rewards=pd.read_csv(write_folder+\"df_agg_POS_data_2018Q3_rewards.csv\",dtype=str)\n",
    "df_agg_POS_data_2019Q3_rewards=pd.read_csv(write_folder+\"df_agg_POS_data_2019Q3_rewards.csv\",dtype=str)\n",
    "\n",
    "df_agg_POS_data_2018Q3_rewards['units']=df_agg_POS_data_2018Q3_rewards['units'].astype(int)\n",
    "df_agg_POS_data_2018Q3_rewards['sales']=df_agg_POS_data_2018Q3_rewards['sales'].astype(float)\n",
    "df_agg_POS_data_2018Q3_rewards['trans']=df_agg_POS_data_2018Q3_rewards['trans'].astype(int)\n",
    "\n",
    "df_agg_POS_data_2019Q3_rewards['units']=df_agg_POS_data_2019Q3_rewards['units'].astype(int)\n",
    "df_agg_POS_data_2019Q3_rewards['sales']=df_agg_POS_data_2019Q3_rewards['sales'].astype(float)\n",
    "df_agg_POS_data_2019Q3_rewards['trans']=df_agg_POS_data_2019Q3_rewards['trans'].astype(int)\n"
   ]
  },
  {
   "cell_type": "code",
   "execution_count": 13,
   "metadata": {
    "collapsed": true
   },
   "outputs": [],
   "source": [
    "df_2018Q3_by_id=df_agg_POS_data_2018Q3_rewards.groupby(['customer_id_hashed','Store_Type','class_code_id'])['sales','units','trans'].sum().reset_index()\n",
    "df_2019Q3_by_id=df_agg_POS_data_2019Q3_rewards.groupby(['customer_id_hashed','Store_Type','class_code_id'])['sales','units','trans'].sum().reset_index()\n",
    "\n",
    "# df_2018Q3_by_id=df_2018Q3_by_id.pivot_table(index=['customer_id_hashed'],columns=['Store_Type'],values=['sales','units','trans'])\n",
    "# df_2019Q3_by_id=df_2019Q3_by_id.pivot_table(index=['customer_id_hashed'],columns=['Store_Type'],values=['sales','units','trans'])\n",
    "\n",
    "# df_2018Q3_by_id=df_2018Q3_by_id.fillna(0).reset_index()\n",
    "# df_2019Q3_by_id=df_2019Q3_by_id.fillna(0).reset_index()"
   ]
  },
  {
   "cell_type": "code",
   "execution_count": 14,
   "metadata": {
    "collapsed": true
   },
   "outputs": [],
   "source": [
    "df_2019Q3_by_id=pd.merge(df_2019Q3_by_id,df_audience_2019Q3,on=\"customer_id_hashed\",how=\"left\")\n",
    "df_2018Q3_by_id=pd.merge(df_2018Q3_by_id,df_audience_2019Q3,on=\"customer_id_hashed\",how=\"left\")"
   ]
  },
  {
   "cell_type": "code",
   "execution_count": 15,
   "metadata": {
    "collapsed": true
   },
   "outputs": [],
   "source": [
    "df_2019Q3_by_id['year']=2019\n",
    "df_2018Q3_by_id['year']=2018"
   ]
  },
  {
   "cell_type": "code",
   "execution_count": 16,
   "metadata": {
    "collapsed": true
   },
   "outputs": [],
   "source": [
    "df_18_shopper=df_2018Q3_by_id[['customer_id_hashed','year']].drop_duplicates()\n",
    "df_19_shopper=df_2019Q3_by_id[['customer_id_hashed','year']].drop_duplicates()\n",
    "\n",
    "df_shopper_type=df_18_shopper.append(df_19_shopper)\n",
    "df_shopper_type=df_shopper_type.groupby(['customer_id_hashed'])['year'].sum().to_frame().reset_index()\n",
    "df_shopper_type['shopper_type']=np.where(df_shopper_type['year']==2019,\"Shopper_19Q3_Only\",\n",
    "                                        np.where(df_shopper_type['year']==2018,\"Shopper_18Q3_Only\",\"Shopper_Both\")\n",
    "                                        )"
   ]
  },
  {
   "cell_type": "code",
   "execution_count": 17,
   "metadata": {},
   "outputs": [
    {
     "data": {
      "text/html": [
       "<div>\n",
       "<style>\n",
       "    .dataframe thead tr:only-child th {\n",
       "        text-align: right;\n",
       "    }\n",
       "\n",
       "    .dataframe thead th {\n",
       "        text-align: left;\n",
       "    }\n",
       "\n",
       "    .dataframe tbody tr th {\n",
       "        vertical-align: top;\n",
       "    }\n",
       "</style>\n",
       "<table border=\"1\" class=\"dataframe\">\n",
       "  <thead>\n",
       "    <tr style=\"text-align: right;\">\n",
       "      <th></th>\n",
       "      <th>customer_id_hashed</th>\n",
       "      <th>shopper_type</th>\n",
       "    </tr>\n",
       "  </thead>\n",
       "  <tbody>\n",
       "    <tr>\n",
       "      <th>0</th>\n",
       "      <td>000000ebcf6c6a2f4302291cc9babb0760208fc683b3b5...</td>\n",
       "      <td>Shopper_19Q3_Only</td>\n",
       "    </tr>\n",
       "    <tr>\n",
       "      <th>1</th>\n",
       "      <td>000006ff76d207f0c8fbb0262fb87c64b31a75dc89fd07...</td>\n",
       "      <td>Shopper_Both</td>\n",
       "    </tr>\n",
       "  </tbody>\n",
       "</table>\n",
       "</div>"
      ],
      "text/plain": [
       "                                  customer_id_hashed       shopper_type\n",
       "0  000000ebcf6c6a2f4302291cc9babb0760208fc683b3b5...  Shopper_19Q3_Only\n",
       "1  000006ff76d207f0c8fbb0262fb87c64b31a75dc89fd07...       Shopper_Both"
      ]
     },
     "execution_count": 17,
     "metadata": {},
     "output_type": "execute_result"
    }
   ],
   "source": [
    "del df_shopper_type['year']\n",
    "del df_18_shopper\n",
    "del df_19_shopper\n",
    "df_shopper_type.head(2)"
   ]
  },
  {
   "cell_type": "code",
   "execution_count": 18,
   "metadata": {
    "collapsed": true
   },
   "outputs": [],
   "source": [
    "df_2019Q3_by_id=pd.merge(df_2019Q3_by_id,df_shopper_type,on=\"customer_id_hashed\",how=\"left\")\n",
    "df_2018Q3_by_id=pd.merge(df_2018Q3_by_id,df_shopper_type,on=\"customer_id_hashed\",how=\"left\")"
   ]
  },
  {
   "cell_type": "code",
   "execution_count": 19,
   "metadata": {
    "collapsed": true
   },
   "outputs": [],
   "source": [
    "df_2019Q3_by_id['register_group']=np.where(df_2019Q3_by_id['customer_id_hashed'].isin(set_new_signed_ids),\"Registered_After_18Q2\",\n",
    "                                           \"Registered_Before_18Q3\")\n",
    "df_2018Q3_by_id['register_group']=np.where(df_2018Q3_by_id['customer_id_hashed'].isin(set_new_signed_ids),\"Registered_After_18Q2\",\n",
    "                                           \"Registered_Before_18Q3\")\n"
   ]
  },
  {
   "cell_type": "code",
   "execution_count": 20,
   "metadata": {},
   "outputs": [
    {
     "data": {
      "text/html": [
       "<div>\n",
       "<style>\n",
       "    .dataframe thead tr:only-child th {\n",
       "        text-align: right;\n",
       "    }\n",
       "\n",
       "    .dataframe thead th {\n",
       "        text-align: left;\n",
       "    }\n",
       "\n",
       "    .dataframe tbody tr th {\n",
       "        vertical-align: top;\n",
       "    }\n",
       "</style>\n",
       "<table border=\"1\" class=\"dataframe\">\n",
       "  <thead>\n",
       "    <tr style=\"text-align: right;\">\n",
       "      <th></th>\n",
       "      <th>customer_id_hashed</th>\n",
       "      <th>Store_Type</th>\n",
       "      <th>class_code_id</th>\n",
       "      <th>sales</th>\n",
       "      <th>units</th>\n",
       "      <th>trans</th>\n",
       "      <th>segment</th>\n",
       "      <th>year</th>\n",
       "      <th>shopper_type</th>\n",
       "      <th>register_group</th>\n",
       "    </tr>\n",
       "  </thead>\n",
       "  <tbody>\n",
       "    <tr>\n",
       "      <th>0</th>\n",
       "      <td>000006ff76d207f0c8fbb0262fb87c64b31a75dc89fd07...</td>\n",
       "      <td>Other</td>\n",
       "      <td>11003</td>\n",
       "      <td>3.0</td>\n",
       "      <td>1</td>\n",
       "      <td>1</td>\n",
       "      <td>T_P_L_2019Q3_RFM</td>\n",
       "      <td>2018</td>\n",
       "      <td>Shopper_Both</td>\n",
       "      <td>Registered_After_18Q2</td>\n",
       "    </tr>\n",
       "    <tr>\n",
       "      <th>1</th>\n",
       "      <td>000006ff76d207f0c8fbb0262fb87c64b31a75dc89fd07...</td>\n",
       "      <td>Other</td>\n",
       "      <td>11101</td>\n",
       "      <td>1.9</td>\n",
       "      <td>1</td>\n",
       "      <td>1</td>\n",
       "      <td>T_P_L_2019Q3_RFM</td>\n",
       "      <td>2018</td>\n",
       "      <td>Shopper_Both</td>\n",
       "      <td>Registered_After_18Q2</td>\n",
       "    </tr>\n",
       "  </tbody>\n",
       "</table>\n",
       "</div>"
      ],
      "text/plain": [
       "                                  customer_id_hashed Store_Type class_code_id  \\\n",
       "0  000006ff76d207f0c8fbb0262fb87c64b31a75dc89fd07...      Other         11003   \n",
       "1  000006ff76d207f0c8fbb0262fb87c64b31a75dc89fd07...      Other         11101   \n",
       "\n",
       "   sales  units  trans           segment  year  shopper_type  \\\n",
       "0    3.0      1      1  T_P_L_2019Q3_RFM  2018  Shopper_Both   \n",
       "1    1.9      1      1  T_P_L_2019Q3_RFM  2018  Shopper_Both   \n",
       "\n",
       "          register_group  \n",
       "0  Registered_After_18Q2  \n",
       "1  Registered_After_18Q2  "
      ]
     },
     "execution_count": 20,
     "metadata": {},
     "output_type": "execute_result"
    }
   ],
   "source": [
    "df_2018Q3_by_id.head(2)"
   ]
  },
  {
   "cell_type": "code",
   "execution_count": 21,
   "metadata": {
    "collapsed": true
   },
   "outputs": [],
   "source": [
    "df_2019Q3_by_id.to_csv(write_folder+\"df_2019Q3_by_id.csv\",index=False)\n",
    "df_2018Q3_by_id.to_csv(write_folder+\"df_2018Q3_by_id.csv\",index=False)"
   ]
  },
  {
   "cell_type": "code",
   "execution_count": 33,
   "metadata": {},
   "outputs": [
    {
     "data": {
      "text/plain": [
       "((462, 3), 462)"
      ]
     },
     "execution_count": 33,
     "metadata": {},
     "output_type": "execute_result"
    }
   ],
   "source": [
    "Product_Taxonomy=pd.read_table(\"/home/jian/BigLots/static_files/ProductTaxonomy/MediaStormProductTaxonomy20190901-135942-034.txt\",\n",
    "                              sep=\"|\",dtype=str)\n",
    "Product_Taxonomy=Product_Taxonomy[['class_code_id','department_id','division_id']].drop_duplicates()\n",
    "Product_Taxonomy.shape,Product_Taxonomy['class_code_id'].nunique()"
   ]
  },
  {
   "cell_type": "code",
   "execution_count": 34,
   "metadata": {},
   "outputs": [
    {
     "data": {
      "text/html": [
       "<div>\n",
       "<style>\n",
       "    .dataframe thead tr:only-child th {\n",
       "        text-align: right;\n",
       "    }\n",
       "\n",
       "    .dataframe thead th {\n",
       "        text-align: left;\n",
       "    }\n",
       "\n",
       "    .dataframe tbody tr th {\n",
       "        vertical-align: top;\n",
       "    }\n",
       "</style>\n",
       "<table border=\"1\" class=\"dataframe\">\n",
       "  <thead>\n",
       "    <tr style=\"text-align: right;\">\n",
       "      <th></th>\n",
       "      <th>class_code_id</th>\n",
       "      <th>department_id</th>\n",
       "      <th>division_id</th>\n",
       "    </tr>\n",
       "  </thead>\n",
       "  <tbody>\n",
       "    <tr>\n",
       "      <th>0</th>\n",
       "      <td>11001</td>\n",
       "      <td>108</td>\n",
       "      <td>1</td>\n",
       "    </tr>\n",
       "    <tr>\n",
       "      <th>7</th>\n",
       "      <td>11002</td>\n",
       "      <td>108</td>\n",
       "      <td>1</td>\n",
       "    </tr>\n",
       "  </tbody>\n",
       "</table>\n",
       "</div>"
      ],
      "text/plain": [
       "  class_code_id department_id division_id\n",
       "0         11001           108           1\n",
       "7         11002           108           1"
      ]
     },
     "execution_count": 34,
     "metadata": {},
     "output_type": "execute_result"
    }
   ],
   "source": [
    "Product_Taxonomy.head(2)"
   ]
  },
  {
   "cell_type": "code",
   "execution_count": 36,
   "metadata": {},
   "outputs": [
    {
     "data": {
      "text/plain": [
       "(462, 6)"
      ]
     },
     "execution_count": 36,
     "metadata": {},
     "output_type": "execute_result"
    }
   ],
   "source": [
    "Product_Taxonomy_name=Product_Taxonomy.copy()\n",
    "division_name=pd.read_table(\"/home/jian/BigLots/static_files/MediaStorm Data Extract - Division Names.txt\",sep=\"|\",dtype=str)\n",
    "department_name=pd.read_table(\"/home/jian/BigLots/static_files/MediaStorm Data Extract - Department Names.txt\",sep=\"|\",dtype=str)\n",
    "class_name=pd.read_table(\"/home/jian/BigLots/static_files/MediaStorm Data Extract - Class Names.txt\",sep=\"|\",dtype=str,encoding=\"iso-8859-1\")\n",
    "Product_Taxonomy_name=pd.merge(Product_Taxonomy_name,division_name,on=\"division_id\",how=\"left\")\n",
    "Product_Taxonomy_name=pd.merge(Product_Taxonomy_name,department_name,on=\"department_id\",how=\"left\")\n",
    "Product_Taxonomy_name=pd.merge(Product_Taxonomy_name,class_name,on=\"class_code_id\",how=\"left\")\n",
    "Product_Taxonomy_name.shape"
   ]
  },
  {
   "cell_type": "code",
   "execution_count": 40,
   "metadata": {
    "collapsed": true
   },
   "outputs": [],
   "source": [
    "df_2018Q3_by_id=pd.merge(df_2018Q3_by_id,Product_Taxonomy,on=\"class_code_id\",how=\"left\")\n",
    "df_2019Q3_by_id=pd.merge(df_2019Q3_by_id,Product_Taxonomy,on=\"class_code_id\",how=\"left\")\n",
    "# All matched"
   ]
  },
  {
   "cell_type": "code",
   "execution_count": null,
   "metadata": {
    "collapsed": true
   },
   "outputs": [],
   "source": []
  },
  {
   "cell_type": "code",
   "execution_count": 79,
   "metadata": {
    "collapsed": true
   },
   "outputs": [],
   "source": [
    "Product_Taxonomy_name=Product_Taxonomy_name[['division_id','department_id','class_code_id','division_desc','department_desc','class_code_desc']]"
   ]
  },
  {
   "cell_type": "code",
   "execution_count": 80,
   "metadata": {},
   "outputs": [
    {
     "data": {
      "text/html": [
       "<div>\n",
       "<style>\n",
       "    .dataframe thead tr:only-child th {\n",
       "        text-align: right;\n",
       "    }\n",
       "\n",
       "    .dataframe thead th {\n",
       "        text-align: left;\n",
       "    }\n",
       "\n",
       "    .dataframe tbody tr th {\n",
       "        vertical-align: top;\n",
       "    }\n",
       "</style>\n",
       "<table border=\"1\" class=\"dataframe\">\n",
       "  <thead>\n",
       "    <tr style=\"text-align: right;\">\n",
       "      <th></th>\n",
       "      <th>division_id</th>\n",
       "      <th>department_id</th>\n",
       "      <th>class_code_id</th>\n",
       "      <th>division_desc</th>\n",
       "      <th>department_desc</th>\n",
       "      <th>class_code_desc</th>\n",
       "    </tr>\n",
       "  </thead>\n",
       "  <tbody>\n",
       "    <tr>\n",
       "      <th>0</th>\n",
       "      <td>1</td>\n",
       "      <td>108</td>\n",
       "      <td>11001</td>\n",
       "      <td>FOOD</td>\n",
       "      <td>CANDYSNACK</td>\n",
       "      <td>CANDY</td>\n",
       "    </tr>\n",
       "    <tr>\n",
       "      <th>1</th>\n",
       "      <td>1</td>\n",
       "      <td>108</td>\n",
       "      <td>11002</td>\n",
       "      <td>FOOD</td>\n",
       "      <td>CANDYSNACK</td>\n",
       "      <td>SEASONAL CANDY</td>\n",
       "    </tr>\n",
       "  </tbody>\n",
       "</table>\n",
       "</div>"
      ],
      "text/plain": [
       "  division_id department_id class_code_id division_desc department_desc  \\\n",
       "0           1           108         11001          FOOD      CANDYSNACK   \n",
       "1           1           108         11002          FOOD      CANDYSNACK   \n",
       "\n",
       "  class_code_desc  \n",
       "0           CANDY  \n",
       "1  SEASONAL CANDY  "
      ]
     },
     "execution_count": 80,
     "metadata": {},
     "output_type": "execute_result"
    }
   ],
   "source": [
    "Product_Taxonomy_name.head(2)"
   ]
  },
  {
   "cell_type": "code",
   "execution_count": null,
   "metadata": {
    "collapsed": true
   },
   "outputs": [],
   "source": [
    "# Rename the register group\n",
    "df_2018Q3_by_id['register_group']=df_2018Q3_by_id['register_group'].replace(\"Registered_After_18Q2\",\"Registered_Since_18Q3\")\n",
    "df_2019Q3_by_id['register_group']=df_2019Q3_by_id['register_group'].replace(\"Registered_After_18Q2\",\"Registered_Since_18Q3\")\n"
   ]
  },
  {
   "cell_type": "markdown",
   "metadata": {},
   "source": [
    "# Class_Level"
   ]
  },
  {
   "cell_type": "code",
   "execution_count": 111,
   "metadata": {
    "collapsed": true
   },
   "outputs": [],
   "source": [
    "# The intermediate df is in the same and overwrote accross different product views\n",
    "\n",
    "agg_func={\"sales\":\"sum\",\"units\":\"sum\",\"trans\":\"sum\",\"customer_id_hashed\":\"nunique\"}\n",
    "df_2019Q3_by_group_storetype=df_2019Q3_by_id.groupby(['segment','shopper_type','register_group','Store_Type','division_id','department_id','class_code_id'])['sales','units','trans','customer_id_hashed'].agg(agg_func).reset_index()\n",
    "df_2018Q3_by_group_storetype=df_2018Q3_by_id.groupby(['segment','shopper_type','register_group','Store_Type','division_id','department_id','class_code_id'])['sales','units','trans','customer_id_hashed'].agg(agg_func).reset_index()\n",
    "\n",
    "df_2019Q3_by_group_NoStoretype=df_2019Q3_by_id.groupby(['segment','shopper_type','register_group','division_id','department_id','class_code_id'])['sales','units','trans','customer_id_hashed'].agg(agg_func).reset_index()\n",
    "df_2018Q3_by_group_NoStoretype=df_2018Q3_by_id.groupby(['segment','shopper_type','register_group','division_id','department_id','class_code_id'])['sales','units','trans','customer_id_hashed'].agg(agg_func).reset_index()\n"
   ]
  },
  {
   "cell_type": "code",
   "execution_count": 112,
   "metadata": {
    "collapsed": true
   },
   "outputs": [],
   "source": [
    "df_2019Q3_by_group_storetype['year']=2019\n",
    "df_2018Q3_by_group_storetype['year']=2018\n",
    "\n",
    "df_2019Q3_by_group_NoStoretype['year']=2019\n",
    "df_2018Q3_by_group_NoStoretype['year']=2018\n",
    "\n",
    "df_2019Q3_by_group_storetype=df_2019Q3_by_group_storetype.rename(columns={\"customer_id_hashed\":\"shopper_id_count\"})\n",
    "df_2018Q3_by_group_storetype=df_2018Q3_by_group_storetype.rename(columns={\"customer_id_hashed\":\"shopper_id_count\"})\n",
    "df_2019Q3_by_group_NoStoretype=df_2019Q3_by_group_NoStoretype.rename(columns={\"customer_id_hashed\":\"shopper_id_count\"})\n",
    "df_2018Q3_by_group_NoStoretype=df_2018Q3_by_group_NoStoretype.rename(columns={\"customer_id_hashed\":\"shopper_id_count\"})\n"
   ]
  },
  {
   "cell_type": "code",
   "execution_count": 113,
   "metadata": {
    "collapsed": true
   },
   "outputs": [],
   "source": [
    "df_by_gorup_storetype=df_2019Q3_by_group_storetype.append(df_2018Q3_by_group_storetype)\n",
    "df_by_gorup_NoStoretype=df_2019Q3_by_group_NoStoretype.append(df_2018Q3_by_group_NoStoretype)"
   ]
  },
  {
   "cell_type": "code",
   "execution_count": 114,
   "metadata": {
    "collapsed": true
   },
   "outputs": [],
   "source": [
    "df_by_gorup_storetype_wide_2019=df_2019Q3_by_group_storetype.pivot_table(index=[\"segment\",\"shopper_type\",\"register_group\",'division_id','department_id','class_code_id'],columns=\"Store_Type\",values=[\"sales\",\"units\",\"trans\",\"shopper_id_count\"]).reset_index()\n",
    "df_by_gorup_storetype_wide_2018=df_2018Q3_by_group_storetype.pivot_table(index=[\"segment\",\"shopper_type\",\"register_group\",'division_id','department_id','class_code_id'],columns=\"Store_Type\",values=[\"sales\",\"units\",\"trans\",\"shopper_id_count\"]).reset_index()\n"
   ]
  },
  {
   "cell_type": "code",
   "execution_count": 115,
   "metadata": {
    "collapsed": true
   },
   "outputs": [],
   "source": [
    "new_col_list=[]\n",
    "for col in df_by_gorup_storetype_wide_2019.columns.tolist():\n",
    "    new_col=\"_\".join(col)\n",
    "    if new_col[-1]==\"_\":\n",
    "        new_col=new_col[:-1]\n",
    "    new_col_list.append(new_col)\n",
    "df_by_gorup_storetype_wide_2019.columns=new_col_list\n",
    "\n",
    "new_col_list=[]\n",
    "for col in df_by_gorup_storetype_wide_2018.columns.tolist():\n",
    "    new_col=\"_\".join(col)\n",
    "    if new_col[-1]==\"_\":\n",
    "        new_col=new_col[:-1]\n",
    "    new_col_list.append(new_col)\n",
    "df_by_gorup_storetype_wide_2018.columns=new_col_list"
   ]
  },
  {
   "cell_type": "code",
   "execution_count": 116,
   "metadata": {
    "collapsed": true
   },
   "outputs": [],
   "source": [
    "df_by_gorup_storetype_wide_2019=df_by_gorup_storetype_wide_2019.fillna(0)\n",
    "df_by_gorup_storetype_wide_2018=df_by_gorup_storetype_wide_2018.fillna(0)"
   ]
  },
  {
   "cell_type": "code",
   "execution_count": 117,
   "metadata": {
    "collapsed": true
   },
   "outputs": [],
   "source": [
    "count_aud_reg=df_audience_2019Q3.copy()\n",
    "\n",
    "count_aud_reg['register_group']=np.where(count_aud_reg['customer_id_hashed'].isin(set_new_signed_ids),\"Registered_After_18Q2\",\n",
    "                                           \"Registered_Before_18Q3\")\n",
    "count_aud_reg=count_aud_reg.groupby(['segment','register_group'])['customer_id_hashed'].nunique().to_frame().reset_index()"
   ]
  },
  {
   "cell_type": "code",
   "execution_count": 118,
   "metadata": {},
   "outputs": [
    {
     "data": {
      "text/plain": [
       "(19404, 9)"
      ]
     },
     "execution_count": 118,
     "metadata": {},
     "output_type": "execute_result"
    }
   ],
   "source": [
    "df_unique_product=Product_Taxonomy_name[['division_id','department_id','class_code_id','division_desc','department_desc','class_code_desc']].drop_duplicates()\n",
    "df_unique_segment=df_by_gorup_storetype[['segment']].drop_duplicates()\n",
    "df_unique_shopper_type=df_by_gorup_storetype[['shopper_type']].drop_duplicates()\n",
    "df_unique_register_group=df_by_gorup_storetype[['register_group']].drop_duplicates()\n",
    "\n",
    "df_unique_product['key']=1\n",
    "df_unique_segment['key']=1\n",
    "df_unique_shopper_type['key']=1\n",
    "df_unique_register_group['key']=1\n",
    "\n",
    "df_unique_combination=pd.merge(df_unique_product,df_unique_segment,on=\"key\",how=\"outer\")\n",
    "df_unique_combination=pd.merge(df_unique_combination,df_unique_shopper_type,on=\"key\",how=\"outer\")\n",
    "df_unique_combination=pd.merge(df_unique_combination,df_unique_register_group,on=\"key\",how=\"outer\")\n",
    "\n",
    "del df_unique_combination['key']\n",
    "gc.collect()\n",
    "\n",
    "df_unique_combination.shape"
   ]
  },
  {
   "cell_type": "code",
   "execution_count": 119,
   "metadata": {},
   "outputs": [],
   "source": [
    "df_unique_combination['division_id']=df_unique_combination['division_id'].astype(int)\n",
    "df_unique_combination['department_id']=df_unique_combination['department_id'].astype(int)\n",
    "df_unique_combination['class_code_id']=df_unique_combination['class_code_id'].astype(int)\n",
    "df_unique_combination=df_unique_combination.sort_values(['division_id','department_id','class_code_id','segment','shopper_type','register_group'])\n",
    "\n",
    "df_by_gorup_storetype['division_id']=df_by_gorup_storetype['division_id'].astype(int)\n",
    "df_by_gorup_storetype['department_id']=df_by_gorup_storetype['department_id'].astype(int)\n",
    "df_by_gorup_storetype['class_code_id']=df_by_gorup_storetype['class_code_id'].astype(int)\n",
    "\n",
    "df_by_gorup_NoStoretype['division_id']=df_by_gorup_NoStoretype['division_id'].astype(int)\n",
    "df_by_gorup_NoStoretype['department_id']=df_by_gorup_NoStoretype['department_id'].astype(int)\n",
    "df_by_gorup_NoStoretype['class_code_id']=df_by_gorup_NoStoretype['class_code_id'].astype(int)\n"
   ]
  },
  {
   "cell_type": "code",
   "execution_count": 120,
   "metadata": {
    "collapsed": true
   },
   "outputs": [],
   "source": [
    "writer=pd.ExcelWriter(write_folder+\"BL_table_view_by_audience_ProductClass_JL_\"+str(datetime.datetime.now().date())+\".xlsx\",engine=\"xlsxwriter\")\n",
    "df_unique_combination.to_excel(writer,\"table\",index=False)\n",
    "df_by_gorup_storetype.to_excel(writer,\"df_by_gorup_storetype\",index=False)\n",
    "df_by_gorup_NoStoretype.to_excel(writer,\"by_gorup_NoStoretype\",index=False)\n",
    "df_by_gorup_storetype_wide_2019.to_excel(writer,\"by_gorup_storetype_19_wide\",index=False)\n",
    "df_by_gorup_storetype_wide_2018.to_excel(writer,\"by_gorup_storetype_18_wide\",index=False)\n",
    "df_audience_total_count_original.to_excel(writer,\"audience_original_count\",index=False)\n",
    "df_audience_total_count.to_excel(writer,\"audience_PS_HML_count\",index=False)\n",
    "count_aud_reg.to_excel(writer,\"audience_Register_count\",index=False)\n",
    "Product_Taxonomy_name.to_excel(writer,\"product_names\",index=False)\n",
    "writer.save()"
   ]
  },
  {
   "cell_type": "markdown",
   "metadata": {
    "collapsed": true
   },
   "source": [
    "# Department Level"
   ]
  },
  {
   "cell_type": "code",
   "execution_count": 121,
   "metadata": {},
   "outputs": [],
   "source": [
    "# The intermediate df is in the same and overwrote accross different product views\n",
    "\n",
    "agg_func={\"sales\":\"sum\",\"units\":\"sum\",\"trans\":\"sum\",\"customer_id_hashed\":\"nunique\"}\n",
    "df_2019Q3_by_group_storetype=df_2019Q3_by_id.groupby(['segment','shopper_type','register_group','Store_Type','division_id','department_id'])['sales','units','trans','customer_id_hashed'].agg(agg_func).reset_index()\n",
    "df_2018Q3_by_group_storetype=df_2018Q3_by_id.groupby(['segment','shopper_type','register_group','Store_Type','division_id','department_id'])['sales','units','trans','customer_id_hashed'].agg(agg_func).reset_index()\n",
    "\n",
    "df_2019Q3_by_group_NoStoretype=df_2019Q3_by_id.groupby(['segment','shopper_type','register_group','division_id','department_id'])['sales','units','trans','customer_id_hashed'].agg(agg_func).reset_index()\n",
    "df_2018Q3_by_group_NoStoretype=df_2018Q3_by_id.groupby(['segment','shopper_type','register_group','division_id','department_id'])['sales','units','trans','customer_id_hashed'].agg(agg_func).reset_index()\n"
   ]
  },
  {
   "cell_type": "code",
   "execution_count": 122,
   "metadata": {},
   "outputs": [],
   "source": [
    "df_2019Q3_by_group_storetype['year']=2019\n",
    "df_2018Q3_by_group_storetype['year']=2018\n",
    "\n",
    "df_2019Q3_by_group_NoStoretype['year']=2019\n",
    "df_2018Q3_by_group_NoStoretype['year']=2018\n",
    "\n",
    "df_2019Q3_by_group_storetype=df_2019Q3_by_group_storetype.rename(columns={\"customer_id_hashed\":\"shopper_id_count\"})\n",
    "df_2018Q3_by_group_storetype=df_2018Q3_by_group_storetype.rename(columns={\"customer_id_hashed\":\"shopper_id_count\"})\n",
    "df_2019Q3_by_group_NoStoretype=df_2019Q3_by_group_NoStoretype.rename(columns={\"customer_id_hashed\":\"shopper_id_count\"})\n",
    "df_2018Q3_by_group_NoStoretype=df_2018Q3_by_group_NoStoretype.rename(columns={\"customer_id_hashed\":\"shopper_id_count\"})\n"
   ]
  },
  {
   "cell_type": "code",
   "execution_count": 123,
   "metadata": {
    "collapsed": true
   },
   "outputs": [],
   "source": [
    "df_by_gorup_storetype=df_2019Q3_by_group_storetype.append(df_2018Q3_by_group_storetype)\n",
    "df_by_gorup_NoStoretype=df_2019Q3_by_group_NoStoretype.append(df_2018Q3_by_group_NoStoretype)"
   ]
  },
  {
   "cell_type": "code",
   "execution_count": 124,
   "metadata": {
    "collapsed": true
   },
   "outputs": [],
   "source": [
    "df_by_gorup_storetype_wide_2019=df_2019Q3_by_group_storetype.pivot_table(index=[\"segment\",\"shopper_type\",\"register_group\",'division_id','department_id'],columns=\"Store_Type\",values=[\"sales\",\"units\",\"trans\",\"shopper_id_count\"]).reset_index()\n",
    "df_by_gorup_storetype_wide_2018=df_2018Q3_by_group_storetype.pivot_table(index=[\"segment\",\"shopper_type\",\"register_group\",'division_id','department_id'],columns=\"Store_Type\",values=[\"sales\",\"units\",\"trans\",\"shopper_id_count\"]).reset_index()\n"
   ]
  },
  {
   "cell_type": "code",
   "execution_count": 125,
   "metadata": {
    "collapsed": true
   },
   "outputs": [],
   "source": [
    "new_col_list=[]\n",
    "for col in df_by_gorup_storetype_wide_2019.columns.tolist():\n",
    "    new_col=\"_\".join(col)\n",
    "    if new_col[-1]==\"_\":\n",
    "        new_col=new_col[:-1]\n",
    "    new_col_list.append(new_col)\n",
    "df_by_gorup_storetype_wide_2019.columns=new_col_list\n",
    "\n",
    "new_col_list=[]\n",
    "for col in df_by_gorup_storetype_wide_2018.columns.tolist():\n",
    "    new_col=\"_\".join(col)\n",
    "    if new_col[-1]==\"_\":\n",
    "        new_col=new_col[:-1]\n",
    "    new_col_list.append(new_col)\n",
    "df_by_gorup_storetype_wide_2018.columns=new_col_list"
   ]
  },
  {
   "cell_type": "code",
   "execution_count": 126,
   "metadata": {
    "collapsed": true
   },
   "outputs": [],
   "source": [
    "df_by_gorup_storetype_wide_2019=df_by_gorup_storetype_wide_2019.fillna(0)\n",
    "df_by_gorup_storetype_wide_2018=df_by_gorup_storetype_wide_2018.fillna(0)"
   ]
  },
  {
   "cell_type": "code",
   "execution_count": 127,
   "metadata": {},
   "outputs": [
    {
     "data": {
      "text/plain": [
       "(2520, 7)"
      ]
     },
     "execution_count": 127,
     "metadata": {},
     "output_type": "execute_result"
    }
   ],
   "source": [
    "df_unique_product=Product_Taxonomy_name[['division_id','department_id','division_desc','department_desc']].drop_duplicates()\n",
    "df_unique_segment=df_by_gorup_storetype[['segment']].drop_duplicates()\n",
    "df_unique_shopper_type=df_by_gorup_storetype[['shopper_type']].drop_duplicates()\n",
    "df_unique_register_group=df_by_gorup_storetype[['register_group']].drop_duplicates()\n",
    "\n",
    "df_unique_product['key']=1\n",
    "df_unique_segment['key']=1\n",
    "df_unique_shopper_type['key']=1\n",
    "df_unique_register_group['key']=1\n",
    "\n",
    "df_unique_combination=pd.merge(df_unique_product,df_unique_segment,on=\"key\",how=\"outer\")\n",
    "df_unique_combination=pd.merge(df_unique_combination,df_unique_shopper_type,on=\"key\",how=\"outer\")\n",
    "df_unique_combination=pd.merge(df_unique_combination,df_unique_register_group,on=\"key\",how=\"outer\")\n",
    "\n",
    "del df_unique_combination['key']\n",
    "gc.collect()\n",
    "\n",
    "df_unique_combination.shape"
   ]
  },
  {
   "cell_type": "code",
   "execution_count": 128,
   "metadata": {
    "collapsed": true
   },
   "outputs": [],
   "source": [
    "df_unique_combination['division_id']=df_unique_combination['division_id'].astype(int)\n",
    "df_unique_combination['department_id']=df_unique_combination['department_id'].astype(int)\n",
    "# df_unique_combination['class_code_id']=df_unique_combination['class_code_id'].astype(int)\n",
    "df_unique_combination=df_unique_combination.sort_values(['division_id','department_id','segment','shopper_type','register_group'])\n",
    "\n",
    "df_by_gorup_storetype['division_id']=df_by_gorup_storetype['division_id'].astype(int)\n",
    "df_by_gorup_storetype['department_id']=df_by_gorup_storetype['department_id'].astype(int)\n",
    "# df_by_gorup_storetype['class_code_id']=df_by_gorup_storetype['class_code_id'].astype(int)\n",
    "\n",
    "df_by_gorup_NoStoretype['division_id']=df_by_gorup_NoStoretype['division_id'].astype(int)\n",
    "df_by_gorup_NoStoretype['department_id']=df_by_gorup_NoStoretype['department_id'].astype(int)\n",
    "# df_by_gorup_NoStoretype['class_code_id']=df_by_gorup_NoStoretype['class_code_id'].astype(int)\n"
   ]
  },
  {
   "cell_type": "code",
   "execution_count": 129,
   "metadata": {
    "collapsed": true
   },
   "outputs": [],
   "source": [
    "writer=pd.ExcelWriter(write_folder+\"BL_table_view_by_audience_ProductDepartment_JL_\"+str(datetime.datetime.now().date())+\".xlsx\",engine=\"xlsxwriter\")\n",
    "df_unique_combination.to_excel(writer,\"table\",index=False)\n",
    "df_by_gorup_storetype.to_excel(writer,\"df_by_gorup_storetype\",index=False)\n",
    "df_by_gorup_NoStoretype.to_excel(writer,\"by_gorup_NoStoretype\",index=False)\n",
    "df_by_gorup_storetype_wide_2019.to_excel(writer,\"by_gorup_storetype_19_wide\",index=False)\n",
    "df_by_gorup_storetype_wide_2018.to_excel(writer,\"by_gorup_storetype_18_wide\",index=False)\n",
    "df_audience_total_count_original.to_excel(writer,\"audience_original_count\",index=False)\n",
    "df_audience_total_count.to_excel(writer,\"audience_PS_HML_count\",index=False)\n",
    "count_aud_reg.to_excel(writer,\"audience_Register_count\",index=False)\n",
    "Product_Taxonomy_name.to_excel(writer,\"product_names\",index=False)\n",
    "writer.save()"
   ]
  },
  {
   "cell_type": "markdown",
   "metadata": {},
   "source": [
    "# Division_Level"
   ]
  },
  {
   "cell_type": "code",
   "execution_count": 130,
   "metadata": {
    "collapsed": true
   },
   "outputs": [],
   "source": [
    "# The intermediate df is in the same and overwrote accross different product views\n",
    "\n",
    "agg_func={\"sales\":\"sum\",\"units\":\"sum\",\"trans\":\"sum\",\"customer_id_hashed\":\"nunique\"}\n",
    "df_2019Q3_by_group_storetype=df_2019Q3_by_id.groupby(['segment','shopper_type','register_group','Store_Type','division_id'])['sales','units','trans','customer_id_hashed'].agg(agg_func).reset_index()\n",
    "df_2018Q3_by_group_storetype=df_2018Q3_by_id.groupby(['segment','shopper_type','register_group','Store_Type','division_id'])['sales','units','trans','customer_id_hashed'].agg(agg_func).reset_index()\n",
    "\n",
    "df_2019Q3_by_group_NoStoretype=df_2019Q3_by_id.groupby(['segment','shopper_type','register_group','division_id'])['sales','units','trans','customer_id_hashed'].agg(agg_func).reset_index()\n",
    "df_2018Q3_by_group_NoStoretype=df_2018Q3_by_id.groupby(['segment','shopper_type','register_group','division_id'])['sales','units','trans','customer_id_hashed'].agg(agg_func).reset_index()\n"
   ]
  },
  {
   "cell_type": "code",
   "execution_count": 131,
   "metadata": {
    "collapsed": true
   },
   "outputs": [],
   "source": [
    "df_2019Q3_by_group_storetype['year']=2019\n",
    "df_2018Q3_by_group_storetype['year']=2018\n",
    "\n",
    "df_2019Q3_by_group_NoStoretype['year']=2019\n",
    "df_2018Q3_by_group_NoStoretype['year']=2018\n",
    "\n",
    "df_2019Q3_by_group_storetype=df_2019Q3_by_group_storetype.rename(columns={\"customer_id_hashed\":\"shopper_id_count\"})\n",
    "df_2018Q3_by_group_storetype=df_2018Q3_by_group_storetype.rename(columns={\"customer_id_hashed\":\"shopper_id_count\"})\n",
    "df_2019Q3_by_group_NoStoretype=df_2019Q3_by_group_NoStoretype.rename(columns={\"customer_id_hashed\":\"shopper_id_count\"})\n",
    "df_2018Q3_by_group_NoStoretype=df_2018Q3_by_group_NoStoretype.rename(columns={\"customer_id_hashed\":\"shopper_id_count\"})\n"
   ]
  },
  {
   "cell_type": "code",
   "execution_count": 132,
   "metadata": {
    "collapsed": true
   },
   "outputs": [],
   "source": [
    "df_by_gorup_storetype=df_2019Q3_by_group_storetype.append(df_2018Q3_by_group_storetype)\n",
    "df_by_gorup_NoStoretype=df_2019Q3_by_group_NoStoretype.append(df_2018Q3_by_group_NoStoretype)"
   ]
  },
  {
   "cell_type": "code",
   "execution_count": 133,
   "metadata": {
    "collapsed": true
   },
   "outputs": [],
   "source": [
    "df_by_gorup_storetype_wide_2019=df_2019Q3_by_group_storetype.pivot_table(index=[\"segment\",\"shopper_type\",\"register_group\",'division_id'],columns=\"Store_Type\",values=[\"sales\",\"units\",\"trans\",\"shopper_id_count\"]).reset_index()\n",
    "df_by_gorup_storetype_wide_2018=df_2018Q3_by_group_storetype.pivot_table(index=[\"segment\",\"shopper_type\",\"register_group\",'division_id'],columns=\"Store_Type\",values=[\"sales\",\"units\",\"trans\",\"shopper_id_count\"]).reset_index()\n"
   ]
  },
  {
   "cell_type": "code",
   "execution_count": 134,
   "metadata": {
    "collapsed": true
   },
   "outputs": [],
   "source": [
    "new_col_list=[]\n",
    "for col in df_by_gorup_storetype_wide_2019.columns.tolist():\n",
    "    new_col=\"_\".join(col)\n",
    "    if new_col[-1]==\"_\":\n",
    "        new_col=new_col[:-1]\n",
    "    new_col_list.append(new_col)\n",
    "df_by_gorup_storetype_wide_2019.columns=new_col_list\n",
    "\n",
    "new_col_list=[]\n",
    "for col in df_by_gorup_storetype_wide_2018.columns.tolist():\n",
    "    new_col=\"_\".join(col)\n",
    "    if new_col[-1]==\"_\":\n",
    "        new_col=new_col[:-1]\n",
    "    new_col_list.append(new_col)\n",
    "df_by_gorup_storetype_wide_2018.columns=new_col_list"
   ]
  },
  {
   "cell_type": "code",
   "execution_count": 135,
   "metadata": {
    "collapsed": true
   },
   "outputs": [],
   "source": [
    "df_by_gorup_storetype_wide_2019=df_by_gorup_storetype_wide_2019.fillna(0)\n",
    "df_by_gorup_storetype_wide_2018=df_by_gorup_storetype_wide_2018.fillna(0)"
   ]
  },
  {
   "cell_type": "code",
   "execution_count": 136,
   "metadata": {},
   "outputs": [
    {
     "data": {
      "text/plain": [
       "(378, 5)"
      ]
     },
     "execution_count": 136,
     "metadata": {},
     "output_type": "execute_result"
    }
   ],
   "source": [
    "df_unique_product=Product_Taxonomy_name[['division_id','division_desc']].drop_duplicates()\n",
    "df_unique_segment=df_by_gorup_storetype[['segment']].drop_duplicates()\n",
    "df_unique_shopper_type=df_by_gorup_storetype[['shopper_type']].drop_duplicates()\n",
    "df_unique_register_group=df_by_gorup_storetype[['register_group']].drop_duplicates()\n",
    "\n",
    "df_unique_product['key']=1\n",
    "df_unique_segment['key']=1\n",
    "df_unique_shopper_type['key']=1\n",
    "df_unique_register_group['key']=1\n",
    "\n",
    "df_unique_combination=pd.merge(df_unique_product,df_unique_segment,on=\"key\",how=\"outer\")\n",
    "df_unique_combination=pd.merge(df_unique_combination,df_unique_shopper_type,on=\"key\",how=\"outer\")\n",
    "df_unique_combination=pd.merge(df_unique_combination,df_unique_register_group,on=\"key\",how=\"outer\")\n",
    "\n",
    "del df_unique_combination['key']\n",
    "gc.collect()\n",
    "\n",
    "df_unique_combination.shape"
   ]
  },
  {
   "cell_type": "code",
   "execution_count": 137,
   "metadata": {},
   "outputs": [],
   "source": [
    "df_unique_combination['division_id']=df_unique_combination['division_id'].astype(int)\n",
    "# df_unique_combination['department_id']=df_unique_combination['department_id'].astype(int)\n",
    "# df_unique_combination['class_code_id']=df_unique_combination['class_code_id'].astype(int)\n",
    "df_unique_combination=df_unique_combination.sort_values(['division_id','segment','shopper_type','register_group'])\n",
    "\n",
    "df_by_gorup_storetype['division_id']=df_by_gorup_storetype['division_id'].astype(int)\n",
    "# df_by_gorup_storetype['department_id']=df_by_gorup_storetype['department_id'].astype(int)\n",
    "# df_by_gorup_storetype['class_code_id']=df_by_gorup_storetype['class_code_id'].astype(int)\n",
    "\n",
    "df_by_gorup_NoStoretype['division_id']=df_by_gorup_NoStoretype['division_id'].astype(int)\n",
    "# df_by_gorup_NoStoretype['department_id']=df_by_gorup_NoStoretype['department_id'].astype(int)\n",
    "# df_by_gorup_NoStoretype['class_code_id']=df_by_gorup_NoStoretype['class_code_id'].astype(int)\n"
   ]
  },
  {
   "cell_type": "code",
   "execution_count": 138,
   "metadata": {
    "collapsed": true
   },
   "outputs": [],
   "source": [
    "writer=pd.ExcelWriter(write_folder+\"BL_table_view_by_audience_ProductDivision_JL_\"+str(datetime.datetime.now().date())+\".xlsx\",engine=\"xlsxwriter\")\n",
    "df_unique_combination.to_excel(writer,\"table\",index=False)\n",
    "df_by_gorup_storetype.to_excel(writer,\"df_by_gorup_storetype\",index=False)\n",
    "df_by_gorup_NoStoretype.to_excel(writer,\"by_gorup_NoStoretype\",index=False)\n",
    "df_by_gorup_storetype_wide_2019.to_excel(writer,\"by_gorup_storetype_19_wide\",index=False)\n",
    "df_by_gorup_storetype_wide_2018.to_excel(writer,\"by_gorup_storetype_18_wide\",index=False)\n",
    "df_audience_total_count_original.to_excel(writer,\"audience_original_count\",index=False)\n",
    "df_audience_total_count.to_excel(writer,\"audience_PS_HML_count\",index=False)\n",
    "count_aud_reg.to_excel(writer,\"audience_Register_count\",index=False)\n",
    "Product_Taxonomy_name.to_excel(writer,\"product_names\",index=False)\n",
    "writer.save()"
   ]
  },
  {
   "cell_type": "code",
   "execution_count": null,
   "metadata": {
    "collapsed": true
   },
   "outputs": [],
   "source": []
  }
 ],
 "metadata": {
  "kernelspec": {
   "display_name": "Python 3",
   "language": "python",
   "name": "python3"
  },
  "language_info": {
   "codemirror_mode": {
    "name": "ipython",
    "version": 3
   },
   "file_extension": ".py",
   "mimetype": "text/x-python",
   "name": "python",
   "nbconvert_exporter": "python",
   "pygments_lexer": "ipython3",
   "version": "3.6.1"
  }
 },
 "nbformat": 4,
 "nbformat_minor": 2
}
