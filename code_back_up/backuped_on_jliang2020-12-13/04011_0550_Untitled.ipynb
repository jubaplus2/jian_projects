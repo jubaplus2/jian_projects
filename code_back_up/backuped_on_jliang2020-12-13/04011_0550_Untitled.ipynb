{
 "cells": [
  {
   "cell_type": "code",
   "execution_count": 3,
   "metadata": {},
   "outputs": [
    {
     "ename": "ModuleNotFoundError",
     "evalue": "No module named 'googleads'",
     "output_type": "error",
     "traceback": [
      "\u001b[0;31m---------------------------------------------------------------------------\u001b[0m",
      "\u001b[0;31mModuleNotFoundError\u001b[0m                       Traceback (most recent call last)",
      "\u001b[0;32m<ipython-input-3-8d2391e2b0c8>\u001b[0m in \u001b[0;36m<module>\u001b[0;34m()\u001b[0m\n\u001b[1;32m      1\u001b[0m \u001b[0;32mimport\u001b[0m \u001b[0mpandas\u001b[0m \u001b[0;32mas\u001b[0m \u001b[0mpd\u001b[0m\u001b[0;34m\u001b[0m\u001b[0m\n\u001b[0;32m----> 2\u001b[0;31m \u001b[0;32mfrom\u001b[0m \u001b[0mgoogleads\u001b[0m \u001b[0;32mimport\u001b[0m \u001b[0madwords\u001b[0m\u001b[0;34m\u001b[0m\u001b[0m\n\u001b[0m",
      "\u001b[0;31mModuleNotFoundError\u001b[0m: No module named 'googleads'"
     ]
    }
   ],
   "source": [
    "import pandas as pd\n",
    "from googleads import adwords"
   ]
  },
  {
   "cell_type": "code",
   "execution_count": null,
   "metadata": {
    "collapsed": true
   },
   "outputs": [],
   "source": [
    "# Specify where to download the file here.\n",
    "PATH = '/tmp/report_download.csv'\n",
    "\n",
    "\n",
    "def main(client):\n",
    "  # Initialize appropriate service.\n",
    "  report_downloader = client.GetReportDownloader(version='v201802')\n",
    "\n",
    "  # Create report query.\n",
    "  report_query = (adwords.ReportQueryBuilder()\n",
    "                  .Select('CampaignId', 'AdGroupId', 'Id', 'Criteria',\n",
    "                          'CriteriaType', 'FinalUrls', 'Impressions', 'Clicks',\n",
    "                          'Cost')\n",
    "                  .From('CRITERIA_PERFORMANCE_REPORT')\n",
    "                  .Where('Status').In('ENABLED', 'PAUSED')\n",
    "                  .During('LAST_7_DAYS')\n",
    "                  .Build())\n",
    "\n",
    "\n",
    "\n",
    "if __name__ == '__main__':\n",
    "  # Initialize client object.\n",
    "  adwords_client = adwords.AdWordsClient.LoadFromStorage()\n",
    "\n",
    "  main(adwords_client)"
   ]
  }
 ],
 "metadata": {
  "kernelspec": {
   "display_name": "Python 3",
   "language": "python",
   "name": "python3"
  },
  "language_info": {
   "codemirror_mode": {
    "name": "ipython",
    "version": 3
   },
   "file_extension": ".py",
   "mimetype": "text/x-python",
   "name": "python",
   "nbconvert_exporter": "python",
   "pygments_lexer": "ipython3",
   "version": "3.6.1"
  }
 },
 "nbformat": 4,
 "nbformat_minor": 2
}
