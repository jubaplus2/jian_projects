{
 "cells": [
  {
   "cell_type": "code",
   "execution_count": 1,
   "metadata": {
    "collapsed": true
   },
   "outputs": [],
   "source": [
    "import json\n",
    "import datetime\n",
    "import numpy as np\n",
    "import pandas as pd\n",
    "import glob\n",
    "import matplotlib.pyplot as plt\n",
    "import openpyxl\n",
    "import math\n",
    "today_foloder=\"20180405\" # str(datetime.datetime.now().year)+str(datetime.datetime.now().month).zfill(2)+str(datetime.datetime.now().day).zfill(2)\n",
    "sales_file_date=\"2018-03-31\"\n",
    "date=datetime.datetime.strptime('2018-02-24',\"%Y-%m-%d\").date()\n",
    "# date1=\"2018-03-31\" # Week ending Saturday\n",
    "# date2=\"2018-02-17\" # Week ending Saturday, Not available for 5 days prediction\n",
    "# https://openweathermap.org/weather-conditions reference of weather group\n",
    "\n",
    "json_list_date=glob.glob(\"/home/jian/Projects/Big_Lots/Weather/Json_data/daily/api_response_\"+today_foloder+\"/*.json\")"
   ]
  },
  {
   "cell_type": "code",
   "execution_count": 4,
   "metadata": {},
   "outputs": [],
   "source": [
    "xxx=json.load(open(json_list_date[24],\"r\"))"
   ]
  },
  {
   "cell_type": "code",
   "execution_count": 7,
   "metadata": {},
   "outputs": [
    {
     "data": {
      "text/plain": [
       "{'base': 'stations',\n",
       " 'clouds': {'all': 75},\n",
       " 'cod': 200,\n",
       " 'coord': {'lat': 39.92, 'lon': -82.87},\n",
       " 'dt': 1519066560,\n",
       " 'id': 0,\n",
       " 'main': {'humidity': 88,\n",
       "  'pressure': 1018,\n",
       "  'temp': 289.7,\n",
       "  'temp_max': 291.15,\n",
       "  'temp_min': 288.15},\n",
       " 'name': 'Columbus',\n",
       " 'sys': {'country': 'US',\n",
       "  'id': 2191,\n",
       "  'message': 0.0048,\n",
       "  'sunrise': 1519042671,\n",
       "  'sunset': 1519081987,\n",
       "  'type': 1},\n",
       " 'visibility': 16093,\n",
       " 'weather': [{'description': 'moderate rain',\n",
       "   'icon': '10d',\n",
       "   'id': 501,\n",
       "   'main': 'Rain'}],\n",
       " 'wind': {'deg': 190, 'speed': 5.7}}"
      ]
     },
     "execution_count": 7,
     "metadata": {},
     "output_type": "execute_result"
    }
   ],
   "source": [
    "xxx['43232']"
   ]
  },
  {
   "cell_type": "code",
   "execution_count": 205,
   "metadata": {
    "collapsed": true
   },
   "outputs": [],
   "source": [
    "sales=pd.read_excel(\"/home/jian/BiglotsCode/outputs/Output_\"+sales_file_date+\"/wide_sales_date\"+sales_file_date+\".xlsx\",sheetname=\"sales\")"
   ]
  },
  {
   "cell_type": "code",
   "execution_count": 206,
   "metadata": {
    "collapsed": true
   },
   "outputs": [],
   "source": [
    "store_zip=pd.read_excel(\"/home/jian/Projects/Big_Lots/Other Input/all_store_DMA.xlsx\",dtype=str)\n",
    "store_zip=store_zip[store_zip['zip_cd']!='nan']\n",
    "store_zip=store_zip[['location_id','zip_cd']]\n",
    "store_zip=store_zip.drop_duplicates().reset_index()\n",
    "del store_zip['index']\n",
    "store_zip['location_id']=store_zip['location_id'].astype(int)"
   ]
  },
  {
   "cell_type": "code",
   "execution_count": 207,
   "metadata": {
    "collapsed": true
   },
   "outputs": [],
   "source": [
    "sales_Feb24=sales[['location_id',str(date),str(date+datetime.timedelta(days=-364))]]\n",
    "sales_Feb24=sales_Feb24[(sales_Feb24[str(date)]>0) & (sales_Feb24[str(date+datetime.timedelta(days=-364))]>0)]\n",
    "sales_Feb24.reset_index(inplace=True)\n",
    "del sales_Feb24['index']\n",
    "sales_Feb24.columns=[['location_id','Sales_2018','Sales_2017']]\n",
    "sales_Feb24['YoY_Dollar']=sales_Feb24['Sales_2018']-sales_Feb24['Sales_2017']\n",
    "sales_Feb24['YoY_Pctg']=sales_Feb24['YoY_Dollar']/sales_Feb24['Sales_2017']\n",
    "sales_Feb24=pd.merge(sales_Feb24,store_zip,on=\"location_id\",how=\"left\")"
   ]
  },
  {
   "cell_type": "code",
   "execution_count": 208,
   "metadata": {
    "collapsed": true
   },
   "outputs": [],
   "source": [
    "writer=pd.ExcelWriter(\"/home/jian/Projects/Big_Lots/Weather/Weather_Variance/Feb_24_Weather.xlsx\",engine=\"xlsxwriter\")"
   ]
  },
  {
   "cell_type": "code",
   "execution_count": 209,
   "metadata": {
    "collapsed": true
   },
   "outputs": [],
   "source": [
    "plt.hist(sales_Feb24['YoY_Dollar'],bins=np.arange(math.floor(min(sales_Feb24['YoY_Dollar'])/10000)*10000, (math.floor(max(sales_Feb24['YoY_Dollar'])/10000)+1)*10000, 10000))\n",
    "plt.title(\"Gaussian Histogram for Sales in Dollar on Feb 24 2018\")\n",
    "plt.xlabel(\"YoY_Dollar\")\n",
    "plt.ylabel(\"Frequency\")\n",
    "\n",
    "fig_YoY_Dollar = plt.gcf()\n",
    "plt.close()\n",
    "\n",
    "plt.hist(sales_Feb24['YoY_Pctg'],bins=np.arange(math.floor(min(sales_Feb24['YoY_Pctg'])*10)/10, (math.floor(max(sales_Feb24['YoY_Pctg'])*10)+1)/10, 0.1))\n",
    "plt.title(\"Gaussian Histogram for Sales in Percetage on Feb 24 2018\")\n",
    "plt.xlabel(\"YoY_Pctg\")\n",
    "plt.ylabel(\"Frequency\")\n",
    "\n",
    "fig_YoY_Pctg = plt.gcf()\n",
    "plt.close()"
   ]
  },
  {
   "cell_type": "code",
   "execution_count": 210,
   "metadata": {},
   "outputs": [
    {
     "data": {
      "text/plain": [
       "(256, 6)"
      ]
     },
     "execution_count": 210,
     "metadata": {},
     "output_type": "execute_result"
    }
   ],
   "source": [
    "Sales_Df_Negtive=sales_Feb24[(sales_Feb24['YoY_Dollar']>=-60000) & (sales_Feb24['YoY_Dollar']<-20000)]\n",
    "Sales_Df_Negtive.reset_index(inplace=True)\n",
    "del Sales_Df_Negtive['index']\n",
    "Sales_Df_Negtive.shape"
   ]
  },
  {
   "cell_type": "code",
   "execution_count": 211,
   "metadata": {
    "collapsed": true
   },
   "outputs": [],
   "source": [
    "Three_weekdays_list=sorted(['2018-02-24','2018-02-23','2018-02-18','2018-02-17','2018-02-16','2018-02-11','2018-02-10','2018-02-09','2018-02-04'])"
   ]
  },
  {
   "cell_type": "code",
   "execution_count": 212,
   "metadata": {
    "collapsed": true
   },
   "outputs": [],
   "source": [
    "for date1 in Three_weekdays_list:\n",
    "    response=json.load(open(\"/home/jian/Projects/Big_Lots/Weather/Json_data/daily/api_response_\"+today_foloder+\"/\"+\n",
    "                                         str(datetime.datetime.strptime(date1,\"%Y-%m-%d\").date()+datetime.timedelta(days=-1))\n",
    "                                         +\".json\",'r'))\n",
    "    all_weather_groups=[]\n",
    "    all_weather_desc=[]\n",
    "    all_weather_id=[]\n",
    "\n",
    "    for zip_cd in list(response.keys()):\n",
    "        weather_group = []\n",
    "        weather_desc = []\n",
    "        weather_id = []\n",
    "        for i in range(len(response[zip_cd]['weather'])):\n",
    "            weather_group=list(set(weather_group+[response[zip_cd]['weather'][i]['main']]))\n",
    "            all_weather_groups=list(set(all_weather_groups+weather_group))\n",
    "\n",
    "            weather_desc=list(set(weather_desc+[response[zip_cd]['weather'][i]['description']]))\n",
    "            all_weather_desc=list(set(all_weather_desc+weather_desc))\n",
    "\n",
    "            weather_id=list(set(weather_id+[response[zip_cd]['weather'][i]['id']]))\n",
    "            all_weather_id=list(set(all_weather_id+weather_id))"
   ]
  },
  {
   "cell_type": "code",
   "execution_count": 213,
   "metadata": {
    "collapsed": true
   },
   "outputs": [],
   "source": [
    "for date1 in Three_weekdays_list:\n",
    "    response=json.load(open(\"/home/jian/Projects/Big_Lots/Weather/Json_data/daily/api_response_\"+today_foloder+\"/\"+\n",
    "                                         str(datetime.datetime.strptime(date1,\"%Y-%m-%d\").date()+datetime.timedelta(days=-1))\n",
    "                                         +\".json\",'r'))\n",
    "    df_weather_agg=pd.DataFrame()\n",
    "    for zip_cd in list(response.keys()):\n",
    "        temp_max=response[zip_cd]['main']['temp_max'] * 9/5 - 459.67    \n",
    "        humidity=response[zip_cd]['main']['humidity']/100    \n",
    "        pressure=response[zip_cd]['main']['pressure']\n",
    "        wind_speed=response[zip_cd]['wind']['speed']\n",
    "        if 'deg' in response[zip_cd]['wind'].keys():\n",
    "            wind_deg=response[zip_cd]['wind']['deg']\n",
    "        else:\n",
    "            wind_deg=np.nan\n",
    "        all_weather_groups_date_list=[weather_group+'_'+date1 for weather_group in all_weather_groups]\n",
    "\n",
    "        df_weather_binary=pd.DataFrame(columns=all_weather_groups_date_list,index=[0])\n",
    "        df_weather_binary=df_weather_binary.fillna(0)\n",
    "        for k in range(len(response[zip_cd]['weather'])):\n",
    "            for weather_group in all_weather_groups:\n",
    "                if response[zip_cd]['weather'][k]['main']==weather_group:\n",
    "                    df_weather_binary[weather_group+'_'+date1]=1\n",
    "        time=str(datetime.datetime.fromtimestamp(response[zip_cd]['dt']).time())\n",
    "        date=str(datetime.datetime.fromtimestamp(response[zip_cd]['dt']).date())\n",
    "        weather = []\n",
    "        weather_types=len(response[zip_cd]['weather'])\n",
    "\n",
    "        for j in range(weather_types):\n",
    "            weather = weather+[str(response[zip_cd]['weather'][j]['main'])]\n",
    "\n",
    "        country=response[zip_cd]['sys']['country']\n",
    "        name=response[zip_cd]['name']\n",
    "\n",
    "        if 'clouds' in response[zip_cd].keys():\n",
    "            clouds=response[zip_cd]['clouds']['all']/100\n",
    "        else: \n",
    "            clouds= float('NaN')\n",
    "\n",
    "        df_weather=pd.DataFrame([{'date'+'_'+date1:date,'time'+'_'+date1:time,'zip_cd':zip_cd,'Cloudiness'+'_'+date1:clouds,'humidity'+'_'+date1:humidity,'pressure'+'_'+date1:pressure,\n",
    "                                  'temp_max'+'_'+date1:temp_max,'wind_speed'+'_'+date1:wind_speed}])\n",
    "        df_weather=df_weather.join(df_weather_binary)\n",
    "        df_weather_agg=df_weather_agg.append(df_weather,ignore_index=False)\n",
    "\n",
    "    Sales_Df_Negtive=pd.merge(Sales_Df_Negtive,df_weather_agg,on=\"zip_cd\",how=\"left\")"
   ]
  },
  {
   "cell_type": "code",
   "execution_count": 214,
   "metadata": {
    "collapsed": true
   },
   "outputs": [],
   "source": [
    "Sales_Df_Negtive.to_excel(writer,\"data\",index=False)"
   ]
  },
  {
   "cell_type": "code",
   "execution_count": 215,
   "metadata": {
    "collapsed": true
   },
   "outputs": [],
   "source": [
    "Sales_Df_Negtive_Columns=Sales_Df_Negtive.columns.tolist()\n",
    "Clear_df_Columns=[\"location_id\",\"YoY_Dollar\",\"YoY_Pctg\"]+[col for col in Sales_Df_Negtive_Columns if 'Clear' in col]\n",
    "Rain_df_Columns=[\"location_id\",\"YoY_Dollar\",\"YoY_Pctg\"]+[col for col in Sales_Df_Negtive_Columns if 'Rain' in col]\n",
    "Snow_df_Columns=[\"location_id\",\"YoY_Dollar\",\"YoY_Pctg\"]+[col for col in Sales_Df_Negtive_Columns if 'Snow' in col]\n",
    "Temp_df_Columns=[\"location_id\",\"YoY_Dollar\",\"YoY_Pctg\"]+[col for col in Sales_Df_Negtive_Columns if 'temp' in col]"
   ]
  },
  {
   "cell_type": "code",
   "execution_count": 216,
   "metadata": {
    "collapsed": true
   },
   "outputs": [],
   "source": [
    "Clear_df=Sales_Df_Negtive[Clear_df_Columns]\n",
    "Rain_df=Sales_Df_Negtive[Rain_df_Columns]\n",
    "Snow_df=Sales_Df_Negtive[Snow_df_Columns]\n",
    "Temp_df=Sales_Df_Negtive[Temp_df_Columns]"
   ]
  },
  {
   "cell_type": "code",
   "execution_count": 217,
   "metadata": {
    "collapsed": true
   },
   "outputs": [],
   "source": [
    "def week_day(x):\n",
    "    y=np.nan\n",
    "    weekday_num=datetime.datetime.strptime(x,\"%Y-%m-%d\").date().weekday()\n",
    "    if weekday_num==0:\n",
    "        y=\"Monday\"\n",
    "    if weekday_num==1:\n",
    "        y=\"Tuesday\"\n",
    "    if weekday_num==2:\n",
    "        y=\"Wednesday\"\n",
    "    if weekday_num==3:\n",
    "        y=\"Thursday\"\n",
    "    if weekday_num==4:\n",
    "        y=\"Friday\"\n",
    "    if weekday_num==5:\n",
    "        y=\"Saturday\"\n",
    "    if weekday_num==6:\n",
    "        y=\"Sunday\"\n",
    "    return y"
   ]
  },
  {
   "cell_type": "code",
   "execution_count": 218,
   "metadata": {
    "collapsed": true
   },
   "outputs": [],
   "source": [
    "def weather_binary_variance(df,weather):\n",
    "    \n",
    "    variance_columns=[\"Variance_\"+week_day(x[(len(x)-10):len(x)])+\"_\"+x[(len(x)-10):len(x)] for x in df.columns[6:len(df.columns)]]\n",
    "    for col in Rain_df_Variance_Columns:\n",
    "        date=col[(len(col)-10):len(col)]\n",
    "        date_pri=str(datetime.datetime.strptime(date,\"%Y-%m-%d\").date()+datetime.timedelta(days=-7))\n",
    "        df[col]=df[weather+\"_\"+date]-df[weather+\"_\"+date_pri]\n",
    "    return df"
   ]
  },
  {
   "cell_type": "code",
   "execution_count": 219,
   "metadata": {},
   "outputs": [
    {
     "name": "stderr",
     "output_type": "stream",
     "text": [
      "/usr/local/lib/python3.6/site-packages/ipykernel_launcher.py:7: SettingWithCopyWarning: \n",
      "A value is trying to be set on a copy of a slice from a DataFrame.\n",
      "Try using .loc[row_indexer,col_indexer] = value instead\n",
      "\n",
      "See the caveats in the documentation: http://pandas.pydata.org/pandas-docs/stable/indexing.html#indexing-view-versus-copy\n",
      "  import sys\n"
     ]
    }
   ],
   "source": [
    "Clear_df_variance=weather_binary_variance(Clear_df,\"Clear\")\n",
    "Rain_df_variance=weather_binary_variance(Rain_df,\"Rain\")\n",
    "Snow_df_variance=weather_binary_variance(Snow_df,\"Snow\")\n",
    "Temp_df_variance=weather_binary_variance(Temp_df,\"temp_max\")"
   ]
  },
  {
   "cell_type": "code",
   "execution_count": 220,
   "metadata": {},
   "outputs": [
    {
     "name": "stderr",
     "output_type": "stream",
     "text": [
      "/usr/local/lib/python3.6/site-packages/ipykernel_launcher.py:1: SettingWithCopyWarning: \n",
      "A value is trying to be set on a copy of a slice from a DataFrame.\n",
      "Try using .loc[row_indexer,col_indexer] = value instead\n",
      "\n",
      "See the caveats in the documentation: http://pandas.pydata.org/pandas-docs/stable/indexing.html#indexing-view-versus-copy\n",
      "  \"\"\"Entry point for launching an IPython kernel.\n",
      "/usr/local/lib/python3.6/site-packages/ipykernel_launcher.py:2: SettingWithCopyWarning: \n",
      "A value is trying to be set on a copy of a slice from a DataFrame.\n",
      "Try using .loc[row_indexer,col_indexer] = value instead\n",
      "\n",
      "See the caveats in the documentation: http://pandas.pydata.org/pandas-docs/stable/indexing.html#indexing-view-versus-copy\n",
      "  \n",
      "/usr/local/lib/python3.6/site-packages/ipykernel_launcher.py:3: SettingWithCopyWarning: \n",
      "A value is trying to be set on a copy of a slice from a DataFrame.\n",
      "Try using .loc[row_indexer,col_indexer] = value instead\n",
      "\n",
      "See the caveats in the documentation: http://pandas.pydata.org/pandas-docs/stable/indexing.html#indexing-view-versus-copy\n",
      "  This is separate from the ipykernel package so we can avoid doing imports until\n"
     ]
    }
   ],
   "source": [
    "Temp_df_variance['week1_Sat-Fri']=Temp_df_variance['temp_max_2018-02-10']-Temp_df_variance['temp_max_2018-02-09']\n",
    "Temp_df_variance['week2_Sat-Fri']=Temp_df_variance['temp_max_2018-02-17']-Temp_df_variance['temp_max_2018-02-16']\n",
    "Temp_df_variance['week3_Sat-Fri']=Temp_df_variance['temp_max_2018-02-24']-Temp_df_variance['temp_max_2018-02-23']"
   ]
  },
  {
   "cell_type": "code",
   "execution_count": 221,
   "metadata": {
    "collapsed": true
   },
   "outputs": [],
   "source": [
    "Clear_df_variance.to_excel(writer,\"clear\",index=False)\n",
    "Rain_df_variance.to_excel(writer,\"rain\",index=False)\n",
    "Snow_df_variance.to_excel(writer,\"snow\",index=False)\n",
    "Temp_df_variance.to_excel(writer,\"temp_max\",index=False)\n",
    "writer.save()"
   ]
  },
  {
   "cell_type": "code",
   "execution_count": null,
   "metadata": {
    "collapsed": true
   },
   "outputs": [],
   "source": []
  },
  {
   "cell_type": "code",
   "execution_count": null,
   "metadata": {
    "collapsed": true
   },
   "outputs": [],
   "source": []
  },
  {
   "cell_type": "code",
   "execution_count": null,
   "metadata": {
    "collapsed": true
   },
   "outputs": [],
   "source": []
  },
  {
   "cell_type": "code",
   "execution_count": 1,
   "metadata": {
    "collapsed": true
   },
   "outputs": [],
   "source": [
    "import pandas as pd\n",
    "df=pd.DataFrame({\"A\":[1,2],\"B\":[3,4]})"
   ]
  },
  {
   "cell_type": "code",
   "execution_count": 2,
   "metadata": {},
   "outputs": [
    {
     "data": {
      "text/html": [
       "<div>\n",
       "<style>\n",
       "    .dataframe thead tr:only-child th {\n",
       "        text-align: right;\n",
       "    }\n",
       "\n",
       "    .dataframe thead th {\n",
       "        text-align: left;\n",
       "    }\n",
       "\n",
       "    .dataframe tbody tr th {\n",
       "        vertical-align: top;\n",
       "    }\n",
       "</style>\n",
       "<table border=\"1\" class=\"dataframe\">\n",
       "  <thead>\n",
       "    <tr style=\"text-align: right;\">\n",
       "      <th></th>\n",
       "      <th>A</th>\n",
       "      <th>B</th>\n",
       "    </tr>\n",
       "  </thead>\n",
       "  <tbody>\n",
       "    <tr>\n",
       "      <th>0</th>\n",
       "      <td>1</td>\n",
       "      <td>3</td>\n",
       "    </tr>\n",
       "    <tr>\n",
       "      <th>1</th>\n",
       "      <td>2</td>\n",
       "      <td>4</td>\n",
       "    </tr>\n",
       "  </tbody>\n",
       "</table>\n",
       "</div>"
      ],
      "text/plain": [
       "   A  B\n",
       "0  1  3\n",
       "1  2  4"
      ]
     },
     "execution_count": 2,
     "metadata": {},
     "output_type": "execute_result"
    }
   ],
   "source": [
    "df"
   ]
  },
  {
   "cell_type": "code",
   "execution_count": 3,
   "metadata": {
    "collapsed": true
   },
   "outputs": [],
   "source": [
    "df['C']=0\n",
    "df['C'][df['B']==3]=1"
   ]
  },
  {
   "cell_type": "code",
   "execution_count": 4,
   "metadata": {},
   "outputs": [
    {
     "data": {
      "text/html": [
       "<div>\n",
       "<style>\n",
       "    .dataframe thead tr:only-child th {\n",
       "        text-align: right;\n",
       "    }\n",
       "\n",
       "    .dataframe thead th {\n",
       "        text-align: left;\n",
       "    }\n",
       "\n",
       "    .dataframe tbody tr th {\n",
       "        vertical-align: top;\n",
       "    }\n",
       "</style>\n",
       "<table border=\"1\" class=\"dataframe\">\n",
       "  <thead>\n",
       "    <tr style=\"text-align: right;\">\n",
       "      <th></th>\n",
       "      <th>A</th>\n",
       "      <th>B</th>\n",
       "      <th>C</th>\n",
       "    </tr>\n",
       "  </thead>\n",
       "  <tbody>\n",
       "    <tr>\n",
       "      <th>0</th>\n",
       "      <td>1</td>\n",
       "      <td>3</td>\n",
       "      <td>1</td>\n",
       "    </tr>\n",
       "    <tr>\n",
       "      <th>1</th>\n",
       "      <td>2</td>\n",
       "      <td>4</td>\n",
       "      <td>0</td>\n",
       "    </tr>\n",
       "  </tbody>\n",
       "</table>\n",
       "</div>"
      ],
      "text/plain": [
       "   A  B  C\n",
       "0  1  3  1\n",
       "1  2  4  0"
      ]
     },
     "execution_count": 4,
     "metadata": {},
     "output_type": "execute_result"
    }
   ],
   "source": [
    "df"
   ]
  },
  {
   "cell_type": "code",
   "execution_count": null,
   "metadata": {
    "collapsed": true
   },
   "outputs": [],
   "source": []
  }
 ],
 "metadata": {
  "kernelspec": {
   "display_name": "Python 3",
   "language": "python",
   "name": "python3"
  },
  "language_info": {
   "codemirror_mode": {
    "name": "ipython",
    "version": 3
   },
   "file_extension": ".py",
   "mimetype": "text/x-python",
   "name": "python",
   "nbconvert_exporter": "python",
   "pygments_lexer": "ipython3",
   "version": "3.6.1"
  }
 },
 "nbformat": 4,
 "nbformat_minor": 2
}
