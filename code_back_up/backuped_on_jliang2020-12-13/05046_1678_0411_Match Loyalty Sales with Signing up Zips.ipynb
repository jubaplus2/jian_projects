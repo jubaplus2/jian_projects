{
 "cells": [
  {
   "cell_type": "code",
   "execution_count": 1,
   "metadata": {
    "collapsed": true
   },
   "outputs": [],
   "source": [
    "import pandas as pd\n",
    "import gc\n",
    "gc.collect()\n",
    "import datetime\n",
    "import hashlib\n",
    "import numpy as np\n",
    "import logging"
   ]
  },
  {
   "cell_type": "code",
   "execution_count": null,
   "metadata": {
    "collapsed": true
   },
   "outputs": [],
   "source": [
    "logging.basicConfig(filename='merge_sales_with_signing_up', level=logging.INFO)\n",
    "logging.info(\"Start Running: \"+str(datetime.datetime.now()))\n"
   ]
  },
  {
   "cell_type": "code",
   "execution_count": 2,
   "metadata": {
    "collapsed": true
   },
   "outputs": [],
   "source": [
    "df_id_zip=pd.read_csv(\"/home/jian/Projects/Big_Lots/Loyal_members/Email_Zips/output_loyalty_member_by_id.csv\",dtype=str)\n",
    "del df_id_zip['sign_up_date']\n",
    "df_id_zip['customer_zip_code']=df_id_zip['customer_zip_code'].fillna(\"00000\")\n",
    "df_id_zip['customer_zip_code']=df_id_zip['customer_zip_code'].apply(lambda x: x.zfill(5)[0:5])\n",
    "logging.info(\"Finished Reading Zip by member: \"+str(datetime.datetime.now()))"
   ]
  },
  {
   "cell_type": "code",
   "execution_count": 8,
   "metadata": {},
   "outputs": [
    {
     "data": {
      "text/plain": [
       "(19249960, 2)"
      ]
     },
     "execution_count": 8,
     "metadata": {},
     "output_type": "execute_result"
    }
   ],
   "source": [
    "df_id_zip.shape"
   ]
  },
  {
   "cell_type": "code",
   "execution_count": 6,
   "metadata": {},
   "outputs": [
    {
     "data": {
      "text/plain": [
       "19249960"
      ]
     },
     "execution_count": 6,
     "metadata": {},
     "output_type": "execute_result"
    }
   ],
   "source": [
    "len(df_id_zip['customer_id_hashed'].unique())"
   ]
  },
  {
   "cell_type": "code",
   "execution_count": 59,
   "metadata": {},
   "outputs": [
    {
     "name": "stderr",
     "output_type": "stream",
     "text": [
      "/usr/local/lib/python3.6/site-packages/ipykernel_launcher.py:11: SettingWithCopyWarning: \n",
      "A value is trying to be set on a copy of a slice from a DataFrame.\n",
      "Try using .loc[row_indexer,col_indexer] = value instead\n",
      "\n",
      "See the caveats in the documentation: http://pandas.pydata.org/pandas-docs/stable/indexing.html#indexing-view-versus-copy\n",
      "  # This is added back by InteractiveShellApp.init_path()\n"
     ]
    }
   ],
   "source": [
    "data_1=pd.read_csv(\"/home/jian/Projects/Big_Lots/Loyal_members/sales_of_loyalty_member/MediaStormCustDtl.txt\",header=None,dtype=str)\n",
    "logging.info(\"Finished Reading Sales Data 1: \"+str(datetime.datetime.now()))\n",
    "\n",
    "data_2=pd.read_csv(\"/home/jian/Projects/Big_Lots/Loyal_members/sales_of_loyalty_member/MediaStorm customer transaction details - 2018-01-09 - 2018-03-31.txt\",dtype=str)\n",
    "logging.info(\"Finished Reading Sales Data 2: \"+str(datetime.datetime.now()))\n",
    "\n",
    "data_3=pd.read_csv(\"/home/jian/Projects/Big_Lots/Loyal_members/sales_of_loyalty_member/MediaStorm customer transaction details - 2018-04-01 - 2018-04-15.txt\",dtype=str)\n",
    "logging.info(\"Finished Reading Sales Data 3: \"+str(datetime.datetime.now()))\n",
    "\n",
    "data_1.columns=data_2.columns.tolist()  \n",
    "data_1['customer_id_hashed']=data_1['customer_id_hashed'].apply(lambda x: hashlib.sha256(x.encode('UTF-8')).hexdigest())\n",
    "logging.info(\"Finished Hashing: \"+str(datetime.datetime.now()))\n",
    "gc.collect()\n",
    "\n",
    "def clean_data(df):\n",
    "    del df['merch_cat']\n",
    "\n",
    "    df['total_transaction_amt']=df['total_transaction_amt'].astype(float)\n",
    "    df=df.drop_duplicates()    \n",
    "    df['transaction_date']=df['transaction_date'].apply(lambda x: datetime.datetime.strptime(x,\"%Y-%m-%d\").date())\n",
    "    df=df[['customer_id_hashed','transaction_date','total_transaction_amt']]\n",
    "    df_sales=df.groupby(['customer_id_hashed','transaction_date'])['total_transaction_amt'].sum().to_frame().reset_index()\n",
    "    df_trans=df[df['total_transaction_amt']>0]\n",
    "    df_trans=df.groupby(['customer_id_hashed','transaction_date'])['total_transaction_amt'].count().to_frame().reset_index()\n",
    "    df_trans=df_trans.rename(columns={\"total_transaction_amt\":\"total_transaction_count\"})\n",
    "    df=pd.merge(df_sales,df_trans,on=['customer_id_hashed','transaction_date'],how=\"left\")\n",
    "    return df\n",
    "data_1=clean_data(data_1)\n",
    "data_2=clean_data(data_2)\n",
    "data_3=clean_data(data_3)\n",
    "data_all=data_1.append(data_2).append(data_3).drop_duplicates()\n",
    "data_all=data_all.drop_duplicates()\n",
    "\n",
    "del data_1\n",
    "del data_2\n",
    "del data_3\n",
    "gc.collect()\n",
    "\n",
    "data_all=data_all[data_all['transaction_date']>=datetime.datetime(2017,5,7).date()]\n",
    "data_all['weekday']=data_all['transaction_date'].apply(lambda x: x.weekday())\n",
    "\n",
    "data_all['week_end_date']=np.where(data_all['weekday']==6,\n",
    "                                   data_all['transaction_date'].apply(lambda x: x+datetime.timedelta(days=6)),\n",
    "                                  data_all['transaction_date'].apply(lambda x: x+datetime.timedelta(days=5-x.weekday()))\n",
    "                                  )\n",
    "del data_all['transaction_date']\n",
    "del data_all['weekday']\n",
    "gc.collect()\n",
    "logging.info(\"Finished Reading Sales by member: \"+str(datetime.datetime.now()))\n",
    "\n",
    "\n",
    "data_all=data_all.groupby(['customer_id_hashed','week_end_date'])['total_transaction_amt','total_transaction_count'].sum()\n",
    "\n",
    "try:\n",
    "    data_all=data_all.to_frame()\n",
    "except:\n",
    "    logging.info(\"No need to do 'to_frame' in data_all: \"+str(datetime.datetime.now()))\n",
    "\n",
    "\n",
    "data_all=data_all.reset_index()\n",
    "    \n",
    "try:\n",
    "    del data_all['index']\n",
    "except:\n",
    "    logging.info(\"No index deleted: in data_all\"+str(datetime.datetime.now()))\n",
    "    \n",
    "logging.info(\"Finished aggregating by zip by week: \"+str(datetime.datetime.now()))\n",
    "gc.collect()\n"
   ]
  },
  {
   "cell_type": "code",
   "execution_count": 61,
   "metadata": {},
   "outputs": [
    {
     "data": {
      "text/plain": [
       "(18726, 3)"
      ]
     },
     "execution_count": 61,
     "metadata": {},
     "output_type": "execute_result"
    }
   ],
   "source": [
    "logging.info(\"Start Merging: \"+str(datetime.datetime.now()))\n",
    "data_all=pd.merge(data_all,df_id_zip,on=\"customer_id_hashed\",how=\"left\")\n",
    "logging.info(\"Finished merging: \"+str(datetime.datetime.now()))\n",
    "data_all.to_csv(\"/home/jian/Projects/Big_Lots/Loyal_members/sales_of_loyalty_member/sales_by_zip_20180529.csv\",index=False)"
   ]
  },
  {
   "cell_type": "code",
   "execution_count": 71,
   "metadata": {
    "collapsed": true
   },
   "outputs": [],
   "source": [
    "gc.collect()\n",
    "logging.info(\"Start Groupby on zip and week: \"+str(datetime.datetime.now()))\n",
    "data_all_46_full_weeks=data_all.groupby(['customer_zip_code','week_end_date'])['total_transaction_amt','total_transaction_count'].sum().reset_index()\n",
    "gc.collect()\n",
    "data_all_46_full_weeks.to_csv(\"/home/jian/Projects/Big_Lots/Loyal_members/sales_of_loyalty_member/sales_by_zip_agg_20180529.csv\",index=False)\n"
   ]
  },
  {
   "cell_type": "code",
   "execution_count": null,
   "metadata": {
    "collapsed": true
   },
   "outputs": [],
   "source": []
  },
  {
   "cell_type": "code",
   "execution_count": null,
   "metadata": {
    "collapsed": true
   },
   "outputs": [],
   "source": []
  },
  {
   "cell_type": "code",
   "execution_count": 12,
   "metadata": {
    "collapsed": true
   },
   "outputs": [],
   "source": [
    "# Do the last kernel above\n",
    "data_all_46_full_weeks=pd.read_csv(\"/home/jian/Projects/Big_Lots/Loyal_members/sales_of_loyalty_member/sales_by_zip_20180529.csv\",dtype=str)\n",
    "data_all_46_full_weeks['total_transaction_count']=data_all_46_full_weeks['total_transaction_count'].astype(int)\n",
    "data_all_46_full_weeks['total_transaction_amt']=data_all_46_full_weeks['total_transaction_amt'].astype(float)\n",
    "data_all_46_full_weeks_agg=data_all_46_full_weeks.groupby(['customer_zip_code','week_end_date'])['total_transaction_amt','total_transaction_count'].sum().reset_index()\n"
   ]
  },
  {
   "cell_type": "code",
   "execution_count": 13,
   "metadata": {},
   "outputs": [
    {
     "data": {
      "text/html": [
       "<div>\n",
       "<style>\n",
       "    .dataframe thead tr:only-child th {\n",
       "        text-align: right;\n",
       "    }\n",
       "\n",
       "    .dataframe thead th {\n",
       "        text-align: left;\n",
       "    }\n",
       "\n",
       "    .dataframe tbody tr th {\n",
       "        vertical-align: top;\n",
       "    }\n",
       "</style>\n",
       "<table border=\"1\" class=\"dataframe\">\n",
       "  <thead>\n",
       "    <tr style=\"text-align: right;\">\n",
       "      <th></th>\n",
       "      <th>customer_zip_code</th>\n",
       "      <th>week_end_date</th>\n",
       "      <th>total_transaction_amt</th>\n",
       "      <th>total_transaction_count</th>\n",
       "    </tr>\n",
       "  </thead>\n",
       "  <tbody>\n",
       "    <tr>\n",
       "      <th>0</th>\n",
       "      <td>4421</td>\n",
       "      <td>2017-12-09</td>\n",
       "      <td>49.24</td>\n",
       "      <td>1</td>\n",
       "    </tr>\n",
       "    <tr>\n",
       "      <th>1</th>\n",
       "      <td>7754</td>\n",
       "      <td>2017-05-20</td>\n",
       "      <td>0.00</td>\n",
       "      <td>2</td>\n",
       "    </tr>\n",
       "  </tbody>\n",
       "</table>\n",
       "</div>"
      ],
      "text/plain": [
       "  customer_zip_code week_end_date  total_transaction_amt  \\\n",
       "0              4421    2017-12-09                  49.24   \n",
       "1              7754    2017-05-20                   0.00   \n",
       "\n",
       "   total_transaction_count  \n",
       "0                        1  \n",
       "1                        2  "
      ]
     },
     "execution_count": 13,
     "metadata": {},
     "output_type": "execute_result"
    }
   ],
   "source": [
    "data_all_46_full_weeks_agg.head(2)"
   ]
  },
  {
   "cell_type": "code",
   "execution_count": 14,
   "metadata": {
    "collapsed": true
   },
   "outputs": [],
   "source": [
    "gc.collect()\n",
    "data_all_46_full_weeks_agg.to_csv(\"/home/jian/Projects/Big_Lots/Loyal_members/sales_of_loyalty_member/sales_by_zip_agg_20180529.csv\",index=False)\n"
   ]
  }
 ],
 "metadata": {
  "kernelspec": {
   "display_name": "Python 3",
   "language": "python",
   "name": "python3"
  },
  "language_info": {
   "codemirror_mode": {
    "name": "ipython",
    "version": 3
   },
   "file_extension": ".py",
   "mimetype": "text/x-python",
   "name": "python",
   "nbconvert_exporter": "python",
   "pygments_lexer": "ipython3",
   "version": "3.6.1"
  }
 },
 "nbformat": 4,
 "nbformat_minor": 2
}
