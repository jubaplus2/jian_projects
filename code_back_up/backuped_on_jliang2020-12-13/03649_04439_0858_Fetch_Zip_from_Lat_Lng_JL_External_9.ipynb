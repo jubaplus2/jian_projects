{
 "cells": [
  {
   "cell_type": "code",
   "execution_count": 1,
   "metadata": {
    "collapsed": true
   },
   "outputs": [],
   "source": [
    "import geocoder\n",
    "import pandas as pd\n",
    "import numpy as np\n",
    "import datetime\n",
    "import time\n",
    "import logging\n",
    "from haversine import haversine\n",
    "# logging.basicConfig(filename=\"celery\"+ str(datetime.datetime.now().date())+\".log\", level=logging.INFO)"
   ]
  },
  {
   "cell_type": "code",
   "execution_count": 29,
   "metadata": {
    "collapsed": true
   },
   "outputs": [],
   "source": [
    "rewards_data=pd.read_table(\"/home/jian/Projects/Smoothie_King/data/LoyaltyUser_103018.txt\",dtype=str,sep=\",\")"
   ]
  },
  {
   "cell_type": "code",
   "execution_count": 30,
   "metadata": {},
   "outputs": [
    {
     "name": "stderr",
     "output_type": "stream",
     "text": [
      "/usr/local/lib/python3.6/site-packages/ipykernel_launcher.py:2: SettingWithCopyWarning: \n",
      "A value is trying to be set on a copy of a slice from a DataFrame.\n",
      "Try using .loc[row_indexer,col_indexer] = value instead\n",
      "\n",
      "See the caveats in the documentation: http://pandas.pydata.org/pandas-docs/stable/indexing.html#indexing-view-versus-copy\n",
      "  \n",
      "/usr/local/lib/python3.6/site-packages/ipykernel_launcher.py:3: SettingWithCopyWarning: \n",
      "A value is trying to be set on a copy of a slice from a DataFrame.\n",
      "Try using .loc[row_indexer,col_indexer] = value instead\n",
      "\n",
      "See the caveats in the documentation: http://pandas.pydata.org/pandas-docs/stable/indexing.html#indexing-view-versus-copy\n",
      "  This is separate from the ipykernel package so we can avoid doing imports until\n",
      "/usr/local/lib/python3.6/site-packages/ipykernel_launcher.py:4: SettingWithCopyWarning: \n",
      "A value is trying to be set on a copy of a slice from a DataFrame.\n",
      "Try using .loc[row_indexer,col_indexer] = value instead\n",
      "\n",
      "See the caveats in the documentation: http://pandas.pydata.org/pandas-docs/stable/indexing.html#indexing-view-versus-copy\n",
      "  after removing the cwd from sys.path.\n",
      "/usr/local/lib/python3.6/site-packages/ipykernel_launcher.py:5: SettingWithCopyWarning: \n",
      "A value is trying to be set on a copy of a slice from a DataFrame.\n",
      "Try using .loc[row_indexer,col_indexer] = value instead\n",
      "\n",
      "See the caveats in the documentation: http://pandas.pydata.org/pandas-docs/stable/indexing.html#indexing-view-versus-copy\n",
      "  \"\"\"\n"
     ]
    }
   ],
   "source": [
    "rewards_data_df_TA=rewards_data[['user_id','zipcode','latitude','longitude']]\n",
    "rewards_data_df_TA['zipcode']=rewards_data_df_TA['zipcode'].fillna(\"0\")\n",
    "rewards_data_df_TA['zipcode']=rewards_data_df_TA['zipcode'].apply(lambda x: x.split(\"-\")[0].zfill(5))\n",
    "rewards_data_df_TA['latitude']=rewards_data_df_TA['latitude'].astype(float).apply(lambda x: np.round(x,6))\n",
    "rewards_data_df_TA['longitude']=rewards_data_df_TA['longitude'].astype(float).apply(lambda x: np.round(x,6))\n",
    "\n",
    "# Round to 6 digits which result in error about 0.14 meter"
   ]
  },
  {
   "cell_type": "code",
   "execution_count": 31,
   "metadata": {
    "collapsed": true
   },
   "outputs": [],
   "source": [
    "zips_TA=pd.read_excel(\"/home/jian/Projects/Smoothie_King/TA/SmoothieKing_TA_revised_3_miles_JL_2018-10-31.xlsx\",dtype=str,sheetname=\"zip_TA\")\n",
    "store_TA=pd.read_excel(\"/home/jian/Projects/Smoothie_King/TA/SmoothieKing_TA_revised_3_miles_JL_2018-10-31.xlsx\",dtype=str,sheetname=\"output_TA_by_store\")\n",
    "store_TA=store_TA[store_TA['status']!=\"NonComp\"]\n",
    "zips_TA=zips_TA[zips_TA['store'].isin(store_TA['storenumber'])]\n",
    "zips_in_TA_list=zips_TA['zip'].unique().tolist()\n",
    "stores_in_TA_list=store_TA['storenumber'].unique().tolist()"
   ]
  },
  {
   "cell_type": "markdown",
   "metadata": {},
   "source": [
    "# Step 1: Use zipcode in the rewards data to check in"
   ]
  },
  {
   "cell_type": "code",
   "execution_count": 32,
   "metadata": {
    "collapsed": true
   },
   "outputs": [],
   "source": [
    "rewards_data_df_TA_in=rewards_data_df_TA[(rewards_data_df_TA['zipcode'].isin(zips_in_TA_list))]\n",
    "rewards_data_df_TA_in['TA']=\"In\"\n",
    "rewards_data_df_TA_out=rewards_data_df_TA[~(rewards_data_df_TA['zipcode'].isin(zips_in_TA_list))]\n",
    "rewards_data_df_TA_out['TA']=\"Out\"\n",
    "unique_lat_lng_pair_in_out=rewards_data_df_TA_out[['latitude','longitude']].drop_duplicates()"
   ]
  },
  {
   "cell_type": "markdown",
   "metadata": {},
   "source": [
    "# Step 2: For those zipcodes not in, check lat lng"
   ]
  },
  {
   "cell_type": "code",
   "execution_count": 33,
   "metadata": {
    "collapsed": true
   },
   "outputs": [],
   "source": [
    "unique_lat_lng_pair_in_out=rewards_data_df_TA_out[['latitude','longitude']].drop_duplicates()\n",
    "unique_lat_lng_pair_in_out=unique_lat_lng_pair_in_out.reset_index()\n",
    "del unique_lat_lng_pair_in_out['index']\n",
    "unique_lat_lng_pair_in_out['Bing_zip']=np.nan\n",
    "unique_lat_lng_pair_in_out['Bing_lat']=np.nan\n",
    "unique_lat_lng_pair_in_out['Bing_lng']=np.nan\n",
    "unique_lat_lng_pair_in_out['Bing_return_dist']=np.nan\n",
    "unique_lat_lng_pair_in_out['Bing_Address']=np.nan"
   ]
  },
  {
   "cell_type": "code",
   "execution_count": 34,
   "metadata": {},
   "outputs": [
    {
     "name": "stdout",
     "output_type": "stream",
     "text": [
      "2018-11-05 16:41:13.591414: Start to run Bing Map\n"
     ]
    }
   ],
   "source": [
    "key_9=\"AufGjbgbDfkYqR_I1MR9z_CRFBt9S5gwvMldoxxH5nNUuVU7J1UCfThKiCNvZfme\"\n",
    "key_10=\"AjJtraMlHbaR3sDKcFqFud61zsa6Psu8uISUqf8yuNmTLoMdvxI0RLvKnfH21E9N\"\n",
    "key_11=\"AsE84xQndNKNRWmVoFtPArCHx9vbNj-_Azb__FVPOUQKAsJRkLka9OGaHUW9Jg1H\"\n",
    "key_12=\"AlldgEkiRHdNvlvYi75IYtknSEEmP_F5lRK10dlFcIsE8zm35rEPYOFi7vntfa9m\"\n",
    "key_13=\"AmManQR4nORBLY98XKAU6DT0koWFTnSPGc9IKuG116L2rEz5g2wSeKSa_wt_PiVs\"\n",
    "key_14=\"Anf0V62fjg15L7RmpiXy4tpUbrue9Jgsls_9cGKs9ZEllJ5ctMKtreVUrnikOJYK\"\n",
    "key_15=\"Av7T0zTuritczWO2HASvXyIZsSx2WuFCcUbVbBOh4s2CjgCYzy6LNlpgVGPWFIu1\"\n",
    "key_16=\"Aglce2Z_CkofvgQE4EVugK08EmqKX0K3sHoRq2HDbG27GTr5rpxABilJdg95gdjL\"\n",
    "\n",
    "key_list=[key_9,key_10,key_11,key_12,key_13,key_14,key_15,key_16]\n",
    "# All tested to be workable\n",
    "print(str(datetime.datetime.now())+\": Start to run Bing Map\")\n",
    "output_lat_long=pd.DataFrame()\n",
    "\n",
    "# Can be optimised later through \"batch_reverse\" method"
   ]
  },
  {
   "cell_type": "code",
   "execution_count": 36,
   "metadata": {},
   "outputs": [
    {
     "name": "stderr",
     "output_type": "stream",
     "text": [
      "/usr/local/lib/python3.6/site-packages/ipykernel_launcher.py:42: SettingWithCopyWarning: \n",
      "A value is trying to be set on a copy of a slice from a DataFrame\n",
      "\n",
      "See the caveats in the documentation: http://pandas.pydata.org/pandas-docs/stable/indexing.html#indexing-view-versus-copy\n",
      "/usr/local/lib/python3.6/site-packages/ipykernel_launcher.py:38: SettingWithCopyWarning: \n",
      "A value is trying to be set on a copy of a slice from a DataFrame\n",
      "\n",
      "See the caveats in the documentation: http://pandas.pydata.org/pandas-docs/stable/indexing.html#indexing-view-versus-copy\n",
      "/usr/local/lib/python3.6/site-packages/ipykernel_launcher.py:39: SettingWithCopyWarning: \n",
      "A value is trying to be set on a copy of a slice from a DataFrame\n",
      "\n",
      "See the caveats in the documentation: http://pandas.pydata.org/pandas-docs/stable/indexing.html#indexing-view-versus-copy\n",
      "/usr/local/lib/python3.6/site-packages/ipykernel_launcher.py:40: SettingWithCopyWarning: \n",
      "A value is trying to be set on a copy of a slice from a DataFrame\n",
      "\n",
      "See the caveats in the documentation: http://pandas.pydata.org/pandas-docs/stable/indexing.html#indexing-view-versus-copy\n",
      "/usr/local/lib/python3.6/site-packages/ipykernel_launcher.py:41: SettingWithCopyWarning: \n",
      "A value is trying to be set on a copy of a slice from a DataFrame\n",
      "\n",
      "See the caveats in the documentation: http://pandas.pydata.org/pandas-docs/stable/indexing.html#indexing-view-versus-copy\n"
     ]
    },
    {
     "name": "stdout",
     "output_type": "stream",
     "text": [
      "Finished of i: 0 2018-11-05 16:44:12.202861\n"
     ]
    }
   ],
   "source": [
    "i=0\n",
    "\n",
    "df=unique_lat_lng_pair_in_out.iloc[i*100000:(i+1)*100000,].reset_index()\n",
    "key_bing=key_list[i]\n",
    "del df['index']\n",
    "for j in range(len(df)):\n",
    "    coordinate_pair=[df['latitude'][j],df['longitude'][j]]\n",
    "    try:\n",
    "        response=geocoder.bing(coordinate_pair,key=key_bing,method=\"reverse\")\n",
    "    except:\n",
    "        response=[]\n",
    "\n",
    "\n",
    "    try:\n",
    "        bing_lat=response.latlng[0]\n",
    "    except:\n",
    "        bing_lat=np.nan\n",
    "\n",
    "    try:\n",
    "        bing_lng=response.latlng[1]\n",
    "    except:\n",
    "        bing_lng=np.nan\n",
    "\n",
    "    try:\n",
    "        bing_address=response.address\n",
    "    except:\n",
    "        bing_address=np.nan\n",
    "\n",
    "    try:\n",
    "        bing_postal=response.postal\n",
    "    except:\n",
    "        bing_postal=np.nan    \n",
    "\n",
    "    try:\n",
    "        dist=haversine(coordinate_pair,[bing_lat,bing_lng],miles=True)\n",
    "    except:\n",
    "        dist=np.nan\n",
    "\n",
    "    df['Bing_lat'][j]=bing_lat\n",
    "    df['Bing_lng'][j]=bing_lng\n",
    "    df['Bing_zip'][j]=bing_postal\n",
    "    df['Bing_Address'][j]=bing_address\n",
    "    df['Bing_return_dist'][j]=dist\n",
    "    time.sleep(1)\n",
    "\n",
    "    if j%33==1:\n",
    "        time.sleep(0.1)\n",
    "    if j%1000==999:\n",
    "        time.sleep(1.2)\n",
    "        print(\"i: \"+str(i)+\"|j: \"+str(j)+\" \"+str(datetime.datetime.now()))\n",
    "\n",
    "time.sleep(61)\n",
    "print(\"Finished of i: \"+str(i)+\" \"+str(datetime.datetime.now()))\n",
    "df.to_csv(\"/home/jian/Projects/Smoothie_King/Rewards_Zip/SK_Unique_lat_lng_pair_JL_key_\"+str(i)+\"_\"+str(datetime.datetime.now().date())+\".csv\",index=False)\n"
   ]
  },
  {
   "cell_type": "code",
   "execution_count": null,
   "metadata": {
    "collapsed": true
   },
   "outputs": [],
   "source": []
  }
 ],
 "metadata": {
  "kernelspec": {
   "display_name": "Python 3",
   "language": "python",
   "name": "python3"
  },
  "language_info": {
   "codemirror_mode": {
    "name": "ipython",
    "version": 3
   },
   "file_extension": ".py",
   "mimetype": "text/x-python",
   "name": "python",
   "nbconvert_exporter": "python",
   "pygments_lexer": "ipython3",
   "version": "3.6.1"
  }
 },
 "nbformat": 4,
 "nbformat_minor": 2
}
