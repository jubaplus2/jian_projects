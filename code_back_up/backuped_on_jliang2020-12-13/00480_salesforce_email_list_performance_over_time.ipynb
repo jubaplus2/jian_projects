{
 "cells": [
  {
   "cell_type": "code",
   "execution_count": 1,
   "metadata": {},
   "outputs": [
    {
     "data": {
      "text/plain": [
       "'/home/jian/Projects/Big_Lots/Analysis/2019_Q2/Planner_Requests/emal_kayla_20190717'"
      ]
     },
     "execution_count": 1,
     "metadata": {},
     "output_type": "execute_result"
    }
   ],
   "source": [
    "import pandas as pd\n",
    "import os\n",
    "import datetime\n",
    "\n",
    "os.getcwd()"
   ]
  },
  {
   "cell_type": "code",
   "execution_count": 2,
   "metadata": {},
   "outputs": [],
   "source": [
    "df=pd.read_csv('/home/jian/Projects/Big_Lots/Analysis/2019_Q2/Planner_Requests/emal_kayla_20190717/List Performance Over Time.csv',dtype=str)\n",
    "\n",
    "df['Sent']=df['Sent'].apply(lambda x: x.replace(\",\",\"\")).astype(int)\n",
    "df['Delivered']=df['Delivered'].apply(lambda x: x.replace(\",\",\"\")).astype(int)\n",
    "df['Opened']=df['Opened'].apply(lambda x: x.replace(\",\",\"\")).astype(int)"
   ]
  },
  {
   "cell_type": "code",
   "execution_count": 3,
   "metadata": {},
   "outputs": [],
   "source": [
    "df['date']=df['DateSent'].apply(lambda x: x.split(\" \")[0])\n",
    "df['date']=df['date'].apply(lambda x: datetime.datetime.strptime(x,\"%m/%d/%Y\").date())\n",
    "df['week_day']=df['date'].apply(lambda x: x.weekday())"
   ]
  },
  {
   "cell_type": "code",
   "execution_count": 4,
   "metadata": {},
   "outputs": [],
   "source": [
    "def week_start(x):\n",
    "    if x.weekday()==6:\n",
    "        y=x\n",
    "    else:\n",
    "        y=x-datetime.timedelta(days=(x.weekday()+1))\n",
    "    return y\n",
    "        \n",
    "    \n",
    "df['week_start']=df['date'].apply(lambda x: week_start(x))"
   ]
  },
  {
   "cell_type": "code",
   "execution_count": 6,
   "metadata": {},
   "outputs": [],
   "source": [
    "df_summary=df.groupby(['week_start'])['Sent','Delivered','Opened'].sum().reset_index()"
   ]
  },
  {
   "cell_type": "code",
   "execution_count": 8,
   "metadata": {},
   "outputs": [],
   "source": [
    "df_summary.to_csv(\"./emails_recent_52_weeks_JL_\"+str(datetime.datetime.now().date())+\".csv\",index=False)"
   ]
  },
  {
   "cell_type": "code",
   "execution_count": null,
   "metadata": {
    "collapsed": true
   },
   "outputs": [],
   "source": []
  }
 ],
 "metadata": {
  "kernelspec": {
   "display_name": "Python 3",
   "language": "python",
   "name": "python3"
  },
  "language_info": {
   "codemirror_mode": {
    "name": "ipython",
    "version": 3
   },
   "file_extension": ".py",
   "mimetype": "text/x-python",
   "name": "python",
   "nbconvert_exporter": "python",
   "pygments_lexer": "ipython3",
   "version": "3.6.1"
  }
 },
 "nbformat": 4,
 "nbformat_minor": 2
}
