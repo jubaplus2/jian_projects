{
 "cells": [
  {
   "cell_type": "code",
   "execution_count": 1,
   "metadata": {},
   "outputs": [
    {
     "name": "stdout",
     "output_type": "stream",
     "text": [
      "2020-06-02 21:57:32.283634\n",
      "/home/jian/Projects/Big_Lots/Predictive_Model/Tables_for_modeling/table_up_to_20190831\n"
     ]
    }
   ],
   "source": [
    "import paramiko\n",
    "import os\n",
    "import datetime\n",
    "\n",
    "print(datetime.datetime.now())\n",
    "print(os.getcwd())"
   ]
  },
  {
   "cell_type": "code",
   "execution_count": 2,
   "metadata": {},
   "outputs": [],
   "source": [
    "host=\"107.191.32.220\"\n",
    "port=22\n",
    "user='jian'\n",
    "pwd='juba-jl1'\n",
    "\n",
    "transport = paramiko.Transport((host, port))\n",
    "transport.connect(username = user, password = pwd)\n",
    "sftp = paramiko.SFTPClient.from_transport(transport)"
   ]
  },
  {
   "cell_type": "code",
   "execution_count": 3,
   "metadata": {},
   "outputs": [
    {
     "data": {
      "text/plain": [
       "['.ipynb_checkpoints',\n",
       " 'V1 Logistic_Regression_with_DCM_by_trans_counts.ipynb',\n",
       " 'Data_tabel_WithOut_DCM_20190831_with_competitors_JL_2020-05-23.csv',\n",
       " 'books_read.png',\n",
       " 'Data_tabel_with_DCM_20190831_updated_with_competitors_and_DVs_JL_2020-05-23.csv',\n",
       " 'Logistic_Regression_Without_DCM_by_trans_counts.ipynb',\n",
       " 'output_modeling_wDCM_2020-05-31',\n",
       " 'Logistic_Regression_without_DCM.ipynb']"
      ]
     },
     "execution_count": 3,
     "metadata": {},
     "output_type": "execute_result"
    }
   ],
   "source": [
    "sftp.listdir(\"/mnt/drv5/jian/predictive_model/\")"
   ]
  },
  {
   "cell_type": "code",
   "execution_count": 4,
   "metadata": {},
   "outputs": [],
   "source": [
    "remote_path_1=\"/mnt/drv5/jian/predictive_model/Data_tabel_with_DCM_20190831_updated_with_competitors_and_DVs_JL_2020-05-23.csv\"\n",
    "remote_path_2=\"/mnt/drv5/jian/predictive_model/Data_tabel_WithOut_DCM_20190831_with_competitors_JL_2020-05-23.csv\"\n",
    "\n",
    "local_path_1=\"./\"+os.path.basename(remote_path_1)\n",
    "local_path_2=\"./\"+os.path.basename(remote_path_2)\n"
   ]
  },
  {
   "cell_type": "code",
   "execution_count": 5,
   "metadata": {},
   "outputs": [],
   "source": [
    "sftp.get(remote_path_1,local_path_1)\n",
    "sftp.get(remote_path_2,local_path_2)\n",
    "\n",
    "sftp.close()\n",
    "transport.close()"
   ]
  },
  {
   "cell_type": "code",
   "execution_count": null,
   "metadata": {},
   "outputs": [],
   "source": []
  }
 ],
 "metadata": {
  "kernelspec": {
   "display_name": "Python 3",
   "language": "python",
   "name": "python3"
  },
  "language_info": {
   "codemirror_mode": {
    "name": "ipython",
    "version": 3
   },
   "file_extension": ".py",
   "mimetype": "text/x-python",
   "name": "python",
   "nbconvert_exporter": "python",
   "pygments_lexer": "ipython3",
   "version": "3.6.1"
  }
 },
 "nbformat": 4,
 "nbformat_minor": 2
}
