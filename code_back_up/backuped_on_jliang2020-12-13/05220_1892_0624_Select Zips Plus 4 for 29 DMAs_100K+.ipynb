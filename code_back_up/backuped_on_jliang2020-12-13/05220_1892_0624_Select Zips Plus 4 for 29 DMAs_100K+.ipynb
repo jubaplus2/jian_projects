{
 "cells": [
  {
   "cell_type": "code",
   "execution_count": 1,
   "metadata": {
    "collapsed": true
   },
   "outputs": [],
   "source": [
    "import pandas as pd\n",
    "import zipcodes\n",
    "import datetime\n",
    "import gc\n",
    "import numpy as np\n",
    "import logging\n",
    "today_str=str(datetime.datetime.now().date())"
   ]
  },
  {
   "cell_type": "code",
   "execution_count": 2,
   "metadata": {
    "collapsed": true
   },
   "outputs": [],
   "source": [
    "logging.basicConfig(filename='Saatva_Zip5_Plus4_'+today_str+'_run.log', level=logging.INFO)"
   ]
  },
  {
   "cell_type": "code",
   "execution_count": 3,
   "metadata": {
    "collapsed": true
   },
   "outputs": [],
   "source": [
    "EASI_1A=pd.read_csv(\"/home/jian/Docs/EASI/2018-07-19/ZIP4_18_DATA_A2_CSV/ZIP4_18_DATA_A2.CSV\",\n",
    "                    skiprows=1,usecols=['ZIP_CODE','ZIP4','HH18','MEDHHINC','PCTHH200P'],dtype=str)"
   ]
  },
  {
   "cell_type": "code",
   "execution_count": 4,
   "metadata": {
    "collapsed": true
   },
   "outputs": [],
   "source": [
    "EASI_1A['HH18']=EASI_1A['HH18'].astype(float)\n",
    "EASI_1A['MEDHHINC']=EASI_1A['MEDHHINC'].astype(float)\n",
    "EASI_1A['PCTHH200P']=EASI_1A['PCTHH200P'].astype(float)\n",
    "EASI_1A=EASI_1A.rename(columns={\"MEDHHINC\":\"Median_HH_Inc\"})"
   ]
  },
  {
   "cell_type": "code",
   "execution_count": null,
   "metadata": {
    "collapsed": true
   },
   "outputs": [],
   "source": []
  },
  {
   "cell_type": "code",
   "execution_count": 5,
   "metadata": {
    "collapsed": true
   },
   "outputs": [],
   "source": [
    "DMA_Zips=pd.read_excel(\"/home/jian/Docs/Geo_mapping/Zips by DMA by County16-17 nielsen.xlsx\",dtype=str,skiprows=1)\n",
    "DMA_Zips=DMA_Zips.iloc[:,[0,2,6]]\n",
    "DMA_Zips.columns=['ZIP_CODE','DMA','state']"
   ]
  },
  {
   "cell_type": "code",
   "execution_count": 6,
   "metadata": {
    "collapsed": true
   },
   "outputs": [],
   "source": [
    "DMA_29=pd.read_csv(\"/home/jian/Projects/Saatva/High_Income_Zips_for_29_DMAs/Seleceted_DMA_Top25_TV25.csv\",dtype=str)\n",
    "DMA_29=DMA_29['dma'].unique().tolist()"
   ]
  },
  {
   "cell_type": "code",
   "execution_count": 7,
   "metadata": {
    "collapsed": true
   },
   "outputs": [],
   "source": [
    "DMA_Zips_29=DMA_Zips[DMA_Zips['DMA'].isin(DMA_29)]"
   ]
  },
  {
   "cell_type": "code",
   "execution_count": 8,
   "metadata": {
    "collapsed": true
   },
   "outputs": [],
   "source": [
    "DMA_Zips_29=DMA_Zips_29.drop_duplicates()"
   ]
  },
  {
   "cell_type": "code",
   "execution_count": 9,
   "metadata": {
    "collapsed": true
   },
   "outputs": [],
   "source": [
    "DMA_Zips_29=pd.merge(DMA_Zips_29,EASI_1A,on=\"ZIP_CODE\",how=\"left\")"
   ]
  },
  {
   "cell_type": "code",
   "execution_count": 10,
   "metadata": {},
   "outputs": [
    {
     "data": {
      "text/plain": [
       "14289"
      ]
     },
     "execution_count": 10,
     "metadata": {},
     "output_type": "execute_result"
    }
   ],
   "source": [
    "len(DMA_Zips_29['ZIP_CODE'].unique())"
   ]
  },
  {
   "cell_type": "code",
   "execution_count": null,
   "metadata": {
    "collapsed": true
   },
   "outputs": [],
   "source": []
  },
  {
   "cell_type": "markdown",
   "metadata": {},
   "source": [
    "# On Median Income Zip+4"
   ]
  },
  {
   "cell_type": "code",
   "execution_count": 11,
   "metadata": {
    "collapsed": true
   },
   "outputs": [],
   "source": [
    "# Meidan Income >= $ 100K \n",
    "DMA_Zips_29_High=DMA_Zips_29[DMA_Zips_29['Median_HH_Inc']>=100000]"
   ]
  },
  {
   "cell_type": "code",
   "execution_count": 12,
   "metadata": {},
   "outputs": [
    {
     "name": "stdout",
     "output_type": "stream",
     "text": [
      "86005\n",
      "97003\n"
     ]
    }
   ],
   "source": [
    "unique_zip_city=pd.DataFrame()\n",
    "for zip_cd in DMA_Zips_29_High['ZIP_CODE'].unique().tolist():\n",
    "    if len(zipcodes.matching(zip_cd))>=1:\n",
    "        city=zipcodes.matching(zip_cd)[0]['city']\n",
    "        df=pd.DataFrame({\"ZIP_CODE\":zip_cd,\"city\":city},index=[zip_cd])\n",
    "        unique_zip_city=unique_zip_city.append(df)\n",
    "    else:\n",
    "        print(zip_cd)\n",
    "        logging.info(str(zip_cd) + \": no city in zipcodes packages, google for it\")"
   ]
  },
  {
   "cell_type": "code",
   "execution_count": 13,
   "metadata": {
    "collapsed": true
   },
   "outputs": [],
   "source": [
    "unique_zip_city=unique_zip_city.append(pd.DataFrame({\"ZIP_CODE\":['86005','97003'],\"city\":[\"Kachina Village\",\"Hillsboro\"]},index=['86005','97003']))"
   ]
  },
  {
   "cell_type": "code",
   "execution_count": 14,
   "metadata": {
    "collapsed": true
   },
   "outputs": [],
   "source": [
    "DMA_Zips_29_High=pd.merge(DMA_Zips_29_High,unique_zip_city,on=\"ZIP_CODE\",how=\"left\")"
   ]
  },
  {
   "cell_type": "code",
   "execution_count": 15,
   "metadata": {
    "collapsed": true
   },
   "outputs": [],
   "source": [
    "DMA_Zips_29_High=DMA_Zips_29_High[['ZIP_CODE','ZIP4','DMA','city','state','HH18','Median_HH_Inc','PCTHH200P']]"
   ]
  },
  {
   "cell_type": "code",
   "execution_count": 16,
   "metadata": {
    "collapsed": true
   },
   "outputs": [],
   "source": [
    "DMA_Zips_29_High['HH_200K_Plus']=DMA_Zips_29_High['HH18']/100*DMA_Zips_29_High['PCTHH200P']"
   ]
  },
  {
   "cell_type": "code",
   "execution_count": 18,
   "metadata": {
    "collapsed": true
   },
   "outputs": [],
   "source": [
    "writer=pd.ExcelWriter(\"/home/jian/Projects/Saatva/High_Income_Zips_for_29_DMAs/Saatva_Zip Plus4 Median HH Inc above 100K for 29 DMAs_JL_20180823.xlsx\",engine=\"xlsxwriter\")"
   ]
  },
  {
   "cell_type": "code",
   "execution_count": 19,
   "metadata": {},
   "outputs": [
    {
     "name": "stdout",
     "output_type": "stream",
     "text": [
      "NEW YORK with rows of: 787428\n",
      "LOS ANGELES with rows of: 407325\n",
      "SAN FRANCISCO-OAK-SAN JOSE with rows of: 290523\n",
      "WASHINGTON, DC (HAGRSTWN) with rows of: 360076\n",
      "CHICAGO with rows of: 282954\n",
      "BOSTON (MANCHESTER) with rows of: 291974\n",
      "SEATTLE-TACOMA with rows of: 161328\n",
      "PHILADELPHIA with rows of: 232198\n",
      "DALLAS-FT. WORTH with rows of: 213575\n",
      "DENVER with rows of: 126332\n",
      "ATLANTA with rows of: 143564\n",
      "PHOENIX (PRESCOTT) with rows of: 122719\n",
      "TAMPA-ST. PETE (SARASOTA) with rows of: 47076\n",
      "HOUSTON with rows of: 192993\n",
      "BALTIMORE with rows of: 115537\n",
      "ORLANDO-DAYTONA BCH-MELBRN with rows of: 32449\n",
      "MINNEAPOLIS-ST. PAUL with rows of: 149519\n",
      "DETROIT with rows of: 132684\n",
      "MIAMI-FT. LAUDERDALE with rows of: 77915\n",
      "SAN DIEGO with rows of: 80396\n",
      "SACRAMNTO-STKTON-MODESTO with rows of: 68785\n",
      "AUSTIN with rows of: 62093\n",
      "PORTLAND, OR with rows of: 78090\n",
      "WEST PALM BEACH-FT. PIERCE with rows of: 40750\n",
      "RALEIGH-DURHAM (FAYETVLLE) with rows of: 65922\n",
      "CHARLOTTE with rows of: 51839\n",
      "CLEVELAND-AKRON (CANTON) with rows of: 65036\n",
      "ST. LOUIS with rows of: 59900\n",
      "PITTSBURGH with rows of: 36011\n"
     ]
    }
   ],
   "source": [
    "for dma in DMA_29:\n",
    "    df=DMA_Zips_29_High[DMA_Zips_29_High['DMA']==dma]\n",
    "    df=df.reset_index()\n",
    "    del df['index']\n",
    "    if df.shape[0]>1000000:\n",
    "        df=df.sort_values('Avg_HH_Inc',ascending=False)\n",
    "        df=df.reset_index()\n",
    "        del df['index']\n",
    "        df_0=df.iloc[0:50000,]\n",
    "        df_1=df.iloc[50000:,]\n",
    "        df_0.to_excel(writer,dma+\"_1\",index=False)\n",
    "        df_1.to_excel(writer,dma+\"_2\",index=False)\n",
    "    else:\n",
    "        df.to_excel(writer,dma,index=False)\n",
    "    print(dma+\" with rows of: \"+str(df.shape[0]))"
   ]
  },
  {
   "cell_type": "code",
   "execution_count": 20,
   "metadata": {
    "collapsed": true
   },
   "outputs": [],
   "source": [
    "writer.save()"
   ]
  },
  {
   "cell_type": "code",
   "execution_count": 21,
   "metadata": {},
   "outputs": [
    {
     "data": {
      "text/plain": [
       "1255"
      ]
     },
     "execution_count": 21,
     "metadata": {},
     "output_type": "execute_result"
    }
   ],
   "source": [
    "gc.collect()"
   ]
  },
  {
   "cell_type": "code",
   "execution_count": null,
   "metadata": {
    "collapsed": true
   },
   "outputs": [],
   "source": []
  },
  {
   "cell_type": "code",
   "execution_count": null,
   "metadata": {
    "collapsed": true
   },
   "outputs": [],
   "source": []
  },
  {
   "cell_type": "markdown",
   "metadata": {},
   "source": [
    "# On Median Income Zip5"
   ]
  },
  {
   "cell_type": "code",
   "execution_count": 17,
   "metadata": {
    "collapsed": true
   },
   "outputs": [],
   "source": [
    "del EASI_1A\n",
    "del DMA_Zips_29_High\n",
    "del df"
   ]
  },
  {
   "cell_type": "code",
   "execution_count": 18,
   "metadata": {
    "collapsed": true
   },
   "outputs": [],
   "source": [
    "zip5_HH=DMA_Zips_29.groupby(['ZIP_CODE','DMA','state'])['HH18'].sum().to_frame().reset_index()"
   ]
  },
  {
   "cell_type": "code",
   "execution_count": 19,
   "metadata": {},
   "outputs": [
    {
     "data": {
      "text/plain": [
       "(18382899, 7)"
      ]
     },
     "execution_count": 19,
     "metadata": {},
     "output_type": "execute_result"
    }
   ],
   "source": [
    "DMA_Zips_29.shape"
   ]
  },
  {
   "cell_type": "code",
   "execution_count": 20,
   "metadata": {},
   "outputs": [
    {
     "name": "stdout",
     "output_type": "stream",
     "text": [
      "ZIP_CODE [<class 'str'>]\n",
      "DMA [<class 'str'>]\n",
      "state [<class 'str'>]\n",
      "ZIP4 [<class 'str'>, <class 'float'>]\n",
      "HH18 [<class 'float'>]\n",
      "Median_HH_Inc [<class 'float'>]\n",
      "PCTHH200P [<class 'float'>]\n"
     ]
    }
   ],
   "source": [
    "for col in DMA_Zips_29.columns.tolist():\n",
    "    print(col, DMA_Zips_29[col].apply(lambda x: type(x)).unique().tolist())\n"
   ]
  },
  {
   "cell_type": "code",
   "execution_count": 21,
   "metadata": {
    "collapsed": true
   },
   "outputs": [],
   "source": [
    "temp_DMA_Zip_29=DMA_Zips_29[['ZIP_CODE','ZIP4','HH18','Median_HH_Inc','PCTHH200P']].drop_duplicates(['ZIP_CODE','ZIP4'])"
   ]
  },
  {
   "cell_type": "code",
   "execution_count": 22,
   "metadata": {},
   "outputs": [
    {
     "data": {
      "text/plain": [
       "181"
      ]
     },
     "execution_count": 22,
     "metadata": {},
     "output_type": "execute_result"
    }
   ],
   "source": [
    "del temp_DMA_Zip_29['ZIP4']\n",
    "gc.collect()"
   ]
  },
  {
   "cell_type": "code",
   "execution_count": 23,
   "metadata": {},
   "outputs": [
    {
     "name": "stdout",
     "output_type": "stream",
     "text": [
      "10 2018-08-24 16:09:42.300079\n",
      "100 2018-08-24 16:09:42.636527\n",
      "1010 2018-08-24 16:09:45.862787\n",
      "1100 2018-08-24 16:09:46.212065\n",
      "2010 2018-08-24 16:09:49.537439\n",
      "2100 2018-08-24 16:09:49.894996\n",
      "3010 2018-08-24 16:09:53.148144\n",
      "3100 2018-08-24 16:09:53.493987\n",
      "4010 2018-08-24 16:09:56.784119\n",
      "4100 2018-08-24 16:09:57.141208\n",
      "5010 2018-08-24 16:10:00.562325\n",
      "5100 2018-08-24 16:10:00.935650\n",
      "6010 2018-08-24 16:10:04.485141\n",
      "6100 2018-08-24 16:10:04.865111\n",
      "7010 2018-08-24 16:10:08.462312\n",
      "7100 2018-08-24 16:10:08.832733\n",
      "8010 2018-08-24 16:10:12.417193\n",
      "8100 2018-08-24 16:10:12.784190\n",
      "9010 2018-08-24 16:10:16.381049\n",
      "9100 2018-08-24 16:10:16.761749\n",
      "10010 2018-08-24 16:10:20.444912\n",
      "10100 2018-08-24 16:10:20.845072\n",
      "11010 2018-08-24 16:10:24.541232\n",
      "11100 2018-08-24 16:10:24.915325\n",
      "12010 2018-08-24 16:10:28.718805\n",
      "12100 2018-08-24 16:10:29.119057\n",
      "13010 2018-08-24 16:10:32.914616\n",
      "13100 2018-08-24 16:10:33.309005\n",
      "14010 2018-08-24 16:10:37.104270\n",
      "14100 2018-08-24 16:10:37.505894\n"
     ]
    }
   ],
   "source": [
    "i=0\n",
    "zip5_HH_Median_Inc=pd.DataFrame()\n",
    "\n",
    "for zip_cd,group in temp_DMA_Zip_29.groupby(['ZIP_CODE']):\n",
    "    \n",
    "    total_HH=group['HH18'].sum()\n",
    "    group=group[['ZIP_CODE','HH18','Median_HH_Inc','PCTHH200P']]\n",
    "    \n",
    "    \n",
    "    agg_Pctg_HH_200P=sum(group['PCTHH200P']*group['HH18']/total_HH)\n",
    "    agg_median=sum(group['Median_HH_Inc']*group['HH18']/total_HH)\n",
    "    \n",
    "    df_app=pd.DataFrame({\"ZIP_CODE\":zip_cd,\"Meidan_HH_Inc_agg\":agg_median,\"Pctg_HH_200P_agg\":agg_Pctg_HH_200P},index=[zip_cd])\n",
    "    \n",
    "    zip5_HH_Median_Inc=zip5_HH_Median_Inc.append(df_app)\n",
    "    \n",
    "    i=i+1\n",
    "    if i % 1000==10:\n",
    "        print(i,datetime.datetime.now())\n",
    "        logging.info(str(i)+\"|\"+str(datetime.datetime.now()))\n",
    "        gc.collect()\n",
    "    if i % 1000==100:\n",
    "        print(i,datetime.datetime.now())\n",
    "        logging.info(str(i)+\"|\"+str(datetime.datetime.now()))\n",
    "    "
   ]
  },
  {
   "cell_type": "code",
   "execution_count": 24,
   "metadata": {},
   "outputs": [
    {
     "data": {
      "text/plain": [
       "(14289, 3)"
      ]
     },
     "execution_count": 24,
     "metadata": {},
     "output_type": "execute_result"
    }
   ],
   "source": [
    "zip5_HH_Median_Inc.shape"
   ]
  },
  {
   "cell_type": "code",
   "execution_count": 25,
   "metadata": {},
   "outputs": [
    {
     "data": {
      "text/html": [
       "<div>\n",
       "<style>\n",
       "    .dataframe thead tr:only-child th {\n",
       "        text-align: right;\n",
       "    }\n",
       "\n",
       "    .dataframe thead th {\n",
       "        text-align: left;\n",
       "    }\n",
       "\n",
       "    .dataframe tbody tr th {\n",
       "        vertical-align: top;\n",
       "    }\n",
       "</style>\n",
       "<table border=\"1\" class=\"dataframe\">\n",
       "  <thead>\n",
       "    <tr style=\"text-align: right;\">\n",
       "      <th></th>\n",
       "      <th>Meidan_HH_Inc_agg</th>\n",
       "      <th>Pctg_HH_200P_agg</th>\n",
       "      <th>ZIP_CODE</th>\n",
       "    </tr>\n",
       "  </thead>\n",
       "  <tbody>\n",
       "    <tr>\n",
       "      <th>99133</th>\n",
       "      <td>46810.562602</td>\n",
       "      <td>3.715728</td>\n",
       "      <td>99133</td>\n",
       "    </tr>\n",
       "    <tr>\n",
       "      <th>99322</th>\n",
       "      <td>49071.046543</td>\n",
       "      <td>3.479920</td>\n",
       "      <td>99322</td>\n",
       "    </tr>\n",
       "    <tr>\n",
       "      <th>99350</th>\n",
       "      <td>62290.829562</td>\n",
       "      <td>4.673914</td>\n",
       "      <td>99350</td>\n",
       "    </tr>\n",
       "    <tr>\n",
       "      <th>99356</th>\n",
       "      <td>49137.184874</td>\n",
       "      <td>3.549220</td>\n",
       "      <td>99356</td>\n",
       "    </tr>\n",
       "  </tbody>\n",
       "</table>\n",
       "</div>"
      ],
      "text/plain": [
       "       Meidan_HH_Inc_agg  Pctg_HH_200P_agg ZIP_CODE\n",
       "99133       46810.562602          3.715728    99133\n",
       "99322       49071.046543          3.479920    99322\n",
       "99350       62290.829562          4.673914    99350\n",
       "99356       49137.184874          3.549220    99356"
      ]
     },
     "execution_count": 25,
     "metadata": {},
     "output_type": "execute_result"
    }
   ],
   "source": [
    "zip5_HH_Median_Inc.tail(4)"
   ]
  },
  {
   "cell_type": "code",
   "execution_count": null,
   "metadata": {
    "collapsed": true
   },
   "outputs": [],
   "source": []
  },
  {
   "cell_type": "code",
   "execution_count": 26,
   "metadata": {
    "collapsed": true
   },
   "outputs": [],
   "source": [
    "# Zip 5 level HH Inc >= $ 100K\n",
    "zip5_HH_Median_Inc_High=zip5_HH_Median_Inc[zip5_HH_Median_Inc['Meidan_HH_Inc_agg']>=100000]\n",
    "zip5_HH_Median_Inc_High=pd.merge(zip5_HH_Median_Inc_High,zip5_HH,on=\"ZIP_CODE\",how=\"left\")\n",
    "zip5_HH_Median_Inc_High['HH_200K_Plus']=zip5_HH_Median_Inc_High['HH18']*zip5_HH_Median_Inc_High['Pctg_HH_200P_agg']/100"
   ]
  },
  {
   "cell_type": "code",
   "execution_count": 27,
   "metadata": {
    "collapsed": true
   },
   "outputs": [],
   "source": [
    "unique_zip_city=pd.DataFrame()\n",
    "for zip_cd in zip5_HH_Median_Inc_High['ZIP_CODE'].unique().tolist():\n",
    "    if len(zipcodes.matching(zip_cd))>=1:\n",
    "        city=zipcodes.matching(zip_cd)[0]['city']\n",
    "        df=pd.DataFrame({\"ZIP_CODE\":zip_cd,\"city\":city},index=[zip_cd])\n",
    "        unique_zip_city=unique_zip_city.append(df)\n",
    "    else:\n",
    "        print(zip_cd)\n",
    "# No need to fill through google"
   ]
  },
  {
   "cell_type": "code",
   "execution_count": 28,
   "metadata": {
    "collapsed": true
   },
   "outputs": [],
   "source": [
    "zip5_HH_Median_Inc_High=pd.merge(zip5_HH_Median_Inc_High,unique_zip_city,on=\"ZIP_CODE\",how=\"left\")"
   ]
  },
  {
   "cell_type": "code",
   "execution_count": 29,
   "metadata": {},
   "outputs": [
    {
     "data": {
      "text/html": [
       "<div>\n",
       "<style>\n",
       "    .dataframe thead tr:only-child th {\n",
       "        text-align: right;\n",
       "    }\n",
       "\n",
       "    .dataframe thead th {\n",
       "        text-align: left;\n",
       "    }\n",
       "\n",
       "    .dataframe tbody tr th {\n",
       "        vertical-align: top;\n",
       "    }\n",
       "</style>\n",
       "<table border=\"1\" class=\"dataframe\">\n",
       "  <thead>\n",
       "    <tr style=\"text-align: right;\">\n",
       "      <th></th>\n",
       "      <th>Meidan_HH_Inc_agg</th>\n",
       "      <th>Pctg_HH_200P_agg</th>\n",
       "      <th>ZIP_CODE</th>\n",
       "      <th>DMA</th>\n",
       "      <th>state</th>\n",
       "      <th>HH18</th>\n",
       "      <th>HH_200K_Plus</th>\n",
       "      <th>city</th>\n",
       "    </tr>\n",
       "  </thead>\n",
       "  <tbody>\n",
       "    <tr>\n",
       "      <th>0</th>\n",
       "      <td>108650.138276</td>\n",
       "      <td>10.797574</td>\n",
       "      <td>01068</td>\n",
       "      <td>BOSTON (MANCHESTER)</td>\n",
       "      <td>MA</td>\n",
       "      <td>729.7</td>\n",
       "      <td>78.7899</td>\n",
       "      <td>OAKHAM</td>\n",
       "    </tr>\n",
       "    <tr>\n",
       "      <th>1</th>\n",
       "      <td>105144.696711</td>\n",
       "      <td>14.519488</td>\n",
       "      <td>01074</td>\n",
       "      <td>BOSTON (MANCHESTER)</td>\n",
       "      <td>MA</td>\n",
       "      <td>246.3</td>\n",
       "      <td>35.7615</td>\n",
       "      <td>SOUTH BARRE</td>\n",
       "    </tr>\n",
       "  </tbody>\n",
       "</table>\n",
       "</div>"
      ],
      "text/plain": [
       "   Meidan_HH_Inc_agg  Pctg_HH_200P_agg ZIP_CODE                  DMA state  \\\n",
       "0      108650.138276         10.797574    01068  BOSTON (MANCHESTER)    MA   \n",
       "1      105144.696711         14.519488    01074  BOSTON (MANCHESTER)    MA   \n",
       "\n",
       "    HH18  HH_200K_Plus         city  \n",
       "0  729.7       78.7899       OAKHAM  \n",
       "1  246.3       35.7615  SOUTH BARRE  "
      ]
     },
     "execution_count": 29,
     "metadata": {},
     "output_type": "execute_result"
    }
   ],
   "source": [
    "zip5_HH_Median_Inc_High.head(2)"
   ]
  },
  {
   "cell_type": "code",
   "execution_count": 30,
   "metadata": {
    "collapsed": true
   },
   "outputs": [],
   "source": [
    "zip5_HH_Median_Inc_High=zip5_HH_Median_Inc_High[['ZIP_CODE','DMA','city','state','HH18','Meidan_HH_Inc_agg','Pctg_HH_200P_agg','HH_200K_Plus']]"
   ]
  },
  {
   "cell_type": "code",
   "execution_count": 31,
   "metadata": {
    "collapsed": true
   },
   "outputs": [],
   "source": [
    "writer=pd.ExcelWriter(\"/home/jian/Projects/Saatva/High_Income_Zips_for_29_DMAs/Saatva_Zip5 Median HH Inc above 100K for 29 DMAs_JL_20180823.xlsx\",engine=\"xlsxwriter\")\n",
    "zip5_HH_Median_Inc_High.to_excel(writer,\"all_29_DMAs\",index=False)\n",
    "\n",
    "for dma in DMA_29:\n",
    "    df=zip5_HH_Median_Inc_High[zip5_HH_Median_Inc_High['DMA']==dma]\n",
    "    df.to_excel(writer,dma,index=False)\n"
   ]
  },
  {
   "cell_type": "code",
   "execution_count": 32,
   "metadata": {
    "collapsed": true
   },
   "outputs": [],
   "source": [
    "writer.save()"
   ]
  },
  {
   "cell_type": "code",
   "execution_count": null,
   "metadata": {
    "collapsed": true
   },
   "outputs": [],
   "source": []
  }
 ],
 "metadata": {
  "kernelspec": {
   "display_name": "Python 3",
   "language": "python",
   "name": "python3"
  },
  "language_info": {
   "codemirror_mode": {
    "name": "ipython",
    "version": 3
   },
   "file_extension": ".py",
   "mimetype": "text/x-python",
   "name": "python",
   "nbconvert_exporter": "python",
   "pygments_lexer": "ipython3",
   "version": "3.6.1"
  }
 },
 "nbformat": 4,
 "nbformat_minor": 2
}
