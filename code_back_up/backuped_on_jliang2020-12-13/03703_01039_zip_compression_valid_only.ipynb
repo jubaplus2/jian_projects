{
 "cells": [
  {
   "cell_type": "code",
   "execution_count": 4,
   "metadata": {},
   "outputs": [
    {
     "data": {
      "text/plain": [
       "'/home/jian/Projects/Big_Lots/Analysis/2019_Q2/Past_2_Years_Sales_by_zips'"
      ]
     },
     "execution_count": 4,
     "metadata": {},
     "output_type": "execute_result"
    }
   ],
   "source": [
    "import pandas as pd\n",
    "import os\n",
    "import numpy as np\n",
    "os.getcwd()"
   ]
  },
  {
   "cell_type": "code",
   "execution_count": 2,
   "metadata": {},
   "outputs": [
    {
     "name": "stdout",
     "output_type": "stream",
     "text": [
      "['Valid_Zip']\n"
     ]
    },
    {
     "data": {
      "text/plain": [
       "(2551531, 4)"
      ]
     },
     "execution_count": 2,
     "metadata": {},
     "output_type": "execute_result"
    }
   ],
   "source": [
    "df_valid_only=pd.read_csv(\"/home/jian/Projects/Big_Lots/Analysis/2019_Q2/Past_2_Years_Sales_by_zips/BL_sales_by_zip_valid_only_2_years_up_to_2019-07-21.csv\",dtype=str)\n",
    "\n",
    "print(df_valid_only['valid_zip'].unique())\n",
    "del df_valid_only['valid_zip']\n",
    "\n",
    "df_valid_only.shape"
   ]
  },
  {
   "cell_type": "code",
   "execution_count": 5,
   "metadata": {},
   "outputs": [],
   "source": [
    "df_valid_only['location_id']=df_valid_only['location_id'].astype(int)\n",
    "df_valid_only['sales']=df_valid_only['sales'].astype(float)\n",
    "df_valid_only['trans']=df_valid_only['trans'].astype(int)\n",
    "df_valid_only=df_valid_only.sort_values(['location_id','customer_zip_code','sales','trans'])\n",
    "df_valid_only['store_type']=np.where(df_valid_only['location_id']==6990,\"Ecommerce\",\"POS\")"
   ]
  },
  {
   "cell_type": "code",
   "execution_count": 8,
   "metadata": {},
   "outputs": [
    {
     "name": "stdout",
     "output_type": "stream",
     "text": [
      "(950133, 5)\n",
      "(899629, 5)\n",
      "(701769, 5)\n"
     ]
    }
   ],
   "source": [
    "df_valid_only_part_1=df_valid_only[df_valid_only['location_id']<=1670]\n",
    "df_valid_only_part_2=df_valid_only[(df_valid_only['location_id']>1670) & (df_valid_only['location_id']<=4585)]\n",
    "df_valid_only_part_3=df_valid_only[df_valid_only['location_id']>4585]\n",
    "\n",
    "print(df_valid_only_part_1.shape)\n",
    "print(df_valid_only_part_2.shape)\n",
    "print(df_valid_only_part_3.shape)\n"
   ]
  },
  {
   "cell_type": "code",
   "execution_count": 11,
   "metadata": {
    "collapsed": true
   },
   "outputs": [],
   "source": [
    "df_valid_only_part_1_min_store=str(df_valid_only_part_1['location_id'].min())\n",
    "df_valid_only_part_1_max_store=str(df_valid_only_part_1['location_id'].max())\n",
    "\n",
    "df_valid_only_part_2_min_store=str(df_valid_only_part_2['location_id'].min())\n",
    "df_valid_only_part_2_max_store=str(df_valid_only_part_2['location_id'].max())\n",
    "\n",
    "df_valid_only_part_3_min_store=str(df_valid_only_part_3['location_id'].min())\n",
    "df_valid_only_part_3_max_store=str(df_valid_only_part_3['location_id'].max())\n"
   ]
  },
  {
   "cell_type": "code",
   "execution_count": 18,
   "metadata": {},
   "outputs": [],
   "source": [
    "df_valid_only_part_1.to_csv(\"./BL_sales_by_store_valid_zip_2_years_up_to_2019-07-21_part1.csv\",index=False)\n",
    "df_valid_only_part_2.to_csv(\"./BL_sales_by_store_valid_zip_2_years_up_to_2019-07-21_part2.csv\",index=False)\n",
    "df_valid_only_part_3.to_csv(\"./BL_sales_by_store_valid_zip_2_years_up_to_2019-07-21_part3.csv\",index=False)"
   ]
  },
  {
   "cell_type": "code",
   "execution_count": null,
   "metadata": {
    "collapsed": true
   },
   "outputs": [],
   "source": []
  },
  {
   "cell_type": "code",
   "execution_count": null,
   "metadata": {
    "collapsed": true
   },
   "outputs": [],
   "source": []
  },
  {
   "cell_type": "markdown",
   "metadata": {},
   "source": [
    "# Total Sales by store"
   ]
  },
  {
   "cell_type": "code",
   "execution_count": 66,
   "metadata": {
    "collapsed": true
   },
   "outputs": [],
   "source": [
    "def recursive_file_gen(root_path):\n",
    "    for root_path, dirs, files in os.walk(root_path):\n",
    "        for file in files:\n",
    "            yield os.path.join(root_path,file)"
   ]
  },
  {
   "cell_type": "code",
   "execution_count": 67,
   "metadata": {},
   "outputs": [
    {
     "data": {
      "text/plain": [
       "datetime.timedelta(734)"
      ]
     },
     "execution_count": 67,
     "metadata": {},
     "output_type": "execute_result"
    }
   ],
   "source": [
    "# Start Sunday \"2017-07-16\" \n",
    "# End Saturday 2019-07-20\"\n",
    "import datetime\n",
    "datetime.date(2019,7,20)-datetime.date(2017,7,16)"
   ]
  },
  {
   "cell_type": "code",
   "execution_count": null,
   "metadata": {},
   "outputs": [],
   "source": []
  },
  {
   "cell_type": "code",
   "execution_count": 68,
   "metadata": {},
   "outputs": [
    {
     "name": "stdout",
     "output_type": "stream",
     "text": [
      "2017-07-22\n",
      "2017-09-02\n"
     ]
    }
   ],
   "source": [
    "# Sales 2017 May & 2017 June-Aug\n",
    "\n",
    "historical_sales_1=pd.read_table(\"/home/jian/BigLots/2017-05/MediaStorm Data Extract - Detail Store Sales May 2017.txt\",\n",
    "                                 sep=\"|\",dtype=str,usecols=['location_id','week_end_dt','gross_sales_amt','gross_transaction_cnt']).drop_duplicates()\n",
    "\n",
    "historical_sales_2=pd.read_table(\"/home/jian/BigLots/MediaStorm Data Extract June-August 2017/MediaStorm Data Extract - Detail Store Sales June-August 2017.txt\",\n",
    "                                 sep=\"|\",dtype=str,usecols=['location_id','week_end_dt','gross_sales_amt','gross_transaction_cnt']).drop_duplicates()\n",
    "historical_sales_2017=historical_sales_1.append(historical_sales_2)\n",
    "historical_sales_2017=historical_sales_2017[historical_sales_2017['week_end_dt']>=\"2017-07-16\" ]\n",
    "\n",
    "historical_sales_2017['gross_sales_amt']=historical_sales_2017['gross_sales_amt'].astype(float)\n",
    "historical_sales_2017['gross_transaction_cnt']=historical_sales_2017['gross_transaction_cnt'].astype(int)\n",
    "\n",
    "print(historical_sales_2017['week_end_dt'].min())\n",
    "print(historical_sales_2017['week_end_dt'].max())\n"
   ]
  },
  {
   "cell_type": "code",
   "execution_count": null,
   "metadata": {
    "collapsed": true
   },
   "outputs": [],
   "source": []
  },
  {
   "cell_type": "code",
   "execution_count": 69,
   "metadata": {},
   "outputs": [
    {
     "name": "stdout",
     "output_type": "stream",
     "text": [
      "17\n"
     ]
    }
   ],
   "source": [
    "# 2018-09-09 to 2017-12-30\n",
    "list_weekly_sales_2017=list(recursive_file_gen(\"/home/jian/BigLots/2017_by_weeks/\"))\n",
    "list_weekly_sales_2017=[x for x in list_weekly_sales_2017 if \"SalesWeekly\" in x]\n",
    "print(len(list_weekly_sales_2017))\n",
    "\n",
    "agg_sales_2017_weekly=pd.DataFrame()\n",
    "for file in list_weekly_sales_2017:\n",
    "    df=pd.read_table(file,sep=\"|\",usecols=['location_id','week_end_dt','gross_sales_amt','gross_transaction_cnt']).drop_duplicates()\n",
    "    agg_sales_2017_weekly=agg_sales_2017_weekly.append(df)\n",
    "    \n",
    "agg_sales_2017_weekly['gross_sales_amt']=agg_sales_2017_weekly['gross_sales_amt'].astype(float)\n",
    "agg_sales_2017_weekly['gross_transaction_cnt']=agg_sales_2017_weekly['gross_transaction_cnt'].astype(float)\n",
    "\n"
   ]
  },
  {
   "cell_type": "code",
   "execution_count": 70,
   "metadata": {},
   "outputs": [
    {
     "name": "stdout",
     "output_type": "stream",
     "text": [
      "2017-12-30\n",
      "2017-09-09\n"
     ]
    }
   ],
   "source": [
    "print(agg_sales_2017_weekly['week_end_dt'].max())\n",
    "print(agg_sales_2017_weekly['week_end_dt'].min())"
   ]
  },
  {
   "cell_type": "code",
   "execution_count": 71,
   "metadata": {},
   "outputs": [
    {
     "name": "stdout",
     "output_type": "stream",
     "text": [
      "52\n"
     ]
    }
   ],
   "source": [
    "# 2018-01-06 to 2018-12-29\n",
    "\n",
    "list_weekly_sales_2018=list(recursive_file_gen(\"/home/jian/BigLots/2018_by_weeks/\"))\n",
    "list_weekly_sales_2018=[x for x in list_weekly_sales_2018 if \"SalesWeekly\" in x]\n",
    "print(len(list_weekly_sales_2018))\n",
    "\n",
    "agg_sales_2018_weekly=pd.DataFrame()\n",
    "for file in list_weekly_sales_2018:\n",
    "    df=pd.read_table(file,sep=\"|\",usecols=['location_id','week_end_dt','gross_sales_amt','gross_transaction_cnt']).drop_duplicates()\n",
    "    agg_sales_2018_weekly=agg_sales_2018_weekly.append(df)\n",
    "    \n",
    "agg_sales_2018_weekly['gross_sales_amt']=agg_sales_2018_weekly['gross_sales_amt'].astype(float)\n",
    "agg_sales_2018_weekly['gross_transaction_cnt']=agg_sales_2018_weekly['gross_transaction_cnt'].astype(float)\n"
   ]
  },
  {
   "cell_type": "code",
   "execution_count": 72,
   "metadata": {},
   "outputs": [
    {
     "name": "stdout",
     "output_type": "stream",
     "text": [
      "2018-12-29\n",
      "2018-01-06\n"
     ]
    }
   ],
   "source": [
    "print(agg_sales_2018_weekly['week_end_dt'].max())\n",
    "print(agg_sales_2018_weekly['week_end_dt'].min())"
   ]
  },
  {
   "cell_type": "code",
   "execution_count": 73,
   "metadata": {},
   "outputs": [
    {
     "name": "stdout",
     "output_type": "stream",
     "text": [
      "29\n"
     ]
    }
   ],
   "source": [
    "# 2019-01-05 to 2019-07-20\n",
    "list_weekly_sales_2019=list(recursive_file_gen(\"/home/jian/BigLots/2019_by_weeks/\"))\n",
    "list_weekly_sales_2019=[x for x in list_weekly_sales_2019 if \"SalesWeekly\" in x]\n",
    "print(len(list_weekly_sales_2019))\n",
    "\n",
    "agg_sales_2019_weekly=pd.DataFrame()\n",
    "for file in list_weekly_sales_2019:\n",
    "    df=pd.read_table(file,sep=\"|\",usecols=['location_id','week_end_dt','gross_sales_amt','gross_transaction_cnt']).drop_duplicates()\n",
    "    agg_sales_2019_weekly=agg_sales_2019_weekly.append(df)\n",
    "    \n",
    "agg_sales_2019_weekly['gross_sales_amt']=agg_sales_2019_weekly['gross_sales_amt'].astype(float)\n",
    "agg_sales_2019_weekly['gross_transaction_cnt']=agg_sales_2019_weekly['gross_transaction_cnt'].astype(int)"
   ]
  },
  {
   "cell_type": "code",
   "execution_count": 74,
   "metadata": {},
   "outputs": [
    {
     "name": "stdout",
     "output_type": "stream",
     "text": [
      "2019-07-20\n",
      "2019-01-05\n"
     ]
    }
   ],
   "source": [
    "print(agg_sales_2019_weekly['week_end_dt'].max())\n",
    "print(agg_sales_2019_weekly['week_end_dt'].min())"
   ]
  },
  {
   "cell_type": "code",
   "execution_count": 75,
   "metadata": {
    "collapsed": true
   },
   "outputs": [],
   "source": [
    "sales_all_by_store=historical_sales_2017.append(agg_sales_2017_weekly).append(agg_sales_2018_weekly).append(agg_sales_2019_weekly)"
   ]
  },
  {
   "cell_type": "code",
   "execution_count": 76,
   "metadata": {},
   "outputs": [
    {
     "data": {
      "text/plain": [
       "(148430, 4)"
      ]
     },
     "execution_count": 76,
     "metadata": {},
     "output_type": "execute_result"
    }
   ],
   "source": [
    "sales_all_by_store.shape"
   ]
  },
  {
   "cell_type": "code",
   "execution_count": 77,
   "metadata": {},
   "outputs": [
    {
     "name": "stdout",
     "output_type": "stream",
     "text": [
      "[1]\n",
      "105\n"
     ]
    }
   ],
   "source": [
    "df_check=sales_all_by_store.groupby(['location_id','week_end_dt'])['gross_sales_amt'].count().to_frame().reset_index()\n",
    "print(df_check['gross_sales_amt'].unique().tolist())\n",
    "print(df_check['week_end_dt'].nunique())\n"
   ]
  },
  {
   "cell_type": "code",
   "execution_count": 78,
   "metadata": {},
   "outputs": [],
   "source": [
    "sales_all_by_store['location_id']=sales_all_by_store['location_id'].astype(int)\n",
    "sales_all_by_store['gross_sales_amt']=sales_all_by_store['gross_sales_amt'].astype(float)\n",
    "sales_all_by_store['gross_transaction_cnt']=sales_all_by_store['gross_transaction_cnt'].astype(float)\n",
    "\n",
    "sales_all_by_store['store_type']=np.where(sales_all_by_store['location_id']==6990,\"Ecommerce\",\"POS\")\n",
    "\n",
    "sales_all_by_store=sales_all_by_store.sort_values([\"location_id\",'week_end_dt'])\n"
   ]
  },
  {
   "cell_type": "code",
   "execution_count": 79,
   "metadata": {},
   "outputs": [
    {
     "data": {
      "text/plain": [
       "'2019-07-20'"
      ]
     },
     "execution_count": 79,
     "metadata": {},
     "output_type": "execute_result"
    }
   ],
   "source": [
    "sales_all_by_store['week_end_dt'].max()"
   ]
  },
  {
   "cell_type": "code",
   "execution_count": 80,
   "metadata": {
    "collapsed": true
   },
   "outputs": [],
   "source": [
    "sales_all_by_store.to_csv(\"./BL_sales_by_store_20170716_20190720_part3.csv\",index=False)\n",
    "\n"
   ]
  },
  {
   "cell_type": "code",
   "execution_count": null,
   "metadata": {
    "collapsed": true
   },
   "outputs": [],
   "source": []
  }
 ],
 "metadata": {
  "kernelspec": {
   "display_name": "Python 3",
   "language": "python",
   "name": "python3"
  },
  "language_info": {
   "codemirror_mode": {
    "name": "ipython",
    "version": 3
   },
   "file_extension": ".py",
   "mimetype": "text/x-python",
   "name": "python",
   "nbconvert_exporter": "python",
   "pygments_lexer": "ipython3",
   "version": "3.6.1"
  }
 },
 "nbformat": 4,
 "nbformat_minor": 2
}
