{
 "cells": [
  {
   "cell_type": "code",
   "execution_count": 1,
   "metadata": {},
   "outputs": [
    {
     "name": "stdout",
     "output_type": "stream",
     "text": [
      "/home/jian/Projects/Big_Lots/Predictive_Model/LR_Mapping_File\n",
      "2020-05-28 12:17:41.029728\n"
     ]
    }
   ],
   "source": [
    "import paramiko\n",
    "import datetime\n",
    "import pandas as pd\n",
    "import numpy as np\n",
    "import os\n",
    "\n",
    "print(os.getcwd())\n",
    "print(datetime.datetime.now())"
   ]
  },
  {
   "cell_type": "code",
   "execution_count": 3,
   "metadata": {},
   "outputs": [],
   "source": [
    "host_66 = \"66.55.157.58\" #hard-coded\n",
    "port_66 = 22\n",
    "transport_66 = paramiko.Transport((host_66, port_66))\n",
    "\n",
    "password_66 = \"jubaplus2019\" #hard-coded\n",
    "username_66 = \"jian\" #hard-coded\n",
    "transport_66.connect(username = username_66, password = password_66)\n",
    "sftp_66 = paramiko.SFTPClient.from_transport(transport_66)"
   ]
  },
  {
   "cell_type": "code",
   "execution_count": 4,
   "metadata": {},
   "outputs": [
    {
     "data": {
      "text/html": [
       "<div>\n",
       "<style scoped>\n",
       "    .dataframe tbody tr th:only-of-type {\n",
       "        vertical-align: middle;\n",
       "    }\n",
       "\n",
       "    .dataframe tbody tr th {\n",
       "        vertical-align: top;\n",
       "    }\n",
       "\n",
       "    .dataframe thead th {\n",
       "        text-align: right;\n",
       "    }\n",
       "</style>\n",
       "<table border=\"1\" class=\"dataframe\">\n",
       "  <thead>\n",
       "    <tr style=\"text-align: right;\">\n",
       "      <th></th>\n",
       "      <th>remote_base_name</th>\n",
       "      <th>Quarter</th>\n",
       "      <th>remote_mt_time</th>\n",
       "    </tr>\n",
       "  </thead>\n",
       "  <tbody>\n",
       "    <tr>\n",
       "      <th>0</th>\n",
       "      <td>CL_BigLots_BL_mapping_file_2020Q1_JL_2020-05-1...</td>\n",
       "      <td>2020Q1</td>\n",
       "      <td>1589630340</td>\n",
       "    </tr>\n",
       "  </tbody>\n",
       "</table>\n",
       "</div>"
      ],
      "text/plain": [
       "                                    remote_base_name Quarter  remote_mt_time\n",
       "0  CL_BigLots_BL_mapping_file_2020Q1_JL_2020-05-1...  2020Q1      1589630340"
      ]
     },
     "execution_count": 4,
     "metadata": {},
     "output_type": "execute_result"
    }
   ],
   "source": [
    "folder_remote_66_others=\"/data/jian/BL_LR_download/others/\"\n",
    "list_mappings=sftp_66.listdir(folder_remote_66_others)\n",
    "list_mappings=[x for x in list_mappings if \"mapping\" in x]\n",
    "df_remote_mapping=pd.DataFrame({\"remote_base_name\":list_mappings},index=[0]*len(list_mappings))\n",
    "df_remote_mapping['Quarter']=df_remote_mapping['remote_base_name'].apply(lambda x: x.split(\"_mapping_file_\")[1][:6])\n",
    "df_remote_mapping['remote_mt_time']=df_remote_mapping['remote_base_name'].apply(lambda x: sftp_66.stat(folder_remote_66_others+x).st_mtime)\n",
    "df_remote_mapping=df_remote_mapping.sort_values([\"remote_base_name\",\"remote_mt_time\"],ascending=[False,False])\n",
    "df_remote_mapping=df_remote_mapping.drop_duplicates(\"Quarter\")\n",
    "df_remote_mapping"
   ]
  },
  {
   "cell_type": "code",
   "execution_count": 5,
   "metadata": {},
   "outputs": [
    {
     "data": {
      "text/plain": [
       "set()"
      ]
     },
     "execution_count": 5,
     "metadata": {},
     "output_type": "execute_result"
    }
   ],
   "source": [
    "quarters_already_copied=os.listdir(\"./\")\n",
    "quarters_already_copied=[x for x in quarters_already_copied if \"_mapping_file_\" in x]\n",
    "quarters_already_copied=[x.split(\"_mapping_file_\")[1][:6] for x in quarters_already_copied]\n",
    "quarters_already_copied=set(quarters_already_copied)\n",
    "quarters_already_copied"
   ]
  },
  {
   "cell_type": "code",
   "execution_count": 6,
   "metadata": {},
   "outputs": [
    {
     "data": {
      "text/html": [
       "<div>\n",
       "<style scoped>\n",
       "    .dataframe tbody tr th:only-of-type {\n",
       "        vertical-align: middle;\n",
       "    }\n",
       "\n",
       "    .dataframe tbody tr th {\n",
       "        vertical-align: top;\n",
       "    }\n",
       "\n",
       "    .dataframe thead th {\n",
       "        text-align: right;\n",
       "    }\n",
       "</style>\n",
       "<table border=\"1\" class=\"dataframe\">\n",
       "  <thead>\n",
       "    <tr style=\"text-align: right;\">\n",
       "      <th></th>\n",
       "      <th>remote_base_name</th>\n",
       "      <th>Quarter</th>\n",
       "      <th>remote_mt_time</th>\n",
       "    </tr>\n",
       "  </thead>\n",
       "  <tbody>\n",
       "    <tr>\n",
       "      <th>0</th>\n",
       "      <td>CL_BigLots_BL_mapping_file_2020Q1_JL_2020-05-1...</td>\n",
       "      <td>2020Q1</td>\n",
       "      <td>1589630340</td>\n",
       "    </tr>\n",
       "  </tbody>\n",
       "</table>\n",
       "</div>"
      ],
      "text/plain": [
       "                                    remote_base_name Quarter  remote_mt_time\n",
       "0  CL_BigLots_BL_mapping_file_2020Q1_JL_2020-05-1...  2020Q1      1589630340"
      ]
     },
     "execution_count": 6,
     "metadata": {},
     "output_type": "execute_result"
    }
   ],
   "source": [
    "df_remote_mapping=df_remote_mapping[~df_remote_mapping['Quarter'].isin(quarters_already_copied)]\n",
    "df_remote_mapping"
   ]
  },
  {
   "cell_type": "code",
   "execution_count": 7,
   "metadata": {},
   "outputs": [
    {
     "data": {
      "text/plain": [
       "'CL_BigLots_BL_mapping_file_2020Q1_JL_2020-05-13_20200514_172449_0000.psv.gz'"
      ]
     },
     "execution_count": 7,
     "metadata": {},
     "output_type": "execute_result"
    }
   ],
   "source": [
    "df_remote_mapping['remote_base_name'][0]"
   ]
  },
  {
   "cell_type": "code",
   "execution_count": 8,
   "metadata": {},
   "outputs": [],
   "source": [
    "df_remote_mapping=df_remote_mapping.drop_duplicates(\"Quarter\")"
   ]
  },
  {
   "cell_type": "code",
   "execution_count": null,
   "metadata": {},
   "outputs": [],
   "source": []
  }
 ],
 "metadata": {
  "kernelspec": {
   "display_name": "Python 3",
   "language": "python",
   "name": "python3"
  },
  "language_info": {
   "codemirror_mode": {
    "name": "ipython",
    "version": 3
   },
   "file_extension": ".py",
   "mimetype": "text/x-python",
   "name": "python",
   "nbconvert_exporter": "python",
   "pygments_lexer": "ipython3",
   "version": "3.6.1"
  }
 },
 "nbformat": 4,
 "nbformat_minor": 2
}
