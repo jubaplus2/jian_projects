{
 "cells": [
  {
   "cell_type": "code",
   "execution_count": 17,
   "metadata": {
    "collapsed": true
   },
   "outputs": [],
   "source": [
    "import pandas as pd\n",
    "import numpy as np\n"
   ]
  },
  {
   "cell_type": "code",
   "execution_count": 18,
   "metadata": {
    "collapsed": true
   },
   "outputs": [],
   "source": [
    "df_2016 = pd.read_csv(\"/home/jian/Projects/Big_Lots/LB_Daily_Data/MediaStormDailySales2016-08-21-2016-08-27.txt\",sep = '|',dtype = 'str')\n",
    "df_2017 = pd.read_csv(\"/home/jian/Projects/Big_Lots/LB_Daily_Data/MediaStormDailySales2017-08-20-2017-08-26.txt\",sep = '|',dtype = 'str')"
   ]
  },
  {
   "cell_type": "code",
   "execution_count": 19,
   "metadata": {},
   "outputs": [],
   "source": [
    "df_2016['gross_transaction_cnt']=df_2016['gross_transaction_cnt'].astype(int)\n",
    "df_2016['class_gross_sales_amt']=df_2016['class_gross_sales_amt'].astype(float)\n",
    "df_2016['location_id']=df_2016['location_id'].astype(int)\n",
    "df_2017['gross_transaction_cnt']=df_2017['gross_transaction_cnt'].astype(int)\n",
    "df_2017['class_gross_sales_amt']=df_2017['class_gross_sales_amt'].astype(float)\n",
    "df_2017['location_id']=df_2017['location_id'].astype(int)"
   ]
  },
  {
   "cell_type": "code",
   "execution_count": 20,
   "metadata": {},
   "outputs": [],
   "source": [
    "df_2016_agg=df_2016.groupby([\"location_id\",\"transaction_dt\"])['gross_transaction_cnt','class_gross_sales_amt'].sum()\n",
    "df_2016_agg.reset_index(inplace=True)\n",
    "df_2016_sales_wide=df_2016_agg[['location_id','transaction_dt','class_gross_sales_amt']].pivot('location_id','transaction_dt','class_gross_sales_amt')\n",
    "df_2016_trans_wide=df_2016_agg[['location_id','transaction_dt','gross_transaction_cnt']].pivot('location_id','transaction_dt','gross_transaction_cnt')\n",
    "df_2016_sales_wide.reset_index(inplace=True)\n",
    "df_2016_trans_wide.reset_index(inplace=True)"
   ]
  },
  {
   "cell_type": "code",
   "execution_count": 21,
   "metadata": {},
   "outputs": [],
   "source": [
    "df_2017_agg=df_2017.groupby([\"location_id\",\"transaction_dt\"])['gross_transaction_cnt','class_gross_sales_amt'].sum()\n",
    "df_2017_agg.reset_index(inplace=True)\n",
    "df_2017_sales_wide=df_2017_agg[['location_id','transaction_dt','class_gross_sales_amt']].pivot('location_id','transaction_dt','class_gross_sales_amt')\n",
    "df_2017_trans_wide=df_2017_agg[['location_id','transaction_dt','gross_transaction_cnt']].pivot('location_id','transaction_dt','gross_transaction_cnt')\n",
    "df_2017_sales_wide.reset_index(inplace=True)\n",
    "df_2017_trans_wide.reset_index(inplace=True)"
   ]
  },
  {
   "cell_type": "code",
   "execution_count": 22,
   "metadata": {},
   "outputs": [],
   "source": [
    "writer=pd.ExcelWriter('/home/jian/Projects/Big_Lots/LB_Daily_Data/Labor Daily Sales Data.xlsx', engine='xlsxwriter')"
   ]
  },
  {
   "cell_type": "code",
   "execution_count": 23,
   "metadata": {},
   "outputs": [],
   "source": [
    "df_2016_sales_wide.to_excel(writer,\"Sales_2016\",index=False)\n",
    "df_2017_sales_wide.to_excel(writer,\"Sales_2017\",index=False)\n",
    "df_2016_trans_wide.to_excel(writer,\"Transaction_2016\",index=False)\n",
    "df_2017_trans_wide.to_excel(writer,\"Transaction_2017\",index=False)\n",
    "\n",
    "writer.save()"
   ]
  },
  {
   "cell_type": "code",
   "execution_count": null,
   "metadata": {
    "collapsed": true
   },
   "outputs": [],
   "source": []
  }
 ],
 "metadata": {
  "kernelspec": {
   "display_name": "Python 3",
   "language": "python",
   "name": "python3"
  },
  "language_info": {
   "codemirror_mode": {
    "name": "ipython",
    "version": 3
   },
   "file_extension": ".py",
   "mimetype": "text/x-python",
   "name": "python",
   "nbconvert_exporter": "python",
   "pygments_lexer": "ipython3",
   "version": "3.6.1"
  }
 },
 "nbformat": 4,
 "nbformat_minor": 2
}
