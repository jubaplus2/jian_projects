{
 "cells": [
  {
   "cell_type": "code",
   "execution_count": 18,
   "metadata": {
    "collapsed": true
   },
   "outputs": [],
   "source": [
    "import pandas as pd\n",
    "import datetime\n",
    "import numpy as np"
   ]
  },
  {
   "cell_type": "code",
   "execution_count": 19,
   "metadata": {},
   "outputs": [
    {
     "name": "stdout",
     "output_type": "stream",
     "text": [
      "['-']\n"
     ]
    }
   ],
   "source": [
    "df=pd.read_csv(\"./sales_data.csv\",dtype=str)\n",
    "df['date']=df['date_time'].apply(lambda x: x.split(\" \")[0])\n",
    "df['time']=df['date_time'].apply(lambda x: x.split(\" \")[1])\n",
    "\n",
    "df['order_id']=np.nan\n",
    "df=df.rename(columns={\"shipping zipcode\":\"zipcode\"})\n",
    "df['zipcode']=df['zipcode'].apply(lambda x: x.split(\"-\")[0].split(\" \")[0].zfill(5))\n",
    "df=df.rename(columns={\"sales\":\"product_revenue\"})\n",
    "df['online/phone?']=np.nan\n",
    "\n",
    "print(df['date'].apply(lambda x: x[4]).unique())\n",
    "df_2018=df[df['date'].apply(lambda x: x.split(\"-\")[0])==\"2018\"]\n",
    "\n",
    "df=df[['order_id','date','time','zipcode','product_revenue','online/phone?','brand','date']]\n",
    "df_2018=df_2018[['order_id','date','time','zipcode','product_revenue','online/phone?','brand','date']]"
   ]
  },
  {
   "cell_type": "code",
   "execution_count": 20,
   "metadata": {},
   "outputs": [],
   "source": [
    "df.to_csv(\"./sales_data_JL_\"+str(datetime.datetime.now().date())+\".csv\",index=False)\n",
    "df_2018.to_csv(\"./sales_data_2018_only_JL_\"+str(datetime.datetime.now().date())+\".csv\",index=False)"
   ]
  },
  {
   "cell_type": "code",
   "execution_count": null,
   "metadata": {
    "collapsed": true
   },
   "outputs": [],
   "source": []
  }
 ],
 "metadata": {
  "kernelspec": {
   "display_name": "Python 3",
   "language": "python",
   "name": "python3"
  },
  "language_info": {
   "codemirror_mode": {
    "name": "ipython",
    "version": 3
   },
   "file_extension": ".py",
   "mimetype": "text/x-python",
   "name": "python",
   "nbconvert_exporter": "python",
   "pygments_lexer": "ipython3",
   "version": "3.6.1"
  }
 },
 "nbformat": 4,
 "nbformat_minor": 2
}
