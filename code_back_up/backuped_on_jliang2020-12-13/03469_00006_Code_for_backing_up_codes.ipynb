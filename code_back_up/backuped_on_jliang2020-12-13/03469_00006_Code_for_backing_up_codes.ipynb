{
 "cells": [
  {
   "cell_type": "code",
   "execution_count": 1,
   "metadata": {
    "collapsed": true
   },
   "outputs": [],
   "source": [
    "import os\n",
    "from shutil import copyfile\n",
    "from os.path import basename\n",
    "import json\n",
    "import datetime\n",
    "my_root_dir='/home/jian/'\n",
    "\n",
    "new_back_up_folder=\"/home/jian/code_back_up/backuped_on_\"+str(datetime.datetime.now().date())+\"/\"\n",
    "try:\n",
    "    os.stat(new_back_up_folder)\n",
    "except:\n",
    "    os.mkdir(new_back_up_folder)"
   ]
  },
  {
   "cell_type": "code",
   "execution_count": 2,
   "metadata": {
    "collapsed": true
   },
   "outputs": [],
   "source": [
    "def recursive_file_gen(my_root_dir):\n",
    "    for root, dirs, files in os.walk(my_root_dir):\n",
    "        for file in files:\n",
    "            yield os.path.join(root, file)\n",
    "            \n",
    "list_ipynb=[x for x in list(recursive_file_gen(my_root_dir)) if \".ipynb\" in x]\n",
    "list_py=[x for x in list(recursive_file_gen(my_root_dir)) if \".py\" in x]\n",
    "\n",
    "all_codes=list_ipynb+list_py"
   ]
  },
  {
   "cell_type": "code",
   "execution_count": 3,
   "metadata": {
    "collapsed": true
   },
   "outputs": [],
   "source": [
    "counter_id=1\n",
    "json_dict_original_codes={}\n",
    "for src_file in all_codes:\n",
    "    base_name=basename(src_file)\n",
    "    new_base_name=str(counter_id).zfill(4)+\"_\"+base_name\n",
    "    json_dict_original_codes.update({new_base_name:src_file})\n",
    "    counter_id+=1\n",
    "    copyfile(src_file, new_back_up_folder+new_base_name)\n"
   ]
  },
  {
   "cell_type": "code",
   "execution_count": 4,
   "metadata": {
    "collapsed": true
   },
   "outputs": [],
   "source": [
    "with open(new_back_up_folder+'original_code_path_dict.json', 'w') as outfile:\n",
    "     json.dump(json_dict_original_codes, outfile)"
   ]
  },
  {
   "cell_type": "code",
   "execution_count": null,
   "metadata": {
    "collapsed": true
   },
   "outputs": [],
   "source": []
  }
 ],
 "metadata": {
  "kernelspec": {
   "display_name": "Python 3",
   "language": "python",
   "name": "python3"
  },
  "language_info": {
   "codemirror_mode": {
    "name": "ipython",
    "version": 3
   },
   "file_extension": ".py",
   "mimetype": "text/x-python",
   "name": "python",
   "nbconvert_exporter": "python",
   "pygments_lexer": "ipython3",
   "version": "3.6.1"
  }
 },
 "nbformat": 4,
 "nbformat_minor": 2
}
