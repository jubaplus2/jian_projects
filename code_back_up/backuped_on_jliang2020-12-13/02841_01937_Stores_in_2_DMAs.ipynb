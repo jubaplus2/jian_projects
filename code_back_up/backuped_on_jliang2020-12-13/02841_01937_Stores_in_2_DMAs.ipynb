{
 "cells": [
  {
   "cell_type": "code",
   "execution_count": 1,
   "metadata": {
    "collapsed": true
   },
   "outputs": [],
   "source": [
    "import pandas as pd\n"
   ]
  },
  {
   "cell_type": "code",
   "execution_count": 2,
   "metadata": {
    "collapsed": true
   },
   "outputs": [],
   "source": [
    "zips_Jay=pd.read_csv(\"/home/jian/SunnyD/Walmart_Kroger_Publix/Jay_3_brands_zip_within_10mile.csv\",dtype=str)"
   ]
  },
  {
   "cell_type": "code",
   "execution_count": 3,
   "metadata": {},
   "outputs": [
    {
     "data": {
      "text/html": [
       "<div>\n",
       "<style>\n",
       "    .dataframe thead tr:only-child th {\n",
       "        text-align: right;\n",
       "    }\n",
       "\n",
       "    .dataframe thead th {\n",
       "        text-align: left;\n",
       "    }\n",
       "\n",
       "    .dataframe tbody tr th {\n",
       "        vertical-align: top;\n",
       "    }\n",
       "</style>\n",
       "<table border=\"1\" class=\"dataframe\">\n",
       "  <thead>\n",
       "    <tr style=\"text-align: right;\">\n",
       "      <th></th>\n",
       "      <th>store_id</th>\n",
       "      <th>zip_code</th>\n",
       "      <th>lat</th>\n",
       "      <th>lng</th>\n",
       "      <th>zip_within_10_mile</th>\n",
       "      <th>number_of_dma</th>\n",
       "      <th>dma</th>\n",
       "      <th>dma2</th>\n",
       "      <th>dma3</th>\n",
       "    </tr>\n",
       "  </thead>\n",
       "  <tbody>\n",
       "    <tr>\n",
       "      <th>0</th>\n",
       "      <td>walmart_2071</td>\n",
       "      <td>99515</td>\n",
       "      <td>61.14022809999999</td>\n",
       "      <td>-149.8699692</td>\n",
       "      <td>['99519', '99518', '99515', '99514', '99517', ...</td>\n",
       "      <td>1</td>\n",
       "      <td>ANCHORAGE</td>\n",
       "      <td>NaN</td>\n",
       "      <td>NaN</td>\n",
       "    </tr>\n",
       "    <tr>\n",
       "      <th>1</th>\n",
       "      <td>walmart_2188</td>\n",
       "      <td>99577</td>\n",
       "      <td>61.3090716</td>\n",
       "      <td>-149.53553019999995</td>\n",
       "      <td>['99577', '99505', '99521', '99567']</td>\n",
       "      <td>1</td>\n",
       "      <td>ANCHORAGE</td>\n",
       "      <td>NaN</td>\n",
       "      <td>NaN</td>\n",
       "    </tr>\n",
       "  </tbody>\n",
       "</table>\n",
       "</div>"
      ],
      "text/plain": [
       "       store_id zip_code                lat                  lng  \\\n",
       "0  walmart_2071    99515  61.14022809999999         -149.8699692   \n",
       "1  walmart_2188    99577         61.3090716  -149.53553019999995   \n",
       "\n",
       "                                  zip_within_10_mile number_of_dma        dma  \\\n",
       "0  ['99519', '99518', '99515', '99514', '99517', ...             1  ANCHORAGE   \n",
       "1               ['99577', '99505', '99521', '99567']             1  ANCHORAGE   \n",
       "\n",
       "  dma2 dma3  \n",
       "0  NaN  NaN  \n",
       "1  NaN  NaN  "
      ]
     },
     "execution_count": 3,
     "metadata": {},
     "output_type": "execute_result"
    }
   ],
   "source": [
    "zips_Jay.head(2)"
   ]
  },
  {
   "cell_type": "code",
   "execution_count": 4,
   "metadata": {
    "collapsed": true
   },
   "outputs": [],
   "source": [
    "DMA_zip=pd.read_excel(\"/home/jian/Docs/Geo_mapping/Zips by DMA by County16-17 nielsen.xlsx\",dtype=str,skiprows=1)\n",
    "DMA_zip=DMA_zip.iloc[:,[0,2]]\n",
    "DMA_zip.columns=['zip_code','DMA']\n",
    "DMA_zip_Dallas=DMA_zip[DMA_zip['DMA']=='DALLAS-FT. WORTH'].drop_duplicates()\n",
    "DMA_zip_Mobile=DMA_zip[DMA_zip['DMA']=='MOBILE-PENSACOLA (FT WALT)'].drop_duplicates()"
   ]
  },
  {
   "cell_type": "code",
   "execution_count": 5,
   "metadata": {},
   "outputs": [
    {
     "name": "stderr",
     "output_type": "stream",
     "text": [
      "/usr/local/lib/python3.6/site-packages/ipykernel_launcher.py:2: SettingWithCopyWarning: \n",
      "A value is trying to be set on a copy of a slice from a DataFrame.\n",
      "Try using .loc[row_indexer,col_indexer] = value instead\n",
      "\n",
      "See the caveats in the documentation: http://pandas.pydata.org/pandas-docs/stable/indexing.html#indexing-view-versus-copy\n",
      "  \n",
      "/usr/local/lib/python3.6/site-packages/ipykernel_launcher.py:4: SettingWithCopyWarning: \n",
      "A value is trying to be set on a copy of a slice from a DataFrame.\n",
      "Try using .loc[row_indexer,col_indexer] = value instead\n",
      "\n",
      "See the caveats in the documentation: http://pandas.pydata.org/pandas-docs/stable/indexing.html#indexing-view-versus-copy\n",
      "  after removing the cwd from sys.path.\n"
     ]
    }
   ],
   "source": [
    "zips_Jay_Dallas=zips_Jay[zips_Jay['zip_code'].isin(DMA_zip_Dallas['zip_code'])]\n",
    "zips_Jay_Dallas['DMA']='DALLAS-FT. WORTH'\n",
    "zips_Jay_Mobile=zips_Jay[zips_Jay['zip_code'].isin(DMA_zip_Mobile['zip_code'])]\n",
    "zips_Jay_Mobile['DMA']='MOBILE-PENSACOLA (FT WALT)'\n"
   ]
  },
  {
   "cell_type": "code",
   "execution_count": 7,
   "metadata": {},
   "outputs": [
    {
     "data": {
      "text/plain": [
       "588"
      ]
     },
     "execution_count": 7,
     "metadata": {},
     "output_type": "execute_result"
    }
   ],
   "source": [
    "len(DMA_zip_Dallas['zip_code'].unique())"
   ]
  },
  {
   "cell_type": "code",
   "execution_count": 7,
   "metadata": {
    "collapsed": true
   },
   "outputs": [],
   "source": [
    "def get_stores(df_input):\n",
    "    df=df_input[['store_id','DMA','zip_within_10_mile']]\n",
    "    df=df.reset_index()\n",
    "    del df['index']\n",
    "    \n",
    "    df['brand']=df['store_id'].apply(lambda x: x.split(\"_\")[0])\n",
    "    df_agg=df.groupby(['brand','DMA'])['store_id'].count().to_frame().reset_index()\n",
    "    df_agg=df_agg.rename(columns={\"store_id\":\"store_count\"})\n",
    "    return df_agg"
   ]
  },
  {
   "cell_type": "code",
   "execution_count": 8,
   "metadata": {
    "collapsed": true
   },
   "outputs": [],
   "source": [
    "store_Dallas=get_stores(zips_Jay_Dallas)\n",
    "store_Mobile=get_stores(zips_Jay_Mobile)\n"
   ]
  },
  {
   "cell_type": "code",
   "execution_count": 9,
   "metadata": {
    "collapsed": true
   },
   "outputs": [],
   "source": [
    "def get_zips(df_input):\n",
    "    result=pd.DataFrame()\n",
    "    df=df_input[['store_id','DMA','zip_within_10_mile']]\n",
    "    df=df.reset_index()\n",
    "    del df['index']\n",
    "    df['zip_within_10_mile']=df['zip_within_10_mile'].apply(lambda x: x[1: len(x)-1].replace(\"'\",''))\n",
    "    df['zip_within_10_mile']=df['zip_within_10_mile'].apply(lambda x: x.replace(\" \",''))\n",
    "    \n",
    "    for i in range(len(df)):\n",
    "        zip_list=df['zip_within_10_mile'][i].split(',')\n",
    "        df_zip_app=pd.DataFrame({\"zip\":zip_list,\"DMA\":[df['DMA'][0]]*len(zip_list),\"Store_id\":[df['store_id'][i]]*len(zip_list)},index=range(len(zip_list)))\n",
    "        result=result.append(df_zip_app)\n",
    "    result['brand']=result['Store_id'].apply(lambda x: x.split(\"_\")[0])\n",
    "    result['zip']=result['zip'].apply(lambda x: x.zfill(5))\n",
    "    return result"
   ]
  },
  {
   "cell_type": "code",
   "execution_count": 10,
   "metadata": {
    "collapsed": true
   },
   "outputs": [],
   "source": [
    "zip_Dallas=get_zips(zips_Jay_Dallas)\n",
    "zip_Mobile=get_zips(zips_Jay_Mobile)\n",
    "\n",
    "unique_zips_Dallas=zip_Dallas[['DMA','zip']].drop_duplicates()\n",
    "unique_zips_Mobile=zip_Mobile[['DMA','zip']].drop_duplicates()"
   ]
  },
  {
   "cell_type": "code",
   "execution_count": 11,
   "metadata": {
    "collapsed": true
   },
   "outputs": [],
   "source": [
    "writer=pd.ExcelWriter(\"/home/jian/SunnyD/Walmart_Kroger_Publix/SunnyD_zips_and_stores_in_Dallas_and_Mobile_DMA.xlsx\",engine=\"xlsxwriter\")\n",
    "store_Dallas.to_excel(writer,'Dallas_store_counts',index=False)\n",
    "store_Mobile.to_excel(writer,'Mobile_store_counts',index=False)\n",
    "\n",
    "unique_zips_Dallas.to_excel(writer,'unique_zips_Dallas',index=False)\n",
    "unique_zips_Mobile.to_excel(writer,'unique_zips_Mobile',index=False)\n",
    "\n",
    "zip_Dallas.to_excel(writer,'zips_by_store_Dallas',index=False)\n",
    "zip_Mobile.to_excel(writer,'zips_by_store_Mobile',index=False)\n",
    "writer.save()"
   ]
  },
  {
   "cell_type": "code",
   "execution_count": null,
   "metadata": {
    "collapsed": true
   },
   "outputs": [],
   "source": []
  },
  {
   "cell_type": "code",
   "execution_count": null,
   "metadata": {
    "collapsed": true
   },
   "outputs": [],
   "source": []
  }
 ],
 "metadata": {
  "kernelspec": {
   "display_name": "Python 3",
   "language": "python",
   "name": "python3"
  },
  "language_info": {
   "codemirror_mode": {
    "name": "ipython",
    "version": 3
   },
   "file_extension": ".py",
   "mimetype": "text/x-python",
   "name": "python",
   "nbconvert_exporter": "python",
   "pygments_lexer": "ipython3",
   "version": "3.6.1"
  }
 },
 "nbformat": 4,
 "nbformat_minor": 2
}
