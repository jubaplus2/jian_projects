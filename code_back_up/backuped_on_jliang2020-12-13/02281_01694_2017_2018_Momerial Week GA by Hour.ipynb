{
 "cells": [
  {
   "cell_type": "code",
   "execution_count": 2,
   "metadata": {
    "collapsed": true
   },
   "outputs": [],
   "source": [
    "# _Memorial_Day 2017: 5/25/17-5/30/17 + 5/18/18-5/23/17\n",
    "# _Memorial_Day 2018: 5/24/18-5/29/18 + 5/17/18-5/22/18\n",
    "import pandas as pd\n",
    "import numpy as np\n",
    "import datetime\n",
    "import pandas as pd\n",
    "from googleads import adwords\n",
    "import google_analytics_reporting_api as ga\n",
    "import os\n",
    "\n",
    "week=\"_Memorial_Day_GA\" # 2017 Spring\n",
    "\n",
    "Start_Date_overall_2017='2017-05-11'\n",
    "End_Data_overall_2017='2017-05-31'\n",
    "\n",
    "Start_Date_1_2017='2017-05-11'\n",
    "End_Date_1_2017='2017-05-21'\n",
    "\n",
    "Start_Date_2_2017='2017-05-22'\n",
    "End_Date_2_2017='2017-05-31'\n",
    "\n",
    "\n",
    "today_str=str(datetime.datetime.now().date())\n",
    "writer_folder=\"/home/jian/Projects/Saatva/To_Lexie_and_Connor/output/running_on_\"+today_str+\"/\"\n",
    "try:\n",
    "    os.stat(writer_folder)\n",
    "except:\n",
    "    os.mkdir(writer_folder)\n",
    "\n",
    "writer_folder=\"/home/jian/Projects/Saatva/To_Lexie_and_Connor/output/running_on_\"+today_str+\"/\"+week[1:]+\"/\"\n",
    "try:\n",
    "    os.stat(writer_folder)\n",
    "except:\n",
    "    os.mkdir(writer_folder)"
   ]
  },
  {
   "cell_type": "code",
   "execution_count": null,
   "metadata": {
    "collapsed": true
   },
   "outputs": [],
   "source": [
    "analytics = ga.initialize_analyticsreporting('/home/jian/Projects/Saatva/GA/GA_api_jubapluscc@gmail.com.json')\n",
    "\n",
    "def num_func_trans(df):\n",
    "    if 'ga:sessions' in df.columns:\n",
    "        df['ga:sessions']=df['ga:sessions'].apply(lambda x: int(x.replace(\",\",\"\")))\n",
    "        df['ga:sessions']=df['ga:sessions'].astype(int)\n",
    "\n",
    "    if 'ga:adClicks' in df.columns:\n",
    "        df['ga:adClicks']=df['ga:adClicks'].apply(lambda x: int(x.replace(\",\",\"\")))\n",
    "        df['ga:adClicks']=df['ga:adClicks'].astype(int)\n",
    "\n",
    "    if 'ga:impressions' in df.columns:\n",
    "        df['ga:impressions']=df['ga:impressions'].apply(lambda x: int(x.replace(\",\",\"\")))\n",
    "        df['ga:impressions']=df['ga:impressions'].astype(int)\n",
    "    \n",
    "    if 'ga:transactions' in df.columns:\n",
    "        df['ga:transactions']=df['ga:transactions'].apply(lambda x: int(x.replace(\",\",\"\")))\n",
    "        df['ga:transactions']=df['ga:transactions'].astype(int)\n",
    "    \n",
    "    if 'ga:transactionRevenue' in df.columns:\n",
    "        df['ga:transactionRevenue']=df['ga:transactionRevenue'].apply(lambda x: float(x.replace(\",\",\"\")))\n",
    "        df['ga:transactionRevenue']=df['ga:transactionRevenue'].astype(float)\n",
    "\n",
    "    \n",
    "    return df\n"
   ]
  },
  {
   "cell_type": "code",
   "execution_count": null,
   "metadata": {
    "collapsed": true
   },
   "outputs": [],
   "source": []
  },
  {
   "cell_type": "code",
   "execution_count": null,
   "metadata": {
    "collapsed": true
   },
   "outputs": [],
   "source": []
  },
  {
   "cell_type": "code",
   "execution_count": null,
   "metadata": {
    "collapsed": true
   },
   "outputs": [],
   "source": []
  }
 ],
 "metadata": {
  "kernelspec": {
   "display_name": "Python 3",
   "language": "python",
   "name": "python3"
  },
  "language_info": {
   "codemirror_mode": {
    "name": "ipython",
    "version": 3
   },
   "file_extension": ".py",
   "mimetype": "text/x-python",
   "name": "python",
   "nbconvert_exporter": "python",
   "pygments_lexer": "ipython3",
   "version": "3.6.1"
  }
 },
 "nbformat": 4,
 "nbformat_minor": 2
}
