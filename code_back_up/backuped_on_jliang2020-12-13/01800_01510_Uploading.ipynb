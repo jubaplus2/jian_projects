{
 "cells": [
  {
   "cell_type": "code",
   "execution_count": 1,
   "metadata": {},
   "outputs": [
    {
     "data": {
      "text/plain": [
       "'/home/jian/Projects/Big_Lots/Live_Ramp/Quarterly_Update_2019Q2/Final_Uploaded'"
      ]
     },
     "execution_count": 1,
     "metadata": {},
     "output_type": "execute_result"
    }
   ],
   "source": [
    "import paramiko\n",
    "import os\n",
    "import glob\n",
    "import pandas as pd\n",
    "os.getcwd()\n",
    "\n"
   ]
  },
  {
   "cell_type": "code",
   "execution_count": 2,
   "metadata": {},
   "outputs": [
    {
     "data": {
      "text/plain": [
       "50"
      ]
     },
     "execution_count": 2,
     "metadata": {},
     "output_type": "execute_result"
    }
   ],
   "source": [
    "files_to_be_uploaded=glob.glob(\"/home/jian/Projects/Big_Lots/Live_Ramp/Quarterly_Update_2019Q2/output_final_20190422/Test_and_Control/uploaded/*.csv\")\n",
    "len(files_to_be_uploaded)\n"
   ]
  },
  {
   "cell_type": "code",
   "execution_count": 3,
   "metadata": {},
   "outputs": [
    {
     "data": {
      "text/html": [
       "<div>\n",
       "<style>\n",
       "    .dataframe thead tr:only-child th {\n",
       "        text-align: right;\n",
       "    }\n",
       "\n",
       "    .dataframe thead th {\n",
       "        text-align: left;\n",
       "    }\n",
       "\n",
       "    .dataframe tbody tr th {\n",
       "        vertical-align: top;\n",
       "    }\n",
       "</style>\n",
       "<table border=\"1\" class=\"dataframe\">\n",
       "  <thead>\n",
       "    <tr style=\"text-align: right;\">\n",
       "      <th></th>\n",
       "      <th>customer_id_hashed</th>\n",
       "      <th>email_address_hash</th>\n",
       "      <th>segment</th>\n",
       "    </tr>\n",
       "  </thead>\n",
       "  <tbody>\n",
       "    <tr>\n",
       "      <th>0</th>\n",
       "      <td>51ce14856c1e1eae5156bc18e4bd2a63d8412462aab055...</td>\n",
       "      <td>80318c3f741c9a0cc18b19a500113b3e0dff9b9f5cc7e0...</td>\n",
       "      <td>T_Quadrant III_P_H_2019Q2_RFM</td>\n",
       "    </tr>\n",
       "    <tr>\n",
       "      <th>1</th>\n",
       "      <td>580dd10a059dadb652bf9da7391ef49590d1019428dc2e...</td>\n",
       "      <td>8c3335c9ec1496e33f13f1222e6764b621afa554feb1a5...</td>\n",
       "      <td>T_Quadrant III_P_H_2019Q2_RFM</td>\n",
       "    </tr>\n",
       "    <tr>\n",
       "      <th>2</th>\n",
       "      <td>9fe7543c74aadb2f8c2889d45ab9b406489a9436c098c1...</td>\n",
       "      <td>82f9a05e4f75783d5079397966bdca9cf71d83329d71e1...</td>\n",
       "      <td>T_Quadrant III_P_H_2019Q2_RFM</td>\n",
       "    </tr>\n",
       "    <tr>\n",
       "      <th>3</th>\n",
       "      <td>c5f55af0dce7ff2dbae6da4f74af7bec3e1a7a9a50e381...</td>\n",
       "      <td>a7432c3fc4774db8ad90791cfaf3f501d432ec1307d5f4...</td>\n",
       "      <td>T_Quadrant III_P_H_2019Q2_RFM</td>\n",
       "    </tr>\n",
       "    <tr>\n",
       "      <th>4</th>\n",
       "      <td>70d6f0bdd3447f8ebb0f3df9c8345669bbc712698accb1...</td>\n",
       "      <td>d063101beda033ea6311263e89e82cf136a7d1dd4cc430...</td>\n",
       "      <td>T_Quadrant III_P_H_2019Q2_RFM</td>\n",
       "    </tr>\n",
       "    <tr>\n",
       "      <th>5</th>\n",
       "      <td>f93d8ba330c8fd830a37aff5e67796ecd61040683329de...</td>\n",
       "      <td>26ac139358cec22ede9bd7003f76eb15bb32f895e28aae...</td>\n",
       "      <td>T_Quadrant III_P_H_2019Q2_RFM</td>\n",
       "    </tr>\n",
       "    <tr>\n",
       "      <th>6</th>\n",
       "      <td>66104ce5704fd3a0ce04d3237f41228cc7bd5625f8649b...</td>\n",
       "      <td>0db3da738705a79f9f748e2b2a1307774cfa74dc5bfcf8...</td>\n",
       "      <td>T_Quadrant III_P_H_2019Q2_RFM</td>\n",
       "    </tr>\n",
       "    <tr>\n",
       "      <th>7</th>\n",
       "      <td>774c92a93ab5c3d6d2c24e44d25938b8d1b46d2df03de7...</td>\n",
       "      <td>00293ffbb160975cb258a6b85c18e12522ec1927417ef5...</td>\n",
       "      <td>T_Quadrant III_P_H_2019Q2_RFM</td>\n",
       "    </tr>\n",
       "    <tr>\n",
       "      <th>8</th>\n",
       "      <td>7244e0e3bda2e60dbcbfef98aebf36262649e3093080e2...</td>\n",
       "      <td>557dea61ae9c6a7c541cdc3b6c5439316ad93b00461176...</td>\n",
       "      <td>T_Quadrant III_P_H_2019Q2_RFM</td>\n",
       "    </tr>\n",
       "    <tr>\n",
       "      <th>9</th>\n",
       "      <td>7343b92baec7e5db6eddeaca4847aed187cd5556b92729...</td>\n",
       "      <td>a45f26cdf0273b3d784932125ee5ea6f0060f58f3bbf8d...</td>\n",
       "      <td>T_Quadrant III_P_H_2019Q2_RFM</td>\n",
       "    </tr>\n",
       "  </tbody>\n",
       "</table>\n",
       "</div>"
      ],
      "text/plain": [
       "                                  customer_id_hashed  \\\n",
       "0  51ce14856c1e1eae5156bc18e4bd2a63d8412462aab055...   \n",
       "1  580dd10a059dadb652bf9da7391ef49590d1019428dc2e...   \n",
       "2  9fe7543c74aadb2f8c2889d45ab9b406489a9436c098c1...   \n",
       "3  c5f55af0dce7ff2dbae6da4f74af7bec3e1a7a9a50e381...   \n",
       "4  70d6f0bdd3447f8ebb0f3df9c8345669bbc712698accb1...   \n",
       "5  f93d8ba330c8fd830a37aff5e67796ecd61040683329de...   \n",
       "6  66104ce5704fd3a0ce04d3237f41228cc7bd5625f8649b...   \n",
       "7  774c92a93ab5c3d6d2c24e44d25938b8d1b46d2df03de7...   \n",
       "8  7244e0e3bda2e60dbcbfef98aebf36262649e3093080e2...   \n",
       "9  7343b92baec7e5db6eddeaca4847aed187cd5556b92729...   \n",
       "\n",
       "                                  email_address_hash  \\\n",
       "0  80318c3f741c9a0cc18b19a500113b3e0dff9b9f5cc7e0...   \n",
       "1  8c3335c9ec1496e33f13f1222e6764b621afa554feb1a5...   \n",
       "2  82f9a05e4f75783d5079397966bdca9cf71d83329d71e1...   \n",
       "3  a7432c3fc4774db8ad90791cfaf3f501d432ec1307d5f4...   \n",
       "4  d063101beda033ea6311263e89e82cf136a7d1dd4cc430...   \n",
       "5  26ac139358cec22ede9bd7003f76eb15bb32f895e28aae...   \n",
       "6  0db3da738705a79f9f748e2b2a1307774cfa74dc5bfcf8...   \n",
       "7  00293ffbb160975cb258a6b85c18e12522ec1927417ef5...   \n",
       "8  557dea61ae9c6a7c541cdc3b6c5439316ad93b00461176...   \n",
       "9  a45f26cdf0273b3d784932125ee5ea6f0060f58f3bbf8d...   \n",
       "\n",
       "                         segment  \n",
       "0  T_Quadrant III_P_H_2019Q2_RFM  \n",
       "1  T_Quadrant III_P_H_2019Q2_RFM  \n",
       "2  T_Quadrant III_P_H_2019Q2_RFM  \n",
       "3  T_Quadrant III_P_H_2019Q2_RFM  \n",
       "4  T_Quadrant III_P_H_2019Q2_RFM  \n",
       "5  T_Quadrant III_P_H_2019Q2_RFM  \n",
       "6  T_Quadrant III_P_H_2019Q2_RFM  \n",
       "7  T_Quadrant III_P_H_2019Q2_RFM  \n",
       "8  T_Quadrant III_P_H_2019Q2_RFM  \n",
       "9  T_Quadrant III_P_H_2019Q2_RFM  "
      ]
     },
     "execution_count": 3,
     "metadata": {},
     "output_type": "execute_result"
    }
   ],
   "source": [
    "pd.read_csv(files_to_be_uploaded[0],nrows=10,dtype=str)"
   ]
  },
  {
   "cell_type": "code",
   "execution_count": 4,
   "metadata": {},
   "outputs": [
    {
     "data": {
      "text/html": [
       "<div>\n",
       "<style>\n",
       "    .dataframe thead tr:only-child th {\n",
       "        text-align: right;\n",
       "    }\n",
       "\n",
       "    .dataframe thead th {\n",
       "        text-align: left;\n",
       "    }\n",
       "\n",
       "    .dataframe tbody tr th {\n",
       "        vertical-align: top;\n",
       "    }\n",
       "</style>\n",
       "<table border=\"1\" class=\"dataframe\">\n",
       "  <thead>\n",
       "    <tr style=\"text-align: right;\">\n",
       "      <th></th>\n",
       "      <th>customer_id_hashed</th>\n",
       "      <th>email_address_hash</th>\n",
       "      <th>segment</th>\n",
       "    </tr>\n",
       "  </thead>\n",
       "  <tbody>\n",
       "    <tr>\n",
       "      <th>0</th>\n",
       "      <td>6ff5acd31d94eea5d1617b80088fcd744a064deedff239...</td>\n",
       "      <td>a4c870d86004b7f5a3a6aefc5d9f9f253c3ff3e8a0dd4e...</td>\n",
       "      <td>C_PL18_P_L_2019Q2</td>\n",
       "    </tr>\n",
       "    <tr>\n",
       "      <th>1</th>\n",
       "      <td>3a5e962e357c989c41fcfcb890fc9cad99380ddc3dc420...</td>\n",
       "      <td>dc39690e525e5ab71dac41e5d662049f1dc76e797db337...</td>\n",
       "      <td>C_PL18_P_L_2019Q2</td>\n",
       "    </tr>\n",
       "    <tr>\n",
       "      <th>2</th>\n",
       "      <td>c5d2a1b98c973cad0ea963ce2ad8e8f4f0b6bfa454c9b5...</td>\n",
       "      <td>c837bd96cf59193b69a0fab9c34553223835d25b95cd93...</td>\n",
       "      <td>C_PL18_P_L_2019Q2</td>\n",
       "    </tr>\n",
       "    <tr>\n",
       "      <th>3</th>\n",
       "      <td>e4e9083dbefb1619308463f00bbdb9a0461bf6697a38d6...</td>\n",
       "      <td>c4546ec3163f336135a88bff55c3e7ffeaed4a2ddbea52...</td>\n",
       "      <td>C_PL18_P_L_2019Q2</td>\n",
       "    </tr>\n",
       "    <tr>\n",
       "      <th>4</th>\n",
       "      <td>83204c5a9938b6b1cac49948d6eb579e0621e885def917...</td>\n",
       "      <td>ae5054c6b02ddb6146e7cd03c548e2a710c8e67b6f31e1...</td>\n",
       "      <td>C_PL18_P_L_2019Q2</td>\n",
       "    </tr>\n",
       "    <tr>\n",
       "      <th>5</th>\n",
       "      <td>3eec99cd782cb4513af57aa17c1ac836a244030fb71bc3...</td>\n",
       "      <td>b262ac0afb23c451b0a6ca09bd15795131d397c94d6d5b...</td>\n",
       "      <td>C_PL18_P_L_2019Q2</td>\n",
       "    </tr>\n",
       "    <tr>\n",
       "      <th>6</th>\n",
       "      <td>86cb29689865749954c9152f25e1ae447495438727aabb...</td>\n",
       "      <td>a192f921f4899305a80aea3064303f9906cb60f1dac148...</td>\n",
       "      <td>C_PL18_P_L_2019Q2</td>\n",
       "    </tr>\n",
       "    <tr>\n",
       "      <th>7</th>\n",
       "      <td>5f1d0b49ca9cfbdcc48eba0de6c0fe57cb75de562f9a6b...</td>\n",
       "      <td>684fa7c098a33625295fe135074d95105cdb4aa26fb736...</td>\n",
       "      <td>C_PL18_P_L_2019Q2</td>\n",
       "    </tr>\n",
       "    <tr>\n",
       "      <th>8</th>\n",
       "      <td>6adb778981ede42594679f45c4d5f3cc9aee83f5e94523...</td>\n",
       "      <td>0911890358bad16b8946e8aa35a240219d85bcbde8865c...</td>\n",
       "      <td>C_PL18_P_L_2019Q2</td>\n",
       "    </tr>\n",
       "    <tr>\n",
       "      <th>9</th>\n",
       "      <td>f766cdb8ae22613ca5bd992e4e52dc543c4d36839a27bb...</td>\n",
       "      <td>57284d28f9b238d5803b5cb00e1c9bddff464c32194e89...</td>\n",
       "      <td>C_PL18_P_L_2019Q2</td>\n",
       "    </tr>\n",
       "  </tbody>\n",
       "</table>\n",
       "</div>"
      ],
      "text/plain": [
       "                                  customer_id_hashed  \\\n",
       "0  6ff5acd31d94eea5d1617b80088fcd744a064deedff239...   \n",
       "1  3a5e962e357c989c41fcfcb890fc9cad99380ddc3dc420...   \n",
       "2  c5d2a1b98c973cad0ea963ce2ad8e8f4f0b6bfa454c9b5...   \n",
       "3  e4e9083dbefb1619308463f00bbdb9a0461bf6697a38d6...   \n",
       "4  83204c5a9938b6b1cac49948d6eb579e0621e885def917...   \n",
       "5  3eec99cd782cb4513af57aa17c1ac836a244030fb71bc3...   \n",
       "6  86cb29689865749954c9152f25e1ae447495438727aabb...   \n",
       "7  5f1d0b49ca9cfbdcc48eba0de6c0fe57cb75de562f9a6b...   \n",
       "8  6adb778981ede42594679f45c4d5f3cc9aee83f5e94523...   \n",
       "9  f766cdb8ae22613ca5bd992e4e52dc543c4d36839a27bb...   \n",
       "\n",
       "                                  email_address_hash            segment  \n",
       "0  a4c870d86004b7f5a3a6aefc5d9f9f253c3ff3e8a0dd4e...  C_PL18_P_L_2019Q2  \n",
       "1  dc39690e525e5ab71dac41e5d662049f1dc76e797db337...  C_PL18_P_L_2019Q2  \n",
       "2  c837bd96cf59193b69a0fab9c34553223835d25b95cd93...  C_PL18_P_L_2019Q2  \n",
       "3  c4546ec3163f336135a88bff55c3e7ffeaed4a2ddbea52...  C_PL18_P_L_2019Q2  \n",
       "4  ae5054c6b02ddb6146e7cd03c548e2a710c8e67b6f31e1...  C_PL18_P_L_2019Q2  \n",
       "5  b262ac0afb23c451b0a6ca09bd15795131d397c94d6d5b...  C_PL18_P_L_2019Q2  \n",
       "6  a192f921f4899305a80aea3064303f9906cb60f1dac148...  C_PL18_P_L_2019Q2  \n",
       "7  684fa7c098a33625295fe135074d95105cdb4aa26fb736...  C_PL18_P_L_2019Q2  \n",
       "8  0911890358bad16b8946e8aa35a240219d85bcbde8865c...  C_PL18_P_L_2019Q2  \n",
       "9  57284d28f9b238d5803b5cb00e1c9bddff464c32194e89...  C_PL18_P_L_2019Q2  "
      ]
     },
     "execution_count": 4,
     "metadata": {},
     "output_type": "execute_result"
    }
   ],
   "source": [
    "pd.read_csv(\"/home/jian/Projects/Big_Lots/Live_Ramp/Quarterly_Update_2019Q2/output_final_20190422/Test_and_Control/uploaded/C_PL18_P_L_2019Q2.csv\",nrows=10,dtype=str)"
   ]
  },
  {
   "cell_type": "code",
   "execution_count": 5,
   "metadata": {},
   "outputs": [
    {
     "data": {
      "text/plain": [
       "'/home/jian/Projects/Big_Lots/Live_Ramp/Quarterly_Update_2019Q2/output_final_20190422/Test_and_Control/uploaded/T_Quadrant_III_P_H_2019Q2_RFM.csv'"
      ]
     },
     "execution_count": 5,
     "metadata": {},
     "output_type": "execute_result"
    }
   ],
   "source": [
    "files_to_be_uploaded[0]"
   ]
  },
  {
   "cell_type": "code",
   "execution_count": 6,
   "metadata": {},
   "outputs": [
    {
     "data": {
      "text/plain": [
       "'T_Quadrant_III_P_H_2019Q2_RFM.csv'"
      ]
     },
     "execution_count": 6,
     "metadata": {},
     "output_type": "execute_result"
    }
   ],
   "source": [
    "os.path.basename(files_to_be_uploaded[0])"
   ]
  },
  {
   "cell_type": "code",
   "execution_count": 7,
   "metadata": {
    "collapsed": true
   },
   "outputs": [],
   "source": [
    "host = \"sftp.liveramp.com\"\n",
    "port = 22\n",
    "password = \"Biglots2018!\"\n",
    "username = \"lr-big-lots\"\n",
    "\n",
    "transport = paramiko.Transport((host, port))\n",
    "\n",
    "transport.connect(username = username, password = password)\n",
    "sftp = paramiko.SFTPClient.from_transport(transport)\n",
    "\n",
    "\n",
    "for local_path in files_to_be_uploaded:\n",
    "    remote_path=\"/uploads/big_lots_onboarding/\"+os.path.basename(local_path)\n",
    "    sftp.put(local_path,remote_path)\n",
    "sftp.close()"
   ]
  },
  {
   "cell_type": "code",
   "execution_count": null,
   "metadata": {
    "collapsed": true
   },
   "outputs": [],
   "source": []
  }
 ],
 "metadata": {
  "kernelspec": {
   "display_name": "Python 3",
   "language": "python",
   "name": "python3"
  },
  "language_info": {
   "codemirror_mode": {
    "name": "ipython",
    "version": 3
   },
   "file_extension": ".py",
   "mimetype": "text/x-python",
   "name": "python",
   "nbconvert_exporter": "python",
   "pygments_lexer": "ipython3",
   "version": "3.6.1"
  }
 },
 "nbformat": 4,
 "nbformat_minor": 2
}
