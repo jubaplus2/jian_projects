{
 "cells": [
  {
   "cell_type": "code",
   "execution_count": 12,
   "metadata": {
    "collapsed": true
   },
   "outputs": [],
   "source": [
    "import pandas as pd\n",
    "import numpy as np\n",
    "import paramiko\n",
    "import os\n",
    "import hashlib"
   ]
  },
  {
   "cell_type": "code",
   "execution_count": 5,
   "metadata": {},
   "outputs": [
    {
     "data": {
      "text/plain": [
       "'/home/jian/Projects/Smoothie_King/Loyalty_Data'"
      ]
     },
     "execution_count": 5,
     "metadata": {},
     "output_type": "execute_result"
    }
   ],
   "source": [
    "import os\n",
    "os.getcwd()"
   ]
  },
  {
   "cell_type": "code",
   "execution_count": 2,
   "metadata": {
    "collapsed": true
   },
   "outputs": [],
   "source": [
    "# SK Client Access\n",
    "\n",
    "host = \"64.237.51.251\" \n",
    "port = 22\n",
    "transport = paramiko.Transport((host, port))\n",
    "\n",
    "account_SK=\"SmoothieKing\"\n",
    "pwd_SK=\"j$uY_e~23#[:9Zz6\"\n",
    "\n",
    "transport.connect(username = account_SK, password = pwd_SK)\n",
    "sftp = paramiko.SFTPClient.from_transport(transport)"
   ]
  },
  {
   "cell_type": "code",
   "execution_count": 4,
   "metadata": {},
   "outputs": [],
   "source": [
    "all_file_list=sftp.listdir(\"/mnt/drv5/SmoothieKing\")\n",
    "loyalty_users_file=\"/mnt/drv5/SmoothieKing/\"+'LoyaltyUser_103018.txt'"
   ]
  },
  {
   "cell_type": "code",
   "execution_count": 6,
   "metadata": {
    "collapsed": true
   },
   "outputs": [],
   "source": [
    "remote_path=loyalty_users_file\n",
    "local_path_storelist='/home/jian/Projects/Smoothie_King/Loyalty_Data/'+'LoyaltyUser_103018.txt'\n",
    "sftp.get(remote_path,local_path_storelist)\n",
    "sftp.close()"
   ]
  },
  {
   "cell_type": "code",
   "execution_count": 35,
   "metadata": {},
   "outputs": [],
   "source": [
    "df=pd.read_csv('/home/jian/Projects/Smoothie_King/Loyalty_Data/First party-phone/ForUpload/SmoothieKing_MobilePhone_PII.csv',dtype=str)\n",
    "df['phone']=df['phone'].apply(lambda x: hashlib.sha256(x.encode('UTF-8')).hexdigest())\n",
    "df.to_csv('/home/jian/Projects/Smoothie_King/Loyalty_Data/First party-phone/ForUpload/SmoothieKing_MobilePhone_PII_hashed.csv',index=False)\n"
   ]
  },
  {
   "cell_type": "code",
   "execution_count": 36,
   "metadata": {},
   "outputs": [],
   "source": [
    "def hask_non_na(x):\n",
    "    if x==\"nan\":\n",
    "        y=np.nan\n",
    "    else:\n",
    "        y=hashlib.sha256(x.encode('UTF-8')).hexdigest()\n",
    "    return y\n",
    "    "
   ]
  },
  {
   "cell_type": "code",
   "execution_count": 39,
   "metadata": {},
   "outputs": [],
   "source": [
    "df=pd.read_excel('/home/jian/Projects/Smoothie_King/Loyalty_Data/First party-phone/SK Corporate Export 10-10-18.xlsx',dtype=str)\n",
    "df['Cell']=df['Cell'].apply(lambda x: hask_non_na(x))\n",
    "df['Email']=df['Email'].apply(lambda x: hask_non_na(x))\n",
    "writer=pd.ExcelWriter('/home/jian/Projects/Smoothie_King/Loyalty_Data/First party-phone/SK Corporate Export 10-10-18_Hashed.xlsx',engine=\"xlsxwriter\")\n",
    "df.to_excel(writer,index=False)\n",
    "writer.save()"
   ]
  },
  {
   "cell_type": "code",
   "execution_count": null,
   "metadata": {
    "collapsed": true
   },
   "outputs": [],
   "source": []
  },
  {
   "cell_type": "code",
   "execution_count": null,
   "metadata": {
    "collapsed": true
   },
   "outputs": [],
   "source": []
  }
 ],
 "metadata": {
  "kernelspec": {
   "display_name": "Python 3",
   "language": "python",
   "name": "python3"
  },
  "language_info": {
   "codemirror_mode": {
    "name": "ipython",
    "version": 3
   },
   "file_extension": ".py",
   "mimetype": "text/x-python",
   "name": "python",
   "nbconvert_exporter": "python",
   "pygments_lexer": "ipython3",
   "version": "3.6.1"
  }
 },
 "nbformat": 4,
 "nbformat_minor": 2
}
