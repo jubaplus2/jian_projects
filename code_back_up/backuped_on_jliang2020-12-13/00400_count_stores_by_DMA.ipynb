{
 "cells": [
  {
   "cell_type": "code",
   "execution_count": 1,
   "metadata": {},
   "outputs": [
    {
     "name": "stdout",
     "output_type": "stream",
     "text": [
      "2020-03-11 11:23:33.834664\n",
      "/home/jian/Projects/Big_Lots/Analysis/2020_Q1/plannder_requests/Gianna_DMA_of_stores_20200311\n"
     ]
    }
   ],
   "source": [
    "import pandas as pd\n",
    "import numpy as np\n",
    "import datetime\n",
    "import os\n",
    "\n",
    "print(datetime.datetime.now())\n",
    "print(os.getcwd())"
   ]
  },
  {
   "cell_type": "code",
   "execution_count": 2,
   "metadata": {},
   "outputs": [],
   "source": [
    "df_DMA_zip=pd.read_excel(\"/home/jian/Docs/Geo_mapping/Zips by DMA by County16-17 nielsen.xlsx\",dtype=str,usecols=[0,2],skiprows=1)\n",
    "df_DMA_zip.columns=['zip_cd','DMA']\n",
    "df_DMA_zip=df_DMA_zip.drop_duplicates()\n",
    "df_DMA_list_by_zip=df_DMA_zip.groupby(\"zip_cd\")['DMA'].apply(list).to_frame().reset_index()"
   ]
  },
  {
   "cell_type": "code",
   "execution_count": 3,
   "metadata": {},
   "outputs": [
    {
     "data": {
      "text/html": [
       "<div>\n",
       "<style scoped>\n",
       "    .dataframe tbody tr th:only-of-type {\n",
       "        vertical-align: middle;\n",
       "    }\n",
       "\n",
       "    .dataframe tbody tr th {\n",
       "        vertical-align: top;\n",
       "    }\n",
       "\n",
       "    .dataframe thead th {\n",
       "        text-align: right;\n",
       "    }\n",
       "</style>\n",
       "<table border=\"1\" class=\"dataframe\">\n",
       "  <thead>\n",
       "    <tr style=\"text-align: right;\">\n",
       "      <th></th>\n",
       "      <th>location_id</th>\n",
       "      <th>zip_cd</th>\n",
       "      <th>DMA</th>\n",
       "    </tr>\n",
       "  </thead>\n",
       "  <tbody>\n",
       "    <tr>\n",
       "      <th>0</th>\n",
       "      <td>3</td>\n",
       "      <td>30906</td>\n",
       "      <td>[AUGUSTA-AIKEN]</td>\n",
       "    </tr>\n",
       "    <tr>\n",
       "      <th>1</th>\n",
       "      <td>30</td>\n",
       "      <td>43402</td>\n",
       "      <td>[TOLEDO]</td>\n",
       "    </tr>\n",
       "    <tr>\n",
       "      <th>2</th>\n",
       "      <td>42</td>\n",
       "      <td>45662</td>\n",
       "      <td>[CHARLESTON-HUNTINGTON]</td>\n",
       "    </tr>\n",
       "    <tr>\n",
       "      <th>3</th>\n",
       "      <td>45</td>\n",
       "      <td>43616</td>\n",
       "      <td>[TOLEDO]</td>\n",
       "    </tr>\n",
       "  </tbody>\n",
       "</table>\n",
       "</div>"
      ],
      "text/plain": [
       "  location_id zip_cd                      DMA\n",
       "0           3  30906          [AUGUSTA-AIKEN]\n",
       "1          30  43402                 [TOLEDO]\n",
       "2          42  45662  [CHARLESTON-HUNTINGTON]\n",
       "3          45  43616                 [TOLEDO]"
      ]
     },
     "execution_count": 3,
     "metadata": {},
     "output_type": "execute_result"
    }
   ],
   "source": [
    "df_store_list=pd.read_table(\"/home/jian/BigLots/static_files/Store_list/MediaStormStores20200301-134228-900.txt\",\n",
    "                           dtype=str,sep=\"|\")\n",
    "df_store_list=df_store_list[['location_id','zip_cd']]\n",
    "df_store_list=df_store_list[~df_store_list['location_id'].isin(['145','6990'])]\n",
    "df_store_list['zip_cd']=df_store_list['zip_cd'].apply(lambda x: x.split(\"-\")[0].zfill(5))\n",
    "df_store_list_output=pd.merge(df_store_list,df_DMA_list_by_zip,on=\"zip_cd\",how=\"left\")\n",
    "df_store_list_output.head(4)"
   ]
  },
  {
   "cell_type": "code",
   "execution_count": 4,
   "metadata": {},
   "outputs": [
    {
     "name": "stdout",
     "output_type": "stream",
     "text": [
      "(1403, 2) 1403\n",
      "(1451, 3)\n",
      "(187, 3)\n"
     ]
    }
   ],
   "source": [
    "df_store_list=pd.read_table(\"/home/jian/BigLots/static_files/Store_list/MediaStormStores20200301-134228-900.txt\",\n",
    "                           dtype=str,sep=\"|\")\n",
    "df_store_list=df_store_list[['location_id','zip_cd']]\n",
    "df_store_list=df_store_list[~df_store_list['location_id'].isin(['145','6990'])]\n",
    "df_store_list['zip_cd']=df_store_list['zip_cd'].apply(lambda x: x.split(\"-\")[0].zfill(5))\n",
    "print(df_store_list.shape,df_store_list['location_id'].nunique())\n",
    "df_store_list['zip_cd'].apply(len).unique()\n",
    "\n",
    "df_store_list_dup=pd.merge(df_store_list,df_DMA_zip,on=\"zip_cd\",how=\"left\")\n",
    "print(df_store_list_dup.shape)\n",
    "df_store_list_dup=df_store_list_dup.groupby(\"DMA\")['location_id'].apply(list).to_frame().reset_index()\n",
    "df_store_list_dup['store_count']=df_store_list_dup['location_id'].apply(len)\n",
    "print(df_store_list_dup.shape)"
   ]
  },
  {
   "cell_type": "code",
   "execution_count": 5,
   "metadata": {},
   "outputs": [],
   "source": [
    "writer=pd.ExcelWriter(\"./BL_store_list_by_DMA_JL_\"+str(datetime.datetime.now().date())+\".xlsx\",engine=\"xlsxwriter\")\n",
    "df_store_list_dup.to_excel(writer,\"DMA\",index=False)\n",
    "df_store_list_output.to_excel(writer,\"stores\",index=False)\n",
    "writer.save()"
   ]
  },
  {
   "cell_type": "code",
   "execution_count": null,
   "metadata": {},
   "outputs": [],
   "source": []
  }
 ],
 "metadata": {
  "kernelspec": {
   "display_name": "Python 3",
   "language": "python",
   "name": "python3"
  },
  "language_info": {
   "codemirror_mode": {
    "name": "ipython",
    "version": 3
   },
   "file_extension": ".py",
   "mimetype": "text/x-python",
   "name": "python",
   "nbconvert_exporter": "python",
   "pygments_lexer": "ipython3",
   "version": "3.6.1"
  }
 },
 "nbformat": 4,
 "nbformat_minor": 2
}
