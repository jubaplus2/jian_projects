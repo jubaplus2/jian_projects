{
 "cells": [
  {
   "cell_type": "code",
   "execution_count": 1,
   "metadata": {},
   "outputs": [
    {
     "data": {
      "text/plain": [
       "'/home/jian/Projects/Big_Lots/Analysis/2019_Q2/ID_Migration'"
      ]
     },
     "execution_count": 1,
     "metadata": {},
     "output_type": "execute_result"
    }
   ],
   "source": [
    "import pandas as pd\n",
    "import os\n",
    "import datetime\n",
    "import numpy as np\n",
    "import gc\n",
    "os.getcwd()\n",
    "\n",
    "# To check about the 2019 weekly file path df week filter for the rolling later"
   ]
  },
  {
   "cell_type": "code",
   "execution_count": null,
   "metadata": {
    "collapsed": true
   },
   "outputs": [],
   "source": []
  },
  {
   "cell_type": "code",
   "execution_count": 2,
   "metadata": {},
   "outputs": [
    {
     "name": "stdout",
     "output_type": "stream",
     "text": [
      "prior_quarter_End 2017-11-04\n",
      "recent_complete_quarter_End 2018-02-03\n",
      "lapsed_date_begin 2013-10-29\n"
     ]
    }
   ],
   "source": [
    "recent_complete_quarter_End=datetime.date(2018,2,3)\n",
    "prior_quarter_End=recent_complete_quarter_End-datetime.timedelta(days=7*13)\n",
    "\n",
    "\n",
    "print(\"prior_quarter_End\",prior_quarter_End)\n",
    "print(\"recent_complete_quarter_End\",recent_complete_quarter_End)\n",
    "\n",
    "lapsed_date_begin=prior_quarter_End-datetime.timedelta(days=(4*365+1+6))\n",
    "print(\"lapsed_date_begin\",lapsed_date_begin)\n"
   ]
  },
  {
   "cell_type": "code",
   "execution_count": 3,
   "metadata": {},
   "outputs": [
    {
     "name": "stdout",
     "output_type": "stream",
     "text": [
      "2014-08-26\n",
      "2017-02-26\n",
      "2014-08-26\n",
      "2017-02-26\n"
     ]
    }
   ],
   "source": [
    "lapsed=pd.read_table(\"/home/jian/Projects/Big_Lots/Loyal_members/loyalty_sales_data/lapsed20140826_20170226/MediaStormLapsedCustDtl.txt\",\n",
    "                     sep=\",\",usecols=['customer_id_hashed','transaction_date'],dtype=str).drop_duplicates()\n",
    "\n",
    "print(lapsed['transaction_date'].min())\n",
    "print(lapsed['transaction_date'].max())\n",
    "\n",
    "lapsed=lapsed[lapsed['transaction_date']>=str(lapsed_date_begin)]\n",
    "lapsed=lapsed[lapsed['transaction_date']<=str(recent_complete_quarter_End)]\n",
    "\n",
    "print(lapsed['transaction_date'].min())\n",
    "print(lapsed['transaction_date'].max())"
   ]
  },
  {
   "cell_type": "code",
   "execution_count": 4,
   "metadata": {},
   "outputs": [
    {
     "name": "stdout",
     "output_type": "stream",
     "text": [
      "1 2019-05-28 17:02:53.777362\n",
      "2 2019-05-28 17:03:11.576941\n",
      "3 2019-05-28 17:03:27.789048\n",
      "4 2019-05-28 17:03:46.354644\n",
      "5 2019-05-28 17:04:16.770345\n",
      "6 2019-05-28 17:04:47.286695\n",
      "7 2019-05-28 17:05:18.138851\n",
      "8 2019-05-28 17:05:49.795461\n",
      "9 2019-05-28 17:06:22.450582\n",
      "10 2019-05-28 17:06:55.297118\n",
      "11 2019-05-28 17:07:27.918945\n",
      "12 2019-05-28 17:08:02.466315\n",
      "13 2019-05-28 17:08:25.996084\n",
      "14 2019-05-28 17:08:49.269746\n",
      "15 2019-05-28 17:09:10.320817\n"
     ]
    }
   ],
   "source": [
    "chunksize_num = 10**7\n",
    "filename='/home/jian/Projects/Big_Lots/Live_Ramp/Quarterly_Update_2019Q1/crm_newscore_0922/combinedtransactions_0922.csv'\n",
    "dftrans_before_2018Q1=pd.DataFrame()\n",
    "# Actually 2017 Q4\n",
    "count_i=0\n",
    "\n",
    "for chunk in pd.read_csv(filename, chunksize=chunksize_num,dtype=str,usecols=['customer_id_hashed','transaction_date']):\n",
    "    \n",
    "    chunk=chunk[(chunk['transaction_date']>=str(lapsed_date_begin)) & (chunk['transaction_date']<=str(prior_quarter_End))]\n",
    "    chunk = chunk.drop_duplicates()\n",
    "    \n",
    "    dftrans_before_2018Q1=dftrans_before_2018Q1.append(chunk)\n",
    "    \n",
    "    count_i+=1\n",
    "    print(count_i,datetime.datetime.now())\n",
    "dftrans_before_2018Q1=dftrans_before_2018Q1.drop_duplicates()   \n"
   ]
  },
  {
   "cell_type": "code",
   "execution_count": 5,
   "metadata": {},
   "outputs": [
    {
     "name": "stdout",
     "output_type": "stream",
     "text": [
      "(16406931, 2)\n",
      "2016-06-26\n",
      "2017-11-04\n"
     ]
    }
   ],
   "source": [
    "all_rewards_most_recent=dftrans_before_2018Q1.copy()\n",
    "del chunk\n",
    "del dftrans_before_2018Q1\n",
    "gc.collect()\n",
    "\n",
    "# Already filterd of the dates above\n",
    "all_rewards_most_recent=all_rewards_most_recent.sort_values([\"customer_id_hashed\",\"transaction_date\"],ascending=[True,False])\n",
    "all_rewards_most_recent=all_rewards_most_recent.drop_duplicates(['customer_id_hashed'])\n",
    "print(all_rewards_most_recent.shape)\n",
    "\n",
    "\n",
    "\n",
    "print(all_rewards_most_recent['transaction_date'].min())\n",
    "print(all_rewards_most_recent['transaction_date'].max())"
   ]
  },
  {
   "cell_type": "code",
   "execution_count": 6,
   "metadata": {},
   "outputs": [
    {
     "name": "stdout",
     "output_type": "stream",
     "text": [
      "2014-08-26\n",
      "2017-11-04\n"
     ]
    }
   ],
   "source": [
    "all_rewards_most_recent=all_rewards_most_recent.append(lapsed)\n",
    "all_rewards_most_recent=all_rewards_most_recent.sort_values([\"customer_id_hashed\",\"transaction_date\"],ascending=[True,False])\n",
    "all_rewards_most_recent=all_rewards_most_recent.drop_duplicates(['customer_id_hashed'])\n",
    "\n",
    "\n",
    "print(all_rewards_most_recent['transaction_date'].min())\n",
    "print(all_rewards_most_recent['transaction_date'].max())"
   ]
  },
  {
   "cell_type": "code",
   "execution_count": 7,
   "metadata": {
    "collapsed": true
   },
   "outputs": [],
   "source": [
    "def recursive_file_gen(root_path):\n",
    "    for root, dirs, files in os.walk(root_path):\n",
    "        for file in files:\n",
    "            yield os.path.join(root,file)\n",
    "\n"
   ]
  },
  {
   "cell_type": "code",
   "execution_count": 8,
   "metadata": {},
   "outputs": [
    {
     "data": {
      "text/plain": [
       "(13, 2)"
      ]
     },
     "execution_count": 8,
     "metadata": {},
     "output_type": "execute_result"
    }
   ],
   "source": [
    "df_all_daily_files_in_recent_quarter=list(recursive_file_gen('/home/jian/BigLots/hist_daily_data_subclasslevel/'))\n",
    "df_all_daily_files_in_recent_quarter=[x for x in df_all_daily_files_in_recent_quarter if \".txt\" in x]\n",
    "df_all_daily_files_in_recent_quarter=pd.DataFrame({\"file_path\":df_all_daily_files_in_recent_quarter})\n",
    "df_all_daily_files_in_recent_quarter['week_end_dt']=df_all_daily_files_in_recent_quarter['file_path'].apply(lambda x: x.split(\"l/MediaStormDailySales_week_ending_\")[1][:10])\n",
    "df_all_daily_files_in_recent_quarter=df_all_daily_files_in_recent_quarter[df_all_daily_files_in_recent_quarter['week_end_dt']>str(prior_quarter_End)]\n",
    "df_all_daily_files_in_recent_quarter=df_all_daily_files_in_recent_quarter[df_all_daily_files_in_recent_quarter['week_end_dt']<=str(recent_complete_quarter_End)]\n",
    "df_all_daily_files_in_recent_quarter.shape\n"
   ]
  },
  {
   "cell_type": "code",
   "execution_count": 9,
   "metadata": {},
   "outputs": [
    {
     "name": "stdout",
     "output_type": "stream",
     "text": [
      "/home/jian/BigLots/hist_daily_data_subclasslevel/MediaStormDailySales_week_ending_2017-12-16.txt 2019-05-28 17:23:59.725590\n",
      "/home/jian/BigLots/hist_daily_data_subclasslevel/MediaStormDailySales_week_ending_2018-01-27.txt 2019-05-28 17:24:32.081570\n",
      "/home/jian/BigLots/hist_daily_data_subclasslevel/MediaStormDailySales_week_ending_2017-11-25.txt 2019-05-28 17:25:22.713199\n",
      "/home/jian/BigLots/hist_daily_data_subclasslevel/MediaStormDailySales_week_ending_2018-02-03.txt 2019-05-28 17:25:50.496873\n",
      "/home/jian/BigLots/hist_daily_data_subclasslevel/MediaStormDailySales_week_ending_2017-12-23.txt 2019-05-28 17:27:03.572189\n",
      "/home/jian/BigLots/hist_daily_data_subclasslevel/MediaStormDailySales_week_ending_2018-01-13.txt 2019-05-28 17:27:37.687732\n",
      "/home/jian/BigLots/hist_daily_data_subclasslevel/MediaStormDailySales_week_ending_2017-12-30.txt 2019-05-28 17:28:18.032760\n",
      "/home/jian/BigLots/hist_daily_data_subclasslevel/MediaStormDailySales_week_ending_2018-01-06.txt 2019-05-28 17:28:50.745850\n",
      "/home/jian/BigLots/hist_daily_data_subclasslevel/MediaStormDailySales_week_ending_2017-11-11.txt 2019-05-28 17:29:31.176287\n",
      "/home/jian/BigLots/hist_daily_data_subclasslevel/MediaStormDailySales_week_ending_2017-12-02.txt 2019-05-28 17:30:30.653649\n",
      "/home/jian/BigLots/hist_daily_data_subclasslevel/MediaStormDailySales_week_ending_2017-12-09.txt 2019-05-28 17:31:31.928636\n",
      "/home/jian/BigLots/hist_daily_data_subclasslevel/MediaStormDailySales_week_ending_2018-01-20.txt 2019-05-28 17:32:21.073780\n",
      "/home/jian/BigLots/hist_daily_data_subclasslevel/MediaStormDailySales_week_ending_2017-11-18.txt 2019-05-28 17:33:16.040916\n"
     ]
    }
   ],
   "source": [
    "RecentQuarter_sales_by_id=pd.DataFrame()\n",
    "dftrans_only_recent_quarter=pd.DataFrame()\n",
    "for file in df_all_daily_files_in_recent_quarter['file_path'].tolist():\n",
    "    df=pd.read_table(file,sep=\"|\",usecols=['customer_id_hashed','transaction_dt','subclass_transaction_amt'],dtype=str)\n",
    "    df=df[~pd.isnull(df['customer_id_hashed'])]\n",
    "    \n",
    "    df['subclass_transaction_amt']=df['subclass_transaction_amt'].astype(float)\n",
    "    \n",
    "    df_sales=df.groupby(['customer_id_hashed'])['subclass_transaction_amt'].sum().to_frame().reset_index()\n",
    "    df=df[['customer_id_hashed','transaction_dt']].drop_duplicates()\n",
    "    RecentQuarter_sales_by_id=RecentQuarter_sales_by_id.append(df_sales)\n",
    "    dftrans_only_recent_quarter=dftrans_only_recent_quarter.append(df)\n",
    "    print(file,datetime.datetime.now())\n",
    "RecentQuarter_sales_by_id=RecentQuarter_sales_by_id.groupby(\"customer_id_hashed\")['subclass_transaction_amt'].sum().to_frame().reset_index()\n",
    "RecentQuarter_sales_by_id=RecentQuarter_sales_by_id.rename(columns={\"subclass_transaction_amt\":\"sales_recent_Quarter\"})\n",
    "RecentQuarter_sales_by_id['Recent_Quarter_Shopping_Group']=\"Recent_Quarter_Shopped\"\n",
    "\n",
    "dftrans_only_recent_quarter=dftrans_only_recent_quarter.sort_values([\"customer_id_hashed\",\"transaction_dt\"],ascending=[True,False])\n",
    "dftrans_only_recent_quarter=dftrans_only_recent_quarter.drop_duplicates(\"customer_id_hashed\")\n"
   ]
  },
  {
   "cell_type": "code",
   "execution_count": 10,
   "metadata": {},
   "outputs": [
    {
     "name": "stdout",
     "output_type": "stream",
     "text": [
      "2017-11-05\n",
      "2018-02-03\n"
     ]
    }
   ],
   "source": [
    "dftrans_only_recent_quarter=dftrans_only_recent_quarter.rename(columns={\"transaction_dt\":\"transaction_date\"})\n",
    "\n",
    "print(dftrans_only_recent_quarter['transaction_date'].min())\n",
    "print(dftrans_only_recent_quarter['transaction_date'].max())\n"
   ]
  },
  {
   "cell_type": "code",
   "execution_count": null,
   "metadata": {
    "collapsed": true
   },
   "outputs": [],
   "source": []
  },
  {
   "cell_type": "code",
   "execution_count": 11,
   "metadata": {},
   "outputs": [
    {
     "data": {
      "text/plain": [
       "79"
      ]
     },
     "execution_count": 11,
     "metadata": {},
     "output_type": "execute_result"
    }
   ],
   "source": [
    "all_rewards_most_recent['transaction_date_before_the_Quarter']=all_rewards_most_recent['transaction_date']\n",
    "\n",
    "all_rewards_most_recent_After=all_rewards_most_recent[['customer_id_hashed','transaction_date']].append(dftrans_only_recent_quarter)\n",
    "all_rewards_most_recent_After=all_rewards_most_recent_After.sort_values([\"customer_id_hashed\",\"transaction_date\"],ascending=[True,False])\n",
    "all_rewards_most_recent_After=all_rewards_most_recent_After.drop_duplicates(['customer_id_hashed']).rename(columns={\"transaction_date\":\"transaction_date_after_the_Quarter\"})\n",
    "\n",
    "all_rewards_most_recent=pd.merge(all_rewards_most_recent,all_rewards_most_recent_After,on=\"customer_id_hashed\",how=\"outer\")\n",
    "del all_rewards_most_recent_After\n",
    "\n",
    "gc.collect()"
   ]
  },
  {
   "cell_type": "code",
   "execution_count": null,
   "metadata": {
    "collapsed": true
   },
   "outputs": [],
   "source": []
  },
  {
   "cell_type": "code",
   "execution_count": 12,
   "metadata": {
    "collapsed": true
   },
   "outputs": [],
   "source": [
    "all_rewards_most_recent['transaction_date_before_the_Quarter']=all_rewards_most_recent['transaction_date_before_the_Quarter'].fillna(\"2099-12-31\")\n",
    "all_rewards_most_recent['transaction_date_before_the_Quarter']=pd.to_datetime(all_rewards_most_recent['transaction_date_before_the_Quarter'],format='%Y-%m-%d')\n",
    "all_rewards_most_recent['Days_to_pre_Quarter_End']=prior_quarter_End-all_rewards_most_recent['transaction_date_before_the_Quarter']\n",
    "# Filled the na before with a later adte 2019-12-31\n",
    "\n",
    "\n",
    "all_rewards_most_recent['transaction_date_after_the_Quarter']=pd.to_datetime(all_rewards_most_recent['transaction_date_after_the_Quarter'],format='%Y-%m-%d')\n",
    "all_rewards_most_recent['Days_to_recentt_Quarter_End']=recent_complete_quarter_End-all_rewards_most_recent['transaction_date_after_the_Quarter']\n"
   ]
  },
  {
   "cell_type": "code",
   "execution_count": 13,
   "metadata": {
    "collapsed": true
   },
   "outputs": [],
   "source": [
    "all_rewards_most_recent['Month_to_pre_Quarter_End']=all_rewards_most_recent['Days_to_pre_Quarter_End'].apply(lambda x: x.days/(365.25/12))\n",
    "all_rewards_most_recent['Month_to_recent_Quarter_End']=all_rewards_most_recent['Days_to_recentt_Quarter_End'].apply(lambda x: x.days/(365.25/12))\n"
   ]
  },
  {
   "cell_type": "code",
   "execution_count": null,
   "metadata": {
    "collapsed": true
   },
   "outputs": [],
   "source": []
  },
  {
   "cell_type": "code",
   "execution_count": 14,
   "metadata": {
    "collapsed": true
   },
   "outputs": [],
   "source": [
    "all_rewards_most_recent['Group_before_the_Quarter']=np.where((all_rewards_most_recent['Month_to_pre_Quarter_End']>12) & (all_rewards_most_recent['Month_to_pre_Quarter_End']<=48),\"Lapsed_13_48\",\n",
    "                                                   np.where(all_rewards_most_recent['Month_to_pre_Quarter_End']>48,\"WD_48+\",\n",
    "                                                            np.where((all_rewards_most_recent['Month_to_pre_Quarter_End']>=0) & (all_rewards_most_recent['Month_to_pre_Quarter_End']<=12),\"Active\",\n",
    "                                                                    np.where(all_rewards_most_recent['Month_to_pre_Quarter_End']<0,\"NotAvailable_Before_Quarter\",\"NaN\")\n",
    "                                                                    )\n",
    "                                                           )\n",
    "                                                   )\n",
    "all_rewards_most_recent['Group_after_the_Quarter']=np.where((all_rewards_most_recent['Month_to_recent_Quarter_End']>12) & (all_rewards_most_recent['Month_to_recent_Quarter_End']<=48),\"Lapsed_13_48\",\n",
    "                                                   np.where(all_rewards_most_recent['Month_to_recent_Quarter_End']>48,\"WD_48+\",\n",
    "                                                            np.where((all_rewards_most_recent['Month_to_recent_Quarter_End']>=0) & (all_rewards_most_recent['Month_to_recent_Quarter_End']<=12),\"Active\",\n",
    "                                                                    np.where(all_rewards_most_recent['Month_to_recent_Quarter_End']<0,\"NotAvailable_Before_Q4\",\"NaN\")\n",
    "                                                                    )\n",
    "                                                           )\n",
    "                                                   )"
   ]
  },
  {
   "cell_type": "code",
   "execution_count": 15,
   "metadata": {},
   "outputs": [
    {
     "data": {
      "text/plain": [
       "(19376713, 12)"
      ]
     },
     "execution_count": 15,
     "metadata": {},
     "output_type": "execute_result"
    }
   ],
   "source": [
    "all_rewards_most_recent=pd.merge(all_rewards_most_recent,RecentQuarter_sales_by_id,on=\"customer_id_hashed\",how=\"outer\")\n",
    "all_rewards_most_recent.shape"
   ]
  },
  {
   "cell_type": "code",
   "execution_count": 16,
   "metadata": {
    "collapsed": true
   },
   "outputs": [],
   "source": [
    "all_rewards_most_recent['sales_recent_Quarter']=all_rewards_most_recent['sales_recent_Quarter'].fillna(0)\n",
    "all_rewards_most_recent['Recent_Quarter_Shopping_Group']=all_rewards_most_recent['Recent_Quarter_Shopping_Group'].fillna(\"Recent_Quarter_No_Shop\")"
   ]
  },
  {
   "cell_type": "code",
   "execution_count": 17,
   "metadata": {
    "collapsed": true
   },
   "outputs": [],
   "source": [
    "###########"
   ]
  },
  {
   "cell_type": "code",
   "execution_count": null,
   "metadata": {
    "collapsed": true
   },
   "outputs": [],
   "source": []
  },
  {
   "cell_type": "code",
   "execution_count": null,
   "metadata": {
    "collapsed": true
   },
   "outputs": [],
   "source": []
  },
  {
   "cell_type": "code",
   "execution_count": 18,
   "metadata": {},
   "outputs": [
    {
     "data": {
      "text/plain": [
       "['customer_id_hashed',\n",
       " 'transaction_date',\n",
       " 'transaction_date_before_the_Quarter',\n",
       " 'transaction_date_after_the_Quarter',\n",
       " 'Days_to_pre_Quarter_End',\n",
       " 'Days_to_recentt_Quarter_End',\n",
       " 'Month_to_pre_Quarter_End',\n",
       " 'Month_to_recent_Quarter_End',\n",
       " 'Group_before_the_Quarter',\n",
       " 'Group_after_the_Quarter',\n",
       " 'sales_recent_Quarter',\n",
       " 'Recent_Quarter_Shopping_Group']"
      ]
     },
     "execution_count": 18,
     "metadata": {},
     "output_type": "execute_result"
    }
   ],
   "source": [
    "all_rewards_most_recent.columns.tolist()"
   ]
  },
  {
   "cell_type": "code",
   "execution_count": 19,
   "metadata": {},
   "outputs": [
    {
     "data": {
      "text/html": [
       "<div>\n",
       "<style>\n",
       "    .dataframe thead tr:only-child th {\n",
       "        text-align: right;\n",
       "    }\n",
       "\n",
       "    .dataframe thead th {\n",
       "        text-align: left;\n",
       "    }\n",
       "\n",
       "    .dataframe tbody tr th {\n",
       "        vertical-align: top;\n",
       "    }\n",
       "</style>\n",
       "<table border=\"1\" class=\"dataframe\">\n",
       "  <thead>\n",
       "    <tr style=\"text-align: right;\">\n",
       "      <th></th>\n",
       "      <th>Group_before_the_Quarter</th>\n",
       "      <th>Group_after_the_Quarter</th>\n",
       "      <th>Recent_Quarter_Shopping_Group</th>\n",
       "      <th>id_count</th>\n",
       "      <th>sales_recent_Quarter</th>\n",
       "    </tr>\n",
       "  </thead>\n",
       "  <tbody>\n",
       "    <tr>\n",
       "      <th>0</th>\n",
       "      <td>Active</td>\n",
       "      <td>Active</td>\n",
       "      <td>Recent_Quarter_No_Shop</td>\n",
       "      <td>6656358</td>\n",
       "      <td>0.000000e+00</td>\n",
       "    </tr>\n",
       "    <tr>\n",
       "      <th>1</th>\n",
       "      <td>Active</td>\n",
       "      <td>Active</td>\n",
       "      <td>Recent_Quarter_Shopped</td>\n",
       "      <td>5939452</td>\n",
       "      <td>5.352654e+08</td>\n",
       "    </tr>\n",
       "    <tr>\n",
       "      <th>2</th>\n",
       "      <td>Active</td>\n",
       "      <td>Lapsed_13_48</td>\n",
       "      <td>Recent_Quarter_No_Shop</td>\n",
       "      <td>1746361</td>\n",
       "      <td>0.000000e+00</td>\n",
       "    </tr>\n",
       "    <tr>\n",
       "      <th>3</th>\n",
       "      <td>Lapsed_13_48</td>\n",
       "      <td>Active</td>\n",
       "      <td>Recent_Quarter_Shopped</td>\n",
       "      <td>319222</td>\n",
       "      <td>2.174251e+07</td>\n",
       "    </tr>\n",
       "    <tr>\n",
       "      <th>4</th>\n",
       "      <td>Lapsed_13_48</td>\n",
       "      <td>Lapsed_13_48</td>\n",
       "      <td>Recent_Quarter_No_Shop</td>\n",
       "      <td>2745780</td>\n",
       "      <td>0.000000e+00</td>\n",
       "    </tr>\n",
       "    <tr>\n",
       "      <th>5</th>\n",
       "      <td>NotAvailable_Before_Quarter</td>\n",
       "      <td>Active</td>\n",
       "      <td>Recent_Quarter_Shopped</td>\n",
       "      <td>1969540</td>\n",
       "      <td>1.723598e+08</td>\n",
       "    </tr>\n",
       "  </tbody>\n",
       "</table>\n",
       "</div>"
      ],
      "text/plain": [
       "      Group_before_the_Quarter Group_after_the_Quarter  \\\n",
       "0                       Active                  Active   \n",
       "1                       Active                  Active   \n",
       "2                       Active            Lapsed_13_48   \n",
       "3                 Lapsed_13_48                  Active   \n",
       "4                 Lapsed_13_48            Lapsed_13_48   \n",
       "5  NotAvailable_Before_Quarter                  Active   \n",
       "\n",
       "  Recent_Quarter_Shopping_Group  id_count  sales_recent_Quarter  \n",
       "0        Recent_Quarter_No_Shop   6656358          0.000000e+00  \n",
       "1        Recent_Quarter_Shopped   5939452          5.352654e+08  \n",
       "2        Recent_Quarter_No_Shop   1746361          0.000000e+00  \n",
       "3        Recent_Quarter_Shopped    319222          2.174251e+07  \n",
       "4        Recent_Quarter_No_Shop   2745780          0.000000e+00  \n",
       "5        Recent_Quarter_Shopped   1969540          1.723598e+08  "
      ]
     },
     "execution_count": 19,
     "metadata": {},
     "output_type": "execute_result"
    }
   ],
   "source": [
    "output_id_count=all_rewards_most_recent.groupby(['Group_before_the_Quarter','Group_after_the_Quarter','Recent_Quarter_Shopping_Group'])['customer_id_hashed'].count().to_frame().reset_index().rename(columns={\"customer_id_hashed\":\"id_count\"})\n",
    "output_id_recent_quarter_sales=all_rewards_most_recent.groupby(['Group_before_the_Quarter','Group_after_the_Quarter','Recent_Quarter_Shopping_Group'])['sales_recent_Quarter'].sum().to_frame().reset_index()\n",
    "\n",
    "output=pd.merge(output_id_count,output_id_recent_quarter_sales,on=['Group_before_the_Quarter','Group_after_the_Quarter','Recent_Quarter_Shopping_Group'],how=\"outer\")\n",
    "output\n"
   ]
  },
  {
   "cell_type": "code",
   "execution_count": 20,
   "metadata": {},
   "outputs": [
    {
     "data": {
      "text/plain": [
       "'/home/jian/Projects/Big_Lots/Analysis/2019_Q2/ID_Migration'"
      ]
     },
     "execution_count": 20,
     "metadata": {},
     "output_type": "execute_result"
    }
   ],
   "source": [
    "os.getcwd()"
   ]
  },
  {
   "cell_type": "code",
   "execution_count": 21,
   "metadata": {
    "collapsed": true
   },
   "outputs": [],
   "source": [
    "output['Recent_Quarteer_Sale_per_ID']=output['sales_recent_Quarter']/output['id_count']\n",
    "output['Recent_Quarteer_Sale_per_ID']=output['Recent_Quarteer_Sale_per_ID'].apply(lambda x: np.round(x,2))\n",
    "\n"
   ]
  },
  {
   "cell_type": "code",
   "execution_count": 22,
   "metadata": {
    "collapsed": true
   },
   "outputs": [],
   "source": [
    "output.to_csv(\"/home/jian/Projects/Big_Lots/Analysis/2019_Q2/ID_Migration/BL_2017Q4_rewards_migration_output_summary_JL_\"+str(datetime.datetime.now().date())+\".csv\",index=False)\n",
    "\n"
   ]
  },
  {
   "cell_type": "code",
   "execution_count": 23,
   "metadata": {
    "collapsed": true
   },
   "outputs": [],
   "source": [
    "all_rewards_most_recent.to_csv(\"/home/jian/Projects/Big_Lots/Analysis/2019_Q2/ID_Migration/BL_2017Q4_rewards_migration_rewards_data_JL_\"+str(datetime.datetime.now().date())+\".csv\",index=False)\n"
   ]
  },
  {
   "cell_type": "code",
   "execution_count": 24,
   "metadata": {},
   "outputs": [
    {
     "data": {
      "text/plain": [
       "(19376713, 12)"
      ]
     },
     "execution_count": 24,
     "metadata": {},
     "output_type": "execute_result"
    }
   ],
   "source": [
    "all_rewards_most_recent.shape"
   ]
  },
  {
   "cell_type": "code",
   "execution_count": 25,
   "metadata": {},
   "outputs": [
    {
     "data": {
      "text/plain": [
       "19376713"
      ]
     },
     "execution_count": 25,
     "metadata": {},
     "output_type": "execute_result"
    }
   ],
   "source": [
    "len(all_rewards_most_recent['customer_id_hashed'].unique())"
   ]
  },
  {
   "cell_type": "code",
   "execution_count": null,
   "metadata": {
    "collapsed": true
   },
   "outputs": [],
   "source": []
  }
 ],
 "metadata": {
  "kernelspec": {
   "display_name": "Python 3",
   "language": "python",
   "name": "python3"
  },
  "language_info": {
   "codemirror_mode": {
    "name": "ipython",
    "version": 3
   },
   "file_extension": ".py",
   "mimetype": "text/x-python",
   "name": "python",
   "nbconvert_exporter": "python",
   "pygments_lexer": "ipython3",
   "version": "3.6.1"
  }
 },
 "nbformat": 4,
 "nbformat_minor": 2
}
