{
 "cells": [
  {
   "cell_type": "code",
   "execution_count": 11,
   "metadata": {},
   "outputs": [
    {
     "name": "stdout",
     "output_type": "stream",
     "text": [
      "2020-06-08 14:28:32.468542\n"
     ]
    }
   ],
   "source": [
    "import paramiko\n",
    "import datetime\n",
    "import pandas as pd\n",
    "import numpy as np\n",
    "import os\n",
    "\n",
    "print(datetime.datetime.now())"
   ]
  },
  {
   "cell_type": "code",
   "execution_count": 2,
   "metadata": {},
   "outputs": [],
   "source": [
    "host = \"107.191.32.220\" #hard-coded\n",
    "port = 22\n",
    "transport = paramiko.Transport((host, port))\n",
    "\n",
    "password = \"vgn5UucsUNHL4n9R\" #hard-coded\n",
    "username = \"biglots_data\" #hard-coded\n",
    "transport.connect(username = username, password = password)\n",
    "sftp = paramiko.SFTPClient.from_transport(transport)"
   ]
  },
  {
   "cell_type": "code",
   "execution_count": 9,
   "metadata": {},
   "outputs": [],
   "source": [
    "list_remote_files=sftp.listdir(\"./\")\n",
    "list_remote_files=['med_med.txt','high_high.txt']"
   ]
  },
  {
   "cell_type": "code",
   "execution_count": 15,
   "metadata": {},
   "outputs": [],
   "source": [
    "local_dir_1=\"/home/jian/BigLots/M1_audience/audience_from_client_\"+str(datetime.datetime.now().date())+\"/\"\n",
    "local_dir_2=\"./audience_from_client_\"+str(datetime.datetime.now().date())+\"/\"\n",
    "\n",
    "\n",
    "try:\n",
    "    os.stat(local_dir_1)\n",
    "except:\n",
    "    os.mkdir(local_dir_1)\n",
    "    \n",
    "try:\n",
    "    os.stat(local_dir_2)\n",
    "except:\n",
    "    os.mkdir(local_dir_2)\n",
    "\n",
    "\n",
    "for base_name in list_remote_files:\n",
    "    sftp.get(base_name,local_dir_1+base_name)\n",
    "    sftp.get(base_name,local_dir_2+base_name)\n",
    "sftp.close()\n",
    "transport.close()"
   ]
  },
  {
   "cell_type": "code",
   "execution_count": 10,
   "metadata": {},
   "outputs": [
    {
     "data": {
      "text/plain": [
       "['med_med.txt', 'high_high.txt']"
      ]
     },
     "execution_count": 10,
     "metadata": {},
     "output_type": "execute_result"
    }
   ],
   "source": [
    "list_remote_files"
   ]
  },
  {
   "cell_type": "code",
   "execution_count": 29,
   "metadata": {},
   "outputs": [],
   "source": [
    "df_med_med=pd.read_table(local_dir_2+\"med_med.txt\",dtype=str,sep=\"\\t\")\n",
    "df_high_high=pd.read_table(local_dir_2+\"high_high.txt\",dtype=str,sep=\"\\t\")"
   ]
  },
  {
   "cell_type": "code",
   "execution_count": 30,
   "metadata": {},
   "outputs": [
    {
     "name": "stdout",
     "output_type": "stream",
     "text": [
      "(3485389, 2)\n",
      "(1787174, 2)\n",
      "(5272549, 3) 5272549\n"
     ]
    }
   ],
   "source": [
    "df_med_med['med_med']=1\n",
    "df_high_high['high_high']=1\n",
    "df_med_med=df_med_med[['hashed_email_address','med_med']].drop_duplicates()\n",
    "df_high_high=df_high_high[['hashed_email_address','high_high']].drop_duplicates()\n",
    "print(df_med_med.shape)\n",
    "print(df_high_high.shape)\n",
    "\n",
    "df_both=pd.merge(df_med_med,df_high_high,on=\"hashed_email_address\",how=\"outer\").fillna(0)\n",
    "print(df_both.shape,df_both['hashed_email_address'].nunique())\n",
    "df_both=df_both.rename(columns={\"hashed_email_address\":\"Email_Address\"})\n",
    "df_both['med_med']=df_both['med_med'].astype(int)\n",
    "df_both['high_high']=df_both['high_high'].astype(int)\n",
    "df_both=df_both.rename(columns={\"med_med\":\"BL_Rewards_2020_Q2_med_med\",\"high_high\":\"BL_Rewards_2020_Q2_high_high\"})\n"
   ]
  },
  {
   "cell_type": "code",
   "execution_count": 38,
   "metadata": {},
   "outputs": [
    {
     "data": {
      "text/html": [
       "<div>\n",
       "<style scoped>\n",
       "    .dataframe tbody tr th:only-of-type {\n",
       "        vertical-align: middle;\n",
       "    }\n",
       "\n",
       "    .dataframe tbody tr th {\n",
       "        vertical-align: top;\n",
       "    }\n",
       "\n",
       "    .dataframe thead th {\n",
       "        text-align: right;\n",
       "    }\n",
       "</style>\n",
       "<table border=\"1\" class=\"dataframe\">\n",
       "  <thead>\n",
       "    <tr style=\"text-align: right;\">\n",
       "      <th></th>\n",
       "      <th>Email_Address</th>\n",
       "      <th>BL_Rewards_2020_Q2_med_med</th>\n",
       "      <th>BL_Rewards_2020_Q2_high_high</th>\n",
       "    </tr>\n",
       "  </thead>\n",
       "  <tbody>\n",
       "    <tr>\n",
       "      <th>0</th>\n",
       "      <td>a76413fc9d1689f35a2361b8daff43e4ebf3e1dfd63f39...</td>\n",
       "      <td>1</td>\n",
       "      <td>0</td>\n",
       "    </tr>\n",
       "    <tr>\n",
       "      <th>1</th>\n",
       "      <td>de20dc7e6faa632b5fed14bd78a2cd22123915baf36365...</td>\n",
       "      <td>1</td>\n",
       "      <td>0</td>\n",
       "    </tr>\n",
       "    <tr>\n",
       "      <th>2</th>\n",
       "      <td>81d194f92c28b5e0c95fc9b87791bbaade920ea185040c...</td>\n",
       "      <td>1</td>\n",
       "      <td>0</td>\n",
       "    </tr>\n",
       "  </tbody>\n",
       "</table>\n",
       "</div>"
      ],
      "text/plain": [
       "                                       Email_Address  \\\n",
       "0  a76413fc9d1689f35a2361b8daff43e4ebf3e1dfd63f39...   \n",
       "1  de20dc7e6faa632b5fed14bd78a2cd22123915baf36365...   \n",
       "2  81d194f92c28b5e0c95fc9b87791bbaade920ea185040c...   \n",
       "\n",
       "   BL_Rewards_2020_Q2_med_med  BL_Rewards_2020_Q2_high_high  \n",
       "0                           1                             0  \n",
       "1                           1                             0  \n",
       "2                           1                             0  "
      ]
     },
     "execution_count": 38,
     "metadata": {},
     "output_type": "execute_result"
    }
   ],
   "source": [
    "df_both.head(3)"
   ]
  },
  {
   "cell_type": "code",
   "execution_count": 40,
   "metadata": {},
   "outputs": [],
   "source": [
    "df_both.to_csv(path_or_buf=\"./\"+\"BL_SHA256EMAIL_Rewards2020Q2_BLMatrics_\"+str(datetime.datetime.now().date())+\".txt\",\n",
    "                         sep='\\t',\n",
    "                         encoding='utf-8',\n",
    "                         line_terminator=\"\\n\",\n",
    "                         header=True,\n",
    "                         index=False)"
   ]
  },
  {
   "cell_type": "code",
   "execution_count": null,
   "metadata": {},
   "outputs": [],
   "source": []
  }
 ],
 "metadata": {
  "kernelspec": {
   "display_name": "Python 3",
   "language": "python",
   "name": "python3"
  },
  "language_info": {
   "codemirror_mode": {
    "name": "ipython",
    "version": 3
   },
   "file_extension": ".py",
   "mimetype": "text/x-python",
   "name": "python",
   "nbconvert_exporter": "python",
   "pygments_lexer": "ipython3",
   "version": "3.6.1"
  }
 },
 "nbformat": 4,
 "nbformat_minor": 2
}
