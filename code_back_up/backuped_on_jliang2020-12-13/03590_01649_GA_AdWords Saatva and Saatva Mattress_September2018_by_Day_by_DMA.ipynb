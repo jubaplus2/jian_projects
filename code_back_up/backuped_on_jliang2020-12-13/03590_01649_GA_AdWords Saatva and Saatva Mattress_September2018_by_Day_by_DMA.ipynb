{
 "cells": [
  {
   "cell_type": "code",
   "execution_count": 1,
   "metadata": {
    "collapsed": true
   },
   "outputs": [],
   "source": [
    "# _September_Week7 2018: 9/01/18-12/24/18\n",
    "\n",
    "import pandas as pd\n",
    "import numpy as np\n",
    "import datetime\n",
    "import pandas as pd\n",
    "from googleads import adwords\n",
    "import google_analytics_reporting_api as ga\n",
    "import os\n",
    "\n",
    "week=\"_September_by_Day_by_DMA\"\n",
    "\n",
    "Start_Date_overall='2018-09-01'\n",
    "End_Date_overall='2018-12-24'\n",
    "\n",
    "today_str=str(datetime.datetime.now().date())\n",
    "writer_folder=\"/home/jian/Projects/Saatva/To_Lexie_and_Connor/output/running_on_\"+today_str+\"/\"\n",
    "try:\n",
    "    os.stat(writer_folder)\n",
    "except:\n",
    "    os.mkdir(writer_folder)\n",
    "\n",
    "writer_folder=\"/home/jian/Projects/Saatva/To_Lexie_and_Connor/output/running_on_\"+today_str+\"/\"+week[1:]+\"/\"\n",
    "try:\n",
    "    os.stat(writer_folder)\n",
    "except:\n",
    "    os.mkdir(writer_folder)"
   ]
  },
  {
   "cell_type": "markdown",
   "metadata": {},
   "source": [
    "# Google Analytics"
   ]
  },
  {
   "cell_type": "code",
   "execution_count": 2,
   "metadata": {
    "collapsed": true
   },
   "outputs": [],
   "source": [
    "analytics = ga.initialize_analyticsreporting('/home/jian/Projects/Saatva/GA/GA_api_jubapluscc@gmail.com.json')\n",
    "\n",
    "def num_func_trans(df):\n",
    "    if 'ga:sessions' in df.columns:\n",
    "        df['ga:sessions']=df['ga:sessions'].apply(lambda x: int(x.replace(\",\",\"\")))\n",
    "        df['ga:sessions']=df['ga:sessions'].astype(int)\n",
    "\n",
    "    if 'ga:adClicks' in df.columns:\n",
    "        df['ga:adClicks']=df['ga:adClicks'].apply(lambda x: int(x.replace(\",\",\"\")))\n",
    "        df['ga:adClicks']=df['ga:adClicks'].astype(int)\n",
    "\n",
    "    if 'ga:impressions' in df.columns:\n",
    "        df['ga:impressions']=df['ga:impressions'].apply(lambda x: int(x.replace(\",\",\"\")))\n",
    "        df['ga:impressions']=df['ga:impressions'].astype(int)\n",
    "    \n",
    "    if 'ga:transactions' in df.columns:\n",
    "        df['ga:transactions']=df['ga:transactions'].apply(lambda x: int(x.replace(\",\",\"\")))\n",
    "        df['ga:transactions']=df['ga:transactions'].astype(int)\n",
    "    \n",
    "    if 'ga:transactionRevenue' in df.columns:\n",
    "        df['ga:transactionRevenue']=df['ga:transactionRevenue'].apply(lambda x: float(x.replace(\",\",\"\")))\n",
    "        df['ga:transactionRevenue']=df['ga:transactionRevenue'].astype(float)\n",
    "\n",
    "    \n",
    "    return df\n"
   ]
  },
  {
   "cell_type": "code",
   "execution_count": 3,
   "metadata": {},
   "outputs": [
    {
     "data": {
      "text/plain": [
       "(68403, 6)"
      ]
     },
     "execution_count": 3,
     "metadata": {},
     "output_type": "execute_result"
    }
   ],
   "source": [
    "# Saatva.com\n",
    "# date, sourceMedium      sessions, adClicks, impressions\n",
    "ga_data_saatva=ga.get_report_over_10000_rows(analytics=analytics, VIEW_ID='122377905',start_date=Start_Date_overall, end_date=End_Date_overall,\n",
    "                                            ga_metrics=['ga:sessions'],\n",
    "                                            ga_dimensions=['ga:date','ga:sourceMedium','ga:metro'])\n",
    "\n",
    "ga_data_saatva['View']=\"Saatva.com\"\n",
    "ga_data_saatva['View_ID']=\"122377905\"\n",
    "ga_data_saatva.shape"
   ]
  },
  {
   "cell_type": "code",
   "execution_count": 4,
   "metadata": {},
   "outputs": [
    {
     "data": {
      "text/plain": [
       "(145024, 6)"
      ]
     },
     "execution_count": 4,
     "metadata": {},
     "output_type": "execute_result"
    }
   ],
   "source": [
    "# Saatvamattress.com\n",
    "# dateHour, sourceMedium      sessions, adClicks, impressions\n",
    "ga_data_SM=ga.get_report_over_10000_rows(analytics=analytics, VIEW_ID='33605697',start_date=Start_Date_overall, end_date=End_Date_overall,\n",
    "                                            ga_metrics=['ga:sessions'],\n",
    "                                            ga_dimensions=['ga:date','ga:sourceMedium','ga:metro'])\n",
    "\n",
    "ga_data_SM['View']=\"Saatvamattress.com\"\n",
    "ga_data_SM['View_ID']=\"33605697\"\n",
    "ga_data_SM.shape"
   ]
  },
  {
   "cell_type": "code",
   "execution_count": 5,
   "metadata": {
    "collapsed": true
   },
   "outputs": [],
   "source": [
    "ga_data=ga_data_SM.append(ga_data_saatva)\n",
    "ga_data=num_func_trans(ga_data)"
   ]
  },
  {
   "cell_type": "code",
   "execution_count": 6,
   "metadata": {
    "collapsed": true
   },
   "outputs": [],
   "source": [
    "ga_data['Source']=ga_data['ga:sourceMedium'].apply(lambda x: x.split(\" / \")[0])\n",
    "ga_data['Medium']=ga_data['ga:sourceMedium'].apply(lambda x: x.split(\" / \")[1])"
   ]
  },
  {
   "cell_type": "code",
   "execution_count": 7,
   "metadata": {
    "collapsed": true
   },
   "outputs": [],
   "source": [
    "# msn in 'social'\n",
    "# mail.yahoo.com / referral in 'referral'\n",
    "# Social: 'msn','instagram','pinterest','facebook\n",
    "                                                \n",
    "ga_data['Defined_Media']=np.nan\n",
    "ga_data['Defined_Media']=np.where(((ga_data['ga:sourceMedium'].str.contains('youtube.')) | (ga_data['Medium']==\"social\")),\"Social\",\n",
    "                                  np.where(((ga_data['Source'].isin(['msn','instagram','Instagram','pinterest','facebook'])) & (ga_data['Medium']=='cpc')),\"Social\",\n",
    "                                           np.where(ga_data['ga:sourceMedium'].str.contains('criteo'),\"Retarget\",\n",
    "                                                    np.where(ga_data['Source']==\"(direct)\",\"Direct\",\n",
    "                                                             np.where(((ga_data['Source'].isin(['google','bing','yahoo'])) & (ga_data['Medium']=='cpc')),\"SEM\",\n",
    "                                                                      np.where(((ga_data['Source'].isin(['google','bing','yahoo'])) & (ga_data['Medium']=='organic')),\"SEO\",\n",
    "                                                                               np.where(ga_data['Source']==\"powerInbox\",\"Email\",\n",
    "                                                                                        np.where((ga_data['ga:sourceMedium'].str.contains('email')) & (~ga_data['ga:sourceMedium'].isin([\"taboola / townnews-wvgazettemail\",\"query.hemailaccessonline.com / referral\"]) | (ga_data['ga:sourceMedium'].str.contains(\"mail.\") )),\"Email\",\n",
    "                                                                                                 np.where(ga_data['ga:sourceMedium'].str.contains('taboola'),\"Video\",\n",
    "                                                                                                          np.where(ga_data['Medium']==\"referral\",\"Referral\",\n",
    "                                                                                                                   np.where(ga_data['Medium'].isin([\"partner\",\"partners\"]),\"partner\",\n",
    "                                                                                                                            np.where(ga_data['ga:sourceMedium'].str.contains('display'),\"Display\",\"Others\")\n",
    "                                                                                                                            )\n",
    "                                                                                                                   )\n",
    "                                                                                                          )\n",
    "                                                                                                )\n",
    "                                                                                       )\n",
    "                                                                              )\n",
    "                                                                     )\n",
    "                                                            )\n",
    "                                                   )\n",
    "                                          )\n",
    "                                 )\n",
    "                                                         \n"
   ]
  },
  {
   "cell_type": "code",
   "execution_count": 8,
   "metadata": {
    "collapsed": true
   },
   "outputs": [],
   "source": [
    "GA_taxonomy=ga_data[['ga:sourceMedium','Source','Medium','Defined_Media']].drop_duplicates()\n",
    "GA_taxonomy.reset_index(inplace=True)\n",
    "GA_taxonomy=GA_taxonomy.sort_values('Defined_Media')\n",
    "del GA_taxonomy['index']"
   ]
  },
  {
   "cell_type": "code",
   "execution_count": 9,
   "metadata": {},
   "outputs": [
    {
     "data": {
      "text/plain": [
       "(11141, 4)"
      ]
     },
     "execution_count": 9,
     "metadata": {},
     "output_type": "execute_result"
    }
   ],
   "source": [
    "GA_taxonomy.shape"
   ]
  },
  {
   "cell_type": "code",
   "execution_count": 10,
   "metadata": {},
   "outputs": [
    {
     "data": {
      "text/html": [
       "<div>\n",
       "<style>\n",
       "    .dataframe thead tr:only-child th {\n",
       "        text-align: right;\n",
       "    }\n",
       "\n",
       "    .dataframe thead th {\n",
       "        text-align: left;\n",
       "    }\n",
       "\n",
       "    .dataframe tbody tr th {\n",
       "        vertical-align: top;\n",
       "    }\n",
       "</style>\n",
       "<table border=\"1\" class=\"dataframe\">\n",
       "  <thead>\n",
       "    <tr style=\"text-align: right;\">\n",
       "      <th></th>\n",
       "      <th>ga:date</th>\n",
       "      <th>ga:metro</th>\n",
       "      <th>ga:sessions</th>\n",
       "      <th>ga:sourceMedium</th>\n",
       "      <th>View</th>\n",
       "      <th>View_ID</th>\n",
       "      <th>Source</th>\n",
       "      <th>Medium</th>\n",
       "      <th>Defined_Media</th>\n",
       "    </tr>\n",
       "  </thead>\n",
       "  <tbody>\n",
       "    <tr>\n",
       "      <th>0</th>\n",
       "      <td>20180901</td>\n",
       "      <td>(not set)</td>\n",
       "      <td>147</td>\n",
       "      <td>(direct) / (none)</td>\n",
       "      <td>Saatvamattress.com</td>\n",
       "      <td>33605697</td>\n",
       "      <td>(direct)</td>\n",
       "      <td>(none)</td>\n",
       "      <td>Direct</td>\n",
       "    </tr>\n",
       "    <tr>\n",
       "      <th>1</th>\n",
       "      <td>20180901</td>\n",
       "      <td>Albany GA</td>\n",
       "      <td>8</td>\n",
       "      <td>(direct) / (none)</td>\n",
       "      <td>Saatvamattress.com</td>\n",
       "      <td>33605697</td>\n",
       "      <td>(direct)</td>\n",
       "      <td>(none)</td>\n",
       "      <td>Direct</td>\n",
       "    </tr>\n",
       "  </tbody>\n",
       "</table>\n",
       "</div>"
      ],
      "text/plain": [
       "    ga:date   ga:metro  ga:sessions    ga:sourceMedium                View  \\\n",
       "0  20180901  (not set)          147  (direct) / (none)  Saatvamattress.com   \n",
       "1  20180901  Albany GA            8  (direct) / (none)  Saatvamattress.com   \n",
       "\n",
       "    View_ID    Source  Medium Defined_Media  \n",
       "0  33605697  (direct)  (none)        Direct  \n",
       "1  33605697  (direct)  (none)        Direct  "
      ]
     },
     "execution_count": 10,
     "metadata": {},
     "output_type": "execute_result"
    }
   ],
   "source": [
    "ga_data.head(2)"
   ]
  },
  {
   "cell_type": "code",
   "execution_count": 11,
   "metadata": {
    "collapsed": true
   },
   "outputs": [],
   "source": [
    "ga_agg_session=pd.DataFrame()\n",
    "ga_agg_wide_session=pd.DataFrame()\n",
    "for metro,group in ga_data.groupby(['ga:metro']):\n",
    "    df=group.groupby(['ga:date','Defined_Media'])['ga:sessions'].sum().to_frame()\n",
    "    df.reset_index(inplace=True)\n",
    "    df_wide=df.pivot('ga:date','Defined_Media','ga:sessions')\n",
    "    df_wide.reset_index(inplace=True)\n",
    "    df_wide['date']=df_wide['ga:date'].apply(lambda x:datetime.datetime.strptime(x,\"%Y%m%d\"))\n",
    "    df['ga:metro']=metro\n",
    "    df_wide['ga:metro']=metro\n",
    "    ga_agg_session=ga_agg_session.append(df)\n",
    "    ga_agg_wide_session=ga_agg_wide_session.append(df_wide)\n",
    "\n",
    "ga_agg_wide_session=ga_agg_wide_session.fillna(0)\n",
    "ga_agg_wide_session=ga_agg_wide_session[['ga:date','ga:metro']+[x for x in ga_agg_wide_session.columns.tolist() if x not in ['date','ga:date','ga:metro']]]\n",
    "ga_agg_wide_session.to_csv(writer_folder+'/Saatva_S_and_SM_GA_by_Media_'+Start_Date_overall+'_to_'+End_Date_overall+week+\"_\"+\"Session\"+'.csv',index=False)\n"
   ]
  },
  {
   "cell_type": "code",
   "execution_count": 12,
   "metadata": {
    "collapsed": true
   },
   "outputs": [],
   "source": [
    "writer=pd.ExcelWriter(writer_folder+'/Saatva_S_and_SM_GA_by_Media_'+Start_Date_overall+'_to_'+End_Date_overall+week+'.xlsx', \n",
    "                      engine='xlsxwriter',options={'strings_to_urls': False})"
   ]
  },
  {
   "cell_type": "code",
   "execution_count": 13,
   "metadata": {
    "collapsed": true
   },
   "outputs": [],
   "source": [
    "# Combined both Saatva.com and Saatvamattress.com\n",
    "ga_agg_wide_session.to_excel(writer,\"Session_hour_media\",index=False)\n",
    "\n",
    "ga_data.to_excel(writer,\"data\",index=False)\n",
    "GA_taxonomy.to_excel(writer,\"taxonomy\",index=False)\n",
    "writer.save()\n",
    "GA_taxonomy.to_csv(writer_folder+'/Saatva_S_and_SM_GA_taxonomy_'+Start_Date_overall+'_to_'+End_Date_overall+week+'.csv',index=False)"
   ]
  },
  {
   "cell_type": "code",
   "execution_count": 14,
   "metadata": {
    "collapsed": true
   },
   "outputs": [],
   "source": [
    "ga_agg_session_by_View=ga_data.groupby(['View','View_ID','ga:date','ga:metro','Defined_Media'])['ga:sessions'].sum().unstack('Defined_Media')\n",
    "ga_agg_session_by_View.reset_index(inplace=True)\n",
    "ga_agg_session_by_View=ga_agg_session_by_View.fillna(0)\n",
    "ga_agg_session_by_View.to_csv(writer_folder+'/Saatva_S_and_SM_GA_by_Media_by_View'+Start_Date_overall+'_to_'+End_Date_overall+week+\"_Sessions\"+'.csv',index=False)\n",
    "\n",
    "\n"
   ]
  },
  {
   "cell_type": "markdown",
   "metadata": {},
   "source": [
    "# Google AdWords"
   ]
  },
  {
   "cell_type": "code",
   "execution_count": 15,
   "metadata": {
    "collapsed": true
   },
   "outputs": [],
   "source": [
    "def get_client(config_path='googleads_saatva.yaml'):\n",
    "    return adwords.AdWordsClient.LoadFromStorage(config_path)\n",
    "\n",
    "def download_report_as_stream(client, report_type, fields, start_date, end_date):\n",
    "    '''Download Adwords report, then save as csv file to base_dir\n",
    "    Args:\n",
    "        client: adwords.AdWordsClient.LoadFromStorage()\n",
    "        report_type: str eg. 'KEYWORDS_PERFORMANCE_REPORT'\n",
    "        fields: list eg. [\"CampaignId\", \"CampaignName\", ... ]\n",
    "        start_date: str, eg. '2018-02-11'\n",
    "        end_date: str, eg.\n",
    "    Return:\n",
    "        str, path to csv file\n",
    "    '''\n",
    "    report_downloader = client.GetReportDownloader(version='v201802')\n",
    "    # Create report definition.\n",
    "    report = {\n",
    "        'reportName': report_type,\n",
    "        'dateRangeType': 'CUSTOM_DATE',\n",
    "        'reportType': report_type,\n",
    "        'downloadFormat': 'CSV',\n",
    "        'selector': {\n",
    "            'fields': fields,\n",
    "            'dateRange': {\n",
    "                'min': start_date,\n",
    "                'max': end_date}\n",
    "        }\n",
    "    }\n",
    "\n",
    "    # save output\n",
    "    return report_downloader.DownloadReportAsStream(report, \n",
    "        skip_report_header=True, skip_column_header=False,\n",
    "        skip_report_summary=True)\n",
    "\n"
   ]
  },
  {
   "cell_type": "code",
   "execution_count": null,
   "metadata": {
    "collapsed": true
   },
   "outputs": [],
   "source": []
  },
  {
   "cell_type": "code",
   "execution_count": 16,
   "metadata": {},
   "outputs": [
    {
     "name": "stdout",
     "output_type": "stream",
     "text": [
      "(1573, 3)\n",
      "(1424, 2)\n",
      "1424\n"
     ]
    },
    {
     "data": {
      "text/html": [
       "<div>\n",
       "<style>\n",
       "    .dataframe thead tr:only-child th {\n",
       "        text-align: right;\n",
       "    }\n",
       "\n",
       "    .dataframe thead th {\n",
       "        text-align: left;\n",
       "    }\n",
       "\n",
       "    .dataframe tbody tr th {\n",
       "        vertical-align: top;\n",
       "    }\n",
       "</style>\n",
       "<table border=\"1\" class=\"dataframe\">\n",
       "  <thead>\n",
       "    <tr style=\"text-align: right;\">\n",
       "      <th></th>\n",
       "      <th>Account</th>\n",
       "      <th>Campaign</th>\n",
       "      <th>Advertising Channel</th>\n",
       "    </tr>\n",
       "  </thead>\n",
       "  <tbody>\n",
       "    <tr>\n",
       "      <th>0</th>\n",
       "      <td>Saatva</td>\n",
       "      <td>[ADL] [Non-Brand] [US] Mattresses - Back (Broa...</td>\n",
       "      <td>Search</td>\n",
       "    </tr>\n",
       "    <tr>\n",
       "      <th>1</th>\n",
       "      <td>Saatva</td>\n",
       "      <td>[ADL] [Non-Brand] [US] Mattresses - Back (Exac...</td>\n",
       "      <td>Search</td>\n",
       "    </tr>\n",
       "  </tbody>\n",
       "</table>\n",
       "</div>"
      ],
      "text/plain": [
       "  Account                                           Campaign  \\\n",
       "0  Saatva  [ADL] [Non-Brand] [US] Mattresses - Back (Broa...   \n",
       "1  Saatva  [ADL] [Non-Brand] [US] Mattresses - Back (Exac...   \n",
       "\n",
       "  Advertising Channel  \n",
       "0              Search  \n",
       "1              Search  "
      ]
     },
     "execution_count": 16,
     "metadata": {},
     "output_type": "execute_result"
    }
   ],
   "source": [
    "report_type = 'CAMPAIGN_PERFORMANCE_REPORT'\n",
    "fields = [\"AccountDescriptiveName\",\"CampaignName\",\"AdvertisingChannelType\"]\n",
    "#1\n",
    "client_Saatva = get_client(config_path='/home/jian/Projects/Saatva/To_Lexie_and_Connor/googleads_saatva_JL_Saatva.yaml')\n",
    "response_Saatva = download_report_as_stream(client_Saatva, report_type, fields, Start_Date_overall, End_Date_overall)\n",
    "Saatva_Click = pd.read_csv(response_Saatva).drop_duplicates()\n",
    "#2\n",
    "client_Saatva_Branding = get_client(config_path='/home/jian/Projects/Saatva/To_Lexie_and_Connor/googleads_saatva_JL_Saatva_Branding.yaml')\n",
    "response_Saatva_Branding = download_report_as_stream(client_Saatva_Branding, report_type, fields, Start_Date_overall, End_Date_overall)\n",
    "Saatva_Brand_Click = pd.read_csv(response_Saatva_Branding).drop_duplicates()\n",
    "#3\n",
    "client_Saatva_Competitors = get_client(config_path='/home/jian/Projects/Saatva/To_Lexie_and_Connor/googleads_saatva_JL_Saatva_Competitors.yaml')\n",
    "response_Saatva_Competitor = download_report_as_stream(client_Saatva_Competitors, report_type, fields, Start_Date_overall, End_Date_overall)\n",
    "Saatva_Competitor_Click = pd.read_csv(response_Saatva_Competitor).drop_duplicates()\n",
    "#4\n",
    "client_TheSaatvaCompany = get_client(config_path='/home/jian/Projects/Saatva/To_Lexie_and_Connor/googleads_saatva_JL_TheSaatvaCompany.yaml')\n",
    "response_TheSaatvaCompany = download_report_as_stream(client_TheSaatvaCompany, report_type, fields, Start_Date_overall, End_Date_overall)\n",
    "TheSaatvaCompany_Click = pd.read_csv(response_TheSaatvaCompany).drop_duplicates()\n",
    "#5\n",
    "client_TheSaatvaCompanyBranding = get_client(config_path='/home/jian/Projects/Saatva/To_Lexie_and_Connor/googleads_saatva_JL_TheSaatvaCompanyBranding.yaml')\n",
    "response_TheSaatvaCompanyBranding = download_report_as_stream(client_TheSaatvaCompanyBranding, report_type, fields, Start_Date_overall, End_Date_overall)\n",
    "TheSaatvaCompanyBranding_Click = pd.read_csv(response_TheSaatvaCompanyBranding).drop_duplicates()\n",
    "\n",
    "#\n",
    "Campign_Name_Type=Saatva_Click.append(Saatva_Brand_Click).append(Saatva_Competitor_Click).append(TheSaatvaCompany_Click).append(TheSaatvaCompanyBranding_Click)\n",
    "\n",
    "print(Campign_Name_Type.shape)\n",
    "print(Campign_Name_Type[['Campaign','Advertising Channel']].drop_duplicates().shape)\n",
    "print(len(Campign_Name_Type['Campaign'].unique()))\n",
    "# Make sure unique Campaign match unique Advertising Channel\n",
    "\n",
    "Campign_Name_Type.head(2)"
   ]
  },
  {
   "cell_type": "code",
   "execution_count": 17,
   "metadata": {
    "collapsed": true
   },
   "outputs": [],
   "source": [
    "client_Saatva = get_client(config_path='/home/jian/Projects/Saatva/To_Lexie_and_Connor/googleads_saatva_JL_Saatva.yaml')\n",
    "client_Saatva_Branding = get_client(config_path='/home/jian/Projects/Saatva/To_Lexie_and_Connor/googleads_saatva_JL_Saatva_Branding.yaml')\n",
    "client_Saatva_Competitors = get_client(config_path='/home/jian/Projects/Saatva/To_Lexie_and_Connor/googleads_saatva_JL_Saatva_Competitors.yaml')\n",
    "client_TheSaatvaCompany = get_client(config_path='/home/jian/Projects/Saatva/To_Lexie_and_Connor/googleads_saatva_JL_TheSaatvaCompany.yaml')\n",
    "client_TheSaatvaCompanyBranding = get_client(config_path='/home/jian/Projects/Saatva/To_Lexie_and_Connor/googleads_saatva_JL_TheSaatvaCompanyBranding.yaml')\n"
   ]
  },
  {
   "cell_type": "code",
   "execution_count": 18,
   "metadata": {},
   "outputs": [
    {
     "name": "stderr",
     "output_type": "stream",
     "text": [
      "/usr/local/lib/python3.6/site-packages/IPython/core/interactiveshell.py:2787: DtypeWarning: Columns (3) have mixed types. Specify dtype option on import or set low_memory=False.\n",
      "  if self.run_code(code, result):\n"
     ]
    }
   ],
   "source": [
    "fields = [\"AccountDescriptiveName\",\"CampaignName\",\"Date\",\"CountryCriteriaId\",\"MetroCriteriaId\",\"Impressions\", \"Clicks\", \"Cost\"]\n",
    "report_type = 'GEO_PERFORMANCE_REPORT'\n",
    "\n",
    "def getting_geo_df(client_yaml, report_type, fields, Start_Date_overall, End_Date_overall):\n",
    "    response_Saatva = download_report_as_stream(client_yaml, report_type, fields, Start_Date_overall, End_Date_overall)\n",
    "    df = pd.read_csv(response_Saatva)\n",
    "    return df\n",
    "\n",
    "Geo_Saatva = getting_geo_df(client_Saatva, report_type, fields, Start_Date_overall, End_Date_overall)\n",
    "Geo_Saatva['Cost']=Geo_Saatva['Cost'].apply(lambda x: x/1000000)\n",
    "\n",
    "Geo_Saatva_Branding = getting_geo_df(client_Saatva_Branding, report_type, fields, Start_Date_overall, End_Date_overall)\n",
    "Geo_Saatva_Branding['Cost']=Geo_Saatva_Branding['Cost'].apply(lambda x: x/1000000)\n",
    "\n",
    "Geo_Saatva_Competitors = getting_geo_df(client_Saatva_Competitors, report_type, fields, Start_Date_overall, End_Date_overall)\n",
    "Geo_Saatva_Competitors['Cost']=Geo_Saatva_Competitors['Cost'].apply(lambda x: x/1000000)\n",
    "\n",
    "Geo_TheSaatvaCompany = getting_geo_df(client_TheSaatvaCompany, report_type, fields, Start_Date_overall, End_Date_overall)\n",
    "Geo_TheSaatvaCompany['Cost']=Geo_TheSaatvaCompany['Cost'].apply(lambda x: x/1000000)\n",
    "\n",
    "Geo_TheSaatvaCompanyBranding = getting_geo_df(client_TheSaatvaCompanyBranding, report_type, fields, Start_Date_overall, End_Date_overall)\n",
    "Geo_TheSaatvaCompanyBranding['Cost']=Geo_TheSaatvaCompanyBranding['Cost'].apply(lambda x: x/1000000)\n",
    "\n",
    "\n"
   ]
  },
  {
   "cell_type": "code",
   "execution_count": 19,
   "metadata": {
    "collapsed": true
   },
   "outputs": [],
   "source": [
    "Geo_All_5=Geo_Saatva.append(Geo_Saatva_Branding).append(Geo_Saatva_Competitors).append(Geo_TheSaatvaCompany).append(Geo_TheSaatvaCompanyBranding)\n",
    "\n",
    "Metro_id_list=Geo_All_5['Metro area'].unique().tolist()\n",
    "Metro_id_list.remove(\" --\")\n",
    "Metro_id_list=Metro_id_list+[int(x) for x in Metro_id_list]\n",
    "\n",
    "Country_id_list=Geo_All_5['Country/Territory'].unique().tolist()\n",
    "Country_id_list.remove(\" --\")\n",
    "Country_id_list=Country_id_list+[int(x) for x in Country_id_list]"
   ]
  },
  {
   "cell_type": "code",
   "execution_count": 23,
   "metadata": {
    "collapsed": true
   },
   "outputs": [],
   "source": [
    "DMA_ID_Name=pd.DataFrame()\n",
    "count_i=0\n",
    "for client_ in [client_Saatva,client_Saatva_Branding,client_Saatva_Competitors,client_TheSaatvaCompany,client_TheSaatvaCompanyBranding]:\n",
    "\n",
    "    location_criterion_service = client_.GetService('LocationCriterionService', version='v201802')\n",
    "\n",
    "    location_id_list = Metro_id_list\n",
    "\n",
    "    selector = {\n",
    "      'fields': ['Id', 'LocationName', 'DisplayType', 'CanonicalName',\n",
    "                 'ParentLocations', 'Reach', 'TargetingStatus'],\n",
    "      'predicates': [{\n",
    "          'field': 'Id',\n",
    "          'operator': 'IN',\n",
    "          'values': location_id_list\n",
    "      }]\n",
    "    }\n",
    "    response_list = location_criterion_service.get(selector)\n",
    "    for response in response_list:\n",
    "        DMA_id=response['location']['id']\n",
    "        DMA_type=response['location']['displayType']\n",
    "        DMA_name=response['location']['locationName']\n",
    "\n",
    "        df=pd.DataFrame({\"DMA_id\":DMA_id,\"DMA_type\":DMA_type,\"DMA_name\":DMA_name},index=[count_i])\n",
    "        count_i+=1\n",
    "        DMA_ID_Name=DMA_ID_Name.append(df)\n",
    "DMA_ID_Name=DMA_ID_Name.drop_duplicates()"
   ]
  },
  {
   "cell_type": "code",
   "execution_count": 24,
   "metadata": {
    "collapsed": true
   },
   "outputs": [],
   "source": [
    "Country_ID_Name=pd.DataFrame()\n",
    "count_i=0\n",
    "for client_ in [client_Saatva,client_Saatva_Branding,client_Saatva_Competitors,client_TheSaatvaCompany,client_TheSaatvaCompanyBranding]:\n",
    "\n",
    "    location_criterion_service = client_.GetService('LocationCriterionService', version='v201802')\n",
    "\n",
    "    location_id_list = Country_id_list\n",
    "\n",
    "    selector = {\n",
    "      'fields': ['Id', 'LocationName', 'DisplayType', 'CanonicalName',\n",
    "                 'ParentLocations', 'Reach', 'TargetingStatus'],\n",
    "      'predicates': [{\n",
    "          'field': 'Id',\n",
    "          'operator': 'IN',\n",
    "          'values': location_id_list\n",
    "      }]\n",
    "    }\n",
    "    response_list = location_criterion_service.get(selector)\n",
    "    for response in response_list:\n",
    "        country_id=response['location']['id']\n",
    "        country_type=response['location']['displayType']\n",
    "        country_name=response['location']['locationName']\n",
    "\n",
    "        df=pd.DataFrame({\"Country_id\":country_id,\"Country_type\":country_type,\"Country_name\":country_name},index=[count_i])\n",
    "        count_i+=1\n",
    "        Country_ID_Name=Country_ID_Name.append(df)\n",
    "Country_ID_Name=Country_ID_Name.drop_duplicates()\n",
    "\n"
   ]
  },
  {
   "cell_type": "code",
   "execution_count": 25,
   "metadata": {
    "collapsed": true
   },
   "outputs": [],
   "source": [
    "DMA_ID_Name.to_csv(\"/home/jian/Projects/Saatva/To_Lexie_and_Connor/DMA_Name_ID.csv\",index=False)\n",
    "DMA_id_list=[200602,200501,200623,200613,200618,200511]\n",
    "DMA_id_list=DMA_id_list+[str(x) for x in DMA_id_list]\n",
    "Geo_All_5_US=Geo_All_5[Geo_All_5['Country/Territory'].isin(['2840',2840])] # 2840 US\n",
    "Geo_All_5_US_6_DMAs=Geo_All_5_US[Geo_All_5_US['Metro area'].isin(DMA_id_list)]\n",
    "\n",
    "DMA_ID_Name=DMA_ID_Name.rename(columns={\"DMA_id\":\"Metro area\",'DMA_type':\"displayType\"})\n",
    "DMA_ID_Name['Metro area']=DMA_ID_Name['Metro area'].astype(str)\n",
    "Geo_All_5_US_6_DMAs=pd.merge(Geo_All_5_US_6_DMAs,DMA_ID_Name,on=\"Metro area\",how=\"left\")\n"
   ]
  },
  {
   "cell_type": "code",
   "execution_count": 26,
   "metadata": {
    "collapsed": true
   },
   "outputs": [],
   "source": [
    "'''\n",
    "Saatva_Click=Saatva_Click[~((Saatva_Click['Campaign'].str.contains(\"Loom\")) | (Saatva_Click['Campaign'].str.contains(\"Leaf\")) | (Saatva_Click['Campaign'].str.contains(\"Zenhaven\")))]\n",
    "TheSaatvaCompany_Click=TheSaatvaCompany_Click[~((TheSaatvaCompany_Click['Campaign'].str.contains(\"Loom\")) | (TheSaatvaCompany_Click['Campaign'].str.contains(\"Leaf\")) | (TheSaatvaCompany_Click['Campaign'].str.contains(\"Zenhaven\")))]\n",
    "TheSaatvaCompanyBranding_Click=TheSaatvaCompanyBranding_Click[~((TheSaatvaCompanyBranding_Click['Campaign'].str.contains(\"Loom\")) | (TheSaatvaCompanyBranding_Click['Campaign'].str.contains(\"Leaf\")) | (TheSaatvaCompanyBranding_Click['Campaign'].str.contains(\"Zenhaven\")))]\n",
    "'''\n",
    "# No need to exclude the compaigns because of the small pctg\n",
    "\n",
    "\n",
    "Geo_Saatva_Competitors=Geo_Saatva_Competitors[Geo_Saatva_Competitors['Campaign'].apply(lambda x: x[len(x)-4:len(x)+1])==\"[SM]\"]\n",
    "Geo_Saatva_Competitors.reset_index(inplace=True)\n",
    "del Geo_Saatva_Competitors['index']\n",
    "# Keep only campaign labeled as \"[SM]\" in Saatva Competitor account\n",
    "\n",
    "Geo_Saatva=pd.merge(Geo_Saatva,Campign_Name_Type,on=['Account','Campaign'],how=\"left\")\n",
    "Geo_Saatva_Branding=pd.merge(Geo_Saatva_Branding,Campign_Name_Type,on=['Account','Campaign'],how=\"left\")\n",
    "Geo_Saatva_Competitors=pd.merge(Geo_Saatva_Competitors,Campign_Name_Type,on=['Account','Campaign'],how=\"left\")\n",
    "Geo_TheSaatvaCompany=pd.merge(Geo_TheSaatvaCompany,Campign_Name_Type,on=['Account','Campaign'],how=\"left\")\n",
    "Geo_TheSaatvaCompanyBranding=pd.merge(Geo_TheSaatvaCompanyBranding,Campign_Name_Type,on=['Account','Campaign'],how=\"left\")\n",
    "\n",
    "Geo_Saatva['Campaign_Type']=Geo_Saatva['Advertising Channel'].apply(lambda x: x.replace(\"Search\",\"SEM\").replace(\"Shopping\",\"PLA\"))\n",
    "Geo_Saatva_Branding['Campaign_Type']=Geo_Saatva_Branding['Advertising Channel'].apply(lambda x: x.replace(\"Search\",\"SEM_Brand\").replace(\"Shopping\",\"PLA\"))\n",
    "Geo_Saatva_Competitors['Campaign_Type']=\"SEM_Non_Brand\" # Because it's all labeled as Non-Brand in Campaign and in Search Only Campaign Type\n",
    "Geo_TheSaatvaCompany['Campaign_Type']=Geo_TheSaatvaCompany['Advertising Channel'].apply(lambda x: x.replace(\"Search\",\"SEM\").replace(\"Shopping\",\"PLA\"))\n",
    "Geo_TheSaatvaCompanyBranding['Campaign_Type']=Geo_TheSaatvaCompanyBranding['Advertising Channel'].apply(lambda x: x.replace(\"Search\",\"SEM\").replace(\"Shopping\",\"PLA\"))\n"
   ]
  },
  {
   "cell_type": "code",
   "execution_count": null,
   "metadata": {
    "collapsed": true
   },
   "outputs": [],
   "source": []
  },
  {
   "cell_type": "code",
   "execution_count": 27,
   "metadata": {},
   "outputs": [
    {
     "name": "stderr",
     "output_type": "stream",
     "text": [
      "/usr/local/lib/python3.6/site-packages/ipykernel_launcher.py:7: SettingWithCopyWarning: \n",
      "A value is trying to be set on a copy of a slice from a DataFrame.\n",
      "Try using .loc[row_indexer,col_indexer] = value instead\n",
      "\n",
      "See the caveats in the documentation: http://pandas.pydata.org/pandas-docs/stable/indexing.html#indexing-view-versus-copy\n",
      "  import sys\n"
     ]
    },
    {
     "data": {
      "text/plain": [
       "0"
      ]
     },
     "execution_count": 27,
     "metadata": {},
     "output_type": "execute_result"
    }
   ],
   "source": [
    "# Split Saatva\n",
    "# 'Search Network with Display Select' Campaign Type all 0 Impr and Clicks\n",
    "Geo_Saatva_Search=Geo_Saatva[Geo_Saatva['Advertising Channel']=='Search']\n",
    "Geo_Saatva_Others=Geo_Saatva[Geo_Saatva['Advertising Channel']!='Search']\n",
    "\n",
    "Geo_Saatva_Search['Campaign_Type']=np.where((Geo_Saatva_Search['Campaign'].str.contains(\"Branded\")) | (Geo_Saatva_Search['Campaign'].str.contains(\" Brand \")) | (Geo_Saatva_Search['Campaign'].str.contains(\"Co-Brand\")) | (Geo_Saatva_Search['Campaign'].str.contains(\"\\[Brand\\]\")),\"SEM_Brand\",\n",
    "                                                 np.where((Geo_Saatva_Search['Campaign'].str.contains(\"Non-Brand\")) | (Geo_Saatva_Search['Campaign'].str.contains(\"Dynamic Search Ads\")),\"SEM_Non_Brand\",\"NA\"))\n",
    "Geo_Saatva_Search_1=Geo_Saatva_Search[Geo_Saatva_Search['Campaign_Type']!=\"NA\"]\n",
    "Geo_Saatva_Search_2=Geo_Saatva_Search[Geo_Saatva_Search['Campaign_Type']==\"NA\"]\n",
    "len(Geo_Saatva_Search_2) # Make sure it's 0"
   ]
  },
  {
   "cell_type": "code",
   "execution_count": 28,
   "metadata": {},
   "outputs": [
    {
     "name": "stderr",
     "output_type": "stream",
     "text": [
      "/usr/local/lib/python3.6/site-packages/ipykernel_launcher.py:7: SettingWithCopyWarning: \n",
      "A value is trying to be set on a copy of a slice from a DataFrame.\n",
      "Try using .loc[row_indexer,col_indexer] = value instead\n",
      "\n",
      "See the caveats in the documentation: http://pandas.pydata.org/pandas-docs/stable/indexing.html#indexing-view-versus-copy\n",
      "  import sys\n"
     ]
    },
    {
     "data": {
      "text/plain": [
       "0"
      ]
     },
     "execution_count": 28,
     "metadata": {},
     "output_type": "execute_result"
    }
   ],
   "source": [
    "# Split TheSaatvaCompany\n",
    "\n",
    "Geo_TheSaatvaCompany_Search=Geo_TheSaatvaCompany[Geo_TheSaatvaCompany['Advertising Channel']=='Search']\n",
    "Geo_TheSaatvaCompany_Others=Geo_TheSaatvaCompany[Geo_TheSaatvaCompany['Advertising Channel']!='Search']\n",
    "\n",
    "Geo_TheSaatvaCompany_Search['Campaign_Type']=np.where((Geo_TheSaatvaCompany_Search['Campaign'].str.contains(\"Branded\")) | (Geo_TheSaatvaCompany_Search['Campaign'].str.contains(\" Brand \")) | (Geo_TheSaatvaCompany_Search['Campaign'].str.contains(\"Co-Brand\")) | (Geo_TheSaatvaCompany_Search['Campaign'].str.contains(\"\\[Brand\\]\")),\"SEM_Brand\",\n",
    "                                                 np.where((Geo_TheSaatvaCompany_Search['Campaign'].str.contains(\"Non-Brand\")) | (Geo_TheSaatvaCompany_Search['Campaign'].str.contains(\"Dynamic Search Ads\")),\"SEM_Non_Brand\",\"NA\"))\n",
    "Geo_TheSaatvaCompany_Search_1=Geo_TheSaatvaCompany_Search[Geo_TheSaatvaCompany_Search['Campaign_Type']!=\"NA\"]\n",
    "Geo_TheSaatvaCompany_Search_2=Geo_TheSaatvaCompany_Search[Geo_TheSaatvaCompany_Search['Campaign_Type']==\"NA\"]\n",
    "len(Geo_TheSaatvaCompany_Search_2) # Make sure it's 0"
   ]
  },
  {
   "cell_type": "code",
   "execution_count": 29,
   "metadata": {},
   "outputs": [
    {
     "data": {
      "text/html": [
       "<div>\n",
       "<style>\n",
       "    .dataframe thead tr:only-child th {\n",
       "        text-align: right;\n",
       "    }\n",
       "\n",
       "    .dataframe thead th {\n",
       "        text-align: left;\n",
       "    }\n",
       "\n",
       "    .dataframe tbody tr th {\n",
       "        vertical-align: top;\n",
       "    }\n",
       "</style>\n",
       "<table border=\"1\" class=\"dataframe\">\n",
       "  <thead>\n",
       "    <tr style=\"text-align: right;\">\n",
       "      <th></th>\n",
       "      <th>Account</th>\n",
       "      <th>Campaign</th>\n",
       "      <th>Day</th>\n",
       "      <th>Country/Territory</th>\n",
       "      <th>Metro area</th>\n",
       "      <th>Impressions</th>\n",
       "      <th>Clicks</th>\n",
       "      <th>Cost</th>\n",
       "      <th>Advertising Channel</th>\n",
       "      <th>Campaign_Type</th>\n",
       "    </tr>\n",
       "  </thead>\n",
       "  <tbody>\n",
       "  </tbody>\n",
       "</table>\n",
       "</div>"
      ],
      "text/plain": [
       "Empty DataFrame\n",
       "Columns: [Account, Campaign, Day, Country/Territory, Metro area, Impressions, Clicks, Cost, Advertising Channel, Campaign_Type]\n",
       "Index: []"
      ]
     },
     "execution_count": 29,
     "metadata": {},
     "output_type": "execute_result"
    }
   ],
   "source": [
    "Geo_Saatva_Search_2.head(2)"
   ]
  },
  {
   "cell_type": "code",
   "execution_count": 30,
   "metadata": {
    "collapsed": true
   },
   "outputs": [],
   "source": [
    "Geo_Saatva=Geo_Saatva_Search.append(Geo_Saatva_Others)\n",
    "Geo_TheSaatvaCompany=Geo_TheSaatvaCompany_Search.append(Geo_TheSaatvaCompany_Others)\n",
    "\n"
   ]
  },
  {
   "cell_type": "code",
   "execution_count": 31,
   "metadata": {
    "collapsed": true
   },
   "outputs": [],
   "source": [
    "writer=pd.ExcelWriter(writer_folder+\"/Saatva_AdWords_by_DMA_\"+Start_Date_overall+\"_to_\"+End_Date_overall+week+\"_cost.xlsx\",engine='xlsxwriter')"
   ]
  },
  {
   "cell_type": "code",
   "execution_count": 32,
   "metadata": {
    "collapsed": true
   },
   "outputs": [],
   "source": [
    "Saatva_Agg=Geo_Saatva.append(Geo_Saatva_Branding).append(Geo_Saatva_Competitors).append(Geo_TheSaatvaCompany).append(Geo_TheSaatvaCompanyBranding)\n",
    "Saatva_Agg=pd.merge(Saatva_Agg,DMA_ID_Name,on=['Metro area'],how=\"left\")\n",
    "\n",
    "Saatva_Agg['Day']=Saatva_Agg['Day'].apply(lambda x: datetime.datetime.strptime(x,\"%Y-%m-%d\").date())\n",
    "Saatva_Agg.reset_index(inplace=True)\n",
    "del Saatva_Agg['index']\n",
    "Saatva_Agg_Category=Saatva_Agg[['Campaign','Account','Advertising Channel','Campaign_Type']].drop_duplicates()\n",
    "Saatva_Agg_Category.to_excel(writer,\"Campaign Category\",index=False)"
   ]
  },
  {
   "cell_type": "code",
   "execution_count": 33,
   "metadata": {},
   "outputs": [
    {
     "data": {
      "text/plain": [
       "datetime.date(2018, 10, 12)"
      ]
     },
     "execution_count": 33,
     "metadata": {},
     "output_type": "execute_result"
    }
   ],
   "source": [
    "Saatva_Agg['Day'][0]"
   ]
  },
  {
   "cell_type": "code",
   "execution_count": 34,
   "metadata": {},
   "outputs": [
    {
     "data": {
      "text/plain": [
       "8279"
      ]
     },
     "execution_count": 34,
     "metadata": {},
     "output_type": "execute_result"
    }
   ],
   "source": [
    "date_list=[\"2018-11-29\",\"2018-11-30\",\"2018-12-01\",\"2018-12-02\",\"2018-12-03\",\"2018-12-04\",\"2018-12-05\"]\n",
    "date_list=[datetime.datetime.strptime(x,\"%Y-%m-%d\").date() for x in date_list]\n",
    "\n",
    "Saatva_Agg['DMA_name']=Saatva_Agg['DMA_name'].fillna(\" --\")\n",
    "Saatva_Agg['Country/Territory']=Saatva_Agg['Country/Territory'].fillna(\" --\")\n",
    "Saatva_Agg['displayType']=Saatva_Agg['displayType'].fillna(\" --\")\n",
    "Saatva_Agg['Campaign_Type']=Saatva_Agg['Campaign_Type'].fillna(\" --\")\n",
    "Saatva_Agg[(Saatva_Agg['Day'].isin(date_list)) & (Saatva_Agg['Campaign_Type']==\"SEM_Brand\")]['Clicks'].sum()"
   ]
  },
  {
   "cell_type": "code",
   "execution_count": 35,
   "metadata": {},
   "outputs": [
    {
     "data": {
      "text/plain": [
       "array(['DMA Region', ' --'], dtype=object)"
      ]
     },
     "execution_count": 35,
     "metadata": {},
     "output_type": "execute_result"
    }
   ],
   "source": [
    "Saatva_Agg['displayType'].unique()"
   ]
  },
  {
   "cell_type": "code",
   "execution_count": 36,
   "metadata": {},
   "outputs": [
    {
     "data": {
      "text/plain": [
       "array(['SEM_Non_Brand', 'SEM_Brand', 'Display', 'Video', 'PLA'], dtype=object)"
      ]
     },
     "execution_count": 36,
     "metadata": {},
     "output_type": "execute_result"
    }
   ],
   "source": [
    "Saatva_Agg['Campaign_Type'].unique()"
   ]
  },
  {
   "cell_type": "code",
   "execution_count": 37,
   "metadata": {
    "collapsed": true
   },
   "outputs": [],
   "source": [
    "Saatva_Agg=Saatva_Agg.groupby([\"Campaign_Type\",\"DMA_name\",\"displayType\",\"Country/Territory\",\"Day\"])['Impressions','Clicks', 'Cost'].sum().reset_index()\n",
    "\n",
    "Saatva_Agg['CTR']=Saatva_Agg['Clicks']/Saatva_Agg['Impressions']\n",
    "Saatva_Agg.to_excel(writer,\"reshaped by dma day\",index=False)\n",
    "\n",
    "Saatva_Agg_No_NA=Saatva_Agg[(Saatva_Agg['Campaign_Type']!=\"NA\") & (Saatva_Agg['Campaign_Type']!=\"Search Network with Display Select\")]\n",
    "\n",
    "Saatva_Agg_No_NA.to_excel(writer,\"clean data by dma day\",index=False)"
   ]
  },
  {
   "cell_type": "code",
   "execution_count": 38,
   "metadata": {},
   "outputs": [
    {
     "data": {
      "text/plain": [
       "8279"
      ]
     },
     "execution_count": 38,
     "metadata": {},
     "output_type": "execute_result"
    }
   ],
   "source": [
    "Saatva_Agg[(Saatva_Agg['Day'].isin(date_list)) & (Saatva_Agg['Campaign_Type']==\"SEM_Brand\")]['Clicks'].sum()"
   ]
  },
  {
   "cell_type": "code",
   "execution_count": 39,
   "metadata": {
    "collapsed": true
   },
   "outputs": [],
   "source": [
    "writer.save()"
   ]
  },
  {
   "cell_type": "code",
   "execution_count": 40,
   "metadata": {
    "collapsed": true
   },
   "outputs": [],
   "source": [
    "AdWords_output=Saatva_Agg.copy()\n",
    "AdWords_output['Date']=AdWords_output['Day'].apply(lambda x: str(x)[0:4]+str(x)[5:7]+str(x)[8:10])\n",
    "AdWords_output=AdWords_output[['Campaign_Type',\"DMA_name\",\"displayType\",\"Country/Territory\",'Date','Impressions','Clicks','Cost']]\n",
    "AdWords_output=AdWords_output.rename(columns={\"Impressions\":\"IMP\"})\n",
    "AdWords_output=AdWords_output.sort_values(['Campaign_Type',\"DMA_name\",\"displayType\",\"Country/Territory\",'Date'],ascending=[True,True,True,True,True])\n",
    "AdWords_output.to_csv(writer_folder+\"/Saatva_AdWords_\"+Start_Date_overall+\"_to_\"+End_Date_overall+week+\"_cost.csv\",index=False)"
   ]
  },
  {
   "cell_type": "code",
   "execution_count": 41,
   "metadata": {
    "collapsed": true
   },
   "outputs": [],
   "source": [
    "Saatva_Agg_Category.to_csv(writer_folder+\"/Saatva_AdWords_Taxonomy_\"+Start_Date_overall+\"_to_\"+End_Date_overall+week+\"_cost.csv\",index=False)\n"
   ]
  },
  {
   "cell_type": "code",
   "execution_count": 42,
   "metadata": {},
   "outputs": [
    {
     "data": {
      "text/plain": [
       "8279"
      ]
     },
     "execution_count": 42,
     "metadata": {},
     "output_type": "execute_result"
    }
   ],
   "source": [
    "date_list_str=[\"20181129\",\"20181130\",\"20181201\",\"20181202\",\"20181203\",\"20181204\",\"20181205\"]\n",
    "\n",
    "AdWords_output[(AdWords_output['Date'].isin(date_list_str)) & (AdWords_output['Campaign_Type']==\"SEM_Brand\")]['Clicks'].sum()\n"
   ]
  },
  {
   "cell_type": "code",
   "execution_count": 43,
   "metadata": {},
   "outputs": [
    {
     "data": {
      "text/html": [
       "<div>\n",
       "<style>\n",
       "    .dataframe thead tr:only-child th {\n",
       "        text-align: right;\n",
       "    }\n",
       "\n",
       "    .dataframe thead th {\n",
       "        text-align: left;\n",
       "    }\n",
       "\n",
       "    .dataframe tbody tr th {\n",
       "        vertical-align: top;\n",
       "    }\n",
       "</style>\n",
       "<table border=\"1\" class=\"dataframe\">\n",
       "  <thead>\n",
       "    <tr style=\"text-align: right;\">\n",
       "      <th></th>\n",
       "      <th>Campaign_Type</th>\n",
       "      <th>DMA_name</th>\n",
       "      <th>displayType</th>\n",
       "      <th>Country/Territory</th>\n",
       "      <th>Date</th>\n",
       "      <th>IMP</th>\n",
       "      <th>Clicks</th>\n",
       "      <th>Cost</th>\n",
       "    </tr>\n",
       "  </thead>\n",
       "  <tbody>\n",
       "    <tr>\n",
       "      <th>0</th>\n",
       "      <td>Display</td>\n",
       "      <td>--</td>\n",
       "      <td>--</td>\n",
       "      <td>2012</td>\n",
       "      <td>20180902</td>\n",
       "      <td>13</td>\n",
       "      <td>0</td>\n",
       "      <td>0.0</td>\n",
       "    </tr>\n",
       "    <tr>\n",
       "      <th>1</th>\n",
       "      <td>Display</td>\n",
       "      <td>--</td>\n",
       "      <td>--</td>\n",
       "      <td>2016</td>\n",
       "      <td>20180904</td>\n",
       "      <td>1</td>\n",
       "      <td>0</td>\n",
       "      <td>0.0</td>\n",
       "    </tr>\n",
       "  </tbody>\n",
       "</table>\n",
       "</div>"
      ],
      "text/plain": [
       "  Campaign_Type DMA_name displayType Country/Territory      Date  IMP  Clicks  \\\n",
       "0       Display       --          --              2012  20180902   13       0   \n",
       "1       Display       --          --              2016  20180904    1       0   \n",
       "\n",
       "   Cost  \n",
       "0   0.0  \n",
       "1   0.0  "
      ]
     },
     "execution_count": 43,
     "metadata": {},
     "output_type": "execute_result"
    }
   ],
   "source": [
    "AdWords_output.head(2)"
   ]
  },
  {
   "cell_type": "code",
   "execution_count": null,
   "metadata": {
    "collapsed": true
   },
   "outputs": [],
   "source": []
  }
 ],
 "metadata": {
  "kernelspec": {
   "display_name": "Python 3",
   "language": "python",
   "name": "python3"
  },
  "language_info": {
   "codemirror_mode": {
    "name": "ipython",
    "version": 3
   },
   "file_extension": ".py",
   "mimetype": "text/x-python",
   "name": "python",
   "nbconvert_exporter": "python",
   "pygments_lexer": "ipython3",
   "version": "3.6.1"
  }
 },
 "nbformat": 4,
 "nbformat_minor": 2
}
