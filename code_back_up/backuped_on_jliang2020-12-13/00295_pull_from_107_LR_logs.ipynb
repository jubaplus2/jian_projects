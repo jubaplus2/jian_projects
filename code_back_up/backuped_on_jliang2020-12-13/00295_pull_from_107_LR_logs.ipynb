{
 "cells": [
  {
   "cell_type": "code",
   "execution_count": 1,
   "metadata": {},
   "outputs": [
    {
     "name": "stdout",
     "output_type": "stream",
     "text": [
      "/home/jian/Projects/Big_Lots/Analysis/2019_Q4/Predictive_Model_Building\n"
     ]
    }
   ],
   "source": [
    "# nohup run in the output folder\n",
    "# 107 2020-01-01 to 2020-05-02\n",
    "\n",
    "import pandas as pd\n",
    "import paramiko\n",
    "import numpy as np\n",
    "import os\n",
    "import datetime\n",
    "import glob\n",
    "print(os.getcwd())\n",
    "import logging\n",
    "\n",
    "logging.basicConfig(filename=\"./copy_LR_returned_file_from_107.log\",level=logging.INFO)\n",
    "\n",
    "impr_local_folder=\"/home/jian/Projects/Big_Lots/Analysis/2019_Q4/Predictive_Model_Building/LR_returned_logs_BL/impressions/\"\n",
    "click_local_folder=\"/home/jian/Projects/Big_Lots/Analysis/2019_Q4/Predictive_Model_Building/LR_returned_logs_BL/clicks/\"\n",
    "act_local_folder=\"/home/jian/Projects/Big_Lots/Analysis/2019_Q4/Predictive_Model_Building/LR_returned_logs_BL/activities/\""
   ]
  },
  {
   "cell_type": "code",
   "execution_count": 2,
   "metadata": {},
   "outputs": [],
   "source": [
    "try:\n",
    "    os.stat(impr_local_folder)\n",
    "except:\n",
    "    os.mkdir(impr_local_folder)\n",
    "\n",
    "try:\n",
    "    os.stat(click_local_folder)\n",
    "except:\n",
    "    os.mkdir(click_local_folder)\n",
    "    \n",
    "try:\n",
    "    os.stat(act_local_folder)\n",
    "except:\n",
    "    os.mkdir(act_local_folder)"
   ]
  },
  {
   "cell_type": "code",
   "execution_count": 3,
   "metadata": {},
   "outputs": [],
   "source": [
    "host = \"107.191.32.220\" #hard-coded\n",
    "port = 22\n",
    "transport = paramiko.Transport((host, port))\n",
    "\n",
    "password = \"juba-jl1\" #hard-coded\n",
    "username = \"jian\" #hard-coded\n",
    "transport.connect(username = username, password = password)\n",
    "sftp = paramiko.SFTPClient.from_transport(transport)"
   ]
  },
  {
   "cell_type": "code",
   "execution_count": 4,
   "metadata": {},
   "outputs": [],
   "source": [
    "remote_impression_folder=\"/mnt/drv5/lr_biglots_data/download_logs/impressions/\"\n",
    "list_remote_impr_files=[remote_impression_folder+x for x in sftp.listdir(remote_impression_folder)]\n",
    "list_remote_impr_files.sort()\n",
    "\n",
    "remote_click_folder=\"/mnt/drv5/lr_biglots_data/download_logs/clicks/\"\n",
    "list_remote_click_files=[remote_click_folder+x for x in sftp.listdir(remote_click_folder)]\n",
    "list_remote_click_files.sort()\n",
    "\n",
    "remote_activity_folder=\"/mnt/drv5/lr_biglots_data/download_logs/activities/\"\n",
    "list_remote_act_files=[remote_activity_folder+x for x in sftp.listdir(remote_activity_folder)]\n",
    "list_remote_act_files.sort()"
   ]
  },
  {
   "cell_type": "code",
   "execution_count": 5,
   "metadata": {},
   "outputs": [
    {
     "name": "stdout",
     "output_type": "stream",
     "text": [
      "min_date_needed:  20200101\n",
      "max_date_needed:  20200502\n"
     ]
    }
   ],
   "source": [
    "min_date_needed=\"20200101\"\n",
    "\n",
    "print(\"min_date_needed: \",min_date_needed)\n",
    "logging.info(\"min_date_needed: \"+str(min_date_needed))\n",
    "\n",
    "max_date_needed=\"20200502\"\n",
    "print(\"max_date_needed: \",max_date_needed)\n",
    "logging.info(\"max_date_needed: \"+str(max_date_needed))\n"
   ]
  },
  {
   "cell_type": "code",
   "execution_count": 6,
   "metadata": {},
   "outputs": [
    {
     "name": "stdout",
     "output_type": "stream",
     "text": [
      "impr:  1 2020-05-23 19:37:20.943956\n",
      "impr:  11 2020-05-23 19:37:27.897250\n",
      "impr:  21 2020-05-23 19:37:37.331431\n",
      "impr:  31 2020-05-23 19:37:53.458938\n",
      "impr:  41 2020-05-23 19:38:46.908429\n",
      "impr:  51 2020-05-23 19:39:20.529685\n",
      "impr:  61 2020-05-23 19:39:33.533176\n",
      "impr:  71 2020-05-23 19:39:41.789501\n",
      "impr:  81 2020-05-23 19:39:53.738063\n",
      "impr:  91 2020-05-23 19:40:07.719409\n",
      "impr:  101 2020-05-23 19:40:28.510929\n",
      "impr:  111 2020-05-23 19:40:50.668476\n",
      "click:  1 2020-05-23 19:41:01.460184\n",
      "click:  11 2020-05-23 19:41:02.153106\n",
      "click:  21 2020-05-23 19:41:02.726376\n",
      "click:  31 2020-05-23 19:41:03.087312\n",
      "click:  41 2020-05-23 19:41:03.750749\n",
      "click:  51 2020-05-23 19:41:04.556824\n",
      "click:  61 2020-05-23 19:41:05.212805\n",
      "click:  71 2020-05-23 19:41:05.839777\n",
      "click:  81 2020-05-23 19:41:06.460875\n",
      "click:  91 2020-05-23 19:41:07.166940\n",
      "click:  101 2020-05-23 19:41:07.814938\n",
      "click:  111 2020-05-23 19:41:08.540411\n",
      "click:  121 2020-05-23 19:41:09.277198\n",
      "act:  1 2020-05-23 19:41:10.848924\n",
      "act:  11 2020-05-23 19:41:18.616844\n",
      "act:  21 2020-05-23 19:41:24.913857\n",
      "act:  31 2020-05-23 19:41:29.571296\n",
      "act:  41 2020-05-23 19:41:49.800030\n",
      "act:  51 2020-05-23 19:42:09.581490\n",
      "act:  61 2020-05-23 19:42:46.335804\n",
      "act:  71 2020-05-23 19:43:06.674447\n",
      "act:  81 2020-05-23 19:43:16.355438\n",
      "act:  91 2020-05-23 19:43:24.639910\n",
      "act:  101 2020-05-23 19:43:30.137516\n",
      "act:  111 2020-05-23 19:43:37.322444\n",
      "act:  121 2020-05-23 19:43:46.237342\n",
      "act:  131 2020-05-23 19:44:04.937924\n",
      "all done 2020-05-23 19:44:08.302840\n"
     ]
    }
   ],
   "source": [
    "# impression\n",
    "# The 2020 Jan missing dcm logs since ~ 2020-01-20\n",
    "\n",
    "\n",
    "i_counter=0\n",
    "for file in list_remote_impr_files:\n",
    "    basename=os.path.basename(file)\n",
    "    \n",
    "    if (\"_impression_\" in basename) & (basename.split(\"_impression_\")[1][:8]>=min_date_needed) & (basename.split(\"_impression_\")[1][:8]<=max_date_needed):\n",
    "\n",
    "        sftp.get(file,impr_local_folder+basename)\n",
    "        i_counter+=1\n",
    "        if i_counter%10==1:\n",
    "            print('impr: ',i_counter,datetime.datetime.now())\n",
    "            logging.info(\"impr: \"+str(i_counter)+\" | \"+str(datetime.datetime.now()))\n",
    "            # break\n",
    "\n",
    "\n",
    "# click\n",
    "i_counter=0\n",
    "for file in list_remote_click_files:\n",
    "    basename=os.path.basename(file)\n",
    "    \n",
    "    if (\"_click_\" in basename) & (basename.split(\"_click_\")[1][:8]>=min_date_needed) & (basename.split(\"_click_\")[1][:8]<=max_date_needed):\n",
    "        \n",
    "        sftp.get(file,click_local_folder+basename)\n",
    "        i_counter+=1\n",
    "        if i_counter%10==1:\n",
    "            print('click: ',i_counter,datetime.datetime.now())\n",
    "            logging.info(\"click: \"+str(i_counter)+\" | \"+str(datetime.datetime.now()))\n",
    "            # break\n",
    "\n",
    "        \n",
    "        \n",
    "# activity\n",
    "i_counter=0\n",
    "for file in list_remote_act_files:\n",
    "    basename=os.path.basename(file)\n",
    "    if (\"_activity_\" in basename) & (basename.split(\"_activity_\")[1][:8]>=min_date_needed) & (basename.split(\"_activity_\")[1][:8]<=max_date_needed) & (\"dcart\" not in file):\n",
    "        sftp.get(file,act_local_folder+basename)\n",
    "        i_counter+=1\n",
    "        if i_counter%10==1:\n",
    "            print('act: ',i_counter,datetime.datetime.now())\n",
    "            logging.info(\"act: \"+str(i_counter)+\" | \"+str(datetime.datetime.now()))\n",
    "            # break\n",
    "\n",
    "        \n",
    "sftp.close()\n",
    "transport.close()\n",
    "\n",
    "print(\"all done\", datetime.datetime.now())\n",
    "logging.info(\"all done: \"+str(datetime.datetime.now()))\n"
   ]
  },
  {
   "cell_type": "code",
   "execution_count": 22,
   "metadata": {},
   "outputs": [],
   "source": [
    "act_check=[]\n",
    "for file in list_remote_act_files:\n",
    "    basename=os.path.basename(file)\n",
    "    if (\"_activity_\" in basename) & (basename.split(\"_activity_\")[1][:8]>=min_date_needed) & (basename.split(\"_activity_\")[1][:8]<=max_date_needed) & (\"dcart\" not in file):\n",
    "        act_check.append(os.path.basename(file))"
   ]
  },
  {
   "cell_type": "code",
   "execution_count": 23,
   "metadata": {},
   "outputs": [
    {
     "data": {
      "text/plain": [
       "124"
      ]
     },
     "execution_count": 23,
     "metadata": {},
     "output_type": "execute_result"
    }
   ],
   "source": [
    "len(act_check)"
   ]
  },
  {
   "cell_type": "code",
   "execution_count": 26,
   "metadata": {},
   "outputs": [
    {
     "data": {
      "text/plain": [
       "['/mnt/drv5/lr_biglots_data/download_logs/activities/CL_BigLots_dcm_account7252_activity_20200205_20200303_supplement_BL_20200521_114958_0000.tsv.gz']"
      ]
     },
     "execution_count": 26,
     "metadata": {},
     "output_type": "execute_result"
    }
   ],
   "source": [
    "[x for x in list_remote_act_files if \"supp\" in x]"
   ]
  },
  {
   "cell_type": "code",
   "execution_count": 27,
   "metadata": {},
   "outputs": [
    {
     "data": {
      "text/plain": [
       "['CL_BigLots_dcm_account7252_activity_20200205_20200303_supplement_BL_20200521_114958_0000.tsv.gz']"
      ]
     },
     "execution_count": 27,
     "metadata": {},
     "output_type": "execute_result"
    }
   ],
   "source": [
    "[x for x in act_check if \"supp\" in x]"
   ]
  },
  {
   "cell_type": "code",
   "execution_count": null,
   "metadata": {},
   "outputs": [],
   "source": []
  }
 ],
 "metadata": {
  "kernelspec": {
   "display_name": "Python 3",
   "language": "python",
   "name": "python3"
  },
  "language_info": {
   "codemirror_mode": {
    "name": "ipython",
    "version": 3
   },
   "file_extension": ".py",
   "mimetype": "text/x-python",
   "name": "python",
   "nbconvert_exporter": "python",
   "pygments_lexer": "ipython3",
   "version": "3.6.1"
  }
 },
 "nbformat": 4,
 "nbformat_minor": 2
}
