{
 "cells": [
  {
   "cell_type": "code",
   "execution_count": 1,
   "metadata": {},
   "outputs": [
    {
     "data": {
      "text/plain": [
       "'/home/jian/Projects/Big_Lots/Live_Ramp/Quarterly_Update_2019Q1/Aggregate_all_2019_Q1_segments'"
      ]
     },
     "execution_count": 1,
     "metadata": {},
     "output_type": "execute_result"
    }
   ],
   "source": [
    "import pandas as pd\n",
    "import numpy as np\n",
    "import datetime\n",
    "import os\n",
    "import glob\n",
    "os.getcwd()"
   ]
  },
  {
   "cell_type": "code",
   "execution_count": 2,
   "metadata": {
    "collapsed": true
   },
   "outputs": [],
   "source": [
    "def recurisve_file_gen(root_path):\n",
    "    for root, dirs, files in os.walk(root_path):\n",
    "        for file in files:\n",
    "            yield os.path.join(root, file)"
   ]
  },
  {
   "cell_type": "code",
   "execution_count": 3,
   "metadata": {},
   "outputs": [
    {
     "name": "stdout",
     "output_type": "stream",
     "text": [
      "segment_1_list_Q1_regular: 72\n",
      "segment_2_list_Experian_0225: 10\n",
      "segment_3_list_Experian_0412: 20\n",
      "segment_3_list_Experian_0427: 20\n",
      "segment_4_list_new_rewards: 15\n"
     ]
    }
   ],
   "source": [
    "segment_1_list_Q1_regular=glob.glob(\"/home/jian/Projects/Big_Lots/Live_Ramp/Quarterly_Update_2019Q1/crm_newscore_20190107/by_group_quadrant_24/*.csv\")\n",
    "print(\"segment_1_list_Q1_regular: \"+str(len(segment_1_list_Q1_regular)))\n",
    "\n",
    "segment_2_list_Experian_0225=glob.glob(\"/home/jian/Projects/Big_Lots/Analysis/2019_Q1/Experian/Experian_Control_Test/output/*.csv\")\n",
    "print(\"segment_2_list_Experian_0225: \"+str(len(segment_2_list_Experian_0225)))\n",
    "\n",
    "segment_3_list_Experian_0412=glob.glob(\"/home/jian/Projects/Big_Lots/Live_Ramp/Quarterly_Update_2019Q2/Experian_Email_Openers_Group/output/*.csv\")\n",
    "segment_3_list_Experian_0412=[x for x in segment_3_list_Experian_0412 if \"summary\" not in x]\n",
    "print(\"segment_3_list_Experian_0412: \"+str(len(segment_3_list_Experian_0412)))\n",
    "\n",
    "segment_3_list_Experian_0427=glob.glob(\"/home/jian/Projects/Big_Lots/Live_Ramp/Quarterly_Update_2019Q2/Experian_Email_Openers_Group/output_2nd_upload/*.csv\")\n",
    "print(\"segment_3_list_Experian_0427: \"+str(len(segment_3_list_Experian_0427))) # just check\n",
    "\n",
    "segment_4_list_new_rewards=list(recurisve_file_gen(\"/home/jian/celery/Append_to_celery_LiveRamp/monthly_update/\"))\n",
    "segment_4_list_new_rewards=[x for x in segment_4_list_new_rewards if \".csv\" in x]\n",
    "df_segment_4_list_new_rewards=pd.DataFrame({\"file_path\":segment_4_list_new_rewards})\n",
    "df_segment_4_list_new_rewards['date']=df_segment_4_list_new_rewards['file_path'].apply(lambda x: x.split(\"onthly_update/output_\")[1][:10])\n",
    "df_segment_4_list_new_rewards=df_segment_4_list_new_rewards[df_segment_4_list_new_rewards['date']>=\"2019-01-26\"] # next run 02-23, already in Q1\n",
    "df_segment_4_list_new_rewards=df_segment_4_list_new_rewards[df_segment_4_list_new_rewards['date']<\"2019-05-04\"] # uploaded 0504, so no target in Q1\n",
    "segment_4_list_new_rewards=df_segment_4_list_new_rewards['file_path'].tolist()\n",
    "print(\"segment_4_list_new_rewards: \"+str(len(segment_4_list_new_rewards)))\n",
    "\n",
    "dict_all_segments_files={\"segment_1_list_Q1_regular\":segment_1_list_Q1_regular,\n",
    "                        \"segment_2_list_Experian_0225\":segment_2_list_Experian_0225,\n",
    "                        \"segment_3_list_Experian_0412\":segment_3_list_Experian_0412,\n",
    "                        \"segment_4_list_new_rewards\":segment_4_list_new_rewards}"
   ]
  },
  {
   "cell_type": "code",
   "execution_count": 4,
   "metadata": {},
   "outputs": [
    {
     "name": "stdout",
     "output_type": "stream",
     "text": [
      "2 2019-06-11 15:08:26.573446\n",
      "12 2019-06-11 15:09:36.426821\n",
      "22 2019-06-11 15:09:49.369372\n",
      "32 2019-06-11 15:13:29.110493\n",
      "42 2019-06-11 15:22:15.600336\n",
      "52 2019-06-11 15:39:36.001829\n",
      "62 2019-06-11 15:54:12.408927\n",
      "72 2019-06-11 15:54:33.381410\n",
      "82 2019-06-11 16:04:29.094067\n",
      "92 2019-06-11 16:09:25.235320\n",
      "102 2019-06-11 16:12:22.278661\n",
      "112 2019-06-11 16:18:30.613964\n"
     ]
    }
   ],
   "source": [
    "df_all_aggregated_seg=pd.DataFrame()\n",
    "df_file_summary=pd.DataFrame()\n",
    "\n",
    "i_counter=0\n",
    "for seg_wave in dict_all_segments_files.keys():\n",
    "    seg_wave_name=seg_wave.split(\"_list_\")[1]\n",
    "    for file_path in dict_all_segments_files[seg_wave]:\n",
    "        df=pd.read_csv(file_path,dtype=str)\n",
    "        if df['segment'].nunique()!=1:\n",
    "            print(\"multiple_segments_in_1_file\",seg_wave,file_path, datetime.datetime.now())\n",
    "        else:\n",
    "            file_base_name=os.path.basename(file_path)\n",
    "            df_all_aggregated_seg=df_all_aggregated_seg.append(df)\n",
    "            \n",
    "            segment_value=df['segment'].unique().tolist()[0]            \n",
    "            count_ids=df['customer_id_hashed'].nunique()\n",
    "            df_file_stat=pd.DataFrame({\"file_base_name\":file_base_name,\"segment_value\":segment_value,\n",
    "                                      \"id_counts\":count_ids,\"upload_wave\":seg_wave_name},index=[i_counter])\n",
    "            \n",
    "            df_file_summary=df_file_summary.append(df_file_stat)\n",
    "            i_counter+=1\n",
    "            \n",
    "            if i_counter%10==2:\n",
    "                print(i_counter,datetime.datetime.now())\n",
    "        \n",
    "        "
   ]
  },
  {
   "cell_type": "code",
   "execution_count": 10,
   "metadata": {},
   "outputs": [],
   "source": [
    "import pandas as pd\n",
    "import numpy as np\n",
    "import datetime\n",
    "df_file_summary=pd.read_excel(\"./BL_2019Q1_LiveRamp_All_Segments_JL_2019-06-11.xlsx\",dtype=str)\n",
    "def def_test_control(x):\n",
    "    if ((\"Experian_T\" in x) | (x[:2]==\"T_\") | (\"NewReward\" in x) | ((\"T_\" in x) & (\"Experian\" in x))):\n",
    "        y=\"Test\"\n",
    "    elif ((\"_C_\" in x) | (x[:2]==\"C_\")):\n",
    "        y=\"Control\"\n",
    "    else:\n",
    "        y=np.nan\n",
    "    return y\n",
    "\n",
    "df_file_summary['T_C_Group']=df_file_summary['file_base_name'].apply(lambda x: def_test_control(x))"
   ]
  },
  {
   "cell_type": "code",
   "execution_count": 11,
   "metadata": {},
   "outputs": [],
   "source": [
    "writer=pd.ExcelWriter(\"./BL_2019Q1_LiveRamp_All_Segments_JL_\"+str(datetime.datetime.now().date())+\".xlsx\",engine=\"xlsxwriter\")\n",
    "df_file_summary.to_excel(writer,\"Q1_2019_segments_LR\",index=False)\n",
    "writer.save()"
   ]
  },
  {
   "cell_type": "code",
   "execution_count": 9,
   "metadata": {
    "collapsed": true
   },
   "outputs": [],
   "source": [
    "df_all_aggregated_seg.to_csv(\"/home/jian/Projects/Big_Lots/Live_Ramp/Quarterly_Update_2019Q1/Aggregate_all_2019_Q1_segments/BL_2019Q1_all_segments_aggregated_JL_\"+str(datetime.datetime.now().date())+\".csv\",index=False)\n"
   ]
  },
  {
   "cell_type": "code",
   "execution_count": 10,
   "metadata": {},
   "outputs": [
    {
     "data": {
      "text/html": [
       "<div>\n",
       "<style>\n",
       "    .dataframe thead tr:only-child th {\n",
       "        text-align: right;\n",
       "    }\n",
       "\n",
       "    .dataframe thead th {\n",
       "        text-align: left;\n",
       "    }\n",
       "\n",
       "    .dataframe tbody tr th {\n",
       "        vertical-align: top;\n",
       "    }\n",
       "</style>\n",
       "<table border=\"1\" class=\"dataframe\">\n",
       "  <thead>\n",
       "    <tr style=\"text-align: right;\">\n",
       "      <th></th>\n",
       "      <th>Email_Address_hash</th>\n",
       "      <th>customer_id_hashed</th>\n",
       "      <th>customer_zip_code</th>\n",
       "      <th>email_address_hash</th>\n",
       "      <th>segment</th>\n",
       "    </tr>\n",
       "  </thead>\n",
       "  <tbody>\n",
       "    <tr>\n",
       "      <th>0</th>\n",
       "      <td>NaN</td>\n",
       "      <td>24975afca413be4e03c4cece389765b9b479ceb476f8d1...</td>\n",
       "      <td>NaN</td>\n",
       "      <td>cf15cd4a38d13616ae31fb976e85c7759e655ac2cb3c81...</td>\n",
       "      <td>T_Quadrant I_P_L_2019Q1</td>\n",
       "    </tr>\n",
       "    <tr>\n",
       "      <th>1</th>\n",
       "      <td>NaN</td>\n",
       "      <td>3b45341b46de76883a6eab373af4ba6ca5ed390ba67ea2...</td>\n",
       "      <td>NaN</td>\n",
       "      <td>2403a3c80638d318f899685e6371989420789a526a631e...</td>\n",
       "      <td>T_Quadrant I_P_L_2019Q1</td>\n",
       "    </tr>\n",
       "  </tbody>\n",
       "</table>\n",
       "</div>"
      ],
      "text/plain": [
       "  Email_Address_hash                                 customer_id_hashed  \\\n",
       "0                NaN  24975afca413be4e03c4cece389765b9b479ceb476f8d1...   \n",
       "1                NaN  3b45341b46de76883a6eab373af4ba6ca5ed390ba67ea2...   \n",
       "\n",
       "  customer_zip_code                                 email_address_hash  \\\n",
       "0               NaN  cf15cd4a38d13616ae31fb976e85c7759e655ac2cb3c81...   \n",
       "1               NaN  2403a3c80638d318f899685e6371989420789a526a631e...   \n",
       "\n",
       "                   segment  \n",
       "0  T_Quadrant I_P_L_2019Q1  \n",
       "1  T_Quadrant I_P_L_2019Q1  "
      ]
     },
     "execution_count": 10,
     "metadata": {},
     "output_type": "execute_result"
    }
   ],
   "source": [
    "df_all_aggregated_seg.head(2)"
   ]
  },
  {
   "cell_type": "code",
   "execution_count": 11,
   "metadata": {},
   "outputs": [
    {
     "data": {
      "text/html": [
       "<div>\n",
       "<style>\n",
       "    .dataframe thead tr:only-child th {\n",
       "        text-align: right;\n",
       "    }\n",
       "\n",
       "    .dataframe thead th {\n",
       "        text-align: left;\n",
       "    }\n",
       "\n",
       "    .dataframe tbody tr th {\n",
       "        vertical-align: top;\n",
       "    }\n",
       "</style>\n",
       "<table border=\"1\" class=\"dataframe\">\n",
       "  <thead>\n",
       "    <tr style=\"text-align: right;\">\n",
       "      <th></th>\n",
       "      <th>Email_Address_hash</th>\n",
       "      <th>customer_id_hashed</th>\n",
       "      <th>customer_zip_code</th>\n",
       "      <th>email_address_hash</th>\n",
       "      <th>segment</th>\n",
       "    </tr>\n",
       "  </thead>\n",
       "  <tbody>\n",
       "    <tr>\n",
       "      <th>14386</th>\n",
       "      <td>NaN</td>\n",
       "      <td>f229522fdc03e58373355f1766d69a2191259fc078c31b...</td>\n",
       "      <td>NaN</td>\n",
       "      <td>b6de85a13f6f26bd32bd7366fd270c44389eb4fc05fac3...</td>\n",
       "      <td>NewReward_042019_T</td>\n",
       "    </tr>\n",
       "    <tr>\n",
       "      <th>14387</th>\n",
       "      <td>NaN</td>\n",
       "      <td>e6a5518869788f68647f9c4c3a1bbab9b1d8acfb51ea42...</td>\n",
       "      <td>NaN</td>\n",
       "      <td>068ec8522dbb6b59534a94405ebaf8c582a47cf60dc312...</td>\n",
       "      <td>NewReward_042019_T</td>\n",
       "    </tr>\n",
       "    <tr>\n",
       "      <th>14388</th>\n",
       "      <td>NaN</td>\n",
       "      <td>155c89fb706c4bd909698f7a07954bdf6b45cdee8e4659...</td>\n",
       "      <td>94559</td>\n",
       "      <td>ca0e4cbe93735b728c3c05ec1229e1c63bf83587dcbd26...</td>\n",
       "      <td>NewReward_042019_T</td>\n",
       "    </tr>\n",
       "    <tr>\n",
       "      <th>14389</th>\n",
       "      <td>NaN</td>\n",
       "      <td>3d3f753057950d1fb0e0af8544cacf54c48f4edf2fa6d8...</td>\n",
       "      <td>NaN</td>\n",
       "      <td>7e8f2a6ea038871e886b4d267fe994357cdf98820a2ac8...</td>\n",
       "      <td>NewReward_042019_T</td>\n",
       "    </tr>\n",
       "  </tbody>\n",
       "</table>\n",
       "</div>"
      ],
      "text/plain": [
       "      Email_Address_hash                                 customer_id_hashed  \\\n",
       "14386                NaN  f229522fdc03e58373355f1766d69a2191259fc078c31b...   \n",
       "14387                NaN  e6a5518869788f68647f9c4c3a1bbab9b1d8acfb51ea42...   \n",
       "14388                NaN  155c89fb706c4bd909698f7a07954bdf6b45cdee8e4659...   \n",
       "14389                NaN  3d3f753057950d1fb0e0af8544cacf54c48f4edf2fa6d8...   \n",
       "\n",
       "      customer_zip_code                                 email_address_hash  \\\n",
       "14386               NaN  b6de85a13f6f26bd32bd7366fd270c44389eb4fc05fac3...   \n",
       "14387               NaN  068ec8522dbb6b59534a94405ebaf8c582a47cf60dc312...   \n",
       "14388             94559  ca0e4cbe93735b728c3c05ec1229e1c63bf83587dcbd26...   \n",
       "14389               NaN  7e8f2a6ea038871e886b4d267fe994357cdf98820a2ac8...   \n",
       "\n",
       "                  segment  \n",
       "14386  NewReward_042019_T  \n",
       "14387  NewReward_042019_T  \n",
       "14388  NewReward_042019_T  \n",
       "14389  NewReward_042019_T  "
      ]
     },
     "execution_count": 11,
     "metadata": {},
     "output_type": "execute_result"
    }
   ],
   "source": [
    "df_all_aggregated_seg.tail(4)"
   ]
  },
  {
   "cell_type": "code",
   "execution_count": null,
   "metadata": {
    "collapsed": true
   },
   "outputs": [],
   "source": []
  }
 ],
 "metadata": {
  "kernelspec": {
   "display_name": "Python 3",
   "language": "python",
   "name": "python3"
  },
  "language_info": {
   "codemirror_mode": {
    "name": "ipython",
    "version": 3
   },
   "file_extension": ".py",
   "mimetype": "text/x-python",
   "name": "python",
   "nbconvert_exporter": "python",
   "pygments_lexer": "ipython3",
   "version": "3.6.1"
  }
 },
 "nbformat": 4,
 "nbformat_minor": 2
}
