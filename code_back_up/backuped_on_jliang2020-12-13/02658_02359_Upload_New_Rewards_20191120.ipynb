{
 "cells": [
  {
   "cell_type": "code",
   "execution_count": 1,
   "metadata": {
    "collapsed": true
   },
   "outputs": [],
   "source": [
    "# 2 weeks together\n",
    "import pandas as pd\n",
    "import numpy as np\n",
    "import datetime\n",
    "import os\n",
    "# Add the new folders of Jian later"
   ]
  },
  {
   "cell_type": "code",
   "execution_count": 2,
   "metadata": {},
   "outputs": [
    {
     "data": {
      "text/plain": [
       "[datetime.date(2019, 11, 16), datetime.date(2019, 11, 9)]"
      ]
     },
     "execution_count": 2,
     "metadata": {},
     "output_type": "execute_result"
    }
   ],
   "source": [
    "def recursive_file_gen(my_root_dir):\n",
    "    for root, dirs, files in os.walk(my_root_dir):\n",
    "        for file in files:\n",
    "            yield os.path.join(root, file)\n",
    "            \n",
    "last_saturday=datetime.datetime.now().date()-datetime.timedelta(days=datetime.datetime.now().date().weekday()+2) #+7\n",
    "\n",
    "write_folder=\"/home/jian/celery/BiWeekly_New_SignUps/monthly_update/output_\"+str(last_saturday)+\"/\"\n",
    "try:\n",
    "    os.stat(write_folder)\n",
    "except:\n",
    "    os.mkdir(write_folder)\n",
    "\n",
    "week_beginning=last_saturday-datetime.timedelta(days=14) # To be changed to 14\n",
    "\n",
    "recent_2_weeks=[last_saturday-datetime.timedelta(days=x*7) for x in range(2)]\n",
    "recent_2_weeks"
   ]
  },
  {
   "cell_type": "code",
   "execution_count": 3,
   "metadata": {},
   "outputs": [
    {
     "name": "stdout",
     "output_type": "stream",
     "text": [
      "2\n"
     ]
    },
    {
     "name": "stderr",
     "output_type": "stream",
     "text": [
      "/home/jian/.local/lib/python3.6/site-packages/pandas/core/frame.py:7138: FutureWarning: Sorting because non-concatenation axis is not aligned. A future version\n",
      "of pandas will change to not sort by default.\n",
      "\n",
      "To accept the future behavior, pass 'sort=False'.\n",
      "\n",
      "To retain the current behavior and silence the warning, pass 'sort=True'.\n",
      "\n",
      "  sort=sort,\n"
     ]
    }
   ],
   "source": [
    "# Checking for the recent weeks that haven't moved to the folder\n",
    "possible_recent_folders=[\"/home/jian/BigLots/MediaStorm_\"+str(x)+\"/\" for x in recent_2_weeks]\n",
    "recent_file_list=[]\n",
    "for dirc in possible_recent_folders:\n",
    "    list_recent=[x for x in list(recursive_file_gen(dirc)) if (\"Master\" in x) & (\".txt\" in x) ]\n",
    "    recent_file_list=recent_file_list+list_recent\n",
    "recent_file_df=pd.DataFrame({\"path\":recent_file_list,\"date\":[datetime.datetime.strptime(x.split(\"MasterWeekly\")[1][:8],\"%Y%m%d\").date()-datetime.timedelta(days=3) for x in recent_file_list]},index=[x for x in range(len(recent_file_list))])\n",
    "\n",
    "\n",
    "list_1_after_201806=[x for x in list(recursive_file_gen(\"/home/jian/BigLots/2019_by_weeks/\")) if (\"Master\" in x) & (\".txt\" in x) ]\n",
    "folder_date=[datetime.datetime.strptime(x.split(\"/\")[len(x.split(\"/\"))-2].split(\"_\")[1],\"%Y-%m-%d\").date() for x in list_1_after_201806]\n",
    "df_1_after_201806=pd.DataFrame({\"date\":folder_date,\"path\":list_1_after_201806},index=[x for x in range(len(list_1_after_201806))])\n",
    "df_1_after_201806['date'].apply(lambda x: x.weekday()).unique()\n",
    "df_1_after_201806=df_1_after_201806.sort_values(\"date\").reset_index()\n",
    "df_1_after_201806=df_1_after_201806[df_1_after_201806['date']>week_beginning]\n",
    "del df_1_after_201806['index']\n",
    "\n",
    "new_2_biweekly_files=df_1_after_201806.append(recent_file_df)\n",
    "\n",
    "print(len(new_2_biweekly_files))\n",
    "new_2_biweekly_files=new_2_biweekly_files['path'].unique().tolist()"
   ]
  },
  {
   "cell_type": "code",
   "execution_count": 4,
   "metadata": {},
   "outputs": [
    {
     "data": {
      "text/plain": [
       "['/home/jian/BigLots/2019_by_weeks/MediaStorm_2019-11-09/MediaStormMasterWeekly20191112-115559-074.txt',\n",
       " '/home/jian/BigLots/MediaStorm_2019-11-16/MediaStormMasterWeekly20191119-112545-182.txt']"
      ]
     },
     "execution_count": 4,
     "metadata": {},
     "output_type": "execute_result"
    }
   ],
   "source": [
    "new_2_biweekly_files"
   ]
  },
  {
   "cell_type": "code",
   "execution_count": 5,
   "metadata": {},
   "outputs": [
    {
     "name": "stdout",
     "output_type": "stream",
     "text": [
      "(141547, 3)\n",
      "(298754, 3)\n",
      "298754\n",
      "298751\n"
     ]
    }
   ],
   "source": [
    "if len(new_2_biweekly_files)==2: # Changed to weekly\n",
    "    df_all_new_master = pd.DataFrame()\n",
    "    for file in new_2_biweekly_files:\n",
    "        df = pd.read_csv(file,nrows = None,sep= '|',usecols = ['customer_id_hashed','email_address_hash','customer_zip_code'],\n",
    "                         dtype =str)\n",
    "        df_all_new_master = df_all_new_master.append(df,ignore_index = True)\n",
    "        print(df_all_new_master.shape)\n",
    "    print(len(df_all_new_master.index))\n",
    "    df_all_new_master = df_all_new_master.drop_duplicates('email_address_hash')\n",
    "    print(len(df_all_new_master.index))\n"
   ]
  },
  {
   "cell_type": "code",
   "execution_count": 6,
   "metadata": {},
   "outputs": [
    {
     "name": "stdout",
     "output_type": "stream",
     "text": [
      "178\n"
     ]
    }
   ],
   "source": [
    "# Remove previous week ids\n",
    "\n",
    "previous_id_files_lists=list(recursive_file_gen(\"/home/jian/Projects/Big_Lots/Live_Ramp/Quarterly_Update_2019Q4/upload_files/\"))\n",
    "\n",
    "# previous_id_files_lists=[x for x in previous_id_files_lists if \"Copy of 48 Stores_727.csv\" not in x]\n",
    "previous_id_files_lists=[x for x in previous_id_files_lists if \".csv\" in x]\n",
    "print(len(previous_id_files_lists))"
   ]
  },
  {
   "cell_type": "code",
   "execution_count": 7,
   "metadata": {},
   "outputs": [
    {
     "data": {
      "text/plain": [
       "['/home/jian/Projects/Big_Lots/Live_Ramp/Quarterly_Update_2019Q4/upload_files/T_Active(0-12)_Score(H)_Density(H)_Legacy_HolidayShoppers_P_2019Q4_RFM.csv',\n",
       " '/home/jian/Projects/Big_Lots/Live_Ramp/Quarterly_Update_2019Q4/upload_files/T_Active(0-12)_Score(H)_Density(H)_Legacy_HolidayShoppers_S_2019Q4_RFM.csv',\n",
       " '/home/jian/Projects/Big_Lots/Live_Ramp/Quarterly_Update_2019Q4/upload_files/T_Active(0-12)_Score(H)_Density(H)_Legacy_Others_P_2019Q4_RFM.csv',\n",
       " '/home/jian/Projects/Big_Lots/Live_Ramp/Quarterly_Update_2019Q4/upload_files/T_Active(0-12)_Score(H)_Density(H)_Legacy_Others_S_2019Q4_RFM.csv',\n",
       " '/home/jian/Projects/Big_Lots/Live_Ramp/Quarterly_Update_2019Q4/upload_files/T_Active(0-12)_Score(H)_Density(H)_SOTF_HolidayShoppers_P_2019Q4_RFM.csv',\n",
       " '/home/jian/Projects/Big_Lots/Live_Ramp/Quarterly_Update_2019Q4/upload_files/T_Active(0-12)_Score(H)_Density(H)_SOTF_HolidayShoppers_S_2019Q4_RFM.csv',\n",
       " '/home/jian/Projects/Big_Lots/Live_Ramp/Quarterly_Update_2019Q4/upload_files/T_Active(0-12)_Score(H)_Density(H)_SOTF_Others_P_2019Q4_RFM.csv',\n",
       " '/home/jian/Projects/Big_Lots/Live_Ramp/Quarterly_Update_2019Q4/upload_files/T_Active(0-12)_Score(H)_Density(H)_SOTF_Others_S_2019Q4_RFM.csv',\n",
       " '/home/jian/Projects/Big_Lots/Live_Ramp/Quarterly_Update_2019Q4/upload_files/T_Active(0-12)_Score(H)_Density(L)_Legacy_HolidayShoppers_P_2019Q4_RFM.csv',\n",
       " '/home/jian/Projects/Big_Lots/Live_Ramp/Quarterly_Update_2019Q4/upload_files/T_Active(0-12)_Score(H)_Density(L)_Legacy_HolidayShoppers_S_2019Q4_RFM.csv',\n",
       " '/home/jian/Projects/Big_Lots/Live_Ramp/Quarterly_Update_2019Q4/upload_files/T_Active(0-12)_Score(H)_Density(L)_Legacy_Others_P_2019Q4_RFM.csv',\n",
       " '/home/jian/Projects/Big_Lots/Live_Ramp/Quarterly_Update_2019Q4/upload_files/T_Active(0-12)_Score(H)_Density(L)_Legacy_Others_S_2019Q4_RFM.csv',\n",
       " '/home/jian/Projects/Big_Lots/Live_Ramp/Quarterly_Update_2019Q4/upload_files/T_Active(0-12)_Score(H)_Density(L)_SOTF_HolidayShoppers_P_2019Q4_RFM.csv',\n",
       " '/home/jian/Projects/Big_Lots/Live_Ramp/Quarterly_Update_2019Q4/upload_files/T_Active(0-12)_Score(H)_Density(L)_SOTF_HolidayShoppers_S_2019Q4_RFM.csv',\n",
       " '/home/jian/Projects/Big_Lots/Live_Ramp/Quarterly_Update_2019Q4/upload_files/T_Active(0-12)_Score(H)_Density(L)_SOTF_Others_P_2019Q4_RFM.csv',\n",
       " '/home/jian/Projects/Big_Lots/Live_Ramp/Quarterly_Update_2019Q4/upload_files/T_Active(0-12)_Score(H)_Density(L)_SOTF_Others_S_2019Q4_RFM.csv',\n",
       " '/home/jian/Projects/Big_Lots/Live_Ramp/Quarterly_Update_2019Q4/upload_files/T_Active(0-12)_Score(H)_Density(M)_Legacy_HolidayShoppers_P_2019Q4_RFM.csv',\n",
       " '/home/jian/Projects/Big_Lots/Live_Ramp/Quarterly_Update_2019Q4/upload_files/T_Active(0-12)_Score(H)_Density(M)_Legacy_HolidayShoppers_S_2019Q4_RFM.csv',\n",
       " '/home/jian/Projects/Big_Lots/Live_Ramp/Quarterly_Update_2019Q4/upload_files/T_Active(0-12)_Score(H)_Density(M)_Legacy_Others_P_2019Q4_RFM.csv',\n",
       " '/home/jian/Projects/Big_Lots/Live_Ramp/Quarterly_Update_2019Q4/upload_files/T_Active(0-12)_Score(H)_Density(M)_Legacy_Others_S_2019Q4_RFM.csv',\n",
       " '/home/jian/Projects/Big_Lots/Live_Ramp/Quarterly_Update_2019Q4/upload_files/T_Active(0-12)_Score(H)_Density(M)_SOTF_HolidayShoppers_P_2019Q4_RFM.csv',\n",
       " '/home/jian/Projects/Big_Lots/Live_Ramp/Quarterly_Update_2019Q4/upload_files/T_Active(0-12)_Score(H)_Density(M)_SOTF_HolidayShoppers_S_2019Q4_RFM.csv',\n",
       " '/home/jian/Projects/Big_Lots/Live_Ramp/Quarterly_Update_2019Q4/upload_files/T_Active(0-12)_Score(H)_Density(M)_SOTF_Others_P_2019Q4_RFM.csv',\n",
       " '/home/jian/Projects/Big_Lots/Live_Ramp/Quarterly_Update_2019Q4/upload_files/T_Active(0-12)_Score(H)_Density(M)_SOTF_Others_S_2019Q4_RFM.csv',\n",
       " '/home/jian/Projects/Big_Lots/Live_Ramp/Quarterly_Update_2019Q4/upload_files/T_Active(0-12)_Score(L)_Density(H)_Legacy_HolidayShoppers_P_2019Q4_RFM.csv',\n",
       " '/home/jian/Projects/Big_Lots/Live_Ramp/Quarterly_Update_2019Q4/upload_files/T_Active(0-12)_Score(L)_Density(H)_Legacy_HolidayShoppers_S_2019Q4_RFM.csv',\n",
       " '/home/jian/Projects/Big_Lots/Live_Ramp/Quarterly_Update_2019Q4/upload_files/T_Active(0-12)_Score(L)_Density(H)_Legacy_Others_P_2019Q4_RFM.csv',\n",
       " '/home/jian/Projects/Big_Lots/Live_Ramp/Quarterly_Update_2019Q4/upload_files/T_Active(0-12)_Score(L)_Density(H)_Legacy_Others_S_2019Q4_RFM.csv',\n",
       " '/home/jian/Projects/Big_Lots/Live_Ramp/Quarterly_Update_2019Q4/upload_files/T_Active(0-12)_Score(L)_Density(H)_SOTF_HolidayShoppers_P_2019Q4_RFM.csv',\n",
       " '/home/jian/Projects/Big_Lots/Live_Ramp/Quarterly_Update_2019Q4/upload_files/T_Active(0-12)_Score(L)_Density(H)_SOTF_HolidayShoppers_S_2019Q4_RFM.csv',\n",
       " '/home/jian/Projects/Big_Lots/Live_Ramp/Quarterly_Update_2019Q4/upload_files/T_Active(0-12)_Score(L)_Density(H)_SOTF_Others_P_2019Q4_RFM.csv',\n",
       " '/home/jian/Projects/Big_Lots/Live_Ramp/Quarterly_Update_2019Q4/upload_files/T_Active(0-12)_Score(L)_Density(H)_SOTF_Others_S_2019Q4_RFM.csv',\n",
       " '/home/jian/Projects/Big_Lots/Live_Ramp/Quarterly_Update_2019Q4/upload_files/T_Active(0-12)_Score(L)_Density(L)_Legacy_HolidayShoppers_P_2019Q4_RFM.csv',\n",
       " '/home/jian/Projects/Big_Lots/Live_Ramp/Quarterly_Update_2019Q4/upload_files/T_Active(0-12)_Score(L)_Density(L)_Legacy_HolidayShoppers_S_2019Q4_RFM.csv',\n",
       " '/home/jian/Projects/Big_Lots/Live_Ramp/Quarterly_Update_2019Q4/upload_files/T_Active(0-12)_Score(L)_Density(L)_Legacy_Others_P_2019Q4_RFM.csv',\n",
       " '/home/jian/Projects/Big_Lots/Live_Ramp/Quarterly_Update_2019Q4/upload_files/T_Active(0-12)_Score(L)_Density(L)_Legacy_Others_S_2019Q4_RFM.csv',\n",
       " '/home/jian/Projects/Big_Lots/Live_Ramp/Quarterly_Update_2019Q4/upload_files/T_Active(0-12)_Score(L)_Density(L)_SOTF_HolidayShoppers_P_2019Q4_RFM.csv',\n",
       " '/home/jian/Projects/Big_Lots/Live_Ramp/Quarterly_Update_2019Q4/upload_files/T_Active(0-12)_Score(L)_Density(L)_SOTF_HolidayShoppers_S_2019Q4_RFM.csv',\n",
       " '/home/jian/Projects/Big_Lots/Live_Ramp/Quarterly_Update_2019Q4/upload_files/T_Active(0-12)_Score(L)_Density(L)_SOTF_Others_P_2019Q4_RFM.csv',\n",
       " '/home/jian/Projects/Big_Lots/Live_Ramp/Quarterly_Update_2019Q4/upload_files/T_Active(0-12)_Score(L)_Density(L)_SOTF_Others_S_2019Q4_RFM.csv',\n",
       " '/home/jian/Projects/Big_Lots/Live_Ramp/Quarterly_Update_2019Q4/upload_files/T_Active(0-12)_Score(L)_Density(M)_Legacy_HolidayShoppers_P_2019Q4_RFM.csv',\n",
       " '/home/jian/Projects/Big_Lots/Live_Ramp/Quarterly_Update_2019Q4/upload_files/T_Active(0-12)_Score(L)_Density(M)_Legacy_HolidayShoppers_S_2019Q4_RFM.csv',\n",
       " '/home/jian/Projects/Big_Lots/Live_Ramp/Quarterly_Update_2019Q4/upload_files/T_Active(0-12)_Score(L)_Density(M)_Legacy_Others_P_2019Q4_RFM.csv',\n",
       " '/home/jian/Projects/Big_Lots/Live_Ramp/Quarterly_Update_2019Q4/upload_files/T_Active(0-12)_Score(L)_Density(M)_Legacy_Others_S_2019Q4_RFM.csv',\n",
       " '/home/jian/Projects/Big_Lots/Live_Ramp/Quarterly_Update_2019Q4/upload_files/T_Active(0-12)_Score(L)_Density(M)_SOTF_HolidayShoppers_P_2019Q4_RFM.csv',\n",
       " '/home/jian/Projects/Big_Lots/Live_Ramp/Quarterly_Update_2019Q4/upload_files/T_Active(0-12)_Score(L)_Density(M)_SOTF_HolidayShoppers_S_2019Q4_RFM.csv',\n",
       " '/home/jian/Projects/Big_Lots/Live_Ramp/Quarterly_Update_2019Q4/upload_files/T_Active(0-12)_Score(L)_Density(M)_SOTF_Others_P_2019Q4_RFM.csv',\n",
       " '/home/jian/Projects/Big_Lots/Live_Ramp/Quarterly_Update_2019Q4/upload_files/T_Active(0-12)_Score(L)_Density(M)_SOTF_Others_S_2019Q4_RFM.csv',\n",
       " '/home/jian/Projects/Big_Lots/Live_Ramp/Quarterly_Update_2019Q4/upload_files/T_Active(0-12)_Score(M)_Density(H)_Legacy_HolidayShoppers_P_2019Q4_RFM.csv',\n",
       " '/home/jian/Projects/Big_Lots/Live_Ramp/Quarterly_Update_2019Q4/upload_files/T_Active(0-12)_Score(M)_Density(H)_Legacy_HolidayShoppers_S_2019Q4_RFM.csv',\n",
       " '/home/jian/Projects/Big_Lots/Live_Ramp/Quarterly_Update_2019Q4/upload_files/T_Active(0-12)_Score(M)_Density(H)_Legacy_Others_P_2019Q4_RFM.csv',\n",
       " '/home/jian/Projects/Big_Lots/Live_Ramp/Quarterly_Update_2019Q4/upload_files/T_Active(0-12)_Score(M)_Density(H)_Legacy_Others_S_2019Q4_RFM.csv',\n",
       " '/home/jian/Projects/Big_Lots/Live_Ramp/Quarterly_Update_2019Q4/upload_files/T_Active(0-12)_Score(M)_Density(H)_SOTF_HolidayShoppers_P_2019Q4_RFM.csv',\n",
       " '/home/jian/Projects/Big_Lots/Live_Ramp/Quarterly_Update_2019Q4/upload_files/T_Active(0-12)_Score(M)_Density(H)_SOTF_HolidayShoppers_S_2019Q4_RFM.csv',\n",
       " '/home/jian/Projects/Big_Lots/Live_Ramp/Quarterly_Update_2019Q4/upload_files/T_Active(0-12)_Score(M)_Density(H)_SOTF_Others_P_2019Q4_RFM.csv',\n",
       " '/home/jian/Projects/Big_Lots/Live_Ramp/Quarterly_Update_2019Q4/upload_files/T_Active(0-12)_Score(M)_Density(H)_SOTF_Others_S_2019Q4_RFM.csv',\n",
       " '/home/jian/Projects/Big_Lots/Live_Ramp/Quarterly_Update_2019Q4/upload_files/T_Active(0-12)_Score(M)_Density(L)_Legacy_HolidayShoppers_P_2019Q4_RFM.csv',\n",
       " '/home/jian/Projects/Big_Lots/Live_Ramp/Quarterly_Update_2019Q4/upload_files/T_Active(0-12)_Score(M)_Density(L)_Legacy_HolidayShoppers_S_2019Q4_RFM.csv',\n",
       " '/home/jian/Projects/Big_Lots/Live_Ramp/Quarterly_Update_2019Q4/upload_files/T_Active(0-12)_Score(M)_Density(L)_Legacy_Others_P_2019Q4_RFM.csv',\n",
       " '/home/jian/Projects/Big_Lots/Live_Ramp/Quarterly_Update_2019Q4/upload_files/T_Active(0-12)_Score(M)_Density(L)_Legacy_Others_S_2019Q4_RFM.csv',\n",
       " '/home/jian/Projects/Big_Lots/Live_Ramp/Quarterly_Update_2019Q4/upload_files/T_Active(0-12)_Score(M)_Density(L)_SOTF_HolidayShoppers_P_2019Q4_RFM.csv',\n",
       " '/home/jian/Projects/Big_Lots/Live_Ramp/Quarterly_Update_2019Q4/upload_files/T_Active(0-12)_Score(M)_Density(L)_SOTF_HolidayShoppers_S_2019Q4_RFM.csv',\n",
       " '/home/jian/Projects/Big_Lots/Live_Ramp/Quarterly_Update_2019Q4/upload_files/T_Active(0-12)_Score(M)_Density(L)_SOTF_Others_P_2019Q4_RFM.csv',\n",
       " '/home/jian/Projects/Big_Lots/Live_Ramp/Quarterly_Update_2019Q4/upload_files/T_Active(0-12)_Score(M)_Density(L)_SOTF_Others_S_2019Q4_RFM.csv',\n",
       " '/home/jian/Projects/Big_Lots/Live_Ramp/Quarterly_Update_2019Q4/upload_files/T_Active(0-12)_Score(M)_Density(M)_Legacy_HolidayShoppers_P_2019Q4_RFM.csv',\n",
       " '/home/jian/Projects/Big_Lots/Live_Ramp/Quarterly_Update_2019Q4/upload_files/T_Active(0-12)_Score(M)_Density(M)_Legacy_HolidayShoppers_S_2019Q4_RFM.csv',\n",
       " '/home/jian/Projects/Big_Lots/Live_Ramp/Quarterly_Update_2019Q4/upload_files/T_Active(0-12)_Score(M)_Density(M)_Legacy_Others_P_2019Q4_RFM.csv',\n",
       " '/home/jian/Projects/Big_Lots/Live_Ramp/Quarterly_Update_2019Q4/upload_files/T_Active(0-12)_Score(M)_Density(M)_Legacy_Others_S_2019Q4_RFM.csv',\n",
       " '/home/jian/Projects/Big_Lots/Live_Ramp/Quarterly_Update_2019Q4/upload_files/T_Active(0-12)_Score(M)_Density(M)_SOTF_HolidayShoppers_P_2019Q4_RFM.csv',\n",
       " '/home/jian/Projects/Big_Lots/Live_Ramp/Quarterly_Update_2019Q4/upload_files/T_Active(0-12)_Score(M)_Density(M)_SOTF_HolidayShoppers_S_2019Q4_RFM.csv',\n",
       " '/home/jian/Projects/Big_Lots/Live_Ramp/Quarterly_Update_2019Q4/upload_files/T_Active(0-12)_Score(M)_Density(M)_SOTF_Others_P_2019Q4_RFM.csv',\n",
       " '/home/jian/Projects/Big_Lots/Live_Ramp/Quarterly_Update_2019Q4/upload_files/T_Active(0-12)_Score(M)_Density(M)_SOTF_Others_S_2019Q4_RFM.csv',\n",
       " '/home/jian/Projects/Big_Lots/Live_Ramp/Quarterly_Update_2019Q4/upload_files/T_Lapsed(13-18)_Score(L)_Density(H)_Legacy_AllExpCluster_P_2019Q4_RFM.csv',\n",
       " '/home/jian/Projects/Big_Lots/Live_Ramp/Quarterly_Update_2019Q4/upload_files/T_Lapsed(13-18)_Score(L)_Density(H)_Legacy_AllExpCluster_S_2019Q4_RFM.csv',\n",
       " '/home/jian/Projects/Big_Lots/Live_Ramp/Quarterly_Update_2019Q4/upload_files/T_Lapsed(13-18)_Score(L)_Density(H)_SOTF_AllExpCluster_P_2019Q4_RFM.csv',\n",
       " '/home/jian/Projects/Big_Lots/Live_Ramp/Quarterly_Update_2019Q4/upload_files/T_Lapsed(13-18)_Score(L)_Density(H)_SOTF_AllExpCluster_S_2019Q4_RFM.csv',\n",
       " '/home/jian/Projects/Big_Lots/Live_Ramp/Quarterly_Update_2019Q4/upload_files/T_Lapsed(13-18)_Score(L)_Density(L)_Legacy_AllExpCluster_P_2019Q4_RFM.csv',\n",
       " '/home/jian/Projects/Big_Lots/Live_Ramp/Quarterly_Update_2019Q4/upload_files/T_Lapsed(13-18)_Score(L)_Density(L)_Legacy_AllExpCluster_S_2019Q4_RFM.csv',\n",
       " '/home/jian/Projects/Big_Lots/Live_Ramp/Quarterly_Update_2019Q4/upload_files/T_Lapsed(13-18)_Score(L)_Density(L)_SOTF_AllExpCluster_P_2019Q4_RFM.csv',\n",
       " '/home/jian/Projects/Big_Lots/Live_Ramp/Quarterly_Update_2019Q4/upload_files/T_Lapsed(13-18)_Score(L)_Density(L)_SOTF_AllExpCluster_S_2019Q4_RFM.csv',\n",
       " '/home/jian/Projects/Big_Lots/Live_Ramp/Quarterly_Update_2019Q4/upload_files/T_Lapsed(13-18)_Score(L)_Density(M)_Legacy_AllExpCluster_P_2019Q4_RFM.csv',\n",
       " '/home/jian/Projects/Big_Lots/Live_Ramp/Quarterly_Update_2019Q4/upload_files/T_Lapsed(13-18)_Score(L)_Density(M)_Legacy_AllExpCluster_S_2019Q4_RFM.csv',\n",
       " '/home/jian/Projects/Big_Lots/Live_Ramp/Quarterly_Update_2019Q4/upload_files/T_Lapsed(13-18)_Score(L)_Density(M)_SOTF_AllExpCluster_P_2019Q4_RFM.csv',\n",
       " '/home/jian/Projects/Big_Lots/Live_Ramp/Quarterly_Update_2019Q4/upload_files/T_Lapsed(13-18)_Score(L)_Density(M)_SOTF_AllExpCluster_S_2019Q4_RFM.csv',\n",
       " '/home/jian/Projects/Big_Lots/Live_Ramp/Quarterly_Update_2019Q4/upload_files/C_Active(0-12)_Score(H)_Density(H)_Legacy_HolidayShoppers_P_2019Q4_RFM.csv',\n",
       " '/home/jian/Projects/Big_Lots/Live_Ramp/Quarterly_Update_2019Q4/upload_files/C_Active(0-12)_Score(H)_Density(H)_Legacy_HolidayShoppers_S_2019Q4_RFM.csv',\n",
       " '/home/jian/Projects/Big_Lots/Live_Ramp/Quarterly_Update_2019Q4/upload_files/C_Active(0-12)_Score(H)_Density(H)_Legacy_Others_P_2019Q4_RFM.csv',\n",
       " '/home/jian/Projects/Big_Lots/Live_Ramp/Quarterly_Update_2019Q4/upload_files/C_Active(0-12)_Score(H)_Density(H)_Legacy_Others_S_2019Q4_RFM.csv',\n",
       " '/home/jian/Projects/Big_Lots/Live_Ramp/Quarterly_Update_2019Q4/upload_files/C_Active(0-12)_Score(H)_Density(H)_SOTF_HolidayShoppers_P_2019Q4_RFM.csv',\n",
       " '/home/jian/Projects/Big_Lots/Live_Ramp/Quarterly_Update_2019Q4/upload_files/C_Active(0-12)_Score(H)_Density(H)_SOTF_HolidayShoppers_S_2019Q4_RFM.csv',\n",
       " '/home/jian/Projects/Big_Lots/Live_Ramp/Quarterly_Update_2019Q4/upload_files/C_Active(0-12)_Score(H)_Density(H)_SOTF_Others_P_2019Q4_RFM.csv',\n",
       " '/home/jian/Projects/Big_Lots/Live_Ramp/Quarterly_Update_2019Q4/upload_files/C_Active(0-12)_Score(H)_Density(H)_SOTF_Others_S_2019Q4_RFM.csv',\n",
       " '/home/jian/Projects/Big_Lots/Live_Ramp/Quarterly_Update_2019Q4/upload_files/C_Active(0-12)_Score(H)_Density(L)_Legacy_HolidayShoppers_P_2019Q4_RFM.csv',\n",
       " '/home/jian/Projects/Big_Lots/Live_Ramp/Quarterly_Update_2019Q4/upload_files/C_Active(0-12)_Score(H)_Density(L)_Legacy_HolidayShoppers_S_2019Q4_RFM.csv',\n",
       " '/home/jian/Projects/Big_Lots/Live_Ramp/Quarterly_Update_2019Q4/upload_files/C_Active(0-12)_Score(H)_Density(L)_Legacy_Others_P_2019Q4_RFM.csv',\n",
       " '/home/jian/Projects/Big_Lots/Live_Ramp/Quarterly_Update_2019Q4/upload_files/C_Active(0-12)_Score(H)_Density(L)_Legacy_Others_S_2019Q4_RFM.csv',\n",
       " '/home/jian/Projects/Big_Lots/Live_Ramp/Quarterly_Update_2019Q4/upload_files/C_Active(0-12)_Score(H)_Density(L)_SOTF_HolidayShoppers_P_2019Q4_RFM.csv',\n",
       " '/home/jian/Projects/Big_Lots/Live_Ramp/Quarterly_Update_2019Q4/upload_files/C_Active(0-12)_Score(H)_Density(L)_SOTF_HolidayShoppers_S_2019Q4_RFM.csv',\n",
       " '/home/jian/Projects/Big_Lots/Live_Ramp/Quarterly_Update_2019Q4/upload_files/C_Active(0-12)_Score(H)_Density(L)_SOTF_Others_P_2019Q4_RFM.csv',\n",
       " '/home/jian/Projects/Big_Lots/Live_Ramp/Quarterly_Update_2019Q4/upload_files/C_Active(0-12)_Score(H)_Density(L)_SOTF_Others_S_2019Q4_RFM.csv',\n",
       " '/home/jian/Projects/Big_Lots/Live_Ramp/Quarterly_Update_2019Q4/upload_files/C_Active(0-12)_Score(H)_Density(M)_Legacy_HolidayShoppers_P_2019Q4_RFM.csv',\n",
       " '/home/jian/Projects/Big_Lots/Live_Ramp/Quarterly_Update_2019Q4/upload_files/C_Active(0-12)_Score(H)_Density(M)_Legacy_HolidayShoppers_S_2019Q4_RFM.csv',\n",
       " '/home/jian/Projects/Big_Lots/Live_Ramp/Quarterly_Update_2019Q4/upload_files/C_Active(0-12)_Score(H)_Density(M)_Legacy_Others_P_2019Q4_RFM.csv',\n",
       " '/home/jian/Projects/Big_Lots/Live_Ramp/Quarterly_Update_2019Q4/upload_files/C_Active(0-12)_Score(H)_Density(M)_Legacy_Others_S_2019Q4_RFM.csv',\n",
       " '/home/jian/Projects/Big_Lots/Live_Ramp/Quarterly_Update_2019Q4/upload_files/C_Active(0-12)_Score(H)_Density(M)_SOTF_HolidayShoppers_P_2019Q4_RFM.csv',\n",
       " '/home/jian/Projects/Big_Lots/Live_Ramp/Quarterly_Update_2019Q4/upload_files/C_Active(0-12)_Score(H)_Density(M)_SOTF_HolidayShoppers_S_2019Q4_RFM.csv',\n",
       " '/home/jian/Projects/Big_Lots/Live_Ramp/Quarterly_Update_2019Q4/upload_files/C_Active(0-12)_Score(H)_Density(M)_SOTF_Others_P_2019Q4_RFM.csv',\n",
       " '/home/jian/Projects/Big_Lots/Live_Ramp/Quarterly_Update_2019Q4/upload_files/C_Active(0-12)_Score(H)_Density(M)_SOTF_Others_S_2019Q4_RFM.csv',\n",
       " '/home/jian/Projects/Big_Lots/Live_Ramp/Quarterly_Update_2019Q4/upload_files/C_Active(0-12)_Score(L)_Density(H)_Legacy_HolidayShoppers_P_2019Q4_RFM.csv',\n",
       " '/home/jian/Projects/Big_Lots/Live_Ramp/Quarterly_Update_2019Q4/upload_files/C_Active(0-12)_Score(L)_Density(H)_Legacy_HolidayShoppers_S_2019Q4_RFM.csv',\n",
       " '/home/jian/Projects/Big_Lots/Live_Ramp/Quarterly_Update_2019Q4/upload_files/C_Active(0-12)_Score(L)_Density(H)_Legacy_Others_P_2019Q4_RFM.csv',\n",
       " '/home/jian/Projects/Big_Lots/Live_Ramp/Quarterly_Update_2019Q4/upload_files/C_Active(0-12)_Score(L)_Density(H)_Legacy_Others_S_2019Q4_RFM.csv',\n",
       " '/home/jian/Projects/Big_Lots/Live_Ramp/Quarterly_Update_2019Q4/upload_files/C_Active(0-12)_Score(L)_Density(H)_SOTF_HolidayShoppers_P_2019Q4_RFM.csv',\n",
       " '/home/jian/Projects/Big_Lots/Live_Ramp/Quarterly_Update_2019Q4/upload_files/C_Active(0-12)_Score(L)_Density(H)_SOTF_HolidayShoppers_S_2019Q4_RFM.csv',\n",
       " '/home/jian/Projects/Big_Lots/Live_Ramp/Quarterly_Update_2019Q4/upload_files/C_Active(0-12)_Score(L)_Density(H)_SOTF_Others_P_2019Q4_RFM.csv',\n",
       " '/home/jian/Projects/Big_Lots/Live_Ramp/Quarterly_Update_2019Q4/upload_files/C_Active(0-12)_Score(L)_Density(H)_SOTF_Others_S_2019Q4_RFM.csv',\n",
       " '/home/jian/Projects/Big_Lots/Live_Ramp/Quarterly_Update_2019Q4/upload_files/C_Active(0-12)_Score(L)_Density(L)_Legacy_HolidayShoppers_P_2019Q4_RFM.csv',\n",
       " '/home/jian/Projects/Big_Lots/Live_Ramp/Quarterly_Update_2019Q4/upload_files/C_Active(0-12)_Score(L)_Density(L)_Legacy_HolidayShoppers_S_2019Q4_RFM.csv',\n",
       " '/home/jian/Projects/Big_Lots/Live_Ramp/Quarterly_Update_2019Q4/upload_files/C_Active(0-12)_Score(L)_Density(L)_Legacy_Others_P_2019Q4_RFM.csv',\n",
       " '/home/jian/Projects/Big_Lots/Live_Ramp/Quarterly_Update_2019Q4/upload_files/C_Active(0-12)_Score(L)_Density(L)_Legacy_Others_S_2019Q4_RFM.csv',\n",
       " '/home/jian/Projects/Big_Lots/Live_Ramp/Quarterly_Update_2019Q4/upload_files/C_Active(0-12)_Score(L)_Density(L)_SOTF_HolidayShoppers_P_2019Q4_RFM.csv',\n",
       " '/home/jian/Projects/Big_Lots/Live_Ramp/Quarterly_Update_2019Q4/upload_files/C_Active(0-12)_Score(L)_Density(L)_SOTF_HolidayShoppers_S_2019Q4_RFM.csv',\n",
       " '/home/jian/Projects/Big_Lots/Live_Ramp/Quarterly_Update_2019Q4/upload_files/C_Active(0-12)_Score(L)_Density(L)_SOTF_Others_P_2019Q4_RFM.csv',\n",
       " '/home/jian/Projects/Big_Lots/Live_Ramp/Quarterly_Update_2019Q4/upload_files/C_Active(0-12)_Score(L)_Density(L)_SOTF_Others_S_2019Q4_RFM.csv',\n",
       " '/home/jian/Projects/Big_Lots/Live_Ramp/Quarterly_Update_2019Q4/upload_files/C_Active(0-12)_Score(L)_Density(M)_Legacy_HolidayShoppers_P_2019Q4_RFM.csv',\n",
       " '/home/jian/Projects/Big_Lots/Live_Ramp/Quarterly_Update_2019Q4/upload_files/C_Active(0-12)_Score(L)_Density(M)_Legacy_HolidayShoppers_S_2019Q4_RFM.csv',\n",
       " '/home/jian/Projects/Big_Lots/Live_Ramp/Quarterly_Update_2019Q4/upload_files/C_Active(0-12)_Score(L)_Density(M)_Legacy_Others_P_2019Q4_RFM.csv',\n",
       " '/home/jian/Projects/Big_Lots/Live_Ramp/Quarterly_Update_2019Q4/upload_files/C_Active(0-12)_Score(L)_Density(M)_Legacy_Others_S_2019Q4_RFM.csv',\n",
       " '/home/jian/Projects/Big_Lots/Live_Ramp/Quarterly_Update_2019Q4/upload_files/C_Active(0-12)_Score(L)_Density(M)_SOTF_HolidayShoppers_P_2019Q4_RFM.csv',\n",
       " '/home/jian/Projects/Big_Lots/Live_Ramp/Quarterly_Update_2019Q4/upload_files/C_Active(0-12)_Score(L)_Density(M)_SOTF_HolidayShoppers_S_2019Q4_RFM.csv',\n",
       " '/home/jian/Projects/Big_Lots/Live_Ramp/Quarterly_Update_2019Q4/upload_files/C_Active(0-12)_Score(L)_Density(M)_SOTF_Others_P_2019Q4_RFM.csv',\n",
       " '/home/jian/Projects/Big_Lots/Live_Ramp/Quarterly_Update_2019Q4/upload_files/C_Active(0-12)_Score(L)_Density(M)_SOTF_Others_S_2019Q4_RFM.csv',\n",
       " '/home/jian/Projects/Big_Lots/Live_Ramp/Quarterly_Update_2019Q4/upload_files/C_Active(0-12)_Score(M)_Density(H)_Legacy_HolidayShoppers_P_2019Q4_RFM.csv',\n",
       " '/home/jian/Projects/Big_Lots/Live_Ramp/Quarterly_Update_2019Q4/upload_files/C_Active(0-12)_Score(M)_Density(H)_Legacy_HolidayShoppers_S_2019Q4_RFM.csv',\n",
       " '/home/jian/Projects/Big_Lots/Live_Ramp/Quarterly_Update_2019Q4/upload_files/C_Active(0-12)_Score(M)_Density(H)_Legacy_Others_P_2019Q4_RFM.csv',\n",
       " '/home/jian/Projects/Big_Lots/Live_Ramp/Quarterly_Update_2019Q4/upload_files/C_Active(0-12)_Score(M)_Density(H)_Legacy_Others_S_2019Q4_RFM.csv',\n",
       " '/home/jian/Projects/Big_Lots/Live_Ramp/Quarterly_Update_2019Q4/upload_files/C_Active(0-12)_Score(M)_Density(H)_SOTF_HolidayShoppers_P_2019Q4_RFM.csv',\n",
       " '/home/jian/Projects/Big_Lots/Live_Ramp/Quarterly_Update_2019Q4/upload_files/C_Active(0-12)_Score(M)_Density(H)_SOTF_HolidayShoppers_S_2019Q4_RFM.csv',\n",
       " '/home/jian/Projects/Big_Lots/Live_Ramp/Quarterly_Update_2019Q4/upload_files/C_Active(0-12)_Score(M)_Density(H)_SOTF_Others_P_2019Q4_RFM.csv',\n",
       " '/home/jian/Projects/Big_Lots/Live_Ramp/Quarterly_Update_2019Q4/upload_files/C_Active(0-12)_Score(M)_Density(H)_SOTF_Others_S_2019Q4_RFM.csv',\n",
       " '/home/jian/Projects/Big_Lots/Live_Ramp/Quarterly_Update_2019Q4/upload_files/C_Active(0-12)_Score(M)_Density(L)_Legacy_HolidayShoppers_P_2019Q4_RFM.csv',\n",
       " '/home/jian/Projects/Big_Lots/Live_Ramp/Quarterly_Update_2019Q4/upload_files/C_Active(0-12)_Score(M)_Density(L)_Legacy_HolidayShoppers_S_2019Q4_RFM.csv',\n",
       " '/home/jian/Projects/Big_Lots/Live_Ramp/Quarterly_Update_2019Q4/upload_files/C_Active(0-12)_Score(M)_Density(L)_Legacy_Others_P_2019Q4_RFM.csv',\n",
       " '/home/jian/Projects/Big_Lots/Live_Ramp/Quarterly_Update_2019Q4/upload_files/C_Active(0-12)_Score(M)_Density(L)_Legacy_Others_S_2019Q4_RFM.csv',\n",
       " '/home/jian/Projects/Big_Lots/Live_Ramp/Quarterly_Update_2019Q4/upload_files/C_Active(0-12)_Score(M)_Density(L)_SOTF_HolidayShoppers_P_2019Q4_RFM.csv',\n",
       " '/home/jian/Projects/Big_Lots/Live_Ramp/Quarterly_Update_2019Q4/upload_files/C_Active(0-12)_Score(M)_Density(L)_SOTF_HolidayShoppers_S_2019Q4_RFM.csv',\n",
       " '/home/jian/Projects/Big_Lots/Live_Ramp/Quarterly_Update_2019Q4/upload_files/C_Active(0-12)_Score(M)_Density(L)_SOTF_Others_P_2019Q4_RFM.csv',\n",
       " '/home/jian/Projects/Big_Lots/Live_Ramp/Quarterly_Update_2019Q4/upload_files/C_Active(0-12)_Score(M)_Density(L)_SOTF_Others_S_2019Q4_RFM.csv',\n",
       " '/home/jian/Projects/Big_Lots/Live_Ramp/Quarterly_Update_2019Q4/upload_files/C_Active(0-12)_Score(M)_Density(M)_Legacy_HolidayShoppers_P_2019Q4_RFM.csv',\n",
       " '/home/jian/Projects/Big_Lots/Live_Ramp/Quarterly_Update_2019Q4/upload_files/C_Active(0-12)_Score(M)_Density(M)_Legacy_HolidayShoppers_S_2019Q4_RFM.csv',\n",
       " '/home/jian/Projects/Big_Lots/Live_Ramp/Quarterly_Update_2019Q4/upload_files/C_Active(0-12)_Score(M)_Density(M)_Legacy_Others_P_2019Q4_RFM.csv',\n",
       " '/home/jian/Projects/Big_Lots/Live_Ramp/Quarterly_Update_2019Q4/upload_files/C_Active(0-12)_Score(M)_Density(M)_Legacy_Others_S_2019Q4_RFM.csv',\n",
       " '/home/jian/Projects/Big_Lots/Live_Ramp/Quarterly_Update_2019Q4/upload_files/C_Active(0-12)_Score(M)_Density(M)_SOTF_HolidayShoppers_P_2019Q4_RFM.csv',\n",
       " '/home/jian/Projects/Big_Lots/Live_Ramp/Quarterly_Update_2019Q4/upload_files/C_Active(0-12)_Score(M)_Density(M)_SOTF_HolidayShoppers_S_2019Q4_RFM.csv',\n",
       " '/home/jian/Projects/Big_Lots/Live_Ramp/Quarterly_Update_2019Q4/upload_files/C_Active(0-12)_Score(M)_Density(M)_SOTF_Others_P_2019Q4_RFM.csv',\n",
       " '/home/jian/Projects/Big_Lots/Live_Ramp/Quarterly_Update_2019Q4/upload_files/C_Active(0-12)_Score(M)_Density(M)_SOTF_Others_S_2019Q4_RFM.csv',\n",
       " '/home/jian/Projects/Big_Lots/Live_Ramp/Quarterly_Update_2019Q4/upload_files/C_Lapsed(13-18)_Score(L)_Density(H)_Legacy_AllExpCluster_P_2019Q4_RFM.csv',\n",
       " '/home/jian/Projects/Big_Lots/Live_Ramp/Quarterly_Update_2019Q4/upload_files/C_Lapsed(13-18)_Score(L)_Density(H)_Legacy_AllExpCluster_S_2019Q4_RFM.csv',\n",
       " '/home/jian/Projects/Big_Lots/Live_Ramp/Quarterly_Update_2019Q4/upload_files/C_Lapsed(13-18)_Score(L)_Density(H)_SOTF_AllExpCluster_P_2019Q4_RFM.csv',\n",
       " '/home/jian/Projects/Big_Lots/Live_Ramp/Quarterly_Update_2019Q4/upload_files/C_Lapsed(13-18)_Score(L)_Density(H)_SOTF_AllExpCluster_S_2019Q4_RFM.csv',\n",
       " '/home/jian/Projects/Big_Lots/Live_Ramp/Quarterly_Update_2019Q4/upload_files/C_Lapsed(13-18)_Score(L)_Density(L)_Legacy_AllExpCluster_P_2019Q4_RFM.csv',\n",
       " '/home/jian/Projects/Big_Lots/Live_Ramp/Quarterly_Update_2019Q4/upload_files/C_Lapsed(13-18)_Score(L)_Density(L)_Legacy_AllExpCluster_S_2019Q4_RFM.csv',\n",
       " '/home/jian/Projects/Big_Lots/Live_Ramp/Quarterly_Update_2019Q4/upload_files/C_Lapsed(13-18)_Score(L)_Density(L)_SOTF_AllExpCluster_P_2019Q4_RFM.csv',\n",
       " '/home/jian/Projects/Big_Lots/Live_Ramp/Quarterly_Update_2019Q4/upload_files/C_Lapsed(13-18)_Score(L)_Density(L)_SOTF_AllExpCluster_S_2019Q4_RFM.csv',\n",
       " '/home/jian/Projects/Big_Lots/Live_Ramp/Quarterly_Update_2019Q4/upload_files/C_Lapsed(13-18)_Score(L)_Density(M)_Legacy_AllExpCluster_P_2019Q4_RFM.csv',\n",
       " '/home/jian/Projects/Big_Lots/Live_Ramp/Quarterly_Update_2019Q4/upload_files/C_Lapsed(13-18)_Score(L)_Density(M)_Legacy_AllExpCluster_S_2019Q4_RFM.csv',\n",
       " '/home/jian/Projects/Big_Lots/Live_Ramp/Quarterly_Update_2019Q4/upload_files/C_Lapsed(13-18)_Score(L)_Density(M)_SOTF_AllExpCluster_P_2019Q4_RFM.csv',\n",
       " '/home/jian/Projects/Big_Lots/Live_Ramp/Quarterly_Update_2019Q4/upload_files/C_Lapsed(13-18)_Score(L)_Density(M)_SOTF_AllExpCluster_S_2019Q4_RFM.csv',\n",
       " '/home/jian/Projects/Big_Lots/Live_Ramp/Quarterly_Update_2019Q4/upload_files/T_Lapsed(19-48)_Density(H)_Legacy_AllExpCluster_P_2019Q4_Lapsed.csv',\n",
       " '/home/jian/Projects/Big_Lots/Live_Ramp/Quarterly_Update_2019Q4/upload_files/T_Lapsed(19-48)_Density(L)_Legacy_AllExpCluster_P_2019Q4_Lapsed.csv',\n",
       " '/home/jian/Projects/Big_Lots/Live_Ramp/Quarterly_Update_2019Q4/upload_files/T_Lapsed(19-48)_Density(L)_SOTF_AllExpCluster_P_2019Q4_Lapsed.csv',\n",
       " '/home/jian/Projects/Big_Lots/Live_Ramp/Quarterly_Update_2019Q4/upload_files/T_Lapsed(19-48)_Density(M)_Legacy_AllExpCluster_P_2019Q4_Lapsed.csv',\n",
       " '/home/jian/Projects/Big_Lots/Live_Ramp/Quarterly_Update_2019Q4/upload_files/T_Lapsed(19-48)_Density(M)_SOTF_AllExpCluster_P_2019Q4_Lapsed.csv',\n",
       " '/home/jian/Projects/Big_Lots/Live_Ramp/Quarterly_Update_2019Q4/upload_files/C_Lapsed(19-48)_Density(H)_Legacy_AllExpCluster_P_2019Q4_Lapsed.csv',\n",
       " '/home/jian/Projects/Big_Lots/Live_Ramp/Quarterly_Update_2019Q4/upload_files/C_Lapsed(19-48)_Density(L)_Legacy_AllExpCluster_P_2019Q4_Lapsed.csv',\n",
       " '/home/jian/Projects/Big_Lots/Live_Ramp/Quarterly_Update_2019Q4/upload_files/C_Lapsed(19-48)_Density(L)_SOTF_AllExpCluster_P_2019Q4_Lapsed.csv',\n",
       " '/home/jian/Projects/Big_Lots/Live_Ramp/Quarterly_Update_2019Q4/upload_files/C_Lapsed(19-48)_Density(M)_Legacy_AllExpCluster_P_2019Q4_Lapsed.csv',\n",
       " '/home/jian/Projects/Big_Lots/Live_Ramp/Quarterly_Update_2019Q4/upload_files/C_Lapsed(19-48)_Density(M)_SOTF_AllExpCluster_P_2019Q4_Lapsed.csv']"
      ]
     },
     "execution_count": 7,
     "metadata": {},
     "output_type": "execute_result"
    }
   ],
   "source": [
    "previous_id_files_lists"
   ]
  },
  {
   "cell_type": "code",
   "execution_count": 8,
   "metadata": {},
   "outputs": [
    {
     "name": "stdout",
     "output_type": "stream",
     "text": [
      "len(uploaded_new_seg)57\n"
     ]
    }
   ],
   "source": [
    "import glob\n",
    "uploaded_new_seg=list(recursive_file_gen(\"/home/jian/celery/BiWeekly_New_SignUps/monthly_update/\"))\n",
    "uploaded_new_seg=[x for x in uploaded_new_seg if \".csv\" in x]\n",
    "print(\"len(uploaded_new_seg)\"+str(len(uploaded_new_seg)))\n",
    "previous_id_files_lists=previous_id_files_lists+uploaded_new_seg"
   ]
  },
  {
   "cell_type": "code",
   "execution_count": 9,
   "metadata": {
    "collapsed": true
   },
   "outputs": [],
   "source": [
    "# Exclude the quarterly regular segments\n"
   ]
  },
  {
   "cell_type": "code",
   "execution_count": 10,
   "metadata": {},
   "outputs": [
    {
     "name": "stdout",
     "output_type": "stream",
     "text": [
      "2019-11-20 10:36:12.461418 298751 /home/jian/Projects/Big_Lots/Live_Ramp/Quarterly_Update_2019Q4/upload_files/T_Active(0-12)_Score(H)_Density(H)_Legacy_HolidayShoppers_P_2019Q4_RFM.csv\n",
      "2019-11-20 10:36:12.526551 298751 /home/jian/Projects/Big_Lots/Live_Ramp/Quarterly_Update_2019Q4/upload_files/T_Active(0-12)_Score(H)_Density(H)_Legacy_HolidayShoppers_S_2019Q4_RFM.csv\n",
      "2019-11-20 10:36:17.417009 298750 /home/jian/Projects/Big_Lots/Live_Ramp/Quarterly_Update_2019Q4/upload_files/T_Active(0-12)_Score(H)_Density(H)_Legacy_Others_P_2019Q4_RFM.csv\n",
      "2019-11-20 10:36:17.790807 298749 /home/jian/Projects/Big_Lots/Live_Ramp/Quarterly_Update_2019Q4/upload_files/T_Active(0-12)_Score(H)_Density(H)_Legacy_Others_S_2019Q4_RFM.csv\n",
      "2019-11-20 10:36:17.846414 298749 /home/jian/Projects/Big_Lots/Live_Ramp/Quarterly_Update_2019Q4/upload_files/T_Active(0-12)_Score(H)_Density(H)_SOTF_HolidayShoppers_P_2019Q4_RFM.csv\n",
      "2019-11-20 10:36:17.908430 298749 /home/jian/Projects/Big_Lots/Live_Ramp/Quarterly_Update_2019Q4/upload_files/T_Active(0-12)_Score(H)_Density(H)_SOTF_HolidayShoppers_S_2019Q4_RFM.csv\n",
      "2019-11-20 10:36:18.004482 298749 /home/jian/Projects/Big_Lots/Live_Ramp/Quarterly_Update_2019Q4/upload_files/T_Active(0-12)_Score(H)_Density(H)_SOTF_Others_P_2019Q4_RFM.csv\n",
      "2019-11-20 10:36:18.072688 298749 /home/jian/Projects/Big_Lots/Live_Ramp/Quarterly_Update_2019Q4/upload_files/T_Active(0-12)_Score(H)_Density(H)_SOTF_Others_S_2019Q4_RFM.csv\n",
      "2019-11-20 10:36:18.120209 298749 /home/jian/Projects/Big_Lots/Live_Ramp/Quarterly_Update_2019Q4/upload_files/T_Active(0-12)_Score(H)_Density(L)_Legacy_HolidayShoppers_P_2019Q4_RFM.csv\n",
      "2019-11-20 10:36:18.175315 298749 /home/jian/Projects/Big_Lots/Live_Ramp/Quarterly_Update_2019Q4/upload_files/T_Active(0-12)_Score(H)_Density(L)_Legacy_HolidayShoppers_S_2019Q4_RFM.csv\n",
      "2019-11-20 10:36:18.255966 298749 /home/jian/Projects/Big_Lots/Live_Ramp/Quarterly_Update_2019Q4/upload_files/T_Active(0-12)_Score(H)_Density(L)_Legacy_Others_P_2019Q4_RFM.csv\n",
      "2019-11-20 10:36:18.319520 298749 /home/jian/Projects/Big_Lots/Live_Ramp/Quarterly_Update_2019Q4/upload_files/T_Active(0-12)_Score(H)_Density(L)_Legacy_Others_S_2019Q4_RFM.csv\n",
      "2019-11-20 10:36:18.397716 298749 /home/jian/Projects/Big_Lots/Live_Ramp/Quarterly_Update_2019Q4/upload_files/T_Active(0-12)_Score(H)_Density(L)_SOTF_HolidayShoppers_P_2019Q4_RFM.csv\n",
      "2019-11-20 10:36:18.467207 298749 /home/jian/Projects/Big_Lots/Live_Ramp/Quarterly_Update_2019Q4/upload_files/T_Active(0-12)_Score(H)_Density(L)_SOTF_HolidayShoppers_S_2019Q4_RFM.csv\n",
      "2019-11-20 10:36:19.342194 298747 /home/jian/Projects/Big_Lots/Live_Ramp/Quarterly_Update_2019Q4/upload_files/T_Active(0-12)_Score(H)_Density(L)_SOTF_Others_P_2019Q4_RFM.csv\n",
      "2019-11-20 10:36:19.749252 298746 /home/jian/Projects/Big_Lots/Live_Ramp/Quarterly_Update_2019Q4/upload_files/T_Active(0-12)_Score(H)_Density(L)_SOTF_Others_S_2019Q4_RFM.csv\n",
      "2019-11-20 10:36:20.183703 298746 /home/jian/Projects/Big_Lots/Live_Ramp/Quarterly_Update_2019Q4/upload_files/T_Active(0-12)_Score(H)_Density(M)_Legacy_HolidayShoppers_P_2019Q4_RFM.csv\n",
      "2019-11-20 10:36:20.368738 298746 /home/jian/Projects/Big_Lots/Live_Ramp/Quarterly_Update_2019Q4/upload_files/T_Active(0-12)_Score(H)_Density(M)_Legacy_HolidayShoppers_S_2019Q4_RFM.csv\n",
      "2019-11-20 10:36:43.158164 298734 /home/jian/Projects/Big_Lots/Live_Ramp/Quarterly_Update_2019Q4/upload_files/T_Active(0-12)_Score(H)_Density(M)_Legacy_Others_P_2019Q4_RFM.csv\n",
      "2019-11-20 10:36:51.963854 298728 /home/jian/Projects/Big_Lots/Live_Ramp/Quarterly_Update_2019Q4/upload_files/T_Active(0-12)_Score(H)_Density(M)_Legacy_Others_S_2019Q4_RFM.csv\n",
      "2019-11-20 10:36:53.278928 298728 /home/jian/Projects/Big_Lots/Live_Ramp/Quarterly_Update_2019Q4/upload_files/T_Active(0-12)_Score(H)_Density(M)_SOTF_HolidayShoppers_P_2019Q4_RFM.csv\n",
      "2019-11-20 10:36:53.679215 298728 /home/jian/Projects/Big_Lots/Live_Ramp/Quarterly_Update_2019Q4/upload_files/T_Active(0-12)_Score(H)_Density(M)_SOTF_HolidayShoppers_S_2019Q4_RFM.csv\n",
      "2019-11-20 10:37:10.901132 298724 /home/jian/Projects/Big_Lots/Live_Ramp/Quarterly_Update_2019Q4/upload_files/T_Active(0-12)_Score(H)_Density(M)_SOTF_Others_P_2019Q4_RFM.csv\n",
      "2019-11-20 10:37:16.400339 298723 /home/jian/Projects/Big_Lots/Live_Ramp/Quarterly_Update_2019Q4/upload_files/T_Active(0-12)_Score(H)_Density(M)_SOTF_Others_S_2019Q4_RFM.csv\n",
      "2019-11-20 10:37:16.701544 298723 /home/jian/Projects/Big_Lots/Live_Ramp/Quarterly_Update_2019Q4/upload_files/T_Active(0-12)_Score(L)_Density(H)_Legacy_HolidayShoppers_P_2019Q4_RFM.csv\n",
      "2019-11-20 10:37:16.843999 298723 /home/jian/Projects/Big_Lots/Live_Ramp/Quarterly_Update_2019Q4/upload_files/T_Active(0-12)_Score(L)_Density(H)_Legacy_HolidayShoppers_S_2019Q4_RFM.csv\n",
      "2019-11-20 10:37:19.679885 298723 /home/jian/Projects/Big_Lots/Live_Ramp/Quarterly_Update_2019Q4/upload_files/T_Active(0-12)_Score(L)_Density(H)_Legacy_Others_P_2019Q4_RFM.csv\n",
      "2019-11-20 10:37:20.733403 298723 /home/jian/Projects/Big_Lots/Live_Ramp/Quarterly_Update_2019Q4/upload_files/T_Active(0-12)_Score(L)_Density(H)_Legacy_Others_S_2019Q4_RFM.csv\n",
      "2019-11-20 10:37:20.795918 298723 /home/jian/Projects/Big_Lots/Live_Ramp/Quarterly_Update_2019Q4/upload_files/T_Active(0-12)_Score(L)_Density(H)_SOTF_HolidayShoppers_P_2019Q4_RFM.csv\n",
      "2019-11-20 10:37:20.855838 298723 /home/jian/Projects/Big_Lots/Live_Ramp/Quarterly_Update_2019Q4/upload_files/T_Active(0-12)_Score(L)_Density(H)_SOTF_HolidayShoppers_S_2019Q4_RFM.csv\n",
      "2019-11-20 10:37:21.107674 298723 /home/jian/Projects/Big_Lots/Live_Ramp/Quarterly_Update_2019Q4/upload_files/T_Active(0-12)_Score(L)_Density(H)_SOTF_Others_P_2019Q4_RFM.csv\n",
      "2019-11-20 10:37:21.287545 298723 /home/jian/Projects/Big_Lots/Live_Ramp/Quarterly_Update_2019Q4/upload_files/T_Active(0-12)_Score(L)_Density(H)_SOTF_Others_S_2019Q4_RFM.csv\n",
      "2019-11-20 10:37:21.334694 298723 /home/jian/Projects/Big_Lots/Live_Ramp/Quarterly_Update_2019Q4/upload_files/T_Active(0-12)_Score(L)_Density(L)_Legacy_HolidayShoppers_P_2019Q4_RFM.csv\n",
      "2019-11-20 10:37:21.394952 298723 /home/jian/Projects/Big_Lots/Live_Ramp/Quarterly_Update_2019Q4/upload_files/T_Active(0-12)_Score(L)_Density(L)_Legacy_HolidayShoppers_S_2019Q4_RFM.csv\n",
      "2019-11-20 10:37:21.464657 298723 /home/jian/Projects/Big_Lots/Live_Ramp/Quarterly_Update_2019Q4/upload_files/T_Active(0-12)_Score(L)_Density(L)_Legacy_Others_P_2019Q4_RFM.csv\n",
      "2019-11-20 10:37:21.519177 298723 /home/jian/Projects/Big_Lots/Live_Ramp/Quarterly_Update_2019Q4/upload_files/T_Active(0-12)_Score(L)_Density(L)_Legacy_Others_S_2019Q4_RFM.csv\n",
      "2019-11-20 10:37:21.656025 298723 /home/jian/Projects/Big_Lots/Live_Ramp/Quarterly_Update_2019Q4/upload_files/T_Active(0-12)_Score(L)_Density(L)_SOTF_HolidayShoppers_P_2019Q4_RFM.csv\n",
      "2019-11-20 10:37:21.769968 298723 /home/jian/Projects/Big_Lots/Live_Ramp/Quarterly_Update_2019Q4/upload_files/T_Active(0-12)_Score(L)_Density(L)_SOTF_HolidayShoppers_S_2019Q4_RFM.csv\n",
      "2019-11-20 10:37:22.499722 298723 /home/jian/Projects/Big_Lots/Live_Ramp/Quarterly_Update_2019Q4/upload_files/T_Active(0-12)_Score(L)_Density(L)_SOTF_Others_P_2019Q4_RFM.csv\n",
      "2019-11-20 10:37:23.008233 298723 /home/jian/Projects/Big_Lots/Live_Ramp/Quarterly_Update_2019Q4/upload_files/T_Active(0-12)_Score(L)_Density(L)_SOTF_Others_S_2019Q4_RFM.csv\n",
      "2019-11-20 10:37:25.330445 298723 /home/jian/Projects/Big_Lots/Live_Ramp/Quarterly_Update_2019Q4/upload_files/T_Active(0-12)_Score(L)_Density(M)_Legacy_HolidayShoppers_P_2019Q4_RFM.csv\n",
      "2019-11-20 10:37:25.904601 298723 /home/jian/Projects/Big_Lots/Live_Ramp/Quarterly_Update_2019Q4/upload_files/T_Active(0-12)_Score(L)_Density(M)_Legacy_HolidayShoppers_S_2019Q4_RFM.csv\n",
      "2019-11-20 10:37:37.768694 298721 /home/jian/Projects/Big_Lots/Live_Ramp/Quarterly_Update_2019Q4/upload_files/T_Active(0-12)_Score(L)_Density(M)_Legacy_Others_P_2019Q4_RFM.csv\n",
      "2019-11-20 10:37:43.402769 298720 /home/jian/Projects/Big_Lots/Live_Ramp/Quarterly_Update_2019Q4/upload_files/T_Active(0-12)_Score(L)_Density(M)_Legacy_Others_S_2019Q4_RFM.csv\n",
      "2019-11-20 10:37:44.150655 298720 /home/jian/Projects/Big_Lots/Live_Ramp/Quarterly_Update_2019Q4/upload_files/T_Active(0-12)_Score(L)_Density(M)_SOTF_HolidayShoppers_P_2019Q4_RFM.csv\n",
      "2019-11-20 10:37:44.535114 298720 /home/jian/Projects/Big_Lots/Live_Ramp/Quarterly_Update_2019Q4/upload_files/T_Active(0-12)_Score(L)_Density(M)_SOTF_HolidayShoppers_S_2019Q4_RFM.csv\n"
     ]
    },
    {
     "name": "stdout",
     "output_type": "stream",
     "text": [
      "2019-11-20 10:37:50.588691 298719 /home/jian/Projects/Big_Lots/Live_Ramp/Quarterly_Update_2019Q4/upload_files/T_Active(0-12)_Score(L)_Density(M)_SOTF_Others_P_2019Q4_RFM.csv\n",
      "2019-11-20 10:37:53.045018 298718 /home/jian/Projects/Big_Lots/Live_Ramp/Quarterly_Update_2019Q4/upload_files/T_Active(0-12)_Score(L)_Density(M)_SOTF_Others_S_2019Q4_RFM.csv\n",
      "2019-11-20 10:37:53.366270 298718 /home/jian/Projects/Big_Lots/Live_Ramp/Quarterly_Update_2019Q4/upload_files/T_Active(0-12)_Score(M)_Density(H)_Legacy_HolidayShoppers_P_2019Q4_RFM.csv\n",
      "2019-11-20 10:37:53.473662 298718 /home/jian/Projects/Big_Lots/Live_Ramp/Quarterly_Update_2019Q4/upload_files/T_Active(0-12)_Score(M)_Density(H)_Legacy_HolidayShoppers_S_2019Q4_RFM.csv\n",
      "2019-11-20 10:37:56.984819 298718 /home/jian/Projects/Big_Lots/Live_Ramp/Quarterly_Update_2019Q4/upload_files/T_Active(0-12)_Score(M)_Density(H)_Legacy_Others_P_2019Q4_RFM.csv\n",
      "2019-11-20 10:37:57.850004 298718 /home/jian/Projects/Big_Lots/Live_Ramp/Quarterly_Update_2019Q4/upload_files/T_Active(0-12)_Score(M)_Density(H)_Legacy_Others_S_2019Q4_RFM.csv\n",
      "2019-11-20 10:37:57.921544 298718 /home/jian/Projects/Big_Lots/Live_Ramp/Quarterly_Update_2019Q4/upload_files/T_Active(0-12)_Score(M)_Density(H)_SOTF_HolidayShoppers_P_2019Q4_RFM.csv\n",
      "2019-11-20 10:37:57.976008 298718 /home/jian/Projects/Big_Lots/Live_Ramp/Quarterly_Update_2019Q4/upload_files/T_Active(0-12)_Score(M)_Density(H)_SOTF_HolidayShoppers_S_2019Q4_RFM.csv\n",
      "2019-11-20 10:37:58.218039 298718 /home/jian/Projects/Big_Lots/Live_Ramp/Quarterly_Update_2019Q4/upload_files/T_Active(0-12)_Score(M)_Density(H)_SOTF_Others_P_2019Q4_RFM.csv\n",
      "2019-11-20 10:37:58.327672 298718 /home/jian/Projects/Big_Lots/Live_Ramp/Quarterly_Update_2019Q4/upload_files/T_Active(0-12)_Score(M)_Density(H)_SOTF_Others_S_2019Q4_RFM.csv\n",
      "2019-11-20 10:37:58.379523 298718 /home/jian/Projects/Big_Lots/Live_Ramp/Quarterly_Update_2019Q4/upload_files/T_Active(0-12)_Score(M)_Density(L)_Legacy_HolidayShoppers_P_2019Q4_RFM.csv\n",
      "2019-11-20 10:37:58.431180 298718 /home/jian/Projects/Big_Lots/Live_Ramp/Quarterly_Update_2019Q4/upload_files/T_Active(0-12)_Score(M)_Density(L)_Legacy_HolidayShoppers_S_2019Q4_RFM.csv\n",
      "2019-11-20 10:37:58.508530 298718 /home/jian/Projects/Big_Lots/Live_Ramp/Quarterly_Update_2019Q4/upload_files/T_Active(0-12)_Score(M)_Density(L)_Legacy_Others_P_2019Q4_RFM.csv\n",
      "2019-11-20 10:37:58.605335 298718 /home/jian/Projects/Big_Lots/Live_Ramp/Quarterly_Update_2019Q4/upload_files/T_Active(0-12)_Score(M)_Density(L)_Legacy_Others_S_2019Q4_RFM.csv\n",
      "2019-11-20 10:37:58.801375 298718 /home/jian/Projects/Big_Lots/Live_Ramp/Quarterly_Update_2019Q4/upload_files/T_Active(0-12)_Score(M)_Density(L)_SOTF_HolidayShoppers_P_2019Q4_RFM.csv\n",
      "2019-11-20 10:37:58.933623 298718 /home/jian/Projects/Big_Lots/Live_Ramp/Quarterly_Update_2019Q4/upload_files/T_Active(0-12)_Score(M)_Density(L)_SOTF_HolidayShoppers_S_2019Q4_RFM.csv\n",
      "2019-11-20 10:38:00.515334 298717 /home/jian/Projects/Big_Lots/Live_Ramp/Quarterly_Update_2019Q4/upload_files/T_Active(0-12)_Score(M)_Density(L)_SOTF_Others_P_2019Q4_RFM.csv\n",
      "2019-11-20 10:38:01.658662 298717 /home/jian/Projects/Big_Lots/Live_Ramp/Quarterly_Update_2019Q4/upload_files/T_Active(0-12)_Score(M)_Density(L)_SOTF_Others_S_2019Q4_RFM.csv\n",
      "2019-11-20 10:38:03.391932 298715 /home/jian/Projects/Big_Lots/Live_Ramp/Quarterly_Update_2019Q4/upload_files/T_Active(0-12)_Score(M)_Density(M)_Legacy_HolidayShoppers_P_2019Q4_RFM.csv\n",
      "2019-11-20 10:38:04.137027 298714 /home/jian/Projects/Big_Lots/Live_Ramp/Quarterly_Update_2019Q4/upload_files/T_Active(0-12)_Score(M)_Density(M)_Legacy_HolidayShoppers_S_2019Q4_RFM.csv\n",
      "2019-11-20 10:38:26.468388 298712 /home/jian/Projects/Big_Lots/Live_Ramp/Quarterly_Update_2019Q4/upload_files/T_Active(0-12)_Score(M)_Density(M)_Legacy_Others_P_2019Q4_RFM.csv\n",
      "2019-11-20 10:38:35.849342 298711 /home/jian/Projects/Big_Lots/Live_Ramp/Quarterly_Update_2019Q4/upload_files/T_Active(0-12)_Score(M)_Density(M)_Legacy_Others_S_2019Q4_RFM.csv\n",
      "2019-11-20 10:38:37.162328 298710 /home/jian/Projects/Big_Lots/Live_Ramp/Quarterly_Update_2019Q4/upload_files/T_Active(0-12)_Score(M)_Density(M)_SOTF_HolidayShoppers_P_2019Q4_RFM.csv\n",
      "2019-11-20 10:38:37.611407 298710 /home/jian/Projects/Big_Lots/Live_Ramp/Quarterly_Update_2019Q4/upload_files/T_Active(0-12)_Score(M)_Density(M)_SOTF_HolidayShoppers_S_2019Q4_RFM.csv\n",
      "2019-11-20 10:38:50.783576 298709 /home/jian/Projects/Big_Lots/Live_Ramp/Quarterly_Update_2019Q4/upload_files/T_Active(0-12)_Score(M)_Density(M)_SOTF_Others_P_2019Q4_RFM.csv\n",
      "2019-11-20 10:38:55.785341 298708 /home/jian/Projects/Big_Lots/Live_Ramp/Quarterly_Update_2019Q4/upload_files/T_Active(0-12)_Score(M)_Density(M)_SOTF_Others_S_2019Q4_RFM.csv\n",
      "2019-11-20 10:38:58.268698 298708 /home/jian/Projects/Big_Lots/Live_Ramp/Quarterly_Update_2019Q4/upload_files/T_Lapsed(13-18)_Score(L)_Density(H)_Legacy_AllExpCluster_P_2019Q4_RFM.csv\n",
      "2019-11-20 10:38:58.944503 298708 /home/jian/Projects/Big_Lots/Live_Ramp/Quarterly_Update_2019Q4/upload_files/T_Lapsed(13-18)_Score(L)_Density(H)_Legacy_AllExpCluster_S_2019Q4_RFM.csv\n",
      "2019-11-20 10:38:59.142963 298708 /home/jian/Projects/Big_Lots/Live_Ramp/Quarterly_Update_2019Q4/upload_files/T_Lapsed(13-18)_Score(L)_Density(H)_SOTF_AllExpCluster_P_2019Q4_RFM.csv\n",
      "2019-11-20 10:38:59.235078 298708 /home/jian/Projects/Big_Lots/Live_Ramp/Quarterly_Update_2019Q4/upload_files/T_Lapsed(13-18)_Score(L)_Density(H)_SOTF_AllExpCluster_S_2019Q4_RFM.csv\n",
      "2019-11-20 10:38:59.332305 298708 /home/jian/Projects/Big_Lots/Live_Ramp/Quarterly_Update_2019Q4/upload_files/T_Lapsed(13-18)_Score(L)_Density(L)_Legacy_AllExpCluster_P_2019Q4_RFM.csv\n",
      "2019-11-20 10:38:59.396222 298708 /home/jian/Projects/Big_Lots/Live_Ramp/Quarterly_Update_2019Q4/upload_files/T_Lapsed(13-18)_Score(L)_Density(L)_Legacy_AllExpCluster_S_2019Q4_RFM.csv\n",
      "2019-11-20 10:39:00.042429 298708 /home/jian/Projects/Big_Lots/Live_Ramp/Quarterly_Update_2019Q4/upload_files/T_Lapsed(13-18)_Score(L)_Density(L)_SOTF_AllExpCluster_P_2019Q4_RFM.csv\n",
      "2019-11-20 10:39:00.541291 298708 /home/jian/Projects/Big_Lots/Live_Ramp/Quarterly_Update_2019Q4/upload_files/T_Lapsed(13-18)_Score(L)_Density(L)_SOTF_AllExpCluster_S_2019Q4_RFM.csv\n",
      "2019-11-20 10:39:11.560658 298706 /home/jian/Projects/Big_Lots/Live_Ramp/Quarterly_Update_2019Q4/upload_files/T_Lapsed(13-18)_Score(L)_Density(M)_Legacy_AllExpCluster_P_2019Q4_RFM.csv\n",
      "2019-11-20 10:39:17.037985 298706 /home/jian/Projects/Big_Lots/Live_Ramp/Quarterly_Update_2019Q4/upload_files/T_Lapsed(13-18)_Score(L)_Density(M)_Legacy_AllExpCluster_S_2019Q4_RFM.csv\n",
      "2019-11-20 10:39:23.680369 298705 /home/jian/Projects/Big_Lots/Live_Ramp/Quarterly_Update_2019Q4/upload_files/T_Lapsed(13-18)_Score(L)_Density(M)_SOTF_AllExpCluster_P_2019Q4_RFM.csv\n",
      "2019-11-20 10:39:26.330990 298705 /home/jian/Projects/Big_Lots/Live_Ramp/Quarterly_Update_2019Q4/upload_files/T_Lapsed(13-18)_Score(L)_Density(M)_SOTF_AllExpCluster_S_2019Q4_RFM.csv\n",
      "2019-11-20 10:39:26.408133 298705 /home/jian/Projects/Big_Lots/Live_Ramp/Quarterly_Update_2019Q4/upload_files/C_Active(0-12)_Score(H)_Density(H)_Legacy_HolidayShoppers_P_2019Q4_RFM.csv\n",
      "2019-11-20 10:39:26.453845 298705 /home/jian/Projects/Big_Lots/Live_Ramp/Quarterly_Update_2019Q4/upload_files/C_Active(0-12)_Score(H)_Density(H)_Legacy_HolidayShoppers_S_2019Q4_RFM.csv\n",
      "2019-11-20 10:39:26.608529 298705 /home/jian/Projects/Big_Lots/Live_Ramp/Quarterly_Update_2019Q4/upload_files/C_Active(0-12)_Score(H)_Density(H)_Legacy_Others_P_2019Q4_RFM.csv\n",
      "2019-11-20 10:39:26.688742 298705 /home/jian/Projects/Big_Lots/Live_Ramp/Quarterly_Update_2019Q4/upload_files/C_Active(0-12)_Score(H)_Density(H)_Legacy_Others_S_2019Q4_RFM.csv\n",
      "2019-11-20 10:39:26.749734 298705 /home/jian/Projects/Big_Lots/Live_Ramp/Quarterly_Update_2019Q4/upload_files/C_Active(0-12)_Score(H)_Density(H)_SOTF_HolidayShoppers_P_2019Q4_RFM.csv\n",
      "2019-11-20 10:39:26.797374 298705 /home/jian/Projects/Big_Lots/Live_Ramp/Quarterly_Update_2019Q4/upload_files/C_Active(0-12)_Score(H)_Density(H)_SOTF_HolidayShoppers_S_2019Q4_RFM.csv\n",
      "2019-11-20 10:39:26.846540 298705 /home/jian/Projects/Big_Lots/Live_Ramp/Quarterly_Update_2019Q4/upload_files/C_Active(0-12)_Score(H)_Density(H)_SOTF_Others_P_2019Q4_RFM.csv\n",
      "2019-11-20 10:39:26.909582 298705 /home/jian/Projects/Big_Lots/Live_Ramp/Quarterly_Update_2019Q4/upload_files/C_Active(0-12)_Score(H)_Density(H)_SOTF_Others_S_2019Q4_RFM.csv\n",
      "2019-11-20 10:39:26.967543 298705 /home/jian/Projects/Big_Lots/Live_Ramp/Quarterly_Update_2019Q4/upload_files/C_Active(0-12)_Score(H)_Density(L)_Legacy_HolidayShoppers_P_2019Q4_RFM.csv\n",
      "2019-11-20 10:39:27.015356 298705 /home/jian/Projects/Big_Lots/Live_Ramp/Quarterly_Update_2019Q4/upload_files/C_Active(0-12)_Score(H)_Density(L)_Legacy_HolidayShoppers_S_2019Q4_RFM.csv\n"
     ]
    },
    {
     "name": "stdout",
     "output_type": "stream",
     "text": [
      "2019-11-20 10:39:27.069293 298705 /home/jian/Projects/Big_Lots/Live_Ramp/Quarterly_Update_2019Q4/upload_files/C_Active(0-12)_Score(H)_Density(L)_Legacy_Others_P_2019Q4_RFM.csv\n",
      "2019-11-20 10:39:27.144416 298705 /home/jian/Projects/Big_Lots/Live_Ramp/Quarterly_Update_2019Q4/upload_files/C_Active(0-12)_Score(H)_Density(L)_Legacy_Others_S_2019Q4_RFM.csv\n",
      "2019-11-20 10:39:27.273096 298705 /home/jian/Projects/Big_Lots/Live_Ramp/Quarterly_Update_2019Q4/upload_files/C_Active(0-12)_Score(H)_Density(L)_SOTF_HolidayShoppers_P_2019Q4_RFM.csv\n",
      "2019-11-20 10:39:27.321317 298705 /home/jian/Projects/Big_Lots/Live_Ramp/Quarterly_Update_2019Q4/upload_files/C_Active(0-12)_Score(H)_Density(L)_SOTF_HolidayShoppers_S_2019Q4_RFM.csv\n",
      "2019-11-20 10:39:27.601771 298705 /home/jian/Projects/Big_Lots/Live_Ramp/Quarterly_Update_2019Q4/upload_files/C_Active(0-12)_Score(H)_Density(L)_SOTF_Others_P_2019Q4_RFM.csv\n",
      "2019-11-20 10:39:27.711060 298705 /home/jian/Projects/Big_Lots/Live_Ramp/Quarterly_Update_2019Q4/upload_files/C_Active(0-12)_Score(H)_Density(L)_SOTF_Others_S_2019Q4_RFM.csv\n",
      "2019-11-20 10:39:27.845058 298705 /home/jian/Projects/Big_Lots/Live_Ramp/Quarterly_Update_2019Q4/upload_files/C_Active(0-12)_Score(H)_Density(M)_Legacy_HolidayShoppers_P_2019Q4_RFM.csv\n",
      "2019-11-20 10:39:27.932598 298705 /home/jian/Projects/Big_Lots/Live_Ramp/Quarterly_Update_2019Q4/upload_files/C_Active(0-12)_Score(H)_Density(M)_Legacy_HolidayShoppers_S_2019Q4_RFM.csv\n",
      "2019-11-20 10:39:28.719881 298705 /home/jian/Projects/Big_Lots/Live_Ramp/Quarterly_Update_2019Q4/upload_files/C_Active(0-12)_Score(H)_Density(M)_Legacy_Others_P_2019Q4_RFM.csv\n",
      "2019-11-20 10:39:29.048708 298705 /home/jian/Projects/Big_Lots/Live_Ramp/Quarterly_Update_2019Q4/upload_files/C_Active(0-12)_Score(H)_Density(M)_Legacy_Others_S_2019Q4_RFM.csv\n",
      "2019-11-20 10:39:29.127175 298705 /home/jian/Projects/Big_Lots/Live_Ramp/Quarterly_Update_2019Q4/upload_files/C_Active(0-12)_Score(H)_Density(M)_SOTF_HolidayShoppers_P_2019Q4_RFM.csv\n",
      "2019-11-20 10:39:29.195250 298705 /home/jian/Projects/Big_Lots/Live_Ramp/Quarterly_Update_2019Q4/upload_files/C_Active(0-12)_Score(H)_Density(M)_SOTF_HolidayShoppers_S_2019Q4_RFM.csv\n",
      "2019-11-20 10:39:29.614263 298705 /home/jian/Projects/Big_Lots/Live_Ramp/Quarterly_Update_2019Q4/upload_files/C_Active(0-12)_Score(H)_Density(M)_SOTF_Others_P_2019Q4_RFM.csv\n",
      "2019-11-20 10:39:29.847103 298705 /home/jian/Projects/Big_Lots/Live_Ramp/Quarterly_Update_2019Q4/upload_files/C_Active(0-12)_Score(H)_Density(M)_SOTF_Others_S_2019Q4_RFM.csv\n",
      "2019-11-20 10:39:29.901119 298705 /home/jian/Projects/Big_Lots/Live_Ramp/Quarterly_Update_2019Q4/upload_files/C_Active(0-12)_Score(L)_Density(H)_Legacy_HolidayShoppers_P_2019Q4_RFM.csv\n",
      "2019-11-20 10:39:29.951836 298705 /home/jian/Projects/Big_Lots/Live_Ramp/Quarterly_Update_2019Q4/upload_files/C_Active(0-12)_Score(L)_Density(H)_Legacy_HolidayShoppers_S_2019Q4_RFM.csv\n",
      "2019-11-20 10:39:30.028319 298705 /home/jian/Projects/Big_Lots/Live_Ramp/Quarterly_Update_2019Q4/upload_files/C_Active(0-12)_Score(L)_Density(H)_Legacy_Others_P_2019Q4_RFM.csv\n",
      "2019-11-20 10:39:30.107023 298705 /home/jian/Projects/Big_Lots/Live_Ramp/Quarterly_Update_2019Q4/upload_files/C_Active(0-12)_Score(L)_Density(H)_Legacy_Others_S_2019Q4_RFM.csv\n",
      "2019-11-20 10:39:30.166967 298705 /home/jian/Projects/Big_Lots/Live_Ramp/Quarterly_Update_2019Q4/upload_files/C_Active(0-12)_Score(L)_Density(H)_SOTF_HolidayShoppers_P_2019Q4_RFM.csv\n",
      "2019-11-20 10:39:30.218702 298705 /home/jian/Projects/Big_Lots/Live_Ramp/Quarterly_Update_2019Q4/upload_files/C_Active(0-12)_Score(L)_Density(H)_SOTF_HolidayShoppers_S_2019Q4_RFM.csv\n",
      "2019-11-20 10:39:30.265716 298705 /home/jian/Projects/Big_Lots/Live_Ramp/Quarterly_Update_2019Q4/upload_files/C_Active(0-12)_Score(L)_Density(H)_SOTF_Others_P_2019Q4_RFM.csv\n",
      "2019-11-20 10:39:30.312369 298705 /home/jian/Projects/Big_Lots/Live_Ramp/Quarterly_Update_2019Q4/upload_files/C_Active(0-12)_Score(L)_Density(H)_SOTF_Others_S_2019Q4_RFM.csv\n",
      "2019-11-20 10:39:30.359294 298705 /home/jian/Projects/Big_Lots/Live_Ramp/Quarterly_Update_2019Q4/upload_files/C_Active(0-12)_Score(L)_Density(L)_Legacy_HolidayShoppers_P_2019Q4_RFM.csv\n",
      "2019-11-20 10:39:30.403776 298705 /home/jian/Projects/Big_Lots/Live_Ramp/Quarterly_Update_2019Q4/upload_files/C_Active(0-12)_Score(L)_Density(L)_Legacy_HolidayShoppers_S_2019Q4_RFM.csv\n",
      "2019-11-20 10:39:30.469051 298705 /home/jian/Projects/Big_Lots/Live_Ramp/Quarterly_Update_2019Q4/upload_files/C_Active(0-12)_Score(L)_Density(L)_Legacy_Others_P_2019Q4_RFM.csv\n",
      "2019-11-20 10:39:30.523326 298705 /home/jian/Projects/Big_Lots/Live_Ramp/Quarterly_Update_2019Q4/upload_files/C_Active(0-12)_Score(L)_Density(L)_Legacy_Others_S_2019Q4_RFM.csv\n",
      "2019-11-20 10:39:30.580760 298705 /home/jian/Projects/Big_Lots/Live_Ramp/Quarterly_Update_2019Q4/upload_files/C_Active(0-12)_Score(L)_Density(L)_SOTF_HolidayShoppers_P_2019Q4_RFM.csv\n",
      "2019-11-20 10:39:30.629414 298705 /home/jian/Projects/Big_Lots/Live_Ramp/Quarterly_Update_2019Q4/upload_files/C_Active(0-12)_Score(L)_Density(L)_SOTF_HolidayShoppers_S_2019Q4_RFM.csv\n",
      "2019-11-20 10:39:30.723287 298705 /home/jian/Projects/Big_Lots/Live_Ramp/Quarterly_Update_2019Q4/upload_files/C_Active(0-12)_Score(L)_Density(L)_SOTF_Others_P_2019Q4_RFM.csv\n",
      "2019-11-20 10:39:30.798266 298705 /home/jian/Projects/Big_Lots/Live_Ramp/Quarterly_Update_2019Q4/upload_files/C_Active(0-12)_Score(L)_Density(L)_SOTF_Others_S_2019Q4_RFM.csv\n",
      "2019-11-20 10:39:30.925523 298705 /home/jian/Projects/Big_Lots/Live_Ramp/Quarterly_Update_2019Q4/upload_files/C_Active(0-12)_Score(L)_Density(M)_Legacy_HolidayShoppers_P_2019Q4_RFM.csv\n",
      "2019-11-20 10:39:31.003268 298705 /home/jian/Projects/Big_Lots/Live_Ramp/Quarterly_Update_2019Q4/upload_files/C_Active(0-12)_Score(L)_Density(M)_Legacy_HolidayShoppers_S_2019Q4_RFM.csv\n",
      "2019-11-20 10:39:31.349703 298704 /home/jian/Projects/Big_Lots/Live_Ramp/Quarterly_Update_2019Q4/upload_files/C_Active(0-12)_Score(L)_Density(M)_Legacy_Others_P_2019Q4_RFM.csv\n",
      "2019-11-20 10:39:31.587749 298704 /home/jian/Projects/Big_Lots/Live_Ramp/Quarterly_Update_2019Q4/upload_files/C_Active(0-12)_Score(L)_Density(M)_Legacy_Others_S_2019Q4_RFM.csv\n",
      "2019-11-20 10:39:31.648854 298704 /home/jian/Projects/Big_Lots/Live_Ramp/Quarterly_Update_2019Q4/upload_files/C_Active(0-12)_Score(L)_Density(M)_SOTF_HolidayShoppers_P_2019Q4_RFM.csv\n",
      "2019-11-20 10:39:31.713377 298704 /home/jian/Projects/Big_Lots/Live_Ramp/Quarterly_Update_2019Q4/upload_files/C_Active(0-12)_Score(L)_Density(M)_SOTF_HolidayShoppers_S_2019Q4_RFM.csv\n",
      "2019-11-20 10:39:31.900439 298704 /home/jian/Projects/Big_Lots/Live_Ramp/Quarterly_Update_2019Q4/upload_files/C_Active(0-12)_Score(L)_Density(M)_SOTF_Others_P_2019Q4_RFM.csv\n",
      "2019-11-20 10:39:32.054537 298704 /home/jian/Projects/Big_Lots/Live_Ramp/Quarterly_Update_2019Q4/upload_files/C_Active(0-12)_Score(L)_Density(M)_SOTF_Others_S_2019Q4_RFM.csv\n",
      "2019-11-20 10:39:32.113885 298704 /home/jian/Projects/Big_Lots/Live_Ramp/Quarterly_Update_2019Q4/upload_files/C_Active(0-12)_Score(M)_Density(H)_Legacy_HolidayShoppers_P_2019Q4_RFM.csv\n",
      "2019-11-20 10:39:32.164073 298704 /home/jian/Projects/Big_Lots/Live_Ramp/Quarterly_Update_2019Q4/upload_files/C_Active(0-12)_Score(M)_Density(H)_Legacy_HolidayShoppers_S_2019Q4_RFM.csv\n",
      "2019-11-20 10:39:32.365674 298704 /home/jian/Projects/Big_Lots/Live_Ramp/Quarterly_Update_2019Q4/upload_files/C_Active(0-12)_Score(M)_Density(H)_Legacy_Others_P_2019Q4_RFM.csv\n",
      "2019-11-20 10:39:32.450081 298704 /home/jian/Projects/Big_Lots/Live_Ramp/Quarterly_Update_2019Q4/upload_files/C_Active(0-12)_Score(M)_Density(H)_Legacy_Others_S_2019Q4_RFM.csv\n",
      "2019-11-20 10:39:32.506113 298704 /home/jian/Projects/Big_Lots/Live_Ramp/Quarterly_Update_2019Q4/upload_files/C_Active(0-12)_Score(M)_Density(H)_SOTF_HolidayShoppers_P_2019Q4_RFM.csv\n",
      "2019-11-20 10:39:32.565494 298704 /home/jian/Projects/Big_Lots/Live_Ramp/Quarterly_Update_2019Q4/upload_files/C_Active(0-12)_Score(M)_Density(H)_SOTF_HolidayShoppers_S_2019Q4_RFM.csv\n",
      "2019-11-20 10:39:32.613503 298704 /home/jian/Projects/Big_Lots/Live_Ramp/Quarterly_Update_2019Q4/upload_files/C_Active(0-12)_Score(M)_Density(H)_SOTF_Others_P_2019Q4_RFM.csv\n",
      "2019-11-20 10:39:32.669829 298704 /home/jian/Projects/Big_Lots/Live_Ramp/Quarterly_Update_2019Q4/upload_files/C_Active(0-12)_Score(M)_Density(H)_SOTF_Others_S_2019Q4_RFM.csv\n",
      "2019-11-20 10:39:32.716956 298704 /home/jian/Projects/Big_Lots/Live_Ramp/Quarterly_Update_2019Q4/upload_files/C_Active(0-12)_Score(M)_Density(L)_Legacy_HolidayShoppers_P_2019Q4_RFM.csv\n"
     ]
    },
    {
     "name": "stdout",
     "output_type": "stream",
     "text": [
      "2019-11-20 10:39:32.766653 298704 /home/jian/Projects/Big_Lots/Live_Ramp/Quarterly_Update_2019Q4/upload_files/C_Active(0-12)_Score(M)_Density(L)_Legacy_HolidayShoppers_S_2019Q4_RFM.csv\n",
      "2019-11-20 10:39:32.821352 298704 /home/jian/Projects/Big_Lots/Live_Ramp/Quarterly_Update_2019Q4/upload_files/C_Active(0-12)_Score(M)_Density(L)_Legacy_Others_P_2019Q4_RFM.csv\n",
      "2019-11-20 10:39:32.902399 298704 /home/jian/Projects/Big_Lots/Live_Ramp/Quarterly_Update_2019Q4/upload_files/C_Active(0-12)_Score(M)_Density(L)_Legacy_Others_S_2019Q4_RFM.csv\n",
      "2019-11-20 10:39:32.953699 298704 /home/jian/Projects/Big_Lots/Live_Ramp/Quarterly_Update_2019Q4/upload_files/C_Active(0-12)_Score(M)_Density(L)_SOTF_HolidayShoppers_P_2019Q4_RFM.csv\n",
      "2019-11-20 10:39:33.011413 298704 /home/jian/Projects/Big_Lots/Live_Ramp/Quarterly_Update_2019Q4/upload_files/C_Active(0-12)_Score(M)_Density(L)_SOTF_HolidayShoppers_S_2019Q4_RFM.csv\n",
      "2019-11-20 10:39:33.084570 298704 /home/jian/Projects/Big_Lots/Live_Ramp/Quarterly_Update_2019Q4/upload_files/C_Active(0-12)_Score(M)_Density(L)_SOTF_Others_P_2019Q4_RFM.csv\n",
      "2019-11-20 10:39:33.188501 298704 /home/jian/Projects/Big_Lots/Live_Ramp/Quarterly_Update_2019Q4/upload_files/C_Active(0-12)_Score(M)_Density(L)_SOTF_Others_S_2019Q4_RFM.csv\n",
      "2019-11-20 10:39:33.303438 298704 /home/jian/Projects/Big_Lots/Live_Ramp/Quarterly_Update_2019Q4/upload_files/C_Active(0-12)_Score(M)_Density(M)_Legacy_HolidayShoppers_P_2019Q4_RFM.csv\n",
      "2019-11-20 10:39:33.397675 298704 /home/jian/Projects/Big_Lots/Live_Ramp/Quarterly_Update_2019Q4/upload_files/C_Active(0-12)_Score(M)_Density(M)_Legacy_HolidayShoppers_S_2019Q4_RFM.csv\n",
      "2019-11-20 10:39:34.073678 298704 /home/jian/Projects/Big_Lots/Live_Ramp/Quarterly_Update_2019Q4/upload_files/C_Active(0-12)_Score(M)_Density(M)_Legacy_Others_P_2019Q4_RFM.csv\n",
      "2019-11-20 10:39:34.394138 298704 /home/jian/Projects/Big_Lots/Live_Ramp/Quarterly_Update_2019Q4/upload_files/C_Active(0-12)_Score(M)_Density(M)_Legacy_Others_S_2019Q4_RFM.csv\n",
      "2019-11-20 10:39:34.497211 298704 /home/jian/Projects/Big_Lots/Live_Ramp/Quarterly_Update_2019Q4/upload_files/C_Active(0-12)_Score(M)_Density(M)_SOTF_HolidayShoppers_P_2019Q4_RFM.csv\n",
      "2019-11-20 10:39:34.554066 298704 /home/jian/Projects/Big_Lots/Live_Ramp/Quarterly_Update_2019Q4/upload_files/C_Active(0-12)_Score(M)_Density(M)_SOTF_HolidayShoppers_S_2019Q4_RFM.csv\n",
      "2019-11-20 10:39:34.989986 298703 /home/jian/Projects/Big_Lots/Live_Ramp/Quarterly_Update_2019Q4/upload_files/C_Active(0-12)_Score(M)_Density(M)_SOTF_Others_P_2019Q4_RFM.csv\n",
      "2019-11-20 10:39:35.160566 298703 /home/jian/Projects/Big_Lots/Live_Ramp/Quarterly_Update_2019Q4/upload_files/C_Active(0-12)_Score(M)_Density(M)_SOTF_Others_S_2019Q4_RFM.csv\n",
      "2019-11-20 10:39:35.271372 298703 /home/jian/Projects/Big_Lots/Live_Ramp/Quarterly_Update_2019Q4/upload_files/C_Lapsed(13-18)_Score(L)_Density(H)_Legacy_AllExpCluster_P_2019Q4_RFM.csv\n",
      "2019-11-20 10:39:35.356707 298703 /home/jian/Projects/Big_Lots/Live_Ramp/Quarterly_Update_2019Q4/upload_files/C_Lapsed(13-18)_Score(L)_Density(H)_Legacy_AllExpCluster_S_2019Q4_RFM.csv\n",
      "2019-11-20 10:39:35.434225 298703 /home/jian/Projects/Big_Lots/Live_Ramp/Quarterly_Update_2019Q4/upload_files/C_Lapsed(13-18)_Score(L)_Density(H)_SOTF_AllExpCluster_P_2019Q4_RFM.csv\n",
      "2019-11-20 10:39:35.485435 298703 /home/jian/Projects/Big_Lots/Live_Ramp/Quarterly_Update_2019Q4/upload_files/C_Lapsed(13-18)_Score(L)_Density(H)_SOTF_AllExpCluster_S_2019Q4_RFM.csv\n",
      "2019-11-20 10:39:35.536488 298703 /home/jian/Projects/Big_Lots/Live_Ramp/Quarterly_Update_2019Q4/upload_files/C_Lapsed(13-18)_Score(L)_Density(L)_Legacy_AllExpCluster_P_2019Q4_RFM.csv\n",
      "2019-11-20 10:39:35.588312 298703 /home/jian/Projects/Big_Lots/Live_Ramp/Quarterly_Update_2019Q4/upload_files/C_Lapsed(13-18)_Score(L)_Density(L)_Legacy_AllExpCluster_S_2019Q4_RFM.csv\n",
      "2019-11-20 10:39:35.675967 298703 /home/jian/Projects/Big_Lots/Live_Ramp/Quarterly_Update_2019Q4/upload_files/C_Lapsed(13-18)_Score(L)_Density(L)_SOTF_AllExpCluster_P_2019Q4_RFM.csv\n",
      "2019-11-20 10:39:35.743533 298703 /home/jian/Projects/Big_Lots/Live_Ramp/Quarterly_Update_2019Q4/upload_files/C_Lapsed(13-18)_Score(L)_Density(L)_SOTF_AllExpCluster_S_2019Q4_RFM.csv\n",
      "2019-11-20 10:39:36.150826 298703 /home/jian/Projects/Big_Lots/Live_Ramp/Quarterly_Update_2019Q4/upload_files/C_Lapsed(13-18)_Score(L)_Density(M)_Legacy_AllExpCluster_P_2019Q4_RFM.csv\n",
      "2019-11-20 10:39:36.320224 298703 /home/jian/Projects/Big_Lots/Live_Ramp/Quarterly_Update_2019Q4/upload_files/C_Lapsed(13-18)_Score(L)_Density(M)_Legacy_AllExpCluster_S_2019Q4_RFM.csv\n",
      "2019-11-20 10:39:36.529687 298703 /home/jian/Projects/Big_Lots/Live_Ramp/Quarterly_Update_2019Q4/upload_files/C_Lapsed(13-18)_Score(L)_Density(M)_SOTF_AllExpCluster_P_2019Q4_RFM.csv\n",
      "2019-11-20 10:39:36.640399 298703 /home/jian/Projects/Big_Lots/Live_Ramp/Quarterly_Update_2019Q4/upload_files/C_Lapsed(13-18)_Score(L)_Density(M)_SOTF_AllExpCluster_S_2019Q4_RFM.csv\n",
      "2019-11-20 10:39:42.447449 298701 /home/jian/Projects/Big_Lots/Live_Ramp/Quarterly_Update_2019Q4/upload_files/T_Lapsed(19-48)_Density(H)_Legacy_AllExpCluster_P_2019Q4_Lapsed.csv\n",
      "2019-11-20 10:39:42.634984 298701 /home/jian/Projects/Big_Lots/Live_Ramp/Quarterly_Update_2019Q4/upload_files/T_Lapsed(19-48)_Density(L)_Legacy_AllExpCluster_P_2019Q4_Lapsed.csv\n",
      "2019-11-20 10:39:44.849024 298701 /home/jian/Projects/Big_Lots/Live_Ramp/Quarterly_Update_2019Q4/upload_files/T_Lapsed(19-48)_Density(L)_SOTF_AllExpCluster_P_2019Q4_Lapsed.csv\n",
      "2019-11-20 10:40:14.133549 298687 /home/jian/Projects/Big_Lots/Live_Ramp/Quarterly_Update_2019Q4/upload_files/T_Lapsed(19-48)_Density(M)_Legacy_AllExpCluster_P_2019Q4_Lapsed.csv\n",
      "2019-11-20 10:40:39.002717 298676 /home/jian/Projects/Big_Lots/Live_Ramp/Quarterly_Update_2019Q4/upload_files/T_Lapsed(19-48)_Density(M)_SOTF_AllExpCluster_P_2019Q4_Lapsed.csv\n",
      "2019-11-20 10:40:39.402390 298676 /home/jian/Projects/Big_Lots/Live_Ramp/Quarterly_Update_2019Q4/upload_files/C_Lapsed(19-48)_Density(H)_Legacy_AllExpCluster_P_2019Q4_Lapsed.csv\n",
      "2019-11-20 10:40:39.456863 298676 /home/jian/Projects/Big_Lots/Live_Ramp/Quarterly_Update_2019Q4/upload_files/C_Lapsed(19-48)_Density(L)_Legacy_AllExpCluster_P_2019Q4_Lapsed.csv\n",
      "2019-11-20 10:40:39.543342 298676 /home/jian/Projects/Big_Lots/Live_Ramp/Quarterly_Update_2019Q4/upload_files/C_Lapsed(19-48)_Density(L)_SOTF_AllExpCluster_P_2019Q4_Lapsed.csv\n",
      "2019-11-20 10:40:40.077130 298676 /home/jian/Projects/Big_Lots/Live_Ramp/Quarterly_Update_2019Q4/upload_files/C_Lapsed(19-48)_Density(M)_Legacy_AllExpCluster_P_2019Q4_Lapsed.csv\n",
      "2019-11-20 10:40:40.464230 298676 /home/jian/Projects/Big_Lots/Live_Ramp/Quarterly_Update_2019Q4/upload_files/C_Lapsed(19-48)_Density(M)_SOTF_AllExpCluster_P_2019Q4_Lapsed.csv\n",
      "2019-11-20 10:40:41.339029 298676 /home/jian/celery/BiWeekly_New_SignUps/monthly_update/output_2018-12-29/NewReward_2018-12-29_P.csv\n",
      "2019-11-20 10:40:41.672104 298676 /home/jian/celery/BiWeekly_New_SignUps/monthly_update/output_2018-12-29/NewReward_2018-12-29_S.csv\n",
      "2019-11-20 10:40:41.933076 298676 /home/jian/celery/BiWeekly_New_SignUps/monthly_update/output_2018-12-29/NewReward_2018-12-29_T.csv\n",
      "2019-11-20 10:40:42.640763 298676 /home/jian/celery/BiWeekly_New_SignUps/monthly_update/output_2019-01-26/NewReward_2019-01-26_P.csv\n",
      "2019-11-20 10:40:42.888481 298676 /home/jian/celery/BiWeekly_New_SignUps/monthly_update/output_2019-01-26/NewReward_2019-01-26_S.csv\n",
      "2019-11-20 10:40:43.086134 298676 /home/jian/celery/BiWeekly_New_SignUps/monthly_update/output_2019-01-26/NewReward_2019-01-26_T.csv\n",
      "2019-11-20 10:40:43.741839 298676 /home/jian/celery/BiWeekly_New_SignUps/monthly_update/output_2019-02-23/NewReward_2019-02-23_P.csv\n",
      "2019-11-20 10:40:43.986714 298676 /home/jian/celery/BiWeekly_New_SignUps/monthly_update/output_2019-02-23/NewReward_2019-02-23_S.csv\n",
      "2019-11-20 10:40:44.163019 298676 /home/jian/celery/BiWeekly_New_SignUps/monthly_update/output_2019-02-23/NewReward_2019-02-23_T.csv\n",
      "2019-11-20 10:40:44.947472 298676 /home/jian/celery/BiWeekly_New_SignUps/monthly_update/output_2019-03-23/NewReward_2019-03-23_P.csv\n",
      "2019-11-20 10:40:45.183924 298676 /home/jian/celery/BiWeekly_New_SignUps/monthly_update/output_2019-03-23/NewReward_2019-03-23_S.csv\n",
      "2019-11-20 10:40:45.320596 298676 /home/jian/celery/BiWeekly_New_SignUps/monthly_update/output_2019-03-23/NewReward_2019-03-23_T.csv\n"
     ]
    },
    {
     "name": "stdout",
     "output_type": "stream",
     "text": [
      "2019-11-20 10:40:45.799828 298676 /home/jian/celery/BiWeekly_New_SignUps/monthly_update/output_2019-04-06/NewReward_2019-04-06_P.csv\n",
      "2019-11-20 10:40:45.967386 298676 /home/jian/celery/BiWeekly_New_SignUps/monthly_update/output_2019-04-06/NewReward_2019-04-06_S.csv\n",
      "2019-11-20 10:40:46.103986 298676 /home/jian/celery/BiWeekly_New_SignUps/monthly_update/output_2019-04-06/NewReward_2019-04-06_T.csv\n",
      "2019-11-20 10:40:46.501979 298676 /home/jian/celery/BiWeekly_New_SignUps/monthly_update/output_2019-04-20/NewReward_2019-04-20_P.csv\n",
      "2019-11-20 10:40:46.611553 298676 /home/jian/celery/BiWeekly_New_SignUps/monthly_update/output_2019-04-20/NewReward_2019-04-20_S.csv\n",
      "2019-11-20 10:40:46.691249 298676 /home/jian/celery/BiWeekly_New_SignUps/monthly_update/output_2019-04-20/NewReward_2019-04-20_T.csv\n",
      "2019-11-20 10:40:47.084895 298676 /home/jian/celery/BiWeekly_New_SignUps/monthly_update/output_2019-05-04/NewReward_2019-05-04_P.csv\n",
      "2019-11-20 10:40:47.299351 298676 /home/jian/celery/BiWeekly_New_SignUps/monthly_update/output_2019-05-04/NewReward_2019-05-04_S.csv\n",
      "2019-11-20 10:40:47.382066 298676 /home/jian/celery/BiWeekly_New_SignUps/monthly_update/output_2019-05-04/NewReward_2019-05-04_T.csv\n",
      "2019-11-20 10:40:47.761556 298676 /home/jian/celery/BiWeekly_New_SignUps/monthly_update/output_2019-05-18/NewReward_2019-05-18_P.csv\n",
      "2019-11-20 10:40:47.927562 298676 /home/jian/celery/BiWeekly_New_SignUps/monthly_update/output_2019-05-18/NewReward_2019-05-18_S.csv\n",
      "2019-11-20 10:40:48.087892 298676 /home/jian/celery/BiWeekly_New_SignUps/monthly_update/output_2019-05-18/NewReward_2019-05-18_T.csv\n",
      "2019-11-20 10:40:48.474935 298676 /home/jian/celery/BiWeekly_New_SignUps/monthly_update/output_2019-06-01/NewReward_2019-06-01_P.csv\n",
      "2019-11-20 10:40:48.644445 298676 /home/jian/celery/BiWeekly_New_SignUps/monthly_update/output_2019-06-01/NewReward_2019-06-01_S.csv\n",
      "2019-11-20 10:40:48.763773 298676 /home/jian/celery/BiWeekly_New_SignUps/monthly_update/output_2019-06-01/NewReward_2019-06-01_T.csv\n",
      "2019-11-20 10:40:49.182548 298676 /home/jian/celery/BiWeekly_New_SignUps/monthly_update/output_2019-06-15/NewReward_2019-06-15_P.csv\n",
      "2019-11-20 10:40:49.314339 298676 /home/jian/celery/BiWeekly_New_SignUps/monthly_update/output_2019-06-15/NewReward_2019-06-15_S.csv\n",
      "2019-11-20 10:40:49.535993 298676 /home/jian/celery/BiWeekly_New_SignUps/monthly_update/output_2019-06-15/NewReward_2019-06-15_T.csv\n",
      "2019-11-20 10:40:51.013898 298676 /home/jian/celery/BiWeekly_New_SignUps/monthly_update/output_2019-06-29/NewReward_2019-06-29_P.csv\n",
      "2019-11-20 10:40:51.300974 298676 /home/jian/celery/BiWeekly_New_SignUps/monthly_update/output_2019-06-29/NewReward_2019-06-29_S.csv\n",
      "2019-11-20 10:40:51.771188 298676 /home/jian/celery/BiWeekly_New_SignUps/monthly_update/output_2019-06-29/NewReward_2019-06-29_T.csv\n",
      "2019-11-20 10:40:54.000759 298676 /home/jian/celery/BiWeekly_New_SignUps/monthly_update/output_2019-07-13/NewReward_2019-07-13_P.csv\n",
      "2019-11-20 10:40:54.183720 298676 /home/jian/celery/BiWeekly_New_SignUps/monthly_update/output_2019-07-13/NewReward_2019-07-13_S.csv\n",
      "2019-11-20 10:40:55.410633 298674 /home/jian/celery/BiWeekly_New_SignUps/monthly_update/output_2019-07-13/NewReward_2019-07-13_T.csv\n",
      "2019-11-20 10:40:57.461420 298674 /home/jian/celery/BiWeekly_New_SignUps/monthly_update/output_2019-07-27/NewReward_2019-07-27_P.csv\n",
      "2019-11-20 10:40:57.855594 298674 /home/jian/celery/BiWeekly_New_SignUps/monthly_update/output_2019-07-27/NewReward_2019-07-27_S.csv\n",
      "2019-11-20 10:40:58.350034 298673 /home/jian/celery/BiWeekly_New_SignUps/monthly_update/output_2019-07-27/NewReward_2019-07-27_T.csv\n",
      "2019-11-20 10:40:59.468269 298673 /home/jian/celery/BiWeekly_New_SignUps/monthly_update/output_2019-08-10/NewReward_2019-08-10_P.csv\n",
      "2019-11-20 10:40:59.803933 298673 /home/jian/celery/BiWeekly_New_SignUps/monthly_update/output_2019-08-10/NewReward_2019-08-10_S.csv\n",
      "2019-11-20 10:41:00.670971 298673 /home/jian/celery/BiWeekly_New_SignUps/monthly_update/output_2019-08-10/NewReward_2019-08-10_T.csv\n",
      "2019-11-20 10:41:03.462429 298673 /home/jian/celery/BiWeekly_New_SignUps/monthly_update/output_2019-09-07/NewReward_2019-09-07_P.csv\n",
      "2019-11-20 10:41:04.335701 298673 /home/jian/celery/BiWeekly_New_SignUps/monthly_update/output_2019-09-07/NewReward_2019-09-07_S.csv\n",
      "2019-11-20 10:41:06.194112 298673 /home/jian/celery/BiWeekly_New_SignUps/monthly_update/output_2019-09-07/NewReward_2019-09-07_T.csv\n",
      "2019-11-20 10:41:06.813845 298673 /home/jian/celery/BiWeekly_New_SignUps/monthly_update/output_2019-09-21/NewReward_2019-09-21_P.csv\n",
      "2019-11-20 10:41:07.004465 298673 /home/jian/celery/BiWeekly_New_SignUps/monthly_update/output_2019-09-21/NewReward_2019-09-21_S.csv\n",
      "2019-11-20 10:41:07.240770 298673 /home/jian/celery/BiWeekly_New_SignUps/monthly_update/output_2019-09-21/NewReward_2019-09-21_T.csv\n",
      "2019-11-20 10:41:07.858549 298673 /home/jian/celery/BiWeekly_New_SignUps/monthly_update/output_2019-10-05/NewReward_2019-10-05_P.csv\n",
      "2019-11-20 10:41:08.157983 298673 /home/jian/celery/BiWeekly_New_SignUps/monthly_update/output_2019-10-05/NewReward_2019-10-05_S.csv\n",
      "2019-11-20 10:41:08.514322 298673 /home/jian/celery/BiWeekly_New_SignUps/monthly_update/output_2019-10-05/NewReward_2019-10-05_T.csv\n",
      "2019-11-20 10:41:10.067264 298673 /home/jian/celery/BiWeekly_New_SignUps/monthly_update/output_2019-10-19/NewReward_2019-10-19_P.csv\n",
      "2019-11-20 10:41:10.459684 298673 /home/jian/celery/BiWeekly_New_SignUps/monthly_update/output_2019-10-19/NewReward_2019-10-19_S.csv\n",
      "2019-11-20 10:41:11.227268 298673 /home/jian/celery/BiWeekly_New_SignUps/monthly_update/output_2019-10-19/NewReward_2019-10-19_T.csv\n",
      "2019-11-20 10:41:12.103329 298673 /home/jian/celery/BiWeekly_New_SignUps/monthly_update/output_2019-11-02/NewReward_2019-11-02_P.csv\n",
      "2019-11-20 10:41:12.731855 298672 /home/jian/celery/BiWeekly_New_SignUps/monthly_update/output_2019-11-02/NewReward_2019-11-02_S.csv\n",
      "2019-11-20 10:41:14.331120 298672 /home/jian/celery/BiWeekly_New_SignUps/monthly_update/output_2019-11-02/NewReward_2019-11-02_T.csv\n"
     ]
    }
   ],
   "source": [
    "for file_uploaded in previous_id_files_lists:\n",
    "    df = pd.read_csv(file_uploaded,usecols = ['email_address_hash'])\n",
    "    previous_email_set=set(df['email_address_hash'].tolist())\n",
    "    df_all_new_master = df_all_new_master[~df_all_new_master['email_address_hash'].isin(previous_email_set)]\n",
    "    print(datetime.datetime.now(),len(df_all_new_master.index),file_uploaded)"
   ]
  },
  {
   "cell_type": "code",
   "execution_count": 11,
   "metadata": {},
   "outputs": [
    {
     "name": "stdout",
     "output_type": "stream",
     "text": [
      "298672\n"
     ]
    }
   ],
   "source": [
    "df_all_new_master = df_all_new_master.drop_duplicates('email_address_hash')\n",
    "df_all_new_master = df_all_new_master.drop_duplicates('customer_id_hashed')\n",
    "print(len(df_all_new_master.index))"
   ]
  },
  {
   "cell_type": "code",
   "execution_count": 12,
   "metadata": {},
   "outputs": [
    {
     "name": "stdout",
     "output_type": "stream",
     "text": [
      "(12980, 3)\n",
      "12980\n"
     ]
    },
    {
     "data": {
      "text/html": [
       "<div>\n",
       "<style scoped>\n",
       "    .dataframe tbody tr th:only-of-type {\n",
       "        vertical-align: middle;\n",
       "    }\n",
       "\n",
       "    .dataframe tbody tr th {\n",
       "        vertical-align: top;\n",
       "    }\n",
       "\n",
       "    .dataframe thead th {\n",
       "        text-align: right;\n",
       "    }\n",
       "</style>\n",
       "<table border=\"1\" class=\"dataframe\">\n",
       "  <thead>\n",
       "    <tr style=\"text-align: right;\">\n",
       "      <th></th>\n",
       "      <th>customer_zip_code</th>\n",
       "      <th>zipcodegroup</th>\n",
       "    </tr>\n",
       "  </thead>\n",
       "  <tbody>\n",
       "    <tr>\n",
       "      <th>0</th>\n",
       "      <td>75040</td>\n",
       "      <td>P</td>\n",
       "    </tr>\n",
       "    <tr>\n",
       "      <th>1</th>\n",
       "      <td>20743</td>\n",
       "      <td>P</td>\n",
       "    </tr>\n",
       "  </tbody>\n",
       "</table>\n",
       "</div>"
      ],
      "text/plain": [
       "  customer_zip_code zipcodegroup\n",
       "0             75040            P\n",
       "1             20743            P"
      ]
     },
     "execution_count": 12,
     "metadata": {},
     "output_type": "execute_result"
    }
   ],
   "source": [
    "zipmap = pd.ExcelFile('/home/jian/Projects/Big_Lots/New_TA/TA_created_in_201906/final_output_20190718/BL_final_TA_updated_JL_2019-07-18.xlsx')\n",
    "zipmap=zipmap.parse(\"unique_zips_full_footprint\",dtype=str)\n",
    "zipmap['zip_type']=zipmap['zip_type'].replace(\"zips_10\",\"trans_S\")\n",
    "\n",
    "zipmap['zipcodegroup'] = zipmap['zip_type'].apply(lambda x: x.split(\"_\")[1])\n",
    "print(zipmap.shape)\n",
    "print(zipmap['zip_cd'].nunique())\n",
    "\n",
    "zipmap=zipmap.rename(columns={\"zip_cd\":\"customer_zip_code\"})\n",
    "\n",
    "zipmap=zipmap[['customer_zip_code','zipcodegroup']]\n",
    "zipmap.head(2)"
   ]
  },
  {
   "cell_type": "code",
   "execution_count": 13,
   "metadata": {},
   "outputs": [
    {
     "name": "stdout",
     "output_type": "stream",
     "text": [
      "['P' nan 'S']\n",
      "['P' 'T' 'S']\n",
      "P 113766\n",
      "S 50623\n",
      "T 134283\n"
     ]
    }
   ],
   "source": [
    "df_all_new_master = pd.merge(df_all_new_master,zipmap,on ='customer_zip_code',how = 'left' )\n",
    "print(df_all_new_master['zipcodegroup'].unique())\n",
    "\n",
    "df_all_new_master['zipcodegroup'].fillna('T',inplace = True)\n",
    "print(df_all_new_master['zipcodegroup'].unique())\n",
    "\n",
    "last_saturday_str=\"_\"+str(last_saturday).split(\"-\")[1]+str(last_saturday).split(\"-\")[2]+str(last_saturday).split(\"-\")[0][2:]+\"_\"\n",
    "\n",
    "for revenue_flag in ['P','S','T']:\n",
    "    df = df_all_new_master[df_all_new_master['zipcodegroup']==revenue_flag]\n",
    "    df = df[['customer_id_hashed','email_address_hash','customer_zip_code']]\n",
    "    df['segment'] = 'NewReward' + last_saturday_str + revenue_flag\n",
    "    print(revenue_flag,len(df.index))\n",
    "    df.to_csv(write_folder+'NewReward_'+str(last_saturday)+'_'+revenue_flag+'.csv',index = False)\n",
    "# To be uploaded to lr-big-lots /uploads/big_lots_onboarding"
   ]
  },
  {
   "cell_type": "code",
   "execution_count": 14,
   "metadata": {},
   "outputs": [
    {
     "data": {
      "text/html": [
       "<div>\n",
       "<style scoped>\n",
       "    .dataframe tbody tr th:only-of-type {\n",
       "        vertical-align: middle;\n",
       "    }\n",
       "\n",
       "    .dataframe tbody tr th {\n",
       "        vertical-align: top;\n",
       "    }\n",
       "\n",
       "    .dataframe thead th {\n",
       "        text-align: right;\n",
       "    }\n",
       "</style>\n",
       "<table border=\"1\" class=\"dataframe\">\n",
       "  <thead>\n",
       "    <tr style=\"text-align: right;\">\n",
       "      <th></th>\n",
       "      <th>zipcodegroup</th>\n",
       "      <th>email_address_hash</th>\n",
       "    </tr>\n",
       "  </thead>\n",
       "  <tbody>\n",
       "    <tr>\n",
       "      <th>0</th>\n",
       "      <td>P</td>\n",
       "      <td>113766</td>\n",
       "    </tr>\n",
       "    <tr>\n",
       "      <th>1</th>\n",
       "      <td>S</td>\n",
       "      <td>50623</td>\n",
       "    </tr>\n",
       "    <tr>\n",
       "      <th>2</th>\n",
       "      <td>T</td>\n",
       "      <td>134283</td>\n",
       "    </tr>\n",
       "  </tbody>\n",
       "</table>\n",
       "</div>"
      ],
      "text/plain": [
       "  zipcodegroup  email_address_hash\n",
       "0            P              113766\n",
       "1            S               50623\n",
       "2            T              134283"
      ]
     },
     "execution_count": 14,
     "metadata": {},
     "output_type": "execute_result"
    }
   ],
   "source": [
    "df_all_new_master.groupby(['zipcodegroup'])['email_address_hash'].count().to_frame().reset_index()"
   ]
  },
  {
   "cell_type": "code",
   "execution_count": 15,
   "metadata": {},
   "outputs": [
    {
     "data": {
      "text/html": [
       "<div>\n",
       "<style scoped>\n",
       "    .dataframe tbody tr th:only-of-type {\n",
       "        vertical-align: middle;\n",
       "    }\n",
       "\n",
       "    .dataframe tbody tr th {\n",
       "        vertical-align: top;\n",
       "    }\n",
       "\n",
       "    .dataframe thead th {\n",
       "        text-align: right;\n",
       "    }\n",
       "</style>\n",
       "<table border=\"1\" class=\"dataframe\">\n",
       "  <thead>\n",
       "    <tr style=\"text-align: right;\">\n",
       "      <th></th>\n",
       "      <th>customer_id_hashed</th>\n",
       "      <th>email_address_hash</th>\n",
       "      <th>customer_zip_code</th>\n",
       "      <th>segment</th>\n",
       "    </tr>\n",
       "  </thead>\n",
       "  <tbody>\n",
       "    <tr>\n",
       "      <th>1</th>\n",
       "      <td>2f94802cc5241ada7ad83422b04a3305508e95ff35d779...</td>\n",
       "      <td>04fd2034cd7639334a107a9c83b2d17048df35d12cccd5...</td>\n",
       "      <td>NaN</td>\n",
       "      <td>NewReward_111619_T</td>\n",
       "    </tr>\n",
       "    <tr>\n",
       "      <th>3</th>\n",
       "      <td>5705b6a2b910db0542e762633d5a06a0b626068421d0e2...</td>\n",
       "      <td>663e226eadd6fa32dd9e529d2ff12db21c3b96df0ce9e0...</td>\n",
       "      <td>24104</td>\n",
       "      <td>NewReward_111619_T</td>\n",
       "    </tr>\n",
       "  </tbody>\n",
       "</table>\n",
       "</div>"
      ],
      "text/plain": [
       "                                  customer_id_hashed  \\\n",
       "1  2f94802cc5241ada7ad83422b04a3305508e95ff35d779...   \n",
       "3  5705b6a2b910db0542e762633d5a06a0b626068421d0e2...   \n",
       "\n",
       "                                  email_address_hash customer_zip_code  \\\n",
       "1  04fd2034cd7639334a107a9c83b2d17048df35d12cccd5...               NaN   \n",
       "3  663e226eadd6fa32dd9e529d2ff12db21c3b96df0ce9e0...             24104   \n",
       "\n",
       "              segment  \n",
       "1  NewReward_111619_T  \n",
       "3  NewReward_111619_T  "
      ]
     },
     "execution_count": 15,
     "metadata": {},
     "output_type": "execute_result"
    }
   ],
   "source": [
    "df.head(2)"
   ]
  },
  {
   "cell_type": "code",
   "execution_count": 16,
   "metadata": {},
   "outputs": [
    {
     "name": "stdout",
     "output_type": "stream",
     "text": [
      "2019-11-20 10:41:23.278243\n"
     ]
    }
   ],
   "source": [
    "print(datetime.datetime.now())"
   ]
  },
  {
   "cell_type": "code",
   "execution_count": 17,
   "metadata": {},
   "outputs": [
    {
     "name": "stdout",
     "output_type": "stream",
     "text": [
      "2019-11-20 10:42:12.577570\n"
     ]
    }
   ],
   "source": [
    "print(datetime.datetime.now())"
   ]
  },
  {
   "cell_type": "code",
   "execution_count": 18,
   "metadata": {},
   "outputs": [
    {
     "name": "stdout",
     "output_type": "stream",
     "text": [
      "Done:  2019-11-20 10:44:17.505944\n"
     ]
    }
   ],
   "source": [
    "import paramiko\n",
    "import glob\n",
    "\n",
    "host = \"files.liveramp.com\"\n",
    "port = 22\n",
    "password = \"Biglots2018!\"\n",
    "username = \"lr-big-lots\"\n",
    "\n",
    "transport = paramiko.Transport((host, port))\n",
    "\n",
    "transport.connect(username = username, password = password)\n",
    "sftp = paramiko.SFTPClient.from_transport(transport)\n",
    "\n",
    "# local_path defined above before saving the local txt\n",
    "local_list=glob.glob(write_folder+\"*.csv\")\n",
    "local_list=[x for x in local_list if 'NewReward_'+str(last_saturday)+'_' in x]\n",
    "\n",
    "for local_path in local_list:\n",
    "    remote_path=\"/uploads/big_lots_onboarding/\"+os.path.basename(local_path)\n",
    "    sftp.put(local_path,remote_path)\n",
    "sftp.close()\n",
    "transport.close()\n",
    "print(\"Done: \",datetime.datetime.now())"
   ]
  },
  {
   "cell_type": "code",
   "execution_count": null,
   "metadata": {
    "collapsed": true
   },
   "outputs": [],
   "source": []
  }
 ],
 "metadata": {
  "kernelspec": {
   "display_name": "Python 3",
   "language": "python",
   "name": "python3"
  },
  "language_info": {
   "codemirror_mode": {
    "name": "ipython",
    "version": 3
   },
   "file_extension": ".py",
   "mimetype": "text/x-python",
   "name": "python",
   "nbconvert_exporter": "python",
   "pygments_lexer": "ipython3",
   "version": "3.6.1"
  }
 },
 "nbformat": 4,
 "nbformat_minor": 2
}
