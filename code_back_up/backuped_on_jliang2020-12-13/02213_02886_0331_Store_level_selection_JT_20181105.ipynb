{
 "cells": [
  {
   "cell_type": "code",
   "execution_count": 1,
   "metadata": {
    "collapsed": true
   },
   "outputs": [],
   "source": [
    "import pandas as pd\n",
    "import datetime\n",
    "import numpy as np\n",
    "import json\n",
    "import geocoder\n",
    "from haversine import haversine\n",
    "zip_centers=json.load(open(\"/home/jian/Docs/Geo_mapping/center_of_rentrak_zip.json\"))"
   ]
  },
  {
   "cell_type": "code",
   "execution_count": 2,
   "metadata": {
    "collapsed": true
   },
   "outputs": [],
   "source": [
    "store_request=pd.read_excel(\"/home/jian/Projects/Big_Lots/New_TA/Store_Level_Zip_Selection/JT_20181105/Free Food Test - Candidate Stores 10.17.18.xlsx\",\n",
    "                            dtype=str,skiprows=2)\n",
    "store_request=store_request[['Store#','DMA','Reg','Dist','Address','City','ST','Zip','DC','Group/Test Name']]\n",
    "\n",
    "#\n",
    "store_list_sftp=pd.read_table(\"/home/jian/BigLots/static_files/Store_list/MediaStormStores20181101-134628-331.txt\",\n",
    "                              sep=\"|\",dtype=str)\n",
    "store_list_sftp=store_list_sftp[['location_id','longitude_meas','latitude_meas']].rename(columns={\"location_id\":\"Store#\"})\n",
    "store_list_sftp['latitude_meas']=store_list_sftp['latitude_meas'].astype(float)\n",
    "store_list_sftp['longitude_meas']=store_list_sftp['longitude_meas'].astype(float)\n",
    "\n",
    "#\n",
    "store_request=pd.merge(store_request,store_list_sftp,on=\"Store#\",how=\"left\")"
   ]
  },
  {
   "cell_type": "code",
   "execution_count": 3,
   "metadata": {
    "collapsed": true
   },
   "outputs": [],
   "source": [
    "store_level_P_S_T=pd.read_csv(\"/home/jian/Projects/Big_Lots/New_TA/zips_in_new_ta/sales_by_zip (Store level).csv\",dtype=str)\n",
    "store_level_P_S_T=store_level_P_S_T[store_level_P_S_T['location_id'].isin(store_request['Store#'])]\n",
    "store_level_P_S_T=store_level_P_S_T[['location_id','revenue_flag','zip']].rename(columns={\"location_id\":\"Store#\"})\n",
    "store_level_P_S_T=store_level_P_S_T[store_level_P_S_T['revenue_flag'].isin([\"P\",\"S\"])]"
   ]
  },
  {
   "cell_type": "code",
   "execution_count": 4,
   "metadata": {},
   "outputs": [
    {
     "name": "stderr",
     "output_type": "stream",
     "text": [
      "/usr/local/lib/python3.6/site-packages/ipykernel_launcher.py:17: SettingWithCopyWarning: \n",
      "A value is trying to be set on a copy of a slice from a DataFrame\n",
      "\n",
      "See the caveats in the documentation: http://pandas.pydata.org/pandas-docs/stable/indexing.html#indexing-view-versus-copy\n"
     ]
    }
   ],
   "source": [
    "store_request_in=store_request[store_request['Store#'].isin(store_level_P_S_T['Store#'])].reset_index()\n",
    "store_request_out=store_request[~store_request['Store#'].isin(store_level_P_S_T['Store#'])].reset_index()\n",
    "del store_request_in['index']\n",
    "del store_request_out['index']\n",
    "\n",
    "store_request_in=pd.merge(store_request_in,store_level_P_S_T,on=\"Store#\",how=\"left\")\n",
    "store_request_in[\"distance\"]=np.nan\n",
    "for i in range(len(store_request_in)):\n",
    "    store_lat=store_request_in['latitude_meas'][i]\n",
    "    store_lng=store_request_in['longitude_meas'][i]  \n",
    "    store_center=[store_lat,store_lng]\n",
    "    zip_cd=store_request_in['zip'][i]  \n",
    "    if zip_cd in zip_centers.keys():\n",
    "        dist=haversine(store_center,zip_centers[zip_cd],miles=True)\n",
    "    else:\n",
    "        dist=np.nan\n",
    "    store_request_in['distance'][i]=dist\n",
    "store_request_in=store_request_in[(store_request_in['revenue_flag']==\"P\") | (store_request_in['distance']<=20)]"
   ]
  },
  {
   "cell_type": "code",
   "execution_count": 5,
   "metadata": {
    "collapsed": true
   },
   "outputs": [],
   "source": [
    "output_new_stores=pd.DataFrame()\n",
    "for i in range(len(store_request_out)):\n",
    "    store_num=store_request_out['Store#'][i]\n",
    "    store_lat=store_request_out['latitude_meas'][i]\n",
    "    store_lng=store_request_out['longitude_meas'][i]\n",
    "    store_center=[store_lat,store_lng]\n",
    "    for zip_cd in zip_centers.keys():\n",
    "        dist=haversine(store_center,zip_centers[zip_cd],miles=True)\n",
    "        if dist<=10:\n",
    "            df=pd.DataFrame({\"Store#\":store_num,\"revenue_flag\":\"10_mile_zips\",\"zip\":zip_cd,\"distance\":dist},index=[i])\n",
    "            output_new_stores=output_new_stores.append(df)\n",
    "output_new_stores=output_new_stores[['Store#','revenue_flag','zip','distance']]\n",
    "store_request_out=pd.merge(store_request_out,output_new_stores,on=\"Store#\",how=\"left\")"
   ]
  },
  {
   "cell_type": "code",
   "execution_count": 6,
   "metadata": {},
   "outputs": [],
   "source": [
    "store_request_both=store_request_in.append(store_request_out)\n",
    "store_request_both_to_merge=store_request_both[['Store#','revenue_flag','zip','distance']].rename(columns={\"zip\":\"P_S_zips\"})\n",
    "\n",
    "output=pd.merge(store_request,store_request_both_to_merge,on=\"Store#\",how=\"left\")\n",
    "\n",
    "df_unique_zips=output[['P_S_zips']].drop_duplicates()"
   ]
  },
  {
   "cell_type": "code",
   "execution_count": null,
   "metadata": {
    "collapsed": true
   },
   "outputs": [],
   "source": []
  },
  {
   "cell_type": "code",
   "execution_count": 8,
   "metadata": {},
   "outputs": [],
   "source": [
    "writer=pd.ExcelWriter(\"/home/jian/Projects/Big_Lots/New_TA/Store_Level_Zip_Selection/JT_20181105/BL_Store level P S zips for 56 Free food test_JL_\"+str(datetime.datetime.now().date())+\".xlsx\",\n",
    "                     engine=\"xlsxwriter\")\n",
    "output.to_excel(writer,\"P_S_zips_by_Store\",index=False)\n",
    "df_unique_zips.to_excel(writer,\"unique_P_S_zips\",index=False)\n",
    "writer.save()"
   ]
  },
  {
   "cell_type": "code",
   "execution_count": null,
   "metadata": {
    "collapsed": true
   },
   "outputs": [],
   "source": []
  }
 ],
 "metadata": {
  "kernelspec": {
   "display_name": "Python 3",
   "language": "python",
   "name": "python3"
  },
  "language_info": {
   "codemirror_mode": {
    "name": "ipython",
    "version": 3
   },
   "file_extension": ".py",
   "mimetype": "text/x-python",
   "name": "python",
   "nbconvert_exporter": "python",
   "pygments_lexer": "ipython3",
   "version": "3.6.1"
  }
 },
 "nbformat": 4,
 "nbformat_minor": 2
}
