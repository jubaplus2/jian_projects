{
 "cells": [
  {
   "cell_type": "code",
   "execution_count": 11,
   "metadata": {
    "collapsed": true
   },
   "outputs": [],
   "source": [
    "import pandas as pd\n",
    "import json\n",
    "import datetime\n",
    "import glob\n",
    "import numpy as np"
   ]
  },
  {
   "cell_type": "code",
   "execution_count": 12,
   "metadata": {
    "collapsed": true
   },
   "outputs": [],
   "source": [
    "Store_Df=pd.read_csv(\"/home/jian/BiglotsCode/outputs/combined_sales_long_2018-07-28.csv\",dtype=str)\n",
    "Store_Df['week_end_date']=Store_Df['week_end_date'].apply(lambda x: datetime.datetime.strptime(x,\"%Y-%m-%d\").date())\n",
    "Store_Df=Store_Df[(Store_Df['week_end_date']>=datetime.date(2018,2,1))&(Store_Df['week_end_date']<=datetime.date(2018,5,6))]\n",
    "Store_Df['sales']=Store_Df['sales'].astype(float)\n",
    "Store_Df=Store_Df[Store_Df['sales']>0]\n"
   ]
  },
  {
   "cell_type": "code",
   "execution_count": 13,
   "metadata": {
    "collapsed": true
   },
   "outputs": [],
   "source": [
    "store_list_Q1=Store_Df['location_id'].unique().tolist()"
   ]
  },
  {
   "cell_type": "code",
   "execution_count": 14,
   "metadata": {
    "collapsed": true
   },
   "outputs": [],
   "source": [
    "store_list_1=pd.read_table(\"/home/jian/BiglotsCode/OtherInput/MediaStormStoreList_Nov15.txt\",dtype=str,sep=\"|\")\n",
    "store_list_2=pd.read_table(\"/home/jian/BiglotsCode/OtherInput/MediaStormStores_20180703.txt\",dtype=str,sep=\"|\")\n",
    "store_list_1['store_zip']=store_list_1['zip_cd'].apply(lambda x: x.split(\"-\")[0].zfill(5))\n",
    "store_list_2['store_zip']=store_list_2['zip_cd'].apply(lambda x: x.split(\"-\")[0].zfill(5))\n",
    "\n",
    "store_list_1=store_list_1[['location_id','store_zip','longitude_meas','latitude_meas']]\n",
    "store_list_2=store_list_2[['location_id','store_zip','longitude_meas','latitude_meas']]\n",
    "store_list_1=store_list_1[~store_list_1['location_id'].isin(store_list_2['location_id'])]\n",
    "store_list=store_list_2.append(store_list_1)\n",
    "store_list=store_list[store_list['location_id']!=\"6990\"]\n",
    "store_list=store_list[store_list['location_id']!=\"145\"]\n",
    "\n",
    "\n",
    "store_list['latitude_meas']=store_list['latitude_meas'].astype(float)\n",
    "store_list['longitude_meas']=store_list['longitude_meas'].astype(float)"
   ]
  },
  {
   "cell_type": "code",
   "execution_count": 15,
   "metadata": {
    "collapsed": true
   },
   "outputs": [],
   "source": [
    "store_list=store_list[store_list['location_id'].isin(store_list_Q1)]"
   ]
  },
  {
   "cell_type": "code",
   "execution_count": 16,
   "metadata": {
    "collapsed": true
   },
   "outputs": [],
   "source": [
    "inclued_zips=store_list['store_zip'].unique().tolist()"
   ]
  },
  {
   "cell_type": "code",
   "execution_count": 17,
   "metadata": {
    "collapsed": true
   },
   "outputs": [],
   "source": [
    "weather_json_files=glob.glob(\"/home/jian/Projects/Big_Lots/Weather/Json_data/daily/\"+\"*.json\")\n",
    "weather_date=[datetime.datetime.strptime(x.split(\"/\")[len(x.split(\"/\"))-1][0:10],\"%Y-%m-%d\").date() for x in weather_json_files]\n",
    "df_weather_files=pd.DataFrame({\"path\":weather_json_files,\"date\":weather_date},index=range(len(weather_json_files)))\n",
    "df_weather_files['weekday']=df_weather_files['date'].apply(lambda x: x.weekday())\n",
    "df_weather_files_weekends=df_weather_files[df_weather_files['weekday'].isin([5,6])].reset_index()\n",
    "del df_weather_files_weekends['index']\n",
    "df_weather_files_weekends['Month']=df_weather_files_weekends['date'].apply(lambda x: x.month)\n",
    "df_weather_files_weekends=df_weather_files_weekends[(df_weather_files_weekends['date']>=datetime.date(2018,2,1)) & (df_weather_files_weekends['date']<datetime.date(2018,5,1))]"
   ]
  },
  {
   "cell_type": "code",
   "execution_count": 18,
   "metadata": {
    "collapsed": true
   },
   "outputs": [],
   "source": [
    "group_weight=pd.read_excel(\"/home/jian/Projects/Big_Lots/Weather/Q1_Weather_Counts/Q1_inclusion_store_all_weather_type_ranked.xlsx\",sheetname=\"all_weather_group_list\")\n",
    "group_weight['Severity']=group_weight['Severity'].astype(int)\n",
    "group_weight=group_weight[['all_type_group','Severity']]\n",
    "group_weight_dict=group_weight[['all_type_group', 'Severity']].set_index('all_type_group').T.to_dict()"
   ]
  },
  {
   "cell_type": "code",
   "execution_count": 19,
   "metadata": {},
   "outputs": [
    {
     "data": {
      "text/html": [
       "<div>\n",
       "<style>\n",
       "    .dataframe thead tr:only-child th {\n",
       "        text-align: right;\n",
       "    }\n",
       "\n",
       "    .dataframe thead th {\n",
       "        text-align: left;\n",
       "    }\n",
       "\n",
       "    .dataframe tbody tr th {\n",
       "        vertical-align: top;\n",
       "    }\n",
       "</style>\n",
       "<table border=\"1\" class=\"dataframe\">\n",
       "  <thead>\n",
       "    <tr style=\"text-align: right;\">\n",
       "      <th></th>\n",
       "      <th>date</th>\n",
       "      <th>path</th>\n",
       "      <th>weekday</th>\n",
       "      <th>Month</th>\n",
       "    </tr>\n",
       "  </thead>\n",
       "  <tbody>\n",
       "    <tr>\n",
       "      <th>1</th>\n",
       "      <td>2018-02-18</td>\n",
       "      <td>/home/jian/Projects/Big_Lots/Weather/Json_data...</td>\n",
       "      <td>6</td>\n",
       "      <td>2</td>\n",
       "    </tr>\n",
       "    <tr>\n",
       "      <th>3</th>\n",
       "      <td>2018-04-07</td>\n",
       "      <td>/home/jian/Projects/Big_Lots/Weather/Json_data...</td>\n",
       "      <td>5</td>\n",
       "      <td>4</td>\n",
       "    </tr>\n",
       "  </tbody>\n",
       "</table>\n",
       "</div>"
      ],
      "text/plain": [
       "         date                                               path  weekday  \\\n",
       "1  2018-02-18  /home/jian/Projects/Big_Lots/Weather/Json_data...        6   \n",
       "3  2018-04-07  /home/jian/Projects/Big_Lots/Weather/Json_data...        5   \n",
       "\n",
       "   Month  \n",
       "1      2  \n",
       "3      4  "
      ]
     },
     "execution_count": 19,
     "metadata": {},
     "output_type": "execute_result"
    }
   ],
   "source": [
    "df_weather_files_weekends.head(2)"
   ]
  },
  {
   "cell_type": "code",
   "execution_count": 20,
   "metadata": {
    "collapsed": true
   },
   "outputs": [],
   "source": [
    "def choose_day_per_month(month):\n",
    "    df=df_weather_files_weekends[df_weather_files_weekends['Month']==month]\n",
    "    file_list=df['path'].unique().tolist()\n",
    "    output_1_month=pd.DataFrame()\n",
    "    for file in file_list:\n",
    "        output_1_Day=pd.DataFrame()\n",
    "        DATE=df[df['path']==file]['date'].unique()[0]\n",
    "        response=json.load(open(file,\"r\"))\n",
    "        for zip_cd in inclued_zips:\n",
    "            if zip_cd in list(response.keys()):\n",
    "                weather_list=response[zip_cd]['weather']\n",
    "                dominated_weather_severity=0\n",
    "                dominated_weather=np.nan\n",
    "                for j in range(len(weather_list)):\n",
    "                    weather_j=weather_list[j]['main']\n",
    "                    weather_j_severity=group_weight_dict[weather_j]['Severity']\n",
    "                    if weather_j_severity>dominated_weather_severity:\n",
    "                        dominated_weather=weather_j\n",
    "                        dominated_weather_severity=weather_j_severity\n",
    "                        \n",
    "                df_app=pd.DataFrame({\"Date\":datetime.datetime.fromtimestamp(response[list(response.keys())[0]]['dt']).date(),\"zip_cd\":zip_cd,\"Weather\":dominated_weather,'Severity':dominated_weather_severity},index=[0])\n",
    "                output_1_Day=output_1_Day.append(df_app)\n",
    "                output_1_Day['file_date']=DATE\n",
    "        output_1_month=output_1_month.append(output_1_Day)\n",
    "    return output_1_month\n",
    "    \n",
    "                "
   ]
  },
  {
   "cell_type": "code",
   "execution_count": 21,
   "metadata": {
    "collapsed": true
   },
   "outputs": [],
   "source": [
    "Feb_Severity=choose_day_per_month(2)\n",
    "Feb_Severity_Avg=Feb_Severity.groupby(['Date'])['Severity'].mean().to_frame().reset_index()"
   ]
  },
  {
   "cell_type": "code",
   "execution_count": 22,
   "metadata": {
    "collapsed": true
   },
   "outputs": [],
   "source": [
    "Mar_Severity=choose_day_per_month(3)\n",
    "Mar_Severity_Avg=Mar_Severity.groupby(['Date'])['Severity'].mean().to_frame().reset_index()"
   ]
  },
  {
   "cell_type": "code",
   "execution_count": 23,
   "metadata": {
    "collapsed": true
   },
   "outputs": [],
   "source": [
    "Apr_Severity=choose_day_per_month(4)\n",
    "Apr_Severity_Avg=Apr_Severity.groupby(['Date'])['Severity'].mean().to_frame().reset_index()"
   ]
  },
  {
   "cell_type": "code",
   "execution_count": null,
   "metadata": {
    "collapsed": true
   },
   "outputs": [],
   "source": []
  },
  {
   "cell_type": "code",
   "execution_count": 24,
   "metadata": {
    "collapsed": true
   },
   "outputs": [],
   "source": [
    "zip_DMA=pd.read_excel(\"/home/jian/Docs/Geo_mapping/Zips by DMA by County16-17 nielsen.xlsx\",dtype=str,skiprows=1)\n",
    "zip_DMA=zip_DMA.iloc[:,[0,2]]\n",
    "zip_DMA.columns=['zip_cd','DMA']\n",
    "zip_DMA=zip_DMA.drop_duplicates()"
   ]
  },
  {
   "cell_type": "code",
   "execution_count": null,
   "metadata": {
    "collapsed": true
   },
   "outputs": [],
   "source": []
  },
  {
   "cell_type": "code",
   "execution_count": 25,
   "metadata": {
    "collapsed": true
   },
   "outputs": [],
   "source": [
    "Feb_Severity_DMA_Duplicated=pd.merge(Feb_Severity,zip_DMA,on=\"zip_cd\",how=\"left\")\n",
    "Mar_Severity_DMA_Duplicated=pd.merge(Mar_Severity,zip_DMA,on=\"zip_cd\",how=\"left\")\n",
    "Apr_Severity_DMA_Duplicated=pd.merge(Apr_Severity,zip_DMA,on=\"zip_cd\",how=\"left\")"
   ]
  },
  {
   "cell_type": "code",
   "execution_count": 26,
   "metadata": {
    "collapsed": true
   },
   "outputs": [],
   "source": [
    "func = {'Severity':['mean'], 'zip_cd':['count']}\n",
    "\n",
    "Feb_Severity_DMA_Day=Feb_Severity_DMA_Duplicated.groupby(['Date','DMA'])['Severity','zip_cd'].agg(func).reset_index()\n",
    "Feb_Severity_DMA_Day.columns=[Feb_Severity_DMA_Day.columns.get_level_values(0).tolist()[i]+\"_\"+Feb_Severity_DMA_Day.columns.get_level_values(1).tolist()[i] for i in range(Feb_Severity_DMA_Day.shape[1])]\n",
    "\n",
    "Mar_Severity_DMA_Day=Mar_Severity_DMA_Duplicated.groupby(['Date','DMA'])['Severity','zip_cd'].agg(func).reset_index()\n",
    "Mar_Severity_DMA_Day.columns=[Mar_Severity_DMA_Day.columns.get_level_values(0).tolist()[i]+\"_\"+Mar_Severity_DMA_Day.columns.get_level_values(1).tolist()[i] for i in range(Mar_Severity_DMA_Day.shape[1])]\n",
    "\n",
    "Apr_Severity_DMA_Day=Apr_Severity_DMA_Duplicated.groupby(['Date','DMA'])['Severity','zip_cd'].agg(func).reset_index()\n",
    "Apr_Severity_DMA_Day.columns=[Apr_Severity_DMA_Day.columns.get_level_values(0).tolist()[i]+\"_\"+Apr_Severity_DMA_Day.columns.get_level_values(1).tolist()[i] for i in range(Apr_Severity_DMA_Day.shape[1])]\n"
   ]
  },
  {
   "cell_type": "code",
   "execution_count": 27,
   "metadata": {
    "collapsed": true
   },
   "outputs": [],
   "source": [
    "writer=pd.ExcelWriter(\"/home/jian/Projects/Big_Lots/Weather/Internal_Search_Phrase/Averaged_Weekend_Weather_Severity_by_Month_JL_20180801.xlsx\",engine='xlsxwriter')\n",
    "Feb_Severity_Avg.to_excel(writer,\"Feb_Severity_Avg\",index=False)\n",
    "Mar_Severity_Avg.to_excel(writer,\"Mar_Severity_Avg\",index=False)\n",
    "Apr_Severity_Avg.to_excel(writer,\"Apr_Severity_Avg\",index=False)\n",
    "\n",
    "Feb_Severity.to_excel(writer,\"Feb_Severity\",index=False)\n",
    "Mar_Severity.to_excel(writer,\"Mar_Severity\",index=False)\n",
    "Apr_Severity.to_excel(writer,\"Apr_Severity\",index=False)\n",
    "\n",
    "Feb_Severity_DMA_Day.to_excel(writer,\"Feb_Severity_DMA_Day\",index=False)\n",
    "Mar_Severity_DMA_Day.to_excel(writer,\"Mar_Severity_DMA_Day\",index=False)\n",
    "Apr_Severity_DMA_Day.to_excel(writer,\"Apr_Severity_DMA_Day\",index=False)\n",
    "\n",
    "writer.save()\n",
    "\n",
    "\n",
    "\n",
    "\n",
    "\n"
   ]
  },
  {
   "cell_type": "code",
   "execution_count": 190,
   "metadata": {},
   "outputs": [
    {
     "data": {
      "text/plain": [
       "{'base': 'stations',\n",
       " 'clouds': {'all': 75},\n",
       " 'cod': 200,\n",
       " 'coord': {'lat': 41.14, 'lon': -104.8},\n",
       " 'dt': 1518458280,\n",
       " 'id': 0,\n",
       " 'main': {'humidity': 92,\n",
       "  'pressure': 1015,\n",
       "  'temp': 260.15,\n",
       "  'temp_max': 260.15,\n",
       "  'temp_min': 260.15},\n",
       " 'name': 'Cheyenne',\n",
       " 'sys': {'country': 'US',\n",
       "  'id': 3074,\n",
       "  'message': 0.0043,\n",
       "  'sunrise': 1518443793,\n",
       "  'sunset': 1518481848,\n",
       "  'type': 1},\n",
       " 'visibility': 4426,\n",
       " 'weather': [{'description': 'mist', 'icon': '50d', 'id': 701, 'main': 'Mist'},\n",
       "  {'description': 'light snow', 'icon': '13d', 'id': 600, 'main': 'Snow'}],\n",
       " 'wind': {'deg': 107.003, 'speed': 2.21}}"
      ]
     },
     "execution_count": 190,
     "metadata": {},
     "output_type": "execute_result"
    }
   ],
   "source": [
    "# check\n",
    "file=\"/home/jian/Projects/Big_Lots/Weather/Json_data/daily/2018-02-12.json\"\n",
    "response=json.load(open(file,\"r\"))\n",
    "response['82001']"
   ]
  },
  {
   "cell_type": "code",
   "execution_count": 118,
   "metadata": {},
   "outputs": [
    {
     "data": {
      "text/plain": [
       "'/home/jian/Projects/Big_Lots/Weather/Json_data/daily/2018-02-18.json'"
      ]
     },
     "execution_count": 118,
     "metadata": {},
     "output_type": "execute_result"
    }
   ],
   "source": [
    "df_weather_files_weekends['path'][2]"
   ]
  },
  {
   "cell_type": "code",
   "execution_count": null,
   "metadata": {
    "collapsed": true
   },
   "outputs": [],
   "source": []
  }
 ],
 "metadata": {
  "kernelspec": {
   "display_name": "Python 3",
   "language": "python",
   "name": "python3"
  },
  "language_info": {
   "codemirror_mode": {
    "name": "ipython",
    "version": 3
   },
   "file_extension": ".py",
   "mimetype": "text/x-python",
   "name": "python",
   "nbconvert_exporter": "python",
   "pygments_lexer": "ipython3",
   "version": "3.6.1"
  }
 },
 "nbformat": 4,
 "nbformat_minor": 2
}
