{
 "cells": [
  {
   "cell_type": "code",
   "execution_count": 1,
   "metadata": {
    "collapsed": true
   },
   "outputs": [],
   "source": [
    "# 4 weeks together\n",
    "# Then changed back to 2\n",
    "import pandas as pd\n",
    "import numpy as np\n",
    "import datetime\n",
    "import os\n",
    "# Add the new folders of Jian later"
   ]
  },
  {
   "cell_type": "code",
   "execution_count": 2,
   "metadata": {},
   "outputs": [
    {
     "data": {
      "text/plain": [
       "[datetime.date(2019, 9, 7),\n",
       " datetime.date(2019, 8, 31),\n",
       " datetime.date(2019, 8, 24),\n",
       " datetime.date(2019, 8, 17)]"
      ]
     },
     "execution_count": 2,
     "metadata": {},
     "output_type": "execute_result"
    }
   ],
   "source": [
    "def recursive_file_gen(my_root_dir):\n",
    "    for root, dirs, files in os.walk(my_root_dir):\n",
    "        for file in files:\n",
    "            yield os.path.join(root, file)\n",
    "            \n",
    "last_saturday=datetime.datetime.now().date()-datetime.timedelta(days=datetime.datetime.now().date().weekday()+2) #+7\n",
    "\n",
    "write_folder=\"/home/jian/celery/Append_to_celery_LiveRamp/monthly_update/output_\"+str(last_saturday)+\"/\"\n",
    "try:\n",
    "    os.stat(write_folder)\n",
    "except:\n",
    "    os.mkdir(write_folder)\n",
    "\n",
    "week_beginning=last_saturday-datetime.timedelta(days=14) # To be changed to 14\n",
    "\n",
    "recent_2_weeks=[last_saturday-datetime.timedelta(days=x*7) for x in range(2)]\n",
    "recent_2_weeks"
   ]
  },
  {
   "cell_type": "code",
   "execution_count": 3,
   "metadata": {},
   "outputs": [
    {
     "name": "stdout",
     "output_type": "stream",
     "text": [
      "4\n"
     ]
    }
   ],
   "source": [
    "# Checking for the recent weeks that haven't moved to the folder\n",
    "possible_recent_folders=[\"/home/jian/BigLots/MediaStorm_\"+str(x)+\"/\" for x in recent_2_weeks]\n",
    "recent_file_list=[]\n",
    "for dirc in possible_recent_folders:\n",
    "    list_recent=[x for x in list(recursive_file_gen(dirc)) if (\"Master\" in x) & (\".txt\" in x) ]\n",
    "    recent_file_list=recent_file_list+list_recent\n",
    "recent_file_df=pd.DataFrame({\"path\":recent_file_list,\"date\":[datetime.datetime.strptime(x.split(\"MasterWeekly\")[1][:8],\"%Y%m%d\").date()-datetime.timedelta(days=3) for x in recent_file_list]},index=[x for x in range(len(recent_file_list))])\n",
    "\n",
    "\n",
    "list_1_after_201806=[x for x in list(recursive_file_gen(\"/home/jian/BigLots/2019_by_weeks/\")) if (\"Master\" in x) & (\".txt\" in x) ]\n",
    "folder_date=[datetime.datetime.strptime(x.split(\"/\")[len(x.split(\"/\"))-2].split(\"_\")[1],\"%Y-%m-%d\").date() for x in list_1_after_201806]\n",
    "df_1_after_201806=pd.DataFrame({\"date\":folder_date,\"path\":list_1_after_201806},index=[x for x in range(len(list_1_after_201806))])\n",
    "df_1_after_201806['date'].apply(lambda x: x.weekday()).unique()\n",
    "df_1_after_201806=df_1_after_201806.sort_values(\"date\").reset_index()\n",
    "df_1_after_201806=df_1_after_201806[df_1_after_201806['date']>week_beginning]\n",
    "del df_1_after_201806['index']\n",
    "\n",
    "new_2_biweekly_files=df_1_after_201806.append(recent_file_df)\n",
    "\n",
    "print(len(new_2_biweekly_files))\n",
    "new_2_biweekly_files=new_2_biweekly_files['path'].unique().tolist()"
   ]
  },
  {
   "cell_type": "code",
   "execution_count": 4,
   "metadata": {},
   "outputs": [
    {
     "data": {
      "text/plain": [
       "['/home/jian/BigLots/2019_by_weeks/MediaStorm_2019-08-17/MediaStormMasterWeekly20190820-113748-487.txt',\n",
       " '/home/jian/BigLots/2019_by_weeks/MediaStorm_2019-08-24/MediaStormMasterWeekly20190827-113737-889.txt',\n",
       " '/home/jian/BigLots/2019_by_weeks/MediaStorm_2019-08-31/MediaStormMasterWeekly20190903-113802-440.txt',\n",
       " '/home/jian/BigLots/MediaStorm_2019-09-07/MediaStormMasterWeekly20190910-120736-447.txt']"
      ]
     },
     "execution_count": 4,
     "metadata": {},
     "output_type": "execute_result"
    }
   ],
   "source": [
    "new_2_biweekly_files"
   ]
  },
  {
   "cell_type": "code",
   "execution_count": 5,
   "metadata": {},
   "outputs": [
    {
     "name": "stdout",
     "output_type": "stream",
     "text": [
      "480694\n",
      "480687\n"
     ]
    }
   ],
   "source": [
    "if len(new_2_biweekly_files)==2: # Changed to weekly\n",
    "    df_all_new_master = pd.DataFrame()\n",
    "    for file in new_2_biweekly_files:\n",
    "        df = pd.read_csv(file,nrows = None,sep= '|',usecols = ['customer_id_hashed','email_address_hash','customer_zip_code'],\n",
    "                         dtype =str)\n",
    "        df_all_new_master = df_all_new_master.append(df,ignore_index = True)\n",
    "    print(len(df_all_new_master.index))\n",
    "    df_all_new_master = df_all_new_master.drop_duplicates('email_address_hash')\n",
    "    print(len(df_all_new_master.index))"
   ]
  },
  {
   "cell_type": "code",
   "execution_count": 6,
   "metadata": {},
   "outputs": [
    {
     "name": "stdout",
     "output_type": "stream",
     "text": [
      "72\n"
     ]
    }
   ],
   "source": [
    "# Remove previous week ids\n",
    "\n",
    "previous_id_files_lists=list(recursive_file_gen(\"/home/jian/Projects/Big_Lots/Live_Ramp/Quarterly_Update_2019Q1/crm_newscore_20190107/by_group_quadrant_24/\"))\n",
    "\n",
    "# previous_id_files_lists=[x for x in previous_id_files_lists if \"Copy of 48 Stores_727.csv\" not in x]\n",
    "previous_id_files_lists=[x for x in previous_id_files_lists if \".csv\" in x]\n",
    "print(len(previous_id_files_lists))"
   ]
  },
  {
   "cell_type": "code",
   "execution_count": 7,
   "metadata": {},
   "outputs": [
    {
     "data": {
      "text/plain": [
       "['/home/jian/Projects/Big_Lots/Live_Ramp/Quarterly_Update_2019Q1/crm_newscore_20190107/by_group_quadrant_24/T_Quadrant I_P_L_2019Q1.csv',\n",
       " '/home/jian/Projects/Big_Lots/Live_Ramp/Quarterly_Update_2019Q1/crm_newscore_20190107/by_group_quadrant_24/T_Quadrant I_S_H_2019Q1.csv',\n",
       " '/home/jian/Projects/Big_Lots/Live_Ramp/Quarterly_Update_2019Q1/crm_newscore_20190107/by_group_quadrant_24/T_Quadrant I_S_L_2019Q1.csv',\n",
       " '/home/jian/Projects/Big_Lots/Live_Ramp/Quarterly_Update_2019Q1/crm_newscore_20190107/by_group_quadrant_24/T_Quadrant I_T_H_2019Q1.csv',\n",
       " '/home/jian/Projects/Big_Lots/Live_Ramp/Quarterly_Update_2019Q1/crm_newscore_20190107/by_group_quadrant_24/T_Quadrant I_T_M_2019Q1.csv',\n",
       " '/home/jian/Projects/Big_Lots/Live_Ramp/Quarterly_Update_2019Q1/crm_newscore_20190107/by_group_quadrant_24/C_Quadrant III_P_H_2019Q1.csv',\n",
       " '/home/jian/Projects/Big_Lots/Live_Ramp/Quarterly_Update_2019Q1/crm_newscore_20190107/by_group_quadrant_24/C_Quadrant III_P_M_2019Q1.csv',\n",
       " '/home/jian/Projects/Big_Lots/Live_Ramp/Quarterly_Update_2019Q1/crm_newscore_20190107/by_group_quadrant_24/C_Quadrant III_S_L_2019Q1.csv',\n",
       " '/home/jian/Projects/Big_Lots/Live_Ramp/Quarterly_Update_2019Q1/crm_newscore_20190107/by_group_quadrant_24/C_Quadrant III_T_H_2019Q1.csv',\n",
       " '/home/jian/Projects/Big_Lots/Live_Ramp/Quarterly_Update_2019Q1/crm_newscore_20190107/by_group_quadrant_24/C_Quadrant III_T_L_2019Q1.csv',\n",
       " '/home/jian/Projects/Big_Lots/Live_Ramp/Quarterly_Update_2019Q1/crm_newscore_20190107/by_group_quadrant_24/C_Quadrant II_P_H_2019Q1.csv',\n",
       " '/home/jian/Projects/Big_Lots/Live_Ramp/Quarterly_Update_2019Q1/crm_newscore_20190107/by_group_quadrant_24/C_Quadrant II_P_M_2019Q1.csv',\n",
       " '/home/jian/Projects/Big_Lots/Live_Ramp/Quarterly_Update_2019Q1/crm_newscore_20190107/by_group_quadrant_24/C_Quadrant II_S_H_2019Q1.csv',\n",
       " '/home/jian/Projects/Big_Lots/Live_Ramp/Quarterly_Update_2019Q1/crm_newscore_20190107/by_group_quadrant_24/C_Quadrant II_S_M_2019Q1.csv',\n",
       " '/home/jian/Projects/Big_Lots/Live_Ramp/Quarterly_Update_2019Q1/crm_newscore_20190107/by_group_quadrant_24/C_Quadrant II_T_L_2019Q1.csv',\n",
       " '/home/jian/Projects/Big_Lots/Live_Ramp/Quarterly_Update_2019Q1/crm_newscore_20190107/by_group_quadrant_24/C_Quadrant II_T_M_2019Q1.csv',\n",
       " '/home/jian/Projects/Big_Lots/Live_Ramp/Quarterly_Update_2019Q1/crm_newscore_20190107/by_group_quadrant_24/C_Quadrant IV_P_L_2019Q1.csv',\n",
       " '/home/jian/Projects/Big_Lots/Live_Ramp/Quarterly_Update_2019Q1/crm_newscore_20190107/by_group_quadrant_24/C_Quadrant IV_S_H_2019Q1.csv',\n",
       " '/home/jian/Projects/Big_Lots/Live_Ramp/Quarterly_Update_2019Q1/crm_newscore_20190107/by_group_quadrant_24/C_Quadrant IV_S_L_2019Q1.csv',\n",
       " '/home/jian/Projects/Big_Lots/Live_Ramp/Quarterly_Update_2019Q1/crm_newscore_20190107/by_group_quadrant_24/C_Quadrant IV_T_H_2019Q1.csv',\n",
       " '/home/jian/Projects/Big_Lots/Live_Ramp/Quarterly_Update_2019Q1/crm_newscore_20190107/by_group_quadrant_24/C_Quadrant IV_T_M_2019Q1.csv',\n",
       " '/home/jian/Projects/Big_Lots/Live_Ramp/Quarterly_Update_2019Q1/crm_newscore_20190107/by_group_quadrant_24/C_Quadrant I_P_H_2019Q1.csv',\n",
       " '/home/jian/Projects/Big_Lots/Live_Ramp/Quarterly_Update_2019Q1/crm_newscore_20190107/by_group_quadrant_24/C_Quadrant I_P_M_2019Q1.csv',\n",
       " '/home/jian/Projects/Big_Lots/Live_Ramp/Quarterly_Update_2019Q1/crm_newscore_20190107/by_group_quadrant_24/C_Quadrant I_S_L_2019Q1.csv',\n",
       " '/home/jian/Projects/Big_Lots/Live_Ramp/Quarterly_Update_2019Q1/crm_newscore_20190107/by_group_quadrant_24/C_Quadrant I_S_M_2019Q1.csv',\n",
       " '/home/jian/Projects/Big_Lots/Live_Ramp/Quarterly_Update_2019Q1/crm_newscore_20190107/by_group_quadrant_24/C_Quadrant I_T_L_2019Q1.csv',\n",
       " '/home/jian/Projects/Big_Lots/Live_Ramp/Quarterly_Update_2019Q1/crm_newscore_20190107/by_group_quadrant_24/T_Quadrant III_P_H_2019Q1.csv',\n",
       " '/home/jian/Projects/Big_Lots/Live_Ramp/Quarterly_Update_2019Q1/crm_newscore_20190107/by_group_quadrant_24/T_Quadrant III_P_L_2019Q1.csv',\n",
       " '/home/jian/Projects/Big_Lots/Live_Ramp/Quarterly_Update_2019Q1/crm_newscore_20190107/by_group_quadrant_24/T_Quadrant III_P_M_2019Q1.csv',\n",
       " '/home/jian/Projects/Big_Lots/Live_Ramp/Quarterly_Update_2019Q1/crm_newscore_20190107/by_group_quadrant_24/T_Quadrant III_S_H_2019Q1.csv',\n",
       " '/home/jian/Projects/Big_Lots/Live_Ramp/Quarterly_Update_2019Q1/crm_newscore_20190107/by_group_quadrant_24/T_Quadrant III_S_L_2019Q1.csv',\n",
       " '/home/jian/Projects/Big_Lots/Live_Ramp/Quarterly_Update_2019Q1/crm_newscore_20190107/by_group_quadrant_24/T_Quadrant III_S_M_2019Q1.csv',\n",
       " '/home/jian/Projects/Big_Lots/Live_Ramp/Quarterly_Update_2019Q1/crm_newscore_20190107/by_group_quadrant_24/T_Quadrant III_T_H_2019Q1.csv',\n",
       " '/home/jian/Projects/Big_Lots/Live_Ramp/Quarterly_Update_2019Q1/crm_newscore_20190107/by_group_quadrant_24/T_Quadrant III_T_L_2019Q1.csv',\n",
       " '/home/jian/Projects/Big_Lots/Live_Ramp/Quarterly_Update_2019Q1/crm_newscore_20190107/by_group_quadrant_24/T_Quadrant III_T_M_2019Q1.csv',\n",
       " '/home/jian/Projects/Big_Lots/Live_Ramp/Quarterly_Update_2019Q1/crm_newscore_20190107/by_group_quadrant_24/T_Quadrant II_P_H_2019Q1.csv',\n",
       " '/home/jian/Projects/Big_Lots/Live_Ramp/Quarterly_Update_2019Q1/crm_newscore_20190107/by_group_quadrant_24/T_Quadrant II_P_L_2019Q1.csv',\n",
       " '/home/jian/Projects/Big_Lots/Live_Ramp/Quarterly_Update_2019Q1/crm_newscore_20190107/by_group_quadrant_24/T_Quadrant II_P_M_2019Q1.csv',\n",
       " '/home/jian/Projects/Big_Lots/Live_Ramp/Quarterly_Update_2019Q1/crm_newscore_20190107/by_group_quadrant_24/T_Quadrant II_S_H_2019Q1.csv',\n",
       " '/home/jian/Projects/Big_Lots/Live_Ramp/Quarterly_Update_2019Q1/crm_newscore_20190107/by_group_quadrant_24/T_Quadrant II_S_L_2019Q1.csv',\n",
       " '/home/jian/Projects/Big_Lots/Live_Ramp/Quarterly_Update_2019Q1/crm_newscore_20190107/by_group_quadrant_24/T_Quadrant II_S_M_2019Q1.csv',\n",
       " '/home/jian/Projects/Big_Lots/Live_Ramp/Quarterly_Update_2019Q1/crm_newscore_20190107/by_group_quadrant_24/T_Quadrant II_T_H_2019Q1.csv',\n",
       " '/home/jian/Projects/Big_Lots/Live_Ramp/Quarterly_Update_2019Q1/crm_newscore_20190107/by_group_quadrant_24/T_Quadrant II_T_L_2019Q1.csv',\n",
       " '/home/jian/Projects/Big_Lots/Live_Ramp/Quarterly_Update_2019Q1/crm_newscore_20190107/by_group_quadrant_24/T_Quadrant II_T_M_2019Q1.csv',\n",
       " '/home/jian/Projects/Big_Lots/Live_Ramp/Quarterly_Update_2019Q1/crm_newscore_20190107/by_group_quadrant_24/T_Quadrant IV_P_H_2019Q1.csv',\n",
       " '/home/jian/Projects/Big_Lots/Live_Ramp/Quarterly_Update_2019Q1/crm_newscore_20190107/by_group_quadrant_24/T_Quadrant IV_P_L_2019Q1.csv',\n",
       " '/home/jian/Projects/Big_Lots/Live_Ramp/Quarterly_Update_2019Q1/crm_newscore_20190107/by_group_quadrant_24/T_Quadrant IV_P_M_2019Q1.csv',\n",
       " '/home/jian/Projects/Big_Lots/Live_Ramp/Quarterly_Update_2019Q1/crm_newscore_20190107/by_group_quadrant_24/T_Quadrant IV_S_H_2019Q1.csv',\n",
       " '/home/jian/Projects/Big_Lots/Live_Ramp/Quarterly_Update_2019Q1/crm_newscore_20190107/by_group_quadrant_24/T_Quadrant IV_S_L_2019Q1.csv',\n",
       " '/home/jian/Projects/Big_Lots/Live_Ramp/Quarterly_Update_2019Q1/crm_newscore_20190107/by_group_quadrant_24/T_Quadrant IV_S_M_2019Q1.csv',\n",
       " '/home/jian/Projects/Big_Lots/Live_Ramp/Quarterly_Update_2019Q1/crm_newscore_20190107/by_group_quadrant_24/T_Quadrant IV_T_H_2019Q1.csv',\n",
       " '/home/jian/Projects/Big_Lots/Live_Ramp/Quarterly_Update_2019Q1/crm_newscore_20190107/by_group_quadrant_24/T_Quadrant IV_T_L_2019Q1.csv',\n",
       " '/home/jian/Projects/Big_Lots/Live_Ramp/Quarterly_Update_2019Q1/crm_newscore_20190107/by_group_quadrant_24/T_Quadrant IV_T_M_2019Q1.csv',\n",
       " '/home/jian/Projects/Big_Lots/Live_Ramp/Quarterly_Update_2019Q1/crm_newscore_20190107/by_group_quadrant_24/T_Quadrant I_P_H_2019Q1.csv',\n",
       " '/home/jian/Projects/Big_Lots/Live_Ramp/Quarterly_Update_2019Q1/crm_newscore_20190107/by_group_quadrant_24/T_Quadrant I_P_M_2019Q1.csv',\n",
       " '/home/jian/Projects/Big_Lots/Live_Ramp/Quarterly_Update_2019Q1/crm_newscore_20190107/by_group_quadrant_24/T_Quadrant I_S_M_2019Q1.csv',\n",
       " '/home/jian/Projects/Big_Lots/Live_Ramp/Quarterly_Update_2019Q1/crm_newscore_20190107/by_group_quadrant_24/T_Quadrant I_T_L_2019Q1.csv',\n",
       " '/home/jian/Projects/Big_Lots/Live_Ramp/Quarterly_Update_2019Q1/crm_newscore_20190107/by_group_quadrant_24/C_Quadrant III_P_L_2019Q1.csv',\n",
       " '/home/jian/Projects/Big_Lots/Live_Ramp/Quarterly_Update_2019Q1/crm_newscore_20190107/by_group_quadrant_24/C_Quadrant III_S_H_2019Q1.csv',\n",
       " '/home/jian/Projects/Big_Lots/Live_Ramp/Quarterly_Update_2019Q1/crm_newscore_20190107/by_group_quadrant_24/C_Quadrant III_S_M_2019Q1.csv',\n",
       " '/home/jian/Projects/Big_Lots/Live_Ramp/Quarterly_Update_2019Q1/crm_newscore_20190107/by_group_quadrant_24/C_Quadrant III_T_M_2019Q1.csv',\n",
       " '/home/jian/Projects/Big_Lots/Live_Ramp/Quarterly_Update_2019Q1/crm_newscore_20190107/by_group_quadrant_24/C_Quadrant II_P_L_2019Q1.csv',\n",
       " '/home/jian/Projects/Big_Lots/Live_Ramp/Quarterly_Update_2019Q1/crm_newscore_20190107/by_group_quadrant_24/C_Quadrant II_S_L_2019Q1.csv',\n",
       " '/home/jian/Projects/Big_Lots/Live_Ramp/Quarterly_Update_2019Q1/crm_newscore_20190107/by_group_quadrant_24/C_Quadrant II_T_H_2019Q1.csv',\n",
       " '/home/jian/Projects/Big_Lots/Live_Ramp/Quarterly_Update_2019Q1/crm_newscore_20190107/by_group_quadrant_24/C_Quadrant IV_P_H_2019Q1.csv',\n",
       " '/home/jian/Projects/Big_Lots/Live_Ramp/Quarterly_Update_2019Q1/crm_newscore_20190107/by_group_quadrant_24/C_Quadrant IV_P_M_2019Q1.csv',\n",
       " '/home/jian/Projects/Big_Lots/Live_Ramp/Quarterly_Update_2019Q1/crm_newscore_20190107/by_group_quadrant_24/C_Quadrant IV_S_M_2019Q1.csv',\n",
       " '/home/jian/Projects/Big_Lots/Live_Ramp/Quarterly_Update_2019Q1/crm_newscore_20190107/by_group_quadrant_24/C_Quadrant IV_T_L_2019Q1.csv',\n",
       " '/home/jian/Projects/Big_Lots/Live_Ramp/Quarterly_Update_2019Q1/crm_newscore_20190107/by_group_quadrant_24/C_Quadrant I_P_L_2019Q1.csv',\n",
       " '/home/jian/Projects/Big_Lots/Live_Ramp/Quarterly_Update_2019Q1/crm_newscore_20190107/by_group_quadrant_24/C_Quadrant I_S_H_2019Q1.csv',\n",
       " '/home/jian/Projects/Big_Lots/Live_Ramp/Quarterly_Update_2019Q1/crm_newscore_20190107/by_group_quadrant_24/C_Quadrant I_T_H_2019Q1.csv',\n",
       " '/home/jian/Projects/Big_Lots/Live_Ramp/Quarterly_Update_2019Q1/crm_newscore_20190107/by_group_quadrant_24/C_Quadrant I_T_M_2019Q1.csv']"
      ]
     },
     "execution_count": 7,
     "metadata": {},
     "output_type": "execute_result"
    }
   ],
   "source": [
    "previous_id_files_lists"
   ]
  },
  {
   "cell_type": "code",
   "execution_count": 8,
   "metadata": {
    "collapsed": true
   },
   "outputs": [],
   "source": [
    "import glob\n",
    "uploaded_new_seg=list(recursive_file_gen(\"/home/jian/celery/Append_to_celery_LiveRamp/monthly_update/\"))\n",
    "uploaded_new_seg=[x for x in uploaded_new_seg if \".csv\" in x]\n",
    "\n",
    "previous_id_files_lists=previous_id_files_lists+uploaded_new_seg"
   ]
  },
  {
   "cell_type": "code",
   "execution_count": 9,
   "metadata": {},
   "outputs": [
    {
     "name": "stdout",
     "output_type": "stream",
     "text": [
      "2019-09-11 10:39:36.049601 480686 /home/jian/Projects/Big_Lots/Live_Ramp/Quarterly_Update_2019Q1/crm_newscore_20190107/by_group_quadrant_24/T_Quadrant I_P_L_2019Q1.csv\n",
      "2019-09-11 10:39:42.716939 480678 /home/jian/Projects/Big_Lots/Live_Ramp/Quarterly_Update_2019Q1/crm_newscore_20190107/by_group_quadrant_24/T_Quadrant I_S_H_2019Q1.csv\n",
      "2019-09-11 10:39:43.497678 480678 /home/jian/Projects/Big_Lots/Live_Ramp/Quarterly_Update_2019Q1/crm_newscore_20190107/by_group_quadrant_24/T_Quadrant I_S_L_2019Q1.csv\n",
      "2019-09-11 10:39:44.361158 480675 /home/jian/Projects/Big_Lots/Live_Ramp/Quarterly_Update_2019Q1/crm_newscore_20190107/by_group_quadrant_24/T_Quadrant I_T_H_2019Q1.csv\n",
      "2019-09-11 10:39:45.063481 480674 /home/jian/Projects/Big_Lots/Live_Ramp/Quarterly_Update_2019Q1/crm_newscore_20190107/by_group_quadrant_24/T_Quadrant I_T_M_2019Q1.csv\n",
      "2019-09-11 10:39:45.278583 480674 /home/jian/Projects/Big_Lots/Live_Ramp/Quarterly_Update_2019Q1/crm_newscore_20190107/by_group_quadrant_24/C_Quadrant III_P_H_2019Q1.csv\n",
      "2019-09-11 10:39:45.501277 480674 /home/jian/Projects/Big_Lots/Live_Ramp/Quarterly_Update_2019Q1/crm_newscore_20190107/by_group_quadrant_24/C_Quadrant III_P_M_2019Q1.csv\n",
      "2019-09-11 10:39:45.633670 480674 /home/jian/Projects/Big_Lots/Live_Ramp/Quarterly_Update_2019Q1/crm_newscore_20190107/by_group_quadrant_24/C_Quadrant III_S_L_2019Q1.csv\n",
      "2019-09-11 10:39:45.737524 480674 /home/jian/Projects/Big_Lots/Live_Ramp/Quarterly_Update_2019Q1/crm_newscore_20190107/by_group_quadrant_24/C_Quadrant III_T_H_2019Q1.csv\n",
      "2019-09-11 10:39:45.850067 480674 /home/jian/Projects/Big_Lots/Live_Ramp/Quarterly_Update_2019Q1/crm_newscore_20190107/by_group_quadrant_24/C_Quadrant III_T_L_2019Q1.csv\n",
      "2019-09-11 10:39:45.994012 480674 /home/jian/Projects/Big_Lots/Live_Ramp/Quarterly_Update_2019Q1/crm_newscore_20190107/by_group_quadrant_24/C_Quadrant II_P_H_2019Q1.csv\n",
      "2019-09-11 10:39:46.177211 480674 /home/jian/Projects/Big_Lots/Live_Ramp/Quarterly_Update_2019Q1/crm_newscore_20190107/by_group_quadrant_24/C_Quadrant II_P_M_2019Q1.csv\n",
      "2019-09-11 10:39:46.283833 480674 /home/jian/Projects/Big_Lots/Live_Ramp/Quarterly_Update_2019Q1/crm_newscore_20190107/by_group_quadrant_24/C_Quadrant II_S_H_2019Q1.csv\n",
      "2019-09-11 10:39:46.374127 480674 /home/jian/Projects/Big_Lots/Live_Ramp/Quarterly_Update_2019Q1/crm_newscore_20190107/by_group_quadrant_24/C_Quadrant II_S_M_2019Q1.csv\n",
      "2019-09-11 10:39:46.489863 480674 /home/jian/Projects/Big_Lots/Live_Ramp/Quarterly_Update_2019Q1/crm_newscore_20190107/by_group_quadrant_24/C_Quadrant II_T_L_2019Q1.csv\n",
      "2019-09-11 10:39:46.604362 480674 /home/jian/Projects/Big_Lots/Live_Ramp/Quarterly_Update_2019Q1/crm_newscore_20190107/by_group_quadrant_24/C_Quadrant II_T_M_2019Q1.csv\n",
      "2019-09-11 10:39:46.799424 480674 /home/jian/Projects/Big_Lots/Live_Ramp/Quarterly_Update_2019Q1/crm_newscore_20190107/by_group_quadrant_24/C_Quadrant IV_P_L_2019Q1.csv\n",
      "2019-09-11 10:39:46.973650 480674 /home/jian/Projects/Big_Lots/Live_Ramp/Quarterly_Update_2019Q1/crm_newscore_20190107/by_group_quadrant_24/C_Quadrant IV_S_H_2019Q1.csv\n",
      "2019-09-11 10:39:47.061124 480674 /home/jian/Projects/Big_Lots/Live_Ramp/Quarterly_Update_2019Q1/crm_newscore_20190107/by_group_quadrant_24/C_Quadrant IV_S_L_2019Q1.csv\n",
      "2019-09-11 10:39:47.199114 480674 /home/jian/Projects/Big_Lots/Live_Ramp/Quarterly_Update_2019Q1/crm_newscore_20190107/by_group_quadrant_24/C_Quadrant IV_T_H_2019Q1.csv\n",
      "2019-09-11 10:39:47.287397 480674 /home/jian/Projects/Big_Lots/Live_Ramp/Quarterly_Update_2019Q1/crm_newscore_20190107/by_group_quadrant_24/C_Quadrant IV_T_M_2019Q1.csv\n",
      "2019-09-11 10:39:47.654295 480674 /home/jian/Projects/Big_Lots/Live_Ramp/Quarterly_Update_2019Q1/crm_newscore_20190107/by_group_quadrant_24/C_Quadrant I_P_H_2019Q1.csv\n",
      "2019-09-11 10:39:47.925246 480674 /home/jian/Projects/Big_Lots/Live_Ramp/Quarterly_Update_2019Q1/crm_newscore_20190107/by_group_quadrant_24/C_Quadrant I_P_M_2019Q1.csv\n",
      "2019-09-11 10:39:48.086367 480674 /home/jian/Projects/Big_Lots/Live_Ramp/Quarterly_Update_2019Q1/crm_newscore_20190107/by_group_quadrant_24/C_Quadrant I_S_L_2019Q1.csv\n",
      "2019-09-11 10:39:48.239028 480674 /home/jian/Projects/Big_Lots/Live_Ramp/Quarterly_Update_2019Q1/crm_newscore_20190107/by_group_quadrant_24/C_Quadrant I_S_M_2019Q1.csv\n",
      "2019-09-11 10:39:48.347882 480674 /home/jian/Projects/Big_Lots/Live_Ramp/Quarterly_Update_2019Q1/crm_newscore_20190107/by_group_quadrant_24/C_Quadrant I_T_L_2019Q1.csv\n",
      "2019-09-11 10:39:57.159102 480664 /home/jian/Projects/Big_Lots/Live_Ramp/Quarterly_Update_2019Q1/crm_newscore_20190107/by_group_quadrant_24/T_Quadrant III_P_H_2019Q1.csv\n",
      "2019-09-11 10:40:02.810113 480662 /home/jian/Projects/Big_Lots/Live_Ramp/Quarterly_Update_2019Q1/crm_newscore_20190107/by_group_quadrant_24/T_Quadrant III_P_L_2019Q1.csv\n",
      "2019-09-11 10:40:10.461022 480657 /home/jian/Projects/Big_Lots/Live_Ramp/Quarterly_Update_2019Q1/crm_newscore_20190107/by_group_quadrant_24/T_Quadrant III_P_M_2019Q1.csv\n",
      "2019-09-11 10:40:12.191909 480655 /home/jian/Projects/Big_Lots/Live_Ramp/Quarterly_Update_2019Q1/crm_newscore_20190107/by_group_quadrant_24/T_Quadrant III_S_H_2019Q1.csv\n",
      "2019-09-11 10:40:12.674688 480652 /home/jian/Projects/Big_Lots/Live_Ramp/Quarterly_Update_2019Q1/crm_newscore_20190107/by_group_quadrant_24/T_Quadrant III_S_L_2019Q1.csv\n",
      "2019-09-11 10:40:13.514114 480650 /home/jian/Projects/Big_Lots/Live_Ramp/Quarterly_Update_2019Q1/crm_newscore_20190107/by_group_quadrant_24/T_Quadrant III_S_M_2019Q1.csv\n",
      "2019-09-11 10:40:14.009918 480649 /home/jian/Projects/Big_Lots/Live_Ramp/Quarterly_Update_2019Q1/crm_newscore_20190107/by_group_quadrant_24/T_Quadrant III_T_H_2019Q1.csv\n",
      "2019-09-11 10:40:14.540880 480648 /home/jian/Projects/Big_Lots/Live_Ramp/Quarterly_Update_2019Q1/crm_newscore_20190107/by_group_quadrant_24/T_Quadrant III_T_L_2019Q1.csv\n",
      "2019-09-11 10:40:15.074868 480646 /home/jian/Projects/Big_Lots/Live_Ramp/Quarterly_Update_2019Q1/crm_newscore_20190107/by_group_quadrant_24/T_Quadrant III_T_M_2019Q1.csv\n",
      "2019-09-11 10:40:24.384914 480639 /home/jian/Projects/Big_Lots/Live_Ramp/Quarterly_Update_2019Q1/crm_newscore_20190107/by_group_quadrant_24/T_Quadrant II_P_H_2019Q1.csv\n",
      "2019-09-11 10:40:25.984140 480636 /home/jian/Projects/Big_Lots/Live_Ramp/Quarterly_Update_2019Q1/crm_newscore_20190107/by_group_quadrant_24/T_Quadrant II_P_L_2019Q1.csv\n",
      "2019-09-11 10:40:30.131132 480632 /home/jian/Projects/Big_Lots/Live_Ramp/Quarterly_Update_2019Q1/crm_newscore_20190107/by_group_quadrant_24/T_Quadrant II_P_M_2019Q1.csv\n",
      "2019-09-11 10:40:31.314036 480631 /home/jian/Projects/Big_Lots/Live_Ramp/Quarterly_Update_2019Q1/crm_newscore_20190107/by_group_quadrant_24/T_Quadrant II_S_H_2019Q1.csv\n",
      "2019-09-11 10:40:31.617414 480631 /home/jian/Projects/Big_Lots/Live_Ramp/Quarterly_Update_2019Q1/crm_newscore_20190107/by_group_quadrant_24/T_Quadrant II_S_L_2019Q1.csv\n",
      "2019-09-11 10:40:32.104242 480628 /home/jian/Projects/Big_Lots/Live_Ramp/Quarterly_Update_2019Q1/crm_newscore_20190107/by_group_quadrant_24/T_Quadrant II_S_M_2019Q1.csv\n",
      "2019-09-11 10:40:32.442525 480627 /home/jian/Projects/Big_Lots/Live_Ramp/Quarterly_Update_2019Q1/crm_newscore_20190107/by_group_quadrant_24/T_Quadrant II_T_H_2019Q1.csv\n",
      "2019-09-11 10:40:32.622062 480627 /home/jian/Projects/Big_Lots/Live_Ramp/Quarterly_Update_2019Q1/crm_newscore_20190107/by_group_quadrant_24/T_Quadrant II_T_L_2019Q1.csv\n",
      "2019-09-11 10:40:32.927625 480626 /home/jian/Projects/Big_Lots/Live_Ramp/Quarterly_Update_2019Q1/crm_newscore_20190107/by_group_quadrant_24/T_Quadrant II_T_M_2019Q1.csv\n",
      "2019-09-11 10:40:49.165853 480618 /home/jian/Projects/Big_Lots/Live_Ramp/Quarterly_Update_2019Q1/crm_newscore_20190107/by_group_quadrant_24/T_Quadrant IV_P_H_2019Q1.csv\n",
      "2019-09-11 10:40:51.363712 480617 /home/jian/Projects/Big_Lots/Live_Ramp/Quarterly_Update_2019Q1/crm_newscore_20190107/by_group_quadrant_24/T_Quadrant IV_P_L_2019Q1.csv\n",
      "2019-09-11 10:40:56.348103 480610 /home/jian/Projects/Big_Lots/Live_Ramp/Quarterly_Update_2019Q1/crm_newscore_20190107/by_group_quadrant_24/T_Quadrant IV_P_M_2019Q1.csv\n",
      "2019-09-11 10:40:59.164671 480605 /home/jian/Projects/Big_Lots/Live_Ramp/Quarterly_Update_2019Q1/crm_newscore_20190107/by_group_quadrant_24/T_Quadrant IV_S_H_2019Q1.csv\n",
      "2019-09-11 10:40:59.666499 480605 /home/jian/Projects/Big_Lots/Live_Ramp/Quarterly_Update_2019Q1/crm_newscore_20190107/by_group_quadrant_24/T_Quadrant IV_S_L_2019Q1.csv\n"
     ]
    },
    {
     "name": "stdout",
     "output_type": "stream",
     "text": [
      "2019-09-11 10:41:00.618689 480604 /home/jian/Projects/Big_Lots/Live_Ramp/Quarterly_Update_2019Q1/crm_newscore_20190107/by_group_quadrant_24/T_Quadrant IV_S_M_2019Q1.csv\n",
      "2019-09-11 10:41:01.231858 480603 /home/jian/Projects/Big_Lots/Live_Ramp/Quarterly_Update_2019Q1/crm_newscore_20190107/by_group_quadrant_24/T_Quadrant IV_T_H_2019Q1.csv\n",
      "2019-09-11 10:41:01.490182 480602 /home/jian/Projects/Big_Lots/Live_Ramp/Quarterly_Update_2019Q1/crm_newscore_20190107/by_group_quadrant_24/T_Quadrant IV_T_L_2019Q1.csv\n",
      "2019-09-11 10:41:01.951066 480599 /home/jian/Projects/Big_Lots/Live_Ramp/Quarterly_Update_2019Q1/crm_newscore_20190107/by_group_quadrant_24/T_Quadrant IV_T_M_2019Q1.csv\n",
      "2019-09-11 10:41:20.469329 480581 /home/jian/Projects/Big_Lots/Live_Ramp/Quarterly_Update_2019Q1/crm_newscore_20190107/by_group_quadrant_24/T_Quadrant I_P_H_2019Q1.csv\n",
      "2019-09-11 10:41:28.297125 480568 /home/jian/Projects/Big_Lots/Live_Ramp/Quarterly_Update_2019Q1/crm_newscore_20190107/by_group_quadrant_24/T_Quadrant I_P_M_2019Q1.csv\n",
      "2019-09-11 10:41:29.984746 480568 /home/jian/Projects/Big_Lots/Live_Ramp/Quarterly_Update_2019Q1/crm_newscore_20190107/by_group_quadrant_24/T_Quadrant I_S_M_2019Q1.csv\n",
      "2019-09-11 10:41:30.388549 480567 /home/jian/Projects/Big_Lots/Live_Ramp/Quarterly_Update_2019Q1/crm_newscore_20190107/by_group_quadrant_24/T_Quadrant I_T_L_2019Q1.csv\n",
      "2019-09-11 10:41:30.533272 480567 /home/jian/Projects/Big_Lots/Live_Ramp/Quarterly_Update_2019Q1/crm_newscore_20190107/by_group_quadrant_24/C_Quadrant III_P_L_2019Q1.csv\n",
      "2019-09-11 10:41:30.644885 480567 /home/jian/Projects/Big_Lots/Live_Ramp/Quarterly_Update_2019Q1/crm_newscore_20190107/by_group_quadrant_24/C_Quadrant III_S_H_2019Q1.csv\n",
      "2019-09-11 10:41:30.738588 480567 /home/jian/Projects/Big_Lots/Live_Ramp/Quarterly_Update_2019Q1/crm_newscore_20190107/by_group_quadrant_24/C_Quadrant III_S_M_2019Q1.csv\n",
      "2019-09-11 10:41:30.845730 480566 /home/jian/Projects/Big_Lots/Live_Ramp/Quarterly_Update_2019Q1/crm_newscore_20190107/by_group_quadrant_24/C_Quadrant III_T_M_2019Q1.csv\n",
      "2019-09-11 10:41:30.954171 480566 /home/jian/Projects/Big_Lots/Live_Ramp/Quarterly_Update_2019Q1/crm_newscore_20190107/by_group_quadrant_24/C_Quadrant II_P_L_2019Q1.csv\n",
      "2019-09-11 10:41:31.032037 480566 /home/jian/Projects/Big_Lots/Live_Ramp/Quarterly_Update_2019Q1/crm_newscore_20190107/by_group_quadrant_24/C_Quadrant II_S_L_2019Q1.csv\n",
      "2019-09-11 10:41:31.123643 480566 /home/jian/Projects/Big_Lots/Live_Ramp/Quarterly_Update_2019Q1/crm_newscore_20190107/by_group_quadrant_24/C_Quadrant II_T_H_2019Q1.csv\n",
      "2019-09-11 10:41:31.364844 480565 /home/jian/Projects/Big_Lots/Live_Ramp/Quarterly_Update_2019Q1/crm_newscore_20190107/by_group_quadrant_24/C_Quadrant IV_P_H_2019Q1.csv\n",
      "2019-09-11 10:41:31.543629 480564 /home/jian/Projects/Big_Lots/Live_Ramp/Quarterly_Update_2019Q1/crm_newscore_20190107/by_group_quadrant_24/C_Quadrant IV_P_M_2019Q1.csv\n",
      "2019-09-11 10:41:31.665597 480564 /home/jian/Projects/Big_Lots/Live_Ramp/Quarterly_Update_2019Q1/crm_newscore_20190107/by_group_quadrant_24/C_Quadrant IV_S_M_2019Q1.csv\n",
      "2019-09-11 10:41:31.753039 480564 /home/jian/Projects/Big_Lots/Live_Ramp/Quarterly_Update_2019Q1/crm_newscore_20190107/by_group_quadrant_24/C_Quadrant IV_T_L_2019Q1.csv\n",
      "2019-09-11 10:41:31.914865 480564 /home/jian/Projects/Big_Lots/Live_Ramp/Quarterly_Update_2019Q1/crm_newscore_20190107/by_group_quadrant_24/C_Quadrant I_P_L_2019Q1.csv\n",
      "2019-09-11 10:41:32.035620 480563 /home/jian/Projects/Big_Lots/Live_Ramp/Quarterly_Update_2019Q1/crm_newscore_20190107/by_group_quadrant_24/C_Quadrant I_S_H_2019Q1.csv\n",
      "2019-09-11 10:41:32.132567 480563 /home/jian/Projects/Big_Lots/Live_Ramp/Quarterly_Update_2019Q1/crm_newscore_20190107/by_group_quadrant_24/C_Quadrant I_T_H_2019Q1.csv\n",
      "2019-09-11 10:41:32.264707 480563 /home/jian/Projects/Big_Lots/Live_Ramp/Quarterly_Update_2019Q1/crm_newscore_20190107/by_group_quadrant_24/C_Quadrant I_T_M_2019Q1.csv\n",
      "2019-09-11 10:41:33.196239 480563 /home/jian/celery/Append_to_celery_LiveRamp/monthly_update/output_2018-12-29/NewReward_2018-12-29_P.csv\n",
      "2019-09-11 10:41:33.556449 480563 /home/jian/celery/Append_to_celery_LiveRamp/monthly_update/output_2018-12-29/NewReward_2018-12-29_S.csv\n",
      "2019-09-11 10:41:33.835464 480563 /home/jian/celery/Append_to_celery_LiveRamp/monthly_update/output_2018-12-29/NewReward_2018-12-29_T.csv\n",
      "2019-09-11 10:41:34.595605 480563 /home/jian/celery/Append_to_celery_LiveRamp/monthly_update/output_2019-01-26/NewReward_2019-01-26_P.csv\n",
      "2019-09-11 10:41:34.842675 480563 /home/jian/celery/Append_to_celery_LiveRamp/monthly_update/output_2019-01-26/NewReward_2019-01-26_S.csv\n",
      "2019-09-11 10:41:35.032681 480563 /home/jian/celery/Append_to_celery_LiveRamp/monthly_update/output_2019-01-26/NewReward_2019-01-26_T.csv\n",
      "2019-09-11 10:41:35.722027 480562 /home/jian/celery/Append_to_celery_LiveRamp/monthly_update/output_2019-02-23/NewReward_2019-02-23_P.csv\n",
      "2019-09-11 10:41:35.965402 480562 /home/jian/celery/Append_to_celery_LiveRamp/monthly_update/output_2019-02-23/NewReward_2019-02-23_S.csv\n",
      "2019-09-11 10:41:36.133047 480562 /home/jian/celery/Append_to_celery_LiveRamp/monthly_update/output_2019-02-23/NewReward_2019-02-23_T.csv\n",
      "2019-09-11 10:41:36.899499 480562 /home/jian/celery/Append_to_celery_LiveRamp/monthly_update/output_2019-03-23/NewReward_2019-03-23_P.csv\n",
      "2019-09-11 10:41:37.166172 480562 /home/jian/celery/Append_to_celery_LiveRamp/monthly_update/output_2019-03-23/NewReward_2019-03-23_S.csv\n",
      "2019-09-11 10:41:37.367395 480562 /home/jian/celery/Append_to_celery_LiveRamp/monthly_update/output_2019-03-23/NewReward_2019-03-23_T.csv\n",
      "2019-09-11 10:41:37.858132 480562 /home/jian/celery/Append_to_celery_LiveRamp/monthly_update/output_2019-04-06/NewReward_2019-04-06_P.csv\n",
      "2019-09-11 10:41:38.052365 480562 /home/jian/celery/Append_to_celery_LiveRamp/monthly_update/output_2019-04-06/NewReward_2019-04-06_S.csv\n",
      "2019-09-11 10:41:38.194846 480562 /home/jian/celery/Append_to_celery_LiveRamp/monthly_update/output_2019-04-06/NewReward_2019-04-06_T.csv\n",
      "2019-09-11 10:41:38.644864 480562 /home/jian/celery/Append_to_celery_LiveRamp/monthly_update/output_2019-04-20/NewReward_2019-04-20_P.csv\n",
      "2019-09-11 10:41:38.784105 480562 /home/jian/celery/Append_to_celery_LiveRamp/monthly_update/output_2019-04-20/NewReward_2019-04-20_S.csv\n",
      "2019-09-11 10:41:38.897850 480562 /home/jian/celery/Append_to_celery_LiveRamp/monthly_update/output_2019-04-20/NewReward_2019-04-20_T.csv\n",
      "2019-09-11 10:41:39.284022 480562 /home/jian/celery/Append_to_celery_LiveRamp/monthly_update/output_2019-05-04/NewReward_2019-05-04_P.csv\n",
      "2019-09-11 10:41:39.453224 480562 /home/jian/celery/Append_to_celery_LiveRamp/monthly_update/output_2019-05-04/NewReward_2019-05-04_S.csv\n",
      "2019-09-11 10:41:39.577009 480562 /home/jian/celery/Append_to_celery_LiveRamp/monthly_update/output_2019-05-04/NewReward_2019-05-04_T.csv\n",
      "2019-09-11 10:41:39.956116 480562 /home/jian/celery/Append_to_celery_LiveRamp/monthly_update/output_2019-05-18/NewReward_2019-05-18_P.csv\n",
      "2019-09-11 10:41:40.130486 480562 /home/jian/celery/Append_to_celery_LiveRamp/monthly_update/output_2019-05-18/NewReward_2019-05-18_S.csv\n",
      "2019-09-11 10:41:40.255135 480562 /home/jian/celery/Append_to_celery_LiveRamp/monthly_update/output_2019-05-18/NewReward_2019-05-18_T.csv\n",
      "2019-09-11 10:41:40.696415 480562 /home/jian/celery/Append_to_celery_LiveRamp/monthly_update/output_2019-06-01/NewReward_2019-06-01_P.csv\n",
      "2019-09-11 10:41:40.874900 480562 /home/jian/celery/Append_to_celery_LiveRamp/monthly_update/output_2019-06-01/NewReward_2019-06-01_S.csv\n",
      "2019-09-11 10:41:41.009432 480562 /home/jian/celery/Append_to_celery_LiveRamp/monthly_update/output_2019-06-01/NewReward_2019-06-01_T.csv\n",
      "2019-09-11 10:41:41.471721 480561 /home/jian/celery/Append_to_celery_LiveRamp/monthly_update/output_2019-06-15/NewReward_2019-06-15_P.csv\n",
      "2019-09-11 10:41:41.641891 480561 /home/jian/celery/Append_to_celery_LiveRamp/monthly_update/output_2019-06-15/NewReward_2019-06-15_S.csv\n",
      "2019-09-11 10:41:41.925221 480561 /home/jian/celery/Append_to_celery_LiveRamp/monthly_update/output_2019-06-15/NewReward_2019-06-15_T.csv\n",
      "2019-09-11 10:41:42.359111 480561 /home/jian/celery/Append_to_celery_LiveRamp/monthly_update/output_2019-06-29/NewReward_2019-06-29_P.csv\n",
      "2019-09-11 10:41:42.530130 480561 /home/jian/celery/Append_to_celery_LiveRamp/monthly_update/output_2019-06-29/NewReward_2019-06-29_S.csv\n"
     ]
    },
    {
     "name": "stdout",
     "output_type": "stream",
     "text": [
      "2019-09-11 10:41:42.826877 480561 /home/jian/celery/Append_to_celery_LiveRamp/monthly_update/output_2019-06-29/NewReward_2019-06-29_T.csv\n",
      "2019-09-11 10:41:43.420439 480561 /home/jian/celery/Append_to_celery_LiveRamp/monthly_update/output_2019-07-13/NewReward_2019-07-13_P.csv\n",
      "2019-09-11 10:41:43.669665 480561 /home/jian/celery/Append_to_celery_LiveRamp/monthly_update/output_2019-07-13/NewReward_2019-07-13_S.csv\n",
      "2019-09-11 10:41:44.044805 480561 /home/jian/celery/Append_to_celery_LiveRamp/monthly_update/output_2019-07-13/NewReward_2019-07-13_T.csv\n",
      "2019-09-11 10:41:44.447932 480561 /home/jian/celery/Append_to_celery_LiveRamp/monthly_update/output_2019-07-27/NewReward_2019-07-27_P.csv\n",
      "2019-09-11 10:41:44.708879 480561 /home/jian/celery/Append_to_celery_LiveRamp/monthly_update/output_2019-07-27/NewReward_2019-07-27_S.csv\n",
      "2019-09-11 10:41:45.078509 480559 /home/jian/celery/Append_to_celery_LiveRamp/monthly_update/output_2019-07-27/NewReward_2019-07-27_T.csv\n",
      "2019-09-11 10:41:45.468545 480559 /home/jian/celery/Append_to_celery_LiveRamp/monthly_update/output_2019-08-10/NewReward_2019-08-10_P.csv\n",
      "2019-09-11 10:41:45.689600 480559 /home/jian/celery/Append_to_celery_LiveRamp/monthly_update/output_2019-08-10/NewReward_2019-08-10_S.csv\n",
      "2019-09-11 10:41:46.046368 480559 /home/jian/celery/Append_to_celery_LiveRamp/monthly_update/output_2019-08-10/NewReward_2019-08-10_T.csv\n"
     ]
    }
   ],
   "source": [
    "for file_uploaded in previous_id_files_lists:\n",
    "    df = pd.read_csv(file_uploaded,usecols = ['email_address_hash'])\n",
    "    previous_email_set=set(df['email_address_hash'].tolist())\n",
    "    df_all_new_master = df_all_new_master[~df_all_new_master['email_address_hash'].isin(previous_email_set)]\n",
    "    print(datetime.datetime.now(),len(df_all_new_master.index),file_uploaded)"
   ]
  },
  {
   "cell_type": "code",
   "execution_count": 10,
   "metadata": {},
   "outputs": [
    {
     "name": "stdout",
     "output_type": "stream",
     "text": [
      "480559\n"
     ]
    }
   ],
   "source": [
    "df_all_new_master = df_all_new_master.drop_duplicates('email_address_hash')\n",
    "df_all_new_master = df_all_new_master.drop_duplicates('customer_id_hashed')\n",
    "print(len(df_all_new_master.index))"
   ]
  },
  {
   "cell_type": "code",
   "execution_count": 11,
   "metadata": {},
   "outputs": [
    {
     "name": "stdout",
     "output_type": "stream",
     "text": [
      "(12980, 3)\n",
      "12980\n"
     ]
    },
    {
     "data": {
      "text/html": [
       "<div>\n",
       "<style>\n",
       "    .dataframe thead tr:only-child th {\n",
       "        text-align: right;\n",
       "    }\n",
       "\n",
       "    .dataframe thead th {\n",
       "        text-align: left;\n",
       "    }\n",
       "\n",
       "    .dataframe tbody tr th {\n",
       "        vertical-align: top;\n",
       "    }\n",
       "</style>\n",
       "<table border=\"1\" class=\"dataframe\">\n",
       "  <thead>\n",
       "    <tr style=\"text-align: right;\">\n",
       "      <th></th>\n",
       "      <th>customer_zip_code</th>\n",
       "      <th>zipcodegroup</th>\n",
       "    </tr>\n",
       "  </thead>\n",
       "  <tbody>\n",
       "    <tr>\n",
       "      <th>0</th>\n",
       "      <td>75040</td>\n",
       "      <td>P</td>\n",
       "    </tr>\n",
       "    <tr>\n",
       "      <th>1</th>\n",
       "      <td>20743</td>\n",
       "      <td>P</td>\n",
       "    </tr>\n",
       "  </tbody>\n",
       "</table>\n",
       "</div>"
      ],
      "text/plain": [
       "  customer_zip_code zipcodegroup\n",
       "0             75040            P\n",
       "1             20743            P"
      ]
     },
     "execution_count": 11,
     "metadata": {},
     "output_type": "execute_result"
    }
   ],
   "source": [
    "zipmap = pd.ExcelFile('/home/jian/Projects/Big_Lots/New_TA/TA_created_in_201906/final_output_20190718/BL_final_TA_updated_JL_2019-07-18.xlsx')\n",
    "zipmap=zipmap.parse(\"unique_zips_full_footprint\",dtype=str)\n",
    "zipmap['zip_type']=zipmap['zip_type'].replace(\"zips_10\",\"trans_S\")\n",
    "\n",
    "zipmap['zipcodegroup'] = zipmap['zip_type'].apply(lambda x: x.split(\"_\")[1])\n",
    "print(zipmap.shape)\n",
    "print(zipmap['zip_cd'].nunique())\n",
    "\n",
    "zipmap=zipmap.rename(columns={\"zip_cd\":\"customer_zip_code\"})\n",
    "\n",
    "zipmap=zipmap[['customer_zip_code','zipcodegroup']]\n",
    "zipmap.head(2)"
   ]
  },
  {
   "cell_type": "code",
   "execution_count": 12,
   "metadata": {},
   "outputs": [
    {
     "name": "stdout",
     "output_type": "stream",
     "text": [
      "['P' nan 'S']\n",
      "['P' 'T' 'S']\n",
      "P 212170\n",
      "S 89896\n",
      "T 178493\n"
     ]
    }
   ],
   "source": [
    "df_all_new_master = pd.merge(df_all_new_master,zipmap,on ='customer_zip_code',how = 'left' )\n",
    "print(df_all_new_master['zipcodegroup'].unique())\n",
    "\n",
    "df_all_new_master['zipcodegroup'].fillna('T',inplace = True)\n",
    "print(df_all_new_master['zipcodegroup'].unique())\n",
    "\n",
    "last_saturday_str=\"_\"+str(last_saturday).split(\"-\")[1]+str(last_saturday).split(\"-\")[2]+str(last_saturday).split(\"-\")[0][2:]+\"_\"\n",
    "\n",
    "for revenue_flag in ['P','S','T']:\n",
    "    df = df_all_new_master[df_all_new_master['zipcodegroup']==revenue_flag]\n",
    "    df = df[['customer_id_hashed','email_address_hash','customer_zip_code']]\n",
    "    df['segment'] = 'NewReward' + last_saturday_str + revenue_flag\n",
    "    print(revenue_flag,len(df.index))\n",
    "    df.to_csv(write_folder+'NewReward_'+str(last_saturday)+'_'+revenue_flag+'.csv',index = False)\n",
    "# To be uploaded to lr-big-lots /uploads/big_lots_onboarding"
   ]
  },
  {
   "cell_type": "code",
   "execution_count": 13,
   "metadata": {},
   "outputs": [
    {
     "data": {
      "text/html": [
       "<div>\n",
       "<style>\n",
       "    .dataframe thead tr:only-child th {\n",
       "        text-align: right;\n",
       "    }\n",
       "\n",
       "    .dataframe thead th {\n",
       "        text-align: left;\n",
       "    }\n",
       "\n",
       "    .dataframe tbody tr th {\n",
       "        vertical-align: top;\n",
       "    }\n",
       "</style>\n",
       "<table border=\"1\" class=\"dataframe\">\n",
       "  <thead>\n",
       "    <tr style=\"text-align: right;\">\n",
       "      <th></th>\n",
       "      <th>zipcodegroup</th>\n",
       "      <th>email_address_hash</th>\n",
       "    </tr>\n",
       "  </thead>\n",
       "  <tbody>\n",
       "    <tr>\n",
       "      <th>0</th>\n",
       "      <td>P</td>\n",
       "      <td>212170</td>\n",
       "    </tr>\n",
       "    <tr>\n",
       "      <th>1</th>\n",
       "      <td>S</td>\n",
       "      <td>89896</td>\n",
       "    </tr>\n",
       "    <tr>\n",
       "      <th>2</th>\n",
       "      <td>T</td>\n",
       "      <td>178493</td>\n",
       "    </tr>\n",
       "  </tbody>\n",
       "</table>\n",
       "</div>"
      ],
      "text/plain": [
       "  zipcodegroup  email_address_hash\n",
       "0            P              212170\n",
       "1            S               89896\n",
       "2            T              178493"
      ]
     },
     "execution_count": 13,
     "metadata": {},
     "output_type": "execute_result"
    }
   ],
   "source": [
    "df_all_new_master.groupby(['zipcodegroup'])['email_address_hash'].count().to_frame().reset_index()"
   ]
  },
  {
   "cell_type": "code",
   "execution_count": 14,
   "metadata": {},
   "outputs": [
    {
     "data": {
      "text/html": [
       "<div>\n",
       "<style>\n",
       "    .dataframe thead tr:only-child th {\n",
       "        text-align: right;\n",
       "    }\n",
       "\n",
       "    .dataframe thead th {\n",
       "        text-align: left;\n",
       "    }\n",
       "\n",
       "    .dataframe tbody tr th {\n",
       "        vertical-align: top;\n",
       "    }\n",
       "</style>\n",
       "<table border=\"1\" class=\"dataframe\">\n",
       "  <thead>\n",
       "    <tr style=\"text-align: right;\">\n",
       "      <th></th>\n",
       "      <th>customer_id_hashed</th>\n",
       "      <th>email_address_hash</th>\n",
       "      <th>customer_zip_code</th>\n",
       "      <th>segment</th>\n",
       "    </tr>\n",
       "  </thead>\n",
       "  <tbody>\n",
       "    <tr>\n",
       "      <th>2</th>\n",
       "      <td>968e6f2854feeb8998bf602ba464800e599fe0501ec80e...</td>\n",
       "      <td>9d2eb7cb048c251f4281726b4897a04e4e5c662f3d73d1...</td>\n",
       "      <td>81502</td>\n",
       "      <td>NewReward_090719_T</td>\n",
       "    </tr>\n",
       "    <tr>\n",
       "      <th>8</th>\n",
       "      <td>fffd28b051ccdfd4c944c4725b14b84a14ceb8a716102c...</td>\n",
       "      <td>2004a5233d6e02422c6ca7b94111687c2b9a0338736f5a...</td>\n",
       "      <td>NaN</td>\n",
       "      <td>NewReward_090719_T</td>\n",
       "    </tr>\n",
       "  </tbody>\n",
       "</table>\n",
       "</div>"
      ],
      "text/plain": [
       "                                  customer_id_hashed  \\\n",
       "2  968e6f2854feeb8998bf602ba464800e599fe0501ec80e...   \n",
       "8  fffd28b051ccdfd4c944c4725b14b84a14ceb8a716102c...   \n",
       "\n",
       "                                  email_address_hash customer_zip_code  \\\n",
       "2  9d2eb7cb048c251f4281726b4897a04e4e5c662f3d73d1...             81502   \n",
       "8  2004a5233d6e02422c6ca7b94111687c2b9a0338736f5a...               NaN   \n",
       "\n",
       "              segment  \n",
       "2  NewReward_090719_T  \n",
       "8  NewReward_090719_T  "
      ]
     },
     "execution_count": 14,
     "metadata": {},
     "output_type": "execute_result"
    }
   ],
   "source": [
    "df.head(2)"
   ]
  },
  {
   "cell_type": "code",
   "execution_count": 15,
   "metadata": {},
   "outputs": [
    {
     "name": "stdout",
     "output_type": "stream",
     "text": [
      "2019-09-11 10:41:52.147464\n"
     ]
    }
   ],
   "source": [
    "print(datetime.datetime.now())"
   ]
  },
  {
   "cell_type": "code",
   "execution_count": null,
   "metadata": {
    "collapsed": true
   },
   "outputs": [],
   "source": []
  },
  {
   "cell_type": "code",
   "execution_count": 16,
   "metadata": {
    "collapsed": true
   },
   "outputs": [],
   "source": [
    "import paramiko\n",
    "import glob\n",
    "\n",
    "host = \"files.liveramp.com\"\n",
    "port = 22\n",
    "password = \"Biglots2018!\"\n",
    "username = \"lr-big-lots\"\n",
    "\n",
    "transport = paramiko.Transport((host, port))\n",
    "\n",
    "transport.connect(username = username, password = password)\n",
    "sftp = paramiko.SFTPClient.from_transport(transport)\n",
    "\n",
    "# local_path defined above before saving the local txt\n",
    "local_list=glob.glob(write_folder+\"*.csv\")\n",
    "local_list=[x for x in local_list if 'NewReward_'+str(last_saturday)+'_' in x]\n",
    "\n",
    "for local_path in local_list:\n",
    "    remote_path=\"/uploads/big_lots_onboarding/\"+os.path.basename(local_path)\n",
    "    sftp.put(local_path,remote_path)\n",
    "sftp.close()\n",
    "transport.close()\n",
    "print(\"Done: \",datetime.datetime.now())"
   ]
  },
  {
   "cell_type": "code",
   "execution_count": null,
   "metadata": {
    "collapsed": true
   },
   "outputs": [],
   "source": []
  },
  {
   "cell_type": "code",
   "execution_count": null,
   "metadata": {
    "collapsed": true
   },
   "outputs": [],
   "source": []
  }
 ],
 "metadata": {
  "kernelspec": {
   "display_name": "Python 3",
   "language": "python",
   "name": "python3"
  },
  "language_info": {
   "codemirror_mode": {
    "name": "ipython",
    "version": 3
   },
   "file_extension": ".py",
   "mimetype": "text/x-python",
   "name": "python",
   "nbconvert_exporter": "python",
   "pygments_lexer": "ipython3",
   "version": "3.6.1"
  }
 },
 "nbformat": 4,
 "nbformat_minor": 2
}
