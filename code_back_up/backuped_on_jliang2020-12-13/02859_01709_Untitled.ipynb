{
 "cells": [
  {
   "cell_type": "code",
   "execution_count": 33,
   "metadata": {
    "collapsed": true
   },
   "outputs": [],
   "source": [
    "import pandas as pd\n",
    "import numpy as np\n",
    "import datetime\n",
    "from googleads import adwords\n",
    "import google_analytics_reporting_api as ga\n",
    "import os\n",
    "import logging"
   ]
  },
  {
   "cell_type": "code",
   "execution_count": 34,
   "metadata": {},
   "outputs": [
    {
     "data": {
      "text/plain": [
       "'_Jan_Week_2'"
      ]
     },
     "execution_count": 34,
     "metadata": {},
     "output_type": "execute_result"
    }
   ],
   "source": [
    "today_Friday=datetime.datetime.now().date()\n",
    "today_weekday_num_py=today_Friday.weekday()\n",
    "this_week_Monday=today_Friday-datetime.timedelta(days=today_weekday_num_py)\n",
    "\n",
    "week_counter_str=str(int(np.ceil((this_week_Monday-datetime.date(2019,1,16)).days/7)))\n",
    "week=\"_Jan_Week_\"+week_counter_str\n",
    "week"
   ]
  },
  {
   "cell_type": "code",
   "execution_count": 42,
   "metadata": {},
   "outputs": [],
   "source": [
    "logging.basicConfig(filename='saatva_celery.log', level=logging.INFO)\n",
    "logging.info(\"Start running: \" +str(datetime.datetime.now()))\n",
    "today_Friday=datetime.datetime.now().date()\n",
    "today_weekday_num_py=today_Friday.weekday()\n",
    "this_week_Monday=today_Friday-datetime.timedelta(days=today_weekday_num_py)\n",
    "\n",
    "week_counter_str=str(int(np.floor((this_week_Monday-datetime.date(2019,1,16)).days/7+1)))\n",
    "week=\"_Jan_Week_\"+week_counter_str\n",
    "\n",
    "Start_Date_2=str(this_week_Monday-datetime.timedelta(days=4)) # To be change\n",
    "End_Date_2=str(datetime.datetime.strptime(Start_Date_2,\"%Y-%m-%d\").date()+datetime.timedelta(days=6))\n",
    "\n",
    "Start_Date_overall='2019-01-01'\n",
    "End_Data_overall=End_Date_2\n",
    "\n",
    "Start_Date_1='2019-01-01' # No Change\n",
    "End_Date_1='2019-01-16'\n",
    "\n",
    "today_str=str(datetime.datetime.now().date())"
   ]
  },
  {
   "cell_type": "code",
   "execution_count": 44,
   "metadata": {},
   "outputs": [
    {
     "data": {
      "text/plain": [
       "'2019-01-24'"
      ]
     },
     "execution_count": 44,
     "metadata": {},
     "output_type": "execute_result"
    }
   ],
   "source": [
    "Start_Date_2"
   ]
  },
  {
   "cell_type": "code",
   "execution_count": 36,
   "metadata": {},
   "outputs": [],
   "source": [
    "analytics = ga.initialize_analyticsreporting('/home/jian/Projects/Saatva/Summary_Table/GA_api_jubapluscc@gmail.com.json')\n",
    "    \n",
    "def num_func_trans(df):\n",
    "    if 'ga:sessions' in df.columns:\n",
    "        df['ga:sessions']=df['ga:sessions'].apply(lambda x: int(x.replace(\",\",\"\")))\n",
    "        df['ga:sessions']=df['ga:sessions'].astype(int)\n",
    "\n",
    "    if 'ga:adClicks' in df.columns:\n",
    "        df['ga:adClicks']=df['ga:adClicks'].apply(lambda x: int(x.replace(\",\",\"\")))\n",
    "        df['ga:adClicks']=df['ga:adClicks'].astype(int)\n",
    "\n",
    "    if 'ga:impressions' in df.columns:\n",
    "        df['ga:impressions']=df['ga:impressions'].apply(lambda x: int(x.replace(\",\",\"\")))\n",
    "        df['ga:impressions']=df['ga:impressions'].astype(int)\n",
    "\n",
    "    if 'ga:transactions' in df.columns:\n",
    "        df['ga:transactions']=df['ga:transactions'].apply(lambda x: int(x.replace(\",\",\"\")))\n",
    "        df['ga:transactions']=df['ga:transactions'].astype(int)\n",
    "\n",
    "    if 'ga:transactionRevenue' in df.columns:\n",
    "        df['ga:transactionRevenue']=df['ga:transactionRevenue'].apply(lambda x: float(x.replace(\",\",\"\")))\n",
    "        df['ga:transactionRevenue']=df['ga:transactionRevenue'].astype(float)\n",
    "\n",
    "\n",
    "    return df"
   ]
  },
  {
   "cell_type": "code",
   "execution_count": 37,
   "metadata": {},
   "outputs": [],
   "source": [
    "ga_data_1=ga.get_report_over_10000_rows(analytics=analytics, VIEW_ID='122377905',start_date=Start_Date_1, end_date=End_Date_1,\n",
    "                                                ga_metrics=['ga:sessions','ga:adClicks','ga:impressions','ga:transactions','ga:transactionRevenue'],\n",
    "                                                ga_dimensions=['ga:dateHour','ga:sourceMedium'])\n",
    "    \n",
    "ga_data_2=ga.get_report_over_10000_rows(analytics=analytics, VIEW_ID='122377905',start_date=Start_Date_2, end_date=End_Date_2,\n",
    "                                            ga_metrics=['ga:sessions','ga:adClicks','ga:impressions','ga:transactions','ga:transactionRevenue'],\n",
    "                                            ga_dimensions=['ga:dateHour','ga:sourceMedium'])\n",
    "\n",
    "\n",
    "ga_data_saatva=ga_data_1.append(ga_data_2)\n",
    "ga_data_saatva['View']=\"Saatva.com\"\n",
    "ga_data_saatva['View_ID']=\"122377905\"\n",
    "ga_data_saatva.shape\n",
    "logging.info(\"1\"+str(datetime.datetime.now()))\n",
    "\n",
    "# In[10]:\n",
    "\n",
    "# Saatvamattress.com\n",
    "# dateHour, sourceMedium      sessions, adClicks, impressions\n",
    "ga_data_1=ga.get_report_over_10000_rows(analytics=analytics, VIEW_ID='33605697',start_date=Start_Date_1, end_date=End_Date_1,\n",
    "                                            ga_metrics=['ga:sessions','ga:adClicks','ga:impressions','ga:transactions','ga:transactionRevenue'],\n",
    "                                            ga_dimensions=['ga:dateHour','ga:sourceMedium'])\n",
    "\n",
    "ga_data_2=ga.get_report_over_10000_rows(analytics=analytics, VIEW_ID='33605697',start_date=Start_Date_2, end_date=End_Date_2,\n",
    "                                            ga_metrics=['ga:sessions','ga:adClicks','ga:impressions','ga:transactions','ga:transactionRevenue'],\n",
    "                                            ga_dimensions=['ga:dateHour','ga:sourceMedium'])\n",
    "\n",
    "\n",
    "ga_data_SM=ga_data_1.append(ga_data_2)\n",
    "ga_data_SM['View']=\"Saatvamattress.com\"\n",
    "ga_data_SM['View_ID']=\"33605697\"\n",
    "ga_data_SM.shape\n",
    "logging.info(\"2\"+str(datetime.datetime.now()))\n",
    "\n",
    "# In[11]:\n",
    "\n",
    "ga_data=ga_data_SM.append(ga_data_saatva)\n",
    "ga_data=num_func_trans(ga_data)\n",
    "\n",
    "\n",
    "# In[12]:\n",
    "\n",
    "ga_data['Source']=ga_data['ga:sourceMedium'].apply(lambda x: x.split(\" / \")[0])\n",
    "ga_data['Medium']=ga_data['ga:sourceMedium'].apply(lambda x: x.split(\" / \")[1])"
   ]
  },
  {
   "cell_type": "code",
   "execution_count": 38,
   "metadata": {
    "collapsed": true
   },
   "outputs": [],
   "source": [
    "ga_data['Defined_Media']=np.nan\n",
    "ga_data['Defined_Media']=np.where(((ga_data['ga:sourceMedium'].str.contains('youtube.')) | (ga_data['Medium']==\"social\")),\"Social\",\n",
    "                                  np.where(((ga_data['Source'].isin(['msn','instagram','Instagram','pinterest','facebook'])) & (ga_data['Medium']=='cpc')),\"Social\",\n",
    "                                           np.where(ga_data['ga:sourceMedium'].str.contains('criteo'),\"Retarget\",\n",
    "                                                    np.where(ga_data['Source']==\"(direct)\",\"Direct\",\n",
    "                                                             np.where(((ga_data['Source'].isin(['google','bing','yahoo'])) & (ga_data['Medium']=='cpc')),\"SEM\",\n",
    "                                                                      np.where(((ga_data['Source'].isin(['google','bing','yahoo'])) & (ga_data['Medium']=='organic')),\"SEO\",\n",
    "                                                                               np.where(ga_data['Source']==\"powerInbox\",\"Email\",\n",
    "                                                                                        np.where((ga_data['ga:sourceMedium'].str.contains('email')) & (~ga_data['ga:sourceMedium'].isin([\"taboola / townnews-wvgazettemail\",\"query.hemailaccessonline.com / referral\"]) | (ga_data['ga:sourceMedium'].str.contains(\"mail.\") )),\"Email\",\n",
    "                                                                                                 np.where(ga_data['ga:sourceMedium'].str.contains('taboola'),\"Video\",\n",
    "                                                                                                          np.where(ga_data['Medium']==\"referral\",\"Referral\",\n",
    "                                                                                                                   np.where(ga_data['Medium'].isin([\"partner\",\"partners\"]),\"partner\",\n",
    "                                                                                                                            np.where(ga_data['ga:sourceMedium'].str.contains('display'),\"Display\",\"Others\")\n",
    "                                                                                                                            )\n",
    "                                                                                                                   )\n",
    "                                                                                                          )\n",
    "                                                                                                )\n",
    "                                                                                       )\n",
    "                                                                              )\n",
    "                                                                     )\n",
    "                                                            )\n",
    "                                                   )\n",
    "                                          )\n",
    "                                 )"
   ]
  },
  {
   "cell_type": "code",
   "execution_count": 39,
   "metadata": {
    "collapsed": true
   },
   "outputs": [],
   "source": [
    "ga_agg_session=ga_data.groupby(['ga:dateHour','Defined_Media'])['ga:sessions'].sum().to_frame()\n",
    "ga_agg_session.reset_index(inplace=True)\n",
    "ga_agg_wide_session=ga_agg_session.pivot('ga:dateHour','Defined_Media','ga:sessions')\n",
    "ga_agg_wide_session.reset_index(inplace=True)\n",
    "ga_agg_wide_session['time_hour']=ga_agg_wide_session['ga:dateHour'].apply(lambda x:datetime.datetime.strptime(x,\"%Y%m%d%H\"))\n"
   ]
  },
  {
   "cell_type": "code",
   "execution_count": 41,
   "metadata": {},
   "outputs": [
    {
     "data": {
      "text/plain": [
       "['Direct',\n",
       " 'Display',\n",
       " 'Email',\n",
       " 'Others',\n",
       " 'Referral',\n",
       " 'Retarget',\n",
       " 'SEM',\n",
       " 'SEO',\n",
       " 'Social',\n",
       " 'Video',\n",
       " 'ga:dateHour',\n",
       " 'partner',\n",
       " 'time_hour']"
      ]
     },
     "execution_count": 41,
     "metadata": {},
     "output_type": "execute_result"
    }
   ],
   "source": [
    "media_col=sorted(ga_agg_wide_session.columns.tolist())\n",
    "media_col"
   ]
  },
  {
   "cell_type": "code",
   "execution_count": null,
   "metadata": {
    "collapsed": true
   },
   "outputs": [],
   "source": []
  }
 ],
 "metadata": {
  "kernelspec": {
   "display_name": "Python 3",
   "language": "python",
   "name": "python3"
  },
  "language_info": {
   "codemirror_mode": {
    "name": "ipython",
    "version": 3
   },
   "file_extension": ".py",
   "mimetype": "text/x-python",
   "name": "python",
   "nbconvert_exporter": "python",
   "pygments_lexer": "ipython3",
   "version": "3.6.1"
  }
 },
 "nbformat": 4,
 "nbformat_minor": 2
}
