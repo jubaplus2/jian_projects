{
 "cells": [
  {
   "cell_type": "code",
   "execution_count": 33,
   "metadata": {
    "collapsed": true
   },
   "outputs": [],
   "source": [
    "import pandas as pd\n",
    "from datetime import datetime"
   ]
  },
  {
   "cell_type": "code",
   "execution_count": 34,
   "metadata": {
    "collapsed": true
   },
   "outputs": [],
   "source": [
    "tmr_data=pd.read_excel(\"/home/jian/Projects/Big_Lots/TMR/ALL MEDIA 0221.xlsx\",sheetname=\"ALL MEDIA 0221\")\n",
    "tmr_data=tmr_data[tmr_data['media']!=\"TV\"]"
   ]
  },
  {
   "cell_type": "code",
   "execution_count": 36,
   "metadata": {},
   "outputs": [],
   "source": [
    "tmr_data['week_date_date']=tmr_data['week date'].apply(lambda x: datetime.strptime(x,'%m/%d/%Y').date())"
   ]
  },
  {
   "cell_type": "code",
   "execution_count": 6,
   "metadata": {},
   "outputs": [],
   "source": [
    "sales_date=pd.read_excel(\"/home/jian/Projects/Big_Lots/TMR/BL_ALL MEDIA_JL_20180214.xlsx\",sheetname=\"sales data\")"
   ]
  },
  {
   "cell_type": "code",
   "execution_count": 18,
   "metadata": {},
   "outputs": [
    {
     "data": {
      "text/plain": [
       "str"
      ]
     },
     "execution_count": 18,
     "metadata": {},
     "output_type": "execute_result"
    }
   ],
   "source": [
    "type(tmr_data['week date'][0])"
   ]
  },
  {
   "cell_type": "code",
   "execution_count": 15,
   "metadata": {},
   "outputs": [
    {
     "data": {
      "text/plain": [
       "(900717, 8)"
      ]
     },
     "execution_count": 15,
     "metadata": {},
     "output_type": "execute_result"
    }
   ],
   "source": [
    "tmr_data.shape"
   ]
  },
  {
   "cell_type": "code",
   "execution_count": 27,
   "metadata": {},
   "outputs": [
    {
     "data": {
      "text/plain": [
       "datetime.date(2017, 11, 12)"
      ]
     },
     "execution_count": 27,
     "metadata": {},
     "output_type": "execute_result"
    }
   ],
   "source": [
    "x=tmr_data['week date'][0]\n",
    "datetime.strptime(str(x),'%m/%d/%Y').date()"
   ]
  },
  {
   "cell_type": "code",
   "execution_count": 28,
   "metadata": {},
   "outputs": [
    {
     "data": {
      "text/html": [
       "<div>\n",
       "<style>\n",
       "    .dataframe thead tr:only-child th {\n",
       "        text-align: right;\n",
       "    }\n",
       "\n",
       "    .dataframe thead th {\n",
       "        text-align: left;\n",
       "    }\n",
       "\n",
       "    .dataframe tbody tr th {\n",
       "        vertical-align: top;\n",
       "    }\n",
       "</style>\n",
       "<table border=\"1\" class=\"dataframe\">\n",
       "  <thead>\n",
       "    <tr style=\"text-align: right;\">\n",
       "      <th></th>\n",
       "      <th>week date</th>\n",
       "      <th>media</th>\n",
       "      <th>submedia</th>\n",
       "      <th>placement</th>\n",
       "      <th>cleaned dma</th>\n",
       "      <th>impression</th>\n",
       "      <th>click</th>\n",
       "      <th>cost</th>\n",
       "    </tr>\n",
       "  </thead>\n",
       "  <tbody>\n",
       "    <tr>\n",
       "      <th>0</th>\n",
       "      <td>11/12/2017</td>\n",
       "      <td>Cinema</td>\n",
       "      <td>xx</td>\n",
       "      <td>xx</td>\n",
       "      <td>Albany-Schenectady-Troy, NY</td>\n",
       "      <td>19610.206316</td>\n",
       "      <td>0.0</td>\n",
       "      <td>583.306421</td>\n",
       "    </tr>\n",
       "    <tr>\n",
       "      <th>1</th>\n",
       "      <td>11/12/2017</td>\n",
       "      <td>Cinema</td>\n",
       "      <td>xx</td>\n",
       "      <td>xx</td>\n",
       "      <td>Albuquerque-Santa Fe, NM</td>\n",
       "      <td>35222.840500</td>\n",
       "      <td>0.0</td>\n",
       "      <td>1408.913620</td>\n",
       "    </tr>\n",
       "    <tr>\n",
       "      <th>2</th>\n",
       "      <td>11/12/2017</td>\n",
       "      <td>Cinema</td>\n",
       "      <td>xx</td>\n",
       "      <td>xx</td>\n",
       "      <td>Atlanta, GA</td>\n",
       "      <td>16817.411182</td>\n",
       "      <td>0.0</td>\n",
       "      <td>672.696447</td>\n",
       "    </tr>\n",
       "    <tr>\n",
       "      <th>3</th>\n",
       "      <td>11/12/2017</td>\n",
       "      <td>Cinema</td>\n",
       "      <td>xx</td>\n",
       "      <td>xx</td>\n",
       "      <td>Baltimore, MD</td>\n",
       "      <td>17237.863360</td>\n",
       "      <td>0.0</td>\n",
       "      <td>689.514534</td>\n",
       "    </tr>\n",
       "    <tr>\n",
       "      <th>4</th>\n",
       "      <td>11/12/2017</td>\n",
       "      <td>Cinema</td>\n",
       "      <td>xx</td>\n",
       "      <td>xx</td>\n",
       "      <td>Binghamton, NY</td>\n",
       "      <td>1275.724341</td>\n",
       "      <td>0.0</td>\n",
       "      <td>32.331556</td>\n",
       "    </tr>\n",
       "  </tbody>\n",
       "</table>\n",
       "</div>"
      ],
      "text/plain": [
       "    week date   media submedia placement                  cleaned dma  \\\n",
       "0  11/12/2017  Cinema       xx        xx  Albany-Schenectady-Troy, NY   \n",
       "1  11/12/2017  Cinema       xx        xx     Albuquerque-Santa Fe, NM   \n",
       "2  11/12/2017  Cinema       xx        xx                  Atlanta, GA   \n",
       "3  11/12/2017  Cinema       xx        xx                Baltimore, MD   \n",
       "4  11/12/2017  Cinema       xx        xx               Binghamton, NY   \n",
       "\n",
       "     impression  click         cost  \n",
       "0  19610.206316    0.0   583.306421  \n",
       "1  35222.840500    0.0  1408.913620  \n",
       "2  16817.411182    0.0   672.696447  \n",
       "3  17237.863360    0.0   689.514534  \n",
       "4   1275.724341    0.0    32.331556  "
      ]
     },
     "execution_count": 28,
     "metadata": {},
     "output_type": "execute_result"
    }
   ],
   "source": [
    "tmr_data.head(5)"
   ]
  },
  {
   "cell_type": "code",
   "execution_count": 35,
   "metadata": {},
   "outputs": [
    {
     "data": {
      "text/plain": [
       "(567348, 8)"
      ]
     },
     "execution_count": 35,
     "metadata": {},
     "output_type": "execute_result"
    }
   ],
   "source": [
    "tmr_data.shape"
   ]
  },
  {
   "cell_type": "code",
   "execution_count": 38,
   "metadata": {},
   "outputs": [
    {
     "data": {
      "text/plain": [
       "array([6, 3, 5])"
      ]
     },
     "execution_count": 38,
     "metadata": {},
     "output_type": "execute_result"
    }
   ],
   "source": [
    "tmr_data['week_date_date'].apply(lambda x:x.weekday()).unique()"
   ]
  },
  {
   "cell_type": "code",
   "execution_count": null,
   "metadata": {
    "collapsed": true
   },
   "outputs": [],
   "source": []
  }
 ],
 "metadata": {
  "kernelspec": {
   "display_name": "Python 3",
   "language": "python",
   "name": "python3"
  },
  "language_info": {
   "codemirror_mode": {
    "name": "ipython",
    "version": 3
   },
   "file_extension": ".py",
   "mimetype": "text/x-python",
   "name": "python",
   "nbconvert_exporter": "python",
   "pygments_lexer": "ipython3",
   "version": "3.6.1"
  }
 },
 "nbformat": 4,
 "nbformat_minor": 2
}
