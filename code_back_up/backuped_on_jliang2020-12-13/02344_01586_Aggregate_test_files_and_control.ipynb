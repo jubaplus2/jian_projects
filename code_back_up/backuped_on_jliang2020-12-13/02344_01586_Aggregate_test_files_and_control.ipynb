{
 "cells": [
  {
   "cell_type": "code",
   "execution_count": 1,
   "metadata": {},
   "outputs": [
    {
     "name": "stdout",
     "output_type": "stream",
     "text": [
      "2020-02-06 11:35:58.330108\n"
     ]
    },
    {
     "data": {
      "text/plain": [
       "'/home/jian/Projects/Big_Lots/Live_Ramp/Quarterly_Update_2020Q1/Consolidated_files_for_Maggie_20200206'"
      ]
     },
     "execution_count": 1,
     "metadata": {},
     "output_type": "execute_result"
    }
   ],
   "source": [
    "import pandas as pd\n",
    "import numpy as np\n",
    "import datetime\n",
    "import os\n",
    "import glob\n",
    "print(datetime.datetime.now())\n",
    "os.getcwd()"
   ]
  },
  {
   "cell_type": "code",
   "execution_count": 2,
   "metadata": {},
   "outputs": [
    {
     "data": {
      "text/plain": [
       "274"
      ]
     },
     "execution_count": 2,
     "metadata": {},
     "output_type": "execute_result"
    }
   ],
   "source": [
    "list_all_files_2020Q1_0_18=glob.glob('/home/jian/Projects/Big_Lots/Live_Ramp/Quarterly_Update_2020Q1/final_segments_uploaded_LR_0_18/*.csv')\n",
    "len(list_all_files_2020Q1_0_18)"
   ]
  },
  {
   "cell_type": "code",
   "execution_count": 6,
   "metadata": {},
   "outputs": [
    {
     "name": "stdout",
     "output_type": "stream",
     "text": [
      "272\n",
      "1\n"
     ]
    },
    {
     "data": {
      "text/plain": [
       "['/home/jian/Projects/Big_Lots/Live_Ramp/Quarterly_Update_2020Q1/final_segments_uploaded_LR_0_18/C_all_quarterly_segments_RFM20Q1.csv']"
      ]
     },
     "execution_count": 6,
     "metadata": {},
     "output_type": "execute_result"
    }
   ],
   "source": [
    "T_list=[x for x in list_all_files_2020Q1_0_18 if os.path.basename(x)[0]==\"T\"]\n",
    "print(len(T_list))\n",
    "\n",
    "C_list=[x for x in list_all_files_2020Q1_0_18 if os.path.basename(x)[:5]==\"C_all\"]\n",
    "print(len(C_list))\n",
    "C_list"
   ]
  },
  {
   "cell_type": "code",
   "execution_count": 7,
   "metadata": {},
   "outputs": [
    {
     "data": {
      "text/html": [
       "<div>\n",
       "<style scoped>\n",
       "    .dataframe tbody tr th:only-of-type {\n",
       "        vertical-align: middle;\n",
       "    }\n",
       "\n",
       "    .dataframe tbody tr th {\n",
       "        vertical-align: top;\n",
       "    }\n",
       "\n",
       "    .dataframe thead th {\n",
       "        text-align: right;\n",
       "    }\n",
       "</style>\n",
       "<table border=\"1\" class=\"dataframe\">\n",
       "  <thead>\n",
       "    <tr style=\"text-align: right;\">\n",
       "      <th></th>\n",
       "      <th>customer_id_hashed</th>\n",
       "      <th>email_address_hash</th>\n",
       "      <th>segment_2020Q1</th>\n",
       "    </tr>\n",
       "  </thead>\n",
       "  <tbody>\n",
       "    <tr>\n",
       "      <th>0</th>\n",
       "      <td>5d94e25d513c5fff2e44c4efc44f5b115199e697fc357a...</td>\n",
       "      <td>958837751081305431f415ef027e8673a57b8989be1b20...</td>\n",
       "      <td>C_Legacy_Active_H_P_Above50K_MultiFamilyOrCond...</td>\n",
       "    </tr>\n",
       "    <tr>\n",
       "      <th>1</th>\n",
       "      <td>6f0216903469f083e491116fbb6c85ff1556607d5ec782...</td>\n",
       "      <td>584472654694c5145b946a1b54c5df271a5bfffeeebcc7...</td>\n",
       "      <td>C_Legacy_Active_H_P_Above50K_MultiFamilyOrCond...</td>\n",
       "    </tr>\n",
       "    <tr>\n",
       "      <th>2</th>\n",
       "      <td>5af59946e38774dc39556a03a712c73e57bad3b6c5f24a...</td>\n",
       "      <td>6afe79b9f4fdd89ef117b33964a35df8d262022520527d...</td>\n",
       "      <td>C_Legacy_Active_H_P_Above50K_MultiFamilyOrCond...</td>\n",
       "    </tr>\n",
       "    <tr>\n",
       "      <th>3</th>\n",
       "      <td>dad22fca491448df0f9979f07a2177d741d2183faa2e9b...</td>\n",
       "      <td>03eb4b44f700ce1c1f1003737a0a92b863fe4d86f681db...</td>\n",
       "      <td>C_Legacy_Active_H_P_Above50K_MultiFamilyOrCond...</td>\n",
       "    </tr>\n",
       "    <tr>\n",
       "      <th>4</th>\n",
       "      <td>e268ee18fb4c3ffbe9fc03e8a17ebd931e296debf2ca12...</td>\n",
       "      <td>43ec632f75a8c9dc3afe904eacd7379a71a4c3a927f5c3...</td>\n",
       "      <td>C_Legacy_Active_H_P_Above50K_MultiFamilyOrCond...</td>\n",
       "    </tr>\n",
       "    <tr>\n",
       "      <th>5</th>\n",
       "      <td>fb3cadaf6c21fe235f76cbca7034f51481605d2fd4cfab...</td>\n",
       "      <td>7191b133dbebf2ddfc5e5aa732152994cb01decb35a607...</td>\n",
       "      <td>C_Legacy_Active_H_P_Above50K_MultiFamilyOrCond...</td>\n",
       "    </tr>\n",
       "    <tr>\n",
       "      <th>6</th>\n",
       "      <td>03a4aebc54253807a5701c2eabd71fa07871ea6742877f...</td>\n",
       "      <td>85b63a96f4c3d227569ec2470a2b571212f4e16346d848...</td>\n",
       "      <td>C_Legacy_Active_H_P_Above50K_MultiFamilyOrCond...</td>\n",
       "    </tr>\n",
       "    <tr>\n",
       "      <th>7</th>\n",
       "      <td>ab9db12f1af725ca710acbcea25b942364daf9a42496b6...</td>\n",
       "      <td>50187764c1f96c2f3057964b4ad9b0bf83859759d86a00...</td>\n",
       "      <td>C_Legacy_Active_H_P_Above50K_MultiFamilyOrCond...</td>\n",
       "    </tr>\n",
       "    <tr>\n",
       "      <th>8</th>\n",
       "      <td>c6b0d79f0500822af08ed4af182b2f993f2bbe875ffb91...</td>\n",
       "      <td>69ac8b1dba6e547a200518816aafa9f26138374280e4a8...</td>\n",
       "      <td>C_Legacy_Active_H_P_Above50K_MultiFamilyOrCond...</td>\n",
       "    </tr>\n",
       "    <tr>\n",
       "      <th>9</th>\n",
       "      <td>0d213c335f2d37008483ee4f9cd187777394830c8160a5...</td>\n",
       "      <td>748c8ef05ece862fbae8125b6997f461cd8732d42dc300...</td>\n",
       "      <td>C_Legacy_Active_H_P_Above50K_MultiFamilyOrCond...</td>\n",
       "    </tr>\n",
       "  </tbody>\n",
       "</table>\n",
       "</div>"
      ],
      "text/plain": [
       "                                  customer_id_hashed  \\\n",
       "0  5d94e25d513c5fff2e44c4efc44f5b115199e697fc357a...   \n",
       "1  6f0216903469f083e491116fbb6c85ff1556607d5ec782...   \n",
       "2  5af59946e38774dc39556a03a712c73e57bad3b6c5f24a...   \n",
       "3  dad22fca491448df0f9979f07a2177d741d2183faa2e9b...   \n",
       "4  e268ee18fb4c3ffbe9fc03e8a17ebd931e296debf2ca12...   \n",
       "5  fb3cadaf6c21fe235f76cbca7034f51481605d2fd4cfab...   \n",
       "6  03a4aebc54253807a5701c2eabd71fa07871ea6742877f...   \n",
       "7  ab9db12f1af725ca710acbcea25b942364daf9a42496b6...   \n",
       "8  c6b0d79f0500822af08ed4af182b2f993f2bbe875ffb91...   \n",
       "9  0d213c335f2d37008483ee4f9cd187777394830c8160a5...   \n",
       "\n",
       "                                  email_address_hash  \\\n",
       "0  958837751081305431f415ef027e8673a57b8989be1b20...   \n",
       "1  584472654694c5145b946a1b54c5df271a5bfffeeebcc7...   \n",
       "2  6afe79b9f4fdd89ef117b33964a35df8d262022520527d...   \n",
       "3  03eb4b44f700ce1c1f1003737a0a92b863fe4d86f681db...   \n",
       "4  43ec632f75a8c9dc3afe904eacd7379a71a4c3a927f5c3...   \n",
       "5  7191b133dbebf2ddfc5e5aa732152994cb01decb35a607...   \n",
       "6  85b63a96f4c3d227569ec2470a2b571212f4e16346d848...   \n",
       "7  50187764c1f96c2f3057964b4ad9b0bf83859759d86a00...   \n",
       "8  69ac8b1dba6e547a200518816aafa9f26138374280e4a8...   \n",
       "9  748c8ef05ece862fbae8125b6997f461cd8732d42dc300...   \n",
       "\n",
       "                                      segment_2020Q1  \n",
       "0  C_Legacy_Active_H_P_Above50K_MultiFamilyOrCond...  \n",
       "1  C_Legacy_Active_H_P_Above50K_MultiFamilyOrCond...  \n",
       "2  C_Legacy_Active_H_P_Above50K_MultiFamilyOrCond...  \n",
       "3  C_Legacy_Active_H_P_Above50K_MultiFamilyOrCond...  \n",
       "4  C_Legacy_Active_H_P_Above50K_MultiFamilyOrCond...  \n",
       "5  C_Legacy_Active_H_P_Above50K_MultiFamilyOrCond...  \n",
       "6  C_Legacy_Active_H_P_Above50K_MultiFamilyOrCond...  \n",
       "7  C_Legacy_Active_H_P_Above50K_MultiFamilyOrCond...  \n",
       "8  C_Legacy_Active_H_P_Above50K_MultiFamilyOrCond...  \n",
       "9  C_Legacy_Active_H_P_Above50K_MultiFamilyOrCond...  "
      ]
     },
     "execution_count": 7,
     "metadata": {},
     "output_type": "execute_result"
    }
   ],
   "source": [
    "df_C=pd.DataFrame()\n",
    "for file in C_list:\n",
    "    df=pd.read_csv(file,dtype=str)\n",
    "    df_C=df_C.append(df)\n",
    "df_C.to_csv(\"./BL_consolidated_control_segment_RFM20Q1.csv\",index=False)\n",
    "\n",
    "df_qc=pd.read_csv(\"./BL_consolidated_control_segment_RFM20Q1.csv\",dtype=str,nrows=10)\n",
    "df_qc"
   ]
  },
  {
   "cell_type": "code",
   "execution_count": 8,
   "metadata": {},
   "outputs": [
    {
     "data": {
      "text/html": [
       "<div>\n",
       "<style scoped>\n",
       "    .dataframe tbody tr th:only-of-type {\n",
       "        vertical-align: middle;\n",
       "    }\n",
       "\n",
       "    .dataframe tbody tr th {\n",
       "        vertical-align: top;\n",
       "    }\n",
       "\n",
       "    .dataframe thead th {\n",
       "        text-align: right;\n",
       "    }\n",
       "</style>\n",
       "<table border=\"1\" class=\"dataframe\">\n",
       "  <thead>\n",
       "    <tr style=\"text-align: right;\">\n",
       "      <th></th>\n",
       "      <th>customer_id_hashed</th>\n",
       "      <th>email_address_hash</th>\n",
       "      <th>segment_2020Q1</th>\n",
       "    </tr>\n",
       "  </thead>\n",
       "  <tbody>\n",
       "    <tr>\n",
       "      <th>0</th>\n",
       "      <td>f68ce02330d03f94b2e93975fb3bd285f3d5a13dba52dc...</td>\n",
       "      <td>31273951dfe437775d15dde53e914b75f16d83f21f9433...</td>\n",
       "      <td>T_Legacy_Active_H_P_Above50K_MultiFamilyOrCond...</td>\n",
       "    </tr>\n",
       "    <tr>\n",
       "      <th>1</th>\n",
       "      <td>52654f3c1b0eebc123084740e81724fd5c355a1bf921c7...</td>\n",
       "      <td>c2ab5925b536dd4dbf66bf1a82393dd32ab11f5a1ee171...</td>\n",
       "      <td>T_Legacy_Active_H_P_Above50K_MultiFamilyOrCond...</td>\n",
       "    </tr>\n",
       "    <tr>\n",
       "      <th>2</th>\n",
       "      <td>86cf4fd5100ec792f228de5f97d91ffcedcc7dd0245747...</td>\n",
       "      <td>227da0c48f8808c1676def3b20b6c55933c4ae47e80192...</td>\n",
       "      <td>T_Legacy_Active_H_P_Above50K_MultiFamilyOrCond...</td>\n",
       "    </tr>\n",
       "    <tr>\n",
       "      <th>3</th>\n",
       "      <td>3bd946b6dba2b99ba3396829d982866046c91f028ce334...</td>\n",
       "      <td>14ed9d93bb18cfd192703cb1beba5ffca5844a10b614d0...</td>\n",
       "      <td>T_Legacy_Active_H_P_Above50K_MultiFamilyOrCond...</td>\n",
       "    </tr>\n",
       "    <tr>\n",
       "      <th>4</th>\n",
       "      <td>8e6c902edd08354ce9a5daeab4d40316abbe324610814c...</td>\n",
       "      <td>9161fdcb0eb8414e20c83202a5c74b71777afa855ebc09...</td>\n",
       "      <td>T_Legacy_Active_H_P_Above50K_MultiFamilyOrCond...</td>\n",
       "    </tr>\n",
       "    <tr>\n",
       "      <th>5</th>\n",
       "      <td>e4a1932ee36c36d12024a8ad0e6d39188e98d193cc2fd5...</td>\n",
       "      <td>5b508ebe8236e0b1b41775bec3ac055ccb1ea2682667be...</td>\n",
       "      <td>T_Legacy_Active_H_P_Above50K_MultiFamilyOrCond...</td>\n",
       "    </tr>\n",
       "    <tr>\n",
       "      <th>6</th>\n",
       "      <td>b5bad447504aa434247b34b2fab293d46ef2d4cc4aa116...</td>\n",
       "      <td>3195412d8c113b13d0cb35145e008b01c3eb01ee702e04...</td>\n",
       "      <td>T_Legacy_Active_H_P_Above50K_MultiFamilyOrCond...</td>\n",
       "    </tr>\n",
       "    <tr>\n",
       "      <th>7</th>\n",
       "      <td>f90d405e0589b0a89b5632e629a4966465a0d23fff5679...</td>\n",
       "      <td>9dcc8bf031441f797f19f059752071a33b6d2f2553e58c...</td>\n",
       "      <td>T_Legacy_Active_H_P_Above50K_MultiFamilyOrCond...</td>\n",
       "    </tr>\n",
       "    <tr>\n",
       "      <th>8</th>\n",
       "      <td>ef9e3d46c24278bf0931394482d51e36eeff4226820d3f...</td>\n",
       "      <td>7b52c669d5f5b75b9192ad759f6457c485a939ff2e2104...</td>\n",
       "      <td>T_Legacy_Active_H_P_Above50K_MultiFamilyOrCond...</td>\n",
       "    </tr>\n",
       "    <tr>\n",
       "      <th>9</th>\n",
       "      <td>c06a0aad760bc7a1e2d3c8b2bf99713481f85e70d22e29...</td>\n",
       "      <td>1211ab1534486ef23213a15ea364a05fa9caac92433871...</td>\n",
       "      <td>T_Legacy_Active_H_P_Above50K_MultiFamilyOrCond...</td>\n",
       "    </tr>\n",
       "  </tbody>\n",
       "</table>\n",
       "</div>"
      ],
      "text/plain": [
       "                                  customer_id_hashed  \\\n",
       "0  f68ce02330d03f94b2e93975fb3bd285f3d5a13dba52dc...   \n",
       "1  52654f3c1b0eebc123084740e81724fd5c355a1bf921c7...   \n",
       "2  86cf4fd5100ec792f228de5f97d91ffcedcc7dd0245747...   \n",
       "3  3bd946b6dba2b99ba3396829d982866046c91f028ce334...   \n",
       "4  8e6c902edd08354ce9a5daeab4d40316abbe324610814c...   \n",
       "5  e4a1932ee36c36d12024a8ad0e6d39188e98d193cc2fd5...   \n",
       "6  b5bad447504aa434247b34b2fab293d46ef2d4cc4aa116...   \n",
       "7  f90d405e0589b0a89b5632e629a4966465a0d23fff5679...   \n",
       "8  ef9e3d46c24278bf0931394482d51e36eeff4226820d3f...   \n",
       "9  c06a0aad760bc7a1e2d3c8b2bf99713481f85e70d22e29...   \n",
       "\n",
       "                                  email_address_hash  \\\n",
       "0  31273951dfe437775d15dde53e914b75f16d83f21f9433...   \n",
       "1  c2ab5925b536dd4dbf66bf1a82393dd32ab11f5a1ee171...   \n",
       "2  227da0c48f8808c1676def3b20b6c55933c4ae47e80192...   \n",
       "3  14ed9d93bb18cfd192703cb1beba5ffca5844a10b614d0...   \n",
       "4  9161fdcb0eb8414e20c83202a5c74b71777afa855ebc09...   \n",
       "5  5b508ebe8236e0b1b41775bec3ac055ccb1ea2682667be...   \n",
       "6  3195412d8c113b13d0cb35145e008b01c3eb01ee702e04...   \n",
       "7  9dcc8bf031441f797f19f059752071a33b6d2f2553e58c...   \n",
       "8  7b52c669d5f5b75b9192ad759f6457c485a939ff2e2104...   \n",
       "9  1211ab1534486ef23213a15ea364a05fa9caac92433871...   \n",
       "\n",
       "                                      segment_2020Q1  \n",
       "0  T_Legacy_Active_H_P_Above50K_MultiFamilyOrCond...  \n",
       "1  T_Legacy_Active_H_P_Above50K_MultiFamilyOrCond...  \n",
       "2  T_Legacy_Active_H_P_Above50K_MultiFamilyOrCond...  \n",
       "3  T_Legacy_Active_H_P_Above50K_MultiFamilyOrCond...  \n",
       "4  T_Legacy_Active_H_P_Above50K_MultiFamilyOrCond...  \n",
       "5  T_Legacy_Active_H_P_Above50K_MultiFamilyOrCond...  \n",
       "6  T_Legacy_Active_H_P_Above50K_MultiFamilyOrCond...  \n",
       "7  T_Legacy_Active_H_P_Above50K_MultiFamilyOrCond...  \n",
       "8  T_Legacy_Active_H_P_Above50K_MultiFamilyOrCond...  \n",
       "9  T_Legacy_Active_H_P_Above50K_MultiFamilyOrCond...  "
      ]
     },
     "execution_count": 8,
     "metadata": {},
     "output_type": "execute_result"
    }
   ],
   "source": [
    "df_T=pd.DataFrame()\n",
    "for file in T_list:\n",
    "    df=pd.read_csv(file,dtype=str)\n",
    "    df_T=df_T.append(df)\n",
    "df_T.to_csv(\"./BL_consolidated_test_segment_RFM20Q1.csv\",index=False)\n",
    "\n",
    "df_qc=pd.read_csv(\"./BL_consolidated_test_segment_RFM20Q1.csv\",dtype=str,nrows=10)\n",
    "df_qc"
   ]
  },
  {
   "cell_type": "code",
   "execution_count": 9,
   "metadata": {},
   "outputs": [
    {
     "data": {
      "text/plain": [
       "(17351682, 3)"
      ]
     },
     "execution_count": 9,
     "metadata": {},
     "output_type": "execute_result"
    }
   ],
   "source": [
    "df_T.shape"
   ]
  },
  {
   "cell_type": "code",
   "execution_count": 10,
   "metadata": {},
   "outputs": [
    {
     "data": {
      "text/plain": [
       "272"
      ]
     },
     "execution_count": 10,
     "metadata": {},
     "output_type": "execute_result"
    }
   ],
   "source": [
    "df_T['segment_2020Q1'].nunique()"
   ]
  },
  {
   "cell_type": "code",
   "execution_count": 11,
   "metadata": {},
   "outputs": [
    {
     "data": {
      "text/plain": [
       "True"
      ]
     },
     "execution_count": 11,
     "metadata": {},
     "output_type": "execute_result"
    }
   ],
   "source": [
    "df_T.columns.tolist()==df_C.columns.tolist()"
   ]
  },
  {
   "cell_type": "code",
   "execution_count": 12,
   "metadata": {},
   "outputs": [
    {
     "data": {
      "text/plain": [
       "['customer_id_hashed', 'email_address_hash', 'segment_2020Q1']"
      ]
     },
     "execution_count": 12,
     "metadata": {},
     "output_type": "execute_result"
    }
   ],
   "source": [
    "df_T.columns.tolist()"
   ]
  },
  {
   "cell_type": "code",
   "execution_count": 13,
   "metadata": {},
   "outputs": [
    {
     "name": "stdout",
     "output_type": "stream",
     "text": [
      "customer_id_hashed 17351682\n",
      "email_address_hash 17351682\n",
      "segment_2020Q1 272\n",
      "(17351682, 3)\n"
     ]
    }
   ],
   "source": [
    "for col in df_T.columns.tolist():\n",
    "    print(col,df_T[col].nunique())\n",
    "    \n",
    "print(df_T.shape)"
   ]
  },
  {
   "cell_type": "code",
   "execution_count": 14,
   "metadata": {},
   "outputs": [
    {
     "name": "stdout",
     "output_type": "stream",
     "text": [
      "customer_id_hashed 602714\n",
      "email_address_hash 602713\n",
      "segment_2020Q1 280\n",
      "(602714, 3)\n"
     ]
    }
   ],
   "source": [
    "for col in df_C.columns.tolist():\n",
    "    print(col,df_C[col].nunique())\n",
    "    \n",
    "print(df_C.shape)"
   ]
  },
  {
   "cell_type": "code",
   "execution_count": 19,
   "metadata": {},
   "outputs": [
    {
     "data": {
      "text/plain": [
       "[]"
      ]
     },
     "execution_count": 19,
     "metadata": {},
     "output_type": "execute_result"
    }
   ],
   "source": [
    "a=df_C['segment_2020Q1'].unique().tolist()\n",
    "[x for x in a if \"all\" in x]"
   ]
  },
  {
   "cell_type": "code",
   "execution_count": 20,
   "metadata": {},
   "outputs": [
    {
     "data": {
      "text/plain": [
       "['C_Legacy_Active_H_P_Above50K_MultiFamilyOrCondo_CompetitorsHigh_FurinitureHigh_RFM20Q1',\n",
       " 'C_Legacy_Active_H_P_Above50K_MultiFamilyOrCondo_CompetitorsHigh_FurinitureLow_RFM20Q1',\n",
       " 'C_Legacy_Active_H_P_Above50K_MultiFamilyOrCondo_CompetitorsLow_FurinitureHigh_RFM20Q1',\n",
       " 'C_Legacy_Active_H_P_Above50K_MultiFamilyOrCondo_CompetitorsLow_FurinitureLow_RFM20Q1',\n",
       " 'C_Legacy_Active_H_P_Above50K_SingleFamily_CompetitorsHigh_FurinitureHigh_RFM20Q1',\n",
       " 'C_Legacy_Active_H_P_Above50K_SingleFamily_CompetitorsHigh_FurinitureLow_RFM20Q1',\n",
       " 'C_Legacy_Active_H_P_Above50K_SingleFamily_CompetitorsLow_FurinitureHigh_RFM20Q1',\n",
       " 'C_Legacy_Active_H_P_Above50K_SingleFamily_CompetitorsLow_FurinitureLow_RFM20Q1',\n",
       " 'C_Legacy_Active_H_P_Below50K_MultiFamilyOrCondo_CompetitorsHigh_FurinitureHigh_RFM20Q1',\n",
       " 'C_Legacy_Active_H_P_Below50K_MultiFamilyOrCondo_CompetitorsHigh_FurinitureLow_RFM20Q1',\n",
       " 'C_Legacy_Active_H_P_Below50K_MultiFamilyOrCondo_CompetitorsLow_FurinitureHigh_RFM20Q1',\n",
       " 'C_Legacy_Active_H_P_Below50K_MultiFamilyOrCondo_CompetitorsLow_FurinitureLow_RFM20Q1',\n",
       " 'C_Legacy_Active_H_P_Below50K_SingleFamily_CompetitorsHigh_FurinitureHigh_RFM20Q1',\n",
       " 'C_Legacy_Active_H_P_Below50K_SingleFamily_CompetitorsHigh_FurinitureLow_RFM20Q1',\n",
       " 'C_Legacy_Active_H_P_Below50K_SingleFamily_CompetitorsLow_FurinitureHigh_RFM20Q1',\n",
       " 'C_Legacy_Active_H_P_Below50K_SingleFamily_CompetitorsLow_FurinitureLow_RFM20Q1',\n",
       " 'C_Legacy_Active_H_P_Unknown_Unknown_CompetitorsHigh_FurinitureHigh_RFM20Q1',\n",
       " 'C_Legacy_Active_H_P_Unknown_Unknown_CompetitorsHigh_FurinitureLow_RFM20Q1',\n",
       " 'C_Legacy_Active_H_P_Unknown_Unknown_CompetitorsLow_FurinitureHigh_RFM20Q1',\n",
       " 'C_Legacy_Active_H_P_Unknown_Unknown_CompetitorsLow_FurinitureLow_RFM20Q1',\n",
       " 'C_Legacy_Active_H_S_Above50K_MultiFamilyOrCondo_CompetitorsHigh_FurinitureHigh_RFM20Q1',\n",
       " 'C_Legacy_Active_H_S_Above50K_MultiFamilyOrCondo_CompetitorsHigh_FurinitureLow_RFM20Q1',\n",
       " 'C_Legacy_Active_H_S_Above50K_MultiFamilyOrCondo_CompetitorsLow_FurinitureHigh_RFM20Q1',\n",
       " 'C_Legacy_Active_H_S_Above50K_MultiFamilyOrCondo_CompetitorsLow_FurinitureLow_RFM20Q1',\n",
       " 'C_Legacy_Active_H_S_Above50K_SingleFamily_CompetitorsHigh_FurinitureHigh_RFM20Q1',\n",
       " 'C_Legacy_Active_H_S_Above50K_SingleFamily_CompetitorsHigh_FurinitureLow_RFM20Q1',\n",
       " 'C_Legacy_Active_H_S_Above50K_SingleFamily_CompetitorsLow_FurinitureHigh_RFM20Q1',\n",
       " 'C_Legacy_Active_H_S_Above50K_SingleFamily_CompetitorsLow_FurinitureLow_RFM20Q1',\n",
       " 'C_Legacy_Active_H_S_Below50K_MultiFamilyOrCondo_CompetitorsHigh_FurinitureHigh_RFM20Q1',\n",
       " 'C_Legacy_Active_H_S_Below50K_MultiFamilyOrCondo_CompetitorsHigh_FurinitureLow_RFM20Q1',\n",
       " 'C_Legacy_Active_H_S_Below50K_MultiFamilyOrCondo_CompetitorsLow_FurinitureHigh_RFM20Q1',\n",
       " 'C_Legacy_Active_H_S_Below50K_MultiFamilyOrCondo_CompetitorsLow_FurinitureLow_RFM20Q1',\n",
       " 'C_Legacy_Active_H_S_Below50K_SingleFamily_CompetitorsHigh_FurinitureHigh_RFM20Q1',\n",
       " 'C_Legacy_Active_H_S_Below50K_SingleFamily_CompetitorsHigh_FurinitureLow_RFM20Q1',\n",
       " 'C_Legacy_Active_H_S_Below50K_SingleFamily_CompetitorsLow_FurinitureHigh_RFM20Q1',\n",
       " 'C_Legacy_Active_H_S_Below50K_SingleFamily_CompetitorsLow_FurinitureLow_RFM20Q1',\n",
       " 'C_Legacy_Active_H_S_Unknown_Unknown_CompetitorsHigh_FurinitureHigh_RFM20Q1',\n",
       " 'C_Legacy_Active_H_S_Unknown_Unknown_CompetitorsHigh_FurinitureLow_RFM20Q1',\n",
       " 'C_Legacy_Active_H_S_Unknown_Unknown_CompetitorsLow_FurinitureHigh_RFM20Q1',\n",
       " 'C_Legacy_Active_H_S_Unknown_Unknown_CompetitorsLow_FurinitureLow_RFM20Q1',\n",
       " 'C_Legacy_Active_L_P_Above50K_MultiFamilyOrCondo_CompetitorsHigh_FurinitureHigh_RFM20Q1',\n",
       " 'C_Legacy_Active_L_P_Above50K_MultiFamilyOrCondo_CompetitorsHigh_FurinitureLow_RFM20Q1',\n",
       " 'C_Legacy_Active_L_P_Above50K_MultiFamilyOrCondo_CompetitorsLow_FurinitureHigh_RFM20Q1',\n",
       " 'C_Legacy_Active_L_P_Above50K_MultiFamilyOrCondo_CompetitorsLow_FurinitureLow_RFM20Q1',\n",
       " 'C_Legacy_Active_L_P_Above50K_SingleFamily_CompetitorsHigh_FurinitureHigh_RFM20Q1',\n",
       " 'C_Legacy_Active_L_P_Above50K_SingleFamily_CompetitorsHigh_FurinitureLow_RFM20Q1',\n",
       " 'C_Legacy_Active_L_P_Above50K_SingleFamily_CompetitorsLow_FurinitureHigh_RFM20Q1',\n",
       " 'C_Legacy_Active_L_P_Above50K_SingleFamily_CompetitorsLow_FurinitureLow_RFM20Q1',\n",
       " 'C_Legacy_Active_L_P_Below50K_MultiFamilyOrCondo_CompetitorsHigh_FurinitureHigh_RFM20Q1',\n",
       " 'C_Legacy_Active_L_P_Below50K_MultiFamilyOrCondo_CompetitorsHigh_FurinitureLow_RFM20Q1',\n",
       " 'C_Legacy_Active_L_P_Below50K_MultiFamilyOrCondo_CompetitorsLow_FurinitureHigh_RFM20Q1',\n",
       " 'C_Legacy_Active_L_P_Below50K_MultiFamilyOrCondo_CompetitorsLow_FurinitureLow_RFM20Q1',\n",
       " 'C_Legacy_Active_L_P_Below50K_SingleFamily_CompetitorsHigh_FurinitureHigh_RFM20Q1',\n",
       " 'C_Legacy_Active_L_P_Below50K_SingleFamily_CompetitorsHigh_FurinitureLow_RFM20Q1',\n",
       " 'C_Legacy_Active_L_P_Below50K_SingleFamily_CompetitorsLow_FurinitureHigh_RFM20Q1',\n",
       " 'C_Legacy_Active_L_P_Below50K_SingleFamily_CompetitorsLow_FurinitureLow_RFM20Q1',\n",
       " 'C_Legacy_Active_L_P_Unknown_Unknown_CompetitorsHigh_FurinitureHigh_RFM20Q1',\n",
       " 'C_Legacy_Active_L_P_Unknown_Unknown_CompetitorsHigh_FurinitureLow_RFM20Q1',\n",
       " 'C_Legacy_Active_L_P_Unknown_Unknown_CompetitorsLow_FurinitureHigh_RFM20Q1',\n",
       " 'C_Legacy_Active_L_P_Unknown_Unknown_CompetitorsLow_FurinitureLow_RFM20Q1',\n",
       " 'C_Legacy_Active_L_S_Above50K_MultiFamilyOrCondo_CompetitorsHigh_FurinitureHigh_RFM20Q1',\n",
       " 'C_Legacy_Active_L_S_Above50K_MultiFamilyOrCondo_CompetitorsHigh_FurinitureLow_RFM20Q1',\n",
       " 'C_Legacy_Active_L_S_Above50K_MultiFamilyOrCondo_CompetitorsLow_FurinitureHigh_RFM20Q1',\n",
       " 'C_Legacy_Active_L_S_Above50K_MultiFamilyOrCondo_CompetitorsLow_FurinitureLow_RFM20Q1',\n",
       " 'C_Legacy_Active_L_S_Above50K_SingleFamily_CompetitorsHigh_FurinitureHigh_RFM20Q1',\n",
       " 'C_Legacy_Active_L_S_Above50K_SingleFamily_CompetitorsHigh_FurinitureLow_RFM20Q1',\n",
       " 'C_Legacy_Active_L_S_Above50K_SingleFamily_CompetitorsLow_FurinitureHigh_RFM20Q1',\n",
       " 'C_Legacy_Active_L_S_Above50K_SingleFamily_CompetitorsLow_FurinitureLow_RFM20Q1',\n",
       " 'C_Legacy_Active_L_S_Below50K_MultiFamilyOrCondo_CompetitorsHigh_FurinitureHigh_RFM20Q1',\n",
       " 'C_Legacy_Active_L_S_Below50K_MultiFamilyOrCondo_CompetitorsHigh_FurinitureLow_RFM20Q1',\n",
       " 'C_Legacy_Active_L_S_Below50K_MultiFamilyOrCondo_CompetitorsLow_FurinitureHigh_RFM20Q1',\n",
       " 'C_Legacy_Active_L_S_Below50K_MultiFamilyOrCondo_CompetitorsLow_FurinitureLow_RFM20Q1',\n",
       " 'C_Legacy_Active_L_S_Below50K_SingleFamily_CompetitorsHigh_FurinitureHigh_RFM20Q1',\n",
       " 'C_Legacy_Active_L_S_Below50K_SingleFamily_CompetitorsHigh_FurinitureLow_RFM20Q1',\n",
       " 'C_Legacy_Active_L_S_Below50K_SingleFamily_CompetitorsLow_FurinitureHigh_RFM20Q1',\n",
       " 'C_Legacy_Active_L_S_Below50K_SingleFamily_CompetitorsLow_FurinitureLow_RFM20Q1',\n",
       " 'C_Legacy_Active_L_S_Unknown_Unknown_CompetitorsHigh_FurinitureHigh_RFM20Q1',\n",
       " 'C_Legacy_Active_L_S_Unknown_Unknown_CompetitorsHigh_FurinitureLow_RFM20Q1',\n",
       " 'C_Legacy_Active_L_S_Unknown_Unknown_CompetitorsLow_FurinitureHigh_RFM20Q1',\n",
       " 'C_Legacy_Active_L_S_Unknown_Unknown_CompetitorsLow_FurinitureLow_RFM20Q1',\n",
       " 'C_Legacy_Active_M_P_Above50K_MultiFamilyOrCondo_CompetitorsHigh_FurinitureHigh_RFM20Q1',\n",
       " 'C_Legacy_Active_M_P_Above50K_MultiFamilyOrCondo_CompetitorsHigh_FurinitureLow_RFM20Q1',\n",
       " 'C_Legacy_Active_M_P_Above50K_MultiFamilyOrCondo_CompetitorsLow_FurinitureHigh_RFM20Q1',\n",
       " 'C_Legacy_Active_M_P_Above50K_MultiFamilyOrCondo_CompetitorsLow_FurinitureLow_RFM20Q1',\n",
       " 'C_Legacy_Active_M_P_Above50K_SingleFamily_CompetitorsHigh_FurinitureHigh_RFM20Q1',\n",
       " 'C_Legacy_Active_M_P_Above50K_SingleFamily_CompetitorsHigh_FurinitureLow_RFM20Q1',\n",
       " 'C_Legacy_Active_M_P_Above50K_SingleFamily_CompetitorsLow_FurinitureHigh_RFM20Q1',\n",
       " 'C_Legacy_Active_M_P_Above50K_SingleFamily_CompetitorsLow_FurinitureLow_RFM20Q1',\n",
       " 'C_Legacy_Active_M_P_Below50K_MultiFamilyOrCondo_CompetitorsHigh_FurinitureHigh_RFM20Q1',\n",
       " 'C_Legacy_Active_M_P_Below50K_MultiFamilyOrCondo_CompetitorsHigh_FurinitureLow_RFM20Q1',\n",
       " 'C_Legacy_Active_M_P_Below50K_MultiFamilyOrCondo_CompetitorsLow_FurinitureHigh_RFM20Q1',\n",
       " 'C_Legacy_Active_M_P_Below50K_MultiFamilyOrCondo_CompetitorsLow_FurinitureLow_RFM20Q1',\n",
       " 'C_Legacy_Active_M_P_Below50K_SingleFamily_CompetitorsHigh_FurinitureHigh_RFM20Q1',\n",
       " 'C_Legacy_Active_M_P_Below50K_SingleFamily_CompetitorsHigh_FurinitureLow_RFM20Q1',\n",
       " 'C_Legacy_Active_M_P_Below50K_SingleFamily_CompetitorsLow_FurinitureHigh_RFM20Q1',\n",
       " 'C_Legacy_Active_M_P_Below50K_SingleFamily_CompetitorsLow_FurinitureLow_RFM20Q1',\n",
       " 'C_Legacy_Active_M_P_Unknown_Unknown_CompetitorsHigh_FurinitureHigh_RFM20Q1',\n",
       " 'C_Legacy_Active_M_P_Unknown_Unknown_CompetitorsHigh_FurinitureLow_RFM20Q1',\n",
       " 'C_Legacy_Active_M_P_Unknown_Unknown_CompetitorsLow_FurinitureHigh_RFM20Q1',\n",
       " 'C_Legacy_Active_M_P_Unknown_Unknown_CompetitorsLow_FurinitureLow_RFM20Q1',\n",
       " 'C_Legacy_Active_M_S_Above50K_MultiFamilyOrCondo_CompetitorsHigh_FurinitureHigh_RFM20Q1',\n",
       " 'C_Legacy_Active_M_S_Above50K_MultiFamilyOrCondo_CompetitorsHigh_FurinitureLow_RFM20Q1',\n",
       " 'C_Legacy_Active_M_S_Above50K_MultiFamilyOrCondo_CompetitorsLow_FurinitureHigh_RFM20Q1',\n",
       " 'C_Legacy_Active_M_S_Above50K_MultiFamilyOrCondo_CompetitorsLow_FurinitureLow_RFM20Q1',\n",
       " 'C_Legacy_Active_M_S_Above50K_SingleFamily_CompetitorsHigh_FurinitureHigh_RFM20Q1',\n",
       " 'C_Legacy_Active_M_S_Above50K_SingleFamily_CompetitorsHigh_FurinitureLow_RFM20Q1',\n",
       " 'C_Legacy_Active_M_S_Above50K_SingleFamily_CompetitorsLow_FurinitureHigh_RFM20Q1',\n",
       " 'C_Legacy_Active_M_S_Above50K_SingleFamily_CompetitorsLow_FurinitureLow_RFM20Q1',\n",
       " 'C_Legacy_Active_M_S_Below50K_MultiFamilyOrCondo_CompetitorsHigh_FurinitureHigh_RFM20Q1',\n",
       " 'C_Legacy_Active_M_S_Below50K_MultiFamilyOrCondo_CompetitorsHigh_FurinitureLow_RFM20Q1',\n",
       " 'C_Legacy_Active_M_S_Below50K_MultiFamilyOrCondo_CompetitorsLow_FurinitureHigh_RFM20Q1',\n",
       " 'C_Legacy_Active_M_S_Below50K_MultiFamilyOrCondo_CompetitorsLow_FurinitureLow_RFM20Q1',\n",
       " 'C_Legacy_Active_M_S_Below50K_SingleFamily_CompetitorsHigh_FurinitureHigh_RFM20Q1',\n",
       " 'C_Legacy_Active_M_S_Below50K_SingleFamily_CompetitorsHigh_FurinitureLow_RFM20Q1',\n",
       " 'C_Legacy_Active_M_S_Below50K_SingleFamily_CompetitorsLow_FurinitureHigh_RFM20Q1',\n",
       " 'C_Legacy_Active_M_S_Below50K_SingleFamily_CompetitorsLow_FurinitureLow_RFM20Q1',\n",
       " 'C_Legacy_Active_M_S_Unknown_Unknown_CompetitorsHigh_FurinitureHigh_RFM20Q1',\n",
       " 'C_Legacy_Active_M_S_Unknown_Unknown_CompetitorsHigh_FurinitureLow_RFM20Q1',\n",
       " 'C_Legacy_Active_M_S_Unknown_Unknown_CompetitorsLow_FurinitureHigh_RFM20Q1',\n",
       " 'C_Legacy_Active_M_S_Unknown_Unknown_CompetitorsLow_FurinitureLow_RFM20Q1',\n",
       " 'C_Legacy_Lapsed1318_L_P_Above50K_MultiFamilyOrCondo_CompetitorsHigh_FurinitureHigh_RFM20Q1',\n",
       " 'C_Legacy_Lapsed1318_L_P_Above50K_MultiFamilyOrCondo_CompetitorsHigh_FurinitureLow_RFM20Q1',\n",
       " 'C_Legacy_Lapsed1318_L_P_Above50K_MultiFamilyOrCondo_CompetitorsLow_FurinitureHigh_RFM20Q1',\n",
       " 'C_Legacy_Lapsed1318_L_P_Above50K_MultiFamilyOrCondo_CompetitorsLow_FurinitureLow_RFM20Q1',\n",
       " 'C_Legacy_Lapsed1318_L_P_Above50K_SingleFamily_CompetitorsHigh_FurinitureHigh_RFM20Q1',\n",
       " 'C_Legacy_Lapsed1318_L_P_Above50K_SingleFamily_CompetitorsHigh_FurinitureLow_RFM20Q1',\n",
       " 'C_Legacy_Lapsed1318_L_P_Above50K_SingleFamily_CompetitorsLow_FurinitureHigh_RFM20Q1',\n",
       " 'C_Legacy_Lapsed1318_L_P_Above50K_SingleFamily_CompetitorsLow_FurinitureLow_RFM20Q1',\n",
       " 'C_Legacy_Lapsed1318_L_P_Below50K_MultiFamilyOrCondo_CompetitorsHigh_FurinitureHigh_RFM20Q1',\n",
       " 'C_Legacy_Lapsed1318_L_P_Below50K_MultiFamilyOrCondo_CompetitorsHigh_FurinitureLow_RFM20Q1',\n",
       " 'C_Legacy_Lapsed1318_L_P_Below50K_MultiFamilyOrCondo_CompetitorsLow_FurinitureHigh_RFM20Q1',\n",
       " 'C_Legacy_Lapsed1318_L_P_Below50K_MultiFamilyOrCondo_CompetitorsLow_FurinitureLow_RFM20Q1',\n",
       " 'C_Legacy_Lapsed1318_L_P_Below50K_SingleFamily_CompetitorsHigh_FurinitureHigh_RFM20Q1',\n",
       " 'C_Legacy_Lapsed1318_L_P_Below50K_SingleFamily_CompetitorsHigh_FurinitureLow_RFM20Q1',\n",
       " 'C_Legacy_Lapsed1318_L_P_Below50K_SingleFamily_CompetitorsLow_FurinitureHigh_RFM20Q1',\n",
       " 'C_Legacy_Lapsed1318_L_P_Below50K_SingleFamily_CompetitorsLow_FurinitureLow_RFM20Q1',\n",
       " 'C_Legacy_Lapsed1318_L_P_Unknown_Unknown_CompetitorsHigh_FurinitureHigh_RFM20Q1',\n",
       " 'C_Legacy_Lapsed1318_L_S_Above50K_MultiFamilyOrCondo_CompetitorsHigh_FurinitureHigh_RFM20Q1',\n",
       " 'C_Legacy_Lapsed1318_L_S_Above50K_MultiFamilyOrCondo_CompetitorsHigh_FurinitureLow_RFM20Q1',\n",
       " 'C_Legacy_Lapsed1318_L_S_Above50K_MultiFamilyOrCondo_CompetitorsLow_FurinitureHigh_RFM20Q1',\n",
       " 'C_Legacy_Lapsed1318_L_S_Above50K_MultiFamilyOrCondo_CompetitorsLow_FurinitureLow_RFM20Q1',\n",
       " 'C_Legacy_Lapsed1318_L_S_Above50K_SingleFamily_CompetitorsHigh_FurinitureHigh_RFM20Q1',\n",
       " 'C_Legacy_Lapsed1318_L_S_Above50K_SingleFamily_CompetitorsHigh_FurinitureLow_RFM20Q1',\n",
       " 'C_Legacy_Lapsed1318_L_S_Above50K_SingleFamily_CompetitorsLow_FurinitureHigh_RFM20Q1',\n",
       " 'C_Legacy_Lapsed1318_L_S_Above50K_SingleFamily_CompetitorsLow_FurinitureLow_RFM20Q1',\n",
       " 'C_Legacy_Lapsed1318_L_S_Below50K_MultiFamilyOrCondo_CompetitorsHigh_FurinitureHigh_RFM20Q1',\n",
       " 'C_Legacy_Lapsed1318_L_S_Below50K_MultiFamilyOrCondo_CompetitorsHigh_FurinitureLow_RFM20Q1',\n",
       " 'C_Legacy_Lapsed1318_L_S_Below50K_MultiFamilyOrCondo_CompetitorsLow_FurinitureHigh_RFM20Q1',\n",
       " 'C_Legacy_Lapsed1318_L_S_Below50K_MultiFamilyOrCondo_CompetitorsLow_FurinitureLow_RFM20Q1',\n",
       " 'C_Legacy_Lapsed1318_L_S_Below50K_SingleFamily_CompetitorsHigh_FurinitureHigh_RFM20Q1',\n",
       " 'C_Legacy_Lapsed1318_L_S_Below50K_SingleFamily_CompetitorsHigh_FurinitureLow_RFM20Q1',\n",
       " 'C_Legacy_Lapsed1318_L_S_Below50K_SingleFamily_CompetitorsLow_FurinitureHigh_RFM20Q1',\n",
       " 'C_Legacy_Lapsed1318_L_S_Below50K_SingleFamily_CompetitorsLow_FurinitureLow_RFM20Q1',\n",
       " 'C_OthersAggregated_RFM20Q1',\n",
       " 'C_SOTF_Active_H_P_Above50K_MultiFamilyOrCondo_CompetitorsHigh_FurinitureHigh_RFM20Q1',\n",
       " 'C_SOTF_Active_H_P_Above50K_MultiFamilyOrCondo_CompetitorsHigh_FurinitureLow_RFM20Q1',\n",
       " 'C_SOTF_Active_H_P_Above50K_MultiFamilyOrCondo_CompetitorsLow_FurinitureHigh_RFM20Q1',\n",
       " 'C_SOTF_Active_H_P_Above50K_MultiFamilyOrCondo_CompetitorsLow_FurinitureLow_RFM20Q1',\n",
       " 'C_SOTF_Active_H_P_Above50K_SingleFamily_CompetitorsHigh_FurinitureHigh_RFM20Q1',\n",
       " 'C_SOTF_Active_H_P_Above50K_SingleFamily_CompetitorsHigh_FurinitureLow_RFM20Q1',\n",
       " 'C_SOTF_Active_H_P_Above50K_SingleFamily_CompetitorsLow_FurinitureHigh_RFM20Q1',\n",
       " 'C_SOTF_Active_H_P_Above50K_SingleFamily_CompetitorsLow_FurinitureLow_RFM20Q1',\n",
       " 'C_SOTF_Active_H_P_Below50K_MultiFamilyOrCondo_CompetitorsHigh_FurinitureHigh_RFM20Q1',\n",
       " 'C_SOTF_Active_H_P_Below50K_MultiFamilyOrCondo_CompetitorsHigh_FurinitureLow_RFM20Q1',\n",
       " 'C_SOTF_Active_H_P_Below50K_MultiFamilyOrCondo_CompetitorsLow_FurinitureHigh_RFM20Q1',\n",
       " 'C_SOTF_Active_H_P_Below50K_MultiFamilyOrCondo_CompetitorsLow_FurinitureLow_RFM20Q1',\n",
       " 'C_SOTF_Active_H_P_Below50K_SingleFamily_CompetitorsHigh_FurinitureHigh_RFM20Q1',\n",
       " 'C_SOTF_Active_H_P_Below50K_SingleFamily_CompetitorsHigh_FurinitureLow_RFM20Q1',\n",
       " 'C_SOTF_Active_H_P_Below50K_SingleFamily_CompetitorsLow_FurinitureHigh_RFM20Q1',\n",
       " 'C_SOTF_Active_H_P_Below50K_SingleFamily_CompetitorsLow_FurinitureLow_RFM20Q1',\n",
       " 'C_SOTF_Active_H_P_Unknown_Unknown_CompetitorsHigh_FurinitureHigh_RFM20Q1',\n",
       " 'C_SOTF_Active_H_P_Unknown_Unknown_CompetitorsHigh_FurinitureLow_RFM20Q1',\n",
       " 'C_SOTF_Active_H_P_Unknown_Unknown_CompetitorsLow_FurinitureHigh_RFM20Q1',\n",
       " 'C_SOTF_Active_H_P_Unknown_Unknown_CompetitorsLow_FurinitureLow_RFM20Q1',\n",
       " 'C_SOTF_Active_H_S_Above50K_MultiFamilyOrCondo_CompetitorsHigh_FurinitureHigh_RFM20Q1',\n",
       " 'C_SOTF_Active_H_S_Above50K_MultiFamilyOrCondo_CompetitorsHigh_FurinitureLow_RFM20Q1',\n",
       " 'C_SOTF_Active_H_S_Above50K_MultiFamilyOrCondo_CompetitorsLow_FurinitureHigh_RFM20Q1',\n",
       " 'C_SOTF_Active_H_S_Above50K_MultiFamilyOrCondo_CompetitorsLow_FurinitureLow_RFM20Q1',\n",
       " 'C_SOTF_Active_H_S_Above50K_SingleFamily_CompetitorsHigh_FurinitureHigh_RFM20Q1',\n",
       " 'C_SOTF_Active_H_S_Above50K_SingleFamily_CompetitorsHigh_FurinitureLow_RFM20Q1',\n",
       " 'C_SOTF_Active_H_S_Above50K_SingleFamily_CompetitorsLow_FurinitureHigh_RFM20Q1',\n",
       " 'C_SOTF_Active_H_S_Above50K_SingleFamily_CompetitorsLow_FurinitureLow_RFM20Q1',\n",
       " 'C_SOTF_Active_H_S_Below50K_MultiFamilyOrCondo_CompetitorsHigh_FurinitureHigh_RFM20Q1',\n",
       " 'C_SOTF_Active_H_S_Below50K_MultiFamilyOrCondo_CompetitorsLow_FurinitureHigh_RFM20Q1',\n",
       " 'C_SOTF_Active_H_S_Below50K_SingleFamily_CompetitorsHigh_FurinitureHigh_RFM20Q1',\n",
       " 'C_SOTF_Active_H_S_Below50K_SingleFamily_CompetitorsHigh_FurinitureLow_RFM20Q1',\n",
       " 'C_SOTF_Active_H_S_Below50K_SingleFamily_CompetitorsLow_FurinitureHigh_RFM20Q1',\n",
       " 'C_SOTF_Active_H_S_Below50K_SingleFamily_CompetitorsLow_FurinitureLow_RFM20Q1',\n",
       " 'C_SOTF_Active_H_S_Unknown_Unknown_CompetitorsHigh_FurinitureHigh_RFM20Q1',\n",
       " 'C_SOTF_Active_H_S_Unknown_Unknown_CompetitorsHigh_FurinitureLow_RFM20Q1',\n",
       " 'C_SOTF_Active_H_S_Unknown_Unknown_CompetitorsLow_FurinitureHigh_RFM20Q1',\n",
       " 'C_SOTF_Active_H_S_Unknown_Unknown_CompetitorsLow_FurinitureLow_RFM20Q1',\n",
       " 'C_SOTF_Active_L_P_Above50K_MultiFamilyOrCondo_CompetitorsHigh_FurinitureHigh_RFM20Q1',\n",
       " 'C_SOTF_Active_L_P_Above50K_SingleFamily_CompetitorsHigh_FurinitureHigh_RFM20Q1',\n",
       " 'C_SOTF_Active_L_P_Above50K_SingleFamily_CompetitorsHigh_FurinitureLow_RFM20Q1',\n",
       " 'C_SOTF_Active_L_P_Above50K_SingleFamily_CompetitorsLow_FurinitureHigh_RFM20Q1',\n",
       " 'C_SOTF_Active_L_P_Above50K_SingleFamily_CompetitorsLow_FurinitureLow_RFM20Q1',\n",
       " 'C_SOTF_Active_L_P_Below50K_MultiFamilyOrCondo_CompetitorsHigh_FurinitureHigh_RFM20Q1',\n",
       " 'C_SOTF_Active_L_P_Below50K_MultiFamilyOrCondo_CompetitorsLow_FurinitureHigh_RFM20Q1',\n",
       " 'C_SOTF_Active_L_P_Below50K_SingleFamily_CompetitorsHigh_FurinitureHigh_RFM20Q1',\n",
       " 'C_SOTF_Active_L_P_Below50K_SingleFamily_CompetitorsHigh_FurinitureLow_RFM20Q1',\n",
       " 'C_SOTF_Active_L_P_Below50K_SingleFamily_CompetitorsLow_FurinitureHigh_RFM20Q1',\n",
       " 'C_SOTF_Active_L_P_Unknown_Unknown_CompetitorsHigh_FurinitureHigh_RFM20Q1',\n",
       " 'C_SOTF_Active_L_P_Unknown_Unknown_CompetitorsHigh_FurinitureLow_RFM20Q1',\n",
       " 'C_SOTF_Active_L_P_Unknown_Unknown_CompetitorsLow_FurinitureHigh_RFM20Q1',\n",
       " 'C_SOTF_Active_L_P_Unknown_Unknown_CompetitorsLow_FurinitureLow_RFM20Q1',\n",
       " 'C_SOTF_Active_L_S_Above50K_MultiFamilyOrCondo_CompetitorsHigh_FurinitureHigh_RFM20Q1',\n",
       " 'C_SOTF_Active_L_S_Above50K_SingleFamily_CompetitorsHigh_FurinitureHigh_RFM20Q1',\n",
       " 'C_SOTF_Active_L_S_Above50K_SingleFamily_CompetitorsHigh_FurinitureLow_RFM20Q1',\n",
       " 'C_SOTF_Active_L_S_Above50K_SingleFamily_CompetitorsLow_FurinitureHigh_RFM20Q1',\n",
       " 'C_SOTF_Active_L_S_Above50K_SingleFamily_CompetitorsLow_FurinitureLow_RFM20Q1',\n",
       " 'C_SOTF_Active_L_S_Below50K_MultiFamilyOrCondo_CompetitorsHigh_FurinitureHigh_RFM20Q1',\n",
       " 'C_SOTF_Active_L_S_Below50K_SingleFamily_CompetitorsHigh_FurinitureHigh_RFM20Q1',\n",
       " 'C_SOTF_Active_L_S_Below50K_SingleFamily_CompetitorsLow_FurinitureHigh_RFM20Q1',\n",
       " 'C_SOTF_Active_L_S_Unknown_Unknown_CompetitorsHigh_FurinitureHigh_RFM20Q1',\n",
       " 'C_SOTF_Active_L_S_Unknown_Unknown_CompetitorsHigh_FurinitureLow_RFM20Q1',\n",
       " 'C_SOTF_Active_L_S_Unknown_Unknown_CompetitorsLow_FurinitureHigh_RFM20Q1',\n",
       " 'C_SOTF_Active_M_P_Above50K_MultiFamilyOrCondo_CompetitorsHigh_FurinitureHigh_RFM20Q1',\n",
       " 'C_SOTF_Active_M_P_Above50K_MultiFamilyOrCondo_CompetitorsHigh_FurinitureLow_RFM20Q1',\n",
       " 'C_SOTF_Active_M_P_Above50K_MultiFamilyOrCondo_CompetitorsLow_FurinitureHigh_RFM20Q1',\n",
       " 'C_SOTF_Active_M_P_Above50K_MultiFamilyOrCondo_CompetitorsLow_FurinitureLow_RFM20Q1',\n",
       " 'C_SOTF_Active_M_P_Above50K_SingleFamily_CompetitorsHigh_FurinitureHigh_RFM20Q1',\n",
       " 'C_SOTF_Active_M_P_Above50K_SingleFamily_CompetitorsHigh_FurinitureLow_RFM20Q1',\n",
       " 'C_SOTF_Active_M_P_Above50K_SingleFamily_CompetitorsLow_FurinitureHigh_RFM20Q1',\n",
       " 'C_SOTF_Active_M_P_Above50K_SingleFamily_CompetitorsLow_FurinitureLow_RFM20Q1',\n",
       " 'C_SOTF_Active_M_P_Below50K_MultiFamilyOrCondo_CompetitorsHigh_FurinitureHigh_RFM20Q1',\n",
       " 'C_SOTF_Active_M_P_Below50K_MultiFamilyOrCondo_CompetitorsHigh_FurinitureLow_RFM20Q1',\n",
       " 'C_SOTF_Active_M_P_Below50K_MultiFamilyOrCondo_CompetitorsLow_FurinitureHigh_RFM20Q1',\n",
       " 'C_SOTF_Active_M_P_Below50K_SingleFamily_CompetitorsHigh_FurinitureHigh_RFM20Q1',\n",
       " 'C_SOTF_Active_M_P_Below50K_SingleFamily_CompetitorsHigh_FurinitureLow_RFM20Q1',\n",
       " 'C_SOTF_Active_M_P_Below50K_SingleFamily_CompetitorsLow_FurinitureHigh_RFM20Q1',\n",
       " 'C_SOTF_Active_M_P_Below50K_SingleFamily_CompetitorsLow_FurinitureLow_RFM20Q1',\n",
       " 'C_SOTF_Active_M_P_Unknown_Unknown_CompetitorsHigh_FurinitureHigh_RFM20Q1',\n",
       " 'C_SOTF_Active_M_P_Unknown_Unknown_CompetitorsHigh_FurinitureLow_RFM20Q1',\n",
       " 'C_SOTF_Active_M_P_Unknown_Unknown_CompetitorsLow_FurinitureHigh_RFM20Q1',\n",
       " 'C_SOTF_Active_M_P_Unknown_Unknown_CompetitorsLow_FurinitureLow_RFM20Q1',\n",
       " 'C_SOTF_Active_M_S_Above50K_MultiFamilyOrCondo_CompetitorsHigh_FurinitureHigh_RFM20Q1',\n",
       " 'C_SOTF_Active_M_S_Above50K_SingleFamily_CompetitorsHigh_FurinitureHigh_RFM20Q1',\n",
       " 'C_SOTF_Active_M_S_Above50K_SingleFamily_CompetitorsHigh_FurinitureLow_RFM20Q1',\n",
       " 'C_SOTF_Active_M_S_Above50K_SingleFamily_CompetitorsLow_FurinitureHigh_RFM20Q1',\n",
       " 'C_SOTF_Active_M_S_Above50K_SingleFamily_CompetitorsLow_FurinitureLow_RFM20Q1',\n",
       " 'C_SOTF_Active_M_S_Below50K_MultiFamilyOrCondo_CompetitorsHigh_FurinitureHigh_RFM20Q1',\n",
       " 'C_SOTF_Active_M_S_Below50K_MultiFamilyOrCondo_CompetitorsLow_FurinitureHigh_RFM20Q1',\n",
       " 'C_SOTF_Active_M_S_Below50K_SingleFamily_CompetitorsHigh_FurinitureHigh_RFM20Q1',\n",
       " 'C_SOTF_Active_M_S_Below50K_SingleFamily_CompetitorsLow_FurinitureHigh_RFM20Q1',\n",
       " 'C_SOTF_Active_M_S_Unknown_Unknown_CompetitorsHigh_FurinitureHigh_RFM20Q1',\n",
       " 'C_SOTF_Active_M_S_Unknown_Unknown_CompetitorsHigh_FurinitureLow_RFM20Q1',\n",
       " 'C_SOTF_Active_M_S_Unknown_Unknown_CompetitorsLow_FurinitureHigh_RFM20Q1',\n",
       " 'C_SOTF_Active_M_S_Unknown_Unknown_CompetitorsLow_FurinitureLow_RFM20Q1',\n",
       " 'C_SOTF_Lapsed1318_L_P_Above50K_MultiFamilyOrCondo_CompetitorsHigh_FurinitureHigh_RFM20Q1',\n",
       " 'C_SOTF_Lapsed1318_L_P_Above50K_MultiFamilyOrCondo_CompetitorsHigh_FurinitureLow_RFM20Q1',\n",
       " 'C_SOTF_Lapsed1318_L_P_Above50K_MultiFamilyOrCondo_CompetitorsLow_FurinitureHigh_RFM20Q1',\n",
       " 'C_SOTF_Lapsed1318_L_P_Above50K_MultiFamilyOrCondo_CompetitorsLow_FurinitureLow_RFM20Q1',\n",
       " 'C_SOTF_Lapsed1318_L_P_Above50K_SingleFamily_CompetitorsHigh_FurinitureHigh_RFM20Q1',\n",
       " 'C_SOTF_Lapsed1318_L_P_Above50K_SingleFamily_CompetitorsHigh_FurinitureLow_RFM20Q1',\n",
       " 'C_SOTF_Lapsed1318_L_P_Above50K_SingleFamily_CompetitorsLow_FurinitureHigh_RFM20Q1',\n",
       " 'C_SOTF_Lapsed1318_L_P_Above50K_SingleFamily_CompetitorsLow_FurinitureLow_RFM20Q1',\n",
       " 'C_SOTF_Lapsed1318_L_P_Below50K_MultiFamilyOrCondo_CompetitorsHigh_FurinitureHigh_RFM20Q1',\n",
       " 'C_SOTF_Lapsed1318_L_P_Below50K_MultiFamilyOrCondo_CompetitorsHigh_FurinitureLow_RFM20Q1',\n",
       " 'C_SOTF_Lapsed1318_L_P_Below50K_MultiFamilyOrCondo_CompetitorsLow_FurinitureHigh_RFM20Q1',\n",
       " 'C_SOTF_Lapsed1318_L_P_Below50K_SingleFamily_CompetitorsHigh_FurinitureHigh_RFM20Q1',\n",
       " 'C_SOTF_Lapsed1318_L_P_Below50K_SingleFamily_CompetitorsHigh_FurinitureLow_RFM20Q1',\n",
       " 'C_SOTF_Lapsed1318_L_P_Below50K_SingleFamily_CompetitorsLow_FurinitureHigh_RFM20Q1',\n",
       " 'C_SOTF_Lapsed1318_L_P_Below50K_SingleFamily_CompetitorsLow_FurinitureLow_RFM20Q1',\n",
       " 'C_SOTF_Lapsed1318_L_S_Above50K_MultiFamilyOrCondo_CompetitorsHigh_FurinitureHigh_RFM20Q1',\n",
       " 'C_SOTF_Lapsed1318_L_S_Above50K_SingleFamily_CompetitorsHigh_FurinitureHigh_RFM20Q1',\n",
       " 'C_SOTF_Lapsed1318_L_S_Above50K_SingleFamily_CompetitorsHigh_FurinitureLow_RFM20Q1',\n",
       " 'C_SOTF_Lapsed1318_L_S_Above50K_SingleFamily_CompetitorsLow_FurinitureHigh_RFM20Q1',\n",
       " 'C_SOTF_Lapsed1318_L_S_Above50K_SingleFamily_CompetitorsLow_FurinitureLow_RFM20Q1',\n",
       " 'C_SOTF_Lapsed1318_L_S_Below50K_MultiFamilyOrCondo_CompetitorsHigh_FurinitureHigh_RFM20Q1',\n",
       " 'C_SOTF_Lapsed1318_L_S_Below50K_SingleFamily_CompetitorsHigh_FurinitureHigh_RFM20Q1',\n",
       " 'C_SOTF_Lapsed1318_L_S_Below50K_SingleFamily_CompetitorsLow_FurinitureHigh_RFM20Q1',\n",
       " 'C_Legacy_Lapsed1948_NA_P_NA_NA_CompetitorsHigh_FurinitureHigh_RFM20Q1',\n",
       " 'C_Legacy_Lapsed1948_NA_P_NA_NA_CompetitorsHigh_FurinitureLow_RFM20Q1',\n",
       " 'C_Legacy_Lapsed1948_NA_P_NA_NA_CompetitorsLow_FurinitureHigh_RFM20Q1',\n",
       " 'C_Legacy_Lapsed1948_NA_P_NA_NA_CompetitorsLow_FurinitureLow_RFM20Q1',\n",
       " 'C_SOTF_Lapsed1948_NA_P_NA_NA_CompetitorsHigh_FurinitureHigh_RFM20Q1',\n",
       " 'C_SOTF_Lapsed1948_NA_P_NA_NA_CompetitorsHigh_FurinitureLow_RFM20Q1',\n",
       " 'C_SOTF_Lapsed1948_NA_P_NA_NA_CompetitorsLow_FurinitureHigh_RFM20Q1',\n",
       " 'C_SOTF_Lapsed1948_NA_P_NA_NA_CompetitorsLow_FurinitureLow_RFM20Q1']"
      ]
     },
     "execution_count": 20,
     "metadata": {},
     "output_type": "execute_result"
    }
   ],
   "source": [
    "a"
   ]
  },
  {
   "cell_type": "code",
   "execution_count": null,
   "metadata": {},
   "outputs": [],
   "source": []
  }
 ],
 "metadata": {
  "kernelspec": {
   "display_name": "Python 3",
   "language": "python",
   "name": "python3"
  },
  "language_info": {
   "codemirror_mode": {
    "name": "ipython",
    "version": 3
   },
   "file_extension": ".py",
   "mimetype": "text/x-python",
   "name": "python",
   "nbconvert_exporter": "python",
   "pygments_lexer": "ipython3",
   "version": "3.6.1"
  }
 },
 "nbformat": 4,
 "nbformat_minor": 2
}
