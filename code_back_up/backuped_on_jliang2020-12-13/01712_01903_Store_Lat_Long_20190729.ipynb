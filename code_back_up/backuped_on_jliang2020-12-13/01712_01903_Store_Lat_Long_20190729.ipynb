{
 "cells": [
  {
   "cell_type": "code",
   "execution_count": 7,
   "metadata": {},
   "outputs": [
    {
     "data": {
      "text/plain": [
       "'/home/jian/Projects/Savers/Planner_Request/Store_Lat_Long_CA'"
      ]
     },
     "execution_count": 7,
     "metadata": {},
     "output_type": "execute_result"
    }
   ],
   "source": [
    "import pandas as pd\n",
    "import numpy as np\n",
    "import os\n",
    "import datetime\n",
    "os.getcwd()"
   ]
  },
  {
   "cell_type": "code",
   "execution_count": 2,
   "metadata": {},
   "outputs": [
    {
     "data": {
      "text/plain": [
       "['Open Stores March 2019', 'New Stores Aug 2019']"
      ]
     },
     "execution_count": 2,
     "metadata": {},
     "output_type": "execute_result"
    }
   ],
   "source": [
    "store_list=pd.ExcelFile(\"./Savers Store List Clean 20190307 Katrina.xlsx\")\n",
    "store_list.sheet_names"
   ]
  },
  {
   "cell_type": "code",
   "execution_count": 3,
   "metadata": {},
   "outputs": [
    {
     "data": {
      "text/plain": [
       "array([7])"
      ]
     },
     "execution_count": 3,
     "metadata": {},
     "output_type": "execute_result"
    }
   ],
   "source": [
    "store_list_CA=store_list.parse(\"Open Stores March 2019\",dtype=str)\n",
    "store_list_CA=store_list_CA[store_list_CA['Country']!=\"US\"]\n",
    "store_list_CA['Country'].unique()\n",
    "\n",
    "store_list_CA['PostalCode']=store_list_CA['Zip/Postal'].apply(lambda x: x.replace(\" \",\"\").replace(\" \",\"\").replace(\" \",\"\"))\n",
    "\n",
    "store_list_CA['PostalCode']=store_list_CA['PostalCode'].apply(lambda x: x[:3]+\" \"+x[3:7])\n",
    "store_list_CA['PostalCode'].apply(lambda x: len(x)).unique()"
   ]
  },
  {
   "cell_type": "code",
   "execution_count": 4,
   "metadata": {},
   "outputs": [
    {
     "data": {
      "text/html": [
       "<div>\n",
       "<style>\n",
       "    .dataframe thead tr:only-child th {\n",
       "        text-align: right;\n",
       "    }\n",
       "\n",
       "    .dataframe thead th {\n",
       "        text-align: left;\n",
       "    }\n",
       "\n",
       "    .dataframe tbody tr th {\n",
       "        vertical-align: top;\n",
       "    }\n",
       "</style>\n",
       "<table border=\"1\" class=\"dataframe\">\n",
       "  <thead>\n",
       "    <tr style=\"text-align: right;\">\n",
       "      <th></th>\n",
       "      <th>Latitude</th>\n",
       "      <th>Longitude</th>\n",
       "      <th>PostalCode</th>\n",
       "    </tr>\n",
       "  </thead>\n",
       "  <tbody>\n",
       "    <tr>\n",
       "      <th>0</th>\n",
       "      <td>47.487036</td>\n",
       "      <td>-53.086027</td>\n",
       "      <td>A0A 0A1</td>\n",
       "    </tr>\n",
       "    <tr>\n",
       "      <th>1</th>\n",
       "      <td>47.487036</td>\n",
       "      <td>-53.086027</td>\n",
       "      <td>A0A 0A2</td>\n",
       "    </tr>\n",
       "  </tbody>\n",
       "</table>\n",
       "</div>"
      ],
      "text/plain": [
       "    Latitude  Longitude PostalCode\n",
       "0  47.487036 -53.086027    A0A 0A1\n",
       "1  47.487036 -53.086027    A0A 0A2"
      ]
     },
     "execution_count": 4,
     "metadata": {},
     "output_type": "execute_result"
    }
   ],
   "source": [
    "df_CA_zip_centers=pd.read_csv(\"/home/jian/Docs/Geo_mapping/Canadian_Postal_Codes/canada-postal-code-database-BUSINESS-CSV/canada-postal-code-database-BUSINESS.csv\",\n",
    "                              dtype=str,usecols=[\"PostalCode\",'Latitude','Longitude']).drop_duplicates()\n",
    "\n",
    "df_CA_zip_centers['Latitude']=df_CA_zip_centers['Latitude'].astype(float)\n",
    "df_CA_zip_centers['Longitude']=df_CA_zip_centers['Longitude'].astype(float)\n",
    "\n",
    "\n",
    "df_CA_zip_centers=df_CA_zip_centers.append(pd.DataFrame({\"PostalCode\":\"T1Y 6J6\",\"Latitude\":51.0827776,\"Longitude\":-113.9868132},index=[len(df_CA_zip_centers)+1]))\n",
    "df_CA_zip_centers=df_CA_zip_centers.append(pd.DataFrame({\"PostalCode\":\"N3S 7P2\",\"Latitude\":43.1687593,\"Longitude\":-80.249613},index=[len(df_CA_zip_centers)+2]))\n",
    "df_CA_zip_centers=df_CA_zip_centers.append(pd.DataFrame({\"PostalCode\":\"L0R 2H2\",\"Latitude\":43.3166868,\"Longitude\":-79.9187285},index=[len(df_CA_zip_centers)+3]))\n",
    "\n",
    "df_CA_zip_centers.head(2)"
   ]
  },
  {
   "cell_type": "code",
   "execution_count": 5,
   "metadata": {},
   "outputs": [
    {
     "data": {
      "text/plain": [
       "(143, 20)"
      ]
     },
     "execution_count": 5,
     "metadata": {},
     "output_type": "execute_result"
    }
   ],
   "source": [
    "store_list_CA=pd.merge(store_list_CA,df_CA_zip_centers,on=\"PostalCode\",how=\"left\")\n",
    "store_list_CA.shape"
   ]
  },
  {
   "cell_type": "code",
   "execution_count": 9,
   "metadata": {},
   "outputs": [],
   "source": [
    "writer=pd.ExcelWriter(\"./Savers_Store_in_CA_JL_\"+str(datetime.datetime.now().date())+\".xlsx\",engine=\"xlsxwriter\")\n",
    "store_list_CA.to_excel(writer,\"CA_stores_with_latlong\",index=False)\n",
    "writer.save()"
   ]
  },
  {
   "cell_type": "code",
   "execution_count": null,
   "metadata": {
    "collapsed": true
   },
   "outputs": [],
   "source": []
  }
 ],
 "metadata": {
  "kernelspec": {
   "display_name": "Python 3",
   "language": "python",
   "name": "python3"
  },
  "language_info": {
   "codemirror_mode": {
    "name": "ipython",
    "version": 3
   },
   "file_extension": ".py",
   "mimetype": "text/x-python",
   "name": "python",
   "nbconvert_exporter": "python",
   "pygments_lexer": "ipython3",
   "version": "3.6.1"
  }
 },
 "nbformat": 4,
 "nbformat_minor": 2
}
