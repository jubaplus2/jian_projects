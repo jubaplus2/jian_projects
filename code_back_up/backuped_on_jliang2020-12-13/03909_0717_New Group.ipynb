{
 "cells": [
  {
   "cell_type": "code",
   "execution_count": 1,
   "metadata": {
    "collapsed": true
   },
   "outputs": [],
   "source": [
    "import pandas as pd\n",
    "import datetime as dt\n",
    "import numpy as np"
   ]
  },
  {
   "cell_type": "code",
   "execution_count": 2,
   "metadata": {
    "collapsed": true
   },
   "outputs": [],
   "source": [
    "dfsales = pd.read_csv(\"/home/jian/BiglotsCode/outputs/combinedsales2017-11-11.csv\",sep = '|',dtype = 'str')"
   ]
  },
  {
   "cell_type": "code",
   "execution_count": 3,
   "metadata": {
    "collapsed": true
   },
   "outputs": [],
   "source": [
    "dftraffics = pd.read_csv(\"/home/jian/BiglotsCode/outputs/combinedtraffic2017-11-11.csv\",\n",
    "               sep = '|',dtype = 'str')"
   ]
  },
  {
   "cell_type": "code",
   "execution_count": 4,
   "metadata": {
    "collapsed": true
   },
   "outputs": [],
   "source": [
    "dfsales['week_end_dt']=pd.to_datetime(dfsales['week_end_dt']).dt.date\n",
    "dftraffics['week_end_dt']=pd.to_datetime(dftraffics['week_end_dt']).dt.date"
   ]
  },
  {
   "cell_type": "code",
   "execution_count": 5,
   "metadata": {
    "collapsed": true
   },
   "outputs": [],
   "source": [
    "dfsales=dfsales[(dfsales['week_end_dt']<=dt.date(2017,11,11)) & (dfsales['week_end_dt']>=(dt.date(2017,11,11)-dt.timedelta(days=(51*7))))]\n",
    "dftraffics=dftraffics[(dftraffics['week_end_dt']<=dt.date(2017,11,11)) & (dftraffics['week_end_dt']>=(dt.date(2017,11,11)-dt.timedelta(days=(51*7))))]"
   ]
  },
  {
   "cell_type": "code",
   "execution_count": 6,
   "metadata": {},
   "outputs": [
    {
     "data": {
      "text/plain": [
       "Index(['location_id', 'week_end_dt', 'fiscal_week_nbr', 'gross_sales_amt',\n",
       "       'gross_transaction_cnt', 'class_code_id', 'class_gross_sales_amt'],\n",
       "      dtype='object')"
      ]
     },
     "execution_count": 6,
     "metadata": {},
     "output_type": "execute_result"
    }
   ],
   "source": [
    "dfsales.columns"
   ]
  },
  {
   "cell_type": "code",
   "execution_count": 7,
   "metadata": {},
   "outputs": [
    {
     "data": {
      "text/plain": [
       "52"
      ]
     },
     "execution_count": 7,
     "metadata": {},
     "output_type": "execute_result"
    }
   ],
   "source": [
    "len(dfsales['week_end_dt'].unique())"
   ]
  },
  {
   "cell_type": "code",
   "execution_count": 9,
   "metadata": {},
   "outputs": [],
   "source": [
    "dftraffics = dftraffics.fillna(0)"
   ]
  },
  {
   "cell_type": "code",
   "execution_count": 10,
   "metadata": {
    "collapsed": true
   },
   "outputs": [],
   "source": [
    "dftraffics['traffic_week'] = 0 \n",
    "for i in ['traffic_day_1','traffic_day_2', 'traffic_day_3', 'traffic_day_4',\n",
    "          'traffic_day_5', 'traffic_day_6', 'traffic_day_7']:\n",
    "    dftraffics[i] = dftraffics[i].astype('float')\n",
    "    dftraffics['traffic_week'] = dftraffics['traffic_week'] +dftraffics[i]"
   ]
  },
  {
   "cell_type": "code",
   "execution_count": 11,
   "metadata": {},
   "outputs": [],
   "source": [
    "dfsales = dfsales[dfsales['class_gross_sales_amt']!='?']\n",
    "dfsales = dfsales [~ dfsales['location_id'].isin(['145','6990'])]\n",
    "dftraffics = dftraffics [~ dftraffics['location_id'].isin(['145','6990'])]\n"
   ]
  },
  {
   "cell_type": "code",
   "execution_count": 12,
   "metadata": {
    "collapsed": true
   },
   "outputs": [],
   "source": [
    "dfsales=dfsales.drop_duplicates()\n",
    "dfsales ['class_gross_sales_amt']= dfsales['class_gross_sales_amt'].astype('float')\n",
    "dfsales ['gross_transaction_cnt']= dfsales['gross_transaction_cnt'].astype('float')"
   ]
  },
  {
   "cell_type": "code",
   "execution_count": 13,
   "metadata": {
    "collapsed": true
   },
   "outputs": [],
   "source": [
    "dfsales_sales = dfsales[['location_id','week_end_dt','class_gross_sales_amt']].groupby(['location_id','week_end_dt']).sum()\n",
    "dfsales_sales.reset_index(inplace=True)"
   ]
  },
  {
   "cell_type": "code",
   "execution_count": 14,
   "metadata": {},
   "outputs": [
    {
     "name": "stdout",
     "output_type": "stream",
     "text": [
      "Stores with sales records less or equal than 40 weeks: ['1148' '1182' '1913' '1967' '280' '310' '388' '4099' '4113' '4124' '4165'\n",
      " '4193' '4280' '4362' '4667' '4669' '4671' '4672' '4673' '507' '5133'\n",
      " '5340' '5343' '5344' '5345' '5346' '5347' '5348' '5349' '5350' '5351'\n",
      " '5352' '5353' '5354' '5355' '5356' '5357' '5358' '5359' '5360' '824']\n"
     ]
    }
   ],
   "source": [
    "# Remove stores with recorded sales less than 40 weeks of sales data\n",
    "dfsales_sales_table = dfsales_sales.groupby(['location_id'])['week_end_dt'].count()\n",
    "dfsales_sales_table=pd.DataFrame(dfsales_sales_table)\n",
    "dfsales_sales_table.reset_index(inplace=True)\n",
    "\n",
    "Store_sales_less_40 = dfsales_sales_table[dfsales_sales_table['week_end_dt']<=40]\n",
    "Store_sales_less_40.reset_index(inplace=True)\n",
    "print(\"Stores with sales records less or equal than 40 weeks:\",Store_sales_less_40['location_id'].unique())\n",
    "\n",
    "dfsales_sales = dfsales_sales[dfsales_sales['location_id'].isin(dfsales_sales_table[dfsales_sales_table['week_end_dt']>40]['location_id'])]"
   ]
  },
  {
   "cell_type": "code",
   "execution_count": 15,
   "metadata": {
    "collapsed": true
   },
   "outputs": [],
   "source": [
    "dfsales_group = dfsales_sales[['location_id','class_gross_sales_amt']].groupby(['location_id']).sum()\n",
    "dfsales_group.reset_index(inplace=True)\n",
    "# dfsales_group['sales_group']=np.where(dfsales_group['class_gross_sales_amt']<=dfsales_group['class_gross_sales_amt'].quantile(0.2),\"L\",\n",
    "#                                      np.where(dfsales_group['class_gross_sales_amt']>dfsales_group['class_gross_sales_amt'].quantile(0.8),\"H\",\"M\"))\n"
   ]
  },
  {
   "cell_type": "code",
   "execution_count": 16,
   "metadata": {},
   "outputs": [
    {
     "name": "stdout",
     "output_type": "stream",
     "text": [
      "Stores with trans records less or equal than 40 weeks: ['1148' '1182' '1913' '1967' '280' '310' '388' '4099' '4113' '4124' '4165'\n",
      " '4193' '4280' '4362' '4667' '4669' '4671' '4672' '4673' '507' '5133'\n",
      " '5340' '5343' '5344' '5345' '5346' '5347' '5348' '5349' '5350' '5351'\n",
      " '5352' '5353' '5354' '5355' '5356' '5357' '5358' '5359' '5360' '824']\n"
     ]
    }
   ],
   "source": [
    "# Remove stores with recorded transactions less than 40 weeks of sales data\n",
    "\n",
    "dfsales_trans = dfsales[['location_id','week_end_dt','gross_transaction_cnt']].drop_duplicates()\n",
    "dfsales_trans_table = dfsales_trans.groupby(['location_id'])['week_end_dt'].count()\n",
    "dfsales_trans_table=pd.DataFrame(dfsales_trans_table)\n",
    "dfsales_trans_table.reset_index(inplace=True)\n",
    "\n",
    "Store_trans_less_40 = dfsales_trans_table[dfsales_trans_table['week_end_dt']<=40]\n",
    "Store_trans_less_40.reset_index(inplace=True)\n",
    "print(\"Stores with trans records less or equal than 40 weeks:\",Store_trans_less_40['location_id'].unique())\n",
    "dfsales_trans = dfsales_trans[dfsales_trans['location_id'].isin(dfsales_trans_table[dfsales_trans_table['week_end_dt']>40]['location_id'])]"
   ]
  },
  {
   "cell_type": "code",
   "execution_count": 17,
   "metadata": {},
   "outputs": [
    {
     "name": "stdout",
     "output_type": "stream",
     "text": [
      "Lack weeks for traffic records DatetimeIndex(['2016-12-31', '2017-05-06'], dtype='datetime64[ns]', freq=None)\n"
     ]
    }
   ],
   "source": [
    "dftraffics = dftraffics[dftraffics['traffic_week']>5]\n",
    "recent_52_weeks = pd.date_range(start=dt.date(2017,11,11)-dt.timedelta(days=(51*7)), end=dt.date(2017,11,11), freq=dt.timedelta(days=7)) \n",
    "lack_weeks_traffic = recent_52_weeks[~recent_52_weeks.isin(dftraffics['week_end_dt'].unique())]\n",
    "print(\"Lack weeks for traffic records\",lack_weeks_traffic)"
   ]
  },
  {
   "cell_type": "code",
   "execution_count": 18,
   "metadata": {},
   "outputs": [
    {
     "name": "stdout",
     "output_type": "stream",
     "text": [
      "Stores with traffics records less or equal than 5 weeks: ['4667' '5345' '5352' '5355']\n"
     ]
    }
   ],
   "source": [
    "# Remove stores with recorded traffics less than 5 weeks of traffics data\n",
    "dftraffics_table = dftraffics[['location_id','week_end_dt']].groupby(['location_id']).count()\n",
    "dftraffics_table.reset_index(inplace=True)\n",
    "Store_traffics_less_5 = dftraffics_table[dftraffics_table['week_end_dt']<=5]\n",
    "Store_traffics_less_5.reset_index(inplace=True)\n",
    "print(\"Stores with traffics records less or equal than 5 weeks:\",Store_traffics_less_5['location_id'].unique())\n",
    "dftraffics = dftraffics[dftraffics['location_id'].isin(dftraffics_table[dftraffics_table['week_end_dt']>5]['location_id'])]\n",
    "dftraffics=dftraffics[['location_id','week_end_dt','traffic_week']]"
   ]
  },
  {
   "cell_type": "code",
   "execution_count": 28,
   "metadata": {},
   "outputs": [],
   "source": [
    "df_ratio = pd.merge(dfsales_trans,dftraffics,how='left',on=['location_id','week_end_dt'])\n",
    "df_ratio = df_ratio[(~pd.isnull(df_ratio['gross_transaction_cnt']))& (~pd.isnull(df_ratio['traffic_week'])) ]"
   ]
  },
  {
   "cell_type": "code",
   "execution_count": 29,
   "metadata": {
    "collapsed": true
   },
   "outputs": [],
   "source": [
    "df_ratio_group = df_ratio[['location_id','gross_transaction_cnt','traffic_week']].groupby(['location_id']).sum()\n",
    "df_ratio_group.reset_index(inplace=True)\n",
    "df_ratio_group['ratio']=df_ratio_group['gross_transaction_cnt']/df_ratio_group['traffic_week']\n",
    "df_ratio_group['ratio_group']=np.where(df_ratio_group['ratio']<=df_ratio_group['ratio'].quantile(0.2),\"L\",\n",
    "                                      np.where(df_ratio_group['ratio']>df_ratio_group['ratio'].quantile(0.8),\"H\",\"M\"))"
   ]
  },
  {
   "cell_type": "code",
   "execution_count": 30,
   "metadata": {
    "collapsed": true
   },
   "outputs": [],
   "source": [
    "writer= pd.ExcelWriter('/home/jian/Projects/Big Lots/New Group - 52 weeks prior 2017-11-11/BL_Sales_Ratio_Group_till_2017-11-11.xlsx', engine='xlsxwriter')\n",
    "df_ratio_group.to_excel(writer,\"ratio_group\",index=False)\n",
    "dfsales_group.to_excel(writer,\"sales_group\",index=False)\n",
    "dfsales_sales_table.to_excel(writer,\"sales_week_count\",index=False)\n",
    "df_ratio.to_excel(writer,\"ratio_data\",index=False)\n",
    "\n",
    "writer.save()"
   ]
  },
  {
   "cell_type": "code",
   "execution_count": null,
   "metadata": {
    "collapsed": true
   },
   "outputs": [],
   "source": []
  }
 ],
 "metadata": {
  "kernelspec": {
   "display_name": "Python 3",
   "language": "python",
   "name": "python3"
  },
  "language_info": {
   "codemirror_mode": {
    "name": "ipython",
    "version": 3
   },
   "file_extension": ".py",
   "mimetype": "text/x-python",
   "name": "python",
   "nbconvert_exporter": "python",
   "pygments_lexer": "ipython3",
   "version": "3.6.1"
  }
 },
 "nbformat": 4,
 "nbformat_minor": 2
}
