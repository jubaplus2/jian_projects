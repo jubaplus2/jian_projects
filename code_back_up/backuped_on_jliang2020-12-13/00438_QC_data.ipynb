{
 "cells": [
  {
   "cell_type": "code",
   "execution_count": 1,
   "metadata": {},
   "outputs": [
    {
     "name": "stdout",
     "output_type": "stream",
     "text": [
      "2020-03-11 11:54:11.771549\n",
      "/home/jian/Projects/Big_Lots/Analysis/2020_Q1/Redeemer\n"
     ]
    }
   ],
   "source": [
    "import pandas as pd\n",
    "import numpy as np\n",
    "import datetime\n",
    "import os\n",
    "import paramiko\n",
    "\n",
    "print(datetime.datetime.now())\n",
    "print(os.getcwd())"
   ]
  },
  {
   "cell_type": "code",
   "execution_count": null,
   "metadata": {},
   "outputs": [],
   "source": []
  },
  {
   "cell_type": "code",
   "execution_count": 10,
   "metadata": {},
   "outputs": [
    {
     "name": "stdout",
     "output_type": "stream",
     "text": [
      "df_2019dec.shape (249159, 2)\n",
      "df_2019dec['hashed_customer_num'].nunique() 249159\n",
      "df_2019dec['hashed_email_address'].nunique() 249159\n",
      "hashed_customer_num [64]\n",
      "hashed_email_address [64]\n"
     ]
    }
   ],
   "source": [
    "df_2019dec=pd.read_table(\"/home/jian/BigLots/AgilOne/redeemers_2019Dec/december_full_file_redeemers.txt\",\n",
    "                         dtype=str,sep=\"\\t\")\n",
    "print(\"df_2019dec.shape\",df_2019dec.shape)\n",
    "print(\"df_2019dec['hashed_customer_num'].nunique()\",df_2019dec['hashed_customer_num'].nunique())\n",
    "print(\"df_2019dec['hashed_email_address'].nunique()\",df_2019dec['hashed_email_address'].nunique())\n",
    "for col in df_2019dec.columns.tolist():\n",
    "    print(col,df_2019dec[col].apply(len).unique())"
   ]
  },
  {
   "cell_type": "code",
   "execution_count": 11,
   "metadata": {},
   "outputs": [
    {
     "name": "stdout",
     "output_type": "stream",
     "text": [
      "df_2020feb.shape (37368, 2)\n",
      "df_2020feb['hashed_customer_num'].nunique() 37368\n",
      "df_2020feb['hashed_email_address'].nunique() 37368\n",
      "hashed_customer_num [64]\n",
      "hashed_email_address [64]\n"
     ]
    }
   ],
   "source": [
    "df_2020feb=pd.read_table(\"/home/jian/BigLots/AgilOne/redeemers_2020Feb/February_full_file_redeemers.txt\",\n",
    "                         dtype=str,sep=\"\\t\")\n",
    "print(\"df_2020feb.shape\",df_2020feb.shape)\n",
    "print(\"df_2020feb['hashed_customer_num'].nunique()\",df_2020feb['hashed_customer_num'].nunique())\n",
    "print(\"df_2020feb['hashed_email_address'].nunique()\",df_2020feb['hashed_email_address'].nunique())\n",
    "for col in df_2019dec.columns.tolist():\n",
    "    print(col,df_2019dec[col].apply(len).unique())"
   ]
  },
  {
   "cell_type": "code",
   "execution_count": null,
   "metadata": {},
   "outputs": [],
   "source": []
  }
 ],
 "metadata": {
  "kernelspec": {
   "display_name": "Python 3",
   "language": "python",
   "name": "python3"
  },
  "language_info": {
   "codemirror_mode": {
    "name": "ipython",
    "version": 3
   },
   "file_extension": ".py",
   "mimetype": "text/x-python",
   "name": "python",
   "nbconvert_exporter": "python",
   "pygments_lexer": "ipython3",
   "version": "3.6.1"
  }
 },
 "nbformat": 4,
 "nbformat_minor": 2
}
