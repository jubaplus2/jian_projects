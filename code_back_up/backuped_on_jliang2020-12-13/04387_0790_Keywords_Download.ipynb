{
 "cells": [
  {
   "cell_type": "code",
   "execution_count": 125,
   "metadata": {
    "collapsed": true
   },
   "outputs": [],
   "source": [
    "import pandas as pd\n",
    "import numpy as np\n",
    "import datetime\n",
    "import pandas as pd\n",
    "from googleads import adwords\n",
    "import os"
   ]
  },
  {
   "cell_type": "code",
   "execution_count": 126,
   "metadata": {
    "collapsed": true
   },
   "outputs": [],
   "source": [
    "def get_client(config_path):\n",
    "    return adwords.AdWordsClient.LoadFromStorage(config_path)\n"
   ]
  },
  {
   "cell_type": "code",
   "execution_count": 127,
   "metadata": {
    "collapsed": true
   },
   "outputs": [],
   "source": [
    "time_stamp = datetime.datetime.now().strftime(\"%Y-%m-%d_%H:%M\")\n",
    "minute = time_stamp[-5:]\n",
    "    \n",
    "def download_keywords_report_as_stream(client, report_type, fields,minute):\n",
    "    '''Download Adwords report, then save as csv file to base_dir\n",
    "    Args:\n",
    "        client: adwords.AdWordsClient.LoadFromStorage()\n",
    "        report_type: str eg. 'KEYWORDS_PERFORMANCE_REPORT'\n",
    "        fields: list eg. [\"CampaignId\", \"CampaignName\", ... ]\n",
    "    Return:\n",
    "        str, path to csv file\n",
    "    '''\n",
    "    report_downloader = client.GetReportDownloader(version='v201809')\n",
    "    \n",
    "    # Create report definition.\n",
    "    report = {\n",
    "        'reportName': report_type,\n",
    "        'dateRangeType': 'TODAY' if minute != '00:00' else 'YESTERDAY',\n",
    "        'reportType': report_type,\n",
    "        'downloadFormat': 'CSV',\n",
    "        'selector': {\n",
    "            'fields': fields\n",
    "        }\n",
    "    }\n",
    "\n",
    "    # save output\n",
    "    return report_downloader.DownloadReportAsStream(report, \n",
    "        skip_report_header=True, skip_column_header=False,\n",
    "        skip_report_summary=True)"
   ]
  },
  {
   "cell_type": "code",
   "execution_count": 128,
   "metadata": {
    "collapsed": true
   },
   "outputs": [],
   "source": [
    "report_type = 'KEYWORDS_PERFORMANCE_REPORT'\n",
    "fields = [\"CampaignName\", \"AdGroupName\", \"Criteria\", \"Device\", \"Impressions\", \"Clicks\", \"Cost\"]\n",
    "current_time = datetime.datetime.now().strftime('%Y-%m-%d_%H:%M')\n"
   ]
  },
  {
   "cell_type": "code",
   "execution_count": 129,
   "metadata": {},
   "outputs": [],
   "source": [
    "client_Saatva = get_client(config_path='/home/jian/Projects/Saatva/To_Lexie_and_Connor/googleads_saatva_JL_Saatva.yaml')\n",
    "response = download_keywords_report_as_stream(client_Saatva, report_type, fields,minute)\n",
    "data_1_Saatva = pd.read_csv(response)\n",
    "data_1_Saatva['Account']=\"Saatva\"\n",
    "data_1_Saatva['client_id']=\"634-061-0672\""
   ]
  },
  {
   "cell_type": "code",
   "execution_count": 130,
   "metadata": {},
   "outputs": [],
   "source": [
    "client_Saatva_Branding = get_client(config_path='/home/jian/Projects/Saatva/To_Lexie_and_Connor/googleads_saatva_JL_Saatva_Branding.yaml')\n",
    "response = download_keywords_report_as_stream(client_Saatva_Branding, report_type, fields,minute)\n",
    "data_2_Saatva_Branding = pd.read_csv(response)\n",
    "data_2_Saatva_Branding['Account']=\"Saatva_Branding\"\n",
    "data_2_Saatva_Branding['client_id']=\"631-365-6046\""
   ]
  },
  {
   "cell_type": "code",
   "execution_count": 131,
   "metadata": {},
   "outputs": [],
   "source": [
    "client_Saatva_Competitors = get_client(config_path='/home/jian/Projects/Saatva/To_Lexie_and_Connor/googleads_saatva_JL_Saatva_Competitors.yaml')\n",
    "response = download_keywords_report_as_stream(client_Saatva_Competitors, report_type, fields,minute)\n",
    "data_3_Saatva_Competitors = pd.read_csv(response)\n",
    "data_3_Saatva_Competitors['Account']=\"Saatva_Competitors\"\n",
    "data_3_Saatva_Competitors['client_id']=\"183-845-3210\""
   ]
  },
  {
   "cell_type": "code",
   "execution_count": 132,
   "metadata": {
    "collapsed": true
   },
   "outputs": [],
   "source": [
    "client_TheSaatvaCompany = get_client(config_path='/home/jian/Projects/Saatva/To_Lexie_and_Connor/googleads_saatva_JL_TheSaatvaCompany.yaml')\n",
    "response = download_keywords_report_as_stream(client_Saatva_Competitors, report_type, fields,minute)\n",
    "data_4_Saatva_Company = pd.read_csv(response)\n",
    "data_4_Saatva_Company['Account']=\"The_Saatva_Company\"\n",
    "data_4_Saatva_Company['client_id']=\"546-629-9909\""
   ]
  },
  {
   "cell_type": "code",
   "execution_count": 133,
   "metadata": {
    "collapsed": true
   },
   "outputs": [],
   "source": [
    "client_TheSaatvaCompany_Branding = get_client(config_path='/home/jian/Projects/Saatva/To_Lexie_and_Connor/googleads_saatva_JL_TheSaatvaCompanyBranding.yaml')\n",
    "response = download_keywords_report_as_stream(client_Saatva_Competitors, report_type, fields,minute)\n",
    "data_5_Saatva_Company = pd.read_csv(response)\n",
    "data_5_Saatva_Company['Account']=\"The_Saatva_Company_Branding\"\n",
    "data_5_Saatva_Company['client_id']=\"508-847-9292\""
   ]
  },
  {
   "cell_type": "code",
   "execution_count": 134,
   "metadata": {
    "collapsed": true
   },
   "outputs": [],
   "source": [
    "data_3_Saatva_Competitors=data_3_Saatva_Competitors[data_3_Saatva_Competitors['Campaign'].apply(lambda x: x[len(x)-4:len(x)+1])==\"[SM]\"]\n",
    "data_3_Saatva_Competitors.reset_index(inplace=True)\n",
    "del data_3_Saatva_Competitors['index']\n",
    "\n",
    "output=data_1_Saatva.append(data_2_Saatva_Branding).append(data_3_Saatva_Competitors).append(data_4_Saatva_Company).append(data_5_Saatva_Company)\n",
    "output=output[~output['Keyword'].isin(['AutomaticContent','Content'])]\n",
    "output=output.reset_index()\n",
    "del output['index']"
   ]
  },
  {
   "cell_type": "code",
   "execution_count": 136,
   "metadata": {},
   "outputs": [
    {
     "data": {
      "text/html": [
       "<div>\n",
       "<style>\n",
       "    .dataframe thead tr:only-child th {\n",
       "        text-align: right;\n",
       "    }\n",
       "\n",
       "    .dataframe thead th {\n",
       "        text-align: left;\n",
       "    }\n",
       "\n",
       "    .dataframe tbody tr th {\n",
       "        vertical-align: top;\n",
       "    }\n",
       "</style>\n",
       "<table border=\"1\" class=\"dataframe\">\n",
       "  <thead>\n",
       "    <tr style=\"text-align: right;\">\n",
       "      <th></th>\n",
       "      <th>Campaign</th>\n",
       "      <th>Ad group</th>\n",
       "      <th>Keyword</th>\n",
       "      <th>Device</th>\n",
       "      <th>Impressions</th>\n",
       "      <th>Clicks</th>\n",
       "      <th>Cost</th>\n",
       "      <th>Account</th>\n",
       "      <th>client_id</th>\n",
       "    </tr>\n",
       "  </thead>\n",
       "  <tbody>\n",
       "    <tr>\n",
       "      <th>0</th>\n",
       "      <td>[ADL] [Non-Brand] [US] Mattresses (Broad)</td>\n",
       "      <td>quality mattress</td>\n",
       "      <td>+quality +mattress</td>\n",
       "      <td>Mobile devices with full browsers</td>\n",
       "      <td>10</td>\n",
       "      <td>0</td>\n",
       "      <td>0</td>\n",
       "      <td>Saatva</td>\n",
       "      <td>634-061-0672</td>\n",
       "    </tr>\n",
       "    <tr>\n",
       "      <th>1</th>\n",
       "      <td>[ADL] [Non-Brand] [US] Mattresses (Broad)</td>\n",
       "      <td>quality mattress</td>\n",
       "      <td>+quality +mattress</td>\n",
       "      <td>Computers</td>\n",
       "      <td>14</td>\n",
       "      <td>1</td>\n",
       "      <td>5330000</td>\n",
       "      <td>Saatva</td>\n",
       "      <td>634-061-0672</td>\n",
       "    </tr>\n",
       "  </tbody>\n",
       "</table>\n",
       "</div>"
      ],
      "text/plain": [
       "                                    Campaign          Ad group  \\\n",
       "0  [ADL] [Non-Brand] [US] Mattresses (Broad)  quality mattress   \n",
       "1  [ADL] [Non-Brand] [US] Mattresses (Broad)  quality mattress   \n",
       "\n",
       "              Keyword                             Device  Impressions  Clicks  \\\n",
       "0  +quality +mattress  Mobile devices with full browsers           10       0   \n",
       "1  +quality +mattress                          Computers           14       1   \n",
       "\n",
       "      Cost Account     client_id  \n",
       "0        0  Saatva  634-061-0672  \n",
       "1  5330000  Saatva  634-061-0672  "
      ]
     },
     "execution_count": 136,
     "metadata": {},
     "output_type": "execute_result"
    }
   ],
   "source": [
    "current_time=datetime.datetime.now().strftime('%Y-%m-%d_%H:%M')\n",
    "output.to_csv('/home/jian/Projects/Saatva/Keywords_Report_To_Sp/%s.csv'%current_time,\n",
    "                   index=False)"
   ]
  }
 ],
 "metadata": {
  "kernelspec": {
   "display_name": "Python 3",
   "language": "python",
   "name": "python3"
  },
  "language_info": {
   "codemirror_mode": {
    "name": "ipython",
    "version": 3
   },
   "file_extension": ".py",
   "mimetype": "text/x-python",
   "name": "python",
   "nbconvert_exporter": "python",
   "pygments_lexer": "ipython3",
   "version": "3.6.1"
  }
 },
 "nbformat": 4,
 "nbformat_minor": 2
}
