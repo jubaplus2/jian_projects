{
 "cells": [
  {
   "cell_type": "code",
   "execution_count": 1,
   "metadata": {
    "collapsed": true
   },
   "outputs": [],
   "source": [
    "import os\n",
    "end_date=\"2017-12-27\"\n",
    "if not os.path.exists('/home/jian/Projects/LIFT/DBM/Output/'+end_date):\n",
    "    os.makedirs('/home/jian/Projects/LIFT/DBM/Output/'+end_date)"
   ]
  },
  {
   "cell_type": "code",
   "execution_count": 2,
   "metadata": {},
   "outputs": [
    {
     "name": "stderr",
     "output_type": "stream",
     "text": [
      "b'Skipping line 3391: expected 24 fields, saw 27\\n'\n",
      "b'Skipping line 718: expected 24 fields, saw 27\\n'\n",
      "b'Skipping line 1875: expected 24 fields, saw 27\\n'\n",
      "b'Skipping line 175702: expected 25 fields, saw 27\\n'\n",
      "/usr/local/lib/python3.6/site-packages/IPython/core/interactiveshell.py:2683: DtypeWarning: Columns (1) have mixed types. Specify dtype option on import or set low_memory=False.\n",
      "  interactivity=interactivity, compiler=compiler, result=result)\n",
      "b'Skipping line 5643: expected 25 fields, saw 27\\n'\n",
      "b'Skipping line 2532: expected 25 fields, saw 27\\n'\n",
      "b'Skipping line 136368: expected 26 fields, saw 27\\n'\n",
      "b'Skipping line 807: expected 24 fields, saw 27\\n'\n",
      "b'Skipping line 462: expected 25 fields, saw 27\\n'\n",
      "b'Skipping line 308: expected 24 fields, saw 27\\n'\n",
      "b'Skipping line 3194: expected 24 fields, saw 27\\n'\n",
      "b'Skipping line 1878: expected 24 fields, saw 27\\n'\n"
     ]
    }
   ],
   "source": [
    "import glob\n",
    "import pandas as pd\n",
    "import numpy as np\n",
    "folder=\"/home/jian/Projects/LIFT/DBM/Data from API/\"+end_date+\"/\"\n",
    "file_list=[]\n",
    "for file_name in glob.glob(folder+'*.csv'):\n",
    "    df = pd.read_csv(file_name,encoding=\"ISO-8859-1\",error_bad_lines=False)\n",
    "    inds = min(df['Line Item'].index[df['Line Item'].apply(lambda x: pd.isnull(x))])\n",
    "    df = df.iloc[0:inds,:]\n",
    "    file_list.append(df)\n",
    "\n"
   ]
  },
  {
   "cell_type": "code",
   "execution_count": 3,
   "metadata": {
    "collapsed": true
   },
   "outputs": [],
   "source": [
    "Columns=[\"App/URL\",\"Browser\",\"ISP or Carrier\",\"Channel\",\"Channel ID\",\"City\",\"City ID\",\"Creative\",\"Creative Width\",\"Creative Height\",\"Creative Type\",\"Date\",\n",
    "          \"Day of Week\",\"Device Type\",\"DMA Name\",\"Operating System\",\"Region\",\"Time of Day\"]\n",
    "HVA=[\"Snap Fitness - Franchise Opportunities\",\n",
    "      \"Snap Fitness - Franchise FAQ\",\n",
    "      \"Snap Fitness - Franchise - What is This? Link\",\n",
    "      \"Snap Fitness - Franchise Success Stories\",\n",
    "      \"Snap Fitness - Franchise Request Info\",\n",
    "      \"Snap Fitness - Franchise Thank You\"]\n",
    "matrix=[\"Clicks\",\"Impressions\",\"Cost\",\"HVA\",\"CPHVA\",\"CPC\",\"CTR\",\"CPM\"]\n",
    "Juba_Line_Items=[\"Juba BT - Health & Fitness - Geo 1\",\n",
    "                  \"Juba BT - Sports - Geo 2 (DMAs)\",\n",
    "                  \"Juba BT - Health & Fitness - Geo 2 (DMAs)\",\n",
    "                  \"Juba BT - Gamers - Geo 1\",\n",
    "                  \"Juba BT - Employment - Geo 1\",\n",
    "                  \"Juba BT - Technophiles - Geo 1\",\n",
    "                  \"Juba BT - Movie Lover - Geo 1\",\n",
    "                  \"Juba BT - Sports - Geo 1\",\n",
    "                  \"Juba BT - Travel - Geo 1\",\n",
    "                  \"Juba BT - Gamers - Geo 2 (DMAs)\",\n",
    "                  \"Juba BT - News Junkies - Geo 2 (DMAs)\",\n",
    "                  \"Juba BT - Movie Lover - Geo 2 (DMAs)\",\n",
    "                  \"Juba BT - Travel - Geo 2 (DMAs)\",\n",
    "                  \"Juba BT - Technophiles - Geo 2 (DMAs)\",\n",
    "                  \"Juba BT - Finance - Geo 2 (DMAs)\",\n",
    "                  \"Juba BT - Auto - Geo 2 (DMAs)\",\n",
    "                  \"Juba BT - Employment - Geo 2 (DMAs)\",\n",
    "                  \"Juba BT - New Mover - Geo 2 (DMAs)\",\n",
    "                  \"Juba BT - Finance - Geo 1\",\n",
    "                  \"Juba BT - New Mover - Geo 1\",\n",
    "                  \"Juba BT - Auto - Geo 1\",\n",
    "                  \"Juba BT - News Junkies - Geo 1\"]\n",
    "Keyword_Line_Items=[\"Keyword CT DESK\",\"Keyword CT MOB\"]\n",
    "Retarget_Line_Items=[\"Site RT DESK\"]\n",
    "LAL_Line_Items=[\"LAL\"]"
   ]
  },
  {
   "cell_type": "code",
   "execution_count": 11,
   "metadata": {},
   "outputs": [
    {
     "data": {
      "text/plain": [
       "26"
      ]
     },
     "execution_count": 11,
     "metadata": {},
     "output_type": "execute_result"
    }
   ],
   "source": [
    "len(Juba_Line_Items)+len(Keyword_Line_Items)+len(Retarget_Line_Items)+len(LAL_Line_Items)"
   ]
  },
  {
   "cell_type": "code",
   "execution_count": 4,
   "metadata": {
    "collapsed": true
   },
   "outputs": [],
   "source": [
    "writer_list=[[],[],[],[],[],[],[],[],[],[],[],[],[]]\n",
    "for i in range(len(file_list)):\n",
    "    df=file_list[i]\n",
    "    df_JUBA=df[df['Line Item'].isin(Juba_Line_Items)]\n",
    "    df_Keyword=df[df['Line Item'].isin(Keyword_Line_Items)]\n",
    "    df_Retarget=df[df['Line Item'].isin(Retarget_Line_Items)]\n",
    "    df_LAL=df[df['Line Item'].isin(LAL_Line_Items)]\n",
    "\n",
    "    Four_Type_List=[df_JUBA,df_Keyword,df_Retarget,df_LAL] #Actually 4 type, one new \"LAL\" added (not yet)\n",
    "\n",
    "    \n",
    "    for j in range(len(Four_Type_List)):\n",
    "\n",
    "        df_report_type=Four_Type_List[j]\n",
    "        df_non_hva=df_report_type[[col for col in df_report_type.columns if col in Columns]+[\"Impressions\",\"Clicks\",\"Revenue (Adv Currency)\",\"Total Conversions\"]]\n",
    "        \n",
    "        if len(df_non_hva.columns)==5:\n",
    "            df_merge=pd.DataFrame\n",
    "            df_hva=df_hva=df_report_type[df_report_type[\"Conversion Pixel\"] !=\"Total\"][[col for col in df_report_type.columns if col in Columns]+[\"Conversion Pixel\",\"Total Conversions\"]]\n",
    "            df_hva=df_hva.groupby([col for col in df_report_type.columns if col in Columns]+['Conversion Pixel'])['Total Conversions'].sum().to_frame()\n",
    "            df_hva.reset_index(inplace=True)\n",
    "            df_hva=df_hva.pivot(index=[col for col in df_report_type.columns if col in Columns][0],columns=\"Conversion Pixel\",values=\"Total Conversions\")\n",
    "            df_hva.reset_index(inplace=True)\n",
    "            df_hva=df_hva.fillna(0)\n",
    "            \n",
    "            df_non_hva=df_report_type[df_report_type[\"Conversion Pixel\"] ==\"Total\"][[col for col in df_report_type.columns if col in Columns]+[\"Impressions\",\"Clicks\",\"Revenue (Adv Currency)\"]]\n",
    "            df_non_hva=df_non_hva.groupby([col for col in df_report_type.columns if col in Columns])[\"Impressions\",\"Clicks\",\"Revenue (Adv Currency)\"].sum()\n",
    "            df_non_hva.reset_index(inplace=True)\n",
    "\n",
    "            df_merge=pd.merge(df_non_hva,df_hva,on=[col for col in df_report_type.columns if col in Columns],how=\"outer\")\n",
    "        \n",
    "        \n",
    "        if len(df_non_hva.columns)==6:\n",
    "            df_merge=pd.DataFrame\n",
    "            df_hva=df_hva=df_report_type[df_report_type[\"Conversion Pixel\"] !=\"Total\"][[col for col in df_report_type.columns if col in Columns]+[\"Conversion Pixel\",\"Total Conversions\"]]\n",
    "            df_hva=df_hva.groupby([col for col in df_report_type.columns if col in Columns]+['Conversion Pixel'])['Total Conversions'].sum().to_frame()\n",
    "            df_hva.reset_index(inplace=True)\n",
    "            df_hva=df_hva.pivot_table(index=[str([col for col in df_report_type.columns if col in Columns][0]),str([col for col in df_report_type.columns if col in Columns][1])],columns=\"Conversion Pixel\",values=\"Total Conversions\")\n",
    "            df_hva.reset_index(inplace=True)\n",
    "            df_hva=df_hva.fillna(0)\n",
    "            \n",
    "            df_non_hva=df_report_type[df_report_type[\"Conversion Pixel\"] ==\"Total\"][[col for col in df_report_type.columns if col in Columns]+[\"Impressions\",\"Clicks\",\"Revenue (Adv Currency)\"]]\n",
    "            df_non_hva=df_non_hva.groupby([col for col in df_report_type.columns if col in Columns])[\"Impressions\",\"Clicks\",\"Revenue (Adv Currency)\"].sum()\n",
    "            df_non_hva.reset_index(inplace=True)\n",
    "\n",
    "            df_merge=pd.merge(df_non_hva,df_hva,on=[col for col in df_report_type.columns if col in Columns],how=\"outer\")\n",
    "\n",
    "        # df_merge=df_merge.fillna(0)\n",
    "\n",
    "        if 'Snap Fitness - Franchise Thank You' not in df_merge.columns.values.tolist():\n",
    "            df_merge.rename(columns={'Revenue (Adv Currency)':'Cost'}, inplace=True)\n",
    "            df_merge['HVA']=df_merge[[col for col in df_merge.columns if col in HVA]].sum(axis=1)\n",
    "            df_merge['CPHVA']=df_merge['Cost']/df_merge['HVA']\n",
    "            df_merge['CPC']=df_merge['Cost']/df_merge['Clicks']\n",
    "            df_merge['CTR']=df_merge['Clicks']/df_merge['Impressions']\n",
    "            df_merge['CPM']=df_merge['Cost']/df_merge['Impressions']*1000\n",
    "            df_merge.reset_index(inplace=True)\n",
    "            df_merge=df_merge[[col for col in df_report_type.columns if col in Columns]+[\"Impressions\",\"Clicks\",\"Cost\",\"HVA\",\"CTR\",\"CPHVA\",\"CPC\",\"CPM\"]+[col for col in df_merge.columns if col in HVA]]\n",
    "            if str([col for col in df_report_type.columns if col in Columns][0]) != \"Date\":\n",
    "                df_merge=df_merge.sort_values(['CPHVA','CTR','CPC','CPM'], ascending=[True,False,True,True])\n",
    "        \n",
    "            writer_list[i].append(df_merge)\n",
    "              \n",
    "\n",
    " \n",
    "        if 'Snap Fitness - Franchise Thank You' in df_merge.columns.values.tolist():\n",
    "\n",
    "            df_merge.rename(columns={'Revenue (Adv Currency)':'Cost'}, inplace=True)\n",
    "            df_merge['CP_ThankYou_Page']=df_merge['Cost']/df_merge['Snap Fitness - Franchise Thank You']\n",
    "            df_merge['HVA']=df_merge[[col for col in df_merge.columns if col in HVA]].sum(axis=1)\n",
    "            df_merge['CPHVA']=df_merge['Cost']/df_merge['HVA']\n",
    "            df_merge['CPC']=df_merge['Cost']/df_merge['Clicks']\n",
    "            df_merge['CTR']=df_merge['Clicks']/df_merge['Impressions']\n",
    "            df_merge['CPM']=df_merge['Cost']/df_merge['Impressions']*1000\n",
    "            df_merge.reset_index(inplace=True)\n",
    "            df_merge=df_merge[[col for col in df_report_type.columns if col in Columns]+[\"Impressions\",\"Clicks\",\"Cost\",\"HVA\",\"CTR\",\"CP_ThankYou_Page\",\"CPHVA\",\"CPC\",\"CPM\"]+[col for col in df_merge.columns if col in HVA]]\n",
    "\n",
    "            if str([col for col in df_report_type.columns if col in Columns][0]) != \"Date\":\n",
    "                df_merge=df_merge.sort_values(['CP_ThankYou_Page','CPHVA','CTR','CPC','CPM'], ascending=[True,True,False,True,True])\n",
    "\n",
    "            writer_list[i].append(df_merge)\n",
    "\n",
    "        \n",
    "        # df_merge=df_merge[,c(names(df_merge)[which(names(df_merge) %ni% matrix & names(df_merge) %ni% Total_HVA_Reshaped)],matrix, names(df_merge)[which(names(df_merge) %in% Total_HVA_Reshaped)])]\n",
    "        # names(df_merge)=c(names(df_merge)[1:which(names(df_merge)==\"CPM\")],sapply(names(df_merge)[(which(names(df_merge)==\"CPM\")+1):ncol(df_merge)],function(x) substr(x,(nchar(\"Total.Conversions.\")+1),nchar(x))))\n",
    "        # df_merge=df_merge[order(df_merge$CPHVA,df_merge$CTR,df_merge$CPC,df_merge$CPM,decreasing = c(FALSE,TRUE,FALSE,FALSE)),]\n",
    "        # df_merge$Thank.You.Page<-rep(NA,nrow(df_merge))\n",
    "        # writer[[j]][[i]]=df_merge\n",
    "    "
   ]
  },
  {
   "cell_type": "code",
   "execution_count": 5,
   "metadata": {
    "collapsed": true
   },
   "outputs": [],
   "source": [
    "writer_JUBA=pd.ExcelWriter(\"/home/jian/Projects/LIFT/DBM/Output/\"+end_date+\"/\"+end_date+'_JUBA.xlsx', engine='xlsxwriter')\n",
    "writer_Kw=pd.ExcelWriter(\"/home/jian/Projects/LIFT/DBM/Output/\"+end_date+\"/\"+end_date+'_Kw.xlsx', engine='xlsxwriter')\n",
    "writer_Retarget=pd.ExcelWriter(\"/home/jian/Projects/LIFT/DBM/Output/\"+end_date+\"/\"+end_date+'_Retarget.xlsx', engine='xlsxwriter')\n",
    "writer_LAL=pd.ExcelWriter(\"/home/jian/Projects/LIFT/DBM/Output/\"+end_date+\"/\"+end_date+'_LAL.xlsx', engine='xlsxwriter')\n",
    "\n",
    "\n",
    "for i in range(len(file_list)):\n",
    "    writer_list[i][0].to_excel(writer_JUBA,str(writer_list[i][0].columns[0]).replace(\"/\",\" \"),index=False)\n",
    "    writer_list[i][1].to_excel(writer_Kw,str(writer_list[i][0].columns[0]).replace(\"/\",\" \"),index=False)\n",
    "    writer_list[i][2].to_excel(writer_Retarget,str(writer_list[i][0].columns[0]).replace(\"/\",\" \"),index=False)\n",
    "    writer_list[i][3].to_excel(writer_LAL,str(writer_list[i][0].columns[0]).replace(\"/\",\" \"),index=False)"
   ]
  },
  {
   "cell_type": "code",
   "execution_count": 6,
   "metadata": {
    "collapsed": true
   },
   "outputs": [],
   "source": [
    "workbook_JUBA  = writer_JUBA.book\n",
    "format1_Dollar = workbook_JUBA.add_format({'num_format': '[$$-409]#,##0.00'})\n",
    "format2_Pctg = workbook_JUBA.add_format({'num_format': '0.00%'})\n",
    "\n",
    "Date_JUBA=writer_JUBA.sheets['Date']\n",
    "Day_of_Week_JUBA=writer_JUBA.sheets['Day of Week']\n",
    "Time_of_Day_JUBA=writer_JUBA.sheets['Time of Day']\n",
    "City_JUBA=writer_JUBA.sheets['City'] #2\n",
    "DMA_Name_JUBA=writer_JUBA.sheets['DMA Name']\n",
    "Region_JUBA=writer_JUBA.sheets['Region']\n",
    "App_URL_JUBA=writer_JUBA.sheets['App URL']\n",
    "Browser_JUBA=writer_JUBA.sheets['Browser']\n",
    "Creative_JUBA=writer_JUBA.sheets['Creative']\n",
    "Creative_Width_JUBA=writer_JUBA.sheets['Creative Width'] #2\n",
    "Device_Type_JUBA=writer_JUBA.sheets['Device Type']\n",
    "ISP_or_Carrier_JUBA=writer_JUBA.sheets['ISP or Carrier']\n",
    "Operating_System_JUBA=writer_JUBA.sheets['Operating System']\n",
    "\n",
    "One_Index_List=[Date_JUBA,Day_of_Week_JUBA,Time_of_Day_JUBA,DMA_Name_JUBA,Region_JUBA,App_URL_JUBA,Browser_JUBA,Creative_JUBA,\n",
    "               Device_Type_JUBA,ISP_or_Carrier_JUBA,Operating_System_JUBA]\n",
    "Two_Index_List=[City_JUBA,Creative_Width_JUBA]\n",
    "\n",
    "for one_index_worksheet in One_Index_List:\n",
    "    one_index_worksheet.set_column('D:D',None,format1_Dollar)\n",
    "    one_index_worksheet.set_column('G:J',None,format1_Dollar)\n",
    "    one_index_worksheet.set_column('F:F',None,format2_Pctg)\n",
    "    \n",
    "for two_index_worksheet in Two_Index_List:\n",
    "    two_index_worksheet.set_column('E:E',None,format1_Dollar)\n",
    "    two_index_worksheet.set_column('H:K',None,format1_Dollar)\n",
    "    two_index_worksheet.set_column('G:G',None,format2_Pctg)\n",
    "\n",
    "Creative_Width_JUBA.Name = 'Creative Size'\n"
   ]
  },
  {
   "cell_type": "code",
   "execution_count": 7,
   "metadata": {
    "collapsed": true
   },
   "outputs": [],
   "source": [
    "workbook_Kw  = writer_Kw.book\n",
    "format1_Dollar = workbook_Kw.add_format({'num_format': '[$$-409]#,##0.00'})\n",
    "format2_Pctg = workbook_Kw.add_format({'num_format': '0.00%'})\n",
    "\n",
    "Date_Kw=writer_Kw.sheets['Date']\n",
    "Day_of_Week_Kw=writer_Kw.sheets['Day of Week']\n",
    "Time_of_Day_Kw=writer_Kw.sheets['Time of Day']\n",
    "City_Kw=writer_Kw.sheets['City'] #2\n",
    "DMA_Name_Kw=writer_Kw.sheets['DMA Name']\n",
    "Region_Kw=writer_Kw.sheets['Region']\n",
    "App_URL_Kw=writer_Kw.sheets['App URL']\n",
    "Browser_Kw=writer_Kw.sheets['Browser']\n",
    "Creative_Kw=writer_Kw.sheets['Creative']\n",
    "Creative_Width_Kw=writer_Kw.sheets['Creative Width'] #2\n",
    "Device_Type_Kw=writer_Kw.sheets['Device Type']\n",
    "ISP_or_Carrier_Kw=writer_Kw.sheets['ISP or Carrier']\n",
    "Operating_System_Kw=writer_Kw.sheets['Operating System']\n",
    "\n",
    "One_Index_List=[Date_Kw,Day_of_Week_Kw,Time_of_Day_Kw,DMA_Name_Kw,Region_Kw,App_URL_Kw,Browser_Kw,Creative_Kw,\n",
    "               Device_Type_Kw,ISP_or_Carrier_Kw,Operating_System_Kw]\n",
    "Two_Index_List=[City_Kw,Creative_Width_Kw]\n",
    "\n",
    "for one_index_worksheet in One_Index_List:\n",
    "    one_index_worksheet.set_column('D:D',None,format1_Dollar)\n",
    "    one_index_worksheet.set_column('G:J',None,format1_Dollar)\n",
    "    one_index_worksheet.set_column('F:F',None,format2_Pctg)\n",
    "    \n",
    "for two_index_worksheet in Two_Index_List:\n",
    "    two_index_worksheet.set_column('E:E',None,format1_Dollar)\n",
    "    two_index_worksheet.set_column('H:K',None,format1_Dollar)\n",
    "    two_index_worksheet.set_column('G:G',None,format2_Pctg)\n",
    "\n",
    "Creative_Width_Kw.Name = 'Creative Size'\n"
   ]
  },
  {
   "cell_type": "code",
   "execution_count": 8,
   "metadata": {
    "collapsed": true
   },
   "outputs": [],
   "source": [
    "workbook_Retarget  = writer_Retarget.book\n",
    "format1_Dollar = workbook_Retarget.add_format({'num_format': '[$$-409]#,##0.00'})\n",
    "format2_Pctg = workbook_Retarget.add_format({'num_format': '0.00%'})\n",
    "\n",
    "Date_Retarget=writer_Retarget.sheets['Date']\n",
    "Day_of_Week_Retarget=writer_Retarget.sheets['Day of Week']\n",
    "Time_of_Day_Retarget=writer_Retarget.sheets['Time of Day']\n",
    "City_Retarget=writer_Retarget.sheets['City'] #2\n",
    "DMA_Name_Retarget=writer_Retarget.sheets['DMA Name']\n",
    "Region_Retarget=writer_Retarget.sheets['Region']\n",
    "App_URL_Retarget=writer_Retarget.sheets['App URL']\n",
    "Browser_Retarget=writer_Retarget.sheets['Browser']\n",
    "Creative_Retarget=writer_Retarget.sheets['Creative']\n",
    "Creative_Width_Retarget=writer_Retarget.sheets['Creative Width'] #2\n",
    "Device_Type_Retarget=writer_Retarget.sheets['Device Type']\n",
    "ISP_or_Carrier_Retarget=writer_Retarget.sheets['ISP or Carrier']\n",
    "Operating_System_Retarget=writer_Retarget.sheets['Operating System']\n",
    "\n",
    "One_Index_List=[Date_Retarget,Day_of_Week_Retarget,Time_of_Day_Retarget,DMA_Name_Retarget,Region_Retarget,App_URL_Retarget,Browser_Retarget,Creative_Retarget,\n",
    "               Device_Type_Retarget,ISP_or_Carrier_Retarget,Operating_System_Retarget]\n",
    "Two_Index_List=[City_Retarget,Creative_Width_Retarget]\n",
    "\n",
    "for one_index_worksheet in One_Index_List:\n",
    "    one_index_worksheet.set_column('D:D',None,format1_Dollar)\n",
    "    one_index_worksheet.set_column('G:J',None,format1_Dollar)\n",
    "    one_index_worksheet.set_column('F:F',None,format2_Pctg)\n",
    "    \n",
    "for two_index_worksheet in Two_Index_List:\n",
    "    two_index_worksheet.set_column('E:E',None,format1_Dollar)\n",
    "    two_index_worksheet.set_column('H:K',None,format1_Dollar)\n",
    "    two_index_worksheet.set_column('G:G',None,format2_Pctg)\n",
    "\n",
    "Creative_Width_Retarget.Name = 'Creative Size'\n"
   ]
  },
  {
   "cell_type": "code",
   "execution_count": 9,
   "metadata": {
    "collapsed": true
   },
   "outputs": [],
   "source": [
    "workbook_LAL  = writer_LAL.book\n",
    "format1_Dollar = workbook_LAL.add_format({'num_format': '[$$-409]#,##0.00'})\n",
    "format2_Pctg = workbook_LAL.add_format({'num_format': '0.00%'})\n",
    "\n",
    "Date_LAL=writer_LAL.sheets['Date']\n",
    "Day_of_Week_LAL=writer_LAL.sheets['Day of Week']\n",
    "Time_of_Day_LAL=writer_LAL.sheets['Time of Day']\n",
    "City_LAL=writer_LAL.sheets['City'] #2\n",
    "DMA_Name_LAL=writer_LAL.sheets['DMA Name']\n",
    "Region_LAL=writer_LAL.sheets['Region']\n",
    "App_URL_LAL=writer_LAL.sheets['App URL']\n",
    "Browser_LAL=writer_LAL.sheets['Browser']\n",
    "Creative_LAL=writer_LAL.sheets['Creative']\n",
    "Creative_Width_LAL=writer_LAL.sheets['Creative Width'] #2\n",
    "Device_Type_LAL=writer_LAL.sheets['Device Type']\n",
    "ISP_or_Carrier_LAL=writer_LAL.sheets['ISP or Carrier']\n",
    "Operating_System_LAL=writer_LAL.sheets['Operating System']\n",
    "\n",
    "One_Index_List=[Date_LAL,Day_of_Week_LAL,Time_of_Day_LAL,DMA_Name_LAL,Region_LAL,App_URL_LAL,Browser_LAL,Creative_LAL,\n",
    "               Device_Type_LAL,ISP_or_Carrier_LAL,Operating_System_LAL]\n",
    "Two_Index_List=[City_LAL,Creative_Width_LAL]\n",
    "\n",
    "for one_index_worksheet in One_Index_List:\n",
    "    one_index_worksheet.set_column('D:D',None,format1_Dollar)\n",
    "    one_index_worksheet.set_column('G:J',None,format1_Dollar)\n",
    "    one_index_worksheet.set_column('F:F',None,format2_Pctg)\n",
    "    \n",
    "for two_index_worksheet in Two_Index_List:\n",
    "    two_index_worksheet.set_column('E:E',None,format1_Dollar)\n",
    "    two_index_worksheet.set_column('H:K',None,format1_Dollar)\n",
    "    two_index_worksheet.set_column('G:G',None,format2_Pctg)\n",
    "\n",
    "Creative_Width_LAL.Name = 'Creative Size'\n"
   ]
  },
  {
   "cell_type": "code",
   "execution_count": 10,
   "metadata": {
    "collapsed": true
   },
   "outputs": [],
   "source": [
    "writer_JUBA.save()\n",
    "writer_Kw.save()\n",
    "writer_Retarget.save()\n",
    "writer_LAL.save()"
   ]
  },
  {
   "cell_type": "code",
   "execution_count": null,
   "metadata": {
    "collapsed": true
   },
   "outputs": [],
   "source": []
  },
  {
   "cell_type": "code",
   "execution_count": null,
   "metadata": {
    "collapsed": true
   },
   "outputs": [],
   "source": []
  }
 ],
 "metadata": {
  "kernelspec": {
   "display_name": "Python 3",
   "language": "python",
   "name": "python3"
  },
  "language_info": {
   "codemirror_mode": {
    "name": "ipython",
    "version": 3
   },
   "file_extension": ".py",
   "mimetype": "text/x-python",
   "name": "python",
   "nbconvert_exporter": "python",
   "pygments_lexer": "ipython3",
   "version": "3.6.1"
  }
 },
 "nbformat": 4,
 "nbformat_minor": 2
}
