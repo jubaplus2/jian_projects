{
 "cells": [
  {
   "cell_type": "code",
   "execution_count": 13,
   "metadata": {
    "collapsed": true
   },
   "outputs": [],
   "source": [
    "import pandas as pd\n",
    "from haversine import haversine\n",
    "import json\n",
    "import datetime\n",
    "import numpy as np\n",
    "import zipcodes"
   ]
  },
  {
   "cell_type": "code",
   "execution_count": 14,
   "metadata": {
    "collapsed": true
   },
   "outputs": [],
   "source": [
    "zip_centers=json.load(open(\"/home/jian/Docs/Geo_mapping/center_of_rentrak_zip.json\"))"
   ]
  },
  {
   "cell_type": "code",
   "execution_count": 15,
   "metadata": {
    "collapsed": true
   },
   "outputs": [],
   "source": [
    "zip_DMA=pd.read_excel(\"/home/jian/Docs/Geo_mapping/Zips by DMA by County16-17 nielsen.xlsx\",dtype=str,skiprows=1,usecols=[0,2])\n",
    "zip_DMA=zip_DMA.rename(columns={\"CODE\":\"store_zip\",\"NAME\":\"Market\"})\n",
    "zip_DMA=zip_DMA.drop_duplicates()"
   ]
  },
  {
   "cell_type": "code",
   "execution_count": 16,
   "metadata": {},
   "outputs": [
    {
     "name": "stdout",
     "output_type": "stream",
     "text": [
      "False\n",
      "True\n"
     ]
    },
    {
     "data": {
      "text/html": [
       "<div>\n",
       "<style>\n",
       "    .dataframe thead tr:only-child th {\n",
       "        text-align: right;\n",
       "    }\n",
       "\n",
       "    .dataframe thead th {\n",
       "        text-align: left;\n",
       "    }\n",
       "\n",
       "    .dataframe tbody tr th {\n",
       "        vertical-align: top;\n",
       "    }\n",
       "</style>\n",
       "<table border=\"1\" class=\"dataframe\">\n",
       "  <thead>\n",
       "    <tr style=\"text-align: right;\">\n",
       "      <th></th>\n",
       "      <th>Store ID</th>\n",
       "      <th>store_zip</th>\n",
       "      <th>Latitude_meas</th>\n",
       "      <th>Longitude_meas</th>\n",
       "      <th>G.O.</th>\n",
       "    </tr>\n",
       "  </thead>\n",
       "  <tbody>\n",
       "    <tr>\n",
       "      <th>1233</th>\n",
       "      <td>5215</td>\n",
       "      <td>32405</td>\n",
       "      <td>30.187841</td>\n",
       "      <td>-85.670084</td>\n",
       "      <td>2019-05-24</td>\n",
       "    </tr>\n",
       "  </tbody>\n",
       "</table>\n",
       "</div>"
      ],
      "text/plain": [
       "     Store ID store_zip  Latitude_meas  Longitude_meas        G.O.\n",
       "1233     5215     32405      30.187841      -85.670084  2019-05-24"
      ]
     },
     "execution_count": 16,
     "metadata": {},
     "output_type": "execute_result"
    }
   ],
   "source": [
    "store_list_SFTP=pd.read_table(\"/home/jian/BigLots/static_files/Store_list/MediaStormStores20190401-134939-117.txt\",dtype=str,sep=\"|\")\n",
    "print(\"5391\" in store_list_SFTP['location_id'].tolist())\n",
    "print(\"5215\" in store_list_SFTP['location_id'].tolist())\n",
    "\n",
    "SOTF_list=['5391','5215']\n",
    "\n",
    "store_list_SFTP=store_list_SFTP[store_list_SFTP['location_id'].isin(SOTF_list)]\n",
    "store_list_SFTP=store_list_SFTP[['location_id','zip_cd','latitude_meas','longitude_meas']].rename(columns={\"location_id\":\"Store ID\",\"zip_cd\":\"store_zip\",\"latitude_meas\":\"Latitude_meas\",\"longitude_meas\":\"Longitude_meas\"})\n",
    "store_list_SFTP['store_zip']=store_list_SFTP['store_zip'].apply(lambda x: x.split(\"-\")[0].zfill(5))\n",
    "store_list_SFTP['Latitude_meas']=store_list_SFTP['Latitude_meas'].astype(float)\n",
    "store_list_SFTP['Longitude_meas']=store_list_SFTP['Longitude_meas'].astype(float)\n",
    "\n",
    "store_list_SFTP['G.O.']=\"2019-05-24\"\n",
    "store_list_SFTP"
   ]
  },
  {
   "cell_type": "code",
   "execution_count": 17,
   "metadata": {},
   "outputs": [
    {
     "name": "stdout",
     "output_type": "stream",
     "text": [
      "['5215']\n"
     ]
    }
   ],
   "source": [
    "store_level_zips=pd.read_csv(\"/home/jian/Projects/Big_Lots/New_TA/zips_in_new_ta/sales_by_zip (Store level).csv\",\n",
    "                             dtype=str,usecols=['location_id','zip','revenue_flag'])\n",
    "store_level_zips=store_level_zips[store_level_zips['location_id'].isin(SOTF_list)]\n",
    "print(store_level_zips['location_id'].unique())\n",
    "store_level_zips=store_level_zips[store_level_zips['revenue_flag'].isin(['P','S'])]\n",
    "store_level_zips=store_level_zips.rename(columns={\"location_id\":\"Store ID\",\"revenue_flag\":'Revenue_flag'})"
   ]
  },
  {
   "cell_type": "code",
   "execution_count": 20,
   "metadata": {
    "collapsed": true
   },
   "outputs": [],
   "source": [
    "output_0517=pd.merge(store_list_SFTP,store_level_zips,on=\"Store ID\",how=\"left\")\n",
    "output_0517=output_0517[['Store ID','G.O.','Longitude_meas','Latitude_meas','Revenue_flag','zip','store_zip']]"
   ]
  },
  {
   "cell_type": "code",
   "execution_count": 21,
   "metadata": {},
   "outputs": [
    {
     "name": "stderr",
     "output_type": "stream",
     "text": [
      "/usr/local/lib/python3.6/site-packages/ipykernel_launcher.py:8: SettingWithCopyWarning: \n",
      "A value is trying to be set on a copy of a slice from a DataFrame\n",
      "\n",
      "See the caveats in the documentation: http://pandas.pydata.org/pandas-docs/stable/indexing.html#indexing-view-versus-copy\n",
      "  \n",
      "/usr/local/lib/python3.6/site-packages/ipykernel_launcher.py:13: SettingWithCopyWarning: \n",
      "A value is trying to be set on a copy of a slice from a DataFrame\n",
      "\n",
      "See the caveats in the documentation: http://pandas.pydata.org/pandas-docs/stable/indexing.html#indexing-view-versus-copy\n",
      "  del sys.path[0]\n"
     ]
    }
   ],
   "source": [
    "output_0517['Distance (mile)']=np.nan\n",
    "for i in range(len(output_0517)):\n",
    "    zip_cd=output_0517['zip'][i]\n",
    "    store_center=(output_0517['Latitude_meas'][i],output_0517['Longitude_meas'][i])\n",
    "    if zip_cd in zip_centers.keys():\n",
    "        zip_center=zip_centers[zip_cd]\n",
    "        dist=haversine(store_center,zip_center,miles=True)\n",
    "        output_0517['Distance (mile)'][i]=dist\n",
    "    else:\n",
    "        try:\n",
    "            zip_center=[zipcodes.matching(zip_cd)[0]['lat'],zipcodes.matching(zip_cd)[0]['long']]\n",
    "            dist=haversine(store_center,zip_center,miles=True)\n",
    "            output_0517['Distance (mile)'][i]=dist\n",
    "        except:\n",
    "            output_0517['Distance (mile)'][i]=np.nan\n",
    "            \n",
    "output_0517=output_0517[(output_0517['Revenue_flag']!=\"S\") | (output_0517['Distance (mile)']<=20)]"
   ]
  },
  {
   "cell_type": "code",
   "execution_count": 8,
   "metadata": {
    "collapsed": true
   },
   "outputs": [],
   "source": [
    "store_location_dict={}\n",
    "# address in excel: 1251 BURKEMONT AVENUE\tMAGNOLIA PLAZA\tMORGANTON\tNC\t28655\n",
    "# address googled: 1251 Burkemont Ave, Morganton, NC 28655\n",
    "store_location_dict.update({\"0\":{\"Store ID\":\"5391\",\n",
    "                            \"store_zip\":\"28655\",\n",
    "                            \"Latitude_meas\":35.715747,\n",
    "                            \"Longitude_meas\":-81.6964109,\n",
    "                            \"G.O.\":\"2019-05-17\"}})\n",
    "\n",
    "store_list_5391=pd.DataFrame(store_location_dict).T\n",
    "\n",
    "store_list_5391=store_list_5391[store_list_SFTP.columns.tolist()]"
   ]
  },
  {
   "cell_type": "code",
   "execution_count": 9,
   "metadata": {
    "collapsed": true
   },
   "outputs": [],
   "source": [
    "store_number=store_list_5391['Store ID'].tolist()[0]    \n",
    "df_5391=pd.DataFrame({\"Store ID\":store_number,\"zip\":store_list_5391['store_zip'].tolist()[0],'Revenue_flag':\"zip_in_10\",\"Distance (mile)\":\"store_zip\"},index=[0])\n",
    "\n",
    "\n",
    "store_centers=[store_list_5391['Latitude_meas'].tolist()[0],store_list_5391['Longitude_meas'].tolist()[0]]\n",
    "\n",
    "for zip_cd in zip_centers.keys():\n",
    "    zip_center=zip_centers[zip_cd]    \n",
    "    dist=haversine(store_centers,zip_center,miles=True)\n",
    "    i_counter=1\n",
    "    if dist<=10:\n",
    "        df=pd.DataFrame({\"Store ID\":store_number,\"zip\":zip_cd,'Revenue_flag':\"zip_in_10\",\"Distance (mile)\":dist},index=[i_counter])\n",
    "        i_counter+=1\n",
    "        df_5391=df_5391.append(df)"
   ]
  },
  {
   "cell_type": "code",
   "execution_count": 10,
   "metadata": {
    "collapsed": true
   },
   "outputs": [],
   "source": [
    "output_0524=pd.merge(store_list_5391,df_5391,on=\"Store ID\",how=\"left\")\n",
    "output_0524=output_0524[output_0517.columns.tolist()]"
   ]
  },
  {
   "cell_type": "code",
   "execution_count": 11,
   "metadata": {},
   "outputs": [
    {
     "data": {
      "text/plain": [
       "'/home/jian/Projects/Big_Lots/Analysis/2019_Q1/Planner_Request/Zips_2_stores_SOTF_20190502'"
      ]
     },
     "execution_count": 11,
     "metadata": {},
     "output_type": "execute_result"
    }
   ],
   "source": [
    "import os\n",
    "os.getcwd()"
   ]
  },
  {
   "cell_type": "code",
   "execution_count": 12,
   "metadata": {
    "collapsed": true
   },
   "outputs": [],
   "source": [
    "writer=pd.ExcelWriter(\"/home/jian/Projects/Big_Lots/Analysis/2019_Q1/Planner_Request/Zips_2_stores_SOTF_20190502/BL_zips_for_2_SOTF_JL_\"+str(datetime.datetime.now().date())+\".xlsx\",engine=\"xlsxwriter\")\n",
    "\n",
    "output_0517.to_excel(writer,\"BL_5.17 Zips_1 Store\",index=False)\n",
    "output_0524.to_excel(writer,\"BL_5.24 Zips_1 Store\",index=False)\n",
    "\n",
    "writer.save()"
   ]
  },
  {
   "cell_type": "code",
   "execution_count": null,
   "metadata": {
    "collapsed": true
   },
   "outputs": [],
   "source": []
  }
 ],
 "metadata": {
  "kernelspec": {
   "display_name": "Python 3",
   "language": "python",
   "name": "python3"
  },
  "language_info": {
   "codemirror_mode": {
    "name": "ipython",
    "version": 3
   },
   "file_extension": ".py",
   "mimetype": "text/x-python",
   "name": "python",
   "nbconvert_exporter": "python",
   "pygments_lexer": "ipython3",
   "version": "3.6.1"
  }
 },
 "nbformat": 4,
 "nbformat_minor": 2
}
