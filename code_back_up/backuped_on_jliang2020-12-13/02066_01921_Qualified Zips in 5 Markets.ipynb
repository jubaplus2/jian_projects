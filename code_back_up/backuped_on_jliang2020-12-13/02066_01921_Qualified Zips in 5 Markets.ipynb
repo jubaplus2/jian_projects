{
 "cells": [
  {
   "cell_type": "markdown",
   "metadata": {},
   "source": [
    "# Select Zips within 5 miles of Walmats in the selected 5 Markets"
   ]
  },
  {
   "cell_type": "code",
   "execution_count": 505,
   "metadata": {
    "collapsed": true
   },
   "outputs": [],
   "source": [
    "import pandas as pd\n",
    "import numpy as np"
   ]
  },
  {
   "cell_type": "code",
   "execution_count": 506,
   "metadata": {},
   "outputs": [],
   "source": [
    "Walmart_Zips=pd.read_csv(\"/home/jian/SunnyD/Otherinput/walmart_stores_with_zip.csv\")\n",
    "Walmart_Zips=Walmart_Zips[pd.notnull(Walmart_Zips['zip within 5 miles'])]"
   ]
  },
  {
   "cell_type": "code",
   "execution_count": 507,
   "metadata": {},
   "outputs": [],
   "source": [
    "Walmart_Zips['zip within 5 miles']=Walmart_Zips['zip within 5 miles'].apply(lambda x: x.replace(\"[\",\"\"))\n",
    "Walmart_Zips['zip within 5 miles']=Walmart_Zips['zip within 5 miles'].apply(lambda x: x.replace(\"]\",\"\"))\n",
    "Walmart_Zips['zip within 5 miles']=Walmart_Zips['zip within 5 miles'].apply(lambda x: x.replace(\"u\",\"\"))\n",
    "Walmart_Zips['zip code']=Walmart_Zips['zip code'].astype(int)"
   ]
  },
  {
   "cell_type": "code",
   "execution_count": 508,
   "metadata": {},
   "outputs": [],
   "source": [
    "all_zips_in_IRI=pd.read_excel(\"/home/jian/SunnyD/Otherinput/All_IRI_Mkt_with_Zips.xlsx\")\n",
    "Selected_MKTs=['SOUTH CAROLINA','MIAMI/FT LAUDERDALE','DALLAS/FT WORTH','WEST TEX/NEW MEXICO','BALTIMORE/WASHINGTON']\n",
    "Selected_MKTs_Zips=all_zips_in_IRI[all_zips_in_IRI['IRI_Market'].isin(Selected_MKTs)]\n",
    "Selected_MKTs_Zips.reset_index(inplace=True)\n",
    "del Selected_MKTs_Zips['index']"
   ]
  },
  {
   "cell_type": "code",
   "execution_count": 509,
   "metadata": {},
   "outputs": [],
   "source": [
    "Walmart_Zips_In_Selected_MKTs=Walmart_Zips[Walmart_Zips['zip code'].isin(Selected_MKTs_Zips['zip_cd'])]\n",
    "Walmart_Zips_In_Selected_MKTs.reset_index(inplace=True)\n",
    "del Walmart_Zips_In_Selected_MKTs['index']"
   ]
  },
  {
   "cell_type": "code",
   "execution_count": 510,
   "metadata": {},
   "outputs": [],
   "source": [
    "walmart_zips_in_selected_mkt=pd.DataFrame(columns=['Zip_Code','address_of_walmart','city_of_walmart','zip_of_walmart','number_of_walmart','state_of_walmart',\n",
    "                            'latitude_of_walmart','longitude_of_walmart'])\n",
    "for i in range(len(Walmart_Zips_In_Selected_MKTs)):\n",
    "    zips_for_WalMart_store=Walmart_Zips_In_Selected_MKTs['zip within 5 miles'][i]\n",
    "    df=pd.DataFrame(columns=['zips_in_5_miles','address_of_walmart','city_of_walmart','zip_of_walmart','number_of_walmart','state_of_walmart',\n",
    "                            'latitude_of_walmart','longitude_of_walmart'])\n",
    "    zips_for_WalMart_store=zips_for_WalMart_store.split(', ')\n",
    "    #for j in range(len(zips_for_WalMart_store)):\n",
    "        #df['zips_in_5_miles'][j]=zips_for_WalMart_store[j]\n",
    "    df['Zip_Code']=zips_for_WalMart_store\n",
    "    df['address_of_walmart']=Walmart_Zips_In_Selected_MKTs['address'][i]\n",
    "    df['city_of_walmart']=Walmart_Zips_In_Selected_MKTs['city'][i]\n",
    "    df['zip_of_walmart']=Walmart_Zips_In_Selected_MKTs['zip code'][i]\n",
    "    df['number_of_walmart']=Walmart_Zips_In_Selected_MKTs['number'][i]\n",
    "    df['state_of_walmart']=Walmart_Zips_In_Selected_MKTs['state'][i]\n",
    "    df['latitude_of_walmart']=Walmart_Zips_In_Selected_MKTs['lat'][i]\n",
    "    df['longitude_of_walmart']=Walmart_Zips_In_Selected_MKTs['lng'][i]\n",
    "    walmart_zips_in_selected_mkt=walmart_zips_in_selected_mkt.append(df)\n",
    "    \n",
    "walmart_zips_in_selected_mkt.reset_index(inplace=True)\n",
    "del walmart_zips_in_selected_mkt['index']  \n",
    "walmart_zips_in_selected_mkt['Zip_Code']=walmart_zips_in_selected_mkt['Zip_Code'].apply(lambda x: x.replace(\"'\",\"\"))\n",
    "walmart_zips_in_selected_mkt['Zip_Code']=walmart_zips_in_selected_mkt['Zip_Code'].astype(int)"
   ]
  },
  {
   "cell_type": "markdown",
   "metadata": {},
   "source": [
    "# Calculating Demo for Mother and teenagers"
   ]
  },
  {
   "cell_type": "code",
   "execution_count": 511,
   "metadata": {},
   "outputs": [
    {
     "name": "stderr",
     "output_type": "stream",
     "text": [
      "/usr/local/lib/python3.6/site-packages/IPython/core/interactiveshell.py:2683: DtypeWarning: Columns (9,13,17,21,33,37,41,45,49,61,77,89,93,97,101,105,109,113,117,237,265,269,289) have mixed types. Specify dtype option on import or set low_memory=False.\n",
      "  interactivity=interactivity, compiler=compiler, result=result)\n"
     ]
    }
   ],
   "source": [
    "demo_zips=pd.read_csv(\"/home/jian/SunnyD/Otherinput/ACS_13_5YR_DP05_with_ann-2.csv\",skiprows=1,na_values=['-','N'])\n",
    "demo_zips=demo_zips[['Zip code','Mean income (dollars); Estimate; All households','Estimate; SEX AND AGE - Total population - Female',\n",
    "                   'Estimate; SEX AND AGE - 10 to 14 years','Estimate; SEX AND AGE - 15 to 19 years','Percent; SEX AND AGE - 25 to 34 years',\n",
    "                   'Percent; SEX AND AGE - 35 to 44 years','Percent; SEX AND AGE - 45 to 54 years']]"
   ]
  },
  {
   "cell_type": "code",
   "execution_count": 512,
   "metadata": {},
   "outputs": [],
   "source": [
    "demo_zips.columns=['Zip_Code','Mean_HH_Income','All_Female_Population','Age_10_to_14_Pop','Age_15_to_19_Pop',\n",
    "                   'Pctg_25_to_34','Pctg_35_to_44','Pctg_45_to_54']\n",
    "\n",
    "demo_zips=demo_zips[pd.notnull(demo_zips['Zip_Code'])]\n",
    "demo_zips['Zip_Code']=demo_zips['Zip_Code'].astype(int)\n",
    "demo_zips=demo_zips[demo_zips['Zip_Code'].isin(walmart_zips_in_selected_mkt['Zip_Code'])] #In Walmart & In 5 Markets\n",
    "\n",
    "demo_zips['Mean_HH_Income']=demo_zips['Mean_HH_Income'].fillna(value=0)\n",
    "demo_zips['Mean_HH_Income']=demo_zips['Mean_HH_Income'].astype(int)\n",
    "demo_zips['All_Female_Population']=demo_zips['All_Female_Population'].astype(int)\n",
    "demo_zips['Age_10_to_14_Pop']=demo_zips['Age_10_to_14_Pop'].astype(int)\n",
    "demo_zips['Age_15_to_19_Pop']=demo_zips['Age_15_to_19_Pop'].astype(int)\n",
    "demo_zips['Pctg_25_to_34']=demo_zips['Pctg_25_to_34'].astype(float)\n",
    "demo_zips['Pctg_35_to_44']=demo_zips['Pctg_35_to_44'].astype(float)\n",
    "demo_zips['Pctg_45_to_54']=demo_zips['Pctg_45_to_54'].astype(float)\n",
    "demo_zips['Teenager_Pop']=demo_zips['Age_10_to_14_Pop']+demo_zips['Age_15_to_19_Pop']\n",
    "demo_zips['Female_25_54_Pop']=demo_zips['All_Female_Population']*(demo_zips['Pctg_25_to_34']+demo_zips['Pctg_35_to_44']+demo_zips['Pctg_45_to_54'])/100\n",
    "demo_zips=demo_zips[['Zip_Code','Mean_HH_Income','Teenager_Pop','Female_25_54_Pop']]\n"
   ]
  },
  {
   "cell_type": "code",
   "execution_count": 513,
   "metadata": {},
   "outputs": [],
   "source": [
    "Marriage_Zip=pd.read_csv(\"/home/jian/SunnyD/Otherinput/ZipcodeMarriage.csv\")\n",
    "Marriage_Zip.columns=['Zip_Code','HH15','MARNOC','MARC']\n",
    "Marriage_Zip['Pctg_Children_Among_Marriage_HH']=Marriage_Zip['MARC']/(Marriage_Zip['MARC']+Marriage_Zip['MARNOC'])\n",
    "Marriage_Zip['Pctg_Children_Among_All_HH']=Marriage_Zip['MARC']/Marriage_Zip['HH15']\n",
    "Marriage_Zip['Zip_Code']=Marriage_Zip['Zip_Code'].astype(int)\n",
    "Marriage_Zip=Marriage_Zip[['Zip_Code','Pctg_Children_Among_Marriage_HH','Pctg_Children_Among_All_HH']]"
   ]
  },
  {
   "cell_type": "code",
   "execution_count": 514,
   "metadata": {},
   "outputs": [],
   "source": [
    "demo_zips=pd.merge(demo_zips,Marriage_Zip,on='Zip_Code',how='left')\n",
    "demo_zips['Est.Mother_with_Children']=demo_zips['Female_25_54_Pop']*demo_zips['Pctg_Children_Among_Marriage_HH']\n",
    "demo_zips=demo_zips[['Zip_Code','Mean_HH_Income','Teenager_Pop','Est.Mother_with_Children']]"
   ]
  },
  {
   "cell_type": "code",
   "execution_count": 515,
   "metadata": {},
   "outputs": [],
   "source": [
    "# Benchmark with all the selected zips in all 5 markest\n",
    "Mother_Mean=demo_zips['Est.Mother_with_Children'].mean()\n",
    "Teenager_Mean=demo_zips['Teenager_Pop'].mean()\n",
    "demo_zips['Mother_Qualified']=np.where((demo_zips['Mean_HH_Income']<=55000)&(demo_zips['Est.Mother_with_Children']>=Mother_Mean),True,False)\n",
    "demo_zips['Teenager_Qualified']=np.where((demo_zips['Mean_HH_Income']<=55000)&(demo_zips['Teenager_Pop']>=Teenager_Mean),True,False)"
   ]
  },
  {
   "cell_type": "markdown",
   "metadata": {},
   "source": [
    "# Read Zip and IRI Market"
   ]
  },
  {
   "cell_type": "code",
   "execution_count": 516,
   "metadata": {
    "collapsed": true
   },
   "outputs": [],
   "source": [
    "All_IRI_Zips=pd.read_excel(\"/home/jian/SunnyD/Otherinput/All_IRI_Mkt_with_Zips.xlsx\")"
   ]
  },
  {
   "cell_type": "code",
   "execution_count": 517,
   "metadata": {
    "collapsed": true
   },
   "outputs": [],
   "source": [
    "All_IRI_Zips=All_IRI_Zips[['zip_cd','IRI_Market']]\n",
    "All_IRI_Zips.columns=[['Zip_Code','IRI_Market']]"
   ]
  },
  {
   "cell_type": "code",
   "execution_count": 518,
   "metadata": {},
   "outputs": [],
   "source": [
    "demo_zips=pd.merge(demo_zips,All_IRI_Zips,on='Zip_Code',how='left')\n",
    "walmart_info=walmart_zips_in_selected_mkt[['latitude_of_walmart','longitude_of_walmart']]\n",
    "walmart_info=walmart_info.drop_duplicates()\n",
    "walmart_info.reset_index(inplace=True)\n",
    "del walmart_info['index']\n",
    "demo_zips_walmart=pd.concat([demo_zips,walmart_info], ignore_index=True, axis=1)\n",
    "demo_zips_walmart.columns=list(demo_zips.columns)+list(walmart_info.columns)"
   ]
  },
  {
   "cell_type": "code",
   "execution_count": 519,
   "metadata": {},
   "outputs": [],
   "source": [
    "demo_zips_walmart['latitude_of_walmart']=demo_zips_walmart['latitude_of_walmart'].fillna(0)\n",
    "demo_zips_walmart['longitude_of_walmart']=demo_zips_walmart['longitude_of_walmart'].fillna(0)\n",
    "demo_zips_walmart.to_excel(\"/home/jian/SunnyD/Otherinput/demo_zips_in_walmart_in_5IRI.xlsx\",index=False)"
   ]
  },
  {
   "cell_type": "code",
   "execution_count": null,
   "metadata": {
    "collapsed": true
   },
   "outputs": [],
   "source": []
  },
  {
   "cell_type": "code",
   "execution_count": null,
   "metadata": {
    "collapsed": true
   },
   "outputs": [],
   "source": []
  },
  {
   "cell_type": "code",
   "execution_count": null,
   "metadata": {
    "collapsed": true
   },
   "outputs": [],
   "source": []
  },
  {
   "cell_type": "code",
   "execution_count": null,
   "metadata": {
    "collapsed": true
   },
   "outputs": [],
   "source": []
  }
 ],
 "metadata": {
  "kernelspec": {
   "display_name": "Python 3",
   "language": "python",
   "name": "python3"
  },
  "language_info": {
   "codemirror_mode": {
    "name": "ipython",
    "version": 3
   },
   "file_extension": ".py",
   "mimetype": "text/x-python",
   "name": "python",
   "nbconvert_exporter": "python",
   "pygments_lexer": "ipython3",
   "version": "3.6.1"
  }
 },
 "nbformat": 4,
 "nbformat_minor": 2
}
