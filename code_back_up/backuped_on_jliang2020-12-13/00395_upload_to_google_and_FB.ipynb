{
 "cells": [
  {
   "cell_type": "code",
   "execution_count": 1,
   "metadata": {},
   "outputs": [
    {
     "name": "stdout",
     "output_type": "stream",
     "text": [
      "2020-04-16 15:31:05.621049\n",
      "/home/jian/Projects/Big_Lots/Analysis/2020_Q1/FB_Mobile_testing/BR_audience_mobile_dynamic_landing_page_20200413\n"
     ]
    }
   ],
   "source": [
    "import glob\n",
    "import pandas as pd\n",
    "import os\n",
    "import numpy as np\n",
    "import datetime\n",
    "\n",
    "print(datetime.datetime.now())\n",
    "print(os.getcwd())\n",
    "\n"
   ]
  },
  {
   "cell_type": "code",
   "execution_count": 2,
   "metadata": {},
   "outputs": [
    {
     "data": {
      "text/plain": [
       "['/home/jian/Projects/Big_Lots/Analysis/2020_Q1/FB_Mobile_testing/BR_audience_mobile_dynamic_landing_page_20200413/dynamic_landing_page_audience/AudienceBL_DynamicLP_Prospect_BL_MobileVisitor_Control.csv',\n",
       " '/home/jian/Projects/Big_Lots/Analysis/2020_Q1/FB_Mobile_testing/BR_audience_mobile_dynamic_landing_page_20200413/dynamic_landing_page_audience/AudienceBL_DynamicLP_Prospect_BL_MobileVisitor_Test.csv',\n",
       " '/home/jian/Projects/Big_Lots/Analysis/2020_Q1/FB_Mobile_testing/BR_audience_mobile_dynamic_landing_page_20200413/dynamic_landing_page_audience/AudienceBL_DynamicLP_Rewards_L12_PZip_Control.csv',\n",
       " '/home/jian/Projects/Big_Lots/Analysis/2020_Q1/FB_Mobile_testing/BR_audience_mobile_dynamic_landing_page_20200413/dynamic_landing_page_audience/AudienceBL_DynamicLP_Rewards_L12_PZip_Test.csv']"
      ]
     },
     "execution_count": 2,
     "metadata": {},
     "output_type": "execute_result"
    }
   ],
   "source": [
    "list_files=glob.glob(\"/home/jian/Projects/Big_Lots/Analysis/2020_Q1/FB_Mobile_testing/BR_audience_mobile_dynamic_landing_page_20200413/dynamic_landing_page_audience/*.csv\")\n",
    "list_files"
   ]
  },
  {
   "cell_type": "code",
   "execution_count": 3,
   "metadata": {},
   "outputs": [
    {
     "name": "stdout",
     "output_type": "stream",
     "text": [
      "AudienceBL_DynamicLP_Prospect_BL_MobileVisitor_Control.csv ['index', 'ad_id']\n",
      "AudienceBL_DynamicLP_Prospect_BL_MobileVisitor_Test.csv ['index', 'ad_id']\n",
      "AudienceBL_DynamicLP_Rewards_L12_PZip_Control.csv ['index', 'customer_id_hashed', 'max_transaction_dt', 'total_transaction', 'total_sales', 'email_address_hash', 'zip_cd', 'zip_type']\n",
      "AudienceBL_DynamicLP_Rewards_L12_PZip_Test.csv ['index', 'customer_id_hashed', 'max_transaction_dt', 'total_transaction', 'total_sales', 'email_address_hash', 'zip_cd', 'zip_type']\n"
     ]
    }
   ],
   "source": [
    "for file in list_files:\n",
    "    df=pd.read_csv(file,dtype=str,nrows=10)\n",
    "    print(os.path.basename(file),df.columns.tolist())"
   ]
  },
  {
   "cell_type": "code",
   "execution_count": 4,
   "metadata": {},
   "outputs": [
    {
     "name": "stdout",
     "output_type": "stream",
     "text": [
      "list_email ['/home/jian/Projects/Big_Lots/Analysis/2020_Q1/FB_Mobile_testing/BR_audience_mobile_dynamic_landing_page_20200413/dynamic_landing_page_audience/AudienceBL_DynamicLP_Rewards_L12_PZip_Control.csv', '/home/jian/Projects/Big_Lots/Analysis/2020_Q1/FB_Mobile_testing/BR_audience_mobile_dynamic_landing_page_20200413/dynamic_landing_page_audience/AudienceBL_DynamicLP_Rewards_L12_PZip_Test.csv']\n",
      "list_apid ['/home/jian/Projects/Big_Lots/Analysis/2020_Q1/FB_Mobile_testing/BR_audience_mobile_dynamic_landing_page_20200413/dynamic_landing_page_audience/AudienceBL_DynamicLP_Prospect_BL_MobileVisitor_Control.csv', '/home/jian/Projects/Big_Lots/Analysis/2020_Q1/FB_Mobile_testing/BR_audience_mobile_dynamic_landing_page_20200413/dynamic_landing_page_audience/AudienceBL_DynamicLP_Prospect_BL_MobileVisitor_Test.csv']\n"
     ]
    }
   ],
   "source": [
    "list_email=[x for x in list_files if \"Rewards\" in x]\n",
    "list_apid=[x for x in list_files if \"Prospect\" in x]\n",
    "\n",
    "print(\"list_email\",list_email)\n",
    "print(\"list_apid\",list_apid)"
   ]
  },
  {
   "cell_type": "markdown",
   "metadata": {},
   "source": [
    "# FB"
   ]
  },
  {
   "cell_type": "code",
   "execution_count": 6,
   "metadata": {},
   "outputs": [],
   "source": [
    "from facebookads.adobjects.customaudience import CustomAudience\n",
    "from facebookads.adobjects.adaccount import AdAccount\n",
    "from facebookads.api import FacebookAdsApi\n",
    "\n",
    "BigLotsAccount_id=\"act_271491453638620\"\n",
    "\n",
    "jian_APP_ID=\"2537704939796694\"# jian's fb marketing app id\n",
    "jian_token=\"EAAkEB3l7ONYBAHsJtDc00ZBtZAW2ye9CRdKsy9ivLlzvgIMsEkZAyZA3mRpuGBF8IvZAR9obyYZCdzfw455nzMEW76A5ZBZBS6Fft2nQsUSs8sZCcGDZBZCbVeiCq0LMvekWjnnDZCuglkNihTAZAWIWTpvzaZBeZCKYywrPl0ZAsoWul36cyQZDZD\"\n"
   ]
  },
  {
   "cell_type": "code",
   "execution_count": 24,
   "metadata": {},
   "outputs": [],
   "source": [
    "def creatfbaudience_from_datatype(AudienceName,AudienceDescription,df,ACCESS_TOKEN,accountid,fb_datatype,col_in_df):\n",
    "    FacebookAdsApi.init(access_token=ACCESS_TOKEN, api_version='v6.0')\n",
    "    myAccount = AdAccount(accountid)\n",
    "    fields = [\n",
    "    ]\n",
    "    params = {\n",
    "      'name': AudienceName,\n",
    "      'subtype': 'CUSTOM',\n",
    "      'description': AudienceDescription,\n",
    "      'customer_file_source': 'PARTNER_PROVIDED_ONLY',\n",
    "    }\n",
    "    fbname = myAccount.create_custom_audience(\n",
    "      fields=fields,\n",
    "      params=params,\n",
    "    )['id']\n",
    "    audience = CustomAudience(fbname)\n",
    "    users = list(df[col_in_df])\n",
    "    listlen = len(users)\n",
    "    chunck_size=50000\n",
    "    count_uploaded=0\n",
    "    for i in range(int(np.ceil(listlen/chunck_size))):\n",
    "        starti = i*50000\n",
    "        if (i+1)*50000<listlen:\n",
    "            endi = (i+1)*50000\n",
    "        else:\n",
    "            endi = listlen\n",
    "        list0 = users[starti:endi]\n",
    "        \n",
    "        count_uploaded+=len(list0)\n",
    "        audience.add_users(schema=fb_datatype, users=list0)\n",
    "        #print len(list0)   \n",
    "    print(fbname,datetime.datetime.now(),AudienceName,\"uploaded\",count_uploaded)"
   ]
  },
  {
   "cell_type": "code",
   "execution_count": 25,
   "metadata": {},
   "outputs": [
    {
     "name": "stdout",
     "output_type": "stream",
     "text": [
      "23844455470800265 2020-04-16 14:09:33.699761 AudienceBL_DynamicLP_Rewards_L12_PZip_Control uploaded 135000\n",
      "23844455471120265 2020-04-16 14:09:46.289718 AudienceBL_DynamicLP_Rewards_L12_PZip_Test uploaded 135000\n"
     ]
    }
   ],
   "source": [
    "for file in list_email:\n",
    "    audience_name = os.path.basename(file).split(\".\")[0]\n",
    "    description=os.path.basename(file).split(\".\")[0]+\"_\"+str(datetime.datetime.now().date())\n",
    "    df = pd.read_csv(file,dtype=str)\n",
    "    creatfbaudience_from_datatype(AudienceName=audience_name,\n",
    "                    AudienceDescription=description,\n",
    "                    df=df,\n",
    "                    ACCESS_TOKEN=jian_token,\n",
    "                    accountid=BigLotsAccount_id,\n",
    "                    fb_datatype=CustomAudience.Schema.email_hash,\n",
    "                    col_in_df=\"email_address_hash\"\n",
    "                   )"
   ]
  },
  {
   "cell_type": "markdown",
   "metadata": {},
   "source": [
    "# AdWords"
   ]
  },
  {
   "cell_type": "code",
   "execution_count": 8,
   "metadata": {},
   "outputs": [],
   "source": [
    "import uuid\n",
    "from googleads import adwords\n",
    "import os\n",
    "import datetime\n",
    "auth_file_path = '/home/jian/Docs/Google_Ads_Access/googleads_BL_MMC.yaml'\n",
    "\n",
    "def upload_and_return_count_in_chunk(service, user_list_id, email_list):\n",
    "    ids_in_chunk=0\n",
    "    mutate_members_operation = {\n",
    "      'operand': {\n",
    "          'userListId': user_list_id,\n",
    "          'membersList': email_list\n",
    "      },\n",
    "      'operator': 'ADD'\n",
    "    }\n",
    "    response = service.mutateMembers([mutate_members_operation])\n",
    "    if 'userLists' in response:\n",
    "        for user_list in response['userLists']:\n",
    "            # print('Uploaded %i items to user list with name \"%s\" and ID \"%d\"'\n",
    "            #     % (len(email_list), user_list['name'], user_list['id']))\n",
    "\n",
    "            \n",
    "            ids_in_chunk+=len(email_list)\n",
    "    return ids_in_chunk\n",
    "            \n",
    "def run_the_uploading(client, email_file_path):\n",
    "  # Initialize appropriate services.\n",
    "    total_ids_in_seg=0\n",
    "    user_list_service = client.GetService('AdwordsUserListService', 'v201809')\n",
    "    file_base_name=os.path.basename(email_file_path).split(\".\")[0]\n",
    "    user_list = {\n",
    "        'xsi_type': 'CrmBasedUserList',\n",
    "        'name': file_base_name+\"_directly_uploaded\",\n",
    "        'description': 'Aggregated control for 2020Q1 RFM: '+file_base_name,\n",
    "        # CRM-based user lists can use a membershipLifeSpan of 10000 to indicate\n",
    "        # unlimited; otherwise normal values apply.\n",
    "        'membershipLifeSpan': 10000,\n",
    "        'uploadKeyType': 'CONTACT_INFO'\n",
    "     }\n",
    "    # Create an operation to add the user list.\n",
    "    operations = [{\n",
    "        'operator': 'ADD',\n",
    "        'operand': user_list\n",
    "    }]\n",
    "    result = user_list_service.mutate(operations)\n",
    "    user_list_id = result['value'][0]['id']\n",
    "\n",
    "    df = pd.read_csv(email_file_path, chunksize=3000)\n",
    "    for i in df:\n",
    "        mail_col = [k for k in i.columns if 'email' in k.lower()][0]\n",
    "        new_col = ['email' if h == mail_col else h for h in i.columns.tolist()]\n",
    "        i.columns = new_col\n",
    "        emails = i['email']\n",
    "        emails = set([i for i in emails if str(i) != 'nan'])\n",
    "        members = [{'hashedEmail': email} for email in emails]\n",
    "        ids_in_chunk=upload_and_return_count_in_chunk(user_list_service, user_list_id, members)\n",
    "        \n",
    "        total_ids_in_seg+=ids_in_chunk\n",
    "    print(datetime.datetime.now(),\"all %s ids uploaded in the segment \"%str(total_ids_in_seg))"
   ]
  },
  {
   "cell_type": "code",
   "execution_count": 9,
   "metadata": {},
   "outputs": [
    {
     "name": "stdout",
     "output_type": "stream",
     "text": [
      "2020-04-16 14:37:19.980738 all 135000 ids uploaded in the segment \n",
      "2020-04-16 14:37:53.399590 all 135000 ids uploaded in the segment \n"
     ]
    }
   ],
   "source": [
    "BL_client = adwords.AdWordsClient.LoadFromStorage(auth_file_path)\n",
    "for local_seg_file in list_email:\n",
    "    run_the_uploading(BL_client, local_seg_file)"
   ]
  },
  {
   "cell_type": "code",
   "execution_count": null,
   "metadata": {},
   "outputs": [],
   "source": []
  }
 ],
 "metadata": {
  "kernelspec": {
   "display_name": "Python 3",
   "language": "python",
   "name": "python3"
  },
  "language_info": {
   "codemirror_mode": {
    "name": "ipython",
    "version": 3
   },
   "file_extension": ".py",
   "mimetype": "text/x-python",
   "name": "python",
   "nbconvert_exporter": "python",
   "pygments_lexer": "ipython3",
   "version": "3.6.1"
  }
 },
 "nbformat": 4,
 "nbformat_minor": 2
}
