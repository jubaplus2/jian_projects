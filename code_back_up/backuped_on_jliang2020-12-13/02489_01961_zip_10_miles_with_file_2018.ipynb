{
 "cells": [
  {
   "cell_type": "code",
   "execution_count": 1,
   "metadata": {},
   "outputs": [],
   "source": [
    "import pandas as pd\n",
    "import numpy as np\n",
    "import datetime\n",
    "import os\n",
    "import zipcodes\n",
    "from haversine import haversine\n",
    "import json\n",
    "os.getcwd()\n",
    "\n",
    "zip_centers=json.load(open(\"/home/jian/Docs/Geo_mapping/updated_zip_centers_JL_2019-05-23.json\",\"r\"))"
   ]
  },
  {
   "cell_type": "code",
   "execution_count": 2,
   "metadata": {
    "collapsed": true
   },
   "outputs": [],
   "source": [
    "Nielsen_DMA=pd.read_excel(\"/home/jian/Docs/Geo_mapping/Zips by DMA by County16-17 nielsen.xlsx\",dtype=str,skiprows=1,usecols=[0,2,6])\n",
    "Nielsen_DMA.columns=['zip_cd','DMA','State']\n",
    "Nielsen_DMA=Nielsen_DMA.drop_duplicates()\n",
    "\n",
    "state_dict=Nielsen_DMA[['zip_cd','State']].drop_duplicates()\n",
    "state_dict=state_dict.groupby(['zip_cd'])['State'].apply(list).to_frame().reset_index()\n",
    "state_dict=state_dict.set_index('zip_cd').to_dict()['State']\n",
    "\n",
    "DMA_dict=Nielsen_DMA[['zip_cd','DMA']].drop_duplicates()\n",
    "DMA_dict=DMA_dict.groupby(['zip_cd'])['DMA'].apply(list).to_frame().reset_index()\n",
    "DMA_dict=DMA_dict.set_index('zip_cd').to_dict()['DMA']\n",
    "\n"
   ]
  },
  {
   "cell_type": "code",
   "execution_count": 3,
   "metadata": {},
   "outputs": [],
   "source": [
    "df_zips_2018=pd.read_csv(\"/home/jian/SunnyD/Waltmart_TA_20190620/last_year_file/Jay_3_brands_zip_within_10mile.csv\",\n",
    "                           dtype=str)\n",
    "df_zips_2018['zip_within_10_mile']=df_zips_2018['zip_within_10_mile'].apply(lambda x: eval(x))\n",
    "df_zips_2018['lat']=df_zips_2018['lat'].astype(float)\n",
    "df_zips_2018['lng']=df_zips_2018['lng'].astype(float)\n",
    "\n",
    "df_zips_2018_walmart=df_zips_2018[df_zips_2018['store_id'].apply(lambda x: x.split(\"_\")[0]==\"walmart\")]"
   ]
  },
  {
   "cell_type": "code",
   "execution_count": 4,
   "metadata": {},
   "outputs": [
    {
     "data": {
      "text/html": [
       "<div>\n",
       "<style>\n",
       "    .dataframe thead tr:only-child th {\n",
       "        text-align: right;\n",
       "    }\n",
       "\n",
       "    .dataframe thead th {\n",
       "        text-align: left;\n",
       "    }\n",
       "\n",
       "    .dataframe tbody tr th {\n",
       "        vertical-align: top;\n",
       "    }\n",
       "</style>\n",
       "<table border=\"1\" class=\"dataframe\">\n",
       "  <thead>\n",
       "    <tr style=\"text-align: right;\">\n",
       "      <th></th>\n",
       "      <th>store_id</th>\n",
       "      <th>zip_code</th>\n",
       "      <th>lat</th>\n",
       "      <th>lng</th>\n",
       "      <th>zip_within_10_mile</th>\n",
       "      <th>number_of_dma</th>\n",
       "      <th>dma</th>\n",
       "      <th>dma2</th>\n",
       "      <th>dma3</th>\n",
       "    </tr>\n",
       "  </thead>\n",
       "  <tbody>\n",
       "    <tr>\n",
       "      <th>0</th>\n",
       "      <td>walmart_2071</td>\n",
       "      <td>99515</td>\n",
       "      <td>61.140228</td>\n",
       "      <td>-149.869969</td>\n",
       "      <td>[99519, 99518, 99515, 99514, 99517, 99516, 995...</td>\n",
       "      <td>1</td>\n",
       "      <td>ANCHORAGE</td>\n",
       "      <td>NaN</td>\n",
       "      <td>NaN</td>\n",
       "    </tr>\n",
       "    <tr>\n",
       "      <th>1</th>\n",
       "      <td>walmart_2188</td>\n",
       "      <td>99577</td>\n",
       "      <td>61.309072</td>\n",
       "      <td>-149.535530</td>\n",
       "      <td>[99577, 99505, 99521, 99567]</td>\n",
       "      <td>1</td>\n",
       "      <td>ANCHORAGE</td>\n",
       "      <td>NaN</td>\n",
       "      <td>NaN</td>\n",
       "    </tr>\n",
       "  </tbody>\n",
       "</table>\n",
       "</div>"
      ],
      "text/plain": [
       "       store_id zip_code        lat         lng  \\\n",
       "0  walmart_2071    99515  61.140228 -149.869969   \n",
       "1  walmart_2188    99577  61.309072 -149.535530   \n",
       "\n",
       "                                  zip_within_10_mile number_of_dma        dma  \\\n",
       "0  [99519, 99518, 99515, 99514, 99517, 99516, 995...             1  ANCHORAGE   \n",
       "1                       [99577, 99505, 99521, 99567]             1  ANCHORAGE   \n",
       "\n",
       "  dma2 dma3  \n",
       "0  NaN  NaN  \n",
       "1  NaN  NaN  "
      ]
     },
     "execution_count": 4,
     "metadata": {},
     "output_type": "execute_result"
    }
   ],
   "source": [
    "df_zips_2018_walmart.head(2)"
   ]
  },
  {
   "cell_type": "code",
   "execution_count": 5,
   "metadata": {},
   "outputs": [],
   "source": [
    "df_output=pd.DataFrame(columns=['store_id','zip_code_10_miles'])\n",
    "for ind,row in df_zips_2018_walmart.iterrows():\n",
    "    store_id=row['store_id']\n",
    "    zip_list=row['zip_within_10_mile']\n",
    "    df=pd.DataFrame({\"store_id\":[store_id]*len(zip_list),\"zip_code_10_miles\":zip_list})\n",
    "    df_output=df_output.append(df)"
   ]
  },
  {
   "cell_type": "code",
   "execution_count": 6,
   "metadata": {
    "collapsed": true
   },
   "outputs": [],
   "source": [
    "def store_city(x):\n",
    "    try:\n",
    "        y=zipcodes.matching(x)[0]['city']\n",
    "    except:\n",
    "        y=np.nan\n",
    "    return y\n",
    "\n",
    "def store_state(x):\n",
    "    try:\n",
    "        y=state_dict[x]\n",
    "    except:\n",
    "        try:\n",
    "            y=zipcodes.matching(x)[0]['state']\n",
    "        except:\n",
    "            y=np.nan\n",
    "    return y\n",
    "\n",
    "def store_DMA(x):\n",
    "    try:\n",
    "        y=DMA_dict[x]\n",
    "    except:\n",
    "        y=np.nan\n",
    "    return y"
   ]
  },
  {
   "cell_type": "code",
   "execution_count": 7,
   "metadata": {},
   "outputs": [
    {
     "data": {
      "text/html": [
       "<div>\n",
       "<style>\n",
       "    .dataframe thead tr:only-child th {\n",
       "        text-align: right;\n",
       "    }\n",
       "\n",
       "    .dataframe thead th {\n",
       "        text-align: left;\n",
       "    }\n",
       "\n",
       "    .dataframe tbody tr th {\n",
       "        vertical-align: top;\n",
       "    }\n",
       "</style>\n",
       "<table border=\"1\" class=\"dataframe\">\n",
       "  <thead>\n",
       "    <tr style=\"text-align: right;\">\n",
       "      <th></th>\n",
       "      <th>store_id</th>\n",
       "      <th>store_zip</th>\n",
       "      <th>store_lat</th>\n",
       "      <th>store_lng</th>\n",
       "      <th>store_DMA</th>\n",
       "      <th>store_city</th>\n",
       "      <th>store_state</th>\n",
       "    </tr>\n",
       "  </thead>\n",
       "  <tbody>\n",
       "    <tr>\n",
       "      <th>0</th>\n",
       "      <td>walmart_2071</td>\n",
       "      <td>99515</td>\n",
       "      <td>61.140228</td>\n",
       "      <td>-149.869969</td>\n",
       "      <td>[ANCHORAGE]</td>\n",
       "      <td>ANCHORAGE</td>\n",
       "      <td>[AK]</td>\n",
       "    </tr>\n",
       "    <tr>\n",
       "      <th>1</th>\n",
       "      <td>walmart_2188</td>\n",
       "      <td>99577</td>\n",
       "      <td>61.309072</td>\n",
       "      <td>-149.535530</td>\n",
       "      <td>[ANCHORAGE]</td>\n",
       "      <td>EAGLE RIVER</td>\n",
       "      <td>[AK]</td>\n",
       "    </tr>\n",
       "  </tbody>\n",
       "</table>\n",
       "</div>"
      ],
      "text/plain": [
       "       store_id store_zip  store_lat   store_lng    store_DMA   store_city  \\\n",
       "0  walmart_2071     99515  61.140228 -149.869969  [ANCHORAGE]    ANCHORAGE   \n",
       "1  walmart_2188     99577  61.309072 -149.535530  [ANCHORAGE]  EAGLE RIVER   \n",
       "\n",
       "  store_state  \n",
       "0        [AK]  \n",
       "1        [AK]  "
      ]
     },
     "execution_count": 7,
     "metadata": {},
     "output_type": "execute_result"
    }
   ],
   "source": [
    "store_info=df_zips_2018_walmart[['store_id','zip_code','lat','lng']]\n",
    "\n",
    "store_info=store_info.rename(columns={\"zip_code\":\"store_zip\",'lat':\"store_lat\",'lng':\"store_lng\"})\n",
    "store_info['store_DMA']=store_info['store_zip'].apply(lambda x: store_DMA(x))\n",
    "store_info['store_city']=store_info['store_zip'].apply(lambda x: store_city(x))\n",
    "store_info['store_state']=store_info['store_zip'].apply(lambda x: store_state(x))\n",
    "\n",
    "store_info.head(2)"
   ]
  },
  {
   "cell_type": "code",
   "execution_count": 8,
   "metadata": {},
   "outputs": [],
   "source": [
    "df_output_by_store_zip=pd.merge(store_info,df_output,on=\"store_id\",how=\"left\")\n",
    "df_output_by_store_zip['target_zip_DMA']=df_output_by_store_zip['zip_code_10_miles'].apply(lambda x: store_DMA(x))\n",
    "df_output_by_store_zip['target_zip_city']=df_output_by_store_zip['zip_code_10_miles'].apply(lambda x: store_city(x))\n",
    "df_output_by_store_zip['target_zip_state']=df_output_by_store_zip['zip_code_10_miles'].apply(lambda x: store_state(x))\n",
    "\n",
    "df_output_by_store_zip['distance_miles']=np.nan"
   ]
  },
  {
   "cell_type": "code",
   "execution_count": 9,
   "metadata": {},
   "outputs": [],
   "source": [
    "df_output_by_store_zip=df_output_by_store_zip.reset_index()\n",
    "del df_output_by_store_zip['index']\n",
    "\n",
    "for ind,row in df_output_by_store_zip.iterrows():\n",
    "    store_center=[row['store_lat'],row['store_lng']]\n",
    "    zip_cd=row['zip_code_10_miles']\n",
    "    zip_center=zip_centers[zip_cd]\n",
    "    dist=haversine(store_center,zip_center,miles=True)\n",
    "    df_output_by_store_zip.loc[ind,'distance_miles']=dist"
   ]
  },
  {
   "cell_type": "code",
   "execution_count": 10,
   "metadata": {},
   "outputs": [
    {
     "data": {
      "text/html": [
       "<div>\n",
       "<style>\n",
       "    .dataframe thead tr:only-child th {\n",
       "        text-align: right;\n",
       "    }\n",
       "\n",
       "    .dataframe thead th {\n",
       "        text-align: left;\n",
       "    }\n",
       "\n",
       "    .dataframe tbody tr th {\n",
       "        vertical-align: top;\n",
       "    }\n",
       "</style>\n",
       "<table border=\"1\" class=\"dataframe\">\n",
       "  <thead>\n",
       "    <tr style=\"text-align: right;\">\n",
       "      <th></th>\n",
       "      <th>store_id</th>\n",
       "      <th>store_zip</th>\n",
       "      <th>store_lat</th>\n",
       "      <th>store_lng</th>\n",
       "      <th>store_DMA</th>\n",
       "      <th>store_city</th>\n",
       "      <th>store_state</th>\n",
       "      <th>zip_code_10_miles</th>\n",
       "      <th>target_zip_DMA</th>\n",
       "      <th>target_zip_city</th>\n",
       "      <th>target_zip_state</th>\n",
       "      <th>distance_miles</th>\n",
       "    </tr>\n",
       "  </thead>\n",
       "  <tbody>\n",
       "    <tr>\n",
       "      <th>0</th>\n",
       "      <td>walmart_2071</td>\n",
       "      <td>99515</td>\n",
       "      <td>61.140228</td>\n",
       "      <td>-149.869969</td>\n",
       "      <td>[ANCHORAGE]</td>\n",
       "      <td>ANCHORAGE</td>\n",
       "      <td>[AK]</td>\n",
       "      <td>99519</td>\n",
       "      <td>[ANCHORAGE]</td>\n",
       "      <td>ANCHORAGE</td>\n",
       "      <td>[AK]</td>\n",
       "      <td>4.896374</td>\n",
       "    </tr>\n",
       "    <tr>\n",
       "      <th>1</th>\n",
       "      <td>walmart_2071</td>\n",
       "      <td>99515</td>\n",
       "      <td>61.140228</td>\n",
       "      <td>-149.869969</td>\n",
       "      <td>[ANCHORAGE]</td>\n",
       "      <td>ANCHORAGE</td>\n",
       "      <td>[AK]</td>\n",
       "      <td>99518</td>\n",
       "      <td>[ANCHORAGE]</td>\n",
       "      <td>ANCHORAGE</td>\n",
       "      <td>[AK]</td>\n",
       "      <td>1.341670</td>\n",
       "    </tr>\n",
       "  </tbody>\n",
       "</table>\n",
       "</div>"
      ],
      "text/plain": [
       "       store_id store_zip  store_lat   store_lng    store_DMA store_city  \\\n",
       "0  walmart_2071     99515  61.140228 -149.869969  [ANCHORAGE]  ANCHORAGE   \n",
       "1  walmart_2071     99515  61.140228 -149.869969  [ANCHORAGE]  ANCHORAGE   \n",
       "\n",
       "  store_state zip_code_10_miles target_zip_DMA target_zip_city  \\\n",
       "0        [AK]             99519    [ANCHORAGE]       ANCHORAGE   \n",
       "1        [AK]             99518    [ANCHORAGE]       ANCHORAGE   \n",
       "\n",
       "  target_zip_state  distance_miles  \n",
       "0             [AK]        4.896374  \n",
       "1             [AK]        1.341670  "
      ]
     },
     "execution_count": 10,
     "metadata": {},
     "output_type": "execute_result"
    }
   ],
   "source": [
    "df_output_by_store_zip.head(2)"
   ]
  },
  {
   "cell_type": "code",
   "execution_count": 11,
   "metadata": {},
   "outputs": [
    {
     "data": {
      "text/plain": [
       "(16877, 9)"
      ]
     },
     "execution_count": 11,
     "metadata": {},
     "output_type": "execute_result"
    }
   ],
   "source": [
    "df_output_zip=df_output_by_store_zip[['zip_code_10_miles','target_zip_DMA','target_zip_city','target_zip_state','store_id','distance_miles','store_DMA','store_city','store_state']]\n",
    "\n",
    "df_output_zip=df_output_zip.rename(columns={\"store_id\":\"nearest_store\"})\n",
    "\n",
    "df_output_zip=df_output_zip.sort_values([\"zip_code_10_miles\",'distance_miles','nearest_store'],ascending=[True,True,True]).drop_duplicates(\"zip_code_10_miles\")\n",
    "df_output_zip.shape"
   ]
  },
  {
   "cell_type": "code",
   "execution_count": 18,
   "metadata": {},
   "outputs": [],
   "source": [
    "df_merge_min_dist=df_output_zip[['zip_code_10_miles','nearest_store','distance_miles']]\n",
    "df_merge_min_dist=df_merge_min_dist.rename(columns={\"distance_miles\":\"min_dist_to_nearest_store\"})\n",
    "\n",
    "df_output_by_store_zip=pd.merge(df_output_by_store_zip,df_merge_min_dist,on=\"zip_code_10_miles\",how=\"left\")"
   ]
  },
  {
   "cell_type": "code",
   "execution_count": 20,
   "metadata": {},
   "outputs": [
    {
     "data": {
      "text/plain": [
       "'/home/jian/SunnyD/Waltmart_TA_20190620'"
      ]
     },
     "execution_count": 20,
     "metadata": {},
     "output_type": "execute_result"
    }
   ],
   "source": [
    "os.getcwd()"
   ]
  },
  {
   "cell_type": "code",
   "execution_count": 21,
   "metadata": {},
   "outputs": [],
   "source": [
    "writer=pd.ExcelWriter(\"./SunnyD_zips_in_10_miles_of_Walmart_JL_\"+str(datetime.datetime.now().date())+\".xlsx\",engine=\"xlsxwriter\")\n",
    "df_output_zip.to_excel(writer,\"unique_zips\",index=False)\n",
    "df_output_by_store_zip.to_excel(writer,\"by_store_zip\",index=False)\n",
    "writer.save()"
   ]
  },
  {
   "cell_type": "code",
   "execution_count": 22,
   "metadata": {},
   "outputs": [
    {
     "data": {
      "text/plain": [
       "2596"
      ]
     },
     "execution_count": 22,
     "metadata": {},
     "output_type": "execute_result"
    }
   ],
   "source": [
    "df_output_by_store_zip['store_id'].nunique()"
   ]
  },
  {
   "cell_type": "code",
   "execution_count": null,
   "metadata": {
    "collapsed": true
   },
   "outputs": [],
   "source": []
  }
 ],
 "metadata": {
  "kernelspec": {
   "display_name": "Python 3",
   "language": "python",
   "name": "python3"
  },
  "language_info": {
   "codemirror_mode": {
    "name": "ipython",
    "version": 3
   },
   "file_extension": ".py",
   "mimetype": "text/x-python",
   "name": "python",
   "nbconvert_exporter": "python",
   "pygments_lexer": "ipython3",
   "version": "3.6.1"
  }
 },
 "nbformat": 4,
 "nbformat_minor": 2
}
