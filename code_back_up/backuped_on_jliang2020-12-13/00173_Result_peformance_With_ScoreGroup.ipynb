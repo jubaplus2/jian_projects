{
 "cells": [
  {
   "cell_type": "code",
   "execution_count": 1,
   "metadata": {},
   "outputs": [
    {
     "data": {
      "text/plain": [
       "'\\nrandomly select from the pool\\nsee whoever shopped shopped among the pool\\ncan use the random seed\\n# since the control shopper distribution is similiar \\n'"
      ]
     },
     "execution_count": 1,
     "metadata": {},
     "output_type": "execute_result"
    }
   ],
   "source": [
    "# note to continue\n",
    "# comments from YG on 20191127\n",
    "\n",
    "# Based on the shoppers share from the test by segment: \n",
    "'''\n",
    "randomly select from the pool\n",
    "see whoever shopped shopped among the pool\n",
    "can use the random seed\n",
    "# since the control shopper distribution is similiar \n",
    "'''"
   ]
  },
  {
   "cell_type": "code",
   "execution_count": 2,
   "metadata": {},
   "outputs": [
    {
     "data": {
      "text/plain": [
       "datetime.datetime(2019, 12, 2, 9, 7, 41, 351395)"
      ]
     },
     "execution_count": 2,
     "metadata": {},
     "output_type": "execute_result"
    }
   ],
   "source": [
    "# QC the 5 offer\n",
    "import pandas as pd\n",
    "import os\n",
    "import datetime\n",
    "import numpy as np\n",
    "import gc\n",
    "import glob\n",
    "gc.collect()\n",
    "\n",
    "datetime.datetime.now()"
   ]
  },
  {
   "cell_type": "code",
   "execution_count": 3,
   "metadata": {},
   "outputs": [
    {
     "data": {
      "text/plain": [
       "(21505499, 2)"
      ]
     },
     "execution_count": 3,
     "metadata": {},
     "output_type": "execute_result"
    }
   ],
   "source": [
    "df_FB_id_email_all=pd.read_csv(\"./BL_all_ids_shopped_in_18_or_signed_in_12_with_emails_JL_2019-10-17.csv\",dtype=str)\n",
    "df_FB_id_email_all.shape\n"
   ]
  },
  {
   "cell_type": "code",
   "execution_count": 4,
   "metadata": {},
   "outputs": [
    {
     "name": "stdout",
     "output_type": "stream",
     "text": [
      "21503336\n"
     ]
    }
   ],
   "source": [
    "print(df_FB_id_email_all['email_address_hash'].nunique())"
   ]
  },
  {
   "cell_type": "code",
   "execution_count": 5,
   "metadata": {},
   "outputs": [
    {
     "data": {
      "text/html": [
       "<div>\n",
       "<style scoped>\n",
       "    .dataframe tbody tr th:only-of-type {\n",
       "        vertical-align: middle;\n",
       "    }\n",
       "\n",
       "    .dataframe tbody tr th {\n",
       "        vertical-align: top;\n",
       "    }\n",
       "\n",
       "    .dataframe thead th {\n",
       "        text-align: right;\n",
       "    }\n",
       "</style>\n",
       "<table border=\"1\" class=\"dataframe\">\n",
       "  <thead>\n",
       "    <tr style=\"text-align: right;\">\n",
       "      <th></th>\n",
       "      <th>customer_id_hashed</th>\n",
       "      <th>email_address_hash</th>\n",
       "    </tr>\n",
       "  </thead>\n",
       "  <tbody>\n",
       "    <tr>\n",
       "      <th>0</th>\n",
       "      <td>9b7f9a1ba51dbae2a393c273ce8c9aa9bf610dc03410fd...</td>\n",
       "      <td>089bc373eda16a771e023d87ee368fb961c4ff9b36c7d6...</td>\n",
       "    </tr>\n",
       "    <tr>\n",
       "      <th>1</th>\n",
       "      <td>c2c5bd862113c4e77c918dd22a25744f2e1224ea63b166...</td>\n",
       "      <td>065edf59d0ed26bea352be5f44fd7a6f688a0fa28cddb3...</td>\n",
       "    </tr>\n",
       "  </tbody>\n",
       "</table>\n",
       "</div>"
      ],
      "text/plain": [
       "                                  customer_id_hashed  \\\n",
       "0  9b7f9a1ba51dbae2a393c273ce8c9aa9bf610dc03410fd...   \n",
       "1  c2c5bd862113c4e77c918dd22a25744f2e1224ea63b166...   \n",
       "\n",
       "                                  email_address_hash  \n",
       "0  089bc373eda16a771e023d87ee368fb961c4ff9b36c7d6...  \n",
       "1  065edf59d0ed26bea352be5f44fd7a6f688a0fa28cddb3...  "
      ]
     },
     "execution_count": 5,
     "metadata": {},
     "output_type": "execute_result"
    }
   ],
   "source": [
    "df_FB_id_email_all.head(2)"
   ]
  },
  {
   "cell_type": "code",
   "execution_count": 6,
   "metadata": {},
   "outputs": [
    {
     "name": "stdout",
     "output_type": "stream",
     "text": [
      "(21503357, 2)\n"
     ]
    },
    {
     "data": {
      "text/html": [
       "<div>\n",
       "<style scoped>\n",
       "    .dataframe tbody tr th:only-of-type {\n",
       "        vertical-align: middle;\n",
       "    }\n",
       "\n",
       "    .dataframe tbody tr th {\n",
       "        vertical-align: top;\n",
       "    }\n",
       "\n",
       "    .dataframe thead th {\n",
       "        text-align: right;\n",
       "    }\n",
       "</style>\n",
       "<table border=\"1\" class=\"dataframe\">\n",
       "  <thead>\n",
       "    <tr style=\"text-align: right;\">\n",
       "      <th></th>\n",
       "      <th>Email</th>\n",
       "      <th>Group</th>\n",
       "    </tr>\n",
       "  </thead>\n",
       "  <tbody>\n",
       "    <tr>\n",
       "      <th>0</th>\n",
       "      <td>089bc373eda16a771e023d87ee368fb961c4ff9b36c7d6...</td>\n",
       "      <td>test</td>\n",
       "    </tr>\n",
       "    <tr>\n",
       "      <th>1</th>\n",
       "      <td>065edf59d0ed26bea352be5f44fd7a6f688a0fa28cddb3...</td>\n",
       "      <td>test</td>\n",
       "    </tr>\n",
       "  </tbody>\n",
       "</table>\n",
       "</div>"
      ],
      "text/plain": [
       "                                               Email Group\n",
       "0  089bc373eda16a771e023d87ee368fb961c4ff9b36c7d6...  test\n",
       "1  065edf59d0ed26bea352be5f44fd7a6f688a0fa28cddb3...  test"
      ]
     },
     "execution_count": 6,
     "metadata": {},
     "output_type": "execute_result"
    }
   ],
   "source": [
    "df_test=pd.read_csv(\"./BL_FB_5_offer_test_emails_JL_2019-10-17.csv\",dtype=str)\n",
    "df_control=pd.read_csv(\"./BL_FB_5_offer_control_emails_JL_2019-10-17.csv\",dtype=str)\n",
    "\n",
    "df_test['Group']=\"test\"\n",
    "df_control['Group']=\"control\"\n",
    "\n",
    "df_email_group=df_test.append(df_control)\n",
    "del df_test\n",
    "del df_control\n",
    "print(df_email_group.shape)\n",
    "\n",
    "df_email_group.head(2)"
   ]
  },
  {
   "cell_type": "code",
   "execution_count": 7,
   "metadata": {
    "collapsed": true
   },
   "outputs": [],
   "source": [
    "df_qc_duplicate=df_email_group.groupby(\"Email\")['Group'].count().to_frame().sort_values(\"Group\",ascending=False)\n",
    "\n",
    "# 2 the max"
   ]
  },
  {
   "cell_type": "code",
   "execution_count": 8,
   "metadata": {},
   "outputs": [
    {
     "data": {
      "text/plain": [
       "(21, 1)"
      ]
     },
     "execution_count": 8,
     "metadata": {},
     "output_type": "execute_result"
    }
   ],
   "source": [
    "df_qc_duplicate[df_qc_duplicate['Group']==2].shape "
   ]
  },
  {
   "cell_type": "code",
   "execution_count": 9,
   "metadata": {},
   "outputs": [
    {
     "data": {
      "text/html": [
       "<div>\n",
       "<style scoped>\n",
       "    .dataframe tbody tr th:only-of-type {\n",
       "        vertical-align: middle;\n",
       "    }\n",
       "\n",
       "    .dataframe tbody tr th {\n",
       "        vertical-align: top;\n",
       "    }\n",
       "\n",
       "    .dataframe thead th {\n",
       "        text-align: right;\n",
       "    }\n",
       "</style>\n",
       "<table border=\"1\" class=\"dataframe\">\n",
       "  <thead>\n",
       "    <tr style=\"text-align: right;\">\n",
       "      <th></th>\n",
       "      <th>Group</th>\n",
       "    </tr>\n",
       "    <tr>\n",
       "      <th>Email</th>\n",
       "      <th></th>\n",
       "    </tr>\n",
       "  </thead>\n",
       "  <tbody>\n",
       "    <tr>\n",
       "      <th>9a19a44e2c73da182a83c72f1b257ee63a52fa4bb4b4d44cb59b087335a5a416</th>\n",
       "      <td>2</td>\n",
       "    </tr>\n",
       "    <tr>\n",
       "      <th>9881444aff61ae7f80aa64e102ac1b605eb00b0721f620a96a0a8a0e301be37a</th>\n",
       "      <td>2</td>\n",
       "    </tr>\n",
       "    <tr>\n",
       "      <th>4402ca627f1869163ece462532bd44f974f80c51d0c8dd4c879723b7e998a7ad</th>\n",
       "      <td>2</td>\n",
       "    </tr>\n",
       "    <tr>\n",
       "      <th>952f8098b11238ad2bf39b96a3b80d93f95159738351610a64b51cb4e9966448</th>\n",
       "      <td>2</td>\n",
       "    </tr>\n",
       "    <tr>\n",
       "      <th>eb5cc7896ca68745d57a466889c60198307e4a87641e4b1ac45f4bfd47d33041</th>\n",
       "      <td>2</td>\n",
       "    </tr>\n",
       "  </tbody>\n",
       "</table>\n",
       "</div>"
      ],
      "text/plain": [
       "                                                    Group\n",
       "Email                                                    \n",
       "9a19a44e2c73da182a83c72f1b257ee63a52fa4bb4b4d44...      2\n",
       "9881444aff61ae7f80aa64e102ac1b605eb00b0721f620a...      2\n",
       "4402ca627f1869163ece462532bd44f974f80c51d0c8dd4...      2\n",
       "952f8098b11238ad2bf39b96a3b80d93f95159738351610...      2\n",
       "eb5cc7896ca68745d57a466889c60198307e4a87641e4b1...      2"
      ]
     },
     "execution_count": 9,
     "metadata": {},
     "output_type": "execute_result"
    }
   ],
   "source": [
    "df_qc_duplicate.head(5)"
   ]
  },
  {
   "cell_type": "code",
   "execution_count": 10,
   "metadata": {},
   "outputs": [
    {
     "data": {
      "text/html": [
       "<div>\n",
       "<style scoped>\n",
       "    .dataframe tbody tr th:only-of-type {\n",
       "        vertical-align: middle;\n",
       "    }\n",
       "\n",
       "    .dataframe tbody tr th {\n",
       "        vertical-align: top;\n",
       "    }\n",
       "\n",
       "    .dataframe thead th {\n",
       "        text-align: right;\n",
       "    }\n",
       "</style>\n",
       "<table border=\"1\" class=\"dataframe\">\n",
       "  <thead>\n",
       "    <tr style=\"text-align: right;\">\n",
       "      <th></th>\n",
       "      <th>Email</th>\n",
       "      <th>Group</th>\n",
       "    </tr>\n",
       "  </thead>\n",
       "  <tbody>\n",
       "    <tr>\n",
       "      <th>95446</th>\n",
       "      <td>1152cb7e6f7bba4aea1a4a9543cefeb4e5f5fccd92a0c5...</td>\n",
       "      <td>control</td>\n",
       "    </tr>\n",
       "    <tr>\n",
       "      <th>2118993</th>\n",
       "      <td>1152cb7e6f7bba4aea1a4a9543cefeb4e5f5fccd92a0c5...</td>\n",
       "      <td>test</td>\n",
       "    </tr>\n",
       "    <tr>\n",
       "      <th>15843</th>\n",
       "      <td>12d0aded1a1810dd08e60ea3bb1d0b0d46b1a2c224a1e0...</td>\n",
       "      <td>control</td>\n",
       "    </tr>\n",
       "    <tr>\n",
       "      <th>14076876</th>\n",
       "      <td>12d0aded1a1810dd08e60ea3bb1d0b0d46b1a2c224a1e0...</td>\n",
       "      <td>test</td>\n",
       "    </tr>\n",
       "    <tr>\n",
       "      <th>30196</th>\n",
       "      <td>2b5aadd1188c83cfcd23d14e2578a1af92e41a7198ca1f...</td>\n",
       "      <td>control</td>\n",
       "    </tr>\n",
       "    <tr>\n",
       "      <th>19978211</th>\n",
       "      <td>2b5aadd1188c83cfcd23d14e2578a1af92e41a7198ca1f...</td>\n",
       "      <td>test</td>\n",
       "    </tr>\n",
       "    <tr>\n",
       "      <th>25126</th>\n",
       "      <td>33c21258cdfeaae52ea857b0af6a72975fb4963ee9f065...</td>\n",
       "      <td>control</td>\n",
       "    </tr>\n",
       "    <tr>\n",
       "      <th>20562300</th>\n",
       "      <td>33c21258cdfeaae52ea857b0af6a72975fb4963ee9f065...</td>\n",
       "      <td>test</td>\n",
       "    </tr>\n",
       "    <tr>\n",
       "      <th>85183</th>\n",
       "      <td>3f0373fa1412044927d83a5bd105abc584ee8a423607fc...</td>\n",
       "      <td>control</td>\n",
       "    </tr>\n",
       "    <tr>\n",
       "      <th>20870886</th>\n",
       "      <td>3f0373fa1412044927d83a5bd105abc584ee8a423607fc...</td>\n",
       "      <td>test</td>\n",
       "    </tr>\n",
       "    <tr>\n",
       "      <th>11507</th>\n",
       "      <td>4402ca627f1869163ece462532bd44f974f80c51d0c8dd...</td>\n",
       "      <td>control</td>\n",
       "    </tr>\n",
       "    <tr>\n",
       "      <th>11466462</th>\n",
       "      <td>4402ca627f1869163ece462532bd44f974f80c51d0c8dd...</td>\n",
       "      <td>test</td>\n",
       "    </tr>\n",
       "    <tr>\n",
       "      <th>10023</th>\n",
       "      <td>50d794aa359942f1706d37cac1215dc624b13abc45b975...</td>\n",
       "      <td>control</td>\n",
       "    </tr>\n",
       "    <tr>\n",
       "      <th>20925122</th>\n",
       "      <td>50d794aa359942f1706d37cac1215dc624b13abc45b975...</td>\n",
       "      <td>test</td>\n",
       "    </tr>\n",
       "    <tr>\n",
       "      <th>41303</th>\n",
       "      <td>7d0abaaa0ab532f58f8cd5d47394893ed73a22eb185d22...</td>\n",
       "      <td>control</td>\n",
       "    </tr>\n",
       "    <tr>\n",
       "      <th>4435661</th>\n",
       "      <td>7d0abaaa0ab532f58f8cd5d47394893ed73a22eb185d22...</td>\n",
       "      <td>test</td>\n",
       "    </tr>\n",
       "    <tr>\n",
       "      <th>889</th>\n",
       "      <td>867b3c78faf6860cb386795b358b80e2e9dc66fa587e71...</td>\n",
       "      <td>control</td>\n",
       "    </tr>\n",
       "    <tr>\n",
       "      <th>15194080</th>\n",
       "      <td>867b3c78faf6860cb386795b358b80e2e9dc66fa587e71...</td>\n",
       "      <td>test</td>\n",
       "    </tr>\n",
       "    <tr>\n",
       "      <th>16847</th>\n",
       "      <td>952f8098b11238ad2bf39b96a3b80d93f9515973835161...</td>\n",
       "      <td>control</td>\n",
       "    </tr>\n",
       "    <tr>\n",
       "      <th>8203810</th>\n",
       "      <td>952f8098b11238ad2bf39b96a3b80d93f9515973835161...</td>\n",
       "      <td>test</td>\n",
       "    </tr>\n",
       "    <tr>\n",
       "      <th>12861</th>\n",
       "      <td>9881444aff61ae7f80aa64e102ac1b605eb00b0721f620...</td>\n",
       "      <td>control</td>\n",
       "    </tr>\n",
       "    <tr>\n",
       "      <th>15010312</th>\n",
       "      <td>9881444aff61ae7f80aa64e102ac1b605eb00b0721f620...</td>\n",
       "      <td>test</td>\n",
       "    </tr>\n",
       "    <tr>\n",
       "      <th>28958</th>\n",
       "      <td>9a19a44e2c73da182a83c72f1b257ee63a52fa4bb4b4d4...</td>\n",
       "      <td>control</td>\n",
       "    </tr>\n",
       "    <tr>\n",
       "      <th>18469496</th>\n",
       "      <td>9a19a44e2c73da182a83c72f1b257ee63a52fa4bb4b4d4...</td>\n",
       "      <td>test</td>\n",
       "    </tr>\n",
       "    <tr>\n",
       "      <th>80143</th>\n",
       "      <td>9e9ee7a65738b02c17563dd34dd680587d0410b0e213e2...</td>\n",
       "      <td>control</td>\n",
       "    </tr>\n",
       "    <tr>\n",
       "      <th>3516350</th>\n",
       "      <td>9e9ee7a65738b02c17563dd34dd680587d0410b0e213e2...</td>\n",
       "      <td>test</td>\n",
       "    </tr>\n",
       "    <tr>\n",
       "      <th>21759</th>\n",
       "      <td>9ffa5c0e186cb71cf52a131c2b84d028deda2fc954cffa...</td>\n",
       "      <td>control</td>\n",
       "    </tr>\n",
       "    <tr>\n",
       "      <th>18657548</th>\n",
       "      <td>9ffa5c0e186cb71cf52a131c2b84d028deda2fc954cffa...</td>\n",
       "      <td>test</td>\n",
       "    </tr>\n",
       "    <tr>\n",
       "      <th>16606</th>\n",
       "      <td>cc227cd9db26773714bf6f2144719abdb647f90fbce775...</td>\n",
       "      <td>control</td>\n",
       "    </tr>\n",
       "    <tr>\n",
       "      <th>20885930</th>\n",
       "      <td>cc227cd9db26773714bf6f2144719abdb647f90fbce775...</td>\n",
       "      <td>test</td>\n",
       "    </tr>\n",
       "    <tr>\n",
       "      <th>79913</th>\n",
       "      <td>d692be9449bb6940fa114d77e5942fae261e176def3026...</td>\n",
       "      <td>control</td>\n",
       "    </tr>\n",
       "    <tr>\n",
       "      <th>4438880</th>\n",
       "      <td>d692be9449bb6940fa114d77e5942fae261e176def3026...</td>\n",
       "      <td>test</td>\n",
       "    </tr>\n",
       "    <tr>\n",
       "      <th>22182</th>\n",
       "      <td>e7956b4f1167ae6626c02266db8e7da931c94ad94b0bf2...</td>\n",
       "      <td>control</td>\n",
       "    </tr>\n",
       "    <tr>\n",
       "      <th>17059013</th>\n",
       "      <td>e7956b4f1167ae6626c02266db8e7da931c94ad94b0bf2...</td>\n",
       "      <td>test</td>\n",
       "    </tr>\n",
       "    <tr>\n",
       "      <th>16765</th>\n",
       "      <td>eb5cc7896ca68745d57a466889c60198307e4a87641e4b...</td>\n",
       "      <td>control</td>\n",
       "    </tr>\n",
       "    <tr>\n",
       "      <th>5426532</th>\n",
       "      <td>eb5cc7896ca68745d57a466889c60198307e4a87641e4b...</td>\n",
       "      <td>test</td>\n",
       "    </tr>\n",
       "    <tr>\n",
       "      <th>77489</th>\n",
       "      <td>f1d05452c81554316589ec3740564d13921712c6216932...</td>\n",
       "      <td>control</td>\n",
       "    </tr>\n",
       "    <tr>\n",
       "      <th>757133</th>\n",
       "      <td>f1d05452c81554316589ec3740564d13921712c6216932...</td>\n",
       "      <td>test</td>\n",
       "    </tr>\n",
       "    <tr>\n",
       "      <th>18594</th>\n",
       "      <td>fb205f9e3a19ff047cbf571f767ce79d2c24acd8d751d8...</td>\n",
       "      <td>control</td>\n",
       "    </tr>\n",
       "    <tr>\n",
       "      <th>9676211</th>\n",
       "      <td>fb205f9e3a19ff047cbf571f767ce79d2c24acd8d751d8...</td>\n",
       "      <td>test</td>\n",
       "    </tr>\n",
       "    <tr>\n",
       "      <th>30594</th>\n",
       "      <td>fcbdcaa8fe139cb943ddbf56184dde05d63597230e1c97...</td>\n",
       "      <td>control</td>\n",
       "    </tr>\n",
       "    <tr>\n",
       "      <th>16056437</th>\n",
       "      <td>fcbdcaa8fe139cb943ddbf56184dde05d63597230e1c97...</td>\n",
       "      <td>test</td>\n",
       "    </tr>\n",
       "  </tbody>\n",
       "</table>\n",
       "</div>"
      ],
      "text/plain": [
       "                                                      Email    Group\n",
       "95446     1152cb7e6f7bba4aea1a4a9543cefeb4e5f5fccd92a0c5...  control\n",
       "2118993   1152cb7e6f7bba4aea1a4a9543cefeb4e5f5fccd92a0c5...     test\n",
       "15843     12d0aded1a1810dd08e60ea3bb1d0b0d46b1a2c224a1e0...  control\n",
       "14076876  12d0aded1a1810dd08e60ea3bb1d0b0d46b1a2c224a1e0...     test\n",
       "30196     2b5aadd1188c83cfcd23d14e2578a1af92e41a7198ca1f...  control\n",
       "19978211  2b5aadd1188c83cfcd23d14e2578a1af92e41a7198ca1f...     test\n",
       "25126     33c21258cdfeaae52ea857b0af6a72975fb4963ee9f065...  control\n",
       "20562300  33c21258cdfeaae52ea857b0af6a72975fb4963ee9f065...     test\n",
       "85183     3f0373fa1412044927d83a5bd105abc584ee8a423607fc...  control\n",
       "20870886  3f0373fa1412044927d83a5bd105abc584ee8a423607fc...     test\n",
       "11507     4402ca627f1869163ece462532bd44f974f80c51d0c8dd...  control\n",
       "11466462  4402ca627f1869163ece462532bd44f974f80c51d0c8dd...     test\n",
       "10023     50d794aa359942f1706d37cac1215dc624b13abc45b975...  control\n",
       "20925122  50d794aa359942f1706d37cac1215dc624b13abc45b975...     test\n",
       "41303     7d0abaaa0ab532f58f8cd5d47394893ed73a22eb185d22...  control\n",
       "4435661   7d0abaaa0ab532f58f8cd5d47394893ed73a22eb185d22...     test\n",
       "889       867b3c78faf6860cb386795b358b80e2e9dc66fa587e71...  control\n",
       "15194080  867b3c78faf6860cb386795b358b80e2e9dc66fa587e71...     test\n",
       "16847     952f8098b11238ad2bf39b96a3b80d93f9515973835161...  control\n",
       "8203810   952f8098b11238ad2bf39b96a3b80d93f9515973835161...     test\n",
       "12861     9881444aff61ae7f80aa64e102ac1b605eb00b0721f620...  control\n",
       "15010312  9881444aff61ae7f80aa64e102ac1b605eb00b0721f620...     test\n",
       "28958     9a19a44e2c73da182a83c72f1b257ee63a52fa4bb4b4d4...  control\n",
       "18469496  9a19a44e2c73da182a83c72f1b257ee63a52fa4bb4b4d4...     test\n",
       "80143     9e9ee7a65738b02c17563dd34dd680587d0410b0e213e2...  control\n",
       "3516350   9e9ee7a65738b02c17563dd34dd680587d0410b0e213e2...     test\n",
       "21759     9ffa5c0e186cb71cf52a131c2b84d028deda2fc954cffa...  control\n",
       "18657548  9ffa5c0e186cb71cf52a131c2b84d028deda2fc954cffa...     test\n",
       "16606     cc227cd9db26773714bf6f2144719abdb647f90fbce775...  control\n",
       "20885930  cc227cd9db26773714bf6f2144719abdb647f90fbce775...     test\n",
       "79913     d692be9449bb6940fa114d77e5942fae261e176def3026...  control\n",
       "4438880   d692be9449bb6940fa114d77e5942fae261e176def3026...     test\n",
       "22182     e7956b4f1167ae6626c02266db8e7da931c94ad94b0bf2...  control\n",
       "17059013  e7956b4f1167ae6626c02266db8e7da931c94ad94b0bf2...     test\n",
       "16765     eb5cc7896ca68745d57a466889c60198307e4a87641e4b...  control\n",
       "5426532   eb5cc7896ca68745d57a466889c60198307e4a87641e4b...     test\n",
       "77489     f1d05452c81554316589ec3740564d13921712c6216932...  control\n",
       "757133    f1d05452c81554316589ec3740564d13921712c6216932...     test\n",
       "18594     fb205f9e3a19ff047cbf571f767ce79d2c24acd8d751d8...  control\n",
       "9676211   fb205f9e3a19ff047cbf571f767ce79d2c24acd8d751d8...     test\n",
       "30594     fcbdcaa8fe139cb943ddbf56184dde05d63597230e1c97...  control\n",
       "16056437  fcbdcaa8fe139cb943ddbf56184dde05d63597230e1c97...     test"
      ]
     },
     "execution_count": 10,
     "metadata": {},
     "output_type": "execute_result"
    }
   ],
   "source": [
    "df_qc_duplicate=df_qc_duplicate.reset_index()\n",
    "Emails_list_21_in_both=df_qc_duplicate[df_qc_duplicate['Group']==2]['Email'].tolist()\n",
    "df_email_group[df_email_group['Email'].isin(Emails_list_21_in_both)].sort_values([\"Email\",\"Group\"])"
   ]
  },
  {
   "cell_type": "code",
   "execution_count": 11,
   "metadata": {},
   "outputs": [
    {
     "name": "stdout",
     "output_type": "stream",
     "text": [
      "2019-12-02 09:33:32.796721 (21505499, 2)\n",
      "2019-12-02 09:37:12.253982 (21505499, 3)\n"
     ]
    }
   ],
   "source": [
    "# The 21 emails are excluded from both test and control\n",
    "\n",
    "del df_qc_duplicate\n",
    "df_email_group=df_email_group[~df_email_group['Email'].isin(Emails_list_21_in_both)]\n",
    "df_email_group=df_email_group.rename(columns={\"Email\":\"email_address_hash\"})\n",
    "\n",
    "print(datetime.datetime.now(),df_FB_id_email_all.shape)\n",
    "df_FB_id_email_all=pd.merge(df_FB_id_email_all,df_email_group,on=\"email_address_hash\",how=\"left\")\n",
    "print(datetime.datetime.now(),df_FB_id_email_all.shape)"
   ]
  },
  {
   "cell_type": "code",
   "execution_count": 12,
   "metadata": {},
   "outputs": [
    {
     "name": "stdout",
     "output_type": "stream",
     "text": [
      "(21505499, 3) 21505499\n"
     ]
    }
   ],
   "source": [
    "print(df_FB_id_email_all.shape,df_FB_id_email_all['customer_id_hashed'].nunique())"
   ]
  },
  {
   "cell_type": "markdown",
   "metadata": {},
   "source": [
    "# Append Group"
   ]
  },
  {
   "cell_type": "code",
   "execution_count": 13,
   "metadata": {},
   "outputs": [
    {
     "name": "stdout",
     "output_type": "stream",
     "text": [
      "50\n",
      "25\n",
      "(21810554, 2) 21810554\n"
     ]
    }
   ],
   "source": [
    "files_Q3_audience_uploaded=glob.glob(\"/home/jian/Projects/Big_Lots/Live_Ramp/Quarterly_Update_2019Q3/upload_files/*.csv\")\n",
    "print(len(files_Q3_audience_uploaded))\n",
    "files_Q3_audience_uploaded_T=[x for x in files_Q3_audience_uploaded if os.path.basename(x)[:2]==\"T_\"]\n",
    "print(len(files_Q3_audience_uploaded_T))\n",
    "\n",
    "all_q3_test_audience=pd.DataFrame()\n",
    "for file in files_Q3_audience_uploaded_T:\n",
    "    df=pd.read_csv(file,dtype=str,usecols=['customer_id_hashed','segment'])\n",
    "    all_q3_test_audience=all_q3_test_audience.append(df)\n",
    "all_q3_test_audience=all_q3_test_audience.drop_duplicates()\n",
    "print(all_q3_test_audience.shape,all_q3_test_audience['customer_id_hashed'].nunique())"
   ]
  },
  {
   "cell_type": "code",
   "execution_count": 14,
   "metadata": {},
   "outputs": [
    {
     "name": "stdout",
     "output_type": "stream",
     "text": [
      "(21505499, 3)\n",
      "(21505499, 4)\n"
     ]
    }
   ],
   "source": [
    "print(df_FB_id_email_all.shape)\n",
    "df_FB_id_email_all=pd.merge(df_FB_id_email_all,all_q3_test_audience,on=\"customer_id_hashed\",how=\"left\")\n",
    "print(df_FB_id_email_all.shape)"
   ]
  },
  {
   "cell_type": "code",
   "execution_count": 15,
   "metadata": {},
   "outputs": [
    {
     "data": {
      "text/html": [
       "<div>\n",
       "<style scoped>\n",
       "    .dataframe tbody tr th:only-of-type {\n",
       "        vertical-align: middle;\n",
       "    }\n",
       "\n",
       "    .dataframe tbody tr th {\n",
       "        vertical-align: top;\n",
       "    }\n",
       "\n",
       "    .dataframe thead th {\n",
       "        text-align: right;\n",
       "    }\n",
       "</style>\n",
       "<table border=\"1\" class=\"dataframe\">\n",
       "  <thead>\n",
       "    <tr style=\"text-align: right;\">\n",
       "      <th></th>\n",
       "      <th>customer_id_hashed</th>\n",
       "      <th>email_address_hash</th>\n",
       "      <th>Group</th>\n",
       "      <th>segment</th>\n",
       "    </tr>\n",
       "  </thead>\n",
       "  <tbody>\n",
       "    <tr>\n",
       "      <th>0</th>\n",
       "      <td>9b7f9a1ba51dbae2a393c273ce8c9aa9bf610dc03410fd...</td>\n",
       "      <td>089bc373eda16a771e023d87ee368fb961c4ff9b36c7d6...</td>\n",
       "      <td>test</td>\n",
       "      <td>T_Quadrant III_S_L_2019Q3_RFM</td>\n",
       "    </tr>\n",
       "    <tr>\n",
       "      <th>1</th>\n",
       "      <td>c2c5bd862113c4e77c918dd22a25744f2e1224ea63b166...</td>\n",
       "      <td>065edf59d0ed26bea352be5f44fd7a6f688a0fa28cddb3...</td>\n",
       "      <td>test</td>\n",
       "      <td>T_Quadrant IV_P_H_2019Q3_RFM</td>\n",
       "    </tr>\n",
       "  </tbody>\n",
       "</table>\n",
       "</div>"
      ],
      "text/plain": [
       "                                  customer_id_hashed  \\\n",
       "0  9b7f9a1ba51dbae2a393c273ce8c9aa9bf610dc03410fd...   \n",
       "1  c2c5bd862113c4e77c918dd22a25744f2e1224ea63b166...   \n",
       "\n",
       "                                  email_address_hash Group  \\\n",
       "0  089bc373eda16a771e023d87ee368fb961c4ff9b36c7d6...  test   \n",
       "1  065edf59d0ed26bea352be5f44fd7a6f688a0fa28cddb3...  test   \n",
       "\n",
       "                         segment  \n",
       "0  T_Quadrant III_S_L_2019Q3_RFM  \n",
       "1   T_Quadrant IV_P_H_2019Q3_RFM  "
      ]
     },
     "execution_count": 15,
     "metadata": {},
     "output_type": "execute_result"
    }
   ],
   "source": [
    "df_FB_id_email_all.head(2)"
   ]
  },
  {
   "cell_type": "code",
   "execution_count": 16,
   "metadata": {
    "collapsed": true
   },
   "outputs": [],
   "source": [
    "df_FB_id_email_all['segment']=df_FB_id_email_all['segment'].fillna(\"others_not_in_Q3_audience\")"
   ]
  },
  {
   "cell_type": "markdown",
   "metadata": {
    "collapsed": true
   },
   "source": [
    "# Sales"
   ]
  },
  {
   "cell_type": "code",
   "execution_count": 17,
   "metadata": {},
   "outputs": [
    {
     "name": "stdout",
     "output_type": "stream",
     "text": [
      "2019-12-02 09:58:04.913554 (1409778, 6)\n",
      "2019-12-02 10:01:27.345678 (2907343, 6)\n",
      "2019-12-02 10:04:59.545246 (4388465, 6)\n"
     ]
    },
    {
     "data": {
      "text/plain": [
       "(4388465, 6)"
      ]
     },
     "execution_count": 17,
     "metadata": {},
     "output_type": "execute_result"
    }
   ],
   "source": [
    "# POS data range\n",
    "file_week_1=\"/home/jian/BigLots/2019_by_weeks/MediaStorm_2019-10-26/MediaStormDailySales20191029-111155-920.txt\"\n",
    "file_week_2=\"/home/jian/BigLots/2019_by_weeks/MediaStorm_2019-11-02/MediaStormDailySales20191105-111212-139.txt\"\n",
    "file_week_3=\"/home/jian/BigLots/2019_by_weeks/MediaStorm_2019-11-09/MediaStormDailySales20191112-115210-002.txt\"\n",
    "\n",
    "POS_file_list=[file_week_1,file_week_2,file_week_3]\n",
    "\n",
    "df_POS_all=pd.DataFrame()\n",
    "\n",
    "for file in POS_file_list:\n",
    "    df=pd.read_table(file,dtype=str,sep=\"|\")\n",
    "    df=df[pd.notnull(df['customer_id_hashed'])]\n",
    "    df['item_transaction_amt']=df['item_transaction_amt'].astype(float)\n",
    "    df['sales_instore']=np.where(df['location_id']!=\"6990\",df['item_transaction_amt'],0)\n",
    "    df['sales_online']=np.where(df['location_id']==\"6990\",df['item_transaction_amt'],0)\n",
    "    \n",
    "    df_trans=df[['location_id','transaction_dt','transaction_id','customer_id_hashed']].drop_duplicates()\n",
    "    df_trans['trans_instore']=np.where(df_trans['location_id']!=\"6990\",1,0)\n",
    "    df_trans['trans_online']=np.where(df_trans['location_id']==\"6990\",1,0)\n",
    "    \n",
    "    df_trans=df_trans.groupby([\"customer_id_hashed\",\"transaction_dt\"])['trans_instore','trans_online'].sum().reset_index()\n",
    "    \n",
    "    df_sales=df.groupby([\"customer_id_hashed\",\"transaction_dt\"])['sales_instore','sales_online'].sum().reset_index()\n",
    "    \n",
    "    df=pd.merge(df_sales,df_trans,on=[\"customer_id_hashed\",\"transaction_dt\"],how=\"outer\")\n",
    "    df_POS_all=df_POS_all.append(df)\n",
    "    print(datetime.datetime.now(),df_POS_all.shape)\n",
    "    \n",
    "df_POS_all.shape\n",
    "# earlier version doesn't devide the online vs instore"
   ]
  },
  {
   "cell_type": "code",
   "execution_count": 18,
   "metadata": {
    "collapsed": true
   },
   "outputs": [],
   "source": [
    "P1_range=[\"2019-10-21\",\"2019-11-02\"]\n",
    "P2_range=[\"2019-11-03\",\"2019-11-07\"]"
   ]
  },
  {
   "cell_type": "code",
   "execution_count": 19,
   "metadata": {},
   "outputs": [
    {
     "name": "stdout",
     "output_type": "stream",
     "text": [
      "2019-10-20 2019-11-09\n"
     ]
    }
   ],
   "source": [
    "print(df_POS_all['transaction_dt'].min(),df_POS_all['transaction_dt'].max())"
   ]
  },
  {
   "cell_type": "code",
   "execution_count": 20,
   "metadata": {},
   "outputs": [
    {
     "name": "stdout",
     "output_type": "stream",
     "text": [
      "(21505499, 4)\n"
     ]
    },
    {
     "name": "stderr",
     "output_type": "stream",
     "text": [
      "/usr/local/lib/python3.6/site-packages/ipykernel_launcher.py:5: SettingWithCopyWarning: \n",
      "A value is trying to be set on a copy of a slice from a DataFrame.\n",
      "Try using .loc[row_indexer,col_indexer] = value instead\n",
      "\n",
      "See the caveats in the documentation: http://pandas.pydata.org/pandas-docs/stable/user_guide/indexing.html#returning-a-view-versus-a-copy\n",
      "  \"\"\"\n"
     ]
    },
    {
     "name": "stdout",
     "output_type": "stream",
     "text": [
      "(21505499, 4)\n"
     ]
    }
   ],
   "source": [
    "print(df_FB_id_email_all.shape)\n",
    "df_FB_id_email_all_0=df_FB_id_email_all[df_FB_id_email_all['segment']!=\"others_not_in_Q3_audience\"]\n",
    "df_FB_id_email_all_1=df_FB_id_email_all[df_FB_id_email_all['segment']==\"others_not_in_Q3_audience\"]\n",
    "\n",
    "df_FB_id_email_all_0['segment']=df_FB_id_email_all_0['segment'].apply(lambda x: x.split(\"_\")[3]+\"_\"+x.split(\"_\")[2])\n",
    "df_FB_id_email_all=df_FB_id_email_all_0.append(df_FB_id_email_all_1)\n",
    "print(df_FB_id_email_all.shape)"
   ]
  },
  {
   "cell_type": "code",
   "execution_count": 21,
   "metadata": {},
   "outputs": [
    {
     "data": {
      "text/html": [
       "<div>\n",
       "<style scoped>\n",
       "    .dataframe tbody tr th:only-of-type {\n",
       "        vertical-align: middle;\n",
       "    }\n",
       "\n",
       "    .dataframe tbody tr th {\n",
       "        vertical-align: top;\n",
       "    }\n",
       "\n",
       "    .dataframe thead th {\n",
       "        text-align: right;\n",
       "    }\n",
       "</style>\n",
       "<table border=\"1\" class=\"dataframe\">\n",
       "  <thead>\n",
       "    <tr style=\"text-align: right;\">\n",
       "      <th></th>\n",
       "      <th>segment</th>\n",
       "      <th>customer_id_hashed</th>\n",
       "    </tr>\n",
       "  </thead>\n",
       "  <tbody>\n",
       "    <tr>\n",
       "      <th>0</th>\n",
       "      <td>48_18</td>\n",
       "      <td>375038</td>\n",
       "    </tr>\n",
       "    <tr>\n",
       "      <th>1</th>\n",
       "      <td>H_P</td>\n",
       "      <td>4937981</td>\n",
       "    </tr>\n",
       "    <tr>\n",
       "      <th>2</th>\n",
       "      <td>H_S</td>\n",
       "      <td>1694485</td>\n",
       "    </tr>\n",
       "    <tr>\n",
       "      <th>3</th>\n",
       "      <td>L_P</td>\n",
       "      <td>2638066</td>\n",
       "    </tr>\n",
       "    <tr>\n",
       "      <th>4</th>\n",
       "      <td>L_S</td>\n",
       "      <td>1106043</td>\n",
       "    </tr>\n",
       "    <tr>\n",
       "      <th>5</th>\n",
       "      <td>M_P</td>\n",
       "      <td>3515875</td>\n",
       "    </tr>\n",
       "    <tr>\n",
       "      <th>6</th>\n",
       "      <td>M_S</td>\n",
       "      <td>1361003</td>\n",
       "    </tr>\n",
       "    <tr>\n",
       "      <th>7</th>\n",
       "      <td>others_not_in_Q3_audience</td>\n",
       "      <td>5877008</td>\n",
       "    </tr>\n",
       "  </tbody>\n",
       "</table>\n",
       "</div>"
      ],
      "text/plain": [
       "                     segment  customer_id_hashed\n",
       "0                      48_18              375038\n",
       "1                        H_P             4937981\n",
       "2                        H_S             1694485\n",
       "3                        L_P             2638066\n",
       "4                        L_S             1106043\n",
       "5                        M_P             3515875\n",
       "6                        M_S             1361003\n",
       "7  others_not_in_Q3_audience             5877008"
      ]
     },
     "execution_count": 21,
     "metadata": {},
     "output_type": "execute_result"
    }
   ],
   "source": [
    "df_FB_id_email_all.groupby(\"segment\")['customer_id_hashed'].count().to_frame().reset_index()"
   ]
  },
  {
   "cell_type": "code",
   "execution_count": 22,
   "metadata": {},
   "outputs": [
    {
     "name": "stdout",
     "output_type": "stream",
     "text": [
      "(4388465, 9)\n"
     ]
    },
    {
     "data": {
      "text/html": [
       "<div>\n",
       "<style scoped>\n",
       "    .dataframe tbody tr th:only-of-type {\n",
       "        vertical-align: middle;\n",
       "    }\n",
       "\n",
       "    .dataframe tbody tr th {\n",
       "        vertical-align: top;\n",
       "    }\n",
       "\n",
       "    .dataframe thead th {\n",
       "        text-align: right;\n",
       "    }\n",
       "</style>\n",
       "<table border=\"1\" class=\"dataframe\">\n",
       "  <thead>\n",
       "    <tr style=\"text-align: right;\">\n",
       "      <th></th>\n",
       "      <th>customer_id_hashed</th>\n",
       "      <th>transaction_dt</th>\n",
       "      <th>sales_instore</th>\n",
       "      <th>sales_online</th>\n",
       "      <th>trans_instore</th>\n",
       "      <th>trans_online</th>\n",
       "      <th>email_address_hash</th>\n",
       "      <th>Group</th>\n",
       "      <th>segment</th>\n",
       "    </tr>\n",
       "  </thead>\n",
       "  <tbody>\n",
       "    <tr>\n",
       "      <th>0</th>\n",
       "      <td>00000950dea4a869e9fe70d823444d418c5abebbd8e830...</td>\n",
       "      <td>2019-10-20</td>\n",
       "      <td>13.9</td>\n",
       "      <td>0.0</td>\n",
       "      <td>2</td>\n",
       "      <td>0</td>\n",
       "      <td>3ec23725736314cdfdd3fec2dc33de427da23104623312...</td>\n",
       "      <td>test</td>\n",
       "      <td>M_P</td>\n",
       "    </tr>\n",
       "    <tr>\n",
       "      <th>1</th>\n",
       "      <td>00000950dea4a869e9fe70d823444d418c5abebbd8e830...</td>\n",
       "      <td>2019-10-24</td>\n",
       "      <td>0.0</td>\n",
       "      <td>0.0</td>\n",
       "      <td>1</td>\n",
       "      <td>0</td>\n",
       "      <td>3ec23725736314cdfdd3fec2dc33de427da23104623312...</td>\n",
       "      <td>test</td>\n",
       "      <td>M_P</td>\n",
       "    </tr>\n",
       "  </tbody>\n",
       "</table>\n",
       "</div>"
      ],
      "text/plain": [
       "                                  customer_id_hashed transaction_dt  \\\n",
       "0  00000950dea4a869e9fe70d823444d418c5abebbd8e830...     2019-10-20   \n",
       "1  00000950dea4a869e9fe70d823444d418c5abebbd8e830...     2019-10-24   \n",
       "\n",
       "   sales_instore  sales_online  trans_instore  trans_online  \\\n",
       "0           13.9           0.0              2             0   \n",
       "1            0.0           0.0              1             0   \n",
       "\n",
       "                                  email_address_hash Group segment  \n",
       "0  3ec23725736314cdfdd3fec2dc33de427da23104623312...  test     M_P  \n",
       "1  3ec23725736314cdfdd3fec2dc33de427da23104623312...  test     M_P  "
      ]
     },
     "execution_count": 22,
     "metadata": {},
     "output_type": "execute_result"
    }
   ],
   "source": [
    "# left merge into the POS\n",
    "df_POS_all=pd.merge(df_POS_all,df_FB_id_email_all,on=\"customer_id_hashed\",how=\"left\")\n",
    "print(df_POS_all.shape)\n",
    "df_POS_all.head(2)"
   ]
  },
  {
   "cell_type": "code",
   "execution_count": 23,
   "metadata": {},
   "outputs": [
    {
     "data": {
      "text/plain": [
       "array(['M_P', nan, 'others_not_in_Q3_audience', 'H_S', 'H_P', 'M_S',\n",
       "       'L_P', '48_18', 'L_S'], dtype=object)"
      ]
     },
     "execution_count": 23,
     "metadata": {},
     "output_type": "execute_result"
    }
   ],
   "source": [
    "df_POS_all['segment'].unique()"
   ]
  },
  {
   "cell_type": "code",
   "execution_count": 24,
   "metadata": {
    "collapsed": true
   },
   "outputs": [],
   "source": [
    "df_POS_all['segment']=df_POS_all['segment'].fillna(\"others_not_in_Q3_audience\")"
   ]
  },
  {
   "cell_type": "code",
   "execution_count": 25,
   "metadata": {},
   "outputs": [
    {
     "data": {
      "text/plain": [
       "array(['M_P', 'others_not_in_Q3_audience', 'H_S', 'H_P', 'M_S', 'L_P',\n",
       "       '48_18', 'L_S'], dtype=object)"
      ]
     },
     "execution_count": 25,
     "metadata": {},
     "output_type": "execute_result"
    }
   ],
   "source": [
    "df_POS_all['segment'].unique()"
   ]
  },
  {
   "cell_type": "code",
   "execution_count": 26,
   "metadata": {
    "collapsed": true
   },
   "outputs": [],
   "source": [
    "df_POS_all['Period']=np.where(((df_POS_all['transaction_dt']>=P1_range[0]) & (df_POS_all['transaction_dt']<=P1_range[1])),\"P1: 10/21-11/2\",\n",
    "                              np.where(((df_POS_all['transaction_dt']>=P2_range[0]) & (df_POS_all['transaction_dt']<=P2_range[1])),\"P2: 11/3-11/7\",\"Others\")\n",
    "                             )"
   ]
  },
  {
   "cell_type": "code",
   "execution_count": 27,
   "metadata": {
    "collapsed": true
   },
   "outputs": [],
   "source": [
    "df_POS_all.to_csv(\"./BL_df_detail_3_weeks_POS_instore_and_online_with_audience_JL_\"+str(datetime.datetime.now().date())+\".csv\",index=\"False\")"
   ]
  },
  {
   "cell_type": "code",
   "execution_count": 28,
   "metadata": {},
   "outputs": [
    {
     "data": {
      "text/html": [
       "<div>\n",
       "<style scoped>\n",
       "    .dataframe tbody tr th:only-of-type {\n",
       "        vertical-align: middle;\n",
       "    }\n",
       "\n",
       "    .dataframe tbody tr th {\n",
       "        vertical-align: top;\n",
       "    }\n",
       "\n",
       "    .dataframe thead th {\n",
       "        text-align: right;\n",
       "    }\n",
       "</style>\n",
       "<table border=\"1\" class=\"dataframe\">\n",
       "  <thead>\n",
       "    <tr style=\"text-align: right;\">\n",
       "      <th></th>\n",
       "      <th>customer_id_hashed</th>\n",
       "      <th>transaction_dt</th>\n",
       "      <th>sales_instore</th>\n",
       "      <th>sales_online</th>\n",
       "      <th>trans_instore</th>\n",
       "      <th>trans_online</th>\n",
       "      <th>email_address_hash</th>\n",
       "      <th>Group</th>\n",
       "      <th>segment</th>\n",
       "      <th>Period</th>\n",
       "    </tr>\n",
       "  </thead>\n",
       "  <tbody>\n",
       "    <tr>\n",
       "      <th>0</th>\n",
       "      <td>00000950dea4a869e9fe70d823444d418c5abebbd8e830...</td>\n",
       "      <td>2019-10-20</td>\n",
       "      <td>13.9</td>\n",
       "      <td>0.0</td>\n",
       "      <td>2</td>\n",
       "      <td>0</td>\n",
       "      <td>3ec23725736314cdfdd3fec2dc33de427da23104623312...</td>\n",
       "      <td>test</td>\n",
       "      <td>M_P</td>\n",
       "      <td>Others</td>\n",
       "    </tr>\n",
       "    <tr>\n",
       "      <th>1</th>\n",
       "      <td>00000950dea4a869e9fe70d823444d418c5abebbd8e830...</td>\n",
       "      <td>2019-10-24</td>\n",
       "      <td>0.0</td>\n",
       "      <td>0.0</td>\n",
       "      <td>1</td>\n",
       "      <td>0</td>\n",
       "      <td>3ec23725736314cdfdd3fec2dc33de427da23104623312...</td>\n",
       "      <td>test</td>\n",
       "      <td>M_P</td>\n",
       "      <td>P1: 10/21-11/2</td>\n",
       "    </tr>\n",
       "  </tbody>\n",
       "</table>\n",
       "</div>"
      ],
      "text/plain": [
       "                                  customer_id_hashed transaction_dt  \\\n",
       "0  00000950dea4a869e9fe70d823444d418c5abebbd8e830...     2019-10-20   \n",
       "1  00000950dea4a869e9fe70d823444d418c5abebbd8e830...     2019-10-24   \n",
       "\n",
       "   sales_instore  sales_online  trans_instore  trans_online  \\\n",
       "0           13.9           0.0              2             0   \n",
       "1            0.0           0.0              1             0   \n",
       "\n",
       "                                  email_address_hash Group segment  \\\n",
       "0  3ec23725736314cdfdd3fec2dc33de427da23104623312...  test     M_P   \n",
       "1  3ec23725736314cdfdd3fec2dc33de427da23104623312...  test     M_P   \n",
       "\n",
       "           Period  \n",
       "0          Others  \n",
       "1  P1: 10/21-11/2  "
      ]
     },
     "execution_count": 28,
     "metadata": {},
     "output_type": "execute_result"
    }
   ],
   "source": [
    "df_POS_all.head(2)"
   ]
  },
  {
   "cell_type": "code",
   "execution_count": 29,
   "metadata": {},
   "outputs": [
    {
     "data": {
      "text/plain": [
       "(48, 8)"
      ]
     },
     "execution_count": 29,
     "metadata": {},
     "output_type": "execute_result"
    }
   ],
   "source": [
    "agg_func={\"email_address_hash\":\"nunique\",\"sales_instore\":\"sum\",\"sales_online\":\"sum\",\"trans_instore\":\"sum\",\"trans_online\":\"sum\"}\n",
    "df_summary=df_POS_all.groupby([\"Group\",\"Period\",\"segment\"]).agg(agg_func).reset_index()\n",
    "df_summary.shape"
   ]
  },
  {
   "cell_type": "code",
   "execution_count": 30,
   "metadata": {},
   "outputs": [
    {
     "data": {
      "text/plain": [
       "array(['control', 'test'], dtype=object)"
      ]
     },
     "execution_count": 30,
     "metadata": {},
     "output_type": "execute_result"
    }
   ],
   "source": [
    "df_summary['Group'].unique()"
   ]
  },
  {
   "cell_type": "code",
   "execution_count": 31,
   "metadata": {},
   "outputs": [
    {
     "data": {
      "text/html": [
       "<div>\n",
       "<style scoped>\n",
       "    .dataframe tbody tr th:only-of-type {\n",
       "        vertical-align: middle;\n",
       "    }\n",
       "\n",
       "    .dataframe tbody tr th {\n",
       "        vertical-align: top;\n",
       "    }\n",
       "\n",
       "    .dataframe thead th {\n",
       "        text-align: right;\n",
       "    }\n",
       "</style>\n",
       "<table border=\"1\" class=\"dataframe\">\n",
       "  <thead>\n",
       "    <tr style=\"text-align: right;\">\n",
       "      <th></th>\n",
       "      <th>Group</th>\n",
       "      <th>segment</th>\n",
       "      <th>email_address_hash</th>\n",
       "    </tr>\n",
       "  </thead>\n",
       "  <tbody>\n",
       "    <tr>\n",
       "      <th>0</th>\n",
       "      <td>control</td>\n",
       "      <td>48_18</td>\n",
       "      <td>1690</td>\n",
       "    </tr>\n",
       "    <tr>\n",
       "      <th>1</th>\n",
       "      <td>control</td>\n",
       "      <td>H_P</td>\n",
       "      <td>22921</td>\n",
       "    </tr>\n",
       "    <tr>\n",
       "      <th>2</th>\n",
       "      <td>control</td>\n",
       "      <td>H_S</td>\n",
       "      <td>7818</td>\n",
       "    </tr>\n",
       "    <tr>\n",
       "      <th>3</th>\n",
       "      <td>control</td>\n",
       "      <td>L_P</td>\n",
       "      <td>12299</td>\n",
       "    </tr>\n",
       "    <tr>\n",
       "      <th>4</th>\n",
       "      <td>control</td>\n",
       "      <td>L_S</td>\n",
       "      <td>5149</td>\n",
       "    </tr>\n",
       "    <tr>\n",
       "      <th>5</th>\n",
       "      <td>control</td>\n",
       "      <td>M_P</td>\n",
       "      <td>16346</td>\n",
       "    </tr>\n",
       "    <tr>\n",
       "      <th>6</th>\n",
       "      <td>control</td>\n",
       "      <td>M_S</td>\n",
       "      <td>6416</td>\n",
       "    </tr>\n",
       "    <tr>\n",
       "      <th>7</th>\n",
       "      <td>control</td>\n",
       "      <td>others_not_in_Q3_audience</td>\n",
       "      <td>27340</td>\n",
       "    </tr>\n",
       "    <tr>\n",
       "      <th>8</th>\n",
       "      <td>test</td>\n",
       "      <td>48_18</td>\n",
       "      <td>373348</td>\n",
       "    </tr>\n",
       "    <tr>\n",
       "      <th>9</th>\n",
       "      <td>test</td>\n",
       "      <td>H_P</td>\n",
       "      <td>4915055</td>\n",
       "    </tr>\n",
       "    <tr>\n",
       "      <th>10</th>\n",
       "      <td>test</td>\n",
       "      <td>H_S</td>\n",
       "      <td>1686666</td>\n",
       "    </tr>\n",
       "    <tr>\n",
       "      <th>11</th>\n",
       "      <td>test</td>\n",
       "      <td>L_P</td>\n",
       "      <td>2625766</td>\n",
       "    </tr>\n",
       "    <tr>\n",
       "      <th>12</th>\n",
       "      <td>test</td>\n",
       "      <td>L_S</td>\n",
       "      <td>1100892</td>\n",
       "    </tr>\n",
       "    <tr>\n",
       "      <th>13</th>\n",
       "      <td>test</td>\n",
       "      <td>M_P</td>\n",
       "      <td>3499527</td>\n",
       "    </tr>\n",
       "    <tr>\n",
       "      <th>14</th>\n",
       "      <td>test</td>\n",
       "      <td>M_S</td>\n",
       "      <td>1354587</td>\n",
       "    </tr>\n",
       "    <tr>\n",
       "      <th>15</th>\n",
       "      <td>test</td>\n",
       "      <td>others_not_in_Q3_audience</td>\n",
       "      <td>5848621</td>\n",
       "    </tr>\n",
       "  </tbody>\n",
       "</table>\n",
       "</div>"
      ],
      "text/plain": [
       "      Group                    segment  email_address_hash\n",
       "0   control                      48_18                1690\n",
       "1   control                        H_P               22921\n",
       "2   control                        H_S                7818\n",
       "3   control                        L_P               12299\n",
       "4   control                        L_S                5149\n",
       "5   control                        M_P               16346\n",
       "6   control                        M_S                6416\n",
       "7   control  others_not_in_Q3_audience               27340\n",
       "8      test                      48_18              373348\n",
       "9      test                        H_P             4915055\n",
       "10     test                        H_S             1686666\n",
       "11     test                        L_P             2625766\n",
       "12     test                        L_S             1100892\n",
       "13     test                        M_P             3499527\n",
       "14     test                        M_S             1354587\n",
       "15     test  others_not_in_Q3_audience             5848621"
      ]
     },
     "execution_count": 31,
     "metadata": {},
     "output_type": "execute_result"
    }
   ],
   "source": [
    "df_total_id=df_FB_id_email_all.groupby([\"Group\",\"segment\"])['email_address_hash'].nunique().to_frame().reset_index()\n",
    "df_total_id"
   ]
  },
  {
   "cell_type": "code",
   "execution_count": 32,
   "metadata": {},
   "outputs": [
    {
     "data": {
      "text/plain": [
       "(16, 3)"
      ]
     },
     "execution_count": 32,
     "metadata": {},
     "output_type": "execute_result"
    }
   ],
   "source": [
    "df_unique_shoppers_both_periods=df_POS_all[df_POS_all['Period']!=\"Others\"]\n",
    "df_unique_shoppers_both_periods=df_unique_shoppers_both_periods.groupby([\"Group\",\"segment\"])['email_address_hash'].nunique().to_frame().reset_index()\n",
    "df_unique_shoppers_both_periods.shape"
   ]
  },
  {
   "cell_type": "code",
   "execution_count": 33,
   "metadata": {
    "collapsed": true
   },
   "outputs": [],
   "source": [
    "writer=pd.ExcelWriter(\"./BL_output_FB_offer_result_by_store_type_segment_JL_\"+str(datetime.datetime.now().date())+\".xlsx\",engine=\"xlsxwriter\")\n",
    "df_summary.to_excel(writer,\"performance\",index=False)\n",
    "df_total_id.to_excel(writer,\"total_id\",index=False)\n",
    "df_unique_shoppers_both_periods.to_excel(writer,\"total_shoppers_both_P\",index=False)\n",
    "writer.save()"
   ]
  },
  {
   "cell_type": "markdown",
   "metadata": {
    "collapsed": true
   },
   "source": [
    "# Proration based on shoppers weight"
   ]
  },
  {
   "cell_type": "code",
   "execution_count": 85,
   "metadata": {},
   "outputs": [
    {
     "name": "stderr",
     "output_type": "stream",
     "text": [
      "/usr/local/lib/python3.6/site-packages/ipykernel_launcher.py:5: SettingWithCopyWarning: \n",
      "A value is trying to be set on a copy of a slice from a DataFrame.\n",
      "Try using .loc[row_indexer,col_indexer] = value instead\n",
      "\n",
      "See the caveats in the documentation: http://pandas.pydata.org/pandas-docs/stable/user_guide/indexing.html#returning-a-view-versus-a-copy\n",
      "  \"\"\"\n"
     ]
    },
    {
     "data": {
      "text/plain": [
       "{'48_18': 0.011700696911904406,\n",
       " 'H_P': 0.45387518435615165,\n",
       " 'H_S': 0.1337377808976239,\n",
       " 'L_P': 0.043992802837757666,\n",
       " 'L_S': 0.016981362033652723,\n",
       " 'M_P': 0.12825922354051292,\n",
       " 'M_S': 0.0456910239734128,\n",
       " 'others_not_in_Q3_audience': 0.16576192544898394}"
      ]
     },
     "execution_count": 85,
     "metadata": {},
     "output_type": "execute_result"
    }
   ],
   "source": [
    "# The proportion of each segment\n",
    "\n",
    "df_test_both_period=df_unique_shoppers_both_periods[df_unique_shoppers_both_periods['Group']==\"test\"]\n",
    "total_shoppers=df_test_both_period['email_address_hash'].sum()\n",
    "df_test_both_period['pctg']=df_test_both_period['email_address_hash']/total_shoppers\n",
    "\n",
    "dict_test_both_period=df_test_both_period.set_index(\"segment\").to_dict()[\"pctg\"]\n",
    "\n",
    "dict_test_both_period"
   ]
  },
  {
   "cell_type": "code",
   "execution_count": 99,
   "metadata": {
    "collapsed": true
   },
   "outputs": [],
   "source": [
    "import random\n",
    "random.seed(0)"
   ]
  },
  {
   "cell_type": "code",
   "execution_count": 100,
   "metadata": {},
   "outputs": [
    {
     "name": "stdout",
     "output_type": "stream",
     "text": [
      "('control', '48_18') 2019-12-02 10:43:36.485078 0.011242603550295858 (19, 5)\n",
      "('control', 'H_P') 2019-12-02 10:43:36.526483 0.4538632694908599 (10422, 5)\n",
      "('control', 'H_S') 2019-12-02 10:43:36.545810 0.1336658992069583 (11467, 5)\n",
      "('control', 'L_P') 2019-12-02 10:43:36.570528 0.04398731604195463 (12008, 5)\n",
      "('control', 'L_S') 2019-12-02 10:43:36.586423 0.016896484754321227 (12095, 5)\n",
      "('control', 'M_P') 2019-12-02 10:43:36.618660 0.1282270891961336 (14191, 5)\n",
      "('control', 'M_S') 2019-12-02 10:43:36.638021 0.04566708229426434 (14484, 5)\n",
      "('control', 'others_not_in_Q3_audience') 2019-12-02 10:43:36.673986 0.1657278712509144 (19015, 5)\n",
      "('test', '48_18') 2019-12-02 10:43:36.882524 0.011699540375199546 (23383, 5)\n",
      "('test', 'H_P') 2019-12-02 10:43:48.123460 0.4538751025674779 (2254205, 5)\n",
      "('test', 'H_S') 2019-12-02 10:43:51.316721 0.13373720701075376 (2479775, 5)\n",
      "('test', 'L_P') 2019-12-02 10:43:54.125588 0.04399249590405238 (2595289, 5)\n",
      "('test', 'L_S') 2019-12-02 10:43:56.339859 0.016980775589249444 (2613983, 5)\n",
      "('test', 'M_P') 2019-12-02 10:44:02.354945 0.12825904757985865 (3062829, 5)\n",
      "('test', 'M_S') 2019-12-02 10:44:03.908437 0.04569067915165287 (3124721, 5)\n",
      "('test', 'others_not_in_Q3_audience') 2019-12-02 10:44:16.153601 0.1657617953940716 (4094367, 5)\n"
     ]
    }
   ],
   "source": [
    "df_subset_ids=pd.DataFrame()\n",
    "for seg_group,df_group in df_FB_id_email_all.groupby([\"Group\",\"segment\"]):\n",
    "    df_group=df_group.reset_index()\n",
    "    del df_group['index']\n",
    "    df_group=df_group.reset_index()\n",
    "    total_ids=df_group.shape[0]\n",
    "    seg=seg_group[1]\n",
    "    \n",
    "    selected_ind=random.sample(df_group['index'].tolist(),int(np.floor(total_ids*dict_test_both_period[seg])))\n",
    "    \n",
    "    df_group=df_group[df_group['index'].isin(selected_ind)]\n",
    "    df_subset_ids=df_subset_ids.append(df_group)\n",
    "    print(seg_group,datetime.datetime.now(),df_group.shape[0]/total_ids,df_subset_ids.shape)"
   ]
  },
  {
   "cell_type": "code",
   "execution_count": 105,
   "metadata": {
    "collapsed": true
   },
   "outputs": [],
   "source": [
    "df_POS_all_both_Periods_subset=df_POS_all[df_POS_all['Period']!=\"Others\"]\n",
    "df_POS_all_both_Periods_subset['Period'].unique()\n",
    "\n",
    "df_POS_all_both_Periods_subset=df_POS_all_both_Periods_subset[df_POS_all_both_Periods_subset['email_address_hash'].isin(df_subset_ids['email_address_hash'].unique().tolist())]"
   ]
  },
  {
   "cell_type": "code",
   "execution_count": 108,
   "metadata": {},
   "outputs": [
    {
     "data": {
      "text/plain": [
       "(31, 8)"
      ]
     },
     "execution_count": 108,
     "metadata": {},
     "output_type": "execute_result"
    }
   ],
   "source": [
    "agg_func={\"email_address_hash\":\"nunique\",\"sales_instore\":\"sum\",\"sales_online\":\"sum\",\"trans_instore\":\"sum\",\"trans_online\":\"sum\"}\n",
    "df_summary_subset=df_POS_all_both_Periods_subset.groupby([\"Group\",\"Period\",\"segment\"]).agg(agg_func).reset_index()\n",
    "df_summary_subset.shape"
   ]
  },
  {
   "cell_type": "code",
   "execution_count": 109,
   "metadata": {
    "collapsed": true
   },
   "outputs": [
    {
     "data": {
      "text/html": [
       "<div>\n",
       "<style scoped>\n",
       "    .dataframe tbody tr th:only-of-type {\n",
       "        vertical-align: middle;\n",
       "    }\n",
       "\n",
       "    .dataframe tbody tr th {\n",
       "        vertical-align: top;\n",
       "    }\n",
       "\n",
       "    .dataframe thead th {\n",
       "        text-align: right;\n",
       "    }\n",
       "</style>\n",
       "<table border=\"1\" class=\"dataframe\">\n",
       "  <thead>\n",
       "    <tr style=\"text-align: right;\">\n",
       "      <th></th>\n",
       "      <th>Group</th>\n",
       "      <th>segment</th>\n",
       "      <th>email_address_hash</th>\n",
       "    </tr>\n",
       "  </thead>\n",
       "  <tbody>\n",
       "    <tr>\n",
       "      <th>0</th>\n",
       "      <td>control</td>\n",
       "      <td>48_18</td>\n",
       "      <td>19</td>\n",
       "    </tr>\n",
       "    <tr>\n",
       "      <th>1</th>\n",
       "      <td>control</td>\n",
       "      <td>H_P</td>\n",
       "      <td>10403</td>\n",
       "    </tr>\n",
       "    <tr>\n",
       "      <th>2</th>\n",
       "      <td>control</td>\n",
       "      <td>H_S</td>\n",
       "      <td>1045</td>\n",
       "    </tr>\n",
       "    <tr>\n",
       "      <th>3</th>\n",
       "      <td>control</td>\n",
       "      <td>L_P</td>\n",
       "      <td>541</td>\n",
       "    </tr>\n",
       "    <tr>\n",
       "      <th>4</th>\n",
       "      <td>control</td>\n",
       "      <td>L_S</td>\n",
       "      <td>87</td>\n",
       "    </tr>\n",
       "    <tr>\n",
       "      <th>5</th>\n",
       "      <td>control</td>\n",
       "      <td>M_P</td>\n",
       "      <td>2096</td>\n",
       "    </tr>\n",
       "    <tr>\n",
       "      <th>6</th>\n",
       "      <td>control</td>\n",
       "      <td>M_S</td>\n",
       "      <td>293</td>\n",
       "    </tr>\n",
       "    <tr>\n",
       "      <th>7</th>\n",
       "      <td>control</td>\n",
       "      <td>others_not_in_Q3_audience</td>\n",
       "      <td>4531</td>\n",
       "    </tr>\n",
       "    <tr>\n",
       "      <th>8</th>\n",
       "      <td>test</td>\n",
       "      <td>48_18</td>\n",
       "      <td>4368</td>\n",
       "    </tr>\n",
       "    <tr>\n",
       "      <th>9</th>\n",
       "      <td>test</td>\n",
       "      <td>H_P</td>\n",
       "      <td>2230821</td>\n",
       "    </tr>\n",
       "    <tr>\n",
       "      <th>10</th>\n",
       "      <td>test</td>\n",
       "      <td>H_S</td>\n",
       "      <td>225570</td>\n",
       "    </tr>\n",
       "    <tr>\n",
       "      <th>11</th>\n",
       "      <td>test</td>\n",
       "      <td>L_P</td>\n",
       "      <td>115514</td>\n",
       "    </tr>\n",
       "    <tr>\n",
       "      <th>12</th>\n",
       "      <td>test</td>\n",
       "      <td>L_S</td>\n",
       "      <td>18694</td>\n",
       "    </tr>\n",
       "    <tr>\n",
       "      <th>13</th>\n",
       "      <td>test</td>\n",
       "      <td>M_P</td>\n",
       "      <td>448846</td>\n",
       "    </tr>\n",
       "    <tr>\n",
       "      <th>14</th>\n",
       "      <td>test</td>\n",
       "      <td>M_S</td>\n",
       "      <td>61892</td>\n",
       "    </tr>\n",
       "    <tr>\n",
       "      <th>15</th>\n",
       "      <td>test</td>\n",
       "      <td>others_not_in_Q3_audience</td>\n",
       "      <td>969616</td>\n",
       "    </tr>\n",
       "  </tbody>\n",
       "</table>\n",
       "</div>"
      ],
      "text/plain": [
       "      Group                    segment  email_address_hash\n",
       "0   control                      48_18                  19\n",
       "1   control                        H_P               10403\n",
       "2   control                        H_S                1045\n",
       "3   control                        L_P                 541\n",
       "4   control                        L_S                  87\n",
       "5   control                        M_P                2096\n",
       "6   control                        M_S                 293\n",
       "7   control  others_not_in_Q3_audience                4531\n",
       "8      test                      48_18                4368\n",
       "9      test                        H_P             2230821\n",
       "10     test                        H_S              225570\n",
       "11     test                        L_P              115514\n",
       "12     test                        L_S               18694\n",
       "13     test                        M_P              448846\n",
       "14     test                        M_S               61892\n",
       "15     test  others_not_in_Q3_audience              969616"
      ]
     },
     "execution_count": 109,
     "metadata": {},
     "output_type": "execute_result"
    }
   ],
   "source": [
    "df_total_id_subset=df_subset_ids.groupby([\"Group\",\"segment\"])['email_address_hash'].nunique().to_frame().reset_index()\n",
    "df_total_id_subset"
   ]
  },
  {
   "cell_type": "code",
   "execution_count": 112,
   "metadata": {},
   "outputs": [
    {
     "data": {
      "text/plain": [
       "(16, 3)"
      ]
     },
     "execution_count": 112,
     "metadata": {},
     "output_type": "execute_result"
    }
   ],
   "source": [
    "df_unique_shoppers_both_periods_subset=df_POS_all_both_Periods_subset.groupby([\"Group\",\"segment\"])['email_address_hash'].nunique().to_frame().reset_index()\n",
    "df_unique_shoppers_both_periods_subset.shape"
   ]
  },
  {
   "cell_type": "code",
   "execution_count": 114,
   "metadata": {
    "collapsed": true
   },
   "outputs": [],
   "source": [
    "writer=pd.ExcelWriter(\"./BL_output_FB_offer_result_subset_based_on_shopper_share_by_store_type_segment_JL_\"+str(datetime.datetime.now().date())+\".xlsx\",engine=\"xlsxwriter\")\n",
    "df_summary_subset.to_excel(writer,\"subset_performance\",index=False)\n",
    "df_total_id_subset.to_excel(writer,\"subset_total_id\",index=False)\n",
    "df_unique_shoppers_both_periods_subset.to_excel(writer,\"subset_total_shoppers_both_P\",index=False)\n",
    "writer.save()"
   ]
  },
  {
   "cell_type": "markdown",
   "metadata": {
    "collapsed": true
   },
   "source": [
    "# Adjusting to FB actual reached level"
   ]
  },
  {
   "cell_type": "code",
   "execution_count": 160,
   "metadata": {},
   "outputs": [
    {
     "data": {
      "text/html": [
       "<div>\n",
       "<style scoped>\n",
       "    .dataframe tbody tr th:only-of-type {\n",
       "        vertical-align: middle;\n",
       "    }\n",
       "\n",
       "    .dataframe tbody tr th {\n",
       "        vertical-align: top;\n",
       "    }\n",
       "\n",
       "    .dataframe thead th {\n",
       "        text-align: right;\n",
       "    }\n",
       "</style>\n",
       "<table border=\"1\" class=\"dataframe\">\n",
       "  <thead>\n",
       "    <tr style=\"text-align: right;\">\n",
       "      <th></th>\n",
       "      <th>Group</th>\n",
       "      <th>email_address_hash</th>\n",
       "    </tr>\n",
       "  </thead>\n",
       "  <tbody>\n",
       "    <tr>\n",
       "      <th>0</th>\n",
       "      <td>control</td>\n",
       "      <td>19015</td>\n",
       "    </tr>\n",
       "    <tr>\n",
       "      <th>1</th>\n",
       "      <td>test</td>\n",
       "      <td>4075285</td>\n",
       "    </tr>\n",
       "  </tbody>\n",
       "</table>\n",
       "</div>"
      ],
      "text/plain": [
       "     Group  email_address_hash\n",
       "0  control               19015\n",
       "1     test             4075285"
      ]
     },
     "execution_count": 160,
     "metadata": {},
     "output_type": "execute_result"
    }
   ],
   "source": [
    "# Use the same share of shoppers accross segments\n",
    "\n",
    "import random\n",
    "random.seed(0)\n",
    "\n",
    "df_subset_ids.groupby(['Group'])['email_address_hash'].nunique().to_frame().reset_index()"
   ]
  },
  {
   "cell_type": "code",
   "execution_count": 161,
   "metadata": {},
   "outputs": [],
   "source": [
    "Total_Test_From_Above=4075285\n",
    "Total_Control_From_Above=19015\n",
    "\n",
    "Total_Test_From_FB_reach=1548161\n",
    "Total_Control_From_FB_reach=30688\n",
    "\n",
    "rate_test=Total_Test_From_FB_reach/Total_Test_From_Above\n",
    "rate_control=Total_Control_From_FB_reach/Total_Control_From_Above"
   ]
  },
  {
   "cell_type": "code",
   "execution_count": 162,
   "metadata": {},
   "outputs": [
    {
     "data": {
      "text/plain": [
       "0.3798902408052443"
      ]
     },
     "execution_count": 162,
     "metadata": {},
     "output_type": "execute_result"
    }
   ],
   "source": [
    "rate_test"
   ]
  },
  {
   "cell_type": "code",
   "execution_count": 163,
   "metadata": {},
   "outputs": [
    {
     "data": {
      "text/plain": [
       "1.6138837759663425"
      ]
     },
     "execution_count": 163,
     "metadata": {},
     "output_type": "execute_result"
    }
   ],
   "source": [
    "rate_control"
   ]
  },
  {
   "cell_type": "code",
   "execution_count": 164,
   "metadata": {},
   "outputs": [
    {
     "name": "stdout",
     "output_type": "stream",
     "text": [
      "(1690, 5)\n",
      "(32, 5)\n",
      "('control', '48_18') 2019-12-02 15:30:53.709889 0.01893491124260355 (32, 5)\n",
      "(22921, 5)\n",
      "(16789, 5)\n",
      "('control', 'H_P') 2019-12-02 15:30:53.763496 0.7324724052179225 (16821, 5)\n",
      "(7818, 5)\n",
      "(1688, 5)\n",
      "('control', 'H_S') 2019-12-02 15:30:53.787427 0.21591199795344077 (18509, 5)\n",
      "(12299, 5)\n",
      "(873, 5)\n",
      "('control', 'L_P') 2019-12-02 15:30:53.816874 0.07098138060004879 (19382, 5)\n",
      "(5149, 5)\n",
      "(140, 5)\n",
      "('control', 'L_S') 2019-12-02 15:30:53.837724 0.02718974558166634 (19522, 5)\n",
      "(16346, 5)\n",
      "(3384, 5)\n",
      "('control', 'M_P') 2019-12-02 15:30:53.870913 0.2070231249235287 (22906, 5)\n",
      "(6416, 5)\n",
      "(472, 5)\n",
      "('control', 'M_S') 2019-12-02 15:30:53.892478 0.07356608478802992 (23378, 5)\n",
      "(27340, 5)\n",
      "(7314, 5)\n",
      "('control', 'others_not_in_Q3_audience') 2019-12-02 15:30:53.937432 0.26752011704462325 (30692, 5)\n",
      "(373348, 5)\n",
      "(1659, 5)\n",
      "('test', '48_18') 2019-12-02 15:30:54.166281 0.004443575430965212 (32351, 5)\n",
      "(4915057, 5)\n",
      "(847467, 5)\n",
      "('test', 'H_P') 2019-12-02 15:31:00.926645 0.17242261890350408 (879818, 5)\n",
      "(1686666, 5)\n",
      "(85692, 5)\n",
      "('test', 'H_S') 2019-12-02 15:31:03.274584 0.05080555367808446 (965510, 5)\n",
      "(2625766, 5)\n",
      "(43883, 5)\n",
      "('test', 'L_P') 2019-12-02 15:31:05.753343 0.0167124564793664 (1009393, 5)\n",
      "(1100892, 5)\n",
      "(7102, 5)\n",
      "('test', 'L_S') 2019-12-02 15:31:06.718153 0.006451132354490722 (1016495, 5)\n",
      "(3499527, 5)\n",
      "(170512, 5)\n",
      "('test', 'M_P') 2019-12-02 15:31:10.143275 0.04872429902669704 (1187007, 5)\n",
      "(1354587, 5)\n",
      "(23512, 5)\n",
      "('test', 'M_S') 2019-12-02 15:31:11.434183 0.017357319980185842 (1210519, 5)\n",
      "(5849635, 5)\n",
      "(368359, 5)\n",
      "('test', 'others_not_in_Q3_audience') 2019-12-02 15:31:17.897617 0.06297127940461242 (1578878, 5)\n"
     ]
    }
   ],
   "source": [
    "df_subset_ids_based_FB_reach=pd.DataFrame()\n",
    "for seg_group,df_group in df_FB_id_email_all.groupby([\"Group\",\"segment\"]):\n",
    "    df_group=df_group.reset_index()\n",
    "    print(df_group.shape)\n",
    "    del df_group['index']\n",
    "    df_group=df_group.reset_index()\n",
    "    total_ids=df_group.shape[0]\n",
    "    seg=seg_group[1]\n",
    "    \n",
    "    if seg_group[0]==\"test\":\n",
    "        selected_ind=random.sample(df_group['index'].tolist(),int(np.round(total_ids*dict_test_both_period[seg])*rate_test))\n",
    "    elif seg_group[0]==\"control\":\n",
    "        selected_ind=random.sample(df_group['index'].tolist(),int(np.round(total_ids*dict_test_both_period[seg])*rate_control))\n",
    "    \n",
    "    df_group=df_group[df_group['index'].isin(selected_ind)]\n",
    "    df_subset_ids_based_FB_reach=df_subset_ids_based_FB_reach.append(df_group)\n",
    "    print(df_group.shape)\n",
    "    print(seg_group,datetime.datetime.now(),df_group.shape[0]/total_ids,df_subset_ids_based_FB_reach.shape)"
   ]
  },
  {
   "cell_type": "code",
   "execution_count": 165,
   "metadata": {},
   "outputs": [],
   "source": [
    "df_POS_all_both_Periods_subset_FB_Based=df_POS_all[df_POS_all['Period']!=\"Others\"]\n",
    "# df_POS_all_both_Periods_subset_FB_Based['Period'].unique()\n",
    "\n",
    "df_POS_all_both_Periods_subset_FB_Based=df_POS_all_both_Periods_subset_FB_Based[df_POS_all_both_Periods_subset_FB_Based['email_address_hash'].isin(df_subset_ids_based_FB_reach['email_address_hash'].unique().tolist())]"
   ]
  },
  {
   "cell_type": "code",
   "execution_count": 166,
   "metadata": {},
   "outputs": [
    {
     "data": {
      "text/plain": [
       "(31, 8)"
      ]
     },
     "execution_count": 166,
     "metadata": {},
     "output_type": "execute_result"
    }
   ],
   "source": [
    "agg_func={\"email_address_hash\":\"nunique\",\"sales_instore\":\"sum\",\"sales_online\":\"sum\",\"trans_instore\":\"sum\",\"trans_online\":\"sum\"}\n",
    "df_summary_subset_FB_Based=df_POS_all_both_Periods_subset_FB_Based.groupby([\"Group\",\"Period\",\"segment\"]).agg(agg_func).reset_index()\n",
    "df_summary_subset_FB_Based.shape"
   ]
  },
  {
   "cell_type": "code",
   "execution_count": 167,
   "metadata": {},
   "outputs": [
    {
     "data": {
      "text/html": [
       "<div>\n",
       "<style scoped>\n",
       "    .dataframe tbody tr th:only-of-type {\n",
       "        vertical-align: middle;\n",
       "    }\n",
       "\n",
       "    .dataframe tbody tr th {\n",
       "        vertical-align: top;\n",
       "    }\n",
       "\n",
       "    .dataframe thead th {\n",
       "        text-align: right;\n",
       "    }\n",
       "</style>\n",
       "<table border=\"1\" class=\"dataframe\">\n",
       "  <thead>\n",
       "    <tr style=\"text-align: right;\">\n",
       "      <th></th>\n",
       "      <th>Group</th>\n",
       "      <th>segment</th>\n",
       "      <th>email_address_hash</th>\n",
       "    </tr>\n",
       "  </thead>\n",
       "  <tbody>\n",
       "    <tr>\n",
       "      <th>0</th>\n",
       "      <td>control</td>\n",
       "      <td>48_18</td>\n",
       "      <td>32</td>\n",
       "    </tr>\n",
       "    <tr>\n",
       "      <th>1</th>\n",
       "      <td>control</td>\n",
       "      <td>H_P</td>\n",
       "      <td>16789</td>\n",
       "    </tr>\n",
       "    <tr>\n",
       "      <th>2</th>\n",
       "      <td>control</td>\n",
       "      <td>H_S</td>\n",
       "      <td>1688</td>\n",
       "    </tr>\n",
       "    <tr>\n",
       "      <th>3</th>\n",
       "      <td>control</td>\n",
       "      <td>L_P</td>\n",
       "      <td>873</td>\n",
       "    </tr>\n",
       "    <tr>\n",
       "      <th>4</th>\n",
       "      <td>control</td>\n",
       "      <td>L_S</td>\n",
       "      <td>140</td>\n",
       "    </tr>\n",
       "    <tr>\n",
       "      <th>5</th>\n",
       "      <td>control</td>\n",
       "      <td>M_P</td>\n",
       "      <td>3384</td>\n",
       "    </tr>\n",
       "    <tr>\n",
       "      <th>6</th>\n",
       "      <td>control</td>\n",
       "      <td>M_S</td>\n",
       "      <td>472</td>\n",
       "    </tr>\n",
       "    <tr>\n",
       "      <th>7</th>\n",
       "      <td>control</td>\n",
       "      <td>others_not_in_Q3_audience</td>\n",
       "      <td>7314</td>\n",
       "    </tr>\n",
       "    <tr>\n",
       "      <th>8</th>\n",
       "      <td>test</td>\n",
       "      <td>48_18</td>\n",
       "      <td>1659</td>\n",
       "    </tr>\n",
       "    <tr>\n",
       "      <th>9</th>\n",
       "      <td>test</td>\n",
       "      <td>H_P</td>\n",
       "      <td>847467</td>\n",
       "    </tr>\n",
       "    <tr>\n",
       "      <th>10</th>\n",
       "      <td>test</td>\n",
       "      <td>H_S</td>\n",
       "      <td>85692</td>\n",
       "    </tr>\n",
       "    <tr>\n",
       "      <th>11</th>\n",
       "      <td>test</td>\n",
       "      <td>L_P</td>\n",
       "      <td>43883</td>\n",
       "    </tr>\n",
       "    <tr>\n",
       "      <th>12</th>\n",
       "      <td>test</td>\n",
       "      <td>L_S</td>\n",
       "      <td>7102</td>\n",
       "    </tr>\n",
       "    <tr>\n",
       "      <th>13</th>\n",
       "      <td>test</td>\n",
       "      <td>M_P</td>\n",
       "      <td>170512</td>\n",
       "    </tr>\n",
       "    <tr>\n",
       "      <th>14</th>\n",
       "      <td>test</td>\n",
       "      <td>M_S</td>\n",
       "      <td>23512</td>\n",
       "    </tr>\n",
       "    <tr>\n",
       "      <th>15</th>\n",
       "      <td>test</td>\n",
       "      <td>others_not_in_Q3_audience</td>\n",
       "      <td>368355</td>\n",
       "    </tr>\n",
       "  </tbody>\n",
       "</table>\n",
       "</div>"
      ],
      "text/plain": [
       "      Group                    segment  email_address_hash\n",
       "0   control                      48_18                  32\n",
       "1   control                        H_P               16789\n",
       "2   control                        H_S                1688\n",
       "3   control                        L_P                 873\n",
       "4   control                        L_S                 140\n",
       "5   control                        M_P                3384\n",
       "6   control                        M_S                 472\n",
       "7   control  others_not_in_Q3_audience                7314\n",
       "8      test                      48_18                1659\n",
       "9      test                        H_P              847467\n",
       "10     test                        H_S               85692\n",
       "11     test                        L_P               43883\n",
       "12     test                        L_S                7102\n",
       "13     test                        M_P              170512\n",
       "14     test                        M_S               23512\n",
       "15     test  others_not_in_Q3_audience              368355"
      ]
     },
     "execution_count": 167,
     "metadata": {},
     "output_type": "execute_result"
    }
   ],
   "source": [
    "df_total_id_subset_FB_Based=df_subset_ids_based_FB_reach.groupby([\"Group\",\"segment\"])['email_address_hash'].nunique().to_frame().reset_index()\n",
    "df_total_id_subset_FB_Based"
   ]
  },
  {
   "cell_type": "code",
   "execution_count": 168,
   "metadata": {},
   "outputs": [
    {
     "data": {
      "text/plain": [
       "(16, 3)"
      ]
     },
     "execution_count": 168,
     "metadata": {},
     "output_type": "execute_result"
    }
   ],
   "source": [
    "df_unique_shoppers_both_periods_subset_FB_Based=df_POS_all_both_Periods_subset_FB_Based.groupby([\"Group\",\"segment\"])['email_address_hash'].nunique().to_frame().reset_index()\n",
    "df_unique_shoppers_both_periods_subset_FB_Based.shape"
   ]
  },
  {
   "cell_type": "code",
   "execution_count": 169,
   "metadata": {
    "collapsed": true
   },
   "outputs": [],
   "source": [
    "writer=pd.ExcelWriter(\"./BL_output_FB_offer_result_FB_Reach_based_subset_based_on_shopper_share_by_store_type_segment_JL_\"+str(datetime.datetime.now().date())+\".xlsx\",engine=\"xlsxwriter\")\n",
    "df_summary_subset_FB_Based.to_excel(writer,\"subset_performance\",index=False)\n",
    "df_total_id_subset_FB_Based.to_excel(writer,\"subset_total_id\",index=False)\n",
    "df_unique_shoppers_both_periods_subset_FB_Based.to_excel(writer,\"subset_total_shoppers_both_P\",index=False)\n",
    "writer.save()"
   ]
  },
  {
   "cell_type": "code",
   "execution_count": null,
   "metadata": {
    "collapsed": true
   },
   "outputs": [],
   "source": []
  }
 ],
 "metadata": {
  "kernelspec": {
   "display_name": "Python 3",
   "language": "python",
   "name": "python3"
  },
  "language_info": {
   "codemirror_mode": {
    "name": "ipython",
    "version": 3
   },
   "file_extension": ".py",
   "mimetype": "text/x-python",
   "name": "python",
   "nbconvert_exporter": "python",
   "pygments_lexer": "ipython3",
   "version": "3.6.1"
  }
 },
 "nbformat": 4,
 "nbformat_minor": 2
}
