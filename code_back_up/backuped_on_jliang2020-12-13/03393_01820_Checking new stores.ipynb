{
 "cells": [
  {
   "cell_type": "code",
   "execution_count": 30,
   "metadata": {
    "collapsed": true
   },
   "outputs": [],
   "source": [
    "import pandas as pd\n",
    "import numpy as np\n",
    "import datetime\n",
    "import os\n"
   ]
  },
  {
   "cell_type": "code",
   "execution_count": 31,
   "metadata": {},
   "outputs": [
    {
     "data": {
      "text/html": [
       "<div>\n",
       "<style>\n",
       "    .dataframe thead tr:only-child th {\n",
       "        text-align: right;\n",
       "    }\n",
       "\n",
       "    .dataframe thead th {\n",
       "        text-align: left;\n",
       "    }\n",
       "\n",
       "    .dataframe tbody tr th {\n",
       "        vertical-align: top;\n",
       "    }\n",
       "</style>\n",
       "<table border=\"1\" class=\"dataframe\">\n",
       "  <thead>\n",
       "    <tr style=\"text-align: right;\">\n",
       "      <th></th>\n",
       "      <th>sales_file</th>\n",
       "      <th>date_received</th>\n",
       "    </tr>\n",
       "  </thead>\n",
       "  <tbody>\n",
       "    <tr>\n",
       "      <th>20</th>\n",
       "      <td>/home/jian/Projects/Smoothie_King/Weekly_Sales...</td>\n",
       "      <td>20190603</td>\n",
       "    </tr>\n",
       "    <tr>\n",
       "      <th>19</th>\n",
       "      <td>/home/jian/Projects/Smoothie_King/Weekly_Sales...</td>\n",
       "      <td>20190527</td>\n",
       "    </tr>\n",
       "    <tr>\n",
       "      <th>18</th>\n",
       "      <td>/home/jian/Projects/Smoothie_King/Weekly_Sales...</td>\n",
       "      <td>20190520</td>\n",
       "    </tr>\n",
       "    <tr>\n",
       "      <th>17</th>\n",
       "      <td>/home/jian/Projects/Smoothie_King/Weekly_Sales...</td>\n",
       "      <td>20190513</td>\n",
       "    </tr>\n",
       "  </tbody>\n",
       "</table>\n",
       "</div>"
      ],
      "text/plain": [
       "                                           sales_file date_received\n",
       "20  /home/jian/Projects/Smoothie_King/Weekly_Sales...      20190603\n",
       "19  /home/jian/Projects/Smoothie_King/Weekly_Sales...      20190527\n",
       "18  /home/jian/Projects/Smoothie_King/Weekly_Sales...      20190520\n",
       "17  /home/jian/Projects/Smoothie_King/Weekly_Sales...      20190513"
      ]
     },
     "execution_count": 31,
     "metadata": {},
     "output_type": "execute_result"
    }
   ],
   "source": [
    "all_sales_file=os.listdir(\"/home/jian/Projects/Smoothie_King/Weekly_Sales/\")\n",
    "df_all_sales_file=pd.DataFrame({\"sales_file\":all_sales_file})\n",
    "df_all_sales_file['sales_file']=\"/home/jian/Projects/Smoothie_King/Weekly_Sales/\"+df_all_sales_file['sales_file']\n",
    "df_all_sales_file['date_received']=df_all_sales_file['sales_file'].apply(lambda x: x.split(\"WeeklySalesSummaryData_\")[1][:8])\n",
    "df_all_sales_file=df_all_sales_file.sort_values(\"date_received\",ascending=False)\n",
    "df_recent_4_sales_file=df_all_sales_file.head(4)\n",
    "df_recent_4_sales_file"
   ]
  },
  {
   "cell_type": "code",
   "execution_count": 32,
   "metadata": {
    "collapsed": true
   },
   "outputs": [],
   "source": [
    "recent_week_sales=pd.read_excel(df_recent_4_sales_file['sales_file'].tolist()[0],dtype=str)\n",
    "recent_week_sales['NetSalesSmoothie']=recent_week_sales['NetSalesSmoothie'].astype(float)\n",
    "recent_week_sales['NetSalesRetail']=recent_week_sales['NetSalesRetail'].astype(float)\n",
    "recent_week_sales=recent_week_sales[(recent_week_sales['NetSalesSmoothie']>0) | (recent_week_sales['NetSalesRetail']>0)]\n",
    "\n",
    "recent_1_week_stores=recent_week_sales['StoreNumber'].unique().tolist()"
   ]
  },
  {
   "cell_type": "code",
   "execution_count": 33,
   "metadata": {
    "collapsed": true
   },
   "outputs": [],
   "source": [
    "recent_4_weeks_sales=pd.DataFrame()\n",
    "for file in df_recent_4_sales_file['sales_file'].tolist():\n",
    "    df=pd.read_excel(file,dtype=str)\n",
    "    df['NetSalesSmoothie']=df['NetSalesSmoothie'].astype(float)\n",
    "    df['NetSalesRetail']=df['NetSalesRetail'].astype(float)\n",
    "    df=df[(df['NetSalesSmoothie']>0) | (df['NetSalesRetail']>0)]\n",
    "    recent_4_weeks_sales=recent_4_weeks_sales.append(df)\n",
    "recent_4_week_stores=recent_4_weeks_sales.groupby(\"StoreNumber\")['NetSalesSmoothie'].count().to_frame().reset_index()\n",
    "recent_4_week_stores=recent_4_week_stores[recent_4_week_stores['NetSalesSmoothie']>=3]\n",
    "recent_4_week_stores=recent_4_week_stores['StoreNumber'].unique().tolist()"
   ]
  },
  {
   "cell_type": "code",
   "execution_count": 34,
   "metadata": {},
   "outputs": [
    {
     "data": {
      "text/plain": [
       "919"
      ]
     },
     "execution_count": 34,
     "metadata": {},
     "output_type": "execute_result"
    }
   ],
   "source": [
    "inclusion_stores=list(set(recent_1_week_stores+recent_4_week_stores))\n",
    "len(inclusion_stores)"
   ]
  },
  {
   "cell_type": "code",
   "execution_count": 35,
   "metadata": {},
   "outputs": [
    {
     "data": {
      "text/plain": [
       "(919, 14)"
      ]
     },
     "execution_count": 35,
     "metadata": {},
     "output_type": "execute_result"
    }
   ],
   "source": [
    "recent_store_df=pd.read_excel(\"/home/jian/Projects/Smoothie_King/store_list_weekly/StoreList_20190603.xlsx\",dtype=str)\n",
    "recent_store_df=recent_store_df[recent_store_df['status']!=\"Closed\"]\n",
    "recent_store_df=recent_store_df[recent_store_df['storenumber'].isin(inclusion_stores)].drop_duplicates()\n",
    "recent_store_df.shape\n",
    "\n",
    "# recent_store_df.groupby(\"storenumber\")['city'].count().to_frame().reset_index().sort_values(\"city\",ascending=False).head(4)"
   ]
  },
  {
   "cell_type": "code",
   "execution_count": 36,
   "metadata": {},
   "outputs": [],
   "source": [
    "store_GPS_verified=pd.read_excel(\"/home/jian/Projects/Smoothie_King/TA/QC_address/SK_store_listed_verified_JL_2019-04-29.xlsx\",sheetname=\"assigned_lat_long\",dtype=str)\n",
    "new_stores_to_google=recent_store_df[~recent_store_df['storenumber'].isin(store_GPS_verified['storenumber'].tolist())]\n",
    "new_stores_to_google=new_stores_to_google.reset_index()\n",
    "del new_stores_to_google['index']"
   ]
  },
  {
   "cell_type": "code",
   "execution_count": 37,
   "metadata": {},
   "outputs": [
    {
     "data": {
      "text/plain": [
       "8"
      ]
     },
     "execution_count": 37,
     "metadata": {},
     "output_type": "execute_result"
    }
   ],
   "source": [
    "google_update_lat_lng={}\n",
    "google_update_lat_lng.update({\"1634\":[38.5392912,-91.0126167]})\n",
    "google_update_lat_lng.update({\"1691\":[33.5507844,-84.2754112]})\n",
    "google_update_lat_lng.update({\"1770\":[39.0850624,-84.4783431]})\n",
    "google_update_lat_lng.update({\"1740\":[29.8639979,-95.7214522]})\n",
    "google_update_lat_lng.update({\"1791\":[30.6323826,-97.6931853]})\n",
    "google_update_lat_lng.update({\"1637\":[39.9591837,-104.9937028]})\n",
    "google_update_lat_lng.update({\"1693\":[33.9975027,-84.0911475]})\n",
    "google_update_lat_lng.update({\"1615\":[32.6459654,-97.036669]})\n",
    "len(google_update_lat_lng)"
   ]
  },
  {
   "cell_type": "code",
   "execution_count": 38,
   "metadata": {},
   "outputs": [
    {
     "data": {
      "text/plain": [
       "{'1615': [32.6459654, -97.036669],\n",
       " '1634': [38.5392912, -91.0126167],\n",
       " '1637': [39.9591837, -104.9937028],\n",
       " '1691': [33.5507844, -84.2754112],\n",
       " '1693': [33.9975027, -84.0911475],\n",
       " '1740': [29.8639979, -95.7214522],\n",
       " '1770': [39.0850624, -84.4783431],\n",
       " '1791': [30.6323826, -97.6931853]}"
      ]
     },
     "execution_count": 38,
     "metadata": {},
     "output_type": "execute_result"
    }
   ],
   "source": [
    "google_update_lat_lng"
   ]
  },
  {
   "cell_type": "code",
   "execution_count": 11,
   "metadata": {},
   "outputs": [
    {
     "data": {
      "text/plain": [
       "'1634'"
      ]
     },
     "execution_count": 11,
     "metadata": {},
     "output_type": "execute_result"
    }
   ],
   "source": [
    "new_stores_to_google['storenumber'][0]"
   ]
  },
  {
   "cell_type": "code",
   "execution_count": 13,
   "metadata": {},
   "outputs": [],
   "source": [
    "from haversine import haversine\n",
    "new_stores_to_google['dist']=np.nan\n",
    "new_stores_to_google['google_lat']=np.nan\n",
    "new_stores_to_google['google_long']=np.nan\n",
    "\n",
    "for index,row in new_stores_to_google.iterrows():\n",
    "    store_id=row['storenumber']\n",
    "    google_location=google_update_lat_lng[store_id]\n",
    "    client_location=[float(row['Latitude']),float(row['Longitude'])]\n",
    "    dist=haversine(google_location,client_location)*1000\n",
    "    new_stores_to_google.loc[index,'dist']=dist\n",
    "    new_stores_to_google.loc[index,'google_lat']=google_location[0]\n",
    "    new_stores_to_google.loc[index,'google_long']=google_location[1]\n",
    "    \n",
    "    "
   ]
  },
  {
   "cell_type": "code",
   "execution_count": 14,
   "metadata": {},
   "outputs": [],
   "source": [
    "\n",
    "writer=pd.ExcelWriter(\"./new_stores_to_be_googled_JL_\"+str(datetime.datetime.now().date())+\".xlsx\",engine=\"xlsxwriter\")\n",
    "new_stores_to_google.to_excel(writer,\"new_stores\",index=False)\n",
    "writer.save()\n"
   ]
  },
  {
   "cell_type": "code",
   "execution_count": 19,
   "metadata": {},
   "outputs": [
    {
     "data": {
      "text/plain": [
       "(8, 14)"
      ]
     },
     "execution_count": 19,
     "metadata": {},
     "output_type": "execute_result"
    }
   ],
   "source": [
    "new_stores_to_google.shape"
   ]
  },
  {
   "cell_type": "markdown",
   "metadata": {},
   "source": [
    "# delivery from output"
   ]
  },
  {
   "cell_type": "code",
   "execution_count": 60,
   "metadata": {},
   "outputs": [
    {
     "data": {
      "text/plain": [
       "(1048, 22)"
      ]
     },
     "execution_count": 60,
     "metadata": {},
     "output_type": "execute_result"
    }
   ],
   "source": [
    "recent_store_df.shape"
   ]
  },
  {
   "cell_type": "code",
   "execution_count": 61,
   "metadata": {},
   "outputs": [
    {
     "name": "stdout",
     "output_type": "stream",
     "text": [
      "(941, 20)\n",
      "937\n"
     ]
    },
    {
     "data": {
      "text/html": [
       "<div>\n",
       "<style>\n",
       "    .dataframe thead tr:only-child th {\n",
       "        text-align: right;\n",
       "    }\n",
       "\n",
       "    .dataframe thead th {\n",
       "        text-align: left;\n",
       "    }\n",
       "\n",
       "    .dataframe tbody tr th {\n",
       "        vertical-align: top;\n",
       "    }\n",
       "</style>\n",
       "<table border=\"1\" class=\"dataframe\">\n",
       "  <thead>\n",
       "    <tr style=\"text-align: right;\">\n",
       "      <th></th>\n",
       "      <th>storenumber</th>\n",
       "      <th>Address</th>\n",
       "      <th>city</th>\n",
       "      <th>state</th>\n",
       "      <th>zip</th>\n",
       "      <th>StoreOpenDate</th>\n",
       "      <th>Latitude</th>\n",
       "      <th>Longitude</th>\n",
       "      <th>Ownership</th>\n",
       "      <th>Franchisee_Name</th>\n",
       "      <th>IPAddress</th>\n",
       "      <th>DriveThru</th>\n",
       "      <th>status</th>\n",
       "      <th>StoreCloseDate</th>\n",
       "      <th>QC_level</th>\n",
       "      <th>assigned_lat</th>\n",
       "      <th>assigned_long</th>\n",
       "      <th>assigned_source</th>\n",
       "      <th>updated_date</th>\n",
       "      <th>SOTF_Forced</th>\n",
       "    </tr>\n",
       "  </thead>\n",
       "  <tbody>\n",
       "    <tr>\n",
       "      <th>0</th>\n",
       "      <td>0000</td>\n",
       "      <td>7215 Veterans Memorial Blvd.</td>\n",
       "      <td>Metairie</td>\n",
       "      <td>LA</td>\n",
       "      <td>70003</td>\n",
       "      <td>1973-07-07 00:00:00</td>\n",
       "      <td>30.00589291</td>\n",
       "      <td>-90.22051644</td>\n",
       "      <td>Franchised</td>\n",
       "      <td>Steve Shields</td>\n",
       "      <td>70.183.114.37</td>\n",
       "      <td>Y</td>\n",
       "      <td>Same</td>\n",
       "      <td>nan</td>\n",
       "      <td>POI_address_matched_in_30_meters</td>\n",
       "      <td>30.00589291</td>\n",
       "      <td>-90.22051644</td>\n",
       "      <td>Client_list</td>\n",
       "      <td>nan</td>\n",
       "      <td>nan</td>\n",
       "    </tr>\n",
       "    <tr>\n",
       "      <th>1</th>\n",
       "      <td>0002</td>\n",
       "      <td>4539 Veterans Blvd.</td>\n",
       "      <td>Metairie</td>\n",
       "      <td>LA</td>\n",
       "      <td>70006</td>\n",
       "      <td>1989-09-11 00:00:00</td>\n",
       "      <td>30.00581824</td>\n",
       "      <td>-90.18467266</td>\n",
       "      <td>Franchised</td>\n",
       "      <td>Steve Shields</td>\n",
       "      <td>108.65.143.116</td>\n",
       "      <td>N</td>\n",
       "      <td>Same</td>\n",
       "      <td>nan</td>\n",
       "      <td>POI_address_matched_in_30_meters</td>\n",
       "      <td>30.00581824</td>\n",
       "      <td>-90.18467266</td>\n",
       "      <td>Client_list</td>\n",
       "      <td>nan</td>\n",
       "      <td>nan</td>\n",
       "    </tr>\n",
       "  </tbody>\n",
       "</table>\n",
       "</div>"
      ],
      "text/plain": [
       "  storenumber                       Address      city state    zip  \\\n",
       "0        0000  7215 Veterans Memorial Blvd.  Metairie    LA  70003   \n",
       "1        0002           4539 Veterans Blvd.  Metairie    LA  70006   \n",
       "\n",
       "         StoreOpenDate     Latitude     Longitude   Ownership Franchisee_Name  \\\n",
       "0  1973-07-07 00:00:00  30.00589291  -90.22051644  Franchised   Steve Shields   \n",
       "1  1989-09-11 00:00:00  30.00581824  -90.18467266  Franchised   Steve Shields   \n",
       "\n",
       "        IPAddress DriveThru status StoreCloseDate  \\\n",
       "0   70.183.114.37         Y   Same            nan   \n",
       "1  108.65.143.116         N   Same            nan   \n",
       "\n",
       "                           QC_level assigned_lat assigned_long  \\\n",
       "0  POI_address_matched_in_30_meters  30.00589291  -90.22051644   \n",
       "1  POI_address_matched_in_30_meters  30.00581824  -90.18467266   \n",
       "\n",
       "  assigned_source updated_date SOTF_Forced  \n",
       "0     Client_list          nan         nan  \n",
       "1     Client_list          nan         nan  "
      ]
     },
     "execution_count": 61,
     "metadata": {},
     "output_type": "execute_result"
    }
   ],
   "source": [
    "table_output=pd.read_excel(\"/home/jian/Projects/Smoothie_King/store_list_weekly/checking_new_stores/SK_store_listed_verified_JL_2019-06-04.xlsx\",\n",
    "                          dtype=str)\n",
    "print(table_output.shape)\n",
    "print(table_output['storenumber'].nunique())\n",
    "\n",
    "table_output.head(2)\n"
   ]
  },
  {
   "cell_type": "code",
   "execution_count": 62,
   "metadata": {},
   "outputs": [
    {
     "data": {
      "text/html": [
       "<div>\n",
       "<style>\n",
       "    .dataframe thead tr:only-child th {\n",
       "        text-align: right;\n",
       "    }\n",
       "\n",
       "    .dataframe thead th {\n",
       "        text-align: left;\n",
       "    }\n",
       "\n",
       "    .dataframe tbody tr th {\n",
       "        vertical-align: top;\n",
       "    }\n",
       "</style>\n",
       "<table border=\"1\" class=\"dataframe\">\n",
       "  <thead>\n",
       "    <tr style=\"text-align: right;\">\n",
       "      <th></th>\n",
       "      <th>sales_file</th>\n",
       "      <th>date_received</th>\n",
       "    </tr>\n",
       "  </thead>\n",
       "  <tbody>\n",
       "    <tr>\n",
       "      <th>20</th>\n",
       "      <td>/home/jian/Projects/Smoothie_King/Weekly_Sales...</td>\n",
       "      <td>20190603</td>\n",
       "    </tr>\n",
       "    <tr>\n",
       "      <th>19</th>\n",
       "      <td>/home/jian/Projects/Smoothie_King/Weekly_Sales...</td>\n",
       "      <td>20190527</td>\n",
       "    </tr>\n",
       "    <tr>\n",
       "      <th>18</th>\n",
       "      <td>/home/jian/Projects/Smoothie_King/Weekly_Sales...</td>\n",
       "      <td>20190520</td>\n",
       "    </tr>\n",
       "    <tr>\n",
       "      <th>17</th>\n",
       "      <td>/home/jian/Projects/Smoothie_King/Weekly_Sales...</td>\n",
       "      <td>20190513</td>\n",
       "    </tr>\n",
       "  </tbody>\n",
       "</table>\n",
       "</div>"
      ],
      "text/plain": [
       "                                           sales_file date_received\n",
       "20  /home/jian/Projects/Smoothie_King/Weekly_Sales...      20190603\n",
       "19  /home/jian/Projects/Smoothie_King/Weekly_Sales...      20190527\n",
       "18  /home/jian/Projects/Smoothie_King/Weekly_Sales...      20190520\n",
       "17  /home/jian/Projects/Smoothie_King/Weekly_Sales...      20190513"
      ]
     },
     "execution_count": 62,
     "metadata": {},
     "output_type": "execute_result"
    }
   ],
   "source": [
    "all_sales_file=os.listdir(\"/home/jian/Projects/Smoothie_King/Weekly_Sales/\")\n",
    "df_all_sales_file=pd.DataFrame({\"sales_file\":all_sales_file})\n",
    "df_all_sales_file['sales_file']=\"/home/jian/Projects/Smoothie_King/Weekly_Sales/\"+df_all_sales_file['sales_file']\n",
    "df_all_sales_file['date_received']=df_all_sales_file['sales_file'].apply(lambda x: x.split(\"WeeklySalesSummaryData_\")[1][:8])\n",
    "df_all_sales_file=df_all_sales_file.sort_values(\"date_received\",ascending=False)\n",
    "df_recent_4_sales_file=df_all_sales_file.head(4)\n",
    "df_recent_4_sales_file"
   ]
  },
  {
   "cell_type": "code",
   "execution_count": 63,
   "metadata": {},
   "outputs": [
    {
     "data": {
      "text/html": [
       "<div>\n",
       "<style>\n",
       "    .dataframe thead tr:only-child th {\n",
       "        text-align: right;\n",
       "    }\n",
       "\n",
       "    .dataframe thead th {\n",
       "        text-align: left;\n",
       "    }\n",
       "\n",
       "    .dataframe tbody tr th {\n",
       "        vertical-align: top;\n",
       "    }\n",
       "</style>\n",
       "<table border=\"1\" class=\"dataframe\">\n",
       "  <thead>\n",
       "    <tr style=\"text-align: right;\">\n",
       "      <th></th>\n",
       "      <th>storenumber</th>\n",
       "      <th>NetSalesSmoothie_2019-05-11</th>\n",
       "      <th>NetSalesRetail_2019-05-11</th>\n",
       "    </tr>\n",
       "  </thead>\n",
       "  <tbody>\n",
       "    <tr>\n",
       "      <th>0</th>\n",
       "      <td>0000</td>\n",
       "      <td>18353.31</td>\n",
       "      <td>534.20</td>\n",
       "    </tr>\n",
       "    <tr>\n",
       "      <th>1</th>\n",
       "      <td>0002</td>\n",
       "      <td>14937.21</td>\n",
       "      <td>60.95</td>\n",
       "    </tr>\n",
       "    <tr>\n",
       "      <th>2</th>\n",
       "      <td>0003</td>\n",
       "      <td>15752.90</td>\n",
       "      <td>1905.70</td>\n",
       "    </tr>\n",
       "  </tbody>\n",
       "</table>\n",
       "</div>"
      ],
      "text/plain": [
       "  storenumber  NetSalesSmoothie_2019-05-11  NetSalesRetail_2019-05-11\n",
       "0        0000                     18353.31                     534.20\n",
       "1        0002                     14937.21                      60.95\n",
       "2        0003                     15752.90                    1905.70"
      ]
     },
     "execution_count": 63,
     "metadata": {},
     "output_type": "execute_result"
    }
   ],
   "source": [
    "df.head(3)"
   ]
  },
  {
   "cell_type": "code",
   "execution_count": 64,
   "metadata": {},
   "outputs": [],
   "source": [
    "recent_4_weeks_sales=pd.DataFrame()\n",
    "recent_store_df=pd.read_excel(\"/home/jian/Projects/Smoothie_King/store_list_weekly/StoreList_20190603.xlsx\",dtype=str)\n",
    "\n",
    "for file in df_recent_4_sales_file['sales_file'].tolist():\n",
    "    df=pd.read_excel(file,dtype=str)\n",
    "    week_end_dt=df['WeekEndDate'].tolist()[0][:10]\n",
    "    df['NetSalesSmoothie']=df['NetSalesSmoothie'].astype(float)\n",
    "    df['NetSalesRetail']=df['NetSalesRetail'].astype(float)\n",
    "    df=df[['StoreNumber','NetSalesSmoothie','NetSalesRetail']]\n",
    "    df=df.rename(columns={\"StoreNumber\":\"storenumber\",\n",
    "                          'NetSalesSmoothie':'NetSalesSmoothie'+\"_\"+week_end_dt,\n",
    "                          'NetSalesRetail':'NetSalesRetail'+\"_\"+week_end_dt})\n",
    "    \n",
    "    table_output=pd.merge(table_output,df,on=\"storenumber\",how=\"left\")\n",
    "    recent_store_df=pd.merge(recent_store_df,df,on=\"storenumber\",how=\"left\")"
   ]
  },
  {
   "cell_type": "code",
   "execution_count": 65,
   "metadata": {},
   "outputs": [],
   "source": [
    "table_output=table_output.sort_values([\"storenumber\",\"SOTF_Forced\"])\n",
    "table_output=table_output.drop_duplicates(\"storenumber\")\n",
    "table_output['inclusion_as_0604']=table_output['storenumber'].apply(lambda x: x in inclusion_stores)\n",
    "writer=pd.ExcelWriter(\"./SK_all_stores_with_labels_JL_\"+str(datetime.datetime.now().date())+\".xlsx\",engine=\"xlsxwriter\")\n",
    "table_output.to_excel(writer,\"all_stores_with_inclusion_label\",index=False)\n",
    "recent_store_df.to_excel(writer,\"all_stores_last_week\",index=False)\n",
    "writer.save()"
   ]
  },
  {
   "cell_type": "code",
   "execution_count": 73,
   "metadata": {},
   "outputs": [
    {
     "data": {
      "text/plain": [
       "['0129',\n",
       " '0173',\n",
       " '0453',\n",
       " '0487',\n",
       " '0490',\n",
       " '0500',\n",
       " '0524',\n",
       " '0526',\n",
       " '0537',\n",
       " '0799',\n",
       " '0845',\n",
       " '0853',\n",
       " '0899',\n",
       " '0905',\n",
       " '0911',\n",
       " '0915',\n",
       " '0102',\n",
       " '1039',\n",
       " '1040',\n",
       " '1050',\n",
       " '1055',\n",
       " '0562',\n",
       " '0583',\n",
       " '0658',\n",
       " '0709',\n",
       " '0721',\n",
       " '0773',\n",
       " '1015',\n",
       " '0429',\n",
       " '1220',\n",
       " '1227',\n",
       " '1121',\n",
       " '1126',\n",
       " '0678',\n",
       " '1124',\n",
       " '0544',\n",
       " '0563',\n",
       " '0600',\n",
       " '0534',\n",
       " '1018R',\n",
       " '0618',\n",
       " '0367',\n",
       " '1348',\n",
       " '0841',\n",
       " '1194',\n",
       " '0934',\n",
       " '1036',\n",
       " '0285',\n",
       " '1066',\n",
       " '0326',\n",
       " '0996',\n",
       " '0833',\n",
       " '0264',\n",
       " '0322',\n",
       " '1372',\n",
       " '1074',\n",
       " '0644',\n",
       " '1268',\n",
       " '0444',\n",
       " '0782',\n",
       " '0019',\n",
       " '0388',\n",
       " '0975',\n",
       " '0541',\n",
       " '1063',\n",
       " '1116',\n",
       " '0354',\n",
       " '0275',\n",
       " '0133',\n",
       " '0930',\n",
       " '0651',\n",
       " '0954',\n",
       " '1540',\n",
       " '0723',\n",
       " '1103',\n",
       " '0636',\n",
       " '0673',\n",
       " '0342',\n",
       " '1256',\n",
       " '0957',\n",
       " '0436',\n",
       " '0590',\n",
       " '0467',\n",
       " '0420',\n",
       " '1281',\n",
       " '0984',\n",
       " '0229',\n",
       " '0262CLS',\n",
       " '0262',\n",
       " '1041',\n",
       " '1344',\n",
       " '0198',\n",
       " '0982',\n",
       " '1197',\n",
       " '0632',\n",
       " '1064',\n",
       " '0555',\n",
       " '0521',\n",
       " '0686NT',\n",
       " '0961',\n",
       " '0194',\n",
       " '1248',\n",
       " '0161',\n",
       " '0514',\n",
       " '0717',\n",
       " '1012',\n",
       " '1013',\n",
       " '0964',\n",
       " '0665',\n",
       " '0712',\n",
       " '0754',\n",
       " '0597',\n",
       " '0706',\n",
       " '0512',\n",
       " '0921',\n",
       " '0924',\n",
       " '1308',\n",
       " '1271',\n",
       " '1286',\n",
       " '1354',\n",
       " '0446',\n",
       " '1283',\n",
       " '1144',\n",
       " '1329',\n",
       " '0802',\n",
       " '0189',\n",
       " '0398',\n",
       " '0535']"
      ]
     },
     "execution_count": 73,
     "metadata": {},
     "output_type": "execute_result"
    }
   ],
   "source": [
    "inc_0604=table_output[table_output['inclusion_as_0604']==True]['storenumber'].unique().tolist()\n",
    "storeclient_0604=recent_store_df['storenumber'].unique().tolist()\n",
    "\n",
    "[x for x in storeclient_0604 if x not in inc_0604]"
   ]
  },
  {
   "cell_type": "code",
   "execution_count": null,
   "metadata": {},
   "outputs": [],
   "source": []
  },
  {
   "cell_type": "code",
   "execution_count": 68,
   "metadata": {},
   "outputs": [
    {
     "data": {
      "text/plain": [
       "919"
      ]
     },
     "execution_count": 68,
     "metadata": {},
     "output_type": "execute_result"
    }
   ],
   "source": [
    "table_output[(table_output['inclusion_as_0604']==True) & (table_output['status']!=\"Closed\")]['storenumber'].nunique()"
   ]
  },
  {
   "cell_type": "code",
   "execution_count": 70,
   "metadata": {},
   "outputs": [
    {
     "data": {
      "text/plain": [
       "(937, 29)"
      ]
     },
     "execution_count": 70,
     "metadata": {},
     "output_type": "execute_result"
    }
   ],
   "source": [
    "table_output.shape"
   ]
  },
  {
   "cell_type": "code",
   "execution_count": null,
   "metadata": {
    "collapsed": true
   },
   "outputs": [],
   "source": []
  }
 ],
 "metadata": {
  "kernelspec": {
   "display_name": "Python 3",
   "language": "python",
   "name": "python3"
  },
  "language_info": {
   "codemirror_mode": {
    "name": "ipython",
    "version": 3
   },
   "file_extension": ".py",
   "mimetype": "text/x-python",
   "name": "python",
   "nbconvert_exporter": "python",
   "pygments_lexer": "ipython3",
   "version": "3.6.1"
  }
 },
 "nbformat": 4,
 "nbformat_minor": 2
}
