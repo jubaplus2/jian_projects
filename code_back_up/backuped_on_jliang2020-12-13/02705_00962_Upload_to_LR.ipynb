{
 "cells": [
  {
   "cell_type": "code",
   "execution_count": 1,
   "metadata": {},
   "outputs": [
    {
     "data": {
      "text/plain": [
       "'/home/jian/Projects/Big_Lots/Analysis/2019_Q2/Planner_Requests/audience_Kaylar_SOTF_markets_20190708'"
      ]
     },
     "execution_count": 1,
     "metadata": {},
     "output_type": "execute_result"
    }
   ],
   "source": [
    "import paramiko\n",
    "import os\n",
    "import glob\n",
    "\n",
    "os.getcwd()"
   ]
  },
  {
   "cell_type": "code",
   "execution_count": 2,
   "metadata": {},
   "outputs": [
    {
     "data": {
      "text/plain": [
       "['/home/jian/Projects/Big_Lots/Analysis/2019_Q2/Planner_Requests/audience_Kaylar_SOTF_markets_20190708/output_2019-07-10/BL_LR_segments_KNOXVILLE-WAVE_0726SOTF_2019-07-10.csv',\n",
       " '/home/jian/Projects/Big_Lots/Analysis/2019_Q2/Planner_Requests/audience_Kaylar_SOTF_markets_20190708/output_2019-07-10/BL_LR_segments_LAS-VEGAS-WAVE_0726SOTF_2019-07-10.csv',\n",
       " '/home/jian/Projects/Big_Lots/Analysis/2019_Q2/Planner_Requests/audience_Kaylar_SOTF_markets_20190708/output_2019-07-10/BL_LR_segments_NASHVILLE-WAVE_0726SOTF_2019-07-10.csv',\n",
       " '/home/jian/Projects/Big_Lots/Analysis/2019_Q2/Planner_Requests/audience_Kaylar_SOTF_markets_20190708/output_2019-07-10/BL_LR_segments_ORLANDO-WAVE_0726SOTF_2019-07-10.csv',\n",
       " '/home/jian/Projects/Big_Lots/Analysis/2019_Q2/Planner_Requests/audience_Kaylar_SOTF_markets_20190708/output_2019-07-10/BL_LR_segments_PITTSBURGH-WAVE_0726SOTF_2019-07-10.csv']"
      ]
     },
     "execution_count": 2,
     "metadata": {},
     "output_type": "execute_result"
    }
   ],
   "source": [
    "files_list=glob.glob('/home/jian/Projects/Big_Lots/Analysis/2019_Q2/Planner_Requests/audience_Kaylar_SOTF_markets_20190708/output_2019-07-10/*.csv')\n",
    "files_list\n"
   ]
  },
  {
   "cell_type": "code",
   "execution_count": 3,
   "metadata": {},
   "outputs": [
    {
     "name": "stdout",
     "output_type": "stream",
     "text": [
      "BL_LR_segments_KNOXVILLE-WAVE_0726SOTF_2019-07-10.csv\n",
      "/uploads/big_lots_onboarding/BL_LR_segments_KNOXVILLE-WAVE_0726SOTF_2019-07-10.csv\n",
      "BL_LR_segments_LAS-VEGAS-WAVE_0726SOTF_2019-07-10.csv\n",
      "/uploads/big_lots_onboarding/BL_LR_segments_LAS-VEGAS-WAVE_0726SOTF_2019-07-10.csv\n",
      "BL_LR_segments_NASHVILLE-WAVE_0726SOTF_2019-07-10.csv\n",
      "/uploads/big_lots_onboarding/BL_LR_segments_NASHVILLE-WAVE_0726SOTF_2019-07-10.csv\n",
      "BL_LR_segments_ORLANDO-WAVE_0726SOTF_2019-07-10.csv\n",
      "/uploads/big_lots_onboarding/BL_LR_segments_ORLANDO-WAVE_0726SOTF_2019-07-10.csv\n",
      "BL_LR_segments_PITTSBURGH-WAVE_0726SOTF_2019-07-10.csv\n",
      "/uploads/big_lots_onboarding/BL_LR_segments_PITTSBURGH-WAVE_0726SOTF_2019-07-10.csv\n"
     ]
    }
   ],
   "source": [
    "for local_path in files_list:\n",
    "    basename=os.path.basename(local_path)\n",
    "    remote_path=\"/uploads/big_lots_onboarding/\"+basename\n",
    "    print(basename)\n",
    "    print(remote_path)"
   ]
  },
  {
   "cell_type": "code",
   "execution_count": 4,
   "metadata": {
    "collapsed": true
   },
   "outputs": [],
   "source": [
    "host = \"files.liveramp.com\"\n",
    "port = 22\n",
    "password = \"Biglots2018!\"\n",
    "username = \"lr-big-lots\"\n",
    "\n",
    "transport = paramiko.Transport((host, port))\n",
    "\n",
    "transport.connect(username = username, password = password)\n",
    "sftp = paramiko.SFTPClient.from_transport(transport)\n"
   ]
  },
  {
   "cell_type": "code",
   "execution_count": 5,
   "metadata": {
    "collapsed": true
   },
   "outputs": [],
   "source": [
    "for local_path in files_list:\n",
    "    basename=os.path.basename(local_path)\n",
    "    remote_path=\"/uploads/big_lots_onboarding/\"+basename\n",
    "    sftp.put(local_path,remote_path)\n",
    "sftp.close()\n",
    "transport.close()"
   ]
  },
  {
   "cell_type": "code",
   "execution_count": null,
   "metadata": {
    "collapsed": true
   },
   "outputs": [],
   "source": []
  }
 ],
 "metadata": {
  "kernelspec": {
   "display_name": "Python 3",
   "language": "python",
   "name": "python3"
  },
  "language_info": {
   "codemirror_mode": {
    "name": "ipython",
    "version": 3
   },
   "file_extension": ".py",
   "mimetype": "text/x-python",
   "name": "python",
   "nbconvert_exporter": "python",
   "pygments_lexer": "ipython3",
   "version": "3.6.1"
  }
 },
 "nbformat": 4,
 "nbformat_minor": 2
}
