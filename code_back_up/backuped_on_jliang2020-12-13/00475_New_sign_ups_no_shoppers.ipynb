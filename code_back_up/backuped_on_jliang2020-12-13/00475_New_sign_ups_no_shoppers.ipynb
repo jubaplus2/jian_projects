{
 "cells": [
  {
   "cell_type": "code",
   "execution_count": 1,
   "metadata": {},
   "outputs": [
    {
     "data": {
      "text/plain": [
       "'/home/jian/Projects/Big_Lots/Analysis/2019_Q2/Planner_Requests/Past_5_quarters_new_sign_up_no_purchase'"
      ]
     },
     "execution_count": 1,
     "metadata": {},
     "output_type": "execute_result"
    }
   ],
   "source": [
    "import pandas as pd\n",
    "import numpy as np\n",
    "import datetime\n",
    "import os\n",
    "\n",
    "os.getcwd()"
   ]
  },
  {
   "cell_type": "code",
   "execution_count": 2,
   "metadata": {
    "collapsed": true
   },
   "outputs": [],
   "source": [
    "def recursive_file_gen(my_root_dir):\n",
    "    for root, dirs, files in os.walk(my_root_dir):\n",
    "        for file in files:\n",
    "            yield os.path.join(root, file)"
   ]
  },
  {
   "cell_type": "code",
   "execution_count": 3,
   "metadata": {},
   "outputs": [],
   "source": [
    "new_sign_ups=pd.read_csv(\"/home/jian/BigLots/New_Sing_Ups_2018_Fiscal_Year/All Rewards Members 2018-02-04 - 2019-05-04.zip\",\n",
    "                         dtype=str,compression=\"zip\",sep=\"|\",usecols=['customer_id_hashed','email_address_hash','sign_up_date','customer_zip_code'])\n",
    "\n",
    "new_sign_ups=new_sign_ups.sort_values(['customer_id_hashed','email_address_hash','sign_up_date'],ascending=[True,True,False])\n",
    "new_sign_ups=new_sign_ups.drop_duplicates(\"customer_id_hashed\").drop_duplicates(\"email_address_hash\")"
   ]
  },
  {
   "cell_type": "code",
   "execution_count": 17,
   "metadata": {
    "collapsed": true
   },
   "outputs": [],
   "source": [
    "Quarter_start_date_2018Q1=datetime.date(2018,2,4)\n",
    "all_5_quarters_start=[Quarter_start_date_2018Q1 +datetime.timedelta(days=13*7*x) for x in range(5)]\n",
    "\n",
    "quarter_i=1\n",
    "\n",
    "df_all_dates=pd.DataFrame()\n",
    "for date_quarter_start in all_5_quarters_start:\n",
    "    if quarter_i>=5:\n",
    "        year=str(2019)\n",
    "    else:\n",
    "        year=str(2018)\n",
    "    quarter=year+\"_Q\"+str(quarter_i%4)\n",
    "    quarter=quarter.replace(\"_Q0\",\"_Q4\")\n",
    "    for i in range(7*13):\n",
    "        sign_up_date=date_quarter_start+datetime.timedelta(days=i)\n",
    "        df=pd.DataFrame({\"sign_up_date\":str(sign_up_date)},index=[quarter])\n",
    "        df_all_dates=df_all_dates.append(df)\n",
    "    quarter_i+=1\n",
    "df_all_dates=df_all_dates.reset_index().rename(columns={\"index\":\"quarter\"})"
   ]
  },
  {
   "cell_type": "code",
   "execution_count": 5,
   "metadata": {},
   "outputs": [
    {
     "data": {
      "text/plain": [
       "(43, 2)"
      ]
     },
     "execution_count": 5,
     "metadata": {},
     "output_type": "execute_result"
    }
   ],
   "source": [
    "hist_item_sales_2018=list(recursive_file_gen(\"/home/jian/BigLots/hist_daily_data_itemlevel_decompressed/\"))\n",
    "hist_item_sales_2018=[x for x in hist_item_sales_2018 if \".txt\" in x]\n",
    "df_item_sales=pd.DataFrame({\"file_path\":hist_item_sales_2018})\n",
    "df_item_sales['week_end_dt']=df_item_sales['file_path'].apply(lambda x: x.split(\"MediaStormDailySalesHistory\")[1][:8])\n",
    "####\n",
    "all_item_sales_2019=list(recursive_file_gen(\"/home/jian/BigLots/2019_by_weeks/\"))\n",
    "all_item_sales_2019=[x for x in all_item_sales_2019 if \"aily\" in x]\n",
    "all_item_sales_2019=[x for x in all_item_sales_2019 if \".txt\" in x]\n",
    "\n",
    "df_item_sales_2019=pd.DataFrame({\"file_path\":all_item_sales_2019})\n",
    "df_item_sales_2019['week_end_dt']=df_item_sales_2019['file_path'].apply(lambda x: x.split(\"/MediaStorm_\")[1][:10].replace(\"-\",\"\"))\n",
    "df_item_sales_2019=df_item_sales_2019[df_item_sales_2019['week_end_dt']>df_item_sales['week_end_dt'].max()]\n",
    "####\n",
    "df_item_sales=df_item_sales.append(df_item_sales_2019).sort_values(\"week_end_dt\")\n",
    "df_item_sales.shape"
   ]
  },
  {
   "cell_type": "code",
   "execution_count": 6,
   "metadata": {},
   "outputs": [
    {
     "data": {
      "text/plain": [
       "(26, 2)"
      ]
     },
     "execution_count": 6,
     "metadata": {},
     "output_type": "execute_result"
    }
   ],
   "source": [
    "hist_subclass_sales=list(recursive_file_gen(\"/home/jian/BigLots/hist_daily_data_subclasslevel/\"))\n",
    "hist_subclass_sales=[x for x in hist_subclass_sales if \".txt\" in x]\n",
    "df_subclass_sales=pd.DataFrame({\"file_path\":hist_subclass_sales})\n",
    "df_subclass_sales['week_end_dt']=df_subclass_sales['file_path'].apply(lambda x: x.split(\"/MediaStormDailySales_week_ending_\")[1][:10].replace(\"-\",\"\"))\n",
    "\n",
    "df_subclass_sales=df_subclass_sales[df_subclass_sales['week_end_dt']<df_item_sales['week_end_dt'].min()]\n",
    "df_subclass_sales=df_subclass_sales[df_subclass_sales['week_end_dt']>=df_all_dates['sign_up_date'].apply(lambda x: x.replace(\"-\",\"\")).min()]\n",
    "df_subclass_sales.shape\n",
    "###\n",
    "\n",
    "all_daily_sales_2018=list(recursive_file_gen(\"/home/jian/BigLots/2018_by_weeks/\"))\n",
    "all_daily_sales_2018=[x for x in all_daily_sales_2018 if \"aily\" in x]\n",
    "all_daily_sales_2018=[x for x in all_daily_sales_2018 if \".txt\" in x]\n",
    "\n",
    "df_subclass_sales_2018=pd.DataFrame({\"file_path\":all_daily_sales_2018})\n",
    "df_subclass_sales_2018['week_end_dt']=df_subclass_sales_2018['file_path'].apply(lambda x: x.split(\"/MediaStorm_\")[1][:10].replace(\"-\",\"\"))\n",
    "df_subclass_sales_2018=df_subclass_sales_2018[df_subclass_sales_2018['week_end_dt']<df_item_sales['week_end_dt'].min()]\n",
    "df_subclass_sales_2018=df_subclass_sales_2018[df_subclass_sales_2018['week_end_dt']>=df_all_dates['sign_up_date'].apply(lambda x: x.replace(\"-\",\"\")).min()]\n",
    "df_subclass_sales_2018=df_subclass_sales_2018[df_subclass_sales_2018['week_end_dt']>df_subclass_sales['week_end_dt'].apply(lambda x: x.replace(\"-\",\"\")).min()]\n",
    "###\n",
    "df_subclass_sales=df_subclass_sales.append(df_subclass_sales_2018).sort_values(\"week_end_dt\")\n",
    "df_subclass_sales.shape\n"
   ]
  },
  {
   "cell_type": "code",
   "execution_count": 7,
   "metadata": {},
   "outputs": [
    {
     "name": "stdout",
     "output_type": "stream",
     "text": [
      "69\n",
      "2 2019-06-05 15:20:19.642519\n",
      "12 2019-06-05 15:23:25.829003\n",
      "22 2019-06-05 15:26:40.943537\n",
      "32 2019-06-05 15:30:58.412810\n",
      "42 2019-06-05 15:36:14.266157\n",
      "52 2019-06-05 15:42:50.222262\n",
      "62 2019-06-05 15:48:31.490033\n"
     ]
    }
   ],
   "source": [
    "list_all_daily_sales_up_to_20190601=df_subclass_sales['file_path'].unique().tolist()+df_item_sales['file_path'].unique().tolist()\n",
    "print(len(list_all_daily_sales_up_to_20190601))\n",
    "\n",
    "i_counter=0\n",
    "\n",
    "df_all_shoppers=pd.DataFrame()\n",
    "for file_path in list_all_daily_sales_up_to_20190601:\n",
    "    df=pd.read_table(file_path,dtype=str,sep=\"|\",usecols=['customer_id_hashed','transaction_dt'])\n",
    "    df=df[~pd.isnull(df['customer_id_hashed'])]\n",
    "    df=df.drop_duplicates()\n",
    "    df_all_shoppers=df_all_shoppers.append(df)\n",
    "    i_counter+=1\n",
    "    if i_counter%10==2:\n",
    "        print(i_counter,datetime.datetime.now())\n",
    "\n",
    "df_all_shoppers_min=df_all_shoppers.sort_values(['customer_id_hashed','transaction_dt'],ascending=[True,True])\n",
    "df_all_shoppers_min=df_all_shoppers_min.drop_duplicates(\"customer_id_hashed\").rename(columns={\"transaction_dt\":\"transaction_dt_min\"})\n",
    "\n",
    "df_all_shoppers_max=df_all_shoppers.sort_values(['customer_id_hashed','transaction_dt'],ascending=[True,False])\n",
    "df_all_shoppers_max=df_all_shoppers_max.drop_duplicates(\"customer_id_hashed\").rename(columns={\"transaction_dt\":\"transaction_dt_max\"})\n",
    "\n",
    "df_all_shoppers=pd.merge(df_all_shoppers_min,df_all_shoppers_max,on=['customer_id_hashed'])"
   ]
  },
  {
   "cell_type": "code",
   "execution_count": 8,
   "metadata": {},
   "outputs": [],
   "source": [
    "new_sign_ups=pd.merge(new_sign_ups,df_all_shoppers,on=\"customer_id_hashed\",how=\"left\")\n",
    "new_sign_ups=pd.merge(new_sign_ups,df_all_dates,on=\"sign_up_date\",how=\"left\")\n"
   ]
  },
  {
   "cell_type": "code",
   "execution_count": 9,
   "metadata": {
    "collapsed": true
   },
   "outputs": [],
   "source": [
    "new_sign_ups['Shop_Label']=np.where(pd.isnull(new_sign_ups['transaction_dt_min']),\"No_Trans\",\"Shoppers\")"
   ]
  },
  {
   "cell_type": "code",
   "execution_count": null,
   "metadata": {},
   "outputs": [],
   "source": []
  },
  {
   "cell_type": "code",
   "execution_count": null,
   "metadata": {
    "collapsed": true
   },
   "outputs": [],
   "source": []
  },
  {
   "cell_type": "code",
   "execution_count": 23,
   "metadata": {},
   "outputs": [
    {
     "name": "stdout",
     "output_type": "stream",
     "text": [
      "2018_Q1 253490\n",
      "2018_Q2 249591\n",
      "2018_Q3 416867\n",
      "2018_Q4 839981\n",
      "2019_Q1 515460\n"
     ]
    }
   ],
   "source": [
    "for quarter,group in new_sign_ups.groupby(['quarter']):\n",
    "    df=group[group['Shop_Label']==\"No_Trans\"]\n",
    "    df=df[['customer_id_hashed','email_address_hash','customer_zip_code','quarter']]\n",
    "    df=df.rename(columns={\"quarter\":\"segment\"})\n",
    "    segment_value=\"No_Trans_signed_up_in_\"+quarter\n",
    "    df['segment']=segment_value\n",
    "    df.to_csv(\"/home/jian/Projects/Big_Lots/Analysis/2019_Q2/Planner_Requests/Past_5_quarters_new_sign_up_no_purchase/BL_new_sign_ups_in_\"+quarter+\"_No_Trans_JL_\"+str(datetime.datetime.now().date())+\".csv\",index=False)\n",
    "    print(quarter,len(df))\n",
    "    "
   ]
  },
  {
   "cell_type": "code",
   "execution_count": 32,
   "metadata": {},
   "outputs": [
    {
     "name": "stdout",
     "output_type": "stream",
     "text": [
      "2018_Q1 1000\n",
      "2018_Q2 1000\n",
      "2018_Q3 1000\n",
      "2018_Q4 1000\n",
      "2019_Q1 1000\n"
     ]
    }
   ],
   "source": [
    "summary=new_sign_ups.groupby(['Shop_Label','quarter'])['customer_id_hashed'].nunique().to_frame().reset_index()\n",
    "writer=pd.ExcelWriter(\"/home/jian/Projects/Big_Lots/Analysis/2019_Q2/Planner_Requests/Past_5_quarters_new_sign_up_no_purchase/BL_summary_5_quarters_new_rewards_no_trans_yet_JL_\"+str(datetime.datetime.now().date())+\".xlsx\",engine=\"xlsxwriter\")\n",
    "summary.to_excel(writer,\"summary_5_quarters_count\",index=False)\n",
    "\n",
    "for quarter,group in new_sign_ups.groupby(['quarter']):\n",
    "    df=group[group['Shop_Label']==\"No_Trans\"].head(1000)\n",
    "    df=df[['customer_id_hashed','email_address_hash','customer_zip_code','quarter']]\n",
    "    df=df.rename(columns={\"quarter\":\"segment\"})\n",
    "    segment_value=\"No_Trans_signed_up_in_\"+quarter\n",
    "    df['segment']=segment_value\n",
    "    df.to_excel(writer,\"sample_signed_\"+quarter,index=False)\n",
    "    print(quarter,len(df))\n",
    "\n",
    "writer.save()"
   ]
  },
  {
   "cell_type": "code",
   "execution_count": 30,
   "metadata": {},
   "outputs": [
    {
     "data": {
      "text/html": [
       "<div>\n",
       "<style>\n",
       "    .dataframe thead tr:only-child th {\n",
       "        text-align: right;\n",
       "    }\n",
       "\n",
       "    .dataframe thead th {\n",
       "        text-align: left;\n",
       "    }\n",
       "\n",
       "    .dataframe tbody tr th {\n",
       "        vertical-align: top;\n",
       "    }\n",
       "</style>\n",
       "<table border=\"1\" class=\"dataframe\">\n",
       "  <thead>\n",
       "    <tr style=\"text-align: right;\">\n",
       "      <th></th>\n",
       "      <th>customer_id_hashed</th>\n",
       "      <th>email_address_hash</th>\n",
       "      <th>sign_up_date</th>\n",
       "      <th>customer_zip_code</th>\n",
       "      <th>transaction_dt_min</th>\n",
       "      <th>transaction_dt_max</th>\n",
       "      <th>Shop_Label</th>\n",
       "      <th>quarter</th>\n",
       "    </tr>\n",
       "  </thead>\n",
       "  <tbody>\n",
       "    <tr>\n",
       "      <th>2035</th>\n",
       "      <td>001081be4ed7e8a9f368ab57e65ad81a94f90a9447485e...</td>\n",
       "      <td>9b7541bfe0622fb9c7d6c9af5da51fa586ec3d2fa1aa3f...</td>\n",
       "      <td>2019-02-26</td>\n",
       "      <td>NaN</td>\n",
       "      <td>NaN</td>\n",
       "      <td>NaN</td>\n",
       "      <td>No_Trans</td>\n",
       "      <td>2019_Q1</td>\n",
       "    </tr>\n",
       "  </tbody>\n",
       "</table>\n",
       "</div>"
      ],
      "text/plain": [
       "                                     customer_id_hashed  \\\n",
       "2035  001081be4ed7e8a9f368ab57e65ad81a94f90a9447485e...   \n",
       "\n",
       "                                     email_address_hash sign_up_date  \\\n",
       "2035  9b7541bfe0622fb9c7d6c9af5da51fa586ec3d2fa1aa3f...   2019-02-26   \n",
       "\n",
       "     customer_zip_code transaction_dt_min transaction_dt_max Shop_Label  \\\n",
       "2035               NaN                NaN                NaN   No_Trans   \n",
       "\n",
       "      quarter  \n",
       "2035  2019_Q1  "
      ]
     },
     "execution_count": 30,
     "metadata": {},
     "output_type": "execute_result"
    }
   ],
   "source": [
    "new_sign_ups[new_sign_ups['customer_id_hashed']==\"001081be4ed7e8a9f368ab57e65ad81a94f90a9447485eadee6eb128386a6b6b\"]"
   ]
  },
  {
   "cell_type": "code",
   "execution_count": 31,
   "metadata": {},
   "outputs": [
    {
     "data": {
      "text/html": [
       "<div>\n",
       "<style>\n",
       "    .dataframe thead tr:only-child th {\n",
       "        text-align: right;\n",
       "    }\n",
       "\n",
       "    .dataframe thead th {\n",
       "        text-align: left;\n",
       "    }\n",
       "\n",
       "    .dataframe tbody tr th {\n",
       "        vertical-align: top;\n",
       "    }\n",
       "</style>\n",
       "<table border=\"1\" class=\"dataframe\">\n",
       "  <thead>\n",
       "    <tr style=\"text-align: right;\">\n",
       "      <th></th>\n",
       "      <th>customer_id_hashed</th>\n",
       "      <th>email_address_hash</th>\n",
       "      <th>customer_zip_code</th>\n",
       "      <th>segment</th>\n",
       "    </tr>\n",
       "  </thead>\n",
       "  <tbody>\n",
       "    <tr>\n",
       "      <th>9</th>\n",
       "      <td>00001766759bd0e8524c71458b12ae242fd19358c6e3c1...</td>\n",
       "      <td>dba230ccf004d66bdb7064f8665967c217958dd13f6350...</td>\n",
       "      <td>NaN</td>\n",
       "      <td>No_Trans_signed_up_in_2019_Q1</td>\n",
       "    </tr>\n",
       "    <tr>\n",
       "      <th>22</th>\n",
       "      <td>00002626764ee23b4f28532d66ea283681502198037b53...</td>\n",
       "      <td>0b8036e2de96691601ae00514c8d04896170224f47a47a...</td>\n",
       "      <td>NaN</td>\n",
       "      <td>No_Trans_signed_up_in_2019_Q1</td>\n",
       "    </tr>\n",
       "  </tbody>\n",
       "</table>\n",
       "</div>"
      ],
      "text/plain": [
       "                                   customer_id_hashed  \\\n",
       "9   00001766759bd0e8524c71458b12ae242fd19358c6e3c1...   \n",
       "22  00002626764ee23b4f28532d66ea283681502198037b53...   \n",
       "\n",
       "                                   email_address_hash customer_zip_code  \\\n",
       "9   dba230ccf004d66bdb7064f8665967c217958dd13f6350...               NaN   \n",
       "22  0b8036e2de96691601ae00514c8d04896170224f47a47a...               NaN   \n",
       "\n",
       "                          segment  \n",
       "9   No_Trans_signed_up_in_2019_Q1  \n",
       "22  No_Trans_signed_up_in_2019_Q1  "
      ]
     },
     "execution_count": 31,
     "metadata": {},
     "output_type": "execute_result"
    }
   ],
   "source": [
    "df.head(2)"
   ]
  },
  {
   "cell_type": "code",
   "execution_count": null,
   "metadata": {
    "collapsed": true
   },
   "outputs": [],
   "source": []
  }
 ],
 "metadata": {
  "kernelspec": {
   "display_name": "Python 3",
   "language": "python",
   "name": "python3"
  },
  "language_info": {
   "codemirror_mode": {
    "name": "ipython",
    "version": 3
   },
   "file_extension": ".py",
   "mimetype": "text/x-python",
   "name": "python",
   "nbconvert_exporter": "python",
   "pygments_lexer": "ipython3",
   "version": "3.6.1"
  }
 },
 "nbformat": 4,
 "nbformat_minor": 2
}
