{
 "cells": [
  {
   "cell_type": "code",
   "execution_count": 117,
   "metadata": {
    "collapsed": true
   },
   "outputs": [],
   "source": [
    "import pandas as pd\n",
    "import datetime\n",
    "import numpy as np\n"
   ]
  },
  {
   "cell_type": "code",
   "execution_count": 120,
   "metadata": {
    "scrolled": false
   },
   "outputs": [
    {
     "name": "stderr",
     "output_type": "stream",
     "text": [
      "/usr/local/lib/python3.6/site-packages/ipykernel_launcher.py:12: SettingWithCopyWarning: \n",
      "A value is trying to be set on a copy of a slice from a DataFrame\n",
      "\n",
      "See the caveats in the documentation: http://pandas.pydata.org/pandas-docs/stable/indexing.html#indexing-view-versus-copy\n",
      "  if sys.path[0] == '':\n",
      "/usr/local/lib/python3.6/site-packages/pandas/core/indexing.py:179: SettingWithCopyWarning: \n",
      "A value is trying to be set on a copy of a slice from a DataFrame\n",
      "\n",
      "See the caveats in the documentation: http://pandas.pydata.org/pandas-docs/stable/indexing.html#indexing-view-versus-copy\n",
      "  self._setitem_with_indexer(indexer, value)\n",
      "/usr/local/lib/python3.6/site-packages/ipykernel_launcher.py:14: SettingWithCopyWarning: \n",
      "A value is trying to be set on a copy of a slice from a DataFrame\n",
      "\n",
      "See the caveats in the documentation: http://pandas.pydata.org/pandas-docs/stable/indexing.html#indexing-view-versus-copy\n",
      "  \n",
      "/usr/local/lib/python3.6/site-packages/ipykernel_launcher.py:16: SettingWithCopyWarning: \n",
      "A value is trying to be set on a copy of a slice from a DataFrame\n",
      "\n",
      "See the caveats in the documentation: http://pandas.pydata.org/pandas-docs/stable/indexing.html#indexing-view-versus-copy\n",
      "  app.launch_new_instance()\n",
      "/usr/local/lib/python3.6/site-packages/ipykernel_launcher.py:18: SettingWithCopyWarning: \n",
      "A value is trying to be set on a copy of a slice from a DataFrame\n",
      "\n",
      "See the caveats in the documentation: http://pandas.pydata.org/pandas-docs/stable/indexing.html#indexing-view-versus-copy\n"
     ]
    }
   ],
   "source": [
    "sale_data=pd.read_csv(\"/home/jian/Projects/Big_Lots/TMR/Weekly_Index_Dummy_Variable/combined_sales_long_2018-02-24.csv\")\n",
    "sale_data['week_end_date']=sale_data['week_end_date'].apply(lambda x: datetime.datetime.strptime(x, '%Y-%m-%d').date())\n",
    "sale_data=sale_data[['location_id','week_end_date','sales']]\n",
    "sale_data=sale_data.groupby(['week_end_date'])['sales'].sum().to_frame()\n",
    "sale_data.reset_index(inplace=True)\n",
    "\n",
    "sale_data['index']=sale_data['week_end_date'].apply(lambda x: int((x-datetime.date(2017,1,7)).days/7))\n",
    "sale_data['year']=np.nan\n",
    "for i in range(len(sale_data)):\n",
    "\n",
    "    if sale_data['index'][i]<=-53 :\n",
    "        sale_data['year'][i]=\"2015_Sales\"\n",
    "    elif (sale_data['index'][i]<=-1) & (sale_data['index'][i]>=-52):\n",
    "        sale_data['year'][i]=\"2016_Sales\"\n",
    "    elif (sale_data['index'][i]<=51) & (sale_data['index'][i]>=0):\n",
    "        sale_data['year'][i]=\"2017_Sales\"\n",
    "    elif sale_data['index'][i]>51:\n",
    "        sale_data['year'][i]=\"2018_Sales\"\n",
    "sale_data['week_index']=sale_data['index'].apply(lambda x: x % 52 )\n",
    "year_sales_wide=sale_data[['week_index','year','sales']]\n",
    "year_sales_wide=year_sales_wide.pivot(index='week_index',columns='year',values='sales')\n",
    "year_sales_wide.reset_index(inplace=True)\n",
    "\n",
    "week_df=sale_data[['week_end_date','index']]\n",
    "week_df.columns=['week_end_date','week_index']\n",
    "week_df=week_df[(week_df['week_index']>=0) & (week_df['week_index']<52)]\n",
    "week_df.reset_index(inplace=True)\n",
    "# del week_df['level_0']\n",
    "\n",
    "year_sales_wide=pd.merge(year_sales_wide,week_df,on=\"week_index\",how=\"left\")\n",
    "year_sales_wide['sales_average']=np.nan\n",
    "year_sales_wide['sales_index']=np.nan\n",
    "year_sales_wide=year_sales_wide[['week_end_date','week_index','2015_Sales','2016_Sales','2017_Sales','2018_Sales',\n",
    "                                'sales_average','sales_index']]\n",
    "year_sales_wide.to_csv(\"/home/jian/Projects/Big_Lots/TMR/Weekly_Index_Dummy_Variable/year_sales_wide.csv\",index=False)"
   ]
  },
  {
   "cell_type": "code",
   "execution_count": 99,
   "metadata": {},
   "outputs": [],
   "source": []
  },
  {
   "cell_type": "code",
   "execution_count": null,
   "metadata": {
    "collapsed": true
   },
   "outputs": [],
   "source": []
  }
 ],
 "metadata": {
  "kernelspec": {
   "display_name": "Python 3",
   "language": "python",
   "name": "python3"
  },
  "language_info": {
   "codemirror_mode": {
    "name": "ipython",
    "version": 3
   },
   "file_extension": ".py",
   "mimetype": "text/x-python",
   "name": "python",
   "nbconvert_exporter": "python",
   "pygments_lexer": "ipython3",
   "version": "3.6.1"
  }
 },
 "nbformat": 4,
 "nbformat_minor": 2
}
