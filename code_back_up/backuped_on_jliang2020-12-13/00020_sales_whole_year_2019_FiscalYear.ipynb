{
 "cells": [
  {
   "cell_type": "code",
   "execution_count": 1,
   "metadata": {},
   "outputs": [
    {
     "name": "stdout",
     "output_type": "stream",
     "text": [
      "58\n"
     ]
    }
   ],
   "source": [
    "import pandas as pd\n",
    "import numpy as np \n",
    "import datetime\n",
    "import os\n",
    "\n",
    "def recursive_file_gen(root_path):\n",
    "    for root, dirs, files in os.walk(root_path):\n",
    "        for file in files:\n",
    "            yield os.path.join(root,file)\n",
    "            \n",
    "last_saturday=datetime.datetime.now().date()-datetime.timedelta(days=datetime.datetime.now().date().weekday()+2)\n",
    "\n",
    "pos_list=list(recursive_file_gen(\"/home/jian/BigLots/\"))\n",
    "pos_list=[x for x in pos_list if \"daily\" in x.lower() and \"s/MediaStorm_\" in x and x[-4:]==\".txt\"]\n",
    "pos_list=[x for x in pos_list if x.split(\"s/MediaStorm_\")[1][:10]>=\"2019-02-03\"]\n",
    "pos_list.sort()\n",
    "print(len(pos_list))\n",
    "\n"
   ]
  },
  {
   "cell_type": "code",
   "execution_count": 4,
   "metadata": {},
   "outputs": [
    {
     "data": {
      "text/plain": [
       "57"
      ]
     },
     "execution_count": 4,
     "metadata": {},
     "output_type": "execute_result"
    }
   ],
   "source": [
    "pos_list.pop(0)\n",
    "len(pos_list)"
   ]
  },
  {
   "cell_type": "code",
   "execution_count": 5,
   "metadata": {},
   "outputs": [
    {
     "data": {
      "text/plain": [
       "58"
      ]
     },
     "execution_count": 5,
     "metadata": {},
     "output_type": "execute_result"
    }
   ],
   "source": [
    "file_0=\"/home/jian/BigLots/hist_daily_data_itemlevel_decompressed/MediaStormDailySalesHistory20190209.txt\"\n",
    "pos_list=[file_0]+pos_list\n",
    "len(pos_list)"
   ]
  },
  {
   "cell_type": "code",
   "execution_count": 7,
   "metadata": {},
   "outputs": [
    {
     "name": "stdout",
     "output_type": "stream",
     "text": [
      "2020-03-19 11:52:09.392286 2019-02-09\n",
      "2020-03-19 11:56:47.423480 2019-02-16\n",
      "2020-03-19 12:01:48.335892 2019-02-23\n",
      "2020-03-19 12:10:09.196111 2019-03-02\n",
      "2020-03-19 12:17:18.151859 2019-03-09\n",
      "2020-03-19 12:21:58.086629 2019-03-16\n",
      "2020-03-19 12:26:32.306331 2019-03-23\n",
      "2020-03-19 12:31:11.404429 2019-03-30\n",
      "2020-03-19 12:38:19.937308 2019-04-06\n",
      "2020-03-19 12:44:02.015311 2019-04-13\n",
      "2020-03-19 12:46:20.646042 2019-04-20\n",
      "2020-03-19 12:47:53.694556 2019-04-27\n",
      "2020-03-19 12:53:06.979577 2019-05-04\n",
      "2020-03-19 12:56:25.862281 2019-05-11\n",
      "2020-03-19 13:00:30.081873 2019-05-18\n",
      "2020-03-19 13:06:35.806531 2019-05-25\n",
      "2020-03-19 13:10:34.418992 2019-06-01\n",
      "2020-03-19 13:13:54.470284 2019-06-08\n",
      "2020-03-19 13:18:41.626802 2019-06-15\n",
      "2020-03-19 13:20:01.421687 2019-06-22\n",
      "2020-03-19 13:22:48.639375 2019-06-29\n",
      "2020-03-19 13:24:53.870463 2019-07-06\n",
      "2020-03-19 13:27:02.647500 2019-07-13\n",
      "2020-03-19 13:28:17.313556 2019-07-20\n",
      "2020-03-19 13:29:05.590020 2019-07-27\n",
      "2020-03-19 13:29:56.148579 2019-08-03\n",
      "2020-03-19 13:30:46.579121 2019-08-10\n",
      "2020-03-19 13:31:40.809394 2019-08-17\n",
      "2020-03-19 13:32:36.388346 2019-08-24\n",
      "2020-03-19 13:33:30.370974 2019-08-31\n",
      "2020-03-19 13:34:13.223912 2019-09-07\n",
      "2020-03-19 13:36:14.301249 2019-09-14\n",
      "2020-03-19 13:38:07.216788 2019-09-21\n",
      "2020-03-19 13:39:39.243841 2019-09-28\n",
      "2020-03-19 13:40:56.731667 2019-10-05\n",
      "2020-03-19 13:41:41.312121 2019-10-12\n",
      "2020-03-19 13:43:33.073945 2019-10-19\n",
      "2020-03-19 13:44:18.256658 2019-10-26\n",
      "2020-03-19 13:45:24.299965 2019-11-02\n",
      "2020-03-19 13:47:29.628594 2019-11-09\n",
      "2020-03-19 13:48:42.354084 2019-11-16\n",
      "2020-03-19 13:49:55.561014 2019-11-23\n",
      "2020-03-19 13:51:20.973604 2019-11-30\n",
      "2020-03-19 13:52:43.345305 2019-12-07\n",
      "2020-03-19 13:54:07.724178 2019-12-14\n",
      "2020-03-19 13:56:10.409524 2019-12-21\n",
      "2020-03-19 13:57:25.636114 2019-12-28\n",
      "2020-03-19 13:58:20.526568 2020-01-04\n",
      "2020-03-19 13:59:03.610592 2020-01-11\n",
      "2020-03-19 13:59:51.025761 2020-01-18\n",
      "2020-03-19 14:00:39.161346 2020-01-25\n",
      "2020-03-19 14:01:18.752120 2020-02-01\n",
      "2020-03-19 14:01:54.632053 2020-02-08\n",
      "2020-03-19 14:02:33.642154 2020-02-15\n",
      "2020-03-19 14:03:13.253950 2020-02-22\n",
      "2020-03-19 14:03:56.358299 2020-02-29\n",
      "2020-03-19 14:04:47.539254 2020-03-07\n",
      "2020-03-19 14:05:56.530087 2020-03-14\n"
     ]
    }
   ],
   "source": [
    "df_all_POS_by_store=pd.DataFrame()\n",
    "for file in pos_list:\n",
    "    df=pd.read_csv(file,dtype=str,sep=\"|\")\n",
    "    df['item_transaction_amt']=df['item_transaction_amt'].astype(float)\n",
    "    df_rewards=df[pd.notnull(df['customer_id_hashed'])]\n",
    "    df_non_rewards=df[pd.isnull(df['customer_id_hashed'])]\n",
    "    \n",
    "    df_rewards_sales=df_rewards.groupby(['location_id','transaction_dt'])['item_transaction_amt'].sum().to_frame().reset_index().rename(columns={\"item_transaction_amt\":\"rewards_sales\"})\n",
    "    df_rewards_trans=df_rewards[['location_id','transaction_dt','transaction_id','customer_id_hashed']].drop_duplicates()\n",
    "    df_rewards_trans['rewards_trans']=1\n",
    "    df_rewards_trans=df_rewards_trans.groupby(['location_id','transaction_dt'])['rewards_trans'].sum().to_frame().reset_index()\n",
    "    df_rewards=pd.merge(df_rewards_sales,df_rewards_trans,on=['location_id','transaction_dt'],how=\"outer\")\n",
    "    \n",
    "    df_non_rewards_sales=df_non_rewards.groupby(['location_id','transaction_dt'])['item_transaction_amt'].sum().to_frame().reset_index().rename(columns={\"item_transaction_amt\":\"non_rewards_sales\"})\n",
    "    df_non_rewards_trans=df_non_rewards[['location_id','transaction_dt','transaction_id']].drop_duplicates()\n",
    "    df_non_rewards_trans['non_rewards_trans']=1\n",
    "    df_non_rewards_trans=df_non_rewards_trans.groupby(['location_id','transaction_dt'])['non_rewards_trans'].sum().to_frame().reset_index()\n",
    "    df_non_rewards=pd.merge(df_non_rewards_sales,df_non_rewards_trans,on=['location_id','transaction_dt'],how=\"outer\")\n",
    "    \n",
    "    df=pd.merge(df_rewards,df_non_rewards,on=['location_id','transaction_dt'],how=\"outer\")\n",
    "    df['week_end_dt']=df['transaction_dt'].max()\n",
    "    df_all_POS_by_store=df_all_POS_by_store.append(df)\n",
    "    print(datetime.datetime.now(),df['transaction_dt'].max())\n",
    "df_all_POS_by_store['store_type']=np.where(df_all_POS_by_store['location_id']==\"6990\",\"online\",\"instore\")\n",
    "df_summary=df_all_POS_by_store.groupby([\"week_end_dt\",'store_type'])['rewards_sales','non_rewards_sales','rewards_trans','non_rewards_trans'].sum().reset_index()\n",
    "\n",
    "df_summary.to_csv(\"/home/jian/celery/JT_new_sing_ups_rewards_rolling_table/output/sales_in_2019_JL_\"+str(datetime.datetime.now())+\".csv\",index=False)\n"
   ]
  },
  {
   "cell_type": "code",
   "execution_count": 8,
   "metadata": {},
   "outputs": [
    {
     "data": {
      "text/plain": [
       "'/home/jian/BL_weekly_crontab/cron_4_JT_rolling_rewards_tracker'"
      ]
     },
     "execution_count": 8,
     "metadata": {},
     "output_type": "execute_result"
    }
   ],
   "source": [
    "os.getcwd()"
   ]
  },
  {
   "cell_type": "code",
   "execution_count": null,
   "metadata": {},
   "outputs": [],
   "source": []
  }
 ],
 "metadata": {
  "kernelspec": {
   "display_name": "Python 3",
   "language": "python",
   "name": "python3"
  },
  "language_info": {
   "codemirror_mode": {
    "name": "ipython",
    "version": 3
   },
   "file_extension": ".py",
   "mimetype": "text/x-python",
   "name": "python",
   "nbconvert_exporter": "python",
   "pygments_lexer": "ipython3",
   "version": "3.6.1"
  }
 },
 "nbformat": 4,
 "nbformat_minor": 2
}
