{
 "cells": [
  {
   "cell_type": "code",
   "execution_count": 1,
   "metadata": {},
   "outputs": [
    {
     "name": "stdout",
     "output_type": "stream",
     "text": [
      "2020-05-22 11:55:34.584920\n",
      "/home/jian/Projects/Big_Lots/Analysis/2020_Q2/FB_audience\n"
     ]
    }
   ],
   "source": [
    "import pandas as pd\n",
    "import numpy as np\n",
    "import datetime\n",
    "import os\n",
    "import glob\n",
    "\n",
    "print(datetime.datetime.now())\n",
    "print(os.getcwd())"
   ]
  },
  {
   "cell_type": "code",
   "execution_count": 2,
   "metadata": {},
   "outputs": [
    {
     "data": {
      "text/plain": [
       "['/home/jian/Projects/Big_Lots/Analysis/2020_Q2/FB_audience/audience_from_SP/Target_0316_0430.csv',\n",
       " \"/home/jian/Projects/Big_Lots/Analysis/2020_Q2/FB_audience/audience_from_SP/Lowe's_0316_0430.csv\",\n",
       " \"/home/jian/Projects/Big_Lots/Analysis/2020_Q2/FB_audience/audience_from_SP/Sam's Club_0316_0430.csv\",\n",
       " '/home/jian/Projects/Big_Lots/Analysis/2020_Q2/FB_audience/audience_from_SP/Dollar General_0316_0430.csv',\n",
       " \"/home/jian/Projects/Big_Lots/Analysis/2020_Q2/FB_audience/audience_from_SP/Kohl's_0316_0430.csv\",\n",
       " '/home/jian/Projects/Big_Lots/Analysis/2020_Q2/FB_audience/audience_from_SP/Costco_0316_0430.csv',\n",
       " '/home/jian/Projects/Big_Lots/Analysis/2020_Q2/FB_audience/audience_from_SP/Home Depot_0316_0430.csv',\n",
       " '/home/jian/Projects/Big_Lots/Analysis/2020_Q2/FB_audience/audience_from_SP/Ross Stores_0316_0430.csv',\n",
       " '/home/jian/Projects/Big_Lots/Analysis/2020_Q2/FB_audience/audience_from_SP/biglotsvisitor_0316_0430.csv',\n",
       " '/home/jian/Projects/Big_Lots/Analysis/2020_Q2/FB_audience/audience_from_SP/biglotsvicinity_0316_0430.csv',\n",
       " '/home/jian/Projects/Big_Lots/Analysis/2020_Q2/FB_audience/audience_from_SP/Walmart_0316_0430.csv',\n",
       " '/home/jian/Projects/Big_Lots/Analysis/2020_Q2/FB_audience/audience_from_SP/Christmas Tree Shop_0316_0430.csv',\n",
       " '/home/jian/Projects/Big_Lots/Analysis/2020_Q2/FB_audience/audience_from_SP/Dollar Tree_0316_0430.csv']"
      ]
     },
     "execution_count": 2,
     "metadata": {},
     "output_type": "execute_result"
    }
   ],
   "source": [
    "list_files_all=glob.glob(\"/home/jian/Projects/Big_Lots/Analysis/2020_Q2/FB_audience/audience_from_SP/*.csv\")\n",
    "list_files_all"
   ]
  },
  {
   "cell_type": "code",
   "execution_count": 3,
   "metadata": {},
   "outputs": [],
   "source": [
    "dict_control_count_by_seg={\"biglotsvisitor_0316_0430\":81953,\n",
    "                           \"Costco_0316_0430\":31577,\n",
    "                           \"Dollar General_0316_0430\":84313,\n",
    "                           \"Dollar Tree_0316_0430\":83107,\n",
    "                           \"Sam's Club_0316_0430\":39740,\n",
    "                           \"Target_0316_0430\":51755,\n",
    "                           \"Walmart_0316_0430\":97611}"
   ]
  },
  {
   "cell_type": "code",
   "execution_count": 4,
   "metadata": {},
   "outputs": [],
   "source": [
    "list_file_requested=[x for x in list_files_all if os.path.basename(x)[:-4] in dict_control_count_by_seg.keys()]"
   ]
  },
  {
   "cell_type": "code",
   "execution_count": 5,
   "metadata": {},
   "outputs": [
    {
     "data": {
      "text/plain": [
       "['/home/jian/Projects/Big_Lots/Analysis/2020_Q2/FB_audience/audience_from_SP/Target_0316_0430.csv',\n",
       " \"/home/jian/Projects/Big_Lots/Analysis/2020_Q2/FB_audience/audience_from_SP/Sam's Club_0316_0430.csv\",\n",
       " '/home/jian/Projects/Big_Lots/Analysis/2020_Q2/FB_audience/audience_from_SP/Dollar General_0316_0430.csv',\n",
       " '/home/jian/Projects/Big_Lots/Analysis/2020_Q2/FB_audience/audience_from_SP/Costco_0316_0430.csv',\n",
       " '/home/jian/Projects/Big_Lots/Analysis/2020_Q2/FB_audience/audience_from_SP/biglotsvisitor_0316_0430.csv',\n",
       " '/home/jian/Projects/Big_Lots/Analysis/2020_Q2/FB_audience/audience_from_SP/Walmart_0316_0430.csv',\n",
       " '/home/jian/Projects/Big_Lots/Analysis/2020_Q2/FB_audience/audience_from_SP/Dollar Tree_0316_0430.csv']"
      ]
     },
     "execution_count": 5,
     "metadata": {},
     "output_type": "execute_result"
    }
   ],
   "source": [
    "list_file_requested"
   ]
  },
  {
   "cell_type": "code",
   "execution_count": 6,
   "metadata": {},
   "outputs": [
    {
     "data": {
      "text/plain": [
       "((5676659, 2), 4317801)"
      ]
     },
     "execution_count": 6,
     "metadata": {},
     "output_type": "execute_result"
    }
   ],
   "source": [
    "df_all_wantted_seg=pd.DataFrame()\n",
    "for file in list_file_requested:\n",
    "    seg=os.path.basename(file).split(\".\")[0]\n",
    "    df=pd.read_csv(file,dtype=str,usecols=['ad_id'])\n",
    "    df['seg']=seg\n",
    "    df_all_wantted_seg=df_all_wantted_seg.append(df)\n",
    "df_all_wantted_seg.shape,df_all_wantted_seg['ad_id'].nunique()"
   ]
  },
  {
   "cell_type": "code",
   "execution_count": 7,
   "metadata": {},
   "outputs": [
    {
     "data": {
      "text/plain": [
       "1014489"
      ]
     },
     "execution_count": 7,
     "metadata": {},
     "output_type": "execute_result"
    }
   ],
   "source": [
    "list_id_duplicated=df_all_wantted_seg[df_all_wantted_seg['ad_id'].duplicated()]['ad_id'].unique().tolist()\n",
    "len(list_id_duplicated)"
   ]
  },
  {
   "cell_type": "code",
   "execution_count": 8,
   "metadata": {},
   "outputs": [],
   "source": [
    "df_id_duplicated=pd.DataFrame({\"ad_id\":list_id_duplicated},index=['T']*len(list_id_duplicated)).reset_index().rename(columns={\"index\":\"group_dup\"})\n",
    "df_all_wantted_seg=pd.merge(df_all_wantted_seg,df_id_duplicated,on=\"ad_id\",how=\"left\")\n",
    "df_all_wantted_seg['group_dup']=df_all_wantted_seg['group_dup'].fillna(\"unique\")\n"
   ]
  },
  {
   "cell_type": "code",
   "execution_count": 9,
   "metadata": {},
   "outputs": [],
   "source": [
    "df_qc=df_all_wantted_seg.groupby(['seg','group_dup'])['ad_id'].count().to_frame().reset_index()"
   ]
  },
  {
   "cell_type": "code",
   "execution_count": 10,
   "metadata": {},
   "outputs": [
    {
     "data": {
      "text/html": [
       "<div>\n",
       "<style scoped>\n",
       "    .dataframe tbody tr th:only-of-type {\n",
       "        vertical-align: middle;\n",
       "    }\n",
       "\n",
       "    .dataframe tbody tr th {\n",
       "        vertical-align: top;\n",
       "    }\n",
       "\n",
       "    .dataframe thead th {\n",
       "        text-align: right;\n",
       "    }\n",
       "</style>\n",
       "<table border=\"1\" class=\"dataframe\">\n",
       "  <thead>\n",
       "    <tr style=\"text-align: right;\">\n",
       "      <th></th>\n",
       "      <th>seg</th>\n",
       "      <th>group_dup</th>\n",
       "      <th>ad_id</th>\n",
       "    </tr>\n",
       "  </thead>\n",
       "  <tbody>\n",
       "    <tr>\n",
       "      <th>1</th>\n",
       "      <td>Costco_0316_0430</td>\n",
       "      <td>unique</td>\n",
       "      <td>169591</td>\n",
       "    </tr>\n",
       "    <tr>\n",
       "      <th>3</th>\n",
       "      <td>Dollar General_0316_0430</td>\n",
       "      <td>unique</td>\n",
       "      <td>416740</td>\n",
       "    </tr>\n",
       "    <tr>\n",
       "      <th>5</th>\n",
       "      <td>Dollar Tree_0316_0430</td>\n",
       "      <td>unique</td>\n",
       "      <td>345921</td>\n",
       "    </tr>\n",
       "    <tr>\n",
       "      <th>7</th>\n",
       "      <td>Sam's Club_0316_0430</td>\n",
       "      <td>unique</td>\n",
       "      <td>158650</td>\n",
       "    </tr>\n",
       "    <tr>\n",
       "      <th>9</th>\n",
       "      <td>Target_0316_0430</td>\n",
       "      <td>unique</td>\n",
       "      <td>236414</td>\n",
       "    </tr>\n",
       "    <tr>\n",
       "      <th>11</th>\n",
       "      <td>Walmart_0316_0430</td>\n",
       "      <td>unique</td>\n",
       "      <td>1156469</td>\n",
       "    </tr>\n",
       "    <tr>\n",
       "      <th>12</th>\n",
       "      <td>biglotsvisitor_0316_0430</td>\n",
       "      <td>unique</td>\n",
       "      <td>819527</td>\n",
       "    </tr>\n",
       "  </tbody>\n",
       "</table>\n",
       "</div>"
      ],
      "text/plain": [
       "                         seg group_dup    ad_id\n",
       "1           Costco_0316_0430    unique   169591\n",
       "3   Dollar General_0316_0430    unique   416740\n",
       "5      Dollar Tree_0316_0430    unique   345921\n",
       "7       Sam's Club_0316_0430    unique   158650\n",
       "9           Target_0316_0430    unique   236414\n",
       "11         Walmart_0316_0430    unique  1156469\n",
       "12  biglotsvisitor_0316_0430    unique   819527"
      ]
     },
     "execution_count": 10,
     "metadata": {},
     "output_type": "execute_result"
    }
   ],
   "source": [
    "# checked that all the unique are higher thant the wanted control, so the duplicated ids are all asigned to the test\n",
    "df_qc[df_qc['group_dup']==\"unique\"]"
   ]
  },
  {
   "cell_type": "code",
   "execution_count": 11,
   "metadata": {},
   "outputs": [
    {
     "data": {
      "text/plain": [
       "{'biglotsvisitor_0316_0430': 81953,\n",
       " 'Costco_0316_0430': 31577,\n",
       " 'Dollar General_0316_0430': 84313,\n",
       " 'Dollar Tree_0316_0430': 83107,\n",
       " \"Sam's Club_0316_0430\": 39740,\n",
       " 'Target_0316_0430': 51755,\n",
       " 'Walmart_0316_0430': 97611}"
      ]
     },
     "execution_count": 11,
     "metadata": {},
     "output_type": "execute_result"
    }
   ],
   "source": [
    "dict_control_count_by_seg"
   ]
  },
  {
   "cell_type": "code",
   "execution_count": 12,
   "metadata": {},
   "outputs": [],
   "source": [
    "folder_upload=\"/home/jian/Projects/Big_Lots/Analysis/2020_Q2/FB_audience/requested_test_and_control/\"\n",
    "try:\n",
    "    os.stat(folder_upload)\n",
    "except:\n",
    "    os.mkdir(folder_upload)"
   ]
  },
  {
   "cell_type": "code",
   "execution_count": 13,
   "metadata": {},
   "outputs": [
    {
     "data": {
      "text/plain": [
       "['/home/jian/Projects/Big_Lots/Analysis/2020_Q2/FB_audience/audience_from_SP/Target_0316_0430.csv',\n",
       " \"/home/jian/Projects/Big_Lots/Analysis/2020_Q2/FB_audience/audience_from_SP/Sam's Club_0316_0430.csv\",\n",
       " '/home/jian/Projects/Big_Lots/Analysis/2020_Q2/FB_audience/audience_from_SP/Dollar General_0316_0430.csv',\n",
       " '/home/jian/Projects/Big_Lots/Analysis/2020_Q2/FB_audience/audience_from_SP/Costco_0316_0430.csv',\n",
       " '/home/jian/Projects/Big_Lots/Analysis/2020_Q2/FB_audience/audience_from_SP/biglotsvisitor_0316_0430.csv',\n",
       " '/home/jian/Projects/Big_Lots/Analysis/2020_Q2/FB_audience/audience_from_SP/Walmart_0316_0430.csv',\n",
       " '/home/jian/Projects/Big_Lots/Analysis/2020_Q2/FB_audience/audience_from_SP/Dollar Tree_0316_0430.csv']"
      ]
     },
     "execution_count": 13,
     "metadata": {},
     "output_type": "execute_result"
    }
   ],
   "source": [
    "list_file_requested"
   ]
  },
  {
   "cell_type": "code",
   "execution_count": 14,
   "metadata": {},
   "outputs": [
    {
     "name": "stderr",
     "output_type": "stream",
     "text": [
      "/home/jian/.local/lib/python3.6/site-packages/pandas/core/frame.py:7138: FutureWarning: Sorting because non-concatenation axis is not aligned. A future version\n",
      "of pandas will change to not sort by default.\n",
      "\n",
      "To accept the future behavior, pass 'sort=False'.\n",
      "\n",
      "To retain the current behavior and silence the warning, pass 'sort=True'.\n",
      "\n",
      "  sort=sort,\n"
     ]
    },
    {
     "name": "stdout",
     "output_type": "stream",
     "text": [
      "Target_0316_0430 T 465794 465794\n",
      "Target_0316_0430 C 51755 51755\n",
      "Sam's Club_0316_0430 T 357656 357656\n",
      "Sam's Club_0316_0430 C 39740 39740\n",
      "Dollar General_0316_0430 T 758822 758822\n",
      "Dollar General_0316_0430 C 84313 84313\n",
      "Costco_0316_0430 T 284193 284193\n",
      "Costco_0316_0430 C 31577 31577\n",
      "biglotsvisitor_0316_0430 T 737574 737574\n",
      "biglotsvisitor_0316_0430 C 81953 81953\n",
      "Walmart_0316_0430 T 1854605 1854605\n",
      "Walmart_0316_0430 C 97611 97611\n",
      "Dollar Tree_0316_0430 T 747959 747959\n",
      "Dollar Tree_0316_0430 C 83107 83107\n"
     ]
    }
   ],
   "source": [
    "import random\n",
    "random.seed(0)\n",
    "df_summary_count=pd.DataFrame()\n",
    "for file in list_file_requested:\n",
    "    seg_name=os.path.basename(file).split(\".\")[0]\n",
    "    df=pd.read_csv(file,dtype=str,usecols=['ad_id'])\n",
    "    \n",
    "    df_1=df[df['ad_id'].isin(list_id_duplicated)]\n",
    "    df_2=df[~df['ad_id'].isin(list_id_duplicated)]\n",
    "    df_2=df_2.reset_index()\n",
    "    del df_2['index']\n",
    "    df_2=df_2.reset_index()\n",
    "    \n",
    "    count_control=dict_control_count_by_seg[seg_name]\n",
    "    \n",
    "    len_total_df2=len(df_2)\n",
    "    list_control=random.sample(range(len_total_df2),count_control)\n",
    "    \n",
    "    df_control=df_2[df_2['index'].isin(list_control)]\n",
    "    df_test_2=df_2[~df_2['index'].isin(list_control)]\n",
    "    df_test=df_test_2.append(df_1)\n",
    "    \n",
    "    print(seg_name,\"T\",df_test.shape[0],df_test['ad_id'].nunique())\n",
    "    print(seg_name,\"C\",df_control.shape[0],df_control['ad_id'].nunique())\n",
    "    \n",
    "    \n",
    "    df_control.to_csv(folder_upload+\"C_\"+seg_name+\".csv\",index=False)\n",
    "    df_test.to_csv(folder_upload+\"T_\"+seg_name+\".csv\",index=False)\n",
    "    \n",
    "    \n",
    "    df=pd.DataFrame({\"T_count\":len(df_test),\"C_count\":len(df_control)},index=[seg_name]).reset_index()\n",
    "    df_summary_count=df_summary_count.append(df)"
   ]
  },
  {
   "cell_type": "code",
   "execution_count": 15,
   "metadata": {},
   "outputs": [
    {
     "data": {
      "text/html": [
       "<div>\n",
       "<style scoped>\n",
       "    .dataframe tbody tr th:only-of-type {\n",
       "        vertical-align: middle;\n",
       "    }\n",
       "\n",
       "    .dataframe tbody tr th {\n",
       "        vertical-align: top;\n",
       "    }\n",
       "\n",
       "    .dataframe thead th {\n",
       "        text-align: right;\n",
       "    }\n",
       "</style>\n",
       "<table border=\"1\" class=\"dataframe\">\n",
       "  <thead>\n",
       "    <tr style=\"text-align: right;\">\n",
       "      <th></th>\n",
       "      <th>index</th>\n",
       "      <th>T_count</th>\n",
       "      <th>C_count</th>\n",
       "    </tr>\n",
       "  </thead>\n",
       "  <tbody>\n",
       "    <tr>\n",
       "      <th>0</th>\n",
       "      <td>Target_0316_0430</td>\n",
       "      <td>465794</td>\n",
       "      <td>51755</td>\n",
       "    </tr>\n",
       "    <tr>\n",
       "      <th>0</th>\n",
       "      <td>Sam's Club_0316_0430</td>\n",
       "      <td>357656</td>\n",
       "      <td>39740</td>\n",
       "    </tr>\n",
       "    <tr>\n",
       "      <th>0</th>\n",
       "      <td>Dollar General_0316_0430</td>\n",
       "      <td>758822</td>\n",
       "      <td>84313</td>\n",
       "    </tr>\n",
       "    <tr>\n",
       "      <th>0</th>\n",
       "      <td>Costco_0316_0430</td>\n",
       "      <td>284193</td>\n",
       "      <td>31577</td>\n",
       "    </tr>\n",
       "    <tr>\n",
       "      <th>0</th>\n",
       "      <td>biglotsvisitor_0316_0430</td>\n",
       "      <td>737574</td>\n",
       "      <td>81953</td>\n",
       "    </tr>\n",
       "    <tr>\n",
       "      <th>0</th>\n",
       "      <td>Walmart_0316_0430</td>\n",
       "      <td>1854605</td>\n",
       "      <td>97611</td>\n",
       "    </tr>\n",
       "    <tr>\n",
       "      <th>0</th>\n",
       "      <td>Dollar Tree_0316_0430</td>\n",
       "      <td>747959</td>\n",
       "      <td>83107</td>\n",
       "    </tr>\n",
       "  </tbody>\n",
       "</table>\n",
       "</div>"
      ],
      "text/plain": [
       "                      index  T_count  C_count\n",
       "0          Target_0316_0430   465794    51755\n",
       "0      Sam's Club_0316_0430   357656    39740\n",
       "0  Dollar General_0316_0430   758822    84313\n",
       "0          Costco_0316_0430   284193    31577\n",
       "0  biglotsvisitor_0316_0430   737574    81953\n",
       "0         Walmart_0316_0430  1854605    97611\n",
       "0     Dollar Tree_0316_0430   747959    83107"
      ]
     },
     "execution_count": 15,
     "metadata": {},
     "output_type": "execute_result"
    }
   ],
   "source": [
    "df_summary_count"
   ]
  },
  {
   "cell_type": "code",
   "execution_count": 16,
   "metadata": {},
   "outputs": [],
   "source": [
    "df_summary_count.to_csv(\"./BL_FB_audience_Wave_2_JL_\"+str(datetime.datetime.now().date())+\".csv\",index=False)"
   ]
  },
  {
   "cell_type": "code",
   "execution_count": 17,
   "metadata": {},
   "outputs": [],
   "source": [
    "list_splited_files=glob.glob(folder_upload+\"*.csv\")\n",
    "\n",
    "list_splited_files_T=[x for x in list_splited_files if os.path.basename(x)[0]==\"T\"]\n",
    "list_splited_files_C=[x for x in list_splited_files if os.path.basename(x)[0]==\"C\"]"
   ]
  },
  {
   "cell_type": "markdown",
   "metadata": {},
   "source": [
    "# Upload"
   ]
  },
  {
   "cell_type": "code",
   "execution_count": 18,
   "metadata": {},
   "outputs": [],
   "source": [
    "from facebookads.adobjects.customaudience import CustomAudience\n",
    "from facebookads.adobjects.adaccount import AdAccount\n",
    "from facebookads.api import FacebookAdsApi\n",
    "import json\n",
    "BigLotsAccount_id=\"act_271491453638620\"\n",
    "\n",
    "jian_APP_ID=\"2537704939796694\"# jian's fb marketing app id\n",
    "jian_token=json.load(open(\"/home/jian/Docs/FB_token/lasest_FB_token_jian.json\",\"r\"))['latest_FB_token']"
   ]
  },
  {
   "cell_type": "code",
   "execution_count": 19,
   "metadata": {},
   "outputs": [],
   "source": [
    "def creatfbaudience(AudienceName,AudienceDescription,df,ACCESS_TOKEN,accountid,):\n",
    "    FacebookAdsApi.init(access_token=ACCESS_TOKEN, api_version='v6.0')\n",
    "    myAccount = AdAccount(accountid)\n",
    "    fields = [\n",
    "    ]\n",
    "    params = {\n",
    "      'name': AudienceName,\n",
    "      'subtype': 'CUSTOM',\n",
    "      'description': AudienceDescription,\n",
    "      'customer_file_source': 'PARTNER_PROVIDED_ONLY',\n",
    "    }\n",
    "    fbname = myAccount.create_custom_audience(\n",
    "      fields=fields,\n",
    "      params=params,\n",
    "    )['id']\n",
    "    audience = CustomAudience(fbname)\n",
    "    users = list(df['ad_id'])\n",
    "    listlen = len(users)\n",
    "    chunck_size=50000\n",
    "    count_uploaded=0\n",
    "    for i in range(int(np.ceil(listlen/chunck_size))):\n",
    "        starti = i*50000\n",
    "        if (i+1)*50000<listlen:\n",
    "            endi = (i+1)*50000\n",
    "        else:\n",
    "            endi = listlen\n",
    "        list0 = users[starti:endi]\n",
    "        \n",
    "        count_uploaded+=len(list0)\n",
    "        audience.add_users(CustomAudience.Schema.mobile_advertiser_id, list0)\n",
    "        #print len(list0)   \n",
    "    print(datetime.datetime.now(),AudienceName,\"uploaded\",count_uploaded)"
   ]
  },
  {
   "cell_type": "code",
   "execution_count": 20,
   "metadata": {},
   "outputs": [
    {
     "name": "stdout",
     "output_type": "stream",
     "text": [
      "2020-05-22 11:57:21.253892 T_Target_0316_0430 uploaded 465794\n",
      "2020-05-22 11:57:41.209419 T_Sam's Club_0316_0430 uploaded 357656\n",
      "2020-05-22 11:58:37.676798 T_Dollar General_0316_0430 uploaded 758822\n",
      "2020-05-22 11:58:51.012843 T_Costco_0316_0430 uploaded 284193\n",
      "2020-05-22 11:59:33.625564 T_biglotsvisitor_0316_0430 uploaded 737574\n",
      "2020-05-22 12:01:31.563551 T_Walmart_0316_0430 uploaded 1854605\n",
      "2020-05-22 12:02:20.486820 T_Dollar Tree_0316_0430 uploaded 747959\n"
     ]
    }
   ],
   "source": [
    "for file in list_splited_files_T:\n",
    "    audience_name = os.path.basename(file).split(\".\")[0]\n",
    "    description=os.path.basename(file).split(\".\")[0]+\"_uploaded_on_\"+str(datetime.datetime.now().date())\n",
    "    df = pd.read_csv(file,dtype=str)\n",
    "    creatfbaudience(AudienceName=audience_name,\n",
    "                    AudienceDescription=description,\n",
    "                    df=df,\n",
    "                    ACCESS_TOKEN=jian_token,\n",
    "                    accountid=BigLotsAccount_id)"
   ]
  },
  {
   "cell_type": "code",
   "execution_count": 21,
   "metadata": {},
   "outputs": [
    {
     "name": "stdout",
     "output_type": "stream",
     "text": [
      "2020-05-22 12:02:26.160808 C_Target_0316_0430 uploaded 51755\n",
      "2020-05-22 12:02:28.751876 C_Sam's Club_0316_0430 uploaded 39740\n",
      "2020-05-22 12:02:32.884758 C_Dollar General_0316_0430 uploaded 84313\n",
      "2020-05-22 12:02:35.098668 C_Costco_0316_0430 uploaded 31577\n",
      "2020-05-22 12:02:43.245687 C_biglotsvisitor_0316_0430 uploaded 81953\n",
      "2020-05-22 12:02:50.126937 C_Walmart_0316_0430 uploaded 97611\n",
      "2020-05-22 12:02:54.511883 C_Dollar Tree_0316_0430 uploaded 83107\n"
     ]
    }
   ],
   "source": [
    "for file in list_splited_files_C:\n",
    "    audience_name = os.path.basename(file).split(\".\")[0]\n",
    "    description=os.path.basename(file).split(\".\")[0]+\"_uploaded_on_\"+str(datetime.datetime.now().date())\n",
    "    df = pd.read_csv(file,dtype=str)\n",
    "    creatfbaudience(AudienceName=audience_name,\n",
    "                    AudienceDescription=description,\n",
    "                    df=df,\n",
    "                    ACCESS_TOKEN=jian_token,\n",
    "                    accountid=BigLotsAccount_id)"
   ]
  },
  {
   "cell_type": "code",
   "execution_count": null,
   "metadata": {},
   "outputs": [],
   "source": []
  }
 ],
 "metadata": {
  "kernelspec": {
   "display_name": "Python 3",
   "language": "python",
   "name": "python3"
  },
  "language_info": {
   "codemirror_mode": {
    "name": "ipython",
    "version": 3
   },
   "file_extension": ".py",
   "mimetype": "text/x-python",
   "name": "python",
   "nbconvert_exporter": "python",
   "pygments_lexer": "ipython3",
   "version": "3.6.1"
  }
 },
 "nbformat": 4,
 "nbformat_minor": 2
}
