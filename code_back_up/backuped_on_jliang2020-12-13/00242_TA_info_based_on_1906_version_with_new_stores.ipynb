{
 "cells": [
  {
   "cell_type": "code",
   "execution_count": 1,
   "metadata": {},
   "outputs": [
    {
     "data": {
      "text/plain": [
       "'/home/jian/Projects/Big_Lots/Analysis/2019_Q4/Planner_Request/Ramiro_TA_request_20200124'"
      ]
     },
     "execution_count": 1,
     "metadata": {},
     "output_type": "execute_result"
    }
   ],
   "source": [
    "# Email Re: BL Conquesting - Pier 1, Friday, January 24, 2020 at 12:59 PM\n",
    "\n",
    "import pandas as pd\n",
    "import numpy as np\n",
    "import datetime\n",
    "import os\n",
    "\n",
    "os.getcwd()"
   ]
  },
  {
   "cell_type": "code",
   "execution_count": 2,
   "metadata": {},
   "outputs": [
    {
     "data": {
      "text/plain": [
       "['unique_zips_full_footprint',\n",
       " 'view_by_TA',\n",
       " 'view_by_store',\n",
       " 'view_for_Tableau']"
      ]
     },
     "execution_count": 2,
     "metadata": {},
     "output_type": "execute_result"
    }
   ],
   "source": [
    "File_Excel=pd.ExcelFile(\"/home/jian/Projects/Big_Lots/New_TA/TA_created_in_201906/final_output_20190718/BL_final_TA_updated_JL_2019-07-18.xlsx\")\n",
    "File_Excel.sheet_names"
   ]
  },
  {
   "cell_type": "code",
   "execution_count": 3,
   "metadata": {},
   "outputs": [
    {
     "name": "stdout",
     "output_type": "stream",
     "text": [
      "1408\n"
     ]
    }
   ],
   "source": [
    "df_old_view_by_store=File_Excel.parse(\"view_by_store\",dtype=str)\n",
    "print(len(df_old_view_by_store))\n",
    "df_old_view_by_zip_store=File_Excel.parse(\"view_for_Tableau\",dtype=str)\n",
    "# df_old_view_by_TA=File_Excel.parse(\"view_for_Tableau\",dtype=str)\n",
    "# To aggregate from new\n"
   ]
  },
  {
   "cell_type": "code",
   "execution_count": 4,
   "metadata": {},
   "outputs": [
    {
     "data": {
      "text/html": [
       "<div>\n",
       "<style scoped>\n",
       "    .dataframe tbody tr th:only-of-type {\n",
       "        vertical-align: middle;\n",
       "    }\n",
       "\n",
       "    .dataframe tbody tr th {\n",
       "        vertical-align: top;\n",
       "    }\n",
       "\n",
       "    .dataframe thead th {\n",
       "        text-align: right;\n",
       "    }\n",
       "</style>\n",
       "<table border=\"1\" class=\"dataframe\">\n",
       "  <thead>\n",
       "    <tr style=\"text-align: right;\">\n",
       "      <th></th>\n",
       "      <th>TA_num</th>\n",
       "      <th>ta_name</th>\n",
       "      <th>location_id</th>\n",
       "      <th>address_line_1</th>\n",
       "      <th>address_line_2</th>\n",
       "      <th>zip_cd</th>\n",
       "      <th>city_nm</th>\n",
       "      <th>state_nm</th>\n",
       "      <th>latitude_meas</th>\n",
       "      <th>longitude_meas</th>\n",
       "      <th>DMA</th>\n",
       "      <th>CTY</th>\n",
       "      <th>all_trans_P_zips</th>\n",
       "      <th>all_trans_S_zips</th>\n",
       "      <th>zips_in_10</th>\n",
       "      <th>trans_P_zips_70_within_TA</th>\n",
       "      <th>trans_S_zips_70_within_TA</th>\n",
       "    </tr>\n",
       "  </thead>\n",
       "  <tbody>\n",
       "    <tr>\n",
       "      <th>0</th>\n",
       "      <td>1</td>\n",
       "      <td>multiple_1</td>\n",
       "      <td>1949</td>\n",
       "      <td>3178 LAVON DR</td>\n",
       "      <td>NaN</td>\n",
       "      <td>75040</td>\n",
       "      <td>GARLAND</td>\n",
       "      <td>TX</td>\n",
       "      <td>32.945015</td>\n",
       "      <td>-96.619194</td>\n",
       "      <td>{'DALLAS-FT. WORTH'}</td>\n",
       "      <td>{'DALLAS'}</td>\n",
       "      <td>['75040', '75044', '75048', '75098']</td>\n",
       "      <td>['75089', '75042', '75043', '75041', '75088', ...</td>\n",
       "      <td>[]</td>\n",
       "      <td>['75040', '75098', '75044', '75048']</td>\n",
       "      <td>['75088', '75042', '75082', '75043', '75089', ...</td>\n",
       "    </tr>\n",
       "    <tr>\n",
       "      <th>1</th>\n",
       "      <td>1</td>\n",
       "      <td>multiple_1</td>\n",
       "      <td>1255</td>\n",
       "      <td>1418 W MOORE AVE</td>\n",
       "      <td>NaN</td>\n",
       "      <td>75160</td>\n",
       "      <td>TERRELL</td>\n",
       "      <td>TX</td>\n",
       "      <td>32.738772</td>\n",
       "      <td>-96.299877</td>\n",
       "      <td>{'DALLAS-FT. WORTH'}</td>\n",
       "      <td>{'HUNT', 'KAUFMAN', 'ROCKWALL'}</td>\n",
       "      <td>['75160', '75126', '75161']</td>\n",
       "      <td>['75142', '75169', '75474', '75143', '75114', ...</td>\n",
       "      <td>[]</td>\n",
       "      <td>['75126', '75161', '75160']</td>\n",
       "      <td>['75142', '75169', '75150', '75117', '75143', ...</td>\n",
       "    </tr>\n",
       "  </tbody>\n",
       "</table>\n",
       "</div>"
      ],
      "text/plain": [
       "  TA_num     ta_name location_id    address_line_1 address_line_2 zip_cd  \\\n",
       "0      1  multiple_1        1949     3178 LAVON DR            NaN  75040   \n",
       "1      1  multiple_1        1255  1418 W MOORE AVE            NaN  75160   \n",
       "\n",
       "   city_nm state_nm latitude_meas longitude_meas                   DMA  \\\n",
       "0  GARLAND       TX     32.945015     -96.619194  {'DALLAS-FT. WORTH'}   \n",
       "1  TERRELL       TX     32.738772     -96.299877  {'DALLAS-FT. WORTH'}   \n",
       "\n",
       "                               CTY                      all_trans_P_zips  \\\n",
       "0                       {'DALLAS'}  ['75040', '75044', '75048', '75098']   \n",
       "1  {'HUNT', 'KAUFMAN', 'ROCKWALL'}           ['75160', '75126', '75161']   \n",
       "\n",
       "                                    all_trans_S_zips zips_in_10  \\\n",
       "0  ['75089', '75042', '75043', '75041', '75088', ...         []   \n",
       "1  ['75142', '75169', '75474', '75143', '75114', ...         []   \n",
       "\n",
       "              trans_P_zips_70_within_TA  \\\n",
       "0  ['75040', '75098', '75044', '75048']   \n",
       "1           ['75126', '75161', '75160']   \n",
       "\n",
       "                           trans_S_zips_70_within_TA  \n",
       "0  ['75088', '75042', '75082', '75043', '75089', ...  \n",
       "1  ['75142', '75169', '75150', '75117', '75143', ...  "
      ]
     },
     "execution_count": 4,
     "metadata": {},
     "output_type": "execute_result"
    }
   ],
   "source": [
    "df_old_view_by_store.head(2)"
   ]
  },
  {
   "cell_type": "code",
   "execution_count": 5,
   "metadata": {},
   "outputs": [
    {
     "name": "stdout",
     "output_type": "stream",
     "text": [
      "(30, 3)\n"
     ]
    },
    {
     "name": "stderr",
     "output_type": "stream",
     "text": [
      "/home/jian/.local/lib/python3.6/site-packages/ipykernel_launcher.py:9: SettingWithCopyWarning: \n",
      "A value is trying to be set on a copy of a slice from a DataFrame.\n",
      "Try using .loc[row_indexer,col_indexer] = value instead\n",
      "\n",
      "See the caveats in the documentation: http://pandas.pydata.org/pandas-docs/stable/user_guide/indexing.html#returning-a-view-versus-a-copy\n",
      "  if __name__ == '__main__':\n"
     ]
    }
   ],
   "source": [
    "store_list=pd.read_table(\"/home/jian/BigLots/static_files/Store_list/MediaStormStores20200101-135601-098.txt\",\n",
    "                         dtype=str,sep=\"|\",usecols=['location_id','latitude_meas','longitude_meas'])\n",
    "store_list=store_list[store_list['location_id']!=\"6990\"]\n",
    "store_list=store_list[store_list['location_id']!=\"145\"]\n",
    "store_list['latitude_meas']=store_list['latitude_meas'].astype(float)\n",
    "store_list['longitude_meas']=store_list['longitude_meas'].astype(float)\n",
    "df_new_stores=store_list[~store_list['location_id'].isin(df_old_view_by_store['location_id'].tolist())]\n",
    "print(df_new_stores.shape)\n",
    "df_new_stores['store_location']=df_new_stores[['latitude_meas','longitude_meas']].values.tolist()\n",
    "dict_new_stores=df_new_stores.set_index(\"location_id\").to_dict()['store_location']"
   ]
  },
  {
   "cell_type": "code",
   "execution_count": 6,
   "metadata": {},
   "outputs": [],
   "source": [
    "import json\n",
    "from haversine import haversine\n",
    "zip_centers=json.load(open(\"/home/jian/Docs/Geo_mapping/updated_zip_centers_JL_2019-05-23.json\",\"r\"))\n",
    "\n",
    "df_new_store_zip=pd.DataFrame()\n",
    "for location_id,store_center in dict_new_stores.items():\n",
    "    zip_list_store=[]\n",
    "    for z, z_c in zip_centers.items():\n",
    "        if haversine(store_center,z_c,unit=\"mi\")<=10:\n",
    "            zip_list_store.append(z)\n",
    "    df_new_store_zip=df_new_store_zip.append(pd.DataFrame({\"location_id\":[location_id]*len(zip_list_store),\"zip_cd\":zip_list_store}))\n",
    "\n",
    "\n",
    "df_new_store_zip['zip_type']=\"zips_10\""
   ]
  },
  {
   "cell_type": "code",
   "execution_count": 7,
   "metadata": {},
   "outputs": [
    {
     "data": {
      "text/html": [
       "<div>\n",
       "<style scoped>\n",
       "    .dataframe tbody tr th:only-of-type {\n",
       "        vertical-align: middle;\n",
       "    }\n",
       "\n",
       "    .dataframe tbody tr th {\n",
       "        vertical-align: top;\n",
       "    }\n",
       "\n",
       "    .dataframe thead th {\n",
       "        text-align: right;\n",
       "    }\n",
       "</style>\n",
       "<table border=\"1\" class=\"dataframe\">\n",
       "  <thead>\n",
       "    <tr style=\"text-align: right;\">\n",
       "      <th></th>\n",
       "      <th>location_id</th>\n",
       "      <th>zip_cd</th>\n",
       "      <th>zip_type</th>\n",
       "    </tr>\n",
       "  </thead>\n",
       "  <tbody>\n",
       "    <tr>\n",
       "      <th>0</th>\n",
       "      <td>4679</td>\n",
       "      <td>48919</td>\n",
       "      <td>zips_10</td>\n",
       "    </tr>\n",
       "    <tr>\n",
       "      <th>1</th>\n",
       "      <td>4679</td>\n",
       "      <td>48912</td>\n",
       "      <td>zips_10</td>\n",
       "    </tr>\n",
       "  </tbody>\n",
       "</table>\n",
       "</div>"
      ],
      "text/plain": [
       "  location_id zip_cd zip_type\n",
       "0        4679  48919  zips_10\n",
       "1        4679  48912  zips_10"
      ]
     },
     "execution_count": 7,
     "metadata": {},
     "output_type": "execute_result"
    }
   ],
   "source": [
    "df_new_store_zip.head(2)"
   ]
  },
  {
   "cell_type": "code",
   "execution_count": 8,
   "metadata": {},
   "outputs": [
    {
     "name": "stdout",
     "output_type": "stream",
     "text": [
      "18\n"
     ]
    }
   ],
   "source": [
    "closed_stores=[x for x in df_old_view_by_store['location_id'].tolist() if x not in store_list['location_id'].tolist()]\n",
    "print(len(closed_stores))\n",
    "# closed_stores"
   ]
  },
  {
   "cell_type": "code",
   "execution_count": 9,
   "metadata": {},
   "outputs": [
    {
     "name": "stdout",
     "output_type": "stream",
     "text": [
      "1390\n"
     ]
    },
    {
     "data": {
      "text/html": [
       "<div>\n",
       "<style scoped>\n",
       "    .dataframe tbody tr th:only-of-type {\n",
       "        vertical-align: middle;\n",
       "    }\n",
       "\n",
       "    .dataframe tbody tr th {\n",
       "        vertical-align: top;\n",
       "    }\n",
       "\n",
       "    .dataframe thead th {\n",
       "        text-align: right;\n",
       "    }\n",
       "</style>\n",
       "<table border=\"1\" class=\"dataframe\">\n",
       "  <thead>\n",
       "    <tr style=\"text-align: right;\">\n",
       "      <th></th>\n",
       "      <th>TA_num</th>\n",
       "      <th>ta_name</th>\n",
       "      <th>location_id</th>\n",
       "      <th>address_line_1</th>\n",
       "      <th>address_line_2</th>\n",
       "      <th>zip_cd</th>\n",
       "      <th>city_nm</th>\n",
       "      <th>state_nm</th>\n",
       "      <th>latitude_meas</th>\n",
       "      <th>longitude_meas</th>\n",
       "      <th>zips_in_10</th>\n",
       "      <th>trans_P_zips_70_within_TA</th>\n",
       "      <th>trans_S_zips_70_within_TA</th>\n",
       "    </tr>\n",
       "  </thead>\n",
       "  <tbody>\n",
       "    <tr>\n",
       "      <th>0</th>\n",
       "      <td>1</td>\n",
       "      <td>multiple_1</td>\n",
       "      <td>1949</td>\n",
       "      <td>3178 LAVON DR</td>\n",
       "      <td>NaN</td>\n",
       "      <td>75040</td>\n",
       "      <td>GARLAND</td>\n",
       "      <td>TX</td>\n",
       "      <td>32.945015</td>\n",
       "      <td>-96.619194</td>\n",
       "      <td>[]</td>\n",
       "      <td>['75040', '75098', '75044', '75048']</td>\n",
       "      <td>['75088', '75042', '75082', '75043', '75089', ...</td>\n",
       "    </tr>\n",
       "    <tr>\n",
       "      <th>1</th>\n",
       "      <td>1</td>\n",
       "      <td>multiple_1</td>\n",
       "      <td>1255</td>\n",
       "      <td>1418 W MOORE AVE</td>\n",
       "      <td>NaN</td>\n",
       "      <td>75160</td>\n",
       "      <td>TERRELL</td>\n",
       "      <td>TX</td>\n",
       "      <td>32.738772</td>\n",
       "      <td>-96.299877</td>\n",
       "      <td>[]</td>\n",
       "      <td>['75126', '75161', '75160']</td>\n",
       "      <td>['75142', '75169', '75150', '75117', '75143', ...</td>\n",
       "    </tr>\n",
       "  </tbody>\n",
       "</table>\n",
       "</div>"
      ],
      "text/plain": [
       "   TA_num     ta_name location_id    address_line_1 address_line_2 zip_cd  \\\n",
       "0       1  multiple_1        1949     3178 LAVON DR            NaN  75040   \n",
       "1       1  multiple_1        1255  1418 W MOORE AVE            NaN  75160   \n",
       "\n",
       "   city_nm state_nm latitude_meas longitude_meas zips_in_10  \\\n",
       "0  GARLAND       TX     32.945015     -96.619194         []   \n",
       "1  TERRELL       TX     32.738772     -96.299877         []   \n",
       "\n",
       "              trans_P_zips_70_within_TA  \\\n",
       "0  ['75040', '75098', '75044', '75048']   \n",
       "1           ['75126', '75161', '75160']   \n",
       "\n",
       "                           trans_S_zips_70_within_TA  \n",
       "0  ['75088', '75042', '75082', '75043', '75089', ...  \n",
       "1  ['75142', '75169', '75150', '75117', '75143', ...  "
      ]
     },
     "execution_count": 9,
     "metadata": {},
     "output_type": "execute_result"
    }
   ],
   "source": [
    "df_new_view_by_store_0=df_old_view_by_store[~df_old_view_by_store['location_id'].isin(closed_stores)]\n",
    "print(len(df_new_view_by_store_0))\n",
    "df_new_view_by_store_0=df_new_view_by_store_0[['TA_num','ta_name','location_id','address_line_1','address_line_2',\n",
    "                                               'zip_cd','city_nm','state_nm','latitude_meas','longitude_meas',\n",
    "                                               'zips_in_10','trans_P_zips_70_within_TA','trans_S_zips_70_within_TA']]\n",
    "df_new_view_by_store_0['TA_num']=df_new_view_by_store_0['TA_num'].astype(int)\n",
    "df_new_view_by_store_0.head(2)"
   ]
  },
  {
   "cell_type": "code",
   "execution_count": 10,
   "metadata": {},
   "outputs": [
    {
     "data": {
      "text/html": [
       "<div>\n",
       "<style scoped>\n",
       "    .dataframe tbody tr th:only-of-type {\n",
       "        vertical-align: middle;\n",
       "    }\n",
       "\n",
       "    .dataframe tbody tr th {\n",
       "        vertical-align: top;\n",
       "    }\n",
       "\n",
       "    .dataframe thead th {\n",
       "        text-align: right;\n",
       "    }\n",
       "</style>\n",
       "<table border=\"1\" class=\"dataframe\">\n",
       "  <thead>\n",
       "    <tr style=\"text-align: right;\">\n",
       "      <th></th>\n",
       "      <th>TA_num</th>\n",
       "      <th>ta_name</th>\n",
       "      <th>location_id</th>\n",
       "      <th>address_line_1</th>\n",
       "      <th>address_line_2</th>\n",
       "      <th>zip_cd</th>\n",
       "      <th>city_nm</th>\n",
       "      <th>state_nm</th>\n",
       "      <th>latitude_meas</th>\n",
       "      <th>longitude_meas</th>\n",
       "      <th>zips_in_10</th>\n",
       "      <th>trans_P_zips_70_within_TA</th>\n",
       "      <th>trans_S_zips_70_within_TA</th>\n",
       "    </tr>\n",
       "  </thead>\n",
       "  <tbody>\n",
       "    <tr>\n",
       "      <th>0</th>\n",
       "      <td>1</td>\n",
       "      <td>multiple_1</td>\n",
       "      <td>1949</td>\n",
       "      <td>3178 LAVON DR</td>\n",
       "      <td>NaN</td>\n",
       "      <td>75040</td>\n",
       "      <td>GARLAND</td>\n",
       "      <td>TX</td>\n",
       "      <td>32.945015</td>\n",
       "      <td>-96.619194</td>\n",
       "      <td>[]</td>\n",
       "      <td>['75040', '75098', '75044', '75048']</td>\n",
       "      <td>['75088', '75042', '75082', '75043', '75089', ...</td>\n",
       "    </tr>\n",
       "    <tr>\n",
       "      <th>1</th>\n",
       "      <td>1</td>\n",
       "      <td>multiple_1</td>\n",
       "      <td>1255</td>\n",
       "      <td>1418 W MOORE AVE</td>\n",
       "      <td>NaN</td>\n",
       "      <td>75160</td>\n",
       "      <td>TERRELL</td>\n",
       "      <td>TX</td>\n",
       "      <td>32.738772</td>\n",
       "      <td>-96.299877</td>\n",
       "      <td>[]</td>\n",
       "      <td>['75126', '75161', '75160']</td>\n",
       "      <td>['75142', '75169', '75150', '75117', '75143', ...</td>\n",
       "    </tr>\n",
       "  </tbody>\n",
       "</table>\n",
       "</div>"
      ],
      "text/plain": [
       "   TA_num     ta_name location_id    address_line_1 address_line_2 zip_cd  \\\n",
       "0       1  multiple_1        1949     3178 LAVON DR            NaN  75040   \n",
       "1       1  multiple_1        1255  1418 W MOORE AVE            NaN  75160   \n",
       "\n",
       "   city_nm state_nm latitude_meas longitude_meas zips_in_10  \\\n",
       "0  GARLAND       TX     32.945015     -96.619194         []   \n",
       "1  TERRELL       TX     32.738772     -96.299877         []   \n",
       "\n",
       "              trans_P_zips_70_within_TA  \\\n",
       "0  ['75040', '75098', '75044', '75048']   \n",
       "1           ['75126', '75161', '75160']   \n",
       "\n",
       "                           trans_S_zips_70_within_TA  \n",
       "0  ['75088', '75042', '75082', '75043', '75089', ...  \n",
       "1  ['75142', '75169', '75150', '75117', '75143', ...  "
      ]
     },
     "execution_count": 10,
     "metadata": {},
     "output_type": "execute_result"
    }
   ],
   "source": [
    "df_new_view_by_store_0.head(2)"
   ]
  },
  {
   "cell_type": "code",
   "execution_count": 11,
   "metadata": {},
   "outputs": [
    {
     "data": {
      "text/html": [
       "<div>\n",
       "<style scoped>\n",
       "    .dataframe tbody tr th:only-of-type {\n",
       "        vertical-align: middle;\n",
       "    }\n",
       "\n",
       "    .dataframe tbody tr th {\n",
       "        vertical-align: top;\n",
       "    }\n",
       "\n",
       "    .dataframe thead th {\n",
       "        text-align: right;\n",
       "    }\n",
       "</style>\n",
       "<table border=\"1\" class=\"dataframe\">\n",
       "  <thead>\n",
       "    <tr style=\"text-align: right;\">\n",
       "      <th></th>\n",
       "      <th>TA_num</th>\n",
       "      <th>ta_name</th>\n",
       "      <th>location_id</th>\n",
       "      <th>address_line_1</th>\n",
       "      <th>address_line_2</th>\n",
       "      <th>zip_cd</th>\n",
       "      <th>city_nm</th>\n",
       "      <th>state_nm</th>\n",
       "      <th>latitude_meas</th>\n",
       "      <th>longitude_meas</th>\n",
       "      <th>zips_in_10</th>\n",
       "      <th>trans_P_zips_70_within_TA</th>\n",
       "      <th>trans_S_zips_70_within_TA</th>\n",
       "    </tr>\n",
       "  </thead>\n",
       "  <tbody>\n",
       "    <tr>\n",
       "      <th>0</th>\n",
       "      <td>707</td>\n",
       "      <td>new_1</td>\n",
       "      <td>4678</td>\n",
       "      <td>3501 E LINCOLNWAY</td>\n",
       "      <td>NaN</td>\n",
       "      <td>82001-6302</td>\n",
       "      <td>CHEYENNE</td>\n",
       "      <td>WY</td>\n",
       "      <td>41.137076</td>\n",
       "      <td>-104.767025</td>\n",
       "      <td>['82001', '82009', '82007', '82003', '82005', ...</td>\n",
       "      <td>[]</td>\n",
       "      <td>[]</td>\n",
       "    </tr>\n",
       "    <tr>\n",
       "      <th>1</th>\n",
       "      <td>708</td>\n",
       "      <td>new_2</td>\n",
       "      <td>4679</td>\n",
       "      <td>2020 GRAND RIVER AVE</td>\n",
       "      <td>NaN</td>\n",
       "      <td>48864-1776</td>\n",
       "      <td>OKEMOS</td>\n",
       "      <td>MI</td>\n",
       "      <td>42.723314</td>\n",
       "      <td>-84.424187</td>\n",
       "      <td>['48919', '48912', '48930', '48933', '48937', ...</td>\n",
       "      <td>[]</td>\n",
       "      <td>[]</td>\n",
       "    </tr>\n",
       "  </tbody>\n",
       "</table>\n",
       "</div>"
      ],
      "text/plain": [
       "  TA_num ta_name location_id        address_line_1 address_line_2      zip_cd  \\\n",
       "0    707   new_1        4678     3501 E LINCOLNWAY            NaN  82001-6302   \n",
       "1    708   new_2        4679  2020 GRAND RIVER AVE            NaN  48864-1776   \n",
       "\n",
       "    city_nm state_nm  latitude_meas  longitude_meas  \\\n",
       "0  CHEYENNE       WY      41.137076     -104.767025   \n",
       "1    OKEMOS       MI      42.723314      -84.424187   \n",
       "\n",
       "                                          zips_in_10  \\\n",
       "0  ['82001', '82009', '82007', '82003', '82005', ...   \n",
       "1  ['48919', '48912', '48930', '48933', '48937', ...   \n",
       "\n",
       "  trans_P_zips_70_within_TA trans_S_zips_70_within_TA  \n",
       "0                        []                        []  \n",
       "1                        []                        []  "
      ]
     },
     "execution_count": 11,
     "metadata": {},
     "output_type": "execute_result"
    }
   ],
   "source": [
    "df_new_view_by_store_1=df_new_store_zip.groupby(\"location_id\")['zip_cd'].apply(list).to_frame().reset_index()\n",
    "df_new_view_by_store_1['zip_cd']=df_new_view_by_store_1['zip_cd'].astype(str)\n",
    "df_new_view_by_store_1=df_new_view_by_store_1.rename(columns={\"zip_cd\":\"zips_in_10\"})\n",
    "df_new_view_by_store_1.head(2)\n",
    "\n",
    "store_list_copy=pd.read_table(\"/home/jian/BigLots/static_files/Store_list/MediaStormStores20200101-135601-098.txt\",\n",
    "                         dtype=str,sep=\"|\")\n",
    "                         \n",
    "store_list_copy=store_list_copy[[x for x in df_new_view_by_store_0.columns.tolist() if x in store_list_copy.columns.tolist()]]\n",
    "store_list_copy['latitude_meas']=store_list_copy['latitude_meas'].astype(float)\n",
    "store_list_copy['longitude_meas']=store_list_copy['longitude_meas'].astype(float)\n",
    "df_new_view_by_store_1=pd.merge(df_new_view_by_store_1,store_list_copy,on=\"location_id\",how=\"left\")\n",
    "df_new_view_by_store_1['ta_name']=[\"new_\"+str(i+1) for i in range(len(df_new_view_by_store_1))]\n",
    "df_new_view_by_store_1['TA_num']=[str(i+1+max(df_new_view_by_store_0['TA_num'])) for i in range(len(df_new_view_by_store_1))]\n",
    "df_new_view_by_store_1['trans_P_zips_70_within_TA']=\"[]\"\n",
    "df_new_view_by_store_1['trans_S_zips_70_within_TA']=\"[]\"\n",
    "df_new_view_by_store_1=df_new_view_by_store_1[df_new_view_by_store_0.columns.tolist()]\n",
    "df_new_view_by_store_1.head(2)"
   ]
  },
  {
   "cell_type": "code",
   "execution_count": 12,
   "metadata": {},
   "outputs": [],
   "source": [
    "df_new_view_by_store=df_new_view_by_store_0.append(df_new_view_by_store_1)\n",
    "\n",
    "del df_new_view_by_store_0\n",
    "del df_new_view_by_store_1"
   ]
  },
  {
   "cell_type": "code",
   "execution_count": 13,
   "metadata": {},
   "outputs": [],
   "source": [
    "df_new_view_by_store['zips_in_10']=df_new_view_by_store['zips_in_10'].astype(str)\n",
    "df_new_view_by_store['trans_P_zips_70_within_TA']=df_new_view_by_store['trans_P_zips_70_within_TA'].astype(str)\n",
    "df_new_view_by_store['trans_S_zips_70_within_TA']=df_new_view_by_store['trans_S_zips_70_within_TA'].astype(str)\n"
   ]
  },
  {
   "cell_type": "code",
   "execution_count": 14,
   "metadata": {},
   "outputs": [
    {
     "data": {
      "text/html": [
       "<div>\n",
       "<style scoped>\n",
       "    .dataframe tbody tr th:only-of-type {\n",
       "        vertical-align: middle;\n",
       "    }\n",
       "\n",
       "    .dataframe tbody tr th {\n",
       "        vertical-align: top;\n",
       "    }\n",
       "\n",
       "    .dataframe thead th {\n",
       "        text-align: right;\n",
       "    }\n",
       "</style>\n",
       "<table border=\"1\" class=\"dataframe\">\n",
       "  <thead>\n",
       "    <tr style=\"text-align: right;\">\n",
       "      <th></th>\n",
       "      <th>TA_num</th>\n",
       "      <th>location_id</th>\n",
       "      <th>ta_name</th>\n",
       "      <th>zip_cd</th>\n",
       "      <th>zip_type</th>\n",
       "      <th>latitude_meas</th>\n",
       "      <th>longitude_meas</th>\n",
       "    </tr>\n",
       "  </thead>\n",
       "  <tbody>\n",
       "    <tr>\n",
       "      <th>0</th>\n",
       "      <td>1</td>\n",
       "      <td>1949</td>\n",
       "      <td>multiple_1</td>\n",
       "      <td>75040</td>\n",
       "      <td>trans_P</td>\n",
       "      <td>32.945015</td>\n",
       "      <td>-96.619194</td>\n",
       "    </tr>\n",
       "    <tr>\n",
       "      <th>1</th>\n",
       "      <td>1</td>\n",
       "      <td>1949</td>\n",
       "      <td>multiple_1</td>\n",
       "      <td>75098</td>\n",
       "      <td>trans_P</td>\n",
       "      <td>32.945015</td>\n",
       "      <td>-96.619194</td>\n",
       "    </tr>\n",
       "  </tbody>\n",
       "</table>\n",
       "</div>"
      ],
      "text/plain": [
       "  TA_num location_id     ta_name zip_cd zip_type latitude_meas longitude_meas\n",
       "0      1        1949  multiple_1  75040  trans_P     32.945015     -96.619194\n",
       "1      1        1949  multiple_1  75098  trans_P     32.945015     -96.619194"
      ]
     },
     "execution_count": 14,
     "metadata": {},
     "output_type": "execute_result"
    }
   ],
   "source": [
    "df_old_view_by_zip_store.head(2)"
   ]
  },
  {
   "cell_type": "code",
   "execution_count": 15,
   "metadata": {},
   "outputs": [
    {
     "name": "stdout",
     "output_type": "stream",
     "text": [
      "23634\n"
     ]
    }
   ],
   "source": [
    "df_new_view_by_zip_store=pd.DataFrame()\n",
    "\n",
    "for ind,row in df_new_view_by_store.iterrows():\n",
    "    df_P=pd.DataFrame({\"zip_cd\":eval(row['trans_P_zips_70_within_TA'])})\n",
    "    df_S=pd.DataFrame({\"zip_cd\":eval(row['trans_S_zips_70_within_TA'])})\n",
    "    df_10=pd.DataFrame({\"zip_cd\":eval(row['zips_in_10'])})\n",
    "    df_P['location_id']=row['location_id']\n",
    "    df_P['zip_type']=\"trans_P\"\n",
    "    \n",
    "    df_S['location_id']=row['location_id']\n",
    "    df_S['zip_type']=\"trans_S\"\n",
    "    \n",
    "    df_10['location_id']=row['location_id']\n",
    "    df_10['zip_type']=\"zips_10\"\n",
    "    \n",
    "    df_zips_by_store=df_P.append(df_S).append(df_10)\n",
    "    \n",
    "    df_zips_by_store['TA_num']=row['TA_num']\n",
    "    df_zips_by_store['location_id']=row['location_id']\n",
    "    df_zips_by_store['ta_name']=row['ta_name']\n",
    "    df_zips_by_store['latitude_meas']=row['latitude_meas']\n",
    "    df_zips_by_store['longitude_meas']=row['longitude_meas']\n",
    "    \n",
    "    df_new_view_by_zip_store=df_new_view_by_zip_store.append(df_zips_by_store)\n",
    "    \n",
    "df_new_view_by_zip_store=df_new_view_by_zip_store[df_old_view_by_zip_store.columns.tolist()]\n",
    "print(len(df_new_view_by_zip_store))"
   ]
  },
  {
   "cell_type": "code",
   "execution_count": 16,
   "metadata": {},
   "outputs": [],
   "source": [
    "df_new_view_by_zip_store_copy=df_new_view_by_zip_store.copy()\n",
    "df_new_view_by_zip_store_copy=df_new_view_by_zip_store_copy.sort_values(['TA_num','ta_name','zip_type'])\n",
    "df_new_view_by_zip_store_copy=df_new_view_by_zip_store_copy.drop_duplicates(['TA_num','ta_name','zip_cd'])\n"
   ]
  },
  {
   "cell_type": "code",
   "execution_count": 17,
   "metadata": {},
   "outputs": [
    {
     "data": {
      "text/html": [
       "<div>\n",
       "<style scoped>\n",
       "    .dataframe tbody tr th:only-of-type {\n",
       "        vertical-align: middle;\n",
       "    }\n",
       "\n",
       "    .dataframe tbody tr th {\n",
       "        vertical-align: top;\n",
       "    }\n",
       "\n",
       "    .dataframe thead th {\n",
       "        text-align: right;\n",
       "    }\n",
       "</style>\n",
       "<table border=\"1\" class=\"dataframe\">\n",
       "  <thead>\n",
       "    <tr style=\"text-align: right;\">\n",
       "      <th></th>\n",
       "      <th>TA_num</th>\n",
       "      <th>location_id</th>\n",
       "      <th>ta_name</th>\n",
       "      <th>zip_cd</th>\n",
       "      <th>zip_type</th>\n",
       "      <th>latitude_meas</th>\n",
       "      <th>longitude_meas</th>\n",
       "    </tr>\n",
       "  </thead>\n",
       "  <tbody>\n",
       "    <tr>\n",
       "      <th>21</th>\n",
       "      <td>736</td>\n",
       "      <td>5411</td>\n",
       "      <td>new_30</td>\n",
       "      <td>23661</td>\n",
       "      <td>zips_10</td>\n",
       "      <td>37.0396</td>\n",
       "      <td>-76.4059</td>\n",
       "    </tr>\n",
       "    <tr>\n",
       "      <th>22</th>\n",
       "      <td>736</td>\n",
       "      <td>5411</td>\n",
       "      <td>new_30</td>\n",
       "      <td>23666</td>\n",
       "      <td>zips_10</td>\n",
       "      <td>37.0396</td>\n",
       "      <td>-76.4059</td>\n",
       "    </tr>\n",
       "    <tr>\n",
       "      <th>23</th>\n",
       "      <td>736</td>\n",
       "      <td>5411</td>\n",
       "      <td>new_30</td>\n",
       "      <td>23668</td>\n",
       "      <td>zips_10</td>\n",
       "      <td>37.0396</td>\n",
       "      <td>-76.4059</td>\n",
       "    </tr>\n",
       "    <tr>\n",
       "      <th>24</th>\n",
       "      <td>736</td>\n",
       "      <td>5411</td>\n",
       "      <td>new_30</td>\n",
       "      <td>23681</td>\n",
       "      <td>zips_10</td>\n",
       "      <td>37.0396</td>\n",
       "      <td>-76.4059</td>\n",
       "    </tr>\n",
       "    <tr>\n",
       "      <th>25</th>\n",
       "      <td>736</td>\n",
       "      <td>5411</td>\n",
       "      <td>new_30</td>\n",
       "      <td>23612</td>\n",
       "      <td>zips_10</td>\n",
       "      <td>37.0396</td>\n",
       "      <td>-76.4059</td>\n",
       "    </tr>\n",
       "  </tbody>\n",
       "</table>\n",
       "</div>"
      ],
      "text/plain": [
       "   TA_num location_id ta_name zip_cd zip_type latitude_meas longitude_meas\n",
       "21    736        5411  new_30  23661  zips_10       37.0396       -76.4059\n",
       "22    736        5411  new_30  23666  zips_10       37.0396       -76.4059\n",
       "23    736        5411  new_30  23668  zips_10       37.0396       -76.4059\n",
       "24    736        5411  new_30  23681  zips_10       37.0396       -76.4059\n",
       "25    736        5411  new_30  23612  zips_10       37.0396       -76.4059"
      ]
     },
     "execution_count": 17,
     "metadata": {},
     "output_type": "execute_result"
    }
   ],
   "source": [
    "df_new_view_by_zip_store_copy.tail(5)"
   ]
  },
  {
   "cell_type": "code",
   "execution_count": 18,
   "metadata": {},
   "outputs": [
    {
     "data": {
      "text/html": [
       "<div>\n",
       "<style scoped>\n",
       "    .dataframe tbody tr th:only-of-type {\n",
       "        vertical-align: middle;\n",
       "    }\n",
       "\n",
       "    .dataframe tbody tr th {\n",
       "        vertical-align: top;\n",
       "    }\n",
       "\n",
       "    .dataframe thead th {\n",
       "        text-align: right;\n",
       "    }\n",
       "</style>\n",
       "<table border=\"1\" class=\"dataframe\">\n",
       "  <thead>\n",
       "    <tr style=\"text-align: right;\">\n",
       "      <th></th>\n",
       "      <th>TA_num</th>\n",
       "      <th>ta_name</th>\n",
       "      <th>location_id</th>\n",
       "      <th>zip_cd</th>\n",
       "      <th>store_count</th>\n",
       "      <th>zip_count</th>\n",
       "      <th>list_P_zips</th>\n",
       "      <th>list_S_zips</th>\n",
       "      <th>list_10_zips</th>\n",
       "    </tr>\n",
       "  </thead>\n",
       "  <tbody>\n",
       "    <tr>\n",
       "      <th>0</th>\n",
       "      <td>1</td>\n",
       "      <td>multiple_1</td>\n",
       "      <td>{1624, 1179, 4140, 1860, 4134, 1255, 1027, 409...</td>\n",
       "      <td>{75180, 75409, 75474, 76078, 75169, 75052, 750...</td>\n",
       "      <td>21</td>\n",
       "      <td>187</td>\n",
       "      <td>{'75228', '75161', '75043', '75074', '75056', ...</td>\n",
       "      <td>{'75180', '75409', '75474', '76078', '75169', ...</td>\n",
       "      <td>[]</td>\n",
       "    </tr>\n",
       "    <tr>\n",
       "      <th>1</th>\n",
       "      <td>2</td>\n",
       "      <td>multiple_2</td>\n",
       "      <td>{1668, 77, 410, 1379, 5092, 122, 1666, 1079, 5...</td>\n",
       "      <td>{43319, 43334, 43358, 43064, 44903, 43318, 432...</td>\n",
       "      <td>16</td>\n",
       "      <td>120</td>\n",
       "      <td>{'43035', '43040', '43215', '43229', '43762', ...</td>\n",
       "      <td>{'43045', '43319', '43222', '43326', '43749', ...</td>\n",
       "      <td>[]</td>\n",
       "    </tr>\n",
       "    <tr>\n",
       "      <th>2</th>\n",
       "      <td>3</td>\n",
       "      <td>multiple_3</td>\n",
       "      <td>{353, 5255, 1205, 310, 1797, 5325, 1845, 1078,...</td>\n",
       "      <td>{37051, 37334, 37221, 37215, 37083, 37330, 370...</td>\n",
       "      <td>16</td>\n",
       "      <td>122</td>\n",
       "      <td>{'37221', '37205', '37167', '37036', '37015', ...</td>\n",
       "      <td>{'37135', '37051', '37030', '37101', '37048', ...</td>\n",
       "      <td>[]</td>\n",
       "    </tr>\n",
       "    <tr>\n",
       "      <th>3</th>\n",
       "      <td>4</td>\n",
       "      <td>multiple_4</td>\n",
       "      <td>{1643, 315, 5119, 1588, 5276, 5237, 1138, 1521...</td>\n",
       "      <td>{28144, 28032, 28092, 28682, 27295, 29210, 282...</td>\n",
       "      <td>16</td>\n",
       "      <td>125</td>\n",
       "      <td>{'28144', '28016', '28104', '28277', '28270', ...</td>\n",
       "      <td>{'29706', '28032', '28164', '28088', '29704', ...</td>\n",
       "      <td>[]</td>\n",
       "    </tr>\n",
       "    <tr>\n",
       "      <th>4</th>\n",
       "      <td>5</td>\n",
       "      <td>multiple_5</td>\n",
       "      <td>{4321, 4051, 4291, 4688, 4045, 1995, 4169, 425...</td>\n",
       "      <td>{92336, 92509, 92501, 91761, 92571, 91784, 917...</td>\n",
       "      <td>15</td>\n",
       "      <td>89</td>\n",
       "      <td>{'92410', '91752', '92336', '92509', '92324', ...</td>\n",
       "      <td>{'92301', '92883', '92354', '92860', '92807', ...</td>\n",
       "      <td>[]</td>\n",
       "    </tr>\n",
       "  </tbody>\n",
       "</table>\n",
       "</div>"
      ],
      "text/plain": [
       "  TA_num     ta_name                                        location_id  \\\n",
       "0      1  multiple_1  {1624, 1179, 4140, 1860, 4134, 1255, 1027, 409...   \n",
       "1      2  multiple_2  {1668, 77, 410, 1379, 5092, 122, 1666, 1079, 5...   \n",
       "2      3  multiple_3  {353, 5255, 1205, 310, 1797, 5325, 1845, 1078,...   \n",
       "3      4  multiple_4  {1643, 315, 5119, 1588, 5276, 5237, 1138, 1521...   \n",
       "4      5  multiple_5  {4321, 4051, 4291, 4688, 4045, 1995, 4169, 425...   \n",
       "\n",
       "                                              zip_cd  store_count  zip_count  \\\n",
       "0  {75180, 75409, 75474, 76078, 75169, 75052, 750...           21        187   \n",
       "1  {43319, 43334, 43358, 43064, 44903, 43318, 432...           16        120   \n",
       "2  {37051, 37334, 37221, 37215, 37083, 37330, 370...           16        122   \n",
       "3  {28144, 28032, 28092, 28682, 27295, 29210, 282...           16        125   \n",
       "4  {92336, 92509, 92501, 91761, 92571, 91784, 917...           15         89   \n",
       "\n",
       "                                         list_P_zips  \\\n",
       "0  {'75228', '75161', '75043', '75074', '75056', ...   \n",
       "1  {'43035', '43040', '43215', '43229', '43762', ...   \n",
       "2  {'37221', '37205', '37167', '37036', '37015', ...   \n",
       "3  {'28144', '28016', '28104', '28277', '28270', ...   \n",
       "4  {'92410', '91752', '92336', '92509', '92324', ...   \n",
       "\n",
       "                                         list_S_zips list_10_zips  \n",
       "0  {'75180', '75409', '75474', '76078', '75169', ...           []  \n",
       "1  {'43045', '43319', '43222', '43326', '43749', ...           []  \n",
       "2  {'37135', '37051', '37030', '37101', '37048', ...           []  \n",
       "3  {'29706', '28032', '28164', '28088', '29704', ...           []  \n",
       "4  {'92301', '92883', '92354', '92860', '92807', ...           []  "
      ]
     },
     "execution_count": 18,
     "metadata": {},
     "output_type": "execute_result"
    }
   ],
   "source": [
    "df_new_view_by_TA=df_new_view_by_zip_store.groupby(['TA_num','ta_name'])['location_id','zip_cd'].agg(set).reset_index()\n",
    "df_new_view_by_TA['store_count']=df_new_view_by_TA['location_id'].apply(len)\n",
    "df_new_view_by_TA['zip_count']=df_new_view_by_TA['zip_cd'].apply(len)\n",
    "\n",
    "df_new_view_by_TA_2=df_new_view_by_zip_store_copy.groupby(['TA_num','ta_name','zip_type'])['zip_cd'].agg(set).to_frame().reset_index()\n",
    "df_new_view_by_TA_P=df_new_view_by_TA_2[df_new_view_by_TA_2['zip_type']==\"trans_P\"][['TA_num','ta_name','zip_cd']].rename(columns={\"zip_cd\":\"list_P_zips\"})\n",
    "df_new_view_by_TA_S=df_new_view_by_TA_2[df_new_view_by_TA_2['zip_type']==\"trans_S\"][['TA_num','ta_name','zip_cd']].rename(columns={\"zip_cd\":\"list_S_zips\"})\n",
    "df_new_view_by_TA_10=df_new_view_by_TA_2[df_new_view_by_TA_2['zip_type']==\"zips_10\"][['TA_num','ta_name','zip_cd']].rename(columns={\"zip_cd\":\"list_10_zips\"})\n",
    "del df_new_view_by_TA_2\n",
    "\n",
    "df_new_view_by_TA=pd.merge(df_new_view_by_TA,df_new_view_by_TA_P,on=['TA_num','ta_name'],how=\"left\")\n",
    "df_new_view_by_TA=pd.merge(df_new_view_by_TA,df_new_view_by_TA_S,on=['TA_num','ta_name'],how=\"left\")\n",
    "df_new_view_by_TA=pd.merge(df_new_view_by_TA,df_new_view_by_TA_10,on=['TA_num','ta_name'],how=\"left\")\n",
    "\n",
    "df_new_view_by_TA['list_P_zips']=df_new_view_by_TA['list_P_zips'].astype(str)\n",
    "df_new_view_by_TA['list_P_zips']=df_new_view_by_TA['list_P_zips'].fillna(\"[]\").replace(\"nan\",\"[]\")\n",
    "\n",
    "df_new_view_by_TA['list_S_zips']=df_new_view_by_TA['list_S_zips'].astype(str)\n",
    "df_new_view_by_TA['list_S_zips']=df_new_view_by_TA['list_S_zips'].fillna(\"[]\").replace(\"nan\",\"[]\")\n",
    "\n",
    "df_new_view_by_TA['list_10_zips']=df_new_view_by_TA['list_10_zips'].astype(str)\n",
    "df_new_view_by_TA['list_10_zips']=df_new_view_by_TA['list_10_zips'].fillna(\"[]\").replace(\"nan\",\"[]\")\n",
    "\n",
    "\n",
    "df_new_view_by_TA.head(5)"
   ]
  },
  {
   "cell_type": "code",
   "execution_count": 19,
   "metadata": {},
   "outputs": [
    {
     "name": "stdout",
     "output_type": "stream",
     "text": [
      "(13324, 2)\n"
     ]
    }
   ],
   "source": [
    "df_unique_zip=df_new_view_by_zip_store.copy()\n",
    "df_unique_zip=df_unique_zip.sort_values(['zip_type','zip_cd'])\n",
    "df_unique_zip=df_unique_zip[['zip_type','zip_cd']].drop_duplicates(\"zip_cd\")\n",
    "print(df_unique_zip.shape)"
   ]
  },
  {
   "cell_type": "code",
   "execution_count": 20,
   "metadata": {},
   "outputs": [
    {
     "data": {
      "text/plain": [
       "(1422, 13)"
      ]
     },
     "execution_count": 20,
     "metadata": {},
     "output_type": "execute_result"
    }
   ],
   "source": [
    "store_list_full=pd.read_table(\"/home/jian/BigLots/static_files/Store_list/MediaStormStores20200101-135601-098.txt\",\n",
    "                         dtype=str,sep=\"|\")\n",
    "store_list_full.shape"
   ]
  },
  {
   "cell_type": "code",
   "execution_count": 21,
   "metadata": {},
   "outputs": [],
   "source": [
    "writer=pd.ExcelWriter(\"./BL_zips_in_TA_2020_updated_30_new_stores_JL_\"+str(datetime.datetime.now().date())+\".xlsx\",engine=\"xlsxwriter\")\n",
    "df_unique_zip.to_excel(writer,\"unique_zips\",index=False)\n",
    "df_new_view_by_TA.to_excel(writer,\"view_by_TA\",index=False)\n",
    "df_new_view_by_store.to_excel(writer,\"view_by_store\",index=False)\n",
    "df_new_view_by_zip_store.to_excel(writer,\"view_by_store_and_zip\",index=False)\n",
    "store_list_full.to_excel(writer,\"store_list_full_202001\",index=False)\n",
    "writer.save()"
   ]
  },
  {
   "cell_type": "code",
   "execution_count": null,
   "metadata": {},
   "outputs": [],
   "source": []
  }
 ],
 "metadata": {
  "kernelspec": {
   "display_name": "Python 3",
   "language": "python",
   "name": "python3"
  },
  "language_info": {
   "codemirror_mode": {
    "name": "ipython",
    "version": 3
   },
   "file_extension": ".py",
   "mimetype": "text/x-python",
   "name": "python",
   "nbconvert_exporter": "python",
   "pygments_lexer": "ipython3",
   "version": "3.6.1"
  }
 },
 "nbformat": 4,
 "nbformat_minor": 2
}
