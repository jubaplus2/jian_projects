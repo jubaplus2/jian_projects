{
 "cells": [
  {
   "cell_type": "code",
   "execution_count": null,
   "metadata": {
    "collapsed": true
   },
   "outputs": [],
   "source": [
    "# CELERY\n",
    "BROKER_URL = 'amqp://guest@localhost//'\n",
    "CELERY_RESULT_BACKEND = 'amqp'\n",
    "CELERY_ACCEPT_CONTENT = ['application/json']\n",
    "CELERY_TASK_SERIALIZER = 'json'\n",
    "CELERY_RESULT_SERIALIZER = 'json'\n",
    "CELERY_TIMEZONE = 'US/Eastern'\n",
    "\n",
    "CELERY_ROUTES = {\n",
    "    'SK_Weather_Task.fetch_weather_for_SK_zips': {'queue': 'SK_Weather_celery_JL'},\n",
    "}\n",
    "\n",
    "from celery.schedules import crontab\n",
    " \n",
    "CELERYBEAT_SCHEDULE = {\n",
    "    'every-hour': {\n",
    "        'task': 'SK_Weather_Task.fetch_weather_for_SK_zips',\n",
    "        'schedule': crontab(minute=30, hour='15'),\n",
    "        'args': (),\n",
    "    },\n",
    "}"
   ]
  }
 ],
 "metadata": {
  "kernelspec": {
   "display_name": "Python 3",
   "language": "python",
   "name": "python3"
  },
  "language_info": {
   "codemirror_mode": {
    "name": "ipython",
    "version": 3
   },
   "file_extension": ".py",
   "mimetype": "text/x-python",
   "name": "python",
   "nbconvert_exporter": "python",
   "pygments_lexer": "ipython3",
   "version": "3.6.1"
  }
 },
 "nbformat": 4,
 "nbformat_minor": 2
}
