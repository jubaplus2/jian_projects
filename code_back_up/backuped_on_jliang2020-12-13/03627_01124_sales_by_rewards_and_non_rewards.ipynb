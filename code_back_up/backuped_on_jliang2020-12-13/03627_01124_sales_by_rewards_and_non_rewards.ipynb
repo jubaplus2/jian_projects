{
 "cells": [
  {
   "cell_type": "code",
   "execution_count": 1,
   "metadata": {},
   "outputs": [
    {
     "data": {
      "text/plain": [
       "'/home/jian/Projects/Big_Lots/Analysis/2019_Q3/Planner_request/JT_sales_quarter_to_date_20191001'"
      ]
     },
     "execution_count": 1,
     "metadata": {},
     "output_type": "execute_result"
    }
   ],
   "source": [
    "import pandas as pd\n",
    "import os\n",
    "import datetime\n",
    "import numpy as np\n",
    "def recursive_file_gen(root_path):\n",
    "    for root, dirs, files in os.walk(root_path):\n",
    "        for file in files:\n",
    "            yield os.path.join(root,file)\n",
    "samplerows=None\n",
    "os.getcwd()"
   ]
  },
  {
   "cell_type": "code",
   "execution_count": 2,
   "metadata": {},
   "outputs": [
    {
     "data": {
      "text/plain": [
       "(8, 2)"
      ]
     },
     "execution_count": 2,
     "metadata": {},
     "output_type": "execute_result"
    }
   ],
   "source": [
    "current_quarter_beginning=datetime.date(2019,8,4)\n",
    "\n",
    "weekly_daily_df=list(recursive_file_gen(\"/home/jian/BigLots/\"))\n",
    "weekly_daily_df=[x for x in weekly_daily_df if (\"2018\" not in x) & (\"2017\" not in x) & (\"2016\" not in x) & (\"hist\" not in x.lower())]\n",
    "weekly_daily_df=[x for x in weekly_daily_df if (\".txt\" in x) & (\"aily\" in x)]\n",
    "\n",
    "weekly_daily_df=pd.DataFrame({\"file_path\":weekly_daily_df})\n",
    "weekly_daily_df['week_end_dt']=weekly_daily_df['file_path'].apply(lambda x: datetime.datetime.strptime(x.split(\"/MediaStorm_\")[1][:10],\"%Y-%m-%d\").date())\n",
    "weekly_daily_df=weekly_daily_df[weekly_daily_df['week_end_dt']>current_quarter_beginning]\n",
    "weekly_daily_df.shape"
   ]
  },
  {
   "cell_type": "code",
   "execution_count": 3,
   "metadata": {},
   "outputs": [
    {
     "name": "stdout",
     "output_type": "stream",
     "text": [
      "2019-10-02 16:50:52.781200\n",
      "2019-10-02 16:55:18.935554\n",
      "2019-10-02 16:58:37.752407\n",
      "2019-10-02 17:01:51.094254\n",
      "2019-10-02 17:05:55.204563\n",
      "2019-10-02 17:08:47.813919\n",
      "2019-10-02 17:12:12.500470\n",
      "2019-10-02 17:15:32.644334\n"
     ]
    }
   ],
   "source": [
    "current_quarter_file_list=weekly_daily_df['file_path'].tolist()\n",
    "current_quarter_sales=pd.DataFrame()\n",
    "for file in current_quarter_file_list:\n",
    "    week_end_dt=file.split(\"/MediaStorm_\")[1][:10]\n",
    "    df=pd.read_table(file,sep=\"|\",dtype=str,nrows=samplerows,\n",
    "                     usecols=['location_id','transaction_dt','transaction_id','customer_id_hashed','item_transaction_amt'])\n",
    "    df['item_transaction_amt']=df['item_transaction_amt'].astype(float)\n",
    "    \n",
    "    df_rewards=df[~pd.isnull(df['customer_id_hashed'])]\n",
    "    df_nonrewards=df[pd.isnull(df['customer_id_hashed'])]\n",
    "    \n",
    "    # Rewards:\n",
    "    df_sales=df_rewards.groupby(['location_id','transaction_dt'])['item_transaction_amt'].sum().to_frame().reset_index().rename(columns={\"item_transaction_amt\":\"rewards_sales\"})\n",
    "    df_trans=df_rewards[['location_id','transaction_dt','transaction_id','customer_id_hashed']].drop_duplicates()\n",
    "    df_trans=df_trans.groupby(['location_id','transaction_dt'])['transaction_id'].count().to_frame().reset_index().rename(columns={\"transaction_id\":\"rewards_trans\"})\n",
    "    \n",
    "    rewards_shoppers=df_rewards.groupby(['location_id','transaction_dt'])['customer_id_hashed'].nunique().to_frame().reset_index().rename(columns={\"customer_id_hashed\":\"shopper_by_store_day\"})\n",
    "    \n",
    "    df_rewards=pd.merge(df_sales,df_trans,on=['location_id','transaction_dt'],how=\"outer\")\n",
    "    df_rewards=pd.merge(df_rewards,rewards_shoppers,on=['location_id','transaction_dt'],how=\"outer\")\n",
    "    \n",
    "    # Non_Rewards:\n",
    "    df_sales=df_nonrewards.groupby(['location_id','transaction_dt'])['item_transaction_amt'].sum().to_frame().reset_index().rename(columns={\"item_transaction_amt\":\"nonrewards_sales\"})\n",
    "    df_trans=df_nonrewards[['location_id','transaction_dt','transaction_id']].drop_duplicates()\n",
    "    df_trans=df_trans.groupby(['location_id','transaction_dt'])['transaction_id'].count().to_frame().reset_index().rename(columns={\"transaction_id\":\"nonrewards_trans\"})\n",
    "    df_nonrewards=pd.merge(df_sales,df_trans,on=['location_id','transaction_dt'],how=\"outer\")\n",
    "    \n",
    "    df_week=pd.merge(df_rewards,df_nonrewards,on=['location_id','transaction_dt'],how=\"outer\").fillna(0)\n",
    "    df_week['week_end_dt']=week_end_dt\n",
    "\n",
    "    current_quarter_sales=current_quarter_sales.append(df_week)\n",
    "    print(datetime.datetime.now())"
   ]
  },
  {
   "cell_type": "code",
   "execution_count": 18,
   "metadata": {},
   "outputs": [],
   "source": [
    "current_quarter_sales['Online/Instore']=np.where(current_quarter_sales['location_id']==\"6990\",\"Online\",\"Instore\")\n",
    "current_quarter_sales['location_id']=current_quarter_sales['location_id'].astype(int)\n",
    "current_quarter_sales=current_quarter_sales.sort_values(['location_id','transaction_dt','Online/Instore'])\n",
    "\n",
    "current_quarter_sales_week=current_quarter_sales.groupby(\"week_end_dt\")['rewards_sales','rewards_trans','nonrewards_sales','nonrewards_trans'].sum().reset_index()\n",
    "current_quarter_sales_week_type=current_quarter_sales.groupby([\"week_end_dt\",'Online/Instore'])['rewards_sales','rewards_trans','nonrewards_sales','nonrewards_trans'].sum().reset_index()\n",
    "\n"
   ]
  },
  {
   "cell_type": "code",
   "execution_count": 20,
   "metadata": {},
   "outputs": [],
   "source": [
    "writer=pd.ExcelWriter(\"./BL_weekly_tracker_overall_Rewards_NonRewards_JL_\"+str(datetime.datetime.now().date())+\".xlsx\",engine=\"xlsxwriter\")\n",
    "current_quarter_sales_week.to_excel(writer,\"sales_by_week\",index=False)\n",
    "current_quarter_sales_week_type.to_excel(writer,\"sales_by_week_by_type\",index=False)\n",
    "current_quarter_sales.to_excel(writer,\"sales_by_day\",index=False)\n",
    "writer.save()"
   ]
  },
  {
   "cell_type": "code",
   "execution_count": null,
   "metadata": {
    "collapsed": true
   },
   "outputs": [],
   "source": []
  }
 ],
 "metadata": {
  "kernelspec": {
   "display_name": "Python 3",
   "language": "python",
   "name": "python3"
  },
  "language_info": {
   "codemirror_mode": {
    "name": "ipython",
    "version": 3
   },
   "file_extension": ".py",
   "mimetype": "text/x-python",
   "name": "python",
   "nbconvert_exporter": "python",
   "pygments_lexer": "ipython3",
   "version": "3.6.1"
  }
 },
 "nbformat": 4,
 "nbformat_minor": 2
}
