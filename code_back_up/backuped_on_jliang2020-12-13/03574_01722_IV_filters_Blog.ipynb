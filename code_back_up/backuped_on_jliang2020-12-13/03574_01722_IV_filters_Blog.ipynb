{
 "cells": [
  {
   "cell_type": "code",
   "execution_count": 1,
   "metadata": {
    "collapsed": true
   },
   "outputs": [],
   "source": [
    "import pandas as pd\n",
    "import datetime\n",
    "from sklearn.preprocessing import StandardScaler\n",
    "import numpy as np"
   ]
  },
  {
   "cell_type": "code",
   "execution_count": 2,
   "metadata": {},
   "outputs": [
    {
     "data": {
      "text/plain": [
       "['Home Page', 'Blogs', 'Other', '404 Pages']"
      ]
     },
     "execution_count": 2,
     "metadata": {},
     "output_type": "execute_result"
    }
   ],
   "source": [
    "excel_file=\"/home/jian/Projects/Saatva/MMM/URL_models/input/URL_SM_input_tabs_data_JL_2019-05-06.xlsx\"\n",
    "excel_file=pd.ExcelFile(excel_file)\n",
    "excel_file.sheet_names\n",
    "\n",
    "tab_list=[x for x in excel_file.sheet_names if \"Stat\" not in x]\n",
    "tab_list"
   ]
  },
  {
   "cell_type": "code",
   "execution_count": 3,
   "metadata": {},
   "outputs": [
    {
     "name": "stderr",
     "output_type": "stream",
     "text": [
      "/usr/local/lib/python3.6/site-packages/ipykernel_launcher.py:4: SettingWithCopyWarning: \n",
      "A value is trying to be set on a copy of a slice from a DataFrame.\n",
      "Try using .loc[row_indexer,col_indexer] = value instead\n",
      "\n",
      "See the caveats in the documentation: http://pandas.pydata.org/pandas-docs/stable/indexing.html#indexing-view-versus-copy\n",
      "  after removing the cwd from sys.path.\n"
     ]
    }
   ],
   "source": [
    "df_data=excel_file.parse('Blogs')\n",
    "\n",
    "DVs=df_data[['date','trans_net','Users','Sessions','ga:goal11Completions']]\n",
    "DVs['Trans_Per_Usr']=DVs['trans_net']/DVs['Users']\n",
    "\n",
    "df_ivs=df_data.copy()\n",
    "df_ivs.drop(['date','trans_net','sales_net', 'Users', 'Sessions','ga:goal11Completions','Time on Page','Transactions'],axis=1,inplace=True)\n",
    "\n"
   ]
  },
  {
   "cell_type": "code",
   "execution_count": 4,
   "metadata": {},
   "outputs": [],
   "source": [
    "dict_count_0={}\n",
    "for col in df_ivs.columns.tolist():\n",
    "    df_ivs[col]=df_ivs[col].astype(int)\n",
    "    count_0=len([x for x in df_ivs[col].tolist() if x==0])\n",
    "    dict_count_0.update({col:count_0})"
   ]
  },
  {
   "cell_type": "code",
   "execution_count": 5,
   "metadata": {},
   "outputs": [],
   "source": [
    "stat_disc=pd.DataFrame(df_ivs.describe()).T.reset_index().rename(columns={\"index\":\"Blog_URL\"})\n",
    "stat_disc['count_0']=stat_disc['Blog_URL'].apply(lambda x: dict_count_0[x])"
   ]
  },
  {
   "cell_type": "code",
   "execution_count": 6,
   "metadata": {},
   "outputs": [],
   "source": [
    "stat_disc_exclude=stat_disc[stat_disc['count_0']>=365*0.95]\n",
    "exclude_urls_list=stat_disc_exclude['Blog_URL'].tolist()"
   ]
  },
  {
   "cell_type": "code",
   "execution_count": 7,
   "metadata": {},
   "outputs": [],
   "source": [
    "cleaned_df=df_ivs[[x for x in df_ivs.columns.tolist() if x not in exclude_urls_list]]"
   ]
  },
  {
   "cell_type": "code",
   "execution_count": 8,
   "metadata": {},
   "outputs": [
    {
     "name": "stderr",
     "output_type": "stream",
     "text": [
      "/usr/local/lib/python3.6/site-packages/ipykernel_launcher.py:1: SettingWithCopyWarning: \n",
      "A value is trying to be set on a copy of a slice from a DataFrame.\n",
      "Try using .loc[row_indexer,col_indexer] = value instead\n",
      "\n",
      "See the caveats in the documentation: http://pandas.pydata.org/pandas-docs/stable/indexing.html#indexing-view-versus-copy\n",
      "  \"\"\"Entry point for launching an IPython kernel.\n"
     ]
    },
    {
     "data": {
      "text/plain": [
       "(365, 318)"
      ]
     },
     "execution_count": 8,
     "metadata": {},
     "output_type": "execute_result"
    }
   ],
   "source": [
    "cleaned_df['date']=df_data['date']\n",
    "cleaned_df=pd.merge(DVs,cleaned_df,on=\"date\")\n",
    "cleaned_df.shape"
   ]
  },
  {
   "cell_type": "code",
   "execution_count": 9,
   "metadata": {},
   "outputs": [],
   "source": [
    "cleaned_df.to_csv(\"/home/jian/Projects/Saatva/MMM/URL_models/input/Original_Blogs_Excluded_JL_\"+str(datetime.datetime.now().date())+\".csv\",index=False)\n"
   ]
  },
  {
   "cell_type": "markdown",
   "metadata": {},
   "source": [
    "# PCA"
   ]
  },
  {
   "cell_type": "code",
   "execution_count": 10,
   "metadata": {},
   "outputs": [
    {
     "name": "stderr",
     "output_type": "stream",
     "text": [
      "/usr/local/lib/python3.6/site-packages/sklearn/utils/validation.py:429: DataConversionWarning: Data with input dtype int64 was converted to float64 by StandardScaler.\n",
      "  warnings.warn(msg, _DataConversionWarning)\n"
     ]
    },
    {
     "data": {
      "text/plain": [
       "(365, 312)"
      ]
     },
     "execution_count": 10,
     "metadata": {},
     "output_type": "execute_result"
    }
   ],
   "source": [
    "df_ivs=cleaned_df[[x for x in cleaned_df.columns.tolist() if x not in ['date','trans_net','Users','Sessions','ga:goal11Completions','Trans_Per_Usr']]]\n",
    "X = cleaned_df[[x for x in cleaned_df.columns.tolist() if x not in ['date','trans_net','Users','Sessions','ga:goal11Completions','Trans_Per_Usr']]].values\n",
    "\n",
    "X_std = StandardScaler().fit_transform(X)\n",
    "X_std.shape"
   ]
  },
  {
   "cell_type": "code",
   "execution_count": 11,
   "metadata": {},
   "outputs": [
    {
     "name": "stdout",
     "output_type": "stream",
     "text": [
      "Everything ok!\n"
     ]
    }
   ],
   "source": [
    "mean_vec = np.mean(X_std, axis=0)\n",
    "cov_mat = (X_std - mean_vec).T.dot((X_std - mean_vec)) / (X_std.shape[0]-1)\n",
    "\n",
    "cov_mat = np.cov(X_std.T)\n",
    "\n",
    "eig_vals, eig_vecs = np.linalg.eig(cov_mat)\n",
    "\n",
    "for ev in eig_vecs:\n",
    "    np.testing.assert_array_almost_equal(1.0, np.linalg.norm(ev))\n",
    "print('Everything ok!')"
   ]
  },
  {
   "cell_type": "code",
   "execution_count": 12,
   "metadata": {},
   "outputs": [
    {
     "name": "stdout",
     "output_type": "stream",
     "text": [
      "Eigenvalues in descending order:\n",
      "i_counter 97\n"
     ]
    }
   ],
   "source": [
    "\n",
    "# Make a list of (eigenvalue, eigenvector) tuples\n",
    "eig_pairs = [(np.abs(eig_vals[i]), eig_vecs[:,i]) for i in range(len(eig_vals))]\n",
    "\n",
    "# Sort the (eigenvalue, eigenvector) tuples from high to low\n",
    "eig_pairs.sort()\n",
    "eig_pairs.reverse()\n",
    "\n",
    "# Visually confirm that the list is correctly sorted by decreasing eigenvalues\n",
    "print('Eigenvalues in descending order:')\n",
    "\n",
    "i_counter=0\n",
    "for i in eig_pairs:\n",
    "    if i[0]>1:\n",
    "        # print(i[0])\n",
    "        i_counter+=1\n",
    "print(\"i_counter\",i_counter)"
   ]
  },
  {
   "cell_type": "code",
   "execution_count": 13,
   "metadata": {},
   "outputs": [
    {
     "name": "stdout",
     "output_type": "stream",
     "text": [
      "Matrix W:\n",
      " [[-0.03011189  0.02887082  0.0567814  ..., -0.0532146  -0.02095707\n",
      "   0.00410964]\n",
      " [-0.03969654  0.05573523  0.01795734 ..., -0.08395556 -0.01006451\n",
      "   0.03250126]\n",
      " [ 0.0166415  -0.0220699   0.00872927 ...,  0.01281653  0.00905728\n",
      "  -0.0419585 ]\n",
      " ..., \n",
      " [-0.15746295  0.00601838 -0.01490649 ..., -0.0121412  -0.01806139\n",
      "  -0.00218022]\n",
      " [ 0.00577714 -0.01789422  0.03884227 ..., -0.11944565 -0.01993597\n",
      "   0.00142605]\n",
      " [ 0.00510526 -0.01194857  0.04774608 ...,  0.04748559 -0.07759031\n",
      "  -0.04546095]]\n"
     ]
    }
   ],
   "source": [
    "to_hstack=[eig_pairs[i][1].reshape(312,1) for i in range(97)]\n",
    "matrix_w = np.hstack(to_hstack)\n",
    "\n",
    "print('Matrix W:\\n', matrix_w)"
   ]
  },
  {
   "cell_type": "code",
   "execution_count": 14,
   "metadata": {
    "collapsed": true
   },
   "outputs": [],
   "source": [
    "Y = X_std.dot(matrix_w)"
   ]
  },
  {
   "cell_type": "code",
   "execution_count": 15,
   "metadata": {},
   "outputs": [
    {
     "name": "stderr",
     "output_type": "stream",
     "text": [
      "/usr/local/lib/python3.6/site-packages/ipykernel_launcher.py:2: SettingWithCopyWarning: \n",
      "A value is trying to be set on a copy of a slice from a DataFrame.\n",
      "Try using .loc[row_indexer,col_indexer] = value instead\n",
      "\n",
      "See the caveats in the documentation: http://pandas.pydata.org/pandas-docs/stable/indexing.html#indexing-view-versus-copy\n",
      "  \n"
     ]
    }
   ],
   "source": [
    "DVs=cleaned_df[['date','trans_net','Users','Sessions','ga:goal11Completions']]\n",
    "DVs['Trans_Per_Usr']=DVs['trans_net']/DVs['Users']\n",
    "\n",
    "# 0\n",
    "df_cov_mat=pd.DataFrame(cov_mat)\n",
    "df_cov_mat.index=df_ivs.columns.tolist()\n",
    "df_cov_mat.columns=df_ivs.columns.tolist()\n",
    "\n",
    "# 1\n",
    "df_eigen_values=pd.DataFrame(columns={\"component_count\",\"eigenvalue\"})\n",
    "for i in range(len(eig_pairs)):\n",
    "    df=pd.DataFrame({\"component_count\":i+1,\"eigenvalue\":eig_pairs[i][0]},index=[i])\n",
    "    df_eigen_values=df_eigen_values.append(df)\n",
    "# 2\n",
    "df_X_std=pd.DataFrame(X_std)\n",
    "df_X_std.columns=df_ivs.columns.tolist()\n",
    "df_X_std.index=df_data['date']\n",
    "df_X_std=df_X_std.reset_index()\n",
    "# 3\n",
    "matrics_weight=pd.DataFrame(matrix_w)\n",
    "# 4\n",
    "input_transformed=pd.DataFrame(Y)\n",
    "input_transformed.index=df_data['date']\n",
    "input_transformed.columns=[\"Component_\"+str(x+1) for x in input_transformed.columns.tolist()]\n",
    "input_transformed=input_transformed.reset_index()\n",
    "\n",
    "input_transformed=pd.merge(input_transformed,DVs,on=\"date\")"
   ]
  },
  {
   "cell_type": "code",
   "execution_count": 16,
   "metadata": {},
   "outputs": [],
   "source": [
    "input_transformed.to_csv(\"/home/jian/Projects/Saatva/MMM/URL_models/input/PCA_Blog_Ecluded_MMM_JL_\"+str(datetime.datetime.now().date())+\".csv\",index=False)\n",
    "\n",
    "writer=pd.ExcelWriter(\"/home/jian/Projects/Saatva/MMM/URL_models/input/PCA_Blog_MMM_JL_\"+str(datetime.datetime.now().date())+\".xlsx\",engine=\"xlsxwriter\")\n",
    "df_data.to_excel(writer,\"Raw_Blogs_data\",index=False)\n",
    "cleaned_df.to_excel(writer,\"Excluded_95_0_Blogs_data\",index=False)\n",
    "df_cov_mat.to_excel(writer,\"cov_mat\",index=False)\n",
    "df_eigen_values.to_excel(writer,\"eigen_values\",index=False)\n",
    "df_X_std.to_excel(writer,\"df_IVs_std\",index=False)\n",
    "matrics_weight.to_excel(writer,\"matrics_weight\",index=False)\n",
    "input_transformed.to_excel(writer,\"input_transformed\",index=False)\n",
    "writer.save()\n",
    "\n"
   ]
  },
  {
   "cell_type": "code",
   "execution_count": null,
   "metadata": {
    "collapsed": true
   },
   "outputs": [],
   "source": []
  },
  {
   "cell_type": "code",
   "execution_count": 18,
   "metadata": {
    "collapsed": true
   },
   "outputs": [],
   "source": [
    "from sklearn.decomposition import PCA as sklearnPCA\n",
    "sklearn_pca = sklearnPCA(n_components=97)\n",
    "Y_sklearn = sklearn_pca.fit_transform(X_std)"
   ]
  },
  {
   "cell_type": "code",
   "execution_count": 21,
   "metadata": {},
   "outputs": [
    {
     "data": {
      "text/html": [
       "<div>\n",
       "<style>\n",
       "    .dataframe thead tr:only-child th {\n",
       "        text-align: right;\n",
       "    }\n",
       "\n",
       "    .dataframe thead th {\n",
       "        text-align: left;\n",
       "    }\n",
       "\n",
       "    .dataframe tbody tr th {\n",
       "        vertical-align: top;\n",
       "    }\n",
       "</style>\n",
       "<table border=\"1\" class=\"dataframe\">\n",
       "  <thead>\n",
       "    <tr style=\"text-align: right;\">\n",
       "      <th></th>\n",
       "      <th>date</th>\n",
       "      <th>Component_1</th>\n",
       "      <th>Component_2</th>\n",
       "      <th>Component_3</th>\n",
       "      <th>Component_4</th>\n",
       "      <th>Component_5</th>\n",
       "      <th>Component_6</th>\n",
       "      <th>Component_7</th>\n",
       "      <th>Component_8</th>\n",
       "      <th>Component_9</th>\n",
       "      <th>...</th>\n",
       "      <th>Component_93</th>\n",
       "      <th>Component_94</th>\n",
       "      <th>Component_95</th>\n",
       "      <th>Component_96</th>\n",
       "      <th>Component_97</th>\n",
       "      <th>trans_net</th>\n",
       "      <th>Users</th>\n",
       "      <th>Sessions</th>\n",
       "      <th>ga:goal11Completions</th>\n",
       "      <th>Trans_Per_Usr</th>\n",
       "    </tr>\n",
       "  </thead>\n",
       "  <tbody>\n",
       "    <tr>\n",
       "      <th>361</th>\n",
       "      <td>2018-12-28</td>\n",
       "      <td>-12.150776</td>\n",
       "      <td>4.553925</td>\n",
       "      <td>-4.507620</td>\n",
       "      <td>-2.471403</td>\n",
       "      <td>4.233136</td>\n",
       "      <td>-0.569572</td>\n",
       "      <td>2.548848</td>\n",
       "      <td>0.140244</td>\n",
       "      <td>-0.751662</td>\n",
       "      <td>...</td>\n",
       "      <td>-1.755470</td>\n",
       "      <td>-0.184880</td>\n",
       "      <td>-0.143888</td>\n",
       "      <td>0.333531</td>\n",
       "      <td>-2.018870</td>\n",
       "      <td>204</td>\n",
       "      <td>27175</td>\n",
       "      <td>31895</td>\n",
       "      <td>500</td>\n",
       "      <td>0.007507</td>\n",
       "    </tr>\n",
       "    <tr>\n",
       "      <th>362</th>\n",
       "      <td>2018-12-29</td>\n",
       "      <td>-12.619738</td>\n",
       "      <td>6.335100</td>\n",
       "      <td>-3.714456</td>\n",
       "      <td>-1.654520</td>\n",
       "      <td>5.939165</td>\n",
       "      <td>1.119476</td>\n",
       "      <td>2.633794</td>\n",
       "      <td>1.273394</td>\n",
       "      <td>-1.314645</td>\n",
       "      <td>...</td>\n",
       "      <td>0.084378</td>\n",
       "      <td>3.133645</td>\n",
       "      <td>-1.063711</td>\n",
       "      <td>1.436055</td>\n",
       "      <td>0.472943</td>\n",
       "      <td>239</td>\n",
       "      <td>28337</td>\n",
       "      <td>33346</td>\n",
       "      <td>544</td>\n",
       "      <td>0.008434</td>\n",
       "    </tr>\n",
       "    <tr>\n",
       "      <th>363</th>\n",
       "      <td>2018-12-30</td>\n",
       "      <td>-14.840849</td>\n",
       "      <td>5.064564</td>\n",
       "      <td>-6.349244</td>\n",
       "      <td>-2.551707</td>\n",
       "      <td>7.375521</td>\n",
       "      <td>-0.688136</td>\n",
       "      <td>4.776907</td>\n",
       "      <td>-1.022006</td>\n",
       "      <td>0.600109</td>\n",
       "      <td>...</td>\n",
       "      <td>0.350509</td>\n",
       "      <td>-0.586233</td>\n",
       "      <td>1.449566</td>\n",
       "      <td>1.325331</td>\n",
       "      <td>1.038980</td>\n",
       "      <td>221</td>\n",
       "      <td>28716</td>\n",
       "      <td>34009</td>\n",
       "      <td>555</td>\n",
       "      <td>0.007696</td>\n",
       "    </tr>\n",
       "    <tr>\n",
       "      <th>364</th>\n",
       "      <td>2018-12-31</td>\n",
       "      <td>-12.469221</td>\n",
       "      <td>5.034077</td>\n",
       "      <td>-5.867042</td>\n",
       "      <td>-3.580926</td>\n",
       "      <td>3.606432</td>\n",
       "      <td>-0.708219</td>\n",
       "      <td>6.644007</td>\n",
       "      <td>0.049611</td>\n",
       "      <td>-1.571092</td>\n",
       "      <td>...</td>\n",
       "      <td>-0.206035</td>\n",
       "      <td>0.606820</td>\n",
       "      <td>0.381060</td>\n",
       "      <td>-0.576743</td>\n",
       "      <td>0.314634</td>\n",
       "      <td>258</td>\n",
       "      <td>24087</td>\n",
       "      <td>28142</td>\n",
       "      <td>452</td>\n",
       "      <td>0.010711</td>\n",
       "    </tr>\n",
       "  </tbody>\n",
       "</table>\n",
       "<p>4 rows × 103 columns</p>\n",
       "</div>"
      ],
      "text/plain": [
       "           date  Component_1  Component_2  Component_3  Component_4  \\\n",
       "361  2018-12-28   -12.150776     4.553925    -4.507620    -2.471403   \n",
       "362  2018-12-29   -12.619738     6.335100    -3.714456    -1.654520   \n",
       "363  2018-12-30   -14.840849     5.064564    -6.349244    -2.551707   \n",
       "364  2018-12-31   -12.469221     5.034077    -5.867042    -3.580926   \n",
       "\n",
       "     Component_5  Component_6  Component_7  Component_8  Component_9  \\\n",
       "361     4.233136    -0.569572     2.548848     0.140244    -0.751662   \n",
       "362     5.939165     1.119476     2.633794     1.273394    -1.314645   \n",
       "363     7.375521    -0.688136     4.776907    -1.022006     0.600109   \n",
       "364     3.606432    -0.708219     6.644007     0.049611    -1.571092   \n",
       "\n",
       "         ...        Component_93  Component_94  Component_95  Component_96  \\\n",
       "361      ...           -1.755470     -0.184880     -0.143888      0.333531   \n",
       "362      ...            0.084378      3.133645     -1.063711      1.436055   \n",
       "363      ...            0.350509     -0.586233      1.449566      1.325331   \n",
       "364      ...           -0.206035      0.606820      0.381060     -0.576743   \n",
       "\n",
       "     Component_97  trans_net  Users  Sessions  ga:goal11Completions  \\\n",
       "361     -2.018870        204  27175     31895                   500   \n",
       "362      0.472943        239  28337     33346                   544   \n",
       "363      1.038980        221  28716     34009                   555   \n",
       "364      0.314634        258  24087     28142                   452   \n",
       "\n",
       "     Trans_Per_Usr  \n",
       "361       0.007507  \n",
       "362       0.008434  \n",
       "363       0.007696  \n",
       "364       0.010711  \n",
       "\n",
       "[4 rows x 103 columns]"
      ]
     },
     "execution_count": 21,
     "metadata": {},
     "output_type": "execute_result"
    }
   ],
   "source": [
    "input_transformed.tail(4)"
   ]
  },
  {
   "cell_type": "code",
   "execution_count": 22,
   "metadata": {},
   "outputs": [
    {
     "data": {
      "text/html": [
       "<div>\n",
       "<style>\n",
       "    .dataframe thead tr:only-child th {\n",
       "        text-align: right;\n",
       "    }\n",
       "\n",
       "    .dataframe thead th {\n",
       "        text-align: left;\n",
       "    }\n",
       "\n",
       "    .dataframe tbody tr th {\n",
       "        vertical-align: top;\n",
       "    }\n",
       "</style>\n",
       "<table border=\"1\" class=\"dataframe\">\n",
       "  <thead>\n",
       "    <tr style=\"text-align: right;\">\n",
       "      <th></th>\n",
       "      <th>0</th>\n",
       "      <th>1</th>\n",
       "      <th>2</th>\n",
       "      <th>3</th>\n",
       "      <th>4</th>\n",
       "      <th>5</th>\n",
       "      <th>6</th>\n",
       "      <th>7</th>\n",
       "      <th>8</th>\n",
       "      <th>9</th>\n",
       "      <th>...</th>\n",
       "      <th>87</th>\n",
       "      <th>88</th>\n",
       "      <th>89</th>\n",
       "      <th>90</th>\n",
       "      <th>91</th>\n",
       "      <th>92</th>\n",
       "      <th>93</th>\n",
       "      <th>94</th>\n",
       "      <th>95</th>\n",
       "      <th>96</th>\n",
       "    </tr>\n",
       "  </thead>\n",
       "  <tbody>\n",
       "    <tr>\n",
       "      <th>361</th>\n",
       "      <td>12.150776</td>\n",
       "      <td>-4.553925</td>\n",
       "      <td>4.507620</td>\n",
       "      <td>2.471403</td>\n",
       "      <td>-4.233136</td>\n",
       "      <td>-0.569572</td>\n",
       "      <td>-2.548848</td>\n",
       "      <td>0.140244</td>\n",
       "      <td>0.751662</td>\n",
       "      <td>-1.780143</td>\n",
       "      <td>...</td>\n",
       "      <td>0.287408</td>\n",
       "      <td>1.426941</td>\n",
       "      <td>-1.242240</td>\n",
       "      <td>-2.030988</td>\n",
       "      <td>1.230140</td>\n",
       "      <td>1.755470</td>\n",
       "      <td>-0.184880</td>\n",
       "      <td>-0.143888</td>\n",
       "      <td>-0.333531</td>\n",
       "      <td>-2.018870</td>\n",
       "    </tr>\n",
       "    <tr>\n",
       "      <th>362</th>\n",
       "      <td>12.619738</td>\n",
       "      <td>-6.335100</td>\n",
       "      <td>3.714456</td>\n",
       "      <td>1.654520</td>\n",
       "      <td>-5.939165</td>\n",
       "      <td>1.119476</td>\n",
       "      <td>-2.633794</td>\n",
       "      <td>1.273394</td>\n",
       "      <td>1.314645</td>\n",
       "      <td>-1.065144</td>\n",
       "      <td>...</td>\n",
       "      <td>-0.123561</td>\n",
       "      <td>2.139012</td>\n",
       "      <td>0.450934</td>\n",
       "      <td>0.028680</td>\n",
       "      <td>1.869606</td>\n",
       "      <td>-0.084378</td>\n",
       "      <td>3.133645</td>\n",
       "      <td>-1.063711</td>\n",
       "      <td>-1.436055</td>\n",
       "      <td>0.472943</td>\n",
       "    </tr>\n",
       "    <tr>\n",
       "      <th>363</th>\n",
       "      <td>14.840849</td>\n",
       "      <td>-5.064564</td>\n",
       "      <td>6.349244</td>\n",
       "      <td>2.551707</td>\n",
       "      <td>-7.375521</td>\n",
       "      <td>-0.688136</td>\n",
       "      <td>-4.776907</td>\n",
       "      <td>-1.022006</td>\n",
       "      <td>-0.600109</td>\n",
       "      <td>-2.982750</td>\n",
       "      <td>...</td>\n",
       "      <td>-2.129806</td>\n",
       "      <td>-0.225863</td>\n",
       "      <td>0.404393</td>\n",
       "      <td>1.859784</td>\n",
       "      <td>2.196047</td>\n",
       "      <td>-0.350509</td>\n",
       "      <td>-0.586233</td>\n",
       "      <td>1.449566</td>\n",
       "      <td>-1.325331</td>\n",
       "      <td>1.038980</td>\n",
       "    </tr>\n",
       "    <tr>\n",
       "      <th>364</th>\n",
       "      <td>12.469221</td>\n",
       "      <td>-5.034077</td>\n",
       "      <td>5.867042</td>\n",
       "      <td>3.580926</td>\n",
       "      <td>-3.606432</td>\n",
       "      <td>-0.708219</td>\n",
       "      <td>-6.644007</td>\n",
       "      <td>0.049611</td>\n",
       "      <td>1.571092</td>\n",
       "      <td>-2.809859</td>\n",
       "      <td>...</td>\n",
       "      <td>3.170263</td>\n",
       "      <td>0.358848</td>\n",
       "      <td>-0.923918</td>\n",
       "      <td>0.050193</td>\n",
       "      <td>1.449146</td>\n",
       "      <td>0.206035</td>\n",
       "      <td>0.606820</td>\n",
       "      <td>0.381060</td>\n",
       "      <td>0.576743</td>\n",
       "      <td>0.314634</td>\n",
       "    </tr>\n",
       "  </tbody>\n",
       "</table>\n",
       "<p>4 rows × 97 columns</p>\n",
       "</div>"
      ],
      "text/plain": [
       "            0         1         2         3         4         5         6   \\\n",
       "361  12.150776 -4.553925  4.507620  2.471403 -4.233136 -0.569572 -2.548848   \n",
       "362  12.619738 -6.335100  3.714456  1.654520 -5.939165  1.119476 -2.633794   \n",
       "363  14.840849 -5.064564  6.349244  2.551707 -7.375521 -0.688136 -4.776907   \n",
       "364  12.469221 -5.034077  5.867042  3.580926 -3.606432 -0.708219 -6.644007   \n",
       "\n",
       "           7         8         9     ...           87        88        89  \\\n",
       "361  0.140244  0.751662 -1.780143    ...     0.287408  1.426941 -1.242240   \n",
       "362  1.273394  1.314645 -1.065144    ...    -0.123561  2.139012  0.450934   \n",
       "363 -1.022006 -0.600109 -2.982750    ...    -2.129806 -0.225863  0.404393   \n",
       "364  0.049611  1.571092 -2.809859    ...     3.170263  0.358848 -0.923918   \n",
       "\n",
       "           90        91        92        93        94        95        96  \n",
       "361 -2.030988  1.230140  1.755470 -0.184880 -0.143888 -0.333531 -2.018870  \n",
       "362  0.028680  1.869606 -0.084378  3.133645 -1.063711 -1.436055  0.472943  \n",
       "363  1.859784  2.196047 -0.350509 -0.586233  1.449566 -1.325331  1.038980  \n",
       "364  0.050193  1.449146  0.206035  0.606820  0.381060  0.576743  0.314634  \n",
       "\n",
       "[4 rows x 97 columns]"
      ]
     },
     "execution_count": 22,
     "metadata": {},
     "output_type": "execute_result"
    }
   ],
   "source": [
    "pd.DataFrame(Y_sklearn).tail(4)\n",
    "\n",
    "# Looks_Alright"
   ]
  },
  {
   "cell_type": "code",
   "execution_count": 43,
   "metadata": {},
   "outputs": [
    {
     "data": {
      "text/plain": [
       "{'{True}'}"
      ]
     },
     "execution_count": 43,
     "metadata": {},
     "output_type": "execute_result"
    }
   ],
   "source": [
    "chech_array=np.round(abs(pd.DataFrame(Y_sklearn).values),6)==np.round(abs(input_transformed[[x for x in input_transformed.columns.tolist() if \"Component\" in x]].values),6)\n",
    "\n",
    "all_unique=[]\n",
    "for i in range(len(chech_array)):\n",
    "    QC=set((np.round(abs(pd.DataFrame(Y_sklearn).values),6)==np.round(abs(input_transformed[[x for x in input_transformed.columns.tolist() if \"Component\" in x]].values),6))[1])\n",
    "    # print(QC)\n",
    "    all_unique=all_unique+[str(QC)]\n",
    "set(all_unique)"
   ]
  },
  {
   "cell_type": "code",
   "execution_count": 34,
   "metadata": {},
   "outputs": [
    {
     "data": {
      "text/plain": [
       "array([[ True,  True,  True, ...,  True,  True,  True],\n",
       "       [ True,  True,  True, ...,  True,  True,  True],\n",
       "       [ True,  True,  True, ...,  True,  True,  True],\n",
       "       ..., \n",
       "       [ True,  True,  True, ...,  True,  True,  True],\n",
       "       [ True,  True,  True, ...,  True,  True,  True],\n",
       "       [ True,  True,  True, ...,  True,  True,  True]], dtype=bool)"
      ]
     },
     "execution_count": 34,
     "metadata": {},
     "output_type": "execute_result"
    }
   ],
   "source": [
    "\n"
   ]
  },
  {
   "cell_type": "markdown",
   "metadata": {},
   "source": [
    "# EFA"
   ]
  },
  {
   "cell_type": "code",
   "execution_count": 48,
   "metadata": {},
   "outputs": [],
   "source": [
    "import pandas as pd\n",
    "from sklearn.datasets import load_iris\n",
    "from factor_analyzer import FactorAnalyzer\n",
    "from factor_analyzer.factor_analyzer import calculate_bartlett_sphericity\n",
    "from factor_analyzer.factor_analyzer import calculate_kmo\n",
    "import datetime\n",
    "\n",
    "import pandas as pd\n",
    "from sklearn.datasets import load_iris\n",
    "from factor_analyzer import FactorAnalyzer\n",
    "from factor_analyzer.factor_analyzer import calculate_bartlett_sphericity\n",
    "from factor_analyzer.factor_analyzer import calculate_kmo\n",
    "import datetime"
   ]
  },
  {
   "cell_type": "code",
   "execution_count": 46,
   "metadata": {},
   "outputs": [
    {
     "data": {
      "text/plain": [
       "(365, 312)"
      ]
     },
     "execution_count": 46,
     "metadata": {},
     "output_type": "execute_result"
    }
   ],
   "source": [
    "df_ivs = cleaned_df[[x for x in cleaned_df.columns.tolist() if x not in ['date','trans_net','Users','Sessions','ga:goal11Completions','Trans_Per_Usr']]]\n",
    "df_ivs.shape"
   ]
  },
  {
   "cell_type": "code",
   "execution_count": 47,
   "metadata": {},
   "outputs": [
    {
     "ename": "NameError",
     "evalue": "name 'calculate_bartlett_sphericity' is not defined",
     "output_type": "error",
     "traceback": [
      "\u001b[0;31m---------------------------------------------------------------------------\u001b[0m",
      "\u001b[0;31mNameError\u001b[0m                                 Traceback (most recent call last)",
      "\u001b[0;32m<ipython-input-47-bc3125f397aa>\u001b[0m in \u001b[0;36m<module>\u001b[0;34m()\u001b[0m\n\u001b[0;32m----> 1\u001b[0;31m \u001b[0mchi_square_value\u001b[0m\u001b[0;34m,\u001b[0m\u001b[0mp_value\u001b[0m\u001b[0;34m=\u001b[0m\u001b[0mcalculate_bartlett_sphericity\u001b[0m\u001b[0;34m(\u001b[0m\u001b[0mdf_ivs\u001b[0m\u001b[0;34m)\u001b[0m\u001b[0;34m\u001b[0m\u001b[0m\n\u001b[0m\u001b[1;32m      2\u001b[0m \u001b[0mchi_square_value\u001b[0m\u001b[0;34m,\u001b[0m \u001b[0mp_value\u001b[0m\u001b[0;34m\u001b[0m\u001b[0m\n",
      "\u001b[0;31mNameError\u001b[0m: name 'calculate_bartlett_sphericity' is not defined"
     ]
    }
   ],
   "source": [
    "chi_square_value,p_value=calculate_bartlett_sphericity(df_ivs)\n",
    "chi_square_value, p_value"
   ]
  },
  {
   "cell_type": "code",
   "execution_count": null,
   "metadata": {
    "collapsed": true
   },
   "outputs": [],
   "source": []
  }
 ],
 "metadata": {
  "kernelspec": {
   "display_name": "Python 3",
   "language": "python",
   "name": "python3"
  },
  "language_info": {
   "codemirror_mode": {
    "name": "ipython",
    "version": 3
   },
   "file_extension": ".py",
   "mimetype": "text/x-python",
   "name": "python",
   "nbconvert_exporter": "python",
   "pygments_lexer": "ipython3",
   "version": "3.6.1"
  }
 },
 "nbformat": 4,
 "nbformat_minor": 2
}
