{
 "cells": [
  {
   "cell_type": "code",
   "execution_count": 2,
   "metadata": {},
   "outputs": [],
   "source": [
    "import pandas as pd\n",
    "df_1=pd.read_csv(\"/home/jian/Projects/Big_Lots/Live_Ramp/Quarterly_Update_2020Q2/upload_files/C_all_quarterly_segments_RFM20Q2.csv\")\n",
    "df_2=pd.read_csv(\"/home/jian/Projects/Big_Lots/Live_Ramp/Quarterly_Update_2020Q2/upload_files/C_renamed_segment_name_all_quarterly_RFM20Q2.csv\")\n"
   ]
  },
  {
   "cell_type": "code",
   "execution_count": 3,
   "metadata": {},
   "outputs": [
    {
     "name": "stdout",
     "output_type": "stream",
     "text": [
      "(599954, 3)\n",
      "(599954, 3)\n"
     ]
    }
   ],
   "source": [
    "print(df_1.shape)\n",
    "print(df_2.shape)"
   ]
  },
  {
   "cell_type": "code",
   "execution_count": 4,
   "metadata": {},
   "outputs": [],
   "source": [
    "df_1_T=pd.read_csv(\"/home/jian/Projects/Big_Lots/Live_Ramp/Quarterly_Update_2020Q2/upload_files/T_Legacy_Active_H_P_Above50K_MultiFamilyOrCondo_RFM20Q2.csv\")\n"
   ]
  },
  {
   "cell_type": "code",
   "execution_count": 5,
   "metadata": {},
   "outputs": [
    {
     "data": {
      "text/html": [
       "<div>\n",
       "<style scoped>\n",
       "    .dataframe tbody tr th:only-of-type {\n",
       "        vertical-align: middle;\n",
       "    }\n",
       "\n",
       "    .dataframe tbody tr th {\n",
       "        vertical-align: top;\n",
       "    }\n",
       "\n",
       "    .dataframe thead th {\n",
       "        text-align: right;\n",
       "    }\n",
       "</style>\n",
       "<table border=\"1\" class=\"dataframe\">\n",
       "  <thead>\n",
       "    <tr style=\"text-align: right;\">\n",
       "      <th></th>\n",
       "      <th>customer_id_hashed</th>\n",
       "      <th>email_address_hash</th>\n",
       "      <th>segment_2020Q2</th>\n",
       "    </tr>\n",
       "  </thead>\n",
       "  <tbody>\n",
       "    <tr>\n",
       "      <th>0</th>\n",
       "      <td>f9c346f683543ece0b5db86832886d395a39199eaaa6c2...</td>\n",
       "      <td>000badce744942ad6b07195975a550f815bd4770f35d4e...</td>\n",
       "      <td>T_Legacy_Active_H_P_Above50K_MultiFamilyOrCond...</td>\n",
       "    </tr>\n",
       "    <tr>\n",
       "      <th>1</th>\n",
       "      <td>d15c0732f260ad3c7418f34df9b8c7e5e6a3710bcf3ebc...</td>\n",
       "      <td>14347f8a1fceaa87083022e75960c818392243a38a22f3...</td>\n",
       "      <td>T_Legacy_Active_H_P_Above50K_MultiFamilyOrCond...</td>\n",
       "    </tr>\n",
       "  </tbody>\n",
       "</table>\n",
       "</div>"
      ],
      "text/plain": [
       "                                  customer_id_hashed  \\\n",
       "0  f9c346f683543ece0b5db86832886d395a39199eaaa6c2...   \n",
       "1  d15c0732f260ad3c7418f34df9b8c7e5e6a3710bcf3ebc...   \n",
       "\n",
       "                                  email_address_hash  \\\n",
       "0  000badce744942ad6b07195975a550f815bd4770f35d4e...   \n",
       "1  14347f8a1fceaa87083022e75960c818392243a38a22f3...   \n",
       "\n",
       "                                      segment_2020Q2  \n",
       "0  T_Legacy_Active_H_P_Above50K_MultiFamilyOrCond...  \n",
       "1  T_Legacy_Active_H_P_Above50K_MultiFamilyOrCond...  "
      ]
     },
     "execution_count": 5,
     "metadata": {},
     "output_type": "execute_result"
    }
   ],
   "source": [
    "df_1_T.head(2)"
   ]
  },
  {
   "cell_type": "code",
   "execution_count": null,
   "metadata": {},
   "outputs": [],
   "source": []
  }
 ],
 "metadata": {
  "kernelspec": {
   "display_name": "Python 3",
   "language": "python",
   "name": "python3"
  },
  "language_info": {
   "codemirror_mode": {
    "name": "ipython",
    "version": 3
   },
   "file_extension": ".py",
   "mimetype": "text/x-python",
   "name": "python",
   "nbconvert_exporter": "python",
   "pygments_lexer": "ipython3",
   "version": "3.6.1"
  }
 },
 "nbformat": 4,
 "nbformat_minor": 2
}
