{
 "cells": [
  {
   "cell_type": "code",
   "execution_count": 1,
   "metadata": {},
   "outputs": [
    {
     "data": {
      "text/plain": [
       "'/home/jian/Projects/Big_Lots/Analysis/2019_Q2/Planner_Requests/Q2_rewards_trans_per_id_and_AOV_JT_20190710'"
      ]
     },
     "execution_count": 1,
     "metadata": {},
     "output_type": "execute_result"
    }
   ],
   "source": [
    "import pandas as pd\n",
    "import os\n",
    "import numpy as np\n",
    "import datetime\n",
    "\n",
    "os.getcwd()"
   ]
  },
  {
   "cell_type": "code",
   "execution_count": 2,
   "metadata": {},
   "outputs": [
    {
     "name": "stdout",
     "output_type": "stream",
     "text": [
      "df_2019_daily_Q2['week_end_dt'].min(): 2019-05-11\n",
      "df_2019_daily_Q2['week_end_dt'].max(): 2019-07-13\n"
     ]
    }
   ],
   "source": [
    "def recurisve_file_gen(root_path):\n",
    "    for root, dirs, files in os.walk(root_path):\n",
    "        for file in files:\n",
    "            yield os.path.join(root,file)\n",
    "\n",
    "all_files_2019_daily=list(recurisve_file_gen(\"/home/jian/BigLots/2019_by_weeks/\"))\n",
    "all_files_2019_daily=[x for x in all_files_2019_daily if (\".txt\" in x) & (\"aily\" in x) ]\n",
    "df_2019_daily=pd.DataFrame({\"file_path\":all_files_2019_daily})\n",
    "df_2019_daily['week_end_dt']=df_2019_daily['file_path'].apply(lambda x: x.split(\"/2019_by_weeks/MediaStorm_\")[1][:10])\n",
    "\n",
    "df_2019_daily_Q2=df_2019_daily[(df_2019_daily['week_end_dt']>=\"2019-05-05\")]\n",
    "print(\"df_2019_daily_Q2['week_end_dt'].min(): \"+str(df_2019_daily_Q2['week_end_dt'].min()))\n",
    "print(\"df_2019_daily_Q2['week_end_dt'].max(): \"+str(df_2019_daily_Q2['week_end_dt'].max()))\n",
    "                        "
   ]
  },
  {
   "cell_type": "code",
   "execution_count": 3,
   "metadata": {},
   "outputs": [],
   "source": [
    "df_Q2_rewards_trans_store_2019=pd.DataFrame()\n",
    "df_Q2_Nonrewards_trans_store_2019=pd.DataFrame()\n",
    "for file in df_2019_daily_Q2['file_path'].tolist():\n",
    "    df=pd.read_table(file,dtype=str,sep=\"|\",\n",
    "                     usecols=['location_id','transaction_dt','transaction_id','customer_id_hashed','item_transaction_amt'])\n",
    "    df['item_transaction_amt']=df['item_transaction_amt'].astype(float)\n",
    "    \n",
    "    # Non-rewards\n",
    "    df_non_rewards=df[pd.isnull(df['customer_id_hashed'])]\n",
    "    df_non_rewards_sales=df_non_rewards.groupby([\"location_id\",'transaction_dt'])['item_transaction_amt'].sum().to_frame().reset_index().rename(columns={\"item_transaction_amt\":\"sales\"})\n",
    "    df_non_rewards=df_non_rewards[['location_id','transaction_dt','transaction_id']].drop_duplicates()\n",
    "    df_non_rewards=df_non_rewards.groupby(['location_id','transaction_dt'])['transaction_id'].count().to_frame().reset_index().rename(columns={\"transaction_id\":\"trans\"})\n",
    "    df_non_rewards=pd.merge(df_non_rewards_sales,df_non_rewards,on=['location_id','transaction_dt'],how=\"outer\")\n",
    "    df_Q2_Nonrewards_trans_store_2019=df_Q2_Nonrewards_trans_store_2019.append(df_non_rewards)\n",
    "    \n",
    "    # Rewards below\n",
    "    df=df[pd.notnull(df['customer_id_hashed'])]\n",
    "    df_trans=df[['location_id','transaction_dt','transaction_id','customer_id_hashed']].drop_duplicates()\n",
    "    df_trans=df_trans.groupby(['customer_id_hashed','location_id','transaction_dt'])['transaction_id'].count().to_frame().reset_index().rename(columns={\"transaction_id\":\"trans\"})\n",
    "    df_sales=df.groupby(['customer_id_hashed','location_id','transaction_dt'])['item_transaction_amt'].sum().to_frame().reset_index().rename(columns={\"item_transaction_amt\":\"sales\"})\n",
    "    \n",
    "    df=pd.merge(df_sales,df_trans,on=['customer_id_hashed','location_id','transaction_dt'],how=\"outer\")\n",
    "    df_Q2_rewards_trans_store_2019=df_Q2_rewards_trans_store_2019.append(df)\n",
    "    \n",
    "    "
   ]
  },
  {
   "cell_type": "code",
   "execution_count": 4,
   "metadata": {},
   "outputs": [],
   "source": [
    "df_Q2_rewards_trans_store_2019['store_type']=np.where(df_Q2_rewards_trans_store_2019['location_id']==\"6990\",\"Online\",\"Instore\")\n",
    "df_Q2_Nonrewards_trans_store_2019['store_type']=np.where(df_Q2_Nonrewards_trans_store_2019['location_id']==\"6990\",\"Online\",\"Instore\")\n"
   ]
  },
  {
   "cell_type": "code",
   "execution_count": 5,
   "metadata": {},
   "outputs": [],
   "source": [
    "df_Q2_rewards_trans_type_2019=df_Q2_rewards_trans_store_2019.groupby(['customer_id_hashed','store_type'])['trans','sales'].sum().reset_index()\n",
    "df_Q2_Nonrewards_trans_type_2019=df_Q2_Nonrewards_trans_store_2019.groupby(['store_type'])['trans','sales'].sum().reset_index()\n"
   ]
  },
  {
   "cell_type": "code",
   "execution_count": 6,
   "metadata": {},
   "outputs": [],
   "source": [
    "df_Q2_rewards_trans_type_2019['both_type']=\"Both_Online_and_Instore\"\n",
    "df_Q2_Nonrewards_trans_type_2019['both_type']=\"Both_Online_and_Instore\"\n"
   ]
  },
  {
   "cell_type": "code",
   "execution_count": 8,
   "metadata": {},
   "outputs": [],
   "source": [
    "agg_func_type={\"trans\":\"sum\",\"sales\":\"sum\",\"customer_id_hashed\":\"count\"}\n",
    "agg_func_both={\"trans\":\"sum\",\"sales\":\"sum\",\"customer_id_hashed\":\"nunique\"}\n",
    "\n",
    "df_output_type_rewards_2019=df_Q2_rewards_trans_type_2019.groupby(['store_type'])['trans','sales','customer_id_hashed'].agg(agg_func_type).reset_index()\n",
    "df_output_both_rewards_2019=df_Q2_rewards_trans_type_2019.groupby(['both_type'])['trans','sales','customer_id_hashed'].agg(agg_func_both).reset_index()\n",
    "\n",
    "df_output_type_rewards_2019['avg_trans_per_reward_id']=df_output_type_rewards_2019['trans']/df_output_type_rewards_2019['customer_id_hashed']\n",
    "df_output_type_rewards_2019['AOV']=df_output_type_rewards_2019['sales']/df_output_type_rewards_2019['trans']\n",
    "\n",
    "df_output_both_rewards_2019['avg_trans_per_reward_id']=df_output_both_rewards_2019['trans']/df_output_both_rewards_2019['customer_id_hashed']\n",
    "df_output_both_rewards_2019['AOV']=df_output_both_rewards_2019['sales']/df_output_both_rewards_2019['trans']\n"
   ]
  },
  {
   "cell_type": "code",
   "execution_count": 10,
   "metadata": {},
   "outputs": [],
   "source": [
    "df_output_type_Nonrewards_2019=df_Q2_Nonrewards_trans_type_2019.groupby(['store_type'])['trans','sales'].sum().reset_index()\n",
    "df_output_both_Nonrewards_2019=df_Q2_Nonrewards_trans_type_2019.groupby(['both_type'])['trans','sales'].sum().reset_index()\n",
    "\n",
    "df_output_type_Nonrewards_2019['AOV']=df_output_type_Nonrewards_2019['sales']/df_output_type_Nonrewards_2019['trans']\n",
    "\n",
    "df_output_both_Nonrewards_2019['AOV']=df_output_both_Nonrewards_2019['sales']/df_output_both_Nonrewards_2019['trans']\n"
   ]
  },
  {
   "cell_type": "markdown",
   "metadata": {
    "collapsed": true
   },
   "source": [
    "# 2018"
   ]
  },
  {
   "cell_type": "code",
   "execution_count": 11,
   "metadata": {},
   "outputs": [
    {
     "name": "stdout",
     "output_type": "stream",
     "text": [
      "df_2018_daily_Q2['week_end_dt'].min(): 2018-06-16\n",
      "df_2018_daily_Q2['week_end_dt'].max(): 2018-07-14\n"
     ]
    }
   ],
   "source": [
    "all_files_2018_daily=list(recurisve_file_gen(\"/home/jian/BigLots/2018_by_weeks/\"))\n",
    "all_files_2018_daily=[x for x in all_files_2018_daily if (\".txt\" in x) & (\"aily\" in x) ]\n",
    "df_2018_daily=pd.DataFrame({\"file_path\":all_files_2018_daily})\n",
    "df_2018_daily['week_end_dt']=df_2018_daily['file_path'].apply(lambda x: x.split(\"/2018_by_weeks/MediaStorm_\")[1][:10])\n",
    "\n",
    "df_2018_daily_Q2=df_2018_daily[(df_2018_daily['week_end_dt']>=\"2018-05-06\") &\\\n",
    "                               (df_2018_daily['week_end_dt']<=\"2018-07-14\")]\n",
    "\n",
    "print(\"df_2018_daily_Q2['week_end_dt'].min(): \"+str(df_2018_daily_Q2['week_end_dt'].min()))\n",
    "print(\"df_2018_daily_Q2['week_end_dt'].max(): \"+str(df_2018_daily_Q2['week_end_dt'].max()))\n",
    "                        "
   ]
  },
  {
   "cell_type": "code",
   "execution_count": 12,
   "metadata": {},
   "outputs": [
    {
     "name": "stdout",
     "output_type": "stream",
     "text": [
      "df_2018_historical['week_end_dt'].min(): 2018-05-12\n",
      "df_2018_historical['week_end_dt'].max(): 2018-06-09\n"
     ]
    }
   ],
   "source": [
    "all_files_2018_historical=list(recurisve_file_gen(\"/home/jian/BigLots/hist_daily_data_subclasslevel/\"))\n",
    "all_files_2018_historical=[x for x in all_files_2018_historical if (\".txt\" in x)]\n",
    "df_2018_historical=pd.DataFrame({\"file_path\":all_files_2018_historical})\n",
    "df_2018_historical['week_end_dt']=df_2018_historical['file_path'].apply(lambda x: x.split(\"lySales_week_ending_\")[1][:10])\n",
    "\n",
    "df_2018_historical=df_2018_historical[(df_2018_historical['week_end_dt']>=\"2018-05-06\") &\\\n",
    "                               (df_2018_historical['week_end_dt']<=\"2018-07-14\")]\n",
    "\n",
    "print(\"df_2018_historical['week_end_dt'].min(): \"+str(df_2018_historical['week_end_dt'].min()))\n",
    "print(\"df_2018_historical['week_end_dt'].max(): \"+str(df_2018_historical['week_end_dt'].max()))\n",
    "                        "
   ]
  },
  {
   "cell_type": "code",
   "execution_count": 13,
   "metadata": {},
   "outputs": [
    {
     "data": {
      "text/plain": [
       "(10, 2)"
      ]
     },
     "execution_count": 13,
     "metadata": {},
     "output_type": "execute_result"
    }
   ],
   "source": [
    "all_2018_subclass_files=df_2018_historical.append(df_2018_daily_Q2)\n"
   ]
  },
  {
   "cell_type": "code",
   "execution_count": 16,
   "metadata": {},
   "outputs": [],
   "source": [
    "df_Q2_rewards_trans_store_2018=pd.DataFrame()\n",
    "df_Q2_Nonrewards_trans_store_2018=pd.DataFrame()\n",
    "\n",
    "for file in all_2018_subclass_files['file_path'].tolist():\n",
    "    df=pd.read_table(file,dtype=str,sep=\"|\",\n",
    "                     usecols=['location_id','transaction_dt','transaction_id','customer_id_hashed','subclass_transaction_amt'])\n",
    "    df['subclass_transaction_amt']=df['subclass_transaction_amt'].astype(float)\n",
    "    \n",
    "    # Non-rewards\n",
    "    df_non_rewards=df[pd.isnull(df['customer_id_hashed'])]\n",
    "    df_non_rewards_sales=df_non_rewards.groupby([\"location_id\",'transaction_dt'])['subclass_transaction_amt'].sum().to_frame().reset_index().rename(columns={\"subclass_transaction_amt\":\"sales\"})\n",
    "    df_non_rewards=df_non_rewards[['location_id','transaction_dt','transaction_id']].drop_duplicates()\n",
    "    df_non_rewards=df_non_rewards.groupby(['location_id','transaction_dt'])['transaction_id'].count().to_frame().reset_index().rename(columns={\"transaction_id\":\"trans\"})\n",
    "    df_non_rewards=pd.merge(df_non_rewards_sales,df_non_rewards,on=['location_id','transaction_dt'],how=\"outer\")\n",
    "    df_Q2_Nonrewards_trans_store_2018=df_Q2_Nonrewards_trans_store_2018.append(df_non_rewards)\n",
    "    \n",
    "    # Rewards below\n",
    "    df=df[pd.notnull(df['customer_id_hashed'])]\n",
    "    df_trans=df[['location_id','transaction_dt','transaction_id','customer_id_hashed']].drop_duplicates()\n",
    "    df_trans=df_trans.groupby(['customer_id_hashed','location_id','transaction_dt'])['transaction_id'].count().to_frame().reset_index().rename(columns={\"transaction_id\":\"trans\"})\n",
    "    df_sales=df.groupby(['customer_id_hashed','location_id','transaction_dt'])['subclass_transaction_amt'].sum().to_frame().reset_index().rename(columns={\"subclass_transaction_amt\":\"sales\"})\n",
    "    \n",
    "    df=pd.merge(df_sales,df_trans,on=['customer_id_hashed','location_id','transaction_dt'],how=\"outer\")\n",
    "    df_Q2_rewards_trans_store_2018=df_Q2_rewards_trans_store_2018.append(df)\n",
    "    \n"
   ]
  },
  {
   "cell_type": "code",
   "execution_count": 17,
   "metadata": {},
   "outputs": [],
   "source": [
    "df_Q2_rewards_trans_store_2018['store_type']=np.where(df_Q2_rewards_trans_store_2018['location_id']==\"6990\",\"Online\",\"Instore\")\n",
    "df_Q2_Nonrewards_trans_store_2018['store_type']=np.where(df_Q2_Nonrewards_trans_store_2018['location_id']==\"6990\",\"Online\",\"Instore\")\n"
   ]
  },
  {
   "cell_type": "code",
   "execution_count": 18,
   "metadata": {},
   "outputs": [],
   "source": [
    "df_Q2_rewards_trans_type_2018=df_Q2_rewards_trans_store_2018.groupby(['customer_id_hashed','store_type'])['trans','sales'].sum().reset_index()\n",
    "df_Q2_Nonrewards_trans_type_2018=df_Q2_Nonrewards_trans_store_2018.groupby(['store_type'])['trans','sales'].sum().reset_index()\n"
   ]
  },
  {
   "cell_type": "code",
   "execution_count": 19,
   "metadata": {},
   "outputs": [],
   "source": [
    "df_Q2_rewards_trans_type_2018['both_type']=\"Both_Online_and_Instore\"\n",
    "df_Q2_Nonrewards_trans_type_2018['both_type']=\"Both_Online_and_Instore\"\n"
   ]
  },
  {
   "cell_type": "code",
   "execution_count": 20,
   "metadata": {
    "collapsed": true
   },
   "outputs": [],
   "source": [
    "agg_func_type={\"trans\":\"sum\",\"sales\":\"sum\",\"customer_id_hashed\":\"count\"}\n",
    "agg_func_both={\"trans\":\"sum\",\"sales\":\"sum\",\"customer_id_hashed\":\"nunique\"}\n",
    "\n",
    "df_output_type_rewards_2018=df_Q2_rewards_trans_type_2018.groupby(['store_type'])['trans','sales','customer_id_hashed'].agg(agg_func_type).reset_index()\n",
    "df_output_both_rewards_2018=df_Q2_rewards_trans_type_2018.groupby(['both_type'])['trans','sales','customer_id_hashed'].agg(agg_func_both).reset_index()\n",
    "\n",
    "df_output_type_rewards_2018['avg_trans_per_reward_id']=df_output_type_rewards_2018['trans']/df_output_type_rewards_2018['customer_id_hashed']\n",
    "df_output_type_rewards_2018['AOV']=df_output_type_rewards_2018['sales']/df_output_type_rewards_2018['trans']\n",
    "\n",
    "df_output_both_rewards_2018['avg_trans_per_reward_id']=df_output_both_rewards_2018['trans']/df_output_both_rewards_2018['customer_id_hashed']\n",
    "df_output_both_rewards_2018['AOV']=df_output_both_rewards_2018['sales']/df_output_both_rewards_2018['trans']\n"
   ]
  },
  {
   "cell_type": "code",
   "execution_count": 21,
   "metadata": {},
   "outputs": [],
   "source": [
    "df_output_type_Nonrewards_2018=df_Q2_Nonrewards_trans_type_2018.groupby(['store_type'])['trans','sales'].sum().reset_index()\n",
    "df_output_both_Nonrewards_2018=df_Q2_Nonrewards_trans_type_2018.groupby(['both_type'])['trans','sales'].sum().reset_index()\n",
    "\n",
    "df_output_type_Nonrewards_2018['AOV']=df_Q2_Nonrewards_trans_type_2018['sales']/df_Q2_Nonrewards_trans_type_2018['trans']\n",
    "\n",
    "df_output_both_Nonrewards_2018['AOV']=df_output_both_Nonrewards_2018['sales']/df_output_both_Nonrewards_2018['trans']\n"
   ]
  },
  {
   "cell_type": "code",
   "execution_count": null,
   "metadata": {
    "collapsed": true
   },
   "outputs": [],
   "source": []
  },
  {
   "cell_type": "code",
   "execution_count": 22,
   "metadata": {},
   "outputs": [
    {
     "name": "stdout",
     "output_type": "stream",
     "text": [
      "df_2018_daily_Q2_later['week_end_dt'].min(): 2018-07-21\n",
      "df_2018_daily_Q2_later['week_end_dt'].max(): 2018-08-04\n"
     ]
    }
   ],
   "source": [
    "all_files_2018_daily_later=list(recurisve_file_gen(\"/home/jian/BigLots/2018_by_weeks/\"))\n",
    "all_files_2018_daily_later=[x for x in all_files_2018_daily if (\".txt\" in x) & (\"aily\" in x) ]\n",
    "df_2018_daily_later=pd.DataFrame({\"file_path\":all_files_2018_daily_later})\n",
    "df_2018_daily_later['week_end_dt']=df_2018_daily_later['file_path'].apply(lambda x: x.split(\"/2018_by_weeks/MediaStorm_\")[1][:10])\n",
    "\n",
    "df_2018_daily_Q2_later=df_2018_daily[(df_2018_daily_later['week_end_dt']>\"2018-07-14\") &\\\n",
    "                               (df_2018_daily_later['week_end_dt']<=\"2018-08-04\")]\n",
    "\n",
    "print(\"df_2018_daily_Q2_later['week_end_dt'].min(): \"+str(df_2018_daily_Q2_later['week_end_dt'].min()))\n",
    "print(\"df_2018_daily_Q2_later['week_end_dt'].max(): \"+str(df_2018_daily_Q2_later['week_end_dt'].max()))\n",
    "                        "
   ]
  },
  {
   "cell_type": "code",
   "execution_count": 24,
   "metadata": {},
   "outputs": [],
   "source": [
    "# The whole Q2 2018 with 13 weeks\n",
    "for file in df_2018_daily_Q2_later['file_path'].tolist():\n",
    "    df=pd.read_table(file,dtype=str,sep=\"|\",\n",
    "                     usecols=['location_id','transaction_dt','transaction_id','customer_id_hashed','subclass_transaction_amt'])\n",
    "    df['subclass_transaction_amt']=df['subclass_transaction_amt'].astype(float)\n",
    "    \n",
    "    # Non-rewards\n",
    "    df_non_rewards=df[pd.isnull(df['customer_id_hashed'])]\n",
    "    df_non_rewards_sales=df_non_rewards.groupby([\"location_id\",'transaction_dt'])['subclass_transaction_amt'].sum().to_frame().reset_index().rename(columns={\"subclass_transaction_amt\":\"sales\"})\n",
    "    df_non_rewards=df_non_rewards[['location_id','transaction_dt','transaction_id']].drop_duplicates()\n",
    "    df_non_rewards=df_non_rewards.groupby(['location_id','transaction_dt'])['transaction_id'].count().to_frame().reset_index().rename(columns={\"transaction_id\":\"trans\"})\n",
    "    df_non_rewards=pd.merge(df_non_rewards_sales,df_non_rewards,on=['location_id','transaction_dt'],how=\"outer\")\n",
    "    df_Q2_Nonrewards_trans_store_2018=df_Q2_Nonrewards_trans_store_2018.append(df_non_rewards)\n",
    "    \n",
    "    # Rewards below\n",
    "    df=df[pd.notnull(df['customer_id_hashed'])]\n",
    "    df_trans=df[['location_id','transaction_dt','transaction_id','customer_id_hashed']].drop_duplicates()\n",
    "    df_trans=df_trans.groupby(['customer_id_hashed','location_id','transaction_dt'])['transaction_id'].count().to_frame().reset_index().rename(columns={\"transaction_id\":\"trans\"})\n",
    "    df_sales=df.groupby(['customer_id_hashed','location_id','transaction_dt'])['subclass_transaction_amt'].sum().to_frame().reset_index().rename(columns={\"subclass_transaction_amt\":\"sales\"})\n",
    "    \n",
    "    df=pd.merge(df_sales,df_trans,on=['customer_id_hashed','location_id','transaction_dt'],how=\"outer\")\n",
    "    df_Q2_rewards_trans_store_2018=df_Q2_rewards_trans_store_2018.append(df)\n",
    "    \n"
   ]
  },
  {
   "cell_type": "code",
   "execution_count": 25,
   "metadata": {},
   "outputs": [],
   "source": [
    "df_Q2_rewards_trans_store_2018['store_type']=np.where(df_Q2_rewards_trans_store_2018['location_id']==\"6990\",\"Online\",\"Instore\")\n",
    "df_Q2_Nonrewards_trans_store_2018['store_type']=np.where(df_Q2_Nonrewards_trans_store_2018['location_id']==\"6990\",\"Online\",\"Instore\")\n",
    "\n",
    "df_Q2_rewards_trans_type_2018=df_Q2_rewards_trans_store_2018.groupby(['customer_id_hashed','store_type'])['trans','sales'].sum().reset_index()\n",
    "df_Q2_Nonrewards_trans_type_2018=df_Q2_Nonrewards_trans_store_2018.groupby(['store_type'])['trans','sales'].sum().reset_index()\n",
    "\n",
    "df_Q2_rewards_trans_type_2018['both_type']=\"Both_Online_and_Instore\"\n",
    "df_Q2_Nonrewards_trans_type_2018['both_type']=\"Both_Online_and_Instore\"\n"
   ]
  },
  {
   "cell_type": "code",
   "execution_count": null,
   "metadata": {
    "collapsed": true
   },
   "outputs": [],
   "source": []
  },
  {
   "cell_type": "code",
   "execution_count": 26,
   "metadata": {
    "collapsed": true
   },
   "outputs": [],
   "source": [
    "agg_func_type={\"trans\":\"sum\",\"sales\":\"sum\",\"customer_id_hashed\":\"count\"}\n",
    "agg_func_both={\"trans\":\"sum\",\"sales\":\"sum\",\"customer_id_hashed\":\"nunique\"}\n",
    "\n",
    "df_output_type_rewards_2018_whole=df_Q2_rewards_trans_type_2018.groupby(['store_type'])['trans','sales','customer_id_hashed'].agg(agg_func_type).reset_index()\n",
    "df_output_both_rewards_2018_whole=df_Q2_rewards_trans_type_2018.groupby(['both_type'])['trans','sales','customer_id_hashed'].agg(agg_func_both).reset_index()\n",
    "\n",
    "df_output_type_rewards_2018_whole['avg_trans_per_reward_id']=df_output_type_rewards_2018_whole['trans']/df_output_type_rewards_2018_whole['customer_id_hashed']\n",
    "df_output_type_rewards_2018_whole['AOV']=df_output_type_rewards_2018_whole['sales']/df_output_type_rewards_2018_whole['trans']\n",
    "\n",
    "df_output_both_rewards_2018_whole['avg_trans_per_reward_id']=df_output_both_rewards_2018_whole['trans']/df_output_both_rewards_2018_whole['customer_id_hashed']\n",
    "df_output_both_rewards_2018_whole['AOV']=df_output_both_rewards_2018_whole['sales']/df_output_both_rewards_2018_whole['trans']\n"
   ]
  },
  {
   "cell_type": "code",
   "execution_count": 27,
   "metadata": {
    "collapsed": true
   },
   "outputs": [],
   "source": [
    "df_output_type_Nonrewards_2018_whole=df_Q2_Nonrewards_trans_type_2018.groupby(['store_type'])['trans','sales'].sum().reset_index()\n",
    "df_output_both_Nonrewards_2018_whole=df_Q2_Nonrewards_trans_type_2018.groupby(['both_type'])['trans','sales'].sum().reset_index()\n",
    "\n",
    "df_output_type_Nonrewards_2018_whole['AOV']=df_output_type_Nonrewards_2018_whole['sales']/df_output_type_Nonrewards_2018_whole['trans']\n",
    "\n",
    "df_output_both_Nonrewards_2018_whole['AOV']=df_output_both_Nonrewards_2018_whole['sales']/df_output_both_Nonrewards_2018_whole['trans']\n"
   ]
  },
  {
   "cell_type": "code",
   "execution_count": 29,
   "metadata": {},
   "outputs": [],
   "source": [
    "df_rewards_2018_store=df_Q2_rewards_trans_store_2018.groupby([\"location_id\",\"transaction_dt\",\"store_type\"])['sales','trans'].sum().reset_index()\n",
    "df_rewards_2019_store=df_Q2_rewards_trans_store_2019.groupby([\"location_id\",\"transaction_dt\",\"store_type\"])['sales','trans'].sum().reset_index()\n",
    "\n",
    "df_Nonrewards_2018_store=df_Q2_Nonrewards_trans_store_2018.groupby([\"location_id\",\"transaction_dt\",\"store_type\"])['sales','trans'].sum().reset_index()\n",
    "df_Nonrewards_2019_store=df_Q2_Nonrewards_trans_store_2019.groupby([\"location_id\",\"transaction_dt\",\"store_type\"])['sales','trans'].sum().reset_index()\n"
   ]
  },
  {
   "cell_type": "code",
   "execution_count": 32,
   "metadata": {},
   "outputs": [],
   "source": [
    "writer=pd.ExcelWriter(\"./BL_Q2_overall_10_weeks_18_19_tracking_JL_\"+str(datetime.datetime.now().date())+\".xlsx\",engine=\"xlsxwriter\")\n",
    "\n",
    "df_output_type_rewards_2019.to_excel(writer,\"R_online_and_instore_19_10W\",index=False)\n",
    "df_output_both_rewards_2019.to_excel(writer,\"R_overall_19_10W\",index=False)\n",
    "df_output_type_Nonrewards_2019.to_excel(writer,\"N_online_and_instore_19_10W\",index=False)\n",
    "df_output_both_Nonrewards_2019.to_excel(writer,\"N_overall_19_10W\",index=False)\n",
    "\n",
    "\n",
    "df_output_type_rewards_2018.to_excel(writer,\"R_online_and_instore_18_10W\",index=False)\n",
    "df_output_both_rewards_2018.to_excel(writer,\"R_overall_18_10W\",index=False)\n",
    "df_output_type_Nonrewards_2018.to_excel(writer,\"N_online_and_instore_18_10W\",index=False)\n",
    "df_output_both_Nonrewards_2018.to_excel(writer,\"N_overall_18_10W\",index=False)\n",
    "\n",
    "\n",
    "df_output_type_rewards_2018_whole.to_excel(writer,\"R_online_and_instore_18_13W\",index=False)\n",
    "df_output_both_rewards_2018_whole.to_excel(writer,\"R_overall_18_13W\",index=False)\n",
    "df_output_type_Nonrewards_2018_whole.to_excel(writer,\"N_online_and_instore_18_13W\",index=False)\n",
    "df_output_both_Nonrewards_2018_whole.to_excel(writer,\"N_overall_18_13W\",index=False)\n",
    "\n",
    "df_rewards_2018_store.to_excel(writer,\"df_rewards_2018_store\",index=False)\n",
    "df_rewards_2019_store.to_excel(writer,\"df_rewards_2019_store\",index=False)\n",
    "\n",
    "df_Nonrewards_2018_store.to_excel(writer,\"df_Nonrewards_2018_store\",index=False)\n",
    "df_Nonrewards_2019_store.to_excel(writer,\"df_Nonrewards_2019_store\",index=False)\n",
    "\n",
    "writer.save()"
   ]
  },
  {
   "cell_type": "code",
   "execution_count": null,
   "metadata": {
    "collapsed": true
   },
   "outputs": [],
   "source": []
  }
 ],
 "metadata": {
  "kernelspec": {
   "display_name": "Python 3",
   "language": "python",
   "name": "python3"
  },
  "language_info": {
   "codemirror_mode": {
    "name": "ipython",
    "version": 3
   },
   "file_extension": ".py",
   "mimetype": "text/x-python",
   "name": "python",
   "nbconvert_exporter": "python",
   "pygments_lexer": "ipython3",
   "version": "3.6.1"
  }
 },
 "nbformat": 4,
 "nbformat_minor": 2
}
