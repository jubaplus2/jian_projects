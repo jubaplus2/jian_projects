{
 "cells": [
  {
   "cell_type": "code",
   "execution_count": 26,
   "metadata": {},
   "outputs": [
    {
     "data": {
      "text/plain": [
       "'/home/jian/Projects/Saatva/MMM/Input'"
      ]
     },
     "execution_count": 26,
     "metadata": {},
     "output_type": "execute_result"
    }
   ],
   "source": [
    "import pandas as pd\n",
    "import os\n",
    "import datetime\n",
    "import numpy as np\n",
    "os.getcwd()\n",
    "\n",
    "# Converted from seconds to minutes with 2 decimals"
   ]
  },
  {
   "cell_type": "code",
   "execution_count": 27,
   "metadata": {},
   "outputs": [
    {
     "name": "stderr",
     "output_type": "stream",
     "text": [
      "/usr/local/lib/python3.6/site-packages/ipykernel_launcher.py:3: SettingWithCopyWarning: \n",
      "A value is trying to be set on a copy of a slice from a DataFrame.\n",
      "Try using .loc[row_indexer,col_indexer] = value instead\n",
      "\n",
      "See the caveats in the documentation: http://pandas.pydata.org/pandas-docs/stable/indexing.html#indexing-view-versus-copy\n",
      "  This is separate from the ipykernel package so we can avoid doing imports until\n",
      "/usr/local/lib/python3.6/site-packages/ipykernel_launcher.py:5: SettingWithCopyWarning: \n",
      "A value is trying to be set on a copy of a slice from a DataFrame.\n",
      "Try using .loc[row_indexer,col_indexer] = value instead\n",
      "\n",
      "See the caveats in the documentation: http://pandas.pydata.org/pandas-docs/stable/indexing.html#indexing-view-versus-copy\n",
      "  \"\"\"\n",
      "/usr/local/lib/python3.6/site-packages/ipykernel_launcher.py:7: SettingWithCopyWarning: \n",
      "A value is trying to be set on a copy of a slice from a DataFrame.\n",
      "Try using .loc[row_indexer,col_indexer] = value instead\n",
      "\n",
      "See the caveats in the documentation: http://pandas.pydata.org/pandas-docs/stable/indexing.html#indexing-view-versus-copy\n",
      "  import sys\n"
     ]
    },
    {
     "data": {
      "text/plain": [
       "(365, 3)"
      ]
     },
     "execution_count": 27,
     "metadata": {},
     "output_type": "execute_result"
    }
   ],
   "source": [
    "sales_data=pd.read_csv('/home/jian/Projects/Saatva/MMM/Input/sales_data.csv',dtype=str)\n",
    "sales_data_saatva=sales_data[sales_data['brand']=='saatva']\n",
    "sales_data_saatva['sales']=sales_data_saatva['sales'].astype(float).round(2)\n",
    "\n",
    "sales_data_saatva['date']=sales_data_saatva['date_time'].apply(lambda x: datetime.datetime.strptime(x.split(\" \")[0],\"%Y-%m-%d\").date())\n",
    "sales_data_2018_Saatva=sales_data_saatva[sales_data_saatva['date'].apply(lambda x: x.year==2018)]\n",
    "sales_data_2018_Saatva['date']=sales_data_2018_Saatva['date'].astype(str)\n",
    "sales_data_2018_Saatva_sales=sales_data_2018_Saatva.groupby(['date'])['sales'].sum().to_frame().reset_index().rename(columns={\"sales\":\"sales_net\"})\n",
    "sales_data_2018_Saatva_trans=sales_data_2018_Saatva.groupby(['date'])['sales'].count().to_frame().reset_index().rename(columns={\"sales\":\"trans_net\"})\n",
    "sales_data_2018_Saatva=pd.merge(sales_data_2018_Saatva_sales,sales_data_2018_Saatva_trans,on=\"date\")\n",
    "sales_data_2018_Saatva.shape"
   ]
  },
  {
   "cell_type": "code",
   "execution_count": null,
   "metadata": {
    "collapsed": true
   },
   "outputs": [],
   "source": []
  },
  {
   "cell_type": "code",
   "execution_count": 28,
   "metadata": {},
   "outputs": [
    {
     "name": "stdout",
     "output_type": "stream",
     "text": [
      "(365, 86)\n",
      "86\n"
     ]
    },
    {
     "data": {
      "text/html": [
       "<div>\n",
       "<style>\n",
       "    .dataframe thead tr:only-child th {\n",
       "        text-align: right;\n",
       "    }\n",
       "\n",
       "    .dataframe thead th {\n",
       "        text-align: left;\n",
       "    }\n",
       "\n",
       "    .dataframe tbody tr th {\n",
       "        vertical-align: top;\n",
       "    }\n",
       "</style>\n",
       "<table border=\"1\" class=\"dataframe\">\n",
       "  <thead>\n",
       "    <tr style=\"text-align: right;\">\n",
       "      <th></th>\n",
       "      <th>date</th>\n",
       "      <th>Users_Affiliates</th>\n",
       "      <th>Users_Bing Brand</th>\n",
       "      <th>Users_Bing Non-Brand</th>\n",
       "      <th>Users_Facebook</th>\n",
       "      <th>Users_GDN Non-Remarketing</th>\n",
       "      <th>Users_Google Brand</th>\n",
       "      <th>Users_Google Non-Brand</th>\n",
       "      <th>Users_Google shopping</th>\n",
       "      <th>Users_SEO</th>\n",
       "      <th>...</th>\n",
       "      <th>Avg Time On Page_direct</th>\n",
       "      <th>Avg Time On Page_retargeting</th>\n",
       "      <th>Avg Time On Page_Yahoo Non-Remarketing</th>\n",
       "      <th>Sessions_NetTotal</th>\n",
       "      <th>Time on Page_NetTotal</th>\n",
       "      <th>Transactions_NetTotal</th>\n",
       "      <th>Users_NetTotal</th>\n",
       "      <th>ga:goal11Completions_NetTotal</th>\n",
       "      <th>sales_net</th>\n",
       "      <th>trans_net</th>\n",
       "    </tr>\n",
       "  </thead>\n",
       "  <tbody>\n",
       "    <tr>\n",
       "      <th>0</th>\n",
       "      <td>2018-01-01</td>\n",
       "      <td>2213.0</td>\n",
       "      <td>139.0</td>\n",
       "      <td>2659.0</td>\n",
       "      <td>882.0</td>\n",
       "      <td>6439.0</td>\n",
       "      <td>1013.0</td>\n",
       "      <td>3271.0</td>\n",
       "      <td>530.0</td>\n",
       "      <td>853.0</td>\n",
       "      <td>...</td>\n",
       "      <td>3.958967</td>\n",
       "      <td>0.617692</td>\n",
       "      <td>0.0</td>\n",
       "      <td>25687.0</td>\n",
       "      <td>52876.65</td>\n",
       "      <td>165.0</td>\n",
       "      <td>23803.0</td>\n",
       "      <td>605.0</td>\n",
       "      <td>330007.80</td>\n",
       "      <td>232</td>\n",
       "    </tr>\n",
       "    <tr>\n",
       "      <th>1</th>\n",
       "      <td>2018-01-02</td>\n",
       "      <td>1852.0</td>\n",
       "      <td>133.0</td>\n",
       "      <td>2926.0</td>\n",
       "      <td>838.0</td>\n",
       "      <td>5907.0</td>\n",
       "      <td>986.0</td>\n",
       "      <td>3355.0</td>\n",
       "      <td>489.0</td>\n",
       "      <td>875.0</td>\n",
       "      <td>...</td>\n",
       "      <td>4.251077</td>\n",
       "      <td>0.764586</td>\n",
       "      <td>0.0</td>\n",
       "      <td>25297.0</td>\n",
       "      <td>49339.65</td>\n",
       "      <td>140.0</td>\n",
       "      <td>23532.0</td>\n",
       "      <td>553.0</td>\n",
       "      <td>316132.57</td>\n",
       "      <td>227</td>\n",
       "    </tr>\n",
       "  </tbody>\n",
       "</table>\n",
       "<p>2 rows × 86 columns</p>\n",
       "</div>"
      ],
      "text/plain": [
       "         date  Users_Affiliates  Users_Bing Brand  Users_Bing Non-Brand  \\\n",
       "0  2018-01-01            2213.0             139.0                2659.0   \n",
       "1  2018-01-02            1852.0             133.0                2926.0   \n",
       "\n",
       "   Users_Facebook  Users_GDN Non-Remarketing  Users_Google Brand  \\\n",
       "0           882.0                     6439.0              1013.0   \n",
       "1           838.0                     5907.0               986.0   \n",
       "\n",
       "   Users_Google Non-Brand  Users_Google shopping  Users_SEO    ...      \\\n",
       "0                  3271.0                  530.0      853.0    ...       \n",
       "1                  3355.0                  489.0      875.0    ...       \n",
       "\n",
       "   Avg Time On Page_direct  Avg Time On Page_retargeting  \\\n",
       "0                 3.958967                      0.617692   \n",
       "1                 4.251077                      0.764586   \n",
       "\n",
       "   Avg Time On Page_Yahoo Non-Remarketing  Sessions_NetTotal  \\\n",
       "0                                     0.0            25687.0   \n",
       "1                                     0.0            25297.0   \n",
       "\n",
       "   Time on Page_NetTotal  Transactions_NetTotal  Users_NetTotal  \\\n",
       "0               52876.65                  165.0         23803.0   \n",
       "1               49339.65                  140.0         23532.0   \n",
       "\n",
       "   ga:goal11Completions_NetTotal  sales_net  trans_net  \n",
       "0                          605.0  330007.80        232  \n",
       "1                          553.0  316132.57        227  \n",
       "\n",
       "[2 rows x 86 columns]"
      ]
     },
     "execution_count": 28,
     "metadata": {},
     "output_type": "execute_result"
    }
   ],
   "source": [
    "SM_data=pd.read_csv(\"/home/jian/Projects/Saatva/MMM/Input/all_sm_0409.csv\",dtype=str)\n",
    "del SM_data['Unnamed: 0']\n",
    "\n",
    "for col in SM_data.columns.tolist()[1:]:\n",
    "    SM_data[col]=SM_data[col].astype(float)\n",
    "    if \"Time on Page\" in col:\n",
    "        SM_data[col]=SM_data[col].apply(lambda x: np.round(x/60,2))\n",
    "SM_data=SM_data[SM_data['date'].apply(lambda x: x.split(\"-\")[0]==\"2018\")]\n",
    "SM_data=pd.merge(SM_data,sales_data_2018_Saatva,on=\"date\",how=\"inner\")\n",
    "SM_data.shape\n",
    "\n",
    "median_types=SM_data.columns.tolist()\n",
    "median_types=[x for x in median_types if \"Sessions_\" in x]\n",
    "median_types=[x.split(\"_\")[1] for x in median_types]\n",
    "median_types.remove(\"NetTotal\")\n",
    "\n",
    "\n",
    "for col in median_types:\n",
    "    SM_data['Avg Time On Page_'+col]=SM_data['Time on Page_'+col]/SM_data['Users_'+col]\n",
    "    SM_data['Avg Time On Page_'+col]=SM_data['Avg Time On Page_'+col].fillna(0)\n",
    "    \n",
    "print(SM_data.shape)\n",
    "sorted_columns_list_0=['date']+[\"Users_\"+x for x in median_types]+[\"Time on Page_\"+x for x in median_types]+\\\n",
    "                    [\"Sessions_\"+x for x in median_types]+[\"Transactions_\"+x for x in median_types]+\\\n",
    "                    [\"ga:goal11Completions_\"+x for x in median_types]+[\"Avg Time On Page_\"+x for x in median_types]\n",
    "sorted_columns_list_1=sorted_columns_list_0+[x for x in SM_data.columns.tolist() if x not in sorted_columns_list_0]\n",
    "\n",
    "print(len(sorted_columns_list_1))   \n",
    "SM_data=SM_data[sorted_columns_list_1]\n",
    "SM_data.head(2)"
   ]
  },
  {
   "cell_type": "code",
   "execution_count": 29,
   "metadata": {},
   "outputs": [
    {
     "data": {
      "text/plain": [
       "['Users_Affiliates',\n",
       " 'Users_Bing Brand',\n",
       " 'Users_Bing Non-Brand',\n",
       " 'Users_Facebook',\n",
       " 'Users_GDN Non-Remarketing',\n",
       " 'Users_Google Brand',\n",
       " 'Users_Google Non-Brand',\n",
       " 'Users_Google shopping',\n",
       " 'Users_SEO',\n",
       " 'Users_Youtube',\n",
       " 'Users_direct',\n",
       " 'Users_retargeting',\n",
       " 'Users_Yahoo Non-Remarketing',\n",
       " 'Users_NetTotal']"
      ]
     },
     "execution_count": 29,
     "metadata": {},
     "output_type": "execute_result"
    }
   ],
   "source": [
    "[x for x in SM_data.columns.tolist() if \"Users_\" in x]"
   ]
  },
  {
   "cell_type": "code",
   "execution_count": 30,
   "metadata": {
    "collapsed": true
   },
   "outputs": [],
   "source": [
    "df_SM_goals_sessions=SM_data[['date','ga:goal11Completions_NetTotal','Sessions_NetTotal','Sessions_direct','Sessions_SEO']]\n",
    "\n",
    "df_SM_goals_sessions=df_SM_goals_sessions.rename(columns={\"ga:goal11Completions_NetTotal\":\"SM_goal11Completions_NetTotal\",\n",
    "                                                         \"Sessions_NetTotal\":\"Sessions_SM_total\",\n",
    "                                                         \"Sessions_direct\":\"Sessions_SM_direct\",\n",
    "                                                         \"Sessions_SEO\":\"Sessions_SM_SEO\"})\n",
    "df_SM_goals_sessions['Sessions_SM_Direct_and_SEO']=df_SM_goals_sessions['Sessions_SM_direct']+df_SM_goals_sessions['Sessions_SM_SEO']\n"
   ]
  },
  {
   "cell_type": "code",
   "execution_count": 31,
   "metadata": {
    "collapsed": true
   },
   "outputs": [],
   "source": [
    "SM_front_page_new_sessions=pd.read_excel(\"/home/jian/Projects/Saatva/MMM/Input/URLs/sm_all_urls_0417.xlsx\",dtype=str,sheetname=\"Home Page\")\n",
    "sessions_cols=[x for x in SM_front_page_new_sessions.columns.tolist() if \"www.saatvamattress.com\" in x]\n",
    "for col in sessions_cols:\n",
    "    SM_front_page_new_sessions[col]=SM_front_page_new_sessions[col].astype(int)\n",
    "\n",
    "SM_front_page_new_sessions['HomePage_0']=SM_front_page_new_sessions['www.saatvamattress.com'] # 0 pure the www.saatvamattress.com\n",
    "SM_front_page_new_sessions['HomePage_1']=SM_front_page_new_sessions[sessions_cols].sum(axis=1) # 1 sum of home page links\n",
    "SM_front_page_new_sessions=SM_front_page_new_sessions[['Date','HomePage_0','HomePage_1']].rename(columns={\"Date\":\"date\"})"
   ]
  },
  {
   "cell_type": "code",
   "execution_count": 32,
   "metadata": {},
   "outputs": [
    {
     "data": {
      "text/plain": [
       "(365, 9)"
      ]
     },
     "execution_count": 32,
     "metadata": {},
     "output_type": "execute_result"
    }
   ],
   "source": [
    "SM_front_page_sessions=pd.read_csv(\"/home/jian/Projects/Saatva/MMM/Input/sm_front_page.csv\",dtype=str)\n",
    "SM_front_page_sessions.columns=['date','Sessions_SM_front_page_old'] # old means the mobile sessions are not included\n",
    "SM_front_page_sessions['date']=SM_front_page_sessions['date'].apply(lambda x: str(datetime.date(int(\"20\"+x.split(\"/\")[2]),int(x.split(\"/\")[0]),int(x.split(\"/\")[1]))))\n",
    "SM_front_page_sessions.head(2)\n",
    "df_SM_goals_sessions=pd.merge(df_SM_goals_sessions,SM_front_page_sessions,on=\"date\",how=\"outer\")\n",
    "df_SM_goals_sessions=pd.merge(df_SM_goals_sessions,SM_front_page_new_sessions,on=\"date\",how=\"outer\")\n",
    "df_SM_goals_sessions.shape"
   ]
  },
  {
   "cell_type": "code",
   "execution_count": 33,
   "metadata": {},
   "outputs": [
    {
     "name": "stdout",
     "output_type": "stream",
     "text": [
      "(365, 76)\n",
      "(365, 88)\n",
      "88\n"
     ]
    }
   ],
   "source": [
    "SC_data=pd.read_csv(\"/home/jian/Projects/Saatva/MMM/Input/all_sc_0326.csv\",dtype=str)\n",
    "del SC_data['Unnamed: 0']\n",
    "\n",
    "for col in SC_data.columns.tolist()[1:]:\n",
    "    SC_data[col]=SC_data[col].astype(float)\n",
    "    if \"Time on Page\" in col:\n",
    "        SC_data[col]=SC_data[col].apply(lambda x: np.round(x/60,2))\n",
    "        \n",
    "SC_data=SC_data[SC_data['date'].apply(lambda x: x.split(\"-\")[0]==\"2018\")]\n",
    "SC_data=pd.merge(SC_data,sales_data_2018_Saatva,on=\"date\",how=\"inner\")\n",
    "\n",
    "SC_data=pd.merge(SC_data,df_SM_goals_sessions,how=\"inner\",on=\"date\")\n",
    "print(SC_data.shape)\n",
    "\n",
    "median_types=SC_data.columns.tolist()\n",
    "median_types=[x for x in median_types if \"Users_\" in x]\n",
    "median_types=[x.split(\"_\")[1] for x in median_types]\n",
    "median_types.remove(\"NetTotal\")\n",
    "\n",
    "\n",
    "for col in median_types:\n",
    "    SC_data['Avg Time On Page_'+col]=SC_data['Time on Page_'+col]/SC_data['Users_'+col]\n",
    "    SC_data['Avg Time On Page_'+col]=SC_data['Avg Time On Page_'+col].fillna(0)\n",
    "    \n",
    "print(SC_data.shape)\n",
    "sorted_columns_list_0=['date']+[\"Users_\"+x for x in median_types]+[\"Time on Page_\"+x for x in median_types]+\\\n",
    "                    [\"Sessions_\"+x for x in median_types]+[\"Transactions_\"+x for x in median_types]+\\\n",
    "                    [\"ga:goal11Completions_\"+x for x in median_types]+[\"Avg Time On Page_\"+x for x in median_types]\n",
    "sorted_columns_list_1=sorted_columns_list_0+[x for x in SC_data.columns.tolist() if x not in sorted_columns_list_0]\n",
    "\n",
    "print(len(sorted_columns_list_1))   \n"
   ]
  },
  {
   "cell_type": "code",
   "execution_count": 34,
   "metadata": {
    "collapsed": true
   },
   "outputs": [],
   "source": [
    "SC_data['Cyber_Monday']=0\n",
    "SC_data.loc[SC_data['date']==\"2018-11-26\",'Cyber_Monday']=1\n",
    "\n",
    "SM_data['Cyber_Monday']=0\n",
    "SM_data.loc[SM_data['date']==\"2018-11-26\",'Cyber_Monday']=1"
   ]
  },
  {
   "cell_type": "code",
   "execution_count": 35,
   "metadata": {
    "collapsed": true
   },
   "outputs": [],
   "source": [
    "SC_data.to_csv(\"/home/jian/Projects/Saatva/MMM/Input/Saatva_SC_2018_MMM_input_JL_\"+str(datetime.datetime.now().date())+\".csv\",index=False)\n",
    "SM_data.to_csv(\"/home/jian/Projects/Saatva/MMM/Input/Saatva_SM_2018_MMM_input_JL_\"+str(datetime.datetime.now().date())+\".csv\",index=False)\n"
   ]
  },
  {
   "cell_type": "code",
   "execution_count": 36,
   "metadata": {},
   "outputs": [
    {
     "data": {
      "text/plain": [
       "dtype('float64')"
      ]
     },
     "execution_count": 36,
     "metadata": {},
     "output_type": "execute_result"
    }
   ],
   "source": [
    "SC_data['Sessions_SM_total'].dtype"
   ]
  },
  {
   "cell_type": "markdown",
   "metadata": {},
   "source": [
    "# Replacing the outlier sessions"
   ]
  },
  {
   "cell_type": "code",
   "execution_count": 37,
   "metadata": {
    "collapsed": true
   },
   "outputs": [],
   "source": [
    "SC_data_replace=SC_data.copy()\n",
    "\n",
    "replace_dates_str_list=['2018-01-12','2018-01-13','2018-02-10','2018-02-11','2018-02-12']\n",
    "replace_dates_list=[datetime.datetime.strptime(x,\"%Y-%m-%d\").date() for x in replace_dates_str_list]\n",
    "SC_data_replace['date']=SC_data_replace['date'].apply(lambda x: datetime.datetime.strptime(x,\"%Y-%m-%d\").date())\n",
    "num_cols_list=SC_data_replace.columns.tolist()\n",
    "num_cols_list.remove(\"date\")\n",
    "\n"
   ]
  },
  {
   "cell_type": "code",
   "execution_count": 38,
   "metadata": {
    "collapsed": true
   },
   "outputs": [],
   "source": [
    "for col in num_cols_list:\n",
    "    try:\n",
    "        SC_data_replace[col]=SC_data_replace[col].astype(int)\n",
    "    except:\n",
    "        SC_data_replace[col]=SC_data_replace[col].astype(float)"
   ]
  },
  {
   "cell_type": "code",
   "execution_count": 39,
   "metadata": {
    "collapsed": true
   },
   "outputs": [],
   "source": [
    "for date_outlier in replace_dates_list:\n",
    "    date_7_days_ago=date_outlier-datetime.timedelta(days=7)\n",
    "    date_7_days_after=date_outlier+datetime.timedelta(days=7)\n",
    "    \n",
    "    for col in num_cols_list:\n",
    "        \n",
    "        col_values_7_days_ago=SC_data_replace.loc[SC_data_replace['date']==date_7_days_ago,col].values\n",
    "        if len(col_values_7_days_ago)==1:\n",
    "            col_values_7_days_ago=col_values_7_days_ago[0]\n",
    "        \n",
    "        col_values_7_days_after=SC_data_replace.loc[SC_data_replace['date']==date_7_days_after,col].values\n",
    "        if len(col_values_7_days_after)==1:\n",
    "            col_values_7_days_after=col_values_7_days_after[0]\n",
    "        \n",
    "        \n",
    "        SC_data_replace.loc[SC_data_replace['date']==date_outlier,col]=(col_values_7_days_ago+col_values_7_days_after)/2"
   ]
  },
  {
   "cell_type": "code",
   "execution_count": 40,
   "metadata": {
    "collapsed": true
   },
   "outputs": [],
   "source": [
    "for col in median_types:\n",
    "    SC_data_replace['Avg Time On Page_'+col]=SC_data_replace['Time on Page_'+col]/SC_data_replace['Users_'+col]\n",
    "    SC_data_replace['Avg Time On Page_'+col]=SC_data_replace['Avg Time On Page_'+col].fillna(0)"
   ]
  },
  {
   "cell_type": "code",
   "execution_count": 41,
   "metadata": {
    "collapsed": true
   },
   "outputs": [],
   "source": [
    "SC_data_replace.to_csv(\"/home/jian/Projects/Saatva/MMM/Input/Saatva_SC_2018_MMM_input_replaced_sm_sessions_outliers_JL_\"+str(datetime.datetime.now().date())+\".csv\",index=False)\n",
    "\n"
   ]
  },
  {
   "cell_type": "code",
   "execution_count": 42,
   "metadata": {},
   "outputs": [
    {
     "data": {
      "text/html": [
       "<div>\n",
       "<style>\n",
       "    .dataframe thead tr:only-child th {\n",
       "        text-align: right;\n",
       "    }\n",
       "\n",
       "    .dataframe thead th {\n",
       "        text-align: left;\n",
       "    }\n",
       "\n",
       "    .dataframe tbody tr th {\n",
       "        vertical-align: top;\n",
       "    }\n",
       "</style>\n",
       "<table border=\"1\" class=\"dataframe\">\n",
       "  <thead>\n",
       "    <tr style=\"text-align: right;\">\n",
       "      <th></th>\n",
       "      <th>date</th>\n",
       "      <th>HomePage_0</th>\n",
       "    </tr>\n",
       "  </thead>\n",
       "  <tbody>\n",
       "    <tr>\n",
       "      <th>35</th>\n",
       "      <td>2018-02-05</td>\n",
       "      <td>19904.0</td>\n",
       "    </tr>\n",
       "    <tr>\n",
       "      <th>42</th>\n",
       "      <td>2018-02-12</td>\n",
       "      <td>26806.5</td>\n",
       "    </tr>\n",
       "    <tr>\n",
       "      <th>49</th>\n",
       "      <td>2018-02-19</td>\n",
       "      <td>33709.0</td>\n",
       "    </tr>\n",
       "  </tbody>\n",
       "</table>\n",
       "</div>"
      ],
      "text/plain": [
       "          date  HomePage_0\n",
       "35  2018-02-05     19904.0\n",
       "42  2018-02-12     26806.5\n",
       "49  2018-02-19     33709.0"
      ]
     },
     "execution_count": 42,
     "metadata": {},
     "output_type": "execute_result"
    }
   ],
   "source": [
    "SC_data_replace.loc[SC_data_replace['date'].astype(str).isin([\"2018-02-05\",\"2018-02-12\",\"2018-02-19\"]),['date','HomePage_0']]"
   ]
  },
  {
   "cell_type": "code",
   "execution_count": null,
   "metadata": {
    "collapsed": true
   },
   "outputs": [],
   "source": []
  }
 ],
 "metadata": {
  "kernelspec": {
   "display_name": "Python 3",
   "language": "python",
   "name": "python3"
  },
  "language_info": {
   "codemirror_mode": {
    "name": "ipython",
    "version": 3
   },
   "file_extension": ".py",
   "mimetype": "text/x-python",
   "name": "python",
   "nbconvert_exporter": "python",
   "pygments_lexer": "ipython3",
   "version": "3.6.1"
  }
 },
 "nbformat": 4,
 "nbformat_minor": 2
}
