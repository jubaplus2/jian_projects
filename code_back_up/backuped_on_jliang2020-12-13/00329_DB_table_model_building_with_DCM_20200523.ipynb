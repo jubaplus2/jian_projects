{
 "cells": [
  {
   "cell_type": "code",
   "execution_count": 1,
   "metadata": {},
   "outputs": [
    {
     "name": "stdout",
     "output_type": "stream",
     "text": [
      "/home/jian/Projects/Big_Lots/Analysis/2019_Q4/Predictive_Model_Building/model_building\n",
      "2020-05-24 00:12:24.168077\n"
     ]
    }
   ],
   "source": [
    "from sklearn.preprocessing import StandardScaler\n",
    "from sklearn.model_selection import train_test_split\n",
    "from sklearn.feature_selection import SelectFromModel\n",
    "from sklearn.linear_model import LogisticRegression \n",
    "import pandas as pd\n",
    "import numpy as np\n",
    "import datetime\n",
    "import os\n",
    "\n",
    "print(os.getcwd())\n",
    "print(datetime.datetime.now())"
   ]
  },
  {
   "cell_type": "code",
   "execution_count": 2,
   "metadata": {},
   "outputs": [
    {
     "name": "stdout",
     "output_type": "stream",
     "text": [
      "(577766, 453)\n"
     ]
    },
    {
     "data": {
      "text/html": [
       "<div>\n",
       "<style scoped>\n",
       "    .dataframe tbody tr th:only-of-type {\n",
       "        vertical-align: middle;\n",
       "    }\n",
       "\n",
       "    .dataframe tbody tr th {\n",
       "        vertical-align: top;\n",
       "    }\n",
       "\n",
       "    .dataframe thead th {\n",
       "        text-align: right;\n",
       "    }\n",
       "</style>\n",
       "<table border=\"1\" class=\"dataframe\">\n",
       "  <thead>\n",
       "    <tr style=\"text-align: right;\">\n",
       "      <th></th>\n",
       "      <th>customer_id_hashed</th>\n",
       "      <th>DV_cumulative_week_1</th>\n",
       "      <th>DV_cumulative_week_2</th>\n",
       "      <th>DV_cumulative_week_3</th>\n",
       "      <th>DV_cumulative_week_4</th>\n",
       "      <th>weeks_since_sign_up</th>\n",
       "      <th>P_zip</th>\n",
       "      <th>S_zip</th>\n",
       "      <th>else_10_zip</th>\n",
       "      <th>signed_online</th>\n",
       "      <th>...</th>\n",
       "      <th>Furniture Stores_Furniture Stores</th>\n",
       "      <th>Grocery Stores_Convenience Stores</th>\n",
       "      <th>Grocery Stores_Supermarkets and Other Grocery (except Convenience) Stores</th>\n",
       "      <th>Home Furnishings Stores_All Other Home Furnishings Stores</th>\n",
       "      <th>Lawn and Garden Equipment and Supplies Stores_Nursery, Garden Center, and Farm Supply Stores</th>\n",
       "      <th>Office Supplies, Stationery, and Gift Stores_Gift, Novelty, and Souvenir Stores</th>\n",
       "      <th>Other Miscellaneous Store Retailers_All Other Miscellaneous Store Retailers (except Tobacco Stores)</th>\n",
       "      <th>Other Miscellaneous Store Retailers_Pet and Pet Supplies Stores</th>\n",
       "      <th>Specialty Food Stores_All Other Specialty Food Stores</th>\n",
       "      <th>Sporting Goods, Hobby, and Musical Instrument Stores_Hobby, Toy, and Game Stores</th>\n",
       "    </tr>\n",
       "  </thead>\n",
       "  <tbody>\n",
       "    <tr>\n",
       "      <th>0</th>\n",
       "      <td>000001dadc0265bf9d250566d74e0006323f18b5826641...</td>\n",
       "      <td>0</td>\n",
       "      <td>0</td>\n",
       "      <td>0</td>\n",
       "      <td>0</td>\n",
       "      <td>49</td>\n",
       "      <td>1</td>\n",
       "      <td>1</td>\n",
       "      <td>0</td>\n",
       "      <td>0</td>\n",
       "      <td>...</td>\n",
       "      <td>104.0</td>\n",
       "      <td>65.0</td>\n",
       "      <td>319.0</td>\n",
       "      <td>47.0</td>\n",
       "      <td>0.0</td>\n",
       "      <td>65.0</td>\n",
       "      <td>16.0</td>\n",
       "      <td>76.0</td>\n",
       "      <td>17.0</td>\n",
       "      <td>45.0</td>\n",
       "    </tr>\n",
       "    <tr>\n",
       "      <th>1</th>\n",
       "      <td>00000950dea4a869e9fe70d823444d418c5abebbd8e830...</td>\n",
       "      <td>0</td>\n",
       "      <td>0</td>\n",
       "      <td>0</td>\n",
       "      <td>0</td>\n",
       "      <td>469</td>\n",
       "      <td>1</td>\n",
       "      <td>1</td>\n",
       "      <td>0</td>\n",
       "      <td>0</td>\n",
       "      <td>...</td>\n",
       "      <td>22.0</td>\n",
       "      <td>34.0</td>\n",
       "      <td>77.0</td>\n",
       "      <td>15.0</td>\n",
       "      <td>2.0</td>\n",
       "      <td>18.0</td>\n",
       "      <td>6.0</td>\n",
       "      <td>28.0</td>\n",
       "      <td>0.0</td>\n",
       "      <td>7.0</td>\n",
       "    </tr>\n",
       "  </tbody>\n",
       "</table>\n",
       "<p>2 rows × 453 columns</p>\n",
       "</div>"
      ],
      "text/plain": [
       "                                  customer_id_hashed  DV_cumulative_week_1  \\\n",
       "0  000001dadc0265bf9d250566d74e0006323f18b5826641...                     0   \n",
       "1  00000950dea4a869e9fe70d823444d418c5abebbd8e830...                     0   \n",
       "\n",
       "   DV_cumulative_week_2  DV_cumulative_week_3  DV_cumulative_week_4  \\\n",
       "0                     0                     0                     0   \n",
       "1                     0                     0                     0   \n",
       "\n",
       "   weeks_since_sign_up  P_zip  S_zip  else_10_zip  signed_online  ...  \\\n",
       "0                   49      1      1            0              0  ...   \n",
       "1                  469      1      1            0              0  ...   \n",
       "\n",
       "   Furniture Stores_Furniture Stores  Grocery Stores_Convenience Stores  \\\n",
       "0                              104.0                               65.0   \n",
       "1                               22.0                               34.0   \n",
       "\n",
       "   Grocery Stores_Supermarkets and Other Grocery (except Convenience) Stores  \\\n",
       "0                                              319.0                           \n",
       "1                                               77.0                           \n",
       "\n",
       "   Home Furnishings Stores_All Other Home Furnishings Stores  \\\n",
       "0                                               47.0           \n",
       "1                                               15.0           \n",
       "\n",
       "   Lawn and Garden Equipment and Supplies Stores_Nursery, Garden Center, and Farm Supply Stores  \\\n",
       "0                                                0.0                                              \n",
       "1                                                2.0                                              \n",
       "\n",
       "   Office Supplies, Stationery, and Gift Stores_Gift, Novelty, and Souvenir Stores  \\\n",
       "0                                               65.0                                 \n",
       "1                                               18.0                                 \n",
       "\n",
       "   Other Miscellaneous Store Retailers_All Other Miscellaneous Store Retailers (except Tobacco Stores)  \\\n",
       "0                                               16.0                                                     \n",
       "1                                                6.0                                                     \n",
       "\n",
       "   Other Miscellaneous Store Retailers_Pet and Pet Supplies Stores  \\\n",
       "0                                               76.0                 \n",
       "1                                               28.0                 \n",
       "\n",
       "   Specialty Food Stores_All Other Specialty Food Stores  \\\n",
       "0                                               17.0       \n",
       "1                                                0.0       \n",
       "\n",
       "   Sporting Goods, Hobby, and Musical Instrument Stores_Hobby, Toy, and Game Stores  \n",
       "0                                               45.0                                 \n",
       "1                                                7.0                                 \n",
       "\n",
       "[2 rows x 453 columns]"
      ]
     },
     "execution_count": 2,
     "metadata": {},
     "output_type": "execute_result"
    }
   ],
   "source": [
    "df_input_all=pd.read_csv(\"./date_0831_updated_with_competitors_JL_2020-05-15.csv\")\n",
    "print(df_input_all.shape)\n",
    "df_input_all.head(2)"
   ]
  },
  {
   "cell_type": "code",
   "execution_count": 3,
   "metadata": {},
   "outputs": [
    {
     "data": {
      "text/plain": [
       "['/home/jian/BigLots/2019_by_weeks/MediaStorm_2019-09-07/MediaStormDailySales20190910-120643-163.txt',\n",
       " '/home/jian/BigLots/2019_by_weeks/MediaStorm_2019-09-14/MediaStormDailySales20190917-110425-322.txt',\n",
       " '/home/jian/BigLots/2019_by_weeks/MediaStorm_2019-09-21/MediaStormDailySales20190924-112126-506.txt',\n",
       " '/home/jian/BigLots/2019_by_weeks/MediaStorm_2019-09-28/MediaStormDailySales20191001-111241-312.txt']"
      ]
     },
     "execution_count": 3,
     "metadata": {},
     "output_type": "execute_result"
    }
   ],
   "source": [
    "# revise dvs\n",
    "\n",
    "def recursive_file_gen(my_root_dir):\n",
    "    for root, dirs, files in os.walk(my_root_dir):\n",
    "        for file in files:\n",
    "            yield os.path.join(root, file)\n",
    "list_files_POS=list(recursive_file_gen(\"/home/jian/BigLots/2019_by_weeks/\"))\n",
    "list_files_POS=[x for x in list_files_POS if \"dailysales\" in x.lower()]\n",
    "list_files_POS=[x for x in list_files_POS if x.split(\"s/MediaStorm_\")[1][:10]>=\"2019-09-01\"]\n",
    "list_files_POS.sort()\n",
    "list_files_POS=list_files_POS[:4]\n",
    "list_files_POS"
   ]
  },
  {
   "cell_type": "code",
   "execution_count": 4,
   "metadata": {},
   "outputs": [
    {
     "name": "stdout",
     "output_type": "stream",
     "text": [
      "1 2020-05-24 00:13:31.847920\n",
      "2 2020-05-24 00:14:17.833729\n",
      "3 2020-05-24 00:15:02.004019\n",
      "4 2020-05-24 00:15:55.682296\n"
     ]
    },
    {
     "data": {
      "text/html": [
       "<div>\n",
       "<style scoped>\n",
       "    .dataframe tbody tr th:only-of-type {\n",
       "        vertical-align: middle;\n",
       "    }\n",
       "\n",
       "    .dataframe tbody tr th {\n",
       "        vertical-align: top;\n",
       "    }\n",
       "\n",
       "    .dataframe thead th {\n",
       "        text-align: right;\n",
       "    }\n",
       "</style>\n",
       "<table border=\"1\" class=\"dataframe\">\n",
       "  <thead>\n",
       "    <tr style=\"text-align: right;\">\n",
       "      <th></th>\n",
       "      <th>customer_id_hashed</th>\n",
       "      <th>DV_single_week_1</th>\n",
       "      <th>DV_single_week_2</th>\n",
       "      <th>DV_single_week_3</th>\n",
       "      <th>DV_single_week_4</th>\n",
       "    </tr>\n",
       "  </thead>\n",
       "  <tbody>\n",
       "    <tr>\n",
       "      <th>0</th>\n",
       "      <td>000001dadc0265bf9d250566d74e0006323f18b5826641...</td>\n",
       "      <td>0.0</td>\n",
       "      <td>0.0</td>\n",
       "      <td>0.0</td>\n",
       "      <td>0.0</td>\n",
       "    </tr>\n",
       "    <tr>\n",
       "      <th>1</th>\n",
       "      <td>00000950dea4a869e9fe70d823444d418c5abebbd8e830...</td>\n",
       "      <td>0.0</td>\n",
       "      <td>0.0</td>\n",
       "      <td>0.0</td>\n",
       "      <td>0.0</td>\n",
       "    </tr>\n",
       "  </tbody>\n",
       "</table>\n",
       "</div>"
      ],
      "text/plain": [
       "                                  customer_id_hashed  DV_single_week_1  \\\n",
       "0  000001dadc0265bf9d250566d74e0006323f18b5826641...               0.0   \n",
       "1  00000950dea4a869e9fe70d823444d418c5abebbd8e830...               0.0   \n",
       "\n",
       "   DV_single_week_2  DV_single_week_3  DV_single_week_4  \n",
       "0               0.0               0.0               0.0  \n",
       "1               0.0               0.0               0.0  "
      ]
     },
     "execution_count": 4,
     "metadata": {},
     "output_type": "execute_result"
    }
   ],
   "source": [
    "week_i=1\n",
    "df_sale_dv=df_input_all[['customer_id_hashed']]\n",
    "for file in list_files_POS:\n",
    "    df=pd.read_csv(file,dtype=str,sep=\"|\",usecols=['location_id','transaction_dt','transaction_id','customer_id_hashed','item_transaction_amt'])\n",
    "    df=df[pd.notnull(df['customer_id_hashed'])]\n",
    "    df['item_transaction_amt']=df['item_transaction_amt'].astype(float)\n",
    "    \n",
    "    df=df.groupby(['location_id','transaction_dt','transaction_id','customer_id_hashed'])['item_transaction_amt'].sum().to_frame().reset_index()\n",
    "    df=df[df['item_transaction_amt']>0]\n",
    "    df=df[['customer_id_hashed']].drop_duplicates()\n",
    "    df[\"DV_single_week_\"+str(week_i)]=1\n",
    "    df_sale_dv=pd.merge(df_sale_dv,df,on=\"customer_id_hashed\",how=\"left\")\n",
    "    \n",
    "    print(week_i,datetime.datetime.now())\n",
    "    week_i+=1\n",
    "df_sale_dv=df_sale_dv.fillna(0)\n",
    "df_sale_dv.head(2)"
   ]
  },
  {
   "cell_type": "code",
   "execution_count": 5,
   "metadata": {},
   "outputs": [],
   "source": [
    "a=[]\n",
    "for i in range(len(list_files_POS)):\n",
    "    i_int_pos=i+1\n",
    "    list_cum_i=[]\n",
    "    for j in range(i_int_pos):\n",
    "        list_cum_i.append('DV_single_week_'+str(j+1))\n",
    "    a.append(list_cum_i)\n",
    "    df_sale_dv['DV_cumulative_week_updated_'+str(i_int_pos)]=df_sale_dv[list_cum_i].sum(axis=1)\n",
    "    df_sale_dv['DV_cumulative_week_updated_'+str(i_int_pos)]=np.where(df_sale_dv['DV_cumulative_week_updated_'+str(i_int_pos)]>0,1,0)\n",
    "    "
   ]
  },
  {
   "cell_type": "code",
   "execution_count": 6,
   "metadata": {},
   "outputs": [],
   "source": [
    "list_cols_to_delete=['week_diff','DV_cumulative_week_1','DV_cumulative_week_2','DV_cumulative_week_3','DV_cumulative_week_4',\n",
    "                     'department_minus_one_trans','total_units_department_minus_1_1st_trans','total_units_department_minus_1_1st_trans_recent_one',\n",
    "                    'total_units_department_minus_1_recent_2_trans','total_units_department_minus_1_recent_3_trans',\n",
    "                    'total_units_department_minus_1_recent_4_trans','total_units_department_minus_1_recent_5_trans']\n",
    "for col in list_cols_to_delete:\n",
    "    del df_input_all[col]\n",
    "\n",
    "df_input_all=pd.merge(df_sale_dv,df_input_all,on=\"customer_id_hashed\",how=\"right\")\n",
    "df_input_all['DV_cumulative_week_updated_1']=df_input_all['DV_cumulative_week_updated_1'].fillna(0)\n",
    "df_input_all['DV_cumulative_week_updated_2']=df_input_all['DV_cumulative_week_updated_2'].fillna(0)\n",
    "df_input_all['DV_cumulative_week_updated_3']=df_input_all['DV_cumulative_week_updated_3'].fillna(0)\n",
    "df_input_all['DV_cumulative_week_updated_4']=df_input_all['DV_cumulative_week_updated_4'].fillna(0)\n"
   ]
  },
  {
   "cell_type": "code",
   "execution_count": 7,
   "metadata": {},
   "outputs": [],
   "source": [
    "df_input_all.to_csv(\"./Data_tabel_with_DCM_20190831_updated_with_competitors_and_DVs_JL_2020-05-23.csv\")"
   ]
  },
  {
   "cell_type": "code",
   "execution_count": null,
   "metadata": {},
   "outputs": [],
   "source": []
  }
 ],
 "metadata": {
  "kernelspec": {
   "display_name": "Python 3",
   "language": "python",
   "name": "python3"
  },
  "language_info": {
   "codemirror_mode": {
    "name": "ipython",
    "version": 3
   },
   "file_extension": ".py",
   "mimetype": "text/x-python",
   "name": "python",
   "nbconvert_exporter": "python",
   "pygments_lexer": "ipython3",
   "version": "3.6.1"
  }
 },
 "nbformat": 4,
 "nbformat_minor": 2
}
