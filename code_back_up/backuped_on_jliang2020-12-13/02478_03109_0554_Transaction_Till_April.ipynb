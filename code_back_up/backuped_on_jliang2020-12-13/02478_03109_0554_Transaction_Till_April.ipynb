{
 "cells": [
  {
   "cell_type": "code",
   "execution_count": 1,
   "metadata": {
    "collapsed": true
   },
   "outputs": [],
   "source": [
    "import pandas as pd\n",
    "import datetime\n",
    "# To update the date from the output of this along with the new downloaed next week"
   ]
  },
  {
   "cell_type": "code",
   "execution_count": 2,
   "metadata": {
    "collapsed": true
   },
   "outputs": [],
   "source": [
    "today_str=str(datetime.datetime.now().date())\n",
    "today_str=today_str[0:4]+today_str[5:7]+today_str[8:10]\n",
    "recent_week_path=\"/home/jian/Projects/Saatva/Transaction_Data/2018_weekly_klipfolio/transactions_for_jubaplus-\"+today_str+\".csv\"\n",
    "recent_week_data=pd.read_csv(recent_week_path,dtype=str)\n",
    "recent_week_data=recent_week_data[~pd.isnull(recent_week_data['Order ID'])]\n",
    "recent_week_data['Date']=recent_week_data['Date'].apply(lambda x: datetime.datetime.strptime(x,\"%d-%b-%Y\").date())\n",
    "recent_week_data['Time']=recent_week_data['Time'].apply(lambda x: datetime.datetime.strptime(x,\"%H:%M:%S\").time())\n",
    "recent_week_data_1=recent_week_data[(recent_week_data['Date']>recent_week_data['Date'].min()) & (recent_week_data['Date']<=recent_week_data['Date'].min()+datetime.timedelta(days=30))]\n",
    "recent_week_data_2=recent_week_data[(recent_week_data['Date']>recent_week_data_1['Date'].max()) & (recent_week_data['Date']<recent_week_data['Date'].max())]"
   ]
  },
  {
   "cell_type": "code",
   "execution_count": 3,
   "metadata": {
    "collapsed": true
   },
   "outputs": [],
   "source": [
    "zip_State_1=pd.read_excel(\"/home/jian/Projects/Saatva/Transaction_Data/Geo/Zips by DMA by County16-17 nielsen.xlsx\",skiprows=1,dtype=str)\n",
    "zip_State_1=zip_State_1.iloc[:,[0,6]]\n",
    "zip_State_1.columns=['zip_cd','ST']\n",
    "zip_State_1=zip_State_1.drop_duplicates(['zip_cd'])\n",
    "zip_State_1.reset_index(inplace=True)\n",
    "del zip_State_1['index']\n",
    "zip_State_2=pd.read_csv(\"/home/jian/Projects/Saatva/Transaction_Data/Geo/us_postal_codes_online_download.csv\",dtype=str)\n",
    "zip_State_2=zip_State_2.iloc[:,[0,3]]\n",
    "zip_State_2.columns=['zip_cd','ST']\n",
    "zip_State_2=zip_State_2.drop_duplicates()\n",
    "zip_State_2.reset_index(inplace=True)\n",
    "zip_State_2['zip_cd']=zip_State_2['zip_cd'].apply(lambda x:x.zfill(5))\n",
    "del zip_State_2['index']\n",
    "zip_State_2=zip_State_2[~zip_State_2['zip_cd'].isin(zip_State_1['zip_cd'])]\n",
    "zip_State_2=zip_State_2[~zip_State_2['zip_cd'].isin(zip_State_1['zip_cd'])]\n",
    "zip_State=zip_State_1.append(zip_State_2)\n",
    "zip_State.columns=['Shipping Zip','ST']"
   ]
  },
  {
   "cell_type": "code",
   "execution_count": 4,
   "metadata": {
    "collapsed": true
   },
   "outputs": [],
   "source": [
    "historical_order=pd.read_excel(\"/home/jian/Projects/Saatva/Transaction_Data/Order_data.xlsx\",sheetname=\"Saatva\",dtype=str)\n",
    "historical_order=historical_order[['order_id','date','time','zipcode','product_revenue','online/phone?','brand']]\n",
    "historical_order.columns=['Order ID', 'Date', 'Time', 'Shipping Zip', 'Product Revenue','Order Type', 'Brand']\n",
    "historical_order['Date']=historical_order['Date'].apply(lambda x: datetime.datetime.strptime(x[0:10],\"%Y-%m-%d\").date())\n",
    "historical_order['Time']=historical_order['Time'].apply(lambda x: datetime.datetime.strptime(x[0:10],\"%H:%M:%S\").time())"
   ]
  },
  {
   "cell_type": "code",
   "execution_count": 5,
   "metadata": {
    "collapsed": true
   },
   "outputs": [],
   "source": [
    "early_2018=pd.read_csv(\"/home/jian/Projects/Saatva/Transaction_Data/3 Brands_transactions_20180101-20180308.csv\",dtype=str)\n",
    "early_2018=early_2018[early_2018['Brand']==\"Saatva\"]\n",
    "\n",
    "early_2018['Date']=early_2018['Date'].apply(lambda x: datetime.datetime.strptime(x,\"%d-%b-%Y\").date())\n",
    "early_2018['Time']=early_2018['Time'].apply(lambda x: datetime.datetime.strptime(x,\"%H:%M:%S\").time())\n",
    "early_2018=early_2018[~early_2018['Date'].isin(recent_week_data_1['Date'])]\n",
    "early_2018.reset_index(inplace=True)\n",
    "del early_2018['index']"
   ]
  },
  {
   "cell_type": "code",
   "execution_count": 6,
   "metadata": {
    "collapsed": true
   },
   "outputs": [],
   "source": [
    "data=historical_order.append(early_2018).append(recent_week_data_1).append(recent_week_data_2).reset_index()\n",
    "del data['index']\n",
    "data['Product Revenue']=data['Product Revenue'].astype(float)\n",
    "data['Order Type']=data['Order Type'].replace(\"phone_order\",\"phone\")"
   ]
  },
  {
   "cell_type": "code",
   "execution_count": 7,
   "metadata": {
    "collapsed": true
   },
   "outputs": [],
   "source": [
    "data['Shipping Zip']=data['Shipping Zip'].apply(lambda x:x.zfill(5))"
   ]
  },
  {
   "cell_type": "code",
   "execution_count": 8,
   "metadata": {
    "collapsed": true
   },
   "outputs": [],
   "source": [
    "data=pd.merge(data,zip_State,on=\"Shipping Zip\",how=\"left\")\n",
    "data['ST']=data['ST'].fillna(\"Non-US\")"
   ]
  },
  {
   "cell_type": "code",
   "execution_count": 9,
   "metadata": {
    "collapsed": true
   },
   "outputs": [],
   "source": [
    "end_date=str(data['Date'].max())"
   ]
  },
  {
   "cell_type": "code",
   "execution_count": 10,
   "metadata": {
    "collapsed": true
   },
   "outputs": [],
   "source": [
    "data.to_csv(\"/home/jian/Projects/Saatva/Transaction_Data/output/Saatva_transaction_data_till_\"+end_date+\".csv\",index=False)"
   ]
  },
  {
   "cell_type": "code",
   "execution_count": null,
   "metadata": {
    "collapsed": true
   },
   "outputs": [],
   "source": []
  }
 ],
 "metadata": {
  "kernelspec": {
   "display_name": "Python 3",
   "language": "python",
   "name": "python3"
  },
  "language_info": {
   "codemirror_mode": {
    "name": "ipython",
    "version": 3
   },
   "file_extension": ".py",
   "mimetype": "text/x-python",
   "name": "python",
   "nbconvert_exporter": "python",
   "pygments_lexer": "ipython3",
   "version": "3.6.1"
  }
 },
 "nbformat": 4,
 "nbformat_minor": 2
}
