{
 "cells": [
  {
   "cell_type": "code",
   "execution_count": 1,
   "metadata": {},
   "outputs": [
    {
     "data": {
      "text/plain": [
       "18"
      ]
     },
     "execution_count": 1,
     "metadata": {},
     "output_type": "execute_result"
    }
   ],
   "source": [
    "import pandas as pd\n",
    "import datetime\n",
    "import datetime\n",
    "import os\n",
    "from haversine import haversine\n",
    "import glob\n",
    "import json\n",
    "\n",
    "zip_centers=json.load(open(\"/home/jian/Docs/Geo_mapping/updated_zip_centers_JL_2019-05-23.json\",\"r\"))\n",
    "\n",
    "IRI_Selected_18=['LOS ANGELES','DALLAS/FT WORTH','NEW YORK','HOUSTON','WEST TEX/NEW MEXICO','PHOENIX/TUCSON','SOUTH CAROLINA',\n",
    "                'BIRMINGHAM/MONTGOMERY','MISSISSIPPI','BALTIMORE/WASHINGTON','NEW ORLEANS/MOBILE',\n",
    "                 'CHICAGO','ATLANTA','DETROIT','MIAMI/FT LAUDERDALE','HARRISBURG/SCRANTON','BOSTON',\"ROANOKE\"] #'RALEIGH/GREENSBORO','DENVER'\n",
    "len(IRI_Selected_18)"
   ]
  },
  {
   "cell_type": "markdown",
   "metadata": {},
   "source": [
    "# IRI zips for the 18 Mkts"
   ]
  },
  {
   "cell_type": "code",
   "execution_count": 2,
   "metadata": {
    "collapsed": true
   },
   "outputs": [],
   "source": [
    "IRI_Counties_both=pd.read_excel(\"/home/jian/SunnyD/Otherinput/DMA_to_IRI_Pctg/match_counties.xlsx\",sheetname='Sheet1',dtype=str)\n",
    "IRI_Counties_IRI=pd.read_excel(\"/home/jian/SunnyD/Otherinput/DMA_to_IRI_Pctg/match_counties.xlsx\",sheetname='IRI',dtype=str,usecols=[0,1])\n",
    "IRI_Counties_Nielsen=pd.read_excel(\"/home/jian/SunnyD/Otherinput/DMA_to_IRI_Pctg/match_counties.xlsx\",sheetname='Nielsen',dtype=str,usecols=[0,1])\n",
    "IRI_Counties_Nielsen.columns=[['County','cleaned_name']]\n",
    "IRI_Counties_both=IRI_Counties_both[(IRI_Counties_both['IRI_Label']!='nan') & (IRI_Counties_both['Nielsen_Label']!='nan')]\n",
    "\n",
    "IRI_Counties_both=IRI_Counties_both[['County','County']]\n",
    "IRI_Counties_both.columns=['County','cleaned_name']\n",
    "\n",
    "Nielsen_counties=IRI_Counties_both.append(IRI_Counties_Nielsen).drop_duplicates().reset_index()\n",
    "IRI_counties=IRI_Counties_both.append(IRI_Counties_IRI).drop_duplicates().reset_index()\n",
    "\n",
    "del Nielsen_counties['index']\n",
    "del IRI_counties['index']\n"
   ]
  },
  {
   "cell_type": "code",
   "execution_count": 3,
   "metadata": {
    "collapsed": true
   },
   "outputs": [],
   "source": [
    "All_DMA_zips=pd.read_excel(\"/home/jian/Docs/Geo_mapping/Zips by DMA by County16-17 nielsen.xlsx\",dtype=str,skiprows=1)\n",
    "All_DMA_zips=All_DMA_zips.iloc[:,[0,2,6,9]]\n",
    "All_DMA_zips.columns=['zip_code','DMA','State','County']\n",
    "All_DMA_zips['County']=All_DMA_zips['County']+\"|\"+All_DMA_zips['State']\n",
    "All_DMA_zips['County']=All_DMA_zips['County'].apply(lambda x: x.replace(\" \",\"\").lower())\n",
    "All_DMA_zips=All_DMA_zips[~All_DMA_zips['State'].isin(['AK','HI'])]"
   ]
  },
  {
   "cell_type": "code",
   "execution_count": 4,
   "metadata": {
    "collapsed": true
   },
   "outputs": [],
   "source": [
    "All_IRI_counties=pd.read_excel(\"/home/jian/SunnyD/Otherinput/Total_US_counties_IRI_markets_and_regions_cr_12272016.xlsx\",dtype=str,sheetname='U.S. Counties',skiprows=1)\n",
    "All_IRI_counties=All_IRI_counties[['County Name','State','IRI Market']]\n",
    "All_IRI_counties['County']=All_IRI_counties['County Name']+\"|\"+All_IRI_counties['State']\n",
    "All_IRI_counties['County']=All_IRI_counties['County'].apply(lambda x: x.replace(\" \",\"\").lower())\n",
    "All_IRI_counties=pd.merge(All_IRI_counties,IRI_counties,on=\"County\",how=\"left\")\n",
    "All_IRI_counties=All_IRI_counties[['IRI Market','cleaned_name']]"
   ]
  },
  {
   "cell_type": "code",
   "execution_count": 5,
   "metadata": {
    "collapsed": true
   },
   "outputs": [],
   "source": [
    "All_DMA_zips=pd.merge(All_DMA_zips,Nielsen_counties,on=\"County\",how=\"left\")\n",
    "All_DMA_zips=All_DMA_zips[['zip_code','DMA','County','cleaned_name']].rename(columns={\"County\":\"Nielsen_County\"})\n",
    "All_DMA_zips_merge=pd.merge(All_DMA_zips,All_IRI_counties,on=\"cleaned_name\",how=\"left\")\n"
   ]
  },
  {
   "cell_type": "code",
   "execution_count": 6,
   "metadata": {
    "collapsed": true
   },
   "outputs": [],
   "source": [
    "IRI_Zip_with_dup=All_DMA_zips_merge[['IRI Market','zip_code']].drop_duplicates()"
   ]
  },
  {
   "cell_type": "code",
   "execution_count": 7,
   "metadata": {},
   "outputs": [
    {
     "name": "stdout",
     "output_type": "stream",
     "text": [
      "(10157, 2)\n",
      "18\n",
      "10149\n"
     ]
    }
   ],
   "source": [
    "IRI_Zip_18=IRI_Zip_with_dup[IRI_Zip_with_dup['IRI Market'].isin(IRI_Selected_18)]\n",
    "print(IRI_Zip_18.shape)\n",
    "print(IRI_Zip_18['IRI Market'].nunique())\n",
    "print(IRI_Zip_18['zip_code'].nunique())\n"
   ]
  },
  {
   "cell_type": "markdown",
   "metadata": {},
   "source": [
    "# Walmarts in the zips above from SafeGraph"
   ]
  },
  {
   "cell_type": "code",
   "execution_count": 8,
   "metadata": {},
   "outputs": [
    {
     "data": {
      "text/plain": [
       "['Walmart', 'Walmart inc']"
      ]
     },
     "execution_count": 8,
     "metadata": {},
     "output_type": "execute_result"
    }
   ],
   "source": [
    "latest_SG_brand_info=pd.read_csv(\"/home/jian/Docs/SafeGraph/places_20190629/brand_info/part-00000-tid-3844431843075532209-d890661b-f976-44e8-9678-725e8cd08c6f-119-c000.csv.gz\",\n",
    "                                dtype=str,compression=\"gzip\",sep=\"|\")\n",
    "[x for x in latest_SG_brand_info['brand_name'].unique().tolist() if \"almart\" in x.lower()]"
   ]
  },
  {
   "cell_type": "code",
   "execution_count": 9,
   "metadata": {},
   "outputs": [
    {
     "data": {
      "text/plain": [
       "['/home/jian/Docs/SafeGraph/places_20190629/poi/part-00001-tid-9006125908719184114-1808d564-228a-44d4-8710-c00fc4c1b790-112-c000.csv.gz',\n",
       " '/home/jian/Docs/SafeGraph/places_20190629/poi/part-00003-tid-9006125908719184114-1808d564-228a-44d4-8710-c00fc4c1b790-114-c000.csv.gz',\n",
       " '/home/jian/Docs/SafeGraph/places_20190629/poi/part-00000-tid-9006125908719184114-1808d564-228a-44d4-8710-c00fc4c1b790-111-c000.csv.gz',\n",
       " '/home/jian/Docs/SafeGraph/places_20190629/poi/part-00004-tid-9006125908719184114-1808d564-228a-44d4-8710-c00fc4c1b790-115-c000.csv.gz',\n",
       " '/home/jian/Docs/SafeGraph/places_20190629/poi/part-00002-tid-9006125908719184114-1808d564-228a-44d4-8710-c00fc4c1b790-113-c000.csv.gz',\n",
       " '/home/jian/Docs/SafeGraph/places_20190629/poi/part-00005-tid-9006125908719184114-1808d564-228a-44d4-8710-c00fc4c1b790-116-c000.csv.gz',\n",
       " '/home/jian/Docs/SafeGraph/places_20190629/poi/part-00007-tid-9006125908719184114-1808d564-228a-44d4-8710-c00fc4c1b790-118-c000.csv.gz',\n",
       " '/home/jian/Docs/SafeGraph/places_20190629/poi/part-00006-tid-9006125908719184114-1808d564-228a-44d4-8710-c00fc4c1b790-117-c000.csv.gz']"
      ]
     },
     "execution_count": 9,
     "metadata": {},
     "output_type": "execute_result"
    }
   ],
   "source": [
    "POI_data=glob.glob(\"/home/jian/Docs/SafeGraph/places_20190629/poi/*csv.gz\")\n",
    "POI_data"
   ]
  },
  {
   "cell_type": "code",
   "execution_count": 10,
   "metadata": {},
   "outputs": [
    {
     "name": "stdout",
     "output_type": "stream",
     "text": [
      "2019-09-09 17:51:33.143987 /home/jian/Docs/SafeGraph/places_20190629/poi/part-00001-tid-9006125908719184114-1808d564-228a-44d4-8710-c00fc4c1b790-112-c000.csv.gz\n",
      "2019-09-09 17:51:59.241662 /home/jian/Docs/SafeGraph/places_20190629/poi/part-00003-tid-9006125908719184114-1808d564-228a-44d4-8710-c00fc4c1b790-114-c000.csv.gz\n",
      "2019-09-09 17:52:11.035351 /home/jian/Docs/SafeGraph/places_20190629/poi/part-00000-tid-9006125908719184114-1808d564-228a-44d4-8710-c00fc4c1b790-111-c000.csv.gz\n",
      "2019-09-09 17:52:21.919095 /home/jian/Docs/SafeGraph/places_20190629/poi/part-00004-tid-9006125908719184114-1808d564-228a-44d4-8710-c00fc4c1b790-115-c000.csv.gz\n",
      "2019-09-09 17:52:32.445962 /home/jian/Docs/SafeGraph/places_20190629/poi/part-00002-tid-9006125908719184114-1808d564-228a-44d4-8710-c00fc4c1b790-113-c000.csv.gz\n",
      "2019-09-09 17:52:42.540935 /home/jian/Docs/SafeGraph/places_20190629/poi/part-00005-tid-9006125908719184114-1808d564-228a-44d4-8710-c00fc4c1b790-116-c000.csv.gz\n",
      "2019-09-09 17:52:52.244493 /home/jian/Docs/SafeGraph/places_20190629/poi/part-00007-tid-9006125908719184114-1808d564-228a-44d4-8710-c00fc4c1b790-118-c000.csv.gz\n",
      "2019-09-09 17:53:02.171707 /home/jian/Docs/SafeGraph/places_20190629/poi/part-00006-tid-9006125908719184114-1808d564-228a-44d4-8710-c00fc4c1b790-117-c000.csv.gz\n"
     ]
    }
   ],
   "source": [
    "all_SG_WMT_POI=pd.DataFrame()\n",
    "all_SG_WMTinc_POI=pd.DataFrame()\n",
    "\n",
    "for file in POI_data:\n",
    "    df=pd.read_csv(file,dtype=str,compression=\"gzip\",sep=\"|\")\n",
    "    df_Walmart=df[df['brands']==\"Walmart\"]\n",
    "    df_Walmartinc=df[df['brands']==\"Walmart inc\"]\n",
    "    \n",
    "    all_SG_WMT_POI=all_SG_WMT_POI.append(df_Walmart)\n",
    "    all_SG_WMTinc_POI=all_SG_WMTinc_POI.append(df_Walmartinc)\n",
    "    \n",
    "    print(datetime.datetime.now(),file)"
   ]
  },
  {
   "cell_type": "code",
   "execution_count": 11,
   "metadata": {},
   "outputs": [
    {
     "name": "stdout",
     "output_type": "stream",
     "text": [
      "(4669, 20)\n",
      "(0, 20)\n"
     ]
    }
   ],
   "source": [
    "print(all_SG_WMT_POI.shape)\n",
    "print(all_SG_WMTinc_POI.shape)\n",
    "\n",
    "# all_SG_WMT_POI"
   ]
  },
  {
   "cell_type": "code",
   "execution_count": 12,
   "metadata": {},
   "outputs": [
    {
     "data": {
      "text/plain": [
       "array(['Walmart'], dtype=object)"
      ]
     },
     "execution_count": 12,
     "metadata": {},
     "output_type": "execute_result"
    }
   ],
   "source": [
    "all_SG_WMT_POI['brands'].unique()"
   ]
  },
  {
   "cell_type": "code",
   "execution_count": 13,
   "metadata": {},
   "outputs": [
    {
     "name": "stdout",
     "output_type": "stream",
     "text": [
      "['Walmart Supercenter', 'Wal Mart Supercenter', 'Walmart']\n"
     ]
    },
    {
     "data": {
      "text/plain": [
       "(4653, 20)"
      ]
     },
     "execution_count": 13,
     "metadata": {},
     "output_type": "execute_result"
    }
   ],
   "source": [
    "df_slicing_Wmts=all_SG_WMT_POI.groupby(\"location_name\")['safegraph_place_id'].count().to_frame().reset_index().sort_values(\"safegraph_place_id\")\n",
    "included_location_names_list=df_slicing_Wmts[df_slicing_Wmts['safegraph_place_id']>=10]['location_name'].tolist()\n",
    "print(included_location_names_list)\n",
    "\n",
    "all_SG_WMT_POI=all_SG_WMT_POI[all_SG_WMT_POI[\"location_name\"].isin(included_location_names_list)]\n",
    "all_SG_WMT_POI['zip_code']=all_SG_WMT_POI['zip_code'].apply(lambda x: x.zfill(5))\n",
    "all_SG_WMT_POI.shape"
   ]
  },
  {
   "cell_type": "code",
   "execution_count": 14,
   "metadata": {},
   "outputs": [
    {
     "data": {
      "text/plain": [
       "(10149, 3)"
      ]
     },
     "execution_count": 14,
     "metadata": {},
     "output_type": "execute_result"
    }
   ],
   "source": [
    "df_zip_by_18_mkt_count=IRI_Zip_18.groupby(\"zip_code\")['IRI Market'].nunique().to_frame().reset_index().rename(columns={\"IRI Market\":\"count_mkts\"}).sort_values(\"count_mkts\",ascending=False)\n",
    "df_zip_by_18_mkt_list=IRI_Zip_18.groupby(\"zip_code\")['IRI Market'].apply(list).to_frame().reset_index()\n",
    "\n",
    "df_zip_by_18_mkts=pd.merge(df_zip_by_18_mkt_count,df_zip_by_18_mkt_list,on=\"zip_code\",how=\"outer\")\n",
    "df_zip_by_18_mkts.shape"
   ]
  },
  {
   "cell_type": "code",
   "execution_count": null,
   "metadata": {
    "collapsed": true
   },
   "outputs": [],
   "source": []
  },
  {
   "cell_type": "code",
   "execution_count": 15,
   "metadata": {},
   "outputs": [
    {
     "data": {
      "text/html": [
       "<div>\n",
       "<style>\n",
       "    .dataframe thead tr:only-child th {\n",
       "        text-align: right;\n",
       "    }\n",
       "\n",
       "    .dataframe thead th {\n",
       "        text-align: left;\n",
       "    }\n",
       "\n",
       "    .dataframe tbody tr th {\n",
       "        vertical-align: top;\n",
       "    }\n",
       "</style>\n",
       "<table border=\"1\" class=\"dataframe\">\n",
       "  <thead>\n",
       "    <tr style=\"text-align: right;\">\n",
       "      <th></th>\n",
       "      <th>safegraph_place_id</th>\n",
       "      <th>parent_safegraph_place_id</th>\n",
       "      <th>safegraph_brand_ids</th>\n",
       "      <th>location_name</th>\n",
       "      <th>brands</th>\n",
       "      <th>top_category</th>\n",
       "      <th>sub_category</th>\n",
       "      <th>naics_code</th>\n",
       "      <th>latitude</th>\n",
       "      <th>longitude</th>\n",
       "      <th>...</th>\n",
       "      <th>state</th>\n",
       "      <th>zip_code</th>\n",
       "      <th>open_hours</th>\n",
       "      <th>polygon_wkt</th>\n",
       "      <th>polygon_class</th>\n",
       "      <th>phone_number</th>\n",
       "      <th>is_synthetic</th>\n",
       "      <th>includes_parking_lot</th>\n",
       "      <th>count_mkts</th>\n",
       "      <th>IRI Market</th>\n",
       "    </tr>\n",
       "  </thead>\n",
       "  <tbody>\n",
       "    <tr>\n",
       "      <th>0</th>\n",
       "      <td>sg:3d14eae49ae24306a6db19a386c658b0</td>\n",
       "      <td>sg:5c052cee6ebf4ba0acc781a7218470ab</td>\n",
       "      <td>SG_BRAND_04a8ca7bf49e7ecb4a32451676e929f0</td>\n",
       "      <td>Walmart</td>\n",
       "      <td>Walmart</td>\n",
       "      <td>General Merchandise Stores, including Warehous...</td>\n",
       "      <td>All Other General Merchandise Stores</td>\n",
       "      <td>452319</td>\n",
       "      <td>38.660866</td>\n",
       "      <td>-121.763446</td>\n",
       "      <td>...</td>\n",
       "      <td>ca</td>\n",
       "      <td>95776</td>\n",
       "      <td>{ \"Mon\": [[\"6:00\", \"24:00\"]], \"Tue\": [[\"6:00\",...</td>\n",
       "      <td>POLYGON ((-121.76448965459713 38.6618353425036...</td>\n",
       "      <td>OWNED_POLYGON</td>\n",
       "      <td>NaN</td>\n",
       "      <td>false</td>\n",
       "      <td>NaN</td>\n",
       "      <td>NaN</td>\n",
       "      <td>[Others_out_18]</td>\n",
       "    </tr>\n",
       "    <tr>\n",
       "      <th>1</th>\n",
       "      <td>sg:a34b1824bf7c4d758634a35173905c85</td>\n",
       "      <td>NaN</td>\n",
       "      <td>SG_BRAND_04a8ca7bf49e7ecb4a32451676e929f0</td>\n",
       "      <td>Walmart</td>\n",
       "      <td>Walmart</td>\n",
       "      <td>General Merchandise Stores, including Warehous...</td>\n",
       "      <td>All Other General Merchandise Stores</td>\n",
       "      <td>452319</td>\n",
       "      <td>28.055297</td>\n",
       "      <td>-80.623241</td>\n",
       "      <td>...</td>\n",
       "      <td>fl</td>\n",
       "      <td>32901</td>\n",
       "      <td>{ \"Mon\": [[\"9:00\", \"18:00\"]], \"Tue\": [[\"9:00\",...</td>\n",
       "      <td>POLYGON ((-80.6234859 28.055599800000003, -80....</td>\n",
       "      <td>OWNED_POLYGON</td>\n",
       "      <td>NaN</td>\n",
       "      <td>false</td>\n",
       "      <td>NaN</td>\n",
       "      <td>NaN</td>\n",
       "      <td>[Others_out_18]</td>\n",
       "    </tr>\n",
       "  </tbody>\n",
       "</table>\n",
       "<p>2 rows × 22 columns</p>\n",
       "</div>"
      ],
      "text/plain": [
       "                    safegraph_place_id            parent_safegraph_place_id  \\\n",
       "0  sg:3d14eae49ae24306a6db19a386c658b0  sg:5c052cee6ebf4ba0acc781a7218470ab   \n",
       "1  sg:a34b1824bf7c4d758634a35173905c85                                  NaN   \n",
       "\n",
       "                         safegraph_brand_ids location_name   brands  \\\n",
       "0  SG_BRAND_04a8ca7bf49e7ecb4a32451676e929f0       Walmart  Walmart   \n",
       "1  SG_BRAND_04a8ca7bf49e7ecb4a32451676e929f0       Walmart  Walmart   \n",
       "\n",
       "                                        top_category  \\\n",
       "0  General Merchandise Stores, including Warehous...   \n",
       "1  General Merchandise Stores, including Warehous...   \n",
       "\n",
       "                           sub_category naics_code   latitude   longitude  \\\n",
       "0  All Other General Merchandise Stores     452319  38.660866 -121.763446   \n",
       "1  All Other General Merchandise Stores     452319  28.055297  -80.623241   \n",
       "\n",
       "        ...        state zip_code  \\\n",
       "0       ...           ca    95776   \n",
       "1       ...           fl    32901   \n",
       "\n",
       "                                          open_hours  \\\n",
       "0  { \"Mon\": [[\"6:00\", \"24:00\"]], \"Tue\": [[\"6:00\",...   \n",
       "1  { \"Mon\": [[\"9:00\", \"18:00\"]], \"Tue\": [[\"9:00\",...   \n",
       "\n",
       "                                         polygon_wkt  polygon_class  \\\n",
       "0  POLYGON ((-121.76448965459713 38.6618353425036...  OWNED_POLYGON   \n",
       "1  POLYGON ((-80.6234859 28.055599800000003, -80....  OWNED_POLYGON   \n",
       "\n",
       "  phone_number is_synthetic includes_parking_lot count_mkts       IRI Market  \n",
       "0          NaN        false                  NaN        NaN  [Others_out_18]  \n",
       "1          NaN        false                  NaN        NaN  [Others_out_18]  \n",
       "\n",
       "[2 rows x 22 columns]"
      ]
     },
     "execution_count": 15,
     "metadata": {},
     "output_type": "execute_result"
    }
   ],
   "source": [
    "walmarts_with_IRIs=pd.merge(all_SG_WMT_POI,df_zip_by_18_mkts,on=\"zip_code\",how=\"left\")\n",
    "walmarts_with_IRIs['IRI Market']=walmarts_with_IRIs['IRI Market'].fillna(\"['Others_out_18']\")\n",
    "walmarts_with_IRIs['IRI Market']=walmarts_with_IRIs['IRI Market'].astype(str)\n",
    "walmarts_with_IRIs['IRI Market']=walmarts_with_IRIs['IRI Market'].apply(eval)\n",
    "walmarts_with_IRIs['latitude']=walmarts_with_IRIs['latitude'].astype(float)\n",
    "walmarts_with_IRIs['longitude']=walmarts_with_IRIs['longitude'].astype(float)\n",
    "\n",
    "walmarts_with_IRIs.head(2)"
   ]
  },
  {
   "cell_type": "code",
   "execution_count": 16,
   "metadata": {},
   "outputs": [
    {
     "data": {
      "text/plain": [
       "(4653, 22)"
      ]
     },
     "execution_count": 16,
     "metadata": {},
     "output_type": "execute_result"
    }
   ],
   "source": [
    "walmarts_with_IRIs.shape"
   ]
  },
  {
   "cell_type": "code",
   "execution_count": 17,
   "metadata": {},
   "outputs": [
    {
     "data": {
      "text/plain": [
       "4653"
      ]
     },
     "execution_count": 17,
     "metadata": {},
     "output_type": "execute_result"
    }
   ],
   "source": [
    "walmarts_with_IRIs['safegraph_place_id'].nunique()"
   ]
  },
  {
   "cell_type": "code",
   "execution_count": 18,
   "metadata": {
    "collapsed": true
   },
   "outputs": [],
   "source": [
    "walmarts_with_IRIs_iter=walmarts_with_IRIs[['safegraph_place_id','latitude','longitude']]"
   ]
  },
  {
   "cell_type": "code",
   "execution_count": 19,
   "metadata": {
    "collapsed": true
   },
   "outputs": [],
   "source": [
    "df_mapping_store_10_zips=pd.DataFrame()\n",
    "for ind,row in walmarts_with_IRIs_iter.iterrows():\n",
    "    store_coor=[row['latitude'],row['longitude']]\n",
    "    store_id=row['safegraph_place_id']\n",
    "    for zip_cd in zip_centers.keys():\n",
    "        dist=haversine(store_coor,zip_centers[zip_cd],miles=True)\n",
    "        if dist<=10:\n",
    "            df=pd.DataFrame({\"zip_cd\":zip_cd,\"dist_miles\":dist},index=[store_id])\n",
    "            df_mapping_store_10_zips=df_mapping_store_10_zips.append(df)"
   ]
  },
  {
   "cell_type": "code",
   "execution_count": 20,
   "metadata": {
    "collapsed": true
   },
   "outputs": [],
   "source": [
    "df_mapping_store_10_zips=df_mapping_store_10_zips.reset_index().rename(columns={\"index\":\"safegraph_place_id\"})"
   ]
  },
  {
   "cell_type": "code",
   "execution_count": 21,
   "metadata": {},
   "outputs": [
    {
     "data": {
      "text/html": [
       "<div>\n",
       "<style>\n",
       "    .dataframe thead tr:only-child th {\n",
       "        text-align: right;\n",
       "    }\n",
       "\n",
       "    .dataframe thead th {\n",
       "        text-align: left;\n",
       "    }\n",
       "\n",
       "    .dataframe tbody tr th {\n",
       "        vertical-align: top;\n",
       "    }\n",
       "</style>\n",
       "<table border=\"1\" class=\"dataframe\">\n",
       "  <thead>\n",
       "    <tr style=\"text-align: right;\">\n",
       "      <th></th>\n",
       "      <th>safegraph_place_id</th>\n",
       "      <th>parent_safegraph_place_id</th>\n",
       "      <th>safegraph_brand_ids</th>\n",
       "      <th>location_name</th>\n",
       "      <th>brands</th>\n",
       "      <th>top_category</th>\n",
       "      <th>sub_category</th>\n",
       "      <th>naics_code</th>\n",
       "      <th>latitude</th>\n",
       "      <th>longitude</th>\n",
       "      <th>...</th>\n",
       "      <th>open_hours</th>\n",
       "      <th>polygon_wkt</th>\n",
       "      <th>polygon_class</th>\n",
       "      <th>phone_number</th>\n",
       "      <th>is_synthetic</th>\n",
       "      <th>includes_parking_lot</th>\n",
       "      <th>count_mkts</th>\n",
       "      <th>IRI Market</th>\n",
       "      <th>dist_miles</th>\n",
       "      <th>zip_cd</th>\n",
       "    </tr>\n",
       "  </thead>\n",
       "  <tbody>\n",
       "    <tr>\n",
       "      <th>0</th>\n",
       "      <td>sg:3d14eae49ae24306a6db19a386c658b0</td>\n",
       "      <td>sg:5c052cee6ebf4ba0acc781a7218470ab</td>\n",
       "      <td>SG_BRAND_04a8ca7bf49e7ecb4a32451676e929f0</td>\n",
       "      <td>Walmart</td>\n",
       "      <td>Walmart</td>\n",
       "      <td>General Merchandise Stores, including Warehous...</td>\n",
       "      <td>All Other General Merchandise Stores</td>\n",
       "      <td>452319</td>\n",
       "      <td>38.660866</td>\n",
       "      <td>-121.763446</td>\n",
       "      <td>...</td>\n",
       "      <td>{ \"Mon\": [[\"6:00\", \"24:00\"]], \"Tue\": [[\"6:00\",...</td>\n",
       "      <td>POLYGON ((-121.76448965459713 38.6618353425036...</td>\n",
       "      <td>OWNED_POLYGON</td>\n",
       "      <td>NaN</td>\n",
       "      <td>false</td>\n",
       "      <td>NaN</td>\n",
       "      <td>NaN</td>\n",
       "      <td>[Others_out_18]</td>\n",
       "      <td>7.889054</td>\n",
       "      <td>95618</td>\n",
       "    </tr>\n",
       "    <tr>\n",
       "      <th>1</th>\n",
       "      <td>sg:3d14eae49ae24306a6db19a386c658b0</td>\n",
       "      <td>sg:5c052cee6ebf4ba0acc781a7218470ab</td>\n",
       "      <td>SG_BRAND_04a8ca7bf49e7ecb4a32451676e929f0</td>\n",
       "      <td>Walmart</td>\n",
       "      <td>Walmart</td>\n",
       "      <td>General Merchandise Stores, including Warehous...</td>\n",
       "      <td>All Other General Merchandise Stores</td>\n",
       "      <td>452319</td>\n",
       "      <td>38.660866</td>\n",
       "      <td>-121.763446</td>\n",
       "      <td>...</td>\n",
       "      <td>{ \"Mon\": [[\"6:00\", \"24:00\"]], \"Tue\": [[\"6:00\",...</td>\n",
       "      <td>POLYGON ((-121.76448965459713 38.6618353425036...</td>\n",
       "      <td>OWNED_POLYGON</td>\n",
       "      <td>NaN</td>\n",
       "      <td>false</td>\n",
       "      <td>NaN</td>\n",
       "      <td>NaN</td>\n",
       "      <td>[Others_out_18]</td>\n",
       "      <td>1.005072</td>\n",
       "      <td>95776</td>\n",
       "    </tr>\n",
       "  </tbody>\n",
       "</table>\n",
       "<p>2 rows × 24 columns</p>\n",
       "</div>"
      ],
      "text/plain": [
       "                    safegraph_place_id            parent_safegraph_place_id  \\\n",
       "0  sg:3d14eae49ae24306a6db19a386c658b0  sg:5c052cee6ebf4ba0acc781a7218470ab   \n",
       "1  sg:3d14eae49ae24306a6db19a386c658b0  sg:5c052cee6ebf4ba0acc781a7218470ab   \n",
       "\n",
       "                         safegraph_brand_ids location_name   brands  \\\n",
       "0  SG_BRAND_04a8ca7bf49e7ecb4a32451676e929f0       Walmart  Walmart   \n",
       "1  SG_BRAND_04a8ca7bf49e7ecb4a32451676e929f0       Walmart  Walmart   \n",
       "\n",
       "                                        top_category  \\\n",
       "0  General Merchandise Stores, including Warehous...   \n",
       "1  General Merchandise Stores, including Warehous...   \n",
       "\n",
       "                           sub_category naics_code   latitude   longitude  \\\n",
       "0  All Other General Merchandise Stores     452319  38.660866 -121.763446   \n",
       "1  All Other General Merchandise Stores     452319  38.660866 -121.763446   \n",
       "\n",
       "   ...                                           open_hours  \\\n",
       "0  ...    { \"Mon\": [[\"6:00\", \"24:00\"]], \"Tue\": [[\"6:00\",...   \n",
       "1  ...    { \"Mon\": [[\"6:00\", \"24:00\"]], \"Tue\": [[\"6:00\",...   \n",
       "\n",
       "                                         polygon_wkt  polygon_class  \\\n",
       "0  POLYGON ((-121.76448965459713 38.6618353425036...  OWNED_POLYGON   \n",
       "1  POLYGON ((-121.76448965459713 38.6618353425036...  OWNED_POLYGON   \n",
       "\n",
       "  phone_number is_synthetic includes_parking_lot count_mkts       IRI Market  \\\n",
       "0          NaN        false                  NaN        NaN  [Others_out_18]   \n",
       "1          NaN        false                  NaN        NaN  [Others_out_18]   \n",
       "\n",
       "  dist_miles zip_cd  \n",
       "0   7.889054  95618  \n",
       "1   1.005072  95776  \n",
       "\n",
       "[2 rows x 24 columns]"
      ]
     },
     "execution_count": 21,
     "metadata": {},
     "output_type": "execute_result"
    }
   ],
   "source": [
    "df_output=pd.merge(walmarts_with_IRIs,df_mapping_store_10_zips,on=\"safegraph_place_id\",how=\"left\")\n",
    "df_output=df_output.rename(columns={\"zip_code\":\"store_zip\"})\n",
    "\n",
    "df_output.head(2)"
   ]
  },
  {
   "cell_type": "code",
   "execution_count": 22,
   "metadata": {},
   "outputs": [
    {
     "data": {
      "text/plain": [
       "(96993, 25)"
      ]
     },
     "execution_count": 22,
     "metadata": {},
     "output_type": "execute_result"
    }
   ],
   "source": [
    "df_output=df_output[['IRI Market','safegraph_place_id','zip_cd','dist_miles']+[x for x in df_output.columns.tolist() if x not in ['IRI Market','safegraph_place_id','zip_cd','dist_miles'] ]]\n",
    "df_output['iri_list_str']=df_output['IRI Market'].astype(str)\n",
    "df_output=df_output.sort_values(['iri_list_str','safegraph_place_id','dist_miles'])\n",
    "df_output.shape"
   ]
  },
  {
   "cell_type": "code",
   "execution_count": 23,
   "metadata": {},
   "outputs": [
    {
     "data": {
      "text/plain": [
       "(24490, 2)"
      ]
     },
     "execution_count": 23,
     "metadata": {},
     "output_type": "execute_result"
    }
   ],
   "source": [
    "df_output_unique_zip_by_IRI=df_output[['iri_list_str','zip_cd']].drop_duplicates()\n",
    "df_output_unique_zip_by_IRI=df_output_unique_zip_by_IRI[pd.notnull(df_output_unique_zip_by_IRI['zip_cd'])]\n",
    "df_output_unique_zip_by_IRI['iri_list_str']=df_output_unique_zip_by_IRI['iri_list_str'].apply(eval)\n",
    "df_output_unique_zip_by_IRI_agg=pd.DataFrame()\n",
    "for ind,row in df_output_unique_zip_by_IRI.iterrows():\n",
    "    df=pd.DataFrame({\"IRI_mkt_of_walmart\":row['iri_list_str'],\"zip_cd\":[row['zip_cd']]*len(row['iri_list_str'])},index=[x for x in range(len(row['iri_list_str']))])\n",
    "    df_output_unique_zip_by_IRI_agg=df_output_unique_zip_by_IRI_agg.append(df)\n",
    "    \n",
    "df_output_unique_zip_by_IRI_agg.shape"
   ]
  },
  {
   "cell_type": "code",
   "execution_count": 24,
   "metadata": {
    "collapsed": true
   },
   "outputs": [],
   "source": [
    "df_output_unique_zip_by_IRI_agg=df_output_unique_zip_by_IRI_agg.sort_values(\"IRI_mkt_of_walmart\").drop_duplicates([\"IRI_mkt_of_walmart\",\"zip_cd\"])"
   ]
  },
  {
   "cell_type": "code",
   "execution_count": 25,
   "metadata": {},
   "outputs": [
    {
     "name": "stderr",
     "output_type": "stream",
     "text": [
      "/usr/local/lib/python3.6/site-packages/ipykernel_launcher.py:2: SettingWithCopyWarning: \n",
      "A value is trying to be set on a copy of a slice from a DataFrame.\n",
      "Try using .loc[row_indexer,col_indexer] = value instead\n",
      "\n",
      "See the caveats in the documentation: http://pandas.pydata.org/pandas-docs/stable/indexing.html#indexing-view-versus-copy\n",
      "  \n"
     ]
    }
   ],
   "source": [
    "df_national_zips_18=df_output_unique_zip_by_IRI_agg[df_output_unique_zip_by_IRI_agg['IRI_mkt_of_walmart']!=\"Others_out_18\"]\n",
    "df_national_zips_18['IRI_mkt_of_walmart']=\"Selected_18_Mkts\"\n",
    "df_national_zips_18=df_national_zips_18.drop_duplicates()\n",
    "df_national_zips_others=df_output_unique_zip_by_IRI_agg[df_output_unique_zip_by_IRI_agg['IRI_mkt_of_walmart']==\"Others_out_18\"]\n",
    "df_national_zips_others=df_national_zips_others[~df_national_zips_others['zip_cd'].isin(df_national_zips_18['zip_cd'].tolist())]\n",
    "df_national_zips_others=df_national_zips_others.drop_duplicates()\n",
    "df_output_national=df_national_zips_18.append(df_national_zips_others)\n"
   ]
  },
  {
   "cell_type": "code",
   "execution_count": 26,
   "metadata": {},
   "outputs": [
    {
     "name": "stdout",
     "output_type": "stream",
     "text": [
      "2019-09-09 18:04:33.953923\n"
     ]
    },
    {
     "data": {
      "text/plain": [
       "(24481, 2)"
      ]
     },
     "execution_count": 26,
     "metadata": {},
     "output_type": "execute_result"
    }
   ],
   "source": [
    "print(datetime.datetime.now())\n",
    "df_output_unique_zip_by_IRI.shape"
   ]
  },
  {
   "cell_type": "code",
   "execution_count": 28,
   "metadata": {},
   "outputs": [
    {
     "data": {
      "text/plain": [
       "array([5])"
      ]
     },
     "execution_count": 28,
     "metadata": {},
     "output_type": "execute_result"
    }
   ],
   "source": [
    "df_output_unique_zip_by_IRI['zip_cd'].apply(lambda x: len(x)).unique()"
   ]
  },
  {
   "cell_type": "markdown",
   "metadata": {},
   "source": [
    "# Add demo"
   ]
  },
  {
   "cell_type": "code",
   "execution_count": 29,
   "metadata": {},
   "outputs": [
    {
     "data": {
      "text/plain": [
       "['based_on_EASI_zip4', 'based_on_census', 'both_sidebyside']"
      ]
     },
     "execution_count": 29,
     "metadata": {},
     "output_type": "execute_result"
    }
   ],
   "source": [
    "excel_demo=pd.ExcelFile(\"./SunnyD_target_demo_by_zip_JL_2019-09-05.xlsx\")\n",
    "excel_demo.sheet_names"
   ]
  },
  {
   "cell_type": "code",
   "execution_count": 30,
   "metadata": {
    "collapsed": true
   },
   "outputs": [],
   "source": [
    "# EASI\n",
    "df_easi_demo=excel_demo.parse(\"based_on_EASI_zip4\")\n",
    "df_easi_demo['ZIP_CODE']=df_easi_demo['ZIP_CODE'].apply(lambda x: str(x).zfill(5))\n",
    "df_easi_demo=df_easi_demo.rename(columns={\"ZIP_CODE\":\"zip_cd\"})"
   ]
  },
  {
   "cell_type": "code",
   "execution_count": 31,
   "metadata": {},
   "outputs": [
    {
     "data": {
      "text/html": [
       "<div>\n",
       "<style>\n",
       "    .dataframe thead tr:only-child th {\n",
       "        text-align: right;\n",
       "    }\n",
       "\n",
       "    .dataframe thead th {\n",
       "        text-align: left;\n",
       "    }\n",
       "\n",
       "    .dataframe tbody tr th {\n",
       "        vertical-align: top;\n",
       "    }\n",
       "</style>\n",
       "<table border=\"1\" class=\"dataframe\">\n",
       "  <thead>\n",
       "    <tr style=\"text-align: right;\">\n",
       "      <th></th>\n",
       "      <th>zip_cd</th>\n",
       "      <th>teenager_population</th>\n",
       "      <th>mother_population</th>\n",
       "      <th>HH_inc_avg</th>\n",
       "    </tr>\n",
       "  </thead>\n",
       "  <tbody>\n",
       "    <tr>\n",
       "      <th>0</th>\n",
       "      <td>00501</td>\n",
       "      <td>NaN</td>\n",
       "      <td>NaN</td>\n",
       "      <td>NaN</td>\n",
       "    </tr>\n",
       "    <tr>\n",
       "      <th>1</th>\n",
       "      <td>01001</td>\n",
       "      <td>312.433168</td>\n",
       "      <td>893.364506</td>\n",
       "      <td>93533.973313</td>\n",
       "    </tr>\n",
       "  </tbody>\n",
       "</table>\n",
       "</div>"
      ],
      "text/plain": [
       "  zip_cd  teenager_population  mother_population    HH_inc_avg\n",
       "0  00501                  NaN                NaN           NaN\n",
       "1  01001           312.433168         893.364506  93533.973313"
      ]
     },
     "execution_count": 31,
     "metadata": {},
     "output_type": "execute_result"
    }
   ],
   "source": [
    "df_easi_demo.head(2)"
   ]
  },
  {
   "cell_type": "code",
   "execution_count": 32,
   "metadata": {
    "collapsed": true
   },
   "outputs": [],
   "source": [
    "df_output_national_EASI=pd.merge(df_output_national,df_easi_demo,on=\"zip_cd\",how=\"left\")\n",
    "df_output_unique_zip_by_IRI_agg_EASI=pd.merge(df_output_unique_zip_by_IRI_agg,df_easi_demo,on=\"zip_cd\",how=\"left\")"
   ]
  },
  {
   "cell_type": "code",
   "execution_count": 33,
   "metadata": {
    "collapsed": true
   },
   "outputs": [],
   "source": [
    "# Census\n",
    "df_census_demo=excel_demo.parse(\"based_on_census\")\n",
    "df_census_demo['ZIP_CODE']=df_census_demo['ZIP_CODE'].apply(lambda x: str(x).zfill(5))\n",
    "df_census_demo=df_census_demo[['ZIP_CODE','teenagers_10_19_census','calculated_Monther_census','HH_inc_avg']]\n",
    "df_census_demo=df_census_demo.rename(columns={\"ZIP_CODE\":\"zip_cd\"})"
   ]
  },
  {
   "cell_type": "code",
   "execution_count": 34,
   "metadata": {
    "collapsed": true
   },
   "outputs": [],
   "source": [
    "df_output_national_census=pd.merge(df_output_national,df_census_demo,on=\"zip_cd\",how=\"left\")\n",
    "df_output_unique_zip_by_IRI_agg_census=pd.merge(df_output_unique_zip_by_IRI_agg,df_census_demo,on=\"zip_cd\",how=\"left\")"
   ]
  },
  {
   "cell_type": "code",
   "execution_count": 35,
   "metadata": {
    "collapsed": true
   },
   "outputs": [],
   "source": [
    "writer=pd.ExcelWriter(\"./df_zips_10_miles_around_all_walmarts_labled_IRI_JL_\"+str(datetime.datetime.now().date())+\".xlsx\",engine=\"xlsxwriter\")\n",
    "df_output_national_EASI.to_excel(writer,\"unique_zips_10miles_wmt_EASI\",index=False)\n",
    "df_output_unique_zip_by_IRI_agg_EASI.to_excel(writer,\"unique_zips_by_wmt_IRI_EASI\",index=False)\n",
    "\n",
    "df_output_national_census.to_excel(writer,\"unique_zips_10miles_wmt_Census\",index=False)\n",
    "df_output_unique_zip_by_IRI_agg_census.to_excel(writer,\"unique_zips_by_wmt_IRI_Census\",index=False)\n",
    "\n",
    "df_output.to_excel(writer,\"all_zips_with_store_info_POI\",index=False)\n",
    "\n",
    "writer.save()"
   ]
  },
  {
   "cell_type": "code",
   "execution_count": 36,
   "metadata": {},
   "outputs": [
    {
     "data": {
      "text/plain": [
       "array([5])"
      ]
     },
     "execution_count": 36,
     "metadata": {},
     "output_type": "execute_result"
    }
   ],
   "source": [
    "df_output_unique_zip_by_IRI_agg_census['zip_cd'].apply(lambda x: len(x)).unique()"
   ]
  },
  {
   "cell_type": "code",
   "execution_count": null,
   "metadata": {
    "collapsed": true
   },
   "outputs": [],
   "source": []
  }
 ],
 "metadata": {
  "kernelspec": {
   "display_name": "Python 3",
   "language": "python",
   "name": "python3"
  },
  "language_info": {
   "codemirror_mode": {
    "name": "ipython",
    "version": 3
   },
   "file_extension": ".py",
   "mimetype": "text/x-python",
   "name": "python",
   "nbconvert_exporter": "python",
   "pygments_lexer": "ipython3",
   "version": "3.6.1"
  }
 },
 "nbformat": 4,
 "nbformat_minor": 2
}
