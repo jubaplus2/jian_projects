{
 "cells": [
  {
   "cell_type": "code",
   "execution_count": 1,
   "metadata": {},
   "outputs": [
    {
     "name": "stdout",
     "output_type": "stream",
     "text": [
      "2020-03-25 12:01:04.354303\n",
      "/home/jian/Projects/Big_Lots/Analysis/2020_Q1/plannder_requests/BR_sales_by_division_2_years_20200323\n"
     ]
    }
   ],
   "source": [
    "import pandas as pd\n",
    "import datetime\n",
    "import numpy as np\n",
    "import os\n",
    "\n",
    "print(datetime.datetime.now())\n",
    "print(os.getcwd())"
   ]
  },
  {
   "cell_type": "code",
   "execution_count": 2,
   "metadata": {},
   "outputs": [
    {
     "name": "stdout",
     "output_type": "stream",
     "text": [
      "quarter [<class 'str'>]\n",
      "week_end_dt [<class 'str'>]\n",
      "location_id [<class 'int'>]\n",
      "division_id [<class 'int'>]\n",
      "rewards_sales [<class 'float'>]\n",
      "rewards_units [<class 'float'>]\n",
      "rewards_trans [<class 'float'>]\n",
      "unique_shoppers [<class 'float'>]\n",
      "nonrewards_sales [<class 'float'>]\n",
      "nonrewards_units [<class 'float'>]\n",
      "nonrewards_trans [<class 'float'>]\n",
      "(1821480, 11)\n"
     ]
    }
   ],
   "source": [
    "df_POS_detail=pd.read_csv(\"./BL_2_years_sales_by_store_division_week_JL_2020-03-24.csv\")\n",
    "for col in df_POS_detail.columns.tolist():\n",
    "    print(col,df_POS_detail[col].apply(type).unique())\n",
    "print(df_POS_detail.shape)"
   ]
  },
  {
   "cell_type": "code",
   "execution_count": 3,
   "metadata": {},
   "outputs": [
    {
     "data": {
      "text/html": [
       "<div>\n",
       "<style scoped>\n",
       "    .dataframe tbody tr th:only-of-type {\n",
       "        vertical-align: middle;\n",
       "    }\n",
       "\n",
       "    .dataframe tbody tr th {\n",
       "        vertical-align: top;\n",
       "    }\n",
       "\n",
       "    .dataframe thead th {\n",
       "        text-align: right;\n",
       "    }\n",
       "</style>\n",
       "<table border=\"1\" class=\"dataframe\">\n",
       "  <thead>\n",
       "    <tr style=\"text-align: right;\">\n",
       "      <th></th>\n",
       "      <th>quarter</th>\n",
       "      <th>week_end_dt</th>\n",
       "      <th>location_id</th>\n",
       "      <th>division_id</th>\n",
       "      <th>rewards_sales</th>\n",
       "      <th>rewards_units</th>\n",
       "      <th>rewards_trans</th>\n",
       "      <th>unique_shoppers</th>\n",
       "      <th>nonrewards_sales</th>\n",
       "      <th>nonrewards_units</th>\n",
       "      <th>nonrewards_trans</th>\n",
       "    </tr>\n",
       "  </thead>\n",
       "  <tbody>\n",
       "    <tr>\n",
       "      <th>0</th>\n",
       "      <td>2017_Q1</td>\n",
       "      <td>2017-02-11</td>\n",
       "      <td>1</td>\n",
       "      <td>1</td>\n",
       "      <td>7378.96</td>\n",
       "      <td>4275.0</td>\n",
       "      <td>682.0</td>\n",
       "      <td>597.0</td>\n",
       "      <td>7126.48</td>\n",
       "      <td>4075.0</td>\n",
       "      <td>682.0</td>\n",
       "    </tr>\n",
       "    <tr>\n",
       "      <th>1</th>\n",
       "      <td>2017_Q1</td>\n",
       "      <td>2017-02-11</td>\n",
       "      <td>1</td>\n",
       "      <td>10</td>\n",
       "      <td>358.25</td>\n",
       "      <td>70.0</td>\n",
       "      <td>41.0</td>\n",
       "      <td>40.0</td>\n",
       "      <td>315.17</td>\n",
       "      <td>65.0</td>\n",
       "      <td>41.0</td>\n",
       "    </tr>\n",
       "  </tbody>\n",
       "</table>\n",
       "</div>"
      ],
      "text/plain": [
       "   quarter week_end_dt  location_id  division_id  rewards_sales  \\\n",
       "0  2017_Q1  2017-02-11            1            1        7378.96   \n",
       "1  2017_Q1  2017-02-11            1           10         358.25   \n",
       "\n",
       "   rewards_units  rewards_trans  unique_shoppers  nonrewards_sales  \\\n",
       "0         4275.0          682.0            597.0           7126.48   \n",
       "1           70.0           41.0             40.0            315.17   \n",
       "\n",
       "   nonrewards_units  nonrewards_trans  \n",
       "0            4075.0             682.0  \n",
       "1              65.0              41.0  "
      ]
     },
     "execution_count": 3,
     "metadata": {},
     "output_type": "execute_result"
    }
   ],
   "source": [
    "df_POS_detail.head(2)"
   ]
  },
  {
   "cell_type": "code",
   "execution_count": 4,
   "metadata": {},
   "outputs": [
    {
     "name": "stdout",
     "output_type": "stream",
     "text": [
      "(18630, 3)\n"
     ]
    },
    {
     "data": {
      "text/html": [
       "<div>\n",
       "<style scoped>\n",
       "    .dataframe tbody tr th:only-of-type {\n",
       "        vertical-align: middle;\n",
       "    }\n",
       "\n",
       "    .dataframe tbody tr th {\n",
       "        vertical-align: top;\n",
       "    }\n",
       "\n",
       "    .dataframe thead th {\n",
       "        text-align: right;\n",
       "    }\n",
       "</style>\n",
       "<table border=\"1\" class=\"dataframe\">\n",
       "  <thead>\n",
       "    <tr style=\"text-align: right;\">\n",
       "      <th></th>\n",
       "      <th>location_id</th>\n",
       "      <th>quarter</th>\n",
       "      <th>week_count</th>\n",
       "    </tr>\n",
       "  </thead>\n",
       "  <tbody>\n",
       "    <tr>\n",
       "      <th>0</th>\n",
       "      <td>1</td>\n",
       "      <td>2017_Q1</td>\n",
       "      <td>13</td>\n",
       "    </tr>\n",
       "    <tr>\n",
       "      <th>1</th>\n",
       "      <td>1</td>\n",
       "      <td>2017_Q2</td>\n",
       "      <td>13</td>\n",
       "    </tr>\n",
       "    <tr>\n",
       "      <th>2</th>\n",
       "      <td>1</td>\n",
       "      <td>2017_Q3</td>\n",
       "      <td>13</td>\n",
       "    </tr>\n",
       "    <tr>\n",
       "      <th>3</th>\n",
       "      <td>1</td>\n",
       "      <td>2017_Q4</td>\n",
       "      <td>13</td>\n",
       "    </tr>\n",
       "  </tbody>\n",
       "</table>\n",
       "</div>"
      ],
      "text/plain": [
       "   location_id  quarter  week_count\n",
       "0            1  2017_Q1          13\n",
       "1            1  2017_Q2          13\n",
       "2            1  2017_Q3          13\n",
       "3            1  2017_Q4          13"
      ]
     },
     "execution_count": 4,
     "metadata": {},
     "output_type": "execute_result"
    }
   ],
   "source": [
    "df_store_open_weeks_by_Q=df_POS_detail.groupby([\"location_id\",\"quarter\"])['week_end_dt'].nunique().to_frame().reset_index()\n",
    "print(df_store_open_weeks_by_Q.shape)\n",
    "df_store_open_weeks_by_Q=df_store_open_weeks_by_Q.rename(columns={\"week_end_dt\":\"week_count\"})\n",
    "df_store_open_weeks_by_Q.head(4)"
   ]
  },
  {
   "cell_type": "code",
   "execution_count": 5,
   "metadata": {},
   "outputs": [
    {
     "name": "stdout",
     "output_type": "stream",
     "text": [
      "(1727798, 12) (1821480, 12)\n"
     ]
    }
   ],
   "source": [
    "df_POS_detail=pd.merge(df_POS_detail,df_store_open_weeks_by_Q,on=[\"location_id\",\"quarter\"],how=\"left\")\n",
    "df_POS_detail_inclusions=df_POS_detail[df_POS_detail['week_count']==13]\n",
    "df_POS_detail_exclusions=df_POS_detail[df_POS_detail['week_count']!=13]\n",
    "\n",
    "print(df_POS_detail_inclusions.shape,df_POS_detail.shape)"
   ]
  },
  {
   "cell_type": "code",
   "execution_count": 6,
   "metadata": {},
   "outputs": [
    {
     "name": "stdout",
     "output_type": "stream",
     "text": [
      "(16719, 3) (1911, 3)\n"
     ]
    }
   ],
   "source": [
    "store_list_inclusions=df_POS_detail_inclusions[['quarter','location_id','week_count']].drop_duplicates()\n",
    "store_list_exclusions=df_POS_detail_exclusions[['quarter','location_id','week_count']].drop_duplicates()\n",
    "\n",
    "print(store_list_inclusions.shape,store_list_exclusions.shape)"
   ]
  },
  {
   "cell_type": "code",
   "execution_count": 7,
   "metadata": {},
   "outputs": [],
   "source": [
    "df_POS_detail_inclusions_instore=df_POS_detail_inclusions[df_POS_detail_inclusions['location_id']!=6990]\n",
    "df_POS_detail_inclusions_online=df_POS_detail_inclusions[df_POS_detail_inclusions['location_id']==6990]"
   ]
  },
  {
   "cell_type": "code",
   "execution_count": 8,
   "metadata": {},
   "outputs": [],
   "source": [
    "# exclude online 6990\n",
    "df_store_count_overall=df_POS_detail_inclusions_instore.groupby(\"quarter\")['location_id'].nunique().to_frame().reset_index().rename(columns={\"location_id\":\"store_count_overall(no_ecom)\"})\n",
    "\n",
    "df_store_count_by_division=df_POS_detail_inclusions_instore.groupby([\"quarter\",\"division_id\"])['location_id'].nunique().to_frame().reset_index().rename(columns={\"location_id\":\"store_count_by_div(no_ecom)\"})\n"
   ]
  },
  {
   "cell_type": "code",
   "execution_count": 9,
   "metadata": {
    "scrolled": true
   },
   "outputs": [],
   "source": [
    "df_POS_detail_inclusions_instore=df_POS_detail_inclusions_instore.groupby([\"quarter\",\"division_id\"])['rewards_sales','rewards_units','rewards_trans',\n",
    "                                                                                          'nonrewards_sales','nonrewards_units','nonrewards_trans'].sum().reset_index()\n",
    "for col in df_POS_detail_inclusions_instore.columns.tolist()[2:]:\n",
    "    df_POS_detail_inclusions_instore=df_POS_detail_inclusions_instore.rename(columns={col:\"instore_\"+col})\n",
    "\n",
    "###\n",
    "df_POS_detail_inclusions_online=df_POS_detail_inclusions_online.groupby([\"quarter\",\"division_id\"])['rewards_sales','rewards_units','rewards_trans',\n",
    "                                                                                          'nonrewards_sales','nonrewards_units','nonrewards_trans'].sum().reset_index()\n",
    "for col in df_POS_detail_inclusions_online.columns.tolist()[2:]:\n",
    "    df_POS_detail_inclusions_online=df_POS_detail_inclusions_online.rename(columns={col:\"online_\"+col})\n"
   ]
  },
  {
   "cell_type": "code",
   "execution_count": 10,
   "metadata": {},
   "outputs": [],
   "source": [
    "df_output=pd.merge(df_store_count_by_division,df_store_count_overall,on=\"quarter\",how=\"left\")\n",
    "df_output=pd.merge(df_output,df_POS_detail_inclusions_instore,on=[\"quarter\",\"division_id\"],how=\"left\")\n",
    "df_output=pd.merge(df_output,df_POS_detail_inclusions_online,on=[\"quarter\",\"division_id\"],how=\"left\")\n",
    "df_output=df_output.fillna(0)"
   ]
  },
  {
   "cell_type": "code",
   "execution_count": 18,
   "metadata": {},
   "outputs": [],
   "source": [
    "div_name=pd.read_csv(\"/home/jian/BigLots/static_files/MediaStorm Data Extract - Division Names.txt\",sep=\"|\",dtype=str)\n"
   ]
  },
  {
   "cell_type": "code",
   "execution_count": 17,
   "metadata": {},
   "outputs": [],
   "source": [
    "writer=pd.ExcelWriter(\"./BL_sales_by_division_and_quarter_JL_\"+str(datetime.datetime.now().date())+\".xlsx\",engine=\"xlsxwriter\")\n",
    "df_output.to_excel(writer,\"performance_inclusions\",index=False)\n",
    "store_list_inclusions.to_excel(writer,\"store_list_inclusions\",index=False)\n",
    "store_list_exclusions.to_excel(writer,\"store_list_exclusions\",index=False)\n",
    "df_store_count_overall.to_excel(writer,\"store_count_overall\",index=False)\n",
    "df_store_count_by_division.to_excel(writer,\"store_count_by_division\",index=False)\n",
    "div_name.to_excel(writer,\"div_name\",index=False)\n",
    "writer.save()"
   ]
  },
  {
   "cell_type": "code",
   "execution_count": null,
   "metadata": {},
   "outputs": [],
   "source": []
  }
 ],
 "metadata": {
  "kernelspec": {
   "display_name": "Python 3",
   "language": "python",
   "name": "python3"
  },
  "language_info": {
   "codemirror_mode": {
    "name": "ipython",
    "version": 3
   },
   "file_extension": ".py",
   "mimetype": "text/x-python",
   "name": "python",
   "nbconvert_exporter": "python",
   "pygments_lexer": "ipython3",
   "version": "3.6.1"
  }
 },
 "nbformat": 4,
 "nbformat_minor": 2
}
