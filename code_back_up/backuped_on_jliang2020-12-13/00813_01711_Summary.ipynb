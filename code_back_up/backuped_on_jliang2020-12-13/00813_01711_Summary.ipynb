{
 "cells": [
  {
   "cell_type": "code",
   "execution_count": 1,
   "metadata": {},
   "outputs": [
    {
     "data": {
      "text/plain": [
       "'/home/jian/Projects/Saatva/MMM/TMR_2018/summary'"
      ]
     },
     "execution_count": 1,
     "metadata": {},
     "output_type": "execute_result"
    }
   ],
   "source": [
    "import pandas as pd\n",
    "import os\n",
    "import datetime\n",
    "\n",
    "os.getcwd()"
   ]
  },
  {
   "cell_type": "code",
   "execution_count": 3,
   "metadata": {},
   "outputs": [],
   "source": [
    "df_sc=pd.read_csv(\"/home/jian/Projects/Saatva/MMM/TMR_2018/summary/all_sc_0326.csv\")\n",
    "df_sc=df_sc[df_sc['date'].apply(lambda x: x[:4]==\"2018\")]\n",
    "del df_sc['Unnamed: 0']\n",
    "col_list_summ=df_sc.columns.tolist()\n",
    "col_list_summ.remove('date')\n",
    "counter=0\n",
    "\n",
    "summary_sc_df=pd.DataFrame()\n",
    "for col in col_list_summ:\n",
    "    sum_col=df_sc[col].sum()\n",
    "    mean_col=df_sc[col].mean()\n",
    "    median_col=df_sc[col].median()\n",
    "    min_col=df_sc[col].min()\n",
    "    \n",
    "    count=df_sc[col].count()\n",
    "    count_0=df_sc[df_sc[col]==0].shape[0]\n",
    "    df=pd.DataFrame({\"metrics\":col,\"sum\":sum_col,\"mean\":mean_col,\"median\":median_col,\"min\":min_col,\"total_days\":count,\"count_0_days\":count_0},index=[counter])\n",
    "    counter+=1\n",
    "    summary_sc_df=summary_sc_df.append(df)\n",
    "summary_sc_df=summary_sc_df[['metrics','sum','mean','median','min','total_days','count_0_days']]"
   ]
  },
  {
   "cell_type": "code",
   "execution_count": 4,
   "metadata": {
    "collapsed": true
   },
   "outputs": [],
   "source": [
    "df_sm=pd.read_csv(\"/home/jian/Projects/Saatva/MMM/TMR_2018/summary/all_sm_0322.csv\")\n",
    "df_sm=df_sm[df_sm['date'].apply(lambda x: x[:4]==\"2018\")]\n",
    "del df_sm['Unnamed: 0']\n",
    "col_list_summ=df_sm.columns.tolist()\n",
    "col_list_summ.remove('date')\n",
    "counter=0\n",
    "\n",
    "summary_sm_df=pd.DataFrame()\n",
    "for col in col_list_summ:\n",
    "    sum_col=df_sm[col].sum()\n",
    "    mean_col=df_sm[col].mean()\n",
    "    median_col=df_sm[col].median()\n",
    "    min_col=df_sm[col].min()\n",
    "    \n",
    "    count=df_sm[col].count()\n",
    "    count_0=df_sm[df_sm[col]==0].shape[0]\n",
    "    df=pd.DataFrame({\"metrics\":col,\"sum\":sum_col,\"mean\":mean_col,\"median\":median_col,\"min\":min_col,\"total_days\":count,\"count_0_days\":count_0},index=[counter])\n",
    "    counter+=1\n",
    "    summary_sm_df=summary_sm_df.append(df)\n",
    "summary_sm_df=summary_sm_df[['metrics','sum','mean','median','min','total_days','count_0_days']]"
   ]
  },
  {
   "cell_type": "code",
   "execution_count": 5,
   "metadata": {
    "collapsed": true
   },
   "outputs": [],
   "source": [
    "summary_sc_df.to_csv(\"sc_summary.csv\",index=False)\n",
    "summary_sm_df.to_csv(\"sm_summary.csv\",index=False)"
   ]
  },
  {
   "cell_type": "code",
   "execution_count": null,
   "metadata": {
    "collapsed": true
   },
   "outputs": [],
   "source": []
  }
 ],
 "metadata": {
  "kernelspec": {
   "display_name": "Python 3",
   "language": "python",
   "name": "python3"
  },
  "language_info": {
   "codemirror_mode": {
    "name": "ipython",
    "version": 3
   },
   "file_extension": ".py",
   "mimetype": "text/x-python",
   "name": "python",
   "nbconvert_exporter": "python",
   "pygments_lexer": "ipython3",
   "version": "3.6.1"
  }
 },
 "nbformat": 4,
 "nbformat_minor": 2
}
