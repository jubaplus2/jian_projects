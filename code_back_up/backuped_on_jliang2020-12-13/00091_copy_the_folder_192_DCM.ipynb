{
 "cells": [
  {
   "cell_type": "code",
   "execution_count": 3,
   "metadata": {},
   "outputs": [],
   "source": [
    "# The logs deleted on 64 due to memory limitation\n",
    "# copy from the quarterly analysis folder to here as an individual project\n",
    "from shutil import copyfile\n",
    "import glob\n",
    "import os\n",
    "import datetime\n",
    "\n",
    "\n",
    "impr_direction_folder=\"/home/jian/Projects/Big_Lots/Predictive_Model/DCM_files_by_day/impressions/\"\n",
    "click_direction_folder=\"/home/jian/Projects/Big_Lots/Predictive_Model/DCM_files_by_day/clicks/\"\n",
    "act_direction_folder=\"/home/jian/Projects/Big_Lots/Predictive_Model/DCM_files_by_day/activities/\"\n",
    "\n",
    "\n",
    "impr_source_folder=\"/home/jian/Projects/Big_Lots/Analysis/2019_Q4/Predictive_Model_Building/DCM_raw_logs_BL/impressions/\"\n",
    "click_source_folder=\"/home/jian/Projects/Big_Lots/Analysis/2019_Q4/Predictive_Model_Building/DCM_raw_logs_BL/clicks/\"\n",
    "act_source_folder=\"/home/jian/Projects/Big_Lots/Analysis/2019_Q4/Predictive_Model_Building/DCM_raw_logs_BL/activities/\"\n",
    "\n",
    "\n",
    "try:\n",
    "    os.stat(impr_direction_folder)\n",
    "except:\n",
    "    os.mkdir(impr_direction_folder)\n",
    "    \n",
    "try:\n",
    "    os.stat(click_direction_folder)\n",
    "except:\n",
    "    os.mkdir(click_direction_folder)\n",
    "    \n",
    "try:\n",
    "    os.stat(act_direction_folder)\n",
    "except:\n",
    "    os.mkdir(act_direction_folder)"
   ]
  },
  {
   "cell_type": "code",
   "execution_count": 4,
   "metadata": {},
   "outputs": [],
   "source": [
    "impr_list_source_files=glob.glob(impr_source_folder+\"*.tsv\")\n",
    "click_list_source_files=glob.glob(click_source_folder+\"*.tsv\")\n",
    "act_list_source_files=glob.glob(act_source_folder+\"*.tsv\")\n"
   ]
  },
  {
   "cell_type": "code",
   "execution_count": 5,
   "metadata": {},
   "outputs": [],
   "source": [
    "'''\n",
    "for file in impr_list_source_files:\n",
    "    copyfile(file,impr_direction_folder+os.path.basename(file))\n",
    "for file in click_list_source_files:\n",
    "    copyfile(file,click_direction_folder+os.path.basename(file))\n",
    "'''\n",
    "for file in act_list_source_files:\n",
    "    copyfile(file,act_direction_folder+os.path.basename(file))"
   ]
  },
  {
   "cell_type": "code",
   "execution_count": null,
   "metadata": {},
   "outputs": [],
   "source": []
  }
 ],
 "metadata": {
  "kernelspec": {
   "display_name": "Python 3",
   "language": "python",
   "name": "python3"
  },
  "language_info": {
   "codemirror_mode": {
    "name": "ipython",
    "version": 3
   },
   "file_extension": ".py",
   "mimetype": "text/x-python",
   "name": "python",
   "nbconvert_exporter": "python",
   "pygments_lexer": "ipython3",
   "version": "3.6.1"
  }
 },
 "nbformat": 4,
 "nbformat_minor": 2
}
