{
 "cells": [
  {
   "cell_type": "code",
   "execution_count": 1,
   "metadata": {},
   "outputs": [
    {
     "data": {
      "text/plain": [
       "'/home/jian/Projects/Smoothie_King/adjust_for_pending_stores'"
      ]
     },
     "execution_count": 1,
     "metadata": {},
     "output_type": "execute_result"
    }
   ],
   "source": [
    "import pandas as pd\n",
    "import numpy as np\n",
    "import datetime\n",
    "import os\n",
    "import json\n",
    "from haversine import haversine\n",
    "zip_centers=json.load(open(\"/home/jian/Docs/Geo_mapping/updated_zip_centers_JL_2019-05-23.json\",\"r\"))\n",
    "os.getcwd()"
   ]
  },
  {
   "cell_type": "code",
   "execution_count": 2,
   "metadata": {},
   "outputs": [
    {
     "data": {
      "text/plain": [
       "['Pending Stores Master List']"
      ]
     },
     "execution_count": 2,
     "metadata": {},
     "output_type": "execute_result"
    }
   ],
   "source": [
    "excel_pending_stores=pd.ExcelFile(\"./Pending Stores 2019 - Vendors - 8.20.19.xlsx\")\n",
    "excel_pending_stores.sheet_names"
   ]
  },
  {
   "cell_type": "code",
   "execution_count": 3,
   "metadata": {},
   "outputs": [],
   "source": [
    "df_pending_stores=excel_pending_stores.parse(\"Pending Stores Master List\",dtype=str,skiprows=1)"
   ]
  },
  {
   "cell_type": "code",
   "execution_count": 4,
   "metadata": {
    "collapsed": true
   },
   "outputs": [],
   "source": [
    "today=datetime.datetime.now().date()\n",
    "today_year=today.year\n",
    "today_month=today.month\n"
   ]
  },
  {
   "cell_type": "code",
   "execution_count": 5,
   "metadata": {},
   "outputs": [],
   "source": [
    "start_index_new_location=df_pending_stores[df_pending_stores.iloc[:,0]==\"NEW LOCATIONS\"].index[0]\n",
    "end_index_new_location=df_pending_stores[df_pending_stores.iloc[:,0]==\"RELOCATIONS\"].index[0]\n",
    "df_new_stores=df_pending_stores.iloc[start_index_new_location:end_index_new_location,:]\n",
    "df_new_stores=df_new_stores[df_new_stores['Store #']!=\"nan\"]\n",
    "df_new_stores=df_new_stores[df_new_stores['Opening Target Date']!=\"TBD\"]\n",
    "df_new_stores['Opening Target Date']=df_new_stores['Opening Target Date'].apply(lambda x: x.split(\" \")[0])\n",
    "df_new_stores=df_new_stores.reset_index()\n",
    "del df_new_stores['index']\n",
    "\n",
    "df_new_stores['Opening Target Date']=df_new_stores['Opening Target Date'].replace(\"11/31/2019\",\"11/30/2019\")\n",
    "\n",
    "for ind,row in df_new_stores.iterrows():\n",
    "    try:\n",
    "        df_new_stores.loc[ind,'Opening Target Date']=datetime.datetime.strptime(row['Opening Target Date'],\"%Y-%m-%d\").date()\n",
    "    except:\n",
    "        df_new_stores.loc[ind,'Opening Target Date']=datetime.datetime.strptime(row['Opening Target Date'],\"%m/%d/%Y\").date()\n",
    "df_new_stores=df_new_stores[df_new_stores['Opening Target Date']<=datetime.date(today_year,today_month,15)]"
   ]
  },
  {
   "cell_type": "code",
   "execution_count": 6,
   "metadata": {},
   "outputs": [],
   "source": [
    "start_index_relocation=df_pending_stores[df_pending_stores.iloc[:,0]==\"RELOCATIONS\"].index[0]\n",
    "end_index_relocation=df_pending_stores[df_pending_stores.iloc[:,0]==\"TRANSFER OF OWNERSHIP\"].index[0]\n",
    "df_relocation_stores=df_pending_stores.iloc[start_index_relocation:end_index_relocation,:]\n",
    "df_relocation_stores=df_relocation_stores[df_relocation_stores['Store #']!=\"nan\"]\n"
   ]
  },
  {
   "cell_type": "code",
   "execution_count": 7,
   "metadata": {
    "collapsed": true
   },
   "outputs": [],
   "source": [
    "closing_store_list=['1005']"
   ]
  },
  {
   "cell_type": "code",
   "execution_count": 8,
   "metadata": {},
   "outputs": [
    {
     "data": {
      "text/html": [
       "<div>\n",
       "<style>\n",
       "    .dataframe thead tr:only-child th {\n",
       "        text-align: right;\n",
       "    }\n",
       "\n",
       "    .dataframe thead th {\n",
       "        text-align: left;\n",
       "    }\n",
       "\n",
       "    .dataframe tbody tr th {\n",
       "        vertical-align: top;\n",
       "    }\n",
       "</style>\n",
       "<table border=\"1\" class=\"dataframe\">\n",
       "  <thead>\n",
       "    <tr style=\"text-align: right;\">\n",
       "      <th></th>\n",
       "      <th>Opening Target Date</th>\n",
       "      <th>Store #</th>\n",
       "      <th>Cleaner \n",
       "Blending</th>\n",
       "      <th>Store Type</th>\n",
       "      <th>Store Franchisee</th>\n",
       "      <th>Address 1</th>\n",
       "      <th>City</th>\n",
       "      <th>State</th>\n",
       "      <th>Zip Code</th>\n",
       "      <th>Franchisee Personal Cell Phone Number</th>\n",
       "      <th>Business E-mail</th>\n",
       "      <th>Ops Manager</th>\n",
       "      <th>Ops Coach</th>\n",
       "      <th>FMM</th>\n",
       "    </tr>\n",
       "  </thead>\n",
       "  <tbody>\n",
       "    <tr>\n",
       "      <th>56</th>\n",
       "      <td>TBD</td>\n",
       "      <td>1175</td>\n",
       "      <td>nan</td>\n",
       "      <td>ECDT</td>\n",
       "      <td>Tim Mahon</td>\n",
       "      <td>Blending Soon at 15825 FOUNTAIN PLAZA DRIVE</td>\n",
       "      <td>Ellisville</td>\n",
       "      <td>MO</td>\n",
       "      <td>63011</td>\n",
       "      <td>314-825-0996</td>\n",
       "      <td>smoothiekingmo@gmail.com</td>\n",
       "      <td>Michael</td>\n",
       "      <td>nan</td>\n",
       "      <td>Tina</td>\n",
       "    </tr>\n",
       "    <tr>\n",
       "      <th>57</th>\n",
       "      <td>TBD</td>\n",
       "      <td>20</td>\n",
       "      <td>nan</td>\n",
       "      <td>DT</td>\n",
       "      <td>David Magri</td>\n",
       "      <td>3366 PARIS ROAD</td>\n",
       "      <td>CHALMETTE</td>\n",
       "      <td>LA</td>\n",
       "      <td>70043</td>\n",
       "      <td>504-288-5863</td>\n",
       "      <td>wafsking@aol.com</td>\n",
       "      <td>Jerome</td>\n",
       "      <td>Jeanne</td>\n",
       "      <td>Sara</td>\n",
       "    </tr>\n",
       "  </tbody>\n",
       "</table>\n",
       "</div>"
      ],
      "text/plain": [
       "   Opening Target Date Store # Cleaner \\nBlending Store Type Store Franchisee  \\\n",
       "56                 TBD    1175                nan       ECDT        Tim Mahon   \n",
       "57                 TBD      20                nan         DT      David Magri   \n",
       "\n",
       "                                      Address 1         City State Zip Code  \\\n",
       "56  Blending Soon at 15825 FOUNTAIN PLAZA DRIVE  Ellisville     MO    63011   \n",
       "57                              3366 PARIS ROAD    CHALMETTE    LA    70043   \n",
       "\n",
       "   Franchisee Personal Cell Phone Number           Business E-mail  \\\n",
       "56                          314-825-0996  smoothiekingmo@gmail.com   \n",
       "57                          504-288-5863          wafsking@aol.com   \n",
       "\n",
       "   Ops Manager Ops Coach   FMM  \n",
       "56     Michael       nan  Tina  \n",
       "57      Jerome    Jeanne  Sara  "
      ]
     },
     "execution_count": 8,
     "metadata": {},
     "output_type": "execute_result"
    }
   ],
   "source": [
    "# Revise the \"verified store list every month\", the used lat/lng\n",
    "# These look no need to change\n",
    "df_relocation_stores"
   ]
  },
  {
   "cell_type": "code",
   "execution_count": 9,
   "metadata": {},
   "outputs": [],
   "source": [
    "writer_folder=\"./output_\"+str(datetime.datetime.now().date())+\"/\"\n",
    "try:\n",
    "    os.stat(writer_folder)\n",
    "except:\n",
    "    os.mkdir(writer_folder)"
   ]
  },
  {
   "cell_type": "code",
   "execution_count": 10,
   "metadata": {},
   "outputs": [
    {
     "data": {
      "text/plain": [
       "['summary_by_TA', 'output_TA_by_store', 'zip_TA', 'summary_by_store_count']"
      ]
     },
     "execution_count": 10,
     "metadata": {},
     "output_type": "execute_result"
    }
   ],
   "source": [
    "excel_output=pd.ExcelFile(\"/home/jian/Projects/Smoothie_King/weekly_TA_updates/output_20190902/SmoothieKing_TA_of_3_miles_zips_JL_2019-09-03.xlsx\")\n",
    "excel_output.sheet_names\n"
   ]
  },
  {
   "cell_type": "code",
   "execution_count": 11,
   "metadata": {},
   "outputs": [
    {
     "data": {
      "text/plain": [
       "(935, 18)"
      ]
     },
     "execution_count": 11,
     "metadata": {},
     "output_type": "execute_result"
    }
   ],
   "source": [
    "df_by_store=excel_output.parse(\"output_TA_by_store\",dtype=str)\n",
    "df_by_store.shape"
   ]
  },
  {
   "cell_type": "code",
   "execution_count": 12,
   "metadata": {},
   "outputs": [],
   "source": [
    "df_by_store=df_by_store[~df_by_store['storenumber'].isin(closing_store_list)]"
   ]
  },
  {
   "cell_type": "code",
   "execution_count": 13,
   "metadata": {},
   "outputs": [
    {
     "data": {
      "text/html": [
       "<div>\n",
       "<style>\n",
       "    .dataframe thead tr:only-child th {\n",
       "        text-align: right;\n",
       "    }\n",
       "\n",
       "    .dataframe thead th {\n",
       "        text-align: left;\n",
       "    }\n",
       "\n",
       "    .dataframe tbody tr th {\n",
       "        vertical-align: top;\n",
       "    }\n",
       "</style>\n",
       "<table border=\"1\" class=\"dataframe\">\n",
       "  <thead>\n",
       "    <tr style=\"text-align: right;\">\n",
       "      <th></th>\n",
       "      <th>storenumber</th>\n",
       "      <th>Address</th>\n",
       "      <th>city</th>\n",
       "      <th>state</th>\n",
       "      <th>zip</th>\n",
       "      <th>StoreOpenDate</th>\n",
       "      <th>Latitude</th>\n",
       "      <th>Longitude</th>\n",
       "      <th>Ownership</th>\n",
       "      <th>Franchisee_Name</th>\n",
       "      <th>IPAddress</th>\n",
       "      <th>DriveThru</th>\n",
       "      <th>status</th>\n",
       "      <th>StoreCloseDate</th>\n",
       "      <th>used_lat</th>\n",
       "      <th>used_long</th>\n",
       "      <th>zips_3_miles</th>\n",
       "      <th>TA</th>\n",
       "    </tr>\n",
       "  </thead>\n",
       "  <tbody>\n",
       "  </tbody>\n",
       "</table>\n",
       "</div>"
      ],
      "text/plain": [
       "Empty DataFrame\n",
       "Columns: [storenumber, Address, city, state, zip, StoreOpenDate, Latitude, Longitude, Ownership, Franchisee_Name, IPAddress, DriveThru, status, StoreCloseDate, used_lat, used_long, zips_3_miles, TA]\n",
       "Index: []"
      ]
     },
     "execution_count": 13,
     "metadata": {},
     "output_type": "execute_result"
    }
   ],
   "source": [
    "new_store_list=df_new_stores['Store #'].unique().tolist()\n",
    "df_by_store[df_by_store['storenumber'].isin(new_store_list)]\n",
    "\n",
    "# All of the new stores need to be added"
   ]
  },
  {
   "cell_type": "code",
   "execution_count": 14,
   "metadata": {},
   "outputs": [
    {
     "data": {
      "text/html": [
       "<div>\n",
       "<style>\n",
       "    .dataframe thead tr:only-child th {\n",
       "        text-align: right;\n",
       "    }\n",
       "\n",
       "    .dataframe thead th {\n",
       "        text-align: left;\n",
       "    }\n",
       "\n",
       "    .dataframe tbody tr th {\n",
       "        vertical-align: top;\n",
       "    }\n",
       "</style>\n",
       "<table border=\"1\" class=\"dataframe\">\n",
       "  <thead>\n",
       "    <tr style=\"text-align: right;\">\n",
       "      <th></th>\n",
       "      <th>storenumber</th>\n",
       "      <th>Address</th>\n",
       "      <th>city</th>\n",
       "      <th>state</th>\n",
       "      <th>zip</th>\n",
       "      <th>StoreOpenDate</th>\n",
       "      <th>Latitude</th>\n",
       "      <th>Longitude</th>\n",
       "      <th>Ownership</th>\n",
       "      <th>Franchisee_Name</th>\n",
       "      <th>IPAddress</th>\n",
       "      <th>DriveThru</th>\n",
       "      <th>status</th>\n",
       "      <th>StoreCloseDate</th>\n",
       "      <th>used_lat</th>\n",
       "      <th>used_long</th>\n",
       "      <th>zips_3_miles</th>\n",
       "      <th>TA</th>\n",
       "    </tr>\n",
       "  </thead>\n",
       "  <tbody>\n",
       "    <tr>\n",
       "      <th>0</th>\n",
       "      <td>0000</td>\n",
       "      <td>7215 Veterans Memorial Blvd.</td>\n",
       "      <td>Metairie</td>\n",
       "      <td>LA</td>\n",
       "      <td>70003</td>\n",
       "      <td>1973-07-07 00:00:00</td>\n",
       "      <td>30.00589291</td>\n",
       "      <td>-90.22051644</td>\n",
       "      <td>Franchised</td>\n",
       "      <td>Steve Shields</td>\n",
       "      <td>70.183.114.37</td>\n",
       "      <td>Y</td>\n",
       "      <td>Same</td>\n",
       "      <td>nan</td>\n",
       "      <td>30.00589291</td>\n",
       "      <td>-90.22051644</td>\n",
       "      <td>['70060', '70006', '70141', '70062', '70033', ...</td>\n",
       "      <td>14_['0000', '0002', '0003', '0006', '0010', '0...</td>\n",
       "    </tr>\n",
       "    <tr>\n",
       "      <th>1</th>\n",
       "      <td>0002</td>\n",
       "      <td>4539 Veterans Blvd.</td>\n",
       "      <td>Metairie</td>\n",
       "      <td>LA</td>\n",
       "      <td>70006</td>\n",
       "      <td>1989-09-11 00:00:00</td>\n",
       "      <td>30.00581824</td>\n",
       "      <td>-90.18467266</td>\n",
       "      <td>Franchised</td>\n",
       "      <td>Steve Shields</td>\n",
       "      <td>108.65.143.116</td>\n",
       "      <td>N</td>\n",
       "      <td>Same</td>\n",
       "      <td>nan</td>\n",
       "      <td>30.00581824</td>\n",
       "      <td>-90.18467266</td>\n",
       "      <td>['70060', '70011', '70004', '70006', '70009', ...</td>\n",
       "      <td>14_['0000', '0002', '0003', '0006', '0010', '0...</td>\n",
       "    </tr>\n",
       "  </tbody>\n",
       "</table>\n",
       "</div>"
      ],
      "text/plain": [
       "  storenumber                       Address      city state    zip  \\\n",
       "0        0000  7215 Veterans Memorial Blvd.  Metairie    LA  70003   \n",
       "1        0002           4539 Veterans Blvd.  Metairie    LA  70006   \n",
       "\n",
       "         StoreOpenDate     Latitude     Longitude   Ownership Franchisee_Name  \\\n",
       "0  1973-07-07 00:00:00  30.00589291  -90.22051644  Franchised   Steve Shields   \n",
       "1  1989-09-11 00:00:00  30.00581824  -90.18467266  Franchised   Steve Shields   \n",
       "\n",
       "        IPAddress DriveThru status StoreCloseDate     used_lat     used_long  \\\n",
       "0   70.183.114.37         Y   Same            nan  30.00589291  -90.22051644   \n",
       "1  108.65.143.116         N   Same            nan  30.00581824  -90.18467266   \n",
       "\n",
       "                                        zips_3_miles  \\\n",
       "0  ['70060', '70006', '70141', '70062', '70033', ...   \n",
       "1  ['70060', '70011', '70004', '70006', '70009', ...   \n",
       "\n",
       "                                                  TA  \n",
       "0  14_['0000', '0002', '0003', '0006', '0010', '0...  \n",
       "1  14_['0000', '0002', '0003', '0006', '0010', '0...  "
      ]
     },
     "execution_count": 14,
     "metadata": {},
     "output_type": "execute_result"
    }
   ],
   "source": [
    "df_by_store.head(2)"
   ]
  },
  {
   "cell_type": "code",
   "execution_count": 15,
   "metadata": {},
   "outputs": [],
   "source": [
    "TA_name=df_by_store[['storenumber','TA']].drop_duplicates()\n",
    "TA_name_count=TA_name.groupby(\"TA\")['storenumber'].count().to_frame().reset_index().rename(columns={\"storenumber\":\"store_count\"})\n",
    "TA_name_list=TA_name.groupby(\"TA\")['storenumber'].apply(list).to_frame().reset_index().rename(columns={\"storenumber\":\"store_list\"})\n",
    "TA_name=pd.merge(TA_name_count,TA_name_list,on=\"TA\",how=\"outer\")\n",
    "TA_name['store_count']=TA_name['store_count'].apply(lambda x: str(x))\n",
    "TA_name['store_list']=TA_name['store_list'].apply(lambda x: str(x))\n",
    "TA_name['TA_new_name']=TA_name['store_count']+\"_\"+TA_name['store_list']\n",
    "TA_name_dict=TA_name.set_index(\"TA\").to_dict()['TA_new_name']\n",
    "\n",
    "\n",
    "df_by_store['TA']=df_by_store['TA'].apply(lambda x: TA_name_dict[x])\n",
    "df_by_store=df_by_store.rename(columns={\"TA\":\"TA_new\"})\n"
   ]
  },
  {
   "cell_type": "code",
   "execution_count": 16,
   "metadata": {
    "collapsed": true
   },
   "outputs": [],
   "source": [
    "zip_TA=excel_output.parse(\"zip_TA\",dtype=str)\n",
    "zip_TA=zip_TA[~zip_TA['store'].isin(closing_store_list)]"
   ]
  },
  {
   "cell_type": "code",
   "execution_count": 17,
   "metadata": {},
   "outputs": [
    {
     "data": {
      "text/plain": [
       "['Atlanta',\n",
       " 'Baton Rouge',\n",
       " 'Biloxi',\n",
       " 'Charlotte',\n",
       " 'Cincinnati',\n",
       " 'Dallas-Fort Worth',\n",
       " 'Houston',\n",
       " 'Jackson',\n",
       " 'Jacksonville',\n",
       " 'Kansas City',\n",
       " 'Memphis',\n",
       " 'Miami-Ft. Lauderdale',\n",
       " 'Mobile-Pensacola-Destin',\n",
       " 'Nashville',\n",
       " 'New Orleans',\n",
       " 'Orlando',\n",
       " 'San Antonio',\n",
       " 'St. Louis',\n",
       " 'Tampa',\n",
       " 'Unknown',\n",
       " 'Washington DC',\n",
       " 'nan']"
      ]
     },
     "execution_count": 17,
     "metadata": {},
     "output_type": "execute_result"
    }
   ],
   "source": [
    "sorted(zip_TA['Co-Op/Regional'].unique().tolist())"
   ]
  },
  {
   "cell_type": "code",
   "execution_count": 18,
   "metadata": {},
   "outputs": [],
   "source": [
    "zip_TA['TA']=zip_TA['TA'].apply(lambda x: TA_name_dict[x])\n",
    "zip_TA=zip_TA.rename(columns={\"TA\":\"TA_new\"})\n"
   ]
  },
  {
   "cell_type": "code",
   "execution_count": 19,
   "metadata": {},
   "outputs": [],
   "source": [
    "dict_new_stores={}\n",
    "\n",
    "# Blending Soon at 12 ROUTE 9, UNIT 103B\tMarlboro\tNJ\t07751\n",
    "dict_new_stores.update({\"1680\":{\"GoogleAddress\":\"12 U.S. 9 #103B Morganville, NJ 07751\",\"Google_LatLng\":[40.3625614,-74.3036912]}})\n",
    "\n",
    "# Blending Soon at 7850 NW 25th St\tDoral\tFL\t33122\n",
    "dict_new_stores.update({\"1238\":{\"GoogleAddress\":\"7850 NW 25th St Doral, FL 33122\",\"Google_LatLng\":[25.7956288,-80.3244997]}})\n",
    "\n",
    "# Blending Soon at 10800 Kingston Pike\tKnoxville\tTN\t37934\n",
    "dict_new_stores.update({\"1676\":{\"GoogleAddress\":\"10800 Kingston Pike Knoxville, TN 37934\",\"Google_LatLng\":[35.8936577,-84.1412263]}})\n",
    "\n",
    "# Blending Soon at 14550 WESTHEIMER ROAD, SUITE 100\tHouston\tTX\t77077\n",
    "dict_new_stores.update({\"1728\":{\"GoogleAddress\":\"14550 Westheimer Rd #100 Houston, TX 77077\",\"Google_LatLng\":[29.7360888,-95.6435565]}})\n",
    "\n",
    "# Blending Soon at 1514 Jefferson Hwy\tNew Orleans\tLA\t70121\n",
    "dict_new_stores.update({\"1809\":{\"GoogleAddress\":\"1514 Jefferson Hwy Jefferson, LA 70121\",\"Google_LatLng\":[29.960791,-90.1448282]}})\n",
    "\n",
    "# Blending Soon at ALLEN PARK PLAZA\tAllen Park\tMI\t48101\n",
    "dict_new_stores.update({\"1761\":{\"GoogleAddress\":\"3391 Fairlane Dr, Allen Park, MI 48101\",\"Google_LatLng\":[42.2825901,-83.2049022]}})\n",
    "\n",
    "# Blending Soon at 9170 N. SILVERBELL RD.\tTucson\tAZ\t85743\n",
    "dict_new_stores.update({\"1803\":{\"GoogleAddress\":\"9170 N Silverbell Rd Tucson, AZ 85743\",\"Google_LatLng\":[32.3737145,-111.1369671]}})\n",
    "\n",
    "# Blending Soon at 1231 WILLIAM D. TATE AVENUE\tGrapevine\tTX\t76051\t\n",
    "dict_new_stores.update({\"1687\":{\"GoogleAddress\":\"1231 William D Tate Ave Grapevine, TX 76051\",\"Google_LatLng\":[32.9285253,-97.0850029]}})\n",
    "\n",
    "# Blending Soon at 4986 STEINER WAY\tGrovetown\tGA\t30813\n",
    "dict_new_stores.update({\"1805\":{\"GoogleAddress\":\"4986 Steiner Way Grovetown, GA 30813\",\"Google_LatLng\":[33.4809163,-82.1984349]}})\n",
    "\n"
   ]
  },
  {
   "cell_type": "code",
   "execution_count": 20,
   "metadata": {},
   "outputs": [],
   "source": [
    "df_new_stores['GoogleAddress']=df_new_stores['Store #'].apply(lambda x: dict_new_stores[x]['GoogleAddress'])\n",
    "df_new_stores['GoogleLatitude']=df_new_stores['Store #'].apply(lambda x: dict_new_stores[x]['Google_LatLng'][0])\n",
    "df_new_stores['GoogleLongitude']=df_new_stores['Store #'].apply(lambda x: dict_new_stores[x]['Google_LatLng'][1])\n"
   ]
  },
  {
   "cell_type": "code",
   "execution_count": 21,
   "metadata": {},
   "outputs": [],
   "source": [
    "df_new_stores['zips_3_miles']=np.nan\n",
    "\n",
    "for ind,row in df_new_stores.iterrows():\n",
    "    store_center=(row['GoogleLatitude'],row['GoogleLongitude'])\n",
    "    zip_list=[]\n",
    "    for zip_cd in zip_centers.keys():\n",
    "        dist=haversine(store_center,zip_centers[zip_cd],miles=True)\n",
    "        if dist<=3:\n",
    "            zip_list.extend([zip_cd])\n",
    "    df_new_stores.loc[ind,'zips_3_miles']=str(zip_list)\n"
   ]
  },
  {
   "cell_type": "code",
   "execution_count": 22,
   "metadata": {
    "collapsed": true
   },
   "outputs": [],
   "source": [
    "cols=zip_TA.columns.tolist()\n",
    "zip_ta_new_stores=pd.DataFrame(columns=zip_TA.columns.tolist())\n",
    "for ind, row in df_new_stores.iterrows():\n",
    "    store=row['Store #']\n",
    "    zip_list=eval(row['zips_3_miles'])\n",
    "    df=pd.DataFrame({\"zip\":zip_list},index=[store]*len(zip_list)).reset_index().rename(columns={\"index\":\"store\"})\n",
    "    df['TA_new']=\"new_stores\"\n",
    "    df['Primary_DMA']=\"new_stores\"\n",
    "    df['Co-Op/Regional']=\"Unknown\"\n",
    "    zip_ta_new_stores=zip_ta_new_stores.append(df)\n",
    "zip_ta_new_stores=zip_ta_new_stores[cols]"
   ]
  },
  {
   "cell_type": "code",
   "execution_count": 23,
   "metadata": {},
   "outputs": [],
   "source": [
    "zip_TA=zip_TA.append(zip_ta_new_stores)\n",
    "df_TA_zips=zip_TA.copy()"
   ]
  },
  {
   "cell_type": "code",
   "execution_count": 24,
   "metadata": {
    "collapsed": true
   },
   "outputs": [],
   "source": [
    "rfa_mapping=pd.read_excel(\"/home/jian/Projects/Smoothie_King/SK_celery/RFA_region_20190128.xlsx\",dtype=str)\n",
    "rfa_mapping=rfa_mapping[['Store: Store Number  ↑','DMA','Co-Op/Regional']]\n",
    "rfa_mapping=rfa_mapping.rename(columns={\"Store: Store Number  ↑\":\"store\"})\n",
    "\n",
    "\n",
    "Austin_stores=rfa_mapping[rfa_mapping['DMA'].apply(lambda x: x.lower()==\"austin\")]"
   ]
  },
  {
   "cell_type": "code",
   "execution_count": 25,
   "metadata": {},
   "outputs": [],
   "source": [
    "for region,df_group in df_TA_zips.groupby(\"Co-Op/Regional\"):\n",
    "    if region!=\"UnknowRegion\":\n",
    "        df_group=df_group[['zip','Co-Op/Regional']].drop_duplicates()\n",
    "        df_group.to_csv(writer_folder+\"zips_for_the_%s.csv\"%region,index=False)\n",
    "    else:\n",
    "        df_austin=df_group[df_group['store'].isin(Austin_stores['store'].tolist())]\n",
    "        df_unknown=df_group[~df_group['store'].isin(Austin_stores['store'].tolist())]\n",
    "\n",
    "        df_austin.to_csv(writer_folder+\"zips_for_the_%s.csv\"%\"AustinDMA\",index=False)\n",
    "        df_unknown.to_csv(writer_folder+\"zips_for_the_%s.csv\"%\"UnknownRegion\",index=False)\n",
    "df_output_overall_zips=df_TA_zips[['zip']].drop_duplicates()\n",
    "df_output_overall_zips.to_csv(writer_folder+\"overall_zips_in_TA.csv\",index=False)"
   ]
  },
  {
   "cell_type": "code",
   "execution_count": 26,
   "metadata": {},
   "outputs": [],
   "source": [
    "writer=pd.ExcelWriter(writer_folder+\"SmoothieKing_TA_of_3_miles_zips_JL_\"+str(datetime.datetime.now().date())+\".xlsx\",engine=\"xlsxwriter\")\n",
    "df_TA_zips.to_excel(writer,\"df_TA_zips\",index=False)\n",
    "df_new_stores.to_excel(writer,\"new_stores_add_on\",index=False)\n",
    "df_by_store.to_excel(writer,\"df_by_store\",index=False)\n",
    "rfa_mapping=pd.read_excel(\"/home/jian/Projects/Smoothie_King/SK_celery/RFA_region_20190128.xlsx\",dtype=str)\n",
    "rfa_mapping.to_excel(writer,\"RFA_region_20190128\",index=False)\n",
    "writer.save()"
   ]
  },
  {
   "cell_type": "code",
   "execution_count": null,
   "metadata": {
    "collapsed": true
   },
   "outputs": [],
   "source": []
  }
 ],
 "metadata": {
  "kernelspec": {
   "display_name": "Python 3",
   "language": "python",
   "name": "python3"
  },
  "language_info": {
   "codemirror_mode": {
    "name": "ipython",
    "version": 3
   },
   "file_extension": ".py",
   "mimetype": "text/x-python",
   "name": "python",
   "nbconvert_exporter": "python",
   "pygments_lexer": "ipython3",
   "version": "3.6.1"
  }
 },
 "nbformat": 4,
 "nbformat_minor": 2
}
