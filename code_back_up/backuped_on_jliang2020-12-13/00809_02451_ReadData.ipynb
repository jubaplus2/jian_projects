{
 "cells": [
  {
   "cell_type": "code",
   "execution_count": 2,
   "metadata": {},
   "outputs": [],
   "source": [
    "import logging\n",
    "import pandas as pd\n",
    "import numpy as np\n",
    "from datetime import datetime, timedelta\n",
    "folderdirct = '/home/nielsen/Lexie/On-Air/GSN/Data/'"
   ]
  },
  {
   "cell_type": "code",
   "execution_count": 14,
   "metadata": {},
   "outputs": [
    {
     "name": "stderr",
     "output_type": "stream",
     "text": [
      "/usr/local/lib/python2.7/site-packages/pandas/util/_decorators.py:118: FutureWarning: The `sheetname` keyword is deprecated, use `sheet_name` instead\n",
      "  return func(*args, **kwargs)\n"
     ]
    }
   ],
   "source": [
    "df=pd.read_excel(folderdirct+\"Copy of On Air Logs Feb 2018.xlsx\",sheetname=None,skiprows =11)"
   ]
  },
  {
   "cell_type": "code",
   "execution_count": 15,
   "metadata": {},
   "outputs": [
    {
     "data": {
      "text/plain": [
       "[u'Thurs 2.1.18',\n",
       " u'Fri 2.2.18',\n",
       " u'Sat 2.3.18',\n",
       " u'Sun 2.4.18',\n",
       " u'Mon 2.5.18',\n",
       " u'Tues 2.6.18',\n",
       " u'Wed 2.7.18',\n",
       " u'Thurs 2.8.18',\n",
       " u'Fri 2.9.18',\n",
       " u'Sat 2.10.18',\n",
       " u'Sun 2.11.18',\n",
       " u'Mon 2.12.18',\n",
       " u'Tue 2.13.18',\n",
       " u'Wed 2.14.18',\n",
       " u'Thurs 2.15.18',\n",
       " u'Fri 2.16.18',\n",
       " u'Sat 2.17.18',\n",
       " u'Sun 2.18.18',\n",
       " u'Mon 2.19.18',\n",
       " u'Tue 2.20.18',\n",
       " u'Wed 2.21.18',\n",
       " u'Thurs 2.22.18',\n",
       " u'Fri 2.23.18',\n",
       " u'Sat 2.24.18',\n",
       " u'Sun 2.25.18',\n",
       " u'Mon 2.26.18',\n",
       " u'Tue 2.27.18',\n",
       " u'Wed 2.28.18']"
      ]
     },
     "execution_count": 15,
     "metadata": {},
     "output_type": "execute_result"
    }
   ],
   "source": [
    "df.keys()"
   ]
  },
  {
   "cell_type": "code",
   "execution_count": 21,
   "metadata": {},
   "outputs": [
    {
     "data": {
      "text/html": [
       "<div>\n",
       "<style scoped>\n",
       "    .dataframe tbody tr th:only-of-type {\n",
       "        vertical-align: middle;\n",
       "    }\n",
       "\n",
       "    .dataframe tbody tr th {\n",
       "        vertical-align: top;\n",
       "    }\n",
       "\n",
       "    .dataframe thead th {\n",
       "        text-align: right;\n",
       "    }\n",
       "</style>\n",
       "<table border=\"1\" class=\"dataframe\">\n",
       "  <thead>\n",
       "    <tr style=\"text-align: right;\">\n",
       "      <th></th>\n",
       "      <th>Pos</th>\n",
       "      <th>Time</th>\n",
       "      <th>OffSet</th>\n",
       "      <th>House#</th>\n",
       "      <th>Unnamed: 4</th>\n",
       "      <th>Unnamed: 5</th>\n",
       "      <th>Unnamed: 6</th>\n",
       "      <th>(Secs)</th>\n",
       "      <th>Longname</th>\n",
       "      <th>Unnamed: 9</th>\n",
       "      <th>Unnamed: 10</th>\n",
       "      <th>Name</th>\n",
       "      <th>Unnamed: 12</th>\n",
       "      <th>GRPs</th>\n",
       "      <th>Unnamed: 14</th>\n",
       "      <th>Unnamed: 15</th>\n",
       "    </tr>\n",
       "  </thead>\n",
       "  <tbody>\n",
       "    <tr>\n",
       "      <th>0</th>\n",
       "      <td>NaN</td>\n",
       "      <td>NaN</td>\n",
       "      <td>NaN</td>\n",
       "      <td>NaN</td>\n",
       "      <td>NaN</td>\n",
       "      <td>NaN</td>\n",
       "      <td>NaN</td>\n",
       "      <td>NaN</td>\n",
       "      <td>NaN</td>\n",
       "      <td>NaN</td>\n",
       "      <td>NaN</td>\n",
       "      <td>NaN</td>\n",
       "      <td>NaN</td>\n",
       "      <td>NaN</td>\n",
       "      <td>NaN</td>\n",
       "      <td>NaN</td>\n",
       "    </tr>\n",
       "    <tr>\n",
       "      <th>1</th>\n",
       "      <td>Paid Programming</td>\n",
       "      <td>NaN</td>\n",
       "      <td>NaN</td>\n",
       "      <td>NaN</td>\n",
       "      <td>NaN</td>\n",
       "      <td>NaN</td>\n",
       "      <td>NaN</td>\n",
       "      <td>NaN</td>\n",
       "      <td>NaN</td>\n",
       "      <td>NaN</td>\n",
       "      <td>NaN</td>\n",
       "      <td>NaN</td>\n",
       "      <td>NaN</td>\n",
       "      <td>NaN</td>\n",
       "      <td>NaN</td>\n",
       "      <td>NaN</td>\n",
       "    </tr>\n",
       "  </tbody>\n",
       "</table>\n",
       "</div>"
      ],
      "text/plain": [
       "                Pos Time  OffSet  House# Unnamed: 4 Unnamed: 5 Unnamed: 6  \\\n",
       "0               NaN  NaN     NaN     NaN        NaN        NaN        NaN   \n",
       "1  Paid Programming  NaN     NaN     NaN        NaN        NaN        NaN   \n",
       "\n",
       "  (Secs) Longname  Unnamed: 9 Unnamed: 10  Name Unnamed: 12 GRPs Unnamed: 14  \\\n",
       "0    NaN      NaN         NaN         NaN   NaN         NaN  NaN         NaN   \n",
       "1    NaN      NaN         NaN         NaN   NaN         NaN  NaN         NaN   \n",
       "\n",
       "  Unnamed: 15  \n",
       "0         NaN  \n",
       "1         NaN  "
      ]
     },
     "execution_count": 21,
     "metadata": {},
     "output_type": "execute_result"
    }
   ],
   "source": [
    "test=df[df.keys()[0]]\n",
    "test.head(2)"
   ]
  },
  {
   "cell_type": "code",
   "execution_count": 32,
   "metadata": {},
   "outputs": [
    {
     "name": "stderr",
     "output_type": "stream",
     "text": [
      "/usr/local/lib/python2.7/site-packages/ipykernel_launcher.py:6: SettingWithCopyWarning: \n",
      "A value is trying to be set on a copy of a slice from a DataFrame.\n",
      "Try using .loc[row_indexer,col_indexer] = value instead\n",
      "\n",
      "See the caveats in the documentation: http://pandas.pydata.org/pandas-docs/stable/indexing.html#indexing-view-versus-copy\n",
      "  \n"
     ]
    }
   ],
   "source": [
    "test=df[df.keys()[0]]\n",
    "test.head(2)\n",
    "test=test.dropna(how=\"all\")\n",
    "test.head()\n",
    "test.columns=['Pos','Time','OffSet','House#','Time_JL','Col5','Col6','Secs','Longname','Col8','Col9','Name','Col12','GRPS','Col14(Type)','Col15']\n",
    "test['Pos']=test['Pos'].astype(str)\n",
    "Program_df=test[test['Pos'].apply(lambda x: len(x))>3]\n",
    "Program_df_list=Program_df.index.values.tolist()"
   ]
  },
  {
   "cell_type": "code",
   "execution_count": 68,
   "metadata": {},
   "outputs": [
    {
     "name": "stderr",
     "output_type": "stream",
     "text": [
      "/usr/local/lib/python2.7/site-packages/ipykernel_launcher.py:6: SettingWithCopyWarning: \n",
      "A value is trying to be set on a copy of a slice from a DataFrame.\n",
      "Try using .loc[row_indexer,col_indexer] = value instead\n",
      "\n",
      "See the caveats in the documentation: http://pandas.pydata.org/pandas-docs/stable/indexing.html#indexing-view-versus-copy\n",
      "  \n"
     ]
    }
   ],
   "source": [
    "agg_df=pd.DataFrame()\n",
    "for i in range(len(Program_df_list)-1):\n",
    "    df=test.iloc[(Program_df_list[i]-1):(Program_df_list[i+1]-1),:]\n",
    "    df.reset_index(inplace=True)\n",
    "    del df['index']\n",
    "    df['Pos']=df['Pos'][0]\n",
    "    df=df[~pd.isnull(df['Time_JL'])]\n",
    "    agg_df=agg_df.append(df)\n",
    "df_last=test.iloc[Program_df_list[len(Program_df_list)-1]-1:,:] # can be agged into a If \n",
    "df_last=df_last[df_last['Pos']!='nan']\n",
    "df_last.reset_index(inplace=True)\n",
    "del df_last['index']\n",
    "df_last['Pos']=df_last['Pos'][0]\n",
    "df_last=df_last[~pd.isnull(df_last['Time_JL'])]\n",
    "df_last.head()\n",
    "agg_df=agg_df.append(df_last)\n",
    "agg_df=agg_df[['Pos','Time','OffSet','House#','Time_JL','Col5','Col6','Secs','Longname','Col8','Col9','Name','Col12','GRPS','Col14(Type)','Col15']]"
   ]
  },
  {
   "cell_type": "code",
   "execution_count": 69,
   "metadata": {},
   "outputs": [],
   "source": [
    "agg_df.to_csv(folderdirct +'test.csv')"
   ]
  },
  {
   "cell_type": "code",
   "execution_count": 70,
   "metadata": {},
   "outputs": [
    {
     "data": {
      "text/html": [
       "<div>\n",
       "<style scoped>\n",
       "    .dataframe tbody tr th:only-of-type {\n",
       "        vertical-align: middle;\n",
       "    }\n",
       "\n",
       "    .dataframe tbody tr th {\n",
       "        vertical-align: top;\n",
       "    }\n",
       "\n",
       "    .dataframe thead th {\n",
       "        text-align: right;\n",
       "    }\n",
       "</style>\n",
       "<table border=\"1\" class=\"dataframe\">\n",
       "  <thead>\n",
       "    <tr style=\"text-align: right;\">\n",
       "      <th></th>\n",
       "      <th>Pos</th>\n",
       "      <th>Time</th>\n",
       "      <th>OffSet</th>\n",
       "      <th>House#</th>\n",
       "      <th>Time_JL</th>\n",
       "      <th>Col5</th>\n",
       "      <th>Col6</th>\n",
       "      <th>Secs</th>\n",
       "      <th>Longname</th>\n",
       "      <th>Col8</th>\n",
       "      <th>Col9</th>\n",
       "      <th>Name</th>\n",
       "      <th>Col12</th>\n",
       "      <th>GRPS</th>\n",
       "      <th>Col14(Type)</th>\n",
       "      <th>Col15</th>\n",
       "    </tr>\n",
       "  </thead>\n",
       "  <tbody>\n",
       "    <tr>\n",
       "      <th>1</th>\n",
       "      <td>Paid Programming</td>\n",
       "      <td>NaN</td>\n",
       "      <td>3.0</td>\n",
       "      <td>NaN</td>\n",
       "      <td>05:28:35AM</td>\n",
       "      <td>NaN</td>\n",
       "      <td>T8240</td>\n",
       "      <td>30</td>\n",
       "      <td>CCB Stay (Jan) Evry  Nigh @ 11p</td>\n",
       "      <td>NaN</td>\n",
       "      <td>NaN</td>\n",
       "      <td>0.01</td>\n",
       "      <td>Person 25-54</td>\n",
       "      <td>0.01</td>\n",
       "      <td>O</td>\n",
       "      <td>G</td>\n",
       "    </tr>\n",
       "    <tr>\n",
       "      <th>2</th>\n",
       "      <td>Paid Programming</td>\n",
       "      <td>NaN</td>\n",
       "      <td>3.0</td>\n",
       "      <td>NaN</td>\n",
       "      <td>05:28:35AM</td>\n",
       "      <td>NaN</td>\n",
       "      <td>T8187</td>\n",
       "      <td>30</td>\n",
       "      <td>GSN January Answer Image :30</td>\n",
       "      <td>NaN</td>\n",
       "      <td>NaN</td>\n",
       "      <td>0.01</td>\n",
       "      <td>Person 25-54</td>\n",
       "      <td>0.01</td>\n",
       "      <td>O</td>\n",
       "      <td>G</td>\n",
       "    </tr>\n",
       "    <tr>\n",
       "      <th>3</th>\n",
       "      <td>Paid Programming</td>\n",
       "      <td>NaN</td>\n",
       "      <td>3.0</td>\n",
       "      <td>NaN</td>\n",
       "      <td>05:28:35AM</td>\n",
       "      <td>NaN</td>\n",
       "      <td>T8145</td>\n",
       "      <td>20</td>\n",
       "      <td>MLN (Jan) Mill Evry Wknt 10p</td>\n",
       "      <td>NaN</td>\n",
       "      <td>NaN</td>\n",
       "      <td>0.01</td>\n",
       "      <td>Person 25-54</td>\n",
       "      <td>0.01</td>\n",
       "      <td>O</td>\n",
       "      <td>G</td>\n",
       "    </tr>\n",
       "  </tbody>\n",
       "</table>\n",
       "</div>"
      ],
      "text/plain": [
       "                Pos Time  OffSet  House#     Time_JL Col5  \\\n",
       "1  Paid Programming  NaN     3.0     NaN  05:28:35AM  NaN   \n",
       "2  Paid Programming  NaN     3.0     NaN  05:28:35AM  NaN   \n",
       "3  Paid Programming  NaN     3.0     NaN  05:28:35AM  NaN   \n",
       "\n",
       "                               Col6 Secs                         Longname  \\\n",
       "1  T8240                              30  CCB Stay (Jan) Evry  Nigh @ 11p   \n",
       "2  T8187                              30     GSN January Answer Image :30   \n",
       "3  T8145                              20     MLN (Jan) Mill Evry Wknt 10p   \n",
       "\n",
       "   Col8 Col9  Name            Col12  GRPS Col14(Type) Col15  \n",
       "1   NaN  NaN  0.01  Person 25-54     0.01           O     G  \n",
       "2   NaN  NaN  0.01  Person 25-54     0.01           O     G  \n",
       "3   NaN  NaN  0.01  Person 25-54     0.01           O     G  "
      ]
     },
     "execution_count": 70,
     "metadata": {},
     "output_type": "execute_result"
    }
   ],
   "source": [
    "df"
   ]
  },
  {
   "cell_type": "code",
   "execution_count": null,
   "metadata": {},
   "outputs": [],
   "source": []
  }
 ],
 "metadata": {
  "kernelspec": {
   "display_name": "Python 2",
   "language": "python",
   "name": "python2"
  },
  "language_info": {
   "codemirror_mode": {
    "name": "ipython",
    "version": 2
   },
   "file_extension": ".py",
   "mimetype": "text/x-python",
   "name": "python",
   "nbconvert_exporter": "python",
   "pygments_lexer": "ipython2",
   "version": "2.7.11"
  }
 },
 "nbformat": 4,
 "nbformat_minor": 2
}
