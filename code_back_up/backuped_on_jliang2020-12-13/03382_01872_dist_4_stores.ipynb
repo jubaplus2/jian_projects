{
 "cells": [
  {
   "cell_type": "code",
   "execution_count": 1,
   "metadata": {},
   "outputs": [
    {
     "data": {
      "text/plain": [
       "'/home/jian/Projects/C21/Calculate_Dist_Joann_0318'"
      ]
     },
     "execution_count": 1,
     "metadata": {},
     "output_type": "execute_result"
    }
   ],
   "source": [
    "import pandas as pd\n",
    "import paramiko\n",
    "import datetime\n",
    "import os\n",
    "from haversine import haversine\n",
    "import numpy as np\n",
    "import json\n",
    "\n",
    "zip_centers=json.load(open(\"/home/jian/Docs/Geo_mapping/center_of_rentrak_zip.json\",\"r\"))\n",
    "os.getcwd()"
   ]
  },
  {
   "cell_type": "code",
   "execution_count": 2,
   "metadata": {},
   "outputs": [
    {
     "data": {
      "text/plain": [
       "(4201416, 10)"
      ]
     },
     "execution_count": 2,
     "metadata": {},
     "output_type": "execute_result"
    }
   ],
   "source": [
    "df=pd.read_table(\"/home/jian/Projects/C21/Calculate_Dist_Joann_0318/Customer_ID_Master_File_03042019.txt.xz\",\n",
    "                 compression=\"xz\",sep=\"|\",dtype=str)\n",
    "df.shape"
   ]
  },
  {
   "cell_type": "code",
   "execution_count": 3,
   "metadata": {
    "collapsed": true
   },
   "outputs": [],
   "source": [
    "df_4_stores=pd.DataFrame()\n",
    "df_4_stores=df_4_stores.append(pd.DataFrame({\"Store_Name\":\"DOWNTOWN\",\"Google_Address\":\"22 Cortlandt St, New York, NY 10007\",\"Googel_Coor\":[[40.7104649,-74.0107144]]}))\n",
    "df_4_stores=df_4_stores.append(pd.DataFrame({\"Store_Name\":\"REGO_PARK\",\"Google_Address\":\"61-35 Junction Blvd, Rego Park, NY 11374\",\"Googel_Coor\":[[40.7332205,-73.8631858]]}))\n",
    "df_4_stores=df_4_stores.append(pd.DataFrame({\"Store_Name\":\"CROSS_COUNTY\",\"Google_Address\":\"750 Central Park Ave, Yonkers, NY 10704\",\"Googel_Coor\":[[40.9262461,-73.8553119]]}))\n",
    "df_4_stores=df_4_stores.append(pd.DataFrame({\"Store_Name\":\"PARAMUS\",\"Google_Address\":\"200 Bergen Town Center, Paramus, NJ 07652\",\"Googel_Coor\":[[40.9150771,-74.0579318]]}))\n",
    "'''\n",
    "df_4_stores=df_4_stores.append(pd.DataFrame({\"Store_Name\":\"PARAMUS\",\"Google_Address\":\"200 Bergen Town Center, Paramus, NJ 07652\",\"Googel_Coor\":[[40.9150771,-74.0579318]]}))\n",
    "df_4_stores=df_4_stores.append(pd.DataFrame({\"Store_Name\":\"PARAMUS\",\"Google_Address\":\"200 Bergen Town Center, Paramus, NJ 07652\",\"Googel_Coor\":[[40.9150771,-74.0579318]]}))\n",
    "df_4_stores=df_4_stores.append(pd.DataFrame({\"Store_Name\":\"PARAMUS\",\"Google_Address\":\"200 Bergen Town Center, Paramus, NJ 07652\",\"Googel_Coor\":[[40.9150771,-74.0579318]]}))\n",
    "df_4_stores=df_4_stores.append(pd.DataFrame({\"Store_Name\":\"PARAMUS\",\"Google_Address\":\"200 Bergen Town Center, Paramus, NJ 07652\",\"Googel_Coor\":[[40.9150771,-74.0579318]]}))\n",
    "df_4_stores=df_4_stores.append(pd.DataFrame({\"Store_Name\":\"PARAMUS\",\"Google_Address\":\"200 Bergen Town Center, Paramus, NJ 07652\",\"Googel_Coor\":[[40.9150771,-74.0579318]]}))\n",
    "df_4_stores=df_4_stores.append(pd.DataFrame({\"Store_Name\":\"PARAMUS\",\"Google_Address\":\"200 Bergen Town Center, Paramus, NJ 07652\",\"Googel_Coor\":[[40.9150771,-74.0579318]]}))\n",
    "'''\n",
    "\n",
    "df_4_stores=df_4_stores.reset_index()\n",
    "del df_4_stores['index']"
   ]
  },
  {
   "cell_type": "code",
   "execution_count": 4,
   "metadata": {},
   "outputs": [
    {
     "name": "stdout",
     "output_type": "stream",
     "text": [
      "(3492554, 1)\n"
     ]
    }
   ],
   "source": [
    "df_customer_zips=df[['Customer_zip_code']]\n",
    "df_customer_zips=df_customer_zips[~pd.isnull(df_customer_zips['Customer_zip_code'])]\n",
    "print(df_customer_zips.shape)\n",
    "df_customer_zips['Cleaned_zip_cd']=df_customer_zips['Customer_zip_code'].apply(lambda x: x.split(\"-\")[0].split(\" \")[0])\n",
    "df_customer_zips['Cleaned_zip_cd']=df_customer_zips['Cleaned_zip_cd'].apply(lambda x: x.zfill(5)[:5])\n",
    "# df_unique_zip=df_unique_zip.drop_duplicates()\n",
    "\n"
   ]
  },
  {
   "cell_type": "code",
   "execution_count": 5,
   "metadata": {},
   "outputs": [
    {
     "data": {
      "text/plain": [
       "(3484115, 7)"
      ]
     },
     "execution_count": 5,
     "metadata": {},
     "output_type": "execute_result"
    }
   ],
   "source": [
    "df_customer_zips['digital_1']=df_customer_zips['Cleaned_zip_cd'].apply(lambda x: x[0])\n",
    "df_customer_zips['digital_2']=df_customer_zips['Cleaned_zip_cd'].apply(lambda x: x[1])\n",
    "df_customer_zips['digital_3']=df_customer_zips['Cleaned_zip_cd'].apply(lambda x: x[2])\n",
    "df_customer_zips['digital_4']=df_customer_zips['Cleaned_zip_cd'].apply(lambda x: x[3])\n",
    "df_customer_zips['digital_5']=df_customer_zips['Cleaned_zip_cd'].apply(lambda x: x[4])\n",
    "\n",
    "numb_0_9=[str(x) for x in range(10)]\n",
    "\n",
    "df_customer_zips[(df_customer_zips['digital_1'].isin(numb_0_9)) &\\\n",
    "              (df_customer_zips['digital_2'].isin(numb_0_9)) &\\\n",
    "             (df_customer_zips['digital_3'].isin(numb_0_9)) &\\\n",
    "             (df_customer_zips['digital_4'].isin(numb_0_9)) &\\\n",
    "             (df_customer_zips['digital_5'].isin(numb_0_9))].shape"
   ]
  },
  {
   "cell_type": "code",
   "execution_count": 6,
   "metadata": {
    "collapsed": true
   },
   "outputs": [],
   "source": [
    "df_unique_zips=df_customer_zips[['Cleaned_zip_cd']].drop_duplicates()\n",
    "\n",
    "for index, row in df_4_stores.iterrows():\n",
    "    store_name=row['Store_Name']\n",
    "    store_coor=row['Googel_Coor']\n",
    "    df_unique_zips[store_name+\"_Google_Location\"]=str(store_coor)\n",
    "    df_unique_zips[store_name+\"_Distance_Miles\"]=np.nan"
   ]
  },
  {
   "cell_type": "code",
   "execution_count": 7,
   "metadata": {
    "collapsed": true
   },
   "outputs": [],
   "source": [
    "for index, row in df_unique_zips.iterrows():\n",
    "    customer_zip=row['Cleaned_zip_cd']\n",
    "    if customer_zip in zip_centers.keys():\n",
    "        df_unique_zips.loc[index,\"DOWNTOWN_Distance_Miles\"]=haversine(zip_centers[customer_zip],[40.7104649,-74.0107144],miles=True)\n",
    "        df_unique_zips.loc[index,\"REGO_PARK_Distance_Miles\"]=haversine(zip_centers[customer_zip],[40.7332205, -73.8631858],miles=True)\n",
    "        df_unique_zips.loc[index,\"CROSS_COUNTY_Distance_Miles\"]=haversine(zip_centers[customer_zip],[40.9262461, -73.8553119],miles=True)\n",
    "        df_unique_zips.loc[index,\"PARAMUS_Distance_Miles\"]=haversine(zip_centers[customer_zip],[40.9150771, -74.0579318],miles=True)\n",
    "    "
   ]
  },
  {
   "cell_type": "code",
   "execution_count": 8,
   "metadata": {
    "collapsed": true
   },
   "outputs": [],
   "source": [
    "df_customer_zips=df_customer_zips[['Customer_zip_code','Cleaned_zip_cd']].drop_duplicates()\n",
    "df_customer_zips=pd.merge(df_customer_zips,df_unique_zips,on=\"Cleaned_zip_cd\",how=\"left\")"
   ]
  },
  {
   "cell_type": "code",
   "execution_count": 9,
   "metadata": {
    "collapsed": true
   },
   "outputs": [],
   "source": [
    "output=pd.merge(df,df_customer_zips,on=\"Customer_zip_code\",how=\"left\")"
   ]
  },
  {
   "cell_type": "code",
   "execution_count": 10,
   "metadata": {},
   "outputs": [
    {
     "data": {
      "text/plain": [
       "\"\\ndel output['Cleaned_zip_cd']\\ndel output['DOWNTOWN_Google_Location']\\ndel output['REGO_PARK_Google_Location']\\ndel output['CROSS_COUNTY_Google_Location']\\ndel output['PARAMUS_Google_Location']\\n\""
      ]
     },
     "execution_count": 10,
     "metadata": {},
     "output_type": "execute_result"
    }
   ],
   "source": [
    "'''\n",
    "del output['Cleaned_zip_cd']\n",
    "del output['DOWNTOWN_Google_Location']\n",
    "del output['REGO_PARK_Google_Location']\n",
    "del output['CROSS_COUNTY_Google_Location']\n",
    "del output['PARAMUS_Google_Location']\n",
    "'''"
   ]
  },
  {
   "cell_type": "code",
   "execution_count": 11,
   "metadata": {},
   "outputs": [
    {
     "data": {
      "text/plain": [
       "(4201416, 19)"
      ]
     },
     "execution_count": 11,
     "metadata": {},
     "output_type": "execute_result"
    }
   ],
   "source": [
    "output.shape"
   ]
  },
  {
   "cell_type": "code",
   "execution_count": 12,
   "metadata": {},
   "outputs": [
    {
     "data": {
      "text/plain": [
       "(965364, 19)"
      ]
     },
     "execution_count": 12,
     "metadata": {},
     "output_type": "execute_result"
    }
   ],
   "source": [
    "output[pd.isnull(output['PARAMUS_Distance_Miles'])].shape"
   ]
  },
  {
   "cell_type": "code",
   "execution_count": 13,
   "metadata": {
    "collapsed": true
   },
   "outputs": [],
   "source": [
    "output.to_csv(\"/home/jian/Projects/C21/Calculate_Dist_Joann_0318/Customer_ID_Master_File_03042019_with_dist_JL_20180401_with_extra_cols.txt.xz\",\n",
    "             sep=\"|\",compression=\"xz\")"
   ]
  },
  {
   "cell_type": "code",
   "execution_count": null,
   "metadata": {
    "collapsed": true
   },
   "outputs": [],
   "source": []
  },
  {
   "cell_type": "code",
   "execution_count": 7,
   "metadata": {},
   "outputs": [
    {
     "data": {
      "text/html": [
       "<div>\n",
       "<style>\n",
       "    .dataframe thead tr:only-child th {\n",
       "        text-align: right;\n",
       "    }\n",
       "\n",
       "    .dataframe thead th {\n",
       "        text-align: left;\n",
       "    }\n",
       "\n",
       "    .dataframe tbody tr th {\n",
       "        vertical-align: top;\n",
       "    }\n",
       "</style>\n",
       "<table border=\"1\" class=\"dataframe\">\n",
       "  <thead>\n",
       "    <tr style=\"text-align: right;\">\n",
       "      <th></th>\n",
       "      <th>Unnamed: 0</th>\n",
       "      <th>Customer_id</th>\n",
       "      <th>Email_address_hash</th>\n",
       "      <th>Sign_up_date</th>\n",
       "      <th>Sign_up_channel</th>\n",
       "      <th>Customer_zip_code</th>\n",
       "      <th>Purchase_channel</th>\n",
       "      <th>Email_unsubscribe_indicator</th>\n",
       "      <th>Email_undeliverable_indicator</th>\n",
       "      <th>Transaction_count_to_date</th>\n",
       "      <th>Transaction_amount_to_\n",
       "date</th>\n",
       "      <th>DOWNTOWN_Distance_Miles</th>\n",
       "      <th>REGO_PARK_Distance_Miles</th>\n",
       "      <th>CROSS_COUNTY_Distance_Miles</th>\n",
       "      <th>PARAMUS_Distance_Miles</th>\n",
       "    </tr>\n",
       "  </thead>\n",
       "  <tbody>\n",
       "    <tr>\n",
       "      <th>0</th>\n",
       "      <td>0</td>\n",
       "      <td>3083952</td>\n",
       "      <td>9fea52f236a80bb4305a911da039d7cbe7c6433f97387e...</td>\n",
       "      <td>09-DEC-12</td>\n",
       "      <td>POS</td>\n",
       "      <td>07057</td>\n",
       "      <td>STORE</td>\n",
       "      <td>N</td>\n",
       "      <td>Valid</td>\n",
       "      <td>244</td>\n",
       "      <td>16606.27                                      ...</td>\n",
       "      <td>11.214633284766451</td>\n",
       "      <td>15.284176505391745</td>\n",
       "      <td>13.999744547091291</td>\n",
       "      <td>4.827852460047667</td>\n",
       "    </tr>\n",
       "    <tr>\n",
       "      <th>1</th>\n",
       "      <td>1</td>\n",
       "      <td>8733785</td>\n",
       "      <td>7ca5f57523b5f7d38409493a6b06adf11c654c6deb5d3f...</td>\n",
       "      <td>11-SEP-14</td>\n",
       "      <td>POS</td>\n",
       "      <td>07960</td>\n",
       "      <td>STORE</td>\n",
       "      <td>N</td>\n",
       "      <td>Valid</td>\n",
       "      <td>64</td>\n",
       "      <td>3417.27                                       ...</td>\n",
       "      <td>25.407028819269403</td>\n",
       "      <td>32.69201383368275</td>\n",
       "      <td>33.8952595373588</td>\n",
       "      <td>23.555941204272102</td>\n",
       "    </tr>\n",
       "  </tbody>\n",
       "</table>\n",
       "</div>"
      ],
      "text/plain": [
       "  Unnamed: 0 Customer_id                                 Email_address_hash  \\\n",
       "0          0     3083952  9fea52f236a80bb4305a911da039d7cbe7c6433f97387e...   \n",
       "1          1     8733785  7ca5f57523b5f7d38409493a6b06adf11c654c6deb5d3f...   \n",
       "\n",
       "  Sign_up_date Sign_up_channel Customer_zip_code Purchase_channel  \\\n",
       "0    09-DEC-12             POS             07057            STORE   \n",
       "1    11-SEP-14             POS             07960            STORE   \n",
       "\n",
       "  Email_unsubscribe_indicator Email_undeliverable_indicator  \\\n",
       "0                           N                         Valid   \n",
       "1                           N                         Valid   \n",
       "\n",
       "  Transaction_count_to_date  \\\n",
       "0                       244   \n",
       "1                        64   \n",
       "\n",
       "  Transaction_amount_to_\\ndate                                                                                                                                                                                                                         \\\n",
       "0  16606.27                                      ...                                                                                                                                                                                                    \n",
       "1  3417.27                                       ...                                                                                                                                                                                                    \n",
       "\n",
       "  DOWNTOWN_Distance_Miles REGO_PARK_Distance_Miles  \\\n",
       "0      11.214633284766451       15.284176505391745   \n",
       "1      25.407028819269403        32.69201383368275   \n",
       "\n",
       "  CROSS_COUNTY_Distance_Miles PARAMUS_Distance_Miles  \n",
       "0          13.999744547091291      4.827852460047667  \n",
       "1            33.8952595373588     23.555941204272102  "
      ]
     },
     "execution_count": 7,
     "metadata": {},
     "output_type": "execute_result"
    }
   ],
   "source": [
    "read_output=pd.read_table(\"/home/jian/Projects/C21/Calculate_Dist_Joann_0318/Customer_ID_Master_File_03042019_with_dist_JL_20180321.txt.xz\",\n",
    "             sep=\"|\",compression=\"xz\",dtype=str)\n"
   ]
  },
  {
   "cell_type": "code",
   "execution_count": 8,
   "metadata": {},
   "outputs": [
    {
     "data": {
      "text/plain": [
       "(4201416, 15)"
      ]
     },
     "execution_count": 8,
     "metadata": {},
     "output_type": "execute_result"
    }
   ],
   "source": [
    "read_output.shape"
   ]
  },
  {
   "cell_type": "code",
   "execution_count": 6,
   "metadata": {},
   "outputs": [
    {
     "data": {
      "text/html": [
       "<div>\n",
       "<style>\n",
       "    .dataframe thead tr:only-child th {\n",
       "        text-align: right;\n",
       "    }\n",
       "\n",
       "    .dataframe thead th {\n",
       "        text-align: left;\n",
       "    }\n",
       "\n",
       "    .dataframe tbody tr th {\n",
       "        vertical-align: top;\n",
       "    }\n",
       "</style>\n",
       "<table border=\"1\" class=\"dataframe\">\n",
       "  <thead>\n",
       "    <tr style=\"text-align: right;\">\n",
       "      <th></th>\n",
       "      <th>Unnamed: 0</th>\n",
       "      <th>Customer_id</th>\n",
       "      <th>Email_address_hash</th>\n",
       "      <th>Sign_up_date</th>\n",
       "      <th>Sign_up_channel</th>\n",
       "      <th>Customer_zip_code</th>\n",
       "      <th>Purchase_channel</th>\n",
       "      <th>Email_unsubscribe_indicator</th>\n",
       "      <th>Email_undeliverable_indicator</th>\n",
       "      <th>Transaction_count_to_date</th>\n",
       "      <th>Transaction_amount_to_\n",
       "date</th>\n",
       "      <th>DOWNTOWN_Distance_Miles</th>\n",
       "      <th>REGO_PARK_Distance_Miles</th>\n",
       "      <th>CROSS_COUNTY_Distance_Miles</th>\n",
       "      <th>PARAMUS_Distance_Miles</th>\n",
       "    </tr>\n",
       "  </thead>\n",
       "  <tbody>\n",
       "    <tr>\n",
       "      <th>1039145</th>\n",
       "      <td>1039145</td>\n",
       "      <td>15642619</td>\n",
       "      <td>724c440ec9c49b8843d352c4faf1f9daad86a1236cb023...</td>\n",
       "      <td>21-NOV-17</td>\n",
       "      <td>Weblinc</td>\n",
       "      <td>11237</td>\n",
       "      <td>ONLINE</td>\n",
       "      <td>N</td>\n",
       "      <td>Valid</td>\n",
       "      <td>1</td>\n",
       "      <td>135.94                                        ...</td>\n",
       "      <td>4.851576775227861</td>\n",
       "      <td>3.632266095876557</td>\n",
       "      <td>15.85901222377715</td>\n",
       "      <td>16.434567773349762</td>\n",
       "    </tr>\n",
       "    <tr>\n",
       "      <th>3892943</th>\n",
       "      <td>3892943</td>\n",
       "      <td>15877663</td>\n",
       "      <td>724c440ec9c49b8843d352c4faf1f9daad86a1236cb023...</td>\n",
       "      <td>23-DEC-17</td>\n",
       "      <td>POS</td>\n",
       "      <td>96821</td>\n",
       "      <td>STORE</td>\n",
       "      <td>Y</td>\n",
       "      <td>Valid</td>\n",
       "      <td>1</td>\n",
       "      <td>-57.97                                        ...</td>\n",
       "      <td>4954.845777709682</td>\n",
       "      <td>4962.0334930217405</td>\n",
       "      <td>4959.488441958884</td>\n",
       "      <td>4949.33722729779</td>\n",
       "    </tr>\n",
       "    <tr>\n",
       "      <th>4123938</th>\n",
       "      <td>4123938</td>\n",
       "      <td>15369160</td>\n",
       "      <td>724c440ec9c49b8843d352c4faf1f9daad86a1236cb023...</td>\n",
       "      <td>09-OCT-17</td>\n",
       "      <td>ereceipt</td>\n",
       "      <td>NaN</td>\n",
       "      <td>STORE</td>\n",
       "      <td>Y</td>\n",
       "      <td>Valid</td>\n",
       "      <td>1</td>\n",
       "      <td>12.99                                         ...</td>\n",
       "      <td>NaN</td>\n",
       "      <td>NaN</td>\n",
       "      <td>NaN</td>\n",
       "      <td>NaN</td>\n",
       "    </tr>\n",
       "  </tbody>\n",
       "</table>\n",
       "</div>"
      ],
      "text/plain": [
       "        Unnamed: 0 Customer_id  \\\n",
       "1039145    1039145    15642619   \n",
       "3892943    3892943    15877663   \n",
       "4123938    4123938    15369160   \n",
       "\n",
       "                                        Email_address_hash Sign_up_date  \\\n",
       "1039145  724c440ec9c49b8843d352c4faf1f9daad86a1236cb023...    21-NOV-17   \n",
       "3892943  724c440ec9c49b8843d352c4faf1f9daad86a1236cb023...    23-DEC-17   \n",
       "4123938  724c440ec9c49b8843d352c4faf1f9daad86a1236cb023...    09-OCT-17   \n",
       "\n",
       "        Sign_up_channel Customer_zip_code Purchase_channel  \\\n",
       "1039145         Weblinc             11237           ONLINE   \n",
       "3892943             POS             96821            STORE   \n",
       "4123938        ereceipt               NaN            STORE   \n",
       "\n",
       "        Email_unsubscribe_indicator Email_undeliverable_indicator  \\\n",
       "1039145                           N                         Valid   \n",
       "3892943                           Y                         Valid   \n",
       "4123938                           Y                         Valid   \n",
       "\n",
       "        Transaction_count_to_date  \\\n",
       "1039145                         1   \n",
       "3892943                         1   \n",
       "4123938                         1   \n",
       "\n",
       "        Transaction_amount_to_\\ndate                                                                                                                                                                                                                         \\\n",
       "1039145  135.94                                        ...                                                                                                                                                                                                    \n",
       "3892943  -57.97                                        ...                                                                                                                                                                                                    \n",
       "4123938  12.99                                         ...                                                                                                                                                                                                    \n",
       "\n",
       "        DOWNTOWN_Distance_Miles REGO_PARK_Distance_Miles  \\\n",
       "1039145       4.851576775227861        3.632266095876557   \n",
       "3892943       4954.845777709682       4962.0334930217405   \n",
       "4123938                     NaN                      NaN   \n",
       "\n",
       "        CROSS_COUNTY_Distance_Miles PARAMUS_Distance_Miles  \n",
       "1039145           15.85901222377715     16.434567773349762  \n",
       "3892943           4959.488441958884       4949.33722729779  \n",
       "4123938                         NaN                    NaN  "
      ]
     },
     "execution_count": 6,
     "metadata": {},
     "output_type": "execute_result"
    }
   ],
   "source": [
    "read_output[read_output['Email_address_hash']==\"724c440ec9c49b8843d352c4faf1f9daad86a1236cb023d2b9f85b66b8e72a37\"]\n",
    "\n"
   ]
  },
  {
   "cell_type": "code",
   "execution_count": null,
   "metadata": {
    "collapsed": true
   },
   "outputs": [],
   "source": [
    "test=read_output[pd.isnull(read_output[''])]"
   ]
  },
  {
   "cell_type": "code",
   "execution_count": 9,
   "metadata": {
    "collapsed": true
   },
   "outputs": [],
   "source": [
    "read_output=pd.read_table(\"/home/jian/Projects/C21/Calculate_Dist_Joann_0318/Customer_ID_Master_File_03042019_with_dist_JL_20180401_with_extra_cols.txt.xz\",\n",
    "             sep=\"|\",compression=\"xz\",dtype=str)\n",
    "\n",
    "zip_mapping=read_output[['Customer_zip_code','Cleaned_zip_cd']].drop_duplicates()\n",
    "zip_mapping.to_csv(\"/home/jian/Projects/C21/Calculate_Dist_Joann_0318/Customer_ID_Master_File_unique_zips_mapping.txt\",index=False,sep=\"|\")"
   ]
  },
  {
   "cell_type": "code",
   "execution_count": 6,
   "metadata": {},
   "outputs": [
    {
     "data": {
      "text/plain": [
       "(4201416, 20)"
      ]
     },
     "execution_count": 6,
     "metadata": {},
     "output_type": "execute_result"
    }
   ],
   "source": [
    "read_output.shape"
   ]
  },
  {
   "cell_type": "code",
   "execution_count": 7,
   "metadata": {},
   "outputs": [
    {
     "data": {
      "text/plain": [
       "3830332"
      ]
     },
     "execution_count": 7,
     "metadata": {},
     "output_type": "execute_result"
    }
   ],
   "source": [
    "len(read_output['Email_address_hash'].unique())"
   ]
  },
  {
   "cell_type": "code",
   "execution_count": 8,
   "metadata": {},
   "outputs": [
    {
     "data": {
      "text/plain": [
       "3978957"
      ]
     },
     "execution_count": 8,
     "metadata": {},
     "output_type": "execute_result"
    }
   ],
   "source": [
    "len(read_output['Customer_id'].unique())"
   ]
  },
  {
   "cell_type": "code",
   "execution_count": null,
   "metadata": {
    "collapsed": true
   },
   "outputs": [],
   "source": []
  }
 ],
 "metadata": {
  "kernelspec": {
   "display_name": "Python 3",
   "language": "python",
   "name": "python3"
  },
  "language_info": {
   "codemirror_mode": {
    "name": "ipython",
    "version": 3
   },
   "file_extension": ".py",
   "mimetype": "text/x-python",
   "name": "python",
   "nbconvert_exporter": "python",
   "pygments_lexer": "ipython3",
   "version": "3.6.1"
  }
 },
 "nbformat": 4,
 "nbformat_minor": 2
}
