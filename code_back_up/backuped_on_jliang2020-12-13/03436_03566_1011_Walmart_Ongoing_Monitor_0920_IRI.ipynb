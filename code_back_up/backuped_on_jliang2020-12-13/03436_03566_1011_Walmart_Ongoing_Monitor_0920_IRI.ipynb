{
 "cells": [
  {
   "cell_type": "code",
   "execution_count": 1,
   "metadata": {
    "collapsed": true
   },
   "outputs": [],
   "source": [
    "import pandas as pd\n",
    "import datetime\n",
    "import os\n",
    "weeklist=['27','28','29','30','31','32','33']"
   ]
  },
  {
   "cell_type": "code",
   "execution_count": 2,
   "metadata": {
    "collapsed": true
   },
   "outputs": [],
   "source": [
    "data_2017=pd.read_excel(\"/home/jian/SunnyD/On_Going_WM_KG/Walmart/data/WM D90 Tangy 128oz - FY 2017.xlsx\",dtype=str,skiprows=27)\n",
    "weekly_sales_cols=[]\n",
    "for week in weeklist:\n",
    "    col=\"2017\"+week+\" Weekly COMP Store Sales\"\n",
    "    weekly_sales_cols=weekly_sales_cols+[col]\n",
    "data_2017=data_2017[['Store Nbr','City','State','Zip Code','Prime Item Nbr','Item Desc 1','Size Desc']+weekly_sales_cols]\n",
    "for col in weekly_sales_cols:\n",
    "    data_2017[col]=data_2017[col].astype(float)\n",
    "    data_2017=data_2017.rename(columns={col:col[:6]+\"_sales\"})\n",
    "data_2017_long=pd.melt(data_2017, id_vars=['Store Nbr','City','State','Zip Code','Prime Item Nbr','Item Desc 1','Size Desc'], \n",
    "                       value_vars=['201727_sales','201728_sales','201729_sales','201730_sales','201731_sales','201732_sales','201733_sales'])\n"
   ]
  },
  {
   "cell_type": "code",
   "execution_count": 3,
   "metadata": {
    "collapsed": true
   },
   "outputs": [],
   "source": [
    "data_2018_pre=pd.read_excel(\"/home/jian/SunnyD/On_Going_WM_KG/Walmart/data/WM D90 Tangy 128oz - FY 2018 w.e. Aug 10.xlsx\",dtype=str,skiprows=22)\n",
    "weekly_sales_cols=[]\n",
    "for week in weeklist:\n",
    "    col=\"2018\"+week+\" Weekly COMP Store Sales\"\n",
    "    if col in data_2018_pre.columns.tolist():\n",
    "        weekly_sales_cols=weekly_sales_cols+[col]\n",
    "data_2018_pre=data_2018_pre[['Store Nbr','City','State','Zip Code','Prime Item Nbr','Item Desc 1','Size Desc']+weekly_sales_cols]\n",
    "for col in weekly_sales_cols:\n",
    "    data_2018_pre=data_2018_pre.rename(columns={col:col[:6]+\"_sales\"})"
   ]
  },
  {
   "cell_type": "code",
   "execution_count": 4,
   "metadata": {
    "collapsed": true
   },
   "outputs": [],
   "source": [
    "data_2018_29=pd.read_excel(\"/home/jian/SunnyD/On_Going_WM_KG/Walmart/data/WM D90 Tangy 128oz WM Wk 201829.xlsx\",dtype=str,skiprows=16)\n",
    "weekly_sales_cols=[]\n",
    "for week in weeklist:\n",
    "    col=\"2018\"+week+\" Weekly COMP Store Sales\"\n",
    "    if col in data_2018_29.columns.tolist():\n",
    "        weekly_sales_cols=weekly_sales_cols+[col]\n",
    "data_2018_29=data_2018_29[['Store Nbr','City','State','Zip Code','Prime Item Nbr','Item Desc 1','Size Desc']+weekly_sales_cols]\n",
    "for col in weekly_sales_cols:\n",
    "    data_2018_29=data_2018_29.rename(columns={col:col[:6]+\"_sales\"})"
   ]
  },
  {
   "cell_type": "code",
   "execution_count": 5,
   "metadata": {
    "collapsed": true
   },
   "outputs": [],
   "source": [
    "data_2018_30=pd.read_excel(\"/home/jian/SunnyD/On_Going_WM_KG/Walmart/data/WM D90 Tangy 128oz WM Wk 201830.xlsx\",dtype=str,skiprows=16)\n",
    "weekly_sales_cols=[]\n",
    "for week in weeklist:\n",
    "    col=\"2018\"+week+\" Weekly COMP Store Sales\"\n",
    "    if col in data_2018_30.columns.tolist():\n",
    "        weekly_sales_cols=weekly_sales_cols+[col]\n",
    "data_2018_30=data_2018_30[['Store Nbr','City','State','Zip Code','Prime Item Nbr','Item Desc 1','Size Desc']+weekly_sales_cols]\n",
    "for col in weekly_sales_cols:\n",
    "    data_2018_30=data_2018_30.rename(columns={col:col[:6]+\"_sales\"})"
   ]
  },
  {
   "cell_type": "code",
   "execution_count": 6,
   "metadata": {
    "collapsed": true
   },
   "outputs": [],
   "source": [
    "data_2018_31=pd.read_excel(\"/home/jian/SunnyD/On_Going_WM_KG/Walmart/data/WM D90 Tangy 128oz WM Wk 201831.xlsx\",dtype=str,skiprows=16)\n",
    "weekly_sales_cols=[]\n",
    "for week in weeklist:\n",
    "    col=\"2018\"+week+\" Weekly COMP Store Sales\"\n",
    "    if col in data_2018_31.columns.tolist():\n",
    "        weekly_sales_cols=weekly_sales_cols+[col]\n",
    "data_2018_31=data_2018_31[['Store Nbr','City','State','Zip Code','Prime Item Nbr','Item Desc 1','Size Desc']+weekly_sales_cols]\n",
    "for col in weekly_sales_cols:\n",
    "    data_2018_31=data_2018_31.rename(columns={col:col[:6]+\"_sales\"})\n"
   ]
  },
  {
   "cell_type": "code",
   "execution_count": 7,
   "metadata": {
    "collapsed": true
   },
   "outputs": [],
   "source": [
    "data_2018_32=pd.read_excel(\"/home/jian/SunnyD/On_Going_WM_KG/Walmart/data/WM D90 Tangy 128oz WM Wk 201832.xlsx\",dtype=str,skiprows=16)\n",
    "weekly_sales_cols=[]\n",
    "for week in weeklist:\n",
    "    col=\"2018\"+week+\" Weekly COMP Store Sales\"\n",
    "    if col in data_2018_32.columns.tolist():\n",
    "        weekly_sales_cols=weekly_sales_cols+[col]\n",
    "data_2018_32=data_2018_32[['Store Nbr','City','State','Zip Code','Prime Item Nbr','Item Desc 1','Size Desc']+weekly_sales_cols]\n",
    "for col in weekly_sales_cols:\n",
    "    data_2018_32=data_2018_32.rename(columns={col:col[:6]+\"_sales\"})"
   ]
  },
  {
   "cell_type": "code",
   "execution_count": 8,
   "metadata": {
    "collapsed": true
   },
   "outputs": [],
   "source": [
    "data_2018_33=pd.read_excel(\"/home/jian/SunnyD/On_Going_WM_KG/Walmart/data/WM D90 Tangy 128oz WM Wk 201833.xlsx\",dtype=str,skiprows=16)\n",
    "weekly_sales_cols=[]\n",
    "for week in weeklist:\n",
    "    col=\"2018\"+week+\" Weekly COMP Store Sales\"\n",
    "    if col in data_2018_33.columns.tolist():\n",
    "        weekly_sales_cols=weekly_sales_cols+[col]\n",
    "data_2018_33=data_2018_33[['Store Nbr','City','State','Zip Code','Prime Item Nbr','Item Desc 1','Size Desc']+weekly_sales_cols]\n",
    "for col in weekly_sales_cols:\n",
    "    data_2018_33=data_2018_33.rename(columns={col:col[:6]+\"_sales\"})"
   ]
  },
  {
   "cell_type": "code",
   "execution_count": 9,
   "metadata": {
    "collapsed": true
   },
   "outputs": [],
   "source": [
    "# 7 Weeks\n",
    "\n",
    "data_2018_4_weeks=pd.merge(data_2018_pre,data_2018_29,on=['Store Nbr','City','State','Zip Code','Prime Item Nbr','Item Desc 1','Size Desc'],how=\"outer\")\n",
    "data_2018_4_weeks=pd.merge(data_2018_4_weeks,data_2018_30,on=['Store Nbr','City','State','Zip Code','Prime Item Nbr','Item Desc 1','Size Desc'],how=\"outer\")\n",
    "data_2018_4_weeks=pd.merge(data_2018_4_weeks,data_2018_31,on=['Store Nbr','City','State','Zip Code','Prime Item Nbr','Item Desc 1','Size Desc'],how=\"outer\")\n",
    "data_2018_4_weeks=pd.merge(data_2018_4_weeks,data_2018_32,on=['Store Nbr','City','State','Zip Code','Prime Item Nbr','Item Desc 1','Size Desc'],how=\"outer\")\n",
    "data_2018_4_weeks=pd.merge(data_2018_4_weeks,data_2018_33,on=['Store Nbr','City','State','Zip Code','Prime Item Nbr','Item Desc 1','Size Desc'],how=\"outer\")\n",
    "\n",
    "sales_col=[x for x in data_2018_4_weeks.columns.tolist() if \"sales\" in x]\n",
    "for col in sales_col:\n",
    "    data_2018_4_weeks[col]=data_2018_4_weeks[col].astype(float)\n",
    "    data_2018_4_weeks[col]=data_2018_4_weeks[col].fillna(0)"
   ]
  },
  {
   "cell_type": "code",
   "execution_count": 10,
   "metadata": {
    "collapsed": true
   },
   "outputs": [],
   "source": [
    "data_2018_long=pd.melt(data_2018_4_weeks, id_vars=['Store Nbr','City','State','Zip Code','Prime Item Nbr','Item Desc 1','Size Desc'], \n",
    "                       value_vars=['201827_sales','201828_sales','201829_sales','201830_sales','201831_sales','201832_sales','201833_sales'])\n"
   ]
  },
  {
   "cell_type": "code",
   "execution_count": 11,
   "metadata": {
    "collapsed": true
   },
   "outputs": [],
   "source": [
    "def func(x):\n",
    "    y=len(list(set(x)))\n",
    "    return y\n",
    "df_YoY=data_2018_long.append(data_2017_long)\n",
    "df_YoY=df_YoY.rename(columns={\"variable\":\"week_num\",\"value\":\"sales\"})\n",
    "df_YoY['week_num']=df_YoY['week_num'].apply(lambda x: x[:6])\n",
    "df_YoY=df_YoY[df_YoY['sales']!=0]\n",
    "all_available_store=df_YoY.groupby(['Store Nbr','City','State','Zip Code','Prime Item Nbr','Item Desc 1','Size Desc'])['week_num'].agg(func).to_frame()\n",
    "all_available_store=all_available_store.reset_index()\n",
    "keep_store_nbr=all_available_store[all_available_store['week_num']==14]['Store Nbr'].unique().tolist()"
   ]
  },
  {
   "cell_type": "code",
   "execution_count": 12,
   "metadata": {
    "collapsed": true
   },
   "outputs": [],
   "source": [
    "df_YoY=df_YoY[df_YoY['Store Nbr'].isin(keep_store_nbr)]\n",
    "df_YoY['Year']=df_YoY['week_num'].apply(lambda x: x[:4])\n",
    "df_YoY_compare=df_YoY.groupby(['Store Nbr','City','State','Zip Code','Prime Item Nbr','Item Desc 1','Size Desc','Year','week_num'])['sales'].sum().to_frame().reset_index()"
   ]
  },
  {
   "cell_type": "code",
   "execution_count": 13,
   "metadata": {
    "collapsed": true
   },
   "outputs": [],
   "source": [
    "Zip_IRI_mapping=pd.read_excel(\"/home/jian/SunnyD/Otherinput/All_IRI_Mkt_with_Zips_0430.xlsx\",dtype=str)\n",
    "Zip_IRI_mapping=Zip_IRI_mapping.rename(columns={\"zip_cd\":\"Zip Code\"})"
   ]
  },
  {
   "cell_type": "code",
   "execution_count": 14,
   "metadata": {
    "collapsed": true
   },
   "outputs": [],
   "source": [
    "df_YoY_compare=pd.merge(df_YoY_compare,Zip_IRI_mapping,on=\"Zip Code\",how=\"left\")\n",
    "df_YoY_compare['IRI Market']=df_YoY_compare['IRI Market'].fillna(\"NO MARKET\")"
   ]
  },
  {
   "cell_type": "code",
   "execution_count": 15,
   "metadata": {
    "collapsed": true
   },
   "outputs": [],
   "source": [
    "Markets_18=['BIRMINGHAM/MONTGOMERY','NEW ORLEANS/MOBILE','PHOENIX/TUCSON','LOS ANGELES','DENVER','MIAMI/FT LAUDERDALE',\n",
    "            'ATLANTA','SOUTH CAROLINA','CHICAGO','BOSTON','BALTIMORE/WASHINGTON','DETROIT','MISSISSIPPI','RALEIGH/GREENSBORO',\n",
    "            'NEW YORK','WEST TEX/NEW MEXICO','HOUSTON','DALLAS/FT WORTH']"
   ]
  },
  {
   "cell_type": "code",
   "execution_count": 16,
   "metadata": {
    "collapsed": true
   },
   "outputs": [],
   "source": [
    "def In_18(x):\n",
    "    if x in Markets_18:\n",
    "        y=\"In_18_Mkts\"\n",
    "    else:\n",
    "        y=\"Other\"\n",
    "    return y\n",
    "df_YoY_compare['18_Mkt_Ind']=df_YoY_compare['IRI Market'].apply(lambda x: In_18(x))"
   ]
  },
  {
   "cell_type": "code",
   "execution_count": 17,
   "metadata": {
    "collapsed": true
   },
   "outputs": [],
   "source": [
    "WM_Denver=df_YoY_compare[df_YoY_compare['IRI Market']==\"MIAMI/FT LAUDERDALE\"]\n",
    "WM_Denver=WM_Denver.groupby(['18_Mkt_Ind','Year','week_num'])['sales'].sum().reset_index()\n",
    "WM_Denver['week_num']=WM_Denver['week_num'].apply(lambda x: x[4:])"
   ]
  },
  {
   "cell_type": "code",
   "execution_count": 18,
   "metadata": {
    "collapsed": true
   },
   "outputs": [],
   "source": [
    "def YoY_summary_df(df):\n",
    "    df_2017_sales=df[df['Year']=='2017'].rename(columns={\"sales\":\"sales_2017\"})\n",
    "    df_2018_sales=df[df['Year']=='2018'].rename(columns={\"sales\":\"sales_2018\"})\n",
    "\n",
    "    del df_2017_sales['Year']\n",
    "    del df_2018_sales['Year']\n",
    "    sales_yoy=pd.merge(df_2017_sales,df_2018_sales,on=[\"18_Mkt_Ind\",'week_num'],how=\"left\")\n",
    "\n",
    "    sales_yoy['sales_yoy']=(sales_yoy['sales_2018']-sales_yoy['sales_2017'])/sales_yoy['sales_2017']\n",
    "\n",
    "    return sales_yoy"
   ]
  },
  {
   "cell_type": "code",
   "execution_count": 19,
   "metadata": {},
   "outputs": [
    {
     "data": {
      "text/html": [
       "<div>\n",
       "<style>\n",
       "    .dataframe thead tr:only-child th {\n",
       "        text-align: right;\n",
       "    }\n",
       "\n",
       "    .dataframe thead th {\n",
       "        text-align: left;\n",
       "    }\n",
       "\n",
       "    .dataframe tbody tr th {\n",
       "        vertical-align: top;\n",
       "    }\n",
       "</style>\n",
       "<table border=\"1\" class=\"dataframe\">\n",
       "  <thead>\n",
       "    <tr style=\"text-align: right;\">\n",
       "      <th></th>\n",
       "      <th>18_Mkt_Ind</th>\n",
       "      <th>week_num</th>\n",
       "      <th>sales_2017</th>\n",
       "      <th>sales_2018</th>\n",
       "      <th>sales_yoy</th>\n",
       "    </tr>\n",
       "  </thead>\n",
       "  <tbody>\n",
       "    <tr>\n",
       "      <th>0</th>\n",
       "      <td>In_18_Mkts</td>\n",
       "      <td>27</td>\n",
       "      <td>7197.12</td>\n",
       "      <td>7306.32</td>\n",
       "      <td>0.015173</td>\n",
       "    </tr>\n",
       "    <tr>\n",
       "      <th>1</th>\n",
       "      <td>In_18_Mkts</td>\n",
       "      <td>28</td>\n",
       "      <td>7589.88</td>\n",
       "      <td>7506.64</td>\n",
       "      <td>-0.010967</td>\n",
       "    </tr>\n",
       "    <tr>\n",
       "      <th>2</th>\n",
       "      <td>In_18_Mkts</td>\n",
       "      <td>29</td>\n",
       "      <td>7640.64</td>\n",
       "      <td>7482.78</td>\n",
       "      <td>-0.020661</td>\n",
       "    </tr>\n",
       "    <tr>\n",
       "      <th>3</th>\n",
       "      <td>In_18_Mkts</td>\n",
       "      <td>30</td>\n",
       "      <td>7643.60</td>\n",
       "      <td>7336.76</td>\n",
       "      <td>-0.040143</td>\n",
       "    </tr>\n",
       "    <tr>\n",
       "      <th>4</th>\n",
       "      <td>In_18_Mkts</td>\n",
       "      <td>31</td>\n",
       "      <td>7384.40</td>\n",
       "      <td>7044.72</td>\n",
       "      <td>-0.046000</td>\n",
       "    </tr>\n",
       "    <tr>\n",
       "      <th>5</th>\n",
       "      <td>In_18_Mkts</td>\n",
       "      <td>32</td>\n",
       "      <td>13798.24</td>\n",
       "      <td>7601.98</td>\n",
       "      <td>-0.449062</td>\n",
       "    </tr>\n",
       "    <tr>\n",
       "      <th>6</th>\n",
       "      <td>In_18_Mkts</td>\n",
       "      <td>33</td>\n",
       "      <td>1489.44</td>\n",
       "      <td>7566.12</td>\n",
       "      <td>4.079842</td>\n",
       "    </tr>\n",
       "  </tbody>\n",
       "</table>\n",
       "</div>"
      ],
      "text/plain": [
       "   18_Mkt_Ind week_num  sales_2017  sales_2018  sales_yoy\n",
       "0  In_18_Mkts       27     7197.12     7306.32   0.015173\n",
       "1  In_18_Mkts       28     7589.88     7506.64  -0.010967\n",
       "2  In_18_Mkts       29     7640.64     7482.78  -0.020661\n",
       "3  In_18_Mkts       30     7643.60     7336.76  -0.040143\n",
       "4  In_18_Mkts       31     7384.40     7044.72  -0.046000\n",
       "5  In_18_Mkts       32    13798.24     7601.98  -0.449062\n",
       "6  In_18_Mkts       33     1489.44     7566.12   4.079842"
      ]
     },
     "execution_count": 19,
     "metadata": {},
     "output_type": "execute_result"
    }
   ],
   "source": [
    "WM_Denver=YoY_summary_df(WM_Denver)\n",
    "WM_Denver"
   ]
  },
  {
   "cell_type": "code",
   "execution_count": null,
   "metadata": {
    "collapsed": true
   },
   "outputs": [],
   "source": []
  },
  {
   "cell_type": "code",
   "execution_count": 25,
   "metadata": {
    "collapsed": true
   },
   "outputs": [],
   "source": [
    "df_YoY_compare_summary=df_YoY_compare.groupby(['18_Mkt_Ind','Year','week_num'])['sales'].sum().reset_index()\n",
    "df_YoY_compare_summary['week_num']=df_YoY_compare_summary['week_num'].apply(lambda x: x[4:])"
   ]
  },
  {
   "cell_type": "code",
   "execution_count": 26,
   "metadata": {
    "collapsed": true
   },
   "outputs": [],
   "source": [
    "df_YoY_compare_summary.to_csv(\"/home/jian/SunnyD/On_Going_WM_KG/Walmart/output/SunnyD_Walmart_4_weeks_YoY_\"+str(datetime.datetime.now().date())+\".csv\",index=False)"
   ]
  },
  {
   "cell_type": "code",
   "execution_count": 27,
   "metadata": {},
   "outputs": [
    {
     "data": {
      "text/plain": [
       "4345"
      ]
     },
     "execution_count": 27,
     "metadata": {},
     "output_type": "execute_result"
    }
   ],
   "source": [
    "len(keep_store_nbr)"
   ]
  },
  {
   "cell_type": "code",
   "execution_count": 28,
   "metadata": {},
   "outputs": [
    {
     "data": {
      "text/plain": [
       "4345"
      ]
     },
     "execution_count": 28,
     "metadata": {},
     "output_type": "execute_result"
    }
   ],
   "source": [
    "len(set(keep_store_nbr))"
   ]
  },
  {
   "cell_type": "code",
   "execution_count": 29,
   "metadata": {},
   "outputs": [
    {
     "data": {
      "text/html": [
       "<div>\n",
       "<style>\n",
       "    .dataframe thead tr:only-child th {\n",
       "        text-align: right;\n",
       "    }\n",
       "\n",
       "    .dataframe thead th {\n",
       "        text-align: left;\n",
       "    }\n",
       "\n",
       "    .dataframe tbody tr th {\n",
       "        vertical-align: top;\n",
       "    }\n",
       "</style>\n",
       "<table border=\"1\" class=\"dataframe\">\n",
       "  <thead>\n",
       "    <tr style=\"text-align: right;\">\n",
       "      <th></th>\n",
       "      <th>18_Mkt_Ind</th>\n",
       "      <th>Year</th>\n",
       "      <th>week_num</th>\n",
       "      <th>sales</th>\n",
       "    </tr>\n",
       "  </thead>\n",
       "  <tbody>\n",
       "    <tr>\n",
       "      <th>0</th>\n",
       "      <td>In_18_Mkts</td>\n",
       "      <td>2017</td>\n",
       "      <td>27</td>\n",
       "      <td>177696.95</td>\n",
       "    </tr>\n",
       "    <tr>\n",
       "      <th>1</th>\n",
       "      <td>In_18_Mkts</td>\n",
       "      <td>2017</td>\n",
       "      <td>28</td>\n",
       "      <td>186556.23</td>\n",
       "    </tr>\n",
       "    <tr>\n",
       "      <th>2</th>\n",
       "      <td>In_18_Mkts</td>\n",
       "      <td>2017</td>\n",
       "      <td>29</td>\n",
       "      <td>180089.03</td>\n",
       "    </tr>\n",
       "    <tr>\n",
       "      <th>3</th>\n",
       "      <td>In_18_Mkts</td>\n",
       "      <td>2017</td>\n",
       "      <td>30</td>\n",
       "      <td>174324.42</td>\n",
       "    </tr>\n",
       "    <tr>\n",
       "      <th>4</th>\n",
       "      <td>In_18_Mkts</td>\n",
       "      <td>2017</td>\n",
       "      <td>31</td>\n",
       "      <td>172589.10</td>\n",
       "    </tr>\n",
       "    <tr>\n",
       "      <th>5</th>\n",
       "      <td>In_18_Mkts</td>\n",
       "      <td>2017</td>\n",
       "      <td>32</td>\n",
       "      <td>218320.31</td>\n",
       "    </tr>\n",
       "    <tr>\n",
       "      <th>6</th>\n",
       "      <td>In_18_Mkts</td>\n",
       "      <td>2017</td>\n",
       "      <td>33</td>\n",
       "      <td>199397.37</td>\n",
       "    </tr>\n",
       "    <tr>\n",
       "      <th>7</th>\n",
       "      <td>In_18_Mkts</td>\n",
       "      <td>2018</td>\n",
       "      <td>27</td>\n",
       "      <td>175149.39</td>\n",
       "    </tr>\n",
       "    <tr>\n",
       "      <th>8</th>\n",
       "      <td>In_18_Mkts</td>\n",
       "      <td>2018</td>\n",
       "      <td>28</td>\n",
       "      <td>188124.57</td>\n",
       "    </tr>\n",
       "    <tr>\n",
       "      <th>9</th>\n",
       "      <td>In_18_Mkts</td>\n",
       "      <td>2018</td>\n",
       "      <td>29</td>\n",
       "      <td>180798.94</td>\n",
       "    </tr>\n",
       "    <tr>\n",
       "      <th>10</th>\n",
       "      <td>In_18_Mkts</td>\n",
       "      <td>2018</td>\n",
       "      <td>30</td>\n",
       "      <td>165749.87</td>\n",
       "    </tr>\n",
       "    <tr>\n",
       "      <th>11</th>\n",
       "      <td>In_18_Mkts</td>\n",
       "      <td>2018</td>\n",
       "      <td>31</td>\n",
       "      <td>162799.52</td>\n",
       "    </tr>\n",
       "    <tr>\n",
       "      <th>12</th>\n",
       "      <td>In_18_Mkts</td>\n",
       "      <td>2018</td>\n",
       "      <td>32</td>\n",
       "      <td>178357.37</td>\n",
       "    </tr>\n",
       "    <tr>\n",
       "      <th>13</th>\n",
       "      <td>In_18_Mkts</td>\n",
       "      <td>2018</td>\n",
       "      <td>33</td>\n",
       "      <td>180399.97</td>\n",
       "    </tr>\n",
       "    <tr>\n",
       "      <th>14</th>\n",
       "      <td>Other</td>\n",
       "      <td>2017</td>\n",
       "      <td>27</td>\n",
       "      <td>395788.08</td>\n",
       "    </tr>\n",
       "    <tr>\n",
       "      <th>15</th>\n",
       "      <td>Other</td>\n",
       "      <td>2017</td>\n",
       "      <td>28</td>\n",
       "      <td>402497.11</td>\n",
       "    </tr>\n",
       "    <tr>\n",
       "      <th>16</th>\n",
       "      <td>Other</td>\n",
       "      <td>2017</td>\n",
       "      <td>29</td>\n",
       "      <td>386051.63</td>\n",
       "    </tr>\n",
       "    <tr>\n",
       "      <th>17</th>\n",
       "      <td>Other</td>\n",
       "      <td>2017</td>\n",
       "      <td>30</td>\n",
       "      <td>370058.31</td>\n",
       "    </tr>\n",
       "    <tr>\n",
       "      <th>18</th>\n",
       "      <td>Other</td>\n",
       "      <td>2017</td>\n",
       "      <td>31</td>\n",
       "      <td>379730.56</td>\n",
       "    </tr>\n",
       "    <tr>\n",
       "      <th>19</th>\n",
       "      <td>Other</td>\n",
       "      <td>2017</td>\n",
       "      <td>32</td>\n",
       "      <td>466665.34</td>\n",
       "    </tr>\n",
       "    <tr>\n",
       "      <th>20</th>\n",
       "      <td>Other</td>\n",
       "      <td>2017</td>\n",
       "      <td>33</td>\n",
       "      <td>409640.33</td>\n",
       "    </tr>\n",
       "    <tr>\n",
       "      <th>21</th>\n",
       "      <td>Other</td>\n",
       "      <td>2018</td>\n",
       "      <td>27</td>\n",
       "      <td>389710.01</td>\n",
       "    </tr>\n",
       "    <tr>\n",
       "      <th>22</th>\n",
       "      <td>Other</td>\n",
       "      <td>2018</td>\n",
       "      <td>28</td>\n",
       "      <td>415430.32</td>\n",
       "    </tr>\n",
       "    <tr>\n",
       "      <th>23</th>\n",
       "      <td>Other</td>\n",
       "      <td>2018</td>\n",
       "      <td>29</td>\n",
       "      <td>398715.56</td>\n",
       "    </tr>\n",
       "    <tr>\n",
       "      <th>24</th>\n",
       "      <td>Other</td>\n",
       "      <td>2018</td>\n",
       "      <td>30</td>\n",
       "      <td>368903.05</td>\n",
       "    </tr>\n",
       "    <tr>\n",
       "      <th>25</th>\n",
       "      <td>Other</td>\n",
       "      <td>2018</td>\n",
       "      <td>31</td>\n",
       "      <td>365246.42</td>\n",
       "    </tr>\n",
       "    <tr>\n",
       "      <th>26</th>\n",
       "      <td>Other</td>\n",
       "      <td>2018</td>\n",
       "      <td>32</td>\n",
       "      <td>410208.64</td>\n",
       "    </tr>\n",
       "    <tr>\n",
       "      <th>27</th>\n",
       "      <td>Other</td>\n",
       "      <td>2018</td>\n",
       "      <td>33</td>\n",
       "      <td>387382.48</td>\n",
       "    </tr>\n",
       "  </tbody>\n",
       "</table>\n",
       "</div>"
      ],
      "text/plain": [
       "    18_Mkt_Ind  Year week_num      sales\n",
       "0   In_18_Mkts  2017       27  177696.95\n",
       "1   In_18_Mkts  2017       28  186556.23\n",
       "2   In_18_Mkts  2017       29  180089.03\n",
       "3   In_18_Mkts  2017       30  174324.42\n",
       "4   In_18_Mkts  2017       31  172589.10\n",
       "5   In_18_Mkts  2017       32  218320.31\n",
       "6   In_18_Mkts  2017       33  199397.37\n",
       "7   In_18_Mkts  2018       27  175149.39\n",
       "8   In_18_Mkts  2018       28  188124.57\n",
       "9   In_18_Mkts  2018       29  180798.94\n",
       "10  In_18_Mkts  2018       30  165749.87\n",
       "11  In_18_Mkts  2018       31  162799.52\n",
       "12  In_18_Mkts  2018       32  178357.37\n",
       "13  In_18_Mkts  2018       33  180399.97\n",
       "14       Other  2017       27  395788.08\n",
       "15       Other  2017       28  402497.11\n",
       "16       Other  2017       29  386051.63\n",
       "17       Other  2017       30  370058.31\n",
       "18       Other  2017       31  379730.56\n",
       "19       Other  2017       32  466665.34\n",
       "20       Other  2017       33  409640.33\n",
       "21       Other  2018       27  389710.01\n",
       "22       Other  2018       28  415430.32\n",
       "23       Other  2018       29  398715.56\n",
       "24       Other  2018       30  368903.05\n",
       "25       Other  2018       31  365246.42\n",
       "26       Other  2018       32  410208.64\n",
       "27       Other  2018       33  387382.48"
      ]
     },
     "execution_count": 29,
     "metadata": {},
     "output_type": "execute_result"
    }
   ],
   "source": [
    "df_YoY_compare_summary"
   ]
  },
  {
   "cell_type": "code",
   "execution_count": null,
   "metadata": {
    "collapsed": true
   },
   "outputs": [],
   "source": []
  },
  {
   "cell_type": "code",
   "execution_count": null,
   "metadata": {
    "collapsed": true
   },
   "outputs": [],
   "source": []
  }
 ],
 "metadata": {
  "kernelspec": {
   "display_name": "Python 3",
   "language": "python",
   "name": "python3"
  },
  "language_info": {
   "codemirror_mode": {
    "name": "ipython",
    "version": 3
   },
   "file_extension": ".py",
   "mimetype": "text/x-python",
   "name": "python",
   "nbconvert_exporter": "python",
   "pygments_lexer": "ipython3",
   "version": "3.6.1"
  }
 },
 "nbformat": 4,
 "nbformat_minor": 2
}
