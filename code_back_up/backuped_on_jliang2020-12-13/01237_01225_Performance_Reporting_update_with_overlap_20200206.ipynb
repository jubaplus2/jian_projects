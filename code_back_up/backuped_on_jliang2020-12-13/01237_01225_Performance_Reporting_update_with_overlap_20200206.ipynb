{
 "cells": [
  {
   "cell_type": "code",
   "execution_count": 1,
   "metadata": {},
   "outputs": [
    {
     "name": "stdout",
     "output_type": "stream",
     "text": [
      "2020-02-06 23:11:33.968526\n"
     ]
    },
    {
     "data": {
      "text/plain": [
       "'/home/jian/Projects/Big_Lots/Analysis/2019_Q4/Planner_Request/BR_audience_furniture_browser'"
      ]
     },
     "execution_count": 1,
     "metadata": {},
     "output_type": "execute_result"
    }
   ],
   "source": [
    "import pandas as pd\n",
    "import numpy as np\n",
    "import datetime\n",
    "import os\n",
    "import glob\n",
    "\n",
    "# Confirmed with YG, DCart campaigns after Jan 1 only, 2020-02-03 ~ 1 p.m.\n",
    "# The +7 campaing windown for each id is not needed, YG 2020-01-03 5 p.m.\n",
    "# new request from BR 20200205 with the mattress broken dow, email: RE: Final q4 yoy by division, Wednesday, February 5, 2020 at 9:12 PM\n",
    "\n",
    "print(datetime.datetime.now())\n",
    "os.getcwd()"
   ]
  },
  {
   "cell_type": "code",
   "execution_count": 2,
   "metadata": {},
   "outputs": [
    {
     "data": {
      "text/html": [
       "<div>\n",
       "<style scoped>\n",
       "    .dataframe tbody tr th:only-of-type {\n",
       "        vertical-align: middle;\n",
       "    }\n",
       "\n",
       "    .dataframe tbody tr th {\n",
       "        vertical-align: top;\n",
       "    }\n",
       "\n",
       "    .dataframe thead th {\n",
       "        text-align: right;\n",
       "    }\n",
       "</style>\n",
       "<table border=\"1\" class=\"dataframe\">\n",
       "  <thead>\n",
       "    <tr style=\"text-align: right;\">\n",
       "      <th></th>\n",
       "      <th>Unnamed: 0</th>\n",
       "      <th>Unnamed: 1</th>\n",
       "      <th>Unnamed: 2</th>\n",
       "      <th>StartDate</th>\n",
       "      <th>EndDate</th>\n",
       "      <th>week</th>\n",
       "    </tr>\n",
       "  </thead>\n",
       "  <tbody>\n",
       "    <tr>\n",
       "      <th>0</th>\n",
       "      <td>W1</td>\n",
       "      <td>Weekly</td>\n",
       "      <td>Account1</td>\n",
       "      <td>2019-11-14</td>\n",
       "      <td>2019-11-23</td>\n",
       "      <td>Weekly_W1</td>\n",
       "    </tr>\n",
       "    <tr>\n",
       "      <th>1</th>\n",
       "      <td>W1</td>\n",
       "      <td>Nonweekly</td>\n",
       "      <td>Account2</td>\n",
       "      <td>2019-11-18</td>\n",
       "      <td>2019-11-23</td>\n",
       "      <td>Nonweekly_W1</td>\n",
       "    </tr>\n",
       "  </tbody>\n",
       "</table>\n",
       "</div>"
      ],
      "text/plain": [
       "  Unnamed: 0 Unnamed: 1 Unnamed: 2   StartDate     EndDate          week\n",
       "0         W1     Weekly   Account1  2019-11-14  2019-11-23     Weekly_W1\n",
       "1         W1  Nonweekly   Account2  2019-11-18  2019-11-23  Nonweekly_W1"
      ]
     },
     "execution_count": 2,
     "metadata": {},
     "output_type": "execute_result"
    }
   ],
   "source": [
    "# Download through the shared GoogleSheet, 2020-02-03 around 11 a.m.\n",
    "df_campaing_dates=pd.read_excel(\"/home/jian/Projects/Big_Lots/Analysis/2019_Q4/Planner_Request/BR_audience_furniture_browser/by_overlap_with_dcart/D Cart Weekly Budget 1121.xlsx\",\n",
    "                               dtype=str,sheet_name=\"Sheet2\",skiprows=1)\n",
    "df_campaing_dates=df_campaing_dates.iloc[:,:5]\n",
    "df_campaing_dates['Unnamed: 0']=df_campaing_dates['Unnamed: 0'].fillna(method='ffill')\n",
    "df_campaing_dates['Unnamed: 1']=df_campaing_dates['Unnamed: 1'].fillna(method='ffill')\n",
    "df_campaing_dates['Unnamed: 0']=df_campaing_dates['Unnamed: 0'].str.capitalize()\n",
    "df_campaing_dates['Unnamed: 1']=df_campaing_dates['Unnamed: 1'].str.capitalize()\n",
    "\n",
    "df_campaing_dates['week']=df_campaing_dates['Unnamed: 1']+\"_\"+df_campaing_dates['Unnamed: 0']\n",
    "\n",
    "df_campaing_dates['StartDate']=df_campaing_dates['StartDate'].fillna(\"nan\")\n",
    "df_campaing_dates['EndDate']=df_campaing_dates['EndDate'].fillna(\"nan\")\n",
    "\n",
    "df_campaing_dates['StartDate']=df_campaing_dates['StartDate'].apply(lambda x: x[:10])\n",
    "df_campaing_dates['EndDate']=df_campaing_dates['EndDate'].apply(lambda x: x[:10])\n",
    "df_campaing_dates.head(2)"
   ]
  },
  {
   "cell_type": "code",
   "execution_count": 3,
   "metadata": {},
   "outputs": [
    {
     "name": "stdout",
     "output_type": "stream",
     "text": [
      "(13, 6)\n"
     ]
    },
    {
     "data": {
      "text/plain": [
       "13"
      ]
     },
     "execution_count": 3,
     "metadata": {},
     "output_type": "execute_result"
    }
   ],
   "source": [
    "# df_2_weeks_campaign=df_campaing_dates[df_campaing_dates['EndDate']>=\"2020-01-01\"]\n",
    "df_2_weeks_campaign=df_campaing_dates[pd.notnull(df_campaing_dates['StartDate'])]\n",
    "df_2_weeks_campaign=df_2_weeks_campaign[df_2_weeks_campaign['StartDate']>=\"2020-01-01\"]\n",
    "df_2_weeks_campaign=df_2_weeks_campaign[df_2_weeks_campaign['StartDate']<=\"2020-01-20\"]\n",
    "\n",
    "# Start after 200101\n",
    "\n",
    "print(df_2_weeks_campaign.shape)\n",
    "list_needed_weeks=df_2_weeks_campaign['week'].tolist()\n",
    "len(set(list_needed_weeks))"
   ]
  },
  {
   "cell_type": "code",
   "execution_count": 4,
   "metadata": {},
   "outputs": [
    {
     "name": "stdout",
     "output_type": "stream",
     "text": [
      "(179247, 3)\n",
      "179247\n"
     ]
    },
    {
     "data": {
      "text/html": [
       "<div>\n",
       "<style scoped>\n",
       "    .dataframe tbody tr th:only-of-type {\n",
       "        vertical-align: middle;\n",
       "    }\n",
       "\n",
       "    .dataframe tbody tr th {\n",
       "        vertical-align: top;\n",
       "    }\n",
       "\n",
       "    .dataframe thead th {\n",
       "        text-align: right;\n",
       "    }\n",
       "</style>\n",
       "<table border=\"1\" class=\"dataframe\">\n",
       "  <thead>\n",
       "    <tr style=\"text-align: right;\">\n",
       "      <th></th>\n",
       "      <th>customer_id_hashed</th>\n",
       "      <th>week</th>\n",
       "      <th>campaign_list</th>\n",
       "    </tr>\n",
       "  </thead>\n",
       "  <tbody>\n",
       "    <tr>\n",
       "      <th>0</th>\n",
       "      <td>00000435bfb3bf42e3beb4c9b3942c552d09f0e49e5a75...</td>\n",
       "      <td>Weekly_W4, Weekly_W6, Nonshopper_W1, Nonshoppe...</td>\n",
       "      <td>[Weekly_W4,  Weekly_W6,  Nonshopper_W1,  Nonsh...</td>\n",
       "    </tr>\n",
       "    <tr>\n",
       "      <th>1</th>\n",
       "      <td>0001177d3a03ae7f2c1ed77ef69820b92321baa6981245...</td>\n",
       "      <td>Weekly_W8</td>\n",
       "      <td>[Weekly_W8]</td>\n",
       "    </tr>\n",
       "  </tbody>\n",
       "</table>\n",
       "</div>"
      ],
      "text/plain": [
       "                                  customer_id_hashed  \\\n",
       "0  00000435bfb3bf42e3beb4c9b3942c552d09f0e49e5a75...   \n",
       "1  0001177d3a03ae7f2c1ed77ef69820b92321baa6981245...   \n",
       "\n",
       "                                                week  \\\n",
       "0  Weekly_W4, Weekly_W6, Nonshopper_W1, Nonshoppe...   \n",
       "1                                          Weekly_W8   \n",
       "\n",
       "                                       campaign_list  \n",
       "0  [Weekly_W4,  Weekly_W6,  Nonshopper_W1,  Nonsh...  \n",
       "1                                        [Weekly_W8]  "
      ]
     },
     "execution_count": 4,
     "metadata": {},
     "output_type": "execute_result"
    }
   ],
   "source": [
    "df_overlapped_ids=pd.read_csv(\"./by_overlap_with_dcart/overlapwithdcart.csv\",dtype=str)\n",
    "df_overlapped_ids['campaign_list']=df_overlapped_ids['week'].apply(lambda x: x.split(\",\"))\n",
    "print(df_overlapped_ids.shape)\n",
    "print(df_overlapped_ids['customer_id_hashed'].nunique())\n",
    "\n",
    "df_overlapped_ids.head(2)"
   ]
  },
  {
   "cell_type": "code",
   "execution_count": 5,
   "metadata": {},
   "outputs": [
    {
     "name": "stdout",
     "output_type": "stream",
     "text": [
      "(489861, 5) (54430, 5)\n"
     ]
    },
    {
     "data": {
      "text/html": [
       "<div>\n",
       "<style scoped>\n",
       "    .dataframe tbody tr th:only-of-type {\n",
       "        vertical-align: middle;\n",
       "    }\n",
       "\n",
       "    .dataframe tbody tr th {\n",
       "        vertical-align: top;\n",
       "    }\n",
       "\n",
       "    .dataframe thead th {\n",
       "        text-align: right;\n",
       "    }\n",
       "</style>\n",
       "<table border=\"1\" class=\"dataframe\">\n",
       "  <thead>\n",
       "    <tr style=\"text-align: right;\">\n",
       "      <th></th>\n",
       "      <th>index</th>\n",
       "      <th>customersummary_mastercustomerid</th>\n",
       "      <th>Email</th>\n",
       "      <th>customer_id_hashed</th>\n",
       "      <th>execution_id</th>\n",
       "    </tr>\n",
       "  </thead>\n",
       "  <tbody>\n",
       "    <tr>\n",
       "      <th>0</th>\n",
       "      <td>0</td>\n",
       "      <td>KFK_0_8017815</td>\n",
       "      <td>ad5f11c041c89839c09204f9ce34f5d97ea8ddaa81f1f0...</td>\n",
       "      <td>83228bfe2f6d62bb0218751ceb63aa8551e9fd89a999f1...</td>\n",
       "      <td>1578944138509</td>\n",
       "    </tr>\n",
       "    <tr>\n",
       "      <th>1</th>\n",
       "      <td>2</td>\n",
       "      <td>KFK_0_37564566</td>\n",
       "      <td>c612188e441b8fef2e5eed0c918fec1d12e23f801b9e69...</td>\n",
       "      <td>94245ca46539f480c2490a5e3373f237dbc455094f85b7...</td>\n",
       "      <td>1578944138509</td>\n",
       "    </tr>\n",
       "  </tbody>\n",
       "</table>\n",
       "</div>"
      ],
      "text/plain": [
       "  index customersummary_mastercustomerid  \\\n",
       "0     0                    KFK_0_8017815   \n",
       "1     2                   KFK_0_37564566   \n",
       "\n",
       "                                               Email  \\\n",
       "0  ad5f11c041c89839c09204f9ce34f5d97ea8ddaa81f1f0...   \n",
       "1  c612188e441b8fef2e5eed0c918fec1d12e23f801b9e69...   \n",
       "\n",
       "                                  customer_id_hashed   execution_id  \n",
       "0  83228bfe2f6d62bb0218751ceb63aa8551e9fd89a999f1...  1578944138509  \n",
       "1  94245ca46539f480c2490a5e3373f237dbc455094f85b7...  1578944138509  "
      ]
     },
     "execution_count": 5,
     "metadata": {},
     "output_type": "execute_result"
    }
   ],
   "source": [
    "df_test=pd.read_csv(\"./BL_furniture_browser_test_group_JL_+str(datetime.datetime.now().date()).csv\",dtype=str)\n",
    "df_control=pd.read_csv(\"./BL_furniture_browser_control_group_JL_+str(datetime.datetime.now().date()).csv\",dtype=str)\n",
    "\n",
    "print(df_test.shape,df_control.shape)\n",
    "\n",
    "list_all_Agil_t_c=df_test['customer_id_hashed'].tolist()+df_control['customer_id_hashed'].tolist()\n",
    "\n",
    "df_test.head(2)"
   ]
  },
  {
   "cell_type": "code",
   "execution_count": 6,
   "metadata": {},
   "outputs": [
    {
     "name": "stdout",
     "output_type": "stream",
     "text": [
      "(544291, 2) 544291\n"
     ]
    }
   ],
   "source": [
    "df_group_1=df_test[['customer_id_hashed']].drop_duplicates()\n",
    "df_group_1['group']='furnitur_test'\n",
    "df_group_2=df_control[['customer_id_hashed']].drop_duplicates()\n",
    "df_group_2['group']='furniture_control'\n",
    "\n",
    "\n",
    "df_group=df_group_1.append(df_group_2)\n",
    "\n",
    "print(df_group.shape,df_group['customer_id_hashed'].nunique())\n",
    "\n",
    "df_total_id=df_group.groupby(['group'])['customer_id_hashed'].count().to_frame().reset_index().rename(columns={\"customer_id_hashed\":\"total_ids\"})"
   ]
  },
  {
   "cell_type": "code",
   "execution_count": 7,
   "metadata": {},
   "outputs": [
    {
     "name": "stdout",
     "output_type": "stream",
     "text": [
      "(544291, 5)\n"
     ]
    }
   ],
   "source": [
    "df_group=pd.merge(df_group,df_overlapped_ids,on=\"customer_id_hashed\",how=\"left\")\n",
    "df_group['DCart_Type_all']=np.where(pd.isnull(df_group['week']),\"NotDCart_but_AgilOne\",\"OverlapWithDCart\")\n",
    "print(df_group.shape)"
   ]
  },
  {
   "cell_type": "code",
   "execution_count": 8,
   "metadata": {},
   "outputs": [
    {
     "name": "stdout",
     "output_type": "stream",
     "text": [
      "150098\n",
      "counter_InSelectedCampaign 23598\n",
      "counter_OtherDCartCampaign 126500\n"
     ]
    }
   ],
   "source": [
    "df_in_DCart=df_group[df_group['DCart_Type_all']==\"OverlapWithDCart\"]\n",
    "dict_id_DCart_selected_campaign_weeks=df_in_DCart.set_index(\"customer_id_hashed\").to_dict()[\"week\"]\n",
    "counter_InSelectedCampaign=0\n",
    "counter_OtherDCartCampaign=0\n",
    "\n",
    "for hashed_id_key in dict_id_DCart_selected_campaign_weeks.keys():\n",
    "    for week_name in list_needed_weeks:\n",
    "        if week_name in dict_id_DCart_selected_campaign_weeks[hashed_id_key]:\n",
    "            dict_id_DCart_selected_campaign_weeks.update({hashed_id_key:\"In_DCart2020\"})\n",
    "            counter_InSelectedCampaign+=1\n",
    "    if dict_id_DCart_selected_campaign_weeks[hashed_id_key]!=\"In_DCart2020\":\n",
    "        dict_id_DCart_selected_campaign_weeks.update({hashed_id_key:\"Not_DCart2020\"})\n",
    "        counter_OtherDCartCampaign+=1\n",
    "\n",
    "set(dict_id_DCart_selected_campaign_weeks.values())\n",
    "print(len(dict_id_DCart_selected_campaign_weeks))\n",
    "print(\"counter_InSelectedCampaign\",counter_InSelectedCampaign)\n",
    "print(\"counter_OtherDCartCampaign\",counter_OtherDCartCampaign)"
   ]
  },
  {
   "cell_type": "code",
   "execution_count": 9,
   "metadata": {},
   "outputs": [
    {
     "name": "stdout",
     "output_type": "stream",
     "text": [
      "89\n",
      "(541818, 3)\n"
     ]
    },
    {
     "name": "stderr",
     "output_type": "stream",
     "text": [
      "/home/jian/.local/lib/python3.6/site-packages/pandas/core/frame.py:7138: FutureWarning: Sorting because non-concatenation axis is not aligned. A future version\n",
      "of pandas will change to not sort by default.\n",
      "\n",
      "To accept the future behavior, pass 'sort=False'.\n",
      "\n",
      "To retain the current behavior and silence the warning, pass 'sort=True'.\n",
      "\n",
      "  sort=sort,\n"
     ]
    }
   ],
   "source": [
    "df_group['DCart_Type_2020']=df_group['customer_id_hashed'].apply(lambda x: dict_id_DCart_selected_campaign_weeks[x] if x in dict_id_DCart_selected_campaign_weeks.keys() else \"NotDCart_but_AgilOne\")\n",
    "\n",
    "\n",
    "list_q4_control=glob.glob(\"/home/jian/Projects/Big_Lots/Live_Ramp/Quarterly_Update_2019Q4/upload_files/*.csv\")\n",
    "list_q4_control=[x for x in list_q4_control if os.path.basename(x)[0]==\"C\"]\n",
    "print(len(list_q4_control))\n",
    "\n",
    "df_q4_control=pd.DataFrame()\n",
    "for file in list_q4_control:\n",
    "    df=pd.read_csv(file,dtype=str)\n",
    "    df_q4_control=df_q4_control.append(df)\n",
    "print(df_q4_control.shape)\n",
    "\n",
    "df_group_3=df_q4_control[['customer_id_hashed']].drop_duplicates()\n",
    "df_group_3['group']='Q4_control'\n",
    "df_group_3['DCart_Type_all']=\"Not_DCart_Not_Agile\"\n",
    "df_group_3['DCart_Type_2020']=\"NotDCart_NotAgil\"\n",
    "\n",
    "df_group=df_group.append(df_group_3)"
   ]
  },
  {
   "cell_type": "code",
   "execution_count": 10,
   "metadata": {},
   "outputs": [
    {
     "data": {
      "text/plain": [
       "((1086109, 6), 1086109)"
      ]
     },
     "execution_count": 10,
     "metadata": {},
     "output_type": "execute_result"
    }
   ],
   "source": [
    "df_group.shape,df_group['customer_id_hashed'].nunique()\n",
    "\n",
    "# no overlap, so above is good"
   ]
  },
  {
   "cell_type": "code",
   "execution_count": 11,
   "metadata": {},
   "outputs": [
    {
     "name": "stdout",
     "output_type": "stream",
     "text": [
      "1086109\n"
     ]
    },
    {
     "data": {
      "text/html": [
       "<div>\n",
       "<style scoped>\n",
       "    .dataframe tbody tr th:only-of-type {\n",
       "        vertical-align: middle;\n",
       "    }\n",
       "\n",
       "    .dataframe tbody tr th {\n",
       "        vertical-align: top;\n",
       "    }\n",
       "\n",
       "    .dataframe thead th {\n",
       "        text-align: right;\n",
       "    }\n",
       "</style>\n",
       "<table border=\"1\" class=\"dataframe\">\n",
       "  <thead>\n",
       "    <tr style=\"text-align: right;\">\n",
       "      <th></th>\n",
       "      <th>group</th>\n",
       "      <th>DCart_Type_all</th>\n",
       "      <th>customer_id_hashed</th>\n",
       "    </tr>\n",
       "  </thead>\n",
       "  <tbody>\n",
       "    <tr>\n",
       "      <th>0</th>\n",
       "      <td>Q4_control</td>\n",
       "      <td>Not_DCart_Not_Agile</td>\n",
       "      <td>541818</td>\n",
       "    </tr>\n",
       "    <tr>\n",
       "      <th>1</th>\n",
       "      <td>furnitur_test</td>\n",
       "      <td>NotDCart_but_AgilOne</td>\n",
       "      <td>354739</td>\n",
       "    </tr>\n",
       "    <tr>\n",
       "      <th>2</th>\n",
       "      <td>furnitur_test</td>\n",
       "      <td>OverlapWithDCart</td>\n",
       "      <td>135122</td>\n",
       "    </tr>\n",
       "    <tr>\n",
       "      <th>3</th>\n",
       "      <td>furniture_control</td>\n",
       "      <td>NotDCart_but_AgilOne</td>\n",
       "      <td>39454</td>\n",
       "    </tr>\n",
       "    <tr>\n",
       "      <th>4</th>\n",
       "      <td>furniture_control</td>\n",
       "      <td>OverlapWithDCart</td>\n",
       "      <td>14976</td>\n",
       "    </tr>\n",
       "  </tbody>\n",
       "</table>\n",
       "</div>"
      ],
      "text/plain": [
       "               group        DCart_Type_all  customer_id_hashed\n",
       "0         Q4_control   Not_DCart_Not_Agile              541818\n",
       "1      furnitur_test  NotDCart_but_AgilOne              354739\n",
       "2      furnitur_test      OverlapWithDCart              135122\n",
       "3  furniture_control  NotDCart_but_AgilOne               39454\n",
       "4  furniture_control      OverlapWithDCart               14976"
      ]
     },
     "execution_count": 11,
     "metadata": {},
     "output_type": "execute_result"
    }
   ],
   "source": [
    "df_total_id_overall=df_group.groupby([\"group\",\"DCart_Type_all\"])['customer_id_hashed'].count().to_frame().reset_index()\n",
    "print(df_total_id_overall['customer_id_hashed'].sum())\n",
    "df_total_id_overall"
   ]
  },
  {
   "cell_type": "code",
   "execution_count": 12,
   "metadata": {},
   "outputs": [
    {
     "name": "stdout",
     "output_type": "stream",
     "text": [
      "1086109\n"
     ]
    },
    {
     "data": {
      "text/html": [
       "<div>\n",
       "<style scoped>\n",
       "    .dataframe tbody tr th:only-of-type {\n",
       "        vertical-align: middle;\n",
       "    }\n",
       "\n",
       "    .dataframe tbody tr th {\n",
       "        vertical-align: top;\n",
       "    }\n",
       "\n",
       "    .dataframe thead th {\n",
       "        text-align: right;\n",
       "    }\n",
       "</style>\n",
       "<table border=\"1\" class=\"dataframe\">\n",
       "  <thead>\n",
       "    <tr style=\"text-align: right;\">\n",
       "      <th></th>\n",
       "      <th>group</th>\n",
       "      <th>DCart_Type_2020</th>\n",
       "      <th>customer_id_hashed</th>\n",
       "    </tr>\n",
       "  </thead>\n",
       "  <tbody>\n",
       "    <tr>\n",
       "      <th>0</th>\n",
       "      <td>Q4_control</td>\n",
       "      <td>NotDCart_NotAgil</td>\n",
       "      <td>541818</td>\n",
       "    </tr>\n",
       "    <tr>\n",
       "      <th>1</th>\n",
       "      <td>furnitur_test</td>\n",
       "      <td>In_DCart2020</td>\n",
       "      <td>21286</td>\n",
       "    </tr>\n",
       "    <tr>\n",
       "      <th>2</th>\n",
       "      <td>furnitur_test</td>\n",
       "      <td>NotDCart_but_AgilOne</td>\n",
       "      <td>354739</td>\n",
       "    </tr>\n",
       "    <tr>\n",
       "      <th>3</th>\n",
       "      <td>furnitur_test</td>\n",
       "      <td>Not_DCart2020</td>\n",
       "      <td>113836</td>\n",
       "    </tr>\n",
       "    <tr>\n",
       "      <th>4</th>\n",
       "      <td>furniture_control</td>\n",
       "      <td>In_DCart2020</td>\n",
       "      <td>2312</td>\n",
       "    </tr>\n",
       "    <tr>\n",
       "      <th>5</th>\n",
       "      <td>furniture_control</td>\n",
       "      <td>NotDCart_but_AgilOne</td>\n",
       "      <td>39454</td>\n",
       "    </tr>\n",
       "    <tr>\n",
       "      <th>6</th>\n",
       "      <td>furniture_control</td>\n",
       "      <td>Not_DCart2020</td>\n",
       "      <td>12664</td>\n",
       "    </tr>\n",
       "  </tbody>\n",
       "</table>\n",
       "</div>"
      ],
      "text/plain": [
       "               group       DCart_Type_2020  customer_id_hashed\n",
       "0         Q4_control      NotDCart_NotAgil              541818\n",
       "1      furnitur_test          In_DCart2020               21286\n",
       "2      furnitur_test  NotDCart_but_AgilOne              354739\n",
       "3      furnitur_test         Not_DCart2020              113836\n",
       "4  furniture_control          In_DCart2020                2312\n",
       "5  furniture_control  NotDCart_but_AgilOne               39454\n",
       "6  furniture_control         Not_DCart2020               12664"
      ]
     },
     "execution_count": 12,
     "metadata": {},
     "output_type": "execute_result"
    }
   ],
   "source": [
    "df_total_id_2020=df_group.groupby([\"group\",\"DCart_Type_2020\"])['customer_id_hashed'].count().to_frame().reset_index()\n",
    "print(df_total_id_2020['customer_id_hashed'].sum())\n",
    "df_total_id_2020"
   ]
  },
  {
   "cell_type": "markdown",
   "metadata": {},
   "source": [
    "# 1. Overall"
   ]
  },
  {
   "cell_type": "code",
   "execution_count": 13,
   "metadata": {},
   "outputs": [
    {
     "name": "stdout",
     "output_type": "stream",
     "text": [
      "(179247, 6)\n"
     ]
    },
    {
     "data": {
      "text/html": [
       "<div>\n",
       "<style scoped>\n",
       "    .dataframe tbody tr th:only-of-type {\n",
       "        vertical-align: middle;\n",
       "    }\n",
       "\n",
       "    .dataframe tbody tr th {\n",
       "        vertical-align: top;\n",
       "    }\n",
       "\n",
       "    .dataframe thead th {\n",
       "        text-align: right;\n",
       "    }\n",
       "</style>\n",
       "<table border=\"1\" class=\"dataframe\">\n",
       "  <thead>\n",
       "    <tr style=\"text-align: right;\">\n",
       "      <th></th>\n",
       "      <th>customersummary_mastercustomerid</th>\n",
       "      <th>customersummary_emailhash</th>\n",
       "      <th>customer_id_hashed</th>\n",
       "      <th>execution_id</th>\n",
       "      <th>week</th>\n",
       "      <th>campaign_list</th>\n",
       "    </tr>\n",
       "  </thead>\n",
       "  <tbody>\n",
       "    <tr>\n",
       "      <th>0</th>\n",
       "      <td>KFK_0_8017815</td>\n",
       "      <td>ad5f11c041c89839c09204f9ce34f5d97ea8ddaa81f1f0...</td>\n",
       "      <td>83228bfe2f6d62bb0218751ceb63aa8551e9fd89a999f1...</td>\n",
       "      <td>1578944138509</td>\n",
       "      <td>Nonshopper_W1, Nonshopper_W2, Nonshopper_W4, N...</td>\n",
       "      <td>[Nonshopper_W1,  Nonshopper_W2,  Nonshopper_W4...</td>\n",
       "    </tr>\n",
       "    <tr>\n",
       "      <th>1</th>\n",
       "      <td>KFK_0_39127329</td>\n",
       "      <td>f3bc025a0bb51d1b097ea5a956357114a7948145fdd506...</td>\n",
       "      <td>68d99d05642aef443fe7f99c278f971619dd50fbcfa0c3...</td>\n",
       "      <td>1578944138509</td>\n",
       "      <td>NaN</td>\n",
       "      <td>NaN</td>\n",
       "    </tr>\n",
       "  </tbody>\n",
       "</table>\n",
       "</div>"
      ],
      "text/plain": [
       "  customersummary_mastercustomerid  \\\n",
       "0                    KFK_0_8017815   \n",
       "1                   KFK_0_39127329   \n",
       "\n",
       "                           customersummary_emailhash  \\\n",
       "0  ad5f11c041c89839c09204f9ce34f5d97ea8ddaa81f1f0...   \n",
       "1  f3bc025a0bb51d1b097ea5a956357114a7948145fdd506...   \n",
       "\n",
       "                                  customer_id_hashed   execution_id  \\\n",
       "0  83228bfe2f6d62bb0218751ceb63aa8551e9fd89a999f1...  1578944138509   \n",
       "1  68d99d05642aef443fe7f99c278f971619dd50fbcfa0c3...  1578944138509   \n",
       "\n",
       "                                                week  \\\n",
       "0  Nonshopper_W1, Nonshopper_W2, Nonshopper_W4, N...   \n",
       "1                                                NaN   \n",
       "\n",
       "                                       campaign_list  \n",
       "0  [Nonshopper_W1,  Nonshopper_W2,  Nonshopper_W4...  \n",
       "1                                                NaN  "
      ]
     },
     "execution_count": 13,
     "metadata": {},
     "output_type": "execute_result"
    }
   ],
   "source": [
    "# QC purpose only\n",
    "\n",
    "df_recevied_AgilOne=pd.read_csv(\"/home/jian/BigLots/AgilOne/Division_9_Browse_BigLots_20200113073732.csv\",dtype=str)\n",
    "df_recevied_AgilOne=df_recevied_AgilOne.rename(columns={\"customersummary_c_primaryscnhash\":\"customer_id_hashed\"})\n",
    "df_recevied_AgilOne=pd.merge(df_recevied_AgilOne,df_overlapped_ids,on=\"customer_id_hashed\",how=\"left\")\n",
    "print(df_recevied_AgilOne[pd.notnull(df_recevied_AgilOne['week'])].shape)\n",
    "df_recevied_AgilOne.head(2)"
   ]
  },
  {
   "cell_type": "code",
   "execution_count": 14,
   "metadata": {},
   "outputs": [],
   "source": [
    "df_sales_by_day_1=pd.read_table(\"/home/jian/BigLots/2020_by_weeks/MediaStorm_2020-01-18/MediaStormDailySales20200121-111749-649.txt\",\n",
    "                                sep=\"|\",dtype=str)\n",
    "df_sales_by_day_2=pd.read_table(\"/home/jian/BigLots/2020_by_weeks/MediaStorm_2020-01-25/MediaStormDailySales20200128-111758-074.txt\",\n",
    "                                sep=\"|\",dtype=str)\n",
    "df_sales_by_day=df_sales_by_day_1.append(df_sales_by_day_2)\n",
    "\n",
    "del df_sales_by_day_1\n",
    "del df_sales_by_day_2\n",
    "\n",
    "df_group=df_group[['customer_id_hashed','group','DCart_Type_all','DCart_Type_2020']]"
   ]
  },
  {
   "cell_type": "code",
   "execution_count": 15,
   "metadata": {},
   "outputs": [],
   "source": [
    "df_sales_by_day['item_transaction_amt']=df_sales_by_day['item_transaction_amt'].astype(float)\n",
    "df_sales_by_day=df_sales_by_day[pd.notnull(df_sales_by_day['customer_id_hashed'])]\n",
    "df_sales_by_day=pd.merge(df_sales_by_day,df_group,on=\"customer_id_hashed\",how=\"left\")\n",
    "df_sales_by_day['group']=df_sales_by_day['group'].fillna('others')\n",
    "df_sales_by_day['DCart_Type_all']=df_sales_by_day['DCart_Type_all'].fillna('others')\n",
    "df_sales_by_day['DCart_Type_2020']=df_sales_by_day['DCart_Type_2020'].fillna('others')\n",
    "\n"
   ]
  },
  {
   "cell_type": "code",
   "execution_count": 16,
   "metadata": {},
   "outputs": [],
   "source": [
    "df_taxonomy_div=pd.read_table(\"/home/jian/BigLots/static_files/ProductTaxonomy/MediaStormProductTaxonomy20200101-135600-916.txt\",dtype=str,sep=\"|\")\n",
    "df_taxonomy_div=df_taxonomy_div[['division_id','department_id','class_code_id','subclass_id']].drop_duplicates()\n",
    "\n",
    "df_sales_by_day=pd.merge(df_sales_by_day,df_taxonomy_div,on=['class_code_id','subclass_id'],how=\"left\")\n",
    "# df_sales_by_day['store_type']=np.where(df_sales_by_day['location_id']==\"6990\",\"online\",\"instore\")"
   ]
  },
  {
   "cell_type": "code",
   "execution_count": 17,
   "metadata": {},
   "outputs": [
    {
     "name": "stdout",
     "output_type": "stream",
     "text": [
      "(39, 10)\n",
      "(39, 2)\n"
     ]
    },
    {
     "data": {
      "text/html": [
       "<div>\n",
       "<style scoped>\n",
       "    .dataframe tbody tr th:only-of-type {\n",
       "        vertical-align: middle;\n",
       "    }\n",
       "\n",
       "    .dataframe tbody tr th {\n",
       "        vertical-align: top;\n",
       "    }\n",
       "\n",
       "    .dataframe thead th {\n",
       "        text-align: right;\n",
       "    }\n",
       "</style>\n",
       "<table border=\"1\" class=\"dataframe\">\n",
       "  <thead>\n",
       "    <tr style=\"text-align: right;\">\n",
       "      <th></th>\n",
       "      <th>item_id</th>\n",
       "    </tr>\n",
       "    <tr>\n",
       "      <th>product_type</th>\n",
       "      <th></th>\n",
       "    </tr>\n",
       "  </thead>\n",
       "  <tbody>\n",
       "    <tr>\n",
       "      <th>BroyhillFurniture</th>\n",
       "      <td>22</td>\n",
       "    </tr>\n",
       "    <tr>\n",
       "      <th>Gazebos</th>\n",
       "      <td>4</td>\n",
       "    </tr>\n",
       "    <tr>\n",
       "      <th>Patio</th>\n",
       "      <td>13</td>\n",
       "    </tr>\n",
       "  </tbody>\n",
       "</table>\n",
       "</div>"
      ],
      "text/plain": [
       "                   item_id\n",
       "product_type              \n",
       "BroyhillFurniture       22\n",
       "Gazebos                  4\n",
       "Patio                   13"
      ]
     },
     "execution_count": 17,
     "metadata": {},
     "output_type": "execute_result"
    }
   ],
   "source": [
    "df_product_selected=pd.read_excel(\"/home/jian/Projects/Big_Lots/Analysis/2019_Q4/Segment_Broyhill/Bryohill SKU List_and_2classes_20200116.xlsx\",\n",
    "                                 sheet_name=\"selected_items\",dtype=str)\n",
    "print(df_product_selected.shape)\n",
    "df_product_selected=df_product_selected.rename(columns={\"Item\":\"item_id\"})\n",
    "df_product_selected['product_type']=np.where(df_product_selected['Division']==\"9\",\"BroyhillFurniture\",\n",
    "                                            df_product_selected['Class'])\n",
    "df_product_selected['product_type']=df_product_selected['product_type'].replace(\"21012\",\"Patio\")\n",
    "df_product_selected['product_type']=df_product_selected['product_type'].replace(\"21034\",\"Gazebos\")\n",
    "df_product_selected=df_product_selected[df_product_selected['product_type'].isin(['BroyhillFurniture','Patio','Gazebos'])]\n",
    "\n",
    "df_product_selected=df_product_selected[['product_type','item_id']]\n",
    "print(df_product_selected.shape)\n",
    "df_product_selected.groupby(\"product_type\")['item_id'].count().to_frame()"
   ]
  },
  {
   "cell_type": "code",
   "execution_count": 18,
   "metadata": {},
   "outputs": [
    {
     "data": {
      "text/html": [
       "<div>\n",
       "<style scoped>\n",
       "    .dataframe tbody tr th:only-of-type {\n",
       "        vertical-align: middle;\n",
       "    }\n",
       "\n",
       "    .dataframe tbody tr th {\n",
       "        vertical-align: top;\n",
       "    }\n",
       "\n",
       "    .dataframe thead th {\n",
       "        text-align: right;\n",
       "    }\n",
       "</style>\n",
       "<table border=\"1\" class=\"dataframe\">\n",
       "  <thead>\n",
       "    <tr style=\"text-align: right;\">\n",
       "      <th></th>\n",
       "      <th>product_type</th>\n",
       "      <th>item_id</th>\n",
       "    </tr>\n",
       "  </thead>\n",
       "  <tbody>\n",
       "    <tr>\n",
       "      <th>0</th>\n",
       "      <td>Patio</td>\n",
       "      <td>810453820</td>\n",
       "    </tr>\n",
       "    <tr>\n",
       "      <th>1</th>\n",
       "      <td>Patio</td>\n",
       "      <td>810453869</td>\n",
       "    </tr>\n",
       "  </tbody>\n",
       "</table>\n",
       "</div>"
      ],
      "text/plain": [
       "  product_type    item_id\n",
       "0        Patio  810453820\n",
       "1        Patio  810453869"
      ]
     },
     "execution_count": 18,
     "metadata": {},
     "output_type": "execute_result"
    }
   ],
   "source": [
    "df_product_selected.head(2)"
   ]
  },
  {
   "cell_type": "code",
   "execution_count": 19,
   "metadata": {},
   "outputs": [
    {
     "data": {
      "text/plain": [
       "array(['others', 'NotDCart_but_AgilOne', 'OverlapWithDCart',\n",
       "       'Not_DCart_Not_Agile'], dtype=object)"
      ]
     },
     "execution_count": 19,
     "metadata": {},
     "output_type": "execute_result"
    }
   ],
   "source": [
    "df_sales_by_day['DCart_Type_all'].unique()"
   ]
  },
  {
   "cell_type": "code",
   "execution_count": 20,
   "metadata": {},
   "outputs": [
    {
     "data": {
      "text/plain": [
       "array(['others', 'NotDCart_but_AgilOne', 'Not_DCart2020',\n",
       "       'NotDCart_NotAgil', 'In_DCart2020'], dtype=object)"
      ]
     },
     "execution_count": 20,
     "metadata": {},
     "output_type": "execute_result"
    }
   ],
   "source": [
    "df_sales_by_day['DCart_Type_2020'].unique()"
   ]
  },
  {
   "cell_type": "code",
   "execution_count": 21,
   "metadata": {},
   "outputs": [
    {
     "data": {
      "text/html": [
       "<div>\n",
       "<style scoped>\n",
       "    .dataframe tbody tr th:only-of-type {\n",
       "        vertical-align: middle;\n",
       "    }\n",
       "\n",
       "    .dataframe tbody tr th {\n",
       "        vertical-align: top;\n",
       "    }\n",
       "\n",
       "    .dataframe thead th {\n",
       "        text-align: right;\n",
       "    }\n",
       "</style>\n",
       "<table border=\"1\" class=\"dataframe\">\n",
       "  <thead>\n",
       "    <tr style=\"text-align: right;\">\n",
       "      <th></th>\n",
       "      <th>department_id</th>\n",
       "      <th>department_desc</th>\n",
       "    </tr>\n",
       "  </thead>\n",
       "  <tbody>\n",
       "    <tr>\n",
       "      <th>64</th>\n",
       "      <td>615</td>\n",
       "      <td>MATTRESSES</td>\n",
       "    </tr>\n",
       "  </tbody>\n",
       "</table>\n",
       "</div>"
      ],
      "text/plain": [
       "   department_id department_desc\n",
       "64           615      MATTRESSES"
      ]
     },
     "execution_count": 21,
     "metadata": {},
     "output_type": "execute_result"
    }
   ],
   "source": [
    "df_mattress=pd.read_table(\"/home/jian/BigLots/static_files/MediaStorm Data Extract - Department Names.txt\",\n",
    "                          dtype=str,sep=\"|\")\n",
    "df_mattress[df_mattress['department_desc'].apply(lambda x: \"mattress\" in x.lower())]"
   ]
  },
  {
   "cell_type": "code",
   "execution_count": 22,
   "metadata": {},
   "outputs": [
    {
     "data": {
      "text/html": [
       "<div>\n",
       "<style scoped>\n",
       "    .dataframe tbody tr th:only-of-type {\n",
       "        vertical-align: middle;\n",
       "    }\n",
       "\n",
       "    .dataframe tbody tr th {\n",
       "        vertical-align: top;\n",
       "    }\n",
       "\n",
       "    .dataframe thead th {\n",
       "        text-align: right;\n",
       "    }\n",
       "</style>\n",
       "<table border=\"1\" class=\"dataframe\">\n",
       "  <thead>\n",
       "    <tr style=\"text-align: right;\">\n",
       "      <th></th>\n",
       "      <th>location_id</th>\n",
       "      <th>transaction_dt</th>\n",
       "      <th>transaction_id</th>\n",
       "      <th>customer_id_hashed</th>\n",
       "      <th>class_code_id</th>\n",
       "      <th>subclass_id</th>\n",
       "      <th>item_id</th>\n",
       "      <th>item_transaction_units</th>\n",
       "      <th>item_transaction_amt</th>\n",
       "      <th>group</th>\n",
       "      <th>DCart_Type_all</th>\n",
       "      <th>DCart_Type_2020</th>\n",
       "      <th>division_id</th>\n",
       "      <th>department_id</th>\n",
       "    </tr>\n",
       "  </thead>\n",
       "  <tbody>\n",
       "    <tr>\n",
       "      <th>0</th>\n",
       "      <td>1027</td>\n",
       "      <td>2020-01-18</td>\n",
       "      <td>2108</td>\n",
       "      <td>51cc9db6c31bf222baea4e50b9a6b1be2c7c4ec833bcfe...</td>\n",
       "      <td>14001</td>\n",
       "      <td>1</td>\n",
       "      <td>140008972</td>\n",
       "      <td>1</td>\n",
       "      <td>1.6</td>\n",
       "      <td>others</td>\n",
       "      <td>others</td>\n",
       "      <td>others</td>\n",
       "      <td>2</td>\n",
       "      <td>140</td>\n",
       "    </tr>\n",
       "    <tr>\n",
       "      <th>1</th>\n",
       "      <td>5269</td>\n",
       "      <td>2020-01-18</td>\n",
       "      <td>7147</td>\n",
       "      <td>3fb7f19d961a20055d0fb89d584bd36b35f26c56e29e32...</td>\n",
       "      <td>12007</td>\n",
       "      <td>4</td>\n",
       "      <td>810358789</td>\n",
       "      <td>1</td>\n",
       "      <td>2.8</td>\n",
       "      <td>others</td>\n",
       "      <td>others</td>\n",
       "      <td>others</td>\n",
       "      <td>2</td>\n",
       "      <td>120</td>\n",
       "    </tr>\n",
       "  </tbody>\n",
       "</table>\n",
       "</div>"
      ],
      "text/plain": [
       "  location_id transaction_dt transaction_id  \\\n",
       "0        1027     2020-01-18           2108   \n",
       "1        5269     2020-01-18           7147   \n",
       "\n",
       "                                  customer_id_hashed class_code_id  \\\n",
       "0  51cc9db6c31bf222baea4e50b9a6b1be2c7c4ec833bcfe...         14001   \n",
       "1  3fb7f19d961a20055d0fb89d584bd36b35f26c56e29e32...         12007   \n",
       "\n",
       "  subclass_id    item_id item_transaction_units  item_transaction_amt   group  \\\n",
       "0           1  140008972                      1                   1.6  others   \n",
       "1           4  810358789                      1                   2.8  others   \n",
       "\n",
       "  DCart_Type_all DCart_Type_2020 division_id department_id  \n",
       "0         others          others           2           140  \n",
       "1         others          others           2           120  "
      ]
     },
     "execution_count": 22,
     "metadata": {},
     "output_type": "execute_result"
    }
   ],
   "source": [
    "df_sales_by_day.head(2)"
   ]
  },
  {
   "cell_type": "code",
   "execution_count": 23,
   "metadata": {},
   "outputs": [
    {
     "data": {
      "text/plain": [
       "array(['9'], dtype=object)"
      ]
     },
     "execution_count": 23,
     "metadata": {},
     "output_type": "execute_result"
    }
   ],
   "source": [
    "df_taxonomy_div[df_taxonomy_div['department_id']==\"615\"]['division_id'].unique()"
   ]
  },
  {
   "cell_type": "code",
   "execution_count": 24,
   "metadata": {},
   "outputs": [],
   "source": [
    "df_sales_by_day=pd.merge(df_sales_by_day,df_product_selected,on=\"item_id\",how=\"left\")\n",
    "df_sales_by_day['division_id']=np.where(((df_sales_by_day['division_id']==\"9\") & pd.notnull(df_sales_by_day['product_type'])),\"9-Broyhill\",\n",
    "                                        \n",
    "                                        np.where(df_sales_by_day['department_id']==\"615\",\"9-Mattress\",\n",
    "                                                 \n",
    "                                                 np.where(df_sales_by_day['division_id']==\"9\",\"9-Others\",df_sales_by_day['division_id']\n",
    "                                                         )\n",
    "                                                )                                       \n",
    "                                       )\n",
    "\n",
    "list_9_div_added_values=['9-Broyhill','9-Mattress','9-Others']"
   ]
  },
  {
   "cell_type": "code",
   "execution_count": 25,
   "metadata": {},
   "outputs": [],
   "source": [
    "df_sales_by_day['division_number']=df_sales_by_day['division_id'].apply(lambda x: x.split(\"-\")[0])"
   ]
  },
  {
   "cell_type": "code",
   "execution_count": 26,
   "metadata": {},
   "outputs": [
    {
     "data": {
      "text/plain": [
       "array(['2', '4', '9', '1', '3', '6', '5', '10'], dtype=object)"
      ]
     },
     "execution_count": 26,
     "metadata": {},
     "output_type": "execute_result"
    }
   ],
   "source": [
    "df_sales_by_day['division_number'].unique()"
   ]
  },
  {
   "cell_type": "code",
   "execution_count": 27,
   "metadata": {},
   "outputs": [
    {
     "data": {
      "text/plain": [
       "array(['2', '4', '9-Mattress', '1', '3', '6', '5', '9-Others', '10',\n",
       "       '9-Broyhill'], dtype=object)"
      ]
     },
     "execution_count": 27,
     "metadata": {},
     "output_type": "execute_result"
    }
   ],
   "source": [
    "df_sales_by_day['division_id'].unique()"
   ]
  },
  {
   "cell_type": "markdown",
   "metadata": {},
   "source": [
    "# By_Day, Overall DCartOverlap"
   ]
  },
  {
   "cell_type": "code",
   "execution_count": 28,
   "metadata": {},
   "outputs": [],
   "source": [
    "agg_fun={\"customer_id_hashed\":\"nunique\",\"item_transaction_amt\":\"sum\"}\n",
    "df_total_sales=df_sales_by_day.groupby(['transaction_dt','group','DCart_Type_all'])['customer_id_hashed','item_transaction_amt'].agg(agg_fun).reset_index()\n",
    "df_total_trans=df_sales_by_day[['group','DCart_Type_all','location_id','transaction_dt','transaction_id','customer_id_hashed']].drop_duplicates()\n",
    "df_total_trans['trans']=1\n",
    "df_total_trans=df_total_trans.groupby(['transaction_dt','DCart_Type_all','group'])['trans'].sum().to_frame().reset_index()\n",
    "df_total=pd.merge(df_total_sales,df_total_trans,on=['transaction_dt','DCart_Type_all','group'],how=\"outer\")\n",
    "df_total=df_total.rename(columns={\"customer_id_hashed\":\"total_shoppers\",\"item_transaction_amt\":\"total_sales\",\"trans\":\"total_trans\"})\n",
    "df_total['total_AOV']=df_total['total_sales']/df_total['total_trans']\n",
    "\n",
    "df_division_sales=df_sales_by_day.groupby(['transaction_dt','group','DCart_Type_all','division_id'])['customer_id_hashed','item_transaction_amt'].agg(agg_fun).reset_index()\n",
    "df_division_trans=df_sales_by_day[['group','DCart_Type_all','location_id','transaction_dt','transaction_id','customer_id_hashed','division_id']].drop_duplicates()\n",
    "df_division_trans['trans']=1\n",
    "df_division_trans=df_division_trans.groupby(['transaction_dt','DCart_Type_all','group','division_id'])['trans'].sum().to_frame().reset_index()\n"
   ]
  },
  {
   "cell_type": "code",
   "execution_count": 29,
   "metadata": {},
   "outputs": [],
   "source": [
    "df_division=pd.merge(df_division_sales,df_division_trans,on=['transaction_dt','DCart_Type_all','group','division_id'],how=\"outer\")\n",
    "df_division['AOV']=df_division['item_transaction_amt']/df_division['trans']\n",
    "df_division=df_division.rename(columns={\"customer_id_hashed\":\"division_shoppers\",\"item_transaction_amt\":\"division_sales\",\"trans\":\"division_trans\",\"AOV\":\"division_AOV\"})\n",
    "\n",
    "df_division=df_division.pivot_table(index=['transaction_dt','DCart_Type_all','group'],columns='division_id',values=['division_shoppers','division_sales','division_trans',\"division_AOV\"]).reset_index()\n",
    "\n",
    "new_cols=[]\n",
    "for col in df_division.columns.tolist():\n",
    "    if not col[1]:\n",
    "        new_cols.append(col[0])\n",
    "    else:\n",
    "        new_cols.append(\"division_\"+col[1]+\"_\"+col[0].split(\"_\")[1])\n",
    "df_division.columns=new_cols\n",
    "\n",
    "new_cols=['transaction_dt','group','DCart_Type_all']\n",
    "for i in range(10):\n",
    "    new_cols.append(\"division_\"+str(i)+\"_shoppers\")\n",
    "    new_cols.append(\"division_\"+str(i)+\"_sales\")\n",
    "    new_cols.append(\"division_\"+str(i)+\"_trans\")\n",
    "    new_cols.append(\"division_\"+str(i)+\"_AOV\")\n",
    "for p in list_9_div_added_values:\n",
    "    new_cols.append(\"division_\"+p+\"_shoppers\")\n",
    "    new_cols.append(\"division_\"+p+\"_sales\")\n",
    "    new_cols.append(\"division_\"+p+\"_trans\")\n",
    "    new_cols.append(\"division_\"+p+\"_AOV\")\n",
    "new_cols=[x for x in new_cols if x in df_division.columns.tolist()]    \n",
    "df_division=df_division[new_cols]"
   ]
  },
  {
   "cell_type": "code",
   "execution_count": 30,
   "metadata": {},
   "outputs": [
    {
     "data": {
      "text/plain": [
       "(84, 7)"
      ]
     },
     "execution_count": 30,
     "metadata": {},
     "output_type": "execute_result"
    }
   ],
   "source": [
    "# division 9 total\n",
    "\n",
    "df_sales_by_day_div_9=df_sales_by_day[df_sales_by_day['division_number']==\"9\"]\n",
    "df_division_sales=df_sales_by_day_div_9.groupby(['transaction_dt','group','DCart_Type_all','division_number'])['customer_id_hashed','item_transaction_amt'].agg(agg_fun).reset_index()\n",
    "\n",
    "df_division_trans=df_sales_by_day_div_9[['group','DCart_Type_all','location_id','transaction_dt','transaction_id','customer_id_hashed','division_number']].drop_duplicates()\n",
    "df_division_trans['trans']=1\n",
    "df_division_trans=df_division_trans.groupby(['transaction_dt','DCart_Type_all','group','division_number'])['trans'].sum().to_frame().reset_index()\n",
    "\n",
    "df_division_9=pd.merge(df_division_sales,df_division_trans,on=['transaction_dt','DCart_Type_all','group','division_number'],how=\"outer\")\n",
    "df_division_9['AOV']=df_division_9['item_transaction_amt']/df_division_9['trans']\n",
    "df_division_9=df_division_9.rename(columns={\"customer_id_hashed\":\"division_shoppers\",\"item_transaction_amt\":\"division_sales\",\"trans\":\"division_trans\",\"AOV\":\"division_AOV\"})\n",
    "\n",
    "df_division_9=df_division_9.pivot_table(index=['transaction_dt','DCart_Type_all','group'],columns='division_number',values=['division_shoppers','division_sales','division_trans',\"division_AOV\"]).reset_index()\n",
    "df_division_9=df_division_9.reset_index()\n",
    "del df_division_9['index']\n",
    "\n",
    "new_cols=[]\n",
    "for col in df_division_9.columns.tolist():\n",
    "    if not col[1]:\n",
    "        new_cols.append(col[0])\n",
    "    else:\n",
    "        new_cols.append(\"division_\"+col[1]+\"_\"+col[0].split(\"_\")[1])\n",
    "df_division_9.columns=new_cols\n",
    "\n",
    "df_division_9.shape"
   ]
  },
  {
   "cell_type": "code",
   "execution_count": 31,
   "metadata": {},
   "outputs": [],
   "source": [
    "pd.options.display.max_columns=99\n",
    "\n",
    "df_output_overall_dcart=pd.merge(df_total,df_division,on=['transaction_dt','group','DCart_Type_all'],how=\"outer\")\n",
    "df_output_overall_dcart=pd.merge(df_output_overall_dcart,df_division_9,on=['transaction_dt','group','DCart_Type_all'],how=\"outer\")\n",
    "\n",
    "df_output_overall_dcart=pd.merge(df_total_id_overall,df_output_overall_dcart,on=[\"group\",'DCart_Type_all'],how=\"outer\")\n",
    "df_output_overall_dcart=df_output_overall_dcart.sort_values([\"transaction_dt\",\"group\",'DCart_Type_all'])\n"
   ]
  },
  {
   "cell_type": "code",
   "execution_count": 32,
   "metadata": {},
   "outputs": [
    {
     "data": {
      "text/html": [
       "<div>\n",
       "<style scoped>\n",
       "    .dataframe tbody tr th:only-of-type {\n",
       "        vertical-align: middle;\n",
       "    }\n",
       "\n",
       "    .dataframe tbody tr th {\n",
       "        vertical-align: top;\n",
       "    }\n",
       "\n",
       "    .dataframe thead th {\n",
       "        text-align: right;\n",
       "    }\n",
       "</style>\n",
       "<table border=\"1\" class=\"dataframe\">\n",
       "  <thead>\n",
       "    <tr style=\"text-align: right;\">\n",
       "      <th></th>\n",
       "      <th>group</th>\n",
       "      <th>DCart_Type_all</th>\n",
       "      <th>customer_id_hashed</th>\n",
       "      <th>transaction_dt</th>\n",
       "      <th>total_shoppers</th>\n",
       "      <th>total_sales</th>\n",
       "      <th>total_trans</th>\n",
       "      <th>total_AOV</th>\n",
       "      <th>division_1_shoppers</th>\n",
       "      <th>division_1_sales</th>\n",
       "      <th>division_1_trans</th>\n",
       "      <th>division_1_AOV</th>\n",
       "      <th>division_2_shoppers</th>\n",
       "      <th>division_2_sales</th>\n",
       "      <th>division_2_trans</th>\n",
       "      <th>division_2_AOV</th>\n",
       "      <th>division_3_shoppers</th>\n",
       "      <th>division_3_sales</th>\n",
       "      <th>division_3_trans</th>\n",
       "      <th>division_3_AOV</th>\n",
       "      <th>division_4_shoppers</th>\n",
       "      <th>division_4_sales</th>\n",
       "      <th>division_4_trans</th>\n",
       "      <th>division_4_AOV</th>\n",
       "      <th>division_5_shoppers</th>\n",
       "      <th>division_5_sales</th>\n",
       "      <th>division_5_trans</th>\n",
       "      <th>division_5_AOV</th>\n",
       "      <th>division_6_shoppers</th>\n",
       "      <th>division_6_sales</th>\n",
       "      <th>division_6_trans</th>\n",
       "      <th>division_6_AOV</th>\n",
       "      <th>division_9-Broyhill_shoppers</th>\n",
       "      <th>division_9-Broyhill_sales</th>\n",
       "      <th>division_9-Broyhill_trans</th>\n",
       "      <th>division_9-Broyhill_AOV</th>\n",
       "      <th>division_9-Mattress_shoppers</th>\n",
       "      <th>division_9-Mattress_sales</th>\n",
       "      <th>division_9-Mattress_trans</th>\n",
       "      <th>division_9-Mattress_AOV</th>\n",
       "      <th>division_9-Others_shoppers</th>\n",
       "      <th>division_9-Others_sales</th>\n",
       "      <th>division_9-Others_trans</th>\n",
       "      <th>division_9-Others_AOV</th>\n",
       "      <th>division_9_AOV</th>\n",
       "      <th>division_9_sales</th>\n",
       "      <th>division_9_shoppers</th>\n",
       "      <th>division_9_trans</th>\n",
       "    </tr>\n",
       "  </thead>\n",
       "  <tbody>\n",
       "    <tr>\n",
       "      <th>0</th>\n",
       "      <td>Q4_control</td>\n",
       "      <td>Not_DCart_Not_Agile</td>\n",
       "      <td>541818.0</td>\n",
       "      <td>2020-01-12</td>\n",
       "      <td>3577</td>\n",
       "      <td>139746.19</td>\n",
       "      <td>4010</td>\n",
       "      <td>34.849424</td>\n",
       "      <td>2291.0</td>\n",
       "      <td>25284.25</td>\n",
       "      <td>2444.0</td>\n",
       "      <td>10.345438</td>\n",
       "      <td>2087.0</td>\n",
       "      <td>28649.83</td>\n",
       "      <td>2194.0</td>\n",
       "      <td>13.058263</td>\n",
       "      <td>689.0</td>\n",
       "      <td>11428.08</td>\n",
       "      <td>719.0</td>\n",
       "      <td>15.894409</td>\n",
       "      <td>1219.0</td>\n",
       "      <td>27226.52</td>\n",
       "      <td>1284.0</td>\n",
       "      <td>21.204455</td>\n",
       "      <td>779.0</td>\n",
       "      <td>10251.75</td>\n",
       "      <td>809.0</td>\n",
       "      <td>12.672126</td>\n",
       "      <td>663.0</td>\n",
       "      <td>7427.09</td>\n",
       "      <td>696.0</td>\n",
       "      <td>10.671106</td>\n",
       "      <td>7.0</td>\n",
       "      <td>5150.04</td>\n",
       "      <td>7.0</td>\n",
       "      <td>735.720</td>\n",
       "      <td>23.0</td>\n",
       "      <td>5496.86</td>\n",
       "      <td>23.0</td>\n",
       "      <td>238.993913</td>\n",
       "      <td>127.0</td>\n",
       "      <td>18747.9</td>\n",
       "      <td>136.0</td>\n",
       "      <td>137.852206</td>\n",
       "      <td>183.717500</td>\n",
       "      <td>29394.80</td>\n",
       "      <td>151</td>\n",
       "      <td>160</td>\n",
       "    </tr>\n",
       "    <tr>\n",
       "      <th>14</th>\n",
       "      <td>furnitur_test</td>\n",
       "      <td>NotDCart_but_AgilOne</td>\n",
       "      <td>354739.0</td>\n",
       "      <td>2020-01-12</td>\n",
       "      <td>3341</td>\n",
       "      <td>307490.65</td>\n",
       "      <td>3920</td>\n",
       "      <td>78.441492</td>\n",
       "      <td>1899.0</td>\n",
       "      <td>20175.33</td>\n",
       "      <td>2031.0</td>\n",
       "      <td>9.933693</td>\n",
       "      <td>1689.0</td>\n",
       "      <td>23078.51</td>\n",
       "      <td>1774.0</td>\n",
       "      <td>13.009307</td>\n",
       "      <td>673.0</td>\n",
       "      <td>12422.52</td>\n",
       "      <td>706.0</td>\n",
       "      <td>17.595637</td>\n",
       "      <td>1455.0</td>\n",
       "      <td>45255.52</td>\n",
       "      <td>1577.0</td>\n",
       "      <td>28.697223</td>\n",
       "      <td>808.0</td>\n",
       "      <td>12490.48</td>\n",
       "      <td>849.0</td>\n",
       "      <td>14.711991</td>\n",
       "      <td>577.0</td>\n",
       "      <td>7511.56</td>\n",
       "      <td>606.0</td>\n",
       "      <td>12.395314</td>\n",
       "      <td>18.0</td>\n",
       "      <td>11679.93</td>\n",
       "      <td>18.0</td>\n",
       "      <td>648.885</td>\n",
       "      <td>152.0</td>\n",
       "      <td>50037.96</td>\n",
       "      <td>165.0</td>\n",
       "      <td>303.260364</td>\n",
       "      <td>413.0</td>\n",
       "      <td>124797.2</td>\n",
       "      <td>471.0</td>\n",
       "      <td>264.962208</td>\n",
       "      <td>309.311924</td>\n",
       "      <td>186515.09</td>\n",
       "      <td>529</td>\n",
       "      <td>603</td>\n",
       "    </tr>\n",
       "  </tbody>\n",
       "</table>\n",
       "</div>"
      ],
      "text/plain": [
       "            group        DCart_Type_all  customer_id_hashed transaction_dt  \\\n",
       "0      Q4_control   Not_DCart_Not_Agile            541818.0     2020-01-12   \n",
       "14  furnitur_test  NotDCart_but_AgilOne            354739.0     2020-01-12   \n",
       "\n",
       "    total_shoppers  total_sales  total_trans  total_AOV  division_1_shoppers  \\\n",
       "0             3577    139746.19         4010  34.849424               2291.0   \n",
       "14            3341    307490.65         3920  78.441492               1899.0   \n",
       "\n",
       "    division_1_sales  division_1_trans  division_1_AOV  division_2_shoppers  \\\n",
       "0           25284.25            2444.0       10.345438               2087.0   \n",
       "14          20175.33            2031.0        9.933693               1689.0   \n",
       "\n",
       "    division_2_sales  division_2_trans  division_2_AOV  division_3_shoppers  \\\n",
       "0           28649.83            2194.0       13.058263                689.0   \n",
       "14          23078.51            1774.0       13.009307                673.0   \n",
       "\n",
       "    division_3_sales  division_3_trans  division_3_AOV  division_4_shoppers  \\\n",
       "0           11428.08             719.0       15.894409               1219.0   \n",
       "14          12422.52             706.0       17.595637               1455.0   \n",
       "\n",
       "    division_4_sales  division_4_trans  division_4_AOV  division_5_shoppers  \\\n",
       "0           27226.52            1284.0       21.204455                779.0   \n",
       "14          45255.52            1577.0       28.697223                808.0   \n",
       "\n",
       "    division_5_sales  division_5_trans  division_5_AOV  division_6_shoppers  \\\n",
       "0           10251.75             809.0       12.672126                663.0   \n",
       "14          12490.48             849.0       14.711991                577.0   \n",
       "\n",
       "    division_6_sales  division_6_trans  division_6_AOV  \\\n",
       "0            7427.09             696.0       10.671106   \n",
       "14           7511.56             606.0       12.395314   \n",
       "\n",
       "    division_9-Broyhill_shoppers  division_9-Broyhill_sales  \\\n",
       "0                            7.0                    5150.04   \n",
       "14                          18.0                   11679.93   \n",
       "\n",
       "    division_9-Broyhill_trans  division_9-Broyhill_AOV  \\\n",
       "0                         7.0                  735.720   \n",
       "14                       18.0                  648.885   \n",
       "\n",
       "    division_9-Mattress_shoppers  division_9-Mattress_sales  \\\n",
       "0                           23.0                    5496.86   \n",
       "14                         152.0                   50037.96   \n",
       "\n",
       "    division_9-Mattress_trans  division_9-Mattress_AOV  \\\n",
       "0                        23.0               238.993913   \n",
       "14                      165.0               303.260364   \n",
       "\n",
       "    division_9-Others_shoppers  division_9-Others_sales  \\\n",
       "0                        127.0                  18747.9   \n",
       "14                       413.0                 124797.2   \n",
       "\n",
       "    division_9-Others_trans  division_9-Others_AOV  division_9_AOV  \\\n",
       "0                     136.0             137.852206      183.717500   \n",
       "14                    471.0             264.962208      309.311924   \n",
       "\n",
       "    division_9_sales  division_9_shoppers  division_9_trans  \n",
       "0           29394.80                  151               160  \n",
       "14         186515.09                  529               603  "
      ]
     },
     "execution_count": 32,
     "metadata": {},
     "output_type": "execute_result"
    }
   ],
   "source": [
    "df_output_overall_dcart.head(2)"
   ]
  },
  {
   "cell_type": "markdown",
   "metadata": {},
   "source": [
    "# Campaing_3_Days, Overall DCartOverlap"
   ]
  },
  {
   "cell_type": "code",
   "execution_count": 33,
   "metadata": {},
   "outputs": [],
   "source": [
    "df_sales_3_campaign_days=df_sales_by_day[df_sales_by_day['transaction_dt'].isin(['2020-01-18','2020-01-19','2020-01-20'])]\n",
    "df_sales_3_campaign_days=df_sales_3_campaign_days.rename(columns={\"transaction_dt\":\"date_kept_to_dedup\"})\n",
    "\n",
    "df_sales_3_campaign_days['transaction_dt']='total_3_days_Jan_18-20'\n",
    "\n",
    "df_total_sales=df_sales_3_campaign_days.groupby(['transaction_dt','group','DCart_Type_all'])['customer_id_hashed','item_transaction_amt'].agg(agg_fun).reset_index()\n",
    "df_total_trans=df_sales_3_campaign_days[['group','DCart_Type_all','location_id','transaction_dt','transaction_id','customer_id_hashed','date_kept_to_dedup']].drop_duplicates()\n",
    "df_total_trans['trans']=1\n",
    "df_total_trans=df_total_trans.groupby(['transaction_dt','group','DCart_Type_all'])['trans'].sum().to_frame().reset_index()\n",
    "df_total=pd.merge(df_total_sales,df_total_trans,on=['transaction_dt','group','DCart_Type_all'],how=\"outer\")\n",
    "df_total=df_total.rename(columns={\"customer_id_hashed\":\"total_shoppers\",\"item_transaction_amt\":\"total_sales\",\"trans\":\"total_trans\"})\n",
    "df_total['total_AOV']=df_total['total_sales']/df_total['total_trans']\n",
    "\n",
    "df_division_sales=df_sales_3_campaign_days.groupby(['transaction_dt','group','DCart_Type_all','division_id'])['customer_id_hashed','item_transaction_amt'].agg(agg_fun).reset_index()\n",
    "df_division_trans=df_sales_3_campaign_days[['group','DCart_Type_all','location_id','transaction_dt','transaction_id','customer_id_hashed','division_id','date_kept_to_dedup']].drop_duplicates()\n",
    "df_division_trans['trans']=1\n",
    "df_division_trans=df_division_trans.groupby(['transaction_dt','group','DCart_Type_all','division_id'])['trans'].sum().to_frame().reset_index()\n",
    "\n"
   ]
  },
  {
   "cell_type": "code",
   "execution_count": 34,
   "metadata": {},
   "outputs": [],
   "source": [
    "# 3 days overall\n",
    "\n",
    "df_division=pd.merge(df_division_sales,df_division_trans,on=['transaction_dt','group','DCart_Type_all','division_id'],how=\"outer\")\n",
    "df_division['AOV']=df_division['item_transaction_amt']/df_division['trans']\n",
    "df_division=df_division.rename(columns={\"customer_id_hashed\":\"division_shoppers\",\"item_transaction_amt\":\"division_sales\",\"trans\":\"division_trans\",\"AOV\":\"division_AOV\"})\n",
    "\n",
    "df_division=df_division.pivot_table(index=['transaction_dt','group','DCart_Type_all'],columns='division_id',values=['division_shoppers','division_sales','division_trans',\"division_AOV\"]).reset_index()\n",
    "\n",
    "new_cols=[]\n",
    "for col in df_division.columns.tolist():\n",
    "    if not col[1]:\n",
    "        new_cols.append(col[0])\n",
    "    else:\n",
    "        new_cols.append(\"division_\"+col[1]+\"_\"+col[0].split(\"_\")[1])\n",
    "df_division.columns=new_cols\n",
    "\n",
    "new_cols=['transaction_dt','group','DCart_Type_all']\n",
    "for i in range(10):\n",
    "    new_cols.append(\"division_\"+str(i)+\"_shoppers\")\n",
    "    new_cols.append(\"division_\"+str(i)+\"_sales\")\n",
    "    new_cols.append(\"division_\"+str(i)+\"_trans\")\n",
    "    new_cols.append(\"division_\"+str(i)+\"_AOV\")\n",
    "for p in list_9_div_added_values:\n",
    "    new_cols.append(\"division_\"+p+\"_shoppers\")\n",
    "    new_cols.append(\"division_\"+p+\"_sales\")\n",
    "    new_cols.append(\"division_\"+p+\"_trans\")\n",
    "    new_cols.append(\"division_\"+p+\"_AOV\")\n",
    "new_cols=[x for x in new_cols if x in df_division.columns.tolist()]    \n",
    "df_division=df_division[new_cols]"
   ]
  },
  {
   "cell_type": "code",
   "execution_count": 35,
   "metadata": {},
   "outputs": [
    {
     "data": {
      "text/plain": [
       "(6, 7)"
      ]
     },
     "execution_count": 35,
     "metadata": {},
     "output_type": "execute_result"
    }
   ],
   "source": [
    "# division 9 total\n",
    "\n",
    "df_sales_by_day_div_9=df_sales_3_campaign_days[df_sales_3_campaign_days['division_number']==\"9\"]\n",
    "df_division_sales=df_sales_by_day_div_9.groupby(['transaction_dt','group','DCart_Type_all','division_number'])['customer_id_hashed','item_transaction_amt'].agg(agg_fun).reset_index()\n",
    "\n",
    "df_division_trans=df_sales_by_day_div_9[['group','DCart_Type_all','location_id','transaction_dt','transaction_id','customer_id_hashed','division_number','date_kept_to_dedup']].drop_duplicates()\n",
    "df_division_trans['trans']=1\n",
    "df_division_trans=df_division_trans.groupby(['transaction_dt','DCart_Type_all','group','division_number'])['trans'].sum().to_frame().reset_index()\n",
    "\n",
    "df_division_9=pd.merge(df_division_sales,df_division_trans,on=['transaction_dt','DCart_Type_all','group','division_number'],how=\"outer\")\n",
    "df_division_9['AOV']=df_division_9['item_transaction_amt']/df_division_9['trans']\n",
    "df_division_9=df_division_9.rename(columns={\"customer_id_hashed\":\"division_shoppers\",\"item_transaction_amt\":\"division_sales\",\"trans\":\"division_trans\",\"AOV\":\"division_AOV\"})\n",
    "\n",
    "df_division_9=df_division_9.pivot_table(index=['transaction_dt','DCart_Type_all','group'],columns='division_number',values=['division_shoppers','division_sales','division_trans',\"division_AOV\"]).reset_index()\n",
    "df_division_9=df_division_9.reset_index()\n",
    "del df_division_9['index']\n",
    "\n",
    "new_cols=[]\n",
    "for col in df_division_9.columns.tolist():\n",
    "    if not col[1]:\n",
    "        new_cols.append(col[0])\n",
    "    else:\n",
    "        new_cols.append(\"division_\"+col[1]+\"_\"+col[0].split(\"_\")[1])\n",
    "df_division_9.columns=new_cols\n",
    "\n",
    "df_division_9.shape"
   ]
  },
  {
   "cell_type": "code",
   "execution_count": 36,
   "metadata": {},
   "outputs": [],
   "source": [
    "df_output_2=pd.merge(df_total,df_division,on=['transaction_dt','group','DCart_Type_all'],how=\"outer\")\n",
    "df_output_2=pd.merge(df_output_2,df_division_9,on=['transaction_dt','group','DCart_Type_all'],how=\"outer\")\n",
    "\n",
    "\n",
    "df_output_2=pd.merge(df_total_id_overall,df_output_2,on=[\"group\",'DCart_Type_all'],how=\"outer\")\n",
    "df_output_2=df_output_2.sort_values([\"transaction_dt\",\"group\",'DCart_Type_all'])\n",
    "\n",
    "df_output_overall_dcart=df_output_overall_dcart.append(df_output_2)"
   ]
  },
  {
   "cell_type": "code",
   "execution_count": 37,
   "metadata": {},
   "outputs": [
    {
     "data": {
      "text/plain": [
       "'\\ndf_division_name=pd.read_table(\"/home/jian/BigLots/static_files/MediaStorm Data Extract - Division Names.txt\",sep=\"|\")\\n\\nwriter=pd.ExcelWriter(\"./BL_performance_of_furniture_browser_groups_updated_3_Campaign_days_and_DCartOverlap_JL_\"+str(datetime.datetime.now().date())+\".xlsx\",engine=\"xlsxwriter\")\\ndf_output.to_excel(writer,\"view_no_store_type\",index=False)\\ndf_division_name.to_excel(writer,\"divison_name\",index=False)\\nwriter.save()\\n'"
      ]
     },
     "execution_count": 37,
     "metadata": {},
     "output_type": "execute_result"
    }
   ],
   "source": [
    "'''\n",
    "df_division_name=pd.read_table(\"/home/jian/BigLots/static_files/MediaStorm Data Extract - Division Names.txt\",sep=\"|\")\n",
    "\n",
    "writer=pd.ExcelWriter(\"./BL_performance_of_furniture_browser_groups_updated_3_Campaign_days_and_DCartOverlap_JL_\"+str(datetime.datetime.now().date())+\".xlsx\",engine=\"xlsxwriter\")\n",
    "df_output.to_excel(writer,\"view_no_store_type\",index=False)\n",
    "df_division_name.to_excel(writer,\"divison_name\",index=False)\n",
    "writer.save()\n",
    "'''"
   ]
  },
  {
   "cell_type": "markdown",
   "metadata": {},
   "source": [
    "# By_Day, 2020 DCartOverlap"
   ]
  },
  {
   "cell_type": "code",
   "execution_count": 38,
   "metadata": {},
   "outputs": [],
   "source": [
    "agg_fun={\"customer_id_hashed\":\"nunique\",\"item_transaction_amt\":\"sum\"}\n",
    "df_total_sales=df_sales_by_day.groupby(['transaction_dt','group','DCart_Type_2020'])['customer_id_hashed','item_transaction_amt'].agg(agg_fun).reset_index()\n",
    "df_total_trans=df_sales_by_day[['group','DCart_Type_2020','location_id','transaction_dt','transaction_id','customer_id_hashed']].drop_duplicates()\n",
    "df_total_trans['trans']=1\n",
    "df_total_trans=df_total_trans.groupby(['transaction_dt','DCart_Type_2020','group'])['trans'].sum().to_frame().reset_index()\n",
    "df_total=pd.merge(df_total_sales,df_total_trans,on=['transaction_dt','DCart_Type_2020','group'],how=\"outer\")\n",
    "df_total=df_total.rename(columns={\"customer_id_hashed\":\"total_shoppers\",\"item_transaction_amt\":\"total_sales\",\"trans\":\"total_trans\"})\n",
    "df_total['total_AOV']=df_total['total_sales']/df_total['total_trans']\n",
    "\n",
    "df_division_sales=df_sales_by_day.groupby(['transaction_dt','group','DCart_Type_2020','division_id'])['customer_id_hashed','item_transaction_amt'].agg(agg_fun).reset_index()\n",
    "df_division_trans=df_sales_by_day[['group','DCart_Type_2020','location_id','transaction_dt','transaction_id','customer_id_hashed','division_id']].drop_duplicates()\n",
    "df_division_trans['trans']=1\n",
    "df_division_trans=df_division_trans.groupby(['transaction_dt','DCart_Type_2020','group','division_id'])['trans'].sum().to_frame().reset_index()\n"
   ]
  },
  {
   "cell_type": "code",
   "execution_count": 39,
   "metadata": {},
   "outputs": [],
   "source": [
    "df_division=pd.merge(df_division_sales,df_division_trans,on=['transaction_dt','DCart_Type_2020','group','division_id'],how=\"outer\")\n",
    "df_division['AOV']=df_division['item_transaction_amt']/df_division['trans']\n",
    "df_division=df_division.rename(columns={\"customer_id_hashed\":\"division_shoppers\",\"item_transaction_amt\":\"division_sales\",\"trans\":\"division_trans\",\"AOV\":\"division_AOV\"})\n",
    "\n",
    "df_division=df_division.pivot_table(index=['transaction_dt','DCart_Type_2020','group'],columns='division_id',values=['division_shoppers','division_sales','division_trans',\"division_AOV\"]).reset_index()\n",
    "\n",
    "new_cols=[]\n",
    "for col in df_division.columns.tolist():\n",
    "    if not col[1]:\n",
    "        new_cols.append(col[0])\n",
    "    else:\n",
    "        new_cols.append(\"division_\"+col[1]+\"_\"+col[0].split(\"_\")[1])\n",
    "df_division.columns=new_cols\n",
    "\n",
    "new_cols=['transaction_dt','group','DCart_Type_2020']\n",
    "for i in range(10):\n",
    "    new_cols.append(\"division_\"+str(i)+\"_shoppers\")\n",
    "    new_cols.append(\"division_\"+str(i)+\"_sales\")\n",
    "    new_cols.append(\"division_\"+str(i)+\"_trans\")\n",
    "    new_cols.append(\"division_\"+str(i)+\"_AOV\")\n",
    "for p in list_9_div_added_values:\n",
    "    new_cols.append(\"division_\"+p+\"_shoppers\")\n",
    "    new_cols.append(\"division_\"+p+\"_sales\")\n",
    "    new_cols.append(\"division_\"+p+\"_trans\")\n",
    "    new_cols.append(\"division_\"+p+\"_AOV\")\n",
    "new_cols=[x for x in new_cols if x in df_division.columns.tolist()]    \n",
    "df_division=df_division[new_cols]"
   ]
  },
  {
   "cell_type": "code",
   "execution_count": 40,
   "metadata": {},
   "outputs": [
    {
     "data": {
      "text/plain": [
       "(112, 7)"
      ]
     },
     "execution_count": 40,
     "metadata": {},
     "output_type": "execute_result"
    }
   ],
   "source": [
    "# division 9 total\n",
    "\n",
    "df_sales_by_day_div_9=df_sales_by_day[df_sales_by_day['division_number']==\"9\"]\n",
    "df_division_sales=df_sales_by_day_div_9.groupby(['transaction_dt','group','DCart_Type_2020','division_number'])['customer_id_hashed','item_transaction_amt'].agg(agg_fun).reset_index()\n",
    "\n",
    "df_division_trans=df_sales_by_day_div_9[['group','DCart_Type_2020','location_id','transaction_dt','transaction_id','customer_id_hashed','division_number']].drop_duplicates()\n",
    "df_division_trans['trans']=1\n",
    "df_division_trans=df_division_trans.groupby(['transaction_dt','DCart_Type_2020','group','division_number'])['trans'].sum().to_frame().reset_index()\n",
    "\n",
    "df_division_9=pd.merge(df_division_sales,df_division_trans,on=['transaction_dt','DCart_Type_2020','group','division_number'],how=\"outer\")\n",
    "df_division_9['AOV']=df_division_9['item_transaction_amt']/df_division_9['trans']\n",
    "df_division_9=df_division_9.rename(columns={\"customer_id_hashed\":\"division_shoppers\",\"item_transaction_amt\":\"division_sales\",\"trans\":\"division_trans\",\"AOV\":\"division_AOV\"})\n",
    "\n",
    "df_division_9=df_division_9.pivot_table(index=['transaction_dt','DCart_Type_2020','group'],columns='division_number',values=['division_shoppers','division_sales','division_trans',\"division_AOV\"]).reset_index()\n",
    "df_division_9=df_division_9.reset_index()\n",
    "del df_division_9['index']\n",
    "\n",
    "new_cols=[]\n",
    "for col in df_division_9.columns.tolist():\n",
    "    if not col[1]:\n",
    "        new_cols.append(col[0])\n",
    "    else:\n",
    "        new_cols.append(\"division_\"+col[1]+\"_\"+col[0].split(\"_\")[1])\n",
    "df_division_9.columns=new_cols\n",
    "\n",
    "df_division_9.shape"
   ]
  },
  {
   "cell_type": "code",
   "execution_count": 41,
   "metadata": {},
   "outputs": [],
   "source": [
    "pd.options.display.max_columns=99\n",
    "\n",
    "df_output_2020_dcart=pd.merge(df_total,df_division,on=['transaction_dt','group','DCart_Type_2020'],how=\"outer\")\n",
    "df_output_2020_dcart=pd.merge(df_output_2020_dcart,df_division_9,on=['transaction_dt','group','DCart_Type_2020'],how=\"outer\")\n",
    "\n",
    "df_output_2020_dcart=pd.merge(df_total_id_2020,df_output_2020_dcart,on=[\"group\",'DCart_Type_2020'],how=\"outer\")\n",
    "df_output_2020_dcart=df_output_2020_dcart.sort_values([\"transaction_dt\",\"group\",'DCart_Type_2020'])\n"
   ]
  },
  {
   "cell_type": "markdown",
   "metadata": {},
   "source": [
    "# Campaing_3_Days, 2020 DCartOverlap"
   ]
  },
  {
   "cell_type": "code",
   "execution_count": 42,
   "metadata": {},
   "outputs": [],
   "source": [
    "df_sales_3_campaign_days=df_sales_by_day[df_sales_by_day['transaction_dt'].isin(['2020-01-18','2020-01-19','2020-01-20'])]\n",
    "df_sales_3_campaign_days=df_sales_3_campaign_days.rename(columns={\"transaction_dt\":\"date_kept_to_dedup\"})\n",
    "\n",
    "df_sales_3_campaign_days['transaction_dt']='total_3_days_Jan_18-20'\n",
    "\n",
    "df_total_sales=df_sales_3_campaign_days.groupby(['transaction_dt','group','DCart_Type_2020'])['customer_id_hashed','item_transaction_amt'].agg(agg_fun).reset_index()\n",
    "df_total_trans=df_sales_3_campaign_days[['group','DCart_Type_2020','location_id','transaction_dt','transaction_id','customer_id_hashed','date_kept_to_dedup']].drop_duplicates()\n",
    "df_total_trans['trans']=1\n",
    "df_total_trans=df_total_trans.groupby(['transaction_dt','group','DCart_Type_2020'])['trans'].sum().to_frame().reset_index()\n",
    "df_total=pd.merge(df_total_sales,df_total_trans,on=['transaction_dt','group','DCart_Type_2020'],how=\"outer\")\n",
    "df_total=df_total.rename(columns={\"customer_id_hashed\":\"total_shoppers\",\"item_transaction_amt\":\"total_sales\",\"trans\":\"total_trans\"})\n",
    "df_total['total_AOV']=df_total['total_sales']/df_total['total_trans']\n",
    "\n",
    "df_division_sales=df_sales_3_campaign_days.groupby(['transaction_dt','group','DCart_Type_2020','division_id'])['customer_id_hashed','item_transaction_amt'].agg(agg_fun).reset_index()\n",
    "df_division_trans=df_sales_3_campaign_days[['group','DCart_Type_2020','location_id','transaction_dt','transaction_id','customer_id_hashed','division_id','date_kept_to_dedup']].drop_duplicates()\n",
    "df_division_trans['trans']=1\n",
    "df_division_trans=df_division_trans.groupby(['transaction_dt','group','DCart_Type_2020','division_id'])['trans'].sum().to_frame().reset_index()\n",
    "\n"
   ]
  },
  {
   "cell_type": "code",
   "execution_count": 43,
   "metadata": {},
   "outputs": [],
   "source": [
    "# 3 days overall\n",
    "\n",
    "df_division=pd.merge(df_division_sales,df_division_trans,on=['transaction_dt','group','DCart_Type_2020','division_id'],how=\"outer\")\n",
    "df_division['AOV']=df_division['item_transaction_amt']/df_division['trans']\n",
    "df_division=df_division.rename(columns={\"customer_id_hashed\":\"division_shoppers\",\"item_transaction_amt\":\"division_sales\",\"trans\":\"division_trans\",\"AOV\":\"division_AOV\"})\n",
    "\n",
    "df_division=df_division.pivot_table(index=['transaction_dt','group','DCart_Type_2020'],columns='division_id',values=['division_shoppers','division_sales','division_trans',\"division_AOV\"]).reset_index()\n",
    "\n",
    "new_cols=[]\n",
    "for col in df_division.columns.tolist():\n",
    "    if not col[1]:\n",
    "        new_cols.append(col[0])\n",
    "    else:\n",
    "        new_cols.append(\"division_\"+col[1]+\"_\"+col[0].split(\"_\")[1])\n",
    "df_division.columns=new_cols\n",
    "\n",
    "new_cols=['transaction_dt','group','DCart_Type_2020']\n",
    "for i in range(10):\n",
    "    new_cols.append(\"division_\"+str(i)+\"_shoppers\")\n",
    "    new_cols.append(\"division_\"+str(i)+\"_sales\")\n",
    "    new_cols.append(\"division_\"+str(i)+\"_trans\")\n",
    "    new_cols.append(\"division_\"+str(i)+\"_AOV\")\n",
    "for p in list_9_div_added_values:\n",
    "    new_cols.append(\"division_\"+p+\"_shoppers\")\n",
    "    new_cols.append(\"division_\"+p+\"_sales\")\n",
    "    new_cols.append(\"division_\"+p+\"_trans\")\n",
    "    new_cols.append(\"division_\"+p+\"_AOV\")\n",
    "    \n",
    "new_cols=[x for x in new_cols if x in df_division.columns.tolist()]\n",
    "df_division=df_division[new_cols]"
   ]
  },
  {
   "cell_type": "code",
   "execution_count": 44,
   "metadata": {},
   "outputs": [
    {
     "data": {
      "text/plain": [
       "(8, 7)"
      ]
     },
     "execution_count": 44,
     "metadata": {},
     "output_type": "execute_result"
    }
   ],
   "source": [
    "# division 9 total\n",
    "\n",
    "df_sales_by_day_div_9=df_sales_3_campaign_days[df_sales_3_campaign_days['division_number']==\"9\"]\n",
    "df_division_sales=df_sales_by_day_div_9.groupby(['transaction_dt','group','DCart_Type_2020','division_number'])['customer_id_hashed','item_transaction_amt'].agg(agg_fun).reset_index()\n",
    "\n",
    "df_division_trans=df_sales_by_day_div_9[['group','DCart_Type_2020','location_id','transaction_dt','transaction_id','customer_id_hashed','division_number','date_kept_to_dedup']].drop_duplicates()\n",
    "df_division_trans['trans']=1\n",
    "df_division_trans=df_division_trans.groupby(['transaction_dt','DCart_Type_2020','group','division_number'])['trans'].sum().to_frame().reset_index()\n",
    "\n",
    "df_division_9=pd.merge(df_division_sales,df_division_trans,on=['transaction_dt','DCart_Type_2020','group','division_number'],how=\"outer\")\n",
    "df_division_9['AOV']=df_division_9['item_transaction_amt']/df_division_9['trans']\n",
    "df_division_9=df_division_9.rename(columns={\"customer_id_hashed\":\"division_shoppers\",\"item_transaction_amt\":\"division_sales\",\"trans\":\"division_trans\",\"AOV\":\"division_AOV\"})\n",
    "\n",
    "df_division_9=df_division_9.pivot_table(index=['transaction_dt','DCart_Type_2020','group'],columns='division_number',values=['division_shoppers','division_sales','division_trans',\"division_AOV\"]).reset_index()\n",
    "df_division_9=df_division_9.reset_index()\n",
    "del df_division_9['index']\n",
    "\n",
    "new_cols=[]\n",
    "for col in df_division_9.columns.tolist():\n",
    "    if not col[1]:\n",
    "        new_cols.append(col[0])\n",
    "    else:\n",
    "        new_cols.append(\"division_\"+col[1]+\"_\"+col[0].split(\"_\")[1])\n",
    "df_division_9.columns=new_cols\n",
    "\n",
    "df_division_9.shape"
   ]
  },
  {
   "cell_type": "code",
   "execution_count": 45,
   "metadata": {},
   "outputs": [
    {
     "data": {
      "text/html": [
       "<div>\n",
       "<style scoped>\n",
       "    .dataframe tbody tr th:only-of-type {\n",
       "        vertical-align: middle;\n",
       "    }\n",
       "\n",
       "    .dataframe tbody tr th {\n",
       "        vertical-align: top;\n",
       "    }\n",
       "\n",
       "    .dataframe thead th {\n",
       "        text-align: right;\n",
       "    }\n",
       "</style>\n",
       "<table border=\"1\" class=\"dataframe\">\n",
       "  <thead>\n",
       "    <tr style=\"text-align: right;\">\n",
       "      <th></th>\n",
       "      <th>transaction_dt</th>\n",
       "      <th>group</th>\n",
       "      <th>DCart_Type_2020</th>\n",
       "      <th>total_shoppers</th>\n",
       "      <th>total_sales</th>\n",
       "      <th>total_trans</th>\n",
       "      <th>total_AOV</th>\n",
       "    </tr>\n",
       "  </thead>\n",
       "  <tbody>\n",
       "    <tr>\n",
       "      <th>0</th>\n",
       "      <td>total_3_days_Jan_18-20</td>\n",
       "      <td>Q4_control</td>\n",
       "      <td>NotDCart_NotAgil</td>\n",
       "      <td>15721</td>\n",
       "      <td>821910.88</td>\n",
       "      <td>19287</td>\n",
       "      <td>42.614760</td>\n",
       "    </tr>\n",
       "    <tr>\n",
       "      <th>1</th>\n",
       "      <td>total_3_days_Jan_18-20</td>\n",
       "      <td>furnitur_test</td>\n",
       "      <td>In_DCart2020</td>\n",
       "      <td>3419</td>\n",
       "      <td>300081.96</td>\n",
       "      <td>4750</td>\n",
       "      <td>63.175149</td>\n",
       "    </tr>\n",
       "  </tbody>\n",
       "</table>\n",
       "</div>"
      ],
      "text/plain": [
       "           transaction_dt          group   DCart_Type_2020  total_shoppers  \\\n",
       "0  total_3_days_Jan_18-20     Q4_control  NotDCart_NotAgil           15721   \n",
       "1  total_3_days_Jan_18-20  furnitur_test      In_DCart2020            3419   \n",
       "\n",
       "   total_sales  total_trans  total_AOV  \n",
       "0    821910.88        19287  42.614760  \n",
       "1    300081.96         4750  63.175149  "
      ]
     },
     "execution_count": 45,
     "metadata": {},
     "output_type": "execute_result"
    }
   ],
   "source": [
    "df_total.head(2)"
   ]
  },
  {
   "cell_type": "code",
   "execution_count": 46,
   "metadata": {},
   "outputs": [],
   "source": [
    "df_output_2=pd.merge(df_total,df_division,on=['transaction_dt','group','DCart_Type_2020'],how=\"outer\")\n",
    "df_output_2=pd.merge(df_output_2,df_division_9,on=['transaction_dt','group','DCart_Type_2020'],how=\"outer\")\n",
    "\n",
    "df_output_2=pd.merge(df_total_id_2020,df_output_2,on=[\"group\",'DCart_Type_2020'],how=\"outer\")\n",
    "df_output_2=df_output_2.sort_values([\"transaction_dt\",\"group\",'DCart_Type_2020'])\n",
    "\n",
    "df_output_2020_dcart=df_output_2020_dcart.append(df_output_2)"
   ]
  },
  {
   "cell_type": "code",
   "execution_count": 47,
   "metadata": {},
   "outputs": [],
   "source": [
    "df_division_name=pd.read_table(\"/home/jian/BigLots/static_files/MediaStorm Data Extract - Division Names.txt\",sep=\"|\")\n",
    "\n",
    "writer=pd.ExcelWriter(\"./BL_performance_of_furniture_browser_groups_updated_3_Campaign_days_and_DCartOverlap_JL_\"+str(datetime.datetime.now().date())+\".xlsx\",engine=\"xlsxwriter\")\n",
    "df_output_overall_dcart.to_excel(writer,\"view_all_overlap\",index=False)\n",
    "df_output_2020_dcart.to_excel(writer,\"view_overlap_2020\",index=False)\n",
    "df_division_name.to_excel(writer,\"divison_name\",index=False)\n",
    "df_campaing_dates.to_excel(writer,\"DCart_All_Campaigns\",index=False)\n",
    "df_2_weeks_campaign.to_excel(writer,\"DCart_2020_Campaigns\",index=False)\n",
    "\n",
    "writer.save()"
   ]
  },
  {
   "cell_type": "code",
   "execution_count": 48,
   "metadata": {},
   "outputs": [
    {
     "name": "stdout",
     "output_type": "stream",
     "text": [
      "2020-02-06 23:31:44.262452\n"
     ]
    }
   ],
   "source": [
    "print(datetime.datetime.now())"
   ]
  },
  {
   "cell_type": "code",
   "execution_count": null,
   "metadata": {},
   "outputs": [],
   "source": []
  }
 ],
 "metadata": {
  "kernelspec": {
   "display_name": "Python 3",
   "language": "python",
   "name": "python3"
  },
  "language_info": {
   "codemirror_mode": {
    "name": "ipython",
    "version": 3
   },
   "file_extension": ".py",
   "mimetype": "text/x-python",
   "name": "python",
   "nbconvert_exporter": "python",
   "pygments_lexer": "ipython3",
   "version": "3.6.1"
  }
 },
 "nbformat": 4,
 "nbformat_minor": 2
}
