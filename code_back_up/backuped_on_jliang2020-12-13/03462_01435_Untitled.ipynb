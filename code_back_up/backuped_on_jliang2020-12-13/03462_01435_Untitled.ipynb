{
 "cells": [
  {
   "cell_type": "code",
   "execution_count": 1,
   "metadata": {},
   "outputs": [],
   "source": [
    "import pandas as pd\n",
    "\n"
   ]
  },
  {
   "cell_type": "code",
   "execution_count": 2,
   "metadata": {},
   "outputs": [
    {
     "data": {
      "text/plain": [
       "(24078139, 3)"
      ]
     },
     "execution_count": 2,
     "metadata": {},
     "output_type": "execute_result"
    }
   ],
   "source": [
    "df=pd.read_csv(\"./BL_mapping_file_2019Q3_JL_2019-11-20.csv\",dtype=str)\n",
    "df.shape"
   ]
  },
  {
   "cell_type": "code",
   "execution_count": 3,
   "metadata": {},
   "outputs": [
    {
     "data": {
      "text/html": [
       "<div>\n",
       "<style scoped>\n",
       "    .dataframe tbody tr th:only-of-type {\n",
       "        vertical-align: middle;\n",
       "    }\n",
       "\n",
       "    .dataframe tbody tr th {\n",
       "        vertical-align: top;\n",
       "    }\n",
       "\n",
       "    .dataframe thead th {\n",
       "        text-align: right;\n",
       "    }\n",
       "</style>\n",
       "<table border=\"1\" class=\"dataframe\">\n",
       "  <thead>\n",
       "    <tr style=\"text-align: right;\">\n",
       "      <th></th>\n",
       "      <th>customer_id_hashed</th>\n",
       "      <th>email_address_hash</th>\n",
       "      <th>segment</th>\n",
       "    </tr>\n",
       "  </thead>\n",
       "  <tbody>\n",
       "    <tr>\n",
       "      <th>0</th>\n",
       "      <td>af1a67def27b7a4812c299f88c9128d1f1471df969ee7c...</td>\n",
       "      <td>d48d9bde483e3a6524f75f41209df8b6848c1cd6714aff...</td>\n",
       "      <td>T_Quadrant III_P_H_2019Q3_RFM</td>\n",
       "    </tr>\n",
       "    <tr>\n",
       "      <th>1</th>\n",
       "      <td>628f22631a2c713c156e49c8e532f324c1d66b304de34d...</td>\n",
       "      <td>b2af6837f7baa3e271d54c82f873ad7286007cb11fe5e6...</td>\n",
       "      <td>T_Quadrant III_P_H_2019Q3_RFM</td>\n",
       "    </tr>\n",
       "  </tbody>\n",
       "</table>\n",
       "</div>"
      ],
      "text/plain": [
       "                                  customer_id_hashed  \\\n",
       "0  af1a67def27b7a4812c299f88c9128d1f1471df969ee7c...   \n",
       "1  628f22631a2c713c156e49c8e532f324c1d66b304de34d...   \n",
       "\n",
       "                                  email_address_hash  \\\n",
       "0  d48d9bde483e3a6524f75f41209df8b6848c1cd6714aff...   \n",
       "1  b2af6837f7baa3e271d54c82f873ad7286007cb11fe5e6...   \n",
       "\n",
       "                         segment  \n",
       "0  T_Quadrant III_P_H_2019Q3_RFM  \n",
       "1  T_Quadrant III_P_H_2019Q3_RFM  "
      ]
     },
     "execution_count": 3,
     "metadata": {},
     "output_type": "execute_result"
    }
   ],
   "source": [
    "df.head(2)"
   ]
  },
  {
   "cell_type": "code",
   "execution_count": 4,
   "metadata": {},
   "outputs": [
    {
     "data": {
      "text/plain": [
       "24078139"
      ]
     },
     "execution_count": 4,
     "metadata": {},
     "output_type": "execute_result"
    }
   ],
   "source": [
    "df['customer_id_hashed'].nunique()"
   ]
  },
  {
   "cell_type": "code",
   "execution_count": 5,
   "metadata": {},
   "outputs": [
    {
     "data": {
      "text/plain": [
       "24078139"
      ]
     },
     "execution_count": 5,
     "metadata": {},
     "output_type": "execute_result"
    }
   ],
   "source": [
    "df['email_address_hash'].nunique()"
   ]
  },
  {
   "cell_type": "code",
   "execution_count": 6,
   "metadata": {},
   "outputs": [
    {
     "data": {
      "text/plain": [
       "['C_Quadrant III_P_H_2019Q3_RFM',\n",
       " 'C_Quadrant III_P_L_2019Q3_RFM',\n",
       " 'C_Quadrant III_P_M_2019Q3_RFM',\n",
       " 'C_Quadrant III_S_H_2019Q3_RFM',\n",
       " 'C_Quadrant III_S_L_2019Q3_RFM',\n",
       " 'C_Quadrant III_S_M_2019Q3_RFM',\n",
       " 'C_Quadrant II_P_H_2019Q3_RFM',\n",
       " 'C_Quadrant II_P_L_2019Q3_RFM',\n",
       " 'C_Quadrant II_P_M_2019Q3_RFM',\n",
       " 'C_Quadrant II_S_H_2019Q3_RFM',\n",
       " 'C_Quadrant II_S_L_2019Q3_RFM',\n",
       " 'C_Quadrant II_S_M_2019Q3_RFM',\n",
       " 'C_Quadrant IV_P_H_2019Q3_RFM',\n",
       " 'C_Quadrant IV_P_L_2019Q3_RFM',\n",
       " 'C_Quadrant IV_P_M_2019Q3_RFM',\n",
       " 'C_Quadrant IV_S_H_2019Q3_RFM',\n",
       " 'C_Quadrant IV_S_L_2019Q3_RFM',\n",
       " 'C_Quadrant IV_S_M_2019Q3_RFM',\n",
       " 'C_Quadrant I_P_H_2019Q3_RFM',\n",
       " 'C_Quadrant I_P_L_2019Q3_RFM',\n",
       " 'C_Quadrant I_P_M_2019Q3_RFM',\n",
       " 'C_Quadrant I_S_H_2019Q3_RFM',\n",
       " 'C_Quadrant I_S_L_2019Q3_RFM',\n",
       " 'C_Quadrant I_S_M_2019Q3_RFM',\n",
       " 'C_lapsed_18_48_PS_RFM',\n",
       " 'NewReward_072719_P',\n",
       " 'NewReward_072719_S',\n",
       " 'NewReward_072719_T',\n",
       " 'NewReward_081019_P',\n",
       " 'NewReward_081019_S',\n",
       " 'NewReward_081019_T',\n",
       " 'NewReward_090719_P',\n",
       " 'NewReward_090719_S',\n",
       " 'NewReward_090719_T',\n",
       " 'NewReward_092119_P',\n",
       " 'NewReward_092119_S',\n",
       " 'NewReward_092119_T',\n",
       " 'NewReward_100519_P',\n",
       " 'NewReward_100519_S',\n",
       " 'NewReward_100519_T',\n",
       " 'NewReward_101919_P',\n",
       " 'NewReward_101919_S',\n",
       " 'NewReward_101919_T',\n",
       " 'T_Quadrant III_P_H_2019Q3_RFM',\n",
       " 'T_Quadrant III_P_L_2019Q3_RFM',\n",
       " 'T_Quadrant III_P_M_2019Q3_RFM',\n",
       " 'T_Quadrant III_S_H_2019Q3_RFM',\n",
       " 'T_Quadrant III_S_L_2019Q3_RFM',\n",
       " 'T_Quadrant III_S_M_2019Q3_RFM',\n",
       " 'T_Quadrant II_P_H_2019Q3_RFM',\n",
       " 'T_Quadrant II_P_L_2019Q3_RFM',\n",
       " 'T_Quadrant II_P_M_2019Q3_RFM',\n",
       " 'T_Quadrant II_S_H_2019Q3_RFM',\n",
       " 'T_Quadrant II_S_L_2019Q3_RFM',\n",
       " 'T_Quadrant II_S_M_2019Q3_RFM',\n",
       " 'T_Quadrant IV_P_H_2019Q3_RFM',\n",
       " 'T_Quadrant IV_P_L_2019Q3_RFM',\n",
       " 'T_Quadrant IV_P_M_2019Q3_RFM',\n",
       " 'T_Quadrant IV_S_H_2019Q3_RFM',\n",
       " 'T_Quadrant IV_S_L_2019Q3_RFM',\n",
       " 'T_Quadrant IV_S_M_2019Q3_RFM',\n",
       " 'T_Quadrant I_P_H_2019Q3_RFM',\n",
       " 'T_Quadrant I_P_L_2019Q3_RFM',\n",
       " 'T_Quadrant I_P_M_2019Q3_RFM',\n",
       " 'T_Quadrant I_S_H_2019Q3_RFM',\n",
       " 'T_Quadrant I_S_L_2019Q3_RFM',\n",
       " 'T_Quadrant I_S_M_2019Q3_RFM',\n",
       " 'T_lapsed_18_48_PS_RFM']"
      ]
     },
     "execution_count": 6,
     "metadata": {},
     "output_type": "execute_result"
    }
   ],
   "source": [
    "sorted(df['segment'].unique().tolist())"
   ]
  },
  {
   "cell_type": "code",
   "execution_count": null,
   "metadata": {},
   "outputs": [],
   "source": []
  }
 ],
 "metadata": {
  "kernelspec": {
   "display_name": "Python 3",
   "language": "python",
   "name": "python3"
  },
  "language_info": {
   "codemirror_mode": {
    "name": "ipython",
    "version": 3
   },
   "file_extension": ".py",
   "mimetype": "text/x-python",
   "name": "python",
   "nbconvert_exporter": "python",
   "pygments_lexer": "ipython3",
   "version": "3.6.1"
  }
 },
 "nbformat": 4,
 "nbformat_minor": 2
}
