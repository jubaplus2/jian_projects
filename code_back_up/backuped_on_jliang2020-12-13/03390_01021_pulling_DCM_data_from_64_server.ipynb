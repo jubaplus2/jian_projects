{
 "cells": [
  {
   "cell_type": "code",
   "execution_count": 1,
   "metadata": {},
   "outputs": [
    {
     "data": {
      "text/plain": [
       "'/home/jian/Projects/Big_Lots/Analysis/2019_Q2/Big_Lots_2019Q2_DCM_Frequency'"
      ]
     },
     "execution_count": 1,
     "metadata": {},
     "output_type": "execute_result"
    }
   ],
   "source": [
    "import pandas as pd\n",
    "import numpy as np\n",
    "import datetime\n",
    "import os\n",
    "import paramiko\n",
    "os.getcwd()"
   ]
  },
  {
   "cell_type": "code",
   "execution_count": 2,
   "metadata": {
    "collapsed": true
   },
   "outputs": [],
   "source": [
    "host = \"64.237.51.251\" #hard-coded\n",
    "port = 22\n",
    "transport = paramiko.Transport((host, port))\n",
    "\n",
    "password = \"jian@juba2017\" #hard-coded\n",
    "username = \"jian\" #hard-coded\n",
    "transport.connect(username = username, password = password)\n",
    "sftp = paramiko.SFTPClient.from_transport(transport)"
   ]
  },
  {
   "cell_type": "code",
   "execution_count": null,
   "metadata": {
    "collapsed": true
   },
   "outputs": [],
   "source": [
    "####"
   ]
  },
  {
   "cell_type": "code",
   "execution_count": 3,
   "metadata": {},
   "outputs": [
    {
     "data": {
      "text/plain": [
       "['df_all_BL_non0_user_activities_120190505_20190511.csv',\n",
       " 'df_all_BL_non0_user_activities_220190512_20190518.csv',\n",
       " 'df_all_BL_non0_user_activities_320190519_20190525.csv',\n",
       " 'df_all_BL_non0_user_activities_420190526_20190601.csv',\n",
       " 'df_all_BL_non0_user_activities_520190602_20190608.csv',\n",
       " 'df_all_BL_non0_user_activities_620190609_20190615.csv',\n",
       " 'df_all_BL_non0_user_activities_720190616_20190622.csv',\n",
       " 'df_all_BL_non0_user_activities_820190623_20190623.csv',\n",
       " 'df_all_BL_non0_user_clicks_120190505_20190511.csv',\n",
       " 'df_all_BL_non0_user_clicks_220190512_20190518.csv',\n",
       " 'df_all_BL_non0_user_clicks_320190519_20190525.csv',\n",
       " 'df_all_BL_non0_user_clicks_420190526_20190601.csv',\n",
       " 'df_all_BL_non0_user_clicks_520190602_20190608.csv',\n",
       " 'df_all_BL_non0_user_clicks_620190609_20190615.csv',\n",
       " 'df_all_BL_non0_user_clicks_720190616_20190622.csv',\n",
       " 'df_all_BL_non0_user_clicks_820190623_20190623.csv',\n",
       " 'df_all_BL_non0_user_impressions_120190505_20190511.csv',\n",
       " 'df_all_BL_non0_user_impressions_220190512_20190518.csv',\n",
       " 'df_all_BL_non0_user_impressions_320190519_20190525.csv',\n",
       " 'df_all_BL_non0_user_impressions_420190526_20190601.csv',\n",
       " 'df_all_BL_non0_user_impressions_520190602_20190608.csv',\n",
       " 'df_all_BL_non0_user_impressions_620190609_20190615.csv',\n",
       " 'df_all_BL_non0_user_impressions_720190616_20190622.csv',\n",
       " 'df_all_BL_non0_user_impressions_820190623_20190623.csv']"
      ]
     },
     "execution_count": 3,
     "metadata": {},
     "output_type": "execute_result"
    }
   ],
   "source": [
    "local_folder='/home/jian/Projects/Big_Lots/Analysis/2019_Q2/Big_Lots_2019Q2_DCM_Frequency/BL_DCM_data/'\n",
    "remote_folder=\"/mnt/drv5/jian/Big_Lots/BL_Frequency_2019Q2/aggregated_dmc_logs/output_2019-06-26/\"\n",
    "remote_list=sorted(sftp.listdir(remote_folder))\n",
    "remote_list"
   ]
  },
  {
   "cell_type": "code",
   "execution_count": 4,
   "metadata": {
    "collapsed": true
   },
   "outputs": [],
   "source": [
    "for file in remote_list:\n",
    "    remote_path=remote_folder+file\n",
    "    local_path=local_folder+file\n",
    "    sftp.get(remote_path,local_path)\n",
    "sftp.close()"
   ]
  },
  {
   "cell_type": "code",
   "execution_count": null,
   "metadata": {
    "collapsed": true
   },
   "outputs": [],
   "source": []
  },
  {
   "cell_type": "code",
   "execution_count": 8,
   "metadata": {
    "collapsed": true
   },
   "outputs": [],
   "source": [
    "sftp = paramiko.SFTPClient.from_transport(transport)\n",
    "\n",
    "local_folder='/home/jian/Projects/Big_Lots/Analysis/2019_Q2/Big_Lots_2019Q2_DCM_Frequency/mapping_site_placement/'\n",
    "remote_folder=\"/mnt/drv5/jian/Big_Lots/BL_Frequency_2019Q2/mapping_site_placement/\"\n",
    "\n",
    "try:\n",
    "    os.stat(local_folder)\n",
    "except:\n",
    "    os.mkdir(local_folder)\n",
    "    \n",
    "    \n",
    "remote_list=sftp.listdir(remote_folder)\n",
    "remote_list=[x for x in remote_list if \".csv\" in x]"
   ]
  },
  {
   "cell_type": "code",
   "execution_count": 9,
   "metadata": {
    "collapsed": true
   },
   "outputs": [],
   "source": [
    "for mapping_file in remote_list:\n",
    "    remote_path=remote_folder+mapping_file\n",
    "    local_path=local_folder+mapping_file\n",
    "    sftp.get(remote_path,local_path)\n",
    "sftp.close()\n"
   ]
  },
  {
   "cell_type": "code",
   "execution_count": null,
   "metadata": {
    "collapsed": true
   },
   "outputs": [],
   "source": [
    "######"
   ]
  },
  {
   "cell_type": "code",
   "execution_count": 3,
   "metadata": {
    "collapsed": true
   },
   "outputs": [],
   "source": [
    "remote_mapping_file_Q1=\"/mnt/drv5/lr_biglots_data/download_logs/others/CL_BigLots_BL_mapping_file_2019Q1_JL_2019-05-14_20190516_111931_0000.psv.gz\"\n",
    "local_path=\"/home/jian/Projects/Big_Lots/Analysis/2019_Q2/Big_Lots_2019Q2_DCM_Frequency/CL_BigLots_BL_mapping_file_2019Q1_JL_2019-05-14_20190516_111931_0000.psv.gz\"\n",
    "sftp.get(remote_mapping_file_Q1,local_path)\n",
    "\n",
    "sftp.close()"
   ]
  },
  {
   "cell_type": "code",
   "execution_count": 4,
   "metadata": {
    "collapsed": true
   },
   "outputs": [],
   "source": [
    "transport.close()"
   ]
  },
  {
   "cell_type": "code",
   "execution_count": null,
   "metadata": {
    "collapsed": true
   },
   "outputs": [],
   "source": []
  }
 ],
 "metadata": {
  "kernelspec": {
   "display_name": "Python 3",
   "language": "python",
   "name": "python3"
  },
  "language_info": {
   "codemirror_mode": {
    "name": "ipython",
    "version": 3
   },
   "file_extension": ".py",
   "mimetype": "text/x-python",
   "name": "python",
   "nbconvert_exporter": "python",
   "pygments_lexer": "ipython3",
   "version": "3.6.1"
  }
 },
 "nbformat": 4,
 "nbformat_minor": 2
}
