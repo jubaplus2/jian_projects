{
 "cells": [
  {
   "cell_type": "code",
   "execution_count": 1,
   "metadata": {},
   "outputs": [
    {
     "data": {
      "text/plain": [
       "'/home/jian/Projects/Big_Lots/Analysis/2020_Q2/FB_audience'"
      ]
     },
     "execution_count": 1,
     "metadata": {},
     "output_type": "execute_result"
    }
   ],
   "source": [
    "import pandas as pd\n",
    "import glob\n",
    "import datetime\n",
    "import os\n",
    "\n",
    "os.getcwd()"
   ]
  },
  {
   "cell_type": "code",
   "execution_count": 2,
   "metadata": {},
   "outputs": [
    {
     "data": {
      "text/plain": [
       "['/home/jian/Projects/Big_Lots/Analysis/2020_Q2/FB_audience/audience_from_SP/Target_0316_0430.csv',\n",
       " \"/home/jian/Projects/Big_Lots/Analysis/2020_Q2/FB_audience/audience_from_SP/Lowe's_0316_0430.csv\",\n",
       " \"/home/jian/Projects/Big_Lots/Analysis/2020_Q2/FB_audience/audience_from_SP/Sam's Club_0316_0430.csv\",\n",
       " '/home/jian/Projects/Big_Lots/Analysis/2020_Q2/FB_audience/audience_from_SP/Dollar General_0316_0430.csv',\n",
       " \"/home/jian/Projects/Big_Lots/Analysis/2020_Q2/FB_audience/audience_from_SP/Kohl's_0316_0430.csv\",\n",
       " '/home/jian/Projects/Big_Lots/Analysis/2020_Q2/FB_audience/audience_from_SP/Costco_0316_0430.csv',\n",
       " '/home/jian/Projects/Big_Lots/Analysis/2020_Q2/FB_audience/audience_from_SP/Home Depot_0316_0430.csv',\n",
       " '/home/jian/Projects/Big_Lots/Analysis/2020_Q2/FB_audience/audience_from_SP/Ross Stores_0316_0430.csv',\n",
       " '/home/jian/Projects/Big_Lots/Analysis/2020_Q2/FB_audience/audience_from_SP/biglotsvisitor_0316_0430.csv',\n",
       " '/home/jian/Projects/Big_Lots/Analysis/2020_Q2/FB_audience/audience_from_SP/biglotsvicinity_0316_0430.csv',\n",
       " '/home/jian/Projects/Big_Lots/Analysis/2020_Q2/FB_audience/audience_from_SP/Walmart_0316_0430.csv',\n",
       " '/home/jian/Projects/Big_Lots/Analysis/2020_Q2/FB_audience/audience_from_SP/Christmas Tree Shop_0316_0430.csv',\n",
       " '/home/jian/Projects/Big_Lots/Analysis/2020_Q2/FB_audience/audience_from_SP/Dollar Tree_0316_0430.csv']"
      ]
     },
     "execution_count": 2,
     "metadata": {},
     "output_type": "execute_result"
    }
   ],
   "source": [
    "list_audience_files=glob.glob(\"/home/jian/Projects/Big_Lots/Analysis/2020_Q2/FB_audience/audience_from_SP/*.csv\")\n",
    "list_audience_files"
   ]
  },
  {
   "cell_type": "code",
   "execution_count": 3,
   "metadata": {},
   "outputs": [
    {
     "name": "stdout",
     "output_type": "stream",
     "text": [
      "517549 517549\n",
      "464809 464809\n",
      "397396 397396\n",
      "843135 843135\n",
      "47743 47743\n",
      "315770 315770\n",
      "586313 586313\n",
      "132594 132594\n",
      "819527 819527\n",
      "4701916 4701916\n",
      "1952216 1952216\n",
      "280 280\n",
      "831066 831066\n"
     ]
    }
   ],
   "source": [
    "df_summary=pd.DataFrame()\n",
    "for file in list_audience_files:\n",
    "    segment_name=os.path.basename(file)\n",
    "    df=pd.read_csv(file,dtype=str)\n",
    "    list_ad_id=df['ad_id'].unique().tolist()\n",
    "    print(len(list_ad_id),len(set(list_ad_id)))\n",
    "    if len(list_ad_id)!=df.shape[0]:\n",
    "        print(segment_name,\"not all unique\")\n",
    "    df_seg_count=pd.DataFrame({\"ad_id_count\":len(list_ad_id)},index=[segment_name]).reset_index()\n",
    "    df_summary=df_summary.append(df_seg_count)"
   ]
  },
  {
   "cell_type": "code",
   "execution_count": 9,
   "metadata": {},
   "outputs": [],
   "source": [
    "df_summary.to_csv(\"./BL_audience_Wave_C_summary_total_count_from_SP_JL_\"+str(datetime.datetime.now().date())+\".csv\",index=False)"
   ]
  },
  {
   "cell_type": "code",
   "execution_count": 12,
   "metadata": {},
   "outputs": [
    {
     "data": {
      "text/html": [
       "<div>\n",
       "<style scoped>\n",
       "    .dataframe tbody tr th:only-of-type {\n",
       "        vertical-align: middle;\n",
       "    }\n",
       "\n",
       "    .dataframe tbody tr th {\n",
       "        vertical-align: top;\n",
       "    }\n",
       "\n",
       "    .dataframe thead th {\n",
       "        text-align: right;\n",
       "    }\n",
       "</style>\n",
       "<table border=\"1\" class=\"dataframe\">\n",
       "  <thead>\n",
       "    <tr style=\"text-align: right;\">\n",
       "      <th></th>\n",
       "      <th>index</th>\n",
       "      <th>ad_id_count</th>\n",
       "    </tr>\n",
       "  </thead>\n",
       "  <tbody>\n",
       "    <tr>\n",
       "      <th>0</th>\n",
       "      <td>Target_0316_0430.csv</td>\n",
       "      <td>517549</td>\n",
       "    </tr>\n",
       "    <tr>\n",
       "      <th>0</th>\n",
       "      <td>Lowe's_0316_0430.csv</td>\n",
       "      <td>464809</td>\n",
       "    </tr>\n",
       "    <tr>\n",
       "      <th>0</th>\n",
       "      <td>Sam's Club_0316_0430.csv</td>\n",
       "      <td>397396</td>\n",
       "    </tr>\n",
       "    <tr>\n",
       "      <th>0</th>\n",
       "      <td>Dollar General_0316_0430.csv</td>\n",
       "      <td>843135</td>\n",
       "    </tr>\n",
       "    <tr>\n",
       "      <th>0</th>\n",
       "      <td>Kohl's_0316_0430.csv</td>\n",
       "      <td>47743</td>\n",
       "    </tr>\n",
       "    <tr>\n",
       "      <th>0</th>\n",
       "      <td>Costco_0316_0430.csv</td>\n",
       "      <td>315770</td>\n",
       "    </tr>\n",
       "    <tr>\n",
       "      <th>0</th>\n",
       "      <td>Home Depot_0316_0430.csv</td>\n",
       "      <td>586313</td>\n",
       "    </tr>\n",
       "    <tr>\n",
       "      <th>0</th>\n",
       "      <td>Ross Stores_0316_0430.csv</td>\n",
       "      <td>132594</td>\n",
       "    </tr>\n",
       "    <tr>\n",
       "      <th>0</th>\n",
       "      <td>biglotsvisitor_0316_0430.csv</td>\n",
       "      <td>819527</td>\n",
       "    </tr>\n",
       "    <tr>\n",
       "      <th>0</th>\n",
       "      <td>biglotsvicinity_0316_0430.csv</td>\n",
       "      <td>4701916</td>\n",
       "    </tr>\n",
       "    <tr>\n",
       "      <th>0</th>\n",
       "      <td>Walmart_0316_0430.csv</td>\n",
       "      <td>1952216</td>\n",
       "    </tr>\n",
       "    <tr>\n",
       "      <th>0</th>\n",
       "      <td>Christmas Tree Shop_0316_0430.csv</td>\n",
       "      <td>280</td>\n",
       "    </tr>\n",
       "    <tr>\n",
       "      <th>0</th>\n",
       "      <td>Dollar Tree_0316_0430.csv</td>\n",
       "      <td>831066</td>\n",
       "    </tr>\n",
       "  </tbody>\n",
       "</table>\n",
       "</div>"
      ],
      "text/plain": [
       "                               index  ad_id_count\n",
       "0               Target_0316_0430.csv       517549\n",
       "0               Lowe's_0316_0430.csv       464809\n",
       "0           Sam's Club_0316_0430.csv       397396\n",
       "0       Dollar General_0316_0430.csv       843135\n",
       "0               Kohl's_0316_0430.csv        47743\n",
       "0               Costco_0316_0430.csv       315770\n",
       "0           Home Depot_0316_0430.csv       586313\n",
       "0          Ross Stores_0316_0430.csv       132594\n",
       "0       biglotsvisitor_0316_0430.csv       819527\n",
       "0      biglotsvicinity_0316_0430.csv      4701916\n",
       "0              Walmart_0316_0430.csv      1952216\n",
       "0  Christmas Tree Shop_0316_0430.csv          280\n",
       "0          Dollar Tree_0316_0430.csv       831066"
      ]
     },
     "execution_count": 12,
     "metadata": {},
     "output_type": "execute_result"
    }
   ],
   "source": [
    "df_summary"
   ]
  },
  {
   "cell_type": "code",
   "execution_count": 10,
   "metadata": {},
   "outputs": [],
   "source": [
    "list_part_3=[x for x in list_audience_files if \"biglotsv\" not in x]"
   ]
  },
  {
   "cell_type": "code",
   "execution_count": 11,
   "metadata": {},
   "outputs": [
    {
     "data": {
      "text/plain": [
       "((6088871, 1), (3949020, 1))"
      ]
     },
     "execution_count": 11,
     "metadata": {},
     "output_type": "execute_result"
    }
   ],
   "source": [
    "df_all_part3=pd.DataFrame()\n",
    "for file in list_part_3:\n",
    "    df=pd.read_csv(file,dtype=str,usecols=[\"ad_id\"])\n",
    "    df_all_part3=df_all_part3.append(df)\n",
    "df_all_part3.shape,df_all_part3.drop_duplicates().shape"
   ]
  },
  {
   "cell_type": "code",
   "execution_count": null,
   "metadata": {},
   "outputs": [],
   "source": []
  }
 ],
 "metadata": {
  "kernelspec": {
   "display_name": "Python 3",
   "language": "python",
   "name": "python3"
  },
  "language_info": {
   "codemirror_mode": {
    "name": "ipython",
    "version": 3
   },
   "file_extension": ".py",
   "mimetype": "text/x-python",
   "name": "python",
   "nbconvert_exporter": "python",
   "pygments_lexer": "ipython3",
   "version": "3.6.1"
  }
 },
 "nbformat": 4,
 "nbformat_minor": 2
}
