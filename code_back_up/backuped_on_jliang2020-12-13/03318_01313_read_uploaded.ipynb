{
 "cells": [
  {
   "cell_type": "code",
   "execution_count": 1,
   "metadata": {
    "collapsed": true
   },
   "outputs": [],
   "source": [
    "import pandas as pd\n",
    "import os"
   ]
  },
  {
   "cell_type": "code",
   "execution_count": 2,
   "metadata": {
    "collapsed": true
   },
   "outputs": [],
   "source": [
    "df=pd.read_csv(\"./uploaded/2018Q3_shopper.csv\",dtype=str,nrows=10)"
   ]
  },
  {
   "cell_type": "code",
   "execution_count": 3,
   "metadata": {},
   "outputs": [
    {
     "data": {
      "text/html": [
       "<div>\n",
       "<style scoped>\n",
       "    .dataframe tbody tr th:only-of-type {\n",
       "        vertical-align: middle;\n",
       "    }\n",
       "\n",
       "    .dataframe tbody tr th {\n",
       "        vertical-align: top;\n",
       "    }\n",
       "\n",
       "    .dataframe thead th {\n",
       "        text-align: right;\n",
       "    }\n",
       "</style>\n",
       "<table border=\"1\" class=\"dataframe\">\n",
       "  <thead>\n",
       "    <tr style=\"text-align: right;\">\n",
       "      <th></th>\n",
       "      <th>email_address_hash</th>\n",
       "      <th>segment</th>\n",
       "    </tr>\n",
       "  </thead>\n",
       "  <tbody>\n",
       "    <tr>\n",
       "      <th>0</th>\n",
       "      <td>d7eff010ab9636646510d544d3ab12a8d06cafca07b3f1...</td>\n",
       "      <td>2018Q3_shopper</td>\n",
       "    </tr>\n",
       "    <tr>\n",
       "      <th>1</th>\n",
       "      <td>385ac853b423e956125e9eec7fff2cdedc3a03cfd68b1c...</td>\n",
       "      <td>2018Q3_shopper</td>\n",
       "    </tr>\n",
       "    <tr>\n",
       "      <th>2</th>\n",
       "      <td>c7c13c2de43ba489128e2067d358f673b1d746fb4adc2e...</td>\n",
       "      <td>2018Q3_shopper</td>\n",
       "    </tr>\n",
       "    <tr>\n",
       "      <th>3</th>\n",
       "      <td>563d40df8146afdd7e0f7c839e519cf7aaeeeb16d137bb...</td>\n",
       "      <td>2018Q3_shopper</td>\n",
       "    </tr>\n",
       "    <tr>\n",
       "      <th>4</th>\n",
       "      <td>3e83288ad30401224e3201509cc2885c30988c0597de7e...</td>\n",
       "      <td>2018Q3_shopper</td>\n",
       "    </tr>\n",
       "    <tr>\n",
       "      <th>5</th>\n",
       "      <td>afabb10c821b630a818c5602141c62ff3ca1ea355fae76...</td>\n",
       "      <td>2018Q3_shopper</td>\n",
       "    </tr>\n",
       "    <tr>\n",
       "      <th>6</th>\n",
       "      <td>981c171afb0b523fcff3ba8f8bdb854da3898b6c61502a...</td>\n",
       "      <td>2018Q3_shopper</td>\n",
       "    </tr>\n",
       "    <tr>\n",
       "      <th>7</th>\n",
       "      <td>7afe32043b8a4fdeeea9db7e0f7df4ab418167eb474f04...</td>\n",
       "      <td>2018Q3_shopper</td>\n",
       "    </tr>\n",
       "    <tr>\n",
       "      <th>8</th>\n",
       "      <td>c7d342c87cd753e71b1824da68a5db7d91f0de9173b704...</td>\n",
       "      <td>2018Q3_shopper</td>\n",
       "    </tr>\n",
       "    <tr>\n",
       "      <th>9</th>\n",
       "      <td>d4364ef3a61c2ab4effdec959faab76e6f33e450aab0c5...</td>\n",
       "      <td>2018Q3_shopper</td>\n",
       "    </tr>\n",
       "  </tbody>\n",
       "</table>\n",
       "</div>"
      ],
      "text/plain": [
       "                                  email_address_hash         segment\n",
       "0  d7eff010ab9636646510d544d3ab12a8d06cafca07b3f1...  2018Q3_shopper\n",
       "1  385ac853b423e956125e9eec7fff2cdedc3a03cfd68b1c...  2018Q3_shopper\n",
       "2  c7c13c2de43ba489128e2067d358f673b1d746fb4adc2e...  2018Q3_shopper\n",
       "3  563d40df8146afdd7e0f7c839e519cf7aaeeeb16d137bb...  2018Q3_shopper\n",
       "4  3e83288ad30401224e3201509cc2885c30988c0597de7e...  2018Q3_shopper\n",
       "5  afabb10c821b630a818c5602141c62ff3ca1ea355fae76...  2018Q3_shopper\n",
       "6  981c171afb0b523fcff3ba8f8bdb854da3898b6c61502a...  2018Q3_shopper\n",
       "7  7afe32043b8a4fdeeea9db7e0f7df4ab418167eb474f04...  2018Q3_shopper\n",
       "8  c7d342c87cd753e71b1824da68a5db7d91f0de9173b704...  2018Q3_shopper\n",
       "9  d4364ef3a61c2ab4effdec959faab76e6f33e450aab0c5...  2018Q3_shopper"
      ]
     },
     "execution_count": 3,
     "metadata": {},
     "output_type": "execute_result"
    }
   ],
   "source": [
    "df"
   ]
  },
  {
   "cell_type": "code",
   "execution_count": null,
   "metadata": {
    "collapsed": true
   },
   "outputs": [],
   "source": []
  }
 ],
 "metadata": {
  "kernelspec": {
   "display_name": "Python 3",
   "language": "python",
   "name": "python3"
  },
  "language_info": {
   "codemirror_mode": {
    "name": "ipython",
    "version": 3
   },
   "file_extension": ".py",
   "mimetype": "text/x-python",
   "name": "python",
   "nbconvert_exporter": "python",
   "pygments_lexer": "ipython3",
   "version": "3.6.1"
  }
 },
 "nbformat": 4,
 "nbformat_minor": 2
}
