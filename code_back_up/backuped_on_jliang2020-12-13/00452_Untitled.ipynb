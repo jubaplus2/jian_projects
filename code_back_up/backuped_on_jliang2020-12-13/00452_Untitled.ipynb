{
 "cells": [
  {
   "cell_type": "code",
   "execution_count": 12,
   "metadata": {},
   "outputs": [
    {
     "data": {
      "text/plain": [
       "'/home/jian/Projects/Big_Lots/Analysis/2019_Q2/ID_Migration'"
      ]
     },
     "execution_count": 12,
     "metadata": {},
     "output_type": "execute_result"
    }
   ],
   "source": [
    "import pandas as pd\n",
    "import os\n",
    "\n",
    "os.getcwd()"
   ]
  },
  {
   "cell_type": "code",
   "execution_count": null,
   "metadata": {
    "collapsed": true
   },
   "outputs": [],
   "source": [
    "\"/home/jian/celery/Google_LiveRamp/output/\""
   ]
  },
  {
   "cell_type": "code",
   "execution_count": 26,
   "metadata": {},
   "outputs": [
    {
     "name": "stdout",
     "output_type": "stream",
     "text": [
      "df_google_trans_0407['transaction_amount'].sum() 121112921.32\n",
      "df_google_trans_0407['Email_1'].nunique() 2187605\n",
      "df_google_trans_0407.shape (2652389, 5)\n"
     ]
    }
   ],
   "source": [
    "df_google_trans_0407=pd.read_table(\"/home/jian/celery/Google_LiveRamp/output/BL_LR_GoogleStoreSales_2_weeks_2019-04-07_2019-04-20_JL_2019-04-26.txt\",dtype=str,sep=\"|\")\n",
    "\n",
    "df_google_trans_0407['transaction_amount']=df_google_trans_0407['transaction_amount'].astype(float)\n",
    "print(\"df_google_trans_0407['transaction_amount'].sum()\",df_google_trans_0407['transaction_amount'].sum())\n",
    "print(\"df_google_trans_0407['Email_1'].nunique()\",df_google_trans_0407['Email_1'].nunique())\n",
    "print(\"df_google_trans_0407.shape\",df_google_trans_0407.shape)"
   ]
  },
  {
   "cell_type": "code",
   "execution_count": 38,
   "metadata": {},
   "outputs": [
    {
     "data": {
      "text/plain": [
       "array(['00000'], dtype=object)"
      ]
     },
     "execution_count": 38,
     "metadata": {},
     "output_type": "execute_result"
    }
   ],
   "source": [
    "df_google_trans_0407['Zip_Code'].unique()"
   ]
  },
  {
   "cell_type": "code",
   "execution_count": 37,
   "metadata": {},
   "outputs": [
    {
     "name": "stdout",
     "output_type": "stream",
     "text": [
      "week_1_google_0407['transaction_amount'].sum() 68025088.67\n",
      "week_1_google_0407['Email_1'].nunique() 1263246\n",
      "week_1_google_0407.shape (1393011, 5)\n"
     ]
    }
   ],
   "source": [
    "week_1_google_0407=df_google_trans_0407[df_google_trans_0407['transaction_timestamp']<=\"2019-04-13\"]\n",
    "print(\"week_1_google_0407['transaction_amount'].sum()\",week_1_google_0407['transaction_amount'].sum())\n",
    "print(\"week_1_google_0407['Email_1'].nunique()\",week_1_google_0407['Email_1'].nunique())\n",
    "print(\"week_1_google_0407.shape\",week_1_google_0407.shape)\n"
   ]
  },
  {
   "cell_type": "code",
   "execution_count": 35,
   "metadata": {},
   "outputs": [
    {
     "data": {
      "text/plain": [
       "53087832.649999961"
      ]
     },
     "execution_count": 35,
     "metadata": {},
     "output_type": "execute_result"
    }
   ],
   "source": [
    "df_google_trans_0407[df_google_trans_0407['transaction_timestamp']>=\"2019-04-14\"]['transaction_amount'].sum()"
   ]
  },
  {
   "cell_type": "code",
   "execution_count": 29,
   "metadata": {},
   "outputs": [
    {
     "name": "stdout",
     "output_type": "stream",
     "text": [
      "df_bing_trans_0407['Conversion_Amount'].sum() 68009971.12\n",
      "df_bing_trans_0407['Email_1'].nunique() 1263217\n",
      "df_bing_trans_0407.shape (1392981, 5)\n"
     ]
    }
   ],
   "source": [
    "df_bing_trans_0407=pd.read_table(\"/home/jian/celery/Bing_LiveRamp/output/BL_LR_BingStoreSales_2019-04-07_2019-04-13_JL_2019-04-16.txt\",dtype=str,sep=\"|\")\n",
    "\n",
    "df_bing_trans_0407['Conversion_Amount']=df_bing_trans_0407['Conversion_Amount'].astype(float)\n",
    "print(\"df_bing_trans_0407['Conversion_Amount'].sum()\",df_bing_trans_0407['Conversion_Amount'].sum())\n",
    "print(\"df_bing_trans_0407['Email_1'].nunique()\",df_bing_trans_0407['Email_1'].nunique())\n",
    "print(\"df_bing_trans_0407.shape\",df_bing_trans_0407.shape)"
   ]
  },
  {
   "cell_type": "code",
   "execution_count": 36,
   "metadata": {},
   "outputs": [
    {
     "name": "stdout",
     "output_type": "stream",
     "text": [
      "df_bing_trans_0414['Conversion_Amount'].sum() 52644928.68\n",
      "df_bing_trans_0414['Email_1'].nunique() 1137307\n",
      "df_bing_trans_0414.shape (1250958, 5)\n"
     ]
    }
   ],
   "source": [
    "df_bing_trans_0414=pd.read_table(\"/home/jian/celery/Bing_LiveRamp/output/BL_LR_BingStoreSales_2019-04-14_2019-04-20_JL_2019-04-23.txt\",dtype=str,sep=\"|\")\n",
    "\n",
    "df_bing_trans_0414['Conversion_Amount']=df_bing_trans_0414['Conversion_Amount'].astype(float)\n",
    "print(\"df_bing_trans_0414['Conversion_Amount'].sum()\",df_bing_trans_0414['Conversion_Amount'].sum())\n",
    "print(\"df_bing_trans_0414['Email_1'].nunique()\",df_bing_trans_0414['Email_1'].nunique())\n",
    "print(\"df_bing_trans_0414.shape\",df_bing_trans_0414.shape)"
   ]
  },
  {
   "cell_type": "code",
   "execution_count": 32,
   "metadata": {},
   "outputs": [
    {
     "data": {
      "text/plain": [
       "'2019-04-13'"
      ]
     },
     "execution_count": 32,
     "metadata": {},
     "output_type": "execute_result"
    }
   ],
   "source": [
    "df_bing_trans_0407['Timestamp'].max()"
   ]
  },
  {
   "cell_type": "code",
   "execution_count": 8,
   "metadata": {},
   "outputs": [
    {
     "data": {
      "text/plain": [
       "datetime.timedelta(74)"
      ]
     },
     "execution_count": 8,
     "metadata": {},
     "output_type": "execute_result"
    }
   ],
   "source": [
    "import datetime\n",
    "\n",
    "datetime.date(2019,5,5)-datetime.date(2019,2,20)"
   ]
  },
  {
   "cell_type": "code",
   "execution_count": 11,
   "metadata": {},
   "outputs": [
    {
     "data": {
      "text/html": [
       "<div>\n",
       "<style>\n",
       "    .dataframe thead tr:only-child th {\n",
       "        text-align: right;\n",
       "    }\n",
       "\n",
       "    .dataframe thead th {\n",
       "        text-align: left;\n",
       "    }\n",
       "\n",
       "    .dataframe tbody tr th {\n",
       "        vertical-align: top;\n",
       "    }\n",
       "</style>\n",
       "<table border=\"1\" class=\"dataframe\">\n",
       "  <thead>\n",
       "    <tr style=\"text-align: right;\">\n",
       "      <th></th>\n",
       "      <th>customer_id_hashed</th>\n",
       "      <th>transaction_date</th>\n",
       "      <th>transaction_date_before_the_Quarter</th>\n",
       "      <th>transaction_date_after_the_Quarter</th>\n",
       "      <th>Days_to_pre_Quarter_End</th>\n",
       "      <th>Days_to_recentt_Quarter_End</th>\n",
       "      <th>Month_to_pre_Quarter_End</th>\n",
       "      <th>Month_to_recent_Quarter_End</th>\n",
       "      <th>Group_before_the_Quarter</th>\n",
       "      <th>Group_after_the_Quarter</th>\n",
       "      <th>sales_recent_Quarter</th>\n",
       "      <th>Recent_Quarter_Shopping_Group</th>\n",
       "    </tr>\n",
       "  </thead>\n",
       "  <tbody>\n",
       "    <tr>\n",
       "      <th>0</th>\n",
       "      <td>00000135f48c68690ad3d5fc9ada41bb5cd687452007e8...</td>\n",
       "      <td>2017-01-19</td>\n",
       "      <td>2017-01-19</td>\n",
       "      <td>2017-01-19</td>\n",
       "      <td>380 days 00:00:00.000000000</td>\n",
       "      <td>471 days 00:00:00.000000000</td>\n",
       "      <td>12.484599589322382</td>\n",
       "      <td>15.474332648870636</td>\n",
       "      <td>Lapsed_13_48</td>\n",
       "      <td>Lapsed_13_48</td>\n",
       "      <td>0.0</td>\n",
       "      <td>Recent_Quarter_No_Shop</td>\n",
       "    </tr>\n",
       "    <tr>\n",
       "      <th>1</th>\n",
       "      <td>000002c86b9805b916f2a04b7a0031bb9ee03224e98221...</td>\n",
       "      <td>2014-12-01</td>\n",
       "      <td>2014-12-01</td>\n",
       "      <td>2014-12-01</td>\n",
       "      <td>1160 days 00:00:00.000000000</td>\n",
       "      <td>1251 days 00:00:00.000000000</td>\n",
       "      <td>38.110882956878854</td>\n",
       "      <td>41.100616016427104</td>\n",
       "      <td>Lapsed_13_48</td>\n",
       "      <td>Lapsed_13_48</td>\n",
       "      <td>0.0</td>\n",
       "      <td>Recent_Quarter_No_Shop</td>\n",
       "    </tr>\n",
       "    <tr>\n",
       "      <th>2</th>\n",
       "      <td>000003066bafc6b19c55d3be5fc646a253c659e9e6baea...</td>\n",
       "      <td>2017-11-10</td>\n",
       "      <td>2017-11-10</td>\n",
       "      <td>2017-11-10</td>\n",
       "      <td>85 days 00:00:00.000000000</td>\n",
       "      <td>176 days 00:00:00.000000000</td>\n",
       "      <td>2.7926078028747434</td>\n",
       "      <td>5.782340862422998</td>\n",
       "      <td>Active</td>\n",
       "      <td>Active</td>\n",
       "      <td>0.0</td>\n",
       "      <td>Recent_Quarter_No_Shop</td>\n",
       "    </tr>\n",
       "    <tr>\n",
       "      <th>3</th>\n",
       "      <td>0000034fec3c2cbbf7a2b38fbf80d84abc72d8bed269c4...</td>\n",
       "      <td>2016-07-09</td>\n",
       "      <td>2016-07-09</td>\n",
       "      <td>2016-07-09</td>\n",
       "      <td>574 days 00:00:00.000000000</td>\n",
       "      <td>665 days 00:00:00.000000000</td>\n",
       "      <td>18.858316221765914</td>\n",
       "      <td>21.848049281314168</td>\n",
       "      <td>Lapsed_13_48</td>\n",
       "      <td>Lapsed_13_48</td>\n",
       "      <td>0.0</td>\n",
       "      <td>Recent_Quarter_No_Shop</td>\n",
       "    </tr>\n",
       "    <tr>\n",
       "      <th>4</th>\n",
       "      <td>00000435bfb3bf42e3beb4c9b3942c552d09f0e49e5a75...</td>\n",
       "      <td>2017-08-15</td>\n",
       "      <td>2017-08-15</td>\n",
       "      <td>2018-03-24</td>\n",
       "      <td>172 days 00:00:00.000000000</td>\n",
       "      <td>42 days 00:00:00.000000000</td>\n",
       "      <td>5.650924024640657</td>\n",
       "      <td>1.379876796714579</td>\n",
       "      <td>Active</td>\n",
       "      <td>Active</td>\n",
       "      <td>33.55</td>\n",
       "      <td>Recent_Quarter_Shopped</td>\n",
       "    </tr>\n",
       "    <tr>\n",
       "      <th>5</th>\n",
       "      <td>000006784b07050cf4d45cfd14f59bae5a893a9e611752...</td>\n",
       "      <td>2017-07-30</td>\n",
       "      <td>2017-07-30</td>\n",
       "      <td>2017-07-30</td>\n",
       "      <td>188 days 00:00:00.000000000</td>\n",
       "      <td>279 days 00:00:00.000000000</td>\n",
       "      <td>6.176591375770021</td>\n",
       "      <td>9.166324435318275</td>\n",
       "      <td>Active</td>\n",
       "      <td>Active</td>\n",
       "      <td>0.0</td>\n",
       "      <td>Recent_Quarter_No_Shop</td>\n",
       "    </tr>\n",
       "    <tr>\n",
       "      <th>6</th>\n",
       "      <td>000006aa196c7510ca3b4617e7e52d9527e0190e9152fb...</td>\n",
       "      <td>2017-04-17</td>\n",
       "      <td>2017-04-17</td>\n",
       "      <td>2018-04-08</td>\n",
       "      <td>292 days 00:00:00.000000000</td>\n",
       "      <td>27 days 00:00:00.000000000</td>\n",
       "      <td>9.593429158110883</td>\n",
       "      <td>0.8870636550308009</td>\n",
       "      <td>Active</td>\n",
       "      <td>Active</td>\n",
       "      <td>39.93000000000001</td>\n",
       "      <td>Recent_Quarter_Shopped</td>\n",
       "    </tr>\n",
       "    <tr>\n",
       "      <th>7</th>\n",
       "      <td>000006e85aba854de9992437786bddfbd409ddbebeeb80...</td>\n",
       "      <td>2017-11-26</td>\n",
       "      <td>2017-11-26</td>\n",
       "      <td>2018-05-04</td>\n",
       "      <td>69 days 00:00:00.000000000</td>\n",
       "      <td>1 days 00:00:00.000000000</td>\n",
       "      <td>2.2669404517453797</td>\n",
       "      <td>0.03285420944558522</td>\n",
       "      <td>Active</td>\n",
       "      <td>Active</td>\n",
       "      <td>11.0</td>\n",
       "      <td>Recent_Quarter_Shopped</td>\n",
       "    </tr>\n",
       "    <tr>\n",
       "      <th>8</th>\n",
       "      <td>000008146a15884db40b753f8829c6887be71e51368303...</td>\n",
       "      <td>2017-11-18</td>\n",
       "      <td>2017-11-18</td>\n",
       "      <td>2018-02-12</td>\n",
       "      <td>77 days 00:00:00.000000000</td>\n",
       "      <td>82 days 00:00:00.000000000</td>\n",
       "      <td>2.529774127310062</td>\n",
       "      <td>2.6940451745379876</td>\n",
       "      <td>Active</td>\n",
       "      <td>Active</td>\n",
       "      <td>49.879999999999995</td>\n",
       "      <td>Recent_Quarter_Shopped</td>\n",
       "    </tr>\n",
       "    <tr>\n",
       "      <th>9</th>\n",
       "      <td>000008374518306e87838f387eedc47d49a447707dc6da...</td>\n",
       "      <td>2018-01-20</td>\n",
       "      <td>2018-01-20</td>\n",
       "      <td>2018-04-07</td>\n",
       "      <td>14 days 00:00:00.000000000</td>\n",
       "      <td>28 days 00:00:00.000000000</td>\n",
       "      <td>0.459958932238193</td>\n",
       "      <td>0.919917864476386</td>\n",
       "      <td>Active</td>\n",
       "      <td>Active</td>\n",
       "      <td>38.3</td>\n",
       "      <td>Recent_Quarter_Shopped</td>\n",
       "    </tr>\n",
       "  </tbody>\n",
       "</table>\n",
       "</div>"
      ],
      "text/plain": [
       "                                  customer_id_hashed transaction_date  \\\n",
       "0  00000135f48c68690ad3d5fc9ada41bb5cd687452007e8...       2017-01-19   \n",
       "1  000002c86b9805b916f2a04b7a0031bb9ee03224e98221...       2014-12-01   \n",
       "2  000003066bafc6b19c55d3be5fc646a253c659e9e6baea...       2017-11-10   \n",
       "3  0000034fec3c2cbbf7a2b38fbf80d84abc72d8bed269c4...       2016-07-09   \n",
       "4  00000435bfb3bf42e3beb4c9b3942c552d09f0e49e5a75...       2017-08-15   \n",
       "5  000006784b07050cf4d45cfd14f59bae5a893a9e611752...       2017-07-30   \n",
       "6  000006aa196c7510ca3b4617e7e52d9527e0190e9152fb...       2017-04-17   \n",
       "7  000006e85aba854de9992437786bddfbd409ddbebeeb80...       2017-11-26   \n",
       "8  000008146a15884db40b753f8829c6887be71e51368303...       2017-11-18   \n",
       "9  000008374518306e87838f387eedc47d49a447707dc6da...       2018-01-20   \n",
       "\n",
       "  transaction_date_before_the_Quarter transaction_date_after_the_Quarter  \\\n",
       "0                          2017-01-19                         2017-01-19   \n",
       "1                          2014-12-01                         2014-12-01   \n",
       "2                          2017-11-10                         2017-11-10   \n",
       "3                          2016-07-09                         2016-07-09   \n",
       "4                          2017-08-15                         2018-03-24   \n",
       "5                          2017-07-30                         2017-07-30   \n",
       "6                          2017-04-17                         2018-04-08   \n",
       "7                          2017-11-26                         2018-05-04   \n",
       "8                          2017-11-18                         2018-02-12   \n",
       "9                          2018-01-20                         2018-04-07   \n",
       "\n",
       "        Days_to_pre_Quarter_End   Days_to_recentt_Quarter_End  \\\n",
       "0   380 days 00:00:00.000000000   471 days 00:00:00.000000000   \n",
       "1  1160 days 00:00:00.000000000  1251 days 00:00:00.000000000   \n",
       "2    85 days 00:00:00.000000000   176 days 00:00:00.000000000   \n",
       "3   574 days 00:00:00.000000000   665 days 00:00:00.000000000   \n",
       "4   172 days 00:00:00.000000000    42 days 00:00:00.000000000   \n",
       "5   188 days 00:00:00.000000000   279 days 00:00:00.000000000   \n",
       "6   292 days 00:00:00.000000000    27 days 00:00:00.000000000   \n",
       "7    69 days 00:00:00.000000000     1 days 00:00:00.000000000   \n",
       "8    77 days 00:00:00.000000000    82 days 00:00:00.000000000   \n",
       "9    14 days 00:00:00.000000000    28 days 00:00:00.000000000   \n",
       "\n",
       "  Month_to_pre_Quarter_End Month_to_recent_Quarter_End  \\\n",
       "0       12.484599589322382          15.474332648870636   \n",
       "1       38.110882956878854          41.100616016427104   \n",
       "2       2.7926078028747434           5.782340862422998   \n",
       "3       18.858316221765914          21.848049281314168   \n",
       "4        5.650924024640657           1.379876796714579   \n",
       "5        6.176591375770021           9.166324435318275   \n",
       "6        9.593429158110883          0.8870636550308009   \n",
       "7       2.2669404517453797         0.03285420944558522   \n",
       "8        2.529774127310062          2.6940451745379876   \n",
       "9        0.459958932238193           0.919917864476386   \n",
       "\n",
       "  Group_before_the_Quarter Group_after_the_Quarter sales_recent_Quarter  \\\n",
       "0             Lapsed_13_48            Lapsed_13_48                  0.0   \n",
       "1             Lapsed_13_48            Lapsed_13_48                  0.0   \n",
       "2                   Active                  Active                  0.0   \n",
       "3             Lapsed_13_48            Lapsed_13_48                  0.0   \n",
       "4                   Active                  Active                33.55   \n",
       "5                   Active                  Active                  0.0   \n",
       "6                   Active                  Active    39.93000000000001   \n",
       "7                   Active                  Active                 11.0   \n",
       "8                   Active                  Active   49.879999999999995   \n",
       "9                   Active                  Active                 38.3   \n",
       "\n",
       "  Recent_Quarter_Shopping_Group  \n",
       "0        Recent_Quarter_No_Shop  \n",
       "1        Recent_Quarter_No_Shop  \n",
       "2        Recent_Quarter_No_Shop  \n",
       "3        Recent_Quarter_No_Shop  \n",
       "4        Recent_Quarter_Shopped  \n",
       "5        Recent_Quarter_No_Shop  \n",
       "6        Recent_Quarter_Shopped  \n",
       "7        Recent_Quarter_Shopped  \n",
       "8        Recent_Quarter_Shopped  \n",
       "9        Recent_Quarter_Shopped  "
      ]
     },
     "execution_count": 11,
     "metadata": {},
     "output_type": "execute_result"
    }
   ],
   "source": [
    "df_example=pd.read_csv(\"./BL_2018Q1_rewards_migration_rewards_data_JL_2019-05-28.csv\",dtype=str,nrows=10)\n",
    "df_example"
   ]
  },
  {
   "cell_type": "code",
   "execution_count": null,
   "metadata": {
    "collapsed": true
   },
   "outputs": [],
   "source": []
  }
 ],
 "metadata": {
  "kernelspec": {
   "display_name": "Python 3",
   "language": "python",
   "name": "python3"
  },
  "language_info": {
   "codemirror_mode": {
    "name": "ipython",
    "version": 3
   },
   "file_extension": ".py",
   "mimetype": "text/x-python",
   "name": "python",
   "nbconvert_exporter": "python",
   "pygments_lexer": "ipython3",
   "version": "3.6.1"
  }
 },
 "nbformat": 4,
 "nbformat_minor": 2
}
