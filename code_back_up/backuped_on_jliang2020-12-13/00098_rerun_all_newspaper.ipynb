{
 "cells": [
  {
   "cell_type": "code",
   "execution_count": 1,
   "metadata": {
    "collapsed": true
   },
   "outputs": [],
   "source": [
    "import pandas as pd\n",
    "import glob\n",
    "import numpy as np\n",
    "import datetime\n",
    "import logging\n",
    "logging.basicConfig(filename='read all newspaper files.log', level=logging.INFO)\n",
    "\n",
    "start_running=str(datetime.datetime.now())\n",
    "logging.info(\"Start to run: \"+ start_running)\n",
    "\n",
    "folder=\"/home/jian/Projects/Big_Lots/Newspaper/All newspaper files for reading JL/\"\n",
    "\n",
    "file_list=glob.glob(folder+\"*\")\n",
    "logging.info(\"Total files: \"+str(len(file_list)))\n",
    "\n",
    "Selected_Col=['projectname','storeid','productname','productid','dayname','zips','totalcirc']\n",
    "output_combined_all_date=pd.DataFrame()\n",
    "check_df=pd.DataFrame()\n",
    "finished=[]\n",
    "for file in file_list:\n",
    "\n",
    "    date=file.split(\"/\")[len(file.split(\"/\"))-1].split(\" \")[0]+\" \"+file.split(\"/\")[len(file.split(\"/\"))-1].split(\" \")[1]+\" \"+\\\n",
    "    file.split(\"/\")[len(file.split(\"/\"))-1].split(\" \")[2]\n",
    "    date=date.replace(\"Sept\",\"Sep\")\n",
    "\n",
    "    if len(date.split(\" \")[0])==3:\n",
    "        date=datetime.datetime.strptime(date,\"%b %d %Y\").date()\n",
    "    else:\n",
    "        date=datetime.datetime.strptime(date,\"%B %d %Y\").date()\n",
    "    df=pd.read_excel(file,sheetname=\"to_read\",dtype=str,na_values=['NULL',\"\",\" \"])\n",
    "    df=df[Selected_Col]\n",
    "    df['zips']=df['zips'].fillna('null')\n",
    "    df['totalcirc']=df['totalcirc'].astype(float)\n",
    "    df['keys']=df['storeid']+\"_\"+df['productid']\n",
    "    df['Date']=date\n",
    "    check_df=check_df.append(df)\n",
    "    \n",
    "    \n",
    "    df_combine_date=pd.DataFrame()\n",
    "    for key in df['keys'].unique():\n",
    "        df_product_store=df[df['keys']==key]\n",
    "        df_product_store_NA=df_product_store[df_product_store['zips']=='nan']\n",
    "        df_product_store_NA.reset_index(inplace=True)\n",
    "        del df_product_store_NA['index']\n",
    "        df_product_store_zip=df_product_store[df_product_store['zips']!='nan']\n",
    "        df_product_store_zip.reset_index(inplace=True)\n",
    "        del df_product_store_zip['index']        \n",
    "\n",
    "        if len(df_product_store_NA)==0:\n",
    "            df_product_store_zip=df_product_store.groupby(['storeid','productname','productid','dayname','zips'])['totalcirc'].sum().to_frame()\n",
    "            df_product_store_zip['circ_proportion_of_Null']=0\n",
    "            df_product_store_zip['adjusted_circ_about_Null']=df_product_store_zip['totalcirc']\n",
    "            df_product_store_zip.reset_index(inplace=True)\n",
    "        elif len(df_product_store_zip)==0:\n",
    "            # print(str(date),key,\"All Null Zips\")\n",
    "            df_product_store_zip=df_product_store.groupby(['storeid','productname','productid','dayname','zips'])['totalcirc'].sum().to_frame()\n",
    "            df_product_store_zip['circ_proportion_of_Null']=1\n",
    "            df_product_store_zip['adjusted_circ_about_Null']=df_product_store_zip['totalcirc']\n",
    "            df_product_store_zip.reset_index(inplace=True)\n",
    "        elif len(df_product_store_NA)>=1:\n",
    "            na_zip_circ=df_product_store_NA['totalcirc'].sum()\n",
    "            df_product_store_zip=df_product_store_zip.groupby(['storeid','productname','productid','dayname','zips'])['totalcirc'].sum().to_frame()\n",
    "            df_product_store_zip.reset_index(inplace=True)\n",
    "            df_product_store_zip['circ_proportion_of_Null']=df_product_store_zip['totalcirc'].apply(lambda x:x/sum(df_product_store_zip['totalcirc']))\n",
    "            df_product_store_zip['adjusted_circ_about_Null']=df_product_store_zip['totalcirc']+df_product_store_zip['circ_proportion_of_Null']*na_zip_circ\n",
    "        df_combine_date=df_combine_date.append(df_product_store_zip)\n",
    "\n",
    "    df_combine_date['Date']=date\n",
    "    finished=finished+[str(date)]\n",
    "    logging.info(str(date)+ \" : Done of \"+str(len(finished)))\n",
    "\n",
    "    output_combined_all_date=output_combined_all_date.append(df_combine_date) \n",
    "output_combined_all_date.reset_index(inplace=True)\n",
    "del output_combined_all_date['index']\n",
    "# output_combined_all_date.to_excel(\"/home/jian/Projects/Big_Lots/Newspaper/BL_combined newspaper data_JL_20180501.xlsx\",index=False)"
   ]
  },
  {
   "cell_type": "code",
   "execution_count": 4,
   "metadata": {},
   "outputs": [],
   "source": [
    "household=pd.read_csv(\"/home/jian/Docs/Household and Population/2016/ACS_16_5YR_S1101_with_ann (Household Composition).csv\",dtype=str,skiprows=1)\n",
    "household=household.iloc[:,[0,4]]\n",
    "household['zip_cd']=household['Id'].apply(lambda x: x[len(x)-5:len(x)])\n",
    "household=household[['zip_cd','Total; Margin of Error; Total households']]\n",
    "household.columns=['zip_cd','Households']\n",
    "household['Households']=household['Households'].fillna(0)\n",
    "household['Households']=household['Households'].astype(int)"
   ]
  },
  {
   "cell_type": "code",
   "execution_count": 7,
   "metadata": {},
   "outputs": [],
   "source": [
    "output_combined_all_date['zip_list']=output_combined_all_date['zips'].apply(lambda x: [ zip.strip().zfill(5) for zip in x.split(\",\")])\n",
    "output_combined_all_date['zip_count']=output_combined_all_date['zip_list'].apply(lambda x: len(x))"
   ]
  },
  {
   "cell_type": "code",
   "execution_count": 10,
   "metadata": {},
   "outputs": [
    {
     "data": {
      "text/html": [
       "<div>\n",
       "<style>\n",
       "    .dataframe thead tr:only-child th {\n",
       "        text-align: right;\n",
       "    }\n",
       "\n",
       "    .dataframe thead th {\n",
       "        text-align: left;\n",
       "    }\n",
       "\n",
       "    .dataframe tbody tr th {\n",
       "        vertical-align: top;\n",
       "    }\n",
       "</style>\n",
       "<table border=\"1\" class=\"dataframe\">\n",
       "  <thead>\n",
       "    <tr style=\"text-align: right;\">\n",
       "      <th></th>\n",
       "      <th>storeid</th>\n",
       "      <th>productname</th>\n",
       "      <th>productid</th>\n",
       "      <th>dayname</th>\n",
       "      <th>zips</th>\n",
       "      <th>totalcirc</th>\n",
       "      <th>circ_proportion_of_Null</th>\n",
       "      <th>adjusted_circ_about_Null</th>\n",
       "      <th>Date</th>\n",
       "      <th>zip_list</th>\n",
       "      <th>zip_count</th>\n",
       "    </tr>\n",
       "  </thead>\n",
       "  <tbody>\n",
       "    <tr>\n",
       "      <th>0</th>\n",
       "      <td>4598</td>\n",
       "      <td>Abilene Reporter News (Abilene, TX)</td>\n",
       "      <td>572</td>\n",
       "      <td>Sunday</td>\n",
       "      <td>76442, 76471, 76801, 76802, 76443, 79504</td>\n",
       "      <td>313.0</td>\n",
       "      <td>0.023750</td>\n",
       "      <td>297.491312</td>\n",
       "      <td>2017-03-19</td>\n",
       "      <td>[76442, 76471, 76801, 76802, 76443, 79504]</td>\n",
       "      <td>6</td>\n",
       "    </tr>\n",
       "    <tr>\n",
       "      <th>1</th>\n",
       "      <td>4598</td>\n",
       "      <td>Abilene Reporter News (Abilene, TX)</td>\n",
       "      <td>572</td>\n",
       "      <td>Sunday</td>\n",
       "      <td>76823, 76443</td>\n",
       "      <td>66.0</td>\n",
       "      <td>0.005008</td>\n",
       "      <td>62.729797</td>\n",
       "      <td>2017-03-19</td>\n",
       "      <td>[76823, 76443]</td>\n",
       "      <td>2</td>\n",
       "    </tr>\n",
       "  </tbody>\n",
       "</table>\n",
       "</div>"
      ],
      "text/plain": [
       "  storeid                          productname productid dayname  \\\n",
       "0    4598  Abilene Reporter News (Abilene, TX)       572  Sunday   \n",
       "1    4598  Abilene Reporter News (Abilene, TX)       572  Sunday   \n",
       "\n",
       "                                       zips  totalcirc  \\\n",
       "0  76442, 76471, 76801, 76802, 76443, 79504      313.0   \n",
       "1                              76823, 76443       66.0   \n",
       "\n",
       "   circ_proportion_of_Null  adjusted_circ_about_Null        Date  \\\n",
       "0                 0.023750                297.491312  2017-03-19   \n",
       "1                 0.005008                 62.729797  2017-03-19   \n",
       "\n",
       "                                     zip_list  zip_count  \n",
       "0  [76442, 76471, 76801, 76802, 76443, 79504]          6  \n",
       "1                              [76823, 76443]          2  "
      ]
     },
     "execution_count": 10,
     "metadata": {},
     "output_type": "execute_result"
    }
   ],
   "source": [
    "check_zips=[]\n",
    "for zip_list in output_combined_all_date['zip_list']:\n",
    "    check_zips=list(set(check_zips+zip_list))\n",
    "output_combined_all_date.head(2)"
   ]
  },
  {
   "cell_type": "code",
   "execution_count": 11,
   "metadata": {},
   "outputs": [
    {
     "data": {
      "text/plain": [
       "20990"
      ]
     },
     "execution_count": 11,
     "metadata": {},
     "output_type": "execute_result"
    }
   ],
   "source": [
    "check_zips"
   ]
  },
  {
   "cell_type": "code",
   "execution_count": 8,
   "metadata": {},
   "outputs": [
    {
     "name": "stderr",
     "output_type": "stream",
     "text": [
      "/usr/local/lib/python3.6/site-packages/ipykernel_launcher.py:3: SettingWithCopyWarning: \n",
      "A value is trying to be set on a copy of a slice from a DataFrame.\n",
      "Try using .loc[row_indexer,col_indexer] = value instead\n",
      "\n",
      "See the caveats in the documentation: http://pandas.pydata.org/pandas-docs/stable/indexing.html#indexing-view-versus-copy\n",
      "  This is separate from the ipykernel package so we can avoid doing imports until\n",
      "/usr/local/lib/python3.6/site-packages/ipykernel_launcher.py:4: SettingWithCopyWarning: \n",
      "A value is trying to be set on a copy of a slice from a DataFrame.\n",
      "Try using .loc[row_indexer,col_indexer] = value instead\n",
      "\n",
      "See the caveats in the documentation: http://pandas.pydata.org/pandas-docs/stable/indexing.html#indexing-view-versus-copy\n",
      "  after removing the cwd from sys.path.\n",
      "/usr/local/lib/python3.6/site-packages/ipykernel_launcher.py:5: SettingWithCopyWarning: \n",
      "A value is trying to be set on a copy of a slice from a DataFrame.\n",
      "Try using .loc[row_indexer,col_indexer] = value instead\n",
      "\n",
      "See the caveats in the documentation: http://pandas.pydata.org/pandas-docs/stable/indexing.html#indexing-view-versus-copy\n",
      "  \"\"\"\n"
     ]
    },
    {
     "name": "stdout",
     "output_type": "stream",
     "text": [
      "output_combined_all_date_M_agg done of the row: 1\n",
      "output_combined_all_date_M_agg done of the row: 1001\n",
      "output_combined_all_date_M_agg done of the row: 2001\n",
      "output_combined_all_date_M_agg done of the row: 3001\n"
     ]
    },
    {
     "ename": "KeyboardInterrupt",
     "evalue": "",
     "output_type": "error",
     "traceback": [
      "\u001b[0;31m---------------------------------------------------------------------------\u001b[0m",
      "\u001b[0;31mKeyboardInterrupt\u001b[0m                         Traceback (most recent call last)",
      "\u001b[0;32m<ipython-input-8-be0cd1fff3cc>\u001b[0m in \u001b[0;36m<module>\u001b[0;34m()\u001b[0m\n\u001b[1;32m     17\u001b[0m         \u001b[0mdf_1_zip\u001b[0m\u001b[0;34m[\u001b[0m\u001b[0;34m'zip_cd'\u001b[0m\u001b[0;34m]\u001b[0m\u001b[0;34m=\u001b[0m\u001b[0mzip_i\u001b[0m\u001b[0;34m\u001b[0m\u001b[0m\n\u001b[1;32m     18\u001b[0m         \u001b[0mdf_to_app\u001b[0m\u001b[0;34m=\u001b[0m\u001b[0mdf_to_app\u001b[0m\u001b[0;34m.\u001b[0m\u001b[0mappend\u001b[0m\u001b[0;34m(\u001b[0m\u001b[0mdf_1_zip\u001b[0m\u001b[0;34m)\u001b[0m\u001b[0;34m\u001b[0m\u001b[0m\n\u001b[0;32m---> 19\u001b[0;31m     \u001b[0mdf_to_app\u001b[0m\u001b[0;34m=\u001b[0m\u001b[0mpd\u001b[0m\u001b[0;34m.\u001b[0m\u001b[0mmerge\u001b[0m\u001b[0;34m(\u001b[0m\u001b[0mdf_to_app\u001b[0m\u001b[0;34m,\u001b[0m\u001b[0mhousehold\u001b[0m\u001b[0;34m,\u001b[0m\u001b[0mon\u001b[0m\u001b[0;34m=\u001b[0m\u001b[0;34m\"zip_cd\"\u001b[0m\u001b[0;34m,\u001b[0m\u001b[0mhow\u001b[0m\u001b[0;34m=\u001b[0m\u001b[0;34m\"left\"\u001b[0m\u001b[0;34m)\u001b[0m\u001b[0;34m\u001b[0m\u001b[0m\n\u001b[0m\u001b[1;32m     20\u001b[0m     \u001b[0mdf_to_app\u001b[0m\u001b[0;34m[\u001b[0m\u001b[0;34m'zip_list_proportion'\u001b[0m\u001b[0;34m]\u001b[0m\u001b[0;34m=\u001b[0m\u001b[0mdf_to_app\u001b[0m\u001b[0;34m[\u001b[0m\u001b[0;34m'Households'\u001b[0m\u001b[0;34m]\u001b[0m\u001b[0;34m/\u001b[0m\u001b[0mdf_to_app\u001b[0m\u001b[0;34m[\u001b[0m\u001b[0;34m'Households'\u001b[0m\u001b[0;34m]\u001b[0m\u001b[0;34m.\u001b[0m\u001b[0msum\u001b[0m\u001b[0;34m(\u001b[0m\u001b[0;34m)\u001b[0m\u001b[0;34m\u001b[0m\u001b[0m\n\u001b[1;32m     21\u001b[0m     \u001b[0mdf_to_app\u001b[0m\u001b[0;34m[\u001b[0m\u001b[0;34m'adjusted_circ_with_list'\u001b[0m\u001b[0;34m]\u001b[0m\u001b[0;34m=\u001b[0m\u001b[0mdf_to_app\u001b[0m\u001b[0;34m[\u001b[0m\u001b[0;34m'adjusted_circ_about_Null'\u001b[0m\u001b[0;34m]\u001b[0m\u001b[0;34m*\u001b[0m\u001b[0mdf_to_app\u001b[0m\u001b[0;34m[\u001b[0m\u001b[0;34m'zip_list_proportion'\u001b[0m\u001b[0;34m]\u001b[0m\u001b[0;34m\u001b[0m\u001b[0m\n",
      "\u001b[0;32m/usr/local/lib/python3.6/site-packages/pandas/core/reshape/merge.py\u001b[0m in \u001b[0;36mmerge\u001b[0;34m(left, right, how, on, left_on, right_on, left_index, right_index, sort, suffixes, copy, indicator)\u001b[0m\n\u001b[1;32m     52\u001b[0m                          \u001b[0mright_index\u001b[0m\u001b[0;34m=\u001b[0m\u001b[0mright_index\u001b[0m\u001b[0;34m,\u001b[0m \u001b[0msort\u001b[0m\u001b[0;34m=\u001b[0m\u001b[0msort\u001b[0m\u001b[0;34m,\u001b[0m \u001b[0msuffixes\u001b[0m\u001b[0;34m=\u001b[0m\u001b[0msuffixes\u001b[0m\u001b[0;34m,\u001b[0m\u001b[0;34m\u001b[0m\u001b[0m\n\u001b[1;32m     53\u001b[0m                          copy=copy, indicator=indicator)\n\u001b[0;32m---> 54\u001b[0;31m     \u001b[0;32mreturn\u001b[0m \u001b[0mop\u001b[0m\u001b[0;34m.\u001b[0m\u001b[0mget_result\u001b[0m\u001b[0;34m(\u001b[0m\u001b[0;34m)\u001b[0m\u001b[0;34m\u001b[0m\u001b[0m\n\u001b[0m\u001b[1;32m     55\u001b[0m \u001b[0;34m\u001b[0m\u001b[0m\n\u001b[1;32m     56\u001b[0m \u001b[0;34m\u001b[0m\u001b[0m\n",
      "\u001b[0;32m/usr/local/lib/python3.6/site-packages/pandas/core/reshape/merge.py\u001b[0m in \u001b[0;36mget_result\u001b[0;34m(self)\u001b[0m\n\u001b[1;32m    567\u001b[0m                 self.left, self.right)\n\u001b[1;32m    568\u001b[0m \u001b[0;34m\u001b[0m\u001b[0m\n\u001b[0;32m--> 569\u001b[0;31m         \u001b[0mjoin_index\u001b[0m\u001b[0;34m,\u001b[0m \u001b[0mleft_indexer\u001b[0m\u001b[0;34m,\u001b[0m \u001b[0mright_indexer\u001b[0m \u001b[0;34m=\u001b[0m \u001b[0mself\u001b[0m\u001b[0;34m.\u001b[0m\u001b[0m_get_join_info\u001b[0m\u001b[0;34m(\u001b[0m\u001b[0;34m)\u001b[0m\u001b[0;34m\u001b[0m\u001b[0m\n\u001b[0m\u001b[1;32m    570\u001b[0m \u001b[0;34m\u001b[0m\u001b[0m\n\u001b[1;32m    571\u001b[0m         \u001b[0mldata\u001b[0m\u001b[0;34m,\u001b[0m \u001b[0mrdata\u001b[0m \u001b[0;34m=\u001b[0m \u001b[0mself\u001b[0m\u001b[0;34m.\u001b[0m\u001b[0mleft\u001b[0m\u001b[0;34m.\u001b[0m\u001b[0m_data\u001b[0m\u001b[0;34m,\u001b[0m \u001b[0mself\u001b[0m\u001b[0;34m.\u001b[0m\u001b[0mright\u001b[0m\u001b[0;34m.\u001b[0m\u001b[0m_data\u001b[0m\u001b[0;34m\u001b[0m\u001b[0m\n",
      "\u001b[0;32m/usr/local/lib/python3.6/site-packages/pandas/core/reshape/merge.py\u001b[0m in \u001b[0;36m_get_join_info\u001b[0;34m(self)\u001b[0m\n\u001b[1;32m    732\u001b[0m         \u001b[0;32melse\u001b[0m\u001b[0;34m:\u001b[0m\u001b[0;34m\u001b[0m\u001b[0m\n\u001b[1;32m    733\u001b[0m             (left_indexer,\n\u001b[0;32m--> 734\u001b[0;31m              right_indexer) = self._get_join_indexers()\n\u001b[0m\u001b[1;32m    735\u001b[0m \u001b[0;34m\u001b[0m\u001b[0m\n\u001b[1;32m    736\u001b[0m             \u001b[0;32mif\u001b[0m \u001b[0mself\u001b[0m\u001b[0;34m.\u001b[0m\u001b[0mright_index\u001b[0m\u001b[0;34m:\u001b[0m\u001b[0;34m\u001b[0m\u001b[0m\n",
      "\u001b[0;32m/usr/local/lib/python3.6/site-packages/pandas/core/reshape/merge.py\u001b[0m in \u001b[0;36m_get_join_indexers\u001b[0;34m(self)\u001b[0m\n\u001b[1;32m    711\u001b[0m                                   \u001b[0mself\u001b[0m\u001b[0;34m.\u001b[0m\u001b[0mright_join_keys\u001b[0m\u001b[0;34m,\u001b[0m\u001b[0;34m\u001b[0m\u001b[0m\n\u001b[1;32m    712\u001b[0m                                   \u001b[0msort\u001b[0m\u001b[0;34m=\u001b[0m\u001b[0mself\u001b[0m\u001b[0;34m.\u001b[0m\u001b[0msort\u001b[0m\u001b[0;34m,\u001b[0m\u001b[0;34m\u001b[0m\u001b[0m\n\u001b[0;32m--> 713\u001b[0;31m                                   how=self.how)\n\u001b[0m\u001b[1;32m    714\u001b[0m \u001b[0;34m\u001b[0m\u001b[0m\n\u001b[1;32m    715\u001b[0m     \u001b[0;32mdef\u001b[0m \u001b[0m_get_join_info\u001b[0m\u001b[0;34m(\u001b[0m\u001b[0mself\u001b[0m\u001b[0;34m)\u001b[0m\u001b[0;34m:\u001b[0m\u001b[0;34m\u001b[0m\u001b[0m\n",
      "\u001b[0;32m/usr/local/lib/python3.6/site-packages/pandas/core/reshape/merge.py\u001b[0m in \u001b[0;36m_get_join_indexers\u001b[0;34m(left_keys, right_keys, sort, how, **kwargs)\u001b[0m\n\u001b[1;32m    980\u001b[0m \u001b[0;34m\u001b[0m\u001b[0m\n\u001b[1;32m    981\u001b[0m     \u001b[0;31m# get left & right join labels and num. of levels at each location\u001b[0m\u001b[0;34m\u001b[0m\u001b[0;34m\u001b[0m\u001b[0m\n\u001b[0;32m--> 982\u001b[0;31m     \u001b[0mllab\u001b[0m\u001b[0;34m,\u001b[0m \u001b[0mrlab\u001b[0m\u001b[0;34m,\u001b[0m \u001b[0mshape\u001b[0m \u001b[0;34m=\u001b[0m \u001b[0mmap\u001b[0m\u001b[0;34m(\u001b[0m\u001b[0mlist\u001b[0m\u001b[0;34m,\u001b[0m \u001b[0mzip\u001b[0m\u001b[0;34m(\u001b[0m\u001b[0;34m*\u001b[0m \u001b[0mmap\u001b[0m\u001b[0;34m(\u001b[0m\u001b[0mfkeys\u001b[0m\u001b[0;34m,\u001b[0m \u001b[0mleft_keys\u001b[0m\u001b[0;34m,\u001b[0m \u001b[0mright_keys\u001b[0m\u001b[0;34m)\u001b[0m\u001b[0;34m)\u001b[0m\u001b[0;34m)\u001b[0m\u001b[0;34m\u001b[0m\u001b[0m\n\u001b[0m\u001b[1;32m    983\u001b[0m \u001b[0;34m\u001b[0m\u001b[0m\n\u001b[1;32m    984\u001b[0m     \u001b[0;31m# get flat i8 keys from label lists\u001b[0m\u001b[0;34m\u001b[0m\u001b[0;34m\u001b[0m\u001b[0m\n",
      "\u001b[0;32m/usr/local/lib/python3.6/site-packages/pandas/core/reshape/merge.py\u001b[0m in \u001b[0;36m_factorize_keys\u001b[0;34m(lk, rk, sort)\u001b[0m\n\u001b[1;32m   1404\u001b[0m \u001b[0;34m\u001b[0m\u001b[0m\n\u001b[1;32m   1405\u001b[0m     \u001b[0mllab\u001b[0m \u001b[0;34m=\u001b[0m \u001b[0mrizer\u001b[0m\u001b[0;34m.\u001b[0m\u001b[0mfactorize\u001b[0m\u001b[0;34m(\u001b[0m\u001b[0mlk\u001b[0m\u001b[0;34m)\u001b[0m\u001b[0;34m\u001b[0m\u001b[0m\n\u001b[0;32m-> 1406\u001b[0;31m     \u001b[0mrlab\u001b[0m \u001b[0;34m=\u001b[0m \u001b[0mrizer\u001b[0m\u001b[0;34m.\u001b[0m\u001b[0mfactorize\u001b[0m\u001b[0;34m(\u001b[0m\u001b[0mrk\u001b[0m\u001b[0;34m)\u001b[0m\u001b[0;34m\u001b[0m\u001b[0m\n\u001b[0m\u001b[1;32m   1407\u001b[0m \u001b[0;34m\u001b[0m\u001b[0m\n\u001b[1;32m   1408\u001b[0m     \u001b[0mcount\u001b[0m \u001b[0;34m=\u001b[0m \u001b[0mrizer\u001b[0m\u001b[0;34m.\u001b[0m\u001b[0mget_count\u001b[0m\u001b[0;34m(\u001b[0m\u001b[0;34m)\u001b[0m\u001b[0;34m\u001b[0m\u001b[0m\n",
      "\u001b[0;32mpandas/_libs/hashtable.pyx\u001b[0m in \u001b[0;36mpandas._libs.hashtable.Factorizer.factorize (pandas/_libs/hashtable.c:33820)\u001b[0;34m()\u001b[0m\n",
      "\u001b[0;32mpandas/_libs/hashtable_class_helper.pxi\u001b[0m in \u001b[0;36mpandas._libs.hashtable.PyObjectHashTable.get_labels (pandas/_libs/hashtable.c:22245)\u001b[0;34m()\u001b[0m\n",
      "\u001b[0;32m/usr/local/lib/python3.6/site-packages/numpy/core/numeric.py\u001b[0m in \u001b[0;36masarray\u001b[0;34m(a, dtype, order)\u001b[0m\n\u001b[1;32m    461\u001b[0m \u001b[0;34m\u001b[0m\u001b[0m\n\u001b[1;32m    462\u001b[0m \u001b[0;34m\u001b[0m\u001b[0m\n\u001b[0;32m--> 463\u001b[0;31m \u001b[0;32mdef\u001b[0m \u001b[0masarray\u001b[0m\u001b[0;34m(\u001b[0m\u001b[0ma\u001b[0m\u001b[0;34m,\u001b[0m \u001b[0mdtype\u001b[0m\u001b[0;34m=\u001b[0m\u001b[0;32mNone\u001b[0m\u001b[0;34m,\u001b[0m \u001b[0morder\u001b[0m\u001b[0;34m=\u001b[0m\u001b[0;32mNone\u001b[0m\u001b[0;34m)\u001b[0m\u001b[0;34m:\u001b[0m\u001b[0;34m\u001b[0m\u001b[0m\n\u001b[0m\u001b[1;32m    464\u001b[0m     \"\"\"Convert the input to an array.\n\u001b[1;32m    465\u001b[0m \u001b[0;34m\u001b[0m\u001b[0m\n",
      "\u001b[0;31mKeyboardInterrupt\u001b[0m: "
     ]
    }
   ],
   "source": [
    "output_combined_all_date_1=output_combined_all_date[output_combined_all_date['zip_count']==1]\n",
    "output_combined_all_date_M=output_combined_all_date[output_combined_all_date['zip_count']!=1]\n",
    "output_combined_all_date_1['zip_cd']=output_combined_all_date_1['zips'].str.zfill(5)\n",
    "output_combined_all_date_1['zip_list_proportion']=1\n",
    "output_combined_all_date_1['adjusted_circ_with_list']=output_combined_all_date_1['adjusted_circ_about_Null']\n",
    "output_combined_all_date_M.reset_index(inplace= True)\n",
    "del output_combined_all_date_M['index']\n",
    "output_combined_all_date_M_agg=pd.DataFrame()\n",
    "\n",
    "for i in range(len(output_combined_all_date_M)):\n",
    "    df=output_combined_all_date_M.iloc[i:(i+1),:]\n",
    "    df.reset_index(inplace=True)\n",
    "    del df['index']\n",
    "    df_to_app=pd.DataFrame()\n",
    "    for zip_i in list(set(df['zip_list'][0])):\n",
    "        df_1_zip=df.copy()\n",
    "        df_1_zip['zip_cd']=zip_i\n",
    "        df_to_app=df_to_app.append(df_1_zip)\n",
    "    df_to_app=pd.merge(df_to_app,household,on=\"zip_cd\",how=\"left\")\n",
    "    df_to_app['zip_list_proportion']=df_to_app['Households']/df_to_app['Households'].sum()\n",
    "    df_to_app['adjusted_circ_with_list']=df_to_app['adjusted_circ_about_Null']*df_to_app['zip_list_proportion']\n",
    "    output_combined_all_date_M_agg=output_combined_all_date_M_agg.append(df_to_app)\n",
    "    if i % 1000 == 1:\n",
    "        # logging.info(\"output_combined_all_date_M_agg done of the row: \"+str(i))\n",
    "        print(\"output_combined_all_date_M_agg done of the row: \"+str(i))\n",
    "output_adjusted_final=output_combined_all_date_M_agg.append(output_combined_all_date_1)\n",
    "# output_adjusted_final.to_csv(\"/home/jian/Projects/Big_Lots/Newspaper/BL_combined newspaper final_JL_20180501.csv\",index=False)\n"
   ]
  },
  {
   "cell_type": "code",
   "execution_count": null,
   "metadata": {
    "collapsed": true
   },
   "outputs": [],
   "source": [
    "output_no_detail=output_adjusted_final.groupby(['zip_cd','Date'])['adjusted_circ_with_list'].sum().to_frame()\n",
    "output_no_detail.reset_index(inplace=True)\n",
    "output_no_detail=output_no_detail.sort_values(['Date','zip_cd'])\n",
    "# output_no_detail.to_csv(\"/home/jian/Projects/Big_Lots/Newspaper/BL_newspaper count by zip by date_JL_20180501.csv\",index=False)\n",
    "\n",
    "output_no_detail=pd.read_csv(\"/home/jian/Projects/Big_Lots/Newspaper/BL_newspaper count by zip by date_JL_20180501.csv\")\n",
    "test_agg_wide=output_no_detail.pivot(index=\"zip_cd\",columns='Date',values='adjusted_circ_with_list')\n",
    "test_agg_wide.reset_index(inplace=True)\n",
    "test_agg_wide_columns=test_agg_wide.columns.tolist()[1:]\n",
    "test_agg_wide_columns=[\"newspaper_\"+x for x in test_agg_wide_columns]\n",
    "test_agg_wide.columns=[['zip_cd']+test_agg_wide_columns]\n",
    "test_agg_wide=test_agg_wide.fillna(0)\n",
    "# test_agg_wide.to_csv(\"/home/jian/Projects/Big_Lots/Newspaper/BL_newspaper wide of date by zip_JL_20180501.csv\",index=False)\n",
    "\n"
   ]
  }
 ],
 "metadata": {
  "kernelspec": {
   "display_name": "Python 3",
   "language": "python",
   "name": "python3"
  },
  "language_info": {
   "codemirror_mode": {
    "name": "ipython",
    "version": 3
   },
   "file_extension": ".py",
   "mimetype": "text/x-python",
   "name": "python",
   "nbconvert_exporter": "python",
   "pygments_lexer": "ipython3",
   "version": "3.6.1"
  }
 },
 "nbformat": 4,
 "nbformat_minor": 2
}
