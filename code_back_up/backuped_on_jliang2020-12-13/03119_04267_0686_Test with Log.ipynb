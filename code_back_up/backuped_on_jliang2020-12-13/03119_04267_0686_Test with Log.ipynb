{
 "cells": [
  {
   "cell_type": "code",
   "execution_count": 78,
   "metadata": {},
   "outputs": [
    {
     "name": "stderr",
     "output_type": "stream",
     "text": [
      "/usr/local/lib/python3.6/site-packages/ipykernel_launcher.py:17: SettingWithCopyWarning: \n",
      "A value is trying to be set on a copy of a slice from a DataFrame.\n",
      "Try using .loc[row_indexer,col_indexer] = value instead\n",
      "\n",
      "See the caveats in the documentation: http://pandas.pydata.org/pandas-docs/stable/indexing.html#indexing-view-versus-copy\n",
      "/usr/local/lib/python3.6/site-packages/ipykernel_launcher.py:18: SettingWithCopyWarning: \n",
      "A value is trying to be set on a copy of a slice from a DataFrame.\n",
      "Try using .loc[row_indexer,col_indexer] = value instead\n",
      "\n",
      "See the caveats in the documentation: http://pandas.pydata.org/pandas-docs/stable/indexing.html#indexing-view-versus-copy\n",
      "/usr/local/lib/python3.6/site-packages/ipykernel_launcher.py:19: SettingWithCopyWarning: \n",
      "A value is trying to be set on a copy of a slice from a DataFrame.\n",
      "Try using .loc[row_indexer,col_indexer] = value instead\n",
      "\n",
      "See the caveats in the documentation: http://pandas.pydata.org/pandas-docs/stable/indexing.html#indexing-view-versus-copy\n"
     ]
    }
   ],
   "source": [
    "import pandas as pd\n",
    "import json\n",
    "import haversine\n",
    "import google_analytics_reporting_api as ga\n",
    "import numpy as np\n",
    "\n",
    "analytics = ga.initialize_analyticsreporting('/home/jian/Projects/Saatva/GA/GA_api_jubapluscc@gmail.com.json')\n",
    "\n",
    "Start_Date='2016-11-01'\n",
    "End_Date='2018-03-01'\n",
    "\n",
    "GA_Saatva_Geo=ga.get_report_over_10000_rows(analytics=analytics, VIEW_ID='33605697',start_date=Start_Date, end_date=End_Date,\n",
    "                                            ga_metrics=['ga:sessions','ga:bounceRate','ga:transactions','ga:transactionsPerSession'],\n",
    "                                            ga_dimensions=['ga:latitude','ga:longitude'])\n",
    "GA_Saatva_Geo=GA_Saatva_Geo[['ga:latitude','ga:longitude','ga:sessions','ga:bounceRate']]\n",
    "GA_Saatva_Geo_Zip=GA_Saatva_Geo[['ga:latitude','ga:longitude']]\n",
    "GA_Saatva_Geo_Zip['ga:latitude']=GA_Saatva_Geo_Zip['ga:latitude'].astype(float)\n",
    "GA_Saatva_Geo_Zip['ga:longitude']=GA_Saatva_Geo_Zip['ga:longitude'].astype(float)\n",
    "GA_Saatva_Geo_Zip['closet_zip']=np.nan\n",
    "GA_Saatva_Geo_Zip['miles']=np.nan\n",
    "\n",
    "zip_lat_long_josn=json.load(open(\"/home/jian/Docs/Geo mapping/center_of_rentrak_zip.json\"))\n",
    "\n",
    "Key_list=list(zip_lat_long_josn.keys())\n",
    "\n",
    "df_zip_center=pd.DataFrame(zip_lat_long_josn).T\n",
    "df_zip_center.reset_index(inplace=True)\n",
    "df_zip_center.columns=['zip','latitude','longitude']\n",
    "\n",
    "max_lat=max(df_zip_center['latitude'])\n",
    "min_lat=min(df_zip_center['latitude'])\n",
    "\n",
    "max_long=max(df_zip_center['longitude'])\n",
    "min_long=min(df_zip_center['longitude'])\n",
    "\n",
    "GA_Saatva_Geo_Zip=GA_Saatva_Geo_Zip[(GA_Saatva_Geo_Zip['ga:latitude']<max_lat+5) & \n",
    "                                   (GA_Saatva_Geo_Zip['ga:latitude']>min_lat-5) & \n",
    "                                   (GA_Saatva_Geo_Zip['ga:longitude']<max_long+5) &  \n",
    "                                   (GA_Saatva_Geo_Zip['ga:longitude']>min_long-5)]\n",
    "GA_Saatva_Geo_Zip.reset_index(inplace=True)\n",
    "del GA_Saatva_Geo_Zip['index']"
   ]
  },
  {
   "cell_type": "code",
   "execution_count": 79,
   "metadata": {},
   "outputs": [],
   "source": [
    "GA_Saatva_Geo_Zip=GA_Saatva_Geo_Zip.iloc[0:3,:]\n",
    "for i in range(len(GA_Saatva_Geo_Zip)):\n",
    "    distance_list=[]\n",
    "    for j in range(len(Key_list)):        \n",
    "        distance=haversine.haversine((GA_Saatva_Geo_Zip.iloc[i,0:2]),(zip_lat_long_josn[Key_list[j]]),miles=True)\n",
    "        distance_list.append(distance)\n",
    "    dis_min=min(distance_list)\n",
    "    index=np.argmin(distance_list)\n",
    "    GA_Saatva_Geo_Zip['closet_zip'][i]=Key_list[index]\n",
    "    GA_Saatva_Geo_Zip['miles'][i]=dis_min\n",
    "    "
   ]
  },
  {
   "cell_type": "code",
   "execution_count": 80,
   "metadata": {},
   "outputs": [
    {
     "data": {
      "text/html": [
       "<div>\n",
       "<style>\n",
       "    .dataframe thead tr:only-child th {\n",
       "        text-align: right;\n",
       "    }\n",
       "\n",
       "    .dataframe thead th {\n",
       "        text-align: left;\n",
       "    }\n",
       "\n",
       "    .dataframe tbody tr th {\n",
       "        vertical-align: top;\n",
       "    }\n",
       "</style>\n",
       "<table border=\"1\" class=\"dataframe\">\n",
       "  <thead>\n",
       "    <tr style=\"text-align: right;\">\n",
       "      <th></th>\n",
       "      <th>ga:latitude</th>\n",
       "      <th>ga:longitude</th>\n",
       "      <th>closet_zip</th>\n",
       "      <th>miles</th>\n",
       "    </tr>\n",
       "  </thead>\n",
       "  <tbody>\n",
       "    <tr>\n",
       "      <th>0</th>\n",
       "      <td>14.6349</td>\n",
       "      <td>-90.5069</td>\n",
       "      <td>33041.0</td>\n",
       "      <td>888.615936</td>\n",
       "    </tr>\n",
       "    <tr>\n",
       "      <th>1</th>\n",
       "      <td>14.9056</td>\n",
       "      <td>-92.2634</td>\n",
       "      <td>78521.0</td>\n",
       "      <td>831.379114</td>\n",
       "    </tr>\n",
       "    <tr>\n",
       "      <th>2</th>\n",
       "      <td>15.8720</td>\n",
       "      <td>-97.0767</td>\n",
       "      <td>78521.0</td>\n",
       "      <td>694.521187</td>\n",
       "    </tr>\n",
       "  </tbody>\n",
       "</table>\n",
       "</div>"
      ],
      "text/plain": [
       "   ga:latitude  ga:longitude  closet_zip       miles\n",
       "0      14.6349      -90.5069     33041.0  888.615936\n",
       "1      14.9056      -92.2634     78521.0  831.379114\n",
       "2      15.8720      -97.0767     78521.0  694.521187"
      ]
     },
     "execution_count": 80,
     "metadata": {},
     "output_type": "execute_result"
    }
   ],
   "source": [
    "GA_Saatva_Geo_Zip"
   ]
  },
  {
   "cell_type": "code",
   "execution_count": 58,
   "metadata": {},
   "outputs": [],
   "source": [
    "GA_Saatva_Geo_Zip.to_csv(\"/home/jian/Projects/Saatva/ga_lat_long.csv\",index=False)"
   ]
  },
  {
   "cell_type": "code",
   "execution_count": null,
   "metadata": {
    "collapsed": true
   },
   "outputs": [],
   "source": []
  }
 ],
 "metadata": {
  "kernelspec": {
   "display_name": "Python 3",
   "language": "python",
   "name": "python3"
  },
  "language_info": {
   "codemirror_mode": {
    "name": "ipython",
    "version": 3
   },
   "file_extension": ".py",
   "mimetype": "text/x-python",
   "name": "python",
   "nbconvert_exporter": "python",
   "pygments_lexer": "ipython3",
   "version": "3.6.1"
  }
 },
 "nbformat": 4,
 "nbformat_minor": 2
}
