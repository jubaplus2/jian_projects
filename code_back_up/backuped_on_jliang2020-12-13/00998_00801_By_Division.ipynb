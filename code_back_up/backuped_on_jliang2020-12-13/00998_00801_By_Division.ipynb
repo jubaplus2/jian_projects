{
 "cells": [
  {
   "cell_type": "code",
   "execution_count": 1,
   "metadata": {},
   "outputs": [
    {
     "data": {
      "text/plain": [
       "'/home/jian/Projects/Big_Lots/Analysis/2019_Q1/Planner_Request/Compare_Q4_Before_After_Groups_JT_20190327'"
      ]
     },
     "execution_count": 1,
     "metadata": {},
     "output_type": "execute_result"
    }
   ],
   "source": [
    "import pandas as pd\n",
    "import os\n",
    "import numpy as np\n",
    "import datetime\n",
    "import gc\n",
    "os.getcwd()\n",
    "\n"
   ]
  },
  {
   "cell_type": "code",
   "execution_count": 2,
   "metadata": {
    "collapsed": true
   },
   "outputs": [],
   "source": [
    "samplerows=10\n",
    "\n",
    "def recrusive_file_gen(root_path):\n",
    "    for root, dirs, files in os.walk(root_path):\n",
    "        for file in files:\n",
    "            yield os.path.join(root_path,file)\n",
    "            "
   ]
  },
  {
   "cell_type": "code",
   "execution_count": 3,
   "metadata": {},
   "outputs": [
    {
     "data": {
      "text/plain": [
       "(13, 2)"
      ]
     },
     "execution_count": 3,
     "metadata": {},
     "output_type": "execute_result"
    }
   ],
   "source": [
    "list_2018Q4_sales=list(recrusive_file_gen(\"/home/jian/BigLots/hist_daily_data_itemlevel_decompressed/\"))\n",
    "list_2018Q4_sales=[x for x in list_2018Q4_sales if \".txt\" in x]\n",
    "df_2018Q4_sales_files=pd.DataFrame({\"file_path\":list_2018Q4_sales})\n",
    "df_2018Q4_sales_files['week_end_dt']=df_2018Q4_sales_files['file_path'].apply(lambda x: x.split(\"ompressed/MediaStormDailySalesHistory\")[1][:8])\n",
    "df_2018Q4_sales_files=df_2018Q4_sales_files[(df_2018Q4_sales_files['week_end_dt']>=\"20181110\") & (df_2018Q4_sales_files['week_end_dt']<=\"20190202\")]\n",
    "df_2018Q4_sales_files.shape"
   ]
  },
  {
   "cell_type": "code",
   "execution_count": 4,
   "metadata": {
    "collapsed": true
   },
   "outputs": [],
   "source": [
    "product_taxonomy=pd.read_table(\"/home/jian/BigLots/static_files/ProductTaxonomy/MediaStormProductTaxonomy20190501-135142-836.txt\",dtype=str,sep=\"|\")\n",
    "product_taxonomy=product_taxonomy[['division_id','class_code_id','subclass_id']].drop_duplicates()\n",
    "division_table=product_taxonomy.copy()\n",
    "\n",
    "divison_name=pd.read_table(\"/home/jian/BigLots/static_files/MediaStorm Data Extract - Division Names.txt\",dtype=str,sep=\"|\")\n",
    "product_taxonomy=pd.merge(product_taxonomy,divison_name,on=\"division_id\",how=\"left\")"
   ]
  },
  {
   "cell_type": "code",
   "execution_count": 5,
   "metadata": {},
   "outputs": [
    {
     "name": "stdout",
     "output_type": "stream",
     "text": [
      "2019-05-06 09:36:55.805998 1 /home/jian/BigLots/hist_daily_data_itemlevel_decompressed/MediaStormDailySalesHistory20181110.txt\n",
      "2019-05-06 09:40:48.293979 2 /home/jian/BigLots/hist_daily_data_itemlevel_decompressed/MediaStormDailySalesHistory20181117.txt\n",
      "2019-05-06 09:45:32.784957 3 /home/jian/BigLots/hist_daily_data_itemlevel_decompressed/MediaStormDailySalesHistory20181124.txt\n",
      "2019-05-06 09:49:38.651399 4 /home/jian/BigLots/hist_daily_data_itemlevel_decompressed/MediaStormDailySalesHistory20181201.txt\n",
      "2019-05-06 09:55:21.253334 5 /home/jian/BigLots/hist_daily_data_itemlevel_decompressed/MediaStormDailySalesHistory20181208.txt\n",
      "2019-05-06 10:01:23.155297 6 /home/jian/BigLots/hist_daily_data_itemlevel_decompressed/MediaStormDailySalesHistory20181215.txt\n",
      "2019-05-06 10:11:07.742324 7 /home/jian/BigLots/hist_daily_data_itemlevel_decompressed/MediaStormDailySalesHistory20181222.txt\n",
      "2019-05-06 10:16:42.547694 8 /home/jian/BigLots/hist_daily_data_itemlevel_decompressed/MediaStormDailySalesHistory20181229.txt\n",
      "2019-05-06 10:19:06.194437 9 /home/jian/BigLots/hist_daily_data_itemlevel_decompressed/MediaStormDailySalesHistory20190105.txt\n",
      "2019-05-06 10:20:52.611875 10 /home/jian/BigLots/hist_daily_data_itemlevel_decompressed/MediaStormDailySalesHistory20190112.txt\n",
      "2019-05-06 10:23:52.976493 11 /home/jian/BigLots/hist_daily_data_itemlevel_decompressed/MediaStormDailySalesHistory20190119.txt\n",
      "2019-05-06 10:26:40.023684 12 /home/jian/BigLots/hist_daily_data_itemlevel_decompressed/MediaStormDailySalesHistory20190126.txt\n",
      "2019-05-06 10:28:36.964186 13 /home/jian/BigLots/hist_daily_data_itemlevel_decompressed/MediaStormDailySalesHistory20190202.txt\n"
     ]
    },
    {
     "data": {
      "text/plain": [
       "189"
      ]
     },
     "execution_count": 5,
     "metadata": {},
     "output_type": "execute_result"
    }
   ],
   "source": [
    "samplerows=None\n",
    "df_2018Q4_sales_all=pd.DataFrame()\n",
    "df_2018Q4_sales_div=pd.DataFrame()\n",
    "i_counter=0\n",
    "for file in df_2018Q4_sales_files['file_path'].tolist():\n",
    "    df=pd.read_table(file,sep=\"|\",dtype=str,nrows=samplerows,usecols=['location_id','transaction_dt','transaction_id','customer_id_hashed','class_code_id','subclass_id','item_transaction_units','item_transaction_amt'])\n",
    "    df=df[~pd.isnull(df['customer_id_hashed'])]\n",
    "    \n",
    "    df['item_transaction_amt']=df['item_transaction_amt'].astype(float)\n",
    "    df['item_transaction_units']=df['item_transaction_units'].astype(int)\n",
    "    # Negative sales included in the transction count\n",
    "    \n",
    "    df_trans_all=df[['location_id','transaction_dt','transaction_id','customer_id_hashed']].drop_duplicates()\n",
    "    df_trans_all=df_trans_all.groupby(['location_id','transaction_dt','customer_id_hashed'])['transaction_id'].count().to_frame().reset_index().rename(columns={\"transaction_id\":\"trans\"})\n",
    "    \n",
    "    df_sales_all=df.groupby(['location_id','transaction_dt','customer_id_hashed'])['item_transaction_amt','item_transaction_units'].sum().reset_index().rename(columns={\"item_transaction_amt\":\"sales\",\"item_transaction_units\":\"units\"})\n",
    "    df_all=pd.merge(df_sales_all,df_trans_all,on=['location_id','transaction_dt','customer_id_hashed'])\n",
    "    \n",
    "    df_2018Q4_sales_all=df_2018Q4_sales_all.append(df)\n",
    "  \n",
    "    \n",
    "    # division level\n",
    "    df=pd.merge(df,division_table,on=['class_code_id','subclass_id'],how=\"left\")\n",
    "    df_trans_div=df[['location_id','transaction_dt','transaction_id','customer_id_hashed','division_id']].drop_duplicates()\n",
    "    df_trans_div=df_trans_div.groupby(['location_id','transaction_dt','customer_id_hashed','division_id'])['transaction_id'].count().to_frame().reset_index().rename(columns={\"transaction_id\":\"trans\"})\n",
    "    \n",
    "    df_sales_div=df.groupby(['location_id','transaction_dt','customer_id_hashed','division_id'])['item_transaction_amt','item_transaction_units'].sum().reset_index().rename(columns={\"item_transaction_amt\":\"sales\",'item_transaction_units':'units'})\n",
    "    df_div=pd.merge(df_sales_div,df_trans_div,on=['location_id','transaction_dt','customer_id_hashed','division_id'])\n",
    "    \n",
    "    df_2018Q4_sales_div=df_2018Q4_sales_div.append(df_div)\n",
    "    i_counter+=1\n",
    "    print(datetime.datetime.now(),i_counter,file)\n",
    "    \n",
    "del df\n",
    "del df_all\n",
    "del df_div\n",
    "gc.collect()"
   ]
  },
  {
   "cell_type": "code",
   "execution_count": 6,
   "metadata": {},
   "outputs": [
    {
     "name": "stdout",
     "output_type": "stream",
     "text": [
      "9777953\n",
      "9777953\n",
      "(135159718, 8)\n",
      "(48854911, 7)\n"
     ]
    },
    {
     "data": {
      "text/html": [
       "<div>\n",
       "<style>\n",
       "    .dataframe thead tr:only-child th {\n",
       "        text-align: right;\n",
       "    }\n",
       "\n",
       "    .dataframe thead th {\n",
       "        text-align: left;\n",
       "    }\n",
       "\n",
       "    .dataframe tbody tr th {\n",
       "        vertical-align: top;\n",
       "    }\n",
       "</style>\n",
       "<table border=\"1\" class=\"dataframe\">\n",
       "  <thead>\n",
       "    <tr style=\"text-align: right;\">\n",
       "      <th></th>\n",
       "      <th>location_id</th>\n",
       "      <th>transaction_dt</th>\n",
       "      <th>transaction_id</th>\n",
       "      <th>customer_id_hashed</th>\n",
       "      <th>class_code_id</th>\n",
       "      <th>subclass_id</th>\n",
       "      <th>item_transaction_units</th>\n",
       "      <th>item_transaction_amt</th>\n",
       "    </tr>\n",
       "  </thead>\n",
       "  <tbody>\n",
       "    <tr>\n",
       "      <th>0</th>\n",
       "      <td>4621</td>\n",
       "      <td>2018-11-10</td>\n",
       "      <td>3371</td>\n",
       "      <td>34e22ad0c4e216b4983bc2978770b3dbd7301213f8ebfd...</td>\n",
       "      <td>12006</td>\n",
       "      <td>1</td>\n",
       "      <td>2</td>\n",
       "      <td>3.0</td>\n",
       "    </tr>\n",
       "    <tr>\n",
       "      <th>2</th>\n",
       "      <td>4642</td>\n",
       "      <td>2018-11-10</td>\n",
       "      <td>3249</td>\n",
       "      <td>049f7c29a72fd252a880b32912fa49adc5dc55f3047193...</td>\n",
       "      <td>36007</td>\n",
       "      <td>1</td>\n",
       "      <td>1</td>\n",
       "      <td>32.0</td>\n",
       "    </tr>\n",
       "  </tbody>\n",
       "</table>\n",
       "</div>"
      ],
      "text/plain": [
       "  location_id transaction_dt transaction_id  \\\n",
       "0        4621     2018-11-10           3371   \n",
       "2        4642     2018-11-10           3249   \n",
       "\n",
       "                                  customer_id_hashed class_code_id  \\\n",
       "0  34e22ad0c4e216b4983bc2978770b3dbd7301213f8ebfd...         12006   \n",
       "2  049f7c29a72fd252a880b32912fa49adc5dc55f3047193...         36007   \n",
       "\n",
       "  subclass_id  item_transaction_units  item_transaction_amt  \n",
       "0           1                       2                   3.0  \n",
       "2           1                       1                  32.0  "
      ]
     },
     "execution_count": 6,
     "metadata": {},
     "output_type": "execute_result"
    }
   ],
   "source": [
    "print(len(df_2018Q4_sales_all['customer_id_hashed'].unique()))\n",
    "print(len(df_2018Q4_sales_div['customer_id_hashed'].unique()))\n",
    "print(df_2018Q4_sales_all.shape)\n",
    "print(df_2018Q4_sales_div.shape)\n",
    "\n",
    "df_2018Q4_sales_all.head(2)"
   ]
  },
  {
   "cell_type": "code",
   "execution_count": 8,
   "metadata": {},
   "outputs": [
    {
     "data": {
      "text/html": [
       "<div>\n",
       "<style>\n",
       "    .dataframe thead tr:only-child th {\n",
       "        text-align: right;\n",
       "    }\n",
       "\n",
       "    .dataframe thead th {\n",
       "        text-align: left;\n",
       "    }\n",
       "\n",
       "    .dataframe tbody tr th {\n",
       "        vertical-align: top;\n",
       "    }\n",
       "</style>\n",
       "<table border=\"1\" class=\"dataframe\">\n",
       "  <thead>\n",
       "    <tr style=\"text-align: right;\">\n",
       "      <th></th>\n",
       "      <th>location_id</th>\n",
       "      <th>transaction_dt</th>\n",
       "      <th>transaction_id</th>\n",
       "      <th>customer_id_hashed</th>\n",
       "      <th>class_code_id</th>\n",
       "      <th>subclass_id</th>\n",
       "      <th>item_transaction_units</th>\n",
       "      <th>item_transaction_amt</th>\n",
       "    </tr>\n",
       "  </thead>\n",
       "  <tbody>\n",
       "    <tr>\n",
       "      <th>89</th>\n",
       "      <td>5229</td>\n",
       "      <td>2018-11-10</td>\n",
       "      <td>932</td>\n",
       "      <td>3f2d8d59c8000e49efaaaf1e87d9bac7e041031be0af9d...</td>\n",
       "      <td>11003</td>\n",
       "      <td>3</td>\n",
       "      <td>-1</td>\n",
       "      <td>-19.99</td>\n",
       "    </tr>\n",
       "    <tr>\n",
       "      <th>654</th>\n",
       "      <td>1973</td>\n",
       "      <td>2018-11-08</td>\n",
       "      <td>3227</td>\n",
       "      <td>f548049f2d5702ab3b81a00b17dd3d4e05fdd9ac7a12af...</td>\n",
       "      <td>55011</td>\n",
       "      <td>3</td>\n",
       "      <td>-1</td>\n",
       "      <td>-10.00</td>\n",
       "    </tr>\n",
       "    <tr>\n",
       "      <th>924</th>\n",
       "      <td>4564</td>\n",
       "      <td>2018-11-05</td>\n",
       "      <td>1076</td>\n",
       "      <td>316c4138ad09749874e9a63757d34ceae1ba65bee039e2...</td>\n",
       "      <td>35067</td>\n",
       "      <td>1</td>\n",
       "      <td>-1</td>\n",
       "      <td>-6.00</td>\n",
       "    </tr>\n",
       "    <tr>\n",
       "      <th>933</th>\n",
       "      <td>1118</td>\n",
       "      <td>2018-11-05</td>\n",
       "      <td>7170</td>\n",
       "      <td>b12e7aaf27ec5cc483515455e3ede18438010354a2d2f8...</td>\n",
       "      <td>36002</td>\n",
       "      <td>1</td>\n",
       "      <td>-1</td>\n",
       "      <td>-12.00</td>\n",
       "    </tr>\n",
       "    <tr>\n",
       "      <th>1131</th>\n",
       "      <td>514</td>\n",
       "      <td>2018-11-10</td>\n",
       "      <td>161</td>\n",
       "      <td>89741c47bb6171d44675679430a35fa1aafd9c4c8d4df2...</td>\n",
       "      <td>36009</td>\n",
       "      <td>7</td>\n",
       "      <td>-1</td>\n",
       "      <td>-4.00</td>\n",
       "    </tr>\n",
       "    <tr>\n",
       "      <th>1447</th>\n",
       "      <td>5202</td>\n",
       "      <td>2018-11-08</td>\n",
       "      <td>1825</td>\n",
       "      <td>cb9495519af8167217a60ee2e4a0d26fecc27e3400e047...</td>\n",
       "      <td>35050</td>\n",
       "      <td>4</td>\n",
       "      <td>-1</td>\n",
       "      <td>-10.00</td>\n",
       "    </tr>\n",
       "    <tr>\n",
       "      <th>1946</th>\n",
       "      <td>5316</td>\n",
       "      <td>2018-11-09</td>\n",
       "      <td>4616</td>\n",
       "      <td>f7f0e9819f533d2e1c83491a6704aa78a6b03b6e3bdae7...</td>\n",
       "      <td>17001</td>\n",
       "      <td>6</td>\n",
       "      <td>-2</td>\n",
       "      <td>-15.00</td>\n",
       "    </tr>\n",
       "    <tr>\n",
       "      <th>1984</th>\n",
       "      <td>1570</td>\n",
       "      <td>2018-11-08</td>\n",
       "      <td>5203</td>\n",
       "      <td>1a8f8b19fc103f69e53eccad9f6fc60b160f93e1554c34...</td>\n",
       "      <td>35073</td>\n",
       "      <td>1</td>\n",
       "      <td>-1</td>\n",
       "      <td>-6.00</td>\n",
       "    </tr>\n",
       "    <tr>\n",
       "      <th>2016</th>\n",
       "      <td>1022</td>\n",
       "      <td>2018-11-10</td>\n",
       "      <td>4155</td>\n",
       "      <td>e288b46b19663df2bb309274b0c9cbaa0eda88c250c6bf...</td>\n",
       "      <td>36002</td>\n",
       "      <td>1</td>\n",
       "      <td>-2</td>\n",
       "      <td>-24.00</td>\n",
       "    </tr>\n",
       "    <tr>\n",
       "      <th>2142</th>\n",
       "      <td>1950</td>\n",
       "      <td>2018-11-06</td>\n",
       "      <td>8282</td>\n",
       "      <td>805c7948a183745800bdddb65716976a4a0f43478e3be4...</td>\n",
       "      <td>16003</td>\n",
       "      <td>4</td>\n",
       "      <td>-1</td>\n",
       "      <td>-10.00</td>\n",
       "    </tr>\n",
       "  </tbody>\n",
       "</table>\n",
       "</div>"
      ],
      "text/plain": [
       "     location_id transaction_dt transaction_id  \\\n",
       "89          5229     2018-11-10            932   \n",
       "654         1973     2018-11-08           3227   \n",
       "924         4564     2018-11-05           1076   \n",
       "933         1118     2018-11-05           7170   \n",
       "1131         514     2018-11-10            161   \n",
       "1447        5202     2018-11-08           1825   \n",
       "1946        5316     2018-11-09           4616   \n",
       "1984        1570     2018-11-08           5203   \n",
       "2016        1022     2018-11-10           4155   \n",
       "2142        1950     2018-11-06           8282   \n",
       "\n",
       "                                     customer_id_hashed class_code_id  \\\n",
       "89    3f2d8d59c8000e49efaaaf1e87d9bac7e041031be0af9d...         11003   \n",
       "654   f548049f2d5702ab3b81a00b17dd3d4e05fdd9ac7a12af...         55011   \n",
       "924   316c4138ad09749874e9a63757d34ceae1ba65bee039e2...         35067   \n",
       "933   b12e7aaf27ec5cc483515455e3ede18438010354a2d2f8...         36002   \n",
       "1131  89741c47bb6171d44675679430a35fa1aafd9c4c8d4df2...         36009   \n",
       "1447  cb9495519af8167217a60ee2e4a0d26fecc27e3400e047...         35050   \n",
       "1946  f7f0e9819f533d2e1c83491a6704aa78a6b03b6e3bdae7...         17001   \n",
       "1984  1a8f8b19fc103f69e53eccad9f6fc60b160f93e1554c34...         35073   \n",
       "2016  e288b46b19663df2bb309274b0c9cbaa0eda88c250c6bf...         36002   \n",
       "2142  805c7948a183745800bdddb65716976a4a0f43478e3be4...         16003   \n",
       "\n",
       "     subclass_id  item_transaction_units  item_transaction_amt  \n",
       "89             3                      -1                -19.99  \n",
       "654            3                      -1                -10.00  \n",
       "924            1                      -1                 -6.00  \n",
       "933            1                      -1                -12.00  \n",
       "1131           7                      -1                 -4.00  \n",
       "1447           4                      -1                -10.00  \n",
       "1946           6                      -2                -15.00  \n",
       "1984           1                      -1                 -6.00  \n",
       "2016           1                      -2                -24.00  \n",
       "2142           4                      -1                -10.00  "
      ]
     },
     "execution_count": 8,
     "metadata": {},
     "output_type": "execute_result"
    }
   ],
   "source": [
    "df_2018Q4_sales_all[df_2018Q4_sales_all['item_transaction_amt']<0].head(10)"
   ]
  },
  {
   "cell_type": "code",
   "execution_count": 9,
   "metadata": {},
   "outputs": [
    {
     "data": {
      "text/plain": [
       "189"
      ]
     },
     "execution_count": 9,
     "metadata": {},
     "output_type": "execute_result"
    }
   ],
   "source": [
    "os.getcwd()\n",
    "df_2018Q4_sales_all.to_csv(\"/home/jian/Projects/Big_Lots/Analysis/2019_Q1/Planner_Request/Compare_Q4_Before_After_Groups_JT_20190327/Q4_rewards_sales_trans.csv\",index=False)\n",
    "del df_2018Q4_sales_all\n",
    "gc.collect()"
   ]
  },
  {
   "cell_type": "code",
   "execution_count": 10,
   "metadata": {},
   "outputs": [
    {
     "data": {
      "text/plain": [
       "\"\\nprint(df_2018Q4_sales_all['transaction_dt'].min(),df_2018Q4_sales_all['transaction_dt'].max())\\nprint(df_2018Q4_sales_div['transaction_dt'].min(),df_2018Q4_sales_div['transaction_dt'].max())\\n\\n2018-11-04 2019-02-02\\n2018-11-04 2019-02-02\\n\""
      ]
     },
     "execution_count": 10,
     "metadata": {},
     "output_type": "execute_result"
    }
   ],
   "source": [
    "'''\n",
    "print(df_2018Q4_sales_all['transaction_dt'].min(),df_2018Q4_sales_all['transaction_dt'].max())\n",
    "print(df_2018Q4_sales_div['transaction_dt'].min(),df_2018Q4_sales_div['transaction_dt'].max())\n",
    "\n",
    "2018-11-04 2019-02-02\n",
    "2018-11-04 2019-02-02\n",
    "'''"
   ]
  },
  {
   "cell_type": "code",
   "execution_count": 14,
   "metadata": {},
   "outputs": [
    {
     "name": "stdout",
     "output_type": "stream",
     "text": [
      "9777953\n",
      "['Active']\n"
     ]
    }
   ],
   "source": [
    "df=pd.read_csv(\"/home/jian/Projects/Big_Lots/Analysis/2019_Q1/Planner_Request/Compare_Q4_Before_After_Groups_JT_20190327/BL_Q4_rewards_migration_rewards_data_JL_2019-03-30.csv\",\n",
    "           dtype=str)\n",
    "df['sales_2018_Q4']=df['sales_2018_Q4'].astype(float)\n",
    "df_Q4_shopped=df[df['Q4_Shopping_Group']==\"Q4_Shopped\"]\n",
    "\n",
    "print(len(df_Q4_shopped['customer_id_hashed'].unique()))\n",
    "print(df_Q4_shopped['Group_after_Q4'].unique())\n",
    "df_Q4_shopped=df_Q4_shopped[['customer_id_hashed','Group_before_Q4','Group_after_Q4','sales_2018_Q4','NewRewards']]\n"
   ]
  },
  {
   "cell_type": "code",
   "execution_count": 23,
   "metadata": {},
   "outputs": [
    {
     "data": {
      "text/plain": [
       "59"
      ]
     },
     "execution_count": 23,
     "metadata": {},
     "output_type": "execute_result"
    }
   ],
   "source": [
    "df_2018Q4_sales_div=pd.merge(df_2018Q4_sales_div,df_Q4_shopped,on=\"customer_id_hashed\",how=\"left\")\n",
    "del df_Q4_shopped\n",
    "gc.collect()"
   ]
  },
  {
   "cell_type": "code",
   "execution_count": 25,
   "metadata": {
    "collapsed": true
   },
   "outputs": [],
   "source": [
    "df_2018Q4_sales_div.to_csv(\"/home/jian/Projects/Big_Lots/Analysis/2019_Q1/Planner_Request/Compare_Q4_Before_After_Groups_JT_20190327/BL_Q4_rewards_div_groups_data_JL_\"+str(datetime.datetime.now().date())+\".csv\",index=False)\n",
    "\n"
   ]
  },
  {
   "cell_type": "code",
   "execution_count": 45,
   "metadata": {
    "collapsed": true
   },
   "outputs": [],
   "source": []
  },
  {
   "cell_type": "code",
   "execution_count": null,
   "metadata": {
    "collapsed": true
   },
   "outputs": [],
   "source": []
  },
  {
   "cell_type": "code",
   "execution_count": null,
   "metadata": {
    "collapsed": true
   },
   "outputs": [],
   "source": []
  },
  {
   "cell_type": "code",
   "execution_count": null,
   "metadata": {
    "collapsed": true
   },
   "outputs": [],
   "source": []
  }
 ],
 "metadata": {
  "kernelspec": {
   "display_name": "Python 3",
   "language": "python",
   "name": "python3"
  },
  "language_info": {
   "codemirror_mode": {
    "name": "ipython",
    "version": 3
   },
   "file_extension": ".py",
   "mimetype": "text/x-python",
   "name": "python",
   "nbconvert_exporter": "python",
   "pygments_lexer": "ipython3",
   "version": "3.6.1"
  }
 },
 "nbformat": 4,
 "nbformat_minor": 2
}
