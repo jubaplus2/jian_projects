{
 "cells": [
  {
   "cell_type": "code",
   "execution_count": 7,
   "metadata": {},
   "outputs": [],
   "source": [
    "import datetime\n",
    "import paramiko\n",
    "import os\n"
   ]
  },
  {
   "cell_type": "code",
   "execution_count": 5,
   "metadata": {
    "collapsed": true
   },
   "outputs": [],
   "source": [
    "host = \"64.237.51.251\" #hard-coded\n",
    "port = 22\n",
    "transport = paramiko.Transport((host, port))\n",
    "\n",
    "password = \"jian@juba2017\" #hard-coded\n",
    "username = \"jian\" #hard-coded\n",
    "transport.connect(username = username, password = password)\n",
    "sftp = paramiko.SFTPClient.from_transport(transport)"
   ]
  },
  {
   "cell_type": "code",
   "execution_count": 6,
   "metadata": {
    "collapsed": true
   },
   "outputs": [],
   "source": [
    "week_end_date_Q4=[str(datetime.date(2018,11,10)+datetime.timedelta(days=7*i)) for i in range(13)]\n",
    "\n",
    "week_end_date_Q4_2018=[datetime.datetime.strptime(x,\"%Y-%m-%d\").date() for x in week_end_date_Q4]\n",
    "week_end_date_Q4_2018=[str(x) for x in week_end_date_Q4_2018 if x<=datetime.date(2018,12,31)]\n",
    "\n",
    "week_end_date_Q4_2019=[datetime.datetime.strptime(x,\"%Y-%m-%d\").date() for x in week_end_date_Q4]\n",
    "week_end_date_Q4_2019=[str(x) for x in week_end_date_Q4_2019 if x>=datetime.date(2019,1,1)]\n",
    "\n",
    "\n",
    "remote_folder=\"/mnt/drv5/jian/Big_Lots/DCM/Analysis_Q4_1_to_1/Q4_transaction_data/\""
   ]
  },
  {
   "cell_type": "code",
   "execution_count": 19,
   "metadata": {},
   "outputs": [
    {
     "name": "stdout",
     "output_type": "stream",
     "text": [
      "13\n"
     ]
    }
   ],
   "source": [
    "def recursive_file_gen(my_root_dir):\n",
    "    for root, dirs, files in os.walk(my_root_dir):\n",
    "        for file in files:\n",
    "            yield os.path.join(root, file)\n",
    "            \n",
    "weekly_2018_list=list(recursive_file_gen(\"/home/jian/BigLots/2018_by_weeks/\"))\n",
    "weekly_2018_list=[x for x in weekly_2018_list if (\"DailySales\" in x) and (\".txt\" in x)]\n",
    "\n",
    "weekly_2019_list=list(recursive_file_gen(\"/home/jian/BigLots/2019_by_weeks/\"))\n",
    "weekly_2019_list=[x for x in weekly_2019_list if (\"DailySales\" in x) and (\".txt\" in x)]\n",
    "\n",
    "both_year_daily_sales=weekly_2018_list+weekly_2019_list\n",
    "\n",
    "Q4_daily_sales=[]\n",
    "for week_end_dt in week_end_date_Q4:\n",
    "    file = [x for x in both_year_daily_sales if week_end_dt in x]\n",
    "    if len(file)==1:\n",
    "        Q4_daily_sales=Q4_daily_sales+file\n",
    "    else:\n",
    "        print(week_end_dt,\"Error\")\n",
    "        \n",
    "print(len(Q4_daily_sales))"
   ]
  },
  {
   "cell_type": "code",
   "execution_count": 22,
   "metadata": {},
   "outputs": [],
   "source": [
    "for local_path in Q4_daily_sales:\n",
    "    base_name=local_path\n",
    "    base_name=os.path.basename(local_path)\n",
    "    remote_path=remote_folder+base_name\n",
    "    \n",
    "    sftp.put(local_path,remote_path)\n",
    "    \n",
    "sftp.close()"
   ]
  },
  {
   "cell_type": "code",
   "execution_count": null,
   "metadata": {
    "collapsed": true
   },
   "outputs": [],
   "source": []
  }
 ],
 "metadata": {
  "kernelspec": {
   "display_name": "Python 3",
   "language": "python",
   "name": "python3"
  },
  "language_info": {
   "codemirror_mode": {
    "name": "ipython",
    "version": 3
   },
   "file_extension": ".py",
   "mimetype": "text/x-python",
   "name": "python",
   "nbconvert_exporter": "python",
   "pygments_lexer": "ipython3",
   "version": "3.6.1"
  }
 },
 "nbformat": 4,
 "nbformat_minor": 2
}
