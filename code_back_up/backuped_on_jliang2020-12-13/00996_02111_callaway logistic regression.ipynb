{
 "cells": [
  {
   "cell_type": "code",
   "execution_count": null,
   "metadata": {},
   "outputs": [],
   "source": [
    "import pandas as pd\n",
    "pd.options.display.max_rows=6\n",
    "import json\n",
    "import re\n",
    "import sys\n",
    "\n",
    "import logging\n",
    "logging.basicConfig(filename='/home/jubauser1/jzou/dcm_account7252/user_path/model/path_permutation.log', \n",
    "                    level=logging.INFO, \n",
    "                    format='%(asctime)s %(message)s')\n",
    "\n",
    "def extract_activity_count(s):\n",
    "    '''\n",
    "    Args: str, eg. 'impr(23)'\n",
    "    Returns:\n",
    "    tuple, (str, int), eg. ('impr', 23)\n",
    "    '''\n",
    "    m = re.match('(.*)\\((\\d+)\\)', s)\n",
    "    return m.group(1), int(m.group(2))\n",
    "\n",
    "def path_to_list(s):\n",
    "    '''\n",
    "    Args:\n",
    "    str, path str, eg. 'impr(1) -> click(2) -> hva(3)'\n",
    "    Returns:\n",
    "    list of activity, eg.['impr', 'click', 'hva']\n",
    "    '''\n",
    "    l = s.split(' -> ')\n",
    "    l = [extract_activity_count(x)[0] for x in l]\n",
    "    return l\n",
    "\n",
    "def path_str_permutaion_counts(s, permutation):\n",
    "    '''count each activity in order of path_permutaion\n",
    "    Args:\n",
    "    s: str, eg. impr(1) -> click(2) -> hva(3)\n",
    "    permutation: list, eg. [impr, click, impr, hva, transaction]\n",
    "    \n",
    "    Retruns,\n",
    "    list of int, [1, 2, 0, 3, 0]\n",
    "    '''\n",
    "    l = s.split(' -> ')\n",
    "    i = 0\n",
    "    result = [0]*len(permutation)\n",
    "    for x in l:\n",
    "        act, count = extract_activity_count(x)\n",
    "        while permutation[i] != act:\n",
    "            i += 1\n",
    "        result[i] = count\n",
    "        i += 1\n",
    "    return result\n",
    "        \n",
    "path_str_permutaion_counts('impr(1) -> click(2) -> hva(3)', ['click', 'impr', 'click', 'impr', 'hva', 'transaction'])"
   ]
  },
  {
   "cell_type": "code",
   "execution_count": null,
   "metadata": {},
   "outputs": [],
   "source": [
    "#user_path = pd.read_csv('/home/jubauser1/jzou/dcm_account7252/user_path/model/user_path.csv')\n",
    "user_path = pd.read_csv('/home/jubauser1/jzou/dcm_account7252/user_path/model/user_path_added_branded_nonbranded_no_hva.csv')\n",
    "user_path"
   ]
  },
  {
   "cell_type": "code",
   "execution_count": null,
   "metadata": {},
   "outputs": [],
   "source": [
    "user_path['group'].value_counts()"
   ]
  },
  {
   "cell_type": "code",
   "execution_count": null,
   "metadata": {},
   "outputs": [],
   "source": [
    "sampled_user_path = user_path[user_path['group'] == 1].copy()\n",
    "\n",
    "sampled_user_path = sampled_user_path.append(user_path[user_path['group'] == 2])#.sample(n=4000, random_state=0))\n",
    "\n",
    "sampled_user_path = sampled_user_path.append(user_path[user_path['group'] == 3])#.sample(n=4000, random_state=0))\n",
    "\n",
    "sampled_user_path = sampled_user_path.append(user_path[user_path['group'] == 4].sample(n=100000, random_state=0))\n",
    "\n",
    "sampled_user_path = sampled_user_path[~sampled_user_path['user_id'].isin(\n",
    "    {'AMsySZYWhOOVUVUkDHI3Jh0S0FdR',\n",
    "    'AMsySZa0slNn24JQM3dKVY-sh6P1',\n",
    "    'AMsySZb3VlBhjHZk0zEjIj_9ApoG'})]\n",
    "\n",
    "sampled_user_path.reset_index(drop=True, inplace=True)\n",
    "\n",
    "sampled_user_path"
   ]
  },
  {
   "cell_type": "code",
   "execution_count": null,
   "metadata": {
    "collapsed": true
   },
   "outputs": [],
   "source": [
    "sampled_user_path['M1'] = sampled_user_path['group'].apply(lambda x: {1: 1, 2:0, 3:0, 4:0}[x])\n",
    "sampled_user_path['M2'] = sampled_user_path['group'].apply(lambda x: {1: 1, 2:1, 3:0, 4:0}[x])\n",
    "sampled_user_path['M3'] = sampled_user_path['group'].apply(lambda x: {1: 1, 2:1, 3:1, 4:0}[x])\n",
    "sampled_user_path['M4'] = sampled_user_path['group'].apply(lambda x: {1: 1, 2:1, 3:0, 4:0}[x])"
   ]
  },
  {
   "cell_type": "code",
   "execution_count": null,
   "metadata": {
    "collapsed": true
   },
   "outputs": [],
   "source": [
    "sampled_user_path.to_csv('/home/jubauser1/jzou/dcm_account7252/user_path/model/sampled_user_path.csv', index=False)"
   ]
  },
  {
   "cell_type": "markdown",
   "metadata": {},
   "source": [
    "# path permutation"
   ]
  },
  {
   "cell_type": "code",
   "execution_count": null,
   "metadata": {
    "collapsed": true
   },
   "outputs": [],
   "source": [
    "user_path['path_list'] = user_path['path'].apply(path_to_list)\n",
    "\n",
    "user_path['length'] = user_path['path_list'].apply(len)\n",
    "\n",
    "user_path.sort_values(by='length', inplace=True)\n",
    "\n",
    "user_path.reset_index(inplace=True, drop=True)\n",
    "\n",
    "# drop user has path longer than 300\n",
    "user_path = user_path[user_path['length'] < 300]"
   ]
  },
  {
   "cell_type": "code",
   "execution_count": null,
   "metadata": {},
   "outputs": [],
   "source": [
    "user_path"
   ]
  },
  {
   "cell_type": "code",
   "execution_count": null,
   "metadata": {},
   "outputs": [],
   "source": [
    "# get path permutaion\n",
    "all_path = list(user_path['path_list'])\n",
    "path_permutation = list()\n",
    "x = 0\n",
    "for pth in all_path:\n",
    "    n = len(pth)\n",
    "    i = 0\n",
    "    if n == 0: continue\n",
    "    for j in range(len(path_permutation)):\n",
    "        if pth[i] == path_permutation[j]:\n",
    "            i += 1\n",
    "            if i == n: break\n",
    "    path_permutation.extend(pth[i:n])\n",
    "    x += 1\n",
    "    logging.info('%d: %d'%(x, len(path_permutation)))"
   ]
  },
  {
   "cell_type": "code",
   "execution_count": null,
   "metadata": {},
   "outputs": [],
   "source": [
    "set(path_permutation), len(path_permutation)"
   ]
  },
  {
   "cell_type": "code",
   "execution_count": null,
   "metadata": {
    "collapsed": true
   },
   "outputs": [],
   "source": [
    "path_permutation = [x for x in path_permutation if x != 'transaction']\n",
    "path_permutation.append('transaction')"
   ]
  },
  {
   "cell_type": "code",
   "execution_count": null,
   "metadata": {
    "collapsed": true
   },
   "outputs": [],
   "source": [
    "# save path permutation\n",
    "json.dump(path_permutation, \n",
    "          open('/home/jubauser1/jzou/dcm_account7252/user_path/model/path_permutation.json', 'w'))"
   ]
  },
  {
   "cell_type": "code",
   "execution_count": null,
   "metadata": {
    "collapsed": true
   },
   "outputs": [],
   "source": [
    "json.dump(path_permutation, \n",
    "          open('/home/jubauser1/jzou/dcm_account7252/user_path/model/path_permutation_no_hva.json', 'w'))"
   ]
  },
  {
   "cell_type": "code",
   "execution_count": null,
   "metadata": {
    "collapsed": true
   },
   "outputs": [],
   "source": [
    "path_permutation = json.load(\n",
    "    open('/home/jubauser1/jzou/dcm_account7252/user_path/model/path_permutation.json', 'r'))"
   ]
  },
  {
   "cell_type": "code",
   "execution_count": null,
   "metadata": {},
   "outputs": [],
   "source": [
    "set(path_permutation)"
   ]
  },
  {
   "cell_type": "markdown",
   "metadata": {},
   "source": [
    "# count by permutation"
   ]
  },
  {
   "cell_type": "code",
   "execution_count": null,
   "metadata": {},
   "outputs": [],
   "source": [
    "sampled_user_path"
   ]
  },
  {
   "cell_type": "code",
   "execution_count": null,
   "metadata": {},
   "outputs": [],
   "source": [
    "len(path_permutation)"
   ]
  },
  {
   "cell_type": "code",
   "execution_count": null,
   "metadata": {
    "collapsed": true
   },
   "outputs": [],
   "source": [
    "# json\n",
    "count_by_permutation = list()\n",
    "for index in sampled_user_path.index:\n",
    "    logging.info(index)\n",
    "    pth = sampled_user_path.loc[index, 'path']\n",
    "    result = path_str_permutaion_counts(pth, path_permutation)\n",
    "    count_by_permutation.append(result[:-1])\n",
    "    del result"
   ]
  },
  {
   "cell_type": "code",
   "execution_count": null,
   "metadata": {},
   "outputs": [],
   "source": [
    "len(count_by_permutation[0])"
   ]
  },
  {
   "cell_type": "code",
   "execution_count": null,
   "metadata": {
    "collapsed": true
   },
   "outputs": [],
   "source": [
    "# dataframe\n",
    "count_by_permutation = pd.DataFrame(columns=range(len(path_permutation)))\n",
    "for index in user_path.index:\n",
    "    logging.info(index)\n",
    "    pth = user_path.loc[index, 'path']\n",
    "    result = path_str_permutaion_counts(pth, path_permutation)\n",
    "    count_by_permutation = count_by_permutation.append(pd.Series(result), ignore_index=True)"
   ]
  },
  {
   "cell_type": "code",
   "execution_count": null,
   "metadata": {},
   "outputs": [],
   "source": [
    "json.dump(count_by_permutation,\n",
    "          open('/home/jubauser1/jzou/dcm_account7252/user_path/model/count_by_permutation_no_hva.json', 'w'))"
   ]
  },
  {
   "cell_type": "code",
   "execution_count": null,
   "metadata": {
    "collapsed": true
   },
   "outputs": [],
   "source": [
    "sys.getsizeof(count_by_permutation)"
   ]
  },
  {
   "cell_type": "markdown",
   "metadata": {},
   "source": [
    "# fit model"
   ]
  },
  {
   "cell_type": "code",
   "execution_count": 46,
   "metadata": {
    "collapsed": true
   },
   "outputs": [],
   "source": [
    "from sklearn import linear_model, model_selection, metrics, feature_selection\n",
    "import pickle"
   ]
  },
  {
   "cell_type": "code",
   "execution_count": 48,
   "metadata": {},
   "outputs": [
    {
     "data": {
      "text/plain": [
       "195313"
      ]
     },
     "execution_count": 48,
     "metadata": {},
     "output_type": "execute_result"
    }
   ],
   "source": [
    "len(count_by_permutation)"
   ]
  },
  {
   "cell_type": "code",
   "execution_count": 47,
   "metadata": {},
   "outputs": [
    {
     "data": {
      "text/plain": [
       "4    100000\n",
       "3     69674\n",
       "2     21679\n",
       "1      3960\n",
       "Name: group, dtype: int64"
      ]
     },
     "execution_count": 47,
     "metadata": {},
     "output_type": "execute_result"
    }
   ],
   "source": [
    "sampled_user_path['group'].value_counts()"
   ]
  },
  {
   "cell_type": "markdown",
   "metadata": {},
   "source": [
    "### m1"
   ]
  },
  {
   "cell_type": "code",
   "execution_count": null,
   "metadata": {},
   "outputs": [],
   "source": [
    "Y1 = list(sampled_user_path['M1']) \n",
    "len(Y1)"
   ]
  },
  {
   "cell_type": "code",
   "execution_count": null,
   "metadata": {
    "collapsed": true
   },
   "outputs": [],
   "source": [
    "X_train_1, X_test_1, y_train_1, y_test_1 = model_selection.train_test_split(count_by_permutation, Y1, random_state=0)"
   ]
  },
  {
   "cell_type": "code",
   "execution_count": null,
   "metadata": {
    "collapsed": true
   },
   "outputs": [],
   "source": [
    "m1 = linear_model.LogisticRegression()"
   ]
  },
  {
   "cell_type": "code",
   "execution_count": null,
   "metadata": {},
   "outputs": [],
   "source": [
    "m1.fit(X_train_1, y_train_1)"
   ]
  },
  {
   "cell_type": "code",
   "execution_count": null,
   "metadata": {},
   "outputs": [],
   "source": [
    "m1.score(X_train_1, y_train_1)"
   ]
  },
  {
   "cell_type": "code",
   "execution_count": null,
   "metadata": {},
   "outputs": [],
   "source": [
    "y1_pred = m1.predict(X_test_1)\n",
    "metrics.r2_score(y_test_1, y1_pred)"
   ]
  },
  {
   "cell_type": "code",
   "execution_count": null,
   "metadata": {
    "scrolled": true
   },
   "outputs": [],
   "source": [
    "f, p = feature_selection.f_regression(X_test_1, y_test_1, center=True)"
   ]
  },
  {
   "cell_type": "code",
   "execution_count": null,
   "metadata": {},
   "outputs": [],
   "source": [
    "f_p = pd.DataFrame()\n",
    "f_p = f_p.append(pd.Series(path_permutation), ignore_index=True)\n",
    "f_p = f_p.append(pd.Series(f), ignore_index=True)\n",
    "f_p = f_p.append(pd.Series(p), ignore_index=True)\n",
    "f_p"
   ]
  },
  {
   "cell_type": "code",
   "execution_count": null,
   "metadata": {
    "collapsed": true
   },
   "outputs": [],
   "source": [
    "f_p.index = ['path_permutation', 'F-Values', 'P-Values']"
   ]
  },
  {
   "cell_type": "code",
   "execution_count": null,
   "metadata": {},
   "outputs": [],
   "source": [
    "f_p"
   ]
  },
  {
   "cell_type": "code",
   "execution_count": null,
   "metadata": {},
   "outputs": [],
   "source": [
    "len(f)"
   ]
  },
  {
   "cell_type": "code",
   "execution_count": null,
   "metadata": {},
   "outputs": [],
   "source": [
    "len(p)"
   ]
  },
  {
   "cell_type": "code",
   "execution_count": null,
   "metadata": {},
   "outputs": [],
   "source": [
    "df = pd.DataFrame({'y_test': y_test_1, 'y_pred': y1_pred})\n",
    "df"
   ]
  },
  {
   "cell_type": "code",
   "execution_count": null,
   "metadata": {},
   "outputs": [],
   "source": [
    "gain_chart = pd.DataFrame([{'sample_size': len(df[df['y_test'] == 0]), \n",
    "                            'y_pred_0': len(df[(df['y_test'] == 0) & (df['y_pred'] == 0)]), \n",
    "                            'y_pred_1': len(df[(df['y_test'] == 0) & (df['y_pred'] == 1)]),\n",
    "                            'y_actual': 'y_actual_0',},\n",
    "                           {'sample_size': len(df[df['y_test'] == 1]), \n",
    "                            'y_pred_0': len(df[(df['y_test'] == 1) & (df['y_pred'] == 0)]), \n",
    "                            'y_pred_1': len(df[(df['y_test'] == 1) & (df['y_pred'] == 1)]),\n",
    "                            'y_actual': 'y_actual_1',}\n",
    "                          ])\n",
    "\n",
    "gain_chart.set_index(keys='y_actual', inplace=True)\n",
    "\n",
    "gain_chart"
   ]
  },
  {
   "cell_type": "code",
   "execution_count": null,
   "metadata": {
    "collapsed": true
   },
   "outputs": [],
   "source": [
    "gain_chart"
   ]
  },
  {
   "cell_type": "code",
   "execution_count": null,
   "metadata": {
    "collapsed": true
   },
   "outputs": [],
   "source": [
    "pickle.dump(m1, open('/home/jubauser1/jzou/dcm_account7252/user_path/model/m1.sav', 'wb'))"
   ]
  },
  {
   "cell_type": "markdown",
   "metadata": {},
   "source": [
    "# 4 models"
   ]
  },
  {
   "cell_type": "code",
   "execution_count": 49,
   "metadata": {},
   "outputs": [
    {
     "data": {
      "text/plain": [
       "125639"
      ]
     },
     "execution_count": 49,
     "metadata": {},
     "output_type": "execute_result"
    }
   ],
   "source": [
    "len(list(sampled_user_path[sampled_user_path['group'] != 3]['M4']) )"
   ]
  },
  {
   "cell_type": "code",
   "execution_count": 50,
   "metadata": {},
   "outputs": [
    {
     "name": "stdout",
     "output_type": "stream",
     "text": [
      "m1: -0.063807\n"
     ]
    },
    {
     "name": "stderr",
     "output_type": "stream",
     "text": [
      "/usr/local/lib/python3.6/site-packages/sklearn/feature_selection/univariate_selection.py:279: RuntimeWarning: invalid value encountered in true_divide\n",
      "  corr /= row_norms(X.T)\n",
      "/usr/local/lib/python3.6/site-packages/scipy/stats/_distn_infrastructure.py:879: RuntimeWarning: invalid value encountered in greater\n",
      "  return (self.a < x) & (x < self.b)\n",
      "/usr/local/lib/python3.6/site-packages/scipy/stats/_distn_infrastructure.py:879: RuntimeWarning: invalid value encountered in less\n",
      "  return (self.a < x) & (x < self.b)\n",
      "/usr/local/lib/python3.6/site-packages/scipy/stats/_distn_infrastructure.py:1818: RuntimeWarning: invalid value encountered in less_equal\n",
      "  cond2 = cond0 & (x <= self.a)\n"
     ]
    },
    {
     "name": "stdout",
     "output_type": "stream",
     "text": [
      "m2: -0.047173\n",
      "m3: 0.857515\n",
      "m4: 0.775955\n"
     ]
    }
   ],
   "source": [
    "left_index = sampled_user_path[sampled_user_path['group'] == 3].index[0]\n",
    "right_index = sampled_user_path[sampled_user_path['group'] == 3].index[-1]\n",
    "X = {\n",
    "    'm1': count_by_permutation,\n",
    "    'm2': count_by_permutation,\n",
    "    'm3': count_by_permutation,\n",
    "    'm4': count_by_permutation[:left_index] + count_by_permutation[right_index+1:]\n",
    "}\n",
    "\n",
    "Y = {\n",
    "    'm1': list(sampled_user_path['M1']),\n",
    "    'm2': list(sampled_user_path['M2']),\n",
    "    'm3': list(sampled_user_path['M3']),\n",
    "    'm4': list(sampled_user_path[sampled_user_path['group'] != 3]['M4'])  \n",
    "}\n",
    "\n",
    "for mx in ['m1', 'm2', 'm3', 'm4']:\n",
    "    X_train, X_test, y_train, y_test = model_selection.train_test_split(X[mx], Y[mx], random_state=0)\n",
    "    m = linear_model.LogisticRegression()\n",
    "    m.fit(X_train, y_train)\n",
    "    \n",
    "    # r_square\n",
    "    y_pred = m.predict(X_test)\n",
    "    r2 = metrics.r2_score(y_test, y_pred)\n",
    "    print('%s: %f'%(mx, r2))\n",
    "    \n",
    "    # F and P value\n",
    "    f_values, p_values = feature_selection.f_regression(X_test, y_test, center=True)\n",
    "    f_p = pd.DataFrame()\n",
    "    f_p = f_p.append(pd.Series(path_permutation), ignore_index=True)\n",
    "    f_p = f_p.append(pd.Series(f_values), ignore_index=True)\n",
    "    f_p = f_p.append(pd.Series(p_values), ignore_index=True)\n",
    "    f_p\n",
    "    \n",
    "    # gain_chart\n",
    "    df = pd.DataFrame({'y_test': y_test, 'y_pred': y_pred})\n",
    "    gain_chart = pd.DataFrame([{'sample_size': len(df[df['y_test'] == 0]), \n",
    "                                'y_pred_0': len(df[(df['y_test'] == 0) & (df['y_pred'] == 0)]), \n",
    "                                'y_pred_1': len(df[(df['y_test'] == 0) & (df['y_pred'] == 1)]),\n",
    "                                'y_actual': 'y_actual_0',},\n",
    "                               {'sample_size': len(df[df['y_test'] == 1]), \n",
    "                                'y_pred_0': len(df[(df['y_test'] == 1) & (df['y_pred'] == 0)]), \n",
    "                                'y_pred_1': len(df[(df['y_test'] == 1) & (df['y_pred'] == 1)]),\n",
    "                                'y_actual': 'y_actual_1',}\n",
    "                              ])\n",
    "    gain_chart.set_index(keys='y_actual', inplace=True)\n",
    "    gain_chart\n",
    "    \n",
    "    f_p.to_csv('/home/jubauser1/jzou/dcm_account7252/user_path/model/f&p_values_%s.csv'%mx)\n",
    "    gain_chart.to_csv('/home/jubauser1/jzou/dcm_account7252/user_path/model/gain_chart_%s.csv'%mx)\n",
    "    pickle.dump(m, open('/home/jubauser1/jzou/dcm_account7252/user_path/model/%s.sav'%mx, 'wb'))"
   ]
  },
  {
   "cell_type": "code",
   "execution_count": null,
   "metadata": {
    "collapsed": true
   },
   "outputs": [],
   "source": [
    "{'m1': -0.063807, 'm2': -0.047173, 'm3': 0.857515, 'm4': 0.775955}"
   ]
  },
  {
   "cell_type": "markdown",
   "metadata": {
    "collapsed": true
   },
   "source": [
    "# read back"
   ]
  },
  {
   "cell_type": "code",
   "execution_count": null,
   "metadata": {
    "collapsed": true
   },
   "outputs": [],
   "source": [
    "import pickle"
   ]
  },
  {
   "cell_type": "code",
   "execution_count": null,
   "metadata": {
    "collapsed": true
   },
   "outputs": [],
   "source": [
    "m1 = pickle.load(open('m1.sav', 'rb'))"
   ]
  },
  {
   "cell_type": "code",
   "execution_count": null,
   "metadata": {
    "collapsed": true
   },
   "outputs": [],
   "source": [
    "m1.describe()"
   ]
  },
  {
   "cell_type": "code",
   "execution_count": null,
   "metadata": {
    "collapsed": true
   },
   "outputs": [],
   "source": []
  },
  {
   "cell_type": "code",
   "execution_count": null,
   "metadata": {
    "collapsed": true
   },
   "outputs": [],
   "source": []
  }
 ],
 "metadata": {
  "kernelspec": {
   "display_name": "Python 3",
   "language": "python",
   "name": "python3"
  },
  "language_info": {
   "codemirror_mode": {
    "name": "ipython",
    "version": 3
   },
   "file_extension": ".py",
   "mimetype": "text/x-python",
   "name": "python",
   "nbconvert_exporter": "python",
   "pygments_lexer": "ipython3",
   "version": "3.6.1"
  }
 },
 "nbformat": 4,
 "nbformat_minor": 2
}
