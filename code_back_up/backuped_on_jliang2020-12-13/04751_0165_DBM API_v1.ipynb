{
 "cells": [
  {
   "cell_type": "code",
   "execution_count": 1,
   "metadata": {
    "collapsed": true
   },
   "outputs": [],
   "source": [
    "from apiclient.discovery import build\n",
    "from oauth2client.service_account import ServiceAccountCredentials\n",
    "\n",
    "KEY_FILE_LOCATION = '/home/jzou/key_files/dbm_api_jubapluscc@gmail.com.json'\n",
    "SCOPES = ['https://www.googleapis.com/auth/doubleclickbidmanager']\n",
    "\n",
    "credentials = ServiceAccountCredentials.from_json_keyfile_name(\n",
    "    KEY_FILE_LOCATION, scopes=SCOPES)\n",
    "\n",
    "# Build the service object.\n",
    "service = build('doubleclickbidmanager', 'v1', credentials=credentials)"
   ]
  },
  {
   "cell_type": "markdown",
   "metadata": {},
   "source": [
    "# create query, only need to run once"
   ]
  },
  {
   "cell_type": "code",
   "execution_count": 115,
   "metadata": {
    "collapsed": true
   },
   "outputs": [],
   "source": [
    "query_resourse = {\n",
    "    'kind': 'doubleclickbidmanager#query',\n",
    "    'metadata': {\n",
    "        'dataRange': 'CUSTOM_DATES',\n",
    "        'format': 'CSV',\n",
    "        'title': 'JUBA_day'\n",
    "    },\n",
    "    'params': {\n",
    "        'filters': [\n",
    "            {'type': 'FILTER_ADVERTISER', 'value': '1958747'},\n",
    "            {'type': 'FILTER_LINE_ITEM', 'value': '13906955'},\n",
    "            {'type': 'FILTER_LINE_ITEM', 'value': '13857627'},\n",
    "            {'type': 'FILTER_LINE_ITEM', 'value': '13857390'},\n",
    "            {'type': 'FILTER_LINE_ITEM', 'value': '13857628'},\n",
    "        ],\n",
    "        'groupBys': [\n",
    "            'FILTER_ADVERTISER',\n",
    "            'FILTER_LINE_ITEM',\n",
    "            'FILTER_ACTIVITY_ID',\n",
    "            'FILTER_DAY_OF_WEEK'\n",
    "        ],\n",
    "        'includeInviteData': False,\n",
    "        'metrics': [\n",
    "            'METRIC_IMPRESSIONS',\n",
    "            'METRIC_CLICKS',\n",
    "            'METRIC_TOTAL_CONVERSIONS',\n",
    "            'METRIC_REVENUE_ADVERTISER',\n",
    "            'METRIC_MEDIA_COST_ADVERTISER',\n",
    "            'METRIC_CTR'\n",
    "        ],\n",
    "        'type': 'TYPE_GENERAL'\n",
    "    },\n",
    "    'reportDataEndTimeMs': '1508025600000',\n",
    "    'reportDataStartTimeMs': '1506297600000',\n",
    "    'schedule': {\n",
    "        'endTimeMs': '0',\n",
    "        'frequency': 'ONE_TIME',\n",
    "        'nextRunTimezoneCode': 'America/New_York'\n",
    "    }\n",
    "}"
   ]
  },
  {
   "cell_type": "code",
   "execution_count": 116,
   "metadata": {},
   "outputs": [
    {
     "data": {
      "text/plain": [
       "{'kind': 'doubleclickbidmanager#query',\n",
       " 'metadata': {'dataRange': 'CUSTOM_DATES',\n",
       "  'format': 'CSV',\n",
       "  'googleCloudStoragePathForLatestReport': '',\n",
       "  'googleDrivePathForLatestReport': '',\n",
       "  'latestReportRunTimeMs': '0',\n",
       "  'reportCount': 0,\n",
       "  'running': False,\n",
       "  'sendNotification': False,\n",
       "  'title': 'JUBA_day'},\n",
       " 'params': {'filters': [{'type': 'FILTER_ADVERTISER', 'value': '1958747'},\n",
       "   {'type': 'FILTER_LINE_ITEM', 'value': '13906955'},\n",
       "   {'type': 'FILTER_LINE_ITEM', 'value': '13857627'},\n",
       "   {'type': 'FILTER_LINE_ITEM', 'value': '13857390'},\n",
       "   {'type': 'FILTER_LINE_ITEM', 'value': '13857628'},\n",
       "   {'type': 'FILTER_PARTNER', 'value': '0'}],\n",
       "  'groupBys': ['FILTER_ADVERTISER',\n",
       "   'FILTER_LINE_ITEM',\n",
       "   'FILTER_ACTIVITY_ID',\n",
       "   'FILTER_DAY_OF_WEEK'],\n",
       "  'includeInviteData': False,\n",
       "  'metrics': ['METRIC_IMPRESSIONS',\n",
       "   'METRIC_CLICKS',\n",
       "   'METRIC_TOTAL_CONVERSIONS',\n",
       "   'METRIC_REVENUE_ADVERTISER',\n",
       "   'METRIC_MEDIA_COST_ADVERTISER',\n",
       "   'METRIC_CTR'],\n",
       "  'type': 'TYPE_GENERAL'},\n",
       " 'queryId': '1510174501175',\n",
       " 'reportDataEndTimeMs': '1508025600000',\n",
       " 'reportDataStartTimeMs': '1506297600000',\n",
       " 'schedule': {'endTimeMs': '0',\n",
       "  'frequency': 'ONE_TIME',\n",
       "  'nextRunMinuteOfDay': 955,\n",
       "  'nextRunTimezoneCode': 'America/New_York'},\n",
       " 'timezoneCode': 'America/New_York'}"
      ]
     },
     "execution_count": 116,
     "metadata": {},
     "output_type": "execute_result"
    }
   ],
   "source": [
    "service.queries().createquery(body=query_resourse).execute()"
   ]
  },
  {
   "cell_type": "markdown",
   "metadata": {},
   "source": [
    "# list all queries created above"
   ]
  },
  {
   "cell_type": "code",
   "execution_count": 63,
   "metadata": {
    "collapsed": true
   },
   "outputs": [],
   "source": [
    "def list_queries():\n",
    "    '''\n",
    "    return:\n",
    "        list of query_id\n",
    "    '''\n",
    "    queries = service.queries().listqueries().execute()\n",
    "    return [x['queryId'] for x in queries['queries']]"
   ]
  },
  {
   "cell_type": "code",
   "execution_count": 117,
   "metadata": {},
   "outputs": [],
   "source": [
    "query_ids = list_queries()"
   ]
  },
  {
   "cell_type": "code",
   "execution_count": 118,
   "metadata": {},
   "outputs": [
    {
     "data": {
      "text/plain": [
       "['1510090985328',\n",
       " '1510094521954',\n",
       " '1510094797145',\n",
       " '1510154299818',\n",
       " '1510154794561',\n",
       " '1510174501175']"
      ]
     },
     "execution_count": 118,
     "metadata": {},
     "output_type": "execute_result"
    }
   ],
   "source": [
    "query_ids"
   ]
  },
  {
   "cell_type": "markdown",
   "metadata": {},
   "source": [
    "# run queries"
   ]
  },
  {
   "cell_type": "code",
   "execution_count": 120,
   "metadata": {
    "collapsed": true
   },
   "outputs": [],
   "source": [
    "def date_to_timestampMS(date_str):\n",
    "    '''\n",
    "    Args:\n",
    "        date_str, eg. '2017-11-08'\n",
    "    return:\n",
    "        str, timestamp\n",
    "    '''\n",
    "    d = datetime.datetime.strptime(date_str, '%Y-%m-%d')\n",
    "    return str(int((d-datetime.datetime(1970,1,1)).total_seconds()*1000))\n",
    "\n",
    "def run_queries(query_ids, end_date):\n",
    "    '''\n",
    "    Args:\n",
    "        query_ids, list of str\n",
    "        end_date, str, eg. '2017-11-08'\n",
    "    '''\n",
    "    for query_id in query_ids:\n",
    "        service.queries().runquery(queryId=query_id, body={\n",
    "            'dataRange': 'CUSTOM_DATES',\n",
    "            'reportDataEndTimeMs': '1508025600000',\n",
    "            'reportDataStartTimeMs': date_to_timestampMS(end_date),\n",
    "            \"timezoneCode\": 'America/New_York'\n",
    "        }).execute()"
   ]
  },
  {
   "cell_type": "code",
   "execution_count": 121,
   "metadata": {},
   "outputs": [],
   "source": [
    "run_queries(query_ids, '2017-11-08')"
   ]
  },
  {
   "cell_type": "markdown",
   "metadata": {},
   "source": [
    "# download reports"
   ]
  },
  {
   "cell_type": "code",
   "execution_count": 112,
   "metadata": {
    "collapsed": true
   },
   "outputs": [],
   "source": [
    "from urllib.request import urlopen\n",
    "from contextlib import closing\n",
    "\n",
    "def download_reports(query_ids, output_dir):\n",
    "    '''\n",
    "    Args: \n",
    "        query_ids, list of str\n",
    "        output_dir, str, eg. '/home/jzou'\n",
    "    '''\n",
    "    for query_id in query_ids:\n",
    "        query = service.queries().getquery(queryId=query_id).execute()\n",
    "        report_url = query['metadata']['googleCloudStoragePathForLatestReport']\n",
    "        output_file = '%s/%s.csv' % (output_dir, query['metadata']['title'])\n",
    "        with open(output_file, 'wb') as output:\n",
    "            with closing(urlopen(report_url)) as url:\n",
    "                output.write(url.read())"
   ]
  },
  {
   "cell_type": "code",
   "execution_count": 122,
   "metadata": {},
   "outputs": [],
   "source": [
    "download_reports(query_ids, '/home/jzou')"
   ]
  },
  {
   "cell_type": "code",
   "execution_count": 114,
   "metadata": {},
   "outputs": [
    {
     "data": {
      "text/plain": [
       "['1510090985328',\n",
       " '1510094521954',\n",
       " '1510094797145',\n",
       " '1510154299818',\n",
       " '1510154794561']"
      ]
     },
     "execution_count": 114,
     "metadata": {},
     "output_type": "execute_result"
    }
   ],
   "source": [
    "query_ids"
   ]
  },
  {
   "cell_type": "code",
   "execution_count": null,
   "metadata": {
    "collapsed": true
   },
   "outputs": [],
   "source": []
  }
 ],
 "metadata": {
  "kernelspec": {
   "display_name": "Python 3",
   "language": "python",
   "name": "python3"
  },
  "language_info": {
   "codemirror_mode": {
    "name": "ipython",
    "version": 3
   },
   "file_extension": ".py",
   "mimetype": "text/x-python",
   "name": "python",
   "nbconvert_exporter": "python",
   "pygments_lexer": "ipython3",
   "version": "3.6.1"
  }
 },
 "nbformat": 4,
 "nbformat_minor": 2
}
