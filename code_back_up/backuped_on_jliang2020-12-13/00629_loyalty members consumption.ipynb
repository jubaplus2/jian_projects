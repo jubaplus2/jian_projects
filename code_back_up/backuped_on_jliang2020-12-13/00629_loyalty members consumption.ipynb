{
 "cells": [
  {
   "cell_type": "code",
   "execution_count": null,
   "metadata": {
    "collapsed": true
   },
   "outputs": [],
   "source": [
    "import pandas as pd\n",
    "import datetime\n",
    "data_1=pd.read_csv(\"/home/jian/Projects/Big_Lots/Loyal_members/sales_of_loyalty_member/MediaStormCustDtl.txt\",header=None,nrows=10000,dtype=str)\n",
    "data_2=pd.read_csv(\"/home/jian/Projects/Big_Lots/Loyal_members/sales_of_loyalty_member/MediaStorm customer transaction details - 2018-01-09 - 2018-03-31.txt\",nrows=10000,dtype=str)\n",
    "data_3=pd.read_csv(\"/home/jian/Projects/Big_Lots/Loyal_members/sales_of_loyalty_member/MediaStorm customer transaction details - 2018-04-01 - 2018-04-15.txt\",nrows=10000,dtype=str)\n",
    "\n",
    "data_1.columns=['customer_id']+data_2.columns.tolist()[1:]\n",
    "def clean_data(df):\n",
    "    df=df.iloc[:,1:]\n",
    "    del df['merch_cat']\n",
    "    df['total_transaction_amt']=df['total_transaction_amt'].astype(float)\n",
    "    df=df.drop_duplicates()    \n",
    "    return df\n",
    "data_1=clean_data(data_1)\n",
    "data_2=clean_data(data_2)\n",
    "data_3=clean_data(data_3)\n",
    "data_all=data_1.append(data_2).append(data_3).drop_duplicates()\n",
    "data_all=data_all.drop_duplicates()\n",
    "data_all=data_all[['transaction_date','location_id','total_transaction_amt']]\n",
    "\n",
    "\n",
    "output=data_all.groupby(['location_id','transaction_date'])['total_transaction_amt'].sum().to_frame().reset_index()"
   ]
  },
  {
   "cell_type": "code",
   "execution_count": 6,
   "metadata": {},
   "outputs": [
    {
     "data": {
      "text/plain": [
       "[0, 1, 2, 3, 4, 5, 6, 7]"
      ]
     },
     "execution_count": 6,
     "metadata": {},
     "output_type": "execute_result"
    }
   ],
   "source": [
    "import pandas as pd\n",
    "import datetime\n",
    "data_1=pd.read_csv(\"/home/jian/Projects/Big_Lots/Loyal_members/sales_of_loyalty_member/MediaStormCustDtl.txt\",header=None,nrows=10000,dtype=str)\n",
    "data_1.columns.tolist()\n",
    "\n",
    "\n",
    "\n"
   ]
  },
  {
   "cell_type": "code",
   "execution_count": 10,
   "metadata": {},
   "outputs": [
    {
     "data": {
      "text/html": [
       "<div>\n",
       "<style>\n",
       "    .dataframe thead tr:only-child th {\n",
       "        text-align: right;\n",
       "    }\n",
       "\n",
       "    .dataframe thead th {\n",
       "        text-align: left;\n",
       "    }\n",
       "\n",
       "    .dataframe tbody tr th {\n",
       "        vertical-align: top;\n",
       "    }\n",
       "</style>\n",
       "<table border=\"1\" class=\"dataframe\">\n",
       "  <thead>\n",
       "    <tr style=\"text-align: right;\">\n",
       "      <th></th>\n",
       "      <th>customer_id_hashed</th>\n",
       "      <th>transaction_date</th>\n",
       "      <th>transaction_time</th>\n",
       "      <th>transaction_id</th>\n",
       "      <th>location_id</th>\n",
       "      <th>total_transaction_amt</th>\n",
       "      <th>total_transaction_units</th>\n",
       "      <th>merch_cat</th>\n",
       "    </tr>\n",
       "  </thead>\n",
       "  <tbody>\n",
       "    <tr>\n",
       "      <th>0</th>\n",
       "      <td>bc45d2747297addd8bcad579da77756b007d27cd634c71...</td>\n",
       "      <td>2018-03-20</td>\n",
       "      <td>21:02</td>\n",
       "      <td>2152</td>\n",
       "      <td>5158</td>\n",
       "      <td>22.25</td>\n",
       "      <td>13.0000</td>\n",
       "      <td>12006001</td>\n",
       "    </tr>\n",
       "    <tr>\n",
       "      <th>1</th>\n",
       "      <td>f627e56e080cb699864d9c488345aee82c98fa66ebc2f2...</td>\n",
       "      <td>2018-03-10</td>\n",
       "      <td>18:23</td>\n",
       "      <td>6496</td>\n",
       "      <td>186</td>\n",
       "      <td>16.00</td>\n",
       "      <td>3.0000</td>\n",
       "      <td>55003009</td>\n",
       "    </tr>\n",
       "  </tbody>\n",
       "</table>\n",
       "</div>"
      ],
      "text/plain": [
       "                                  customer_id_hashed transaction_date  \\\n",
       "0  bc45d2747297addd8bcad579da77756b007d27cd634c71...       2018-03-20   \n",
       "1  f627e56e080cb699864d9c488345aee82c98fa66ebc2f2...       2018-03-10   \n",
       "\n",
       "  transaction_time transaction_id location_id total_transaction_amt  \\\n",
       "0            21:02           2152        5158                 22.25   \n",
       "1            18:23           6496         186                 16.00   \n",
       "\n",
       "  total_transaction_units merch_cat  \n",
       "0                 13.0000  12006001  \n",
       "1                  3.0000  55003009  "
      ]
     },
     "execution_count": 10,
     "metadata": {},
     "output_type": "execute_result"
    }
   ],
   "source": [
    "data_2.head(2)"
   ]
  },
  {
   "cell_type": "code",
   "execution_count": 12,
   "metadata": {},
   "outputs": [],
   "source": [
    "x=data_2[data_2.duplicated(['customer_id_hashed','transaction_date'])]"
   ]
  },
  {
   "cell_type": "code",
   "execution_count": 15,
   "metadata": {},
   "outputs": [
    {
     "data": {
      "text/plain": [
       "'a94578e563505af2f3c8df68db7b52a08a6df0cf791304055eadb69c8ad02934'"
      ]
     },
     "execution_count": 15,
     "metadata": {},
     "output_type": "execute_result"
    }
   ],
   "source": [
    "x['customer_id_hashed'][129]"
   ]
  },
  {
   "cell_type": "code",
   "execution_count": 16,
   "metadata": {
    "collapsed": true
   },
   "outputs": [],
   "source": [
    "x=data_2[data_2['customer_id_hashed']=='a94578e563505af2f3c8df68db7b52a08a6df0cf791304055eadb69c8ad02934']"
   ]
  },
  {
   "cell_type": "code",
   "execution_count": 17,
   "metadata": {},
   "outputs": [
    {
     "data": {
      "text/html": [
       "<div>\n",
       "<style>\n",
       "    .dataframe thead tr:only-child th {\n",
       "        text-align: right;\n",
       "    }\n",
       "\n",
       "    .dataframe thead th {\n",
       "        text-align: left;\n",
       "    }\n",
       "\n",
       "    .dataframe tbody tr th {\n",
       "        vertical-align: top;\n",
       "    }\n",
       "</style>\n",
       "<table border=\"1\" class=\"dataframe\">\n",
       "  <thead>\n",
       "    <tr style=\"text-align: right;\">\n",
       "      <th></th>\n",
       "      <th>customer_id_hashed</th>\n",
       "      <th>transaction_date</th>\n",
       "      <th>transaction_time</th>\n",
       "      <th>transaction_id</th>\n",
       "      <th>location_id</th>\n",
       "      <th>total_transaction_amt</th>\n",
       "      <th>total_transaction_units</th>\n",
       "      <th>merch_cat</th>\n",
       "    </tr>\n",
       "  </thead>\n",
       "  <tbody>\n",
       "    <tr>\n",
       "      <th>3</th>\n",
       "      <td>a94578e563505af2f3c8df68db7b52a08a6df0cf791304...</td>\n",
       "      <td>2018-02-12</td>\n",
       "      <td>11:05</td>\n",
       "      <td>8450</td>\n",
       "      <td>5353</td>\n",
       "      <td>26.00</td>\n",
       "      <td>13.0000</td>\n",
       "      <td>48001001</td>\n",
       "    </tr>\n",
       "    <tr>\n",
       "      <th>129</th>\n",
       "      <td>a94578e563505af2f3c8df68db7b52a08a6df0cf791304...</td>\n",
       "      <td>2018-02-12</td>\n",
       "      <td>11:05</td>\n",
       "      <td>8450</td>\n",
       "      <td>5353</td>\n",
       "      <td>26.00</td>\n",
       "      <td>13.0000</td>\n",
       "      <td>11002001</td>\n",
       "    </tr>\n",
       "  </tbody>\n",
       "</table>\n",
       "</div>"
      ],
      "text/plain": [
       "                                    customer_id_hashed transaction_date  \\\n",
       "3    a94578e563505af2f3c8df68db7b52a08a6df0cf791304...       2018-02-12   \n",
       "129  a94578e563505af2f3c8df68db7b52a08a6df0cf791304...       2018-02-12   \n",
       "\n",
       "    transaction_time transaction_id location_id total_transaction_amt  \\\n",
       "3              11:05           8450        5353                 26.00   \n",
       "129            11:05           8450        5353                 26.00   \n",
       "\n",
       "    total_transaction_units merch_cat  \n",
       "3                   13.0000  48001001  \n",
       "129                 13.0000  11002001  "
      ]
     },
     "execution_count": 17,
     "metadata": {},
     "output_type": "execute_result"
    }
   ],
   "source": [
    "x"
   ]
  },
  {
   "cell_type": "code",
   "execution_count": null,
   "metadata": {
    "collapsed": true
   },
   "outputs": [],
   "source": []
  }
 ],
 "metadata": {
  "kernelspec": {
   "display_name": "Python 3",
   "language": "python",
   "name": "python3"
  },
  "language_info": {
   "codemirror_mode": {
    "name": "ipython",
    "version": 3
   },
   "file_extension": ".py",
   "mimetype": "text/x-python",
   "name": "python",
   "nbconvert_exporter": "python",
   "pygments_lexer": "ipython3",
   "version": "3.6.1"
  }
 },
 "nbformat": 4,
 "nbformat_minor": 2
}
