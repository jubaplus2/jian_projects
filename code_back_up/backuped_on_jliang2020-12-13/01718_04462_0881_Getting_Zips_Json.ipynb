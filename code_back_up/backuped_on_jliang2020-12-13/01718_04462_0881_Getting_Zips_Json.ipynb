{
 "cells": [
  {
   "cell_type": "code",
   "execution_count": 27,
   "metadata": {
    "collapsed": true
   },
   "outputs": [],
   "source": [
    "import pandas as pd\n",
    "import json\n",
    "import os\n",
    "import datetime\n"
   ]
  },
  {
   "cell_type": "code",
   "execution_count": 28,
   "metadata": {},
   "outputs": [
    {
     "name": "stdout",
     "output_type": "stream",
     "text": [
      "{5}\n"
     ]
    }
   ],
   "source": [
    "SafeGraph_SmoothieKing=pd.read_csv(\"/home/jian/Projects/Smoothie_King/SafeGraph_PIO_SmoothieKing.csv\",dtype=str)\n",
    "json_zip_list_1=SafeGraph_SmoothieKing['zip_code'].unique().tolist()\n",
    "\n",
    "\n",
    "print(set([len(x) for x in json_zip_list_1]))"
   ]
  },
  {
   "cell_type": "code",
   "execution_count": 29,
   "metadata": {},
   "outputs": [
    {
     "name": "stdout",
     "output_type": "stream",
     "text": [
      "[5]\n"
     ]
    }
   ],
   "source": [
    "store_list=pd.read_excel(\"/home/jian/Projects/Smoothie_King/TA/Celery_SK_TA/SK_store_listed_verified_JL_2019-02-12.xlsx\",dtype=str)\n",
    "json_zip_list_2=store_list['zip'].unique().tolist()\n",
    "\n",
    "\n",
    "print(store_list['zip'].apply(lambda x: len(x)).unique())"
   ]
  },
  {
   "cell_type": "code",
   "execution_count": 30,
   "metadata": {
    "collapsed": true
   },
   "outputs": [],
   "source": [
    "all_zips=list(set(json_zip_list_1+json_zip_list_2))"
   ]
  },
  {
   "cell_type": "code",
   "execution_count": 31,
   "metadata": {},
   "outputs": [],
   "source": [
    "with open('/home/jian/Projects/Smoothie_King/Weather_Data/zips_for_SmoothieKing_stores.json', 'w') as outfile:\n",
    "    json.dump(all_zips, outfile)"
   ]
  }
 ],
 "metadata": {
  "kernelspec": {
   "display_name": "Python 3",
   "language": "python",
   "name": "python3"
  },
  "language_info": {
   "codemirror_mode": {
    "name": "ipython",
    "version": 3
   },
   "file_extension": ".py",
   "mimetype": "text/x-python",
   "name": "python",
   "nbconvert_exporter": "python",
   "pygments_lexer": "ipython3",
   "version": "3.6.1"
  }
 },
 "nbformat": 4,
 "nbformat_minor": 2
}
