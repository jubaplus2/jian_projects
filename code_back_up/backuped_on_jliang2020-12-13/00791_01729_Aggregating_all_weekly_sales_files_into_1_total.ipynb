{
 "cells": [
  {
   "cell_type": "code",
   "execution_count": 1,
   "metadata": {},
   "outputs": [
    {
     "data": {
      "text/plain": [
       "'/home/jian/Projects/Saatva/Aggregating_Sales_2018'"
      ]
     },
     "execution_count": 1,
     "metadata": {},
     "output_type": "execute_result"
    }
   ],
   "source": [
    "import pandas as pd\n",
    "import glob\n",
    "import datetime\n",
    "import numpy as np\n",
    "import os\n",
    "os.getcwd()"
   ]
  },
  {
   "cell_type": "code",
   "execution_count": 2,
   "metadata": {
    "collapsed": true
   },
   "outputs": [],
   "source": [
    "list_weekly_sales_csv=glob.glob(\"/home/jian/Projects/Saatva/Aggregating_Sales_2018/sales_data_2018/*.csv\")\n",
    "sales_before_0524_xlsx=\"/home/jian/Projects/Saatva/Aggregating_Sales_2018/sales_data_2018/Sales_Jian_2018_5.24.2018.xlsx\"\n",
    "\n",
    "\n",
    "df_csv_files=pd.DataFrame({\"file_path\":list_weekly_sales_csv})\n",
    "df_csv_files['download_date']=df_csv_files['file_path'].apply(lambda x: x.split(\"transactions_for_jubaplus-\")[1][:8])\n",
    "df_csv_files=df_csv_files.sort_values(\"download_date\",ascending=False).reset_index()\n",
    "del df_csv_files['index']"
   ]
  },
  {
   "cell_type": "code",
   "execution_count": 3,
   "metadata": {
    "collapsed": true
   },
   "outputs": [],
   "source": [
    "sales_before_0524=pd.read_excel(sales_before_0524_xlsx,dtype=str)\n",
    "sales_before_0524=sales_before_0524[['Order_id','Date','Time','Zip_Code','Sales','Source','Phone_1','Phone_2','Brand']]\n",
    "\n",
    "sales_before_0524=sales_before_0524.rename(columns={\"Order_id\":\"Order ID\",\"Zip_Code\":\"Shipping Zip\",\"Sales\":\"Product Revenue\",\"Source\":\"Order Type\",\n",
    "                                                   \"Phone_1\":\"Phone 1\",\"Phone_2\":\"Phone 2\"})\n",
    "sales_before_0524['Product Revenue']=sales_before_0524['Product Revenue'].astype(float)\n",
    "sales_before_0524['Date']=sales_before_0524['Date'].apply(lambda x: datetime.datetime.strptime(x.split(\" \")[0],\"%Y-%m-%d\").date())\n",
    "\n"
   ]
  },
  {
   "cell_type": "code",
   "execution_count": 4,
   "metadata": {
    "collapsed": true
   },
   "outputs": [],
   "source": [
    "df_sales_2018=pd.DataFrame(columns=['Order ID','Date','Time','Shipping Zip','Product Revenue','Order Type',\n",
    "                                              'Phone 1','Phone 2','Brand'])\n",
    "for csv_file in df_csv_files['file_path'].tolist():\n",
    "    df=pd.read_csv(csv_file,dtype=str,usecols=['Order ID','Date','Time','Shipping Zip','Product Revenue','Order Type',\n",
    "                                              'Phone 1','Phone 2','Brand'])\n",
    "    df=df[pd.notnull(df['Order ID'])]\n",
    "    try:\n",
    "        df['Date']=df['Date'].apply(lambda x: datetime.datetime.strptime(x,\"%d-%b-%Y\").date())\n",
    "    except:\n",
    "        df['Date']=df['Date'].apply(lambda x: datetime.datetime.strptime(x,\"%d-%B-%Y\").date())\n",
    "    date_max=df['Date'].max()\n",
    "    date_min=df['Date'].min()\n",
    "    \n",
    "    df=df[(df['Date']!=date_max) & (df['Date']!=date_min)]\n",
    "    df=df[~df['Date'].isin(df_sales_2018['Date'].unique().tolist())]\n",
    "    df_sales_2018=df_sales_2018.append(df)"
   ]
  },
  {
   "cell_type": "code",
   "execution_count": 5,
   "metadata": {
    "collapsed": true
   },
   "outputs": [],
   "source": [
    "sales_before_0524=sales_before_0524[~sales_before_0524['Date'].isin(df_sales_2018['Date'])]\n",
    "df_sales_2018=df_sales_2018.append(sales_before_0524)"
   ]
  },
  {
   "cell_type": "code",
   "execution_count": 9,
   "metadata": {
    "collapsed": true
   },
   "outputs": [],
   "source": [
    "df_sales_2018['date']=df_sales_2018['Date'].astype(str).apply(lambda x: x.replace(\"-\",\"\"))"
   ]
  },
  {
   "cell_type": "code",
   "execution_count": 10,
   "metadata": {
    "collapsed": true
   },
   "outputs": [],
   "source": [
    "df_sales_2018.to_csv(\"/home/jian/Projects/Saatva/Aggregating_Sales_2018/Saatva_Aggregated_sales_2018_JL_20190517.csv\",index=False)\n"
   ]
  },
  {
   "cell_type": "code",
   "execution_count": 8,
   "metadata": {},
   "outputs": [
    {
     "data": {
      "text/html": [
       "<div>\n",
       "<style>\n",
       "    .dataframe thead tr:only-child th {\n",
       "        text-align: right;\n",
       "    }\n",
       "\n",
       "    .dataframe thead th {\n",
       "        text-align: left;\n",
       "    }\n",
       "\n",
       "    .dataframe tbody tr th {\n",
       "        vertical-align: top;\n",
       "    }\n",
       "</style>\n",
       "<table border=\"1\" class=\"dataframe\">\n",
       "  <thead>\n",
       "    <tr style=\"text-align: right;\">\n",
       "      <th></th>\n",
       "      <th>Order ID</th>\n",
       "      <th>Date</th>\n",
       "      <th>Time</th>\n",
       "      <th>Shipping Zip</th>\n",
       "      <th>Product Revenue</th>\n",
       "      <th>Order Type</th>\n",
       "      <th>Phone 1</th>\n",
       "      <th>Phone 2</th>\n",
       "      <th>Brand</th>\n",
       "      <th>date</th>\n",
       "    </tr>\n",
       "  </thead>\n",
       "  <tbody>\n",
       "    <tr>\n",
       "      <th>20</th>\n",
       "      <td>658363</td>\n",
       "      <td>2018-12-27</td>\n",
       "      <td>23:51:05</td>\n",
       "      <td>10013</td>\n",
       "      <td>1099.00</td>\n",
       "      <td>online</td>\n",
       "      <td>917-613-9302</td>\n",
       "      <td>NaN</td>\n",
       "      <td>Saatva</td>\n",
       "      <td>2018-12-27</td>\n",
       "    </tr>\n",
       "    <tr>\n",
       "      <th>21</th>\n",
       "      <td>658362</td>\n",
       "      <td>2018-12-27</td>\n",
       "      <td>23:44:03</td>\n",
       "      <td>20910</td>\n",
       "      <td>1099.00</td>\n",
       "      <td>phone</td>\n",
       "      <td>(301) 608-3646</td>\n",
       "      <td>(202) 439-6719</td>\n",
       "      <td>Saatva</td>\n",
       "      <td>2018-12-27</td>\n",
       "    </tr>\n",
       "  </tbody>\n",
       "</table>\n",
       "</div>"
      ],
      "text/plain": [
       "   Order ID        Date      Time Shipping Zip Product Revenue Order Type  \\\n",
       "20   658363  2018-12-27  23:51:05        10013         1099.00     online   \n",
       "21   658362  2018-12-27  23:44:03        20910         1099.00      phone   \n",
       "\n",
       "           Phone 1         Phone 2   Brand        date  \n",
       "20    917-613-9302             NaN  Saatva  2018-12-27  \n",
       "21  (301) 608-3646  (202) 439-6719  Saatva  2018-12-27  "
      ]
     },
     "execution_count": 8,
     "metadata": {},
     "output_type": "execute_result"
    }
   ],
   "source": [
    "df_sales_2018.head(2)"
   ]
  },
  {
   "cell_type": "code",
   "execution_count": 11,
   "metadata": {},
   "outputs": [
    {
     "data": {
      "text/plain": [
       "(107281, 10)"
      ]
     },
     "execution_count": 11,
     "metadata": {},
     "output_type": "execute_result"
    }
   ],
   "source": [
    "df_sales_2018.shape"
   ]
  },
  {
   "cell_type": "code",
   "execution_count": null,
   "metadata": {
    "collapsed": true
   },
   "outputs": [],
   "source": []
  }
 ],
 "metadata": {
  "kernelspec": {
   "display_name": "Python 3",
   "language": "python",
   "name": "python3"
  },
  "language_info": {
   "codemirror_mode": {
    "name": "ipython",
    "version": 3
   },
   "file_extension": ".py",
   "mimetype": "text/x-python",
   "name": "python",
   "nbconvert_exporter": "python",
   "pygments_lexer": "ipython3",
   "version": "3.6.1"
  }
 },
 "nbformat": 4,
 "nbformat_minor": 2
}
