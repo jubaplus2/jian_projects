{
 "cells": [
  {
   "cell_type": "code",
   "execution_count": 1,
   "metadata": {
    "collapsed": true
   },
   "outputs": [],
   "source": [
    "import pandas as pd\n",
    "import numpy as np\n",
    "import datetime\n",
    "import hashlib\n",
    "import glob"
   ]
  },
  {
   "cell_type": "code",
   "execution_count": 2,
   "metadata": {
    "collapsed": true
   },
   "outputs": [],
   "source": [
    "samplerows=None\n",
    "# The lower frmindex, the better"
   ]
  },
  {
   "cell_type": "code",
   "execution_count": 3,
   "metadata": {
    "collapsed": true
   },
   "outputs": [],
   "source": [
    "data_1_Jan=pd.read_csv(\"/home/jian/Projects/Big_Lots/Loyal_members/Segment_Movement_analysis/Data_From_Sp/dfrfm.csv\",\n",
    "                      nrows=samplerows,dtype=str)\n",
    "data_1_Jan['customer_id_hashed'] = data_1_Jan['Customer_id'].apply(lambda x: hashlib.sha256(x.encode('utf-8')).hexdigest())\n",
    "\n",
    "data_2_July=pd.read_csv(\"/home/jian/Projects/Big_Lots/Loyal_members/Segment_Movement_analysis/Data_From_Sp/df_crm_finalscore_0714data.csv\",\n",
    "                      nrows=samplerows,dtype=str)"
   ]
  },
  {
   "cell_type": "code",
   "execution_count": 4,
   "metadata": {},
   "outputs": [
    {
     "data": {
      "text/plain": [
       "['D01', 'D02', 'D03', 'D04', 'D05', 'D06', 'D07', 'D08', 'D09', 'D10']"
      ]
     },
     "execution_count": 4,
     "metadata": {},
     "output_type": "execute_result"
    }
   ],
   "source": [
    "data_2_July['frmindex'].unique().tolist()"
   ]
  },
  {
   "cell_type": "code",
   "execution_count": 5,
   "metadata": {
    "collapsed": true
   },
   "outputs": [],
   "source": [
    "data_3_Jan_T_C_list=glob.glob(\"/home/jian/Projects/Big_Lots/Loyal_members/Segment_Movement_analysis/Data_From_Sp/LRIDs/*.csv\")"
   ]
  },
  {
   "cell_type": "code",
   "execution_count": 6,
   "metadata": {
    "collapsed": true
   },
   "outputs": [],
   "source": [
    "Jan_T_C_df=pd.DataFrame()\n",
    "for file in data_3_Jan_T_C_list:\n",
    "    df=pd.read_csv(file,dtype=str)\n",
    "    df=df[['LRSegmentID','Customer_id']]\n",
    "    Jan_T_C_df=Jan_T_C_df.append(df)\n",
    "Jan_T_C_df['customer_id_hashed']=Jan_T_C_df['Customer_id'].apply(lambda x: hashlib.sha256(x.encode('utf-8')).hexdigest())\n",
    "\n",
    "Jan_group=Jan_T_C_df[['customer_id_hashed','LRSegmentID']].rename(columns={\"LRSegmentID\":\"Jan_Group\"})"
   ]
  },
  {
   "cell_type": "code",
   "execution_count": 7,
   "metadata": {},
   "outputs": [
    {
     "name": "stdout",
     "output_type": "stream",
     "text": [
      "unique_id count in Jan: 17796102\n",
      "unique_id count in July: 20850534\n"
     ]
    }
   ],
   "source": [
    "df_Jan=data_1_Jan[['customer_id_hashed','frmindex']].drop_duplicates()\n",
    "df_July=data_2_July[['customer_id_hashed','frmindex','finaltest']].drop_duplicates(['customer_id_hashed','frmindex'])\n",
    "df_Jan=df_Jan.rename(columns={\"frmindex\":\"Jan_Label\"})\n",
    "df_July=df_July.rename(columns={\"frmindex\":\"July_Label\",'finaltest':\"July_Group\"})\n",
    "df_Jan=pd.merge(df_Jan,Jan_group,on=\"customer_id_hashed\",how=\"left\")\n",
    "print(\"unique_id count in Jan: \"+str(len(df_Jan['customer_id_hashed'].unique())))\n",
    "print(\"unique_id count in July: \"+str(len(df_July['customer_id_hashed'].unique())))"
   ]
  },
  {
   "cell_type": "code",
   "execution_count": 85,
   "metadata": {},
   "outputs": [
    {
     "name": "stdout",
     "output_type": "stream",
     "text": [
      "unique_id count in both: 17791913\n"
     ]
    }
   ],
   "source": [
    "both_df=pd.merge(df_Jan,df_July,on=\"customer_id_hashed\",how=\"inner\")\n",
    "\n",
    "both_df['Jan_Label']=both_df['Jan_Label'].astype(float).astype(int).astype(str)\n",
    "both_df['Jan_Label']=both_df['Jan_Label'].apply(lambda x: x.zfill(2))\n",
    "both_df['Jan_Label']=both_df['Jan_Label'].apply(lambda x: \"Jan_\"+x)\n",
    "\n",
    "both_df['July_Label']=both_df['July_Label'].apply(lambda x: x.replace(\"D\",\"July_\"))\n",
    "print(\"unique_id count in both: \"+str(len(both_df['customer_id_hashed'].unique())))"
   ]
  },
  {
   "cell_type": "code",
   "execution_count": 87,
   "metadata": {},
   "outputs": [],
   "source": [
    "both_df['Jan_Group']=both_df['Jan_Group'].fillna(\"OOOOOO\")\n",
    "both_df['Jan_Group']=both_df['Jan_Group'].apply(lambda x: x[0])\n",
    "both_df['Jan_Group']=both_df['Jan_Group'].replace(\"O\",np.nan)"
   ]
  },
  {
   "cell_type": "code",
   "execution_count": 88,
   "metadata": {},
   "outputs": [
    {
     "data": {
      "text/plain": [
       "array([nan, 'C', 'T'], dtype=object)"
      ]
     },
     "execution_count": 88,
     "metadata": {},
     "output_type": "execute_result"
    }
   ],
   "source": [
    "both_df['Jan_Group'].unique()"
   ]
  },
  {
   "cell_type": "markdown",
   "metadata": {},
   "source": [
    "# 1. 10*10"
   ]
  },
  {
   "cell_type": "code",
   "execution_count": 9,
   "metadata": {
    "collapsed": true
   },
   "outputs": [],
   "source": [
    "count_by_label=both_df.groupby(['Jan_Label','July_Label'])['customer_id_hashed'].count().to_frame().reset_index()\n",
    "count_by_label['customer_id_hashed']=count_by_label['customer_id_hashed'].astype(int)\n",
    "output_1=count_by_label.pivot(index=\"Jan_Label\",columns=\"July_Label\",values=\"customer_id_hashed\")\n",
    "output_1=output_1.fillna(0)\n",
    "output_1=output_1.reset_index()"
   ]
  },
  {
   "cell_type": "markdown",
   "metadata": {},
   "source": [
    "# 2. 30 * 10"
   ]
  },
  {
   "cell_type": "code",
   "execution_count": 10,
   "metadata": {
    "collapsed": true
   },
   "outputs": [],
   "source": [
    "df_id_zip=data_2_July[['customer_id_hashed','customer_zip_code']].drop_duplicates()\n",
    "df_id_zip=df_id_zip.drop_duplicates(['customer_id_hashed'])\n",
    "both_df=pd.merge(both_df,df_id_zip,on=\"customer_id_hashed\",how=\"left\")"
   ]
  },
  {
   "cell_type": "code",
   "execution_count": 11,
   "metadata": {
    "collapsed": true
   },
   "outputs": [],
   "source": [
    "zip_PST=pd.read_excel(\"/home/jian/Projects/Big_Lots/New_TA/zips_in_new_ta/BL_Zips in new TA (TA level)_JL_20180330.xlsx\",dtype=str)\n",
    "zip_PST=zip_PST[['zip_cd','revenue_flag']].drop_duplicates()\n",
    "zip_PST['zip_cd']=zip_PST['zip_cd'].apply(lambda x: x.zfill(5))"
   ]
  },
  {
   "cell_type": "code",
   "execution_count": 12,
   "metadata": {},
   "outputs": [],
   "source": [
    "both_df=both_df.rename(columns={\"customer_zip_code\":\"zip_cd\"})\n",
    "both_df=pd.merge(both_df,zip_PST,on=\"zip_cd\",how=\"left\")\n",
    "both_df['revenue_flag']=both_df['revenue_flag'].fillna(\"X\")\n",
    "# Customers living outside of the TA is excluded, as about 8%"
   ]
  },
  {
   "cell_type": "code",
   "execution_count": 13,
   "metadata": {},
   "outputs": [
    {
     "name": "stdout",
     "output_type": "stream",
     "text": [
      "both existing and in TA: 16278669\n"
     ]
    }
   ],
   "source": [
    "output_2=both_df[['Jan_Label','revenue_flag','July_Label','customer_id_hashed']]\n",
    "output_2=output_2[output_2['revenue_flag']!=\"X\"]\n",
    "print(\"both existing and in TA: \"+str(len(output_2['customer_id_hashed'].unique())))\n",
    "output_2['Jan_30_Seg']=output_2['Jan_Label']+\"_\"+output_2['revenue_flag']\n",
    "output_2=output_2.groupby(['Jan_30_Seg','July_Label'])['customer_id_hashed'].count().to_frame().reset_index()\n",
    "output_2=output_2.pivot(index=\"Jan_30_Seg\",columns=\"July_Label\",values=\"customer_id_hashed\")\n",
    "output_2=output_2.fillna(0)\n",
    "output_2=output_2.reset_index()"
   ]
  },
  {
   "cell_type": "markdown",
   "metadata": {},
   "source": [
    "# 3, 4, 5 Sales/Trans/Sales_per_id_avg 10*10"
   ]
  },
  {
   "cell_type": "code",
   "execution_count": 15,
   "metadata": {},
   "outputs": [],
   "source": [
    "rewards_sales_from_SP=pd.read_csv(\"/home/jian/Projects/Big_Lots/Loyal_members/loyalty_sales_data/From_Sp/combinedtransactions_0811.csv\",\n",
    "                                  dtype=str,usecols=['customer_id_hashed','transaction_date','transaction_id','total_transaction_amt'])\n",
    "rewards_sales_from_SP['transaction_date']=rewards_sales_from_SP['transaction_date'].apply(lambda x: datetime.datetime.strptime(x,\"%Y-%m-%d\").date())\n",
    "rewards_sales_from_SP=rewards_sales_from_SP[(rewards_sales_from_SP['transaction_date']>=datetime.date(2018,2,1)) & (rewards_sales_from_SP['transaction_date']<=datetime.date(2018,7,14))]\n",
    "rewards_sales_from_SP=rewards_sales_from_SP.drop_duplicates()\n",
    "rewards_sales_from_SP=rewards_sales_from_SP[rewards_sales_from_SP['customer_id_hashed'].isin(both_df['customer_id_hashed'].tolist())]\n",
    "rewards_sales_from_SP['total_transaction_amt']=rewards_sales_from_SP['total_transaction_amt'].astype(float)\n",
    "\n",
    "# [Feb 1, July 14]\n",
    "output_345=pd.merge(rewards_sales_from_SP,both_df[['customer_id_hashed','Jan_Label','July_Label']],on=\"customer_id_hashed\",how=\"left\")\n"
   ]
  },
  {
   "cell_type": "code",
   "execution_count": 34,
   "metadata": {},
   "outputs": [
    {
     "data": {
      "text/html": [
       "<div>\n",
       "<style>\n",
       "    .dataframe thead tr:only-child th {\n",
       "        text-align: right;\n",
       "    }\n",
       "\n",
       "    .dataframe thead th {\n",
       "        text-align: left;\n",
       "    }\n",
       "\n",
       "    .dataframe tbody tr th {\n",
       "        vertical-align: top;\n",
       "    }\n",
       "</style>\n",
       "<table border=\"1\" class=\"dataframe\">\n",
       "  <thead>\n",
       "    <tr style=\"text-align: right;\">\n",
       "      <th>July_Label</th>\n",
       "      <th>Jan_Label</th>\n",
       "      <th>July_01</th>\n",
       "      <th>July_02</th>\n",
       "      <th>July_03</th>\n",
       "      <th>July_04</th>\n",
       "      <th>July_05</th>\n",
       "      <th>July_06</th>\n",
       "    </tr>\n",
       "  </thead>\n",
       "  <tbody>\n",
       "    <tr>\n",
       "      <th>0</th>\n",
       "      <td>Jan_01</td>\n",
       "      <td>7528188.0</td>\n",
       "      <td>110378.0</td>\n",
       "      <td>1018208.0</td>\n",
       "      <td>2.0</td>\n",
       "      <td>152035.0</td>\n",
       "      <td>0.0</td>\n",
       "    </tr>\n",
       "    <tr>\n",
       "      <th>1</th>\n",
       "      <td>Jan_02</td>\n",
       "      <td>1015038.0</td>\n",
       "      <td>492774.0</td>\n",
       "      <td>892674.0</td>\n",
       "      <td>188736.0</td>\n",
       "      <td>182462.0</td>\n",
       "      <td>12162.0</td>\n",
       "    </tr>\n",
       "    <tr>\n",
       "      <th>2</th>\n",
       "      <td>Jan_03</td>\n",
       "      <td>2896304.0</td>\n",
       "      <td>246374.0</td>\n",
       "      <td>1112605.0</td>\n",
       "      <td>32430.0</td>\n",
       "      <td>187129.0</td>\n",
       "      <td>0.0</td>\n",
       "    </tr>\n",
       "    <tr>\n",
       "      <th>3</th>\n",
       "      <td>Jan_04</td>\n",
       "      <td>218929.0</td>\n",
       "      <td>412851.0</td>\n",
       "      <td>311560.0</td>\n",
       "      <td>309717.0</td>\n",
       "      <td>100326.0</td>\n",
       "      <td>78698.0</td>\n",
       "    </tr>\n",
       "    <tr>\n",
       "      <th>4</th>\n",
       "      <td>Jan_05</td>\n",
       "      <td>901335.0</td>\n",
       "      <td>337650.0</td>\n",
       "      <td>791390.0</td>\n",
       "      <td>118064.0</td>\n",
       "      <td>171256.0</td>\n",
       "      <td>2091.0</td>\n",
       "    </tr>\n",
       "    <tr>\n",
       "      <th>5</th>\n",
       "      <td>Jan_06</td>\n",
       "      <td>98881.0</td>\n",
       "      <td>330933.0</td>\n",
       "      <td>172149.0</td>\n",
       "      <td>302213.0</td>\n",
       "      <td>72930.0</td>\n",
       "      <td>78315.0</td>\n",
       "    </tr>\n",
       "    <tr>\n",
       "      <th>6</th>\n",
       "      <td>Jan_07</td>\n",
       "      <td>320882.0</td>\n",
       "      <td>259987.0</td>\n",
       "      <td>462383.0</td>\n",
       "      <td>151563.0</td>\n",
       "      <td>130649.0</td>\n",
       "      <td>9044.0</td>\n",
       "    </tr>\n",
       "    <tr>\n",
       "      <th>7</th>\n",
       "      <td>Jan_08</td>\n",
       "      <td>43077.0</td>\n",
       "      <td>200609.0</td>\n",
       "      <td>84947.0</td>\n",
       "      <td>205814.0</td>\n",
       "      <td>42680.0</td>\n",
       "      <td>80805.0</td>\n",
       "    </tr>\n",
       "    <tr>\n",
       "      <th>8</th>\n",
       "      <td>Jan_09</td>\n",
       "      <td>72162.0</td>\n",
       "      <td>175826.0</td>\n",
       "      <td>153215.0</td>\n",
       "      <td>145029.0</td>\n",
       "      <td>64696.0</td>\n",
       "      <td>27815.0</td>\n",
       "    </tr>\n",
       "    <tr>\n",
       "      <th>9</th>\n",
       "      <td>Jan_10</td>\n",
       "      <td>25336.0</td>\n",
       "      <td>147784.0</td>\n",
       "      <td>48340.0</td>\n",
       "      <td>153233.0</td>\n",
       "      <td>22517.0</td>\n",
       "      <td>75877.0</td>\n",
       "    </tr>\n",
       "  </tbody>\n",
       "</table>\n",
       "</div>"
      ],
      "text/plain": [
       "July_Label Jan_Label    July_01   July_02    July_03   July_04   July_05  \\\n",
       "0             Jan_01  7528188.0  110378.0  1018208.0       2.0  152035.0   \n",
       "1             Jan_02  1015038.0  492774.0   892674.0  188736.0  182462.0   \n",
       "2             Jan_03  2896304.0  246374.0  1112605.0   32430.0  187129.0   \n",
       "3             Jan_04   218929.0  412851.0   311560.0  309717.0  100326.0   \n",
       "4             Jan_05   901335.0  337650.0   791390.0  118064.0  171256.0   \n",
       "5             Jan_06    98881.0  330933.0   172149.0  302213.0   72930.0   \n",
       "6             Jan_07   320882.0  259987.0   462383.0  151563.0  130649.0   \n",
       "7             Jan_08    43077.0  200609.0    84947.0  205814.0   42680.0   \n",
       "8             Jan_09    72162.0  175826.0   153215.0  145029.0   64696.0   \n",
       "9             Jan_10    25336.0  147784.0    48340.0  153233.0   22517.0   \n",
       "\n",
       "July_Label  July_06  \n",
       "0               0.0  \n",
       "1           12162.0  \n",
       "2               0.0  \n",
       "3           78698.0  \n",
       "4            2091.0  \n",
       "5           78315.0  \n",
       "6            9044.0  \n",
       "7           80805.0  \n",
       "8           27815.0  \n",
       "9           75877.0  "
      ]
     },
     "execution_count": 34,
     "metadata": {},
     "output_type": "execute_result"
    }
   ],
   "source": [
    "output_3=output_345.groupby(['Jan_Label','July_Label'])['total_transaction_amt'].count().to_frame().reset_index()\n",
    "output_3=output_3.pivot(index=\"Jan_Label\",columns=\"July_Label\",values=\"total_transaction_amt\")\n",
    "output_3=output_3.fillna(0)\n",
    "output_3=output_3.reset_index()"
   ]
  },
  {
   "cell_type": "code",
   "execution_count": 37,
   "metadata": {},
   "outputs": [
    {
     "data": {
      "text/html": [
       "<div>\n",
       "<style>\n",
       "    .dataframe thead tr:only-child th {\n",
       "        text-align: right;\n",
       "    }\n",
       "\n",
       "    .dataframe thead th {\n",
       "        text-align: left;\n",
       "    }\n",
       "\n",
       "    .dataframe tbody tr th {\n",
       "        vertical-align: top;\n",
       "    }\n",
       "</style>\n",
       "<table border=\"1\" class=\"dataframe\">\n",
       "  <thead>\n",
       "    <tr style=\"text-align: right;\">\n",
       "      <th>July_Label</th>\n",
       "      <th>Jan_Label</th>\n",
       "      <th>July_01</th>\n",
       "      <th>July_02</th>\n",
       "      <th>July_03</th>\n",
       "      <th>July_04</th>\n",
       "      <th>July_05</th>\n",
       "      <th>July_06</th>\n",
       "    </tr>\n",
       "  </thead>\n",
       "  <tbody>\n",
       "    <tr>\n",
       "      <th>0</th>\n",
       "      <td>Jan_01</td>\n",
       "      <td>2.391731e+08</td>\n",
       "      <td>8.140600e+05</td>\n",
       "      <td>3.809742e+07</td>\n",
       "      <td>3.200000e+00</td>\n",
       "      <td>5.672621e+06</td>\n",
       "      <td>0.00</td>\n",
       "    </tr>\n",
       "    <tr>\n",
       "      <th>1</th>\n",
       "      <td>Jan_02</td>\n",
       "      <td>3.567631e+07</td>\n",
       "      <td>1.451912e+07</td>\n",
       "      <td>3.886208e+07</td>\n",
       "      <td>3.869927e+06</td>\n",
       "      <td>7.813778e+06</td>\n",
       "      <td>243840.06</td>\n",
       "    </tr>\n",
       "    <tr>\n",
       "      <th>2</th>\n",
       "      <td>Jan_03</td>\n",
       "      <td>1.047471e+08</td>\n",
       "      <td>5.274563e+06</td>\n",
       "      <td>4.441070e+07</td>\n",
       "      <td>4.541417e+05</td>\n",
       "      <td>7.349514e+06</td>\n",
       "      <td>0.00</td>\n",
       "    </tr>\n",
       "    <tr>\n",
       "      <th>3</th>\n",
       "      <td>Jan_04</td>\n",
       "      <td>8.778669e+06</td>\n",
       "      <td>1.498366e+07</td>\n",
       "      <td>1.761445e+07</td>\n",
       "      <td>9.205796e+06</td>\n",
       "      <td>6.470128e+06</td>\n",
       "      <td>1538712.24</td>\n",
       "    </tr>\n",
       "    <tr>\n",
       "      <th>4</th>\n",
       "      <td>Jan_05</td>\n",
       "      <td>3.739923e+07</td>\n",
       "      <td>1.183640e+07</td>\n",
       "      <td>3.665853e+07</td>\n",
       "      <td>2.578766e+06</td>\n",
       "      <td>7.688876e+06</td>\n",
       "      <td>39167.53</td>\n",
       "    </tr>\n",
       "    <tr>\n",
       "      <th>5</th>\n",
       "      <td>Jan_06</td>\n",
       "      <td>4.368999e+06</td>\n",
       "      <td>1.227773e+07</td>\n",
       "      <td>1.118177e+07</td>\n",
       "      <td>8.849586e+06</td>\n",
       "      <td>4.899676e+06</td>\n",
       "      <td>1595931.79</td>\n",
       "    </tr>\n",
       "    <tr>\n",
       "      <th>6</th>\n",
       "      <td>Jan_07</td>\n",
       "      <td>1.498880e+07</td>\n",
       "      <td>1.030408e+07</td>\n",
       "      <td>2.466285e+07</td>\n",
       "      <td>3.853408e+06</td>\n",
       "      <td>6.772219e+06</td>\n",
       "      <td>187355.31</td>\n",
       "    </tr>\n",
       "    <tr>\n",
       "      <th>7</th>\n",
       "      <td>Jan_08</td>\n",
       "      <td>2.022357e+06</td>\n",
       "      <td>8.401258e+06</td>\n",
       "      <td>6.549180e+06</td>\n",
       "      <td>7.449692e+06</td>\n",
       "      <td>4.272454e+06</td>\n",
       "      <td>1690156.35</td>\n",
       "    </tr>\n",
       "    <tr>\n",
       "      <th>8</th>\n",
       "      <td>Jan_09</td>\n",
       "      <td>3.733680e+06</td>\n",
       "      <td>8.415876e+06</td>\n",
       "      <td>1.043330e+07</td>\n",
       "      <td>5.425766e+06</td>\n",
       "      <td>4.435528e+06</td>\n",
       "      <td>575327.88</td>\n",
       "    </tr>\n",
       "    <tr>\n",
       "      <th>9</th>\n",
       "      <td>Jan_10</td>\n",
       "      <td>1.190860e+06</td>\n",
       "      <td>6.250257e+06</td>\n",
       "      <td>3.984704e+06</td>\n",
       "      <td>5.746455e+06</td>\n",
       "      <td>2.859220e+06</td>\n",
       "      <td>1623276.03</td>\n",
       "    </tr>\n",
       "  </tbody>\n",
       "</table>\n",
       "</div>"
      ],
      "text/plain": [
       "July_Label Jan_Label       July_01       July_02       July_03       July_04  \\\n",
       "0             Jan_01  2.391731e+08  8.140600e+05  3.809742e+07  3.200000e+00   \n",
       "1             Jan_02  3.567631e+07  1.451912e+07  3.886208e+07  3.869927e+06   \n",
       "2             Jan_03  1.047471e+08  5.274563e+06  4.441070e+07  4.541417e+05   \n",
       "3             Jan_04  8.778669e+06  1.498366e+07  1.761445e+07  9.205796e+06   \n",
       "4             Jan_05  3.739923e+07  1.183640e+07  3.665853e+07  2.578766e+06   \n",
       "5             Jan_06  4.368999e+06  1.227773e+07  1.118177e+07  8.849586e+06   \n",
       "6             Jan_07  1.498880e+07  1.030408e+07  2.466285e+07  3.853408e+06   \n",
       "7             Jan_08  2.022357e+06  8.401258e+06  6.549180e+06  7.449692e+06   \n",
       "8             Jan_09  3.733680e+06  8.415876e+06  1.043330e+07  5.425766e+06   \n",
       "9             Jan_10  1.190860e+06  6.250257e+06  3.984704e+06  5.746455e+06   \n",
       "\n",
       "July_Label       July_05     July_06  \n",
       "0           5.672621e+06        0.00  \n",
       "1           7.813778e+06   243840.06  \n",
       "2           7.349514e+06        0.00  \n",
       "3           6.470128e+06  1538712.24  \n",
       "4           7.688876e+06    39167.53  \n",
       "5           4.899676e+06  1595931.79  \n",
       "6           6.772219e+06   187355.31  \n",
       "7           4.272454e+06  1690156.35  \n",
       "8           4.435528e+06   575327.88  \n",
       "9           2.859220e+06  1623276.03  "
      ]
     },
     "execution_count": 37,
     "metadata": {},
     "output_type": "execute_result"
    }
   ],
   "source": [
    "output_4=output_345.groupby(['Jan_Label','July_Label'])['total_transaction_amt'].sum().to_frame().reset_index()\n",
    "output_4=output_4.pivot(index=\"Jan_Label\",columns=\"July_Label\",values=\"total_transaction_amt\")\n",
    "output_4=output_4.fillna(0)\n",
    "output_4=output_4.reset_index()"
   ]
  },
  {
   "cell_type": "code",
   "execution_count": 55,
   "metadata": {},
   "outputs": [],
   "source": [
    "output_5=output_4.copy()\n",
    "for i in range(6):\n",
    "    col_num=i+1\n",
    "    \n",
    "    for j in range(len(output_4)):\n",
    "        if output_1.iloc[j,col_num]!=0:\n",
    "            output_5.iloc[j,col_num]=output_4.iloc[j,col_num]/output_1.iloc[j,col_num]\n",
    "        else:\n",
    "            output_5.iloc[j,col_num]=np.nan"
   ]
  },
  {
   "cell_type": "code",
   "execution_count": 61,
   "metadata": {
    "collapsed": true
   },
   "outputs": [],
   "source": []
  },
  {
   "cell_type": "code",
   "execution_count": 62,
   "metadata": {
    "collapsed": true
   },
   "outputs": [],
   "source": []
  },
  {
   "cell_type": "code",
   "execution_count": 60,
   "metadata": {
    "collapsed": true
   },
   "outputs": [],
   "source": [
    "# To be done, T, C, volocity"
   ]
  },
  {
   "cell_type": "markdown",
   "metadata": {},
   "source": [
    "# 6,7 Test/Controal group movement"
   ]
  },
  {
   "cell_type": "code",
   "execution_count": 99,
   "metadata": {},
   "outputs": [],
   "source": [
    "both_df_Jan_T=both_df[both_df['Jan_Group']==\"T\"]\n",
    "both_df_Jan_C=both_df[both_df['Jan_Group']==\"C\"]"
   ]
  },
  {
   "cell_type": "code",
   "execution_count": 100,
   "metadata": {},
   "outputs": [],
   "source": [
    "both_df_Jan_T=both_df_Jan_T.groupby(['Jan_Label','July_Label'])['customer_id_hashed'].count().to_frame().reset_index()\n",
    "both_df_Jan_T['customer_id_hashed']=both_df_Jan_T['customer_id_hashed'].astype(int)\n",
    "output_6=both_df_Jan_T.pivot(index=\"Jan_Label\",columns=\"July_Label\",values=\"customer_id_hashed\")\n",
    "output_6=output_6.fillna(0)\n",
    "output_6=output_6.reset_index()"
   ]
  },
  {
   "cell_type": "code",
   "execution_count": 101,
   "metadata": {
    "collapsed": true
   },
   "outputs": [],
   "source": [
    "both_df_Jan_C=both_df_Jan_C.groupby(['Jan_Label','July_Label'])['customer_id_hashed'].count().to_frame().reset_index()\n",
    "both_df_Jan_C['customer_id_hashed']=both_df_Jan_C['customer_id_hashed'].astype(int)\n",
    "output_7=both_df_Jan_C.pivot(index=\"Jan_Label\",columns=\"July_Label\",values=\"customer_id_hashed\")\n",
    "output_7=output_7.fillna(0)\n",
    "output_7=output_7.reset_index()"
   ]
  },
  {
   "cell_type": "markdown",
   "metadata": {},
   "source": [
    "# 8 Movement Vocility"
   ]
  },
  {
   "cell_type": "code",
   "execution_count": 113,
   "metadata": {},
   "outputs": [],
   "source": [
    "output_8=pd.DataFrame()\n",
    "\n",
    "for i in range(len(output_1)):\n",
    "    Jan_Decile=output_1['Jan_Label'][i]\n",
    "    Jan_Decile=int(Jan_Decile.split(\"_\")[1])\n",
    "    \n",
    "    Jan_Decile_Total=output_1[output_1.columns.tolist()[1:]].sum(axis=1)[i]\n",
    "    \n",
    "    move_up_ids=0\n",
    "    move_stay_ids=0\n",
    "    move_down_ids=0\n",
    "    \n",
    "    for j in range(1,output_1.shape[1]):\n",
    "        July_Decile=int(output_1.columns.tolist()[j].split(\"_\")[1])\n",
    "        if July_Decile<Jan_Decile:\n",
    "            move_up_ids=move_up_ids+output_1.iloc[i,j]\n",
    "        if July_Decile==Jan_Decile:\n",
    "            move_stay_ids=move_stay_ids+output_1.iloc[i,j]\n",
    "        if July_Decile>Jan_Decile:\n",
    "            move_down_ids=move_down_ids+output_1.iloc[i,j]\n",
    "            \n",
    "    df=pd.DataFrame({\"Jan_Group\":output_1['Jan_Label'][i],\"Jan_Id_Count\":Jan_Decile_Total,\"Move_Up_count\":move_up_ids,\n",
    "                    \"No_Move_count\":move_stay_ids,\"Move_Down_count\":move_down_ids},index=[i])\n",
    "    output_8=output_8.append(df)\n",
    "output_8['Move_Up_Pctg']=output_8['Move_Up_count']/output_8['Jan_Id_Count']\n",
    "output_8['No_Move_Pctg']=output_8['No_Move_count']/output_8['Jan_Id_Count']\n",
    "output_8['Move_Dowan_Pctg']=output_8['Move_Down_count']/output_8['Jan_Id_Count']\n",
    "output_8=output_8[['Jan_Group','Jan_Id_Count','Move_Up_count','No_Move_count','Move_Down_count','Move_Up_Pctg','No_Move_Pctg','Move_Dowan_Pctg']]\n"
   ]
  },
  {
   "cell_type": "code",
   "execution_count": null,
   "metadata": {
    "collapsed": true
   },
   "outputs": [],
   "source": []
  },
  {
   "cell_type": "code",
   "execution_count": 114,
   "metadata": {
    "collapsed": true
   },
   "outputs": [],
   "source": [
    "writer=pd.ExcelWriter(\"/home/jian/Projects/Big_Lots/Loyal_members/Segment_Movement_analysis/output/BL_Rewards members segment movement_JL_\"+str(datetime.datetime.now().date())+\".xlsx\",engine=\"xlsxwriter\")\n",
    "\n",
    "output_1.to_excel(writer,\"Matrix_10_by_10\",index=False)\n",
    "output_2.to_excel(writer,\"Matrix_30_by_10\",index=False)\n",
    "output_3.to_excel(writer,\"Transaction_10_by_10\",index=False)\n",
    "output_4.to_excel(writer,\"Revenue_10_by_10\",index=False)\n",
    "output_5.to_excel(writer,\"Avg_Revenue_10_by_10\",index=False)\n",
    "output_6.to_excel(writer,\"Jan_T_Movement\",index=False)\n",
    "output_7.to_excel(writer,\"Jan_C_Movement\",index=False)\n",
    "output_8.to_excel(writer,\"Movement_Pctg\",index=False)\n",
    "writer.save()\n"
   ]
  },
  {
   "cell_type": "code",
   "execution_count": null,
   "metadata": {
    "collapsed": true
   },
   "outputs": [],
   "source": []
  }
 ],
 "metadata": {
  "kernelspec": {
   "display_name": "Python 3",
   "language": "python",
   "name": "python3"
  },
  "language_info": {
   "codemirror_mode": {
    "name": "ipython",
    "version": 3
   },
   "file_extension": ".py",
   "mimetype": "text/x-python",
   "name": "python",
   "nbconvert_exporter": "python",
   "pygments_lexer": "ipython3",
   "version": "3.6.1"
  }
 },
 "nbformat": 4,
 "nbformat_minor": 2
}
