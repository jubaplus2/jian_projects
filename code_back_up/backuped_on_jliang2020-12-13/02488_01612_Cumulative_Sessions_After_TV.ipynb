{
 "cells": [
  {
   "cell_type": "code",
   "execution_count": 1,
   "metadata": {},
   "outputs": [
    {
     "data": {
      "text/plain": [
       "'/home/jian/Projects/Saatva/Analysis/President_Day_2019'"
      ]
     },
     "execution_count": 1,
     "metadata": {},
     "output_type": "execute_result"
    }
   ],
   "source": [
    "# US only\n",
    "\n",
    "import pandas as pd\n",
    "import numpy as np\n",
    "import datetime\n",
    "import pandas as pd\n",
    "from googleads import adwords\n",
    "\n",
    "import sys\n",
    "sys.path.append('/home/jian/Projects/Saatva/To_Lexie_and_Connor/')\n",
    "\n",
    "import google_analytics_reporting_api as ga\n",
    "import os\n",
    "\n",
    "os.getcwd()"
   ]
  },
  {
   "cell_type": "code",
   "execution_count": 2,
   "metadata": {
    "collapsed": true
   },
   "outputs": [],
   "source": [
    "def convert_to_date(x):\n",
    "    try:\n",
    "        y=datetime.datetime.strptime(x,\"%Y-%m-%d %H:%M:%S\").date()\n",
    "    except:\n",
    "        try:\n",
    "            y=datetime.datetime.strptime(x,\"%m/%d/%Y\").date()\n",
    "        except:\n",
    "            try:\n",
    "                y=datetime.datetime.strptime(x,\"%B%d/%Y\").date()\n",
    "            except:\n",
    "                try:\n",
    "                    y=datetime.datetime.strptime(x,\"%b%d/%y\").date()\n",
    "                except:\n",
    "                    try:\n",
    "                        y=datetime.datetime.strptime(x,\"%m/%d/%y\").date()\n",
    "                    except:\n",
    "                        y=np.nan\n",
    "    return y"
   ]
  },
  {
   "cell_type": "code",
   "execution_count": 3,
   "metadata": {
    "collapsed": true
   },
   "outputs": [],
   "source": [
    "def convert_to_time(input_x):\n",
    "\n",
    "    if input_x[len(input_x)-1].lower()==\"p\":\n",
    "        x=input_x[:len(input_x)-1]+\" PM\"\n",
    "    elif input_x[len(input_x)-1].lower()==\"a\":\n",
    "        x=input_x[:len(input_x)-1]+\" AM\"\n",
    "    else:\n",
    "        x=input_x\n",
    "        \n",
    "    \n",
    "    if ((len(x.split(\" \")[0].split(\"-\")[0])==4) & (len(x.split(\" \"))>=2) & (\"-\" in x)):\n",
    "        x_0=x.replace(x.split(\" \")[0]+\" \",\"\").replace(x.split(\" \")[0],\"\")\n",
    "\n",
    "    else:\n",
    "        x_0=x\n",
    "        \n",
    "        \n",
    "    if \"AM\" in x_0:\n",
    "        x_1=x_0.replace(\" AM\",\"\").replace(\"AM\",\"\")\n",
    "        x_list=x_1.split(\":\")\n",
    "        if len(x_list)==2:\n",
    "            x_list=x_list+[\"00\"]\n",
    "            if x_list[0]==\"12\":\n",
    "                x_list[0]=\"00\"\n",
    "            \n",
    "            x_1=\":\".join(x_list)\n",
    "            \n",
    "            \n",
    "        else:\n",
    "            if x_list[0]==\"12\":\n",
    "                x_list[0]=\"00\"\n",
    "            x_1=\":\".join(x_list)\n",
    "        \n",
    "        \n",
    "    elif \"PM\" in x_0:\n",
    "        x_1=x_0.replace(\" PM\",\"\").replace(\"PM\",\"\")\n",
    "        x_list=x_1.split(\":\")\n",
    "        if len(x_list)==2:\n",
    "            x_list=x_list+[\"00\"]\n",
    "            if x_list[0]!=\"12\":\n",
    "                x_list[0]=str(int(x_list[0])+12)     \n",
    "                \n",
    "            x_1=\":\".join(x_list)\n",
    "\n",
    "        else:\n",
    "            if x_list[0]!=\"12\":\n",
    "                x_list[0]=str(int(x_list[0])+12)            \n",
    "            x_1=\":\".join(x_list)\n",
    "    else:\n",
    "        x_1=x_0\n",
    "    try:\n",
    "        y=datetime.datetime.strptime(x_1,\"%H:%M:%S\").time()\n",
    "    except:\n",
    "        y=np.nan\n",
    "        print(\"Final x_1\",x_1)\n",
    "        print(\"Final Error\",x)\n",
    "\n",
    "    return y"
   ]
  },
  {
   "cell_type": "code",
   "execution_count": null,
   "metadata": {
    "collapsed": true
   },
   "outputs": [],
   "source": []
  },
  {
   "cell_type": "code",
   "execution_count": 4,
   "metadata": {},
   "outputs": [
    {
     "name": "stdout",
     "output_type": "stream",
     "text": [
      "['Sheet1', 'Sheet2']\n"
     ]
    }
   ],
   "source": [
    "TV_logs_1=pd.ExcelFile(\"/home/jian/Projects/Saatva/Analysis/President_Day_2019/TV_logs/Saatva Post Log File_2.11 - 2.17 R1.xlsx\")\n",
    "print(TV_logs_1.sheet_names)\n",
    "TV_logs_1=TV_logs_1.parse(\"Sheet1\",skiprows=1,dtype=str)"
   ]
  },
  {
   "cell_type": "code",
   "execution_count": 5,
   "metadata": {},
   "outputs": [
    {
     "name": "stdout",
     "output_type": "stream",
     "text": [
      "['Sheet1', 'Sheet2']\n"
     ]
    }
   ],
   "source": [
    "TV_logs_2=pd.ExcelFile(\"/home/jian/Projects/Saatva/Analysis/President_Day_2019/TV_logs/Saatva Post Log File_2.18-2.24.xlsx\")\n",
    "print(TV_logs_2.sheet_names)\n",
    "TV_logs_2=TV_logs_2.parse(\"Sheet1\",skiprows=1,dtype=str)"
   ]
  },
  {
   "cell_type": "code",
   "execution_count": 6,
   "metadata": {
    "collapsed": true
   },
   "outputs": [],
   "source": [
    "TV_logs_1['log_date']=TV_logs_1['Post Log Date'].apply(lambda x: convert_to_date(x))\n",
    "\n",
    "TV_logs_2['log_date']=TV_logs_2['Post Log Date'].replace('2/24/19 0','2/24/19')\n",
    "TV_logs_2['log_date']=TV_logs_2['log_date'].apply(lambda x: convert_to_date(x))"
   ]
  },
  {
   "cell_type": "code",
   "execution_count": 7,
   "metadata": {
    "collapsed": true
   },
   "outputs": [],
   "source": [
    "TV_logs_1['log_time']=TV_logs_1['Post Log Time'].apply(lambda x: x.replace(\"XM\",\"AM\"))\n",
    "TV_logs_2['log_time']=TV_logs_2['Post Log Time'].apply(lambda x: x.replace(\"XM\",\"AM\"))\n",
    "\n",
    "TV_logs_1['log_time']=TV_logs_1['log_time'].apply(lambda x: convert_to_time(x))\n",
    "TV_logs_2['log_time']=TV_logs_2['log_time'].apply(lambda x: convert_to_time(x))\n",
    "\n"
   ]
  },
  {
   "cell_type": "code",
   "execution_count": 8,
   "metadata": {
    "collapsed": true
   },
   "outputs": [],
   "source": [
    "President_Day_TV_logs=TV_logs_1.append(TV_logs_2)\n",
    "President_Day_TV_logs['Market']=President_Day_TV_logs['Market'].apply(lambda x: x.strip())\n",
    "\n",
    "\n"
   ]
  },
  {
   "cell_type": "code",
   "execution_count": 9,
   "metadata": {},
   "outputs": [
    {
     "name": "stderr",
     "output_type": "stream",
     "text": [
      "/usr/local/lib/python3.6/site-packages/ipykernel_launcher.py:23: SettingWithCopyWarning: \n",
      "A value is trying to be set on a copy of a slice from a DataFrame\n",
      "\n",
      "See the caveats in the documentation: http://pandas.pydata.org/pandas-docs/stable/indexing.html#indexing-view-versus-copy\n"
     ]
    }
   ],
   "source": [
    "President_Day_TV_logs['date_time_local']=President_Day_TV_logs['log_date'].astype(str)+\" \"+President_Day_TV_logs['log_time'].astype(str)\n",
    "President_Day_TV_logs['date_time_local']=President_Day_TV_logs['date_time_local'].apply(lambda x: datetime.datetime.strptime(x,\"%Y-%m-%d %H:%M:%S\"))\n",
    "\n",
    "\n",
    "dict_mkt_time_adj={}\n",
    "dict_mkt_time_adj.update({\"Charlotte\":0})\n",
    "dict_mkt_time_adj.update({\"Denver\":2})\n",
    "dict_mkt_time_adj.update({\"San Francisco\":3})\n",
    "dict_mkt_time_adj.update({\"Chicago\":1})\n",
    "dict_mkt_time_adj.update({\"New York\":0})\n",
    "dict_mkt_time_adj.update({\"Minneapolis\":1})\n",
    "dict_mkt_time_adj.update({\"Washington DC\":0})\n",
    "\n",
    "President_Day_TV_logs=President_Day_TV_logs.reset_index()\n",
    "del President_Day_TV_logs['index']\n",
    "\n",
    "President_Day_TV_logs['date_time_NYT']=np.nan\n",
    "for i in range(len(President_Day_TV_logs)):\n",
    "    mkt=President_Day_TV_logs['Market'][i]\n",
    "    date_time_local=President_Day_TV_logs['date_time_local'][i]\n",
    "    time_adj=dict_mkt_time_adj[mkt]\n",
    "    date_time_NYT=date_time_local+datetime.timedelta(hours=time_adj)\n",
    "    President_Day_TV_logs['date_time_NYT'][i]=date_time_NYT\n",
    "    "
   ]
  },
  {
   "cell_type": "code",
   "execution_count": 10,
   "metadata": {
    "collapsed": true
   },
   "outputs": [],
   "source": [
    "President_Day_TV_logs['Date_NYT']=President_Day_TV_logs['date_time_NYT'].apply(lambda x: x.date())\n",
    "President_Day_TV_logs['Hour_NYT']=President_Day_TV_logs['date_time_NYT'].apply(lambda x: int(str(x).split(\" \")[1].split(\":\")[0]))\n",
    "President_Day_TV_logs=President_Day_TV_logs[(President_Day_TV_logs['date_time_local']>=datetime.date(2019,2,11)) & (President_Day_TV_logs['date_time_local']<datetime.date(2019,2,25))]"
   ]
  },
  {
   "cell_type": "code",
   "execution_count": null,
   "metadata": {
    "collapsed": true
   },
   "outputs": [],
   "source": []
  },
  {
   "cell_type": "markdown",
   "metadata": {},
   "source": [
    "# GA_Sessions"
   ]
  },
  {
   "cell_type": "code",
   "execution_count": 11,
   "metadata": {
    "collapsed": true
   },
   "outputs": [],
   "source": [
    "# GA New York Time Zone\n",
    "\n",
    "analytics = ga.initialize_analyticsreporting('/home/jian/Projects/Saatva/GA/GA_api_jubapluscc@gmail.com.json')\n",
    "\n",
    "def num_func_trans(df):\n",
    "    if 'ga:sessions' in df.columns:\n",
    "        df['ga:sessions']=df['ga:sessions'].apply(lambda x: int(x.replace(\",\",\"\")))\n",
    "        df['ga:sessions']=df['ga:sessions'].astype(int)\n",
    "\n",
    "    if 'ga:adClicks' in df.columns:\n",
    "        df['ga:adClicks']=df['ga:adClicks'].apply(lambda x: int(x.replace(\",\",\"\")))\n",
    "        df['ga:adClicks']=df['ga:adClicks'].astype(int)\n",
    "\n",
    "    if 'ga:impressions' in df.columns:\n",
    "        df['ga:impressions']=df['ga:impressions'].apply(lambda x: int(x.replace(\",\",\"\")))\n",
    "        df['ga:impressions']=df['ga:impressions'].astype(int)\n",
    "    \n",
    "    if 'ga:transactions' in df.columns:\n",
    "        df['ga:transactions']=df['ga:transactions'].apply(lambda x: int(x.replace(\",\",\"\")))\n",
    "        df['ga:transactions']=df['ga:transactions'].astype(int)\n",
    "    \n",
    "    if 'ga:transactionRevenue' in df.columns:\n",
    "        df['ga:transactionRevenue']=df['ga:transactionRevenue'].apply(lambda x: float(x.replace(\",\",\"\")))\n",
    "        df['ga:transactionRevenue']=df['ga:transactionRevenue'].astype(float)\n",
    "\n",
    "    \n",
    "    return df\n"
   ]
  },
  {
   "cell_type": "markdown",
   "metadata": {},
   "source": [
    "# BY DAY WITHOUT HOUR"
   ]
  },
  {
   "cell_type": "code",
   "execution_count": 12,
   "metadata": {
    "collapsed": true
   },
   "outputs": [],
   "source": [
    "session_by_date_start=\"2019-02-11\"\n",
    "session_by_date_end=\"2019-02-24\""
   ]
  },
  {
   "cell_type": "code",
   "execution_count": 13,
   "metadata": {},
   "outputs": [
    {
     "name": "stdout",
     "output_type": "stream",
     "text": [
      "(6132, 7)\n",
      "(38640, 7)\n"
     ]
    }
   ],
   "source": [
    "ga_data_saatva=ga.get_report_over_10000_rows(analytics=analytics, VIEW_ID='122377905',start_date=session_by_date_start, end_date=session_by_date_end,\n",
    "                                            ga_metrics=['ga:sessions'],\n",
    "                                            ga_dimensions=['ga:date','ga:sourceMedium','ga:country','ga:metro'])\n",
    "ga_data_saatva=ga_data_saatva[ga_data_saatva['ga:country']==\"United States\"]\n",
    "ga_data_saatva['View']=\"Saatva.com\"\n",
    "ga_data_saatva['View_ID']=\"122377905\"\n",
    "print(ga_data_saatva.shape)\n",
    "#########\n",
    "ga_data_SM=ga.get_report_over_10000_rows(analytics=analytics, VIEW_ID='33605697',start_date=session_by_date_start, end_date=session_by_date_end,\n",
    "                                            ga_metrics=['ga:sessions'],\n",
    "                                            ga_dimensions=['ga:date','ga:sourceMedium','ga:country','ga:metro'])\n",
    "\n",
    "ga_data_SM=ga_data_SM[ga_data_SM['ga:country']==\"United States\"]\n",
    "ga_data_SM['View']=\"Saatvamattress.com\"\n",
    "ga_data_SM['View_ID']=\"33605697\"\n",
    "print(ga_data_SM.shape)"
   ]
  },
  {
   "cell_type": "code",
   "execution_count": 14,
   "metadata": {
    "collapsed": true
   },
   "outputs": [],
   "source": [
    "ga_data=ga_data_SM.append(ga_data_saatva)\n",
    "ga_data=num_func_trans(ga_data)\n",
    "\n",
    "ga_data['Source']=ga_data['ga:sourceMedium'].apply(lambda x: x.split(\" / \")[0])\n",
    "ga_data['Medium']=ga_data['ga:sourceMedium'].apply(lambda x: x.split(\" / \")[1])\n",
    "\n",
    "ga_data['Defined_Media']=np.nan\n",
    "ga_data['Defined_Media']=np.where(((ga_data['ga:sourceMedium'].str.contains('youtube.')) | (ga_data['Medium']==\"social\")),\"Social\",\n",
    "                                  np.where(((ga_data['Source'].isin(['msn','instagram','Instagram','pinterest','facebook'])) & (ga_data['Medium']=='cpc')),\"Social\",\n",
    "                                           np.where(ga_data['ga:sourceMedium'].str.contains('criteo'),\"Retarget\",\n",
    "                                                    np.where(ga_data['Source']==\"(direct)\",\"Direct\",\n",
    "                                                             np.where(((ga_data['Source'].isin(['google','bing','yahoo'])) & (ga_data['Medium']=='cpc')),\"SEM\",\n",
    "                                                                      np.where(((ga_data['Source'].isin(['google','bing','yahoo'])) & (ga_data['Medium']=='organic')),\"SEO\",\n",
    "                                                                               np.where(ga_data['Source']==\"powerInbox\",\"Email\",\n",
    "                                                                                        np.where((ga_data['ga:sourceMedium'].str.contains('email')) & (~ga_data['ga:sourceMedium'].isin([\"taboola / townnews-wvgazettemail\",\"query.hemailaccessonline.com / referral\"]) | (ga_data['ga:sourceMedium'].str.contains(\"mail.\") )),\"Email\",\n",
    "                                                                                                 np.where(ga_data['ga:sourceMedium'].str.contains('taboola'),\"Video\",\n",
    "                                                                                                          np.where(ga_data['Medium']==\"referral\",\"Referral\",\n",
    "                                                                                                                   np.where(ga_data['Medium'].isin([\"partner\",\"partners\"]),\"partner\",\n",
    "                                                                                                                            np.where(ga_data['ga:sourceMedium'].str.contains('display'),\"Display\",\"Others\")\n",
    "                                                                                                                            )\n",
    "                                                                                                                   )\n",
    "                                                                                                          )\n",
    "                                                                                                )\n",
    "                                                                                       )\n",
    "                                                                              )\n",
    "                                                                     )\n",
    "                                                            )\n",
    "                                                   )\n",
    "                                          )\n",
    "                                 )"
   ]
  },
  {
   "cell_type": "code",
   "execution_count": 15,
   "metadata": {
    "collapsed": true
   },
   "outputs": [],
   "source": [
    "GA_taxonomy=ga_data[['ga:sourceMedium','Source','Medium','Defined_Media']].drop_duplicates()\n",
    "GA_taxonomy.reset_index(inplace=True)\n",
    "GA_taxonomy=GA_taxonomy.sort_values('Defined_Media')\n",
    "del GA_taxonomy['index']"
   ]
  },
  {
   "cell_type": "code",
   "execution_count": 16,
   "metadata": {},
   "outputs": [],
   "source": [
    "ga_agg_session=ga_data.groupby(['ga:date','ga:metro','Defined_Media'])['ga:sessions'].sum().to_frame()\n",
    "ga_agg_session.reset_index(inplace=True)\n",
    "ga_agg_session['ga:date']=ga_agg_session['ga:date'].apply(lambda x: datetime.datetime.strptime(x,\"%Y%m%d\").date())"
   ]
  },
  {
   "cell_type": "code",
   "execution_count": 17,
   "metadata": {},
   "outputs": [
    {
     "data": {
      "text/plain": [
       "array(['Direct', 'Others', 'Referral', 'SEM', 'SEO', 'Social', 'partner',\n",
       "       'Display', 'Email', 'Retarget', 'Video'], dtype=object)"
      ]
     },
     "execution_count": 17,
     "metadata": {},
     "output_type": "execute_result"
    }
   ],
   "source": [
    "ga_agg_session['Defined_Media'].unique()"
   ]
  },
  {
   "cell_type": "code",
   "execution_count": 18,
   "metadata": {},
   "outputs": [
    {
     "data": {
      "text/plain": [
       "{'Charlotte': 'Charlotte NC',\n",
       " 'Chicago': 'Chicago IL',\n",
       " 'Denver': 'Denver CO',\n",
       " 'Minneapolis': 'Minneapolis-St. Paul MN',\n",
       " 'New York': 'New York NY',\n",
       " 'San Francisco': 'San Francisco-Oakland-San Jose CA',\n",
       " 'Washington DC': 'Washington DC (Hagerstown MD)'}"
      ]
     },
     "execution_count": 18,
     "metadata": {},
     "output_type": "execute_result"
    }
   ],
   "source": [
    "Market_TV_to_GoogleAdwords={}\n",
    "Market_TV_to_GoogleAdwords.update({\"Charlotte\":\"Charlotte NC\"})\n",
    "Market_TV_to_GoogleAdwords.update({\"Chicago\":\"Chicago IL\"})\n",
    "Market_TV_to_GoogleAdwords.update({\"Denver\":\"Denver CO\"})\n",
    "Market_TV_to_GoogleAdwords.update({\"Minneapolis\":\"Minneapolis-St. Paul MN\"})\n",
    "Market_TV_to_GoogleAdwords.update({\"New York\":\"New York NY\"})\n",
    "Market_TV_to_GoogleAdwords.update({\"San Francisco\":\"San Francisco-Oakland-San Jose CA\"})\n",
    "Market_TV_to_GoogleAdwords.update({\"Washington DC\":\"Washington DC (Hagerstown MD)\"})\n",
    "Market_TV_to_GoogleAdwords"
   ]
  },
  {
   "cell_type": "code",
   "execution_count": 19,
   "metadata": {},
   "outputs": [],
   "source": [
    "df_TV_copy_day_session=President_Day_TV_logs.copy()\n",
    "df_TV_copy_day_session=df_TV_copy_day_session.groupby(['Market','Date_NYT'])['log_time'].count().to_frame().reset_index()\n",
    "df_TV_copy_day_session['GoogleMarket']=df_TV_copy_day_session['Market'].apply(lambda x: Market_TV_to_GoogleAdwords[x])\n",
    "df_TV_copy_day_session=df_TV_copy_day_session[['GoogleMarket','Date_NYT','log_time']].rename(columns={\"log_time\":\"log_count\"})\n",
    "df_TV_copy_day_session\n",
    "\n",
    "df_1=pd.DataFrame({\"GoogleMarket\":df_TV_copy_day_session['GoogleMarket'].unique().tolist()})\n",
    "df_1['index']=1\n",
    "df_2=pd.DataFrame({\"Date_NYT\":df_TV_copy_day_session['Date_NYT'].unique().tolist()})\n",
    "df_2['index']=1\n",
    "df_1=pd.merge(df_1,df_2,on=\"index\",how=\"outer\")\n",
    "del df_1['index']\n",
    "\n",
    "df_TV_copy_day_session=pd.merge(df_TV_copy_day_session,df_1,on=['GoogleMarket','Date_NYT'],how=\"outer\")\n",
    "df_TV_copy_day_session=df_TV_copy_day_session[df_TV_copy_day_session['Date_NYT']>=datetime.date(2019,2,11)]\n",
    "df_TV_copy_day_session=df_TV_copy_day_session[df_TV_copy_day_session['Date_NYT']<=datetime.date(2019,2,24)]\n",
    "df_TV_copy_day_session['log_count']=df_TV_copy_day_session['log_count'].fillna(0)\n",
    "\n"
   ]
  },
  {
   "cell_type": "code",
   "execution_count": 21,
   "metadata": {},
   "outputs": [],
   "source": [
    "for session_type,group in ga_agg_session.groupby(\"Defined_Media\"):\n",
    "    mkt_list=[]\n",
    "    writer=pd.ExcelWriter(\"/home/jian/Projects/Saatva/Analysis/President_Day_2019/output/output_sessions_by_day/Saatva_Sessions_Type_of_\"+session_type+\"_JL_\"+str(datetime.datetime.now().date())+\".xlsx\",engine=\"xlsxwriter\")\n",
    "    for mkt in df_TV_copy_day_session['GoogleMarket'].tolist():\n",
    "        df_GA_mkt=group[group['ga:metro']==mkt].rename(columns={\"ga:date\":\"Date_NYT\",\"ga:metro\":\"GoogleMarket\"})\n",
    "        df_TV=df_TV_copy_day_session[df_TV_copy_day_session['GoogleMarket']==mkt]\n",
    "\n",
    "        df_mkt_session=pd.merge(df_GA_mkt,df_TV,on=['Date_NYT','GoogleMarket'],how=\"outer\")\n",
    "        df_mkt_session['session_type']=session_type\n",
    "        df_mkt_session=df_mkt_session[['GoogleMarket','Date_NYT','session_type','log_count','ga:sessions']]\n",
    "        mkt_list=mkt_list+[mkt]\n",
    "        df_mkt_session.to_excel(writer,mkt.split(\"-\")[0],index=False)\n",
    "    targeted_7_mkt_TV=df_TV_copy_day_session.groupby(['Date_NYT'])['log_count'].sum().to_frame().reset_index()\n",
    "    targeted_7_mkt_GA=group[group['ga:metro'].isin(mkt_list)].rename(columns={\"ga:date\":\"Date_NYT\",\"ga:metro\":\"GoogleMarket\"})\n",
    "    targeted_7_mkt_GA=targeted_7_mkt_GA.groupby(['Date_NYT'])['ga:sessions'].sum().to_frame().reset_index()\n",
    "    df_targeted_7_mkt=pd.merge(targeted_7_mkt_TV,targeted_7_mkt_GA,on=['Date_NYT'],how=\"outer\")\n",
    "    df_targeted_7_mkt['GoogleMarket']=\"Targeted_7_Mkts\"\n",
    "    df_targeted_7_mkt['session_type']=\"All_Sessions\"\n",
    "    df_targeted_7_mkt=df_targeted_7_mkt[df_mkt_session.columns.tolist()]\n",
    "    \n",
    "    other_mkts_GA=group[~group['ga:metro'].isin(mkt_list)].rename(columns={\"ga:date\":\"Date_NYT\",\"ga:metro\":\"GoogleMarket\"})\n",
    "    other_mkts_GA=other_mkts_GA.groupby(['Date_NYT'])['ga:sessions'].sum().to_frame().reset_index()\n",
    "    other_mkts_GA['GoogleMarket']=\"Others\"\n",
    "    other_mkts_GA['session_type']=\"All_Sessions\"\n",
    "    other_mkts_GA=other_mkts_GA[[x for x in df_mkt_session.columns.tolist() if x !=\"log_count\"]]\n",
    "    \n",
    "    df_targeted_7_mkt.to_excel(writer,\"targeted_7_mkts\",index=False)\n",
    "    other_mkts_GA.to_excel(writer,\"other_mkts\",index=False)\n",
    "    writer.save()"
   ]
  },
  {
   "cell_type": "code",
   "execution_count": 23,
   "metadata": {},
   "outputs": [],
   "source": [
    "writer=pd.ExcelWriter(\"/home/jian/Projects/Saatva/Analysis/President_Day_2019/output/output_sessions_by_day/Saatva_All_Sessions_JL_\"+str(datetime.datetime.now().date())+\".xlsx\",engine=\"xlsxwriter\")\n",
    "for mkt in df_TV_copy_day_session['GoogleMarket'].tolist():\n",
    "    df_GA_mkt=ga_agg_session[ga_agg_session['ga:metro']==mkt].rename(columns={\"ga:date\":\"Date_NYT\",\"ga:metro\":\"GoogleMarket\"})\n",
    "    df_GA_mkt=df_GA_mkt.groupby([\"Date_NYT\",\"GoogleMarket\"])['ga:sessions'].sum().to_frame().reset_index()\n",
    "    df_TV=df_TV_copy_day_session[df_TV_copy_day_session['GoogleMarket']==mkt]\n",
    "\n",
    "    df_mkt_session=pd.merge(df_GA_mkt,df_TV,on=['Date_NYT','GoogleMarket'],how=\"outer\")\n",
    "    df_mkt_session['session_type']=\"All_Sessions\"\n",
    "    df_mkt_session=df_mkt_session[['GoogleMarket','Date_NYT','session_type','log_count','ga:sessions']]\n",
    "    mkt_list=mkt_list+[mkt]\n",
    "    df_mkt_session.to_excel(writer,mkt.split(\"-\")[0],index=False)\n",
    "targeted_7_mkt_TV=df_TV_copy_day_session.groupby(['Date_NYT'])['log_count'].sum().to_frame().reset_index()\n",
    "targeted_7_mkt_GA=ga_agg_session[ga_agg_session['ga:metro'].isin(mkt_list)].rename(columns={\"ga:date\":\"Date_NYT\",\"ga:metro\":\"GoogleMarket\"})\n",
    "targeted_7_mkt_GA=targeted_7_mkt_GA.groupby(['Date_NYT'])['ga:sessions'].sum().to_frame().reset_index()\n",
    "df_targeted_7_mkt=pd.merge(targeted_7_mkt_TV,targeted_7_mkt_GA,on=['Date_NYT'],how=\"outer\")\n",
    "df_targeted_7_mkt['GoogleMarket']=\"Targeted_7_Mkts\"\n",
    "df_targeted_7_mkt['session_type']=\"All_Sessions\"\n",
    "df_targeted_7_mkt=df_targeted_7_mkt[df_mkt_session.columns.tolist()]\n",
    "    \n",
    "other_mkts_GA=ga_agg_session[~ga_agg_session['ga:metro'].isin(mkt_list)].rename(columns={\"ga:date\":\"Date_NYT\",\"ga:metro\":\"GoogleMarket\"})\n",
    "other_mkts_GA=other_mkts_GA.groupby(['Date_NYT'])['ga:sessions'].sum().to_frame().reset_index()\n",
    "other_mkts_GA['GoogleMarket']=\"Others\"\n",
    "other_mkts_GA['session_type']=\"All_Sessions\"\n",
    "other_mkts_GA=other_mkts_GA[[x for x in df_mkt_session.columns.tolist() if x !=\"log_count\"]]\n",
    "    \n",
    "df_targeted_7_mkt.to_excel(writer,\"targeted_7_mkts\",index=False)\n",
    "other_mkts_GA.to_excel(writer,\"other_mkts\",index=False)\n",
    "writer.save()"
   ]
  },
  {
   "cell_type": "markdown",
   "metadata": {},
   "source": [
    "# BY DAY BY HOUR"
   ]
  },
  {
   "cell_type": "code",
   "execution_count": null,
   "metadata": {
    "collapsed": true
   },
   "outputs": [],
   "source": [
    "Start_Date=\"2019-02-11\"\n",
    "End_Date=\"2019-02-25\" # +1 day for the adwords later"
   ]
  },
  {
   "cell_type": "code",
   "execution_count": 13,
   "metadata": {},
   "outputs": [
    {
     "data": {
      "text/plain": [
       "(13613, 7)"
      ]
     },
     "execution_count": 13,
     "metadata": {},
     "output_type": "execute_result"
    }
   ],
   "source": [
    "# Saatva.com\n",
    "# dateHour, sourceMedium      sessions, adClicks, impressions\n",
    "ga_data_saatva=ga.get_report_over_10000_rows(analytics=analytics, VIEW_ID='122377905',start_date=Start_Date, end_date=End_Date,\n",
    "                                            ga_metrics=['ga:sessions'],\n",
    "                                            ga_dimensions=['ga:dateHour','ga:sourceMedium','ga:country','ga:metro'])\n",
    "ga_data_saatva=ga_data_saatva[ga_data_saatva['ga:country']==\"United States\"]\n",
    "ga_data_saatva['View']=\"Saatva.com\"\n",
    "ga_data_saatva['View_ID']=\"122377905\"\n",
    "ga_data_saatva.shape"
   ]
  },
  {
   "cell_type": "code",
   "execution_count": 14,
   "metadata": {},
   "outputs": [
    {
     "data": {
      "text/plain": [
       "(167310, 7)"
      ]
     },
     "execution_count": 14,
     "metadata": {},
     "output_type": "execute_result"
    }
   ],
   "source": [
    "# Saatvamattress.com\n",
    "# dateHour, sourceMedium      sessions, adClicks, impressions\n",
    "ga_data_SM=ga.get_report_over_10000_rows(analytics=analytics, VIEW_ID='33605697',start_date=Start_Date, end_date=End_Date,\n",
    "                                            ga_metrics=['ga:sessions'],\n",
    "                                            ga_dimensions=['ga:dateHour','ga:sourceMedium','ga:country','ga:metro'])\n",
    "\n",
    "ga_data_SM=ga_data_SM[ga_data_SM['ga:country']==\"United States\"]\n",
    "ga_data_SM['View']=\"Saatvamattress.com\"\n",
    "ga_data_SM['View_ID']=\"33605697\"\n",
    "ga_data_SM.shape"
   ]
  },
  {
   "cell_type": "code",
   "execution_count": null,
   "metadata": {
    "collapsed": true
   },
   "outputs": [],
   "source": []
  },
  {
   "cell_type": "code",
   "execution_count": 15,
   "metadata": {
    "collapsed": true
   },
   "outputs": [],
   "source": [
    "ga_data=ga_data_SM.append(ga_data_saatva)\n",
    "ga_data=num_func_trans(ga_data)\n",
    "\n",
    "ga_data['Source']=ga_data['ga:sourceMedium'].apply(lambda x: x.split(\" / \")[0])\n",
    "ga_data['Medium']=ga_data['ga:sourceMedium'].apply(lambda x: x.split(\" / \")[1])\n",
    "\n",
    "ga_data['Defined_Media']=np.nan\n",
    "ga_data['Defined_Media']=np.where(((ga_data['ga:sourceMedium'].str.contains('youtube.')) | (ga_data['Medium']==\"social\")),\"Social\",\n",
    "                                  np.where(((ga_data['Source'].isin(['msn','instagram','Instagram','pinterest','facebook'])) & (ga_data['Medium']=='cpc')),\"Social\",\n",
    "                                           np.where(ga_data['ga:sourceMedium'].str.contains('criteo'),\"Retarget\",\n",
    "                                                    np.where(ga_data['Source']==\"(direct)\",\"Direct\",\n",
    "                                                             np.where(((ga_data['Source'].isin(['google','bing','yahoo'])) & (ga_data['Medium']=='cpc')),\"SEM\",\n",
    "                                                                      np.where(((ga_data['Source'].isin(['google','bing','yahoo'])) & (ga_data['Medium']=='organic')),\"SEO\",\n",
    "                                                                               np.where(ga_data['Source']==\"powerInbox\",\"Email\",\n",
    "                                                                                        np.where((ga_data['ga:sourceMedium'].str.contains('email')) & (~ga_data['ga:sourceMedium'].isin([\"taboola / townnews-wvgazettemail\",\"query.hemailaccessonline.com / referral\"]) | (ga_data['ga:sourceMedium'].str.contains(\"mail.\") )),\"Email\",\n",
    "                                                                                                 np.where(ga_data['ga:sourceMedium'].str.contains('taboola'),\"Video\",\n",
    "                                                                                                          np.where(ga_data['Medium']==\"referral\",\"Referral\",\n",
    "                                                                                                                   np.where(ga_data['Medium'].isin([\"partner\",\"partners\"]),\"partner\",\n",
    "                                                                                                                            np.where(ga_data['ga:sourceMedium'].str.contains('display'),\"Display\",\"Others\")\n",
    "                                                                                                                            )\n",
    "                                                                                                                   )\n",
    "                                                                                                          )\n",
    "                                                                                                )\n",
    "                                                                                       )\n",
    "                                                                              )\n",
    "                                                                     )\n",
    "                                                            )\n",
    "                                                   )\n",
    "                                          )\n",
    "                                 )"
   ]
  },
  {
   "cell_type": "code",
   "execution_count": 16,
   "metadata": {
    "collapsed": true
   },
   "outputs": [],
   "source": [
    "GA_taxonomy=ga_data[['ga:sourceMedium','Source','Medium','Defined_Media']].drop_duplicates()\n",
    "GA_taxonomy.reset_index(inplace=True)\n",
    "GA_taxonomy=GA_taxonomy.sort_values('Defined_Media')\n",
    "del GA_taxonomy['index']"
   ]
  },
  {
   "cell_type": "code",
   "execution_count": 17,
   "metadata": {
    "collapsed": true
   },
   "outputs": [],
   "source": [
    "ga_agg_session=ga_data.groupby(['ga:dateHour','ga:metro','Defined_Media'])['ga:sessions'].sum().to_frame()\n",
    "ga_agg_session.reset_index(inplace=True)\n",
    "# ga_agg_wide_session=ga_agg_session.pivot('ga:dateHour','Defined_Media','ga:sessions')\n",
    "# ga_agg_wide_session.reset_index(inplace=True)\n",
    "# ga_agg_wide_session['time_hour']=ga_agg_wide_session['ga:dateHour'].apply(lambda x:datetime.datetime.strptime(x,\"%Y%m%d%H\"))\n",
    "# ga_agg_wide_session=ga_agg_wide_session.fillna(0)\n"
   ]
  },
  {
   "cell_type": "code",
   "execution_count": 18,
   "metadata": {},
   "outputs": [
    {
     "data": {
      "text/html": [
       "<div>\n",
       "<style>\n",
       "    .dataframe thead tr:only-child th {\n",
       "        text-align: right;\n",
       "    }\n",
       "\n",
       "    .dataframe thead th {\n",
       "        text-align: left;\n",
       "    }\n",
       "\n",
       "    .dataframe tbody tr th {\n",
       "        vertical-align: top;\n",
       "    }\n",
       "</style>\n",
       "<table border=\"1\" class=\"dataframe\">\n",
       "  <thead>\n",
       "    <tr style=\"text-align: right;\">\n",
       "      <th></th>\n",
       "      <th>ga:dateHour</th>\n",
       "      <th>ga:metro</th>\n",
       "      <th>Defined_Media</th>\n",
       "      <th>ga:sessions</th>\n",
       "    </tr>\n",
       "  </thead>\n",
       "  <tbody>\n",
       "    <tr>\n",
       "      <th>0</th>\n",
       "      <td>2019021100</td>\n",
       "      <td>(not set)</td>\n",
       "      <td>Direct</td>\n",
       "      <td>3</td>\n",
       "    </tr>\n",
       "    <tr>\n",
       "      <th>1</th>\n",
       "      <td>2019021100</td>\n",
       "      <td>(not set)</td>\n",
       "      <td>Others</td>\n",
       "      <td>1</td>\n",
       "    </tr>\n",
       "    <tr>\n",
       "      <th>2</th>\n",
       "      <td>2019021100</td>\n",
       "      <td>(not set)</td>\n",
       "      <td>Referral</td>\n",
       "      <td>4</td>\n",
       "    </tr>\n",
       "    <tr>\n",
       "      <th>3</th>\n",
       "      <td>2019021100</td>\n",
       "      <td>(not set)</td>\n",
       "      <td>SEM</td>\n",
       "      <td>6</td>\n",
       "    </tr>\n",
       "  </tbody>\n",
       "</table>\n",
       "</div>"
      ],
      "text/plain": [
       "  ga:dateHour   ga:metro Defined_Media  ga:sessions\n",
       "0  2019021100  (not set)        Direct            3\n",
       "1  2019021100  (not set)        Others            1\n",
       "2  2019021100  (not set)      Referral            4\n",
       "3  2019021100  (not set)           SEM            6"
      ]
     },
     "execution_count": 18,
     "metadata": {},
     "output_type": "execute_result"
    }
   ],
   "source": [
    "ga_agg_session.head(4)"
   ]
  },
  {
   "cell_type": "markdown",
   "metadata": {},
   "source": [
    "# AdWords"
   ]
  },
  {
   "cell_type": "code",
   "execution_count": 60,
   "metadata": {
    "collapsed": true
   },
   "outputs": [],
   "source": [
    "Start_Date_AdWords=\"2019-02-01\"\n",
    "End_Date_AdWords=\"2019-02-25\"\n",
    "\n"
   ]
  },
  {
   "cell_type": "code",
   "execution_count": 30,
   "metadata": {
    "collapsed": true
   },
   "outputs": [],
   "source": [
    "def get_client(config_path='googleads_saatva.yaml'):\n",
    "    return adwords.AdWordsClient.LoadFromStorage(config_path)\n",
    "\n",
    "def download_report_as_stream(client, report_type, fields, start_date, end_date):\n",
    "    '''Download Adwords report, then save as csv file to base_dir\n",
    "    Args:\n",
    "        client: adwords.AdWordsClient.LoadFromStorage()\n",
    "        report_type: str eg. 'KEYWORDS_PERFORMANCE_REPORT'\n",
    "        fields: list eg. [\"CampaignId\", \"CampaignName\", ... ]\n",
    "        start_date: str, eg. '2018-02-11'\n",
    "        end_date: str, eg.\n",
    "    Return:\n",
    "        str, path to csv file\n",
    "    '''\n",
    "    report_downloader = client.GetReportDownloader(version='v201809')\n",
    "    # Create report definition.\n",
    "    report = {\n",
    "        'reportName': report_type,\n",
    "        'dateRangeType': 'CUSTOM_DATE',\n",
    "        'reportType': report_type,\n",
    "        'downloadFormat': 'CSV',\n",
    "        'selector': {\n",
    "            'fields': fields,\n",
    "            'dateRange': {\n",
    "                'min': start_date,\n",
    "                'max': end_date}\n",
    "        }\n",
    "    }\n",
    "\n",
    "    # save output\n",
    "    return report_downloader.DownloadReportAsStream(report, \n",
    "        skip_report_header=True, skip_column_header=False,\n",
    "        skip_report_summary=True)\n",
    "\n",
    "\n",
    "\n",
    "# 1\n",
    "\n",
    "client_Saatva = get_client(config_path='/home/jian/Projects/Saatva/To_Lexie_and_Connor/googleads_saatva_JL_Saatva.yaml')\n",
    "report_type = 'CAMPAIGN_PERFORMANCE_REPORT'\n",
    "fields = [\"AccountDescriptiveName\",\"CampaignName\",\"Date\",\"HourOfDay\",\"AdvertisingChannelType\",\"AdNetworkType1\",\"AdNetworkType2\",\"Impressions\", \"Clicks\", \"Cost\"]\n",
    "response_Saatva = download_report_as_stream(client_Saatva, report_type, fields, Start_Date_AdWords, End_Date_AdWords)\n",
    "Saatva_Click = pd.read_csv(response_Saatva)\n",
    "Saatva_Click['Cost']=Saatva_Click['Cost'].apply(lambda x: x/1000000)\n",
    "Saatva_Click['Channel_Network']=Saatva_Click['Advertising Channel']+\"|\"+Saatva_Click['Network']+\"|\"+Saatva_Click['Network (with search partners)']\n",
    "\n",
    "\n",
    "# 2 Empty\n",
    "\n",
    "client_Saatva_Branding = get_client(config_path='/home/jian/Projects/Saatva/To_Lexie_and_Connor/googleads_saatva_JL_Saatva_Branding.yaml')\n",
    "report_type = 'CAMPAIGN_PERFORMANCE_REPORT'\n",
    "fields = [\"AccountDescriptiveName\",\"CampaignName\",\"Date\",\"HourOfDay\",\"AdvertisingChannelType\",\"AdNetworkType1\",\"AdNetworkType2\",\"Impressions\", \"Clicks\", \"Cost\"]\n",
    "response_Saatva_Branding = download_report_as_stream(client_Saatva_Branding, report_type, fields, Start_Date_AdWords, End_Date_AdWords)\n",
    "Saatva_Brand_Click = pd.read_csv(response_Saatva_Branding)\n",
    "Saatva_Brand_Click['Cost']=Saatva_Brand_Click['Cost'].apply(lambda x: x/1000000)\n",
    "Saatva_Brand_Click['Channel_Network']=Saatva_Brand_Click['Advertising Channel']+\"|\"+Saatva_Brand_Click['Network']+\"|\"+Saatva_Brand_Click['Network (with search partners)']\n",
    "Saatva_Brand_Click['Channel_Network'].unique()\n",
    "\n",
    "\n",
    "# 3\n",
    "\n",
    "client_Saatva_Competitors = get_client(config_path='/home/jian/Projects/Saatva/To_Lexie_and_Connor/googleads_saatva_JL_Saatva_Competitors.yaml')\n",
    "report_type = 'CAMPAIGN_PERFORMANCE_REPORT'\n",
    "fields = [\"AccountDescriptiveName\",\"CampaignName\",\"Date\",\"HourOfDay\",\"AdvertisingChannelType\",\"AdNetworkType1\",\"AdNetworkType2\",\"Impressions\", \"Clicks\", \"Cost\"]\n",
    "response_Saatva_Competitor = download_report_as_stream(client_Saatva_Competitors, report_type, fields, Start_Date_AdWords, End_Date_AdWords)\n",
    "Saatva_Competitor_Click = pd.read_csv(response_Saatva_Competitor)\n",
    "Saatva_Competitor_Click['Cost']=Saatva_Competitor_Click['Cost'].apply(lambda x: x/1000000)\n",
    "Saatva_Competitor_Click['Channel_Network']=Saatva_Competitor_Click['Advertising Channel']+\"|\"+Saatva_Competitor_Click['Network']+\"|\"+Saatva_Competitor_Click['Network (with search partners)']\n",
    "\n",
    "\n",
    "# 4\n",
    "\n",
    "client_TheSaatvaCompany = get_client(config_path='/home/jian/Projects/Saatva/To_Lexie_and_Connor/googleads_saatva_JL_TheSaatvaCompany.yaml')\n",
    "report_type = 'CAMPAIGN_PERFORMANCE_REPORT'\n",
    "fields = [\"AccountDescriptiveName\",\"CampaignName\",\"Date\",\"HourOfDay\",\"AdvertisingChannelType\",\"AdNetworkType1\",\"AdNetworkType2\",\"Impressions\", \"Clicks\", \"Cost\"]\n",
    "response_TheSaatvaCompany = download_report_as_stream(client_TheSaatvaCompany, report_type, fields, Start_Date_AdWords, End_Date_AdWords)\n",
    "TheSaatvaCompany_Click = pd.read_csv(response_TheSaatvaCompany)\n",
    "TheSaatvaCompany_Click['Cost']=TheSaatvaCompany_Click['Cost'].apply(lambda x: x/1000000)\n",
    "TheSaatvaCompany_Click['Channel_Network']=TheSaatvaCompany_Click['Advertising Channel']+\"|\"+TheSaatvaCompany_Click['Network']+\"|\"+TheSaatvaCompany_Click['Network (with search partners)']\n",
    "\n",
    "\n",
    "\n",
    "# 5 Empty\n",
    "\n",
    "client_TheSaatvaCompanyBranding = get_client(config_path='/home/jian/Projects/Saatva/To_Lexie_and_Connor/googleads_saatva_JL_TheSaatvaCompanyBranding.yaml')\n",
    "report_type = 'CAMPAIGN_PERFORMANCE_REPORT'\n",
    "fields = [\"AccountDescriptiveName\",\"CampaignName\",\"Date\",\"HourOfDay\",\"AdvertisingChannelType\",\"AdNetworkType1\",\"AdNetworkType2\",\"Impressions\", \"Clicks\", \"Cost\"]\n",
    "response_TheSaatvaCompanyBranding = download_report_as_stream(client_TheSaatvaCompanyBranding, report_type, fields, Start_Date_AdWords, End_Date_AdWords)\n",
    "TheSaatvaCompanyBranding_Click = pd.read_csv(response_TheSaatvaCompanyBranding)\n",
    "TheSaatvaCompanyBranding_Click['Cost']=TheSaatvaCompanyBranding_Click['Cost'].apply(lambda x: x/1000000)\n",
    "TheSaatvaCompanyBranding_Click['Channel_Network']=TheSaatvaCompanyBranding_Click['Advertising Channel']+\"|\"+TheSaatvaCompanyBranding_Click['Network']+\"|\"+TheSaatvaCompanyBranding_Click['Network (with search partners)']\n"
   ]
  },
  {
   "cell_type": "code",
   "execution_count": null,
   "metadata": {
    "collapsed": true
   },
   "outputs": [],
   "source": []
  },
  {
   "cell_type": "code",
   "execution_count": 31,
   "metadata": {
    "collapsed": true
   },
   "outputs": [],
   "source": [
    "Saatva_Competitor_Click=Saatva_Competitor_Click[Saatva_Competitor_Click['Campaign'].apply(lambda x: x[len(x)-4:len(x)+1])==\"[SM]\"]\n",
    "Saatva_Competitor_Click.reset_index(inplace=True)\n",
    "del Saatva_Competitor_Click['index']"
   ]
  },
  {
   "cell_type": "code",
   "execution_count": 32,
   "metadata": {},
   "outputs": [
    {
     "data": {
      "text/plain": [
       "{'Display|Display Network|Display Network',\n",
       " 'Search|Search Network|Google search',\n",
       " 'Search|Search Network|Search partners',\n",
       " 'Shopping|Search Network|Google search',\n",
       " 'Shopping|Search Network|Search partners',\n",
       " 'Video|Display Network|Display Network',\n",
       " 'Video|YouTube Search|YouTube Search',\n",
       " 'Video|YouTube Videos|YouTube Videos'}"
      ]
     },
     "execution_count": 32,
     "metadata": {},
     "output_type": "execute_result"
    }
   ],
   "source": [
    "set(Saatva_Click['Channel_Network'].unique().tolist()+Saatva_Brand_Click['Channel_Network'].unique().tolist()+Saatva_Competitor_Click['Channel_Network'].unique().tolist()+    TheSaatvaCompany_Click['Channel_Network'].unique().tolist()+TheSaatvaCompanyBranding_Click['Channel_Network'].unique().tolist())\n"
   ]
  },
  {
   "cell_type": "code",
   "execution_count": 33,
   "metadata": {
    "collapsed": true
   },
   "outputs": [],
   "source": [
    "df_all_adwords=Saatva_Click.append(Saatva_Brand_Click).append(Saatva_Competitor_Click)\n",
    "df_all_adwords=df_all_adwords.append(TheSaatvaCompany_Click).append(TheSaatvaCompanyBranding_Click)\n",
    "df_s=df_all_adwords.groupby(['Channel_Network'])[['Impressions','Clicks','Cost']].sum().reset_index()\n",
    "Video_summary=df_s[df_s['Channel_Network'].apply(lambda x: \"Video\" in x)]"
   ]
  },
  {
   "cell_type": "code",
   "execution_count": 34,
   "metadata": {},
   "outputs": [
    {
     "name": "stdout",
     "output_type": "stream",
     "text": [
      "Make sure it's 0: 0\n",
      "Make sure it's 0: 0\n"
     ]
    },
    {
     "name": "stderr",
     "output_type": "stream",
     "text": [
      "/usr/local/lib/python3.6/site-packages/ipykernel_launcher.py:13: SettingWithCopyWarning: \n",
      "A value is trying to be set on a copy of a slice from a DataFrame.\n",
      "Try using .loc[row_indexer,col_indexer] = value instead\n",
      "\n",
      "See the caveats in the documentation: http://pandas.pydata.org/pandas-docs/stable/indexing.html#indexing-view-versus-copy\n",
      "  del sys.path[0]\n",
      "/usr/local/lib/python3.6/site-packages/ipykernel_launcher.py:24: SettingWithCopyWarning: \n",
      "A value is trying to be set on a copy of a slice from a DataFrame.\n",
      "Try using .loc[row_indexer,col_indexer] = value instead\n",
      "\n",
      "See the caveats in the documentation: http://pandas.pydata.org/pandas-docs/stable/indexing.html#indexing-view-versus-copy\n"
     ]
    }
   ],
   "source": [
    "Saatva_Click['Campaign_Type']=Saatva_Click['Advertising Channel'].apply(lambda x: x.replace(\"Search\",\"SEM\").replace(\"Shopping\",\"PLA\"))\n",
    "Saatva_Brand_Click['Campaign_Type']=Saatva_Brand_Click['Advertising Channel'].apply(lambda x: x.replace(\"Search\",\"SEM_Brand\").replace(\"Shopping\",\"PLA\"))\n",
    "if Saatva_Competitor_Click['Campaign'].apply(lambda x: x[:17]).unique().tolist()==[\"[ADL] [Non-Brand]\"]:\n",
    "    Saatva_Competitor_Click['Campaign_Type']=\"SEM_Non_Brand\" # Because it's all labeled as Non-Brand in Campaign and in Search Only Campaign Type\n",
    "TheSaatvaCompany_Click['Campaign_Type']=TheSaatvaCompany_Click['Advertising Channel'].apply(lambda x: x.replace(\"Search\",\"SEM\").replace(\"Shopping\",\"PLA\"))\n",
    "TheSaatvaCompanyBranding_Click['Campaign_Type']=TheSaatvaCompanyBranding_Click['Advertising Channel'].apply(lambda x: x.replace(\"Search\",\"SEM\").replace(\"Shopping\",\"PLA\"))\n",
    "\n",
    "\n",
    "Saatva_Click_Search=Saatva_Click[Saatva_Click['Advertising Channel']=='Search']\n",
    "Saatva_Click_Others=Saatva_Click[Saatva_Click['Advertising Channel']!='Search']\n",
    "\n",
    "Saatva_Click_Search['Campaign_Type']=np.where((Saatva_Click_Search['Campaign'].str.contains(\"Branded\")) | (Saatva_Click_Search['Campaign'].str.contains(\" Brand \")) | (Saatva_Click_Search['Campaign'].str.contains(\"Co-Brand\")) | (Saatva_Click_Search['Campaign'].str.contains(\"\\[Brand\\]\")),\"SEM_Brand\",\n",
    "                                                 np.where((Saatva_Click_Search['Campaign'].str.contains(\"Non-Brand\")) | (Saatva_Click_Search['Campaign'].str.contains(\"Dynamic Search Ads\")),\"SEM_Non_Brand\",\"NA\"))\n",
    "Saatva_Click_Search_1=Saatva_Click_Search[Saatva_Click_Search['Campaign_Type']!=\"NA\"]\n",
    "Saatva_Click_Search_2=Saatva_Click_Search[Saatva_Click_Search['Campaign_Type']==\"NA\"]\n",
    "print(\"Make sure it's 0: \"+str(len(Saatva_Click_Search_2))) # Make sure it's 0\n",
    "\n",
    "\n",
    "\n",
    "TheSaatvaCompany_Click_Search=TheSaatvaCompany_Click[TheSaatvaCompany_Click['Advertising Channel']=='Search']\n",
    "TheSaatvaCompany_Click_Others=TheSaatvaCompany_Click[TheSaatvaCompany_Click['Advertising Channel']!='Search']\n",
    "\n",
    "TheSaatvaCompany_Click_Search['Campaign_Type']=np.where((TheSaatvaCompany_Click_Search['Campaign'].str.contains(\"Branded\")) | (TheSaatvaCompany_Click_Search['Campaign'].str.contains(\" Brand \")) | (TheSaatvaCompany_Click_Search['Campaign'].str.contains(\"Co-Brand\")) | (TheSaatvaCompany_Click_Search['Campaign'].str.contains(\"\\[Brand\\]\")),\"SEM_Brand\",\n",
    "                                                 np.where((TheSaatvaCompany_Click_Search['Campaign'].str.contains(\"Non-Brand\")) | (TheSaatvaCompany_Click_Search['Campaign'].str.contains(\"Dynamic Search Ads\")),\"SEM_Non_Brand\",\"NA\"))\n",
    "TheSaatvaCompany_Click_Search_1=TheSaatvaCompany_Click_Search[TheSaatvaCompany_Click_Search['Campaign_Type']!=\"NA\"]\n",
    "TheSaatvaCompany_Click_Search_2=TheSaatvaCompany_Click_Search[TheSaatvaCompany_Click_Search['Campaign_Type']==\"NA\"]\n",
    "print(\"Make sure it's 0: \"+str(len(TheSaatvaCompany_Click_Search_2))) # Make sure it's 0\n"
   ]
  },
  {
   "cell_type": "code",
   "execution_count": 35,
   "metadata": {
    "collapsed": true
   },
   "outputs": [],
   "source": [
    "Saatva_Click=Saatva_Click_Search.append(Saatva_Click_Others)\n",
    "TheSaatvaCompany_Click=TheSaatvaCompany_Click_Search.append(TheSaatvaCompany_Click_Others)"
   ]
  },
  {
   "cell_type": "code",
   "execution_count": 36,
   "metadata": {
    "collapsed": true
   },
   "outputs": [],
   "source": [
    "Saatva_Agg=Saatva_Click.append(Saatva_Brand_Click).append(Saatva_Competitor_Click).append(TheSaatvaCompany_Click).append(TheSaatvaCompanyBranding_Click)\n",
    "Saatva_Agg['Day']=Saatva_Agg['Day'].apply(lambda x: datetime.datetime.strptime(x,\"%Y-%m-%d\").date())\n",
    "Saatva_Agg.reset_index(inplace=True)\n",
    "del Saatva_Agg['index']\n",
    "Saatva_Agg['Hour of day']=Saatva_Agg['Hour of day'].astype(int)\n",
    "\n"
   ]
  },
  {
   "cell_type": "code",
   "execution_count": 37,
   "metadata": {},
   "outputs": [
    {
     "name": "stdout",
     "output_type": "stream",
     "text": [
      "(213, 3)\n",
      "(213, 2)\n"
     ]
    }
   ],
   "source": [
    "account_campaing_name_type=Saatva_Agg[['Account','Campaign','Campaign_Type']].drop_duplicates()\n",
    "print(account_campaing_name_type.shape)\n",
    "\n",
    "b=Saatva_Agg[['Account','Campaign']].drop_duplicates()\n",
    "print(b.shape)\n",
    "\n",
    "# Use the Account, Campaign combination to define the media\n",
    "del b"
   ]
  },
  {
   "cell_type": "code",
   "execution_count": 38,
   "metadata": {
    "collapsed": true
   },
   "outputs": [],
   "source": [
    "Saatva_Agg=Saatva_Agg.groupby([\"Campaign_Type\",\"Day\",\"Hour of day\"])['Impressions','Clicks', 'Cost'].apply(sum)\n",
    "Saatva_Agg.reset_index(inplace=True)\n",
    "Saatva_Agg['CTR']=Saatva_Agg['Clicks']/Saatva_Agg['Impressions']\n",
    "\n",
    "Saatva_Agg_No_NA=Saatva_Agg[(Saatva_Agg['Campaign_Type']!=\"NA\") & (Saatva_Agg['Campaign_Type']!=\"Search Network with Display Select\")]\n"
   ]
  },
  {
   "cell_type": "code",
   "execution_count": 39,
   "metadata": {},
   "outputs": [
    {
     "data": {
      "text/plain": [
       "array(['Search', 'Video', 'Shopping', 'Display'], dtype=object)"
      ]
     },
     "execution_count": 39,
     "metadata": {},
     "output_type": "execute_result"
    }
   ],
   "source": [
    "a=Saatva_Click.append(Saatva_Brand_Click).append(Saatva_Competitor_Click).append(TheSaatvaCompany_Click).append(TheSaatvaCompanyBranding_Click)\n",
    "a['Advertising Channel'].unique()"
   ]
  },
  {
   "cell_type": "code",
   "execution_count": 40,
   "metadata": {
    "collapsed": true
   },
   "outputs": [],
   "source": [
    "AdWords_output=Saatva_Agg.copy()\n",
    "AdWords_output['Date']=AdWords_output['Day'].apply(lambda x: str(x)[0:4]+str(x)[5:7]+str(x)[8:10])\n",
    "AdWords_output=AdWords_output[['Campaign_Type','Date','Hour of day','Impressions','Clicks','Cost']]\n",
    "AdWords_output=AdWords_output.rename(columns={\"Hour of day\":\"Hour\",\"Impressions\":\"IMP\"})\n",
    "AdWords_output=AdWords_output.sort_values([\"Campaign_Type\",\"Date\",\"Hour\"],ascending=[True,True,True])\n"
   ]
  },
  {
   "cell_type": "code",
   "execution_count": null,
   "metadata": {
    "collapsed": true
   },
   "outputs": [],
   "source": []
  },
  {
   "cell_type": "markdown",
   "metadata": {
    "collapsed": true
   },
   "source": [
    "# DMA Level"
   ]
  },
  {
   "cell_type": "code",
   "execution_count": 41,
   "metadata": {
    "collapsed": true
   },
   "outputs": [],
   "source": [
    "fields = [\"AccountDescriptiveName\",'CampaignName',\"Date\",\"CountryCriteriaId\",\"MetroCriteriaId\",\"Impressions\", \"Clicks\", \"Cost\"]\n",
    "report_type = 'GEO_PERFORMANCE_REPORT'\n",
    "    \n",
    "def getting_geo_df(client_yaml, report_type, fields, Start_Date_overall, End_Date_overall):\n",
    "    response_Saatva = download_report_as_stream(client_yaml, report_type, fields, Start_Date_overall, End_Date_overall)\n",
    "    df = pd.read_csv(response_Saatva)\n",
    "    return df"
   ]
  },
  {
   "cell_type": "code",
   "execution_count": 42,
   "metadata": {
    "collapsed": true
   },
   "outputs": [],
   "source": [
    "Geo_Saatva = getting_geo_df(client_Saatva, report_type, fields, Start_Date_AdWords, End_Date_AdWords)\n",
    "Geo_Saatva['Cost']=Geo_Saatva['Cost'].apply(lambda x: x/1000000)\n",
    "\n",
    "Geo_Saatva_Branding = getting_geo_df(client_Saatva_Branding, report_type, fields, Start_Date_AdWords, End_Date_AdWords)\n",
    "Geo_Saatva_Branding['Cost']=Geo_Saatva_Branding['Cost'].apply(lambda x: x/1000000)\n",
    "\n",
    "Geo_Saatva_Competitors = getting_geo_df(client_Saatva_Competitors, report_type, fields, Start_Date_AdWords, End_Date_AdWords)\n",
    "Geo_Saatva_Competitors['Cost']=Geo_Saatva_Competitors['Cost'].apply(lambda x: x/1000000)\n",
    "\n",
    "Geo_TheSaatvaCompany = getting_geo_df(client_TheSaatvaCompany, report_type, fields, Start_Date_AdWords, End_Date_AdWords)\n",
    "Geo_TheSaatvaCompany['Cost']=Geo_TheSaatvaCompany['Cost'].apply(lambda x: x/1000000)\n",
    "\n",
    "Geo_TheSaatvaCompanyBranding = getting_geo_df(client_TheSaatvaCompanyBranding, report_type, fields, Start_Date_AdWords, End_Date_AdWords)\n",
    "Geo_TheSaatvaCompanyBranding['Cost']=Geo_TheSaatvaCompanyBranding['Cost'].apply(lambda x: x/1000000)"
   ]
  },
  {
   "cell_type": "code",
   "execution_count": null,
   "metadata": {
    "collapsed": true
   },
   "outputs": [],
   "source": []
  },
  {
   "cell_type": "code",
   "execution_count": 43,
   "metadata": {
    "collapsed": true
   },
   "outputs": [],
   "source": [
    "Geo_Saatva_Competitors=Geo_Saatva_Competitors[Geo_Saatva_Competitors['Campaign'].apply(lambda x: x[len(x)-4:len(x)+1])==\"[SM]\"]\n",
    "Geo_Saatva_Competitors.reset_index(inplace=True)\n",
    "del Geo_Saatva_Competitors['index']\n",
    "\n"
   ]
  },
  {
   "cell_type": "code",
   "execution_count": 44,
   "metadata": {
    "collapsed": true
   },
   "outputs": [],
   "source": [
    "Geo_All_5=Geo_Saatva.append(Geo_Saatva_Branding).append(Geo_Saatva_Competitors).append(Geo_TheSaatvaCompany).append(Geo_TheSaatvaCompanyBranding)\n",
    "Geo_All_5=Geo_All_5[Geo_All_5['Country/Territory']==2840] # US only\n",
    "Metro_id_list=Geo_All_5['Metro area'].unique().tolist()\n",
    "Metro_id_list.remove(\" --\")\n",
    "Metro_id_list=Metro_id_list+[int(x) for x in Metro_id_list]"
   ]
  },
  {
   "cell_type": "code",
   "execution_count": 45,
   "metadata": {},
   "outputs": [
    {
     "data": {
      "text/html": [
       "<div>\n",
       "<style>\n",
       "    .dataframe thead tr:only-child th {\n",
       "        text-align: right;\n",
       "    }\n",
       "\n",
       "    .dataframe thead th {\n",
       "        text-align: left;\n",
       "    }\n",
       "\n",
       "    .dataframe tbody tr th {\n",
       "        vertical-align: top;\n",
       "    }\n",
       "</style>\n",
       "<table border=\"1\" class=\"dataframe\">\n",
       "  <thead>\n",
       "    <tr style=\"text-align: right;\">\n",
       "      <th></th>\n",
       "      <th>DMA_id</th>\n",
       "      <th>DMA_name</th>\n",
       "      <th>DMA_type</th>\n",
       "    </tr>\n",
       "  </thead>\n",
       "  <tbody>\n",
       "    <tr>\n",
       "      <th>0</th>\n",
       "      <td>200693</td>\n",
       "      <td>Little Rock-Pine Bluff AR</td>\n",
       "      <td>DMA Region</td>\n",
       "    </tr>\n",
       "    <tr>\n",
       "      <th>1</th>\n",
       "      <td>200617</td>\n",
       "      <td>Milwaukee WI</td>\n",
       "      <td>DMA Region</td>\n",
       "    </tr>\n",
       "  </tbody>\n",
       "</table>\n",
       "</div>"
      ],
      "text/plain": [
       "   DMA_id                   DMA_name    DMA_type\n",
       "0  200693  Little Rock-Pine Bluff AR  DMA Region\n",
       "1  200617               Milwaukee WI  DMA Region"
      ]
     },
     "execution_count": 45,
     "metadata": {},
     "output_type": "execute_result"
    }
   ],
   "source": [
    "# DMA names\n",
    "\n",
    "DMA_ID_Name=pd.DataFrame()\n",
    "count_i=0\n",
    "for client_ in [client_Saatva,client_Saatva_Branding,client_Saatva_Competitors,client_TheSaatvaCompany,client_TheSaatvaCompanyBranding]:\n",
    "\n",
    "    location_criterion_service = client_.GetService('LocationCriterionService',version='v201809')\n",
    "\n",
    "    location_id_list = Metro_id_list\n",
    "\n",
    "    selector = {\n",
    "      'fields': ['Id', 'LocationName', 'DisplayType', 'CanonicalName',\n",
    "                 'ParentLocations', 'Reach', 'TargetingStatus'],\n",
    "      'predicates': [{\n",
    "          'field': 'Id',\n",
    "          'operator': 'IN',\n",
    "          'values': location_id_list\n",
    "      }]\n",
    "    }\n",
    "    response_list = location_criterion_service.get(selector)\n",
    "    for response in response_list:\n",
    "        DMA_id=response['location']['id']\n",
    "        DMA_type=response['location']['displayType']\n",
    "        DMA_name=response['location']['locationName']\n",
    "\n",
    "        df=pd.DataFrame({\"DMA_id\":DMA_id,\"DMA_type\":DMA_type,\"DMA_name\":DMA_name},index=[count_i])\n",
    "        count_i+=1\n",
    "        DMA_ID_Name=DMA_ID_Name.append(df)\n",
    "DMA_ID_Name=DMA_ID_Name.drop_duplicates()\n",
    "DMA_ID_Name['DMA_id']=DMA_ID_Name['DMA_id'].astype(str)\n",
    "DMA_ID_Name.head(2)"
   ]
  },
  {
   "cell_type": "code",
   "execution_count": null,
   "metadata": {
    "collapsed": true
   },
   "outputs": [],
   "source": []
  },
  {
   "cell_type": "code",
   "execution_count": 46,
   "metadata": {
    "collapsed": true
   },
   "outputs": [],
   "source": [
    "Geo_All_5=pd.merge(Geo_All_5,DMA_ID_Name,left_on=\"Metro area\",right_on=\"DMA_id\",how=\"left\")\n",
    "\n",
    "Geo_All_5[pd.isnull(Geo_All_5['DMA_name'])]['Metro area'].unique()\n",
    "Geo_All_5['DMA_name']=Geo_All_5['DMA_name'].fillna(\" --\")"
   ]
  },
  {
   "cell_type": "code",
   "execution_count": 47,
   "metadata": {
    "collapsed": true
   },
   "outputs": [],
   "source": [
    "Geo_All_5=pd.merge(Geo_All_5,account_campaing_name_type,on=['Account','Campaign'],how=\"left\")\n",
    "Geo_All_5=Geo_All_5.reset_index()\n",
    "del Geo_All_5['index']\n",
    "Geo_All_5=Geo_All_5.groupby(['Day','Campaign_Type','DMA_name'])['Impressions','Clicks','Cost'].apply(sum).reset_index()#.sum()#\n"
   ]
  },
  {
   "cell_type": "markdown",
   "metadata": {},
   "source": [
    "# Manage with TV logs"
   ]
  },
  {
   "cell_type": "code",
   "execution_count": 48,
   "metadata": {},
   "outputs": [
    {
     "name": "stdout",
     "output_type": "stream",
     "text": [
      "True\n"
     ]
    }
   ],
   "source": [
    "TV_Markets=President_Day_TV_logs['Market'].unique().tolist()\n",
    "\n",
    "Market_TV_to_GoogleAdwords={}\n",
    "Market_TV_to_GoogleAdwords.update({\"Charlotte\":\"Charlotte NC\"})\n",
    "Market_TV_to_GoogleAdwords.update({\"Chicago\":\"Chicago IL\"})\n",
    "Market_TV_to_GoogleAdwords.update({\"Denver\":\"Denver CO\"})\n",
    "Market_TV_to_GoogleAdwords.update({\"Minneapolis\":\"Minneapolis-St. Paul MN\"})\n",
    "Market_TV_to_GoogleAdwords.update({\"New York\":\"New York NY\"})\n",
    "Market_TV_to_GoogleAdwords.update({\"San Francisco\":\"San Francisco-Oakland-San Jose CA\"})\n",
    "Market_TV_to_GoogleAdwords.update({\"Washington DC\":\"Washington DC (Hagerstown MD)\"})\n",
    "\n",
    "Market_TV_to_GoogleAnalytics={}\n",
    "Market_TV_to_GoogleAnalytics.update({\"Charlotte\":\"Charlotte NC\"})\n",
    "Market_TV_to_GoogleAnalytics.update({\"Chicago\":\"Chicago IL\"})\n",
    "Market_TV_to_GoogleAnalytics.update({\"Denver\":\"Denver CO\"})\n",
    "Market_TV_to_GoogleAnalytics.update({\"Minneapolis\":\"Minneapolis-St. Paul MN\"})\n",
    "Market_TV_to_GoogleAnalytics.update({\"New York\":\"New York NY\"})\n",
    "Market_TV_to_GoogleAnalytics.update({\"San Francisco\":\"San Francisco-Oakland-San Jose CA\"})\n",
    "Market_TV_to_GoogleAnalytics.update({\"Washington DC\":\"Washington DC (Hagerstown MD)\"})\n",
    "\n",
    "\n",
    "\n",
    "\n",
    "df_TV_Markets=pd.DataFrame({\"TV_Market\":TV_Markets})\n",
    "df_TV_Markets['GoogleAdwords_Market']=df_TV_Markets['TV_Market'].apply(lambda x: Market_TV_to_GoogleAdwords[x])\n",
    "df_TV_Markets['GoogleAnalytics_Market']=df_TV_Markets['TV_Market'].apply(lambda x: Market_TV_to_GoogleAdwords[x])\n",
    "\n",
    "print(df_TV_Markets['GoogleAdwords_Market'].tolist()==df_TV_Markets['GoogleAnalytics_Market'].tolist())\n",
    "\n",
    "df_TV_Markets_rename=df_TV_Markets[['TV_Market',\"GoogleAdwords_Market\"]].rename(columns={\"TV_Market\":\"Market\",\"GoogleAdwords_Market\":\"GoogleMarket\"}) #GA, Ads the same name"
   ]
  },
  {
   "cell_type": "code",
   "execution_count": 49,
   "metadata": {},
   "outputs": [
    {
     "data": {
      "text/plain": [
       "(695, 5)"
      ]
     },
     "execution_count": 49,
     "metadata": {},
     "output_type": "execute_result"
    }
   ],
   "source": [
    "df_TV_Market=President_Day_TV_logs.groupby(['Date_NYT','Hour_NYT','Market'])['Post Log Time'].count().to_frame().reset_index().rename(columns={\"Post Log Time\":\"log_count\"})\n",
    "df_TV_Market=df_TV_Market.sort_values(['Date_NYT','Hour_NYT','Market'])\n",
    "df_TV_Market=df_TV_Market[df_TV_Market['Date_NYT']>=datetime.date(2019,2,11)]\n",
    "df_TV_Market=pd.merge(df_TV_Markets_rename,df_TV_Market,on=\"Market\",how=\"left\")\n",
    "\n",
    "df_TV_Market.shape"
   ]
  },
  {
   "cell_type": "code",
   "execution_count": 50,
   "metadata": {
    "collapsed": true
   },
   "outputs": [],
   "source": [
    "df_date=pd.DataFrame({\"Date_NYT\":[datetime.date(2019,2,11)+datetime.timedelta(x) for x in range(15)],'ind':1})\n",
    "df_hour=pd.DataFrame({\"Hour_NYT\":[x for x in range(24)],'ind':1})\n",
    "df_mkt=pd.DataFrame({\"Market\":[x for x in df_TV_Market['Market'].unique().tolist()],'ind':1})\n",
    "\n",
    "df_mkt_day_hour=pd.merge(df_date,df_hour,on=\"ind\",how=\"outer\")\n",
    "df_mkt_day_hour=pd.merge(df_mkt_day_hour,df_mkt,on=\"ind\",how=\"outer\")\n",
    "df_TV_Market=pd.merge(df_TV_Market,df_mkt_day_hour,on=[\"Date_NYT\",\"Hour_NYT\",\"Market\"],how=\"outer\")\n",
    "df_TV_Market.shape\n",
    "df_TV_Market['log_count']=df_TV_Market['log_count'].fillna(0).astype(float).astype(int)\n",
    "del df_TV_Market['ind']\n",
    "df_TV_Market=df_TV_Market.reset_index()\n",
    "del df_TV_Market['index']"
   ]
  },
  {
   "cell_type": "code",
   "execution_count": 51,
   "metadata": {
    "collapsed": true
   },
   "outputs": [],
   "source": [
    "session_dtype=ga_agg_session['Defined_Media'].unique().tolist()\n",
    "\n",
    "ga_agg_session['Date_NYT']=ga_agg_session['ga:dateHour'].apply(lambda x: datetime.datetime.strptime(x[:8],\"%Y%m%d\").date())\n",
    "ga_agg_session['Hour_NYT']=ga_agg_session['ga:dateHour'].apply(lambda x: int(x[8:]))\n",
    "ga_agg_session=ga_agg_session[['Date_NYT','Hour_NYT','ga:metro','Defined_Media','ga:sessions']]"
   ]
  },
  {
   "cell_type": "code",
   "execution_count": 52,
   "metadata": {
    "collapsed": true
   },
   "outputs": [],
   "source": [
    "holder_ga_date=pd.DataFrame({\"Date_NYT\":ga_agg_session['Date_NYT'].unique().tolist()})\n",
    "holder_ga_date['ind']=1\n",
    "\n",
    "holder_ga_hour=pd.DataFrame({\"Hour_NYT\":ga_agg_session['Hour_NYT'].unique().tolist()})\n",
    "holder_ga_hour['ind']=1\n",
    "\n",
    "holder_ga_DMA=pd.DataFrame({\"ga:metro\":ga_agg_session['ga:metro'].unique().tolist()})\n",
    "holder_ga_DMA['ind']=1\n",
    "\n",
    "holder_ga_Media=pd.DataFrame({\"Defined_Media\":ga_agg_session['Defined_Media'].unique().tolist()})\n",
    "holder_ga_Media['ind']=1\n",
    "\n",
    "df_ga_holder=pd.merge(holder_ga_date,holder_ga_hour,on=\"ind\",how=\"outer\")\n",
    "df_ga_holder=pd.merge(df_ga_holder,holder_ga_DMA,on=\"ind\",how=\"outer\")\n",
    "df_ga_holder=pd.merge(df_ga_holder,holder_ga_Media,on=\"ind\",how=\"outer\")\n",
    "\n",
    "ga_agg_session=pd.merge(ga_agg_session,df_ga_holder,on=['Date_NYT','Hour_NYT','ga:metro','Defined_Media'],how=\"outer\")\n",
    "del ga_agg_session['ind']\n",
    "ga_agg_session=ga_agg_session.rename(columns={\"ga:metro\":\"GoogleMarket\"})\n",
    "ga_agg_session['ga:sessions']=ga_agg_session['ga:sessions'].fillna(0).astype(int)"
   ]
  },
  {
   "cell_type": "code",
   "execution_count": 53,
   "metadata": {},
   "outputs": [
    {
     "name": "stdout",
     "output_type": "stream",
     "text": [
      "(2520, 5)\n",
      "(2520, 3)\n"
     ]
    }
   ],
   "source": [
    "ga_agg_session_all_channels=ga_agg_session.groupby(['Date_NYT','Hour_NYT','GoogleMarket'])['ga:sessions'].sum().to_frame().reset_index()\n",
    "\n",
    "df_TV_Market=df_TV_Market.sort_values([\"Market\",\"Date_NYT\",\"Hour_NYT\"])\n",
    "df_TV_Market['GoogleMarket']=df_TV_Market['Market'].apply(lambda x: Market_TV_to_GoogleAdwords[x])\n",
    "\n",
    "print(df_TV_Market.shape)\n",
    "print(df_TV_Market[['GoogleMarket','Date_NYT','Hour_NYT']].drop_duplicates().shape)\n"
   ]
  },
  {
   "cell_type": "code",
   "execution_count": 54,
   "metadata": {
    "collapsed": true
   },
   "outputs": [],
   "source": [
    "# All sessions accross channels by market\n",
    "output_df_list_all_channels=[]\n",
    "writer_DMA_all_channels=pd.ExcelWriter('/home/jian/Projects/Saatva/Analysis/President_Day_2019/output/Saatva_TV_sessions_DMA_all_channels_JL_'+str(datetime.datetime.now().date())+\".xlsx\",engine=\"xlsxwriter\")\n",
    "output_7_mkts_agg_all_channels=pd.DataFrame()\n",
    "\n",
    "GoogleMkt_list=df_TV_Market['GoogleMarket'].unique().tolist()\n",
    "for mkt,group in df_TV_Market.groupby('Market'):\n",
    "    df=pd.merge(group,ga_agg_session_all_channels,on=['Date_NYT',\"Hour_NYT\",\"GoogleMarket\"],how=\"left\")\n",
    "    df=df.sort_values(['Date_NYT','Hour_NYT']).reset_index()\n",
    "    del df['index']\n",
    "    df['sessions_T_0_1']=df['ga:sessions'].tolist()\n",
    "    df['sessions_T_1_2']=df['ga:sessions'].tolist()[1:]+[0]*1\n",
    "    df['sessions_T_2_3']=df['ga:sessions'].tolist()[2:]+[0]*2\n",
    "    df['sessions_T_3_4']=df['ga:sessions'].tolist()[3:]+[0]*3\n",
    "    df['sessions_T_4_5']=df['ga:sessions'].tolist()[4:]+[0]*4\n",
    "    df['sessions_T_5_6']=df['ga:sessions'].tolist()[5:]+[0]*5\n",
    "    \n",
    "    df['sessions_Cum_1_H']=df['sessions_T_0_1']\n",
    "    df['sessions_Cum_2_H']=df['sessions_T_0_1']+df['sessions_T_1_2']\n",
    "    df['sessions_Cum_3_H']=df['sessions_T_0_1']+df['sessions_T_1_2']+df['sessions_T_2_3']\n",
    "    df['sessions_Cum_4_H']=df['sessions_T_0_1']+df['sessions_T_1_2']+df['sessions_T_2_3']+df['sessions_T_3_4']\n",
    "    df['sessions_Cum_5_H']=df['sessions_T_0_1']+df['sessions_T_1_2']+df['sessions_T_2_3']+df['sessions_T_3_4']+df['sessions_T_4_5']\n",
    "    df['sessions_Cum_6_H']=df['sessions_T_0_1']+df['sessions_T_1_2']+df['sessions_T_2_3']+df['sessions_T_3_4']+df['sessions_T_4_5']+df['sessions_T_5_6']\n",
    "    \n",
    "    df['Date_NYT']=df['Date_NYT'].astype(str)\n",
    "    df['Hour_NYT']=df['Hour_NYT'].astype(str)\n",
    "    df['Hour_NYT']=df['Hour_NYT'].apply(lambda x: x.zfill(2))\n",
    "    \n",
    "    df['local_datetime']=df['Date_NYT']+\" \"+df['Hour_NYT']\n",
    "    df['local_datetime']=df['local_datetime'].apply(lambda x: datetime.datetime.strptime(x,\"%Y-%m-%d %H\"))\n",
    "    df['local_datetime']=df['local_datetime'].apply(lambda x: x-datetime.timedelta(hours=dict_mkt_time_adj[mkt]))\n",
    "    df=df[df['local_datetime']>=datetime.date(2019,2,11)]\n",
    "    df=df[df['local_datetime']<datetime.date(2019,2,25)]\n",
    "    \n",
    "    df=df[['Market','GoogleMarket','local_datetime','Date_NYT','Hour_NYT','log_count','ga:sessions','sessions_Cum_1_H','sessions_Cum_2_H','sessions_Cum_3_H','sessions_Cum_4_H','sessions_Cum_5_H','sessions_Cum_6_H']]\n",
    "    \n",
    "    globals()['output_all_chanels_'+str(mkt.split(\" \")[0])]=df\n",
    "    \n",
    "    output_df_list_all_channels=output_df_list_all_channels+[df]\n",
    "    df.to_excel(writer_DMA_all_channels,mkt,index=False)\n",
    "    output_7_mkts_agg_all_channels=output_7_mkts_agg_all_channels.append(df)\n",
    "\n",
    "output_7_mkts_agg_all_channels['Market']='Targeted_7_Mkts'\n",
    "output_7_mkts_agg_all_channels=output_7_mkts_agg_all_channels.groupby(['Date_NYT','Hour_NYT','Market'])['log_count','ga:sessions','sessions_Cum_1_H','sessions_Cum_2_H','sessions_Cum_3_H','sessions_Cum_4_H','sessions_Cum_5_H','sessions_Cum_6_H'].sum().reset_index()\n",
    "output_7_mkts_agg_all_channels['GoogleMarket']='Targeted_7_Mkts'\n",
    "output_7_mkts_agg_all_channels['local_datetime']=np.nan\n",
    "output_7_mkts_agg_all_channels=output_7_mkts_agg_all_channels[df.columns.tolist()]\n",
    "\n",
    "output_7_mkts_agg_all_channels.to_excel(writer_DMA_all_channels,\"Targeted_7_DMAs\",index=False)\n",
    "\n",
    "\n"
   ]
  },
  {
   "cell_type": "code",
   "execution_count": 55,
   "metadata": {
    "collapsed": true
   },
   "outputs": [],
   "source": [
    "output_Other_mkts_agg_all_channels=ga_agg_session_all_channels[~ga_agg_session_all_channels['GoogleMarket'].isin(GoogleMkt_list)]\n",
    "output_Other_mkts_agg_all_channels=output_Other_mkts_agg_all_channels.groupby(['Date_NYT','Hour_NYT'])['ga:sessions'].sum().to_frame().reset_index()\n",
    "output_Other_mkts_agg_all_channels['sessions_T_0_1']=output_Other_mkts_agg_all_channels['ga:sessions'].tolist()\n",
    "output_Other_mkts_agg_all_channels['sessions_T_1_2']=output_Other_mkts_agg_all_channels['ga:sessions'].tolist()[1:]+[0]*1\n",
    "output_Other_mkts_agg_all_channels['sessions_T_2_3']=output_Other_mkts_agg_all_channels['ga:sessions'].tolist()[2:]+[0]*2\n",
    "output_Other_mkts_agg_all_channels['sessions_T_3_4']=output_Other_mkts_agg_all_channels['ga:sessions'].tolist()[3:]+[0]*3\n",
    "output_Other_mkts_agg_all_channels['sessions_T_4_5']=output_Other_mkts_agg_all_channels['ga:sessions'].tolist()[4:]+[0]*4\n",
    "output_Other_mkts_agg_all_channels['sessions_T_5_6']=output_Other_mkts_agg_all_channels['ga:sessions'].tolist()[5:]+[0]*5\n",
    "\n",
    "output_Other_mkts_agg_all_channels['sessions_Cum_1_H']=output_Other_mkts_agg_all_channels['sessions_T_0_1']\n",
    "output_Other_mkts_agg_all_channels['sessions_Cum_2_H']=output_Other_mkts_agg_all_channels['sessions_T_0_1']+output_Other_mkts_agg_all_channels['sessions_T_1_2']\n",
    "output_Other_mkts_agg_all_channels['sessions_Cum_3_H']=output_Other_mkts_agg_all_channels['sessions_T_0_1']+output_Other_mkts_agg_all_channels['sessions_T_1_2']+output_Other_mkts_agg_all_channels['sessions_T_2_3']\n",
    "output_Other_mkts_agg_all_channels['sessions_Cum_4_H']=output_Other_mkts_agg_all_channels['sessions_T_0_1']+output_Other_mkts_agg_all_channels['sessions_T_1_2']+output_Other_mkts_agg_all_channels['sessions_T_2_3']+output_Other_mkts_agg_all_channels['sessions_T_3_4']\n",
    "output_Other_mkts_agg_all_channels['sessions_Cum_5_H']=output_Other_mkts_agg_all_channels['sessions_T_0_1']+output_Other_mkts_agg_all_channels['sessions_T_1_2']+output_Other_mkts_agg_all_channels['sessions_T_2_3']+output_Other_mkts_agg_all_channels['sessions_T_3_4']+output_Other_mkts_agg_all_channels['sessions_T_4_5']\n",
    "output_Other_mkts_agg_all_channels['sessions_Cum_6_H']=output_Other_mkts_agg_all_channels['sessions_T_0_1']+output_Other_mkts_agg_all_channels['sessions_T_1_2']+output_Other_mkts_agg_all_channels['sessions_T_2_3']+output_Other_mkts_agg_all_channels['sessions_T_3_4']+output_Other_mkts_agg_all_channels['sessions_T_4_5']+output_Other_mkts_agg_all_channels['sessions_T_5_6']\n",
    "\n",
    "output_Other_mkts_agg_all_channels=output_Other_mkts_agg_all_channels[output_Other_mkts_agg_all_channels['Date_NYT']>=datetime.date(2019,2,11)]\n",
    "output_Other_mkts_agg_all_channels=output_Other_mkts_agg_all_channels[output_Other_mkts_agg_all_channels['Date_NYT']<=datetime.date(2019,2,24)]\n",
    "output_Other_mkts_agg_all_channels['log_count']=0\n",
    "output_Other_mkts_agg_all_channels['Market']=\"Others\"\n",
    "\n",
    "output_Other_mkts_agg_all_channels['GoogleMarket']=\"Others\"\n",
    "output_Other_mkts_agg_all_channels['local_datetime']=np.nan\n",
    "\n",
    "output_Other_mkts_agg_all_channels=output_Other_mkts_agg_all_channels[df.columns.tolist()]\n",
    "output_Other_mkts_agg_all_channels.to_excel(writer_DMA_all_channels,\"Other_DMAs\",index=False)\n",
    "writer_DMA_all_channels.save()"
   ]
  },
  {
   "cell_type": "code",
   "execution_count": 56,
   "metadata": {
    "collapsed": true
   },
   "outputs": [],
   "source": [
    "for session_type in session_dtype:\n",
    "    # output_df_list_session_type=[] # If need, do a locals() or globals()\n",
    "    writer_DMA_session_type=pd.ExcelWriter('/home/jian/Projects/Saatva/Analysis/President_Day_2019/output/Saatva_TV_sessions_DMA_'+session_type+'_JL_'+str(datetime.datetime.now().date())+\".xlsx\",engine=\"xlsxwriter\")\n",
    "    output_7_mkts_agg_session_type=pd.DataFrame()\n",
    "    \n",
    "    ga_agg_session_session_type=ga_agg_session[ga_agg_session['Defined_Media']==session_type]\n",
    "    \n",
    "    for mkt,group in df_TV_Market.groupby('Market'):\n",
    "        df=pd.merge(group,ga_agg_session_session_type,on=['Date_NYT',\"Hour_NYT\",\"GoogleMarket\"],how=\"left\")\n",
    "        df=df.sort_values(['Date_NYT','Hour_NYT']).reset_index()\n",
    "        del df['index']\n",
    "        df['sessions_T_0_1']=df['ga:sessions'].tolist()\n",
    "        df['sessions_T_1_2']=df['ga:sessions'].tolist()[1:]+[0]*1\n",
    "        df['sessions_T_2_3']=df['ga:sessions'].tolist()[2:]+[0]*2\n",
    "        df['sessions_T_3_4']=df['ga:sessions'].tolist()[3:]+[0]*3\n",
    "        df['sessions_T_4_5']=df['ga:sessions'].tolist()[4:]+[0]*4\n",
    "        df['sessions_T_5_6']=df['ga:sessions'].tolist()[5:]+[0]*5\n",
    "\n",
    "        df['sessions_Cum_1_H']=df['sessions_T_0_1']\n",
    "        df['sessions_Cum_2_H']=df['sessions_T_0_1']+df['sessions_T_1_2']\n",
    "        df['sessions_Cum_3_H']=df['sessions_T_0_1']+df['sessions_T_1_2']+df['sessions_T_2_3']\n",
    "        df['sessions_Cum_4_H']=df['sessions_T_0_1']+df['sessions_T_1_2']+df['sessions_T_2_3']+df['sessions_T_3_4']\n",
    "        df['sessions_Cum_5_H']=df['sessions_T_0_1']+df['sessions_T_1_2']+df['sessions_T_2_3']+df['sessions_T_3_4']+df['sessions_T_4_5']\n",
    "        df['sessions_Cum_6_H']=df['sessions_T_0_1']+df['sessions_T_1_2']+df['sessions_T_2_3']+df['sessions_T_3_4']+df['sessions_T_4_5']+df['sessions_T_5_6']\n",
    "\n",
    "        df['Date_NYT']=df['Date_NYT'].astype(str)\n",
    "        df['Hour_NYT']=df['Hour_NYT'].astype(str)\n",
    "        df['Hour_NYT']=df['Hour_NYT'].apply(lambda x: x.zfill(2))\n",
    "\n",
    "        df['local_datetime']=df['Date_NYT']+\" \"+df['Hour_NYT']\n",
    "        df['local_datetime']=df['local_datetime'].apply(lambda x: datetime.datetime.strptime(x,\"%Y-%m-%d %H\"))\n",
    "        df['local_datetime']=df['local_datetime'].apply(lambda x: x-datetime.timedelta(hours=dict_mkt_time_adj[mkt]))\n",
    "        df=df[df['local_datetime']>=datetime.date(2019,2,11)]\n",
    "        df=df[df['local_datetime']<datetime.date(2019,2,25)]\n",
    "\n",
    "        df=df[['Market','GoogleMarket','local_datetime','Date_NYT','Hour_NYT','log_count','ga:sessions','sessions_Cum_1_H','sessions_Cum_2_H','sessions_Cum_3_H','sessions_Cum_4_H','sessions_Cum_5_H','sessions_Cum_6_H']]\n",
    "\n",
    "        globals()['output_all_chanels_'+str(mkt.split(\" \")[0])]=df\n",
    "\n",
    "        # output_df_list_session_type=output_df_list_session_type+[df]\n",
    "        df.to_excel(writer_DMA_session_type,mkt,index=False)\n",
    "        output_7_mkts_agg_session_type=output_7_mkts_agg_session_type.append(df)\n",
    "\n",
    "    output_7_mkts_agg_session_type['GoogleMarket']='Targeted_7_Mkts'\n",
    "    output_7_mkts_agg_session_type=output_7_mkts_agg_session_type.groupby(['Date_NYT','Hour_NYT','GoogleMarket'])['log_count','ga:sessions','sessions_Cum_1_H','sessions_Cum_2_H','sessions_Cum_3_H','sessions_Cum_4_H','sessions_Cum_5_H','sessions_Cum_6_H'].sum().reset_index()\n",
    "    output_7_mkts_agg_session_type['Market']=\"Targeted_7_Mkts\"\n",
    "    output_7_mkts_agg_session_type['local_datetime']=np.nan\n",
    "    output_7_mkts_agg_session_type=output_7_mkts_agg_session_type[df.columns.tolist()]\n",
    "    output_7_mkts_agg_session_type.to_excel(writer_DMA_session_type,\"Targeted_7_DMAs\",index=False)\n",
    "    \n",
    "    \n",
    "    output_Other_mkts_agg_session_type=ga_agg_session_session_type[~ga_agg_session_session_type['GoogleMarket'].isin(GoogleMkt_list)]\n",
    "    output_Other_mkts_agg_session_type=output_Other_mkts_agg_session_type.groupby(['Date_NYT','Hour_NYT'])['ga:sessions'].sum().to_frame().reset_index()\n",
    "    output_Other_mkts_agg_session_type['sessions_T_0_1']=output_Other_mkts_agg_session_type['ga:sessions'].tolist()\n",
    "    output_Other_mkts_agg_session_type['sessions_T_1_2']=output_Other_mkts_agg_session_type['ga:sessions'].tolist()[1:]+[0]*1\n",
    "    output_Other_mkts_agg_session_type['sessions_T_2_3']=output_Other_mkts_agg_session_type['ga:sessions'].tolist()[2:]+[0]*2\n",
    "    output_Other_mkts_agg_session_type['sessions_T_3_4']=output_Other_mkts_agg_session_type['ga:sessions'].tolist()[3:]+[0]*3\n",
    "    output_Other_mkts_agg_session_type['sessions_T_4_5']=output_Other_mkts_agg_session_type['ga:sessions'].tolist()[4:]+[0]*4\n",
    "    output_Other_mkts_agg_session_type['sessions_T_5_6']=output_Other_mkts_agg_session_type['ga:sessions'].tolist()[5:]+[0]*5\n",
    "\n",
    "    output_Other_mkts_agg_session_type['sessions_Cum_1_H']=output_Other_mkts_agg_session_type['sessions_T_0_1']\n",
    "    output_Other_mkts_agg_session_type['sessions_Cum_2_H']=output_Other_mkts_agg_session_type['sessions_T_0_1']+output_Other_mkts_agg_session_type['sessions_T_1_2']\n",
    "    output_Other_mkts_agg_session_type['sessions_Cum_3_H']=output_Other_mkts_agg_session_type['sessions_T_0_1']+output_Other_mkts_agg_session_type['sessions_T_1_2']+output_Other_mkts_agg_session_type['sessions_T_2_3']\n",
    "    output_Other_mkts_agg_session_type['sessions_Cum_4_H']=output_Other_mkts_agg_session_type['sessions_T_0_1']+output_Other_mkts_agg_session_type['sessions_T_1_2']+output_Other_mkts_agg_session_type['sessions_T_2_3']+output_Other_mkts_agg_session_type['sessions_T_3_4']\n",
    "    output_Other_mkts_agg_session_type['sessions_Cum_5_H']=output_Other_mkts_agg_session_type['sessions_T_0_1']+output_Other_mkts_agg_session_type['sessions_T_1_2']+output_Other_mkts_agg_session_type['sessions_T_2_3']+output_Other_mkts_agg_session_type['sessions_T_3_4']+output_Other_mkts_agg_session_type['sessions_T_4_5']\n",
    "    output_Other_mkts_agg_session_type['sessions_Cum_6_H']=output_Other_mkts_agg_session_type['sessions_T_0_1']+output_Other_mkts_agg_session_type['sessions_T_1_2']+output_Other_mkts_agg_session_type['sessions_T_2_3']+output_Other_mkts_agg_session_type['sessions_T_3_4']+output_Other_mkts_agg_session_type['sessions_T_4_5']+output_Other_mkts_agg_session_type['sessions_T_5_6']\n",
    "\n",
    "    output_Other_mkts_agg_session_type=output_Other_mkts_agg_session_type[output_Other_mkts_agg_session_type['Date_NYT']>=datetime.date(2019,2,11)]\n",
    "    output_Other_mkts_agg_session_type=output_Other_mkts_agg_session_type[output_Other_mkts_agg_session_type['Date_NYT']<=datetime.date(2019,2,24)]\n",
    "    output_Other_mkts_agg_session_type['log_count']=0\n",
    "    output_Other_mkts_agg_session_type['Market']=\"Others\"\n",
    "    output_Other_mkts_agg_session_type['GoogleMarket']=\"Others\"\n",
    "    output_Other_mkts_agg_session_type['local_datetime']=np.nan\n",
    "    \n",
    "    output_Other_mkts_agg_session_type=output_Other_mkts_agg_session_type[output_Other_mkts_agg_session_type.columns.tolist()]\n",
    "    output_Other_mkts_agg_session_type=output_Other_mkts_agg_session_type[df.columns.tolist()]\n",
    "    output_Other_mkts_agg_session_type.to_excel(writer_DMA_session_type,\"Other_DMAs\",index=False)\n",
    "    writer_DMA_all_channels.save()\n",
    "    "
   ]
  },
  {
   "cell_type": "code",
   "execution_count": 57,
   "metadata": {},
   "outputs": [
    {
     "data": {
      "text/html": [
       "<div>\n",
       "<style>\n",
       "    .dataframe thead tr:only-child th {\n",
       "        text-align: right;\n",
       "    }\n",
       "\n",
       "    .dataframe thead th {\n",
       "        text-align: left;\n",
       "    }\n",
       "\n",
       "    .dataframe tbody tr th {\n",
       "        vertical-align: top;\n",
       "    }\n",
       "</style>\n",
       "<table border=\"1\" class=\"dataframe\">\n",
       "  <thead>\n",
       "    <tr style=\"text-align: right;\">\n",
       "      <th></th>\n",
       "      <th>Market</th>\n",
       "      <th>GoogleMarket</th>\n",
       "      <th>Date_NYT</th>\n",
       "      <th>log_count</th>\n",
       "    </tr>\n",
       "  </thead>\n",
       "  <tbody>\n",
       "    <tr>\n",
       "      <th>0</th>\n",
       "      <td>Charlotte</td>\n",
       "      <td>Charlotte NC</td>\n",
       "      <td>2019-02-11</td>\n",
       "      <td>8</td>\n",
       "    </tr>\n",
       "    <tr>\n",
       "      <th>1</th>\n",
       "      <td>Charlotte</td>\n",
       "      <td>Charlotte NC</td>\n",
       "      <td>2019-02-12</td>\n",
       "      <td>0</td>\n",
       "    </tr>\n",
       "    <tr>\n",
       "      <th>2</th>\n",
       "      <td>Charlotte</td>\n",
       "      <td>Charlotte NC</td>\n",
       "      <td>2019-02-13</td>\n",
       "      <td>0</td>\n",
       "    </tr>\n",
       "    <tr>\n",
       "      <th>...</th>\n",
       "      <td>...</td>\n",
       "      <td>...</td>\n",
       "      <td>...</td>\n",
       "      <td>...</td>\n",
       "    </tr>\n",
       "    <tr>\n",
       "      <th>102</th>\n",
       "      <td>Washington DC</td>\n",
       "      <td>Washington DC (Hagerstown MD)</td>\n",
       "      <td>2019-02-23</td>\n",
       "      <td>34</td>\n",
       "    </tr>\n",
       "    <tr>\n",
       "      <th>103</th>\n",
       "      <td>Washington DC</td>\n",
       "      <td>Washington DC (Hagerstown MD)</td>\n",
       "      <td>2019-02-24</td>\n",
       "      <td>56</td>\n",
       "    </tr>\n",
       "    <tr>\n",
       "      <th>104</th>\n",
       "      <td>Washington DC</td>\n",
       "      <td>Washington DC (Hagerstown MD)</td>\n",
       "      <td>2019-02-25</td>\n",
       "      <td>0</td>\n",
       "    </tr>\n",
       "  </tbody>\n",
       "</table>\n",
       "<p>105 rows × 4 columns</p>\n",
       "</div>"
      ],
      "text/plain": [
       "            Market                   GoogleMarket    Date_NYT  log_count\n",
       "0        Charlotte                   Charlotte NC  2019-02-11          8\n",
       "1        Charlotte                   Charlotte NC  2019-02-12          0\n",
       "2        Charlotte                   Charlotte NC  2019-02-13          0\n",
       "..             ...                            ...         ...        ...\n",
       "102  Washington DC  Washington DC (Hagerstown MD)  2019-02-23         34\n",
       "103  Washington DC  Washington DC (Hagerstown MD)  2019-02-24         56\n",
       "104  Washington DC  Washington DC (Hagerstown MD)  2019-02-25          0\n",
       "\n",
       "[105 rows x 4 columns]"
      ]
     },
     "execution_count": 57,
     "metadata": {},
     "output_type": "execute_result"
    }
   ],
   "source": [
    "# AdWords by Day\n",
    "\n",
    "\n",
    "df_TV_Market_by_Day=df_TV_Market.groupby(['Market','GoogleMarket','Date_NYT'])['log_count'].sum().to_frame().reset_index()\n",
    "df_TV_Market_by_Day\n"
   ]
  },
  {
   "cell_type": "code",
   "execution_count": 58,
   "metadata": {},
   "outputs": [
    {
     "data": {
      "text/html": [
       "<div>\n",
       "<style>\n",
       "    .dataframe thead tr:only-child th {\n",
       "        text-align: right;\n",
       "    }\n",
       "\n",
       "    .dataframe thead th {\n",
       "        text-align: left;\n",
       "    }\n",
       "\n",
       "    .dataframe tbody tr th {\n",
       "        vertical-align: top;\n",
       "    }\n",
       "</style>\n",
       "<table border=\"1\" class=\"dataframe\">\n",
       "  <thead>\n",
       "    <tr style=\"text-align: right;\">\n",
       "      <th></th>\n",
       "      <th>Day</th>\n",
       "      <th>Campaign_Type</th>\n",
       "      <th>DMA_name</th>\n",
       "      <th>Impressions</th>\n",
       "      <th>Clicks</th>\n",
       "      <th>Cost</th>\n",
       "    </tr>\n",
       "  </thead>\n",
       "  <tbody>\n",
       "    <tr>\n",
       "      <th>0</th>\n",
       "      <td>2019-02-01</td>\n",
       "      <td>Display</td>\n",
       "      <td>--</td>\n",
       "      <td>177950.0</td>\n",
       "      <td>2026.0</td>\n",
       "      <td>3171.381338</td>\n",
       "    </tr>\n",
       "    <tr>\n",
       "      <th>1</th>\n",
       "      <td>2019-02-01</td>\n",
       "      <td>Display</td>\n",
       "      <td>Abilene-Sweetwater TX</td>\n",
       "      <td>1.0</td>\n",
       "      <td>0.0</td>\n",
       "      <td>0.000000</td>\n",
       "    </tr>\n",
       "  </tbody>\n",
       "</table>\n",
       "</div>"
      ],
      "text/plain": [
       "          Day Campaign_Type               DMA_name  Impressions  Clicks  \\\n",
       "0  2019-02-01       Display                     --     177950.0  2026.0   \n",
       "1  2019-02-01       Display  Abilene-Sweetwater TX          1.0     0.0   \n",
       "\n",
       "          Cost  \n",
       "0  3171.381338  \n",
       "1     0.000000  "
      ]
     },
     "execution_count": 58,
     "metadata": {},
     "output_type": "execute_result"
    }
   ],
   "source": [
    "Geo_All_5.head(2)"
   ]
  },
  {
   "cell_type": "code",
   "execution_count": 95,
   "metadata": {
    "collapsed": true
   },
   "outputs": [],
   "source": [
    "for campaign_type in Geo_All_5['Campaign_Type'].unique().tolist():\n",
    "    df_adwords=Geo_All_5[Geo_All_5['Campaign_Type']==campaign_type]\n",
    "    df_adwords=df_adwords.rename(columns={\"DMA_name\":\"GoogleMarket\",\"Day\":\"Date_NYT\"})\n",
    "    df_adwords['Date_NYT']=df_adwords['Date_NYT'].apply(lambda x: datetime.datetime.strptime(x,\"%Y-%m-%d\").date())\n",
    "    writer_DMA_AdWords=pd.ExcelWriter('/home/jian/Projects/Saatva/Analysis/President_Day_2019/output/Saatva_TV_AdWords_DMA_'+campaign_type+'_JL_'+str(datetime.datetime.now().date())+\".xlsx\",engine=\"xlsxwriter\")\n",
    "    output_7_mkts_agg_ads_type=pd.DataFrame()\n",
    "    \n",
    "    \n",
    "    for mkt,group in df_TV_Market_by_Day.groupby('Market'):\n",
    "        df=group[['GoogleMarket','Date_NYT','log_count']]\n",
    "        df=pd.merge(df,df_adwords,on=['Date_NYT',\"GoogleMarket\"],how=\"left\")\n",
    "        df=df.sort_values(['Date_NYT']).reset_index()\n",
    "        del df['index']\n",
    "        \n",
    "        df['CTR']=df['Clicks']/df['Impressions']\n",
    "        df.to_excel(writer_DMA_AdWords,mkt,index=False)\n",
    "        df=df[df['Date_NYT']<=datetime.date(2019,2,24)]\n",
    "        output_7_mkts_agg_ads_type=output_7_mkts_agg_ads_type.append(df)\n",
    "        \n",
    "    \n",
    "    output_Other_mkts_agg_ads_type=df_adwords[~df_adwords['GoogleMarket'].isin(output_7_mkts_agg_ads_type['GoogleMarket'].unique().tolist())]\n",
    "    \n",
    "    \n",
    "    output_7_mkts_agg_ads_type=output_7_mkts_agg_ads_type.groupby(['Date_NYT','Campaign_Type'])['log_count','Impressions',\"Clicks\",\"Cost\"].sum().reset_index()\n",
    "    output_7_mkts_agg_ads_type['GoogleMarket']=\"Targeted_7_Mkts\"\n",
    "    output_7_mkts_agg_ads_type['CTR']=output_7_mkts_agg_ads_type['Clicks']/output_7_mkts_agg_ads_type['Impressions']\n",
    "    \n",
    "    output_Other_mkts_agg_ads_type=output_Other_mkts_agg_ads_type.rename(columns={\"DMA_name\":\"GoogleMarket\",\"Day\":\"Date_NYT\"})\n",
    "    output_Other_mkts_agg_ads_type=output_Other_mkts_agg_ads_type.groupby([\"Date_NYT\",\"Campaign_Type\"])['Impressions',\"Clicks\",\"Cost\"].sum().reset_index()\n",
    "    output_Other_mkts_agg_ads_type['CTR']=output_Other_mkts_agg_ads_type['Clicks']/output_Other_mkts_agg_ads_type['Impressions']\n",
    "    output_Other_mkts_agg_ads_type['GoogleMarket']=\"Others\"\n",
    "    output_Other_mkts_agg_ads_type['log_count']=0\n",
    "    output_Other_mkts_agg_ads_type=output_Other_mkts_agg_ads_type[output_7_mkts_agg_ads_type.columns.tolist()]\n",
    "    \n",
    "    output_7_mkts_agg_ads_type=output_7_mkts_agg_ads_type[df.columns.tolist()]\n",
    "    output_Other_mkts_agg_ads_type=output_Other_mkts_agg_ads_type[df.columns.tolist()]\n",
    "    \n",
    "    output_7_mkts_agg_ads_type=output_7_mkts_agg_ads_type[output_7_mkts_agg_ads_type['Date_NYT']<=datetime.date(2019,2,24)]\n",
    "    output_Other_mkts_agg_ads_type=output_Other_mkts_agg_ads_type[output_Other_mkts_agg_ads_type['Date_NYT']<=datetime.date(2019,2,24)]\n",
    "    \n",
    "    \n",
    "    output_7_mkts_agg_ads_type.to_excel(writer_DMA_AdWords,\"Targeted_7_DMAs\",index=False)\n",
    "    output_Other_mkts_agg_ads_type.to_excel(writer_DMA_AdWords,\"Other_DMAs\",index=False)\n",
    "    \n",
    "    \n",
    "    writer_DMA_AdWords.save()"
   ]
  },
  {
   "cell_type": "code",
   "execution_count": null,
   "metadata": {
    "collapsed": true
   },
   "outputs": [],
   "source": []
  },
  {
   "cell_type": "code",
   "execution_count": null,
   "metadata": {
    "collapsed": true
   },
   "outputs": [],
   "source": []
  },
  {
   "cell_type": "code",
   "execution_count": null,
   "metadata": {
    "collapsed": true
   },
   "outputs": [],
   "source": []
  }
 ],
 "metadata": {
  "kernelspec": {
   "display_name": "Python 3",
   "language": "python",
   "name": "python3"
  },
  "language_info": {
   "codemirror_mode": {
    "name": "ipython",
    "version": 3
   },
   "file_extension": ".py",
   "mimetype": "text/x-python",
   "name": "python",
   "nbconvert_exporter": "python",
   "pygments_lexer": "ipython3",
   "version": "3.6.1"
  }
 },
 "nbformat": 4,
 "nbformat_minor": 2
}
