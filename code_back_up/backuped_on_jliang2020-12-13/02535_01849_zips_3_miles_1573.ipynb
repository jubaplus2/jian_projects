{
 "cells": [
  {
   "cell_type": "code",
   "execution_count": 7,
   "metadata": {
    "collapsed": true
   },
   "outputs": [],
   "source": [
    "import pandas as pd\n",
    "from haversine import haversine\n",
    "import datetime\n",
    "import json\n",
    "\n",
    "zip_centers=json.load(open(\"/home/jian/Docs/Geo_mapping/center_of_rentrak_zip.json\",\"r\"))"
   ]
  },
  {
   "cell_type": "code",
   "execution_count": 8,
   "metadata": {
    "collapsed": true
   },
   "outputs": [],
   "source": [
    "'''\n",
    "In the email from Kelly Apr 18 5:59 pm\n",
    "\n",
    "Store #1537\n",
    "Address: 6501 HILLCREST AVE. SUITE 140, University Park, TX 75205\n",
    "\n",
    "'''\n",
    "\n",
    "Google_Lat=32.8457409\n",
    "Google_Lng=-96.7876139"
   ]
  },
  {
   "cell_type": "code",
   "execution_count": 9,
   "metadata": {
    "collapsed": true
   },
   "outputs": [],
   "source": [
    "zips_for_1537=['75205']\n",
    "\n",
    "df_zips_1537=pd.DataFrame({\"zip_cd\":zips_for_1537,\"dist_miles\":\"store_zip\"},index=[0])\n",
    "\n",
    "i_counter=1\n",
    "for zip_cd in zip_centers.keys():\n",
    "    dist=haversine(zip_centers[zip_cd],[32.8457409,-96.7876139],miles=True)\n",
    "    if dist<=3:\n",
    "        df=pd.DataFrame({\"zip_cd\":[zip_cd],\"dist_miles\":dist},index=[i_counter])\n",
    "        i_counter+=1\n",
    "        df_zips_1537=df_zips_1537.append(df)\n",
    "        \n",
    "    "
   ]
  },
  {
   "cell_type": "code",
   "execution_count": 10,
   "metadata": {
    "collapsed": true
   },
   "outputs": [],
   "source": [
    "df_zips_1537['storenumber']=\"1537\"\n",
    "df_zips_1537['store_lat_google']=Google_Lat\n",
    "df_zips_1537['store_lng_google']=Google_Lng\n",
    "df_zips_1537['store_address_google']=\"6501 Hillcrest Ave #140, Dallas, TX 75205\"\n",
    "df_zips_1537=df_zips_1537[['storenumber','store_address_google','store_lat_google','store_lng_google','zip_cd','dist_miles']]"
   ]
  },
  {
   "cell_type": "code",
   "execution_count": 11,
   "metadata": {},
   "outputs": [
    {
     "data": {
      "text/plain": [
       "'/home/jian/Projects/Smoothie_King/Planner_request/zips_for_1537'"
      ]
     },
     "execution_count": 11,
     "metadata": {},
     "output_type": "execute_result"
    }
   ],
   "source": [
    "import os\n",
    "os.getcwd()"
   ]
  },
  {
   "cell_type": "code",
   "execution_count": 12,
   "metadata": {
    "collapsed": true
   },
   "outputs": [],
   "source": [
    "df_zips_1537.to_csv(\"/home/jian/Projects/Smoothie_King/Planner_request/zips_for_1537/zips_for_1537.csv\",index=False)"
   ]
  },
  {
   "cell_type": "code",
   "execution_count": null,
   "metadata": {
    "collapsed": true
   },
   "outputs": [],
   "source": []
  }
 ],
 "metadata": {
  "kernelspec": {
   "display_name": "Python 3",
   "language": "python",
   "name": "python3"
  },
  "language_info": {
   "codemirror_mode": {
    "name": "ipython",
    "version": 3
   },
   "file_extension": ".py",
   "mimetype": "text/x-python",
   "name": "python",
   "nbconvert_exporter": "python",
   "pygments_lexer": "ipython3",
   "version": "3.6.1"
  }
 },
 "nbformat": 4,
 "nbformat_minor": 2
}
