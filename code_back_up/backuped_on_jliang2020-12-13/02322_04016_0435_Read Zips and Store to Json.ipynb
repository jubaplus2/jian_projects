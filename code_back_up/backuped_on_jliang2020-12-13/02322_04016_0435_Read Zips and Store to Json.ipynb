{
 "cells": [
  {
   "cell_type": "code",
   "execution_count": 1,
   "metadata": {
    "collapsed": true
   },
   "outputs": [],
   "source": [
    "import json\n",
    "from haversine import haversine\n",
    "import datetime"
   ]
  },
  {
   "cell_type": "code",
   "execution_count": 2,
   "metadata": {
    "collapsed": true
   },
   "outputs": [],
   "source": [
    "all_national_zips=json.load(open(\"/home/jian/Projects/Big_Lots/National_zips_to_closest_store/zip_center_JL_0510.json\",\"r\"))\n",
    "all_stores=json.load(open(\"/home/jian/Projects/Big_Lots/National_zips_to_closest_store/store_center_JL_0510.json\",\"r\"))"
   ]
  },
  {
   "cell_type": "code",
   "execution_count": 3,
   "metadata": {
    "collapsed": true
   },
   "outputs": [],
   "source": [
    "zip_list=list(all_national_zips.keys())\n",
    "store_list=list(all_stores.keys())"
   ]
  },
  {
   "cell_type": "code",
   "execution_count": 7,
   "metadata": {},
   "outputs": [
    {
     "name": "stdout",
     "output_type": "stream",
     "text": [
      "1\n",
      "2018-05-11 10:49:28.927027\n",
      "10000001\n",
      "2018-05-11 10:49:49.369023\n",
      "20000001\n",
      "2018-05-11 10:50:09.475434\n",
      "30000001\n",
      "2018-05-11 10:50:29.952540\n",
      "40000001\n",
      "2018-05-11 10:50:50.348194\n",
      "50000001\n",
      "2018-05-11 10:51:10.772327\n"
     ]
    }
   ],
   "source": [
    "# Avoid pandas\n",
    "json_result={}\n",
    "i=0\n",
    "zip_index=0\n",
    "for zip_cd in zip_list:\n",
    "    result_to_app={}\n",
    "    dist_0=3000\n",
    "    store_0=0\n",
    "    for store in store_list:\n",
    "\n",
    "        dist=haversine(all_national_zips[zip_cd],all_stores[store],miles=True)\n",
    "        i=i+1\n",
    "        if dist<dist_0:\n",
    "            dist_0=dist\n",
    "            store_0=store\n",
    "        if i%10000000==1:\n",
    "            print(i)\n",
    "            print(datetime.datetime.now())\n",
    "    result_to_app={str(zip_index):{\"zip_cd\":zip_cd,\"closest_store\":store_0,\"distance\":dist_0}}\n",
    "    json_result.update(result_to_app)\n",
    "    zip_index=zip_index+1\n",
    "    "
   ]
  },
  {
   "cell_type": "code",
   "execution_count": 8,
   "metadata": {
    "collapsed": true
   },
   "outputs": [],
   "source": [
    "with open('/home/jian/Projects/Big_Lots/National_zips_to_closest_store/closest_result.json', 'w') as outfile:\n",
    "    json.dump(json_result, outfile)"
   ]
  },
  {
   "cell_type": "code",
   "execution_count": 9,
   "metadata": {
    "collapsed": true
   },
   "outputs": [],
   "source": [
    "import pandas as pd"
   ]
  },
  {
   "cell_type": "code",
   "execution_count": 10,
   "metadata": {
    "collapsed": true
   },
   "outputs": [],
   "source": [
    "df=pd.DataFrame(json_result).T"
   ]
  },
  {
   "cell_type": "code",
   "execution_count": 19,
   "metadata": {
    "collapsed": true
   },
   "outputs": [],
   "source": [
    "df=df.sort_values(\"zip_cd\")\n",
    "df=df[['zip_cd','closest_store','distance']]"
   ]
  },
  {
   "cell_type": "code",
   "execution_count": 20,
   "metadata": {
    "collapsed": true
   },
   "outputs": [],
   "source": [
    "df.to_csv(\"/home/jian/Projects/Big_Lots/National_zips_to_closest_store/closest_result.csv\")"
   ]
  },
  {
   "cell_type": "code",
   "execution_count": null,
   "metadata": {
    "collapsed": true
   },
   "outputs": [],
   "source": []
  },
  {
   "cell_type": "code",
   "execution_count": null,
   "metadata": {
    "collapsed": true
   },
   "outputs": [],
   "source": []
  },
  {
   "cell_type": "code",
   "execution_count": 29,
   "metadata": {
    "collapsed": true
   },
   "outputs": [],
   "source": [
    "all_dist_df_check_result=pd.DataFrame()\n",
    "i=0\n",
    "for zip_cd in zip_list[10:20]:\n",
    "    result_check=pd.DataFrame()\n",
    "    for store in store_list:\n",
    "        dist=haversine(all_national_zips[zip_cd],all_stores[store],miles=True)\n",
    "        result_check=result_check.append(pd.DataFrame({\"Store\":store,\"Zip\":zip_cd,\"Distance\":dist},index=[i]))\n",
    "\n",
    "\n",
    "        i=i+1\n",
    "        if i%1429==1:\n",
    "            print(i)\n",
    "            print(datetime.datetime.now())\n",
    "    all_dist_df_check_result=all_dist_df_check_result.append(result_check)\n",
    "all_dist_df_check_result.to_csv(\"/home/jian/Projects/Big_Lots/National_zips_to_closest_store/check.csv\")"
   ]
  },
  {
   "cell_type": "code",
   "execution_count": null,
   "metadata": {
    "collapsed": true
   },
   "outputs": [],
   "source": []
  }
 ],
 "metadata": {
  "kernelspec": {
   "display_name": "Python 3",
   "language": "python",
   "name": "python3"
  },
  "language_info": {
   "codemirror_mode": {
    "name": "ipython",
    "version": 3
   },
   "file_extension": ".py",
   "mimetype": "text/x-python",
   "name": "python",
   "nbconvert_exporter": "python",
   "pygments_lexer": "ipython3",
   "version": "3.6.1"
  }
 },
 "nbformat": 4,
 "nbformat_minor": 2
}
