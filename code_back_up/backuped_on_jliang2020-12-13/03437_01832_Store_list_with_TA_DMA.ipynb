{
 "cells": [
  {
   "cell_type": "code",
   "execution_count": 41,
   "metadata": {},
   "outputs": [
    {
     "data": {
      "text/plain": [
       "'/home/jian/Projects/Smoothie_King/weekly_TA_updates/output_20190325'"
      ]
     },
     "execution_count": 41,
     "metadata": {},
     "output_type": "execute_result"
    }
   ],
   "source": [
    "import pandas as pd\n",
    "import os\n",
    "import datetime\n",
    "\n",
    "os.getcwd()\n"
   ]
  },
  {
   "cell_type": "code",
   "execution_count": 42,
   "metadata": {},
   "outputs": [
    {
     "data": {
      "text/html": [
       "<div>\n",
       "<style>\n",
       "    .dataframe thead tr:only-child th {\n",
       "        text-align: right;\n",
       "    }\n",
       "\n",
       "    .dataframe thead th {\n",
       "        text-align: left;\n",
       "    }\n",
       "\n",
       "    .dataframe tbody tr th {\n",
       "        vertical-align: top;\n",
       "    }\n",
       "</style>\n",
       "<table border=\"1\" class=\"dataframe\">\n",
       "  <thead>\n",
       "    <tr style=\"text-align: right;\">\n",
       "      <th></th>\n",
       "      <th>zip</th>\n",
       "      <th>DMA</th>\n",
       "    </tr>\n",
       "  </thead>\n",
       "  <tbody>\n",
       "    <tr>\n",
       "      <th>0</th>\n",
       "      <td>00501</td>\n",
       "      <td>{NEW YORK}</td>\n",
       "    </tr>\n",
       "    <tr>\n",
       "      <th>1</th>\n",
       "      <td>00544</td>\n",
       "      <td>{NEW YORK}</td>\n",
       "    </tr>\n",
       "  </tbody>\n",
       "</table>\n",
       "</div>"
      ],
      "text/plain": [
       "     zip         DMA\n",
       "0  00501  {NEW YORK}\n",
       "1  00544  {NEW YORK}"
      ]
     },
     "execution_count": 42,
     "metadata": {},
     "output_type": "execute_result"
    }
   ],
   "source": [
    "DMA_zip=pd.read_excel(\"/home/jian/Docs/Geo_mapping/Zips by DMA by County16-17 nielsen.xlsx\",skiprows=1,dtype=str,usecols=[0,2])\n",
    "DMA_zip=DMA_zip.drop_duplicates()\n",
    "DMA_zip=DMA_zip.rename(columns={\"CODE\":\"zip\",\"NAME\":\"DMA\"})\n",
    "DMA_zip=DMA_zip.groupby(['zip'])['DMA'].apply(set).to_frame().reset_index()\n",
    "DMA_zip.head(2)"
   ]
  },
  {
   "cell_type": "code",
   "execution_count": 43,
   "metadata": {},
   "outputs": [
    {
     "data": {
      "text/plain": [
       "['summary_by_TA', 'output_TA_by_store', 'zip_TA', 'summary_by_store_count']"
      ]
     },
     "execution_count": 43,
     "metadata": {},
     "output_type": "execute_result"
    }
   ],
   "source": [
    "df_TA_data_by_store=pd.ExcelFile(\"/home/jian/Projects/Smoothie_King/weekly_TA_updates/output_20190325/SmoothieKing_TA_of_3_miles_zips_JL_2019-03-26.xlsx\")\n",
    "df_TA_data_by_store.sheet_names\n"
   ]
  },
  {
   "cell_type": "code",
   "execution_count": 44,
   "metadata": {},
   "outputs": [
    {
     "data": {
      "text/plain": [
       "array([5, 8])"
      ]
     },
     "execution_count": 44,
     "metadata": {},
     "output_type": "execute_result"
    }
   ],
   "source": [
    "df_TA_data_by_store=df_TA_data_by_store.parse(\"output_TA_by_store\",dtype=str)\n",
    "del df_TA_data_by_store['used_lat']\n",
    "del df_TA_data_by_store['used_long']\n",
    "df_TA_data_by_store['zip'].apply(lambda x: len(x)).unique()"
   ]
  },
  {
   "cell_type": "code",
   "execution_count": 45,
   "metadata": {},
   "outputs": [
    {
     "data": {
      "text/html": [
       "<div>\n",
       "<style>\n",
       "    .dataframe thead tr:only-child th {\n",
       "        text-align: right;\n",
       "    }\n",
       "\n",
       "    .dataframe thead th {\n",
       "        text-align: left;\n",
       "    }\n",
       "\n",
       "    .dataframe tbody tr th {\n",
       "        vertical-align: top;\n",
       "    }\n",
       "</style>\n",
       "<table border=\"1\" class=\"dataframe\">\n",
       "  <thead>\n",
       "    <tr style=\"text-align: right;\">\n",
       "      <th></th>\n",
       "      <th>storenumber</th>\n",
       "      <th>Address</th>\n",
       "      <th>city</th>\n",
       "      <th>state</th>\n",
       "      <th>zip</th>\n",
       "      <th>StoreOpenDate</th>\n",
       "      <th>Latitude</th>\n",
       "      <th>Longitude</th>\n",
       "      <th>Ownership</th>\n",
       "      <th>Franchisee_Name</th>\n",
       "      <th>IPAddress</th>\n",
       "      <th>DriveThru</th>\n",
       "      <th>status</th>\n",
       "      <th>StoreCloseDate</th>\n",
       "      <th>zips_3_miles</th>\n",
       "      <th>TA</th>\n",
       "    </tr>\n",
       "  </thead>\n",
       "  <tbody>\n",
       "    <tr>\n",
       "      <th>899</th>\n",
       "      <td>1719</td>\n",
       "      <td>3251 VANDERCAR WAY</td>\n",
       "      <td>CINCINNATI</td>\n",
       "      <td>OH</td>\n",
       "      <td>45209DMA</td>\n",
       "      <td>2019-03-11 00:00:00</td>\n",
       "      <td>39.1582807</td>\n",
       "      <td>-84.4271971</td>\n",
       "      <td>Franchised</td>\n",
       "      <td>John Clancy &amp; Bob Hamilton</td>\n",
       "      <td>nan</td>\n",
       "      <td>Y</td>\n",
       "      <td>New</td>\n",
       "      <td>nan</td>\n",
       "      <td>['45213', '45212', '45226', '45209DMA', '45207...</td>\n",
       "      <td>2_['0522', '1719']</td>\n",
       "    </tr>\n",
       "  </tbody>\n",
       "</table>\n",
       "</div>"
      ],
      "text/plain": [
       "    storenumber             Address        city state       zip  \\\n",
       "899        1719  3251 VANDERCAR WAY  CINCINNATI    OH  45209DMA   \n",
       "\n",
       "           StoreOpenDate    Latitude    Longitude   Ownership  \\\n",
       "899  2019-03-11 00:00:00  39.1582807  -84.4271971  Franchised   \n",
       "\n",
       "                Franchisee_Name IPAddress DriveThru status StoreCloseDate  \\\n",
       "899  John Clancy & Bob Hamilton       nan         Y    New            nan   \n",
       "\n",
       "                                          zips_3_miles                  TA  \n",
       "899  ['45213', '45212', '45226', '45209DMA', '45207...  2_['0522', '1719']  "
      ]
     },
     "execution_count": 45,
     "metadata": {},
     "output_type": "execute_result"
    }
   ],
   "source": [
    "df_TA_data_by_store[df_TA_data_by_store['zip'].apply(lambda x: len(x))==8]"
   ]
  },
  {
   "cell_type": "code",
   "execution_count": 46,
   "metadata": {},
   "outputs": [
    {
     "data": {
      "text/plain": [
       "(907, 16)"
      ]
     },
     "execution_count": 46,
     "metadata": {},
     "output_type": "execute_result"
    }
   ],
   "source": [
    "df_TA_data_by_store['zip']=df_TA_data_by_store['zip'].apply(lambda x: x[:5])\n",
    "df_TA_data_by_store.shape"
   ]
  },
  {
   "cell_type": "code",
   "execution_count": 47,
   "metadata": {},
   "outputs": [
    {
     "data": {
      "text/plain": [
       "(907, 17)"
      ]
     },
     "execution_count": 47,
     "metadata": {},
     "output_type": "execute_result"
    }
   ],
   "source": [
    "df_TA_data_by_store=pd.merge(df_TA_data_by_store,DMA_zip,on=\"zip\",how=\"left\")\n",
    "df_TA_data_by_store.shape"
   ]
  },
  {
   "cell_type": "code",
   "execution_count": 48,
   "metadata": {
    "collapsed": true
   },
   "outputs": [],
   "source": [
    "writer=pd.ExcelWriter(\"/home/jian/Projects/Smoothie_King/weekly_TA_updates/output_20190325/SK_stores_in_TA_JL_\"+str(datetime.datetime.now().date())+\".xlsx\",engine=\"xlsxwriter\")\n",
    "df_TA_data_by_store.to_excel(writer,\"stores_in_TA\",index=False)\n",
    "writer.save()\n"
   ]
  },
  {
   "cell_type": "code",
   "execution_count": null,
   "metadata": {
    "collapsed": true
   },
   "outputs": [],
   "source": []
  }
 ],
 "metadata": {
  "kernelspec": {
   "display_name": "Python 3",
   "language": "python",
   "name": "python3"
  },
  "language_info": {
   "codemirror_mode": {
    "name": "ipython",
    "version": 3
   },
   "file_extension": ".py",
   "mimetype": "text/x-python",
   "name": "python",
   "nbconvert_exporter": "python",
   "pygments_lexer": "ipython3",
   "version": "3.6.1"
  }
 },
 "nbformat": 4,
 "nbformat_minor": 2
}
