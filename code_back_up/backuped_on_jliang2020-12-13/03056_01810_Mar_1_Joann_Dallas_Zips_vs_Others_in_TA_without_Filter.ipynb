{
 "cells": [
  {
   "cell_type": "code",
   "execution_count": 1,
   "metadata": {
    "collapsed": true
   },
   "outputs": [],
   "source": [
    "import datetime\n",
    "import pandas as pd\n",
    "import numpy as np\n",
    "# The TA file was done once without the sales filters"
   ]
  },
  {
   "cell_type": "code",
   "execution_count": 8,
   "metadata": {},
   "outputs": [
    {
     "data": {
      "text/plain": [
       "2333.2104235433694"
      ]
     },
     "execution_count": 8,
     "metadata": {},
     "output_type": "execute_result"
    }
   ],
   "source": [
    "from haversine import haversine\n",
    "haversine([34.0037309,-81.2094413],[33.992752,-81.231010])*1000\n"
   ]
  },
  {
   "cell_type": "code",
   "execution_count": 10,
   "metadata": {},
   "outputs": [],
   "source": [
    "latest_TA=pd.read_excel(\"/home/jian/Projects/Smoothie_King/weekly_TA_updates/output_20190225/SmoothieKing_TA_of_3_miles_zips_JL_2019-03-01.xlsx\",dtype=str,sheetname='zip_TA')\n",
    "latest_TA=latest_TA[['TA','zip']].drop_duplicates()\n"
   ]
  },
  {
   "cell_type": "code",
   "execution_count": 11,
   "metadata": {
    "collapsed": true
   },
   "outputs": [],
   "source": [
    "DMA_zip=pd.read_excel(\"/home/jian/Docs/Geo_mapping/Zips by DMA by County16-17 nielsen.xlsx\",dtype=str,skiprows=1,usecols=[0,2])\n",
    "DMA_zip.columns=['zip_cd',\"DMA\"]\n",
    "DMA_zip=DMA_zip.drop_duplicates()\n",
    "DMA_dallas_zip=DMA_zip[DMA_zip['DMA']==\"DALLAS-FT. WORTH\"]"
   ]
  },
  {
   "cell_type": "code",
   "execution_count": 12,
   "metadata": {
    "collapsed": true
   },
   "outputs": [],
   "source": [
    "latest_TA_Dallas=latest_TA[latest_TA['zip'].isin(DMA_dallas_zip['zip_cd'].unique().tolist())]\n",
    "Dallas_TAs=latest_TA_Dallas['TA'].unique().tolist()"
   ]
  },
  {
   "cell_type": "code",
   "execution_count": 13,
   "metadata": {
    "collapsed": true
   },
   "outputs": [],
   "source": [
    "Dallas_TA_whole_zips=latest_TA[latest_TA['TA'].isin(Dallas_TAs)]\n",
    "Dallas_TA_whole_zips=Dallas_TA_whole_zips.rename(columns={\"zip\":\"zip_cd\"})"
   ]
  },
  {
   "cell_type": "code",
   "execution_count": 14,
   "metadata": {
    "collapsed": true
   },
   "outputs": [],
   "source": [
    "Dallas_TA_whole_zips=pd.merge(Dallas_TA_whole_zips,DMA_dallas_zip,on=\"zip_cd\",how=\"left\")"
   ]
  },
  {
   "cell_type": "code",
   "execution_count": 15,
   "metadata": {},
   "outputs": [
    {
     "data": {
      "text/plain": [
       "array(['DALLAS-FT. WORTH'], dtype=object)"
      ]
     },
     "execution_count": 15,
     "metadata": {},
     "output_type": "execute_result"
    }
   ],
   "source": [
    "Dallas_TA_whole_zips['DMA'].unique()\n",
    "\n",
    "# All the TAs associated with Dallas, their zips are all in Dallas DMA"
   ]
  },
  {
   "cell_type": "code",
   "execution_count": 16,
   "metadata": {
    "collapsed": true
   },
   "outputs": [],
   "source": [
    "latest_TA_Zips=latest_TA[['zip']].drop_duplicates()\n",
    "\n",
    "latest_TA_Zips['in_dallas']=np.where(latest_TA_Zips['zip'].isin(Dallas_TA_whole_zips['zip_cd']),\"DALLAS-FT. WORTH\",\"Others\")"
   ]
  },
  {
   "cell_type": "code",
   "execution_count": 17,
   "metadata": {
    "collapsed": true
   },
   "outputs": [],
   "source": [
    "writer=pd.ExcelWriter(\"/home/jian/Projects/Smoothie_King/Dallas_Map/SK_TA_zips_in_Dallas_as_0225_Full_TAfile_JL_\"+str(datetime.datetime.now().date())+\".xlsx\",engine=\"xlsxwriter\")\n",
    "latest_TA_Zips=latest_TA_Zips.sort_values(['in_dallas','zip'])\n",
    "latest_TA_Zips.to_excel(writer,\"Dallas_TA_zips\",index=False)\n",
    "writer.save()"
   ]
  },
  {
   "cell_type": "code",
   "execution_count": null,
   "metadata": {
    "collapsed": true
   },
   "outputs": [],
   "source": []
  }
 ],
 "metadata": {
  "kernelspec": {
   "display_name": "Python 3",
   "language": "python",
   "name": "python3"
  },
  "language_info": {
   "codemirror_mode": {
    "name": "ipython",
    "version": 3
   },
   "file_extension": ".py",
   "mimetype": "text/x-python",
   "name": "python",
   "nbconvert_exporter": "python",
   "pygments_lexer": "ipython3",
   "version": "3.6.1"
  }
 },
 "nbformat": 4,
 "nbformat_minor": 2
}
