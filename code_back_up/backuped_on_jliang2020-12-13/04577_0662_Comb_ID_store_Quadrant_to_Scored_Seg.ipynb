{
 "cells": [
  {
   "cell_type": "code",
   "execution_count": 1,
   "metadata": {},
   "outputs": [
    {
     "data": {
      "text/plain": [
       "'/home/jian/Projects/Big_Lots/Live_Ramp/Quarterly_Update'"
      ]
     },
     "execution_count": 1,
     "metadata": {},
     "output_type": "execute_result"
    }
   ],
   "source": [
    "import pandas as pd\n",
    "import numpy as np\n",
    "import datetime\n",
    "import os\n",
    "import gc\n",
    "os.getcwd()"
   ]
  },
  {
   "cell_type": "code",
   "execution_count": 4,
   "metadata": {},
   "outputs": [
    {
     "data": {
      "text/html": [
       "<div>\n",
       "<style>\n",
       "    .dataframe thead tr:only-child th {\n",
       "        text-align: right;\n",
       "    }\n",
       "\n",
       "    .dataframe thead th {\n",
       "        text-align: left;\n",
       "    }\n",
       "\n",
       "    .dataframe tbody tr th {\n",
       "        vertical-align: top;\n",
       "    }\n",
       "</style>\n",
       "<table border=\"1\" class=\"dataframe\">\n",
       "  <thead>\n",
       "    <tr style=\"text-align: right;\">\n",
       "      <th></th>\n",
       "      <th>customer_id_hashed</th>\n",
       "      <th>frmindex</th>\n",
       "      <th>active</th>\n",
       "      <th>email_address_hash</th>\n",
       "      <th>customer_zip_code</th>\n",
       "      <th>zipcodegroup</th>\n",
       "    </tr>\n",
       "  </thead>\n",
       "  <tbody>\n",
       "    <tr>\n",
       "      <th>0</th>\n",
       "      <td>3fab5ed9c18860c28e3eff24dfc8d02f4d9f417917b9d7...</td>\n",
       "      <td>D01</td>\n",
       "      <td>active</td>\n",
       "      <td>0978fbe2d87f554b240f791b291ebac6295679706fd628...</td>\n",
       "      <td>45692</td>\n",
       "      <td>P</td>\n",
       "    </tr>\n",
       "    <tr>\n",
       "      <th>1</th>\n",
       "      <td>982e2d92ca94e2ba3cb397a49dd73909553f532dcd84bb...</td>\n",
       "      <td>D01</td>\n",
       "      <td>active</td>\n",
       "      <td>21ced089d5370d961feaa053059cfe5559ac6ebfb09694...</td>\n",
       "      <td>28607</td>\n",
       "      <td>P</td>\n",
       "    </tr>\n",
       "  </tbody>\n",
       "</table>\n",
       "</div>"
      ],
      "text/plain": [
       "                                  customer_id_hashed frmindex  active  \\\n",
       "0  3fab5ed9c18860c28e3eff24dfc8d02f4d9f417917b9d7...      D01  active   \n",
       "1  982e2d92ca94e2ba3cb397a49dd73909553f532dcd84bb...      D01  active   \n",
       "\n",
       "                                  email_address_hash customer_zip_code  \\\n",
       "0  0978fbe2d87f554b240f791b291ebac6295679706fd628...             45692   \n",
       "1  21ced089d5370d961feaa053059cfe5559ac6ebfb09694...             28607   \n",
       "\n",
       "  zipcodegroup  \n",
       "0            P  \n",
       "1            P  "
      ]
     },
     "execution_count": 4,
     "metadata": {},
     "output_type": "execute_result"
    }
   ],
   "source": [
    "detailed_scores_df=pd.read_csv(\"/home/jian/Projects/Big_Lots/Live_Ramp/Quarterly_Update/crm_newscore_20190107/\" + 'dfrfm_wemail.csv',dtype=str)\n",
    "\n",
    "detailed_scores_df['frmindex']=detailed_scores_df['frmindex'].apply(lambda x: str(int(float(x))).zfill(2))\n",
    "detailed_scores_df['customer_zip_code']=detailed_scores_df['customer_zip_code'].apply(lambda x: x.zfill(5))\n",
    "detailed_scores_df['frmindex']=detailed_scores_df['frmindex'].apply(lambda x:\"D\"+x)\n",
    "\n",
    "detailed_scores_df.head(2)"
   ]
  },
  {
   "cell_type": "code",
   "execution_count": 3,
   "metadata": {},
   "outputs": [
    {
     "data": {
      "text/plain": [
       "(25149873, 2)"
      ]
     },
     "execution_count": 3,
     "metadata": {},
     "output_type": "execute_result"
    }
   ],
   "source": [
    "id_by_store_trans=pd.read_csv(\"/home/jian/Projects/Big_Lots/Live_Ramp/Quarterly_Update/crm_newscore_20190107/id_by_store_based_on_2018_trans.csv\",dtype=str,usecols=['customer_id_hashed','location_id'])\n",
    "\n",
    "id_by_store_register=pd.read_csv(\"/home/jian/Projects/Big_Lots/Live_Ramp/Quarterly_Update/crm_newscore_20190107/BL_id_by_register_store_JL_2019-01-18.csv\",dtype=str)\n",
    "id_by_store_register=id_by_store_register[['customer_id_hashed','sign_up_location']].rename(columns={\"sign_up_location\":\"location_id\"})\n",
    "\n",
    "id_by_store=id_by_store_trans.append(id_by_store_register).drop_duplicates('customer_id_hashed')\n",
    "\n",
    "del id_by_store_trans\n",
    "del id_by_store_register\n",
    "gc.collect()\n",
    "id_by_store.shape"
   ]
  },
  {
   "cell_type": "code",
   "execution_count": 5,
   "metadata": {},
   "outputs": [
    {
     "name": "stdout",
     "output_type": "stream",
     "text": [
      "1363\n"
     ]
    },
    {
     "data": {
      "text/html": [
       "<div>\n",
       "<style>\n",
       "    .dataframe thead tr:only-child th {\n",
       "        text-align: right;\n",
       "    }\n",
       "\n",
       "    .dataframe thead th {\n",
       "        text-align: left;\n",
       "    }\n",
       "\n",
       "    .dataframe tbody tr th {\n",
       "        vertical-align: top;\n",
       "    }\n",
       "</style>\n",
       "<table border=\"1\" class=\"dataframe\">\n",
       "  <thead>\n",
       "    <tr style=\"text-align: right;\">\n",
       "      <th></th>\n",
       "      <th>location_id</th>\n",
       "      <th>Quadrant</th>\n",
       "    </tr>\n",
       "  </thead>\n",
       "  <tbody>\n",
       "    <tr>\n",
       "      <th>0</th>\n",
       "      <td>1</td>\n",
       "      <td>Quadrant IV</td>\n",
       "    </tr>\n",
       "    <tr>\n",
       "      <th>1</th>\n",
       "      <td>3</td>\n",
       "      <td>Quadrant II</td>\n",
       "    </tr>\n",
       "  </tbody>\n",
       "</table>\n",
       "</div>"
      ],
      "text/plain": [
       "  location_id     Quadrant\n",
       "0           1  Quadrant IV\n",
       "1           3  Quadrant II"
      ]
     },
     "execution_count": 5,
     "metadata": {},
     "output_type": "execute_result"
    }
   ],
   "source": [
    "Q3_Quadrant=pd.read_excel(\"/home/jian/Projects/Big_Lots/Analysis/2018_Q4/Planner_Request/zips_by_quadrant_20190111/Excel_BL_data_for_2018Q3_Quadrants_JL_2018-12-04_Q2Scale.xlsx\",dtype=str,sheetname=\"2018_Q3_Quadrants\")\n",
    "\n",
    "Q3_Quadrant=Q3_Quadrant[['location_id','Quadrant in Graph 1-2']].rename(columns={\"Quadrant in Graph 1-2\":\"Quadrant\"}).drop_duplicates()\n",
    "print(len(Q3_Quadrant['location_id'].unique()))\n",
    "Q3_Quadrant.head(2)\n",
    "\n",
    "id_by_store=pd.merge(id_by_store,Q3_Quadrant,on=\"location_id\",how=\"left\")\n",
    "id_by_store['Quadrant']=id_by_store['Quadrant'].fillna(\"Quadrant X\")\n",
    "id_by_store=id_by_store[['customer_id_hashed','Quadrant']]"
   ]
  },
  {
   "cell_type": "code",
   "execution_count": 14,
   "metadata": {},
   "outputs": [],
   "source": [
    "detailed_scores_df=pd.merge(detailed_scores_df,id_by_store,on=\"customer_id_hashed\",how=\"left\")\n",
    "detailed_scores_df['Quadrant']=detailed_scores_df['Quadrant'].fillna(\"Quadrant X\")"
   ]
  },
  {
   "cell_type": "code",
   "execution_count": 23,
   "metadata": {},
   "outputs": [],
   "source": [
    "detailed_scores_df['HML_Group']=np.where(detailed_scores_df['frmindex'].isin(['D01','D02','D03','D04']),\"H\",\n",
    "                                        np.where(detailed_scores_df['frmindex'].isin(['D05','D06','D07']),\"M\",\"L\"))"
   ]
  },
  {
   "cell_type": "code",
   "execution_count": 24,
   "metadata": {
    "collapsed": true
   },
   "outputs": [],
   "source": [
    "detailed_scores_df.to_csv(\"/home/jian/Projects/Big_Lots/Live_Ramp/Quarterly_Update/crm_newscore_20190107/seg_details_store_with_X_quadrant_JL_\"+str(datetime.datetime.now().date())+\".csv\",index=False)"
   ]
  },
  {
   "cell_type": "code",
   "execution_count": 27,
   "metadata": {},
   "outputs": [
    {
     "data": {
      "text/plain": [
       "(210, 6)"
      ]
     },
     "execution_count": 27,
     "metadata": {},
     "output_type": "execute_result"
    }
   ],
   "source": [
    "summary=detailed_scores_df.groupby(['Quadrant','frmindex','active','zipcodegroup','HML_Group'])['email_address_hash'].count().to_frame().reset_index()\n",
    "summary.shape\n"
   ]
  },
  {
   "cell_type": "code",
   "execution_count": 28,
   "metadata": {},
   "outputs": [],
   "source": [
    "summary.to_csv(\"/home/jian/Projects/Big_Lots/Live_Ramp/Quarterly_Update/crm_newscore_20190107/summary_with_X_quadrant_JL_\"+str(datetime.datetime.now().date())+\".csv\",index=False)"
   ]
  },
  {
   "cell_type": "code",
   "execution_count": 32,
   "metadata": {},
   "outputs": [
    {
     "data": {
      "text/plain": [
       "(18654857, 8)"
      ]
     },
     "execution_count": 32,
     "metadata": {},
     "output_type": "execute_result"
    }
   ],
   "source": [
    "# Others removed, only 0-18 months included, and X replaced by III\n",
    "detailed_scores_df=detailed_scores_df[detailed_scores_df['active']!=\"other\"]\n",
    "detailed_scores_df['Quadrant']=detailed_scores_df['Quadrant'].replace(\"Quadrant X\",\"Quadrant III\")\n",
    "detailed_scores_df.shape"
   ]
  },
  {
   "cell_type": "code",
   "execution_count": 35,
   "metadata": {},
   "outputs": [
    {
     "data": {
      "text/plain": [
       "36"
      ]
     },
     "execution_count": 35,
     "metadata": {},
     "output_type": "execute_result"
    }
   ],
   "source": [
    "detailed_scores_df['segment_decile']=detailed_scores_df['active']+\"_\"+detailed_scores_df['zipcodegroup']+\"_\"+detailed_scores_df['frmindex']\n",
    "\n",
    "len(detailed_scores_df['segment_decile'].unique())\n"
   ]
  },
  {
   "cell_type": "code",
   "execution_count": 36,
   "metadata": {},
   "outputs": [
    {
     "name": "stderr",
     "output_type": "stream",
     "text": [
      "/usr/local/lib/python3.6/site-packages/ipykernel_launcher.py:19: SettingWithCopyWarning: \n",
      "A value is trying to be set on a copy of a slice from a DataFrame.\n",
      "Try using .loc[row_indexer,col_indexer] = value instead\n",
      "\n",
      "See the caveats in the documentation: http://pandas.pydata.org/pandas-docs/stable/indexing.html#indexing-view-versus-copy\n",
      "/usr/local/lib/python3.6/site-packages/ipykernel_launcher.py:20: SettingWithCopyWarning: \n",
      "A value is trying to be set on a copy of a slice from a DataFrame.\n",
      "Try using .loc[row_indexer,col_indexer] = value instead\n",
      "\n",
      "See the caveats in the documentation: http://pandas.pydata.org/pandas-docs/stable/indexing.html#indexing-view-versus-copy\n"
     ]
    },
    {
     "name": "stdout",
     "output_type": "stream",
     "text": [
      "1 2019-01-18 19:30:29.376495\n",
      "2 2019-01-18 19:31:05.663022\n",
      "3 2019-01-18 19:32:50.264307\n",
      "4 2019-01-18 19:33:41.492508\n",
      "5 2019-01-18 19:34:54.697206\n",
      "6 2019-01-18 19:36:34.668640\n",
      "7 2019-01-18 19:37:40.534564\n",
      "8 2019-01-18 19:37:52.881357\n",
      "9 2019-01-18 19:38:10.920252\n",
      "10 2019-01-18 19:38:50.035193\n",
      "11 2019-01-18 19:39:47.072993\n",
      "12 2019-01-18 19:39:56.198768\n",
      "13 2019-01-18 19:40:15.795402\n",
      "14 2019-01-18 19:40:51.134995\n",
      "15 2019-01-18 19:41:15.367027\n",
      "16 2019-01-18 19:41:30.147655\n",
      "17 2019-01-18 19:41:37.147788\n",
      "18 2019-01-18 19:41:46.407548\n",
      "19 2019-01-18 19:41:57.683902\n",
      "20 2019-01-18 19:42:12.068319\n",
      "21 2019-01-18 19:42:28.644721\n",
      "22 2019-01-18 19:42:45.422409\n",
      "23 2019-01-18 19:42:56.904865\n",
      "24 2019-01-18 19:43:25.441906\n",
      "25 2019-01-18 19:44:31.308831\n",
      "26 2019-01-18 19:46:18.567905\n",
      "27 2019-01-18 19:46:22.906090\n",
      "28 2019-01-18 19:46:28.518829\n",
      "29 2019-01-18 19:46:39.855380\n",
      "30 2019-01-18 19:46:54.693931\n",
      "31 2019-01-18 19:47:05.518813\n",
      "32 2019-01-18 19:47:17.408162\n",
      "33 2019-01-18 19:47:24.768932\n",
      "34 2019-01-18 19:47:39.033442\n",
      "35 2019-01-18 19:47:46.331128\n",
      "36 2019-01-18 19:47:54.720569\n"
     ]
    }
   ],
   "source": [
    "import random\n",
    "random.seed(1)\n",
    "total_rows=len(detailed_scores_df)\n",
    "\n",
    "test_all_NoOthers_df=pd.DataFrame()\n",
    "control_all_NoOthers_df=pd.DataFrame()\n",
    "\n",
    "i_counter=0\n",
    "\n",
    "for seg,group in detailed_scores_df.groupby(['segment_decile']):\n",
    "    random_list=random.sample(range(len(group)), int(np.round(len(group)/total_rows*500000)))\n",
    "\n",
    "    group=group.reset_index()\n",
    "    del group['index']\n",
    "    group=group.reset_index()\n",
    "    df_control=group[group['index'].isin(random_list)]\n",
    "    df_test=group[~group['index'].isin(random_list)]\n",
    "    \n",
    "    df_control['segment_decile']=\"C_\"+df_control['segment_decile']\n",
    "    df_test['segment_decile']=\"T_\"+df_test['segment_decile']\n",
    "    \n",
    "    test_all_NoOthers_df=test_all_NoOthers_df.append(df_test)\n",
    "    control_all_NoOthers_df=control_all_NoOthers_df.append(df_control)\n",
    "    i_counter+=1\n",
    "    print(i_counter,datetime.datetime.now())"
   ]
  },
  {
   "cell_type": "code",
   "execution_count": 67,
   "metadata": {},
   "outputs": [],
   "source": [
    "test_all_NoOthers_df['segment_2019Q1']=\"T_\"+test_all_NoOthers_df['Quadrant']+\"_\"+test_all_NoOthers_df['zipcodegroup']+\"_\"+test_all_NoOthers_df['HML_Group']+\"_2019Q1\"\n",
    "control_all_NoOthers_df['segment_2019Q1']=\"C_\"+control_all_NoOthers_df['Quadrant']+\"_\"+control_all_NoOthers_df['zipcodegroup']+\"_\"+control_all_NoOthers_df['HML_Group']+\"_2019Q1\"\n"
   ]
  },
  {
   "cell_type": "code",
   "execution_count": 68,
   "metadata": {},
   "outputs": [
    {
     "data": {
      "text/plain": [
       "36"
      ]
     },
     "execution_count": 68,
     "metadata": {},
     "output_type": "execute_result"
    }
   ],
   "source": [
    "len(test_all_NoOthers_df['segment_2019Q1'].unique())"
   ]
  },
  {
   "cell_type": "code",
   "execution_count": 69,
   "metadata": {},
   "outputs": [
    {
     "data": {
      "text/plain": [
       "36"
      ]
     },
     "execution_count": 69,
     "metadata": {},
     "output_type": "execute_result"
    }
   ],
   "source": [
    "len(control_all_NoOthers_df['segment_2019Q1'].unique())"
   ]
  },
  {
   "cell_type": "code",
   "execution_count": 70,
   "metadata": {},
   "outputs": [
    {
     "data": {
      "text/plain": [
       "['T_Quadrant III_P_H_2019Q1',\n",
       " 'T_Quadrant I_P_H_2019Q1',\n",
       " 'T_Quadrant II_P_H_2019Q1',\n",
       " 'T_Quadrant IV_P_H_2019Q1',\n",
       " 'T_Quadrant II_P_M_2019Q1',\n",
       " 'T_Quadrant III_P_M_2019Q1',\n",
       " 'T_Quadrant I_P_M_2019Q1',\n",
       " 'T_Quadrant IV_P_M_2019Q1',\n",
       " 'T_Quadrant IV_P_L_2019Q1',\n",
       " 'T_Quadrant I_P_L_2019Q1',\n",
       " 'T_Quadrant II_P_L_2019Q1',\n",
       " 'T_Quadrant III_P_L_2019Q1',\n",
       " 'T_Quadrant I_S_H_2019Q1',\n",
       " 'T_Quadrant IV_S_H_2019Q1',\n",
       " 'T_Quadrant III_S_H_2019Q1',\n",
       " 'T_Quadrant II_S_H_2019Q1',\n",
       " 'T_Quadrant III_S_M_2019Q1',\n",
       " 'T_Quadrant IV_S_M_2019Q1',\n",
       " 'T_Quadrant I_S_M_2019Q1',\n",
       " 'T_Quadrant II_S_M_2019Q1',\n",
       " 'T_Quadrant I_S_L_2019Q1',\n",
       " 'T_Quadrant II_S_L_2019Q1',\n",
       " 'T_Quadrant IV_S_L_2019Q1',\n",
       " 'T_Quadrant III_S_L_2019Q1',\n",
       " 'T_Quadrant I_T_H_2019Q1',\n",
       " 'T_Quadrant II_T_H_2019Q1',\n",
       " 'T_Quadrant III_T_H_2019Q1',\n",
       " 'T_Quadrant IV_T_H_2019Q1',\n",
       " 'T_Quadrant IV_T_M_2019Q1',\n",
       " 'T_Quadrant I_T_M_2019Q1',\n",
       " 'T_Quadrant II_T_M_2019Q1',\n",
       " 'T_Quadrant III_T_M_2019Q1',\n",
       " 'T_Quadrant IV_T_L_2019Q1',\n",
       " 'T_Quadrant I_T_L_2019Q1',\n",
       " 'T_Quadrant II_T_L_2019Q1',\n",
       " 'T_Quadrant III_T_L_2019Q1']"
      ]
     },
     "execution_count": 70,
     "metadata": {},
     "output_type": "execute_result"
    }
   ],
   "source": [
    "test_all_NoOthers_df['segment_2019Q1'].unique().tolist()"
   ]
  },
  {
   "cell_type": "code",
   "execution_count": 71,
   "metadata": {},
   "outputs": [
    {
     "data": {
      "text/plain": [
       "['C_Quadrant IV_P_H_2019Q1',\n",
       " 'C_Quadrant I_P_H_2019Q1',\n",
       " 'C_Quadrant II_P_H_2019Q1',\n",
       " 'C_Quadrant III_P_H_2019Q1',\n",
       " 'C_Quadrant II_P_M_2019Q1',\n",
       " 'C_Quadrant IV_P_M_2019Q1',\n",
       " 'C_Quadrant III_P_M_2019Q1',\n",
       " 'C_Quadrant I_P_M_2019Q1',\n",
       " 'C_Quadrant I_P_L_2019Q1',\n",
       " 'C_Quadrant IV_P_L_2019Q1',\n",
       " 'C_Quadrant III_P_L_2019Q1',\n",
       " 'C_Quadrant II_P_L_2019Q1',\n",
       " 'C_Quadrant III_S_H_2019Q1',\n",
       " 'C_Quadrant IV_S_H_2019Q1',\n",
       " 'C_Quadrant I_S_H_2019Q1',\n",
       " 'C_Quadrant II_S_H_2019Q1',\n",
       " 'C_Quadrant IV_S_M_2019Q1',\n",
       " 'C_Quadrant I_S_M_2019Q1',\n",
       " 'C_Quadrant III_S_M_2019Q1',\n",
       " 'C_Quadrant II_S_M_2019Q1',\n",
       " 'C_Quadrant III_S_L_2019Q1',\n",
       " 'C_Quadrant I_S_L_2019Q1',\n",
       " 'C_Quadrant IV_S_L_2019Q1',\n",
       " 'C_Quadrant II_S_L_2019Q1',\n",
       " 'C_Quadrant IV_T_H_2019Q1',\n",
       " 'C_Quadrant II_T_H_2019Q1',\n",
       " 'C_Quadrant III_T_H_2019Q1',\n",
       " 'C_Quadrant I_T_H_2019Q1',\n",
       " 'C_Quadrant I_T_M_2019Q1',\n",
       " 'C_Quadrant IV_T_M_2019Q1',\n",
       " 'C_Quadrant III_T_M_2019Q1',\n",
       " 'C_Quadrant II_T_M_2019Q1',\n",
       " 'C_Quadrant I_T_L_2019Q1',\n",
       " 'C_Quadrant IV_T_L_2019Q1',\n",
       " 'C_Quadrant II_T_L_2019Q1',\n",
       " 'C_Quadrant III_T_L_2019Q1']"
      ]
     },
     "execution_count": 71,
     "metadata": {},
     "output_type": "execute_result"
    }
   ],
   "source": [
    "control_all_NoOthers_df['segment_2019Q1'].unique().tolist()"
   ]
  },
  {
   "cell_type": "code",
   "execution_count": 72,
   "metadata": {
    "collapsed": true
   },
   "outputs": [],
   "source": [
    "test_all_NoOthers_df.to_csv(\"/home/jian/Projects/Big_Lots/Live_Ramp/Quarterly_Update/crm_newscore_20190107/all_test_no_others\"+str(datetime.datetime.now())+\".csv\",index=False)\n",
    "control_all_NoOthers_df.to_csv(\"/home/jian/Projects/Big_Lots/Live_Ramp/Quarterly_Update/crm_newscore_20190107/all_control_no_others\"+str(datetime.datetime.now())+\".csv\",index=False)\n"
   ]
  },
  {
   "cell_type": "code",
   "execution_count": 73,
   "metadata": {},
   "outputs": [
    {
     "name": "stdout",
     "output_type": "stream",
     "text": [
      "1 2019-01-18 22:02:21.320227 T_Quadrant III_P_H_2019Q1 1213736\n",
      "2 2019-01-18 22:02:46.976121 T_Quadrant III_P_L_2019Q1 542350\n",
      "3 2019-01-18 22:03:33.435588 T_Quadrant III_P_M_2019Q1 1083738\n",
      "4 2019-01-18 22:03:43.615634 T_Quadrant III_S_H_2019Q1 272264\n",
      "5 2019-01-18 22:03:51.083657 T_Quadrant III_S_L_2019Q1 138387\n",
      "6 2019-01-18 22:04:02.398096 T_Quadrant III_S_M_2019Q1 255081\n",
      "7 2019-01-18 22:04:07.202981 T_Quadrant III_T_H_2019Q1 126424\n",
      "8 2019-01-18 22:04:13.748779 T_Quadrant III_T_L_2019Q1 144495\n",
      "9 2019-01-18 22:04:21.488696 T_Quadrant III_T_M_2019Q1 145909\n",
      "10 2019-01-18 22:04:57.855368 T_Quadrant II_P_H_2019Q1 994184\n",
      "11 2019-01-18 22:05:06.756308 T_Quadrant II_P_L_2019Q1 273657\n",
      "12 2019-01-18 22:05:32.694091 T_Quadrant II_P_M_2019Q1 709274\n",
      "13 2019-01-18 22:05:41.218035 T_Quadrant II_S_H_2019Q1 173513\n",
      "14 2019-01-18 22:07:15.948587 T_Quadrant II_S_L_2019Q1 59974\n",
      "15 2019-01-18 22:07:17.016481 T_Quadrant II_S_M_2019Q1 139476\n",
      "16 2019-01-18 22:07:17.580643 T_Quadrant II_T_H_2019Q1 82589\n",
      "17 2019-01-18 22:07:17.739979 T_Quadrant II_T_L_2019Q1 26420\n",
      "18 2019-01-18 22:07:18.097027 T_Quadrant II_T_M_2019Q1 63884\n",
      "19 2019-01-18 22:07:29.531545 T_Quadrant IV_P_H_2019Q1 1585550\n",
      "20 2019-01-18 22:07:32.504924 T_Quadrant IV_P_L_2019Q1 427794\n",
      "21 2019-01-18 22:07:40.367684 T_Quadrant IV_P_M_2019Q1 1137018\n",
      "22 2019-01-18 22:07:42.643725 T_Quadrant IV_S_H_2019Q1 389158\n",
      "23 2019-01-18 22:07:43.357773 T_Quadrant IV_S_L_2019Q1 128519\n",
      "24 2019-01-18 22:07:45.045999 T_Quadrant IV_S_M_2019Q1 307373\n",
      "25 2019-01-18 22:07:46.055585 T_Quadrant IV_T_H_2019Q1 170470\n",
      "26 2019-01-18 22:07:46.398054 T_Quadrant IV_T_L_2019Q1 59567\n",
      "27 2019-01-18 22:07:47.164979 T_Quadrant IV_T_M_2019Q1 138388\n",
      "28 2019-01-18 22:08:11.264822 T_Quadrant I_P_H_2019Q1 2848978\n",
      "29 2019-01-18 22:08:16.922898 T_Quadrant I_P_L_2019Q1 732503\n",
      "30 2019-01-18 22:08:29.822960 T_Quadrant I_P_M_2019Q1 1971464\n",
      "31 2019-01-18 22:08:33.076908 T_Quadrant I_S_H_2019Q1 601176\n",
      "32 2019-01-18 22:08:34.067827 T_Quadrant I_S_L_2019Q1 193547\n",
      "33 2019-01-18 22:08:36.921730 T_Quadrant I_S_M_2019Q1 466742\n",
      "34 2019-01-18 22:08:39.754163 T_Quadrant I_T_H_2019Q1 263380\n",
      "35 2019-01-18 22:08:40.210355 T_Quadrant I_T_L_2019Q1 83864\n",
      "36 2019-01-18 22:08:41.256132 T_Quadrant I_T_M_2019Q1 204013\n"
     ]
    }
   ],
   "source": [
    "folder_write_inner = '/home/jian/Projects/Big_Lots/Live_Ramp/Quarterly_Update/crm_newscore_20190107/by_group_quadrant_24/'\n",
    "\n",
    "i_counter=0\n",
    "for seg_2019Q1,group in test_all_NoOthers_df.groupby('segment_2019Q1'):\n",
    "    group=group[['customer_id_hashed','email_address_hash','segment_2019Q1']].rename(columns={\"segment_2019Q1\":\"segment\"})\n",
    "    group.to_csv(folder_write_inner+seg_2019Q1+\".csv\",index=False)\n",
    "    i_counter+=1\n",
    "    print(i_counter,datetime.datetime.now(),seg_2019Q1,len(group))"
   ]
  },
  {
   "cell_type": "code",
   "execution_count": 74,
   "metadata": {},
   "outputs": [
    {
     "name": "stdout",
     "output_type": "stream",
     "text": [
      "1 2019-01-18 22:08:41.766445 C_Quadrant III_P_H_2019Q1 33498\n",
      "2 2019-01-18 22:08:41.895213 C_Quadrant III_P_L_2019Q1 14936\n",
      "3 2019-01-18 22:08:42.071154 C_Quadrant III_P_M_2019Q1 29807\n",
      "4 2019-01-18 22:08:42.114665 C_Quadrant III_S_H_2019Q1 7591\n",
      "5 2019-01-18 22:08:42.136751 C_Quadrant III_S_L_2019Q1 3807\n",
      "6 2019-01-18 22:08:42.174068 C_Quadrant III_S_M_2019Q1 6964\n",
      "7 2019-01-18 22:08:42.194902 C_Quadrant III_T_H_2019Q1 3452\n",
      "8 2019-01-18 22:08:42.217242 C_Quadrant III_T_L_2019Q1 3937\n",
      "9 2019-01-18 22:08:42.240377 C_Quadrant III_T_M_2019Q1 4069\n",
      "10 2019-01-18 22:08:42.381352 C_Quadrant II_P_H_2019Q1 27224\n",
      "11 2019-01-18 22:08:42.422715 C_Quadrant II_P_L_2019Q1 7418\n",
      "12 2019-01-18 22:08:42.521943 C_Quadrant II_P_M_2019Q1 19665\n",
      "13 2019-01-18 22:08:42.550912 C_Quadrant II_S_H_2019Q1 4861\n",
      "14 2019-01-18 22:08:42.562164 C_Quadrant II_S_L_2019Q1 1624\n",
      "15 2019-01-18 22:08:42.584726 C_Quadrant II_S_M_2019Q1 3859\n",
      "16 2019-01-18 22:08:42.599827 C_Quadrant II_T_H_2019Q1 2333\n",
      "17 2019-01-18 22:08:42.606524 C_Quadrant II_T_L_2019Q1 755\n",
      "18 2019-01-18 22:08:42.618200 C_Quadrant II_T_M_2019Q1 1788\n",
      "19 2019-01-18 22:08:42.859826 C_Quadrant IV_P_H_2019Q1 43773\n",
      "20 2019-01-18 22:08:42.924245 C_Quadrant IV_P_L_2019Q1 11856\n",
      "21 2019-01-18 22:08:43.085009 C_Quadrant IV_P_M_2019Q1 30955\n",
      "22 2019-01-18 22:08:43.145059 C_Quadrant IV_S_H_2019Q1 10713\n",
      "23 2019-01-18 22:08:43.166576 C_Quadrant IV_S_L_2019Q1 3535\n",
      "24 2019-01-18 22:08:43.212817 C_Quadrant IV_S_M_2019Q1 8491\n",
      "25 2019-01-18 22:08:43.240101 C_Quadrant IV_T_H_2019Q1 4662\n",
      "26 2019-01-18 22:08:43.251474 C_Quadrant IV_T_L_2019Q1 1638\n",
      "27 2019-01-18 22:08:43.273371 C_Quadrant IV_T_M_2019Q1 3686\n",
      "28 2019-01-18 22:08:43.698609 C_Quadrant I_P_H_2019Q1 78443\n",
      "29 2019-01-18 22:08:43.805703 C_Quadrant I_P_L_2019Q1 20219\n",
      "30 2019-01-18 22:08:44.091901 C_Quadrant I_P_M_2019Q1 54565\n",
      "31 2019-01-18 22:08:44.201510 C_Quadrant I_S_H_2019Q1 16387\n",
      "32 2019-01-18 22:08:44.231826 C_Quadrant I_S_L_2019Q1 5366\n",
      "33 2019-01-18 22:08:44.300210 C_Quadrant I_S_M_2019Q1 12871\n",
      "34 2019-01-18 22:08:44.342010 C_Quadrant I_T_H_2019Q1 7258\n",
      "35 2019-01-18 22:08:44.357006 C_Quadrant I_T_L_2019Q1 2327\n",
      "36 2019-01-18 22:08:44.411963 C_Quadrant I_T_M_2019Q1 5665\n"
     ]
    }
   ],
   "source": [
    "i_counter=0\n",
    "for seg_2019Q1,group in control_all_NoOthers_df.groupby('segment_2019Q1'):\n",
    "    group=group[['customer_id_hashed','email_address_hash','segment_2019Q1']].rename(columns={\"segment_2019Q1\":\"segment\"})\n",
    "    group.to_csv(folder_write_inner+seg_2019Q1+\".csv\",index=False)\n",
    "    i_counter+=1\n",
    "    print(i_counter,datetime.datetime.now(),seg_2019Q1,len(group))"
   ]
  },
  {
   "cell_type": "code",
   "execution_count": 75,
   "metadata": {},
   "outputs": [],
   "source": [
    "summary_test_Q1=test_all_NoOthers_df.groupby(['segment_2019Q1','Quadrant','HML_Group','zipcodegroup'])['email_address_hash'].count().to_frame().reset_index().rename(columns={\"email_address_hash\":\"id_count\"})\n",
    "summary_test_decile=test_all_NoOthers_df.groupby(['segment_decile','active','Quadrant','frmindex','zipcodegroup'])['email_address_hash'].count().to_frame().reset_index().rename(columns={\"email_address_hash\":\"id_count\",\"frmindex\":\"decile\"})\n",
    "\n",
    "summary_control_Q1=control_all_NoOthers_df.groupby(['segment_2019Q1','Quadrant','HML_Group','zipcodegroup'])['email_address_hash'].count().to_frame().reset_index().rename(columns={\"email_address_hash\":\"id_count\"})\n",
    "summary_control_decile=control_all_NoOthers_df.groupby(['segment_decile','active','Quadrant','frmindex','zipcodegroup'])['email_address_hash'].count().to_frame().reset_index().rename(columns={\"email_address_hash\":\"id_count\",\"frmindex\":\"decile\"})\n"
   ]
  },
  {
   "cell_type": "code",
   "execution_count": 76,
   "metadata": {},
   "outputs": [],
   "source": [
    "writer=pd.ExcelWriter(folder_write_inner+\"summary_count_without_18_months_plus_JL_\"+str(datetime.datetime.now().date())+\".xlsx\",engine=\"xlsxwriter\")\n",
    "summary_test_Q1.to_excel(writer,\"summary_test_Q1\",index=False)\n",
    "summary_test_decile.to_excel(writer,\"summary_test_decile\",index=False)\n",
    "\n",
    "summary_control_Q1.to_excel(writer,\"summary_control_Q1\",index=False)\n",
    "summary_control_decile.to_excel(writer,\"summary_control_decile\",index=False)\n",
    "writer.save()\n"
   ]
  },
  {
   "cell_type": "code",
   "execution_count": null,
   "metadata": {
    "collapsed": true
   },
   "outputs": [],
   "source": []
  }
 ],
 "metadata": {
  "kernelspec": {
   "display_name": "Python 3",
   "language": "python",
   "name": "python3"
  },
  "language_info": {
   "codemirror_mode": {
    "name": "ipython",
    "version": 3
   },
   "file_extension": ".py",
   "mimetype": "text/x-python",
   "name": "python",
   "nbconvert_exporter": "python",
   "pygments_lexer": "ipython3",
   "version": "3.6.1"
  }
 },
 "nbformat": 4,
 "nbformat_minor": 2
}
