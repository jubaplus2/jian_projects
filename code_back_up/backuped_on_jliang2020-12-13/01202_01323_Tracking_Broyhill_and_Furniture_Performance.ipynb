{
 "cells": [
  {
   "cell_type": "code",
   "execution_count": 1,
   "metadata": {},
   "outputs": [
    {
     "name": "stdout",
     "output_type": "stream",
     "text": [
      "2020-01-28 13:38:24.412921\n"
     ]
    },
    {
     "data": {
      "text/plain": [
       "'/home/jian/Projects/Big_Lots/Analysis/2019_Q4/Segment_Broyhill'"
      ]
     },
     "execution_count": 1,
     "metadata": {},
     "output_type": "execute_result"
    }
   ],
   "source": [
    "import pandas as pd\n",
    "import numpy as np\n",
    "import datetime\n",
    "import os\n",
    "import glob\n",
    "print(datetime.datetime.now())\n",
    "os.getcwd()"
   ]
  },
  {
   "cell_type": "code",
   "execution_count": 2,
   "metadata": {},
   "outputs": [
    {
     "name": "stdout",
     "output_type": "stream",
     "text": [
      "(39, 10)\n",
      "(39, 2)\n"
     ]
    },
    {
     "data": {
      "text/html": [
       "<div>\n",
       "<style scoped>\n",
       "    .dataframe tbody tr th:only-of-type {\n",
       "        vertical-align: middle;\n",
       "    }\n",
       "\n",
       "    .dataframe tbody tr th {\n",
       "        vertical-align: top;\n",
       "    }\n",
       "\n",
       "    .dataframe thead th {\n",
       "        text-align: right;\n",
       "    }\n",
       "</style>\n",
       "<table border=\"1\" class=\"dataframe\">\n",
       "  <thead>\n",
       "    <tr style=\"text-align: right;\">\n",
       "      <th></th>\n",
       "      <th>item_id</th>\n",
       "    </tr>\n",
       "    <tr>\n",
       "      <th>product_type</th>\n",
       "      <th></th>\n",
       "    </tr>\n",
       "  </thead>\n",
       "  <tbody>\n",
       "    <tr>\n",
       "      <th>Broyhill</th>\n",
       "      <td>22</td>\n",
       "    </tr>\n",
       "    <tr>\n",
       "      <th>Gazebos</th>\n",
       "      <td>4</td>\n",
       "    </tr>\n",
       "    <tr>\n",
       "      <th>Patio</th>\n",
       "      <td>13</td>\n",
       "    </tr>\n",
       "  </tbody>\n",
       "</table>\n",
       "</div>"
      ],
      "text/plain": [
       "              item_id\n",
       "product_type         \n",
       "Broyhill           22\n",
       "Gazebos             4\n",
       "Patio              13"
      ]
     },
     "execution_count": 2,
     "metadata": {},
     "output_type": "execute_result"
    }
   ],
   "source": [
    "df_product_selected=pd.read_excel(\"/home/jian/Projects/Big_Lots/Analysis/2019_Q4/Segment_Broyhill/Bryohill SKU List_and_2classes_20200116.xlsx\",\n",
    "                                 sheet_name=\"selected_items\",dtype=str)\n",
    "print(df_product_selected.shape)\n",
    "df_product_selected=df_product_selected.rename(columns={\"Item\":\"item_id\"})\n",
    "df_product_selected['product_type']=np.where(df_product_selected['Division']==\"9\",\"Broyhill\",\n",
    "                                            df_product_selected['Class'])\n",
    "df_product_selected['product_type']=df_product_selected['product_type'].replace(\"21012\",\"Patio\")\n",
    "df_product_selected['product_type']=df_product_selected['product_type'].replace(\"21034\",\"Gazebos\")\n",
    "df_product_selected=df_product_selected[df_product_selected['product_type'].isin(['Broyhill','Patio','Gazebos'])]\n",
    "\n",
    "df_product_selected=df_product_selected[['product_type','item_id']]\n",
    "print(df_product_selected.shape)\n",
    "df_product_selected.groupby(\"product_type\")['item_id'].count().to_frame()"
   ]
  },
  {
   "cell_type": "code",
   "execution_count": 3,
   "metadata": {},
   "outputs": [
    {
     "data": {
      "text/plain": [
       "(2875, 3)"
      ]
     },
     "execution_count": 3,
     "metadata": {},
     "output_type": "execute_result"
    }
   ],
   "source": [
    "prod_taxonomy=pd.read_table(\"/home/jian/BigLots/static_files/ProductTaxonomy/MediaStormProductTaxonomy20200101-135600-916.txt\",\n",
    "                           sep=\"|\",dtype=str)\n",
    "\n",
    "prod_taxonomy=prod_taxonomy[['division_id','class_code_id','subclass_id']].drop_duplicates()\n",
    "prod_taxonomy.shape"
   ]
  },
  {
   "cell_type": "code",
   "execution_count": 4,
   "metadata": {},
   "outputs": [
    {
     "name": "stdout",
     "output_type": "stream",
     "text": [
      "12\n",
      "13\n"
     ]
    }
   ],
   "source": [
    "def recursive_file_gen(root_path):\n",
    "    for root, dirs, files in os.walk(root_path):\n",
    "        for file in files:\n",
    "            yield os.path.join(root,file)\n",
    "            \n",
    "date_last_Saturday_ty=datetime.date(2020,1,18)\n",
    "dates_19Q4_start_ty=datetime.date(2019,11,3)\n",
    "\n",
    "dates_18Q4_start_ly=dates_19Q4_start_ty-datetime.timedelta(days=52*7)\n",
    "date_18Q4_end_ly=datetime.date(2019,2,2)\n",
    "\n",
    "\n",
    "list_daily_sales_ty=list(recursive_file_gen(\"/home/jian/BigLots/\"))\n",
    "list_daily_sales_ty=[x for x in list_daily_sales_ty if \"daily\" in x.lower() and \"/MediaStorm_\" in x]\n",
    "list_daily_sales_ty=[x for x in list_daily_sales_ty if x.split(\"/MediaStorm_\")[1][:10]>=str(dates_19Q4_start_ty)]\n",
    "list_daily_sales_ty.sort()\n",
    "print(len(list_daily_sales_ty))\n",
    "######\n",
    "list_daily_sales_ly=glob.glob(\"/home/jian/BigLots/hist_daily_data_itemlevel_decompressed/*.txt\")\n",
    "\n",
    "list_daily_sales_ly=[x for x in list_daily_sales_ly if x.split(\"ailySalesHistory\")[1][:8]>=str(dates_18Q4_start_ly).replace(\"-\",\"\")]\n",
    "list_daily_sales_ly=[x for x in list_daily_sales_ly if x.split(\"ailySalesHistory\")[1][:8]<=str(date_18Q4_end_ly).replace(\"-\",\"\")]\n",
    "list_daily_sales_ly.sort()\n",
    "print(len(list_daily_sales_ly))"
   ]
  },
  {
   "cell_type": "code",
   "execution_count": 5,
   "metadata": {},
   "outputs": [
    {
     "name": "stdout",
     "output_type": "stream",
     "text": [
      "1 2020-01-28 13:39:22.855553\n",
      "2 2020-01-28 13:40:29.420938\n",
      "3 2020-01-28 13:41:43.641270\n",
      "4 2020-01-28 13:43:20.599833\n",
      "5 2020-01-28 13:45:21.527504\n",
      "6 2020-01-28 13:47:05.100255\n",
      "7 2020-01-28 13:48:57.103291\n",
      "8 2020-01-28 13:50:41.537218\n",
      "9 2020-01-28 13:51:50.475071\n",
      "10 2020-01-28 13:52:42.379200\n",
      "11 2020-01-28 13:53:38.122341\n",
      "12 2020-01-28 13:54:34.460106\n"
     ]
    }
   ],
   "source": [
    "k_sample=None\n",
    "df_sales_detail_both_year=pd.DataFrame()\n",
    "\n",
    "i_counter=0\n",
    "for file in list_daily_sales_ty:\n",
    "    \n",
    "    df=pd.read_table(file,dtype=str,sep=\"|\",nrows=k_sample)\n",
    "    week_end_dt=df['transaction_dt'].max()\n",
    "    df['item_transaction_amt']=df['item_transaction_amt'].astype(float)\n",
    "    df['item_transaction_units']=df['item_transaction_units'].astype(int)\n",
    "    df=pd.merge(df,prod_taxonomy,on=['class_code_id','subclass_id'],how=\"left\")\n",
    "    df=pd.merge(df,df_product_selected,on=['item_id'],how=\"left\")\n",
    "    df['product_type']=np.where(pd.notnull(df['product_type']),df['product_type'],\n",
    "                               np.where(df['division_id']==\"9\",\"other_furniture\",\"0\")\n",
    "                               )\n",
    "    df=df[df['product_type']!=\"0\"]\n",
    "    df['week_end_dt']=week_end_dt\n",
    "    df_sales_detail_both_year=df_sales_detail_both_year.append(df)\n",
    "    \n",
    "    i_counter+=1\n",
    "    print(i_counter,datetime.datetime.now())"
   ]
  },
  {
   "cell_type": "code",
   "execution_count": 6,
   "metadata": {},
   "outputs": [
    {
     "name": "stdout",
     "output_type": "stream",
     "text": [
      "1 2020-01-28 13:55:38.785433\n",
      "2 2020-01-28 13:56:54.162435\n",
      "3 2020-01-28 13:58:41.671247\n",
      "4 2020-01-28 14:00:25.957593\n",
      "5 2020-01-28 14:02:29.501233\n",
      "6 2020-01-28 14:04:31.287209\n",
      "7 2020-01-28 14:06:44.077196\n",
      "8 2020-01-28 14:08:13.406998\n",
      "9 2020-01-28 14:09:16.329690\n",
      "10 2020-01-28 14:10:16.084497\n",
      "11 2020-01-28 14:11:23.704874\n",
      "12 2020-01-28 14:12:29.842558\n",
      "13 2020-01-28 14:13:23.273841\n"
     ]
    }
   ],
   "source": [
    "k_sample=None\n",
    "df_sales_detail_last_year=pd.DataFrame()\n",
    "\n",
    "i_counter=0\n",
    "for file in list_daily_sales_ly:\n",
    "    df=pd.read_table(file,dtype=str,sep=\"|\",nrows=k_sample)\n",
    "    week_end_dt=df['transaction_dt'].max()\n",
    "    df['item_transaction_amt']=df['item_transaction_amt'].astype(float)\n",
    "    df['item_transaction_units']=df['item_transaction_units'].astype(int)\n",
    "    df=pd.merge(df,prod_taxonomy,on=['class_code_id','subclass_id'],how=\"left\")\n",
    "    df=pd.merge(df,df_product_selected,on=['item_id'],how=\"left\")\n",
    "    df['product_type']=np.where(pd.notnull(df['product_type']),df['product_type'],\n",
    "                               np.where(df['division_id']==\"9\",\"other_furniture\",\"0\")\n",
    "                               )\n",
    "    df=df[df['product_type']!=\"0\"]\n",
    "    df['week_end_dt']=week_end_dt\n",
    "    df_sales_detail_both_year=df_sales_detail_both_year.append(df)\n",
    "    \n",
    "    i_counter+=1\n",
    "    print(i_counter,datetime.datetime.now())"
   ]
  },
  {
   "cell_type": "code",
   "execution_count": 7,
   "metadata": {},
   "outputs": [],
   "source": [
    "df_sales_detail_both_year['rewards_label']=np.where(pd.isnull(df_sales_detail_both_year['customer_id_hashed']),\"Non_rewards\",\"Rewards\")\n",
    "df_sales_detail_both_year.to_csv(\"./BL_Broyhill_and_2_classes_13last_11this_JL_\"+str(datetime.datetime.now().date())+\".csv\",index=False)\n"
   ]
  },
  {
   "cell_type": "code",
   "execution_count": 8,
   "metadata": {},
   "outputs": [],
   "source": [
    "df_by_day_sales=df_sales_detail_both_year.groupby(['rewards_label','product_type','week_end_dt'])['item_transaction_amt','item_transaction_units'].sum().reset_index()\n",
    "df_by_day_sales=df_by_day_sales.rename(columns={\"item_transaction_amt\":\"sales\",\"item_transaction_units\":\"units\"})\n",
    "\n",
    "df_by_day_trans=df_sales_detail_both_year[['rewards_label','product_type','week_end_dt','location_id','transaction_dt','transaction_id','customer_id_hashed']].drop_duplicates()\n",
    "df_by_day_trans['trans']=1\n",
    "df_by_day_trans=df_by_day_trans.groupby(['rewards_label','product_type','week_end_dt'])['trans'].sum().to_frame().reset_index()\n",
    "\n",
    "df_by_day_shoppers=df_sales_detail_both_year[pd.notnull(df_sales_detail_both_year['customer_id_hashed'])]\n",
    "df_by_day_shoppers=df_by_day_shoppers.groupby(['rewards_label','product_type','week_end_dt'])['customer_id_hashed'].nunique().to_frame().reset_index()\n",
    "df_by_day_shoppers=df_by_day_shoppers.rename(columns={\"customer_id_hashed\":\"shopper_count\"})\n",
    "\n",
    "df_output=pd.merge(df_by_day_sales,df_by_day_trans,on=['rewards_label','product_type','week_end_dt'],how=\"outer\")\n",
    "df_output=pd.merge(df_output,df_by_day_shoppers,on=['rewards_label','product_type','week_end_dt'],how=\"outer\")\n",
    "df_output['AOV_of_prodcut_type']=df_output['sales']/df_output['trans']\n",
    "\n",
    "df_output=df_output.sort_values([\"product_type\",\"rewards_label\",\"week_end_dt\"])"
   ]
  },
  {
   "cell_type": "code",
   "execution_count": 20,
   "metadata": {},
   "outputs": [],
   "source": [
    "df_output=df_output.fillna(0)\n",
    "\n",
    "df_output_ty=df_output[df_output['week_end_dt']>\"2019-11-01\"]\n",
    "df_output_ly=df_output[df_output['week_end_dt']<\"2019-11-01\"]\n",
    "\n",
    "df_output_wide_ty=df_output_ty.pivot_table(index=['product_type','rewards_label'],columns=\"week_end_dt\")\n",
    "df_output_wide_ly=df_output_ly.pivot_table(index=['product_type','rewards_label'],columns=\"week_end_dt\")\n",
    "\n",
    "df_output_wide_ty=df_output_wide_ty.fillna(0)\n",
    "df_output_wide_ly=df_output_wide_ly.fillna(0)\n"
   ]
  },
  {
   "cell_type": "code",
   "execution_count": 21,
   "metadata": {},
   "outputs": [],
   "source": [
    "writer=pd.ExcelWriter(\"./BL_furniture_by_week_2_yearsQ4_JL_\"+str(datetime.datetime.now().date())+\".xlsx\",engine=\"xlsxwriter\")\n",
    "\n",
    "df_output_wide_ty.to_excel(writer,\"table_2019Q4\")\n",
    "df_output_wide_ly.to_excel(writer,\"table_2018Q4\")\n",
    "\n",
    "df_output.to_excel(writer,\"df_long\",index=False)\n",
    "\n",
    "writer.save()"
   ]
  },
  {
   "cell_type": "code",
   "execution_count": 24,
   "metadata": {},
   "outputs": [
    {
     "data": {
      "text/plain": [
       "array(['other_furniture', 'Broyhill', 'Patio', 'Gazebos'], dtype=object)"
      ]
     },
     "execution_count": 24,
     "metadata": {},
     "output_type": "execute_result"
    }
   ],
   "source": [
    "df_sales_detail_both_year['product_type'].unique()"
   ]
  },
  {
   "cell_type": "code",
   "execution_count": 25,
   "metadata": {},
   "outputs": [
    {
     "data": {
      "text/plain": [
       "1"
      ]
     },
     "execution_count": 25,
     "metadata": {},
     "output_type": "execute_result"
    }
   ],
   "source": [
    "df_sales_detail_both_year['item_transaction_units'].values[0]"
   ]
  },
  {
   "cell_type": "code",
   "execution_count": 29,
   "metadata": {},
   "outputs": [
    {
     "data": {
      "text/html": [
       "<div>\n",
       "<style scoped>\n",
       "    .dataframe tbody tr th:only-of-type {\n",
       "        vertical-align: middle;\n",
       "    }\n",
       "\n",
       "    .dataframe tbody tr th {\n",
       "        vertical-align: top;\n",
       "    }\n",
       "\n",
       "    .dataframe thead th {\n",
       "        text-align: right;\n",
       "    }\n",
       "</style>\n",
       "<table border=\"1\" class=\"dataframe\">\n",
       "  <thead>\n",
       "    <tr style=\"text-align: right;\">\n",
       "      <th></th>\n",
       "      <th>item_id</th>\n",
       "      <th>class_code_id</th>\n",
       "      <th>subclass_id</th>\n",
       "      <th>item_transaction_amt</th>\n",
       "      <th>item_transaction_units</th>\n",
       "    </tr>\n",
       "  </thead>\n",
       "  <tbody>\n",
       "    <tr>\n",
       "      <th>0</th>\n",
       "      <td>610000321</td>\n",
       "      <td>61502</td>\n",
       "      <td>5</td>\n",
       "      <td>47.2</td>\n",
       "      <td>1</td>\n",
       "    </tr>\n",
       "    <tr>\n",
       "      <th>1</th>\n",
       "      <td>610000590</td>\n",
       "      <td>61004</td>\n",
       "      <td>4</td>\n",
       "      <td>15.0</td>\n",
       "      <td>1</td>\n",
       "    </tr>\n",
       "  </tbody>\n",
       "</table>\n",
       "</div>"
      ],
      "text/plain": [
       "     item_id class_code_id subclass_id  item_transaction_amt  \\\n",
       "0  610000321         61502           5                  47.2   \n",
       "1  610000590         61004           4                  15.0   \n",
       "\n",
       "   item_transaction_units  \n",
       "0                       1  \n",
       "1                       1  "
      ]
     },
     "execution_count": 29,
     "metadata": {},
     "output_type": "execute_result"
    }
   ],
   "source": [
    "price_by_item_lastyear.head(2)"
   ]
  },
  {
   "cell_type": "code",
   "execution_count": 31,
   "metadata": {},
   "outputs": [],
   "source": [
    "df_sales_detail_this_year=df_sales_detail_both_year[df_sales_detail_both_year['transaction_dt']>=\"2019-11-01\"]\n",
    "price_by_item_thisyear=df_sales_detail_this_year.groupby([\"item_id\",\"class_code_id\",'subclass_id'])['item_transaction_amt','item_transaction_units'].sum().reset_index()\n",
    "price_by_item_thisyear['avg_price']=price_by_item_thisyear['item_transaction_amt']/price_by_item_thisyear['item_transaction_units']\n",
    "\n",
    "df_sales_detail_last_year=df_sales_detail_both_year[df_sales_detail_both_year['transaction_dt']<\"2019-11-01\"]\n",
    "price_by_item_lastyear=df_sales_detail_last_year.groupby([\"item_id\",\"class_code_id\",'subclass_id'])['item_transaction_amt','item_transaction_units'].sum().reset_index()\n",
    "price_by_item_lastyear['avg_price']=price_by_item_lastyear['item_transaction_amt']/price_by_item_lastyear['item_transaction_units']\n"
   ]
  },
  {
   "cell_type": "code",
   "execution_count": 32,
   "metadata": {},
   "outputs": [],
   "source": [
    "writer=pd.ExcelWriter(\"./BL_item_avg_price_JL_\"+str(datetime.datetime.now().date())+\".xlsx\",engine=\"xlsxwriter\")\n",
    "price_by_item_thisyear.to_excel(writer,\"2019Q4\",index=False)\n",
    "price_by_item_lastyear.to_excel(writer,\"2018Q4\",index=False)\n",
    "writer.save()\n"
   ]
  },
  {
   "cell_type": "code",
   "execution_count": 1,
   "metadata": {},
   "outputs": [
    {
     "data": {
      "text/plain": [
       "['2019Q4', '2018Q4']"
      ]
     },
     "execution_count": 1,
     "metadata": {},
     "output_type": "execute_result"
    }
   ],
   "source": [
    "# Add the item name\n",
    "import pandas as pd\n",
    "import numpy as np\n",
    "import datetime\n",
    "import os\n",
    "file_excel=pd.ExcelFile(\"./BL_item_avg_price_JL_2020-01-28.xlsx\")\n",
    "file_excel.sheet_names"
   ]
  },
  {
   "cell_type": "code",
   "execution_count": 2,
   "metadata": {},
   "outputs": [],
   "source": [
    "df_2019=file_excel.parse(\"2019Q4\",dtype=str)\n",
    "df_2018=file_excel.parse(\"2018Q4\",dtype=str)\n",
    "\n",
    "\n",
    "df_2019['item_transaction_amt']=df_2019['item_transaction_amt'].astype(float)\n",
    "df_2019['item_transaction_units']=df_2019['item_transaction_units'].astype(int)\n",
    "df_2019['avg_price']=df_2019['avg_price'].astype(float)\n",
    "\n",
    "df_2018['item_transaction_amt']=df_2018['item_transaction_amt'].astype(float)\n",
    "df_2018['item_transaction_units']=df_2018['item_transaction_units'].astype(int)\n",
    "df_2018['avg_price']=df_2018['avg_price'].astype(float)"
   ]
  },
  {
   "cell_type": "code",
   "execution_count": 3,
   "metadata": {},
   "outputs": [
    {
     "name": "stdout",
     "output_type": "stream",
     "text": [
      "(2875, 5)\n",
      "(2875, 8)\n"
     ]
    }
   ],
   "source": [
    "df_prod_taxo=pd.read_table(\"/home/jian/BigLots/static_files/ProductTaxonomy/MediaStormProductTaxonomy20200101-135600-916.txt\",\n",
    "                          dtype=str,sep=\"|\")\n",
    "division_name=pd.read_table(\"/home/jian/BigLots/static_files/MediaStorm Data Extract - Division Names.txt\",sep=\"|\",dtype=str)\n",
    "department_name=pd.read_table(\"/home/jian/BigLots/static_files/MediaStorm Data Extract - Department Names.txt\",sep=\"|\",dtype=str)\n",
    "class_name=pd.read_table(\"/home/jian/BigLots/static_files/MediaStorm Data Extract - Class Names.txt\",sep=\"|\",encoding=\"iso-8859-1\",dtype=str)\n",
    "\n",
    "\n",
    "print(df_prod_taxo.shape)\n",
    "df_prod_taxo=pd.merge(df_prod_taxo,division_name,on=\"division_id\",how=\"left\")\n",
    "df_prod_taxo=pd.merge(df_prod_taxo,department_name,on=\"department_id\",how=\"left\")\n",
    "df_prod_taxo=pd.merge(df_prod_taxo,class_name,on=\"class_code_id\",how=\"left\")\n",
    "print(df_prod_taxo.shape)\n"
   ]
  },
  {
   "cell_type": "code",
   "execution_count": 4,
   "metadata": {},
   "outputs": [],
   "source": [
    "df_2019=pd.merge(df_2019,df_prod_taxo,on=[\"class_code_id\",\"subclass_id\"],how=\"left\")\n",
    "df_2019=df_2019[['item_id','division_id','division_desc','department_id','department_desc','class_code_id','class_code_desc',\n",
    "                 'subclass_id','subclass_desc','item_transaction_amt','item_transaction_units','avg_price']]\n",
    "\n",
    "df_2018=pd.merge(df_2018,df_prod_taxo,on=[\"class_code_id\",\"subclass_id\"],how=\"left\")\n",
    "df_2018=df_2018[['item_id','division_id','division_desc','department_id','department_desc','class_code_id','class_code_desc',\n",
    "                 'subclass_id','subclass_desc','item_transaction_amt','item_transaction_units','avg_price']]"
   ]
  },
  {
   "cell_type": "code",
   "execution_count": 9,
   "metadata": {},
   "outputs": [
    {
     "name": "stdout",
     "output_type": "stream",
     "text": [
      "['selected_items', 'Broyhill SKUs']\n",
      "(39, 10)\n",
      "(39, 3)\n"
     ]
    },
    {
     "data": {
      "text/html": [
       "<div>\n",
       "<style scoped>\n",
       "    .dataframe tbody tr th:only-of-type {\n",
       "        vertical-align: middle;\n",
       "    }\n",
       "\n",
       "    .dataframe tbody tr th {\n",
       "        vertical-align: top;\n",
       "    }\n",
       "\n",
       "    .dataframe thead th {\n",
       "        text-align: right;\n",
       "    }\n",
       "</style>\n",
       "<table border=\"1\" class=\"dataframe\">\n",
       "  <thead>\n",
       "    <tr style=\"text-align: right;\">\n",
       "      <th></th>\n",
       "      <th>item_id</th>\n",
       "    </tr>\n",
       "    <tr>\n",
       "      <th>product_type</th>\n",
       "      <th></th>\n",
       "    </tr>\n",
       "  </thead>\n",
       "  <tbody>\n",
       "    <tr>\n",
       "      <th>Broyhill</th>\n",
       "      <td>22</td>\n",
       "    </tr>\n",
       "    <tr>\n",
       "      <th>Gazebos</th>\n",
       "      <td>4</td>\n",
       "    </tr>\n",
       "    <tr>\n",
       "      <th>Patio</th>\n",
       "      <td>13</td>\n",
       "    </tr>\n",
       "  </tbody>\n",
       "</table>\n",
       "</div>"
      ],
      "text/plain": [
       "              item_id\n",
       "product_type         \n",
       "Broyhill           22\n",
       "Gazebos             4\n",
       "Patio              13"
      ]
     },
     "execution_count": 9,
     "metadata": {},
     "output_type": "execute_result"
    }
   ],
   "source": [
    "file_excel_prod=pd.ExcelFile(\"/home/jian/Projects/Big_Lots/Analysis/2019_Q4/Segment_Broyhill/Bryohill SKU List_and_2classes_20200116.xlsx\")\n",
    "print(file_excel_prod.sheet_names)\n",
    "\n",
    "df_product_selected=file_excel_prod.parse(sheet_name=\"selected_items\",dtype=str)\n",
    "print(df_product_selected.shape)\n",
    "df_product_selected=df_product_selected.rename(columns={\"Item\":\"item_id\"})\n",
    "df_product_selected['product_type']=np.where(df_product_selected['Division']==\"9\",\"Broyhill\",\n",
    "                                            df_product_selected['Class'])\n",
    "df_product_selected['product_type']=df_product_selected['product_type'].replace(\"21012\",\"Patio\")\n",
    "df_product_selected['product_type']=df_product_selected['product_type'].replace(\"21034\",\"Gazebos\")\n",
    "df_product_selected=df_product_selected[df_product_selected['product_type'].isin(['Broyhill','Patio','Gazebos'])]\n",
    "df_product_selected=df_product_selected[['product_type','item_id','Unnamed: 9']]\n",
    "df_product_selected=df_product_selected.rename(columns={\"Unnamed: 9\":\"item_name_selected\"})\n",
    "print(df_product_selected.shape)\n",
    "df_product_selected.groupby(\"product_type\")['item_id'].count().to_frame()\n"
   ]
  },
  {
   "cell_type": "code",
   "execution_count": 6,
   "metadata": {},
   "outputs": [],
   "source": [
    "df_2019=pd.merge(df_2019,df_product_selected,on=\"item_id\",how=\"left\")\n",
    "df_2019['product_type']=df_2019['product_type'].fillna(\"other_furniture\")\n",
    "df_2019['item_name_selected']=df_2019['item_name_selected'].fillna(\"other_furniture\")\n",
    "\n",
    "df_2018=pd.merge(df_2018,df_product_selected,on=\"item_id\",how=\"left\")\n",
    "df_2018['product_type']=df_2018['product_type'].fillna(\"other_furniture\")\n",
    "df_2018['item_name_selected']=df_2018['item_name_selected'].fillna(\"other_furniture\")\n",
    "\n",
    "df_2019=df_2019.sort_values([\"division_id\",\"product_type\",\"item_id\"])\n",
    "df_2018=df_2018.sort_values([\"division_id\",\"product_type\",\"item_id\"])"
   ]
  },
  {
   "cell_type": "code",
   "execution_count": 7,
   "metadata": {},
   "outputs": [],
   "source": [
    "writer=pd.ExcelWriter(\"./BL_item_price_Broyhil_and_Furniture_JL_\"+str(datetime.datetime.now().date())+\".xlsx\",engine=\"xlsxwriter\")\n",
    "df_2019.to_excel(writer,\"price_by_item_2019Q4_12W\",index=False)\n",
    "df_2018.to_excel(writer,\"price_by_item_2018Q4_13W\",index=False)\n",
    "writer.save()\n"
   ]
  },
  {
   "cell_type": "code",
   "execution_count": null,
   "metadata": {},
   "outputs": [],
   "source": []
  }
 ],
 "metadata": {
  "kernelspec": {
   "display_name": "Python 3",
   "language": "python",
   "name": "python3"
  },
  "language_info": {
   "codemirror_mode": {
    "name": "ipython",
    "version": 3
   },
   "file_extension": ".py",
   "mimetype": "text/x-python",
   "name": "python",
   "nbconvert_exporter": "python",
   "pygments_lexer": "ipython3",
   "version": "3.6.1"
  }
 },
 "nbformat": 4,
 "nbformat_minor": 2
}
