{
 "cells": [
  {
   "cell_type": "code",
   "execution_count": 1,
   "metadata": {
    "collapsed": false
   },
   "outputs": [],
   "source": [
    "import ast\n",
    "import pandas as pd\n",
    "import urllib.request as ul #url.request lib for handling the url\n",
    "from bs4 import BeautifulSoup #bs for parsing the page\n",
    "#url = \"http://www.hallmarkchannel.com/schedule?mode=&day=0&week=0&tz=EST\"\n",
    "#url_response=ul.urlopen(url,timeout=5)\n",
    "#soup = BeautifulSoup(url_response)"
   ]
  },
  {
   "cell_type": "code",
   "execution_count": 2,
   "metadata": {
    "collapsed": false
   },
   "outputs": [
    {
     "name": "stderr",
     "output_type": "stream",
     "text": [
      "//anaconda/lib/python3.5/site-packages/bs4/__init__.py:166: UserWarning: No parser was explicitly specified, so I'm using the best available HTML parser for this system (\"lxml\"). This usually isn't a problem, but if you run this code on another system, or in a different virtual environment, it may use a different parser and behave differently.\n",
      "\n",
      "To get rid of this warning, change this:\n",
      "\n",
      " BeautifulSoup([your markup])\n",
      "\n",
      "to this:\n",
      "\n",
      " BeautifulSoup([your markup], \"lxml\")\n",
      "\n",
      "  markup_type=markup_type))\n"
     ]
    }
   ],
   "source": [
    "name = []\n",
    "time = []\n",
    "description = []\n",
    "for i in range(0,30):\n",
    "    url_page = \"http://www.hallmarkchannel.com/schedule?mode=&day=\"+str(i)+\"&week=0&tz=EST\"\n",
    "    soup= BeautifulSoup(ul.urlopen(url_page,timeout=5))\n",
    "    name_box = soup.find_all('a', attrs={'class': 'schedule-daily-table-show-details-title'})\n",
    "    time_box = soup.find_all('div', attrs={'class': 'schedule-daily-table-time'})\n",
    "    show_info = [div.attrs['data-show-info'] for div in soup.find_all('div') if div.has_attr('data-show-info')]\n",
    "    for j in range(len(show_info)):\n",
    "        name.append(name_box[j].text.strip())\n",
    "        time.append(time_box[j].text.strip())\n",
    "        description.append(ast.literal_eval([div.attrs['data-show-info'] for div in soup.find_all('div') if div.has_attr('data-show-info')][j])['description'])"
   ]
  },
  {
   "cell_type": "code",
   "execution_count": 12,
   "metadata": {
    "collapsed": false,
    "scrolled": true
   },
   "outputs": [],
   "source": [
    "d = {'Showname': name, 'Showtime': time, 'Description':description}\n",
    "df = pd.DataFrame(d)"
   ]
  },
  {
   "cell_type": "code",
   "execution_count": 14,
   "metadata": {
    "collapsed": false
   },
   "outputs": [],
   "source": [
    "df.to_csv('/Users/siyang/Dropbox/2017intern/jubaplus/Hallmark_schedule/schedule.csv')"
   ]
  },
  {
   "cell_type": "code",
   "execution_count": 6,
   "metadata": {
    "collapsed": false
   },
   "outputs": [],
   "source": [
    "name = []\n",
    "time = []\n",
    "description = []\n",
    "name_box = soup.find_all('a', attrs={'class': 'schedule-daily-table-show-details-title'})\n",
    "time_box = soup.find_all('div', attrs={'class': 'schedule-daily-table-time'})\n",
    "show_info = [div.attrs['data-show-info'] for div in soup.find_all('div') if div.has_attr('data-show-info')]\n",
    "for i in range(len(show_info)):\n",
    "    name.append(name_box[i].text.strip())\n",
    "    time.append(time_box[i].text.strip())\n",
    "    description.append(ast.literal_eval([div.attrs['data-show-info'] for div in soup.find_all('div') if div.has_attr('data-show-info')][i])['description'])"
   ]
  },
  {
   "cell_type": "code",
   "execution_count": 30,
   "metadata": {
    "collapsed": false
   },
   "outputs": [
    {
     "name": "stdout",
     "output_type": "stream",
     "text": [
      "A Boyfriend for Christmas\n",
      "A Very Merry Mix-Up\n",
      "A Heavenly Christmas\n"
     ]
    }
   ],
   "source": [
    "for name in name_box:\n",
    "    name = name.text.strip()\n",
    "    print (name)"
   ]
  },
  {
   "cell_type": "code",
   "execution_count": null,
   "metadata": {
    "collapsed": true
   },
   "outputs": [],
   "source": []
  }
 ],
 "metadata": {
  "kernelspec": {
   "display_name": "Python [Root]",
   "language": "python",
   "name": "Python [Root]"
  },
  "language_info": {
   "codemirror_mode": {
    "name": "ipython",
    "version": 3
   },
   "file_extension": ".py",
   "mimetype": "text/x-python",
   "name": "python",
   "nbconvert_exporter": "python",
   "pygments_lexer": "ipython3",
   "version": "3.5.2"
  }
 },
 "nbformat": 4,
 "nbformat_minor": 2
}
