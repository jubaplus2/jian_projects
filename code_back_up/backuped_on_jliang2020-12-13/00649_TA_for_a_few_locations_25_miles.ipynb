{
 "cells": [
  {
   "cell_type": "code",
   "execution_count": 1,
   "metadata": {
    "collapsed": true
   },
   "outputs": [],
   "source": [
    "import pandas as pd\n",
    "import datetime\n",
    "import os\n",
    "import json\n",
    "from haversine import haversine\n",
    "\n",
    "zip_centers=json.load(open(\"/home/jian/Docs/Geo_mapping/updated_zip_centers_JL_2019-05-23.json\",\"r\"))\n",
    "ratio_dist=25"
   ]
  },
  {
   "cell_type": "code",
   "execution_count": 2,
   "metadata": {},
   "outputs": [],
   "source": [
    "pd.options.display.max_columns=99\n",
    "input_locations=pd.read_csv(\"./testww.csv\",dtype=str)\n",
    "# lat lng given in the csv, just use it\n",
    "# first place only\n",
    "input_locations=input_locations.loc[0,['EVENT_ID','VENUE_LATITUDE','VENUE_LONGITUDE']].to_frame().T\n",
    "input_locations['VENUE_LATITUDE']=input_locations['VENUE_LATITUDE'].astype(float)\n",
    "input_locations['VENUE_LONGITUDE']=input_locations['VENUE_LONGITUDE'].astype(float)\n"
   ]
  },
  {
   "cell_type": "code",
   "execution_count": 3,
   "metadata": {},
   "outputs": [],
   "source": [
    "df_TA=input_locations.copy()\n",
    "\n",
    "df_store_zip=pd.DataFrame()\n",
    "\n",
    "for ind,row in df_TA.iterrows():\n",
    "    event_id=row['EVENT_ID']\n",
    "    zip_list=[]\n",
    "    store_zip=pd.DataFrame()\n",
    "    store_center=df_TA[['VENUE_LATITUDE','VENUE_LONGITUDE']].values[0]\n",
    "    for zip_cd,v in zip_centers.items():\n",
    "        dist=haversine(store_center,v,unit=\"mi\") # unit=\"mi\"\n",
    "        if dist<=ratio_dist:\n",
    "            zip_list.append(zip_cd)\n",
    "            df=pd.DataFrame({\"dist_miles\":dist},index=[zip_cd])\n",
    "            store_zip=store_zip.append(df)\n",
    "    store_zip=store_zip.reset_index().rename(columns={\"index\":\"zip_cd\"})\n",
    "    store_zip['EVENT_ID']=event_id\n",
    "    df_TA.loc[ind,'zip_list']=str(zip_list)\n",
    "    df_store_zip=df_store_zip.append(store_zip)"
   ]
  },
  {
   "cell_type": "code",
   "execution_count": 4,
   "metadata": {
    "collapsed": true
   },
   "outputs": [],
   "source": [
    "df_TA['zip_list']=df_TA['zip_list'].apply(eval)"
   ]
  },
  {
   "cell_type": "code",
   "execution_count": 5,
   "metadata": {},
   "outputs": [],
   "source": [
    "df_store_zip=df_store_zip[['EVENT_ID','zip_cd','dist_miles']]"
   ]
  },
  {
   "cell_type": "code",
   "execution_count": 7,
   "metadata": {
    "collapsed": true
   },
   "outputs": [],
   "source": [
    "writer=pd.ExcelWriter(\"./Trade_area_1_event_25_miles_JL_\"+str(datetime.datetime.now().date())+\".xlsx\",engine=\"xlsxwriter\")\n",
    "df_store_zip.to_excel(writer,\"by_store_zip\",index=False)\n",
    "df_TA.to_excel(writer,\"1_event\",index=False)\n",
    "writer.save()"
   ]
  },
  {
   "cell_type": "code",
   "execution_count": null,
   "metadata": {
    "collapsed": true
   },
   "outputs": [],
   "source": []
  }
 ],
 "metadata": {
  "kernelspec": {
   "display_name": "Python 3",
   "language": "python",
   "name": "python3"
  },
  "language_info": {
   "codemirror_mode": {
    "name": "ipython",
    "version": 3
   },
   "file_extension": ".py",
   "mimetype": "text/x-python",
   "name": "python",
   "nbconvert_exporter": "python",
   "pygments_lexer": "ipython3",
   "version": "3.6.1"
  }
 },
 "nbformat": 4,
 "nbformat_minor": 2
}
