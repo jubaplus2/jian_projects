{
 "cells": [
  {
   "cell_type": "code",
   "execution_count": 1,
   "metadata": {},
   "outputs": [
    {
     "data": {
      "text/plain": [
       "'/home/jian/Projects/Big_Lots/Analysis/2020_Q1/FB_Mobile_testing'"
      ]
     },
     "execution_count": 1,
     "metadata": {},
     "output_type": "execute_result"
    }
   ],
   "source": [
    "import pandas as pd\n",
    "import numpy as np\n",
    "import datetime\n",
    "import os\n",
    "import glob\n",
    "os.getcwd()"
   ]
  },
  {
   "cell_type": "code",
   "execution_count": 2,
   "metadata": {},
   "outputs": [],
   "source": [
    "write_folder_to_LR='/home/jian/Projects/Big_Lots/Analysis/2020_Q1/FB_Mobile_testing/upload_to_LR/'\n",
    "try:\n",
    "    os.stat(write_folder_to_LR)\n",
    "except:\n",
    "    os.mkdir(write_folder_to_LR)\n",
    "    "
   ]
  },
  {
   "cell_type": "code",
   "execution_count": 3,
   "metadata": {},
   "outputs": [
    {
     "data": {
      "text/plain": [
       "['/home/jian/Projects/Big_Lots/Analysis/2020_Q1/FB_Mobile_testing/sliced_ids_by_segments/Control_seg_1_BL_visitor.csv',\n",
       " '/home/jian/Projects/Big_Lots/Analysis/2020_Q1/FB_Mobile_testing/sliced_ids_by_segments/Test_Phase1_seg_1_BL_visitor.csv',\n",
       " '/home/jian/Projects/Big_Lots/Analysis/2020_Q1/FB_Mobile_testing/sliced_ids_by_segments/Control_seg_4_grocery_visitor.csv',\n",
       " '/home/jian/Projects/Big_Lots/Analysis/2020_Q1/FB_Mobile_testing/sliced_ids_by_segments/Test_Phase1_seg_4_grocery_visitor.csv',\n",
       " '/home/jian/Projects/Big_Lots/Analysis/2020_Q1/FB_Mobile_testing/sliced_ids_by_segments/Control_seg_2_BL_vacinity.csv',\n",
       " '/home/jian/Projects/Big_Lots/Analysis/2020_Q1/FB_Mobile_testing/sliced_ids_by_segments/Test_Phase1_seg_2_BL_vacinity.csv',\n",
       " '/home/jian/Projects/Big_Lots/Analysis/2020_Q1/FB_Mobile_testing/sliced_ids_by_segments/Control_seg_3_nonfurn_visitor.csv',\n",
       " '/home/jian/Projects/Big_Lots/Analysis/2020_Q1/FB_Mobile_testing/sliced_ids_by_segments/Test_Phase1_seg_3_nonfurn_visitor.csv']"
      ]
     },
     "execution_count": 3,
     "metadata": {},
     "output_type": "execute_result"
    }
   ],
   "source": [
    "list_phase_1_files=glob.glob(\"/home/jian/Projects/Big_Lots/Analysis/2020_Q1/FB_Mobile_testing/sliced_ids_by_segments/*.csv\")\n",
    "list_phase_1_files=[x for x in list_phase_1_files if \"phase2\" not in x.lower()]\n",
    "list_phase_1_files"
   ]
  },
  {
   "cell_type": "code",
   "execution_count": 5,
   "metadata": {},
   "outputs": [
    {
     "name": "stdout",
     "output_type": "stream",
     "text": [
      "Control_seg_1_BL_visitor 2020-05-06 14:03:58.232740 (226185, 2)\n",
      "Test_Phase1_seg_1_BL_visitor 2020-05-06 14:04:05.241484 (1809480, 2)\n",
      "Control_seg_4_grocery_visitor 2020-05-06 14:04:06.262333 (214869, 2)\n",
      "Test_Phase1_seg_4_grocery_visitor 2020-05-06 14:04:08.945706 (716230, 2)\n",
      "Control_seg_2_BL_vacinity 2020-05-06 14:04:09.631968 (187951, 2)\n",
      "Test_Phase1_seg_2_BL_vacinity 2020-05-06 14:04:13.229229 (939756, 2)\n",
      "Control_seg_3_nonfurn_visitor 2020-05-06 14:04:14.526079 (208580, 2)\n",
      "Test_Phase1_seg_3_nonfurn_visitor 2020-05-06 14:04:23.827237 (2433440, 2)\n"
     ]
    }
   ],
   "source": [
    "for file in list_phase_1_files:\n",
    "    segment_name=os.path.basename(file).split(\".\")[0]\n",
    "    df=pd.read_csv(file,dtype=str,usecols=[\"ad_id\"])\n",
    "    df['group']=segment_name\n",
    "    df.to_csv(write_folder_to_LR+os.path.basename(file),index=False,sep=\"|\")\n",
    "    print(segment_name,datetime.datetime.now(),df.shape)\n",
    "    "
   ]
  },
  {
   "cell_type": "markdown",
   "metadata": {},
   "source": [
    "# upload"
   ]
  },
  {
   "cell_type": "code",
   "execution_count": 7,
   "metadata": {},
   "outputs": [],
   "source": [
    "import paramiko\n",
    "\n",
    "host = \"files.liveramp.com\"\n",
    "port = 22\n",
    "transport = paramiko.Transport((host, port))\n",
    "\n",
    "password = \"Biglots2018!\"\n",
    "username = \"lr-big-lots\"\n",
    "transport.connect(username = username, password = password)\n",
    "sftp = paramiko.SFTPClient.from_transport(transport)"
   ]
  },
  {
   "cell_type": "code",
   "execution_count": 8,
   "metadata": {},
   "outputs": [],
   "source": [
    "remote_folder=\"/uploads/big_lots_measurement_mobile_ids/\"\n",
    "list_files_to_upload=glob.glob(write_folder_to_LR+\"*.csv\")"
   ]
  },
  {
   "cell_type": "code",
   "execution_count": 15,
   "metadata": {},
   "outputs": [
    {
     "name": "stdout",
     "output_type": "stream",
     "text": [
      "/home/jian/Projects/Big_Lots/Analysis/2020_Q1/FB_Mobile_testing/upload_to_LR/Control_seg_1_BL_visitor.csv\n",
      "/uploads/big_lots_measurement_mobile_ids/Control_seg_1_BL_visitor.csv\n",
      "/home/jian/Projects/Big_Lots/Analysis/2020_Q1/FB_Mobile_testing/upload_to_LR/Test_Phase1_seg_1_BL_visitor.csv\n",
      "/uploads/big_lots_measurement_mobile_ids/Test_Phase1_seg_1_BL_visitor.csv\n",
      "/home/jian/Projects/Big_Lots/Analysis/2020_Q1/FB_Mobile_testing/upload_to_LR/Control_seg_4_grocery_visitor.csv\n",
      "/uploads/big_lots_measurement_mobile_ids/Control_seg_4_grocery_visitor.csv\n",
      "/home/jian/Projects/Big_Lots/Analysis/2020_Q1/FB_Mobile_testing/upload_to_LR/Test_Phase1_seg_4_grocery_visitor.csv\n",
      "/uploads/big_lots_measurement_mobile_ids/Test_Phase1_seg_4_grocery_visitor.csv\n",
      "/home/jian/Projects/Big_Lots/Analysis/2020_Q1/FB_Mobile_testing/upload_to_LR/Control_seg_2_BL_vacinity.csv\n",
      "/uploads/big_lots_measurement_mobile_ids/Control_seg_2_BL_vacinity.csv\n",
      "/home/jian/Projects/Big_Lots/Analysis/2020_Q1/FB_Mobile_testing/upload_to_LR/Test_Phase1_seg_2_BL_vacinity.csv\n",
      "/uploads/big_lots_measurement_mobile_ids/Test_Phase1_seg_2_BL_vacinity.csv\n",
      "/home/jian/Projects/Big_Lots/Analysis/2020_Q1/FB_Mobile_testing/upload_to_LR/Control_seg_3_nonfurn_visitor.csv\n",
      "/uploads/big_lots_measurement_mobile_ids/Control_seg_3_nonfurn_visitor.csv\n",
      "/home/jian/Projects/Big_Lots/Analysis/2020_Q1/FB_Mobile_testing/upload_to_LR/Test_Phase1_seg_3_nonfurn_visitor.csv\n",
      "/uploads/big_lots_measurement_mobile_ids/Test_Phase1_seg_3_nonfurn_visitor.csv\n",
      "done uploading mapping file 2020-05-06 14:13:09.891048\n"
     ]
    }
   ],
   "source": [
    "for local_file in list_files_to_upload:\n",
    "    basename=os.path.basename(local_file)\n",
    "    remote_path=remote_folder+basename\n",
    "    print(local_file)\n",
    "    print(remote_path)\n",
    "    sftp.put(local_file,remote_path)\n",
    "    \n",
    "print(\"done uploading mapping file\",datetime.datetime.now())\n",
    "\n",
    "sftp.close()\n",
    "transport.close()\n"
   ]
  },
  {
   "cell_type": "code",
   "execution_count": null,
   "metadata": {},
   "outputs": [],
   "source": []
  }
 ],
 "metadata": {
  "kernelspec": {
   "display_name": "Python 3",
   "language": "python",
   "name": "python3"
  },
  "language_info": {
   "codemirror_mode": {
    "name": "ipython",
    "version": 3
   },
   "file_extension": ".py",
   "mimetype": "text/x-python",
   "name": "python",
   "nbconvert_exporter": "python",
   "pygments_lexer": "ipython3",
   "version": "3.6.1"
  }
 },
 "nbformat": 4,
 "nbformat_minor": 2
}
