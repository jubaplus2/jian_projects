{
 "cells": [
  {
   "cell_type": "code",
   "execution_count": 5,
   "metadata": {
    "collapsed": true
   },
   "outputs": [],
   "source": [
    "import pandas as pd\n",
    "import numpy as np\n",
    "import datetime"
   ]
  },
  {
   "cell_type": "code",
   "execution_count": 105,
   "metadata": {
    "collapsed": true
   },
   "outputs": [],
   "source": [
    "Inclusions=pd.read_csv(\"/home/jian/Projects/Big_Lots/Q1_Products/Inclusions.csv\")\n",
    "Department_Selected=pd.read_excel(\"/home/jian/Projects/Big_Lots/Q1_Products/Department_ID_DMA.xlsx\",sheetname=\"product_department\")\n",
    "DMA_Selected=pd.read_excel(\"/home/jian/Projects/Big_Lots/Q1_Products/Department_ID_DMA.xlsx\",sheetname=\"selected_DMA\")                                 "
   ]
  },
  {
   "cell_type": "code",
   "execution_count": 7,
   "metadata": {},
   "outputs": [],
   "source": [
    "historical_data1=pd.read_csv(\"/home/jian/Projects/Big_Lots/Q1_Products/Data/MediaStorm Data Extract - Detail Store Sales1 (stores up to 1000).txt\",dtype=str,sep=\"|\",na_values=\"?\")\n",
    "historical_data2=pd.read_csv(\"/home/jian/Projects/Big_Lots/Q1_Products/Data/MediaStorm Data Extract - Detail Store Sales2 (stores 1001 to 1450).txt\",dtype=str,sep=\"|\",na_values=\"?\")\n",
    "historical_data3=pd.read_csv(\"/home/jian/Projects/Big_Lots/Q1_Products/Data/MediaStorm Data Extract - Detail Store Sales3 (stores 1451 to 1750).txt\",dtype=str,sep=\"|\",na_values=\"?\")\n",
    "historical_data4=pd.read_csv(\"/home/jian/Projects/Big_Lots/Q1_Products/Data/MediaStorm Data Extract - Detail Store Sales4 (stores 1751 to 2000).txt\",dtype=str,sep=\"|\",na_values=\"?\")\n",
    "historical_data5=pd.read_csv(\"/home/jian/Projects/Big_Lots/Q1_Products/Data/MediaStorm Data Extract - Detail Store Sales5 (stores 2001 to 4500).txt\",dtype=str,sep=\"|\",na_values=\"?\")\n",
    "historical_data6=pd.read_csv(\"/home/jian/Projects/Big_Lots/Q1_Products/Data/MediaStorm Data Extract - Detail Store Sales6 (stores 4501 to 5000).txt\",dtype=str,sep=\"|\",na_values=\"?\")\n",
    "historical_data7=pd.read_csv(\"/home/jian/Projects/Big_Lots/Q1_Products/Data/MediaStorm Data Extract - Detail Store Sales7 (stores 5001 to 6990).txt\",dtype=str,sep=\"|\",na_values=\"?\")"
   ]
  },
  {
   "cell_type": "code",
   "execution_count": 8,
   "metadata": {
    "collapsed": true
   },
   "outputs": [],
   "source": [
    "def clean_date(df):\n",
    "    df['week_end_dt']=df['week_end_dt'].apply(lambda x: datetime.datetime.strptime(x,\"%Y-%m-%d\").date())\n",
    "    df=df[(df['week_end_dt']>datetime.datetime.strptime(\"2017-04-01\",\"%Y-%m-%d\").date()) & (df['week_end_dt']<datetime.datetime.strptime(\"2017-04-30\",\"%Y-%m-%d\").date())]\n",
    "    df['location_id']=df['location_id'].astype(int)\n",
    "    df['gross_sales_amt']=df['gross_sales_amt'].astype(float)\n",
    "    df['gross_transaction_cnt']=df['gross_transaction_cnt'].astype(int)\n",
    "    df['class_code_id']=df['class_code_id'].fillna(0)\n",
    "    df['class_code_id']=df['class_code_id'].astype(int)\n",
    "    df['class_gross_sales_amt']=df['class_gross_sales_amt'].astype(float)   \n",
    "    df=df[df['location_id'].isin(Inclusions['location_id'])]\n",
    "    return df"
   ]
  },
  {
   "cell_type": "code",
   "execution_count": 9,
   "metadata": {},
   "outputs": [
    {
     "name": "stderr",
     "output_type": "stream",
     "text": [
      "/usr/local/lib/python3.6/site-packages/ipykernel_launcher.py:4: SettingWithCopyWarning: \n",
      "A value is trying to be set on a copy of a slice from a DataFrame.\n",
      "Try using .loc[row_indexer,col_indexer] = value instead\n",
      "\n",
      "See the caveats in the documentation: http://pandas.pydata.org/pandas-docs/stable/indexing.html#indexing-view-versus-copy\n",
      "  after removing the cwd from sys.path.\n",
      "/usr/local/lib/python3.6/site-packages/ipykernel_launcher.py:5: SettingWithCopyWarning: \n",
      "A value is trying to be set on a copy of a slice from a DataFrame.\n",
      "Try using .loc[row_indexer,col_indexer] = value instead\n",
      "\n",
      "See the caveats in the documentation: http://pandas.pydata.org/pandas-docs/stable/indexing.html#indexing-view-versus-copy\n",
      "  \"\"\"\n",
      "/usr/local/lib/python3.6/site-packages/ipykernel_launcher.py:6: SettingWithCopyWarning: \n",
      "A value is trying to be set on a copy of a slice from a DataFrame.\n",
      "Try using .loc[row_indexer,col_indexer] = value instead\n",
      "\n",
      "See the caveats in the documentation: http://pandas.pydata.org/pandas-docs/stable/indexing.html#indexing-view-versus-copy\n",
      "  \n",
      "/usr/local/lib/python3.6/site-packages/ipykernel_launcher.py:7: SettingWithCopyWarning: \n",
      "A value is trying to be set on a copy of a slice from a DataFrame.\n",
      "Try using .loc[row_indexer,col_indexer] = value instead\n",
      "\n",
      "See the caveats in the documentation: http://pandas.pydata.org/pandas-docs/stable/indexing.html#indexing-view-versus-copy\n",
      "  import sys\n",
      "/usr/local/lib/python3.6/site-packages/ipykernel_launcher.py:8: SettingWithCopyWarning: \n",
      "A value is trying to be set on a copy of a slice from a DataFrame.\n",
      "Try using .loc[row_indexer,col_indexer] = value instead\n",
      "\n",
      "See the caveats in the documentation: http://pandas.pydata.org/pandas-docs/stable/indexing.html#indexing-view-versus-copy\n",
      "  \n",
      "/usr/local/lib/python3.6/site-packages/ipykernel_launcher.py:9: SettingWithCopyWarning: \n",
      "A value is trying to be set on a copy of a slice from a DataFrame.\n",
      "Try using .loc[row_indexer,col_indexer] = value instead\n",
      "\n",
      "See the caveats in the documentation: http://pandas.pydata.org/pandas-docs/stable/indexing.html#indexing-view-versus-copy\n",
      "  if __name__ == '__main__':\n"
     ]
    }
   ],
   "source": [
    "historical_data1=clean_date(historical_data1)\n",
    "historical_data2=clean_date(historical_data2)\n",
    "historical_data3=clean_date(historical_data3)\n",
    "historical_data4=clean_date(historical_data4)\n",
    "historical_data5=clean_date(historical_data5)\n",
    "historical_data6=clean_date(historical_data6)\n",
    "historical_data7=clean_date(historical_data7)"
   ]
  },
  {
   "cell_type": "code",
   "execution_count": null,
   "metadata": {
    "collapsed": true
   },
   "outputs": [],
   "source": []
  },
  {
   "cell_type": "code",
   "execution_count": 10,
   "metadata": {
    "collapsed": true
   },
   "outputs": [],
   "source": [
    "Sales_2017=historical_data1.append(historical_data2).append(historical_data3).append(historical_data4).append(historical_data5).append(historical_data6).append(historical_data7)"
   ]
  },
  {
   "cell_type": "code",
   "execution_count": 12,
   "metadata": {},
   "outputs": [
    {
     "data": {
      "text/html": [
       "<div>\n",
       "<style>\n",
       "    .dataframe thead tr:only-child th {\n",
       "        text-align: right;\n",
       "    }\n",
       "\n",
       "    .dataframe thead th {\n",
       "        text-align: left;\n",
       "    }\n",
       "\n",
       "    .dataframe tbody tr th {\n",
       "        vertical-align: top;\n",
       "    }\n",
       "</style>\n",
       "<table border=\"1\" class=\"dataframe\">\n",
       "  <thead>\n",
       "    <tr style=\"text-align: right;\">\n",
       "      <th></th>\n",
       "      <th>location_id</th>\n",
       "      <th>week_end_dt</th>\n",
       "      <th>fiscal_week_nbr</th>\n",
       "      <th>gross_sales_amt</th>\n",
       "      <th>gross_transaction_cnt</th>\n",
       "      <th>class_code_id</th>\n",
       "      <th>class_gross_sales_amt</th>\n",
       "    </tr>\n",
       "  </thead>\n",
       "  <tbody>\n",
       "    <tr>\n",
       "      <th>21838</th>\n",
       "      <td>1</td>\n",
       "      <td>2017-04-08</td>\n",
       "      <td>10</td>\n",
       "      <td>111865.74</td>\n",
       "      <td>3068</td>\n",
       "      <td>11001</td>\n",
       "      <td>1135.92</td>\n",
       "    </tr>\n",
       "    <tr>\n",
       "      <th>21839</th>\n",
       "      <td>1</td>\n",
       "      <td>2017-04-08</td>\n",
       "      <td>10</td>\n",
       "      <td>111865.74</td>\n",
       "      <td>3068</td>\n",
       "      <td>11002</td>\n",
       "      <td>845.72</td>\n",
       "    </tr>\n",
       "    <tr>\n",
       "      <th>21840</th>\n",
       "      <td>1</td>\n",
       "      <td>2017-04-08</td>\n",
       "      <td>10</td>\n",
       "      <td>111865.74</td>\n",
       "      <td>3068</td>\n",
       "      <td>11003</td>\n",
       "      <td>4034.92</td>\n",
       "    </tr>\n",
       "  </tbody>\n",
       "</table>\n",
       "</div>"
      ],
      "text/plain": [
       "       location_id week_end_dt fiscal_week_nbr  gross_sales_amt  \\\n",
       "21838            1  2017-04-08              10        111865.74   \n",
       "21839            1  2017-04-08              10        111865.74   \n",
       "21840            1  2017-04-08              10        111865.74   \n",
       "\n",
       "       gross_transaction_cnt  class_code_id  class_gross_sales_amt  \n",
       "21838                   3068          11001                1135.92  \n",
       "21839                   3068          11002                 845.72  \n",
       "21840                   3068          11003                4034.92  "
      ]
     },
     "execution_count": 12,
     "metadata": {},
     "output_type": "execute_result"
    }
   ],
   "source": [
    "Sales_2017.head(3)"
   ]
  },
  {
   "cell_type": "code",
   "execution_count": null,
   "metadata": {
    "collapsed": true
   },
   "outputs": [],
   "source": []
  },
  {
   "cell_type": "code",
   "execution_count": 13,
   "metadata": {
    "collapsed": true
   },
   "outputs": [],
   "source": [
    "store_DMA=pd.read_excel(\"/home/jian/BigLots/static_files/all_store_DMA_2017.xlsx\")\n",
    "store_DMA=store_DMA[['location_id','DMA']]"
   ]
  },
  {
   "cell_type": "code",
   "execution_count": 14,
   "metadata": {
    "collapsed": true
   },
   "outputs": [],
   "source": [
    "Product_Taxonomy=pd.read_csv(\"/home/jian/BigLots/static_files/MediaStorm Data Extract - Product Taxonomy.txt\",sep=\"|\")\n",
    "Product_Taxonomy=Product_Taxonomy[['class_code_id','department_id']]\n",
    "Product_Taxonomy=Product_Taxonomy.drop_duplicates()\n",
    "Product_Department_Name=pd.read_csv(\"/home/jian/BigLots/static_files/MediaStorm Data Extract - Department Names.txt\",sep=\"|\")\n",
    "Product_Taxonomy=pd.merge(Product_Taxonomy,Product_Department_Name,on=\"department_id\",how=\"left\")"
   ]
  },
  {
   "cell_type": "code",
   "execution_count": null,
   "metadata": {
    "collapsed": true
   },
   "outputs": [],
   "source": []
  },
  {
   "cell_type": "code",
   "execution_count": 15,
   "metadata": {
    "collapsed": true
   },
   "outputs": [],
   "source": [
    "Sales_2017=pd.merge(Sales_2017,Product_Taxonomy,on=\"class_code_id\",how=\"left\")"
   ]
  },
  {
   "cell_type": "code",
   "execution_count": 72,
   "metadata": {
    "collapsed": true
   },
   "outputs": [],
   "source": [
    "Sales_2017_department=Sales_2017.groupby(['location_id','week_end_dt','department_id','department_desc'])['class_gross_sales_amt'].sum().to_frame()\n",
    "Sales_2017_department.reset_index(inplace=True)"
   ]
  },
  {
   "cell_type": "code",
   "execution_count": 73,
   "metadata": {
    "collapsed": true
   },
   "outputs": [],
   "source": [
    "Sales_2017_department_DMA=pd.merge(Sales_2017_department,store_DMA,on=\"location_id\",how=\"left\")"
   ]
  },
  {
   "cell_type": "code",
   "execution_count": 74,
   "metadata": {},
   "outputs": [],
   "source": [
    "Sales_2017_department_DMA_April=Sales_2017_department_DMA.groupby(['DMA','department_desc'])['class_gross_sales_amt'].sum().to_frame().reset_index()"
   ]
  },
  {
   "cell_type": "code",
   "execution_count": 75,
   "metadata": {},
   "outputs": [],
   "source": [
    "Sales_2017_department_DMA_April=Sales_2017_department_DMA_April.sort_values(['DMA','class_gross_sales_amt'],ascending=[True,False])"
   ]
  },
  {
   "cell_type": "code",
   "execution_count": 76,
   "metadata": {},
   "outputs": [],
   "source": [
    "Sales_2017_all_DMA_April=Sales_2017_department_DMA_April.groupby(['DMA'])['class_gross_sales_amt'].sum().to_frame().reset_index()\n",
    "Sales_2017_all_DMA_April.columns=['DMA','Total_Sales']"
   ]
  },
  {
   "cell_type": "code",
   "execution_count": 77,
   "metadata": {
    "collapsed": true
   },
   "outputs": [],
   "source": [
    "Sales_2017_department_DMA_April=pd.merge(Sales_2017_department_DMA_April,Sales_2017_all_DMA_April,on=\"DMA\",how=\"left\")"
   ]
  },
  {
   "cell_type": "code",
   "execution_count": 78,
   "metadata": {},
   "outputs": [],
   "source": [
    "Sales_2017_department_DMA_April['Product_Sales_Pctg']=Sales_2017_department_DMA_April['class_gross_sales_amt']/Sales_2017_department_DMA_April['Total_Sales']\n"
   ]
  },
  {
   "cell_type": "code",
   "execution_count": 79,
   "metadata": {},
   "outputs": [],
   "source": [
    "Df_DMA_Top8_Products=pd.DataFrame(columns=['DMA','Top1_Product','Top1_Share','Top2_Product','Top2_Share','Top3_Product','Top3_Share',\n",
    "                                 'Top4_Product','Top4_Share','Top5_Product','Top5_Share','Top6_Product','Top6_Share',\n",
    "                                 'Top7_Product','Top7_Share','Top8_Product','Top8_Share'])\n",
    "for dma in Sales_2017_department_DMA_April['DMA'].unique():\n",
    "    df=Sales_2017_department_DMA_April[Sales_2017_department_DMA_April['DMA']==dma]\n",
    "    df.reset_index(inplace=True)\n",
    "    del df['index']\n",
    "    df_app=pd.DataFrame(columns=['DMA','Top1_Product','Top1_Share','Top2_Product','Top2_Share','Top3_Product','Top3_Share',\n",
    "                                 'Top4_Product','Top4_Share','Top5_Product','Top5_Share','Top6_Product','Top6_Share',\n",
    "                                 'Top7_Product','Top7_Share','Top8_Product','Top8_Share'],index=[0])\n",
    "    df_app['DMA'][0]=dma\n",
    "    df_app['Top1_Product'][0]=df['department_desc'][0]\n",
    "    df_app['Top1_Share'][0]=df['Product_Sales_Pctg'][0]\n",
    "    df_app['Top2_Product'][0]=df['department_desc'][1]\n",
    "    df_app['Top2_Share'][0]=df['Product_Sales_Pctg'][1]\n",
    "    df_app['Top3_Product'][0]=df['department_desc'][2]\n",
    "    df_app['Top3_Share'][0]=df['Product_Sales_Pctg'][2]\n",
    "    df_app['Top4_Product'][0]=df['department_desc'][3]\n",
    "    df_app['Top4_Share'][0]=df['Product_Sales_Pctg'][3]\n",
    "    df_app['Top5_Product'][0]=df['department_desc'][4]\n",
    "    df_app['Top5_Share'][0]=df['Product_Sales_Pctg'][4]\n",
    "    df_app['Top6_Product'][0]=df['department_desc'][5]\n",
    "    df_app['Top6_Share'][0]=df['Product_Sales_Pctg'][5]\n",
    "    df_app['Top7_Product'][0]=df['department_desc'][6]\n",
    "    df_app['Top7_Share'][0]=df['Product_Sales_Pctg'][6]\n",
    "    df_app['Top8_Product'][0]=df['department_desc'][7]\n",
    "    df_app['Top8_Share'][0]=df['Product_Sales_Pctg'][7]\n",
    "    Df_DMA_Top8_Products=Df_DMA_Top8_Products.append(df_app)\n",
    "    \n",
    "Df_DMA_Top8_Products.reset_index(inplace=True)\n",
    "del Df_DMA_Top8_Products['index']"
   ]
  },
  {
   "cell_type": "code",
   "execution_count": 106,
   "metadata": {},
   "outputs": [],
   "source": [
    "Df_DMA_Top8_Products_Seleceted_13DMAs=Df_DMA_Top8_Products[Df_DMA_Top8_Products['DMA'].isin(DMA_Selected['DMA'])]"
   ]
  },
  {
   "cell_type": "code",
   "execution_count": 107,
   "metadata": {},
   "outputs": [],
   "source": [
    "writer=pd.ExcelWriter(\"/home/jian/Projects/Big_Lots/Q1_Products/BL_April_2017_store_DMA_JL_20180322.xlsx\",engine='xlsxwriter')"
   ]
  },
  {
   "cell_type": "code",
   "execution_count": 108,
   "metadata": {},
   "outputs": [],
   "source": [
    "Df_DMA_Top8_Products_Seleceted_13DMAs.to_excel(writer,\"April_top8_products_13_DMAs\",index=False)\n",
    "Df_DMA_Top8_Products.to_excel(writer,\"April_top8_products_all_DMAs\",index=False)\n",
    "Sales_2017_department_DMA_April.to_excel(writer,\"data_by_DMA_product\",index=False)\n",
    "Sales_2017_department.to_excel(writer,\"data_by_week_store_product\",index=False)"
   ]
  },
  {
   "cell_type": "code",
   "execution_count": 109,
   "metadata": {},
   "outputs": [],
   "source": [
    "writer.save()"
   ]
  },
  {
   "cell_type": "code",
   "execution_count": null,
   "metadata": {
    "collapsed": true
   },
   "outputs": [],
   "source": []
  },
  {
   "cell_type": "code",
   "execution_count": null,
   "metadata": {
    "collapsed": true
   },
   "outputs": [],
   "source": []
  }
 ],
 "metadata": {
  "kernelspec": {
   "display_name": "Python 3",
   "language": "python",
   "name": "python3"
  },
  "language_info": {
   "codemirror_mode": {
    "name": "ipython",
    "version": 3
   },
   "file_extension": ".py",
   "mimetype": "text/x-python",
   "name": "python",
   "nbconvert_exporter": "python",
   "pygments_lexer": "ipython3",
   "version": "3.6.1"
  }
 },
 "nbformat": 4,
 "nbformat_minor": 2
}
