{
 "cells": [
  {
   "cell_type": "code",
   "execution_count": 1,
   "metadata": {},
   "outputs": [
    {
     "name": "stdout",
     "output_type": "stream",
     "text": [
      "2020-02-03 14:47:13.491176\n"
     ]
    },
    {
     "data": {
      "text/plain": [
       "'/home/jian/Projects/Big_Lots/Analysis/2019_Q4/Planner_Request/BR_audience_furniture_browser'"
      ]
     },
     "execution_count": 1,
     "metadata": {},
     "output_type": "execute_result"
    }
   ],
   "source": [
    "import pandas as pd\n",
    "import numpy as np\n",
    "import datetime\n",
    "import os\n",
    "# Confirmed with YG, DCart campaigns after Jan 1 only, 2020-02-03 ~ 1 p.m.\n",
    "print(datetime.datetime.now())\n",
    "os.getcwd()"
   ]
  },
  {
   "cell_type": "code",
   "execution_count": 2,
   "metadata": {},
   "outputs": [
    {
     "data": {
      "text/html": [
       "<div>\n",
       "<style scoped>\n",
       "    .dataframe tbody tr th:only-of-type {\n",
       "        vertical-align: middle;\n",
       "    }\n",
       "\n",
       "    .dataframe tbody tr th {\n",
       "        vertical-align: top;\n",
       "    }\n",
       "\n",
       "    .dataframe thead th {\n",
       "        text-align: right;\n",
       "    }\n",
       "</style>\n",
       "<table border=\"1\" class=\"dataframe\">\n",
       "  <thead>\n",
       "    <tr style=\"text-align: right;\">\n",
       "      <th></th>\n",
       "      <th>Unnamed: 0</th>\n",
       "      <th>Unnamed: 1</th>\n",
       "      <th>Unnamed: 2</th>\n",
       "      <th>StartDate</th>\n",
       "      <th>EndDate</th>\n",
       "      <th>week</th>\n",
       "    </tr>\n",
       "  </thead>\n",
       "  <tbody>\n",
       "    <tr>\n",
       "      <th>0</th>\n",
       "      <td>W1</td>\n",
       "      <td>Weekly</td>\n",
       "      <td>Account1</td>\n",
       "      <td>2019-11-14</td>\n",
       "      <td>2019-11-23</td>\n",
       "      <td>Weekly_W1</td>\n",
       "    </tr>\n",
       "    <tr>\n",
       "      <th>1</th>\n",
       "      <td>W1</td>\n",
       "      <td>Nonweekly</td>\n",
       "      <td>Account2</td>\n",
       "      <td>2019-11-18</td>\n",
       "      <td>2019-11-23</td>\n",
       "      <td>Nonweekly_W1</td>\n",
       "    </tr>\n",
       "  </tbody>\n",
       "</table>\n",
       "</div>"
      ],
      "text/plain": [
       "  Unnamed: 0 Unnamed: 1 Unnamed: 2   StartDate     EndDate          week\n",
       "0         W1     Weekly   Account1  2019-11-14  2019-11-23     Weekly_W1\n",
       "1         W1  Nonweekly   Account2  2019-11-18  2019-11-23  Nonweekly_W1"
      ]
     },
     "execution_count": 2,
     "metadata": {},
     "output_type": "execute_result"
    }
   ],
   "source": [
    "# Download through the shared GoogleSheet, 2020-02-03 around 11 a.m.\n",
    "df_campaing_dates=pd.read_excel(\"/home/jian/Projects/Big_Lots/Analysis/2019_Q4/Planner_Request/BR_audience_furniture_browser/by_overlap_with_dcart/D Cart Weekly Budget 1121.xlsx\",\n",
    "                               dtype=str,sheet_name=\"Sheet2\",skiprows=1)\n",
    "df_campaing_dates=df_campaing_dates.iloc[:,:5]\n",
    "df_campaing_dates['Unnamed: 0']=df_campaing_dates['Unnamed: 0'].fillna(method='ffill')\n",
    "df_campaing_dates['Unnamed: 1']=df_campaing_dates['Unnamed: 1'].fillna(method='ffill')\n",
    "df_campaing_dates['Unnamed: 0']=df_campaing_dates['Unnamed: 0'].str.capitalize()\n",
    "df_campaing_dates['Unnamed: 1']=df_campaing_dates['Unnamed: 1'].str.capitalize()\n",
    "\n",
    "df_campaing_dates['week']=df_campaing_dates['Unnamed: 1']+\"_\"+df_campaing_dates['Unnamed: 0']\n",
    "\n",
    "df_campaing_dates['StartDate']=df_campaing_dates['StartDate'].fillna(\"nan\")\n",
    "df_campaing_dates['EndDate']=df_campaing_dates['EndDate'].fillna(\"nan\")\n",
    "\n",
    "df_campaing_dates['StartDate']=df_campaing_dates['StartDate'].apply(lambda x: x[:10])\n",
    "df_campaing_dates['EndDate']=df_campaing_dates['EndDate'].apply(lambda x: x[:10])\n",
    "df_campaing_dates.head(2)"
   ]
  },
  {
   "cell_type": "code",
   "execution_count": 3,
   "metadata": {},
   "outputs": [
    {
     "name": "stdout",
     "output_type": "stream",
     "text": [
      "(13, 6)\n"
     ]
    },
    {
     "data": {
      "text/plain": [
       "13"
      ]
     },
     "execution_count": 3,
     "metadata": {},
     "output_type": "execute_result"
    }
   ],
   "source": [
    "# df_2_weeks_campaign=df_campaing_dates[df_campaing_dates['EndDate']>=\"2020-01-01\"]\n",
    "df_2_weeks_campaign=df_campaing_dates[pd.notnull(df_campaing_dates['StartDate'])]\n",
    "df_2_weeks_campaign=df_2_weeks_campaign[df_2_weeks_campaign['StartDate']>=\"2020-01-01\"]\n",
    "df_2_weeks_campaign=df_2_weeks_campaign[df_2_weeks_campaign['StartDate']<=\"2020-01-20\"]\n",
    "\n",
    "# Start after 200101\n",
    "\n",
    "print(df_2_weeks_campaign.shape)\n",
    "list_needed_weeks=df_2_weeks_campaign['week'].tolist()\n",
    "len(set(list_needed_weeks))"
   ]
  },
  {
   "cell_type": "code",
   "execution_count": 4,
   "metadata": {},
   "outputs": [
    {
     "name": "stdout",
     "output_type": "stream",
     "text": [
      "(179247, 3)\n",
      "179247\n"
     ]
    },
    {
     "data": {
      "text/html": [
       "<div>\n",
       "<style scoped>\n",
       "    .dataframe tbody tr th:only-of-type {\n",
       "        vertical-align: middle;\n",
       "    }\n",
       "\n",
       "    .dataframe tbody tr th {\n",
       "        vertical-align: top;\n",
       "    }\n",
       "\n",
       "    .dataframe thead th {\n",
       "        text-align: right;\n",
       "    }\n",
       "</style>\n",
       "<table border=\"1\" class=\"dataframe\">\n",
       "  <thead>\n",
       "    <tr style=\"text-align: right;\">\n",
       "      <th></th>\n",
       "      <th>customer_id_hashed</th>\n",
       "      <th>week</th>\n",
       "      <th>campaign_list</th>\n",
       "    </tr>\n",
       "  </thead>\n",
       "  <tbody>\n",
       "    <tr>\n",
       "      <th>0</th>\n",
       "      <td>00000435bfb3bf42e3beb4c9b3942c552d09f0e49e5a75...</td>\n",
       "      <td>Weekly_W4, Weekly_W6, Nonshopper_W1, Nonshoppe...</td>\n",
       "      <td>[Weekly_W4,  Weekly_W6,  Nonshopper_W1,  Nonsh...</td>\n",
       "    </tr>\n",
       "    <tr>\n",
       "      <th>1</th>\n",
       "      <td>0001177d3a03ae7f2c1ed77ef69820b92321baa6981245...</td>\n",
       "      <td>Weekly_W8</td>\n",
       "      <td>[Weekly_W8]</td>\n",
       "    </tr>\n",
       "  </tbody>\n",
       "</table>\n",
       "</div>"
      ],
      "text/plain": [
       "                                  customer_id_hashed  \\\n",
       "0  00000435bfb3bf42e3beb4c9b3942c552d09f0e49e5a75...   \n",
       "1  0001177d3a03ae7f2c1ed77ef69820b92321baa6981245...   \n",
       "\n",
       "                                                week  \\\n",
       "0  Weekly_W4, Weekly_W6, Nonshopper_W1, Nonshoppe...   \n",
       "1                                          Weekly_W8   \n",
       "\n",
       "                                       campaign_list  \n",
       "0  [Weekly_W4,  Weekly_W6,  Nonshopper_W1,  Nonsh...  \n",
       "1                                        [Weekly_W8]  "
      ]
     },
     "execution_count": 4,
     "metadata": {},
     "output_type": "execute_result"
    }
   ],
   "source": [
    "df_overlapped_ids=pd.read_csv(\"./by_overlap_with_dcart/overlapwithdcart.csv\",dtype=str)\n",
    "df_overlapped_ids['campaign_list']=df_overlapped_ids['week'].apply(lambda x: x.split(\",\"))\n",
    "print(df_overlapped_ids.shape)\n",
    "print(df_overlapped_ids['customer_id_hashed'].nunique())\n",
    "\n",
    "df_overlapped_ids.head(2)"
   ]
  },
  {
   "cell_type": "code",
   "execution_count": 5,
   "metadata": {},
   "outputs": [
    {
     "name": "stdout",
     "output_type": "stream",
     "text": [
      "(489861, 5) (54430, 5)\n"
     ]
    },
    {
     "data": {
      "text/html": [
       "<div>\n",
       "<style scoped>\n",
       "    .dataframe tbody tr th:only-of-type {\n",
       "        vertical-align: middle;\n",
       "    }\n",
       "\n",
       "    .dataframe tbody tr th {\n",
       "        vertical-align: top;\n",
       "    }\n",
       "\n",
       "    .dataframe thead th {\n",
       "        text-align: right;\n",
       "    }\n",
       "</style>\n",
       "<table border=\"1\" class=\"dataframe\">\n",
       "  <thead>\n",
       "    <tr style=\"text-align: right;\">\n",
       "      <th></th>\n",
       "      <th>index</th>\n",
       "      <th>customersummary_mastercustomerid</th>\n",
       "      <th>Email</th>\n",
       "      <th>customer_id_hashed</th>\n",
       "      <th>execution_id</th>\n",
       "    </tr>\n",
       "  </thead>\n",
       "  <tbody>\n",
       "    <tr>\n",
       "      <th>0</th>\n",
       "      <td>0</td>\n",
       "      <td>KFK_0_8017815</td>\n",
       "      <td>ad5f11c041c89839c09204f9ce34f5d97ea8ddaa81f1f0...</td>\n",
       "      <td>83228bfe2f6d62bb0218751ceb63aa8551e9fd89a999f1...</td>\n",
       "      <td>1578944138509</td>\n",
       "    </tr>\n",
       "    <tr>\n",
       "      <th>1</th>\n",
       "      <td>2</td>\n",
       "      <td>KFK_0_37564566</td>\n",
       "      <td>c612188e441b8fef2e5eed0c918fec1d12e23f801b9e69...</td>\n",
       "      <td>94245ca46539f480c2490a5e3373f237dbc455094f85b7...</td>\n",
       "      <td>1578944138509</td>\n",
       "    </tr>\n",
       "  </tbody>\n",
       "</table>\n",
       "</div>"
      ],
      "text/plain": [
       "  index customersummary_mastercustomerid  \\\n",
       "0     0                    KFK_0_8017815   \n",
       "1     2                   KFK_0_37564566   \n",
       "\n",
       "                                               Email  \\\n",
       "0  ad5f11c041c89839c09204f9ce34f5d97ea8ddaa81f1f0...   \n",
       "1  c612188e441b8fef2e5eed0c918fec1d12e23f801b9e69...   \n",
       "\n",
       "                                  customer_id_hashed   execution_id  \n",
       "0  83228bfe2f6d62bb0218751ceb63aa8551e9fd89a999f1...  1578944138509  \n",
       "1  94245ca46539f480c2490a5e3373f237dbc455094f85b7...  1578944138509  "
      ]
     },
     "execution_count": 5,
     "metadata": {},
     "output_type": "execute_result"
    }
   ],
   "source": [
    "df_test=pd.read_csv(\"./BL_furniture_browser_test_group_JL_+str(datetime.datetime.now().date()).csv\",dtype=str)\n",
    "df_control=pd.read_csv(\"./BL_furniture_browser_control_group_JL_+str(datetime.datetime.now().date()).csv\",dtype=str)\n",
    "\n",
    "print(df_test.shape,df_control.shape)\n",
    "\n",
    "df_test.head(2)"
   ]
  },
  {
   "cell_type": "code",
   "execution_count": 6,
   "metadata": {},
   "outputs": [
    {
     "name": "stdout",
     "output_type": "stream",
     "text": [
      "(544291, 2) 544291\n"
     ]
    }
   ],
   "source": [
    "df_group_1=df_test[['customer_id_hashed']].drop_duplicates()\n",
    "df_group_1['group']='test'\n",
    "df_group_2=df_control[['customer_id_hashed']].drop_duplicates()\n",
    "df_group_2['group']='control'\n",
    "\n",
    "df_group=df_group_1.append(df_group_2)\n",
    "print(df_group.shape,df_group['customer_id_hashed'].nunique())\n",
    "\n",
    "df_total_id=df_group.groupby(['group'])['customer_id_hashed'].count().to_frame().reset_index().rename(columns={\"customer_id_hashed\":\"total_ids\"})"
   ]
  },
  {
   "cell_type": "code",
   "execution_count": 7,
   "metadata": {},
   "outputs": [
    {
     "name": "stdout",
     "output_type": "stream",
     "text": [
      "(544291, 5)\n"
     ]
    }
   ],
   "source": [
    "df_group=pd.merge(df_group,df_overlapped_ids,on=\"customer_id_hashed\",how=\"left\")\n",
    "df_group['DCart_Type_all']=np.where(pd.isnull(df_group['week']),\"NotDCart_but_AgilOne\",\"OverlapWithDCart\")\n",
    "print(df_group.shape)"
   ]
  },
  {
   "cell_type": "code",
   "execution_count": 8,
   "metadata": {},
   "outputs": [
    {
     "name": "stdout",
     "output_type": "stream",
     "text": [
      "150098\n",
      "counter_InSelectedCampaign 23598\n",
      "counter_OtherDCartCampaign 126500\n"
     ]
    }
   ],
   "source": [
    "df_in_DCart=df_group[df_group['DCart_Type_all']==\"OverlapWithDCart\"]\n",
    "dict_id_DCart_selected_campaign_weeks=df_in_DCart.set_index(\"customer_id_hashed\").to_dict()[\"week\"]\n",
    "counter_InSelectedCampaign=0\n",
    "counter_OtherDCartCampaign=0\n",
    "\n",
    "for hashed_id_key in dict_id_DCart_selected_campaign_weeks.keys():\n",
    "    for week_name in list_needed_weeks:\n",
    "        if week_name in dict_id_DCart_selected_campaign_weeks[hashed_id_key]:\n",
    "            dict_id_DCart_selected_campaign_weeks.update({hashed_id_key:\"In_DCart2020\"})\n",
    "            counter_InSelectedCampaign+=1\n",
    "    if dict_id_DCart_selected_campaign_weeks[hashed_id_key]!=\"In_DCart2020\":\n",
    "        dict_id_DCart_selected_campaign_weeks.update({hashed_id_key:\"Not_DCart2020\"})\n",
    "        counter_OtherDCartCampaign+=1\n",
    "\n",
    "set(dict_id_DCart_selected_campaign_weeks.values())\n",
    "print(len(dict_id_DCart_selected_campaign_weeks))\n",
    "print(\"counter_InSelectedCampaign\",counter_InSelectedCampaign)\n",
    "print(\"counter_OtherDCartCampaign\",counter_OtherDCartCampaign)"
   ]
  },
  {
   "cell_type": "code",
   "execution_count": 9,
   "metadata": {},
   "outputs": [
    {
     "data": {
      "text/plain": [
       "\"\\ndf_group_merge=df_group[['customer_id_hashed','group','DCart_Type_all','DCart_Type_2020']]\\n\\ndf_group_merge.shape\\n\""
      ]
     },
     "execution_count": 9,
     "metadata": {},
     "output_type": "execute_result"
    }
   ],
   "source": [
    "df_group['DCart_Type_2020']=df_group['customer_id_hashed'].apply(lambda x: dict_id_DCart_selected_campaign_weeks[x] if x in dict_id_DCart_selected_campaign_weeks.keys() else \"NotDCart_but_AgilOne\")\n",
    "\n",
    "'''\n",
    "df_group_merge=df_group[['customer_id_hashed','group','DCart_Type_all','DCart_Type_2020']]\n",
    "\n",
    "df_group_merge.shape\n",
    "'''"
   ]
  },
  {
   "cell_type": "code",
   "execution_count": 10,
   "metadata": {},
   "outputs": [
    {
     "name": "stdout",
     "output_type": "stream",
     "text": [
      "544291\n"
     ]
    },
    {
     "data": {
      "text/html": [
       "<div>\n",
       "<style scoped>\n",
       "    .dataframe tbody tr th:only-of-type {\n",
       "        vertical-align: middle;\n",
       "    }\n",
       "\n",
       "    .dataframe tbody tr th {\n",
       "        vertical-align: top;\n",
       "    }\n",
       "\n",
       "    .dataframe thead th {\n",
       "        text-align: right;\n",
       "    }\n",
       "</style>\n",
       "<table border=\"1\" class=\"dataframe\">\n",
       "  <thead>\n",
       "    <tr style=\"text-align: right;\">\n",
       "      <th></th>\n",
       "      <th>group</th>\n",
       "      <th>DCart_Type_all</th>\n",
       "      <th>customer_id_hashed</th>\n",
       "    </tr>\n",
       "  </thead>\n",
       "  <tbody>\n",
       "    <tr>\n",
       "      <th>0</th>\n",
       "      <td>control</td>\n",
       "      <td>NotDCart_but_AgilOne</td>\n",
       "      <td>39454</td>\n",
       "    </tr>\n",
       "    <tr>\n",
       "      <th>1</th>\n",
       "      <td>control</td>\n",
       "      <td>OverlapWithDCart</td>\n",
       "      <td>14976</td>\n",
       "    </tr>\n",
       "    <tr>\n",
       "      <th>2</th>\n",
       "      <td>test</td>\n",
       "      <td>NotDCart_but_AgilOne</td>\n",
       "      <td>354739</td>\n",
       "    </tr>\n",
       "    <tr>\n",
       "      <th>3</th>\n",
       "      <td>test</td>\n",
       "      <td>OverlapWithDCart</td>\n",
       "      <td>135122</td>\n",
       "    </tr>\n",
       "  </tbody>\n",
       "</table>\n",
       "</div>"
      ],
      "text/plain": [
       "     group        DCart_Type_all  customer_id_hashed\n",
       "0  control  NotDCart_but_AgilOne               39454\n",
       "1  control      OverlapWithDCart               14976\n",
       "2     test  NotDCart_but_AgilOne              354739\n",
       "3     test      OverlapWithDCart              135122"
      ]
     },
     "execution_count": 10,
     "metadata": {},
     "output_type": "execute_result"
    }
   ],
   "source": [
    "df_total_id_overall=df_group.groupby([\"group\",\"DCart_Type_all\"])['customer_id_hashed'].count().to_frame().reset_index()\n",
    "print(df_total_id_overall['customer_id_hashed'].sum())\n",
    "df_total_id_overall"
   ]
  },
  {
   "cell_type": "code",
   "execution_count": 11,
   "metadata": {},
   "outputs": [
    {
     "name": "stdout",
     "output_type": "stream",
     "text": [
      "544291\n"
     ]
    },
    {
     "data": {
      "text/html": [
       "<div>\n",
       "<style scoped>\n",
       "    .dataframe tbody tr th:only-of-type {\n",
       "        vertical-align: middle;\n",
       "    }\n",
       "\n",
       "    .dataframe tbody tr th {\n",
       "        vertical-align: top;\n",
       "    }\n",
       "\n",
       "    .dataframe thead th {\n",
       "        text-align: right;\n",
       "    }\n",
       "</style>\n",
       "<table border=\"1\" class=\"dataframe\">\n",
       "  <thead>\n",
       "    <tr style=\"text-align: right;\">\n",
       "      <th></th>\n",
       "      <th>group</th>\n",
       "      <th>DCart_Type_2020</th>\n",
       "      <th>customer_id_hashed</th>\n",
       "    </tr>\n",
       "  </thead>\n",
       "  <tbody>\n",
       "    <tr>\n",
       "      <th>0</th>\n",
       "      <td>control</td>\n",
       "      <td>In_DCart2020</td>\n",
       "      <td>2312</td>\n",
       "    </tr>\n",
       "    <tr>\n",
       "      <th>1</th>\n",
       "      <td>control</td>\n",
       "      <td>NotDCart_but_AgilOne</td>\n",
       "      <td>39454</td>\n",
       "    </tr>\n",
       "    <tr>\n",
       "      <th>2</th>\n",
       "      <td>control</td>\n",
       "      <td>Not_DCart2020</td>\n",
       "      <td>12664</td>\n",
       "    </tr>\n",
       "    <tr>\n",
       "      <th>3</th>\n",
       "      <td>test</td>\n",
       "      <td>In_DCart2020</td>\n",
       "      <td>21286</td>\n",
       "    </tr>\n",
       "    <tr>\n",
       "      <th>4</th>\n",
       "      <td>test</td>\n",
       "      <td>NotDCart_but_AgilOne</td>\n",
       "      <td>354739</td>\n",
       "    </tr>\n",
       "    <tr>\n",
       "      <th>5</th>\n",
       "      <td>test</td>\n",
       "      <td>Not_DCart2020</td>\n",
       "      <td>113836</td>\n",
       "    </tr>\n",
       "  </tbody>\n",
       "</table>\n",
       "</div>"
      ],
      "text/plain": [
       "     group       DCart_Type_2020  customer_id_hashed\n",
       "0  control          In_DCart2020                2312\n",
       "1  control  NotDCart_but_AgilOne               39454\n",
       "2  control         Not_DCart2020               12664\n",
       "3     test          In_DCart2020               21286\n",
       "4     test  NotDCart_but_AgilOne              354739\n",
       "5     test         Not_DCart2020              113836"
      ]
     },
     "execution_count": 11,
     "metadata": {},
     "output_type": "execute_result"
    }
   ],
   "source": [
    "df_total_id_2020=df_group.groupby([\"group\",\"DCart_Type_2020\"])['customer_id_hashed'].count().to_frame().reset_index()\n",
    "print(df_total_id_2020['customer_id_hashed'].sum())\n",
    "df_total_id_2020"
   ]
  },
  {
   "cell_type": "markdown",
   "metadata": {},
   "source": [
    "# 1. Overall"
   ]
  },
  {
   "cell_type": "code",
   "execution_count": 12,
   "metadata": {},
   "outputs": [
    {
     "name": "stdout",
     "output_type": "stream",
     "text": [
      "(179247, 6)\n"
     ]
    },
    {
     "data": {
      "text/html": [
       "<div>\n",
       "<style scoped>\n",
       "    .dataframe tbody tr th:only-of-type {\n",
       "        vertical-align: middle;\n",
       "    }\n",
       "\n",
       "    .dataframe tbody tr th {\n",
       "        vertical-align: top;\n",
       "    }\n",
       "\n",
       "    .dataframe thead th {\n",
       "        text-align: right;\n",
       "    }\n",
       "</style>\n",
       "<table border=\"1\" class=\"dataframe\">\n",
       "  <thead>\n",
       "    <tr style=\"text-align: right;\">\n",
       "      <th></th>\n",
       "      <th>customersummary_mastercustomerid</th>\n",
       "      <th>customersummary_emailhash</th>\n",
       "      <th>customer_id_hashed</th>\n",
       "      <th>execution_id</th>\n",
       "      <th>week</th>\n",
       "      <th>campaign_list</th>\n",
       "    </tr>\n",
       "  </thead>\n",
       "  <tbody>\n",
       "    <tr>\n",
       "      <th>0</th>\n",
       "      <td>KFK_0_8017815</td>\n",
       "      <td>ad5f11c041c89839c09204f9ce34f5d97ea8ddaa81f1f0...</td>\n",
       "      <td>83228bfe2f6d62bb0218751ceb63aa8551e9fd89a999f1...</td>\n",
       "      <td>1578944138509</td>\n",
       "      <td>Nonshopper_W1, Nonshopper_W2, Nonshopper_W4, N...</td>\n",
       "      <td>[Nonshopper_W1,  Nonshopper_W2,  Nonshopper_W4...</td>\n",
       "    </tr>\n",
       "    <tr>\n",
       "      <th>1</th>\n",
       "      <td>KFK_0_39127329</td>\n",
       "      <td>f3bc025a0bb51d1b097ea5a956357114a7948145fdd506...</td>\n",
       "      <td>68d99d05642aef443fe7f99c278f971619dd50fbcfa0c3...</td>\n",
       "      <td>1578944138509</td>\n",
       "      <td>NaN</td>\n",
       "      <td>NaN</td>\n",
       "    </tr>\n",
       "  </tbody>\n",
       "</table>\n",
       "</div>"
      ],
      "text/plain": [
       "  customersummary_mastercustomerid  \\\n",
       "0                    KFK_0_8017815   \n",
       "1                   KFK_0_39127329   \n",
       "\n",
       "                           customersummary_emailhash  \\\n",
       "0  ad5f11c041c89839c09204f9ce34f5d97ea8ddaa81f1f0...   \n",
       "1  f3bc025a0bb51d1b097ea5a956357114a7948145fdd506...   \n",
       "\n",
       "                                  customer_id_hashed   execution_id  \\\n",
       "0  83228bfe2f6d62bb0218751ceb63aa8551e9fd89a999f1...  1578944138509   \n",
       "1  68d99d05642aef443fe7f99c278f971619dd50fbcfa0c3...  1578944138509   \n",
       "\n",
       "                                                week  \\\n",
       "0  Nonshopper_W1, Nonshopper_W2, Nonshopper_W4, N...   \n",
       "1                                                NaN   \n",
       "\n",
       "                                       campaign_list  \n",
       "0  [Nonshopper_W1,  Nonshopper_W2,  Nonshopper_W4...  \n",
       "1                                                NaN  "
      ]
     },
     "execution_count": 12,
     "metadata": {},
     "output_type": "execute_result"
    }
   ],
   "source": [
    "# QC purpose only\n",
    "\n",
    "df_recevied_AgilOne=pd.read_csv(\"/home/jian/BigLots/AgilOne/Division_9_Browse_BigLots_20200113073732.csv\",dtype=str)\n",
    "df_recevied_AgilOne=df_recevied_AgilOne.rename(columns={\"customersummary_c_primaryscnhash\":\"customer_id_hashed\"})\n",
    "df_recevied_AgilOne=pd.merge(df_recevied_AgilOne,df_overlapped_ids,on=\"customer_id_hashed\",how=\"left\")\n",
    "print(df_recevied_AgilOne[pd.notnull(df_recevied_AgilOne['week'])].shape)\n",
    "df_recevied_AgilOne.head(2)"
   ]
  },
  {
   "cell_type": "code",
   "execution_count": 13,
   "metadata": {},
   "outputs": [],
   "source": [
    "df_sales_by_day_1=pd.read_table(\"/home/jian/BigLots/2020_by_weeks/MediaStorm_2020-01-18/MediaStormDailySales20200121-111749-649.txt\",\n",
    "                                sep=\"|\",dtype=str)\n",
    "df_sales_by_day_2=pd.read_table(\"/home/jian/BigLots/2020_by_weeks/MediaStorm_2020-01-25/MediaStormDailySales20200128-111758-074.txt\",\n",
    "                                sep=\"|\",dtype=str)\n",
    "df_sales_by_day=df_sales_by_day_1.append(df_sales_by_day_2)\n",
    "\n",
    "del df_sales_by_day_1\n",
    "del df_sales_by_day_2\n",
    "\n",
    "df_group=df_group[['customer_id_hashed','group','DCart_Type_all','DCart_Type_2020']]"
   ]
  },
  {
   "cell_type": "code",
   "execution_count": 14,
   "metadata": {},
   "outputs": [],
   "source": [
    "df_sales_by_day['item_transaction_amt']=df_sales_by_day['item_transaction_amt'].astype(float)\n",
    "df_sales_by_day=df_sales_by_day[pd.notnull(df_sales_by_day['customer_id_hashed'])]\n",
    "df_sales_by_day=pd.merge(df_sales_by_day,df_group,on=\"customer_id_hashed\",how=\"left\")\n",
    "df_sales_by_day['group']=df_sales_by_day['group'].fillna('others')\n",
    "df_sales_by_day['DCart_Type_all']=df_sales_by_day['DCart_Type_all'].fillna('others')\n",
    "df_sales_by_day['DCart_Type_2020']=df_sales_by_day['DCart_Type_2020'].fillna('others')\n",
    "\n"
   ]
  },
  {
   "cell_type": "code",
   "execution_count": 15,
   "metadata": {},
   "outputs": [],
   "source": [
    "df_taxonomy_div=pd.read_table(\"/home/jian/BigLots/static_files/ProductTaxonomy/MediaStormProductTaxonomy20200101-135600-916.txt\",dtype=str,sep=\"|\")\n",
    "df_taxonomy_div=df_taxonomy_div[['division_id','class_code_id','subclass_id']].drop_duplicates()\n",
    "\n",
    "df_sales_by_day=pd.merge(df_sales_by_day,df_taxonomy_div,on=['class_code_id','subclass_id'],how=\"left\")\n",
    "# df_sales_by_day['store_type']=np.where(df_sales_by_day['location_id']==\"6990\",\"online\",\"instore\")"
   ]
  },
  {
   "cell_type": "code",
   "execution_count": 16,
   "metadata": {},
   "outputs": [
    {
     "data": {
      "text/plain": [
       "array(['others', 'NotDCart_but_AgilOne', 'OverlapWithDCart'], dtype=object)"
      ]
     },
     "execution_count": 16,
     "metadata": {},
     "output_type": "execute_result"
    }
   ],
   "source": [
    "df_sales_by_day['DCart_Type_all'].unique()"
   ]
  },
  {
   "cell_type": "code",
   "execution_count": 17,
   "metadata": {},
   "outputs": [
    {
     "data": {
      "text/plain": [
       "array(['others', 'NotDCart_but_AgilOne', 'Not_DCart2020', 'In_DCart2020'],\n",
       "      dtype=object)"
      ]
     },
     "execution_count": 17,
     "metadata": {},
     "output_type": "execute_result"
    }
   ],
   "source": [
    "df_sales_by_day['DCart_Type_2020'].unique()"
   ]
  },
  {
   "cell_type": "code",
   "execution_count": 18,
   "metadata": {},
   "outputs": [
    {
     "data": {
      "text/html": [
       "<div>\n",
       "<style scoped>\n",
       "    .dataframe tbody tr th:only-of-type {\n",
       "        vertical-align: middle;\n",
       "    }\n",
       "\n",
       "    .dataframe tbody tr th {\n",
       "        vertical-align: top;\n",
       "    }\n",
       "\n",
       "    .dataframe thead th {\n",
       "        text-align: right;\n",
       "    }\n",
       "</style>\n",
       "<table border=\"1\" class=\"dataframe\">\n",
       "  <thead>\n",
       "    <tr style=\"text-align: right;\">\n",
       "      <th></th>\n",
       "      <th>location_id</th>\n",
       "      <th>transaction_dt</th>\n",
       "      <th>transaction_id</th>\n",
       "      <th>customer_id_hashed</th>\n",
       "      <th>class_code_id</th>\n",
       "      <th>subclass_id</th>\n",
       "      <th>item_id</th>\n",
       "      <th>item_transaction_units</th>\n",
       "      <th>item_transaction_amt</th>\n",
       "      <th>group</th>\n",
       "      <th>DCart_Type_all</th>\n",
       "      <th>DCart_Type_2020</th>\n",
       "      <th>division_id</th>\n",
       "    </tr>\n",
       "  </thead>\n",
       "  <tbody>\n",
       "    <tr>\n",
       "      <th>0</th>\n",
       "      <td>1027</td>\n",
       "      <td>2020-01-18</td>\n",
       "      <td>2108</td>\n",
       "      <td>51cc9db6c31bf222baea4e50b9a6b1be2c7c4ec833bcfe...</td>\n",
       "      <td>14001</td>\n",
       "      <td>1</td>\n",
       "      <td>140008972</td>\n",
       "      <td>1</td>\n",
       "      <td>1.6</td>\n",
       "      <td>others</td>\n",
       "      <td>others</td>\n",
       "      <td>others</td>\n",
       "      <td>2</td>\n",
       "    </tr>\n",
       "    <tr>\n",
       "      <th>1</th>\n",
       "      <td>5269</td>\n",
       "      <td>2020-01-18</td>\n",
       "      <td>7147</td>\n",
       "      <td>3fb7f19d961a20055d0fb89d584bd36b35f26c56e29e32...</td>\n",
       "      <td>12007</td>\n",
       "      <td>4</td>\n",
       "      <td>810358789</td>\n",
       "      <td>1</td>\n",
       "      <td>2.8</td>\n",
       "      <td>others</td>\n",
       "      <td>others</td>\n",
       "      <td>others</td>\n",
       "      <td>2</td>\n",
       "    </tr>\n",
       "  </tbody>\n",
       "</table>\n",
       "</div>"
      ],
      "text/plain": [
       "  location_id transaction_dt transaction_id  \\\n",
       "0        1027     2020-01-18           2108   \n",
       "1        5269     2020-01-18           7147   \n",
       "\n",
       "                                  customer_id_hashed class_code_id  \\\n",
       "0  51cc9db6c31bf222baea4e50b9a6b1be2c7c4ec833bcfe...         14001   \n",
       "1  3fb7f19d961a20055d0fb89d584bd36b35f26c56e29e32...         12007   \n",
       "\n",
       "  subclass_id    item_id item_transaction_units  item_transaction_amt   group  \\\n",
       "0           1  140008972                      1                   1.6  others   \n",
       "1           4  810358789                      1                   2.8  others   \n",
       "\n",
       "  DCart_Type_all DCart_Type_2020 division_id  \n",
       "0         others          others           2  \n",
       "1         others          others           2  "
      ]
     },
     "execution_count": 18,
     "metadata": {},
     "output_type": "execute_result"
    }
   ],
   "source": [
    "df_sales_by_day.head(2)"
   ]
  },
  {
   "cell_type": "markdown",
   "metadata": {},
   "source": [
    "# By_Day, Overall DCartOverlap"
   ]
  },
  {
   "cell_type": "code",
   "execution_count": 19,
   "metadata": {},
   "outputs": [],
   "source": [
    "agg_fun={\"customer_id_hashed\":\"nunique\",\"item_transaction_amt\":\"sum\"}\n",
    "df_total_sales=df_sales_by_day.groupby(['transaction_dt','group','DCart_Type_all'])['customer_id_hashed','item_transaction_amt'].agg(agg_fun).reset_index()\n",
    "df_total_trans=df_sales_by_day[['group','DCart_Type_all','location_id','transaction_dt','transaction_id','customer_id_hashed']].drop_duplicates()\n",
    "df_total_trans['trans']=1\n",
    "df_total_trans=df_total_trans.groupby(['transaction_dt','DCart_Type_all','group'])['trans'].sum().to_frame().reset_index()\n",
    "df_total=pd.merge(df_total_sales,df_total_trans,on=['transaction_dt','DCart_Type_all','group'],how=\"outer\")\n",
    "df_total=df_total.rename(columns={\"customer_id_hashed\":\"total_shoppers\",\"item_transaction_amt\":\"total_sales\",\"trans\":\"total_trans\"})\n",
    "df_total['total_AOV']=df_total['total_sales']/df_total['total_trans']\n",
    "\n",
    "df_division_sales=df_sales_by_day.groupby(['transaction_dt','group','DCart_Type_all','division_id'])['customer_id_hashed','item_transaction_amt'].agg(agg_fun).reset_index()\n",
    "df_division_trans=df_sales_by_day[['group','DCart_Type_all','location_id','transaction_dt','transaction_id','customer_id_hashed','division_id']].drop_duplicates()\n",
    "df_division_trans['trans']=1\n",
    "df_division_trans=df_division_trans.groupby(['transaction_dt','DCart_Type_all','group','division_id'])['trans'].sum().to_frame().reset_index()\n"
   ]
  },
  {
   "cell_type": "code",
   "execution_count": 20,
   "metadata": {},
   "outputs": [],
   "source": [
    "df_division=pd.merge(df_division_sales,df_division_trans,on=['transaction_dt','DCart_Type_all','group','division_id'],how=\"outer\")\n",
    "df_division['AOV']=df_division['item_transaction_amt']/df_division['trans']\n",
    "df_division=df_division.rename(columns={\"customer_id_hashed\":\"division_shoppers\",\"item_transaction_amt\":\"division_sales\",\"trans\":\"division_trans\",\"AOV\":\"division_AOV\"})\n",
    "\n",
    "df_division=df_division.pivot_table(index=['transaction_dt','DCart_Type_all','group'],columns='division_id',values=['division_shoppers','division_sales','division_trans',\"division_AOV\"]).reset_index()\n",
    "\n",
    "new_cols=[]\n",
    "for col in df_division.columns.tolist():\n",
    "    if not col[1]:\n",
    "        new_cols.append(col[0])\n",
    "    else:\n",
    "        new_cols.append(\"division_\"+col[1]+\"_\"+col[0].split(\"_\")[1])\n",
    "df_division.columns=new_cols\n",
    "\n",
    "new_cols=['transaction_dt','group','DCart_Type_all']\n",
    "for i in range(10):\n",
    "    new_cols.append(\"division_\"+str(i)+\"_shoppers\")\n",
    "    new_cols.append(\"division_\"+str(i)+\"_sales\")\n",
    "    new_cols.append(\"division_\"+str(i)+\"_trans\")\n",
    "    new_cols.append(\"division_\"+str(i)+\"_AOV\")\n",
    "new_cols=[x for x in new_cols if x in df_division.columns.tolist()]    \n",
    "df_division=df_division[new_cols]"
   ]
  },
  {
   "cell_type": "code",
   "execution_count": 21,
   "metadata": {},
   "outputs": [],
   "source": [
    "pd.options.display.max_columns=99\n",
    "\n",
    "df_output_overall_dcart=pd.merge(df_total,df_division,on=['transaction_dt','group','DCart_Type_all'],how=\"outer\")\n",
    "\n",
    "df_output_overall_dcart=pd.merge(df_total_id_overall,df_output_overall_dcart,on=[\"group\",'DCart_Type_all'],how=\"outer\")\n",
    "df_output_overall_dcart=df_output_overall_dcart.sort_values([\"transaction_dt\",\"group\",'DCart_Type_all'])\n"
   ]
  },
  {
   "cell_type": "code",
   "execution_count": 27,
   "metadata": {},
   "outputs": [
    {
     "data": {
      "text/html": [
       "<div>\n",
       "<style scoped>\n",
       "    .dataframe tbody tr th:only-of-type {\n",
       "        vertical-align: middle;\n",
       "    }\n",
       "\n",
       "    .dataframe tbody tr th {\n",
       "        vertical-align: top;\n",
       "    }\n",
       "\n",
       "    .dataframe thead th {\n",
       "        text-align: right;\n",
       "    }\n",
       "</style>\n",
       "<table border=\"1\" class=\"dataframe\">\n",
       "  <thead>\n",
       "    <tr style=\"text-align: right;\">\n",
       "      <th></th>\n",
       "      <th>group</th>\n",
       "      <th>DCart_Type_all</th>\n",
       "      <th>customer_id_hashed</th>\n",
       "      <th>transaction_dt</th>\n",
       "      <th>total_shoppers</th>\n",
       "      <th>total_sales</th>\n",
       "      <th>total_trans</th>\n",
       "      <th>total_AOV</th>\n",
       "      <th>division_1_shoppers</th>\n",
       "      <th>division_1_sales</th>\n",
       "      <th>division_1_trans</th>\n",
       "      <th>division_1_AOV</th>\n",
       "      <th>division_2_shoppers</th>\n",
       "      <th>division_2_sales</th>\n",
       "      <th>division_2_trans</th>\n",
       "      <th>division_2_AOV</th>\n",
       "      <th>division_3_shoppers</th>\n",
       "      <th>division_3_sales</th>\n",
       "      <th>division_3_trans</th>\n",
       "      <th>division_3_AOV</th>\n",
       "      <th>division_4_shoppers</th>\n",
       "      <th>division_4_sales</th>\n",
       "      <th>division_4_trans</th>\n",
       "      <th>division_4_AOV</th>\n",
       "      <th>division_5_shoppers</th>\n",
       "      <th>division_5_sales</th>\n",
       "      <th>division_5_trans</th>\n",
       "      <th>division_5_AOV</th>\n",
       "      <th>division_6_shoppers</th>\n",
       "      <th>division_6_sales</th>\n",
       "      <th>division_6_trans</th>\n",
       "      <th>division_6_AOV</th>\n",
       "      <th>division_9_shoppers</th>\n",
       "      <th>division_9_sales</th>\n",
       "      <th>division_9_trans</th>\n",
       "      <th>division_9_AOV</th>\n",
       "    </tr>\n",
       "  </thead>\n",
       "  <tbody>\n",
       "    <tr>\n",
       "      <th>0</th>\n",
       "      <td>control</td>\n",
       "      <td>NotDCart_but_AgilOne</td>\n",
       "      <td>39454.0</td>\n",
       "      <td>2020-01-12</td>\n",
       "      <td>348</td>\n",
       "      <td>26392.05</td>\n",
       "      <td>388</td>\n",
       "      <td>68.020747</td>\n",
       "      <td>202</td>\n",
       "      <td>2065.79</td>\n",
       "      <td>209</td>\n",
       "      <td>9.884163</td>\n",
       "      <td>171</td>\n",
       "      <td>2710.55</td>\n",
       "      <td>174</td>\n",
       "      <td>15.577874</td>\n",
       "      <td>67</td>\n",
       "      <td>700.91</td>\n",
       "      <td>71</td>\n",
       "      <td>9.871972</td>\n",
       "      <td>133</td>\n",
       "      <td>4290.08</td>\n",
       "      <td>141</td>\n",
       "      <td>30.426099</td>\n",
       "      <td>82</td>\n",
       "      <td>1553.04</td>\n",
       "      <td>82</td>\n",
       "      <td>18.939512</td>\n",
       "      <td>79</td>\n",
       "      <td>837.14</td>\n",
       "      <td>80</td>\n",
       "      <td>10.464250</td>\n",
       "      <td>52</td>\n",
       "      <td>14234.19</td>\n",
       "      <td>53</td>\n",
       "      <td>268.569623</td>\n",
       "    </tr>\n",
       "    <tr>\n",
       "      <th>14</th>\n",
       "      <td>control</td>\n",
       "      <td>OverlapWithDCart</td>\n",
       "      <td>14976.0</td>\n",
       "      <td>2020-01-12</td>\n",
       "      <td>446</td>\n",
       "      <td>33493.35</td>\n",
       "      <td>518</td>\n",
       "      <td>64.658977</td>\n",
       "      <td>260</td>\n",
       "      <td>2352.79</td>\n",
       "      <td>273</td>\n",
       "      <td>8.618278</td>\n",
       "      <td>221</td>\n",
       "      <td>3281.26</td>\n",
       "      <td>235</td>\n",
       "      <td>13.962809</td>\n",
       "      <td>86</td>\n",
       "      <td>1703.25</td>\n",
       "      <td>90</td>\n",
       "      <td>18.925000</td>\n",
       "      <td>194</td>\n",
       "      <td>5195.14</td>\n",
       "      <td>209</td>\n",
       "      <td>24.857129</td>\n",
       "      <td>110</td>\n",
       "      <td>1661.88</td>\n",
       "      <td>115</td>\n",
       "      <td>14.451130</td>\n",
       "      <td>86</td>\n",
       "      <td>782.35</td>\n",
       "      <td>90</td>\n",
       "      <td>8.692778</td>\n",
       "      <td>88</td>\n",
       "      <td>18514.48</td>\n",
       "      <td>92</td>\n",
       "      <td>201.244348</td>\n",
       "    </tr>\n",
       "  </tbody>\n",
       "</table>\n",
       "</div>"
      ],
      "text/plain": [
       "      group        DCart_Type_all  customer_id_hashed transaction_dt  \\\n",
       "0   control  NotDCart_but_AgilOne             39454.0     2020-01-12   \n",
       "14  control      OverlapWithDCart             14976.0     2020-01-12   \n",
       "\n",
       "    total_shoppers  total_sales  total_trans  total_AOV  division_1_shoppers  \\\n",
       "0              348     26392.05          388  68.020747                  202   \n",
       "14             446     33493.35          518  64.658977                  260   \n",
       "\n",
       "    division_1_sales  division_1_trans  division_1_AOV  division_2_shoppers  \\\n",
       "0            2065.79               209        9.884163                  171   \n",
       "14           2352.79               273        8.618278                  221   \n",
       "\n",
       "    division_2_sales  division_2_trans  division_2_AOV  division_3_shoppers  \\\n",
       "0            2710.55               174       15.577874                   67   \n",
       "14           3281.26               235       13.962809                   86   \n",
       "\n",
       "    division_3_sales  division_3_trans  division_3_AOV  division_4_shoppers  \\\n",
       "0             700.91                71        9.871972                  133   \n",
       "14           1703.25                90       18.925000                  194   \n",
       "\n",
       "    division_4_sales  division_4_trans  division_4_AOV  division_5_shoppers  \\\n",
       "0            4290.08               141       30.426099                   82   \n",
       "14           5195.14               209       24.857129                  110   \n",
       "\n",
       "    division_5_sales  division_5_trans  division_5_AOV  division_6_shoppers  \\\n",
       "0            1553.04                82       18.939512                   79   \n",
       "14           1661.88               115       14.451130                   86   \n",
       "\n",
       "    division_6_sales  division_6_trans  division_6_AOV  division_9_shoppers  \\\n",
       "0             837.14                80       10.464250                   52   \n",
       "14            782.35                90        8.692778                   88   \n",
       "\n",
       "    division_9_sales  division_9_trans  division_9_AOV  \n",
       "0           14234.19                53      268.569623  \n",
       "14          18514.48                92      201.244348  "
      ]
     },
     "execution_count": 27,
     "metadata": {},
     "output_type": "execute_result"
    }
   ],
   "source": [
    "df_output_overall_dcart.head(2)"
   ]
  },
  {
   "cell_type": "markdown",
   "metadata": {},
   "source": [
    "# Campaing_3_Days, Overall DCartOverlap"
   ]
  },
  {
   "cell_type": "code",
   "execution_count": 28,
   "metadata": {},
   "outputs": [],
   "source": [
    "df_sales_3_campaign_days=df_sales_by_day[df_sales_by_day['transaction_dt'].isin(['2020-01-18','2020-01-19','2020-01-20'])]\n",
    "df_sales_3_campaign_days=df_sales_3_campaign_days.rename(columns={\"transaction_dt\":\"date_kept_to_dedup\"})\n",
    "\n",
    "df_sales_3_campaign_days['transaction_dt']='total_3_days_Jan_18-20'\n",
    "\n",
    "df_total_sales=df_sales_3_campaign_days.groupby(['transaction_dt','group','DCart_Type_all'])['customer_id_hashed','item_transaction_amt'].agg(agg_fun).reset_index()\n",
    "df_total_trans=df_sales_3_campaign_days[['group','DCart_Type_all','location_id','transaction_dt','transaction_id','customer_id_hashed','date_kept_to_dedup']].drop_duplicates()\n",
    "df_total_trans['trans']=1\n",
    "df_total_trans=df_total_trans.groupby(['transaction_dt','group','DCart_Type_all'])['trans'].sum().to_frame().reset_index()\n",
    "df_total=pd.merge(df_total_sales,df_total_trans,on=['transaction_dt','group','DCart_Type_all'],how=\"outer\")\n",
    "df_total=df_total.rename(columns={\"customer_id_hashed\":\"total_shoppers\",\"item_transaction_amt\":\"total_sales\",\"trans\":\"total_trans\"})\n",
    "df_total['total_AOV']=df_total['total_sales']/df_total['total_trans']\n",
    "\n",
    "df_division_sales=df_sales_3_campaign_days.groupby(['transaction_dt','group','DCart_Type_all','division_id'])['customer_id_hashed','item_transaction_amt'].agg(agg_fun).reset_index()\n",
    "df_division_trans=df_sales_3_campaign_days[['group','DCart_Type_all','location_id','transaction_dt','transaction_id','customer_id_hashed','division_id','date_kept_to_dedup']].drop_duplicates()\n",
    "df_division_trans['trans']=1\n",
    "df_division_trans=df_division_trans.groupby(['transaction_dt','group','DCart_Type_all','division_id'])['trans'].sum().to_frame().reset_index()\n",
    "\n"
   ]
  },
  {
   "cell_type": "code",
   "execution_count": 29,
   "metadata": {},
   "outputs": [],
   "source": [
    "# 3 days overall\n",
    "\n",
    "df_division=pd.merge(df_division_sales,df_division_trans,on=['transaction_dt','group','DCart_Type_all','division_id'],how=\"outer\")\n",
    "df_division['AOV']=df_division['item_transaction_amt']/df_division['trans']\n",
    "df_division=df_division.rename(columns={\"customer_id_hashed\":\"division_shoppers\",\"item_transaction_amt\":\"division_sales\",\"trans\":\"division_trans\",\"AOV\":\"division_AOV\"})\n",
    "\n",
    "df_division=df_division.pivot_table(index=['transaction_dt','group','DCart_Type_all'],columns='division_id',values=['division_shoppers','division_sales','division_trans',\"division_AOV\"]).reset_index()\n",
    "\n",
    "new_cols=[]\n",
    "for col in df_division.columns.tolist():\n",
    "    if not col[1]:\n",
    "        new_cols.append(col[0])\n",
    "    else:\n",
    "        new_cols.append(\"division_\"+col[1]+\"_\"+col[0].split(\"_\")[1])\n",
    "df_division.columns=new_cols\n",
    "\n",
    "new_cols=['transaction_dt','group','DCart_Type_all']\n",
    "for i in range(10):\n",
    "    new_cols.append(\"division_\"+str(i)+\"_shoppers\")\n",
    "    new_cols.append(\"division_\"+str(i)+\"_sales\")\n",
    "    new_cols.append(\"division_\"+str(i)+\"_trans\")\n",
    "    new_cols.append(\"division_\"+str(i)+\"_AOV\")\n",
    "new_cols=[x for x in new_cols if x in df_division.columns.tolist()]    \n",
    "df_division=df_division[new_cols]"
   ]
  },
  {
   "cell_type": "code",
   "execution_count": 30,
   "metadata": {},
   "outputs": [],
   "source": [
    "df_output_2=pd.merge(df_total,df_division,on=['transaction_dt','group','DCart_Type_all'],how=\"outer\")\n",
    "\n",
    "df_output_2=pd.merge(df_total_id_overall,df_output_2,on=[\"group\",'DCart_Type_all'],how=\"outer\")\n",
    "df_output_2=df_output_2.sort_values([\"transaction_dt\",\"group\",'DCart_Type_all'])\n",
    "\n",
    "df_output_overall_dcart=df_output_overall_dcart.append(df_output_2)"
   ]
  },
  {
   "cell_type": "code",
   "execution_count": 31,
   "metadata": {},
   "outputs": [
    {
     "data": {
      "text/plain": [
       "'\\ndf_division_name=pd.read_table(\"/home/jian/BigLots/static_files/MediaStorm Data Extract - Division Names.txt\",sep=\"|\")\\n\\nwriter=pd.ExcelWriter(\"./BL_performance_of_furniture_browser_groups_updated_3_Campaign_days_and_DCartOverlap_JL_\"+str(datetime.datetime.now().date())+\".xlsx\",engine=\"xlsxwriter\")\\ndf_output.to_excel(writer,\"view_no_store_type\",index=False)\\ndf_division_name.to_excel(writer,\"divison_name\",index=False)\\nwriter.save()\\n'"
      ]
     },
     "execution_count": 31,
     "metadata": {},
     "output_type": "execute_result"
    }
   ],
   "source": [
    "'''\n",
    "df_division_name=pd.read_table(\"/home/jian/BigLots/static_files/MediaStorm Data Extract - Division Names.txt\",sep=\"|\")\n",
    "\n",
    "writer=pd.ExcelWriter(\"./BL_performance_of_furniture_browser_groups_updated_3_Campaign_days_and_DCartOverlap_JL_\"+str(datetime.datetime.now().date())+\".xlsx\",engine=\"xlsxwriter\")\n",
    "df_output.to_excel(writer,\"view_no_store_type\",index=False)\n",
    "df_division_name.to_excel(writer,\"divison_name\",index=False)\n",
    "writer.save()\n",
    "'''"
   ]
  },
  {
   "cell_type": "markdown",
   "metadata": {},
   "source": [
    "# By_Day, 2020 DCartOverlap"
   ]
  },
  {
   "cell_type": "code",
   "execution_count": 32,
   "metadata": {},
   "outputs": [],
   "source": [
    "agg_fun={\"customer_id_hashed\":\"nunique\",\"item_transaction_amt\":\"sum\"}\n",
    "df_total_sales=df_sales_by_day.groupby(['transaction_dt','group','DCart_Type_2020'])['customer_id_hashed','item_transaction_amt'].agg(agg_fun).reset_index()\n",
    "df_total_trans=df_sales_by_day[['group','DCart_Type_2020','location_id','transaction_dt','transaction_id','customer_id_hashed']].drop_duplicates()\n",
    "df_total_trans['trans']=1\n",
    "df_total_trans=df_total_trans.groupby(['transaction_dt','DCart_Type_2020','group'])['trans'].sum().to_frame().reset_index()\n",
    "df_total=pd.merge(df_total_sales,df_total_trans,on=['transaction_dt','DCart_Type_2020','group'],how=\"outer\")\n",
    "df_total=df_total.rename(columns={\"customer_id_hashed\":\"total_shoppers\",\"item_transaction_amt\":\"total_sales\",\"trans\":\"total_trans\"})\n",
    "df_total['total_AOV']=df_total['total_sales']/df_total['total_trans']\n",
    "\n",
    "df_division_sales=df_sales_by_day.groupby(['transaction_dt','group','DCart_Type_2020','division_id'])['customer_id_hashed','item_transaction_amt'].agg(agg_fun).reset_index()\n",
    "df_division_trans=df_sales_by_day[['group','DCart_Type_2020','location_id','transaction_dt','transaction_id','customer_id_hashed','division_id']].drop_duplicates()\n",
    "df_division_trans['trans']=1\n",
    "df_division_trans=df_division_trans.groupby(['transaction_dt','DCart_Type_2020','group','division_id'])['trans'].sum().to_frame().reset_index()\n"
   ]
  },
  {
   "cell_type": "code",
   "execution_count": 33,
   "metadata": {},
   "outputs": [],
   "source": [
    "df_division=pd.merge(df_division_sales,df_division_trans,on=['transaction_dt','DCart_Type_2020','group','division_id'],how=\"outer\")\n",
    "df_division['AOV']=df_division['item_transaction_amt']/df_division['trans']\n",
    "df_division=df_division.rename(columns={\"customer_id_hashed\":\"division_shoppers\",\"item_transaction_amt\":\"division_sales\",\"trans\":\"division_trans\",\"AOV\":\"division_AOV\"})\n",
    "\n",
    "df_division=df_division.pivot_table(index=['transaction_dt','DCart_Type_2020','group'],columns='division_id',values=['division_shoppers','division_sales','division_trans',\"division_AOV\"]).reset_index()\n",
    "\n",
    "new_cols=[]\n",
    "for col in df_division.columns.tolist():\n",
    "    if not col[1]:\n",
    "        new_cols.append(col[0])\n",
    "    else:\n",
    "        new_cols.append(\"division_\"+col[1]+\"_\"+col[0].split(\"_\")[1])\n",
    "df_division.columns=new_cols\n",
    "\n",
    "new_cols=['transaction_dt','group','DCart_Type_2020']\n",
    "for i in range(10):\n",
    "    new_cols.append(\"division_\"+str(i)+\"_shoppers\")\n",
    "    new_cols.append(\"division_\"+str(i)+\"_sales\")\n",
    "    new_cols.append(\"division_\"+str(i)+\"_trans\")\n",
    "    new_cols.append(\"division_\"+str(i)+\"_AOV\")\n",
    "new_cols=[x for x in new_cols if x in df_division.columns.tolist()]    \n",
    "df_division=df_division[new_cols]"
   ]
  },
  {
   "cell_type": "code",
   "execution_count": 34,
   "metadata": {},
   "outputs": [],
   "source": [
    "pd.options.display.max_columns=99\n",
    "\n",
    "df_output_2020_dcart=pd.merge(df_total,df_division,on=['transaction_dt','group','DCart_Type_2020'],how=\"outer\")\n",
    "\n",
    "df_output_2020_dcart=pd.merge(df_total_id_2020,df_output_2020_dcart,on=[\"group\",'DCart_Type_2020'],how=\"outer\")\n",
    "df_output_2020_dcart=df_output_2020_dcart.sort_values([\"transaction_dt\",\"group\",'DCart_Type_2020'])\n"
   ]
  },
  {
   "cell_type": "markdown",
   "metadata": {},
   "source": [
    "# Campaing_3_Days, 2020 DCartOverlap"
   ]
  },
  {
   "cell_type": "code",
   "execution_count": 35,
   "metadata": {},
   "outputs": [],
   "source": [
    "df_sales_3_campaign_days=df_sales_by_day[df_sales_by_day['transaction_dt'].isin(['2020-01-18','2020-01-19','2020-01-20'])]\n",
    "df_sales_3_campaign_days=df_sales_3_campaign_days.rename(columns={\"transaction_dt\":\"date_kept_to_dedup\"})\n",
    "\n",
    "df_sales_3_campaign_days['transaction_dt']='total_3_days_Jan_18-20'\n",
    "\n",
    "df_total_sales=df_sales_3_campaign_days.groupby(['transaction_dt','group','DCart_Type_2020'])['customer_id_hashed','item_transaction_amt'].agg(agg_fun).reset_index()\n",
    "df_total_trans=df_sales_3_campaign_days[['group','DCart_Type_2020','location_id','transaction_dt','transaction_id','customer_id_hashed','date_kept_to_dedup']].drop_duplicates()\n",
    "df_total_trans['trans']=1\n",
    "df_total_trans=df_total_trans.groupby(['transaction_dt','group','DCart_Type_2020'])['trans'].sum().to_frame().reset_index()\n",
    "df_total=pd.merge(df_total_sales,df_total_trans,on=['transaction_dt','group','DCart_Type_2020'],how=\"outer\")\n",
    "df_total=df_total.rename(columns={\"customer_id_hashed\":\"total_shoppers\",\"item_transaction_amt\":\"total_sales\",\"trans\":\"total_trans\"})\n",
    "df_total['total_AOV']=df_total['total_sales']/df_total['total_trans']\n",
    "\n",
    "df_division_sales=df_sales_3_campaign_days.groupby(['transaction_dt','group','DCart_Type_2020','division_id'])['customer_id_hashed','item_transaction_amt'].agg(agg_fun).reset_index()\n",
    "df_division_trans=df_sales_3_campaign_days[['group','DCart_Type_2020','location_id','transaction_dt','transaction_id','customer_id_hashed','division_id','date_kept_to_dedup']].drop_duplicates()\n",
    "df_division_trans['trans']=1\n",
    "df_division_trans=df_division_trans.groupby(['transaction_dt','group','DCart_Type_2020','division_id'])['trans'].sum().to_frame().reset_index()\n",
    "\n"
   ]
  },
  {
   "cell_type": "code",
   "execution_count": 36,
   "metadata": {},
   "outputs": [],
   "source": [
    "# 3 days overall\n",
    "\n",
    "df_division=pd.merge(df_division_sales,df_division_trans,on=['transaction_dt','group','DCart_Type_2020','division_id'],how=\"outer\")\n",
    "df_division['AOV']=df_division['item_transaction_amt']/df_division['trans']\n",
    "df_division=df_division.rename(columns={\"customer_id_hashed\":\"division_shoppers\",\"item_transaction_amt\":\"division_sales\",\"trans\":\"division_trans\",\"AOV\":\"division_AOV\"})\n",
    "\n",
    "df_division=df_division.pivot_table(index=['transaction_dt','group','DCart_Type_2020'],columns='division_id',values=['division_shoppers','division_sales','division_trans',\"division_AOV\"]).reset_index()\n",
    "\n",
    "new_cols=[]\n",
    "for col in df_division.columns.tolist():\n",
    "    if not col[1]:\n",
    "        new_cols.append(col[0])\n",
    "    else:\n",
    "        new_cols.append(\"division_\"+col[1]+\"_\"+col[0].split(\"_\")[1])\n",
    "df_division.columns=new_cols\n",
    "\n",
    "new_cols=['transaction_dt','group','DCart_Type_2020']\n",
    "for i in range(10):\n",
    "    new_cols.append(\"division_\"+str(i)+\"_shoppers\")\n",
    "    new_cols.append(\"division_\"+str(i)+\"_sales\")\n",
    "    new_cols.append(\"division_\"+str(i)+\"_trans\")\n",
    "    new_cols.append(\"division_\"+str(i)+\"_AOV\")\n",
    "new_cols=[x for x in new_cols if x in df_division.columns.tolist()]\n",
    "df_division=df_division[new_cols]"
   ]
  },
  {
   "cell_type": "code",
   "execution_count": 37,
   "metadata": {},
   "outputs": [],
   "source": [
    "df_output_2=pd.merge(df_total,df_division,on=['transaction_dt','group','DCart_Type_2020'],how=\"outer\")\n",
    "\n",
    "df_output_2=pd.merge(df_total_id_2020,df_output_2,on=[\"group\",'DCart_Type_2020'],how=\"outer\")\n",
    "df_output_2=df_output_2.sort_values([\"transaction_dt\",\"group\",'DCart_Type_2020'])\n",
    "\n",
    "df_output_2020_dcart=df_output_2020_dcart.append(df_output_2)"
   ]
  },
  {
   "cell_type": "code",
   "execution_count": 41,
   "metadata": {},
   "outputs": [],
   "source": [
    "df_division_name=pd.read_table(\"/home/jian/BigLots/static_files/MediaStorm Data Extract - Division Names.txt\",sep=\"|\")\n",
    "\n",
    "writer=pd.ExcelWriter(\"./BL_performance_of_furniture_browser_groups_updated_3_Campaign_days_and_DCartOverlap_JL_\"+str(datetime.datetime.now().date())+\".xlsx\",engine=\"xlsxwriter\")\n",
    "df_output_overall_dcart.to_excel(writer,\"view_all_overlap\",index=False)\n",
    "df_output_2020_dcart.to_excel(writer,\"view_overlap_2020\",index=False)\n",
    "df_division_name.to_excel(writer,\"divison_name\",index=False)\n",
    "df_campaing_dates.to_excel(writer,\"DCart_All_Campaigns\",index=False)\n",
    "df_2_weeks_campaign.to_excel(writer,\"DCart_2020_Campaigns\",index=False)\n",
    "\n",
    "writer.save()"
   ]
  },
  {
   "cell_type": "code",
   "execution_count": null,
   "metadata": {},
   "outputs": [],
   "source": [
    "# To add\n",
    "# 1. Q4 control\n",
    "# 2. Broyhill vs non-broyhill"
   ]
  }
 ],
 "metadata": {
  "kernelspec": {
   "display_name": "Python 3",
   "language": "python",
   "name": "python3"
  },
  "language_info": {
   "codemirror_mode": {
    "name": "ipython",
    "version": 3
   },
   "file_extension": ".py",
   "mimetype": "text/x-python",
   "name": "python",
   "nbconvert_exporter": "python",
   "pygments_lexer": "ipython3",
   "version": "3.6.1"
  }
 },
 "nbformat": 4,
 "nbformat_minor": 2
}
