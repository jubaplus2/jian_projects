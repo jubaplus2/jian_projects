{
 "cells": [
  {
   "cell_type": "code",
   "execution_count": 1,
   "metadata": {
    "collapsed": true
   },
   "outputs": [],
   "source": [
    "# Done below\n",
    "# sshpass -p jian@juba2017 scp -r jian@64.237.51.251:/mnt/drv5/backup/ /home/jian/backup_folder_from_64_drv5/drv5_backup/ &\n",
    "# sshpass -p jian@juba2017 scp -r jian@64.237.51.251:/mnt/drv5/ellen/ /home/jian/backup_folder_from_64_drv5/drv5_ellen/ &\n"
   ]
  },
  {
   "cell_type": "code",
   "execution_count": 2,
   "metadata": {
    "collapsed": true
   },
   "outputs": [],
   "source": [
    "# local path pattern\n",
    "# /home/jian/backup_folder_from_64_drv5/drv5_ + remote_basename (folder)\n"
   ]
  },
  {
   "cell_type": "code",
   "execution_count": null,
   "metadata": {
    "collapsed": true
   },
   "outputs": [],
   "source": []
  }
 ],
 "metadata": {
  "kernelspec": {
   "display_name": "Python 3",
   "language": "python",
   "name": "python3"
  },
  "language_info": {
   "codemirror_mode": {
    "name": "ipython",
    "version": 3
   },
   "file_extension": ".py",
   "mimetype": "text/x-python",
   "name": "python",
   "nbconvert_exporter": "python",
   "pygments_lexer": "ipython3",
   "version": "3.6.1"
  }
 },
 "nbformat": 4,
 "nbformat_minor": 2
}
