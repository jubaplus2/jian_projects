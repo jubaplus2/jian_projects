{
 "cells": [
  {
   "cell_type": "code",
   "execution_count": 59,
   "metadata": {
    "collapsed": true
   },
   "outputs": [],
   "source": [
    "import pandas as pd\n",
    "import numpy as np\n",
    "import google_analytics_reporting_api as ga\n",
    "import json as json\n",
    "import datetime"
   ]
  },
  {
   "cell_type": "code",
   "execution_count": 60,
   "metadata": {
    "collapsed": true
   },
   "outputs": [],
   "source": [
    "# Input\n",
    "Start_Date='2017-10-22'\n",
    "End_Date=str(datetime.datetime.now().date()-datetime.timedelta(days=1)) # Yesterday\n",
    "writer_Category=\"/home/jian/Projects/Tone_Networks/Output/Tone_Network_GA_Category_Data_From_2017-10-22_To_\"+End_Date+\".xlsx\""
   ]
  },
  {
   "cell_type": "code",
   "execution_count": 61,
   "metadata": {
    "collapsed": true
   },
   "outputs": [],
   "source": [
    "writer_Category=pd.ExcelWriter(writer_Category, engine='xlsxwriter')\n",
    "analytics = ga.initialize_analyticsreporting('/home/jian/Projects/Tone_Networks/GA/Tone Networks - prod-00ada014c4ba.json')\n",
    "general_matric=['ga:sessions','ga:users','ga:bounces','ga:bounceRate','ga:pageviews','ga:uniquePageviews','ga:totalEvents','ga:uniqueEvents']"
   ]
  },
  {
   "cell_type": "code",
   "execution_count": 62,
   "metadata": {
    "collapsed": true
   },
   "outputs": [],
   "source": [
    "def num_func_trans(df):\n",
    "    if 'ga:sessions' in df.columns:\n",
    "        df['ga:sessions']=df['ga:sessions'].astype(int)\n",
    "    if 'ga:users' in df.columns:\n",
    "        df['ga:users']=df['ga:users'].astype(int)\n",
    "    if 'ga:bounces' in df.columns:\n",
    "        df['ga:bounces']=df['ga:bounces'].astype(int)\n",
    "    if 'ga:bounceRate' in df.columns:\n",
    "        df['ga:bounceRate']=round(df['ga:bounceRate'].astype(float)/100,4)\n",
    "    if 'ga:pageviews' in df.columns:\n",
    "        df['ga:pageviews']=df['ga:pageviews'].astype(int)\n",
    "    if 'ga:uniquePageviews' in df.columns:\n",
    "        df['ga:uniquePageviews']=df['ga:uniquePageviews'].astype(int)\n",
    "    if 'ga:totalEvents' in df.columns:\n",
    "        df['ga:totalEvents']=df['ga:totalEvents'].astype(int)\n",
    "    if 'ga:uniqueEvents' in df.columns:\n",
    "        df['ga:uniqueEvents']=df['ga:uniqueEvents'].astype(int)\n",
    "    if 'ga:goalCompletionsAll' in df.columns:\n",
    "        df['ga:goalCompletionsAll']=df['ga:goalCompletionsAll'].astype(int)\n",
    "    if 'ga:dateHourMinute' in df.columns:\n",
    "        df['ga:dateHourMinute']=df['ga:dateHourMinute'].apply(lambda x:x[0:4]+\"-\"+x[4:6]+\"-\"+x[6:8]+\" \"+x[8:10]+\":\"+x[10:12])\n",
    "    if 'ga:date' in df.columns:\n",
    "        df['ga:date']=df['ga:date'].apply(lambda x:x[0:4]+\"-\"+x[4:6]+\"-\"+x[6:8])\n",
    "    \n",
    "    return df"
   ]
  },
  {
   "cell_type": "code",
   "execution_count": 44,
   "metadata": {},
   "outputs": [],
   "source": [
    "Start_Minute=datetime.datetime.strptime(Start_Date,'%Y-%m-%d')\n",
    "End_Minute=datetime.datetime.strptime(str(datetime.datetime.now().date()),'%Y-%m-%d')\n",
    "All_Minutes=pd.date_range(start=Start_Minute,end=End_Minute,freq=\"Min\")\n"
   ]
  },
  {
   "cell_type": "code",
   "execution_count": 45,
   "metadata": {
    "collapsed": true
   },
   "outputs": [],
   "source": [
    "Start_Minute=datetime.datetime.strptime(Start_Date,'%Y-%m-%d')\n",
    "End_Minute=datetime.datetime.strptime(str(datetime.datetime.now().date()),'%Y-%m-%d')\n",
    "All_Minutes=pd.date_range(start=Start_Minute,end=End_Minute,freq=\"Min\")\n",
    "\n",
    "def Add_Zero_Minute(df):\n",
    "\n",
    "    df['dateHourMinute']=df['dateHourMinute'].apply(lambda x: datetime.datetime.strptime(x,'%Y-%m-%d %H:%M'))\n",
    "    Empty_Time_Df=pd.DataFrame(columns=df.columns,index=range(len(All_Minutes)))\n",
    "    Empty_Time_Df['dateHourMinute']=All_Minutes\n",
    "    Time_Df_Notin=Empty_Time_Df[~Empty_Time_Df['dateHourMinute'].isin(df['dateHourMinute'])]\n",
    "    df=df.append(Time_Df_Notin)\n",
    "    df.reset_index(inplace=True)\n",
    "    del (df['index'])\n",
    "    df=df.sort_values('dateHourMinute')\n",
    "    df.reset_index(inplace=True)\n",
    "    del (df['index'])    \n",
    "    return df  "
   ]
  },
  {
   "cell_type": "code",
   "execution_count": 46,
   "metadata": {
    "collapsed": true
   },
   "outputs": [],
   "source": [
    "Start_Hour=datetime.datetime.strptime(Start_Date,'%Y-%m-%d')\n",
    "End_Hour=datetime.datetime.strptime(str(datetime.datetime.now().date()),'%Y-%m-%d')\n",
    "All_Hours=pd.date_range(start=Start_Minute,end=End_Minute,freq=\"H\")\n",
    "\n",
    "def Add_Zero_Hour(df):\n",
    "    df['dateHour']=df['dateHour'].apply(lambda x: datetime.datetime.strptime(x,'%Y%m%d%H'))\n",
    "    Empty_Time_Df=pd.DataFrame(columns=df.columns,index=range(len(All_Hours)))\n",
    "    Empty_Time_Df['dateHour']=All_Hours\n",
    "    Time_Df_Notin=Empty_Time_Df[~Empty_Time_Df['dateHour'].isin(df['dateHour'])]\n",
    "    df=df.append(Time_Df_Notin)\n",
    "    df.reset_index(inplace=True)\n",
    "    del (df['index'])\n",
    "    df=df.sort_values('dateHour')\n",
    "    df.reset_index(inplace=True)\n",
    "    del (df['index'])\n",
    "    return df\n"
   ]
  },
  {
   "cell_type": "code",
   "execution_count": 47,
   "metadata": {
    "collapsed": true
   },
   "outputs": [],
   "source": [
    "Event_Mapping=pd.read_excel(\"/home/jian/Projects/Tone_Networks/event map.xlsx\")\n",
    "Event_Mapping.columns=['eventCategory','eventCategory_New']\n",
    "Event_Mapping['eventCategory']=Event_Mapping['eventCategory'].apply(lambda x:x[14:len(x)])\n",
    "Event_Mapping['eventCategory_New']=Event_Mapping['eventCategory_New'].apply(lambda x:x[14:len(x)])"
   ]
  },
  {
   "cell_type": "code",
   "execution_count": 48,
   "metadata": {},
   "outputs": [],
   "source": [
    "# Event_Minute\n",
    "Event_Time=ga.get_report_over_10000_rows(analytics=analytics, VIEW_ID='158084228',start_date=Start_Date, end_date=End_Date, \n",
    "                               ga_metrics=['ga:totalEvents','ga:uniqueEvents'], ga_dimensions=['ga:dateHourMinute','ga:eventCategory','ga:eventAction','ga:eventLabel'])\n",
    "Event_Time=num_func_trans(Event_Time)\n",
    "Event_Time=Event_Time[['ga:dateHourMinute','ga:eventCategory','ga:eventAction','ga:eventLabel']+['ga:totalEvents','ga:uniqueEvents']]\n",
    "Event_Time.rename(columns=lambda x:x[3:len(x)],inplace=True)\n",
    "Event_Time=Add_Zero_Minute(Event_Time)\n",
    "# Event_Time['eventAction']=Event_Time['eventAction'].replace(0,\"No Event\")\n",
    "# Event_Time['eventCategory']=Event_Time['eventCategory'].replace(0,\"No Event\")\n",
    "# Event_Time['eventLabel']=Event_Time['eventLabel'].replace(0,\"No Event\")\n",
    "Event_Time_Mapped=pd.merge(Event_Time,Event_Mapping,on=\"eventCategory\",how=\"left\")\n",
    "Event_Time_Mapped.to_excel(writer_Category,sheet_name=\"Event_all_label\",index=False)\n",
    "\n",
    "Event_Time=Event_Time[['dateHourMinute','eventCategory','totalEvents','uniqueEvents']]\n",
    "Event_Time_Agg=pd.merge(Event_Time,Event_Mapping,on=\"eventCategory\",how=\"left\")\n",
    "Event_Time_Agg=Event_Time_Agg.groupby(['dateHourMinute','eventCategory_New'])['totalEvents','uniqueEvents'].sum()\n",
    "Event_Time_Agg=Event_Time_Agg.reset_index()\n",
    "Event_Time_Agg=Event_Time_Agg.sort_values(['dateHourMinute','eventCategory_New'])\n",
    "Event_Time_Agg.to_excel(writer_Category,sheet_name=\"Event_Category\",index=False)\n"
   ]
  },
  {
   "cell_type": "code",
   "execution_count": 49,
   "metadata": {
    "collapsed": true
   },
   "outputs": [],
   "source": [
    "# Minute Page Path\n",
    "Dimension=['ga:dateHourMinute','ga:pagePath']\n",
    "Minute_Page_Path=ga.get_report_over_10000_rows(analytics=analytics, VIEW_ID='158084228',start_date=Start_Date, end_date=End_Date, \n",
    "                               ga_metrics=general_matric, ga_dimensions=Dimension)\n",
    "Minute_Page_Path=num_func_trans(Minute_Page_Path)\n",
    "Minute_Page_Path=Minute_Page_Path[Dimension+general_matric]\n",
    "\n",
    "Minute_Page_Path.rename(columns=lambda x:x[3:len(x)],inplace=True)\n",
    "Minute_Page_Path=Add_Zero_Minute(Minute_Page_Path)\n",
    "Minute_Page_Path.to_excel(writer_Category,\"Minute_Page_Path\",index=False)\n"
   ]
  },
  {
   "cell_type": "code",
   "execution_count": 50,
   "metadata": {
    "collapsed": true
   },
   "outputs": [],
   "source": [
    "# Minute MediaSource\n",
    "Dimension=['ga:dateHourMinute','ga:sourceMedium']\n",
    "Minute_SourceMedium=ga.get_report_over_10000_rows(analytics=analytics, VIEW_ID='158084228',start_date=Start_Date, end_date=End_Date, \n",
    "                               ga_metrics=general_matric, ga_dimensions=Dimension)\n",
    "Minute_SourceMedium=num_func_trans(Minute_SourceMedium)\n",
    "Minute_SourceMedium=Minute_SourceMedium[Dimension+general_matric]\n",
    "\n",
    "Minute_SourceMedium.rename(columns=lambda x:x[3:len(x)],inplace=True)\n",
    "Minute_SourceMedium=Add_Zero_Minute(Minute_SourceMedium)\n",
    "Minute_SourceMedium.to_excel(writer_Category,\"Minute_SourceMedium\",index=False)\n"
   ]
  },
  {
   "cell_type": "code",
   "execution_count": 51,
   "metadata": {
    "collapsed": true
   },
   "outputs": [],
   "source": [
    "# Minute Metro_City\n",
    "Dimension=['ga:dateHourMinute','ga:metro','ga:city']\n",
    "Minute_Metro_City=ga.get_report_over_10000_rows(analytics=analytics, VIEW_ID='158084228',start_date=Start_Date, end_date=End_Date, \n",
    "                               ga_metrics=general_matric, ga_dimensions=Dimension)\n",
    "Minute_Metro_City=num_func_trans(Minute_Metro_City)\n",
    "Minute_Metro_City=Minute_Metro_City[Dimension+general_matric]\n",
    "\n",
    "Minute_Metro_City.rename(columns=lambda x:x[3:len(x)],inplace=True)\n",
    "Minute_Metro_City=Add_Zero_Minute(Minute_Metro_City)\n",
    "Minute_Metro_City.to_excel(writer_Category,\"Minute_Metro_City\",index=False)\n"
   ]
  },
  {
   "cell_type": "code",
   "execution_count": 52,
   "metadata": {
    "collapsed": true
   },
   "outputs": [],
   "source": [
    "# Minute Lag_Long\n",
    "Dimension=['ga:dateHourMinute','ga:latitude','ga:longitude']\n",
    "Minute_Lag_Long=ga.get_report_over_10000_rows(analytics=analytics, VIEW_ID='158084228',start_date=Start_Date, end_date=End_Date, \n",
    "                               ga_metrics=general_matric, ga_dimensions=Dimension)\n",
    "Minute_Lag_Long=num_func_trans(Minute_Lag_Long)\n",
    "Minute_Lag_Long=Minute_Lag_Long[Dimension+general_matric]\n",
    "\n",
    "Minute_Lag_Long.rename(columns=lambda x:x[3:len(x)],inplace=True)\n",
    "Minute_Lag_Long=Add_Zero_Minute(Minute_Lag_Long)\n",
    "Minute_Lag_Long.to_excel(writer_Category,\"Minute_Lag_Long\",index=False)\n"
   ]
  },
  {
   "cell_type": "code",
   "execution_count": 53,
   "metadata": {
    "collapsed": true
   },
   "outputs": [],
   "source": [
    "# Hour_AgeBracket\n",
    "Dimension=['ga:dateHour','ga:userAgeBracket']\n",
    "Hour_AgeBracket=ga.get_report_over_10000_rows(analytics=analytics, VIEW_ID='158084228',start_date=Start_Date, end_date=End_Date, \n",
    "                               ga_metrics=general_matric, ga_dimensions=Dimension)\n",
    "\n",
    "Hour_AgeBracket=num_func_trans(Hour_AgeBracket)\n",
    "Hour_AgeBracket=Hour_AgeBracket[Dimension+general_matric]\n",
    "Hour_AgeBracket.rename(columns=lambda x:x[3:len(x)],inplace=True)\n",
    "Hour_AgeBracket=Add_Zero_Hour(Hour_AgeBracket)\n",
    "Hour_AgeBracket.to_excel(writer_Category,\"Hour_AgeBracket\",index=False)\n"
   ]
  },
  {
   "cell_type": "code",
   "execution_count": 54,
   "metadata": {
    "collapsed": true
   },
   "outputs": [],
   "source": [
    "# Hour_Gender\n",
    "Dimension=['ga:dateHour','ga:userGender']\n",
    "Hour_Gender=ga.get_report_over_10000_rows(analytics=analytics, VIEW_ID='158084228',start_date=Start_Date, end_date=End_Date, \n",
    "                               ga_metrics=general_matric, ga_dimensions=Dimension)\n",
    "Hour_Gender=num_func_trans(Hour_Gender)\n",
    "Hour_Gender=Hour_Gender[Dimension+general_matric]\n",
    "Hour_Gender.rename(columns=lambda x:x[3:len(x)],inplace=True)\n",
    "Hour_Gender=Add_Zero_Hour(Hour_Gender)\n",
    "Hour_Gender.to_excel(writer_Category,\"Hour_Gender\",index=False)\n"
   ]
  },
  {
   "cell_type": "code",
   "execution_count": 55,
   "metadata": {
    "collapsed": true
   },
   "outputs": [],
   "source": [
    "# Hour_interestInMarketCategory\n",
    "Dimension=['ga:dateHour','ga:interestInMarketCategory']\n",
    "Hour_interestInMarketCategory=ga.get_report_over_10000_rows(analytics=analytics, VIEW_ID='158084228',start_date=Start_Date, end_date=End_Date, \n",
    "                               ga_metrics=general_matric, ga_dimensions=Dimension)\n",
    "Hour_interestInMarketCategory=num_func_trans(Hour_interestInMarketCategory)\n",
    "Hour_interestInMarketCategory=Hour_interestInMarketCategory[Dimension+general_matric]\n",
    "Hour_interestInMarketCategory.rename(columns=lambda x:x[3:len(x)],inplace=True)\n",
    "Hour_interestInMarketCategory=Add_Zero_Hour(Hour_interestInMarketCategory)\n",
    "Hour_interestInMarketCategory.to_excel(writer_Category,\"Hour_interestInMarketCategory\",index=False)\n"
   ]
  },
  {
   "cell_type": "code",
   "execution_count": 56,
   "metadata": {
    "collapsed": true
   },
   "outputs": [],
   "source": [
    "# Hour_interestAffinityCategory\n",
    "Dimension=['ga:dateHour','ga:interestAffinityCategory']\n",
    "Hour_interestAffinityCategory=ga.get_report_over_10000_rows(analytics=analytics, VIEW_ID='158084228',start_date=Start_Date, end_date=End_Date, \n",
    "                               ga_metrics=general_matric, ga_dimensions=Dimension)\n",
    "Hour_interestAffinityCategory=num_func_trans(Hour_interestAffinityCategory)\n",
    "Hour_interestAffinityCategory=Hour_interestAffinityCategory[Dimension+general_matric]\n",
    "Hour_interestAffinityCategory.rename(columns=lambda x:x[3:len(x)],inplace=True)\n",
    "Hour_interestAffinityCategory=Add_Zero_Hour(Hour_interestAffinityCategory)\n",
    "Hour_interestAffinityCategory.to_excel(writer_Category,\"Hour_interestAffinityCategory\",index=False)\n"
   ]
  },
  {
   "cell_type": "code",
   "execution_count": 57,
   "metadata": {
    "collapsed": true
   },
   "outputs": [],
   "source": [
    "writer_Category.save()"
   ]
  },
  {
   "cell_type": "code",
   "execution_count": null,
   "metadata": {
    "collapsed": true
   },
   "outputs": [],
   "source": []
  },
  {
   "cell_type": "code",
   "execution_count": 67,
   "metadata": {},
   "outputs": [
    {
     "data": {
      "text/html": [
       "<div>\n",
       "<style>\n",
       "    .dataframe thead tr:only-child th {\n",
       "        text-align: right;\n",
       "    }\n",
       "\n",
       "    .dataframe thead th {\n",
       "        text-align: left;\n",
       "    }\n",
       "\n",
       "    .dataframe tbody tr th {\n",
       "        vertical-align: top;\n",
       "    }\n",
       "</style>\n",
       "<table border=\"1\" class=\"dataframe\">\n",
       "  <thead>\n",
       "    <tr style=\"text-align: right;\">\n",
       "      <th></th>\n",
       "    </tr>\n",
       "  </thead>\n",
       "  <tbody>\n",
       "  </tbody>\n",
       "</table>\n",
       "</div>"
      ],
      "text/plain": [
       "Empty DataFrame\n",
       "Columns: []\n",
       "Index: []"
      ]
     },
     "execution_count": 67,
     "metadata": {},
     "output_type": "execute_result"
    }
   ],
   "source": []
  },
  {
   "cell_type": "code",
   "execution_count": null,
   "metadata": {
    "collapsed": true
   },
   "outputs": [],
   "source": []
  }
 ],
 "metadata": {
  "kernelspec": {
   "display_name": "Python 3",
   "language": "python",
   "name": "python3"
  },
  "language_info": {
   "codemirror_mode": {
    "name": "ipython",
    "version": 3
   },
   "file_extension": ".py",
   "mimetype": "text/x-python",
   "name": "python",
   "nbconvert_exporter": "python",
   "pygments_lexer": "ipython3",
   "version": "3.6.1"
  }
 },
 "nbformat": 4,
 "nbformat_minor": 2
}
