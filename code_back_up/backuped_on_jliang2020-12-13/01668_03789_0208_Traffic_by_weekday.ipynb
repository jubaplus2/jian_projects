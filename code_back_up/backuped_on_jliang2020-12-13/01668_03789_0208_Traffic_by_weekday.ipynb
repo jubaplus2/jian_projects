{
 "cells": [
  {
   "cell_type": "code",
   "execution_count": 4,
   "metadata": {
    "collapsed": true
   },
   "outputs": [],
   "source": [
    "import pandas as pd\n",
    "import numpy as np\n",
    "import os\n",
    "import datetime\n",
    "import math\n",
    "folderpath = '/home/jian/BiglotsCode/outputs/'\n",
    "lastweeksdate = '2017-11-18'"
   ]
  },
  {
   "cell_type": "code",
   "execution_count": 5,
   "metadata": {},
   "outputs": [],
   "source": [
    "dftraffic = pd.read_csv(folderpath + 'combinedtraffic'+ lastweeksdate + '.csv',\n",
    "               sep = '|',dtype = 'str')"
   ]
  },
  {
   "cell_type": "code",
   "execution_count": 6,
   "metadata": {},
   "outputs": [
    {
     "data": {
      "text/html": [
       "<div>\n",
       "<style>\n",
       "    .dataframe thead tr:only-child th {\n",
       "        text-align: right;\n",
       "    }\n",
       "\n",
       "    .dataframe thead th {\n",
       "        text-align: left;\n",
       "    }\n",
       "\n",
       "    .dataframe tbody tr th {\n",
       "        vertical-align: top;\n",
       "    }\n",
       "</style>\n",
       "<table border=\"1\" class=\"dataframe\">\n",
       "  <thead>\n",
       "    <tr style=\"text-align: right;\">\n",
       "      <th></th>\n",
       "      <th>location_id</th>\n",
       "      <th>week_end_dt</th>\n",
       "      <th>fiscal_week_nbr</th>\n",
       "      <th>traffic_day_1</th>\n",
       "      <th>traffic_day_2</th>\n",
       "      <th>traffic_day_3</th>\n",
       "      <th>traffic_day_4</th>\n",
       "      <th>traffic_day_5</th>\n",
       "      <th>traffic_day_6</th>\n",
       "      <th>traffic_day_7</th>\n",
       "    </tr>\n",
       "  </thead>\n",
       "  <tbody>\n",
       "    <tr>\n",
       "      <th>0</th>\n",
       "      <td>1</td>\n",
       "      <td>2017-06-03</td>\n",
       "      <td>18</td>\n",
       "      <td>808</td>\n",
       "      <td>720</td>\n",
       "      <td>530</td>\n",
       "      <td>525</td>\n",
       "      <td>569</td>\n",
       "      <td>641</td>\n",
       "      <td>880</td>\n",
       "    </tr>\n",
       "    <tr>\n",
       "      <th>1</th>\n",
       "      <td>1</td>\n",
       "      <td>2017-06-10</td>\n",
       "      <td>19</td>\n",
       "      <td>752</td>\n",
       "      <td>593</td>\n",
       "      <td>587</td>\n",
       "      <td>572</td>\n",
       "      <td>605</td>\n",
       "      <td>727</td>\n",
       "      <td>672</td>\n",
       "    </tr>\n",
       "    <tr>\n",
       "      <th>2</th>\n",
       "      <td>1</td>\n",
       "      <td>2017-06-17</td>\n",
       "      <td>20</td>\n",
       "      <td>692</td>\n",
       "      <td>636</td>\n",
       "      <td>640</td>\n",
       "      <td>604</td>\n",
       "      <td>633</td>\n",
       "      <td>702</td>\n",
       "      <td>899</td>\n",
       "    </tr>\n",
       "    <tr>\n",
       "      <th>3</th>\n",
       "      <td>1</td>\n",
       "      <td>2017-06-24</td>\n",
       "      <td>21</td>\n",
       "      <td>634</td>\n",
       "      <td>596</td>\n",
       "      <td>570</td>\n",
       "      <td>627</td>\n",
       "      <td>621</td>\n",
       "      <td>583</td>\n",
       "      <td>726</td>\n",
       "    </tr>\n",
       "    <tr>\n",
       "      <th>4</th>\n",
       "      <td>1</td>\n",
       "      <td>2017-07-01</td>\n",
       "      <td>22</td>\n",
       "      <td>713</td>\n",
       "      <td>733</td>\n",
       "      <td>719</td>\n",
       "      <td>704</td>\n",
       "      <td>744</td>\n",
       "      <td>788</td>\n",
       "      <td>902</td>\n",
       "    </tr>\n",
       "  </tbody>\n",
       "</table>\n",
       "</div>"
      ],
      "text/plain": [
       "  location_id week_end_dt fiscal_week_nbr traffic_day_1 traffic_day_2  \\\n",
       "0           1  2017-06-03              18           808           720   \n",
       "1           1  2017-06-10              19           752           593   \n",
       "2           1  2017-06-17              20           692           636   \n",
       "3           1  2017-06-24              21           634           596   \n",
       "4           1  2017-07-01              22           713           733   \n",
       "\n",
       "  traffic_day_3 traffic_day_4 traffic_day_5 traffic_day_6 traffic_day_7  \n",
       "0           530           525           569           641           880  \n",
       "1           587           572           605           727           672  \n",
       "2           640           604           633           702           899  \n",
       "3           570           627           621           583           726  \n",
       "4           719           704           744           788           902  "
      ]
     },
     "execution_count": 6,
     "metadata": {},
     "output_type": "execute_result"
    }
   ],
   "source": [
    "dftraffic.head()"
   ]
  },
  {
   "cell_type": "code",
   "execution_count": 23,
   "metadata": {},
   "outputs": [],
   "source": [
    "# In MM\n",
    "Traffic_Sunday=sum(dftraffic['traffic_day_1'].astype(int))/(10**6)\n",
    "Traffic_Monday=sum(dftraffic['traffic_day_2'].astype(int))/(10**6)\n",
    "Traffic_Tuesday=sum(dftraffic['traffic_day_3'].astype(int))/(10**6)\n",
    "Traffic_Wednesday=sum(dftraffic['traffic_day_4'].astype(int))/(10**6)\n",
    "Traffic_Thursday=sum(dftraffic['traffic_day_5'].astype(int))/(10**6)\n",
    "Traffic_Friday=sum(dftraffic['traffic_day_6'].astype(int))/(10**6)\n",
    "Traffic_Saturday=sum(dftraffic['traffic_day_7'].astype(int))/(10**6)"
   ]
  },
  {
   "cell_type": "code",
   "execution_count": 30,
   "metadata": {
    "collapsed": true
   },
   "outputs": [],
   "source": [
    "Hist=[Traffic_Sunday,Traffic_Monday,Traffic_Tuesday,Traffic_Wednesday,Traffic_Thursday,Traffic_Friday,Traffic_Saturday]"
   ]
  },
  {
   "cell_type": "code",
   "execution_count": 46,
   "metadata": {
    "collapsed": true
   },
   "outputs": [],
   "source": [
    "import matplotlib.pyplot as plt\n",
    "%matplotlib inline"
   ]
  },
  {
   "cell_type": "code",
   "execution_count": 41,
   "metadata": {},
   "outputs": [
    {
     "data": {
      "text/plain": [
       "0.49336812067260938"
      ]
     },
     "execution_count": 41,
     "metadata": {},
     "output_type": "execute_result"
    }
   ],
   "source": [
    "sum([Hist[0],Hist[5],Hist[6]])/sum(Hist)"
   ]
  },
  {
   "cell_type": "code",
   "execution_count": 42,
   "metadata": {},
   "outputs": [
    {
     "data": {
      "text/plain": [
       "[132.33333400000001,\n",
       " 108.05196100000001,\n",
       " 102.623801,\n",
       " 104.158317,\n",
       " 105.15951200000001,\n",
       " 121.18416999999999,\n",
       " 155.48054200000001]"
      ]
     },
     "execution_count": 42,
     "metadata": {},
     "output_type": "execute_result"
    }
   ],
   "source": [
    "Hist"
   ]
  },
  {
   "cell_type": "code",
   "execution_count": 60,
   "metadata": {},
   "outputs": [
    {
     "data": {
      "image/png": "[encoded data removed]",
      "text/plain": [
       "<matplotlib.figure.Figure at 0x7fe7a6dcab00>"
      ]
     },
     "metadata": {},
     "output_type": "display_data"
    }
   ],
   "source": [
    "plt.bar(np.arange(7),Hist)\n",
    "plt.xticks(np.arange(7), ['Sunday','Monday','Tuesday','Wednesday','Thursday','Friday','Saturday'])\n",
    "plt.show()"
   ]
  }
 ],
 "metadata": {
  "kernelspec": {
   "display_name": "Python 3",
   "language": "python",
   "name": "python3"
  },
  "language_info": {
   "codemirror_mode": {
    "name": "ipython",
    "version": 3
   },
   "file_extension": ".py",
   "mimetype": "text/x-python",
   "name": "python",
   "nbconvert_exporter": "python",
   "pygments_lexer": "ipython3",
   "version": "3.6.1"
  }
 },
 "nbformat": 4,
 "nbformat_minor": 2
}
