{
 "cells": [
  {
   "cell_type": "code",
   "execution_count": 1,
   "metadata": {
    "collapsed": true
   },
   "outputs": [],
   "source": [
    "import pandas as pd\n",
    "import numpy as np\n",
    "import os\n",
    "import datetime\n",
    "import math\n",
    "folderpath = '/home/jian/BiglotsCode/outputs/'\n",
    "lastweeksdate = '2017-11-25'\n",
    "# Read till 2017-12-02 as cell 3"
   ]
  },
  {
   "cell_type": "code",
   "execution_count": 2,
   "metadata": {
    "collapsed": true
   },
   "outputs": [],
   "source": [
    "dfsales = pd.read_csv(folderpath + 'combinedsales'+ '2017-12-02' + '.csv',sep = '|',dtype = 'str')"
   ]
  },
  {
   "cell_type": "code",
   "execution_count": 3,
   "metadata": {
    "collapsed": true
   },
   "outputs": [],
   "source": [
    "dfsales['week_end_dt']=pd.to_datetime(dfsales['week_end_dt'])"
   ]
  },
  {
   "cell_type": "code",
   "execution_count": 4,
   "metadata": {
    "collapsed": true
   },
   "outputs": [],
   "source": [
    "dfsales=dfsales.sort_values(by=['week_end_dt','location_id'], ascending=[True,True])"
   ]
  },
  {
   "cell_type": "code",
   "execution_count": 6,
   "metadata": {},
   "outputs": [],
   "source": [
    "dfsales['week_end_dt']=dfsales['week_end_dt'].apply(lambda x: str(x.date()))"
   ]
  },
  {
   "cell_type": "code",
   "execution_count": 7,
   "metadata": {
    "collapsed": true
   },
   "outputs": [],
   "source": [
    "dfsales['class_gross_sales_amt'].replace('?','0',inplace=True)\n",
    "dfsales['class_gross_sales_amt']=dfsales['class_gross_sales_amt'].astype(float)"
   ]
  },
  {
   "cell_type": "code",
   "execution_count": 48,
   "metadata": {},
   "outputs": [],
   "source": [
    "dfstore_1 = pd.read_table('/home/jian/BigLots/static_files/MediaStorm Data Extract - Store list.txt',\n",
    "                        sep = '|',dtype = 'str')\n",
    "dfstore_2 = pd.read_table('/home/jian/BigLots/static_files/MediaStormStoresList_0913.txt',\n",
    "                        sep = '|',dtype = 'str')\n",
    "dfstore_3 = pd.read_table('/home/jian/BigLots/static_files/MediaStormStoreList_Nov15.txt',\n",
    "                        sep = '|',dtype = 'str')\n",
    "dfstore_1=dfstore_1[['location_id','zip_cd']]\n",
    "dfstore_2=dfstore_2[['location_id','zip_cd']]\n",
    "dfstore_3=dfstore_3[['location_id','zip_cd']]\n",
    "dfstore=pd.concat([dfstore_1,dfstore_2,dfstore_3])\n",
    "dfstore['zip']=dfstore['zip_cd'].apply(lambda x: x[0:5])\n",
    "del dfstore['zip_cd']\n",
    "dfstore=dfstore.drop_duplicates()"
   ]
  },
  {
   "cell_type": "code",
   "execution_count": 49,
   "metadata": {
    "collapsed": true
   },
   "outputs": [],
   "source": [
    "dma = pd.read_csv('/home/jian/BiglotsCode/OtherInput/zipdmamapping.csv',dtype = 'str')\n",
    "dma=dma.rename(columns={'zip_cd': 'zip'})"
   ]
  },
  {
   "cell_type": "code",
   "execution_count": 46,
   "metadata": {
    "collapsed": true
   },
   "outputs": [],
   "source": [
    "recliner_sales=dfsales[dfsales['class_code_id']=='60803']\n",
    "recliner_sales=recliner_sales[['location_id','week_end_dt','class_gross_sales_amt']]"
   ]
  },
  {
   "cell_type": "code",
   "execution_count": 47,
   "metadata": {
    "collapsed": true
   },
   "outputs": [],
   "source": [
    "recliner_sales=pd.pivot_table(recliner_sales,values = 'class_gross_sales_amt', index='location_id', columns = 'week_end_dt').reset_index()"
   ]
  },
  {
   "cell_type": "code",
   "execution_count": 50,
   "metadata": {},
   "outputs": [],
   "source": [
    "recliner_sales=pd.merge(recliner_sales,dfstore,on='location_id',how='left')\n",
    "recliner_sales=pd.merge(recliner_sales,dma,on='zip',how='left')"
   ]
  },
  {
   "cell_type": "code",
   "execution_count": 51,
   "metadata": {},
   "outputs": [
    {
     "data": {
      "text/html": [
       "<div>\n",
       "<style>\n",
       "    .dataframe thead tr:only-child th {\n",
       "        text-align: right;\n",
       "    }\n",
       "\n",
       "    .dataframe thead th {\n",
       "        text-align: left;\n",
       "    }\n",
       "\n",
       "    .dataframe tbody tr th {\n",
       "        vertical-align: top;\n",
       "    }\n",
       "</style>\n",
       "<table border=\"1\" class=\"dataframe\">\n",
       "  <thead>\n",
       "    <tr style=\"text-align: right;\">\n",
       "      <th></th>\n",
       "      <th>location_id</th>\n",
       "      <th>2015-05-23</th>\n",
       "      <th>2015-05-30</th>\n",
       "      <th>2015-06-06</th>\n",
       "      <th>2015-06-13</th>\n",
       "      <th>2015-06-20</th>\n",
       "      <th>2015-06-27</th>\n",
       "      <th>2015-07-04</th>\n",
       "      <th>2015-07-11</th>\n",
       "      <th>2015-07-18</th>\n",
       "      <th>...</th>\n",
       "      <th>2017-10-14</th>\n",
       "      <th>2017-10-21</th>\n",
       "      <th>2017-10-28</th>\n",
       "      <th>2017-11-04</th>\n",
       "      <th>2017-11-11</th>\n",
       "      <th>2017-11-18</th>\n",
       "      <th>2017-11-25</th>\n",
       "      <th>2017-12-02</th>\n",
       "      <th>zip</th>\n",
       "      <th>DMA</th>\n",
       "    </tr>\n",
       "  </thead>\n",
       "  <tbody>\n",
       "    <tr>\n",
       "      <th>0</th>\n",
       "      <td>1</td>\n",
       "      <td>914.98</td>\n",
       "      <td>714.98</td>\n",
       "      <td>712.99</td>\n",
       "      <td>578.00</td>\n",
       "      <td>3372.04</td>\n",
       "      <td>594.18</td>\n",
       "      <td>579.97</td>\n",
       "      <td>1064.97</td>\n",
       "      <td>1445.97</td>\n",
       "      <td>...</td>\n",
       "      <td>1166.49</td>\n",
       "      <td>799.98</td>\n",
       "      <td>599.98</td>\n",
       "      <td>2739.95</td>\n",
       "      <td>1624.46</td>\n",
       "      <td>1591.23</td>\n",
       "      <td>6105.00</td>\n",
       "      <td>1204.99</td>\n",
       "      <td>43232</td>\n",
       "      <td>COLUMBUS, OH</td>\n",
       "    </tr>\n",
       "    <tr>\n",
       "      <th>1</th>\n",
       "      <td>1001</td>\n",
       "      <td>1429.97</td>\n",
       "      <td>2983.92</td>\n",
       "      <td>1648.97</td>\n",
       "      <td>3914.93</td>\n",
       "      <td>2271.96</td>\n",
       "      <td>158.00</td>\n",
       "      <td>3554.86</td>\n",
       "      <td>876.00</td>\n",
       "      <td>2832.89</td>\n",
       "      <td>...</td>\n",
       "      <td>507.99</td>\n",
       "      <td>2634.93</td>\n",
       "      <td>2866.43</td>\n",
       "      <td>2504.96</td>\n",
       "      <td>1222.06</td>\n",
       "      <td>344.98</td>\n",
       "      <td>6843.91</td>\n",
       "      <td>1329.97</td>\n",
       "      <td>37110</td>\n",
       "      <td>CHATTANOOGA</td>\n",
       "    </tr>\n",
       "    <tr>\n",
       "      <th>2</th>\n",
       "      <td>1003</td>\n",
       "      <td>NaN</td>\n",
       "      <td>179.00</td>\n",
       "      <td>NaN</td>\n",
       "      <td>249.00</td>\n",
       "      <td>1225.99</td>\n",
       "      <td>NaN</td>\n",
       "      <td>1739.98</td>\n",
       "      <td>NaN</td>\n",
       "      <td>513.00</td>\n",
       "      <td>...</td>\n",
       "      <td>225.00</td>\n",
       "      <td>NaN</td>\n",
       "      <td>285.00</td>\n",
       "      <td>285.00</td>\n",
       "      <td>1425.00</td>\n",
       "      <td>NaN</td>\n",
       "      <td>4155.00</td>\n",
       "      <td>541.50</td>\n",
       "      <td>30120</td>\n",
       "      <td>ATLANTA</td>\n",
       "    </tr>\n",
       "    <tr>\n",
       "      <th>3</th>\n",
       "      <td>1005</td>\n",
       "      <td>1184.97</td>\n",
       "      <td>2929.91</td>\n",
       "      <td>584.99</td>\n",
       "      <td>1959.94</td>\n",
       "      <td>2068.29</td>\n",
       "      <td>684.99</td>\n",
       "      <td>1904.92</td>\n",
       "      <td>1597.94</td>\n",
       "      <td>1943.15</td>\n",
       "      <td>...</td>\n",
       "      <td>1444.98</td>\n",
       "      <td>1537.98</td>\n",
       "      <td>862.99</td>\n",
       "      <td>1873.55</td>\n",
       "      <td>927.98</td>\n",
       "      <td>1150.98</td>\n",
       "      <td>5112.16</td>\n",
       "      <td>955.00</td>\n",
       "      <td>27295</td>\n",
       "      <td>GREENSBORO-H.POINT-W.SALEM</td>\n",
       "    </tr>\n",
       "    <tr>\n",
       "      <th>4</th>\n",
       "      <td>1006</td>\n",
       "      <td>NaN</td>\n",
       "      <td>2412.95</td>\n",
       "      <td>819.97</td>\n",
       "      <td>2084.96</td>\n",
       "      <td>475.00</td>\n",
       "      <td>684.99</td>\n",
       "      <td>1959.91</td>\n",
       "      <td>1295.97</td>\n",
       "      <td>2720.94</td>\n",
       "      <td>...</td>\n",
       "      <td>1134.99</td>\n",
       "      <td>2253.12</td>\n",
       "      <td>594.99</td>\n",
       "      <td>1941.46</td>\n",
       "      <td>1134.97</td>\n",
       "      <td>1827.94</td>\n",
       "      <td>2303.97</td>\n",
       "      <td>209.30</td>\n",
       "      <td>29577</td>\n",
       "      <td>MYRTLE BEACH-FLORENCE</td>\n",
       "    </tr>\n",
       "  </tbody>\n",
       "</table>\n",
       "<p>5 rows × 136 columns</p>\n",
       "</div>"
      ],
      "text/plain": [
       "  location_id  2015-05-23  2015-05-30  2015-06-06  2015-06-13  2015-06-20  \\\n",
       "0           1      914.98      714.98      712.99      578.00     3372.04   \n",
       "1        1001     1429.97     2983.92     1648.97     3914.93     2271.96   \n",
       "2        1003         NaN      179.00         NaN      249.00     1225.99   \n",
       "3        1005     1184.97     2929.91      584.99     1959.94     2068.29   \n",
       "4        1006         NaN     2412.95      819.97     2084.96      475.00   \n",
       "\n",
       "   2015-06-27  2015-07-04  2015-07-11  2015-07-18             ...              \\\n",
       "0      594.18      579.97     1064.97     1445.97             ...               \n",
       "1      158.00     3554.86      876.00     2832.89             ...               \n",
       "2         NaN     1739.98         NaN      513.00             ...               \n",
       "3      684.99     1904.92     1597.94     1943.15             ...               \n",
       "4      684.99     1959.91     1295.97     2720.94             ...               \n",
       "\n",
       "   2017-10-14  2017-10-21  2017-10-28  2017-11-04  2017-11-11  2017-11-18  \\\n",
       "0     1166.49      799.98      599.98     2739.95     1624.46     1591.23   \n",
       "1      507.99     2634.93     2866.43     2504.96     1222.06      344.98   \n",
       "2      225.00         NaN      285.00      285.00     1425.00         NaN   \n",
       "3     1444.98     1537.98      862.99     1873.55      927.98     1150.98   \n",
       "4     1134.99     2253.12      594.99     1941.46     1134.97     1827.94   \n",
       "\n",
       "   2017-11-25  2017-12-02    zip                         DMA  \n",
       "0     6105.00     1204.99  43232                COLUMBUS, OH  \n",
       "1     6843.91     1329.97  37110                 CHATTANOOGA  \n",
       "2     4155.00      541.50  30120                     ATLANTA  \n",
       "3     5112.16      955.00  27295  GREENSBORO-H.POINT-W.SALEM  \n",
       "4     2303.97      209.30  29577       MYRTLE BEACH-FLORENCE  \n",
       "\n",
       "[5 rows x 136 columns]"
      ]
     },
     "execution_count": 51,
     "metadata": {},
     "output_type": "execute_result"
    }
   ],
   "source": [
    "recliner_sales.head()"
   ]
  },
  {
   "cell_type": "code",
   "execution_count": 52,
   "metadata": {},
   "outputs": [],
   "source": [
    "fireplace_sales=dfsales[dfsales['class_code_id']=='61204']\n",
    "fireplace_sales=fireplace_sales[['location_id','week_end_dt','class_gross_sales_amt']]"
   ]
  },
  {
   "cell_type": "code",
   "execution_count": 53,
   "metadata": {
    "collapsed": true
   },
   "outputs": [],
   "source": [
    "fireplace_sales=pd.pivot_table(fireplace_sales,values = 'class_gross_sales_amt', index='location_id', columns = 'week_end_dt').reset_index()"
   ]
  },
  {
   "cell_type": "code",
   "execution_count": 54,
   "metadata": {
    "collapsed": true
   },
   "outputs": [],
   "source": [
    "fireplace_sales=pd.merge(fireplace_sales,dfstore,on='location_id',how='left')\n",
    "fireplace_sales=pd.merge(fireplace_sales,dma,on='zip',how='left')"
   ]
  },
  {
   "cell_type": "code",
   "execution_count": 56,
   "metadata": {},
   "outputs": [],
   "source": [
    "writer = pd.ExcelWriter('/home/jian/Projects/Big Lots/fireplace and reliner.xlsx',engine='xlsxwriter')"
   ]
  },
  {
   "cell_type": "code",
   "execution_count": 57,
   "metadata": {
    "collapsed": true
   },
   "outputs": [],
   "source": [
    "fireplace_sales.to_excel(writer,'fireplace')\n",
    "recliner_sales.to_excel(writer,'recliner')"
   ]
  },
  {
   "cell_type": "code",
   "execution_count": 58,
   "metadata": {
    "collapsed": true
   },
   "outputs": [],
   "source": [
    "writer.save()"
   ]
  }
 ],
 "metadata": {
  "kernelspec": {
   "display_name": "Python 3",
   "language": "python",
   "name": "python3"
  },
  "language_info": {
   "codemirror_mode": {
    "name": "ipython",
    "version": 3
   },
   "file_extension": ".py",
   "mimetype": "text/x-python",
   "name": "python",
   "nbconvert_exporter": "python",
   "pygments_lexer": "ipython3",
   "version": "3.6.1"
  }
 },
 "nbformat": 4,
 "nbformat_minor": 2
}
