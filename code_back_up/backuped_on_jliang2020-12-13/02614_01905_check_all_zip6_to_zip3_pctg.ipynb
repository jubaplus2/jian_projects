{
 "cells": [
  {
   "cell_type": "code",
   "execution_count": 1,
   "metadata": {},
   "outputs": [
    {
     "data": {
      "text/plain": [
       "'/home/jian/Projects/Savers/QC_CA_TA_zips_Pctg'"
      ]
     },
     "execution_count": 1,
     "metadata": {},
     "output_type": "execute_result"
    }
   ],
   "source": [
    "import pandas as pd\n",
    "import numpy as np\n",
    "import datetime\n",
    "import os\n",
    "from haversine import haversine\n",
    "\n",
    "os.getcwd()"
   ]
  },
  {
   "cell_type": "code",
   "execution_count": 2,
   "metadata": {},
   "outputs": [
    {
     "name": "stdout",
     "output_type": "stream",
     "text": [
      "['Store_list', 'TA_Summary', 'TA_Summary_by_store_count', 'TA_zips', 'CAN TA_zips De-Duped', 'check Dup rate']\n",
      "(981422, 2)\n",
      "(981422, 2)\n"
     ]
    }
   ],
   "source": [
    "Excel_1=pd.ExcelFile(\"/home/jian/Projects/Savers/QC_CA_TA_zips_Pctg/Savers_CA_TA_Final_Version_JL_2019-03-27 BR.xlsx\")\n",
    "print(Excel_1.sheet_names)\n",
    "df_1=Excel_1.parse(\"TA_zips\",dtype=str,usecols=['location_id','zip_cd'])\n",
    "print(df_1.shape)\n",
    "df_1=df_1.drop_duplicates()\n",
    "print(df_1.shape)"
   ]
  },
  {
   "cell_type": "code",
   "execution_count": 3,
   "metadata": {},
   "outputs": [
    {
     "data": {
      "text/html": [
       "<div>\n",
       "<style>\n",
       "    .dataframe thead tr:only-child th {\n",
       "        text-align: right;\n",
       "    }\n",
       "\n",
       "    .dataframe thead th {\n",
       "        text-align: left;\n",
       "    }\n",
       "\n",
       "    .dataframe tbody tr th {\n",
       "        vertical-align: top;\n",
       "    }\n",
       "</style>\n",
       "<table border=\"1\" class=\"dataframe\">\n",
       "  <thead>\n",
       "    <tr style=\"text-align: right;\">\n",
       "      <th></th>\n",
       "      <th>location_id</th>\n",
       "      <th>zip_cd</th>\n",
       "    </tr>\n",
       "  </thead>\n",
       "  <tbody>\n",
       "    <tr>\n",
       "      <th>0</th>\n",
       "      <td>2004</td>\n",
       "      <td>V1Y 8C8</td>\n",
       "    </tr>\n",
       "    <tr>\n",
       "      <th>1</th>\n",
       "      <td>2004</td>\n",
       "      <td>V1Y 5T5</td>\n",
       "    </tr>\n",
       "  </tbody>\n",
       "</table>\n",
       "</div>"
      ],
      "text/plain": [
       "  location_id   zip_cd\n",
       "0        2004  V1Y 8C8\n",
       "1        2004  V1Y 5T5"
      ]
     },
     "execution_count": 3,
     "metadata": {},
     "output_type": "execute_result"
    }
   ],
   "source": [
    "df_1.head(2)"
   ]
  },
  {
   "cell_type": "code",
   "execution_count": 4,
   "metadata": {},
   "outputs": [
    {
     "data": {
      "text/plain": [
       "(143, 3)"
      ]
     },
     "execution_count": 4,
     "metadata": {},
     "output_type": "execute_result"
    }
   ],
   "source": [
    "df_1_store_center=Excel_1.parse(\"Store_list\",dtype=str,usecols=['location_id','Latitude','Longitude'])\n",
    "df_1_store_center.shape"
   ]
  },
  {
   "cell_type": "code",
   "execution_count": 5,
   "metadata": {
    "collapsed": true
   },
   "outputs": [],
   "source": [
    "df_2_1=pd.read_excel(\"./Savers_zips_for_2156_RL_2019-06-28.xlsx\",dtype=str)\n",
    "df_2_2=pd.read_excel(\"./Savers_zips_for_2161_RL_2019-06-28.xlsx\",dtype=str)\n",
    "df_2_2['store_id']=\"2161\" # Correct the values in teh column for the store number\n",
    "df_2=df_2_1.append(df_2_2)\n",
    "df_2['Google_Lat']=df_2['Google_Lat'].astype(float)\n",
    "df_2['Google_Long']=df_2['Google_Long'].astype(float)\n",
    "df_2=df_2[['store_id','Google_Lat','Google_Long','zip_cd']]\n",
    "df_2=df_2.rename(columns={\"Google_Lat\":\"Latitude\",\"Google_Long\":\"Longitude\"})\n",
    "df_2=df_2.rename(columns={\"store_id\":\"location_id\"})\n"
   ]
  },
  {
   "cell_type": "code",
   "execution_count": 6,
   "metadata": {
    "collapsed": true
   },
   "outputs": [],
   "source": [
    "df_3=pd.ExcelFile(\"./Savers_New2Stores_TA 20191017 CC.xlsx\")\n",
    "df_3=df_3.parse(\"All Data\",dtype=str)\n",
    "df_3['latitude_meas']=df_3['latitude_meas'].astype(float)\n",
    "df_3['longitude_meas']=df_3['longitude_meas'].astype(float)\n",
    "df_3=df_3[['location_id','latitude_meas','longitude_meas','zip','Zip first 3']]\n",
    "df_3=df_3.rename(columns={\"latitude_meas\":\"Latitude\",\"longitude_meas\":\"Longitude\"})\n",
    "df_3=df_3.rename(columns={\"zip\":\"zip_cd\"})\n"
   ]
  },
  {
   "cell_type": "code",
   "execution_count": 7,
   "metadata": {
    "collapsed": true
   },
   "outputs": [],
   "source": [
    "\n",
    "df_2_store_center=df_2[['location_id','Latitude','Longitude']].drop_duplicates()\n",
    "df_3_store_center=df_3[['location_id','Latitude','Longitude']].drop_duplicates()\n",
    "# \n",
    "df_1_store_center['store_center']=df_1_store_center[['Latitude','Longitude']].values.tolist()\n",
    "df_2_store_center['store_center']=df_2_store_center[['Latitude','Longitude']].values.tolist()\n",
    "df_3_store_center['store_center']=df_3_store_center[['Latitude','Longitude']].values.tolist()\n",
    "# \n",
    "\n",
    "df_store_centers=df_1_store_center.append(df_2_store_center).append(df_3_store_center)\n",
    "\n",
    "dict_CA_store_centers=df_store_centers.set_index(\"location_id\").to_dict()['store_center']"
   ]
  },
  {
   "cell_type": "code",
   "execution_count": 8,
   "metadata": {},
   "outputs": [
    {
     "data": {
      "text/plain": [
       "147"
      ]
     },
     "execution_count": 8,
     "metadata": {},
     "output_type": "execute_result"
    }
   ],
   "source": [
    "len(dict_CA_store_centers)"
   ]
  },
  {
   "cell_type": "code",
   "execution_count": 9,
   "metadata": {
    "collapsed": true
   },
   "outputs": [],
   "source": [
    "df_1=df_1[['location_id','zip_cd']].drop_duplicates()\n",
    "df_2=df_2[['location_id','zip_cd']].drop_duplicates()\n",
    "df_3=df_3[['location_id','zip_cd']].drop_duplicates()\n",
    "\n",
    "df_all_zips_by_store=df_1.append(df_2).append(df_3)"
   ]
  },
  {
   "cell_type": "code",
   "execution_count": 10,
   "metadata": {},
   "outputs": [
    {
     "name": "stdout",
     "output_type": "stream",
     "text": [
      "(1006010, 2)\n",
      "(1006010, 2)\n"
     ]
    }
   ],
   "source": [
    "print(df_all_zips_by_store.shape)\n",
    "df_all_zips_by_store=df_all_zips_by_store.drop_duplicates()\n",
    "print(df_all_zips_by_store.shape)"
   ]
  },
  {
   "cell_type": "code",
   "execution_count": 11,
   "metadata": {},
   "outputs": [
    {
     "data": {
      "text/plain": [
       "(562889, 1)"
      ]
     },
     "execution_count": 11,
     "metadata": {},
     "output_type": "execute_result"
    }
   ],
   "source": [
    "df_unique_zip_6=df_all_zips_by_store[['zip_cd']].drop_duplicates()\n",
    "df_unique_zip_6.shape"
   ]
  },
  {
   "cell_type": "code",
   "execution_count": 12,
   "metadata": {},
   "outputs": [
    {
     "data": {
      "text/html": [
       "<div>\n",
       "<style>\n",
       "    .dataframe thead tr:only-child th {\n",
       "        text-align: right;\n",
       "    }\n",
       "\n",
       "    .dataframe thead th {\n",
       "        text-align: left;\n",
       "    }\n",
       "\n",
       "    .dataframe tbody tr th {\n",
       "        vertical-align: top;\n",
       "    }\n",
       "</style>\n",
       "<table border=\"1\" class=\"dataframe\">\n",
       "  <thead>\n",
       "    <tr style=\"text-align: right;\">\n",
       "      <th></th>\n",
       "      <th>zip_cd</th>\n",
       "    </tr>\n",
       "  </thead>\n",
       "  <tbody>\n",
       "    <tr>\n",
       "      <th>0</th>\n",
       "      <td>V1Y 8C8</td>\n",
       "    </tr>\n",
       "    <tr>\n",
       "      <th>1</th>\n",
       "      <td>V1Y 5T5</td>\n",
       "    </tr>\n",
       "  </tbody>\n",
       "</table>\n",
       "</div>"
      ],
      "text/plain": [
       "    zip_cd\n",
       "0  V1Y 8C8\n",
       "1  V1Y 5T5"
      ]
     },
     "execution_count": 12,
     "metadata": {},
     "output_type": "execute_result"
    }
   ],
   "source": [
    "df_unique_zip_6.head(2)"
   ]
  },
  {
   "cell_type": "code",
   "execution_count": null,
   "metadata": {
    "collapsed": true
   },
   "outputs": [],
   "source": []
  },
  {
   "cell_type": "code",
   "execution_count": 13,
   "metadata": {},
   "outputs": [
    {
     "name": "stdout",
     "output_type": "stream",
     "text": [
      "(1115041, 3)\n",
      "(873339, 3)\n",
      "873339\n"
     ]
    }
   ],
   "source": [
    "df_CA_zip_data=pd.read_csv(\"/home/jian/Docs/Geo_mapping/Canadian_Postal_Codes/canada-postal-code-database-BUSINESS-CSV/canada-postal-code-database-BUSINESS.csv\",\n",
    "                           dtype=str,usecols=['PostalCode','Latitude','Longitude'])\n",
    "print(df_CA_zip_data.shape)\n",
    "df_CA_zip_data=df_CA_zip_data.drop_duplicates()\n",
    "print(df_CA_zip_data.shape)\n",
    "print(df_CA_zip_data['PostalCode'].nunique())"
   ]
  },
  {
   "cell_type": "code",
   "execution_count": 14,
   "metadata": {},
   "outputs": [
    {
     "name": "stdout",
     "output_type": "stream",
     "text": [
      "[3]\n"
     ]
    }
   ],
   "source": [
    "df_CA_zip_data['zip_3']=df_CA_zip_data['PostalCode'].apply(lambda x: x.split(\" \")[0])\n",
    "print(df_CA_zip_data['zip_3'].apply(len).unique())"
   ]
  },
  {
   "cell_type": "code",
   "execution_count": 16,
   "metadata": {},
   "outputs": [
    {
     "name": "stdout",
     "output_type": "stream",
     "text": [
      "(1653, 2)\n"
     ]
    }
   ],
   "source": [
    "df_zip3_zip6_count=df_CA_zip_data.groupby(\"zip_3\")['PostalCode'].count().to_frame().reset_index().rename(columns={\"PostalCode\":\"zip6_total_count\"})\n",
    "print(df_zip3_zip6_count.shape)\n",
    "\n"
   ]
  },
  {
   "cell_type": "code",
   "execution_count": 17,
   "metadata": {},
   "outputs": [
    {
     "name": "stdout",
     "output_type": "stream",
     "text": [
      "[3]\n"
     ]
    }
   ],
   "source": [
    "df_unique_zip_6['zip_3']=df_unique_zip_6['zip_cd'].apply(lambda x: x.split(\" \")[0])\n",
    "print(df_unique_zip_6['zip_3'].apply(len).unique())\n",
    "\n",
    "list_all_TA_zips_3=df_unique_zip_6['zip_3'].unique().tolist()"
   ]
  },
  {
   "cell_type": "code",
   "execution_count": 18,
   "metadata": {},
   "outputs": [
    {
     "data": {
      "text/plain": [
       "(1653, 2)"
      ]
     },
     "execution_count": 18,
     "metadata": {},
     "output_type": "execute_result"
    }
   ],
   "source": [
    "df_included_zip6_count=df_unique_zip_6.groupby(\"zip_3\")['zip_cd'].count().to_frame().reset_index().rename(columns={\"zip_cd\":\"zip6_in_TA\"})\n",
    "df_zip3_zip6_count.shape"
   ]
  },
  {
   "cell_type": "code",
   "execution_count": 19,
   "metadata": {},
   "outputs": [],
   "source": [
    "df_output_1_overall=pd.merge(df_zip3_zip6_count,df_included_zip6_count,on=\"zip_3\",how=\"outer\")\n",
    "df_output_1_overall=df_output_1_overall.fillna(0)\n",
    "\n",
    "df_output_1_overall['Pctg_in_TA']=df_output_1_overall['zip6_in_TA']/df_output_1_overall['zip6_total_count']\n",
    "df_output_1_overall['Pctg_in_TA']=df_output_1_overall['Pctg_in_TA'].apply(lambda x: np.round(x,6))"
   ]
  },
  {
   "cell_type": "code",
   "execution_count": 20,
   "metadata": {},
   "outputs": [],
   "source": [
    "df_output_1_overall['Label_in_TA']=np.where(df_output_1_overall['zip_3'].isin(list_all_TA_zips_3),1,0)"
   ]
  },
  {
   "cell_type": "code",
   "execution_count": 21,
   "metadata": {},
   "outputs": [
    {
     "name": "stdout",
     "output_type": "stream",
     "text": [
      "[3]\n"
     ]
    }
   ],
   "source": [
    "df_output_2_by_store=df_all_zips_by_store.copy()\n",
    "df_output_2_by_store['zip_3']=df_output_2_by_store['zip_cd'].apply(lambda x: x.split(\" \")[0])\n",
    "print(df_output_2_by_store['zip_3'].apply(len).unique())\n",
    "df_output_2_by_store=df_output_2_by_store.groupby([\"location_id\",\"zip_3\"])['zip_cd'].count().to_frame().reset_index().rename(columns={\"zip_cd\":\"zip6_in_TA_by_store\"})\n",
    "df_output_2_by_store=pd.merge(df_output_2_by_store,df_zip3_zip6_count,on=\"zip_3\",how=\"left\")\n",
    "\n",
    "df_output_2_by_store['Pctg_in_TA_store']=df_output_2_by_store['zip6_in_TA_by_store']/df_output_2_by_store['zip6_total_count']\n",
    "df_output_2_by_store['Pctg_in_TA_store']=df_output_2_by_store['Pctg_in_TA_store'].apply(lambda x: np.round(x,6))"
   ]
  },
  {
   "cell_type": "code",
   "execution_count": 22,
   "metadata": {
    "collapsed": true
   },
   "outputs": [],
   "source": [
    "writer=pd.ExcelWriter(\"./Savers_QC_zip6_to_zip3_converting_JL_\"+str(datetime.datetime.now().date())+\".xlsx\",engine=\"xlsxwriter\")\n",
    "df_output_1_overall.to_excel(writer,\"unique_zip3_whole\",index=False)\n",
    "df_output_2_by_store.to_excel(writer,\"zip3_by_store\",index=False)\n",
    "writer.save()"
   ]
  },
  {
   "cell_type": "code",
   "execution_count": null,
   "metadata": {
    "collapsed": true
   },
   "outputs": [],
   "source": []
  }
 ],
 "metadata": {
  "kernelspec": {
   "display_name": "Python 3",
   "language": "python",
   "name": "python3"
  },
  "language_info": {
   "codemirror_mode": {
    "name": "ipython",
    "version": 3
   },
   "file_extension": ".py",
   "mimetype": "text/x-python",
   "name": "python",
   "nbconvert_exporter": "python",
   "pygments_lexer": "ipython3",
   "version": "3.6.1"
  }
 },
 "nbformat": 4,
 "nbformat_minor": 2
}
