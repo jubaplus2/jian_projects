{
 "cells": [
  {
   "cell_type": "code",
   "execution_count": 1,
   "metadata": {
    "collapsed": true
   },
   "outputs": [],
   "source": [
    "import pandas as pd\n",
    "import datetime\n",
    "import os\n",
    "import gc\n",
    "import glob\n",
    "import numpy as np\n",
    "folder=\"/home/jian/Projects/Saatva/Test_Control_Pair/\""
   ]
  },
  {
   "cell_type": "markdown",
   "metadata": {},
   "source": [
    "# P1 - Sales & Transaction"
   ]
  },
  {
   "cell_type": "code",
   "execution_count": 2,
   "metadata": {
    "collapsed": true
   },
   "outputs": [],
   "source": [
    "# week1 to week12 of transactions and sales \n",
    "start_date=datetime.datetime(2018,2,19).date() # Monday\n",
    "end_date=datetime.datetime(2018,5,13).date() # Sunday"
   ]
  },
  {
   "cell_type": "code",
   "execution_count": 3,
   "metadata": {},
   "outputs": [
    {
     "data": {
      "text/plain": [
       "(32153, 7)"
      ]
     },
     "execution_count": 3,
     "metadata": {},
     "output_type": "execute_result"
    }
   ],
   "source": [
    "sales_df=pd.read_excel(\"/home/jian/Projects/Saatva/Transaction_Data/Sales_Jian_2018_5.24.2018.xlsx\",dtype=str,sheetname=\"Sales_By_Brand\")\n",
    "sales_df=sales_df[['Order_id','Date','Time','Zip_Code','Sales','Source','Brand']]\n",
    "sales_df=sales_df[sales_df['Brand']=='Saatva']\n",
    "sales_df=sales_df.reset_index()\n",
    "del sales_df['index']\n",
    "sales_df['Date']=sales_df['Date'].apply(lambda x: datetime.datetime.strptime(x[0:10],\"%Y-%m-%d\").date())\n",
    "sales_df['Time']=sales_df['Time'].apply(lambda x: datetime.datetime.strptime(x,\"%H:%M:%S\").time())\n",
    "sales_df['Sales']=sales_df['Sales'].astype(float)\n",
    "sales_df.shape"
   ]
  },
  {
   "cell_type": "code",
   "execution_count": 4,
   "metadata": {
    "collapsed": true
   },
   "outputs": [],
   "source": [
    "zip_dma=pd.read_excel(\"/home/jian/Docs/Geo_mapping/Zips by DMA by County16-17 nielsen.xlsx\",skiprows=1,dtype=str)\n",
    "zip_dma=zip_dma.iloc[:,[0,2]].rename(columns={\"CODE\":\"Zip_Code\",\"NAME\":\"DMA\"})\n",
    "zip_dma=zip_dma.drop_duplicates()"
   ]
  },
  {
   "cell_type": "code",
   "execution_count": 5,
   "metadata": {
    "collapsed": true
   },
   "outputs": [],
   "source": [
    "sales_df=pd.merge(sales_df,zip_dma,on=\"Zip_Code\",how=\"left\")"
   ]
  },
  {
   "cell_type": "code",
   "execution_count": 6,
   "metadata": {
    "collapsed": true
   },
   "outputs": [],
   "source": [
    "selected_25_DMA=pd.read_excel(\"/home/jian/Projects/Saatva/Otherinput/selected_25_DMAs.xlsx\",dtype=str)\n",
    "selected_25_DMA=selected_25_DMA[selected_25_DMA['In_TV_25_Index']==\"In_Top25_TV\"]"
   ]
  },
  {
   "cell_type": "code",
   "execution_count": 7,
   "metadata": {
    "collapsed": true
   },
   "outputs": [],
   "source": [
    "sales_25_DMA=sales_df[sales_df['DMA'].isin(selected_25_DMA['dma'])]\n",
    "sales_25_DMA=sales_25_DMA[(sales_25_DMA['Date']>=start_date) & (sales_25_DMA['Date']<=end_date)].reset_index()\n",
    "del sales_25_DMA['index']"
   ]
  },
  {
   "cell_type": "code",
   "execution_count": 8,
   "metadata": {
    "collapsed": true
   },
   "outputs": [],
   "source": [
    "sales_25_DMA_sales=sales_25_DMA.groupby(\"DMA\")['Sales'].sum().to_frame().reset_index()\n",
    "sales_25_DMA_transctions=sales_25_DMA.groupby(\"DMA\")['Sales'].count().to_frame().reset_index().rename(columns={\"Sales\":\"Transactions\"})\n",
    "\n",
    "sales_25_DMA_P1=pd.merge(sales_25_DMA_sales,sales_25_DMA_transctions,on=\"DMA\",how=\"left\")"
   ]
  },
  {
   "cell_type": "code",
   "execution_count": null,
   "metadata": {
    "collapsed": true
   },
   "outputs": [],
   "source": []
  },
  {
   "cell_type": "markdown",
   "metadata": {},
   "source": [
    "# P2 - Adult 35-54"
   ]
  },
  {
   "cell_type": "code",
   "execution_count": 9,
   "metadata": {
    "collapsed": true
   },
   "outputs": [],
   "source": [
    "zip_pop=pd.read_csv(\"/home/jian/Docs/Household_and_Population/2016/Demo_Dataset.csv\",dtype=str)\n",
    "\n",
    "zip_pop=zip_pop[['ZIP_CODE','Estimate; SEX AND AGE - 35 to 44 years','Estimate; SEX AND AGE - 45 to 54 years']]\n",
    "zip_pop['Estimate; SEX AND AGE - 35 to 44 years']=zip_pop['Estimate; SEX AND AGE - 35 to 44 years'].astype(float).fillna(0)\n",
    "zip_pop['Estimate; SEX AND AGE - 45 to 54 years']=zip_pop['Estimate; SEX AND AGE - 45 to 54 years'].astype(float).fillna(0)\n",
    "zip_pop['Adult_35_to_54']=zip_pop['Estimate; SEX AND AGE - 35 to 44 years']+zip_pop['Estimate; SEX AND AGE - 45 to 54 years']\n",
    "zip_pop=zip_pop[['ZIP_CODE','Adult_35_to_54']]\n",
    "zip_pop['ZIP_CODE']=zip_pop['ZIP_CODE'].astype(str).apply(lambda x:x.zfill(5))\n",
    "zip_pop=zip_pop.rename(columns={\"ZIP_CODE\":\"Zip_Code\"})"
   ]
  },
  {
   "cell_type": "code",
   "execution_count": 10,
   "metadata": {
    "collapsed": true
   },
   "outputs": [],
   "source": [
    "zip_dma_Adult=pd.merge(zip_dma,zip_pop,on=\"Zip_Code\",how=\"left\")\n",
    "zip_dma_Adult['Adult_35_to_54']=zip_dma_Adult['Adult_35_to_54'].fillna(0)"
   ]
  },
  {
   "cell_type": "code",
   "execution_count": 11,
   "metadata": {
    "collapsed": true
   },
   "outputs": [],
   "source": [
    "Adult_25_DMA_P2=zip_dma_Adult.groupby(\"DMA\")['Adult_35_to_54'].sum().to_frame().reset_index()"
   ]
  },
  {
   "cell_type": "code",
   "execution_count": null,
   "metadata": {
    "collapsed": true
   },
   "outputs": [],
   "source": []
  },
  {
   "cell_type": "code",
   "execution_count": 12,
   "metadata": {
    "collapsed": true
   },
   "outputs": [],
   "source": [
    "dma_cleaning=pd.read_excel(\"/home/jian/Docs/DMA cleaning.xlsx\",dtype=str,sheetname=\"new clean\")[['dma','cleaned dma']].drop_duplicates()\n",
    "dma_cleaning_Nielsen=dma_cleaning[dma_cleaning['dma'].isin(zip_dma['DMA'])].drop_duplicates()"
   ]
  },
  {
   "cell_type": "code",
   "execution_count": 13,
   "metadata": {},
   "outputs": [
    {
     "data": {
      "text/html": [
       "<div>\n",
       "<style>\n",
       "    .dataframe thead tr:only-child th {\n",
       "        text-align: right;\n",
       "    }\n",
       "\n",
       "    .dataframe thead th {\n",
       "        text-align: left;\n",
       "    }\n",
       "\n",
       "    .dataframe tbody tr th {\n",
       "        vertical-align: top;\n",
       "    }\n",
       "</style>\n",
       "<table border=\"1\" class=\"dataframe\">\n",
       "  <thead>\n",
       "    <tr style=\"text-align: right;\">\n",
       "      <th></th>\n",
       "      <th>dma</th>\n",
       "      <th>cleaned dma</th>\n",
       "    </tr>\n",
       "  </thead>\n",
       "  <tbody>\n",
       "    <tr>\n",
       "      <th>4</th>\n",
       "      <td>ABILENE-SWEETWATER</td>\n",
       "      <td>Abilene-Sweetwater, TX</td>\n",
       "    </tr>\n",
       "    <tr>\n",
       "      <th>16</th>\n",
       "      <td>ALBANY-SCHENECTADY-TROY</td>\n",
       "      <td>Albany-Schenectady-Troy, NY</td>\n",
       "    </tr>\n",
       "  </tbody>\n",
       "</table>\n",
       "</div>"
      ],
      "text/plain": [
       "                        dma                  cleaned dma\n",
       "4        ABILENE-SWEETWATER       Abilene-Sweetwater, TX\n",
       "16  ALBANY-SCHENECTADY-TROY  Albany-Schenectady-Troy, NY"
      ]
     },
     "execution_count": 13,
     "metadata": {},
     "output_type": "execute_result"
    }
   ],
   "source": [
    "dma_cleaning_Nielsen.head(2)"
   ]
  },
  {
   "cell_type": "code",
   "execution_count": 14,
   "metadata": {
    "collapsed": true
   },
   "outputs": [],
   "source": [
    "dma_cleaning_Nielsen=dma_cleaning_Nielsen[['dma','cleaned dma']]"
   ]
  },
  {
   "cell_type": "markdown",
   "metadata": {},
   "source": [
    "# P3 - GA:Sessions"
   ]
  },
  {
   "cell_type": "code",
   "execution_count": 15,
   "metadata": {
    "collapsed": true
   },
   "outputs": [],
   "source": [
    "import google_analytics_reporting_api as ga\n",
    "analytics = ga.initialize_analyticsreporting('/home/jian/Projects/Saatva/GA/GA_api_jubapluscc@gmail.com.json')\n",
    "\n",
    "def num_func_trans(df):\n",
    "    if 'ga:sessions' in df.columns:\n",
    "        df['ga:sessions']=df['ga:sessions'].apply(lambda x: int(x.replace(\",\",\"\")))\n",
    "        df['ga:sessions']=df['ga:sessions'].astype(int)\n",
    "\n",
    "    if 'ga:adClicks' in df.columns:\n",
    "        df['ga:adClicks']=df['ga:adClicks'].apply(lambda x: int(x.replace(\",\",\"\")))\n",
    "        df['ga:adClicks']=df['ga:adClicks'].astype(int)\n",
    "\n",
    "    if 'ga:impressions' in df.columns:\n",
    "        df['ga:impressions']=df['ga:impressions'].apply(lambda x: int(x.replace(\",\",\"\")))\n",
    "        df['ga:impressions']=df['ga:impressions'].astype(int)\n",
    "    \n",
    "    if 'ga:transactions' in df.columns:\n",
    "        df['ga:transactions']=df['ga:transactions'].apply(lambda x: int(x.replace(\",\",\"\")))\n",
    "        df['ga:transactions']=df['ga:transactions'].astype(int)\n",
    "    \n",
    "    if 'ga:transactionRevenue' in df.columns:\n",
    "        df['ga:transactionRevenue']=df['ga:transactionRevenue'].apply(lambda x: float(x.replace(\",\",\"\")))\n",
    "        df['ga:transactionRevenue']=df['ga:transactionRevenue'].astype(float)\n",
    "\n",
    "    \n",
    "    return df\n"
   ]
  },
  {
   "cell_type": "code",
   "execution_count": 16,
   "metadata": {},
   "outputs": [
    {
     "data": {
      "text/plain": [
       "(15144, 8)"
      ]
     },
     "execution_count": 16,
     "metadata": {},
     "output_type": "execute_result"
    }
   ],
   "source": [
    "# Saatva.com\n",
    "# date DMA Session\n",
    "ga_data_saatva=ga.get_report_over_10000_rows(analytics=analytics, VIEW_ID='122377905',start_date=str(start_date), end_date=str(end_date),\n",
    "                                            ga_metrics=['ga:sessions','ga:bounceRate','ga:pageviews','ga:bounces'],\n",
    "                                            ga_dimensions=['ga:date','ga:metro'])\n",
    "\n",
    "\n",
    "ga_data_saatva['View']=\"Saatva.com\"\n",
    "ga_data_saatva['View_ID']=\"122377905\"\n",
    "ga_data_saatva.shape"
   ]
  },
  {
   "cell_type": "code",
   "execution_count": 17,
   "metadata": {},
   "outputs": [
    {
     "data": {
      "text/plain": [
       "(18792, 8)"
      ]
     },
     "execution_count": 17,
     "metadata": {},
     "output_type": "execute_result"
    }
   ],
   "source": [
    "# Saatvamattress.com\n",
    "# date DMA Session\n",
    "ga_data_SM=ga.get_report_over_10000_rows(analytics=analytics, VIEW_ID='33605697',start_date=str(start_date), end_date=str(end_date),\n",
    "                                            ga_metrics=['ga:sessions','ga:bounceRate','ga:pageviews','ga:bounces'],\n",
    "                                            ga_dimensions=['ga:date','ga:metro'])\n",
    "\n",
    "\n",
    "ga_data_SM['View']=\"Saatvamattress.com\"\n",
    "ga_data_SM['View_ID']=\"33605697\"\n",
    "ga_data_SM.shape"
   ]
  },
  {
   "cell_type": "code",
   "execution_count": 18,
   "metadata": {
    "collapsed": true
   },
   "outputs": [],
   "source": [
    "ga_both=ga_data_saatva.append(ga_data_SM)\n",
    "ga_both=ga_both.rename(columns={'ga:metro':\"dma\"})\n",
    "ga_both=pd.merge(ga_both,dma_cleaning,on=\"dma\",how=\"left\")\n",
    "del ga_both['dma']\n",
    "ga_both=pd.merge(ga_both,dma_cleaning_Nielsen,on=\"cleaned dma\",how=\"left\")\n",
    "del ga_both['cleaned dma']\n",
    "ga_both=ga_both.rename(columns={\"dma\":\"DMA\"})"
   ]
  },
  {
   "cell_type": "code",
   "execution_count": 19,
   "metadata": {
    "collapsed": true
   },
   "outputs": [],
   "source": [
    "ga_both['ga:sessions']=ga_both['ga:sessions'].astype(int)\n",
    "ga_both['ga:pageviews']=ga_both['ga:pageviews'].astype(int)\n",
    "ga_both['ga:bounces']=ga_both['ga:bounces'].astype(int)\n",
    "\n",
    "# 229 DMAs in total including \"not set\"\n",
    "Session_DMA_P3=ga_both.groupby('DMA')['ga:sessions'].sum().to_frame().reset_index()\n",
    "Session_25_DMA_P3=Session_DMA_P3[Session_DMA_P3['DMA'].isin(sales_25_DMA['DMA'])]"
   ]
  },
  {
   "cell_type": "markdown",
   "metadata": {},
   "source": [
    "# P4 - BounceRate | PageViews"
   ]
  },
  {
   "cell_type": "code",
   "execution_count": 20,
   "metadata": {
    "collapsed": true
   },
   "outputs": [],
   "source": [
    "PV_BR_DMA_P4=ga_both.groupby('DMA')['ga:pageviews','ga:bounces','ga:sessions'].sum().reset_index()\n",
    "PV_BR_DMA_P4['BournceRate']=PV_BR_DMA_P4['ga:bounces']/PV_BR_DMA_P4['ga:sessions']\n",
    "PV_BR_DMA_P4=PV_BR_DMA_P4[['DMA','ga:pageviews','BournceRate']]\n",
    "PV_BR_25_DMA_P4=PV_BR_DMA_P4[PV_BR_DMA_P4['DMA'].isin(sales_25_DMA['DMA'])]"
   ]
  },
  {
   "cell_type": "markdown",
   "metadata": {},
   "source": [
    "# P5 - ARI"
   ]
  },
  {
   "cell_type": "code",
   "execution_count": 30,
   "metadata": {},
   "outputs": [
    {
     "data": {
      "text/plain": [
       "['HONOLULU', 'FAIRBANKS', 'JUNEAU']"
      ]
     },
     "execution_count": 30,
     "metadata": {},
     "output_type": "execute_result"
    }
   ],
   "source": [
    "[x for x in  zip_dma['DMA'].unique().tolist() if x not in  sales_df['DMA'].unique().tolist()]"
   ]
  },
  {
   "cell_type": "code",
   "execution_count": 32,
   "metadata": {},
   "outputs": [
    {
     "name": "stderr",
     "output_type": "stream",
     "text": [
      "/usr/local/lib/python3.6/site-packages/ipykernel_launcher.py:2: SettingWithCopyWarning: \n",
      "A value is trying to be set on a copy of a slice from a DataFrame.\n",
      "Try using .loc[row_indexer,col_indexer] = value instead\n",
      "\n",
      "See the caveats in the documentation: http://pandas.pydata.org/pandas-docs/stable/indexing.html#indexing-view-versus-copy\n",
      "  \n"
     ]
    }
   ],
   "source": [
    "sales_ARI=sales_df[(sales_df['Date']>=start_date) & (sales_df['Date']<=end_date)]\n",
    "sales_ARI['DMA']=sales_ARI['DMA'].fillna(\"nan\")\n",
    "sales_ARI=sales_ARI[sales_ARI['DMA']!=\"nan\"]\n",
    "\n",
    "sales_ARI['Date_Delta']=sales_ARI['Date'].apply(lambda x: (x-start_date).days)\n",
    "sales_ARI['Week_Num']=(np.floor(sales_ARI['Date_Delta']/7)+1).astype(int)"
   ]
  },
  {
   "cell_type": "code",
   "execution_count": 41,
   "metadata": {},
   "outputs": [
    {
     "data": {
      "text/plain": [
       "array([datetime.date(2018, 5, 6), datetime.date(2018, 5, 5),\n",
       "       datetime.date(2018, 5, 4), datetime.date(2018, 5, 3),\n",
       "       datetime.date(2018, 5, 2), datetime.date(2018, 5, 1),\n",
       "       datetime.date(2018, 4, 30), datetime.date(2018, 4, 22),\n",
       "       datetime.date(2018, 4, 21), datetime.date(2018, 4, 20),\n",
       "       datetime.date(2018, 4, 19), datetime.date(2018, 4, 18),\n",
       "       datetime.date(2018, 4, 17), datetime.date(2018, 4, 16),\n",
       "       datetime.date(2018, 4, 8), datetime.date(2018, 4, 7),\n",
       "       datetime.date(2018, 4, 6), datetime.date(2018, 4, 5),\n",
       "       datetime.date(2018, 4, 4), datetime.date(2018, 4, 3),\n",
       "       datetime.date(2018, 4, 2)], dtype=object)"
      ]
     },
     "execution_count": 41,
     "metadata": {},
     "output_type": "execute_result"
    }
   ],
   "source": [
    "sales_ARI_7_9_11=sales_ARI[sales_ARI['Week_Num'].isin([7,9,11])]\n",
    "sales_ARI_8_10_12=sales_ARI[sales_ARI['Week_Num'].isin([8,10,12])]"
   ]
  },
  {
   "cell_type": "code",
   "execution_count": 44,
   "metadata": {
    "collapsed": true
   },
   "outputs": [],
   "source": [
    "sales_ARI_all_DMA_7_9_11_sales=sales_ARI_7_9_11.groupby(\"DMA\")['Sales'].sum().to_frame().reset_index()\n",
    "sales_ARI_all_DMA_8_10_12_sales=sales_ARI_8_10_12.groupby(\"DMA\")['Sales'].sum().to_frame().reset_index()\n",
    "sales_ARI_all_DMA_7_9_11_sales=sales_ARI_all_DMA_7_9_11_sales.rename(columns={\"Sales\":\"Base_Sales\"})\n",
    "sales_ARI_all_DMA_8_10_12_sales=sales_ARI_all_DMA_8_10_12_sales.rename(columns={\"Sales\":\"Campaign_Sales\"})\n",
    "\n",
    "\n",
    "sales_ARI_all_DMA_7_9_11_trans=sales_ARI_7_9_11.groupby(\"DMA\")['Sales'].count().to_frame().reset_index()\n",
    "sales_ARI_all_DMA_8_10_12_trans=sales_ARI_8_10_12.groupby(\"DMA\")['Sales'].count().to_frame().reset_index()\n",
    "sales_ARI_all_DMA_7_9_11_trans=sales_ARI_all_DMA_7_9_11_trans.rename(columns={\"Sales\":\"Base_Trans\"})\n",
    "sales_ARI_all_DMA_8_10_12_trans=sales_ARI_all_DMA_8_10_12_trans.rename(columns={\"Sales\":\"Campaign_Trans\"})\n",
    "\n",
    "All_DMA_ARI_df=pd.merge(sales_ARI_all_DMA_7_9_11_sales,sales_ARI_all_DMA_8_10_12_sales,on=\"DMA\",how=\"left\")\n",
    "All_DMA_ARI_df=pd.merge(All_DMA_ARI_df,sales_ARI_all_DMA_7_9_11_trans,on=\"DMA\",how=\"left\")\n",
    "All_DMA_ARI_df=pd.merge(All_DMA_ARI_df,sales_ARI_all_DMA_8_10_12_trans,on=\"DMA\",how=\"left\")"
   ]
  },
  {
   "cell_type": "code",
   "execution_count": 52,
   "metadata": {},
   "outputs": [
    {
     "name": "stderr",
     "output_type": "stream",
     "text": [
      "/usr/local/lib/python3.6/site-packages/ipykernel_launcher.py:5: SettingWithCopyWarning: \n",
      "A value is trying to be set on a copy of a slice from a DataFrame\n",
      "\n",
      "See the caveats in the documentation: http://pandas.pydata.org/pandas-docs/stable/indexing.html#indexing-view-versus-copy\n",
      "  \"\"\"\n",
      "/usr/local/lib/python3.6/site-packages/ipykernel_launcher.py:6: SettingWithCopyWarning: \n",
      "A value is trying to be set on a copy of a slice from a DataFrame\n",
      "\n",
      "See the caveats in the documentation: http://pandas.pydata.org/pandas-docs/stable/indexing.html#indexing-view-versus-copy\n",
      "  \n"
     ]
    }
   ],
   "source": [
    "All_DMA_ARI_df=All_DMA_ARI_df.fillna(0)\n",
    "All_DMA_ARI_df['Sales_ARI']=np.nan\n",
    "All_DMA_ARI_df['Trans_ARI']=np.nan\n",
    "for i in range(len(All_DMA_ARI_df)):\n",
    "    All_DMA_ARI_df['Sales_ARI'][i]=(All_DMA_ARI_df['Campaign_Sales'][i]/All_DMA_ARI_df['Base_Sales'][i])/(All_DMA_ARI_df['Campaign_Sales'].sum()/All_DMA_ARI_df['Base_Sales'].sum())*100\n",
    "    All_DMA_ARI_df['Trans_ARI'][i]=(All_DMA_ARI_df['Campaign_Trans'][i]/All_DMA_ARI_df['Base_Trans'][i])/(All_DMA_ARI_df['Campaign_Trans'].sum()/All_DMA_ARI_df['Base_Trans'].sum())*100"
   ]
  },
  {
   "cell_type": "code",
   "execution_count": 76,
   "metadata": {},
   "outputs": [],
   "source": [
    "ARI_25_DMA_P5=All_DMA_ARI_df[All_DMA_ARI_df['DMA'].isin(PV_BR_25_DMA_P4['DMA'])][['DMA',\"Sales_ARI\",\"Trans_ARI\"]]"
   ]
  },
  {
   "cell_type": "markdown",
   "metadata": {
    "collapsed": true
   },
   "source": [
    "# Calculate Diff"
   ]
  },
  {
   "cell_type": "code",
   "execution_count": 180,
   "metadata": {},
   "outputs": [],
   "source": [
    "data_5P=pd.merge(sales_25_DMA_P1,Adult_25_DMA_P2,on=\"DMA\",how=\"left\")\n",
    "data_5P=pd.merge(data_5P,Session_25_DMA_P3,on=\"DMA\",how=\"left\")\n",
    "data_5P=pd.merge(data_5P,PV_BR_25_DMA_P4,on=\"DMA\",how=\"left\")\n",
    "data_5P=pd.merge(data_5P,ARI_25_DMA_P5,on=\"DMA\",how=\"left\")\n"
   ]
  },
  {
   "cell_type": "code",
   "execution_count": 181,
   "metadata": {},
   "outputs": [],
   "source": [
    "data_5P_C=data_5P.copy()\n",
    "data_5P_T=data_5P.copy()\n",
    "data_5P_C.columns=[\"C_\"+x for x in data_5P_C.columns.tolist()]\n",
    "data_5P_T.columns=[\"T_\"+x for x in data_5P_T.columns.tolist()]"
   ]
  },
  {
   "cell_type": "code",
   "execution_count": 182,
   "metadata": {},
   "outputs": [
    {
     "name": "stderr",
     "output_type": "stream",
     "text": [
      "/usr/local/lib/python3.6/site-packages/ipykernel_launcher.py:5: SettingWithCopyWarning: \n",
      "A value is trying to be set on a copy of a slice from a DataFrame.\n",
      "Try using .loc[row_indexer,col_indexer] = value instead\n",
      "\n",
      "See the caveats in the documentation: http://pandas.pydata.org/pandas-docs/stable/indexing.html#indexing-view-versus-copy\n",
      "  \"\"\"\n"
     ]
    }
   ],
   "source": [
    "df_score=pd.DataFrame()\n",
    "for DMA in data_5P['DMA']:\n",
    "    df=data_5P[['DMA',\"Sales\"]]\n",
    "    df.columns=[\"C_DMA\",\"T_DMA\"]\n",
    "    df['T_DMA']=DMA\n",
    "    df_score=df_score.append(df)"
   ]
  },
  {
   "cell_type": "code",
   "execution_count": 183,
   "metadata": {},
   "outputs": [],
   "source": [
    "data_5P_score=pd.merge(df_score,data_5P_C,on=\"C_DMA\",how=\"left\")\n",
    "data_5P_score=pd.merge(data_5P_score,data_5P_T,on=\"T_DMA\",how=\"left\")"
   ]
  },
  {
   "cell_type": "code",
   "execution_count": 184,
   "metadata": {},
   "outputs": [],
   "source": [
    "# Paired Calculation 1 - Pageviews for P4\n",
    "\n",
    "for i in range(8):\n",
    "    col=\"diff_\"+data_5P_score.columns.tolist()[2+i][2:]\n",
    "    data_5P_score[col]=(data_5P_score[data_5P_score.columns.tolist()[i+10]]-data_5P_score[data_5P_score.columns.tolist()[i+2]])/data_5P_score[data_5P_score.columns.tolist()[i+2]]\n",
    "\n",
    "data_5P_score[\"Score_with_PageView\"]=0.1*abs(data_5P_score['diff_Sales'])+0.1*abs(data_5P_score['diff_Transactions'])+\\\n",
    "                                    0.2*abs(data_5P_score['diff_Adult_35_to_54'])+\\\n",
    "                                    0.2*abs(data_5P_score['diff_ga:sessions'])+\\\n",
    "                                    0.2*abs(data_5P_score['diff_ga:pageviews'])+\\\n",
    "                                    0.1*abs(data_5P_score['diff_Sales_ARI'])+0.1*abs(data_5P_score['diff_Trans_ARI'])\n",
    "\n",
    "data_5P_score[\"Score_with_BounceRate\"]=0.1*abs(data_5P_score['diff_Sales'])+0.1*abs(data_5P_score['diff_Transactions'])+\\\n",
    "                                    0.2*abs(data_5P_score['diff_Adult_35_to_54'])+\\\n",
    "                                    0.2*abs(data_5P_score['diff_ga:sessions'])+\\\n",
    "                                    0.2*abs(data_5P_score['diff_BournceRate'])+\\\n",
    "                                    0.1*abs(data_5P_score['diff_Sales_ARI'])+0.1*abs(data_5P_score['diff_Trans_ARI'])\n",
    "    "
   ]
  },
  {
   "cell_type": "code",
   "execution_count": 185,
   "metadata": {},
   "outputs": [],
   "source": [
    "data_5P_score_PageView_Rank=data_5P_score.sort_values(\"Score_with_PageView\")\n",
    "data_5P_score_BournceRate_Rank=data_5P_score.sort_values(\"Score_with_BounceRate\")\n"
   ]
  },
  {
   "cell_type": "code",
   "execution_count": 186,
   "metadata": {},
   "outputs": [],
   "source": [
    "writer=pd.ExcelWriter(folder+\"Saatva_markets for location test_JL_\"+str(datetime.datetime.now().date())+\".xlsx\",engine=\"xlsxwriter\")"
   ]
  },
  {
   "cell_type": "code",
   "execution_count": 187,
   "metadata": {},
   "outputs": [],
   "source": [
    "data_5P_score_PageView_Rank.to_excel(writer,\"1_scored\",index=False)\n",
    "data_5P_score_BournceRate_Rank.to_excel(writer,\"2_scored\",index=False)\n",
    "data_5P_score.to_excel(writer,\"diff_scored\",index=False)\n",
    "data_5P.to_excel(writer,\"data\",index=False)"
   ]
  },
  {
   "cell_type": "code",
   "execution_count": 188,
   "metadata": {
    "collapsed": true
   },
   "outputs": [],
   "source": [
    "writer.save()"
   ]
  },
  {
   "cell_type": "code",
   "execution_count": null,
   "metadata": {
    "collapsed": true
   },
   "outputs": [],
   "source": []
  }
 ],
 "metadata": {
  "kernelspec": {
   "display_name": "Python 3",
   "language": "python",
   "name": "python3"
  },
  "language_info": {
   "codemirror_mode": {
    "name": "ipython",
    "version": 3
   },
   "file_extension": ".py",
   "mimetype": "text/x-python",
   "name": "python",
   "nbconvert_exporter": "python",
   "pygments_lexer": "ipython3",
   "version": "3.6.1"
  }
 },
 "nbformat": 4,
 "nbformat_minor": 2
}
