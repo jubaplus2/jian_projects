{
 "cells": [
  {
   "cell_type": "code",
   "execution_count": 52,
   "metadata": {
    "collapsed": true
   },
   "outputs": [],
   "source": [
    "import pandas as pd"
   ]
  },
  {
   "cell_type": "code",
   "execution_count": 53,
   "metadata": {},
   "outputs": [],
   "source": [
    "data1=pd.read_csv(\"/Users/JayLiang/Desktop/Media Storm/Red Nose Day/Donar database data/20171122_TD-9697.csv\",dtype=str)"
   ]
  },
  {
   "cell_type": "code",
   "execution_count": 54,
   "metadata": {},
   "outputs": [],
   "source": [
    "data2=pd.read_csv(\"/Users/JayLiang/Desktop/Media Storm/Red Nose Day/Donar database data/ContributionReport-15530264647.csv\",dtype=str)"
   ]
  },
  {
   "cell_type": "code",
   "execution_count": 55,
   "metadata": {},
   "outputs": [],
   "source": [
    "data3=pd.read_csv(\"/Users/JayLiang/Desktop/Media Storm/Red Nose Day/Donar database data/export44-1355453973.csv\",dtype=str)"
   ]
  },
  {
   "cell_type": "code",
   "execution_count": 56,
   "metadata": {},
   "outputs": [],
   "source": [
    "data4=pd.read_csv(\"/Users/JayLiang/Desktop/Media Storm/Red Nose Day/Donar database data/export44-4092541519.csv\",dtype=str)"
   ]
  },
  {
   "cell_type": "code",
   "execution_count": 57,
   "metadata": {},
   "outputs": [],
   "source": [
    "TD_columns=pd.DataFrame({'TD_columns':data1.columns})\n",
    "ContributionReport_columns=pd.DataFrame({'ContributionReport_columns':data2.columns})\n",
    "Activist_Codes_columns=pd.DataFrame({'Activist_Codes_columns':data3.columns})\n",
    "Aggregates_columns=pd.DataFrame({'Aggregates_columns':data4.columns})"
   ]
  },
  {
   "cell_type": "code",
   "execution_count": 58,
   "metadata": {},
   "outputs": [],
   "source": [
    "column_names_df=pd.concat([TD_columns,ContributionReport_columns,Activist_Codes_columns,Aggregates_columns], axis=1)"
   ]
  },
  {
   "cell_type": "code",
   "execution_count": 59,
   "metadata": {},
   "outputs": [],
   "source": [
    "column_names_df.to_csv(\"/Users/JayLiang/Desktop/Media Storm/Red Nose Day/Raw Data/variables.csv\")"
   ]
  },
  {
   "cell_type": "code",
   "execution_count": null,
   "metadata": {
    "collapsed": true
   },
   "outputs": [],
   "source": []
  }
 ],
 "metadata": {
  "kernelspec": {
   "display_name": "Python 3",
   "language": "python",
   "name": "python3"
  },
  "language_info": {
   "codemirror_mode": {
    "name": "ipython",
    "version": 3
   },
   "file_extension": ".py",
   "mimetype": "text/x-python",
   "name": "python",
   "nbconvert_exporter": "python",
   "pygments_lexer": "ipython3",
   "version": "3.6.1"
  }
 },
 "nbformat": 4,
 "nbformat_minor": 2
}
