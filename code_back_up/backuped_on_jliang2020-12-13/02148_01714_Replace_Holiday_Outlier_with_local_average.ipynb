{
 "cells": [
  {
   "cell_type": "code",
   "execution_count": 1,
   "metadata": {},
   "outputs": [
    {
     "data": {
      "text/plain": [
       "'/home/jian/Projects/Saatva/MMM/Input'"
      ]
     },
     "execution_count": 1,
     "metadata": {},
     "output_type": "execute_result"
    }
   ],
   "source": [
    "import pandas as pd\n",
    "import numpy as np\n",
    "import datetime\n",
    "import os\n",
    "os.getcwd()"
   ]
  },
  {
   "cell_type": "code",
   "execution_count": 2,
   "metadata": {},
   "outputs": [
    {
     "data": {
      "text/plain": [
       "{'2018-02-19': {'7_days_after': '2018-02-25', '7_days_ago': '2018-02-13'},\n",
       " '2018-05-28': {'7_days_after': '2018-06-03', '7_days_ago': '2018-05-22'},\n",
       " '2018-09-03': {'7_days_after': '2018-09-09', '7_days_ago': '2018-08-28'},\n",
       " '2018-11-23': {'7_days_after': '2018-11-29', '7_days_ago': '2018-11-17'},\n",
       " '2018-11-26': {'7_days_after': '2018-12-02', '7_days_ago': '2018-11-20'}}"
      ]
     },
     "execution_count": 2,
     "metadata": {},
     "output_type": "execute_result"
    }
   ],
   "source": [
    "outliers_day=['2018-02-19','2018-05-28','2018-09-03','2018-11-23','2018-11-26']\n",
    "outliers_replace_dict={}\n",
    "for date_str in outliers_day:\n",
    "    date_datetime=datetime.datetime.strptime(date_str,\"%Y-%m-%d\").date()\n",
    "    date_str_7_days_ago=str(date_datetime-datetime.timedelta(days=6))\n",
    "    date_str_7_days_after=str(date_datetime+datetime.timedelta(days=6))\n",
    "    outliers_replace_dict.update({date_str:{\"7_days_ago\":date_str_7_days_ago,'7_days_after':date_str_7_days_after}})\n",
    "outliers_replace_dict    \n",
    "    "
   ]
  },
  {
   "cell_type": "code",
   "execution_count": 3,
   "metadata": {
    "collapsed": true
   },
   "outputs": [],
   "source": [
    "SM_data_input=pd.read_csv(\"/home/jian/Projects/Saatva/MMM/Input/Saatva_SM_2018_MMM_input_JL_2019-04-09.csv\")\n",
    "SC_data_input=pd.read_csv(\"/home/jian/Projects/Saatva/MMM/Input/Saatva_SC_2018_MMM_input_JL_2019-04-09.csv\")"
   ]
  },
  {
   "cell_type": "code",
   "execution_count": 4,
   "metadata": {
    "collapsed": true
   },
   "outputs": [],
   "source": [
    "col_list=SM_data_input.columns.tolist()\n",
    "col_list.remove(\"date\")\n",
    "for key_outlier in outliers_replace_dict.keys():\n",
    "    for col in col_list:\n",
    "        values_7_days_ago=SM_data_input.loc[SM_data_input['date']==outliers_replace_dict[key_outlier]['7_days_ago'],col].values[0]\n",
    "        values_7_days_after=SM_data_input.loc[SM_data_input['date']==outliers_replace_dict[key_outlier]['7_days_after'],col].values[0]\n",
    "        \n",
    "        SM_data_input.loc[SM_data_input['date']==key_outlier,col]=(values_7_days_ago+values_7_days_after)/2\n",
    "        "
   ]
  },
  {
   "cell_type": "code",
   "execution_count": 5,
   "metadata": {
    "collapsed": true
   },
   "outputs": [],
   "source": [
    "col_list=SC_data_input.columns.tolist()\n",
    "col_list.remove(\"date\")\n",
    "for key_outlier in outliers_replace_dict.keys():\n",
    "    for col in col_list:\n",
    "        values_7_days_ago=SC_data_input.loc[SC_data_input['date']==outliers_replace_dict[key_outlier]['7_days_ago'],col].values[0]\n",
    "        values_7_days_after=SC_data_input.loc[SC_data_input['date']==outliers_replace_dict[key_outlier]['7_days_after'],col].values[0]\n",
    "        \n",
    "        SC_data_input.loc[SC_data_input['date']==key_outlier,col]=(values_7_days_ago+values_7_days_after)/2\n",
    "        "
   ]
  },
  {
   "cell_type": "code",
   "execution_count": 6,
   "metadata": {
    "collapsed": true
   },
   "outputs": [],
   "source": [
    "SM_data_input.to_csv(\"/home/jian/Projects/Saatva/MMM/Input/Saatva_SM_2018_MMM_input_replaced_outlier_JL_\"+str(datetime.datetime.now().date())+\".csv\",index=False)\n",
    "SC_data_input.to_csv(\"/home/jian/Projects/Saatva/MMM/Input/Saatva_SC_2018_MMM_input_replaced_outlier_JL_\"+str(datetime.datetime.now().date())+\".csv\",index=False)\n"
   ]
  },
  {
   "cell_type": "code",
   "execution_count": null,
   "metadata": {
    "collapsed": true
   },
   "outputs": [],
   "source": []
  }
 ],
 "metadata": {
  "kernelspec": {
   "display_name": "Python 3",
   "language": "python",
   "name": "python3"
  },
  "language_info": {
   "codemirror_mode": {
    "name": "ipython",
    "version": 3
   },
   "file_extension": ".py",
   "mimetype": "text/x-python",
   "name": "python",
   "nbconvert_exporter": "python",
   "pygments_lexer": "ipython3",
   "version": "3.6.1"
  }
 },
 "nbformat": 4,
 "nbformat_minor": 2
}
