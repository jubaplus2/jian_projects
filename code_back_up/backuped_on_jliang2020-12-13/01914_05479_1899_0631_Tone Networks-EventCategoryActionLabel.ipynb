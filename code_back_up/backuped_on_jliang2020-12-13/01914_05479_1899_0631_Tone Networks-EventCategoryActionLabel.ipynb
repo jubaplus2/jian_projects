{
 "cells": [
  {
   "cell_type": "code",
   "execution_count": 1,
   "metadata": {
    "collapsed": true
   },
   "outputs": [],
   "source": [
    "import pandas as pd\n",
    "import numpy as np\n",
    "import google_analytics_reporting_api as ga\n",
    "import json as json\n",
    "import datetime"
   ]
  },
  {
   "cell_type": "code",
   "execution_count": 2,
   "metadata": {
    "collapsed": true
   },
   "outputs": [],
   "source": [
    "# Input\n",
    "Start_Date='2017-10-22'\n",
    "End_Date=str(datetime.datetime.now().date()-datetime.timedelta(days=1)) # Yesterday\n",
    "writer_Category=\"/home/jian/Projects/Tone_Networks/Output/Tone_Network_GA_Category_Data_From_2017-10-22_To_\"+End_Date+\".xlsx\""
   ]
  },
  {
   "cell_type": "code",
   "execution_count": 3,
   "metadata": {
    "collapsed": true
   },
   "outputs": [],
   "source": [
    "writer_Category=pd.ExcelWriter(writer_Category, engine='xlsxwriter')\n",
    "analytics = ga.initialize_analyticsreporting('/home/jian/Projects/Tone_Networks/GA/Tone Networks - prod-00ada014c4ba.json')\n",
    "general_matric=['ga:sessions','ga:users','ga:bounces','ga:bounceRate','ga:pageviews','ga:uniquePageviews','ga:totalEvents','ga:uniqueEvents']"
   ]
  },
  {
   "cell_type": "code",
   "execution_count": 4,
   "metadata": {
    "collapsed": true
   },
   "outputs": [],
   "source": [
    "def num_func_trans(df):\n",
    "    if 'ga:sessions' in df.columns:\n",
    "        df['ga:sessions']=df['ga:sessions'].astype(int)\n",
    "    if 'ga:users' in df.columns:\n",
    "        df['ga:users']=df['ga:users'].astype(int)\n",
    "    if 'ga:bounces' in df.columns:\n",
    "        df['ga:bounces']=df['ga:bounces'].astype(int)\n",
    "    if 'ga:bounceRate' in df.columns:\n",
    "        df['ga:bounceRate']=round(df['ga:bounceRate'].astype(float)/100,4)\n",
    "    if 'ga:pageviews' in df.columns:\n",
    "        df['ga:pageviews']=df['ga:pageviews'].astype(int)\n",
    "    if 'ga:uniquePageviews' in df.columns:\n",
    "        df['ga:uniquePageviews']=df['ga:uniquePageviews'].astype(int)\n",
    "    if 'ga:totalEvents' in df.columns:\n",
    "        df['ga:totalEvents']=df['ga:totalEvents'].astype(int)\n",
    "    if 'ga:uniqueEvents' in df.columns:\n",
    "        df['ga:uniqueEvents']=df['ga:uniqueEvents'].astype(int)\n",
    "    if 'ga:goalCompletionsAll' in df.columns:\n",
    "        df['ga:goalCompletionsAll']=df['ga:goalCompletionsAll'].astype(int)\n",
    "    if 'ga:dateHourMinute' in df.columns:\n",
    "        df['ga:dateHourMinute']=df['ga:dateHourMinute'].apply(lambda x:x[0:4]+\"-\"+x[4:6]+\"-\"+x[6:8]+\" \"+x[8:10]+\":\"+x[10:12])\n",
    "    if 'ga:date' in df.columns:\n",
    "        df['ga:date']=df['ga:date'].apply(lambda x:x[0:4]+\"-\"+x[4:6]+\"-\"+x[6:8])\n",
    "    \n",
    "    return df"
   ]
  },
  {
   "cell_type": "code",
   "execution_count": 5,
   "metadata": {
    "collapsed": true
   },
   "outputs": [],
   "source": [
    "Start_Minute=datetime.datetime.strptime(Start_Date,'%Y-%m-%d')\n",
    "End_Minute=datetime.datetime.strptime(str(datetime.datetime.now().date()),'%Y-%m-%d')\n",
    "All_Minutes=pd.date_range(start=Start_Minute,end=End_Minute,freq=\"Min\")\n"
   ]
  },
  {
   "cell_type": "code",
   "execution_count": 6,
   "metadata": {
    "collapsed": true
   },
   "outputs": [],
   "source": [
    "Start_Minute=datetime.datetime.strptime(Start_Date,'%Y-%m-%d')\n",
    "End_Minute=datetime.datetime.strptime(str(datetime.datetime.now().date()),'%Y-%m-%d')\n",
    "All_Minutes=pd.date_range(start=Start_Minute,end=End_Minute,freq=\"Min\")\n",
    "\n",
    "def Add_Zero_Minute(df):\n",
    "\n",
    "    df['dateHourMinute']=df['dateHourMinute'].apply(lambda x: datetime.datetime.strptime(x,'%Y-%m-%d %H:%M'))\n",
    "    Empty_Time_Df=pd.DataFrame(columns=df.columns,index=range(len(All_Minutes)))\n",
    "    Empty_Time_Df['dateHourMinute']=All_Minutes\n",
    "    Time_Df_Notin=Empty_Time_Df[~Empty_Time_Df['dateHourMinute'].isin(df['dateHourMinute'])]\n",
    "    df=df.append(Time_Df_Notin)\n",
    "    df.reset_index(inplace=True)\n",
    "    del (df['index'])\n",
    "    df=df.sort_values('dateHourMinute')\n",
    "    df.reset_index(inplace=True)\n",
    "    del (df['index'])    \n",
    "    return df  "
   ]
  },
  {
   "cell_type": "code",
   "execution_count": 7,
   "metadata": {
    "collapsed": true
   },
   "outputs": [],
   "source": [
    "Event_Mapping=pd.read_excel(\"/home/jian/Projects/Tone_Networks/event map.xlsx\")\n",
    "Event_Mapping.columns=['eventCategory','eventCategory_New']\n",
    "Event_Mapping['eventCategory']=Event_Mapping['eventCategory'].apply(lambda x:x[14:len(x)])\n",
    "Event_Mapping['eventCategory_New']=Event_Mapping['eventCategory_New'].apply(lambda x:x[14:len(x)])"
   ]
  },
  {
   "cell_type": "code",
   "execution_count": 8,
   "metadata": {
    "collapsed": true
   },
   "outputs": [],
   "source": [
    "# Event_Minute\n",
    "Event_Time=ga.get_report_over_10000_rows(analytics=analytics, VIEW_ID='158084228',start_date=Start_Date, end_date=End_Date, \n",
    "                               ga_metrics=['ga:totalEvents','ga:uniqueEvents'], ga_dimensions=['ga:dateHourMinute','ga:eventCategory','ga:eventAction','ga:eventLabel'])\n",
    "Event_Time=num_func_trans(Event_Time)\n",
    "Event_Time=Event_Time[['ga:dateHourMinute','ga:eventCategory','ga:eventAction','ga:eventLabel']+['ga:totalEvents','ga:uniqueEvents']]\n",
    "Event_Time.rename(columns=lambda x:x[3:len(x)],inplace=True)\n",
    "Event_Time=Add_Zero_Minute(Event_Time)\n",
    "# Event_Time['eventAction']=Event_Time['eventAction'].replace(0,\"No Event\")\n",
    "# Event_Time['eventCategory']=Event_Time['eventCategory'].replace(0,\"No Event\")\n",
    "# Event_Time['eventLabel']=Event_Time['eventLabel'].replace(0,\"No Event\")\n",
    "Event_Time_Mapped=pd.merge(Event_Time,Event_Mapping,on=\"eventCategory\",how=\"left\")\n",
    "Event_Time_Mapped.to_excel(writer_Category,sheet_name=\"Event_all_label\",index=False)\n",
    "\n",
    "Event_Time_Category=Event_Time[['dateHourMinute','eventCategory','totalEvents','uniqueEvents']]\n",
    "Event_Time_Agg=pd.merge(Event_Time_Category,Event_Mapping,on=\"eventCategory\",how=\"left\")\n",
    "Event_Time_Agg=Event_Time_Agg.groupby(['dateHourMinute','eventCategory_New'])['totalEvents','uniqueEvents'].sum()\n",
    "Event_Time_Agg=Event_Time_Agg.reset_index()\n",
    "Event_Time_Agg=Event_Time_Agg.sort_values(['dateHourMinute','eventCategory_New'])\n",
    "Event_Time_Agg.to_excel(writer_Category,sheet_name=\"Event_Category\",index=False)\n"
   ]
  },
  {
   "cell_type": "code",
   "execution_count": null,
   "metadata": {
    "collapsed": true
   },
   "outputs": [],
   "source": []
  },
  {
   "cell_type": "code",
   "execution_count": null,
   "metadata": {
    "collapsed": true
   },
   "outputs": [],
   "source": []
  },
  {
   "cell_type": "code",
   "execution_count": 9,
   "metadata": {
    "collapsed": true
   },
   "outputs": [],
   "source": [
    "# Minute Page Path\n",
    "Dimension=['ga:dateHourMinute','ga:pagePath']\n",
    "Minute_Page_Path=ga.get_report_over_10000_rows(analytics=analytics, VIEW_ID='158084228',start_date=Start_Date, end_date=End_Date, \n",
    "                               ga_metrics=general_matric, ga_dimensions=Dimension)\n",
    "Minute_Page_Path=num_func_trans(Minute_Page_Path)\n",
    "Minute_Page_Path=Minute_Page_Path[Dimension+general_matric]\n",
    "\n",
    "Minute_Page_Path.rename(columns=lambda x:x[3:len(x)],inplace=True)\n",
    "Minute_Page_Path=Add_Zero_Minute(Minute_Page_Path)\n",
    "Minute_Page_Path.to_excel(writer_Category,\"Minute_Page_Path\",index=False)\n"
   ]
  },
  {
   "cell_type": "code",
   "execution_count": 10,
   "metadata": {
    "collapsed": true
   },
   "outputs": [],
   "source": [
    "# Minute MediaSource\n",
    "Dimension=['ga:dateHourMinute','ga:sourceMedium']\n",
    "Minute_SourceMedium=ga.get_report_over_10000_rows(analytics=analytics, VIEW_ID='158084228',start_date=Start_Date, end_date=End_Date, \n",
    "                               ga_metrics=general_matric, ga_dimensions=Dimension)\n",
    "Minute_SourceMedium=num_func_trans(Minute_SourceMedium)\n",
    "Minute_SourceMedium=Minute_SourceMedium[Dimension+general_matric]\n",
    "\n",
    "Minute_SourceMedium.rename(columns=lambda x:x[3:len(x)],inplace=True)\n",
    "Minute_SourceMedium=Add_Zero_Minute(Minute_SourceMedium)\n",
    "Minute_SourceMedium.to_excel(writer_Category,\"Minute_SourceMedium\",index=False)\n"
   ]
  },
  {
   "cell_type": "code",
   "execution_count": 11,
   "metadata": {
    "collapsed": true
   },
   "outputs": [],
   "source": [
    "# Minute Metro_City\n",
    "Dimension=['ga:dateHourMinute','ga:metro','ga:city']\n",
    "Minute_Metro_City=ga.get_report_over_10000_rows(analytics=analytics, VIEW_ID='158084228',start_date=Start_Date, end_date=End_Date, \n",
    "                               ga_metrics=general_matric, ga_dimensions=Dimension)\n",
    "Minute_Metro_City=num_func_trans(Minute_Metro_City)\n",
    "Minute_Metro_City=Minute_Metro_City[Dimension+general_matric]\n",
    "\n",
    "Minute_Metro_City.rename(columns=lambda x:x[3:len(x)],inplace=True)\n",
    "Minute_Metro_City=Add_Zero_Minute(Minute_Metro_City)\n",
    "Minute_Metro_City.to_excel(writer_Category,\"Minute_Metro_City\",index=False)\n"
   ]
  },
  {
   "cell_type": "code",
   "execution_count": 12,
   "metadata": {
    "collapsed": true
   },
   "outputs": [],
   "source": [
    "def f(x):\n",
    "    d = {}\n",
    "    d['pagePath_list'] = list(x['pagePath'])\n",
    "    d['pagePath_sessions'] = x['sessions'].sum()\n",
    "    d['pagePath_users'] = x['users'].sum()\n",
    "    d['pagePath_bounces'] = x['bounces'].sum()\n",
    "    return pd.Series(d, index=['pagePath_list','pagePath_sessions','pagePath_users','pagePath_bounces'])\n",
    "\n",
    "Minute_Page_Path_Agg=Minute_Page_Path.groupby('dateHourMinute').apply(f)\n",
    "Minute_Page_Path_Agg.reset_index(inplace=True)"
   ]
  },
  {
   "cell_type": "code",
   "execution_count": 13,
   "metadata": {
    "collapsed": true
   },
   "outputs": [],
   "source": [
    "def f(x):\n",
    "    d = {}\n",
    "    d['sourceMedium_list'] = list(x['sourceMedium'])\n",
    "    d['sourceMedium_sessions'] = x['sessions'].sum()\n",
    "    d['sourceMedium_users'] = x['users'].sum()\n",
    "    d['sourceMedium_bounces'] = x['bounces'].sum()\n",
    "    return pd.Series(d, index=['sourceMedium_list','sourceMedium_sessions','sourceMedium_users','sourceMedium_bounces'])\n",
    " \n",
    "Minute_SourceMedium_Agg=Minute_SourceMedium.groupby('dateHourMinute').apply(f)\n",
    "Minute_SourceMedium_Agg.reset_index(inplace=True)"
   ]
  },
  {
   "cell_type": "code",
   "execution_count": 14,
   "metadata": {
    "collapsed": true
   },
   "outputs": [],
   "source": [
    "def f(x):\n",
    "    d = {}\n",
    "    d['metro_list'] = list(x['metro'])\n",
    "    d['city_list'] = list(x['city'])\n",
    "    d['geo_sessions'] = x['sessions'].sum()\n",
    "    d['geo_users'] = x['users'].sum()\n",
    "    d['geo_bounces'] = x['bounces'].sum()\n",
    "    return pd.Series(d, index=['metro_list','city_list','geo_sessions','geo_users','geo_bounces'])\n",
    "\n",
    "Minute_Metro_City_Agg=Minute_Metro_City.groupby('dateHourMinute').apply(f)\n",
    "Minute_Metro_City_Agg.reset_index(inplace=True)"
   ]
  },
  {
   "cell_type": "code",
   "execution_count": 15,
   "metadata": {
    "collapsed": true
   },
   "outputs": [],
   "source": [
    "combined_df=pd.merge(Minute_Page_Path_Agg,Minute_Metro_City_Agg,on='dateHourMinute',how='outer')\n",
    "combined_df=pd.merge(combined_df,Minute_SourceMedium_Agg,on='dateHourMinute',how='outer')\n"
   ]
  },
  {
   "cell_type": "code",
   "execution_count": 16,
   "metadata": {
    "collapsed": true
   },
   "outputs": [],
   "source": [
    "Event_Time_combined=Event_Time_Mapped[['dateHourMinute','eventCategory_New','eventAction','eventLabel','totalEvents']]\n",
    "Event_Time_combined.reset_index(inplace=True)\n",
    "Event_Time_combined['Event_Category_Action_Lable']=Event_Time_combined['eventCategory_New']+\" | \"+\\\n",
    "                                                    Event_Time_combined['eventAction']+\" | \"+Event_Time_combined['eventLabel']\n",
    "Event_Time_combined['Event_Category_Action_Lable']=Event_Time_combined['Event_Category_Action_Lable'].fillna('nan')\n",
    "Event_Time_combined=Event_Time_combined[['dateHourMinute','Event_Category_Action_Lable','totalEvents']]    \n",
    "\n",
    "Event_Time_combined_wide=Event_Time_combined.pivot(index='dateHourMinute',columns='Event_Category_Action_Lable',values='totalEvents')\n",
    "del Event_Time_combined_wide['nan']\n",
    "Event_Time_combined_wide.reset_index(inplace=True)\n"
   ]
  },
  {
   "cell_type": "code",
   "execution_count": 17,
   "metadata": {
    "collapsed": true
   },
   "outputs": [],
   "source": [
    "combined_df=pd.merge(combined_df,Event_Time_combined_wide,on='dateHourMinute',how='outer')\n",
    "combined_df.to_excel(writer_Category,\"combined_data\",index=False)\n"
   ]
  },
  {
   "cell_type": "code",
   "execution_count": 18,
   "metadata": {
    "collapsed": true
   },
   "outputs": [],
   "source": [
    "writer_Category.save()"
   ]
  },
  {
   "cell_type": "code",
   "execution_count": null,
   "metadata": {
    "collapsed": true
   },
   "outputs": [],
   "source": []
  },
  {
   "cell_type": "code",
   "execution_count": null,
   "metadata": {
    "collapsed": true
   },
   "outputs": [],
   "source": []
  },
  {
   "cell_type": "code",
   "execution_count": null,
   "metadata": {
    "collapsed": true
   },
   "outputs": [],
   "source": []
  }
 ],
 "metadata": {
  "kernelspec": {
   "display_name": "Python 3",
   "language": "python",
   "name": "python3"
  },
  "language_info": {
   "codemirror_mode": {
    "name": "ipython",
    "version": 3
   },
   "file_extension": ".py",
   "mimetype": "text/x-python",
   "name": "python",
   "nbconvert_exporter": "python",
   "pygments_lexer": "ipython3",
   "version": "3.6.1"
  }
 },
 "nbformat": 4,
 "nbformat_minor": 2
}
