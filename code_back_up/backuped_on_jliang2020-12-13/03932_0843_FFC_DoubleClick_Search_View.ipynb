{
 "cells": [
  {
   "cell_type": "markdown",
   "metadata": {},
   "source": [
    "# 1. Ad.Group"
   ]
  },
  {
   "cell_type": "code",
   "execution_count": 67,
   "metadata": {
    "collapsed": true
   },
   "outputs": [],
   "source": [
    "import pandas as pd\n",
    "import numpy as np\n",
    "pd.options.display.max_rows = 6\n",
    "import os\n",
    "os.chdir('/Users/JayLiang/Desktop/Media Storm/FFC/DoubleClick Search')\n",
    "import argparse\n",
    "import httplib2\n",
    "import pprint\n",
    "import time\n",
    "import datetime\n",
    "from io import StringIO\n",
    "from pandas import ExcelWriter\n",
    "\n",
    "from googleapiclient.discovery import build\n",
    "from oauth2client import GOOGLE_TOKEN_URI\n",
    "from oauth2client.client import OAuth2Credentials\n",
    "from googleapiclient.errors import HttpError\n",
    "\n",
    "\n",
    "def create_credentials():\n",
    "    \"\"\"Create Google OAuth2 credentials.\n",
    "\n",
    "    Args:\n",
    "        client_id: Client id of a Google Cloud console project.\n",
    "        client_secret: Client secret of a Google Cloud console project.\n",
    "        refresh_token: A refresh token authorizing the Google Cloud console project\n",
    "          to access the DS data of some Google user.\n",
    "    Returns:\n",
    "        OAuth2Credentials\n",
    "    \"\"\"\n",
    "    return OAuth2Credentials(access_token=None,\n",
    "                           client_id='549790627766-qnth4m8qvuimg87pnsp4b82lhte7dk5a.apps.googleusercontent.com',\n",
    "                           client_secret='Vta4lQLOL49vVYvktkcPGRNb',\n",
    "                           refresh_token='1/ab7pCGMu3K5AveG0UOUpQ0J08vCp6uM357O8qmoPDMs',\n",
    "                           token_expiry=None,\n",
    "                           token_uri=\"https://accounts.google.com/o/oauth2/token\",\n",
    "                           user_agent=None)\n",
    "\n",
    "def get_service(credentials):\n",
    "    \"\"\"Set up a new DoubleClick Search service.\n",
    "\n",
    "    Args:\n",
    "        credentials: An OAuth2Credentials generated with create_credentials, or\n",
    "        flows in the oatuh2client.client package.\n",
    "    Returns:\n",
    "        An authorized Doubleclicksearch serivce.\n",
    "    \"\"\"\n",
    "    # Use the authorize() function of OAuth2Credentials to apply necessary credential\n",
    "    # headers to all requests.\n",
    "    http = credentials.authorize(http = httplib2.Http())\n",
    "\n",
    "    # Construct the service object for the interacting with the DoubleClick Search API.\n",
    "    service = build('doubleclicksearch', 'v2', http=http)\n",
    "    return service\n",
    "\n",
    "def poll_report(service, report_id):\n",
    "    \"\"\"Poll the API with the reportId until the report is ready, up to ten times.\n",
    "\n",
    "    Args:\n",
    "        service: An authorized Doublelcicksearch service.\n",
    "        report_id: The ID DS has assigned to a report.\n",
    "    Returns:\n",
    "        pd.DataFrame, report file\n",
    "    \"\"\"\n",
    "    for _ in range(10):\n",
    "        try:\n",
    "            request = service.reports().get(reportId=report_id)\n",
    "            json_data = request.execute()\n",
    "            if json_data['isReportReady']:\n",
    "                pprint.pprint('The report is ready.')\n",
    "\n",
    "                # For large reports, DS automatically fragments the report into multiple\n",
    "                # files. The 'files' property in the JSON object that DS returns contains\n",
    "                # the list of URLs for file fragment. To download a report, DS needs to\n",
    "                # know the report ID and the index of a file fragment.\n",
    "                report = pd.DataFrame()\n",
    "                for i in range(len(json_data['files'])):\n",
    "                    pprint.pprint('Downloading fragment ' + str(i) + ' for report ' + report_id)\n",
    "                    report = report.append(download_files(service, report_id, str(i)), ignore_index = True) # See Download the report.\n",
    "                return report\n",
    "\n",
    "            else:\n",
    "                pprint.pprint('Report is not ready. I will try again.')\n",
    "                time.sleep(10)\n",
    "        except HttpError as e:\n",
    "            error = simplejson.loads(e.content)['error']['errors'][0]\n",
    "\n",
    "            # See Response Codes\n",
    "            pprint.pprint('HTTP code %d, reason %s' % (e.resp.status, error['reason']))\n",
    "            break\n",
    "        \n",
    "def download_files(service, report_id, report_fragment):\n",
    "    \"\"\"Generate and print sample report.\n",
    "\n",
    "    Args:\n",
    "        service: An authorized Doublelcicksearch service.\n",
    "        report_id: The ID DS has assigned to a report.\n",
    "        report_fragment: The 0-based index of the file fragment from the files array.\n",
    "    Returns:\n",
    "        pd.DataFrame report file\n",
    "    \"\"\"\n",
    "    request = service.reports().getFile(reportId=report_id, reportFragment=report_fragment)\n",
    "    return pd.read_csv(StringIO(request.execute().decode('utf-8')))\n",
    "\n"
   ]
  },
  {
   "cell_type": "code",
   "execution_count": 6,
   "metadata": {},
   "outputs": [],
   "source": [
    "def request_report_adgroup(service, start_date, end_date, columns):\n",
    "    \"\"\"Request sample report and print the report ID that DS returns. See Set Up Your Application.\n",
    "\n",
    "    Args:\n",
    "        service: An authorized Doublelcicksearch service.\n",
    "        columns: list of columns will be in the report\n",
    "    Returns:\n",
    "        The report id.\n",
    "    \"\"\"\n",
    "    request = service.reports().request(\n",
    "        body={\n",
    "                \"reportScope\": {\n",
    "                    \"agencyId\": \"20100000000000932\",\n",
    "                    \"advertiserId\": \"21700000001365301\", # \n",
    "                },\n",
    "                \"reportType\": \"adGroup\",\n",
    "                \"columns\": [{'columnName': column} for column in columns],   \n",
    "                \"timeRange\" : {\n",
    "                    \"startDate\" : start_date,\n",
    "                    \"endDate\" : end_date\n",
    "                    },\n",
    "                \n",
    "                #\"filters\": [\n",
    "                #    {\n",
    "                #        \"column\" : { \"columnName\": \"keywordLabels\" },\n",
    "                #        \"operator\" : \"containsElement\",\n",
    "                #        \"values\" : [\"JubaNovTest\",]\n",
    "                #    }\n",
    "                #],\n",
    "                \n",
    "                \"downloadFormat\": \"csv\",\n",
    "                \"maxRowsPerFile\": 100000000,\n",
    "                \"statisticsCurrency\": \"agency\",\n",
    "                \"verifySingleTimeZone\": \"false\",\n",
    "                \"includeRemovedEntities\": \"false\"\n",
    "            }\n",
    "    )\n",
    "    json_data = request.execute()\n",
    "    return json_data['id']\n"
   ]
  },
  {
   "cell_type": "code",
   "execution_count": 68,
   "metadata": {},
   "outputs": [
    {
     "name": "stdout",
     "output_type": "stream",
     "text": [
      "2017-07-16\n",
      "2017-08-14\n"
     ]
    }
   ],
   "source": [
    "# Ad.group\n",
    "creds = create_credentials()\n",
    "\n",
    "service = get_service(creds)\n",
    "\n",
    "end_date = \"2017-08-14\"\n",
    "start_date = \"2017-07-16\"\n",
    "\n",
    "print(start_date), print(end_date)\n",
    "REPORTID_AdGroup_nonHVA = request_report_adgroup(service, start_date, end_date, \n",
    "                                 ['adGroup', 'impr','clicks', 'cost', 'dfaRevenue', 'dfaTransactions',\n",
    "                                  'dfaActions'])\n",
    "REPORTID_AdGroup_HVA = request_report_adgroup(service, start_date, end_date, \n",
    "                              ['adGroup',\n",
    "                               'floodlightActivity', 'dfaActions'])"
   ]
  },
  {
   "cell_type": "code",
   "execution_count": 71,
   "metadata": {},
   "outputs": [
    {
     "name": "stdout",
     "output_type": "stream",
     "text": [
      "'The report is ready.'\n",
      "'Downloading fragment 0 for report AAAnqvkg1bvTbYc2'\n",
      "'The report is ready.'\n",
      "'Downloading fragment 0 for report AAAn3qclmay8Fzrd'\n"
     ]
    }
   ],
   "source": [
    "non_hva_adgroup= poll_report(service, REPORTID_AdGroup_nonHVA)\n",
    "hva_adgroup = poll_report(service, REPORTID_AdGroup_HVA)"
   ]
  },
  {
   "cell_type": "code",
   "execution_count": 93,
   "metadata": {},
   "outputs": [],
   "source": [
    "non_hva_adgroup.rename(columns={'dfaRevenue':'revenue','dfaTransactions':'transactions',\n",
    "                                  'dfaActions':'actions'}, inplace=True)\n",
    "non_hva_adgroup_Agg=non_hva_adgroup.groupby(['adGroup']).sum()\n",
    "non_hva_adgroup_Agg.reset_index(inplace=True)\n",
    "non_hva_adgroup_Agg['ROI']=non_hva_adgroup_Agg['revenue']/non_hva_adgroup_Agg['cost']\n",
    "non_hva_adgroup_Agg['ctr']=non_hva_adgroup_Agg['clicks']/non_hva_adgroup_Agg['impr']\n",
    "non_hva_adgroup_Agg['cpc']=non_hva_adgroup_Agg['cost']/non_hva_adgroup_Agg['clicks']\n",
    "non_hva_adgroup_Agg['cpm']=non_hva_adgroup_Agg['cost']/non_hva_adgroup_Agg['impr']*1000.0\n",
    "non_hva_adgroup_Agg['cost/trans']=non_hva_adgroup_Agg['cost']/non_hva_adgroup_Agg['transactions']\n",
    "non_hva_adgroup_Agg['cost/actions']=non_hva_adgroup_Agg['cost']/non_hva_adgroup_Agg['actions']\n",
    "\n",
    "hva_adgroup=hva_adgroup.groupby(['adGroup','floodlightActivity']).sum()\n",
    "hva_adgroup_wide=hva_adgroup.pivot_table(index=['adGroup'],columns=['floodlightActivity'],values=['dfaActions'])\n",
    "hva_adgroup_wide.columns=hva_adgroup_wide.columns.get_level_values(1)\n",
    "hva_adgroup_wide.reset_index(inplace=True)\n",
    "\n",
    "adgroup_df=pd.merge(non_hva_adgroup_Agg,hva_adgroup_wide,how='outer',on=\"adGroup\")\n",
    "adgroup_sort=adgroup_df.sort_values(['ROI','ctr'],ascending=[0, 1])"
   ]
  },
  {
   "cell_type": "code",
   "execution_count": 95,
   "metadata": {},
   "outputs": [],
   "source": [
    "adgroup_sort.to_excel(\"adgroup_sort.xlsx\",index=False)"
   ]
  },
  {
   "cell_type": "code",
   "execution_count": 168,
   "metadata": {},
   "outputs": [],
   "source": [
    "def combine(df1,df2):\n",
    "    df1.rename(columns={'dfaRevenue':'revenue','dfaTransactions':'transactions',\n",
    "                                  'dfaActions':'actions'}, inplace=True)\n",
    "    Agg=df1.groupby(list(df1.columns[:-6])).sum()\n",
    "    Agg.reset_index(inplace=True)\n",
    "    Agg['ROI']=Agg['revenue']/Agg['cost']\n",
    "    Agg['ctr']=Agg['clicks']/Agg['impr']\n",
    "    Agg['cpc']=Agg['cost']/Agg['clicks']\n",
    "    Agg['cpm']=Agg['cost']/Agg['impr']*1000.0\n",
    "    Agg['cost/trans']=Agg['cost']/Agg['transactions']\n",
    "    Agg['cost/actions']=Agg['cost']/Agg['actions']\n",
    "    \n",
    "    Agg2=df2.groupby(list(df2.columns[:-1])).sum()\n",
    "    Agg2_wide=Agg2.pivot_table(index=list(df2.columns[:-2]),columns=['floodlightActivity'],values=['dfaActions'])\n",
    "    Agg2_wide.columns=Agg2_wide.columns.get_level_values(1)\n",
    "    Agg2_wide.reset_index(inplace=True)\n",
    "    \n",
    "    df=pd.merge(Agg,Agg2_wide,how='outer',on=list(Agg.columns[:-12]))\n",
    "    df_sort=df.sort_values(['ROI','ctr'],ascending=[0, 1])\n",
    "    return df_sort"
   ]
  },
  {
   "cell_type": "markdown",
   "metadata": {
    "collapsed": true
   },
   "source": [
    "# 2. Keyword"
   ]
  },
  {
   "cell_type": "code",
   "execution_count": 137,
   "metadata": {},
   "outputs": [],
   "source": [
    "def request_report_keyword(service, start_date, end_date, columns):\n",
    "    \"\"\"Request sample report and print the report ID that DS returns. See Set Up Your Application.\n",
    "\n",
    "    Args:\n",
    "        service: An authorized Doublelcicksearch service.\n",
    "        columns: list of columns will be in the report\n",
    "    Returns:\n",
    "        The report id.\n",
    "    \"\"\"\n",
    "    request = service.reports().request(\n",
    "        body={\n",
    "                \"reportScope\": {\n",
    "                    \"agencyId\": \"20100000000000932\",\n",
    "                    \"advertiserId\": \"21700000001365301\", # \n",
    "                },\n",
    "                \"reportType\": \"keyword\",\n",
    "                \"columns\": [{'columnName': column} for column in columns],   \n",
    "                \"timeRange\" : {\n",
    "                    \"startDate\" : start_date,\n",
    "                    \"endDate\" : end_date\n",
    "                    },\n",
    "                \n",
    "                #\"filters\": [\n",
    "                #    {\n",
    "                #        \"column\" : { \"columnName\": \"keywordLabels\" },\n",
    "                #        \"operator\" : \"containsElement\",\n",
    "                #        \"values\" : [\"JubaNovTest\",]\n",
    "                #    }\n",
    "                #],\n",
    "                \n",
    "                \"downloadFormat\": \"csv\",\n",
    "                \"maxRowsPerFile\": 100000000,\n",
    "                \"statisticsCurrency\": \"agency\",\n",
    "                \"verifySingleTimeZone\": \"false\",\n",
    "                \"includeRemovedEntities\": \"false\"\n",
    "            }\n",
    "    )\n",
    "    json_data = request.execute()\n",
    "    return json_data['id']\n"
   ]
  },
  {
   "cell_type": "code",
   "execution_count": 138,
   "metadata": {},
   "outputs": [
    {
     "name": "stdout",
     "output_type": "stream",
     "text": [
      "2017-07-16\n",
      "2017-08-14\n"
     ]
    }
   ],
   "source": [
    "# Keyword\n",
    "creds = create_credentials()\n",
    "\n",
    "service = get_service(creds)\n",
    "\n",
    "end_date = \"2017-08-14\"\n",
    "start_date = \"2017-07-16\"\n",
    "\n",
    "print(start_date), print(end_date)\n",
    "REPORTID_Keyword_nonHVA = request_report_keyword(service, start_date, end_date, \n",
    "                                 ['keywordText','campaign','adGroup','keywordMatchType','engineStatus','account',\n",
    "                                  'impr','clicks', 'cost', 'dfaRevenue', 'dfaTransactions','dfaActions'])\n",
    "REPORTID_Keyword_HVA = request_report_keyword(service, start_date, end_date, \n",
    "                              ['keywordText','campaign','adGroup','keywordMatchType','engineStatus','account',\n",
    "                               'floodlightActivity', 'dfaActions'])\n"
   ]
  },
  {
   "cell_type": "code",
   "execution_count": 139,
   "metadata": {},
   "outputs": [
    {
     "name": "stdout",
     "output_type": "stream",
     "text": [
      "'Report is not ready. I will try again.'\n",
      "'The report is ready.'\n",
      "'Downloading fragment 0 for report AAAnNn9xqtcpJci3'\n",
      "'The report is ready.'\n",
      "'Downloading fragment 0 for report AAAnqPBoGutJtfuL'\n"
     ]
    }
   ],
   "source": [
    "non_hva_keyword= poll_report(service, REPORTID_Keyword_nonHVA )\n",
    "hva_keyword= poll_report(service, REPORTID_Keyword_HVA )"
   ]
  },
  {
   "cell_type": "code",
   "execution_count": 177,
   "metadata": {
    "collapsed": true
   },
   "outputs": [],
   "source": [
    "keyword_sort=combine(non_hva_keyword,hva_keyword)"
   ]
  },
  {
   "cell_type": "markdown",
   "metadata": {},
   "source": [
    "# 3. Date"
   ]
  },
  {
   "cell_type": "code",
   "execution_count": 173,
   "metadata": {
    "collapsed": true
   },
   "outputs": [],
   "source": [
    "def request_report_account(service, start_date, end_date, columns):\n",
    "    \"\"\"Request sample report and print the report ID that DS returns. See Set Up Your Application.\n",
    "\n",
    "    Args:\n",
    "        service: An authorized Doublelcicksearch service.\n",
    "        columns: list of columns will be in the report\n",
    "    Returns:\n",
    "        The report id.\n",
    "    \"\"\"\n",
    "    request = service.reports().request(\n",
    "        body={\n",
    "                \"reportScope\": {\n",
    "                    \"agencyId\": \"20100000000000932\",\n",
    "                    \"advertiserId\": \"21700000001365301\", # \n",
    "                },\n",
    "                \"reportType\": \"account\",\n",
    "                \"columns\": [{'columnName': column} for column in columns],   \n",
    "                \"timeRange\" : {\n",
    "                    \"startDate\" : start_date,\n",
    "                    \"endDate\" : end_date\n",
    "                    },\n",
    "                \n",
    "                #\"filters\": [\n",
    "                #    {\n",
    "                #        \"column\" : { \"columnName\": \"keywordLabels\" },\n",
    "                #        \"operator\" : \"containsElement\",\n",
    "                #        \"values\" : [\"JubaNovTest\",]\n",
    "                #    }\n",
    "                #],\n",
    "                \n",
    "                \"downloadFormat\": \"csv\",\n",
    "                \"maxRowsPerFile\": 100000000,\n",
    "                \"statisticsCurrency\": \"agency\",\n",
    "                \"verifySingleTimeZone\": \"false\",\n",
    "                \"includeRemovedEntities\": \"false\"\n",
    "            }\n",
    "    )\n",
    "    json_data = request.execute()\n",
    "    return json_data['id']\n"
   ]
  },
  {
   "cell_type": "code",
   "execution_count": 175,
   "metadata": {},
   "outputs": [
    {
     "name": "stdout",
     "output_type": "stream",
     "text": [
      "2017-07-16\n",
      "2017-08-14\n"
     ]
    }
   ],
   "source": [
    "# Date\n",
    "creds = create_credentials()\n",
    "\n",
    "service = get_service(creds)\n",
    "\n",
    "end_date = \"2017-08-14\"\n",
    "start_date = \"2017-07-16\"\n",
    "\n",
    "print(start_date), print(end_date)\n",
    "REPORTID_Date_nonHVA = request_report_account(service, start_date, end_date, \n",
    "                                 ['date',\n",
    "                                  'impr','clicks', 'cost', 'dfaRevenue', 'dfaTransactions','dfaActions'])\n",
    "REPORTID_Date_HVA = request_report_account(service, start_date, end_date, \n",
    "                              ['date',\n",
    "                               'floodlightActivity', 'dfaActions'])"
   ]
  },
  {
   "cell_type": "code",
   "execution_count": 176,
   "metadata": {},
   "outputs": [
    {
     "name": "stdout",
     "output_type": "stream",
     "text": [
      "'Report is not ready. I will try again.'\n",
      "'The report is ready.'\n",
      "'Downloading fragment 0 for report AAAnMev7_q0KqIYn'\n",
      "'The report is ready.'\n",
      "'Downloading fragment 0 for report AAAnTTftEuc8OChI'\n"
     ]
    }
   ],
   "source": [
    "non_hva_date= poll_report(service, REPORTID_Date_nonHVA )\n",
    "hva_date= poll_report(service, REPORTID_Date_HVA )"
   ]
  },
  {
   "cell_type": "code",
   "execution_count": 178,
   "metadata": {
    "collapsed": true
   },
   "outputs": [],
   "source": [
    "date_sort=combine(non_hva_date,hva_date)"
   ]
  },
  {
   "cell_type": "markdown",
   "metadata": {},
   "source": [
    "# 4. Campaign"
   ]
  },
  {
   "cell_type": "markdown",
   "metadata": {},
   "source": [
    "# 5. Device"
   ]
  },
  {
   "cell_type": "markdown",
   "metadata": {},
   "source": [
    "# 6. DMA"
   ]
  },
  {
   "cell_type": "code",
   "execution_count": null,
   "metadata": {
    "collapsed": true
   },
   "outputs": [],
   "source": [
    "7. Gender"
   ]
  }
 ],
 "metadata": {
  "kernelspec": {
   "display_name": "Python 3",
   "language": "python",
   "name": "python3"
  },
  "language_info": {
   "codemirror_mode": {
    "name": "ipython",
    "version": 3
   },
   "file_extension": ".py",
   "mimetype": "text/x-python",
   "name": "python",
   "nbconvert_exporter": "python",
   "pygments_lexer": "ipython3",
   "version": "3.6.1"
  }
 },
 "nbformat": 4,
 "nbformat_minor": 2
}
