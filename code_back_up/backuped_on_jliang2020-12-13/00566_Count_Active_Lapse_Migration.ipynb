{
 "cells": [
  {
   "cell_type": "code",
   "execution_count": 1,
   "metadata": {},
   "outputs": [
    {
     "data": {
      "text/plain": [
       "'/home/jian/Projects/Big_Lots/Analysis/2019_Q1/Planner_Request/Compare_Q4_Before_After_Groups_JT_20190327'"
      ]
     },
     "execution_count": 1,
     "metadata": {},
     "output_type": "execute_result"
    }
   ],
   "source": [
    "import pandas as pd\n",
    "import os\n",
    "import datetime\n",
    "import numpy as np\n",
    "import gc\n",
    "os.getcwd()"
   ]
  },
  {
   "cell_type": "code",
   "execution_count": 2,
   "metadata": {},
   "outputs": [
    {
     "data": {
      "text/plain": [
       "datetime.date(2014, 11, 3)"
      ]
     },
     "execution_count": 2,
     "metadata": {},
     "output_type": "execute_result"
    }
   ],
   "source": [
    "Q3_End=datetime.date(2018,11,3)\n",
    "Q4_End=datetime.date(2019,2,2)\n",
    "\n",
    "lapsed_begin=Q3_End-datetime.timedelta(days=4*365+1)\n",
    "lapsed_begin"
   ]
  },
  {
   "cell_type": "code",
   "execution_count": 3,
   "metadata": {},
   "outputs": [
    {
     "data": {
      "text/plain": [
       "'2014-11-03'"
      ]
     },
     "execution_count": 3,
     "metadata": {},
     "output_type": "execute_result"
    }
   ],
   "source": [
    "lapsed=pd.read_table(\"/home/jian/Projects/Big_Lots/Loyal_members/loyalty_sales_data/lapsed20140826_20170226/MediaStormLapsedCustDtl.txt\",\n",
    "                     sep=\",\",usecols=['customer_id_hashed','transaction_date'],dtype=str).drop_duplicates()\n",
    "lapsed=lapsed[lapsed['transaction_date']>=str(lapsed_begin)]\n",
    "\n",
    "lapsed['transaction_date'].min()"
   ]
  },
  {
   "cell_type": "code",
   "execution_count": 4,
   "metadata": {},
   "outputs": [
    {
     "name": "stdout",
     "output_type": "stream",
     "text": [
      "1 2019-03-30 17:02:50.227576\n",
      "2 2019-03-30 17:03:27.172147\n",
      "3 2019-03-30 17:04:01.409444\n",
      "4 2019-03-30 17:04:39.549824\n",
      "5 2019-03-30 17:05:18.411947\n",
      "6 2019-03-30 17:05:57.279613\n",
      "7 2019-03-30 17:06:36.328740\n",
      "8 2019-03-30 17:07:16.129066\n",
      "9 2019-03-30 17:07:56.637125\n",
      "10 2019-03-30 17:08:38.292524\n",
      "11 2019-03-30 17:09:19.662925\n",
      "12 2019-03-30 17:10:02.798904\n",
      "13 2019-03-30 17:10:47.167229\n",
      "14 2019-03-30 17:11:32.417311\n",
      "15 2019-03-30 17:12:15.199163\n"
     ]
    }
   ],
   "source": [
    "chunksize_num = 10**7\n",
    "filename='/home/jian/Projects/Big_Lots/Live_Ramp/Quarterly_Update/crm_newscore_0922/combinedtransactions_0922.csv'\n",
    "dftrans_before_20180922=pd.DataFrame()\n",
    "count_i=0\n",
    "\n",
    "for chunk in pd.read_csv(filename, chunksize=chunksize_num,dtype=str):\n",
    "    chunk['total_transaction_amt']=chunk['total_transaction_amt'].astype(float)\n",
    "    chunk['total_transaction_units']=chunk['total_transaction_units'].astype(float)\n",
    "    chunk = chunk[['customer_id_hashed','transaction_date']].drop_duplicates()\n",
    "    dftrans_before_20180922=dftrans_before_20180922.append(chunk)\n",
    "    count_i+=1\n",
    "    print(count_i,datetime.datetime.now())\n",
    "    "
   ]
  },
  {
   "cell_type": "code",
   "execution_count": 5,
   "metadata": {},
   "outputs": [
    {
     "data": {
      "text/plain": [
       "(23136029, 2)"
      ]
     },
     "execution_count": 5,
     "metadata": {},
     "output_type": "execute_result"
    }
   ],
   "source": [
    "all_rewards_most_recent=dftrans_before_20180922.append(lapsed)\n",
    "all_rewards_most_recent=all_rewards_most_recent.sort_values([\"customer_id_hashed\",\"transaction_date\"],ascending=[True,False])\n",
    "all_rewards_most_recent=all_rewards_most_recent.drop_duplicates(['customer_id_hashed'])\n",
    "all_rewards_most_recent.shape"
   ]
  },
  {
   "cell_type": "code",
   "execution_count": 6,
   "metadata": {
    "collapsed": true
   },
   "outputs": [],
   "source": [
    "def recrusive_file_gen(root_folder):\n",
    "    for root, dirs, files in os.walk(root_folder):\n",
    "        for file in files:\n",
    "            yield os.path.join(root, file)\n",
    "# Before the end of Q4 only            \n",
    "historical_daily_data_folder=\"/home/jian/BigLots/hist_daily_data_itemlevel_decompressed/\"\n",
    "historical_daily_data_list=list(recrusive_file_gen(historical_daily_data_folder))\n",
    "historical_daily_data_list=[x for x in historical_daily_data_list if (\".txt\" in x) & (\"DailySales\" in x)]\n",
    "historical_daily_df=pd.DataFrame({\"file_path\":historical_daily_data_list})\n",
    "historical_daily_df['week_end_dt']=historical_daily_df['file_path'].apply(lambda x: x.split(\".\")[0].split(\"MediaStormDailySalesHistory\")[1])\n",
    "historical_daily_df['week_end_dt']=historical_daily_df['week_end_dt'].apply(lambda x: datetime.datetime.strptime(x,\"%Y%m%d\").date())\n",
    "historical_daily_df=historical_daily_df[historical_daily_df['week_end_dt']<=datetime.date(2019,2,2)]\n",
    "historical_daily_df=historical_daily_df[historical_daily_df['week_end_dt']>datetime.date(2018,9,22)]\n"
   ]
  },
  {
   "cell_type": "code",
   "execution_count": 7,
   "metadata": {
    "collapsed": true
   },
   "outputs": [],
   "source": [
    "historical_daily_df_20180929_20181103=historical_daily_df[historical_daily_df['week_end_dt']<=datetime.date(2018,11,3)]\n",
    "historical_daily_df_20181110_20190202=historical_daily_df[historical_daily_df['week_end_dt']>=datetime.date(2018,11,10)]"
   ]
  },
  {
   "cell_type": "code",
   "execution_count": 8,
   "metadata": {},
   "outputs": [
    {
     "name": "stdout",
     "output_type": "stream",
     "text": [
      "/home/jian/BigLots/hist_daily_data_itemlevel_decompressed/MediaStormDailySalesHistory20180929.txt 2019-03-30 17:28:25.119492\n",
      "/home/jian/BigLots/hist_daily_data_itemlevel_decompressed/MediaStormDailySalesHistory20181006.txt 2019-03-30 17:28:53.535690\n",
      "/home/jian/BigLots/hist_daily_data_itemlevel_decompressed/MediaStormDailySalesHistory20181013.txt 2019-03-30 17:29:14.277381\n",
      "/home/jian/BigLots/hist_daily_data_itemlevel_decompressed/MediaStormDailySalesHistory20181020.txt 2019-03-30 17:29:35.427964\n",
      "/home/jian/BigLots/hist_daily_data_itemlevel_decompressed/MediaStormDailySalesHistory20181027.txt 2019-03-30 17:29:58.537136\n",
      "/home/jian/BigLots/hist_daily_data_itemlevel_decompressed/MediaStormDailySalesHistory20181103.txt 2019-03-30 17:30:22.278057\n",
      "/home/jian/BigLots/hist_daily_data_itemlevel_decompressed/MediaStormDailySalesHistory20181110.txt 2019-03-30 17:30:49.272289\n",
      "/home/jian/BigLots/hist_daily_data_itemlevel_decompressed/MediaStormDailySalesHistory20181117.txt 2019-03-30 17:31:18.836521\n",
      "/home/jian/BigLots/hist_daily_data_itemlevel_decompressed/MediaStormDailySalesHistory20181124.txt 2019-03-30 17:32:03.463477\n",
      "/home/jian/BigLots/hist_daily_data_itemlevel_decompressed/MediaStormDailySalesHistory20181201.txt 2019-03-30 17:32:50.709743\n",
      "/home/jian/BigLots/hist_daily_data_itemlevel_decompressed/MediaStormDailySalesHistory20181208.txt 2019-03-30 17:33:37.181315\n",
      "/home/jian/BigLots/hist_daily_data_itemlevel_decompressed/MediaStormDailySalesHistory20181215.txt 2019-03-30 17:34:24.756030\n",
      "/home/jian/BigLots/hist_daily_data_itemlevel_decompressed/MediaStormDailySalesHistory20181222.txt 2019-03-30 17:35:17.424324\n",
      "/home/jian/BigLots/hist_daily_data_itemlevel_decompressed/MediaStormDailySalesHistory20181229.txt 2019-03-30 17:35:51.488524\n",
      "/home/jian/BigLots/hist_daily_data_itemlevel_decompressed/MediaStormDailySalesHistory20190105.txt 2019-03-30 17:36:16.577756\n",
      "/home/jian/BigLots/hist_daily_data_itemlevel_decompressed/MediaStormDailySalesHistory20190112.txt 2019-03-30 17:36:40.621307\n",
      "/home/jian/BigLots/hist_daily_data_itemlevel_decompressed/MediaStormDailySalesHistory20190119.txt 2019-03-30 17:37:10.888188\n",
      "/home/jian/BigLots/hist_daily_data_itemlevel_decompressed/MediaStormDailySalesHistory20190126.txt 2019-03-30 17:37:38.570319\n",
      "/home/jian/BigLots/hist_daily_data_itemlevel_decompressed/MediaStormDailySalesHistory20190202.txt 2019-03-30 17:38:01.615370\n"
     ]
    }
   ],
   "source": [
    "rew_df_after_20180929_20181103=pd.DataFrame()\n",
    "rew_df_after_20181110_20190202=pd.DataFrame()\n",
    "\n",
    "\n",
    "for file in historical_daily_df_20180929_20181103['file_path'].tolist():\n",
    "    df=pd.read_table(file,sep=\"|\",dtype=str,usecols=[\"customer_id_hashed\",\"transaction_dt\"]).drop_duplicates()\n",
    "    df=df[~pd.isnull(df['customer_id_hashed'])]\n",
    "    rew_df_after_20180929_20181103=rew_df_after_20180929_20181103.append(df)\n",
    "    print(file,datetime.datetime.now())\n",
    "rew_df_after_20180929_20181103=rew_df_after_20180929_20181103.rename(columns={\"transaction_dt\":\"transaction_date\"})\n",
    "\n",
    "for file in historical_daily_df_20181110_20190202['file_path'].tolist():\n",
    "    df=pd.read_table(file,sep=\"|\",dtype=str,usecols=[\"customer_id_hashed\",\"transaction_dt\"]).drop_duplicates()\n",
    "    df=df[~pd.isnull(df['customer_id_hashed'])]\n",
    "    rew_df_after_20181110_20190202=rew_df_after_20181110_20190202.append(df)\n",
    "    print(file,datetime.datetime.now())\n",
    "rew_df_after_20181110_20190202=rew_df_after_20181110_20190202.rename(columns={\"transaction_dt\":\"transaction_date\"})"
   ]
  },
  {
   "cell_type": "code",
   "execution_count": 9,
   "metadata": {},
   "outputs": [
    {
     "data": {
      "text/plain": [
       "79"
      ]
     },
     "execution_count": 9,
     "metadata": {},
     "output_type": "execute_result"
    }
   ],
   "source": [
    "all_rewards_most_recent=all_rewards_most_recent.append(rew_df_after_20180929_20181103)\n",
    "all_rewards_most_recent=all_rewards_most_recent.sort_values([\"customer_id_hashed\",\"transaction_date\"],ascending=[True,False])\n",
    "all_rewards_most_recent=all_rewards_most_recent.drop_duplicates(['customer_id_hashed'])\n",
    "all_rewards_most_recent['transaction_date_before_Q4']=all_rewards_most_recent['transaction_date']\n",
    "\n",
    "all_rewards_most_recent_After=all_rewards_most_recent[['customer_id_hashed','transaction_date']].append(rew_df_after_20181110_20190202)\n",
    "all_rewards_most_recent_After=all_rewards_most_recent_After.sort_values([\"customer_id_hashed\",\"transaction_date\"],ascending=[True,False])\n",
    "all_rewards_most_recent_After=all_rewards_most_recent_After.drop_duplicates(['customer_id_hashed']).rename(columns={\"transaction_date\":\"transaction_date_after_Q4\"})\n",
    "\n",
    "all_rewards_most_recent=pd.merge(all_rewards_most_recent,all_rewards_most_recent_After,on=\"customer_id_hashed\",how=\"outer\")\n",
    "del all_rewards_most_recent_After\n",
    "\n",
    "gc.collect()"
   ]
  },
  {
   "cell_type": "code",
   "execution_count": 10,
   "metadata": {},
   "outputs": [
    {
     "data": {
      "text/html": [
       "<div>\n",
       "<style>\n",
       "    .dataframe thead tr:only-child th {\n",
       "        text-align: right;\n",
       "    }\n",
       "\n",
       "    .dataframe thead th {\n",
       "        text-align: left;\n",
       "    }\n",
       "\n",
       "    .dataframe tbody tr th {\n",
       "        vertical-align: top;\n",
       "    }\n",
       "</style>\n",
       "<table border=\"1\" class=\"dataframe\">\n",
       "  <thead>\n",
       "    <tr style=\"text-align: right;\">\n",
       "      <th></th>\n",
       "      <th>customer_id_hashed</th>\n",
       "      <th>transaction_date</th>\n",
       "      <th>transaction_date_before_Q4</th>\n",
       "      <th>transaction_date_after_Q4</th>\n",
       "    </tr>\n",
       "  </thead>\n",
       "  <tbody>\n",
       "    <tr>\n",
       "      <th>0</th>\n",
       "      <td>00000135f48c68690ad3d5fc9ada41bb5cd687452007e8...</td>\n",
       "      <td>2018-10-30</td>\n",
       "      <td>2018-10-30</td>\n",
       "      <td>2018-10-30</td>\n",
       "    </tr>\n",
       "    <tr>\n",
       "      <th>1</th>\n",
       "      <td>000001dadc0265bf9d250566d74e0006323f18b5826641...</td>\n",
       "      <td>2018-10-27</td>\n",
       "      <td>2018-10-27</td>\n",
       "      <td>2018-12-21</td>\n",
       "    </tr>\n",
       "  </tbody>\n",
       "</table>\n",
       "</div>"
      ],
      "text/plain": [
       "                                  customer_id_hashed transaction_date  \\\n",
       "0  00000135f48c68690ad3d5fc9ada41bb5cd687452007e8...       2018-10-30   \n",
       "1  000001dadc0265bf9d250566d74e0006323f18b5826641...       2018-10-27   \n",
       "\n",
       "  transaction_date_before_Q4 transaction_date_after_Q4  \n",
       "0                 2018-10-30                2018-10-30  \n",
       "1                 2018-10-27                2018-12-21  "
      ]
     },
     "execution_count": 10,
     "metadata": {},
     "output_type": "execute_result"
    }
   ],
   "source": [
    "all_rewards_most_recent.head(2)"
   ]
  },
  {
   "cell_type": "code",
   "execution_count": 11,
   "metadata": {},
   "outputs": [
    {
     "data": {
      "text/plain": [
       "(1853494, 4)"
      ]
     },
     "execution_count": 11,
     "metadata": {},
     "output_type": "execute_result"
    }
   ],
   "source": [
    "all_rewards_most_recent[pd.isnull(all_rewards_most_recent['transaction_date_before_Q4'])].shape"
   ]
  },
  {
   "cell_type": "code",
   "execution_count": 12,
   "metadata": {},
   "outputs": [
    {
     "data": {
      "text/plain": [
       "(0, 4)"
      ]
     },
     "execution_count": 12,
     "metadata": {},
     "output_type": "execute_result"
    }
   ],
   "source": [
    "all_rewards_most_recent[pd.isnull(all_rewards_most_recent['transaction_date_after_Q4'])].shape"
   ]
  },
  {
   "cell_type": "code",
   "execution_count": 13,
   "metadata": {},
   "outputs": [
    {
     "data": {
      "text/plain": [
       "array([ True, False], dtype=bool)"
      ]
     },
     "execution_count": 13,
     "metadata": {},
     "output_type": "execute_result"
    }
   ],
   "source": [
    "(all_rewards_most_recent['transaction_date']==all_rewards_most_recent['transaction_date_after_Q4']).unique()"
   ]
  },
  {
   "cell_type": "code",
   "execution_count": 14,
   "metadata": {},
   "outputs": [
    {
     "data": {
      "text/plain": [
       "(25642058, 4)"
      ]
     },
     "execution_count": 14,
     "metadata": {},
     "output_type": "execute_result"
    }
   ],
   "source": [
    "all_rewards_most_recent.shape"
   ]
  },
  {
   "cell_type": "code",
   "execution_count": null,
   "metadata": {
    "collapsed": true
   },
   "outputs": [],
   "source": []
  },
  {
   "cell_type": "code",
   "execution_count": 15,
   "metadata": {},
   "outputs": [
    {
     "name": "stdout",
     "output_type": "stream",
     "text": [
      "2019-03-30 17:58:06.353142\n"
     ]
    }
   ],
   "source": [
    "all_rewards_most_recent['transaction_date_before_Q4']=all_rewards_most_recent['transaction_date_before_Q4'].fillna(\"2019-12-31\")\n",
    "all_rewards_most_recent['transaction_date_before_Q4']=pd.to_datetime(all_rewards_most_recent['transaction_date_before_Q4'],format='%Y-%m-%d')\n",
    "all_rewards_most_recent['Days_to_Q3_End']=Q3_End-all_rewards_most_recent['transaction_date_before_Q4']\n",
    "# Filled the na before with a later adte 2019-12-31\n",
    "\n",
    "\n",
    "all_rewards_most_recent['transaction_date_after_Q4']=pd.to_datetime(all_rewards_most_recent['transaction_date_after_Q4'],format='%Y-%m-%d')\n",
    "all_rewards_most_recent['Days_to_Q4_End']=Q4_End-all_rewards_most_recent['transaction_date_after_Q4']\n",
    "print(datetime.datetime.now())"
   ]
  },
  {
   "cell_type": "code",
   "execution_count": 16,
   "metadata": {},
   "outputs": [
    {
     "name": "stdout",
     "output_type": "stream",
     "text": [
      "2019-03-30 18:06:54.120088\n"
     ]
    }
   ],
   "source": [
    "all_rewards_most_recent['Month_to_Q3_End']=all_rewards_most_recent['Days_to_Q3_End'].apply(lambda x: x.days/(365.25/12))\n",
    "all_rewards_most_recent['Month_to_Q4_End']=all_rewards_most_recent['Days_to_Q4_End'].apply(lambda x: x.days/(365.25/12))\n",
    "print(datetime.datetime.now())"
   ]
  },
  {
   "cell_type": "code",
   "execution_count": null,
   "metadata": {
    "collapsed": true
   },
   "outputs": [],
   "source": []
  },
  {
   "cell_type": "code",
   "execution_count": 17,
   "metadata": {},
   "outputs": [
    {
     "data": {
      "text/plain": [
       "[-13.897330595482547, 0.0, 0.03285420944558522]"
      ]
     },
     "execution_count": 17,
     "metadata": {},
     "output_type": "execute_result"
    }
   ],
   "source": [
    "sorted(all_rewards_most_recent['Month_to_Q3_End'].unique().tolist())[:3]"
   ]
  },
  {
   "cell_type": "code",
   "execution_count": null,
   "metadata": {
    "collapsed": true
   },
   "outputs": [],
   "source": []
  },
  {
   "cell_type": "code",
   "execution_count": 18,
   "metadata": {
    "collapsed": true
   },
   "outputs": [],
   "source": [
    "all_rewards_most_recent['Group_before_Q4']=np.where((all_rewards_most_recent['Month_to_Q3_End']>12) & (all_rewards_most_recent['Month_to_Q3_End']<=48),\"Lapsed_12_48\",\n",
    "                                                   np.where(all_rewards_most_recent['Month_to_Q3_End']>48,\"WD_48+\",\n",
    "                                                            np.where((all_rewards_most_recent['Month_to_Q3_End']>=0) & (all_rewards_most_recent['Month_to_Q3_End']<=12),\"Active\",\n",
    "                                                                    np.where(all_rewards_most_recent['Month_to_Q3_End']<0,\"NotAvailable_Before_Q4\",\"NaN\")\n",
    "                                                                    )\n",
    "                                                           )\n",
    "                                                   )\n",
    "all_rewards_most_recent['Group_after_Q4']=np.where((all_rewards_most_recent['Month_to_Q4_End']>12) & (all_rewards_most_recent['Month_to_Q4_End']<=48),\"Lapsed_12_48\",\n",
    "                                                   np.where(all_rewards_most_recent['Month_to_Q4_End']>48,\"WD_48+\",\n",
    "                                                            np.where((all_rewards_most_recent['Month_to_Q4_End']>=0) & (all_rewards_most_recent['Month_to_Q4_End']<=12),\"Active\",\n",
    "                                                                    np.where(all_rewards_most_recent['Month_to_Q4_End']<0,\"NotAvailable_Before_Q4\",\"NaN\")\n",
    "                                                                    )\n",
    "                                                           )\n",
    "                                                   )"
   ]
  },
  {
   "cell_type": "code",
   "execution_count": 19,
   "metadata": {},
   "outputs": [
    {
     "data": {
      "text/plain": [
       "array(['Active', 'Lapsed_12_48', 'NotAvailable_Before_Q4'], dtype=object)"
      ]
     },
     "execution_count": 19,
     "metadata": {},
     "output_type": "execute_result"
    }
   ],
   "source": [
    "all_rewards_most_recent['Group_before_Q4'].unique()"
   ]
  },
  {
   "cell_type": "code",
   "execution_count": 20,
   "metadata": {},
   "outputs": [
    {
     "data": {
      "text/plain": [
       "array(['Active', 'WD_48+', 'Lapsed_12_48'], dtype=object)"
      ]
     },
     "execution_count": 20,
     "metadata": {},
     "output_type": "execute_result"
    }
   ],
   "source": [
    "all_rewards_most_recent['Group_after_Q4'].unique()"
   ]
  },
  {
   "cell_type": "code",
   "execution_count": null,
   "metadata": {
    "collapsed": true
   },
   "outputs": [],
   "source": []
  },
  {
   "cell_type": "code",
   "execution_count": 21,
   "metadata": {},
   "outputs": [
    {
     "name": "stdout",
     "output_type": "stream",
     "text": [
      "(13, 2)\n",
      "/home/jian/BigLots/hist_daily_data_itemlevel_decompressed/MediaStormDailySalesHistory20181110.txt 2019-03-30 18:07:49.841098\n",
      "/home/jian/BigLots/hist_daily_data_itemlevel_decompressed/MediaStormDailySalesHistory20181117.txt 2019-03-30 18:08:25.668803\n",
      "/home/jian/BigLots/hist_daily_data_itemlevel_decompressed/MediaStormDailySalesHistory20181124.txt 2019-03-30 18:09:11.270595\n",
      "/home/jian/BigLots/hist_daily_data_itemlevel_decompressed/MediaStormDailySalesHistory20181201.txt 2019-03-30 18:09:57.134007\n",
      "/home/jian/BigLots/hist_daily_data_itemlevel_decompressed/MediaStormDailySalesHistory20181208.txt 2019-03-30 18:10:47.659399\n",
      "/home/jian/BigLots/hist_daily_data_itemlevel_decompressed/MediaStormDailySalesHistory20181215.txt 2019-03-30 18:11:38.230464\n",
      "/home/jian/BigLots/hist_daily_data_itemlevel_decompressed/MediaStormDailySalesHistory20181222.txt 2019-03-30 18:12:39.303698\n",
      "/home/jian/BigLots/hist_daily_data_itemlevel_decompressed/MediaStormDailySalesHistory20181229.txt 2019-03-30 18:13:19.926186\n",
      "/home/jian/BigLots/hist_daily_data_itemlevel_decompressed/MediaStormDailySalesHistory20190105.txt 2019-03-30 18:13:50.766966\n",
      "/home/jian/BigLots/hist_daily_data_itemlevel_decompressed/MediaStormDailySalesHistory20190112.txt 2019-03-30 18:14:22.146412\n",
      "/home/jian/BigLots/hist_daily_data_itemlevel_decompressed/MediaStormDailySalesHistory20190119.txt 2019-03-30 18:14:57.761074\n",
      "/home/jian/BigLots/hist_daily_data_itemlevel_decompressed/MediaStormDailySalesHistory20190126.txt 2019-03-30 18:15:38.985326\n",
      "/home/jian/BigLots/hist_daily_data_itemlevel_decompressed/MediaStormDailySalesHistory20190202.txt 2019-03-30 18:16:09.417157\n"
     ]
    }
   ],
   "source": [
    "Q4_sales_by_id=pd.DataFrame()\n",
    "Q4_files_df=historical_daily_df[historical_daily_df['week_end_dt']>=datetime.date(2018,11,10)]\n",
    "print(Q4_files_df.shape)\n",
    "for file in Q4_files_df['file_path'].tolist():\n",
    "    df=pd.read_table(file,sep=\"|\",usecols=['customer_id_hashed','item_transaction_amt'])\n",
    "    df=df[~pd.isnull(df['customer_id_hashed'])]\n",
    "    df=df.groupby(['customer_id_hashed'])['item_transaction_amt'].sum().to_frame().reset_index()\n",
    "    \n",
    "    Q4_sales_by_id=Q4_sales_by_id.append(df)\n",
    "    print(file,datetime.datetime.now())\n",
    "Q4_sales_by_id=Q4_sales_by_id.groupby(\"customer_id_hashed\")['item_transaction_amt'].sum().to_frame().reset_index()\n",
    "Q4_sales_by_id=Q4_sales_by_id.rename(columns={\"item_transaction_amt\":\"sales_2018_Q4\"})\n",
    "Q4_sales_by_id['Q4_Shopping_Group']=\"Q4_Shopped\""
   ]
  },
  {
   "cell_type": "code",
   "execution_count": 22,
   "metadata": {},
   "outputs": [
    {
     "data": {
      "text/plain": [
       "(25642058, 12)"
      ]
     },
     "execution_count": 22,
     "metadata": {},
     "output_type": "execute_result"
    }
   ],
   "source": [
    "all_rewards_most_recent=pd.merge(all_rewards_most_recent,Q4_sales_by_id,on=\"customer_id_hashed\",how=\"outer\")\n",
    "all_rewards_most_recent.shape"
   ]
  },
  {
   "cell_type": "code",
   "execution_count": 23,
   "metadata": {},
   "outputs": [
    {
     "data": {
      "text/html": [
       "<div>\n",
       "<style>\n",
       "    .dataframe thead tr:only-child th {\n",
       "        text-align: right;\n",
       "    }\n",
       "\n",
       "    .dataframe thead th {\n",
       "        text-align: left;\n",
       "    }\n",
       "\n",
       "    .dataframe tbody tr th {\n",
       "        vertical-align: top;\n",
       "    }\n",
       "</style>\n",
       "<table border=\"1\" class=\"dataframe\">\n",
       "  <thead>\n",
       "    <tr style=\"text-align: right;\">\n",
       "      <th></th>\n",
       "      <th>customer_id_hashed</th>\n",
       "      <th>transaction_date</th>\n",
       "      <th>transaction_date_before_Q4</th>\n",
       "      <th>transaction_date_after_Q4</th>\n",
       "      <th>Days_to_Q3_End</th>\n",
       "      <th>Days_to_Q4_End</th>\n",
       "      <th>Month_to_Q3_End</th>\n",
       "      <th>Month_to_Q4_End</th>\n",
       "      <th>Group_before_Q4</th>\n",
       "      <th>Group_after_Q4</th>\n",
       "      <th>sales_2018_Q4</th>\n",
       "      <th>Q4_Shopping_Group</th>\n",
       "    </tr>\n",
       "  </thead>\n",
       "  <tbody>\n",
       "    <tr>\n",
       "      <th>0</th>\n",
       "      <td>00000135f48c68690ad3d5fc9ada41bb5cd687452007e8...</td>\n",
       "      <td>2018-10-30</td>\n",
       "      <td>2018-10-30</td>\n",
       "      <td>2018-10-30</td>\n",
       "      <td>4 days</td>\n",
       "      <td>95 days</td>\n",
       "      <td>0.131417</td>\n",
       "      <td>3.121150</td>\n",
       "      <td>Active</td>\n",
       "      <td>Active</td>\n",
       "      <td>NaN</td>\n",
       "      <td>NaN</td>\n",
       "    </tr>\n",
       "    <tr>\n",
       "      <th>1</th>\n",
       "      <td>000001dadc0265bf9d250566d74e0006323f18b5826641...</td>\n",
       "      <td>2018-10-27</td>\n",
       "      <td>2018-10-27</td>\n",
       "      <td>2018-12-21</td>\n",
       "      <td>7 days</td>\n",
       "      <td>43 days</td>\n",
       "      <td>0.229979</td>\n",
       "      <td>1.412731</td>\n",
       "      <td>Active</td>\n",
       "      <td>Active</td>\n",
       "      <td>42.2</td>\n",
       "      <td>Q4_Shopped</td>\n",
       "    </tr>\n",
       "  </tbody>\n",
       "</table>\n",
       "</div>"
      ],
      "text/plain": [
       "                                  customer_id_hashed transaction_date  \\\n",
       "0  00000135f48c68690ad3d5fc9ada41bb5cd687452007e8...       2018-10-30   \n",
       "1  000001dadc0265bf9d250566d74e0006323f18b5826641...       2018-10-27   \n",
       "\n",
       "  transaction_date_before_Q4 transaction_date_after_Q4 Days_to_Q3_End  \\\n",
       "0                 2018-10-30                2018-10-30         4 days   \n",
       "1                 2018-10-27                2018-12-21         7 days   \n",
       "\n",
       "  Days_to_Q4_End  Month_to_Q3_End  Month_to_Q4_End Group_before_Q4  \\\n",
       "0        95 days         0.131417         3.121150          Active   \n",
       "1        43 days         0.229979         1.412731          Active   \n",
       "\n",
       "  Group_after_Q4  sales_2018_Q4 Q4_Shopping_Group  \n",
       "0         Active            NaN               NaN  \n",
       "1         Active           42.2        Q4_Shopped  "
      ]
     },
     "execution_count": 23,
     "metadata": {},
     "output_type": "execute_result"
    }
   ],
   "source": [
    "all_rewards_most_recent.head(2)"
   ]
  },
  {
   "cell_type": "code",
   "execution_count": 24,
   "metadata": {
    "collapsed": true
   },
   "outputs": [],
   "source": [
    "Q4_new_sign_ups_files=list(recrusive_file_gen(\"/home/jian/BigLots/2018_by_weeks/\"))+list(recrusive_file_gen(\"/home/jian/BigLots/2019_by_weeks/\"))\n",
    "\n",
    "Q4_new_sign_ups_files=[x for x in Q4_new_sign_ups_files if \"Master\" in x]\n",
    "Q4_new_sign_ups_files_df=pd.DataFrame({\"file_path\":Q4_new_sign_ups_files})\n",
    "Q4_new_sign_ups_files_df['week_end_dt']=Q4_new_sign_ups_files_df['file_path'].apply(lambda x: x.split(\"_by_weeks/MediaStorm_\")[1][:10])\n",
    "Q4_new_sign_ups_files_df=Q4_new_sign_ups_files_df[Q4_new_sign_ups_files_df['week_end_dt']<=\"2019-02-02\"]\n",
    "Q4_new_sign_ups_files_df=Q4_new_sign_ups_files_df[Q4_new_sign_ups_files_df['week_end_dt']>=\"2018-11-04\"]\n",
    "\n",
    "all_new_sign_ups=pd.DataFrame()\n",
    "for file in Q4_new_sign_ups_files_df['file_path'].unique().tolist():\n",
    "    df=pd.read_table(file,sep=\"|\",usecols=['customer_id_hashed','sign_up_date'])\n",
    "    all_new_sign_ups=all_new_sign_ups.append(df)\n",
    "all_new_sign_ups.shape\n",
    "\n",
    "all_new_sign_ups['NewRewards']=\"Q4_New_Sign_Ups\"\n",
    "all_new_sign_ups=all_new_sign_ups.drop_duplicates(\"customer_id_hashed\")"
   ]
  },
  {
   "cell_type": "code",
   "execution_count": 25,
   "metadata": {},
   "outputs": [
    {
     "data": {
      "text/plain": [
       "(25655008, 14)"
      ]
     },
     "execution_count": 25,
     "metadata": {},
     "output_type": "execute_result"
    }
   ],
   "source": [
    "all_rewards_most_recent=pd.merge(all_rewards_most_recent,all_new_sign_ups,on=\"customer_id_hashed\",how=\"outer\")\n",
    "all_rewards_most_recent['NewRewards']=all_rewards_most_recent['NewRewards'].fillna(\"Old_Rewards_Members\")\n",
    "all_rewards_most_recent['sales_2018_Q4']=all_rewards_most_recent['sales_2018_Q4'].fillna(0)\n",
    "all_rewards_most_recent['Q4_Shopping_Group']=all_rewards_most_recent['Q4_Shopping_Group'].fillna(\"Q4_No_Shop\")\n",
    "\n",
    "all_rewards_most_recent.shape"
   ]
  },
  {
   "cell_type": "code",
   "execution_count": null,
   "metadata": {
    "collapsed": true
   },
   "outputs": [],
   "source": []
  },
  {
   "cell_type": "code",
   "execution_count": 26,
   "metadata": {},
   "outputs": [
    {
     "data": {
      "text/html": [
       "<div>\n",
       "<style>\n",
       "    .dataframe thead tr:only-child th {\n",
       "        text-align: right;\n",
       "    }\n",
       "\n",
       "    .dataframe thead th {\n",
       "        text-align: left;\n",
       "    }\n",
       "\n",
       "    .dataframe tbody tr th {\n",
       "        vertical-align: top;\n",
       "    }\n",
       "</style>\n",
       "<table border=\"1\" class=\"dataframe\">\n",
       "  <thead>\n",
       "    <tr style=\"text-align: right;\">\n",
       "      <th></th>\n",
       "      <th>Group_before_Q4</th>\n",
       "      <th>Group_after_Q4</th>\n",
       "      <th>NewRewards</th>\n",
       "      <th>Q4_Shopping_Group</th>\n",
       "      <th>id_count</th>\n",
       "      <th>sales_2018_Q4</th>\n",
       "    </tr>\n",
       "  </thead>\n",
       "  <tbody>\n",
       "    <tr>\n",
       "      <th>0</th>\n",
       "      <td>Active</td>\n",
       "      <td>Active</td>\n",
       "      <td>Old_Rewards_Members</td>\n",
       "      <td>Q4_No_Shop</td>\n",
       "      <td>7418155</td>\n",
       "      <td>0.000000e+00</td>\n",
       "    </tr>\n",
       "    <tr>\n",
       "      <th>1</th>\n",
       "      <td>Active</td>\n",
       "      <td>Active</td>\n",
       "      <td>Old_Rewards_Members</td>\n",
       "      <td>Q4_Shopped</td>\n",
       "      <td>7188995</td>\n",
       "      <td>6.955726e+08</td>\n",
       "    </tr>\n",
       "    <tr>\n",
       "      <th>2</th>\n",
       "      <td>Active</td>\n",
       "      <td>Active</td>\n",
       "      <td>Q4_New_Sign_Ups</td>\n",
       "      <td>Q4_No_Shop</td>\n",
       "      <td>3</td>\n",
       "      <td>0.000000e+00</td>\n",
       "    </tr>\n",
       "    <tr>\n",
       "      <th>3</th>\n",
       "      <td>Active</td>\n",
       "      <td>Active</td>\n",
       "      <td>Q4_New_Sign_Ups</td>\n",
       "      <td>Q4_Shopped</td>\n",
       "      <td>267</td>\n",
       "      <td>4.954848e+04</td>\n",
       "    </tr>\n",
       "    <tr>\n",
       "      <th>4</th>\n",
       "      <td>Active</td>\n",
       "      <td>Lapsed_12_48</td>\n",
       "      <td>Old_Rewards_Members</td>\n",
       "      <td>Q4_No_Shop</td>\n",
       "      <td>1864701</td>\n",
       "      <td>0.000000e+00</td>\n",
       "    </tr>\n",
       "    <tr>\n",
       "      <th>5</th>\n",
       "      <td>Lapsed_12_48</td>\n",
       "      <td>Active</td>\n",
       "      <td>Old_Rewards_Members</td>\n",
       "      <td>Q4_Shopped</td>\n",
       "      <td>735197</td>\n",
       "      <td>5.545576e+07</td>\n",
       "    </tr>\n",
       "    <tr>\n",
       "      <th>6</th>\n",
       "      <td>Lapsed_12_48</td>\n",
       "      <td>Lapsed_12_48</td>\n",
       "      <td>Old_Rewards_Members</td>\n",
       "      <td>Q4_No_Shop</td>\n",
       "      <td>6487113</td>\n",
       "      <td>0.000000e+00</td>\n",
       "    </tr>\n",
       "    <tr>\n",
       "      <th>7</th>\n",
       "      <td>Lapsed_12_48</td>\n",
       "      <td>WD_48+</td>\n",
       "      <td>Old_Rewards_Members</td>\n",
       "      <td>Q4_No_Shop</td>\n",
       "      <td>94133</td>\n",
       "      <td>0.000000e+00</td>\n",
       "    </tr>\n",
       "    <tr>\n",
       "      <th>8</th>\n",
       "      <td>NotAvailable_Before_Q4</td>\n",
       "      <td>Active</td>\n",
       "      <td>Old_Rewards_Members</td>\n",
       "      <td>Q4_Shopped</td>\n",
       "      <td>570221</td>\n",
       "      <td>5.002389e+07</td>\n",
       "    </tr>\n",
       "    <tr>\n",
       "      <th>9</th>\n",
       "      <td>NotAvailable_Before_Q4</td>\n",
       "      <td>Active</td>\n",
       "      <td>Q4_New_Sign_Ups</td>\n",
       "      <td>Q4_Shopped</td>\n",
       "      <td>1283273</td>\n",
       "      <td>1.378559e+08</td>\n",
       "    </tr>\n",
       "  </tbody>\n",
       "</table>\n",
       "</div>"
      ],
      "text/plain": [
       "          Group_before_Q4 Group_after_Q4           NewRewards  \\\n",
       "0                  Active         Active  Old_Rewards_Members   \n",
       "1                  Active         Active  Old_Rewards_Members   \n",
       "2                  Active         Active      Q4_New_Sign_Ups   \n",
       "3                  Active         Active      Q4_New_Sign_Ups   \n",
       "4                  Active   Lapsed_12_48  Old_Rewards_Members   \n",
       "5            Lapsed_12_48         Active  Old_Rewards_Members   \n",
       "6            Lapsed_12_48   Lapsed_12_48  Old_Rewards_Members   \n",
       "7            Lapsed_12_48         WD_48+  Old_Rewards_Members   \n",
       "8  NotAvailable_Before_Q4         Active  Old_Rewards_Members   \n",
       "9  NotAvailable_Before_Q4         Active      Q4_New_Sign_Ups   \n",
       "\n",
       "  Q4_Shopping_Group  id_count  sales_2018_Q4  \n",
       "0        Q4_No_Shop   7418155   0.000000e+00  \n",
       "1        Q4_Shopped   7188995   6.955726e+08  \n",
       "2        Q4_No_Shop         3   0.000000e+00  \n",
       "3        Q4_Shopped       267   4.954848e+04  \n",
       "4        Q4_No_Shop   1864701   0.000000e+00  \n",
       "5        Q4_Shopped    735197   5.545576e+07  \n",
       "6        Q4_No_Shop   6487113   0.000000e+00  \n",
       "7        Q4_No_Shop     94133   0.000000e+00  \n",
       "8        Q4_Shopped    570221   5.002389e+07  \n",
       "9        Q4_Shopped   1283273   1.378559e+08  "
      ]
     },
     "execution_count": 26,
     "metadata": {},
     "output_type": "execute_result"
    }
   ],
   "source": [
    "output_id_count=all_rewards_most_recent.groupby(['Group_before_Q4','Group_after_Q4','NewRewards','Q4_Shopping_Group'])['customer_id_hashed'].count().to_frame().reset_index().rename(columns={\"customer_id_hashed\":\"id_count\"})\n",
    "output_id_Q4_sales=all_rewards_most_recent.groupby(['Group_before_Q4','Group_after_Q4','NewRewards','Q4_Shopping_Group'])['sales_2018_Q4'].sum().to_frame().reset_index()\n",
    "\n",
    "output=pd.merge(output_id_count,output_id_Q4_sales,on=['Group_before_Q4','Group_after_Q4','NewRewards','Q4_Shopping_Group'],how=\"outer\")\n",
    "output\n"
   ]
  },
  {
   "cell_type": "code",
   "execution_count": 27,
   "metadata": {},
   "outputs": [],
   "source": [
    "output.to_csv(\"/home/jian/Projects/Big_Lots/Analysis/2019_Q1/Planner_Request/Compare_Q4_Before_After_Groups_JT_20190327/BL_Q4_rewards_migration_output_summary_JL_\"+str(datetime.datetime.now().date())+\".csv\",index=False)\n",
    "\n"
   ]
  },
  {
   "cell_type": "code",
   "execution_count": 28,
   "metadata": {},
   "outputs": [],
   "source": [
    "all_rewards_most_recent.to_csv(\"/home/jian/Projects/Big_Lots/Analysis/2019_Q1/Planner_Request/Compare_Q4_Before_After_Groups_JT_20190327/BL_Q4_rewards_migration_rewards_data_JL_\"+str(datetime.datetime.now().date())+\".csv\",index=False)\n"
   ]
  },
  {
   "cell_type": "code",
   "execution_count": 29,
   "metadata": {},
   "outputs": [
    {
     "data": {
      "text/plain": [
       "(25655008, 14)"
      ]
     },
     "execution_count": 29,
     "metadata": {},
     "output_type": "execute_result"
    }
   ],
   "source": [
    "all_rewards_most_recent.shape"
   ]
  },
  {
   "cell_type": "code",
   "execution_count": 30,
   "metadata": {},
   "outputs": [
    {
     "data": {
      "text/plain": [
       "25655008"
      ]
     },
     "execution_count": 30,
     "metadata": {},
     "output_type": "execute_result"
    }
   ],
   "source": [
    "len(all_rewards_most_recent['customer_id_hashed'].unique())"
   ]
  },
  {
   "cell_type": "code",
   "execution_count": null,
   "metadata": {
    "collapsed": true
   },
   "outputs": [],
   "source": []
  }
 ],
 "metadata": {
  "kernelspec": {
   "display_name": "Python 3",
   "language": "python",
   "name": "python3"
  },
  "language_info": {
   "codemirror_mode": {
    "name": "ipython",
    "version": 3
   },
   "file_extension": ".py",
   "mimetype": "text/x-python",
   "name": "python",
   "nbconvert_exporter": "python",
   "pygments_lexer": "ipython3",
   "version": "3.6.1"
  }
 },
 "nbformat": 4,
 "nbformat_minor": 2
}
