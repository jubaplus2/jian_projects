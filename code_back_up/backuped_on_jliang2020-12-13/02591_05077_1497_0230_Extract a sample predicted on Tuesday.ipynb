{
 "cells": [
  {
   "cell_type": "code",
   "execution_count": 1,
   "metadata": {
    "collapsed": true
   },
   "outputs": [],
   "source": [
    "import pandas as pd\n",
    "import numpy as np\n",
    "import json\n",
    "import datetime"
   ]
  },
  {
   "cell_type": "code",
   "execution_count": 2,
   "metadata": {
    "collapsed": true
   },
   "outputs": [],
   "source": [
    "forecast_date_str=\"2018-07-10\" # Tuesday\n",
    "inclusion_store_date=\"2018_07_07\" # Last Saturday\n",
    "folder=\"/home/jian/Projects/Big_Lots/Weather/Json_data/forecast/\"\n",
    "json_forecast=json.load(open(folder+forecast_date_str+\".json\",\"r\"))\n",
    "list_k=(5-datetime.datetime.strptime(forecast_date_str,\"%Y-%m-%d\").date().weekday())*8-1\n",
    "inclusion_store_df=pd.read_table(\"/home/jian/BigLots/MediaStorm_\"+inclusion_store_date+\"/MediaStormSalesWeekly.txt\",dtype=str,sep=\"|\")\n",
    "inclusion_store_df=inclusion_store_df[~inclusion_store_df['location_id'].isin(['145','6990'])]"
   ]
  },
  {
   "cell_type": "code",
   "execution_count": 3,
   "metadata": {
    "collapsed": true
   },
   "outputs": [],
   "source": [
    "inclusion_store_df['subclass_gross_sales_amt']=inclusion_store_df['subclass_gross_sales_amt'].astype(float)\n",
    "inclusion_store_df['gross_transaction_cnt']=inclusion_store_df['gross_transaction_cnt'].astype(float)\n",
    "\n",
    "inclusion_store_df_trans=inclusion_store_df[['location_id','week_end_dt','gross_transaction_cnt']].drop_duplicates()\n",
    "inclusion_store_df_sales=inclusion_store_df.groupby(['location_id','week_end_dt'])['subclass_gross_sales_amt'].sum().reset_index()\n",
    "\n",
    "inclusion_store_df_trans=inclusion_store_df_trans.rename(columns={\"gross_transaction_cnt\":\"transaction\"})\n",
    "inclusion_store_df_sales=inclusion_store_df_sales.rename(columns={\"subclass_gross_sales_amt\":\"sales\"})\n",
    "df_stores=pd.merge(inclusion_store_df_sales,inclusion_store_df_trans,on=[\"location_id\",\"week_end_dt\"],how=\"outer\")"
   ]
  },
  {
   "cell_type": "code",
   "execution_count": 4,
   "metadata": {
    "collapsed": true
   },
   "outputs": [],
   "source": [
    "store_list_txt=pd.read_table(\"/home/jian/BigLots/static_files/MediaStormStores_20180703.txt\",sep=\"|\",dtype=str)\n",
    "store_list_txt['zip_cd']=store_list_txt['zip_cd'].apply(lambda x: x.split(\"-\")[0].zfill(5))\n",
    "store_list_txt=store_list_txt[['location_id','location_desc','address_line_1','address_line_2','city_nm','state_nm','zip_cd']]\n",
    "\n",
    "df_stores=pd.merge(df_stores,store_list_txt,on=\"location_id\",how=\"left\")\n",
    "df_stores=df_stores.reset_index()\n",
    "del df_stores['index']\n",
    "\n",
    "zip_DMA=pd.read_excel(\"/home/jian/Docs/Geo_mapping/Zips by DMA by County16-17 nielsen.xlsx\",skiprows=1,dtype=str)\n",
    "zip_DMA=zip_DMA.iloc[:,[0,2]].drop_duplicates()\n",
    "zip_DMA=zip_DMA.rename(columns={\"CODE\":\"zip_cd\",\"NAME\":\"DMA\"})\n",
    "zip_DMA=zip_DMA.drop_duplicates(['zip_cd'])\n",
    "df_stores=pd.merge(df_stores,zip_DMA,on=\"zip_cd\",how=\"left\")"
   ]
  },
  {
   "cell_type": "code",
   "execution_count": 5,
   "metadata": {},
   "outputs": [
    {
     "data": {
      "text/plain": [
       "(1409, 11)"
      ]
     },
     "execution_count": 5,
     "metadata": {},
     "output_type": "execute_result"
    }
   ],
   "source": [
    "df_stores.shape"
   ]
  },
  {
   "cell_type": "code",
   "execution_count": 6,
   "metadata": {},
   "outputs": [
    {
     "name": "stderr",
     "output_type": "stream",
     "text": [
      "/usr/local/lib/python3.6/site-packages/ipykernel_launcher.py:5: SettingWithCopyWarning: \n",
      "A value is trying to be set on a copy of a slice from a DataFrame.\n",
      "Try using .loc[row_indexer,col_indexer] = value instead\n",
      "\n",
      "See the caveats in the documentation: http://pandas.pydata.org/pandas-docs/stable/indexing.html#indexing-view-versus-copy\n",
      "  \"\"\"\n"
     ]
    }
   ],
   "source": [
    "rain_snow_weight=pd.read_excel(\"/home/jian/Projects/Big_Lots/Weather/Q1_Weather_Counts/Q1_inclusion_store_all_weather_type_ranked.xlsx\",sheetname=\"ranked rain snow\")\n",
    "\n",
    "rain_weight=rain_snow_weight.iloc[:,[4,6]]\n",
    "rain_weight.columns=[['rain_desc','weight']]\n",
    "rain_weight['weight']=rain_weight['weight'].astype(int)\n",
    "rain_weight=rain_weight.sort_values(\"weight\")\n",
    "\n",
    "snow_weight=rain_snow_weight.iloc[:,[0,2]]\n",
    "snow_weight.columns=[['snow_desc','weight']]\n",
    "snow_weight=snow_weight[~pd.isnull(snow_weight['snow_desc'])]\n",
    "snow_weight['weight']=snow_weight['weight'].astype(int)\n",
    "snow_weight=snow_weight.sort_values(\"weight\")\n",
    "\n",
    "group_weight=pd.read_excel(\"/home/jian/Projects/Big_Lots/Weather/Q1_Weather_Counts/Q1_inclusion_store_all_weather_type_ranked.xlsx\",sheetname=\"all_weather_group_list\")\n",
    "group_weight['Severity']=group_weight['Severity'].astype(int)\n",
    "group_weight=group_weight[['all_type_group','Severity']]\n",
    "group_weight_dict=group_weight[['all_type_group', 'Severity']].set_index('all_type_group').T.to_dict()"
   ]
  },
  {
   "cell_type": "code",
   "execution_count": 7,
   "metadata": {},
   "outputs": [
    {
     "name": "stdout",
     "output_type": "stream",
     "text": [
      "14304 Not Collected\n"
     ]
    }
   ],
   "source": [
    "output_forecast_weather=pd.DataFrame()\n",
    "index_num=0\n",
    "for zip_cd in df_stores['zip_cd'].unique().tolist():\n",
    "    if zip_cd in list(json_forecast.keys()):\n",
    "        weather_list=json_forecast[zip_cd]['list'][list_k]['weather']\n",
    "        forecast_time=datetime.datetime.fromtimestamp(json_forecast[zip_cd]['list'][list_k]['dt'])\n",
    "        all_forecast_group_value_zip=[]\n",
    "        all_forecast_desc_value_zip=[]\n",
    "        for j in range(len(weather_list)):\n",
    "            weather_forecast_group=weather_list[j]['main']\n",
    "            weather_forecast_desc=weather_list[j]['description']\n",
    "            all_forecast_group_value_zip=list(set(all_forecast_group_value_zip+[weather_forecast_group]))\n",
    "            all_forecast_desc_value_zip=list(set(all_forecast_desc_value_zip+[weather_forecast_group]))\n",
    "\n",
    "        all_forecast_group_severity_zip=[]\n",
    "        all_forecast_desc_severity_zip=[]\n",
    "        for k in range(len(all_forecast_group_value_zip)):\n",
    "            forecast_severity_zip=group_weight_dict[all_forecast_group_value_zip[k]]['Severity']\n",
    "            all_forecast_group_severity_zip=list(set(all_forecast_group_severity_zip+[forecast_severity_zip]))\n",
    "            all_forecast_desc_severity_zip\n",
    "            if k==0:\n",
    "                selected_havest_forecast_group_value_zip=all_forecast_group_value_zip[0]\n",
    "                # selected_havest_forecast_desc_value_zip=\n",
    "            else:\n",
    "                if group_weight_dict[all_forecast_group_value_zip[k]]['Severity']>group_weight_dict[selected_havest_forecast_group_value_zip]['Severity']:\n",
    "                    selected_havest_forecast_group_value_zip=all_forecast_group_value_zip[k]\n",
    "                    # selected_havest_forecast_desc_value_zip\n",
    "        forecast_max_severity_zip=max(all_forecast_group_severity_zip)\n",
    "\n",
    "        df_app=pd.DataFrame({\"zip_cd\":zip_cd,\"Forecast_Time\":forecast_time,\"Forecast_Severity\":forecast_max_severity_zip,\n",
    "                            \"Forecast_Weather_Type\":selected_havest_forecast_group_value_zip},index=[index_num])\n",
    "        index_num=index_num+1\n",
    "        output_forecast_weather=output_forecast_weather.append(df_app)\n",
    "    else:\n",
    "        print(zip_cd,\"Not Collected\")\n",
    "        df_app=pd.DataFrame({\"zip_cd\":zip_cd,\"Forecast_Time\":\"Not_Collected\",\"Forecast_Severity\":'Not_Collected',\n",
    "                            \"Forecast_Weather_Type\":'Not_Collected'},index=[index_num])\n",
    "        index_num=index_num+1\n",
    "        output_forecast_weather=output_forecast_weather.append(df_app)"
   ]
  },
  {
   "cell_type": "code",
   "execution_count": 8,
   "metadata": {},
   "outputs": [],
   "source": [
    "output=pd.merge(df_stores,output_forecast_weather,on=\"zip_cd\",how=\"left\")\n",
    "week_end_date=output['week_end_dt'].unique()[0]\n",
    "Saturday_str=str(output[output['Forecast_Time']!='Not_Collected']['Forecast_Time'].apply(lambda x: x.date()).unique()[0])\n",
    "output['location_id']=output['location_id'].astype(int)\n",
    "output=output.sort_values('location_id')"
   ]
  },
  {
   "cell_type": "code",
   "execution_count": 9,
   "metadata": {
    "collapsed": true
   },
   "outputs": [],
   "source": [
    "output.to_csv(\"/home/jian/BiglotsCode/outputs/Output_\"+week_end_date+\"/weather_forecast_for_Saturday_\"+Saturday_str+\".csv\",index=False)"
   ]
  },
  {
   "cell_type": "code",
   "execution_count": null,
   "metadata": {
    "collapsed": true
   },
   "outputs": [],
   "source": []
  }
 ],
 "metadata": {
  "kernelspec": {
   "display_name": "Python 3",
   "language": "python",
   "name": "python3"
  },
  "language_info": {
   "codemirror_mode": {
    "name": "ipython",
    "version": 3
   },
   "file_extension": ".py",
   "mimetype": "text/x-python",
   "name": "python",
   "nbconvert_exporter": "python",
   "pygments_lexer": "ipython3",
   "version": "3.6.1"
  }
 },
 "nbformat": 4,
 "nbformat_minor": 2
}
