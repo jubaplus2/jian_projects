{
 "cells": [
  {
   "cell_type": "code",
   "execution_count": 3,
   "metadata": {
    "collapsed": true
   },
   "outputs": [],
   "source": [
    "import pandas as pd\n",
    "import glob\n",
    "import datetime\n",
    "import numpy as np"
   ]
  },
  {
   "cell_type": "code",
   "execution_count": 4,
   "metadata": {
    "collapsed": true
   },
   "outputs": [],
   "source": [
    "folder_file_pattern=glob.glob(\"/home/jian/Projects/Big_Lots/Sales_All/Sales_Data/*.txt\")"
   ]
  },
  {
   "cell_type": "code",
   "execution_count": 5,
   "metadata": {
    "collapsed": true
   },
   "outputs": [],
   "source": [
    "taxonomy=pd.read_csv(\"/home/jian/BigLots/static_files/MediaStorm Data Extract - Product Taxonomy.txt\",sep=\"|\",dtype=str)\n",
    "depart_name=pd.read_csv(\"/home/jian/BigLots/static_files/MediaStorm Data Extract - Department Names.txt\",sep=\"|\",dtype=str)\n",
    "class_name=pd.read_csv(\"/home/jian/BigLots/static_files/MediaStorm Data Extract - Class Names.txt\",sep=\"|\",dtype=str,encoding = \"ISO-8859-1\")"
   ]
  },
  {
   "cell_type": "code",
   "execution_count": 6,
   "metadata": {
    "collapsed": true
   },
   "outputs": [],
   "source": [
    "depart_class=taxonomy[['department_id','class_code_id']].drop_duplicates()\n",
    "depart_class=pd.merge(depart_class,depart_name,on='department_id',how=\"left\")\n",
    "depart_class=pd.merge(depart_class,class_name,on='class_code_id',how=\"left\")"
   ]
  },
  {
   "cell_type": "code",
   "execution_count": 7,
   "metadata": {},
   "outputs": [
    {
     "data": {
      "text/html": [
       "<div>\n",
       "<style>\n",
       "    .dataframe thead tr:only-child th {\n",
       "        text-align: right;\n",
       "    }\n",
       "\n",
       "    .dataframe thead th {\n",
       "        text-align: left;\n",
       "    }\n",
       "\n",
       "    .dataframe tbody tr th {\n",
       "        vertical-align: top;\n",
       "    }\n",
       "</style>\n",
       "<table border=\"1\" class=\"dataframe\">\n",
       "  <thead>\n",
       "    <tr style=\"text-align: right;\">\n",
       "      <th></th>\n",
       "      <th>department_id</th>\n",
       "      <th>class_code_id</th>\n",
       "      <th>department_desc</th>\n",
       "      <th>class_code_desc</th>\n",
       "    </tr>\n",
       "  </thead>\n",
       "  <tbody>\n",
       "    <tr>\n",
       "      <th>0</th>\n",
       "      <td>108</td>\n",
       "      <td>11099</td>\n",
       "      <td>CANDYSNACK</td>\n",
       "      <td>FINANCE USE ONLY</td>\n",
       "    </tr>\n",
       "    <tr>\n",
       "      <th>1</th>\n",
       "      <td>111</td>\n",
       "      <td>11199</td>\n",
       "      <td>DIRECT STORE DELIVERIES</td>\n",
       "      <td>FINANCE USE ONLY</td>\n",
       "    </tr>\n",
       "  </tbody>\n",
       "</table>\n",
       "</div>"
      ],
      "text/plain": [
       "  department_id class_code_id          department_desc   class_code_desc\n",
       "0           108         11099               CANDYSNACK  FINANCE USE ONLY\n",
       "1           111         11199  DIRECT STORE DELIVERIES  FINANCE USE ONLY"
      ]
     },
     "execution_count": 7,
     "metadata": {},
     "output_type": "execute_result"
    }
   ],
   "source": [
    "depart_class.head(2)"
   ]
  },
  {
   "cell_type": "code",
   "execution_count": 8,
   "metadata": {
    "collapsed": true
   },
   "outputs": [],
   "source": [
    "sales_all=pd.DataFrame()\n",
    "for file in folder_file_pattern:\n",
    "    df=pd.read_csv(file,sep=\"|\",dtype=str,na_values=\"?\")\n",
    "    if \"class_code_id\" in df.columns:\n",
    "\n",
    "\n",
    "        df['class_gross_sales_amt']=df['class_gross_sales_amt'].astype(float)\n",
    "        df['class_gross_sales_amt']=df['class_gross_sales_amt'].fillna(0.0)\n",
    "        df=df[['location_id','week_end_dt','class_code_id','class_gross_sales_amt']].drop_duplicates()\n",
    "        df.reset_index(inplace=True)\n",
    "        try:\n",
    "            df['week_end_dt']=df['week_end_dt'].apply(lambda x: datetime.datetime.strptime(x,\"%Y-%m-%d\").date())\n",
    "            \n",
    "        except:\n",
    "            print(file,\"Date Error\")\n",
    "            \n",
    "            \n",
    "    else:\n",
    "        print (file,\"Error: class_code_id not in columns\")\n",
    "        \n",
    "    sales_all=sales_all.append(df)"
   ]
  },
  {
   "cell_type": "code",
   "execution_count": 17,
   "metadata": {
    "collapsed": true
   },
   "outputs": [],
   "source": [
    "# April + May\n",
    "Q1_sale_2017=sales_all[(sales_all['week_end_dt']>=datetime.datetime(2017,4,2).date()) & (sales_all['week_end_dt']<=datetime.datetime(2017,6,6).date())]\n",
    "Q1_sale_2018=sales_all[(sales_all['week_end_dt']>=datetime.datetime(2018,4,1).date()) & (sales_all['week_end_dt']<=datetime.datetime(2018,6,6).date())]"
   ]
  },
  {
   "cell_type": "code",
   "execution_count": 18,
   "metadata": {
    "collapsed": true
   },
   "outputs": [],
   "source": [
    "# April + May\n",
    "Q1_sales_all=Q1_sale_2017.append(Q1_sale_2018)\n",
    "Q1_sales_all=Q1_sales_all.drop_duplicates()\n",
    "Q1_sales_all=pd.merge(Q1_sales_all,depart_class,on=\"class_code_id\",how=\"left\")\n",
    "del Q1_sales_all['index']"
   ]
  },
  {
   "cell_type": "code",
   "execution_count": 19,
   "metadata": {
    "collapsed": true
   },
   "outputs": [],
   "source": [
    "Q1_sales_all[\"location_id\"]=Q1_sales_all[\"location_id\"].astype(int)\n",
    "\n",
    "Q1_sales_all=Q1_sales_all.sort_values([\"location_id\",\"week_end_dt\"])"
   ]
  },
  {
   "cell_type": "code",
   "execution_count": 29,
   "metadata": {
    "collapsed": true
   },
   "outputs": [],
   "source": [
    "Q1_sales_all=Q1_sales_all[(Q1_sales_all['location_id']!=145)&(Q1_sales_all['location_id']!=6990)]"
   ]
  },
  {
   "cell_type": "code",
   "execution_count": 30,
   "metadata": {
    "collapsed": true
   },
   "outputs": [],
   "source": [
    "Q1_sales_all.to_csv(\"/home/jian/Projects/Big_Lots/Sales_All/BL_Product by class April and May.csv\",index=False)"
   ]
  }
 ],
 "metadata": {
  "kernelspec": {
   "display_name": "Python 3",
   "language": "python",
   "name": "python3"
  },
  "language_info": {
   "codemirror_mode": {
    "name": "ipython",
    "version": 3
   },
   "file_extension": ".py",
   "mimetype": "text/x-python",
   "name": "python",
   "nbconvert_exporter": "python",
   "pygments_lexer": "ipython3",
   "version": "3.6.1"
  }
 },
 "nbformat": 4,
 "nbformat_minor": 2
}
