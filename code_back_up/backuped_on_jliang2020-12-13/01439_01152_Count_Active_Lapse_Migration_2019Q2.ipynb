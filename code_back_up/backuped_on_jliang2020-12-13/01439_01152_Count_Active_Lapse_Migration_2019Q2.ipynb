{
 "cells": [
  {
   "cell_type": "code",
   "execution_count": 1,
   "metadata": {},
   "outputs": [
    {
     "data": {
      "text/plain": [
       "'/home/jian/Projects/Big_Lots/Analysis/2019_Q3/Tracker_By_Migration_JT'"
      ]
     },
     "execution_count": 1,
     "metadata": {},
     "output_type": "execute_result"
    }
   ],
   "source": [
    "import pandas as pd\n",
    "import os\n",
    "import datetime\n",
    "import numpy as np\n",
    "import gc\n",
    "samplerows=10000\n",
    "os.getcwd()\n",
    "\n",
    "# To check about the 2019 weekly file path df week filter for the rolling later"
   ]
  },
  {
   "cell_type": "code",
   "execution_count": 2,
   "metadata": {},
   "outputs": [
    {
     "name": "stdout",
     "output_type": "stream",
     "text": [
      "prior_quarter_End 2019-05-04\n",
      "recent_complete_quarter_End 2019-08-03\n",
      "lapsed_date_begin 2015-04-28\n"
     ]
    }
   ],
   "source": [
    "prior_quarter_End=datetime.date(2019,5,4)\n",
    "recent_complete_quarter_End=prior_quarter_End+datetime.timedelta(days=7*13)\n",
    "\n",
    "print(\"prior_quarter_End\",prior_quarter_End)\n",
    "print(\"recent_complete_quarter_End\",recent_complete_quarter_End)\n",
    "\n",
    "lapsed_date_begin=prior_quarter_End-datetime.timedelta(days=(4*365+1+6))\n",
    "print(\"lapsed_date_begin\",lapsed_date_begin)\n"
   ]
  },
  {
   "cell_type": "code",
   "execution_count": 3,
   "metadata": {},
   "outputs": [
    {
     "name": "stdout",
     "output_type": "stream",
     "text": [
      "2015-04-28\n",
      "2017-02-26\n"
     ]
    }
   ],
   "source": [
    "lapsed=pd.read_table(\"/home/jian/Projects/Big_Lots/Loyal_members/loyalty_sales_data/lapsed20140826_20170226/MediaStormLapsedCustDtl.txt\",\n",
    "                     sep=\",\",usecols=['customer_id_hashed','transaction_date'],dtype=str).drop_duplicates()\n",
    "lapsed=lapsed[lapsed['transaction_date']>=str(lapsed_date_begin)]\n",
    "\n",
    "print(lapsed['transaction_date'].min())\n",
    "print(lapsed['transaction_date'].max())"
   ]
  },
  {
   "cell_type": "code",
   "execution_count": 4,
   "metadata": {},
   "outputs": [
    {
     "name": "stdout",
     "output_type": "stream",
     "text": [
      "1 2019-09-19 18:32:56.017353\n",
      "2 2019-09-19 18:33:43.507098\n",
      "3 2019-09-19 18:34:24.407547\n",
      "4 2019-09-19 18:35:14.731280\n",
      "5 2019-09-19 18:36:04.744536\n",
      "6 2019-09-19 18:36:49.704209\n",
      "7 2019-09-19 18:37:39.331471\n",
      "8 2019-09-19 18:38:35.679108\n",
      "9 2019-09-19 18:39:38.963923\n",
      "10 2019-09-19 18:40:59.869678\n",
      "11 2019-09-19 18:42:09.363321\n",
      "12 2019-09-19 18:43:31.126086\n",
      "13 2019-09-19 18:45:31.192811\n",
      "14 2019-09-19 18:48:21.043611\n",
      "15 2019-09-19 18:51:08.203963\n"
     ]
    }
   ],
   "source": [
    "chunksize_num = 10**7\n",
    "filename='/home/jian/Projects/Big_Lots/Live_Ramp/Quarterly_Update_2019Q1/crm_newscore_0922/combinedtransactions_0922.csv'\n",
    "dftrans_before_20180922=pd.DataFrame()\n",
    "count_i=0\n",
    "\n",
    "for chunk in pd.read_csv(filename, chunksize=chunksize_num,dtype=str,usecols=['customer_id_hashed','transaction_date']):\n",
    "    chunk = chunk.drop_duplicates()\n",
    "    chunk=chunk[chunk['transaction_date']>=str(lapsed_date_begin)]\n",
    "    dftrans_before_20180922=dftrans_before_20180922.append(chunk)\n",
    "    count_i+=1\n",
    "    print(count_i,datetime.datetime.now())\n",
    "dftrans_before_20180922=dftrans_before_20180922.drop_duplicates()    "
   ]
  },
  {
   "cell_type": "code",
   "execution_count": 5,
   "metadata": {},
   "outputs": [
    {
     "name": "stdout",
     "output_type": "stream",
     "text": [
      "(22943190, 2)\n"
     ]
    },
    {
     "data": {
      "text/plain": [
       "126"
      ]
     },
     "execution_count": 5,
     "metadata": {},
     "output_type": "execute_result"
    }
   ],
   "source": [
    "all_rewards_most_recent=dftrans_before_20180922.append(lapsed)\n",
    "all_rewards_most_recent=all_rewards_most_recent.sort_values([\"customer_id_hashed\",\"transaction_date\"],ascending=[True,False])\n",
    "all_rewards_most_recent=all_rewards_most_recent.drop_duplicates(['customer_id_hashed'])\n",
    "print(all_rewards_most_recent.shape)\n",
    "\n",
    "del chunk\n",
    "del dftrans_before_20180922\n",
    "gc.collect()"
   ]
  },
  {
   "cell_type": "code",
   "execution_count": 6,
   "metadata": {
    "collapsed": true
   },
   "outputs": [],
   "source": [
    "def recursive_file_gen(root_path):\n",
    "    for root, dirs, files in os.walk(root_path):\n",
    "        for file in files:\n",
    "            yield os.path.join(root,file)"
   ]
  },
  {
   "cell_type": "code",
   "execution_count": 7,
   "metadata": {},
   "outputs": [
    {
     "name": "stdout",
     "output_type": "stream",
     "text": [
      "(20, 2)\n"
     ]
    },
    {
     "data": {
      "text/html": [
       "<div>\n",
       "<style>\n",
       "    .dataframe thead tr:only-child th {\n",
       "        text-align: right;\n",
       "    }\n",
       "\n",
       "    .dataframe thead th {\n",
       "        text-align: left;\n",
       "    }\n",
       "\n",
       "    .dataframe tbody tr th {\n",
       "        vertical-align: top;\n",
       "    }\n",
       "</style>\n",
       "<table border=\"1\" class=\"dataframe\">\n",
       "  <thead>\n",
       "    <tr style=\"text-align: right;\">\n",
       "      <th></th>\n",
       "      <th>file_path</th>\n",
       "      <th>week_end_dt</th>\n",
       "    </tr>\n",
       "  </thead>\n",
       "  <tbody>\n",
       "    <tr>\n",
       "      <th>23</th>\n",
       "      <td>/home/jian/BigLots/hist_daily_data_itemlevel_d...</td>\n",
       "      <td>2019-01-26</td>\n",
       "    </tr>\n",
       "    <tr>\n",
       "      <th>24</th>\n",
       "      <td>/home/jian/BigLots/hist_daily_data_itemlevel_d...</td>\n",
       "      <td>2019-02-02</td>\n",
       "    </tr>\n",
       "    <tr>\n",
       "      <th>25</th>\n",
       "      <td>/home/jian/BigLots/hist_daily_data_itemlevel_d...</td>\n",
       "      <td>2019-02-09</td>\n",
       "    </tr>\n",
       "  </tbody>\n",
       "</table>\n",
       "</div>"
      ],
      "text/plain": [
       "                                            file_path week_end_dt\n",
       "23  /home/jian/BigLots/hist_daily_data_itemlevel_d...  2019-01-26\n",
       "24  /home/jian/BigLots/hist_daily_data_itemlevel_d...  2019-02-02\n",
       "25  /home/jian/BigLots/hist_daily_data_itemlevel_d...  2019-02-09"
      ]
     },
     "execution_count": 7,
     "metadata": {},
     "output_type": "execute_result"
    }
   ],
   "source": [
    "# Before the end of 2019Q1           \n",
    "historical_daily_data_folder=\"/home/jian/BigLots/hist_daily_data_itemlevel_decompressed/\"\n",
    "historical_daily_data_list=list(recursive_file_gen(historical_daily_data_folder))\n",
    "historical_daily_data_list=[x for x in historical_daily_data_list if (\".txt\" in x) & (\"DailySales\" in x)]\n",
    "historical_daily_df=pd.DataFrame({\"file_path\":historical_daily_data_list})\n",
    "historical_daily_df['week_end_dt']=historical_daily_df['file_path'].apply(lambda x: x.split(\".\")[0].split(\"MediaStormDailySalesHistory\")[1])\n",
    "historical_daily_df['week_end_dt']=historical_daily_df['week_end_dt'].apply(lambda x: datetime.datetime.strptime(x,\"%Y%m%d\").date())\n",
    "historical_daily_df=historical_daily_df[historical_daily_df['week_end_dt']<=datetime.date(2019,5,4)] # hard-code due to the 1st week of daily in item available\n",
    "historical_daily_df=historical_daily_df[historical_daily_df['week_end_dt']>datetime.date(2018,9,22)] # hard-code\n",
    "historical_daily_df=historical_daily_df.sort_values(\"week_end_dt\")\n",
    "print(historical_daily_df.shape)\n",
    "historical_daily_df.tail(3)"
   ]
  },
  {
   "cell_type": "code",
   "execution_count": 8,
   "metadata": {},
   "outputs": [
    {
     "data": {
      "text/plain": [
       "datetime.date(2019, 5, 4)"
      ]
     },
     "execution_count": 8,
     "metadata": {},
     "output_type": "execute_result"
    }
   ],
   "source": [
    "prior_quarter_End"
   ]
  },
  {
   "cell_type": "code",
   "execution_count": 9,
   "metadata": {},
   "outputs": [
    {
     "data": {
      "text/plain": [
       "datetime.date(2019, 8, 3)"
      ]
     },
     "execution_count": 9,
     "metadata": {},
     "output_type": "execute_result"
    }
   ],
   "source": [
    "recent_complete_quarter_End"
   ]
  },
  {
   "cell_type": "code",
   "execution_count": 10,
   "metadata": {},
   "outputs": [
    {
     "name": "stdout",
     "output_type": "stream",
     "text": [
      "(20, 2)\n",
      "(0, 2)\n"
     ]
    }
   ],
   "source": [
    "df_historical_daily_20180929_to_before_Q=historical_daily_df[historical_daily_df['week_end_dt']<=prior_quarter_End]\n",
    "df_historical_daily_in_recent_Q=historical_daily_df[(historical_daily_df['week_end_dt']>prior_quarter_End) & (historical_daily_df['week_end_dt']<=recent_complete_quarter_End)]\n",
    "print(df_historical_daily_20180929_to_before_Q.shape)\n",
    "print(df_historical_daily_in_recent_Q.shape)\n"
   ]
  },
  {
   "cell_type": "code",
   "execution_count": 11,
   "metadata": {},
   "outputs": [
    {
     "name": "stdout",
     "output_type": "stream",
     "text": [
      "(37, 2)\n",
      "(13, 2)\n",
      "(12, 2)\n"
     ]
    }
   ],
   "source": [
    "weekly_2019_daily_df=list(recursive_file_gen(\"/home/jian/BigLots/\"))\n",
    "\n",
    "weekly_2019_daily_df=[x for x in weekly_2019_daily_df if \"2018\" not in x]\n",
    "weekly_2019_daily_df=[x for x in weekly_2019_daily_df if \"2017\" not in x]\n",
    "weekly_2019_daily_df=[x for x in weekly_2019_daily_df if \"2016\" not in x]\n",
    "weekly_2019_daily_df=[x for x in weekly_2019_daily_df if \"2016\" not in x]\n",
    "weekly_2019_daily_df=[x for x in weekly_2019_daily_df if \"Historical\" not in x]\n",
    "weekly_2019_daily_df=[x for x in weekly_2019_daily_df if \"hist_daily_data_itemlevel_decompressed\" not in x]\n",
    "weekly_2019_daily_df=[x for x in weekly_2019_daily_df if \".txt\" in x]\n",
    "weekly_2019_daily_df=[x for x in weekly_2019_daily_df if \"aily\" in x]\n",
    "weekly_2019_daily_df=pd.DataFrame({\"file_path\":weekly_2019_daily_df})\n",
    "weekly_2019_daily_df['week_end_dt']=weekly_2019_daily_df['file_path'].apply(lambda x: x.split(\"/MediaStorm_\")[1][:10])\n",
    "\n",
    "weekly_2019_daily_df['week_end_dt']=weekly_2019_daily_df['week_end_dt'].apply(lambda x: datetime.datetime.strptime(x,\"%Y-%m-%d\").date())\n",
    "print(weekly_2019_daily_df.shape)\n",
    "weekly_2019_daily_df.head(2)\n",
    "\n",
    "weekly_2019_daily_df_in_recent_Q=weekly_2019_daily_df[(weekly_2019_daily_df['week_end_dt']>prior_quarter_End) & (weekly_2019_daily_df['week_end_dt']<=recent_complete_quarter_End)]\n",
    "# Change to > prior_quarter_End for the next quarter\n",
    "print(weekly_2019_daily_df_in_recent_Q.shape)\n",
    "\n",
    "\n",
    "weekly_2019_daily_df_before_Q=weekly_2019_daily_df[weekly_2019_daily_df['week_end_dt']<=prior_quarter_End]\n",
    "weekly_2019_daily_df_before_Q=weekly_2019_daily_df_before_Q[weekly_2019_daily_df_before_Q['week_end_dt']>df_historical_daily_20180929_to_before_Q['week_end_dt'].max()]\n",
    "print(weekly_2019_daily_df_before_Q.shape) # Q1 should be 0, and Q2&after not\n"
   ]
  },
  {
   "cell_type": "code",
   "execution_count": 12,
   "metadata": {},
   "outputs": [
    {
     "data": {
      "text/plain": [
       "(13, 2)"
      ]
     },
     "execution_count": 12,
     "metadata": {},
     "output_type": "execute_result"
    }
   ],
   "source": [
    "weekly_2019_daily_df_in_recent_Q.shape"
   ]
  },
  {
   "cell_type": "code",
   "execution_count": 13,
   "metadata": {},
   "outputs": [
    {
     "data": {
      "text/plain": [
       "(12, 2)"
      ]
     },
     "execution_count": 13,
     "metadata": {},
     "output_type": "execute_result"
    }
   ],
   "source": [
    "weekly_2019_daily_df_before_Q.shape"
   ]
  },
  {
   "cell_type": "code",
   "execution_count": 14,
   "metadata": {
    "collapsed": true
   },
   "outputs": [],
   "source": [
    "df_all_daily_files_20190922_before_quarter=df_historical_daily_20180929_to_before_Q.append(weekly_2019_daily_df_before_Q)\n",
    "\n",
    "df_all_daily_files_in_recent_quarter=df_historical_daily_in_recent_Q.append(weekly_2019_daily_df_in_recent_Q)\n"
   ]
  },
  {
   "cell_type": "code",
   "execution_count": 15,
   "metadata": {},
   "outputs": [
    {
     "name": "stdout",
     "output_type": "stream",
     "text": [
      "(32, 2)\n"
     ]
    },
    {
     "data": {
      "text/html": [
       "<div>\n",
       "<style>\n",
       "    .dataframe thead tr:only-child th {\n",
       "        text-align: right;\n",
       "    }\n",
       "\n",
       "    .dataframe thead th {\n",
       "        text-align: left;\n",
       "    }\n",
       "\n",
       "    .dataframe tbody tr th {\n",
       "        vertical-align: top;\n",
       "    }\n",
       "</style>\n",
       "<table border=\"1\" class=\"dataframe\">\n",
       "  <thead>\n",
       "    <tr style=\"text-align: right;\">\n",
       "      <th></th>\n",
       "      <th>file_path</th>\n",
       "      <th>week_end_dt</th>\n",
       "    </tr>\n",
       "  </thead>\n",
       "  <tbody>\n",
       "    <tr>\n",
       "      <th>7</th>\n",
       "      <td>/home/jian/BigLots/hist_daily_data_itemlevel_d...</td>\n",
       "      <td>2018-09-29</td>\n",
       "    </tr>\n",
       "    <tr>\n",
       "      <th>8</th>\n",
       "      <td>/home/jian/BigLots/hist_daily_data_itemlevel_d...</td>\n",
       "      <td>2018-10-06</td>\n",
       "    </tr>\n",
       "    <tr>\n",
       "      <th>9</th>\n",
       "      <td>/home/jian/BigLots/hist_daily_data_itemlevel_d...</td>\n",
       "      <td>2018-10-13</td>\n",
       "    </tr>\n",
       "    <tr>\n",
       "      <th>10</th>\n",
       "      <td>/home/jian/BigLots/hist_daily_data_itemlevel_d...</td>\n",
       "      <td>2018-10-20</td>\n",
       "    </tr>\n",
       "    <tr>\n",
       "      <th>11</th>\n",
       "      <td>/home/jian/BigLots/hist_daily_data_itemlevel_d...</td>\n",
       "      <td>2018-10-27</td>\n",
       "    </tr>\n",
       "    <tr>\n",
       "      <th>12</th>\n",
       "      <td>/home/jian/BigLots/hist_daily_data_itemlevel_d...</td>\n",
       "      <td>2018-11-03</td>\n",
       "    </tr>\n",
       "    <tr>\n",
       "      <th>13</th>\n",
       "      <td>/home/jian/BigLots/hist_daily_data_itemlevel_d...</td>\n",
       "      <td>2018-11-10</td>\n",
       "    </tr>\n",
       "    <tr>\n",
       "      <th>14</th>\n",
       "      <td>/home/jian/BigLots/hist_daily_data_itemlevel_d...</td>\n",
       "      <td>2018-11-17</td>\n",
       "    </tr>\n",
       "    <tr>\n",
       "      <th>15</th>\n",
       "      <td>/home/jian/BigLots/hist_daily_data_itemlevel_d...</td>\n",
       "      <td>2018-11-24</td>\n",
       "    </tr>\n",
       "    <tr>\n",
       "      <th>26</th>\n",
       "      <td>/home/jian/BigLots/hist_daily_data_itemlevel_d...</td>\n",
       "      <td>2018-12-01</td>\n",
       "    </tr>\n",
       "    <tr>\n",
       "      <th>16</th>\n",
       "      <td>/home/jian/BigLots/hist_daily_data_itemlevel_d...</td>\n",
       "      <td>2018-12-08</td>\n",
       "    </tr>\n",
       "    <tr>\n",
       "      <th>17</th>\n",
       "      <td>/home/jian/BigLots/hist_daily_data_itemlevel_d...</td>\n",
       "      <td>2018-12-15</td>\n",
       "    </tr>\n",
       "    <tr>\n",
       "      <th>18</th>\n",
       "      <td>/home/jian/BigLots/hist_daily_data_itemlevel_d...</td>\n",
       "      <td>2018-12-22</td>\n",
       "    </tr>\n",
       "    <tr>\n",
       "      <th>19</th>\n",
       "      <td>/home/jian/BigLots/hist_daily_data_itemlevel_d...</td>\n",
       "      <td>2018-12-29</td>\n",
       "    </tr>\n",
       "    <tr>\n",
       "      <th>20</th>\n",
       "      <td>/home/jian/BigLots/hist_daily_data_itemlevel_d...</td>\n",
       "      <td>2019-01-05</td>\n",
       "    </tr>\n",
       "    <tr>\n",
       "      <th>21</th>\n",
       "      <td>/home/jian/BigLots/hist_daily_data_itemlevel_d...</td>\n",
       "      <td>2019-01-12</td>\n",
       "    </tr>\n",
       "    <tr>\n",
       "      <th>22</th>\n",
       "      <td>/home/jian/BigLots/hist_daily_data_itemlevel_d...</td>\n",
       "      <td>2019-01-19</td>\n",
       "    </tr>\n",
       "    <tr>\n",
       "      <th>23</th>\n",
       "      <td>/home/jian/BigLots/hist_daily_data_itemlevel_d...</td>\n",
       "      <td>2019-01-26</td>\n",
       "    </tr>\n",
       "    <tr>\n",
       "      <th>24</th>\n",
       "      <td>/home/jian/BigLots/hist_daily_data_itemlevel_d...</td>\n",
       "      <td>2019-02-02</td>\n",
       "    </tr>\n",
       "    <tr>\n",
       "      <th>25</th>\n",
       "      <td>/home/jian/BigLots/hist_daily_data_itemlevel_d...</td>\n",
       "      <td>2019-02-09</td>\n",
       "    </tr>\n",
       "    <tr>\n",
       "      <th>6</th>\n",
       "      <td>/home/jian/BigLots/2019_by_weeks/MediaStorm_20...</td>\n",
       "      <td>2019-02-16</td>\n",
       "    </tr>\n",
       "    <tr>\n",
       "      <th>7</th>\n",
       "      <td>/home/jian/BigLots/2019_by_weeks/MediaStorm_20...</td>\n",
       "      <td>2019-02-23</td>\n",
       "    </tr>\n",
       "    <tr>\n",
       "      <th>8</th>\n",
       "      <td>/home/jian/BigLots/2019_by_weeks/MediaStorm_20...</td>\n",
       "      <td>2019-03-02</td>\n",
       "    </tr>\n",
       "    <tr>\n",
       "      <th>9</th>\n",
       "      <td>/home/jian/BigLots/2019_by_weeks/MediaStorm_20...</td>\n",
       "      <td>2019-03-09</td>\n",
       "    </tr>\n",
       "    <tr>\n",
       "      <th>10</th>\n",
       "      <td>/home/jian/BigLots/2019_by_weeks/MediaStorm_20...</td>\n",
       "      <td>2019-03-16</td>\n",
       "    </tr>\n",
       "    <tr>\n",
       "      <th>11</th>\n",
       "      <td>/home/jian/BigLots/2019_by_weeks/MediaStorm_20...</td>\n",
       "      <td>2019-03-23</td>\n",
       "    </tr>\n",
       "    <tr>\n",
       "      <th>12</th>\n",
       "      <td>/home/jian/BigLots/2019_by_weeks/MediaStorm_20...</td>\n",
       "      <td>2019-03-30</td>\n",
       "    </tr>\n",
       "    <tr>\n",
       "      <th>13</th>\n",
       "      <td>/home/jian/BigLots/2019_by_weeks/MediaStorm_20...</td>\n",
       "      <td>2019-04-06</td>\n",
       "    </tr>\n",
       "    <tr>\n",
       "      <th>14</th>\n",
       "      <td>/home/jian/BigLots/2019_by_weeks/MediaStorm_20...</td>\n",
       "      <td>2019-04-13</td>\n",
       "    </tr>\n",
       "    <tr>\n",
       "      <th>15</th>\n",
       "      <td>/home/jian/BigLots/2019_by_weeks/MediaStorm_20...</td>\n",
       "      <td>2019-04-20</td>\n",
       "    </tr>\n",
       "    <tr>\n",
       "      <th>16</th>\n",
       "      <td>/home/jian/BigLots/2019_by_weeks/MediaStorm_20...</td>\n",
       "      <td>2019-04-27</td>\n",
       "    </tr>\n",
       "    <tr>\n",
       "      <th>17</th>\n",
       "      <td>/home/jian/BigLots/2019_by_weeks/MediaStorm_20...</td>\n",
       "      <td>2019-05-04</td>\n",
       "    </tr>\n",
       "  </tbody>\n",
       "</table>\n",
       "</div>"
      ],
      "text/plain": [
       "                                            file_path week_end_dt\n",
       "7   /home/jian/BigLots/hist_daily_data_itemlevel_d...  2018-09-29\n",
       "8   /home/jian/BigLots/hist_daily_data_itemlevel_d...  2018-10-06\n",
       "9   /home/jian/BigLots/hist_daily_data_itemlevel_d...  2018-10-13\n",
       "10  /home/jian/BigLots/hist_daily_data_itemlevel_d...  2018-10-20\n",
       "11  /home/jian/BigLots/hist_daily_data_itemlevel_d...  2018-10-27\n",
       "12  /home/jian/BigLots/hist_daily_data_itemlevel_d...  2018-11-03\n",
       "13  /home/jian/BigLots/hist_daily_data_itemlevel_d...  2018-11-10\n",
       "14  /home/jian/BigLots/hist_daily_data_itemlevel_d...  2018-11-17\n",
       "15  /home/jian/BigLots/hist_daily_data_itemlevel_d...  2018-11-24\n",
       "26  /home/jian/BigLots/hist_daily_data_itemlevel_d...  2018-12-01\n",
       "16  /home/jian/BigLots/hist_daily_data_itemlevel_d...  2018-12-08\n",
       "17  /home/jian/BigLots/hist_daily_data_itemlevel_d...  2018-12-15\n",
       "18  /home/jian/BigLots/hist_daily_data_itemlevel_d...  2018-12-22\n",
       "19  /home/jian/BigLots/hist_daily_data_itemlevel_d...  2018-12-29\n",
       "20  /home/jian/BigLots/hist_daily_data_itemlevel_d...  2019-01-05\n",
       "21  /home/jian/BigLots/hist_daily_data_itemlevel_d...  2019-01-12\n",
       "22  /home/jian/BigLots/hist_daily_data_itemlevel_d...  2019-01-19\n",
       "23  /home/jian/BigLots/hist_daily_data_itemlevel_d...  2019-01-26\n",
       "24  /home/jian/BigLots/hist_daily_data_itemlevel_d...  2019-02-02\n",
       "25  /home/jian/BigLots/hist_daily_data_itemlevel_d...  2019-02-09\n",
       "6   /home/jian/BigLots/2019_by_weeks/MediaStorm_20...  2019-02-16\n",
       "7   /home/jian/BigLots/2019_by_weeks/MediaStorm_20...  2019-02-23\n",
       "8   /home/jian/BigLots/2019_by_weeks/MediaStorm_20...  2019-03-02\n",
       "9   /home/jian/BigLots/2019_by_weeks/MediaStorm_20...  2019-03-09\n",
       "10  /home/jian/BigLots/2019_by_weeks/MediaStorm_20...  2019-03-16\n",
       "11  /home/jian/BigLots/2019_by_weeks/MediaStorm_20...  2019-03-23\n",
       "12  /home/jian/BigLots/2019_by_weeks/MediaStorm_20...  2019-03-30\n",
       "13  /home/jian/BigLots/2019_by_weeks/MediaStorm_20...  2019-04-06\n",
       "14  /home/jian/BigLots/2019_by_weeks/MediaStorm_20...  2019-04-13\n",
       "15  /home/jian/BigLots/2019_by_weeks/MediaStorm_20...  2019-04-20\n",
       "16  /home/jian/BigLots/2019_by_weeks/MediaStorm_20...  2019-04-27\n",
       "17  /home/jian/BigLots/2019_by_weeks/MediaStorm_20...  2019-05-04"
      ]
     },
     "execution_count": 15,
     "metadata": {},
     "output_type": "execute_result"
    }
   ],
   "source": [
    "print(df_all_daily_files_20190922_before_quarter.shape)\n",
    "df_all_daily_files_20190922_before_quarter.sort_values(\"week_end_dt\")"
   ]
  },
  {
   "cell_type": "code",
   "execution_count": 16,
   "metadata": {},
   "outputs": [
    {
     "name": "stdout",
     "output_type": "stream",
     "text": [
      "(13, 2)\n"
     ]
    },
    {
     "data": {
      "text/html": [
       "<div>\n",
       "<style>\n",
       "    .dataframe thead tr:only-child th {\n",
       "        text-align: right;\n",
       "    }\n",
       "\n",
       "    .dataframe thead th {\n",
       "        text-align: left;\n",
       "    }\n",
       "\n",
       "    .dataframe tbody tr th {\n",
       "        vertical-align: top;\n",
       "    }\n",
       "</style>\n",
       "<table border=\"1\" class=\"dataframe\">\n",
       "  <thead>\n",
       "    <tr style=\"text-align: right;\">\n",
       "      <th></th>\n",
       "      <th>file_path</th>\n",
       "      <th>week_end_dt</th>\n",
       "    </tr>\n",
       "  </thead>\n",
       "  <tbody>\n",
       "    <tr>\n",
       "      <th>18</th>\n",
       "      <td>/home/jian/BigLots/2019_by_weeks/MediaStorm_20...</td>\n",
       "      <td>2019-05-11</td>\n",
       "    </tr>\n",
       "    <tr>\n",
       "      <th>19</th>\n",
       "      <td>/home/jian/BigLots/2019_by_weeks/MediaStorm_20...</td>\n",
       "      <td>2019-05-18</td>\n",
       "    </tr>\n",
       "    <tr>\n",
       "      <th>20</th>\n",
       "      <td>/home/jian/BigLots/2019_by_weeks/MediaStorm_20...</td>\n",
       "      <td>2019-05-25</td>\n",
       "    </tr>\n",
       "    <tr>\n",
       "      <th>21</th>\n",
       "      <td>/home/jian/BigLots/2019_by_weeks/MediaStorm_20...</td>\n",
       "      <td>2019-06-01</td>\n",
       "    </tr>\n",
       "    <tr>\n",
       "      <th>22</th>\n",
       "      <td>/home/jian/BigLots/2019_by_weeks/MediaStorm_20...</td>\n",
       "      <td>2019-06-08</td>\n",
       "    </tr>\n",
       "    <tr>\n",
       "      <th>23</th>\n",
       "      <td>/home/jian/BigLots/2019_by_weeks/MediaStorm_20...</td>\n",
       "      <td>2019-06-15</td>\n",
       "    </tr>\n",
       "    <tr>\n",
       "      <th>24</th>\n",
       "      <td>/home/jian/BigLots/2019_by_weeks/MediaStorm_20...</td>\n",
       "      <td>2019-06-22</td>\n",
       "    </tr>\n",
       "    <tr>\n",
       "      <th>25</th>\n",
       "      <td>/home/jian/BigLots/2019_by_weeks/MediaStorm_20...</td>\n",
       "      <td>2019-06-29</td>\n",
       "    </tr>\n",
       "    <tr>\n",
       "      <th>26</th>\n",
       "      <td>/home/jian/BigLots/2019_by_weeks/MediaStorm_20...</td>\n",
       "      <td>2019-07-06</td>\n",
       "    </tr>\n",
       "    <tr>\n",
       "      <th>27</th>\n",
       "      <td>/home/jian/BigLots/2019_by_weeks/MediaStorm_20...</td>\n",
       "      <td>2019-07-13</td>\n",
       "    </tr>\n",
       "    <tr>\n",
       "      <th>28</th>\n",
       "      <td>/home/jian/BigLots/2019_by_weeks/MediaStorm_20...</td>\n",
       "      <td>2019-07-20</td>\n",
       "    </tr>\n",
       "    <tr>\n",
       "      <th>29</th>\n",
       "      <td>/home/jian/BigLots/2019_by_weeks/MediaStorm_20...</td>\n",
       "      <td>2019-07-27</td>\n",
       "    </tr>\n",
       "    <tr>\n",
       "      <th>30</th>\n",
       "      <td>/home/jian/BigLots/2019_by_weeks/MediaStorm_20...</td>\n",
       "      <td>2019-08-03</td>\n",
       "    </tr>\n",
       "  </tbody>\n",
       "</table>\n",
       "</div>"
      ],
      "text/plain": [
       "                                            file_path week_end_dt\n",
       "18  /home/jian/BigLots/2019_by_weeks/MediaStorm_20...  2019-05-11\n",
       "19  /home/jian/BigLots/2019_by_weeks/MediaStorm_20...  2019-05-18\n",
       "20  /home/jian/BigLots/2019_by_weeks/MediaStorm_20...  2019-05-25\n",
       "21  /home/jian/BigLots/2019_by_weeks/MediaStorm_20...  2019-06-01\n",
       "22  /home/jian/BigLots/2019_by_weeks/MediaStorm_20...  2019-06-08\n",
       "23  /home/jian/BigLots/2019_by_weeks/MediaStorm_20...  2019-06-15\n",
       "24  /home/jian/BigLots/2019_by_weeks/MediaStorm_20...  2019-06-22\n",
       "25  /home/jian/BigLots/2019_by_weeks/MediaStorm_20...  2019-06-29\n",
       "26  /home/jian/BigLots/2019_by_weeks/MediaStorm_20...  2019-07-06\n",
       "27  /home/jian/BigLots/2019_by_weeks/MediaStorm_20...  2019-07-13\n",
       "28  /home/jian/BigLots/2019_by_weeks/MediaStorm_20...  2019-07-20\n",
       "29  /home/jian/BigLots/2019_by_weeks/MediaStorm_20...  2019-07-27\n",
       "30  /home/jian/BigLots/2019_by_weeks/MediaStorm_20...  2019-08-03"
      ]
     },
     "execution_count": 16,
     "metadata": {},
     "output_type": "execute_result"
    }
   ],
   "source": [
    "print(df_all_daily_files_in_recent_quarter.shape)\n",
    "df_all_daily_files_in_recent_quarter.sort_values(\"week_end_dt\")"
   ]
  },
  {
   "cell_type": "code",
   "execution_count": 17,
   "metadata": {},
   "outputs": [
    {
     "name": "stdout",
     "output_type": "stream",
     "text": [
      "/home/jian/BigLots/hist_daily_data_itemlevel_decompressed/MediaStormDailySalesHistory20180929.txt 2019-09-19 19:19:55.041327\n",
      "/home/jian/BigLots/hist_daily_data_itemlevel_decompressed/MediaStormDailySalesHistory20181006.txt 2019-09-19 19:20:23.819438\n",
      "/home/jian/BigLots/hist_daily_data_itemlevel_decompressed/MediaStormDailySalesHistory20181013.txt 2019-09-19 19:20:44.940734\n",
      "/home/jian/BigLots/hist_daily_data_itemlevel_decompressed/MediaStormDailySalesHistory20181020.txt 2019-09-19 19:21:07.423439\n",
      "/home/jian/BigLots/hist_daily_data_itemlevel_decompressed/MediaStormDailySalesHistory20181027.txt 2019-09-19 19:21:31.074026\n",
      "/home/jian/BigLots/hist_daily_data_itemlevel_decompressed/MediaStormDailySalesHistory20181103.txt 2019-09-19 19:21:55.446960\n",
      "/home/jian/BigLots/hist_daily_data_itemlevel_decompressed/MediaStormDailySalesHistory20181110.txt 2019-09-19 19:22:21.620182\n",
      "/home/jian/BigLots/hist_daily_data_itemlevel_decompressed/MediaStormDailySalesHistory20181117.txt 2019-09-19 19:22:52.347074\n",
      "/home/jian/BigLots/hist_daily_data_itemlevel_decompressed/MediaStormDailySalesHistory20181124.txt 2019-09-19 19:23:34.226339\n",
      "/home/jian/BigLots/hist_daily_data_itemlevel_decompressed/MediaStormDailySalesHistory20181201.txt 2019-09-19 19:24:16.516932\n",
      "/home/jian/BigLots/hist_daily_data_itemlevel_decompressed/MediaStormDailySalesHistory20181208.txt 2019-09-19 19:25:45.266846\n",
      "/home/jian/BigLots/hist_daily_data_itemlevel_decompressed/MediaStormDailySalesHistory20181215.txt 2019-09-19 19:27:39.182725\n",
      "/home/jian/BigLots/hist_daily_data_itemlevel_decompressed/MediaStormDailySalesHistory20181222.txt 2019-09-19 19:29:31.157134\n",
      "/home/jian/BigLots/hist_daily_data_itemlevel_decompressed/MediaStormDailySalesHistory20181229.txt 2019-09-19 19:30:20.122156\n",
      "/home/jian/BigLots/hist_daily_data_itemlevel_decompressed/MediaStormDailySalesHistory20190105.txt 2019-09-19 19:30:56.167379\n",
      "/home/jian/BigLots/hist_daily_data_itemlevel_decompressed/MediaStormDailySalesHistory20190112.txt 2019-09-19 19:31:39.047014\n",
      "/home/jian/BigLots/hist_daily_data_itemlevel_decompressed/MediaStormDailySalesHistory20190119.txt 2019-09-19 19:32:37.047929\n",
      "/home/jian/BigLots/hist_daily_data_itemlevel_decompressed/MediaStormDailySalesHistory20190126.txt 2019-09-19 19:33:50.618991\n",
      "/home/jian/BigLots/hist_daily_data_itemlevel_decompressed/MediaStormDailySalesHistory20190202.txt 2019-09-19 19:34:14.992312\n",
      "/home/jian/BigLots/hist_daily_data_itemlevel_decompressed/MediaStormDailySalesHistory20190209.txt 2019-09-19 19:34:39.673371\n",
      "/home/jian/BigLots/2019_by_weeks/MediaStorm_2019-02-16/MediaStormDailySales20190219-113605-481.txt 2019-09-19 19:35:04.920967\n",
      "/home/jian/BigLots/2019_by_weeks/MediaStorm_2019-02-23/MediaStormDailySales20190226-112611-940.txt 2019-09-19 19:35:31.597522\n",
      "/home/jian/BigLots/2019_by_weeks/MediaStorm_2019-03-02/MediaStormDailySales20190305-112738-899.txt 2019-09-19 19:36:00.825404\n",
      "/home/jian/BigLots/2019_by_weeks/MediaStorm_2019-03-09/MediaStormDailySales20190312-121205-996.txt 2019-09-19 19:36:29.309707\n",
      "/home/jian/BigLots/2019_by_weeks/MediaStorm_2019-03-16/MediaStormDailySales20190319-112334-057.txt 2019-09-19 19:36:56.706891\n",
      "/home/jian/BigLots/2019_by_weeks/MediaStorm_2019-03-23/MediaStormDailySales20190326-112740-903.txt 2019-09-19 19:37:25.533785\n",
      "/home/jian/BigLots/2019_by_weeks/MediaStorm_2019-03-30/MediaStormDailySales20190402-112556-551.txt 2019-09-19 19:37:56.974847\n",
      "/home/jian/BigLots/2019_by_weeks/MediaStorm_2019-04-06/MediaStormDailySales20190409-122759-093.txt 2019-09-19 19:38:38.856728\n",
      "/home/jian/BigLots/2019_by_weeks/MediaStorm_2019-04-13/MediaStormDailySales20190416-112824-908.txt 2019-09-19 19:39:16.837741\n",
      "/home/jian/BigLots/2019_by_weeks/MediaStorm_2019-04-20/MediaStormDailySales20190423-112124-771.txt 2019-09-19 19:39:49.275624\n",
      "/home/jian/BigLots/2019_by_weeks/MediaStorm_2019-04-27/MediaStormDailySales20190430-112453-448.txt 2019-09-19 19:40:16.733501\n",
      "/home/jian/BigLots/2019_by_weeks/MediaStorm_2019-05-04/MediaStormDailySales20190507-113110-141.txt 2019-09-19 19:40:45.902285\n",
      "/home/jian/BigLots/2019_by_weeks/MediaStorm_2019-05-11/MediaStormDailySales20190514-121223-405.txt 2019-09-19 19:41:08.122218\n",
      "/home/jian/BigLots/2019_by_weeks/MediaStorm_2019-05-18/MediaStormDailySales20190521-111232-391.txt 2019-09-19 19:41:29.161333\n",
      "/home/jian/BigLots/2019_by_weeks/MediaStorm_2019-05-25/MediaStormDailySales20190528-111211-863.txt 2019-09-19 19:41:53.278750\n",
      "/home/jian/BigLots/2019_by_weeks/MediaStorm_2019-06-01/MediaStormDailySales20190604-111936-950.txt 2019-09-19 19:42:17.849429\n",
      "/home/jian/BigLots/2019_by_weeks/MediaStorm_2019-06-08/MediaStormDailySales20190611-122013-442.txt 2019-09-19 19:42:41.379975\n",
      "/home/jian/BigLots/2019_by_weeks/MediaStorm_2019-06-15/MediaStormDailySales20190618-112500-846.txt 2019-09-19 19:43:05.201443\n",
      "/home/jian/BigLots/2019_by_weeks/MediaStorm_2019-06-22/MediaStormDailySales20190625-111927-257.txt 2019-09-19 19:43:27.129093\n",
      "/home/jian/BigLots/2019_by_weeks/MediaStorm_2019-06-29/MediaStormDailySales20190702-113523-928.txt 2019-09-19 19:43:50.853967\n",
      "/home/jian/BigLots/2019_by_weeks/MediaStorm_2019-07-06/MediaStormDailySales20190709-115715-409.txt 2019-09-19 19:44:17.218766\n",
      "/home/jian/BigLots/2019_by_weeks/MediaStorm_2019-07-13/MediaStormDailySales20190716-122903-926.txt 2019-09-19 19:44:48.196810\n",
      "/home/jian/BigLots/2019_by_weeks/MediaStorm_2019-07-20/MediaStormDailySales20190723-112837-593.txt 2019-09-19 19:45:20.132730\n",
      "/home/jian/BigLots/2019_by_weeks/MediaStorm_2019-07-27/MediaStormDailySales20190730-113653-224.txt 2019-09-19 19:45:44.877645\n",
      "/home/jian/BigLots/2019_by_weeks/MediaStorm_2019-08-03/MediaStormDailySales20190806-113917-862.txt 2019-09-19 19:46:10.726188\n"
     ]
    }
   ],
   "source": [
    "rew_df_after_20180929_before_quarter=pd.DataFrame()\n",
    "rew_df_after_recent_quarter_only=pd.DataFrame()\n",
    "\n",
    "\n",
    "for file in df_all_daily_files_20190922_before_quarter['file_path'].tolist():\n",
    "    df=pd.read_table(file,sep=\"|\",dtype=str,usecols=[\"customer_id_hashed\",\"transaction_dt\"]).drop_duplicates().rename(columns={\"transaction_dt\":\"transaction_date\"})\n",
    "    df=df[~pd.isnull(df['customer_id_hashed'])]\n",
    "    rew_df_after_20180929_before_quarter=rew_df_after_20180929_before_quarter.append(df)\n",
    "    print(file,datetime.datetime.now())\n",
    "\n",
    "for file in df_all_daily_files_in_recent_quarter['file_path'].tolist():\n",
    "    df=pd.read_table(file,sep=\"|\",dtype=str,usecols=[\"customer_id_hashed\",\"transaction_dt\"]).drop_duplicates().rename(columns={\"transaction_dt\":\"transaction_date\"})\n",
    "    df=df[~pd.isnull(df['customer_id_hashed'])]\n",
    "    rew_df_after_recent_quarter_only=rew_df_after_recent_quarter_only.append(df)\n",
    "    print(file,datetime.datetime.now())\n"
   ]
  },
  {
   "cell_type": "code",
   "execution_count": 18,
   "metadata": {},
   "outputs": [
    {
     "data": {
      "text/plain": [
       "79"
      ]
     },
     "execution_count": 18,
     "metadata": {},
     "output_type": "execute_result"
    }
   ],
   "source": [
    "all_rewards_most_recent=all_rewards_most_recent.append(rew_df_after_20180929_before_quarter)\n",
    "all_rewards_most_recent=all_rewards_most_recent.sort_values([\"customer_id_hashed\",\"transaction_date\"],ascending=[True,False])\n",
    "all_rewards_most_recent=all_rewards_most_recent.drop_duplicates(['customer_id_hashed'])\n",
    "all_rewards_most_recent['transaction_date_before_the_Quarter']=all_rewards_most_recent['transaction_date']\n",
    "\n",
    "all_rewards_most_recent_After=all_rewards_most_recent[['customer_id_hashed','transaction_date']].append(rew_df_after_recent_quarter_only)\n",
    "all_rewards_most_recent_After=all_rewards_most_recent_After.sort_values([\"customer_id_hashed\",\"transaction_date\"],ascending=[True,False])\n",
    "all_rewards_most_recent_After=all_rewards_most_recent_After.drop_duplicates(['customer_id_hashed']).rename(columns={\"transaction_date\":\"transaction_date_after_the_Quarter\"})\n",
    "\n",
    "all_rewards_most_recent=pd.merge(all_rewards_most_recent,all_rewards_most_recent_After,on=\"customer_id_hashed\",how=\"outer\")\n",
    "del all_rewards_most_recent_After\n",
    "\n",
    "gc.collect()"
   ]
  },
  {
   "cell_type": "code",
   "execution_count": 19,
   "metadata": {},
   "outputs": [
    {
     "name": "stdout",
     "output_type": "stream",
     "text": [
      "2019-09-19 20:10:07.877288\n"
     ]
    }
   ],
   "source": [
    "all_rewards_most_recent['transaction_date_before_the_Quarter']=all_rewards_most_recent['transaction_date_before_the_Quarter'].fillna(\"2099-12-31\")\n",
    "all_rewards_most_recent['transaction_date_before_the_Quarter']=pd.to_datetime(all_rewards_most_recent['transaction_date_before_the_Quarter'],format='%Y-%m-%d')\n",
    "all_rewards_most_recent['Days_to_pre_Quarter_End']=prior_quarter_End-all_rewards_most_recent['transaction_date_before_the_Quarter']\n",
    "# Filled the na before with a later adte 2019-12-31\n",
    "\n",
    "\n",
    "all_rewards_most_recent['transaction_date_after_the_Quarter']=pd.to_datetime(all_rewards_most_recent['transaction_date_after_the_Quarter'],format='%Y-%m-%d')\n",
    "all_rewards_most_recent['Days_to_recentt_Quarter_End']=recent_complete_quarter_End-all_rewards_most_recent['transaction_date_after_the_Quarter']\n",
    "print(datetime.datetime.now())"
   ]
  },
  {
   "cell_type": "code",
   "execution_count": 20,
   "metadata": {},
   "outputs": [
    {
     "name": "stdout",
     "output_type": "stream",
     "text": [
      "2019-09-19 20:20:10.826041\n"
     ]
    }
   ],
   "source": [
    "all_rewards_most_recent['Month_to_pre_Quarter_End']=all_rewards_most_recent['Days_to_pre_Quarter_End'].apply(lambda x: x.days/(365.25/12))\n",
    "all_rewards_most_recent['Month_to_recent_Quarter_End']=all_rewards_most_recent['Days_to_recentt_Quarter_End'].apply(lambda x: x.days/(365.25/12))\n",
    "print(datetime.datetime.now())"
   ]
  },
  {
   "cell_type": "code",
   "execution_count": 21,
   "metadata": {
    "collapsed": true
   },
   "outputs": [],
   "source": [
    "all_rewards_most_recent['Group_before_the_Quarter']=np.where((all_rewards_most_recent['Month_to_pre_Quarter_End']>12) & (all_rewards_most_recent['Month_to_pre_Quarter_End']<=48),\"Lapsed_13_48\",\n",
    "                                                   np.where(all_rewards_most_recent['Month_to_pre_Quarter_End']>48,\"WD_48+\",\n",
    "                                                            np.where((all_rewards_most_recent['Month_to_pre_Quarter_End']>=0) & (all_rewards_most_recent['Month_to_pre_Quarter_End']<=12),\"Active\",\n",
    "                                                                    np.where(all_rewards_most_recent['Month_to_pre_Quarter_End']<0,\"NotAvailable_Before_Quarter\",\"NaN\")\n",
    "                                                                    )\n",
    "                                                           )\n",
    "                                                   )\n",
    "all_rewards_most_recent['Group_after_the_Quarter']=np.where((all_rewards_most_recent['Month_to_recent_Quarter_End']>12) & (all_rewards_most_recent['Month_to_recent_Quarter_End']<=48),\"Lapsed_13_48\",\n",
    "                                                   np.where(all_rewards_most_recent['Month_to_recent_Quarter_End']>48,\"WD_48+\",\n",
    "                                                            np.where((all_rewards_most_recent['Month_to_recent_Quarter_End']>=0) & (all_rewards_most_recent['Month_to_recent_Quarter_End']<=12),\"Active\",\n",
    "                                                                    np.where(all_rewards_most_recent['Month_to_recent_Quarter_End']<0,\"NotAvailable_Before_Q4\",\"NaN\")\n",
    "                                                                    )\n",
    "                                                           )\n",
    "                                                   )"
   ]
  },
  {
   "cell_type": "code",
   "execution_count": 22,
   "metadata": {},
   "outputs": [
    {
     "data": {
      "text/plain": [
       "['Active', 'Lapsed_13_48', 'WD_48+', 'NotAvailable_Before_Quarter']"
      ]
     },
     "execution_count": 22,
     "metadata": {},
     "output_type": "execute_result"
    }
   ],
   "source": [
    "all_rewards_most_recent['Group_before_the_Quarter'].unique().tolist()"
   ]
  },
  {
   "cell_type": "code",
   "execution_count": 23,
   "metadata": {},
   "outputs": [
    {
     "data": {
      "text/plain": [
       "array(['Active', 'Lapsed_13_48', 'WD_48+'], dtype=object)"
      ]
     },
     "execution_count": 23,
     "metadata": {},
     "output_type": "execute_result"
    }
   ],
   "source": [
    "all_rewards_most_recent['Group_after_the_Quarter'].unique()"
   ]
  },
  {
   "cell_type": "code",
   "execution_count": 24,
   "metadata": {},
   "outputs": [
    {
     "name": "stdout",
     "output_type": "stream",
     "text": [
      "/home/jian/BigLots/2019_by_weeks/MediaStorm_2019-05-11/MediaStormDailySales20190514-121223-405.txt 2019-09-19 20:21:39.086187\n",
      "/home/jian/BigLots/2019_by_weeks/MediaStorm_2019-05-18/MediaStormDailySales20190521-111232-391.txt 2019-09-19 20:22:24.501161\n",
      "/home/jian/BigLots/2019_by_weeks/MediaStorm_2019-05-25/MediaStormDailySales20190528-111211-863.txt 2019-09-19 20:23:23.030314\n",
      "/home/jian/BigLots/2019_by_weeks/MediaStorm_2019-06-01/MediaStormDailySales20190604-111936-950.txt 2019-09-19 20:24:14.646822\n",
      "/home/jian/BigLots/2019_by_weeks/MediaStorm_2019-06-08/MediaStormDailySales20190611-122013-442.txt 2019-09-19 20:25:08.316015\n",
      "/home/jian/BigLots/2019_by_weeks/MediaStorm_2019-06-15/MediaStormDailySales20190618-112500-846.txt 2019-09-19 20:26:01.082324\n",
      "/home/jian/BigLots/2019_by_weeks/MediaStorm_2019-06-22/MediaStormDailySales20190625-111927-257.txt 2019-09-19 20:26:52.911777\n",
      "/home/jian/BigLots/2019_by_weeks/MediaStorm_2019-06-29/MediaStormDailySales20190702-113523-928.txt 2019-09-19 20:27:46.273736\n",
      "/home/jian/BigLots/2019_by_weeks/MediaStorm_2019-07-06/MediaStormDailySales20190709-115715-409.txt 2019-09-19 20:28:48.501397\n",
      "/home/jian/BigLots/2019_by_weeks/MediaStorm_2019-07-13/MediaStormDailySales20190716-122903-926.txt 2019-09-19 20:30:00.247392\n",
      "/home/jian/BigLots/2019_by_weeks/MediaStorm_2019-07-20/MediaStormDailySales20190723-112837-593.txt 2019-09-19 20:31:14.195098\n",
      "/home/jian/BigLots/2019_by_weeks/MediaStorm_2019-07-27/MediaStormDailySales20190730-113653-224.txt 2019-09-19 20:32:10.932204\n",
      "/home/jian/BigLots/2019_by_weeks/MediaStorm_2019-08-03/MediaStormDailySales20190806-113917-862.txt 2019-09-19 20:33:11.848064\n"
     ]
    }
   ],
   "source": [
    "RecentQuarter_sales_by_id=pd.DataFrame()\n",
    "\n",
    "for file in df_all_daily_files_in_recent_quarter['file_path'].tolist():\n",
    "    df=pd.read_table(file,sep=\"|\",dtype=str,\n",
    "                     usecols=['location_id','transaction_dt','transaction_id','customer_id_hashed','item_transaction_amt'])\n",
    "    df=df[~pd.isnull(df['customer_id_hashed'])]\n",
    "    df['item_transaction_amt']=df['item_transaction_amt'].astype(float)\n",
    "    df_sales=df.groupby(['customer_id_hashed'])['item_transaction_amt'].sum().to_frame().reset_index().rename(columns={\"item_transaction_amt\":\"sales_recent_Quarter\"})\n",
    "    \n",
    "    df_trans=df[['location_id','transaction_dt','transaction_id','customer_id_hashed']].drop_duplicates()\n",
    "    df_trans=df_trans.groupby([\"customer_id_hashed\"])['transaction_id'].count().to_frame().reset_index().rename(columns={\"transaction_id\":\"trans_recent_Quarter\"})\n",
    "    \n",
    "    df=pd.merge(df_sales,df_trans,on=\"customer_id_hashed\",how=\"outer\")\n",
    "    \n",
    "    RecentQuarter_sales_by_id=RecentQuarter_sales_by_id.append(df)\n",
    "    print(file,datetime.datetime.now())\n",
    "RecentQuarter_sales_by_id=RecentQuarter_sales_by_id.groupby(\"customer_id_hashed\")['sales_recent_Quarter','trans_recent_Quarter'].sum().reset_index()\n",
    "RecentQuarter_sales_by_id['Recent_Quarter_Shopping_Group']=\"Recent_Quarter_Shopped\""
   ]
  },
  {
   "cell_type": "code",
   "execution_count": 25,
   "metadata": {},
   "outputs": [
    {
     "data": {
      "text/plain": [
       "(28427573, 13)"
      ]
     },
     "execution_count": 25,
     "metadata": {},
     "output_type": "execute_result"
    }
   ],
   "source": [
    "all_rewards_most_recent=pd.merge(all_rewards_most_recent,RecentQuarter_sales_by_id,on=\"customer_id_hashed\",how=\"outer\")\n",
    "all_rewards_most_recent.shape"
   ]
  },
  {
   "cell_type": "code",
   "execution_count": 28,
   "metadata": {},
   "outputs": [
    {
     "name": "stdout",
     "output_type": "stream",
     "text": [
      "(13, 2)\n"
     ]
    },
    {
     "data": {
      "text/html": [
       "<div>\n",
       "<style>\n",
       "    .dataframe thead tr:only-child th {\n",
       "        text-align: right;\n",
       "    }\n",
       "\n",
       "    .dataframe thead th {\n",
       "        text-align: left;\n",
       "    }\n",
       "\n",
       "    .dataframe tbody tr th {\n",
       "        vertical-align: top;\n",
       "    }\n",
       "</style>\n",
       "<table border=\"1\" class=\"dataframe\">\n",
       "  <thead>\n",
       "    <tr style=\"text-align: right;\">\n",
       "      <th></th>\n",
       "      <th>file_path</th>\n",
       "      <th>week_end_dt</th>\n",
       "    </tr>\n",
       "  </thead>\n",
       "  <tbody>\n",
       "    <tr>\n",
       "      <th>16</th>\n",
       "      <td>/home/jian/BigLots/2019_by_weeks/MediaStorm_20...</td>\n",
       "      <td>2019-05-11</td>\n",
       "    </tr>\n",
       "    <tr>\n",
       "      <th>17</th>\n",
       "      <td>/home/jian/BigLots/2019_by_weeks/MediaStorm_20...</td>\n",
       "      <td>2019-05-18</td>\n",
       "    </tr>\n",
       "  </tbody>\n",
       "</table>\n",
       "</div>"
      ],
      "text/plain": [
       "                                            file_path week_end_dt\n",
       "16  /home/jian/BigLots/2019_by_weeks/MediaStorm_20...  2019-05-11\n",
       "17  /home/jian/BigLots/2019_by_weeks/MediaStorm_20...  2019-05-18"
      ]
     },
     "execution_count": 28,
     "metadata": {},
     "output_type": "execute_result"
    }
   ],
   "source": [
    "Recent_Quarter_new_sign_ups_files=list(recursive_file_gen(\"/home/jian/BigLots/\"))\n",
    "\n",
    "Recent_Quarter_new_sign_ups_files=[x for x in Recent_Quarter_new_sign_ups_files if \"Master\" in x]\n",
    "Recent_Quarter_new_sign_ups_files=[x for x in Recent_Quarter_new_sign_ups_files if \"2018\" not in x]\n",
    "Recent_Quarter_new_sign_ups_files=[x for x in Recent_Quarter_new_sign_ups_files if \"2017\" not in x]\n",
    "Recent_Quarter_new_sign_ups_files=[x for x in Recent_Quarter_new_sign_ups_files if \"2016\" not in x]\n",
    "Recent_Quarter_new_sign_ups_files=[x for x in Recent_Quarter_new_sign_ups_files if \".txt\" in x]\n",
    "\n",
    "Recent_Quarter_new_sign_ups_files_df=pd.DataFrame({\"file_path\":Recent_Quarter_new_sign_ups_files})\n",
    "Recent_Quarter_new_sign_ups_files_df['week_end_dt']=Recent_Quarter_new_sign_ups_files_df['file_path'].apply(lambda x: x.split(\"/MediaStorm_\")[1][:10])\n",
    "Recent_Quarter_new_sign_ups_files_df=Recent_Quarter_new_sign_ups_files_df[Recent_Quarter_new_sign_ups_files_df['week_end_dt']<=str(recent_complete_quarter_End)]\n",
    "Recent_Quarter_new_sign_ups_files_df=Recent_Quarter_new_sign_ups_files_df[Recent_Quarter_new_sign_ups_files_df['week_end_dt']>str(prior_quarter_End)]\n",
    "print(Recent_Quarter_new_sign_ups_files_df.shape)\n",
    "Recent_Quarter_new_sign_ups_files_df.head(2)"
   ]
  },
  {
   "cell_type": "code",
   "execution_count": 26,
   "metadata": {
    "collapsed": true
   },
   "outputs": [],
   "source": [
    "df_new_sign_the_gap=\"/home/jian/BigLots/New_Sing_Ups_2018_Fiscal_Year/MediaStorm Rewards Master P4 2019 - no transaction info.zip\"\n",
    "df_new_sign_the_gap=pd.read_table(df_new_sign_the_gap,sep=\"|\",usecols=['customer_id_hashed','sign_up_date'])"
   ]
  },
  {
   "cell_type": "code",
   "execution_count": 29,
   "metadata": {},
   "outputs": [
    {
     "name": "stdout",
     "output_type": "stream",
     "text": [
      "(1614908, 2)\n"
     ]
    }
   ],
   "source": [
    "all_new_sign_ups=pd.DataFrame()\n",
    "for file in Recent_Quarter_new_sign_ups_files_df['file_path'].unique().tolist():\n",
    "    df=pd.read_table(file,sep=\"|\",usecols=['customer_id_hashed','sign_up_date'])\n",
    "    all_new_sign_ups=all_new_sign_ups.append(df)\n",
    "all_new_sign_ups=all_new_sign_ups.append(df_new_sign_the_gap)\n",
    "all_new_sign_ups=all_new_sign_ups.sort_values(['customer_id_hashed','sign_up_date'])\n",
    "all_new_sign_ups=all_new_sign_ups.drop_duplicates(\"customer_id_hashed\")\n",
    "print(all_new_sign_ups.shape)\n",
    "\n",
    "all_new_sign_ups['NewRewards']=\"Recent_Quarter_New_Sign_Ups\"\n",
    "all_new_sign_ups=all_new_sign_ups.drop_duplicates(\"customer_id_hashed\")"
   ]
  },
  {
   "cell_type": "code",
   "execution_count": 30,
   "metadata": {},
   "outputs": [
    {
     "data": {
      "text/plain": [
       "(28897174, 15)"
      ]
     },
     "execution_count": 30,
     "metadata": {},
     "output_type": "execute_result"
    }
   ],
   "source": [
    "all_rewards_most_recent=pd.merge(all_rewards_most_recent,all_new_sign_ups,on=\"customer_id_hashed\",how=\"outer\")\n",
    "all_rewards_most_recent['NewRewards']=all_rewards_most_recent['NewRewards'].fillna(\"Old_Rewards_Members\")\n",
    "\n",
    "all_rewards_most_recent['sales_recent_Quarter']=all_rewards_most_recent['sales_recent_Quarter'].fillna(0)\n",
    "all_rewards_most_recent['trans_recent_Quarter']=all_rewards_most_recent['trans_recent_Quarter'].fillna(0)\n",
    "\n",
    "all_rewards_most_recent['Recent_Quarter_Shopping_Group']=all_rewards_most_recent['Recent_Quarter_Shopping_Group'].fillna(\"Recent_Quarter_No_Shop\")\n",
    "\n",
    "all_rewards_most_recent.shape\n"
   ]
  },
  {
   "cell_type": "code",
   "execution_count": null,
   "metadata": {
    "collapsed": true
   },
   "outputs": [],
   "source": []
  },
  {
   "cell_type": "code",
   "execution_count": 51,
   "metadata": {
    "collapsed": true
   },
   "outputs": [],
   "source": [
    "all_rewards_most_recent['Group_before_the_Quarter']=all_rewards_most_recent['Group_before_the_Quarter'].fillna(\"nan\")\n",
    "all_rewards_most_recent['Group_after_the_Quarter']=all_rewards_most_recent['Group_after_the_Quarter'].fillna(\"nan\")\n",
    "\n",
    "output_id_count=all_rewards_most_recent.groupby(['Group_before_the_Quarter','Group_after_the_Quarter','NewRewards','Recent_Quarter_Shopping_Group'])['customer_id_hashed'].count().to_frame().reset_index().rename(columns={\"customer_id_hashed\":\"id_count\"})\n",
    "output_id_Q4_sales=all_rewards_most_recent.groupby(['Group_before_the_Quarter','Group_after_the_Quarter','NewRewards','Recent_Quarter_Shopping_Group'])['sales_recent_Quarter','trans_recent_Quarter'].sum().reset_index()\n",
    "\n",
    "output=pd.merge(output_id_count,output_id_Q4_sales,on=['Group_before_the_Quarter','Group_after_the_Quarter','NewRewards','Recent_Quarter_Shopping_Group'],how=\"outer\")\n"
   ]
  },
  {
   "cell_type": "code",
   "execution_count": 52,
   "metadata": {},
   "outputs": [
    {
     "data": {
      "text/plain": [
       "'/home/jian/Projects/Big_Lots/Analysis/2019_Q3/Tracker_By_Migration_JT'"
      ]
     },
     "execution_count": 52,
     "metadata": {},
     "output_type": "execute_result"
    }
   ],
   "source": [
    "os.getcwd()"
   ]
  },
  {
   "cell_type": "code",
   "execution_count": 53,
   "metadata": {
    "collapsed": true
   },
   "outputs": [],
   "source": [
    "output['Recent_Quarteer_Sale_per_ID']=output['sales_recent_Quarter']/output['id_count']\n",
    "output['Recent_Quarteer_Sale_per_ID']=output['Recent_Quarteer_Sale_per_ID'].apply(lambda x: np.round(x,2))\n",
    "\n",
    "output['inclusion/exclusion']=np.where((output['Group_before_the_Quarter']!=\"NotAvailable_Before_Quarter\") & (output['NewRewards']==\"Recent_Quarter_New_Sign_Ups\"),\"Exclusion\",\"Inclusion\")\n"
   ]
  },
  {
   "cell_type": "code",
   "execution_count": 54,
   "metadata": {
    "collapsed": true
   },
   "outputs": [],
   "source": [
    "output.to_csv(\"/home/jian/Projects/Big_Lots/Analysis/2019_Q3/Tracker_By_Migration_JT/BL_2019Q2_rewards_migration_output_summary_JL_\"+str(datetime.datetime.now().date())+\".csv\",index=False)\n",
    "\n"
   ]
  },
  {
   "cell_type": "code",
   "execution_count": 55,
   "metadata": {
    "collapsed": true
   },
   "outputs": [],
   "source": [
    "all_rewards_most_recent.to_csv(\"/home/jian/Projects/Big_Lots/Analysis/2019_Q3/Tracker_By_Migration_JT/BL_2019Q2_rewards_migration_rewards_data_JL_\"+str(datetime.datetime.now().date())+\".csv\",index=False)\n"
   ]
  },
  {
   "cell_type": "code",
   "execution_count": null,
   "metadata": {
    "collapsed": true
   },
   "outputs": [],
   "source": [
    "\n",
    "all_rewards_most_recent=pd.read_csv(\"/home/jian/Projects/Big_Lots/Analysis/2019_Q3/Tracker_By_Migration_JT/BL_2019Q2_rewards_migration_rewards_data_JL_\"+str(datetime.datetime.now().date())+\".csv\",dtype=str)"
   ]
  },
  {
   "cell_type": "markdown",
   "metadata": {
    "collapsed": true
   },
   "source": [
    "# Add Q3 Information"
   ]
  },
  {
   "cell_type": "code",
   "execution_count": 59,
   "metadata": {},
   "outputs": [
    {
     "name": "stdout",
     "output_type": "stream",
     "text": [
      "2019-08-04\n"
     ]
    }
   ],
   "source": [
    "this_ongoing_quarter_start_date=prior_quarter_End+datetime.timedelta(days=92)\n",
    "print(this_ongoing_quarter_start_date)"
   ]
  },
  {
   "cell_type": "code",
   "execution_count": 61,
   "metadata": {},
   "outputs": [
    {
     "name": "stdout",
     "output_type": "stream",
     "text": [
      "(6, 2)\n"
     ]
    },
    {
     "data": {
      "text/html": [
       "<div>\n",
       "<style>\n",
       "    .dataframe thead tr:only-child th {\n",
       "        text-align: right;\n",
       "    }\n",
       "\n",
       "    .dataframe thead th {\n",
       "        text-align: left;\n",
       "    }\n",
       "\n",
       "    .dataframe tbody tr th {\n",
       "        vertical-align: top;\n",
       "    }\n",
       "</style>\n",
       "<table border=\"1\" class=\"dataframe\">\n",
       "  <thead>\n",
       "    <tr style=\"text-align: right;\">\n",
       "      <th></th>\n",
       "      <th>file_path</th>\n",
       "      <th>week_end_dt</th>\n",
       "    </tr>\n",
       "  </thead>\n",
       "  <tbody>\n",
       "    <tr>\n",
       "      <th>29</th>\n",
       "      <td>/home/jian/BigLots/2019_by_weeks/MediaStorm_20...</td>\n",
       "      <td>2019-08-10</td>\n",
       "    </tr>\n",
       "    <tr>\n",
       "      <th>30</th>\n",
       "      <td>/home/jian/BigLots/2019_by_weeks/MediaStorm_20...</td>\n",
       "      <td>2019-08-17</td>\n",
       "    </tr>\n",
       "  </tbody>\n",
       "</table>\n",
       "</div>"
      ],
      "text/plain": [
       "                                            file_path week_end_dt\n",
       "29  /home/jian/BigLots/2019_by_weeks/MediaStorm_20...  2019-08-10\n",
       "30  /home/jian/BigLots/2019_by_weeks/MediaStorm_20...  2019-08-17"
      ]
     },
     "execution_count": 61,
     "metadata": {},
     "output_type": "execute_result"
    }
   ],
   "source": [
    "this_ongoing_quarter_sign_ups=list(recursive_file_gen(\"/home/jian/BigLots/\"))\n",
    "\n",
    "this_ongoing_quarter_sign_ups=[x for x in this_ongoing_quarter_sign_ups if \"Master\" in x]\n",
    "this_ongoing_quarter_sign_ups=[x for x in this_ongoing_quarter_sign_ups if \"2018\" not in x]\n",
    "this_ongoing_quarter_sign_ups=[x for x in this_ongoing_quarter_sign_ups if \"2017\" not in x]\n",
    "this_ongoing_quarter_sign_ups=[x for x in this_ongoing_quarter_sign_ups if \"2016\" not in x]\n",
    "this_ongoing_quarter_sign_ups=[x for x in this_ongoing_quarter_sign_ups if \".txt\" in x]\n",
    "\n",
    "this_ongoing_quarter_sign_ups_files_df=pd.DataFrame({\"file_path\":this_ongoing_quarter_sign_ups})\n",
    "this_ongoing_quarter_sign_ups_files_df['week_end_dt']=this_ongoing_quarter_sign_ups_files_df['file_path'].apply(lambda x: x.split(\"/MediaStorm_\")[1][:10])\n",
    "this_ongoing_quarter_sign_ups_files_df=this_ongoing_quarter_sign_ups_files_df[this_ongoing_quarter_sign_ups_files_df['week_end_dt']>=str(this_ongoing_quarter_start_date)]\n",
    "# Recent_Quarter_new_sign_ups_files_df=Recent_Quarter_new_sign_ups_files_df[Recent_Quarter_new_sign_ups_files_df['week_end_dt']>str(prior_quarter_End)]\n",
    "print(this_ongoing_quarter_sign_ups_files_df.shape)\n",
    "this_ongoing_quarter_sign_ups_files_df.head(2)"
   ]
  },
  {
   "cell_type": "code",
   "execution_count": 62,
   "metadata": {},
   "outputs": [
    {
     "name": "stdout",
     "output_type": "stream",
     "text": [
      "(715973, 1)\n"
     ]
    }
   ],
   "source": [
    "ongoing_new_sign_up_df=pd.DataFrame()\n",
    "for file in this_ongoing_quarter_sign_ups_files_df['file_path'].unique().tolist():\n",
    "    df=pd.read_table(file,sep=\"|\",usecols=['customer_id_hashed'])\n",
    "    ongoing_new_sign_up_df=ongoing_new_sign_up_df.append(df)\n",
    "ongoing_new_sign_up_df=ongoing_new_sign_up_df.drop_duplicates(\"customer_id_hashed\")\n",
    "print(ongoing_new_sign_up_df.shape)\n",
    "\n",
    "ongoing_new_sign_up_df['Ongoing_NewRewards']=\"Ongoing_Quarter_New_Sign_Ups\"\n"
   ]
  },
  {
   "cell_type": "code",
   "execution_count": 65,
   "metadata": {},
   "outputs": [
    {
     "name": "stdout",
     "output_type": "stream",
     "text": [
      "(6, 2)\n"
     ]
    },
    {
     "data": {
      "text/html": [
       "<div>\n",
       "<style>\n",
       "    .dataframe thead tr:only-child th {\n",
       "        text-align: right;\n",
       "    }\n",
       "\n",
       "    .dataframe thead th {\n",
       "        text-align: left;\n",
       "    }\n",
       "\n",
       "    .dataframe tbody tr th {\n",
       "        vertical-align: top;\n",
       "    }\n",
       "</style>\n",
       "<table border=\"1\" class=\"dataframe\">\n",
       "  <thead>\n",
       "    <tr style=\"text-align: right;\">\n",
       "      <th></th>\n",
       "      <th>file_path</th>\n",
       "      <th>week_end_dt</th>\n",
       "    </tr>\n",
       "  </thead>\n",
       "  <tbody>\n",
       "    <tr>\n",
       "      <th>31</th>\n",
       "      <td>/home/jian/BigLots/2019_by_weeks/MediaStorm_20...</td>\n",
       "      <td>2019-08-10</td>\n",
       "    </tr>\n",
       "    <tr>\n",
       "      <th>32</th>\n",
       "      <td>/home/jian/BigLots/2019_by_weeks/MediaStorm_20...</td>\n",
       "      <td>2019-08-17</td>\n",
       "    </tr>\n",
       "  </tbody>\n",
       "</table>\n",
       "</div>"
      ],
      "text/plain": [
       "                                            file_path week_end_dt\n",
       "31  /home/jian/BigLots/2019_by_weeks/MediaStorm_20...  2019-08-10\n",
       "32  /home/jian/BigLots/2019_by_weeks/MediaStorm_20...  2019-08-17"
      ]
     },
     "execution_count": 65,
     "metadata": {},
     "output_type": "execute_result"
    }
   ],
   "source": [
    "this_ongoing_quarter_POS=list(recursive_file_gen(\"/home/jian/BigLots/\"))\n",
    "\n",
    "this_ongoing_quarter_POS=[x for x in this_ongoing_quarter_POS if \"daily\" in x.lower()]\n",
    "this_ongoing_quarter_POS=[x for x in this_ongoing_quarter_POS if \"history\" not in x.lower()]\n",
    "\n",
    "this_ongoing_quarter_POS=[x for x in this_ongoing_quarter_POS if \"2018\" not in x]\n",
    "this_ongoing_quarter_POS=[x for x in this_ongoing_quarter_POS if \"2017\" not in x]\n",
    "this_ongoing_quarter_POS=[x for x in this_ongoing_quarter_POS if \"2016\" not in x]\n",
    "this_ongoing_quarter_POS=[x for x in this_ongoing_quarter_POS if \".txt\" in x]\n",
    "\n",
    "this_ongoing_quarter_POS_df=pd.DataFrame({\"file_path\":this_ongoing_quarter_POS})\n",
    "this_ongoing_quarter_POS_df['week_end_dt']=this_ongoing_quarter_POS_df['file_path'].apply(lambda x: x.split(\"/MediaStorm_\")[1][:10])\n",
    "this_ongoing_quarter_POS_df=this_ongoing_quarter_POS_df[this_ongoing_quarter_POS_df['week_end_dt']>=str(this_ongoing_quarter_start_date)]\n",
    "# Recent_Quarter_new_sign_ups_files_df=Recent_Quarter_new_sign_ups_files_df[Recent_Quarter_new_sign_ups_files_df['week_end_dt']>str(prior_quarter_End)]\n",
    "print(this_ongoing_quarter_POS_df.shape)\n",
    "this_ongoing_quarter_POS_df.head(2)"
   ]
  },
  {
   "cell_type": "code",
   "execution_count": 67,
   "metadata": {},
   "outputs": [
    {
     "name": "stdout",
     "output_type": "stream",
     "text": [
      "/home/jian/BigLots/2019_by_weeks/MediaStorm_2019-08-10/MediaStormDailySales20190813-120541-143.txt 2019-09-19 21:34:42.558457\n",
      "/home/jian/BigLots/2019_by_weeks/MediaStorm_2019-08-17/MediaStormDailySales20190820-113628-440.txt 2019-09-19 21:35:41.504397\n",
      "/home/jian/BigLots/2019_by_weeks/MediaStorm_2019-08-24/MediaStormDailySales20190827-113630-114.txt 2019-09-19 21:36:41.860692\n",
      "/home/jian/BigLots/2019_by_weeks/MediaStorm_2019-08-31/MediaStormDailySales20190903-113649-462.txt 2019-09-19 21:37:42.582549\n",
      "/home/jian/BigLots/2019_by_weeks/MediaStorm_2019-09-07/MediaStormDailySales20190910-120643-163.txt 2019-09-19 21:38:28.123706\n",
      "/home/jian/BigLots/2019_by_weeks/MediaStorm_2019-09-14/MediaStormDailySales20190917-110425-322.txt 2019-09-19 21:39:23.250496\n"
     ]
    }
   ],
   "source": [
    "ongoing_quarter_sales_by_id=pd.DataFrame()\n",
    "for file in this_ongoing_quarter_POS_df['file_path'].tolist():\n",
    "    df=pd.read_table(file,sep=\"|\",dtype=str,\n",
    "                     usecols=['location_id','transaction_dt','transaction_id','customer_id_hashed','item_transaction_amt'])\n",
    "    df=df[~pd.isnull(df['customer_id_hashed'])]\n",
    "    df['item_transaction_amt']=df['item_transaction_amt'].astype(float)\n",
    "    df_sales=df.groupby(['customer_id_hashed'])['item_transaction_amt'].sum().to_frame().reset_index().rename(columns={\"item_transaction_amt\":\"sales_ongoing_quarter\"})\n",
    "    \n",
    "    df_trans=df[['location_id','transaction_dt','transaction_id','customer_id_hashed']].drop_duplicates()\n",
    "    df_trans=df_trans.groupby([\"customer_id_hashed\"])['transaction_id'].count().to_frame().reset_index().rename(columns={\"transaction_id\":\"trans_ongoing_quarter\"})\n",
    "    \n",
    "    df=pd.merge(df_sales,df_trans,on=\"customer_id_hashed\",how=\"outer\")\n",
    "    \n",
    "    ongoing_quarter_sales_by_id=ongoing_quarter_sales_by_id.append(df)\n",
    "    print(file,datetime.datetime.now())\n",
    "ongoing_quarter_sales_by_id=ongoing_quarter_sales_by_id.groupby(\"customer_id_hashed\")['sales_ongoing_quarter','trans_ongoing_quarter'].sum().reset_index()\n",
    "ongoing_quarter_sales_by_id['Ongoing_Quarter_Shopping_Group']=\"Ongoing_Quarter_Shopped\"\n"
   ]
  },
  {
   "cell_type": "code",
   "execution_count": 76,
   "metadata": {
    "collapsed": true
   },
   "outputs": [],
   "source": [
    "all_rewards_most_recent=pd.merge(all_rewards_most_recent,ongoing_new_sign_up_df,on=\"customer_id_hashed\",how=\"outer\")\n",
    "all_rewards_most_recent=pd.merge(all_rewards_most_recent,ongoing_quarter_sales_by_id,on=\"customer_id_hashed\",how=\"outer\")"
   ]
  },
  {
   "cell_type": "code",
   "execution_count": 77,
   "metadata": {},
   "outputs": [
    {
     "data": {
      "text/plain": [
       "['customer_id_hashed',\n",
       " 'transaction_date',\n",
       " 'transaction_date_before_the_Quarter',\n",
       " 'transaction_date_after_the_Quarter',\n",
       " 'Days_to_pre_Quarter_End',\n",
       " 'Days_to_recentt_Quarter_End',\n",
       " 'Month_to_pre_Quarter_End',\n",
       " 'Month_to_recent_Quarter_End',\n",
       " 'Group_before_the_Quarter',\n",
       " 'Group_after_the_Quarter',\n",
       " 'sales_recent_Quarter',\n",
       " 'trans_recent_Quarter',\n",
       " 'Recent_Quarter_Shopping_Group',\n",
       " 'sign_up_date',\n",
       " 'NewRewards',\n",
       " 'Ongoing_NewRewards',\n",
       " 'sales_ongoing_quarter',\n",
       " 'trans_ongoing_quarter',\n",
       " 'Ongoing_Quarter_Shopping_Group']"
      ]
     },
     "execution_count": 77,
     "metadata": {},
     "output_type": "execute_result"
    }
   ],
   "source": [
    "all_rewards_most_recent.columns.tolist()"
   ]
  },
  {
   "cell_type": "code",
   "execution_count": 84,
   "metadata": {},
   "outputs": [
    {
     "data": {
      "text/plain": [
       "192"
      ]
     },
     "execution_count": 84,
     "metadata": {},
     "output_type": "execute_result"
    }
   ],
   "source": [
    "gc.collect()"
   ]
  },
  {
   "cell_type": "code",
   "execution_count": 85,
   "metadata": {},
   "outputs": [
    {
     "name": "stdout",
     "output_type": "stream",
     "text": [
      "2019-09-19 21:59:09.134788 Group_before_the_Quarter\n",
      "2019-09-19 21:59:11.824368 Group_after_the_Quarter\n",
      "2019-09-19 21:59:13.636540 NewRewards\n",
      "2019-09-19 21:59:15.815097 Recent_Quarter_Shopping_Group\n",
      "2019-09-19 21:59:20.508047 Ongoing_NewRewards\n",
      "2019-09-19 21:59:22.868166 Ongoing_Quarter_Shopping_Group\n"
     ]
    }
   ],
   "source": [
    "deminsion_cols=['Group_before_the_Quarter','Group_after_the_Quarter','NewRewards','Recent_Quarter_Shopping_Group','Ongoing_NewRewards','Ongoing_Quarter_Shopping_Group']\n",
    "for col in deminsion_cols:\n",
    "    all_rewards_most_recent[col]=all_rewards_most_recent[col].fillna('nan')\n",
    "    print(datetime.datetime.now(),col)\n",
    "    gc.collect()\n",
    "    "
   ]
  },
  {
   "cell_type": "code",
   "execution_count": 87,
   "metadata": {},
   "outputs": [
    {
     "data": {
      "text/html": [
       "<div>\n",
       "<style>\n",
       "    .dataframe thead tr:only-child th {\n",
       "        text-align: right;\n",
       "    }\n",
       "\n",
       "    .dataframe thead th {\n",
       "        text-align: left;\n",
       "    }\n",
       "\n",
       "    .dataframe tbody tr th {\n",
       "        vertical-align: top;\n",
       "    }\n",
       "</style>\n",
       "<table border=\"1\" class=\"dataframe\">\n",
       "  <thead>\n",
       "    <tr style=\"text-align: right;\">\n",
       "      <th></th>\n",
       "      <th>Group_before_the_Quarter</th>\n",
       "      <th>Group_after_the_Quarter</th>\n",
       "      <th>NewRewards</th>\n",
       "      <th>Recent_Quarter_Shopping_Group</th>\n",
       "      <th>Ongoing_NewRewards</th>\n",
       "      <th>Ongoing_Quarter_Shopping_Group</th>\n",
       "      <th>id_count</th>\n",
       "      <th>sales_recent_Quarter</th>\n",
       "      <th>trans_recent_Quarter</th>\n",
       "      <th>sales_ongoing_quarter</th>\n",
       "      <th>trans_ongoing_quarter</th>\n",
       "      <th>Recent_Quarteer_Sale_per_ID</th>\n",
       "    </tr>\n",
       "  </thead>\n",
       "  <tbody>\n",
       "    <tr>\n",
       "      <th>0</th>\n",
       "      <td>Active</td>\n",
       "      <td>Active</td>\n",
       "      <td>Old_Rewards_Members</td>\n",
       "      <td>Recent_Quarter_No_Shop</td>\n",
       "      <td>Ongoing_Quarter_New_Sign_Ups</td>\n",
       "      <td>Ongoing_Quarter_Shopped</td>\n",
       "      <td>1</td>\n",
       "      <td>0.0</td>\n",
       "      <td>0.0</td>\n",
       "      <td>293.79</td>\n",
       "      <td>1.0</td>\n",
       "      <td>0.0</td>\n",
       "    </tr>\n",
       "    <tr>\n",
       "      <th>1</th>\n",
       "      <td>Active</td>\n",
       "      <td>Active</td>\n",
       "      <td>Old_Rewards_Members</td>\n",
       "      <td>Recent_Quarter_No_Shop</td>\n",
       "      <td>Ongoing_Quarter_New_Sign_Ups</td>\n",
       "      <td>nan</td>\n",
       "      <td>2</td>\n",
       "      <td>0.0</td>\n",
       "      <td>0.0</td>\n",
       "      <td>NaN</td>\n",
       "      <td>NaN</td>\n",
       "      <td>0.0</td>\n",
       "    </tr>\n",
       "  </tbody>\n",
       "</table>\n",
       "</div>"
      ],
      "text/plain": [
       "  Group_before_the_Quarter Group_after_the_Quarter           NewRewards  \\\n",
       "0                   Active                  Active  Old_Rewards_Members   \n",
       "1                   Active                  Active  Old_Rewards_Members   \n",
       "\n",
       "  Recent_Quarter_Shopping_Group            Ongoing_NewRewards  \\\n",
       "0        Recent_Quarter_No_Shop  Ongoing_Quarter_New_Sign_Ups   \n",
       "1        Recent_Quarter_No_Shop  Ongoing_Quarter_New_Sign_Ups   \n",
       "\n",
       "  Ongoing_Quarter_Shopping_Group  id_count  sales_recent_Quarter  \\\n",
       "0        Ongoing_Quarter_Shopped         1                   0.0   \n",
       "1                            nan         2                   0.0   \n",
       "\n",
       "   trans_recent_Quarter  sales_ongoing_quarter  trans_ongoing_quarter  \\\n",
       "0                   0.0                 293.79                    1.0   \n",
       "1                   0.0                    NaN                    NaN   \n",
       "\n",
       "   Recent_Quarteer_Sale_per_ID  \n",
       "0                          0.0  \n",
       "1                          0.0  "
      ]
     },
     "execution_count": 87,
     "metadata": {},
     "output_type": "execute_result"
    }
   ],
   "source": [
    "output_everygroup.head(2)"
   ]
  },
  {
   "cell_type": "code",
   "execution_count": 92,
   "metadata": {
    "collapsed": true
   },
   "outputs": [],
   "source": [
    "output_id_count_everygroup=all_rewards_most_recent.groupby(deminsion_cols)['customer_id_hashed'].count().to_frame().reset_index().rename(columns={\"customer_id_hashed\":\"id_count\"})\n",
    "output_id_sales_everygroup=all_rewards_most_recent.groupby(deminsion_cols)['sales_recent_Quarter','trans_recent_Quarter','sales_ongoing_quarter','trans_ongoing_quarter'].sum().reset_index()\n",
    "\n",
    "output_everygroup=pd.merge(output_id_count_everygroup,output_id_sales_everygroup,on=deminsion_cols,how=\"outer\")\n",
    "\n",
    "\n",
    "output_everygroup['Recent_Quarteer_Sale_per_ID']=output_everygroup['sales_recent_Quarter']/output_everygroup['id_count']\n",
    "output_everygroup['Recent_Quarteer_Sale_per_ID']=output_everygroup['Recent_Quarteer_Sale_per_ID'].apply(lambda x: np.round(x,2))\n",
    "output_everygroup['Recent_Quarteer_Trans_per_ID']=output_everygroup['trans_recent_Quarter']/output_everygroup['id_count']\n",
    "output_everygroup['Recent_Quarteer_Trans_per_ID']=output_everygroup['Recent_Quarteer_Trans_per_ID'].apply(lambda x: np.round(x,2))\n",
    "\n",
    "output_everygroup['ongoing_Quarteer_Sale_per_ID']=output_everygroup['sales_ongoing_quarter']/output_everygroup['id_count']\n",
    "output_everygroup['ongoing_Quarteer_Sale_per_ID']=output_everygroup['ongoing_Quarteer_Sale_per_ID'].apply(lambda x: np.round(x,2))\n",
    "output_everygroup['ongoing_Quarteer_Trans_per_ID']=output_everygroup['trans_ongoing_quarter']/output_everygroup['id_count']\n",
    "output_everygroup['ongoing_Quarteer_Trans_per_ID']=output_everygroup['ongoing_Quarteer_Trans_per_ID'].apply(lambda x: np.round(x,2))\n"
   ]
  },
  {
   "cell_type": "code",
   "execution_count": 93,
   "metadata": {},
   "outputs": [
    {
     "data": {
      "text/plain": [
       "(36, 15)"
      ]
     },
     "execution_count": 93,
     "metadata": {},
     "output_type": "execute_result"
    }
   ],
   "source": [
    "output_everygroup.shape"
   ]
  },
  {
   "cell_type": "code",
   "execution_count": 94,
   "metadata": {
    "collapsed": true
   },
   "outputs": [],
   "source": [
    "output_everygroup=output_everygroup.rename(columns={\"NewRewards\":\"Recent_Quarteer_NewRewards\"})"
   ]
  },
  {
   "cell_type": "code",
   "execution_count": 95,
   "metadata": {
    "collapsed": true
   },
   "outputs": [],
   "source": [
    "output_everygroup.to_csv(\"./BL_2019Q3_tracking_migration_status_JL_\"+str(datetime.datetime.now().date())+\".csv\",index=False)"
   ]
  },
  {
   "cell_type": "code",
   "execution_count": null,
   "metadata": {
    "collapsed": true
   },
   "outputs": [],
   "source": []
  }
 ],
 "metadata": {
  "kernelspec": {
   "display_name": "Python 3",
   "language": "python",
   "name": "python3"
  },
  "language_info": {
   "codemirror_mode": {
    "name": "ipython",
    "version": 3
   },
   "file_extension": ".py",
   "mimetype": "text/x-python",
   "name": "python",
   "nbconvert_exporter": "python",
   "pygments_lexer": "ipython3",
   "version": "3.6.1"
  }
 },
 "nbformat": 4,
 "nbformat_minor": 2
}
