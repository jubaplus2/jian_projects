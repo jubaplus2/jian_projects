{
 "cells": [
  {
   "cell_type": "code",
   "execution_count": 1,
   "metadata": {
    "collapsed": true
   },
   "outputs": [],
   "source": [
    "import pandas as pd\n",
    "import numpy as np\n",
    "import json\n",
    "import os\n",
    "import datetime\n",
    "from haversine import haversine\n",
    "import zipcodes\n",
    "zip_centers=json.load(open(\"/home/jian/Docs/Geo_mapping/center_of_rentrak_zip.json\",\"r\"))\n",
    "\n",
    "# S 20 miles"
   ]
  },
  {
   "cell_type": "code",
   "execution_count": 2,
   "metadata": {
    "collapsed": true
   },
   "outputs": [],
   "source": [
    "store_address_SFTP=pd.read_table(\"/home/jian/BigLots/static_files/Store_list/MediaStormStores20190401-134939-117.txt\",dtype=str,sep=\"|\")\n",
    "store_address_SFTP=store_address_SFTP[['location_id','latitude_meas','longitude_meas','zip_cd']]\n",
    "\n",
    "store_address_SFTP['latitude_meas']=store_address_SFTP['latitude_meas'].astype(float)\n",
    "store_address_SFTP['longitude_meas']=store_address_SFTP['longitude_meas'].astype(float)\n",
    "store_address_SFTP['zip_cd']=store_address_SFTP['zip_cd'].apply(lambda x: x.split(\"-\")[0].zfill(5))\n",
    "\n",
    "store_address_SFTP=store_address_SFTP.rename(columns={\"zip_cd\":\"store_zip\"})"
   ]
  },
  {
   "cell_type": "code",
   "execution_count": 3,
   "metadata": {},
   "outputs": [
    {
     "data": {
      "text/plain": [
       "'/home/jian/Projects/Big_Lots/Analysis/2019_Q1/Planner_Request/zips_SOTF_quad_3_gruops_JT_20190425'"
      ]
     },
     "execution_count": 3,
     "metadata": {},
     "output_type": "execute_result"
    }
   ],
   "source": [
    "os.getcwd()"
   ]
  },
  {
   "cell_type": "code",
   "execution_count": 4,
   "metadata": {},
   "outputs": [
    {
     "name": "stdout",
     "output_type": "stream",
     "text": [
      "(1361, 2)\n"
     ]
    }
   ],
   "source": [
    "store_quadrants=pd.read_excel(\"/home/jian/Projects/Big_Lots/Analysis/2019_Q1/Planner_Request/zips_SOTF_quad_3_gruops_JT_20190425/Excel_BL_2018_Q4_post_YoY_small_JL_2019-03-04.xlsx\",\n",
    "                             dtype=str,sheetname=\"Q4_Store_Quadrant_Defination\",usecols=[\"location_id\",'Quadrant'])\n",
    "print(store_quadrants.shape)\n"
   ]
  },
  {
   "cell_type": "code",
   "execution_count": 5,
   "metadata": {},
   "outputs": [
    {
     "name": "stdout",
     "output_type": "stream",
     "text": [
      "(203, 22)\n",
      "203\n"
     ]
    }
   ],
   "source": [
    "SOTF_list=pd.read_excel(\"/home/jian/Projects/Big_Lots/Analysis/2019_Q1/Planner_Request/zips_SOTF_quad_3_gruops_JT_20190425/BL Store List Report 02.28.19 with DMA and SOTF 20190415.xlsx\",\n",
    "                       dtype=str,sheetname=\"SOTF 20190415\")\n",
    "print(SOTF_list.shape)\n",
    "print(len(SOTF_list['Store'].unique()))\n",
    "SOTF_list=SOTF_list.rename(columns={\"Store\":\"location_id\"})"
   ]
  },
  {
   "cell_type": "code",
   "execution_count": 6,
   "metadata": {},
   "outputs": [
    {
     "data": {
      "text/plain": [
       "array(['P', 'S'], dtype=object)"
      ]
     },
     "execution_count": 6,
     "metadata": {},
     "output_type": "execute_result"
    }
   ],
   "source": [
    "store_zip_label=pd.read_csv(\"/home/jian/Projects/Big_Lots/New_TA/zips_in_new_ta/sales_by_zip (Store level).csv\",dtype=str)\n",
    "store_zip_label=store_zip_label[['location_id','zip','revenue_flag']].drop_duplicates()\n",
    "\n",
    "store_zip_label=store_zip_label.rename(columns={\"zip\":\"zip_cd\"})\n",
    "store_zip_label=store_zip_label[store_zip_label['revenue_flag']!=\"T\"]\n",
    "store_zip_label['revenue_flag'].unique()"
   ]
  },
  {
   "cell_type": "code",
   "execution_count": 7,
   "metadata": {},
   "outputs": [
    {
     "name": "stdout",
     "output_type": "stream",
     "text": [
      "(1402, 2)\n",
      "(1399, 2)\n"
     ]
    },
    {
     "data": {
      "text/html": [
       "<div>\n",
       "<style>\n",
       "    .dataframe thead tr:only-child th {\n",
       "        text-align: right;\n",
       "    }\n",
       "\n",
       "    .dataframe thead th {\n",
       "        text-align: left;\n",
       "    }\n",
       "\n",
       "    .dataframe tbody tr th {\n",
       "        vertical-align: top;\n",
       "    }\n",
       "</style>\n",
       "<table border=\"1\" class=\"dataframe\">\n",
       "  <thead>\n",
       "    <tr style=\"text-align: right;\">\n",
       "      <th></th>\n",
       "      <th>location_id</th>\n",
       "      <th>open_label</th>\n",
       "    </tr>\n",
       "  </thead>\n",
       "  <tbody>\n",
       "    <tr>\n",
       "      <th>0</th>\n",
       "      <td>1</td>\n",
       "      <td>Open</td>\n",
       "    </tr>\n",
       "    <tr>\n",
       "      <th>1</th>\n",
       "      <td>1001</td>\n",
       "      <td>Open</td>\n",
       "    </tr>\n",
       "  </tbody>\n",
       "</table>\n",
       "</div>"
      ],
      "text/plain": [
       "  location_id open_label\n",
       "0           1       Open\n",
       "1        1001       Open"
      ]
     },
     "execution_count": 7,
     "metadata": {},
     "output_type": "execute_result"
    }
   ],
   "source": [
    "Open_Stores=pd.read_csv(\"/home/jian/BiglotsCode/outputs/combined_sales_long_2019-04-20.csv\",dtype=str,usecols=['location_id','week_end_date','sales'])\n",
    "Open_Stores['sales']=Open_Stores['sales'].astype(float)\n",
    "Open_Stores=Open_Stores[Open_Stores['sales']>0]\n",
    "Open_Stores=Open_Stores[Open_Stores['week_end_date'].isin(['2019-04-20','2019-04-13','2019-04-06','2019-03-30'])]\n",
    "Open_Stores=Open_Stores.groupby(['location_id'])['sales'].count().to_frame().reset_index().rename(columns={\"sales\":\"recent_month_open_weeks\"})\n",
    "print(Open_Stores.shape)\n",
    "\n",
    "Open_Stores=Open_Stores[Open_Stores['recent_month_open_weeks']>=3]\n",
    "print(Open_Stores.shape)\n",
    "Open_Stores['recent_month_open_weeks']=\"Open\"\n",
    "Open_Stores=Open_Stores.rename(columns={\"recent_month_open_weeks\":\"open_label\"})\n",
    "Open_Stores.head(2)\n",
    "# Only the quadrant zip-stores will be applied to the opening store filter, and apply the fillna for quadrant III"
   ]
  },
  {
   "cell_type": "code",
   "execution_count": 8,
   "metadata": {},
   "outputs": [
    {
     "data": {
      "text/html": [
       "<div>\n",
       "<style>\n",
       "    .dataframe thead tr:only-child th {\n",
       "        text-align: right;\n",
       "    }\n",
       "\n",
       "    .dataframe thead th {\n",
       "        text-align: left;\n",
       "    }\n",
       "\n",
       "    .dataframe tbody tr th {\n",
       "        vertical-align: top;\n",
       "    }\n",
       "</style>\n",
       "<table border=\"1\" class=\"dataframe\">\n",
       "  <thead>\n",
       "    <tr style=\"text-align: right;\">\n",
       "      <th></th>\n",
       "      <th>location_id</th>\n",
       "      <th>Quadrant</th>\n",
       "    </tr>\n",
       "  </thead>\n",
       "  <tbody>\n",
       "    <tr>\n",
       "      <th>0</th>\n",
       "      <td>1</td>\n",
       "      <td>Quadrant I</td>\n",
       "    </tr>\n",
       "    <tr>\n",
       "      <th>1</th>\n",
       "      <td>3</td>\n",
       "      <td>Quadrant I</td>\n",
       "    </tr>\n",
       "  </tbody>\n",
       "</table>\n",
       "</div>"
      ],
      "text/plain": [
       "  location_id    Quadrant\n",
       "0           1  Quadrant I\n",
       "1           3  Quadrant I"
      ]
     },
     "execution_count": 8,
     "metadata": {},
     "output_type": "execute_result"
    }
   ],
   "source": [
    "store_quadrants.head(2)"
   ]
  },
  {
   "cell_type": "code",
   "execution_count": 9,
   "metadata": {},
   "outputs": [
    {
     "data": {
      "text/html": [
       "<div>\n",
       "<style>\n",
       "    .dataframe thead tr:only-child th {\n",
       "        text-align: right;\n",
       "    }\n",
       "\n",
       "    .dataframe thead th {\n",
       "        text-align: left;\n",
       "    }\n",
       "\n",
       "    .dataframe tbody tr th {\n",
       "        vertical-align: top;\n",
       "    }\n",
       "</style>\n",
       "<table border=\"1\" class=\"dataframe\">\n",
       "  <thead>\n",
       "    <tr style=\"text-align: right;\">\n",
       "      <th></th>\n",
       "      <th>location_id</th>\n",
       "      <th>zip_cd</th>\n",
       "      <th>revenue_flag</th>\n",
       "    </tr>\n",
       "  </thead>\n",
       "  <tbody>\n",
       "    <tr>\n",
       "      <th>0</th>\n",
       "      <td>1</td>\n",
       "      <td>43232</td>\n",
       "      <td>P</td>\n",
       "    </tr>\n",
       "    <tr>\n",
       "      <th>1</th>\n",
       "      <td>1</td>\n",
       "      <td>43209</td>\n",
       "      <td>P</td>\n",
       "    </tr>\n",
       "  </tbody>\n",
       "</table>\n",
       "</div>"
      ],
      "text/plain": [
       "  location_id zip_cd revenue_flag\n",
       "0           1  43232            P\n",
       "1           1  43209            P"
      ]
     },
     "execution_count": 9,
     "metadata": {},
     "output_type": "execute_result"
    }
   ],
   "source": [
    "store_zip_label.head(2)"
   ]
  },
  {
   "cell_type": "code",
   "execution_count": 10,
   "metadata": {},
   "outputs": [
    {
     "data": {
      "text/html": [
       "<div>\n",
       "<style>\n",
       "    .dataframe thead tr:only-child th {\n",
       "        text-align: right;\n",
       "    }\n",
       "\n",
       "    .dataframe thead th {\n",
       "        text-align: left;\n",
       "    }\n",
       "\n",
       "    .dataframe tbody tr th {\n",
       "        vertical-align: top;\n",
       "    }\n",
       "</style>\n",
       "<table border=\"1\" class=\"dataframe\">\n",
       "  <thead>\n",
       "    <tr style=\"text-align: right;\">\n",
       "      <th></th>\n",
       "      <th>location_id</th>\n",
       "      <th>open_label</th>\n",
       "    </tr>\n",
       "  </thead>\n",
       "  <tbody>\n",
       "    <tr>\n",
       "      <th>0</th>\n",
       "      <td>1</td>\n",
       "      <td>Open</td>\n",
       "    </tr>\n",
       "    <tr>\n",
       "      <th>1</th>\n",
       "      <td>1001</td>\n",
       "      <td>Open</td>\n",
       "    </tr>\n",
       "  </tbody>\n",
       "</table>\n",
       "</div>"
      ],
      "text/plain": [
       "  location_id open_label\n",
       "0           1       Open\n",
       "1        1001       Open"
      ]
     },
     "execution_count": 10,
     "metadata": {},
     "output_type": "execute_result"
    }
   ],
   "source": [
    "Open_Stores.head(2)"
   ]
  },
  {
   "cell_type": "markdown",
   "metadata": {},
   "source": [
    "# Quadrant All"
   ]
  },
  {
   "cell_type": "code",
   "execution_count": 11,
   "metadata": {},
   "outputs": [
    {
     "name": "stdout",
     "output_type": "stream",
     "text": [
      "1399\n",
      "(62, 6)\n"
     ]
    }
   ],
   "source": [
    "store_quadrants=pd.merge(Open_Stores,store_quadrants,on=\"location_id\",how=\"left\")\n",
    "store_quadrants['Quad_defined_method']=np.where(pd.isnull(store_quadrants['Quadrant']),\"Filled_with_Quad_III\",\"2018Q4_defined\")\n",
    "store_quadrants['Quadrant']=store_quadrants['Quadrant'].fillna(\"Quadrant III\")\n",
    "store_quadrants_zips=pd.merge(store_quadrants,store_zip_label,on=\"location_id\",how=\"left\")\n",
    "store_quadrants_zips.head(4)\n",
    "\n",
    "print(len(store_quadrants_zips['location_id'].unique()))\n",
    "\n",
    "store_quadrants_zips_new_stores=store_quadrants_zips[pd.isnull(store_quadrants_zips['revenue_flag'])]\n",
    "print(store_quadrants_zips_new_stores.shape)\n",
    "\n",
    "store_quadrants_zips_old_stores=store_quadrants_zips[~pd.isnull(store_quadrants_zips['revenue_flag'])]"
   ]
  },
  {
   "cell_type": "code",
   "execution_count": 12,
   "metadata": {},
   "outputs": [
    {
     "name": "stdout",
     "output_type": "stream",
     "text": [
      "(1399, 7)\n",
      "['4674' '4693']\n",
      "(1399, 7)\n"
     ]
    }
   ],
   "source": [
    "store_quadrants=pd.merge(store_quadrants,store_address_SFTP,on=\"location_id\",how=\"left\")\n",
    "print(store_quadrants.shape)\n",
    "print(store_quadrants[pd.isnull(store_quadrants['latitude_meas'])]['location_id'].unique())\n",
    "\n",
    "dict_getting_address={}\n",
    "dict_getting_address.update({\"4674\":{\"GoogleAddress\":\"8501 Auburn Blvd, Citrus Heights, CA 95610\",\"GoogleCoor\":[38.7211825,-121.2927472]}})\n",
    "dict_getting_address.update({\"4693\":{\"GoogleAddress\":\"11696 NE 76th St, Vancouver, WA 98662\",\"GoogleCoor\":[45.6788111,-122.5536852]}})\n",
    "\n",
    "store_quadrants.loc[store_quadrants['location_id']==\"4674\",'latitude_meas']=dict_getting_address['4674']['GoogleCoor'][0]\n",
    "store_quadrants.loc[store_quadrants['location_id']==\"4674\",'longitude_meas']=dict_getting_address['4674']['GoogleCoor'][1]\n",
    "store_quadrants.loc[store_quadrants['location_id']==\"4674\",'store_zip']='95610'\n",
    "\n",
    "store_quadrants.loc[store_quadrants['location_id']==\"4693\",'latitude_meas']=dict_getting_address['4693']['GoogleCoor'][0]\n",
    "store_quadrants.loc[store_quadrants['location_id']==\"4693\",'longitude_meas']=dict_getting_address['4693']['GoogleCoor'][1]\n",
    "store_quadrants.loc[store_quadrants['location_id']==\"4693\",'store_zip']='98662'\n",
    "\n",
    "store_quadrants=store_quadrants[~pd.isnull(store_quadrants['latitude_meas'])]\n",
    "print(store_quadrants.shape)\n"
   ]
  },
  {
   "cell_type": "code",
   "execution_count": 13,
   "metadata": {},
   "outputs": [
    {
     "data": {
      "text/plain": [
       "(62, 6)"
      ]
     },
     "execution_count": 13,
     "metadata": {},
     "output_type": "execute_result"
    }
   ],
   "source": [
    "store_quadrants_zips_new_stores.shape"
   ]
  },
  {
   "cell_type": "code",
   "execution_count": 14,
   "metadata": {},
   "outputs": [
    {
     "data": {
      "text/html": [
       "<div>\n",
       "<style>\n",
       "    .dataframe thead tr:only-child th {\n",
       "        text-align: right;\n",
       "    }\n",
       "\n",
       "    .dataframe thead th {\n",
       "        text-align: left;\n",
       "    }\n",
       "\n",
       "    .dataframe tbody tr th {\n",
       "        vertical-align: top;\n",
       "    }\n",
       "</style>\n",
       "<table border=\"1\" class=\"dataframe\">\n",
       "  <thead>\n",
       "    <tr style=\"text-align: right;\">\n",
       "      <th></th>\n",
       "      <th>location_id</th>\n",
       "      <th>open_label</th>\n",
       "      <th>Quadrant</th>\n",
       "      <th>Quad_defined_method</th>\n",
       "      <th>zip_cd</th>\n",
       "      <th>revenue_flag</th>\n",
       "    </tr>\n",
       "  </thead>\n",
       "  <tbody>\n",
       "    <tr>\n",
       "      <th>17517</th>\n",
       "      <td>4667</td>\n",
       "      <td>Open</td>\n",
       "      <td>Quadrant III</td>\n",
       "      <td>2018Q4_defined</td>\n",
       "      <td>NaN</td>\n",
       "      <td>NaN</td>\n",
       "    </tr>\n",
       "    <tr>\n",
       "      <th>17518</th>\n",
       "      <td>4669</td>\n",
       "      <td>Open</td>\n",
       "      <td>Quadrant III</td>\n",
       "      <td>2018Q4_defined</td>\n",
       "      <td>NaN</td>\n",
       "      <td>NaN</td>\n",
       "    </tr>\n",
       "  </tbody>\n",
       "</table>\n",
       "</div>"
      ],
      "text/plain": [
       "      location_id open_label      Quadrant Quad_defined_method zip_cd  \\\n",
       "17517        4667       Open  Quadrant III      2018Q4_defined    NaN   \n",
       "17518        4669       Open  Quadrant III      2018Q4_defined    NaN   \n",
       "\n",
       "      revenue_flag  \n",
       "17517          NaN  \n",
       "17518          NaN  "
      ]
     },
     "execution_count": 14,
     "metadata": {},
     "output_type": "execute_result"
    }
   ],
   "source": [
    "store_quadrants_zips_new_stores.head(2)"
   ]
  },
  {
   "cell_type": "code",
   "execution_count": 15,
   "metadata": {},
   "outputs": [
    {
     "name": "stdout",
     "output_type": "stream",
     "text": [
      "(0, 7)\n"
     ]
    }
   ],
   "source": [
    "del store_quadrants_zips_new_stores['zip_cd']\n",
    "del store_quadrants_zips_new_stores['revenue_flag']\n",
    "\n",
    "store_quadrants_zips_new_stores=pd.merge(store_quadrants_zips_new_stores,store_address_SFTP,on=\"location_id\",how=\"left\")\n",
    "\n",
    "store_quadrants_zips_new_stores.loc[store_quadrants_zips_new_stores['location_id']==\"4674\",'latitude_meas']=dict_getting_address['4674']['GoogleCoor'][0]\n",
    "store_quadrants_zips_new_stores.loc[store_quadrants_zips_new_stores['location_id']==\"4674\",'longitude_meas']=dict_getting_address['4674']['GoogleCoor'][1]\n",
    "store_quadrants_zips_new_stores.loc[store_quadrants_zips_new_stores['location_id']==\"4674\",'store_zip']='95610'\n",
    "\n",
    "store_quadrants_zips_new_stores.loc[store_quadrants_zips_new_stores['location_id']==\"4693\",'latitude_meas']=dict_getting_address['4693']['GoogleCoor'][0]\n",
    "store_quadrants_zips_new_stores.loc[store_quadrants_zips_new_stores['location_id']==\"4693\",'longitude_meas']=dict_getting_address['4693']['GoogleCoor'][1]\n",
    "store_quadrants_zips_new_stores.loc[store_quadrants_zips_new_stores['location_id']==\"4693\",'store_zip']='98662'\n",
    "\n",
    "\n",
    "print(store_quadrants_zips_new_stores[pd.isnull(store_quadrants_zips_new_stores['latitude_meas'])].shape)\n",
    "store_quadrants_zips_new_stores=store_quadrants_zips_new_stores.reset_index()\n",
    "del store_quadrants_zips_new_stores['index']"
   ]
  },
  {
   "cell_type": "code",
   "execution_count": 16,
   "metadata": {
    "collapsed": true
   },
   "outputs": [],
   "source": [
    "df_zips_for_new_quadrant_stores=pd.DataFrame()\n",
    "\n",
    "for i in range(len(store_quadrants_zips_new_stores)):\n",
    "    store_num=store_quadrants_zips_new_stores['location_id'][i]\n",
    "    store_center=[store_quadrants_zips_new_stores['latitude_meas'][i],store_quadrants_zips_new_stores['longitude_meas'][i]]\n",
    "    \n",
    "    store_zip_df=pd.DataFrame({\"location_id\":store_num,'zip_cd':store_quadrants_zips_new_stores['store_zip'][i],\"Dist_miles\":\"store_zip\"},index=[0])\n",
    "    for zip_cd in zip_centers:\n",
    "        dist=haversine(zip_centers[zip_cd],store_center,miles=True)\n",
    "        if dist<=10:\n",
    "            df=pd.DataFrame({\"location_id\":store_num,'zip_cd':zip_cd,\"Dist_miles\":dist},index=[0])\n",
    "            store_zip_df=store_zip_df.append(df)\n",
    "    df_zips_for_new_quadrant_stores=df_zips_for_new_quadrant_stores.append(store_zip_df)\n",
    "df_zips_for_new_quadrant_stores['revenue_flag']=\"zips_in_10\"\n",
    "store_quadrants_zips_new_stores=pd.merge(store_quadrants_zips_new_stores,df_zips_for_new_quadrant_stores,on=\"location_id\",how=\"left\")"
   ]
  },
  {
   "cell_type": "code",
   "execution_count": 17,
   "metadata": {},
   "outputs": [
    {
     "data": {
      "text/html": [
       "<div>\n",
       "<style>\n",
       "    .dataframe thead tr:only-child th {\n",
       "        text-align: right;\n",
       "    }\n",
       "\n",
       "    .dataframe thead th {\n",
       "        text-align: left;\n",
       "    }\n",
       "\n",
       "    .dataframe tbody tr th {\n",
       "        vertical-align: top;\n",
       "    }\n",
       "</style>\n",
       "<table border=\"1\" class=\"dataframe\">\n",
       "  <thead>\n",
       "    <tr style=\"text-align: right;\">\n",
       "      <th></th>\n",
       "      <th>location_id</th>\n",
       "      <th>open_label</th>\n",
       "      <th>Quadrant</th>\n",
       "      <th>Quad_defined_method</th>\n",
       "      <th>latitude_meas</th>\n",
       "      <th>longitude_meas</th>\n",
       "      <th>store_zip</th>\n",
       "      <th>Dist_miles</th>\n",
       "      <th>zip_cd</th>\n",
       "      <th>revenue_flag</th>\n",
       "    </tr>\n",
       "  </thead>\n",
       "  <tbody>\n",
       "    <tr>\n",
       "      <th>0</th>\n",
       "      <td>4667</td>\n",
       "      <td>Open</td>\n",
       "      <td>Quadrant III</td>\n",
       "      <td>2018Q4_defined</td>\n",
       "      <td>33.417099</td>\n",
       "      <td>-111.769785</td>\n",
       "      <td>85213</td>\n",
       "      <td>store_zip</td>\n",
       "      <td>85213</td>\n",
       "      <td>zips_in_10</td>\n",
       "    </tr>\n",
       "    <tr>\n",
       "      <th>1</th>\n",
       "      <td>4667</td>\n",
       "      <td>Open</td>\n",
       "      <td>Quadrant III</td>\n",
       "      <td>2018Q4_defined</td>\n",
       "      <td>33.417099</td>\n",
       "      <td>-111.769785</td>\n",
       "      <td>85213</td>\n",
       "      <td>8.70104</td>\n",
       "      <td>85244</td>\n",
       "      <td>zips_in_10</td>\n",
       "    </tr>\n",
       "  </tbody>\n",
       "</table>\n",
       "</div>"
      ],
      "text/plain": [
       "  location_id open_label      Quadrant Quad_defined_method  latitude_meas  \\\n",
       "0        4667       Open  Quadrant III      2018Q4_defined      33.417099   \n",
       "1        4667       Open  Quadrant III      2018Q4_defined      33.417099   \n",
       "\n",
       "   longitude_meas store_zip Dist_miles zip_cd revenue_flag  \n",
       "0     -111.769785     85213  store_zip  85213   zips_in_10  \n",
       "1     -111.769785     85213    8.70104  85244   zips_in_10  "
      ]
     },
     "execution_count": 17,
     "metadata": {},
     "output_type": "execute_result"
    }
   ],
   "source": [
    "store_quadrants_zips_new_stores.head(2)"
   ]
  },
  {
   "cell_type": "code",
   "execution_count": 18,
   "metadata": {},
   "outputs": [
    {
     "name": "stderr",
     "output_type": "stream",
     "text": [
      "/usr/local/lib/python3.6/site-packages/ipykernel_launcher.py:10: SettingWithCopyWarning: \n",
      "A value is trying to be set on a copy of a slice from a DataFrame\n",
      "\n",
      "See the caveats in the documentation: http://pandas.pydata.org/pandas-docs/stable/indexing.html#indexing-view-versus-copy\n",
      "  # Remove the CWD from sys.path while we load stuff.\n",
      "/usr/local/lib/python3.6/site-packages/ipykernel_launcher.py:14: SettingWithCopyWarning: \n",
      "A value is trying to be set on a copy of a slice from a DataFrame\n",
      "\n",
      "See the caveats in the documentation: http://pandas.pydata.org/pandas-docs/stable/indexing.html#indexing-view-versus-copy\n",
      "  \n",
      "/usr/local/lib/python3.6/site-packages/ipykernel_launcher.py:16: SettingWithCopyWarning: \n",
      "A value is trying to be set on a copy of a slice from a DataFrame\n",
      "\n",
      "See the caveats in the documentation: http://pandas.pydata.org/pandas-docs/stable/indexing.html#indexing-view-versus-copy\n",
      "  app.launch_new_instance()\n"
     ]
    }
   ],
   "source": [
    "store_quadrants_zips_old_stores=pd.merge(store_quadrants_zips_old_stores,store_address_SFTP,on=\"location_id\",how=\"left\")\n",
    "store_quadrants_zips_old_stores['Dist_miles']=np.nan\n",
    "store_quadrants_zips_old_stores=store_quadrants_zips_old_stores.reset_index()\n",
    "del store_quadrants_zips_old_stores['index']\n",
    "\n",
    "for i in range(len(store_quadrants_zips_old_stores)):\n",
    "    store_center=[store_quadrants_zips_old_stores['latitude_meas'][i],store_quadrants_zips_old_stores['longitude_meas'][i]]\n",
    "    zip_cd=store_quadrants_zips_old_stores['zip_cd'][i]\n",
    "    if zip_cd in zip_centers.keys():\n",
    "        store_quadrants_zips_old_stores['Dist_miles'][i]=haversine(store_center,zip_centers[zip_cd],miles=True)\n",
    "    else:\n",
    "        try:\n",
    "            zip_center_of_not_in_ren=zipcodes.matching(zip_cd)[0]['lat'],zipcodes.matching(zip_cd)[0]['long']\n",
    "            store_quadrants_zips_old_stores['Dist_miles'][i]=haversine(store_center,zip_center_of_not_in_ren,miles=True)\n",
    "        except:\n",
    "            store_quadrants_zips_old_stores['Dist_miles'][i]=np.nan\n",
    "            \n",
    "    "
   ]
  },
  {
   "cell_type": "code",
   "execution_count": 19,
   "metadata": {},
   "outputs": [
    {
     "data": {
      "text/plain": [
       "(20442, 10)"
      ]
     },
     "execution_count": 19,
     "metadata": {},
     "output_type": "execute_result"
    }
   ],
   "source": [
    "store_quadrants_zips_old_stores=store_quadrants_zips_old_stores[(store_quadrants_zips_old_stores['revenue_flag']!=\"S\") | (store_quadrants_zips_old_stores['Dist_miles']<=20)]\n",
    "store_quadrants_zips_old_stores.shape\n"
   ]
  },
  {
   "cell_type": "code",
   "execution_count": 20,
   "metadata": {},
   "outputs": [
    {
     "data": {
      "text/html": [
       "<div>\n",
       "<style>\n",
       "    .dataframe thead tr:only-child th {\n",
       "        text-align: right;\n",
       "    }\n",
       "\n",
       "    .dataframe thead th {\n",
       "        text-align: left;\n",
       "    }\n",
       "\n",
       "    .dataframe tbody tr th {\n",
       "        vertical-align: top;\n",
       "    }\n",
       "</style>\n",
       "<table border=\"1\" class=\"dataframe\">\n",
       "  <thead>\n",
       "    <tr style=\"text-align: right;\">\n",
       "      <th></th>\n",
       "      <th>location_id</th>\n",
       "      <th>open_label</th>\n",
       "      <th>Quadrant</th>\n",
       "      <th>Quad_defined_method</th>\n",
       "      <th>latitude_meas</th>\n",
       "      <th>longitude_meas</th>\n",
       "      <th>store_zip</th>\n",
       "      <th>Dist_miles</th>\n",
       "      <th>zip_cd</th>\n",
       "      <th>revenue_flag</th>\n",
       "    </tr>\n",
       "  </thead>\n",
       "  <tbody>\n",
       "    <tr>\n",
       "      <th>0</th>\n",
       "      <td>4667</td>\n",
       "      <td>Open</td>\n",
       "      <td>Quadrant III</td>\n",
       "      <td>2018Q4_defined</td>\n",
       "      <td>33.417099</td>\n",
       "      <td>-111.769785</td>\n",
       "      <td>85213</td>\n",
       "      <td>store_zip</td>\n",
       "      <td>85213</td>\n",
       "      <td>zips_in_10</td>\n",
       "    </tr>\n",
       "    <tr>\n",
       "      <th>1</th>\n",
       "      <td>4667</td>\n",
       "      <td>Open</td>\n",
       "      <td>Quadrant III</td>\n",
       "      <td>2018Q4_defined</td>\n",
       "      <td>33.417099</td>\n",
       "      <td>-111.769785</td>\n",
       "      <td>85213</td>\n",
       "      <td>8.70104</td>\n",
       "      <td>85244</td>\n",
       "      <td>zips_in_10</td>\n",
       "    </tr>\n",
       "  </tbody>\n",
       "</table>\n",
       "</div>"
      ],
      "text/plain": [
       "  location_id open_label      Quadrant Quad_defined_method  latitude_meas  \\\n",
       "0        4667       Open  Quadrant III      2018Q4_defined      33.417099   \n",
       "1        4667       Open  Quadrant III      2018Q4_defined      33.417099   \n",
       "\n",
       "   longitude_meas store_zip Dist_miles zip_cd revenue_flag  \n",
       "0     -111.769785     85213  store_zip  85213   zips_in_10  \n",
       "1     -111.769785     85213    8.70104  85244   zips_in_10  "
      ]
     },
     "execution_count": 20,
     "metadata": {},
     "output_type": "execute_result"
    }
   ],
   "source": [
    "store_quadrants_zips_new_stores.head(2)"
   ]
  },
  {
   "cell_type": "code",
   "execution_count": 21,
   "metadata": {},
   "outputs": [
    {
     "data": {
      "text/html": [
       "<div>\n",
       "<style>\n",
       "    .dataframe thead tr:only-child th {\n",
       "        text-align: right;\n",
       "    }\n",
       "\n",
       "    .dataframe thead th {\n",
       "        text-align: left;\n",
       "    }\n",
       "\n",
       "    .dataframe tbody tr th {\n",
       "        vertical-align: top;\n",
       "    }\n",
       "</style>\n",
       "<table border=\"1\" class=\"dataframe\">\n",
       "  <thead>\n",
       "    <tr style=\"text-align: right;\">\n",
       "      <th></th>\n",
       "      <th>location_id</th>\n",
       "      <th>open_label</th>\n",
       "      <th>Quadrant</th>\n",
       "      <th>Quad_defined_method</th>\n",
       "      <th>zip_cd</th>\n",
       "      <th>revenue_flag</th>\n",
       "      <th>latitude_meas</th>\n",
       "      <th>longitude_meas</th>\n",
       "      <th>store_zip</th>\n",
       "      <th>Dist_miles</th>\n",
       "    </tr>\n",
       "  </thead>\n",
       "  <tbody>\n",
       "    <tr>\n",
       "      <th>0</th>\n",
       "      <td>1</td>\n",
       "      <td>Open</td>\n",
       "      <td>Quadrant I</td>\n",
       "      <td>2018Q4_defined</td>\n",
       "      <td>43232</td>\n",
       "      <td>P</td>\n",
       "      <td>39.913636</td>\n",
       "      <td>-82.914789</td>\n",
       "      <td>43232</td>\n",
       "      <td>2.717654</td>\n",
       "    </tr>\n",
       "    <tr>\n",
       "      <th>1</th>\n",
       "      <td>1</td>\n",
       "      <td>Open</td>\n",
       "      <td>Quadrant I</td>\n",
       "      <td>2018Q4_defined</td>\n",
       "      <td>43209</td>\n",
       "      <td>P</td>\n",
       "      <td>39.913636</td>\n",
       "      <td>-82.914789</td>\n",
       "      <td>43232</td>\n",
       "      <td>3.095917</td>\n",
       "    </tr>\n",
       "  </tbody>\n",
       "</table>\n",
       "</div>"
      ],
      "text/plain": [
       "  location_id open_label    Quadrant Quad_defined_method zip_cd revenue_flag  \\\n",
       "0           1       Open  Quadrant I      2018Q4_defined  43232            P   \n",
       "1           1       Open  Quadrant I      2018Q4_defined  43209            P   \n",
       "\n",
       "   latitude_meas  longitude_meas store_zip  Dist_miles  \n",
       "0      39.913636      -82.914789     43232    2.717654  \n",
       "1      39.913636      -82.914789     43232    3.095917  "
      ]
     },
     "execution_count": 21,
     "metadata": {},
     "output_type": "execute_result"
    }
   ],
   "source": [
    "store_quadrants_zips_old_stores.head(2)"
   ]
  },
  {
   "cell_type": "code",
   "execution_count": 22,
   "metadata": {},
   "outputs": [
    {
     "name": "stdout",
     "output_type": "stream",
     "text": [
      "1399\n"
     ]
    },
    {
     "data": {
      "text/html": [
       "<div>\n",
       "<style>\n",
       "    .dataframe thead tr:only-child th {\n",
       "        text-align: right;\n",
       "    }\n",
       "\n",
       "    .dataframe thead th {\n",
       "        text-align: left;\n",
       "    }\n",
       "\n",
       "    .dataframe tbody tr th {\n",
       "        vertical-align: top;\n",
       "    }\n",
       "</style>\n",
       "<table border=\"1\" class=\"dataframe\">\n",
       "  <thead>\n",
       "    <tr style=\"text-align: right;\">\n",
       "      <th></th>\n",
       "      <th>location_id</th>\n",
       "      <th>Quadrant</th>\n",
       "      <th>store_zip</th>\n",
       "      <th>Quad_defined_method</th>\n",
       "      <th>latitude_meas</th>\n",
       "      <th>longitude_meas</th>\n",
       "      <th>revenue_flag</th>\n",
       "      <th>zip_cd</th>\n",
       "      <th>Dist_miles</th>\n",
       "    </tr>\n",
       "  </thead>\n",
       "  <tbody>\n",
       "    <tr>\n",
       "      <th>0</th>\n",
       "      <td>4667</td>\n",
       "      <td>Quadrant III</td>\n",
       "      <td>85213</td>\n",
       "      <td>2018Q4_defined</td>\n",
       "      <td>33.417099</td>\n",
       "      <td>-111.769785</td>\n",
       "      <td>zips_in_10</td>\n",
       "      <td>85213</td>\n",
       "      <td>store_zip</td>\n",
       "    </tr>\n",
       "    <tr>\n",
       "      <th>1</th>\n",
       "      <td>4667</td>\n",
       "      <td>Quadrant III</td>\n",
       "      <td>85213</td>\n",
       "      <td>2018Q4_defined</td>\n",
       "      <td>33.417099</td>\n",
       "      <td>-111.769785</td>\n",
       "      <td>zips_in_10</td>\n",
       "      <td>85244</td>\n",
       "      <td>8.70104</td>\n",
       "    </tr>\n",
       "  </tbody>\n",
       "</table>\n",
       "</div>"
      ],
      "text/plain": [
       "  location_id      Quadrant store_zip Quad_defined_method  latitude_meas  \\\n",
       "0        4667  Quadrant III     85213      2018Q4_defined      33.417099   \n",
       "1        4667  Quadrant III     85213      2018Q4_defined      33.417099   \n",
       "\n",
       "   longitude_meas revenue_flag zip_cd Dist_miles  \n",
       "0     -111.769785   zips_in_10  85213  store_zip  \n",
       "1     -111.769785   zips_in_10  85244    8.70104  "
      ]
     },
     "execution_count": 22,
     "metadata": {},
     "output_type": "execute_result"
    }
   ],
   "source": [
    "output_quadrants_All=store_quadrants_zips_new_stores.append(store_quadrants_zips_old_stores)\n",
    "output_quadrants_All=output_quadrants_All[['location_id','Quadrant','store_zip','Quad_defined_method','latitude_meas','longitude_meas','revenue_flag','zip_cd','Dist_miles']]\n",
    "\n",
    "print(len(output_quadrants_All['location_id'].unique()))\n",
    "output_quadrants_All.head(2)"
   ]
  },
  {
   "cell_type": "markdown",
   "metadata": {},
   "source": [
    "# SOTF"
   ]
  },
  {
   "cell_type": "code",
   "execution_count": 23,
   "metadata": {},
   "outputs": [
    {
     "name": "stdout",
     "output_type": "stream",
     "text": [
      "(200, 4)\n",
      "(3, 4)\n"
     ]
    },
    {
     "data": {
      "text/html": [
       "<div>\n",
       "<style>\n",
       "    .dataframe thead tr:only-child th {\n",
       "        text-align: right;\n",
       "    }\n",
       "\n",
       "    .dataframe thead th {\n",
       "        text-align: left;\n",
       "    }\n",
       "\n",
       "    .dataframe tbody tr th {\n",
       "        vertical-align: top;\n",
       "    }\n",
       "</style>\n",
       "<table border=\"1\" class=\"dataframe\">\n",
       "  <thead>\n",
       "    <tr style=\"text-align: right;\">\n",
       "      <th></th>\n",
       "      <th>location_id</th>\n",
       "      <th>latitude_meas</th>\n",
       "      <th>longitude_meas</th>\n",
       "      <th>store_zip</th>\n",
       "    </tr>\n",
       "  </thead>\n",
       "  <tbody>\n",
       "    <tr>\n",
       "      <th>134</th>\n",
       "      <td>4693</td>\n",
       "      <td>NaN</td>\n",
       "      <td>NaN</td>\n",
       "      <td>NaN</td>\n",
       "    </tr>\n",
       "    <tr>\n",
       "      <th>201</th>\n",
       "      <td>4690</td>\n",
       "      <td>NaN</td>\n",
       "      <td>NaN</td>\n",
       "      <td>NaN</td>\n",
       "    </tr>\n",
       "    <tr>\n",
       "      <th>202</th>\n",
       "      <td>5383</td>\n",
       "      <td>NaN</td>\n",
       "      <td>NaN</td>\n",
       "      <td>NaN</td>\n",
       "    </tr>\n",
       "  </tbody>\n",
       "</table>\n",
       "</div>"
      ],
      "text/plain": [
       "    location_id  latitude_meas  longitude_meas store_zip\n",
       "134        4693            NaN             NaN       NaN\n",
       "201        4690            NaN             NaN       NaN\n",
       "202        5383            NaN             NaN       NaN"
      ]
     },
     "execution_count": 23,
     "metadata": {},
     "output_type": "execute_result"
    }
   ],
   "source": [
    "SOTF_df=SOTF_list[['location_id']]\n",
    "SOTF_df=pd.merge(SOTF_df,store_address_SFTP,on=\"location_id\",how=\"left\")\n",
    "\n",
    "SOTF_df_old=SOTF_df[~pd.isnull(SOTF_df['latitude_meas'])]\n",
    "print(SOTF_df_old.shape)\n",
    "SOTF_df_new_no_address=SOTF_df[pd.isnull(SOTF_df['latitude_meas'])]\n",
    "print(SOTF_df_new_no_address.shape)\n",
    "SOTF_df_new_no_address"
   ]
  },
  {
   "cell_type": "code",
   "execution_count": null,
   "metadata": {},
   "outputs": [],
   "source": []
  },
  {
   "cell_type": "code",
   "execution_count": 24,
   "metadata": {},
   "outputs": [
    {
     "name": "stdout",
     "output_type": "stream",
     "text": [
      "['11696 NORTHEAST 76TH STREET, ORCHARD PLAZA, VANCOUVER, WA, 98662-3941', '5636 U.S. 60, PEA RIDGE SHOPPING CENTER, HUNTINGTON, WV, 25705', '100 CROSSROADS PLAZA, KMART SHOPPING CENTER, MOUNT PLEASANT, PA, 15666']\n"
     ]
    },
    {
     "name": "stderr",
     "output_type": "stream",
     "text": [
      "/usr/local/lib/python3.6/site-packages/ipykernel_launcher.py:15: SettingWithCopyWarning: \n",
      "A value is trying to be set on a copy of a slice from a DataFrame\n",
      "\n",
      "See the caveats in the documentation: http://pandas.pydata.org/pandas-docs/stable/indexing.html#indexing-view-versus-copy\n",
      "  from ipykernel import kernelapp as app\n",
      "/usr/local/lib/python3.6/site-packages/ipykernel_launcher.py:16: SettingWithCopyWarning: \n",
      "A value is trying to be set on a copy of a slice from a DataFrame\n",
      "\n",
      "See the caveats in the documentation: http://pandas.pydata.org/pandas-docs/stable/indexing.html#indexing-view-versus-copy\n",
      "  app.launch_new_instance()\n",
      "/usr/local/lib/python3.6/site-packages/ipykernel_launcher.py:17: SettingWithCopyWarning: \n",
      "A value is trying to be set on a copy of a slice from a DataFrame\n",
      "\n",
      "See the caveats in the documentation: http://pandas.pydata.org/pandas-docs/stable/indexing.html#indexing-view-versus-copy\n"
     ]
    }
   ],
   "source": [
    "df_getting_address=SOTF_list[SOTF_list['location_id'].isin(SOTF_df_new_no_address['location_id'].tolist())]\n",
    "df_getting_address=df_getting_address[['location_id','Address 1','Address 2','City','ST','Zip']]\n",
    "df_getting_address['search_key']=df_getting_address['Address 1']+\", \"+df_getting_address['Address 2']+\", \"+df_getting_address['City']+\", \"+df_getting_address['ST']+\", \"+df_getting_address['Zip']\n",
    "print(df_getting_address['search_key'].tolist())\n",
    "# Manually serach google map\n",
    "dict_getting_address={}\n",
    "dict_getting_address.update({\"4693\":{\"GoogleAddress\":\"11696 NE 76th St, Vancouver, WA 98662\",\"GoogleCoor\":[45.6788111,-122.5536852]}})\n",
    "dict_getting_address.update({\"4690\":{\"GoogleAddress\":\"5636 US-60, Huntington, WV 25705\",\"GoogleCoor\":[38.4093679,-82.3245243]}})\n",
    "dict_getting_address.update({\"5383\":{\"GoogleAddress\":\"100 Crossroads Plaza, Mt Pleasant, PA 15666\",\"GoogleCoor\":[40.1252545,-79.5510085]}})\n",
    "\n",
    "SOTF_df_new_no_address=SOTF_df_new_no_address.reset_index()\n",
    "\n",
    "for i in range(len(SOTF_df_new_no_address)):\n",
    "    store_num=SOTF_df_new_no_address['location_id'][i]\n",
    "    SOTF_df_new_no_address['latitude_meas'][i]=dict_getting_address[store_num]['GoogleCoor'][0]\n",
    "    SOTF_df_new_no_address['longitude_meas'][i]=dict_getting_address[store_num]['GoogleCoor'][1]\n",
    "    SOTF_df_new_no_address['store_zip'][i]=dict_getting_address[store_num]['GoogleAddress'][-5:]\n",
    "del SOTF_df_new_no_address['index']"
   ]
  },
  {
   "cell_type": "code",
   "execution_count": 25,
   "metadata": {},
   "outputs": [
    {
     "name": "stdout",
     "output_type": "stream",
     "text": [
      "(46, 6)\n"
     ]
    }
   ],
   "source": [
    "SOTF_df=SOTF_df_old.append(SOTF_df_new_no_address)\n",
    "\n",
    "SOTF_df_zips=pd.merge(SOTF_df,store_zip_label,on=\"location_id\",how=\"left\")\n",
    "\n",
    "SOTF_df_zips_new_stores=SOTF_df_zips[pd.isnull(SOTF_df_zips['revenue_flag'])]\n",
    "print(SOTF_df_zips_new_stores.shape)\n",
    "\n",
    "SOTF_df_zips_old_stores=SOTF_df_zips[~pd.isnull(SOTF_df_zips['revenue_flag'])]\n",
    "\n",
    "SOTF_df_zips_new_stores=SOTF_df_zips_new_stores.reset_index()\n",
    "del SOTF_df_zips_new_stores['index']\n",
    "\n",
    "SOTF_df_zips_old_stores=SOTF_df_zips_old_stores.reset_index()\n",
    "del SOTF_df_zips_old_stores['index']\n"
   ]
  },
  {
   "cell_type": "code",
   "execution_count": 26,
   "metadata": {},
   "outputs": [
    {
     "name": "stdout",
     "output_type": "stream",
     "text": [
      "(1165, 7)\n"
     ]
    },
    {
     "data": {
      "text/html": [
       "<div>\n",
       "<style>\n",
       "    .dataframe thead tr:only-child th {\n",
       "        text-align: right;\n",
       "    }\n",
       "\n",
       "    .dataframe thead th {\n",
       "        text-align: left;\n",
       "    }\n",
       "\n",
       "    .dataframe tbody tr th {\n",
       "        vertical-align: top;\n",
       "    }\n",
       "</style>\n",
       "<table border=\"1\" class=\"dataframe\">\n",
       "  <thead>\n",
       "    <tr style=\"text-align: right;\">\n",
       "      <th></th>\n",
       "      <th>location_id</th>\n",
       "      <th>latitude_meas</th>\n",
       "      <th>longitude_meas</th>\n",
       "      <th>store_zip</th>\n",
       "      <th>Dist_miles</th>\n",
       "      <th>zip_cd</th>\n",
       "      <th>revenue_flag</th>\n",
       "    </tr>\n",
       "  </thead>\n",
       "  <tbody>\n",
       "    <tr>\n",
       "      <th>0</th>\n",
       "      <td>4667</td>\n",
       "      <td>33.417099</td>\n",
       "      <td>-111.769785</td>\n",
       "      <td>85213</td>\n",
       "      <td>store_zip</td>\n",
       "      <td>85213</td>\n",
       "      <td>zips_in_10</td>\n",
       "    </tr>\n",
       "    <tr>\n",
       "      <th>1</th>\n",
       "      <td>4667</td>\n",
       "      <td>33.417099</td>\n",
       "      <td>-111.769785</td>\n",
       "      <td>85213</td>\n",
       "      <td>8.70104</td>\n",
       "      <td>85244</td>\n",
       "      <td>zips_in_10</td>\n",
       "    </tr>\n",
       "  </tbody>\n",
       "</table>\n",
       "</div>"
      ],
      "text/plain": [
       "  location_id  latitude_meas  longitude_meas store_zip Dist_miles zip_cd  \\\n",
       "0        4667      33.417099     -111.769785     85213  store_zip  85213   \n",
       "1        4667      33.417099     -111.769785     85213    8.70104  85244   \n",
       "\n",
       "  revenue_flag  \n",
       "0   zips_in_10  \n",
       "1   zips_in_10  "
      ]
     },
     "execution_count": 26,
     "metadata": {},
     "output_type": "execute_result"
    }
   ],
   "source": [
    "df_zips_for_new_SOTF=pd.DataFrame()\n",
    "\n",
    "del SOTF_df_zips_new_stores['zip_cd']\n",
    "del SOTF_df_zips_new_stores['revenue_flag']\n",
    "\n",
    "for i in range(len(SOTF_df_zips_new_stores)):\n",
    "    store_num=SOTF_df_zips_new_stores['location_id'][i]\n",
    "    store_center=[SOTF_df_zips_new_stores['latitude_meas'][i],SOTF_df_zips_new_stores['longitude_meas'][i]]\n",
    "    \n",
    "    store_zip_df=pd.DataFrame({\"location_id\":store_num,'zip_cd':SOTF_df_zips_new_stores['store_zip'][i],\"Dist_miles\":\"store_zip\"},index=[0])\n",
    "    for zip_cd in zip_centers:\n",
    "        dist=haversine(zip_centers[zip_cd],store_center,miles=True)\n",
    "        if dist<=10:\n",
    "            df=pd.DataFrame({\"location_id\":store_num,'zip_cd':zip_cd,\"Dist_miles\":dist},index=[0])\n",
    "            store_zip_df=store_zip_df.append(df)\n",
    "    df_zips_for_new_SOTF=df_zips_for_new_SOTF.append(store_zip_df)\n",
    "df_zips_for_new_SOTF['revenue_flag']=\"zips_in_10\"\n",
    "SOTF_df_zips_new_stores=pd.merge(SOTF_df_zips_new_stores,df_zips_for_new_SOTF,on=\"location_id\",how=\"left\")\n",
    "\n",
    "print(SOTF_df_zips_new_stores.shape)\n",
    "SOTF_df_zips_new_stores.head(2)"
   ]
  },
  {
   "cell_type": "code",
   "execution_count": 27,
   "metadata": {},
   "outputs": [
    {
     "name": "stderr",
     "output_type": "stream",
     "text": [
      "/usr/local/lib/python3.6/site-packages/ipykernel_launcher.py:9: SettingWithCopyWarning: \n",
      "A value is trying to be set on a copy of a slice from a DataFrame\n",
      "\n",
      "See the caveats in the documentation: http://pandas.pydata.org/pandas-docs/stable/indexing.html#indexing-view-versus-copy\n",
      "  if __name__ == '__main__':\n",
      "/usr/local/lib/python3.6/site-packages/ipykernel_launcher.py:13: SettingWithCopyWarning: \n",
      "A value is trying to be set on a copy of a slice from a DataFrame\n",
      "\n",
      "See the caveats in the documentation: http://pandas.pydata.org/pandas-docs/stable/indexing.html#indexing-view-versus-copy\n",
      "  del sys.path[0]\n",
      "/usr/local/lib/python3.6/site-packages/ipykernel_launcher.py:15: SettingWithCopyWarning: \n",
      "A value is trying to be set on a copy of a slice from a DataFrame\n",
      "\n",
      "See the caveats in the documentation: http://pandas.pydata.org/pandas-docs/stable/indexing.html#indexing-view-versus-copy\n",
      "  from ipykernel import kernelapp as app\n"
     ]
    }
   ],
   "source": [
    "SOTF_df_zips_old_stores['Dist_miles']=np.nan\n",
    "SOTF_df_zips_old_stores=SOTF_df_zips_old_stores.reset_index()\n",
    "del SOTF_df_zips_old_stores['index']\n",
    "\n",
    "for i in range(len(SOTF_df_zips_old_stores)):\n",
    "    store_center=[SOTF_df_zips_old_stores['latitude_meas'][i],SOTF_df_zips_old_stores['longitude_meas'][i]]\n",
    "    zip_cd=SOTF_df_zips_old_stores['zip_cd'][i]\n",
    "    if zip_cd in zip_centers.keys():\n",
    "        SOTF_df_zips_old_stores['Dist_miles'][i]=haversine(store_center,zip_centers[zip_cd],miles=True)\n",
    "    else:\n",
    "        try:\n",
    "            zip_center_of_not_in_ren=zipcodes.matching(zip_cd)[0]['lat'],zipcodes.matching(zip_cd)[0]['long']\n",
    "            SOTF_df_zips_old_stores['Dist_miles'][i]=haversine(store_center,zip_center_of_not_in_ren,miles=True)\n",
    "        except:\n",
    "            SOTF_df_zips_old_stores['Dist_miles'][i]=np.nan\n",
    "            \n",
    "    "
   ]
  },
  {
   "cell_type": "code",
   "execution_count": 28,
   "metadata": {},
   "outputs": [
    {
     "data": {
      "text/plain": [
       "(2750, 7)"
      ]
     },
     "execution_count": 28,
     "metadata": {},
     "output_type": "execute_result"
    }
   ],
   "source": [
    "SOTF_df_zips_old_stores=SOTF_df_zips_old_stores[(SOTF_df_zips_old_stores['revenue_flag']!=\"S\") | (SOTF_df_zips_old_stores['Dist_miles']<=20)]\n",
    "SOTF_df_zips_old_stores.shape\n"
   ]
  },
  {
   "cell_type": "code",
   "execution_count": 29,
   "metadata": {
    "collapsed": true
   },
   "outputs": [],
   "source": [
    "output_SOTF=SOTF_df_zips_new_stores.append(SOTF_df_zips_old_stores)\n",
    "output_SOTF['Quadrant']=\"SOTF\"\n",
    "output_SOTF['Quad_defined_method']=\"SOTF\"\n",
    "\n",
    "output_SOTF=output_SOTF[output_quadrants_All.columns.tolist()]\n",
    "\n"
   ]
  },
  {
   "cell_type": "code",
   "execution_count": 35,
   "metadata": {},
   "outputs": [],
   "source": [
    "df_output_detailed=output_quadrants_All.append(output_SOTF)\n",
    "\n",
    "output_Quad1234_zips=df_output_detailed[df_output_detailed['Quadrant']!=\"SOTF\"]\n",
    "output_Quad1234_zips=output_Quad1234_zips[['zip_cd']].drop_duplicates()\n",
    "output_Quad1234_zips['zip_type']=\"unique_of_all_4_quads\"\n",
    "\n",
    "output_Quad_23_zips=df_output_detailed[df_output_detailed['Quadrant'].isin(['Quadrant II','Quadrant III'])]\n",
    "output_Quad_23_zips=output_Quad_23_zips[['zip_cd']].drop_duplicates()\n",
    "output_Quad_23_zips['zip_type']=\"unique_of_all_quad_II_III\"\n",
    "\n",
    "output_Quad_34_zips=df_output_detailed[df_output_detailed['Quadrant'].isin(['Quadrant III','Quadrant IV'])]\n",
    "output_Quad_34_zips=output_Quad_34_zips[['zip_cd']].drop_duplicates()\n",
    "output_Quad_34_zips['zip_type']=\"unique_of_quad_III_IV\"\n",
    "\n",
    "\n",
    "output_Quad1234_SOTF_zips=df_output_detailed[['zip_cd']].drop_duplicates()\n",
    "output_Quad1234_SOTF_zips['zip_type']=\"Quads_1-4_and_SOTF\"\n",
    "\n",
    "output_Quad_23_SOTF_zips=df_output_detailed[df_output_detailed['Quadrant'].isin(['Quadrant II','Quadrant III','SOTF'])]\n",
    "output_Quad_23_SOTF_zips=output_Quad_23_SOTF_zips[['zip_cd']].drop_duplicates()\n",
    "output_Quad_23_SOTF_zips['zip_type']=\"Quads_2&3_and_SOTF\"\n",
    "\n",
    "output_Quad_34_SOTF_zips=df_output_detailed[df_output_detailed['Quadrant'].isin(['Quadrant III','Quadrant IV','SOTF'])]\n",
    "output_Quad_34_SOTF_zips=output_Quad_34_SOTF_zips[['zip_cd']].drop_duplicates()\n",
    "output_Quad_34_SOTF_zips['zip_type']=\"Quads_3&4_and_SOTF\"\n",
    "\n",
    "output_SOTF_unique_zip=output_SOTF[['zip_cd','revenue_flag']].drop_duplicates().sort_values([\"revenue_flag\",'zip_cd']).drop_duplicates(\"zip_cd\")"
   ]
  },
  {
   "cell_type": "code",
   "execution_count": 36,
   "metadata": {
    "collapsed": true
   },
   "outputs": [],
   "source": [
    "writer=pd.ExcelWriter(\"/home/jian/Projects/Big_Lots/Analysis/2019_Q1/Planner_Request/zips_SOTF_quad_3_gruops_JT_20190425/BL_zips_for_Quad_1-4_and_SOTF_JL_\"+str(datetime.datetime.now().date())+\".xlsx\",engine=\"xlsxwriter\")\n",
    "output_Quad1234_SOTF_zips.to_excel(writer,\"output_Quad1234_SOTF_zips\",index=False)\n",
    "output_SOTF_unique_zip.to_excel(writer,\"output_SOTF_only_zips\",index=False)\n",
    "output_Quad1234_zips.to_excel(writer,\"output_quad_1-4_only_zips\",index=False)\n",
    "df_output_detailed.to_excel(writer,\"All_details\",index=False)\n",
    "writer.save()"
   ]
  },
  {
   "cell_type": "code",
   "execution_count": 37,
   "metadata": {
    "collapsed": true
   },
   "outputs": [],
   "source": [
    "writer=pd.ExcelWriter(\"/home/jian/Projects/Big_Lots/Analysis/2019_Q1/Planner_Request/zips_SOTF_quad_3_gruops_JT_20190425/BL_zips_for_Quad_3and4_and_SOTF_JL_\"+str(datetime.datetime.now().date())+\".xlsx\",engine=\"xlsxwriter\")\n",
    "output_Quad_34_SOTF_zips.to_excel(writer,\"output_Quad_34_SOTF_zips\",index=False)\n",
    "output_SOTF_unique_zip.to_excel(writer,\"output_SOTF_only_zips\",index=False)\n",
    "output_Quad_34_zips.to_excel(writer,\"output_quad_34_only_zips\",index=False)\n",
    "df_output_detailed.to_excel(writer,\"All_details\",index=False)\n",
    "writer.save()"
   ]
  },
  {
   "cell_type": "code",
   "execution_count": 38,
   "metadata": {
    "collapsed": true
   },
   "outputs": [],
   "source": [
    "writer=pd.ExcelWriter(\"/home/jian/Projects/Big_Lots/Analysis/2019_Q1/Planner_Request/zips_SOTF_quad_3_gruops_JT_20190425/BL_zips_for_Quad_2and3_and_SOTF_JL_\"+str(datetime.datetime.now().date())+\".xlsx\",engine=\"xlsxwriter\")\n",
    "output_Quad_23_SOTF_zips.to_excel(writer,\"output_Quad_23_SOTF_zips\",index=False)\n",
    "output_SOTF_unique_zip.to_excel(writer,\"output_SOTF_only_zips\",index=False)\n",
    "output_Quad_23_zips.to_excel(writer,\"output_quad_23_only_zips\",index=False)\n",
    "df_output_detailed.to_excel(writer,\"All_details\",index=False)\n",
    "writer.save()"
   ]
  },
  {
   "cell_type": "code",
   "execution_count": null,
   "metadata": {
    "collapsed": true
   },
   "outputs": [],
   "source": []
  }
 ],
 "metadata": {
  "kernelspec": {
   "display_name": "Python 3",
   "language": "python",
   "name": "python3"
  },
  "language_info": {
   "codemirror_mode": {
    "name": "ipython",
    "version": 3
   },
   "file_extension": ".py",
   "mimetype": "text/x-python",
   "name": "python",
   "nbconvert_exporter": "python",
   "pygments_lexer": "ipython3",
   "version": "3.6.1"
  }
 },
 "nbformat": 4,
 "nbformat_minor": 2
}
