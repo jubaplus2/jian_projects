{
 "cells": [
  {
   "cell_type": "code",
   "execution_count": 7,
   "metadata": {
    "collapsed": true
   },
   "outputs": [],
   "source": [
    "import pandas as pd\n",
    "import os\n",
    "import numpy as np"
   ]
  },
  {
   "cell_type": "code",
   "execution_count": 2,
   "metadata": {},
   "outputs": [
    {
     "data": {
      "text/plain": [
       "(3483373, 8)"
      ]
     },
     "execution_count": 2,
     "metadata": {},
     "output_type": "execute_result"
    }
   ],
   "source": [
    "Cum_Q4_2018_TMR=pd.read_csv(\"/home/jian/Projects/Big_Lots/TMR/TMR_data/Up_to_2018Q4/BL_MMM_long_JL_2019-04-30.csv\",dtype=str)\n",
    "Cum_Q4_2018_TMR.shape"
   ]
  },
  {
   "cell_type": "code",
   "execution_count": 3,
   "metadata": {},
   "outputs": [
    {
     "data": {
      "text/html": [
       "<div>\n",
       "<style>\n",
       "    .dataframe thead tr:only-child th {\n",
       "        text-align: right;\n",
       "    }\n",
       "\n",
       "    .dataframe thead th {\n",
       "        text-align: left;\n",
       "    }\n",
       "\n",
       "    .dataframe tbody tr th {\n",
       "        vertical-align: top;\n",
       "    }\n",
       "</style>\n",
       "<table border=\"1\" class=\"dataframe\">\n",
       "  <thead>\n",
       "    <tr style=\"text-align: right;\">\n",
       "      <th></th>\n",
       "      <th>cleaned dma</th>\n",
       "      <th>click</th>\n",
       "      <th>cost</th>\n",
       "      <th>impression</th>\n",
       "      <th>media</th>\n",
       "      <th>placement</th>\n",
       "      <th>submedia</th>\n",
       "      <th>week date</th>\n",
       "    </tr>\n",
       "  </thead>\n",
       "  <tbody>\n",
       "    <tr>\n",
       "      <th>0</th>\n",
       "      <td>Los Angeles, CA</td>\n",
       "      <td>6687</td>\n",
       "      <td>309.818159116938</td>\n",
       "      <td>679747</td>\n",
       "      <td>Email</td>\n",
       "      <td>xx</td>\n",
       "      <td>xx</td>\n",
       "      <td>2016-09-25</td>\n",
       "    </tr>\n",
       "    <tr>\n",
       "      <th>1</th>\n",
       "      <td>Dallas-Ft. Worth, TX</td>\n",
       "      <td>3185</td>\n",
       "      <td>147.56160522751262</td>\n",
       "      <td>323753</td>\n",
       "      <td>Email</td>\n",
       "      <td>xx</td>\n",
       "      <td>xx</td>\n",
       "      <td>2016-09-25</td>\n",
       "    </tr>\n",
       "  </tbody>\n",
       "</table>\n",
       "</div>"
      ],
      "text/plain": [
       "            cleaned dma click                cost impression  media placement  \\\n",
       "0       Los Angeles, CA  6687    309.818159116938     679747  Email        xx   \n",
       "1  Dallas-Ft. Worth, TX  3185  147.56160522751262     323753  Email        xx   \n",
       "\n",
       "  submedia   week date  \n",
       "0       xx  2016-09-25  \n",
       "1       xx  2016-09-25  "
      ]
     },
     "execution_count": 3,
     "metadata": {},
     "output_type": "execute_result"
    }
   ],
   "source": [
    "Cum_Q4_2018_TMR.head(2)"
   ]
  },
  {
   "cell_type": "code",
   "execution_count": 4,
   "metadata": {},
   "outputs": [
    {
     "data": {
      "text/plain": [
       "(47, 8)"
      ]
     },
     "execution_count": 4,
     "metadata": {},
     "output_type": "execute_result"
    }
   ],
   "source": [
    "recent_1_week_sample=Cum_Q4_2018_TMR[Cum_Q4_2018_TMR['week date']==\"2018-12-16\"]\n",
    "recent_1_week_sample.shape"
   ]
  },
  {
   "cell_type": "code",
   "execution_count": 5,
   "metadata": {
    "collapsed": true
   },
   "outputs": [],
   "source": [
    "mapping_in_TMR=Cum_Q4_2018_TMR[['media','submedia','placement']].drop_duplicates()\n",
    "mapping_in_TMR=mapping_in_TMR.sort_values(['media','submedia','placement'])"
   ]
  },
  {
   "cell_type": "code",
   "execution_count": 8,
   "metadata": {},
   "outputs": [],
   "source": [
    "mapping_in_TMR['cleaned dma']=np.nan\n",
    "mapping_in_TMR['week date']=np.nan\n"
   ]
  },
  {
   "cell_type": "code",
   "execution_count": 9,
   "metadata": {
    "collapsed": true
   },
   "outputs": [],
   "source": [
    "import datetime\n",
    "\n",
    "writer=pd.ExcelWriter(\"./BL_TotalMediaRun_TMR_data_layout_sameple_JL_\"+str(datetime.datetime.now().date())+\".xlsx\",engine=\"xlsxwriter\")\n",
    "\n",
    "mapping_in_TMR.to_excel(writer,\"mapping_layout\",index=False)\n",
    "recent_1_week_sample.to_excel(writer,\"sample_1_week\",index=False)\n",
    "\n",
    "writer.save()"
   ]
  },
  {
   "cell_type": "code",
   "execution_count": 11,
   "metadata": {},
   "outputs": [
    {
     "data": {
      "text/plain": [
       "(3483373, 8)"
      ]
     },
     "execution_count": 11,
     "metadata": {},
     "output_type": "execute_result"
    }
   ],
   "source": [
    "Cum_Q4_2018_TMR.shape"
   ]
  },
  {
   "cell_type": "code",
   "execution_count": 12,
   "metadata": {},
   "outputs": [],
   "source": [
    "Cum_Q4_2018_TMR['cost']=Cum_Q4_2018_TMR['cost'].astype(float)\n",
    "result=Cum_Q4_2018_TMR.groupby(['media'])['cost'].sum().to_frame().reset_index()"
   ]
  },
  {
   "cell_type": "code",
   "execution_count": null,
   "metadata": {},
   "outputs": [],
   "source": []
  },
  {
   "cell_type": "code",
   "execution_count": null,
   "metadata": {
    "collapsed": true
   },
   "outputs": [],
   "source": []
  }
 ],
 "metadata": {
  "kernelspec": {
   "display_name": "Python 3",
   "language": "python",
   "name": "python3"
  },
  "language_info": {
   "codemirror_mode": {
    "name": "ipython",
    "version": 3
   },
   "file_extension": ".py",
   "mimetype": "text/x-python",
   "name": "python",
   "nbconvert_exporter": "python",
   "pygments_lexer": "ipython3",
   "version": "3.6.1"
  }
 },
 "nbformat": 4,
 "nbformat_minor": 2
}
