{
 "cells": [
  {
   "cell_type": "code",
   "execution_count": 1,
   "metadata": {},
   "outputs": [
    {
     "data": {
      "text/plain": [
       "'/home/jian/Projects/Big_Lots/Analysis/2019_Q4/Planner_Request/BR_audience_furniture_browser'"
      ]
     },
     "execution_count": 1,
     "metadata": {},
     "output_type": "execute_result"
    }
   ],
   "source": [
    "import pandas as pd\n",
    "import numpy as np\n",
    "import datetime\n",
    "import os\n",
    "\n",
    "os.getcwd()"
   ]
  },
  {
   "cell_type": "code",
   "execution_count": 2,
   "metadata": {},
   "outputs": [
    {
     "data": {
      "text/plain": [
       "['.ipynb_checkpoints',\n",
       " 'slicing_and_uploading.ipynb',\n",
       " 'upload_test',\n",
       " 'BL_furniture_browser_test_group_JL_+str(datetime.datetime.now().date()).csv',\n",
       " 'BL_furniture_browser_control_group_JL_+str(datetime.datetime.now().date()).csv',\n",
       " 'Performance_Reporting.ipynb',\n",
       " 'BL_performance_of_furniture_browser_groups_JL_2020-01-22.xlsx',\n",
       " 'matching_with_dcart.ipynb']"
      ]
     },
     "execution_count": 2,
     "metadata": {},
     "output_type": "execute_result"
    }
   ],
   "source": [
    "os.listdir(\"./\")"
   ]
  },
  {
   "cell_type": "code",
   "execution_count": 3,
   "metadata": {},
   "outputs": [],
   "source": [
    "df_all_received=pd.read_csv(\"/home/jian/BigLots/AgilOne/Division_9_Browse_BigLots_20200113073732.csv\",\n",
    "                            dtype=str)\n",
    "df_all_received=df_all_received.rename(columns={\"customersummary_emailhash\":\"Email\",\"customersummary_c_primaryscnhash\":\"customer_id_hashed\"})\n",
    "\n",
    "\n",
    "df_all_received=df_all_received[['customer_id_hashed','Email']]"
   ]
  },
  {
   "cell_type": "code",
   "execution_count": 4,
   "metadata": {},
   "outputs": [
    {
     "data": {
      "text/html": [
       "<div>\n",
       "<style scoped>\n",
       "    .dataframe tbody tr th:only-of-type {\n",
       "        vertical-align: middle;\n",
       "    }\n",
       "\n",
       "    .dataframe tbody tr th {\n",
       "        vertical-align: top;\n",
       "    }\n",
       "\n",
       "    .dataframe thead th {\n",
       "        text-align: right;\n",
       "    }\n",
       "</style>\n",
       "<table border=\"1\" class=\"dataframe\">\n",
       "  <thead>\n",
       "    <tr style=\"text-align: right;\">\n",
       "      <th></th>\n",
       "      <th>segment</th>\n",
       "      <th>customer_id_hashed</th>\n",
       "    </tr>\n",
       "  </thead>\n",
       "  <tbody>\n",
       "    <tr>\n",
       "      <th>0</th>\n",
       "      <td>filtered_out</td>\n",
       "      <td>108954</td>\n",
       "    </tr>\n",
       "    <tr>\n",
       "      <th>1</th>\n",
       "      <td>test_furniture_browser</td>\n",
       "      <td>489861</td>\n",
       "    </tr>\n",
       "  </tbody>\n",
       "</table>\n",
       "</div>"
      ],
      "text/plain": [
       "                  segment  customer_id_hashed\n",
       "0            filtered_out              108954\n",
       "1  test_furniture_browser              489861"
      ]
     },
     "execution_count": 4,
     "metadata": {},
     "output_type": "execute_result"
    }
   ],
   "source": [
    "df_T=pd.read_csv(\"./BL_furniture_browser_test_group_JL_+str(datetime.datetime.now().date()).csv\",dtype=str)\n",
    "df_C=pd.read_csv(\"./BL_furniture_browser_control_group_JL_+str(datetime.datetime.now().date()).csv\",dtype=str)\n",
    "\n",
    "#\n",
    "list_T=df_T['customer_id_hashed'].unique().tolist()\n",
    "list_C=df_C['customer_id_hashed'].unique().tolist()\n",
    "\n",
    "df_all_received['segment']=np.where(df_all_received['customer_id_hashed'].isin(list_T),\"test_furniture_browser\",\n",
    "                                   np.where(df_all_received['customer_id_hashed'].isin(df_C),\"control_furniture_browser\",\"filtered_out\")\n",
    "                                   )\n",
    "\n",
    "df_all_received.groupby('segment')['customer_id_hashed'].nunique().to_frame().reset_index()\n"
   ]
  },
  {
   "cell_type": "code",
   "execution_count": 8,
   "metadata": {},
   "outputs": [
    {
     "data": {
      "text/plain": [
       "(598815, 3)"
      ]
     },
     "execution_count": 8,
     "metadata": {},
     "output_type": "execute_result"
    }
   ],
   "source": [
    "df_all_received.shape"
   ]
  },
  {
   "cell_type": "code",
   "execution_count": 6,
   "metadata": {},
   "outputs": [
    {
     "data": {
      "text/html": [
       "<div>\n",
       "<style scoped>\n",
       "    .dataframe tbody tr th:only-of-type {\n",
       "        vertical-align: middle;\n",
       "    }\n",
       "\n",
       "    .dataframe tbody tr th {\n",
       "        vertical-align: top;\n",
       "    }\n",
       "\n",
       "    .dataframe thead th {\n",
       "        text-align: right;\n",
       "    }\n",
       "</style>\n",
       "<table border=\"1\" class=\"dataframe\">\n",
       "  <thead>\n",
       "    <tr style=\"text-align: right;\">\n",
       "      <th></th>\n",
       "      <th>customer_id_hashed</th>\n",
       "      <th>Email</th>\n",
       "      <th>segment</th>\n",
       "    </tr>\n",
       "  </thead>\n",
       "  <tbody>\n",
       "    <tr>\n",
       "      <th>0</th>\n",
       "      <td>83228bfe2f6d62bb0218751ceb63aa8551e9fd89a999f1...</td>\n",
       "      <td>ad5f11c041c89839c09204f9ce34f5d97ea8ddaa81f1f0...</td>\n",
       "      <td>test_furniture_browser</td>\n",
       "    </tr>\n",
       "    <tr>\n",
       "      <th>1</th>\n",
       "      <td>68d99d05642aef443fe7f99c278f971619dd50fbcfa0c3...</td>\n",
       "      <td>f3bc025a0bb51d1b097ea5a956357114a7948145fdd506...</td>\n",
       "      <td>filtered_out</td>\n",
       "    </tr>\n",
       "    <tr>\n",
       "      <th>2</th>\n",
       "      <td>94245ca46539f480c2490a5e3373f237dbc455094f85b7...</td>\n",
       "      <td>c612188e441b8fef2e5eed0c918fec1d12e23f801b9e69...</td>\n",
       "      <td>test_furniture_browser</td>\n",
       "    </tr>\n",
       "    <tr>\n",
       "      <th>3</th>\n",
       "      <td>9cb62ee4735e6fda4bdc89dac69de97cbb76b4613e7133...</td>\n",
       "      <td>6ad8e6eb407bc919628b2ed48299a60b17099268eba275...</td>\n",
       "      <td>test_furniture_browser</td>\n",
       "    </tr>\n",
       "    <tr>\n",
       "      <th>4</th>\n",
       "      <td>cb48f0ff85296fb531b7c71657d785b2ce00ea294f9192...</td>\n",
       "      <td>4a4ea664627dcee63c5d919817cd237f50637a2fe11dfa...</td>\n",
       "      <td>test_furniture_browser</td>\n",
       "    </tr>\n",
       "  </tbody>\n",
       "</table>\n",
       "</div>"
      ],
      "text/plain": [
       "                                  customer_id_hashed  \\\n",
       "0  83228bfe2f6d62bb0218751ceb63aa8551e9fd89a999f1...   \n",
       "1  68d99d05642aef443fe7f99c278f971619dd50fbcfa0c3...   \n",
       "2  94245ca46539f480c2490a5e3373f237dbc455094f85b7...   \n",
       "3  9cb62ee4735e6fda4bdc89dac69de97cbb76b4613e7133...   \n",
       "4  cb48f0ff85296fb531b7c71657d785b2ce00ea294f9192...   \n",
       "\n",
       "                                               Email                 segment  \n",
       "0  ad5f11c041c89839c09204f9ce34f5d97ea8ddaa81f1f0...  test_furniture_browser  \n",
       "1  f3bc025a0bb51d1b097ea5a956357114a7948145fdd506...            filtered_out  \n",
       "2  c612188e441b8fef2e5eed0c918fec1d12e23f801b9e69...  test_furniture_browser  \n",
       "3  6ad8e6eb407bc919628b2ed48299a60b17099268eba275...  test_furniture_browser  \n",
       "4  4a4ea664627dcee63c5d919817cd237f50637a2fe11dfa...  test_furniture_browser  "
      ]
     },
     "execution_count": 6,
     "metadata": {},
     "output_type": "execute_result"
    }
   ],
   "source": [
    "df_all_received.head(5)"
   ]
  },
  {
   "cell_type": "code",
   "execution_count": 7,
   "metadata": {},
   "outputs": [
    {
     "data": {
      "text/html": [
       "<div>\n",
       "<style scoped>\n",
       "    .dataframe tbody tr th:only-of-type {\n",
       "        vertical-align: middle;\n",
       "    }\n",
       "\n",
       "    .dataframe tbody tr th {\n",
       "        vertical-align: top;\n",
       "    }\n",
       "\n",
       "    .dataframe thead th {\n",
       "        text-align: right;\n",
       "    }\n",
       "</style>\n",
       "<table border=\"1\" class=\"dataframe\">\n",
       "  <thead>\n",
       "    <tr style=\"text-align: right;\">\n",
       "      <th></th>\n",
       "      <th>customer_id_hashed</th>\n",
       "      <th>Email</th>\n",
       "      <th>segment</th>\n",
       "    </tr>\n",
       "  </thead>\n",
       "  <tbody>\n",
       "    <tr>\n",
       "      <th>598811</th>\n",
       "      <td>7421a7731d2ba5b7a99897655fa8371af0b80df60be75f...</td>\n",
       "      <td>5cc56160fbb5355d714c554049e8992ecf809d64c13874...</td>\n",
       "      <td>test_furniture_browser</td>\n",
       "    </tr>\n",
       "    <tr>\n",
       "      <th>598812</th>\n",
       "      <td>0afd4fe942af871f622e24a32421ae708b57fec551fdb2...</td>\n",
       "      <td>af339e6b967cfb98dd56214a84bab9d758817eef60cb58...</td>\n",
       "      <td>filtered_out</td>\n",
       "    </tr>\n",
       "    <tr>\n",
       "      <th>598813</th>\n",
       "      <td>4b8d4ff34318266eaa7de353bf7cdbaeec9fc08263175d...</td>\n",
       "      <td>5152539e943493f9ca9062e4ad7a9578f26242d8cba0f4...</td>\n",
       "      <td>test_furniture_browser</td>\n",
       "    </tr>\n",
       "    <tr>\n",
       "      <th>598814</th>\n",
       "      <td>150ff20934dd822ab39aa959de68acb1bec6d658e22ed8...</td>\n",
       "      <td>0defe87ddacd2dba9f48b527d9153c5afbabb0e1f85b43...</td>\n",
       "      <td>test_furniture_browser</td>\n",
       "    </tr>\n",
       "  </tbody>\n",
       "</table>\n",
       "</div>"
      ],
      "text/plain": [
       "                                       customer_id_hashed  \\\n",
       "598811  7421a7731d2ba5b7a99897655fa8371af0b80df60be75f...   \n",
       "598812  0afd4fe942af871f622e24a32421ae708b57fec551fdb2...   \n",
       "598813  4b8d4ff34318266eaa7de353bf7cdbaeec9fc08263175d...   \n",
       "598814  150ff20934dd822ab39aa959de68acb1bec6d658e22ed8...   \n",
       "\n",
       "                                                    Email  \\\n",
       "598811  5cc56160fbb5355d714c554049e8992ecf809d64c13874...   \n",
       "598812  af339e6b967cfb98dd56214a84bab9d758817eef60cb58...   \n",
       "598813  5152539e943493f9ca9062e4ad7a9578f26242d8cba0f4...   \n",
       "598814  0defe87ddacd2dba9f48b527d9153c5afbabb0e1f85b43...   \n",
       "\n",
       "                       segment  \n",
       "598811  test_furniture_browser  \n",
       "598812            filtered_out  \n",
       "598813  test_furniture_browser  \n",
       "598814  test_furniture_browser  "
      ]
     },
     "execution_count": 7,
     "metadata": {},
     "output_type": "execute_result"
    }
   ],
   "source": [
    "df_all_received.to_csv(\"./BL_all_segments_as_received_AgilOne_JL_\"+str(datetime.datetime.now().date())+\".csv\",index=False)\n",
    "\n",
    "df_all_received.tail(4)"
   ]
  }
 ],
 "metadata": {
  "kernelspec": {
   "display_name": "Python 3",
   "language": "python",
   "name": "python3"
  },
  "language_info": {
   "codemirror_mode": {
    "name": "ipython",
    "version": 3
   },
   "file_extension": ".py",
   "mimetype": "text/x-python",
   "name": "python",
   "nbconvert_exporter": "python",
   "pygments_lexer": "ipython3",
   "version": "3.6.1"
  }
 },
 "nbformat": 4,
 "nbformat_minor": 2
}
