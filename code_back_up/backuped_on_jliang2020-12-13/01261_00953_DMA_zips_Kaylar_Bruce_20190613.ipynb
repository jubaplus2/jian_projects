{
 "cells": [
  {
   "cell_type": "code",
   "execution_count": 1,
   "metadata": {},
   "outputs": [
    {
     "data": {
      "text/plain": [
       "'/home/jian/Projects/Big_Lots/Analysis/2019_Q2/Planner_Requests/zips_2_DMAs_Kaylar_Bruce_20190613'"
      ]
     },
     "execution_count": 1,
     "metadata": {},
     "output_type": "execute_result"
    }
   ],
   "source": [
    "import pandas as pd\n",
    "import numpy as np\n",
    "import json\n",
    "import datetime\n",
    "import os\n",
    "from haversine import haversine\n",
    "zip_centers=json.load(open(\"/home/jian/Docs/Geo_mapping/updated_zip_centers_JL_2019-05-23.json\",\"r\"))\n",
    "os.getcwd()"
   ]
  },
  {
   "cell_type": "code",
   "execution_count": 2,
   "metadata": {},
   "outputs": [
    {
     "name": "stdout",
     "output_type": "stream",
     "text": [
      "2019-06-08\n"
     ]
    },
    {
     "data": {
      "text/plain": [
       "(1406, 1)"
      ]
     },
     "execution_count": 2,
     "metadata": {},
     "output_type": "execute_result"
    }
   ],
   "source": [
    "open_stores_as_20190608=pd.read_csv(\"/home/jian/BiglotsCode/outputs/combined_sales_long_2019-06-08.csv\",\n",
    "                                   dtype=str)\n",
    "max_date=open_stores_as_20190608['week_end_date'].max()\n",
    "print(max_date)\n",
    "open_stores_as_20190608=open_stores_as_20190608[open_stores_as_20190608['week_end_date']==max_date]\n",
    "open_stores_as_20190608.shape\n",
    "\n",
    "open_stores_as_20190608['sales']=open_stores_as_20190608['sales'].astype(float)\n",
    "open_stores_as_20190608=open_stores_as_20190608[open_stores_as_20190608['sales']>0]\n",
    "\n",
    "open_stores_as_20190608=open_stores_as_20190608[['location_id']]\n",
    "open_stores_as_20190608.shape\n"
   ]
  },
  {
   "cell_type": "code",
   "execution_count": 3,
   "metadata": {},
   "outputs": [
    {
     "data": {
      "text/plain": [
       "(1406, 4)"
      ]
     },
     "execution_count": 3,
     "metadata": {},
     "output_type": "execute_result"
    }
   ],
   "source": [
    "store_list=pd.read_table(\"/home/jian/BigLots/static_files/Store_list/MediaStormStores20190601-134302-813.txt\",sep=\"|\",dtype=str)\n",
    "store_list=store_list[['location_id','zip_cd','latitude_meas','longitude_meas']]\n",
    "store_list['latitude_meas']=store_list['latitude_meas'].astype(float)\n",
    "store_list['longitude_meas']=store_list['longitude_meas'].astype(float)\n",
    "\n",
    "store_list['zip_cd']=store_list['zip_cd'].apply(lambda x: x.split(\"-\")[0])\n",
    "\n",
    "open_stores_as_20190608=pd.merge(open_stores_as_20190608,store_list,on=\"location_id\",how=\"left\")\n",
    "open_stores_as_20190608.shape"
   ]
  },
  {
   "cell_type": "code",
   "execution_count": 4,
   "metadata": {},
   "outputs": [
    {
     "data": {
      "text/html": [
       "<div>\n",
       "<style>\n",
       "    .dataframe thead tr:only-child th {\n",
       "        text-align: right;\n",
       "    }\n",
       "\n",
       "    .dataframe thead th {\n",
       "        text-align: left;\n",
       "    }\n",
       "\n",
       "    .dataframe tbody tr th {\n",
       "        vertical-align: top;\n",
       "    }\n",
       "</style>\n",
       "<table border=\"1\" class=\"dataframe\">\n",
       "  <thead>\n",
       "    <tr style=\"text-align: right;\">\n",
       "      <th></th>\n",
       "      <th>location_id</th>\n",
       "      <th>location_desc</th>\n",
       "      <th>open_dt</th>\n",
       "      <th>close_dt</th>\n",
       "      <th>address_line_1</th>\n",
       "      <th>address_line_2</th>\n",
       "      <th>city_nm</th>\n",
       "      <th>state_nm</th>\n",
       "      <th>zip_cd</th>\n",
       "      <th>longitude_meas</th>\n",
       "      <th>latitude_meas</th>\n",
       "      <th>sales_square_feet</th>\n",
       "      <th>furniture_sales_square_feet</th>\n",
       "    </tr>\n",
       "  </thead>\n",
       "  <tbody>\n",
       "    <tr>\n",
       "      <th>0</th>\n",
       "      <td>3</td>\n",
       "      <td>PEACH ORCHARD PLAZA</td>\n",
       "      <td>1988-10-31</td>\n",
       "      <td>NaN</td>\n",
       "      <td>2708 PEACH ORCHARD RD</td>\n",
       "      <td>NaN</td>\n",
       "      <td>AUGUSTA</td>\n",
       "      <td>GA</td>\n",
       "      <td>30906-2408</td>\n",
       "      <td>-000000000082.018921</td>\n",
       "      <td>000000000033.421570</td>\n",
       "      <td>00000000026501.0000</td>\n",
       "      <td>00000000005098.0000</td>\n",
       "    </tr>\n",
       "    <tr>\n",
       "      <th>1</th>\n",
       "      <td>30</td>\n",
       "      <td>SOUTHWOOD PLZ S/C</td>\n",
       "      <td>1984-04-05</td>\n",
       "      <td>NaN</td>\n",
       "      <td>818 S MAIN ST</td>\n",
       "      <td>NaN</td>\n",
       "      <td>BOWLING GREEN</td>\n",
       "      <td>OH</td>\n",
       "      <td>43402-4601</td>\n",
       "      <td>-000000000083.650909</td>\n",
       "      <td>000000000041.363132</td>\n",
       "      <td>00000000021322.0000</td>\n",
       "      <td>00000000003271.0000</td>\n",
       "    </tr>\n",
       "  </tbody>\n",
       "</table>\n",
       "</div>"
      ],
      "text/plain": [
       "  location_id        location_desc     open_dt close_dt  \\\n",
       "0           3  PEACH ORCHARD PLAZA  1988-10-31      NaN   \n",
       "1          30    SOUTHWOOD PLZ S/C  1984-04-05      NaN   \n",
       "\n",
       "          address_line_1 address_line_2        city_nm state_nm      zip_cd  \\\n",
       "0  2708 PEACH ORCHARD RD            NaN        AUGUSTA       GA  30906-2408   \n",
       "1          818 S MAIN ST            NaN  BOWLING GREEN       OH  43402-4601   \n",
       "\n",
       "         longitude_meas         latitude_meas     sales_square_feet  \\\n",
       "0  -000000000082.018921   000000000033.421570   00000000026501.0000   \n",
       "1  -000000000083.650909   000000000041.363132   00000000021322.0000   \n",
       "\n",
       "  furniture_sales_square_feet  \n",
       "0         00000000005098.0000  \n",
       "1         00000000003271.0000  "
      ]
     },
     "execution_count": 4,
     "metadata": {},
     "output_type": "execute_result"
    }
   ],
   "source": [
    "store_list=pd.read_table(\"/home/jian/BigLots/static_files/Store_list/MediaStormStores20190601-134302-813.txt\",sep=\"|\",dtype=str)\n",
    "store_list.head(2)"
   ]
  },
  {
   "cell_type": "code",
   "execution_count": 5,
   "metadata": {},
   "outputs": [
    {
     "name": "stdout",
     "output_type": "stream",
     "text": [
      "     location_id zip_cd  latitude_meas  longitude_meas\n",
      "1405        5396    NaN            NaN             NaN\n"
     ]
    }
   ],
   "source": [
    "print(open_stores_as_20190608[pd.isnull(open_stores_as_20190608['zip_cd'])])\n",
    "store_zip_missing_dict={\"5396\":\"21703\"}"
   ]
  },
  {
   "cell_type": "code",
   "execution_count": 6,
   "metadata": {},
   "outputs": [
    {
     "name": "stderr",
     "output_type": "stream",
     "text": [
      "/usr/local/lib/python3.6/site-packages/ipykernel_launcher.py:2: SettingWithCopyWarning: \n",
      "A value is trying to be set on a copy of a slice from a DataFrame.\n",
      "Try using .loc[row_indexer,col_indexer] = value instead\n",
      "\n",
      "See the caveats in the documentation: http://pandas.pydata.org/pandas-docs/stable/indexing.html#indexing-view-versus-copy\n",
      "  \n"
     ]
    }
   ],
   "source": [
    "open_stores_as_20190608_0=open_stores_as_20190608[pd.isnull(open_stores_as_20190608['zip_cd'])]\n",
    "open_stores_as_20190608_0['zip_cd']=open_stores_as_20190608_0['location_id'].apply(lambda x: store_zip_missing_dict[x])\n",
    "open_stores_as_20190608_1=open_stores_as_20190608[~pd.isnull(open_stores_as_20190608['zip_cd'])]\n",
    "open_stores_as_20190608=open_stores_as_20190608_1.append(open_stores_as_20190608_0)\n",
    "\n",
    "open_stores_as_20190608=open_stores_as_20190608.sort_values(\"location_id\")"
   ]
  },
  {
   "cell_type": "code",
   "execution_count": 7,
   "metadata": {},
   "outputs": [],
   "source": [
    "DMA_nielsen=pd.read_excel(\"/home/jian/Docs/Geo_mapping/Zips by DMA by County16-17 nielsen.xlsx\",dtype=str,skiprows=1,usecols=[0,2])\n",
    "DMA_nielsen=DMA_nielsen.drop_duplicates()\n",
    "DMA_nielsen.columns=['zip_cd',\"DMA\"]"
   ]
  },
  {
   "cell_type": "code",
   "execution_count": 8,
   "metadata": {
    "collapsed": true
   },
   "outputs": [],
   "source": [
    "open_stores_as_20190608_DMA=pd.merge(open_stores_as_20190608,DMA_nielsen,on=\"zip_cd\",how=\"left\")"
   ]
  },
  {
   "cell_type": "code",
   "execution_count": 9,
   "metadata": {},
   "outputs": [
    {
     "name": "stdout",
     "output_type": "stream",
     "text": [
      "(18, 5)\n",
      "(18, 5)\n"
     ]
    }
   ],
   "source": [
    "open_stores_as_20190608_2_target_DMA=open_stores_as_20190608_DMA[open_stores_as_20190608_DMA['DMA'].isin([\"DENVER\",\"CHARLESTON, SC\"])]\n",
    "print(open_stores_as_20190608_2_target_DMA.shape)\n",
    "\n",
    "print(open_stores_as_20190608_DMA[open_stores_as_20190608_DMA['location_id'].isin(open_stores_as_20190608_2_target_DMA['location_id'].tolist())].shape)\n",
    "\n",
    "# No store accross DMAs for the 2 targeted"
   ]
  },
  {
   "cell_type": "code",
   "execution_count": 10,
   "metadata": {},
   "outputs": [],
   "source": [
    "store_labels=pd.read_csv(\"/home/jian/Projects/Big_Lots/New_TA/zips_in_new_ta/sales_by_zip (Store level).csv\",\n",
    "                         dtype=str,usecols=['location_id','revenue_flag','zip'])\n",
    "\n",
    "store_labels=store_labels[store_labels['revenue_flag']!=\"T\"]\n",
    "output_overall=pd.merge(open_stores_as_20190608_2_target_DMA,store_labels,on=\"location_id\",how=\"left\")\n",
    "output_overall=output_overall.rename(columns={\"zip_cd\":\"store_zip\"})"
   ]
  },
  {
   "cell_type": "code",
   "execution_count": 11,
   "metadata": {},
   "outputs": [
    {
     "name": "stdout",
     "output_type": "stream",
     "text": [
      "output_overall_0 (2, 7)\n",
      "output_overall_1['location_id'].nunique() 16\n"
     ]
    }
   ],
   "source": [
    "output_overall_0=output_overall[pd.isnull(output_overall['revenue_flag'])]\n",
    "print(\"output_overall_0\",output_overall_0.shape)\n",
    "\n",
    "output_overall_1=output_overall[~pd.isnull(output_overall['revenue_flag'])]\n",
    "print(\"output_overall_1['location_id'].nunique()\",output_overall_1['location_id'].nunique())\n"
   ]
  },
  {
   "cell_type": "code",
   "execution_count": 12,
   "metadata": {},
   "outputs": [
    {
     "data": {
      "text/html": [
       "<div>\n",
       "<style>\n",
       "    .dataframe thead tr:only-child th {\n",
       "        text-align: right;\n",
       "    }\n",
       "\n",
       "    .dataframe thead th {\n",
       "        text-align: left;\n",
       "    }\n",
       "\n",
       "    .dataframe tbody tr th {\n",
       "        vertical-align: top;\n",
       "    }\n",
       "</style>\n",
       "<table border=\"1\" class=\"dataframe\">\n",
       "  <thead>\n",
       "    <tr style=\"text-align: right;\">\n",
       "      <th></th>\n",
       "      <th>location_id</th>\n",
       "      <th>store_zip</th>\n",
       "      <th>latitude_meas</th>\n",
       "      <th>longitude_meas</th>\n",
       "      <th>DMA</th>\n",
       "      <th>zip</th>\n",
       "      <th>revenue_flag</th>\n",
       "    </tr>\n",
       "  </thead>\n",
       "  <tbody>\n",
       "    <tr>\n",
       "      <th>0</th>\n",
       "      <td>117</td>\n",
       "      <td>29407</td>\n",
       "      <td>32.814445</td>\n",
       "      <td>-79.997371</td>\n",
       "      <td>CHARLESTON, SC</td>\n",
       "      <td>29407</td>\n",
       "      <td>P</td>\n",
       "    </tr>\n",
       "    <tr>\n",
       "      <th>1</th>\n",
       "      <td>117</td>\n",
       "      <td>29407</td>\n",
       "      <td>32.814445</td>\n",
       "      <td>-79.997371</td>\n",
       "      <td>CHARLESTON, SC</td>\n",
       "      <td>29414</td>\n",
       "      <td>P</td>\n",
       "    </tr>\n",
       "  </tbody>\n",
       "</table>\n",
       "</div>"
      ],
      "text/plain": [
       "  location_id store_zip  latitude_meas  longitude_meas             DMA    zip  \\\n",
       "0         117     29407      32.814445      -79.997371  CHARLESTON, SC  29407   \n",
       "1         117     29407      32.814445      -79.997371  CHARLESTON, SC  29414   \n",
       "\n",
       "  revenue_flag  \n",
       "0            P  \n",
       "1            P  "
      ]
     },
     "execution_count": 12,
     "metadata": {},
     "output_type": "execute_result"
    }
   ],
   "source": [
    "output_overall_1.head(2)"
   ]
  },
  {
   "cell_type": "code",
   "execution_count": 13,
   "metadata": {},
   "outputs": [],
   "source": [
    "output_overall_1=output_overall_1.reset_index()\n",
    "del output_overall_1['index']\n",
    "output_overall_1['distance_miles']=np.nan\n",
    "\n",
    "for ind,row in output_overall_1.iterrows():\n",
    "    dist=haversine((row['latitude_meas'],row['longitude_meas']),zip_centers[row['zip']],miles=True)\n",
    "    output_overall_1.loc[ind,'distance_miles']=dist\n",
    "\n",
    "output_overall_1=output_overall_1[(output_overall_1['revenue_flag']==\"P\") | (output_overall_1['distance_miles']<=20)]"
   ]
  },
  {
   "cell_type": "code",
   "execution_count": 14,
   "metadata": {},
   "outputs": [],
   "source": [
    "output_overall_0=output_overall_0.reset_index()\n",
    "del output_overall_0['index']\n",
    "\n",
    "del output_overall_0['zip']\n",
    "del output_overall_0['revenue_flag']\n",
    "i_counter=0\n",
    "df_new_store_zips=pd.DataFrame(columns=[\"location_id\",\"zip\",\"revenue_flag\",\"distance_miles\"])\n",
    "for ind,row in output_overall_0.iterrows():\n",
    "    store_number=row['location_id']\n",
    "    store_center=[row['latitude_meas'],row['longitude_meas']]\n",
    "    for zip_cd in zip_centers.keys():\n",
    "        dist=haversine(zip_centers[zip_cd],store_center,miles=True)\n",
    "        if dist<=10:\n",
    "            df=pd.DataFrame({\"location_id\":store_number,\"zip\":zip_cd,\"revenue_flag\":\"zip_in_10\",\"distance_miles\":dist},index=[i_counter])\n",
    "            i_counter+=1\n",
    "            df_new_store_zips=df_new_store_zips.append(df)\n",
    "    \n",
    "output_overall_0=pd.merge(output_overall_0,df_new_store_zips,on=\"location_id\",how=\"left\")\n",
    "    "
   ]
  },
  {
   "cell_type": "code",
   "execution_count": 16,
   "metadata": {},
   "outputs": [],
   "source": [
    "cols=output_overall_1.columns.tolist()\n",
    "output_overall=output_overall_0.append(output_overall_1)[cols]\n",
    "\n",
    "writer=pd.ExcelWriter(\"/home/jian/Projects/Big_Lots/Analysis/2019_Q2/Planner_Requests/zips_2_DMAs_Kaylar_Bruce_20190613/BL_zips_for_stores_in_2_test_DMAs_JL_\"+str(datetime.datetime.now().date())+\".xlsx\",engine=\"xlsxwriter\")\n",
    "\n",
    "for DMA,group in output_overall.groupby('DMA'):\n",
    "    unique_zips_DMA=group[['zip']].drop_duplicates()\n",
    "    unique_zips_DMA.to_excel(writer,\"unique_zips_\"+DMA,index=False)\n",
    "    group.to_excel(writer,DMA,index=False)\n",
    "writer.save()    "
   ]
  },
  {
   "cell_type": "code",
   "execution_count": null,
   "metadata": {
    "collapsed": true
   },
   "outputs": [],
   "source": []
  }
 ],
 "metadata": {
  "kernelspec": {
   "display_name": "Python 3",
   "language": "python",
   "name": "python3"
  },
  "language_info": {
   "codemirror_mode": {
    "name": "ipython",
    "version": 3
   },
   "file_extension": ".py",
   "mimetype": "text/x-python",
   "name": "python",
   "nbconvert_exporter": "python",
   "pygments_lexer": "ipython3",
   "version": "3.6.1"
  }
 },
 "nbformat": 4,
 "nbformat_minor": 2
}
