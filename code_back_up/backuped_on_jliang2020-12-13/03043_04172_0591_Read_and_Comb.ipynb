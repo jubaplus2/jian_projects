{
 "cells": [
  {
   "cell_type": "code",
   "execution_count": 1,
   "metadata": {},
   "outputs": [
    {
     "data": {
      "text/plain": [
       "'/home/jian/Projects/Big_Lots/Analysis/2018_Q4/URL_Pages/Top_5_Activities_Comb_Exclude_1_AdID'"
      ]
     },
     "execution_count": 1,
     "metadata": {},
     "output_type": "execute_result"
    }
   ],
   "source": [
    "import pandas as pd\n",
    "import datetime\n",
    "import glob\n",
    "import os\n",
    "\n",
    "\n",
    "os.getcwd()"
   ]
  },
  {
   "cell_type": "code",
   "execution_count": 5,
   "metadata": {},
   "outputs": [
    {
     "data": {
      "text/plain": [
       "31"
      ]
     },
     "execution_count": 5,
     "metadata": {},
     "output_type": "execute_result"
    }
   ],
   "source": [
    "file_list=glob.glob('/home/jian/Projects/Big_Lots/Analysis/2018_Q4/URL_Pages/DCM_5_Top_URLs/*tsv.gz')\n",
    "len(file_list)"
   ]
  },
  {
   "cell_type": "code",
   "execution_count": 6,
   "metadata": {
    "collapsed": true
   },
   "outputs": [],
   "source": [
    "df_all_activities=pd.DataFrame()\n",
    "\n",
    "for file_path in file_list:\n",
    "    df=pd.read_csv(file_path,sep=\"\\t\",dtype=str)\n",
    "    df_all_activities=df_all_activities.append(df)"
   ]
  },
  {
   "cell_type": "code",
   "execution_count": 7,
   "metadata": {},
   "outputs": [
    {
     "data": {
      "text/plain": [
       "(759355, 105)"
      ]
     },
     "execution_count": 7,
     "metadata": {},
     "output_type": "execute_result"
    }
   ],
   "source": [
    "df_all_activities.shape"
   ]
  },
  {
   "cell_type": "code",
   "execution_count": 8,
   "metadata": {},
   "outputs": [
    {
     "data": {
      "text/html": [
       "<div>\n",
       "<style>\n",
       "    .dataframe thead tr:only-child th {\n",
       "        text-align: right;\n",
       "    }\n",
       "\n",
       "    .dataframe thead th {\n",
       "        text-align: left;\n",
       "    }\n",
       "\n",
       "    .dataframe tbody tr th {\n",
       "        vertical-align: top;\n",
       "    }\n",
       "</style>\n",
       "<table border=\"1\" class=\"dataframe\">\n",
       "  <thead>\n",
       "    <tr style=\"text-align: right;\">\n",
       "      <th></th>\n",
       "      <th>Event Time</th>\n",
       "      <th>User ID</th>\n",
       "      <th>Advertiser ID</th>\n",
       "      <th>Campaign ID</th>\n",
       "      <th>Ad ID</th>\n",
       "      <th>Rendering ID</th>\n",
       "      <th>Creative Version</th>\n",
       "      <th>Site ID (DCM)</th>\n",
       "      <th>Placement ID</th>\n",
       "      <th>Country Code</th>\n",
       "      <th>...</th>\n",
       "      <th>DBM Media Fee 4 (Advertiser Currency)</th>\n",
       "      <th>DBM Media Fee 5 (USD)</th>\n",
       "      <th>DBM Media Fee 5 (Partner Currency)</th>\n",
       "      <th>DBM Media Fee 5 (Advertiser Currency)</th>\n",
       "      <th>DBM Data Fees (USD)</th>\n",
       "      <th>DBM Data Fees (Partner Currency)</th>\n",
       "      <th>DBM Data Fees (Advertiser Currency)</th>\n",
       "      <th>DBM Billable Cost (USD)</th>\n",
       "      <th>DBM Billable Cost (Partner Currency)</th>\n",
       "      <th>DBM Billable Cost (Advertiser Currency)</th>\n",
       "    </tr>\n",
       "  </thead>\n",
       "  <tbody>\n",
       "    <tr>\n",
       "      <th>0</th>\n",
       "      <td>1544544701799544</td>\n",
       "      <td>AMsySZbSawfibPv5dTepx6irbone</td>\n",
       "      <td>NaN</td>\n",
       "      <td>NaN</td>\n",
       "      <td>NaN</td>\n",
       "      <td>NaN</td>\n",
       "      <td>NaN</td>\n",
       "      <td>NaN</td>\n",
       "      <td>NaN</td>\n",
       "      <td>US</td>\n",
       "      <td>...</td>\n",
       "      <td>0</td>\n",
       "      <td>0</td>\n",
       "      <td>0</td>\n",
       "      <td>0</td>\n",
       "      <td>0</td>\n",
       "      <td>0</td>\n",
       "      <td>0</td>\n",
       "      <td>0</td>\n",
       "      <td>0</td>\n",
       "      <td>0</td>\n",
       "    </tr>\n",
       "    <tr>\n",
       "      <th>1</th>\n",
       "      <td>1544541048920801</td>\n",
       "      <td>AMsySZYHFIoo8xJxAIkrg2BgeWKy</td>\n",
       "      <td>NaN</td>\n",
       "      <td>NaN</td>\n",
       "      <td>NaN</td>\n",
       "      <td>NaN</td>\n",
       "      <td>NaN</td>\n",
       "      <td>NaN</td>\n",
       "      <td>NaN</td>\n",
       "      <td>US</td>\n",
       "      <td>...</td>\n",
       "      <td>0</td>\n",
       "      <td>0</td>\n",
       "      <td>0</td>\n",
       "      <td>0</td>\n",
       "      <td>0</td>\n",
       "      <td>0</td>\n",
       "      <td>0</td>\n",
       "      <td>0</td>\n",
       "      <td>0</td>\n",
       "      <td>0</td>\n",
       "    </tr>\n",
       "  </tbody>\n",
       "</table>\n",
       "<p>2 rows × 105 columns</p>\n",
       "</div>"
      ],
      "text/plain": [
       "         Event Time                       User ID Advertiser ID Campaign ID  \\\n",
       "0  1544544701799544  AMsySZbSawfibPv5dTepx6irbone           NaN         NaN   \n",
       "1  1544541048920801  AMsySZYHFIoo8xJxAIkrg2BgeWKy           NaN         NaN   \n",
       "\n",
       "  Ad ID Rendering ID Creative Version Site ID (DCM) Placement ID Country Code  \\\n",
       "0   NaN          NaN              NaN           NaN          NaN           US   \n",
       "1   NaN          NaN              NaN           NaN          NaN           US   \n",
       "\n",
       "                    ...                    \\\n",
       "0                   ...                     \n",
       "1                   ...                     \n",
       "\n",
       "  DBM Media Fee 4 (Advertiser Currency) DBM Media Fee 5 (USD)  \\\n",
       "0                                     0                     0   \n",
       "1                                     0                     0   \n",
       "\n",
       "  DBM Media Fee 5 (Partner Currency) DBM Media Fee 5 (Advertiser Currency)  \\\n",
       "0                                  0                                     0   \n",
       "1                                  0                                     0   \n",
       "\n",
       "  DBM Data Fees (USD) DBM Data Fees (Partner Currency)  \\\n",
       "0                   0                                0   \n",
       "1                   0                                0   \n",
       "\n",
       "  DBM Data Fees (Advertiser Currency) DBM Billable Cost (USD)  \\\n",
       "0                                   0                       0   \n",
       "1                                   0                       0   \n",
       "\n",
       "  DBM Billable Cost (Partner Currency) DBM Billable Cost (Advertiser Currency)  \n",
       "0                                    0                                       0  \n",
       "1                                    0                                       0  \n",
       "\n",
       "[2 rows x 105 columns]"
      ]
     },
     "execution_count": 8,
     "metadata": {},
     "output_type": "execute_result"
    }
   ],
   "source": [
    "df_all_activities.head(2)"
   ]
  },
  {
   "cell_type": "code",
   "execution_count": 36,
   "metadata": {},
   "outputs": [],
   "source": [
    "# df_all_activities.iloc[:1000,].to_csv('/home/jian/Projects/Big_Lots/Analysis/2018_Q4/URL_Pages/Top_5_Activities_Comb_Exclude_1_AdID/BL_Dec_Activities_to_be_uploaded_Sample.csv',index=False)\n",
    "df_all_activities.to_csv('/home/jian/Projects/Big_Lots/Analysis/2018_Q4/URL_Pages/Top_5_Activities_Comb_Exclude_1_AdID/dcm_account7252_activity_20181201_20181231_bl_DecTop5urls.tsv.gz',\n",
    "                         sep = '\\t',compression = 'gzip',index = False)\n"
   ]
  },
  {
   "cell_type": "code",
   "execution_count": 30,
   "metadata": {},
   "outputs": [],
   "source": [
    "import numpy as np\n",
    "date_list=df_all_activities['Event Time'].apply(lambda x: datetime.datetime.utcfromtimestamp(int(np.round(int(x)/1000000))).strftime('%Y-%m-%d %H:%M:%S'))"
   ]
  },
  {
   "cell_type": "code",
   "execution_count": 33,
   "metadata": {},
   "outputs": [
    {
     "data": {
      "text/plain": [
       "'2019-01-01 04:59:57'"
      ]
     },
     "execution_count": 33,
     "metadata": {},
     "output_type": "execute_result"
    }
   ],
   "source": [
    "max(date_list)"
   ]
  },
  {
   "cell_type": "code",
   "execution_count": 35,
   "metadata": {},
   "outputs": [
    {
     "data": {
      "text/plain": [
       "'2018-12-01 06:03:59'"
      ]
     },
     "execution_count": 35,
     "metadata": {},
     "output_type": "execute_result"
    }
   ],
   "source": [
    "min(date_list)"
   ]
  },
  {
   "cell_type": "code",
   "execution_count": 37,
   "metadata": {},
   "outputs": [
    {
     "data": {
      "text/plain": [
       "array(['7945971', '7945980', '8001727', '8001451', '7945974'], dtype=object)"
      ]
     },
     "execution_count": 37,
     "metadata": {},
     "output_type": "execute_result"
    }
   ],
   "source": [
    "df_all_activities['Activity ID'].unique()"
   ]
  },
  {
   "cell_type": "code",
   "execution_count": 38,
   "metadata": {},
   "outputs": [
    {
     "data": {
      "text/plain": [
       "array([nan], dtype=object)"
      ]
     },
     "execution_count": 38,
     "metadata": {},
     "output_type": "execute_result"
    }
   ],
   "source": [
    "df_all_activities['TRAN Value'].unique()"
   ]
  },
  {
   "cell_type": "code",
   "execution_count": 39,
   "metadata": {},
   "outputs": [
    {
     "data": {
      "text/plain": [
       "446717"
      ]
     },
     "execution_count": 39,
     "metadata": {},
     "output_type": "execute_result"
    }
   ],
   "source": [
    "len(df_all_activities['User ID'].unique())"
   ]
  },
  {
   "cell_type": "code",
   "execution_count": null,
   "metadata": {
    "collapsed": true
   },
   "outputs": [],
   "source": []
  }
 ],
 "metadata": {
  "kernelspec": {
   "display_name": "Python 3",
   "language": "python",
   "name": "python3"
  },
  "language_info": {
   "codemirror_mode": {
    "name": "ipython",
    "version": 3
   },
   "file_extension": ".py",
   "mimetype": "text/x-python",
   "name": "python",
   "nbconvert_exporter": "python",
   "pygments_lexer": "ipython3",
   "version": "3.6.1"
  }
 },
 "nbformat": 4,
 "nbformat_minor": 2
}
