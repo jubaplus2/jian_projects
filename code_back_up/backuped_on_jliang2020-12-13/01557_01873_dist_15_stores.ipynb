{
 "cells": [
  {
   "cell_type": "code",
   "execution_count": 3,
   "metadata": {},
   "outputs": [
    {
     "data": {
      "text/plain": [
       "'/home/jian/Projects/C21/Calculate_Dist_Joann_0318'"
      ]
     },
     "execution_count": 3,
     "metadata": {},
     "output_type": "execute_result"
    }
   ],
   "source": [
    "import pandas as pd\n",
    "import paramiko\n",
    "import datetime\n",
    "import os\n",
    "from haversine import haversine\n",
    "import numpy as np\n",
    "import json\n",
    "\n",
    "zip_centers=json.load(open(\"/home/jian/Docs/Geo_mapping/center_of_rentrak_zip.json\",\"r\"))\n",
    "os.getcwd()"
   ]
  },
  {
   "cell_type": "code",
   "execution_count": 4,
   "metadata": {},
   "outputs": [
    {
     "data": {
      "text/plain": [
       "(10000, 10)"
      ]
     },
     "execution_count": 4,
     "metadata": {},
     "output_type": "execute_result"
    }
   ],
   "source": [
    "df=pd.read_table(\"/home/jian/Projects/C21/Calculate_Dist_Joann_0318/Customer_ID_Master_File_03042019.txt.xz\",\n",
    "                 compression=\"xz\",sep=\"|\",dtype=str)\n",
    "df.shape"
   ]
  },
  {
   "cell_type": "code",
   "execution_count": 5,
   "metadata": {},
   "outputs": [
    {
     "name": "stderr",
     "output_type": "stream",
     "text": [
      "/usr/local/lib/python3.6/site-packages/ipykernel_launcher.py:5: SettingWithCopyWarning: \n",
      "A value is trying to be set on a copy of a slice from a DataFrame\n",
      "\n",
      "See the caveats in the documentation: http://pandas.pydata.org/pandas-docs/stable/indexing.html#indexing-view-versus-copy\n",
      "  \"\"\"\n",
      "/usr/local/lib/python3.6/site-packages/pandas/core/indexing.py:179: SettingWithCopyWarning: \n",
      "A value is trying to be set on a copy of a slice from a DataFrame\n",
      "\n",
      "See the caveats in the documentation: http://pandas.pydata.org/pandas-docs/stable/indexing.html#indexing-view-versus-copy\n",
      "  self._setitem_with_indexer(indexer, value)\n"
     ]
    }
   ],
   "source": [
    "df_15_stores=pd.read_excel(\"/home/jian/Projects/C21/Calculate_Dist_Joann_0318/Joann_15_Store.xlsx\")\n",
    "df_15_stores.head(2)\n",
    "df_15_stores['Googel_Coor']=np.nan\n",
    "for i in range(len(df_15_stores)):\n",
    "    df_15_stores['Googel_Coor'][i]=str([df_15_stores['lat'][i],df_15_stores['long'][i]])\n",
    "df_15_stores=df_15_stores.rename(columns={\"Name\":\"Store_Name\",\"Address\":\"Google_Address\"})  \n",
    "df_15_stores=df_15_stores[['Store_number','Store_Name','Google_Address','Googel_Coor']]\n",
    "df_15_stores['Googel_Coor']=df_15_stores['Googel_Coor'].apply(lambda x: eval(x))"
   ]
  },
  {
   "cell_type": "code",
   "execution_count": null,
   "metadata": {
    "collapsed": true
   },
   "outputs": [],
   "source": [
    "'''\n",
    "df_16_stores=pd.DataFrame()\n",
    "df_4_stores=df_4_stores.append(pd.DataFrame({\"Store_Name\":\"DOWNTOWN\",\"Google_Address\":\"22 Cortlandt St, New York, NY 10007\",\"Googel_Coor\":[[40.7104649,-74.0107144]]}))\n",
    "df_4_stores=df_4_stores.append(pd.DataFrame({\"Store_Name\":\"REGO_PARK\",\"Google_Address\":\"61-35 Junction Blvd, Rego Park, NY 11374\",\"Googel_Coor\":[[40.7332205,-73.8631858]]}))\n",
    "df_4_stores=df_4_stores.append(pd.DataFrame({\"Store_Name\":\"CROSS_COUNTY\",\"Google_Address\":\"750 Central Park Ave, Yonkers, NY 10704\",\"Googel_Coor\":[[40.9262461,-73.8553119]]}))\n",
    "df_4_stores=df_4_stores.append(pd.DataFrame({\"Store_Name\":\"PARAMUS\",\"Google_Address\":\"200 Bergen Town Center, Paramus, NJ 07652\",\"Googel_Coor\":[[40.9150771,-74.0579318]]}))\n",
    "\n",
    "df_4_stores=df_4_stores.append(pd.DataFrame({\"Store_Name\":\"PARAMUS\",\"Google_Address\":\"200 Bergen Town Center, Paramus, NJ 07652\",\"Googel_Coor\":[[40.9150771,-74.0579318]]}))\n",
    "df_4_stores=df_4_stores.append(pd.DataFrame({\"Store_Name\":\"PARAMUS\",\"Google_Address\":\"200 Bergen Town Center, Paramus, NJ 07652\",\"Googel_Coor\":[[40.9150771,-74.0579318]]}))\n",
    "df_4_stores=df_4_stores.append(pd.DataFrame({\"Store_Name\":\"PARAMUS\",\"Google_Address\":\"200 Bergen Town Center, Paramus, NJ 07652\",\"Googel_Coor\":[[40.9150771,-74.0579318]]}))\n",
    "df_4_stores=df_4_stores.append(pd.DataFrame({\"Store_Name\":\"PARAMUS\",\"Google_Address\":\"200 Bergen Town Center, Paramus, NJ 07652\",\"Googel_Coor\":[[40.9150771,-74.0579318]]}))\n",
    "df_4_stores=df_4_stores.append(pd.DataFrame({\"Store_Name\":\"PARAMUS\",\"Google_Address\":\"200 Bergen Town Center, Paramus, NJ 07652\",\"Googel_Coor\":[[40.9150771,-74.0579318]]}))\n",
    "df_4_stores=df_4_stores.append(pd.DataFrame({\"Store_Name\":\"PARAMUS\",\"Google_Address\":\"200 Bergen Town Center, Paramus, NJ 07652\",\"Googel_Coor\":[[40.9150771,-74.0579318]]}))\n",
    "\n",
    "\n",
    "df_4_stores=df_4_stores.reset_index()\n",
    "del df_4_stores['index']\n",
    "\n",
    "'''"
   ]
  },
  {
   "cell_type": "code",
   "execution_count": null,
   "metadata": {
    "collapsed": true
   },
   "outputs": [],
   "source": [
    "df_15_stores.head(2)"
   ]
  },
  {
   "cell_type": "code",
   "execution_count": null,
   "metadata": {
    "collapsed": true
   },
   "outputs": [],
   "source": [
    "df_customer_zips=df[['Customer_zip_code']]\n",
    "df_customer_zips=df_customer_zips[~pd.isnull(df_customer_zips['Customer_zip_code'])]\n",
    "print(df_customer_zips.shape)\n",
    "df_customer_zips['Cleaned_zip_cd']=df_customer_zips['Customer_zip_code'].apply(lambda x: x.split(\"-\")[0].split(\" \")[0])\n",
    "df_customer_zips['Cleaned_zip_cd']=df_customer_zips['Cleaned_zip_cd'].apply(lambda x: x.zfill(5)[:5])\n",
    "# df_unique_zip=df_unique_zip.drop_duplicates()\n",
    "\n"
   ]
  },
  {
   "cell_type": "code",
   "execution_count": null,
   "metadata": {
    "collapsed": true
   },
   "outputs": [],
   "source": [
    "df_customer_zips['digital_1']=df_customer_zips['Cleaned_zip_cd'].apply(lambda x: x[0])\n",
    "df_customer_zips['digital_2']=df_customer_zips['Cleaned_zip_cd'].apply(lambda x: x[1])\n",
    "df_customer_zips['digital_3']=df_customer_zips['Cleaned_zip_cd'].apply(lambda x: x[2])\n",
    "df_customer_zips['digital_4']=df_customer_zips['Cleaned_zip_cd'].apply(lambda x: x[3])\n",
    "df_customer_zips['digital_5']=df_customer_zips['Cleaned_zip_cd'].apply(lambda x: x[4])\n",
    "\n",
    "numb_0_9=[str(x) for x in range(10)]\n",
    "\n",
    "df_customer_zips[(df_customer_zips['digital_1'].isin(numb_0_9)) &\\\n",
    "              (df_customer_zips['digital_2'].isin(numb_0_9)) &\\\n",
    "             (df_customer_zips['digital_3'].isin(numb_0_9)) &\\\n",
    "             (df_customer_zips['digital_4'].isin(numb_0_9)) &\\\n",
    "             (df_customer_zips['digital_5'].isin(numb_0_9))].shape"
   ]
  },
  {
   "cell_type": "code",
   "execution_count": null,
   "metadata": {
    "collapsed": true
   },
   "outputs": [],
   "source": [
    "df_unique_zips=df_customer_zips[['Cleaned_zip_cd']].drop_duplicates()\n",
    "\n",
    "for index, row in df_15_stores.iterrows():\n",
    "    store_name=row['Store_Name']\n",
    "    store_coor=row['Googel_Coor']\n",
    "    df_unique_zips[store_name+\"_Google_Location\"]=str(store_coor)\n",
    "    df_unique_zips[store_name+\"_Distance_Miles\"]=np.nan"
   ]
  },
  {
   "cell_type": "code",
   "execution_count": null,
   "metadata": {
    "collapsed": true
   },
   "outputs": [],
   "source": [
    "store_name_store_coor_dict=df_15_stores.set_index(\"Store_Name\").to_dict()['Googel_Coor']\n",
    "store_name_store_coor_dict\n"
   ]
  },
  {
   "cell_type": "code",
   "execution_count": null,
   "metadata": {
    "collapsed": true
   },
   "outputs": [],
   "source": [
    "for index, row in df_unique_zips.iterrows():\n",
    "    customer_zip=row['Cleaned_zip_cd']\n",
    "    if customer_zip in zip_centers.keys():\n",
    "        for store_name in df_15_stores['Store_Name'].tolist():\n",
    "            df_unique_zips.loc[index,store_name+\"_Distance_Miles\"]=haversine(zip_centers[customer_zip],store_name_store_coor_dict[store_name],miles=True)\n"
   ]
  },
  {
   "cell_type": "code",
   "execution_count": null,
   "metadata": {
    "collapsed": true
   },
   "outputs": [],
   "source": [
    "df_unique_zips['Closest_store']=df_unique_zips[[x for x in df_unique_zips.columns.tolist() if \"Distance_Miles\" in x]].idxmin(axis=1)\n",
    "df_unique_zips['Closest_store']=df_unique_zips['Closest_store'].fillna(\"Unknown\")\n",
    "df_unique_zips['Closest_store']=df_unique_zips['Closest_store'].apply(lambda x: x.split(\"_Distance\")[0])\n",
    "df_unique_zips['Closest_Dist']=df_unique_zips[[x for x in df_unique_zips.columns.tolist() if \"Distance_Miles\" in x]].min(axis=1) \n"
   ]
  },
  {
   "cell_type": "code",
   "execution_count": null,
   "metadata": {
    "collapsed": true
   },
   "outputs": [],
   "source": [
    "df_customer_zips=df_customer_zips[['Customer_zip_code','Cleaned_zip_cd']].drop_duplicates()\n",
    "df_customer_zips=pd.merge(df_customer_zips,df_unique_zips,on=\"Cleaned_zip_cd\",how=\"left\")"
   ]
  },
  {
   "cell_type": "code",
   "execution_count": null,
   "metadata": {
    "collapsed": true
   },
   "outputs": [],
   "source": [
    "df.head(2)"
   ]
  },
  {
   "cell_type": "code",
   "execution_count": null,
   "metadata": {
    "collapsed": true
   },
   "outputs": [],
   "source": [
    "df_customer_zips.head(2)"
   ]
  },
  {
   "cell_type": "code",
   "execution_count": null,
   "metadata": {
    "collapsed": true
   },
   "outputs": [],
   "source": [
    "df_unique_zips.head(2)"
   ]
  },
  {
   "cell_type": "code",
   "execution_count": null,
   "metadata": {
    "collapsed": true
   },
   "outputs": [],
   "source": []
  },
  {
   "cell_type": "code",
   "execution_count": 13,
   "metadata": {
    "collapsed": true
   },
   "outputs": [],
   "source": [
    "output=pd.merge(df,df_customer_zips,on=\"Customer_zip_code\",how=\"left\")"
   ]
  },
  {
   "cell_type": "code",
   "execution_count": 14,
   "metadata": {},
   "outputs": [
    {
     "data": {
      "text/plain": [
       "\"\\ndel output['Cleaned_zip_cd']\\ndel output['DOWNTOWN_Google_Location']\\ndel output['REGO_PARK_Google_Location']\\ndel output['CROSS_COUNTY_Google_Location']\\ndel output['PARAMUS_Google_Location']\\n\""
      ]
     },
     "execution_count": 14,
     "metadata": {},
     "output_type": "execute_result"
    }
   ],
   "source": [
    "'''\n",
    "del output['Cleaned_zip_cd']\n",
    "del output['DOWNTOWN_Google_Location']\n",
    "del output['REGO_PARK_Google_Location']\n",
    "del output['CROSS_COUNTY_Google_Location']\n",
    "del output['PARAMUS_Google_Location']\n",
    "'''"
   ]
  },
  {
   "cell_type": "code",
   "execution_count": 15,
   "metadata": {},
   "outputs": [
    {
     "data": {
      "text/plain": [
       "(4201416, 43)"
      ]
     },
     "execution_count": 15,
     "metadata": {},
     "output_type": "execute_result"
    }
   ],
   "source": [
    "output.shape"
   ]
  },
  {
   "cell_type": "code",
   "execution_count": 16,
   "metadata": {
    "collapsed": true
   },
   "outputs": [],
   "source": [
    "new_names=[x.replace(\"\\n\",\"\") for x in output.columns.tolist()]\n",
    "output.columns=new_names"
   ]
  },
  {
   "cell_type": "code",
   "execution_count": null,
   "metadata": {
    "collapsed": true
   },
   "outputs": [],
   "source": []
  },
  {
   "cell_type": "code",
   "execution_count": 17,
   "metadata": {
    "collapsed": true
   },
   "outputs": [],
   "source": [
    "output.head(1000).to_csv(\"/home/jian/Projects/C21/Calculate_Dist_Joann_0318/Sample_Customer_ID_Master_File_03042019_with_dist_16stores_JL_\"+str(datetime.datetime.now().date())+\".txt\",\n",
    "             sep=\"|\")"
   ]
  },
  {
   "cell_type": "code",
   "execution_count": 18,
   "metadata": {
    "collapsed": true
   },
   "outputs": [],
   "source": [
    "output.to_csv(\"/home/jian/Projects/C21/Calculate_Dist_Joann_0318/Customer_ID_Master_File_03042019_with_dist_15stores_JL_\"+str(datetime.datetime.now().date())+\".txt\",\n",
    "             sep=\"|\")"
   ]
  },
  {
   "cell_type": "code",
   "execution_count": 20,
   "metadata": {
    "collapsed": true
   },
   "outputs": [],
   "source": [
    "output_selected_cols=output[['Email_address_hash','Cleaned_zip_cd','Closest_store','Closest_Dist']]"
   ]
  },
  {
   "cell_type": "code",
   "execution_count": 21,
   "metadata": {
    "collapsed": true
   },
   "outputs": [],
   "source": [
    "output_selected_cols.to_csv(\"/home/jian/Projects/C21/Calculate_Dist_Joann_0318/Customer_ID_Master_File_03042019_with_dist_15stores_JL_selected_cols_\"+str(datetime.datetime.now().date())+\".txt\",\n",
    "             sep=\"|\")"
   ]
  },
  {
   "cell_type": "code",
   "execution_count": null,
   "metadata": {
    "collapsed": true
   },
   "outputs": [],
   "source": []
  },
  {
   "cell_type": "code",
   "execution_count": 22,
   "metadata": {
    "collapsed": true
   },
   "outputs": [],
   "source": []
  },
  {
   "cell_type": "code",
   "execution_count": null,
   "metadata": {
    "collapsed": true
   },
   "outputs": [],
   "source": []
  }
 ],
 "metadata": {
  "kernelspec": {
   "display_name": "Python 3",
   "language": "python",
   "name": "python3"
  },
  "language_info": {
   "codemirror_mode": {
    "name": "ipython",
    "version": 3
   },
   "file_extension": ".py",
   "mimetype": "text/x-python",
   "name": "python",
   "nbconvert_exporter": "python",
   "pygments_lexer": "ipython3",
   "version": "3.6.1"
  }
 },
 "nbformat": 4,
 "nbformat_minor": 2
}
