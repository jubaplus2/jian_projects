{
 "cells": [
  {
   "cell_type": "code",
   "execution_count": 1,
   "metadata": {},
   "outputs": [
    {
     "name": "stdout",
     "output_type": "stream",
     "text": [
      "2020-05-08 12:12:31.209843\n"
     ]
    }
   ],
   "source": [
    "# Big Lots - Mattress buyers\n",
    "\n",
    "import pandas as pd\n",
    "import numpy as np\n",
    "import glob\n",
    "import os\n",
    "import datetime\n",
    "\n",
    "print(datetime.datetime.now())"
   ]
  },
  {
   "cell_type": "code",
   "execution_count": 4,
   "metadata": {},
   "outputs": [],
   "source": [
    "folder_segment_Q2=glob.glob(\"/home/jian/Projects/Big_Lots/Live_Ramp/Quarterly_Update_2020Q2/upload_files/*.csv\")\n",
    "df_all_segment_ids=pd.DataFrame()\n",
    "for file in folder_segment_Q2:\n",
    "    try:\n",
    "        df=pd.read_csv(file,dtype=str,usecols=['customer_id_hashed','C_segment_2020Q2']).rename(columns={\"C_segment_2020Q2\":\"segment\"})\n",
    "    except:\n",
    "        df=pd.read_csv(file,dtype=str,usecols=['customer_id_hashed','segment_2020Q2']).rename(columns={\"segment_2020Q2\":\"segment\"})\n",
    "    df_all_segment_ids=df_all_segment_ids.append(df)"
   ]
  },
  {
   "cell_type": "code",
   "execution_count": 3,
   "metadata": {},
   "outputs": [
    {
     "data": {
      "text/html": [
       "<div>\n",
       "<style scoped>\n",
       "    .dataframe tbody tr th:only-of-type {\n",
       "        vertical-align: middle;\n",
       "    }\n",
       "\n",
       "    .dataframe tbody tr th {\n",
       "        vertical-align: top;\n",
       "    }\n",
       "\n",
       "    .dataframe thead th {\n",
       "        text-align: right;\n",
       "    }\n",
       "</style>\n",
       "<table border=\"1\" class=\"dataframe\">\n",
       "  <thead>\n",
       "    <tr style=\"text-align: right;\">\n",
       "      <th></th>\n",
       "      <th>customer_id_hashed</th>\n",
       "      <th>email_address_hash</th>\n",
       "      <th>segment_2020Q2</th>\n",
       "    </tr>\n",
       "  </thead>\n",
       "  <tbody>\n",
       "    <tr>\n",
       "      <th>0</th>\n",
       "      <td>f9c346f683543ece0b5db86832886d395a39199eaaa6c2...</td>\n",
       "      <td>000badce744942ad6b07195975a550f815bd4770f35d4e...</td>\n",
       "      <td>T_Legacy_Active_H_P_Above50K_MultiFamilyOrCond...</td>\n",
       "    </tr>\n",
       "    <tr>\n",
       "      <th>1</th>\n",
       "      <td>d15c0732f260ad3c7418f34df9b8c7e5e6a3710bcf3ebc...</td>\n",
       "      <td>14347f8a1fceaa87083022e75960c818392243a38a22f3...</td>\n",
       "      <td>T_Legacy_Active_H_P_Above50K_MultiFamilyOrCond...</td>\n",
       "    </tr>\n",
       "    <tr>\n",
       "      <th>2</th>\n",
       "      <td>8ea08dc13dc13a2e416bcace1225f701f77c4174ad18c0...</td>\n",
       "      <td>d8a49b95007ab5a69688ad568264ee5e8dcb2fc6f83b66...</td>\n",
       "      <td>T_Legacy_Active_H_P_Above50K_MultiFamilyOrCond...</td>\n",
       "    </tr>\n",
       "    <tr>\n",
       "      <th>3</th>\n",
       "      <td>7073fa21e0126d69ff18a384646fe7de2591555c64a9f9...</td>\n",
       "      <td>af74fba990317fbddb9a8b957c50fdd64749617713e51e...</td>\n",
       "      <td>T_Legacy_Active_H_P_Above50K_MultiFamilyOrCond...</td>\n",
       "    </tr>\n",
       "    <tr>\n",
       "      <th>4</th>\n",
       "      <td>9c2e646819fce9a152e12423827b087708d4272686e5a8...</td>\n",
       "      <td>4af4579d10959776cbc7027279f2e3c505524dfad965b1...</td>\n",
       "      <td>T_Legacy_Active_H_P_Above50K_MultiFamilyOrCond...</td>\n",
       "    </tr>\n",
       "    <tr>\n",
       "      <th>5</th>\n",
       "      <td>3665f5fc01448546ceb7ea9dd99c4434b8bca0cb1152d5...</td>\n",
       "      <td>eb1b76a24a885c69d65f1c0271ac485ab22175ae903b2a...</td>\n",
       "      <td>T_Legacy_Active_H_P_Above50K_MultiFamilyOrCond...</td>\n",
       "    </tr>\n",
       "    <tr>\n",
       "      <th>6</th>\n",
       "      <td>6a3baf7fda50efa853e796e5686c5dc28501d8cb4d2ec1...</td>\n",
       "      <td>a9294fff71e212aa1c1d37aefb8a09380531eb31ac7eb9...</td>\n",
       "      <td>T_Legacy_Active_H_P_Above50K_MultiFamilyOrCond...</td>\n",
       "    </tr>\n",
       "    <tr>\n",
       "      <th>7</th>\n",
       "      <td>1ddfdd15cb8995cf6c0b928f3d0801b9a18a7834b67936...</td>\n",
       "      <td>3973f64e50ad40aa0dc1c31fca9ee1db68a56a03a6534c...</td>\n",
       "      <td>T_Legacy_Active_H_P_Above50K_MultiFamilyOrCond...</td>\n",
       "    </tr>\n",
       "    <tr>\n",
       "      <th>8</th>\n",
       "      <td>f6ee50225deebda22a2ca8a412da5204581734310e7005...</td>\n",
       "      <td>63fc4c02a87959805eba6bab5bfba13fb01ce226072a2a...</td>\n",
       "      <td>T_Legacy_Active_H_P_Above50K_MultiFamilyOrCond...</td>\n",
       "    </tr>\n",
       "    <tr>\n",
       "      <th>9</th>\n",
       "      <td>05eec6012a0c3141f62979df11f255dd6c454692f917bb...</td>\n",
       "      <td>136a4eb0917724db137997436885e51e2c51eddd50d273...</td>\n",
       "      <td>T_Legacy_Active_H_P_Above50K_MultiFamilyOrCond...</td>\n",
       "    </tr>\n",
       "  </tbody>\n",
       "</table>\n",
       "</div>"
      ],
      "text/plain": [
       "                                  customer_id_hashed  \\\n",
       "0  f9c346f683543ece0b5db86832886d395a39199eaaa6c2...   \n",
       "1  d15c0732f260ad3c7418f34df9b8c7e5e6a3710bcf3ebc...   \n",
       "2  8ea08dc13dc13a2e416bcace1225f701f77c4174ad18c0...   \n",
       "3  7073fa21e0126d69ff18a384646fe7de2591555c64a9f9...   \n",
       "4  9c2e646819fce9a152e12423827b087708d4272686e5a8...   \n",
       "5  3665f5fc01448546ceb7ea9dd99c4434b8bca0cb1152d5...   \n",
       "6  6a3baf7fda50efa853e796e5686c5dc28501d8cb4d2ec1...   \n",
       "7  1ddfdd15cb8995cf6c0b928f3d0801b9a18a7834b67936...   \n",
       "8  f6ee50225deebda22a2ca8a412da5204581734310e7005...   \n",
       "9  05eec6012a0c3141f62979df11f255dd6c454692f917bb...   \n",
       "\n",
       "                                  email_address_hash  \\\n",
       "0  000badce744942ad6b07195975a550f815bd4770f35d4e...   \n",
       "1  14347f8a1fceaa87083022e75960c818392243a38a22f3...   \n",
       "2  d8a49b95007ab5a69688ad568264ee5e8dcb2fc6f83b66...   \n",
       "3  af74fba990317fbddb9a8b957c50fdd64749617713e51e...   \n",
       "4  4af4579d10959776cbc7027279f2e3c505524dfad965b1...   \n",
       "5  eb1b76a24a885c69d65f1c0271ac485ab22175ae903b2a...   \n",
       "6  a9294fff71e212aa1c1d37aefb8a09380531eb31ac7eb9...   \n",
       "7  3973f64e50ad40aa0dc1c31fca9ee1db68a56a03a6534c...   \n",
       "8  63fc4c02a87959805eba6bab5bfba13fb01ce226072a2a...   \n",
       "9  136a4eb0917724db137997436885e51e2c51eddd50d273...   \n",
       "\n",
       "                                      segment_2020Q2  \n",
       "0  T_Legacy_Active_H_P_Above50K_MultiFamilyOrCond...  \n",
       "1  T_Legacy_Active_H_P_Above50K_MultiFamilyOrCond...  \n",
       "2  T_Legacy_Active_H_P_Above50K_MultiFamilyOrCond...  \n",
       "3  T_Legacy_Active_H_P_Above50K_MultiFamilyOrCond...  \n",
       "4  T_Legacy_Active_H_P_Above50K_MultiFamilyOrCond...  \n",
       "5  T_Legacy_Active_H_P_Above50K_MultiFamilyOrCond...  \n",
       "6  T_Legacy_Active_H_P_Above50K_MultiFamilyOrCond...  \n",
       "7  T_Legacy_Active_H_P_Above50K_MultiFamilyOrCond...  \n",
       "8  T_Legacy_Active_H_P_Above50K_MultiFamilyOrCond...  \n",
       "9  T_Legacy_Active_H_P_Above50K_MultiFamilyOrCond...  "
      ]
     },
     "execution_count": 3,
     "metadata": {},
     "output_type": "execute_result"
    }
   ],
   "source": [
    "df_ccpa=pd.read_csv(\"/home/jian/BigLots/\")"
   ]
  },
  {
   "cell_type": "code",
   "execution_count": null,
   "metadata": {},
   "outputs": [],
   "source": []
  }
 ],
 "metadata": {
  "kernelspec": {
   "display_name": "Python 3",
   "language": "python",
   "name": "python3"
  },
  "language_info": {
   "codemirror_mode": {
    "name": "ipython",
    "version": 3
   },
   "file_extension": ".py",
   "mimetype": "text/x-python",
   "name": "python",
   "nbconvert_exporter": "python",
   "pygments_lexer": "ipython3",
   "version": "3.6.1"
  }
 },
 "nbformat": 4,
 "nbformat_minor": 2
}
