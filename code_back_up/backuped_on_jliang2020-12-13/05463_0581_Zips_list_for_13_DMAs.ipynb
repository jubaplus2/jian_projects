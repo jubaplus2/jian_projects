{
 "cells": [
  {
   "cell_type": "code",
   "execution_count": 5,
   "metadata": {},
   "outputs": [
    {
     "data": {
      "text/plain": [
       "'/home/jian/Projects/Big_Lots/Analysis/2018_Q4/Zip_For_13_Mkts'"
      ]
     },
     "execution_count": 5,
     "metadata": {},
     "output_type": "execute_result"
    }
   ],
   "source": [
    "import pandas as pd\n",
    "import json\n",
    "import os\n",
    "import numpy as np\n",
    "import datetime\n",
    "from haversine import haversine\n",
    "import zipcodes\n",
    "zip_centers=json.load(open(\"/home/jian/Docs/Geo_mapping/original_center_of_rentrak_zip.json\",\"r\"))\n",
    "os.getcwd()\n",
    "\n",
    "# Note: use 13 DMA zips to merge"
   ]
  },
  {
   "cell_type": "code",
   "execution_count": 6,
   "metadata": {},
   "outputs": [
    {
     "data": {
      "text/html": [
       "<div>\n",
       "<style>\n",
       "    .dataframe thead tr:only-child th {\n",
       "        text-align: right;\n",
       "    }\n",
       "\n",
       "    .dataframe thead th {\n",
       "        text-align: left;\n",
       "    }\n",
       "\n",
       "    .dataframe tbody tr th {\n",
       "        vertical-align: top;\n",
       "    }\n",
       "</style>\n",
       "<table border=\"1\" class=\"dataframe\">\n",
       "  <thead>\n",
       "    <tr style=\"text-align: right;\">\n",
       "      <th></th>\n",
       "      <th>zip_cd</th>\n",
       "      <th>DMA_list</th>\n",
       "    </tr>\n",
       "  </thead>\n",
       "  <tbody>\n",
       "    <tr>\n",
       "      <th>0</th>\n",
       "      <td>00501</td>\n",
       "      <td>[NEW YORK]</td>\n",
       "    </tr>\n",
       "    <tr>\n",
       "      <th>1</th>\n",
       "      <td>00544</td>\n",
       "      <td>[NEW YORK]</td>\n",
       "    </tr>\n",
       "  </tbody>\n",
       "</table>\n",
       "</div>"
      ],
      "text/plain": [
       "  zip_cd    DMA_list\n",
       "0  00501  [NEW YORK]\n",
       "1  00544  [NEW YORK]"
      ]
     },
     "execution_count": 6,
     "metadata": {},
     "output_type": "execute_result"
    }
   ],
   "source": [
    "zip_DMA=pd.read_excel(\"/home/jian/Docs/Geo_mapping/Zips by DMA by County16-17 nielsen.xlsx\",skiprows=1,dtype=str,usecols=[0,2])\n",
    "zip_DMA.columns=['zip_cd',\"DMA\"]\n",
    "zip_DMA=zip_DMA.drop_duplicates()\n",
    "DMA_13_List=['ALBANY-SCHENECTADY-TROY','AUSTIN','BIRMINGHAM (ANN AND TUSC)','CHARLOTTE','DETROIT','GREENSBORO-H.POINT-W.SALEM',\n",
    "             'HARTFORD & NEW HAVEN','INDIANAPOLIS','JACKSONVILLE','KANSAS CITY','OKLAHOMA CITY','PORTLAND, OR','SAN DIEGO']\n",
    "zip_DMA_13_only=zip_DMA[zip_DMA['DMA'].isin(DMA_13_List)].drop_duplicates()\n",
    "zip_DMA_list_df=zip_DMA.groupby(['zip_cd'])['DMA'].apply(list).to_frame().reset_index().rename(columns={\"DMA\":\"DMA_list\"})\n",
    "zip_DMA_list_df.head(2)"
   ]
  },
  {
   "cell_type": "code",
   "execution_count": 7,
   "metadata": {
    "collapsed": true
   },
   "outputs": [],
   "source": [
    "store_level_zips=pd.read_csv(\"/home/jian/Projects/Big_Lots/New_TA/zips_in_new_ta/sales_by_zip (Store level).csv\",dtype=str)\n",
    "store_level_zips=store_level_zips[store_level_zips['location_id']!=\"6990\"]\n",
    "store_level_zips=store_level_zips[['location_id','zip','revenue_flag']].drop_duplicates()\n",
    "store_level_zips=store_level_zips.rename(columns={\"zip\":\"zip_cd\"})"
   ]
  },
  {
   "cell_type": "code",
   "execution_count": 8,
   "metadata": {
    "collapsed": true
   },
   "outputs": [],
   "source": [
    "store_list=pd.read_table(\"/home/jian/BigLots/static_files/Store_list/MediaStormStores20190101-135843-638.txt\",dtype=str,sep=\"|\")\n",
    "store_list['latitude_meas']=store_list['latitude_meas'].astype(float)\n",
    "store_list['longitude_meas']=store_list['longitude_meas'].astype(float)\n",
    "\n",
    "\n",
    "sales_20190105=pd.read_csv(\"/home/jian/BiglotsCode/outputs/combined_sales_long_2019-01-05.csv\",dtype=str)\n",
    "sales_20190105=sales_20190105[sales_20190105['week_end_date']==\"2019-01-05\"]\n",
    "sales_20190105['sales']=sales_20190105['sales'].astype(float)\n",
    "sales_20190105=sales_20190105[sales_20190105['sales']>0]\n",
    "\n",
    "store_list=store_list[store_list['location_id'].isin(sales_20190105['location_id'])]\n",
    "store_list['zip_cd']=store_list['zip_cd'].apply(lambda x: x.split(\"-\")[0])\n",
    "\n",
    "store_list=pd.merge(store_list,zip_DMA_13_only,on=\"zip_cd\",how=\"left\") # DMA for stores\n",
    "store_list_13=store_list[~pd.isnull(store_list['DMA'])]\n",
    "# store 5371 duplicated in 2 DMAs: CHARLOTTE, GREENSBORO-H.POINT-W.SALEM"
   ]
  },
  {
   "cell_type": "markdown",
   "metadata": {},
   "source": [
    "# 1. Stores in 13 DMAs, and get all P/S zips for the stores (S 20 miles from the store)"
   ]
  },
  {
   "cell_type": "code",
   "execution_count": 9,
   "metadata": {},
   "outputs": [
    {
     "name": "stdout",
     "output_type": "stream",
     "text": [
      "(2800, 5)\n",
      "(2800, 6)\n"
     ]
    }
   ],
   "source": [
    "store_level_zips_13_DMAs=store_level_zips[store_level_zips['location_id'].isin(store_list_13['location_id'])]\n",
    "store_level_zips_13_DMAs_PS=store_level_zips_13_DMAs[store_level_zips_13_DMAs['revenue_flag'].isin(['P','S'])]\n",
    "store_level_zips_13_DMAs_PS=pd.merge(store_level_zips_13_DMAs_PS,store_list[['location_id','latitude_meas','longitude_meas']],on=\"location_id\",how=\"left\")\n",
    "print(store_level_zips_13_DMAs_PS.shape)\n",
    "store_level_zips_13_DMAs_PS=pd.merge(store_level_zips_13_DMAs_PS,store_list_13[['location_id','DMA']],on=\"location_id\",how=\"left\").rename(columns={\"DMA\":\"store_DMA\"})\n",
    "print(store_level_zips_13_DMAs_PS.shape)\n",
    "store_level_zips_13_DMAs_PS=pd.merge(store_level_zips_13_DMAs_PS,zip_DMA_list_df,on=\"zip_cd\",how=\"left\").rename(columns={\"DMA_list\":\"DMA_for_zip\"})"
   ]
  },
  {
   "cell_type": "code",
   "execution_count": 10,
   "metadata": {},
   "outputs": [
    {
     "data": {
      "text/plain": [
       "1717"
      ]
     },
     "execution_count": 10,
     "metadata": {},
     "output_type": "execute_result"
    }
   ],
   "source": [
    "len(store_level_zips_13_DMAs_PS['zip_cd'].unique())"
   ]
  },
  {
   "cell_type": "code",
   "execution_count": 11,
   "metadata": {},
   "outputs": [
    {
     "name": "stderr",
     "output_type": "stream",
     "text": [
      "/usr/local/lib/python3.6/site-packages/ipykernel_launcher.py:12: SettingWithCopyWarning: \n",
      "A value is trying to be set on a copy of a slice from a DataFrame\n",
      "\n",
      "See the caveats in the documentation: http://pandas.pydata.org/pandas-docs/stable/indexing.html#indexing-view-versus-copy\n",
      "  if sys.path[0] == '':\n"
     ]
    }
   ],
   "source": [
    "store_level_zips_13_DMAs_PS['dist_miles']=np.nan\n",
    "for i in range(len(store_level_zips_13_DMAs_PS)):\n",
    "    store_loc=(store_level_zips_13_DMAs_PS['latitude_meas'][i],store_level_zips_13_DMAs_PS['longitude_meas'][i])\n",
    "    zip_code=store_level_zips_13_DMAs_PS['zip_cd'][i]\n",
    "    if zip_code in zip_centers.keys():\n",
    "        dist=haversine(store_loc,zip_centers[zip_code],miles=True)\n",
    "    else:\n",
    "        try:\n",
    "            dist=haversine(store_loc,(float(zipcodes.matching(zip_code)['lat']),float(zipcodes.matching(zip_code)['long'])),miles=True)\n",
    "        except:\n",
    "            dist=np.nan\n",
    "    store_level_zips_13_DMAs_PS['dist_miles'][i]=dist\n",
    "store_level_zips_13_DMAs_PS=store_level_zips_13_DMAs_PS[(store_level_zips_13_DMAs_PS['revenue_flag']==\"P\") | (store_level_zips_13_DMAs_PS['dist_miles']<=20)]\n",
    "store_level_zips_13_DMAs_PS['Store_in_13_DMA']=True"
   ]
  },
  {
   "cell_type": "markdown",
   "metadata": {
    "collapsed": true
   },
   "source": [
    "# 2. Stores in 13 DMAs, but new and get all zips in 10 miles"
   ]
  },
  {
   "cell_type": "code",
   "execution_count": 12,
   "metadata": {},
   "outputs": [
    {
     "name": "stdout",
     "output_type": "stream",
     "text": [
      "['4671', '4676', '5363', '5382', '5386', '5371', '5374', '5379']\n"
     ]
    },
    {
     "data": {
      "text/html": [
       "<div>\n",
       "<style>\n",
       "    .dataframe thead tr:only-child th {\n",
       "        text-align: right;\n",
       "    }\n",
       "\n",
       "    .dataframe thead th {\n",
       "        text-align: left;\n",
       "    }\n",
       "\n",
       "    .dataframe tbody tr th {\n",
       "        vertical-align: top;\n",
       "    }\n",
       "</style>\n",
       "<table border=\"1\" class=\"dataframe\">\n",
       "  <thead>\n",
       "    <tr style=\"text-align: right;\">\n",
       "      <th></th>\n",
       "      <th>location_id</th>\n",
       "      <th>latitude_meas</th>\n",
       "      <th>longitude_meas</th>\n",
       "      <th>store_DMA</th>\n",
       "      <th>revenue_flag</th>\n",
       "    </tr>\n",
       "  </thead>\n",
       "  <tbody>\n",
       "    <tr>\n",
       "      <th>0</th>\n",
       "      <td>4671</td>\n",
       "      <td>41.285692</td>\n",
       "      <td>-72.880966</td>\n",
       "      <td>HARTFORD &amp; NEW HAVEN</td>\n",
       "      <td>zip_in_10_miles</td>\n",
       "    </tr>\n",
       "    <tr>\n",
       "      <th>1</th>\n",
       "      <td>4676</td>\n",
       "      <td>33.192350</td>\n",
       "      <td>-117.360965</td>\n",
       "      <td>SAN DIEGO</td>\n",
       "      <td>zip_in_10_miles</td>\n",
       "    </tr>\n",
       "  </tbody>\n",
       "</table>\n",
       "</div>"
      ],
      "text/plain": [
       "  location_id  latitude_meas  longitude_meas             store_DMA  \\\n",
       "0        4671      41.285692      -72.880966  HARTFORD & NEW HAVEN   \n",
       "1        4676      33.192350     -117.360965             SAN DIEGO   \n",
       "\n",
       "      revenue_flag  \n",
       "0  zip_in_10_miles  \n",
       "1  zip_in_10_miles  "
      ]
     },
     "execution_count": 12,
     "metadata": {},
     "output_type": "execute_result"
    }
   ],
   "source": [
    "stores_new=[x for x in store_list_13['location_id'].unique().tolist() if x not in store_level_zips_13_DMAs_PS['location_id'].unique().tolist()]\n",
    "print(stores_new)\n",
    "\n",
    "new_store_list=store_list[store_list['location_id'].isin(stores_new)][['location_id','latitude_meas','longitude_meas','DMA']].rename(columns={\"DMA\":\"store_DMA\"})\n",
    "new_store_list['revenue_flag']=\"zip_in_10_miles\"\n",
    "new_store_list=new_store_list.reset_index()\n",
    "del new_store_list['index']\n",
    "new_store_list.head(2)"
   ]
  },
  {
   "cell_type": "code",
   "execution_count": 13,
   "metadata": {
    "collapsed": true
   },
   "outputs": [],
   "source": [
    "zips_for_new_stores=pd.DataFrame()\n",
    "i_counter=0\n",
    "for i in range(len(new_store_list)):\n",
    "    location_id=new_store_list['location_id'][i]\n",
    "    store_center=(new_store_list['latitude_meas'][i],new_store_list['longitude_meas'][i])\n",
    "    for zip_cd in zip_centers.keys():\n",
    "        dist=haversine(store_center,zip_centers[zip_cd],miles=True)\n",
    "        if dist<=10:\n",
    "            df=pd.DataFrame({\"location_id\":location_id,\"zip_cd\":zip_cd,\"dist_miles\":dist},index=[i_counter])\n",
    "            i_counter+=1\n",
    "            zips_for_new_stores=zips_for_new_stores.append(df)\n",
    "            \n",
    "    \n",
    "            \n",
    "    "
   ]
  },
  {
   "cell_type": "code",
   "execution_count": 14,
   "metadata": {
    "collapsed": true
   },
   "outputs": [],
   "source": [
    "new_store_list=pd.merge(new_store_list,zips_for_new_stores,on=\"location_id\",how=\"left\")\n",
    "new_store_list['Store_in_13_DMA']=True\n",
    "new_store_list=pd.merge(new_store_list,zip_DMA_list_df,on=\"zip_cd\",how=\"left\").rename(columns={\"DMA_list\":\"DMA_for_zip\"})"
   ]
  },
  {
   "cell_type": "markdown",
   "metadata": {},
   "source": [
    "# 3. zips for other stores out of 13 DMAs, but labeled as P/S (S 20 miles from the store)"
   ]
  },
  {
   "cell_type": "code",
   "execution_count": 15,
   "metadata": {
    "collapsed": true
   },
   "outputs": [],
   "source": [
    "store_level_zips=pd.merge(store_level_zips,zip_DMA,on=\"zip_cd\",how=\"left\")\n",
    "store_level_zips=store_level_zips[~store_level_zips['zip_cd'].isin(new_store_list['zip_cd'].unique().tolist()+store_level_zips_13_DMAs_PS['zip_cd'].unique().tolist())]\n",
    "store_level_zips=store_level_zips[store_level_zips['DMA'].isin(DMA_13_List)]\n",
    "store_level_zips=store_level_zips[store_level_zips['revenue_flag'].isin([\"P\",\"S\"])]\n",
    "\n",
    "zips_in_store_out_df=store_level_zips[['location_id','zip_cd','revenue_flag']].drop_duplicates()\n",
    "zips_in_store_out_df['Store_in_13_DMA']=False\n",
    "zips_in_store_out_df=pd.merge(zips_in_store_out_df,store_list[['location_id','latitude_meas','longitude_meas']],on=\"location_id\",how=\"left\")\n",
    "zips_in_store_out_df=pd.merge(zips_in_store_out_df,zip_DMA_list_df,on=\"zip_cd\",how=\"left\").rename(columns={\"DMA_list\":\"DMA_for_zip\"})\n",
    "zips_in_store_out_df['store_DMA']=\"Not_in_the_13_DMAs\"\n",
    "zips_in_store_out_df=zips_in_store_out_df.reset_index()\n",
    "del zips_in_store_out_df['index']"
   ]
  },
  {
   "cell_type": "code",
   "execution_count": 16,
   "metadata": {},
   "outputs": [
    {
     "data": {
      "text/html": [
       "<div>\n",
       "<style>\n",
       "    .dataframe thead tr:only-child th {\n",
       "        text-align: right;\n",
       "    }\n",
       "\n",
       "    .dataframe thead th {\n",
       "        text-align: left;\n",
       "    }\n",
       "\n",
       "    .dataframe tbody tr th {\n",
       "        vertical-align: top;\n",
       "    }\n",
       "</style>\n",
       "<table border=\"1\" class=\"dataframe\">\n",
       "  <thead>\n",
       "    <tr style=\"text-align: right;\">\n",
       "      <th></th>\n",
       "      <th>location_id</th>\n",
       "      <th>zip_cd</th>\n",
       "      <th>revenue_flag</th>\n",
       "      <th>Store_in_13_DMA</th>\n",
       "      <th>latitude_meas</th>\n",
       "      <th>longitude_meas</th>\n",
       "      <th>DMA_for_zip</th>\n",
       "      <th>store_DMA</th>\n",
       "    </tr>\n",
       "  </thead>\n",
       "  <tbody>\n",
       "    <tr>\n",
       "      <th>0</th>\n",
       "      <td>1006</td>\n",
       "      <td>29520</td>\n",
       "      <td>S</td>\n",
       "      <td>False</td>\n",
       "      <td>33.678309</td>\n",
       "      <td>-78.90332</td>\n",
       "      <td>[CHARLOTTE]</td>\n",
       "      <td>Not_in_the_13_DMAs</td>\n",
       "    </tr>\n",
       "    <tr>\n",
       "      <th>1</th>\n",
       "      <td>1006</td>\n",
       "      <td>29706</td>\n",
       "      <td>S</td>\n",
       "      <td>False</td>\n",
       "      <td>33.678309</td>\n",
       "      <td>-78.90332</td>\n",
       "      <td>[CHARLOTTE]</td>\n",
       "      <td>Not_in_the_13_DMAs</td>\n",
       "    </tr>\n",
       "  </tbody>\n",
       "</table>\n",
       "</div>"
      ],
      "text/plain": [
       "  location_id zip_cd revenue_flag  Store_in_13_DMA  latitude_meas  \\\n",
       "0        1006  29520            S            False      33.678309   \n",
       "1        1006  29706            S            False      33.678309   \n",
       "\n",
       "   longitude_meas  DMA_for_zip           store_DMA  \n",
       "0       -78.90332  [CHARLOTTE]  Not_in_the_13_DMAs  \n",
       "1       -78.90332  [CHARLOTTE]  Not_in_the_13_DMAs  "
      ]
     },
     "execution_count": 16,
     "metadata": {},
     "output_type": "execute_result"
    }
   ],
   "source": [
    "zips_in_store_out_df.head(2)"
   ]
  },
  {
   "cell_type": "code",
   "execution_count": 18,
   "metadata": {},
   "outputs": [
    {
     "data": {
      "text/plain": [
       "(243, 8)"
      ]
     },
     "execution_count": 18,
     "metadata": {},
     "output_type": "execute_result"
    }
   ],
   "source": [
    "zips_in_store_out_df.shape"
   ]
  },
  {
   "cell_type": "code",
   "execution_count": null,
   "metadata": {
    "collapsed": true
   },
   "outputs": [],
   "source": []
  },
  {
   "cell_type": "code",
   "execution_count": null,
   "metadata": {
    "collapsed": true
   },
   "outputs": [],
   "source": []
  },
  {
   "cell_type": "code",
   "execution_count": 19,
   "metadata": {},
   "outputs": [
    {
     "name": "stderr",
     "output_type": "stream",
     "text": [
      "/usr/local/lib/python3.6/site-packages/ipykernel_launcher.py:13: SettingWithCopyWarning: \n",
      "A value is trying to be set on a copy of a slice from a DataFrame\n",
      "\n",
      "See the caveats in the documentation: http://pandas.pydata.org/pandas-docs/stable/indexing.html#indexing-view-versus-copy\n",
      "  del sys.path[0]\n"
     ]
    }
   ],
   "source": [
    "zips_in_store_out_df['dist_miles']=np.nan\n",
    "for i in range(len(zips_in_store_out_df)):\n",
    "    location_id=zips_in_store_out_df['location_id'][i]\n",
    "    store_center=(zips_in_store_out_df['latitude_meas'][i],zips_in_store_out_df['longitude_meas'][i])\n",
    "    zip_code=zips_in_store_out_df['zip_cd'][i]\n",
    "    if zip_code in zip_centers.keys():\n",
    "        dist=haversine(store_loc,zip_centers[zip_code],miles=True)\n",
    "    else:\n",
    "        try:\n",
    "            dist=haversine(store_loc,(float(zipcodes.matching(zip_code)['lat']),float(zipcodes.matching(zip_code)['long'])),miles=True)\n",
    "        except:\n",
    "            dist=np.nan\n",
    "    zips_in_store_out_df['dist_miles'][i]=dist\n",
    "zips_in_store_out_df=zips_in_store_out_df[(zips_in_store_out_df['revenue_flag']==\"P\") | (zips_in_store_out_df['dist_miles']<=20)]      "
   ]
  },
  {
   "cell_type": "code",
   "execution_count": 20,
   "metadata": {
    "collapsed": true
   },
   "outputs": [],
   "source": [
    "output_1_store_level=store_level_zips_13_DMAs_PS.append(new_store_list).append(zips_in_store_out_df)\n",
    "output_1_store_level=output_1_store_level[['zip_cd','location_id','revenue_flag','latitude_meas','longitude_meas',\n",
    "                                           'store_DMA','Store_in_13_DMA','dist_miles','DMA_for_zip']]\n",
    "\n",
    "output_1_store_level=output_1_store_level[output_1_store_level['location_id'].isin(sales_20190105['location_id'].tolist())]"
   ]
  },
  {
   "cell_type": "code",
   "execution_count": 21,
   "metadata": {
    "collapsed": true
   },
   "outputs": [],
   "source": [
    "output_2_DMA_level=pd.DataFrame()\n",
    "df_13_dma_stores=output_1_store_level[output_1_store_level['store_DMA']!=\"Not_in_the_13_DMAs\"]\n",
    "app_other_dma_stores=output_1_store_level[output_1_store_level['store_DMA']==\"Not_in_the_13_DMAs\"]\n",
    "\n",
    "for dma,group in df_13_dma_stores.groupby(['store_DMA']):\n",
    "    group=group.sort_values('revenue_flag').drop_duplicates('zip_cd')\n",
    "    df_dma_store=app_other_dma_stores[app_other_dma_stores['DMA_for_zip'].apply(lambda x: dma in x)]\n",
    "    group=group.append(df_dma_store)\n",
    "    output_2_DMA_level=output_2_DMA_level.append(group)\n"
   ]
  },
  {
   "cell_type": "code",
   "execution_count": 22,
   "metadata": {
    "collapsed": true
   },
   "outputs": [],
   "source": [
    "output_3_total_DMAs_level=output_1_store_level.sort_values('revenue_flag').drop_duplicates(['zip_cd'])"
   ]
  },
  {
   "cell_type": "code",
   "execution_count": 23,
   "metadata": {
    "collapsed": true
   },
   "outputs": [],
   "source": [
    "writer=pd.ExcelWriter(\"/home/jian/Projects/Big_Lots/Analysis/2018_Q4/Zip_For_13_Mkts/BL_zips_for_13_test_Mkts_JL_\"+str(datetime.datetime.now().date())+\".xlsx\",engine=\"xlsxwriter\")\n",
    "output_3_total_DMAs_level.to_excel(writer,\"overall_zips\",index=False)\n",
    "output_2_DMA_level.to_excel(writer,\"DMA_level\",index=False)\n",
    "output_1_store_level.to_excel(writer,\"Store_level\",index=False)\n",
    "writer.save()"
   ]
  },
  {
   "cell_type": "code",
   "execution_count": null,
   "metadata": {
    "collapsed": true
   },
   "outputs": [],
   "source": []
  },
  {
   "cell_type": "code",
   "execution_count": null,
   "metadata": {
    "collapsed": true
   },
   "outputs": [],
   "source": []
  },
  {
   "cell_type": "code",
   "execution_count": 24,
   "metadata": {},
   "outputs": [
    {
     "data": {
      "text/html": [
       "<div>\n",
       "<style>\n",
       "    .dataframe thead tr:only-child th {\n",
       "        text-align: right;\n",
       "    }\n",
       "\n",
       "    .dataframe thead th {\n",
       "        text-align: left;\n",
       "    }\n",
       "\n",
       "    .dataframe tbody tr th {\n",
       "        vertical-align: top;\n",
       "    }\n",
       "</style>\n",
       "<table border=\"1\" class=\"dataframe\">\n",
       "  <thead>\n",
       "    <tr style=\"text-align: right;\">\n",
       "      <th></th>\n",
       "      <th>net_transaction_amt</th>\n",
       "      <th>transactions</th>\n",
       "      <th>zip</th>\n",
       "      <th>revenue_flag</th>\n",
       "      <th>transaction_flag</th>\n",
       "      <th>location_id</th>\n",
       "    </tr>\n",
       "  </thead>\n",
       "  <tbody>\n",
       "    <tr>\n",
       "      <th>156024</th>\n",
       "      <td>347448.77</td>\n",
       "      <td>448</td>\n",
       "      <td>47909</td>\n",
       "      <td>P</td>\n",
       "      <td>P</td>\n",
       "      <td>132</td>\n",
       "    </tr>\n",
       "    <tr>\n",
       "      <th>156025</th>\n",
       "      <td>324048.09</td>\n",
       "      <td>402</td>\n",
       "      <td>47905</td>\n",
       "      <td>P</td>\n",
       "      <td>P</td>\n",
       "      <td>132</td>\n",
       "    </tr>\n",
       "  </tbody>\n",
       "</table>\n",
       "</div>"
      ],
      "text/plain": [
       "       net_transaction_amt transactions    zip revenue_flag transaction_flag  \\\n",
       "156024           347448.77          448  47909            P                P   \n",
       "156025           324048.09          402  47905            P                P   \n",
       "\n",
       "       location_id  \n",
       "156024         132  \n",
       "156025         132  "
      ]
     },
     "execution_count": 24,
     "metadata": {},
     "output_type": "execute_result"
    }
   ],
   "source": [
    "x=pd.read_csv(\"/home/jian/Projects/Big_Lots/New_TA/zips_in_new_ta/sales_by_zip (Store level).csv\",dtype=str)\n",
    "x=x[x['location_id']==\"132\"]\n",
    "x.head(2)"
   ]
  },
  {
   "cell_type": "code",
   "execution_count": 26,
   "metadata": {},
   "outputs": [
    {
     "data": {
      "text/html": [
       "<div>\n",
       "<style>\n",
       "    .dataframe thead tr:only-child th {\n",
       "        text-align: right;\n",
       "    }\n",
       "\n",
       "    .dataframe thead th {\n",
       "        text-align: left;\n",
       "    }\n",
       "\n",
       "    .dataframe tbody tr th {\n",
       "        vertical-align: top;\n",
       "    }\n",
       "</style>\n",
       "<table border=\"1\" class=\"dataframe\">\n",
       "  <thead>\n",
       "    <tr style=\"text-align: right;\">\n",
       "      <th></th>\n",
       "      <th>net_transaction_amt</th>\n",
       "      <th>transactions</th>\n",
       "      <th>zip</th>\n",
       "      <th>revenue_flag</th>\n",
       "      <th>transaction_flag</th>\n",
       "      <th>location_id</th>\n",
       "    </tr>\n",
       "  </thead>\n",
       "  <tbody>\n",
       "    <tr>\n",
       "      <th>156027</th>\n",
       "      <td>118849.66</td>\n",
       "      <td>382</td>\n",
       "      <td>47906</td>\n",
       "      <td>P</td>\n",
       "      <td>P</td>\n",
       "      <td>132</td>\n",
       "    </tr>\n",
       "  </tbody>\n",
       "</table>\n",
       "</div>"
      ],
      "text/plain": [
       "       net_transaction_amt transactions    zip revenue_flag transaction_flag  \\\n",
       "156027           118849.66          382  47906            P                P   \n",
       "\n",
       "       location_id  \n",
       "156027         132  "
      ]
     },
     "execution_count": 26,
     "metadata": {},
     "output_type": "execute_result"
    }
   ],
   "source": [
    "x[x['zip']==\"47906\"]\n"
   ]
  },
  {
   "cell_type": "code",
   "execution_count": null,
   "metadata": {
    "collapsed": true
   },
   "outputs": [],
   "source": []
  }
 ],
 "metadata": {
  "kernelspec": {
   "display_name": "Python 3",
   "language": "python",
   "name": "python3"
  },
  "language_info": {
   "codemirror_mode": {
    "name": "ipython",
    "version": 3
   },
   "file_extension": ".py",
   "mimetype": "text/x-python",
   "name": "python",
   "nbconvert_exporter": "python",
   "pygments_lexer": "ipython3",
   "version": "3.6.1"
  }
 },
 "nbformat": 4,
 "nbformat_minor": 2
}
