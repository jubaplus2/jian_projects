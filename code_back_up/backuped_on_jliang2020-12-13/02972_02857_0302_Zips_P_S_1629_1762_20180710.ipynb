{
 "cells": [
  {
   "cell_type": "code",
   "execution_count": 1,
   "metadata": {
    "collapsed": true
   },
   "outputs": [],
   "source": [
    "import pandas as pd\n",
    "import json\n",
    "from haversine import haversine\n",
    "import datetime\n",
    "today_str=str(datetime.datetime.now().date())"
   ]
  },
  {
   "cell_type": "code",
   "execution_count": 2,
   "metadata": {
    "collapsed": true
   },
   "outputs": [],
   "source": [
    "zip_centers=json.load(open(\"/home/jian/Docs/Geo_mapping/center_of_rentrak_zip.json\",\"r\"))"
   ]
  },
  {
   "cell_type": "code",
   "execution_count": 3,
   "metadata": {
    "collapsed": true
   },
   "outputs": [],
   "source": [
    "demo_df=pd.read_csv(\"/home/jian/Docs/Household_and_Population/2016/Demo_Dataset.csv\",dtype=str)\n",
    "demo_df=demo_df[['ZIP_CODE','HH15','Estimate; Female: - 25 to 29 years','Estimate; Female: - 30 to 34 years',\n",
    "                 'Estimate; Female: - 35 to 39 years','Estimate; Female: - 40 to 44 years',\n",
    "                 'Estimate; Female: - 45 to 49 years','Estimate; Female: - 50 to 54 years']]\n",
    "for col in demo_df.columns.tolist()[1:]:\n",
    "    demo_df[col]=demo_df[col].astype(float)\n",
    "demo_df['Female_25_54']=demo_df[['Estimate; Female: - 25 to 29 years','Estimate; Female: - 30 to 34 years',\n",
    "                 'Estimate; Female: - 35 to 39 years','Estimate; Female: - 40 to 44 years',\n",
    "                 'Estimate; Female: - 45 to 49 years','Estimate; Female: - 50 to 54 years']].sum(axis=1)\n",
    "demo_df=demo_df[['ZIP_CODE','HH15','Female_25_54']].rename(columns={\"ZIP_CODE\":\"zip_cd\",\"HH15\":\"Households\"})\n",
    "demo_df['zip_cd']=demo_df['zip_cd'].apply(lambda x:x.zfill(5))"
   ]
  },
  {
   "cell_type": "markdown",
   "metadata": {},
   "source": [
    "# 10_Miles"
   ]
  },
  {
   "cell_type": "code",
   "execution_count": 29,
   "metadata": {
    "collapsed": true
   },
   "outputs": [],
   "source": [
    "def finding_10_miles_zips(store_center,location_id,zip_for_store):\n",
    "    result=pd.DataFrame()\n",
    "    i=0\n",
    "    for zip_5 in zip_centers.keys():    \n",
    "        dist=haversine(store_center,zip_centers[zip_5],miles=True)\n",
    "        if dist<=10:        \n",
    "            df=pd.DataFrame({\"zip_cd\":zip_5,\"Center_Lat\":zip_centers[zip_5][0],\"Center_Long\":zip_centers[zip_5][1],\"Distance_Mile\":dist},index=[i])\n",
    "            i=i+1\n",
    "            result=result.append(df)\n",
    "    result['Store_id']=store_location_id\n",
    "    result['Store_zip']=zip_for_store\n",
    "    result=result[['Store_id','Store_zip','zip_cd','Center_Lat','Center_Long','Distance_Mile']]\n",
    "    result=pd.merge(result,demo_df,on=\"zip_cd\",how=\"left\")\n",
    "    return result"
   ]
  },
  {
   "cell_type": "code",
   "execution_count": 30,
   "metadata": {
    "collapsed": true
   },
   "outputs": [],
   "source": [
    "writer=pd.ExcelWriter(\"/home/jian/Projects/Big_Lots/New_TA/Zips_within_10_miles/BL_Zips_in_10_miles_\"+today_str+\"_Denver_12_stores.xlsx\",engine=\"xlsxwriter\")"
   ]
  },
  {
   "cell_type": "code",
   "execution_count": 31,
   "metadata": {
    "collapsed": true
   },
   "outputs": [],
   "source": [
    "store_list=pd.read_table(\"/home/jian/BigLots/static_files/MediaStormStores_20180703.txt\",dtype=str,sep=\"|\")\n",
    "store_list['location_id']=store_list['location_id'].astype(int)\n",
    "store_list['longitude_meas']=store_list['longitude_meas'].astype(float)\n",
    "store_list['latitude_meas']=store_list['latitude_meas'].astype(float)\n",
    "store_list['zip_cd']=store_list['zip_cd'].apply(lambda x: x.split(\"-\")[0].zfill(5))\n",
    "store_list=store_list[['location_id','zip_cd','latitude_meas','longitude_meas']]"
   ]
  },
  {
   "cell_type": "code",
   "execution_count": 32,
   "metadata": {
    "collapsed": true
   },
   "outputs": [],
   "source": [
    "Denver_Target_Store_List=[1914, 1920, 4117, 4133, 4513, 4586, 4121, 4341, 4486, 4490, 4517, 4572]\n",
    "Devnver_Store_Df=store_list[store_list['location_id'].isin(Denver_Target_Store_List)].reset_index()\n",
    "del Devnver_Store_Df['index']"
   ]
  },
  {
   "cell_type": "code",
   "execution_count": 33,
   "metadata": {
    "collapsed": true
   },
   "outputs": [],
   "source": [
    "'''\n",
    "df_store_zips=pd.DataFrame()\n",
    "for i in range(len(Devnver_Store_Df)):\n",
    "    store_center=(Devnver_Store_Df['latitude_meas'][i],Devnver_Store_Df['longitude_meas'][i])\n",
    "    zip_for_store=Devnver_Store_Df['zip_cd'][i]\n",
    "    store_location_id=Devnver_Store_Df['location_id'][i]\n",
    "    df=finding_10_miles_zips(store_center,store_location_id,zip_for_store)\n",
    "    df_store_zips=df_store_zips.append(df)\n",
    "df_store_zips['DMA']='Denver, CO'\n",
    "df_target_zips_unique=df_store_zips[['zip_cd','DMA']].drop_duplicates()\n",
    "df_target_zips_unique.to_excel(writer,\"target_zips_unique\",index=False)\n",
    "df_store_zips.to_excel(writer,\"12_store_zips\",index=False)\n",
    "writer.save()\n",
    "'''"
   ]
  },
  {
   "cell_type": "code",
   "execution_count": null,
   "metadata": {
    "collapsed": true
   },
   "outputs": [],
   "source": []
  },
  {
   "cell_type": "markdown",
   "metadata": {
    "collapsed": true
   },
   "source": [
    "# P_S"
   ]
  },
  {
   "cell_type": "code",
   "execution_count": 18,
   "metadata": {
    "collapsed": true
   },
   "outputs": [],
   "source": [
    "store_level_TA_zips=pd.read_csv(\"/home/jian/Projects/Big_Lots/New_TA/zips_in_new_ta/sales_by_zip (Store level).csv\",dtype=str)\n",
    "store_level_TA_zips['location_id']=store_level_TA_zips['location_id'].astype(int)\n",
    "\n",
    "store_list=pd.read_table(\"/home/jian/BigLots/static_files/MediaStormStores_20180703.txt\",dtype=str,sep=\"|\")\n",
    "store_list['location_id']=store_list['location_id'].astype(int)\n",
    "store_list['longitude_meas']=store_list['longitude_meas'].astype(float)\n",
    "store_list['latitude_meas']=store_list['latitude_meas'].astype(float)\n",
    "store_list['zip_cd']=store_list['zip_cd'].apply(lambda x: x.split(\"-\")[0].zfill(5))\n",
    "store_list=store_list[['location_id','location_desc','address_line_1','address_line_2','zip_cd','latitude_meas','longitude_meas']]"
   ]
  },
  {
   "cell_type": "code",
   "execution_count": 32,
   "metadata": {},
   "outputs": [],
   "source": [
    "\n",
    "df_P_S['store_lat']=store_list[store_list['location_id']==store]['latitude_meas'].unique()[0]"
   ]
  },
  {
   "cell_type": "code",
   "execution_count": 33,
   "metadata": {},
   "outputs": [],
   "source": [
    "def extract_store_level_zip(store):\n",
    "    df=store_level_TA_zips[store_level_TA_zips['location_id']==store]\n",
    "    df_P=df[df['revenue_flag']==\"P\"]\n",
    "    df_S=df[df['revenue_flag']==\"S\"]\n",
    "    df_P_S=df_P.append(df_S)\n",
    "    df_P_S['zip_cd']=df_P_S['zip'].apply(lambda x: x.zfill(5))\n",
    "    df_P_S=df_P_S[['location_id','zip_cd','revenue_flag']]\n",
    "    df_P_S['store_lat']=store_list[store_list['location_id']==store]['latitude_meas'].unique()[0]\n",
    "    df_P_S['store_long']=store_list[store_list['location_id']==store]['longitude_meas'].unique()[0]\n",
    "    df_P_S['location_desc']=store_list[store_list['location_id']==store]['location_desc'].unique()[0]\n",
    "    df_P_S['address_line_1']=store_list[store_list['location_id']==store]['address_line_1'].unique()[0]\n",
    "    df_P_S['address_line_2']=store_list[store_list['location_id']==store]['address_line_2'].unique()[0]\n",
    "    store_lat=store_list[store_list['location_id']==store]['latitude_meas'].unique()[0]\n",
    "    store_long=store_list[store_list['location_id']==store]['longitude_meas'].unique()[0]\n",
    "    df_P_S['distance']=df_P_S['zip_cd'].apply(lambda x: haversine((store_lat,store_long),zip_centers[x],miles=True))\n",
    "    \n",
    "    return df_P_S\n",
    "    \n",
    "    "
   ]
  },
  {
   "cell_type": "code",
   "execution_count": 39,
   "metadata": {},
   "outputs": [],
   "source": [
    "df_1629=extract_store_level_zip(1629)\n",
    "df_1762=extract_store_level_zip(1762)\n",
    "output=df_1629.append(df_1762)"
   ]
  },
  {
   "cell_type": "code",
   "execution_count": 40,
   "metadata": {},
   "outputs": [],
   "source": [
    "writer=pd.ExcelWriter(\"/home/jian/Projects/Big_Lots/New_TA/Zips_within_10_miles/BL_Zips_in_P_S_store_level_\"+today_str+\"_2_stores_1629_1762.xlsx\",engine=\"xlsxwriter\")\n",
    "output.to_excel(writer,\"1629_and_1762\",index=False)\n",
    "writer.save()"
   ]
  },
  {
   "cell_type": "code",
   "execution_count": null,
   "metadata": {
    "collapsed": true
   },
   "outputs": [],
   "source": []
  },
  {
   "cell_type": "code",
   "execution_count": 45,
   "metadata": {},
   "outputs": [
    {
     "data": {
      "text/html": [
       "<div>\n",
       "<style>\n",
       "    .dataframe thead tr:only-child th {\n",
       "        text-align: right;\n",
       "    }\n",
       "\n",
       "    .dataframe thead th {\n",
       "        text-align: left;\n",
       "    }\n",
       "\n",
       "    .dataframe tbody tr th {\n",
       "        vertical-align: top;\n",
       "    }\n",
       "</style>\n",
       "<table border=\"1\" class=\"dataframe\">\n",
       "  <thead>\n",
       "    <tr style=\"text-align: right;\">\n",
       "      <th></th>\n",
       "      <th>revenue_flag</th>\n",
       "      <th>zip</th>\n",
       "    </tr>\n",
       "  </thead>\n",
       "  <tbody>\n",
       "    <tr>\n",
       "      <th>0</th>\n",
       "      <td>P</td>\n",
       "      <td>5</td>\n",
       "    </tr>\n",
       "    <tr>\n",
       "      <th>1</th>\n",
       "      <td>S</td>\n",
       "      <td>6</td>\n",
       "    </tr>\n",
       "    <tr>\n",
       "      <th>2</th>\n",
       "      <td>T</td>\n",
       "      <td>624</td>\n",
       "    </tr>\n",
       "  </tbody>\n",
       "</table>\n",
       "</div>"
      ],
      "text/plain": [
       "  revenue_flag  zip\n",
       "0            P    5\n",
       "1            S    6\n",
       "2            T  624"
      ]
     },
     "execution_count": 45,
     "metadata": {},
     "output_type": "execute_result"
    }
   ],
   "source": [
    "store_level_TA_zips[store_level_TA_zips['location_id']==1762].groupby(['revenue_flag'])['zip'].count().to_frame().reset_index()"
   ]
  },
  {
   "cell_type": "code",
   "execution_count": null,
   "metadata": {
    "collapsed": true
   },
   "outputs": [],
   "source": []
  },
  {
   "cell_type": "code",
   "execution_count": null,
   "metadata": {
    "collapsed": true
   },
   "outputs": [],
   "source": []
  },
  {
   "cell_type": "code",
   "execution_count": null,
   "metadata": {
    "collapsed": true
   },
   "outputs": [],
   "source": []
  },
  {
   "cell_type": "code",
   "execution_count": null,
   "metadata": {
    "collapsed": true
   },
   "outputs": [],
   "source": []
  },
  {
   "cell_type": "code",
   "execution_count": null,
   "metadata": {
    "collapsed": true
   },
   "outputs": [],
   "source": []
  },
  {
   "cell_type": "code",
   "execution_count": 65,
   "metadata": {
    "collapsed": true
   },
   "outputs": [],
   "source": [
    "P_store_level_TA_zips_Devner_12_Stores.head(2)\n",
    "unique_P_zips=P_store_level_TA_zips_Devner_12_Stores['zip'].unique().tolist()\n",
    "unique_S_zips=[x for x in S_store_level_TA_zips_Devner_12_Stores['zip'].unique().tolist() if x not in unique_P_zips]\n",
    "unique_P_df=pd.DataFrame({\"zip_cd\":unique_P_zips,\"revenue_flag\":\"P\"},index=range(len(unique_P_zips)))\n",
    "unique_S_df=pd.DataFrame({\"zip_cd\":unique_S_zips,\"revenue_flag\":\"S\"},index=range(len(unique_S_zips)))\n"
   ]
  },
  {
   "cell_type": "code",
   "execution_count": 66,
   "metadata": {
    "collapsed": true
   },
   "outputs": [],
   "source": [
    "writer=pd.ExcelWriter(\"/home/jian/Projects/Big_Lots/New_TA/Zips_within_10_miles/BL_Zips_in_P_S_store_level_\"+today_str+\"_Denver_12_stores.xlsx\",engine=\"xlsxwriter\")\n",
    "unique_P_df.to_excel(writer,'unique_P_list',index=False)\n",
    "unique_S_df.to_excel(writer,'unique_S_list',index=False)\n",
    "P_store_level_TA_zips_Devner_12_Stores.to_excel(writer,\"P_zips_by_store\",index=False)\n",
    "S_store_level_TA_zips_Devner_12_Stores.to_excel(writer,\"S_zips_by_store\",index=False)\n",
    "writer.save()"
   ]
  },
  {
   "cell_type": "code",
   "execution_count": null,
   "metadata": {
    "collapsed": true
   },
   "outputs": [],
   "source": []
  }
 ],
 "metadata": {
  "kernelspec": {
   "display_name": "Python 3",
   "language": "python",
   "name": "python3"
  },
  "language_info": {
   "codemirror_mode": {
    "name": "ipython",
    "version": 3
   },
   "file_extension": ".py",
   "mimetype": "text/x-python",
   "name": "python",
   "nbconvert_exporter": "python",
   "pygments_lexer": "ipython3",
   "version": "3.6.1"
  }
 },
 "nbformat": 4,
 "nbformat_minor": 2
}
