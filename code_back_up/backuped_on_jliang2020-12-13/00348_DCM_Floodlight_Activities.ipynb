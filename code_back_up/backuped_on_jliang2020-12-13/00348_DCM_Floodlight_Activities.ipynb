{
 "cells": [
  {
   "cell_type": "code",
   "execution_count": 1,
   "metadata": {
    "collapsed": true
   },
   "outputs": [],
   "source": [
    "import pandas as pd"
   ]
  },
  {
   "cell_type": "code",
   "execution_count": 2,
   "metadata": {},
   "outputs": [
    {
     "data": {
      "text/plain": [
       "'/home/jian/Projects/Big_Lots/Analysis/2018_Q4/URL_Pages/DCM'"
      ]
     },
     "execution_count": 2,
     "metadata": {},
     "output_type": "execute_result"
    }
   ],
   "source": [
    "import os\n",
    "os.getcwd()"
   ]
  },
  {
   "cell_type": "code",
   "execution_count": 5,
   "metadata": {},
   "outputs": [
    {
     "data": {
      "text/plain": [
       "24"
      ]
     },
     "execution_count": 5,
     "metadata": {},
     "output_type": "execute_result"
    }
   ],
   "source": [
    "ids_24_urls=pd.read_excel(\"/home/jian/Projects/Big_Lots/Analysis/2018_Q4/URL_Pages/DCM/bysitebyactivity_map_JL.xlsx\",dtype=str,sheetname=\"IDs in 24 URLs\")\n",
    "Id_list=ids_24_urls['Activity ID'].unique().tolist()\n",
    "len(Id_list)"
   ]
  },
  {
   "cell_type": "code",
   "execution_count": 6,
   "metadata": {},
   "outputs": [
    {
     "data": {
      "text/plain": [
       "['7941165',\n",
       " '7941168',\n",
       " '7941174',\n",
       " '7945962',\n",
       " '7945965',\n",
       " '7945968',\n",
       " '7945971',\n",
       " '7945974',\n",
       " '7945980',\n",
       " '7952846',\n",
       " '7999849',\n",
       " '7999855',\n",
       " '7999867',\n",
       " '8000752',\n",
       " '8000755',\n",
       " '8000758',\n",
       " '8000761',\n",
       " '8001436',\n",
       " '8001439',\n",
       " '8001442',\n",
       " '8001445',\n",
       " '8001451',\n",
       " '8001721',\n",
       " '8001727']"
      ]
     },
     "execution_count": 6,
     "metadata": {},
     "output_type": "execute_result"
    }
   ],
   "source": [
    "Id_list"
   ]
  },
  {
   "cell_type": "code",
   "execution_count": null,
   "metadata": {
    "collapsed": true
   },
   "outputs": [],
   "source": []
  }
 ],
 "metadata": {
  "kernelspec": {
   "display_name": "Python 3",
   "language": "python",
   "name": "python3"
  },
  "language_info": {
   "codemirror_mode": {
    "name": "ipython",
    "version": 3
   },
   "file_extension": ".py",
   "mimetype": "text/x-python",
   "name": "python",
   "nbconvert_exporter": "python",
   "pygments_lexer": "ipython3",
   "version": "3.6.1"
  }
 },
 "nbformat": 4,
 "nbformat_minor": 2
}
