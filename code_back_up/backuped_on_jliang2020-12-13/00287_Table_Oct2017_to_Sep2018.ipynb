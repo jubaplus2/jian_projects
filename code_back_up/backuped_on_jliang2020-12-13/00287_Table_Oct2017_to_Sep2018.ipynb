{
 "cells": [
  {
   "cell_type": "code",
   "execution_count": 1,
   "metadata": {},
   "outputs": [
    {
     "data": {
      "text/plain": [
       "'/home/jian/Projects/Big_Lots/Analysis/2019_Q4/Loyalty_Health'"
      ]
     },
     "execution_count": 1,
     "metadata": {},
     "output_type": "execute_result"
    }
   ],
   "source": [
    "# scoring as up to the day of 2017-10-01\n",
    "# Track the sales from 2017-10-01 to 2018-09-30\n",
    "# Need to rerun\n",
    "\n",
    "import pandas as pd\n",
    "import numpy as np\n",
    "import datetime\n",
    "import os\n",
    "import logging\n",
    "import glob\n",
    "import gc\n",
    "pd.options.display.max_columns=99\n",
    "os.getcwd()"
   ]
  },
  {
   "cell_type": "code",
   "execution_count": 2,
   "metadata": {
    "collapsed": true
   },
   "outputs": [],
   "source": [
    "def recursive_file_gen(root_folder):\n",
    "    for root, dirs, files in os.walk(root_folder):\n",
    "        for file in files:\n",
    "            yield os.path.join(root, file)"
   ]
  },
  {
   "cell_type": "code",
   "execution_count": 3,
   "metadata": {},
   "outputs": [
    {
     "name": "stdout",
     "output_type": "stream",
     "text": [
      "Lapsed Start on: 2016-04-03\n",
      "Active Start on: 2016-10-02\n",
      "Store Allocation Starting on: 2016-04-03\n",
      "Last Saturday: 2017-09-30\n"
     ]
    }
   ],
   "source": [
    "lastdate_date=datetime.date(2017,9,30) # Last day\n",
    "active_Sunday=str(lastdate_date-datetime.timedelta(days=52*7-1))\n",
    "\n",
    "lapsed_Sunday=str(lastdate_date-datetime.timedelta(days=52*7*1.5-1))\n",
    "Beginning_18_months_ago=str(lastdate_date-datetime.timedelta(days=52*7*1.5-1))\n",
    "\n",
    "lastdate=str(lastdate_date)\n",
    "print(\"Lapsed Start on: \"+lapsed_Sunday) #>=\n",
    "print(\"Active Start on: \"+active_Sunday) #>=\n",
    "print(\"Store Allocation Starting on: \"+Beginning_18_months_ago) #>=\n",
    "print(\"Last Saturday: \"+lastdate) #<="
   ]
  },
  {
   "cell_type": "code",
   "execution_count": 4,
   "metadata": {},
   "outputs": [
    {
     "name": "stdout",
     "output_type": "stream",
     "text": [
      "2016-07-02\n",
      "2017-09-30\n"
     ]
    }
   ],
   "source": [
    "historical_subclass_files=glob.glob(\"/home/jian/BigLots/hist_daily_data_subclasslevel/*.txt\")\n",
    "historical_subclass_files=[x for x in historical_subclass_files if x.split(\"ediaStormDailySales_week_ending_\")[1][:10]<=\"2017-09-30\"]\n",
    "\n",
    "historical_subclass_files.sort()\n",
    "\n",
    "print(min([x.split(\"ediaStormDailySales_week_ending_\")[1][:10] for x in historical_subclass_files]))\n",
    "print(max([x.split(\"ediaStormDailySales_week_ending_\")[1][:10] for x in historical_subclass_files]))\n"
   ]
  },
  {
   "cell_type": "code",
   "execution_count": 5,
   "metadata": {},
   "outputs": [
    {
     "name": "stdout",
     "output_type": "stream",
     "text": [
      "0 2016-06-26 2016-07-02 2019-11-11 19:45:46.290675 /home/jian/BigLots/hist_daily_data_subclasslevel/MediaStormDailySales_week_ending_2016-07-02.txt\n",
      "1 2016-07-03 2016-07-09 2019-11-11 19:46:48.301229 /home/jian/BigLots/hist_daily_data_subclasslevel/MediaStormDailySales_week_ending_2016-07-09.txt\n",
      "2 2016-07-10 2016-07-16 2019-11-11 19:47:50.088198 /home/jian/BigLots/hist_daily_data_subclasslevel/MediaStormDailySales_week_ending_2016-07-16.txt\n",
      "3 2016-07-17 2016-07-23 2019-11-11 19:48:27.282301 /home/jian/BigLots/hist_daily_data_subclasslevel/MediaStormDailySales_week_ending_2016-07-23.txt\n",
      "4 2016-07-24 2016-07-30 2019-11-11 19:49:07.000595 /home/jian/BigLots/hist_daily_data_subclasslevel/MediaStormDailySales_week_ending_2016-07-30.txt\n",
      "5 2016-07-31 2016-08-06 2019-11-11 19:49:48.503444 /home/jian/BigLots/hist_daily_data_subclasslevel/MediaStormDailySales_week_ending_2016-08-06.txt\n",
      "6 2016-08-07 2016-08-13 2019-11-11 19:50:29.890201 /home/jian/BigLots/hist_daily_data_subclasslevel/MediaStormDailySales_week_ending_2016-08-13.txt\n",
      "7 2016-08-14 2016-08-20 2019-11-11 19:51:11.463786 /home/jian/BigLots/hist_daily_data_subclasslevel/MediaStormDailySales_week_ending_2016-08-20.txt\n",
      "8 2016-08-21 2016-08-27 2019-11-11 19:51:49.917828 /home/jian/BigLots/hist_daily_data_subclasslevel/MediaStormDailySales_week_ending_2016-08-27.txt\n",
      "9 2016-08-28 2016-09-03 2019-11-11 19:52:32.153042 /home/jian/BigLots/hist_daily_data_subclasslevel/MediaStormDailySales_week_ending_2016-09-03.txt\n",
      "10 2016-09-04 2016-09-10 2019-11-11 19:53:13.383646 /home/jian/BigLots/hist_daily_data_subclasslevel/MediaStormDailySales_week_ending_2016-09-10.txt\n",
      "11 2016-09-11 2016-09-17 2019-11-11 19:53:55.095166 /home/jian/BigLots/hist_daily_data_subclasslevel/MediaStormDailySales_week_ending_2016-09-17.txt\n",
      "12 2016-09-18 2016-09-24 2019-11-11 19:54:31.826587 /home/jian/BigLots/hist_daily_data_subclasslevel/MediaStormDailySales_week_ending_2016-09-24.txt\n",
      "13 2016-09-25 2016-10-01 2019-11-11 19:55:28.238693 /home/jian/BigLots/hist_daily_data_subclasslevel/MediaStormDailySales_week_ending_2016-10-01.txt\n",
      "14 2016-10-02 2016-10-08 2019-11-11 19:56:34.800293 /home/jian/BigLots/hist_daily_data_subclasslevel/MediaStormDailySales_week_ending_2016-10-08.txt\n",
      "15 2016-10-09 2016-10-15 2019-11-11 19:57:12.169359 /home/jian/BigLots/hist_daily_data_subclasslevel/MediaStormDailySales_week_ending_2016-10-15.txt\n",
      "16 2016-10-16 2016-10-22 2019-11-11 19:57:49.511997 /home/jian/BigLots/hist_daily_data_subclasslevel/MediaStormDailySales_week_ending_2016-10-22.txt\n",
      "17 2016-10-23 2016-10-29 2019-11-11 19:58:35.123408 /home/jian/BigLots/hist_daily_data_subclasslevel/MediaStormDailySales_week_ending_2016-10-29.txt\n",
      "18 2016-10-30 2016-11-05 2019-11-11 19:59:17.857887 /home/jian/BigLots/hist_daily_data_subclasslevel/MediaStormDailySales_week_ending_2016-11-05.txt\n",
      "19 2016-11-06 2016-11-12 2019-11-11 20:00:01.420689 /home/jian/BigLots/hist_daily_data_subclasslevel/MediaStormDailySales_week_ending_2016-11-12.txt\n",
      "20 2016-11-13 2016-11-19 2019-11-11 20:00:50.985396 /home/jian/BigLots/hist_daily_data_subclasslevel/MediaStormDailySales_week_ending_2016-11-19.txt\n",
      "21 2016-11-20 2016-11-26 2019-11-11 20:02:07.961036 /home/jian/BigLots/hist_daily_data_subclasslevel/MediaStormDailySales_week_ending_2016-11-26.txt\n",
      "22 2016-11-27 2016-12-03 2019-11-11 20:03:19.213139 /home/jian/BigLots/hist_daily_data_subclasslevel/MediaStormDailySales_week_ending_2016-12-03.txt\n",
      "23 2016-12-04 2016-12-10 2019-11-11 20:04:26.650399 /home/jian/BigLots/hist_daily_data_subclasslevel/MediaStormDailySales_week_ending_2016-12-10.txt\n",
      "24 2016-12-11 2016-12-17 2019-11-11 20:05:37.926216 /home/jian/BigLots/hist_daily_data_subclasslevel/MediaStormDailySales_week_ending_2016-12-17.txt\n",
      "25 2016-12-18 2016-12-24 2019-11-11 20:07:13.280321 /home/jian/BigLots/hist_daily_data_subclasslevel/MediaStormDailySales_week_ending_2016-12-24.txt\n",
      "26 2016-12-26 2016-12-31 2019-11-11 20:07:55.109761 /home/jian/BigLots/hist_daily_data_subclasslevel/MediaStormDailySales_week_ending_2016-12-31.txt\n",
      "27 2017-01-01 2017-01-07 2019-11-11 20:08:26.556046 /home/jian/BigLots/hist_daily_data_subclasslevel/MediaStormDailySales_week_ending_2017-01-07.txt\n",
      "28 2017-01-08 2017-01-14 2019-11-11 20:08:59.302992 /home/jian/BigLots/hist_daily_data_subclasslevel/MediaStormDailySales_week_ending_2017-01-14.txt\n",
      "29 2017-01-15 2017-01-21 2019-11-11 20:09:50.002815 /home/jian/BigLots/hist_daily_data_subclasslevel/MediaStormDailySales_week_ending_2017-01-21.txt\n",
      "30 2017-01-22 2017-01-28 2019-11-11 20:10:36.388614 /home/jian/BigLots/hist_daily_data_subclasslevel/MediaStormDailySales_week_ending_2017-01-28.txt\n",
      "31 2017-01-29 2017-02-04 2019-11-11 20:11:11.990188 /home/jian/BigLots/hist_daily_data_subclasslevel/MediaStormDailySales_week_ending_2017-02-04.txt\n",
      "32 2017-02-05 2017-02-11 2019-11-11 20:11:47.721038 /home/jian/BigLots/hist_daily_data_subclasslevel/MediaStormDailySales_week_ending_2017-02-11.txt\n",
      "33 2017-02-12 2017-02-18 2019-11-11 20:12:28.271744 /home/jian/BigLots/hist_daily_data_subclasslevel/MediaStormDailySales_week_ending_2017-02-18.txt\n",
      "34 2017-02-19 2017-02-25 2019-11-11 20:13:11.228226 /home/jian/BigLots/hist_daily_data_subclasslevel/MediaStormDailySales_week_ending_2017-02-25.txt\n",
      "35 2017-02-26 2017-03-04 2019-11-11 20:13:58.474121 /home/jian/BigLots/hist_daily_data_subclasslevel/MediaStormDailySales_week_ending_2017-03-04.txt\n",
      "36 2017-03-05 2017-03-11 2019-11-11 20:14:48.406911 /home/jian/BigLots/hist_daily_data_subclasslevel/MediaStormDailySales_week_ending_2017-03-11.txt\n",
      "37 2017-03-12 2017-03-18 2019-11-11 20:15:26.978143 /home/jian/BigLots/hist_daily_data_subclasslevel/MediaStormDailySales_week_ending_2017-03-18.txt\n",
      "38 2017-03-19 2017-03-25 2019-11-11 20:16:06.205027 /home/jian/BigLots/hist_daily_data_subclasslevel/MediaStormDailySales_week_ending_2017-03-25.txt\n",
      "39 2017-03-26 2017-04-01 2019-11-11 20:16:59.464378 /home/jian/BigLots/hist_daily_data_subclasslevel/MediaStormDailySales_week_ending_2017-04-01.txt\n",
      "40 2017-04-02 2017-04-08 2019-11-11 20:17:45.344420 /home/jian/BigLots/hist_daily_data_subclasslevel/MediaStormDailySales_week_ending_2017-04-08.txt\n",
      "41 2017-04-09 2017-04-15 2019-11-11 20:18:23.910465 /home/jian/BigLots/hist_daily_data_subclasslevel/MediaStormDailySales_week_ending_2017-04-15.txt\n",
      "42 2017-04-16 2017-04-22 2019-11-11 20:18:57.124826 /home/jian/BigLots/hist_daily_data_subclasslevel/MediaStormDailySales_week_ending_2017-04-22.txt\n",
      "43 2017-04-23 2017-04-29 2019-11-11 20:19:37.372391 /home/jian/BigLots/hist_daily_data_subclasslevel/MediaStormDailySales_week_ending_2017-04-29.txt\n",
      "44 2017-04-30 2017-05-06 2019-11-11 20:20:17.582894 /home/jian/BigLots/hist_daily_data_subclasslevel/MediaStormDailySales_week_ending_2017-05-06.txt\n",
      "45 2017-05-07 2017-05-13 2019-11-11 20:20:56.593825 /home/jian/BigLots/hist_daily_data_subclasslevel/MediaStormDailySales_week_ending_2017-05-13.txt\n",
      "46 2017-05-14 2017-05-20 2019-11-11 20:21:33.806119 /home/jian/BigLots/hist_daily_data_subclasslevel/MediaStormDailySales_week_ending_2017-05-20.txt\n",
      "47 2017-05-21 2017-05-27 2019-11-11 20:22:15.003054 /home/jian/BigLots/hist_daily_data_subclasslevel/MediaStormDailySales_week_ending_2017-05-27.txt\n",
      "48 2017-05-28 2017-06-03 2019-11-11 20:22:59.816447 /home/jian/BigLots/hist_daily_data_subclasslevel/MediaStormDailySales_week_ending_2017-06-03.txt\n",
      "49 2017-06-04 2017-06-10 2019-11-11 20:23:41.687028 /home/jian/BigLots/hist_daily_data_subclasslevel/MediaStormDailySales_week_ending_2017-06-10.txt\n",
      "50 2017-06-11 2017-06-17 2019-11-11 20:24:24.180810 /home/jian/BigLots/hist_daily_data_subclasslevel/MediaStormDailySales_week_ending_2017-06-17.txt\n",
      "51 2017-06-18 2017-06-24 2019-11-11 20:25:10.051058 /home/jian/BigLots/hist_daily_data_subclasslevel/MediaStormDailySales_week_ending_2017-06-24.txt\n",
      "52 2017-06-25 2017-07-01 2019-11-11 20:25:59.669212 /home/jian/BigLots/hist_daily_data_subclasslevel/MediaStormDailySales_week_ending_2017-07-01.txt\n",
      "53 2017-07-02 2017-07-08 2019-11-11 20:27:08.678363 /home/jian/BigLots/hist_daily_data_subclasslevel/MediaStormDailySales_week_ending_2017-07-08.txt\n",
      "54 2017-07-09 2017-07-15 2019-11-11 20:28:01.351259 /home/jian/BigLots/hist_daily_data_subclasslevel/MediaStormDailySales_week_ending_2017-07-15.txt\n",
      "55 2017-07-16 2017-07-22 2019-11-11 20:28:47.891068 /home/jian/BigLots/hist_daily_data_subclasslevel/MediaStormDailySales_week_ending_2017-07-22.txt\n"
     ]
    },
    {
     "name": "stdout",
     "output_type": "stream",
     "text": [
      "56 2017-07-23 2017-07-29 2019-11-11 20:29:40.341628 /home/jian/BigLots/hist_daily_data_subclasslevel/MediaStormDailySales_week_ending_2017-07-29.txt\n",
      "57 2017-07-30 2017-08-05 2019-11-11 20:30:28.534913 /home/jian/BigLots/hist_daily_data_subclasslevel/MediaStormDailySales_week_ending_2017-08-05.txt\n",
      "58 2017-08-06 2017-08-12 2019-11-11 20:31:18.346253 /home/jian/BigLots/hist_daily_data_subclasslevel/MediaStormDailySales_week_ending_2017-08-12.txt\n",
      "59 2017-08-13 2017-08-19 2019-11-11 20:32:12.106114 /home/jian/BigLots/hist_daily_data_subclasslevel/MediaStormDailySales_week_ending_2017-08-19.txt\n",
      "60 2017-08-20 2017-08-26 2019-11-11 20:33:00.739684 /home/jian/BigLots/hist_daily_data_subclasslevel/MediaStormDailySales_week_ending_2017-08-26.txt\n",
      "61 2017-08-27 2017-09-02 2019-11-11 20:33:51.869709 /home/jian/BigLots/hist_daily_data_subclasslevel/MediaStormDailySales_week_ending_2017-09-02.txt\n",
      "62 2017-09-03 2017-09-09 2019-11-11 20:34:46.134945 /home/jian/BigLots/hist_daily_data_subclasslevel/MediaStormDailySales_week_ending_2017-09-09.txt\n",
      "63 2017-09-10 2017-09-16 2019-11-11 20:35:30.391614 /home/jian/BigLots/hist_daily_data_subclasslevel/MediaStormDailySales_week_ending_2017-09-16.txt\n",
      "64 2017-09-17 2017-09-23 2019-11-11 20:36:14.264090 /home/jian/BigLots/hist_daily_data_subclasslevel/MediaStormDailySales_week_ending_2017-09-23.txt\n",
      "65 2017-09-24 2017-09-30 2019-11-11 20:37:13.952598 /home/jian/BigLots/hist_daily_data_subclasslevel/MediaStormDailySales_week_ending_2017-09-30.txt\n"
     ]
    }
   ],
   "source": [
    "# 1 out of the 2\n",
    "list_df_transactions_18_months=[]\n",
    "i_counter=0\n",
    "for file in historical_subclass_files:\n",
    "    try:\n",
    "        df=pd.read_table(file,dtype=str,sep=\"|\",usecols=['customer_id_hashed','transaction_dt','transaction_id','location_id','item_transaction_amt'])\n",
    "        df=df.rename(columns={\"item_transaction_amt\":\"sales\"})\n",
    "    except:\n",
    "        df=pd.read_table(file,dtype=str,sep=\"|\",usecols=['customer_id_hashed','transaction_dt','transaction_id','location_id','subclass_transaction_amt'])\n",
    "        df=df.rename(columns={\"subclass_transaction_amt\":\"sales\"})\n",
    "    df=df[pd.notnull(df['customer_id_hashed'])]\n",
    "    df['sales']=df['sales'].astype(float)\n",
    "    df_sales=df.groupby(['customer_id_hashed','transaction_dt'])['sales'].sum().to_frame().reset_index()\n",
    "    \n",
    "    df_trans=df[['customer_id_hashed','transaction_dt','transaction_id','location_id']].drop_duplicates()\n",
    "    df_trans['trans']=1\n",
    "    df_trans=df_trans.groupby(['customer_id_hashed','transaction_dt'])['trans'].sum().to_frame().reset_index()\n",
    "    df=pd.merge(df_sales,df_trans,on=[\"customer_id_hashed\",'transaction_dt'],how=\"outer\")\n",
    "\n",
    "    print(i_counter,df['transaction_dt'].min(),df['transaction_dt'].max(),datetime.datetime.now(),file)\n",
    "    i_counter+=1\n",
    "    list_df_transactions_18_months.append(df)"
   ]
  },
  {
   "cell_type": "code",
   "execution_count": null,
   "metadata": {
    "collapsed": true
   },
   "outputs": [],
   "source": []
  },
  {
   "cell_type": "code",
   "execution_count": null,
   "metadata": {
    "collapsed": true
   },
   "outputs": [],
   "source": []
  },
  {
   "cell_type": "code",
   "execution_count": null,
   "metadata": {
    "collapsed": true
   },
   "outputs": [],
   "source": []
  },
  {
   "cell_type": "code",
   "execution_count": null,
   "metadata": {
    "collapsed": true
   },
   "outputs": [],
   "source": []
  },
  {
   "cell_type": "code",
   "execution_count": 6,
   "metadata": {},
   "outputs": [
    {
     "data": {
      "text/plain": [
       "0"
      ]
     },
     "execution_count": 6,
     "metadata": {},
     "output_type": "execute_result"
    }
   ],
   "source": [
    "df_transactions_18_months=pd.concat(list_df_transactions_18_months)\n",
    "del list_df_transactions_18_months\n",
    "gc.collect()\n"
   ]
  },
  {
   "cell_type": "code",
   "execution_count": 7,
   "metadata": {},
   "outputs": [
    {
     "data": {
      "text/plain": [
       "(65383860, 4)"
      ]
     },
     "execution_count": 7,
     "metadata": {},
     "output_type": "execute_result"
    }
   ],
   "source": [
    "df_transactions_18_months=df_transactions_18_months[(df_transactions_18_months['transaction_dt']>=str(lapsed_Sunday)) & (df_transactions_18_months['transaction_dt']<=str(lastdate_date))]\n",
    "df_transactions_18_months.shape"
   ]
  },
  {
   "cell_type": "code",
   "execution_count": 8,
   "metadata": {},
   "outputs": [
    {
     "name": "stdout",
     "output_type": "stream",
     "text": [
      "2016-06-26\n"
     ]
    }
   ],
   "source": [
    "print(df_transactions_18_months['transaction_dt'].min())\n",
    "\n",
    "min_date_above_str=str(df_transactions_18_months['transaction_dt'].min())"
   ]
  },
  {
   "cell_type": "code",
   "execution_count": 9,
   "metadata": {},
   "outputs": [
    {
     "data": {
      "text/plain": [
       "\"\\ndf=pd.read_csv('/home/jian/Projects/Big_Lots/Live_Ramp/Quarterly_Update_2019Q1/crm_newscore_0922/combinedtransactions_0922.csv',dtype=str,usecols=['transaction_date'])\\nprint(df['transaction_date'].min())\\n2016-06-26\\n# The same above, no need to read the cumulative sales\\n\""
      ]
     },
     "execution_count": 9,
     "metadata": {},
     "output_type": "execute_result"
    }
   ],
   "source": [
    "'''\n",
    "df=pd.read_csv('/home/jian/Projects/Big_Lots/Live_Ramp/Quarterly_Update_2019Q1/crm_newscore_0922/combinedtransactions_0922.csv',dtype=str,usecols=['transaction_date'])\n",
    "print(df['transaction_date'].min())\n",
    "2016-06-26\n",
    "# The same above, no need to read the cumulative sales\n",
    "'''"
   ]
  },
  {
   "cell_type": "code",
   "execution_count": 10,
   "metadata": {},
   "outputs": [
    {
     "data": {
      "text/html": [
       "<div>\n",
       "<style scoped>\n",
       "    .dataframe tbody tr th:only-of-type {\n",
       "        vertical-align: middle;\n",
       "    }\n",
       "\n",
       "    .dataframe tbody tr th {\n",
       "        vertical-align: top;\n",
       "    }\n",
       "\n",
       "    .dataframe thead th {\n",
       "        text-align: right;\n",
       "    }\n",
       "</style>\n",
       "<table border=\"1\" class=\"dataframe\">\n",
       "  <thead>\n",
       "    <tr style=\"text-align: right;\">\n",
       "      <th></th>\n",
       "      <th>customer_id_hashed</th>\n",
       "      <th>transaction_dt</th>\n",
       "      <th>sales</th>\n",
       "      <th>trans</th>\n",
       "    </tr>\n",
       "  </thead>\n",
       "  <tbody>\n",
       "    <tr>\n",
       "      <th>0</th>\n",
       "      <td>00001ed4962579d15869b5ec21ee8ecfa136d13b07c3f8...</td>\n",
       "      <td>2016-06-30</td>\n",
       "      <td>17.9</td>\n",
       "      <td>1</td>\n",
       "    </tr>\n",
       "    <tr>\n",
       "      <th>1</th>\n",
       "      <td>00002d97b5f2e071ede88fa136ed32ca68d8663419767e...</td>\n",
       "      <td>2016-06-27</td>\n",
       "      <td>31.0</td>\n",
       "      <td>1</td>\n",
       "    </tr>\n",
       "  </tbody>\n",
       "</table>\n",
       "</div>"
      ],
      "text/plain": [
       "                                  customer_id_hashed transaction_dt  sales  \\\n",
       "0  00001ed4962579d15869b5ec21ee8ecfa136d13b07c3f8...     2016-06-30   17.9   \n",
       "1  00002d97b5f2e071ede88fa136ed32ca68d8663419767e...     2016-06-27   31.0   \n",
       "\n",
       "   trans  \n",
       "0      1  \n",
       "1      1  "
      ]
     },
     "execution_count": 10,
     "metadata": {},
     "output_type": "execute_result"
    }
   ],
   "source": [
    "df_transactions_18_months.head(2)"
   ]
  },
  {
   "cell_type": "code",
   "execution_count": 11,
   "metadata": {},
   "outputs": [
    {
     "name": "stdout",
     "output_type": "stream",
     "text": [
      "2016-04-03 2016-06-25\n"
     ]
    }
   ],
   "source": [
    "# 2 out of 2\n",
    "\n",
    "df_lapsed_sales_ids=pd.read_table(\"/home/jian/Projects/Big_Lots/Loyal_members/loyalty_sales_data/lapsed20140826_20170226/MediaStormLapsedCustDtl.txt\",\n",
    "                     sep=\",\",usecols=['customer_id_hashed','transaction_date','location_id','transaction_id','total_transaction_amt'],dtype=str)# .drop_duplicates() # Doesn't go to score at all, so no need to read all columns\n",
    "df_lapsed_sales_ids=df_lapsed_sales_ids[(df_lapsed_sales_ids['transaction_date']>=str(lapsed_Sunday)) & (df_lapsed_sales_ids['transaction_date']<min_date_above_str)]\n",
    "print(df_lapsed_sales_ids['transaction_date'].min(),df_lapsed_sales_ids['transaction_date'].max())\n",
    "\n",
    "df_lapsed_sales_ids=df_lapsed_sales_ids.drop_duplicates()\n",
    "df_lapsed_sales_ids['total_transaction_amt']=df_lapsed_sales_ids['total_transaction_amt'].astype(float)\n",
    "df_lapsed_sales_ids=df_lapsed_sales_ids.rename(columns={\"transaction_date\":\"transaction_dt\"})"
   ]
  },
  {
   "cell_type": "code",
   "execution_count": 12,
   "metadata": {},
   "outputs": [
    {
     "name": "stdout",
     "output_type": "stream",
     "text": [
      "2016-06-25\n",
      "2016-04-03\n",
      "84\n",
      "(153197, 4)\n"
     ]
    }
   ],
   "source": [
    "df_sales=df_lapsed_sales_ids.groupby(['customer_id_hashed','transaction_dt'])['total_transaction_amt'].sum().to_frame().reset_index().rename(columns={\"total_transaction_amt\":\"sales\"})\n",
    "    \n",
    "df_trans=df_lapsed_sales_ids[['customer_id_hashed','transaction_dt','transaction_id','location_id']].drop_duplicates()\n",
    "df_trans['trans']=1\n",
    "df_trans=df_trans.groupby(['customer_id_hashed','transaction_dt'])['trans'].sum().to_frame().reset_index()\n",
    "\n",
    "df_lapsed_sales_ids=pd.merge(df_sales,df_trans,on=[\"customer_id_hashed\",'transaction_dt'],how=\"outer\")\n",
    "\n",
    "print(df_lapsed_sales_ids['transaction_dt'].max())\n",
    "print(df_lapsed_sales_ids['transaction_dt'].min())\n",
    "print(df_lapsed_sales_ids['transaction_dt'].nunique())\n",
    "print(df_lapsed_sales_ids.shape)"
   ]
  },
  {
   "cell_type": "code",
   "execution_count": 13,
   "metadata": {},
   "outputs": [
    {
     "name": "stdout",
     "output_type": "stream",
     "text": [
      "2017-09-30\n",
      "2016-04-03\n",
      "545\n",
      "(65537057, 4)\n"
     ]
    }
   ],
   "source": [
    "df_transactions_18_months=df_transactions_18_months.append(df_lapsed_sales_ids)\n",
    "print(df_transactions_18_months['transaction_dt'].max())\n",
    "print(df_transactions_18_months['transaction_dt'].min())\n",
    "print(df_transactions_18_months['transaction_dt'].nunique())\n",
    "print(df_transactions_18_months.shape)"
   ]
  },
  {
   "cell_type": "code",
   "execution_count": 14,
   "metadata": {},
   "outputs": [
    {
     "data": {
      "text/plain": [
       "(15972206, 4)"
      ]
     },
     "execution_count": 14,
     "metadata": {},
     "output_type": "execute_result"
    }
   ],
   "source": [
    "agg_f={\"transaction_dt\":\"max\",\"sales\":\"sum\",\"trans\":\"sum\"}\n",
    "df_sales_by_id=df_transactions_18_months.groupby(\"customer_id_hashed\")['transaction_dt','sales','trans'].agg(agg_f).reset_index()\n",
    "df_sales_by_id=df_sales_by_id.rename(columns={\"transaction_dt\":\"last_trans_date\"})\n",
    "df_sales_by_id.shape"
   ]
  },
  {
   "cell_type": "code",
   "execution_count": 15,
   "metadata": {
    "collapsed": true
   },
   "outputs": [],
   "source": [
    "df_sales_by_id['last_trans_date']=pd.to_datetime(df_sales_by_id['last_trans_date'])\n",
    "df_sales_by_id['recency']= lastdate_date - df_sales_by_id['last_trans_date'].dt.date\n",
    "df_sales_by_id['recency']=df_sales_by_id['recency'].apply(lambda x:x.days)\n",
    "df_sales_by_id['recency']=np.ceil((df_sales_by_id['recency']+1)/30)"
   ]
  },
  {
   "cell_type": "code",
   "execution_count": 16,
   "metadata": {
    "collapsed": true
   },
   "outputs": [],
   "source": [
    "df_sales_by_id=df_sales_by_id.sort_values(['trans','recency','sales'],ascending=[0,1,0])\n",
    "df_sales_by_id.reset_index(drop=True, inplace=True)\n",
    "df_sales_by_id.reset_index(inplace=True)\n",
    "df_sales_by_id=df_sales_by_id.rename(columns={'index':'Transindex'})\n",
    "\n",
    "df_sales_by_id=df_sales_by_id.sort_values(['sales','recency','trans'],ascending=[0,1,0])\n",
    "df_sales_by_id.reset_index(drop=True, inplace=True)\n",
    "df_sales_by_id.reset_index(inplace=True)\n",
    "df_sales_by_id=df_sales_by_id.rename(columns={'index':'Amtindex'})\n",
    "\n",
    "df_sales_by_id=df_sales_by_id.sort_values(['recency','trans','sales'],ascending=[1,0,0])\n",
    "df_sales_by_id.reset_index(drop=True, inplace=True)\n",
    "df_sales_by_id.reset_index(inplace=True)\n",
    "df_sales_by_id=df_sales_by_id.rename(columns={'index':'recencyindex'})\n",
    "\n",
    "c_ids=len(df_sales_by_id.index)\n",
    "c_ids=c_ids//5\n",
    "\n",
    "df_sales_by_id['Transindex']=np.ceil((df_sales_by_id['Transindex']+1)/c_ids)\n",
    "df_sales_by_id['Amtindex']=np.ceil((df_sales_by_id['Amtindex']+1)/c_ids)\n",
    "df_sales_by_id['recencyindex']=np.ceil((df_sales_by_id['recencyindex']+1)/c_ids)\n",
    "\n",
    "df_sales_by_id['RFM']=df_sales_by_id['recencyindex']*100 + df_sales_by_id['Transindex']*10 + df_sales_by_id['Amtindex']\n"
   ]
  },
  {
   "cell_type": "code",
   "execution_count": 17,
   "metadata": {},
   "outputs": [
    {
     "name": "stdout",
     "output_type": "stream",
     "text": [
      "(15972206, 9)\n",
      "Done with the RFM scoring, 2019-11-11 21:37:53.107882\n"
     ]
    }
   ],
   "source": [
    "df_sales_by_id = df_sales_by_id.sort_values(['RFM','recency','trans',\n",
    "                               'sales'],ascending = [1,1,0,0])\n",
    "\n",
    "print(df_sales_by_id.shape)\n",
    "\n",
    "df_sales_by_id.reset_index(drop = True, inplace = True)\n",
    "df_sales_by_id.reset_index(inplace = True)\n",
    "\n",
    "df_sales_by_id = df_sales_by_id.rename(columns = {'index':'frmindex'})\n",
    "c_ids = len(df_sales_by_id.index)//10+1\n",
    "\n",
    "df_sales_by_id['frmindex'] = np.ceil((df_sales_by_id['frmindex']+1)/c_ids)\n",
    "\n",
    "print(\"Done with the RFM scoring, \"+str(datetime.datetime.now()))\n",
    "\n",
    "df_sales_by_id['frmindex']=df_sales_by_id['frmindex'].apply(lambda x: \"D\"+str(int(float(x))).zfill(2))"
   ]
  },
  {
   "cell_type": "code",
   "execution_count": 18,
   "metadata": {},
   "outputs": [
    {
     "data": {
      "text/html": [
       "<div>\n",
       "<style scoped>\n",
       "    .dataframe tbody tr th:only-of-type {\n",
       "        vertical-align: middle;\n",
       "    }\n",
       "\n",
       "    .dataframe tbody tr th {\n",
       "        vertical-align: top;\n",
       "    }\n",
       "\n",
       "    .dataframe thead th {\n",
       "        text-align: right;\n",
       "    }\n",
       "</style>\n",
       "<table border=\"1\" class=\"dataframe\">\n",
       "  <thead>\n",
       "    <tr style=\"text-align: right;\">\n",
       "      <th></th>\n",
       "      <th>frmindex</th>\n",
       "      <th>HML_Group</th>\n",
       "    </tr>\n",
       "  </thead>\n",
       "  <tbody>\n",
       "    <tr>\n",
       "      <th>0</th>\n",
       "      <td>D01</td>\n",
       "      <td>H</td>\n",
       "    </tr>\n",
       "    <tr>\n",
       "      <th>1</th>\n",
       "      <td>D02</td>\n",
       "      <td>H</td>\n",
       "    </tr>\n",
       "  </tbody>\n",
       "</table>\n",
       "</div>"
      ],
      "text/plain": [
       "  frmindex HML_Group\n",
       "0      D01         H\n",
       "1      D02         H"
      ]
     },
     "execution_count": 18,
     "metadata": {},
     "output_type": "execute_result"
    }
   ],
   "source": [
    "df_H=pd.DataFrame({\"frmindex\":['D01','D02','D03','D04']})\n",
    "df_H['HML_Group']=\"H\"\n",
    "\n",
    "df_M=pd.DataFrame({\"frmindex\":['D05','D06','D07']})\n",
    "df_M['HML_Group']=\"M\"\n",
    "\n",
    "df_L=pd.DataFrame({\"frmindex\":['D08','D09','D10']})\n",
    "df_L['HML_Group']=\"L\"\n",
    "\n",
    "df_HML=df_H.append(df_M).append(df_L)\n",
    "\n",
    "df_HML.head(2)"
   ]
  },
  {
   "cell_type": "code",
   "execution_count": 19,
   "metadata": {},
   "outputs": [
    {
     "name": "stdout",
     "output_type": "stream",
     "text": [
      "(15972206, 11)\n"
     ]
    }
   ],
   "source": [
    "df_sales_by_id=pd.merge(df_sales_by_id,df_HML,on=\"frmindex\",how=\"left\")\n",
    "print(df_sales_by_id.shape)"
   ]
  },
  {
   "cell_type": "code",
   "execution_count": 20,
   "metadata": {},
   "outputs": [
    {
     "name": "stdout",
     "output_type": "stream",
     "text": [
      "(30732606, 3) 30732606\n"
     ]
    }
   ],
   "source": [
    "df_master=pd.read_csv('/home/jian/Projects/Big_Lots/Live_Ramp/Quarterly_Update_2019Q4/BL_all_master_id_email_zip_closet_store_ZipLabel_upto_20191012_JL_2019-10-21',\n",
    "                       usecols=['customer_id_hashed','cleaned_zip_cd','zip_type'],dtype=str)\n",
    "\n",
    "print(df_master.shape,df_master['customer_id_hashed'].nunique())"
   ]
  },
  {
   "cell_type": "code",
   "execution_count": 21,
   "metadata": {
    "collapsed": true
   },
   "outputs": [],
   "source": [
    "df_sales_by_id=pd.merge(df_sales_by_id,df_master,on=\"customer_id_hashed\",how=\"left\")"
   ]
  },
  {
   "cell_type": "code",
   "execution_count": 22,
   "metadata": {
    "collapsed": true
   },
   "outputs": [],
   "source": [
    "df_sales_by_id.to_csv(\"./BL_Loyalty_Health_17_18_HML_score_details_JL_\"+str(datetime.datetime.now().date())+\".csv\",index=False)"
   ]
  },
  {
   "cell_type": "code",
   "execution_count": 23,
   "metadata": {},
   "outputs": [
    {
     "data": {
      "text/html": [
       "<div>\n",
       "<style scoped>\n",
       "    .dataframe tbody tr th:only-of-type {\n",
       "        vertical-align: middle;\n",
       "    }\n",
       "\n",
       "    .dataframe tbody tr th {\n",
       "        vertical-align: top;\n",
       "    }\n",
       "\n",
       "    .dataframe thead th {\n",
       "        text-align: right;\n",
       "    }\n",
       "</style>\n",
       "<table border=\"1\" class=\"dataframe\">\n",
       "  <thead>\n",
       "    <tr style=\"text-align: right;\">\n",
       "      <th></th>\n",
       "      <th>frmindex</th>\n",
       "      <th>recencyindex</th>\n",
       "      <th>Amtindex</th>\n",
       "      <th>Transindex</th>\n",
       "      <th>customer_id_hashed</th>\n",
       "      <th>last_trans_date</th>\n",
       "      <th>sales</th>\n",
       "      <th>trans</th>\n",
       "      <th>recency</th>\n",
       "      <th>RFM</th>\n",
       "      <th>HML_Group</th>\n",
       "      <th>cleaned_zip_cd</th>\n",
       "      <th>zip_type</th>\n",
       "    </tr>\n",
       "  </thead>\n",
       "  <tbody>\n",
       "    <tr>\n",
       "      <th>0</th>\n",
       "      <td>D01</td>\n",
       "      <td>1.0</td>\n",
       "      <td>1.0</td>\n",
       "      <td>1.0</td>\n",
       "      <td>a559dc73bfa37290f41696627e867601815ee097a3fd7b...</td>\n",
       "      <td>2017-09-29</td>\n",
       "      <td>21263.32</td>\n",
       "      <td>1083</td>\n",
       "      <td>1.0</td>\n",
       "      <td>111.0</td>\n",
       "      <td>H</td>\n",
       "      <td>71901</td>\n",
       "      <td>trans_S</td>\n",
       "    </tr>\n",
       "    <tr>\n",
       "      <th>1</th>\n",
       "      <td>D01</td>\n",
       "      <td>1.0</td>\n",
       "      <td>1.0</td>\n",
       "      <td>1.0</td>\n",
       "      <td>006e60ad4a22343cebb282056a0c65ee7d5061720d8a82...</td>\n",
       "      <td>2017-09-08</td>\n",
       "      <td>22441.37</td>\n",
       "      <td>1040</td>\n",
       "      <td>1.0</td>\n",
       "      <td>111.0</td>\n",
       "      <td>H</td>\n",
       "      <td>71913</td>\n",
       "      <td>trans_P</td>\n",
       "    </tr>\n",
       "  </tbody>\n",
       "</table>\n",
       "</div>"
      ],
      "text/plain": [
       "  frmindex  recencyindex  Amtindex  Transindex  \\\n",
       "0      D01           1.0       1.0         1.0   \n",
       "1      D01           1.0       1.0         1.0   \n",
       "\n",
       "                                  customer_id_hashed last_trans_date  \\\n",
       "0  a559dc73bfa37290f41696627e867601815ee097a3fd7b...      2017-09-29   \n",
       "1  006e60ad4a22343cebb282056a0c65ee7d5061720d8a82...      2017-09-08   \n",
       "\n",
       "      sales  trans  recency    RFM HML_Group cleaned_zip_cd zip_type  \n",
       "0  21263.32   1083      1.0  111.0         H          71901  trans_S  \n",
       "1  22441.37   1040      1.0  111.0         H          71913  trans_P  "
      ]
     },
     "execution_count": 23,
     "metadata": {},
     "output_type": "execute_result"
    }
   ],
   "source": [
    "df_sales_by_id.head(2)"
   ]
  },
  {
   "cell_type": "code",
   "execution_count": 24,
   "metadata": {
    "collapsed": true
   },
   "outputs": [],
   "source": [
    "df_sales_by_id['zip_type']=df_sales_by_id['zip_type'].fillna(\"T\")\n",
    "df_sales_by_id['zip_type']=df_sales_by_id['zip_type'].replace(\"trans_P\",\"P\").replace(\"trans_S\",\"S\").replace(\"zips_10\",\"S\")"
   ]
  },
  {
   "cell_type": "code",
   "execution_count": 25,
   "metadata": {},
   "outputs": [
    {
     "data": {
      "text/plain": [
       "0"
      ]
     },
     "execution_count": 25,
     "metadata": {},
     "output_type": "execute_result"
    }
   ],
   "source": [
    "df_sales_by_id=df_sales_by_id[['customer_id_hashed','frmindex','last_trans_date','HML_Group','zip_type']]\n",
    "gc.collect()"
   ]
  },
  {
   "cell_type": "code",
   "execution_count": 26,
   "metadata": {
    "collapsed": true
   },
   "outputs": [],
   "source": [
    "df_sales_by_id['Active_Status']=np.where(df_sales_by_id['last_trans_date']>=active_Sunday,\"Active (0-12)\",\"Lapsed (13-18)\")\n"
   ]
  },
  {
   "cell_type": "code",
   "execution_count": 27,
   "metadata": {},
   "outputs": [
    {
     "data": {
      "text/plain": [
       "Timestamp('2016-04-03 00:00:00')"
      ]
     },
     "execution_count": 27,
     "metadata": {},
     "output_type": "execute_result"
    }
   ],
   "source": [
    "df_sales_by_id['last_trans_date'].min()"
   ]
  },
  {
   "cell_type": "code",
   "execution_count": 28,
   "metadata": {},
   "outputs": [
    {
     "data": {
      "text/plain": [
       "datetime.date(2017, 9, 30)"
      ]
     },
     "execution_count": 28,
     "metadata": {},
     "output_type": "execute_result"
    }
   ],
   "source": [
    "lastdate_date"
   ]
  },
  {
   "cell_type": "code",
   "execution_count": 29,
   "metadata": {},
   "outputs": [
    {
     "data": {
      "text/plain": [
       "'2016-04-03'"
      ]
     },
     "execution_count": 29,
     "metadata": {},
     "output_type": "execute_result"
    }
   ],
   "source": [
    "Beginning_18_months_ago"
   ]
  },
  {
   "cell_type": "code",
   "execution_count": 30,
   "metadata": {},
   "outputs": [
    {
     "data": {
      "text/html": [
       "<div>\n",
       "<style scoped>\n",
       "    .dataframe tbody tr th:only-of-type {\n",
       "        vertical-align: middle;\n",
       "    }\n",
       "\n",
       "    .dataframe tbody tr th {\n",
       "        vertical-align: top;\n",
       "    }\n",
       "\n",
       "    .dataframe thead th {\n",
       "        text-align: right;\n",
       "    }\n",
       "</style>\n",
       "<table border=\"1\" class=\"dataframe\">\n",
       "  <thead>\n",
       "    <tr style=\"text-align: right;\">\n",
       "      <th></th>\n",
       "      <th>customer_id_hashed</th>\n",
       "      <th>frmindex</th>\n",
       "      <th>last_trans_date</th>\n",
       "      <th>HML_Group</th>\n",
       "      <th>zip_type</th>\n",
       "      <th>Active_Status</th>\n",
       "    </tr>\n",
       "  </thead>\n",
       "  <tbody>\n",
       "    <tr>\n",
       "      <th>0</th>\n",
       "      <td>a559dc73bfa37290f41696627e867601815ee097a3fd7b...</td>\n",
       "      <td>D01</td>\n",
       "      <td>2017-09-29</td>\n",
       "      <td>H</td>\n",
       "      <td>S</td>\n",
       "      <td>Active (0-12)</td>\n",
       "    </tr>\n",
       "    <tr>\n",
       "      <th>1</th>\n",
       "      <td>006e60ad4a22343cebb282056a0c65ee7d5061720d8a82...</td>\n",
       "      <td>D01</td>\n",
       "      <td>2017-09-08</td>\n",
       "      <td>H</td>\n",
       "      <td>P</td>\n",
       "      <td>Active (0-12)</td>\n",
       "    </tr>\n",
       "  </tbody>\n",
       "</table>\n",
       "</div>"
      ],
      "text/plain": [
       "                                  customer_id_hashed frmindex last_trans_date  \\\n",
       "0  a559dc73bfa37290f41696627e867601815ee097a3fd7b...      D01      2017-09-29   \n",
       "1  006e60ad4a22343cebb282056a0c65ee7d5061720d8a82...      D01      2017-09-08   \n",
       "\n",
       "  HML_Group zip_type  Active_Status  \n",
       "0         H        S  Active (0-12)  \n",
       "1         H        P  Active (0-12)  "
      ]
     },
     "execution_count": 30,
     "metadata": {},
     "output_type": "execute_result"
    }
   ],
   "source": [
    "df_sales_by_id.head(2)"
   ]
  },
  {
   "cell_type": "code",
   "execution_count": 31,
   "metadata": {},
   "outputs": [
    {
     "data": {
      "text/plain": [
       "Timestamp('2016-04-03 00:00:00')"
      ]
     },
     "execution_count": 31,
     "metadata": {},
     "output_type": "execute_result"
    }
   ],
   "source": [
    "df_sales_by_id['last_trans_date'].min()"
   ]
  },
  {
   "cell_type": "code",
   "execution_count": 32,
   "metadata": {},
   "outputs": [
    {
     "data": {
      "text/plain": [
       "datetime.date(2017, 9, 30)"
      ]
     },
     "execution_count": 32,
     "metadata": {},
     "output_type": "execute_result"
    }
   ],
   "source": [
    "lastdate_date"
   ]
  },
  {
   "cell_type": "code",
   "execution_count": 33,
   "metadata": {},
   "outputs": [
    {
     "name": "stdout",
     "output_type": "stream",
     "text": [
      "2014-08-26 2016-04-02\n",
      "date 48 months earlier 2013-10-01\n"
     ]
    }
   ],
   "source": [
    "# Lapsed 19 - 48\n",
    "\n",
    "\n",
    "df_lapsed_sales_ids=pd.read_table(\"/home/jian/Projects/Big_Lots/Loyal_members/loyalty_sales_data/lapsed20140826_20170226/MediaStormLapsedCustDtl.txt\",\n",
    "                     sep=\",\",usecols=['customer_id_hashed','transaction_date','location_id','transaction_id','total_transaction_amt'],dtype=str)# .drop_duplicates() # Doesn't go to score at all, so no need to read all columns\n",
    "df_lapsed_sales_ids=df_lapsed_sales_ids[(df_lapsed_sales_ids['transaction_date']<str(lapsed_Sunday))]\n",
    "print(df_lapsed_sales_ids['transaction_date'].min(),df_lapsed_sales_ids['transaction_date'].max())\n",
    "\n",
    "df_lapsed_sales_ids=df_lapsed_sales_ids.drop_duplicates()\n",
    "df_lapsed_sales_ids['total_transaction_amt']=df_lapsed_sales_ids['total_transaction_amt'].astype(float)\n",
    "df_lapsed_sales_ids=df_lapsed_sales_ids.rename(columns={\"transaction_date\":\"transaction_dt\"})\n",
    "\n",
    "print(\"date 48 months earlier\",lastdate_date-datetime.timedelta(days=365*4))"
   ]
  },
  {
   "cell_type": "code",
   "execution_count": 34,
   "metadata": {},
   "outputs": [
    {
     "name": "stdout",
     "output_type": "stream",
     "text": [
      "2016-04-02\n",
      "2014-08-26\n",
      "584\n",
      "(974324, 4)\n"
     ]
    }
   ],
   "source": [
    "df_sales=df_lapsed_sales_ids.groupby(['customer_id_hashed','transaction_dt'])['total_transaction_amt'].sum().to_frame().reset_index().rename(columns={\"total_transaction_amt\":\"sales\"})\n",
    "    \n",
    "df_trans=df_lapsed_sales_ids[['customer_id_hashed','transaction_dt','transaction_id','location_id']].drop_duplicates()\n",
    "df_trans['trans']=1\n",
    "df_trans=df_trans.groupby(['customer_id_hashed','transaction_dt'])['trans'].sum().to_frame().reset_index()\n",
    "\n",
    "df_lapsed_sales_ids=pd.merge(df_sales,df_trans,on=[\"customer_id_hashed\",'transaction_dt'],how=\"outer\")\n",
    "\n",
    "print(df_lapsed_sales_ids['transaction_dt'].max())\n",
    "print(df_lapsed_sales_ids['transaction_dt'].min())\n",
    "print(df_lapsed_sales_ids['transaction_dt'].nunique())\n",
    "print(df_lapsed_sales_ids.shape)"
   ]
  },
  {
   "cell_type": "code",
   "execution_count": 35,
   "metadata": {},
   "outputs": [
    {
     "data": {
      "text/plain": [
       "(889162, 5)"
      ]
     },
     "execution_count": 35,
     "metadata": {},
     "output_type": "execute_result"
    }
   ],
   "source": [
    "df_lapsed_sales_ids=df_lapsed_sales_ids[~df_lapsed_sales_ids['customer_id_hashed'].isin(df_sales_by_id['customer_id_hashed'].tolist())]\n",
    "df_lapsed_sales_ids['Active_Status']=\"Lapsed (19-48)\"\n",
    "df_lapsed_sales_ids.shape"
   ]
  },
  {
   "cell_type": "code",
   "execution_count": null,
   "metadata": {
    "collapsed": true
   },
   "outputs": [],
   "source": []
  },
  {
   "cell_type": "code",
   "execution_count": 36,
   "metadata": {},
   "outputs": [
    {
     "name": "stderr",
     "output_type": "stream",
     "text": [
      "/home/jian/.local/lib/python3.6/site-packages/pandas/core/frame.py:7138: FutureWarning: Sorting because non-concatenation axis is not aligned. A future version\n",
      "of pandas will change to not sort by default.\n",
      "\n",
      "To accept the future behavior, pass 'sort=False'.\n",
      "\n",
      "To retain the current behavior and silence the warning, pass 'sort=True'.\n",
      "\n",
      "  sort=sort,\n"
     ]
    }
   ],
   "source": [
    "df_sales_by_id=df_sales_by_id.append(df_lapsed_sales_ids)"
   ]
  },
  {
   "cell_type": "code",
   "execution_count": 37,
   "metadata": {},
   "outputs": [
    {
     "data": {
      "text/plain": [
       "0"
      ]
     },
     "execution_count": 37,
     "metadata": {},
     "output_type": "execute_result"
    }
   ],
   "source": [
    "del df_lapsed_sales_ids\n",
    "df_sales_by_id.to_csv(\"./BL_Loyalty_Health_2017_2018_all_ids_JL_\"+str(datetime.datetime.now().date())+\".csv\",index=False)\n",
    "gc.collect()"
   ]
  },
  {
   "cell_type": "markdown",
   "metadata": {},
   "source": [
    "# Sale in 1 Year"
   ]
  },
  {
   "cell_type": "code",
   "execution_count": 38,
   "metadata": {},
   "outputs": [
    {
     "name": "stdout",
     "output_type": "stream",
     "text": [
      "20180811\n"
     ]
    },
    {
     "data": {
      "text/plain": [
       "['/home/jian/BigLots/hist_daily_data_itemlevel_decompressed/MediaStormDailySalesHistory20180811.txt',\n",
       " '/home/jian/BigLots/hist_daily_data_itemlevel_decompressed/MediaStormDailySalesHistory20180818.txt',\n",
       " '/home/jian/BigLots/hist_daily_data_itemlevel_decompressed/MediaStormDailySalesHistory20180825.txt',\n",
       " '/home/jian/BigLots/hist_daily_data_itemlevel_decompressed/MediaStormDailySalesHistory20180901.txt',\n",
       " '/home/jian/BigLots/hist_daily_data_itemlevel_decompressed/MediaStormDailySalesHistory20180908.txt',\n",
       " '/home/jian/BigLots/hist_daily_data_itemlevel_decompressed/MediaStormDailySalesHistory20180915.txt',\n",
       " '/home/jian/BigLots/hist_daily_data_itemlevel_decompressed/MediaStormDailySalesHistory20180922.txt',\n",
       " '/home/jian/BigLots/hist_daily_data_itemlevel_decompressed/MediaStormDailySalesHistory20180929.txt',\n",
       " '/home/jian/BigLots/hist_daily_data_itemlevel_decompressed/MediaStormDailySalesHistory20181006.txt']"
      ]
     },
     "execution_count": 38,
     "metadata": {},
     "output_type": "execute_result"
    }
   ],
   "source": [
    "historical_item_files=glob.glob(\"/home/jian/BigLots/hist_daily_data_itemlevel_decompressed/*.txt\")\n",
    "historical_item_files=[x for x in historical_item_files if x.split(\"/MediaStormDailySalesHistory\")[1][:8]<=\"20181007\"]\n",
    "historical_item_files.sort()\n",
    "\n",
    "print(min([x.split(\"/MediaStormDailySalesHistory\")[1][:8] for x in historical_item_files]))\n",
    "\n",
    "historical_item_files"
   ]
  },
  {
   "cell_type": "code",
   "execution_count": 39,
   "metadata": {},
   "outputs": [
    {
     "data": {
      "text/plain": [
       "['/home/jian/BigLots/hist_daily_data_subclasslevel/MediaStormDailySales_week_ending_2017-10-07.txt',\n",
       " '/home/jian/BigLots/hist_daily_data_subclasslevel/MediaStormDailySales_week_ending_2017-10-14.txt',\n",
       " '/home/jian/BigLots/hist_daily_data_subclasslevel/MediaStormDailySales_week_ending_2017-10-21.txt',\n",
       " '/home/jian/BigLots/hist_daily_data_subclasslevel/MediaStormDailySales_week_ending_2017-10-28.txt',\n",
       " '/home/jian/BigLots/hist_daily_data_subclasslevel/MediaStormDailySales_week_ending_2017-11-04.txt',\n",
       " '/home/jian/BigLots/hist_daily_data_subclasslevel/MediaStormDailySales_week_ending_2017-11-11.txt',\n",
       " '/home/jian/BigLots/hist_daily_data_subclasslevel/MediaStormDailySales_week_ending_2017-11-18.txt',\n",
       " '/home/jian/BigLots/hist_daily_data_subclasslevel/MediaStormDailySales_week_ending_2017-11-25.txt',\n",
       " '/home/jian/BigLots/hist_daily_data_subclasslevel/MediaStormDailySales_week_ending_2017-12-02.txt',\n",
       " '/home/jian/BigLots/hist_daily_data_subclasslevel/MediaStormDailySales_week_ending_2017-12-09.txt',\n",
       " '/home/jian/BigLots/hist_daily_data_subclasslevel/MediaStormDailySales_week_ending_2017-12-16.txt',\n",
       " '/home/jian/BigLots/hist_daily_data_subclasslevel/MediaStormDailySales_week_ending_2017-12-23.txt',\n",
       " '/home/jian/BigLots/hist_daily_data_subclasslevel/MediaStormDailySales_week_ending_2017-12-30.txt',\n",
       " '/home/jian/BigLots/hist_daily_data_subclasslevel/MediaStormDailySales_week_ending_2018-01-06.txt',\n",
       " '/home/jian/BigLots/hist_daily_data_subclasslevel/MediaStormDailySales_week_ending_2018-01-13.txt',\n",
       " '/home/jian/BigLots/hist_daily_data_subclasslevel/MediaStormDailySales_week_ending_2018-01-20.txt',\n",
       " '/home/jian/BigLots/hist_daily_data_subclasslevel/MediaStormDailySales_week_ending_2018-01-27.txt',\n",
       " '/home/jian/BigLots/hist_daily_data_subclasslevel/MediaStormDailySales_week_ending_2018-02-03.txt',\n",
       " '/home/jian/BigLots/hist_daily_data_subclasslevel/MediaStormDailySales_week_ending_2018-02-10.txt',\n",
       " '/home/jian/BigLots/hist_daily_data_subclasslevel/MediaStormDailySales_week_ending_2018-02-17.txt',\n",
       " '/home/jian/BigLots/hist_daily_data_subclasslevel/MediaStormDailySales_week_ending_2018-02-24.txt',\n",
       " '/home/jian/BigLots/hist_daily_data_subclasslevel/MediaStormDailySales_week_ending_2018-03-03.txt',\n",
       " '/home/jian/BigLots/hist_daily_data_subclasslevel/MediaStormDailySales_week_ending_2018-03-10.txt',\n",
       " '/home/jian/BigLots/hist_daily_data_subclasslevel/MediaStormDailySales_week_ending_2018-03-17.txt',\n",
       " '/home/jian/BigLots/hist_daily_data_subclasslevel/MediaStormDailySales_week_ending_2018-03-24.txt',\n",
       " '/home/jian/BigLots/hist_daily_data_subclasslevel/MediaStormDailySales_week_ending_2018-03-31.txt',\n",
       " '/home/jian/BigLots/hist_daily_data_subclasslevel/MediaStormDailySales_week_ending_2018-04-07.txt',\n",
       " '/home/jian/BigLots/hist_daily_data_subclasslevel/MediaStormDailySales_week_ending_2018-04-14.txt',\n",
       " '/home/jian/BigLots/hist_daily_data_subclasslevel/MediaStormDailySales_week_ending_2018-04-21.txt',\n",
       " '/home/jian/BigLots/hist_daily_data_subclasslevel/MediaStormDailySales_week_ending_2018-04-28.txt',\n",
       " '/home/jian/BigLots/hist_daily_data_subclasslevel/MediaStormDailySales_week_ending_2018-05-05.txt',\n",
       " '/home/jian/BigLots/hist_daily_data_subclasslevel/MediaStormDailySales_week_ending_2018-05-12.txt',\n",
       " '/home/jian/BigLots/hist_daily_data_subclasslevel/MediaStormDailySales_week_ending_2018-05-19.txt',\n",
       " '/home/jian/BigLots/hist_daily_data_subclasslevel/MediaStormDailySales_week_ending_2018-05-26.txt',\n",
       " '/home/jian/BigLots/hist_daily_data_subclasslevel/MediaStormDailySales_week_ending_2018-06-02.txt',\n",
       " '/home/jian/BigLots/hist_daily_data_subclasslevel/MediaStormDailySales_week_ending_2018-06-09.txt']"
      ]
     },
     "execution_count": 39,
     "metadata": {},
     "output_type": "execute_result"
    }
   ],
   "source": [
    "historical_subclass_files=glob.glob(\"/home/jian/BigLots/hist_daily_data_subclasslevel/*.txt\")\n",
    "\n",
    "historical_subclass_files=[x for x in historical_subclass_files if x.split(\"/MediaStormDailySales_week_ending_\")[1][:10]>=\"2017-10-01\"]\n",
    "historical_subclass_files=[x for x in historical_subclass_files if x.split(\"/MediaStormDailySales_week_ending_\")[1][:10]<=\"2018-08-11\"]\n",
    "historical_subclass_files.sort()\n",
    "historical_subclass_files"
   ]
  },
  {
   "cell_type": "code",
   "execution_count": 40,
   "metadata": {},
   "outputs": [
    {
     "data": {
      "text/plain": [
       "['/home/jian/BigLots/2018_by_weeks/MediaStorm_2018-06-16/MediaStormDailySales.txt',\n",
       " '/home/jian/BigLots/2018_by_weeks/MediaStorm_2018-06-23/MediaStormDailySales.txt',\n",
       " '/home/jian/BigLots/2018_by_weeks/MediaStorm_2018-06-30/MediaStormDailySales.txt',\n",
       " '/home/jian/BigLots/2018_by_weeks/MediaStorm_2018-07-07/MediaStormDailySales.txt',\n",
       " '/home/jian/BigLots/2018_by_weeks/MediaStorm_2018-07-14/MediaStormDailySales20180717-113630-767.txt',\n",
       " '/home/jian/BigLots/2018_by_weeks/MediaStorm_2018-07-21/MediaStormDailySales20180724-113327-741.txt',\n",
       " '/home/jian/BigLots/2018_by_weeks/MediaStorm_2018-07-28/MediaStormDailySales20180731-111804-489.txt',\n",
       " '/home/jian/BigLots/2018_by_weeks/MediaStorm_2018-08-04/MediaStormDailySales20180807-111637-702.txt',\n",
       " '/home/jian/BigLots/2018_by_weeks/MediaStorm_2018-08-11/MediaStormDailySales20180814-121633-120.txt']"
      ]
     },
     "execution_count": 40,
     "metadata": {},
     "output_type": "execute_result"
    }
   ],
   "source": [
    "daily_POS_files_2018=list(recursive_file_gen(\"/home/jian/BigLots/2018_by_weeks/\"))\n",
    "daily_POS_files_2018=[x for x in daily_POS_files_2018 if \"daily\" in x.lower()]\n",
    "daily_POS_files_2018=[x for x in daily_POS_files_2018 if \".txt\" in x.lower()]\n",
    "daily_POS_files_2018=[x for x in daily_POS_files_2018 if x.split(\"MediaStorm_\")[1][:10]<=\"2018-08-11\"]\n",
    "\n",
    "daily_POS_files_2018.sort()\n",
    "\n",
    "daily_POS_files_2018"
   ]
  },
  {
   "cell_type": "code",
   "execution_count": 41,
   "metadata": {},
   "outputs": [
    {
     "name": "stdout",
     "output_type": "stream",
     "text": [
      "54\n"
     ]
    },
    {
     "data": {
      "text/plain": [
       "['/home/jian/BigLots/hist_daily_data_subclasslevel/MediaStormDailySales_week_ending_2017-10-07.txt',\n",
       " '/home/jian/BigLots/hist_daily_data_subclasslevel/MediaStormDailySales_week_ending_2017-10-14.txt',\n",
       " '/home/jian/BigLots/hist_daily_data_subclasslevel/MediaStormDailySales_week_ending_2017-10-21.txt',\n",
       " '/home/jian/BigLots/hist_daily_data_subclasslevel/MediaStormDailySales_week_ending_2017-10-28.txt',\n",
       " '/home/jian/BigLots/hist_daily_data_subclasslevel/MediaStormDailySales_week_ending_2017-11-04.txt',\n",
       " '/home/jian/BigLots/hist_daily_data_subclasslevel/MediaStormDailySales_week_ending_2017-11-11.txt',\n",
       " '/home/jian/BigLots/hist_daily_data_subclasslevel/MediaStormDailySales_week_ending_2017-11-18.txt',\n",
       " '/home/jian/BigLots/hist_daily_data_subclasslevel/MediaStormDailySales_week_ending_2017-11-25.txt',\n",
       " '/home/jian/BigLots/hist_daily_data_subclasslevel/MediaStormDailySales_week_ending_2017-12-02.txt',\n",
       " '/home/jian/BigLots/hist_daily_data_subclasslevel/MediaStormDailySales_week_ending_2017-12-09.txt',\n",
       " '/home/jian/BigLots/hist_daily_data_subclasslevel/MediaStormDailySales_week_ending_2017-12-16.txt',\n",
       " '/home/jian/BigLots/hist_daily_data_subclasslevel/MediaStormDailySales_week_ending_2017-12-23.txt',\n",
       " '/home/jian/BigLots/hist_daily_data_subclasslevel/MediaStormDailySales_week_ending_2017-12-30.txt',\n",
       " '/home/jian/BigLots/hist_daily_data_subclasslevel/MediaStormDailySales_week_ending_2018-01-06.txt',\n",
       " '/home/jian/BigLots/hist_daily_data_subclasslevel/MediaStormDailySales_week_ending_2018-01-13.txt',\n",
       " '/home/jian/BigLots/hist_daily_data_subclasslevel/MediaStormDailySales_week_ending_2018-01-20.txt',\n",
       " '/home/jian/BigLots/hist_daily_data_subclasslevel/MediaStormDailySales_week_ending_2018-01-27.txt',\n",
       " '/home/jian/BigLots/hist_daily_data_subclasslevel/MediaStormDailySales_week_ending_2018-02-03.txt',\n",
       " '/home/jian/BigLots/hist_daily_data_subclasslevel/MediaStormDailySales_week_ending_2018-02-10.txt',\n",
       " '/home/jian/BigLots/hist_daily_data_subclasslevel/MediaStormDailySales_week_ending_2018-02-17.txt',\n",
       " '/home/jian/BigLots/hist_daily_data_subclasslevel/MediaStormDailySales_week_ending_2018-02-24.txt',\n",
       " '/home/jian/BigLots/hist_daily_data_subclasslevel/MediaStormDailySales_week_ending_2018-03-03.txt',\n",
       " '/home/jian/BigLots/hist_daily_data_subclasslevel/MediaStormDailySales_week_ending_2018-03-10.txt',\n",
       " '/home/jian/BigLots/hist_daily_data_subclasslevel/MediaStormDailySales_week_ending_2018-03-17.txt',\n",
       " '/home/jian/BigLots/hist_daily_data_subclasslevel/MediaStormDailySales_week_ending_2018-03-24.txt',\n",
       " '/home/jian/BigLots/hist_daily_data_subclasslevel/MediaStormDailySales_week_ending_2018-03-31.txt',\n",
       " '/home/jian/BigLots/hist_daily_data_subclasslevel/MediaStormDailySales_week_ending_2018-04-07.txt',\n",
       " '/home/jian/BigLots/hist_daily_data_subclasslevel/MediaStormDailySales_week_ending_2018-04-14.txt',\n",
       " '/home/jian/BigLots/hist_daily_data_subclasslevel/MediaStormDailySales_week_ending_2018-04-21.txt',\n",
       " '/home/jian/BigLots/hist_daily_data_subclasslevel/MediaStormDailySales_week_ending_2018-04-28.txt',\n",
       " '/home/jian/BigLots/hist_daily_data_subclasslevel/MediaStormDailySales_week_ending_2018-05-05.txt',\n",
       " '/home/jian/BigLots/hist_daily_data_subclasslevel/MediaStormDailySales_week_ending_2018-05-12.txt',\n",
       " '/home/jian/BigLots/hist_daily_data_subclasslevel/MediaStormDailySales_week_ending_2018-05-19.txt',\n",
       " '/home/jian/BigLots/hist_daily_data_subclasslevel/MediaStormDailySales_week_ending_2018-05-26.txt',\n",
       " '/home/jian/BigLots/hist_daily_data_subclasslevel/MediaStormDailySales_week_ending_2018-06-02.txt',\n",
       " '/home/jian/BigLots/hist_daily_data_subclasslevel/MediaStormDailySales_week_ending_2018-06-09.txt',\n",
       " '/home/jian/BigLots/2018_by_weeks/MediaStorm_2018-06-16/MediaStormDailySales.txt',\n",
       " '/home/jian/BigLots/2018_by_weeks/MediaStorm_2018-06-23/MediaStormDailySales.txt',\n",
       " '/home/jian/BigLots/2018_by_weeks/MediaStorm_2018-06-30/MediaStormDailySales.txt',\n",
       " '/home/jian/BigLots/2018_by_weeks/MediaStorm_2018-07-07/MediaStormDailySales.txt',\n",
       " '/home/jian/BigLots/2018_by_weeks/MediaStorm_2018-07-14/MediaStormDailySales20180717-113630-767.txt',\n",
       " '/home/jian/BigLots/2018_by_weeks/MediaStorm_2018-07-21/MediaStormDailySales20180724-113327-741.txt',\n",
       " '/home/jian/BigLots/2018_by_weeks/MediaStorm_2018-07-28/MediaStormDailySales20180731-111804-489.txt',\n",
       " '/home/jian/BigLots/2018_by_weeks/MediaStorm_2018-08-04/MediaStormDailySales20180807-111637-702.txt',\n",
       " '/home/jian/BigLots/2018_by_weeks/MediaStorm_2018-08-11/MediaStormDailySales20180814-121633-120.txt',\n",
       " '/home/jian/BigLots/hist_daily_data_itemlevel_decompressed/MediaStormDailySalesHistory20180811.txt',\n",
       " '/home/jian/BigLots/hist_daily_data_itemlevel_decompressed/MediaStormDailySalesHistory20180818.txt',\n",
       " '/home/jian/BigLots/hist_daily_data_itemlevel_decompressed/MediaStormDailySalesHistory20180825.txt',\n",
       " '/home/jian/BigLots/hist_daily_data_itemlevel_decompressed/MediaStormDailySalesHistory20180901.txt',\n",
       " '/home/jian/BigLots/hist_daily_data_itemlevel_decompressed/MediaStormDailySalesHistory20180908.txt',\n",
       " '/home/jian/BigLots/hist_daily_data_itemlevel_decompressed/MediaStormDailySalesHistory20180915.txt',\n",
       " '/home/jian/BigLots/hist_daily_data_itemlevel_decompressed/MediaStormDailySalesHistory20180922.txt',\n",
       " '/home/jian/BigLots/hist_daily_data_itemlevel_decompressed/MediaStormDailySalesHistory20180929.txt',\n",
       " '/home/jian/BigLots/hist_daily_data_itemlevel_decompressed/MediaStormDailySalesHistory20181006.txt']"
      ]
     },
     "execution_count": 41,
     "metadata": {},
     "output_type": "execute_result"
    }
   ],
   "source": [
    "list_POS_item_in_1_year=historical_subclass_files+daily_POS_files_2018+historical_item_files\n",
    "print(len(list_POS_item_in_1_year))\n",
    "\n",
    "list_POS_item_in_1_year"
   ]
  },
  {
   "cell_type": "code",
   "execution_count": 42,
   "metadata": {
    "scrolled": true
   },
   "outputs": [
    {
     "name": "stdout",
     "output_type": "stream",
     "text": [
      "0 2017-10-01 2017-10-07 2019-11-11 21:54:25.171389 /home/jian/BigLots/hist_daily_data_subclasslevel/MediaStormDailySales_week_ending_2017-10-07.txt\n",
      "1 2017-10-08 2017-10-14 2019-11-11 21:55:07.225928 /home/jian/BigLots/hist_daily_data_subclasslevel/MediaStormDailySales_week_ending_2017-10-14.txt\n",
      "2 2017-10-15 2017-10-21 2019-11-11 21:55:54.552339 /home/jian/BigLots/hist_daily_data_subclasslevel/MediaStormDailySales_week_ending_2017-10-21.txt\n",
      "3 2017-10-22 2017-10-28 2019-11-11 21:56:44.006205 /home/jian/BigLots/hist_daily_data_subclasslevel/MediaStormDailySales_week_ending_2017-10-28.txt\n",
      "4 2017-10-29 2017-11-04 2019-11-11 21:57:36.153691 /home/jian/BigLots/hist_daily_data_subclasslevel/MediaStormDailySales_week_ending_2017-11-04.txt\n",
      "5 2017-11-05 2017-11-11 2019-11-11 21:58:35.206661 /home/jian/BigLots/hist_daily_data_subclasslevel/MediaStormDailySales_week_ending_2017-11-11.txt\n",
      "6 2017-11-12 2017-11-18 2019-11-11 21:59:43.433346 /home/jian/BigLots/hist_daily_data_subclasslevel/MediaStormDailySales_week_ending_2017-11-18.txt\n",
      "7 2017-11-19 2017-11-25 2019-11-11 22:01:14.314712 /home/jian/BigLots/hist_daily_data_subclasslevel/MediaStormDailySales_week_ending_2017-11-25.txt\n",
      "8 2017-11-26 2017-12-02 2019-11-11 22:02:49.518300 /home/jian/BigLots/hist_daily_data_subclasslevel/MediaStormDailySales_week_ending_2017-12-02.txt\n",
      "9 2017-12-03 2017-12-09 2019-11-11 22:04:23.971007 /home/jian/BigLots/hist_daily_data_subclasslevel/MediaStormDailySales_week_ending_2017-12-09.txt\n",
      "10 2017-12-10 2017-12-16 2019-11-11 22:06:02.328163 /home/jian/BigLots/hist_daily_data_subclasslevel/MediaStormDailySales_week_ending_2017-12-16.txt\n",
      "11 2017-12-17 2017-12-23 2019-11-11 22:07:56.525449 /home/jian/BigLots/hist_daily_data_subclasslevel/MediaStormDailySales_week_ending_2017-12-23.txt\n",
      "12 2017-12-24 2017-12-30 2019-11-11 22:08:49.432967 /home/jian/BigLots/hist_daily_data_subclasslevel/MediaStormDailySales_week_ending_2017-12-30.txt\n",
      "13 2017-12-31 2018-01-06 2019-11-11 22:09:38.145069 /home/jian/BigLots/hist_daily_data_subclasslevel/MediaStormDailySales_week_ending_2018-01-06.txt\n",
      "14 2018-01-07 2018-01-13 2019-11-11 22:10:32.421996 /home/jian/BigLots/hist_daily_data_subclasslevel/MediaStormDailySales_week_ending_2018-01-13.txt\n",
      "15 2018-01-14 2018-01-20 2019-11-11 22:11:40.113091 /home/jian/BigLots/hist_daily_data_subclasslevel/MediaStormDailySales_week_ending_2018-01-20.txt\n",
      "16 2018-01-21 2018-01-27 2019-11-11 22:12:40.251618 /home/jian/BigLots/hist_daily_data_subclasslevel/MediaStormDailySales_week_ending_2018-01-27.txt\n",
      "17 2018-01-28 2018-02-03 2019-11-11 22:13:33.902208 /home/jian/BigLots/hist_daily_data_subclasslevel/MediaStormDailySales_week_ending_2018-02-03.txt\n",
      "18 2018-02-04 2018-02-10 2019-11-11 22:14:28.609320 /home/jian/BigLots/hist_daily_data_subclasslevel/MediaStormDailySales_week_ending_2018-02-10.txt\n",
      "19 2018-02-11 2018-02-17 2019-11-11 22:15:27.002416 /home/jian/BigLots/hist_daily_data_subclasslevel/MediaStormDailySales_week_ending_2018-02-17.txt\n",
      "20 2018-02-18 2018-02-24 2019-11-11 22:16:32.531606 /home/jian/BigLots/hist_daily_data_subclasslevel/MediaStormDailySales_week_ending_2018-02-24.txt\n",
      "21 2018-02-25 2018-03-03 2019-11-11 22:17:40.117753 /home/jian/BigLots/hist_daily_data_subclasslevel/MediaStormDailySales_week_ending_2018-03-03.txt\n",
      "22 2018-03-04 2018-03-10 2019-11-11 22:18:39.038060 /home/jian/BigLots/hist_daily_data_subclasslevel/MediaStormDailySales_week_ending_2018-03-10.txt\n",
      "23 2018-03-11 2018-03-17 2019-11-11 22:19:40.100419 /home/jian/BigLots/hist_daily_data_subclasslevel/MediaStormDailySales_week_ending_2018-03-17.txt\n",
      "24 2018-03-18 2018-03-24 2019-11-11 22:20:42.591650 /home/jian/BigLots/hist_daily_data_subclasslevel/MediaStormDailySales_week_ending_2018-03-24.txt\n",
      "25 2018-03-25 2018-03-31 2019-11-11 22:21:53.733868 /home/jian/BigLots/hist_daily_data_subclasslevel/MediaStormDailySales_week_ending_2018-03-31.txt\n",
      "26 2018-04-01 2018-04-07 2019-11-11 22:23:13.180757 /home/jian/BigLots/hist_daily_data_subclasslevel/MediaStormDailySales_week_ending_2018-04-07.txt\n",
      "27 2018-04-08 2018-04-14 2019-11-11 22:24:29.699947 /home/jian/BigLots/hist_daily_data_subclasslevel/MediaStormDailySales_week_ending_2018-04-14.txt\n",
      "28 2018-04-15 2018-04-21 2019-11-11 22:25:29.716973 /home/jian/BigLots/hist_daily_data_subclasslevel/MediaStormDailySales_week_ending_2018-04-21.txt\n",
      "29 2018-04-22 2018-04-28 2019-11-11 22:26:33.183879 /home/jian/BigLots/hist_daily_data_subclasslevel/MediaStormDailySales_week_ending_2018-04-28.txt\n",
      "30 2018-04-29 2018-05-05 2019-11-11 22:27:41.518014 /home/jian/BigLots/hist_daily_data_subclasslevel/MediaStormDailySales_week_ending_2018-05-05.txt\n",
      "31 2018-05-06 2018-05-12 2019-11-11 22:28:46.133137 /home/jian/BigLots/hist_daily_data_subclasslevel/MediaStormDailySales_week_ending_2018-05-12.txt\n",
      "32 2018-05-13 2018-05-19 2019-11-11 22:29:48.409313 /home/jian/BigLots/hist_daily_data_subclasslevel/MediaStormDailySales_week_ending_2018-05-19.txt\n",
      "33 2018-05-20 2018-05-26 2019-11-11 22:30:52.134656 /home/jian/BigLots/hist_daily_data_subclasslevel/MediaStormDailySales_week_ending_2018-05-26.txt\n",
      "34 2018-05-27 2018-06-02 2019-11-11 22:31:57.302708 /home/jian/BigLots/hist_daily_data_subclasslevel/MediaStormDailySales_week_ending_2018-06-02.txt\n",
      "35 2018-06-03 2018-06-09 2019-11-11 22:33:01.676657 /home/jian/BigLots/hist_daily_data_subclasslevel/MediaStormDailySales_week_ending_2018-06-09.txt\n",
      "36 2018-06-10 2018-06-16 2019-11-11 22:34:06.215732 /home/jian/BigLots/2018_by_weeks/MediaStorm_2018-06-16/MediaStormDailySales.txt\n",
      "37 2018-06-17 2018-06-23 2019-11-11 22:35:03.992939 /home/jian/BigLots/2018_by_weeks/MediaStorm_2018-06-23/MediaStormDailySales.txt\n",
      "38 2018-06-24 2018-06-30 2019-11-11 22:36:04.291479 /home/jian/BigLots/2018_by_weeks/MediaStorm_2018-06-30/MediaStormDailySales.txt\n",
      "39 2018-07-01 2018-07-07 2019-11-11 22:37:34.790036 /home/jian/BigLots/2018_by_weeks/MediaStorm_2018-07-07/MediaStormDailySales.txt\n",
      "40 2018-07-08 2018-07-14 2019-11-11 22:39:00.826808 /home/jian/BigLots/2018_by_weeks/MediaStorm_2018-07-14/MediaStormDailySales20180717-113630-767.txt\n",
      "41 2018-07-15 2018-07-21 2019-11-11 22:40:10.848223 /home/jian/BigLots/2018_by_weeks/MediaStorm_2018-07-21/MediaStormDailySales20180724-113327-741.txt\n",
      "42 2018-07-22 2018-07-28 2019-11-11 22:41:19.347613 /home/jian/BigLots/2018_by_weeks/MediaStorm_2018-07-28/MediaStormDailySales20180731-111804-489.txt\n",
      "43 2018-07-29 2018-08-04 2019-11-11 22:42:33.789680 /home/jian/BigLots/2018_by_weeks/MediaStorm_2018-08-04/MediaStormDailySales20180807-111637-702.txt\n",
      "44 2018-08-05 2018-08-11 2019-11-11 22:43:44.038884 /home/jian/BigLots/2018_by_weeks/MediaStorm_2018-08-11/MediaStormDailySales20180814-121633-120.txt\n",
      "45 2018-08-05 2018-08-11 2019-11-11 22:45:06.572004 /home/jian/BigLots/hist_daily_data_itemlevel_decompressed/MediaStormDailySalesHistory20180811.txt\n",
      "46 2018-08-12 2018-08-18 2019-11-11 22:46:31.818832 /home/jian/BigLots/hist_daily_data_itemlevel_decompressed/MediaStormDailySalesHistory20180818.txt\n",
      "47 2018-08-19 2018-08-25 2019-11-11 22:48:11.062367 /home/jian/BigLots/hist_daily_data_itemlevel_decompressed/MediaStormDailySalesHistory20180825.txt\n",
      "48 2018-08-26 2018-09-01 2019-11-11 22:49:21.411995 /home/jian/BigLots/hist_daily_data_itemlevel_decompressed/MediaStormDailySalesHistory20180901.txt\n",
      "49 2018-09-02 2018-09-08 2019-11-11 22:50:32.384432 /home/jian/BigLots/hist_daily_data_itemlevel_decompressed/MediaStormDailySalesHistory20180908.txt\n",
      "50 2018-09-09 2018-09-15 2019-11-11 22:51:40.681951 /home/jian/BigLots/hist_daily_data_itemlevel_decompressed/MediaStormDailySalesHistory20180915.txt\n",
      "51 2018-09-16 2018-09-22 2019-11-11 22:52:46.735857 /home/jian/BigLots/hist_daily_data_itemlevel_decompressed/MediaStormDailySalesHistory20180922.txt\n",
      "52 2018-09-23 2018-09-29 2019-11-11 22:54:11.593656 /home/jian/BigLots/hist_daily_data_itemlevel_decompressed/MediaStormDailySalesHistory20180929.txt\n",
      "53 2018-09-30 2018-09-30 2019-11-11 22:55:10.776584 /home/jian/BigLots/hist_daily_data_itemlevel_decompressed/MediaStormDailySalesHistory20181006.txt\n"
     ]
    }
   ],
   "source": [
    "df_sales_in_1_year=pd.DataFrame()\n",
    "i_counter=0\n",
    "for file in list_POS_item_in_1_year:\n",
    "    try:\n",
    "        df=pd.read_table(file,dtype=str,sep=\"|\",usecols=['customer_id_hashed','transaction_dt','transaction_id','location_id','item_transaction_amt'])\n",
    "        df=df.rename(columns={\"item_transaction_amt\":\"sales\"})\n",
    "    except:\n",
    "        df=pd.read_table(file,dtype=str,sep=\"|\",usecols=['customer_id_hashed','transaction_dt','transaction_id','location_id','subclass_transaction_amt'])\n",
    "        df=df.rename(columns={\"subclass_transaction_amt\":\"sales\"})\n",
    "        \n",
    "    df=df[pd.notnull(df['customer_id_hashed'])]\n",
    "    ###\n",
    "    df=df[df['transaction_dt']>=\"2017-10-01\"]\n",
    "    df=df[df['transaction_dt']<=\"2018-09-30\"]\n",
    "    ###\n",
    "    df['sales']=df['sales'].astype(float)\n",
    "    df_sales=df.groupby(['customer_id_hashed','transaction_dt'])['sales'].sum().to_frame().reset_index()\n",
    "    \n",
    "    df_trans=df[['customer_id_hashed','transaction_dt','transaction_id','location_id']].drop_duplicates()\n",
    "    df_trans['trans']=1\n",
    "    df_trans=df_trans.groupby(['customer_id_hashed','transaction_dt'])['trans'].sum().to_frame().reset_index()\n",
    "    df=pd.merge(df_sales,df_trans,on=[\"customer_id_hashed\",'transaction_dt'],how=\"outer\")\n",
    "\n",
    "    print(i_counter,df['transaction_dt'].min(),df['transaction_dt'].max(),datetime.datetime.now(),file)\n",
    "    i_counter+=1\n",
    "    df_sales_in_1_year=df_sales_in_1_year.append(df)\n"
   ]
  },
  {
   "cell_type": "code",
   "execution_count": 43,
   "metadata": {},
   "outputs": [
    {
     "name": "stdout",
     "output_type": "stream",
     "text": [
      "2019-11-11 22:55:26.830195\n",
      "2019-11-11 23:52:53.134329\n"
     ]
    },
    {
     "data": {
      "text/plain": [
       "(16283224, 4)"
      ]
     },
     "execution_count": 43,
     "metadata": {},
     "output_type": "execute_result"
    }
   ],
   "source": [
    "gc.collect()\n",
    "print(datetime.datetime.now())\n",
    "agg_f={\"transaction_dt\":\"max\",\"sales\":\"sum\",\"trans\":\"sum\"}\n",
    "df_sales_in_1_year=df_sales_in_1_year.groupby(\"customer_id_hashed\")['transaction_dt','sales','trans'].agg(agg_f).reset_index()\n",
    "df_sales_in_1_year=df_sales_in_1_year.rename(columns={\"transaction_dt\":\"last_trans_date_in_1_year\"})\n",
    "df_sales_in_1_year=df_sales_in_1_year.rename(columns={\"sales\":\"sales_in_1_year\"})\n",
    "df_sales_in_1_year=df_sales_in_1_year.rename(columns={\"trans\":\"trans_in_1_year\"})\n",
    "print(datetime.datetime.now())\n",
    "\n",
    "df_sales_in_1_year.shape"
   ]
  },
  {
   "cell_type": "code",
   "execution_count": 44,
   "metadata": {},
   "outputs": [
    {
     "data": {
      "text/html": [
       "<div>\n",
       "<style scoped>\n",
       "    .dataframe tbody tr th:only-of-type {\n",
       "        vertical-align: middle;\n",
       "    }\n",
       "\n",
       "    .dataframe tbody tr th {\n",
       "        vertical-align: top;\n",
       "    }\n",
       "\n",
       "    .dataframe thead th {\n",
       "        text-align: right;\n",
       "    }\n",
       "</style>\n",
       "<table border=\"1\" class=\"dataframe\">\n",
       "  <thead>\n",
       "    <tr style=\"text-align: right;\">\n",
       "      <th></th>\n",
       "      <th>customer_id_hashed</th>\n",
       "      <th>last_trans_date_in_1_year</th>\n",
       "      <th>sales_in_1_year</th>\n",
       "      <th>trans_in_1_year</th>\n",
       "    </tr>\n",
       "  </thead>\n",
       "  <tbody>\n",
       "    <tr>\n",
       "      <th>0</th>\n",
       "      <td>000001dadc0265bf9d250566d74e0006323f18b5826641...</td>\n",
       "      <td>2018-09-22</td>\n",
       "      <td>58.70</td>\n",
       "      <td>1</td>\n",
       "    </tr>\n",
       "    <tr>\n",
       "      <th>1</th>\n",
       "      <td>000003066bafc6b19c55d3be5fc646a253c659e9e6baea...</td>\n",
       "      <td>2017-11-10</td>\n",
       "      <td>39.99</td>\n",
       "      <td>1</td>\n",
       "    </tr>\n",
       "  </tbody>\n",
       "</table>\n",
       "</div>"
      ],
      "text/plain": [
       "                                  customer_id_hashed  \\\n",
       "0  000001dadc0265bf9d250566d74e0006323f18b5826641...   \n",
       "1  000003066bafc6b19c55d3be5fc646a253c659e9e6baea...   \n",
       "\n",
       "  last_trans_date_in_1_year  sales_in_1_year  trans_in_1_year  \n",
       "0                2018-09-22            58.70                1  \n",
       "1                2017-11-10            39.99                1  "
      ]
     },
     "execution_count": 44,
     "metadata": {},
     "output_type": "execute_result"
    }
   ],
   "source": [
    "df_sales_in_1_year.head(2)"
   ]
  },
  {
   "cell_type": "code",
   "execution_count": 45,
   "metadata": {},
   "outputs": [
    {
     "data": {
      "text/plain": [
       "16283224"
      ]
     },
     "execution_count": 45,
     "metadata": {},
     "output_type": "execute_result"
    }
   ],
   "source": [
    "df_sales_in_1_year['customer_id_hashed'].nunique()"
   ]
  },
  {
   "cell_type": "code",
   "execution_count": 46,
   "metadata": {},
   "outputs": [
    {
     "data": {
      "text/plain": [
       "(16861368, 9)"
      ]
     },
     "execution_count": 46,
     "metadata": {},
     "output_type": "execute_result"
    }
   ],
   "source": [
    "df_sales_by_id.shape"
   ]
  },
  {
   "cell_type": "code",
   "execution_count": 47,
   "metadata": {},
   "outputs": [
    {
     "name": "stdout",
     "output_type": "stream",
     "text": [
      "(16861368, 9)\n",
      "(16861368, 12)\n"
     ]
    }
   ],
   "source": [
    "print(df_sales_by_id.shape)\n",
    "df_sales_by_id=pd.merge(df_sales_by_id,df_sales_in_1_year,on=\"customer_id_hashed\",how=\"left\")\n",
    "print(df_sales_by_id.shape)\n",
    "df_sales_by_id['sales_in_1_year']=df_sales_by_id['sales_in_1_year'].fillna(0)\n",
    "df_sales_by_id['trans_in_1_year']=df_sales_by_id['trans_in_1_year'].fillna(0)\n"
   ]
  },
  {
   "cell_type": "code",
   "execution_count": 48,
   "metadata": {},
   "outputs": [
    {
     "data": {
      "text/plain": [
       "0"
      ]
     },
     "execution_count": 48,
     "metadata": {},
     "output_type": "execute_result"
    }
   ],
   "source": [
    "del df_sales_in_1_year\n",
    "gc.collect()"
   ]
  },
  {
   "cell_type": "code",
   "execution_count": 49,
   "metadata": {},
   "outputs": [
    {
     "data": {
      "text/plain": [
       "'/home/jian/Projects/Big_Lots/Analysis/2019_Q4/Loyalty_Health'"
      ]
     },
     "execution_count": 49,
     "metadata": {},
     "output_type": "execute_result"
    }
   ],
   "source": [
    "os.getcwd()"
   ]
  },
  {
   "cell_type": "code",
   "execution_count": 50,
   "metadata": {
    "collapsed": true
   },
   "outputs": [],
   "source": [
    "df_sales_by_id.to_csv(\"./BL_2017Audience_Performance_in_detail_18_JL_\"+str(datetime.datetime.now().date())+\".csv\",index=False)"
   ]
  },
  {
   "cell_type": "code",
   "execution_count": 51,
   "metadata": {
    "collapsed": true
   },
   "outputs": [],
   "source": [
    "df_sales_by_id['shoppers_in_1_year']=np.where(pd.isnull(df_sales_by_id['last_trans_date_in_1_year']),0,1)\n",
    "df_sales_by_id['zip_type']=df_sales_by_id['zip_type'].fillna(\"T\")\n",
    "df_sales_by_id['HML_Group']=df_sales_by_id['HML_Group'].fillna(\"nan\")"
   ]
  },
  {
   "cell_type": "code",
   "execution_count": 62,
   "metadata": {},
   "outputs": [
    {
     "data": {
      "text/plain": [
       "(16861368, 13)"
      ]
     },
     "execution_count": 62,
     "metadata": {},
     "output_type": "execute_result"
    }
   ],
   "source": [
    "df_sales_by_id.shape"
   ]
  },
  {
   "cell_type": "code",
   "execution_count": 64,
   "metadata": {},
   "outputs": [
    {
     "data": {
      "text/plain": [
       "16861368"
      ]
     },
     "execution_count": 64,
     "metadata": {},
     "output_type": "execute_result"
    }
   ],
   "source": [
    "df_sales_by_id['customer_id_hashed'].nunique()"
   ]
  },
  {
   "cell_type": "code",
   "execution_count": 52,
   "metadata": {},
   "outputs": [
    {
     "data": {
      "text/plain": [
       "array(['Active (0-12)', 'Lapsed (13-18)', 'Lapsed (19-48)'], dtype=object)"
      ]
     },
     "execution_count": 52,
     "metadata": {},
     "output_type": "execute_result"
    }
   ],
   "source": [
    "df_sales_by_id['Active_Status'].unique()"
   ]
  },
  {
   "cell_type": "code",
   "execution_count": 53,
   "metadata": {},
   "outputs": [
    {
     "data": {
      "text/plain": [
       "array(['H', 'M', 'L', 'nan'], dtype=object)"
      ]
     },
     "execution_count": 53,
     "metadata": {},
     "output_type": "execute_result"
    }
   ],
   "source": [
    "df_sales_by_id['HML_Group'].unique()"
   ]
  },
  {
   "cell_type": "code",
   "execution_count": 54,
   "metadata": {},
   "outputs": [
    {
     "data": {
      "text/plain": [
       "array(['S', 'P', 'T'], dtype=object)"
      ]
     },
     "execution_count": 54,
     "metadata": {},
     "output_type": "execute_result"
    }
   ],
   "source": [
    "df_sales_by_id['zip_type'].unique()"
   ]
  },
  {
   "cell_type": "code",
   "execution_count": 55,
   "metadata": {},
   "outputs": [
    {
     "data": {
      "text/html": [
       "<div>\n",
       "<style scoped>\n",
       "    .dataframe tbody tr th:only-of-type {\n",
       "        vertical-align: middle;\n",
       "    }\n",
       "\n",
       "    .dataframe tbody tr th {\n",
       "        vertical-align: top;\n",
       "    }\n",
       "\n",
       "    .dataframe thead th {\n",
       "        text-align: right;\n",
       "    }\n",
       "</style>\n",
       "<table border=\"1\" class=\"dataframe\">\n",
       "  <thead>\n",
       "    <tr style=\"text-align: right;\">\n",
       "      <th></th>\n",
       "      <th>Active_Status</th>\n",
       "      <th>HML_Group</th>\n",
       "      <th>customer_id_hashed</th>\n",
       "      <th>frmindex</th>\n",
       "      <th>last_trans_date</th>\n",
       "      <th>sales</th>\n",
       "      <th>trans</th>\n",
       "      <th>transaction_dt</th>\n",
       "      <th>zip_type</th>\n",
       "      <th>last_trans_date_in_1_year</th>\n",
       "      <th>sales_in_1_year</th>\n",
       "      <th>trans_in_1_year</th>\n",
       "      <th>shoppers_in_1_year</th>\n",
       "    </tr>\n",
       "  </thead>\n",
       "  <tbody>\n",
       "    <tr>\n",
       "      <th>0</th>\n",
       "      <td>Active (0-12)</td>\n",
       "      <td>H</td>\n",
       "      <td>a559dc73bfa37290f41696627e867601815ee097a3fd7b...</td>\n",
       "      <td>D01</td>\n",
       "      <td>2017-09-29</td>\n",
       "      <td>NaN</td>\n",
       "      <td>NaN</td>\n",
       "      <td>NaN</td>\n",
       "      <td>S</td>\n",
       "      <td>2018-08-15</td>\n",
       "      <td>43.05</td>\n",
       "      <td>11.0</td>\n",
       "      <td>1</td>\n",
       "    </tr>\n",
       "    <tr>\n",
       "      <th>1</th>\n",
       "      <td>Active (0-12)</td>\n",
       "      <td>H</td>\n",
       "      <td>006e60ad4a22343cebb282056a0c65ee7d5061720d8a82...</td>\n",
       "      <td>D01</td>\n",
       "      <td>2017-09-08</td>\n",
       "      <td>NaN</td>\n",
       "      <td>NaN</td>\n",
       "      <td>NaN</td>\n",
       "      <td>P</td>\n",
       "      <td>2018-02-22</td>\n",
       "      <td>73.99</td>\n",
       "      <td>3.0</td>\n",
       "      <td>1</td>\n",
       "    </tr>\n",
       "  </tbody>\n",
       "</table>\n",
       "</div>"
      ],
      "text/plain": [
       "   Active_Status HML_Group                                 customer_id_hashed  \\\n",
       "0  Active (0-12)         H  a559dc73bfa37290f41696627e867601815ee097a3fd7b...   \n",
       "1  Active (0-12)         H  006e60ad4a22343cebb282056a0c65ee7d5061720d8a82...   \n",
       "\n",
       "  frmindex last_trans_date  sales  trans transaction_dt zip_type  \\\n",
       "0      D01      2017-09-29    NaN    NaN            NaN        S   \n",
       "1      D01      2017-09-08    NaN    NaN            NaN        P   \n",
       "\n",
       "  last_trans_date_in_1_year  sales_in_1_year  trans_in_1_year  \\\n",
       "0                2018-08-15            43.05             11.0   \n",
       "1                2018-02-22            73.99              3.0   \n",
       "\n",
       "   shoppers_in_1_year  \n",
       "0                   1  \n",
       "1                   1  "
      ]
     },
     "execution_count": 55,
     "metadata": {},
     "output_type": "execute_result"
    }
   ],
   "source": [
    "df_sales_by_id.head(2)"
   ]
  },
  {
   "cell_type": "code",
   "execution_count": 56,
   "metadata": {},
   "outputs": [
    {
     "data": {
      "text/plain": [
       "(13, 7)"
      ]
     },
     "execution_count": 56,
     "metadata": {},
     "output_type": "execute_result"
    }
   ],
   "source": [
    "agg_f={\"customer_id_hashed\":\"count\",\"shoppers_in_1_year\":\"sum\",\"sales_in_1_year\":\"sum\",\"trans_in_1_year\":\"sum\"}\n",
    "\n",
    "df_output=df_sales_by_id.groupby([\"Active_Status\",'HML_Group','zip_type'])['customer_id_hashed','shoppers_in_1_year','sales_in_1_year','trans_in_1_year'].agg(agg_f).reset_index()\n",
    "df_output.shape"
   ]
  },
  {
   "cell_type": "code",
   "execution_count": 57,
   "metadata": {
    "collapsed": true
   },
   "outputs": [],
   "source": [
    "df_output.to_csv(\"./BL_2017Audience_Performance_in_summary_18_JL_\"+str(datetime.datetime.now().date())+\".csv\",index=False)"
   ]
  },
  {
   "cell_type": "code",
   "execution_count": 58,
   "metadata": {},
   "outputs": [
    {
     "data": {
      "text/html": [
       "<div>\n",
       "<style scoped>\n",
       "    .dataframe tbody tr th:only-of-type {\n",
       "        vertical-align: middle;\n",
       "    }\n",
       "\n",
       "    .dataframe tbody tr th {\n",
       "        vertical-align: top;\n",
       "    }\n",
       "\n",
       "    .dataframe thead th {\n",
       "        text-align: right;\n",
       "    }\n",
       "</style>\n",
       "<table border=\"1\" class=\"dataframe\">\n",
       "  <thead>\n",
       "    <tr style=\"text-align: right;\">\n",
       "      <th></th>\n",
       "      <th>Active_Status</th>\n",
       "      <th>HML_Group</th>\n",
       "      <th>zip_type</th>\n",
       "      <th>customer_id_hashed</th>\n",
       "      <th>shoppers_in_1_year</th>\n",
       "      <th>sales_in_1_year</th>\n",
       "      <th>trans_in_1_year</th>\n",
       "    </tr>\n",
       "  </thead>\n",
       "  <tbody>\n",
       "    <tr>\n",
       "      <th>0</th>\n",
       "      <td>Active (0-12)</td>\n",
       "      <td>H</td>\n",
       "      <td>P</td>\n",
       "      <td>4281974</td>\n",
       "      <td>3470531</td>\n",
       "      <td>8.602852e+08</td>\n",
       "      <td>26834112.0</td>\n",
       "    </tr>\n",
       "    <tr>\n",
       "      <th>1</th>\n",
       "      <td>Active (0-12)</td>\n",
       "      <td>H</td>\n",
       "      <td>S</td>\n",
       "      <td>1525516</td>\n",
       "      <td>1182417</td>\n",
       "      <td>2.781150e+08</td>\n",
       "      <td>7871602.0</td>\n",
       "    </tr>\n",
       "    <tr>\n",
       "      <th>2</th>\n",
       "      <td>Active (0-12)</td>\n",
       "      <td>H</td>\n",
       "      <td>T</td>\n",
       "      <td>581394</td>\n",
       "      <td>419983</td>\n",
       "      <td>9.547690e+07</td>\n",
       "      <td>2635810.0</td>\n",
       "    </tr>\n",
       "    <tr>\n",
       "      <th>3</th>\n",
       "      <td>Active (0-12)</td>\n",
       "      <td>L</td>\n",
       "      <td>P</td>\n",
       "      <td>1901192</td>\n",
       "      <td>756093</td>\n",
       "      <td>8.686049e+07</td>\n",
       "      <td>2097977.0</td>\n",
       "    </tr>\n",
       "    <tr>\n",
       "      <th>4</th>\n",
       "      <td>Active (0-12)</td>\n",
       "      <td>L</td>\n",
       "      <td>S</td>\n",
       "      <td>799446</td>\n",
       "      <td>301565</td>\n",
       "      <td>3.535424e+07</td>\n",
       "      <td>782106.0</td>\n",
       "    </tr>\n",
       "    <tr>\n",
       "      <th>5</th>\n",
       "      <td>Active (0-12)</td>\n",
       "      <td>L</td>\n",
       "      <td>T</td>\n",
       "      <td>353995</td>\n",
       "      <td>116559</td>\n",
       "      <td>1.373815e+07</td>\n",
       "      <td>294347.0</td>\n",
       "    </tr>\n",
       "    <tr>\n",
       "      <th>6</th>\n",
       "      <td>Active (0-12)</td>\n",
       "      <td>M</td>\n",
       "      <td>P</td>\n",
       "      <td>3109076</td>\n",
       "      <td>1898952</td>\n",
       "      <td>2.821960e+08</td>\n",
       "      <td>7378658.0</td>\n",
       "    </tr>\n",
       "    <tr>\n",
       "      <th>7</th>\n",
       "      <td>Active (0-12)</td>\n",
       "      <td>M</td>\n",
       "      <td>S</td>\n",
       "      <td>1208864</td>\n",
       "      <td>706565</td>\n",
       "      <td>1.059036e+08</td>\n",
       "      <td>2536376.0</td>\n",
       "    </tr>\n",
       "    <tr>\n",
       "      <th>8</th>\n",
       "      <td>Active (0-12)</td>\n",
       "      <td>M</td>\n",
       "      <td>T</td>\n",
       "      <td>473723</td>\n",
       "      <td>252827</td>\n",
       "      <td>3.763555e+07</td>\n",
       "      <td>875247.0</td>\n",
       "    </tr>\n",
       "    <tr>\n",
       "      <th>9</th>\n",
       "      <td>Lapsed (13-18)</td>\n",
       "      <td>L</td>\n",
       "      <td>P</td>\n",
       "      <td>1092252</td>\n",
       "      <td>353338</td>\n",
       "      <td>3.967417e+07</td>\n",
       "      <td>944535.0</td>\n",
       "    </tr>\n",
       "    <tr>\n",
       "      <th>10</th>\n",
       "      <td>Lapsed (13-18)</td>\n",
       "      <td>L</td>\n",
       "      <td>S</td>\n",
       "      <td>458600</td>\n",
       "      <td>141493</td>\n",
       "      <td>1.634922e+07</td>\n",
       "      <td>354460.0</td>\n",
       "    </tr>\n",
       "    <tr>\n",
       "      <th>11</th>\n",
       "      <td>Lapsed (13-18)</td>\n",
       "      <td>L</td>\n",
       "      <td>T</td>\n",
       "      <td>186174</td>\n",
       "      <td>50044</td>\n",
       "      <td>5.737553e+06</td>\n",
       "      <td>121570.0</td>\n",
       "    </tr>\n",
       "    <tr>\n",
       "      <th>12</th>\n",
       "      <td>Lapsed (19-48)</td>\n",
       "      <td>nan</td>\n",
       "      <td>T</td>\n",
       "      <td>889162</td>\n",
       "      <td>100547</td>\n",
       "      <td>9.521486e+06</td>\n",
       "      <td>204151.0</td>\n",
       "    </tr>\n",
       "  </tbody>\n",
       "</table>\n",
       "</div>"
      ],
      "text/plain": [
       "     Active_Status HML_Group zip_type  customer_id_hashed  shoppers_in_1_year  \\\n",
       "0    Active (0-12)         H        P             4281974             3470531   \n",
       "1    Active (0-12)         H        S             1525516             1182417   \n",
       "2    Active (0-12)         H        T              581394              419983   \n",
       "3    Active (0-12)         L        P             1901192              756093   \n",
       "4    Active (0-12)         L        S              799446              301565   \n",
       "5    Active (0-12)         L        T              353995              116559   \n",
       "6    Active (0-12)         M        P             3109076             1898952   \n",
       "7    Active (0-12)         M        S             1208864              706565   \n",
       "8    Active (0-12)         M        T              473723              252827   \n",
       "9   Lapsed (13-18)         L        P             1092252              353338   \n",
       "10  Lapsed (13-18)         L        S              458600              141493   \n",
       "11  Lapsed (13-18)         L        T              186174               50044   \n",
       "12  Lapsed (19-48)       nan        T              889162              100547   \n",
       "\n",
       "    sales_in_1_year  trans_in_1_year  \n",
       "0      8.602852e+08       26834112.0  \n",
       "1      2.781150e+08        7871602.0  \n",
       "2      9.547690e+07        2635810.0  \n",
       "3      8.686049e+07        2097977.0  \n",
       "4      3.535424e+07         782106.0  \n",
       "5      1.373815e+07         294347.0  \n",
       "6      2.821960e+08        7378658.0  \n",
       "7      1.059036e+08        2536376.0  \n",
       "8      3.763555e+07         875247.0  \n",
       "9      3.967417e+07         944535.0  \n",
       "10     1.634922e+07         354460.0  \n",
       "11     5.737553e+06         121570.0  \n",
       "12     9.521486e+06         204151.0  "
      ]
     },
     "execution_count": 58,
     "metadata": {},
     "output_type": "execute_result"
    }
   ],
   "source": [
    "df_output"
   ]
  },
  {
   "cell_type": "code",
   "execution_count": 65,
   "metadata": {},
   "outputs": [
    {
     "data": {
      "text/plain": [
       "15972206"
      ]
     },
     "execution_count": 65,
     "metadata": {},
     "output_type": "execute_result"
    }
   ],
   "source": [
    "df_output[df_output['Active_Status']!=\"Lapsed (19-48)\"]['customer_id_hashed'].sum()"
   ]
  },
  {
   "cell_type": "code",
   "execution_count": 59,
   "metadata": {},
   "outputs": [
    {
     "data": {
      "text/plain": [
       "16861368"
      ]
     },
     "execution_count": 59,
     "metadata": {},
     "output_type": "execute_result"
    }
   ],
   "source": [
    "df_output['customer_id_hashed'].sum()"
   ]
  },
  {
   "cell_type": "code",
   "execution_count": 66,
   "metadata": {},
   "outputs": [
    {
     "data": {
      "text/plain": [
       "0.055669329584153875"
      ]
     },
     "execution_count": 66,
     "metadata": {},
     "output_type": "execute_result"
    }
   ],
   "source": [
    "889162/15972206"
   ]
  },
  {
   "cell_type": "code",
   "execution_count": 60,
   "metadata": {},
   "outputs": [
    {
     "data": {
      "text/html": [
       "<div>\n",
       "<style scoped>\n",
       "    .dataframe tbody tr th:only-of-type {\n",
       "        vertical-align: middle;\n",
       "    }\n",
       "\n",
       "    .dataframe tbody tr th {\n",
       "        vertical-align: top;\n",
       "    }\n",
       "\n",
       "    .dataframe thead th {\n",
       "        text-align: right;\n",
       "    }\n",
       "</style>\n",
       "<table border=\"1\" class=\"dataframe\">\n",
       "  <thead>\n",
       "    <tr style=\"text-align: right;\">\n",
       "      <th></th>\n",
       "      <th>Active_Status</th>\n",
       "      <th>HML_Group</th>\n",
       "      <th>customer_id_hashed</th>\n",
       "      <th>frmindex</th>\n",
       "      <th>last_trans_date</th>\n",
       "      <th>sales</th>\n",
       "      <th>trans</th>\n",
       "      <th>transaction_dt</th>\n",
       "      <th>zip_type</th>\n",
       "      <th>last_trans_date_in_1_year</th>\n",
       "      <th>sales_in_1_year</th>\n",
       "      <th>trans_in_1_year</th>\n",
       "      <th>shoppers_in_1_year</th>\n",
       "    </tr>\n",
       "  </thead>\n",
       "  <tbody>\n",
       "  </tbody>\n",
       "</table>\n",
       "</div>"
      ],
      "text/plain": [
       "Empty DataFrame\n",
       "Columns: [Active_Status, HML_Group, customer_id_hashed, frmindex, last_trans_date, sales, trans, transaction_dt, zip_type, last_trans_date_in_1_year, sales_in_1_year, trans_in_1_year, shoppers_in_1_year]\n",
       "Index: []"
      ]
     },
     "execution_count": 60,
     "metadata": {},
     "output_type": "execute_result"
    }
   ],
   "source": [
    "df_sales_by_id[(df_sales_by_id['Active_Status']==\"Lapsed (13-18)\") & (df_sales_by_id['HML_Group']==\"nan\")]"
   ]
  },
  {
   "cell_type": "code",
   "execution_count": 61,
   "metadata": {},
   "outputs": [
    {
     "name": "stdout",
     "output_type": "stream",
     "text": [
      "2019-11-12 00:06:30.340017\n"
     ]
    }
   ],
   "source": [
    "print(datetime.datetime.now())"
   ]
  },
  {
   "cell_type": "code",
   "execution_count": null,
   "metadata": {
    "collapsed": true
   },
   "outputs": [],
   "source": []
  },
  {
   "cell_type": "code",
   "execution_count": null,
   "metadata": {
    "collapsed": true
   },
   "outputs": [],
   "source": []
  }
 ],
 "metadata": {
  "kernelspec": {
   "display_name": "Python 3",
   "language": "python",
   "name": "python3"
  },
  "language_info": {
   "codemirror_mode": {
    "name": "ipython",
    "version": 3
   },
   "file_extension": ".py",
   "mimetype": "text/x-python",
   "name": "python",
   "nbconvert_exporter": "python",
   "pygments_lexer": "ipython3",
   "version": "3.6.1"
  }
 },
 "nbformat": 4,
 "nbformat_minor": 2
}
