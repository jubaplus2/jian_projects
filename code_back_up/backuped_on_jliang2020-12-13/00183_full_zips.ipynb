{
 "cells": [
  {
   "cell_type": "code",
   "execution_count": 1,
   "metadata": {},
   "outputs": [],
   "source": [
    "import pandas as pd\n",
    "import numpy as np\n",
    "import datetime\n",
    "import json\n",
    "import os\n",
    "from haversine import haversine\n",
    "zip_centers=json.load(open(\"/home/jian/Docs/Geo_mapping/updated_zip_centers_JL_2019-05-23.json\",\"r\"))"
   ]
  },
  {
   "cell_type": "code",
   "execution_count": 2,
   "metadata": {},
   "outputs": [
    {
     "data": {
      "text/plain": [
       "['Sheet2']"
      ]
     },
     "execution_count": 2,
     "metadata": {},
     "output_type": "execute_result"
    }
   ],
   "source": [
    "excel_file=pd.ExcelFile(\"./All SOTF Opens to Date_8.27.xlsx\")\n",
    "excel_file.sheet_names"
   ]
  },
  {
   "cell_type": "code",
   "execution_count": 3,
   "metadata": {},
   "outputs": [
    {
     "name": "stdout",
     "output_type": "stream",
     "text": [
      "(177, 2) 173\n",
      "(128, 2) 128\n",
      "(305, 3) 299\n"
     ]
    }
   ],
   "source": [
    "df=excel_file.parse(\"Sheet2\",dtype=str,skiprows=2)\n",
    "df_2018=df[['Store ID','City']].drop_duplicates()\n",
    "df_2019=df[['Store ID.1','City.1']].rename(columns={\"Store ID.1\":\"Store ID\",\"City.1\":\"City\"}).drop_duplicates()\n",
    "\n",
    "df_2018=df_2018[pd.notnull(df_2018['Store ID'])]\n",
    "df_2019=df_2019[pd.notnull(df_2019['Store ID'])]\n",
    "df_2018=df_2018[df_2018['Store ID']!=\"nan\"]\n",
    "df_2019=df_2019[df_2019['Store ID']!=\"nan\"]\n",
    "\n",
    "print(df_2018.shape,df_2018['Store ID'].nunique())\n",
    "print(df_2019.shape,df_2019['Store ID'].nunique())\n",
    "df_2019['SOTF_year']=2019\n",
    "df_2018['SOTF_year']=2018\n",
    "df_output=df_2019.append(df_2018)\n",
    "print(df_output.shape,df_output['Store ID'].nunique())\n",
    "df_output=df_output.drop_duplicates(\"Store ID\")"
   ]
  },
  {
   "cell_type": "code",
   "execution_count": 4,
   "metadata": {},
   "outputs": [],
   "source": [
    "store_list=pd.read_table(\"/home/jian/BigLots/static_files/Store_list/MediaStormStores20190801-135940-752.txt\",sep=\"|\",dtype=str)\n",
    "store_list=store_list[['location_id','latitude_meas','longitude_meas','zip_cd']]\n",
    "store_list['latitude_meas']=store_list['latitude_meas'].astype(float)\n",
    "store_list['longitude_meas']=store_list['longitude_meas'].astype(float)\n",
    "store_list['zip_cd']=store_list['zip_cd'].apply(lambda x: x.split(\"-\")[0].zfill(5))\n",
    "store_list=store_list.rename(columns={\"zip_cd\":\"store_zip\"})\n",
    "\n",
    "df_output=pd.merge(df_output,store_list,left_on=\"Store ID\",right_on=\"location_id\",how=\"left\")\n",
    "del df_output['location_id']"
   ]
  },
  {
   "cell_type": "code",
   "execution_count": 5,
   "metadata": {},
   "outputs": [
    {
     "data": {
      "text/plain": [
       "['unique_zips_full_footprint',\n",
       " 'view_by_TA',\n",
       " 'view_by_store',\n",
       " 'view_for_Tableau']"
      ]
     },
     "execution_count": 5,
     "metadata": {},
     "output_type": "execute_result"
    }
   ],
   "source": [
    "df_store_zips=pd.ExcelFile(\"/home/jian/Projects/Big_Lots/New_TA/TA_created_in_201906/final_output_20190718/BL_final_TA_updated_JL_2019-07-18.xlsx\")\n",
    "df_store_zips.sheet_names\n"
   ]
  },
  {
   "cell_type": "code",
   "execution_count": 6,
   "metadata": {},
   "outputs": [],
   "source": [
    "df_old_store_zips=df_store_zips.parse(\"view_by_store\",dtype=str)\n",
    "df_old_store_zips=df_old_store_zips[['location_id','all_trans_P_zips','all_trans_S_zips','zips_in_10']]\n",
    "df_old_store_zips['all_trans_P_zips']=df_old_store_zips['all_trans_P_zips'].apply(lambda x: eval(x))\n",
    "df_old_store_zips['all_trans_S_zips']=df_old_store_zips['all_trans_S_zips'].apply(lambda x: eval(x))\n",
    "df_old_store_zips['zips_in_10']=df_old_store_zips['zips_in_10'].apply(lambda x: eval(x))\n",
    "df_old_store_zips=df_old_store_zips[df_old_store_zips['location_id'].isin(df_output['Store ID'].tolist())]\n",
    "df_old_store_zips=df_old_store_zips.reset_index()\n",
    "del df_old_store_zips['index']"
   ]
  },
  {
   "cell_type": "code",
   "execution_count": 7,
   "metadata": {},
   "outputs": [],
   "source": [
    "df_output_old_stores=pd.DataFrame()\n",
    "for ind, row in df_old_store_zips.iterrows():\n",
    "    if row['all_trans_P_zips']:\n",
    "        df_P=pd.DataFrame({\"Store ID\":[row['location_id']]*len(row['all_trans_P_zips']),\"zip_cd\":row['all_trans_P_zips']},\n",
    "                          index=[\"P\"]*len(row['all_trans_P_zips']))\n",
    "    else:\n",
    "        df_P=pd.DataFrame()\n",
    "        \n",
    "    if row['all_trans_S_zips']:\n",
    "        df_S=pd.DataFrame({\"Store ID\":[row['location_id']]*len(row['all_trans_S_zips']),\"zip_cd\":row['all_trans_S_zips']},\n",
    "                          index=[\"S\"]*len(row['all_trans_S_zips']))\n",
    "    else:\n",
    "        df_S=pd.DataFrame()\n",
    "        \n",
    "    if row['zips_in_10']:\n",
    "        df_10=pd.DataFrame({\"Store ID\":[row['location_id']]*len(row['zips_in_10']),\"zip_cd\":row['zips_in_10']},\n",
    "                          index=[\"zip_10\"]*len(row['zips_in_10']))\n",
    "    else:\n",
    "        df_10=pd.DataFrame()\n",
    "        \n",
    "    df_store=pd.concat([df_P,df_S,df_10]).reset_index().rename(columns={\"index\":\"trans_label\"})\n",
    "    df_output_old_stores=df_output_old_stores.append(df_store)"
   ]
  },
  {
   "cell_type": "code",
   "execution_count": 8,
   "metadata": {},
   "outputs": [
    {
     "data": {
      "text/html": [
       "<div>\n",
       "<style>\n",
       "    .dataframe thead tr:only-child th {\n",
       "        text-align: right;\n",
       "    }\n",
       "\n",
       "    .dataframe thead th {\n",
       "        text-align: left;\n",
       "    }\n",
       "\n",
       "    .dataframe tbody tr th {\n",
       "        vertical-align: top;\n",
       "    }\n",
       "</style>\n",
       "<table border=\"1\" class=\"dataframe\">\n",
       "  <thead>\n",
       "    <tr style=\"text-align: right;\">\n",
       "      <th></th>\n",
       "      <th>Store ID</th>\n",
       "      <th>City</th>\n",
       "      <th>SOTF_year</th>\n",
       "      <th>latitude_meas</th>\n",
       "      <th>longitude_meas</th>\n",
       "      <th>store_zip</th>\n",
       "      <th>trans_label</th>\n",
       "      <th>zip_cd</th>\n",
       "    </tr>\n",
       "  </thead>\n",
       "  <tbody>\n",
       "    <tr>\n",
       "      <th>0</th>\n",
       "      <td>4687</td>\n",
       "      <td>BAY SHORE, NY</td>\n",
       "      <td>2019</td>\n",
       "      <td>40.739273</td>\n",
       "      <td>-73.236436</td>\n",
       "      <td>11706</td>\n",
       "      <td>P</td>\n",
       "      <td>11706</td>\n",
       "    </tr>\n",
       "    <tr>\n",
       "      <th>1</th>\n",
       "      <td>4687</td>\n",
       "      <td>BAY SHORE, NY</td>\n",
       "      <td>2019</td>\n",
       "      <td>40.739273</td>\n",
       "      <td>-73.236436</td>\n",
       "      <td>11706</td>\n",
       "      <td>P</td>\n",
       "      <td>11717</td>\n",
       "    </tr>\n",
       "  </tbody>\n",
       "</table>\n",
       "</div>"
      ],
      "text/plain": [
       "  Store ID           City  SOTF_year  latitude_meas  longitude_meas store_zip  \\\n",
       "0     4687  BAY SHORE, NY       2019      40.739273      -73.236436     11706   \n",
       "1     4687  BAY SHORE, NY       2019      40.739273      -73.236436     11706   \n",
       "\n",
       "  trans_label zip_cd  \n",
       "0           P  11706  \n",
       "1           P  11717  "
      ]
     },
     "execution_count": 8,
     "metadata": {},
     "output_type": "execute_result"
    }
   ],
   "source": [
    "df_output_old_stores=pd.merge(df_output,df_output_old_stores,on=\"Store ID\",how=\"left\")\n",
    "df_output_old_stores=df_output_old_stores[pd.notnull(df_output_old_stores['trans_label'])]\n",
    "df_output_old_stores.head(2)"
   ]
  },
  {
   "cell_type": "code",
   "execution_count": 9,
   "metadata": {},
   "outputs": [],
   "source": [
    "df_output_old_stores=df_output_old_stores.reset_index()\n",
    "del df_output_old_stores['index']\n",
    "df_output_old_stores['dist_miles']=np.nan\n",
    "for ind, row in df_output_old_stores.iterrows():\n",
    "    if row['zip_cd'] in zip_centers.keys():\n",
    "        dist=haversine((row['latitude_meas'],row['longitude_meas']),zip_centers[row['zip_cd']],miles=True)\n",
    "    else:\n",
    "        dist=np.nan\n",
    "    df_output_old_stores.loc[ind,\"dist_miles\"]=dist"
   ]
  },
  {
   "cell_type": "code",
   "execution_count": 10,
   "metadata": {},
   "outputs": [
    {
     "data": {
      "text/html": [
       "<div>\n",
       "<style>\n",
       "    .dataframe thead tr:only-child th {\n",
       "        text-align: right;\n",
       "    }\n",
       "\n",
       "    .dataframe thead th {\n",
       "        text-align: left;\n",
       "    }\n",
       "\n",
       "    .dataframe tbody tr th {\n",
       "        vertical-align: top;\n",
       "    }\n",
       "</style>\n",
       "<table border=\"1\" class=\"dataframe\">\n",
       "  <thead>\n",
       "    <tr style=\"text-align: right;\">\n",
       "      <th></th>\n",
       "      <th>Store ID</th>\n",
       "      <th>City</th>\n",
       "      <th>SOTF_year</th>\n",
       "      <th>latitude_meas</th>\n",
       "      <th>longitude_meas</th>\n",
       "      <th>store_zip</th>\n",
       "      <th>trans_label</th>\n",
       "      <th>zip_cd</th>\n",
       "      <th>dist_miles</th>\n",
       "    </tr>\n",
       "  </thead>\n",
       "  <tbody>\n",
       "    <tr>\n",
       "      <th>0</th>\n",
       "      <td>4687</td>\n",
       "      <td>BAY SHORE, NY</td>\n",
       "      <td>2019</td>\n",
       "      <td>40.739273</td>\n",
       "      <td>-73.236436</td>\n",
       "      <td>11706</td>\n",
       "      <td>P</td>\n",
       "      <td>11706</td>\n",
       "      <td>0.787626</td>\n",
       "    </tr>\n",
       "    <tr>\n",
       "      <th>1</th>\n",
       "      <td>4687</td>\n",
       "      <td>BAY SHORE, NY</td>\n",
       "      <td>2019</td>\n",
       "      <td>40.739273</td>\n",
       "      <td>-73.236436</td>\n",
       "      <td>11706</td>\n",
       "      <td>P</td>\n",
       "      <td>11717</td>\n",
       "      <td>3.156137</td>\n",
       "    </tr>\n",
       "  </tbody>\n",
       "</table>\n",
       "</div>"
      ],
      "text/plain": [
       "  Store ID           City  SOTF_year  latitude_meas  longitude_meas store_zip  \\\n",
       "0     4687  BAY SHORE, NY       2019      40.739273      -73.236436     11706   \n",
       "1     4687  BAY SHORE, NY       2019      40.739273      -73.236436     11706   \n",
       "\n",
       "  trans_label zip_cd  dist_miles  \n",
       "0           P  11706    0.787626  \n",
       "1           P  11717    3.156137  "
      ]
     },
     "execution_count": 10,
     "metadata": {},
     "output_type": "execute_result"
    }
   ],
   "source": [
    "df_output_old_stores.head(2)"
   ]
  },
  {
   "cell_type": "code",
   "execution_count": 11,
   "metadata": {},
   "outputs": [
    {
     "data": {
      "text/plain": [
       "array(['P', 'S', 'zip_10'], dtype=object)"
      ]
     },
     "execution_count": 11,
     "metadata": {},
     "output_type": "execute_result"
    }
   ],
   "source": [
    "df_output_old_stores['trans_label'].unique()"
   ]
  },
  {
   "cell_type": "code",
   "execution_count": null,
   "metadata": {
    "collapsed": true
   },
   "outputs": [],
   "source": []
  },
  {
   "cell_type": "code",
   "execution_count": 12,
   "metadata": {
    "collapsed": true
   },
   "outputs": [],
   "source": [
    "new_store_lat_lng_dict={}\n",
    "# 5406 \t2525 DAWSON ROAD\tKMART CENTER\tALBANY\tGA\t31707-2315\n",
    "new_store_lat_lng_dict.update({\"5406\":{\"Google_Address\":\"2525 Dawson Rd, Albany, GA 31707\",\"LatLng\":[31.612023,-84.2123335]}})\n",
    "\n",
    "# 5403 \t3550 NORTHWEST FEDERAL HIGHWAY\tMARKETPLACE SQUARE\tJENSEN BEACH\tFL\t34957-4406\n",
    "new_store_lat_lng_dict.update({\"5403\":{\"Google_Address\":\"3550 NW Federal Hwy Jensen Beach, FL 34957\",\"LatLng\":[27.2463725,-80.2738352]}})\n",
    "\n",
    "# 5407 \t14154 EAST WADE HAMPTON BLVD\tCOLLINS CENTER\tGREER\tSC\t29651-1554\n",
    "new_store_lat_lng_dict.update({\"5407\":{\"Google_Address\":\"14154 E Wade Hampton Blvd Greer, SC 29651\",\"LatLng\":[34.9489194,-82.2119013]}})\n",
    "\n",
    "# 4704 \t4815 EAST FREEWAY\t\tBAYTOWN\tTX\t77521-8369\n",
    "new_store_lat_lng_dict.update({\"4704\":{\"Google_Address\":\"4815 East Fwy Baytown, TX 77521\",\"LatLng\":[29.8051762,-94.9864945]}})\n",
    "\n",
    "# 5404 \t142 EXECUTIVE DRIVE\tTOYS R US CENTER\tDANVILLE\tVA\t24541-4100\n",
    "new_store_lat_lng_dict.update({\"5404\":{\"Google_Address\":\"142 Executive Dr, Danville, VA 24541\",\"LatLng\":[36.5932645,-79.4309145]}})\n",
    "\n",
    "# 5388 \t4610 FREDERICA STREET\tWESLEYAN PARK PLAZA\tOWENSBORO\tKY\t42301-7496\n",
    "new_store_lat_lng_dict.update({\"5388\":{\"Google_Address\":\"4610 Frederica St Owensboro, KY 42301\",\"LatLng\":[37.7255617,-87.1261072]}})\n",
    "\n",
    "# 4708 \t6727 EVERGREEN WAY\tALBERTSONS SC\tEVERETT\tWA\t98203\n",
    "new_store_lat_lng_dict.update({\"4708\":{\"Google_Address\":\"6727 Evergreen Way, Everett, WA 98203\",\"LatLng\":[47.937259,-122.2175977]}})\n"
   ]
  },
  {
   "cell_type": "code",
   "execution_count": 13,
   "metadata": {},
   "outputs": [
    {
     "data": {
      "text/html": [
       "<div>\n",
       "<style>\n",
       "    .dataframe thead tr:only-child th {\n",
       "        text-align: right;\n",
       "    }\n",
       "\n",
       "    .dataframe thead th {\n",
       "        text-align: left;\n",
       "    }\n",
       "\n",
       "    .dataframe tbody tr th {\n",
       "        vertical-align: top;\n",
       "    }\n",
       "</style>\n",
       "<table border=\"1\" class=\"dataframe\">\n",
       "  <thead>\n",
       "    <tr style=\"text-align: right;\">\n",
       "      <th></th>\n",
       "      <th>Store ID</th>\n",
       "      <th>City</th>\n",
       "      <th>SOTF_year</th>\n",
       "      <th>latitude_meas</th>\n",
       "      <th>longitude_meas</th>\n",
       "      <th>store_zip</th>\n",
       "    </tr>\n",
       "  </thead>\n",
       "  <tbody>\n",
       "    <tr>\n",
       "      <th>0</th>\n",
       "      <td>4679</td>\n",
       "      <td>OKEMOS, MI</td>\n",
       "      <td>2019</td>\n",
       "      <td>42.723314</td>\n",
       "      <td>-84.424187</td>\n",
       "      <td>48864</td>\n",
       "    </tr>\n",
       "    <tr>\n",
       "      <th>1</th>\n",
       "      <td>4698</td>\n",
       "      <td>VIENNA, WV</td>\n",
       "      <td>2019</td>\n",
       "      <td>39.300077</td>\n",
       "      <td>-81.548860</td>\n",
       "      <td>26105</td>\n",
       "    </tr>\n",
       "    <tr>\n",
       "      <th>2</th>\n",
       "      <td>5394</td>\n",
       "      <td>BOCA RATON, FL</td>\n",
       "      <td>2019</td>\n",
       "      <td>26.353521</td>\n",
       "      <td>-80.205267</td>\n",
       "      <td>33428</td>\n",
       "    </tr>\n",
       "    <tr>\n",
       "      <th>3</th>\n",
       "      <td>5406</td>\n",
       "      <td>ALBANY, GA</td>\n",
       "      <td>2019</td>\n",
       "      <td>31.612023</td>\n",
       "      <td>-84.212333</td>\n",
       "      <td>31707</td>\n",
       "    </tr>\n",
       "    <tr>\n",
       "      <th>4</th>\n",
       "      <td>4692</td>\n",
       "      <td>BELLINGHAM, WA</td>\n",
       "      <td>2019</td>\n",
       "      <td>48.775269</td>\n",
       "      <td>-122.495657</td>\n",
       "      <td>98225</td>\n",
       "    </tr>\n",
       "    <tr>\n",
       "      <th>5</th>\n",
       "      <td>5403</td>\n",
       "      <td>JENSEN BEACH, FL</td>\n",
       "      <td>2019</td>\n",
       "      <td>27.246372</td>\n",
       "      <td>-80.273835</td>\n",
       "      <td>34957</td>\n",
       "    </tr>\n",
       "    <tr>\n",
       "      <th>6</th>\n",
       "      <td>5407</td>\n",
       "      <td>GREER, SC</td>\n",
       "      <td>2019</td>\n",
       "      <td>34.948919</td>\n",
       "      <td>-82.211901</td>\n",
       "      <td>29651</td>\n",
       "    </tr>\n",
       "    <tr>\n",
       "      <th>7</th>\n",
       "      <td>4704</td>\n",
       "      <td>BAYTOWN, TX</td>\n",
       "      <td>2019</td>\n",
       "      <td>29.805176</td>\n",
       "      <td>-94.986495</td>\n",
       "      <td>77521</td>\n",
       "    </tr>\n",
       "    <tr>\n",
       "      <th>8</th>\n",
       "      <td>5404</td>\n",
       "      <td>DANVILLE, VA</td>\n",
       "      <td>2019</td>\n",
       "      <td>36.593264</td>\n",
       "      <td>-79.430915</td>\n",
       "      <td>24541</td>\n",
       "    </tr>\n",
       "    <tr>\n",
       "      <th>9</th>\n",
       "      <td>5388</td>\n",
       "      <td>OWENSBORO, KY</td>\n",
       "      <td>2019</td>\n",
       "      <td>37.725562</td>\n",
       "      <td>-87.126107</td>\n",
       "      <td>42301</td>\n",
       "    </tr>\n",
       "    <tr>\n",
       "      <th>10</th>\n",
       "      <td>4708</td>\n",
       "      <td>EVERETT, WA</td>\n",
       "      <td>2019</td>\n",
       "      <td>47.937259</td>\n",
       "      <td>-122.217598</td>\n",
       "      <td>98203</td>\n",
       "    </tr>\n",
       "  </tbody>\n",
       "</table>\n",
       "</div>"
      ],
      "text/plain": [
       "   Store ID              City  SOTF_year  latitude_meas  longitude_meas  \\\n",
       "0      4679        OKEMOS, MI       2019      42.723314      -84.424187   \n",
       "1      4698        VIENNA, WV       2019      39.300077      -81.548860   \n",
       "2      5394    BOCA RATON, FL       2019      26.353521      -80.205267   \n",
       "3      5406        ALBANY, GA       2019      31.612023      -84.212333   \n",
       "4      4692    BELLINGHAM, WA       2019      48.775269     -122.495657   \n",
       "5      5403  JENSEN BEACH, FL       2019      27.246372      -80.273835   \n",
       "6      5407         GREER, SC       2019      34.948919      -82.211901   \n",
       "7      4704       BAYTOWN, TX       2019      29.805176      -94.986495   \n",
       "8      5404      DANVILLE, VA       2019      36.593264      -79.430915   \n",
       "9      5388     OWENSBORO, KY       2019      37.725562      -87.126107   \n",
       "10     4708       EVERETT, WA       2019      47.937259     -122.217598   \n",
       "\n",
       "   store_zip  \n",
       "0      48864  \n",
       "1      26105  \n",
       "2      33428  \n",
       "3      31707  \n",
       "4      98225  \n",
       "5      34957  \n",
       "6      29651  \n",
       "7      77521  \n",
       "8      24541  \n",
       "9      42301  \n",
       "10     98203  "
      ]
     },
     "execution_count": 13,
     "metadata": {},
     "output_type": "execute_result"
    }
   ],
   "source": [
    "new_store=df_output[~df_output['Store ID'].isin(df_output_old_stores['Store ID'].tolist())]\n",
    "new_store=new_store.reset_index()\n",
    "del new_store['index']\n",
    "for ind, row in new_store.iterrows():\n",
    "    if row['Store ID'] in new_store_lat_lng_dict.keys():\n",
    "        new_store.loc[ind,\"latitude_meas\"]=new_store_lat_lng_dict[row['Store ID']]['LatLng'][0]\n",
    "        new_store.loc[ind,\"longitude_meas\"]=new_store_lat_lng_dict[row['Store ID']]['LatLng'][1]\n",
    "        new_store.loc[ind,\"store_zip\"]=new_store_lat_lng_dict[row['Store ID']]['Google_Address'][-5:]\n",
    "        \n",
    "new_store       "
   ]
  },
  {
   "cell_type": "code",
   "execution_count": 14,
   "metadata": {},
   "outputs": [],
   "source": [
    "df_zips_in_10_new_stores=pd.DataFrame()\n",
    "for ind, row in new_store.iterrows():\n",
    "    store_lat_long=(row['latitude_meas'],row['longitude_meas'])\n",
    "    store_id=row['Store ID']\n",
    "    for zip_cd in zip_centers.keys():\n",
    "        dist=haversine(store_lat_long,zip_centers[zip_cd],miles=True)\n",
    "        if dist<=10:\n",
    "            df_zips_in_10_new_stores=df_zips_in_10_new_stores.append(pd.DataFrame({\"zip_cd\":zip_cd,\n",
    "                                                                                   \"trans_label\":\"zip_10\",\n",
    "                                                                                   \"dist_miles\":dist},\n",
    "                                                                                  index=[store_id]))\n",
    "df_zips_in_10_new_stores=df_zips_in_10_new_stores.reset_index().rename(columns={\"index\":\"Store ID\"})\n",
    "df_output_new_stores=pd.merge(new_store,df_zips_in_10_new_stores,on=\"Store ID\",how=\"left\")\n",
    "df_output_new_stores=df_output_new_stores[df_output_old_stores.columns.tolist()]"
   ]
  },
  {
   "cell_type": "code",
   "execution_count": 15,
   "metadata": {},
   "outputs": [],
   "source": [
    "df_output=df_output_old_stores.append(df_output_new_stores)\n",
    "df_output=df_output[((df_output['dist_miles']<=20) | (df_output['trans_label']==\"P\"))]"
   ]
  },
  {
   "cell_type": "code",
   "execution_count": 16,
   "metadata": {},
   "outputs": [],
   "source": [
    "df_unique_zips=df_output[['zip_cd','trans_label']].sort_values([\"zip_cd\",'trans_label']).drop_duplicates(\"zip_cd\")"
   ]
  },
  {
   "cell_type": "code",
   "execution_count": 17,
   "metadata": {},
   "outputs": [],
   "source": [
    "writer=pd.ExcelWriter(\"./All SOTF Opens to Date_8.27_zips_JL_\"+str(datetime.datetime.now().date())+\".xlsx\",engine=\"xlsxwriter\")\n",
    "df_unique_zips.to_excel(writer,\"unique_zips\",index=False)  \n",
    "df_output.to_excel(writer,\"zip_by_store\",index=False)                  \n",
    "writer.save()"
   ]
  },
  {
   "cell_type": "code",
   "execution_count": null,
   "metadata": {
    "collapsed": true
   },
   "outputs": [],
   "source": []
  }
 ],
 "metadata": {
  "kernelspec": {
   "display_name": "Python 3",
   "language": "python",
   "name": "python3"
  },
  "language_info": {
   "codemirror_mode": {
    "name": "ipython",
    "version": 3
   },
   "file_extension": ".py",
   "mimetype": "text/x-python",
   "name": "python",
   "nbconvert_exporter": "python",
   "pygments_lexer": "ipython3",
   "version": "3.6.1"
  }
 },
 "nbformat": 4,
 "nbformat_minor": 2
}
