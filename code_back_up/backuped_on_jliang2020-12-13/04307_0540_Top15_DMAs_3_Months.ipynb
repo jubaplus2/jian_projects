{
 "cells": [
  {
   "cell_type": "code",
   "execution_count": 1,
   "metadata": {
    "collapsed": true
   },
   "outputs": [],
   "source": [
    "import pandas as pd\n",
    "import numpy as np\n",
    "import glob\n",
    "import os\n",
    "import datetime"
   ]
  },
  {
   "cell_type": "code",
   "execution_count": 2,
   "metadata": {
    "collapsed": true
   },
   "outputs": [],
   "source": [
    "sales_file_list=glob.glob(\"/home/jian/Projects/Saatva/Transaction_Data/New Klipfolio with phone num and rep name/\"+\"*.csv\")\n",
    "sales_file_list=sorted(sales_file_list)"
   ]
  },
  {
   "cell_type": "code",
   "execution_count": 3,
   "metadata": {
    "collapsed": true
   },
   "outputs": [],
   "source": [
    "sales_file_df=pd.DataFrame({\"file\":sales_file_list},index=[x for x in range(len(sales_file_list))])\n",
    "sales_file_df['Date']=sales_file_df['file'].apply(lambda x: datetime.datetime.strptime(x[len(x)-12:len(x)-4],\"%Y%m%d\"))\n",
    "sales_file_df=sales_file_df[sales_file_df['Date']>=datetime.date(2018,10,1)].reset_index()\n",
    "sales_file_df=sales_file_df.sort_values('Date',ascending=False)\n",
    "del sales_file_df['index']\n",
    "sales_file_df=sales_file_df.reset_index()\n",
    "del sales_file_df['index']\n",
    "sales_file_df.head(2)\n",
    "header=pd.read_csv(sales_file_df['file'][0],dtype=str).columns.tolist()"
   ]
  },
  {
   "cell_type": "code",
   "execution_count": 4,
   "metadata": {
    "collapsed": true
   },
   "outputs": [],
   "source": [
    "sales_combined=pd.DataFrame(dict(zip(header,[np.nan]*len(header))),index=[])\n",
    "\n",
    "for i in range(len(sales_file_df)):\n",
    "    file=sales_file_df['file'][i]\n",
    "    df=pd.read_csv(file,dtype=str)\n",
    "    df=df[df['Brand']==\"Saatva\"]\n",
    "    df['Date']=df['Date'].apply(lambda x: datetime.datetime.strptime(x,\"%d-%b-%Y\").date())\n",
    "    df_date_max=df['Date'].max()\n",
    "    df_date_min=df['Date'].min()\n",
    "    df=df[~df['Date'].isin(sales_combined['Date'].tolist())]\n",
    "    df=df[(df['Date']>df_date_min) & (df['Date']<df_date_max)]\n",
    "    sales_combined=sales_combined.append(df)\n",
    "\n",
    "sales_combined=sales_combined[(sales_combined['Date']>=datetime.date(2018,9,1)) & (sales_combined['Date']<=datetime.date(2018,11,30))]\n",
    "original_data=sales_combined.copy()"
   ]
  },
  {
   "cell_type": "code",
   "execution_count": 5,
   "metadata": {
    "collapsed": true
   },
   "outputs": [],
   "source": [
    "sales_combined['Shipping Zip']=sales_combined['Shipping Zip'].apply(lambda x: x.split(\"-\")[0].zfill(5))\n",
    "sales_combined=sales_combined.rename(columns={\"Shipping Zip\":\"zip_cd\"})"
   ]
  },
  {
   "cell_type": "code",
   "execution_count": 6,
   "metadata": {
    "collapsed": true
   },
   "outputs": [],
   "source": [
    "Zip_DMA=pd.read_excel(\"/home/jian/Docs/Geo_mapping/Zips by DMA by County16-17 nielsen.xlsx\",dtype=str,usecols=[0,2],skiprows=1)\n",
    "Zip_DMA=Zip_DMA.rename(columns={\"CODE\":\"zip_cd\",\"NAME\":\"DMA\"})\n",
    "Zip_DMA=Zip_DMA.drop_duplicates()"
   ]
  },
  {
   "cell_type": "code",
   "execution_count": 7,
   "metadata": {
    "collapsed": true
   },
   "outputs": [],
   "source": [
    "sales_combined=pd.merge(sales_combined,Zip_DMA,on=\"zip_cd\",how=\"left\")\n",
    "sales_combined['DMA']=sales_combined['DMA'].fillna(\"Not_In_DMA\")\n",
    "sales_combined['Product Revenue']=sales_combined['Product Revenue'].astype(float)\n",
    "sales_combined_by_DMA_sales=sales_combined.groupby(['DMA','Order Type'])['Product Revenue'].sum().to_frame().reset_index()\n",
    "sales_combined_by_DMA_sales=sales_combined_by_DMA_sales.rename(columns={\"Product Revenue\":\"sales\"})\n",
    "sales_combined_by_DMA_trans=sales_combined.groupby(['DMA','Order Type'])['Product Revenue'].count().to_frame().reset_index()\n",
    "sales_combined_by_DMA_trans=sales_combined_by_DMA_trans.rename(columns={\"Product Revenue\":\"trans\"})\n"
   ]
  },
  {
   "cell_type": "code",
   "execution_count": 8,
   "metadata": {
    "collapsed": true
   },
   "outputs": [],
   "source": [
    "sales_combined_by_DMA_sales_online=sales_combined_by_DMA_sales[sales_combined_by_DMA_sales['Order Type']==\"online\"]\n",
    "sales_combined_by_DMA_sales_online=sales_combined_by_DMA_sales_online[['DMA','sales']].rename(columns={\"sales\":\"online_sales\"})\n",
    "sales_combined_by_DMA_sales_phone=sales_combined_by_DMA_sales[sales_combined_by_DMA_sales['Order Type']==\"phone\"]\n",
    "sales_combined_by_DMA_sales_phone=sales_combined_by_DMA_sales_phone[['DMA','sales']].rename(columns={\"sales\":\"phone_sales\"})\n",
    "\n",
    "sales_combined_by_DMA_trans_online=sales_combined_by_DMA_trans[sales_combined_by_DMA_trans['Order Type']==\"online\"]\n",
    "sales_combined_by_DMA_trans_online=sales_combined_by_DMA_trans_online[['DMA','trans']].rename(columns={\"trans\":\"online_trans\"})\n",
    "sales_combined_by_DMA_trans_phone=sales_combined_by_DMA_trans[sales_combined_by_DMA_trans['Order Type']==\"phone\"]\n",
    "sales_combined_by_DMA_trans_phone=sales_combined_by_DMA_trans_phone[['DMA','trans']].rename(columns={\"trans\":\"phone_trans\"})\n",
    "\n"
   ]
  },
  {
   "cell_type": "code",
   "execution_count": 9,
   "metadata": {
    "collapsed": true
   },
   "outputs": [],
   "source": [
    "output=pd.merge(sales_combined_by_DMA_sales_online,sales_combined_by_DMA_sales_phone,on=\"DMA\",how=\"outer\")\n",
    "output=pd.merge(output,sales_combined_by_DMA_trans_online,on=\"DMA\",how=\"outer\")\n",
    "output=pd.merge(output,sales_combined_by_DMA_trans_phone,on=\"DMA\",how=\"outer\")\n",
    "output=output.fillna(0)\n",
    "output['total_sales']=output['online_sales']+output['phone_sales']\n",
    "output['total_trans']=output['online_trans']+output['phone_trans']\n",
    "output=output.sort_values(['total_sales','total_trans'],ascending=[False,False])"
   ]
  },
  {
   "cell_type": "code",
   "execution_count": 10,
   "metadata": {
    "collapsed": true
   },
   "outputs": [],
   "source": [
    "writer=pd.ExcelWriter(\"/home/jian/Projects/Saatva/Analysis/Sep_to_Nov_Top_15_DMAs/Saatva_Top_15_DMAs_Sep_to_Nov_2018_JL_\"+str(datetime.datetime.now().date())+\".xlsx\",engine=\"xlsxwriter\")\n",
    "output.to_excel(writer,\"Sales_by_DMA\",index=False)\n",
    "original_data.to_excel(writer,\"Sales_Data\",index=False)\n",
    "Zip_DMA.to_excel(writer,\"Zip_DMA_Mapping\",index=False)\n",
    "writer.save()"
   ]
  },
  {
   "cell_type": "code",
   "execution_count": null,
   "metadata": {
    "collapsed": true
   },
   "outputs": [],
   "source": []
  }
 ],
 "metadata": {
  "kernelspec": {
   "display_name": "Python 3",
   "language": "python",
   "name": "python3"
  },
  "language_info": {
   "codemirror_mode": {
    "name": "ipython",
    "version": 3
   },
   "file_extension": ".py",
   "mimetype": "text/x-python",
   "name": "python",
   "nbconvert_exporter": "python",
   "pygments_lexer": "ipython3",
   "version": "3.6.1"
  }
 },
 "nbformat": 4,
 "nbformat_minor": 2
}
