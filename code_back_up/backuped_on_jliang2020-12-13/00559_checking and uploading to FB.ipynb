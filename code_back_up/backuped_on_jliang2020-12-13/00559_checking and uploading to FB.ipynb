{
 "cells": [
  {
   "cell_type": "code",
   "execution_count": 3,
   "metadata": {},
   "outputs": [],
   "source": [
    "import pandas as pd\n",
    "import numpy as np\n",
    "import datetime\n",
    "import os\n",
    "import paramiko"
   ]
  },
  {
   "cell_type": "code",
   "execution_count": 4,
   "metadata": {},
   "outputs": [],
   "source": [
    "host = \"107.191.32.220\" #hard-coded\n",
    "port = 22\n",
    "transport = paramiko.Transport((host, port))\n",
    "\n",
    "password = \"juba-jl1\" #hard-coded\n",
    "username = \"jian\" #hard-coded\n",
    "\n",
    "transport.connect(username = username, password = password)\n",
    "sftp = paramiko.SFTPClient.from_transport(transport)"
   ]
  },
  {
   "cell_type": "code",
   "execution_count": 5,
   "metadata": {},
   "outputs": [],
   "source": [
    "remote_path=\"/mnt/drv5/biglots_data/PYD_Segments.zip\"\n",
    "local_path=\"./\"+os.path.basename(remote_path)\n",
    "sftp.get(remote_path,local_path)\n",
    "sftp.close()\n",
    "transport.close()"
   ]
  },
  {
   "cell_type": "code",
   "execution_count": 7,
   "metadata": {},
   "outputs": [],
   "source": [
    "import zipfile\n",
    "with zipfile.ZipFile(local_path, 'r') as zip_ref:\n",
    "    zip_ref.extractall(\"./\")"
   ]
  },
  {
   "cell_type": "code",
   "execution_count": 12,
   "metadata": {},
   "outputs": [],
   "source": [
    "list_files=os.listdir(\"./PYD_Segments/\")"
   ]
  },
  {
   "cell_type": "code",
   "execution_count": 18,
   "metadata": {},
   "outputs": [
    {
     "data": {
      "text/plain": [
       "['PYD_Active.txt',\n",
       " 'PYD_Active_Control.txt',\n",
       " 'PYD_Lapsed.txt',\n",
       " 'PYD_Lapsed_Control.txt',\n",
       " 'PYD_Web_Not_Active.txt',\n",
       " 'PYD_Web_Not_Active_Control.txt']"
      ]
     },
     "execution_count": 18,
     "metadata": {},
     "output_type": "execute_result"
    }
   ],
   "source": [
    "list_files"
   ]
  },
  {
   "cell_type": "code",
   "execution_count": 19,
   "metadata": {},
   "outputs": [
    {
     "name": "stdout",
     "output_type": "stream",
     "text": [
      "PYD_Active.txt (19507524, 2) 19507328 19507265\n",
      "PYD_Active_Control.txt (199909, 2) 199908 199908\n",
      "PYD_Lapsed.txt (3282912, 2) 3282901 3282895\n",
      "PYD_Lapsed_Control.txt (89845, 2) 89844 89844\n",
      "PYD_Web_Not_Active.txt (1776220, 2) 1776216 1776216\n",
      "PYD_Web_Not_Active_Control.txt (150000, 2) 150000 150000\n"
     ]
    }
   ],
   "source": [
    "dict_dfs={}\n",
    "for file in list_files:\n",
    "    seg=file.split(\".\")[0]\n",
    "    df=pd.read_csv(\"./PYD_Segments/\"+file,dtype=str,sep=\"\\t\")\n",
    "    dict_dfs.update({seg:df})\n",
    "    print(file,df.shape,df['hashed_customer_num'].nunique(),df['hashed_email_address'].nunique())"
   ]
  },
  {
   "cell_type": "code",
   "execution_count": 23,
   "metadata": {},
   "outputs": [
    {
     "name": "stdout",
     "output_type": "stream",
     "text": [
      "PYD_Active PYD_Active_Control 0\n",
      "PYD_Active PYD_Lapsed 0\n",
      "PYD_Active PYD_Lapsed_Control 0\n",
      "PYD_Active PYD_Web_Not_Active 59327\n",
      "PYD_Active PYD_Web_Not_Active_Control 5029\n",
      "PYD_Active_Control PYD_Lapsed 0\n",
      "PYD_Active_Control PYD_Lapsed_Control 0\n",
      "PYD_Active_Control PYD_Web_Not_Active 654\n",
      "PYD_Active_Control PYD_Web_Not_Active_Control 51\n",
      "PYD_Lapsed PYD_Lapsed_Control 0\n",
      "PYD_Lapsed PYD_Web_Not_Active 6\n",
      "PYD_Lapsed PYD_Web_Not_Active_Control 1\n",
      "PYD_Lapsed_Control PYD_Web_Not_Active 1\n",
      "PYD_Lapsed_Control PYD_Web_Not_Active_Control 0\n",
      "PYD_Web_Not_Active PYD_Web_Not_Active_Control 0\n"
     ]
    }
   ],
   "source": [
    "list_keys=list(dict_dfs.keys())\n",
    "\n",
    "for i in range(len(list_keys)):\n",
    "    k_i=list_keys[i]\n",
    "    set_id_i=set(dict_dfs[k_i]['hashed_customer_num'].unique().tolist())\n",
    "    for j in range(i+1,len(list_keys)):\n",
    "        k_j=list_keys[j]\n",
    "        set_id_j=set(dict_dfs[k_j]['hashed_customer_num'].unique().tolist())\n",
    "        print(k_i,k_j,len(set_id_i.intersection(set_id_j)))\n",
    "        "
   ]
  },
  {
   "cell_type": "markdown",
   "metadata": {},
   "source": [
    "# Uploading"
   ]
  },
  {
   "cell_type": "code",
   "execution_count": 24,
   "metadata": {},
   "outputs": [],
   "source": [
    "from facebookads.adobjects.customaudience import CustomAudience\n",
    "from facebookads.adobjects.adaccount import AdAccount\n",
    "from facebookads.api import FacebookAdsApi\n",
    "import json\n",
    "BigLotsAccount_id=\"act_271491453638620\"\n",
    "\n",
    "jian_APP_ID=\"2537704939796694\"# jian's fb marketing app id\n",
    "jian_token=json.load(open(\"/home/jian/Docs/FB_token/lasest_FB_token_jian.json\",\"r\"))['latest_FB_token']"
   ]
  },
  {
   "cell_type": "code",
   "execution_count": 27,
   "metadata": {},
   "outputs": [],
   "source": [
    "def creatfbaudience(AudienceName,AudienceDescription,df,ACCESS_TOKEN,accountid,):\n",
    "    FacebookAdsApi.init(access_token=ACCESS_TOKEN, api_version='v6.0')\n",
    "    myAccount = AdAccount(accountid)\n",
    "    fields = [\n",
    "    ]\n",
    "    params = {\n",
    "      'name': AudienceName,\n",
    "      'subtype': 'CUSTOM',\n",
    "      'description': AudienceDescription,\n",
    "      'customer_file_source': 'PARTNER_PROVIDED_ONLY',\n",
    "    }\n",
    "    fbname = myAccount.create_custom_audience(\n",
    "      fields=fields,\n",
    "      params=params,\n",
    "    )['id']\n",
    "    audience = CustomAudience(fbname)\n",
    "    users = list(df['hashed_email_address'])\n",
    "    listlen = len(users)\n",
    "    chunck_size=50000\n",
    "    count_uploaded=0\n",
    "    for i in range(int(np.ceil(listlen/chunck_size))):\n",
    "        starti = i*50000\n",
    "        if (i+1)*50000<listlen:\n",
    "            endi = (i+1)*50000\n",
    "        else:\n",
    "            endi = listlen\n",
    "        list0 = users[starti:endi]\n",
    "        \n",
    "        count_uploaded+=len(list0)\n",
    "        audience.add_users(CustomAudience.Schema.email_hash, list0)\n",
    "        #print len(list0)   \n",
    "    print(datetime.datetime.now(),AudienceName,\"uploaded\",count_uploaded)"
   ]
  },
  {
   "cell_type": "code",
   "execution_count": 31,
   "metadata": {},
   "outputs": [
    {
     "name": "stdout",
     "output_type": "stream",
     "text": [
      "2020-06-26 12:12:43.930071 PYD_Active uploaded 19507524\n",
      "2020-06-26 12:13:01.983596 PYD_Active_Control uploaded 199909\n",
      "2020-06-26 12:17:11.905290 PYD_Lapsed uploaded 3282912\n",
      "2020-06-26 12:17:15.948282 PYD_Lapsed_Control uploaded 89845\n",
      "2020-06-26 12:20:06.739579 PYD_Web_Not_Active uploaded 1776220\n",
      "2020-06-26 12:20:17.310303 PYD_Web_Not_Active_Control uploaded 150000\n"
     ]
    }
   ],
   "source": [
    "for seg,df in dict_dfs.items():\n",
    "    audience_name = seg\n",
    "    description=\"%s_%s_uploaded_on_%s\"%(audience_name,df.shape[0],str(datetime.datetime.now().date()))\n",
    "    # df = pd.read_csv(file,dtype=str)\n",
    "    creatfbaudience(AudienceName=audience_name,\n",
    "                    AudienceDescription=description,\n",
    "                    df=df,\n",
    "                    ACCESS_TOKEN=jian_token,\n",
    "                    accountid=BigLotsAccount_id)"
   ]
  }
 ],
 "metadata": {
  "kernelspec": {
   "display_name": "Python 3",
   "language": "python",
   "name": "python3"
  },
  "language_info": {
   "codemirror_mode": {
    "name": "ipython",
    "version": 3
   },
   "file_extension": ".py",
   "mimetype": "text/x-python",
   "name": "python",
   "nbconvert_exporter": "python",
   "pygments_lexer": "ipython3",
   "version": "3.6.1"
  }
 },
 "nbformat": 4,
 "nbformat_minor": 2
}
