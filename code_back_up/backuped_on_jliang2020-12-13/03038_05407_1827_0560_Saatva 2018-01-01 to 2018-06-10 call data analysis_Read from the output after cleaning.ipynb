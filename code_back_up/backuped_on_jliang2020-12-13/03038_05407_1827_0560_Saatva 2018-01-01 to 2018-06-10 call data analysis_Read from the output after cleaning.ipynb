{
 "cells": [
  {
   "cell_type": "code",
   "execution_count": 1,
   "metadata": {},
   "outputs": [
    {
     "data": {
      "text/plain": [
       "0"
      ]
     },
     "execution_count": 1,
     "metadata": {},
     "output_type": "execute_result"
    }
   ],
   "source": [
    "import pandas as pd\n",
    "import datetime\n",
    "import numpy as np\n",
    "import glob\n",
    "import string\n",
    "import re\n",
    "import gc\n",
    "import os\n",
    "gc.collect()"
   ]
  },
  {
   "cell_type": "code",
   "execution_count": 2,
   "metadata": {
    "collapsed": true
   },
   "outputs": [],
   "source": [
    "# Before\n",
    "# 2018-01-15 (2nd week) to 2018-05-15 (both dates included)\n",
    "# 85.7% phone orders found in the PressOne inbound calls\n",
    "# Use phoen call start time to determin because it can be happened during a call (before the end of the call)\n",
    "\n",
    "\n",
    "# 15273/32591 46.86% of the total buyer are found with a call in the PressOne dataset\n",
    "# Jan 15 to Jun 24"
   ]
  },
  {
   "cell_type": "code",
   "execution_count": 3,
   "metadata": {
    "collapsed": true
   },
   "outputs": [],
   "source": [
    "today_str=str(datetime.datetime.now().date())\n",
    "writer_folder=\"/home/jian/Projects/Saatva/Call_Analysis/output/\"+today_str+\"/\"\n",
    "try:\n",
    "    os.stat(writer_folder)\n",
    "except:\n",
    "    os.mkdir(writer_folder)"
   ]
  },
  {
   "cell_type": "markdown",
   "metadata": {},
   "source": [
    "# Transaction Data"
   ]
  },
  {
   "cell_type": "code",
   "execution_count": 4,
   "metadata": {
    "collapsed": true
   },
   "outputs": [],
   "source": [
    "klipfolio_data=pd.read_excel(\"/home/jian/Projects/Saatva/Call_Analysis/data/Transaction_with_phone_2018_to_May.xlsx\",sheetname=\"Sales_By_Brand\",dtype=str)\n",
    "klipfolio_data=klipfolio_data.rename(columns={\"Zip_Code\":\"zip_cd\"})\n",
    "klipfolio_data['Date']=klipfolio_data['Date'].apply(lambda x: datetime.datetime.strptime(x.split(\" \")[0],\"%Y-%m-%d\").date())\n",
    "klipfolio_data['Sales']=klipfolio_data['Sales'].astype(float)\n",
    "klipfolio_data['Phone_1']=klipfolio_data['Phone_1'].apply(lambda x: x.replace(\"-\",\"\"))\n",
    "klipfolio_data['Phone_2']=klipfolio_data['Phone_2'].apply(lambda x: x.replace(\"-\",\"\"))\n",
    "klipfolio_data['Phone_1']=klipfolio_data['Phone_1'].apply(lambda x: re.sub('['+string.punctuation+']', '', x))\n",
    "klipfolio_data['Phone_2']=klipfolio_data['Phone_2'].apply(lambda x: re.sub('['+string.punctuation+']', '', x))\n",
    "klipfolio_data['Phone_1']=klipfolio_data['Phone_1'].apply(lambda x: x.replace(\" \",\"\"))\n",
    "klipfolio_data['Phone_2']=klipfolio_data['Phone_2'].apply(lambda x: x.replace(\" \",\"\"))\n",
    "\n",
    "del klipfolio_data['CSR']\n",
    "del klipfolio_data['PressOne_Rep_Name']"
   ]
  },
  {
   "cell_type": "code",
   "execution_count": 5,
   "metadata": {
    "collapsed": true
   },
   "outputs": [],
   "source": [
    "klipfolio_data_2_folder=\"/home/jian/Projects/Saatva/Transaction_Data/2018_weekly_klipfolio_with_Phone/\"\n",
    "klipfolio_data_2_file_list=glob.glob(klipfolio_data_2_folder+\"*.csv\")\n",
    "for file in klipfolio_data_2_file_list:\n",
    "\n",
    "    df=pd.read_csv(file,dtype=str)\n",
    "    df=df[['Order ID','Date','Time','Shipping Zip','Product Revenue','Order Type',\n",
    "                                   'Phone 1','Phone 2','PressOne Rep Name','Brand']]\n",
    "\n",
    "    df=df.rename(columns={\"Order ID\":\"Order_id\",\"Shipping Zip\":\"zip_cd\",\"Product Revenue\":\"Sales\",\n",
    "                                                     \"Order Type\":\"Source\",\"Phone 1\":\"Phone_1\",\"Phone 2\":\"Phone_2\",\n",
    "                                                     \"PressOne Rep Name\":\"PressOne_Rep_Name\"})\n",
    "    \n",
    "    df=df.fillna(\"nan\")\n",
    "    df=df[df['Order_id']!=\"nan\"]\n",
    "    df['Date']=df['Date'].apply(lambda x: x.replace(\"-April-\",\"-Apr-\").replace(\"-March-\",\"-Mar-\").replace(\"-June-\",\"Jun\"))\n",
    "    df['Date']=np.where(len(df['Date'])<df['Date'].apply(lambda x: len(x)).max(),\"0\"+df['Date'],df['Date'])\n",
    "    df['Date']=df['Date'].apply(lambda x: datetime.datetime.strptime(x,\"%d-%b-%Y\").date())\n",
    "    df['Sales']=df['Sales'].astype(float)\n",
    "    df['Phone_1']=df['Phone_1'].apply(lambda x: x.replace(\"-\",\"\"))\n",
    "    df['Phone_2']=df['Phone_2'].apply(lambda x: x.replace(\"-\",\"\"))\n",
    "    df['Phone_1']=df['Phone_1'].apply(lambda x: re.sub('['+string.punctuation+']', '', x))\n",
    "    df['Phone_2']=df['Phone_2'].apply(lambda x: re.sub('['+string.punctuation+']', '', x))\n",
    "    df['Phone_1']=df['Phone_1'].apply(lambda x: x.replace(\" \",\"\"))\n",
    "    df['Phone_2']=df['Phone_2'].apply(lambda x: x.replace(\" \",\"\"))\n",
    "    \n",
    "\n",
    "    klipfolio_data=klipfolio_data[klipfolio_data['Date']<=(df['Date'].min()+datetime.timedelta(days=1))]\n",
    "    klipfolio_data=klipfolio_data.append(df)\n",
    "    klipfolio_data=klipfolio_data.drop_duplicates()\n",
    "    \n",
    "transaction_data=klipfolio_data[klipfolio_data['Brand']==\"Saatva\"].reset_index()\n",
    "del transaction_data['index']\n",
    "del transaction_data['PressOne_Rep_Name']\n",
    "transaction_data['Time']=transaction_data['Time'].apply(lambda x: x.zfill(8))\n",
    "transaction_data=transaction_data.drop_duplicates()\n",
    "transaction_data=transaction_data.reset_index()\n",
    "del transaction_data['index']"
   ]
  },
  {
   "cell_type": "code",
   "execution_count": 6,
   "metadata": {
    "collapsed": true
   },
   "outputs": [],
   "source": [
    "transaction_data_both=transaction_data.copy()\n",
    "transaction_data_both['Date_Str']=transaction_data_both['Date'].astype(str)\n",
    "transaction_data_both=transaction_data_both.drop_duplicates()\n",
    "transaction_data_both['Date_Time_Str']=transaction_data_both['Date_Str']+\" \"+transaction_data_both['Time']\n",
    "transaction_data_both['Date_Time']=transaction_data_both['Date_Time_Str'].apply(lambda x: datetime.datetime.strptime(x,\"%Y-%m-%d %H:%M:%S\"))\n",
    "del transaction_data_both['Date_Str']\n",
    "transaction_data_both=transaction_data_both[(transaction_data_both['Date_Time']<datetime.datetime(2018,6,25)) & (transaction_data_both['Date_Time']>=datetime.datetime(2018,1,1))]\n",
    "data_both_1=transaction_data_both[['Order_id','Date_Time','Phone_1']]\n",
    "data_both_1=data_both_1.rename(columns={\"Phone_1\":\"Phone\"})\n",
    "\n",
    "data_both_2=transaction_data_both[['Order_id','Date_Time','Phone_2']]\n",
    "data_both_2=data_both_2.rename(columns={\"Phone_2\":\"Phone\"})\n",
    "\n",
    "transaction_both_data=data_both_1.append(data_both_2)\n",
    "transaction_both_data=transaction_both_data.sort_values('Date_Time')"
   ]
  },
  {
   "cell_type": "code",
   "execution_count": 7,
   "metadata": {},
   "outputs": [
    {
     "data": {
      "text/html": [
       "<div>\n",
       "<style>\n",
       "    .dataframe thead tr:only-child th {\n",
       "        text-align: right;\n",
       "    }\n",
       "\n",
       "    .dataframe thead th {\n",
       "        text-align: left;\n",
       "    }\n",
       "\n",
       "    .dataframe tbody tr th {\n",
       "        vertical-align: top;\n",
       "    }\n",
       "</style>\n",
       "<table border=\"1\" class=\"dataframe\">\n",
       "  <thead>\n",
       "    <tr style=\"text-align: right;\">\n",
       "      <th></th>\n",
       "      <th>Order_id</th>\n",
       "      <th>Date_Time</th>\n",
       "      <th>Phone</th>\n",
       "    </tr>\n",
       "  </thead>\n",
       "  <tbody>\n",
       "    <tr>\n",
       "      <th>33952</th>\n",
       "      <td>613826</td>\n",
       "      <td>2018-06-20 12:08:45</td>\n",
       "      <td>2109122041</td>\n",
       "    </tr>\n",
       "    <tr>\n",
       "      <th>33952</th>\n",
       "      <td>613826</td>\n",
       "      <td>2018-06-20 12:08:45</td>\n",
       "      <td>2103945454</td>\n",
       "    </tr>\n",
       "  </tbody>\n",
       "</table>\n",
       "</div>"
      ],
      "text/plain": [
       "      Order_id           Date_Time       Phone\n",
       "33952   613826 2018-06-20 12:08:45  2109122041\n",
       "33952   613826 2018-06-20 12:08:45  2103945454"
      ]
     },
     "execution_count": 7,
     "metadata": {},
     "output_type": "execute_result"
    }
   ],
   "source": [
    "x=transaction_both_data[transaction_both_data['Order_id']==\"613826\"]\n",
    "x"
   ]
  },
  {
   "cell_type": "code",
   "execution_count": 8,
   "metadata": {},
   "outputs": [
    {
     "data": {
      "text/html": [
       "<div>\n",
       "<style>\n",
       "    .dataframe thead tr:only-child th {\n",
       "        text-align: right;\n",
       "    }\n",
       "\n",
       "    .dataframe thead th {\n",
       "        text-align: left;\n",
       "    }\n",
       "\n",
       "    .dataframe tbody tr th {\n",
       "        vertical-align: top;\n",
       "    }\n",
       "</style>\n",
       "<table border=\"1\" class=\"dataframe\">\n",
       "  <thead>\n",
       "    <tr style=\"text-align: right;\">\n",
       "      <th></th>\n",
       "      <th>Order_id</th>\n",
       "      <th>Date_Time</th>\n",
       "      <th>Phone</th>\n",
       "    </tr>\n",
       "  </thead>\n",
       "  <tbody>\n",
       "    <tr>\n",
       "      <th>28207</th>\n",
       "      <td>600883</td>\n",
       "      <td>2018-04-27 16:18:58</td>\n",
       "      <td>2109122041</td>\n",
       "    </tr>\n",
       "    <tr>\n",
       "      <th>35644</th>\n",
       "      <td>612025</td>\n",
       "      <td>2018-06-12 10:49:26</td>\n",
       "      <td>2103945454</td>\n",
       "    </tr>\n",
       "    <tr>\n",
       "      <th>33952</th>\n",
       "      <td>613826</td>\n",
       "      <td>2018-06-20 12:08:45</td>\n",
       "      <td>2109122041</td>\n",
       "    </tr>\n",
       "    <tr>\n",
       "      <th>33952</th>\n",
       "      <td>613826</td>\n",
       "      <td>2018-06-20 12:08:45</td>\n",
       "      <td>2103945454</td>\n",
       "    </tr>\n",
       "  </tbody>\n",
       "</table>\n",
       "</div>"
      ],
      "text/plain": [
       "      Order_id           Date_Time       Phone\n",
       "28207   600883 2018-04-27 16:18:58  2109122041\n",
       "35644   612025 2018-06-12 10:49:26  2103945454\n",
       "33952   613826 2018-06-20 12:08:45  2109122041\n",
       "33952   613826 2018-06-20 12:08:45  2103945454"
      ]
     },
     "execution_count": 8,
     "metadata": {},
     "output_type": "execute_result"
    }
   ],
   "source": [
    "y=transaction_both_data[(transaction_both_data['Phone']==\"2109122041\")| (transaction_both_data['Phone']==\"2103945454\")]\n",
    "y"
   ]
  },
  {
   "cell_type": "code",
   "execution_count": 9,
   "metadata": {},
   "outputs": [
    {
     "data": {
      "text/html": [
       "<div>\n",
       "<style>\n",
       "    .dataframe thead tr:only-child th {\n",
       "        text-align: right;\n",
       "    }\n",
       "\n",
       "    .dataframe thead th {\n",
       "        text-align: left;\n",
       "    }\n",
       "\n",
       "    .dataframe tbody tr th {\n",
       "        vertical-align: top;\n",
       "    }\n",
       "</style>\n",
       "<table border=\"1\" class=\"dataframe\">\n",
       "  <thead>\n",
       "    <tr style=\"text-align: right;\">\n",
       "      <th></th>\n",
       "      <th>Brand</th>\n",
       "      <th>Date</th>\n",
       "      <th>Order_id</th>\n",
       "      <th>Phone_1</th>\n",
       "      <th>Phone_2</th>\n",
       "      <th>Sales</th>\n",
       "      <th>Source</th>\n",
       "      <th>Time</th>\n",
       "      <th>zip_cd</th>\n",
       "      <th>Date_Time_Str</th>\n",
       "      <th>Date_Time</th>\n",
       "    </tr>\n",
       "  </thead>\n",
       "  <tbody>\n",
       "    <tr>\n",
       "      <th>0</th>\n",
       "      <td>Saatva</td>\n",
       "      <td>2018-04-19</td>\n",
       "      <td>599158</td>\n",
       "      <td>2066617115</td>\n",
       "      <td>nan</td>\n",
       "      <td>999.0</td>\n",
       "      <td>online</td>\n",
       "      <td>23:59:49</td>\n",
       "      <td>98026</td>\n",
       "      <td>2018-04-19 23:59:49</td>\n",
       "      <td>2018-04-19 23:59:49</td>\n",
       "    </tr>\n",
       "    <tr>\n",
       "      <th>1</th>\n",
       "      <td>Saatva</td>\n",
       "      <td>2018-04-19</td>\n",
       "      <td>599157</td>\n",
       "      <td>9738381496</td>\n",
       "      <td>9736344041</td>\n",
       "      <td>1227.0</td>\n",
       "      <td>phone</td>\n",
       "      <td>23:54:54</td>\n",
       "      <td>07457</td>\n",
       "      <td>2018-04-19 23:54:54</td>\n",
       "      <td>2018-04-19 23:54:54</td>\n",
       "    </tr>\n",
       "  </tbody>\n",
       "</table>\n",
       "</div>"
      ],
      "text/plain": [
       "    Brand        Date Order_id     Phone_1     Phone_2   Sales  Source  \\\n",
       "0  Saatva  2018-04-19   599158  2066617115         nan   999.0  online   \n",
       "1  Saatva  2018-04-19   599157  9738381496  9736344041  1227.0   phone   \n",
       "\n",
       "       Time zip_cd        Date_Time_Str           Date_Time  \n",
       "0  23:59:49  98026  2018-04-19 23:59:49 2018-04-19 23:59:49  \n",
       "1  23:54:54  07457  2018-04-19 23:54:54 2018-04-19 23:54:54  "
      ]
     },
     "execution_count": 9,
     "metadata": {},
     "output_type": "execute_result"
    }
   ],
   "source": [
    "transaction_data_both.head(2)"
   ]
  },
  {
   "cell_type": "code",
   "execution_count": 10,
   "metadata": {},
   "outputs": [
    {
     "name": "stderr",
     "output_type": "stream",
     "text": [
      "/usr/local/lib/python3.6/site-packages/ipykernel_launcher.py:21: SettingWithCopyWarning: \n",
      "A value is trying to be set on a copy of a slice from a DataFrame.\n",
      "Try using .loc[row_indexer,col_indexer] = value instead\n",
      "\n",
      "See the caveats in the documentation: http://pandas.pydata.org/pandas-docs/stable/indexing.html#indexing-view-versus-copy\n"
     ]
    },
    {
     "name": "stdout",
     "output_type": "stream",
     "text": [
      "30 2018-07-05 12:24:15.382507\n"
     ]
    },
    {
     "name": "stderr",
     "output_type": "stream",
     "text": [
      "/usr/local/lib/python3.6/site-packages/ipykernel_launcher.py:18: SettingWithCopyWarning: \n",
      "A value is trying to be set on a copy of a slice from a DataFrame.\n",
      "Try using .loc[row_indexer,col_indexer] = value instead\n",
      "\n",
      "See the caveats in the documentation: http://pandas.pydata.org/pandas-docs/stable/indexing.html#indexing-view-versus-copy\n"
     ]
    },
    {
     "name": "stdout",
     "output_type": "stream",
     "text": [
      "3030 2018-07-05 12:25:07.095705\n",
      "6030 2018-07-05 12:25:59.365007\n",
      "9030 2018-07-05 12:26:52.401744\n",
      "12030 2018-07-05 12:27:46.488773\n",
      "15030 2018-07-05 12:28:44.937416\n",
      "18030 2018-07-05 12:29:44.533262\n",
      "21030 2018-07-05 12:30:45.105256\n",
      "24030 2018-07-05 12:31:46.873015\n",
      "27030 2018-07-05 12:32:51.431435\n",
      "30030 2018-07-05 12:33:59.320311\n",
      "33030 2018-07-05 12:35:09.909501\n",
      "36030 2018-07-05 12:36:23.543231\n",
      "Multi_Buyer_id_Error: 613826\n"
     ]
    }
   ],
   "source": [
    "transaction_both_data['defined_buyer_id']=np.nan\n",
    "id_number=1\n",
    "df_buyer=pd.DataFrame(columns={'Order_id','Date_Time','Phone'})\n",
    "for order_id,group in transaction_both_data.groupby(['Order_id']):\n",
    "    df=group[group['Phone']!='nan']\n",
    "    common_list=list(set(df['Phone'].tolist()).intersection(df_buyer['Phone'].tolist()))\n",
    "    if len(common_list)>0:\n",
    "        buyer_id=df_buyer[df_buyer['Phone'].isin(df['Phone'])]['defined_buyer_id'].unique().tolist()\n",
    "        if len(buyer_id)>1:\n",
    "            print(\"Multi_Buyer_id_Error:\",order_id)\n",
    "            df_buyer_re_allocate=df_buyer[df_buyer['defined_buyer_id'].isin(buyer_id)]\n",
    "            df_buyer=df_buyer[~df_buyer['defined_buyer_id'].isin(buyer_id)]\n",
    "            df=df_buyer_re_allocate.append(group)\n",
    "            df=df[df['Phone']!='nan']\n",
    "            df['defined_buyer_id']=buyer_id[0]\n",
    "            \n",
    "        else:    \n",
    "            df['defined_buyer_id']=buyer_id[0]\n",
    "    \n",
    "    else:\n",
    "        df['defined_buyer_id']=\"buyer_\"+str(id_number)\n",
    "        id_number=id_number+1\n",
    "        \n",
    "    \n",
    "    df_buyer=df_buyer.append(df)\n",
    "    \n",
    "    if id_number% 3000==30:\n",
    "        print(id_number,datetime.datetime.now())\n"
   ]
  },
  {
   "cell_type": "code",
   "execution_count": 11,
   "metadata": {},
   "outputs": [
    {
     "data": {
      "text/html": [
       "<div>\n",
       "<style>\n",
       "    .dataframe thead tr:only-child th {\n",
       "        text-align: right;\n",
       "    }\n",
       "\n",
       "    .dataframe thead th {\n",
       "        text-align: left;\n",
       "    }\n",
       "\n",
       "    .dataframe tbody tr th {\n",
       "        vertical-align: top;\n",
       "    }\n",
       "</style>\n",
       "<table border=\"1\" class=\"dataframe\">\n",
       "  <thead>\n",
       "    <tr style=\"text-align: right;\">\n",
       "      <th></th>\n",
       "      <th>Date_Time</th>\n",
       "      <th>Order_id</th>\n",
       "      <th>Phone</th>\n",
       "      <th>defined_buyer_id</th>\n",
       "    </tr>\n",
       "  </thead>\n",
       "  <tbody>\n",
       "    <tr>\n",
       "      <th>28207</th>\n",
       "      <td>2018-04-27 16:18:58</td>\n",
       "      <td>600883</td>\n",
       "      <td>2109122041</td>\n",
       "      <td>buyer_25982</td>\n",
       "    </tr>\n",
       "    <tr>\n",
       "      <th>35644</th>\n",
       "      <td>2018-06-12 10:49:26</td>\n",
       "      <td>612025</td>\n",
       "      <td>2103945454</td>\n",
       "      <td>buyer_25982</td>\n",
       "    </tr>\n",
       "    <tr>\n",
       "      <th>33952</th>\n",
       "      <td>2018-06-20 12:08:45</td>\n",
       "      <td>613826</td>\n",
       "      <td>2109122041</td>\n",
       "      <td>buyer_25982</td>\n",
       "    </tr>\n",
       "    <tr>\n",
       "      <th>33952</th>\n",
       "      <td>2018-06-20 12:08:45</td>\n",
       "      <td>613826</td>\n",
       "      <td>2103945454</td>\n",
       "      <td>buyer_25982</td>\n",
       "    </tr>\n",
       "  </tbody>\n",
       "</table>\n",
       "</div>"
      ],
      "text/plain": [
       "                Date_Time Order_id       Phone defined_buyer_id\n",
       "28207 2018-04-27 16:18:58   600883  2109122041      buyer_25982\n",
       "35644 2018-06-12 10:49:26   612025  2103945454      buyer_25982\n",
       "33952 2018-06-20 12:08:45   613826  2109122041      buyer_25982\n",
       "33952 2018-06-20 12:08:45   613826  2103945454      buyer_25982"
      ]
     },
     "execution_count": 11,
     "metadata": {},
     "output_type": "execute_result"
    }
   ],
   "source": [
    "# Check\n",
    "test=df_buyer[(df_buyer['Phone']==\"2109122041\")| (df_buyer['Phone']==\"2103945454\")]\n",
    "test"
   ]
  },
  {
   "cell_type": "code",
   "execution_count": null,
   "metadata": {
    "collapsed": true
   },
   "outputs": [],
   "source": []
  },
  {
   "cell_type": "code",
   "execution_count": 12,
   "metadata": {
    "collapsed": true
   },
   "outputs": [],
   "source": [
    "df_buyer=df_buyer.sort_values(['Date_Time','defined_buyer_id'],ascending=[True,True])\n",
    "df_buyer=df_buyer.reset_index()\n",
    "del df_buyer['index']\n",
    "\n",
    "df_order_buyer=df_buyer[['Date_Time','Order_id','defined_buyer_id']].drop_duplicates().reset_index()\n",
    "del df_order_buyer['index']"
   ]
  },
  {
   "cell_type": "code",
   "execution_count": 13,
   "metadata": {},
   "outputs": [
    {
     "name": "stderr",
     "output_type": "stream",
     "text": [
      "/usr/local/lib/python3.6/site-packages/ipykernel_launcher.py:3: SettingWithCopyWarning: \n",
      "A value is trying to be set on a copy of a slice from a DataFrame.\n",
      "Try using .loc[row_indexer,col_indexer] = value instead\n",
      "\n",
      "See the caveats in the documentation: http://pandas.pydata.org/pandas-docs/stable/indexing.html#indexing-view-versus-copy\n",
      "  This is separate from the ipykernel package so we can avoid doing imports until\n"
     ]
    },
    {
     "name": "stdout",
     "output_type": "stream",
     "text": [
      "2018-07-05 12:49:41.174325\n"
     ]
    }
   ],
   "source": [
    "df_order_buyer_seq=pd.DataFrame()\n",
    "for defined_buyer_id,group in df_order_buyer.groupby(['defined_buyer_id']):\n",
    "    group['Buy_Seq']=[x for x in range(1,(len(group)+1))]\n",
    "    df_order_buyer_seq=df_order_buyer_seq.append(group)\n",
    "print(datetime.datetime.now())"
   ]
  },
  {
   "cell_type": "code",
   "execution_count": 14,
   "metadata": {
    "collapsed": true
   },
   "outputs": [],
   "source": [
    "transaction_data=pd.merge(transaction_data_both,df_order_buyer_seq,on=['Order_id','Date_Time'],how=\"outer\")\n",
    "transaction_data=transaction_data.sort_values(['Date_Time'])"
   ]
  },
  {
   "cell_type": "code",
   "execution_count": 15,
   "metadata": {
    "collapsed": true
   },
   "outputs": [],
   "source": [
    "# For multiple purchases, the Phone_2 issue not cleaned yet!!! (2 records for the same order, 1 with 2 phones and 1 with 1 phone)\n",
    "transaction_data_1st_Only=transaction_data[transaction_data['Buy_Seq']==1]\n",
    "transaction_data_1st_Only=transaction_data_1st_Only.sort_values(['Date_Time','Order_id','defined_buyer_id','Phone_1','Phone_2'])\n",
    "transaction_data_1st_Only=transaction_data_1st_Only.drop_duplicates(['Date_Time','Order_id','defined_buyer_id','Phone_1'])\n",
    "transaction_data_phone_1st_Only=transaction_data_1st_Only[transaction_data_1st_Only['Source']==\"phone\"]\n",
    "transaction_data_online_1st_Only=transaction_data_1st_Only[transaction_data_1st_Only['Source']==\"online\"]"
   ]
  },
  {
   "cell_type": "code",
   "execution_count": 16,
   "metadata": {},
   "outputs": [
    {
     "data": {
      "text/plain": [
       "0"
      ]
     },
     "execution_count": 16,
     "metadata": {},
     "output_type": "execute_result"
    }
   ],
   "source": [
    "transaction_data_1st_Only.shape[0]-len(transaction_data_phone_1st_Only['defined_buyer_id'].unique())-len(transaction_data_online_1st_Only['defined_buyer_id'].unique())\n",
    "\n"
   ]
  },
  {
   "cell_type": "code",
   "execution_count": 17,
   "metadata": {
    "collapsed": true
   },
   "outputs": [],
   "source": [
    "data_both_1=transaction_data[['Phone_1','defined_buyer_id']]\n",
    "data_both_1=data_both_1.rename(columns={\"Phone_1\":\"Phone\"})\n",
    "\n",
    "data_both_2=transaction_data[['Phone_2','defined_buyer_id']]\n",
    "data_both_2=data_both_2.rename(columns={\"Phone_2\":\"Phone\"})\n",
    "\n",
    "match_buyer_phone=data_both_1.append(data_both_2).drop_duplicates()\n",
    "match_buyer_phone=match_buyer_phone[match_buyer_phone['Phone']!='nan']"
   ]
  },
  {
   "cell_type": "code",
   "execution_count": 18,
   "metadata": {},
   "outputs": [
    {
     "data": {
      "text/html": [
       "<div>\n",
       "<style>\n",
       "    .dataframe thead tr:only-child th {\n",
       "        text-align: right;\n",
       "    }\n",
       "\n",
       "    .dataframe thead th {\n",
       "        text-align: left;\n",
       "    }\n",
       "\n",
       "    .dataframe tbody tr th {\n",
       "        vertical-align: top;\n",
       "    }\n",
       "</style>\n",
       "<table border=\"1\" class=\"dataframe\">\n",
       "  <thead>\n",
       "    <tr style=\"text-align: right;\">\n",
       "      <th></th>\n",
       "      <th>defined_buyer_id</th>\n",
       "      <th>Phone</th>\n",
       "    </tr>\n",
       "  </thead>\n",
       "  <tbody>\n",
       "    <tr>\n",
       "      <th>38291</th>\n",
       "      <td>buyer_9998</td>\n",
       "      <td>[9065537223, 9065532849]</td>\n",
       "    </tr>\n",
       "    <tr>\n",
       "      <th>38292</th>\n",
       "      <td>buyer_9999</td>\n",
       "      <td>[7405456547]</td>\n",
       "    </tr>\n",
       "  </tbody>\n",
       "</table>\n",
       "</div>"
      ],
      "text/plain": [
       "      defined_buyer_id                     Phone\n",
       "38291       buyer_9998  [9065537223, 9065532849]\n",
       "38292       buyer_9999              [7405456547]"
      ]
     },
     "execution_count": 18,
     "metadata": {},
     "output_type": "execute_result"
    }
   ],
   "source": [
    "match_buyer_phone_list=match_buyer_phone.groupby(['defined_buyer_id'])['Phone'].apply(list).to_frame().reset_index()\n",
    "match_buyer_phone_list.tail(2)"
   ]
  },
  {
   "cell_type": "code",
   "execution_count": 19,
   "metadata": {
    "collapsed": true
   },
   "outputs": [],
   "source": [
    "transacted_match_data_writer=pd.ExcelWriter(writer_folder+\"transaction_match_data\"+today_str+\".xlsx\",engine=\"xlsxwriter\")\n",
    "transaction_data.to_excel(transacted_match_data_writer,\"transactation_data\",index=False)\n",
    "transaction_data_1st_Only.to_excel(transacted_match_data_writer,\"trans_data_1st_purchase\",index=False)\n",
    "match_buyer_phone_list.to_excel(transacted_match_data_writer,\"buyer_phone\",index=False)\n",
    "transacted_match_data_writer.save()\n",
    "\n"
   ]
  },
  {
   "cell_type": "code",
   "execution_count": 20,
   "metadata": {},
   "outputs": [
    {
     "data": {
      "text/plain": [
       "'\\ntransaction_data_phone=transaction_data[transaction_data[\\'Source\\']==\"phone\"]\\ntransaction_data_phone[\\'Date_Str\\']=transaction_data_phone[\\'Date\\'].astype(str)\\ntransaction_data_phone[\\'Date_Time\\']=transaction_data_phone[\\'Date_Str\\']+\" \"+transaction_data_phone[\\'Time\\']\\ntransaction_data_phone[\\'Time\\']=transaction_data_phone[\\'Date_Time\\'].apply(lambda x: datetime.datetime.strptime(x,\"%Y-%m-%d %H:%M:%S\"))\\ndel transaction_data_phone[\\'Date_Str\\']\\ntransaction_data_phone=transaction_data_phone[(transaction_data_phone[\\'Time\\']<=datetime.datetime(2018,6,10)) & (transaction_data_phone[\\'Time\\']>=datetime.datetime(2018,1,15))]\\ndata_phone_1=transaction_data_phone[[\\'Order_id\\',\\'Date_Time\\',\\'Phone_1\\']]\\ndata_phone_1=data_phone_1.rename(columns={\"Phone_1\":\"Phone\"})\\ndata_phone_2=transaction_data_phone[[\\'Order_id\\',\\'Date_Time\\',\\'Phone_2\\']]\\ndata_phone_2=data_phone_2.rename(columns={\"Phone_2\":\"Phone\"})\\n\\ntransaction_data_phone=data_phone_1.append(data_phone_2)\\n'"
      ]
     },
     "execution_count": 20,
     "metadata": {},
     "output_type": "execute_result"
    }
   ],
   "source": [
    "'''\n",
    "Multiple_Buyers=transaction_data[transaction_data['defined_buyer_id'].isin(transaction_data[transaction_data['Buy_Seq']>1]['defined_buyer_id'])]\n",
    "len(Multiple_Buyers['defined_buyer_id'].unique()) #660\n",
    "'''\n",
    "\n",
    "\n",
    "\n",
    "# In total 4 unique orders (also unique buyers) contain the free code, and 2 of the 4 have another phone (4-2 only with the 866 and 888)\n",
    "# 8665963368,9072541011\n",
    "# 4157389811,8772727241\n",
    "# 8662266454\n",
    "# 8886390639\n",
    "'''\n",
    "copy=transaction_data.copy()\n",
    "copy['AC_1']=copy['Phone_1'].apply(lambda x: str(x)[0:3])\n",
    "copy['AC_2']=copy['Phone_2'].apply(lambda x: str(x)[0:3])\n",
    "\n",
    "copy[(copy['AC_1'].isin(['800','888','877','866','855','844'])) | (copy['AC_2'].isin(['800','888','877','866','855','844']))]\n",
    "'''\n",
    "'''\n",
    "digit_11=match_buyer_phone[match_buyer_phone['Phone'].apply(lambda x: len(x))==11]\n",
    "digit_11['1st_digit']=digit_11['Phone'].apply(lambda x: x[0])\n",
    "digit_11['last_10']=digit_11['Phone'].apply(lambda x: x[1:])\n",
    "digit_11.groupby(['1st_digit'])['defined_buyer_id'].count().to_frame().reset_index()\n",
    "# 24 out of the 94 are found if remove the leading 1 for the 11-digits phones\n",
    "# No need to clean the leading 1, because of low counts, low pctg fount, and unsure of the country code\n",
    "'''\n",
    "'''\n",
    "transaction_data_online=transaction_data[transaction_data['Source']==\"online\"]\n",
    "transaction_data_online['Date_Str']=transaction_data_online['Date'].astype(str)\n",
    "transaction_data_online['Date_Time']=transaction_data_online['Date_Str']+\" \"+transaction_data_online['Time']\n",
    "transaction_data_online['Time']=transaction_data_online['Date_Time'].apply(lambda x: datetime.datetime.strptime(x,\"%Y-%m-%d %H:%M:%S\"))\n",
    "del transaction_data_online['Date_Str']\n",
    "transaction_data_online=transaction_data_online[(transaction_data_online['Time']<=datetime.datetime(2018,6,10)) & (transaction_data_phone['Time']>=datetime.datetime(2018,1,15))]\n",
    "data_online_1=transaction_data_online[['Order_id','Date_Time','Phone_1']]\n",
    "data_online_2=transaction_data_online[['Order_id','Date_Time','Phone_2']]\n",
    "'''\n",
    "'''\n",
    "transaction_data_phone=transaction_data[transaction_data['Source']==\"phone\"]\n",
    "transaction_data_phone['Date_Str']=transaction_data_phone['Date'].astype(str)\n",
    "transaction_data_phone['Date_Time']=transaction_data_phone['Date_Str']+\" \"+transaction_data_phone['Time']\n",
    "transaction_data_phone['Time']=transaction_data_phone['Date_Time'].apply(lambda x: datetime.datetime.strptime(x,\"%Y-%m-%d %H:%M:%S\"))\n",
    "del transaction_data_phone['Date_Str']\n",
    "transaction_data_phone=transaction_data_phone[(transaction_data_phone['Time']<=datetime.datetime(2018,6,10)) & (transaction_data_phone['Time']>=datetime.datetime(2018,1,15))]\n",
    "data_phone_1=transaction_data_phone[['Order_id','Date_Time','Phone_1']]\n",
    "data_phone_1=data_phone_1.rename(columns={\"Phone_1\":\"Phone\"})\n",
    "data_phone_2=transaction_data_phone[['Order_id','Date_Time','Phone_2']]\n",
    "data_phone_2=data_phone_2.rename(columns={\"Phone_2\":\"Phone\"})\n",
    "\n",
    "transaction_data_phone=data_phone_1.append(data_phone_2)\n",
    "'''"
   ]
  },
  {
   "cell_type": "markdown",
   "metadata": {},
   "source": [
    "# Buyer_DMA"
   ]
  },
  {
   "cell_type": "code",
   "execution_count": 21,
   "metadata": {
    "collapsed": true
   },
   "outputs": [],
   "source": [
    "buyer_zip=transaction_data[['defined_buyer_id','zip_cd']].drop_duplicates()\n",
    "zip_DMA=pd.read_excel(\"/home/jian/Docs/Geo_mapping/Zips by DMA by County16-17 nielsen.xlsx\",dtype=str,skiprows=1)\n",
    "zip_DMA=zip_DMA.iloc[:,[0,2]]\n",
    "zip_DMA.columns=['zip_cd',\"DMA\"]\n",
    "zip_DMA=zip_DMA.drop_duplicates(['zip_cd'])\n",
    "buyer_zip_DMA=pd.merge(buyer_zip,zip_DMA,on='zip_cd',how=\"left\")\n",
    "buyer_zip_DMA=buyer_zip_DMA.fillna(\"non_US\")\n",
    "# 4 zips in 5 digits are not in DMA 80847,02098,49165,22512"
   ]
  },
  {
   "cell_type": "code",
   "execution_count": null,
   "metadata": {
    "collapsed": true
   },
   "outputs": [],
   "source": []
  },
  {
   "cell_type": "markdown",
   "metadata": {},
   "source": [
    "# Phone Data"
   ]
  },
  {
   "cell_type": "code",
   "execution_count": 22,
   "metadata": {},
   "outputs": [
    {
     "data": {
      "text/plain": [
       "51500"
      ]
     },
     "execution_count": 22,
     "metadata": {},
     "output_type": "execute_result"
    }
   ],
   "source": [
    "Press_One_folder=\"/home/jian/Projects/Saatva/Call_Analysis/data/2018_Call_Data_with_Dup/\"\n",
    "call_file_list=glob.glob(Press_One_folder+\"*.csv\")\n",
    "call_data=pd.DataFrame()\n",
    "for file in call_file_list:\n",
    "    df=pd.read_csv(file,dtype=str)\n",
    "    call_data=call_data.append(df)\n",
    "call_data=call_data.drop_duplicates()\n",
    "\n",
    "call_data.reset_index(inplace=True)\n",
    "del call_data['index']\n",
    "call_data=call_data[['S','Started (Dist) (Display)','Talk Time (Display)','Talk Time (Seconds Value)','Ring (Dist) (Seconds Value)','Dev (Clg)','TelNo (Clg)','Ans','Type']]\n",
    "call_data.columns=['Status','Start_Time_Str','Talk_Time_Str','Talk_Time_Sec','Ring_Time_Sec','Dev_Clg','TelNo_Clg','Ans','Type']\n",
    "call_data=call_data[~pd.isnull(call_data['Status'])]\n",
    "call_data=call_data.reset_index()\n",
    "del call_data['index']\n",
    "gc.collect()"
   ]
  },
  {
   "cell_type": "code",
   "execution_count": 23,
   "metadata": {
    "collapsed": true
   },
   "outputs": [],
   "source": [
    "call_data=call_data[call_data['Type']==\"Ext/In\"] # imbound calls only\n",
    "\n",
    "call_data['Call_in_Phone']=np.where(call_data['Dev_Clg']==\"[Trunk]\",\n",
    "                                   call_data['TelNo_Clg'],call_data['Dev_Clg'])\n",
    "call_data=call_data[(call_data['Call_in_Phone']!=\"[No CallerID]\") & (call_data['Call_in_Phone']!=\"[Conference]\") & (call_data['Call_in_Phone']!=\"Anonymous\") & (call_data['Call_in_Phone']!=\"0000000000\")]\n",
    "call_data['Call_in_Phone']=call_data['Call_in_Phone'].apply(lambda x:x.split(\"x\")[0])\n",
    "\n",
    "call_data['Start_Time']=call_data['Start_Time_Str'].apply(lambda x: datetime.datetime.strptime(x,'%m/%d/%Y %H:%M:%S'))\n",
    "call_data['Talk_Time_Delta']=call_data['Talk_Time_Sec'].astype(int).apply(lambda x:datetime.timedelta(seconds=x))\n",
    "call_data['Ring_Time_Delta']=call_data['Ring_Time_Sec'].astype(int).apply(lambda x:datetime.timedelta(seconds=x))\n",
    "\n",
    "call_data['End_Time']=call_data['Start_Time']+call_data['Talk_Time_Delta']+call_data['Ring_Time_Delta']\n",
    "call_data['Area_Code']=call_data['Call_in_Phone'].apply(lambda x: x[0:3])\n",
    "call_data=call_data.sort_values(['Call_in_Phone','Start_Time','End_Time'])\n",
    "\n",
    "\n",
    "free_numbers_area=['800','888','877','866','855','844']\n",
    "call_data=call_data[~call_data['Area_Code'].isin(free_numbers_area)]\n",
    "call_data=call_data.reset_index()\n",
    "call_data['Phone']=call_data['Call_in_Phone']\n",
    "\n",
    "call_data=call_data[(call_data['Start_Time']<datetime.datetime(2018,6,25)) & (call_data['Start_Time']>=datetime.datetime(2018,1,1))]\n",
    "call_data=call_data.sort_values(['Call_in_Phone','Start_Time'])\n",
    "call_data=call_data.reset_index()\n",
    "del call_data['index']"
   ]
  },
  {
   "cell_type": "code",
   "execution_count": 24,
   "metadata": {
    "collapsed": true
   },
   "outputs": [],
   "source": [
    "call_data=pd.merge(call_data,match_buyer_phone,on=\"Phone\",how=\"left\")\n",
    "call_data=call_data.sort_values(['Call_in_Phone','Start_Time'],ascending=[True,True])\n",
    "\n",
    "call_data_transacted=call_data[~pd.isnull(call_data['defined_buyer_id'])]\n",
    "call_data_transacted=call_data_transacted.sort_values(['Call_in_Phone','Start_Time'],ascending=[True,True])\n",
    "\n",
    "call_data_no_buy=call_data[pd.isnull(call_data['defined_buyer_id'])]\n",
    "call_data_no_buy=call_data_no_buy.sort_values(['Call_in_Phone','Start_Time'],ascending=[True,True])"
   ]
  },
  {
   "cell_type": "code",
   "execution_count": 25,
   "metadata": {},
   "outputs": [
    {
     "data": {
      "text/plain": [
       "(275771, 18)"
      ]
     },
     "execution_count": 25,
     "metadata": {},
     "output_type": "execute_result"
    }
   ],
   "source": [
    "call_data.shape"
   ]
  },
  {
   "cell_type": "code",
   "execution_count": 26,
   "metadata": {},
   "outputs": [
    {
     "data": {
      "text/plain": [
       "(89814, 18)"
      ]
     },
     "execution_count": 26,
     "metadata": {},
     "output_type": "execute_result"
    }
   ],
   "source": [
    "call_data_transacted.shape"
   ]
  },
  {
   "cell_type": "code",
   "execution_count": 27,
   "metadata": {},
   "outputs": [
    {
     "data": {
      "text/plain": [
       "(185957, 18)"
      ]
     },
     "execution_count": 27,
     "metadata": {},
     "output_type": "execute_result"
    }
   ],
   "source": [
    "call_data_no_buy.shape"
   ]
  },
  {
   "cell_type": "code",
   "execution_count": 28,
   "metadata": {
    "collapsed": true
   },
   "outputs": [],
   "source": [
    "# len(set(digit_11[digit_11['1st_digit']==\"1\"]['last_10'].unique().tolist()).intersection(call_data['Phone'].unique().tolist()))"
   ]
  },
  {
   "cell_type": "markdown",
   "metadata": {
    "collapsed": true
   },
   "source": [
    "# Non-Buyers"
   ]
  },
  {
   "cell_type": "code",
   "execution_count": null,
   "metadata": {},
   "outputs": [
    {
     "name": "stderr",
     "output_type": "stream",
     "text": [
      "/usr/local/lib/python3.6/site-packages/ipykernel_launcher.py:16: SettingWithCopyWarning: \n",
      "A value is trying to be set on a copy of a slice from a DataFrame\n",
      "\n",
      "See the caveats in the documentation: http://pandas.pydata.org/pandas-docs/stable/indexing.html#indexing-view-versus-copy\n",
      "  app.launch_new_instance()\n",
      "/usr/local/lib/python3.6/site-packages/ipykernel_launcher.py:24: SettingWithCopyWarning: \n",
      "A value is trying to be set on a copy of a slice from a DataFrame\n",
      "\n",
      "See the caveats in the documentation: http://pandas.pydata.org/pandas-docs/stable/indexing.html#indexing-view-versus-copy\n",
      "/usr/local/lib/python3.6/site-packages/ipykernel_launcher.py:27: SettingWithCopyWarning: \n",
      "A value is trying to be set on a copy of a slice from a DataFrame\n",
      "\n",
      "See the caveats in the documentation: http://pandas.pydata.org/pandas-docs/stable/indexing.html#indexing-view-versus-copy\n"
     ]
    },
    {
     "name": "stdout",
     "output_type": "stream",
     "text": [
      "100 2018-07-05 10:48:56.977137\n"
     ]
    }
   ],
   "source": [
    "# Reason to use 30 seconds: e.g. June, Phone \"2025094332\"\n",
    "# Part 1: non-transacted phone calls\n",
    "gc.collect()\n",
    "call_data_group_only_no_buy=call_data_no_buy[['Call_in_Phone','Start_Time','End_Time','Talk_Time_Delta','Ring_Time_Delta']]\n",
    "non_transacted_phone_calls=pd.DataFrame()\n",
    "\n",
    "k=1\n",
    "for phone,group in call_data_group_only_no_buy.groupby(['Call_in_Phone']):\n",
    "\n",
    "    df_drop_transfer=group.reset_index()\n",
    "    del df_drop_transfer['index']\n",
    "    df_drop_transfer=df_drop_transfer.sort_values(['Start_Time']) # Order!\n",
    "    df_drop_transfer=df_drop_transfer.reset_index()\n",
    "    del df_drop_transfer['index']\n",
    "    df_drop_transfer['call_seq']=np.nan\n",
    "    df_drop_transfer['call_seq'][0]=1\n",
    "    seq=1\n",
    "\n",
    "    for i in range(1,len(df_drop_transfer)):\n",
    "        if (df_drop_transfer['Start_Time'][i]-df_drop_transfer['End_Time'][i-1]).seconds<=30:\n",
    "            df_drop_transfer['call_seq'][i]=seq\n",
    "        else:\n",
    "            seq=seq+1\n",
    "            df_drop_transfer['call_seq'][i]=seq\n",
    "\n",
    "    non_transacted_phone_calls=non_transacted_phone_calls.append(df_drop_transfer)\n",
    "    k=k+1\n",
    "    if k%10000==100: # <10 minutes of running per 10,000 loops\n",
    "        print(k,datetime.datetime.now())"
   ]
  },
  {
   "cell_type": "code",
   "execution_count": null,
   "metadata": {
    "collapsed": true
   },
   "outputs": [],
   "source": [
    "gc.collect()\n",
    "i=0\n",
    "unique_non_transacted_phone_calls=pd.DataFrame()\n",
    "for (phone,seq),group in non_transacted_phone_calls.groupby(['Call_in_Phone','call_seq']):\n",
    "    df_unique_phone=group.reset_index()\n",
    "    del df_unique_phone['index']\n",
    "    \n",
    "    len_df=len(df_unique_phone)\n",
    "    start_time=df_unique_phone['Start_Time'][0]\n",
    "    end_time=df_unique_phone['End_Time'][len_df-1]\n",
    "    duration_sec=(end_time-start_time).seconds\n",
    "    talk_sec=df_unique_phone['Talk_Time_Delta'].sum()\n",
    "    ring_sec=df_unique_phone['Ring_Time_Delta'].sum()\n",
    "    \n",
    "    df=pd.DataFrame({\"Phone_Num\":phone,\"Call_Seq\":seq,\"Start_time\":start_time,\"End_time\":end_time,\"Call_duration_Sec\":duration_sec,\n",
    "                    \"Talk_length_Sec\":talk_sec,\"Ring_length_Sec\":ring_sec},index=[i])\n",
    "    unique_non_transacted_phone_calls=unique_non_transacted_phone_calls.append(df)\n",
    "    i=i+1\n",
    "    if i%10000==100:\n",
    "        print(i,datetime.datetime.now())"
   ]
  },
  {
   "cell_type": "code",
   "execution_count": null,
   "metadata": {
    "collapsed": true
   },
   "outputs": [],
   "source": [
    "unique_non_transacted_phone_calls_Exclusion=unique_non_transacted_phone_calls[unique_non_transacted_phone_calls['Phone_Num'].isin(unique_non_transacted_phone_calls[unique_non_transacted_phone_calls['Call_Seq']>=100]['Phone_Num'])]\n",
    "unique_non_transacted_phone_calls=unique_non_transacted_phone_calls[~unique_non_transacted_phone_calls['Phone_Num'].isin(unique_non_transacted_phone_calls_Exclusion['Phone_Num'])]\n",
    "\n",
    "\n"
   ]
  },
  {
   "cell_type": "markdown",
   "metadata": {
    "collapsed": true
   },
   "source": [
    "# Buyers"
   ]
  },
  {
   "cell_type": "code",
   "execution_count": null,
   "metadata": {
    "collapsed": true
   },
   "outputs": [],
   "source": [
    "transaction_time_1st_Only=transaction_data_1st_Only[['defined_buyer_id','Date_Time','Source']]\n",
    "transaction_time_1st_Only=transaction_time_1st_Only.rename(columns={\"Date_Time\":\"Trans_1st_Time\"})\n",
    "transaction_time_1st_Only=transaction_time_1st_Only.reset_index()\n",
    "del transaction_time_1st_Only['index']\n",
    "transaction_time_1st_Only['Trans_1st_Time'][0]\n",
    "transaction_time_1st_Only['Trans_1st_Time_plust_1_hour']=transaction_time_1st_Only['Trans_1st_Time'].apply(lambda x: x+datetime.timedelta(hours=1))"
   ]
  },
  {
   "cell_type": "code",
   "execution_count": null,
   "metadata": {
    "collapsed": true
   },
   "outputs": [],
   "source": [
    "# Part 2: Transacted phone calls\n",
    "gc.collect()\n",
    "call_data_group_buyers=call_data_transacted[['defined_buyer_id','Start_Time','End_Time','Talk_Time_Delta','Ring_Time_Delta']]\n",
    "Transacted_phone_calls=pd.DataFrame()\n"
   ]
  },
  {
   "cell_type": "code",
   "execution_count": null,
   "metadata": {
    "collapsed": true
   },
   "outputs": [],
   "source": [
    "call_data_group_buyers.head(2)"
   ]
  },
  {
   "cell_type": "code",
   "execution_count": null,
   "metadata": {
    "collapsed": true
   },
   "outputs": [],
   "source": [
    "k=1\n",
    "for buyer_id,group in call_data_group_buyers.groupby(['defined_buyer_id']):\n",
    "\n",
    "    df_drop_transfer=group.reset_index()\n",
    "    del df_drop_transfer['index']\n",
    "    df_drop_transfer=df_drop_transfer.sort_values(['Start_Time']) #Order\n",
    "    df_drop_transfer=df_drop_transfer.reset_index()\n",
    "    del df_drop_transfer['index']\n",
    "    df_drop_transfer['call_seq']=np.nan\n",
    "    df_drop_transfer['call_seq'][0]=1\n",
    "    seq=1\n",
    "\n",
    "    if len(df_drop_transfer)>1:\n",
    "        for i in range(1,len(df_drop_transfer)):\n",
    "            if (df_drop_transfer['Start_Time'][i]-df_drop_transfer['End_Time'][i-1]).seconds<=30:\n",
    "                df_drop_transfer['call_seq'][i]=seq\n",
    "            else:\n",
    "                seq=seq+1\n",
    "                df_drop_transfer['call_seq'][i]=seq\n",
    "\n",
    "    Transacted_phone_calls=Transacted_phone_calls.append(df_drop_transfer)\n",
    "    k=k+1\n",
    "    if k%1500==100:\n",
    "        print(k,datetime.datetime.now())\n"
   ]
  },
  {
   "cell_type": "code",
   "execution_count": null,
   "metadata": {
    "collapsed": true
   },
   "outputs": [],
   "source": [
    "gc.collect()\n",
    "i=0\n",
    "unique_Transacted_phone_calls=pd.DataFrame()\n",
    "for (buyer_id,seq),group in Transacted_phone_calls.groupby(['defined_buyer_id','call_seq']):\n",
    "    df_unique_phone=group.reset_index()\n",
    "    del df_unique_phone['index']\n",
    "    len_df=len(df_unique_phone)\n",
    "    start_time=df_unique_phone['Start_Time'][0]\n",
    "    end_time=df_unique_phone['End_Time'][len_df-1]\n",
    "    duration_sec=(end_time-start_time).seconds\n",
    "    talk_sec=df_unique_phone['Talk_Time_Delta'].sum()\n",
    "    ring_sec=df_unique_phone['Ring_Time_Delta'].sum()\n",
    "    \n",
    "    df=pd.DataFrame({\"defined_buyer_id\":buyer_id,\"Call_Seq\":seq,\"Start_time\":start_time,\"End_time\":end_time,\"Call_duration_Sec\":duration_sec,\n",
    "                    \"Talk_length_Sec\":talk_sec,\"Ring_length_Sec\":ring_sec},index=[i])\n",
    "    unique_Transacted_phone_calls=unique_Transacted_phone_calls.append(df)\n",
    "    i=i+1\n",
    "    if i%3700==100:\n",
    "        print(i,datetime.datetime.now())"
   ]
  },
  {
   "cell_type": "code",
   "execution_count": null,
   "metadata": {
    "collapsed": true
   },
   "outputs": [],
   "source": [
    "unique_Transacted_phone_calls.head(2)"
   ]
  },
  {
   "cell_type": "code",
   "execution_count": null,
   "metadata": {
    "collapsed": true
   },
   "outputs": [],
   "source": [
    "unique_Transacted_phone_calls_Before=pd.merge(unique_Transacted_phone_calls,transaction_time_1st_Only,on=\"defined_buyer_id\",how=\"left\")\n",
    "\n",
    "# Online_Order: call Start time only before Transaction time\n",
    "# Phone_Order: call End time only before Transaction time + 1 Hour\n",
    "\n",
    "\n",
    "unique_Transacted_calls_Before_phone=unique_Transacted_phone_calls_Before[unique_Transacted_phone_calls_Before['Source']==\"phone\"]\n",
    "unique_Transacted_calls_Before_phone=unique_Transacted_calls_Before_phone[unique_Transacted_calls_Before_phone['End_time']<=unique_Transacted_calls_Before_phone['Trans_1st_Time_plust_1_hour']]\n",
    "\n",
    "unique_Transacted_calls_Before_online=unique_Transacted_phone_calls_Before[unique_Transacted_phone_calls_Before['Source']==\"online\"]\n",
    "unique_Transacted_calls_Before_online=unique_Transacted_calls_Before_online[unique_Transacted_calls_Before_online['Start_time']<=unique_Transacted_calls_Before_online['Trans_1st_Time']]\n",
    "\n",
    "unique_Transacted_phone_calls_matched=unique_Transacted_calls_Before_phone.append(unique_Transacted_calls_Before_online)\n",
    "unique_Transacted_phone_calls_matched=unique_Transacted_phone_calls_matched.sort_values(['Start_time'])"
   ]
  },
  {
   "cell_type": "code",
   "execution_count": null,
   "metadata": {
    "collapsed": true
   },
   "outputs": [],
   "source": [
    "unique_Transacted_phone_calls_matched['Source'].unique()"
   ]
  },
  {
   "cell_type": "code",
   "execution_count": null,
   "metadata": {
    "collapsed": true
   },
   "outputs": [],
   "source": [
    "unique_Transacted_phone_calls_matched['Start_time'].max()"
   ]
  },
  {
   "cell_type": "code",
   "execution_count": null,
   "metadata": {
    "collapsed": true
   },
   "outputs": [],
   "source": [
    "unique_Transacted_phone_calls_matched['Start_time'].min()"
   ]
  },
  {
   "cell_type": "code",
   "execution_count": null,
   "metadata": {
    "collapsed": true
   },
   "outputs": [],
   "source": [
    "len(unique_Transacted_phone_calls_matched[unique_Transacted_phone_calls_matched['Source']=='phone']['defined_buyer_id'].unique())"
   ]
  },
  {
   "cell_type": "code",
   "execution_count": null,
   "metadata": {
    "collapsed": true
   },
   "outputs": [],
   "source": [
    "writer=pd.ExcelWriter(writer_folder+\"transacted_and_non_transacted_call_data\"+today_str+\".xlsx\",engine=\"xlsxwriter\")\n",
    "call_data.to_excel(writer,\"call_data\",index=False)\n",
    "non_transacted_phone_calls.to_excel(writer,'non_transcted_call_all',index=False)\n",
    "unique_non_transacted_phone_calls.to_excel(writer,'non_transcted_unique',index=False)\n",
    "Transacted_phone_calls.to_excel(writer,'Transcted_call_all',index=False)\n",
    "unique_Transacted_phone_calls_matched.to_excel(writer,'Transcted_unique',index=False)\n",
    "writer.save()"
   ]
  },
  {
   "cell_type": "code",
   "execution_count": 37,
   "metadata": {},
   "outputs": [
    {
     "data": {
      "text/html": [
       "<div>\n",
       "<style>\n",
       "    .dataframe thead tr:only-child th {\n",
       "        text-align: right;\n",
       "    }\n",
       "\n",
       "    .dataframe thead th {\n",
       "        text-align: left;\n",
       "    }\n",
       "\n",
       "    .dataframe tbody tr th {\n",
       "        vertical-align: top;\n",
       "    }\n",
       "</style>\n",
       "<table border=\"1\" class=\"dataframe\">\n",
       "  <thead>\n",
       "    <tr style=\"text-align: right;\">\n",
       "      <th></th>\n",
       "      <th>Call_Seq</th>\n",
       "      <th>Call_duration_Sec</th>\n",
       "      <th>End_time</th>\n",
       "      <th>Ring_length_Sec</th>\n",
       "      <th>Start_time</th>\n",
       "      <th>Talk_length_Sec</th>\n",
       "      <th>defined_buyer_id</th>\n",
       "      <th>Trans_1st_Time</th>\n",
       "      <th>Source</th>\n",
       "      <th>Trans_1st_Time_plust_1_hour</th>\n",
       "    </tr>\n",
       "  </thead>\n",
       "  <tbody>\n",
       "    <tr>\n",
       "      <th>0</th>\n",
       "      <td>1</td>\n",
       "      <td>844</td>\n",
       "      <td>2018-01-01 02:13:39</td>\n",
       "      <td>2.314814814814815e-05</td>\n",
       "      <td>2018-01-01 01:59:35</td>\n",
       "      <td>0.009733796296296296</td>\n",
       "      <td>buyer_6</td>\n",
       "      <td>2018-01-01 02:15:51</td>\n",
       "      <td>phone</td>\n",
       "      <td>2018-01-01 03:15:51</td>\n",
       "    </tr>\n",
       "    <tr>\n",
       "      <th>1</th>\n",
       "      <td>1</td>\n",
       "      <td>1199</td>\n",
       "      <td>2018-01-01 09:16:14</td>\n",
       "      <td>2.314814814814815e-05</td>\n",
       "      <td>2018-01-01 08:56:15</td>\n",
       "      <td>0.01384259259259259</td>\n",
       "      <td>buyer_29707</td>\n",
       "      <td>2018-05-15 16:54:31</td>\n",
       "      <td>phone</td>\n",
       "      <td>2018-05-15 17:54:31</td>\n",
       "    </tr>\n",
       "  </tbody>\n",
       "</table>\n",
       "</div>"
      ],
      "text/plain": [
       "  Call_Seq Call_duration_Sec             End_time        Ring_length_Sec  \\\n",
       "0        1               844  2018-01-01 02:13:39  2.314814814814815e-05   \n",
       "1        1              1199  2018-01-01 09:16:14  2.314814814814815e-05   \n",
       "\n",
       "            Start_time       Talk_length_Sec defined_buyer_id  \\\n",
       "0  2018-01-01 01:59:35  0.009733796296296296          buyer_6   \n",
       "1  2018-01-01 08:56:15   0.01384259259259259      buyer_29707   \n",
       "\n",
       "        Trans_1st_Time Source Trans_1st_Time_plust_1_hour  \n",
       "0  2018-01-01 02:15:51  phone         2018-01-01 03:15:51  \n",
       "1  2018-05-15 16:54:31  phone         2018-05-15 17:54:31  "
      ]
     },
     "execution_count": 37,
     "metadata": {},
     "output_type": "execute_result"
    }
   ],
   "source": [
    "\n",
    "\n",
    "unique_Transacted_phone_calls_matched.head(2)"
   ]
  },
  {
   "cell_type": "code",
   "execution_count": 93,
   "metadata": {},
   "outputs": [
    {
     "data": {
      "text/plain": [
       "array([<class 'pandas._libs.tslib.Timestamp'>], dtype=object)"
      ]
     },
     "execution_count": 93,
     "metadata": {},
     "output_type": "execute_result"
    }
   ],
   "source": [
    "transaction_data_1st_Only['Date_Time'].apply(lambda x:type(x)).unique()"
   ]
  },
  {
   "cell_type": "code",
   "execution_count": 96,
   "metadata": {},
   "outputs": [],
   "source": [
    "df_July_04=pd.read_excel(\"/home/jian/Projects/Saatva/Call_Analysis/output/2018-07-04/transacted_and_non_transacted_call_data2018-07-04.xlsx\",sheetname=None,dtype=str)\n",
    "\n",
    "non_transacted_phone_calls=df_July_04['non_transcted_call_all']\n",
    "unique_non_transacted_phone_calls=df_July_04['non_transcted_unique']\n",
    "Transacted_phone_calls=df_July_04['Transcted_call_all']\n",
    "unique_Transacted_phone_calls_matched=df_July_04['Transcted_unique']\n",
    "\n"
   ]
  },
  {
   "cell_type": "code",
   "execution_count": 97,
   "metadata": {
    "collapsed": true
   },
   "outputs": [],
   "source": [
    "non_transacted_phone_calls['Start_Time']=non_transacted_phone_calls['Start_Time'].apply(lambda x: datetime.datetime.strptime(x,\"%Y-%m-%d %H:%M:%S\"))\n",
    "unique_non_transacted_phone_calls['Start_time']=unique_non_transacted_phone_calls['Start_time'].apply(lambda x: datetime.datetime.strptime(x,\"%Y-%m-%d %H:%M:%S\"))\n",
    "Transacted_phone_calls['Start_Time']=Transacted_phone_calls['Start_Time'].apply(lambda x: datetime.datetime.strptime(x,\"%Y-%m-%d %H:%M:%S\"))\n",
    "unique_Transacted_phone_calls_matched['Start_time']=unique_Transacted_phone_calls_matched['Start_time'].apply(lambda x: datetime.datetime.strptime(x,\"%Y-%m-%d %H:%M:%S\"))\n",
    "unique_Transacted_phone_calls_matched['Call_Seq']=unique_Transacted_phone_calls_matched['Call_Seq'].astype(int)"
   ]
  },
  {
   "cell_type": "code",
   "execution_count": 98,
   "metadata": {
    "collapsed": true
   },
   "outputs": [],
   "source": [
    "Transacted_Call_Freq_by_buyers=unique_Transacted_phone_calls_matched.groupby(['defined_buyer_id'])['Start_time'].count().to_frame().reset_index()\n",
    "Transacted_Call_Freq_by_buyers=Transacted_Call_Freq_by_buyers.rename(columns={\"Start_time\":\"Call_Times\"})\n",
    "\n",
    "Transacted_Call_Freq_by_buyers_1_to_4=Transacted_Call_Freq_by_buyers[Transacted_Call_Freq_by_buyers['Call_Times']<=4]\n",
    "Transacted_Call_Freq_by_buyers_5_plus=Transacted_Call_Freq_by_buyers[Transacted_Call_Freq_by_buyers['Call_Times']>4]\n"
   ]
  },
  {
   "cell_type": "markdown",
   "metadata": {},
   "source": [
    "# Df_1 Call Summary"
   ]
  },
  {
   "cell_type": "code",
   "execution_count": 99,
   "metadata": {
    "collapsed": true
   },
   "outputs": [],
   "source": [
    "def agg_by_freq_seg(df,df_5_plus):\n",
    "    df_1=df.groupby(['Call_Times'])['defined_buyer_id'].apply(list).to_frame().reset_index()\n",
    "    df_1=df_1.rename(columns={\"defined_buyer_id\":\"buyer_list\"})\n",
    "\n",
    "    df_2=df.groupby(['Call_Times'])['defined_buyer_id'].count().to_frame().reset_index()\n",
    "    df_2=df_2.rename(columns={\"defined_buyer_id\":\"buyer_count\"})\n",
    "\n",
    "    df_result=pd.merge(df_1,df_2,on=\"Call_Times\",how=\"outer\")\n",
    "    \n",
    "    df_5_plus_app=pd.DataFrame({\"Call_Times\":\"5+\",\"buyer_list\":[df_5_plus['defined_buyer_id'].unique().tolist()],\"buyer_count\":len(df_5_plus['defined_buyer_id'].unique().tolist())},index=[4])\n",
    "    df_result=df_result.append(df_5_plus_app)\n",
    "    \n",
    "    return df_result\n",
    "\n",
    "base_df_transacted=agg_by_freq_seg(Transacted_Call_Freq_by_buyers_1_to_4,Transacted_Call_Freq_by_buyers_5_plus)"
   ]
  },
  {
   "cell_type": "code",
   "execution_count": 100,
   "metadata": {},
   "outputs": [
    {
     "name": "stderr",
     "output_type": "stream",
     "text": [
      "/usr/local/lib/python3.6/site-packages/ipykernel_launcher.py:32: SettingWithCopyWarning: \n",
      "A value is trying to be set on a copy of a slice from a DataFrame\n",
      "\n",
      "See the caveats in the documentation: http://pandas.pydata.org/pandas-docs/stable/indexing.html#indexing-view-versus-copy\n",
      "/usr/local/lib/python3.6/site-packages/ipykernel_launcher.py:33: SettingWithCopyWarning: \n",
      "A value is trying to be set on a copy of a slice from a DataFrame\n",
      "\n",
      "See the caveats in the documentation: http://pandas.pydata.org/pandas-docs/stable/indexing.html#indexing-view-versus-copy\n",
      "/usr/local/lib/python3.6/site-packages/ipykernel_launcher.py:34: SettingWithCopyWarning: \n",
      "A value is trying to be set on a copy of a slice from a DataFrame\n",
      "\n",
      "See the caveats in the documentation: http://pandas.pydata.org/pandas-docs/stable/indexing.html#indexing-view-versus-copy\n",
      "/usr/local/lib/python3.6/site-packages/ipykernel_launcher.py:36: SettingWithCopyWarning: \n",
      "A value is trying to be set on a copy of a slice from a DataFrame\n",
      "\n",
      "See the caveats in the documentation: http://pandas.pydata.org/pandas-docs/stable/indexing.html#indexing-view-versus-copy\n",
      "/usr/local/lib/python3.6/site-packages/ipykernel_launcher.py:37: SettingWithCopyWarning: \n",
      "A value is trying to be set on a copy of a slice from a DataFrame\n",
      "\n",
      "See the caveats in the documentation: http://pandas.pydata.org/pandas-docs/stable/indexing.html#indexing-view-versus-copy\n",
      "/usr/local/lib/python3.6/site-packages/ipykernel_launcher.py:38: SettingWithCopyWarning: \n",
      "A value is trying to be set on a copy of a slice from a DataFrame\n",
      "\n",
      "See the caveats in the documentation: http://pandas.pydata.org/pandas-docs/stable/indexing.html#indexing-view-versus-copy\n",
      "/usr/local/lib/python3.6/site-packages/ipykernel_launcher.py:42: SettingWithCopyWarning: \n",
      "A value is trying to be set on a copy of a slice from a DataFrame\n",
      "\n",
      "See the caveats in the documentation: http://pandas.pydata.org/pandas-docs/stable/indexing.html#indexing-view-versus-copy\n"
     ]
    }
   ],
   "source": [
    "\n",
    "# 1. Transacted\n",
    "Transaced_df_summary=base_df_transacted.copy()\n",
    "Transaced_df_summary['Total_Buyer']=np.nan\n",
    "Transaced_df_summary['Phone_Buyer']=np.nan\n",
    "Transaced_df_summary['Online_Buyer']=np.nan\n",
    "\n",
    "Transaced_df_summary['Total_Trans']=np.nan\n",
    "Transaced_df_summary['Phone_Trans']=np.nan\n",
    "Transaced_df_summary['Online_Trans']=np.nan\n",
    "\n",
    "Transaced_df_summary['Total_Transacted_Calls']=np.nan\n",
    "\n",
    "# Use 1st Time Transaction only : transaction_data_1st_Only\n",
    "# Because use the 1st time transaction, the total equals to the sum of both sources\n",
    "for i in range(5):\n",
    "    buyer_list=Transaced_df_summary['buyer_list'][i]\n",
    "    df_trans=transaction_data[transaction_data['defined_buyer_id'].isin(buyer_list)]\n",
    "    type_of_order_order=df_trans.groupby(['Source'])['Order_id'].count().to_frame().reset_index()\n",
    "    \n",
    "    phone_trans_order=type_of_order_order[type_of_order_order['Source']==\"phone\"]['Order_id'].unique()[0]\n",
    "    online_trans_order=type_of_order_order[type_of_order_order['Source']==\"online\"]['Order_id'].unique()[0]\n",
    "    both_trans_order=len(df_trans['Order_id'].unique())\n",
    "    \n",
    "    df=transaction_data_1st_Only[transaction_data_1st_Only['defined_buyer_id'].isin(buyer_list)]\n",
    "    type_of_order_buyer=df.groupby(['Source'])['defined_buyer_id'].apply(lambda x: len(x.unique())).to_frame().reset_index()\n",
    "    phone_trans_buyer=type_of_order_buyer[type_of_order_buyer['Source']==\"phone\"]['defined_buyer_id'].unique()[0]\n",
    "    online_trans_buyer=type_of_order_buyer[type_of_order_buyer['Source']==\"online\"]['defined_buyer_id'].unique()[0]\n",
    "    both_trans_buyer=len(df['Order_id'].unique())\n",
    "\n",
    "    \n",
    "    Transaced_df_summary['Phone_Trans'][i]=phone_trans_order\n",
    "    Transaced_df_summary['Online_Trans'][i]=online_trans_order\n",
    "    Transaced_df_summary['Total_Trans'][i]=both_trans_order\n",
    "    \n",
    "    Transaced_df_summary['Phone_Buyer'][i]=phone_trans_buyer\n",
    "    Transaced_df_summary['Online_Buyer'][i]=online_trans_buyer\n",
    "    Transaced_df_summary['Total_Buyer'][i]=both_trans_buyer\n",
    "    \n",
    "    df_total_call=unique_Transacted_phone_calls_matched[unique_Transacted_phone_calls_matched['defined_buyer_id'].isin(buyer_list)]\n",
    "    total_calls=len(df_total_call)\n",
    "    Transaced_df_summary['Total_Transacted_Calls'][i]=total_calls\n",
    "    \n",
    "Transaced_df_summary=Transaced_df_summary[['Call_Times','buyer_count','buyer_list','Total_Transacted_Calls','Phone_Trans','Online_Trans','Total_Trans',\n",
    "                                          'Phone_Buyer','Online_Buyer','Total_Buyer']]"
   ]
  },
  {
   "cell_type": "code",
   "execution_count": 101,
   "metadata": {},
   "outputs": [
    {
     "name": "stderr",
     "output_type": "stream",
     "text": [
      "/usr/local/lib/python3.6/site-packages/ipykernel_launcher.py:23: SettingWithCopyWarning: \n",
      "A value is trying to be set on a copy of a slice from a DataFrame\n",
      "\n",
      "See the caveats in the documentation: http://pandas.pydata.org/pandas-docs/stable/indexing.html#indexing-view-versus-copy\n"
     ]
    }
   ],
   "source": [
    "#2. Non Buyers\n",
    "unique_non_transacted_phone_calls.head(2)\n",
    "Non__Transacted_df_summary_count=unique_non_transacted_phone_calls.groupby(['Phone_Num'])['Start_time'].count().to_frame().reset_index()\n",
    "# exclusions_non_transactions=Non__Transacted_df_summary_count[Non__Transacted_df_summary_count['Start_time']>=100]\n",
    "# Non__Transacted_df_summary_count=Non__Transacted_df_summary_count[Non__Transacted_df_summary_count['Start_time']<100]\n",
    "\n",
    "\n",
    "Non__Transacted_df_summary_list=Non__Transacted_df_summary_count.groupby(['Start_time'])['Phone_Num'].apply(list).to_frame().reset_index()\n",
    "Non__Transacted_df_summary_list=Non__Transacted_df_summary_list.rename(columns={\"Start_time\":\"Call_Times\",\"Phone_Num\":\"Non_Transacted_Phones\"})\n",
    "\n",
    "Non__Transacted_df_summary_list_1_4=Non__Transacted_df_summary_list[Non__Transacted_df_summary_list['Call_Times']<=4]\n",
    "\n",
    "Non__Transacted_df_summary_list_5_Plus_list_Phone=Non__Transacted_df_summary_count[Non__Transacted_df_summary_count['Start_time']>=5]['Phone_Num'].unique().tolist()\n",
    "Non__Transacted_df_summary=Non__Transacted_df_summary_list_1_4.append(pd.DataFrame({\"Call_Times\":\"5+\",\"Non_Transacted_Phones\":[Non__Transacted_df_summary_list_5_Plus_list_Phone]}))\n",
    "Non__Transacted_df_summary['Non_Transacted_Calls']=np.nan\n",
    "\n",
    "Non__Transacted_df_summary=Non__Transacted_df_summary.reset_index()\n",
    "del Non__Transacted_df_summary['index']\n",
    "for i in range(len(Non__Transacted_df_summary)):\n",
    "    phone_list=Non__Transacted_df_summary['Non_Transacted_Phones'][i]\n",
    "    df=unique_non_transacted_phone_calls[unique_non_transacted_phone_calls['Phone_Num'].isin(phone_list)]\n",
    "    counts=len(df)\n",
    "    Non__Transacted_df_summary['Non_Transacted_Calls'][i]=counts\n",
    "Non__Transacted_df_summary['Unique_Non_Trancted_Call_Count']=Non__Transacted_df_summary['Non_Transacted_Phones'].apply(len)\n",
    "    \n"
   ]
  },
  {
   "cell_type": "code",
   "execution_count": 102,
   "metadata": {
    "collapsed": true
   },
   "outputs": [],
   "source": [
    "df_1_output=pd.merge(Transaced_df_summary,Non__Transacted_df_summary,on='Call_Times',how=\"left\")\n",
    "df_1_output['Total_Overall_Calls']=df_1_output['Non_Transacted_Calls']+df_1_output['Total_Transacted_Calls']\n",
    "df_1_writer=pd.ExcelWriter(writer_folder+\"Output_1_Summary_\"+today_str+\".xlsx\",engine=\"xlsxwriter\")\n",
    "df_1_output.to_excel(df_1_writer,\"Output_1_Summary.csv\",index=False)\n",
    "df_1_writer.save()\n"
   ]
  },
  {
   "cell_type": "markdown",
   "metadata": {},
   "source": [
    "# Df_2 From Call to Trans Time length"
   ]
  },
  {
   "cell_type": "code",
   "execution_count": 103,
   "metadata": {},
   "outputs": [
    {
     "name": "stderr",
     "output_type": "stream",
     "text": [
      "/usr/local/lib/python3.6/site-packages/ipykernel_launcher.py:11: SettingWithCopyWarning: \n",
      "A value is trying to be set on a copy of a slice from a DataFrame.\n",
      "Try using .loc[row_indexer,col_indexer] = value instead\n",
      "\n",
      "See the caveats in the documentation: http://pandas.pydata.org/pandas-docs/stable/indexing.html#indexing-view-versus-copy\n",
      "  # This is added back by InteractiveShellApp.init_path()\n",
      "/usr/local/lib/python3.6/site-packages/ipykernel_launcher.py:30: SettingWithCopyWarning: \n",
      "A value is trying to be set on a copy of a slice from a DataFrame.\n",
      "Try using .loc[row_indexer,col_indexer] = value instead\n",
      "\n",
      "See the caveats in the documentation: http://pandas.pydata.org/pandas-docs/stable/indexing.html#indexing-view-versus-copy\n",
      "/usr/local/lib/python3.6/site-packages/ipykernel_launcher.py:31: SettingWithCopyWarning: \n",
      "A value is trying to be set on a copy of a slice from a DataFrame.\n",
      "Try using .loc[row_indexer,col_indexer] = value instead\n",
      "\n",
      "See the caveats in the documentation: http://pandas.pydata.org/pandas-docs/stable/indexing.html#indexing-view-versus-copy\n",
      "/usr/local/lib/python3.6/site-packages/ipykernel_launcher.py:32: SettingWithCopyWarning: \n",
      "A value is trying to be set on a copy of a slice from a DataFrame.\n",
      "Try using .loc[row_indexer,col_indexer] = value instead\n",
      "\n",
      "See the caveats in the documentation: http://pandas.pydata.org/pandas-docs/stable/indexing.html#indexing-view-versus-copy\n",
      "/usr/local/lib/python3.6/site-packages/ipykernel_launcher.py:34: SettingWithCopyWarning: \n",
      "A value is trying to be set on a copy of a slice from a DataFrame.\n",
      "Try using .loc[row_indexer,col_indexer] = value instead\n",
      "\n",
      "See the caveats in the documentation: http://pandas.pydata.org/pandas-docs/stable/indexing.html#indexing-view-versus-copy\n",
      "/usr/local/lib/python3.6/site-packages/ipykernel_launcher.py:35: SettingWithCopyWarning: \n",
      "A value is trying to be set on a copy of a slice from a DataFrame.\n",
      "Try using .loc[row_indexer,col_indexer] = value instead\n",
      "\n",
      "See the caveats in the documentation: http://pandas.pydata.org/pandas-docs/stable/indexing.html#indexing-view-versus-copy\n",
      "/usr/local/lib/python3.6/site-packages/ipykernel_launcher.py:36: SettingWithCopyWarning: \n",
      "A value is trying to be set on a copy of a slice from a DataFrame.\n",
      "Try using .loc[row_indexer,col_indexer] = value instead\n",
      "\n",
      "See the caveats in the documentation: http://pandas.pydata.org/pandas-docs/stable/indexing.html#indexing-view-versus-copy\n",
      "/usr/local/lib/python3.6/site-packages/ipykernel_launcher.py:41: SettingWithCopyWarning: \n",
      "A value is trying to be set on a copy of a slice from a DataFrame\n",
      "\n",
      "See the caveats in the documentation: http://pandas.pydata.org/pandas-docs/stable/indexing.html#indexing-view-versus-copy\n"
     ]
    }
   ],
   "source": [
    "# Transacted data only\n",
    "call_diff_time_writer=pd.ExcelWriter(writer_folder+\"Output_2_Five_Group_Call_to_Transactions\"+today_str+\".xlsx\",engine=\"xlsxwriter\")\n",
    "Call_to_Trans_Length=base_df_transacted.copy()\n",
    "Call_to_Trans_Length['Day_Length']=np.nan\n",
    "\n",
    "Call_to_Trans_Length_call=pd.DataFrame()\n",
    "Call_to_Trans_Length_online=pd.DataFrame()\n",
    "for i in range(len(Call_to_Trans_Length)):\n",
    "    buyer_list=Call_to_Trans_Length['buyer_list'][i]\n",
    "    df_trans=transaction_data_1st_Only[transaction_data_1st_Only['defined_buyer_id'].isin(buyer_list)]\n",
    "    df_trans['Trans_1st_Time_plust_1_hour']=df_trans['Date_Time'].apply(lambda x: x+datetime.timedelta(hours=1))\n",
    "    \n",
    "    df_trans_time=df_trans[['defined_buyer_id','Trans_1st_Time_plust_1_hour','Source']]\n",
    "    df_trans_time=df_trans_time.rename(columns={\"Trans_1st_Time_plust_1_hour\":\"Trans_Time_plus_1\"})\n",
    "    \n",
    "    df_call=unique_Transacted_phone_calls_matched[unique_Transacted_phone_calls_matched['defined_buyer_id'].isin(buyer_list)]\n",
    "    df_call=df_call[df_call['Call_Seq']==1]\n",
    "    df_call_time=df_call[['defined_buyer_id','Start_time']]\n",
    "    df_call_time=df_call_time.rename(columns={\"Start_time\":\"Call_First_Time\"})\n",
    "    if len(df_trans_time)!=len(df_trans_time):\n",
    "        print(i)\n",
    "    df_diff=pd.merge(df_call_time,df_trans_time,on=\"defined_buyer_id\",how='outer')\n",
    "    df_diff['Buyer_Group']='Call_Times_'+str(Call_to_Trans_Length['Call_Times'][i])\n",
    "    \n",
    "    \n",
    "    \n",
    "    df_diff_online=df_diff[df_diff['Source']==\"online\"]\n",
    "    df_diff_phone=df_diff[df_diff['Source']==\"phone\"]\n",
    "\n",
    "    df_diff_online['Diff_Time']=df_diff_online['Trans_Time_plus_1']-df_diff_online['Call_First_Time']\n",
    "    df_diff_online['Day_Length']=df_diff_online['Diff_Time'].apply(lambda x: x.days) #Use +1 Hour\n",
    "    df_diff_online['Source']='online'\n",
    "    \n",
    "    df_diff_phone['Diff_Time']=df_diff_phone['Trans_Time_plus_1']-df_diff_phone['Call_First_Time']\n",
    "    df_diff_phone['Day_Length']=df_diff_phone['Diff_Time'].apply(lambda x: x.days) #Use +1 Hour\n",
    "    df_diff_phone['Source']='phone'\n",
    "    \n",
    "    df_diff=df_diff_online.append(df_diff_phone)\n",
    "    df_diff.to_excel(call_diff_time_writer,\"group_freq_\"+str(i+1),index=False)\n",
    "    \n",
    "    Call_to_Trans_Length['Day_Length'][i]=df_diff['Day_Length'].mean()\n",
    "    \n",
    "    buyer_list_call=df_diff_phone['defined_buyer_id'].unique().tolist()\n",
    "    buyer_list_online=df_diff_online['defined_buyer_id'].unique().tolist()\n",
    "    \n",
    "    call_app=pd.DataFrame({\"Call_Times\":str(i+1),\"buyer_count\":len(buyer_list_call),\\\n",
    "                          \"buyer_list\":[buyer_list_call],\"Day_Length\":df_diff_phone['Day_Length'].mean()},index=[i])\n",
    "    online_app=pd.DataFrame({\"Call_Times\":str(i+1),\"buyer_count\":len(buyer_list_online),\\\n",
    "                          \"buyer_list\":[buyer_list_online],\"Day_Length\":df_diff_online['Day_Length'].mean()},index=[i])\n",
    "    Call_to_Trans_Length_call=Call_to_Trans_Length_call.append(call_app)\n",
    "    Call_to_Trans_Length_online=Call_to_Trans_Length_online.append(online_app)\n",
    "    \n",
    "    \n",
    "Call_to_Trans_Length.to_excel(call_diff_time_writer,\"avg_length_overall\",index=False)\n",
    "\n",
    "Call_to_Trans_Length_call['Call_Times']=Call_to_Trans_Length_call['Call_Times'].apply(lambda x: x.replace(\"5\",\"5+\"))\n",
    "Call_to_Trans_Length_online['Call_Times']=Call_to_Trans_Length_online['Call_Times'].apply(lambda x: x.replace(\"5\",\"5+\"))\n",
    "\n",
    "Call_to_Trans_Length_call.to_excel(call_diff_time_writer,\"avg_length_call\",index=False)\n",
    "Call_to_Trans_Length_online.to_excel(call_diff_time_writer,\"avg_length_online\",index=False)\n",
    "\n",
    "call_diff_time_writer.save()"
   ]
  },
  {
   "cell_type": "markdown",
   "metadata": {},
   "source": [
    "# Df_3 Weekday Call Volumes"
   ]
  },
  {
   "cell_type": "code",
   "execution_count": 104,
   "metadata": {},
   "outputs": [
    {
     "name": "stderr",
     "output_type": "stream",
     "text": [
      "/usr/local/lib/python3.6/site-packages/ipykernel_launcher.py:3: SettingWithCopyWarning: \n",
      "A value is trying to be set on a copy of a slice from a DataFrame.\n",
      "Try using .loc[row_indexer,col_indexer] = value instead\n",
      "\n",
      "See the caveats in the documentation: http://pandas.pydata.org/pandas-docs/stable/indexing.html#indexing-view-versus-copy\n",
      "  This is separate from the ipykernel package so we can avoid doing imports until\n",
      "/usr/local/lib/python3.6/site-packages/ipykernel_launcher.py:4: SettingWithCopyWarning: \n",
      "A value is trying to be set on a copy of a slice from a DataFrame.\n",
      "Try using .loc[row_indexer,col_indexer] = value instead\n",
      "\n",
      "See the caveats in the documentation: http://pandas.pydata.org/pandas-docs/stable/indexing.html#indexing-view-versus-copy\n",
      "  after removing the cwd from sys.path.\n",
      "/usr/local/lib/python3.6/site-packages/ipykernel_launcher.py:9: SettingWithCopyWarning: \n",
      "A value is trying to be set on a copy of a slice from a DataFrame.\n",
      "Try using .loc[row_indexer,col_indexer] = value instead\n",
      "\n",
      "See the caveats in the documentation: http://pandas.pydata.org/pandas-docs/stable/indexing.html#indexing-view-versus-copy\n",
      "  if __name__ == '__main__':\n",
      "/usr/local/lib/python3.6/site-packages/ipykernel_launcher.py:10: SettingWithCopyWarning: \n",
      "A value is trying to be set on a copy of a slice from a DataFrame.\n",
      "Try using .loc[row_indexer,col_indexer] = value instead\n",
      "\n",
      "See the caveats in the documentation: http://pandas.pydata.org/pandas-docs/stable/indexing.html#indexing-view-versus-copy\n",
      "  # Remove the CWD from sys.path while we load stuff.\n"
     ]
    }
   ],
   "source": [
    "weekday_call_df_non_trans=unique_non_transacted_phone_calls[['Phone_Num','Start_time','Call_Seq']]\n",
    "weekday_call_df_non_trans.columns=[\"Phone|Buyer\",\"Start_time_Call\",'Call_Seq']\n",
    "weekday_call_df_non_trans['weekday']=weekday_call_df_non_trans['Start_time_Call'].apply(lambda x: str(x.weekday()))\n",
    "weekday_call_df_non_trans['Day_of_Week']=weekday_call_df_non_trans['weekday'].apply(lambda x: x.replace(\"0\",\"Monday\").\\\n",
    "                                                                                    replace(\"1\",\"Tuesday\").replace(\"2\",\"Wednesday\").\\\n",
    "                                                                                   replace(\"3\",\"Thursday\").replace(\"4\",\"Friday\").\\\n",
    "                                                                                   replace(\"5\",\"Saturday\").replace(\"6\",\"Sunday\"))\n",
    "                                                                   \n",
    "                                                                   \n",
    "weekday_call_df_transacted=unique_Transacted_phone_calls_matched[['defined_buyer_id','Start_time','Call_Seq']]\n",
    "weekday_call_df_transacted.columns=[\"Phone|Buyer\",\"Start_time_Call\",'Call_Seq']\n",
    "weekday_call_df_transacted['weekday']=weekday_call_df_transacted['Start_time_Call'].apply(lambda x: str(x.weekday()))\n",
    "weekday_call_df_transacted['Day_of_Week']=weekday_call_df_transacted['weekday'].apply(lambda x: x.replace(\"0\",\"Monday\").\\\n",
    "                                                                                    replace(\"1\",\"Tuesday\").replace(\"2\",\"Wednesday\").\\\n",
    "                                                                                   replace(\"3\",\"Thursday\").replace(\"4\",\"Friday\").\\\n",
    "                                                                                   replace(\"5\",\"Saturday\").replace(\"6\",\"Sunday\"))\n",
    "\n",
    "weekday_call_df_both=weekday_call_df_non_trans.append(weekday_call_df_transacted)\n",
    "\n",
    "\n",
    "output_3_both=weekday_call_df_both.groupby(['weekday','Day_of_Week'])['Phone|Buyer'].count().to_frame().reset_index()\n",
    "output_3_both=output_3_both.rename(columns={\"Phone|Buyer\":\"Call_From_Both\"})\n",
    "output_3_transacted=weekday_call_df_transacted.groupby(['weekday','Day_of_Week'])['Phone|Buyer'].count().to_frame().reset_index()\n",
    "output_3_transacted=output_3_transacted.rename(columns={\"Phone|Buyer\":\"Call_From_Buyers\"})\n",
    "output_3_non_trans=weekday_call_df_non_trans.groupby(['weekday','Day_of_Week'])['Phone|Buyer'].count().to_frame().reset_index()\n",
    "output_3_non_trans=output_3_non_trans.rename(columns={\"Phone|Buyer\":\"Call_From_Non_Buyers\"})\n",
    "\n",
    "output_3_weekday_overll=pd.merge(output_3_transacted,output_3_non_trans,on=['weekday',\"Day_of_Week\"])\n",
    "output_3_weekday_overll=pd.merge(output_3_weekday_overll,output_3_both,on=['weekday',\"Day_of_Week\"])\n",
    "\n"
   ]
  },
  {
   "cell_type": "code",
   "execution_count": 105,
   "metadata": {
    "collapsed": true
   },
   "outputs": [],
   "source": [
    "# 3.1 Buyer \n",
    "weekday_group_buyer=pd.DataFrame(columns={'Buyer_List',\"Monday\",\"Tuesday\",\"Wednesday\",\"Thursday\",\"Friday\",\"Saturday\",\"Sunday\"},index=['1','2','3','4','5+'])\n",
    "weekday_group_buyer=weekday_group_buyer.reset_index()\n",
    "weekday_group_buyer=weekday_group_buyer.rename(columns={\"index\":\"Call_Times\"})\n",
    "weekday_group_buyer=weekday_group_buyer[['Call_Times','Buyer_List']+[\"Monday\",\"Tuesday\",\"Wednesday\",\"Thursday\",\"Friday\",\"Saturday\",\"Sunday\"]]\n",
    "\n",
    "for i in range(len(Transaced_df_summary)):\n",
    "    Buyer_List=Transaced_df_summary['buyer_list'][i]\n",
    "    df_call=unique_Transacted_phone_calls_matched[unique_Transacted_phone_calls_matched['defined_buyer_id'].isin(Buyer_List)][['defined_buyer_id','Start_time','Call_Seq']]\n",
    "    df_call.columns=[\"Phone|Buyer\",\"Start_time_Call\",'Call_Seq']\n",
    "    df_call['weekday']=df_call['Start_time_Call'].apply(lambda x: str(x.weekday()))\n",
    "    df_call['Day_of_Week']=df_call['weekday'].apply(lambda x: x.replace(\"0\",\"Monday\").\\\n",
    "                                                                                    replace(\"1\",\"Tuesday\").replace(\"2\",\"Wednesday\").\\\n",
    "                                                                                   replace(\"3\",\"Thursday\").replace(\"4\",\"Friday\").\\\n",
    "                                                                                   replace(\"5\",\"Saturday\").replace(\"6\",\"Sunday\"))\n",
    "    df_group_weekday=df_call.groupby(['Day_of_Week'])['Phone|Buyer'].count().to_frame().reset_index()\n",
    "    for weekday in [\"Monday\",\"Tuesday\",\"Wednesday\",\"Thursday\",\"Friday\",\"Saturday\",\"Sunday\"]:\n",
    "        weekday_group_buyer[weekday][i]=df_group_weekday[df_group_weekday['Day_of_Week']==weekday]['Phone|Buyer'].unique()[0]\n",
    "    weekday_group_buyer['Buyer_List'][i]=Buyer_List\n",
    "    \n",
    "weekday_group_buyer['Buyer_Count']=weekday_group_buyer['Buyer_List'].apply(lambda x: len(x))\n",
    "    "
   ]
  },
  {
   "cell_type": "code",
   "execution_count": 106,
   "metadata": {
    "collapsed": true,
    "scrolled": true
   },
   "outputs": [],
   "source": [
    "# 3.2 Non-Buyer \n",
    "\n",
    "weekday_group_non_buyer=pd.DataFrame(columns={'Phone_List',\"Monday\",\"Tuesday\",\"Wednesday\",\"Thursday\",\"Friday\",\"Saturday\",\"Sunday\"},index=['1','2','3','4','5+'])\n",
    "weekday_group_non_buyer=weekday_group_non_buyer.reset_index()\n",
    "weekday_group_non_buyer=weekday_group_non_buyer.rename(columns={\"index\":\"Call_Times\"})\n",
    "weekday_group_non_buyer=weekday_group_non_buyer[['Call_Times','Phone_List']+[\"Monday\",\"Tuesday\",\"Wednesday\",\"Thursday\",\"Friday\",\"Saturday\",\"Sunday\"]]\n",
    "\n",
    "for i in range(len(Non__Transacted_df_summary)):\n",
    "    Phone_List=Non__Transacted_df_summary['Non_Transacted_Phones'][i]\n",
    "    df_call=unique_non_transacted_phone_calls[unique_non_transacted_phone_calls['Phone_Num'].isin(Phone_List)][['Phone_Num','Start_time','Call_Seq']]\n",
    "    df_call.columns=[\"Phone|Buyer\",\"Start_time_Call\",'Call_Seq']\n",
    "    df_call['weekday']=df_call['Start_time_Call'].apply(lambda x: str(x.weekday()))\n",
    "    df_call['Day_of_Week']=df_call['weekday'].apply(lambda x: x.replace(\"0\",\"Monday\").\\\n",
    "                                                                                    replace(\"1\",\"Tuesday\").replace(\"2\",\"Wednesday\").\\\n",
    "                                                                                   replace(\"3\",\"Thursday\").replace(\"4\",\"Friday\").\\\n",
    "                                                                                   replace(\"5\",\"Saturday\").replace(\"6\",\"Sunday\"))\n",
    "    df_group_weekday=df_call.groupby(['Day_of_Week'])['Phone|Buyer'].count().to_frame().reset_index()\n",
    "    for weekday in [\"Monday\",\"Tuesday\",\"Wednesday\",\"Thursday\",\"Friday\",\"Saturday\",\"Sunday\"]:\n",
    "        weekday_group_non_buyer[weekday][i]=df_group_weekday[df_group_weekday['Day_of_Week']==weekday]['Phone|Buyer'].unique()[0]\n",
    "    weekday_group_non_buyer['Phone_List'][i]=Phone_List\n",
    "    \n",
    "weekday_group_non_buyer['Phone_Count']=weekday_group_non_buyer['Phone_List'].apply(lambda x: len(x))"
   ]
  },
  {
   "cell_type": "code",
   "execution_count": 107,
   "metadata": {},
   "outputs": [
    {
     "name": "stderr",
     "output_type": "stream",
     "text": [
      "/usr/local/lib/python3.6/site-packages/ipykernel_launcher.py:2: SettingWithCopyWarning: \n",
      "A value is trying to be set on a copy of a slice from a DataFrame.\n",
      "Try using .loc[row_indexer,col_indexer] = value instead\n",
      "\n",
      "See the caveats in the documentation: http://pandas.pydata.org/pandas-docs/stable/indexing.html#indexing-view-versus-copy\n",
      "  \n",
      "/usr/local/lib/python3.6/site-packages/ipykernel_launcher.py:5: SettingWithCopyWarning: \n",
      "A value is trying to be set on a copy of a slice from a DataFrame.\n",
      "Try using .loc[row_indexer,col_indexer] = value instead\n",
      "\n",
      "See the caveats in the documentation: http://pandas.pydata.org/pandas-docs/stable/indexing.html#indexing-view-versus-copy\n",
      "  \"\"\"\n",
      "/usr/local/lib/python3.6/site-packages/ipykernel_launcher.py:7: SettingWithCopyWarning: \n",
      "A value is trying to be set on a copy of a slice from a DataFrame\n",
      "\n",
      "See the caveats in the documentation: http://pandas.pydata.org/pandas-docs/stable/indexing.html#indexing-view-versus-copy\n",
      "  import sys\n",
      "/usr/local/lib/python3.6/site-packages/IPython/core/interactiveshell.py:2847: SettingWithCopyWarning: \n",
      "A value is trying to be set on a copy of a slice from a DataFrame\n",
      "\n",
      "See the caveats in the documentation: http://pandas.pydata.org/pandas-docs/stable/indexing.html#indexing-view-versus-copy\n",
      "  exec(code_obj, self.user_global_ns, self.user_ns)\n",
      "/usr/local/lib/python3.6/site-packages/ipykernel_launcher.py:10: SettingWithCopyWarning: \n",
      "A value is trying to be set on a copy of a slice from a DataFrame\n",
      "\n",
      "See the caveats in the documentation: http://pandas.pydata.org/pandas-docs/stable/indexing.html#indexing-view-versus-copy\n",
      "  # Remove the CWD from sys.path while we load stuff.\n"
     ]
    }
   ],
   "source": [
    "weekday_group_both=weekday_group_non_buyer[['Call_Times','Phone_List']]\n",
    "weekday_group_both['Buyer_List']=weekday_group_buyer['Buyer_List']\n",
    "\n",
    "for col in [\"Monday\",\"Tuesday\",\"Wednesday\",\"Thursday\",\"Friday\",\"Saturday\",\"Sunday\"]:\n",
    "    weekday_group_both[col]=np.nan\n",
    "    for i in range(len(weekday_group_both)):\n",
    "        weekday_group_both[col][i]=weekday_group_buyer[col][i]+weekday_group_non_buyer[col][i]\n",
    "weekday_group_both['id_count']=np.nan\n",
    "for i in range(len(weekday_group_both)):\n",
    "    weekday_group_both['id_count'][i]=weekday_group_buyer['Buyer_Count'][i]+weekday_group_non_buyer['Phone_Count'][i]"
   ]
  },
  {
   "cell_type": "code",
   "execution_count": 108,
   "metadata": {
    "collapsed": true
   },
   "outputs": [],
   "source": [
    "output_3_weekday_writer=pd.ExcelWriter(writer_folder+\"Output_3_Weekday_of_Calls_\"+today_str+\".xlsx\",engine=\"xlsxwriter\")\n",
    "output_3_weekday_overll.to_excel(output_3_weekday_writer,'weekday_overall_brief',index=False)\n",
    "weekday_group_buyer.to_excel(output_3_weekday_writer,'weekday_group_buyer',index=False)\n",
    "weekday_group_non_buyer.to_excel(output_3_weekday_writer,'weekday_group_non_buyer',index=False)\n",
    "weekday_group_both.to_excel(output_3_weekday_writer,'weekday_group_both',index=False)\n",
    "output_3_weekday_writer.save()\n"
   ]
  },
  {
   "cell_type": "markdown",
   "metadata": {},
   "source": [
    "# Df_4 Day_Hour Call Volumes"
   ]
  },
  {
   "cell_type": "code",
   "execution_count": 109,
   "metadata": {},
   "outputs": [
    {
     "name": "stderr",
     "output_type": "stream",
     "text": [
      "/usr/local/lib/python3.6/site-packages/ipykernel_launcher.py:3: SettingWithCopyWarning: \n",
      "A value is trying to be set on a copy of a slice from a DataFrame.\n",
      "Try using .loc[row_indexer,col_indexer] = value instead\n",
      "\n",
      "See the caveats in the documentation: http://pandas.pydata.org/pandas-docs/stable/indexing.html#indexing-view-versus-copy\n",
      "  This is separate from the ipykernel package so we can avoid doing imports until\n",
      "/usr/local/lib/python3.6/site-packages/ipykernel_launcher.py:7: SettingWithCopyWarning: \n",
      "A value is trying to be set on a copy of a slice from a DataFrame.\n",
      "Try using .loc[row_indexer,col_indexer] = value instead\n",
      "\n",
      "See the caveats in the documentation: http://pandas.pydata.org/pandas-docs/stable/indexing.html#indexing-view-versus-copy\n",
      "  import sys\n"
     ]
    }
   ],
   "source": [
    "hour_call_df_non_trans=unique_non_transacted_phone_calls[['Phone_Num','Start_time','Call_Seq']]\n",
    "hour_call_df_non_trans.columns=[\"Phone|Buyer\",\"Start_time_Call\",'Call_Seq']\n",
    "hour_call_df_non_trans['Hour']=hour_call_df_non_trans['Start_time_Call'].apply(lambda x: str(x.hour))\n",
    "                                                                  \n",
    "hour_call_df_transacted=unique_Transacted_phone_calls_matched[['defined_buyer_id','Start_time','Call_Seq']]\n",
    "hour_call_df_transacted.columns=[\"Phone|Buyer\",\"Start_time_Call\",'Call_Seq']\n",
    "hour_call_df_transacted['Hour']=hour_call_df_transacted['Start_time_Call'].apply(lambda x: str(x.hour))\n",
    "\n",
    "hour_call_df_both=hour_call_df_non_trans.append(hour_call_df_transacted)\n",
    "\n",
    "\n",
    "output_4_both=hour_call_df_both.groupby(['Hour'])['Phone|Buyer'].count().to_frame().reset_index()\n",
    "output_4_both=output_4_both.rename(columns={\"Phone|Buyer\":\"Call_From_Both\"})\n",
    "output_4_transacted=hour_call_df_transacted.groupby(['Hour'])['Phone|Buyer'].count().to_frame().reset_index()\n",
    "output_4_transacted=output_4_transacted.rename(columns={\"Phone|Buyer\":\"Call_From_Buyers\"})\n",
    "output_4_non_trans=hour_call_df_non_trans.groupby(['Hour'])['Phone|Buyer'].count().to_frame().reset_index()\n",
    "output_4_non_trans=output_4_non_trans.rename(columns={\"Phone|Buyer\":\"Call_From_Non_Buyers\"})\n",
    "\n",
    "output_4_hour_overll=pd.merge(output_4_transacted,output_4_non_trans,on=['Hour'])\n",
    "output_4_hour_overll=pd.merge(output_4_hour_overll,output_4_both,on=['Hour'])\n",
    "output_4_hour_overll['Hour']=output_4_hour_overll['Hour'].astype(int)\n",
    "output_4_hour_overll=output_4_hour_overll.sort_values(\"Hour\")\n",
    "output_4_hour_overll=output_4_hour_overll.reset_index()\n",
    "del output_4_hour_overll['index']"
   ]
  },
  {
   "cell_type": "code",
   "execution_count": 110,
   "metadata": {
    "collapsed": true
   },
   "outputs": [],
   "source": [
    "# 4.1 Buyer \n",
    "hour_group_buyer=pd.DataFrame(columns=set(['Buyer_List']+[str(x) for x in range(24)]),index=['1','2','3','4','5+'])\n",
    "hour_group_buyer=hour_group_buyer.reset_index()\n",
    "hour_group_buyer=hour_group_buyer.rename(columns={\"index\":\"Call_Times\"})\n",
    "hour_group_buyer=hour_group_buyer[['Call_Times','Buyer_List']+[str(x) for x in range(24)]]\n",
    "\n",
    "for i in range(len(Transaced_df_summary)):\n",
    "    Buyer_List=Transaced_df_summary['buyer_list'][i]\n",
    "    df_call=unique_Transacted_phone_calls_matched[unique_Transacted_phone_calls_matched['defined_buyer_id'].isin(Buyer_List)][['defined_buyer_id','Start_time','Call_Seq']]\n",
    "    df_call.columns=[\"Phone|Buyer\",\"Start_time_Call\",'Call_Seq']\n",
    "    df_call['Hour']=df_call['Start_time_Call'].apply(lambda x: str(x.hour))\n",
    "    df_group_hour=df_call.groupby(['Hour'])['Phone|Buyer'].count().to_frame().reset_index()\n",
    "    \n",
    "    for hour in [str(x) for x in range(24)]:\n",
    "        try:\n",
    "            hour_group_calls=df_group_hour[df_group_hour['Hour']==hour]['Phone|Buyer'].unique()[0]\n",
    "        \n",
    "        except:\n",
    "            hour_group_calls=0\n",
    "        \n",
    "        hour_group_buyer[hour][i]=hour_group_calls\n",
    "    hour_group_buyer['Buyer_List'][i]=Buyer_List\n",
    "    \n",
    "hour_group_buyer['Buyer_Count']=hour_group_buyer['Buyer_List'].apply(lambda x: len(x))"
   ]
  },
  {
   "cell_type": "code",
   "execution_count": 111,
   "metadata": {
    "collapsed": true
   },
   "outputs": [],
   "source": [
    "# 4.2 Non-Buyer \n",
    "\n",
    "hour_group_non_buyer=pd.DataFrame(columns=set(['Phone_List']+[str(x) for x in range(24)]),index=['1','2','3','4','5+'])\n",
    "hour_group_non_buyer=hour_group_non_buyer.reset_index()\n",
    "hour_group_non_buyer=hour_group_non_buyer.rename(columns={\"index\":\"Call_Times\"})\n",
    "hour_group_non_buyer=hour_group_non_buyer[['Call_Times','Phone_List']+[str(x) for x in range(24)]]\n",
    "\n",
    "for i in range(len(Non__Transacted_df_summary)):\n",
    "    Phone_List=Non__Transacted_df_summary['Non_Transacted_Phones'][i]\n",
    "    df_call=unique_non_transacted_phone_calls[unique_non_transacted_phone_calls['Phone_Num'].isin(Phone_List)][['Phone_Num','Start_time','Call_Seq']]\n",
    "    df_call.columns=[\"Phone|Buyer\",\"Start_time_Call\",'Call_Seq']\n",
    "    df_call['Hour']=df_call['Start_time_Call'].apply(lambda x: str(x.hour))\n",
    "    \n",
    "    df_group_hour=df_call.groupby(['Hour'])['Phone|Buyer'].count().to_frame().reset_index()\n",
    "    for hour in [str(x) for x in range(24)]:\n",
    "        hour_group_non_buyer[hour][i]=df_group_hour[df_group_hour['Hour']==hour]['Phone|Buyer'].unique()[0]\n",
    "    hour_group_non_buyer['Phone_List'][i]=Phone_List\n",
    "    \n",
    "hour_group_non_buyer['Phone_Count']=hour_group_non_buyer['Phone_List'].apply(lambda x: len(x))"
   ]
  },
  {
   "cell_type": "code",
   "execution_count": 112,
   "metadata": {},
   "outputs": [
    {
     "name": "stderr",
     "output_type": "stream",
     "text": [
      "/usr/local/lib/python3.6/site-packages/ipykernel_launcher.py:2: SettingWithCopyWarning: \n",
      "A value is trying to be set on a copy of a slice from a DataFrame.\n",
      "Try using .loc[row_indexer,col_indexer] = value instead\n",
      "\n",
      "See the caveats in the documentation: http://pandas.pydata.org/pandas-docs/stable/indexing.html#indexing-view-versus-copy\n",
      "  \n",
      "/usr/local/lib/python3.6/site-packages/ipykernel_launcher.py:5: SettingWithCopyWarning: \n",
      "A value is trying to be set on a copy of a slice from a DataFrame.\n",
      "Try using .loc[row_indexer,col_indexer] = value instead\n",
      "\n",
      "See the caveats in the documentation: http://pandas.pydata.org/pandas-docs/stable/indexing.html#indexing-view-versus-copy\n",
      "  \"\"\"\n",
      "/usr/local/lib/python3.6/site-packages/ipykernel_launcher.py:7: SettingWithCopyWarning: \n",
      "A value is trying to be set on a copy of a slice from a DataFrame\n",
      "\n",
      "See the caveats in the documentation: http://pandas.pydata.org/pandas-docs/stable/indexing.html#indexing-view-versus-copy\n",
      "  import sys\n",
      "/usr/local/lib/python3.6/site-packages/IPython/core/interactiveshell.py:2847: SettingWithCopyWarning: \n",
      "A value is trying to be set on a copy of a slice from a DataFrame\n",
      "\n",
      "See the caveats in the documentation: http://pandas.pydata.org/pandas-docs/stable/indexing.html#indexing-view-versus-copy\n",
      "  exec(code_obj, self.user_global_ns, self.user_ns)\n",
      "/usr/local/lib/python3.6/site-packages/ipykernel_launcher.py:10: SettingWithCopyWarning: \n",
      "A value is trying to be set on a copy of a slice from a DataFrame\n",
      "\n",
      "See the caveats in the documentation: http://pandas.pydata.org/pandas-docs/stable/indexing.html#indexing-view-versus-copy\n",
      "  # Remove the CWD from sys.path while we load stuff.\n"
     ]
    }
   ],
   "source": [
    "hour_group_both=hour_group_non_buyer[['Call_Times','Phone_List']]\n",
    "hour_group_both['Buyer_List']=hour_group_buyer['Buyer_List']\n",
    "\n",
    "for col in [str(x) for x in range(24)]:\n",
    "    hour_group_both[col]=np.nan\n",
    "    for i in range(len(hour_group_both)):\n",
    "        hour_group_both[col][i]=hour_group_buyer[col][i]+hour_group_non_buyer[col][i]\n",
    "hour_group_both['id_count']=np.nan\n",
    "for i in range(len(hour_group_both)):\n",
    "    hour_group_both['id_count'][i]=hour_group_buyer['Buyer_Count'][i]+hour_group_non_buyer['Phone_Count'][i]"
   ]
  },
  {
   "cell_type": "code",
   "execution_count": 113,
   "metadata": {
    "collapsed": true
   },
   "outputs": [],
   "source": [
    "output_4_hour_writer=pd.ExcelWriter(writer_folder+\"Output_4_hour_of_Calls_\"+today_str+\".xlsx\",engine=\"xlsxwriter\")\n",
    "output_4_hour_overll.to_excel(output_4_hour_writer,'hour_overall_brief',index=False)\n",
    "hour_group_buyer.to_excel(output_4_hour_writer,'hour_group_buyer',index=False)\n",
    "hour_group_non_buyer.to_excel(output_4_hour_writer,'hour_group_non_buyer',index=False)\n",
    "hour_group_both.to_excel(output_4_hour_writer,'hour_group_both',index=False)\n",
    "output_4_hour_writer.save()"
   ]
  },
  {
   "cell_type": "markdown",
   "metadata": {},
   "source": [
    "# Df_5 DMA Summary"
   ]
  },
  {
   "cell_type": "code",
   "execution_count": 114,
   "metadata": {
    "collapsed": true
   },
   "outputs": [],
   "source": [
    "Buyer_DMA=transaction_data_1st_Only[['defined_buyer_id','zip_cd']]\n",
    "transacted_phone_DMA=unique_Transacted_phone_calls_matched[['defined_buyer_id','Source','Start_time']]\n",
    "transacted_phone_DMA=pd.merge(transacted_phone_DMA,Buyer_DMA,on=\"defined_buyer_id\",how=\"left\")\n",
    "transacted_phone_DMA=pd.merge(transacted_phone_DMA,zip_DMA,on=\"zip_cd\",how=\"left\")\n",
    "transacted_phone_DMA['DMA']=transacted_phone_DMA['DMA'].fillna(\"non-US\")\n",
    "transacted_phone_DMA_total_calls=transacted_phone_DMA.groupby(['DMA','Source'])['Start_time'].count().to_frame().reset_index()\n",
    "transacted_phone_DMA_total_calls=transacted_phone_DMA_total_calls.rename(columns={\"Start_time\":\"Total_Transacted_Call_Count\"})\n",
    "\n",
    "transacted_phone_DMA_buyer_count=transacted_phone_DMA.groupby(['DMA','Source'])['defined_buyer_id'].apply(lambda x: len(set(x))).to_frame().reset_index()\n",
    "transacted_phone_DMA_buyer_count=transacted_phone_DMA_buyer_count.rename(columns={\"defined_buyer_id\":\"Buyer_Count\"})\n",
    "\n",
    "transacted_phone_DMA_both=pd.merge(transacted_phone_DMA_total_calls,transacted_phone_DMA_buyer_count,on=[\"DMA\",'Source'])\n",
    "transacted_phone_phone=transacted_phone_DMA_both[transacted_phone_DMA_both['Source']==\"phone\"]\n",
    "transacted_phone_online=transacted_phone_DMA_both[transacted_phone_DMA_both['Source']==\"online\"]\n",
    "transacted_phone_DMA_agg_both=transacted_phone_DMA_both.groupby(['DMA'])['Total_Transacted_Call_Count','Buyer_Count'].sum().reset_index()\n",
    "\n"
   ]
  },
  {
   "cell_type": "code",
   "execution_count": 115,
   "metadata": {
    "collapsed": true
   },
   "outputs": [],
   "source": [
    "every_transaction_DMA=pd.merge(transaction_data_both,zip_DMA,on='zip_cd',how=\"left\")\n",
    "every_transaction_DMA['DMA']=every_transaction_DMA['DMA'].fillna(\"non-US\")\n",
    "every_transaction_DMA_both=every_transaction_DMA.groupby(['DMA'])['Order_id'].count().to_frame().reset_index()\n",
    "every_transaction_DMA_both=every_transaction_DMA_both.rename(columns={\"Order_id\":\"Every_Single_Order_Count\"})\n",
    "\n",
    "every_transaction_DMA_Phone=every_transaction_DMA[every_transaction_DMA['Source']=='phone']\n",
    "every_transaction_DMA_Phone=every_transaction_DMA_Phone.groupby(['DMA'])['Order_id'].count().to_frame().reset_index()\n",
    "every_transaction_DMA_Phone=every_transaction_DMA_Phone.rename(columns={\"Order_id\":\"Every_Phone_Order_Count\"})\n",
    "\n",
    "\n",
    "every_transaction_DMA_Online=every_transaction_DMA[every_transaction_DMA['Source']=='online']\n",
    "every_transaction_DMA_Online=every_transaction_DMA_Online.groupby(['DMA'])['Order_id'].count().to_frame().reset_index()\n",
    "every_transaction_DMA_Online=every_transaction_DMA_Online.rename(columns={\"Order_id\":\"Every_Online_Order_Count\"})\n",
    "\n"
   ]
  },
  {
   "cell_type": "code",
   "execution_count": 116,
   "metadata": {
    "collapsed": true
   },
   "outputs": [],
   "source": [
    "output_5_DMA_writer=pd.ExcelWriter(writer_folder+\"Output_5_DMA_of_Calls_\"+today_str+\".xlsx\",engine=\"xlsxwriter\")\n",
    "\n",
    "transacted_phone_DMA_agg_both.to_excel(output_5_DMA_writer,'transacted_phone_DMA_agg_both',index=False)\n",
    "transacted_phone_phone.to_excel(output_5_DMA_writer,'transacted_phone_phone',index=False)\n",
    "transacted_phone_online.to_excel(output_5_DMA_writer,'transacted_phone_online',index=False)\n",
    "\n",
    "every_transaction_DMA_both.to_excel(output_5_DMA_writer,'every_transaction_DMA_both',index=False)\n",
    "every_transaction_DMA_Phone.to_excel(output_5_DMA_writer,'every_transaction_DMA_Phone',index=False)\n",
    "every_transaction_DMA_Online.to_excel(output_5_DMA_writer,'every_transaction_DMA_Online',index=False)\n",
    "\n",
    "output_5_DMA_writer.save()"
   ]
  },
  {
   "cell_type": "markdown",
   "metadata": {},
   "source": [
    "# Df_6 Memorial Week Comparison"
   ]
  },
  {
   "cell_type": "code",
   "execution_count": 117,
   "metadata": {
    "collapsed": true
   },
   "outputs": [],
   "source": [
    "# Memorial Week Range = (2018,5,24) (2018,6,3)\n",
    "# Prior Week Range = (2018,5,10) (2018,6,20)\n",
    "start_date_prior_week=datetime.date(2018,5,10)\n",
    "end_date_prior_week=datetime.date(2018,5,20)\n",
    "\n",
    "start_date_memorial_week=datetime.date(2018,5,24)\n",
    "end_date_memorial_week=datetime.date(2018,6,3)"
   ]
  },
  {
   "cell_type": "code",
   "execution_count": 118,
   "metadata": {
    "collapsed": true
   },
   "outputs": [],
   "source": [
    "# To correct the error about more buyers than trans\n",
    "# To coorect unique non transacted calls\n",
    "def Time_Range_Transacted_Summary_Table(df_input,start_time,end_time):\n",
    "    df_unique_matched_trans_calls=df_input[(df_input['Start_time']>=start_time) & (df_input['Start_time']<end_time+datetime.timedelta(days=1))]\n",
    "    Transacted_Call_Freq_by_buyers=df_unique_matched_trans_calls.groupby(['defined_buyer_id'])['Start_time'].count().to_frame().reset_index()\n",
    "    Transacted_Call_Freq_by_buyers=Transacted_Call_Freq_by_buyers.rename(columns={\"Start_time\":\"Call_Times\"})\n",
    "\n",
    "    Transacted_Call_Freq_by_buyers_1_to_4=Transacted_Call_Freq_by_buyers[Transacted_Call_Freq_by_buyers['Call_Times']<=4]\n",
    "    Transacted_Call_Freq_by_buyers_5_plus=Transacted_Call_Freq_by_buyers[Transacted_Call_Freq_by_buyers['Call_Times']>4]\n",
    "\n",
    "    df_1=Transacted_Call_Freq_by_buyers_1_to_4.groupby(['Call_Times'])['defined_buyer_id'].apply(list).to_frame().reset_index()\n",
    "    df_1=df_1.rename(columns={\"defined_buyer_id\":\"buyer_list\"})\n",
    "\n",
    "    df_2=Transacted_Call_Freq_by_buyers_1_to_4.groupby(['Call_Times'])['defined_buyer_id'].count().to_frame().reset_index()\n",
    "    df_2=df_2.rename(columns={\"defined_buyer_id\":\"buyer_count\"})\n",
    "\n",
    "    df_buyer=pd.merge(df_1,df_2,on=\"Call_Times\",how=\"outer\")\n",
    "    \n",
    "    df_5_plus_app=pd.DataFrame({\"Call_Times\":\"5+\",\"buyer_list\":[Transacted_Call_Freq_by_buyers_5_plus['defined_buyer_id'].unique().tolist()],\"buyer_count\":len(Transacted_Call_Freq_by_buyers_5_plus['defined_buyer_id'].unique().tolist())},index=[4])\n",
    "    df_buyer=df_buyer.append(df_5_plus_app)\n",
    "    \n",
    "    \n",
    "    # 1. Transacted\n",
    "    Transaced_df_summary=df_buyer.copy()\n",
    "    Transaced_df_summary['Total_Buyer']=np.nan\n",
    "    Transaced_df_summary['Phone_Buyer']=np.nan\n",
    "    Transaced_df_summary['Online_Buyer']=np.nan\n",
    "\n",
    "    Transaced_df_summary['Total_Trans']=np.nan\n",
    "    Transaced_df_summary['Phone_Trans']=np.nan\n",
    "    Transaced_df_summary['Online_Trans']=np.nan\n",
    "\n",
    "    Transaced_df_summary['Total_Transacted_Calls']=np.nan\n",
    "\n",
    "    # Use 1st Time Transaction only : transaction_data_1st_Only\n",
    "    # Because use the 1st time transaction, the total equals to the sum of both sources\n",
    "    transaction_data_range=transaction_data[(transaction_data['Date_Time']>=start_time) & (transaction_data['Date_Time']<end_time+datetime.timedelta(days=1))]\n",
    "    for i in range(5):\n",
    "        buyer_list=Transaced_df_summary['buyer_list'][i]\n",
    "        df_trans=transaction_data_range[transaction_data_range['defined_buyer_id'].isin(buyer_list)]\n",
    "        type_of_order_order=df_trans.groupby(['Source'])['Order_id'].count().to_frame().reset_index()\n",
    "\n",
    "        try:\n",
    "            phone_trans_order=type_of_order_order[type_of_order_order['Source']==\"phone\"]['Order_id'].unique()[0]\n",
    "        except:\n",
    "            phone_trans_order=0\n",
    "        try:\n",
    "            online_trans_order=type_of_order_order[type_of_order_order['Source']==\"online\"]['Order_id'].unique()[0]\n",
    "        except:\n",
    "            online_trans_order=0\n",
    "        both_trans_order=len(df_trans['Order_id'].unique())\n",
    "        \n",
    "        transaction_data_1st_Only_range=transaction_data_1st_Only[(transaction_data_1st_Only['Date_Time']>=start_time) &\\\n",
    "                                                                 (transaction_data_1st_Only['Date_Time']<end_time+datetime.timedelta(days=1))]\n",
    "        df=transaction_data_1st_Only_range[transaction_data_1st_Only_range['defined_buyer_id'].isin(buyer_list)]\n",
    "        type_of_order_buyer=df.groupby(['Source'])['defined_buyer_id'].apply(lambda x: len(x.unique())).to_frame().reset_index()\n",
    "        \n",
    "        try:\n",
    "            phone_trans_buyer=type_of_order_buyer[type_of_order_buyer['Source']==\"phone\"]['defined_buyer_id'].unique()[0]\n",
    "        except:\n",
    "            phone_trans_buyer=0\n",
    "        try:\n",
    "            online_trans_buyer=type_of_order_buyer[type_of_order_buyer['Source']==\"online\"]['defined_buyer_id'].unique()[0]\n",
    "        except:\n",
    "            online_trans_buyer=0\n",
    "        both_trans_buyer=len(df['Order_id'].unique())\n",
    "\n",
    "\n",
    "        Transaced_df_summary['Phone_Trans'][i]=phone_trans_order\n",
    "        Transaced_df_summary['Online_Trans'][i]=online_trans_order\n",
    "        Transaced_df_summary['Total_Trans'][i]=both_trans_order\n",
    "\n",
    "        Transaced_df_summary['Phone_Buyer'][i]=phone_trans_buyer\n",
    "        Transaced_df_summary['Online_Buyer'][i]=online_trans_buyer\n",
    "        Transaced_df_summary['Total_Buyer'][i]=both_trans_buyer\n",
    "\n",
    "        df_total_call=df_unique_matched_trans_calls[df_unique_matched_trans_calls['defined_buyer_id'].isin(buyer_list)]\n",
    "        total_calls=len(df_total_call)\n",
    "        Transaced_df_summary['Total_Transacted_Calls'][i]=total_calls\n",
    "\n",
    "    Transaced_df_summary=Transaced_df_summary[['Call_Times','buyer_count','buyer_list','Total_Transacted_Calls','Phone_Trans','Online_Trans','Total_Trans',\n",
    "                                              'Phone_Buyer','Online_Buyer','Total_Buyer']]\n",
    "    return Transaced_df_summary\n",
    "    "
   ]
  },
  {
   "cell_type": "code",
   "execution_count": 119,
   "metadata": {
    "collapsed": true
   },
   "outputs": [],
   "source": [
    "#2. Non Buyers\n",
    "def Time_Range_Non_Transacted_Summary_Table(df_input,start_time,end_time):\n",
    "    unique_non_transacted_phone_calls_range=df_input[(df_input['Start_time']>=start_time) & (df_input['Start_time']<end_time+datetime.timedelta(days=1))]\n",
    "\n",
    "    Non__Transacted_df_summary_count=unique_non_transacted_phone_calls_range.groupby(['Phone_Num'])['Start_time'].count().to_frame().reset_index()\n",
    "    # exclusions_non_transactions=Non__Transacted_df_summary_count[Non__Transacted_df_summary_count['Start_time']>=100]\n",
    "    # Non__Transacted_df_summary_count=Non__Transacted_df_summary_count[Non__Transacted_df_summary_count['Start_time']<100]\n",
    "\n",
    "\n",
    "    Non__Transacted_df_summary_list=Non__Transacted_df_summary_count.groupby(['Start_time'])['Phone_Num'].apply(list).to_frame().reset_index()\n",
    "    Non__Transacted_df_summary_list=Non__Transacted_df_summary_list.rename(columns={\"Start_time\":\"Call_Times\",\"Phone_Num\":\"Non_Transacted_Phones\"})\n",
    "\n",
    "    Non__Transacted_df_summary_list_1_4=Non__Transacted_df_summary_list[Non__Transacted_df_summary_list['Call_Times']<=4]\n",
    "\n",
    "    Non__Transacted_df_summary_list_5_Plus_list_Phone=Non__Transacted_df_summary_count[Non__Transacted_df_summary_count['Start_time']>=5]['Phone_Num'].unique().tolist()\n",
    "    Non__Transacted_df_summary=Non__Transacted_df_summary_list_1_4.append(pd.DataFrame({\"Call_Times\":\"5+\",\"Non_Transacted_Phones\":[Non__Transacted_df_summary_list_5_Plus_list_Phone]}))\n",
    "    Non__Transacted_df_summary['Non_Transacted_Calls']=np.nan\n",
    "\n",
    "    Non__Transacted_df_summary=Non__Transacted_df_summary.reset_index()\n",
    "    del Non__Transacted_df_summary['index']\n",
    "    for i in range(len(Non__Transacted_df_summary)):\n",
    "        phone_list=Non__Transacted_df_summary['Non_Transacted_Phones'][i]\n",
    "        df=unique_non_transacted_phone_calls_range[unique_non_transacted_phone_calls_range['Phone_Num'].isin(phone_list)]\n",
    "        counts=len(df)\n",
    "        Non__Transacted_df_summary['Non_Transacted_Calls'][i]=counts\n",
    "    Non__Transacted_df_summary['Unique_Non_Trancted_Call_Count']=Non__Transacted_df_summary['Non_Transacted_Phones'].apply(len)\n",
    "    return Non__Transacted_df_summary"
   ]
  },
  {
   "cell_type": "code",
   "execution_count": 120,
   "metadata": {
    "scrolled": true
   },
   "outputs": [
    {
     "name": "stderr",
     "output_type": "stream",
     "text": [
      "/usr/local/lib/python3.6/site-packages/ipykernel_launcher.py:68: SettingWithCopyWarning: \n",
      "A value is trying to be set on a copy of a slice from a DataFrame\n",
      "\n",
      "See the caveats in the documentation: http://pandas.pydata.org/pandas-docs/stable/indexing.html#indexing-view-versus-copy\n",
      "/usr/local/lib/python3.6/site-packages/ipykernel_launcher.py:69: SettingWithCopyWarning: \n",
      "A value is trying to be set on a copy of a slice from a DataFrame\n",
      "\n",
      "See the caveats in the documentation: http://pandas.pydata.org/pandas-docs/stable/indexing.html#indexing-view-versus-copy\n",
      "/usr/local/lib/python3.6/site-packages/ipykernel_launcher.py:70: SettingWithCopyWarning: \n",
      "A value is trying to be set on a copy of a slice from a DataFrame\n",
      "\n",
      "See the caveats in the documentation: http://pandas.pydata.org/pandas-docs/stable/indexing.html#indexing-view-versus-copy\n",
      "/usr/local/lib/python3.6/site-packages/ipykernel_launcher.py:72: SettingWithCopyWarning: \n",
      "A value is trying to be set on a copy of a slice from a DataFrame\n",
      "\n",
      "See the caveats in the documentation: http://pandas.pydata.org/pandas-docs/stable/indexing.html#indexing-view-versus-copy\n",
      "/usr/local/lib/python3.6/site-packages/ipykernel_launcher.py:73: SettingWithCopyWarning: \n",
      "A value is trying to be set on a copy of a slice from a DataFrame\n",
      "\n",
      "See the caveats in the documentation: http://pandas.pydata.org/pandas-docs/stable/indexing.html#indexing-view-versus-copy\n",
      "/usr/local/lib/python3.6/site-packages/ipykernel_launcher.py:74: SettingWithCopyWarning: \n",
      "A value is trying to be set on a copy of a slice from a DataFrame\n",
      "\n",
      "See the caveats in the documentation: http://pandas.pydata.org/pandas-docs/stable/indexing.html#indexing-view-versus-copy\n",
      "/usr/local/lib/python3.6/site-packages/ipykernel_launcher.py:78: SettingWithCopyWarning: \n",
      "A value is trying to be set on a copy of a slice from a DataFrame\n",
      "\n",
      "See the caveats in the documentation: http://pandas.pydata.org/pandas-docs/stable/indexing.html#indexing-view-versus-copy\n",
      "/usr/local/lib/python3.6/site-packages/ipykernel_launcher.py:25: SettingWithCopyWarning: \n",
      "A value is trying to be set on a copy of a slice from a DataFrame\n",
      "\n",
      "See the caveats in the documentation: http://pandas.pydata.org/pandas-docs/stable/indexing.html#indexing-view-versus-copy\n"
     ]
    }
   ],
   "source": [
    "memorial_transacted=Time_Range_Transacted_Summary_Table(unique_Transacted_phone_calls_matched,start_date_memorial_week,end_date_memorial_week)\n",
    "memorial_non_transacted=Time_Range_Non_Transacted_Summary_Table(unique_non_transacted_phone_calls,start_date_memorial_week,end_date_memorial_week)\n",
    "memorial_week=pd.merge(memorial_transacted,memorial_non_transacted,on='Call_Times',how=\"left\")\n",
    "\n",
    "prior_transacted=Time_Range_Transacted_Summary_Table(unique_Transacted_phone_calls_matched,start_date_prior_week,end_date_prior_week)\n",
    "prior_non_transacted=Time_Range_Non_Transacted_Summary_Table(unique_non_transacted_phone_calls,start_date_prior_week,end_date_prior_week)\n",
    "prior_week=pd.merge(prior_transacted,prior_non_transacted,on='Call_Times',how=\"left\")\n",
    "\n"
   ]
  },
  {
   "cell_type": "code",
   "execution_count": 121,
   "metadata": {
    "collapsed": true
   },
   "outputs": [],
   "source": [
    "df_6_writer=pd.ExcelWriter(writer_folder+\"Output_6_Memorial_Week_Comparison_\"+today_str+\".xlsx\",engine='xlsxwriter')\n",
    "memorial_week.to_excel(df_6_writer,\"memorial_week\",index=False)\n",
    "prior_week.to_excel(df_6_writer,\"prior_week\",index=False)\n",
    "df_6_writer.save()"
   ]
  },
  {
   "cell_type": "code",
   "execution_count": null,
   "metadata": {
    "collapsed": true
   },
   "outputs": [],
   "source": []
  },
  {
   "cell_type": "code",
   "execution_count": null,
   "metadata": {
    "collapsed": true
   },
   "outputs": [],
   "source": []
  },
  {
   "cell_type": "code",
   "execution_count": null,
   "metadata": {
    "collapsed": true
   },
   "outputs": [],
   "source": []
  }
 ],
 "metadata": {
  "kernelspec": {
   "display_name": "Python 3",
   "language": "python",
   "name": "python3"
  },
  "language_info": {
   "codemirror_mode": {
    "name": "ipython",
    "version": 3
   },
   "file_extension": ".py",
   "mimetype": "text/x-python",
   "name": "python",
   "nbconvert_exporter": "python",
   "pygments_lexer": "ipython3",
   "version": "3.6.1"
  }
 },
 "nbformat": 4,
 "nbformat_minor": 2
}
