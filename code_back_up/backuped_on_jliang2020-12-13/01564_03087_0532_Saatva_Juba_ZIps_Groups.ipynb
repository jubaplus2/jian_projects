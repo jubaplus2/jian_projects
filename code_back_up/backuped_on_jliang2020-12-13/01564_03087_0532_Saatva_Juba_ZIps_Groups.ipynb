{
 "cells": [
  {
   "cell_type": "code",
   "execution_count": 1,
   "metadata": {
    "collapsed": true
   },
   "outputs": [],
   "source": [
    "import pandas as pd\n",
    "import zipcodes\n",
    "import numpy as np\n",
    "import datetime"
   ]
  },
  {
   "cell_type": "markdown",
   "metadata": {},
   "source": [
    "# Demo by zip"
   ]
  },
  {
   "cell_type": "code",
   "execution_count": 20,
   "metadata": {},
   "outputs": [
    {
     "data": {
      "text/plain": [
       "2"
      ]
     },
     "execution_count": 20,
     "metadata": {},
     "output_type": "execute_result"
    }
   ],
   "source": [
    "# HH above>25\n",
    "# HH meidan income\n",
    "1+1"
   ]
  },
  {
   "cell_type": "code",
   "execution_count": 3,
   "metadata": {
    "collapsed": true
   },
   "outputs": [],
   "source": [
    "EASI_A_Income=pd.read_csv(\"/home/jian/Docs/EASI/2018-07-19/ZIP4_18_DATA_A2_CSV/ZIP4_18_DATA_A2.CSV\",skiprows=1,\n",
    "                 dtype=str,usecols=['ZIP_CODE','ZIP4','HH18','MEDHHINC'])"
   ]
  },
  {
   "cell_type": "code",
   "execution_count": 4,
   "metadata": {
    "collapsed": true
   },
   "outputs": [],
   "source": [
    "EASI_A_Income['HH18']=EASI_A_Income['HH18'].astype(float)\n",
    "EASI_A_Income['MEDHHINC']=EASI_A_Income['MEDHHINC'].astype(float)"
   ]
  },
  {
   "cell_type": "code",
   "execution_count": 5,
   "metadata": {},
   "outputs": [
    {
     "name": "stderr",
     "output_type": "stream",
     "text": [
      "/usr/local/lib/python3.6/site-packages/ipykernel_launcher.py:5: SettingWithCopyWarning: \n",
      "A value is trying to be set on a copy of a slice from a DataFrame.\n",
      "Try using .loc[row_indexer,col_indexer] = value instead\n",
      "\n",
      "See the caveats in the documentation: http://pandas.pydata.org/pandas-docs/stable/indexing.html#indexing-view-versus-copy\n",
      "  \"\"\"\n",
      "/usr/local/lib/python3.6/site-packages/ipykernel_launcher.py:6: SettingWithCopyWarning: \n",
      "A value is trying to be set on a copy of a slice from a DataFrame.\n",
      "Try using .loc[row_indexer,col_indexer] = value instead\n",
      "\n",
      "See the caveats in the documentation: http://pandas.pydata.org/pandas-docs/stable/indexing.html#indexing-view-versus-copy\n",
      "  \n"
     ]
    }
   ],
   "source": [
    "Median_Income_Zip5=pd.DataFrame()\n",
    "for zip_cd,group in EASI_A_Income.groupby(['ZIP_CODE']):\n",
    "    total_HH=group['HH18'].sum()\n",
    "    if total_HH>0:\n",
    "        group['weight']=group['HH18']/total_HH\n",
    "        group['weighted_income']=group['weight']*group['MEDHHINC']\n",
    "        weighted_income=group['weighted_income'].sum()\n",
    "    else:\n",
    "        weighted_income=0\n",
    "    df=pd.DataFrame({\"zip_cd\":zip_cd,\"Median_Income\":weighted_income},index=[zip_cd])\n",
    "    Median_Income_Zip5=Median_Income_Zip5.append(df)"
   ]
  },
  {
   "cell_type": "code",
   "execution_count": 6,
   "metadata": {
    "collapsed": true
   },
   "outputs": [],
   "source": [
    "EASI_C_HH_25_74=pd.read_csv(\"/home/jian/Docs/EASI/2018-07-19/ZIP4_18_DATA_C2_CSV/ZIP4_18_DATA_C2.CSV\",dtype=str,skiprows=1,\n",
    "                            usecols=['ZIP_CODE','ZIP4','HH18','PCTHH25_34','PCTHH35_44','PCTHH45_54','PCTHH55_64','PCTHH65_74'])\n",
    "for col in EASI_C_HH_25_74.columns.tolist()[2:]:\n",
    "    EASI_C_HH_25_74[col]=EASI_C_HH_25_74[col].astype(float)\n",
    "EASI_C_HH_25_74['HH_25_74_Pctg']=EASI_C_HH_25_74[EASI_C_HH_25_74.columns.tolist()[3:8]].sum(axis=1)/100\n",
    "EASI_C_HH_25_74['HH_25_74']=EASI_C_HH_25_74['HH_25_74_Pctg']*EASI_C_HH_25_74['HH18']\n",
    "HH_25_74_Zip5=EASI_C_HH_25_74.groupby(['ZIP_CODE'])['HH_25_74'].sum().to_frame().reset_index()\n",
    "HH_25_74_Zip5=HH_25_74_Zip5.rename(columns={\"ZIP_CODE\":\"zip_cd\"})"
   ]
  },
  {
   "cell_type": "code",
   "execution_count": 7,
   "metadata": {
    "collapsed": true
   },
   "outputs": [],
   "source": [
    "demo_zip5=pd.merge(HH_25_74_Zip5,Median_Income_Zip5,on=\"zip_cd\",how=\"outer\")"
   ]
  },
  {
   "cell_type": "code",
   "execution_count": 8,
   "metadata": {},
   "outputs": [
    {
     "data": {
      "text/html": [
       "<div>\n",
       "<style>\n",
       "    .dataframe thead tr:only-child th {\n",
       "        text-align: right;\n",
       "    }\n",
       "\n",
       "    .dataframe thead th {\n",
       "        text-align: left;\n",
       "    }\n",
       "\n",
       "    .dataframe tbody tr th {\n",
       "        vertical-align: top;\n",
       "    }\n",
       "</style>\n",
       "<table border=\"1\" class=\"dataframe\">\n",
       "  <thead>\n",
       "    <tr style=\"text-align: right;\">\n",
       "      <th></th>\n",
       "      <th>Median_Income</th>\n",
       "      <th>zip_cd</th>\n",
       "    </tr>\n",
       "  </thead>\n",
       "  <tbody>\n",
       "    <tr>\n",
       "      <th>00501</th>\n",
       "      <td>0.000000</td>\n",
       "      <td>00501</td>\n",
       "    </tr>\n",
       "    <tr>\n",
       "      <th>01001</th>\n",
       "      <td>80804.813047</td>\n",
       "      <td>01001</td>\n",
       "    </tr>\n",
       "  </tbody>\n",
       "</table>\n",
       "</div>"
      ],
      "text/plain": [
       "       Median_Income zip_cd\n",
       "00501       0.000000  00501\n",
       "01001   80804.813047  01001"
      ]
     },
     "execution_count": 8,
     "metadata": {},
     "output_type": "execute_result"
    }
   ],
   "source": [
    "Median_Income_Zip5.head(2)"
   ]
  },
  {
   "cell_type": "markdown",
   "metadata": {},
   "source": [
    "# Zips Group"
   ]
  },
  {
   "cell_type": "code",
   "execution_count": 9,
   "metadata": {
    "collapsed": true
   },
   "outputs": [],
   "source": [
    "JUBA_zips=pd.read_excel(\"/home/jian/Projects/Saatva/Analysis/Zips_Comparison_Saatva_Juba/data/Saatva microsegment_083018_JC V2.xlsx\",\n",
    "                       dtype=str,sheetname=\"Zip code\",usecols=[15,16,17,18],skiprows=1)\n",
    "JUBA_zips_list=JUBA_zips['HH Income 100k+_1'].unique().tolist()+\\\n",
    "                JUBA_zips['HH Income 100k+_2'].unique().tolist()+\\\n",
    "                JUBA_zips['HH Income 75k-100k_1'].unique().tolist()+\\\n",
    "                JUBA_zips['HH Income 75k-100k_2'].unique().tolist()\n",
    "JUBA_zips_list=set(JUBA_zips_list)\n",
    "JUBA_zips_list.remove(\"nan\")"
   ]
  },
  {
   "cell_type": "code",
   "execution_count": 10,
   "metadata": {
    "collapsed": true
   },
   "outputs": [],
   "source": [
    "Saatva_zips=pd.read_excel(\"/home/jian/Projects/Saatva/Analysis/Zips_Comparison_Saatva_Juba/data/Saatva Zipcodes from Saatva Geo Modifiers_forMS_9_5_2018.xlsx\",dtype=str)\n",
    "Saatva_zips['zips']=Saatva_zips['Location'].apply(lambda x: x.split(\", \")[0])\n",
    "Saatva_zips['zip_or_city']=Saatva_zips['zips'].apply(lambda x: x[0] in [str(i) for i in range(10)])\n",
    "\n",
    "Saatva_zips_df_1=Saatva_zips[Saatva_zips['zip_or_city']==True]\n",
    "Saatva_zips_list_1=Saatva_zips_df_1['zips'].unique().tolist()\n",
    "\n",
    "Saatva_zips_df_2=Saatva_zips[Saatva_zips['zip_or_city']==False]\n",
    "Saatva_zips_df_2=Saatva_zips_df_2[Saatva_zips_df_2['Location']!=\"United States\"].reset_index()\n",
    "Saatva_zips_df_2=Saatva_zips_df_2.rename(columns={\"zips\":\"cities\"})\n",
    "Saatva_zips_df_2['states']=Saatva_zips_df_2['Location'].apply(lambda x: x.split(\", \")[1])\n",
    "Saatva_zips_df_2['cities']=Saatva_zips_df_2['cities'].apply(lambda x: x.lower())"
   ]
  },
  {
   "cell_type": "code",
   "execution_count": 11,
   "metadata": {
    "collapsed": true
   },
   "outputs": [],
   "source": [
    "state_abb=pd.read_csv(\"/home/jian/Docs/states.csv\",dtype=str)\n",
    "state_abb_dict=state_abb.set_index(\"State\").to_dict()['Abbreviation']\n",
    "Saatva_zips_df_2['states']=Saatva_zips_df_2['states'].apply(lambda x: state_abb_dict[x])\n",
    "Saatva_zips_df_2['City_State']=Saatva_zips_df_2['cities']+\", \"+Saatva_zips_df_2['states']"
   ]
  },
  {
   "cell_type": "code",
   "execution_count": 12,
   "metadata": {
    "collapsed": true
   },
   "outputs": [],
   "source": [
    "zip_city=pd.read_csv(\"/home/jian/Docs/Geo_mapping/free-zipcode-database.csv\",dtype=str)\n",
    "zip_city['City']=zip_city['City'].apply(lambda x: x.lower())\n",
    "zip_city['zip_cd']=zip_city['Zipcode'].apply(lambda x: x.zfill(5))\n",
    "zip_city['City_State']=zip_city['City']+\", \"+zip_city['State']\n",
    "\n",
    "Saatva_zips_df_2['place_in_cities']=Saatva_zips_df_2['cities'].apply(lambda x: x in zip_city['City'].tolist())\n",
    "Saatva_zips_df_2_city_list=Saatva_zips_df_2[Saatva_zips_df_2['place_in_cities']==True]['City_State'].unique().tolist()\n",
    "\n",
    "zips_in_cities=zip_city[zip_city['City_State'].isin(Saatva_zips_df_2_city_list)]\n",
    "Saatva_zips_list_2=zips_in_cities['zip_cd'].unique().tolist()"
   ]
  },
  {
   "cell_type": "code",
   "execution_count": 13,
   "metadata": {},
   "outputs": [
    {
     "data": {
      "text/plain": [
       "31"
      ]
     },
     "execution_count": 13,
     "metadata": {},
     "output_type": "execute_result"
    }
   ],
   "source": [
    "len(zips_in_cities['City_State'].unique())"
   ]
  },
  {
   "cell_type": "code",
   "execution_count": 14,
   "metadata": {
    "collapsed": true
   },
   "outputs": [],
   "source": [
    "Saatva_zips_total_list=set(Saatva_zips_list_1+Saatva_zips_list_2)"
   ]
  },
  {
   "cell_type": "code",
   "execution_count": 15,
   "metadata": {
    "collapsed": true
   },
   "outputs": [],
   "source": [
    "Seg_1_Juba_Only=[x for x in JUBA_zips_list if x not in Saatva_zips_total_list]\n",
    "Seg_2_Saatva_Only=[x for x in Saatva_zips_total_list if x not in JUBA_zips_list]\n",
    "Seg_3_Both=[x for x in Saatva_zips_total_list if x in JUBA_zips_list]"
   ]
  },
  {
   "cell_type": "markdown",
   "metadata": {},
   "source": [
    "# output"
   ]
  },
  {
   "cell_type": "code",
   "execution_count": 16,
   "metadata": {
    "collapsed": true
   },
   "outputs": [],
   "source": [
    "demo_zip5['Group']=np.where(demo_zip5['zip_cd'].isin(Seg_1_Juba_Only),\"G1_Juba_Only\",\n",
    "                           np.where(demo_zip5['zip_cd'].isin(Seg_2_Saatva_Only),\"G2_Saatva_Only\",\n",
    "                                   np.where(demo_zip5['zip_cd'].isin(Seg_3_Both),\"G3_Overlap\",\n",
    "                                            np.where(demo_zip5['Median_Income']>=75000,\"Neither_75_Above\",\"Neither_Lower_Balance\"\n",
    "                                                    )\n",
    "                                           )\n",
    "                                   )\n",
    "                           )\n",
    "filter_output=demo_zip5.copy()\n",
    "filter_output=filter_output[filter_output['HH_25_74']>=50]"
   ]
  },
  {
   "cell_type": "code",
   "execution_count": 17,
   "metadata": {
    "collapsed": true
   },
   "outputs": [],
   "source": [
    "writer=pd.ExcelWriter(\"/home/jian/Projects/Saatva/Analysis/Zips_Comparison_Saatva_Juba/output/Saatva_zips_for_FB_grouped_by_srouce_JL_\"+str(datetime.datetime.now().date())+\".xlsx\",engine=\"xlsxwriter\")\n",
    "filter_output['score']=filter_output['HH_25_74']*filter_output['Median_Income']\n",
    "output=pd.DataFrame()\n",
    "for Group,group in filter_output.groupby(['Group']):\n",
    "    group=group.sort_values(['score'],ascending=False).reset_index()\n",
    "    del group ['index']\n",
    "    group['rank_in_group']=[x for x in range(len(group))]\n",
    "    total_rows=len(group)\n",
    "    if total_rows>2499:\n",
    "        half_total=total_rows/2\n",
    "        group['inner_seg_2500']=group['rank_in_group'].apply(lambda x: str(int(np.floor(x/half_total))+1))\n",
    "    else:\n",
    "        group['inner_seg_2500']=\"1\"\n",
    "    group['Group']=group['Group']+\"_\"+group['inner_seg_2500']\n",
    "    group=group[['Group','zip_cd','HH_25_74','Median_Income','score']]\n",
    "    output=output.append(group)\n",
    "    group.to_excel(writer,Group,index=False)\n"
   ]
  },
  {
   "cell_type": "code",
   "execution_count": 18,
   "metadata": {
    "collapsed": true
   },
   "outputs": [],
   "source": [
    "neither_random_2499=filter_output[filter_output['Group']==\"Neither_Lower_Balance\"].reset_index()\n",
    "del neither_random_2499['index']\n",
    "neither_random_2499=neither_random_2499.reset_index()\n",
    "\n",
    "import random\n",
    "random.seed(a=1)\n",
    "chosen_rows=random.sample(range(1, len(neither_random_2499)), 2499)\n",
    "neither_random_2499=neither_random_2499[neither_random_2499['index'].isin(chosen_rows)]\n",
    "del neither_random_2499['index']\n",
    "neither_random_2499.to_excel(writer,\"Random_2499_Balance_Neither\",index=False)"
   ]
  },
  {
   "cell_type": "code",
   "execution_count": 19,
   "metadata": {
    "collapsed": true
   },
   "outputs": [],
   "source": [
    "output=output[['Group','zip_cd','HH_25_74','Median_Income','score']]\n",
    "output.to_excel(writer,'All_Zips',index=False)\n",
    "writer.save()"
   ]
  },
  {
   "cell_type": "code",
   "execution_count": null,
   "metadata": {
    "collapsed": true
   },
   "outputs": [],
   "source": []
  }
 ],
 "metadata": {
  "kernelspec": {
   "display_name": "Python 3",
   "language": "python",
   "name": "python3"
  },
  "language_info": {
   "codemirror_mode": {
    "name": "ipython",
    "version": 3
   },
   "file_extension": ".py",
   "mimetype": "text/x-python",
   "name": "python",
   "nbconvert_exporter": "python",
   "pygments_lexer": "ipython3",
   "version": "3.6.1"
  }
 },
 "nbformat": 4,
 "nbformat_minor": 2
}
