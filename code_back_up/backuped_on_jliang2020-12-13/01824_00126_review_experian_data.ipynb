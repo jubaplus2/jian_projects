{
 "cells": [
  {
   "cell_type": "code",
   "execution_count": 1,
   "metadata": {},
   "outputs": [
    {
     "data": {
      "text/plain": [
       "'/home/jian/BigLots/Experian/data_20191016'"
      ]
     },
     "execution_count": 1,
     "metadata": {},
     "output_type": "execute_result"
    }
   ],
   "source": [
    "import pandas as pd\n",
    "import numpy as np\n",
    "import os\n",
    "import zipfile\n",
    "import zlib\n",
    "import datetime\n",
    "os.getcwd()"
   ]
  },
  {
   "cell_type": "code",
   "execution_count": 2,
   "metadata": {},
   "outputs": [
    {
     "data": {
      "text/plain": [
       "(17626573, 19)"
      ]
     },
     "execution_count": 2,
     "metadata": {},
     "output_type": "execute_result"
    }
   ],
   "source": [
    "df_experian=pd.read_table(\"/home/jian/BigLots/Experian/data_20191016/Experian_20191001114500.txt\",sep=\"|\",dtype=str)\n",
    "df_experian.shape"
   ]
  },
  {
   "cell_type": "code",
   "execution_count": 4,
   "metadata": {},
   "outputs": [
    {
     "data": {
      "text/html": [
       "<div>\n",
       "<style scoped>\n",
       "    .dataframe tbody tr th:only-of-type {\n",
       "        vertical-align: middle;\n",
       "    }\n",
       "\n",
       "    .dataframe tbody tr th {\n",
       "        vertical-align: top;\n",
       "    }\n",
       "\n",
       "    .dataframe thead th {\n",
       "        text-align: right;\n",
       "    }\n",
       "</style>\n",
       "<table border=\"1\" class=\"dataframe\">\n",
       "  <thead>\n",
       "    <tr style=\"text-align: right;\">\n",
       "      <th></th>\n",
       "      <th>CustomerNumber</th>\n",
       "      <th>PhaseYear</th>\n",
       "      <th>Geo/HH</th>\n",
       "      <th>MultiCluster</th>\n",
       "      <th>MultiClusterDesc</th>\n",
       "      <th>DemoCluster</th>\n",
       "      <th>DemoClusterDesc</th>\n",
       "      <th>IncomeId</th>\n",
       "      <th>IncomeDesc</th>\n",
       "      <th>AgeId</th>\n",
       "      <th>AgeDesc</th>\n",
       "      <th>HomerentId</th>\n",
       "      <th>HomerentDesc</th>\n",
       "      <th>Child1Id</th>\n",
       "      <th>Child1Desc</th>\n",
       "      <th>Child2Id</th>\n",
       "      <th>Child2Desc</th>\n",
       "      <th>LivesId</th>\n",
       "      <th>LivesDesc</th>\n",
       "    </tr>\n",
       "  </thead>\n",
       "  <tbody>\n",
       "    <tr>\n",
       "      <th>0</th>\n",
       "      <td>9</td>\n",
       "      <td>2019</td>\n",
       "      <td>Geo</td>\n",
       "      <td>5</td>\n",
       "      <td>Home Focused</td>\n",
       "      <td>NaN</td>\n",
       "      <td>NaN</td>\n",
       "      <td>2</td>\n",
       "      <td>between $50k and $100k</td>\n",
       "      <td>2</td>\n",
       "      <td>between 35 and 50</td>\n",
       "      <td>1</td>\n",
       "      <td>own house</td>\n",
       "      <td>0</td>\n",
       "      <td>NaN</td>\n",
       "      <td>0</td>\n",
       "      <td>NaN</td>\n",
       "      <td>0</td>\n",
       "      <td>single family home</td>\n",
       "    </tr>\n",
       "    <tr>\n",
       "      <th>1</th>\n",
       "      <td>28</td>\n",
       "      <td>2019</td>\n",
       "      <td>HH</td>\n",
       "      <td>6</td>\n",
       "      <td>Holiday Shoppers</td>\n",
       "      <td>3</td>\n",
       "      <td>Married no Children</td>\n",
       "      <td>3</td>\n",
       "      <td>&gt;= $100k</td>\n",
       "      <td>3</td>\n",
       "      <td>&gt;= 50</td>\n",
       "      <td>1</td>\n",
       "      <td>own house</td>\n",
       "      <td>0</td>\n",
       "      <td>NaN</td>\n",
       "      <td>0</td>\n",
       "      <td>NaN</td>\n",
       "      <td>0</td>\n",
       "      <td>single family home</td>\n",
       "    </tr>\n",
       "  </tbody>\n",
       "</table>\n",
       "</div>"
      ],
      "text/plain": [
       "  CustomerNumber PhaseYear Geo/HH MultiCluster  MultiClusterDesc DemoCluster  \\\n",
       "0              9      2019    Geo            5      Home Focused         NaN   \n",
       "1             28      2019     HH            6  Holiday Shoppers           3   \n",
       "\n",
       "       DemoClusterDesc IncomeId              IncomeDesc AgeId  \\\n",
       "0                  NaN        2  between $50k and $100k     2   \n",
       "1  Married no Children        3                >= $100k     3   \n",
       "\n",
       "             AgeDesc HomerentId HomerentDesc Child1Id Child1Desc Child2Id  \\\n",
       "0  between 35 and 50          1    own house        0        NaN        0   \n",
       "1              >= 50          1    own house        0        NaN        0   \n",
       "\n",
       "  Child2Desc LivesId           LivesDesc  \n",
       "0        NaN       0  single family home  \n",
       "1        NaN       0  single family home  "
      ]
     },
     "execution_count": 4,
     "metadata": {},
     "output_type": "execute_result"
    }
   ],
   "source": [
    "df_experian.head(2)"
   ]
  },
  {
   "cell_type": "code",
   "execution_count": 5,
   "metadata": {},
   "outputs": [
    {
     "data": {
      "text/plain": [
       "array(['between 35 and 50', '>= 50', '< 35', nan], dtype=object)"
      ]
     },
     "execution_count": 5,
     "metadata": {},
     "output_type": "execute_result"
    }
   ],
   "source": [
    "df_experian['AgeDesc'].unique()"
   ]
  },
  {
   "cell_type": "code",
   "execution_count": 6,
   "metadata": {},
   "outputs": [
    {
     "data": {
      "text/plain": [
       "array(['between $50k and $100k', '>= $100k', '< $50k', nan], dtype=object)"
      ]
     },
     "execution_count": 6,
     "metadata": {},
     "output_type": "execute_result"
    }
   ],
   "source": [
    "df_experian['IncomeDesc'].unique()"
   ]
  },
  {
   "cell_type": "code",
   "execution_count": 7,
   "metadata": {},
   "outputs": [
    {
     "data": {
      "text/plain": [
       "(1430, 19)"
      ]
     },
     "execution_count": 7,
     "metadata": {},
     "output_type": "execute_result"
    }
   ],
   "source": [
    "df=df_experian[pd.isnull(df_experian['IncomeDesc'])]\n",
    "df.shape"
   ]
  },
  {
   "cell_type": "code",
   "execution_count": 10,
   "metadata": {},
   "outputs": [
    {
     "data": {
      "text/html": [
       "<div>\n",
       "<style scoped>\n",
       "    .dataframe tbody tr th:only-of-type {\n",
       "        vertical-align: middle;\n",
       "    }\n",
       "\n",
       "    .dataframe tbody tr th {\n",
       "        vertical-align: top;\n",
       "    }\n",
       "\n",
       "    .dataframe thead th {\n",
       "        text-align: right;\n",
       "    }\n",
       "</style>\n",
       "<table border=\"1\" class=\"dataframe\">\n",
       "  <thead>\n",
       "    <tr style=\"text-align: right;\">\n",
       "      <th></th>\n",
       "      <th>IncomeId</th>\n",
       "      <th>IncomeDesc</th>\n",
       "    </tr>\n",
       "  </thead>\n",
       "  <tbody>\n",
       "    <tr>\n",
       "      <th>0</th>\n",
       "      <td>2</td>\n",
       "      <td>between $50k and $100k</td>\n",
       "    </tr>\n",
       "    <tr>\n",
       "      <th>1</th>\n",
       "      <td>3</td>\n",
       "      <td>&gt;= $100k</td>\n",
       "    </tr>\n",
       "    <tr>\n",
       "      <th>3</th>\n",
       "      <td>1</td>\n",
       "      <td>&lt; $50k</td>\n",
       "    </tr>\n",
       "    <tr>\n",
       "      <th>614</th>\n",
       "      <td>NaN</td>\n",
       "      <td>NaN</td>\n",
       "    </tr>\n",
       "    <tr>\n",
       "      <th>673</th>\n",
       "      <td>4</td>\n",
       "      <td>NaN</td>\n",
       "    </tr>\n",
       "    <tr>\n",
       "      <th>2361</th>\n",
       "      <td>5</td>\n",
       "      <td>NaN</td>\n",
       "    </tr>\n",
       "    <tr>\n",
       "      <th>271485</th>\n",
       "      <td>7</td>\n",
       "      <td>NaN</td>\n",
       "    </tr>\n",
       "    <tr>\n",
       "      <th>292191</th>\n",
       "      <td>8</td>\n",
       "      <td>NaN</td>\n",
       "    </tr>\n",
       "    <tr>\n",
       "      <th>709114</th>\n",
       "      <td>0</td>\n",
       "      <td>NaN</td>\n",
       "    </tr>\n",
       "    <tr>\n",
       "      <th>3367611</th>\n",
       "      <td>6</td>\n",
       "      <td>NaN</td>\n",
       "    </tr>\n",
       "  </tbody>\n",
       "</table>\n",
       "</div>"
      ],
      "text/plain": [
       "        IncomeId              IncomeDesc\n",
       "0              2  between $50k and $100k\n",
       "1              3                >= $100k\n",
       "3              1                  < $50k\n",
       "614          NaN                     NaN\n",
       "673            4                     NaN\n",
       "2361           5                     NaN\n",
       "271485         7                     NaN\n",
       "292191         8                     NaN\n",
       "709114         0                     NaN\n",
       "3367611        6                     NaN"
      ]
     },
     "execution_count": 10,
     "metadata": {},
     "output_type": "execute_result"
    }
   ],
   "source": [
    "df_experian[['IncomeId','IncomeDesc']].drop_duplicates()"
   ]
  },
  {
   "cell_type": "code",
   "execution_count": 9,
   "metadata": {},
   "outputs": [
    {
     "data": {
      "text/plain": [
       "array([nan, '4', '5', '7', '8', '0', '6'], dtype=object)"
      ]
     },
     "execution_count": 9,
     "metadata": {},
     "output_type": "execute_result"
    }
   ],
   "source": [
    "df['IncomeId'].unique()"
   ]
  },
  {
   "cell_type": "code",
   "execution_count": 3,
   "metadata": {
    "collapsed": true
   },
   "outputs": [],
   "source": [
    "df_id_mapping=pd.read_table(\"/home/jian/BigLots/Experian/data_20191016/Experian 2019 customer hashed.txt\",sep=\"|\",dtype=str)\n",
    "df_id_mapping=df_id_mapping.rename(columns={\"Customer_Num\":\"CustomerNumber\"})"
   ]
  },
  {
   "cell_type": "code",
   "execution_count": 10,
   "metadata": {},
   "outputs": [
    {
     "data": {
      "text/plain": [
       "(17626573, 2)"
      ]
     },
     "execution_count": 10,
     "metadata": {},
     "output_type": "execute_result"
    }
   ],
   "source": [
    "df_id_mapping.shape"
   ]
  },
  {
   "cell_type": "code",
   "execution_count": 8,
   "metadata": {},
   "outputs": [
    {
     "data": {
      "text/plain": [
       "(17626573, 20)"
      ]
     },
     "execution_count": 8,
     "metadata": {},
     "output_type": "execute_result"
    }
   ],
   "source": [
    "df_experian=pd.merge(df_experian,df_id_mapping,on=\"CustomerNumber\",how=\"left\")\n",
    "df_experian.shape"
   ]
  },
  {
   "cell_type": "code",
   "execution_count": 11,
   "metadata": {},
   "outputs": [
    {
     "data": {
      "text/html": [
       "<div>\n",
       "<style>\n",
       "    .dataframe thead tr:only-child th {\n",
       "        text-align: right;\n",
       "    }\n",
       "\n",
       "    .dataframe thead th {\n",
       "        text-align: left;\n",
       "    }\n",
       "\n",
       "    .dataframe tbody tr th {\n",
       "        vertical-align: top;\n",
       "    }\n",
       "</style>\n",
       "<table border=\"1\" class=\"dataframe\">\n",
       "  <thead>\n",
       "    <tr style=\"text-align: right;\">\n",
       "      <th></th>\n",
       "      <th>CustomerNumber</th>\n",
       "      <th>PhaseYear</th>\n",
       "      <th>Geo/HH</th>\n",
       "      <th>MultiCluster</th>\n",
       "      <th>MultiClusterDesc</th>\n",
       "      <th>DemoCluster</th>\n",
       "      <th>DemoClusterDesc</th>\n",
       "      <th>IncomeId</th>\n",
       "      <th>IncomeDesc</th>\n",
       "      <th>AgeId</th>\n",
       "      <th>AgeDesc</th>\n",
       "      <th>HomerentId</th>\n",
       "      <th>HomerentDesc</th>\n",
       "      <th>Child1Id</th>\n",
       "      <th>Child1Desc</th>\n",
       "      <th>Child2Id</th>\n",
       "      <th>Child2Desc</th>\n",
       "      <th>LivesId</th>\n",
       "      <th>LivesDesc</th>\n",
       "      <th>hashed_customer_num</th>\n",
       "    </tr>\n",
       "  </thead>\n",
       "  <tbody>\n",
       "  </tbody>\n",
       "</table>\n",
       "</div>"
      ],
      "text/plain": [
       "Empty DataFrame\n",
       "Columns: [CustomerNumber, PhaseYear, Geo/HH, MultiCluster, MultiClusterDesc, DemoCluster, DemoClusterDesc, IncomeId, IncomeDesc, AgeId, AgeDesc, HomerentId, HomerentDesc, Child1Id, Child1Desc, Child2Id, Child2Desc, LivesId, LivesDesc, hashed_customer_num]\n",
       "Index: []"
      ]
     },
     "execution_count": 11,
     "metadata": {},
     "output_type": "execute_result"
    }
   ],
   "source": [
    "df_experian[pd.isnull(df_experian['hashed_customer_num'])]"
   ]
  },
  {
   "cell_type": "code",
   "execution_count": 12,
   "metadata": {},
   "outputs": [
    {
     "data": {
      "text/html": [
       "<div>\n",
       "<style>\n",
       "    .dataframe thead tr:only-child th {\n",
       "        text-align: right;\n",
       "    }\n",
       "\n",
       "    .dataframe thead th {\n",
       "        text-align: left;\n",
       "    }\n",
       "\n",
       "    .dataframe tbody tr th {\n",
       "        vertical-align: top;\n",
       "    }\n",
       "</style>\n",
       "<table border=\"1\" class=\"dataframe\">\n",
       "  <thead>\n",
       "    <tr style=\"text-align: right;\">\n",
       "      <th></th>\n",
       "      <th>CustomerNumber</th>\n",
       "      <th>PhaseYear</th>\n",
       "      <th>Geo/HH</th>\n",
       "      <th>MultiCluster</th>\n",
       "      <th>MultiClusterDesc</th>\n",
       "      <th>DemoCluster</th>\n",
       "      <th>DemoClusterDesc</th>\n",
       "      <th>IncomeId</th>\n",
       "      <th>IncomeDesc</th>\n",
       "      <th>AgeId</th>\n",
       "      <th>AgeDesc</th>\n",
       "      <th>HomerentId</th>\n",
       "      <th>HomerentDesc</th>\n",
       "      <th>Child1Id</th>\n",
       "      <th>Child1Desc</th>\n",
       "      <th>Child2Id</th>\n",
       "      <th>Child2Desc</th>\n",
       "      <th>LivesId</th>\n",
       "      <th>LivesDesc</th>\n",
       "      <th>hashed_customer_num</th>\n",
       "    </tr>\n",
       "  </thead>\n",
       "  <tbody>\n",
       "    <tr>\n",
       "      <th>0</th>\n",
       "      <td>9</td>\n",
       "      <td>2019</td>\n",
       "      <td>Geo</td>\n",
       "      <td>5</td>\n",
       "      <td>Home Focused</td>\n",
       "      <td>NaN</td>\n",
       "      <td>NaN</td>\n",
       "      <td>2</td>\n",
       "      <td>between $50k and $100k</td>\n",
       "      <td>2</td>\n",
       "      <td>between 35 and 50</td>\n",
       "      <td>1</td>\n",
       "      <td>own house</td>\n",
       "      <td>0</td>\n",
       "      <td>NaN</td>\n",
       "      <td>0</td>\n",
       "      <td>NaN</td>\n",
       "      <td>0</td>\n",
       "      <td>single family home</td>\n",
       "      <td>19581e27de7ced00ff1ce50b2047e7a567c76b1cbaebab...</td>\n",
       "    </tr>\n",
       "    <tr>\n",
       "      <th>1</th>\n",
       "      <td>28</td>\n",
       "      <td>2019</td>\n",
       "      <td>HH</td>\n",
       "      <td>6</td>\n",
       "      <td>Holiday Shoppers</td>\n",
       "      <td>3</td>\n",
       "      <td>Married no Children</td>\n",
       "      <td>3</td>\n",
       "      <td>&gt;= $100k</td>\n",
       "      <td>3</td>\n",
       "      <td>&gt;= 50</td>\n",
       "      <td>1</td>\n",
       "      <td>own house</td>\n",
       "      <td>0</td>\n",
       "      <td>NaN</td>\n",
       "      <td>0</td>\n",
       "      <td>NaN</td>\n",
       "      <td>0</td>\n",
       "      <td>single family home</td>\n",
       "      <td>59e19706d51d39f66711c2653cd7eb1291c94d9b55eb14...</td>\n",
       "    </tr>\n",
       "  </tbody>\n",
       "</table>\n",
       "</div>"
      ],
      "text/plain": [
       "  CustomerNumber PhaseYear Geo/HH MultiCluster  MultiClusterDesc DemoCluster  \\\n",
       "0              9      2019    Geo            5      Home Focused         NaN   \n",
       "1             28      2019     HH            6  Holiday Shoppers           3   \n",
       "\n",
       "       DemoClusterDesc IncomeId              IncomeDesc AgeId  \\\n",
       "0                  NaN        2  between $50k and $100k     2   \n",
       "1  Married no Children        3                >= $100k     3   \n",
       "\n",
       "             AgeDesc HomerentId HomerentDesc Child1Id Child1Desc Child2Id  \\\n",
       "0  between 35 and 50          1    own house        0        NaN        0   \n",
       "1              >= 50          1    own house        0        NaN        0   \n",
       "\n",
       "  Child2Desc LivesId           LivesDesc  \\\n",
       "0        NaN       0  single family home   \n",
       "1        NaN       0  single family home   \n",
       "\n",
       "                                 hashed_customer_num  \n",
       "0  19581e27de7ced00ff1ce50b2047e7a567c76b1cbaebab...  \n",
       "1  59e19706d51d39f66711c2653cd7eb1291c94d9b55eb14...  "
      ]
     },
     "execution_count": 12,
     "metadata": {},
     "output_type": "execute_result"
    }
   ],
   "source": [
    "df_experian.head(2)"
   ]
  },
  {
   "cell_type": "code",
   "execution_count": null,
   "metadata": {
    "collapsed": true
   },
   "outputs": [],
   "source": []
  },
  {
   "cell_type": "code",
   "execution_count": null,
   "metadata": {
    "collapsed": true
   },
   "outputs": [],
   "source": []
  },
  {
   "cell_type": "code",
   "execution_count": 16,
   "metadata": {
    "collapsed": true
   },
   "outputs": [],
   "source": [
    "writer=pd.ExcelWriter(\"./Example_Experian_20191001114500_head10000Rows_JL_\"+str(datetime.datetime.now().date())+\".xlsx\",engine=\"xlsxwriter\")\n",
    "df_sample_first_10000.to_excel(writer,\"Sample\",index=False)\n",
    "writer.save()"
   ]
  },
  {
   "cell_type": "code",
   "execution_count": 17,
   "metadata": {},
   "outputs": [
    {
     "data": {
      "text/html": [
       "<div>\n",
       "<style>\n",
       "    .dataframe thead tr:only-child th {\n",
       "        text-align: right;\n",
       "    }\n",
       "\n",
       "    .dataframe thead th {\n",
       "        text-align: left;\n",
       "    }\n",
       "\n",
       "    .dataframe tbody tr th {\n",
       "        vertical-align: top;\n",
       "    }\n",
       "</style>\n",
       "<table border=\"1\" class=\"dataframe\">\n",
       "  <thead>\n",
       "    <tr style=\"text-align: right;\">\n",
       "      <th></th>\n",
       "      <th>CustomerNumber</th>\n",
       "      <th>PhaseYear</th>\n",
       "      <th>Geo/HH</th>\n",
       "      <th>MultiCluster</th>\n",
       "      <th>MultiClusterDesc</th>\n",
       "      <th>DemoCluster</th>\n",
       "      <th>DemoClusterDesc</th>\n",
       "      <th>IncomeId</th>\n",
       "      <th>IncomeDesc</th>\n",
       "      <th>AgeId</th>\n",
       "      <th>AgeDesc</th>\n",
       "      <th>HomerentId</th>\n",
       "      <th>HomerentDesc</th>\n",
       "      <th>Child1Id</th>\n",
       "      <th>Child1Desc</th>\n",
       "      <th>Child2Id</th>\n",
       "      <th>Child2Desc</th>\n",
       "      <th>LivesId</th>\n",
       "      <th>LivesDesc</th>\n",
       "    </tr>\n",
       "  </thead>\n",
       "  <tbody>\n",
       "    <tr>\n",
       "      <th>0</th>\n",
       "      <td>9</td>\n",
       "      <td>2019</td>\n",
       "      <td>Geo</td>\n",
       "      <td>5</td>\n",
       "      <td>Home Focused</td>\n",
       "      <td>NaN</td>\n",
       "      <td>NaN</td>\n",
       "      <td>2</td>\n",
       "      <td>between $50k and $100k</td>\n",
       "      <td>2</td>\n",
       "      <td>between 35 and 50</td>\n",
       "      <td>1</td>\n",
       "      <td>own house</td>\n",
       "      <td>0</td>\n",
       "      <td>NaN</td>\n",
       "      <td>0</td>\n",
       "      <td>NaN</td>\n",
       "      <td>0</td>\n",
       "      <td>single family home</td>\n",
       "    </tr>\n",
       "    <tr>\n",
       "      <th>1</th>\n",
       "      <td>28</td>\n",
       "      <td>2019</td>\n",
       "      <td>HH</td>\n",
       "      <td>6</td>\n",
       "      <td>Holiday Shoppers</td>\n",
       "      <td>3</td>\n",
       "      <td>Married no Children</td>\n",
       "      <td>3</td>\n",
       "      <td>&gt;= $100k</td>\n",
       "      <td>3</td>\n",
       "      <td>&gt;= 50</td>\n",
       "      <td>1</td>\n",
       "      <td>own house</td>\n",
       "      <td>0</td>\n",
       "      <td>NaN</td>\n",
       "      <td>0</td>\n",
       "      <td>NaN</td>\n",
       "      <td>0</td>\n",
       "      <td>single family home</td>\n",
       "    </tr>\n",
       "  </tbody>\n",
       "</table>\n",
       "</div>"
      ],
      "text/plain": [
       "  CustomerNumber PhaseYear Geo/HH MultiCluster  MultiClusterDesc DemoCluster  \\\n",
       "0              9      2019    Geo            5      Home Focused         NaN   \n",
       "1             28      2019     HH            6  Holiday Shoppers           3   \n",
       "\n",
       "       DemoClusterDesc IncomeId              IncomeDesc AgeId  \\\n",
       "0                  NaN        2  between $50k and $100k     2   \n",
       "1  Married no Children        3                >= $100k     3   \n",
       "\n",
       "             AgeDesc HomerentId HomerentDesc Child1Id Child1Desc Child2Id  \\\n",
       "0  between 35 and 50          1    own house        0        NaN        0   \n",
       "1              >= 50          1    own house        0        NaN        0   \n",
       "\n",
       "  Child2Desc LivesId           LivesDesc  \n",
       "0        NaN       0  single family home  \n",
       "1        NaN       0  single family home  "
      ]
     },
     "execution_count": 17,
     "metadata": {},
     "output_type": "execute_result"
    }
   ],
   "source": [
    "df.head(2)"
   ]
  },
  {
   "cell_type": "code",
   "execution_count": 18,
   "metadata": {},
   "outputs": [
    {
     "data": {
      "text/plain": [
       "17626573"
      ]
     },
     "execution_count": 18,
     "metadata": {},
     "output_type": "execute_result"
    }
   ],
   "source": [
    "df['CustomerNumber'].nunique()"
   ]
  },
  {
   "cell_type": "code",
   "execution_count": 21,
   "metadata": {},
   "outputs": [
    {
     "data": {
      "text/plain": [
       "(17626573, 19)"
      ]
     },
     "execution_count": 21,
     "metadata": {},
     "output_type": "execute_result"
    }
   ],
   "source": [
    "df.shape"
   ]
  },
  {
   "cell_type": "code",
   "execution_count": 19,
   "metadata": {},
   "outputs": [
    {
     "data": {
      "text/plain": [
       "array(['Home Focused', 'Holiday Shoppers', 'Sporadic Seniors',\n",
       "       'Starters in Need', 'Spending Fanatics', 'Urban Affluence',\n",
       "       'Infrequent Families', 'Rising Hispanics', nan], dtype=object)"
      ]
     },
     "execution_count": 19,
     "metadata": {},
     "output_type": "execute_result"
    }
   ],
   "source": [
    "df['MultiClusterDesc'].unique()"
   ]
  },
  {
   "cell_type": "code",
   "execution_count": 20,
   "metadata": {},
   "outputs": [
    {
     "data": {
      "text/html": [
       "<div>\n",
       "<style>\n",
       "    .dataframe thead tr:only-child th {\n",
       "        text-align: right;\n",
       "    }\n",
       "\n",
       "    .dataframe thead th {\n",
       "        text-align: left;\n",
       "    }\n",
       "\n",
       "    .dataframe tbody tr th {\n",
       "        vertical-align: top;\n",
       "    }\n",
       "</style>\n",
       "<table border=\"1\" class=\"dataframe\">\n",
       "  <thead>\n",
       "    <tr style=\"text-align: right;\">\n",
       "      <th></th>\n",
       "      <th>CustomerNumber</th>\n",
       "      <th>PhaseYear</th>\n",
       "      <th>Geo/HH</th>\n",
       "      <th>MultiCluster</th>\n",
       "      <th>MultiClusterDesc</th>\n",
       "      <th>DemoCluster</th>\n",
       "      <th>DemoClusterDesc</th>\n",
       "      <th>IncomeId</th>\n",
       "      <th>IncomeDesc</th>\n",
       "      <th>AgeId</th>\n",
       "      <th>AgeDesc</th>\n",
       "      <th>HomerentId</th>\n",
       "      <th>HomerentDesc</th>\n",
       "      <th>Child1Id</th>\n",
       "      <th>Child1Desc</th>\n",
       "      <th>Child2Id</th>\n",
       "      <th>Child2Desc</th>\n",
       "      <th>LivesId</th>\n",
       "      <th>LivesDesc</th>\n",
       "    </tr>\n",
       "  </thead>\n",
       "  <tbody>\n",
       "    <tr>\n",
       "      <th>17626568</th>\n",
       "      <td>56598368</td>\n",
       "      <td>2019</td>\n",
       "      <td>Geo</td>\n",
       "      <td>1</td>\n",
       "      <td>Starters in Need</td>\n",
       "      <td>NaN</td>\n",
       "      <td>NaN</td>\n",
       "      <td>1</td>\n",
       "      <td>&lt; $50k</td>\n",
       "      <td>2</td>\n",
       "      <td>between 35 and 50</td>\n",
       "      <td>0</td>\n",
       "      <td>rents</td>\n",
       "      <td>0</td>\n",
       "      <td>NaN</td>\n",
       "      <td>0</td>\n",
       "      <td>NaN</td>\n",
       "      <td>0</td>\n",
       "      <td>single family home</td>\n",
       "    </tr>\n",
       "    <tr>\n",
       "      <th>17626569</th>\n",
       "      <td>56613651</td>\n",
       "      <td>2019</td>\n",
       "      <td>Geo</td>\n",
       "      <td>1</td>\n",
       "      <td>Starters in Need</td>\n",
       "      <td>NaN</td>\n",
       "      <td>NaN</td>\n",
       "      <td>2</td>\n",
       "      <td>between $50k and $100k</td>\n",
       "      <td>2</td>\n",
       "      <td>between 35 and 50</td>\n",
       "      <td>1</td>\n",
       "      <td>own house</td>\n",
       "      <td>0</td>\n",
       "      <td>NaN</td>\n",
       "      <td>0</td>\n",
       "      <td>NaN</td>\n",
       "      <td>0</td>\n",
       "      <td>single family home</td>\n",
       "    </tr>\n",
       "    <tr>\n",
       "      <th>17626570</th>\n",
       "      <td>56614130</td>\n",
       "      <td>2019</td>\n",
       "      <td>HH</td>\n",
       "      <td>1</td>\n",
       "      <td>Starters in Need</td>\n",
       "      <td>1</td>\n",
       "      <td>Making Ends Meet</td>\n",
       "      <td>1</td>\n",
       "      <td>&lt; $50k</td>\n",
       "      <td>1</td>\n",
       "      <td>&lt; 35</td>\n",
       "      <td>1</td>\n",
       "      <td>own house</td>\n",
       "      <td>1</td>\n",
       "      <td>age between 0-6</td>\n",
       "      <td>0</td>\n",
       "      <td>NaN</td>\n",
       "      <td>0</td>\n",
       "      <td>single family home</td>\n",
       "    </tr>\n",
       "    <tr>\n",
       "      <th>17626571</th>\n",
       "      <td>56614842</td>\n",
       "      <td>2019</td>\n",
       "      <td>HH</td>\n",
       "      <td>3</td>\n",
       "      <td>Infrequent Families</td>\n",
       "      <td>4</td>\n",
       "      <td>Married with Children</td>\n",
       "      <td>3</td>\n",
       "      <td>&gt;= $100k</td>\n",
       "      <td>2</td>\n",
       "      <td>between 35 and 50</td>\n",
       "      <td>1</td>\n",
       "      <td>own house</td>\n",
       "      <td>1</td>\n",
       "      <td>age between 0-6</td>\n",
       "      <td>0</td>\n",
       "      <td>NaN</td>\n",
       "      <td>1</td>\n",
       "      <td>multi family or condo</td>\n",
       "    </tr>\n",
       "    <tr>\n",
       "      <th>17626572</th>\n",
       "      <td>56625638</td>\n",
       "      <td>2019</td>\n",
       "      <td>HH</td>\n",
       "      <td>7</td>\n",
       "      <td>Sporadic Seniors</td>\n",
       "      <td>3</td>\n",
       "      <td>Married no Children</td>\n",
       "      <td>2</td>\n",
       "      <td>between $50k and $100k</td>\n",
       "      <td>3</td>\n",
       "      <td>&gt;= 50</td>\n",
       "      <td>1</td>\n",
       "      <td>own house</td>\n",
       "      <td>0</td>\n",
       "      <td>NaN</td>\n",
       "      <td>0</td>\n",
       "      <td>NaN</td>\n",
       "      <td>0</td>\n",
       "      <td>single family home</td>\n",
       "    </tr>\n",
       "  </tbody>\n",
       "</table>\n",
       "</div>"
      ],
      "text/plain": [
       "         CustomerNumber PhaseYear Geo/HH MultiCluster     MultiClusterDesc  \\\n",
       "17626568       56598368      2019    Geo            1     Starters in Need   \n",
       "17626569       56613651      2019    Geo            1     Starters in Need   \n",
       "17626570       56614130      2019     HH            1     Starters in Need   \n",
       "17626571       56614842      2019     HH            3  Infrequent Families   \n",
       "17626572       56625638      2019     HH            7     Sporadic Seniors   \n",
       "\n",
       "         DemoCluster        DemoClusterDesc IncomeId              IncomeDesc  \\\n",
       "17626568         NaN                    NaN        1                  < $50k   \n",
       "17626569         NaN                    NaN        2  between $50k and $100k   \n",
       "17626570           1       Making Ends Meet        1                  < $50k   \n",
       "17626571           4  Married with Children        3                >= $100k   \n",
       "17626572           3    Married no Children        2  between $50k and $100k   \n",
       "\n",
       "         AgeId            AgeDesc HomerentId HomerentDesc Child1Id  \\\n",
       "17626568     2  between 35 and 50          0        rents        0   \n",
       "17626569     2  between 35 and 50          1    own house        0   \n",
       "17626570     1               < 35          1    own house        1   \n",
       "17626571     2  between 35 and 50          1    own house        1   \n",
       "17626572     3              >= 50          1    own house        0   \n",
       "\n",
       "               Child1Desc Child2Id Child2Desc LivesId              LivesDesc  \n",
       "17626568              NaN        0        NaN       0     single family home  \n",
       "17626569              NaN        0        NaN       0     single family home  \n",
       "17626570  age between 0-6        0        NaN       0     single family home  \n",
       "17626571  age between 0-6        0        NaN       1  multi family or condo  \n",
       "17626572              NaN        0        NaN       0     single family home  "
      ]
     },
     "execution_count": 20,
     "metadata": {},
     "output_type": "execute_result"
    }
   ],
   "source": [
    "df.tail(5)"
   ]
  },
  {
   "cell_type": "code",
   "execution_count": null,
   "metadata": {
    "collapsed": true
   },
   "outputs": [],
   "source": []
  }
 ],
 "metadata": {
  "kernelspec": {
   "display_name": "Python 3",
   "language": "python",
   "name": "python3"
  },
  "language_info": {
   "codemirror_mode": {
    "name": "ipython",
    "version": 3
   },
   "file_extension": ".py",
   "mimetype": "text/x-python",
   "name": "python",
   "nbconvert_exporter": "python",
   "pygments_lexer": "ipython3",
   "version": "3.6.1"
  }
 },
 "nbformat": 4,
 "nbformat_minor": 2
}
