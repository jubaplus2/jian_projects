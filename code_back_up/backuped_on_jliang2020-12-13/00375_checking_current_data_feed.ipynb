{
 "cells": [
  {
   "cell_type": "code",
   "execution_count": 2,
   "metadata": {},
   "outputs": [
    {
     "name": "stdout",
     "output_type": "stream",
     "text": [
      "2020-07-30 12:36:01.881292\n"
     ]
    }
   ],
   "source": [
    "import pandas as pd\n",
    "import datetime\n",
    "import numpy as np\n",
    "import os\n",
    "import glob\n",
    "print(datetime.datetime.now())\n"
   ]
  },
  {
   "cell_type": "code",
   "execution_count": 3,
   "metadata": {},
   "outputs": [
    {
     "data": {
      "text/plain": [
       "['/home/jian/BigLots/2020_by_weeks/MediaStorm_2020-07-25/MediaStormTrafficDetail20200728-111930-880.txt',\n",
       " '/home/jian/BigLots/2020_by_weeks/MediaStorm_2020-07-25/MediaStormInventoryWeekly20200728-111916-272.txt',\n",
       " '/home/jian/BigLots/2020_by_weeks/MediaStorm_2020-07-25/MediaStormDailySales20200728-111703-352.txt',\n",
       " '/home/jian/BigLots/2020_by_weeks/MediaStorm_2020-07-25/MediaStormSalesWeekly20200728-111926-752.txt',\n",
       " '/home/jian/BigLots/2020_by_weeks/MediaStorm_2020-07-25/MediaStormMasterWeekly20200728-111918-861.txt',\n",
       " '/home/jian/BigLots/2020_by_weeks/MediaStorm_2020-07-25/MediaStormTrafficWeekly20200728-111930-880.txt']"
      ]
     },
     "execution_count": 3,
     "metadata": {},
     "output_type": "execute_result"
    }
   ],
   "source": [
    "# 1. weekly\n",
    "folder_weekly_example=\"/home/jian/BigLots/2020_by_weeks/MediaStorm_2020-07-25/\"\n",
    "list_files_weekly=glob.glob(folder_weekly_example+\"*\")\n",
    "list_files_weekly"
   ]
  },
  {
   "cell_type": "code",
   "execution_count": 20,
   "metadata": {},
   "outputs": [],
   "source": [
    "writer_weekly=pd.ExcelWriter(\"./BL_weekly_feed_to_MediaStorm.xlsx\",engine=\"xlsxwriter\")\n",
    "for file in list_files_weekly:\n",
    "    file_name=os.path.basename(file).replace(\"MediaStorm\",\"\").split(\"2020\")[0]\n",
    "    df=pd.read_table(file,nrows=10,sep=\"|\")\n",
    "    df=df.dtypes.to_frame().reset_index()    \n",
    "    df.columns=[file_name,'']\n",
    "    df.to_excel(writer_weekly,file_name,index=False)\n",
    "writer_weekly.save()"
   ]
  },
  {
   "cell_type": "code",
   "execution_count": 25,
   "metadata": {},
   "outputs": [
    {
     "data": {
      "text/html": [
       "<div>\n",
       "<style scoped>\n",
       "    .dataframe tbody tr th:only-of-type {\n",
       "        vertical-align: middle;\n",
       "    }\n",
       "\n",
       "    .dataframe tbody tr th {\n",
       "        vertical-align: top;\n",
       "    }\n",
       "\n",
       "    .dataframe thead th {\n",
       "        text-align: right;\n",
       "    }\n",
       "</style>\n",
       "<table border=\"1\" class=\"dataframe\">\n",
       "  <thead>\n",
       "    <tr style=\"text-align: right;\">\n",
       "      <th></th>\n",
       "      <th>location_id</th>\n",
       "      <th>week_end_dt</th>\n",
       "      <th>fiscal_week_nbr</th>\n",
       "      <th>gross_sales_amt</th>\n",
       "      <th>gross_transaction_cnt</th>\n",
       "      <th>class_code_id</th>\n",
       "      <th>subclass_id</th>\n",
       "      <th>subclass_gross_sales_amt</th>\n",
       "    </tr>\n",
       "  </thead>\n",
       "  <tbody>\n",
       "    <tr>\n",
       "      <th>0</th>\n",
       "      <td>1</td>\n",
       "      <td>2020-07-25</td>\n",
       "      <td>25</td>\n",
       "      <td>90960.13</td>\n",
       "      <td>2286</td>\n",
       "      <td>11001</td>\n",
       "      <td>2</td>\n",
       "      <td>661.05</td>\n",
       "    </tr>\n",
       "    <tr>\n",
       "      <th>1</th>\n",
       "      <td>1</td>\n",
       "      <td>2020-07-25</td>\n",
       "      <td>25</td>\n",
       "      <td>90960.13</td>\n",
       "      <td>2286</td>\n",
       "      <td>11001</td>\n",
       "      <td>4</td>\n",
       "      <td>51.37</td>\n",
       "    </tr>\n",
       "    <tr>\n",
       "      <th>2</th>\n",
       "      <td>1</td>\n",
       "      <td>2020-07-25</td>\n",
       "      <td>25</td>\n",
       "      <td>90960.13</td>\n",
       "      <td>2286</td>\n",
       "      <td>11001</td>\n",
       "      <td>6</td>\n",
       "      <td>29.38</td>\n",
       "    </tr>\n",
       "    <tr>\n",
       "      <th>3</th>\n",
       "      <td>1</td>\n",
       "      <td>2020-07-25</td>\n",
       "      <td>25</td>\n",
       "      <td>90960.13</td>\n",
       "      <td>2286</td>\n",
       "      <td>11001</td>\n",
       "      <td>8</td>\n",
       "      <td>270.62</td>\n",
       "    </tr>\n",
       "    <tr>\n",
       "      <th>4</th>\n",
       "      <td>1</td>\n",
       "      <td>2020-07-25</td>\n",
       "      <td>25</td>\n",
       "      <td>90960.13</td>\n",
       "      <td>2286</td>\n",
       "      <td>11001</td>\n",
       "      <td>10</td>\n",
       "      <td>168.01</td>\n",
       "    </tr>\n",
       "    <tr>\n",
       "      <th>5</th>\n",
       "      <td>1</td>\n",
       "      <td>2020-07-25</td>\n",
       "      <td>25</td>\n",
       "      <td>90960.13</td>\n",
       "      <td>2286</td>\n",
       "      <td>11001</td>\n",
       "      <td>13</td>\n",
       "      <td>56.43</td>\n",
       "    </tr>\n",
       "    <tr>\n",
       "      <th>6</th>\n",
       "      <td>1</td>\n",
       "      <td>2020-07-25</td>\n",
       "      <td>25</td>\n",
       "      <td>90960.13</td>\n",
       "      <td>2286</td>\n",
       "      <td>11003</td>\n",
       "      <td>1</td>\n",
       "      <td>144.59</td>\n",
       "    </tr>\n",
       "    <tr>\n",
       "      <th>7</th>\n",
       "      <td>1</td>\n",
       "      <td>2020-07-25</td>\n",
       "      <td>25</td>\n",
       "      <td>90960.13</td>\n",
       "      <td>2286</td>\n",
       "      <td>11003</td>\n",
       "      <td>5</td>\n",
       "      <td>24.36</td>\n",
       "    </tr>\n",
       "    <tr>\n",
       "      <th>8</th>\n",
       "      <td>1</td>\n",
       "      <td>2020-07-25</td>\n",
       "      <td>25</td>\n",
       "      <td>90960.13</td>\n",
       "      <td>2286</td>\n",
       "      <td>11003</td>\n",
       "      <td>7</td>\n",
       "      <td>79.96</td>\n",
       "    </tr>\n",
       "    <tr>\n",
       "      <th>9</th>\n",
       "      <td>1</td>\n",
       "      <td>2020-07-25</td>\n",
       "      <td>25</td>\n",
       "      <td>90960.13</td>\n",
       "      <td>2286</td>\n",
       "      <td>11003</td>\n",
       "      <td>9</td>\n",
       "      <td>69.29</td>\n",
       "    </tr>\n",
       "  </tbody>\n",
       "</table>\n",
       "</div>"
      ],
      "text/plain": [
       "   location_id week_end_dt  fiscal_week_nbr  gross_sales_amt  \\\n",
       "0            1  2020-07-25               25         90960.13   \n",
       "1            1  2020-07-25               25         90960.13   \n",
       "2            1  2020-07-25               25         90960.13   \n",
       "3            1  2020-07-25               25         90960.13   \n",
       "4            1  2020-07-25               25         90960.13   \n",
       "5            1  2020-07-25               25         90960.13   \n",
       "6            1  2020-07-25               25         90960.13   \n",
       "7            1  2020-07-25               25         90960.13   \n",
       "8            1  2020-07-25               25         90960.13   \n",
       "9            1  2020-07-25               25         90960.13   \n",
       "\n",
       "   gross_transaction_cnt  class_code_id  subclass_id  subclass_gross_sales_amt  \n",
       "0                   2286          11001            2                    661.05  \n",
       "1                   2286          11001            4                     51.37  \n",
       "2                   2286          11001            6                     29.38  \n",
       "3                   2286          11001            8                    270.62  \n",
       "4                   2286          11001           10                    168.01  \n",
       "5                   2286          11001           13                     56.43  \n",
       "6                   2286          11003            1                    144.59  \n",
       "7                   2286          11003            5                     24.36  \n",
       "8                   2286          11003            7                     79.96  \n",
       "9                   2286          11003            9                     69.29  "
      ]
     },
     "execution_count": 25,
     "metadata": {},
     "output_type": "execute_result"
    }
   ],
   "source": [
    "pd.read_csv(list_files_weekly[3],sep=\"|\",nrows=10)"
   ]
  },
  {
   "cell_type": "code",
   "execution_count": 29,
   "metadata": {},
   "outputs": [],
   "source": [
    "# 2. monthly\n",
    "list_files_monthly_1=\"/home/jian/BigLots/static_files/Store_list/MediaStormStores20200701-134729-986.txt\"\n",
    "list_files_monthly_2=\"/home/jian/BigLots/static_files/ProductTaxonomy/MediaStormProductTaxonomy20200701-134729-991.txt\"\n",
    "list_files_monthly_3=\"/home/jian/BigLots/unsubscribe/BL_Email_Subscriber_File_Delta__20200725040244.csv\"\n",
    "list_files_monthly_4=\"/home/jian/BigLots/unsubscribe/BL_Email_UnSubscriber_File_Refresh__20200725040404.csv\"\n",
    "list_files_weekly=[list_files_monthly_1,list_files_monthly_2,list_files_monthly_3,list_files_monthly_4]\n",
    "writer_monthly=pd.ExcelWriter(\"./BL_monthly_feed_to_MediaStorm.xlsx\",engine=\"xlsxwriter\")\n",
    "\n",
    "for file in list_files_weekly:\n",
    "    file_name=os.path.basename(file).split(\"2020\")[0].replace(\"__\",\"\").replace(\"BL_\",\"\")\n",
    "    df=pd.read_table(file,nrows=10,sep=\"|\")\n",
    "    df=df.dtypes.to_frame().reset_index()    \n",
    "    df.columns=[file_name,'']\n",
    "    df.to_excel(writer_monthly,file_name,index=False)\n",
    "writer_monthly.save()"
   ]
  },
  {
   "cell_type": "code",
   "execution_count": 30,
   "metadata": {},
   "outputs": [
    {
     "data": {
      "text/plain": [
       "Index(['Email_UnSubscriber_File_Refresh', ''], dtype='object')"
      ]
     },
     "execution_count": 30,
     "metadata": {},
     "output_type": "execute_result"
    }
   ],
   "source": [
    "df.columns"
   ]
  },
  {
   "cell_type": "code",
   "execution_count": null,
   "metadata": {},
   "outputs": [],
   "source": []
  }
 ],
 "metadata": {
  "kernelspec": {
   "display_name": "Python 3",
   "language": "python",
   "name": "python3"
  },
  "language_info": {
   "codemirror_mode": {
    "name": "ipython",
    "version": 3
   },
   "file_extension": ".py",
   "mimetype": "text/x-python",
   "name": "python",
   "nbconvert_exporter": "python",
   "pygments_lexer": "ipython3",
   "version": "3.6.1"
  }
 },
 "nbformat": 4,
 "nbformat_minor": 2
}
