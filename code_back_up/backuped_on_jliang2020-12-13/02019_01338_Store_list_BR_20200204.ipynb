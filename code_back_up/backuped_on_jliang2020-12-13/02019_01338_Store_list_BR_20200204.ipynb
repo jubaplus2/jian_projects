{
 "cells": [
  {
   "cell_type": "code",
   "execution_count": 1,
   "metadata": {},
   "outputs": [
    {
     "data": {
      "text/plain": [
       "datetime.datetime(2020, 2, 4, 18, 0, 32, 289419)"
      ]
     },
     "execution_count": 1,
     "metadata": {},
     "output_type": "execute_result"
    }
   ],
   "source": [
    "import pandas as pd\n",
    "import numpy as np\n",
    "import datetime\n",
    "import os\n",
    "\n",
    "datetime.datetime.now()"
   ]
  },
  {
   "cell_type": "code",
   "execution_count": 2,
   "metadata": {},
   "outputs": [
    {
     "name": "stdout",
     "output_type": "stream",
     "text": [
      "479 479\n"
     ]
    },
    {
     "data": {
      "text/html": [
       "<div>\n",
       "<style scoped>\n",
       "    .dataframe tbody tr th:only-of-type {\n",
       "        vertical-align: middle;\n",
       "    }\n",
       "\n",
       "    .dataframe tbody tr th {\n",
       "        vertical-align: top;\n",
       "    }\n",
       "\n",
       "    .dataframe thead th {\n",
       "        text-align: right;\n",
       "    }\n",
       "</style>\n",
       "<table border=\"1\" class=\"dataframe\">\n",
       "  <thead>\n",
       "    <tr style=\"text-align: right;\">\n",
       "      <th></th>\n",
       "      <th>location_id</th>\n",
       "      <th>Store_Type</th>\n",
       "    </tr>\n",
       "  </thead>\n",
       "  <tbody>\n",
       "    <tr>\n",
       "      <th>0</th>\n",
       "      <td>1</td>\n",
       "      <td>Yes</td>\n",
       "    </tr>\n",
       "    <tr>\n",
       "      <th>8</th>\n",
       "      <td>49</td>\n",
       "      <td>Yes</td>\n",
       "    </tr>\n",
       "  </tbody>\n",
       "</table>\n",
       "</div>"
      ],
      "text/plain": [
       "  location_id Store_Type\n",
       "0           1        Yes\n",
       "8          49        Yes"
      ]
     },
     "execution_count": 2,
     "metadata": {},
     "output_type": "execute_result"
    }
   ],
   "source": [
    "df_store_type=pd.ExcelFile(\"/home/jian/Projects/Big_Lots/Live_Ramp/Quarterly_Update_2020Q1/other_input/BL Store List Report from Dom 12.20.19.xlsx\")\n",
    "df_store_type=df_store_type.parse(\"Store List\",dtype=str)\n",
    "df_store_type=df_store_type[[\"Store\",'SOTF']]\n",
    "df_store_type=df_store_type[df_store_type['SOTF']==\"Yes\"]\n",
    "df_store_type=df_store_type[df_store_type['Store']!=\"TBD\"]\n",
    "print(len(df_store_type),df_store_type['Store'].nunique())\n",
    "df_store_type=df_store_type.rename(columns={\"Store\":\"location_id\",\"SOTF\":\"Store_Type\"})\n",
    "df_store_type.head(2)"
   ]
  },
  {
   "cell_type": "code",
   "execution_count": 3,
   "metadata": {},
   "outputs": [
    {
     "name": "stdout",
     "output_type": "stream",
     "text": [
      "(1426, 5) 1426\n"
     ]
    },
    {
     "data": {
      "text/html": [
       "<div>\n",
       "<style scoped>\n",
       "    .dataframe tbody tr th:only-of-type {\n",
       "        vertical-align: middle;\n",
       "    }\n",
       "\n",
       "    .dataframe tbody tr th {\n",
       "        vertical-align: top;\n",
       "    }\n",
       "\n",
       "    .dataframe thead th {\n",
       "        text-align: right;\n",
       "    }\n",
       "</style>\n",
       "<table border=\"1\" class=\"dataframe\">\n",
       "  <thead>\n",
       "    <tr style=\"text-align: right;\">\n",
       "      <th></th>\n",
       "      <th>location_id</th>\n",
       "      <th>store_furniture_group</th>\n",
       "      <th>rank</th>\n",
       "      <th>furniture_sales</th>\n",
       "      <th>total_fur_share</th>\n",
       "    </tr>\n",
       "  </thead>\n",
       "  <tbody>\n",
       "    <tr>\n",
       "      <th>0</th>\n",
       "      <td>1392</td>\n",
       "      <td>FurinitureHigh</td>\n",
       "      <td>1</td>\n",
       "      <td>639520.8300000002</td>\n",
       "      <td>0.466022037205638</td>\n",
       "    </tr>\n",
       "    <tr>\n",
       "      <th>1</th>\n",
       "      <td>5388</td>\n",
       "      <td>FurinitureHigh</td>\n",
       "      <td>2</td>\n",
       "      <td>670603.4500000003</td>\n",
       "      <td>0.4449548556274898</td>\n",
       "    </tr>\n",
       "  </tbody>\n",
       "</table>\n",
       "</div>"
      ],
      "text/plain": [
       "  location_id store_furniture_group rank    furniture_sales  \\\n",
       "0        1392        FurinitureHigh    1  639520.8300000002   \n",
       "1        5388        FurinitureHigh    2  670603.4500000003   \n",
       "\n",
       "      total_fur_share  \n",
       "0   0.466022037205638  \n",
       "1  0.4449548556274898  "
      ]
     },
     "execution_count": 3,
     "metadata": {},
     "output_type": "execute_result"
    }
   ],
   "source": [
    "file_furinture_sales_label=pd.ExcelFile(\"/home/jian/Projects/Big_Lots/Live_Ramp/Quarterly_Update_2020Q1/BL_output_store_type_furniture_3_months_JL_2020-01-16.xlsx\")\n",
    "df_store_furniture_label=file_furinture_sales_label.parse('store_type_recent_3_months',dtype=str)\n",
    "\n",
    "df_store_furniture_label=df_store_furniture_label[['location_id','store_furniture_group','rank','furniture_sales','total_fur_share']]\n",
    "\n",
    "print(df_store_furniture_label.shape,df_store_furniture_label['location_id'].nunique())\n",
    "\n",
    "# df_store_furniture_label=df_store_furniture_label.rename(columns={\"location_id\":\"allocated_store\"})\n",
    "df_store_furniture_label['store_furniture_group']=df_store_furniture_label['store_furniture_group'].apply(lambda x: \"Furiniture\"+x)\n",
    "df_store_furniture_label.head(2)"
   ]
  },
  {
   "cell_type": "code",
   "execution_count": 4,
   "metadata": {},
   "outputs": [
    {
     "data": {
      "text/html": [
       "<div>\n",
       "<style scoped>\n",
       "    .dataframe tbody tr th:only-of-type {\n",
       "        vertical-align: middle;\n",
       "    }\n",
       "\n",
       "    .dataframe tbody tr th {\n",
       "        vertical-align: top;\n",
       "    }\n",
       "\n",
       "    .dataframe thead th {\n",
       "        text-align: right;\n",
       "    }\n",
       "</style>\n",
       "<table border=\"1\" class=\"dataframe\">\n",
       "  <thead>\n",
       "    <tr style=\"text-align: right;\">\n",
       "      <th></th>\n",
       "      <th>location_id</th>\n",
       "      <th>address_line_1</th>\n",
       "      <th>address_line_2</th>\n",
       "      <th>city_nm</th>\n",
       "      <th>state_nm</th>\n",
       "      <th>zip_cd</th>\n",
       "      <th>latitude_meas</th>\n",
       "      <th>longitude_meas</th>\n",
       "      <th>Store_Type</th>\n",
       "      <th>store_furniture_group</th>\n",
       "      <th>rank</th>\n",
       "      <th>furniture_sales</th>\n",
       "      <th>total_fur_share</th>\n",
       "    </tr>\n",
       "  </thead>\n",
       "  <tbody>\n",
       "    <tr>\n",
       "      <th>0</th>\n",
       "      <td>3</td>\n",
       "      <td>2708 PEACH ORCHARD RD</td>\n",
       "      <td>NaN</td>\n",
       "      <td>AUGUSTA</td>\n",
       "      <td>GA</td>\n",
       "      <td>30906-2408</td>\n",
       "      <td>33.421570</td>\n",
       "      <td>-82.018921</td>\n",
       "      <td>NaN</td>\n",
       "      <td>FurinitureHigh</td>\n",
       "      <td>225</td>\n",
       "      <td>301461.2</td>\n",
       "      <td>0.3134393962307467</td>\n",
       "    </tr>\n",
       "    <tr>\n",
       "      <th>1</th>\n",
       "      <td>30</td>\n",
       "      <td>818 S MAIN ST</td>\n",
       "      <td>NaN</td>\n",
       "      <td>BOWLING GREEN</td>\n",
       "      <td>OH</td>\n",
       "      <td>43402-4601</td>\n",
       "      <td>41.363132</td>\n",
       "      <td>-83.650909</td>\n",
       "      <td>NaN</td>\n",
       "      <td>FurinitureHigh</td>\n",
       "      <td>196</td>\n",
       "      <td>247426.4699999999</td>\n",
       "      <td>0.3178732055928086</td>\n",
       "    </tr>\n",
       "  </tbody>\n",
       "</table>\n",
       "</div>"
      ],
      "text/plain": [
       "  location_id         address_line_1 address_line_2        city_nm state_nm  \\\n",
       "0           3  2708 PEACH ORCHARD RD            NaN        AUGUSTA       GA   \n",
       "1          30          818 S MAIN ST            NaN  BOWLING GREEN       OH   \n",
       "\n",
       "       zip_cd  latitude_meas  longitude_meas Store_Type store_furniture_group  \\\n",
       "0  30906-2408      33.421570      -82.018921        NaN        FurinitureHigh   \n",
       "1  43402-4601      41.363132      -83.650909        NaN        FurinitureHigh   \n",
       "\n",
       "  rank    furniture_sales     total_fur_share  \n",
       "0  225           301461.2  0.3134393962307467  \n",
       "1  196  247426.4699999999  0.3178732055928086  "
      ]
     },
     "execution_count": 4,
     "metadata": {},
     "output_type": "execute_result"
    }
   ],
   "source": [
    "store_list=pd.read_table(\"/home/jian/BigLots/static_files/Store_list/MediaStormStores20200201-134613-934.txt\",dtype=str,sep=\"|\")\n",
    "store_list=store_list[['location_id','address_line_1','address_line_2','city_nm','state_nm','zip_cd','latitude_meas','longitude_meas']]\n",
    "store_list['latitude_meas']=store_list['latitude_meas'].astype(float)\n",
    "store_list['longitude_meas']=store_list['longitude_meas'].astype(float)\n",
    "store_list=store_list[store_list['location_id']!=\"145\"]\n",
    "store_list=store_list[store_list['location_id']!=\"6990\"]\n",
    "\n",
    "\n",
    "store_list=pd.merge(store_list,df_store_type,on=\"location_id\",how=\"left\")\n",
    "store_list=pd.merge(store_list,df_store_furniture_label,on=\"location_id\",how=\"left\")\n",
    "\n",
    "\n",
    "store_list.head(2)\n"
   ]
  },
  {
   "cell_type": "code",
   "execution_count": 5,
   "metadata": {},
   "outputs": [
    {
     "data": {
      "text/plain": [
       "((1404, 13), 1404)"
      ]
     },
     "execution_count": 5,
     "metadata": {},
     "output_type": "execute_result"
    }
   ],
   "source": [
    "store_list.shape,store_list['location_id'].nunique()"
   ]
  },
  {
   "cell_type": "code",
   "execution_count": 6,
   "metadata": {},
   "outputs": [
    {
     "data": {
      "text/plain": [
       "(268, 13)"
      ]
     },
     "execution_count": 6,
     "metadata": {},
     "output_type": "execute_result"
    }
   ],
   "source": [
    "store_list['rank']=store_list['rank'].astype(int)\n",
    "store_list['Store_Type']=np.where(store_list['Store_Type']==\"Yes\",\"SOTF\",\"Legacy\")\n",
    "\n",
    "df_output=store_list[store_list['rank']<=702]\n",
    "df_output=df_output[df_output['Store_Type']==\"SOTF\"]\n",
    "df_output.shape"
   ]
  },
  {
   "cell_type": "code",
   "execution_count": 8,
   "metadata": {},
   "outputs": [],
   "source": [
    "writer=pd.ExcelWriter(\"./BL_store_addresses_SOTF_top50_Furniture_JL_\"+str(datetime.datetime.now().date())+\".xlsx\",engine=\"xlsxwriter\")\n",
    "\n",
    "df_output.to_excel(writer,\"addresses_needed\",index=False)\n",
    "store_list.to_excel(writer,\"all_stores\",index=False)\n",
    "\n",
    "writer.save()\n"
   ]
  },
  {
   "cell_type": "code",
   "execution_count": null,
   "metadata": {},
   "outputs": [],
   "source": []
  }
 ],
 "metadata": {
  "kernelspec": {
   "display_name": "Python 3",
   "language": "python",
   "name": "python3"
  },
  "language_info": {
   "codemirror_mode": {
    "name": "ipython",
    "version": 3
   },
   "file_extension": ".py",
   "mimetype": "text/x-python",
   "name": "python",
   "nbconvert_exporter": "python",
   "pygments_lexer": "ipython3",
   "version": "3.6.1"
  }
 },
 "nbformat": 4,
 "nbformat_minor": 2
}
