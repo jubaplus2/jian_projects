{
 "cells": [
  {
   "cell_type": "code",
   "execution_count": 1,
   "metadata": {},
   "outputs": [
    {
     "data": {
      "text/plain": [
       "'/home/jian/Projects/Saatva/MMM/URL_models/input'"
      ]
     },
     "execution_count": 1,
     "metadata": {},
     "output_type": "execute_result"
    }
   ],
   "source": [
    "import pandas as pd\n",
    "import numpy as np\n",
    "import datetime\n",
    "import os\n",
    "\n",
    "os.getcwd()"
   ]
  },
  {
   "cell_type": "code",
   "execution_count": 2,
   "metadata": {},
   "outputs": [
    {
     "name": "stderr",
     "output_type": "stream",
     "text": [
      "/usr/local/lib/python3.6/site-packages/ipykernel_launcher.py:3: SettingWithCopyWarning: \n",
      "A value is trying to be set on a copy of a slice from a DataFrame.\n",
      "Try using .loc[row_indexer,col_indexer] = value instead\n",
      "\n",
      "See the caveats in the documentation: http://pandas.pydata.org/pandas-docs/stable/indexing.html#indexing-view-versus-copy\n",
      "  This is separate from the ipykernel package so we can avoid doing imports until\n",
      "/usr/local/lib/python3.6/site-packages/ipykernel_launcher.py:5: SettingWithCopyWarning: \n",
      "A value is trying to be set on a copy of a slice from a DataFrame.\n",
      "Try using .loc[row_indexer,col_indexer] = value instead\n",
      "\n",
      "See the caveats in the documentation: http://pandas.pydata.org/pandas-docs/stable/indexing.html#indexing-view-versus-copy\n",
      "  \"\"\"\n",
      "/usr/local/lib/python3.6/site-packages/ipykernel_launcher.py:7: SettingWithCopyWarning: \n",
      "A value is trying to be set on a copy of a slice from a DataFrame.\n",
      "Try using .loc[row_indexer,col_indexer] = value instead\n",
      "\n",
      "See the caveats in the documentation: http://pandas.pydata.org/pandas-docs/stable/indexing.html#indexing-view-versus-copy\n",
      "  import sys\n"
     ]
    },
    {
     "data": {
      "text/plain": [
       "(365, 3)"
      ]
     },
     "execution_count": 2,
     "metadata": {},
     "output_type": "execute_result"
    }
   ],
   "source": [
    "sales_data=pd.read_csv('/home/jian/Projects/Saatva/MMM/Input/sales_data.csv',dtype=str)\n",
    "sales_data_saatva=sales_data[sales_data['brand']=='saatva']\n",
    "sales_data_saatva['sales']=sales_data_saatva['sales'].astype(float).round(2)\n",
    "\n",
    "sales_data_saatva['date']=sales_data_saatva['date_time'].apply(lambda x: datetime.datetime.strptime(x.split(\" \")[0],\"%Y-%m-%d\").date())\n",
    "sales_data_2018_Saatva=sales_data_saatva[sales_data_saatva['date'].apply(lambda x: x.year==2018)]\n",
    "sales_data_2018_Saatva['date']=sales_data_2018_Saatva['date'].astype(str)\n",
    "sales_data_2018_Saatva_sales=sales_data_2018_Saatva.groupby(['date'])['sales'].sum().to_frame().reset_index().rename(columns={\"sales\":\"sales_net\"})\n",
    "sales_data_2018_Saatva_trans=sales_data_2018_Saatva.groupby(['date'])['sales'].count().to_frame().reset_index().rename(columns={\"sales\":\"trans_net\"})\n",
    "sales_data_2018_Saatva=pd.merge(sales_data_2018_Saatva_sales,sales_data_2018_Saatva_trans,on=\"date\")\n",
    "sales_data_2018_Saatva.shape"
   ]
  },
  {
   "cell_type": "code",
   "execution_count": 3,
   "metadata": {},
   "outputs": [
    {
     "data": {
      "text/plain": [
       "['Home Page', 'Blogs', 'Other', '404 Pages']"
      ]
     },
     "execution_count": 3,
     "metadata": {},
     "output_type": "execute_result"
    }
   ],
   "source": [
    "SM_input_excel=pd.ExcelFile(\"/home/jian/Projects/Saatva/MMM/URL_models/input/sm_all_urls_0417.xlsx\")\n",
    "SM_input_excel.sheet_names"
   ]
  },
  {
   "cell_type": "code",
   "execution_count": 4,
   "metadata": {},
   "outputs": [],
   "source": [
    "agg_SM_data=pd.DataFrame()\n",
    "\n",
    "for sheet in SM_input_excel.sheet_names:\n",
    "    df=SM_input_excel.parse(sheet)\n",
    "    for col in df.columns.tolist():\n",
    "        if col not in [\"Date\",'Users','Sessions','ga:goal11Completions','Time on Page','Transactions']:\n",
    "            df=df.rename(columns={col:sheet.replace(\" \",\"\")+\"|\"+col})\n",
    "    if len(agg_SM_data)==0:\n",
    "        agg_SM_data=df\n",
    "    else:\n",
    "        agg_SM_data=pd.merge(agg_SM_data,df,on=[\"Date\",'Users','Sessions','ga:goal11Completions','Time on Page','Transactions'])\n",
    "agg_SM_data=agg_SM_data.rename(columns={\"Date\":\"date\"})\n",
    "\n",
    "    \n",
    "    "
   ]
  },
  {
   "cell_type": "code",
   "execution_count": 8,
   "metadata": {},
   "outputs": [],
   "source": [
    "agg_SM_data=pd.merge(sales_data_2018_Saatva,agg_SM_data,on=\"date\")\n"
   ]
  },
  {
   "cell_type": "code",
   "execution_count": 11,
   "metadata": {},
   "outputs": [],
   "source": [
    "agg_SM_data.to_csv(\"/home/jian/Projects/Saatva/MMM/URL_models/input/URL_SM_input_data_JL_\"+str(datetime.datetime.now().date())+\".csv\",index=False)"
   ]
  },
  {
   "cell_type": "code",
   "execution_count": 13,
   "metadata": {},
   "outputs": [
    {
     "data": {
      "text/plain": [
       "['Blogs|www.saatvamattress.com/blog/why-pay-more-for-your-mattress-at-retail',\n",
       " 'Blogs|www.saatvamattress.com/blog/where-is-your-mattress-from',\n",
       " 'Blogs|www.saatvamattress.com/blog/how-eco-friendly-is-your-mattress',\n",
       " 'Blogs|www.saatvamattress.com/blog/how-to-clean-your-mattress',\n",
       " 'Blogs|www.saatvamattress.com/blog/make-your-mattress-last-longer',\n",
       " 'Other|www.saatvamattress.com/our-mattresses.html',\n",
       " 'Other|www.saatvamattress.com/Our-mattresses.html',\n",
       " '404Pages|www.saatvamattress.com/blog/how-to-spring-clean-your-mattress',\n",
       " '404Pages|www.saatvamattress.com/our-mattresses.htmlsaatvamattress.com']"
      ]
     },
     "execution_count": 13,
     "metadata": {},
     "output_type": "execute_result"
    }
   ],
   "source": [
    "[x for x in agg_SM_data.columns.tolist() if \"ur-mat\" in x]"
   ]
  },
  {
   "cell_type": "code",
   "execution_count": null,
   "metadata": {
    "collapsed": true
   },
   "outputs": [],
   "source": []
  }
 ],
 "metadata": {
  "kernelspec": {
   "display_name": "Python 3",
   "language": "python",
   "name": "python3"
  },
  "language_info": {
   "codemirror_mode": {
    "name": "ipython",
    "version": 3
   },
   "file_extension": ".py",
   "mimetype": "text/x-python",
   "name": "python",
   "nbconvert_exporter": "python",
   "pygments_lexer": "ipython3",
   "version": "3.6.1"
  }
 },
 "nbformat": 4,
 "nbformat_minor": 2
}
