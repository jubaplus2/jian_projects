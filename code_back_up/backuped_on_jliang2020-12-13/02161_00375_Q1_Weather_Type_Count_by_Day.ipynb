{
 "cells": [
  {
   "cell_type": "code",
   "execution_count": 1,
   "metadata": {
    "collapsed": true
   },
   "outputs": [],
   "source": [
    "import pandas as pd\n",
    "import datetime\n",
    "import json\n",
    "import glob\n",
    "import numpy as np\n",
    "import gc"
   ]
  },
  {
   "cell_type": "markdown",
   "metadata": {},
   "source": [
    "# Sales Df"
   ]
  },
  {
   "cell_type": "code",
   "execution_count": 2,
   "metadata": {
    "collapsed": true
   },
   "outputs": [],
   "source": [
    "Sales_df=pd.read_excel(\"/home/jian/Projects/Big_Lots/Weather/Q1_Weather_Counts/BL_Sales YoY_JL_20180514.xlsx\",sheetname=\"sales\",dtype=str)\n",
    "Sales_df_inclusion=Sales_df[Sales_df['Q1 Inclusion']==\"Inclusion\"]\n",
    "store_inclusion=Sales_df_inclusion[['location_id','Q1 Inclusion','DMA']]\n",
    "store_zip=pd.read_excel(\"/home/jian/Projects/Big_Lots/Other_Input/all_store_DMA.xlsx\",dtype=str)\n",
    "store_zip=store_zip[['location_id','zip_cd']]\n",
    "store_inclusion=pd.merge(store_inclusion,store_zip,on=\"location_id\",how=\"left\")"
   ]
  },
  {
   "cell_type": "code",
   "execution_count": null,
   "metadata": {
    "collapsed": true
   },
   "outputs": [],
   "source": []
  },
  {
   "cell_type": "markdown",
   "metadata": {},
   "source": [
    "# Weather"
   ]
  },
  {
   "cell_type": "code",
   "execution_count": 3,
   "metadata": {
    "collapsed": true
   },
   "outputs": [],
   "source": [
    "data_folder=\"/home/jian/Projects/Big_Lots/Weather/Json_data/daily/api_response_20180524/\"\n",
    "file_list=glob.glob(data_folder+\"*.json\")"
   ]
  },
  {
   "cell_type": "code",
   "execution_count": 4,
   "metadata": {
    "collapsed": true
   },
   "outputs": [],
   "source": [
    "file_df=pd.DataFrame({\"file_location\":file_list,\"Date\":[datetime.datetime.strptime(x[len(x)-15:len(x)-5],\"%Y-%m-%d\").date() for x in file_list]},index=range(len(file_list)))"
   ]
  },
  {
   "cell_type": "code",
   "execution_count": 5,
   "metadata": {
    "collapsed": true
   },
   "outputs": [],
   "source": [
    "file_df['Q1']=np.where((file_df['Date']>=datetime.datetime(2018,2,4).date()) & (file_df['Date']<=datetime.datetime(2018,5,5).date()),\"Q1\",\"Non_Q1\")"
   ]
  },
  {
   "cell_type": "code",
   "execution_count": 6,
   "metadata": {
    "collapsed": true
   },
   "outputs": [],
   "source": [
    "file_df_Q1=file_df[file_df['Q1']==\"Q1\"]"
   ]
  },
  {
   "cell_type": "code",
   "execution_count": 7,
   "metadata": {
    "collapsed": true
   },
   "outputs": [],
   "source": [
    "all_weather_groups=[]\n",
    "all_weather_desc=[]\n",
    "all_weather_id=[]\n",
    "for file in file_df_Q1['file_location']:\n",
    "    json_file=json.load(open(file,\"r\"))\n",
    "    for zip_cd in list(json_file.keys()):\n",
    "        weather_group = []\n",
    "        weather_desc = []\n",
    "        weather_id = []\n",
    "        for i in range(len(json_file[zip_cd]['weather'])):\n",
    "            weather_group=list(set(weather_group+[json_file[zip_cd]['weather'][i]['main']]))\n",
    "            all_weather_groups=list(set(all_weather_groups+weather_group))\n",
    "\n",
    "            weather_desc=list(set(weather_desc+[json_file[zip_cd]['weather'][i]['description']]))\n",
    "            all_weather_desc=list(set(all_weather_desc+weather_desc))\n",
    "\n",
    "            weather_id=list(set(weather_id+[json_file[zip_cd]['weather'][i]['id']]))\n",
    "            all_weather_id=list(set(all_weather_id+weather_id))"
   ]
  },
  {
   "cell_type": "code",
   "execution_count": 43,
   "metadata": {},
   "outputs": [],
   "source": [
    "gc.collect()\n",
    "df_agg_group=pd.DataFrame()\n",
    "df_agg_desc=pd.DataFrame()\n",
    "\n",
    "for file in file_df_Q1['file_location']:\n",
    "    json_file=json.load(open(file,\"r\"))\n",
    "    date=datetime.datetime.strptime(file[len(file)-15:len(file)-5],\"%Y-%m-%d\").date()\n",
    "    date_str=str(date)\n",
    "    weather_list_col=\"weather_\"+date_str\n",
    "\n",
    "    for zip_cd in store_inclusion['zip_cd'].unique():\n",
    "        weather=[]\n",
    "        weather_desc=[]\n",
    "        \n",
    "        if zip_cd in json_file.keys():\n",
    "            weather_types=len(json_file[zip_cd]['weather'])\n",
    "\n",
    "            for j in range(weather_types):\n",
    "                weather = weather+[str(json_file[zip_cd]['weather'][j]['main'])]\n",
    "                weather_desc=weather_desc+[str(json_file[zip_cd]['weather'][j]['description'])]\n",
    "            df_weather_group=pd.DataFrame({\"zip_cd\":zip_cd,\"Weather_Group_List\":[weather],\"Date\":weather_list_col},index=[0])\n",
    "            df_weather_desc=pd.DataFrame({\"zip_cd\":zip_cd,\"Weather_Desc_List\":[weather_desc],\"Date\":weather_list_col},index=[0])\n",
    "        \n",
    "        else:\n",
    "            df_weather_group=pd.DataFrame({\"zip_cd\":zip_cd,\"Weather_Group_List\":[np.nan],\"Date\":weather_list_col},index=[0])\n",
    "            df_weather_desc=pd.DataFrame({\"zip_cd\":zip_cd,\"Weather_Desc_List\":[np.nan],\"Date\":weather_list_col},index=[0])\n",
    "        \n",
    "        df_agg_group=df_agg_group.append(df_weather_group)\n",
    "        df_agg_desc=df_agg_desc.append(df_weather_desc)"
   ]
  },
  {
   "cell_type": "code",
   "execution_count": 44,
   "metadata": {},
   "outputs": [],
   "source": [
    "df_agg_group=df_agg_group.reset_index()\n",
    "del df_agg_group['index']\n",
    "df_agg_desc=df_agg_desc.reset_index()\n",
    "del df_agg_desc['index']\n",
    "\n",
    "df_agg_group_wide=df_agg_group.pivot(index=\"zip_cd\",columns=\"Date\",values=\"Weather_Group_List\").reset_index()\n",
    "df_agg_desc_wide=df_agg_desc.pivot(index=\"zip_cd\",columns=\"Date\",values=\"Weather_Desc_List\").reset_index()"
   ]
  },
  {
   "cell_type": "code",
   "execution_count": 58,
   "metadata": {},
   "outputs": [],
   "source": [
    "store_inclusion_weather_group=pd.merge(store_inclusion,df_agg_group_wide,on=\"zip_cd\",how=\"left\")\n",
    "store_inclusion_weather_desc=pd.merge(store_inclusion,df_agg_desc_wide,on=\"zip_cd\",how=\"left\")\n",
    "store_inclusion_weather_group=store_inclusion_weather_group.fillna(\"nan\")\n",
    "store_inclusion_weather_desc=store_inclusion_weather_desc.fillna(\"nan\")"
   ]
  },
  {
   "cell_type": "code",
   "execution_count": 46,
   "metadata": {
    "collapsed": true
   },
   "outputs": [],
   "source": [
    "store_inclusion_weather_group.to_csv(\"/home/jian/Projects/Big_Lots/Weather/Q1_Weather_Counts/test.csv\",index=False)"
   ]
  },
  {
   "cell_type": "code",
   "execution_count": 59,
   "metadata": {},
   "outputs": [],
   "source": [
    "weather_cols=store_inclusion_weather_group.columns.tolist()[4:]"
   ]
  },
  {
   "cell_type": "code",
   "execution_count": 57,
   "metadata": {},
   "outputs": [
    {
     "data": {
      "text/plain": [
       "['weather_2018-02-04',\n",
       " 'weather_2018-02-05',\n",
       " 'weather_2018-02-06',\n",
       " 'weather_2018-02-07',\n",
       " 'weather_2018-02-08',\n",
       " 'weather_2018-02-09',\n",
       " 'weather_2018-02-10',\n",
       " 'weather_2018-02-11',\n",
       " 'weather_2018-02-12',\n",
       " 'weather_2018-02-13',\n",
       " 'weather_2018-02-14',\n",
       " 'weather_2018-02-15',\n",
       " 'weather_2018-02-16',\n",
       " 'weather_2018-02-17',\n",
       " 'weather_2018-02-18',\n",
       " 'weather_2018-02-19',\n",
       " 'weather_2018-02-20',\n",
       " 'weather_2018-02-21',\n",
       " 'weather_2018-02-22',\n",
       " 'weather_2018-02-23',\n",
       " 'weather_2018-02-24',\n",
       " 'weather_2018-02-25',\n",
       " 'weather_2018-02-26',\n",
       " 'weather_2018-02-28',\n",
       " 'weather_2018-03-01',\n",
       " 'weather_2018-03-02',\n",
       " 'weather_2018-03-03',\n",
       " 'weather_2018-03-04',\n",
       " 'weather_2018-03-05',\n",
       " 'weather_2018-03-06',\n",
       " 'weather_2018-03-07',\n",
       " 'weather_2018-03-08',\n",
       " 'weather_2018-03-09',\n",
       " 'weather_2018-03-10',\n",
       " 'weather_2018-03-11',\n",
       " 'weather_2018-03-12',\n",
       " 'weather_2018-03-13',\n",
       " 'weather_2018-03-14',\n",
       " 'weather_2018-03-15',\n",
       " 'weather_2018-03-16',\n",
       " 'weather_2018-03-17',\n",
       " 'weather_2018-03-18',\n",
       " 'weather_2018-03-19',\n",
       " 'weather_2018-03-20',\n",
       " 'weather_2018-03-21',\n",
       " 'weather_2018-03-22',\n",
       " 'weather_2018-03-24',\n",
       " 'weather_2018-03-25',\n",
       " 'weather_2018-03-26',\n",
       " 'weather_2018-03-27',\n",
       " 'weather_2018-03-28',\n",
       " 'weather_2018-03-29',\n",
       " 'weather_2018-03-30',\n",
       " 'weather_2018-03-31',\n",
       " 'weather_2018-04-01',\n",
       " 'weather_2018-04-02',\n",
       " 'weather_2018-04-03',\n",
       " 'weather_2018-04-04',\n",
       " 'weather_2018-04-05',\n",
       " 'weather_2018-04-06',\n",
       " 'weather_2018-04-07',\n",
       " 'weather_2018-04-08',\n",
       " 'weather_2018-04-09',\n",
       " 'weather_2018-04-10',\n",
       " 'weather_2018-04-11',\n",
       " 'weather_2018-04-12',\n",
       " 'weather_2018-04-13',\n",
       " 'weather_2018-04-14',\n",
       " 'weather_2018-04-15',\n",
       " 'weather_2018-04-17',\n",
       " 'weather_2018-04-18',\n",
       " 'weather_2018-04-19',\n",
       " 'weather_2018-04-20',\n",
       " 'weather_2018-04-21',\n",
       " 'weather_2018-04-22',\n",
       " 'weather_2018-04-23',\n",
       " 'weather_2018-04-24',\n",
       " 'weather_2018-04-25',\n",
       " 'weather_2018-04-26',\n",
       " 'weather_2018-04-27',\n",
       " 'weather_2018-04-28',\n",
       " 'weather_2018-04-29',\n",
       " 'weather_2018-04-30',\n",
       " 'weather_2018-05-01',\n",
       " 'weather_2018-05-02',\n",
       " 'weather_2018-05-03',\n",
       " 'weather_2018-05-04',\n",
       " 'weather_2018-05-05']"
      ]
     },
     "execution_count": 57,
     "metadata": {},
     "output_type": "execute_result"
    }
   ],
   "source": [
    "store_inclusion_weather_group['total_recorded_days']=np.nan\n",
    "for i in range(len(store_inclusion_weather_group)):\n",
    "    k_all=0\n",
    "    for col in weather_cols:\n",
    "        if store_inclusion_weather_group[col][i]!=\"nan\":\n",
    "            k_all=k_all+1\n",
    "            store_inclusion_weather_group['total_recorded_days'][i]=k\n",
    "        \n",
    "        for type_w in weather_group:\n",
    "            k_type_w=0\n",
    "            if type_w in store_inclusion_weather_group[col][i]:\n",
    "                k_type_w=k_type_w+1"
   ]
  },
  {
   "cell_type": "code",
   "execution_count": null,
   "metadata": {
    "collapsed": true
   },
   "outputs": [],
   "source": []
  },
  {
   "cell_type": "code",
   "execution_count": 27,
   "metadata": {},
   "outputs": [
    {
     "data": {
      "text/plain": [
       "['Thunderstorm',\n",
       " 'Mist',\n",
       " 'Snow',\n",
       " 'Fog',\n",
       " 'Rain',\n",
       " 'Clear',\n",
       " 'Dust',\n",
       " 'Clouds',\n",
       " 'Haze',\n",
       " 'Drizzle',\n",
       " 'Squall',\n",
       " 'Smoke']"
      ]
     },
     "execution_count": 27,
     "metadata": {},
     "output_type": "execute_result"
    }
   ],
   "source": [
    "for weather_group in all_weather_groups:\n",
    "    if all_weather_groups"
   ]
  },
  {
   "cell_type": "code",
   "execution_count": 30,
   "metadata": {},
   "outputs": [
    {
     "data": {
      "text/plain": [
       "(1383, 92)"
      ]
     },
     "execution_count": 30,
     "metadata": {},
     "output_type": "execute_result"
    }
   ],
   "source": [
    "store_inclusion_weather_group.shape"
   ]
  },
  {
   "cell_type": "code",
   "execution_count": 33,
   "metadata": {},
   "outputs": [
    {
     "data": {
      "text/plain": [
       "['heavy intensity drizzle',\n",
       " 'fog',\n",
       " 'overcast clouds',\n",
       " 'broken clouds',\n",
       " 'light intensity drizzle',\n",
       " 'light shower snow',\n",
       " 'clear sky',\n",
       " 'scattered clouds',\n",
       " 'thunderstorm with heavy rain',\n",
       " 'freezing rain',\n",
       " 'dust',\n",
       " 'light intensity shower rain',\n",
       " 'thunderstorm with light drizzle',\n",
       " 'light intensity drizzle rain',\n",
       " 'thunderstorm with light rain',\n",
       " 'light rain',\n",
       " 'drizzle',\n",
       " 'shower snow',\n",
       " 'heavy intensity rain',\n",
       " 'squalls',\n",
       " 'thunderstorm with rain',\n",
       " 'smoke',\n",
       " 'thunderstorm with drizzle',\n",
       " 'heavy snow',\n",
       " 'light rain and snow',\n",
       " 'haze',\n",
       " 'sleet',\n",
       " 'shower rain',\n",
       " 'thunderstorm',\n",
       " 'few clouds',\n",
       " 'mist',\n",
       " 'light snow',\n",
       " 'shower drizzle',\n",
       " 'moderate rain',\n",
       " 'snow']"
      ]
     },
     "execution_count": 33,
     "metadata": {},
     "output_type": "execute_result"
    }
   ],
   "source": [
    "store_inclusion_weather_group['recorded_days_with_weather']="
   ]
  },
  {
   "cell_type": "code",
   "execution_count": 34,
   "metadata": {},
   "outputs": [
    {
     "data": {
      "text/plain": [
       "[771,\n",
       " 520,\n",
       " 521,\n",
       " 800,\n",
       " 801,\n",
       " 802,\n",
       " 803,\n",
       " 804,\n",
       " 300,\n",
       " 301,\n",
       " 302,\n",
       " 310,\n",
       " 701,\n",
       " 321,\n",
       " 711,\n",
       " 200,\n",
       " 201,\n",
       " 202,\n",
       " 721,\n",
       " 211,\n",
       " 600,\n",
       " 601,\n",
       " 602,\n",
       " 611,\n",
       " 741,\n",
       " 230,\n",
       " 615,\n",
       " 231,\n",
       " 620,\n",
       " 621,\n",
       " 500,\n",
       " 501,\n",
       " 502,\n",
       " 761,\n",
       " 511]"
      ]
     },
     "execution_count": 34,
     "metadata": {},
     "output_type": "execute_result"
    }
   ],
   "source": [
    "all_weather_id"
   ]
  },
  {
   "cell_type": "code",
   "execution_count": 35,
   "metadata": {
    "collapsed": true
   },
   "outputs": [],
   "source": [
    "x=json.load(open(file_df[file_df['Date']==datetime.datetime(2018,2,22).date()]['file_location'][0],\"r\"))"
   ]
  },
  {
   "cell_type": "code",
   "execution_count": 42,
   "metadata": {},
   "outputs": [
    {
     "data": {
      "text/plain": [
       "[0]"
      ]
     },
     "execution_count": 42,
     "metadata": {},
     "output_type": "execute_result"
    }
   ],
   "source": [
    "list(range(len(x['43402']['weather'])))"
   ]
  },
  {
   "cell_type": "code",
   "execution_count": null,
   "metadata": {
    "collapsed": true
   },
   "outputs": [],
   "source": []
  }
 ],
 "metadata": {
  "kernelspec": {
   "display_name": "Python 3",
   "language": "python",
   "name": "python3"
  },
  "language_info": {
   "codemirror_mode": {
    "name": "ipython",
    "version": 3
   },
   "file_extension": ".py",
   "mimetype": "text/x-python",
   "name": "python",
   "nbconvert_exporter": "python",
   "pygments_lexer": "ipython3",
   "version": "3.6.1"
  }
 },
 "nbformat": 4,
 "nbformat_minor": 2
}
