{
 "cells": [
  {
   "cell_type": "code",
   "execution_count": 6,
   "metadata": {},
   "outputs": [],
   "source": [
    "import os\n",
    "os.getcwd()\n",
    "import pandas as pd"
   ]
  },
  {
   "cell_type": "code",
   "execution_count": 7,
   "metadata": {},
   "outputs": [],
   "source": [
    "\n",
    "filelist = os.listdir('/home/jian')\n",
    "filelist = pd.DataFrame(filelist)"
   ]
  },
  {
   "cell_type": "code",
   "execution_count": 9,
   "metadata": {},
   "outputs": [
    {
     "data": {
      "text/plain": [
       "0                                              .mozilla\n",
       "1                                          .bash_logout\n",
       "2                                         .bash_profile\n",
       "3                                               .bashrc\n",
       "4                                                .cache\n",
       "5                                               .config\n",
       "6                                         .bash_history\n",
       "7                                           BiglotsCode\n",
       "8                                               BigLots\n",
       "9                           BL Data Backup from clients\n",
       "10                                               .local\n",
       "11                                   .ipynb_checkpoints\n",
       "12                                             .ipython\n",
       "13                                             .jupyter\n",
       "14                           Moved from Internal Server\n",
       "15                                             Projects\n",
       "16                                           From Lexie\n",
       "17                                                 .ssh\n",
       "18    Media Storm - Local Backup - Never Remove - Dec 1\n",
       "19                                                 Docs\n",
       "20                                          Media Storm\n",
       "21                                               SunnyD\n",
       "22                   Programing_ScheduleFinal0507.ipynb\n",
       "23                                        lawn_code.csv\n",
       "24                                               celery\n",
       "25                                                 .pki\n",
       "26                                       .erlang.cookie\n",
       "27                                             .viminfo\n",
       "28                                           celery.log\n",
       "29                                      AdWords_DCM_API\n",
       "30                                   check_TMR_Circ.csv\n",
       "31                              Test_Bing_Map_API.ipynb\n",
       "32                                      Files_From_Keyi\n",
       "33                         Store_Quadrants_2018Q3.ipynb\n",
       "34                                         code_back_up\n",
       "35                      Code_for_backing_up_codes.ipynb\n",
       "36                                       Spencer_Backup\n",
       "37                                   local_files_backup\n",
       "38                                       Untitled.ipynb\n",
       "Name: 0, dtype: object"
      ]
     },
     "execution_count": 9,
     "metadata": {},
     "output_type": "execute_result"
    }
   ],
   "source": [
    "filelist[0]"
   ]
  },
  {
   "cell_type": "code",
   "execution_count": null,
   "metadata": {
    "collapsed": true
   },
   "outputs": [],
   "source": []
  }
 ],
 "metadata": {
  "kernelspec": {
   "display_name": "Python 3",
   "language": "python",
   "name": "python3"
  },
  "language_info": {
   "codemirror_mode": {
    "name": "ipython",
    "version": 3
   },
   "file_extension": ".py",
   "mimetype": "text/x-python",
   "name": "python",
   "nbconvert_exporter": "python",
   "pygments_lexer": "ipython3",
   "version": "3.6.1"
  }
 },
 "nbformat": 4,
 "nbformat_minor": 2
}
