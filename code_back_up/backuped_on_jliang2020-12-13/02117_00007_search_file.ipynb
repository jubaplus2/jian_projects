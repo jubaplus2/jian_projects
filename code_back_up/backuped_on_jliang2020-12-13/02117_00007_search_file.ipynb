{
 "cells": [
  {
   "cell_type": "code",
   "execution_count": 1,
   "metadata": {},
   "outputs": [
    {
     "data": {
      "text/plain": [
       "'/home/jian'"
      ]
     },
     "execution_count": 1,
     "metadata": {},
     "output_type": "execute_result"
    }
   ],
   "source": [
    "import os\n",
    "os.getcwd()\n"
   ]
  },
  {
   "cell_type": "code",
   "execution_count": 2,
   "metadata": {},
   "outputs": [],
   "source": [
    "def recursive_file_gen(root_path):\n",
    "    for root, dirst, files in os.walk(root_path):\n",
    "        for file in files:\n",
    "            yield os.path.join(root,file)"
   ]
  },
  {
   "cell_type": "code",
   "execution_count": 3,
   "metadata": {},
   "outputs": [],
   "source": [
    "all_files=list(recursive_file_gen(\"/home/jian/Projects/Big_Lots/\"))"
   ]
  },
  {
   "cell_type": "code",
   "execution_count": 4,
   "metadata": {},
   "outputs": [
    {
     "data": {
      "text/plain": [
       "40041"
      ]
     },
     "execution_count": 4,
     "metadata": {},
     "output_type": "execute_result"
    }
   ],
   "source": [
    "len(all_files)"
   ]
  },
  {
   "cell_type": "code",
   "execution_count": 6,
   "metadata": {},
   "outputs": [
    {
     "data": {
      "text/plain": [
       "['/home/jian/Projects/Big_Lots/New_TA/MattressFirm/Checking about address of mattress firm.xlsx',\n",
       " '/home/jian/Projects/Big_Lots/Analysis/2019_Q4/Planner_Request/Faith_SOTF_address/address_for_current_open_SOTF.ipynb',\n",
       " '/home/jian/Projects/Big_Lots/Analysis/2019_Q4/Planner_Request/Faith_SOTF_address/BL_store_list_with_SOTF_indicator_JL_2020-01-29.xlsx',\n",
       " '/home/jian/Projects/Big_Lots/Analysis/2019_Q4/Planner_Request/Faith_SOTF_address/.ipynb_checkpoints/address_for_current_open_SOTF-checkpoint.ipynb',\n",
       " '/home/jian/Projects/Big_Lots/Analysis/2020_Q1/plannder_requests/Bruce_store_list_with_SOTF_and_furniture_20200204/BL_store_addresses_SOTF_top50_Furniture_JL_2020-02-04.xlsx',\n",
       " '/home/jian/Projects/Big_Lots/Analysis/2020_Q1/plannder_requests/Faith_zips_for_SOTF_20200218/Big Lots SOTF GOs Addresses with Store # - 3.12.20.xlsx']"
      ]
     },
     "execution_count": 6,
     "metadata": {},
     "output_type": "execute_result"
    }
   ],
   "source": [
    "[x for x in all_files if \"address\" in x.lower()]"
   ]
  },
  {
   "cell_type": "code",
   "execution_count": 16,
   "metadata": {},
   "outputs": [
    {
     "data": {
      "text/plain": [
       "['/home/jian/Projects/Big_Lots/Recliner_and_Fireplace.ipynb']"
      ]
     },
     "execution_count": 16,
     "metadata": {},
     "output_type": "execute_result"
    }
   ],
   "source": [
    "[x for x in all_files if \"recliner\" in x.lower()]"
   ]
  },
  {
   "cell_type": "code",
   "execution_count": null,
   "metadata": {},
   "outputs": [],
   "source": []
  }
 ],
 "metadata": {
  "kernelspec": {
   "display_name": "Python 3",
   "language": "python",
   "name": "python3"
  },
  "language_info": {
   "codemirror_mode": {
    "name": "ipython",
    "version": 3
   },
   "file_extension": ".py",
   "mimetype": "text/x-python",
   "name": "python",
   "nbconvert_exporter": "python",
   "pygments_lexer": "ipython3",
   "version": "3.6.1"
  }
 },
 "nbformat": 4,
 "nbformat_minor": 2
}
