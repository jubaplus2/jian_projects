{
 "cells": [
  {
   "cell_type": "code",
   "execution_count": 1,
   "metadata": {},
   "outputs": [
    {
     "data": {
      "text/plain": [
       "'/home/jian/Projects/Big_Lots/Analysis/2019_Q1/Planner_Request/Q1Q4_1817_Bruce_Sales_per_rewards'"
      ]
     },
     "execution_count": 1,
     "metadata": {},
     "output_type": "execute_result"
    }
   ],
   "source": [
    "import pandas as pd\n",
    "import os\n",
    "import datetime\n",
    "import numpy as np\n",
    "os.getcwd()"
   ]
  },
  {
   "cell_type": "code",
   "execution_count": 2,
   "metadata": {},
   "outputs": [],
   "source": [
    "Q4_2017_weeks=[datetime.date(2017,11,11)+datetime.timedelta(days=x*7) for x in range(13)]\n",
    "Q1_2018_weeks=[datetime.date(2018,2,10)+datetime.timedelta(days=x*7) for x in range(13)]"
   ]
  },
  {
   "cell_type": "code",
   "execution_count": 3,
   "metadata": {},
   "outputs": [],
   "source": [
    "def recrusive_file_generator(root_folder):\n",
    "    for root,dirs,files in os.walk(root_folder):\n",
    "        for file in files:\n",
    "            yield(os.path.join(root,file))"
   ]
  },
  {
   "cell_type": "code",
   "execution_count": 4,
   "metadata": {
    "collapsed": true
   },
   "outputs": [],
   "source": [
    "all_historical_daily_files=list(recrusive_file_generator(\"/home/jian/BigLots/hist_daily_data_subclasslevel/\"))"
   ]
  },
  {
   "cell_type": "code",
   "execution_count": 5,
   "metadata": {},
   "outputs": [],
   "source": [
    "Q4_2017_files=[]\n",
    "Q1_2018_files=[]\n",
    "\n",
    "for week_end_dt in Q4_2017_weeks:\n",
    "    file_week=[x for x in all_historical_daily_files if str(week_end_dt) in x]\n",
    "    if len(file_week)==1:\n",
    "        Q4_2017_files=Q4_2017_files+file_week\n",
    "        \n",
    "for week_end_dt in Q1_2018_weeks:\n",
    "    file_week=[x for x in all_historical_daily_files if str(week_end_dt) in x]\n",
    "    if len(file_week)==1:\n",
    "        Q1_2018_files=Q1_2018_files+file_week"
   ]
  },
  {
   "cell_type": "code",
   "execution_count": 6,
   "metadata": {},
   "outputs": [
    {
     "name": "stdout",
     "output_type": "stream",
     "text": [
      "2017-11-05 2017-11-11 2019-03-26 14:07:43.385403\n",
      "2017-11-12 2017-11-18 2019-03-26 14:09:32.294927\n",
      "2017-11-19 2017-11-25 2019-03-26 14:11:45.152582\n",
      "2017-11-26 2017-12-02 2019-03-26 14:14:09.857422\n",
      "2017-12-03 2017-12-09 2019-03-26 14:16:38.780037\n",
      "2017-12-10 2017-12-16 2019-03-26 14:19:09.083573\n",
      "2017-12-17 2017-12-23 2019-03-26 14:22:13.301076\n",
      "2017-12-24 2017-12-30 2019-03-26 14:23:48.634156\n",
      "2017-12-31 2018-01-06 2019-03-26 14:25:00.476173\n",
      "2018-01-07 2018-01-13 2019-03-26 14:26:20.121037\n",
      "2018-01-14 2018-01-20 2019-03-26 14:28:01.484722\n",
      "2018-01-21 2018-01-27 2019-03-26 14:29:42.123368\n",
      "2018-01-28 2018-02-03 2019-03-26 14:31:06.643286\n"
     ]
    }
   ],
   "source": [
    "df_2017Q4_sales=pd.DataFrame()\n",
    "for file in Q4_2017_files:\n",
    "    df=pd.read_csv(file,dtype=str,sep=\"|\",usecols=['location_id','transaction_dt','customer_id_hashed','subclass_transaction_amt'])\n",
    "    df=df[pd.notnull(df['customer_id_hashed'])]\n",
    "    date_min=df['transaction_dt'].min()\n",
    "    date_max=df['transaction_dt'].max()\n",
    "    del df['transaction_dt']\n",
    "    \n",
    "    df['Type']=np.where(df['location_id']==\"6990\",\"Online\",\"In-store\")\n",
    "    del df['location_id']\n",
    "    \n",
    "    df['subclass_transaction_amt']=df['subclass_transaction_amt'].astype(float)\n",
    "    df=df.groupby(['customer_id_hashed','Type'])['subclass_transaction_amt'].sum().to_frame().reset_index()\n",
    "    df['week_start_date']=date_min\n",
    "    df['week_end_date']=date_max\n",
    "    print(date_min,date_max,datetime.datetime.now())\n",
    "    df_2017Q4_sales=df_2017Q4_sales.append(df)"
   ]
  },
  {
   "cell_type": "code",
   "execution_count": 7,
   "metadata": {},
   "outputs": [
    {
     "name": "stdout",
     "output_type": "stream",
     "text": [
      "2018-02-04 2018-02-10 2019-03-26 14:32:03.694101\n",
      "2018-02-11 2018-02-17 2019-03-26 14:33:10.689688\n",
      "2018-02-18 2018-02-24 2019-03-26 14:34:39.697691\n",
      "2018-02-25 2018-03-03 2019-03-26 14:35:20.361866\n",
      "2018-03-04 2018-03-10 2019-03-26 14:36:01.644046\n",
      "2018-03-11 2018-03-17 2019-03-26 14:36:56.045745\n",
      "2018-03-18 2018-03-24 2019-03-26 14:38:18.376394\n",
      "2018-03-25 2018-03-31 2019-03-26 14:39:48.419037\n",
      "2018-04-01 2018-04-07 2019-03-26 14:42:18.698540\n",
      "2018-04-08 2018-04-14 2019-03-26 14:43:37.024696\n",
      "2018-04-15 2018-04-21 2019-03-26 14:47:25.146395\n",
      "2018-04-22 2018-04-28 2019-03-26 14:48:15.704773\n",
      "2018-04-29 2018-05-05 2019-03-26 14:49:00.758463\n"
     ]
    }
   ],
   "source": [
    "df_2018Q1_sales=pd.DataFrame()\n",
    "for file in Q1_2018_files:\n",
    "    df=pd.read_csv(file,dtype=str,sep=\"|\",usecols=['location_id','transaction_dt','customer_id_hashed','subclass_transaction_amt'])\n",
    "    df=df[pd.notnull(df['customer_id_hashed'])]\n",
    "    date_min=df['transaction_dt'].min()\n",
    "    date_max=df['transaction_dt'].max()\n",
    "    del df['transaction_dt']\n",
    "    \n",
    "    df['Type']=np.where(df['location_id']==\"6990\",\"Online\",\"In-store\")\n",
    "    del df['location_id']\n",
    "    \n",
    "    df['subclass_transaction_amt']=df['subclass_transaction_amt'].astype(float)\n",
    "    df=df.groupby(['customer_id_hashed','Type'])['subclass_transaction_amt'].sum().to_frame().reset_index()\n",
    "    df['week_start_date']=date_min\n",
    "    df['week_end_date']=date_max    \n",
    "    print(date_min,date_max,datetime.datetime.now())\n",
    "    df_2018Q1_sales=df_2018Q1_sales.append(df)"
   ]
  },
  {
   "cell_type": "code",
   "execution_count": 8,
   "metadata": {},
   "outputs": [
    {
     "name": "stdout",
     "output_type": "stream",
     "text": [
      "2017_Q4_rewards_unique_shoppers:8228214\n",
      "2018_Q1_rewards_unique_shoppers:7350183\n"
     ]
    }
   ],
   "source": [
    "unique_shopper_count_2017Q4=len(df_2017Q4_sales['customer_id_hashed'].unique())\n",
    "print(\"2017_Q4_rewards_unique_shoppers:\" +str(unique_shopper_count_2017Q4))\n",
    "\n",
    "unique_shopper_count_2018Q1=len(df_2018Q1_sales['customer_id_hashed'].unique())\n",
    "print(\"2018_Q1_rewards_unique_shoppers:\" +str(unique_shopper_count_2018Q1))"
   ]
  },
  {
   "cell_type": "code",
   "execution_count": 9,
   "metadata": {},
   "outputs": [
    {
     "name": "stdout",
     "output_type": "stream",
     "text": [
      "2017_Q4_rewards_total_sales:729367658.69\n",
      "2018_Q1_rewards_total_sales:672048493.31\n"
     ]
    }
   ],
   "source": [
    "Rewards_Sales_2017Q4=df_2017Q4_sales['subclass_transaction_amt'].sum()\n",
    "print(\"2017_Q4_rewards_total_sales:\" +str(Rewards_Sales_2017Q4))\n",
    "\n",
    "Rewards_Sales_2018Q1=df_2018Q1_sales['subclass_transaction_amt'].sum()\n",
    "print(\"2018_Q1_rewards_total_sales:\" +str(Rewards_Sales_2018Q1))"
   ]
  },
  {
   "cell_type": "code",
   "execution_count": 10,
   "metadata": {},
   "outputs": [],
   "source": [
    "df_2017Q4_sales.to_csv(\"/home/jian/Projects/Big_Lots/Analysis/2019_Q1/Planner_Request/Q1Q4_1817_Bruce_Sales_per_rewards/df_2017Q4_sales_every_week.csv\",index=False)\n",
    "df_2018Q1_sales.to_csv(\"/home/jian/Projects/Big_Lots/Analysis/2019_Q1/Planner_Request/Q1Q4_1817_Bruce_Sales_per_rewards/df_2018Q1_sales_every_week.csv\",index=False)\n"
   ]
  },
  {
   "cell_type": "code",
   "execution_count": null,
   "metadata": {
    "collapsed": true
   },
   "outputs": [],
   "source": []
  }
 ],
 "metadata": {
  "kernelspec": {
   "display_name": "Python 3",
   "language": "python",
   "name": "python3"
  },
  "language_info": {
   "codemirror_mode": {
    "name": "ipython",
    "version": 3
   },
   "file_extension": ".py",
   "mimetype": "text/x-python",
   "name": "python",
   "nbconvert_exporter": "python",
   "pygments_lexer": "ipython3",
   "version": "3.6.1"
  }
 },
 "nbformat": 4,
 "nbformat_minor": 2
}
