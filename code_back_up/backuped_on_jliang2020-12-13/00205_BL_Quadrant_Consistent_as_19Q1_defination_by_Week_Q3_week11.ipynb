{
 "cells": [
  {
   "cell_type": "code",
   "execution_count": 1,
   "metadata": {
    "collapsed": true
   },
   "outputs": [],
   "source": [
    "# Can be autimated across quarter if needed\n",
    "# To be noted that rolled up to store levels first, and then sum up which results in inflation \n",
    "import pandas as pd\n",
    "import numpy as np\n",
    "import datetime\n",
    "import os\n",
    "import glob\n",
    "\n",
    "\n",
    "def recursive_file_gen(my_root_dir):\n",
    "    for root, dirs, files in os.walk(my_root_dir):\n",
    "        for file in files:\n",
    "            yield os.path.join(root, file)"
   ]
  },
  {
   "cell_type": "code",
   "execution_count": 2,
   "metadata": {},
   "outputs": [
    {
     "data": {
      "text/plain": [
       "11"
      ]
     },
     "execution_count": 2,
     "metadata": {},
     "output_type": "execute_result"
    }
   ],
   "source": [
    "# Fix fisrt week\n",
    "last_saturday=datetime.datetime.now().date()-datetime.timedelta(days=datetime.datetime.now().date().weekday()+2)\n",
    "\n",
    "\n",
    "First_week_ending_Q3_2019=datetime.date(2019,8,10)\n",
    "\n",
    "last_year_week=last_saturday-datetime.timedelta(days=52*7)\n",
    "\n",
    "Nth_week=int((last_saturday-First_week_ending_Q3_2019).days/7)+1\n",
    "\n",
    "write_folder=\"/home/jian/Projects/Big_Lots/Analysis/2019_Q3/BL_Excutive_Dashboard/output/output_\"+str(last_saturday)+\"/\"\n",
    "try:\n",
    "    os.stat(write_folder)\n",
    "except:\n",
    "    os.mkdir(write_folder)\n",
    "str(last_saturday)\n",
    "Nth_week"
   ]
  },
  {
   "cell_type": "code",
   "execution_count": 3,
   "metadata": {
    "collapsed": true
   },
   "outputs": [],
   "source": [
    "# Checking for the recent weeks that haven't moved to the folder\n",
    "possible_recent_folders=\"/home/jian/BigLots/MediaStorm_\"+str(last_saturday)+\"/\"\n",
    "daily_data_recent=[x for x in list(recursive_file_gen(possible_recent_folders)) if (\"aily\" in x) & (\".txt\" in x)]\n",
    "\n",
    "archived_folders_2018=\"/home/jian/BigLots/2018_by_weeks/MediaStorm_\"+str(last_saturday)+\"/\"\n",
    "daily_data_2018_achived=[x for x in list(recursive_file_gen(archived_folders_2018)) if (\"aily\" in x) & (\".txt\" in x)]\n",
    "\n",
    "archived_folders_2019=\"/home/jian/BigLots/2019_by_weeks/MediaStorm_\"+str(last_saturday)+\"/\"\n",
    "daily_data_2019_achived=[x for x in list(recursive_file_gen(archived_folders_2019)) if (\"aily\" in x) & (\".txt\" in x)]\n",
    "\n",
    "daily_data_list=daily_data_recent+daily_data_2018_achived+daily_data_2019_achived\n",
    "if len(daily_data_list)!=1:\n",
    "    print(\"Error of Daily Sales Data Path\")\n",
    "else:\n",
    "    daily_data_path_this_year=daily_data_list[0]"
   ]
  },
  {
   "cell_type": "code",
   "execution_count": 4,
   "metadata": {
    "collapsed": true
   },
   "outputs": [],
   "source": [
    "daily_data_list_hist=list(recursive_file_gen(\"/home/jian/BigLots/2018_by_weeks/\"))\n",
    "daily_data_list_hist=[x for x in daily_data_list_hist if (str(last_year_week) in x)&(\"DailySales\" in x)]\n",
    "if len(daily_data_list_hist)!=1:\n",
    "    print(\"Error of Daily Sales Data Path\")\n",
    "else:\n",
    "    daily_data_path_last_year=daily_data_list_hist[0]"
   ]
  },
  {
   "cell_type": "code",
   "execution_count": 5,
   "metadata": {},
   "outputs": [
    {
     "data": {
      "text/plain": [
       "(1355, 2)"
      ]
     },
     "execution_count": 5,
     "metadata": {},
     "output_type": "execute_result"
    }
   ],
   "source": [
    "# Actually it's 2019Q1 as in the excel\n",
    "Df_Quadrant=pd.read_excel(\"/home/jian/Projects/Big_Lots/Analysis/2019_Q3/BL_Excutive_Dashboard/Excel_BL_2019_Q2_post_quadrants_JL_2019-08-13.xlsx\",\n",
    "                                 dype=str,sheetname=\"2019_Q1_Store_Quad_Defination\",usecols=['location_id','Quadrant'])\n",
    "Df_Quadrant['location_id']=Df_Quadrant['location_id'].astype(str)\n",
    "Df_Quadrant.shape"
   ]
  },
  {
   "cell_type": "code",
   "execution_count": 6,
   "metadata": {
    "collapsed": true
   },
   "outputs": [],
   "source": [
    "def agg_daily_data_by_store_subclass_level(file_path_daily):\n",
    "    df=pd.read_table(file_path_daily,dtype=str,sep=\"|\",usecols=['location_id','transaction_dt','transaction_id','customer_id_hashed','subclass_transaction_amt'])\n",
    "    df=df[df['location_id']!=\"6990\"] # 6990 removed\n",
    "    df['subclass_transaction_amt']=df['subclass_transaction_amt'].astype(float)\n",
    "    df['Reward_Level']=np.where(pd.isnull(df['customer_id_hashed']),\"Non_Rewards\",\"Rewards\")\n",
    "    \n",
    "    print(\"Total_Sales:\",df['subclass_transaction_amt'].sum())\n",
    "    df_sales=df.groupby(['location_id','Reward_Level'])['subclass_transaction_amt'].sum().to_frame().reset_index().rename(columns={\"subclass_transaction_amt\":\"Sales\"})\n",
    "    df_trans=df[['location_id','transaction_dt','transaction_id','customer_id_hashed','Reward_Level']].drop_duplicates().groupby(['location_id','Reward_Level'])['transaction_id'].count().to_frame().reset_index().rename(columns={\"transaction_id\":\"Transactions\"})\n",
    "    \n",
    "    df=df[df['Reward_Level']==\"Rewards\"]\n",
    "    df_ids=df.groupby(['location_id','Reward_Level'])['customer_id_hashed'].nunique().to_frame().reset_index().rename(columns={\"customer_id_hashed\":\"shopped_unique_ids_in_the_week\"})\n",
    "    \n",
    "    df=pd.merge(df_sales,df_trans,on=[\"location_id\",'Reward_Level'],how=\"outer\")\n",
    "    df=pd.merge(df,df_ids,on=[\"location_id\",'Reward_Level'],how=\"outer\")\n",
    "    \n",
    "    return df"
   ]
  },
  {
   "cell_type": "code",
   "execution_count": 7,
   "metadata": {
    "collapsed": true
   },
   "outputs": [],
   "source": [
    "def agg_daily_data_by_store_item_level(file_path_daily):\n",
    "    df=pd.read_table(file_path_daily,dtype=str,sep=\"|\",usecols=['location_id','transaction_dt','transaction_id','customer_id_hashed','item_transaction_amt'])\n",
    "    df=df[df['location_id']!=\"6990\"] # 6990 removed\n",
    "    df['item_transaction_amt']=df['item_transaction_amt'].astype(float)\n",
    "    df['Reward_Level']=np.where(pd.isnull(df['customer_id_hashed']),\"Non_Rewards\",\"Rewards\")\n",
    "    \n",
    "    print(\"Total_Sales:\",df['item_transaction_amt'].sum())\n",
    "    df_sales=df.groupby(['location_id','Reward_Level'])['item_transaction_amt'].sum().to_frame().reset_index().rename(columns={\"item_transaction_amt\":\"Sales\"})\n",
    "    df_trans=df[['location_id','transaction_dt','transaction_id','customer_id_hashed','Reward_Level']].drop_duplicates().groupby(['location_id','Reward_Level'])['transaction_id'].count().to_frame().reset_index().rename(columns={\"transaction_id\":\"Transactions\"})\n",
    "    \n",
    "    df=df[df['Reward_Level']==\"Rewards\"]\n",
    "    df_ids=df.groupby(['location_id','Reward_Level'])['customer_id_hashed'].nunique().to_frame().reset_index().rename(columns={\"customer_id_hashed\":\"shopped_unique_ids_in_the_week\"})\n",
    "    \n",
    "    df=pd.merge(df_sales,df_trans,on=[\"location_id\",'Reward_Level'],how=\"outer\")\n",
    "    df=pd.merge(df,df_ids,on=[\"location_id\",'Reward_Level'],how=\"outer\")\n",
    "    \n",
    "    return df"
   ]
  },
  {
   "cell_type": "code",
   "execution_count": 8,
   "metadata": {},
   "outputs": [
    {
     "data": {
      "text/plain": [
       "'/home/jian/BigLots/2018_by_weeks/MediaStorm_2018-10-20/MediaStormDailySales20181023-113036-640.txt'"
      ]
     },
     "execution_count": 8,
     "metadata": {},
     "output_type": "execute_result"
    }
   ],
   "source": [
    "daily_data_path_last_year"
   ]
  },
  {
   "cell_type": "code",
   "execution_count": 9,
   "metadata": {},
   "outputs": [
    {
     "name": "stdout",
     "output_type": "stream",
     "text": [
      "Total_Sales: 103388350.83\n",
      "Total_Sales: 81263299.9\n"
     ]
    }
   ],
   "source": [
    "df_daily_this_year_by_store=agg_daily_data_by_store_item_level(daily_data_path_this_year)\n",
    "df_daily_last_year_by_store=agg_daily_data_by_store_subclass_level(daily_data_path_last_year)\n",
    "\n"
   ]
  },
  {
   "cell_type": "code",
   "execution_count": 10,
   "metadata": {
    "collapsed": true
   },
   "outputs": [],
   "source": [
    "df_daily_this_year_by_store.columns=df_daily_this_year_by_store.columns.tolist()[:2]+[\"This_Year_\"+x for x in df_daily_this_year_by_store.columns.tolist()[2:]]\n",
    "df_daily_last_year_by_store.columns=df_daily_last_year_by_store.columns.tolist()[:2]+[\"Last_Year_\"+x for x in df_daily_last_year_by_store.columns.tolist()[2:]]\n",
    "both_year=pd.merge(df_daily_this_year_by_store,df_daily_last_year_by_store,on=['location_id','Reward_Level'],how=\"outer\")\n",
    "both_year=pd.merge(both_year,Df_Quadrant,on=\"location_id\",how=\"left\")\n",
    "\n"
   ]
  },
  {
   "cell_type": "code",
   "execution_count": 11,
   "metadata": {
    "collapsed": true
   },
   "outputs": [],
   "source": [
    "both_year_exlusion_last_year=both_year[(pd.isnull(both_year['Last_Year_Sales'])) | (pd.isnull(both_year['Last_Year_Transactions']))]\n",
    "both_year_exlusion_this_year=both_year[(pd.isnull(both_year['This_Year_Sales'])) | (pd.isnull(both_year['This_Year_Transactions']))]\n",
    "exlusion_no_quad=both_year[pd.isnull(both_year['Quadrant'])]\n",
    "\n",
    "all_exclusion_stores=set(both_year_exlusion_last_year['location_id'].tolist()+both_year_exlusion_this_year['location_id'].tolist()+exlusion_no_quad['location_id'].tolist())\n"
   ]
  },
  {
   "cell_type": "code",
   "execution_count": 12,
   "metadata": {
    "collapsed": true
   },
   "outputs": [],
   "source": [
    "both_year_inclusions=both_year[~both_year['location_id'].isin(all_exclusion_stores)]\n",
    "\n",
    "both_year_inclusions_Total=both_year_inclusions.groupby(['Reward_Level'])['This_Year_Sales','This_Year_Transactions','This_Year_shopped_unique_ids_in_the_week','Last_Year_Sales','Last_Year_Transactions','Last_Year_shopped_unique_ids_in_the_week'].sum().reset_index()\n",
    "both_year_inclusions_Total[\"Summary_Level\"]=\"Total\"\n",
    "both_year_inclusions_Total_store_counts=both_year_inclusions.groupby(['Reward_Level'])['location_id'].nunique().reset_index().rename(columns={\"location_id\":\"store_counts\"})\n",
    "both_year_inclusions_Total=pd.merge(both_year_inclusions_Total,both_year_inclusions_Total_store_counts,on=\"Reward_Level\")\n",
    "\n",
    "both_year_inclusions_Quad=both_year_inclusions.groupby(['Reward_Level','Quadrant'])['This_Year_Sales','This_Year_Transactions','This_Year_shopped_unique_ids_in_the_week','Last_Year_Sales','Last_Year_Transactions','Last_Year_shopped_unique_ids_in_the_week'].sum().reset_index()\n",
    "both_year_inclusions_Quad_store_counts=both_year_inclusions.groupby(['Reward_Level','Quadrant'])['location_id'].nunique().reset_index().rename(columns={\"location_id\":\"store_counts\"})\n",
    "both_year_inclusions_Quad=pd.merge(both_year_inclusions_Quad,both_year_inclusions_Quad_store_counts,on=[\"Reward_Level\",\"Quadrant\"])\n",
    "both_year_inclusions_Quad=both_year_inclusions_Quad.rename(columns={\"Quadrant\":\"Summary_Level\"})\n",
    "\n",
    "output=both_year_inclusions_Total.append(both_year_inclusions_Quad)\n",
    "output=output.sort_values(['Summary_Level','Reward_Level'],ascending=[True,False])\n",
    "\n",
    "output=output[output['Summary_Level']==\"Total\"].append(output[output['Summary_Level']!=\"Total\"])\n",
    "\n",
    "output_sales_both_R_N=output.groupby(['Summary_Level'])['This_Year_Sales'].sum().to_frame().reset_index().rename(columns={\"This_Year_Sales\":\"This_week_Total_R_and_N\"})\n",
    "output=pd.merge(output,output_sales_both_R_N,on=\"Summary_Level\")\n",
    "\n"
   ]
  },
  {
   "cell_type": "code",
   "execution_count": 13,
   "metadata": {
    "collapsed": true
   },
   "outputs": [],
   "source": [
    "output['YoY_Incr_Sales']=np.round((output['This_Year_Sales']-output['Last_Year_Sales'])/output['Last_Year_Sales'],4)\n",
    "output['YoY_Incr_Rew_Shoppers']=np.round((output['This_Year_shopped_unique_ids_in_the_week']-output['Last_Year_shopped_unique_ids_in_the_week'])/output['Last_Year_shopped_unique_ids_in_the_week'],4)\n",
    "output['YoY_Incr_Transactions']=np.round((output['This_Year_Transactions']-output['Last_Year_Transactions'])/output['Last_Year_Transactions'],4)\n",
    "output['Avg_Order_Value']=np.round(output['This_Year_Sales']/output['This_Year_Transactions'],4)\n",
    "\n",
    "output['Rew/Non-Rew_Share_of_Sales']=np.round(output['This_Year_Sales']/output['This_week_Total_R_and_N'],4)\n",
    "output['Week_Ending_Date']=str(last_saturday)"
   ]
  },
  {
   "cell_type": "code",
   "execution_count": 14,
   "metadata": {
    "collapsed": true
   },
   "outputs": [],
   "source": [
    "output_final=output[['Week_Ending_Date','Summary_Level','Reward_Level','store_counts','YoY_Incr_Sales','YoY_Incr_Rew_Shoppers','YoY_Incr_Transactions','Avg_Order_Value',\n",
    "                     'Rew/Non-Rew_Share_of_Sales','This_Year_Transactions','This_Year_Sales','This_Year_shopped_unique_ids_in_the_week']].rename(columns={\"This_Year_Transactions\":\"Transactions_last_7_days\",\n",
    "                     \"This_Year_Sales\":\"Sales_last_7_days\",\"This_Year_shopped_unique_ids_in_the_week\":\"Shopped_Rew_Unique_IDs_last_7_days\"})\n"
   ]
  },
  {
   "cell_type": "code",
   "execution_count": 15,
   "metadata": {},
   "outputs": [
    {
     "name": "stderr",
     "output_type": "stream",
     "text": [
      "/usr/local/lib/python3.6/site-packages/ipykernel_launcher.py:2: SettingWithCopyWarning: \n",
      "A value is trying to be set on a copy of a slice from a DataFrame.\n",
      "Try using .loc[row_indexer,col_indexer] = value instead\n",
      "\n",
      "See the caveats in the documentation: http://pandas.pydata.org/pandas-docs/stable/indexing.html#indexing-view-versus-copy\n",
      "  \n",
      "/usr/local/lib/python3.6/site-packages/ipykernel_launcher.py:5: SettingWithCopyWarning: \n",
      "A value is trying to be set on a copy of a slice from a DataFrame.\n",
      "Try using .loc[row_indexer,col_indexer] = value instead\n",
      "\n",
      "See the caveats in the documentation: http://pandas.pydata.org/pandas-docs/stable/indexing.html#indexing-view-versus-copy\n",
      "  \"\"\"\n",
      "/usr/local/lib/python3.6/site-packages/ipykernel_launcher.py:8: SettingWithCopyWarning: \n",
      "A value is trying to be set on a copy of a slice from a DataFrame.\n",
      "Try using .loc[row_indexer,col_indexer] = value instead\n",
      "\n",
      "See the caveats in the documentation: http://pandas.pydata.org/pandas-docs/stable/indexing.html#indexing-view-versus-copy\n",
      "  \n"
     ]
    }
   ],
   "source": [
    "exclusion_1=exlusion_no_quad[['location_id']]\n",
    "exclusion_1['exclusion']=\"Not_Defined_Quadrant\"\n",
    "\n",
    "exclusion_2=both_year_exlusion_last_year[['location_id']]\n",
    "exclusion_2['exclusion']=\"Lack_of_week_last_year\"\n",
    "\n",
    "exclusion_3=both_year_exlusion_this_year[['location_id']]\n",
    "exclusion_3['exclusion']=\"Lack_of_week_this_year\"\n",
    "\n",
    "exclusion_df=exclusion_3.append(exclusion_2).append(exclusion_1).drop_duplicates('location_id')\n",
    "exclusion_df['Week_Ending_Date']=str(last_saturday)"
   ]
  },
  {
   "cell_type": "code",
   "execution_count": 16,
   "metadata": {
    "collapsed": true
   },
   "outputs": [],
   "source": [
    "def int_ceil_not_NA(x):\n",
    "    if ~np.isnan(x):\n",
    "        y=int(np.ceil(x))\n",
    "    else:\n",
    "        y=x\n",
    "    return y\n",
    "\n",
    "\n",
    "output_final=output_final.rename(columns={\"Week_Ending_Date\":\"Week Ending Date\",\"Summary_Level\":\"Summary Level\",\"Reward_Level\":\"Reward Level\",\n",
    "                         \"store_counts\":\"# Stores\",\"YoY_Incr_Sales\":\"YOY incr Sales/Store\",\"YoY_Incr_Rew_Shoppers\":\"YOY incr Rew Shoppers/Store\",\n",
    "                         \"YoY_Incr_Transactions\":\"YOY incr Transactions/Store\",\"Avg_Order_Value\":\"Avg Order Value\",\n",
    "                         \"Rew/Non-Rew_Share_of_Sales\":\"Rew share of Sales\",\"Transactions_last_7_days\":\"Transactions last 7 days\",\n",
    "                         \"Sales_last_7_days\":\"Total Sales Last 7 Days\",\"Shopped_Rew_Unique_IDs_last_7_days\":\"Shopped Rew IDs Last 7 days\"})\n",
    "output_final['Reward Level']=output_final['Reward Level'].replace(\"Non_Rewards\",\"Non-Rewards\")\n",
    "output_final['Avg # of Reward IDs shopped per store']=output_final['Shopped Rew IDs Last 7 days']/output_final['# Stores']\n",
    "\n",
    "output_final['Avg # of Reward IDs shopped per store']=output_final['Avg # of Reward IDs shopped per store'].apply(lambda x: int_ceil_not_NA(x))\n",
    "output_final['Weekly Cost']=np.nan"
   ]
  },
  {
   "cell_type": "code",
   "execution_count": 17,
   "metadata": {
    "collapsed": true
   },
   "outputs": [],
   "source": [
    "output_final.to_csv(write_folder+\"output_\"+str(last_saturday)+\".csv\",index=False)\n",
    "exclusion_df.to_csv(write_folder+\"exclusion_stores_\"+str(last_saturday)+\".csv\",index=False)\n",
    "both_year_inclusions.to_csv(write_folder+\"inclusion_by_store_\"+str(last_saturday)+\".csv\",index=False)"
   ]
  },
  {
   "cell_type": "code",
   "execution_count": 18,
   "metadata": {
    "collapsed": true
   },
   "outputs": [],
   "source": [
    "Simeng_recent_weekly_data_folder=\"/home/simeng/outputs_\"+str(last_saturday)+\"/\"\n",
    "\n",
    "output_final.to_csv(Simeng_recent_weekly_data_folder + 'output_quadrant.csv',index = False)"
   ]
  },
  {
   "cell_type": "code",
   "execution_count": 19,
   "metadata": {},
   "outputs": [
    {
     "name": "stdout",
     "output_type": "stream",
     "text": [
      "2019-10-22 17:08:06.675020\n"
     ]
    }
   ],
   "source": [
    "print(datetime.datetime.now())"
   ]
  },
  {
   "cell_type": "code",
   "execution_count": 20,
   "metadata": {},
   "outputs": [
    {
     "data": {
      "text/html": [
       "<div>\n",
       "<style>\n",
       "    .dataframe thead tr:only-child th {\n",
       "        text-align: right;\n",
       "    }\n",
       "\n",
       "    .dataframe thead th {\n",
       "        text-align: left;\n",
       "    }\n",
       "\n",
       "    .dataframe tbody tr th {\n",
       "        vertical-align: top;\n",
       "    }\n",
       "</style>\n",
       "<table border=\"1\" class=\"dataframe\">\n",
       "  <thead>\n",
       "    <tr style=\"text-align: right;\">\n",
       "      <th></th>\n",
       "      <th>Week Ending Date</th>\n",
       "      <th>Summary Level</th>\n",
       "      <th>Reward Level</th>\n",
       "      <th># Stores</th>\n",
       "      <th>YOY incr Sales/Store</th>\n",
       "      <th>YOY incr Rew Shoppers/Store</th>\n",
       "      <th>YOY incr Transactions/Store</th>\n",
       "      <th>Avg Order Value</th>\n",
       "      <th>Rew share of Sales</th>\n",
       "      <th>Transactions last 7 days</th>\n",
       "      <th>Total Sales Last 7 Days</th>\n",
       "      <th>Shopped Rew IDs Last 7 days</th>\n",
       "      <th>Avg # of Reward IDs shopped per store</th>\n",
       "      <th>Weekly Cost</th>\n",
       "    </tr>\n",
       "  </thead>\n",
       "  <tbody>\n",
       "    <tr>\n",
       "      <th>0</th>\n",
       "      <td>2019-10-19</td>\n",
       "      <td>Total</td>\n",
       "      <td>Rewards</td>\n",
       "      <td>1329</td>\n",
       "      <td>0.5380</td>\n",
       "      <td>0.3130</td>\n",
       "      <td>0.3757</td>\n",
       "      <td>40.0678</td>\n",
       "      <td>0.6904</td>\n",
       "      <td>1654641.0</td>\n",
       "      <td>66297874.89</td>\n",
       "      <td>1341272.0</td>\n",
       "      <td>1010.0</td>\n",
       "      <td>NaN</td>\n",
       "    </tr>\n",
       "    <tr>\n",
       "      <th>1</th>\n",
       "      <td>2019-10-19</td>\n",
       "      <td>Total</td>\n",
       "      <td>Non-Rewards</td>\n",
       "      <td>1329</td>\n",
       "      <td>-0.1126</td>\n",
       "      <td>NaN</td>\n",
       "      <td>-0.1856</td>\n",
       "      <td>25.8918</td>\n",
       "      <td>0.3096</td>\n",
       "      <td>1148244.0</td>\n",
       "      <td>29730067.80</td>\n",
       "      <td>NaN</td>\n",
       "      <td>NaN</td>\n",
       "      <td>NaN</td>\n",
       "    </tr>\n",
       "    <tr>\n",
       "      <th>2</th>\n",
       "      <td>2019-10-19</td>\n",
       "      <td>Quadrant I</td>\n",
       "      <td>Rewards</td>\n",
       "      <td>379</td>\n",
       "      <td>0.5873</td>\n",
       "      <td>0.3585</td>\n",
       "      <td>0.4286</td>\n",
       "      <td>40.3525</td>\n",
       "      <td>0.6992</td>\n",
       "      <td>510156.0</td>\n",
       "      <td>20586078.72</td>\n",
       "      <td>410812.0</td>\n",
       "      <td>1084.0</td>\n",
       "      <td>NaN</td>\n",
       "    </tr>\n",
       "    <tr>\n",
       "      <th>3</th>\n",
       "      <td>2019-10-19</td>\n",
       "      <td>Quadrant I</td>\n",
       "      <td>Non-Rewards</td>\n",
       "      <td>379</td>\n",
       "      <td>-0.1358</td>\n",
       "      <td>NaN</td>\n",
       "      <td>-0.2029</td>\n",
       "      <td>25.4604</td>\n",
       "      <td>0.3008</td>\n",
       "      <td>347900.0</td>\n",
       "      <td>8857673.23</td>\n",
       "      <td>NaN</td>\n",
       "      <td>NaN</td>\n",
       "      <td>NaN</td>\n",
       "    </tr>\n",
       "    <tr>\n",
       "      <th>4</th>\n",
       "      <td>2019-10-19</td>\n",
       "      <td>Quadrant II</td>\n",
       "      <td>Rewards</td>\n",
       "      <td>161</td>\n",
       "      <td>0.5058</td>\n",
       "      <td>0.3196</td>\n",
       "      <td>0.3785</td>\n",
       "      <td>35.8858</td>\n",
       "      <td>0.6794</td>\n",
       "      <td>224549.0</td>\n",
       "      <td>8058128.05</td>\n",
       "      <td>181796.0</td>\n",
       "      <td>1130.0</td>\n",
       "      <td>NaN</td>\n",
       "    </tr>\n",
       "    <tr>\n",
       "      <th>5</th>\n",
       "      <td>2019-10-19</td>\n",
       "      <td>Quadrant II</td>\n",
       "      <td>Non-Rewards</td>\n",
       "      <td>161</td>\n",
       "      <td>-0.1700</td>\n",
       "      <td>NaN</td>\n",
       "      <td>-0.2138</td>\n",
       "      <td>23.5253</td>\n",
       "      <td>0.3206</td>\n",
       "      <td>161614.0</td>\n",
       "      <td>3802023.53</td>\n",
       "      <td>NaN</td>\n",
       "      <td>NaN</td>\n",
       "      <td>NaN</td>\n",
       "    </tr>\n",
       "    <tr>\n",
       "      <th>6</th>\n",
       "      <td>2019-10-19</td>\n",
       "      <td>Quadrant III</td>\n",
       "      <td>Rewards</td>\n",
       "      <td>411</td>\n",
       "      <td>0.4885</td>\n",
       "      <td>0.2829</td>\n",
       "      <td>0.3450</td>\n",
       "      <td>39.8813</td>\n",
       "      <td>0.6802</td>\n",
       "      <td>472390.0</td>\n",
       "      <td>18839526.35</td>\n",
       "      <td>384608.0</td>\n",
       "      <td>936.0</td>\n",
       "      <td>NaN</td>\n",
       "    </tr>\n",
       "    <tr>\n",
       "      <th>7</th>\n",
       "      <td>2019-10-19</td>\n",
       "      <td>Quadrant III</td>\n",
       "      <td>Non-Rewards</td>\n",
       "      <td>411</td>\n",
       "      <td>-0.1075</td>\n",
       "      <td>NaN</td>\n",
       "      <td>-0.1788</td>\n",
       "      <td>26.2320</td>\n",
       "      <td>0.3198</td>\n",
       "      <td>337666.0</td>\n",
       "      <td>8857661.22</td>\n",
       "      <td>NaN</td>\n",
       "      <td>NaN</td>\n",
       "      <td>NaN</td>\n",
       "    </tr>\n",
       "    <tr>\n",
       "      <th>8</th>\n",
       "      <td>2019-10-19</td>\n",
       "      <td>Quadrant IV</td>\n",
       "      <td>Rewards</td>\n",
       "      <td>378</td>\n",
       "      <td>0.5510</td>\n",
       "      <td>0.2930</td>\n",
       "      <td>0.3499</td>\n",
       "      <td>42.0385</td>\n",
       "      <td>0.6961</td>\n",
       "      <td>447546.0</td>\n",
       "      <td>18814141.77</td>\n",
       "      <td>364056.0</td>\n",
       "      <td>964.0</td>\n",
       "      <td>NaN</td>\n",
       "    </tr>\n",
       "    <tr>\n",
       "      <th>9</th>\n",
       "      <td>2019-10-19</td>\n",
       "      <td>Quadrant IV</td>\n",
       "      <td>Non-Rewards</td>\n",
       "      <td>378</td>\n",
       "      <td>-0.0612</td>\n",
       "      <td>NaN</td>\n",
       "      <td>-0.1560</td>\n",
       "      <td>27.2790</td>\n",
       "      <td>0.3039</td>\n",
       "      <td>301064.0</td>\n",
       "      <td>8212709.82</td>\n",
       "      <td>NaN</td>\n",
       "      <td>NaN</td>\n",
       "      <td>NaN</td>\n",
       "    </tr>\n",
       "  </tbody>\n",
       "</table>\n",
       "</div>"
      ],
      "text/plain": [
       "  Week Ending Date Summary Level Reward Level  # Stores  YOY incr Sales/Store  \\\n",
       "0       2019-10-19         Total      Rewards      1329                0.5380   \n",
       "1       2019-10-19         Total  Non-Rewards      1329               -0.1126   \n",
       "2       2019-10-19    Quadrant I      Rewards       379                0.5873   \n",
       "3       2019-10-19    Quadrant I  Non-Rewards       379               -0.1358   \n",
       "4       2019-10-19   Quadrant II      Rewards       161                0.5058   \n",
       "5       2019-10-19   Quadrant II  Non-Rewards       161               -0.1700   \n",
       "6       2019-10-19  Quadrant III      Rewards       411                0.4885   \n",
       "7       2019-10-19  Quadrant III  Non-Rewards       411               -0.1075   \n",
       "8       2019-10-19   Quadrant IV      Rewards       378                0.5510   \n",
       "9       2019-10-19   Quadrant IV  Non-Rewards       378               -0.0612   \n",
       "\n",
       "   YOY incr Rew Shoppers/Store  YOY incr Transactions/Store  Avg Order Value  \\\n",
       "0                       0.3130                       0.3757          40.0678   \n",
       "1                          NaN                      -0.1856          25.8918   \n",
       "2                       0.3585                       0.4286          40.3525   \n",
       "3                          NaN                      -0.2029          25.4604   \n",
       "4                       0.3196                       0.3785          35.8858   \n",
       "5                          NaN                      -0.2138          23.5253   \n",
       "6                       0.2829                       0.3450          39.8813   \n",
       "7                          NaN                      -0.1788          26.2320   \n",
       "8                       0.2930                       0.3499          42.0385   \n",
       "9                          NaN                      -0.1560          27.2790   \n",
       "\n",
       "   Rew share of Sales  Transactions last 7 days  Total Sales Last 7 Days  \\\n",
       "0              0.6904                 1654641.0              66297874.89   \n",
       "1              0.3096                 1148244.0              29730067.80   \n",
       "2              0.6992                  510156.0              20586078.72   \n",
       "3              0.3008                  347900.0               8857673.23   \n",
       "4              0.6794                  224549.0               8058128.05   \n",
       "5              0.3206                  161614.0               3802023.53   \n",
       "6              0.6802                  472390.0              18839526.35   \n",
       "7              0.3198                  337666.0               8857661.22   \n",
       "8              0.6961                  447546.0              18814141.77   \n",
       "9              0.3039                  301064.0               8212709.82   \n",
       "\n",
       "   Shopped Rew IDs Last 7 days  Avg # of Reward IDs shopped per store  \\\n",
       "0                    1341272.0                                 1010.0   \n",
       "1                          NaN                                    NaN   \n",
       "2                     410812.0                                 1084.0   \n",
       "3                          NaN                                    NaN   \n",
       "4                     181796.0                                 1130.0   \n",
       "5                          NaN                                    NaN   \n",
       "6                     384608.0                                  936.0   \n",
       "7                          NaN                                    NaN   \n",
       "8                     364056.0                                  964.0   \n",
       "9                          NaN                                    NaN   \n",
       "\n",
       "   Weekly Cost  \n",
       "0          NaN  \n",
       "1          NaN  \n",
       "2          NaN  \n",
       "3          NaN  \n",
       "4          NaN  \n",
       "5          NaN  \n",
       "6          NaN  \n",
       "7          NaN  \n",
       "8          NaN  \n",
       "9          NaN  "
      ]
     },
     "execution_count": 20,
     "metadata": {},
     "output_type": "execute_result"
    }
   ],
   "source": [
    "output_final"
   ]
  },
  {
   "cell_type": "code",
   "execution_count": null,
   "metadata": {
    "collapsed": true
   },
   "outputs": [],
   "source": []
  },
  {
   "cell_type": "code",
   "execution_count": null,
   "metadata": {
    "collapsed": true
   },
   "outputs": [],
   "source": []
  },
  {
   "cell_type": "code",
   "execution_count": null,
   "metadata": {
    "collapsed": true
   },
   "outputs": [],
   "source": []
  }
 ],
 "metadata": {
  "kernelspec": {
   "display_name": "Python 3",
   "language": "python",
   "name": "python3"
  },
  "language_info": {
   "codemirror_mode": {
    "name": "ipython",
    "version": 3
   },
   "file_extension": ".py",
   "mimetype": "text/x-python",
   "name": "python",
   "nbconvert_exporter": "python",
   "pygments_lexer": "ipython3",
   "version": "3.6.1"
  }
 },
 "nbformat": 4,
 "nbformat_minor": 2
}
