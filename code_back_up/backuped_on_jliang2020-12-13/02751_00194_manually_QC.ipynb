{
 "cells": [
  {
   "cell_type": "code",
   "execution_count": 1,
   "metadata": {},
   "outputs": [
    {
     "name": "stdout",
     "output_type": "stream",
     "text": [
      "Worker Start: 2020-02-05 14:18:26.138006\n",
      "last_sturday: 2020-02-01\n",
      "Year 2020\n",
      "Quarter 1\n",
      "2020_Q1\n",
      "current_week 0\n",
      "Quarter 4\n",
      "2019_Q4\n",
      "current_week 13\n",
      "current_quarter_beginning: 2019-11-03\n",
      "current_quarter_beginning_last_year: 2018-11-04\n",
      "59\n"
     ]
    }
   ],
   "source": [
    "\n",
    "# coding: utf-8\n",
    "\n",
    "# In[1]:\n",
    "\n",
    "import pandas as pd\n",
    "import datetime\n",
    "import numpy as np\n",
    "import os\n",
    "import glob\n",
    "import gc\n",
    "import logging\n",
    "logging.basicConfig(filename='/home/jian/BL_weekly_crontab/cron_6_weekly_audience_tracker/weekly_audience_tracker.log', level=logging.INFO)\n",
    "\n",
    "def recursive_file_gen(root_folder):\n",
    "    for root, dirs, files in os.walk(root_folder):\n",
    "        for file in files:\n",
    "            yield os.path.join(root, file)\n",
    "            \n",
    "os.getcwd()\n",
    "print(\"Worker Start: \"+str(datetime.datetime.now()))\n",
    "\n",
    "\n",
    "# In[2]:\n",
    "\n",
    "last_sturday = (datetime.datetime.now()-datetime.timedelta(days=(datetime.datetime.now().weekday()+2))).date()\n",
    "print(\"last_sturday: \"+str(last_sturday))\n",
    "\n",
    "last_day_of_2018Q4=datetime.date(2019,2,2)\n",
    "\n",
    "year_of_quarter=(last_sturday-last_day_of_2018Q4).days/(52*7)\n",
    "year_of_quarter=str(int(2019+np.floor(year_of_quarter)))\n",
    "print(\"Year\",year_of_quarter)\n",
    "\n",
    "\n",
    "quarter_of_quarter=(last_sturday-last_day_of_2018Q4).days/7\n",
    "quarter_of_quarter=np.floor(quarter_of_quarter/13)%4\n",
    "quarter_of_quarter=str(int(1+quarter_of_quarter))\n",
    "print(\"Quarter\",quarter_of_quarter)\n",
    "\n",
    "str_current_quarter=year_of_quarter+\"_Q\"+quarter_of_quarter\n",
    "\n",
    "print(str_current_quarter)\n",
    "\n",
    "current_week=int((last_sturday-last_day_of_2018Q4).days/7%13)\n",
    "print(\"current_week\",current_week)\n",
    "\n",
    "if current_week==0:\n",
    "    quarter_of_quarter=int(quarter_of_quarter)-1+4\n",
    "    year_of_quarter=str(int(year_of_quarter)-1)\n",
    "    str_current_quarter=year_of_quarter+\"_Q\"+str(quarter_of_quarter)\n",
    "    current_week=13\n",
    "    print(\"Quarter\",quarter_of_quarter)\n",
    "    print(str_current_quarter)\n",
    "    print(\"current_week\",current_week)\n",
    "    \n",
    "    \n",
    "quarter_of_quarter\n",
    "\n",
    "\n",
    "# In[3]:\n",
    "\n",
    "current_quarter_beginning=last_day_of_2018Q4+datetime.timedelta(days=(int(year_of_quarter)-2019)*52*7+                                                                (int(quarter_of_quarter)-1)*13*7+1)\n",
    "print(\"current_quarter_beginning: \"+str(current_quarter_beginning))\n",
    "\n",
    "current_quarter_beginning_last_year=current_quarter_beginning-datetime.timedelta(days=52*7)\n",
    "print(\"current_quarter_beginning_last_year: \"+str(current_quarter_beginning_last_year))\n",
    "\n",
    "\n",
    "# In[4]:\n",
    "\n",
    "all_weekly_new_sign_ups=list(recursive_file_gen(\"/home/jian/BigLots/\"))\n",
    "all_weekly_new_sign_ups=[x for x in all_weekly_new_sign_ups if \"aster\" in x.lower()]\n",
    "all_weekly_new_sign_ups=[x for x in all_weekly_new_sign_ups if x[-4:]==\".txt\"]\n",
    "all_weekly_new_sign_ups=[x for x in all_weekly_new_sign_ups if x.split(\"/MediaStorm_\")[1][:10]>=str(current_quarter_beginning_last_year)]\n",
    "all_weekly_new_sign_ups.sort()\n",
    "print(len(all_weekly_new_sign_ups))"
   ]
  },
  {
   "cell_type": "code",
   "execution_count": 2,
   "metadata": {},
   "outputs": [
    {
     "name": "stdout",
     "output_type": "stream",
     "text": [
      "61\n"
     ]
    }
   ],
   "source": [
    "new_sign_ups_piece_1=\"/home/jian/BigLots/New_Sing_Ups_2018_Fiscal_Year/All Rewards Members 2018-02-04 - 2019-05-04.zip\"\n",
    "new_sign_ups_piece_2=\"/home/jian/BigLots/New_Sing_Ups_2018_Fiscal_Year/MediaStorm Rewards Master P4 2019 - no transaction info.zip\"\n",
    "all_weekly_new_sign_ups.append(new_sign_ups_piece_1)\n",
    "all_weekly_new_sign_ups.append(new_sign_ups_piece_2)\n",
    "print(len(all_weekly_new_sign_ups))\n",
    "\n",
    "\n",
    "# In[5]:\n",
    "\n",
    "list_new_ids=[]\n",
    "for file in all_weekly_new_sign_ups:\n",
    "    df=pd.read_table(file,dtype=str,sep=\"|\",usecols=['customer_id_hashed','sign_up_date'])\n",
    "    df=df[df['sign_up_date']>=str(current_quarter_beginning_last_year)]\n",
    "    list_new_ids=list_new_ids+df['customer_id_hashed'].unique().tolist()\n",
    "list_new_ids=list(set(list_new_ids))\n",
    "\n",
    "\n",
    "# In[6]:\n",
    "\n",
    "audience_files_folder=\"/home/jian/Projects/Big_Lots/Live_Ramp/Quarterly_Update_\"+str_current_quarter.replace(\"_\",\"\")+\"/upload_files/\"\n"
   ]
  },
  {
   "cell_type": "code",
   "execution_count": 3,
   "metadata": {},
   "outputs": [
    {
     "name": "stdout",
     "output_type": "stream",
     "text": [
      "89 89\n",
      "541818\n",
      "(21435770, 2)  |  21435770\n"
     ]
    }
   ],
   "source": [
    "audience_files_this_quarter=glob.glob(audience_files_folder+\"*.csv\")\n",
    "len(audience_files_this_quarter)\n",
    "\n",
    "\n",
    "audience_files_this_quarter_C=[x for x in audience_files_this_quarter if os.path.basename(x)[0]==\"C\"]\n",
    "audience_files_this_quarter_T=[x for x in audience_files_this_quarter if os.path.basename(x)[0]==\"T\"]\n",
    "print(len(audience_files_this_quarter_C),len(audience_files_this_quarter_T))\n",
    "\n",
    "set_Control=set()\n",
    "for file in audience_files_this_quarter_C:\n",
    "    df=pd.read_csv(file,dtype=str,usecols=[\"customer_id_hashed\"])\n",
    "    set_Control=set_Control.union(set(df['customer_id_hashed'].tolist()))\n",
    "print(len(set_Control))\n",
    "\n",
    "\n",
    "df_audience=pd.DataFrame()\n",
    "\n",
    "for file in audience_files_this_quarter_T:\n",
    "    df=pd.read_csv(file,dtype=str,usecols=['customer_id_hashed','segment'])\n",
    "    df=df[~df['customer_id_hashed'].isin(set_Control)]\n",
    "    df_audience=df_audience.append(df)\n",
    "df_audience=df_audience.drop_duplicates()\n",
    "\n",
    "print(df_audience.shape,\" | \",df_audience['customer_id_hashed'].nunique())"
   ]
  },
  {
   "cell_type": "code",
   "execution_count": 4,
   "metadata": {},
   "outputs": [
    {
     "data": {
      "text/html": [
       "<div>\n",
       "<style scoped>\n",
       "    .dataframe tbody tr th:only-of-type {\n",
       "        vertical-align: middle;\n",
       "    }\n",
       "\n",
       "    .dataframe tbody tr th {\n",
       "        vertical-align: top;\n",
       "    }\n",
       "\n",
       "    .dataframe thead th {\n",
       "        text-align: right;\n",
       "    }\n",
       "</style>\n",
       "<table border=\"1\" class=\"dataframe\">\n",
       "  <thead>\n",
       "    <tr style=\"text-align: right;\">\n",
       "      <th></th>\n",
       "      <th>customer_id_hashed</th>\n",
       "      <th>segment</th>\n",
       "    </tr>\n",
       "  </thead>\n",
       "  <tbody>\n",
       "    <tr>\n",
       "      <th>0</th>\n",
       "      <td>de4d254f85f84828db782a91857b389542ca253714330b...</td>\n",
       "      <td>T_Active (0-12)_Score(H)_Density(H)_Legacy_Hol...</td>\n",
       "    </tr>\n",
       "    <tr>\n",
       "      <th>1</th>\n",
       "      <td>ea4e3e1699773386da4e152d8b9b93d10e21383ed231e0...</td>\n",
       "      <td>T_Active (0-12)_Score(H)_Density(H)_Legacy_Hol...</td>\n",
       "    </tr>\n",
       "    <tr>\n",
       "      <th>2</th>\n",
       "      <td>8cc90ffdf1dd0b1eb6c8ec144a69bcee631d3d61a2983c...</td>\n",
       "      <td>T_Active (0-12)_Score(H)_Density(H)_Legacy_Hol...</td>\n",
       "    </tr>\n",
       "    <tr>\n",
       "      <th>3</th>\n",
       "      <td>b085e358cb472d2b7a348043ff9b749d1265b8ce5fcb79...</td>\n",
       "      <td>T_Active (0-12)_Score(H)_Density(H)_Legacy_Hol...</td>\n",
       "    </tr>\n",
       "    <tr>\n",
       "      <th>4</th>\n",
       "      <td>70bf02d737994c14f741d75b4a64c56b3839bbed27290e...</td>\n",
       "      <td>T_Active (0-12)_Score(H)_Density(H)_Legacy_Hol...</td>\n",
       "    </tr>\n",
       "    <tr>\n",
       "      <th>...</th>\n",
       "      <td>...</td>\n",
       "      <td>...</td>\n",
       "    </tr>\n",
       "    <tr>\n",
       "      <th>1434539</th>\n",
       "      <td>640ca5854553852334535ee82506ff3c6066ffe4e68425...</td>\n",
       "      <td>T_Lapsed (19-48)_Density(M)_SOTF_AllExpCluster...</td>\n",
       "    </tr>\n",
       "    <tr>\n",
       "      <th>1434540</th>\n",
       "      <td>b2896b6e87daa54b67e4e9a61eda3771fb2ef1e274deac...</td>\n",
       "      <td>T_Lapsed (19-48)_Density(M)_SOTF_AllExpCluster...</td>\n",
       "    </tr>\n",
       "    <tr>\n",
       "      <th>1434541</th>\n",
       "      <td>336934ac057abc49fc789c42cd424c443c55e801a80957...</td>\n",
       "      <td>T_Lapsed (19-48)_Density(M)_SOTF_AllExpCluster...</td>\n",
       "    </tr>\n",
       "    <tr>\n",
       "      <th>1434542</th>\n",
       "      <td>e5b26a43831a9379610458f49cca2ddadd9281430facbe...</td>\n",
       "      <td>T_Lapsed (19-48)_Density(M)_SOTF_AllExpCluster...</td>\n",
       "    </tr>\n",
       "    <tr>\n",
       "      <th>1434543</th>\n",
       "      <td>93863e1d15ef7467678cef74c9f36f701db99f1594ec05...</td>\n",
       "      <td>T_Lapsed (19-48)_Density(M)_SOTF_AllExpCluster...</td>\n",
       "    </tr>\n",
       "  </tbody>\n",
       "</table>\n",
       "<p>21435770 rows × 2 columns</p>\n",
       "</div>"
      ],
      "text/plain": [
       "                                        customer_id_hashed  \\\n",
       "0        de4d254f85f84828db782a91857b389542ca253714330b...   \n",
       "1        ea4e3e1699773386da4e152d8b9b93d10e21383ed231e0...   \n",
       "2        8cc90ffdf1dd0b1eb6c8ec144a69bcee631d3d61a2983c...   \n",
       "3        b085e358cb472d2b7a348043ff9b749d1265b8ce5fcb79...   \n",
       "4        70bf02d737994c14f741d75b4a64c56b3839bbed27290e...   \n",
       "...                                                    ...   \n",
       "1434539  640ca5854553852334535ee82506ff3c6066ffe4e68425...   \n",
       "1434540  b2896b6e87daa54b67e4e9a61eda3771fb2ef1e274deac...   \n",
       "1434541  336934ac057abc49fc789c42cd424c443c55e801a80957...   \n",
       "1434542  e5b26a43831a9379610458f49cca2ddadd9281430facbe...   \n",
       "1434543  93863e1d15ef7467678cef74c9f36f701db99f1594ec05...   \n",
       "\n",
       "                                                   segment  \n",
       "0        T_Active (0-12)_Score(H)_Density(H)_Legacy_Hol...  \n",
       "1        T_Active (0-12)_Score(H)_Density(H)_Legacy_Hol...  \n",
       "2        T_Active (0-12)_Score(H)_Density(H)_Legacy_Hol...  \n",
       "3        T_Active (0-12)_Score(H)_Density(H)_Legacy_Hol...  \n",
       "4        T_Active (0-12)_Score(H)_Density(H)_Legacy_Hol...  \n",
       "...                                                    ...  \n",
       "1434539  T_Lapsed (19-48)_Density(M)_SOTF_AllExpCluster...  \n",
       "1434540  T_Lapsed (19-48)_Density(M)_SOTF_AllExpCluster...  \n",
       "1434541  T_Lapsed (19-48)_Density(M)_SOTF_AllExpCluster...  \n",
       "1434542  T_Lapsed (19-48)_Density(M)_SOTF_AllExpCluster...  \n",
       "1434543  T_Lapsed (19-48)_Density(M)_SOTF_AllExpCluster...  \n",
       "\n",
       "[21435770 rows x 2 columns]"
      ]
     },
     "execution_count": 4,
     "metadata": {},
     "output_type": "execute_result"
    }
   ],
   "source": [
    "df_audience"
   ]
  },
  {
   "cell_type": "code",
   "execution_count": 5,
   "metadata": {},
   "outputs": [
    {
     "name": "stderr",
     "output_type": "stream",
     "text": [
      "/home/jian/.local/lib/python3.6/site-packages/ipykernel_launcher.py:5: SettingWithCopyWarning: \n",
      "A value is trying to be set on a copy of a slice from a DataFrame.\n",
      "Try using .loc[row_indexer,col_indexer] = value instead\n",
      "\n",
      "See the caveats in the documentation: http://pandas.pydata.org/pandas-docs/stable/user_guide/indexing.html#returning-a-view-versus-a-copy\n",
      "  \"\"\"\n",
      "/home/jian/.local/lib/python3.6/site-packages/ipykernel_launcher.py:6: SettingWithCopyWarning: \n",
      "A value is trying to be set on a copy of a slice from a DataFrame.\n",
      "Try using .loc[row_indexer,col_indexer] = value instead\n",
      "\n",
      "See the caveats in the documentation: http://pandas.pydata.org/pandas-docs/stable/user_guide/indexing.html#returning-a-view-versus-a-copy\n",
      "  \n"
     ]
    },
    {
     "data": {
      "text/plain": [
       "(89, 2)"
      ]
     },
     "execution_count": 5,
     "metadata": {},
     "output_type": "execute_result"
    }
   ],
   "source": [
    "df_clean_segment=df_audience[['segment']].drop_duplicates()\n",
    "df_clean_segment_1_lapsed=df_clean_segment[df_clean_segment['segment'].str.contains(\"48\")]\n",
    "df_clean_segment_2_in_18=df_clean_segment[~df_clean_segment['segment'].str.contains(\"48\")]\n",
    "\n",
    "df_clean_segment_1_lapsed['segment_2']=\"Lapsed_19_48\"\n",
    "df_clean_segment_2_in_18['segment_2']=df_clean_segment_2_in_18['segment'].apply(lambda x: x.split(\"Score(\")[1][0]+\"_\"+x.split(\"_2019Q4_RFM\")[0][-1])\n",
    "df_clean_segment=df_clean_segment_1_lapsed.append(df_clean_segment_2_in_18)\n",
    "df_clean_segment.shape"
   ]
  },
  {
   "cell_type": "code",
   "execution_count": 6,
   "metadata": {},
   "outputs": [
    {
     "name": "stdout",
     "output_type": "stream",
     "text": [
      "(21435770, 2)\n",
      "(21435770, 3)\n",
      "(7, 2)\n"
     ]
    },
    {
     "data": {
      "text/plain": [
       "21435770"
      ]
     },
     "execution_count": 6,
     "metadata": {},
     "output_type": "execute_result"
    }
   ],
   "source": [
    "print(df_audience.shape)\n",
    "df_audience_total_count_original=df_audience.groupby(\"segment\")['customer_id_hashed'].nunique().to_frame().reset_index().rename(columns={\"customer_id_hashed\":\"ids_total\"})\n",
    "df_audience=pd.merge(df_audience,df_clean_segment,on=\"segment\",how=\"left\")\n",
    "print(df_audience.shape)\n",
    "df_audience_total_count=df_audience.groupby(\"segment_2\")['customer_id_hashed'].nunique().to_frame().reset_index().rename(columns={\"customer_id_hashed\":\"ids_total\"})\n",
    "del df_audience['segment']\n",
    "df_audience=df_audience.rename(columns={\"segment_2\":\"segment\"})\n",
    "\n",
    "print(df_audience_total_count.shape)\n",
    "df_audience_total_count\n",
    "\n",
    "\n",
    "# In[10]:\n",
    "\n",
    "df_audience_total_count['ids_total'].sum()"
   ]
  },
  {
   "cell_type": "code",
   "execution_count": 14,
   "metadata": {},
   "outputs": [
    {
     "name": "stdout",
     "output_type": "stream",
     "text": [
      "len(list_POS_this_year_in_quarter): 13\n",
      "3\n",
      "len(list_POS_last_year_in_quarter):5\n"
     ]
    }
   ],
   "source": [
    "\n",
    "list_POS_this_year_in_quarter=list(recursive_file_gen(\"/home/jian/BigLots/\"))\n",
    "list_POS_this_year_in_quarter=[x for x in list_POS_this_year_in_quarter if \"Daily\" in x and x[-4:]==\".txt\"]\n",
    "list_POS_this_year_in_quarter=[x for x in list_POS_this_year_in_quarter if \"2016\" not in x]\n",
    "list_POS_this_year_in_quarter=[x for x in list_POS_this_year_in_quarter if \"2017\" not in x]\n",
    "list_POS_this_year_in_quarter=[x for x in list_POS_this_year_in_quarter if \"2018\" not in x]\n",
    "list_POS_this_year_in_quarter=[x for x in list_POS_this_year_in_quarter if \"histor\" not in x.lower()]\n",
    "list_POS_this_year_in_quarter.sort()\n",
    "list_POS_this_year_in_quarter=[x for x in list_POS_this_year_in_quarter if x.split(\"/MediaStorm_\")[1][:10]>=str(current_quarter_beginning)]\n",
    "# date only >=\n",
    "print(\"len(list_POS_this_year_in_quarter): \"+str(len(list_POS_this_year_in_quarter)))\n",
    "\n",
    "\n",
    "# In[12]:\n",
    "\n",
    "last_year_end_week_in_quarter=last_sturday-datetime.timedelta(days=52*7)\n",
    "\n",
    "if year_of_quarter==\"2019\" and (quarter_of_quarter==\"3\" or quarter_of_quarter==\"4\"): \n",
    "    list_POS_last_year_in_quarter=glob.glob(\"/home/jian/BigLots/hist_daily_data_itemlevel_decompressed/*.txt\")\n",
    "    list_POS_last_year_in_quarter=[x for x in list_POS_last_year_in_quarter if x.split(\"/MediaStormDailySalesHistory\")[1][:8]>=str(current_quarter_beginning_last_year).replace(\"-\",\"\")]\n",
    "    list_POS_last_year_in_quarter=[x for x in list_POS_last_year_in_quarter if x.split(\"/MediaStormDailySalesHistory\")[1][:8]<=str(last_year_end_week_in_quarter).replace(\"-\",\"\")]\n",
    "    print(1)\n",
    "elif year_of_quarter==\"2020\" and quarter_of_quarter==\"1\": \n",
    "    list_POS_last_year_in_quarter=list(recursive_file_gen(\"/home/jian/BigLots/\"))\n",
    "    list_POS_last_year_in_quarter=[x for x in list_POS_last_year_in_quarter if \"Daily\" in x and x[-4:]==\".txt\"]\n",
    "    list_POS_last_year_in_quarter=[x for x in list_POS_last_year_in_quarter if \"history\" not in x.lower()]\n",
    "    list_POS_last_year_in_quarter=[x for x in list_POS_last_year_in_quarter if \"2019\" in x]\n",
    "    list_POS_last_year_in_quarter=[x for x in list_POS_last_year_in_quarter if \"2019-02-09\" not in x]\n",
    "\n",
    "    list_POS_last_year_in_quarter=[x for x in list_POS_last_year_in_quarter if x.split(\"/MediaStorm_\")[1][:10]>=str(current_quarter_beginning_last_year)]\n",
    "    list_POS_last_year_in_quarter=[x for x in list_POS_last_year_in_quarter if x.split(\"/MediaStorm_\")[1][:10]<=str(last_year_end_week_in_quarter)]\n",
    "    list_POS_last_year_in_quarter.append(\"/home/jian/BigLots/hist_daily_data_itemlevel_decompressed/MediaStormDailySalesHistory20190209.txt\")\n",
    "    print(2)\n",
    "    \n",
    "else:\n",
    "    list_POS_last_year_in_quarter=list(recursive_file_gen(\"/home/jian/BigLots/\"))\n",
    "    list_POS_last_year_in_quarter=[x for x in list_POS_last_year_in_quarter if \"Daily\" in x and x[-4:]==\".txt\"]\n",
    "    list_POS_last_year_in_quarter=[x for x in list_POS_last_year_in_quarter if \"2018\" not in x]\n",
    "    list_POS_last_year_in_quarter=[x for x in list_POS_last_year_in_quarter if \"2017\" not in x]\n",
    "    list_POS_last_year_in_quarter=[x for x in list_POS_last_year_in_quarter if \"2016\" not in x]\n",
    "    list_POS_last_year_in_quarter=[x for x in list_POS_last_year_in_quarter if \"history\" not in x.lower()]\n",
    "    list_POS_last_year_in_quarter=[x for x in list_POS_last_year_in_quarter if x.split(\"/MediaStorm_\")[1][:10]>=str(current_quarter_beginning_last_year)]\n",
    "    list_POS_last_year_in_quarter=[x for x in list_POS_last_year_in_quarter if x.split(\"/MediaStorm_\")[1][:10]<=str(last_year_end_week_in_quarter)]\n",
    "    print(3)\n",
    "print(\"len(list_POS_last_year_in_quarter):\"+str(len(list_POS_last_year_in_quarter)))"
   ]
  },
  {
   "cell_type": "code",
   "execution_count": 15,
   "metadata": {},
   "outputs": [
    {
     "data": {
      "text/plain": [
       "int"
      ]
     },
     "execution_count": 15,
     "metadata": {},
     "output_type": "execute_result"
    }
   ],
   "source": [
    "type(quarter_of_quarter)"
   ]
  },
  {
   "cell_type": "code",
   "execution_count": 8,
   "metadata": {},
   "outputs": [
    {
     "name": "stdout",
     "output_type": "stream",
     "text": [
      "len(list_POS_this_year_in_quarter): 13\n",
      "2020-02-05 14:41:46.508768 | Error: POS file lenthg this year and last year different\n",
      "2020-02-05 14:41:46.509076 | current_week 13\n",
      "2020-02-05 14:41:46.509356 | list_POS_this_year_in_quarter 13\n",
      "2020-02-05 14:41:46.509628 | list_POS_last_year_in_quarter 5\n",
      "2020-02-05 14:41:46.509988\n"
     ]
    }
   ],
   "source": [
    "# In[13]:\n",
    "\n",
    "list_POS_this_year_in_quarter=list(recursive_file_gen(\"/home/jian/BigLots/\"))\n",
    "list_POS_this_year_in_quarter=[x for x in list_POS_this_year_in_quarter if \"Daily\" in x and x[-4:]==\".txt\"]\n",
    "list_POS_this_year_in_quarter=[x for x in list_POS_this_year_in_quarter if \"2016\" not in x]\n",
    "list_POS_this_year_in_quarter=[x for x in list_POS_this_year_in_quarter if \"2017\" not in x]\n",
    "list_POS_this_year_in_quarter=[x for x in list_POS_this_year_in_quarter if \"2018\" not in x]\n",
    "list_POS_this_year_in_quarter=[x for x in list_POS_this_year_in_quarter if \"histor\" not in x.lower()]\n",
    "list_POS_this_year_in_quarter.sort()\n",
    "list_POS_this_year_in_quarter=[x for x in list_POS_this_year_in_quarter if x.split(\"/MediaStorm_\")[1][:10]>=str(current_quarter_beginning)]\n",
    "# date only >=\n",
    "print(\"len(list_POS_this_year_in_quarter): \"+str(len(list_POS_this_year_in_quarter)))\n",
    "\n",
    "\n",
    "# In[14]:\n",
    "\n",
    "if len(list_POS_this_year_in_quarter)!=current_week or len(list_POS_last_year_in_quarter)!=current_week:\n",
    "    print(str(datetime.datetime.now())+\" | Error: POS file lenthg this year and last year different\")\n",
    "    print(str(datetime.datetime.now())+\" | current_week \"+str(current_week))\n",
    "    \n",
    "    print(str(datetime.datetime.now())+\" | list_POS_this_year_in_quarter \"+str(len(list_POS_this_year_in_quarter)))\n",
    "    print(str(datetime.datetime.now())+\" | list_POS_last_year_in_quarter \"+str(len(list_POS_last_year_in_quarter)))\n",
    "    # break\n",
    "\n",
    "\n",
    "# In[15]:\n",
    "\n",
    "print(datetime.datetime.now())"
   ]
  },
  {
   "cell_type": "code",
   "execution_count": 9,
   "metadata": {},
   "outputs": [
    {
     "data": {
      "text/plain": [
       "['/home/jian/BigLots/2019_by_weeks/MediaStorm_2019-01-05/MediaStormDailySales20190108-121531-923.txt',\n",
       " '/home/jian/BigLots/2019_by_weeks/MediaStorm_2019-01-12/MediaStormDailySales20190115-113411-782.txt',\n",
       " '/home/jian/BigLots/2019_by_weeks/MediaStorm_2019-01-19/MediaStormDailySales20190122-113619-658.txt',\n",
       " '/home/jian/BigLots/2019_by_weeks/MediaStorm_2019-01-26/MediaStormDailySales20190129-111506-486.txt',\n",
       " '/home/jian/BigLots/2019_by_weeks/MediaStorm_2019-02-02/MediaStormDailySales20190205-111300-808.txt']"
      ]
     },
     "execution_count": 9,
     "metadata": {},
     "output_type": "execute_result"
    }
   ],
   "source": [
    "list_POS_last_year_in_quarter"
   ]
  },
  {
   "cell_type": "code",
   "execution_count": 12,
   "metadata": {},
   "outputs": [
    {
     "data": {
      "text/plain": [
       "13"
      ]
     },
     "execution_count": 12,
     "metadata": {},
     "output_type": "execute_result"
    }
   ],
   "source": [
    "list_POS_last_year_in_quarter=glob.glob(\"/home/jian/BigLots/hist_daily_data_itemlevel_decompressed/*.txt\")\n",
    "list_POS_last_year_in_quarter=[x for x in list_POS_last_year_in_quarter if x.split(\"/MediaStormDailySalesHistory\")[1][:8]>=str(current_quarter_beginning_last_year).replace(\"-\",\"\")]\n",
    "list_POS_last_year_in_quarter=[x for x in list_POS_last_year_in_quarter if x.split(\"/MediaStormDailySalesHistory\")[1][:8]<=str(last_year_end_week_in_quarter).replace(\"-\",\"\")]\n",
    "len(list_POS_last_year_in_quarter)"
   ]
  },
  {
   "cell_type": "code",
   "execution_count": 10,
   "metadata": {},
   "outputs": [
    {
     "data": {
      "text/plain": [
       "'20181104'"
      ]
     },
     "execution_count": 10,
     "metadata": {},
     "output_type": "execute_result"
    }
   ],
   "source": [
    "str(current_quarter_beginning_last_year).replace(\"-\",\"\")"
   ]
  },
  {
   "cell_type": "code",
   "execution_count": 11,
   "metadata": {},
   "outputs": [
    {
     "data": {
      "text/plain": [
       "'20190202'"
      ]
     },
     "execution_count": 11,
     "metadata": {},
     "output_type": "execute_result"
    }
   ],
   "source": [
    "str(last_year_end_week_in_quarter).replace(\"-\",\"\")"
   ]
  },
  {
   "cell_type": "code",
   "execution_count": null,
   "metadata": {},
   "outputs": [],
   "source": []
  }
 ],
 "metadata": {
  "kernelspec": {
   "display_name": "Python 3",
   "language": "python",
   "name": "python3"
  },
  "language_info": {
   "codemirror_mode": {
    "name": "ipython",
    "version": 3
   },
   "file_extension": ".py",
   "mimetype": "text/x-python",
   "name": "python",
   "nbconvert_exporter": "python",
   "pygments_lexer": "ipython3",
   "version": "3.6.1"
  }
 },
 "nbformat": 4,
 "nbformat_minor": 2
}
