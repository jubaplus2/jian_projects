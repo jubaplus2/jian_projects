{
 "cells": [
  {
   "cell_type": "code",
   "execution_count": 1,
   "metadata": {},
   "outputs": [
    {
     "name": "stdout",
     "output_type": "stream",
     "text": [
      "/home/jian/Projects/Big_Lots/Analysis/2019_Q4/Loyalty_Health\n",
      "2019-12-06 10:04:35.525005\n"
     ]
    }
   ],
   "source": [
    "import pandas as pd\n",
    "import os\n",
    "import numpy as np\n",
    "import datetime\n",
    "import glob\n",
    "print(os.getcwd())\n",
    "print(datetime.datetime.now())\n",
    "import gc\n",
    "def recursive_file_gen(root_folder):\n",
    "    for root, dirs, files in os.walk(root_folder):\n",
    "        for file in files:\n",
    "            yield os.path.join(root, file)\n",
    "            \n",
    "# os.listdir(os.getcwd())"
   ]
  },
  {
   "cell_type": "code",
   "execution_count": 41,
   "metadata": {},
   "outputs": [
    {
     "name": "stdout",
     "output_type": "stream",
     "text": [
      "df_id_defination['Active_Status'].unique() ['Active (0-12)' 'Lapsed (13-18)' 'Lapsed (19-48)']\n",
      "df_id_defination['HML_Group'].unique() ['H' 'M' 'L' nan]\n",
      "df_id_defination['zip_type'].unique() ['S' 'P' 'T' nan]\n",
      "(16861368, 4) 16861368\n",
      "(16861368, 4) 16861368\n"
     ]
    }
   ],
   "source": [
    "df_id_defination=pd.read_csv(\"./BL_Loyalty_Health_2017_2018_all_ids_JL_2019-11-11.csv\",\n",
    "                             dtype=str,usecols=['customer_id_hashed','Active_Status','HML_Group','zip_type'])\n",
    "print(\"df_id_defination['Active_Status'].unique()\",df_id_defination['Active_Status'].unique())\n",
    "print(\"df_id_defination['HML_Group'].unique()\",df_id_defination['HML_Group'].unique())\n",
    "print(\"df_id_defination['zip_type'].unique()\",df_id_defination['zip_type'].unique())\n",
    "\n",
    "print(df_id_defination.shape,df_id_defination['customer_id_hashed'].nunique())\n",
    "df_id_defination=df_id_defination.drop_duplicates()\n",
    "print(df_id_defination.shape,df_id_defination['customer_id_hashed'].nunique())"
   ]
  },
  {
   "cell_type": "code",
   "execution_count": 42,
   "metadata": {
    "collapsed": true
   },
   "outputs": [],
   "source": [
    "df_id_defination['HML_Group']=df_id_defination['HML_Group'].fillna(\"nan\")\n",
    "df_id_defination['zip_type']=df_id_defination['zip_type'].fillna(\"T\")"
   ]
  },
  {
   "cell_type": "code",
   "execution_count": 43,
   "metadata": {
    "collapsed": true
   },
   "outputs": [],
   "source": [
    "df_total_id_count=df_id_defination.groupby(['Active_Status','HML_Group','zip_type'])['customer_id_hashed'].count().to_frame().reset_index()\n"
   ]
  },
  {
   "cell_type": "markdown",
   "metadata": {},
   "source": [
    "# Sales in 1 year by division"
   ]
  },
  {
   "cell_type": "code",
   "execution_count": 3,
   "metadata": {},
   "outputs": [
    {
     "name": "stdout",
     "output_type": "stream",
     "text": [
      "20180811\n"
     ]
    },
    {
     "data": {
      "text/plain": [
       "['/home/jian/BigLots/hist_daily_data_itemlevel_decompressed/MediaStormDailySalesHistory20180811.txt',\n",
       " '/home/jian/BigLots/hist_daily_data_itemlevel_decompressed/MediaStormDailySalesHistory20180818.txt',\n",
       " '/home/jian/BigLots/hist_daily_data_itemlevel_decompressed/MediaStormDailySalesHistory20180825.txt',\n",
       " '/home/jian/BigLots/hist_daily_data_itemlevel_decompressed/MediaStormDailySalesHistory20180901.txt',\n",
       " '/home/jian/BigLots/hist_daily_data_itemlevel_decompressed/MediaStormDailySalesHistory20180908.txt',\n",
       " '/home/jian/BigLots/hist_daily_data_itemlevel_decompressed/MediaStormDailySalesHistory20180915.txt',\n",
       " '/home/jian/BigLots/hist_daily_data_itemlevel_decompressed/MediaStormDailySalesHistory20180922.txt',\n",
       " '/home/jian/BigLots/hist_daily_data_itemlevel_decompressed/MediaStormDailySalesHistory20180929.txt',\n",
       " '/home/jian/BigLots/hist_daily_data_itemlevel_decompressed/MediaStormDailySalesHistory20181006.txt']"
      ]
     },
     "execution_count": 3,
     "metadata": {},
     "output_type": "execute_result"
    }
   ],
   "source": [
    "# Hard coded below: 2017-10-01 to 2018-09-30\n",
    "\n",
    "historical_item_files=glob.glob(\"/home/jian/BigLots/hist_daily_data_itemlevel_decompressed/*.txt\")\n",
    "historical_item_files=[x for x in historical_item_files if x.split(\"/MediaStormDailySalesHistory\")[1][:8]<=\"20181007\"]\n",
    "historical_item_files.sort()\n",
    "\n",
    "print(min([x.split(\"/MediaStormDailySalesHistory\")[1][:8] for x in historical_item_files]))\n",
    "\n",
    "historical_item_files"
   ]
  },
  {
   "cell_type": "code",
   "execution_count": 4,
   "metadata": {},
   "outputs": [
    {
     "data": {
      "text/plain": [
       "['/home/jian/BigLots/hist_daily_data_subclasslevel/MediaStormDailySales_week_ending_2017-10-07.txt',\n",
       " '/home/jian/BigLots/hist_daily_data_subclasslevel/MediaStormDailySales_week_ending_2017-10-14.txt',\n",
       " '/home/jian/BigLots/hist_daily_data_subclasslevel/MediaStormDailySales_week_ending_2017-10-21.txt',\n",
       " '/home/jian/BigLots/hist_daily_data_subclasslevel/MediaStormDailySales_week_ending_2017-10-28.txt',\n",
       " '/home/jian/BigLots/hist_daily_data_subclasslevel/MediaStormDailySales_week_ending_2017-11-04.txt',\n",
       " '/home/jian/BigLots/hist_daily_data_subclasslevel/MediaStormDailySales_week_ending_2017-11-11.txt',\n",
       " '/home/jian/BigLots/hist_daily_data_subclasslevel/MediaStormDailySales_week_ending_2017-11-18.txt',\n",
       " '/home/jian/BigLots/hist_daily_data_subclasslevel/MediaStormDailySales_week_ending_2017-11-25.txt',\n",
       " '/home/jian/BigLots/hist_daily_data_subclasslevel/MediaStormDailySales_week_ending_2017-12-02.txt',\n",
       " '/home/jian/BigLots/hist_daily_data_subclasslevel/MediaStormDailySales_week_ending_2017-12-09.txt',\n",
       " '/home/jian/BigLots/hist_daily_data_subclasslevel/MediaStormDailySales_week_ending_2017-12-16.txt',\n",
       " '/home/jian/BigLots/hist_daily_data_subclasslevel/MediaStormDailySales_week_ending_2017-12-23.txt',\n",
       " '/home/jian/BigLots/hist_daily_data_subclasslevel/MediaStormDailySales_week_ending_2017-12-30.txt',\n",
       " '/home/jian/BigLots/hist_daily_data_subclasslevel/MediaStormDailySales_week_ending_2018-01-06.txt',\n",
       " '/home/jian/BigLots/hist_daily_data_subclasslevel/MediaStormDailySales_week_ending_2018-01-13.txt',\n",
       " '/home/jian/BigLots/hist_daily_data_subclasslevel/MediaStormDailySales_week_ending_2018-01-20.txt',\n",
       " '/home/jian/BigLots/hist_daily_data_subclasslevel/MediaStormDailySales_week_ending_2018-01-27.txt',\n",
       " '/home/jian/BigLots/hist_daily_data_subclasslevel/MediaStormDailySales_week_ending_2018-02-03.txt',\n",
       " '/home/jian/BigLots/hist_daily_data_subclasslevel/MediaStormDailySales_week_ending_2018-02-10.txt',\n",
       " '/home/jian/BigLots/hist_daily_data_subclasslevel/MediaStormDailySales_week_ending_2018-02-17.txt',\n",
       " '/home/jian/BigLots/hist_daily_data_subclasslevel/MediaStormDailySales_week_ending_2018-02-24.txt',\n",
       " '/home/jian/BigLots/hist_daily_data_subclasslevel/MediaStormDailySales_week_ending_2018-03-03.txt',\n",
       " '/home/jian/BigLots/hist_daily_data_subclasslevel/MediaStormDailySales_week_ending_2018-03-10.txt',\n",
       " '/home/jian/BigLots/hist_daily_data_subclasslevel/MediaStormDailySales_week_ending_2018-03-17.txt',\n",
       " '/home/jian/BigLots/hist_daily_data_subclasslevel/MediaStormDailySales_week_ending_2018-03-24.txt',\n",
       " '/home/jian/BigLots/hist_daily_data_subclasslevel/MediaStormDailySales_week_ending_2018-03-31.txt',\n",
       " '/home/jian/BigLots/hist_daily_data_subclasslevel/MediaStormDailySales_week_ending_2018-04-07.txt',\n",
       " '/home/jian/BigLots/hist_daily_data_subclasslevel/MediaStormDailySales_week_ending_2018-04-14.txt',\n",
       " '/home/jian/BigLots/hist_daily_data_subclasslevel/MediaStormDailySales_week_ending_2018-04-21.txt',\n",
       " '/home/jian/BigLots/hist_daily_data_subclasslevel/MediaStormDailySales_week_ending_2018-04-28.txt',\n",
       " '/home/jian/BigLots/hist_daily_data_subclasslevel/MediaStormDailySales_week_ending_2018-05-05.txt',\n",
       " '/home/jian/BigLots/hist_daily_data_subclasslevel/MediaStormDailySales_week_ending_2018-05-12.txt',\n",
       " '/home/jian/BigLots/hist_daily_data_subclasslevel/MediaStormDailySales_week_ending_2018-05-19.txt',\n",
       " '/home/jian/BigLots/hist_daily_data_subclasslevel/MediaStormDailySales_week_ending_2018-05-26.txt',\n",
       " '/home/jian/BigLots/hist_daily_data_subclasslevel/MediaStormDailySales_week_ending_2018-06-02.txt',\n",
       " '/home/jian/BigLots/hist_daily_data_subclasslevel/MediaStormDailySales_week_ending_2018-06-09.txt']"
      ]
     },
     "execution_count": 4,
     "metadata": {},
     "output_type": "execute_result"
    }
   ],
   "source": [
    "historical_subclass_files=glob.glob(\"/home/jian/BigLots/hist_daily_data_subclasslevel/*.txt\")\n",
    "\n",
    "historical_subclass_files=[x for x in historical_subclass_files if x.split(\"/MediaStormDailySales_week_ending_\")[1][:10]>=\"2017-10-01\"]\n",
    "historical_subclass_files=[x for x in historical_subclass_files if x.split(\"/MediaStormDailySales_week_ending_\")[1][:10]<=\"2018-08-11\"]\n",
    "historical_subclass_files.sort()\n",
    "historical_subclass_files"
   ]
  },
  {
   "cell_type": "code",
   "execution_count": 5,
   "metadata": {},
   "outputs": [
    {
     "data": {
      "text/plain": [
       "['/home/jian/BigLots/2018_by_weeks/MediaStorm_2018-06-16/MediaStormDailySales.txt',\n",
       " '/home/jian/BigLots/2018_by_weeks/MediaStorm_2018-06-23/MediaStormDailySales.txt',\n",
       " '/home/jian/BigLots/2018_by_weeks/MediaStorm_2018-06-30/MediaStormDailySales.txt',\n",
       " '/home/jian/BigLots/2018_by_weeks/MediaStorm_2018-07-07/MediaStormDailySales.txt',\n",
       " '/home/jian/BigLots/2018_by_weeks/MediaStorm_2018-07-14/MediaStormDailySales20180717-113630-767.txt',\n",
       " '/home/jian/BigLots/2018_by_weeks/MediaStorm_2018-07-21/MediaStormDailySales20180724-113327-741.txt',\n",
       " '/home/jian/BigLots/2018_by_weeks/MediaStorm_2018-07-28/MediaStormDailySales20180731-111804-489.txt',\n",
       " '/home/jian/BigLots/2018_by_weeks/MediaStorm_2018-08-04/MediaStormDailySales20180807-111637-702.txt',\n",
       " '/home/jian/BigLots/2018_by_weeks/MediaStorm_2018-08-11/MediaStormDailySales20180814-121633-120.txt']"
      ]
     },
     "execution_count": 5,
     "metadata": {},
     "output_type": "execute_result"
    }
   ],
   "source": [
    "daily_POS_files_2018=list(recursive_file_gen(\"/home/jian/BigLots/2018_by_weeks/\"))\n",
    "daily_POS_files_2018=[x for x in daily_POS_files_2018 if \"daily\" in x.lower()]\n",
    "daily_POS_files_2018=[x for x in daily_POS_files_2018 if \".txt\" in x.lower()]\n",
    "daily_POS_files_2018=[x for x in daily_POS_files_2018 if x.split(\"MediaStorm_\")[1][:10]<=\"2018-08-11\"]\n",
    "\n",
    "daily_POS_files_2018.sort()\n",
    "\n",
    "daily_POS_files_2018"
   ]
  },
  {
   "cell_type": "code",
   "execution_count": 6,
   "metadata": {},
   "outputs": [
    {
     "name": "stdout",
     "output_type": "stream",
     "text": [
      "54\n"
     ]
    },
    {
     "data": {
      "text/plain": [
       "['/home/jian/BigLots/hist_daily_data_subclasslevel/MediaStormDailySales_week_ending_2017-10-07.txt',\n",
       " '/home/jian/BigLots/hist_daily_data_subclasslevel/MediaStormDailySales_week_ending_2017-10-14.txt',\n",
       " '/home/jian/BigLots/hist_daily_data_subclasslevel/MediaStormDailySales_week_ending_2017-10-21.txt',\n",
       " '/home/jian/BigLots/hist_daily_data_subclasslevel/MediaStormDailySales_week_ending_2017-10-28.txt',\n",
       " '/home/jian/BigLots/hist_daily_data_subclasslevel/MediaStormDailySales_week_ending_2017-11-04.txt',\n",
       " '/home/jian/BigLots/hist_daily_data_subclasslevel/MediaStormDailySales_week_ending_2017-11-11.txt',\n",
       " '/home/jian/BigLots/hist_daily_data_subclasslevel/MediaStormDailySales_week_ending_2017-11-18.txt',\n",
       " '/home/jian/BigLots/hist_daily_data_subclasslevel/MediaStormDailySales_week_ending_2017-11-25.txt',\n",
       " '/home/jian/BigLots/hist_daily_data_subclasslevel/MediaStormDailySales_week_ending_2017-12-02.txt',\n",
       " '/home/jian/BigLots/hist_daily_data_subclasslevel/MediaStormDailySales_week_ending_2017-12-09.txt',\n",
       " '/home/jian/BigLots/hist_daily_data_subclasslevel/MediaStormDailySales_week_ending_2017-12-16.txt',\n",
       " '/home/jian/BigLots/hist_daily_data_subclasslevel/MediaStormDailySales_week_ending_2017-12-23.txt',\n",
       " '/home/jian/BigLots/hist_daily_data_subclasslevel/MediaStormDailySales_week_ending_2017-12-30.txt',\n",
       " '/home/jian/BigLots/hist_daily_data_subclasslevel/MediaStormDailySales_week_ending_2018-01-06.txt',\n",
       " '/home/jian/BigLots/hist_daily_data_subclasslevel/MediaStormDailySales_week_ending_2018-01-13.txt',\n",
       " '/home/jian/BigLots/hist_daily_data_subclasslevel/MediaStormDailySales_week_ending_2018-01-20.txt',\n",
       " '/home/jian/BigLots/hist_daily_data_subclasslevel/MediaStormDailySales_week_ending_2018-01-27.txt',\n",
       " '/home/jian/BigLots/hist_daily_data_subclasslevel/MediaStormDailySales_week_ending_2018-02-03.txt',\n",
       " '/home/jian/BigLots/hist_daily_data_subclasslevel/MediaStormDailySales_week_ending_2018-02-10.txt',\n",
       " '/home/jian/BigLots/hist_daily_data_subclasslevel/MediaStormDailySales_week_ending_2018-02-17.txt',\n",
       " '/home/jian/BigLots/hist_daily_data_subclasslevel/MediaStormDailySales_week_ending_2018-02-24.txt',\n",
       " '/home/jian/BigLots/hist_daily_data_subclasslevel/MediaStormDailySales_week_ending_2018-03-03.txt',\n",
       " '/home/jian/BigLots/hist_daily_data_subclasslevel/MediaStormDailySales_week_ending_2018-03-10.txt',\n",
       " '/home/jian/BigLots/hist_daily_data_subclasslevel/MediaStormDailySales_week_ending_2018-03-17.txt',\n",
       " '/home/jian/BigLots/hist_daily_data_subclasslevel/MediaStormDailySales_week_ending_2018-03-24.txt',\n",
       " '/home/jian/BigLots/hist_daily_data_subclasslevel/MediaStormDailySales_week_ending_2018-03-31.txt',\n",
       " '/home/jian/BigLots/hist_daily_data_subclasslevel/MediaStormDailySales_week_ending_2018-04-07.txt',\n",
       " '/home/jian/BigLots/hist_daily_data_subclasslevel/MediaStormDailySales_week_ending_2018-04-14.txt',\n",
       " '/home/jian/BigLots/hist_daily_data_subclasslevel/MediaStormDailySales_week_ending_2018-04-21.txt',\n",
       " '/home/jian/BigLots/hist_daily_data_subclasslevel/MediaStormDailySales_week_ending_2018-04-28.txt',\n",
       " '/home/jian/BigLots/hist_daily_data_subclasslevel/MediaStormDailySales_week_ending_2018-05-05.txt',\n",
       " '/home/jian/BigLots/hist_daily_data_subclasslevel/MediaStormDailySales_week_ending_2018-05-12.txt',\n",
       " '/home/jian/BigLots/hist_daily_data_subclasslevel/MediaStormDailySales_week_ending_2018-05-19.txt',\n",
       " '/home/jian/BigLots/hist_daily_data_subclasslevel/MediaStormDailySales_week_ending_2018-05-26.txt',\n",
       " '/home/jian/BigLots/hist_daily_data_subclasslevel/MediaStormDailySales_week_ending_2018-06-02.txt',\n",
       " '/home/jian/BigLots/hist_daily_data_subclasslevel/MediaStormDailySales_week_ending_2018-06-09.txt',\n",
       " '/home/jian/BigLots/2018_by_weeks/MediaStorm_2018-06-16/MediaStormDailySales.txt',\n",
       " '/home/jian/BigLots/2018_by_weeks/MediaStorm_2018-06-23/MediaStormDailySales.txt',\n",
       " '/home/jian/BigLots/2018_by_weeks/MediaStorm_2018-06-30/MediaStormDailySales.txt',\n",
       " '/home/jian/BigLots/2018_by_weeks/MediaStorm_2018-07-07/MediaStormDailySales.txt',\n",
       " '/home/jian/BigLots/2018_by_weeks/MediaStorm_2018-07-14/MediaStormDailySales20180717-113630-767.txt',\n",
       " '/home/jian/BigLots/2018_by_weeks/MediaStorm_2018-07-21/MediaStormDailySales20180724-113327-741.txt',\n",
       " '/home/jian/BigLots/2018_by_weeks/MediaStorm_2018-07-28/MediaStormDailySales20180731-111804-489.txt',\n",
       " '/home/jian/BigLots/2018_by_weeks/MediaStorm_2018-08-04/MediaStormDailySales20180807-111637-702.txt',\n",
       " '/home/jian/BigLots/2018_by_weeks/MediaStorm_2018-08-11/MediaStormDailySales20180814-121633-120.txt',\n",
       " '/home/jian/BigLots/hist_daily_data_itemlevel_decompressed/MediaStormDailySalesHistory20180811.txt',\n",
       " '/home/jian/BigLots/hist_daily_data_itemlevel_decompressed/MediaStormDailySalesHistory20180818.txt',\n",
       " '/home/jian/BigLots/hist_daily_data_itemlevel_decompressed/MediaStormDailySalesHistory20180825.txt',\n",
       " '/home/jian/BigLots/hist_daily_data_itemlevel_decompressed/MediaStormDailySalesHistory20180901.txt',\n",
       " '/home/jian/BigLots/hist_daily_data_itemlevel_decompressed/MediaStormDailySalesHistory20180908.txt',\n",
       " '/home/jian/BigLots/hist_daily_data_itemlevel_decompressed/MediaStormDailySalesHistory20180915.txt',\n",
       " '/home/jian/BigLots/hist_daily_data_itemlevel_decompressed/MediaStormDailySalesHistory20180922.txt',\n",
       " '/home/jian/BigLots/hist_daily_data_itemlevel_decompressed/MediaStormDailySalesHistory20180929.txt',\n",
       " '/home/jian/BigLots/hist_daily_data_itemlevel_decompressed/MediaStormDailySalesHistory20181006.txt']"
      ]
     },
     "execution_count": 6,
     "metadata": {},
     "output_type": "execute_result"
    }
   ],
   "source": [
    "list_POS_item_in_1_year=historical_subclass_files+daily_POS_files_2018+historical_item_files\n",
    "print(len(list_POS_item_in_1_year))\n",
    "\n",
    "list_POS_item_in_1_year"
   ]
  },
  {
   "cell_type": "code",
   "execution_count": 7,
   "metadata": {},
   "outputs": [
    {
     "name": "stdout",
     "output_type": "stream",
     "text": [
      "(463, 2)\n",
      "(463, 3)\n"
     ]
    }
   ],
   "source": [
    "mapping_division_class=pd.read_table(\"/home/jian/BigLots/static_files/ProductTaxonomy/MediaStormProductTaxonomy20191101-134011-956.txt\",\n",
    "                                    dtype=str,sep=\"|\",usecols=['division_id','class_code_id']).drop_duplicates()\n",
    "print(mapping_division_class.shape)\n",
    "mapping_division_name=pd.read_table(\"/home/jian/BigLots/static_files/MediaStorm Data Extract - Division Names.txt\",sep=\"|\",dtype=str)\n",
    "mapping_division_class=pd.merge(mapping_division_class,mapping_division_name,on=\"division_id\",how=\"left\")\n",
    "print(mapping_division_class.shape)"
   ]
  },
  {
   "cell_type": "code",
   "execution_count": 8,
   "metadata": {},
   "outputs": [
    {
     "data": {
      "text/html": [
       "<div>\n",
       "<style scoped>\n",
       "    .dataframe tbody tr th:only-of-type {\n",
       "        vertical-align: middle;\n",
       "    }\n",
       "\n",
       "    .dataframe tbody tr th {\n",
       "        vertical-align: top;\n",
       "    }\n",
       "\n",
       "    .dataframe thead th {\n",
       "        text-align: right;\n",
       "    }\n",
       "</style>\n",
       "<table border=\"1\" class=\"dataframe\">\n",
       "  <thead>\n",
       "    <tr style=\"text-align: right;\">\n",
       "      <th></th>\n",
       "      <th>division_id</th>\n",
       "      <th>class_code_id</th>\n",
       "      <th>division_desc</th>\n",
       "    </tr>\n",
       "  </thead>\n",
       "  <tbody>\n",
       "    <tr>\n",
       "      <th>0</th>\n",
       "      <td>1</td>\n",
       "      <td>11001</td>\n",
       "      <td>FOOD</td>\n",
       "    </tr>\n",
       "    <tr>\n",
       "      <th>1</th>\n",
       "      <td>1</td>\n",
       "      <td>11002</td>\n",
       "      <td>FOOD</td>\n",
       "    </tr>\n",
       "  </tbody>\n",
       "</table>\n",
       "</div>"
      ],
      "text/plain": [
       "  division_id class_code_id division_desc\n",
       "0           1         11001          FOOD\n",
       "1           1         11002          FOOD"
      ]
     },
     "execution_count": 8,
     "metadata": {},
     "output_type": "execute_result"
    }
   ],
   "source": [
    "mapping_division_class.head(2)"
   ]
  },
  {
   "cell_type": "code",
   "execution_count": 9,
   "metadata": {},
   "outputs": [
    {
     "name": "stdout",
     "output_type": "stream",
     "text": [
      "2019-12-06 10:11:08.583488 /home/jian/BigLots/hist_daily_data_subclasslevel/MediaStormDailySales_week_ending_2017-10-07.txt\n",
      "0 2017-10-01 2017-10-07\n",
      "2019-12-06 10:12:50.296396 /home/jian/BigLots/hist_daily_data_subclasslevel/MediaStormDailySales_week_ending_2017-10-14.txt\n",
      "1 2017-10-08 2017-10-14\n",
      "2019-12-06 10:14:18.423884 /home/jian/BigLots/hist_daily_data_subclasslevel/MediaStormDailySales_week_ending_2017-10-21.txt\n",
      "2 2017-10-15 2017-10-21\n",
      "2019-12-06 10:15:53.466471 /home/jian/BigLots/hist_daily_data_subclasslevel/MediaStormDailySales_week_ending_2017-10-28.txt\n",
      "3 2017-10-22 2017-10-28\n",
      "2019-12-06 10:18:03.104224 /home/jian/BigLots/hist_daily_data_subclasslevel/MediaStormDailySales_week_ending_2017-11-04.txt\n",
      "4 2017-10-29 2017-11-04\n",
      "2019-12-06 10:21:01.798954 /home/jian/BigLots/hist_daily_data_subclasslevel/MediaStormDailySales_week_ending_2017-11-11.txt\n",
      "5 2017-11-05 2017-11-11\n",
      "2019-12-06 10:24:21.090923 /home/jian/BigLots/hist_daily_data_subclasslevel/MediaStormDailySales_week_ending_2017-11-18.txt\n",
      "6 2017-11-12 2017-11-18\n",
      "2019-12-06 10:29:28.889723 /home/jian/BigLots/hist_daily_data_subclasslevel/MediaStormDailySales_week_ending_2017-11-25.txt\n",
      "7 2017-11-19 2017-11-25\n",
      "2019-12-06 10:34:47.603731 /home/jian/BigLots/hist_daily_data_subclasslevel/MediaStormDailySales_week_ending_2017-12-02.txt\n",
      "8 2017-11-26 2017-12-02\n",
      "2019-12-06 10:39:08.992506 /home/jian/BigLots/hist_daily_data_subclasslevel/MediaStormDailySales_week_ending_2017-12-09.txt\n",
      "9 2017-12-03 2017-12-09\n",
      "2019-12-06 10:43:36.278218 /home/jian/BigLots/hist_daily_data_subclasslevel/MediaStormDailySales_week_ending_2017-12-16.txt\n",
      "10 2017-12-10 2017-12-16\n",
      "2019-12-06 10:47:39.382962 /home/jian/BigLots/hist_daily_data_subclasslevel/MediaStormDailySales_week_ending_2017-12-23.txt\n",
      "11 2017-12-17 2017-12-23\n",
      "2019-12-06 10:49:27.687868 /home/jian/BigLots/hist_daily_data_subclasslevel/MediaStormDailySales_week_ending_2017-12-30.txt\n",
      "12 2017-12-24 2017-12-30\n",
      "2019-12-06 10:50:51.754394 /home/jian/BigLots/hist_daily_data_subclasslevel/MediaStormDailySales_week_ending_2018-01-06.txt\n",
      "13 2017-12-31 2018-01-06\n",
      "2019-12-06 10:52:16.691050 /home/jian/BigLots/hist_daily_data_subclasslevel/MediaStormDailySales_week_ending_2018-01-13.txt\n",
      "14 2018-01-07 2018-01-13\n",
      "2019-12-06 10:54:11.867694 /home/jian/BigLots/hist_daily_data_subclasslevel/MediaStormDailySales_week_ending_2018-01-20.txt\n",
      "15 2018-01-14 2018-01-20\n",
      "2019-12-06 10:59:49.532016 /home/jian/BigLots/hist_daily_data_subclasslevel/MediaStormDailySales_week_ending_2018-01-27.txt\n",
      "16 2018-01-21 2018-01-27\n",
      "2019-12-06 11:02:27.299569 /home/jian/BigLots/hist_daily_data_subclasslevel/MediaStormDailySales_week_ending_2018-02-03.txt\n",
      "17 2018-01-28 2018-02-03\n",
      "2019-12-06 11:04:10.767987 /home/jian/BigLots/hist_daily_data_subclasslevel/MediaStormDailySales_week_ending_2018-02-10.txt\n",
      "18 2018-02-04 2018-02-10\n",
      "2019-12-06 11:05:36.785272 /home/jian/BigLots/hist_daily_data_subclasslevel/MediaStormDailySales_week_ending_2018-02-17.txt\n",
      "19 2018-02-11 2018-02-17\n",
      "2019-12-06 11:07:13.512427 /home/jian/BigLots/hist_daily_data_subclasslevel/MediaStormDailySales_week_ending_2018-02-24.txt\n",
      "20 2018-02-18 2018-02-24\n",
      "2019-12-06 11:09:01.707162 /home/jian/BigLots/hist_daily_data_subclasslevel/MediaStormDailySales_week_ending_2018-03-03.txt\n",
      "21 2018-02-25 2018-03-03\n",
      "2019-12-06 11:10:45.684585 /home/jian/BigLots/hist_daily_data_subclasslevel/MediaStormDailySales_week_ending_2018-03-10.txt\n",
      "22 2018-03-04 2018-03-10\n",
      "2019-12-06 11:12:35.979044 /home/jian/BigLots/hist_daily_data_subclasslevel/MediaStormDailySales_week_ending_2018-03-17.txt\n",
      "23 2018-03-11 2018-03-17\n",
      "2019-12-06 11:14:15.541341 /home/jian/BigLots/hist_daily_data_subclasslevel/MediaStormDailySales_week_ending_2018-03-24.txt\n",
      "24 2018-03-18 2018-03-24\n",
      "2019-12-06 11:16:00.260972 /home/jian/BigLots/hist_daily_data_subclasslevel/MediaStormDailySales_week_ending_2018-03-31.txt\n",
      "25 2018-03-25 2018-03-31\n",
      "2019-12-06 11:18:11.917241 /home/jian/BigLots/hist_daily_data_subclasslevel/MediaStormDailySales_week_ending_2018-04-07.txt\n",
      "26 2018-04-01 2018-04-07\n",
      "2019-12-06 11:20:18.419220 /home/jian/BigLots/hist_daily_data_subclasslevel/MediaStormDailySales_week_ending_2018-04-14.txt\n",
      "27 2018-04-08 2018-04-14\n",
      "2019-12-06 11:21:56.850688 /home/jian/BigLots/hist_daily_data_subclasslevel/MediaStormDailySales_week_ending_2018-04-21.txt\n",
      "28 2018-04-15 2018-04-21\n",
      "2019-12-06 11:23:46.774509 /home/jian/BigLots/hist_daily_data_subclasslevel/MediaStormDailySales_week_ending_2018-04-28.txt\n",
      "29 2018-04-22 2018-04-28\n",
      "2019-12-06 11:25:27.140198 /home/jian/BigLots/hist_daily_data_subclasslevel/MediaStormDailySales_week_ending_2018-05-05.txt\n",
      "30 2018-04-29 2018-05-05\n",
      "2019-12-06 11:27:09.639157 /home/jian/BigLots/hist_daily_data_subclasslevel/MediaStormDailySales_week_ending_2018-05-12.txt\n",
      "31 2018-05-06 2018-05-12\n",
      "2019-12-06 11:28:48.998551 /home/jian/BigLots/hist_daily_data_subclasslevel/MediaStormDailySales_week_ending_2018-05-19.txt\n",
      "32 2018-05-13 2018-05-19\n",
      "2019-12-06 11:30:29.537870 /home/jian/BigLots/hist_daily_data_subclasslevel/MediaStormDailySales_week_ending_2018-05-26.txt\n",
      "33 2018-05-20 2018-05-26\n",
      "2019-12-06 11:32:27.524181 /home/jian/BigLots/hist_daily_data_subclasslevel/MediaStormDailySales_week_ending_2018-06-02.txt\n",
      "34 2018-05-27 2018-06-02\n",
      "2019-12-06 11:34:14.695908 /home/jian/BigLots/hist_daily_data_subclasslevel/MediaStormDailySales_week_ending_2018-06-09.txt\n",
      "35 2018-06-03 2018-06-09\n",
      "2019-12-06 11:35:59.442625 /home/jian/BigLots/2018_by_weeks/MediaStorm_2018-06-16/MediaStormDailySales.txt\n",
      "36 2018-06-10 2018-06-16\n",
      "2019-12-06 11:37:43.596753 /home/jian/BigLots/2018_by_weeks/MediaStorm_2018-06-23/MediaStormDailySales.txt\n",
      "37 2018-06-17 2018-06-23\n",
      "2019-12-06 11:39:34.816054 /home/jian/BigLots/2018_by_weeks/MediaStorm_2018-06-30/MediaStormDailySales.txt\n",
      "38 2018-06-24 2018-06-30\n",
      "2019-12-06 11:42:03.813820 /home/jian/BigLots/2018_by_weeks/MediaStorm_2018-07-07/MediaStormDailySales.txt\n",
      "39 2018-07-01 2018-07-07\n",
      "2019-12-06 11:44:22.399434 /home/jian/BigLots/2018_by_weeks/MediaStorm_2018-07-14/MediaStormDailySales20180717-113630-767.txt\n",
      "40 2018-07-08 2018-07-14\n",
      "2019-12-06 11:46:18.239695 /home/jian/BigLots/2018_by_weeks/MediaStorm_2018-07-21/MediaStormDailySales20180724-113327-741.txt\n",
      "41 2018-07-15 2018-07-21\n",
      "2019-12-06 11:48:17.115151 /home/jian/BigLots/2018_by_weeks/MediaStorm_2018-07-28/MediaStormDailySales20180731-111804-489.txt\n",
      "42 2018-07-22 2018-07-28\n",
      "2019-12-06 11:50:18.591597 /home/jian/BigLots/2018_by_weeks/MediaStorm_2018-08-04/MediaStormDailySales20180807-111637-702.txt\n",
      "43 2018-07-29 2018-08-04\n",
      "2019-12-06 11:52:09.567562 /home/jian/BigLots/2018_by_weeks/MediaStorm_2018-08-11/MediaStormDailySales20180814-121633-120.txt\n",
      "44 2018-08-05 2018-08-11\n",
      "2019-12-06 11:54:26.015340 /home/jian/BigLots/hist_daily_data_itemlevel_decompressed/MediaStormDailySalesHistory20180811.txt\n",
      "45 2018-08-05 2018-08-11\n",
      "2019-12-06 11:56:43.996512 /home/jian/BigLots/hist_daily_data_itemlevel_decompressed/MediaStormDailySalesHistory20180818.txt\n",
      "46 2018-08-12 2018-08-18\n",
      "2019-12-06 11:59:13.684123 /home/jian/BigLots/hist_daily_data_itemlevel_decompressed/MediaStormDailySalesHistory20180825.txt\n",
      "47 2018-08-19 2018-08-25\n",
      "2019-12-06 12:01:32.211583 /home/jian/BigLots/hist_daily_data_itemlevel_decompressed/MediaStormDailySalesHistory20180901.txt\n",
      "48 2018-08-26 2018-09-01\n",
      "2019-12-06 12:03:59.958149 /home/jian/BigLots/hist_daily_data_itemlevel_decompressed/MediaStormDailySalesHistory20180908.txt\n",
      "49 2018-09-02 2018-09-08\n",
      "2019-12-06 12:06:14.490605 /home/jian/BigLots/hist_daily_data_itemlevel_decompressed/MediaStormDailySalesHistory20180915.txt\n",
      "50 2018-09-09 2018-09-15\n",
      "2019-12-06 12:08:32.782825 /home/jian/BigLots/hist_daily_data_itemlevel_decompressed/MediaStormDailySalesHistory20180922.txt\n",
      "51 2018-09-16 2018-09-22\n",
      "2019-12-06 12:11:21.908917 /home/jian/BigLots/hist_daily_data_itemlevel_decompressed/MediaStormDailySalesHistory20180929.txt\n",
      "52 2018-09-23 2018-09-29\n",
      "2019-12-06 12:13:13.949566 /home/jian/BigLots/hist_daily_data_itemlevel_decompressed/MediaStormDailySalesHistory20181006.txt\n",
      "53 2018-09-30 2018-09-30\n"
     ]
    }
   ],
   "source": [
    "# Grouped by in the loop\n",
    "df_sales_in_1_year_by_division=pd.DataFrame()\n",
    "i_counter=0\n",
    "for file in list_POS_item_in_1_year:\n",
    "    try:\n",
    "        df=pd.read_table(file,dtype=str,sep=\"|\",usecols=['customer_id_hashed','transaction_dt','transaction_id','location_id','item_transaction_amt','class_code_id'])\n",
    "        df=df.rename(columns={\"item_transaction_amt\":\"sales\"})\n",
    "    except:\n",
    "        df=pd.read_table(file,dtype=str,sep=\"|\",usecols=['customer_id_hashed','transaction_dt','transaction_id','location_id','subclass_transaction_amt','class_code_id'])\n",
    "        df=df.rename(columns={\"subclass_transaction_amt\":\"sales\"})\n",
    "        \n",
    "    df=df[pd.notnull(df['customer_id_hashed'])]\n",
    "    ###\n",
    "    df=df[df['transaction_dt']>=\"2017-10-01\"]\n",
    "    df=df[df['transaction_dt']<=\"2018-09-30\"]\n",
    "    ###\n",
    "    df=pd.merge(df,mapping_division_class,on=\"class_code_id\")\n",
    "    df['sales']=df['sales'].astype(float)\n",
    "    df_sales=df.groupby(['customer_id_hashed','transaction_dt','division_id','division_desc'])['sales'].sum().to_frame().reset_index()\n",
    "    \n",
    "    df_trans=df[['customer_id_hashed','transaction_dt','transaction_id','location_id','division_id','division_desc']].drop_duplicates()\n",
    "    df_trans['trans']=1\n",
    "    df_trans=df_trans.groupby(['customer_id_hashed','transaction_dt','division_id','division_desc'])['trans'].sum().to_frame().reset_index()\n",
    "    df=pd.merge(df_sales,df_trans,on=[\"customer_id_hashed\",'transaction_dt','division_id','division_desc'],how=\"outer\")\n",
    "    print(datetime.datetime.now(),file)\n",
    "    print(i_counter,df['transaction_dt'].min(),df['transaction_dt'].max())\n",
    "    \n",
    "    i_counter+=1\n",
    "    \n",
    "    df=df.groupby([\"customer_id_hashed\",\"division_id\",\"division_desc\"])['sales','trans'].sum().reset_index()\n",
    "    \n",
    "    df_sales_in_1_year_by_division=df_sales_in_1_year_by_division.append(df)\n"
   ]
  },
  {
   "cell_type": "code",
   "execution_count": 10,
   "metadata": {},
   "outputs": [
    {
     "name": "stdout",
     "output_type": "stream",
     "text": [
      "(136300214, 5)\n"
     ]
    }
   ],
   "source": [
    "print(df_sales_in_1_year_by_division.shape)"
   ]
  },
  {
   "cell_type": "code",
   "execution_count": 11,
   "metadata": {},
   "outputs": [
    {
     "name": "stdout",
     "output_type": "stream",
     "text": [
      "2019-12-06 12:16:06.770577 (136300214, 5)\n"
     ]
    },
    {
     "data": {
      "text/html": [
       "<div>\n",
       "<style scoped>\n",
       "    .dataframe tbody tr th:only-of-type {\n",
       "        vertical-align: middle;\n",
       "    }\n",
       "\n",
       "    .dataframe tbody tr th {\n",
       "        vertical-align: top;\n",
       "    }\n",
       "\n",
       "    .dataframe thead th {\n",
       "        text-align: right;\n",
       "    }\n",
       "</style>\n",
       "<table border=\"1\" class=\"dataframe\">\n",
       "  <thead>\n",
       "    <tr style=\"text-align: right;\">\n",
       "      <th></th>\n",
       "      <th>customer_id_hashed</th>\n",
       "      <th>division_id</th>\n",
       "      <th>division_desc</th>\n",
       "      <th>sales_in_1_year</th>\n",
       "      <th>trans_in_1_year</th>\n",
       "    </tr>\n",
       "  </thead>\n",
       "  <tbody>\n",
       "    <tr>\n",
       "      <th>0</th>\n",
       "      <td>000010e1fda19a1d87e283791f0abfebef1911f771f0b1...</td>\n",
       "      <td>1</td>\n",
       "      <td>FOOD</td>\n",
       "      <td>15.9</td>\n",
       "      <td>1</td>\n",
       "    </tr>\n",
       "    <tr>\n",
       "      <th>1</th>\n",
       "      <td>000010e1fda19a1d87e283791f0abfebef1911f771f0b1...</td>\n",
       "      <td>2</td>\n",
       "      <td>CONSUMABLES</td>\n",
       "      <td>5.5</td>\n",
       "      <td>1</td>\n",
       "    </tr>\n",
       "  </tbody>\n",
       "</table>\n",
       "</div>"
      ],
      "text/plain": [
       "                                  customer_id_hashed division_id  \\\n",
       "0  000010e1fda19a1d87e283791f0abfebef1911f771f0b1...           1   \n",
       "1  000010e1fda19a1d87e283791f0abfebef1911f771f0b1...           2   \n",
       "\n",
       "  division_desc  sales_in_1_year  trans_in_1_year  \n",
       "0          FOOD             15.9                1  \n",
       "1   CONSUMABLES              5.5                1  "
      ]
     },
     "execution_count": 11,
     "metadata": {},
     "output_type": "execute_result"
    }
   ],
   "source": [
    "gc.collect()\n",
    "# So far, by each week\n",
    "df_sales_in_1_year_by_division=df_sales_in_1_year_by_division.rename(columns={\"sales\":\"sales_in_1_year\"})\n",
    "df_sales_in_1_year_by_division=df_sales_in_1_year_by_division.rename(columns={\"trans\":\"trans_in_1_year\"})\n",
    "print(datetime.datetime.now(),df_sales_in_1_year_by_division.shape)\n",
    "df_sales_in_1_year_by_division.head(2)"
   ]
  },
  {
   "cell_type": "code",
   "execution_count": 20,
   "metadata": {},
   "outputs": [
    {
     "data": {
      "text/plain": [
       "(59008690, 2)"
      ]
     },
     "execution_count": 20,
     "metadata": {},
     "output_type": "execute_result"
    }
   ],
   "source": [
    "df_sales_in_1_year_by_division[['customer_id_hashed','division_id']].drop_duplicates().shape"
   ]
  },
  {
   "cell_type": "code",
   "execution_count": 23,
   "metadata": {},
   "outputs": [
    {
     "name": "stdout",
     "output_type": "stream",
     "text": [
      "(59008690, 5)\n"
     ]
    }
   ],
   "source": [
    "# Rolling up by year\n",
    "df_sales_in_1_year_by_division=df_sales_in_1_year_by_division.groupby(['customer_id_hashed','division_id','division_desc'])['sales_in_1_year','trans_in_1_year'].sum().reset_index()\n",
    "print(df_sales_in_1_year_by_division.shape)"
   ]
  },
  {
   "cell_type": "code",
   "execution_count": 44,
   "metadata": {},
   "outputs": [
    {
     "data": {
      "text/plain": [
       "(46155424, 8)"
      ]
     },
     "execution_count": 44,
     "metadata": {},
     "output_type": "execute_result"
    }
   ],
   "source": [
    "df_id_defination=pd.merge(df_id_defination,df_sales_in_1_year_by_division,on=\"customer_id_hashed\",how=\"left\")\n",
    "df_id_defination.shape"
   ]
  },
  {
   "cell_type": "code",
   "execution_count": 45,
   "metadata": {},
   "outputs": [],
   "source": [
    "df_id_defination['shoppers_in_1_year']=np.where(pd.isnull(df_id_defination['sales_in_1_year']),0,1)"
   ]
  },
  {
   "cell_type": "code",
   "execution_count": 46,
   "metadata": {},
   "outputs": [
    {
     "name": "stdout",
     "output_type": "stream",
     "text": [
      "(46155424, 9)\n"
     ]
    },
    {
     "data": {
      "text/html": [
       "<div>\n",
       "<style scoped>\n",
       "    .dataframe tbody tr th:only-of-type {\n",
       "        vertical-align: middle;\n",
       "    }\n",
       "\n",
       "    .dataframe tbody tr th {\n",
       "        vertical-align: top;\n",
       "    }\n",
       "\n",
       "    .dataframe thead th {\n",
       "        text-align: right;\n",
       "    }\n",
       "</style>\n",
       "<table border=\"1\" class=\"dataframe\">\n",
       "  <thead>\n",
       "    <tr style=\"text-align: right;\">\n",
       "      <th></th>\n",
       "      <th>Active_Status</th>\n",
       "      <th>HML_Group</th>\n",
       "      <th>customer_id_hashed</th>\n",
       "      <th>zip_type</th>\n",
       "      <th>division_id</th>\n",
       "      <th>division_desc</th>\n",
       "      <th>sales_in_1_year</th>\n",
       "      <th>trans_in_1_year</th>\n",
       "      <th>shoppers_in_1_year</th>\n",
       "    </tr>\n",
       "  </thead>\n",
       "  <tbody>\n",
       "    <tr>\n",
       "      <th>0</th>\n",
       "      <td>Active (0-12)</td>\n",
       "      <td>H</td>\n",
       "      <td>a559dc73bfa37290f41696627e867601815ee097a3fd7b...</td>\n",
       "      <td>S</td>\n",
       "      <td>1</td>\n",
       "      <td>FOOD</td>\n",
       "      <td>32.46</td>\n",
       "      <td>5.0</td>\n",
       "      <td>1</td>\n",
       "    </tr>\n",
       "    <tr>\n",
       "      <th>1</th>\n",
       "      <td>Active (0-12)</td>\n",
       "      <td>H</td>\n",
       "      <td>a559dc73bfa37290f41696627e867601815ee097a3fd7b...</td>\n",
       "      <td>S</td>\n",
       "      <td>2</td>\n",
       "      <td>CONSUMABLES</td>\n",
       "      <td>10.04</td>\n",
       "      <td>6.0</td>\n",
       "      <td>1</td>\n",
       "    </tr>\n",
       "  </tbody>\n",
       "</table>\n",
       "</div>"
      ],
      "text/plain": [
       "   Active_Status HML_Group                                 customer_id_hashed  \\\n",
       "0  Active (0-12)         H  a559dc73bfa37290f41696627e867601815ee097a3fd7b...   \n",
       "1  Active (0-12)         H  a559dc73bfa37290f41696627e867601815ee097a3fd7b...   \n",
       "\n",
       "  zip_type division_id division_desc  sales_in_1_year  trans_in_1_year  \\\n",
       "0        S           1          FOOD            32.46              5.0   \n",
       "1        S           2   CONSUMABLES            10.04              6.0   \n",
       "\n",
       "   shoppers_in_1_year  \n",
       "0                   1  \n",
       "1                   1  "
      ]
     },
     "execution_count": 46,
     "metadata": {},
     "output_type": "execute_result"
    }
   ],
   "source": [
    "print(df_id_defination.shape)\n",
    "df_id_defination.head(2)"
   ]
  },
  {
   "cell_type": "code",
   "execution_count": 47,
   "metadata": {
    "collapsed": true
   },
   "outputs": [],
   "source": [
    "# df_total_id_count # defined before merging with sales"
   ]
  },
  {
   "cell_type": "code",
   "execution_count": 49,
   "metadata": {},
   "outputs": [
    {
     "data": {
      "text/plain": [
       "(105, 8)"
      ]
     },
     "execution_count": 49,
     "metadata": {},
     "output_type": "execute_result"
    }
   ],
   "source": [
    "df_output=df_id_defination.groupby([\"Active_Status\",'HML_Group','zip_type','division_id','division_desc'])['shoppers_in_1_year','sales_in_1_year','trans_in_1_year'].sum().reset_index()\n",
    "df_output.shape"
   ]
  },
  {
   "cell_type": "code",
   "execution_count": 52,
   "metadata": {},
   "outputs": [],
   "source": [
    "df_output.to_csv(\"./BL_2017Audience_Performance_in_summary_18_by_division_JL_\"+str(datetime.datetime.now().date())+\".csv\",index=False)"
   ]
  },
  {
   "cell_type": "code",
   "execution_count": null,
   "metadata": {
    "collapsed": true
   },
   "outputs": [],
   "source": []
  }
 ],
 "metadata": {
  "kernelspec": {
   "display_name": "Python 3",
   "language": "python",
   "name": "python3"
  },
  "language_info": {
   "codemirror_mode": {
    "name": "ipython",
    "version": 3
   },
   "file_extension": ".py",
   "mimetype": "text/x-python",
   "name": "python",
   "nbconvert_exporter": "python",
   "pygments_lexer": "ipython3",
   "version": "3.6.1"
  }
 },
 "nbformat": 4,
 "nbformat_minor": 2
}
