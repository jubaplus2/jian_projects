{
 "cells": [
  {
   "cell_type": "code",
   "execution_count": 1,
   "metadata": {
    "collapsed": true
   },
   "outputs": [],
   "source": [
    "import pandas as pd\n",
    "import numpy as np\n",
    "import glob\n",
    "import sys\n",
    "from datetime import datetime,timedelta"
   ]
  },
  {
   "cell_type": "code",
   "execution_count": 2,
   "metadata": {
    "scrolled": true
   },
   "outputs": [
    {
     "name": "stderr",
     "output_type": "stream",
     "text": [
      "/usr/local/lib/python3.6/site-packages/ipykernel_launcher.py:14: SettingWithCopyWarning: \n",
      "A value is trying to be set on a copy of a slice from a DataFrame\n",
      "\n",
      "See the caveats in the documentation: http://pandas.pydata.org/pandas-docs/stable/indexing.html#indexing-view-versus-copy\n",
      "  \n",
      "/usr/local/lib/python3.6/site-packages/ipykernel_launcher.py:16: SettingWithCopyWarning: \n",
      "A value is trying to be set on a copy of a slice from a DataFrame\n",
      "\n",
      "See the caveats in the documentation: http://pandas.pydata.org/pandas-docs/stable/indexing.html#indexing-view-versus-copy\n",
      "  app.launch_new_instance()\n",
      "/usr/local/lib/python3.6/site-packages/ipykernel_launcher.py:17: SettingWithCopyWarning: \n",
      "A value is trying to be set on a copy of a slice from a DataFrame\n",
      "\n",
      "See the caveats in the documentation: http://pandas.pydata.org/pandas-docs/stable/indexing.html#indexing-view-versus-copy\n"
     ]
    },
    {
     "data": {
      "text/plain": [
       "(529583, 29)"
      ]
     },
     "execution_count": 2,
     "metadata": {},
     "output_type": "execute_result"
    }
   ],
   "source": [
    "folder=\"/home/jian/Projects/MOTV/DMP data/Oct/\"\n",
    "file_list=[]\n",
    "for file_name in glob.glob(folder+'*.csv'):\n",
    "    x = pd.read_csv(file_name,encoding=\"ISO-8859-1\")\n",
    "    x.reset_index(inplace=True)\n",
    "    x['real_time']=x['real_time'].astype(str)\n",
    "    file_list.append(x)\n",
    "\n",
    "data=pd.DataFrame()\n",
    "for df in file_list:\n",
    "    for i in df['index']:\n",
    "        if df['real_time'][i]=='nan':\n",
    "            if df['viewer_id'][i][(len(df['viewer_id'][i])-1):len(df['viewer_id'][i])]=='\"':\n",
    "                df['viewer_id'][i]=df['viewer_id'][i][0:(len(df['viewer_id'][i])-1)]\n",
    "            if df['custom_pub_id3'][i-1][(len(df['custom_pub_id3'][i-1])-1):len(df['custom_pub_id3'][i-1])]=='\\r':\n",
    "                df['custom_pub_id3'][i-1]=df['custom_pub_id3'][i-1][0:(len(df['custom_pub_id3'][i-1])-1)]\n",
    "            df['custom_pub_id3'][i-1]=df['custom_pub_id3'][i-1]+df['viewer_id'][i]\n",
    "    df=df[df['real_time']!=\"nan\"]    \n",
    "    data=data.append(df)\n",
    "data.reset_index(inplace=True)\n",
    "del data['index']\n",
    "data.to_csv(\"/home/jian/Projects/MOTV/Data in One/From_Oct5_to_Dec_2.csv\")\n",
    "\n",
    "del data['display_width']\n",
    "del data['display_height']\n",
    "\n",
    "\n",
    "data.shape"
   ]
  },
  {
   "cell_type": "code",
   "execution_count": 5,
   "metadata": {
    "collapsed": true
   },
   "outputs": [],
   "source": [
    "def adjust_timezone(x, y):\n",
    "     return x + timedelta(hours=y)"
   ]
  },
  {
   "cell_type": "code",
   "execution_count": 6,
   "metadata": {},
   "outputs": [],
   "source": [
    "data['time_zone'].fillna(value=0,inplace=True)\n",
    "data['time']= data['hour_time'].apply(lambda x: datetime.strptime(x, '%m/%d/%Y %H:%M'))\n",
    "data['time_adjusted']=data.apply(lambda x: adjust_timezone(x['time'],x['time_zone']),axis=1)\n",
    "data['day_of_week']= data['time_adjusted'].dt.dayofweek\n",
    "data['hour']= data['time_adjusted'].dt.hour\n",
    "\n",
    "data['weekday']=np.where(data['day_of_week']==0,'Monday',\n",
    "                         np.where(data['day_of_week']==1,'Tuesday',\n",
    "                                  np.where(data['day_of_week']==2,'Wednesday',\n",
    "                                           np.where(data['day_of_week']==3,'Thursday',\n",
    "                                                    np.where(data['day_of_week']==4,'Friday',\n",
    "                                                             np.where(data['day_of_week']==5,'Saturday',\n",
    "                                                                      np.where(data['day_of_week']==6,'Sunday','error'\n",
    "                                 )))))))"
   ]
  },
  {
   "cell_type": "code",
   "execution_count": 7,
   "metadata": {},
   "outputs": [
    {
     "data": {
      "text/plain": [
       "Index(['level_0', 'viewer_id', 'hour_time', 'real_time', 'domain', 'home_page',\n",
       "       'ip', 'time_zone', 'video_position', 'device_type', 'protocol',\n",
       "       'app_type', 'is_secured', 'isp', 'continent', 'Language', 'country',\n",
       "       'state', 'city', 'zipcode', 'latitude', 'longitude', 'OS', 'os_version',\n",
       "       'device_model_name', 'device_brand', 'custom_pub_id', 'custom_pub_id2',\n",
       "       'custom_pub_id3', 'time', 'time_adjusted', 'day_of_week', 'hour',\n",
       "       'weekday'],\n",
       "      dtype='object')"
      ]
     },
     "execution_count": 7,
     "metadata": {},
     "output_type": "execute_result"
    }
   ],
   "source": [
    "data.columns"
   ]
  },
  {
   "cell_type": "code",
   "execution_count": 68,
   "metadata": {
    "collapsed": true
   },
   "outputs": [],
   "source": []
  },
  {
   "cell_type": "code",
   "execution_count": null,
   "metadata": {
    "collapsed": true
   },
   "outputs": [],
   "source": []
  },
  {
   "cell_type": "code",
   "execution_count": null,
   "metadata": {
    "collapsed": true
   },
   "outputs": [],
   "source": []
  },
  {
   "cell_type": "code",
   "execution_count": null,
   "metadata": {
    "collapsed": true
   },
   "outputs": [],
   "source": []
  },
  {
   "cell_type": "code",
   "execution_count": null,
   "metadata": {
    "collapsed": true
   },
   "outputs": [],
   "source": []
  },
  {
   "cell_type": "code",
   "execution_count": null,
   "metadata": {
    "collapsed": true
   },
   "outputs": [],
   "source": []
  },
  {
   "cell_type": "code",
   "execution_count": 37,
   "metadata": {
    "collapsed": true
   },
   "outputs": [],
   "source": [
    "Data_Video=data[data['domain']==\"com.myoutdoortv\"]\n",
    "Data_Video.shape\n",
    "\n",
    "Data_Action=Data_Video.loc[:,['viewer_id','real_time','custom_pub_id','custom_pub_id2','custom_pub_id3']]\n",
    "Data_Action.reset_index(inplace=True)\n",
    "del Data_Action['index']\n",
    "\n",
    "Data_Action['actions']=Data_Action['custom_pub_id'].apply(lambda x: x.split(':')[0])\n",
    "Data_Action=Data_Action[Data_Action['actions'].isin(['start_video','leave_video'])]\n",
    "Data_Action.reset_index(inplace=True)\n",
    "del Data_Action['index']\n",
    "Data_Action['custom_pub_id2']=Data_Action['custom_pub_id2'].astype(str)\n",
    "Data_Action['custom_pub_id3']=Data_Action['custom_pub_id3'].astype(str)\n",
    "\n",
    "Data_Action['custom_pub_id2']=np.where(Data_Action['custom_pub_id2']=='nan','||',Data_Action['custom_pub_id2'])\n",
    "Data_Action['custom_pub_id3']=np.where(Data_Action['custom_pub_id3']=='nan','||',Data_Action['custom_pub_id3'])\n",
    "\n",
    "Data_Action['ShowID']=Data_Action['custom_pub_id2'].apply(lambda x: x.split('|')[0])\n",
    "Data_Action['ShowName']=Data_Action['custom_pub_id2'].apply(lambda x: x.split('|')[1])\n",
    "Data_Action['VideoID']=Data_Action['custom_pub_id2'].apply(lambda x: x.split('|')[2])\n",
    "\n",
    "Pub_ID3_Split=Data_Action['custom_pub_id3'].apply(lambda x: x.split('|'))\n",
    "\n",
    "Data_Action=Data_Action.loc[Pub_ID3_Split.apply(lambda x: len(x))==3,] # remove 5 records in Oct 5 about 162989 Evil Forces|Uncle Ted explains h\n",
    "\n",
    "Data_Action['VideoName']=Data_Action['custom_pub_id3'].apply(lambda x: x.split('|')[0])\n",
    "Data_Action['video_duration']=Data_Action['custom_pub_id3'].apply(lambda x: x.split('|')[1])\n",
    "Data_Action['position']=Data_Action['custom_pub_id3'].apply(lambda x: x.split('|')[2])\n",
    "Data_Action.drop_duplicates(inplace=True)\n"
   ]
  },
  {
   "cell_type": "code",
   "execution_count": 39,
   "metadata": {},
   "outputs": [
    {
     "name": "stderr",
     "output_type": "stream",
     "text": [
      "/Users/JayLiang/anaconda/lib/python3.6/site-packages/ipykernel_launcher.py:8: SettingWithCopyWarning: \n",
      "A value is trying to be set on a copy of a slice from a DataFrame\n",
      "\n",
      "See the caveats in the documentation: http://pandas.pydata.org/pandas-docs/stable/indexing.html#indexing-view-versus-copy\n",
      "  \n",
      "/Users/JayLiang/anaconda/lib/python3.6/site-packages/ipykernel_launcher.py:13: SettingWithCopyWarning: \n",
      "A value is trying to be set on a copy of a slice from a DataFrame\n",
      "\n",
      "See the caveats in the documentation: http://pandas.pydata.org/pandas-docs/stable/indexing.html#indexing-view-versus-copy\n",
      "  del sys.path[0]\n",
      "/Users/JayLiang/anaconda/lib/python3.6/site-packages/ipykernel_launcher.py:16: SettingWithCopyWarning: \n",
      "A value is trying to be set on a copy of a slice from a DataFrame.\n",
      "Try using .loc[row_indexer,col_indexer] = value instead\n",
      "\n",
      "See the caveats in the documentation: http://pandas.pydata.org/pandas-docs/stable/indexing.html#indexing-view-versus-copy\n",
      "  app.launch_new_instance()\n",
      "/Users/JayLiang/anaconda/lib/python3.6/site-packages/ipykernel_launcher.py:18: SettingWithCopyWarning: \n",
      "A value is trying to be set on a copy of a slice from a DataFrame.\n",
      "Try using .loc[row_indexer,col_indexer] = value instead\n",
      "\n",
      "See the caveats in the documentation: http://pandas.pydata.org/pandas-docs/stable/indexing.html#indexing-view-versus-copy\n"
     ]
    }
   ],
   "source": [
    "Video_Viewship=pd.merge(Data_Action_with_ID_Start,Data_Action_with_ID_Leave,on=[\"viewer_id\",\"VideoID\"],how=\"inner\")\n",
    "\n",
    "\n",
    "Video_Viewship['view_length']=Video_Viewship['leave_position']-Video_Viewship['start_position']\n",
    "Video_Viewship['mean_view_length']=Video_Viewship['view_length'].groupby(Video_Viewship['VideoID']).transform('mean')\n",
    "\n",
    "Video_Viewship_Test=Video_Viewship[['VideoID','mean_view_length']]\n",
    "Video_Viewship_Test.drop_duplicates(inplace=True)\n",
    "# Video_Viewship_Test.reset_index(inplace=True)\n",
    "# del Video_Viewship_Test['index']\n",
    "\n",
    "Video_duration=Data_Action[[\"VideoID\",\"video_duration\"]]\n",
    "Video_duration.drop_duplicates(inplace=True)\n",
    "# Video_duration.reset_index(inplace=True)\n",
    "# del Video_duration['index']\n",
    "Video_duration['video_duration']=Video_duration['video_duration'].astype(str)\n",
    "\n",
    "Video_duration['str_len_org']=Video_duration['video_duration'].apply(lambda x:len(x))\n",
    "Video_duration=Video_duration[Video_duration['video_duration']!='nan']\n",
    "Video_duration.reset_index(inplace=True)\n",
    "del Video_duration['index']\n",
    "Video_duration['video_duration']=Video_duration['video_duration'].str.strip()\n",
    "Video_duration['video_duration']=np.where(Video_duration['video_duration'].str.len()==5,str('00:')+Video_duration['video_duration'],Video_duration['video_duration'])\n",
    "Video_duration['video_duration']=np.where(Video_duration['video_duration'].str.len()==1,\n",
    "                                          str(Video_duration['video_duration'])[0:2]+str(\":\")+str(Video_duration['video_duration'])[3:5]+str(\":\")+str(Video_duration['video_duration'])[6:8],\n",
    "                                          Video_duration['video_duration'])\n",
    "\n",
    "    \n",
    "        \n",
    "Video_duration['video_duration']=Video_duration['video_duration'].str.replace('.', ':')\n",
    "Test=Video_duration['video_duration'].apply(lambda x: x.split(':'))\n",
    "Test=pd.DataFrame(Test)\n",
    "Video_duration['FirstSplit']=Test['video_duration'].apply(lambda x:int(x[0]))\n",
    "Video_duration['SecondSplit']=Test['video_duration'].apply(lambda x:int(x[1]))\n",
    "Video_duration['ThirdSplit']=Test['video_duration'].apply(lambda x:x[2])\n",
    "Video_duration['ThirdSplit']=Video_duration['ThirdSplit'].str.replace('@', '2') # Correct @ into 2 for 42064|Big Bass Battle|44354 Okeechobee Part|00:22:@2|\n",
    "Video_duration['ThirdSplit']=Video_duration['ThirdSplit'].astype(int)\n",
    "Video_duration['Video_Duration_In_Second']=Video_duration['FirstSplit']*3600+Video_duration['SecondSplit']*60+Video_duration['ThirdSplit']\n",
    "Video_duration=Video_duration[['VideoID','video_duration','Video_Duration_In_Second']]"
   ]
  },
  {
   "cell_type": "code",
   "execution_count": 31,
   "metadata": {},
   "outputs": [
    {
     "name": "stderr",
     "output_type": "stream",
     "text": [
      "/Users/JayLiang/anaconda/lib/python3.6/site-packages/ipykernel_launcher.py:4: SettingWithCopyWarning: \n",
      "A value is trying to be set on a copy of a slice from a DataFrame\n",
      "\n",
      "See the caveats in the documentation: http://pandas.pydata.org/pandas-docs/stable/indexing.html#indexing-view-versus-copy\n",
      "  after removing the cwd from sys.path.\n",
      "/Users/JayLiang/anaconda/lib/python3.6/site-packages/ipykernel_launcher.py:7: SettingWithCopyWarning: \n",
      "A value is trying to be set on a copy of a slice from a DataFrame.\n",
      "Try using .loc[row_indexer,col_indexer] = value instead\n",
      "\n",
      "See the caveats in the documentation: http://pandas.pydata.org/pandas-docs/stable/indexing.html#indexing-view-versus-copy\n",
      "  import sys\n",
      "/Users/JayLiang/anaconda/lib/python3.6/site-packages/ipykernel_launcher.py:20: SettingWithCopyWarning: \n",
      "A value is trying to be set on a copy of a slice from a DataFrame.\n",
      "Try using .loc[row_indexer,col_indexer] = value instead\n",
      "\n",
      "See the caveats in the documentation: http://pandas.pydata.org/pandas-docs/stable/indexing.html#indexing-view-versus-copy\n"
     ]
    }
   ],
   "source": [
    "Video_Viewship=pd.merge(Video_Viewship,Video_duration,on='VideoID',how='left')\n",
    "Video_Viewship=pd.merge(Video_Viewship,New_mapping,on=\"VideoID\",how='left')\n",
    "Video_Viewship_Roll_to_Video=Video_Viewship[['VideoID','mean_view_length','Video_Duration_In_Second']]\n",
    "Video_Viewship_Roll_to_Video.drop_duplicates(inplace=True)\n",
    "Video_Viewship_Roll_to_Video.reset_index(inplace=True)\n",
    "del Video_Viewship_Roll_to_Video['index']\n",
    "Video_Viewship_Roll_to_Video['Video_View_Pctg']=Video_Viewship_Roll_to_Video['mean_view_length']/Video_Viewship_Roll_to_Video['Video_Duration_In_Second']\n",
    "\n",
    "\n",
    "Video_Viewship_Roll_to_Show=Video_Viewship[[\"VideoID\",'ShowID','view_length','Video_Duration_In_Second']]\n",
    "Video_Viewship_Roll_to_Show=Video_Viewship_Roll_to_Show.drop_duplicates()\n",
    "Video_Viewship_Roll_to_Show.reset_index(inplace=True)\n",
    "del Video_Viewship_Roll_to_Show['index']\n",
    "Video_Viewship_Roll_to_Show_Viewed=Video_Viewship_Roll_to_Show.groupby(['ShowID'])[['view_length','Video_Duration_In_Second']].sum()\n",
    "Video_Viewship_Roll_to_Show_Viewed.reset_index(inplace=True)\n",
    "Video_Viewship_Roll_to_Show_Viewed['Show_View_Pctg']=Video_Viewship_Roll_to_Show_Viewed['view_length']/Video_Viewship_Roll_to_Show_Viewed['Video_Duration_In_Second']\n",
    "\n",
    "Match_Table_All_Show=New_mapping[['ShowID','ShowName']]\n",
    "Match_Table_All_View=New_mapping[['VideoID','VideoName']]\n",
    "Match_Table_All_View['VideoID']=Match_Table_All_View['VideoID'].astype(str)\n",
    "Match_Table_All_Show=Match_Table_All_Show[~pd.isnull(Match_Table_All_Show['ShowID'])]\n",
    "Match_Table_All_Show['ShowID']=Match_Table_All_Show['ShowID'].astype(int).astype(str)\n",
    "Start_Video_Table_Show.drop_duplicates(inplace=True)\n",
    "\n",
    "\n",
    "Start_Video_Table_Show=pd.merge(Start_Video_Table_Show,Match_Table_All_Show,on='ShowID',how='left')\n",
    "Start_Video_Table_Show.drop_duplicates(inplace=True)\n",
    "Start_Video_Table_Show.reset_index(inplace=True)\n",
    "del Start_Video_Table_Show['index']\n",
    "\n",
    "Start_Video_Table_Video=pd.merge(Start_Video_Table_Video,Match_Table_All_View,on='VideoID',how='left')\n"
   ]
  },
  {
   "cell_type": "code",
   "execution_count": 32,
   "metadata": {
    "collapsed": true
   },
   "outputs": [],
   "source": [
    "Video_Viewship_Roll_to_Show_Viewed['ShowID']=Video_Viewship_Roll_to_Show_Viewed['ShowID'].astype(int)\n",
    "Video_Viewship_Roll_to_Show_Viewed['ShowID']=Video_Viewship_Roll_to_Show_Viewed['ShowID'].astype(str)\n",
    "Show_Output=pd.merge(Start_Video_Table_Show,Video_Viewship_Roll_to_Show_Viewed,on=\"ShowID\",how=\"outer\")\n",
    "Video_Output=pd.merge(Start_Video_Table_Video,Video_Viewship_Roll_to_Video,on=\"VideoID\",how=\"outer\")\n",
    "\n",
    "writer = pd.ExcelWriter('/Users/JayLiang/Desktop/Media Storm/DMP/Output/Video/New_Mapping_Oct5_to_Oct23_Video_Viewership.xlsx')\n",
    "Show_Output.to_excel(writer,\"Show\")\n",
    "Video_Output.to_excel(writer,\"Video\")\n",
    "writer.save()"
   ]
  },
  {
   "cell_type": "code",
   "execution_count": 79,
   "metadata": {
    "collapsed": true
   },
   "outputs": [],
   "source": [
    "'''\n",
    "test_pub_id2=test['custom_pub_id2'][~pd.isnull(test['custom_pub_id2'])].apply(lambda x: str(x).split(\"|\"))\n",
    "VideoID_all=test_pub_id2.apply(lambda x:x[2]).drop_duplicates()\n",
    "All_IDs=VideoID_all.to_frame(name=\"VideoID_all\")\n",
    "All_IDs.reset_index(inplace=True)\n",
    "del All_IDs['index']\n",
    "ShowID_all=test_pub_id2.apply(lambda x:x[0]).drop_duplicates()\n",
    "temp=ShowID_all.to_frame(name=\"ShowID_all\")\n",
    "temp.reset_index(inplace=True)\n",
    "All_IDs['ShowID_all']=temp['ShowID_all']\n",
    "All_IDs.to_csv(\"/Users/JayLiang/Desktop/Media Storm/DMP/Output/All_IDs_Oct5_to_Oct23.csv\")\n",
    "# All_IDs=pd.DataFrame(ShowID_all,VideoID_all)\n",
    "'''"
   ]
  },
  {
   "cell_type": "code",
   "execution_count": null,
   "metadata": {
    "collapsed": true
   },
   "outputs": [],
   "source": []
  }
 ],
 "metadata": {
  "kernelspec": {
   "display_name": "Python 3",
   "language": "python",
   "name": "python3"
  },
  "language_info": {
   "codemirror_mode": {
    "name": "ipython",
    "version": 3
   },
   "file_extension": ".py",
   "mimetype": "text/x-python",
   "name": "python",
   "nbconvert_exporter": "python",
   "pygments_lexer": "ipython3",
   "version": "3.6.1"
  }
 },
 "nbformat": 4,
 "nbformat_minor": 2
}
