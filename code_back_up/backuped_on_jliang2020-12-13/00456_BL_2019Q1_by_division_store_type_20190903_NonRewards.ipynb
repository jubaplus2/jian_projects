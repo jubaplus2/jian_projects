{
 "cells": [
  {
   "cell_type": "code",
   "execution_count": 1,
   "metadata": {},
   "outputs": [
    {
     "data": {
      "text/plain": [
       "'/home/jian/Projects/Big_Lots/Analysis/2019_Q2/ID_Migration/By_Division'"
      ]
     },
     "execution_count": 1,
     "metadata": {},
     "output_type": "execute_result"
    }
   ],
   "source": [
    "import pandas as pd\n",
    "import numpy as np\n",
    "import datetime\n",
    "import os\n",
    "import gc\n",
    "\n",
    "os.getcwd()"
   ]
  },
  {
   "cell_type": "code",
   "execution_count": 2,
   "metadata": {
    "collapsed": true
   },
   "outputs": [],
   "source": [
    "product_taxonomy=pd.read_table(\"/home/jian/BigLots/static_files/ProductTaxonomy/MediaStormProductTaxonomy20190701-134908-900.txt\",dtype=str,sep=\"|\")\n",
    "product_taxonomy=product_taxonomy[['division_id','class_code_id','subclass_id']].drop_duplicates()\n",
    "division_table=product_taxonomy.copy()\n",
    "\n",
    "divison_name=pd.read_table(\"/home/jian/BigLots/static_files/MediaStorm Data Extract - Division Names.txt\",dtype=str,sep=\"|\")\n",
    "product_taxonomy=pd.merge(product_taxonomy,divison_name,on=\"division_id\",how=\"left\")"
   ]
  },
  {
   "cell_type": "code",
   "execution_count": 3,
   "metadata": {
    "collapsed": true
   },
   "outputs": [],
   "source": [
    "def recursive_file_gen(root_path):\n",
    "    for root, dirs, files in os.walk(root_path):\n",
    "        for file in files:\n",
    "            yield os.path.join(root, file)"
   ]
  },
  {
   "cell_type": "code",
   "execution_count": 4,
   "metadata": {},
   "outputs": [
    {
     "name": "stdout",
     "output_type": "stream",
     "text": [
      "['Store ID List', '7.27 48 Stores', '8.31 6 Stores', '9.14 3 Stores', '10.05 42 Stores', '10.26  29 Stores', '11.09 9 Stores', '11.30 9 Stores', '12.14 7 Stores', '2.8 2019 - 1 Store', '3.1 2019 - 2 Stores', '3.29 2019 - 3 Stores', '4.26 2019 - 5 Stores']\n"
     ]
    }
   ],
   "source": [
    "excel_sotf=pd.ExcelFile(\"/home/jian/Projects/Big_Lots/Analysis/2019_Q2/ID_Migration/By_Division/Master Zip Doc 2018 to Q1 - Updated 9.3 V2.xlsx\")\n",
    "print(excel_sotf.sheet_names)\n",
    "\n",
    "SOTF_df=excel_sotf.parse(\"Store ID List\",dtype=str,header=None,usecols=[0])\n",
    "\n",
    "SOTF_df.columns=['location_id']\n",
    "SOTF_df['store_type']=\"SOTF\"\n",
    "SOTF_df=SOTF_df.append(pd.DataFrame({\"location_id\":\"6990\",\"store_type\":\"Ecommerce\"},index=[0]))\n",
    "SOTF_df=SOTF_df.reset_index()\n",
    "del SOTF_df['index']"
   ]
  },
  {
   "cell_type": "code",
   "execution_count": 5,
   "metadata": {},
   "outputs": [
    {
     "name": "stdout",
     "output_type": "stream",
     "text": [
      "['2.8 2019 - 1 Store', '3.1 2019 - 2 Stores', '3.29 2019 - 3 Stores', '4.26 2019 - 5 Stores']\n",
      "(201, 2)\n",
      "(199, 2)\n",
      "(196, 2)\n",
      "(191, 2)\n"
     ]
    }
   ],
   "source": [
    "# remove the recent Q1 opened SOTF\n",
    "\n",
    "remove_tabs=excel_sotf.sheet_names[-4:]\n",
    "print(remove_tabs)\n",
    "\n",
    "for tab in remove_tabs:\n",
    "    try:\n",
    "        df=excel_sotf.parse(tab,usecols=[\"location_id\"],dtype=str)\n",
    "        SOTF_df=SOTF_df[~SOTF_df['location_id'].isin(df['location_id'].unique().tolist())]\n",
    "    except:\n",
    "        df=excel_sotf.parse(tab,usecols=[\"Store ID\"],dtype=str)\n",
    "        SOTF_df=SOTF_df[~SOTF_df['location_id'].isin(df['Store ID'].unique().tolist())]\n",
    "    print(SOTF_df.shape)\n",
    "\n"
   ]
  },
  {
   "cell_type": "code",
   "execution_count": 6,
   "metadata": {},
   "outputs": [
    {
     "data": {
      "text/html": [
       "<div>\n",
       "<style>\n",
       "    .dataframe thead tr:only-child th {\n",
       "        text-align: right;\n",
       "    }\n",
       "\n",
       "    .dataframe thead th {\n",
       "        text-align: left;\n",
       "    }\n",
       "\n",
       "    .dataframe tbody tr th {\n",
       "        vertical-align: top;\n",
       "    }\n",
       "</style>\n",
       "<table border=\"1\" class=\"dataframe\">\n",
       "  <thead>\n",
       "    <tr style=\"text-align: right;\">\n",
       "      <th></th>\n",
       "      <th>location_id</th>\n",
       "      <th>store_type</th>\n",
       "    </tr>\n",
       "  </thead>\n",
       "  <tbody>\n",
       "    <tr>\n",
       "      <th>189</th>\n",
       "      <td>4596</td>\n",
       "      <td>SOTF</td>\n",
       "    </tr>\n",
       "    <tr>\n",
       "      <th>201</th>\n",
       "      <td>6990</td>\n",
       "      <td>Ecommerce</td>\n",
       "    </tr>\n",
       "  </tbody>\n",
       "</table>\n",
       "</div>"
      ],
      "text/plain": [
       "    location_id store_type\n",
       "189        4596       SOTF\n",
       "201        6990  Ecommerce"
      ]
     },
     "execution_count": 6,
     "metadata": {},
     "output_type": "execute_result"
    }
   ],
   "source": [
    "SOTF_df.tail(2)"
   ]
  },
  {
   "cell_type": "code",
   "execution_count": 7,
   "metadata": {},
   "outputs": [
    {
     "data": {
      "text/plain": [
       "(12, 2)"
      ]
     },
     "execution_count": 7,
     "metadata": {},
     "output_type": "execute_result"
    }
   ],
   "source": [
    "file_list_daily_sales_2019Q1=list(recursive_file_gen(\"/home/jian/BigLots/2019_by_weeks/\"))\n",
    "file_list_daily_sales_2019Q1=[x for x in file_list_daily_sales_2019Q1 if \"2019-02-09\" not in x]\n",
    "file_list_daily_sales_2019Q1=sorted([x for x in file_list_daily_sales_2019Q1 if \"aily\" in x])\n",
    "\n",
    "\n",
    "df_files_2019Q1_daily=pd.DataFrame({\"file_path\":file_list_daily_sales_2019Q1})\n",
    "df_files_2019Q1_daily['week_end_dt']=df_files_2019Q1_daily['file_path'].apply(lambda x: x.split(\"ks/MediaStorm_\")[1][:10])\n",
    "\n",
    "df_files_2019Q1_daily=df_files_2019Q1_daily[((df_files_2019Q1_daily['week_end_dt']>=\"2019-02-03\") & (df_files_2019Q1_daily['week_end_dt']<=\"2019-05-04\"))]\n",
    "df_files_2019Q1_daily.shape\n"
   ]
  },
  {
   "cell_type": "code",
   "execution_count": 8,
   "metadata": {},
   "outputs": [
    {
     "data": {
      "text/plain": [
       "(13, 2)"
      ]
     },
     "execution_count": 8,
     "metadata": {},
     "output_type": "execute_result"
    }
   ],
   "source": [
    "df=pd.DataFrame({\"file_path\":\"/home/jian/BigLots/hist_daily_data_itemlevel_decompressed/MediaStormDailySalesHistory20190209.txt\",\"week_end_dt\":\"2019-02-09\"},index=[0])\n",
    "\n",
    "df_files_2019Q1_daily=df_files_2019Q1_daily.append(df)\n",
    "df_files_2019Q1_daily=df_files_2019Q1_daily.sort_values(\"week_end_dt\")\n",
    "df_files_2019Q1_daily=df_files_2019Q1_daily.reset_index()\n",
    "del df_files_2019Q1_daily['index']\n",
    "df_files_2019Q1_daily.shape"
   ]
  },
  {
   "cell_type": "code",
   "execution_count": 9,
   "metadata": {},
   "outputs": [
    {
     "name": "stdout",
     "output_type": "stream",
     "text": [
      "2019-09-04 11:48:19.539151 1 /home/jian/BigLots/hist_daily_data_itemlevel_decompressed/MediaStormDailySalesHistory20190209.txt\n",
      "2019-09-04 11:53:35.879752 2 /home/jian/BigLots/2019_by_weeks/MediaStorm_2019-02-16/MediaStormDailySales20190219-113605-481.txt\n",
      "2019-09-04 11:57:23.232652 3 /home/jian/BigLots/2019_by_weeks/MediaStorm_2019-02-23/MediaStormDailySales20190226-112611-940.txt\n",
      "2019-09-04 12:07:42.250953 4 /home/jian/BigLots/2019_by_weeks/MediaStorm_2019-03-02/MediaStormDailySales20190305-112738-899.txt\n",
      "2019-09-04 12:12:00.478888 5 /home/jian/BigLots/2019_by_weeks/MediaStorm_2019-03-09/MediaStormDailySales20190312-121205-996.txt\n",
      "2019-09-04 12:15:04.585239 6 /home/jian/BigLots/2019_by_weeks/MediaStorm_2019-03-16/MediaStormDailySales20190319-112334-057.txt\n",
      "2019-09-04 12:25:27.511936 7 /home/jian/BigLots/2019_by_weeks/MediaStorm_2019-03-23/MediaStormDailySales20190326-112740-903.txt\n",
      "2019-09-04 12:27:11.545589 8 /home/jian/BigLots/2019_by_weeks/MediaStorm_2019-03-30/MediaStormDailySales20190402-112556-551.txt\n",
      "2019-09-04 12:29:22.095184 9 /home/jian/BigLots/2019_by_weeks/MediaStorm_2019-04-06/MediaStormDailySales20190409-122759-093.txt\n",
      "2019-09-04 12:31:29.513628 10 /home/jian/BigLots/2019_by_weeks/MediaStorm_2019-04-13/MediaStormDailySales20190416-112824-908.txt\n",
      "2019-09-04 12:33:35.069625 11 /home/jian/BigLots/2019_by_weeks/MediaStorm_2019-04-20/MediaStormDailySales20190423-112124-771.txt\n",
      "2019-09-04 12:35:27.133984 12 /home/jian/BigLots/2019_by_weeks/MediaStorm_2019-04-27/MediaStormDailySales20190430-112453-448.txt\n",
      "2019-09-04 12:37:35.878864 13 /home/jian/BigLots/2019_by_weeks/MediaStorm_2019-05-04/MediaStormDailySales20190507-113110-141.txt\n"
     ]
    },
    {
     "data": {
      "text/plain": [
       "625"
      ]
     },
     "execution_count": 9,
     "metadata": {},
     "output_type": "execute_result"
    }
   ],
   "source": [
    "samplerows=None\n",
    "df_2019Q1_sales_all=pd.DataFrame()\n",
    "df_2019Q1_sales_div=pd.DataFrame()\n",
    "i_counter=0\n",
    "for file in df_files_2019Q1_daily['file_path'].tolist():\n",
    "    df=pd.read_table(file,sep=\"|\",dtype=str,nrows=samplerows,usecols=['location_id','transaction_dt','transaction_id','customer_id_hashed','class_code_id','subclass_id','item_transaction_units','item_transaction_amt'])\n",
    "    df['rewards_label']=np.where(pd.isnull(df['customer_id_hashed']),\"Non_Rewards\",\"Rewards\")\n",
    "    df=pd.merge(df,SOTF_df,on=\"location_id\",how=\"left\")\n",
    "    df['store_type']=df['store_type'].fillna(\"Legacy\")\n",
    "    \n",
    "    df['item_transaction_amt']=df['item_transaction_amt'].astype(float)\n",
    "    df['item_transaction_units']=df['item_transaction_units'].astype(int)\n",
    "    # Negative sales included in the transction count\n",
    "    \n",
    "    df_trans_all=df[['location_id','store_type','transaction_dt','transaction_id','customer_id_hashed','rewards_label']].drop_duplicates()\n",
    "    df_trans_all=df_trans_all.groupby(['location_id','store_type','transaction_dt','rewards_label'])['transaction_id'].count().to_frame().reset_index().rename(columns={\"transaction_id\":\"trans\"})\n",
    "    \n",
    "    df_sales_all=df.groupby(['location_id','store_type','transaction_dt','rewards_label'])['item_transaction_amt','item_transaction_units'].sum().reset_index().rename(columns={\"item_transaction_amt\":\"sales\",\"item_transaction_units\":\"units\"})\n",
    "    df_all=pd.merge(df_sales_all,df_trans_all,on=['location_id','store_type','transaction_dt','rewards_label'])\n",
    "    \n",
    "    \n",
    "    # division level\n",
    "    df=pd.merge(df,division_table,on=['class_code_id','subclass_id'],how=\"left\")\n",
    "    df_trans_div=df[['location_id','store_type','transaction_dt','transaction_id','customer_id_hashed','division_id','rewards_label']].drop_duplicates()\n",
    "    df_trans_div=df_trans_div.groupby(['location_id','store_type','transaction_dt','rewards_label','division_id'])['transaction_id'].count().to_frame().reset_index().rename(columns={\"transaction_id\":\"trans\"})\n",
    "    \n",
    "    df_sales_div=df.groupby(['location_id','store_type','transaction_dt','rewards_label','division_id'])['item_transaction_amt','item_transaction_units'].sum().reset_index().rename(columns={\"item_transaction_amt\":\"sales\",'item_transaction_units':'units'})\n",
    "    df_div=pd.merge(df_sales_div,df_trans_div,on=['location_id','store_type','transaction_dt','rewards_label','division_id'])\n",
    "    \n",
    "    df_2019Q1_sales_div=df_2019Q1_sales_div.append(df_div)\n",
    "    i_counter+=1\n",
    "    print(datetime.datetime.now(),i_counter,file)\n",
    "    \n",
    "del df\n",
    "del df_all\n",
    "del df_div\n",
    "gc.collect()"
   ]
  },
  {
   "cell_type": "code",
   "execution_count": 10,
   "metadata": {},
   "outputs": [
    {
     "data": {
      "text/html": [
       "<div>\n",
       "<style>\n",
       "    .dataframe thead tr:only-child th {\n",
       "        text-align: right;\n",
       "    }\n",
       "\n",
       "    .dataframe thead th {\n",
       "        text-align: left;\n",
       "    }\n",
       "\n",
       "    .dataframe tbody tr th {\n",
       "        vertical-align: top;\n",
       "    }\n",
       "</style>\n",
       "<table border=\"1\" class=\"dataframe\">\n",
       "  <thead>\n",
       "    <tr style=\"text-align: right;\">\n",
       "      <th></th>\n",
       "      <th>location_id</th>\n",
       "      <th>store_type</th>\n",
       "      <th>transaction_dt</th>\n",
       "      <th>rewards_label</th>\n",
       "      <th>division_id</th>\n",
       "      <th>sales</th>\n",
       "      <th>units</th>\n",
       "      <th>trans</th>\n",
       "    </tr>\n",
       "  </thead>\n",
       "  <tbody>\n",
       "    <tr>\n",
       "      <th>0</th>\n",
       "      <td>1</td>\n",
       "      <td>SOTF</td>\n",
       "      <td>2019-02-03</td>\n",
       "      <td>Non_Rewards</td>\n",
       "      <td>1</td>\n",
       "      <td>966.09</td>\n",
       "      <td>605</td>\n",
       "      <td>105</td>\n",
       "    </tr>\n",
       "    <tr>\n",
       "      <th>1</th>\n",
       "      <td>1</td>\n",
       "      <td>SOTF</td>\n",
       "      <td>2019-02-03</td>\n",
       "      <td>Non_Rewards</td>\n",
       "      <td>10</td>\n",
       "      <td>3.00</td>\n",
       "      <td>2</td>\n",
       "      <td>1</td>\n",
       "    </tr>\n",
       "  </tbody>\n",
       "</table>\n",
       "</div>"
      ],
      "text/plain": [
       "  location_id store_type transaction_dt rewards_label division_id   sales  \\\n",
       "0           1       SOTF     2019-02-03   Non_Rewards           1  966.09   \n",
       "1           1       SOTF     2019-02-03   Non_Rewards          10    3.00   \n",
       "\n",
       "   units  trans  \n",
       "0    605    105  \n",
       "1      2      1  "
      ]
     },
     "execution_count": 10,
     "metadata": {},
     "output_type": "execute_result"
    }
   ],
   "source": [
    "df_2019Q1_sales_div.head(2)"
   ]
  },
  {
   "cell_type": "code",
   "execution_count": 11,
   "metadata": {},
   "outputs": [
    {
     "data": {
      "text/html": [
       "<div>\n",
       "<style>\n",
       "    .dataframe thead tr:only-child th {\n",
       "        text-align: right;\n",
       "    }\n",
       "\n",
       "    .dataframe thead th {\n",
       "        text-align: left;\n",
       "    }\n",
       "\n",
       "    .dataframe tbody tr th {\n",
       "        vertical-align: top;\n",
       "    }\n",
       "</style>\n",
       "<table border=\"1\" class=\"dataframe\">\n",
       "  <thead>\n",
       "    <tr style=\"text-align: right;\">\n",
       "      <th></th>\n",
       "      <th>location_id</th>\n",
       "      <th>store_type</th>\n",
       "      <th>transaction_dt</th>\n",
       "      <th>rewards_label</th>\n",
       "      <th>sales</th>\n",
       "      <th>units</th>\n",
       "    </tr>\n",
       "  </thead>\n",
       "  <tbody>\n",
       "    <tr>\n",
       "      <th>0</th>\n",
       "      <td>1</td>\n",
       "      <td>SOTF</td>\n",
       "      <td>2019-04-28</td>\n",
       "      <td>Non_Rewards</td>\n",
       "      <td>5485.17</td>\n",
       "      <td>1179</td>\n",
       "    </tr>\n",
       "    <tr>\n",
       "      <th>1</th>\n",
       "      <td>1</td>\n",
       "      <td>SOTF</td>\n",
       "      <td>2019-04-28</td>\n",
       "      <td>Rewards</td>\n",
       "      <td>9644.96</td>\n",
       "      <td>1559</td>\n",
       "    </tr>\n",
       "  </tbody>\n",
       "</table>\n",
       "</div>"
      ],
      "text/plain": [
       "  location_id store_type transaction_dt rewards_label    sales  units\n",
       "0           1       SOTF     2019-04-28   Non_Rewards  5485.17   1179\n",
       "1           1       SOTF     2019-04-28       Rewards  9644.96   1559"
      ]
     },
     "execution_count": 11,
     "metadata": {},
     "output_type": "execute_result"
    }
   ],
   "source": [
    "df_sales_all.head(2)"
   ]
  },
  {
   "cell_type": "code",
   "execution_count": 12,
   "metadata": {},
   "outputs": [
    {
     "data": {
      "text/plain": [
       "'/home/jian/Projects/Big_Lots/Analysis/2019_Q2/ID_Migration/By_Division'"
      ]
     },
     "execution_count": 12,
     "metadata": {},
     "output_type": "execute_result"
    }
   ],
   "source": [
    "os.getcwd()"
   ]
  },
  {
   "cell_type": "code",
   "execution_count": 13,
   "metadata": {},
   "outputs": [
    {
     "name": "stdout",
     "output_type": "stream",
     "text": [
      "2019-09-04 12:37:41.097261\n"
     ]
    },
    {
     "data": {
      "text/plain": [
       "310"
      ]
     },
     "execution_count": 13,
     "metadata": {},
     "output_type": "execute_result"
    }
   ],
   "source": [
    "print(datetime.datetime.now())\n",
    "df_2019Q1_sales_all.to_csv(\"./BL_2019Q1_rewards_and_non_rewards_sales_trans_store_type_\"+str(datetime.datetime.now().date())+\".csv\",index=False)\n",
    "del df_2019Q1_sales_all\n",
    "gc.collect()"
   ]
  },
  {
   "cell_type": "code",
   "execution_count": 14,
   "metadata": {},
   "outputs": [
    {
     "data": {
      "text/plain": [
       "array(['SOTF', 'Legacy', 'Ecommerce'], dtype=object)"
      ]
     },
     "execution_count": 14,
     "metadata": {},
     "output_type": "execute_result"
    }
   ],
   "source": [
    "df_2019Q1_sales_div['store_type'].unique()"
   ]
  },
  {
   "cell_type": "code",
   "execution_count": 17,
   "metadata": {},
   "outputs": [
    {
     "data": {
      "text/html": [
       "<div>\n",
       "<style>\n",
       "    .dataframe thead tr:only-child th {\n",
       "        text-align: right;\n",
       "    }\n",
       "\n",
       "    .dataframe thead th {\n",
       "        text-align: left;\n",
       "    }\n",
       "\n",
       "    .dataframe tbody tr th {\n",
       "        vertical-align: top;\n",
       "    }\n",
       "</style>\n",
       "<table border=\"1\" class=\"dataframe\">\n",
       "  <thead>\n",
       "    <tr style=\"text-align: right;\">\n",
       "      <th></th>\n",
       "      <th>location_id</th>\n",
       "      <th>store_type</th>\n",
       "      <th>transaction_dt</th>\n",
       "      <th>rewards_label</th>\n",
       "      <th>division_id</th>\n",
       "      <th>sales</th>\n",
       "      <th>units</th>\n",
       "      <th>trans</th>\n",
       "    </tr>\n",
       "  </thead>\n",
       "  <tbody>\n",
       "    <tr>\n",
       "      <th>0</th>\n",
       "      <td>1</td>\n",
       "      <td>SOTF</td>\n",
       "      <td>2019-02-03</td>\n",
       "      <td>Non_Rewards</td>\n",
       "      <td>1</td>\n",
       "      <td>966.09</td>\n",
       "      <td>605</td>\n",
       "      <td>105</td>\n",
       "    </tr>\n",
       "    <tr>\n",
       "      <th>1</th>\n",
       "      <td>1</td>\n",
       "      <td>SOTF</td>\n",
       "      <td>2019-02-03</td>\n",
       "      <td>Non_Rewards</td>\n",
       "      <td>10</td>\n",
       "      <td>3.00</td>\n",
       "      <td>2</td>\n",
       "      <td>1</td>\n",
       "    </tr>\n",
       "  </tbody>\n",
       "</table>\n",
       "</div>"
      ],
      "text/plain": [
       "  location_id store_type transaction_dt rewards_label division_id   sales  \\\n",
       "0           1       SOTF     2019-02-03   Non_Rewards           1  966.09   \n",
       "1           1       SOTF     2019-02-03   Non_Rewards          10    3.00   \n",
       "\n",
       "   units  trans  \n",
       "0    605    105  \n",
       "1      2      1  "
      ]
     },
     "execution_count": 17,
     "metadata": {},
     "output_type": "execute_result"
    }
   ],
   "source": [
    "df_2019Q1_sales_div.head(2)"
   ]
  },
  {
   "cell_type": "code",
   "execution_count": 18,
   "metadata": {},
   "outputs": [
    {
     "data": {
      "text/plain": [
       "(50, 7)"
      ]
     },
     "execution_count": 18,
     "metadata": {},
     "output_type": "execute_result"
    }
   ],
   "source": [
    "df_2019Q1_sales_div_agg=df_2019Q1_sales_div.groupby(['rewards_label','store_type','division_id'])['sales','units','trans'].sum().reset_index()\n",
    "df_2019Q1_sales_div_agg=pd.merge(df_2019Q1_sales_div_agg,divison_name,on=\"division_id\",how=\"left\")\n",
    "df_2019Q1_sales_div_agg.shape"
   ]
  },
  {
   "cell_type": "code",
   "execution_count": 22,
   "metadata": {},
   "outputs": [],
   "source": [
    "df_2019Q1_sales_div_agg.to_csv(\"./BL_2019Q1_Division_NonRewards_and_Rewards_JL_\"+str(datetime.datetime.now().date())+\".csv\",index=False)"
   ]
  },
  {
   "cell_type": "code",
   "execution_count": null,
   "metadata": {
    "collapsed": true
   },
   "outputs": [],
   "source": [
    "Stopped and finished here"
   ]
  },
  {
   "cell_type": "code",
   "execution_count": null,
   "metadata": {
    "collapsed": true
   },
   "outputs": [],
   "source": []
  },
  {
   "cell_type": "code",
   "execution_count": 36,
   "metadata": {},
   "outputs": [
    {
     "name": "stdout",
     "output_type": "stream",
     "text": [
      "(23846961, 10)\n"
     ]
    },
    {
     "data": {
      "text/html": [
       "<div>\n",
       "<style>\n",
       "    .dataframe thead tr:only-child th {\n",
       "        text-align: right;\n",
       "    }\n",
       "\n",
       "    .dataframe thead th {\n",
       "        text-align: left;\n",
       "    }\n",
       "\n",
       "    .dataframe tbody tr th {\n",
       "        vertical-align: top;\n",
       "    }\n",
       "</style>\n",
       "<table border=\"1\" class=\"dataframe\">\n",
       "  <thead>\n",
       "    <tr style=\"text-align: right;\">\n",
       "      <th></th>\n",
       "      <th>customer_id_hashed</th>\n",
       "      <th>division_id</th>\n",
       "      <th>sales</th>\n",
       "      <th>units</th>\n",
       "      <th>trans</th>\n",
       "      <th>Group_before_the_Quarter</th>\n",
       "      <th>Group_after_the_Quarter</th>\n",
       "      <th>sales_recent_Quarter</th>\n",
       "      <th>Recent_Quarter_Shopping_Group</th>\n",
       "      <th>NewRewards</th>\n",
       "    </tr>\n",
       "  </thead>\n",
       "  <tbody>\n",
       "    <tr>\n",
       "      <th>0</th>\n",
       "      <td>00000435bfb3bf42e3beb4c9b3942c552d09f0e49e5a75...</td>\n",
       "      <td>1</td>\n",
       "      <td>8.81</td>\n",
       "      <td>11</td>\n",
       "      <td>3</td>\n",
       "      <td>Active</td>\n",
       "      <td>Active</td>\n",
       "      <td>31.59</td>\n",
       "      <td>Recent_Quarter_Shopped</td>\n",
       "      <td>Old_Rewards_Members</td>\n",
       "    </tr>\n",
       "    <tr>\n",
       "      <th>1</th>\n",
       "      <td>00000435bfb3bf42e3beb4c9b3942c552d09f0e49e5a75...</td>\n",
       "      <td>2</td>\n",
       "      <td>14.38</td>\n",
       "      <td>10</td>\n",
       "      <td>3</td>\n",
       "      <td>Active</td>\n",
       "      <td>Active</td>\n",
       "      <td>31.59</td>\n",
       "      <td>Recent_Quarter_Shopped</td>\n",
       "      <td>Old_Rewards_Members</td>\n",
       "    </tr>\n",
       "    <tr>\n",
       "      <th>2</th>\n",
       "      <td>00000435bfb3bf42e3beb4c9b3942c552d09f0e49e5a75...</td>\n",
       "      <td>6</td>\n",
       "      <td>8.40</td>\n",
       "      <td>3</td>\n",
       "      <td>1</td>\n",
       "      <td>Active</td>\n",
       "      <td>Active</td>\n",
       "      <td>31.59</td>\n",
       "      <td>Recent_Quarter_Shopped</td>\n",
       "      <td>Old_Rewards_Members</td>\n",
       "    </tr>\n",
       "    <tr>\n",
       "      <th>3</th>\n",
       "      <td>000007eccbfdc528a745aea90d34404b4fae9fbad2525f...</td>\n",
       "      <td>1</td>\n",
       "      <td>2.79</td>\n",
       "      <td>2</td>\n",
       "      <td>1</td>\n",
       "      <td>NotAvailable_Before_Quarter</td>\n",
       "      <td>Active</td>\n",
       "      <td>15.44</td>\n",
       "      <td>Recent_Quarter_Shopped</td>\n",
       "      <td>Recent_Quarter_New_Sign_Ups</td>\n",
       "    </tr>\n",
       "  </tbody>\n",
       "</table>\n",
       "</div>"
      ],
      "text/plain": [
       "                                  customer_id_hashed division_id  sales  \\\n",
       "0  00000435bfb3bf42e3beb4c9b3942c552d09f0e49e5a75...           1   8.81   \n",
       "1  00000435bfb3bf42e3beb4c9b3942c552d09f0e49e5a75...           2  14.38   \n",
       "2  00000435bfb3bf42e3beb4c9b3942c552d09f0e49e5a75...           6   8.40   \n",
       "3  000007eccbfdc528a745aea90d34404b4fae9fbad2525f...           1   2.79   \n",
       "\n",
       "   units  trans     Group_before_the_Quarter Group_after_the_Quarter  \\\n",
       "0     11      3                       Active                  Active   \n",
       "1     10      3                       Active                  Active   \n",
       "2      3      1                       Active                  Active   \n",
       "3      2      1  NotAvailable_Before_Quarter                  Active   \n",
       "\n",
       "   sales_recent_Quarter Recent_Quarter_Shopping_Group  \\\n",
       "0                 31.59        Recent_Quarter_Shopped   \n",
       "1                 31.59        Recent_Quarter_Shopped   \n",
       "2                 31.59        Recent_Quarter_Shopped   \n",
       "3                 15.44        Recent_Quarter_Shopped   \n",
       "\n",
       "                    NewRewards  \n",
       "0          Old_Rewards_Members  \n",
       "1          Old_Rewards_Members  \n",
       "2          Old_Rewards_Members  \n",
       "3  Recent_Quarter_New_Sign_Ups  "
      ]
     },
     "execution_count": 36,
     "metadata": {},
     "output_type": "execute_result"
    }
   ],
   "source": [
    "# 1. by by division, by id group\n",
    "\n",
    "output_division_with_id=df_2019Q1_sales_div_agg.groupby(['customer_id_hashed','division_id'])['sales','units','trans'].sum().reset_index()\n",
    "\n",
    "output_division_with_id=pd.merge(output_division_with_id,ID_group_2019Q1_shopped,on=\"customer_id_hashed\",how=\"outer\")\n",
    "\n",
    "print(output_division_with_id.shape)\n",
    "output_division_with_id.head(4)\n"
   ]
  },
  {
   "cell_type": "code",
   "execution_count": 37,
   "metadata": {},
   "outputs": [
    {
     "data": {
      "text/plain": [
       "8392050"
      ]
     },
     "execution_count": 37,
     "metadata": {},
     "output_type": "execute_result"
    }
   ],
   "source": [
    "output_division_with_id['customer_id_hashed'].nunique()"
   ]
  },
  {
   "cell_type": "code",
   "execution_count": 38,
   "metadata": {},
   "outputs": [
    {
     "name": "stdout",
     "output_type": "stream",
     "text": [
      "(52, 9)\n"
     ]
    },
    {
     "data": {
      "text/html": [
       "<div>\n",
       "<style>\n",
       "    .dataframe thead tr:only-child th {\n",
       "        text-align: right;\n",
       "    }\n",
       "\n",
       "    .dataframe thead th {\n",
       "        text-align: left;\n",
       "    }\n",
       "\n",
       "    .dataframe tbody tr th {\n",
       "        vertical-align: top;\n",
       "    }\n",
       "</style>\n",
       "<table border=\"1\" class=\"dataframe\">\n",
       "  <thead>\n",
       "    <tr style=\"text-align: right;\">\n",
       "      <th></th>\n",
       "      <th>Group_before_the_Quarter</th>\n",
       "      <th>Group_after_the_Quarter</th>\n",
       "      <th>Recent_Quarter_Shopping_Group</th>\n",
       "      <th>NewRewards</th>\n",
       "      <th>division_id</th>\n",
       "      <th>sales</th>\n",
       "      <th>units</th>\n",
       "      <th>trans</th>\n",
       "      <th>customer_id_hashed</th>\n",
       "    </tr>\n",
       "  </thead>\n",
       "  <tbody>\n",
       "    <tr>\n",
       "      <th>0</th>\n",
       "      <td>Active</td>\n",
       "      <td>Active</td>\n",
       "      <td>Recent_Quarter_Shopped</td>\n",
       "      <td>Old_Rewards_Members</td>\n",
       "      <td>1</td>\n",
       "      <td>9.873832e+07</td>\n",
       "      <td>50234361</td>\n",
       "      <td>9821063</td>\n",
       "      <td>4677595</td>\n",
       "    </tr>\n",
       "    <tr>\n",
       "      <th>1</th>\n",
       "      <td>Active</td>\n",
       "      <td>Active</td>\n",
       "      <td>Recent_Quarter_Shopped</td>\n",
       "      <td>Old_Rewards_Members</td>\n",
       "      <td>10</td>\n",
       "      <td>1.714465e+05</td>\n",
       "      <td>587518</td>\n",
       "      <td>452241</td>\n",
       "      <td>284875</td>\n",
       "    </tr>\n",
       "    <tr>\n",
       "      <th>2</th>\n",
       "      <td>Active</td>\n",
       "      <td>Active</td>\n",
       "      <td>Recent_Quarter_Shopped</td>\n",
       "      <td>Old_Rewards_Members</td>\n",
       "      <td>2</td>\n",
       "      <td>1.024063e+08</td>\n",
       "      <td>30493135</td>\n",
       "      <td>8192600</td>\n",
       "      <td>4270441</td>\n",
       "    </tr>\n",
       "    <tr>\n",
       "      <th>3</th>\n",
       "      <td>Active</td>\n",
       "      <td>Active</td>\n",
       "      <td>Recent_Quarter_Shopped</td>\n",
       "      <td>Old_Rewards_Members</td>\n",
       "      <td>3</td>\n",
       "      <td>8.560242e+07</td>\n",
       "      <td>6128308</td>\n",
       "      <td>2578312</td>\n",
       "      <td>1833239</td>\n",
       "    </tr>\n",
       "    <tr>\n",
       "      <th>4</th>\n",
       "      <td>Active</td>\n",
       "      <td>Active</td>\n",
       "      <td>Recent_Quarter_Shopped</td>\n",
       "      <td>Old_Rewards_Members</td>\n",
       "      <td>4</td>\n",
       "      <td>9.858662e+07</td>\n",
       "      <td>10937798</td>\n",
       "      <td>4348621</td>\n",
       "      <td>2829381</td>\n",
       "    </tr>\n",
       "  </tbody>\n",
       "</table>\n",
       "</div>"
      ],
      "text/plain": [
       "  Group_before_the_Quarter Group_after_the_Quarter  \\\n",
       "0                   Active                  Active   \n",
       "1                   Active                  Active   \n",
       "2                   Active                  Active   \n",
       "3                   Active                  Active   \n",
       "4                   Active                  Active   \n",
       "\n",
       "  Recent_Quarter_Shopping_Group           NewRewards division_id  \\\n",
       "0        Recent_Quarter_Shopped  Old_Rewards_Members           1   \n",
       "1        Recent_Quarter_Shopped  Old_Rewards_Members          10   \n",
       "2        Recent_Quarter_Shopped  Old_Rewards_Members           2   \n",
       "3        Recent_Quarter_Shopped  Old_Rewards_Members           3   \n",
       "4        Recent_Quarter_Shopped  Old_Rewards_Members           4   \n",
       "\n",
       "          sales     units    trans  customer_id_hashed  \n",
       "0  9.873832e+07  50234361  9821063             4677595  \n",
       "1  1.714465e+05    587518   452241              284875  \n",
       "2  1.024063e+08  30493135  8192600             4270441  \n",
       "3  8.560242e+07   6128308  2578312             1833239  \n",
       "4  9.858662e+07  10937798  4348621             2829381  "
      ]
     },
     "execution_count": 38,
     "metadata": {},
     "output_type": "execute_result"
    }
   ],
   "source": [
    "output_division_with_id_nunique=output_division_with_id.groupby(['Group_before_the_Quarter','Group_after_the_Quarter','Recent_Quarter_Shopping_Group','NewRewards','division_id'])['customer_id_hashed'].count().reset_index()\n",
    "\n",
    "output_division_with_id_sum=output_division_with_id.groupby(['Group_before_the_Quarter','Group_after_the_Quarter','Recent_Quarter_Shopping_Group','NewRewards','division_id'])['sales','units','trans'].sum().reset_index()\n",
    "\n",
    "output_division_with_id=pd.merge(output_division_with_id_sum,output_division_with_id_nunique,on=['Group_before_the_Quarter','Group_after_the_Quarter','Recent_Quarter_Shopping_Group','NewRewards','division_id'],how=\"outer\")\n",
    "print(output_division_with_id.shape)\n",
    "output_division_with_id.head(5)"
   ]
  },
  {
   "cell_type": "code",
   "execution_count": 39,
   "metadata": {},
   "outputs": [
    {
     "name": "stdout",
     "output_type": "stream",
     "text": [
      "(8544804, 10)\n"
     ]
    },
    {
     "data": {
      "text/html": [
       "<div>\n",
       "<style>\n",
       "    .dataframe thead tr:only-child th {\n",
       "        text-align: right;\n",
       "    }\n",
       "\n",
       "    .dataframe thead th {\n",
       "        text-align: left;\n",
       "    }\n",
       "\n",
       "    .dataframe tbody tr th {\n",
       "        vertical-align: top;\n",
       "    }\n",
       "</style>\n",
       "<table border=\"1\" class=\"dataframe\">\n",
       "  <thead>\n",
       "    <tr style=\"text-align: right;\">\n",
       "      <th></th>\n",
       "      <th>customer_id_hashed</th>\n",
       "      <th>store_type</th>\n",
       "      <th>sales</th>\n",
       "      <th>units</th>\n",
       "      <th>trans</th>\n",
       "      <th>Group_before_the_Quarter</th>\n",
       "      <th>Group_after_the_Quarter</th>\n",
       "      <th>sales_recent_Quarter</th>\n",
       "      <th>Recent_Quarter_Shopping_Group</th>\n",
       "      <th>NewRewards</th>\n",
       "    </tr>\n",
       "  </thead>\n",
       "  <tbody>\n",
       "    <tr>\n",
       "      <th>0</th>\n",
       "      <td>00000435bfb3bf42e3beb4c9b3942c552d09f0e49e5a75...</td>\n",
       "      <td>Legacy</td>\n",
       "      <td>31.59</td>\n",
       "      <td>24</td>\n",
       "      <td>7</td>\n",
       "      <td>Active</td>\n",
       "      <td>Active</td>\n",
       "      <td>31.59</td>\n",
       "      <td>Recent_Quarter_Shopped</td>\n",
       "      <td>Old_Rewards_Members</td>\n",
       "    </tr>\n",
       "    <tr>\n",
       "      <th>1</th>\n",
       "      <td>000007eccbfdc528a745aea90d34404b4fae9fbad2525f...</td>\n",
       "      <td>Legacy</td>\n",
       "      <td>15.44</td>\n",
       "      <td>9</td>\n",
       "      <td>3</td>\n",
       "      <td>NotAvailable_Before_Quarter</td>\n",
       "      <td>Active</td>\n",
       "      <td>15.44</td>\n",
       "      <td>Recent_Quarter_Shopped</td>\n",
       "      <td>Recent_Quarter_New_Sign_Ups</td>\n",
       "    </tr>\n",
       "    <tr>\n",
       "      <th>2</th>\n",
       "      <td>000008374518306e87838f387eedc47d49a447707dc6da...</td>\n",
       "      <td>Legacy</td>\n",
       "      <td>49.77</td>\n",
       "      <td>7</td>\n",
       "      <td>3</td>\n",
       "      <td>Active</td>\n",
       "      <td>Active</td>\n",
       "      <td>49.77</td>\n",
       "      <td>Recent_Quarter_Shopped</td>\n",
       "      <td>Old_Rewards_Members</td>\n",
       "    </tr>\n",
       "    <tr>\n",
       "      <th>3</th>\n",
       "      <td>0000095241ba6a94ec0d4b481d2fafd22598cf8cad3399...</td>\n",
       "      <td>Legacy</td>\n",
       "      <td>875.50</td>\n",
       "      <td>6</td>\n",
       "      <td>2</td>\n",
       "      <td>NotAvailable_Before_Quarter</td>\n",
       "      <td>Active</td>\n",
       "      <td>875.50</td>\n",
       "      <td>Recent_Quarter_Shopped</td>\n",
       "      <td>Old_Rewards_Members</td>\n",
       "    </tr>\n",
       "  </tbody>\n",
       "</table>\n",
       "</div>"
      ],
      "text/plain": [
       "                                  customer_id_hashed store_type   sales  \\\n",
       "0  00000435bfb3bf42e3beb4c9b3942c552d09f0e49e5a75...     Legacy   31.59   \n",
       "1  000007eccbfdc528a745aea90d34404b4fae9fbad2525f...     Legacy   15.44   \n",
       "2  000008374518306e87838f387eedc47d49a447707dc6da...     Legacy   49.77   \n",
       "3  0000095241ba6a94ec0d4b481d2fafd22598cf8cad3399...     Legacy  875.50   \n",
       "\n",
       "   units  trans     Group_before_the_Quarter Group_after_the_Quarter  \\\n",
       "0     24      7                       Active                  Active   \n",
       "1      9      3  NotAvailable_Before_Quarter                  Active   \n",
       "2      7      3                       Active                  Active   \n",
       "3      6      2  NotAvailable_Before_Quarter                  Active   \n",
       "\n",
       "   sales_recent_Quarter Recent_Quarter_Shopping_Group  \\\n",
       "0                 31.59        Recent_Quarter_Shopped   \n",
       "1                 15.44        Recent_Quarter_Shopped   \n",
       "2                 49.77        Recent_Quarter_Shopped   \n",
       "3                875.50        Recent_Quarter_Shopped   \n",
       "\n",
       "                    NewRewards  \n",
       "0          Old_Rewards_Members  \n",
       "1  Recent_Quarter_New_Sign_Ups  \n",
       "2          Old_Rewards_Members  \n",
       "3          Old_Rewards_Members  "
      ]
     },
     "execution_count": 39,
     "metadata": {},
     "output_type": "execute_result"
    }
   ],
   "source": [
    "# 2. by by store types, by id group\n",
    "\n",
    "output_storetype_with_id=df_2019Q1_sales_div_agg.groupby(['customer_id_hashed','store_type'])['sales','units','trans'].sum().reset_index()\n",
    "\n",
    "output_storetype_with_id=pd.merge(output_storetype_with_id,ID_group_2019Q1_shopped,on=\"customer_id_hashed\",how=\"outer\")\n",
    "\n",
    "print(output_storetype_with_id.shape)\n",
    "output_storetype_with_id.head(4)\n"
   ]
  },
  {
   "cell_type": "code",
   "execution_count": 40,
   "metadata": {},
   "outputs": [
    {
     "name": "stdout",
     "output_type": "stream",
     "text": [
      "(18, 9)\n"
     ]
    },
    {
     "data": {
      "text/html": [
       "<div>\n",
       "<style>\n",
       "    .dataframe thead tr:only-child th {\n",
       "        text-align: right;\n",
       "    }\n",
       "\n",
       "    .dataframe thead th {\n",
       "        text-align: left;\n",
       "    }\n",
       "\n",
       "    .dataframe tbody tr th {\n",
       "        vertical-align: top;\n",
       "    }\n",
       "</style>\n",
       "<table border=\"1\" class=\"dataframe\">\n",
       "  <thead>\n",
       "    <tr style=\"text-align: right;\">\n",
       "      <th></th>\n",
       "      <th>Group_before_the_Quarter</th>\n",
       "      <th>Group_after_the_Quarter</th>\n",
       "      <th>Recent_Quarter_Shopping_Group</th>\n",
       "      <th>NewRewards</th>\n",
       "      <th>store_type</th>\n",
       "      <th>sales</th>\n",
       "      <th>units</th>\n",
       "      <th>trans</th>\n",
       "      <th>customer_id_hashed</th>\n",
       "    </tr>\n",
       "  </thead>\n",
       "  <tbody>\n",
       "    <tr>\n",
       "      <th>0</th>\n",
       "      <td>Active</td>\n",
       "      <td>Active</td>\n",
       "      <td>Recent_Quarter_Shopped</td>\n",
       "      <td>Old_Rewards_Members</td>\n",
       "      <td>Ecommerce</td>\n",
       "      <td>5.099926e+06</td>\n",
       "      <td>132598</td>\n",
       "      <td>49604</td>\n",
       "      <td>29496</td>\n",
       "    </tr>\n",
       "    <tr>\n",
       "      <th>1</th>\n",
       "      <td>Active</td>\n",
       "      <td>Active</td>\n",
       "      <td>Recent_Quarter_Shopped</td>\n",
       "      <td>Old_Rewards_Members</td>\n",
       "      <td>Legacy</td>\n",
       "      <td>4.905298e+08</td>\n",
       "      <td>94184333</td>\n",
       "      <td>27229480</td>\n",
       "      <td>5454309</td>\n",
       "    </tr>\n",
       "    <tr>\n",
       "      <th>2</th>\n",
       "      <td>Active</td>\n",
       "      <td>Active</td>\n",
       "      <td>Recent_Quarter_Shopped</td>\n",
       "      <td>Old_Rewards_Members</td>\n",
       "      <td>SOTF</td>\n",
       "      <td>8.905169e+07</td>\n",
       "      <td>15767259</td>\n",
       "      <td>4564258</td>\n",
       "      <td>973773</td>\n",
       "    </tr>\n",
       "    <tr>\n",
       "      <th>3</th>\n",
       "      <td>Active</td>\n",
       "      <td>Active</td>\n",
       "      <td>Recent_Quarter_Shopped</td>\n",
       "      <td>Recent_Quarter_New_Sign_Ups</td>\n",
       "      <td>Ecommerce</td>\n",
       "      <td>1.499700e+02</td>\n",
       "      <td>4</td>\n",
       "      <td>1</td>\n",
       "      <td>1</td>\n",
       "    </tr>\n",
       "    <tr>\n",
       "      <th>4</th>\n",
       "      <td>Active</td>\n",
       "      <td>Active</td>\n",
       "      <td>Recent_Quarter_Shopped</td>\n",
       "      <td>Recent_Quarter_New_Sign_Ups</td>\n",
       "      <td>Legacy</td>\n",
       "      <td>2.776962e+04</td>\n",
       "      <td>4007</td>\n",
       "      <td>1101</td>\n",
       "      <td>152</td>\n",
       "    </tr>\n",
       "  </tbody>\n",
       "</table>\n",
       "</div>"
      ],
      "text/plain": [
       "  Group_before_the_Quarter Group_after_the_Quarter  \\\n",
       "0                   Active                  Active   \n",
       "1                   Active                  Active   \n",
       "2                   Active                  Active   \n",
       "3                   Active                  Active   \n",
       "4                   Active                  Active   \n",
       "\n",
       "  Recent_Quarter_Shopping_Group                   NewRewards store_type  \\\n",
       "0        Recent_Quarter_Shopped          Old_Rewards_Members  Ecommerce   \n",
       "1        Recent_Quarter_Shopped          Old_Rewards_Members     Legacy   \n",
       "2        Recent_Quarter_Shopped          Old_Rewards_Members       SOTF   \n",
       "3        Recent_Quarter_Shopped  Recent_Quarter_New_Sign_Ups  Ecommerce   \n",
       "4        Recent_Quarter_Shopped  Recent_Quarter_New_Sign_Ups     Legacy   \n",
       "\n",
       "          sales     units     trans  customer_id_hashed  \n",
       "0  5.099926e+06    132598     49604               29496  \n",
       "1  4.905298e+08  94184333  27229480             5454309  \n",
       "2  8.905169e+07  15767259   4564258              973773  \n",
       "3  1.499700e+02         4         1                   1  \n",
       "4  2.776962e+04      4007      1101                 152  "
      ]
     },
     "execution_count": 40,
     "metadata": {},
     "output_type": "execute_result"
    }
   ],
   "source": [
    "output_storetype_with_id_nunique=output_storetype_with_id.groupby(['Group_before_the_Quarter','Group_after_the_Quarter','Recent_Quarter_Shopping_Group','NewRewards','store_type'])['customer_id_hashed'].count().reset_index()\n",
    "\n",
    "output_storetype_with_id_sum=output_storetype_with_id.groupby(['Group_before_the_Quarter','Group_after_the_Quarter','Recent_Quarter_Shopping_Group','NewRewards','store_type'])['sales','units','trans'].sum().reset_index()\n",
    "\n",
    "output_storetype_with_id=pd.merge(output_storetype_with_id_sum,output_storetype_with_id_nunique,on=['Group_before_the_Quarter','Group_after_the_Quarter','Recent_Quarter_Shopping_Group','NewRewards','store_type'],how=\"outer\")\n",
    "print(output_storetype_with_id.shape)\n",
    "output_storetype_with_id.head(5)"
   ]
  },
  {
   "cell_type": "code",
   "execution_count": 41,
   "metadata": {},
   "outputs": [
    {
     "name": "stdout",
     "output_type": "stream",
     "text": [
      "(24077194, 11)\n"
     ]
    },
    {
     "data": {
      "text/html": [
       "<div>\n",
       "<style>\n",
       "    .dataframe thead tr:only-child th {\n",
       "        text-align: right;\n",
       "    }\n",
       "\n",
       "    .dataframe thead th {\n",
       "        text-align: left;\n",
       "    }\n",
       "\n",
       "    .dataframe tbody tr th {\n",
       "        vertical-align: top;\n",
       "    }\n",
       "</style>\n",
       "<table border=\"1\" class=\"dataframe\">\n",
       "  <thead>\n",
       "    <tr style=\"text-align: right;\">\n",
       "      <th></th>\n",
       "      <th>customer_id_hashed</th>\n",
       "      <th>store_type</th>\n",
       "      <th>division_id</th>\n",
       "      <th>sales</th>\n",
       "      <th>units</th>\n",
       "      <th>trans</th>\n",
       "      <th>Group_before_the_Quarter</th>\n",
       "      <th>Group_after_the_Quarter</th>\n",
       "      <th>sales_recent_Quarter</th>\n",
       "      <th>Recent_Quarter_Shopping_Group</th>\n",
       "      <th>NewRewards</th>\n",
       "    </tr>\n",
       "  </thead>\n",
       "  <tbody>\n",
       "    <tr>\n",
       "      <th>0</th>\n",
       "      <td>00000435bfb3bf42e3beb4c9b3942c552d09f0e49e5a75...</td>\n",
       "      <td>Legacy</td>\n",
       "      <td>1</td>\n",
       "      <td>8.81</td>\n",
       "      <td>11</td>\n",
       "      <td>3</td>\n",
       "      <td>Active</td>\n",
       "      <td>Active</td>\n",
       "      <td>31.59</td>\n",
       "      <td>Recent_Quarter_Shopped</td>\n",
       "      <td>Old_Rewards_Members</td>\n",
       "    </tr>\n",
       "    <tr>\n",
       "      <th>1</th>\n",
       "      <td>00000435bfb3bf42e3beb4c9b3942c552d09f0e49e5a75...</td>\n",
       "      <td>Legacy</td>\n",
       "      <td>2</td>\n",
       "      <td>14.38</td>\n",
       "      <td>10</td>\n",
       "      <td>3</td>\n",
       "      <td>Active</td>\n",
       "      <td>Active</td>\n",
       "      <td>31.59</td>\n",
       "      <td>Recent_Quarter_Shopped</td>\n",
       "      <td>Old_Rewards_Members</td>\n",
       "    </tr>\n",
       "    <tr>\n",
       "      <th>2</th>\n",
       "      <td>00000435bfb3bf42e3beb4c9b3942c552d09f0e49e5a75...</td>\n",
       "      <td>Legacy</td>\n",
       "      <td>6</td>\n",
       "      <td>8.40</td>\n",
       "      <td>3</td>\n",
       "      <td>1</td>\n",
       "      <td>Active</td>\n",
       "      <td>Active</td>\n",
       "      <td>31.59</td>\n",
       "      <td>Recent_Quarter_Shopped</td>\n",
       "      <td>Old_Rewards_Members</td>\n",
       "    </tr>\n",
       "    <tr>\n",
       "      <th>3</th>\n",
       "      <td>000007eccbfdc528a745aea90d34404b4fae9fbad2525f...</td>\n",
       "      <td>Legacy</td>\n",
       "      <td>1</td>\n",
       "      <td>2.79</td>\n",
       "      <td>2</td>\n",
       "      <td>1</td>\n",
       "      <td>NotAvailable_Before_Quarter</td>\n",
       "      <td>Active</td>\n",
       "      <td>15.44</td>\n",
       "      <td>Recent_Quarter_Shopped</td>\n",
       "      <td>Recent_Quarter_New_Sign_Ups</td>\n",
       "    </tr>\n",
       "  </tbody>\n",
       "</table>\n",
       "</div>"
      ],
      "text/plain": [
       "                                  customer_id_hashed store_type division_id  \\\n",
       "0  00000435bfb3bf42e3beb4c9b3942c552d09f0e49e5a75...     Legacy           1   \n",
       "1  00000435bfb3bf42e3beb4c9b3942c552d09f0e49e5a75...     Legacy           2   \n",
       "2  00000435bfb3bf42e3beb4c9b3942c552d09f0e49e5a75...     Legacy           6   \n",
       "3  000007eccbfdc528a745aea90d34404b4fae9fbad2525f...     Legacy           1   \n",
       "\n",
       "   sales  units  trans     Group_before_the_Quarter Group_after_the_Quarter  \\\n",
       "0   8.81     11      3                       Active                  Active   \n",
       "1  14.38     10      3                       Active                  Active   \n",
       "2   8.40      3      1                       Active                  Active   \n",
       "3   2.79      2      1  NotAvailable_Before_Quarter                  Active   \n",
       "\n",
       "   sales_recent_Quarter Recent_Quarter_Shopping_Group  \\\n",
       "0                 31.59        Recent_Quarter_Shopped   \n",
       "1                 31.59        Recent_Quarter_Shopped   \n",
       "2                 31.59        Recent_Quarter_Shopped   \n",
       "3                 15.44        Recent_Quarter_Shopped   \n",
       "\n",
       "                    NewRewards  \n",
       "0          Old_Rewards_Members  \n",
       "1          Old_Rewards_Members  \n",
       "2          Old_Rewards_Members  \n",
       "3  Recent_Quarter_New_Sign_Ups  "
      ]
     },
     "execution_count": 41,
     "metadata": {},
     "output_type": "execute_result"
    }
   ],
   "source": [
    "# 3. by by store types, by division, by id group\n",
    "\n",
    "output_storetype_division_with_id=df_2019Q1_sales_div_agg.groupby(['customer_id_hashed','store_type','division_id'])['sales','units','trans'].sum().reset_index()\n",
    "\n",
    "output_storetype_division_with_id=pd.merge(output_storetype_division_with_id,ID_group_2019Q1_shopped,on=\"customer_id_hashed\",how=\"outer\")\n",
    "\n",
    "print(output_storetype_division_with_id.shape)\n",
    "output_storetype_division_with_id.head(4)\n"
   ]
  },
  {
   "cell_type": "code",
   "execution_count": 42,
   "metadata": {},
   "outputs": [
    {
     "name": "stdout",
     "output_type": "stream",
     "text": [
      "(133, 10)\n"
     ]
    },
    {
     "data": {
      "text/html": [
       "<div>\n",
       "<style>\n",
       "    .dataframe thead tr:only-child th {\n",
       "        text-align: right;\n",
       "    }\n",
       "\n",
       "    .dataframe thead th {\n",
       "        text-align: left;\n",
       "    }\n",
       "\n",
       "    .dataframe tbody tr th {\n",
       "        vertical-align: top;\n",
       "    }\n",
       "</style>\n",
       "<table border=\"1\" class=\"dataframe\">\n",
       "  <thead>\n",
       "    <tr style=\"text-align: right;\">\n",
       "      <th></th>\n",
       "      <th>Group_before_the_Quarter</th>\n",
       "      <th>Group_after_the_Quarter</th>\n",
       "      <th>Recent_Quarter_Shopping_Group</th>\n",
       "      <th>NewRewards</th>\n",
       "      <th>store_type</th>\n",
       "      <th>division_id</th>\n",
       "      <th>sales</th>\n",
       "      <th>units</th>\n",
       "      <th>trans</th>\n",
       "      <th>customer_id_hashed</th>\n",
       "    </tr>\n",
       "  </thead>\n",
       "  <tbody>\n",
       "    <tr>\n",
       "      <th>0</th>\n",
       "      <td>Active</td>\n",
       "      <td>Active</td>\n",
       "      <td>Recent_Quarter_Shopped</td>\n",
       "      <td>Old_Rewards_Members</td>\n",
       "      <td>Ecommerce</td>\n",
       "      <td>1</td>\n",
       "      <td>114250.17</td>\n",
       "      <td>3642</td>\n",
       "      <td>1467</td>\n",
       "      <td>1299</td>\n",
       "    </tr>\n",
       "    <tr>\n",
       "      <th>1</th>\n",
       "      <td>Active</td>\n",
       "      <td>Active</td>\n",
       "      <td>Recent_Quarter_Shopped</td>\n",
       "      <td>Old_Rewards_Members</td>\n",
       "      <td>Ecommerce</td>\n",
       "      <td>2</td>\n",
       "      <td>15235.35</td>\n",
       "      <td>1322</td>\n",
       "      <td>525</td>\n",
       "      <td>474</td>\n",
       "    </tr>\n",
       "    <tr>\n",
       "      <th>2</th>\n",
       "      <td>Active</td>\n",
       "      <td>Active</td>\n",
       "      <td>Recent_Quarter_Shopped</td>\n",
       "      <td>Old_Rewards_Members</td>\n",
       "      <td>Ecommerce</td>\n",
       "      <td>3</td>\n",
       "      <td>2576205.59</td>\n",
       "      <td>45295</td>\n",
       "      <td>19707</td>\n",
       "      <td>13982</td>\n",
       "    </tr>\n",
       "    <tr>\n",
       "      <th>3</th>\n",
       "      <td>Active</td>\n",
       "      <td>Active</td>\n",
       "      <td>Recent_Quarter_Shopped</td>\n",
       "      <td>Old_Rewards_Members</td>\n",
       "      <td>Ecommerce</td>\n",
       "      <td>4</td>\n",
       "      <td>827334.64</td>\n",
       "      <td>56308</td>\n",
       "      <td>16443</td>\n",
       "      <td>12445</td>\n",
       "    </tr>\n",
       "    <tr>\n",
       "      <th>4</th>\n",
       "      <td>Active</td>\n",
       "      <td>Active</td>\n",
       "      <td>Recent_Quarter_Shopped</td>\n",
       "      <td>Old_Rewards_Members</td>\n",
       "      <td>Ecommerce</td>\n",
       "      <td>5</td>\n",
       "      <td>158843.05</td>\n",
       "      <td>12644</td>\n",
       "      <td>3179</td>\n",
       "      <td>2767</td>\n",
       "    </tr>\n",
       "  </tbody>\n",
       "</table>\n",
       "</div>"
      ],
      "text/plain": [
       "  Group_before_the_Quarter Group_after_the_Quarter  \\\n",
       "0                   Active                  Active   \n",
       "1                   Active                  Active   \n",
       "2                   Active                  Active   \n",
       "3                   Active                  Active   \n",
       "4                   Active                  Active   \n",
       "\n",
       "  Recent_Quarter_Shopping_Group           NewRewards store_type division_id  \\\n",
       "0        Recent_Quarter_Shopped  Old_Rewards_Members  Ecommerce           1   \n",
       "1        Recent_Quarter_Shopped  Old_Rewards_Members  Ecommerce           2   \n",
       "2        Recent_Quarter_Shopped  Old_Rewards_Members  Ecommerce           3   \n",
       "3        Recent_Quarter_Shopped  Old_Rewards_Members  Ecommerce           4   \n",
       "4        Recent_Quarter_Shopped  Old_Rewards_Members  Ecommerce           5   \n",
       "\n",
       "        sales  units  trans  customer_id_hashed  \n",
       "0   114250.17   3642   1467                1299  \n",
       "1    15235.35   1322    525                 474  \n",
       "2  2576205.59  45295  19707               13982  \n",
       "3   827334.64  56308  16443               12445  \n",
       "4   158843.05  12644   3179                2767  "
      ]
     },
     "execution_count": 42,
     "metadata": {},
     "output_type": "execute_result"
    }
   ],
   "source": [
    "output_storetype_division_with_id_nunique=output_storetype_division_with_id.groupby(['Group_before_the_Quarter','Group_after_the_Quarter','Recent_Quarter_Shopping_Group','NewRewards','store_type','division_id'])['customer_id_hashed'].count().reset_index()\n",
    "\n",
    "output_storetype_division_with_id_sum=output_storetype_division_with_id.groupby(['Group_before_the_Quarter','Group_after_the_Quarter','Recent_Quarter_Shopping_Group','NewRewards','store_type','division_id'])['sales','units','trans'].sum().reset_index()\n",
    "\n",
    "output_storetype_division=pd.merge(output_storetype_division_with_id_sum,output_storetype_division_with_id_nunique,on=['Group_before_the_Quarter','Group_after_the_Quarter','Recent_Quarter_Shopping_Group','NewRewards','store_type','division_id'],how=\"outer\")\n",
    "print(output_storetype_division.shape)\n",
    "output_storetype_division.head(5)"
   ]
  },
  {
   "cell_type": "code",
   "execution_count": 43,
   "metadata": {},
   "outputs": [
    {
     "data": {
      "text/plain": [
       "(133, 10)"
      ]
     },
     "execution_count": 43,
     "metadata": {},
     "output_type": "execute_result"
    }
   ],
   "source": [
    "output_storetype_division.shape"
   ]
  },
  {
   "cell_type": "code",
   "execution_count": 44,
   "metadata": {
    "collapsed": true
   },
   "outputs": [],
   "source": [
    "#### \n",
    "writer=pd.ExcelWriter(\"./BL_2019Q1_rewards_summary_div_store_type_groups_data_JL_\"+str(datetime.datetime.now().date())+\".xlsx\",engine=\"xlsxwriter\")\n",
    "output_division_with_id.to_excel(writer,\"output_division\",index=False)\n",
    "output_storetype_with_id.to_excel(writer,\"output_store\",index=False)\n",
    "output_storetype_division.to_excel(writer,\"output_storetype_division\",index=False)\n",
    "writer.save()"
   ]
  },
  {
   "cell_type": "code",
   "execution_count": null,
   "metadata": {
    "collapsed": true
   },
   "outputs": [],
   "source": []
  }
 ],
 "metadata": {
  "kernelspec": {
   "display_name": "Python 3",
   "language": "python",
   "name": "python3"
  },
  "language_info": {
   "codemirror_mode": {
    "name": "ipython",
    "version": 3
   },
   "file_extension": ".py",
   "mimetype": "text/x-python",
   "name": "python",
   "nbconvert_exporter": "python",
   "pygments_lexer": "ipython3",
   "version": "3.6.1"
  }
 },
 "nbformat": 4,
 "nbformat_minor": 2
}
