{
 "cells": [
  {
   "cell_type": "code",
   "execution_count": 1,
   "metadata": {
    "collapsed": true
   },
   "outputs": [],
   "source": [
    "# All stores in Dallas DMA for Smoothie King\n",
    "# All stores in Dallas DMA for Big Lots & All stores in the largets DMA ofr Big Lots"
   ]
  },
  {
   "cell_type": "code",
   "execution_count": 2,
   "metadata": {
    "collapsed": true
   },
   "outputs": [],
   "source": [
    "import pandas as pd\n",
    "import zipcodes\n",
    "import numpy as np\n",
    "import datetime"
   ]
  },
  {
   "cell_type": "code",
   "execution_count": 3,
   "metadata": {
    "collapsed": true
   },
   "outputs": [],
   "source": [
    "Zip_DMA=pd.read_excel(\"/home/jian/Docs/Geo_mapping/Zips by DMA by County16-17 nielsen.xlsx\",dtype=str,skiprows=1)\n",
    "Zip_DMA=Zip_DMA.iloc[:,[0,2]]\n",
    "Zip_DMA.columns=['zip_cd','DMA']\n",
    "Zip_DMA=Zip_DMA.drop_duplicates()\n",
    "Zip_DMA_DALLAS=Zip_DMA[Zip_DMA['DMA']==\"DALLAS-FT. WORTH\"]"
   ]
  },
  {
   "cell_type": "code",
   "execution_count": 4,
   "metadata": {
    "collapsed": true
   },
   "outputs": [],
   "source": [
    "SK_revised_store_zip=pd.read_excel(\"/home/jian/Projects/Smoothie_King/TA/SmoothieKing_TA_revised_3_miles_JL_2018-10-31.xlsx\",dtype=str,sheetname=\"stores_zips_overwritten\")\n",
    "SK_revised_store_zip=SK_revised_store_zip[['storenumber','revised_store_zip']]\n",
    "SK_revised_store_zip['storenumber']=SK_revised_store_zip['storenumber'].astype(int).astype(str)\n",
    "SK_revised_store_zip_dict=SK_revised_store_zip.set_index(['storenumber']).to_dict()['revised_store_zip']"
   ]
  },
  {
   "cell_type": "code",
   "execution_count": 5,
   "metadata": {},
   "outputs": [
    {
     "name": "stderr",
     "output_type": "stream",
     "text": [
      "/usr/local/lib/python3.6/site-packages/ipykernel_launcher.py:12: SettingWithCopyWarning: \n",
      "A value is trying to be set on a copy of a slice from a DataFrame\n",
      "\n",
      "See the caveats in the documentation: http://pandas.pydata.org/pandas-docs/stable/indexing.html#indexing-view-versus-copy\n",
      "  if sys.path[0] == '':\n",
      "/usr/local/lib/python3.6/site-packages/ipykernel_launcher.py:10: SettingWithCopyWarning: \n",
      "A value is trying to be set on a copy of a slice from a DataFrame\n",
      "\n",
      "See the caveats in the documentation: http://pandas.pydata.org/pandas-docs/stable/indexing.html#indexing-view-versus-copy\n",
      "  # Remove the CWD from sys.path while we load stuff.\n"
     ]
    }
   ],
   "source": [
    "SK_stores=pd.read_excel(\"/home/jian/Projects/Smoothie_King/TA/StoreList.xlsx\",dtype=str)\n",
    "SK_stores=SK_stores[SK_stores['status']!=\"Closed\"]\n",
    "SK_stores['storenumber']=SK_stores['storenumber'].astype(int).astype(str)\n",
    "SK_stores=SK_stores.reset_index()\n",
    "del SK_stores['index']\n",
    "SK_stores['revised_store_zip']=np.nan\n",
    "\n",
    "for i in range(len(SK_stores)):\n",
    "    if SK_stores['storenumber'][i] in SK_revised_store_zip_dict.keys():\n",
    "        SK_stores['revised_store_zip'][i]=SK_revised_store_zip_dict[SK_stores['storenumber'][i]]\n",
    "    else:\n",
    "        SK_stores['revised_store_zip'][i]=SK_stores['zip'][i].split(\"-\")[0].zfill(5)\n",
    "SK_stores['revised_store_zip']=SK_stores['revised_store_zip'].astype(int).astype(str).apply(lambda x: x.zfill(5))\n",
    "SK_stores['zip_cd']=SK_stores['zip'].apply(lambda x: x.split(\"-\")[0].zfill(5))\n",
    "SK_stores_DALLAS=SK_stores[(SK_stores['zip_cd'].isin(Zip_DMA_DALLAS['zip_cd'])) | (SK_stores['revised_store_zip'].isin(Zip_DMA_DALLAS['zip_cd']))]\n",
    "SK_stores_DALLAS=pd.merge(SK_stores_DALLAS,Zip_DMA_DALLAS,on=\"zip_cd\",how=\"left\")\n"
   ]
  },
  {
   "cell_type": "code",
   "execution_count": 6,
   "metadata": {
    "collapsed": true
   },
   "outputs": [],
   "source": [
    "BL_store=pd.read_table(\"/home/jian/BigLots/static_files/Store_list/MediaStormStores20181101-134628-331.txt\",dtype=str,sep=\"|\")\n",
    "sales_20181027=pd.read_csv(\"/home/jian/BiglotsCode/outputs/combined_sales_long_2018-10-27.csv\",dtype=str)\n",
    "sales_20181027=sales_20181027[sales_20181027['week_end_date']==\"2018-10-27\"]\n",
    "sales_20181027['sales']=sales_20181027['sales'].astype(float)\n",
    "sales_20181027=sales_20181027[sales_20181027['sales']>0]\n",
    "BL_store=BL_store[BL_store['location_id'].isin(sales_20181027['location_id'])]\n",
    "BL_store['zip_cd']=BL_store['zip_cd'].apply(lambda x: x.split(\"-\")[0].zfill(5))"
   ]
  },
  {
   "cell_type": "code",
   "execution_count": 7,
   "metadata": {
    "collapsed": true
   },
   "outputs": [],
   "source": [
    "BL_store=pd.merge(BL_store,Zip_DMA,on=\"zip_cd\",how=\"left\")\n",
    "BL_store_count=BL_store.groupby(['DMA'])['location_id'].count().to_frame().reset_index().sort_values(['location_id'],ascending=False)\n",
    "BL_store_count.head(2)\n",
    "BL_store_LA=BL_store[BL_store['DMA']==BL_store_count['DMA'].tolist()[0]]\n",
    "BL_store_DALLAS=BL_store[BL_store['DMA']==BL_store_count['DMA'].tolist()[1]]"
   ]
  },
  {
   "cell_type": "code",
   "execution_count": 8,
   "metadata": {
    "collapsed": true
   },
   "outputs": [],
   "source": [
    "writer=pd.ExcelWriter(\"/home/jian/Projects/Smoothie_King/SK_BL_Store_Dallas_JL_\"+str(datetime.datetime.now().date())+\".xlsx\",engine=\"xlsxwriter\")\n",
    "SK_stores_DALLAS.to_excel(writer,\"SK_Store_Dallas\",index=False)\n",
    "BL_store_LA.to_excel(writer,\"BL_Store_LosAngeles\",index=False)\n",
    "BL_store_DALLAS.to_excel(writer,\"BL_Store_Dallas\",index=False)\n",
    "writer.save()"
   ]
  },
  {
   "cell_type": "code",
   "execution_count": null,
   "metadata": {
    "collapsed": true
   },
   "outputs": [],
   "source": []
  },
  {
   "cell_type": "code",
   "execution_count": null,
   "metadata": {
    "collapsed": true
   },
   "outputs": [],
   "source": []
  },
  {
   "cell_type": "code",
   "execution_count": null,
   "metadata": {
    "collapsed": true
   },
   "outputs": [],
   "source": []
  }
 ],
 "metadata": {
  "kernelspec": {
   "display_name": "Python 3",
   "language": "python",
   "name": "python3"
  },
  "language_info": {
   "codemirror_mode": {
    "name": "ipython",
    "version": 3
   },
   "file_extension": ".py",
   "mimetype": "text/x-python",
   "name": "python",
   "nbconvert_exporter": "python",
   "pygments_lexer": "ipython3",
   "version": "3.6.1"
  }
 },
 "nbformat": 4,
 "nbformat_minor": 2
}
