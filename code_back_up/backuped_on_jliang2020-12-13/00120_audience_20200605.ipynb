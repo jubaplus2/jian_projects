{
 "cells": [
  {
   "cell_type": "code",
   "execution_count": 1,
   "metadata": {},
   "outputs": [],
   "source": [
    "import pandas as pd\n",
    "import numpy as np\n",
    "import datetime\n",
    "import paramiko"
   ]
  },
  {
   "cell_type": "code",
   "execution_count": 8,
   "metadata": {},
   "outputs": [],
   "source": [
    "host=\"107.191.32.220\"\n",
    "port=22\n",
    "transport=paramiko.Transport(host,port)"
   ]
  },
  {
   "cell_type": "code",
   "execution_count": 9,
   "metadata": {},
   "outputs": [],
   "source": [
    "password = \"vgn5UucsUNHL4n9R\" #hard-coded\n",
    "username = \"biglots_data\" #hard-coded\n",
    "transport.connect(username = username, password = password)\n",
    "sftp = paramiko.SFTPClient.from_transport(transport)"
   ]
  },
  {
   "cell_type": "code",
   "execution_count": 10,
   "metadata": {},
   "outputs": [
    {
     "data": {
      "text/plain": [
       "['Monthly_Store_List',\n",
       " 'Experian_data',\n",
       " 'MediaStorm Rewards Master P4 2019 - no transaction info.zip',\n",
       " 'hash_full_file_redeemers_1201.zip',\n",
       " 'Unsub_JH_Final20191105Hashed.zip',\n",
       " 'sample_folder',\n",
       " 'non_bh_post_0502.txt',\n",
       " 'bigheroes_thru0502.txt',\n",
       " 'bigheroes_post0502.txt',\n",
       " 'Weekly_2020',\n",
       " '.ssh',\n",
       " 'hash_facebook_only_1201.zip',\n",
       " '.bash_history',\n",
       " 'Monthly_Taxonomy',\n",
       " 'Weekly_2019',\n",
       " 'removed_files',\n",
       " 'MediaStormProductTaxonomy20200601-134325-030.txt',\n",
       " 'non_bh_thru_0502.txt',\n",
       " 'Historical_Item_Level_Daily_Sales',\n",
       " 'CCPA_Suppression',\n",
       " 'hash_email_only.zip',\n",
       " 'MediaStormStores20200601-134325-120.txt',\n",
       " 'All Rewards Members 2018-02-04 - 2019-05-04.zip',\n",
       " 'hash_control_1201.zip',\n",
       " 'hash_facebook_email_1201.zip',\n",
       " 'Email_Openers_90Days_recevied_20190405']"
      ]
     },
     "execution_count": 10,
     "metadata": {},
     "output_type": "execute_result"
    }
   ],
   "source": [
    "sftp.listdir(\"./\")"
   ]
  },
  {
   "cell_type": "code",
   "execution_count": null,
   "metadata": {},
   "outputs": [],
   "source": []
  }
 ],
 "metadata": {
  "kernelspec": {
   "display_name": "Python 3",
   "language": "python",
   "name": "python3"
  },
  "language_info": {
   "codemirror_mode": {
    "name": "ipython",
    "version": 3
   },
   "file_extension": ".py",
   "mimetype": "text/x-python",
   "name": "python",
   "nbconvert_exporter": "python",
   "pygments_lexer": "ipython3",
   "version": "3.6.1"
  }
 },
 "nbformat": 4,
 "nbformat_minor": 2
}
