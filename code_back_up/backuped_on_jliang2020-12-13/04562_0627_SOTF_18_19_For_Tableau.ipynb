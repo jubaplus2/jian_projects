{
 "cells": [
  {
   "cell_type": "code",
   "execution_count": 79,
   "metadata": {},
   "outputs": [
    {
     "data": {
      "text/plain": [
       "'/home/jian/Projects/Big_Lots/Analysis/2019_Q1/SOTF_Maps'"
      ]
     },
     "execution_count": 79,
     "metadata": {},
     "output_type": "execute_result"
    }
   ],
   "source": [
    "import pandas as pd\n",
    "import datetime\n",
    "import os\n",
    "import numpy as np\n",
    "os.getcwd()"
   ]
  },
  {
   "cell_type": "code",
   "execution_count": 80,
   "metadata": {
    "collapsed": true
   },
   "outputs": [],
   "source": [
    "SOTF_2018=pd.read_excel(\"/home/jian/Projects/Big_Lots/Analysis/2019_Q1/SOTF_Maps/SOTF_2018_2019.xlsx\",dtype=str,sheetname=\"SOTF_2018\")\n",
    "SOTF_2019=pd.read_excel(\"/home/jian/Projects/Big_Lots/Analysis/2019_Q1/SOTF_Maps/SOTF_2018_2019.xlsx\",dtype=str,sheetname=\"SOTF_2019\")\n",
    "\n",
    "SOTF_2018['G.O. Date']=SOTF_2018['G.O. Date'].apply(lambda x: x[:10])\n",
    "SOTF_2019['G.O. Date']=SOTF_2019['G.O. Date'].apply(lambda x: x[:10])\n"
   ]
  },
  {
   "cell_type": "code",
   "execution_count": 81,
   "metadata": {},
   "outputs": [],
   "source": [
    "store_list=pd.read_table(\"/home/jian/BigLots/static_files/Store_list/MediaStormStores20190101-135843-638.txt\",dtype=str,sep=\"|\")\n",
    "\n",
    "store_list_2=pd.read_table(\"/home/jian/BigLots/static_files/Store_list/MediaStormStores20181201-135231-415.txt\",dtype=str,sep=\"|\")\n",
    "store_list=store_list.append(store_list_2[~store_list_2['location_id'].isin(store_list['location_id'].tolist())])\n",
    "\n",
    "store_list_2=pd.read_table(\"/home/jian/BigLots/static_files/Store_list/MediaStormStores20181101-134628-331.txt\",dtype=str,sep=\"|\")\n",
    "store_list=store_list.append(store_list_2[~store_list_2['location_id'].isin(store_list['location_id'].tolist())])\n",
    "\n",
    "store_list_2=pd.read_table(\"/home/jian/BigLots/static_files/Store_list/MediaStormStores20181001-135417-132.txt\",dtype=str,sep=\"|\")\n",
    "store_list=store_list.append(store_list_2[~store_list_2['location_id'].isin(store_list['location_id'].tolist())])\n",
    "\n",
    "store_list_2=pd.read_table(\"/home/jian/BigLots/static_files/Store_list/MediaStormStores20180901-133640-935.txt\",dtype=str,sep=\"|\")\n",
    "store_list=store_list.append(store_list_2[~store_list_2['location_id'].isin(store_list['location_id'].tolist())])\n",
    "\n",
    "store_list_2=pd.read_table(\"/home/jian/BigLots/static_files/Store_list/MediaStormStores20180801-133641-576.txt\",dtype=str,sep=\"|\")\n",
    "store_list=store_list.append(store_list_2[~store_list_2['location_id'].isin(store_list['location_id'].tolist())])\n",
    "\n",
    "store_list_2=pd.read_table(\"/home/jian/BigLots/static_files/Store_list/MediaStormStores20180703.txt\",dtype=str,sep=\"|\")\n",
    "store_list=store_list.append(store_list_2[~store_list_2['location_id'].isin(store_list['location_id'].tolist())])\n",
    "\n",
    "\n",
    "store_list['latitude_meas']=store_list['latitude_meas'].astype(float)\n",
    "store_list['longitude_meas']=store_list['longitude_meas'].astype(float)\n",
    "store_list['zip5']=store_list['zip_cd'].apply(lambda x: x.split(\"-\")[0].zfill(5))\n",
    "store_list=store_list[['location_id','latitude_meas','longitude_meas']]"
   ]
  },
  {
   "cell_type": "code",
   "execution_count": 82,
   "metadata": {},
   "outputs": [],
   "source": [
    "SOTF_2018=pd.merge(SOTF_2018,store_list,on=\"location_id\",how=\"left\")\n",
    "SOTF_2019=pd.merge(SOTF_2019,store_list,on=\"location_id\",how=\"left\")\n",
    "SOTF_2018=SOTF_2018[~SOTF_2018['location_id'].isin(SOTF_2019['location_id'].tolist())]\n"
   ]
  },
  {
   "cell_type": "code",
   "execution_count": 83,
   "metadata": {},
   "outputs": [
    {
     "data": {
      "text/plain": [
       "['5370',\n",
       " '4695',\n",
       " '5396',\n",
       " '5394',\n",
       " '4694',\n",
       " '5390',\n",
       " '4668',\n",
       " '5387',\n",
       " '4687',\n",
       " '4696',\n",
       " '5372',\n",
       " '4674',\n",
       " 'TBD',\n",
       " '4678',\n",
       " '4683',\n",
       " '5385',\n",
       " '5391',\n",
       " '5378',\n",
       " '4690',\n",
       " '4692',\n",
       " '5392',\n",
       " '4698',\n",
       " '5383',\n",
       " '4699',\n",
       " '5388',\n",
       " '5393',\n",
       " '4697',\n",
       " '5389',\n",
       " '5395',\n",
       " '4685',\n",
       " '4693',\n",
       " '4679',\n",
       " '5397']"
      ]
     },
     "execution_count": 83,
     "metadata": {},
     "output_type": "execute_result"
    }
   ],
   "source": [
    "stores_to_search=list(set(SOTF_2018[pd.isnull(SOTF_2018['latitude_meas'])]['location_id'].tolist()+SOTF_2019[pd.isnull(SOTF_2019['latitude_meas'])]['location_id'].tolist()))\n",
    "len(stores_to_search)\n",
    "stores_to_search"
   ]
  },
  {
   "cell_type": "code",
   "execution_count": 84,
   "metadata": {},
   "outputs": [
    {
     "data": {
      "text/plain": [
       "['TBD', '5397']"
      ]
     },
     "execution_count": 84,
     "metadata": {},
     "output_type": "execute_result"
    }
   ],
   "source": [
    "new_store_lat_lng_dict={\"4687\":[40.7397339,-73.2365623],\n",
    "                        \"5378\":[41.6826079,-86.187903],\n",
    "                        \"5370\":[27.3404875,-82.4994362],\n",
    "                        \"4674\":[38.7211498,-121.292759],\n",
    "                        \"4685\":[40.1973844,-105.1037418],\n",
    "                        \"5390\":[41.2151883,-80.7497738],\n",
    "                        \"4690\":[38.409634,-82.3248814],\n",
    "                        \"5383\":[40.1252467,-79.5510018],\n",
    "                        \"4695\":[42.2269364,-85.5869778],\n",
    "                        \"5396\":[34.6173633,-78.9811532],\n",
    "                        \"5394\":[26.3532561,-80.2052572],\n",
    "                        \"4694\":[32.6793036,-97.4142127],\n",
    "                        \"4668\":[38.2982808,-80.8340238],\n",
    "                        \"5387\":[29.056465,-81.3028316],\n",
    "                        \"4696\":[41.4682591,-90.5084989],\n",
    "                        \"5372\":[32.9540711,-80.1684949],\n",
    "                        \"4678\":[41.1370764,-104.7673861],\n",
    "                        \"4683\":[37.9560286,-122.3327347],\n",
    "                        \"5385\":[36.7495436,-95.9345924],\n",
    "                        \"5391\":[35.7151218,-81.6938966],\n",
    "                        \"4692\":[48.7751927,-122.4950207],\n",
    "                        \"5392\":[40.9638538,-74.0761778],\n",
    "                        \"4698\":[39.3001132,-81.5489378],\n",
    "                        \"4699\":[34.0867676,-118.1510911],\n",
    "                        \"5388\":[37.7255653,-87.1261068],\n",
    "                        \"5393\":[32.3800154,-86.2119868],\n",
    "                        \"4697\":[30.1285329,-94.1571409],\n",
    "                        \"5389\":[26.5187608,-81.9406696],\n",
    "                        \"5395\":[39.4171946,-77.4569802],\n",
    "                        \"4693\":[45.6787946,-122.5536918],\n",
    "                        \"4679\":[42.7234773,-84.423615]\n",
    "                        \n",
    "                  } \n",
    "\n",
    "[x for x in stores_to_search if x not in new_store_lat_lng_dict.keys()] #Not found below even through Dom's store list"
   ]
  },
  {
   "cell_type": "code",
   "execution_count": 85,
   "metadata": {},
   "outputs": [
    {
     "name": "stderr",
     "output_type": "stream",
     "text": [
      "/usr/local/lib/python3.6/site-packages/ipykernel_launcher.py:2: SettingWithCopyWarning: \n",
      "A value is trying to be set on a copy of a slice from a DataFrame.\n",
      "Try using .loc[row_indexer,col_indexer] = value instead\n",
      "\n",
      "See the caveats in the documentation: http://pandas.pydata.org/pandas-docs/stable/indexing.html#indexing-view-versus-copy\n",
      "  \n",
      "/usr/local/lib/python3.6/site-packages/ipykernel_launcher.py:3: SettingWithCopyWarning: \n",
      "A value is trying to be set on a copy of a slice from a DataFrame.\n",
      "Try using .loc[row_indexer,col_indexer] = value instead\n",
      "\n",
      "See the caveats in the documentation: http://pandas.pydata.org/pandas-docs/stable/indexing.html#indexing-view-versus-copy\n",
      "  This is separate from the ipykernel package so we can avoid doing imports until\n"
     ]
    }
   ],
   "source": [
    "SOTF_2019_0=SOTF_2019[SOTF_2019['location_id'].isin(new_store_lat_lng_dict.keys())]\n",
    "SOTF_2019_0['latitude_meas']=SOTF_2019_0['location_id'].apply(lambda x: new_store_lat_lng_dict[x][0])\n",
    "SOTF_2019_0['longitude_meas']=SOTF_2019_0['location_id'].apply(lambda x: new_store_lat_lng_dict[x][1])\n",
    "SOTF_2019_1=SOTF_2019[~SOTF_2019['location_id'].isin(new_store_lat_lng_dict.keys())]\n",
    "SOTF_2019=SOTF_2019_0.append(SOTF_2019_1)\n",
    "\n",
    "SOTF_2019_na_location=SOTF_2019[pd.isnull(SOTF_2019['longitude_meas'])]\n",
    "SOTF_2019=SOTF_2019[~pd.isnull(SOTF_2019['longitude_meas'])]"
   ]
  },
  {
   "cell_type": "code",
   "execution_count": 86,
   "metadata": {},
   "outputs": [],
   "source": [
    "writer=pd.ExcelWriter('/home/jian/Projects/Big_Lots/Analysis/2019_Q1/SOTF_Maps/BL_lat_lng_for_2018_2019_SOTF_JL_'+str(datetime.datetime.now().date())+\".xlsx\",engine=\"xlsxwriter\")\n",
    "SOTF_2018.to_excel(writer,\"SOTF_2018\",index=False)\n",
    "SOTF_2019.to_excel(writer,\"SOTF_2019\",index=False)\n",
    "SOTF_2019_na_location.to_excel(writer,\"SOTF_2019_No_Address\",index=False)\n",
    "writer.save()"
   ]
  },
  {
   "cell_type": "code",
   "execution_count": 88,
   "metadata": {},
   "outputs": [
    {
     "data": {
      "text/plain": [
       "(2, 5)"
      ]
     },
     "execution_count": 88,
     "metadata": {},
     "output_type": "execute_result"
    }
   ],
   "source": [
    "SOTF_2019_na_location.shape"
   ]
  },
  {
   "cell_type": "code",
   "execution_count": null,
   "metadata": {
    "collapsed": true
   },
   "outputs": [],
   "source": []
  }
 ],
 "metadata": {
  "kernelspec": {
   "display_name": "Python 3",
   "language": "python",
   "name": "python3"
  },
  "language_info": {
   "codemirror_mode": {
    "name": "ipython",
    "version": 3
   },
   "file_extension": ".py",
   "mimetype": "text/x-python",
   "name": "python",
   "nbconvert_exporter": "python",
   "pygments_lexer": "ipython3",
   "version": "3.6.1"
  }
 },
 "nbformat": 4,
 "nbformat_minor": 2
}
