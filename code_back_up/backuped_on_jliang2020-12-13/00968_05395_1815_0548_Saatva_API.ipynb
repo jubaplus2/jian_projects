{
 "cells": [
  {
   "cell_type": "code",
   "execution_count": 18,
   "metadata": {},
   "outputs": [],
   "source": [
    "import google_analytics_reporting_api as ga\n",
    "import json as json\n",
    "import pandas as pd\n",
    "import numpy as np\n",
    "# google_analytics_reporting_api functions writen by Jay in the path '/home/jian/Projects/Saatva/GA/google_analytics_reporting_api.py'"
   ]
  },
  {
   "cell_type": "code",
   "execution_count": 3,
   "metadata": {
    "collapsed": true
   },
   "outputs": [],
   "source": [
    "analytics = ga.initialize_analyticsreporting('/home/jian/Projects/Saatva/GA/GA_api_jubapluscc@gmail.com.json')"
   ]
  },
  {
   "cell_type": "code",
   "execution_count": 22,
   "metadata": {},
   "outputs": [],
   "source": [
    "# Limited of 10000 rows\n",
    "'''\n",
    "    Queries the Analytics Reporting API V4.\n",
    "\n",
    "    Args:\n",
    "        analytics: An authorized Analytics Reporting API V4 service object.\n",
    "        VIEW_ID: str\n",
    "        start_date: str\n",
    "        end_date: str\n",
    "        ga_metrics: list of str\n",
    "        ga_dimensions: list of str\n",
    "    Returns:\n",
    "        The Analytics Reporting API V4 response.\n",
    "'''\n",
    "response = ga.get_report(analytics=analytics, VIEW_ID='118913963',start_date='2018-02-10', end_date='2018-02-14', ga_metrics=['ga:sessions','ga:bounceRate'], ga_dimensions=['ga:date'],next_page='0')"
   ]
  },
  {
   "cell_type": "code",
   "execution_count": 23,
   "metadata": {},
   "outputs": [],
   "source": [
    "test=ga.response_to_dataframe(response)"
   ]
  },
  {
   "cell_type": "code",
   "execution_count": 24,
   "metadata": {},
   "outputs": [
    {
     "data": {
      "text/html": [
       "<div>\n",
       "<style>\n",
       "    .dataframe thead tr:only-child th {\n",
       "        text-align: right;\n",
       "    }\n",
       "\n",
       "    .dataframe thead th {\n",
       "        text-align: left;\n",
       "    }\n",
       "\n",
       "    .dataframe tbody tr th {\n",
       "        vertical-align: top;\n",
       "    }\n",
       "</style>\n",
       "<table border=\"1\" class=\"dataframe\">\n",
       "  <thead>\n",
       "    <tr style=\"text-align: right;\">\n",
       "      <th></th>\n",
       "      <th>ga:bounceRate</th>\n",
       "      <th>ga:date</th>\n",
       "      <th>ga:sessions</th>\n",
       "    </tr>\n",
       "  </thead>\n",
       "  <tbody>\n",
       "    <tr>\n",
       "      <th>0</th>\n",
       "      <td>68.11909466797297</td>\n",
       "      <td>20180210</td>\n",
       "      <td>60221</td>\n",
       "    </tr>\n",
       "    <tr>\n",
       "      <th>1</th>\n",
       "      <td>65.10530082687417</td>\n",
       "      <td>20180211</td>\n",
       "      <td>65669</td>\n",
       "    </tr>\n",
       "    <tr>\n",
       "      <th>2</th>\n",
       "      <td>66.57815813100537</td>\n",
       "      <td>20180212</td>\n",
       "      <td>52349</td>\n",
       "    </tr>\n",
       "    <tr>\n",
       "      <th>3</th>\n",
       "      <td>67.00328480113636</td>\n",
       "      <td>20180213</td>\n",
       "      <td>45056</td>\n",
       "    </tr>\n",
       "    <tr>\n",
       "      <th>4</th>\n",
       "      <td>67.1164947944935</td>\n",
       "      <td>20180214</td>\n",
       "      <td>40534</td>\n",
       "    </tr>\n",
       "  </tbody>\n",
       "</table>\n",
       "</div>"
      ],
      "text/plain": [
       "       ga:bounceRate   ga:date ga:sessions\n",
       "0  68.11909466797297  20180210       60221\n",
       "1  65.10530082687417  20180211       65669\n",
       "2  66.57815813100537  20180212       52349\n",
       "3  67.00328480113636  20180213       45056\n",
       "4   67.1164947944935  20180214       40534"
      ]
     },
     "execution_count": 24,
     "metadata": {},
     "output_type": "execute_result"
    }
   ],
   "source": [
    "test"
   ]
  },
  {
   "cell_type": "code",
   "execution_count": 10,
   "metadata": {},
   "outputs": [],
   "source": [
    "json=json.load(open('/home/jian/Projects/Saatva/GA/GA_api_jubapluscc@gmail.com.json'))"
   ]
  },
  {
   "cell_type": "code",
   "execution_count": null,
   "metadata": {
    "collapsed": true
   },
   "outputs": [],
   "source": []
  },
  {
   "cell_type": "code",
   "execution_count": null,
   "metadata": {
    "collapsed": true
   },
   "outputs": [],
   "source": []
  },
  {
   "cell_type": "code",
   "execution_count": null,
   "metadata": {
    "collapsed": true
   },
   "outputs": [],
   "source": []
  },
  {
   "cell_type": "code",
   "execution_count": null,
   "metadata": {
    "collapsed": true
   },
   "outputs": [],
   "source": []
  },
  {
   "cell_type": "code",
   "execution_count": 13,
   "metadata": {},
   "outputs": [
    {
     "ename": "NameError",
     "evalue": "name 'self' is not defined",
     "output_type": "error",
     "traceback": [
      "\u001b[0;31m---------------------------------------------------------------------------\u001b[0m",
      "\u001b[0;31mNameError\u001b[0m                                 Traceback (most recent call last)",
      "\u001b[0;32m<ipython-input-13-97762f0be9e0>\u001b[0m in \u001b[0;36m<module>\u001b[0;34m()\u001b[0m\n\u001b[0;32m----> 1\u001b[0;31m response = self.analyticsreporting.reports().batchGet(\n\u001b[0m\u001b[1;32m      2\u001b[0m   body={\n\u001b[1;32m      3\u001b[0m     \"reportRequests\":[\n\u001b[1;32m      4\u001b[0m     {\n\u001b[1;32m      5\u001b[0m       \u001b[0;34m\"viewId\"\u001b[0m\u001b[0;34m:\u001b[0m\u001b[0;34m\"118913963\"\u001b[0m\u001b[0;34m,\u001b[0m\u001b[0;34m\u001b[0m\u001b[0m\n",
      "\u001b[0;31mNameError\u001b[0m: name 'self' is not defined"
     ]
    }
   ],
   "source": []
  },
  {
   "cell_type": "code",
   "execution_count": null,
   "metadata": {
    "collapsed": true
   },
   "outputs": [],
   "source": []
  }
 ],
 "metadata": {
  "kernelspec": {
   "display_name": "Python 3",
   "language": "python",
   "name": "python3"
  },
  "language_info": {
   "codemirror_mode": {
    "name": "ipython",
    "version": 3
   },
   "file_extension": ".py",
   "mimetype": "text/x-python",
   "name": "python",
   "nbconvert_exporter": "python",
   "pygments_lexer": "ipython3",
   "version": "3.6.1"
  }
 },
 "nbformat": 4,
 "nbformat_minor": 2
}
