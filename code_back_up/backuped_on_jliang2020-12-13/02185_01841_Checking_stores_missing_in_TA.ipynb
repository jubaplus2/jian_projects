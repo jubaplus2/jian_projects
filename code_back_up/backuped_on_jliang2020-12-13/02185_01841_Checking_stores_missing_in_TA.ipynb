{
 "cells": [
  {
   "cell_type": "code",
   "execution_count": 1,
   "metadata": {},
   "outputs": [
    {
     "data": {
      "text/plain": [
       "'/home/jian/Projects/Smoothie_King/Analysis'"
      ]
     },
     "execution_count": 1,
     "metadata": {},
     "output_type": "execute_result"
    }
   ],
   "source": [
    "import pandas as pd\n",
    "import glob\n",
    "import datetime\n",
    "import os\n",
    "\n",
    "os.getcwd()"
   ]
  },
  {
   "cell_type": "code",
   "execution_count": 2,
   "metadata": {},
   "outputs": [
    {
     "data": {
      "text/plain": [
       "6"
      ]
     },
     "execution_count": 2,
     "metadata": {},
     "output_type": "execute_result"
    }
   ],
   "source": [
    "store_list_investigation=[\"1074\",\"1046\",\"262\",\"1162\",\"1005\",'1841']\n",
    "len(store_list_investigation)"
   ]
  },
  {
   "cell_type": "code",
   "execution_count": 3,
   "metadata": {},
   "outputs": [],
   "source": [
    "weekly_sales_files=glob.glob(\"/home/jian/Projects/Smoothie_King/Weekly_Sales/*.xlsx\")\n",
    "weekly_sales_files=[x for x in weekly_sales_files if x.split(\"WeeklySalesSummaryData_\")[1][:8]>=\"20190801\"]\n"
   ]
  },
  {
   "cell_type": "code",
   "execution_count": 4,
   "metadata": {},
   "outputs": [],
   "source": [
    "all_store_sales=pd.DataFrame()\n",
    "for file in weekly_sales_files:\n",
    "    df=pd.read_excel(file,dtype=str)\n",
    "    df=df[df['StoreNumber'].isin(store_list_investigation)]\n",
    "    # df['date']=file.split(\"WeeklySalesSummaryData_\")[1][:8]\n",
    "    all_store_sales=all_store_sales.append(df)\n",
    "    all_store_sales['WeekEndDate']=all_store_sales['WeekEndDate'].apply(lambda x: x.split(\" \")[0])\n",
    "\n",
    "all_store_sales['NetSalesSmoothie']=all_store_sales['NetSalesSmoothie'].astype(float)\n",
    "all_store_sales['NetSalesSmoothie']=all_store_sales['NetSalesSmoothie'].fillna(0)\n",
    "\n",
    "all_store_sales=all_store_sales.pivot_table(index=\"StoreNumber\",columns=\"WeekEndDate\",values=\"NetSalesSmoothie\")\n",
    "all_store_sales=all_store_sales.fillna(0)"
   ]
  },
  {
   "cell_type": "code",
   "execution_count": 5,
   "metadata": {},
   "outputs": [],
   "source": [
    "all_store_sales.to_csv(\"./check_stores.csv\")"
   ]
  },
  {
   "cell_type": "code",
   "execution_count": null,
   "metadata": {
    "collapsed": true
   },
   "outputs": [],
   "source": []
  }
 ],
 "metadata": {
  "kernelspec": {
   "display_name": "Python 3",
   "language": "python",
   "name": "python3"
  },
  "language_info": {
   "codemirror_mode": {
    "name": "ipython",
    "version": 3
   },
   "file_extension": ".py",
   "mimetype": "text/x-python",
   "name": "python",
   "nbconvert_exporter": "python",
   "pygments_lexer": "ipython3",
   "version": "3.6.1"
  }
 },
 "nbformat": 4,
 "nbformat_minor": 2
}
