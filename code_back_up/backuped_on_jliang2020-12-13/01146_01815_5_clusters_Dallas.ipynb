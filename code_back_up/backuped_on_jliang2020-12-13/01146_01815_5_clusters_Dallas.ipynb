{
 "cells": [
  {
   "cell_type": "code",
   "execution_count": 1,
   "metadata": {
    "collapsed": true
   },
   "outputs": [],
   "source": [
    "import pandas as pd\n",
    "import sklearn"
   ]
  },
  {
   "cell_type": "code",
   "execution_count": 2,
   "metadata": {},
   "outputs": [
    {
     "data": {
      "text/plain": [
       "35972"
      ]
     },
     "execution_count": 2,
     "metadata": {},
     "output_type": "execute_result"
    }
   ],
   "source": [
    "import json\n",
    "zip_centers=json.load(open(\"/home/jian/Docs/Geo_mapping/center_of_rentrak_zip.json\",\"r\"))\n",
    "len(zip_centers)"
   ]
  },
  {
   "cell_type": "code",
   "execution_count": null,
   "metadata": {
    "collapsed": true
   },
   "outputs": [],
   "source": [
    "https://searchads.google.com/ds/cm/cm?utm_source=marketingplatform.google.com&utm_medium=et&utm_campaign=marketingplatform.google.com%2Fabout%2Fsearch-ads-360%2F#labels.ay=20100000000000932;av=21700000001474836;cols=stat,S,iilpe,irlee,chtraftd,chact,chuem,chtu,chst,chic,chtype,chng,h,bdate,edate,dv,cl,ntwk,age,gender,brvid,inmvid,dcmrmid,cvd(0),erli,sq,ssst,av,type,ea,eauth,eauthupdate,oprst,gon,bpstd,bpend,bps,aen,c,ipn,ipp,iflutl,ipletl,iples,iplente,itn,fst,fld,flbn,fcpn,fccc,fcot,fatext,faaid,fastore,eae,ag,agty,abn,abt,itcet,ierme,iertek,ierttec,at,asttxt,asttype,astgrptxt,dsah,dsacp,dsalpt,dsalpu,dsac0,dsac1,dsasc2,pubs,itletl,itles,ctxt,ptpm,pgpf,pgp,sqmecc,sqmenccc,sqmenagcc,ctype,fgn,fan,gan,chsum,vsq,est,bud,aet,aed,erln,uagtn,uagtt,agscpc,ccpc,bptgtcost,bpgp,opravgpos,bgmst,bgpsmip,bgpsmap,tgtcpa,tgters,tgtroas,ifnm,ifcid,ifcnm,iflesf,ifleff,itt,itexid,itcat,itqtycat,iip,itleff,irn,irat,ira,irpm,irklpt,irkmlpt,irtnl,irklo,iatn,iattftd,aestm,aeetm,exptat,cmgts,cmgbud,cmgbps,cmgtpe,cmgbpr,cmgbr,cmgdue,sqamt,ptcpc,pgcpc,pgrcpc,ebsname,ctt,awctc,awcts,awctefb,awctges,awctggst,trlbm,tlgn,tlgbm,osbm,dtcond,dtecpc,chtime,chusr,bsdn,ealss,tar,tagbm,tget,tgebm,xf,orsn,ormn,orce,ps,exptrat,exptval,exptci,click,cwss,impr,cost,ectr,cpc,avgp,pclick,pimpr,pectr,pcpc,pavgp,oclick,oimpr,oectr,oavgp,poclick,poimpr,noref,itprs;"
   ]
  }
 ],
 "metadata": {
  "kernelspec": {
   "display_name": "Python 3",
   "language": "python",
   "name": "python3"
  },
  "language_info": {
   "codemirror_mode": {
    "name": "ipython",
    "version": 3
   },
   "file_extension": ".py",
   "mimetype": "text/x-python",
   "name": "python",
   "nbconvert_exporter": "python",
   "pygments_lexer": "ipython3",
   "version": "3.6.1"
  }
 },
 "nbformat": 4,
 "nbformat_minor": 2
}
