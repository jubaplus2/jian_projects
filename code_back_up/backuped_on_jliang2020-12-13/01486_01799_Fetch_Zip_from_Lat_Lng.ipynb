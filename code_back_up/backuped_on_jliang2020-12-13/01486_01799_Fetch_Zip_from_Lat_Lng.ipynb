{
 "cells": [
  {
   "cell_type": "code",
   "execution_count": 1,
   "metadata": {
    "collapsed": true
   },
   "outputs": [],
   "source": [
    "import geocoder\n",
    "import pandas as pd\n",
    "import numpy as np\n",
    "import datetime\n",
    "import time\n",
    "import logging\n",
    "from haversine import haversine\n",
    "# logging.basicConfig(filename=\"celery\"+ str(datetime.datetime.now().date())+\".log\", level=logging.INFO)"
   ]
  },
  {
   "cell_type": "code",
   "execution_count": null,
   "metadata": {
    "collapsed": true
   },
   "outputs": [],
   "source": []
  },
  {
   "cell_type": "code",
   "execution_count": null,
   "metadata": {
    "collapsed": true
   },
   "outputs": [],
   "source": []
  },
  {
   "cell_type": "code",
   "execution_count": null,
   "metadata": {
    "collapsed": true
   },
   "outputs": [],
   "source": []
  },
  {
   "cell_type": "code",
   "execution_count": 29,
   "metadata": {
    "collapsed": true
   },
   "outputs": [],
   "source": [
    "rewards_data=pd.read_table(\"/home/jian/Projects/Smoothie_King/data/LoyaltyUser_103018.txt\",dtype=str,sep=\",\")"
   ]
  },
  {
   "cell_type": "code",
   "execution_count": 30,
   "metadata": {},
   "outputs": [
    {
     "name": "stderr",
     "output_type": "stream",
     "text": [
      "/usr/local/lib/python3.6/site-packages/ipykernel_launcher.py:2: SettingWithCopyWarning: \n",
      "A value is trying to be set on a copy of a slice from a DataFrame.\n",
      "Try using .loc[row_indexer,col_indexer] = value instead\n",
      "\n",
      "See the caveats in the documentation: http://pandas.pydata.org/pandas-docs/stable/indexing.html#indexing-view-versus-copy\n",
      "  \n",
      "/usr/local/lib/python3.6/site-packages/ipykernel_launcher.py:3: SettingWithCopyWarning: \n",
      "A value is trying to be set on a copy of a slice from a DataFrame.\n",
      "Try using .loc[row_indexer,col_indexer] = value instead\n",
      "\n",
      "See the caveats in the documentation: http://pandas.pydata.org/pandas-docs/stable/indexing.html#indexing-view-versus-copy\n",
      "  This is separate from the ipykernel package so we can avoid doing imports until\n",
      "/usr/local/lib/python3.6/site-packages/ipykernel_launcher.py:4: SettingWithCopyWarning: \n",
      "A value is trying to be set on a copy of a slice from a DataFrame.\n",
      "Try using .loc[row_indexer,col_indexer] = value instead\n",
      "\n",
      "See the caveats in the documentation: http://pandas.pydata.org/pandas-docs/stable/indexing.html#indexing-view-versus-copy\n",
      "  after removing the cwd from sys.path.\n",
      "/usr/local/lib/python3.6/site-packages/ipykernel_launcher.py:5: SettingWithCopyWarning: \n",
      "A value is trying to be set on a copy of a slice from a DataFrame.\n",
      "Try using .loc[row_indexer,col_indexer] = value instead\n",
      "\n",
      "See the caveats in the documentation: http://pandas.pydata.org/pandas-docs/stable/indexing.html#indexing-view-versus-copy\n",
      "  \"\"\"\n"
     ]
    }
   ],
   "source": [
    "rewards_data_df_TA=rewards_data[['user_id','zipcode','latitude','longitude']]\n",
    "rewards_data_df_TA['zipcode']=rewards_data_df_TA['zipcode'].fillna(\"0\")\n",
    "rewards_data_df_TA['zipcode']=rewards_data_df_TA['zipcode'].apply(lambda x: x.split(\"-\")[0].zfill(5))\n",
    "rewards_data_df_TA['latitude']=rewards_data_df_TA['latitude'].astype(float).apply(lambda x: np.round(x,6))\n",
    "rewards_data_df_TA['longitude']=rewards_data_df_TA['longitude'].astype(float).apply(lambda x: np.round(x,6))\n",
    "\n",
    "# Round to 6 digits which result in error about 0.14 meter"
   ]
  },
  {
   "cell_type": "code",
   "execution_count": 31,
   "metadata": {
    "collapsed": true
   },
   "outputs": [],
   "source": [
    "zips_TA=pd.read_excel(\"/home/jian/Projects/Smoothie_King/TA/SmoothieKing_TA_revised_3_miles_JL_2018-10-31.xlsx\",dtype=str,sheetname=\"zip_TA\")\n",
    "store_TA=pd.read_excel(\"/home/jian/Projects/Smoothie_King/TA/SmoothieKing_TA_revised_3_miles_JL_2018-10-31.xlsx\",dtype=str,sheetname=\"output_TA_by_store\")\n",
    "store_TA=store_TA[store_TA['status']!=\"NonComp\"]\n",
    "zips_TA=zips_TA[zips_TA['store'].isin(store_TA['storenumber'])]\n",
    "zips_in_TA_list=zips_TA['zip'].unique().tolist()\n",
    "stores_in_TA_list=store_TA['storenumber'].unique().tolist()"
   ]
  },
  {
   "cell_type": "markdown",
   "metadata": {},
   "source": [
    "# Step 1: Use zipcode in the rewards data to check in"
   ]
  },
  {
   "cell_type": "code",
   "execution_count": 32,
   "metadata": {
    "collapsed": true
   },
   "outputs": [],
   "source": [
    "rewards_data_df_TA_in=rewards_data_df_TA[(rewards_data_df_TA['zipcode'].isin(zips_in_TA_list))]\n",
    "rewards_data_df_TA_in['TA']=\"In\"\n",
    "rewards_data_df_TA_out=rewards_data_df_TA[~(rewards_data_df_TA['zipcode'].isin(zips_in_TA_list))]\n",
    "rewards_data_df_TA_out['TA']=\"Out\"\n",
    "unique_lat_lng_pair_in_out=rewards_data_df_TA_out[['latitude','longitude']].drop_duplicates()"
   ]
  },
  {
   "cell_type": "markdown",
   "metadata": {},
   "source": [
    "# Step 2: For those zipcodes not in, check lat lng"
   ]
  },
  {
   "cell_type": "code",
   "execution_count": 33,
   "metadata": {
    "collapsed": true
   },
   "outputs": [],
   "source": [
    "unique_lat_lng_pair_in_out=rewards_data_df_TA_out[['latitude','longitude']].drop_duplicates()\n",
    "unique_lat_lng_pair_in_out=unique_lat_lng_pair_in_out.reset_index()\n",
    "del unique_lat_lng_pair_in_out['index']\n",
    "unique_lat_lng_pair_in_out['Bing_zip']=np.nan\n",
    "unique_lat_lng_pair_in_out['Bing_lat']=np.nan\n",
    "unique_lat_lng_pair_in_out['Bing_lng']=np.nan\n",
    "unique_lat_lng_pair_in_out['Bing_return_dist']=np.nan\n",
    "unique_lat_lng_pair_in_out['Bing_Address']=np.nan"
   ]
  },
  {
   "cell_type": "code",
   "execution_count": 34,
   "metadata": {},
   "outputs": [
    {
     "name": "stdout",
     "output_type": "stream",
     "text": [
      "2018-11-05 16:41:13.591414: Start to run Bing Map\n"
     ]
    }
   ],
   "source": [
    "key_1=\"AuR1ORKdndGqHaD4jiql1C5Inwmc5BOqJrlo5joEAb2Yljp5aizGIN7IVoxJNcim\"\n",
    "key_2=\"AqKD9pWS14y4TYe2SHAiss2hgu2g8WbH4jqHE2fkFFh_TwMJVzyh2s51ZYhUvDjd\"\n",
    "key_3=\"AgkMFg3p8ay9X30Ki1BUBaEm5I9Q7aYeevjrgthjqZCwNXR_5wJjWpgA8rlR13Lb\"\n",
    "key_4=\"AjFG9KoflGW48sPgVbrD6mnfdhQvh11fHQW74h4LcVrYbTiKOH8X2j9rDee7m5nt\"\n",
    "key_5=\"Atad91C2OX9gdh8CpuyWU4cBFOsqi1WF_S3GlaNU5PY4txgcvX2oQXeZ98AJ6OhY\"\n",
    "key_6=\"Ags3k581BNyCFut0Vo4YvlUP1ccQU1AgWjVawe7FrReB-I_jL-ck-xxDp1c4DyBn\"\n",
    "key_7=\"AgvsfKzpX7lz1jfQOUV5URxhMwdNWa0w3gHwUZjmekfHBj-dg3I9yNbwZErlzSW-\"\n",
    "key_8=\"AvN6wkXmVKIhUw5NsqoyxKoRZ_u9ZvEnSBQEoscOiBlNQg23RIPaA1gDRszp9W2N\"\n",
    "\n",
    "key_list=[key_1,key_2,key_3,key_4,key_5,key_6,key_7,key_8]\n",
    "# All tested to be workable\n",
    "print(str(datetime.datetime.now())+\": Start to run Bing Map\")\n",
    "output_lat_long=pd.DataFrame()\n",
    "\n",
    "# Can be optimised later through \"batch_reverse\" method"
   ]
  },
  {
   "cell_type": "code",
   "execution_count": 36,
   "metadata": {},
   "outputs": [
    {
     "name": "stderr",
     "output_type": "stream",
     "text": [
      "/usr/local/lib/python3.6/site-packages/ipykernel_launcher.py:42: SettingWithCopyWarning: \n",
      "A value is trying to be set on a copy of a slice from a DataFrame\n",
      "\n",
      "See the caveats in the documentation: http://pandas.pydata.org/pandas-docs/stable/indexing.html#indexing-view-versus-copy\n",
      "/usr/local/lib/python3.6/site-packages/ipykernel_launcher.py:38: SettingWithCopyWarning: \n",
      "A value is trying to be set on a copy of a slice from a DataFrame\n",
      "\n",
      "See the caveats in the documentation: http://pandas.pydata.org/pandas-docs/stable/indexing.html#indexing-view-versus-copy\n",
      "/usr/local/lib/python3.6/site-packages/ipykernel_launcher.py:39: SettingWithCopyWarning: \n",
      "A value is trying to be set on a copy of a slice from a DataFrame\n",
      "\n",
      "See the caveats in the documentation: http://pandas.pydata.org/pandas-docs/stable/indexing.html#indexing-view-versus-copy\n",
      "/usr/local/lib/python3.6/site-packages/ipykernel_launcher.py:40: SettingWithCopyWarning: \n",
      "A value is trying to be set on a copy of a slice from a DataFrame\n",
      "\n",
      "See the caveats in the documentation: http://pandas.pydata.org/pandas-docs/stable/indexing.html#indexing-view-versus-copy\n",
      "/usr/local/lib/python3.6/site-packages/ipykernel_launcher.py:41: SettingWithCopyWarning: \n",
      "A value is trying to be set on a copy of a slice from a DataFrame\n",
      "\n",
      "See the caveats in the documentation: http://pandas.pydata.org/pandas-docs/stable/indexing.html#indexing-view-versus-copy\n"
     ]
    },
    {
     "name": "stdout",
     "output_type": "stream",
     "text": [
      "Finished of i: 0 2018-11-05 16:44:12.202861\n"
     ]
    }
   ],
   "source": [
    "for i in range(int(np.ceil(unique_lat_lng_pair_in_out.shape[0]/100000))):\n",
    "    df=unique_lat_lng_pair_in_out.iloc[i*100000:(i+1)*100000,].reset_index()\n",
    "    key_bing=key_list[i]\n",
    "    del df['index']\n",
    "    for j in range(len(df)):\n",
    "        coordinate_pair=[df['latitude'][j],df['longitude'][j]]\n",
    "        try:\n",
    "            response=geocoder.bing(coordinate_pair,key=key_bing,method=\"reverse\")\n",
    "        except:\n",
    "            response=[]\n",
    "            \n",
    "            \n",
    "        try:\n",
    "            bing_lat=response.latlng[0]\n",
    "        except:\n",
    "            bing_lat=np.nan\n",
    "            \n",
    "        try:\n",
    "            bing_lng=response.latlng[1]\n",
    "        except:\n",
    "            bing_lng=np.nan\n",
    "        \n",
    "        try:\n",
    "            bing_address=response.address\n",
    "        except:\n",
    "            bing_address=np.nan\n",
    "        \n",
    "        try:\n",
    "            bing_postal=response.postal\n",
    "        except:\n",
    "            bing_postal=np.nan    \n",
    "            \n",
    "        try:\n",
    "            dist=haversine(coordinate_pair,[bing_lat,bing_lng],miles=True)\n",
    "        except:\n",
    "            dist=np.nan\n",
    "            \n",
    "        df['Bing_lat'][j]=bing_lat\n",
    "        df['Bing_lng'][j]=bing_lng\n",
    "        df['Bing_zip'][j]=bing_postal\n",
    "        df['Bing_Address'][j]=bing_address\n",
    "        df['Bing_return_dist'][j]=dist\n",
    "        time.sleep(1)\n",
    "        \n",
    "        if j%33==1:\n",
    "            time.sleep(0.1)\n",
    "        if j%1000==999:\n",
    "            time.sleep(1.2)\n",
    "            print(\"i: \"+str(i)+\"|j: \"+str(j)+\" \"+str(datetime.datetime.now()))\n",
    "            \n",
    "    time.sleep(61)\n",
    "    print(\"Finished of i: \"+str(i)+\" \"+str(datetime.datetime.now()))\n",
    "    df.to_csv(\"/home/jian/Projects/Smoothie_King/Rewards_Zip/SK_Unique_lat_lng_pair_JL_key_\"+str(i)+\"_\"+str(datetime.datetime.now().date())+\".csv\",index=False)\n",
    "    output_lat_long=output_lat_long.append(df)"
   ]
  },
  {
   "cell_type": "code",
   "execution_count": 37,
   "metadata": {
    "collapsed": true
   },
   "outputs": [],
   "source": [
    "output_lat_long.to_csv(\"/home/jian/Projects/Smoothie_King/Rewards_Zip/SK_Unique_lat_lng_pair_JL_\"+str(datetime.datetime.now())+\".csv\",index=False)\n"
   ]
  },
  {
   "cell_type": "code",
   "execution_count": 38,
   "metadata": {},
   "outputs": [
    {
     "name": "stdout",
     "output_type": "stream",
     "text": [
      "1\n",
      "2\n",
      "3\n",
      "4\n",
      "5\n",
      "6\n"
     ]
    },
    {
     "name": "stderr",
     "output_type": "stream",
     "text": [
      "/usr/local/lib/python3.6/site-packages/ipykernel_launcher.py:8: SettingWithCopyWarning: \n",
      "A value is trying to be set on a copy of a slice from a DataFrame\n",
      "\n",
      "See the caveats in the documentation: http://pandas.pydata.org/pandas-docs/stable/indexing.html#indexing-view-versus-copy\n",
      "  \n"
     ]
    }
   ],
   "source": [
    "output_lat_long['Bing_zip']=output_lat_long['Bing_zip'].fillna(\"0\")\n",
    "print(\"1\")\n",
    "\n",
    "output_lat_long['Bing_zip']=output_lat_long['Bing_zip'].apply(lambda x: str(x).split(\"-\")[0].split(\".\")[0].zfill(5))\n",
    "print(\"2\")\n",
    "rewards_data_df_TA_out=pd.merge(rewards_data_df_TA_out,output_lat_long,on=['latitude','longitude'],how=\"left\")\n",
    "print(\"3\")\n",
    "rewards_data_df_TA_out['TA'][rewards_data_df_TA_out['Bing_zip'].isin(zips_in_TA_list)]=\"In\"\n",
    "print(\"4\")\n",
    "rewards_output_with_ind=rewards_data_df_TA_in.append(rewards_data_df_TA_out)\n",
    "print(\"5\")\n",
    "rewards_output_with_ind.to_csv(\"/home/jian/Projects/Smoothie_King/Rewards_Zip/SK_Rewards_in_or_out_TA_JL_\"+str(datetime.datetime.now().date())+\".csv\",index=False)\n",
    "print(\"6\")"
   ]
  },
  {
   "cell_type": "code",
   "execution_count": 41,
   "metadata": {},
   "outputs": [
    {
     "name": "stdout",
     "output_type": "stream",
     "text": [
      "Done2018-11-05 17:03:14.150590\n"
     ]
    }
   ],
   "source": [
    "df_to_merge=rewards_output_with_ind[['user_id','TA','Bing_zip']]\n",
    "final_output=pd.merge(rewards_data,df_to_merge,on=\"user_id\",how=\"left\")\n",
    "final_output.to_csv(\"/home/jian/Projects/Smoothie_King/Rewards_Zip/SK_Rewards_with_TA_index_JL_\"+str(datetime.datetime.now().date())+\".csv\",index=False)\n",
    "print(\"Done\"+str(datetime.datetime.now()))"
   ]
  },
  {
   "cell_type": "code",
   "execution_count": null,
   "metadata": {
    "collapsed": true
   },
   "outputs": [],
   "source": []
  }
 ],
 "metadata": {
  "kernelspec": {
   "display_name": "Python 3",
   "language": "python",
   "name": "python3"
  },
  "language_info": {
   "codemirror_mode": {
    "name": "ipython",
    "version": 3
   },
   "file_extension": ".py",
   "mimetype": "text/x-python",
   "name": "python",
   "nbconvert_exporter": "python",
   "pygments_lexer": "ipython3",
   "version": "3.6.1"
  }
 },
 "nbformat": 4,
 "nbformat_minor": 2
}
