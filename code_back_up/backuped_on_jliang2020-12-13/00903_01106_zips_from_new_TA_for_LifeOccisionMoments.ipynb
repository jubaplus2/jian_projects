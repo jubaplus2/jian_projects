{
 "cells": [
  {
   "cell_type": "code",
   "execution_count": 1,
   "metadata": {},
   "outputs": [
    {
     "data": {
      "text/plain": [
       "'/home/jian/Projects/Big_Lots/Analysis/2019_Q3/Planner_request/Faith_zips_for_LifeOccasionMoments_20190820'"
      ]
     },
     "execution_count": 1,
     "metadata": {},
     "output_type": "execute_result"
    }
   ],
   "source": [
    "import pandas as pd\n",
    "import datetime\n",
    "import os\n",
    "import numpy as np\n",
    "import json\n",
    "from haversine import haversine\n",
    "zip_centers=json.load(open(\"/home/jian/Docs/Geo_mapping/updated_zip_centers_JL_2019-05-23.json\",\"r\"))\n",
    "\n",
    "os.getcwd()"
   ]
  },
  {
   "cell_type": "code",
   "execution_count": 2,
   "metadata": {},
   "outputs": [],
   "source": [
    "store_list=pd.read_excel(\"./BL_Life'sOccasions_trafficdriver_12 Zips 6.21.2019.xlsx\",sheetname=\"zips_by_store\",dtype=str)\n",
    "df_output=store_list[:]\n",
    "del df_output['zip']\n",
    "del df_output['revenue_flag']\n",
    "del df_output['dist_miles']\n",
    "df_output=df_output.drop_duplicates()\n",
    "store_list=store_list['location_id'].unique().tolist()\n"
   ]
  },
  {
   "cell_type": "code",
   "execution_count": 3,
   "metadata": {},
   "outputs": [
    {
     "name": "stdout",
     "output_type": "stream",
     "text": [
      "['unique_zips_full_footprint', 'view_by_TA', 'view_by_store']\n"
     ]
    }
   ],
   "source": [
    "new_ta_zips=pd.ExcelFile(\"/home/jian/Projects/Big_Lots/New_TA/TA_created_in_201906/final_output_20190718/BL_final_TA_updated_remove_8_closing_stores_JL_2019-08-20.xlsx\")\n",
    "print(new_ta_zips.sheet_names)\n",
    "df_TA_by_store=new_ta_zips.parse(\"view_by_store\",dtype=str)"
   ]
  },
  {
   "cell_type": "code",
   "execution_count": 4,
   "metadata": {},
   "outputs": [
    {
     "data": {
      "text/plain": [
       "(12, 8)"
      ]
     },
     "execution_count": 4,
     "metadata": {},
     "output_type": "execute_result"
    }
   ],
   "source": [
    "df_output.shape"
   ]
  },
  {
   "cell_type": "code",
   "execution_count": 5,
   "metadata": {},
   "outputs": [
    {
     "name": "stdout",
     "output_type": "stream",
     "text": [
      "(170, 3)\n",
      "12\n"
     ]
    }
   ],
   "source": [
    "df_iter=df_TA_by_store[df_TA_by_store['location_id'].isin(store_list)]\n",
    "df_iter=df_iter.reset_index()\n",
    "del df_iter['index']\n",
    "\n",
    "df_output_store_zip=pd.DataFrame()\n",
    "for ind, row in df_iter.iterrows():\n",
    "    store_number=row['location_id']\n",
    "    P_zip_list=eval(row['all_trans_P_zips'])\n",
    "    S_zip_list=eval(row['all_trans_S_zips'])\n",
    "    \n",
    "    df_P=pd.DataFrame({\"zip_cd\":P_zip_list},index=[\"P\"]*len(P_zip_list)).reset_index().rename(columns={\"index\":\"transaction_flag\"})\n",
    "    df_P['location_id']=store_number\n",
    "    \n",
    "    df_S=pd.DataFrame({\"zip_cd\":S_zip_list},index=[\"S\"]*len(S_zip_list)).reset_index().rename(columns={\"index\":\"transaction_flag\"})\n",
    "    df_S['location_id']=store_number\n",
    "    \n",
    "    \n",
    "    df_output_store_zip=df_output_store_zip.append(df_P)\n",
    "    df_output_store_zip=df_output_store_zip.append(df_S)\n",
    "print(df_output_store_zip.shape)\n",
    "print(df_output_store_zip['location_id'].nunique())\n",
    "df_output=pd.merge(df_output,df_output_store_zip,on=\"location_id\",how=\"left\")"
   ]
  },
  {
   "cell_type": "code",
   "execution_count": 6,
   "metadata": {},
   "outputs": [
    {
     "data": {
      "text/html": [
       "<div>\n",
       "<style>\n",
       "    .dataframe thead tr:only-child th {\n",
       "        text-align: right;\n",
       "    }\n",
       "\n",
       "    .dataframe thead th {\n",
       "        text-align: left;\n",
       "    }\n",
       "\n",
       "    .dataframe tbody tr th {\n",
       "        vertical-align: top;\n",
       "    }\n",
       "</style>\n",
       "<table border=\"1\" class=\"dataframe\">\n",
       "  <thead>\n",
       "    <tr style=\"text-align: right;\">\n",
       "      <th></th>\n",
       "      <th>location_id</th>\n",
       "      <th>store_zip</th>\n",
       "      <th>latitude_meas</th>\n",
       "      <th>longitude_meas</th>\n",
       "      <th>address_line_1</th>\n",
       "      <th>address_line_2</th>\n",
       "      <th>city_nm</th>\n",
       "      <th>state_nm</th>\n",
       "      <th>transaction_flag</th>\n",
       "      <th>zip_cd</th>\n",
       "    </tr>\n",
       "  </thead>\n",
       "  <tbody>\n",
       "    <tr>\n",
       "      <th>0</th>\n",
       "      <td>153</td>\n",
       "      <td>45030</td>\n",
       "      <td>39.25928</td>\n",
       "      <td>-84.803908</td>\n",
       "      <td>10939 NEW HAVEN RD</td>\n",
       "      <td>nan</td>\n",
       "      <td>HARRISON</td>\n",
       "      <td>OH</td>\n",
       "      <td>P</td>\n",
       "      <td>45030</td>\n",
       "    </tr>\n",
       "    <tr>\n",
       "      <th>1</th>\n",
       "      <td>153</td>\n",
       "      <td>45030</td>\n",
       "      <td>39.25928</td>\n",
       "      <td>-84.803908</td>\n",
       "      <td>10939 NEW HAVEN RD</td>\n",
       "      <td>nan</td>\n",
       "      <td>HARRISON</td>\n",
       "      <td>OH</td>\n",
       "      <td>P</td>\n",
       "      <td>47060</td>\n",
       "    </tr>\n",
       "  </tbody>\n",
       "</table>\n",
       "</div>"
      ],
      "text/plain": [
       "  location_id store_zip latitude_meas longitude_meas      address_line_1  \\\n",
       "0         153     45030      39.25928     -84.803908  10939 NEW HAVEN RD   \n",
       "1         153     45030      39.25928     -84.803908  10939 NEW HAVEN RD   \n",
       "\n",
       "  address_line_2   city_nm state_nm transaction_flag zip_cd  \n",
       "0            nan  HARRISON       OH                P  45030  \n",
       "1            nan  HARRISON       OH                P  47060  "
      ]
     },
     "execution_count": 6,
     "metadata": {},
     "output_type": "execute_result"
    }
   ],
   "source": [
    "df_output.head(2)"
   ]
  },
  {
   "cell_type": "code",
   "execution_count": 7,
   "metadata": {},
   "outputs": [],
   "source": [
    "df_output['latitude_meas']=df_output['latitude_meas'].astype(float)\n",
    "df_output['longitude_meas']=df_output['longitude_meas'].astype(float)\n",
    "df_output=df_output.reset_index()\n",
    "del df_output['index']\n",
    "df_output['dist_miles']=np.nan\n",
    "for ind, row in df_output.iterrows():\n",
    "    zip_cd=row['zip_cd']\n",
    "    try:\n",
    "        dist=haversine((row['latitude_meas'],row['longitude_meas']),zip_centers[zip_cd],miles=True)\n",
    "    except:\n",
    "        dist=np.nan\n",
    "        \n",
    "    df_output.loc[ind,\"dist_miles\"]=dist\n",
    "    \n",
    "        \n",
    "        "
   ]
  },
  {
   "cell_type": "code",
   "execution_count": 8,
   "metadata": {},
   "outputs": [],
   "source": [
    "df_output=df_output[((df_output['transaction_flag']==\"P\") | (df_output['dist_miles']<=20))]"
   ]
  },
  {
   "cell_type": "code",
   "execution_count": 9,
   "metadata": {},
   "outputs": [
    {
     "data": {
      "text/plain": [
       "(90, 2)"
      ]
     },
     "execution_count": 9,
     "metadata": {},
     "output_type": "execute_result"
    }
   ],
   "source": [
    "df_unique_zip=df_output[['zip_cd','transaction_flag']].drop_duplicates()\n",
    "df_unique_zip=df_unique_zip.sort_values([\"zip_cd\",\"transaction_flag\"]).drop_duplicates(\"zip_cd\")\n",
    "df_unique_zip=df_unique_zip.sort_values(\"transaction_flag\")\n",
    "df_unique_zip.shape"
   ]
  },
  {
   "cell_type": "code",
   "execution_count": 10,
   "metadata": {
    "collapsed": true
   },
   "outputs": [],
   "source": [
    "writer=pd.ExcelWriter(\"./BL_Life'sOccasions_trafficdriver_12 Zips 6.21.2019_JL_2019-08-20.xlsx\",engine=\"xlsxwriter\")\n",
    "df_unique_zip.to_excel(writer,\"unique_zips_full_footprint\",index=False)\n",
    "df_output.to_excel(writer,\"zips_by_store\",index=False)\n",
    "writer.save()"
   ]
  }
 ],
 "metadata": {
  "kernelspec": {
   "display_name": "Python 3",
   "language": "python",
   "name": "python3"
  },
  "language_info": {
   "codemirror_mode": {
    "name": "ipython",
    "version": 3
   },
   "file_extension": ".py",
   "mimetype": "text/x-python",
   "name": "python",
   "nbconvert_exporter": "python",
   "pygments_lexer": "ipython3",
   "version": "3.6.1"
  }
 },
 "nbformat": 4,
 "nbformat_minor": 2
}
