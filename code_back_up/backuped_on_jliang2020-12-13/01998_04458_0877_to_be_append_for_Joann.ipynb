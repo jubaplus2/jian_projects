{
 "cells": [
  {
   "cell_type": "code",
   "execution_count": 19,
   "metadata": {
    "collapsed": true
   },
   "outputs": [],
   "source": [
    "import pandas as pd\n",
    "import os"
   ]
  },
  {
   "cell_type": "code",
   "execution_count": 20,
   "metadata": {
    "collapsed": true
   },
   "outputs": [],
   "source": [
    "df_example=pd.read_table(\"/home/jian/Projects/Smoothie_King/SK_celery/Location_Format_from_Joann/location.txt\",dtype=str,sep=\"\\t\",header=None)\n"
   ]
  },
  {
   "cell_type": "code",
   "execution_count": 21,
   "metadata": {},
   "outputs": [
    {
     "data": {
      "text/html": [
       "<div>\n",
       "<style>\n",
       "    .dataframe thead tr:only-child th {\n",
       "        text-align: right;\n",
       "    }\n",
       "\n",
       "    .dataframe thead th {\n",
       "        text-align: left;\n",
       "    }\n",
       "\n",
       "    .dataframe tbody tr th {\n",
       "        vertical-align: top;\n",
       "    }\n",
       "</style>\n",
       "<table border=\"1\" class=\"dataframe\">\n",
       "  <thead>\n",
       "    <tr style=\"text-align: right;\">\n",
       "      <th></th>\n",
       "      <th>0</th>\n",
       "      <th>1</th>\n",
       "      <th>2</th>\n",
       "    </tr>\n",
       "  </thead>\n",
       "  <tbody>\n",
       "    <tr>\n",
       "      <th>0</th>\n",
       "      <td>ZipAll</td>\n",
       "      <td>adgeolocation:adzipcode</td>\n",
       "      <td>39649</td>\n",
       "    </tr>\n",
       "    <tr>\n",
       "      <th>1</th>\n",
       "      <td>ZipAll</td>\n",
       "      <td>adgeolocation:adzipcode</td>\n",
       "      <td>33128</td>\n",
       "    </tr>\n",
       "  </tbody>\n",
       "</table>\n",
       "</div>"
      ],
      "text/plain": [
       "        0                        1      2\n",
       "0  ZipAll  adgeolocation:adzipcode  39649\n",
       "1  ZipAll  adgeolocation:adzipcode  33128"
      ]
     },
     "execution_count": 21,
     "metadata": {},
     "output_type": "execute_result"
    }
   ],
   "source": [
    "df_example.head(2)"
   ]
  },
  {
   "cell_type": "code",
   "execution_count": 22,
   "metadata": {
    "collapsed": true
   },
   "outputs": [],
   "source": [
    "my_TA_zips=pd.read_excel(\"/home/jian/Projects/Smoothie_King/weekly_TA_updates/output_20190218/SmoothieKing_TA_of_3_miles_zips_JL_2019-02-21.xlsx\",sheetname=\"zip_TA\",dtype=str,usecols=['zip'])\n",
    "my_TA_zips=my_TA_zips.drop_duplicates()\n",
    "my_TA_zips['ZipAll']=[df_example[0][0]]*len(my_TA_zips)\n",
    "my_TA_zips['adgeolocation:adzipcode']=[df_example[1][0]]*len(my_TA_zips)\n",
    "my_TA_zips=my_TA_zips[['ZipAll','adgeolocation:adzipcode','zip']]"
   ]
  },
  {
   "cell_type": "code",
   "execution_count": 23,
   "metadata": {
    "collapsed": true
   },
   "outputs": [],
   "source": [
    "my_TA_zips.to_csv(\"/home/jian/Projects/Smoothie_King/SK_celery/Location_Format_from_Joann/location_test.csv\",header=None,index=None,sep=\"\\t\")"
   ]
  },
  {
   "cell_type": "code",
   "execution_count": null,
   "metadata": {
    "collapsed": true
   },
   "outputs": [],
   "source": []
  }
 ],
 "metadata": {
  "kernelspec": {
   "display_name": "Python 3",
   "language": "python",
   "name": "python3"
  },
  "language_info": {
   "codemirror_mode": {
    "name": "ipython",
    "version": 3
   },
   "file_extension": ".py",
   "mimetype": "text/x-python",
   "name": "python",
   "nbconvert_exporter": "python",
   "pygments_lexer": "ipython3",
   "version": "3.6.1"
  }
 },
 "nbformat": 4,
 "nbformat_minor": 2
}
