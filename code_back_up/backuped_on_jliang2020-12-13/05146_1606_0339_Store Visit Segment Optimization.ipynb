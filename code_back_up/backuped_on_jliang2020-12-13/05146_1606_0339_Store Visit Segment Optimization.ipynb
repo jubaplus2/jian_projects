{
 "cells": [
  {
   "cell_type": "code",
   "execution_count": 198,
   "metadata": {
    "collapsed": true
   },
   "outputs": [],
   "source": [
    "import pandas as pd\n",
    "import numpy as np"
   ]
  },
  {
   "cell_type": "code",
   "execution_count": 199,
   "metadata": {
    "collapsed": true
   },
   "outputs": [],
   "source": [
    "# Results as store visits\n",
    "P_Campaign=pd.read_csv(\"/home/jian/Projects/Big_Lots/Facebook/P_Big-Lots-MS-Ad-Sets-Feb-25-2018-Mar-10-2018.csv\",dtype=str)\n",
    "S_Campaign=pd.read_csv(\"/home/jian/Projects/Big_Lots/Facebook/S_Big-Lots-MS-Ad-Sets-Feb-25-2018-Mar-10-2018.csv\",dtype=str)"
   ]
  },
  {
   "cell_type": "code",
   "execution_count": 200,
   "metadata": {
    "collapsed": true
   },
   "outputs": [],
   "source": [
    "Start_Date=P_Campaign['Reporting Starts'].unique()[0]\n",
    "End_Date=P_Campaign['Reporting Ends'].unique()[0]"
   ]
  },
  {
   "cell_type": "code",
   "execution_count": 201,
   "metadata": {
    "collapsed": true
   },
   "outputs": [],
   "source": [
    "def clean_df(df):\n",
    "    df=df[['Reporting Starts','Reporting Ends','Ad Set Name','Results','Cost per Results','Amount Spent (USD)']]\n",
    "    df=df.rename(columns={\"Reporting Starts\":\"Start_Time\",\"Reporting Ends\":\"End_Time\",\"Ad Set Name\":\"Ad_Set_Name\",\"Results\":\"Visits\",\"Amount Spent (USD)\":\"Cost\",\"Cost per Results\":\"CPSV\"})\n",
    "    df['Visits']=df['Visits'].astype(int)\n",
    "    df['Cost']=df['Cost'].astype(float)\n",
    "    df['CPSV']=df['CPSV'].astype(float)\n",
    "    df=df[df['Visits']>0]\n",
    "    df['Ad_Set_Name_Layer']=df['Ad_Set_Name'].apply(lambda x: len(x.split(\"_\")))\n",
    "    df=df[df['Ad_Set_Name_Layer']==5]\n",
    "    df['Zip_Type']=df['Ad_Set_Name'].apply(lambda x: x.split(\"_\")[0])\n",
    "    df['Product']=df['Ad_Set_Name'].apply(lambda x: x.split(\"_\")[1])\n",
    "    df['Family_Status']=df['Ad_Set_Name'].apply(lambda x: x.split(\"_\")[2])\n",
    "    df['Retailer']=df['Ad_Set_Name'].apply(lambda x: x.split(\"_\")[3])\n",
    "    df['Income']=df['Ad_Set_Name'].apply(lambda x: x.split(\"_\")[4])\n",
    "    df.reset_index(inplace=True)\n",
    "    del df['index']\n",
    "    \n",
    "    df['Std_Visits']=df['Visits'].apply(lambda x: (x-df['Visits'].mean())/df['Visits'].std())\n",
    "    df['Std_CPSV']=df['CPSV'].apply(lambda x: (x-df['CPSV'].mean())/df['CPSV'].std())\n",
    "    df['Score']=df['Std_Visits']*1.5-df['Std_CPSV']\n",
    "    df=df.sort_values('Score', ascending=False)\n",
    "    \n",
    "    del df['Ad_Set_Name_Layer']\n",
    "    return df"
   ]
  },
  {
   "cell_type": "code",
   "execution_count": 202,
   "metadata": {},
   "outputs": [],
   "source": [
    "P_Campaign_output=clean_df(P_Campaign)\n",
    "S_Campaign_output=clean_df(S_Campaign)"
   ]
  },
  {
   "cell_type": "code",
   "execution_count": 203,
   "metadata": {},
   "outputs": [],
   "source": [
    "writer=pd.ExcelWriter('/home/jian/Projects/Big_Lots/Facebook/Optimized_from'+Start_Date+\"_to_\"+End_Date+\".xlsx\", engine='xlsxwriter')\n",
    "P_Campaign_output.to_excel(writer,\"P_Zips\",index=False)\n",
    "S_Campaign_output.to_excel(writer,\"S_Zips\",index=False)"
   ]
  },
  {
   "cell_type": "code",
   "execution_count": 204,
   "metadata": {},
   "outputs": [
    {
     "data": {
      "text/plain": [
       "\"\\nformat_money_4 = workbook.add_format({'num_format':'$#,##0.0000'})\\nformat_money_2 = workbook.add_format({'num_format':'$#,##0.00'})\\n\\nworksheet_P.set_column('E:E', None, format_money_4)\\nworksheet_S.set_column('E:E', None, format_money_4)\\nworksheet_P.set_column('F:F', None, format_money_2)\\nworksheet_S.set_column('F:F', None, format_money_2)\\n\""
      ]
     },
     "execution_count": 204,
     "metadata": {},
     "output_type": "execute_result"
    }
   ],
   "source": [
    "workbook  = writer.book\n",
    "worksheet_P = writer.sheets['P_Zips']\n",
    "worksheet_S = writer.sheets['S_Zips']\n",
    "'''\n",
    "format_money_4 = workbook.add_format({'num_format':'$#,##0.0000'})\n",
    "format_money_2 = workbook.add_format({'num_format':'$#,##0.00'})\n",
    "\n",
    "worksheet_P.set_column('E:E', None, format_money_4)\n",
    "worksheet_S.set_column('E:E', None, format_money_4)\n",
    "worksheet_P.set_column('F:F', None, format_money_2)\n",
    "worksheet_S.set_column('F:F', None, format_money_2)\n",
    "'''\n"
   ]
  },
  {
   "cell_type": "code",
   "execution_count": 205,
   "metadata": {},
   "outputs": [],
   "source": [
    "format_color_top = workbook.add_format()\n",
    "format_color_top.set_bg_color('#ABEBC6')\n",
    "\n",
    "format_color_bottom = workbook.add_format()\n",
    "format_color_bottom.set_bg_color('#FDEBD0')\n",
    "\n",
    "for i in range(14):\n",
    "    worksheet_P.set_row(row=i,cell_format=format_color_top)\n",
    "    worksheet_S.set_row(row=i,cell_format=format_color_top)\n",
    "for i in range(6):\n",
    "    worksheet_P.set_row(row=len(P_Campaign_output)-i,cell_format=format_color_bottom)\n",
    "    worksheet_S.set_row(row=len(P_Campaign_output)-i,cell_format=format_color_bottom)\n",
    "    \n",
    "writer.save()"
   ]
  },
  {
   "cell_type": "code",
   "execution_count": null,
   "metadata": {
    "collapsed": true
   },
   "outputs": [],
   "source": []
  },
  {
   "cell_type": "code",
   "execution_count": null,
   "metadata": {
    "collapsed": true
   },
   "outputs": [],
   "source": []
  }
 ],
 "metadata": {
  "kernelspec": {
   "display_name": "Python 3",
   "language": "python",
   "name": "python3"
  },
  "language_info": {
   "codemirror_mode": {
    "name": "ipython",
    "version": 3
   },
   "file_extension": ".py",
   "mimetype": "text/x-python",
   "name": "python",
   "nbconvert_exporter": "python",
   "pygments_lexer": "ipython3",
   "version": "3.6.1"
  }
 },
 "nbformat": 4,
 "nbformat_minor": 2
}
