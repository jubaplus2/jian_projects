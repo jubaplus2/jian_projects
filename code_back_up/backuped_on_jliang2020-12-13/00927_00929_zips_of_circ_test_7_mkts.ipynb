{
 "cells": [
  {
   "cell_type": "code",
   "execution_count": 1,
   "metadata": {},
   "outputs": [],
   "source": [
    "import pandas as pd\n",
    "import json\n",
    "import numpy as np\n",
    "import datetime\n",
    "import os\n",
    "from haversine import haversine\n",
    "os.getcwd()\n",
    "\n",
    "zip_centers=json.load(open(\"/home/jian/Docs/Geo_mapping/updated_zip_centers_JL_2019-05-23.json\",\"r\"))"
   ]
  },
  {
   "cell_type": "code",
   "execution_count": 2,
   "metadata": {
    "collapsed": true
   },
   "outputs": [],
   "source": [
    "# Email from Bruce 20190523 4:24 pm\n",
    "\n",
    "'''\n",
    "Detroit\n",
    "Greensboro HP WS\n",
    "Hartford & New Haven\n",
    "Jacksonville\n",
    "Kansas City\n",
    "Oklahoma City\n",
    "Portland\n",
    "'''\n",
    "\n",
    "zip_DMA=pd.read_excel(\"/home/jian/Docs/Geo_mapping/Zips by DMA by County16-17 nielsen.xlsx\",dtype=str,skiprows=1,usecols=[0,2])\n",
    "zip_DMA.columns=['zip_cd','DMA']\n",
    "zip_DMA=zip_DMA.drop_duplicates()"
   ]
  },
  {
   "cell_type": "code",
   "execution_count": 3,
   "metadata": {},
   "outputs": [
    {
     "name": "stdout",
     "output_type": "stream",
     "text": [
      "7\n",
      "7\n"
     ]
    }
   ],
   "source": [
    "# print(sorted(zip_DMA['DMA'].unique().tolist()))\n",
    "\n",
    "DMA_7_list=[\"DETROIT\",\"GREENSBORO-H.POINT-W.SALEM\",\"HARTFORD & NEW HAVEN\",\"JACKSONVILLE\",\"KANSAS CITY\",\"OKLAHOMA CITY\",\"PORTLAND, OR\"]\n",
    "print(len(DMA_7_list))\n",
    "\n",
    "zip_DMA_7_Mkts=zip_DMA[zip_DMA['DMA'].isin(DMA_7_list)]\n",
    "print(zip_DMA_7_Mkts['DMA'].nunique())"
   ]
  },
  {
   "cell_type": "code",
   "execution_count": 4,
   "metadata": {},
   "outputs": [
    {
     "name": "stdout",
     "output_type": "stream",
     "text": [
      "1401\n"
     ]
    }
   ],
   "source": [
    "# 20190518, 4 weeks back\n",
    "most_recent_sales=pd.read_csv(\"/home/jian/BiglotsCode/outputs/combined_sales_long_2019-05-18.csv\",\n",
    "                              dtype=str,usecols=['location_id','sales','week_end_date'])\n",
    "most_recent_sales['sales']=most_recent_sales['sales'].astype(float)\n",
    "\n",
    "most_recent_sales_weeks=sorted(most_recent_sales['week_end_date'].unique().tolist(),reverse=True)\n",
    "last_4_weeks=most_recent_sales_weeks[:4]\n",
    "\n",
    "most_recent_sales=most_recent_sales[most_recent_sales['week_end_date'].isin(last_4_weeks)]\n",
    "most_recent_sales=most_recent_sales[most_recent_sales['sales']>0]\n",
    "\n",
    "most_recent_sales_0518=most_recent_sales[most_recent_sales['week_end_date']==\"2019-05-18\"]\n",
    "most_recent_sales_0518=most_recent_sales_0518[['location_id','sales']].rename(columns={\"sales\":\"sales_2019-05-18\"})\n",
    "most_recent_sales_count=most_recent_sales.groupby(\"location_id\")['week_end_date'].nunique().to_frame().reset_index().rename(columns={\"week_end_date\":\"4_weeks_count\"})\n",
    "most_recent_sales=pd.merge(most_recent_sales_0518,most_recent_sales_count,on=\"location_id\",how=\"outer\")\n",
    "most_recent_sales=most_recent_sales.fillna(0)\n",
    "\n",
    "stores_included=most_recent_sales[(most_recent_sales['4_weeks_count']>=3) | (most_recent_sales['sales_2019-05-18']>0)]['location_id'].tolist()\n",
    "print(len(stores_included))"
   ]
  },
  {
   "cell_type": "code",
   "execution_count": 5,
   "metadata": {},
   "outputs": [
    {
     "name": "stdout",
     "output_type": "stream",
     "text": [
      "(1400, 4)\n",
      "Manually google based on the planned stores:  ['5391']\n"
     ]
    }
   ],
   "source": [
    "store_list_SFTP=pd.read_csv(\"/home/jian/BigLots/static_files/Store_list/MediaStormStores20190501-135143-036.txt\",\n",
    "                            dtype=str,sep=\"|\",usecols=['location_id','zip_cd','latitude_meas','longitude_meas'])\n",
    "store_list_SFTP['latitude_meas']=store_list_SFTP['latitude_meas'].astype(float)\n",
    "store_list_SFTP['longitude_meas']=store_list_SFTP['longitude_meas'].astype(float)\n",
    "\n",
    "store_list_SFTP['zip_cd']=store_list_SFTP['zip_cd'].apply(lambda x: x.split(\"-\")[0].zfill(5))\n",
    "store_list_SFTP_included=store_list_SFTP[store_list_SFTP['location_id'].isin(stores_included)]\n",
    "print(store_list_SFTP_included.shape)\n",
    "\n",
    "print(\"Manually google based on the planned stores: \", [x for x in stores_included if x not in store_list_SFTP_included['location_id'].tolist()])"
   ]
  },
  {
   "cell_type": "code",
   "execution_count": 6,
   "metadata": {},
   "outputs": [
    {
     "name": "stdout",
     "output_type": "stream",
     "text": [
      "(1401, 4)\n",
      "1401\n"
     ]
    }
   ],
   "source": [
    "# 5391\n",
    "\n",
    "# 5391 \t1251 BURKEMONT AVENUE\tMAGNOLIA PLAZA\tMORGANTON\tNC\t28655\n",
    "# 1251 Burkemont Ave, Morganton, NC 28655\n",
    "# Confirmed with the zip\n",
    "store_list_SFTP_included=store_list_SFTP_included.append(pd.DataFrame({\"location_id\":\"5391\",\"zip_cd\":\"28655\"},index=[0]))\n",
    "store_list_SFTP_included=store_list_SFTP_included.reset_index()\n",
    "del store_list_SFTP_included['index']\n",
    "print(store_list_SFTP_included.shape)\n",
    "print(store_list_SFTP_included['location_id'].nunique())"
   ]
  },
  {
   "cell_type": "code",
   "execution_count": 7,
   "metadata": {},
   "outputs": [
    {
     "name": "stdout",
     "output_type": "stream",
     "text": [
      "(87, 5)\n",
      "87\n"
     ]
    }
   ],
   "source": [
    "store_list_SFTP_included=pd.merge(store_list_SFTP_included,zip_DMA_7_Mkts,on=\"zip_cd\",how=\"left\")\n",
    "store_list_SFTP_included=store_list_SFTP_included[pd.notnull(store_list_SFTP_included['DMA'])]\n",
    "print(store_list_SFTP_included.shape)\n",
    "print(store_list_SFTP_included['location_id'].nunique())\n",
    "\n",
    "store_list_SFTP_included=store_list_SFTP_included.rename(columns={\"zip_cd\":\"store_zip\"})"
   ]
  },
  {
   "cell_type": "code",
   "execution_count": 8,
   "metadata": {},
   "outputs": [
    {
     "name": "stdout",
     "output_type": "stream",
     "text": [
      "82\n",
      "(5, 7)\n"
     ]
    }
   ],
   "source": [
    "zips_labeled_by_store=pd.read_csv(\"/home/jian/Projects/Big_Lots/New_TA/zips_in_new_ta/sales_by_zip (Store level).csv\",\n",
    "                                  dtype=str,usecols=['location_id','zip','revenue_flag'])\n",
    "zips_labeled_by_store=zips_labeled_by_store[zips_labeled_by_store['revenue_flag']!=\"T\"]\n",
    "store_list_SFTP_included=pd.merge(store_list_SFTP_included,zips_labeled_by_store,on=\"location_id\",how=\"left\")\n",
    "\n",
    "\n",
    "store_list_SFTP_included_old=store_list_SFTP_included[pd.notnull(store_list_SFTP_included['zip'])]\n",
    "store_list_SFTP_included_new=store_list_SFTP_included[pd.isnull(store_list_SFTP_included['zip'])]\n",
    "\n",
    "print(store_list_SFTP_included_old['location_id'].nunique())\n",
    "print(store_list_SFTP_included_new.shape)"
   ]
  },
  {
   "cell_type": "code",
   "execution_count": 9,
   "metadata": {},
   "outputs": [],
   "source": [
    "del store_list_SFTP_included_new['zip']\n",
    "del store_list_SFTP_included_new['revenue_flag']\n",
    "\n",
    "store_list_SFTP_included_new=store_list_SFTP_included_new.reset_index()\n",
    "del store_list_SFTP_included_new['index']\n",
    "\n",
    "all_new_stores_df=pd.DataFrame()\n",
    "for index,row in store_list_SFTP_included_new.iterrows():\n",
    "    location_id=row['location_id']\n",
    "    store_center=[row['latitude_meas'],row['longitude_meas']]\n",
    "    store_zip=row['store_zip']\n",
    "    df_store=pd.DataFrame({\"location_id\":location_id,\"zip\":store_zip,\"revenue_flag\":\"zip_in_10\",\"dist_miles\":np.nan},index=[0])\n",
    "    for zip_cd in zip_centers.keys():\n",
    "        dist=haversine(zip_centers[zip_cd],store_center,miles=True)\n",
    "        \n",
    "        if dist<=10:\n",
    "            df=pd.DataFrame({\"location_id\":location_id,\"zip\":zip_cd,\"revenue_flag\":\"zip_in_10\",\"dist_miles\":dist},index=[0])\n",
    "            df_store=df_store.append(df)\n",
    "    df_store=df_store[pd.notnull(df_store['dist_miles'])].append(df_store[pd.isnull(df_store['dist_miles'])])\n",
    "    df_store=df_store.drop_duplicates(\"zip\")\n",
    "    all_new_stores_df=all_new_stores_df.append(df_store)\n",
    "store_list_SFTP_included_new=pd.merge(store_list_SFTP_included_new,all_new_stores_df,on=\"location_id\",how=\"left\")"
   ]
  },
  {
   "cell_type": "code",
   "execution_count": 10,
   "metadata": {},
   "outputs": [
    {
     "name": "stderr",
     "output_type": "stream",
     "text": [
      "/usr/local/lib/python3.6/site-packages/ipykernel_launcher.py:1: SettingWithCopyWarning: \n",
      "A value is trying to be set on a copy of a slice from a DataFrame.\n",
      "Try using .loc[row_indexer,col_indexer] = value instead\n",
      "\n",
      "See the caveats in the documentation: http://pandas.pydata.org/pandas-docs/stable/indexing.html#indexing-view-versus-copy\n",
      "  \"\"\"Entry point for launching an IPython kernel.\n",
      "/usr/local/lib/python3.6/site-packages/pandas/core/indexing.py:517: SettingWithCopyWarning: \n",
      "A value is trying to be set on a copy of a slice from a DataFrame.\n",
      "Try using .loc[row_indexer,col_indexer] = value instead\n",
      "\n",
      "See the caveats in the documentation: http://pandas.pydata.org/pandas-docs/stable/indexing.html#indexing-view-versus-copy\n",
      "  self.obj[item] = s\n"
     ]
    }
   ],
   "source": [
    "store_list_SFTP_included_old['dist_miles']=np.nan\n",
    "for index,row in store_list_SFTP_included_old.iterrows():\n",
    "    store_center=[row['latitude_meas'],row['longitude_meas']]\n",
    "    zip_center=zip_centers[row['zip']]\n",
    "    dist=haversine(store_center,zip_center,miles=True)\n",
    "    store_list_SFTP_included_old.loc[index,\"dist_miles\"]=dist"
   ]
  },
  {
   "cell_type": "code",
   "execution_count": 11,
   "metadata": {},
   "outputs": [],
   "source": [
    "cols_list=['location_id','DMA','store_zip','latitude_meas','longitude_meas','zip','revenue_flag','dist_miles']\n",
    "\n",
    "store_list_SFTP_included_old=store_list_SFTP_included_old[(store_list_SFTP_included_old['revenue_flag']==\"P\") | (store_list_SFTP_included_old['dist_miles']<20)]\n",
    "store_list_SFTP_included_old=store_list_SFTP_included_old[cols_list]\n",
    "store_list_SFTP_included_new=store_list_SFTP_included_new[cols_list]\n",
    "\n",
    "output_all=store_list_SFTP_included_old.append(store_list_SFTP_included_new)\n",
    "output_all=output_all.sort_values([\"DMA\",\"location_id\",\"revenue_flag\",\"dist_miles\"])"
   ]
  },
  {
   "cell_type": "code",
   "execution_count": 12,
   "metadata": {},
   "outputs": [
    {
     "data": {
      "text/plain": [
       "'/home/jian/Projects/Big_Lots/Analysis/2019_Q2/Planner_Requests/Zips_7_Markets_Bruce_20190524'"
      ]
     },
     "execution_count": 12,
     "metadata": {},
     "output_type": "execute_result"
    }
   ],
   "source": [
    "os.getcwd()"
   ]
  },
  {
   "cell_type": "code",
   "execution_count": 15,
   "metadata": {},
   "outputs": [],
   "source": [
    "writer=pd.ExcelWriter(\"/home/jian/Projects/Big_Lots/Analysis/2019_Q2/Planner_Requests/Zips_7_Markets_Bruce_20190524/BL_zips_7_markets_for circ_test_JL_\"+str(datetime.datetime.now().date())+\".xlsx\",engine=\"xlsxwriter\")\n",
    "\n"
   ]
  },
  {
   "cell_type": "code",
   "execution_count": 16,
   "metadata": {},
   "outputs": [],
   "source": [
    "unique_zips_by_DMA=pd.DataFrame()\n",
    "for DMA,group in output_all.groupby(\"DMA\"):\n",
    "    group.to_excel(writer,DMA,index=False)\n",
    "    \n",
    "    dedup_df=group[['DMA','zip']].drop_duplicates()\n",
    "    unique_zips_by_DMA=unique_zips_by_DMA.append(dedup_df)\n",
    "    \n",
    "unique_zips_by_DMA.to_excel(writer,\"unique_per_DMA\",index=False)\n",
    "\n",
    "all_unique_zips=unique_zips_by_DMA[['zip']].drop_duplicates()\n",
    "all_unique_zips.to_excel(writer,\"all_unique_zips\",index=False)\n",
    "writer.save()"
   ]
  },
  {
   "cell_type": "code",
   "execution_count": null,
   "metadata": {
    "collapsed": true
   },
   "outputs": [],
   "source": []
  }
 ],
 "metadata": {
  "kernelspec": {
   "display_name": "Python 3",
   "language": "python",
   "name": "python3"
  },
  "language_info": {
   "codemirror_mode": {
    "name": "ipython",
    "version": 3
   },
   "file_extension": ".py",
   "mimetype": "text/x-python",
   "name": "python",
   "nbconvert_exporter": "python",
   "pygments_lexer": "ipython3",
   "version": "3.6.1"
  }
 },
 "nbformat": 4,
 "nbformat_minor": 2
}
