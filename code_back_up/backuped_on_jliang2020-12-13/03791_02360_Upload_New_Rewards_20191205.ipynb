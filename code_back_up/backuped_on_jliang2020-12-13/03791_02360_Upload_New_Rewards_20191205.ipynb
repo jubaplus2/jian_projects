{
 "cells": [
  {
   "cell_type": "code",
   "execution_count": 1,
   "metadata": {
    "collapsed": true
   },
   "outputs": [],
   "source": [
    "# 2 weeks together\n",
    "import pandas as pd\n",
    "import numpy as np\n",
    "import datetime\n",
    "import os\n",
    "# Add the new folders of Jian later"
   ]
  },
  {
   "cell_type": "code",
   "execution_count": 2,
   "metadata": {},
   "outputs": [
    {
     "data": {
      "text/plain": [
       "[datetime.date(2019, 11, 30), datetime.date(2019, 11, 23)]"
      ]
     },
     "execution_count": 2,
     "metadata": {},
     "output_type": "execute_result"
    }
   ],
   "source": [
    "def recursive_file_gen(my_root_dir):\n",
    "    for root, dirs, files in os.walk(my_root_dir):\n",
    "        for file in files:\n",
    "            yield os.path.join(root, file)\n",
    "            \n",
    "last_saturday=datetime.datetime.now().date()-datetime.timedelta(days=datetime.datetime.now().date().weekday()+2) #+7\n",
    "\n",
    "write_folder=\"/home/jian/celery/BiWeekly_New_SignUps/monthly_update/output_\"+str(last_saturday)+\"/\"\n",
    "try:\n",
    "    os.stat(write_folder)\n",
    "except:\n",
    "    os.mkdir(write_folder)\n",
    "\n",
    "week_beginning=last_saturday-datetime.timedelta(days=14) # To be changed to 14\n",
    "\n",
    "recent_2_weeks=[last_saturday-datetime.timedelta(days=x*7) for x in range(2)]\n",
    "recent_2_weeks"
   ]
  },
  {
   "cell_type": "code",
   "execution_count": 3,
   "metadata": {},
   "outputs": [
    {
     "name": "stdout",
     "output_type": "stream",
     "text": [
      "2\n"
     ]
    },
    {
     "name": "stderr",
     "output_type": "stream",
     "text": [
      "/home/jian/.local/lib/python3.6/site-packages/pandas/core/frame.py:7138: FutureWarning: Sorting because non-concatenation axis is not aligned. A future version\n",
      "of pandas will change to not sort by default.\n",
      "\n",
      "To accept the future behavior, pass 'sort=False'.\n",
      "\n",
      "To retain the current behavior and silence the warning, pass 'sort=True'.\n",
      "\n",
      "  sort=sort,\n"
     ]
    }
   ],
   "source": [
    "# Checking for the recent weeks that haven't moved to the folder\n",
    "possible_recent_folders=[\"/home/jian/BigLots/MediaStorm_\"+str(x)+\"/\" for x in recent_2_weeks]\n",
    "recent_file_list=[]\n",
    "for dirc in possible_recent_folders:\n",
    "    list_recent=[x for x in list(recursive_file_gen(dirc)) if (\"Master\" in x) & (\".txt\" in x) ]\n",
    "    recent_file_list=recent_file_list+list_recent\n",
    "recent_file_df=pd.DataFrame({\"path\":recent_file_list,\"date\":[datetime.datetime.strptime(x.split(\"MasterWeekly\")[1][:8],\"%Y%m%d\").date()-datetime.timedelta(days=3) for x in recent_file_list]},index=[x for x in range(len(recent_file_list))])\n",
    "\n",
    "\n",
    "list_1_after_201806=[x for x in list(recursive_file_gen(\"/home/jian/BigLots/2019_by_weeks/\")) if (\"Master\" in x) & (\".txt\" in x) ]\n",
    "folder_date=[datetime.datetime.strptime(x.split(\"/\")[len(x.split(\"/\"))-2].split(\"_\")[1],\"%Y-%m-%d\").date() for x in list_1_after_201806]\n",
    "df_1_after_201806=pd.DataFrame({\"date\":folder_date,\"path\":list_1_after_201806},index=[x for x in range(len(list_1_after_201806))])\n",
    "df_1_after_201806['date'].apply(lambda x: x.weekday()).unique()\n",
    "df_1_after_201806=df_1_after_201806.sort_values(\"date\").reset_index()\n",
    "df_1_after_201806=df_1_after_201806[df_1_after_201806['date']>week_beginning]\n",
    "del df_1_after_201806['index']\n",
    "\n",
    "new_2_biweekly_files=df_1_after_201806.append(recent_file_df)\n",
    "\n",
    "print(len(new_2_biweekly_files))\n",
    "new_2_biweekly_files=new_2_biweekly_files['path'].unique().tolist()"
   ]
  },
  {
   "cell_type": "code",
   "execution_count": 4,
   "metadata": {},
   "outputs": [
    {
     "data": {
      "text/plain": [
       "['/home/jian/BigLots/2019_by_weeks/MediaStorm_2019-11-23/MediaStormMasterWeekly20191126-113236-194.txt',\n",
       " '/home/jian/BigLots/MediaStorm_2019-11-30/MediaStormMasterWeekly20191203.txt']"
      ]
     },
     "execution_count": 4,
     "metadata": {},
     "output_type": "execute_result"
    }
   ],
   "source": [
    "new_2_biweekly_files"
   ]
  },
  {
   "cell_type": "code",
   "execution_count": 5,
   "metadata": {},
   "outputs": [
    {
     "name": "stdout",
     "output_type": "stream",
     "text": [
      "(170408, 3)\n",
      "(384492, 3)\n",
      "384492\n",
      "384492\n"
     ]
    }
   ],
   "source": [
    "if len(new_2_biweekly_files)==2: # Changed to weekly\n",
    "    df_all_new_master = pd.DataFrame()\n",
    "    for file in new_2_biweekly_files:\n",
    "        df = pd.read_csv(file,nrows = None,sep= '|',usecols = ['customer_id_hashed','email_address_hash','customer_zip_code'],\n",
    "                         dtype =str)\n",
    "        df_all_new_master = df_all_new_master.append(df,ignore_index = True)\n",
    "        print(df_all_new_master.shape)\n",
    "    print(len(df_all_new_master.index))\n",
    "    df_all_new_master = df_all_new_master.drop_duplicates('email_address_hash')\n",
    "    print(len(df_all_new_master.index))\n"
   ]
  },
  {
   "cell_type": "code",
   "execution_count": 6,
   "metadata": {},
   "outputs": [
    {
     "name": "stdout",
     "output_type": "stream",
     "text": [
      "178\n"
     ]
    }
   ],
   "source": [
    "# Remove previous week ids\n",
    "\n",
    "previous_id_files_lists=list(recursive_file_gen(\"/home/jian/Projects/Big_Lots/Live_Ramp/Quarterly_Update_2019Q4/upload_files/\"))\n",
    "\n",
    "# previous_id_files_lists=[x for x in previous_id_files_lists if \"Copy of 48 Stores_727.csv\" not in x]\n",
    "previous_id_files_lists=[x for x in previous_id_files_lists if \".csv\" in x]\n",
    "print(len(previous_id_files_lists))"
   ]
  },
  {
   "cell_type": "code",
   "execution_count": 7,
   "metadata": {},
   "outputs": [
    {
     "data": {
      "text/plain": [
       "['/home/jian/Projects/Big_Lots/Live_Ramp/Quarterly_Update_2019Q4/upload_files/T_Active(0-12)_Score(H)_Density(H)_Legacy_HolidayShoppers_P_2019Q4_RFM.csv',\n",
       " '/home/jian/Projects/Big_Lots/Live_Ramp/Quarterly_Update_2019Q4/upload_files/T_Active(0-12)_Score(H)_Density(H)_Legacy_HolidayShoppers_S_2019Q4_RFM.csv',\n",
       " '/home/jian/Projects/Big_Lots/Live_Ramp/Quarterly_Update_2019Q4/upload_files/T_Active(0-12)_Score(H)_Density(H)_Legacy_Others_P_2019Q4_RFM.csv',\n",
       " '/home/jian/Projects/Big_Lots/Live_Ramp/Quarterly_Update_2019Q4/upload_files/T_Active(0-12)_Score(H)_Density(H)_Legacy_Others_S_2019Q4_RFM.csv',\n",
       " '/home/jian/Projects/Big_Lots/Live_Ramp/Quarterly_Update_2019Q4/upload_files/T_Active(0-12)_Score(H)_Density(H)_SOTF_HolidayShoppers_P_2019Q4_RFM.csv',\n",
       " '/home/jian/Projects/Big_Lots/Live_Ramp/Quarterly_Update_2019Q4/upload_files/T_Active(0-12)_Score(H)_Density(H)_SOTF_HolidayShoppers_S_2019Q4_RFM.csv',\n",
       " '/home/jian/Projects/Big_Lots/Live_Ramp/Quarterly_Update_2019Q4/upload_files/T_Active(0-12)_Score(H)_Density(H)_SOTF_Others_P_2019Q4_RFM.csv',\n",
       " '/home/jian/Projects/Big_Lots/Live_Ramp/Quarterly_Update_2019Q4/upload_files/T_Active(0-12)_Score(H)_Density(H)_SOTF_Others_S_2019Q4_RFM.csv',\n",
       " '/home/jian/Projects/Big_Lots/Live_Ramp/Quarterly_Update_2019Q4/upload_files/T_Active(0-12)_Score(H)_Density(L)_Legacy_HolidayShoppers_P_2019Q4_RFM.csv',\n",
       " '/home/jian/Projects/Big_Lots/Live_Ramp/Quarterly_Update_2019Q4/upload_files/T_Active(0-12)_Score(H)_Density(L)_Legacy_HolidayShoppers_S_2019Q4_RFM.csv',\n",
       " '/home/jian/Projects/Big_Lots/Live_Ramp/Quarterly_Update_2019Q4/upload_files/T_Active(0-12)_Score(H)_Density(L)_Legacy_Others_P_2019Q4_RFM.csv',\n",
       " '/home/jian/Projects/Big_Lots/Live_Ramp/Quarterly_Update_2019Q4/upload_files/T_Active(0-12)_Score(H)_Density(L)_Legacy_Others_S_2019Q4_RFM.csv',\n",
       " '/home/jian/Projects/Big_Lots/Live_Ramp/Quarterly_Update_2019Q4/upload_files/T_Active(0-12)_Score(H)_Density(L)_SOTF_HolidayShoppers_P_2019Q4_RFM.csv',\n",
       " '/home/jian/Projects/Big_Lots/Live_Ramp/Quarterly_Update_2019Q4/upload_files/T_Active(0-12)_Score(H)_Density(L)_SOTF_HolidayShoppers_S_2019Q4_RFM.csv',\n",
       " '/home/jian/Projects/Big_Lots/Live_Ramp/Quarterly_Update_2019Q4/upload_files/T_Active(0-12)_Score(H)_Density(L)_SOTF_Others_P_2019Q4_RFM.csv',\n",
       " '/home/jian/Projects/Big_Lots/Live_Ramp/Quarterly_Update_2019Q4/upload_files/T_Active(0-12)_Score(H)_Density(L)_SOTF_Others_S_2019Q4_RFM.csv',\n",
       " '/home/jian/Projects/Big_Lots/Live_Ramp/Quarterly_Update_2019Q4/upload_files/T_Active(0-12)_Score(H)_Density(M)_Legacy_HolidayShoppers_P_2019Q4_RFM.csv',\n",
       " '/home/jian/Projects/Big_Lots/Live_Ramp/Quarterly_Update_2019Q4/upload_files/T_Active(0-12)_Score(H)_Density(M)_Legacy_HolidayShoppers_S_2019Q4_RFM.csv',\n",
       " '/home/jian/Projects/Big_Lots/Live_Ramp/Quarterly_Update_2019Q4/upload_files/T_Active(0-12)_Score(H)_Density(M)_Legacy_Others_P_2019Q4_RFM.csv',\n",
       " '/home/jian/Projects/Big_Lots/Live_Ramp/Quarterly_Update_2019Q4/upload_files/T_Active(0-12)_Score(H)_Density(M)_Legacy_Others_S_2019Q4_RFM.csv',\n",
       " '/home/jian/Projects/Big_Lots/Live_Ramp/Quarterly_Update_2019Q4/upload_files/T_Active(0-12)_Score(H)_Density(M)_SOTF_HolidayShoppers_P_2019Q4_RFM.csv',\n",
       " '/home/jian/Projects/Big_Lots/Live_Ramp/Quarterly_Update_2019Q4/upload_files/T_Active(0-12)_Score(H)_Density(M)_SOTF_HolidayShoppers_S_2019Q4_RFM.csv',\n",
       " '/home/jian/Projects/Big_Lots/Live_Ramp/Quarterly_Update_2019Q4/upload_files/T_Active(0-12)_Score(H)_Density(M)_SOTF_Others_P_2019Q4_RFM.csv',\n",
       " '/home/jian/Projects/Big_Lots/Live_Ramp/Quarterly_Update_2019Q4/upload_files/T_Active(0-12)_Score(H)_Density(M)_SOTF_Others_S_2019Q4_RFM.csv',\n",
       " '/home/jian/Projects/Big_Lots/Live_Ramp/Quarterly_Update_2019Q4/upload_files/T_Active(0-12)_Score(L)_Density(H)_Legacy_HolidayShoppers_P_2019Q4_RFM.csv',\n",
       " '/home/jian/Projects/Big_Lots/Live_Ramp/Quarterly_Update_2019Q4/upload_files/T_Active(0-12)_Score(L)_Density(H)_Legacy_HolidayShoppers_S_2019Q4_RFM.csv',\n",
       " '/home/jian/Projects/Big_Lots/Live_Ramp/Quarterly_Update_2019Q4/upload_files/T_Active(0-12)_Score(L)_Density(H)_Legacy_Others_P_2019Q4_RFM.csv',\n",
       " '/home/jian/Projects/Big_Lots/Live_Ramp/Quarterly_Update_2019Q4/upload_files/T_Active(0-12)_Score(L)_Density(H)_Legacy_Others_S_2019Q4_RFM.csv',\n",
       " '/home/jian/Projects/Big_Lots/Live_Ramp/Quarterly_Update_2019Q4/upload_files/T_Active(0-12)_Score(L)_Density(H)_SOTF_HolidayShoppers_P_2019Q4_RFM.csv',\n",
       " '/home/jian/Projects/Big_Lots/Live_Ramp/Quarterly_Update_2019Q4/upload_files/T_Active(0-12)_Score(L)_Density(H)_SOTF_HolidayShoppers_S_2019Q4_RFM.csv',\n",
       " '/home/jian/Projects/Big_Lots/Live_Ramp/Quarterly_Update_2019Q4/upload_files/T_Active(0-12)_Score(L)_Density(H)_SOTF_Others_P_2019Q4_RFM.csv',\n",
       " '/home/jian/Projects/Big_Lots/Live_Ramp/Quarterly_Update_2019Q4/upload_files/T_Active(0-12)_Score(L)_Density(H)_SOTF_Others_S_2019Q4_RFM.csv',\n",
       " '/home/jian/Projects/Big_Lots/Live_Ramp/Quarterly_Update_2019Q4/upload_files/T_Active(0-12)_Score(L)_Density(L)_Legacy_HolidayShoppers_P_2019Q4_RFM.csv',\n",
       " '/home/jian/Projects/Big_Lots/Live_Ramp/Quarterly_Update_2019Q4/upload_files/T_Active(0-12)_Score(L)_Density(L)_Legacy_HolidayShoppers_S_2019Q4_RFM.csv',\n",
       " '/home/jian/Projects/Big_Lots/Live_Ramp/Quarterly_Update_2019Q4/upload_files/T_Active(0-12)_Score(L)_Density(L)_Legacy_Others_P_2019Q4_RFM.csv',\n",
       " '/home/jian/Projects/Big_Lots/Live_Ramp/Quarterly_Update_2019Q4/upload_files/T_Active(0-12)_Score(L)_Density(L)_Legacy_Others_S_2019Q4_RFM.csv',\n",
       " '/home/jian/Projects/Big_Lots/Live_Ramp/Quarterly_Update_2019Q4/upload_files/T_Active(0-12)_Score(L)_Density(L)_SOTF_HolidayShoppers_P_2019Q4_RFM.csv',\n",
       " '/home/jian/Projects/Big_Lots/Live_Ramp/Quarterly_Update_2019Q4/upload_files/T_Active(0-12)_Score(L)_Density(L)_SOTF_HolidayShoppers_S_2019Q4_RFM.csv',\n",
       " '/home/jian/Projects/Big_Lots/Live_Ramp/Quarterly_Update_2019Q4/upload_files/T_Active(0-12)_Score(L)_Density(L)_SOTF_Others_P_2019Q4_RFM.csv',\n",
       " '/home/jian/Projects/Big_Lots/Live_Ramp/Quarterly_Update_2019Q4/upload_files/T_Active(0-12)_Score(L)_Density(L)_SOTF_Others_S_2019Q4_RFM.csv',\n",
       " '/home/jian/Projects/Big_Lots/Live_Ramp/Quarterly_Update_2019Q4/upload_files/T_Active(0-12)_Score(L)_Density(M)_Legacy_HolidayShoppers_P_2019Q4_RFM.csv',\n",
       " '/home/jian/Projects/Big_Lots/Live_Ramp/Quarterly_Update_2019Q4/upload_files/T_Active(0-12)_Score(L)_Density(M)_Legacy_HolidayShoppers_S_2019Q4_RFM.csv',\n",
       " '/home/jian/Projects/Big_Lots/Live_Ramp/Quarterly_Update_2019Q4/upload_files/T_Active(0-12)_Score(L)_Density(M)_Legacy_Others_P_2019Q4_RFM.csv',\n",
       " '/home/jian/Projects/Big_Lots/Live_Ramp/Quarterly_Update_2019Q4/upload_files/T_Active(0-12)_Score(L)_Density(M)_Legacy_Others_S_2019Q4_RFM.csv',\n",
       " '/home/jian/Projects/Big_Lots/Live_Ramp/Quarterly_Update_2019Q4/upload_files/T_Active(0-12)_Score(L)_Density(M)_SOTF_HolidayShoppers_P_2019Q4_RFM.csv',\n",
       " '/home/jian/Projects/Big_Lots/Live_Ramp/Quarterly_Update_2019Q4/upload_files/T_Active(0-12)_Score(L)_Density(M)_SOTF_HolidayShoppers_S_2019Q4_RFM.csv',\n",
       " '/home/jian/Projects/Big_Lots/Live_Ramp/Quarterly_Update_2019Q4/upload_files/T_Active(0-12)_Score(L)_Density(M)_SOTF_Others_P_2019Q4_RFM.csv',\n",
       " '/home/jian/Projects/Big_Lots/Live_Ramp/Quarterly_Update_2019Q4/upload_files/T_Active(0-12)_Score(L)_Density(M)_SOTF_Others_S_2019Q4_RFM.csv',\n",
       " '/home/jian/Projects/Big_Lots/Live_Ramp/Quarterly_Update_2019Q4/upload_files/T_Active(0-12)_Score(M)_Density(H)_Legacy_HolidayShoppers_P_2019Q4_RFM.csv',\n",
       " '/home/jian/Projects/Big_Lots/Live_Ramp/Quarterly_Update_2019Q4/upload_files/T_Active(0-12)_Score(M)_Density(H)_Legacy_HolidayShoppers_S_2019Q4_RFM.csv',\n",
       " '/home/jian/Projects/Big_Lots/Live_Ramp/Quarterly_Update_2019Q4/upload_files/T_Active(0-12)_Score(M)_Density(H)_Legacy_Others_P_2019Q4_RFM.csv',\n",
       " '/home/jian/Projects/Big_Lots/Live_Ramp/Quarterly_Update_2019Q4/upload_files/T_Active(0-12)_Score(M)_Density(H)_Legacy_Others_S_2019Q4_RFM.csv',\n",
       " '/home/jian/Projects/Big_Lots/Live_Ramp/Quarterly_Update_2019Q4/upload_files/T_Active(0-12)_Score(M)_Density(H)_SOTF_HolidayShoppers_P_2019Q4_RFM.csv',\n",
       " '/home/jian/Projects/Big_Lots/Live_Ramp/Quarterly_Update_2019Q4/upload_files/T_Active(0-12)_Score(M)_Density(H)_SOTF_HolidayShoppers_S_2019Q4_RFM.csv',\n",
       " '/home/jian/Projects/Big_Lots/Live_Ramp/Quarterly_Update_2019Q4/upload_files/T_Active(0-12)_Score(M)_Density(H)_SOTF_Others_P_2019Q4_RFM.csv',\n",
       " '/home/jian/Projects/Big_Lots/Live_Ramp/Quarterly_Update_2019Q4/upload_files/T_Active(0-12)_Score(M)_Density(H)_SOTF_Others_S_2019Q4_RFM.csv',\n",
       " '/home/jian/Projects/Big_Lots/Live_Ramp/Quarterly_Update_2019Q4/upload_files/T_Active(0-12)_Score(M)_Density(L)_Legacy_HolidayShoppers_P_2019Q4_RFM.csv',\n",
       " '/home/jian/Projects/Big_Lots/Live_Ramp/Quarterly_Update_2019Q4/upload_files/T_Active(0-12)_Score(M)_Density(L)_Legacy_HolidayShoppers_S_2019Q4_RFM.csv',\n",
       " '/home/jian/Projects/Big_Lots/Live_Ramp/Quarterly_Update_2019Q4/upload_files/T_Active(0-12)_Score(M)_Density(L)_Legacy_Others_P_2019Q4_RFM.csv',\n",
       " '/home/jian/Projects/Big_Lots/Live_Ramp/Quarterly_Update_2019Q4/upload_files/T_Active(0-12)_Score(M)_Density(L)_Legacy_Others_S_2019Q4_RFM.csv',\n",
       " '/home/jian/Projects/Big_Lots/Live_Ramp/Quarterly_Update_2019Q4/upload_files/T_Active(0-12)_Score(M)_Density(L)_SOTF_HolidayShoppers_P_2019Q4_RFM.csv',\n",
       " '/home/jian/Projects/Big_Lots/Live_Ramp/Quarterly_Update_2019Q4/upload_files/T_Active(0-12)_Score(M)_Density(L)_SOTF_HolidayShoppers_S_2019Q4_RFM.csv',\n",
       " '/home/jian/Projects/Big_Lots/Live_Ramp/Quarterly_Update_2019Q4/upload_files/T_Active(0-12)_Score(M)_Density(L)_SOTF_Others_P_2019Q4_RFM.csv',\n",
       " '/home/jian/Projects/Big_Lots/Live_Ramp/Quarterly_Update_2019Q4/upload_files/T_Active(0-12)_Score(M)_Density(L)_SOTF_Others_S_2019Q4_RFM.csv',\n",
       " '/home/jian/Projects/Big_Lots/Live_Ramp/Quarterly_Update_2019Q4/upload_files/T_Active(0-12)_Score(M)_Density(M)_Legacy_HolidayShoppers_P_2019Q4_RFM.csv',\n",
       " '/home/jian/Projects/Big_Lots/Live_Ramp/Quarterly_Update_2019Q4/upload_files/T_Active(0-12)_Score(M)_Density(M)_Legacy_HolidayShoppers_S_2019Q4_RFM.csv',\n",
       " '/home/jian/Projects/Big_Lots/Live_Ramp/Quarterly_Update_2019Q4/upload_files/T_Active(0-12)_Score(M)_Density(M)_Legacy_Others_P_2019Q4_RFM.csv',\n",
       " '/home/jian/Projects/Big_Lots/Live_Ramp/Quarterly_Update_2019Q4/upload_files/T_Active(0-12)_Score(M)_Density(M)_Legacy_Others_S_2019Q4_RFM.csv',\n",
       " '/home/jian/Projects/Big_Lots/Live_Ramp/Quarterly_Update_2019Q4/upload_files/T_Active(0-12)_Score(M)_Density(M)_SOTF_HolidayShoppers_P_2019Q4_RFM.csv',\n",
       " '/home/jian/Projects/Big_Lots/Live_Ramp/Quarterly_Update_2019Q4/upload_files/T_Active(0-12)_Score(M)_Density(M)_SOTF_HolidayShoppers_S_2019Q4_RFM.csv',\n",
       " '/home/jian/Projects/Big_Lots/Live_Ramp/Quarterly_Update_2019Q4/upload_files/T_Active(0-12)_Score(M)_Density(M)_SOTF_Others_P_2019Q4_RFM.csv',\n",
       " '/home/jian/Projects/Big_Lots/Live_Ramp/Quarterly_Update_2019Q4/upload_files/T_Active(0-12)_Score(M)_Density(M)_SOTF_Others_S_2019Q4_RFM.csv',\n",
       " '/home/jian/Projects/Big_Lots/Live_Ramp/Quarterly_Update_2019Q4/upload_files/T_Lapsed(13-18)_Score(L)_Density(H)_Legacy_AllExpCluster_P_2019Q4_RFM.csv',\n",
       " '/home/jian/Projects/Big_Lots/Live_Ramp/Quarterly_Update_2019Q4/upload_files/T_Lapsed(13-18)_Score(L)_Density(H)_Legacy_AllExpCluster_S_2019Q4_RFM.csv',\n",
       " '/home/jian/Projects/Big_Lots/Live_Ramp/Quarterly_Update_2019Q4/upload_files/T_Lapsed(13-18)_Score(L)_Density(H)_SOTF_AllExpCluster_P_2019Q4_RFM.csv',\n",
       " '/home/jian/Projects/Big_Lots/Live_Ramp/Quarterly_Update_2019Q4/upload_files/T_Lapsed(13-18)_Score(L)_Density(H)_SOTF_AllExpCluster_S_2019Q4_RFM.csv',\n",
       " '/home/jian/Projects/Big_Lots/Live_Ramp/Quarterly_Update_2019Q4/upload_files/T_Lapsed(13-18)_Score(L)_Density(L)_Legacy_AllExpCluster_P_2019Q4_RFM.csv',\n",
       " '/home/jian/Projects/Big_Lots/Live_Ramp/Quarterly_Update_2019Q4/upload_files/T_Lapsed(13-18)_Score(L)_Density(L)_Legacy_AllExpCluster_S_2019Q4_RFM.csv',\n",
       " '/home/jian/Projects/Big_Lots/Live_Ramp/Quarterly_Update_2019Q4/upload_files/T_Lapsed(13-18)_Score(L)_Density(L)_SOTF_AllExpCluster_P_2019Q4_RFM.csv',\n",
       " '/home/jian/Projects/Big_Lots/Live_Ramp/Quarterly_Update_2019Q4/upload_files/T_Lapsed(13-18)_Score(L)_Density(L)_SOTF_AllExpCluster_S_2019Q4_RFM.csv',\n",
       " '/home/jian/Projects/Big_Lots/Live_Ramp/Quarterly_Update_2019Q4/upload_files/T_Lapsed(13-18)_Score(L)_Density(M)_Legacy_AllExpCluster_P_2019Q4_RFM.csv',\n",
       " '/home/jian/Projects/Big_Lots/Live_Ramp/Quarterly_Update_2019Q4/upload_files/T_Lapsed(13-18)_Score(L)_Density(M)_Legacy_AllExpCluster_S_2019Q4_RFM.csv',\n",
       " '/home/jian/Projects/Big_Lots/Live_Ramp/Quarterly_Update_2019Q4/upload_files/T_Lapsed(13-18)_Score(L)_Density(M)_SOTF_AllExpCluster_P_2019Q4_RFM.csv',\n",
       " '/home/jian/Projects/Big_Lots/Live_Ramp/Quarterly_Update_2019Q4/upload_files/T_Lapsed(13-18)_Score(L)_Density(M)_SOTF_AllExpCluster_S_2019Q4_RFM.csv',\n",
       " '/home/jian/Projects/Big_Lots/Live_Ramp/Quarterly_Update_2019Q4/upload_files/C_Active(0-12)_Score(H)_Density(H)_Legacy_HolidayShoppers_P_2019Q4_RFM.csv',\n",
       " '/home/jian/Projects/Big_Lots/Live_Ramp/Quarterly_Update_2019Q4/upload_files/C_Active(0-12)_Score(H)_Density(H)_Legacy_HolidayShoppers_S_2019Q4_RFM.csv',\n",
       " '/home/jian/Projects/Big_Lots/Live_Ramp/Quarterly_Update_2019Q4/upload_files/C_Active(0-12)_Score(H)_Density(H)_Legacy_Others_P_2019Q4_RFM.csv',\n",
       " '/home/jian/Projects/Big_Lots/Live_Ramp/Quarterly_Update_2019Q4/upload_files/C_Active(0-12)_Score(H)_Density(H)_Legacy_Others_S_2019Q4_RFM.csv',\n",
       " '/home/jian/Projects/Big_Lots/Live_Ramp/Quarterly_Update_2019Q4/upload_files/C_Active(0-12)_Score(H)_Density(H)_SOTF_HolidayShoppers_P_2019Q4_RFM.csv',\n",
       " '/home/jian/Projects/Big_Lots/Live_Ramp/Quarterly_Update_2019Q4/upload_files/C_Active(0-12)_Score(H)_Density(H)_SOTF_HolidayShoppers_S_2019Q4_RFM.csv',\n",
       " '/home/jian/Projects/Big_Lots/Live_Ramp/Quarterly_Update_2019Q4/upload_files/C_Active(0-12)_Score(H)_Density(H)_SOTF_Others_P_2019Q4_RFM.csv',\n",
       " '/home/jian/Projects/Big_Lots/Live_Ramp/Quarterly_Update_2019Q4/upload_files/C_Active(0-12)_Score(H)_Density(H)_SOTF_Others_S_2019Q4_RFM.csv',\n",
       " '/home/jian/Projects/Big_Lots/Live_Ramp/Quarterly_Update_2019Q4/upload_files/C_Active(0-12)_Score(H)_Density(L)_Legacy_HolidayShoppers_P_2019Q4_RFM.csv',\n",
       " '/home/jian/Projects/Big_Lots/Live_Ramp/Quarterly_Update_2019Q4/upload_files/C_Active(0-12)_Score(H)_Density(L)_Legacy_HolidayShoppers_S_2019Q4_RFM.csv',\n",
       " '/home/jian/Projects/Big_Lots/Live_Ramp/Quarterly_Update_2019Q4/upload_files/C_Active(0-12)_Score(H)_Density(L)_Legacy_Others_P_2019Q4_RFM.csv',\n",
       " '/home/jian/Projects/Big_Lots/Live_Ramp/Quarterly_Update_2019Q4/upload_files/C_Active(0-12)_Score(H)_Density(L)_Legacy_Others_S_2019Q4_RFM.csv',\n",
       " '/home/jian/Projects/Big_Lots/Live_Ramp/Quarterly_Update_2019Q4/upload_files/C_Active(0-12)_Score(H)_Density(L)_SOTF_HolidayShoppers_P_2019Q4_RFM.csv',\n",
       " '/home/jian/Projects/Big_Lots/Live_Ramp/Quarterly_Update_2019Q4/upload_files/C_Active(0-12)_Score(H)_Density(L)_SOTF_HolidayShoppers_S_2019Q4_RFM.csv',\n",
       " '/home/jian/Projects/Big_Lots/Live_Ramp/Quarterly_Update_2019Q4/upload_files/C_Active(0-12)_Score(H)_Density(L)_SOTF_Others_P_2019Q4_RFM.csv',\n",
       " '/home/jian/Projects/Big_Lots/Live_Ramp/Quarterly_Update_2019Q4/upload_files/C_Active(0-12)_Score(H)_Density(L)_SOTF_Others_S_2019Q4_RFM.csv',\n",
       " '/home/jian/Projects/Big_Lots/Live_Ramp/Quarterly_Update_2019Q4/upload_files/C_Active(0-12)_Score(H)_Density(M)_Legacy_HolidayShoppers_P_2019Q4_RFM.csv',\n",
       " '/home/jian/Projects/Big_Lots/Live_Ramp/Quarterly_Update_2019Q4/upload_files/C_Active(0-12)_Score(H)_Density(M)_Legacy_HolidayShoppers_S_2019Q4_RFM.csv',\n",
       " '/home/jian/Projects/Big_Lots/Live_Ramp/Quarterly_Update_2019Q4/upload_files/C_Active(0-12)_Score(H)_Density(M)_Legacy_Others_P_2019Q4_RFM.csv',\n",
       " '/home/jian/Projects/Big_Lots/Live_Ramp/Quarterly_Update_2019Q4/upload_files/C_Active(0-12)_Score(H)_Density(M)_Legacy_Others_S_2019Q4_RFM.csv',\n",
       " '/home/jian/Projects/Big_Lots/Live_Ramp/Quarterly_Update_2019Q4/upload_files/C_Active(0-12)_Score(H)_Density(M)_SOTF_HolidayShoppers_P_2019Q4_RFM.csv',\n",
       " '/home/jian/Projects/Big_Lots/Live_Ramp/Quarterly_Update_2019Q4/upload_files/C_Active(0-12)_Score(H)_Density(M)_SOTF_HolidayShoppers_S_2019Q4_RFM.csv',\n",
       " '/home/jian/Projects/Big_Lots/Live_Ramp/Quarterly_Update_2019Q4/upload_files/C_Active(0-12)_Score(H)_Density(M)_SOTF_Others_P_2019Q4_RFM.csv',\n",
       " '/home/jian/Projects/Big_Lots/Live_Ramp/Quarterly_Update_2019Q4/upload_files/C_Active(0-12)_Score(H)_Density(M)_SOTF_Others_S_2019Q4_RFM.csv',\n",
       " '/home/jian/Projects/Big_Lots/Live_Ramp/Quarterly_Update_2019Q4/upload_files/C_Active(0-12)_Score(L)_Density(H)_Legacy_HolidayShoppers_P_2019Q4_RFM.csv',\n",
       " '/home/jian/Projects/Big_Lots/Live_Ramp/Quarterly_Update_2019Q4/upload_files/C_Active(0-12)_Score(L)_Density(H)_Legacy_HolidayShoppers_S_2019Q4_RFM.csv',\n",
       " '/home/jian/Projects/Big_Lots/Live_Ramp/Quarterly_Update_2019Q4/upload_files/C_Active(0-12)_Score(L)_Density(H)_Legacy_Others_P_2019Q4_RFM.csv',\n",
       " '/home/jian/Projects/Big_Lots/Live_Ramp/Quarterly_Update_2019Q4/upload_files/C_Active(0-12)_Score(L)_Density(H)_Legacy_Others_S_2019Q4_RFM.csv',\n",
       " '/home/jian/Projects/Big_Lots/Live_Ramp/Quarterly_Update_2019Q4/upload_files/C_Active(0-12)_Score(L)_Density(H)_SOTF_HolidayShoppers_P_2019Q4_RFM.csv',\n",
       " '/home/jian/Projects/Big_Lots/Live_Ramp/Quarterly_Update_2019Q4/upload_files/C_Active(0-12)_Score(L)_Density(H)_SOTF_HolidayShoppers_S_2019Q4_RFM.csv',\n",
       " '/home/jian/Projects/Big_Lots/Live_Ramp/Quarterly_Update_2019Q4/upload_files/C_Active(0-12)_Score(L)_Density(H)_SOTF_Others_P_2019Q4_RFM.csv',\n",
       " '/home/jian/Projects/Big_Lots/Live_Ramp/Quarterly_Update_2019Q4/upload_files/C_Active(0-12)_Score(L)_Density(H)_SOTF_Others_S_2019Q4_RFM.csv',\n",
       " '/home/jian/Projects/Big_Lots/Live_Ramp/Quarterly_Update_2019Q4/upload_files/C_Active(0-12)_Score(L)_Density(L)_Legacy_HolidayShoppers_P_2019Q4_RFM.csv',\n",
       " '/home/jian/Projects/Big_Lots/Live_Ramp/Quarterly_Update_2019Q4/upload_files/C_Active(0-12)_Score(L)_Density(L)_Legacy_HolidayShoppers_S_2019Q4_RFM.csv',\n",
       " '/home/jian/Projects/Big_Lots/Live_Ramp/Quarterly_Update_2019Q4/upload_files/C_Active(0-12)_Score(L)_Density(L)_Legacy_Others_P_2019Q4_RFM.csv',\n",
       " '/home/jian/Projects/Big_Lots/Live_Ramp/Quarterly_Update_2019Q4/upload_files/C_Active(0-12)_Score(L)_Density(L)_Legacy_Others_S_2019Q4_RFM.csv',\n",
       " '/home/jian/Projects/Big_Lots/Live_Ramp/Quarterly_Update_2019Q4/upload_files/C_Active(0-12)_Score(L)_Density(L)_SOTF_HolidayShoppers_P_2019Q4_RFM.csv',\n",
       " '/home/jian/Projects/Big_Lots/Live_Ramp/Quarterly_Update_2019Q4/upload_files/C_Active(0-12)_Score(L)_Density(L)_SOTF_HolidayShoppers_S_2019Q4_RFM.csv',\n",
       " '/home/jian/Projects/Big_Lots/Live_Ramp/Quarterly_Update_2019Q4/upload_files/C_Active(0-12)_Score(L)_Density(L)_SOTF_Others_P_2019Q4_RFM.csv',\n",
       " '/home/jian/Projects/Big_Lots/Live_Ramp/Quarterly_Update_2019Q4/upload_files/C_Active(0-12)_Score(L)_Density(L)_SOTF_Others_S_2019Q4_RFM.csv',\n",
       " '/home/jian/Projects/Big_Lots/Live_Ramp/Quarterly_Update_2019Q4/upload_files/C_Active(0-12)_Score(L)_Density(M)_Legacy_HolidayShoppers_P_2019Q4_RFM.csv',\n",
       " '/home/jian/Projects/Big_Lots/Live_Ramp/Quarterly_Update_2019Q4/upload_files/C_Active(0-12)_Score(L)_Density(M)_Legacy_HolidayShoppers_S_2019Q4_RFM.csv',\n",
       " '/home/jian/Projects/Big_Lots/Live_Ramp/Quarterly_Update_2019Q4/upload_files/C_Active(0-12)_Score(L)_Density(M)_Legacy_Others_P_2019Q4_RFM.csv',\n",
       " '/home/jian/Projects/Big_Lots/Live_Ramp/Quarterly_Update_2019Q4/upload_files/C_Active(0-12)_Score(L)_Density(M)_Legacy_Others_S_2019Q4_RFM.csv',\n",
       " '/home/jian/Projects/Big_Lots/Live_Ramp/Quarterly_Update_2019Q4/upload_files/C_Active(0-12)_Score(L)_Density(M)_SOTF_HolidayShoppers_P_2019Q4_RFM.csv',\n",
       " '/home/jian/Projects/Big_Lots/Live_Ramp/Quarterly_Update_2019Q4/upload_files/C_Active(0-12)_Score(L)_Density(M)_SOTF_HolidayShoppers_S_2019Q4_RFM.csv',\n",
       " '/home/jian/Projects/Big_Lots/Live_Ramp/Quarterly_Update_2019Q4/upload_files/C_Active(0-12)_Score(L)_Density(M)_SOTF_Others_P_2019Q4_RFM.csv',\n",
       " '/home/jian/Projects/Big_Lots/Live_Ramp/Quarterly_Update_2019Q4/upload_files/C_Active(0-12)_Score(L)_Density(M)_SOTF_Others_S_2019Q4_RFM.csv',\n",
       " '/home/jian/Projects/Big_Lots/Live_Ramp/Quarterly_Update_2019Q4/upload_files/C_Active(0-12)_Score(M)_Density(H)_Legacy_HolidayShoppers_P_2019Q4_RFM.csv',\n",
       " '/home/jian/Projects/Big_Lots/Live_Ramp/Quarterly_Update_2019Q4/upload_files/C_Active(0-12)_Score(M)_Density(H)_Legacy_HolidayShoppers_S_2019Q4_RFM.csv',\n",
       " '/home/jian/Projects/Big_Lots/Live_Ramp/Quarterly_Update_2019Q4/upload_files/C_Active(0-12)_Score(M)_Density(H)_Legacy_Others_P_2019Q4_RFM.csv',\n",
       " '/home/jian/Projects/Big_Lots/Live_Ramp/Quarterly_Update_2019Q4/upload_files/C_Active(0-12)_Score(M)_Density(H)_Legacy_Others_S_2019Q4_RFM.csv',\n",
       " '/home/jian/Projects/Big_Lots/Live_Ramp/Quarterly_Update_2019Q4/upload_files/C_Active(0-12)_Score(M)_Density(H)_SOTF_HolidayShoppers_P_2019Q4_RFM.csv',\n",
       " '/home/jian/Projects/Big_Lots/Live_Ramp/Quarterly_Update_2019Q4/upload_files/C_Active(0-12)_Score(M)_Density(H)_SOTF_HolidayShoppers_S_2019Q4_RFM.csv',\n",
       " '/home/jian/Projects/Big_Lots/Live_Ramp/Quarterly_Update_2019Q4/upload_files/C_Active(0-12)_Score(M)_Density(H)_SOTF_Others_P_2019Q4_RFM.csv',\n",
       " '/home/jian/Projects/Big_Lots/Live_Ramp/Quarterly_Update_2019Q4/upload_files/C_Active(0-12)_Score(M)_Density(H)_SOTF_Others_S_2019Q4_RFM.csv',\n",
       " '/home/jian/Projects/Big_Lots/Live_Ramp/Quarterly_Update_2019Q4/upload_files/C_Active(0-12)_Score(M)_Density(L)_Legacy_HolidayShoppers_P_2019Q4_RFM.csv',\n",
       " '/home/jian/Projects/Big_Lots/Live_Ramp/Quarterly_Update_2019Q4/upload_files/C_Active(0-12)_Score(M)_Density(L)_Legacy_HolidayShoppers_S_2019Q4_RFM.csv',\n",
       " '/home/jian/Projects/Big_Lots/Live_Ramp/Quarterly_Update_2019Q4/upload_files/C_Active(0-12)_Score(M)_Density(L)_Legacy_Others_P_2019Q4_RFM.csv',\n",
       " '/home/jian/Projects/Big_Lots/Live_Ramp/Quarterly_Update_2019Q4/upload_files/C_Active(0-12)_Score(M)_Density(L)_Legacy_Others_S_2019Q4_RFM.csv',\n",
       " '/home/jian/Projects/Big_Lots/Live_Ramp/Quarterly_Update_2019Q4/upload_files/C_Active(0-12)_Score(M)_Density(L)_SOTF_HolidayShoppers_P_2019Q4_RFM.csv',\n",
       " '/home/jian/Projects/Big_Lots/Live_Ramp/Quarterly_Update_2019Q4/upload_files/C_Active(0-12)_Score(M)_Density(L)_SOTF_HolidayShoppers_S_2019Q4_RFM.csv',\n",
       " '/home/jian/Projects/Big_Lots/Live_Ramp/Quarterly_Update_2019Q4/upload_files/C_Active(0-12)_Score(M)_Density(L)_SOTF_Others_P_2019Q4_RFM.csv',\n",
       " '/home/jian/Projects/Big_Lots/Live_Ramp/Quarterly_Update_2019Q4/upload_files/C_Active(0-12)_Score(M)_Density(L)_SOTF_Others_S_2019Q4_RFM.csv',\n",
       " '/home/jian/Projects/Big_Lots/Live_Ramp/Quarterly_Update_2019Q4/upload_files/C_Active(0-12)_Score(M)_Density(M)_Legacy_HolidayShoppers_P_2019Q4_RFM.csv',\n",
       " '/home/jian/Projects/Big_Lots/Live_Ramp/Quarterly_Update_2019Q4/upload_files/C_Active(0-12)_Score(M)_Density(M)_Legacy_HolidayShoppers_S_2019Q4_RFM.csv',\n",
       " '/home/jian/Projects/Big_Lots/Live_Ramp/Quarterly_Update_2019Q4/upload_files/C_Active(0-12)_Score(M)_Density(M)_Legacy_Others_P_2019Q4_RFM.csv',\n",
       " '/home/jian/Projects/Big_Lots/Live_Ramp/Quarterly_Update_2019Q4/upload_files/C_Active(0-12)_Score(M)_Density(M)_Legacy_Others_S_2019Q4_RFM.csv',\n",
       " '/home/jian/Projects/Big_Lots/Live_Ramp/Quarterly_Update_2019Q4/upload_files/C_Active(0-12)_Score(M)_Density(M)_SOTF_HolidayShoppers_P_2019Q4_RFM.csv',\n",
       " '/home/jian/Projects/Big_Lots/Live_Ramp/Quarterly_Update_2019Q4/upload_files/C_Active(0-12)_Score(M)_Density(M)_SOTF_HolidayShoppers_S_2019Q4_RFM.csv',\n",
       " '/home/jian/Projects/Big_Lots/Live_Ramp/Quarterly_Update_2019Q4/upload_files/C_Active(0-12)_Score(M)_Density(M)_SOTF_Others_P_2019Q4_RFM.csv',\n",
       " '/home/jian/Projects/Big_Lots/Live_Ramp/Quarterly_Update_2019Q4/upload_files/C_Active(0-12)_Score(M)_Density(M)_SOTF_Others_S_2019Q4_RFM.csv',\n",
       " '/home/jian/Projects/Big_Lots/Live_Ramp/Quarterly_Update_2019Q4/upload_files/C_Lapsed(13-18)_Score(L)_Density(H)_Legacy_AllExpCluster_P_2019Q4_RFM.csv',\n",
       " '/home/jian/Projects/Big_Lots/Live_Ramp/Quarterly_Update_2019Q4/upload_files/C_Lapsed(13-18)_Score(L)_Density(H)_Legacy_AllExpCluster_S_2019Q4_RFM.csv',\n",
       " '/home/jian/Projects/Big_Lots/Live_Ramp/Quarterly_Update_2019Q4/upload_files/C_Lapsed(13-18)_Score(L)_Density(H)_SOTF_AllExpCluster_P_2019Q4_RFM.csv',\n",
       " '/home/jian/Projects/Big_Lots/Live_Ramp/Quarterly_Update_2019Q4/upload_files/C_Lapsed(13-18)_Score(L)_Density(H)_SOTF_AllExpCluster_S_2019Q4_RFM.csv',\n",
       " '/home/jian/Projects/Big_Lots/Live_Ramp/Quarterly_Update_2019Q4/upload_files/C_Lapsed(13-18)_Score(L)_Density(L)_Legacy_AllExpCluster_P_2019Q4_RFM.csv',\n",
       " '/home/jian/Projects/Big_Lots/Live_Ramp/Quarterly_Update_2019Q4/upload_files/C_Lapsed(13-18)_Score(L)_Density(L)_Legacy_AllExpCluster_S_2019Q4_RFM.csv',\n",
       " '/home/jian/Projects/Big_Lots/Live_Ramp/Quarterly_Update_2019Q4/upload_files/C_Lapsed(13-18)_Score(L)_Density(L)_SOTF_AllExpCluster_P_2019Q4_RFM.csv',\n",
       " '/home/jian/Projects/Big_Lots/Live_Ramp/Quarterly_Update_2019Q4/upload_files/C_Lapsed(13-18)_Score(L)_Density(L)_SOTF_AllExpCluster_S_2019Q4_RFM.csv',\n",
       " '/home/jian/Projects/Big_Lots/Live_Ramp/Quarterly_Update_2019Q4/upload_files/C_Lapsed(13-18)_Score(L)_Density(M)_Legacy_AllExpCluster_P_2019Q4_RFM.csv',\n",
       " '/home/jian/Projects/Big_Lots/Live_Ramp/Quarterly_Update_2019Q4/upload_files/C_Lapsed(13-18)_Score(L)_Density(M)_Legacy_AllExpCluster_S_2019Q4_RFM.csv',\n",
       " '/home/jian/Projects/Big_Lots/Live_Ramp/Quarterly_Update_2019Q4/upload_files/C_Lapsed(13-18)_Score(L)_Density(M)_SOTF_AllExpCluster_P_2019Q4_RFM.csv',\n",
       " '/home/jian/Projects/Big_Lots/Live_Ramp/Quarterly_Update_2019Q4/upload_files/C_Lapsed(13-18)_Score(L)_Density(M)_SOTF_AllExpCluster_S_2019Q4_RFM.csv',\n",
       " '/home/jian/Projects/Big_Lots/Live_Ramp/Quarterly_Update_2019Q4/upload_files/T_Lapsed(19-48)_Density(H)_Legacy_AllExpCluster_P_2019Q4_Lapsed.csv',\n",
       " '/home/jian/Projects/Big_Lots/Live_Ramp/Quarterly_Update_2019Q4/upload_files/T_Lapsed(19-48)_Density(L)_Legacy_AllExpCluster_P_2019Q4_Lapsed.csv',\n",
       " '/home/jian/Projects/Big_Lots/Live_Ramp/Quarterly_Update_2019Q4/upload_files/T_Lapsed(19-48)_Density(L)_SOTF_AllExpCluster_P_2019Q4_Lapsed.csv',\n",
       " '/home/jian/Projects/Big_Lots/Live_Ramp/Quarterly_Update_2019Q4/upload_files/T_Lapsed(19-48)_Density(M)_Legacy_AllExpCluster_P_2019Q4_Lapsed.csv',\n",
       " '/home/jian/Projects/Big_Lots/Live_Ramp/Quarterly_Update_2019Q4/upload_files/T_Lapsed(19-48)_Density(M)_SOTF_AllExpCluster_P_2019Q4_Lapsed.csv',\n",
       " '/home/jian/Projects/Big_Lots/Live_Ramp/Quarterly_Update_2019Q4/upload_files/C_Lapsed(19-48)_Density(H)_Legacy_AllExpCluster_P_2019Q4_Lapsed.csv',\n",
       " '/home/jian/Projects/Big_Lots/Live_Ramp/Quarterly_Update_2019Q4/upload_files/C_Lapsed(19-48)_Density(L)_Legacy_AllExpCluster_P_2019Q4_Lapsed.csv',\n",
       " '/home/jian/Projects/Big_Lots/Live_Ramp/Quarterly_Update_2019Q4/upload_files/C_Lapsed(19-48)_Density(L)_SOTF_AllExpCluster_P_2019Q4_Lapsed.csv',\n",
       " '/home/jian/Projects/Big_Lots/Live_Ramp/Quarterly_Update_2019Q4/upload_files/C_Lapsed(19-48)_Density(M)_Legacy_AllExpCluster_P_2019Q4_Lapsed.csv',\n",
       " '/home/jian/Projects/Big_Lots/Live_Ramp/Quarterly_Update_2019Q4/upload_files/C_Lapsed(19-48)_Density(M)_SOTF_AllExpCluster_P_2019Q4_Lapsed.csv']"
      ]
     },
     "execution_count": 7,
     "metadata": {},
     "output_type": "execute_result"
    }
   ],
   "source": [
    "previous_id_files_lists"
   ]
  },
  {
   "cell_type": "code",
   "execution_count": 8,
   "metadata": {},
   "outputs": [
    {
     "name": "stdout",
     "output_type": "stream",
     "text": [
      "len(uploaded_new_seg)60\n"
     ]
    }
   ],
   "source": [
    "import glob\n",
    "uploaded_new_seg=list(recursive_file_gen(\"/home/jian/celery/BiWeekly_New_SignUps/monthly_update/\"))\n",
    "uploaded_new_seg=[x for x in uploaded_new_seg if \".csv\" in x]\n",
    "print(\"len(uploaded_new_seg)\"+str(len(uploaded_new_seg)))\n",
    "previous_id_files_lists=previous_id_files_lists+uploaded_new_seg"
   ]
  },
  {
   "cell_type": "code",
   "execution_count": 9,
   "metadata": {
    "collapsed": true
   },
   "outputs": [],
   "source": [
    "# Exclude the quarterly regular segments\n"
   ]
  },
  {
   "cell_type": "code",
   "execution_count": 10,
   "metadata": {},
   "outputs": [
    {
     "name": "stdout",
     "output_type": "stream",
     "text": [
      "2019-12-05 11:48:14.531720 384492 /home/jian/Projects/Big_Lots/Live_Ramp/Quarterly_Update_2019Q4/upload_files/T_Active(0-12)_Score(H)_Density(H)_Legacy_HolidayShoppers_P_2019Q4_RFM.csv\n",
      "2019-12-05 11:48:14.615755 384492 /home/jian/Projects/Big_Lots/Live_Ramp/Quarterly_Update_2019Q4/upload_files/T_Active(0-12)_Score(H)_Density(H)_Legacy_HolidayShoppers_S_2019Q4_RFM.csv\n",
      "2019-12-05 11:48:16.455720 384491 /home/jian/Projects/Big_Lots/Live_Ramp/Quarterly_Update_2019Q4/upload_files/T_Active(0-12)_Score(H)_Density(H)_Legacy_Others_P_2019Q4_RFM.csv\n",
      "2019-12-05 11:48:16.893185 384491 /home/jian/Projects/Big_Lots/Live_Ramp/Quarterly_Update_2019Q4/upload_files/T_Active(0-12)_Score(H)_Density(H)_Legacy_Others_S_2019Q4_RFM.csv\n",
      "2019-12-05 11:48:16.967528 384491 /home/jian/Projects/Big_Lots/Live_Ramp/Quarterly_Update_2019Q4/upload_files/T_Active(0-12)_Score(H)_Density(H)_SOTF_HolidayShoppers_P_2019Q4_RFM.csv\n",
      "2019-12-05 11:48:17.051942 384491 /home/jian/Projects/Big_Lots/Live_Ramp/Quarterly_Update_2019Q4/upload_files/T_Active(0-12)_Score(H)_Density(H)_SOTF_HolidayShoppers_S_2019Q4_RFM.csv\n",
      "2019-12-05 11:48:17.169246 384491 /home/jian/Projects/Big_Lots/Live_Ramp/Quarterly_Update_2019Q4/upload_files/T_Active(0-12)_Score(H)_Density(H)_SOTF_Others_P_2019Q4_RFM.csv\n",
      "2019-12-05 11:48:17.254512 384491 /home/jian/Projects/Big_Lots/Live_Ramp/Quarterly_Update_2019Q4/upload_files/T_Active(0-12)_Score(H)_Density(H)_SOTF_Others_S_2019Q4_RFM.csv\n",
      "2019-12-05 11:48:17.316426 384491 /home/jian/Projects/Big_Lots/Live_Ramp/Quarterly_Update_2019Q4/upload_files/T_Active(0-12)_Score(H)_Density(L)_Legacy_HolidayShoppers_P_2019Q4_RFM.csv\n",
      "2019-12-05 11:48:17.388590 384491 /home/jian/Projects/Big_Lots/Live_Ramp/Quarterly_Update_2019Q4/upload_files/T_Active(0-12)_Score(H)_Density(L)_Legacy_HolidayShoppers_S_2019Q4_RFM.csv\n",
      "2019-12-05 11:48:17.489599 384490 /home/jian/Projects/Big_Lots/Live_Ramp/Quarterly_Update_2019Q4/upload_files/T_Active(0-12)_Score(H)_Density(L)_Legacy_Others_P_2019Q4_RFM.csv\n",
      "2019-12-05 11:48:17.569514 384490 /home/jian/Projects/Big_Lots/Live_Ramp/Quarterly_Update_2019Q4/upload_files/T_Active(0-12)_Score(H)_Density(L)_Legacy_Others_S_2019Q4_RFM.csv\n",
      "2019-12-05 11:48:17.665429 384490 /home/jian/Projects/Big_Lots/Live_Ramp/Quarterly_Update_2019Q4/upload_files/T_Active(0-12)_Score(H)_Density(L)_SOTF_HolidayShoppers_P_2019Q4_RFM.csv\n",
      "2019-12-05 11:48:17.753050 384490 /home/jian/Projects/Big_Lots/Live_Ramp/Quarterly_Update_2019Q4/upload_files/T_Active(0-12)_Score(H)_Density(L)_SOTF_HolidayShoppers_S_2019Q4_RFM.csv\n",
      "2019-12-05 11:48:18.555688 384490 /home/jian/Projects/Big_Lots/Live_Ramp/Quarterly_Update_2019Q4/upload_files/T_Active(0-12)_Score(H)_Density(L)_SOTF_Others_P_2019Q4_RFM.csv\n",
      "2019-12-05 11:48:19.137333 384490 /home/jian/Projects/Big_Lots/Live_Ramp/Quarterly_Update_2019Q4/upload_files/T_Active(0-12)_Score(H)_Density(L)_SOTF_Others_S_2019Q4_RFM.csv\n",
      "2019-12-05 11:48:19.703000 384489 /home/jian/Projects/Big_Lots/Live_Ramp/Quarterly_Update_2019Q4/upload_files/T_Active(0-12)_Score(H)_Density(M)_Legacy_HolidayShoppers_P_2019Q4_RFM.csv\n",
      "2019-12-05 11:48:19.933387 384489 /home/jian/Projects/Big_Lots/Live_Ramp/Quarterly_Update_2019Q4/upload_files/T_Active(0-12)_Score(H)_Density(M)_Legacy_HolidayShoppers_S_2019Q4_RFM.csv\n",
      "2019-12-05 11:48:28.754649 384476 /home/jian/Projects/Big_Lots/Live_Ramp/Quarterly_Update_2019Q4/upload_files/T_Active(0-12)_Score(H)_Density(M)_Legacy_Others_P_2019Q4_RFM.csv\n",
      "2019-12-05 11:48:32.210385 384468 /home/jian/Projects/Big_Lots/Live_Ramp/Quarterly_Update_2019Q4/upload_files/T_Active(0-12)_Score(H)_Density(M)_Legacy_Others_S_2019Q4_RFM.csv\n",
      "2019-12-05 11:48:32.695501 384468 /home/jian/Projects/Big_Lots/Live_Ramp/Quarterly_Update_2019Q4/upload_files/T_Active(0-12)_Score(H)_Density(M)_SOTF_HolidayShoppers_P_2019Q4_RFM.csv\n",
      "2019-12-05 11:48:32.849267 384467 /home/jian/Projects/Big_Lots/Live_Ramp/Quarterly_Update_2019Q4/upload_files/T_Active(0-12)_Score(H)_Density(M)_SOTF_HolidayShoppers_S_2019Q4_RFM.csv\n",
      "2019-12-05 11:48:37.259186 384460 /home/jian/Projects/Big_Lots/Live_Ramp/Quarterly_Update_2019Q4/upload_files/T_Active(0-12)_Score(H)_Density(M)_SOTF_Others_P_2019Q4_RFM.csv\n",
      "2019-12-05 11:48:39.100895 384459 /home/jian/Projects/Big_Lots/Live_Ramp/Quarterly_Update_2019Q4/upload_files/T_Active(0-12)_Score(H)_Density(M)_SOTF_Others_S_2019Q4_RFM.csv\n",
      "2019-12-05 11:48:39.262430 384459 /home/jian/Projects/Big_Lots/Live_Ramp/Quarterly_Update_2019Q4/upload_files/T_Active(0-12)_Score(L)_Density(H)_Legacy_HolidayShoppers_P_2019Q4_RFM.csv\n",
      "2019-12-05 11:48:39.352557 384459 /home/jian/Projects/Big_Lots/Live_Ramp/Quarterly_Update_2019Q4/upload_files/T_Active(0-12)_Score(L)_Density(H)_Legacy_HolidayShoppers_S_2019Q4_RFM.csv\n",
      "2019-12-05 11:48:39.820496 384459 /home/jian/Projects/Big_Lots/Live_Ramp/Quarterly_Update_2019Q4/upload_files/T_Active(0-12)_Score(L)_Density(H)_Legacy_Others_P_2019Q4_RFM.csv\n",
      "2019-12-05 11:48:40.035105 384459 /home/jian/Projects/Big_Lots/Live_Ramp/Quarterly_Update_2019Q4/upload_files/T_Active(0-12)_Score(L)_Density(H)_Legacy_Others_S_2019Q4_RFM.csv\n",
      "2019-12-05 11:48:40.105627 384459 /home/jian/Projects/Big_Lots/Live_Ramp/Quarterly_Update_2019Q4/upload_files/T_Active(0-12)_Score(L)_Density(H)_SOTF_HolidayShoppers_P_2019Q4_RFM.csv\n",
      "2019-12-05 11:48:40.166779 384459 /home/jian/Projects/Big_Lots/Live_Ramp/Quarterly_Update_2019Q4/upload_files/T_Active(0-12)_Score(L)_Density(H)_SOTF_HolidayShoppers_S_2019Q4_RFM.csv\n",
      "2019-12-05 11:48:40.268038 384459 /home/jian/Projects/Big_Lots/Live_Ramp/Quarterly_Update_2019Q4/upload_files/T_Active(0-12)_Score(L)_Density(H)_SOTF_Others_P_2019Q4_RFM.csv\n",
      "2019-12-05 11:48:40.349370 384459 /home/jian/Projects/Big_Lots/Live_Ramp/Quarterly_Update_2019Q4/upload_files/T_Active(0-12)_Score(L)_Density(H)_SOTF_Others_S_2019Q4_RFM.csv\n",
      "2019-12-05 11:48:40.410809 384459 /home/jian/Projects/Big_Lots/Live_Ramp/Quarterly_Update_2019Q4/upload_files/T_Active(0-12)_Score(L)_Density(L)_Legacy_HolidayShoppers_P_2019Q4_RFM.csv\n",
      "2019-12-05 11:48:40.487910 384459 /home/jian/Projects/Big_Lots/Live_Ramp/Quarterly_Update_2019Q4/upload_files/T_Active(0-12)_Score(L)_Density(L)_Legacy_HolidayShoppers_S_2019Q4_RFM.csv\n",
      "2019-12-05 11:48:40.569789 384459 /home/jian/Projects/Big_Lots/Live_Ramp/Quarterly_Update_2019Q4/upload_files/T_Active(0-12)_Score(L)_Density(L)_Legacy_Others_P_2019Q4_RFM.csv\n",
      "2019-12-05 11:48:40.633864 384459 /home/jian/Projects/Big_Lots/Live_Ramp/Quarterly_Update_2019Q4/upload_files/T_Active(0-12)_Score(L)_Density(L)_Legacy_Others_S_2019Q4_RFM.csv\n",
      "2019-12-05 11:48:40.715697 384459 /home/jian/Projects/Big_Lots/Live_Ramp/Quarterly_Update_2019Q4/upload_files/T_Active(0-12)_Score(L)_Density(L)_SOTF_HolidayShoppers_P_2019Q4_RFM.csv\n",
      "2019-12-05 11:48:40.812640 384459 /home/jian/Projects/Big_Lots/Live_Ramp/Quarterly_Update_2019Q4/upload_files/T_Active(0-12)_Score(L)_Density(L)_SOTF_HolidayShoppers_S_2019Q4_RFM.csv\n",
      "2019-12-05 11:48:41.029120 384459 /home/jian/Projects/Big_Lots/Live_Ramp/Quarterly_Update_2019Q4/upload_files/T_Active(0-12)_Score(L)_Density(L)_SOTF_Others_P_2019Q4_RFM.csv\n",
      "2019-12-05 11:48:41.224390 384459 /home/jian/Projects/Big_Lots/Live_Ramp/Quarterly_Update_2019Q4/upload_files/T_Active(0-12)_Score(L)_Density(L)_SOTF_Others_S_2019Q4_RFM.csv\n",
      "2019-12-05 11:48:41.584453 384459 /home/jian/Projects/Big_Lots/Live_Ramp/Quarterly_Update_2019Q4/upload_files/T_Active(0-12)_Score(L)_Density(M)_Legacy_HolidayShoppers_P_2019Q4_RFM.csv\n",
      "2019-12-05 11:48:41.799581 384459 /home/jian/Projects/Big_Lots/Live_Ramp/Quarterly_Update_2019Q4/upload_files/T_Active(0-12)_Score(L)_Density(M)_Legacy_HolidayShoppers_S_2019Q4_RFM.csv\n",
      "2019-12-05 11:48:44.411916 384456 /home/jian/Projects/Big_Lots/Live_Ramp/Quarterly_Update_2019Q4/upload_files/T_Active(0-12)_Score(L)_Density(M)_Legacy_Others_P_2019Q4_RFM.csv\n",
      "2019-12-05 11:48:46.160316 384456 /home/jian/Projects/Big_Lots/Live_Ramp/Quarterly_Update_2019Q4/upload_files/T_Active(0-12)_Score(L)_Density(M)_Legacy_Others_S_2019Q4_RFM.csv\n",
      "2019-12-05 11:48:46.419425 384455 /home/jian/Projects/Big_Lots/Live_Ramp/Quarterly_Update_2019Q4/upload_files/T_Active(0-12)_Score(L)_Density(M)_SOTF_HolidayShoppers_P_2019Q4_RFM.csv\n",
      "2019-12-05 11:48:46.545620 384455 /home/jian/Projects/Big_Lots/Live_Ramp/Quarterly_Update_2019Q4/upload_files/T_Active(0-12)_Score(L)_Density(M)_SOTF_HolidayShoppers_S_2019Q4_RFM.csv\n"
     ]
    },
    {
     "name": "stdout",
     "output_type": "stream",
     "text": [
      "2019-12-05 11:48:48.009085 384452 /home/jian/Projects/Big_Lots/Live_Ramp/Quarterly_Update_2019Q4/upload_files/T_Active(0-12)_Score(L)_Density(M)_SOTF_Others_P_2019Q4_RFM.csv\n",
      "2019-12-05 11:48:48.809439 384451 /home/jian/Projects/Big_Lots/Live_Ramp/Quarterly_Update_2019Q4/upload_files/T_Active(0-12)_Score(L)_Density(M)_SOTF_Others_S_2019Q4_RFM.csv\n",
      "2019-12-05 11:48:48.955487 384451 /home/jian/Projects/Big_Lots/Live_Ramp/Quarterly_Update_2019Q4/upload_files/T_Active(0-12)_Score(M)_Density(H)_Legacy_HolidayShoppers_P_2019Q4_RFM.csv\n",
      "2019-12-05 11:48:49.049012 384451 /home/jian/Projects/Big_Lots/Live_Ramp/Quarterly_Update_2019Q4/upload_files/T_Active(0-12)_Score(M)_Density(H)_Legacy_HolidayShoppers_S_2019Q4_RFM.csv\n",
      "2019-12-05 11:48:49.871055 384450 /home/jian/Projects/Big_Lots/Live_Ramp/Quarterly_Update_2019Q4/upload_files/T_Active(0-12)_Score(M)_Density(H)_Legacy_Others_P_2019Q4_RFM.csv\n",
      "2019-12-05 11:48:50.125364 384450 /home/jian/Projects/Big_Lots/Live_Ramp/Quarterly_Update_2019Q4/upload_files/T_Active(0-12)_Score(M)_Density(H)_Legacy_Others_S_2019Q4_RFM.csv\n",
      "2019-12-05 11:48:50.202780 384450 /home/jian/Projects/Big_Lots/Live_Ramp/Quarterly_Update_2019Q4/upload_files/T_Active(0-12)_Score(M)_Density(H)_SOTF_HolidayShoppers_P_2019Q4_RFM.csv\n",
      "2019-12-05 11:48:50.264631 384450 /home/jian/Projects/Big_Lots/Live_Ramp/Quarterly_Update_2019Q4/upload_files/T_Active(0-12)_Score(M)_Density(H)_SOTF_HolidayShoppers_S_2019Q4_RFM.csv\n",
      "2019-12-05 11:48:50.365785 384449 /home/jian/Projects/Big_Lots/Live_Ramp/Quarterly_Update_2019Q4/upload_files/T_Active(0-12)_Score(M)_Density(H)_SOTF_Others_P_2019Q4_RFM.csv\n",
      "2019-12-05 11:48:50.447547 384449 /home/jian/Projects/Big_Lots/Live_Ramp/Quarterly_Update_2019Q4/upload_files/T_Active(0-12)_Score(M)_Density(H)_SOTF_Others_S_2019Q4_RFM.csv\n",
      "2019-12-05 11:48:50.514729 384449 /home/jian/Projects/Big_Lots/Live_Ramp/Quarterly_Update_2019Q4/upload_files/T_Active(0-12)_Score(M)_Density(L)_Legacy_HolidayShoppers_P_2019Q4_RFM.csv\n",
      "2019-12-05 11:48:50.575601 384449 /home/jian/Projects/Big_Lots/Live_Ramp/Quarterly_Update_2019Q4/upload_files/T_Active(0-12)_Score(M)_Density(L)_Legacy_HolidayShoppers_S_2019Q4_RFM.csv\n",
      "2019-12-05 11:48:50.663023 384449 /home/jian/Projects/Big_Lots/Live_Ramp/Quarterly_Update_2019Q4/upload_files/T_Active(0-12)_Score(M)_Density(L)_Legacy_Others_P_2019Q4_RFM.csv\n",
      "2019-12-05 11:48:50.755016 384449 /home/jian/Projects/Big_Lots/Live_Ramp/Quarterly_Update_2019Q4/upload_files/T_Active(0-12)_Score(M)_Density(L)_Legacy_Others_S_2019Q4_RFM.csv\n",
      "2019-12-05 11:48:50.872357 384449 /home/jian/Projects/Big_Lots/Live_Ramp/Quarterly_Update_2019Q4/upload_files/T_Active(0-12)_Score(M)_Density(L)_SOTF_HolidayShoppers_P_2019Q4_RFM.csv\n",
      "2019-12-05 11:48:50.955129 384449 /home/jian/Projects/Big_Lots/Live_Ramp/Quarterly_Update_2019Q4/upload_files/T_Active(0-12)_Score(M)_Density(L)_SOTF_HolidayShoppers_S_2019Q4_RFM.csv\n",
      "2019-12-05 11:48:51.343033 384448 /home/jian/Projects/Big_Lots/Live_Ramp/Quarterly_Update_2019Q4/upload_files/T_Active(0-12)_Score(M)_Density(L)_SOTF_Others_P_2019Q4_RFM.csv\n",
      "2019-12-05 11:48:51.703460 384448 /home/jian/Projects/Big_Lots/Live_Ramp/Quarterly_Update_2019Q4/upload_files/T_Active(0-12)_Score(M)_Density(L)_SOTF_Others_S_2019Q4_RFM.csv\n",
      "2019-12-05 11:48:52.198102 384448 /home/jian/Projects/Big_Lots/Live_Ramp/Quarterly_Update_2019Q4/upload_files/T_Active(0-12)_Score(M)_Density(M)_Legacy_HolidayShoppers_P_2019Q4_RFM.csv\n",
      "2019-12-05 11:48:52.427056 384448 /home/jian/Projects/Big_Lots/Live_Ramp/Quarterly_Update_2019Q4/upload_files/T_Active(0-12)_Score(M)_Density(M)_Legacy_HolidayShoppers_S_2019Q4_RFM.csv\n",
      "2019-12-05 11:48:58.652783 384442 /home/jian/Projects/Big_Lots/Live_Ramp/Quarterly_Update_2019Q4/upload_files/T_Active(0-12)_Score(M)_Density(M)_Legacy_Others_P_2019Q4_RFM.csv\n",
      "2019-12-05 11:49:01.207910 384439 /home/jian/Projects/Big_Lots/Live_Ramp/Quarterly_Update_2019Q4/upload_files/T_Active(0-12)_Score(M)_Density(M)_Legacy_Others_S_2019Q4_RFM.csv\n",
      "2019-12-05 11:49:01.619184 384439 /home/jian/Projects/Big_Lots/Live_Ramp/Quarterly_Update_2019Q4/upload_files/T_Active(0-12)_Score(M)_Density(M)_SOTF_HolidayShoppers_P_2019Q4_RFM.csv\n",
      "2019-12-05 11:49:01.772220 384439 /home/jian/Projects/Big_Lots/Live_Ramp/Quarterly_Update_2019Q4/upload_files/T_Active(0-12)_Score(M)_Density(M)_SOTF_HolidayShoppers_S_2019Q4_RFM.csv\n",
      "2019-12-05 11:49:04.845930 384434 /home/jian/Projects/Big_Lots/Live_Ramp/Quarterly_Update_2019Q4/upload_files/T_Active(0-12)_Score(M)_Density(M)_SOTF_Others_P_2019Q4_RFM.csv\n",
      "2019-12-05 11:49:06.260950 384434 /home/jian/Projects/Big_Lots/Live_Ramp/Quarterly_Update_2019Q4/upload_files/T_Active(0-12)_Score(M)_Density(M)_SOTF_Others_S_2019Q4_RFM.csv\n",
      "2019-12-05 11:49:06.757284 384434 /home/jian/Projects/Big_Lots/Live_Ramp/Quarterly_Update_2019Q4/upload_files/T_Lapsed(13-18)_Score(L)_Density(H)_Legacy_AllExpCluster_P_2019Q4_RFM.csv\n",
      "2019-12-05 11:49:06.969592 384434 /home/jian/Projects/Big_Lots/Live_Ramp/Quarterly_Update_2019Q4/upload_files/T_Lapsed(13-18)_Score(L)_Density(H)_Legacy_AllExpCluster_S_2019Q4_RFM.csv\n",
      "2019-12-05 11:49:07.072893 384434 /home/jian/Projects/Big_Lots/Live_Ramp/Quarterly_Update_2019Q4/upload_files/T_Lapsed(13-18)_Score(L)_Density(H)_SOTF_AllExpCluster_P_2019Q4_RFM.csv\n",
      "2019-12-05 11:49:07.153226 384434 /home/jian/Projects/Big_Lots/Live_Ramp/Quarterly_Update_2019Q4/upload_files/T_Lapsed(13-18)_Score(L)_Density(H)_SOTF_AllExpCluster_S_2019Q4_RFM.csv\n",
      "2019-12-05 11:49:07.233162 384434 /home/jian/Projects/Big_Lots/Live_Ramp/Quarterly_Update_2019Q4/upload_files/T_Lapsed(13-18)_Score(L)_Density(L)_Legacy_AllExpCluster_P_2019Q4_RFM.csv\n",
      "2019-12-05 11:49:07.317095 384434 /home/jian/Projects/Big_Lots/Live_Ramp/Quarterly_Update_2019Q4/upload_files/T_Lapsed(13-18)_Score(L)_Density(L)_Legacy_AllExpCluster_S_2019Q4_RFM.csv\n",
      "2019-12-05 11:49:07.493554 384434 /home/jian/Projects/Big_Lots/Live_Ramp/Quarterly_Update_2019Q4/upload_files/T_Lapsed(13-18)_Score(L)_Density(L)_SOTF_AllExpCluster_P_2019Q4_RFM.csv\n",
      "2019-12-05 11:49:07.644289 384434 /home/jian/Projects/Big_Lots/Live_Ramp/Quarterly_Update_2019Q4/upload_files/T_Lapsed(13-18)_Score(L)_Density(L)_SOTF_AllExpCluster_S_2019Q4_RFM.csv\n",
      "2019-12-05 11:49:10.119643 384429 /home/jian/Projects/Big_Lots/Live_Ramp/Quarterly_Update_2019Q4/upload_files/T_Lapsed(13-18)_Score(L)_Density(M)_Legacy_AllExpCluster_P_2019Q4_RFM.csv\n",
      "2019-12-05 11:49:11.502526 384429 /home/jian/Projects/Big_Lots/Live_Ramp/Quarterly_Update_2019Q4/upload_files/T_Lapsed(13-18)_Score(L)_Density(M)_Legacy_AllExpCluster_S_2019Q4_RFM.csv\n",
      "2019-12-05 11:49:13.164249 384428 /home/jian/Projects/Big_Lots/Live_Ramp/Quarterly_Update_2019Q4/upload_files/T_Lapsed(13-18)_Score(L)_Density(M)_SOTF_AllExpCluster_P_2019Q4_RFM.csv\n",
      "2019-12-05 11:49:13.852616 384428 /home/jian/Projects/Big_Lots/Live_Ramp/Quarterly_Update_2019Q4/upload_files/T_Lapsed(13-18)_Score(L)_Density(M)_SOTF_AllExpCluster_S_2019Q4_RFM.csv\n",
      "2019-12-05 11:49:13.950214 384428 /home/jian/Projects/Big_Lots/Live_Ramp/Quarterly_Update_2019Q4/upload_files/C_Active(0-12)_Score(H)_Density(H)_Legacy_HolidayShoppers_P_2019Q4_RFM.csv\n",
      "2019-12-05 11:49:14.010323 384428 /home/jian/Projects/Big_Lots/Live_Ramp/Quarterly_Update_2019Q4/upload_files/C_Active(0-12)_Score(H)_Density(H)_Legacy_HolidayShoppers_S_2019Q4_RFM.csv\n",
      "2019-12-05 11:49:14.122697 384428 /home/jian/Projects/Big_Lots/Live_Ramp/Quarterly_Update_2019Q4/upload_files/C_Active(0-12)_Score(H)_Density(H)_Legacy_Others_P_2019Q4_RFM.csv\n",
      "2019-12-05 11:49:14.200151 384428 /home/jian/Projects/Big_Lots/Live_Ramp/Quarterly_Update_2019Q4/upload_files/C_Active(0-12)_Score(H)_Density(H)_Legacy_Others_S_2019Q4_RFM.csv\n",
      "2019-12-05 11:49:14.280217 384428 /home/jian/Projects/Big_Lots/Live_Ramp/Quarterly_Update_2019Q4/upload_files/C_Active(0-12)_Score(H)_Density(H)_SOTF_HolidayShoppers_P_2019Q4_RFM.csv\n",
      "2019-12-05 11:49:14.345923 384428 /home/jian/Projects/Big_Lots/Live_Ramp/Quarterly_Update_2019Q4/upload_files/C_Active(0-12)_Score(H)_Density(H)_SOTF_HolidayShoppers_S_2019Q4_RFM.csv\n",
      "2019-12-05 11:49:14.410471 384428 /home/jian/Projects/Big_Lots/Live_Ramp/Quarterly_Update_2019Q4/upload_files/C_Active(0-12)_Score(H)_Density(H)_SOTF_Others_P_2019Q4_RFM.csv\n",
      "2019-12-05 11:49:14.491839 384428 /home/jian/Projects/Big_Lots/Live_Ramp/Quarterly_Update_2019Q4/upload_files/C_Active(0-12)_Score(H)_Density(H)_SOTF_Others_S_2019Q4_RFM.csv\n"
     ]
    },
    {
     "name": "stdout",
     "output_type": "stream",
     "text": [
      "2019-12-05 11:49:14.563248 384428 /home/jian/Projects/Big_Lots/Live_Ramp/Quarterly_Update_2019Q4/upload_files/C_Active(0-12)_Score(H)_Density(L)_Legacy_HolidayShoppers_P_2019Q4_RFM.csv\n",
      "2019-12-05 11:49:14.623588 384428 /home/jian/Projects/Big_Lots/Live_Ramp/Quarterly_Update_2019Q4/upload_files/C_Active(0-12)_Score(H)_Density(L)_Legacy_HolidayShoppers_S_2019Q4_RFM.csv\n",
      "2019-12-05 11:49:14.690010 384428 /home/jian/Projects/Big_Lots/Live_Ramp/Quarterly_Update_2019Q4/upload_files/C_Active(0-12)_Score(H)_Density(L)_Legacy_Others_P_2019Q4_RFM.csv\n",
      "2019-12-05 11:49:14.763506 384428 /home/jian/Projects/Big_Lots/Live_Ramp/Quarterly_Update_2019Q4/upload_files/C_Active(0-12)_Score(H)_Density(L)_Legacy_Others_S_2019Q4_RFM.csv\n",
      "2019-12-05 11:49:14.841268 384428 /home/jian/Projects/Big_Lots/Live_Ramp/Quarterly_Update_2019Q4/upload_files/C_Active(0-12)_Score(H)_Density(L)_SOTF_HolidayShoppers_P_2019Q4_RFM.csv\n",
      "2019-12-05 11:49:14.900133 384428 /home/jian/Projects/Big_Lots/Live_Ramp/Quarterly_Update_2019Q4/upload_files/C_Active(0-12)_Score(H)_Density(L)_SOTF_HolidayShoppers_S_2019Q4_RFM.csv\n",
      "2019-12-05 11:49:15.014791 384428 /home/jian/Projects/Big_Lots/Live_Ramp/Quarterly_Update_2019Q4/upload_files/C_Active(0-12)_Score(H)_Density(L)_SOTF_Others_P_2019Q4_RFM.csv\n",
      "2019-12-05 11:49:15.092905 384428 /home/jian/Projects/Big_Lots/Live_Ramp/Quarterly_Update_2019Q4/upload_files/C_Active(0-12)_Score(H)_Density(L)_SOTF_Others_S_2019Q4_RFM.csv\n",
      "2019-12-05 11:49:15.173162 384428 /home/jian/Projects/Big_Lots/Live_Ramp/Quarterly_Update_2019Q4/upload_files/C_Active(0-12)_Score(H)_Density(M)_Legacy_HolidayShoppers_P_2019Q4_RFM.csv\n",
      "2019-12-05 11:49:15.263492 384428 /home/jian/Projects/Big_Lots/Live_Ramp/Quarterly_Update_2019Q4/upload_files/C_Active(0-12)_Score(H)_Density(M)_Legacy_HolidayShoppers_S_2019Q4_RFM.csv\n",
      "2019-12-05 11:49:15.478325 384427 /home/jian/Projects/Big_Lots/Live_Ramp/Quarterly_Update_2019Q4/upload_files/C_Active(0-12)_Score(H)_Density(M)_Legacy_Others_P_2019Q4_RFM.csv\n",
      "2019-12-05 11:49:15.661514 384426 /home/jian/Projects/Big_Lots/Live_Ramp/Quarterly_Update_2019Q4/upload_files/C_Active(0-12)_Score(H)_Density(M)_Legacy_Others_S_2019Q4_RFM.csv\n",
      "2019-12-05 11:49:15.757123 384426 /home/jian/Projects/Big_Lots/Live_Ramp/Quarterly_Update_2019Q4/upload_files/C_Active(0-12)_Score(H)_Density(M)_SOTF_HolidayShoppers_P_2019Q4_RFM.csv\n",
      "2019-12-05 11:49:15.844718 384426 /home/jian/Projects/Big_Lots/Live_Ramp/Quarterly_Update_2019Q4/upload_files/C_Active(0-12)_Score(H)_Density(M)_SOTF_HolidayShoppers_S_2019Q4_RFM.csv\n",
      "2019-12-05 11:49:16.018405 384426 /home/jian/Projects/Big_Lots/Live_Ramp/Quarterly_Update_2019Q4/upload_files/C_Active(0-12)_Score(H)_Density(M)_SOTF_Others_P_2019Q4_RFM.csv\n",
      "2019-12-05 11:49:16.159253 384426 /home/jian/Projects/Big_Lots/Live_Ramp/Quarterly_Update_2019Q4/upload_files/C_Active(0-12)_Score(H)_Density(M)_SOTF_Others_S_2019Q4_RFM.csv\n",
      "2019-12-05 11:49:16.221110 384426 /home/jian/Projects/Big_Lots/Live_Ramp/Quarterly_Update_2019Q4/upload_files/C_Active(0-12)_Score(L)_Density(H)_Legacy_HolidayShoppers_P_2019Q4_RFM.csv\n",
      "2019-12-05 11:49:16.284003 384426 /home/jian/Projects/Big_Lots/Live_Ramp/Quarterly_Update_2019Q4/upload_files/C_Active(0-12)_Score(L)_Density(H)_Legacy_HolidayShoppers_S_2019Q4_RFM.csv\n",
      "2019-12-05 11:49:16.375127 384426 /home/jian/Projects/Big_Lots/Live_Ramp/Quarterly_Update_2019Q4/upload_files/C_Active(0-12)_Score(L)_Density(H)_Legacy_Others_P_2019Q4_RFM.csv\n",
      "2019-12-05 11:49:16.447794 384426 /home/jian/Projects/Big_Lots/Live_Ramp/Quarterly_Update_2019Q4/upload_files/C_Active(0-12)_Score(L)_Density(H)_Legacy_Others_S_2019Q4_RFM.csv\n",
      "2019-12-05 11:49:16.526271 384426 /home/jian/Projects/Big_Lots/Live_Ramp/Quarterly_Update_2019Q4/upload_files/C_Active(0-12)_Score(L)_Density(H)_SOTF_HolidayShoppers_P_2019Q4_RFM.csv\n",
      "2019-12-05 11:49:16.594617 384426 /home/jian/Projects/Big_Lots/Live_Ramp/Quarterly_Update_2019Q4/upload_files/C_Active(0-12)_Score(L)_Density(H)_SOTF_HolidayShoppers_S_2019Q4_RFM.csv\n",
      "2019-12-05 11:49:16.657318 384426 /home/jian/Projects/Big_Lots/Live_Ramp/Quarterly_Update_2019Q4/upload_files/C_Active(0-12)_Score(L)_Density(H)_SOTF_Others_P_2019Q4_RFM.csv\n",
      "2019-12-05 11:49:16.717150 384426 /home/jian/Projects/Big_Lots/Live_Ramp/Quarterly_Update_2019Q4/upload_files/C_Active(0-12)_Score(L)_Density(H)_SOTF_Others_S_2019Q4_RFM.csv\n",
      "2019-12-05 11:49:16.776027 384426 /home/jian/Projects/Big_Lots/Live_Ramp/Quarterly_Update_2019Q4/upload_files/C_Active(0-12)_Score(L)_Density(L)_Legacy_HolidayShoppers_P_2019Q4_RFM.csv\n",
      "2019-12-05 11:49:16.834538 384426 /home/jian/Projects/Big_Lots/Live_Ramp/Quarterly_Update_2019Q4/upload_files/C_Active(0-12)_Score(L)_Density(L)_Legacy_HolidayShoppers_S_2019Q4_RFM.csv\n",
      "2019-12-05 11:49:16.899067 384426 /home/jian/Projects/Big_Lots/Live_Ramp/Quarterly_Update_2019Q4/upload_files/C_Active(0-12)_Score(L)_Density(L)_Legacy_Others_P_2019Q4_RFM.csv\n",
      "2019-12-05 11:49:16.971177 384426 /home/jian/Projects/Big_Lots/Live_Ramp/Quarterly_Update_2019Q4/upload_files/C_Active(0-12)_Score(L)_Density(L)_Legacy_Others_S_2019Q4_RFM.csv\n",
      "2019-12-05 11:49:17.046924 384426 /home/jian/Projects/Big_Lots/Live_Ramp/Quarterly_Update_2019Q4/upload_files/C_Active(0-12)_Score(L)_Density(L)_SOTF_HolidayShoppers_P_2019Q4_RFM.csv\n",
      "2019-12-05 11:49:17.111582 384426 /home/jian/Projects/Big_Lots/Live_Ramp/Quarterly_Update_2019Q4/upload_files/C_Active(0-12)_Score(L)_Density(L)_SOTF_HolidayShoppers_S_2019Q4_RFM.csv\n",
      "2019-12-05 11:49:17.194942 384426 /home/jian/Projects/Big_Lots/Live_Ramp/Quarterly_Update_2019Q4/upload_files/C_Active(0-12)_Score(L)_Density(L)_SOTF_Others_P_2019Q4_RFM.csv\n",
      "2019-12-05 11:49:17.275823 384426 /home/jian/Projects/Big_Lots/Live_Ramp/Quarterly_Update_2019Q4/upload_files/C_Active(0-12)_Score(L)_Density(L)_SOTF_Others_S_2019Q4_RFM.csv\n",
      "2019-12-05 11:49:17.366057 384426 /home/jian/Projects/Big_Lots/Live_Ramp/Quarterly_Update_2019Q4/upload_files/C_Active(0-12)_Score(L)_Density(M)_Legacy_HolidayShoppers_P_2019Q4_RFM.csv\n",
      "2019-12-05 11:49:17.446291 384426 /home/jian/Projects/Big_Lots/Live_Ramp/Quarterly_Update_2019Q4/upload_files/C_Active(0-12)_Score(L)_Density(M)_Legacy_HolidayShoppers_S_2019Q4_RFM.csv\n",
      "2019-12-05 11:49:17.605112 384425 /home/jian/Projects/Big_Lots/Live_Ramp/Quarterly_Update_2019Q4/upload_files/C_Active(0-12)_Score(L)_Density(M)_Legacy_Others_P_2019Q4_RFM.csv\n",
      "2019-12-05 11:49:17.719889 384425 /home/jian/Projects/Big_Lots/Live_Ramp/Quarterly_Update_2019Q4/upload_files/C_Active(0-12)_Score(L)_Density(M)_Legacy_Others_S_2019Q4_RFM.csv\n",
      "2019-12-05 11:49:17.788779 384425 /home/jian/Projects/Big_Lots/Live_Ramp/Quarterly_Update_2019Q4/upload_files/C_Active(0-12)_Score(L)_Density(M)_SOTF_HolidayShoppers_P_2019Q4_RFM.csv\n",
      "2019-12-05 11:49:17.864908 384425 /home/jian/Projects/Big_Lots/Live_Ramp/Quarterly_Update_2019Q4/upload_files/C_Active(0-12)_Score(L)_Density(M)_SOTF_HolidayShoppers_S_2019Q4_RFM.csv\n",
      "2019-12-05 11:49:17.969366 384425 /home/jian/Projects/Big_Lots/Live_Ramp/Quarterly_Update_2019Q4/upload_files/C_Active(0-12)_Score(L)_Density(M)_SOTF_Others_P_2019Q4_RFM.csv\n",
      "2019-12-05 11:49:18.071752 384425 /home/jian/Projects/Big_Lots/Live_Ramp/Quarterly_Update_2019Q4/upload_files/C_Active(0-12)_Score(L)_Density(M)_SOTF_Others_S_2019Q4_RFM.csv\n",
      "2019-12-05 11:49:18.139029 384425 /home/jian/Projects/Big_Lots/Live_Ramp/Quarterly_Update_2019Q4/upload_files/C_Active(0-12)_Score(M)_Density(H)_Legacy_HolidayShoppers_P_2019Q4_RFM.csv\n",
      "2019-12-05 11:49:18.202187 384425 /home/jian/Projects/Big_Lots/Live_Ramp/Quarterly_Update_2019Q4/upload_files/C_Active(0-12)_Score(M)_Density(H)_Legacy_HolidayShoppers_S_2019Q4_RFM.csv\n",
      "2019-12-05 11:49:18.289127 384425 /home/jian/Projects/Big_Lots/Live_Ramp/Quarterly_Update_2019Q4/upload_files/C_Active(0-12)_Score(M)_Density(H)_Legacy_Others_P_2019Q4_RFM.csv\n",
      "2019-12-05 11:49:18.360879 384425 /home/jian/Projects/Big_Lots/Live_Ramp/Quarterly_Update_2019Q4/upload_files/C_Active(0-12)_Score(M)_Density(H)_Legacy_Others_S_2019Q4_RFM.csv\n",
      "2019-12-05 11:49:18.420734 384425 /home/jian/Projects/Big_Lots/Live_Ramp/Quarterly_Update_2019Q4/upload_files/C_Active(0-12)_Score(M)_Density(H)_SOTF_HolidayShoppers_P_2019Q4_RFM.csv\n",
      "2019-12-05 11:49:18.493431 384425 /home/jian/Projects/Big_Lots/Live_Ramp/Quarterly_Update_2019Q4/upload_files/C_Active(0-12)_Score(M)_Density(H)_SOTF_HolidayShoppers_S_2019Q4_RFM.csv\n",
      "2019-12-05 11:49:18.553900 384425 /home/jian/Projects/Big_Lots/Live_Ramp/Quarterly_Update_2019Q4/upload_files/C_Active(0-12)_Score(M)_Density(H)_SOTF_Others_P_2019Q4_RFM.csv\n",
      "2019-12-05 11:49:18.624179 384425 /home/jian/Projects/Big_Lots/Live_Ramp/Quarterly_Update_2019Q4/upload_files/C_Active(0-12)_Score(M)_Density(H)_SOTF_Others_S_2019Q4_RFM.csv\n",
      "2019-12-05 11:49:18.683028 384425 /home/jian/Projects/Big_Lots/Live_Ramp/Quarterly_Update_2019Q4/upload_files/C_Active(0-12)_Score(M)_Density(L)_Legacy_HolidayShoppers_P_2019Q4_RFM.csv\n"
     ]
    },
    {
     "name": "stdout",
     "output_type": "stream",
     "text": [
      "2019-12-05 11:49:18.748202 384425 /home/jian/Projects/Big_Lots/Live_Ramp/Quarterly_Update_2019Q4/upload_files/C_Active(0-12)_Score(M)_Density(L)_Legacy_HolidayShoppers_S_2019Q4_RFM.csv\n",
      "2019-12-05 11:49:18.819030 384425 /home/jian/Projects/Big_Lots/Live_Ramp/Quarterly_Update_2019Q4/upload_files/C_Active(0-12)_Score(M)_Density(L)_Legacy_Others_P_2019Q4_RFM.csv\n",
      "2019-12-05 11:49:18.878583 384425 /home/jian/Projects/Big_Lots/Live_Ramp/Quarterly_Update_2019Q4/upload_files/C_Active(0-12)_Score(M)_Density(L)_Legacy_Others_S_2019Q4_RFM.csv\n",
      "2019-12-05 11:49:18.946261 384425 /home/jian/Projects/Big_Lots/Live_Ramp/Quarterly_Update_2019Q4/upload_files/C_Active(0-12)_Score(M)_Density(L)_SOTF_HolidayShoppers_P_2019Q4_RFM.csv\n",
      "2019-12-05 11:49:19.023946 384425 /home/jian/Projects/Big_Lots/Live_Ramp/Quarterly_Update_2019Q4/upload_files/C_Active(0-12)_Score(M)_Density(L)_SOTF_HolidayShoppers_S_2019Q4_RFM.csv\n",
      "2019-12-05 11:49:19.100695 384425 /home/jian/Projects/Big_Lots/Live_Ramp/Quarterly_Update_2019Q4/upload_files/C_Active(0-12)_Score(M)_Density(L)_SOTF_Others_P_2019Q4_RFM.csv\n",
      "2019-12-05 11:49:19.182935 384425 /home/jian/Projects/Big_Lots/Live_Ramp/Quarterly_Update_2019Q4/upload_files/C_Active(0-12)_Score(M)_Density(L)_SOTF_Others_S_2019Q4_RFM.csv\n",
      "2019-12-05 11:49:19.258765 384425 /home/jian/Projects/Big_Lots/Live_Ramp/Quarterly_Update_2019Q4/upload_files/C_Active(0-12)_Score(M)_Density(M)_Legacy_HolidayShoppers_P_2019Q4_RFM.csv\n",
      "2019-12-05 11:49:19.354883 384425 /home/jian/Projects/Big_Lots/Live_Ramp/Quarterly_Update_2019Q4/upload_files/C_Active(0-12)_Score(M)_Density(M)_Legacy_HolidayShoppers_S_2019Q4_RFM.csv\n",
      "2019-12-05 11:49:19.565058 384425 /home/jian/Projects/Big_Lots/Live_Ramp/Quarterly_Update_2019Q4/upload_files/C_Active(0-12)_Score(M)_Density(M)_Legacy_Others_P_2019Q4_RFM.csv\n",
      "2019-12-05 11:49:19.729779 384425 /home/jian/Projects/Big_Lots/Live_Ramp/Quarterly_Update_2019Q4/upload_files/C_Active(0-12)_Score(M)_Density(M)_Legacy_Others_S_2019Q4_RFM.csv\n",
      "2019-12-05 11:49:19.813495 384425 /home/jian/Projects/Big_Lots/Live_Ramp/Quarterly_Update_2019Q4/upload_files/C_Active(0-12)_Score(M)_Density(M)_SOTF_HolidayShoppers_P_2019Q4_RFM.csv\n",
      "2019-12-05 11:49:19.876143 384425 /home/jian/Projects/Big_Lots/Live_Ramp/Quarterly_Update_2019Q4/upload_files/C_Active(0-12)_Score(M)_Density(M)_SOTF_HolidayShoppers_S_2019Q4_RFM.csv\n",
      "2019-12-05 11:49:20.010171 384425 /home/jian/Projects/Big_Lots/Live_Ramp/Quarterly_Update_2019Q4/upload_files/C_Active(0-12)_Score(M)_Density(M)_SOTF_Others_P_2019Q4_RFM.csv\n",
      "2019-12-05 11:49:20.114300 384425 /home/jian/Projects/Big_Lots/Live_Ramp/Quarterly_Update_2019Q4/upload_files/C_Active(0-12)_Score(M)_Density(M)_SOTF_Others_S_2019Q4_RFM.csv\n",
      "2019-12-05 11:49:20.196157 384425 /home/jian/Projects/Big_Lots/Live_Ramp/Quarterly_Update_2019Q4/upload_files/C_Lapsed(13-18)_Score(L)_Density(H)_Legacy_AllExpCluster_P_2019Q4_RFM.csv\n",
      "2019-12-05 11:49:20.269909 384425 /home/jian/Projects/Big_Lots/Live_Ramp/Quarterly_Update_2019Q4/upload_files/C_Lapsed(13-18)_Score(L)_Density(H)_Legacy_AllExpCluster_S_2019Q4_RFM.csv\n",
      "2019-12-05 11:49:20.332902 384425 /home/jian/Projects/Big_Lots/Live_Ramp/Quarterly_Update_2019Q4/upload_files/C_Lapsed(13-18)_Score(L)_Density(H)_SOTF_AllExpCluster_P_2019Q4_RFM.csv\n",
      "2019-12-05 11:49:20.392751 384425 /home/jian/Projects/Big_Lots/Live_Ramp/Quarterly_Update_2019Q4/upload_files/C_Lapsed(13-18)_Score(L)_Density(H)_SOTF_AllExpCluster_S_2019Q4_RFM.csv\n",
      "2019-12-05 11:49:20.456535 384425 /home/jian/Projects/Big_Lots/Live_Ramp/Quarterly_Update_2019Q4/upload_files/C_Lapsed(13-18)_Score(L)_Density(L)_Legacy_AllExpCluster_P_2019Q4_RFM.csv\n",
      "2019-12-05 11:49:20.520854 384425 /home/jian/Projects/Big_Lots/Live_Ramp/Quarterly_Update_2019Q4/upload_files/C_Lapsed(13-18)_Score(L)_Density(L)_Legacy_AllExpCluster_S_2019Q4_RFM.csv\n",
      "2019-12-05 11:49:20.603753 384425 /home/jian/Projects/Big_Lots/Live_Ramp/Quarterly_Update_2019Q4/upload_files/C_Lapsed(13-18)_Score(L)_Density(L)_SOTF_AllExpCluster_P_2019Q4_RFM.csv\n",
      "2019-12-05 11:49:20.668846 384425 /home/jian/Projects/Big_Lots/Live_Ramp/Quarterly_Update_2019Q4/upload_files/C_Lapsed(13-18)_Score(L)_Density(L)_SOTF_AllExpCluster_S_2019Q4_RFM.csv\n",
      "2019-12-05 11:49:20.818472 384425 /home/jian/Projects/Big_Lots/Live_Ramp/Quarterly_Update_2019Q4/upload_files/C_Lapsed(13-18)_Score(L)_Density(M)_Legacy_AllExpCluster_P_2019Q4_RFM.csv\n",
      "2019-12-05 11:49:20.923852 384425 /home/jian/Projects/Big_Lots/Live_Ramp/Quarterly_Update_2019Q4/upload_files/C_Lapsed(13-18)_Score(L)_Density(M)_Legacy_AllExpCluster_S_2019Q4_RFM.csv\n",
      "2019-12-05 11:49:21.020212 384425 /home/jian/Projects/Big_Lots/Live_Ramp/Quarterly_Update_2019Q4/upload_files/C_Lapsed(13-18)_Score(L)_Density(M)_SOTF_AllExpCluster_P_2019Q4_RFM.csv\n",
      "2019-12-05 11:49:21.115703 384425 /home/jian/Projects/Big_Lots/Live_Ramp/Quarterly_Update_2019Q4/upload_files/C_Lapsed(13-18)_Score(L)_Density(M)_SOTF_AllExpCluster_S_2019Q4_RFM.csv\n",
      "2019-12-05 11:49:22.713676 384425 /home/jian/Projects/Big_Lots/Live_Ramp/Quarterly_Update_2019Q4/upload_files/T_Lapsed(19-48)_Density(H)_Legacy_AllExpCluster_P_2019Q4_Lapsed.csv\n",
      "2019-12-05 11:49:22.838606 384425 /home/jian/Projects/Big_Lots/Live_Ramp/Quarterly_Update_2019Q4/upload_files/T_Lapsed(19-48)_Density(L)_Legacy_AllExpCluster_P_2019Q4_Lapsed.csv\n",
      "2019-12-05 11:49:23.357326 384422 /home/jian/Projects/Big_Lots/Live_Ramp/Quarterly_Update_2019Q4/upload_files/T_Lapsed(19-48)_Density(L)_SOTF_AllExpCluster_P_2019Q4_Lapsed.csv\n",
      "2019-12-05 11:49:30.882205 384414 /home/jian/Projects/Big_Lots/Live_Ramp/Quarterly_Update_2019Q4/upload_files/T_Lapsed(19-48)_Density(M)_Legacy_AllExpCluster_P_2019Q4_Lapsed.csv\n",
      "2019-12-05 11:49:37.344086 384407 /home/jian/Projects/Big_Lots/Live_Ramp/Quarterly_Update_2019Q4/upload_files/T_Lapsed(19-48)_Density(M)_SOTF_AllExpCluster_P_2019Q4_Lapsed.csv\n",
      "2019-12-05 11:49:37.732876 384407 /home/jian/Projects/Big_Lots/Live_Ramp/Quarterly_Update_2019Q4/upload_files/C_Lapsed(19-48)_Density(H)_Legacy_AllExpCluster_P_2019Q4_Lapsed.csv\n",
      "2019-12-05 11:49:37.813847 384407 /home/jian/Projects/Big_Lots/Live_Ramp/Quarterly_Update_2019Q4/upload_files/C_Lapsed(19-48)_Density(L)_Legacy_AllExpCluster_P_2019Q4_Lapsed.csv\n",
      "2019-12-05 11:49:37.891169 384407 /home/jian/Projects/Big_Lots/Live_Ramp/Quarterly_Update_2019Q4/upload_files/C_Lapsed(19-48)_Density(L)_SOTF_AllExpCluster_P_2019Q4_Lapsed.csv\n",
      "2019-12-05 11:49:38.087584 384407 /home/jian/Projects/Big_Lots/Live_Ramp/Quarterly_Update_2019Q4/upload_files/C_Lapsed(19-48)_Density(M)_Legacy_AllExpCluster_P_2019Q4_Lapsed.csv\n",
      "2019-12-05 11:49:38.241420 384406 /home/jian/Projects/Big_Lots/Live_Ramp/Quarterly_Update_2019Q4/upload_files/C_Lapsed(19-48)_Density(M)_SOTF_AllExpCluster_P_2019Q4_Lapsed.csv\n",
      "2019-12-05 11:49:39.042128 384405 /home/jian/celery/BiWeekly_New_SignUps/monthly_update/output_2018-12-29/NewReward_2018-12-29_P.csv\n",
      "2019-12-05 11:49:39.361405 384405 /home/jian/celery/BiWeekly_New_SignUps/monthly_update/output_2018-12-29/NewReward_2018-12-29_S.csv\n",
      "2019-12-05 11:49:39.592880 384405 /home/jian/celery/BiWeekly_New_SignUps/monthly_update/output_2018-12-29/NewReward_2018-12-29_T.csv\n",
      "2019-12-05 11:49:40.280146 384405 /home/jian/celery/BiWeekly_New_SignUps/monthly_update/output_2019-01-26/NewReward_2019-01-26_P.csv\n",
      "2019-12-05 11:49:40.487329 384405 /home/jian/celery/BiWeekly_New_SignUps/monthly_update/output_2019-01-26/NewReward_2019-01-26_S.csv\n",
      "2019-12-05 11:49:40.650566 384404 /home/jian/celery/BiWeekly_New_SignUps/monthly_update/output_2019-01-26/NewReward_2019-01-26_T.csv\n",
      "2019-12-05 11:49:41.264301 384404 /home/jian/celery/BiWeekly_New_SignUps/monthly_update/output_2019-02-23/NewReward_2019-02-23_P.csv\n",
      "2019-12-05 11:49:41.491234 384404 /home/jian/celery/BiWeekly_New_SignUps/monthly_update/output_2019-02-23/NewReward_2019-02-23_S.csv\n",
      "2019-12-05 11:49:41.633507 384404 /home/jian/celery/BiWeekly_New_SignUps/monthly_update/output_2019-02-23/NewReward_2019-02-23_T.csv\n",
      "2019-12-05 11:49:42.299388 384404 /home/jian/celery/BiWeekly_New_SignUps/monthly_update/output_2019-03-23/NewReward_2019-03-23_P.csv\n",
      "2019-12-05 11:49:42.521376 384404 /home/jian/celery/BiWeekly_New_SignUps/monthly_update/output_2019-03-23/NewReward_2019-03-23_S.csv\n",
      "2019-12-05 11:49:42.661149 384404 /home/jian/celery/BiWeekly_New_SignUps/monthly_update/output_2019-03-23/NewReward_2019-03-23_T.csv\n"
     ]
    },
    {
     "name": "stdout",
     "output_type": "stream",
     "text": [
      "2019-12-05 11:49:43.067530 384404 /home/jian/celery/BiWeekly_New_SignUps/monthly_update/output_2019-04-06/NewReward_2019-04-06_P.csv\n",
      "2019-12-05 11:49:43.251392 384404 /home/jian/celery/BiWeekly_New_SignUps/monthly_update/output_2019-04-06/NewReward_2019-04-06_S.csv\n",
      "2019-12-05 11:49:43.373221 384404 /home/jian/celery/BiWeekly_New_SignUps/monthly_update/output_2019-04-06/NewReward_2019-04-06_T.csv\n",
      "2019-12-05 11:49:43.734095 384404 /home/jian/celery/BiWeekly_New_SignUps/monthly_update/output_2019-04-20/NewReward_2019-04-20_P.csv\n",
      "2019-12-05 11:49:43.852289 384404 /home/jian/celery/BiWeekly_New_SignUps/monthly_update/output_2019-04-20/NewReward_2019-04-20_S.csv\n",
      "2019-12-05 11:49:43.958914 384404 /home/jian/celery/BiWeekly_New_SignUps/monthly_update/output_2019-04-20/NewReward_2019-04-20_T.csv\n",
      "2019-12-05 11:49:44.277702 384404 /home/jian/celery/BiWeekly_New_SignUps/monthly_update/output_2019-05-04/NewReward_2019-05-04_P.csv\n",
      "2019-12-05 11:49:44.425620 384404 /home/jian/celery/BiWeekly_New_SignUps/monthly_update/output_2019-05-04/NewReward_2019-05-04_S.csv\n",
      "2019-12-05 11:49:44.528188 384404 /home/jian/celery/BiWeekly_New_SignUps/monthly_update/output_2019-05-04/NewReward_2019-05-04_T.csv\n",
      "2019-12-05 11:49:44.842378 384404 /home/jian/celery/BiWeekly_New_SignUps/monthly_update/output_2019-05-18/NewReward_2019-05-18_P.csv\n",
      "2019-12-05 11:49:44.992497 384404 /home/jian/celery/BiWeekly_New_SignUps/monthly_update/output_2019-05-18/NewReward_2019-05-18_S.csv\n",
      "2019-12-05 11:49:45.101185 384404 /home/jian/celery/BiWeekly_New_SignUps/monthly_update/output_2019-05-18/NewReward_2019-05-18_T.csv\n",
      "2019-12-05 11:49:45.474547 384404 /home/jian/celery/BiWeekly_New_SignUps/monthly_update/output_2019-06-01/NewReward_2019-06-01_P.csv\n",
      "2019-12-05 11:49:45.634998 384404 /home/jian/celery/BiWeekly_New_SignUps/monthly_update/output_2019-06-01/NewReward_2019-06-01_S.csv\n",
      "2019-12-05 11:49:45.753709 384404 /home/jian/celery/BiWeekly_New_SignUps/monthly_update/output_2019-06-01/NewReward_2019-06-01_T.csv\n",
      "2019-12-05 11:49:46.138595 384404 /home/jian/celery/BiWeekly_New_SignUps/monthly_update/output_2019-06-15/NewReward_2019-06-15_P.csv\n",
      "2019-12-05 11:49:46.283352 384404 /home/jian/celery/BiWeekly_New_SignUps/monthly_update/output_2019-06-15/NewReward_2019-06-15_S.csv\n",
      "2019-12-05 11:49:46.516062 384404 /home/jian/celery/BiWeekly_New_SignUps/monthly_update/output_2019-06-15/NewReward_2019-06-15_T.csv\n",
      "2019-12-05 11:49:46.891210 384404 /home/jian/celery/BiWeekly_New_SignUps/monthly_update/output_2019-06-29/NewReward_2019-06-29_P.csv\n",
      "2019-12-05 11:49:47.031864 384404 /home/jian/celery/BiWeekly_New_SignUps/monthly_update/output_2019-06-29/NewReward_2019-06-29_S.csv\n",
      "2019-12-05 11:49:47.270791 384404 /home/jian/celery/BiWeekly_New_SignUps/monthly_update/output_2019-06-29/NewReward_2019-06-29_T.csv\n",
      "2019-12-05 11:49:47.765787 384404 /home/jian/celery/BiWeekly_New_SignUps/monthly_update/output_2019-07-13/NewReward_2019-07-13_P.csv\n",
      "2019-12-05 11:49:47.964652 384404 /home/jian/celery/BiWeekly_New_SignUps/monthly_update/output_2019-07-13/NewReward_2019-07-13_S.csv\n",
      "2019-12-05 11:49:48.267734 384404 /home/jian/celery/BiWeekly_New_SignUps/monthly_update/output_2019-07-13/NewReward_2019-07-13_T.csv\n",
      "2019-12-05 11:49:48.635999 384404 /home/jian/celery/BiWeekly_New_SignUps/monthly_update/output_2019-07-27/NewReward_2019-07-27_P.csv\n",
      "2019-12-05 11:49:48.852846 384404 /home/jian/celery/BiWeekly_New_SignUps/monthly_update/output_2019-07-27/NewReward_2019-07-27_S.csv\n",
      "2019-12-05 11:49:49.172986 384404 /home/jian/celery/BiWeekly_New_SignUps/monthly_update/output_2019-07-27/NewReward_2019-07-27_T.csv\n",
      "2019-12-05 11:49:49.536480 384404 /home/jian/celery/BiWeekly_New_SignUps/monthly_update/output_2019-08-10/NewReward_2019-08-10_P.csv\n",
      "2019-12-05 11:49:49.720153 384404 /home/jian/celery/BiWeekly_New_SignUps/monthly_update/output_2019-08-10/NewReward_2019-08-10_S.csv\n",
      "2019-12-05 11:49:50.021697 384403 /home/jian/celery/BiWeekly_New_SignUps/monthly_update/output_2019-08-10/NewReward_2019-08-10_T.csv\n",
      "2019-12-05 11:49:50.693903 384403 /home/jian/celery/BiWeekly_New_SignUps/monthly_update/output_2019-09-07/NewReward_2019-09-07_P.csv\n",
      "2019-12-05 11:49:51.044162 384403 /home/jian/celery/BiWeekly_New_SignUps/monthly_update/output_2019-09-07/NewReward_2019-09-07_S.csv\n",
      "2019-12-05 11:49:51.838947 384403 /home/jian/celery/BiWeekly_New_SignUps/monthly_update/output_2019-09-07/NewReward_2019-09-07_T.csv\n",
      "2019-12-05 11:49:52.367403 384403 /home/jian/celery/BiWeekly_New_SignUps/monthly_update/output_2019-09-21/NewReward_2019-09-21_P.csv\n",
      "2019-12-05 11:49:52.598365 384403 /home/jian/celery/BiWeekly_New_SignUps/monthly_update/output_2019-09-21/NewReward_2019-09-21_S.csv\n",
      "2019-12-05 11:49:52.886219 384402 /home/jian/celery/BiWeekly_New_SignUps/monthly_update/output_2019-09-21/NewReward_2019-09-21_T.csv\n",
      "2019-12-05 11:49:53.531690 384402 /home/jian/celery/BiWeekly_New_SignUps/monthly_update/output_2019-10-05/NewReward_2019-10-05_P.csv\n",
      "2019-12-05 11:49:53.743492 384402 /home/jian/celery/BiWeekly_New_SignUps/monthly_update/output_2019-10-05/NewReward_2019-10-05_S.csv\n",
      "2019-12-05 11:49:54.099766 384401 /home/jian/celery/BiWeekly_New_SignUps/monthly_update/output_2019-10-05/NewReward_2019-10-05_T.csv\n",
      "2019-12-05 11:49:54.646601 384401 /home/jian/celery/BiWeekly_New_SignUps/monthly_update/output_2019-10-19/NewReward_2019-10-19_P.csv\n",
      "2019-12-05 11:49:54.854988 384401 /home/jian/celery/BiWeekly_New_SignUps/monthly_update/output_2019-10-19/NewReward_2019-10-19_S.csv\n",
      "2019-12-05 11:49:55.230755 384401 /home/jian/celery/BiWeekly_New_SignUps/monthly_update/output_2019-10-19/NewReward_2019-10-19_T.csv\n",
      "2019-12-05 11:49:55.704138 384401 /home/jian/celery/BiWeekly_New_SignUps/monthly_update/output_2019-11-02/NewReward_2019-11-02_P.csv\n",
      "2019-12-05 11:49:55.881298 384401 /home/jian/celery/BiWeekly_New_SignUps/monthly_update/output_2019-11-02/NewReward_2019-11-02_S.csv\n",
      "2019-12-05 11:49:56.262973 384401 /home/jian/celery/BiWeekly_New_SignUps/monthly_update/output_2019-11-02/NewReward_2019-11-02_T.csv\n",
      "2019-12-05 11:49:56.910802 384401 /home/jian/celery/BiWeekly_New_SignUps/monthly_update/output_2019-11-16/NewReward_2019-11-16_P.csv\n",
      "2019-12-05 11:49:57.154723 384401 /home/jian/celery/BiWeekly_New_SignUps/monthly_update/output_2019-11-16/NewReward_2019-11-16_S.csv\n",
      "2019-12-05 11:49:57.734046 384401 /home/jian/celery/BiWeekly_New_SignUps/monthly_update/output_2019-11-16/NewReward_2019-11-16_T.csv\n"
     ]
    }
   ],
   "source": [
    "for file_uploaded in previous_id_files_lists:\n",
    "    df = pd.read_csv(file_uploaded,usecols = ['email_address_hash'])\n",
    "    previous_email_set=set(df['email_address_hash'].tolist())\n",
    "    df_all_new_master = df_all_new_master[~df_all_new_master['email_address_hash'].isin(previous_email_set)]\n",
    "    print(datetime.datetime.now(),len(df_all_new_master.index),file_uploaded)"
   ]
  },
  {
   "cell_type": "code",
   "execution_count": 11,
   "metadata": {},
   "outputs": [
    {
     "name": "stdout",
     "output_type": "stream",
     "text": [
      "384401\n"
     ]
    }
   ],
   "source": [
    "df_all_new_master = df_all_new_master.drop_duplicates('email_address_hash')\n",
    "df_all_new_master = df_all_new_master.drop_duplicates('customer_id_hashed')\n",
    "print(len(df_all_new_master.index))"
   ]
  },
  {
   "cell_type": "code",
   "execution_count": 12,
   "metadata": {},
   "outputs": [
    {
     "name": "stdout",
     "output_type": "stream",
     "text": [
      "(12980, 3)\n",
      "12980\n"
     ]
    },
    {
     "data": {
      "text/html": [
       "<div>\n",
       "<style scoped>\n",
       "    .dataframe tbody tr th:only-of-type {\n",
       "        vertical-align: middle;\n",
       "    }\n",
       "\n",
       "    .dataframe tbody tr th {\n",
       "        vertical-align: top;\n",
       "    }\n",
       "\n",
       "    .dataframe thead th {\n",
       "        text-align: right;\n",
       "    }\n",
       "</style>\n",
       "<table border=\"1\" class=\"dataframe\">\n",
       "  <thead>\n",
       "    <tr style=\"text-align: right;\">\n",
       "      <th></th>\n",
       "      <th>customer_zip_code</th>\n",
       "      <th>zipcodegroup</th>\n",
       "    </tr>\n",
       "  </thead>\n",
       "  <tbody>\n",
       "    <tr>\n",
       "      <th>0</th>\n",
       "      <td>75040</td>\n",
       "      <td>P</td>\n",
       "    </tr>\n",
       "    <tr>\n",
       "      <th>1</th>\n",
       "      <td>20743</td>\n",
       "      <td>P</td>\n",
       "    </tr>\n",
       "  </tbody>\n",
       "</table>\n",
       "</div>"
      ],
      "text/plain": [
       "  customer_zip_code zipcodegroup\n",
       "0             75040            P\n",
       "1             20743            P"
      ]
     },
     "execution_count": 12,
     "metadata": {},
     "output_type": "execute_result"
    }
   ],
   "source": [
    "zipmap = pd.ExcelFile('/home/jian/Projects/Big_Lots/New_TA/TA_created_in_201906/final_output_20190718/BL_final_TA_updated_JL_2019-07-18.xlsx')\n",
    "zipmap=zipmap.parse(\"unique_zips_full_footprint\",dtype=str)\n",
    "zipmap['zip_type']=zipmap['zip_type'].replace(\"zips_10\",\"trans_S\")\n",
    "\n",
    "zipmap['zipcodegroup'] = zipmap['zip_type'].apply(lambda x: x.split(\"_\")[1])\n",
    "print(zipmap.shape)\n",
    "print(zipmap['zip_cd'].nunique())\n",
    "\n",
    "zipmap=zipmap.rename(columns={\"zip_cd\":\"customer_zip_code\"})\n",
    "\n",
    "zipmap=zipmap[['customer_zip_code','zipcodegroup']]\n",
    "zipmap.head(2)"
   ]
  },
  {
   "cell_type": "code",
   "execution_count": 13,
   "metadata": {},
   "outputs": [
    {
     "name": "stdout",
     "output_type": "stream",
     "text": [
      "['P' nan 'S']\n",
      "['P' 'T' 'S']\n",
      "P 142415\n",
      "S 63803\n",
      "T 178183\n"
     ]
    }
   ],
   "source": [
    "df_all_new_master = pd.merge(df_all_new_master,zipmap,on ='customer_zip_code',how = 'left' )\n",
    "print(df_all_new_master['zipcodegroup'].unique())\n",
    "\n",
    "df_all_new_master['zipcodegroup'].fillna('T',inplace = True)\n",
    "print(df_all_new_master['zipcodegroup'].unique())\n",
    "\n",
    "last_saturday_str=\"_\"+str(last_saturday).split(\"-\")[1]+str(last_saturday).split(\"-\")[2]+str(last_saturday).split(\"-\")[0][2:]+\"_\"\n",
    "\n",
    "for revenue_flag in ['P','S','T']:\n",
    "    df = df_all_new_master[df_all_new_master['zipcodegroup']==revenue_flag]\n",
    "    df = df[['customer_id_hashed','email_address_hash','customer_zip_code']]\n",
    "    df['segment'] = 'NewReward' + last_saturday_str + revenue_flag\n",
    "    print(revenue_flag,len(df.index))\n",
    "    df.to_csv(write_folder+'NewReward_'+str(last_saturday)+'_'+revenue_flag+'.csv',index = False)\n",
    "# To be uploaded to lr-big-lots /uploads/big_lots_onboarding"
   ]
  },
  {
   "cell_type": "code",
   "execution_count": 14,
   "metadata": {},
   "outputs": [
    {
     "data": {
      "text/html": [
       "<div>\n",
       "<style scoped>\n",
       "    .dataframe tbody tr th:only-of-type {\n",
       "        vertical-align: middle;\n",
       "    }\n",
       "\n",
       "    .dataframe tbody tr th {\n",
       "        vertical-align: top;\n",
       "    }\n",
       "\n",
       "    .dataframe thead th {\n",
       "        text-align: right;\n",
       "    }\n",
       "</style>\n",
       "<table border=\"1\" class=\"dataframe\">\n",
       "  <thead>\n",
       "    <tr style=\"text-align: right;\">\n",
       "      <th></th>\n",
       "      <th>zipcodegroup</th>\n",
       "      <th>email_address_hash</th>\n",
       "    </tr>\n",
       "  </thead>\n",
       "  <tbody>\n",
       "    <tr>\n",
       "      <th>0</th>\n",
       "      <td>P</td>\n",
       "      <td>142415</td>\n",
       "    </tr>\n",
       "    <tr>\n",
       "      <th>1</th>\n",
       "      <td>S</td>\n",
       "      <td>63803</td>\n",
       "    </tr>\n",
       "    <tr>\n",
       "      <th>2</th>\n",
       "      <td>T</td>\n",
       "      <td>178183</td>\n",
       "    </tr>\n",
       "  </tbody>\n",
       "</table>\n",
       "</div>"
      ],
      "text/plain": [
       "  zipcodegroup  email_address_hash\n",
       "0            P              142415\n",
       "1            S               63803\n",
       "2            T              178183"
      ]
     },
     "execution_count": 14,
     "metadata": {},
     "output_type": "execute_result"
    }
   ],
   "source": [
    "df_all_new_master.groupby(['zipcodegroup'])['email_address_hash'].count().to_frame().reset_index()"
   ]
  },
  {
   "cell_type": "code",
   "execution_count": 18,
   "metadata": {},
   "outputs": [
    {
     "data": {
      "text/html": [
       "<div>\n",
       "<style scoped>\n",
       "    .dataframe tbody tr th:only-of-type {\n",
       "        vertical-align: middle;\n",
       "    }\n",
       "\n",
       "    .dataframe tbody tr th {\n",
       "        vertical-align: top;\n",
       "    }\n",
       "\n",
       "    .dataframe thead th {\n",
       "        text-align: right;\n",
       "    }\n",
       "</style>\n",
       "<table border=\"1\" class=\"dataframe\">\n",
       "  <thead>\n",
       "    <tr style=\"text-align: right;\">\n",
       "      <th></th>\n",
       "      <th>customer_id_hashed</th>\n",
       "      <th>email_address_hash</th>\n",
       "      <th>customer_zip_code</th>\n",
       "      <th>segment</th>\n",
       "    </tr>\n",
       "  </thead>\n",
       "  <tbody>\n",
       "    <tr>\n",
       "      <th>3</th>\n",
       "      <td>e6594320b9cc340eadb8ee0e25b379ad76566883e3b029...</td>\n",
       "      <td>fe551f19187a86b359e91f7035da918b4ad8d98ae56b99...</td>\n",
       "      <td>NaN</td>\n",
       "      <td>NewReward_113019_T</td>\n",
       "    </tr>\n",
       "    <tr>\n",
       "      <th>9</th>\n",
       "      <td>ebe8c2a6bc7796aa41b40cdf9ebd6297f2ebc9565a31be...</td>\n",
       "      <td>4a8503dbae5b8a11f4b26eda78d05fa8e3bf35b971d278...</td>\n",
       "      <td>06479</td>\n",
       "      <td>NewReward_113019_T</td>\n",
       "    </tr>\n",
       "  </tbody>\n",
       "</table>\n",
       "</div>"
      ],
      "text/plain": [
       "                                  customer_id_hashed  \\\n",
       "3  e6594320b9cc340eadb8ee0e25b379ad76566883e3b029...   \n",
       "9  ebe8c2a6bc7796aa41b40cdf9ebd6297f2ebc9565a31be...   \n",
       "\n",
       "                                  email_address_hash customer_zip_code  \\\n",
       "3  fe551f19187a86b359e91f7035da918b4ad8d98ae56b99...               NaN   \n",
       "9  4a8503dbae5b8a11f4b26eda78d05fa8e3bf35b971d278...             06479   \n",
       "\n",
       "              segment  \n",
       "3  NewReward_113019_T  \n",
       "9  NewReward_113019_T  "
      ]
     },
     "execution_count": 18,
     "metadata": {},
     "output_type": "execute_result"
    }
   ],
   "source": [
    "df.head(2)"
   ]
  },
  {
   "cell_type": "code",
   "execution_count": 19,
   "metadata": {},
   "outputs": [
    {
     "name": "stdout",
     "output_type": "stream",
     "text": [
      "2019-12-05 11:52:35.256828\n"
     ]
    }
   ],
   "source": [
    "print(datetime.datetime.now())"
   ]
  },
  {
   "cell_type": "code",
   "execution_count": 20,
   "metadata": {},
   "outputs": [
    {
     "name": "stdout",
     "output_type": "stream",
     "text": [
      "2019-12-05 11:52:38.079079\n"
     ]
    }
   ],
   "source": [
    "print(datetime.datetime.now())"
   ]
  },
  {
   "cell_type": "code",
   "execution_count": 21,
   "metadata": {},
   "outputs": [
    {
     "name": "stdout",
     "output_type": "stream",
     "text": [
      "Done:  2019-12-05 11:54:00.021072\n"
     ]
    }
   ],
   "source": [
    "import paramiko\n",
    "import glob\n",
    "\n",
    "host = \"files.liveramp.com\"\n",
    "port = 22\n",
    "password = \"Biglots2018!\"\n",
    "username = \"lr-big-lots\"\n",
    "\n",
    "transport = paramiko.Transport((host, port))\n",
    "\n",
    "transport.connect(username = username, password = password)\n",
    "sftp = paramiko.SFTPClient.from_transport(transport)\n",
    "\n",
    "# local_path defined above before saving the local txt\n",
    "local_list=glob.glob(write_folder+\"*.csv\")\n",
    "local_list=[x for x in local_list if 'NewReward_'+str(last_saturday)+'_' in x]\n",
    "\n",
    "for local_path in local_list:\n",
    "    remote_path=\"/uploads/big_lots_onboarding/\"+os.path.basename(local_path)\n",
    "    sftp.put(local_path,remote_path)\n",
    "sftp.close()\n",
    "transport.close()\n",
    "print(\"Done: \",datetime.datetime.now())"
   ]
  },
  {
   "cell_type": "code",
   "execution_count": 1,
   "metadata": {
    "collapsed": true
   },
   "outputs": [],
   "source": [
    "import pandas as pd\n",
    "import numpy as np\n",
    "from facebookads.adobjects.customaudience import CustomAudience\n",
    "from facebookads.adobjects.adaccount import AdAccount\n",
    "from facebookads.api import FacebookAdsApi\n",
    "import datetime\n",
    "import os\n",
    "import glob\n",
    "BigLotsAccount_id=\"act_271491453638620\"\n",
    "\n",
    "jian_APP_ID=\"2537704939796694\"# jian's fb marketing app id\n",
    "jian_token=\"EAAkEB3l7ONYBALOwTjZA6ZA69KGshjjZCghKd2FhqZCVvcZCxcQZCglQshts2EZCZBccbvwUddxKlje4ZCz3w8qkLWICYdS8cZCAw2e8VZCs9VHEt7sg5gR6gc4o8TVV73OAABUf7zKqoXLyeREavx7Viz8ArwVQxsDfMVSJK7o5qOqiQZDZD\"\n"
   ]
  },
  {
   "cell_type": "code",
   "execution_count": 2,
   "metadata": {
    "collapsed": true
   },
   "outputs": [],
   "source": [
    "def creatfbaudience(file_path,ACCESS_TOKEN,accountid,description,audience_name):\n",
    "    '''\n",
    "    input:\n",
    "    file_path: str, full_path, basename as the audience name on FB\n",
    "        make sure the columns contains the \"email_address_hash\", use this col only\n",
    "    \n",
    "    ACCESS_TOKEN: personal token #app id not needed\n",
    "    accountid: account_id starting with \"act_\", followed by the id str\n",
    "    as Nov. 20, 2019, latest verision is 'v5.0'\n",
    "    '''\n",
    "    FacebookAdsApi.init(access_token=ACCESS_TOKEN, api_version='v5.0')\n",
    "    myAccount = AdAccount(accountid)\n",
    "    fields = []\n",
    "    fbname=audience_name\n",
    "    params = {\n",
    "      'name': fbname,\n",
    "      'subtype': 'CUSTOM',\n",
    "      'description': description,\n",
    "      'customer_file_source': 'USER_PROVIDED_ONLY',\n",
    "    }\n",
    "    fbname = myAccount.create_custom_audience(\n",
    "      fields=fields,\n",
    "      params=params,\n",
    "    )['id']\n",
    "    \n",
    "    df=pd.read_csv(file_path,dtype=str,)\n",
    "    listlen = df.shape[0]\n",
    "    requestUrl = 'https://graph.facebook.com/v5.0/'+ fbname + '/users'\n",
    "    \n",
    "    chunck_size=50000\n",
    "    i_counter=0\n",
    "    for df_chunck in pd.read_csv(file_path,chunksize=chunck_size,dtype=str,usecols=[\"email_address_hash\"]):\n",
    "        payload = {}\n",
    "        payload['schema'] = ['EMAIL']\n",
    "        df_chunck=df_chunck.rename(columns={\"email_address_hash\":\"EMAIL\"})\n",
    "        df_chunck=df_chunck.drop_duplicates()\n",
    "        payload_data=df_chunck['EMAIL'].apply(lambda x: [x]).tolist()\n",
    "\n",
    "        payload['data'] = payload_data\n",
    "        params = {}\n",
    "        params ={'payload':payload} \n",
    "        CustomAudience(fbname).create_user(\n",
    "                      fields=fields,\n",
    "                      params=params,\n",
    "        )\n",
    "        i_counter+=1\n",
    "        print(i_counter,datetime.datetime.now())\n",
    "  \n",
    "\n",
    "    return 'All done: '+str(datetime.datetime.now())"
   ]
  },
  {
   "cell_type": "code",
   "execution_count": null,
   "metadata": {
    "collapsed": true
   },
   "outputs": [],
   "source": []
  }
 ],
 "metadata": {
  "kernelspec": {
   "display_name": "Python 3",
   "language": "python",
   "name": "python3"
  },
  "language_info": {
   "codemirror_mode": {
    "name": "ipython",
    "version": 3
   },
   "file_extension": ".py",
   "mimetype": "text/x-python",
   "name": "python",
   "nbconvert_exporter": "python",
   "pygments_lexer": "ipython3",
   "version": "3.6.1"
  }
 },
 "nbformat": 4,
 "nbformat_minor": 2
}
