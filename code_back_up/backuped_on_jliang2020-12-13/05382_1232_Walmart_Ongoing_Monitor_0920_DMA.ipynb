{
 "cells": [
  {
   "cell_type": "code",
   "execution_count": 1,
   "metadata": {
    "collapsed": true
   },
   "outputs": [],
   "source": [
    "import pandas as pd\n",
    "import datetime\n",
    "import os\n",
    "weeklist=['27','28','29','30','31','32','33']"
   ]
  },
  {
   "cell_type": "code",
   "execution_count": 2,
   "metadata": {
    "collapsed": true
   },
   "outputs": [],
   "source": [
    "data_2017=pd.read_excel(\"/home/jian/SunnyD/On_Going_WM_KG/Walmart/data/WM D90 Tangy 128oz - FY 2017.xlsx\",dtype=str,skiprows=27)\n",
    "weekly_sales_cols=[]\n",
    "for week in weeklist:\n",
    "    col=\"2017\"+week+\" Weekly COMP Store Sales\"\n",
    "    weekly_sales_cols=weekly_sales_cols+[col]\n",
    "data_2017=data_2017[['Store Nbr','City','State','Zip Code','Prime Item Nbr','Item Desc 1','Size Desc']+weekly_sales_cols]\n",
    "for col in weekly_sales_cols:\n",
    "    data_2017[col]=data_2017[col].astype(float)\n",
    "    data_2017=data_2017.rename(columns={col:col[:6]+\"_sales\"})\n",
    "data_2017_long=pd.melt(data_2017, id_vars=['Store Nbr','City','State','Zip Code','Prime Item Nbr','Item Desc 1','Size Desc'], \n",
    "                       value_vars=['201727_sales','201728_sales','201729_sales','201730_sales','201731_sales','201732_sales','201733_sales'])\n"
   ]
  },
  {
   "cell_type": "code",
   "execution_count": 3,
   "metadata": {
    "collapsed": true
   },
   "outputs": [],
   "source": [
    "data_2018_pre=pd.read_excel(\"/home/jian/SunnyD/On_Going_WM_KG/Walmart/data/WM D90 Tangy 128oz - FY 2018 w.e. Aug 10.xlsx\",dtype=str,skiprows=22)\n",
    "weekly_sales_cols=[]\n",
    "for week in weeklist:\n",
    "    col=\"2018\"+week+\" Weekly COMP Store Sales\"\n",
    "    if col in data_2018_pre.columns.tolist():\n",
    "        weekly_sales_cols=weekly_sales_cols+[col]\n",
    "data_2018_pre=data_2018_pre[['Store Nbr','City','State','Zip Code','Prime Item Nbr','Item Desc 1','Size Desc']+weekly_sales_cols]\n",
    "for col in weekly_sales_cols:\n",
    "    data_2018_pre=data_2018_pre.rename(columns={col:col[:6]+\"_sales\"})"
   ]
  },
  {
   "cell_type": "code",
   "execution_count": 4,
   "metadata": {
    "collapsed": true
   },
   "outputs": [],
   "source": [
    "data_2018_29=pd.read_excel(\"/home/jian/SunnyD/On_Going_WM_KG/Walmart/data/WM D90 Tangy 128oz WM Wk 201829.xlsx\",dtype=str,skiprows=16)\n",
    "weekly_sales_cols=[]\n",
    "for week in weeklist:\n",
    "    col=\"2018\"+week+\" Weekly COMP Store Sales\"\n",
    "    if col in data_2018_29.columns.tolist():\n",
    "        weekly_sales_cols=weekly_sales_cols+[col]\n",
    "data_2018_29=data_2018_29[['Store Nbr','City','State','Zip Code','Prime Item Nbr','Item Desc 1','Size Desc']+weekly_sales_cols]\n",
    "for col in weekly_sales_cols:\n",
    "    data_2018_29=data_2018_29.rename(columns={col:col[:6]+\"_sales\"})"
   ]
  },
  {
   "cell_type": "code",
   "execution_count": 5,
   "metadata": {
    "collapsed": true
   },
   "outputs": [],
   "source": [
    "data_2018_30=pd.read_excel(\"/home/jian/SunnyD/On_Going_WM_KG/Walmart/data/WM D90 Tangy 128oz WM Wk 201830.xlsx\",dtype=str,skiprows=16)\n",
    "weekly_sales_cols=[]\n",
    "for week in weeklist:\n",
    "    col=\"2018\"+week+\" Weekly COMP Store Sales\"\n",
    "    if col in data_2018_30.columns.tolist():\n",
    "        weekly_sales_cols=weekly_sales_cols+[col]\n",
    "data_2018_30=data_2018_30[['Store Nbr','City','State','Zip Code','Prime Item Nbr','Item Desc 1','Size Desc']+weekly_sales_cols]\n",
    "for col in weekly_sales_cols:\n",
    "    data_2018_30=data_2018_30.rename(columns={col:col[:6]+\"_sales\"})"
   ]
  },
  {
   "cell_type": "code",
   "execution_count": 6,
   "metadata": {
    "collapsed": true
   },
   "outputs": [],
   "source": [
    "data_2018_31=pd.read_excel(\"/home/jian/SunnyD/On_Going_WM_KG/Walmart/data/WM D90 Tangy 128oz WM Wk 201831.xlsx\",dtype=str,skiprows=16)\n",
    "weekly_sales_cols=[]\n",
    "for week in weeklist:\n",
    "    col=\"2018\"+week+\" Weekly COMP Store Sales\"\n",
    "    if col in data_2018_31.columns.tolist():\n",
    "        weekly_sales_cols=weekly_sales_cols+[col]\n",
    "data_2018_31=data_2018_31[['Store Nbr','City','State','Zip Code','Prime Item Nbr','Item Desc 1','Size Desc']+weekly_sales_cols]\n",
    "for col in weekly_sales_cols:\n",
    "    data_2018_31=data_2018_31.rename(columns={col:col[:6]+\"_sales\"})\n"
   ]
  },
  {
   "cell_type": "code",
   "execution_count": 7,
   "metadata": {
    "collapsed": true
   },
   "outputs": [],
   "source": [
    "data_2018_32=pd.read_excel(\"/home/jian/SunnyD/On_Going_WM_KG/Walmart/data/WM D90 Tangy 128oz WM Wk 201832.xlsx\",dtype=str,skiprows=16)\n",
    "weekly_sales_cols=[]\n",
    "for week in weeklist:\n",
    "    col=\"2018\"+week+\" Weekly COMP Store Sales\"\n",
    "    if col in data_2018_32.columns.tolist():\n",
    "        weekly_sales_cols=weekly_sales_cols+[col]\n",
    "data_2018_32=data_2018_32[['Store Nbr','City','State','Zip Code','Prime Item Nbr','Item Desc 1','Size Desc']+weekly_sales_cols]\n",
    "for col in weekly_sales_cols:\n",
    "    data_2018_32=data_2018_32.rename(columns={col:col[:6]+\"_sales\"})"
   ]
  },
  {
   "cell_type": "code",
   "execution_count": 8,
   "metadata": {
    "collapsed": true
   },
   "outputs": [],
   "source": [
    "data_2018_33=pd.read_excel(\"/home/jian/SunnyD/On_Going_WM_KG/Walmart/data/WM D90 Tangy 128oz WM Wk 201833.xlsx\",dtype=str,skiprows=16)\n",
    "weekly_sales_cols=[]\n",
    "for week in weeklist:\n",
    "    col=\"2018\"+week+\" Weekly COMP Store Sales\"\n",
    "    if col in data_2018_33.columns.tolist():\n",
    "        weekly_sales_cols=weekly_sales_cols+[col]\n",
    "data_2018_33=data_2018_33[['Store Nbr','City','State','Zip Code','Prime Item Nbr','Item Desc 1','Size Desc']+weekly_sales_cols]\n",
    "for col in weekly_sales_cols:\n",
    "    data_2018_33=data_2018_33.rename(columns={col:col[:6]+\"_sales\"})"
   ]
  },
  {
   "cell_type": "code",
   "execution_count": null,
   "metadata": {
    "collapsed": true
   },
   "outputs": [],
   "source": []
  },
  {
   "cell_type": "code",
   "execution_count": 9,
   "metadata": {
    "collapsed": true
   },
   "outputs": [],
   "source": [
    "# 7 Weeks\n",
    "\n",
    "data_2018_4_weeks=pd.merge(data_2018_pre,data_2018_29,on=['Store Nbr','City','State','Zip Code','Prime Item Nbr','Item Desc 1','Size Desc'],how=\"outer\")\n",
    "data_2018_4_weeks=pd.merge(data_2018_4_weeks,data_2018_30,on=['Store Nbr','City','State','Zip Code','Prime Item Nbr','Item Desc 1','Size Desc'],how=\"outer\")\n",
    "data_2018_4_weeks=pd.merge(data_2018_4_weeks,data_2018_31,on=['Store Nbr','City','State','Zip Code','Prime Item Nbr','Item Desc 1','Size Desc'],how=\"outer\")\n",
    "data_2018_4_weeks=pd.merge(data_2018_4_weeks,data_2018_32,on=['Store Nbr','City','State','Zip Code','Prime Item Nbr','Item Desc 1','Size Desc'],how=\"outer\")\n",
    "data_2018_4_weeks=pd.merge(data_2018_4_weeks,data_2018_33,on=['Store Nbr','City','State','Zip Code','Prime Item Nbr','Item Desc 1','Size Desc'],how=\"outer\")\n",
    "\n",
    "sales_col=[x for x in data_2018_4_weeks.columns.tolist() if \"sales\" in x]\n",
    "for col in sales_col:\n",
    "    data_2018_4_weeks[col]=data_2018_4_weeks[col].astype(float)\n",
    "    data_2018_4_weeks[col]=data_2018_4_weeks[col].fillna(0)"
   ]
  },
  {
   "cell_type": "code",
   "execution_count": 10,
   "metadata": {
    "collapsed": true
   },
   "outputs": [],
   "source": [
    "data_2018_long=pd.melt(data_2018_4_weeks, id_vars=['Store Nbr','City','State','Zip Code','Prime Item Nbr','Item Desc 1','Size Desc'], \n",
    "                       value_vars=['201827_sales','201828_sales','201829_sales','201830_sales','201831_sales','201832_sales','201833_sales'])\n"
   ]
  },
  {
   "cell_type": "code",
   "execution_count": 11,
   "metadata": {
    "collapsed": true
   },
   "outputs": [],
   "source": [
    "def func(x):\n",
    "    y=len(list(set(x)))\n",
    "    return y\n",
    "df_YoY=data_2018_long.append(data_2017_long)\n",
    "df_YoY=df_YoY.rename(columns={\"variable\":\"week_num\",\"value\":\"sales\"})\n",
    "df_YoY['week_num']=df_YoY['week_num'].apply(lambda x: x[:6])\n",
    "df_YoY=df_YoY[df_YoY['sales']!=0]\n",
    "all_available_store=df_YoY.groupby(['Store Nbr','City','State','Zip Code','Prime Item Nbr','Item Desc 1','Size Desc'])['week_num'].agg(func).to_frame()\n",
    "all_available_store=all_available_store.reset_index()\n",
    "keep_store_nbr=all_available_store[all_available_store['week_num']==14]['Store Nbr'].unique().tolist()"
   ]
  },
  {
   "cell_type": "code",
   "execution_count": 12,
   "metadata": {
    "collapsed": true
   },
   "outputs": [],
   "source": [
    "df_YoY=df_YoY[df_YoY['Store Nbr'].isin(keep_store_nbr)]\n",
    "df_YoY['Year']=df_YoY['week_num'].apply(lambda x: x[:4])\n",
    "df_YoY_compare=df_YoY.groupby(['Store Nbr','City','State','Zip Code','Prime Item Nbr','Item Desc 1','Size Desc','Year','week_num'])['sales'].sum().to_frame().reset_index()"
   ]
  },
  {
   "cell_type": "code",
   "execution_count": 13,
   "metadata": {},
   "outputs": [
    {
     "data": {
      "text/plain": [
       "(40811, 2)"
      ]
     },
     "execution_count": 13,
     "metadata": {},
     "output_type": "execute_result"
    }
   ],
   "source": [
    "Zip_DMA_mapping=pd.read_excel(\"/home/jian/Docs/Geo_mapping/Zips by DMA by County16-17 nielsen.xlsx\",dtype=str,skiprows=2)\n",
    "Zip_DMA_mapping=Zip_DMA_mapping.iloc[:,[0,2]]\n",
    "Zip_DMA_mapping.columns=['Zip Code','DMA']\n",
    "Zip_DMA_mapping=Zip_DMA_mapping.drop_duplicates('Zip Code')\n",
    "Zip_DMA_mapping.shape"
   ]
  },
  {
   "cell_type": "code",
   "execution_count": 14,
   "metadata": {
    "collapsed": true
   },
   "outputs": [],
   "source": [
    "df_YoY_compare=pd.merge(df_YoY_compare,Zip_DMA_mapping,on=\"Zip Code\",how=\"left\")\n",
    "df_YoY_compare['DMA']=df_YoY_compare['DMA'].fillna(\"Missing_DMA\")"
   ]
  },
  {
   "cell_type": "code",
   "execution_count": 15,
   "metadata": {
    "collapsed": true
   },
   "outputs": [],
   "source": [
    "DMA_15=['DALLAS-FT. WORTH','LOS ANGELES','ATLANTA','NEW YORK','CHICAGO','HOUSTON','PHOENIX (PRESCOTT)','CHARLOTTE',\n",
    "            'WASHINGTON, DC (HAGRSTWN)','DENVER','PHILADELPHIA','GREENVLL-SPART-ASHEVLL-AND','BOSTON (MANCHESTER)',\n",
    "            'DETROIT','MIAMI-FT. LAUDERDALE']"
   ]
  },
  {
   "cell_type": "code",
   "execution_count": 16,
   "metadata": {
    "collapsed": true
   },
   "outputs": [],
   "source": [
    "def In_18(x):\n",
    "    if x in DMA_15:\n",
    "        y=\"In_15_DMAs\"\n",
    "    else:\n",
    "        y=\"Other\"\n",
    "    return y\n",
    "df_YoY_compare['15_DMA_Ind']=df_YoY_compare['DMA'].apply(lambda x: In_18(x))"
   ]
  },
  {
   "cell_type": "code",
   "execution_count": 19,
   "metadata": {
    "collapsed": true
   },
   "outputs": [],
   "source": [
    "WM_Denver=df_YoY_compare[df_YoY_compare['DMA']==\"MIAMI-FT. LAUDERDALE\"]\n",
    "WM_Denver=WM_Denver.groupby(['15_DMA_Ind','Year','week_num'])['sales'].sum().reset_index()\n",
    "WM_Denver['week_num']=WM_Denver['week_num'].apply(lambda x: x[4:])"
   ]
  },
  {
   "cell_type": "code",
   "execution_count": 20,
   "metadata": {
    "collapsed": true
   },
   "outputs": [],
   "source": [
    "def YoY_summary_df(df):\n",
    "    df_2017_sales=df[df['Year']=='2017'].rename(columns={\"sales\":\"sales_2017\"})\n",
    "    df_2018_sales=df[df['Year']=='2018'].rename(columns={\"sales\":\"sales_2018\"})\n",
    "\n",
    "    del df_2017_sales['Year']\n",
    "    del df_2018_sales['Year']\n",
    "    sales_yoy=pd.merge(df_2017_sales,df_2018_sales,on=[\"15_DMA_Ind\",'week_num'],how=\"left\")\n",
    "\n",
    "    sales_yoy['sales_yoy']=(sales_yoy['sales_2018']-sales_yoy['sales_2017'])/sales_yoy['sales_2017']\n",
    "\n",
    "    return sales_yoy"
   ]
  },
  {
   "cell_type": "code",
   "execution_count": 21,
   "metadata": {},
   "outputs": [
    {
     "data": {
      "text/html": [
       "<div>\n",
       "<style>\n",
       "    .dataframe thead tr:only-child th {\n",
       "        text-align: right;\n",
       "    }\n",
       "\n",
       "    .dataframe thead th {\n",
       "        text-align: left;\n",
       "    }\n",
       "\n",
       "    .dataframe tbody tr th {\n",
       "        vertical-align: top;\n",
       "    }\n",
       "</style>\n",
       "<table border=\"1\" class=\"dataframe\">\n",
       "  <thead>\n",
       "    <tr style=\"text-align: right;\">\n",
       "      <th></th>\n",
       "      <th>15_DMA_Ind</th>\n",
       "      <th>week_num</th>\n",
       "      <th>sales_2017</th>\n",
       "      <th>sales_2018</th>\n",
       "      <th>sales_yoy</th>\n",
       "    </tr>\n",
       "  </thead>\n",
       "  <tbody>\n",
       "    <tr>\n",
       "      <th>0</th>\n",
       "      <td>In_15_DMAs</td>\n",
       "      <td>27</td>\n",
       "      <td>5238.72</td>\n",
       "      <td>5285.88</td>\n",
       "      <td>0.009002</td>\n",
       "    </tr>\n",
       "    <tr>\n",
       "      <th>1</th>\n",
       "      <td>In_15_DMAs</td>\n",
       "      <td>28</td>\n",
       "      <td>5663.08</td>\n",
       "      <td>5217.00</td>\n",
       "      <td>-0.078770</td>\n",
       "    </tr>\n",
       "    <tr>\n",
       "      <th>2</th>\n",
       "      <td>In_15_DMAs</td>\n",
       "      <td>29</td>\n",
       "      <td>5633.28</td>\n",
       "      <td>5274.60</td>\n",
       "      <td>-0.063672</td>\n",
       "    </tr>\n",
       "    <tr>\n",
       "      <th>3</th>\n",
       "      <td>In_15_DMAs</td>\n",
       "      <td>30</td>\n",
       "      <td>5725.52</td>\n",
       "      <td>5340.16</td>\n",
       "      <td>-0.067306</td>\n",
       "    </tr>\n",
       "    <tr>\n",
       "      <th>4</th>\n",
       "      <td>In_15_DMAs</td>\n",
       "      <td>31</td>\n",
       "      <td>5457.68</td>\n",
       "      <td>4970.64</td>\n",
       "      <td>-0.089239</td>\n",
       "    </tr>\n",
       "    <tr>\n",
       "      <th>5</th>\n",
       "      <td>In_15_DMAs</td>\n",
       "      <td>32</td>\n",
       "      <td>10434.32</td>\n",
       "      <td>5527.90</td>\n",
       "      <td>-0.470219</td>\n",
       "    </tr>\n",
       "    <tr>\n",
       "      <th>6</th>\n",
       "      <td>In_15_DMAs</td>\n",
       "      <td>33</td>\n",
       "      <td>973.92</td>\n",
       "      <td>5387.74</td>\n",
       "      <td>4.532015</td>\n",
       "    </tr>\n",
       "  </tbody>\n",
       "</table>\n",
       "</div>"
      ],
      "text/plain": [
       "   15_DMA_Ind week_num  sales_2017  sales_2018  sales_yoy\n",
       "0  In_15_DMAs       27     5238.72     5285.88   0.009002\n",
       "1  In_15_DMAs       28     5663.08     5217.00  -0.078770\n",
       "2  In_15_DMAs       29     5633.28     5274.60  -0.063672\n",
       "3  In_15_DMAs       30     5725.52     5340.16  -0.067306\n",
       "4  In_15_DMAs       31     5457.68     4970.64  -0.089239\n",
       "5  In_15_DMAs       32    10434.32     5527.90  -0.470219\n",
       "6  In_15_DMAs       33      973.92     5387.74   4.532015"
      ]
     },
     "execution_count": 21,
     "metadata": {},
     "output_type": "execute_result"
    }
   ],
   "source": [
    "WM_Denver=YoY_summary_df(WM_Denver)\n",
    "WM_Denver"
   ]
  },
  {
   "cell_type": "code",
   "execution_count": null,
   "metadata": {
    "collapsed": true
   },
   "outputs": [],
   "source": []
  },
  {
   "cell_type": "code",
   "execution_count": 22,
   "metadata": {
    "collapsed": true
   },
   "outputs": [],
   "source": [
    "df_YoY_compare_summary=df_YoY_compare.groupby(['15_DMA_Ind','Year','week_num'])['sales'].sum().reset_index()\n",
    "df_YoY_compare_summary['week_num']=df_YoY_compare_summary['week_num'].apply(lambda x: x[4:])"
   ]
  },
  {
   "cell_type": "code",
   "execution_count": 23,
   "metadata": {
    "collapsed": true
   },
   "outputs": [],
   "source": [
    "df_YoY_compare_summary.to_csv(\"/home/jian/SunnyD/On_Going_WM_KG/Walmart/output/SunnyD_Walmart_DMA_level_YoY_\"+str(datetime.datetime.now().date())+\".csv\",index=False)"
   ]
  },
  {
   "cell_type": "code",
   "execution_count": 24,
   "metadata": {},
   "outputs": [
    {
     "data": {
      "text/plain": [
       "4345"
      ]
     },
     "execution_count": 24,
     "metadata": {},
     "output_type": "execute_result"
    }
   ],
   "source": [
    "len(keep_store_nbr)"
   ]
  },
  {
   "cell_type": "code",
   "execution_count": 25,
   "metadata": {},
   "outputs": [
    {
     "data": {
      "text/plain": [
       "4345"
      ]
     },
     "execution_count": 25,
     "metadata": {},
     "output_type": "execute_result"
    }
   ],
   "source": [
    "len(set(keep_store_nbr))"
   ]
  },
  {
   "cell_type": "code",
   "execution_count": 26,
   "metadata": {},
   "outputs": [
    {
     "data": {
      "text/html": [
       "<div>\n",
       "<style>\n",
       "    .dataframe thead tr:only-child th {\n",
       "        text-align: right;\n",
       "    }\n",
       "\n",
       "    .dataframe thead th {\n",
       "        text-align: left;\n",
       "    }\n",
       "\n",
       "    .dataframe tbody tr th {\n",
       "        vertical-align: top;\n",
       "    }\n",
       "</style>\n",
       "<table border=\"1\" class=\"dataframe\">\n",
       "  <thead>\n",
       "    <tr style=\"text-align: right;\">\n",
       "      <th></th>\n",
       "      <th>15_DMA_Ind</th>\n",
       "      <th>Year</th>\n",
       "      <th>week_num</th>\n",
       "      <th>sales</th>\n",
       "    </tr>\n",
       "  </thead>\n",
       "  <tbody>\n",
       "    <tr>\n",
       "      <th>0</th>\n",
       "      <td>In_15_DMAs</td>\n",
       "      <td>2017</td>\n",
       "      <td>27</td>\n",
       "      <td>138089.87</td>\n",
       "    </tr>\n",
       "    <tr>\n",
       "      <th>1</th>\n",
       "      <td>In_15_DMAs</td>\n",
       "      <td>2017</td>\n",
       "      <td>28</td>\n",
       "      <td>142816.35</td>\n",
       "    </tr>\n",
       "    <tr>\n",
       "      <th>2</th>\n",
       "      <td>In_15_DMAs</td>\n",
       "      <td>2017</td>\n",
       "      <td>29</td>\n",
       "      <td>138048.06</td>\n",
       "    </tr>\n",
       "    <tr>\n",
       "      <th>3</th>\n",
       "      <td>In_15_DMAs</td>\n",
       "      <td>2017</td>\n",
       "      <td>30</td>\n",
       "      <td>137951.03</td>\n",
       "    </tr>\n",
       "    <tr>\n",
       "      <th>4</th>\n",
       "      <td>In_15_DMAs</td>\n",
       "      <td>2017</td>\n",
       "      <td>31</td>\n",
       "      <td>138029.91</td>\n",
       "    </tr>\n",
       "    <tr>\n",
       "      <th>5</th>\n",
       "      <td>In_15_DMAs</td>\n",
       "      <td>2017</td>\n",
       "      <td>32</td>\n",
       "      <td>173286.19</td>\n",
       "    </tr>\n",
       "    <tr>\n",
       "      <th>6</th>\n",
       "      <td>In_15_DMAs</td>\n",
       "      <td>2017</td>\n",
       "      <td>33</td>\n",
       "      <td>157542.49</td>\n",
       "    </tr>\n",
       "    <tr>\n",
       "      <th>7</th>\n",
       "      <td>In_15_DMAs</td>\n",
       "      <td>2018</td>\n",
       "      <td>27</td>\n",
       "      <td>136703.74</td>\n",
       "    </tr>\n",
       "    <tr>\n",
       "      <th>8</th>\n",
       "      <td>In_15_DMAs</td>\n",
       "      <td>2018</td>\n",
       "      <td>28</td>\n",
       "      <td>145317.64</td>\n",
       "    </tr>\n",
       "    <tr>\n",
       "      <th>9</th>\n",
       "      <td>In_15_DMAs</td>\n",
       "      <td>2018</td>\n",
       "      <td>29</td>\n",
       "      <td>139860.01</td>\n",
       "    </tr>\n",
       "    <tr>\n",
       "      <th>10</th>\n",
       "      <td>In_15_DMAs</td>\n",
       "      <td>2018</td>\n",
       "      <td>30</td>\n",
       "      <td>129421.59</td>\n",
       "    </tr>\n",
       "    <tr>\n",
       "      <th>11</th>\n",
       "      <td>In_15_DMAs</td>\n",
       "      <td>2018</td>\n",
       "      <td>31</td>\n",
       "      <td>128944.79</td>\n",
       "    </tr>\n",
       "    <tr>\n",
       "      <th>12</th>\n",
       "      <td>In_15_DMAs</td>\n",
       "      <td>2018</td>\n",
       "      <td>32</td>\n",
       "      <td>138170.45</td>\n",
       "    </tr>\n",
       "    <tr>\n",
       "      <th>13</th>\n",
       "      <td>In_15_DMAs</td>\n",
       "      <td>2018</td>\n",
       "      <td>33</td>\n",
       "      <td>140353.20</td>\n",
       "    </tr>\n",
       "    <tr>\n",
       "      <th>14</th>\n",
       "      <td>Other</td>\n",
       "      <td>2017</td>\n",
       "      <td>27</td>\n",
       "      <td>435395.16</td>\n",
       "    </tr>\n",
       "    <tr>\n",
       "      <th>15</th>\n",
       "      <td>Other</td>\n",
       "      <td>2017</td>\n",
       "      <td>28</td>\n",
       "      <td>446236.99</td>\n",
       "    </tr>\n",
       "    <tr>\n",
       "      <th>16</th>\n",
       "      <td>Other</td>\n",
       "      <td>2017</td>\n",
       "      <td>29</td>\n",
       "      <td>428092.60</td>\n",
       "    </tr>\n",
       "    <tr>\n",
       "      <th>17</th>\n",
       "      <td>Other</td>\n",
       "      <td>2017</td>\n",
       "      <td>30</td>\n",
       "      <td>406431.70</td>\n",
       "    </tr>\n",
       "    <tr>\n",
       "      <th>18</th>\n",
       "      <td>Other</td>\n",
       "      <td>2017</td>\n",
       "      <td>31</td>\n",
       "      <td>414289.75</td>\n",
       "    </tr>\n",
       "    <tr>\n",
       "      <th>19</th>\n",
       "      <td>Other</td>\n",
       "      <td>2017</td>\n",
       "      <td>32</td>\n",
       "      <td>511699.46</td>\n",
       "    </tr>\n",
       "    <tr>\n",
       "      <th>20</th>\n",
       "      <td>Other</td>\n",
       "      <td>2017</td>\n",
       "      <td>33</td>\n",
       "      <td>451495.21</td>\n",
       "    </tr>\n",
       "    <tr>\n",
       "      <th>21</th>\n",
       "      <td>Other</td>\n",
       "      <td>2018</td>\n",
       "      <td>27</td>\n",
       "      <td>428155.66</td>\n",
       "    </tr>\n",
       "    <tr>\n",
       "      <th>22</th>\n",
       "      <td>Other</td>\n",
       "      <td>2018</td>\n",
       "      <td>28</td>\n",
       "      <td>458237.25</td>\n",
       "    </tr>\n",
       "    <tr>\n",
       "      <th>23</th>\n",
       "      <td>Other</td>\n",
       "      <td>2018</td>\n",
       "      <td>29</td>\n",
       "      <td>439654.49</td>\n",
       "    </tr>\n",
       "    <tr>\n",
       "      <th>24</th>\n",
       "      <td>Other</td>\n",
       "      <td>2018</td>\n",
       "      <td>30</td>\n",
       "      <td>405231.33</td>\n",
       "    </tr>\n",
       "    <tr>\n",
       "      <th>25</th>\n",
       "      <td>Other</td>\n",
       "      <td>2018</td>\n",
       "      <td>31</td>\n",
       "      <td>399101.15</td>\n",
       "    </tr>\n",
       "    <tr>\n",
       "      <th>26</th>\n",
       "      <td>Other</td>\n",
       "      <td>2018</td>\n",
       "      <td>32</td>\n",
       "      <td>450395.56</td>\n",
       "    </tr>\n",
       "    <tr>\n",
       "      <th>27</th>\n",
       "      <td>Other</td>\n",
       "      <td>2018</td>\n",
       "      <td>33</td>\n",
       "      <td>427429.25</td>\n",
       "    </tr>\n",
       "  </tbody>\n",
       "</table>\n",
       "</div>"
      ],
      "text/plain": [
       "    15_DMA_Ind  Year week_num      sales\n",
       "0   In_15_DMAs  2017       27  138089.87\n",
       "1   In_15_DMAs  2017       28  142816.35\n",
       "2   In_15_DMAs  2017       29  138048.06\n",
       "3   In_15_DMAs  2017       30  137951.03\n",
       "4   In_15_DMAs  2017       31  138029.91\n",
       "5   In_15_DMAs  2017       32  173286.19\n",
       "6   In_15_DMAs  2017       33  157542.49\n",
       "7   In_15_DMAs  2018       27  136703.74\n",
       "8   In_15_DMAs  2018       28  145317.64\n",
       "9   In_15_DMAs  2018       29  139860.01\n",
       "10  In_15_DMAs  2018       30  129421.59\n",
       "11  In_15_DMAs  2018       31  128944.79\n",
       "12  In_15_DMAs  2018       32  138170.45\n",
       "13  In_15_DMAs  2018       33  140353.20\n",
       "14       Other  2017       27  435395.16\n",
       "15       Other  2017       28  446236.99\n",
       "16       Other  2017       29  428092.60\n",
       "17       Other  2017       30  406431.70\n",
       "18       Other  2017       31  414289.75\n",
       "19       Other  2017       32  511699.46\n",
       "20       Other  2017       33  451495.21\n",
       "21       Other  2018       27  428155.66\n",
       "22       Other  2018       28  458237.25\n",
       "23       Other  2018       29  439654.49\n",
       "24       Other  2018       30  405231.33\n",
       "25       Other  2018       31  399101.15\n",
       "26       Other  2018       32  450395.56\n",
       "27       Other  2018       33  427429.25"
      ]
     },
     "execution_count": 26,
     "metadata": {},
     "output_type": "execute_result"
    }
   ],
   "source": [
    "df_YoY_compare_summary"
   ]
  },
  {
   "cell_type": "code",
   "execution_count": null,
   "metadata": {
    "collapsed": true
   },
   "outputs": [],
   "source": []
  },
  {
   "cell_type": "code",
   "execution_count": null,
   "metadata": {
    "collapsed": true
   },
   "outputs": [],
   "source": []
  }
 ],
 "metadata": {
  "kernelspec": {
   "display_name": "Python 3",
   "language": "python",
   "name": "python3"
  },
  "language_info": {
   "codemirror_mode": {
    "name": "ipython",
    "version": 3
   },
   "file_extension": ".py",
   "mimetype": "text/x-python",
   "name": "python",
   "nbconvert_exporter": "python",
   "pygments_lexer": "ipython3",
   "version": "3.6.1"
  }
 },
 "nbformat": 4,
 "nbformat_minor": 2
}
