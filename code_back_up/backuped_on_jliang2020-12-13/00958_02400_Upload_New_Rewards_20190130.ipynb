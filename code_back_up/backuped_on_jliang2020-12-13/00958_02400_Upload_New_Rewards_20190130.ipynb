{
 "cells": [
  {
   "cell_type": "code",
   "execution_count": 1,
   "metadata": {
    "collapsed": true
   },
   "outputs": [],
   "source": [
    "import pandas as pd\n",
    "import numpy as np\n",
    "import datetime\n",
    "import os\n",
    "# Add the new folders of Jian later"
   ]
  },
  {
   "cell_type": "code",
   "execution_count": 2,
   "metadata": {
    "collapsed": true
   },
   "outputs": [],
   "source": [
    "def recursive_file_gen(my_root_dir):\n",
    "    for root, dirs, files in os.walk(my_root_dir):\n",
    "        for file in files:\n",
    "            yield os.path.join(root, file)\n",
    "            \n",
    "last_saturday=datetime.datetime.now().date()-datetime.timedelta(days=datetime.datetime.now().date().weekday()+2)\n",
    "\n",
    "write_folder=\"/home/jian/celery/Append_to_celery_LiveRamp/monthly_update/output_\"+str(last_saturday)+\"/\"\n",
    "try:\n",
    "    os.stat(write_folder)\n",
    "except:\n",
    "    os.mkdir(write_folder)\n",
    "\n",
    "week_beginning=last_saturday-datetime.timedelta(days=28)\n",
    "\n",
    "recent_3_weeks=[last_saturday-datetime.timedelta(days=x*7) for x in range(3)]"
   ]
  },
  {
   "cell_type": "code",
   "execution_count": 6,
   "metadata": {},
   "outputs": [
    {
     "name": "stdout",
     "output_type": "stream",
     "text": [
      "2\n"
     ]
    }
   ],
   "source": [
    "# Checking for the recent weeks that haven't moved to the folder\n",
    "possible_recent_folders=[\"/home/jian/BigLots/MediaStorm_\"+str(x)+\"/\" for x in recent_3_weeks]\n",
    "recent_file_list=[]\n",
    "for dirc in possible_recent_folders:\n",
    "    list_recent=[x for x in list(recursive_file_gen(dirc)) if (\"MasterBiWeekly\" in x) & (\".txt\" in x) ]\n",
    "    recent_file_list=recent_file_list+list_recent\n",
    "recent_file_df=pd.DataFrame({\"path\":recent_file_list,\"date\":[datetime.datetime.strptime(x.split(\"MasterBiWeekly\")[1][:8],\"%Y%m%d\").date()-datetime.timedelta(days=3) for x in recent_file_list]},index=[x for x in range(len(recent_file_list))])\n",
    "\n",
    "\n",
    "list_1_after_201806=[x for x in list(recursive_file_gen(\"/home/jian/BigLots/2019_by_weeks/\")) if (\"MasterBiWeekly\" in x) & (\".txt\" in x) ]\n",
    "folder_date=[datetime.datetime.strptime(x.split(\"/\")[len(x.split(\"/\"))-2].split(\"_\")[1],\"%Y-%m-%d\").date() for x in list_1_after_201806]\n",
    "df_1_after_201806=pd.DataFrame({\"date\":folder_date,\"path\":list_1_after_201806},index=[x for x in range(len(list_1_after_201806))])\n",
    "df_1_after_201806['date'].apply(lambda x: x.weekday()).unique()\n",
    "df_1_after_201806=df_1_after_201806.sort_values(\"date\").reset_index()\n",
    "df_1_after_201806=df_1_after_201806[df_1_after_201806['date']>week_beginning]\n",
    "del df_1_after_201806['index']\n",
    "\n",
    "new_2_biweekly_files=df_1_after_201806.append(recent_file_df)\n",
    "\n",
    "print(len(new_2_biweekly_files))\n",
    "new_2_biweekly_files=new_2_biweekly_files['path'].unique().tolist()"
   ]
  },
  {
   "cell_type": "code",
   "execution_count": 7,
   "metadata": {},
   "outputs": [
    {
     "data": {
      "text/plain": [
       "['/home/jian/BigLots/2019_by_weeks/MediaStorm_2019-01-12/MediaStormMasterBiWeekly20190115-132855-055.txt',\n",
       " '/home/jian/BigLots/MediaStorm_2019-01-26/MediaStormMasterBiWeekly20190129-130902-016.txt']"
      ]
     },
     "execution_count": 7,
     "metadata": {},
     "output_type": "execute_result"
    }
   ],
   "source": [
    "new_2_biweekly_files"
   ]
  },
  {
   "cell_type": "code",
   "execution_count": 8,
   "metadata": {},
   "outputs": [
    {
     "name": "stdout",
     "output_type": "stream",
     "text": [
      "334793\n",
      "334791\n"
     ]
    }
   ],
   "source": [
    "if len(new_2_biweekly_files)==2:\n",
    "    df_all_new_master = pd.DataFrame()\n",
    "    for file in new_2_biweekly_files:\n",
    "        df = pd.read_csv(file,nrows = None,sep= '|',usecols = ['customer_id_hashed','email_address_hash','customer_zip_code'],\n",
    "                         dtype =str)\n",
    "        df_all_new_master = df_all_new_master.append(df,ignore_index = True)\n",
    "    print(len(df_all_new_master.index))\n",
    "    df_all_new_master = df_all_new_master.drop_duplicates('email_address_hash')\n",
    "    print(len(df_all_new_master.index))"
   ]
  },
  {
   "cell_type": "code",
   "execution_count": 10,
   "metadata": {},
   "outputs": [
    {
     "name": "stdout",
     "output_type": "stream",
     "text": [
      "72\n"
     ]
    }
   ],
   "source": [
    "# Remove previous week ids\n",
    "\n",
    "previous_id_files_lists=list(recursive_file_gen(\"/home/jian/Projects/Big_Lots/Live_Ramp/Quarterly_Update/crm_newscore_20190107/by_group_quadrant_24/\"))\n",
    "\n",
    "# previous_id_files_lists=[x for x in previous_id_files_lists if \"Copy of 48 Stores_727.csv\" not in x]\n",
    "previous_id_files_lists=[x for x in previous_id_files_lists if \".csv\" in x]\n",
    "print(len(previous_id_files_lists))"
   ]
  },
  {
   "cell_type": "code",
   "execution_count": 11,
   "metadata": {},
   "outputs": [
    {
     "name": "stdout",
     "output_type": "stream",
     "text": [
      "2019-01-30 10:53:48.364038 334786\n",
      "2019-01-30 10:53:50.871476 334785\n",
      "2019-01-30 10:53:52.056013 334784\n",
      "2019-01-30 10:53:53.692224 334781\n",
      "2019-01-30 10:53:55.061564 334780\n",
      "2019-01-30 10:53:55.461941 334780\n",
      "2019-01-30 10:53:55.779058 334780\n",
      "2019-01-30 10:53:55.940450 334780\n",
      "2019-01-30 10:53:56.078871 334780\n",
      "2019-01-30 10:53:56.225516 334780\n",
      "2019-01-30 10:53:56.503247 334780\n",
      "2019-01-30 10:53:56.774673 334780\n",
      "2019-01-30 10:53:56.942644 334780\n",
      "2019-01-30 10:53:57.085203 334780\n",
      "2019-01-30 10:53:57.244746 334780\n",
      "2019-01-30 10:53:57.386538 334780\n",
      "2019-01-30 10:53:57.642299 334780\n",
      "2019-01-30 10:53:57.876897 334780\n",
      "2019-01-30 10:53:58.010306 334780\n",
      "2019-01-30 10:53:58.193883 334780\n",
      "2019-01-30 10:53:58.332453 334780\n",
      "2019-01-30 10:53:58.969813 334780\n",
      "2019-01-30 10:53:59.451749 334780\n",
      "2019-01-30 10:53:59.661025 334780\n",
      "2019-01-30 10:53:59.862606 334780\n",
      "2019-01-30 10:54:00.008313 334780\n",
      "2019-01-30 10:54:05.276352 334775\n",
      "2019-01-30 10:54:07.588228 334771\n",
      "2019-01-30 10:54:12.113318 334769\n",
      "2019-01-30 10:54:13.520524 334769\n",
      "2019-01-30 10:54:14.246999 334769\n",
      "2019-01-30 10:54:15.443035 334767\n",
      "2019-01-30 10:54:16.159751 334765\n",
      "2019-01-30 10:54:16.911290 334764\n",
      "2019-01-30 10:54:17.927863 334764\n",
      "2019-01-30 10:54:23.088529 334760\n",
      "2019-01-30 10:54:25.011293 334760\n",
      "2019-01-30 10:54:29.034331 334757\n",
      "2019-01-30 10:54:30.423674 334756\n",
      "2019-01-30 10:54:30.976988 334756\n",
      "2019-01-30 10:54:31.936230 334756\n",
      "2019-01-30 10:54:32.687027 334756\n",
      "2019-01-30 10:54:32.987704 334756\n",
      "2019-01-30 10:54:33.537267 334756\n",
      "2019-01-30 10:54:42.537512 334750\n",
      "2019-01-30 10:54:44.558160 334749\n",
      "2019-01-30 10:54:48.763734 334745\n",
      "2019-01-30 10:54:50.781428 334743\n",
      "2019-01-30 10:54:51.676926 334742\n",
      "2019-01-30 10:54:53.437287 334742\n",
      "2019-01-30 10:54:54.646566 334740\n",
      "2019-01-30 10:54:55.428699 334740\n",
      "2019-01-30 10:54:56.379115 334739\n",
      "2019-01-30 10:55:09.086220 334731\n",
      "2019-01-30 10:55:19.889989 334724\n",
      "2019-01-30 10:55:22.707868 334724\n",
      "2019-01-30 10:55:23.358336 334723\n",
      "2019-01-30 10:55:23.520830 334723\n",
      "2019-01-30 10:55:23.640721 334723\n",
      "2019-01-30 10:55:23.748478 334723\n",
      "2019-01-30 10:55:23.859205 334723\n",
      "2019-01-30 10:55:23.972571 334723\n",
      "2019-01-30 10:55:24.066378 334723\n",
      "2019-01-30 10:55:24.174074 334723\n",
      "2019-01-30 10:55:24.504883 334723\n",
      "2019-01-30 10:55:24.873103 334723\n",
      "2019-01-30 10:55:25.056983 334723\n",
      "2019-01-30 10:55:25.193667 334723\n",
      "2019-01-30 10:55:25.461811 334723\n",
      "2019-01-30 10:55:25.680096 334723\n",
      "2019-01-30 10:55:25.845412 334723\n",
      "2019-01-30 10:55:26.028500 334723\n"
     ]
    }
   ],
   "source": [
    "for file_uploaded in previous_id_files_lists:\n",
    "    df = pd.read_csv(file_uploaded,usecols = ['email_address_hash'])\n",
    "    previous_email_set=set(df['email_address_hash'].tolist())\n",
    "    df_all_new_master = df_all_new_master[~df_all_new_master['email_address_hash'].isin(previous_email_set)]\n",
    "    print(datetime.datetime.now(),len(df_all_new_master.index))"
   ]
  },
  {
   "cell_type": "code",
   "execution_count": 12,
   "metadata": {},
   "outputs": [
    {
     "name": "stdout",
     "output_type": "stream",
     "text": [
      "334723\n"
     ]
    }
   ],
   "source": [
    "df_all_new_master = df_all_new_master.drop_duplicates('email_address_hash')\n",
    "df_all_new_master = df_all_new_master.drop_duplicates('customer_id_hashed')\n",
    "print(len(df_all_new_master.index))"
   ]
  },
  {
   "cell_type": "code",
   "execution_count": 14,
   "metadata": {},
   "outputs": [
    {
     "name": "stdout",
     "output_type": "stream",
     "text": [
      "['P' 'T' 'S' nan]\n",
      "['P' 'T' 'S']\n",
      "P 241898\n",
      "S 58835\n",
      "T 33990\n"
     ]
    }
   ],
   "source": [
    "zipmap = pd.read_csv('/home/jian/Projects/Big_Lots/New_TA/zips_in_new_ta/zip_with_ta_dma.csv',dtype = 'str')\n",
    "zipmap['zipcodegroup'] = zipmap['revenue_flag']\n",
    "zipmap = zipmap[['zip','zipcodegroup']].drop_duplicates('zip')\n",
    "zipmap.columns = ['customer_zip_code','zipcodegroup']\n",
    "df_all_new_master = pd.merge(df_all_new_master,zipmap,on ='customer_zip_code',how = 'left' )\n",
    "print(df_all_new_master['zipcodegroup'].unique())\n",
    "df_all_new_master['zipcodegroup'].fillna('T',inplace = True)\n",
    "print(df_all_new_master['zipcodegroup'].unique())\n",
    "\n",
    "last_saturday_str=\"_\"+str(last_saturday).split(\"-\")[1]+str(last_saturday).split(\"-\")[2]+str(last_saturday).split(\"-\")[0][2:]+\"_\"\n",
    "\n",
    "for revenue_flag in ['P','S','T']:\n",
    "    df = df_all_new_master[df_all_new_master['zipcodegroup']==revenue_flag]\n",
    "    df = df[['customer_id_hashed','email_address_hash','customer_zip_code']]\n",
    "    df['segment'] = 'NewReward' + last_saturday_str + revenue_flag\n",
    "    print(revenue_flag,len(df.index))\n",
    "    df.to_csv(write_folder+'NewReward_'+str(last_saturday)+'_'+revenue_flag+'.csv',index = False)\n",
    "# To be uploaded to lr-big-lots uploads/big_lots_onboarding"
   ]
  },
  {
   "cell_type": "code",
   "execution_count": 19,
   "metadata": {},
   "outputs": [
    {
     "data": {
      "text/html": [
       "<div>\n",
       "<style>\n",
       "    .dataframe thead tr:only-child th {\n",
       "        text-align: right;\n",
       "    }\n",
       "\n",
       "    .dataframe thead th {\n",
       "        text-align: left;\n",
       "    }\n",
       "\n",
       "    .dataframe tbody tr th {\n",
       "        vertical-align: top;\n",
       "    }\n",
       "</style>\n",
       "<table border=\"1\" class=\"dataframe\">\n",
       "  <thead>\n",
       "    <tr style=\"text-align: right;\">\n",
       "      <th></th>\n",
       "      <th>zipcodegroup</th>\n",
       "      <th>email_address_hash</th>\n",
       "    </tr>\n",
       "  </thead>\n",
       "  <tbody>\n",
       "    <tr>\n",
       "      <th>0</th>\n",
       "      <td>P</td>\n",
       "      <td>241898</td>\n",
       "    </tr>\n",
       "    <tr>\n",
       "      <th>1</th>\n",
       "      <td>S</td>\n",
       "      <td>58835</td>\n",
       "    </tr>\n",
       "    <tr>\n",
       "      <th>2</th>\n",
       "      <td>T</td>\n",
       "      <td>33990</td>\n",
       "    </tr>\n",
       "  </tbody>\n",
       "</table>\n",
       "</div>"
      ],
      "text/plain": [
       "  zipcodegroup  email_address_hash\n",
       "0            P              241898\n",
       "1            S               58835\n",
       "2            T               33990"
      ]
     },
     "execution_count": 19,
     "metadata": {},
     "output_type": "execute_result"
    }
   ],
   "source": [
    "df_all_new_master.groupby(['zipcodegroup'])['email_address_hash'].count().to_frame().reset_index()"
   ]
  },
  {
   "cell_type": "code",
   "execution_count": 16,
   "metadata": {},
   "outputs": [
    {
     "data": {
      "text/plain": [
       "334723"
      ]
     },
     "execution_count": 16,
     "metadata": {},
     "output_type": "execute_result"
    }
   ],
   "source": []
  },
  {
   "cell_type": "code",
   "execution_count": null,
   "metadata": {
    "collapsed": true
   },
   "outputs": [],
   "source": []
  }
 ],
 "metadata": {
  "kernelspec": {
   "display_name": "Python 3",
   "language": "python",
   "name": "python3"
  },
  "language_info": {
   "codemirror_mode": {
    "name": "ipython",
    "version": 3
   },
   "file_extension": ".py",
   "mimetype": "text/x-python",
   "name": "python",
   "nbconvert_exporter": "python",
   "pygments_lexer": "ipython3",
   "version": "3.6.1"
  }
 },
 "nbformat": 4,
 "nbformat_minor": 2
}
