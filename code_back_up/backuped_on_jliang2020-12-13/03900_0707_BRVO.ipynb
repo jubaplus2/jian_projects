{
 "cells": [
  {
   "cell_type": "markdown",
   "metadata": {},
   "source": [
    "## Bravo"
   ]
  },
  {
   "cell_type": "code",
   "execution_count": 5,
   "metadata": {},
   "outputs": [
    {
     "name": "stderr",
     "output_type": "stream",
     "text": [
      "/Users/JayLiang/anaconda/lib/python3.6/site-packages/bs4/__init__.py:181: UserWarning: No parser was explicitly specified, so I'm using the best available HTML parser for this system (\"lxml\"). This usually isn't a problem, but if you run this code on another system, or in a different virtual environment, it may use a different parser and behave differently.\n",
      "\n",
      "The code that caused this warning is on line 193 of the file /Users/JayLiang/anaconda/lib/python3.6/runpy.py. To get rid of this warning, change code that looks like this:\n",
      "\n",
      " BeautifulSoup(YOUR_MARKUP})\n",
      "\n",
      "to this:\n",
      "\n",
      " BeautifulSoup(YOUR_MARKUP, \"lxml\")\n",
      "\n",
      "  markup_type=markup_type))\n"
     ]
    }
   ],
   "source": [
    "import pandas as pd\n",
    "import urllib3 #url.request lib for handling the url\n",
    "from bs4 import BeautifulSoup #bs for parsing the page\n",
    "url = \"http://www.bravotv.com/schedule\"\n",
    "#url = 'http://www.bravotv.com/schedule/date/java/2017-11-14'\n",
    "\n",
    "http = urllib3.PoolManager()\n",
    "\n",
    "response = http.request('GET', url)\n",
    "soup = BeautifulSoup(response.data)"
   ]
  },
  {
   "cell_type": "code",
   "execution_count": 8,
   "metadata": {},
   "outputs": [
    {
     "name": "stdout",
     "output_type": "stream",
     "text": [
      "Nov 15\n",
      "Nov 16\n",
      "Nov 17\n",
      "Nov 18\n",
      "Nov 19\n",
      "Nov 20\n",
      "Nov 21\n",
      "Nov 22\n",
      "Nov 23\n",
      "Nov 24\n",
      "Nov 25\n",
      "Nov 26\n",
      "Nov 27\n",
      "Nov 28\n",
      "Nov 29\n",
      "Nov 30\n"
     ]
    }
   ],
   "source": [
    "dates = []\n",
    "select_node = soup.findAll('select', attrs={'class': 'form-select'})\n",
    "\n",
    "if select_node:\n",
    "    for option in select_node[0].findAll('option'):\n",
    "        print (option.text)\n",
    "        dates.append(option.text + \" \" + '2017')"
   ]
  },
  {
   "cell_type": "code",
   "execution_count": 12,
   "metadata": {},
   "outputs": [
    {
     "data": {
      "text/plain": [
       "0     2017-11-15\n",
       "1     2017-11-16\n",
       "2     2017-11-17\n",
       "3     2017-11-18\n",
       "4     2017-11-19\n",
       "5     2017-11-20\n",
       "6     2017-11-21\n",
       "7     2017-11-22\n",
       "8     2017-11-23\n",
       "9     2017-11-24\n",
       "10    2017-11-25\n",
       "11    2017-11-26\n",
       "12    2017-11-27\n",
       "13    2017-11-28\n",
       "14    2017-11-29\n",
       "15    2017-11-30\n",
       "dtype: object"
      ]
     },
     "execution_count": 12,
     "metadata": {},
     "output_type": "execute_result"
    }
   ],
   "source": [
    "dates"
   ]
  },
  {
   "cell_type": "code",
   "execution_count": 9,
   "metadata": {},
   "outputs": [],
   "source": [
    "pd_dates = pd.to_datetime(pd.Series(dates))\n",
    "dates = pd_dates.apply(lambda x: x.strftime('%Y-%m-%d'))"
   ]
  },
  {
   "cell_type": "code",
   "execution_count": 14,
   "metadata": {},
   "outputs": [
    {
     "name": "stdout",
     "output_type": "stream",
     "text": [
      "2017-11-14\n",
      "19 19 19\n",
      "2017-11-15\n",
      "28 27 28\n",
      "2017-11-16\n",
      "24 23 24\n",
      "2017-11-17\n",
      "27 24 27\n",
      "2017-11-18\n",
      "22 19 22\n",
      "2017-11-19\n",
      "27 25 27\n",
      "2017-11-20\n",
      "24 23 24\n",
      "2017-11-21\n",
      "24 23 24\n",
      "2017-11-22\n",
      "18 12 18\n",
      "2017-11-23\n",
      "18 12 18\n",
      "2017-11-24\n",
      "15 11 15\n",
      "2017-11-25\n",
      "17 9 17\n",
      "2017-11-26\n",
      "23 18 23\n",
      "2017-11-27\n",
      "25 24 25\n",
      "2017-11-28\n",
      "26 25 26\n",
      "2017-11-29\n",
      "6 5 6\n"
     ]
    }
   ],
   "source": [
    "showdate = []\n",
    "name = []\n",
    "episode = []\n",
    "time = []\n",
    "for date in dates:\n",
    "    url = 'http://www.bravotv.com/schedule/date/java/' + date\n",
    "    url_response = urllib2.urlopen(url,timeout=5)\n",
    "    soup = BeautifulSoup(url_response)\n",
    "    name_box = soup.find_all('h4', attrs={'class': 'schedule-item__title'})\n",
    "    epi_box = soup.find_all('span', attrs={'class': 'schedule-item__episode'})\n",
    "    time_box = soup.find_all('time', attrs={'class': 'schedule-item__time'})\n",
    "    print date\n",
    "    print len(name_box),len(epi_box),len(time_box)\n",
    "    for j in range(len(name_box)):\n",
    "        showdate.append(date)\n",
    "        name.append(name_box[j].text.strip().encode(\"utf-8\"))\n",
    "        #episode.append(epi_box[j].text.strip().encode(\"utf-8\"))\n",
    "        time.append(time_box[j].text.strip().encode(\"utf-8\"))"
   ]
  },
  {
   "cell_type": "code",
   "execution_count": 10,
   "metadata": {},
   "outputs": [
    {
     "ename": "NameError",
     "evalue": "name 'showdate' is not defined",
     "output_type": "error",
     "traceback": [
      "\u001b[0;31m---------------------------------------------------------------------------\u001b[0m",
      "\u001b[0;31mNameError\u001b[0m                                 Traceback (most recent call last)",
      "\u001b[0;32m<ipython-input-10-97920e9dd212>\u001b[0m in \u001b[0;36m<module>\u001b[0;34m()\u001b[0m\n\u001b[0;32m----> 1\u001b[0;31m \u001b[0md\u001b[0m \u001b[0;34m=\u001b[0m \u001b[0;34m{\u001b[0m\u001b[0;34m'Showdate'\u001b[0m\u001b[0;34m:\u001b[0m\u001b[0mshowdate\u001b[0m\u001b[0;34m,\u001b[0m\u001b[0;34m'Showtime'\u001b[0m\u001b[0;34m:\u001b[0m \u001b[0mtime\u001b[0m\u001b[0;34m,\u001b[0m\u001b[0;34m'Showname'\u001b[0m\u001b[0;34m:\u001b[0m \u001b[0mname\u001b[0m\u001b[0;34m}\u001b[0m\u001b[0;34m\u001b[0m\u001b[0m\n\u001b[0m\u001b[1;32m      2\u001b[0m \u001b[0mdf\u001b[0m \u001b[0;34m=\u001b[0m \u001b[0mpd\u001b[0m\u001b[0;34m.\u001b[0m\u001b[0mDataFrame\u001b[0m\u001b[0;34m(\u001b[0m\u001b[0md\u001b[0m\u001b[0;34m)\u001b[0m\u001b[0;34m\u001b[0m\u001b[0m\n\u001b[1;32m      3\u001b[0m \u001b[0mdf\u001b[0m \u001b[0;34m=\u001b[0m \u001b[0mdf\u001b[0m\u001b[0;34m[\u001b[0m\u001b[0;34m[\u001b[0m\u001b[0;34m'Showdate'\u001b[0m\u001b[0;34m,\u001b[0m\u001b[0;34m'Showtime'\u001b[0m\u001b[0;34m,\u001b[0m\u001b[0;34m'Showname'\u001b[0m\u001b[0;34m]\u001b[0m\u001b[0;34m]\u001b[0m\u001b[0;34m\u001b[0m\u001b[0m\n",
      "\u001b[0;31mNameError\u001b[0m: name 'showdate' is not defined"
     ]
    }
   ],
   "source": [
    "d = {'Showdate':showdate,'Showtime': time,'Showname': name}\n",
    "df = pd.DataFrame(d)\n",
    "df = df[['Showdate','Showtime','Showname']]"
   ]
  },
  {
   "cell_type": "code",
   "execution_count": 11,
   "metadata": {},
   "outputs": [
    {
     "ename": "NameError",
     "evalue": "name 'df' is not defined",
     "output_type": "error",
     "traceback": [
      "\u001b[0;31m---------------------------------------------------------------------------\u001b[0m",
      "\u001b[0;31mNameError\u001b[0m                                 Traceback (most recent call last)",
      "\u001b[0;32m<ipython-input-11-7ed0097d7e9e>\u001b[0m in \u001b[0;36m<module>\u001b[0;34m()\u001b[0m\n\u001b[0;32m----> 1\u001b[0;31m \u001b[0mdf\u001b[0m\u001b[0;34m\u001b[0m\u001b[0m\n\u001b[0m",
      "\u001b[0;31mNameError\u001b[0m: name 'df' is not defined"
     ]
    }
   ],
   "source": [
    "df"
   ]
  },
  {
   "cell_type": "markdown",
   "metadata": {},
   "source": [
    "## TLC"
   ]
  },
  {
   "cell_type": "markdown",
   "metadata": {},
   "source": [
    "## VH1"
   ]
  },
  {
   "cell_type": "markdown",
   "metadata": {},
   "source": [
    "## ID"
   ]
  },
  {
   "cell_type": "markdown",
   "metadata": {},
   "source": [
    "## BET"
   ]
  },
  {
   "cell_type": "code",
   "execution_count": null,
   "metadata": {
    "collapsed": true
   },
   "outputs": [],
   "source": []
  }
 ],
 "metadata": {
  "kernelspec": {
   "display_name": "Python 3",
   "language": "python",
   "name": "python3"
  },
  "language_info": {
   "codemirror_mode": {
    "name": "ipython",
    "version": 3
   },
   "file_extension": ".py",
   "mimetype": "text/x-python",
   "name": "python",
   "nbconvert_exporter": "python",
   "pygments_lexer": "ipython3",
   "version": "3.6.1"
  }
 },
 "nbformat": 4,
 "nbformat_minor": 1
}
