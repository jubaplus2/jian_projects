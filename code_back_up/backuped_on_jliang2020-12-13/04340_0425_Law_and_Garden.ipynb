{
 "cells": [
  {
   "cell_type": "code",
   "execution_count": 1,
   "metadata": {
    "collapsed": true
   },
   "outputs": [],
   "source": [
    "import pandas as pd\n",
    "import glob\n",
    "import datetime\n",
    "import numpy as np"
   ]
  },
  {
   "cell_type": "code",
   "execution_count": 2,
   "metadata": {
    "collapsed": true
   },
   "outputs": [],
   "source": [
    "folder_file_pattern=glob.glob(\"/home/jian/Projects/Big_Lots/Sales_All/Sales_Data/*.txt\")"
   ]
  },
  {
   "cell_type": "code",
   "execution_count": 3,
   "metadata": {
    "collapsed": true
   },
   "outputs": [],
   "source": [
    "taxonomy=pd.read_csv(\"/home/jian/BigLots/static_files/MediaStorm Data Extract - Product Taxonomy.txt\",sep=\"|\",dtype=str)\n",
    "depart_name=pd.read_csv(\"/home/jian/BigLots/static_files/MediaStorm Data Extract - Department Names.txt\",sep=\"|\",dtype=str)\n",
    "class_name=pd.read_csv(\"/home/jian/BigLots/static_files/MediaStorm Data Extract - Class Names.txt\",sep=\"|\",dtype=str,encoding = \"ISO-8859-1\")"
   ]
  },
  {
   "cell_type": "code",
   "execution_count": 4,
   "metadata": {
    "collapsed": true
   },
   "outputs": [],
   "source": [
    "depart_id=depart_name[depart_name['department_desc']==\"LAWN & GARDEN\"]['department_id'].unique()[0]\n",
    "lawn_garden_tax=taxonomy[taxonomy['department_id']==depart_id]\n",
    "lawn_garden_tax=lawn_garden_tax[['department_id','class_code_id']]\n",
    "lawn_garden_tax=lawn_garden_tax.drop_duplicates().reset_index()\n",
    "del lawn_garden_tax['index']\n",
    "lawn_garden_tax=pd.merge(lawn_garden_tax,class_name,on=\"class_code_id\",how=\"left\")\n",
    "lawn_garden_id=lawn_garden_tax['class_code_id'].unique().tolist()"
   ]
  },
  {
   "cell_type": "code",
   "execution_count": 9,
   "metadata": {},
   "outputs": [],
   "source": [
    "lawn_garden_id_df=pd.DataFrame(columns={\"id\"},index=range(len(lawn_garden_id)))\n",
    "lawn_garden_id_df['id']=lawn_garden_id\n",
    "lawn_garden_id_df.to_csv(\"/home/jian/lawn_code.csv\")"
   ]
  },
  {
   "cell_type": "code",
   "execution_count": 5,
   "metadata": {
    "collapsed": true
   },
   "outputs": [],
   "source": [
    "depart_sales_output=pd.DataFrame()\n",
    "for file in folder_file_pattern:\n",
    "    df=pd.read_csv(file,sep=\"|\",dtype=str)\n",
    "    if \"class_code_id\" in df.columns:\n",
    "\n",
    "        df=df[df['class_code_id'].isin(lawn_garden_id)]\n",
    "        df['class_gross_sales_amt']=df['class_gross_sales_amt'].astype(float)\n",
    "        df['class_gross_sales_amt']=df['class_gross_sales_amt'].fillna(0.0)\n",
    "        df=df[['location_id','week_end_dt','class_code_id','class_gross_sales_amt']].drop_duplicates()\n",
    "        df=df.groupby(['location_id','week_end_dt'])['class_gross_sales_amt'].sum().to_frame()\n",
    "        df.reset_index(inplace=True)\n",
    "        try:\n",
    "            df['week_end_dt']=df['week_end_dt'].apply(lambda x: datetime.datetime.strptime(x,\"%Y-%m-%d\").date())\n",
    "            \n",
    "        except:\n",
    "            print(file,\"Date Error\")\n",
    "            \n",
    "            \n",
    "    else:\n",
    "        print (file,\"Error: class_code_id not in columns\")\n",
    "        \n",
    "    depart_sales_output=depart_sales_output.append(df)"
   ]
  },
  {
   "cell_type": "code",
   "execution_count": null,
   "metadata": {
    "collapsed": true
   },
   "outputs": [],
   "source": []
  },
  {
   "cell_type": "code",
   "execution_count": 6,
   "metadata": {
    "collapsed": true
   },
   "outputs": [],
   "source": [
    "depart_sales_output.columns=['location_id','week_end_dt','Lawn_and_Garden_Sales']\n",
    "depart_sales_output_wide=depart_sales_output.pivot(index='location_id', columns='week_end_dt', values='Lawn_and_Garden_Sales')\n",
    "depart_sales_output_wide=depart_sales_output_wide.fillna(0)\n",
    "depart_sales_output_wide.reset_index(inplace=True)\n",
    "depart_sales_output_wide['location_id']=depart_sales_output_wide['location_id'].astype(int)\n",
    "depart_sales_output_wide=depart_sales_output_wide.sort_values('location_id')\n",
    "depart_sales_output_wide=depart_sales_output_wide[~depart_sales_output_wide['location_id'].isin([145,6990])]"
   ]
  },
  {
   "cell_type": "code",
   "execution_count": 7,
   "metadata": {
    "collapsed": true
   },
   "outputs": [],
   "source": [
    "writer=pd.ExcelWriter(\"/home/jian/Projects/Big_Lots/Sales_All/Law_and_Garden_Q1.xlsx\")"
   ]
  },
  {
   "cell_type": "code",
   "execution_count": 8,
   "metadata": {
    "collapsed": true
   },
   "outputs": [],
   "source": [
    "all_sales_by_store=pd.read_excel(\"/home/jian/BiglotsCode/outputs/Output_2018-04-21/wide_sales_date2018-04-21.xlsx\",sheetname=\"sales\")\n",
    "all_sales_by_store.to_excel(writer,\"all sales\",index=False)"
   ]
  },
  {
   "cell_type": "code",
   "execution_count": 9,
   "metadata": {
    "collapsed": true
   },
   "outputs": [],
   "source": [
    "all_sales_by_store.columns=[\"location_id\"]+[\"All_Sales_\"+name for name in all_sales_by_store.columns[1:all_sales_by_store.shape[1]]]"
   ]
  },
  {
   "cell_type": "code",
   "execution_count": 10,
   "metadata": {
    "collapsed": true
   },
   "outputs": [],
   "source": [
    "depart_sales_output_wide_lawn=depart_sales_output_wide.copy()\n",
    "depart_sales_output_wide_lawn.columns=[\"location_id\"]+[\"LawnGarden_\"+str(name) for name in depart_sales_output_wide_lawn.columns[1:all_sales_by_store.shape[1]]]"
   ]
  },
  {
   "cell_type": "code",
   "execution_count": 11,
   "metadata": {
    "collapsed": true
   },
   "outputs": [],
   "source": [
    "depart_sales_output_wide_lawn=pd.merge(all_sales_by_store,depart_sales_output_wide_lawn,on=\"location_id\",how=\"outer\")\n",
    "depart_sales_output_wide_lawn=depart_sales_output_wide_lawn.fillna(0)"
   ]
  },
  {
   "cell_type": "code",
   "execution_count": 12,
   "metadata": {
    "collapsed": true
   },
   "outputs": [],
   "source": [
    "depart_sales_output_wide.to_excel(writer,\"Lawn_and_Garden\",index=False)"
   ]
  },
  {
   "cell_type": "code",
   "execution_count": 13,
   "metadata": {
    "collapsed": true
   },
   "outputs": [],
   "source": [
    "depart_sales_output_wide_lawn.to_excel(writer,\"Lawn_and_Garden_and_All\",index=False)"
   ]
  },
  {
   "cell_type": "code",
   "execution_count": 14,
   "metadata": {
    "collapsed": true
   },
   "outputs": [],
   "source": [
    "writer.save()"
   ]
  }
 ],
 "metadata": {
  "kernelspec": {
   "display_name": "Python 3",
   "language": "python",
   "name": "python3"
  },
  "language_info": {
   "codemirror_mode": {
    "name": "ipython",
    "version": 3
   },
   "file_extension": ".py",
   "mimetype": "text/x-python",
   "name": "python",
   "nbconvert_exporter": "python",
   "pygments_lexer": "ipython3",
   "version": "3.6.1"
  }
 },
 "nbformat": 4,
 "nbformat_minor": 2
}
