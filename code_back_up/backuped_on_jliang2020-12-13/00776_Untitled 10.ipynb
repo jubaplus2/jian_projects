{
 "cells": [
  {
   "cell_type": "code",
   "execution_count": 3,
   "metadata": {},
   "outputs": [],
   "source": [
    "import shutil\n",
    "import os\n",
    "\n",
    "\n",
    "original_folder = \"/home/jian/Projects/Big_Lots/Live_Ramp/Quarterly_Update_2020Q1/output_2020-04-24/\"\n",
    "target_folder = \"/home/jian/Projects/Big_Lots/Live_Ramp/Quarterly_Update_2020Q2/output_2020-04-24/\"\n"
   ]
  },
  {
   "cell_type": "code",
   "execution_count": 4,
   "metadata": {},
   "outputs": [
    {
     "data": {
      "text/plain": [
       "['BL_trans_by_id_store_detail_JL_20181021_20200418_JL_2020-04-24 13:42:30.519311.csv',\n",
       " 'BL_trans_by_id_store_agg_JL_20181021_20200418_JL_2020-04-24 14:09:44.003813.csv',\n",
       " 'BL_allocated_store_by_id_shoppers_18_months_JL_20181021_20200418_JL_2020-04-24 14:14:31.523753.csv']"
      ]
     },
     "execution_count": 4,
     "metadata": {},
     "output_type": "execute_result"
    }
   ],
   "source": [
    "list_from=os.listdir(original_folder)\n",
    "list_from"
   ]
  },
  {
   "cell_type": "code",
   "execution_count": 5,
   "metadata": {},
   "outputs": [],
   "source": [
    "for file in list_from:\n",
    "    path_from=original_folder+file\n",
    "    path_to=target_folder+file\n",
    "    \n",
    "    shutil.copyfile(path_from,path_to)"
   ]
  },
  {
   "cell_type": "code",
   "execution_count": null,
   "metadata": {},
   "outputs": [],
   "source": []
  }
 ],
 "metadata": {
  "kernelspec": {
   "display_name": "Python 3",
   "language": "python",
   "name": "python3"
  },
  "language_info": {
   "codemirror_mode": {
    "name": "ipython",
    "version": 3
   },
   "file_extension": ".py",
   "mimetype": "text/x-python",
   "name": "python",
   "nbconvert_exporter": "python",
   "pygments_lexer": "ipython3",
   "version": "3.6.1"
  }
 },
 "nbformat": 4,
 "nbformat_minor": 2
}
