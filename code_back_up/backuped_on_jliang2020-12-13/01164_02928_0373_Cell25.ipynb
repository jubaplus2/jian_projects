{
 "cells": [
  {
   "cell_type": "code",
   "execution_count": 1,
   "metadata": {
    "collapsed": true
   },
   "outputs": [],
   "source": [
    "import pandas as pd\n",
    "import gc\n",
    "import numpy as np\n",
    "import datetime\n",
    "import os\n",
    "import json\n",
    "import haversine"
   ]
  },
  {
   "cell_type": "code",
   "execution_count": 2,
   "metadata": {
    "collapsed": true
   },
   "outputs": [],
   "source": [
    "today_str=str(datetime.datetime.now().date())\n",
    "\n",
    "folder=\"/home/jian/Projects/Big_Lots/Newspaper/Analysis/\"+today_str+\"/\"\n",
    "try:\n",
    "    os.stat(folder)\n",
    "except:\n",
    "    os.mkdir(folder)"
   ]
  },
  {
   "cell_type": "markdown",
   "metadata": {},
   "source": [
    "# Prepare data"
   ]
  },
  {
   "cell_type": "code",
   "execution_count": 3,
   "metadata": {
    "collapsed": true
   },
   "outputs": [],
   "source": [
    "zip_circ_analysis=pd.read_csv(\"/home/jian/Projects/Big_Lots/Newspaper/Analysis/zip_level_information.csv\")\n",
    "zip_circ_analysis=zip_circ_analysis[(zip_circ_analysis['zip_cd']!=0) & (zip_circ_analysis['zip_cd']!=99999)]\n",
    "zip_circ_analysis=zip_circ_analysis[zip_circ_analysis['Event_Count']!=1]\n",
    "zip_circ_analysis=zip_circ_analysis[zip_circ_analysis['total_circ']!=0]\n",
    "del zip_circ_analysis['loyalty_label']\n",
    "del zip_circ_analysis['circ_label']\n",
    "zip_circ_analysis=zip_circ_analysis.reset_index()\n",
    "del zip_circ_analysis['index']\n",
    "\n",
    "zip_circ_analysis['zip_cd']=zip_circ_analysis['zip_cd'].apply(lambda x: str(x).zfill(5))\n",
    "zip_circ_analysis['F_25to54']=zip_circ_analysis['F_25to54'].fillna(0)\n",
    "\n",
    "zip_circ_analysis['loyalty_mem_penetration_F25_54']=zip_circ_analysis['loyalty_mem_count']/zip_circ_analysis['F_25to54']\n",
    "\n"
   ]
  },
  {
   "cell_type": "code",
   "execution_count": 4,
   "metadata": {
    "collapsed": true
   },
   "outputs": [],
   "source": [
    "zip_circ_analysis['loyalty_label']=np.where(zip_circ_analysis['loyalty_mem_count']>np.percentile(zip_circ_analysis['loyalty_mem_count'], 80),\"Loyalty_5\",\n",
    "                                                     np.where(zip_circ_analysis['loyalty_mem_count']>np.percentile(zip_circ_analysis['loyalty_mem_count'], 60),\"Loyalty_4\",\n",
    "                                                              np.where(zip_circ_analysis['loyalty_mem_count']>np.percentile(zip_circ_analysis['loyalty_mem_count'], 40),\"Loyalty_3\",\n",
    "                                                                       np.where(zip_circ_analysis['loyalty_mem_count']>np.percentile(zip_circ_analysis['loyalty_mem_count'], 20),\"Loyalty_2\",\n",
    "                                                                                \"Loyalty_1\")\n",
    "                                                                      )\n",
    "                                                             )\n",
    "                                                     )\n",
    "zip_circ_analysis['circ_label']=np.where(zip_circ_analysis['total_circ']>np.percentile(zip_circ_analysis['total_circ'], 80),\"Total_Circ_5\",\n",
    "                                                     np.where(zip_circ_analysis['total_circ']>np.percentile(zip_circ_analysis['total_circ'], 60),\"Total_Circ_4\",\n",
    "                                                              np.where(zip_circ_analysis['total_circ']>np.percentile(zip_circ_analysis['total_circ'], 40),\"Total_Circ_3\",\n",
    "                                                                       np.where(zip_circ_analysis['total_circ']>np.percentile(zip_circ_analysis['total_circ'], 20),\"Total_Circ_2\",\n",
    "                                                                                \"Total_Circ_1\")\n",
    "                                                                      )\n",
    "                                                             )\n",
    "                                                     )\n",
    "\n",
    "\n",
    "\n"
   ]
  },
  {
   "cell_type": "code",
   "execution_count": 5,
   "metadata": {
    "collapsed": true
   },
   "outputs": [],
   "source": [
    "zip_circ_analysis_for_LP_label=zip_circ_analysis[zip_circ_analysis['F_25to54']!=0][['zip_cd','loyalty_mem_penetration_F25_54']]\n",
    "zip_circ_analysis_for_LP_label['loyalty_pen_to_F25_54_label']=np.where(zip_circ_analysis_for_LP_label['loyalty_mem_penetration_F25_54']>np.percentile(zip_circ_analysis_for_LP_label['loyalty_mem_penetration_F25_54'], 80),\"loyalty_penetration_5\",\n",
    "                                                                 np.where(zip_circ_analysis_for_LP_label['loyalty_mem_penetration_F25_54']>np.percentile(zip_circ_analysis_for_LP_label['loyalty_mem_penetration_F25_54'], 60),\"loyalty_penetration_4\",\n",
    "                                                                          np.where(zip_circ_analysis_for_LP_label['loyalty_mem_penetration_F25_54']>np.percentile(zip_circ_analysis_for_LP_label['loyalty_mem_penetration_F25_54'], 40),\"loyalty_penetration_3\",\n",
    "                                                                                   np.where(zip_circ_analysis_for_LP_label['loyalty_mem_penetration_F25_54']>np.percentile(zip_circ_analysis_for_LP_label['loyalty_mem_penetration_F25_54'], 20),\"loyalty_penetration_2\",\n",
    "                                                                                            \"loyalty_penetration_1\")\n",
    "                                                                                  )\n",
    "                                                                         )\n",
    "                                                                 )\n",
    "del zip_circ_analysis_for_LP_label['loyalty_mem_penetration_F25_54']\n",
    "\n",
    "zip_circ_analysis=pd.merge(zip_circ_analysis,zip_circ_analysis_for_LP_label,on=\"zip_cd\",how=\"left\")"
   ]
  },
  {
   "cell_type": "code",
   "execution_count": null,
   "metadata": {
    "collapsed": true
   },
   "outputs": [],
   "source": []
  },
  {
   "cell_type": "code",
   "execution_count": 6,
   "metadata": {
    "collapsed": true
   },
   "outputs": [],
   "source": [
    "zip_city=pd.read_csv(\"/home/jian/Docs/Geo_mapping/free-zipcode-database.csv\",dtype=str)\n",
    "zip_city_data=zip_city[['Zipcode','City','State']].drop_duplicates().reset_index()\n",
    "del zip_city_data['index']\n",
    "zip_city_data=zip_city_data.rename(columns={\"Zipcode\":\"zip_cd\"})\n",
    "zip_city_data['zip_cd']=zip_city_data['zip_cd'].apply(lambda x: x.zfill(5))\n",
    "zip_city=zip_city_data.groupby(\"zip_cd\")[\"City\"].apply(set).to_frame().reset_index()"
   ]
  },
  {
   "cell_type": "code",
   "execution_count": 7,
   "metadata": {
    "collapsed": true
   },
   "outputs": [],
   "source": [
    "zip_DMA=pd.read_excel(\"/home/jian/Docs/Geo_mapping/Zips by DMA by County16-17 nielsen.xlsx\",skiprows=1,dtype=str)\n",
    "zip_DMA=zip_DMA.iloc[:,[0,2,6]]\n",
    "zip_DMA=zip_DMA.rename(columns={\"CODE\":\"zip_cd\",\"NAME\":\"DMA\",\"ABV\":\"ST\"})\n",
    "zip_DMA_DMA=zip_DMA.groupby(\"zip_cd\")[\"DMA\"].apply(set).to_frame().reset_index()\n",
    "zip_DMA_ST_Nielsen=zip_DMA.groupby(\"zip_cd\")[\"ST\"].apply(set).to_frame().reset_index()"
   ]
  },
  {
   "cell_type": "code",
   "execution_count": 8,
   "metadata": {
    "collapsed": true
   },
   "outputs": [],
   "source": [
    "zip_circ_analysis=pd.merge(zip_circ_analysis,zip_city,on=\"zip_cd\",how=\"left\")\n",
    "zip_circ_analysis=pd.merge(zip_circ_analysis,zip_DMA_ST_Nielsen,on=\"zip_cd\",how=\"left\")\n",
    "zip_circ_analysis=pd.merge(zip_circ_analysis,zip_DMA_DMA,on=\"zip_cd\",how=\"left\")"
   ]
  },
  {
   "cell_type": "code",
   "execution_count": 9,
   "metadata": {
    "collapsed": true
   },
   "outputs": [],
   "source": [
    "zip_center=json.load(open(\"/home/jian/Docs/Geo_mapping/center_of_rentrak_zip.json\",\"r\"))\n",
    "# From the Domic\n",
    "store_zip=pd.read_excel(\"/home/jian/Projects/Big_Lots/Other_Input/Store_list 5-4-18_From Dom.xlsx\",sheetname=\"Store List\",dtype=str)\n",
    "store_zip=store_zip.iloc[0:store_zip.index[store_zip['Store']=='nan'][0],:]\n",
    "\n",
    "store_zip=store_zip[[\"Store\",\"Zip\",\"latitude_meas\",\"longitude_meas\"]].rename(columns={\"Zip\":\"zip_cd\"})\n",
    "store_zip['latitude_meas']=store_zip['latitude_meas'].astype(float)\n",
    "store_zip['longitude_meas']=store_zip['longitude_meas'].astype(float)\n",
    "store_zip['zip_cd']=store_zip['zip_cd'].apply(lambda x: x.split(\"-\")[0].zfill(5))\n"
   ]
  },
  {
   "cell_type": "code",
   "execution_count": 10,
   "metadata": {},
   "outputs": [
    {
     "data": {
      "text/plain": [
       "array([<class 'float'>], dtype=object)"
      ]
     },
     "execution_count": 10,
     "metadata": {},
     "output_type": "execute_result"
    }
   ],
   "source": [
    "zip_circ_analysis['loyalty_mem_penetration_F25_54'].apply(lambda x:type(x)).unique()"
   ]
  },
  {
   "cell_type": "code",
   "execution_count": 11,
   "metadata": {},
   "outputs": [
    {
     "data": {
      "text/plain": [
       "0.64162695035460993"
      ]
     },
     "execution_count": 11,
     "metadata": {},
     "output_type": "execute_result"
    }
   ],
   "source": [
    "np.nanpercentile(zip_circ_analysis['loyalty_mem_penetration_F25_54'], 80)"
   ]
  },
  {
   "cell_type": "markdown",
   "metadata": {},
   "source": [
    "# Closest Stores"
   ]
  },
  {
   "cell_type": "code",
   "execution_count": 12,
   "metadata": {},
   "outputs": [
    {
     "name": "stdout",
     "output_type": "stream",
     "text": [
      "1 2018-06-21 15:19:36.642112\n",
      "1001 2018-06-21 15:20:30.659019\n",
      "2001 2018-06-21 15:21:30.945359\n",
      "3001 2018-06-21 15:22:33.037699\n",
      "4001 2018-06-21 15:23:25.889904\n",
      "5001 2018-06-21 15:24:18.962956\n",
      "6001 2018-06-21 15:25:21.429202\n",
      "7001 2018-06-21 15:26:16.759459\n",
      "8001 2018-06-21 15:27:21.467012\n",
      "9001 2018-06-21 15:28:25.162993\n",
      "10001 2018-06-21 15:29:22.319058\n",
      "11001 2018-06-21 15:30:16.747679\n",
      "12001 2018-06-21 15:31:12.940053\n",
      "13001 2018-06-21 15:32:16.226021\n",
      "14001 2018-06-21 15:33:24.396780\n"
     ]
    }
   ],
   "source": [
    "count=0 #1000 bin\n",
    "df_closest_store=pd.DataFrame()\n",
    "not_fount_zip_list=[]\n",
    "for zip_circ in zip_circ_analysis['zip_cd'].unique().tolist():\n",
    "    shortest_dist=99999\n",
    "    for i in range(len(store_zip)):\n",
    "        try:\n",
    "            dist=haversine.haversine((store_zip['latitude_meas'][i],store_zip['longitude_meas'][i]),zip_center[zip_circ],miles=True)\n",
    "            if shortest_dist>=dist:\n",
    "                shortest_dist=dist\n",
    "                closest_store=store_zip['Store'][i]\n",
    "        except:\n",
    "            not_fount_zip_list=not_fount_zip_list+[zip_circ]\n",
    "            \n",
    "    df=pd.DataFrame({\"zip_cd\":zip_circ,\"closest_store\":closest_store,\"closest_dist\":shortest_dist},index=[count])\n",
    "    # zip_cd: zip in circ  \n",
    "    count=count+1\n",
    "    if count%1000==1:\n",
    "        print(count,datetime.datetime.now())\n",
    "    \n",
    "    df_closest_store=df_closest_store.append(df)    "
   ]
  },
  {
   "cell_type": "code",
   "execution_count": 13,
   "metadata": {
    "collapsed": true
   },
   "outputs": [],
   "source": [
    "zip_circ_analysis=pd.merge(zip_circ_analysis,df_closest_store,on=\"zip_cd\",how=\"left\")"
   ]
  },
  {
   "cell_type": "code",
   "execution_count": 14,
   "metadata": {
    "collapsed": true
   },
   "outputs": [],
   "source": [
    "zip_circ_analysis['F_25to54']=zip_circ_analysis['F_25to54'].fillna(0)\n",
    "zip_circ_analysis['loyalty_mem_count']=zip_circ_analysis['loyalty_mem_count'].fillna(0)"
   ]
  },
  {
   "cell_type": "code",
   "execution_count": 15,
   "metadata": {
    "collapsed": true
   },
   "outputs": [],
   "source": [
    "zip_circ_analysis['prospect_count']=zip_circ_analysis['F_25to54']-zip_circ_analysis['loyalty_mem_count']\n",
    "zip_circ_analysis['prospect_penetration_F25_54']=zip_circ_analysis['prospect_count']/zip_circ_analysis['F_25to54']\n",
    "\n",
    "\n",
    "\n",
    "zip_circ_analysis[\"Cost per loyalty_mem\"]=zip_circ_analysis['cost']/zip_circ_analysis['loyalty_mem_count']\n",
    "zip_circ_analysis[\"Circ per event_to_Loyalty mem\"]=zip_circ_analysis['Circ per Event']/zip_circ_analysis['loyalty_mem_count']\n",
    "\n"
   ]
  },
  {
   "cell_type": "code",
   "execution_count": 16,
   "metadata": {
    "collapsed": true
   },
   "outputs": [],
   "source": [
    "zip_circ_analysis_for_PP_label=zip_circ_analysis[zip_circ_analysis['F_25to54']!=0][['zip_cd','prospect_penetration_F25_54']]\n",
    "zip_circ_analysis_for_PP_label['prospects_pen_to_F25_54_label']=np.where(zip_circ_analysis_for_PP_label['prospect_penetration_F25_54']>np.percentile(zip_circ_analysis_for_PP_label['prospect_penetration_F25_54'], 80),\"prospects_penetration_5\",\n",
    "                                                                 np.where(zip_circ_analysis_for_PP_label['prospect_penetration_F25_54']>np.percentile(zip_circ_analysis_for_PP_label['prospect_penetration_F25_54'], 60),\"prospects_penetration_4\",\n",
    "                                                                          np.where(zip_circ_analysis_for_PP_label['prospect_penetration_F25_54']>np.percentile(zip_circ_analysis_for_PP_label['prospect_penetration_F25_54'], 40),\"prospects_penetration_3\",\n",
    "                                                                                   np.where(zip_circ_analysis_for_PP_label['prospect_penetration_F25_54']>np.percentile(zip_circ_analysis_for_PP_label['prospect_penetration_F25_54'], 20),\"prospects_penetration_2\",\n",
    "                                                                                            \"prospects_penetration_1\")\n",
    "                                                                                  )\n",
    "                                                                         )\n",
    "                                                                 )\n",
    "del zip_circ_analysis_for_PP_label['prospect_penetration_F25_54']\n",
    "\n",
    "zip_circ_analysis=pd.merge(zip_circ_analysis,zip_circ_analysis_for_PP_label,on=\"zip_cd\",how=\"left\")"
   ]
  },
  {
   "cell_type": "code",
   "execution_count": 17,
   "metadata": {
    "collapsed": true
   },
   "outputs": [],
   "source": [
    "zip_circ_analysis['location_id']=np.where(zip_circ_analysis['location_id']==0,np.nan,zip_circ_analysis['location_id'])"
   ]
  },
  {
   "cell_type": "code",
   "execution_count": 18,
   "metadata": {},
   "outputs": [
    {
     "name": "stderr",
     "output_type": "stream",
     "text": [
      "/usr/local/lib/python3.6/site-packages/ipykernel_launcher.py:9: SettingWithCopyWarning: \n",
      "A value is trying to be set on a copy of a slice from a DataFrame.\n",
      "Try using .loc[row_indexer,col_indexer] = value instead\n",
      "\n",
      "See the caveats in the documentation: http://pandas.pydata.org/pandas-docs/stable/indexing.html#indexing-view-versus-copy\n",
      "  if __name__ == '__main__':\n",
      "/usr/local/lib/python3.6/site-packages/ipykernel_launcher.py:11: SettingWithCopyWarning: \n",
      "A value is trying to be set on a copy of a slice from a DataFrame.\n",
      "Try using .loc[row_indexer,col_indexer] = value instead\n",
      "\n",
      "See the caveats in the documentation: http://pandas.pydata.org/pandas-docs/stable/indexing.html#indexing-view-versus-copy\n",
      "  # This is added back by InteractiveShellApp.init_path()\n",
      "/usr/local/lib/python3.6/site-packages/ipykernel_launcher.py:12: SettingWithCopyWarning: \n",
      "A value is trying to be set on a copy of a slice from a DataFrame.\n",
      "Try using .loc[row_indexer,col_indexer] = value instead\n",
      "\n",
      "See the caveats in the documentation: http://pandas.pydata.org/pandas-docs/stable/indexing.html#indexing-view-versus-copy\n",
      "  if sys.path[0] == '':\n"
     ]
    }
   ],
   "source": [
    "zip_circ_analysis['Store_1']=np.nan\n",
    "zip_circ_analysis['Store_2']=np.nan\n",
    "zip_circ_analysis['location_id_list']=zip_circ_analysis['location_id'].apply(lambda x: str(x).replace(\"[\",\"\").replace(\"]\",\"\").replace(\" \",\"\").split(\",\"))\n",
    "zip_circ_analysis['store_count']=zip_circ_analysis['location_id_list'].apply(lambda x:len(x))\n",
    "\n",
    "zip_circ_analysis_0=zip_circ_analysis[zip_circ_analysis['store_count']==0]\n",
    "zip_circ_analysis_1=zip_circ_analysis[zip_circ_analysis['store_count']==1]\n",
    "zip_circ_analysis_2=zip_circ_analysis[zip_circ_analysis['store_count']==2]\n",
    "zip_circ_analysis_1['Store_1']=zip_circ_analysis_1['location_id_list'].apply(lambda x: x[0])\n",
    "\n",
    "zip_circ_analysis_2['Store_1']=zip_circ_analysis_2['location_id_list'].apply(lambda x: x[0])\n",
    "zip_circ_analysis_2['Store_2']=zip_circ_analysis_2['location_id_list'].apply(lambda x: x[1])\n",
    "\n",
    "                                  \n",
    "\n",
    "zip_circ_analysis=zip_circ_analysis_0.append(zip_circ_analysis_1).append(zip_circ_analysis_2)\n",
    "zip_circ_analysis=zip_circ_analysis.sort_values(\"zip_cd\")\n",
    "\n"
   ]
  },
  {
   "cell_type": "code",
   "execution_count": 19,
   "metadata": {
    "collapsed": true
   },
   "outputs": [],
   "source": [
    "del zip_circ_analysis['store_count']\n",
    "del zip_circ_analysis['location_id_list']   \n",
    "del zip_circ_analysis['Split_of_weekly_circ']"
   ]
  },
  {
   "cell_type": "code",
   "execution_count": 20,
   "metadata": {
    "collapsed": true
   },
   "outputs": [],
   "source": [
    "date_columns=[x for x in zip_circ_analysis.columns.tolist() if \"-\" in x]\n",
    "\n",
    "iv_columns=[\"zip_cd\",\"City\",\"ST\",\"DMA\",\"location_id\",\"Store_1\",\"Store_2\",\"closest_dist\",\"closest_store\",\n",
    "            \"selected_TA\",\"trade_area_code\",\"revenue_flag\",\"HH15\",\"total_pop\",\"F_25to54\",\"loyalty_mem_count\",\"loyalty_mem_penetration_F25_54\",\n",
    "           \"prospect_count\",\"prospect_penetration_F25_54\",\n",
    "            \"total_circ\",\"Event_Count\",\"Circ per Event\",\"cost\",\"Circ Penetration of F25_54\",\n",
    "           \"Cost per loyalty_mem\",\"Circ per event_to_Loyalty mem\",\"2017_compariable_sales\",\"2018_compariable_sales\",\"YoY\",\"store_list\",\"loyalty_sales_by_zip\",\n",
    "            \"loyalty_transactions_by_zip\",\"loyalty_label\",\"circ_label\",\"loyalty_pen_to_F25_54_label\",'prospects_pen_to_F25_54_label']\n",
    "\n",
    "zip_circ_analysis=zip_circ_analysis[iv_columns+date_columns]\n",
    "\n"
   ]
  },
  {
   "cell_type": "code",
   "execution_count": 21,
   "metadata": {
    "collapsed": true
   },
   "outputs": [],
   "source": [
    "zip_circ_analysis['Store_1']=zip_circ_analysis['Store_1'].astype(str)\n",
    "zip_circ_analysis['Store_1']=np.where(zip_circ_analysis['Store_1']==\"nan\",\"\",zip_circ_analysis['Store_1'])\n",
    "zip_circ_analysis=zip_circ_analysis.rename(columns={\"Cost per loyalty_mem\":\"Total cost per loyalty_mem\"})"
   ]
  },
  {
   "cell_type": "code",
   "execution_count": 23,
   "metadata": {
    "collapsed": true
   },
   "outputs": [],
   "source": [
    "loyalty_sales_df=pd.read_csv(\"/home/jian/Projects/Big_Lots/Loyal_members/sales_of_loyalty_member/2018-06-20/sales_by_location_id_agg_2018-06-20.csv\",dtype=str)\n",
    "loyalty_sales_df['customer_zip_code']=loyalty_sales_df['customer_zip_code'].apply(lambda x: x.zfill(5))\n",
    "loyalty_sales_df['non_loyalty_sales_zip']=loyalty_sales_df['non_loyalty_sales_zip'].astype(float)\n",
    "loyalty_sales_df['loyal_sales_zip']=loyalty_sales_df['loyal_sales_zip'].astype(float)\n",
    "loyalty_sales_df['total_sales_zip']=loyalty_sales_df['loyal_sales_zip']+loyalty_sales_df['non_loyalty_sales_zip']\n",
    "loyalty_sales_df['loyal_sales_pctg']=loyalty_sales_df['loyal_sales_pctg'].astype(float)\n",
    "\n",
    "\n",
    "\n",
    "\n",
    "\n",
    "non_loyalty_sales_by_zip=loyalty_sales_df.groupby(['customer_zip_code'])['non_loyalty_sales_zip','loyal_sales_zip','total_sales_zip'].sum().reset_index()\n",
    "non_loyalty_sales_by_zip=non_loyalty_sales_by_zip.rename(columns={\"customer_zip_code\":\"zip_cd\",'non_loyalty_sales_zip':'non_loyalty_sales_46',\n",
    "                                                                 'loyal_sales_zip':'loyal_sales_46','total_sales_zip':'total_sales_46'})\n",
    "non_loyalty_sales_by_zip['Loyalty_Ratio']=non_loyalty_sales_by_zip['loyal_sales_46']/non_loyalty_sales_by_zip['total_sales_46']\n",
    "#Exclude zips which loyalty sales >0.65 and <0 and all sales <0\n",
    "non_loyalty_sales_by_zip_exclude=non_loyalty_sales_by_zip[(non_loyalty_sales_by_zip['non_loyalty_sales_46']<0) |\\\n",
    "                                                         (non_loyalty_sales_by_zip['loyal_sales_46']<0) |\\\n",
    "                                                         (non_loyalty_sales_by_zip['total_sales_46']<0) |\\\n",
    "                                                         (non_loyalty_sales_by_zip['Loyalty_Ratio']<0) |\\\n",
    "                                                         (non_loyalty_sales_by_zip['Loyalty_Ratio']>0.65)]\n",
    "non_loyalty_sales_by_zip_include=non_loyalty_sales_by_zip[(non_loyalty_sales_by_zip['non_loyalty_sales_46']>=0) &\\\n",
    "                                                         (non_loyalty_sales_by_zip['loyal_sales_46']>=0) &\\\n",
    "                                                         (non_loyalty_sales_by_zip['total_sales_46']>=0) &\\\n",
    "                                                         (non_loyalty_sales_by_zip['Loyalty_Ratio']>=0) &\\\n",
    "                                                         (non_loyalty_sales_by_zip['Loyalty_Ratio']<=0.65)]\n",
    "zip_circ_analysis=pd.merge(zip_circ_analysis,non_loyalty_sales_by_zip_include,on='zip_cd',how=\"left\")\n",
    "\n",
    "\n"
   ]
  },
  {
   "cell_type": "code",
   "execution_count": 24,
   "metadata": {
    "collapsed": true
   },
   "outputs": [],
   "source": [
    "date_columns=[x for x in zip_circ_analysis.columns.tolist() if \"-\" in x]\n",
    "\n",
    "iv_columns=[\"zip_cd\",\"City\",\"ST\",\"DMA\",\"location_id\",\"Store_1\",\"Store_2\",\"closest_dist\",\"closest_store\",\n",
    "            \"selected_TA\",\"trade_area_code\",\"revenue_flag\",\n",
    "            \"HH15\",\"total_pop\",\"F_25to54\",\"loyalty_mem_count\",\"loyalty_mem_penetration_F25_54\",\n",
    "            \"prospect_count\",\"prospect_penetration_F25_54\",\"total_circ\",\"Event_Count\",\"Circ per Event\",\"cost\",\"Circ Penetration of F25_54\",\n",
    "           \"Total cost per loyalty_mem\",\"Circ per event_to_Loyalty mem\",\"2017_compariable_sales\",\"2018_compariable_sales\",\"YoY\",\"store_list\",\"loyalty_sales_by_zip\",\n",
    "            \"loyalty_transactions_by_zip\",'non_loyalty_sales_46','loyal_sales_46','total_sales_46',\n",
    "            \"loyalty_label\",\"circ_label\",\"loyalty_pen_to_F25_54_label\",\"prospects_pen_to_F25_54_label\"]\n",
    "\n",
    "zip_circ_analysis=zip_circ_analysis[iv_columns+date_columns]\n",
    "\n",
    "writer=pd.ExcelWriter(folder+\"zip_level_data_revised_\"+today_str+\".xlsx\",engine='xlsxwriter')\n",
    "zip_circ_analysis.to_excel(writer,'zip_circ_analysis',index=False)\n",
    "non_loyalty_sales_by_zip.to_excel(writer,'46_weeks_sales_by_zip',index=False)\n",
    "writer.save()\n",
    "\n",
    "zip_circ_analysis.to_csv(folder+\"zip_level_data_revised_\"+today_str+\".csv\",index=False)\n",
    "\n",
    "zip_circ_analysis_orginal=zip_circ_analysis.copy()"
   ]
  },
  {
   "cell_type": "markdown",
   "metadata": {
    "collapsed": true
   },
   "source": [
    "# Matrix Old - 1"
   ]
  },
  {
   "cell_type": "code",
   "execution_count": 25,
   "metadata": {
    "collapsed": true
   },
   "outputs": [],
   "source": [
    "# Old use the matrix axis of totla Loyalty members and total Circ\n",
    "old_matrix_excel_writer=pd.ExcelWriter(folder+\"matrix_of_total_Loyalty_and_Circ_\"+today_str+\".xlsx\",engine=\"xlsxwriter\")\n",
    "def old_matrix_of_sum(df,col):\n",
    "    df_pivot=df[['circ_label','loyalty_label',col]].groupby(['loyalty_label','circ_label'])[col].sum().to_frame().reset_index()\n",
    "    result=df_pivot.pivot(index=\"loyalty_label\",columns=\"circ_label\",values=col).reset_index()\n",
    "    return result\n"
   ]
  },
  {
   "cell_type": "code",
   "execution_count": 26,
   "metadata": {
    "collapsed": true
   },
   "outputs": [],
   "source": [
    "matrix_of_zip_list=zip_circ_analysis[['zip_cd','loyalty_label','circ_label']].groupby(['loyalty_label','circ_label'])['zip_cd'].apply(list).to_frame().reset_index()\n",
    "matrix_of_zip_list.columns=matrix_of_zip_list.columns.tolist()[0:2]+[\"zip_cd_list\"]\n",
    "matrix_of_zip_list=matrix_of_zip_list.pivot(index=\"loyalty_label\",columns=\"circ_label\",values=\"zip_cd_list\").reset_index()\n",
    "matrix_of_zip_list.to_excel(old_matrix_excel_writer,\"zip_list\",index=False)\n",
    "\n",
    "matrix_of_totol_zip_count=matrix_of_zip_list.copy()\n",
    "for col in matrix_of_totol_zip_count.columns.tolist()[1:]:\n",
    "    matrix_of_totol_zip_count[col]=[len(x) for x in matrix_of_totol_zip_count[col]]\n",
    "matrix_of_totol_zip_count.to_excel(old_matrix_excel_writer,\"zip_count\",index=False)\n"
   ]
  },
  {
   "cell_type": "code",
   "execution_count": 27,
   "metadata": {
    "collapsed": true
   },
   "outputs": [],
   "source": [
    "matrix_of_total_pop=old_matrix_of_sum(zip_circ_analysis,\"total_pop\")\n",
    "matrix_of_total_female25_54=old_matrix_of_sum(zip_circ_analysis,\"F_25to54\")\n",
    "matrix_of_total_households=old_matrix_of_sum(zip_circ_analysis,\"HH15\")\n",
    "matrix_of_total_loyalty_mem=old_matrix_of_sum(zip_circ_analysis,\"loyalty_mem_count\")\n",
    "matrix_of_circ_per_event=old_matrix_of_sum(zip_circ_analysis,\"Circ per Event\")\n",
    "matrix_of_lotyalty_sales=old_matrix_of_sum(zip_circ_analysis,\"loyalty_sales_by_zip\")\n",
    "matrix_of_lotyalty_trans=old_matrix_of_sum(zip_circ_analysis,\"loyalty_transactions_by_zip\")\n",
    "matrix_of_lotyalty_cost=old_matrix_of_sum(zip_circ_analysis,\"cost\")\n",
    "matrix_of_Diff_Female25_54_to_loyalty_mem=old_matrix_of_sum(zip_circ_analysis,\"prospect_count\")\n"
   ]
  },
  {
   "cell_type": "code",
   "execution_count": 28,
   "metadata": {
    "collapsed": true
   },
   "outputs": [],
   "source": [
    "matrix_of_total_pop.to_excel(old_matrix_excel_writer,\"total_population\",index=False)\n",
    "matrix_of_total_female25_54.to_excel(old_matrix_excel_writer,\"female_25_54\",index=False)\n",
    "matrix_of_total_households.to_excel(old_matrix_excel_writer,\"total_households\",index=False)\n",
    "matrix_of_total_loyalty_mem.to_excel(old_matrix_excel_writer,\"loyalty_members\",index=False)\n",
    "matrix_of_circ_per_event.to_excel(old_matrix_excel_writer,\"circ_per_event\",index=False)\n",
    "matrix_of_lotyalty_sales.to_excel(old_matrix_excel_writer,\"loyalty_sales\",index=False)\n",
    "matrix_of_lotyalty_trans.to_excel(old_matrix_excel_writer,\"loyalty_transaction\",index=False)\n",
    "matrix_of_lotyalty_cost.to_excel(old_matrix_excel_writer,\"circ_cost\",index=False)\n",
    "matrix_of_Diff_Female25_54_to_loyalty_mem.to_excel(old_matrix_excel_writer,\"prospect_count\",index=False)"
   ]
  },
  {
   "cell_type": "code",
   "execution_count": 29,
   "metadata": {},
   "outputs": [
    {
     "name": "stderr",
     "output_type": "stream",
     "text": [
      "/usr/local/lib/python3.6/site-packages/ipykernel_launcher.py:12: SettingWithCopyWarning: \n",
      "A value is trying to be set on a copy of a slice from a DataFrame\n",
      "\n",
      "See the caveats in the documentation: http://pandas.pydata.org/pandas-docs/stable/indexing.html#indexing-view-versus-copy\n",
      "  if sys.path[0] == '':\n"
     ]
    }
   ],
   "source": [
    "matrix_of_store_sales_2017=old_matrix_of_sum(zip_circ_analysis,\"2017_compariable_sales\")\n",
    "matrix_of_store_sales_2018=old_matrix_of_sum(zip_circ_analysis,\"2018_compariable_sales\")\n",
    "matrix_of_store_sales_2017.to_excel(old_matrix_excel_writer,\"store_sales_2017\",index=False)\n",
    "matrix_of_store_sales_2018.to_excel(old_matrix_excel_writer,\"store_sales_2018\",index=False)\n",
    "\n",
    "\n",
    "matrix_of_store_sales_YoY=pd.DataFrame({\"Total_Circ_1\":[np.nan]*5,\"Total_Circ_2\":[np.nan]*5,\"Total_Circ_3\":[np.nan]*5,\n",
    "                                       \"Total_Circ_4\":[np.nan]*5,\"Total_Circ_5\":[np.nan]*5},index=matrix_of_store_sales_2018['loyalty_label']).reset_index()\n",
    "\n",
    "for i in range(5):\n",
    "    for col in matrix_of_store_sales_2018.columns.tolist()[1:]:\n",
    "        matrix_of_store_sales_YoY[col][i]=(matrix_of_store_sales_2018[col][i]-matrix_of_store_sales_2017[col][i])/matrix_of_store_sales_2017[col][i]\n",
    "matrix_of_store_sales_YoY.to_excel(old_matrix_excel_writer,\"store_sales_YoY\",index=False)"
   ]
  },
  {
   "cell_type": "code",
   "execution_count": 30,
   "metadata": {},
   "outputs": [
    {
     "name": "stderr",
     "output_type": "stream",
     "text": [
      "/usr/local/lib/python3.6/site-packages/ipykernel_launcher.py:7: SettingWithCopyWarning: \n",
      "A value is trying to be set on a copy of a slice from a DataFrame\n",
      "\n",
      "See the caveats in the documentation: http://pandas.pydata.org/pandas-docs/stable/indexing.html#indexing-view-versus-copy\n",
      "  import sys\n"
     ]
    }
   ],
   "source": [
    "# Ratio of Circ per Event/Loyalty Members\n",
    "matrix_of_Ratio=pd.DataFrame({\"Total_Circ_1\":[np.nan]*5,\"Total_Circ_2\":[np.nan]*5,\"Total_Circ_3\":[np.nan]*5,\n",
    "                                       \"Total_Circ_4\":[np.nan]*5,\"Total_Circ_5\":[np.nan]*5},index=matrix_of_store_sales_2018['loyalty_label']).reset_index()\n",
    "\n",
    "for i in range(5):\n",
    "    for col in matrix_of_total_loyalty_mem.columns.tolist()[1:]:\n",
    "        matrix_of_Ratio[col][i]=matrix_of_circ_per_event[col][i]/matrix_of_total_loyalty_mem[col][i]\n",
    "matrix_of_Ratio.to_excel(old_matrix_excel_writer,\"AvgRatio_CircPerEv_to_Loyalty\",index=False)"
   ]
  },
  {
   "cell_type": "code",
   "execution_count": 31,
   "metadata": {
    "collapsed": true
   },
   "outputs": [],
   "source": [
    "old_matrix_excel_writer.save()"
   ]
  },
  {
   "cell_type": "code",
   "execution_count": 32,
   "metadata": {
    "collapsed": true
   },
   "outputs": [],
   "source": [
    "Cell25_old=zip_circ_analysis[(zip_circ_analysis['loyalty_label']== \"Loyalty_5\") & (zip_circ_analysis['circ_label']== \"Total_Circ_5\")]\n",
    "Cell25_old.to_csv(folder+\"Cell_25 for matrix with highest loyalty members and total circulations\"+today_str+\".csv\",index=False)"
   ]
  },
  {
   "cell_type": "markdown",
   "metadata": {},
   "source": [
    "# Matrix New - 2"
   ]
  },
  {
   "cell_type": "code",
   "execution_count": 33,
   "metadata": {
    "collapsed": true
   },
   "outputs": [],
   "source": [
    "# Old use the matrix axis of loyalty_pen_to_F25_54_label and total Circ\n",
    "# remove 154 rows with no Female 25 to 54 value\n",
    "zip_circ_analysis_removed=zip_circ_analysis[zip_circ_analysis['F_25to54']==0]\n",
    "zip_circ_analysis=zip_circ_analysis[zip_circ_analysis['F_25to54']!=0]\n",
    "\n"
   ]
  },
  {
   "cell_type": "code",
   "execution_count": 34,
   "metadata": {
    "collapsed": true
   },
   "outputs": [],
   "source": [
    "new_matrix_excel_writer=pd.ExcelWriter(folder+\"matrix_of_loyalty_Penetration_and_total_Circ_\"+today_str+\".xlsx\",engine=\"xlsxwriter\")\n",
    "\n",
    "zip_circ_analysis_removed.to_excel(new_matrix_excel_writer,\"removed\",index=False)\n",
    "def new_matrix_of_sum(df,col):\n",
    "    df_pivot=df[['circ_label','loyalty_pen_to_F25_54_label',col]].groupby(['loyalty_pen_to_F25_54_label','circ_label'])[col].sum().to_frame().reset_index()\n",
    "    result=df_pivot.pivot(index=\"loyalty_pen_to_F25_54_label\",columns=\"circ_label\",values=col).reset_index()\n",
    "    return result"
   ]
  },
  {
   "cell_type": "code",
   "execution_count": 35,
   "metadata": {
    "collapsed": true
   },
   "outputs": [],
   "source": [
    "matrix_of_zip_list=zip_circ_analysis[['zip_cd','loyalty_pen_to_F25_54_label','circ_label']].groupby(['loyalty_pen_to_F25_54_label','circ_label'])['zip_cd'].apply(list).to_frame().reset_index()\n",
    "matrix_of_zip_list.columns=matrix_of_zip_list.columns.tolist()[0:2]+[\"zip_cd_list\"]\n",
    "matrix_of_zip_list=matrix_of_zip_list.pivot(index=\"loyalty_pen_to_F25_54_label\",columns=\"circ_label\",values=\"zip_cd_list\").reset_index()\n",
    "matrix_of_zip_list.to_excel(new_matrix_excel_writer,\"zip_list\",index=False)\n",
    "\n",
    "matrix_of_totol_zip_count=matrix_of_zip_list.copy()\n",
    "for col in matrix_of_totol_zip_count.columns.tolist()[1:]:\n",
    "    matrix_of_totol_zip_count[col]=[len(x) for x in matrix_of_totol_zip_count[col]]\n",
    "matrix_of_totol_zip_count.to_excel(new_matrix_excel_writer,\"zip_count\",index=False)\n"
   ]
  },
  {
   "cell_type": "code",
   "execution_count": 36,
   "metadata": {
    "collapsed": true
   },
   "outputs": [],
   "source": [
    "matrix_of_total_pop=new_matrix_of_sum(zip_circ_analysis,\"total_pop\")\n",
    "matrix_of_total_female25_54=new_matrix_of_sum(zip_circ_analysis,\"F_25to54\")\n",
    "matrix_of_total_households=new_matrix_of_sum(zip_circ_analysis,\"HH15\")\n",
    "matrix_of_total_loyalty_mem=new_matrix_of_sum(zip_circ_analysis,\"loyalty_mem_count\")\n",
    "matrix_of_circ_per_event=new_matrix_of_sum(zip_circ_analysis,\"Circ per Event\")\n",
    "matrix_of_lotyalty_sales=new_matrix_of_sum(zip_circ_analysis,\"loyalty_sales_by_zip\")\n",
    "matrix_of_lotyalty_trans=new_matrix_of_sum(zip_circ_analysis,\"loyalty_transactions_by_zip\")\n",
    "matrix_of_lotyalty_cost=new_matrix_of_sum(zip_circ_analysis,\"cost\")\n",
    "matrix_of_Diff_Female25_54_to_loyalty_mem=new_matrix_of_sum(zip_circ_analysis,\"prospect_count\")\n"
   ]
  },
  {
   "cell_type": "code",
   "execution_count": 37,
   "metadata": {
    "collapsed": true
   },
   "outputs": [],
   "source": [
    "matrix_of_total_pop.to_excel(new_matrix_excel_writer,\"total_population\",index=False)\n",
    "matrix_of_total_female25_54.to_excel(new_matrix_excel_writer,\"female_25_54\",index=False)\n",
    "matrix_of_total_households.to_excel(new_matrix_excel_writer,\"total_households\",index=False)\n",
    "matrix_of_total_loyalty_mem.to_excel(new_matrix_excel_writer,\"loyalty_members\",index=False)\n",
    "matrix_of_circ_per_event.to_excel(new_matrix_excel_writer,\"circ_per_event\",index=False)\n",
    "matrix_of_lotyalty_sales.to_excel(new_matrix_excel_writer,\"loyalty_sales\",index=False)\n",
    "matrix_of_lotyalty_trans.to_excel(new_matrix_excel_writer,\"loyalty_transaction\",index=False)\n",
    "matrix_of_lotyalty_cost.to_excel(new_matrix_excel_writer,\"circ_cost\",index=False)\n",
    "matrix_of_Diff_Female25_54_to_loyalty_mem.to_excel(old_matrix_excel_writer,\"prospect_count\",index=False)"
   ]
  },
  {
   "cell_type": "code",
   "execution_count": 38,
   "metadata": {},
   "outputs": [
    {
     "name": "stderr",
     "output_type": "stream",
     "text": [
      "/usr/local/lib/python3.6/site-packages/ipykernel_launcher.py:12: SettingWithCopyWarning: \n",
      "A value is trying to be set on a copy of a slice from a DataFrame\n",
      "\n",
      "See the caveats in the documentation: http://pandas.pydata.org/pandas-docs/stable/indexing.html#indexing-view-versus-copy\n",
      "  if sys.path[0] == '':\n"
     ]
    }
   ],
   "source": [
    "matrix_of_store_sales_2017=new_matrix_of_sum(zip_circ_analysis,\"2017_compariable_sales\")\n",
    "matrix_of_store_sales_2018=new_matrix_of_sum(zip_circ_analysis,\"2018_compariable_sales\")\n",
    "matrix_of_store_sales_2017.to_excel(new_matrix_excel_writer,\"store_sales_2017\",index=False)\n",
    "matrix_of_store_sales_2018.to_excel(new_matrix_excel_writer,\"store_sales_2018\",index=False)\n",
    "\n",
    "\n",
    "matrix_of_store_sales_YoY=pd.DataFrame({\"Total_Circ_1\":[np.nan]*5,\"Total_Circ_2\":[np.nan]*5,\"Total_Circ_3\":[np.nan]*5,\n",
    "                                       \"Total_Circ_4\":[np.nan]*5,\"Total_Circ_5\":[np.nan]*5},index=matrix_of_store_sales_2018['loyalty_pen_to_F25_54_label']).reset_index()\n",
    "\n",
    "for i in range(5):\n",
    "    for col in matrix_of_store_sales_2018.columns.tolist()[1:]:\n",
    "        matrix_of_store_sales_YoY[col][i]=(matrix_of_store_sales_2018[col][i]-matrix_of_store_sales_2017[col][i])/matrix_of_store_sales_2017[col][i]\n",
    "matrix_of_store_sales_YoY.to_excel(new_matrix_excel_writer,\"store_sales_YoY\",index=False)"
   ]
  },
  {
   "cell_type": "code",
   "execution_count": 39,
   "metadata": {},
   "outputs": [
    {
     "data": {
      "text/html": [
       "<div>\n",
       "<style>\n",
       "    .dataframe thead tr:only-child th {\n",
       "        text-align: right;\n",
       "    }\n",
       "\n",
       "    .dataframe thead th {\n",
       "        text-align: left;\n",
       "    }\n",
       "\n",
       "    .dataframe tbody tr th {\n",
       "        vertical-align: top;\n",
       "    }\n",
       "</style>\n",
       "<table border=\"1\" class=\"dataframe\">\n",
       "  <thead>\n",
       "    <tr style=\"text-align: right;\">\n",
       "      <th>circ_label</th>\n",
       "      <th>loyalty_pen_to_F25_54_label</th>\n",
       "      <th>Total_Circ_1</th>\n",
       "      <th>Total_Circ_2</th>\n",
       "      <th>Total_Circ_3</th>\n",
       "      <th>Total_Circ_4</th>\n",
       "      <th>Total_Circ_5</th>\n",
       "    </tr>\n",
       "  </thead>\n",
       "  <tbody>\n",
       "    <tr>\n",
       "      <th>0</th>\n",
       "      <td>loyalty_penetration_1</td>\n",
       "      <td>129773.900337</td>\n",
       "      <td>343034.398314</td>\n",
       "      <td>634943.741508</td>\n",
       "      <td>672755.583847</td>\n",
       "      <td>8.423903e+05</td>\n",
       "    </tr>\n",
       "    <tr>\n",
       "      <th>1</th>\n",
       "      <td>loyalty_penetration_2</td>\n",
       "      <td>85008.083762</td>\n",
       "      <td>243270.984535</td>\n",
       "      <td>438422.083386</td>\n",
       "      <td>759586.782550</td>\n",
       "      <td>1.933164e+06</td>\n",
       "    </tr>\n",
       "  </tbody>\n",
       "</table>\n",
       "</div>"
      ],
      "text/plain": [
       "circ_label loyalty_pen_to_F25_54_label   Total_Circ_1   Total_Circ_2  \\\n",
       "0                loyalty_penetration_1  129773.900337  343034.398314   \n",
       "1                loyalty_penetration_2   85008.083762  243270.984535   \n",
       "\n",
       "circ_label   Total_Circ_3   Total_Circ_4  Total_Circ_5  \n",
       "0           634943.741508  672755.583847  8.423903e+05  \n",
       "1           438422.083386  759586.782550  1.933164e+06  "
      ]
     },
     "execution_count": 39,
     "metadata": {},
     "output_type": "execute_result"
    }
   ],
   "source": [
    "matrix_of_circ_per_event.head(2)"
   ]
  },
  {
   "cell_type": "code",
   "execution_count": 40,
   "metadata": {},
   "outputs": [
    {
     "data": {
      "text/html": [
       "<div>\n",
       "<style>\n",
       "    .dataframe thead tr:only-child th {\n",
       "        text-align: right;\n",
       "    }\n",
       "\n",
       "    .dataframe thead th {\n",
       "        text-align: left;\n",
       "    }\n",
       "\n",
       "    .dataframe tbody tr th {\n",
       "        vertical-align: top;\n",
       "    }\n",
       "</style>\n",
       "<table border=\"1\" class=\"dataframe\">\n",
       "  <thead>\n",
       "    <tr style=\"text-align: right;\">\n",
       "      <th>circ_label</th>\n",
       "      <th>loyalty_pen_to_F25_54_label</th>\n",
       "      <th>Total_Circ_1</th>\n",
       "      <th>Total_Circ_2</th>\n",
       "      <th>Total_Circ_3</th>\n",
       "      <th>Total_Circ_4</th>\n",
       "      <th>Total_Circ_5</th>\n",
       "    </tr>\n",
       "  </thead>\n",
       "  <tbody>\n",
       "    <tr>\n",
       "      <th>0</th>\n",
       "      <td>loyalty_penetration_1</td>\n",
       "      <td>99022</td>\n",
       "      <td>161582</td>\n",
       "      <td>208027</td>\n",
       "      <td>292496</td>\n",
       "      <td>288937</td>\n",
       "    </tr>\n",
       "    <tr>\n",
       "      <th>1</th>\n",
       "      <td>loyalty_penetration_2</td>\n",
       "      <td>106883</td>\n",
       "      <td>190272</td>\n",
       "      <td>267784</td>\n",
       "      <td>712012</td>\n",
       "      <td>1082886</td>\n",
       "    </tr>\n",
       "  </tbody>\n",
       "</table>\n",
       "</div>"
      ],
      "text/plain": [
       "circ_label loyalty_pen_to_F25_54_label  Total_Circ_1  Total_Circ_2  \\\n",
       "0                loyalty_penetration_1         99022        161582   \n",
       "1                loyalty_penetration_2        106883        190272   \n",
       "\n",
       "circ_label  Total_Circ_3  Total_Circ_4  Total_Circ_5  \n",
       "0                 208027        292496        288937  \n",
       "1                 267784        712012       1082886  "
      ]
     },
     "execution_count": 40,
     "metadata": {},
     "output_type": "execute_result"
    }
   ],
   "source": [
    "matrix_of_total_loyalty_mem.head(2)"
   ]
  },
  {
   "cell_type": "code",
   "execution_count": 41,
   "metadata": {},
   "outputs": [
    {
     "name": "stderr",
     "output_type": "stream",
     "text": [
      "/usr/local/lib/python3.6/site-packages/ipykernel_launcher.py:7: SettingWithCopyWarning: \n",
      "A value is trying to be set on a copy of a slice from a DataFrame\n",
      "\n",
      "See the caveats in the documentation: http://pandas.pydata.org/pandas-docs/stable/indexing.html#indexing-view-versus-copy\n",
      "  import sys\n"
     ]
    }
   ],
   "source": [
    "# Ratio of Circ per Event/Loyalty Members\n",
    "matrix_of_Ratio=pd.DataFrame({\"Total_Circ_1\":[np.nan]*5,\"Total_Circ_2\":[np.nan]*5,\"Total_Circ_3\":[np.nan]*5,\n",
    "                                       \"Total_Circ_4\":[np.nan]*5,\"Total_Circ_5\":[np.nan]*5},index=matrix_of_store_sales_2018['loyalty_pen_to_F25_54_label']).reset_index()\n",
    "\n",
    "for i in range(5):\n",
    "    for col in matrix_of_total_loyalty_mem.columns.tolist()[1:]:\n",
    "        matrix_of_Ratio[col][i]=matrix_of_circ_per_event[col][i]/matrix_of_total_loyalty_mem[col][i]\n",
    "matrix_of_Ratio.to_excel(new_matrix_excel_writer,\"AvgRatio_CircPerEv_to_Loyalty\",index=False)"
   ]
  },
  {
   "cell_type": "code",
   "execution_count": 42,
   "metadata": {
    "collapsed": true
   },
   "outputs": [],
   "source": [
    "new_matrix_excel_writer.save()"
   ]
  },
  {
   "cell_type": "code",
   "execution_count": 43,
   "metadata": {
    "collapsed": true
   },
   "outputs": [],
   "source": [
    "Cell25_new=zip_circ_analysis[(zip_circ_analysis['loyalty_pen_to_F25_54_label']== \"loyalty_penetration_5\") & (zip_circ_analysis['circ_label']== \"Total_Circ_5\")]\n",
    "Cell25_new.to_csv(folder+\"Cell_25 for matrix with highest loyalty penetration and total circulations\"+today_str+\".csv\",index=False)"
   ]
  },
  {
   "cell_type": "code",
   "execution_count": null,
   "metadata": {
    "collapsed": true
   },
   "outputs": [],
   "source": []
  },
  {
   "cell_type": "markdown",
   "metadata": {
    "collapsed": true
   },
   "source": [
    "# Matrix New - 3"
   ]
  },
  {
   "cell_type": "code",
   "execution_count": 44,
   "metadata": {
    "collapsed": true
   },
   "outputs": [],
   "source": [
    "# Old use the matrix axis of loyalty_pen_to_F25_54_label and total Circ\n",
    "# remove 154 rows with no Female 25 to 54 value\n",
    "zip_circ_analysis_removed=zip_circ_analysis_orginal[zip_circ_analysis_orginal['F_25to54']==0]\n",
    "zip_circ_analysis=zip_circ_analysis_orginal[zip_circ_analysis_orginal['F_25to54']!=0]\n",
    "\n"
   ]
  },
  {
   "cell_type": "code",
   "execution_count": 45,
   "metadata": {
    "collapsed": true
   },
   "outputs": [],
   "source": [
    "new_matrix_excel_writer=pd.ExcelWriter(folder+\"matrix_of_prospects_Penetration_and_total_Circ_\"+today_str+\".xlsx\",engine=\"xlsxwriter\")\n",
    "\n",
    "zip_circ_analysis_removed.to_excel(new_matrix_excel_writer,\"removed\",index=False)\n",
    "def new_matrix_of_sum(df,col):\n",
    "    df_pivot=df[['circ_label','prospects_pen_to_F25_54_label',col]].groupby(['prospects_pen_to_F25_54_label','circ_label'])[col].sum().to_frame().reset_index()\n",
    "    result=df_pivot.pivot(index=\"prospects_pen_to_F25_54_label\",columns=\"circ_label\",values=col).reset_index()\n",
    "    return result"
   ]
  },
  {
   "cell_type": "code",
   "execution_count": 46,
   "metadata": {
    "collapsed": true
   },
   "outputs": [],
   "source": [
    "matrix_of_zip_list=zip_circ_analysis[['zip_cd','prospects_pen_to_F25_54_label','circ_label']].groupby(['prospects_pen_to_F25_54_label','circ_label'])['zip_cd'].apply(list).to_frame().reset_index()\n",
    "matrix_of_zip_list.columns=matrix_of_zip_list.columns.tolist()[0:2]+[\"zip_cd_list\"]\n",
    "matrix_of_zip_list=matrix_of_zip_list.pivot(index=\"prospects_pen_to_F25_54_label\",columns=\"circ_label\",values=\"zip_cd_list\").reset_index()\n",
    "matrix_of_zip_list.to_excel(new_matrix_excel_writer,\"zip_list\",index=False)\n",
    "\n",
    "matrix_of_totol_zip_count=matrix_of_zip_list.copy()\n",
    "for col in matrix_of_totol_zip_count.columns.tolist()[1:]:\n",
    "    matrix_of_totol_zip_count[col]=[len(x) for x in matrix_of_totol_zip_count[col]]\n",
    "matrix_of_totol_zip_count.to_excel(new_matrix_excel_writer,\"zip_count\",index=False)\n"
   ]
  },
  {
   "cell_type": "code",
   "execution_count": 47,
   "metadata": {
    "collapsed": true
   },
   "outputs": [],
   "source": [
    "matrix_of_total_pop=new_matrix_of_sum(zip_circ_analysis,\"total_pop\")\n",
    "matrix_of_total_female25_54=new_matrix_of_sum(zip_circ_analysis,\"F_25to54\")\n",
    "matrix_of_total_households=new_matrix_of_sum(zip_circ_analysis,\"HH15\")\n",
    "matrix_of_total_loyalty_mem=new_matrix_of_sum(zip_circ_analysis,\"loyalty_mem_count\")\n",
    "matrix_of_circ_per_event=new_matrix_of_sum(zip_circ_analysis,\"Circ per Event\")\n",
    "matrix_of_lotyalty_sales=new_matrix_of_sum(zip_circ_analysis,\"loyalty_sales_by_zip\")\n",
    "matrix_of_lotyalty_trans=new_matrix_of_sum(zip_circ_analysis,\"loyalty_transactions_by_zip\")\n",
    "matrix_of_lotyalty_cost=new_matrix_of_sum(zip_circ_analysis,\"cost\")\n",
    "matrix_of_Diff_Female25_54_to_loyalty_mem=new_matrix_of_sum(zip_circ_analysis,\"prospect_count\")\n"
   ]
  },
  {
   "cell_type": "code",
   "execution_count": 48,
   "metadata": {
    "collapsed": true
   },
   "outputs": [],
   "source": [
    "matrix_of_total_pop.to_excel(new_matrix_excel_writer,\"total_population\",index=False)\n",
    "matrix_of_total_female25_54.to_excel(new_matrix_excel_writer,\"female_25_54\",index=False)\n",
    "matrix_of_total_households.to_excel(new_matrix_excel_writer,\"total_households\",index=False)\n",
    "matrix_of_total_loyalty_mem.to_excel(new_matrix_excel_writer,\"loyalty_members\",index=False)\n",
    "matrix_of_circ_per_event.to_excel(new_matrix_excel_writer,\"circ_per_event\",index=False)\n",
    "matrix_of_lotyalty_sales.to_excel(new_matrix_excel_writer,\"loyalty_sales\",index=False)\n",
    "matrix_of_lotyalty_trans.to_excel(new_matrix_excel_writer,\"loyalty_transaction\",index=False)\n",
    "matrix_of_lotyalty_cost.to_excel(new_matrix_excel_writer,\"circ_cost\",index=False)\n",
    "matrix_of_Diff_Female25_54_to_loyalty_mem.to_excel(old_matrix_excel_writer,\"prospect_count\",index=False)"
   ]
  },
  {
   "cell_type": "code",
   "execution_count": 49,
   "metadata": {},
   "outputs": [
    {
     "name": "stderr",
     "output_type": "stream",
     "text": [
      "/usr/local/lib/python3.6/site-packages/ipykernel_launcher.py:12: SettingWithCopyWarning: \n",
      "A value is trying to be set on a copy of a slice from a DataFrame\n",
      "\n",
      "See the caveats in the documentation: http://pandas.pydata.org/pandas-docs/stable/indexing.html#indexing-view-versus-copy\n",
      "  if sys.path[0] == '':\n"
     ]
    }
   ],
   "source": [
    "matrix_of_store_sales_2017=new_matrix_of_sum(zip_circ_analysis,\"2017_compariable_sales\")\n",
    "matrix_of_store_sales_2018=new_matrix_of_sum(zip_circ_analysis,\"2018_compariable_sales\")\n",
    "matrix_of_store_sales_2017.to_excel(new_matrix_excel_writer,\"store_sales_2017\",index=False)\n",
    "matrix_of_store_sales_2018.to_excel(new_matrix_excel_writer,\"store_sales_2018\",index=False)\n",
    "\n",
    "\n",
    "matrix_of_store_sales_YoY=pd.DataFrame({\"Total_Circ_1\":[np.nan]*5,\"Total_Circ_2\":[np.nan]*5,\"Total_Circ_3\":[np.nan]*5,\n",
    "                                       \"Total_Circ_4\":[np.nan]*5,\"Total_Circ_5\":[np.nan]*5},index=matrix_of_store_sales_2018['prospects_pen_to_F25_54_label']).reset_index()\n",
    "\n",
    "for i in range(5):\n",
    "    for col in matrix_of_store_sales_2018.columns.tolist()[1:]:\n",
    "        matrix_of_store_sales_YoY[col][i]=(matrix_of_store_sales_2018[col][i]-matrix_of_store_sales_2017[col][i])/matrix_of_store_sales_2017[col][i]\n",
    "matrix_of_store_sales_YoY.to_excel(new_matrix_excel_writer,\"store_sales_YoY\",index=False)"
   ]
  },
  {
   "cell_type": "code",
   "execution_count": 50,
   "metadata": {},
   "outputs": [
    {
     "name": "stderr",
     "output_type": "stream",
     "text": [
      "/usr/local/lib/python3.6/site-packages/ipykernel_launcher.py:7: SettingWithCopyWarning: \n",
      "A value is trying to be set on a copy of a slice from a DataFrame\n",
      "\n",
      "See the caveats in the documentation: http://pandas.pydata.org/pandas-docs/stable/indexing.html#indexing-view-versus-copy\n",
      "  import sys\n"
     ]
    }
   ],
   "source": [
    "# Ratio of Circ per Event/Loyalty Members\n",
    "matrix_of_Ratio=pd.DataFrame({\"Total_Circ_1\":[np.nan]*5,\"Total_Circ_2\":[np.nan]*5,\"Total_Circ_3\":[np.nan]*5,\n",
    "                                       \"Total_Circ_4\":[np.nan]*5,\"Total_Circ_5\":[np.nan]*5},index=matrix_of_store_sales_2018['prospects_pen_to_F25_54_label']).reset_index()\n",
    "\n",
    "for i in range(5):\n",
    "    for col in matrix_of_total_loyalty_mem.columns.tolist()[1:]:\n",
    "        matrix_of_Ratio[col][i]=matrix_of_circ_per_event[col][i]/matrix_of_total_loyalty_mem[col][i]\n",
    "matrix_of_Ratio.to_excel(new_matrix_excel_writer,\"AvgRatio_CircPerEv_to_Loyalty\",index=False)"
   ]
  },
  {
   "cell_type": "code",
   "execution_count": 51,
   "metadata": {
    "collapsed": true
   },
   "outputs": [],
   "source": [
    "new_matrix_excel_writer.save()"
   ]
  },
  {
   "cell_type": "code",
   "execution_count": 52,
   "metadata": {
    "collapsed": true
   },
   "outputs": [],
   "source": [
    "Cell25_new=zip_circ_analysis[(zip_circ_analysis['loyalty_pen_to_F25_54_label']== \"prospects_penetration_5\") & (zip_circ_analysis['circ_label']== \"Total_Circ_5\")]\n",
    "Cell25_new.to_csv(folder+\"Cell_25 for matrix with highest prospects penetration and total circulations\"+today_str+\".csv\",index=False)\n"
   ]
  },
  {
   "cell_type": "code",
   "execution_count": null,
   "metadata": {
    "collapsed": true
   },
   "outputs": [],
   "source": []
  },
  {
   "cell_type": "markdown",
   "metadata": {
    "collapsed": true
   },
   "source": [
    "# By Zone as variables in cloumn"
   ]
  },
  {
   "cell_type": "code",
   "execution_count": 97,
   "metadata": {
    "collapsed": true
   },
   "outputs": [],
   "source": [
    "zip_circ_analysis_orginal_del_loyalty=zip_circ_analysis_orginal.copy()\n",
    "del zip_circ_analysis_orginal_del_loyalty['non_loyalty_sales_46']\n",
    "del zip_circ_analysis_orginal_del_loyalty['loyal_sales_46']\n",
    "del zip_circ_analysis_orginal_del_loyalty['total_sales_46']\n",
    "del zip_circ_analysis_orginal_del_loyalty['revenue_flag']\n",
    "del zip_circ_analysis_orginal_del_loyalty['trade_area_code']\n",
    "del zip_circ_analysis_orginal_del_loyalty['selected_TA']"
   ]
  },
  {
   "cell_type": "code",
   "execution_count": 98,
   "metadata": {
    "collapsed": true
   },
   "outputs": [],
   "source": [
    "df_TA=pd.read_excel(\"/home/jian/Projects/Big_Lots/New_TA/zips_in_new_ta/BL_Zips in new TA (TA level)_JL_20180330.xlsx\",dtype=str)\n",
    "df_TA=df_TA[['zip_cd','revenue_flag','trade_area_code']].drop_duplicates()\n",
    "non_loyalty_sales_by_zip_include_TA=pd.merge(non_loyalty_sales_by_zip_include,df_TA,on=\"zip_cd\",how=\"outer\")\n",
    "non_loyalty_sales_by_zip_include_TA=pd.merge(non_loyalty_sales_by_zip_include_TA,zip_circ_analysis_orginal_del_loyalty,on=\"zip_cd\",how=\"outer\")\n",
    "non_loyalty_sales_by_zip_include_TA=non_loyalty_sales_by_zip_include_TA.sort_values(['revenue_flag','trade_area_code'])\n",
    "\n",
    "\n",
    "non_loyalty_sales_by_zip_include_TA.to_csv(folder+\"data_by_zip_for_zone_selections\"+today_str+\".csv\",index=False)"
   ]
  },
  {
   "cell_type": "code",
   "execution_count": 99,
   "metadata": {
    "collapsed": true
   },
   "outputs": [],
   "source": [
    "output_by_zip_whole_year=non_loyalty_sales_by_zip_include_TA[['zip_cd','trade_area_code','revenue_flag','Store_1','Store_2',\n",
    "                                                             'non_loyalty_sales_46','loyal_sales_46','total_sales_46','Loyalty_Ratio',\n",
    "                                                             'F_25to54','Circ per Event','Event_Count','total_circ','cost']]\n"
   ]
  },
  {
   "cell_type": "code",
   "execution_count": 100,
   "metadata": {
    "collapsed": true
   },
   "outputs": [],
   "source": [
    "Recent_Rec_with_Zone_1=pd.read_excel(\"/home/jian/Projects/Big_Lots/Newspaper/2018/April 29 2018 4 STD.xlsx\",sheetname=\"April 29 2018 4 STD\",dtype=str,na_values=['NULL','null','Null',\"\",\" \"])\n",
    "Recent_Rec_with_Zone_2=pd.read_excel(\"/home/jian/Projects/Big_Lots/Newspaper/2018/April 22 2018 4 STD.xlsx\",sheetname=\"April 22 2018 4 STD\",dtype=str,na_values=['NULL','null','Null',\"\",\" \"])\n",
    "Recent_Rec_with_Zone_3=pd.read_excel(\"/home/jian/Projects/Big_Lots/Newspaper/2018/April 15 2018 4 STD.xlsx\",sheetname=\"April 15 2018 4 STD\",dtype=str,na_values=['NULL','null','Null',\"\",\" \"])\n",
    "Recent_Rec_with_Zone_4=pd.read_excel(\"/home/jian/Projects/Big_Lots/Newspaper/2018/April 8 2018 4 STD.xlsx\",sheetname=\"April 8 2018 4 STD\",dtype=str,na_values=['NULL','null','Null',\"\",\" \"])"
   ]
  },
  {
   "cell_type": "code",
   "execution_count": 101,
   "metadata": {
    "collapsed": true
   },
   "outputs": [],
   "source": [
    "import re\n",
    "def adjust_null(df):\n",
    "    df_result=pd.DataFrame()\n",
    "    df['zips']=df['zips'].fillna('null')\n",
    "    df['zips']=df['zips'].replace('nan','null')\n",
    "    df['totalcirc']=df['totalcirc'].astype(float)\n",
    "    \n",
    "    for productid in df['productid'].unique():\n",
    "        df_product_store=df[df['productid']==productid]\n",
    "        df_product_store_NA=df_product_store[df_product_store['zips']=='null']\n",
    "        df_product_store_NA.reset_index(inplace=True)\n",
    "        del df_product_store_NA['index']\n",
    "        df_product_store_zip=df_product_store[df_product_store['zips']!='null']\n",
    "        df_product_store_zip.reset_index(inplace=True)\n",
    "        del df_product_store_zip['index']        \n",
    "\n",
    "        if len(df_product_store_NA)==0:\n",
    "            df_product_store_zip=df_product_store.groupby(['storeid','productname','productid','zoneid','zonesetname','zips'])['totalcirc'].sum().to_frame()\n",
    "            df_product_store_zip['circ_proportion_of_Null']=0\n",
    "            df_product_store_zip['adjusted_circ_about_Null']=df_product_store_zip['totalcirc']\n",
    "            df_product_store_zip.reset_index(inplace=True)\n",
    "\n",
    "        elif len(df_product_store_zip)==0:              \n",
    "            df_product_store_NA['extract_from_zone 5 digit']=df_product_store_NA['zoneid'].apply(lambda x: re.findall(r\"\\b\\d{5}\\b\", x))\n",
    "            unique_len_from_zone=len(df_product_store_NA['extract_from_zone 5 digit'].apply(lambda x :len(x)).unique())\n",
    "            if unique_len_from_zone==0:\n",
    "                df_product_store_zip=df_product_store.groupby(['storeid','productname','productid','zoneid','zonesetname','zips'])['totalcirc'].sum().to_frame()\n",
    "                df_product_store_zip['circ_proportion_of_Null']=1\n",
    "                df_product_store_zip['adjusted_circ_about_Null']=df_product_store_zip['totalcirc']\n",
    "                df_product_store_zip.reset_index(inplace=True)\n",
    "            else:                                                                                                    \n",
    "                df_product_store['extract_from_zone 5 digit']=df_product_store['zoneid'].apply(lambda x: re.findall(r\"\\b\\d{5}\\b\", x))                                                                        \n",
    "                df_product_store['zips']=df_product_store['extract_from_zone 5 digit'].apply(lambda x: str(x)[1:(len(str(x))-1)].replace(\"'\",\"\"))\n",
    "                df_product_store_zip=df_product_store.groupby(['storeid','productname','productid','zoneid','zonesetname','zips'])['totalcirc'].sum().to_frame()\n",
    "                df_product_store_zip['circ_proportion_of_Null']=1\n",
    "                df_product_store_zip['adjusted_circ_about_Null']=df_product_store_zip['totalcirc']\n",
    "                df_product_store_zip.reset_index(inplace=True)\n",
    "\n",
    "        elif len(df_product_store_NA)>=1:\n",
    "            na_zip_circ=df_product_store_NA['totalcirc'].sum()\n",
    "            df_product_store_zip=df_product_store_zip.groupby(['storeid','productname','productid','zoneid','zonesetname','zips'])['totalcirc'].sum().to_frame()\n",
    "            df_product_store_zip.reset_index(inplace=True)\n",
    "            df_product_store_zip['circ_proportion_of_Null']=df_product_store_zip['totalcirc'].apply(lambda x:x/sum(df_product_store_zip['totalcirc']))\n",
    "            df_product_store_zip['adjusted_circ_about_Null']=df_product_store_zip['totalcirc']+df_product_store_zip['circ_proportion_of_Null']*na_zip_circ\n",
    "        \n",
    "        df_result=df_result.append(df_product_store_zip)\n",
    "    \n",
    "    return df_result"
   ]
  },
  {
   "cell_type": "code",
   "execution_count": 102,
   "metadata": {},
   "outputs": [
    {
     "name": "stderr",
     "output_type": "stream",
     "text": [
      "/usr/local/lib/python3.6/site-packages/ipykernel_launcher.py:32: SettingWithCopyWarning: \n",
      "A value is trying to be set on a copy of a slice from a DataFrame.\n",
      "Try using .loc[row_indexer,col_indexer] = value instead\n",
      "\n",
      "See the caveats in the documentation: http://pandas.pydata.org/pandas-docs/stable/indexing.html#indexing-view-versus-copy\n",
      "/usr/local/lib/python3.6/site-packages/ipykernel_launcher.py:33: SettingWithCopyWarning: \n",
      "A value is trying to be set on a copy of a slice from a DataFrame.\n",
      "Try using .loc[row_indexer,col_indexer] = value instead\n",
      "\n",
      "See the caveats in the documentation: http://pandas.pydata.org/pandas-docs/stable/indexing.html#indexing-view-versus-copy\n"
     ]
    }
   ],
   "source": [
    "Recent_Rec_with_Zone_1= adjust_null(Recent_Rec_with_Zone_1)\n",
    "Recent_Rec_with_Zone_2= adjust_null(Recent_Rec_with_Zone_2)\n",
    "Recent_Rec_with_Zone_3= adjust_null(Recent_Rec_with_Zone_3)\n",
    "Recent_Rec_with_Zone_4= adjust_null(Recent_Rec_with_Zone_4)"
   ]
  },
  {
   "cell_type": "code",
   "execution_count": 103,
   "metadata": {
    "collapsed": true
   },
   "outputs": [],
   "source": [
    "Recent_Rec_with_Zone=Recent_Rec_with_Zone_1.append(Recent_Rec_with_Zone_2).append(Recent_Rec_with_Zone_3).append(Recent_Rec_with_Zone_4)\n",
    "\n",
    "Recent_Rec_with_Zone=Recent_Rec_with_Zone[Recent_Rec_with_Zone['zips']!=\"nan\"]\n",
    "Recent_Rec_with_Zone['key']=Recent_Rec_with_Zone['productid'].apply(lambda x: \"p_\"+x)+\"|\"+Recent_Rec_with_Zone['zoneid'].apply(lambda x:\"z_\"+x)\n",
    "Recent_Rec_with_Zone['totalcirc']=Recent_Rec_with_Zone['totalcirc'].astype(float)\n",
    "\n",
    "Recent_Rec_with_Zone=Recent_Rec_with_Zone.groupby(['key','productname','productid','zoneid','zonesetname','zips'])['adjusted_circ_about_Null'].sum().to_frame().reset_index()\n",
    "Recent_Rec_with_Zone=Recent_Rec_with_Zone.sort_values('adjusted_circ_about_Null',ascending=False)"
   ]
  },
  {
   "cell_type": "code",
   "execution_count": 104,
   "metadata": {
    "collapsed": true
   },
   "outputs": [],
   "source": [
    "key_pro_zone_zips=pd.DataFrame()\n",
    "for key_product_zone,group in Recent_Rec_with_Zone.groupby(['key']):\n",
    "    \n",
    "    zip_list=group['zips'].unique().tolist()[0]\n",
    "    zip_list=zip_list.split(\",\")\n",
    "    zip_list=[x.replace(\" \",\"\").zfill(5) for x in zip_list]\n",
    "\n",
    "    df_app=pd.DataFrame({\"zip_cd\":zip_list,\"zone_key\":[key_product_zone]*len(zip_list)},index=range(len(zip_list)))\n",
    "    key_pro_zone_zips=key_pro_zone_zips.append(df_app)"
   ]
  },
  {
   "cell_type": "code",
   "execution_count": 105,
   "metadata": {
    "collapsed": true
   },
   "outputs": [],
   "source": [
    "zip_total_zone_count=key_pro_zone_zips.groupby(['zip_cd'])['zone_key'].count().to_frame().reset_index()\n",
    "zip_total_zone_count=zip_total_zone_count.rename(columns={\"zone_key\":\"news_zone_count\"})\n",
    "\n",
    "zip_total_zone_list=key_pro_zone_zips.groupby(['zip_cd'])['zone_key'].apply(list).to_frame().reset_index()\n",
    "zip_total_zone_list=zip_total_zone_list.rename(columns={\"zone_key\":\"news_zone_list\"})\n",
    "\n",
    "\n",
    "zone_total_zip_count=key_pro_zone_zips.groupby(['zone_key'])['zip_cd'].count().to_frame().reset_index()\n",
    "zone_total_zip_count=zone_total_zip_count.rename(columns={\"zip_cd\":\"zip_count\"})\n",
    "zone_total_zip_count=zone_total_zip_count[zone_total_zip_count['zip_count']==1]\n",
    "zone_with_1_zip_list=zone_total_zip_count['zone_key'].tolist()"
   ]
  },
  {
   "cell_type": "code",
   "execution_count": 106,
   "metadata": {
    "collapsed": true
   },
   "outputs": [],
   "source": [
    "output_by_zip_whole_year=pd.merge(output_by_zip_whole_year,zip_total_zone_count,on=\"zip_cd\",how=\"left\")\n",
    "output_by_zip_whole_year=pd.merge(output_by_zip_whole_year,zip_total_zone_list,on=\"zip_cd\",how=\"left\")\n",
    "output_by_zip_whole_year['news_zone_list'].fillna('no_zone',inplace = True)"
   ]
  },
  {
   "cell_type": "code",
   "execution_count": null,
   "metadata": {},
   "outputs": [],
   "source": []
  },
  {
   "cell_type": "code",
   "execution_count": 107,
   "metadata": {
    "collapsed": true
   },
   "outputs": [],
   "source": [
    "output_by_zip_whole_year['zone_with_1_zip_list']=np.nan\n",
    "output_by_zip_whole_year['zone_with_1_zip_count']=np.nan\n",
    "output_by_zip_whole_year=output_by_zip_whole_year.reset_index()\n",
    "del output_by_zip_whole_year['index']"
   ]
  },
  {
   "cell_type": "code",
   "execution_count": 110,
   "metadata": {},
   "outputs": [],
   "source": [
    "list_of_zone_with_1_zip_list=[np.nan]*len(output_by_zip_whole_year)\n",
    "list_of_zone_with_1_zip_count=[np.nan]*len(output_by_zip_whole_year)\n",
    "df_news_list=output_by_zip_whole_year[['zip_cd','news_zone_list']]\n",
    "for i in range(len(output_by_zip_whole_year)):\n",
    "    list_of_zone_with_1_zip_list[i]=list(set(df_news_list['news_zone_list'][i]).intersection(zone_with_1_zip_list))\n",
    "    list_of_zone_with_1_zip_count[i]=len(list_of_zone_with_1_zip_list[i])\n",
    "output_by_zip_whole_year['zone_with_1_zip_count']=list_of_zone_with_1_zip_count\n",
    "output_by_zip_whole_year['zone_with_1_zip_list']=list_of_zone_with_1_zip_list"
   ]
  },
  {
   "cell_type": "code",
   "execution_count": 115,
   "metadata": {},
   "outputs": [],
   "source": [
    "writer=pd.ExcelWriter(folder+\"BL_Circulation with by zip ta with zone inforamtion\"+today_str+\".xlsx\",engine=\"xlsxwriter\")\n",
    "output_by_zip_whole_year.to_excel(writer,\"past_1_year_data_April_zone\",index=False)\n",
    "zip_circ_analysis_orginal.to_excel(writer,\"data_by_zip\",index=False)\n",
    "Recent_Rec_with_Zone.to_excel(writer,\"zones_in_April_2018\",index=False)\n",
    "\n",
    "writer.save()"
   ]
  },
  {
   "cell_type": "code",
   "execution_count": null,
   "metadata": {
    "collapsed": true
   },
   "outputs": [],
   "source": []
  }
 ],
 "metadata": {
  "kernelspec": {
   "display_name": "Python 3",
   "language": "python",
   "name": "python3"
  },
  "language_info": {
   "codemirror_mode": {
    "name": "ipython",
    "version": 3
   },
   "file_extension": ".py",
   "mimetype": "text/x-python",
   "name": "python",
   "nbconvert_exporter": "python",
   "pygments_lexer": "ipython3",
   "version": "3.6.1"
  }
 },
 "nbformat": 4,
 "nbformat_minor": 2
}
