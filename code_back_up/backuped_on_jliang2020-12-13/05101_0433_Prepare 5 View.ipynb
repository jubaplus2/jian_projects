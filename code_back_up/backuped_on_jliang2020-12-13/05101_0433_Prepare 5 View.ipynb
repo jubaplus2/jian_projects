{
 "cells": [
  {
   "cell_type": "code",
   "execution_count": 1,
   "metadata": {
    "collapsed": true
   },
   "outputs": [],
   "source": [
    "import pandas as pd\n",
    "import datetime\n",
    "import numpy as np"
   ]
  },
  {
   "cell_type": "code",
   "execution_count": 40,
   "metadata": {
    "collapsed": true
   },
   "outputs": [],
   "source": [
    "data=pd.read_excel(\"/home/jian/Projects/Big_Lots/Combined_Circ_News/output/BL_circula data_JL_20180507.xlsx\",dtype=str,na_values=\"\")\n",
    "data=data.replace('nan',np.nan)"
   ]
  },
  {
   "cell_type": "code",
   "execution_count": 41,
   "metadata": {},
   "outputs": [
    {
     "data": {
      "text/html": [
       "<div>\n",
       "<style>\n",
       "    .dataframe thead tr:only-child th {\n",
       "        text-align: right;\n",
       "    }\n",
       "\n",
       "    .dataframe thead th {\n",
       "        text-align: left;\n",
       "    }\n",
       "\n",
       "    .dataframe tbody tr th {\n",
       "        vertical-align: top;\n",
       "    }\n",
       "</style>\n",
       "<table border=\"1\" class=\"dataframe\">\n",
       "  <thead>\n",
       "    <tr style=\"text-align: right;\">\n",
       "      <th></th>\n",
       "      <th>zip_cd</th>\n",
       "      <th>revenue_flag</th>\n",
       "      <th>store_1_in_zip</th>\n",
       "      <th>store_2_in_zip</th>\n",
       "      <th>HH15</th>\n",
       "      <th>Female_25_54</th>\n",
       "      <th>loyal_members</th>\n",
       "      <th>col_2016-02-07_store_circ</th>\n",
       "      <th>col_2016-02-14_store_circ</th>\n",
       "      <th>col_2016-02-21_store_circ</th>\n",
       "      <th>...</th>\n",
       "      <th>col_2018-03-25_newspaper</th>\n",
       "      <th>col_2018-03-25_store_circ</th>\n",
       "      <th>col_2018-04-08_newspaper</th>\n",
       "      <th>col_2018-04-08_store_circ</th>\n",
       "      <th>col_2018-04-15_newspaper</th>\n",
       "      <th>col_2018-04-15_store_circ</th>\n",
       "      <th>col_2018-04-22_newspaper</th>\n",
       "      <th>col_2018-04-22_store_circ</th>\n",
       "      <th>col_2018-04-29_newspaper</th>\n",
       "      <th>col_2018-04-29_store_circ</th>\n",
       "    </tr>\n",
       "  </thead>\n",
       "  <tbody>\n",
       "    <tr>\n",
       "      <th>0</th>\n",
       "      <td>00501</td>\n",
       "      <td>NaN</td>\n",
       "      <td>NaN</td>\n",
       "      <td>NaN</td>\n",
       "      <td>0</td>\n",
       "      <td>0</td>\n",
       "      <td>3</td>\n",
       "      <td>NaN</td>\n",
       "      <td>NaN</td>\n",
       "      <td>NaN</td>\n",
       "      <td>...</td>\n",
       "      <td>NaN</td>\n",
       "      <td>NaN</td>\n",
       "      <td>NaN</td>\n",
       "      <td>NaN</td>\n",
       "      <td>NaN</td>\n",
       "      <td>NaN</td>\n",
       "      <td>NaN</td>\n",
       "      <td>NaN</td>\n",
       "      <td>NaN</td>\n",
       "      <td>NaN</td>\n",
       "    </tr>\n",
       "    <tr>\n",
       "      <th>1</th>\n",
       "      <td>01001</td>\n",
       "      <td>P</td>\n",
       "      <td>NaN</td>\n",
       "      <td>NaN</td>\n",
       "      <td>6872.6</td>\n",
       "      <td>3604</td>\n",
       "      <td>1934</td>\n",
       "      <td>NaN</td>\n",
       "      <td>NaN</td>\n",
       "      <td>NaN</td>\n",
       "      <td>...</td>\n",
       "      <td>2394.565960154682</td>\n",
       "      <td>NaN</td>\n",
       "      <td>2394.565960154682</td>\n",
       "      <td>NaN</td>\n",
       "      <td>2394.565960154682</td>\n",
       "      <td>NaN</td>\n",
       "      <td>2394.565960154682</td>\n",
       "      <td>NaN</td>\n",
       "      <td>2394.565960154682</td>\n",
       "      <td>NaN</td>\n",
       "    </tr>\n",
       "  </tbody>\n",
       "</table>\n",
       "<p>2 rows × 138 columns</p>\n",
       "</div>"
      ],
      "text/plain": [
       "  zip_cd revenue_flag store_1_in_zip store_2_in_zip    HH15 Female_25_54  \\\n",
       "0  00501          NaN            NaN            NaN       0            0   \n",
       "1  01001            P            NaN            NaN  6872.6         3604   \n",
       "\n",
       "  loyal_members col_2016-02-07_store_circ col_2016-02-14_store_circ  \\\n",
       "0             3                       NaN                       NaN   \n",
       "1          1934                       NaN                       NaN   \n",
       "\n",
       "  col_2016-02-21_store_circ            ...             \\\n",
       "0                       NaN            ...              \n",
       "1                       NaN            ...              \n",
       "\n",
       "  col_2018-03-25_newspaper col_2018-03-25_store_circ col_2018-04-08_newspaper  \\\n",
       "0                      NaN                       NaN                      NaN   \n",
       "1        2394.565960154682                       NaN        2394.565960154682   \n",
       "\n",
       "  col_2018-04-08_store_circ col_2018-04-15_newspaper  \\\n",
       "0                       NaN                      NaN   \n",
       "1                       NaN        2394.565960154682   \n",
       "\n",
       "  col_2018-04-15_store_circ col_2018-04-22_newspaper  \\\n",
       "0                       NaN                      NaN   \n",
       "1                       NaN        2394.565960154682   \n",
       "\n",
       "  col_2018-04-22_store_circ col_2018-04-29_newspaper col_2018-04-29_store_circ  \n",
       "0                       NaN                      NaN                       NaN  \n",
       "1                       NaN        2394.565960154682                       NaN  \n",
       "\n",
       "[2 rows x 138 columns]"
      ]
     },
     "execution_count": 41,
     "metadata": {},
     "output_type": "execute_result"
    }
   ],
   "source": [
    "data.head(2)"
   ]
  },
  {
   "cell_type": "code",
   "execution_count": 42,
   "metadata": {
    "collapsed": true
   },
   "outputs": [],
   "source": [
    "store_circ_col=[col for col in data.columns.tolist() if \"_newspaper\" in col]\n",
    "newspaper_col=[col for col in data.columns.tolist() if \"_store_circ\" in col]\n",
    "fix_col=[col for col in data.columns.tolist() if \"col_\" not in col]"
   ]
  },
  {
   "cell_type": "code",
   "execution_count": 44,
   "metadata": {
    "collapsed": true
   },
   "outputs": [],
   "source": [
    "num_col=['HH15','Female_25_54','loyal_members']+store_circ_col+newspaper_col\n",
    "for col in num_col:\n",
    "    data[col]=data[col].fillna(0)\n",
    "    data[col]=data[col].apply(lambda x: int(np.ceil(float(x))))"
   ]
  },
  {
   "cell_type": "code",
   "execution_count": 50,
   "metadata": {
    "collapsed": true
   },
   "outputs": [],
   "source": [
    "newspaper_days=[datetime.datetime.strptime(col[4:14],\"%Y-%m-%d\").date() for col in newspaper_col]"
   ]
  },
  {
   "cell_type": "code",
   "execution_count": 56,
   "metadata": {
    "collapsed": true
   },
   "outputs": [],
   "source": [
    "newspaper_days_weekday=[date for date in newspaper_days if date.weekday()==3]"
   ]
  },
  {
   "cell_type": "code",
   "execution_count": 59,
   "metadata": {},
   "outputs": [
    {
     "data": {
      "text/plain": [
       "['col_2016-08-28_newspaper',\n",
       " 'col_2016-09-04_newspaper',\n",
       " 'col_2016-09-25_newspaper',\n",
       " 'col_2016-10-09_newspaper',\n",
       " 'col_2016-10-23_newspaper',\n",
       " 'col_2016-10-30_newspaper',\n",
       " 'col_2016-11-06_newspaper',\n",
       " 'col_2016-11-13_newspaper',\n",
       " 'col_2016-11-20_newspaper',\n",
       " 'col_2016-11-23_newspaper',\n",
       " 'col_2016-11-24_newspaper',\n",
       " 'col_2016-11-27_newspaper',\n",
       " 'col_2016-12-04_newspaper',\n",
       " 'col_2016-12-11_newspaper',\n",
       " 'col_2016-12-18_newspaper',\n",
       " 'col_2017-01-08_newspaper',\n",
       " 'col_2017-02-05_newspaper',\n",
       " 'col_2017-02-12_newspaper',\n",
       " 'col_2017-02-19_newspaper',\n",
       " 'col_2017-03-05_newspaper',\n",
       " 'col_2017-03-12_newspaper',\n",
       " 'col_2017-03-19_newspaper',\n",
       " 'col_2017-04-02_newspaper',\n",
       " 'col_2017-04-09_newspaper',\n",
       " 'col_2017-04-23_newspaper',\n",
       " 'col_2017-04-30_newspaper',\n",
       " 'col_2017-05-21_newspaper',\n",
       " 'col_2017-05-28_newspaper',\n",
       " 'col_2017-06-11_newspaper',\n",
       " 'col_2017-06-25_newspaper',\n",
       " 'col_2017-07-16_newspaper',\n",
       " 'col_2017-07-30_newspaper',\n",
       " 'col_2017-08-27_newspaper',\n",
       " 'col_2017-09-03_newspaper',\n",
       " 'col_2017-09-24_newspaper',\n",
       " 'col_2017-10-08_newspaper',\n",
       " 'col_2017-10-22_newspaper',\n",
       " 'col_2017-10-29_newspaper',\n",
       " 'col_2017-11-05_newspaper',\n",
       " 'col_2017-11-12_newspaper',\n",
       " 'col_2017-11-19_newspaper',\n",
       " 'col_2017-11-22_newspaper',\n",
       " 'col_2017-11-23_newspaper',\n",
       " 'col_2017-11-26_newspaper',\n",
       " 'col_2017-12-03_newspaper',\n",
       " 'col_2017-12-10_newspaper',\n",
       " 'col_2017-12-17_newspaper',\n",
       " 'col_2018-01-07_newspaper',\n",
       " 'col_2018-02-11_newspaper',\n",
       " 'col_2018-02-18_newspaper',\n",
       " 'col_2018-02-25_newspaper',\n",
       " 'col_2018-03-04_newspaper',\n",
       " 'col_2018-03-18_newspaper',\n",
       " 'col_2018-03-25_newspaper',\n",
       " 'col_2018-04-08_newspaper',\n",
       " 'col_2018-04-15_newspaper',\n",
       " 'col_2018-04-22_newspaper',\n",
       " 'col_2018-04-29_newspaper']"
      ]
     },
     "execution_count": 59,
     "metadata": {},
     "output_type": "execute_result"
    }
   ],
   "source": [
    "To do: isolate the closed stores"
   ]
  },
  {
   "cell_type": "code",
   "execution_count": null,
   "metadata": {
    "collapsed": true
   },
   "outputs": [],
   "source": []
  }
 ],
 "metadata": {
  "kernelspec": {
   "display_name": "Python 3",
   "language": "python",
   "name": "python3"
  },
  "language_info": {
   "codemirror_mode": {
    "name": "ipython",
    "version": 3
   },
   "file_extension": ".py",
   "mimetype": "text/x-python",
   "name": "python",
   "nbconvert_exporter": "python",
   "pygments_lexer": "ipython3",
   "version": "3.6.1"
  }
 },
 "nbformat": 4,
 "nbformat_minor": 2
}
