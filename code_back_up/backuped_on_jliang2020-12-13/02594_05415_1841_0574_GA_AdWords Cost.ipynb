{
 "cells": [
  {
   "cell_type": "code",
   "execution_count": 25,
   "metadata": {
    "collapsed": true
   },
   "outputs": [],
   "source": [
    "import pandas as pd\n",
    "import numpy as np\n",
    "import datetime\n",
    "import pandas as pd\n",
    "from googleads import adwords\n",
    "import google_analytics_reporting_api as ga\n",
    "import os\n",
    "import re\n",
    "import string\n",
    "import glob\n",
    "\n",
    "Start_Date_overall='2018-01-01'\n",
    "End_Data_overall='2018-07-22'\n",
    "\n",
    "week=\"_Year_2018\"\n",
    "\n",
    "today_str=str(datetime.datetime.now().date())\n",
    "writer_folder=\"/home/jian/Projects/Saatva/To_Lexie_and_Connor/output/running_on_\"+today_str+\"/\"\n",
    "try:\n",
    "    os.stat(writer_folder)\n",
    "except:\n",
    "    os.mkdir(writer_folder)"
   ]
  },
  {
   "cell_type": "markdown",
   "metadata": {},
   "source": [
    "# Google AdWords"
   ]
  },
  {
   "cell_type": "code",
   "execution_count": 26,
   "metadata": {
    "collapsed": true
   },
   "outputs": [],
   "source": [
    "def get_client(config_path='googleads_saatva.yaml'):\n",
    "    return adwords.AdWordsClient.LoadFromStorage(config_path)\n",
    "\n",
    "def download_report_as_stream(client, report_type, fields, start_date, end_date):\n",
    "    '''Download Adwords report, then save as csv file to base_dir\n",
    "    Args:\n",
    "        client: adwords.AdWordsClient.LoadFromStorage()\n",
    "        report_type: str eg. 'KEYWORDS_PERFORMANCE_REPORT'\n",
    "        fields: list eg. [\"CampaignId\", \"CampaignName\", ... ]\n",
    "        start_date: str, eg. '2018-02-11'\n",
    "        end_date: str, eg.\n",
    "    Return:\n",
    "        str, path to csv file\n",
    "    '''\n",
    "    report_downloader = client.GetReportDownloader(version='v201802')\n",
    "    # Create report definition.\n",
    "    report = {\n",
    "        'reportName': report_type,\n",
    "        'dateRangeType': 'CUSTOM_DATE',\n",
    "        'reportType': report_type,\n",
    "        'downloadFormat': 'CSV',\n",
    "        'selector': {\n",
    "            'fields': fields,\n",
    "            'dateRange': {\n",
    "                'min': start_date,\n",
    "                'max': end_date}\n",
    "        }\n",
    "    }\n",
    "\n",
    "    # save output\n",
    "    return report_downloader.DownloadReportAsStream(report, \n",
    "        skip_report_header=True, skip_column_header=False,\n",
    "        skip_report_summary=True)\n",
    "\n"
   ]
  },
  {
   "cell_type": "code",
   "execution_count": 27,
   "metadata": {
    "collapsed": true
   },
   "outputs": [],
   "source": [
    "client_Saatva = get_client(config_path='/home/jian/Projects/Saatva/To_Lexie_and_Connor/googleads_saatva_JL_Saatva.yaml')\n",
    "report_type = 'CAMPAIGN_PERFORMANCE_REPORT'\n",
    "fields = [\"AccountDescriptiveName\",\"CampaignName\",\"Date\",\"AdvertisingChannelType\",\"Impressions\", \"Clicks\", \"Cost\"]\n",
    "response_Saatva = download_report_as_stream(client_Saatva, report_type, fields, Start_Date_overall, End_Data_overall)\n",
    "Saatva_Click = pd.read_csv(response_Saatva)\n",
    "Saatva_Click['Cost']=Saatva_Click['Cost'].apply(lambda x: x/1000000)"
   ]
  },
  {
   "cell_type": "code",
   "execution_count": 28,
   "metadata": {
    "collapsed": true
   },
   "outputs": [],
   "source": [
    "client_Saatva_Branding = get_client(config_path='/home/jian/Projects/Saatva/To_Lexie_and_Connor/googleads_saatva_JL_Saatva_Branding.yaml')\n",
    "report_type = 'CAMPAIGN_PERFORMANCE_REPORT'\n",
    "fields = [\"AccountDescriptiveName\",\"CampaignName\",\"Date\",\"AdvertisingChannelType\",\"Impressions\", \"Clicks\", \"Cost\"]\n",
    "response_Saatva_Branding = download_report_as_stream(client_Saatva_Branding, report_type, fields, Start_Date_overall, End_Data_overall)\n",
    "Saatva_Brand_Click = pd.read_csv(response_Saatva_Branding)\n",
    "Saatva_Brand_Click['Cost']=Saatva_Brand_Click['Cost'].apply(lambda x: x/1000000)"
   ]
  },
  {
   "cell_type": "code",
   "execution_count": 29,
   "metadata": {
    "collapsed": true
   },
   "outputs": [],
   "source": [
    "client_Saatva_Competitors = get_client(config_path='/home/jian/Projects/Saatva/To_Lexie_and_Connor/googleads_saatva_JL_Saatva_Competitors.yaml')\n",
    "report_type = 'CAMPAIGN_PERFORMANCE_REPORT'\n",
    "fields = [\"AccountDescriptiveName\",\"CampaignName\",\"Date\",\"AdvertisingChannelType\",\"Impressions\", \"Clicks\", \"Cost\"]\n",
    "response_Saatva_Competitor = download_report_as_stream(client_Saatva_Competitors, report_type, fields, Start_Date_overall, End_Data_overall)\n",
    "Saatva_Competitor_Click = pd.read_csv(response_Saatva_Competitor)\n",
    "Saatva_Competitor_Click['Cost']=Saatva_Competitor_Click['Cost'].apply(lambda x: x/1000000)"
   ]
  },
  {
   "cell_type": "code",
   "execution_count": 30,
   "metadata": {
    "collapsed": true
   },
   "outputs": [],
   "source": [
    "Saatva_Click=Saatva_Click[~((Saatva_Click['Campaign'].str.contains(\"Loom\")) | (Saatva_Click['Campaign'].str.contains(\"Leaf\")) | (Saatva_Click['Campaign'].str.contains(\"Zenhaven\")))]\n",
    "# Filter out campaign contains \"Loom\" and \"Leaf\" and \"Zenhaven\" from Saatva account\n",
    "Saatva_Competitor_Click=Saatva_Competitor_Click[Saatva_Competitor_Click['Campaign'].apply(lambda x: x[len(x)-4:len(x)+1])==\"[SM]\"]\n",
    "Saatva_Competitor_Click.reset_index(inplace=True)\n",
    "del Saatva_Competitor_Click['index']\n",
    "# Keep only campaign labeled as \"[SM]\" in Saatva Competitor account\n",
    "Saatva_Click['Campaign_Type']=Saatva_Click['Advertising Channel'].apply(lambda x: x.replace(\"Search\",\"SEM\").replace(\"Shopping\",\"PLA\"))\n",
    "Saatva_Brand_Click['Campaign_Type']=Saatva_Brand_Click['Advertising Channel'].apply(lambda x: x.replace(\"Search\",\"SEM_Brand\").replace(\"Shopping\",\"PLA\"))\n",
    "Saatva_Competitor_Click['Campaign_Type']=\"SEM_Non_Brand\" # Because it's all labeled as Non-Brand in Campaign and in Search Only Campaign Type"
   ]
  },
  {
   "cell_type": "code",
   "execution_count": 31,
   "metadata": {
    "collapsed": true
   },
   "outputs": [],
   "source": [
    "# Split Saatva\n",
    "# 'Search Network with Display Select' Campaign Type all 0 Impr and Clicks\n",
    "Saatva_Click_Search=Saatva_Click[Saatva_Click['Advertising Channel']=='Search']\n",
    "Saatva_Click_Others=Saatva_Click[Saatva_Click['Advertising Channel']!='Search']"
   ]
  },
  {
   "cell_type": "code",
   "execution_count": 32,
   "metadata": {},
   "outputs": [
    {
     "name": "stderr",
     "output_type": "stream",
     "text": [
      "/usr/local/lib/python3.6/site-packages/ipykernel_launcher.py:2: SettingWithCopyWarning: \n",
      "A value is trying to be set on a copy of a slice from a DataFrame.\n",
      "Try using .loc[row_indexer,col_indexer] = value instead\n",
      "\n",
      "See the caveats in the documentation: http://pandas.pydata.org/pandas-docs/stable/indexing.html#indexing-view-versus-copy\n",
      "  \n"
     ]
    },
    {
     "data": {
      "text/plain": [
       "0"
      ]
     },
     "execution_count": 32,
     "metadata": {},
     "output_type": "execute_result"
    }
   ],
   "source": [
    "Saatva_Click_Search['Campaign_Type']=np.where((Saatva_Click_Search['Campaign'].str.contains(\"Branded\")) | (Saatva_Click_Search['Campaign'].str.contains(\" Brand \")) | (Saatva_Click_Search['Campaign'].str.contains(\"Co-Brand\")) | (Saatva_Click_Search['Campaign'].str.contains(\"\\[Brand\\]\")),\"SEM_Brand\",\n",
    "                                                 np.where((Saatva_Click_Search['Campaign'].str.contains(\"Non-Brand\")) | (Saatva_Click_Search['Campaign'].str.contains(\"Dynamic Search Ads\")),\"SEM_Non_Brand\",\"NA\"))\n",
    "Saatva_Click_Search_1=Saatva_Click_Search[Saatva_Click_Search['Campaign_Type']!=\"NA\"]\n",
    "Saatva_Click_Search_2=Saatva_Click_Search[Saatva_Click_Search['Campaign_Type']==\"NA\"]\n",
    "len(Saatva_Click_Search_2) # Make sure it's 0"
   ]
  },
  {
   "cell_type": "code",
   "execution_count": 33,
   "metadata": {},
   "outputs": [
    {
     "data": {
      "text/plain": [
       "'\\nSaatva_keywords=pd.read_csv(\"/home/jian/Projects/Saatva/To Lexie/AdWords/saatva_keywords.csv\",dtype=str,skiprows=2)\\nSaatva_Brand_keywords=pd.read_csv(\"/home/jian/Projects/Saatva/To Lexie/AdWords/saatva branding_keywords.csv\",dtype=str)\\nSaatva_Competitor_keywords=pd.read_csv(\"/home/jian/Projects/Saatva/To Lexie/AdWords/saatva competitors_keywords.csv\",dtype=str,skiprows=2)\\n\\nSaatva_keywords=Saatva_keywords[~((Saatva_keywords[\\'Campaign\\'].str.contains(\"Loom\")) | (Saatva_keywords[\\'Campaign\\'].str.contains(\"Leaf\")) | (Saatva_keywords[\\'Campaign\\'].str.contains(\"Zenhaven\")))]\\nSaatva_keywords[\\'Campaign_Type\\']=np.where(Saatva_keywords[\\'Search keyword\\'].str.contains(\"aatva\"),\"SEM_Brand\",\"SEM_Non_Brand\")\\nSaatva_keywords[\\'Impressions\\']=Saatva_keywords[\\'Impressions\\'].apply(lambda x: int(x.replace(\",\",\"\")))\\nSaatva_keywords[\\'Impressions\\']=Saatva_keywords[\\'Impressions\\'].astype(int)\\nSaatva_keywords[\\'Clicks\\']=Saatva_keywords[\\'Clicks\\'].apply(lambda x: int(x.replace(\",\",\"\")))\\nSaatva_keywords[\\'Clicks\\']=Saatva_keywords[\\'Clicks\\'].astype(int)\\nSaatva_keywords=Saatva_keywords.groupby([\\'Campaign\\',\\'Campaign_Type\\'])[\\'Impressions\\',\\'Clicks\\'].sum()\\nSaatva_keywords.reset_index(inplace=True)\\nSaatva_keywords=Saatva_keywords.sort_values([\\'Campaign\\',\\'Impressions\\'])\\nSaatva_keywords=Saatva_keywords.drop_duplicates(\\'Campaign\\')\\nSaatva_Campaign_Type=Saatva_keywords[[\\'Campaign\\',\\'Campaign_Type\\']]\\n\\ndel Saatva_Click_Search_2[\\'Campaign_Type\\']\\nSaatva_Click_Search_2=pd.merge(Saatva_Click_Search_2,Saatva_Campaign_Type,on=\"Campaign\",how=\"left\")\\n\\nSaatva_Search_Click=Saatva_Click_Search_1.append(Saatva_Click_Search_2)\\nSaatva_Search_Click[\\'Campaign_Type\\']=Saatva_Search_Click[\\'Campaign_Type\\'].fillna(\"All_0_Values_and_No_Kws\")\\n'"
      ]
     },
     "execution_count": 33,
     "metadata": {},
     "output_type": "execute_result"
    }
   ],
   "source": [
    "# All campaing is able to differentiate from the name about brand and non-brand, so no need to go to keywords level\n",
    "'''\n",
    "Saatva_keywords=pd.read_csv(\"/home/jian/Projects/Saatva/To Lexie/AdWords/saatva_keywords.csv\",dtype=str,skiprows=2)\n",
    "Saatva_Brand_keywords=pd.read_csv(\"/home/jian/Projects/Saatva/To Lexie/AdWords/saatva branding_keywords.csv\",dtype=str)\n",
    "Saatva_Competitor_keywords=pd.read_csv(\"/home/jian/Projects/Saatva/To Lexie/AdWords/saatva competitors_keywords.csv\",dtype=str,skiprows=2)\n",
    "\n",
    "Saatva_keywords=Saatva_keywords[~((Saatva_keywords['Campaign'].str.contains(\"Loom\")) | (Saatva_keywords['Campaign'].str.contains(\"Leaf\")) | (Saatva_keywords['Campaign'].str.contains(\"Zenhaven\")))]\n",
    "Saatva_keywords['Campaign_Type']=np.where(Saatva_keywords['Search keyword'].str.contains(\"aatva\"),\"SEM_Brand\",\"SEM_Non_Brand\")\n",
    "Saatva_keywords['Impressions']=Saatva_keywords['Impressions'].apply(lambda x: int(x.replace(\",\",\"\")))\n",
    "Saatva_keywords['Impressions']=Saatva_keywords['Impressions'].astype(int)\n",
    "Saatva_keywords['Clicks']=Saatva_keywords['Clicks'].apply(lambda x: int(x.replace(\",\",\"\")))\n",
    "Saatva_keywords['Clicks']=Saatva_keywords['Clicks'].astype(int)\n",
    "Saatva_keywords=Saatva_keywords.groupby(['Campaign','Campaign_Type'])['Impressions','Clicks'].sum()\n",
    "Saatva_keywords.reset_index(inplace=True)\n",
    "Saatva_keywords=Saatva_keywords.sort_values(['Campaign','Impressions'])\n",
    "Saatva_keywords=Saatva_keywords.drop_duplicates('Campaign')\n",
    "Saatva_Campaign_Type=Saatva_keywords[['Campaign','Campaign_Type']]\n",
    "\n",
    "del Saatva_Click_Search_2['Campaign_Type']\n",
    "Saatva_Click_Search_2=pd.merge(Saatva_Click_Search_2,Saatva_Campaign_Type,on=\"Campaign\",how=\"left\")\n",
    "\n",
    "Saatva_Search_Click=Saatva_Click_Search_1.append(Saatva_Click_Search_2)\n",
    "Saatva_Search_Click['Campaign_Type']=Saatva_Search_Click['Campaign_Type'].fillna(\"All_0_Values_and_No_Kws\")\n",
    "'''"
   ]
  },
  {
   "cell_type": "code",
   "execution_count": 34,
   "metadata": {
    "collapsed": true
   },
   "outputs": [],
   "source": [
    "Saatva_Click=Saatva_Click_Search.append(Saatva_Click_Others)"
   ]
  },
  {
   "cell_type": "code",
   "execution_count": 35,
   "metadata": {
    "collapsed": true
   },
   "outputs": [],
   "source": [
    "writer=pd.ExcelWriter(writer_folder+\"/Saatva_AdWords_\"+Start_Date_overall+\"_to_\"+End_Data_overall+week+\"_cost.xlsx\",engine='xlsxwriter')"
   ]
  },
  {
   "cell_type": "code",
   "execution_count": 36,
   "metadata": {
    "collapsed": true
   },
   "outputs": [],
   "source": [
    "Saatva_Agg=Saatva_Click.append(Saatva_Brand_Click).append(Saatva_Competitor_Click)\n",
    "Saatva_Agg['Day']=Saatva_Agg['Day'].apply(lambda x: datetime.datetime.strptime(x,\"%Y-%m-%d\").date())\n",
    "Saatva_Agg.reset_index(inplace=True)\n",
    "del Saatva_Agg['index']\n",
    "Saatva_Agg_Category=Saatva_Agg[['Campaign','Account','Advertising Channel','Campaign_Type']].drop_duplicates()\n",
    "Saatva_Agg_Category.to_excel(writer,\"Campaign Category\",index=False)"
   ]
  },
  {
   "cell_type": "code",
   "execution_count": 37,
   "metadata": {
    "collapsed": true
   },
   "outputs": [],
   "source": [
    "Saatva_Agg=Saatva_Agg.groupby([\"Campaign_Type\",\"Day\"])['Impressions','Clicks', 'Cost'].sum()\n",
    "Saatva_Agg.reset_index(inplace=True)\n",
    "Saatva_Agg['CTR']=Saatva_Agg['Clicks']/Saatva_Agg['Impressions']\n",
    "Saatva_Agg.to_excel(writer,\"reshaped by day\",index=False)\n",
    "\n",
    "Saatva_Agg_No_NA=Saatva_Agg[(Saatva_Agg['Campaign_Type']!=\"NA\") & (Saatva_Agg['Campaign_Type']!=\"Search Network with Display Select\")]\n",
    "\n",
    "Saatva_Agg_No_NA.to_excel(writer,\"clean data by day\",index=False)"
   ]
  },
  {
   "cell_type": "code",
   "execution_count": 38,
   "metadata": {
    "collapsed": true
   },
   "outputs": [],
   "source": [
    "writer.save()"
   ]
  },
  {
   "cell_type": "code",
   "execution_count": 39,
   "metadata": {
    "collapsed": true
   },
   "outputs": [],
   "source": [
    "AdWords_output=Saatva_Agg.copy()\n",
    "AdWords_output['Date']=AdWords_output['Day'].apply(lambda x: str(x)[0:4]+str(x)[5:7]+str(x)[8:10])\n",
    "AdWords_output=AdWords_output[['Campaign_Type','Date','Impressions','Clicks','Cost']]\n",
    "AdWords_output=AdWords_output.rename(columns={\"Impressions\":\"IMP\"})\n",
    "AdWords_output=AdWords_output.sort_values([\"Campaign_Type\",\"Date\"],ascending=[True,True])\n",
    "AdWords_output.to_csv(writer_folder+\"/Saatva_AdWords_\"+Start_Date_overall+\"_to_\"+End_Data_overall+week+\"_cost.csv\",index=False)"
   ]
  },
  {
   "cell_type": "markdown",
   "metadata": {
    "collapsed": true
   },
   "source": [
    "# Sales"
   ]
  },
  {
   "cell_type": "code",
   "execution_count": 40,
   "metadata": {
    "collapsed": true
   },
   "outputs": [],
   "source": [
    "klipfolio_data=pd.read_excel(\"/home/jian/Projects/Saatva/Call_Analysis/data/Transaction_with_phone_2018_to_May.xlsx\",sheetname=\"Sales_By_Brand\",dtype=str)\n",
    "klipfolio_data=klipfolio_data.rename(columns={\"Zip_Code\":\"zip_cd\"})\n",
    "klipfolio_data['Date']=klipfolio_data['Date'].apply(lambda x: datetime.datetime.strptime(x.split(\" \")[0],\"%Y-%m-%d\").date())\n",
    "klipfolio_data['Sales']=klipfolio_data['Sales'].astype(float)\n",
    "klipfolio_data['Phone_1']=klipfolio_data['Phone_1'].apply(lambda x: x.replace(\"-\",\"\"))\n",
    "klipfolio_data['Phone_2']=klipfolio_data['Phone_2'].apply(lambda x: x.replace(\"-\",\"\"))\n",
    "klipfolio_data['Phone_1']=klipfolio_data['Phone_1'].apply(lambda x: re.sub('['+string.punctuation+']', '', x))\n",
    "klipfolio_data['Phone_2']=klipfolio_data['Phone_2'].apply(lambda x: re.sub('['+string.punctuation+']', '', x))\n",
    "klipfolio_data['Phone_1']=klipfolio_data['Phone_1'].apply(lambda x: x.replace(\" \",\"\"))\n",
    "klipfolio_data['Phone_2']=klipfolio_data['Phone_2'].apply(lambda x: x.replace(\" \",\"\"))\n",
    "\n",
    "del klipfolio_data['CSR']\n",
    "del klipfolio_data['PressOne_Rep_Name']"
   ]
  },
  {
   "cell_type": "code",
   "execution_count": 41,
   "metadata": {
    "collapsed": true
   },
   "outputs": [],
   "source": [
    "klipfolio_data_2_folder=\"/home/jian/Projects/Saatva/Transaction_Data/2018_weekly_klipfolio_with_Phone/\"\n",
    "klipfolio_data_2_file_list=glob.glob(klipfolio_data_2_folder+\"*.csv\")\n",
    "for file in klipfolio_data_2_file_list:\n",
    "\n",
    "    df=pd.read_csv(file,dtype=str)\n",
    "    df=df[['Order ID','Date','Time','Shipping Zip','Product Revenue','Order Type',\n",
    "                                   'Phone 1','Phone 2','PressOne Rep Name','Brand']]\n",
    "\n",
    "    df=df.rename(columns={\"Order ID\":\"Order_id\",\"Shipping Zip\":\"zip_cd\",\"Product Revenue\":\"Sales\",\n",
    "                                                     \"Order Type\":\"Source\",\"Phone 1\":\"Phone_1\",\"Phone 2\":\"Phone_2\",\n",
    "                                                     \"PressOne Rep Name\":\"PressOne_Rep_Name\"})\n",
    "    \n",
    "    df=df.fillna(\"nan\")\n",
    "    df=df[df['Order_id']!=\"nan\"]\n",
    "    df['Date']=df['Date'].apply(lambda x: x.replace(\"-April-\",\"-Apr-\").replace(\"-March-\",\"-Mar-\").replace(\"-June-\",\"Jun\"))\n",
    "    df['Date']=np.where(len(df['Date'])<df['Date'].apply(lambda x: len(x)).max(),\"0\"+df['Date'],df['Date'])\n",
    "    df['Date']=df['Date'].apply(lambda x: datetime.datetime.strptime(x,\"%d-%b-%Y\").date())\n",
    "    df['Sales']=df['Sales'].astype(float)\n",
    "    df['Phone_1']=df['Phone_1'].apply(lambda x: x.replace(\"-\",\"\"))\n",
    "    df['Phone_2']=df['Phone_2'].apply(lambda x: x.replace(\"-\",\"\"))\n",
    "    df['Phone_1']=df['Phone_1'].apply(lambda x: re.sub('['+string.punctuation+']', '', x))\n",
    "    df['Phone_2']=df['Phone_2'].apply(lambda x: re.sub('['+string.punctuation+']', '', x))\n",
    "    df['Phone_1']=df['Phone_1'].apply(lambda x: x.replace(\" \",\"\"))\n",
    "    df['Phone_2']=df['Phone_2'].apply(lambda x: x.replace(\" \",\"\"))\n",
    "    \n",
    "\n",
    "    klipfolio_data=klipfolio_data[klipfolio_data['Date']<=(df['Date'].min()+datetime.timedelta(days=1))]\n",
    "    klipfolio_data=klipfolio_data.append(df)\n",
    "    klipfolio_data=klipfolio_data.drop_duplicates()\n",
    "    \n",
    "transaction_data=klipfolio_data[klipfolio_data['Brand']==\"Saatva\"].reset_index()\n",
    "del transaction_data['index']\n",
    "del transaction_data['PressOne_Rep_Name']\n",
    "transaction_data['Time']=transaction_data['Time'].apply(lambda x: x.zfill(8))\n",
    "transaction_data=transaction_data.drop_duplicates()\n",
    "transaction_data=transaction_data.reset_index()\n",
    "del transaction_data['index']\n",
    "\n",
    "Transaction_data_sales=transaction_data[['Order_id','Date','Sales','zip_cd']].drop_duplicates()\n",
    "Transaction_data_sales=Transaction_data_sales.drop_duplicates(['Order_id'])\n"
   ]
  },
  {
   "cell_type": "code",
   "execution_count": 42,
   "metadata": {
    "collapsed": true
   },
   "outputs": [],
   "source": [
    "US_Zips=pd.read_csv(\"/home/jian/Docs/EASI/2018-06-25/ZIP4_18_DATA_A2_CSV/Total_HH_POP_by_Zip_JL_20180723.csv\",dtype=str)\n",
    "Transaction_data_sales=Transaction_data_sales[Transaction_data_sales['zip_cd'].isin(US_Zips['ZIP_CODE'])]\n",
    "Transaction_data_sales_by_Day=Transaction_data_sales.groupby(['Date'])['Sales'].sum().to_frame().reset_index()"
   ]
  },
  {
   "cell_type": "code",
   "execution_count": 43,
   "metadata": {
    "collapsed": true
   },
   "outputs": [],
   "source": [
    "Ad_Data_by_Day=AdWords_output.groupby(['Date'])['IMP','Clicks','Cost'].sum().reset_index()"
   ]
  },
  {
   "cell_type": "code",
   "execution_count": 44,
   "metadata": {
    "collapsed": true
   },
   "outputs": [],
   "source": [
    "Ad_Data_by_Day['Date']=Ad_Data_by_Day['Date'].apply(lambda x: datetime.datetime.strptime(x,\"%Y%m%d\").date())"
   ]
  },
  {
   "cell_type": "code",
   "execution_count": 45,
   "metadata": {
    "collapsed": true
   },
   "outputs": [],
   "source": [
    "output_by_day=pd.merge(Ad_Data_by_Day,Transaction_data_sales_by_Day,on=\"Date\",how=\"left\")"
   ]
  },
  {
   "cell_type": "code",
   "execution_count": 46,
   "metadata": {
    "collapsed": true
   },
   "outputs": [],
   "source": [
    "output_by_day['week_num']=output_by_day['Date'].apply(lambda x: \"week_\"+str(int(np.floor((x-datetime.date(2018,1,1)).days/7)+1)))\n",
    "output_by_day['ROI']=output_by_day['Sales']/output_by_day['Cost']\n",
    "output_by_day['ROI']=output_by_day['ROI'].apply(lambda x: round(x,2))"
   ]
  },
  {
   "cell_type": "code",
   "execution_count": 47,
   "metadata": {
    "collapsed": true
   },
   "outputs": [],
   "source": [
    "output_by_week=output_by_day.groupby(['week_num'])['IMP','Clicks','Cost','Sales'].sum().reset_index()\n",
    "output_by_week['ROI']=output_by_week['Sales']/output_by_week['Cost']\n",
    "output_by_week['ROI']=output_by_week['ROI'].apply(lambda x: round(x,2))\n",
    "output_by_week['order']=output_by_week['week_num'].apply(lambda x: int(x.split(\"_\")[1]))\n",
    "output_by_week=output_by_week.sort_values(['order'])\n",
    "del output_by_week['order']"
   ]
  },
  {
   "cell_type": "code",
   "execution_count": 48,
   "metadata": {
    "collapsed": true
   },
   "outputs": [],
   "source": [
    "writer=pd.ExcelWriter(writer_folder+\"/Saatva_AdWords_\"+Start_Date_overall+\"_to_\"+End_Data_overall+week+\"_cost.xlsx\",engine='xlsxwriter')\n",
    "output_by_week.to_excel(writer,\"ROI_Data_weekly\",index=False)\n",
    "output_by_day.to_excel(writer,\"ROI_Data_daily\",index=False)\n",
    "Saatva_Agg_Category.to_excel(writer,\"Campaign Category\",index=False)\n",
    "writer.save()"
   ]
  },
  {
   "cell_type": "code",
   "execution_count": null,
   "metadata": {
    "collapsed": true
   },
   "outputs": [],
   "source": []
  }
 ],
 "metadata": {
  "kernelspec": {
   "display_name": "Python 3",
   "language": "python",
   "name": "python3"
  },
  "language_info": {
   "codemirror_mode": {
    "name": "ipython",
    "version": 3
   },
   "file_extension": ".py",
   "mimetype": "text/x-python",
   "name": "python",
   "nbconvert_exporter": "python",
   "pygments_lexer": "ipython3",
   "version": "3.6.1"
  }
 },
 "nbformat": 4,
 "nbformat_minor": 2
}
