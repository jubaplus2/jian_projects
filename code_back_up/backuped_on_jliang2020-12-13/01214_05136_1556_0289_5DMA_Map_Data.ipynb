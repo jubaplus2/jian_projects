{
 "cells": [
  {
   "cell_type": "code",
   "execution_count": 69,
   "metadata": {
    "collapsed": true
   },
   "outputs": [],
   "source": [
    "import pandas as pd\n",
    "import numpy as np"
   ]
  },
  {
   "cell_type": "code",
   "execution_count": 70,
   "metadata": {},
   "outputs": [],
   "source": [
    "Nielsen_Zip=pd.read_excel(\"/home/jian/Projects/Big_Lots/New_TA/Zips by DMA by County16-17 nielsen.xlsx\",skiprows=1,dtype=str,na_values=\"\")\n",
    "TA_Zip=pd.read_excel(\"/home/jian/Projects/Big_Lots/New_TA/BL_New TA map data_JL_20180205.xlsx\",sheetname=\"P and S Only\",dtype={'zip_cd': str})"
   ]
  },
  {
   "cell_type": "code",
   "execution_count": 71,
   "metadata": {},
   "outputs": [],
   "source": [
    "Nielsen_Zip=Nielsen_Zip.iloc[:,[0,2]]\n",
    "Nielsen_Zip=Nielsen_Zip.drop_duplicates().reset_index()\n",
    "del Nielsen_Zip['index']\n",
    "Nielsen_Zip.columns=['zip_cd','DMA_Nielsen']\n",
    "Nielsen_Zip['zip_cd']=Nielsen_Zip['zip_cd'].apply(lambda x: x.zfill(5))"
   ]
  },
  {
   "cell_type": "code",
   "execution_count": 72,
   "metadata": {},
   "outputs": [],
   "source": [
    "Merge_df=pd.merge(Nielsen_Zip,TA_Zip,on='zip_cd',how='outer')"
   ]
  },
  {
   "cell_type": "code",
   "execution_count": 73,
   "metadata": {
    "collapsed": true
   },
   "outputs": [],
   "source": [
    "Merge_df['longitude']=Merge_df['longitude'].fillna(0)\n",
    "Merge_df['latitude']=Merge_df['latitude'].fillna(0)"
   ]
  },
  {
   "cell_type": "code",
   "execution_count": 74,
   "metadata": {},
   "outputs": [],
   "source": [
    "Merge_df.to_excel(\"/home/jian/Projects/Big_Lots/New_TA/BL_New_TA_All_DMA_Zips_JL_20180301.xlsx\",index=False,sheet_name=\"P_S_Only\")"
   ]
  },
  {
   "cell_type": "code",
   "execution_count": null,
   "metadata": {
    "collapsed": true
   },
   "outputs": [],
   "source": []
  }
 ],
 "metadata": {
  "kernelspec": {
   "display_name": "Python 3",
   "language": "python",
   "name": "python3"
  },
  "language_info": {
   "codemirror_mode": {
    "name": "ipython",
    "version": 3
   },
   "file_extension": ".py",
   "mimetype": "text/x-python",
   "name": "python",
   "nbconvert_exporter": "python",
   "pygments_lexer": "ipython3",
   "version": "3.6.1"
  }
 },
 "nbformat": 4,
 "nbformat_minor": 2
}
