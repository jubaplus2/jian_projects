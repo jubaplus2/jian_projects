{
 "cells": [
  {
   "cell_type": "code",
   "execution_count": 32,
   "metadata": {},
   "outputs": [],
   "source": [
    "import json\n",
    "import pandas as pd\n",
    "import datetime\n",
    "import os\n",
    "from haversine import haversine"
   ]
  },
  {
   "cell_type": "code",
   "execution_count": 33,
   "metadata": {},
   "outputs": [
    {
     "data": {
      "text/plain": [
       "(1424, 13)"
      ]
     },
     "execution_count": 33,
     "metadata": {},
     "output_type": "execute_result"
    }
   ],
   "source": [
    "SFTP_store_list=pd.read_table(\"/home/jian/BigLots/static_files/Store_list/MediaStormStores20190101-135843-638.txt\",dtype=str,sep=\"|\")\n",
    "SFTP_store_list.shape"
   ]
  },
  {
   "cell_type": "code",
   "execution_count": 34,
   "metadata": {},
   "outputs": [
    {
     "name": "stdout",
     "output_type": "stream",
     "text": [
      "False\n"
     ]
    }
   ],
   "source": [
    "input_df=pd.read_excel(\"/home/jian/Projects/Big_Lots/Analysis/2018_Q4/Planner_Request/SOTF_zip_20190107_Faith/2.8 Zip Codes_1 Stores Updated 1.7.19.xlsx\",dtype=str)\n",
    "\n",
    "print(\"4687\" in SFTP_store_list['location_id'].tolist())"
   ]
  },
  {
   "cell_type": "code",
   "execution_count": 35,
   "metadata": {},
   "outputs": [],
   "source": [
    "# 1851 SUNRISE HIGHWAY, BAY SHORE, NY, 11706\n",
    "# Google from the store list from Dom\n",
    "# Get 40.7397288,-73.2386392 from UI\n",
    "input_df['Longitude_meas']=40.7397288\n",
    "input_df['Latitude_meas']=-73.2386392"
   ]
  },
  {
   "cell_type": "code",
   "execution_count": 36,
   "metadata": {},
   "outputs": [
    {
     "name": "stdout",
     "output_type": "stream",
     "text": [
      "False\n"
     ]
    }
   ],
   "source": [
    "old_PST=pd.read_csv(\"/home/jian/Projects/Big_Lots/New_TA/zips_in_new_ta/sales_by_zip (Store level).csv\",dtype=str)\n",
    "print(\"4687\" in old_PST['location_id'].unique().tolist())\n",
    "\n",
    "# New stores not in the TA"
   ]
  },
  {
   "cell_type": "code",
   "execution_count": 37,
   "metadata": {},
   "outputs": [],
   "source": [
    "zip_centers=json.load(open(\"/home/jian/Docs/Geo_mapping/center_of_rentrak_zip.json\",\"r\"))\n",
    "zip_dist_dic={}\n",
    "zip_list=[]\n",
    "for zip_cd in zip_centers.keys():\n",
    "    dist=haversine((40.7397288,-73.2386392),zip_centers[zip_cd],miles=True)\n",
    "    if dist<=10:\n",
    "        zip_list=zip_list+[zip_cd]\n",
    "        zip_dist_dic.update({zip_cd:dist})\n"
   ]
  },
  {
   "cell_type": "code",
   "execution_count": 38,
   "metadata": {},
   "outputs": [],
   "source": [
    "input_df=pd.concat([input_df]*len(zip_list))"
   ]
  },
  {
   "cell_type": "code",
   "execution_count": 39,
   "metadata": {},
   "outputs": [],
   "source": [
    "input_df['Revenue_flag']=\"new_in_10_miles\"\n",
    "input_df['Zip']=zip_list\n",
    "input_df['Store_Zip']=\"11706\"\n",
    "input_df['Distance (mile)']=input_df['Zip'].apply(lambda x: zip_dist_dic[x])"
   ]
  },
  {
   "cell_type": "code",
   "execution_count": 40,
   "metadata": {},
   "outputs": [],
   "source": [
    "writer=pd.ExcelWriter(\"/home/jian/Projects/Big_Lots/Analysis/2018_Q4/Planner_Request/SOTF_zip_20190107_Faith/BL_2.8 Zip Codes_1 Stores Updated 1.7.19_JL_20190107.xlsx\",engine=\"xlsxwriter\")\n",
    "input_df.to_excel(writer,\"SOTF_4687\")\n",
    "writer.save()"
   ]
  },
  {
   "cell_type": "code",
   "execution_count": null,
   "metadata": {
    "collapsed": true
   },
   "outputs": [],
   "source": []
  }
 ],
 "metadata": {
  "kernelspec": {
   "display_name": "Python 3",
   "language": "python",
   "name": "python3"
  },
  "language_info": {
   "codemirror_mode": {
    "name": "ipython",
    "version": 3
   },
   "file_extension": ".py",
   "mimetype": "text/x-python",
   "name": "python",
   "nbconvert_exporter": "python",
   "pygments_lexer": "ipython3",
   "version": "3.6.1"
  }
 },
 "nbformat": 4,
 "nbformat_minor": 2
}
