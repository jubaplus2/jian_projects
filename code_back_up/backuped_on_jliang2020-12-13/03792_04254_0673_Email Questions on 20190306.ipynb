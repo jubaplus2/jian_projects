{
 "cells": [
  {
   "cell_type": "code",
   "execution_count": 1,
   "metadata": {},
   "outputs": [
    {
     "data": {
      "text/plain": [
       "'/home/jian/Projects/Big_Lots/Live_Ramp/Quarterly_Update/Answer Bruce Questions'"
      ]
     },
     "execution_count": 1,
     "metadata": {},
     "output_type": "execute_result"
    }
   ],
   "source": [
    "import pandas as pd\n",
    "import os\n",
    "import glob\n",
    "os.getcwd()"
   ]
  },
  {
   "cell_type": "code",
   "execution_count": 34,
   "metadata": {
    "collapsed": true
   },
   "outputs": [],
   "source": [
    "apply_func={\"total_transaction_amt\":['median','mean','max','min']}"
   ]
  },
  {
   "cell_type": "code",
   "execution_count": 38,
   "metadata": {},
   "outputs": [
    {
     "name": "stderr",
     "output_type": "stream",
     "text": [
      "/usr/local/lib/python3.6/site-packages/ipykernel_launcher.py:3: FutureWarning: using a dict on a Series for aggregation\n",
      "is deprecated and will be removed in a future version\n",
      "  This is separate from the ipykernel package so we can avoid doing imports until\n"
     ]
    }
   ],
   "source": [
    "df=pd.read_csv(\"/home/jian/Projects/Big_Lots/Live_Ramp/Quarterly_Update/crm_newscore_0922/dfrfm.csv\",\n",
    "                 usecols=['frmindex','total_transaction_amt'])\n",
    "summary_Q4_Segment_by_Decile=df.groupby(['frmindex'])['total_transaction_amt'].agg(apply_func).reset_index()"
   ]
  },
  {
   "cell_type": "code",
   "execution_count": 39,
   "metadata": {},
   "outputs": [
    {
     "name": "stderr",
     "output_type": "stream",
     "text": [
      "/usr/local/lib/python3.6/site-packages/ipykernel_launcher.py:3: FutureWarning: using a dict on a Series for aggregation\n",
      "is deprecated and will be removed in a future version\n",
      "  This is separate from the ipykernel package so we can avoid doing imports until\n"
     ]
    }
   ],
   "source": [
    "HML_dict={1:\"High\",2:\"Good\",3:\"High\",4:\"Low\",5:\"Good\",6:\"Low\",7:\"Good\",8:\"Low\",9:\"Good\",10:\"Low\"}\n",
    "df['Value_Group']=df['frmindex'].apply(lambda x: HML_dict[x])\n",
    "summary_Q4_Segment_by_HML=df.groupby(['Value_Group'])['total_transaction_amt'].agg(apply_func).reset_index()"
   ]
  },
  {
   "cell_type": "code",
   "execution_count": 40,
   "metadata": {},
   "outputs": [],
   "source": [
    "summary_Q4_Segment_by_Decile.to_csv(\"/home/jian/Projects/Big_Lots/Live_Ramp/Quarterly_Update/Answer Bruce Questions/values_summary_by_decile.csv\",index=False)\n",
    "summary_Q4_Segment_by_HML.to_csv(\"/home/jian/Projects/Big_Lots/Live_Ramp/Quarterly_Update/Answer Bruce Questions/values_summary_by_value_group.csv\",index=False)\n",
    "\n"
   ]
  },
  {
   "cell_type": "code",
   "execution_count": 41,
   "metadata": {},
   "outputs": [
    {
     "data": {
      "text/html": [
       "<div>\n",
       "<style>\n",
       "    .dataframe thead tr:only-child th {\n",
       "        text-align: right;\n",
       "    }\n",
       "\n",
       "    .dataframe thead th {\n",
       "        text-align: left;\n",
       "    }\n",
       "\n",
       "    .dataframe tbody tr th {\n",
       "        vertical-align: top;\n",
       "    }\n",
       "</style>\n",
       "<table border=\"1\" class=\"dataframe\">\n",
       "  <thead>\n",
       "    <tr>\n",
       "      <th></th>\n",
       "      <th>Value_Group</th>\n",
       "      <th colspan=\"4\" halign=\"left\">total_transaction_amt</th>\n",
       "    </tr>\n",
       "    <tr>\n",
       "      <th></th>\n",
       "      <th></th>\n",
       "      <th>median</th>\n",
       "      <th>mean</th>\n",
       "      <th>max</th>\n",
       "      <th>min</th>\n",
       "    </tr>\n",
       "  </thead>\n",
       "  <tbody>\n",
       "    <tr>\n",
       "      <th>0</th>\n",
       "      <td>Good</td>\n",
       "      <td>133.38</td>\n",
       "      <td>228.313258</td>\n",
       "      <td>810412.37</td>\n",
       "      <td>-480522.12</td>\n",
       "    </tr>\n",
       "    <tr>\n",
       "      <th>1</th>\n",
       "      <td>High</td>\n",
       "      <td>434.81</td>\n",
       "      <td>632.181535</td>\n",
       "      <td>1002469.42</td>\n",
       "      <td>-3175.00</td>\n",
       "    </tr>\n",
       "    <tr>\n",
       "      <th>2</th>\n",
       "      <td>Low</td>\n",
       "      <td>30.80</td>\n",
       "      <td>60.273584</td>\n",
       "      <td>70092.41</td>\n",
       "      <td>-3552.85</td>\n",
       "    </tr>\n",
       "  </tbody>\n",
       "</table>\n",
       "</div>"
      ],
      "text/plain": [
       "  Value_Group total_transaction_amt                                   \n",
       "                             median        mean         max        min\n",
       "0        Good                133.38  228.313258   810412.37 -480522.12\n",
       "1        High                434.81  632.181535  1002469.42   -3175.00\n",
       "2         Low                 30.80   60.273584    70092.41   -3552.85"
      ]
     },
     "execution_count": 41,
     "metadata": {},
     "output_type": "execute_result"
    }
   ],
   "source": [
    "summary_Q4_Segment_by_HML"
   ]
  },
  {
   "cell_type": "code",
   "execution_count": null,
   "metadata": {
    "collapsed": true
   },
   "outputs": [],
   "source": []
  }
 ],
 "metadata": {
  "kernelspec": {
   "display_name": "Python 3",
   "language": "python",
   "name": "python3"
  },
  "language_info": {
   "codemirror_mode": {
    "name": "ipython",
    "version": 3
   },
   "file_extension": ".py",
   "mimetype": "text/x-python",
   "name": "python",
   "nbconvert_exporter": "python",
   "pygments_lexer": "ipython3",
   "version": "3.6.1"
  }
 },
 "nbformat": 4,
 "nbformat_minor": 2
}
