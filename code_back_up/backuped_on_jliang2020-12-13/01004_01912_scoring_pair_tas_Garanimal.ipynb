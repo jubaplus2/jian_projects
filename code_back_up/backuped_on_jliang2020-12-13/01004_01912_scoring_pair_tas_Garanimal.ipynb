{
 "cells": [
  {
   "cell_type": "code",
   "execution_count": 10,
   "metadata": {},
   "outputs": [
    {
     "data": {
      "text/plain": [
       "'/home/jian/Projects/Garanimal'"
      ]
     },
     "execution_count": 10,
     "metadata": {},
     "output_type": "execute_result"
    }
   ],
   "source": [
    "# not final version\n",
    "\n",
    "import pandas as pd\n",
    "import numpy as np\n",
    "import datetime\n",
    "import os\n",
    "import gc\n",
    "os.getcwd()"
   ]
  },
  {
   "cell_type": "code",
   "execution_count": 11,
   "metadata": {},
   "outputs": [
    {
     "data": {
      "text/plain": [
       "['Sales by Zip Code',\n",
       " 'histagram kid by store',\n",
       " '10 mile zip',\n",
       " 'histogram kid by TA',\n",
       " 'Store_View',\n",
       " 'TA_View',\n",
       " 'controltest',\n",
       " 'Sheet6']"
      ]
     },
     "execution_count": 11,
     "metadata": {},
     "output_type": "execute_result"
    }
   ],
   "source": [
    "df_input=pd.ExcelFile(\"./Garanimals_Sales_Analysis_JC_1105.xlsx\")\n",
    "df_input.sheet_names"
   ]
  },
  {
   "cell_type": "code",
   "execution_count": 12,
   "metadata": {},
   "outputs": [
    {
     "data": {
      "text/html": [
       "<div>\n",
       "<style scoped>\n",
       "    .dataframe tbody tr th:only-of-type {\n",
       "        vertical-align: middle;\n",
       "    }\n",
       "\n",
       "    .dataframe tbody tr th {\n",
       "        vertical-align: top;\n",
       "    }\n",
       "\n",
       "    .dataframe thead th {\n",
       "        text-align: right;\n",
       "    }\n",
       "</style>\n",
       "<table border=\"1\" class=\"dataframe\">\n",
       "  <thead>\n",
       "    <tr style=\"text-align: right;\">\n",
       "      <th></th>\n",
       "      <th>TA</th>\n",
       "      <th>Zip only in 1 TA</th>\n",
       "      <th>Total zip</th>\n",
       "      <th>#zip overlap in other TA</th>\n",
       "      <th>overlap rate</th>\n",
       "      <th>store_count</th>\n",
       "      <th>zip_count</th>\n",
       "      <th>Kid_Sales_Tier</th>\n",
       "      <th>Zip avg- % to Total Sales *100</th>\n",
       "      <th>kids_0_9_census</th>\n",
       "    </tr>\n",
       "  </thead>\n",
       "  <tbody>\n",
       "    <tr>\n",
       "      <th>0</th>\n",
       "      <td>6</td>\n",
       "      <td>161</td>\n",
       "      <td>161</td>\n",
       "      <td>0</td>\n",
       "      <td>0.0</td>\n",
       "      <td>22</td>\n",
       "      <td>161</td>\n",
       "      <td>H1</td>\n",
       "      <td>0.805756</td>\n",
       "      <td>404340.0</td>\n",
       "    </tr>\n",
       "    <tr>\n",
       "      <th>1</th>\n",
       "      <td>185</td>\n",
       "      <td>9</td>\n",
       "      <td>9</td>\n",
       "      <td>0</td>\n",
       "      <td>0.0</td>\n",
       "      <td>3</td>\n",
       "      <td>9</td>\n",
       "      <td>M4</td>\n",
       "      <td>0.012066</td>\n",
       "      <td>3200.0</td>\n",
       "    </tr>\n",
       "  </tbody>\n",
       "</table>\n",
       "</div>"
      ],
      "text/plain": [
       "    TA  Zip only in 1 TA  Total zip  #zip overlap in other TA  overlap rate  \\\n",
       "0    6               161        161                         0           0.0   \n",
       "1  185                 9          9                         0           0.0   \n",
       "\n",
       "   store_count  zip_count Kid_Sales_Tier  Zip avg- % to Total Sales *100  \\\n",
       "0           22        161             H1                        0.805756   \n",
       "1            3          9             M4                        0.012066   \n",
       "\n",
       "   kids_0_9_census  \n",
       "0         404340.0  \n",
       "1           3200.0  "
      ]
     },
     "execution_count": 12,
     "metadata": {},
     "output_type": "execute_result"
    }
   ],
   "source": [
    "df_input=df_input.parse(\"Sheet6\")\n",
    "df_input.head(2)"
   ]
  },
  {
   "cell_type": "code",
   "execution_count": 13,
   "metadata": {},
   "outputs": [
    {
     "data": {
      "text/plain": [
       "(614, 6)"
      ]
     },
     "execution_count": 13,
     "metadata": {},
     "output_type": "execute_result"
    }
   ],
   "source": [
    "df_input=df_input[df_input['overlap rate']<=0.05]\n",
    "df_input=df_input[df_input['Kid_Sales_Tier'].isin(['H1','M2','M3'])]\n",
    "df_input=df_input.rename(columns={\"Zip avg- % to Total Sales *100\":\"sales_field\"})\n",
    "df_input=df_input[['TA','store_count','zip_count','Kid_Sales_Tier','sales_field','kids_0_9_census']]\n",
    "df_input.shape"
   ]
  },
  {
   "cell_type": "code",
   "execution_count": 14,
   "metadata": {
    "collapsed": true
   },
   "outputs": [],
   "source": [
    "df_input_H1=df_input[df_input['Kid_Sales_Tier']==\"H1\"]\n",
    "df_input_M23=df_input[(df_input['Kid_Sales_Tier']==\"M2\") | (df_input['Kid_Sales_Tier']==\"M3\")]"
   ]
  },
  {
   "cell_type": "code",
   "execution_count": 15,
   "metadata": {
    "collapsed": true
   },
   "outputs": [],
   "source": [
    "dict_1_store_count=df_input.set_index(\"TA\").to_dict()[\"store_count\"]\n",
    "dict_2_zip_count=df_input.set_index(\"TA\").to_dict()[\"zip_count\"]\n",
    "dict_3_sales_field=df_input.set_index(\"TA\").to_dict()[\"sales_field\"]\n",
    "dict_4_kid=df_input.set_index(\"TA\").to_dict()[\"kids_0_9_census\"]\n",
    "\n",
    "list_ta_H1=df_input_H1['TA'].tolist()\n",
    "list_ta_M23=df_input_M23['TA'].tolist()\n"
   ]
  },
  {
   "cell_type": "code",
   "execution_count": 16,
   "metadata": {},
   "outputs": [
    {
     "data": {
      "text/plain": [
       "'\\n1. The some count of TAs combined: 1 to 1; 2 to 2; 3 to 3\\n2. Absolute % difference sum\\n'"
      ]
     },
     "execution_count": 16,
     "metadata": {},
     "output_type": "execute_result"
    }
   ],
   "source": [
    "# Rules\n",
    "'''\n",
    "1. The some count of TAs combined: 1 to 1; 2 to 2; 3 to 3\n",
    "2. Absolute % difference sum\n",
    "'''"
   ]
  },
  {
   "cell_type": "markdown",
   "metadata": {},
   "source": [
    "# H1"
   ]
  },
  {
   "cell_type": "code",
   "execution_count": 23,
   "metadata": {
    "collapsed": true
   },
   "outputs": [],
   "source": [
    "# 1. no combination\n",
    "df_input_H1_copy_1=df_input_H1.copy()\n",
    "df_input_H1_copy_2=df_input_H1.copy()\n",
    "cols=df_input_H1.columns.tolist()\n",
    "cols_new=[]\n",
    "for col in cols:\n",
    "    cols_new.append(col+\"_A\")\n",
    "    cols_new.append(col+\"_B\")\n",
    "\n",
    "for col in df_input_H1_copy_1.columns.tolist():\n",
    "    df_input_H1_copy_1=df_input_H1_copy_1.rename(columns={col:col+\"_A\"})\n",
    "    df_input_H1_copy_2=df_input_H1_copy_2.rename(columns={col:col+\"_B\"})\n",
    "    \n",
    "df_input_H1_copy_1['key']=1\n",
    "df_input_H1_copy_2['key']=1\n",
    "\n",
    "df_input_H1_1_set=pd.merge(df_input_H1_copy_1,df_input_H1_copy_2,on=\"key\",how=\"outer\")\n",
    "df_input_H1_1_set=df_input_H1_1_set[cols_new]\n",
    "df_input_H1_1_set=df_input_H1_1_set[df_input_H1_1_set['TA_A']!=df_input_H1_1_set['TA_B']]\n",
    "df_input_H1_1_set=df_input_H1_1_set[(df_input_H1_1_set['store_count_A']>=9) & (df_input_H1_1_set['store_count_B']>=9)]\n",
    "del df_input_H1_1_set['Kid_Sales_Tier_A']\n",
    "del df_input_H1_1_set['Kid_Sales_Tier_B']\n",
    "\n",
    "cols_metrics=[x for x in cols if x not in ['TA','Kid_Sales_Tier']]\n",
    "df_input_H1_1_set.head(2)\n",
    "# df_input_H1_1_set['score_1']=0\n",
    "for col_calulate in cols_metrics:\n",
    "    df_input_H1_1_set['diff_'+col_calulate]=df_input_H1_1_set[col_calulate+\"_A\"]/df_input_H1_1_set[col_calulate+\"_B\"]-1\n",
    "    df_input_H1_1_set['diff_'+col_calulate]=df_input_H1_1_set['diff_'+col_calulate].apply(abs)\n",
    "'''\n",
    "    if \"count\" in col_calulate:\n",
    "        df_input_H1_1_set['score_1']=df_input_H1_1_set['score_1']+df_input_H1_1_set['diff_'+col_calulate]*0.1667/2\n",
    "    else:\n",
    "        df_input_H1_1_set['score_1']=df_input_H1_1_set['score_1']+df_input_H1_1_set['diff_'+col_calulate]*0.3333\n",
    "'''\n",
    "\n",
    "df_input_H1_1_set['score_1']=df_input_H1_1_set['diff_sales_field']*0.5+df_input_H1_1_set['diff_kids_0_9_census']*0.35+df_input_H1_1_set['diff_zip_count']*0.15\n",
    "\n",
    "df_input_H1_1_set=df_input_H1_1_set.sort_values(\"score_1\")"
   ]
  },
  {
   "cell_type": "code",
   "execution_count": 24,
   "metadata": {},
   "outputs": [
    {
     "data": {
      "text/html": [
       "<div>\n",
       "<style scoped>\n",
       "    .dataframe tbody tr th:only-of-type {\n",
       "        vertical-align: middle;\n",
       "    }\n",
       "\n",
       "    .dataframe tbody tr th {\n",
       "        vertical-align: top;\n",
       "    }\n",
       "\n",
       "    .dataframe thead th {\n",
       "        text-align: right;\n",
       "    }\n",
       "</style>\n",
       "<table border=\"1\" class=\"dataframe\">\n",
       "  <thead>\n",
       "    <tr style=\"text-align: right;\">\n",
       "      <th></th>\n",
       "      <th>TA_A</th>\n",
       "      <th>TA_B</th>\n",
       "      <th>store_count_A</th>\n",
       "      <th>store_count_B</th>\n",
       "      <th>zip_count_A</th>\n",
       "      <th>zip_count_B</th>\n",
       "      <th>sales_field_A</th>\n",
       "      <th>sales_field_B</th>\n",
       "      <th>kids_0_9_census_A</th>\n",
       "      <th>kids_0_9_census_B</th>\n",
       "      <th>diff_store_count</th>\n",
       "      <th>diff_zip_count</th>\n",
       "      <th>diff_sales_field</th>\n",
       "      <th>diff_kids_0_9_census</th>\n",
       "      <th>score_1</th>\n",
       "    </tr>\n",
       "  </thead>\n",
       "  <tbody>\n",
       "    <tr>\n",
       "      <th>0</th>\n",
       "      <td>63</td>\n",
       "      <td>61</td>\n",
       "      <td>9</td>\n",
       "      <td>9</td>\n",
       "      <td>35</td>\n",
       "      <td>48</td>\n",
       "      <td>0.239395</td>\n",
       "      <td>0.238364</td>\n",
       "      <td>65881.687991</td>\n",
       "      <td>62755.286620</td>\n",
       "      <td>0.0</td>\n",
       "      <td>0.270833</td>\n",
       "      <td>0.004325</td>\n",
       "      <td>0.049819</td>\n",
       "      <td>0.060224</td>\n",
       "    </tr>\n",
       "    <tr>\n",
       "      <th>1</th>\n",
       "      <td>61</td>\n",
       "      <td>63</td>\n",
       "      <td>9</td>\n",
       "      <td>9</td>\n",
       "      <td>48</td>\n",
       "      <td>35</td>\n",
       "      <td>0.238364</td>\n",
       "      <td>0.239395</td>\n",
       "      <td>62755.286620</td>\n",
       "      <td>65881.687991</td>\n",
       "      <td>0.0</td>\n",
       "      <td>0.371429</td>\n",
       "      <td>0.004307</td>\n",
       "      <td>0.047455</td>\n",
       "      <td>0.074477</td>\n",
       "    </tr>\n",
       "    <tr>\n",
       "      <th>2</th>\n",
       "      <td>56</td>\n",
       "      <td>53</td>\n",
       "      <td>10</td>\n",
       "      <td>10</td>\n",
       "      <td>54</td>\n",
       "      <td>62</td>\n",
       "      <td>0.208467</td>\n",
       "      <td>0.220456</td>\n",
       "      <td>82529.000000</td>\n",
       "      <td>92097.000000</td>\n",
       "      <td>0.0</td>\n",
       "      <td>0.129032</td>\n",
       "      <td>0.054383</td>\n",
       "      <td>0.103890</td>\n",
       "      <td>0.082908</td>\n",
       "    </tr>\n",
       "    <tr>\n",
       "      <th>3</th>\n",
       "      <td>53</td>\n",
       "      <td>56</td>\n",
       "      <td>10</td>\n",
       "      <td>10</td>\n",
       "      <td>62</td>\n",
       "      <td>54</td>\n",
       "      <td>0.220456</td>\n",
       "      <td>0.208467</td>\n",
       "      <td>92097.000000</td>\n",
       "      <td>82529.000000</td>\n",
       "      <td>0.0</td>\n",
       "      <td>0.148148</td>\n",
       "      <td>0.057510</td>\n",
       "      <td>0.115935</td>\n",
       "      <td>0.091555</td>\n",
       "    </tr>\n",
       "    <tr>\n",
       "      <th>4</th>\n",
       "      <td>44</td>\n",
       "      <td>48</td>\n",
       "      <td>11</td>\n",
       "      <td>11</td>\n",
       "      <td>62</td>\n",
       "      <td>54</td>\n",
       "      <td>0.267459</td>\n",
       "      <td>0.271779</td>\n",
       "      <td>68059.000000</td>\n",
       "      <td>84208.000000</td>\n",
       "      <td>0.0</td>\n",
       "      <td>0.148148</td>\n",
       "      <td>0.015896</td>\n",
       "      <td>0.191775</td>\n",
       "      <td>0.097292</td>\n",
       "    </tr>\n",
       "    <tr>\n",
       "      <th>5</th>\n",
       "      <td>45</td>\n",
       "      <td>44</td>\n",
       "      <td>11</td>\n",
       "      <td>11</td>\n",
       "      <td>47</td>\n",
       "      <td>62</td>\n",
       "      <td>0.236397</td>\n",
       "      <td>0.267459</td>\n",
       "      <td>67472.000000</td>\n",
       "      <td>68059.000000</td>\n",
       "      <td>0.0</td>\n",
       "      <td>0.241935</td>\n",
       "      <td>0.116139</td>\n",
       "      <td>0.008625</td>\n",
       "      <td>0.097379</td>\n",
       "    </tr>\n",
       "    <tr>\n",
       "      <th>6</th>\n",
       "      <td>52</td>\n",
       "      <td>54</td>\n",
       "      <td>10</td>\n",
       "      <td>10</td>\n",
       "      <td>79</td>\n",
       "      <td>61</td>\n",
       "      <td>0.467516</td>\n",
       "      <td>0.463208</td>\n",
       "      <td>155928.370991</td>\n",
       "      <td>186751.000000</td>\n",
       "      <td>0.0</td>\n",
       "      <td>0.295082</td>\n",
       "      <td>0.009301</td>\n",
       "      <td>0.165047</td>\n",
       "      <td>0.106679</td>\n",
       "    </tr>\n",
       "    <tr>\n",
       "      <th>7</th>\n",
       "      <td>54</td>\n",
       "      <td>52</td>\n",
       "      <td>10</td>\n",
       "      <td>10</td>\n",
       "      <td>61</td>\n",
       "      <td>79</td>\n",
       "      <td>0.463208</td>\n",
       "      <td>0.467516</td>\n",
       "      <td>186751.000000</td>\n",
       "      <td>155928.370991</td>\n",
       "      <td>0.0</td>\n",
       "      <td>0.227848</td>\n",
       "      <td>0.009215</td>\n",
       "      <td>0.197672</td>\n",
       "      <td>0.107970</td>\n",
       "    </tr>\n",
       "    <tr>\n",
       "      <th>8</th>\n",
       "      <td>48</td>\n",
       "      <td>44</td>\n",
       "      <td>11</td>\n",
       "      <td>11</td>\n",
       "      <td>54</td>\n",
       "      <td>62</td>\n",
       "      <td>0.271779</td>\n",
       "      <td>0.267459</td>\n",
       "      <td>84208.000000</td>\n",
       "      <td>68059.000000</td>\n",
       "      <td>0.0</td>\n",
       "      <td>0.129032</td>\n",
       "      <td>0.016153</td>\n",
       "      <td>0.237279</td>\n",
       "      <td>0.110479</td>\n",
       "    </tr>\n",
       "    <tr>\n",
       "      <th>9</th>\n",
       "      <td>44</td>\n",
       "      <td>45</td>\n",
       "      <td>11</td>\n",
       "      <td>11</td>\n",
       "      <td>62</td>\n",
       "      <td>47</td>\n",
       "      <td>0.267459</td>\n",
       "      <td>0.236397</td>\n",
       "      <td>68059.000000</td>\n",
       "      <td>67472.000000</td>\n",
       "      <td>0.0</td>\n",
       "      <td>0.319149</td>\n",
       "      <td>0.131400</td>\n",
       "      <td>0.008700</td>\n",
       "      <td>0.116617</td>\n",
       "    </tr>\n",
       "    <tr>\n",
       "      <th>10</th>\n",
       "      <td>59</td>\n",
       "      <td>61</td>\n",
       "      <td>9</td>\n",
       "      <td>9</td>\n",
       "      <td>48</td>\n",
       "      <td>48</td>\n",
       "      <td>0.184458</td>\n",
       "      <td>0.238364</td>\n",
       "      <td>63687.000000</td>\n",
       "      <td>62755.286620</td>\n",
       "      <td>0.0</td>\n",
       "      <td>0.000000</td>\n",
       "      <td>0.226151</td>\n",
       "      <td>0.014847</td>\n",
       "      <td>0.118272</td>\n",
       "    </tr>\n",
       "    <tr>\n",
       "      <th>11</th>\n",
       "      <td>63</td>\n",
       "      <td>60</td>\n",
       "      <td>9</td>\n",
       "      <td>9</td>\n",
       "      <td>35</td>\n",
       "      <td>29</td>\n",
       "      <td>0.239395</td>\n",
       "      <td>0.278987</td>\n",
       "      <td>65881.687991</td>\n",
       "      <td>69403.000000</td>\n",
       "      <td>0.0</td>\n",
       "      <td>0.206897</td>\n",
       "      <td>0.141912</td>\n",
       "      <td>0.050737</td>\n",
       "      <td>0.119749</td>\n",
       "    </tr>\n",
       "    <tr>\n",
       "      <th>12</th>\n",
       "      <td>56</td>\n",
       "      <td>58</td>\n",
       "      <td>10</td>\n",
       "      <td>10</td>\n",
       "      <td>54</td>\n",
       "      <td>80</td>\n",
       "      <td>0.208467</td>\n",
       "      <td>0.216643</td>\n",
       "      <td>82529.000000</td>\n",
       "      <td>71700.951386</td>\n",
       "      <td>0.0</td>\n",
       "      <td>0.325000</td>\n",
       "      <td>0.037740</td>\n",
       "      <td>0.151017</td>\n",
       "      <td>0.120476</td>\n",
       "    </tr>\n",
       "    <tr>\n",
       "      <th>13</th>\n",
       "      <td>60</td>\n",
       "      <td>63</td>\n",
       "      <td>9</td>\n",
       "      <td>9</td>\n",
       "      <td>29</td>\n",
       "      <td>35</td>\n",
       "      <td>0.278987</td>\n",
       "      <td>0.239395</td>\n",
       "      <td>69403.000000</td>\n",
       "      <td>65881.687991</td>\n",
       "      <td>0.0</td>\n",
       "      <td>0.171429</td>\n",
       "      <td>0.165382</td>\n",
       "      <td>0.053449</td>\n",
       "      <td>0.127113</td>\n",
       "    </tr>\n",
       "    <tr>\n",
       "      <th>14</th>\n",
       "      <td>58</td>\n",
       "      <td>53</td>\n",
       "      <td>10</td>\n",
       "      <td>10</td>\n",
       "      <td>80</td>\n",
       "      <td>62</td>\n",
       "      <td>0.216643</td>\n",
       "      <td>0.220456</td>\n",
       "      <td>71700.951386</td>\n",
       "      <td>92097.000000</td>\n",
       "      <td>0.0</td>\n",
       "      <td>0.290323</td>\n",
       "      <td>0.017295</td>\n",
       "      <td>0.221463</td>\n",
       "      <td>0.129708</td>\n",
       "    </tr>\n",
       "    <tr>\n",
       "      <th>15</th>\n",
       "      <td>39</td>\n",
       "      <td>41</td>\n",
       "      <td>12</td>\n",
       "      <td>12</td>\n",
       "      <td>65</td>\n",
       "      <td>71</td>\n",
       "      <td>0.291723</td>\n",
       "      <td>0.322649</td>\n",
       "      <td>97006.614770</td>\n",
       "      <td>121756.000000</td>\n",
       "      <td>0.0</td>\n",
       "      <td>0.084507</td>\n",
       "      <td>0.095849</td>\n",
       "      <td>0.203270</td>\n",
       "      <td>0.131745</td>\n",
       "    </tr>\n",
       "    <tr>\n",
       "      <th>16</th>\n",
       "      <td>16</td>\n",
       "      <td>17</td>\n",
       "      <td>18</td>\n",
       "      <td>18</td>\n",
       "      <td>97</td>\n",
       "      <td>94</td>\n",
       "      <td>0.453950</td>\n",
       "      <td>0.543559</td>\n",
       "      <td>168256.000000</td>\n",
       "      <td>193968.000000</td>\n",
       "      <td>0.0</td>\n",
       "      <td>0.031915</td>\n",
       "      <td>0.164857</td>\n",
       "      <td>0.132558</td>\n",
       "      <td>0.133611</td>\n",
       "    </tr>\n",
       "    <tr>\n",
       "      <th>17</th>\n",
       "      <td>50</td>\n",
       "      <td>53</td>\n",
       "      <td>10</td>\n",
       "      <td>10</td>\n",
       "      <td>42</td>\n",
       "      <td>62</td>\n",
       "      <td>0.252988</td>\n",
       "      <td>0.220456</td>\n",
       "      <td>88787.014364</td>\n",
       "      <td>92097.000000</td>\n",
       "      <td>0.0</td>\n",
       "      <td>0.322581</td>\n",
       "      <td>0.147568</td>\n",
       "      <td>0.035940</td>\n",
       "      <td>0.134750</td>\n",
       "    </tr>\n",
       "    <tr>\n",
       "      <th>18</th>\n",
       "      <td>23</td>\n",
       "      <td>29</td>\n",
       "      <td>16</td>\n",
       "      <td>16</td>\n",
       "      <td>66</td>\n",
       "      <td>108</td>\n",
       "      <td>0.517421</td>\n",
       "      <td>0.481829</td>\n",
       "      <td>159839.000000</td>\n",
       "      <td>143124.000000</td>\n",
       "      <td>0.0</td>\n",
       "      <td>0.388889</td>\n",
       "      <td>0.073869</td>\n",
       "      <td>0.116787</td>\n",
       "      <td>0.136143</td>\n",
       "    </tr>\n",
       "    <tr>\n",
       "      <th>19</th>\n",
       "      <td>48</td>\n",
       "      <td>43</td>\n",
       "      <td>11</td>\n",
       "      <td>11</td>\n",
       "      <td>54</td>\n",
       "      <td>54</td>\n",
       "      <td>0.271779</td>\n",
       "      <td>0.316756</td>\n",
       "      <td>84208.000000</td>\n",
       "      <td>103684.000000</td>\n",
       "      <td>0.0</td>\n",
       "      <td>0.000000</td>\n",
       "      <td>0.141992</td>\n",
       "      <td>0.187840</td>\n",
       "      <td>0.136740</td>\n",
       "    </tr>\n",
       "  </tbody>\n",
       "</table>\n",
       "</div>"
      ],
      "text/plain": [
       "    TA_A  TA_B  store_count_A  store_count_B  zip_count_A  zip_count_B  \\\n",
       "0     63    61              9              9           35           48   \n",
       "1     61    63              9              9           48           35   \n",
       "2     56    53             10             10           54           62   \n",
       "3     53    56             10             10           62           54   \n",
       "4     44    48             11             11           62           54   \n",
       "5     45    44             11             11           47           62   \n",
       "6     52    54             10             10           79           61   \n",
       "7     54    52             10             10           61           79   \n",
       "8     48    44             11             11           54           62   \n",
       "9     44    45             11             11           62           47   \n",
       "10    59    61              9              9           48           48   \n",
       "11    63    60              9              9           35           29   \n",
       "12    56    58             10             10           54           80   \n",
       "13    60    63              9              9           29           35   \n",
       "14    58    53             10             10           80           62   \n",
       "15    39    41             12             12           65           71   \n",
       "16    16    17             18             18           97           94   \n",
       "17    50    53             10             10           42           62   \n",
       "18    23    29             16             16           66          108   \n",
       "19    48    43             11             11           54           54   \n",
       "\n",
       "    sales_field_A  sales_field_B  kids_0_9_census_A  kids_0_9_census_B  \\\n",
       "0        0.239395       0.238364       65881.687991       62755.286620   \n",
       "1        0.238364       0.239395       62755.286620       65881.687991   \n",
       "2        0.208467       0.220456       82529.000000       92097.000000   \n",
       "3        0.220456       0.208467       92097.000000       82529.000000   \n",
       "4        0.267459       0.271779       68059.000000       84208.000000   \n",
       "5        0.236397       0.267459       67472.000000       68059.000000   \n",
       "6        0.467516       0.463208      155928.370991      186751.000000   \n",
       "7        0.463208       0.467516      186751.000000      155928.370991   \n",
       "8        0.271779       0.267459       84208.000000       68059.000000   \n",
       "9        0.267459       0.236397       68059.000000       67472.000000   \n",
       "10       0.184458       0.238364       63687.000000       62755.286620   \n",
       "11       0.239395       0.278987       65881.687991       69403.000000   \n",
       "12       0.208467       0.216643       82529.000000       71700.951386   \n",
       "13       0.278987       0.239395       69403.000000       65881.687991   \n",
       "14       0.216643       0.220456       71700.951386       92097.000000   \n",
       "15       0.291723       0.322649       97006.614770      121756.000000   \n",
       "16       0.453950       0.543559      168256.000000      193968.000000   \n",
       "17       0.252988       0.220456       88787.014364       92097.000000   \n",
       "18       0.517421       0.481829      159839.000000      143124.000000   \n",
       "19       0.271779       0.316756       84208.000000      103684.000000   \n",
       "\n",
       "    diff_store_count  diff_zip_count  diff_sales_field  diff_kids_0_9_census  \\\n",
       "0                0.0        0.270833          0.004325              0.049819   \n",
       "1                0.0        0.371429          0.004307              0.047455   \n",
       "2                0.0        0.129032          0.054383              0.103890   \n",
       "3                0.0        0.148148          0.057510              0.115935   \n",
       "4                0.0        0.148148          0.015896              0.191775   \n",
       "5                0.0        0.241935          0.116139              0.008625   \n",
       "6                0.0        0.295082          0.009301              0.165047   \n",
       "7                0.0        0.227848          0.009215              0.197672   \n",
       "8                0.0        0.129032          0.016153              0.237279   \n",
       "9                0.0        0.319149          0.131400              0.008700   \n",
       "10               0.0        0.000000          0.226151              0.014847   \n",
       "11               0.0        0.206897          0.141912              0.050737   \n",
       "12               0.0        0.325000          0.037740              0.151017   \n",
       "13               0.0        0.171429          0.165382              0.053449   \n",
       "14               0.0        0.290323          0.017295              0.221463   \n",
       "15               0.0        0.084507          0.095849              0.203270   \n",
       "16               0.0        0.031915          0.164857              0.132558   \n",
       "17               0.0        0.322581          0.147568              0.035940   \n",
       "18               0.0        0.388889          0.073869              0.116787   \n",
       "19               0.0        0.000000          0.141992              0.187840   \n",
       "\n",
       "     score_1  \n",
       "0   0.060224  \n",
       "1   0.074477  \n",
       "2   0.082908  \n",
       "3   0.091555  \n",
       "4   0.097292  \n",
       "5   0.097379  \n",
       "6   0.106679  \n",
       "7   0.107970  \n",
       "8   0.110479  \n",
       "9   0.116617  \n",
       "10  0.118272  \n",
       "11  0.119749  \n",
       "12  0.120476  \n",
       "13  0.127113  \n",
       "14  0.129708  \n",
       "15  0.131745  \n",
       "16  0.133611  \n",
       "17  0.134750  \n",
       "18  0.136143  \n",
       "19  0.136740  "
      ]
     },
     "execution_count": 24,
     "metadata": {},
     "output_type": "execute_result"
    }
   ],
   "source": [
    "df_test=df_input_H1_1_set[df_input_H1_1_set['store_count_A']==df_input_H1_1_set['store_count_B']]\n",
    "df_test=df_test.reset_index()\n",
    "del df_test['index']\n",
    "df_test.head(20)"
   ]
  },
  {
   "cell_type": "code",
   "execution_count": 10,
   "metadata": {},
   "outputs": [
    {
     "data": {
      "text/plain": [
       "'\\n57 43\\n61 45\\n39 35\\n# 63 61\\n'"
      ]
     },
     "execution_count": 10,
     "metadata": {},
     "output_type": "execute_result"
    }
   ],
   "source": [
    "'''\n",
    "57 43\n",
    "61 45\n",
    "39 35\n",
    "# 63 61\n",
    "'''"
   ]
  },
  {
   "cell_type": "markdown",
   "metadata": {
    "collapsed": true
   },
   "source": [
    "# M23"
   ]
  },
  {
   "cell_type": "code",
   "execution_count": 11,
   "metadata": {},
   "outputs": [
    {
     "name": "stdout",
     "output_type": "stream",
     "text": [
      "485\n",
      "df_input_M23['store_count'].max() 4\n"
     ]
    }
   ],
   "source": [
    "# Try sum 3 or 4 TAs up to good match\n",
    "# Total store range 10-13\n",
    "# Downgraded to 8-9\n",
    "\n",
    "df_input_M23=df_input_M23.sort_values(\"store_count\",ascending=False)\n",
    "M23_TA_list=df_input_M23['TA'].tolist()\n",
    "\n",
    "total_ta_len=len(M23_TA_list)\n",
    "print(total_ta_len)\n",
    "\n",
    "print(\"df_input_M23['store_count'].max()\",df_input_M23['store_count'].max())"
   ]
  },
  {
   "cell_type": "code",
   "execution_count": 12,
   "metadata": {},
   "outputs": [
    {
     "data": {
      "text/plain": [
       "485"
      ]
     },
     "execution_count": 12,
     "metadata": {},
     "output_type": "execute_result"
    }
   ],
   "source": [
    "dict_store_by_ta_M23=df_input_M23.set_index(\"TA\").to_dict()['store_count']\n",
    "len(dict_store_by_ta_M23)"
   ]
  },
  {
   "cell_type": "code",
   "execution_count": 13,
   "metadata": {},
   "outputs": [
    {
     "data": {
      "text/plain": [
       "(485, 6)"
      ]
     },
     "execution_count": 13,
     "metadata": {},
     "output_type": "execute_result"
    }
   ],
   "source": [
    "df_input_M23.shape"
   ]
  },
  {
   "cell_type": "code",
   "execution_count": 14,
   "metadata": {},
   "outputs": [
    {
     "data": {
      "text/plain": [
       "array(['M2', 'M3'], dtype=object)"
      ]
     },
     "execution_count": 14,
     "metadata": {},
     "output_type": "execute_result"
    }
   ],
   "source": [
    "df_input_M23['Kid_Sales_Tier'].unique()"
   ]
  },
  {
   "cell_type": "code",
   "execution_count": 15,
   "metadata": {},
   "outputs": [
    {
     "data": {
      "text/html": [
       "<div>\n",
       "<style scoped>\n",
       "    .dataframe tbody tr th:only-of-type {\n",
       "        vertical-align: middle;\n",
       "    }\n",
       "\n",
       "    .dataframe tbody tr th {\n",
       "        vertical-align: top;\n",
       "    }\n",
       "\n",
       "    .dataframe thead th {\n",
       "        text-align: right;\n",
       "    }\n",
       "</style>\n",
       "<table border=\"1\" class=\"dataframe\">\n",
       "  <thead>\n",
       "    <tr style=\"text-align: right;\">\n",
       "      <th></th>\n",
       "      <th>store_count</th>\n",
       "      <th>TA</th>\n",
       "    </tr>\n",
       "  </thead>\n",
       "  <tbody>\n",
       "    <tr>\n",
       "      <th>0</th>\n",
       "      <td>1</td>\n",
       "      <td>322</td>\n",
       "    </tr>\n",
       "    <tr>\n",
       "      <th>1</th>\n",
       "      <td>2</td>\n",
       "      <td>121</td>\n",
       "    </tr>\n",
       "    <tr>\n",
       "      <th>2</th>\n",
       "      <td>3</td>\n",
       "      <td>36</td>\n",
       "    </tr>\n",
       "    <tr>\n",
       "      <th>3</th>\n",
       "      <td>4</td>\n",
       "      <td>6</td>\n",
       "    </tr>\n",
       "  </tbody>\n",
       "</table>\n",
       "</div>"
      ],
      "text/plain": [
       "   store_count   TA\n",
       "0            1  322\n",
       "1            2  121\n",
       "2            3   36\n",
       "3            4    6"
      ]
     },
     "execution_count": 15,
     "metadata": {},
     "output_type": "execute_result"
    }
   ],
   "source": [
    "df_input_M23.groupby(\"store_count\")['TA'].count().to_frame().reset_index().sort_values(\"TA\",ascending=False)"
   ]
  },
  {
   "cell_type": "markdown",
   "metadata": {},
   "source": [
    "# Sum 3 TAs"
   ]
  },
  {
   "cell_type": "code",
   "execution_count": 31,
   "metadata": {},
   "outputs": [
    {
     "name": "stdout",
     "output_type": "stream",
     "text": [
      "(64, 3)\n"
     ]
    }
   ],
   "source": [
    "# For aggregating 4 tas, try sum the array (repeatable) [1,2,3,4] to 10-13 first and then split the df into 4 sets and combine\n",
    "df_1=pd.DataFrame({\"value_1\":[1,2,3,4],\"key\":[0,0,0,0]},index=[x for x in range(4)])\n",
    "df_2=pd.DataFrame({\"value_2\":[1,2,3,4],\"key\":[0,0,0,0]},index=[x for x in range(4)])\n",
    "df_3=pd.DataFrame({\"value_3\":[1,2,3,4],\"key\":[0,0,0,0]},index=[x for x in range(4)])\n",
    "\n",
    "df_comb_3=pd.merge(df_1,df_2,on=\"key\",how=\"outer\")\n",
    "df_comb_3=pd.merge(df_comb_3,df_3,on=\"key\",how=\"outer\")\n",
    "\n",
    "del df_1\n",
    "del df_2\n",
    "del df_3\n",
    "del df_comb_3['key']\n",
    "\n",
    "print(df_comb_3.shape)\n",
    "df_comb_3['sum']=df_comb_3['value_1']+df_comb_3['value_2']+df_comb_3['value_3']\n",
    "df_comb_3=df_comb_3[(df_comb_3['sum']>=8) & (df_comb_3['sum']<=12)]"
   ]
  },
  {
   "cell_type": "code",
   "execution_count": 34,
   "metadata": {
    "collapsed": true
   },
   "outputs": [],
   "source": [
    "df_comb_3['set_count']=df_comb_3[['value_1','value_2','value_3']].values.tolist()\n",
    "df_comb_3['set_count']=df_comb_3['set_count'].apply(lambda x: sorted(x)).astype(str)\n",
    "comb_count=df_comb_3['set_count'].unique().tolist()\n",
    "comb_count=[eval(x) for x in comb_count]"
   ]
  },
  {
   "cell_type": "code",
   "execution_count": 43,
   "metadata": {},
   "outputs": [
    {
     "name": "stdout",
     "output_type": "stream",
     "text": [
      "322\n",
      "121\n",
      "36\n",
      "6\n"
     ]
    }
   ],
   "source": [
    "list_ta_1_store=df_input_M23[df_input_M23['store_count']==1]['TA'].tolist()\n",
    "print(len(list_ta_1_store))\n",
    "\n",
    "list_ta_2_store=df_input_M23[df_input_M23['store_count']==2]['TA'].tolist()\n",
    "print(len(list_ta_2_store))\n",
    "\n",
    "list_ta_3_store=df_input_M23[df_input_M23['store_count']==3]['TA'].tolist()\n",
    "print(len(list_ta_3_store))\n",
    "\n",
    "list_ta_4_store=df_input_M23[df_input_M23['store_count']==4]['TA'].tolist()\n",
    "print(len(list_ta_4_store))\n"
   ]
  },
  {
   "cell_type": "code",
   "execution_count": 44,
   "metadata": {},
   "outputs": [
    {
     "data": {
      "text/plain": [
       "[129, 137, 141, 116, 140, 135]"
      ]
     },
     "execution_count": 44,
     "metadata": {},
     "output_type": "execute_result"
    }
   ],
   "source": [
    "globals()[\"list_ta_\"+str(4)+\"_store\"]"
   ]
  },
  {
   "cell_type": "code",
   "execution_count": 47,
   "metadata": {},
   "outputs": [
    {
     "data": {
      "text/plain": [
       "[[1, 3, 4],\n",
       " [1, 4, 4],\n",
       " [2, 2, 4],\n",
       " [2, 3, 3],\n",
       " [2, 3, 4],\n",
       " [2, 4, 4],\n",
       " [3, 3, 3],\n",
       " [3, 3, 4],\n",
       " [3, 4, 4],\n",
       " [4, 4, 4]]"
      ]
     },
     "execution_count": 47,
     "metadata": {},
     "output_type": "execute_result"
    }
   ],
   "source": [
    "comb_count"
   ]
  },
  {
   "cell_type": "code",
   "execution_count": 46,
   "metadata": {},
   "outputs": [
    {
     "data": {
      "text/plain": [
       "412242"
      ]
     },
     "execution_count": 46,
     "metadata": {},
     "output_type": "execute_result"
    }
   ],
   "source": [
    "all_ta_pairs_3=[]\n",
    "for comb in comb_count:\n",
    "    comb_list=[[x,y,z] for x in globals()[\"list_ta_\"+str(comb[0])+\"_store\"] for y in globals()[\"list_ta_\"+str(comb[1])+\"_store\"] for z in globals()[\"list_ta_\"+str(comb[2])+\"_store\"]]\n",
    "    all_ta_pairs_3.extend(comb_list)\n",
    "len(all_ta_pairs_3)     "
   ]
  },
  {
   "cell_type": "code",
   "execution_count": 68,
   "metadata": {
    "scrolled": true
   },
   "outputs": [
    {
     "name": "stderr",
     "output_type": "stream",
     "text": [
      "/usr/local/lib/python3.6/site-packages/ipykernel_launcher.py:5: SettingWithCopyWarning: \n",
      "A value is trying to be set on a copy of a slice from a DataFrame.\n",
      "Try using .loc[row_indexer,col_indexer] = value instead\n",
      "\n",
      "See the caveats in the documentation: http://pandas.pydata.org/pandas-docs/stable/user_guide/indexing.html#returning-a-view-versus-a-copy\n",
      "  \"\"\"\n"
     ]
    },
    {
     "name": "stdout",
     "output_type": "stream",
     "text": [
      "1 2019-11-07 13:37:22.596740\n",
      "10001 2019-11-07 13:38:35.917631\n",
      "20001 2019-11-07 13:39:48.701367\n",
      "30001 2019-11-07 13:41:01.568268\n",
      "40001 2019-11-07 13:42:13.848913\n",
      "50001 2019-11-07 13:43:27.122655\n",
      "60001 2019-11-07 13:44:38.795697\n",
      "70001 2019-11-07 13:45:51.618162\n",
      "80001 2019-11-07 13:47:03.014755\n",
      "90001 2019-11-07 13:48:14.530972\n",
      "100001 2019-11-07 13:49:27.839221\n",
      "110001 2019-11-07 13:50:40.892742\n",
      "120001 2019-11-07 13:51:54.524998\n",
      "130001 2019-11-07 13:53:07.719680\n",
      "140001 2019-11-07 13:54:21.460203\n",
      "150001 2019-11-07 13:55:34.255910\n",
      "160001 2019-11-07 13:56:47.214540\n",
      "170001 2019-11-07 13:58:00.741139\n",
      "180001 2019-11-07 13:59:13.478139\n",
      "190001 2019-11-07 14:00:28.349555\n",
      "200001 2019-11-07 14:01:41.254573\n",
      "210001 2019-11-07 14:02:53.931757\n",
      "220001 2019-11-07 14:04:06.736681\n",
      "230001 2019-11-07 14:05:19.458033\n",
      "240001 2019-11-07 14:06:32.842826\n",
      "250001 2019-11-07 14:07:46.777564\n",
      "260001 2019-11-07 14:08:59.490196\n",
      "270001 2019-11-07 14:10:11.851669\n",
      "280001 2019-11-07 14:11:24.975560\n",
      "290001 2019-11-07 14:12:37.315053\n",
      "300001 2019-11-07 14:13:50.408132\n",
      "310001 2019-11-07 14:15:02.007729\n",
      "320001 2019-11-07 14:16:16.554771\n",
      "330001 2019-11-07 14:17:29.440814\n",
      "340001 2019-11-07 14:18:42.519105\n",
      "350001 2019-11-07 14:19:56.110590\n",
      "360001 2019-11-07 14:21:19.662263\n",
      "370001 2019-11-07 14:22:32.631275\n",
      "380001 2019-11-07 14:23:54.569124\n",
      "390001 2019-11-07 14:25:08.471488\n",
      "400001 2019-11-07 14:26:21.355792\n",
      "410001 2019-11-07 14:27:36.543023\n"
     ]
    },
    {
     "data": {
      "text/plain": [
       "0"
      ]
     },
     "execution_count": 68,
     "metadata": {},
     "output_type": "execute_result"
    }
   ],
   "source": [
    "list_3_df=[]\n",
    "i_counter=0\n",
    "for l in all_ta_pairs_3:\n",
    "    df=df_input_M23[df_input_M23['TA'].isin(l)]\n",
    "    df['str_ta_list']=str(l)\n",
    "    df=df.groupby(\"str_ta_list\")['store_count','zip_count','sales_field','kids_0_9_census'].sum().reset_index()\n",
    "    list_3_df.append(df)\n",
    "    i_counter+=1\n",
    "    if i_counter%10000==1:\n",
    "        print(i_counter,datetime.datetime.now())\n",
    "df_3_combination_M23=pd.concat(list_3_df)\n",
    "# del list_3_df\n",
    "gc.collect()"
   ]
  },
  {
   "cell_type": "code",
   "execution_count": 69,
   "metadata": {},
   "outputs": [
    {
     "data": {
      "text/plain": [
       "(412242, 5)"
      ]
     },
     "execution_count": 69,
     "metadata": {},
     "output_type": "execute_result"
    }
   ],
   "source": [
    "df_3_combination_M23.shape"
   ]
  },
  {
   "cell_type": "code",
   "execution_count": 70,
   "metadata": {},
   "outputs": [
    {
     "data": {
      "text/plain": [
       "'[887, 194, 129]'"
      ]
     },
     "execution_count": 70,
     "metadata": {},
     "output_type": "execute_result"
    }
   ],
   "source": [
    "df_3_combination_M23.head(2)['str_ta_list'].tolist()[0]"
   ]
  },
  {
   "cell_type": "code",
   "execution_count": 71,
   "metadata": {
    "collapsed": true
   },
   "outputs": [],
   "source": [
    "df_3_combination_M23['str_ta_list']=df_3_combination_M23['str_ta_list'].apply(lambda x: sorted(eval(x)))\n",
    "df_3_combination_M23['str_ta_list']=df_3_combination_M23['str_ta_list'].astype(str)"
   ]
  },
  {
   "cell_type": "code",
   "execution_count": 73,
   "metadata": {},
   "outputs": [
    {
     "data": {
      "text/html": [
       "<div>\n",
       "<style scoped>\n",
       "    .dataframe tbody tr th:only-of-type {\n",
       "        vertical-align: middle;\n",
       "    }\n",
       "\n",
       "    .dataframe tbody tr th {\n",
       "        vertical-align: top;\n",
       "    }\n",
       "\n",
       "    .dataframe thead th {\n",
       "        text-align: right;\n",
       "    }\n",
       "</style>\n",
       "<table border=\"1\" class=\"dataframe\">\n",
       "  <thead>\n",
       "    <tr style=\"text-align: right;\">\n",
       "      <th></th>\n",
       "      <th>index</th>\n",
       "      <th>str_ta_list</th>\n",
       "      <th>store_count</th>\n",
       "      <th>zip_count</th>\n",
       "      <th>sales_field</th>\n",
       "      <th>kids_0_9_census</th>\n",
       "    </tr>\n",
       "  </thead>\n",
       "  <tbody>\n",
       "    <tr>\n",
       "      <th>0</th>\n",
       "      <td>0</td>\n",
       "      <td>[129, 194, 887]</td>\n",
       "      <td>8</td>\n",
       "      <td>40</td>\n",
       "      <td>0.115675</td>\n",
       "      <td>24030.691289</td>\n",
       "    </tr>\n",
       "    <tr>\n",
       "      <th>1</th>\n",
       "      <td>1</td>\n",
       "      <td>[137, 194, 887]</td>\n",
       "      <td>8</td>\n",
       "      <td>31</td>\n",
       "      <td>0.089513</td>\n",
       "      <td>15671.691289</td>\n",
       "    </tr>\n",
       "  </tbody>\n",
       "</table>\n",
       "</div>"
      ],
      "text/plain": [
       "   index      str_ta_list  store_count  zip_count  sales_field  \\\n",
       "0      0  [129, 194, 887]            8         40     0.115675   \n",
       "1      1  [137, 194, 887]            8         31     0.089513   \n",
       "\n",
       "   kids_0_9_census  \n",
       "0     24030.691289  \n",
       "1     15671.691289  "
      ]
     },
     "execution_count": 73,
     "metadata": {},
     "output_type": "execute_result"
    }
   ],
   "source": [
    "df_3_combination_M23=df_3_combination_M23.reset_index()\n",
    "del df_3_combination_M23['index']\n",
    "df_3_combination_M23=df_3_combination_M23.reset_index()\n",
    "del df_3_combination_M23['index']\n",
    "\n"
   ]
  },
  {
   "cell_type": "code",
   "execution_count": 75,
   "metadata": {},
   "outputs": [
    {
     "data": {
      "text/html": [
       "<div>\n",
       "<style scoped>\n",
       "    .dataframe tbody tr th:only-of-type {\n",
       "        vertical-align: middle;\n",
       "    }\n",
       "\n",
       "    .dataframe tbody tr th {\n",
       "        vertical-align: top;\n",
       "    }\n",
       "\n",
       "    .dataframe thead th {\n",
       "        text-align: right;\n",
       "    }\n",
       "</style>\n",
       "<table border=\"1\" class=\"dataframe\">\n",
       "  <thead>\n",
       "    <tr style=\"text-align: right;\">\n",
       "      <th></th>\n",
       "      <th>str_ta_list</th>\n",
       "      <th>store_count</th>\n",
       "      <th>zip_count</th>\n",
       "      <th>sales_field</th>\n",
       "      <th>kids_0_9_census</th>\n",
       "    </tr>\n",
       "  </thead>\n",
       "  <tbody>\n",
       "    <tr>\n",
       "      <th>0</th>\n",
       "      <td>[129, 194, 887]</td>\n",
       "      <td>8</td>\n",
       "      <td>40</td>\n",
       "      <td>0.115675</td>\n",
       "      <td>24030.691289</td>\n",
       "    </tr>\n",
       "    <tr>\n",
       "      <th>1</th>\n",
       "      <td>[137, 194, 887]</td>\n",
       "      <td>8</td>\n",
       "      <td>31</td>\n",
       "      <td>0.089513</td>\n",
       "      <td>15671.691289</td>\n",
       "    </tr>\n",
       "  </tbody>\n",
       "</table>\n",
       "</div>"
      ],
      "text/plain": [
       "       str_ta_list  store_count  zip_count  sales_field  kids_0_9_census\n",
       "0  [129, 194, 887]            8         40     0.115675     24030.691289\n",
       "1  [137, 194, 887]            8         31     0.089513     15671.691289"
      ]
     },
     "execution_count": 75,
     "metadata": {},
     "output_type": "execute_result"
    }
   ],
   "source": [
    "df_3_combination_M23.head(2)"
   ]
  },
  {
   "cell_type": "code",
   "execution_count": 100,
   "metadata": {},
   "outputs": [
    {
     "data": {
      "text/html": [
       "<div>\n",
       "<style scoped>\n",
       "    .dataframe tbody tr th:only-of-type {\n",
       "        vertical-align: middle;\n",
       "    }\n",
       "\n",
       "    .dataframe tbody tr th {\n",
       "        vertical-align: top;\n",
       "    }\n",
       "\n",
       "    .dataframe thead th {\n",
       "        text-align: right;\n",
       "    }\n",
       "</style>\n",
       "<table border=\"1\" class=\"dataframe\">\n",
       "  <thead>\n",
       "    <tr style=\"text-align: right;\">\n",
       "      <th></th>\n",
       "      <th>str_ta_list_A</th>\n",
       "      <th>store_count_A</th>\n",
       "      <th>zip_count_A</th>\n",
       "      <th>sales_field_A</th>\n",
       "      <th>kids_0_9_census_A</th>\n",
       "    </tr>\n",
       "  </thead>\n",
       "  <tbody>\n",
       "    <tr>\n",
       "      <th>0</th>\n",
       "      <td>[129, 194, 887]</td>\n",
       "      <td>8</td>\n",
       "      <td>40</td>\n",
       "      <td>0.115675</td>\n",
       "      <td>24030.691289</td>\n",
       "    </tr>\n",
       "    <tr>\n",
       "      <th>1</th>\n",
       "      <td>[137, 194, 887]</td>\n",
       "      <td>8</td>\n",
       "      <td>31</td>\n",
       "      <td>0.089513</td>\n",
       "      <td>15671.691289</td>\n",
       "    </tr>\n",
       "    <tr>\n",
       "      <th>2</th>\n",
       "      <td>[141, 194, 887]</td>\n",
       "      <td>8</td>\n",
       "      <td>28</td>\n",
       "      <td>0.115208</td>\n",
       "      <td>19956.691289</td>\n",
       "    </tr>\n",
       "    <tr>\n",
       "      <th>3</th>\n",
       "      <td>[116, 194, 887]</td>\n",
       "      <td>8</td>\n",
       "      <td>46</td>\n",
       "      <td>0.102576</td>\n",
       "      <td>20808.691289</td>\n",
       "    </tr>\n",
       "    <tr>\n",
       "      <th>4</th>\n",
       "      <td>[140, 194, 887]</td>\n",
       "      <td>8</td>\n",
       "      <td>30</td>\n",
       "      <td>0.087284</td>\n",
       "      <td>16465.691289</td>\n",
       "    </tr>\n",
       "    <tr>\n",
       "      <th>...</th>\n",
       "      <td>...</td>\n",
       "      <td>...</td>\n",
       "      <td>...</td>\n",
       "      <td>...</td>\n",
       "      <td>...</td>\n",
       "    </tr>\n",
       "    <tr>\n",
       "      <th>412236</th>\n",
       "      <td>[129, 135, 135]</td>\n",
       "      <td>8</td>\n",
       "      <td>55</td>\n",
       "      <td>0.108912</td>\n",
       "      <td>30347.000000</td>\n",
       "    </tr>\n",
       "    <tr>\n",
       "      <th>412237</th>\n",
       "      <td>[135, 135, 137]</td>\n",
       "      <td>8</td>\n",
       "      <td>46</td>\n",
       "      <td>0.082749</td>\n",
       "      <td>21988.000000</td>\n",
       "    </tr>\n",
       "    <tr>\n",
       "      <th>412238</th>\n",
       "      <td>[135, 135, 141]</td>\n",
       "      <td>8</td>\n",
       "      <td>43</td>\n",
       "      <td>0.108444</td>\n",
       "      <td>26273.000000</td>\n",
       "    </tr>\n",
       "    <tr>\n",
       "      <th>412239</th>\n",
       "      <td>[116, 135, 135]</td>\n",
       "      <td>8</td>\n",
       "      <td>61</td>\n",
       "      <td>0.095813</td>\n",
       "      <td>27125.000000</td>\n",
       "    </tr>\n",
       "    <tr>\n",
       "      <th>412240</th>\n",
       "      <td>[135, 135, 140]</td>\n",
       "      <td>8</td>\n",
       "      <td>45</td>\n",
       "      <td>0.080520</td>\n",
       "      <td>22782.000000</td>\n",
       "    </tr>\n",
       "  </tbody>\n",
       "</table>\n",
       "<p>309222 rows × 5 columns</p>\n",
       "</div>"
      ],
      "text/plain": [
       "          str_ta_list_A  store_count_A  zip_count_A  sales_field_A  \\\n",
       "0       [129, 194, 887]              8           40       0.115675   \n",
       "1       [137, 194, 887]              8           31       0.089513   \n",
       "2       [141, 194, 887]              8           28       0.115208   \n",
       "3       [116, 194, 887]              8           46       0.102576   \n",
       "4       [140, 194, 887]              8           30       0.087284   \n",
       "...                 ...            ...          ...            ...   \n",
       "412236  [129, 135, 135]              8           55       0.108912   \n",
       "412237  [135, 135, 137]              8           46       0.082749   \n",
       "412238  [135, 135, 141]              8           43       0.108444   \n",
       "412239  [116, 135, 135]              8           61       0.095813   \n",
       "412240  [135, 135, 140]              8           45       0.080520   \n",
       "\n",
       "        kids_0_9_census_A  \n",
       "0            24030.691289  \n",
       "1            15671.691289  \n",
       "2            19956.691289  \n",
       "3            20808.691289  \n",
       "4            16465.691289  \n",
       "...                   ...  \n",
       "412236       30347.000000  \n",
       "412237       21988.000000  \n",
       "412238       26273.000000  \n",
       "412239       27125.000000  \n",
       "412240       22782.000000  \n",
       "\n",
       "[309222 rows x 5 columns]"
      ]
     },
     "execution_count": 100,
     "metadata": {},
     "output_type": "execute_result"
    }
   ],
   "source": [
    "df"
   ]
  },
  {
   "cell_type": "code",
   "execution_count": 124,
   "metadata": {},
   "outputs": [
    {
     "ename": "TypeError",
     "evalue": "eval() arg 1 must be a string, bytes or code object",
     "output_type": "error",
     "traceback": [
      "\u001b[0;31m---------------------------------------------------------------------------\u001b[0m",
      "\u001b[0;31mTypeError\u001b[0m                                 Traceback (most recent call last)",
      "\u001b[0;32m<ipython-input-124-c53883230b29>\u001b[0m in \u001b[0;36m<module>\u001b[0;34m()\u001b[0m\n\u001b[1;32m      8\u001b[0m                                                   \"kids_0_9_census\":\"kids_0_9_census_A\"})\n\u001b[1;32m      9\u001b[0m     \u001b[0;31m# df['str_ta_list_A']=df['str_ta_list_A'].apply(eval)\u001b[0m\u001b[0;34m\u001b[0m\u001b[0;34m\u001b[0m\u001b[0m\n\u001b[0;32m---> 10\u001b[0;31m     \u001b[0mta_B_list\u001b[0m\u001b[0;34m=\u001b[0m\u001b[0meval\u001b[0m\u001b[0;34m(\u001b[0m\u001b[0mrow\u001b[0m\u001b[0;34m[\u001b[0m\u001b[0;34m'str_ta_list'\u001b[0m\u001b[0;34m]\u001b[0m\u001b[0;34m)\u001b[0m\u001b[0;34m\u001b[0m\u001b[0m\n\u001b[0m\u001b[1;32m     11\u001b[0m \u001b[0;34m\u001b[0m\u001b[0m\n\u001b[1;32m     12\u001b[0m     \u001b[0mdf\u001b[0m\u001b[0;34m=\u001b[0m\u001b[0mdf\u001b[0m\u001b[0;34m[\u001b[0m\u001b[0mdf\u001b[0m\u001b[0;34m[\u001b[0m\u001b[0;34m'str_ta_list_A'\u001b[0m\u001b[0;34m]\u001b[0m\u001b[0;34m.\u001b[0m\u001b[0mapply\u001b[0m\u001b[0;34m(\u001b[0m\u001b[0;32mlambda\u001b[0m \u001b[0mx\u001b[0m\u001b[0;34m:\u001b[0m \u001b[0;34m(\u001b[0m\u001b[0mta_B_list\u001b[0m\u001b[0;34m[\u001b[0m\u001b[0;36m1\u001b[0m\u001b[0;34m]\u001b[0m \u001b[0;32mnot\u001b[0m \u001b[0;32min\u001b[0m \u001b[0mx\u001b[0m\u001b[0;34m)\u001b[0m \u001b[0;34m&\u001b[0m \u001b[0;34m(\u001b[0m\u001b[0mta_B_list\u001b[0m\u001b[0;34m[\u001b[0m\u001b[0;36m0\u001b[0m\u001b[0;34m]\u001b[0m \u001b[0;32mnot\u001b[0m \u001b[0;32min\u001b[0m \u001b[0mx\u001b[0m\u001b[0;34m)\u001b[0m \u001b[0;34m&\u001b[0m \u001b[0;34m(\u001b[0m\u001b[0mta_B_list\u001b[0m\u001b[0;34m[\u001b[0m\u001b[0;36m2\u001b[0m\u001b[0;34m]\u001b[0m \u001b[0;32mnot\u001b[0m \u001b[0;32min\u001b[0m \u001b[0mx\u001b[0m\u001b[0;34m)\u001b[0m\u001b[0;34m)\u001b[0m\u001b[0;34m]\u001b[0m\u001b[0;34m\u001b[0m\u001b[0m\n",
      "\u001b[0;31mTypeError\u001b[0m: eval() arg 1 must be a string, bytes or code object"
     ]
    }
   ],
   "source": [
    "df_output=pd.DataFrame()\n",
    "for ind,row in test.iterrows():\n",
    "    \n",
    "    df=test[test['store_count']==row['store_count']].rename(columns={\"str_ta_list\":\"str_ta_list_A\",\n",
    "                                                  \"store_count\":\"store_count_A\",\n",
    "                                                  \"zip_count\":\"zip_count_A\",\n",
    "                                                  \"sales_field\":\"sales_field_A\",\n",
    "                                                  \"kids_0_9_census\":\"kids_0_9_census_A\"})\n",
    "    df['str_ta_list_A']=df['str_ta_list_A'].apply(eval)\n",
    "    ta_B_list=eval(row['str_ta_list'])\n",
    "    \n",
    "    df=df[df['str_ta_list_A'].apply(lambda x: (ta_B_list[1] not in x) & (ta_B_list[0] not in x) & (ta_B_list[2] not in x))]\n",
    "    \n",
    "    df['key']=1\n",
    "    print(df.shape)\n",
    "    df_B=pd.DataFrame(row).T.rename(columns={\"str_ta_list\":\"str_ta_list_B\",\n",
    "                                                  \"store_count\":\"store_count_B\",\n",
    "                                                  \"zip_count\":\"zip_count_B\",\n",
    "                                                  \"sales_field\":\"sales_field_B\",\n",
    "                                                  \"kids_0_9_census\":\"kids_0_9_census_B\"})\n",
    "    df_B['key']=1\n",
    "    df=pd.merge(df,df_B,on=\"key\",how=\"left\")\n",
    "\n",
    "    \n",
    "    # df['diff_store_count']=abs(df['store_count_A']/df['store_count_B']-1)\n",
    "    df['diff_zip_count']=abs(df['zip_count_A']/df['zip_count_B']-1)\n",
    "    df['diff_sales_field']=abs(df['sales_field_A']/df['sales_field_B']-1)\n",
    "    df['diff_kids_0_9_census']=abs(df['kids_0_9_census_A']/df['kids_0_9_census_B']-1)\n",
    "    df['score']=df['diff_zip_count']*0.1667+df['diff_sales_field']*0.3333+df['diff_kids_0_9_census']*0.3333\n",
    "    df=df[df['score']<=0.2]\n",
    "    \n",
    "    df_output=df_output.append(df)\n",
    "    \n",
    "    if ind%100==1:\n",
    "        print(ind,datetime.datetime.now(),df_output.shape)\n"
   ]
  },
  {
   "cell_type": "code",
   "execution_count": 119,
   "metadata": {},
   "outputs": [
    {
     "data": {
      "text/html": [
       "<div>\n",
       "<style scoped>\n",
       "    .dataframe tbody tr th:only-of-type {\n",
       "        vertical-align: middle;\n",
       "    }\n",
       "\n",
       "    .dataframe tbody tr th {\n",
       "        vertical-align: top;\n",
       "    }\n",
       "\n",
       "    .dataframe thead th {\n",
       "        text-align: right;\n",
       "    }\n",
       "</style>\n",
       "<table border=\"1\" class=\"dataframe\">\n",
       "  <thead>\n",
       "    <tr style=\"text-align: right;\">\n",
       "      <th></th>\n",
       "      <th>str_ta_list_A</th>\n",
       "      <th>store_count_A</th>\n",
       "      <th>zip_count_A</th>\n",
       "      <th>sales_field_A</th>\n",
       "      <th>kids_0_9_census_A</th>\n",
       "      <th>key</th>\n",
       "      <th>str_ta_list_B</th>\n",
       "      <th>store_count_B</th>\n",
       "      <th>zip_count_B</th>\n",
       "      <th>sales_field_B</th>\n",
       "      <th>kids_0_9_census_B</th>\n",
       "      <th>diff_zip_count</th>\n",
       "      <th>diff_sales_field</th>\n",
       "      <th>diff_kids_0_9_census</th>\n",
       "      <th>score</th>\n",
       "    </tr>\n",
       "  </thead>\n",
       "  <tbody>\n",
       "    <tr>\n",
       "      <th>151883</th>\n",
       "      <td>[182, 206, 301]</td>\n",
       "      <td>8</td>\n",
       "      <td>40</td>\n",
       "      <td>0.115908</td>\n",
       "      <td>24035.000000</td>\n",
       "      <td>1</td>\n",
       "      <td>[129, 194, 887]</td>\n",
       "      <td>8</td>\n",
       "      <td>40</td>\n",
       "      <td>0.115675</td>\n",
       "      <td>24030.7</td>\n",
       "      <td>0</td>\n",
       "      <td>0.00200983</td>\n",
       "      <td>0.0001793</td>\n",
       "      <td>0.000729638</td>\n",
       "    </tr>\n",
       "    <tr>\n",
       "      <th>152181</th>\n",
       "      <td>[182, 206, 301]</td>\n",
       "      <td>8</td>\n",
       "      <td>40</td>\n",
       "      <td>0.115908</td>\n",
       "      <td>24035.000000</td>\n",
       "      <td>1</td>\n",
       "      <td>[129, 194, 887]</td>\n",
       "      <td>8</td>\n",
       "      <td>40</td>\n",
       "      <td>0.115675</td>\n",
       "      <td>24030.7</td>\n",
       "      <td>0</td>\n",
       "      <td>0.00200983</td>\n",
       "      <td>0.0001793</td>\n",
       "      <td>0.000729638</td>\n",
       "    </tr>\n",
       "    <tr>\n",
       "      <th>26002</th>\n",
       "      <td>[116, 183, 1149]</td>\n",
       "      <td>8</td>\n",
       "      <td>41</td>\n",
       "      <td>0.135051</td>\n",
       "      <td>29927.518598</td>\n",
       "      <td>1</td>\n",
       "      <td>[129, 184, 887]</td>\n",
       "      <td>8</td>\n",
       "      <td>41</td>\n",
       "      <td>0.13478</td>\n",
       "      <td>29945</td>\n",
       "      <td>0</td>\n",
       "      <td>0.00200994</td>\n",
       "      <td>0.000583784</td>\n",
       "      <td>0.000864488</td>\n",
       "    </tr>\n",
       "    <tr>\n",
       "      <th>142362</th>\n",
       "      <td>[182, 203, 321]</td>\n",
       "      <td>8</td>\n",
       "      <td>47</td>\n",
       "      <td>0.121570</td>\n",
       "      <td>26634.000000</td>\n",
       "      <td>1</td>\n",
       "      <td>[116, 184, 887]</td>\n",
       "      <td>8</td>\n",
       "      <td>47</td>\n",
       "      <td>0.121681</td>\n",
       "      <td>26723</td>\n",
       "      <td>0</td>\n",
       "      <td>0.000913783</td>\n",
       "      <td>0.00333046</td>\n",
       "      <td>0.00141461</td>\n",
       "    </tr>\n",
       "    <tr>\n",
       "      <th>142627</th>\n",
       "      <td>[182, 203, 321]</td>\n",
       "      <td>8</td>\n",
       "      <td>47</td>\n",
       "      <td>0.121570</td>\n",
       "      <td>26634.000000</td>\n",
       "      <td>1</td>\n",
       "      <td>[116, 184, 887]</td>\n",
       "      <td>8</td>\n",
       "      <td>47</td>\n",
       "      <td>0.121681</td>\n",
       "      <td>26723</td>\n",
       "      <td>0</td>\n",
       "      <td>0.000913783</td>\n",
       "      <td>0.00333046</td>\n",
       "      <td>0.00141461</td>\n",
       "    </tr>\n",
       "    <tr>\n",
       "      <th>...</th>\n",
       "      <td>...</td>\n",
       "      <td>...</td>\n",
       "      <td>...</td>\n",
       "      <td>...</td>\n",
       "      <td>...</td>\n",
       "      <td>...</td>\n",
       "      <td>...</td>\n",
       "      <td>...</td>\n",
       "      <td>...</td>\n",
       "      <td>...</td>\n",
       "      <td>...</td>\n",
       "      <td>...</td>\n",
       "      <td>...</td>\n",
       "      <td>...</td>\n",
       "      <td>...</td>\n",
       "    </tr>\n",
       "    <tr>\n",
       "      <th>229406</th>\n",
       "      <td>[175, 202, 221]</td>\n",
       "      <td>8</td>\n",
       "      <td>29</td>\n",
       "      <td>0.133258</td>\n",
       "      <td>29435.000000</td>\n",
       "      <td>1</td>\n",
       "      <td>[140, 184, 887]</td>\n",
       "      <td>8</td>\n",
       "      <td>31</td>\n",
       "      <td>0.106389</td>\n",
       "      <td>22380</td>\n",
       "      <td>0.0645161</td>\n",
       "      <td>0.252554</td>\n",
       "      <td>0.315237</td>\n",
       "      <td>0.2</td>\n",
       "    </tr>\n",
       "    <tr>\n",
       "      <th>201939</th>\n",
       "      <td>[159, 162, 289]</td>\n",
       "      <td>8</td>\n",
       "      <td>49</td>\n",
       "      <td>0.113448</td>\n",
       "      <td>28452.634014</td>\n",
       "      <td>1</td>\n",
       "      <td>[141, 184, 887]</td>\n",
       "      <td>8</td>\n",
       "      <td>29</td>\n",
       "      <td>0.134312</td>\n",
       "      <td>25871</td>\n",
       "      <td>0.689655</td>\n",
       "      <td>0.155339</td>\n",
       "      <td>0.0997887</td>\n",
       "      <td>0.2</td>\n",
       "    </tr>\n",
       "    <tr>\n",
       "      <th>202435</th>\n",
       "      <td>[159, 162, 289]</td>\n",
       "      <td>8</td>\n",
       "      <td>49</td>\n",
       "      <td>0.113448</td>\n",
       "      <td>28452.634014</td>\n",
       "      <td>1</td>\n",
       "      <td>[141, 184, 887]</td>\n",
       "      <td>8</td>\n",
       "      <td>29</td>\n",
       "      <td>0.134312</td>\n",
       "      <td>25871</td>\n",
       "      <td>0.689655</td>\n",
       "      <td>0.155339</td>\n",
       "      <td>0.0997887</td>\n",
       "      <td>0.2</td>\n",
       "    </tr>\n",
       "    <tr>\n",
       "      <th>192516</th>\n",
       "      <td>[175, 202, 333]</td>\n",
       "      <td>8</td>\n",
       "      <td>29</td>\n",
       "      <td>0.141036</td>\n",
       "      <td>36453.000000</td>\n",
       "      <td>1</td>\n",
       "      <td>[135, 184, 887]</td>\n",
       "      <td>8</td>\n",
       "      <td>46</td>\n",
       "      <td>0.123387</td>\n",
       "      <td>28654</td>\n",
       "      <td>0.369565</td>\n",
       "      <td>0.143043</td>\n",
       "      <td>0.272178</td>\n",
       "      <td>0.2</td>\n",
       "    </tr>\n",
       "    <tr>\n",
       "      <th>192748</th>\n",
       "      <td>[175, 202, 333]</td>\n",
       "      <td>8</td>\n",
       "      <td>29</td>\n",
       "      <td>0.141036</td>\n",
       "      <td>36453.000000</td>\n",
       "      <td>1</td>\n",
       "      <td>[135, 184, 887]</td>\n",
       "      <td>8</td>\n",
       "      <td>46</td>\n",
       "      <td>0.123387</td>\n",
       "      <td>28654</td>\n",
       "      <td>0.369565</td>\n",
       "      <td>0.143043</td>\n",
       "      <td>0.272178</td>\n",
       "      <td>0.2</td>\n",
       "    </tr>\n",
       "  </tbody>\n",
       "</table>\n",
       "<p>1377463 rows × 15 columns</p>\n",
       "</div>"
      ],
      "text/plain": [
       "           str_ta_list_A  store_count_A  zip_count_A  sales_field_A  \\\n",
       "151883   [182, 206, 301]              8           40       0.115908   \n",
       "152181   [182, 206, 301]              8           40       0.115908   \n",
       "26002   [116, 183, 1149]              8           41       0.135051   \n",
       "142362   [182, 203, 321]              8           47       0.121570   \n",
       "142627   [182, 203, 321]              8           47       0.121570   \n",
       "...                  ...            ...          ...            ...   \n",
       "229406   [175, 202, 221]              8           29       0.133258   \n",
       "201939   [159, 162, 289]              8           49       0.113448   \n",
       "202435   [159, 162, 289]              8           49       0.113448   \n",
       "192516   [175, 202, 333]              8           29       0.141036   \n",
       "192748   [175, 202, 333]              8           29       0.141036   \n",
       "\n",
       "        kids_0_9_census_A  key    str_ta_list_B store_count_B zip_count_B  \\\n",
       "151883       24035.000000    1  [129, 194, 887]             8          40   \n",
       "152181       24035.000000    1  [129, 194, 887]             8          40   \n",
       "26002        29927.518598    1  [129, 184, 887]             8          41   \n",
       "142362       26634.000000    1  [116, 184, 887]             8          47   \n",
       "142627       26634.000000    1  [116, 184, 887]             8          47   \n",
       "...                   ...  ...              ...           ...         ...   \n",
       "229406       29435.000000    1  [140, 184, 887]             8          31   \n",
       "201939       28452.634014    1  [141, 184, 887]             8          29   \n",
       "202435       28452.634014    1  [141, 184, 887]             8          29   \n",
       "192516       36453.000000    1  [135, 184, 887]             8          46   \n",
       "192748       36453.000000    1  [135, 184, 887]             8          46   \n",
       "\n",
       "       sales_field_B kids_0_9_census_B diff_zip_count diff_sales_field  \\\n",
       "151883      0.115675           24030.7              0       0.00200983   \n",
       "152181      0.115675           24030.7              0       0.00200983   \n",
       "26002        0.13478             29945              0       0.00200994   \n",
       "142362      0.121681             26723              0      0.000913783   \n",
       "142627      0.121681             26723              0      0.000913783   \n",
       "...              ...               ...            ...              ...   \n",
       "229406      0.106389             22380      0.0645161         0.252554   \n",
       "201939      0.134312             25871       0.689655         0.155339   \n",
       "202435      0.134312             25871       0.689655         0.155339   \n",
       "192516      0.123387             28654       0.369565         0.143043   \n",
       "192748      0.123387             28654       0.369565         0.143043   \n",
       "\n",
       "       diff_kids_0_9_census        score  \n",
       "151883            0.0001793  0.000729638  \n",
       "152181            0.0001793  0.000729638  \n",
       "26002           0.000583784  0.000864488  \n",
       "142362           0.00333046   0.00141461  \n",
       "142627           0.00333046   0.00141461  \n",
       "...                     ...          ...  \n",
       "229406             0.315237          0.2  \n",
       "201939            0.0997887          0.2  \n",
       "202435            0.0997887          0.2  \n",
       "192516             0.272178          0.2  \n",
       "192748             0.272178          0.2  \n",
       "\n",
       "[1377463 rows x 15 columns]"
      ]
     },
     "execution_count": 119,
     "metadata": {},
     "output_type": "execute_result"
    }
   ],
   "source": [
    "df_output.sort_values(\"score\")"
   ]
  },
  {
   "cell_type": "code",
   "execution_count": 120,
   "metadata": {},
   "outputs": [
    {
     "data": {
      "text/plain": [
       "(412242, 5)"
      ]
     },
     "execution_count": 120,
     "metadata": {},
     "output_type": "execute_result"
    }
   ],
   "source": [
    "df_3_combination_M23.shape"
   ]
  },
  {
   "cell_type": "code",
   "execution_count": 121,
   "metadata": {},
   "outputs": [
    {
     "data": {
      "text/html": [
       "<div>\n",
       "<style scoped>\n",
       "    .dataframe tbody tr th:only-of-type {\n",
       "        vertical-align: middle;\n",
       "    }\n",
       "\n",
       "    .dataframe tbody tr th {\n",
       "        vertical-align: top;\n",
       "    }\n",
       "\n",
       "    .dataframe thead th {\n",
       "        text-align: right;\n",
       "    }\n",
       "</style>\n",
       "<table border=\"1\" class=\"dataframe\">\n",
       "  <thead>\n",
       "    <tr style=\"text-align: right;\">\n",
       "      <th></th>\n",
       "      <th>str_ta_list</th>\n",
       "      <th>store_count</th>\n",
       "      <th>zip_count</th>\n",
       "      <th>sales_field</th>\n",
       "      <th>kids_0_9_census</th>\n",
       "    </tr>\n",
       "  </thead>\n",
       "  <tbody>\n",
       "    <tr>\n",
       "      <th>0</th>\n",
       "      <td>[129, 194, 887]</td>\n",
       "      <td>8</td>\n",
       "      <td>40</td>\n",
       "      <td>0.115675</td>\n",
       "      <td>24030.691289</td>\n",
       "    </tr>\n",
       "    <tr>\n",
       "      <th>1</th>\n",
       "      <td>[137, 194, 887]</td>\n",
       "      <td>8</td>\n",
       "      <td>31</td>\n",
       "      <td>0.089513</td>\n",
       "      <td>15671.691289</td>\n",
       "    </tr>\n",
       "  </tbody>\n",
       "</table>\n",
       "</div>"
      ],
      "text/plain": [
       "       str_ta_list  store_count  zip_count  sales_field  kids_0_9_census\n",
       "0  [129, 194, 887]            8         40     0.115675     24030.691289\n",
       "1  [137, 194, 887]            8         31     0.089513     15671.691289"
      ]
     },
     "execution_count": 121,
     "metadata": {},
     "output_type": "execute_result"
    }
   ],
   "source": [
    "# 182, 206, 301, 129, 194, 887\n",
    "# 140, 228, 267, 141, 184, 863\n",
    "# 177, 215, 347, 116, 193, 1070"
   ]
  },
  {
   "cell_type": "code",
   "execution_count": 128,
   "metadata": {
    "collapsed": true
   },
   "outputs": [],
   "source": [
    "# test=df_3_combination_M23.copy()\n",
    "test['str_ta_list']=test['str_ta_list'].apply(eval)\n",
    "test=test[test['str_ta_list'].apply(lambda x: (140 not in x) & (228 not in x) & (267 not in x) & (141 not in x) & (184 not in x) & (863 not in x))]\n",
    "test['str_ta_list']=test['str_ta_list'].astype(str)"
   ]
  },
  {
   "cell_type": "code",
   "execution_count": 129,
   "metadata": {},
   "outputs": [
    {
     "name": "stdout",
     "output_type": "stream",
     "text": [
      "(157136, 6)\n",
      "(157136, 6)\n",
      "(157136, 6)\n"
     ]
    },
    {
     "ename": "KeyboardInterrupt",
     "evalue": "",
     "output_type": "error",
     "traceback": [
      "\u001b[0;31m---------------------------------------------------------------------------\u001b[0m",
      "\u001b[0;31mKeyboardInterrupt\u001b[0m                         Traceback (most recent call last)",
      "\u001b[0;32m<ipython-input-129-6044b02c2681>\u001b[0m in \u001b[0;36m<module>\u001b[0;34m()\u001b[0m\n\u001b[1;32m      7\u001b[0m                                                   \u001b[0;34m\"sales_field\"\u001b[0m\u001b[0;34m:\u001b[0m\u001b[0;34m\"sales_field_A\"\u001b[0m\u001b[0;34m,\u001b[0m\u001b[0;34m\u001b[0m\u001b[0m\n\u001b[1;32m      8\u001b[0m                                                   \"kids_0_9_census\":\"kids_0_9_census_A\"})\n\u001b[0;32m----> 9\u001b[0;31m     \u001b[0mdf\u001b[0m\u001b[0;34m[\u001b[0m\u001b[0;34m'str_ta_list_A'\u001b[0m\u001b[0;34m]\u001b[0m\u001b[0;34m=\u001b[0m\u001b[0mdf\u001b[0m\u001b[0;34m[\u001b[0m\u001b[0;34m'str_ta_list_A'\u001b[0m\u001b[0;34m]\u001b[0m\u001b[0;34m.\u001b[0m\u001b[0mapply\u001b[0m\u001b[0;34m(\u001b[0m\u001b[0meval\u001b[0m\u001b[0;34m)\u001b[0m\u001b[0;34m\u001b[0m\u001b[0m\n\u001b[0m\u001b[1;32m     10\u001b[0m     \u001b[0mta_B_list\u001b[0m\u001b[0;34m=\u001b[0m\u001b[0meval\u001b[0m\u001b[0;34m(\u001b[0m\u001b[0mrow\u001b[0m\u001b[0;34m[\u001b[0m\u001b[0;34m'str_ta_list'\u001b[0m\u001b[0;34m]\u001b[0m\u001b[0;34m)\u001b[0m\u001b[0;34m\u001b[0m\u001b[0m\n\u001b[1;32m     11\u001b[0m \u001b[0;34m\u001b[0m\u001b[0m\n",
      "\u001b[0;32m/home/jian/.local/lib/python3.6/site-packages/pandas/core/series.py\u001b[0m in \u001b[0;36mapply\u001b[0;34m(self, func, convert_dtype, args, **kwds)\u001b[0m\n\u001b[1;32m   4043\u001b[0m             \u001b[0;32melse\u001b[0m\u001b[0;34m:\u001b[0m\u001b[0;34m\u001b[0m\u001b[0m\n\u001b[1;32m   4044\u001b[0m                 \u001b[0mvalues\u001b[0m \u001b[0;34m=\u001b[0m \u001b[0mself\u001b[0m\u001b[0;34m.\u001b[0m\u001b[0mastype\u001b[0m\u001b[0;34m(\u001b[0m\u001b[0mobject\u001b[0m\u001b[0;34m)\u001b[0m\u001b[0;34m.\u001b[0m\u001b[0mvalues\u001b[0m\u001b[0;34m\u001b[0m\u001b[0m\n\u001b[0;32m-> 4045\u001b[0;31m                 \u001b[0mmapped\u001b[0m \u001b[0;34m=\u001b[0m \u001b[0mlib\u001b[0m\u001b[0;34m.\u001b[0m\u001b[0mmap_infer\u001b[0m\u001b[0;34m(\u001b[0m\u001b[0mvalues\u001b[0m\u001b[0;34m,\u001b[0m \u001b[0mf\u001b[0m\u001b[0;34m,\u001b[0m \u001b[0mconvert\u001b[0m\u001b[0;34m=\u001b[0m\u001b[0mconvert_dtype\u001b[0m\u001b[0;34m)\u001b[0m\u001b[0;34m\u001b[0m\u001b[0m\n\u001b[0m\u001b[1;32m   4046\u001b[0m \u001b[0;34m\u001b[0m\u001b[0m\n\u001b[1;32m   4047\u001b[0m         \u001b[0;32mif\u001b[0m \u001b[0mlen\u001b[0m\u001b[0;34m(\u001b[0m\u001b[0mmapped\u001b[0m\u001b[0;34m)\u001b[0m \u001b[0;32mand\u001b[0m \u001b[0misinstance\u001b[0m\u001b[0;34m(\u001b[0m\u001b[0mmapped\u001b[0m\u001b[0;34m[\u001b[0m\u001b[0;36m0\u001b[0m\u001b[0;34m]\u001b[0m\u001b[0;34m,\u001b[0m \u001b[0mSeries\u001b[0m\u001b[0;34m)\u001b[0m\u001b[0;34m:\u001b[0m\u001b[0;34m\u001b[0m\u001b[0m\n",
      "\u001b[0;32mpandas/_libs/lib.pyx\u001b[0m in \u001b[0;36mpandas._libs.lib.map_infer\u001b[0;34m()\u001b[0m\n",
      "\u001b[0;32m/home/jian/.local/lib/python3.6/site-packages/pandas/core/series.py\u001b[0m in \u001b[0;36m<module>\u001b[0;34m()\u001b[0m\n",
      "\u001b[0;31mKeyboardInterrupt\u001b[0m: "
     ]
    }
   ],
   "source": [
    "df_output=pd.DataFrame()\n",
    "for ind,row in test.iterrows():\n",
    "    \n",
    "    df=test[test['store_count']==row['store_count']].rename(columns={\"str_ta_list\":\"str_ta_list_A\",\n",
    "                                                  \"store_count\":\"store_count_A\",\n",
    "                                                  \"zip_count\":\"zip_count_A\",\n",
    "                                                  \"sales_field\":\"sales_field_A\",\n",
    "                                                  \"kids_0_9_census\":\"kids_0_9_census_A\"})\n",
    "    df['str_ta_list_A']=df['str_ta_list_A'].apply(eval)\n",
    "    ta_B_list=eval(row['str_ta_list'])\n",
    "    \n",
    "    df=df[df['str_ta_list_A'].apply(lambda x: (ta_B_list[1] not in x) & (ta_B_list[0] not in x) & (ta_B_list[2] not in x))]\n",
    "    \n",
    "    df['key']=1\n",
    "    print(df.shape)\n",
    "    df_B=pd.DataFrame(row).T.rename(columns={\"str_ta_list\":\"str_ta_list_B\",\n",
    "                                                  \"store_count\":\"store_count_B\",\n",
    "                                                  \"zip_count\":\"zip_count_B\",\n",
    "                                                  \"sales_field\":\"sales_field_B\",\n",
    "                                                  \"kids_0_9_census\":\"kids_0_9_census_B\"})\n",
    "    df_B['key']=1\n",
    "    df=pd.merge(df,df_B,on=\"key\",how=\"left\")\n",
    "\n",
    "    \n",
    "    # df['diff_store_count']=abs(df['store_count_A']/df['store_count_B']-1)\n",
    "    df['diff_zip_count']=abs(df['zip_count_A']/df['zip_count_B']-1)\n",
    "    df['diff_sales_field']=abs(df['sales_field_A']/df['sales_field_B']-1)\n",
    "    df['diff_kids_0_9_census']=abs(df['kids_0_9_census_A']/df['kids_0_9_census_B']-1)\n",
    "    df['score']=df['diff_zip_count']*0.1667+df['diff_sales_field']*0.3333+df['diff_kids_0_9_census']*0.3333\n",
    "    df=df[df['score']<=0.2]\n",
    "    \n",
    "    df_output=df_output.append(df)\n",
    "    \n",
    "    if ind%100==1:\n",
    "        print(ind,datetime.datetime.now(),df_output.shape)\n"
   ]
  },
  {
   "cell_type": "code",
   "execution_count": 130,
   "metadata": {},
   "outputs": [
    {
     "data": {
      "text/html": [
       "<div>\n",
       "<style scoped>\n",
       "    .dataframe tbody tr th:only-of-type {\n",
       "        vertical-align: middle;\n",
       "    }\n",
       "\n",
       "    .dataframe tbody tr th {\n",
       "        vertical-align: top;\n",
       "    }\n",
       "\n",
       "    .dataframe thead th {\n",
       "        text-align: right;\n",
       "    }\n",
       "</style>\n",
       "<table border=\"1\" class=\"dataframe\">\n",
       "  <thead>\n",
       "    <tr style=\"text-align: right;\">\n",
       "      <th></th>\n",
       "      <th>str_ta_list_A</th>\n",
       "      <th>store_count_A</th>\n",
       "      <th>zip_count_A</th>\n",
       "      <th>sales_field_A</th>\n",
       "      <th>kids_0_9_census_A</th>\n",
       "      <th>key</th>\n",
       "      <th>str_ta_list_B</th>\n",
       "      <th>store_count_B</th>\n",
       "      <th>zip_count_B</th>\n",
       "      <th>sales_field_B</th>\n",
       "      <th>kids_0_9_census_B</th>\n",
       "      <th>diff_zip_count</th>\n",
       "      <th>diff_sales_field</th>\n",
       "      <th>diff_kids_0_9_census</th>\n",
       "      <th>score</th>\n",
       "    </tr>\n",
       "  </thead>\n",
       "  <tbody>\n",
       "    <tr>\n",
       "      <th>86254</th>\n",
       "      <td>[177, 215, 347]</td>\n",
       "      <td>8</td>\n",
       "      <td>69</td>\n",
       "      <td>0.131950</td>\n",
       "      <td>32570.294464</td>\n",
       "      <td>1</td>\n",
       "      <td>[116, 193, 1070]</td>\n",
       "      <td>8</td>\n",
       "      <td>69</td>\n",
       "      <td>0.132363</td>\n",
       "      <td>32565.5</td>\n",
       "      <td>0</td>\n",
       "      <td>0.00311579</td>\n",
       "      <td>0.000148312</td>\n",
       "      <td>0.00108792</td>\n",
       "    </tr>\n",
       "    <tr>\n",
       "      <th>85963</th>\n",
       "      <td>[177, 215, 347]</td>\n",
       "      <td>8</td>\n",
       "      <td>69</td>\n",
       "      <td>0.131950</td>\n",
       "      <td>32570.294464</td>\n",
       "      <td>1</td>\n",
       "      <td>[116, 193, 1070]</td>\n",
       "      <td>8</td>\n",
       "      <td>69</td>\n",
       "      <td>0.132363</td>\n",
       "      <td>32565.5</td>\n",
       "      <td>0</td>\n",
       "      <td>0.00311579</td>\n",
       "      <td>0.000148312</td>\n",
       "      <td>0.00108792</td>\n",
       "    </tr>\n",
       "    <tr>\n",
       "      <th>46148</th>\n",
       "      <td>[116, 223, 260]</td>\n",
       "      <td>8</td>\n",
       "      <td>54</td>\n",
       "      <td>0.118890</td>\n",
       "      <td>27396.000000</td>\n",
       "      <td>1</td>\n",
       "      <td>[137, 193, 1070]</td>\n",
       "      <td>8</td>\n",
       "      <td>54</td>\n",
       "      <td>0.119299</td>\n",
       "      <td>27428.5</td>\n",
       "      <td>0</td>\n",
       "      <td>0.00342874</td>\n",
       "      <td>0.00118361</td>\n",
       "      <td>0.0015373</td>\n",
       "    </tr>\n",
       "    <tr>\n",
       "      <th>38954</th>\n",
       "      <td>[116, 223, 260]</td>\n",
       "      <td>8</td>\n",
       "      <td>54</td>\n",
       "      <td>0.118890</td>\n",
       "      <td>27396.000000</td>\n",
       "      <td>1</td>\n",
       "      <td>[137, 193, 1070]</td>\n",
       "      <td>8</td>\n",
       "      <td>54</td>\n",
       "      <td>0.119299</td>\n",
       "      <td>27428.5</td>\n",
       "      <td>0</td>\n",
       "      <td>0.00342874</td>\n",
       "      <td>0.00118361</td>\n",
       "      <td>0.0015373</td>\n",
       "    </tr>\n",
       "    <tr>\n",
       "      <th>7940</th>\n",
       "      <td>[116, 176, 1309]</td>\n",
       "      <td>8</td>\n",
       "      <td>54</td>\n",
       "      <td>0.120271</td>\n",
       "      <td>27424.644282</td>\n",
       "      <td>1</td>\n",
       "      <td>[137, 193, 1070]</td>\n",
       "      <td>8</td>\n",
       "      <td>54</td>\n",
       "      <td>0.119299</td>\n",
       "      <td>27428.5</td>\n",
       "      <td>0</td>\n",
       "      <td>0.00814537</td>\n",
       "      <td>0.000139284</td>\n",
       "      <td>0.00276128</td>\n",
       "    </tr>\n",
       "    <tr>\n",
       "      <th>...</th>\n",
       "      <td>...</td>\n",
       "      <td>...</td>\n",
       "      <td>...</td>\n",
       "      <td>...</td>\n",
       "      <td>...</td>\n",
       "      <td>...</td>\n",
       "      <td>...</td>\n",
       "      <td>...</td>\n",
       "      <td>...</td>\n",
       "      <td>...</td>\n",
       "      <td>...</td>\n",
       "      <td>...</td>\n",
       "      <td>...</td>\n",
       "      <td>...</td>\n",
       "      <td>...</td>\n",
       "    </tr>\n",
       "    <tr>\n",
       "      <th>74854</th>\n",
       "      <td>[175, 177, 325]</td>\n",
       "      <td>8</td>\n",
       "      <td>34</td>\n",
       "      <td>0.145009</td>\n",
       "      <td>32895.000000</td>\n",
       "      <td>1</td>\n",
       "      <td>[137, 193, 1070]</td>\n",
       "      <td>8</td>\n",
       "      <td>54</td>\n",
       "      <td>0.119299</td>\n",
       "      <td>27428.5</td>\n",
       "      <td>0.37037</td>\n",
       "      <td>0.215508</td>\n",
       "      <td>0.199302</td>\n",
       "      <td>0.199997</td>\n",
       "    </tr>\n",
       "    <tr>\n",
       "      <th>74795</th>\n",
       "      <td>[175, 177, 325]</td>\n",
       "      <td>8</td>\n",
       "      <td>34</td>\n",
       "      <td>0.145009</td>\n",
       "      <td>32895.000000</td>\n",
       "      <td>1</td>\n",
       "      <td>[137, 193, 1070]</td>\n",
       "      <td>8</td>\n",
       "      <td>54</td>\n",
       "      <td>0.119299</td>\n",
       "      <td>27428.5</td>\n",
       "      <td>0.37037</td>\n",
       "      <td>0.215508</td>\n",
       "      <td>0.199302</td>\n",
       "      <td>0.199997</td>\n",
       "    </tr>\n",
       "    <tr>\n",
       "      <th>10481</th>\n",
       "      <td>[135, 172, 529]</td>\n",
       "      <td>8</td>\n",
       "      <td>95</td>\n",
       "      <td>0.150772</td>\n",
       "      <td>41440.000000</td>\n",
       "      <td>1</td>\n",
       "      <td>[116, 193, 1070]</td>\n",
       "      <td>8</td>\n",
       "      <td>69</td>\n",
       "      <td>0.132363</td>\n",
       "      <td>32565.5</td>\n",
       "      <td>0.376812</td>\n",
       "      <td>0.13908</td>\n",
       "      <td>0.272514</td>\n",
       "      <td>0.199999</td>\n",
       "    </tr>\n",
       "    <tr>\n",
       "      <th>156689</th>\n",
       "      <td>[175, 188, 255]</td>\n",
       "      <td>8</td>\n",
       "      <td>44</td>\n",
       "      <td>0.161023</td>\n",
       "      <td>39154.000000</td>\n",
       "      <td>1</td>\n",
       "      <td>[116, 193, 1070]</td>\n",
       "      <td>8</td>\n",
       "      <td>69</td>\n",
       "      <td>0.132363</td>\n",
       "      <td>32565.5</td>\n",
       "      <td>0.362319</td>\n",
       "      <td>0.216527</td>\n",
       "      <td>0.202317</td>\n",
       "      <td>0.199999</td>\n",
       "    </tr>\n",
       "    <tr>\n",
       "      <th>156485</th>\n",
       "      <td>[175, 188, 255]</td>\n",
       "      <td>8</td>\n",
       "      <td>44</td>\n",
       "      <td>0.161023</td>\n",
       "      <td>39154.000000</td>\n",
       "      <td>1</td>\n",
       "      <td>[116, 193, 1070]</td>\n",
       "      <td>8</td>\n",
       "      <td>69</td>\n",
       "      <td>0.132363</td>\n",
       "      <td>32565.5</td>\n",
       "      <td>0.362319</td>\n",
       "      <td>0.216527</td>\n",
       "      <td>0.202317</td>\n",
       "      <td>0.199999</td>\n",
       "    </tr>\n",
       "  </tbody>\n",
       "</table>\n",
       "<p>316504 rows × 15 columns</p>\n",
       "</div>"
      ],
      "text/plain": [
       "           str_ta_list_A  store_count_A  zip_count_A  sales_field_A  \\\n",
       "86254    [177, 215, 347]              8           69       0.131950   \n",
       "85963    [177, 215, 347]              8           69       0.131950   \n",
       "46148    [116, 223, 260]              8           54       0.118890   \n",
       "38954    [116, 223, 260]              8           54       0.118890   \n",
       "7940    [116, 176, 1309]              8           54       0.120271   \n",
       "...                  ...            ...          ...            ...   \n",
       "74854    [175, 177, 325]              8           34       0.145009   \n",
       "74795    [175, 177, 325]              8           34       0.145009   \n",
       "10481    [135, 172, 529]              8           95       0.150772   \n",
       "156689   [175, 188, 255]              8           44       0.161023   \n",
       "156485   [175, 188, 255]              8           44       0.161023   \n",
       "\n",
       "        kids_0_9_census_A  key     str_ta_list_B store_count_B zip_count_B  \\\n",
       "86254        32570.294464    1  [116, 193, 1070]             8          69   \n",
       "85963        32570.294464    1  [116, 193, 1070]             8          69   \n",
       "46148        27396.000000    1  [137, 193, 1070]             8          54   \n",
       "38954        27396.000000    1  [137, 193, 1070]             8          54   \n",
       "7940         27424.644282    1  [137, 193, 1070]             8          54   \n",
       "...                   ...  ...               ...           ...         ...   \n",
       "74854        32895.000000    1  [137, 193, 1070]             8          54   \n",
       "74795        32895.000000    1  [137, 193, 1070]             8          54   \n",
       "10481        41440.000000    1  [116, 193, 1070]             8          69   \n",
       "156689       39154.000000    1  [116, 193, 1070]             8          69   \n",
       "156485       39154.000000    1  [116, 193, 1070]             8          69   \n",
       "\n",
       "       sales_field_B kids_0_9_census_B diff_zip_count diff_sales_field  \\\n",
       "86254       0.132363           32565.5              0       0.00311579   \n",
       "85963       0.132363           32565.5              0       0.00311579   \n",
       "46148       0.119299           27428.5              0       0.00342874   \n",
       "38954       0.119299           27428.5              0       0.00342874   \n",
       "7940        0.119299           27428.5              0       0.00814537   \n",
       "...              ...               ...            ...              ...   \n",
       "74854       0.119299           27428.5        0.37037         0.215508   \n",
       "74795       0.119299           27428.5        0.37037         0.215508   \n",
       "10481       0.132363           32565.5       0.376812          0.13908   \n",
       "156689      0.132363           32565.5       0.362319         0.216527   \n",
       "156485      0.132363           32565.5       0.362319         0.216527   \n",
       "\n",
       "       diff_kids_0_9_census       score  \n",
       "86254           0.000148312  0.00108792  \n",
       "85963           0.000148312  0.00108792  \n",
       "46148            0.00118361   0.0015373  \n",
       "38954            0.00118361   0.0015373  \n",
       "7940            0.000139284  0.00276128  \n",
       "...                     ...         ...  \n",
       "74854              0.199302    0.199997  \n",
       "74795              0.199302    0.199997  \n",
       "10481              0.272514    0.199999  \n",
       "156689             0.202317    0.199999  \n",
       "156485             0.202317    0.199999  \n",
       "\n",
       "[316504 rows x 15 columns]"
      ]
     },
     "execution_count": 130,
     "metadata": {},
     "output_type": "execute_result"
    }
   ],
   "source": [
    "df_output.sort_values(\"score\")"
   ]
  },
  {
   "cell_type": "code",
   "execution_count": null,
   "metadata": {
    "collapsed": true
   },
   "outputs": [],
   "source": []
  },
  {
   "cell_type": "code",
   "execution_count": 62,
   "metadata": {},
   "outputs": [
    {
     "ename": "MemoryError",
     "evalue": "Unable to allocate array with shape (169943466564,) and data type int64",
     "output_type": "error",
     "traceback": [
      "\u001b[0;31m---------------------------------------------------------------------------\u001b[0m",
      "\u001b[0;31mMemoryError\u001b[0m                               Traceback (most recent call last)",
      "\u001b[0;32m<ipython-input-62-4f99f8617da0>\u001b[0m in \u001b[0;36m<module>\u001b[0;34m()\u001b[0m\n\u001b[1;32m     15\u001b[0m \u001b[0mdf_input_M23_3_set_copy_2\u001b[0m\u001b[0;34m[\u001b[0m\u001b[0;34m'key'\u001b[0m\u001b[0;34m]\u001b[0m\u001b[0;34m=\u001b[0m\u001b[0;36m1\u001b[0m\u001b[0;34m\u001b[0m\u001b[0m\n\u001b[1;32m     16\u001b[0m \u001b[0;34m\u001b[0m\u001b[0m\n\u001b[0;32m---> 17\u001b[0;31m \u001b[0mdf_input_M23_set_of_3\u001b[0m\u001b[0;34m=\u001b[0m\u001b[0mpd\u001b[0m\u001b[0;34m.\u001b[0m\u001b[0mmerge\u001b[0m\u001b[0;34m(\u001b[0m\u001b[0mdf_input_M23_3_set_copy_1\u001b[0m\u001b[0;34m,\u001b[0m\u001b[0mdf_input_M23_3_set_copy_2\u001b[0m\u001b[0;34m,\u001b[0m\u001b[0mon\u001b[0m\u001b[0;34m=\u001b[0m\u001b[0;34m\"key\"\u001b[0m\u001b[0;34m,\u001b[0m\u001b[0mhow\u001b[0m\u001b[0;34m=\u001b[0m\u001b[0;34m\"outer\"\u001b[0m\u001b[0;34m)\u001b[0m\u001b[0;34m\u001b[0m\u001b[0m\n\u001b[0m\u001b[1;32m     18\u001b[0m \u001b[0mdf_input_M23_set_of_3\u001b[0m\u001b[0;34m=\u001b[0m\u001b[0mdf_input_M23_set_of_3\u001b[0m\u001b[0;34m[\u001b[0m\u001b[0mcols_new\u001b[0m\u001b[0;34m]\u001b[0m\u001b[0;34m\u001b[0m\u001b[0m\n\u001b[1;32m     19\u001b[0m \u001b[0mgc\u001b[0m\u001b[0;34m.\u001b[0m\u001b[0mcollect\u001b[0m\u001b[0;34m(\u001b[0m\u001b[0;34m)\u001b[0m\u001b[0;34m\u001b[0m\u001b[0m\n",
      "\u001b[0;32m/home/jian/.local/lib/python3.6/site-packages/pandas/core/reshape/merge.py\u001b[0m in \u001b[0;36mmerge\u001b[0;34m(left, right, how, on, left_on, right_on, left_index, right_index, sort, suffixes, copy, indicator, validate)\u001b[0m\n\u001b[1;32m     81\u001b[0m         \u001b[0mvalidate\u001b[0m\u001b[0;34m=\u001b[0m\u001b[0mvalidate\u001b[0m\u001b[0;34m,\u001b[0m\u001b[0;34m\u001b[0m\u001b[0m\n\u001b[1;32m     82\u001b[0m     )\n\u001b[0;32m---> 83\u001b[0;31m     \u001b[0;32mreturn\u001b[0m \u001b[0mop\u001b[0m\u001b[0;34m.\u001b[0m\u001b[0mget_result\u001b[0m\u001b[0;34m(\u001b[0m\u001b[0;34m)\u001b[0m\u001b[0;34m\u001b[0m\u001b[0m\n\u001b[0m\u001b[1;32m     84\u001b[0m \u001b[0;34m\u001b[0m\u001b[0m\n\u001b[1;32m     85\u001b[0m \u001b[0;34m\u001b[0m\u001b[0m\n",
      "\u001b[0;32m/home/jian/.local/lib/python3.6/site-packages/pandas/core/reshape/merge.py\u001b[0m in \u001b[0;36mget_result\u001b[0;34m(self)\u001b[0m\n\u001b[1;32m    640\u001b[0m             \u001b[0mself\u001b[0m\u001b[0;34m.\u001b[0m\u001b[0mleft\u001b[0m\u001b[0;34m,\u001b[0m \u001b[0mself\u001b[0m\u001b[0;34m.\u001b[0m\u001b[0mright\u001b[0m \u001b[0;34m=\u001b[0m \u001b[0mself\u001b[0m\u001b[0;34m.\u001b[0m\u001b[0m_indicator_pre_merge\u001b[0m\u001b[0;34m(\u001b[0m\u001b[0mself\u001b[0m\u001b[0;34m.\u001b[0m\u001b[0mleft\u001b[0m\u001b[0;34m,\u001b[0m \u001b[0mself\u001b[0m\u001b[0;34m.\u001b[0m\u001b[0mright\u001b[0m\u001b[0;34m)\u001b[0m\u001b[0;34m\u001b[0m\u001b[0m\n\u001b[1;32m    641\u001b[0m \u001b[0;34m\u001b[0m\u001b[0m\n\u001b[0;32m--> 642\u001b[0;31m         \u001b[0mjoin_index\u001b[0m\u001b[0;34m,\u001b[0m \u001b[0mleft_indexer\u001b[0m\u001b[0;34m,\u001b[0m \u001b[0mright_indexer\u001b[0m \u001b[0;34m=\u001b[0m \u001b[0mself\u001b[0m\u001b[0;34m.\u001b[0m\u001b[0m_get_join_info\u001b[0m\u001b[0;34m(\u001b[0m\u001b[0;34m)\u001b[0m\u001b[0;34m\u001b[0m\u001b[0m\n\u001b[0m\u001b[1;32m    643\u001b[0m \u001b[0;34m\u001b[0m\u001b[0m\n\u001b[1;32m    644\u001b[0m         \u001b[0mldata\u001b[0m\u001b[0;34m,\u001b[0m \u001b[0mrdata\u001b[0m \u001b[0;34m=\u001b[0m \u001b[0mself\u001b[0m\u001b[0;34m.\u001b[0m\u001b[0mleft\u001b[0m\u001b[0;34m.\u001b[0m\u001b[0m_data\u001b[0m\u001b[0;34m,\u001b[0m \u001b[0mself\u001b[0m\u001b[0;34m.\u001b[0m\u001b[0mright\u001b[0m\u001b[0;34m.\u001b[0m\u001b[0m_data\u001b[0m\u001b[0;34m\u001b[0m\u001b[0m\n",
      "\u001b[0;32m/home/jian/.local/lib/python3.6/site-packages/pandas/core/reshape/merge.py\u001b[0m in \u001b[0;36m_get_join_info\u001b[0;34m(self)\u001b[0m\n\u001b[1;32m    857\u001b[0m             )\n\u001b[1;32m    858\u001b[0m         \u001b[0;32melse\u001b[0m\u001b[0;34m:\u001b[0m\u001b[0;34m\u001b[0m\u001b[0m\n\u001b[0;32m--> 859\u001b[0;31m             \u001b[0;34m(\u001b[0m\u001b[0mleft_indexer\u001b[0m\u001b[0;34m,\u001b[0m \u001b[0mright_indexer\u001b[0m\u001b[0;34m)\u001b[0m \u001b[0;34m=\u001b[0m \u001b[0mself\u001b[0m\u001b[0;34m.\u001b[0m\u001b[0m_get_join_indexers\u001b[0m\u001b[0;34m(\u001b[0m\u001b[0;34m)\u001b[0m\u001b[0;34m\u001b[0m\u001b[0m\n\u001b[0m\u001b[1;32m    860\u001b[0m \u001b[0;34m\u001b[0m\u001b[0m\n\u001b[1;32m    861\u001b[0m             \u001b[0;32mif\u001b[0m \u001b[0mself\u001b[0m\u001b[0;34m.\u001b[0m\u001b[0mright_index\u001b[0m\u001b[0;34m:\u001b[0m\u001b[0;34m\u001b[0m\u001b[0m\n",
      "\u001b[0;32m/home/jian/.local/lib/python3.6/site-packages/pandas/core/reshape/merge.py\u001b[0m in \u001b[0;36m_get_join_indexers\u001b[0;34m(self)\u001b[0m\n\u001b[1;32m    836\u001b[0m         \u001b[0;34m\"\"\" return the join indexers \"\"\"\u001b[0m\u001b[0;34m\u001b[0m\u001b[0m\n\u001b[1;32m    837\u001b[0m         return _get_join_indexers(\n\u001b[0;32m--> 838\u001b[0;31m             \u001b[0mself\u001b[0m\u001b[0;34m.\u001b[0m\u001b[0mleft_join_keys\u001b[0m\u001b[0;34m,\u001b[0m \u001b[0mself\u001b[0m\u001b[0;34m.\u001b[0m\u001b[0mright_join_keys\u001b[0m\u001b[0;34m,\u001b[0m \u001b[0msort\u001b[0m\u001b[0;34m=\u001b[0m\u001b[0mself\u001b[0m\u001b[0;34m.\u001b[0m\u001b[0msort\u001b[0m\u001b[0;34m,\u001b[0m \u001b[0mhow\u001b[0m\u001b[0;34m=\u001b[0m\u001b[0mself\u001b[0m\u001b[0;34m.\u001b[0m\u001b[0mhow\u001b[0m\u001b[0;34m\u001b[0m\u001b[0m\n\u001b[0m\u001b[1;32m    839\u001b[0m         )\n\u001b[1;32m    840\u001b[0m \u001b[0;34m\u001b[0m\u001b[0m\n",
      "\u001b[0;32m/home/jian/.local/lib/python3.6/site-packages/pandas/core/reshape/merge.py\u001b[0m in \u001b[0;36m_get_join_indexers\u001b[0;34m(left_keys, right_keys, sort, how, **kwargs)\u001b[0m\n\u001b[1;32m   1318\u001b[0m     \u001b[0mjoin_func\u001b[0m \u001b[0;34m=\u001b[0m \u001b[0m_join_functions\u001b[0m\u001b[0;34m[\u001b[0m\u001b[0mhow\u001b[0m\u001b[0;34m]\u001b[0m\u001b[0;34m\u001b[0m\u001b[0m\n\u001b[1;32m   1319\u001b[0m \u001b[0;34m\u001b[0m\u001b[0m\n\u001b[0;32m-> 1320\u001b[0;31m     \u001b[0;32mreturn\u001b[0m \u001b[0mjoin_func\u001b[0m\u001b[0;34m(\u001b[0m\u001b[0mlkey\u001b[0m\u001b[0;34m,\u001b[0m \u001b[0mrkey\u001b[0m\u001b[0;34m,\u001b[0m \u001b[0mcount\u001b[0m\u001b[0;34m,\u001b[0m \u001b[0;34m**\u001b[0m\u001b[0mkwargs\u001b[0m\u001b[0;34m)\u001b[0m\u001b[0;34m\u001b[0m\u001b[0m\n\u001b[0m\u001b[1;32m   1321\u001b[0m \u001b[0;34m\u001b[0m\u001b[0m\n\u001b[1;32m   1322\u001b[0m \u001b[0;34m\u001b[0m\u001b[0m\n",
      "\u001b[0;32mpandas/_libs/join.pyx\u001b[0m in \u001b[0;36mpandas._libs.join.full_outer_join\u001b[0;34m()\u001b[0m\n",
      "\u001b[0;31mMemoryError\u001b[0m: Unable to allocate array with shape (169943466564,) and data type int64"
     ]
    }
   ],
   "source": [
    "df_input_M23_3_set_copy_1=df_3_combination_M23.copy()\n",
    "df_input_M23_3_set_copy_2=df_3_combination_M23.copy()\n",
    "\n",
    "cols=df_input_M23_3_set_copy_1.columns.tolist()\n",
    "cols_new=[]\n",
    "for col in cols:\n",
    "    cols_new.append(col+\"_A\")\n",
    "    cols_new.append(col+\"_B\")\n",
    "\n",
    "for col in df_input_M23_3_set_copy_1.columns.tolist():\n",
    "    df_input_M23_3_set_copy_1=df_input_M23_3_set_copy_1.rename(columns={col:col+\"_A\"})\n",
    "    df_input_M23_3_set_copy_2=df_input_M23_3_set_copy_2.rename(columns={col:col+\"_B\"})\n",
    "    \n",
    "df_input_M23_3_set_copy_1['key']=1\n",
    "df_input_M23_3_set_copy_2['key']=1\n",
    "\n",
    "df_input_M23_set_of_3=pd.merge(df_input_M23_3_set_copy_1,df_input_M23_3_set_copy_2,on=\"key\",how=\"outer\")\n",
    "df_input_M23_set_of_3=df_input_M23_set_of_3[cols_new]\n",
    "gc.collect()"
   ]
  },
  {
   "cell_type": "code",
   "execution_count": null,
   "metadata": {
    "collapsed": true
   },
   "outputs": [],
   "source": [
    "def intersection_2_list_str(str_l1,str_l2):\n",
    "    str_l1=set(eval(str_l1))\n",
    "    str_l2=set(eval(str_l2))\n",
    "    return str_l1.intersection(str_l2)\n"
   ]
  },
  {
   "cell_type": "code",
   "execution_count": null,
   "metadata": {
    "collapsed": true
   },
   "outputs": [],
   "source": [
    "df_input_M23_set_of_3=df_input_M23_set_of_3[df_input_M23_set_of_3['str_ta_list_A']!=df_input_M23_set_of_3['str_ta_list_B']]\n",
    "gc.collect()\n"
   ]
  },
  {
   "cell_type": "code",
   "execution_count": null,
   "metadata": {
    "collapsed": true
   },
   "outputs": [],
   "source": [
    "df_input_M23_set_of_3.shape"
   ]
  },
  {
   "cell_type": "code",
   "execution_count": null,
   "metadata": {
    "collapsed": true
   },
   "outputs": [],
   "source": [
    "df_input_M23_set_of_3['common_stores']=df_input_M23_set_of_3.apply(lambda x: intersection_2_list_str(x[\"str_ta_list_A\"],x[\"str_ta_list_B\"]), axis=1)\n",
    "print(datetime.datetime.now())\n",
    "\n",
    "df_input_M23_set_of_3['common_stores_len']=df_input_M23_set_of_3['common_stores'].apply(len)\n",
    "print(datetime.datetime.now())\n"
   ]
  },
  {
   "cell_type": "code",
   "execution_count": null,
   "metadata": {
    "collapsed": true
   },
   "outputs": [],
   "source": [
    "df_input_M23_set_of_3['common_stores_len'].unique()"
   ]
  },
  {
   "cell_type": "code",
   "execution_count": null,
   "metadata": {
    "collapsed": true
   },
   "outputs": [],
   "source": [
    "df_input_M23_set_of_3=df_input_M23_set_of_3[df_input_M23_set_of_3['common_stores_len']==0]\n",
    "df_input_M23_set_of_3.head(4)"
   ]
  },
  {
   "cell_type": "code",
   "execution_count": null,
   "metadata": {
    "collapsed": true
   },
   "outputs": [],
   "source": [
    "gc.collect()"
   ]
  },
  {
   "cell_type": "code",
   "execution_count": null,
   "metadata": {
    "collapsed": true
   },
   "outputs": [],
   "source": [
    "cols_metrics=[x for x in cols if x not in ['str_ta_list','Kid_Sales_Tier','common_stores','common_stores_len']]\n",
    "\n",
    "df_input_M23_set_of_3['score_1']=0\n",
    "for col_calulate in cols_metrics:\n",
    "    df_input_M23_set_of_3['diff_'+col_calulate]=df_input_M23_set_of_3[col_calulate+\"_A\"]/df_input_M23_set_of_3[col_calulate+\"_B\"]-1\n",
    "    df_input_M23_set_of_3['diff_'+col_calulate]=df_input_M23_set_of_3['diff_'+col_calulate].apply(abs)\n",
    "    if \"count\" in col_calulate:\n",
    "        df_input_M23_set_of_3['score_1']=df_input_M23_set_of_3['score_1']+df_input_M23_set_of_3['diff_'+col_calulate]*0.1667\n",
    "    else:\n",
    "        df_input_M23_set_of_3['score_1']=df_input_M23_set_of_3['score_1']+df_input_M23_set_of_3['diff_'+col_calulate]*0.3333\n",
    "        \n",
    "df_input_M23_set_of_3=df_input_M23_set_of_3.sort_values(\"score_1\")\n",
    "\n",
    "df_input_M23_set_of_3.head(5)"
   ]
  },
  {
   "cell_type": "code",
   "execution_count": null,
   "metadata": {
    "collapsed": true
   },
   "outputs": [],
   "source": [
    "print(datetime.datetime.now())"
   ]
  },
  {
   "cell_type": "code",
   "execution_count": null,
   "metadata": {
    "collapsed": true
   },
   "outputs": [],
   "source": [
    "df_input_M23_set_of_3['score_1'].max()"
   ]
  },
  {
   "cell_type": "code",
   "execution_count": null,
   "metadata": {
    "collapsed": true
   },
   "outputs": [],
   "source": [
    "df_input_M23_set_of_3['score_1'].min()"
   ]
  },
  {
   "cell_type": "code",
   "execution_count": 29,
   "metadata": {
    "collapsed": true
   },
   "outputs": [],
   "source": [
    "# df_input_M23_set_of_3.to_csv(\"./set3_\"+str(datetime.datetime.now().date())+\".csv\",index=False)"
   ]
  },
  {
   "cell_type": "code",
   "execution_count": null,
   "metadata": {
    "collapsed": true
   },
   "outputs": [],
   "source": [
    "df_input_M23_set_of_3.head(2)"
   ]
  },
  {
   "cell_type": "code",
   "execution_count": null,
   "metadata": {
    "collapsed": true
   },
   "outputs": [],
   "source": [
    "df_input_M23_set_of_3.shape"
   ]
  },
  {
   "cell_type": "code",
   "execution_count": null,
   "metadata": {
    "collapsed": true
   },
   "outputs": [],
   "source": [
    "def remove_paired_from_df(df,selected_6_ta_list):\n",
    "    exp_str=\"\"\n",
    "    for ta in selected_6_ta_list:\n",
    "        s1=\"[\"+str(ta)+\",\"\n",
    "        s2=\" \"+str(ta)+\",\"\n",
    "        s3=\" \"+str(ta)+\"]\"\n",
    "        exp_str=\"|\".join([exp_str,s1])\n",
    "        exp_str=\"|\".join([exp_str,s2])\n",
    "        exp_str=\"|\".join([exp_str,s3])\n",
    "    exp_str=exp_str[1:]\n",
    "    print(exp_str)\n",
    "    df=df[(df[\"str_ta_list_A\"].str.contains(exp_str)==False) & (df[\"str_ta_list_B\"].str.contains(exp_str)==False)]\n",
    "    return df\n"
   ]
  },
  {
   "cell_type": "code",
   "execution_count": null,
   "metadata": {
    "collapsed": true
   },
   "outputs": [],
   "source": []
  },
  {
   "cell_type": "code",
   "execution_count": 66,
   "metadata": {},
   "outputs": [
    {
     "name": "stdout",
     "output_type": "stream",
     "text": [
      "[137,| 137,| 137]|[190,| 190,| 190]|[175,| 175,| 175]|[141,| 141,| 141]|[206,| 206,| 206]|[159,| 159,| 159]\n"
     ]
    },
    {
     "data": {
      "text/plain": [
       "(0, 17)"
      ]
     },
     "execution_count": 66,
     "metadata": {},
     "output_type": "execute_result"
    }
   ],
   "source": [
    "set_list_1=[137, 190, 175, 141, 206, 159]\n",
    "df_1=remove_paired_from_df(df_input_M23_set_of_3,set_list_1)\n",
    "df_1.shape"
   ]
  },
  {
   "cell_type": "code",
   "execution_count": 57,
   "metadata": {},
   "outputs": [
    {
     "data": {
      "text/plain": [
       "(0, 17)"
      ]
     },
     "execution_count": 57,
     "metadata": {},
     "output_type": "execute_result"
    }
   ],
   "source": [
    "df_1=remove_paired_from_df[~remove_paired_from_df['str_ta_list_A'].str.contains(\"137\")]\n",
    "\n"
   ]
  },
  {
   "cell_type": "code",
   "execution_count": 58,
   "metadata": {},
   "outputs": [
    {
     "data": {
      "text/html": [
       "<div>\n",
       "<style scoped>\n",
       "    .dataframe tbody tr th:only-of-type {\n",
       "        vertical-align: middle;\n",
       "    }\n",
       "\n",
       "    .dataframe tbody tr th {\n",
       "        vertical-align: top;\n",
       "    }\n",
       "\n",
       "    .dataframe thead th {\n",
       "        text-align: right;\n",
       "    }\n",
       "</style>\n",
       "<table border=\"1\" class=\"dataframe\">\n",
       "  <thead>\n",
       "    <tr style=\"text-align: right;\">\n",
       "      <th></th>\n",
       "      <th>str_ta_list_A</th>\n",
       "      <th>str_ta_list_B</th>\n",
       "      <th>store_count_A</th>\n",
       "      <th>store_count_B</th>\n",
       "      <th>zip_count_A</th>\n",
       "      <th>zip_count_B</th>\n",
       "      <th>sales_field_A</th>\n",
       "      <th>sales_field_B</th>\n",
       "      <th>kids_0_9_census_A</th>\n",
       "      <th>kids_0_9_census_B</th>\n",
       "      <th>common_stores</th>\n",
       "      <th>common_stores_len</th>\n",
       "      <th>score_1</th>\n",
       "      <th>diff_store_count</th>\n",
       "      <th>diff_zip_count</th>\n",
       "      <th>diff_sales_field</th>\n",
       "      <th>diff_kids_0_9_census</th>\n",
       "    </tr>\n",
       "  </thead>\n",
       "  <tbody>\n",
       "  </tbody>\n",
       "</table>\n",
       "</div>"
      ],
      "text/plain": [
       "Empty DataFrame\n",
       "Columns: [str_ta_list_A, str_ta_list_B, store_count_A, store_count_B, zip_count_A, zip_count_B, sales_field_A, sales_field_B, kids_0_9_census_A, kids_0_9_census_B, common_stores, common_stores_len, score_1, diff_store_count, diff_zip_count, diff_sales_field, diff_kids_0_9_census]\n",
       "Index: []"
      ]
     },
     "execution_count": 58,
     "metadata": {},
     "output_type": "execute_result"
    }
   ],
   "source": [
    "df_1.head(3)"
   ]
  },
  {
   "cell_type": "code",
   "execution_count": 53,
   "metadata": {},
   "outputs": [
    {
     "data": {
      "text/plain": [
       "[141, 206, 159, 137, 190, 175]"
      ]
     },
     "execution_count": 53,
     "metadata": {},
     "output_type": "execute_result"
    }
   ],
   "source": [
    "set_list_2="
   ]
  },
  {
   "cell_type": "code",
   "execution_count": 60,
   "metadata": {},
   "outputs": [
    {
     "data": {
      "text/plain": [
       "(24619640, 17)"
      ]
     },
     "execution_count": 60,
     "metadata": {},
     "output_type": "execute_result"
    }
   ],
   "source": [
    "df_input_M23_set_of_3.shape"
   ]
  },
  {
   "cell_type": "code",
   "execution_count": 69,
   "metadata": {},
   "outputs": [
    {
     "data": {
      "text/html": [
       "<div>\n",
       "<style scoped>\n",
       "    .dataframe tbody tr th:only-of-type {\n",
       "        vertical-align: middle;\n",
       "    }\n",
       "\n",
       "    .dataframe tbody tr th {\n",
       "        vertical-align: top;\n",
       "    }\n",
       "\n",
       "    .dataframe thead th {\n",
       "        text-align: right;\n",
       "    }\n",
       "</style>\n",
       "<table border=\"1\" class=\"dataframe\">\n",
       "  <thead>\n",
       "    <tr style=\"text-align: right;\">\n",
       "      <th></th>\n",
       "      <th>str_ta_list_A</th>\n",
       "      <th>str_ta_list_B</th>\n",
       "      <th>store_count_A</th>\n",
       "      <th>store_count_B</th>\n",
       "      <th>zip_count_A</th>\n",
       "      <th>zip_count_B</th>\n",
       "      <th>sales_field_A</th>\n",
       "      <th>sales_field_B</th>\n",
       "      <th>kids_0_9_census_A</th>\n",
       "      <th>kids_0_9_census_B</th>\n",
       "      <th>common_stores</th>\n",
       "      <th>common_stores_len</th>\n",
       "      <th>score_1</th>\n",
       "      <th>diff_store_count</th>\n",
       "      <th>diff_zip_count</th>\n",
       "      <th>diff_sales_field</th>\n",
       "      <th>diff_kids_0_9_census</th>\n",
       "    </tr>\n",
       "  </thead>\n",
       "  <tbody>\n",
       "    <tr>\n",
       "      <th>22985065</th>\n",
       "      <td>[141, 206, 159]</td>\n",
       "      <td>[137, 190, 175]</td>\n",
       "      <td>10</td>\n",
       "      <td>10</td>\n",
       "      <td>35</td>\n",
       "      <td>35</td>\n",
       "      <td>0.130894</td>\n",
       "      <td>0.130917</td>\n",
       "      <td>27917.000000</td>\n",
       "      <td>27950.996976</td>\n",
       "      <td>{}</td>\n",
       "      <td>0</td>\n",
       "      <td>0.000464</td>\n",
       "      <td>0.0</td>\n",
       "      <td>0.0</td>\n",
       "      <td>0.000175</td>\n",
       "      <td>0.001216</td>\n",
       "    </tr>\n",
       "    <tr>\n",
       "      <th>14129459</th>\n",
       "      <td>[137, 190, 175]</td>\n",
       "      <td>[141, 206, 159]</td>\n",
       "      <td>10</td>\n",
       "      <td>10</td>\n",
       "      <td>35</td>\n",
       "      <td>35</td>\n",
       "      <td>0.130917</td>\n",
       "      <td>0.130894</td>\n",
       "      <td>27950.996976</td>\n",
       "      <td>27917.000000</td>\n",
       "      <td>{}</td>\n",
       "      <td>0</td>\n",
       "      <td>0.000464</td>\n",
       "      <td>0.0</td>\n",
       "      <td>0.0</td>\n",
       "      <td>0.000175</td>\n",
       "      <td>0.001218</td>\n",
       "    </tr>\n",
       "    <tr>\n",
       "      <th>27348682</th>\n",
       "      <td>[116, 179, 162]</td>\n",
       "      <td>[137, 135, 227]</td>\n",
       "      <td>10</td>\n",
       "      <td>10</td>\n",
       "      <td>61</td>\n",
       "      <td>61</td>\n",
       "      <td>0.121161</td>\n",
       "      <td>0.121254</td>\n",
       "      <td>26901.261337</td>\n",
       "      <td>26920.000000</td>\n",
       "      <td>{}</td>\n",
       "      <td>0</td>\n",
       "      <td>0.000486</td>\n",
       "      <td>0.0</td>\n",
       "      <td>0.0</td>\n",
       "      <td>0.000761</td>\n",
       "      <td>0.000696</td>\n",
       "    </tr>\n",
       "    <tr>\n",
       "      <th>12419078</th>\n",
       "      <td>[137, 135, 227]</td>\n",
       "      <td>[116, 179, 162]</td>\n",
       "      <td>10</td>\n",
       "      <td>10</td>\n",
       "      <td>61</td>\n",
       "      <td>61</td>\n",
       "      <td>0.121254</td>\n",
       "      <td>0.121161</td>\n",
       "      <td>26920.000000</td>\n",
       "      <td>26901.261337</td>\n",
       "      <td>{}</td>\n",
       "      <td>0</td>\n",
       "      <td>0.000486</td>\n",
       "      <td>0.0</td>\n",
       "      <td>0.0</td>\n",
       "      <td>0.000762</td>\n",
       "      <td>0.000697</td>\n",
       "    </tr>\n",
       "    <tr>\n",
       "      <th>12320026</th>\n",
       "      <td>[137, 135, 249]</td>\n",
       "      <td>[116, 140, 348]</td>\n",
       "      <td>10</td>\n",
       "      <td>10</td>\n",
       "      <td>53</td>\n",
       "      <td>53</td>\n",
       "      <td>0.111659</td>\n",
       "      <td>0.111817</td>\n",
       "      <td>31708.000000</td>\n",
       "      <td>31698.000000</td>\n",
       "      <td>{}</td>\n",
       "      <td>0</td>\n",
       "      <td>0.000577</td>\n",
       "      <td>0.0</td>\n",
       "      <td>0.0</td>\n",
       "      <td>0.001416</td>\n",
       "      <td>0.000315</td>\n",
       "    </tr>\n",
       "    <tr>\n",
       "      <th>23828006</th>\n",
       "      <td>[116, 140, 348]</td>\n",
       "      <td>[137, 135, 249]</td>\n",
       "      <td>10</td>\n",
       "      <td>10</td>\n",
       "      <td>53</td>\n",
       "      <td>53</td>\n",
       "      <td>0.111817</td>\n",
       "      <td>0.111659</td>\n",
       "      <td>31698.000000</td>\n",
       "      <td>31708.000000</td>\n",
       "      <td>{}</td>\n",
       "      <td>0</td>\n",
       "      <td>0.000578</td>\n",
       "      <td>0.0</td>\n",
       "      <td>0.0</td>\n",
       "      <td>0.001418</td>\n",
       "      <td>0.000315</td>\n",
       "    </tr>\n",
       "    <tr>\n",
       "      <th>32106800</th>\n",
       "      <td>[140, 170, 202]</td>\n",
       "      <td>[137, 178, 177]</td>\n",
       "      <td>10</td>\n",
       "      <td>10</td>\n",
       "      <td>39</td>\n",
       "      <td>39</td>\n",
       "      <td>0.104978</td>\n",
       "      <td>0.105104</td>\n",
       "      <td>28806.000000</td>\n",
       "      <td>28823.000000</td>\n",
       "      <td>{}</td>\n",
       "      <td>0</td>\n",
       "      <td>0.000594</td>\n",
       "      <td>0.0</td>\n",
       "      <td>0.0</td>\n",
       "      <td>0.001193</td>\n",
       "      <td>0.000590</td>\n",
       "    </tr>\n",
       "    <tr>\n",
       "      <th>14284816</th>\n",
       "      <td>[137, 178, 177]</td>\n",
       "      <td>[140, 170, 202]</td>\n",
       "      <td>10</td>\n",
       "      <td>10</td>\n",
       "      <td>39</td>\n",
       "      <td>39</td>\n",
       "      <td>0.105104</td>\n",
       "      <td>0.104978</td>\n",
       "      <td>28823.000000</td>\n",
       "      <td>28806.000000</td>\n",
       "      <td>{}</td>\n",
       "      <td>0</td>\n",
       "      <td>0.000595</td>\n",
       "      <td>0.0</td>\n",
       "      <td>0.0</td>\n",
       "      <td>0.001194</td>\n",
       "      <td>0.000590</td>\n",
       "    </tr>\n",
       "    <tr>\n",
       "      <th>26860364</th>\n",
       "      <td>[116, 178, 188]</td>\n",
       "      <td>[135, 206, 173]</td>\n",
       "      <td>10</td>\n",
       "      <td>10</td>\n",
       "      <td>53</td>\n",
       "      <td>53</td>\n",
       "      <td>0.136547</td>\n",
       "      <td>0.136593</td>\n",
       "      <td>38065.000000</td>\n",
       "      <td>38125.000000</td>\n",
       "      <td>{}</td>\n",
       "      <td>0</td>\n",
       "      <td>0.000636</td>\n",
       "      <td>0.0</td>\n",
       "      <td>0.0</td>\n",
       "      <td>0.000335</td>\n",
       "      <td>0.001574</td>\n",
       "    </tr>\n",
       "    <tr>\n",
       "      <th>37543708</th>\n",
       "      <td>[135, 206, 173]</td>\n",
       "      <td>[116, 178, 188]</td>\n",
       "      <td>10</td>\n",
       "      <td>10</td>\n",
       "      <td>53</td>\n",
       "      <td>53</td>\n",
       "      <td>0.136593</td>\n",
       "      <td>0.136547</td>\n",
       "      <td>38125.000000</td>\n",
       "      <td>38065.000000</td>\n",
       "      <td>{}</td>\n",
       "      <td>0</td>\n",
       "      <td>0.000637</td>\n",
       "      <td>0.0</td>\n",
       "      <td>0.0</td>\n",
       "      <td>0.000336</td>\n",
       "      <td>0.001576</td>\n",
       "    </tr>\n",
       "  </tbody>\n",
       "</table>\n",
       "</div>"
      ],
      "text/plain": [
       "            str_ta_list_A    str_ta_list_B  store_count_A  store_count_B  \\\n",
       "22985065  [141, 206, 159]  [137, 190, 175]             10             10   \n",
       "14129459  [137, 190, 175]  [141, 206, 159]             10             10   \n",
       "27348682  [116, 179, 162]  [137, 135, 227]             10             10   \n",
       "12419078  [137, 135, 227]  [116, 179, 162]             10             10   \n",
       "12320026  [137, 135, 249]  [116, 140, 348]             10             10   \n",
       "23828006  [116, 140, 348]  [137, 135, 249]             10             10   \n",
       "32106800  [140, 170, 202]  [137, 178, 177]             10             10   \n",
       "14284816  [137, 178, 177]  [140, 170, 202]             10             10   \n",
       "26860364  [116, 178, 188]  [135, 206, 173]             10             10   \n",
       "37543708  [135, 206, 173]  [116, 178, 188]             10             10   \n",
       "\n",
       "          zip_count_A  zip_count_B  sales_field_A  sales_field_B  \\\n",
       "22985065           35           35       0.130894       0.130917   \n",
       "14129459           35           35       0.130917       0.130894   \n",
       "27348682           61           61       0.121161       0.121254   \n",
       "12419078           61           61       0.121254       0.121161   \n",
       "12320026           53           53       0.111659       0.111817   \n",
       "23828006           53           53       0.111817       0.111659   \n",
       "32106800           39           39       0.104978       0.105104   \n",
       "14284816           39           39       0.105104       0.104978   \n",
       "26860364           53           53       0.136547       0.136593   \n",
       "37543708           53           53       0.136593       0.136547   \n",
       "\n",
       "          kids_0_9_census_A  kids_0_9_census_B common_stores  \\\n",
       "22985065       27917.000000       27950.996976            {}   \n",
       "14129459       27950.996976       27917.000000            {}   \n",
       "27348682       26901.261337       26920.000000            {}   \n",
       "12419078       26920.000000       26901.261337            {}   \n",
       "12320026       31708.000000       31698.000000            {}   \n",
       "23828006       31698.000000       31708.000000            {}   \n",
       "32106800       28806.000000       28823.000000            {}   \n",
       "14284816       28823.000000       28806.000000            {}   \n",
       "26860364       38065.000000       38125.000000            {}   \n",
       "37543708       38125.000000       38065.000000            {}   \n",
       "\n",
       "          common_stores_len   score_1  diff_store_count  diff_zip_count  \\\n",
       "22985065                  0  0.000464               0.0             0.0   \n",
       "14129459                  0  0.000464               0.0             0.0   \n",
       "27348682                  0  0.000486               0.0             0.0   \n",
       "12419078                  0  0.000486               0.0             0.0   \n",
       "12320026                  0  0.000577               0.0             0.0   \n",
       "23828006                  0  0.000578               0.0             0.0   \n",
       "32106800                  0  0.000594               0.0             0.0   \n",
       "14284816                  0  0.000595               0.0             0.0   \n",
       "26860364                  0  0.000636               0.0             0.0   \n",
       "37543708                  0  0.000637               0.0             0.0   \n",
       "\n",
       "          diff_sales_field  diff_kids_0_9_census  \n",
       "22985065          0.000175              0.001216  \n",
       "14129459          0.000175              0.001218  \n",
       "27348682          0.000761              0.000696  \n",
       "12419078          0.000762              0.000697  \n",
       "12320026          0.001416              0.000315  \n",
       "23828006          0.001418              0.000315  \n",
       "32106800          0.001193              0.000590  \n",
       "14284816          0.001194              0.000590  \n",
       "26860364          0.000335              0.001574  \n",
       "37543708          0.000336              0.001576  "
      ]
     },
     "execution_count": 69,
     "metadata": {},
     "output_type": "execute_result"
    }
   ],
   "source": [
    "df_input_M23_set_of_3.head(10)"
   ]
  },
  {
   "cell_type": "code",
   "execution_count": null,
   "metadata": {
    "collapsed": true
   },
   "outputs": [],
   "source": []
  },
  {
   "cell_type": "code",
   "execution_count": null,
   "metadata": {
    "collapsed": true
   },
   "outputs": [],
   "source": []
  },
  {
   "cell_type": "code",
   "execution_count": 76,
   "metadata": {
    "collapsed": true
   },
   "outputs": [],
   "source": []
  },
  {
   "cell_type": "code",
   "execution_count": 19,
   "metadata": {},
   "outputs": [
    {
     "name": "stdout",
     "output_type": "stream",
     "text": [
      "start 4:  2019-11-06 14:30:39.552858\n"
     ]
    },
    {
     "name": "stderr",
     "output_type": "stream",
     "text": [
      "/usr/local/lib/python3.6/site-packages/ipykernel_launcher.py:27: SettingWithCopyWarning: \n",
      "A value is trying to be set on a copy of a slice from a DataFrame.\n",
      "Try using .loc[row_indexer,col_indexer] = value instead\n",
      "\n",
      "See the caveats in the documentation: http://pandas.pydata.org/pandas-docs/stable/user_guide/indexing.html#returning-a-view-versus-a-copy\n"
     ]
    },
    {
     "ename": "KeyboardInterrupt",
     "evalue": "",
     "output_type": "error",
     "traceback": [
      "\u001b[0;31m---------------------------------------------------------------------------\u001b[0m",
      "\u001b[0;31mKeyboardInterrupt\u001b[0m                         Traceback (most recent call last)",
      "\u001b[0;32m<ipython-input-19-a37ce037ad58>\u001b[0m in \u001b[0;36m<module>\u001b[0;34m()\u001b[0m\n\u001b[1;32m     26\u001b[0m                         \u001b[0mdf\u001b[0m\u001b[0;34m=\u001b[0m\u001b[0mdf_input_M23\u001b[0m\u001b[0;34m[\u001b[0m\u001b[0mdf_input_M23\u001b[0m\u001b[0;34m[\u001b[0m\u001b[0;34m'TA'\u001b[0m\u001b[0;34m]\u001b[0m\u001b[0;34m.\u001b[0m\u001b[0misin\u001b[0m\u001b[0;34m(\u001b[0m\u001b[0mlist_tas_10_13\u001b[0m\u001b[0;34m)\u001b[0m\u001b[0;34m]\u001b[0m\u001b[0;34m\u001b[0m\u001b[0m\n\u001b[1;32m     27\u001b[0m                         \u001b[0mdf\u001b[0m\u001b[0;34m[\u001b[0m\u001b[0;34m'str_ta_list'\u001b[0m\u001b[0;34m]\u001b[0m\u001b[0;34m=\u001b[0m\u001b[0mstr\u001b[0m\u001b[0;34m(\u001b[0m\u001b[0mlist_tas_10_13\u001b[0m\u001b[0;34m)\u001b[0m\u001b[0;34m\u001b[0m\u001b[0m\n\u001b[0;32m---> 28\u001b[0;31m                         \u001b[0mdf\u001b[0m\u001b[0;34m=\u001b[0m\u001b[0mdf\u001b[0m\u001b[0;34m.\u001b[0m\u001b[0mgroupby\u001b[0m\u001b[0;34m(\u001b[0m\u001b[0;34m\"str_ta_list\"\u001b[0m\u001b[0;34m)\u001b[0m\u001b[0;34m[\u001b[0m\u001b[0;34m'store_count'\u001b[0m\u001b[0;34m,\u001b[0m\u001b[0;34m'zip_count'\u001b[0m\u001b[0;34m,\u001b[0m\u001b[0;34m'sales_field'\u001b[0m\u001b[0;34m,\u001b[0m\u001b[0;34m'kids_0_9_census'\u001b[0m\u001b[0;34m]\u001b[0m\u001b[0;34m.\u001b[0m\u001b[0msum\u001b[0m\u001b[0;34m(\u001b[0m\u001b[0;34m)\u001b[0m\u001b[0;34m.\u001b[0m\u001b[0mreset_index\u001b[0m\u001b[0;34m(\u001b[0m\u001b[0;34m)\u001b[0m\u001b[0;34m\u001b[0m\u001b[0m\n\u001b[0m\u001b[1;32m     29\u001b[0m                         \u001b[0mlist_4_df\u001b[0m\u001b[0;34m.\u001b[0m\u001b[0mappend\u001b[0m\u001b[0;34m(\u001b[0m\u001b[0mdf\u001b[0m\u001b[0;34m)\u001b[0m\u001b[0;34m\u001b[0m\u001b[0m\n\u001b[1;32m     30\u001b[0m \u001b[0;34m\u001b[0m\u001b[0m\n",
      "\u001b[0;32m/home/jian/.local/lib/python3.6/site-packages/pandas/core/groupby/groupby.py\u001b[0m in \u001b[0;36mf\u001b[0;34m(self, **kwargs)\u001b[0m\n\u001b[1;32m   1364\u001b[0m                     \u001b[0mkwargs\u001b[0m\u001b[0;34m[\u001b[0m\u001b[0;34m\"min_count\"\u001b[0m\u001b[0;34m]\u001b[0m \u001b[0;34m=\u001b[0m \u001b[0mmin_count\u001b[0m\u001b[0;34m\u001b[0m\u001b[0m\n\u001b[1;32m   1365\u001b[0m \u001b[0;34m\u001b[0m\u001b[0m\n\u001b[0;32m-> 1366\u001b[0;31m                 \u001b[0mself\u001b[0m\u001b[0;34m.\u001b[0m\u001b[0m_set_group_selection\u001b[0m\u001b[0;34m(\u001b[0m\u001b[0;34m)\u001b[0m\u001b[0;34m\u001b[0m\u001b[0m\n\u001b[0m\u001b[1;32m   1367\u001b[0m \u001b[0;34m\u001b[0m\u001b[0m\n\u001b[1;32m   1368\u001b[0m                 \u001b[0;31m# try a cython aggregation if we can\u001b[0m\u001b[0;34m\u001b[0m\u001b[0;34m\u001b[0m\u001b[0m\n",
      "\u001b[0;32m/home/jian/.local/lib/python3.6/site-packages/pandas/core/groupby/groupby.py\u001b[0m in \u001b[0;36m_set_group_selection\u001b[0;34m(self)\u001b[0m\n\u001b[1;32m    535\u001b[0m         \u001b[0;32mif\u001b[0m \u001b[0mlen\u001b[0m\u001b[0;34m(\u001b[0m\u001b[0mgroupers\u001b[0m\u001b[0;34m)\u001b[0m\u001b[0;34m:\u001b[0m\u001b[0;34m\u001b[0m\u001b[0m\n\u001b[1;32m    536\u001b[0m             \u001b[0;31m# GH12839 clear selected obj cache when group selection changes\u001b[0m\u001b[0;34m\u001b[0m\u001b[0;34m\u001b[0m\u001b[0m\n\u001b[0;32m--> 537\u001b[0;31m             \u001b[0mself\u001b[0m\u001b[0;34m.\u001b[0m\u001b[0m_group_selection\u001b[0m \u001b[0;34m=\u001b[0m \u001b[0max\u001b[0m\u001b[0;34m.\u001b[0m\u001b[0mdifference\u001b[0m\u001b[0;34m(\u001b[0m\u001b[0mIndex\u001b[0m\u001b[0;34m(\u001b[0m\u001b[0mgroupers\u001b[0m\u001b[0;34m)\u001b[0m\u001b[0;34m,\u001b[0m \u001b[0msort\u001b[0m\u001b[0;34m=\u001b[0m\u001b[0;32mFalse\u001b[0m\u001b[0;34m)\u001b[0m\u001b[0;34m.\u001b[0m\u001b[0mtolist\u001b[0m\u001b[0;34m(\u001b[0m\u001b[0;34m)\u001b[0m\u001b[0;34m\u001b[0m\u001b[0m\n\u001b[0m\u001b[1;32m    538\u001b[0m             \u001b[0mself\u001b[0m\u001b[0;34m.\u001b[0m\u001b[0m_reset_cache\u001b[0m\u001b[0;34m(\u001b[0m\u001b[0;34m\"_selected_obj\"\u001b[0m\u001b[0;34m)\u001b[0m\u001b[0;34m\u001b[0m\u001b[0m\n\u001b[1;32m    539\u001b[0m \u001b[0;34m\u001b[0m\u001b[0m\n",
      "\u001b[0;32m/home/jian/.local/lib/python3.6/site-packages/pandas/core/indexes/base.py\u001b[0m in \u001b[0;36mdifference\u001b[0;34m(self, other, sort)\u001b[0m\n\u001b[1;32m   2739\u001b[0m         \u001b[0mindexer\u001b[0m \u001b[0;34m=\u001b[0m \u001b[0mindexer\u001b[0m\u001b[0;34m.\u001b[0m\u001b[0mtake\u001b[0m\u001b[0;34m(\u001b[0m\u001b[0;34m(\u001b[0m\u001b[0mindexer\u001b[0m \u001b[0;34m!=\u001b[0m \u001b[0;34m-\u001b[0m\u001b[0;36m1\u001b[0m\u001b[0;34m)\u001b[0m\u001b[0;34m.\u001b[0m\u001b[0mnonzero\u001b[0m\u001b[0;34m(\u001b[0m\u001b[0;34m)\u001b[0m\u001b[0;34m[\u001b[0m\u001b[0;36m0\u001b[0m\u001b[0;34m]\u001b[0m\u001b[0;34m)\u001b[0m\u001b[0;34m\u001b[0m\u001b[0m\n\u001b[1;32m   2740\u001b[0m \u001b[0;34m\u001b[0m\u001b[0m\n\u001b[0;32m-> 2741\u001b[0;31m         \u001b[0mlabel_diff\u001b[0m \u001b[0;34m=\u001b[0m \u001b[0mnp\u001b[0m\u001b[0;34m.\u001b[0m\u001b[0msetdiff1d\u001b[0m\u001b[0;34m(\u001b[0m\u001b[0mnp\u001b[0m\u001b[0;34m.\u001b[0m\u001b[0marange\u001b[0m\u001b[0;34m(\u001b[0m\u001b[0mthis\u001b[0m\u001b[0;34m.\u001b[0m\u001b[0msize\u001b[0m\u001b[0;34m)\u001b[0m\u001b[0;34m,\u001b[0m \u001b[0mindexer\u001b[0m\u001b[0;34m,\u001b[0m \u001b[0massume_unique\u001b[0m\u001b[0;34m=\u001b[0m\u001b[0;32mTrue\u001b[0m\u001b[0;34m)\u001b[0m\u001b[0;34m\u001b[0m\u001b[0m\n\u001b[0m\u001b[1;32m   2742\u001b[0m         \u001b[0mthe_diff\u001b[0m \u001b[0;34m=\u001b[0m \u001b[0mthis\u001b[0m\u001b[0;34m.\u001b[0m\u001b[0mvalues\u001b[0m\u001b[0;34m.\u001b[0m\u001b[0mtake\u001b[0m\u001b[0;34m(\u001b[0m\u001b[0mlabel_diff\u001b[0m\u001b[0;34m)\u001b[0m\u001b[0;34m\u001b[0m\u001b[0m\n\u001b[1;32m   2743\u001b[0m         \u001b[0;32mif\u001b[0m \u001b[0msort\u001b[0m \u001b[0;32mis\u001b[0m \u001b[0;32mNone\u001b[0m\u001b[0;34m:\u001b[0m\u001b[0;34m\u001b[0m\u001b[0m\n",
      "\u001b[0;32m<__array_function__ internals>\u001b[0m in \u001b[0;36msetdiff1d\u001b[0;34m(*args, **kwargs)\u001b[0m\n",
      "\u001b[0;32m/home/jian/.local/lib/python3.6/site-packages/numpy/lib/arraysetops.py\u001b[0m in \u001b[0;36msetdiff1d\u001b[0;34m(ar1, ar2, assume_unique)\u001b[0m\n\u001b[1;32m    784\u001b[0m         \u001b[0mar1\u001b[0m \u001b[0;34m=\u001b[0m \u001b[0munique\u001b[0m\u001b[0;34m(\u001b[0m\u001b[0mar1\u001b[0m\u001b[0;34m)\u001b[0m\u001b[0;34m\u001b[0m\u001b[0m\n\u001b[1;32m    785\u001b[0m         \u001b[0mar2\u001b[0m \u001b[0;34m=\u001b[0m \u001b[0munique\u001b[0m\u001b[0;34m(\u001b[0m\u001b[0mar2\u001b[0m\u001b[0;34m)\u001b[0m\u001b[0;34m\u001b[0m\u001b[0m\n\u001b[0;32m--> 786\u001b[0;31m     \u001b[0;32mreturn\u001b[0m \u001b[0mar1\u001b[0m\u001b[0;34m[\u001b[0m\u001b[0min1d\u001b[0m\u001b[0;34m(\u001b[0m\u001b[0mar1\u001b[0m\u001b[0;34m,\u001b[0m \u001b[0mar2\u001b[0m\u001b[0;34m,\u001b[0m \u001b[0massume_unique\u001b[0m\u001b[0;34m=\u001b[0m\u001b[0;32mTrue\u001b[0m\u001b[0;34m,\u001b[0m \u001b[0minvert\u001b[0m\u001b[0;34m=\u001b[0m\u001b[0;32mTrue\u001b[0m\u001b[0;34m)\u001b[0m\u001b[0;34m]\u001b[0m\u001b[0;34m\u001b[0m\u001b[0m\n\u001b[0m\u001b[1;32m    787\u001b[0m \u001b[0;34m\u001b[0m\u001b[0m\n",
      "\u001b[0;32m<__array_function__ internals>\u001b[0m in \u001b[0;36min1d\u001b[0;34m(*args, **kwargs)\u001b[0m\n",
      "\u001b[0;32m/home/jian/.local/lib/python3.6/site-packages/numpy/lib/arraysetops.py\u001b[0m in \u001b[0;36min1d\u001b[0;34m(ar1, ar2, assume_unique, invert)\u001b[0m\n\u001b[1;32m    558\u001b[0m     \u001b[0;31m# b) the second condition is true (i.e. `ar1` or `ar2` may contain\u001b[0m\u001b[0;34m\u001b[0m\u001b[0;34m\u001b[0m\u001b[0m\n\u001b[1;32m    559\u001b[0m     \u001b[0;31m#    arbitrary objects), since then sorting is not guaranteed to work\u001b[0m\u001b[0;34m\u001b[0m\u001b[0;34m\u001b[0m\u001b[0m\n\u001b[0;32m--> 560\u001b[0;31m     \u001b[0;32mif\u001b[0m \u001b[0mlen\u001b[0m\u001b[0;34m(\u001b[0m\u001b[0mar2\u001b[0m\u001b[0;34m)\u001b[0m \u001b[0;34m<\u001b[0m \u001b[0;36m10\u001b[0m \u001b[0;34m*\u001b[0m \u001b[0mlen\u001b[0m\u001b[0;34m(\u001b[0m\u001b[0mar1\u001b[0m\u001b[0;34m)\u001b[0m \u001b[0;34m**\u001b[0m \u001b[0;36m0.145\u001b[0m \u001b[0;32mor\u001b[0m \u001b[0mcontains_object\u001b[0m\u001b[0;34m:\u001b[0m\u001b[0;34m\u001b[0m\u001b[0m\n\u001b[0m\u001b[1;32m    561\u001b[0m         \u001b[0;32mif\u001b[0m \u001b[0minvert\u001b[0m\u001b[0;34m:\u001b[0m\u001b[0;34m\u001b[0m\u001b[0m\n\u001b[1;32m    562\u001b[0m             \u001b[0mmask\u001b[0m \u001b[0;34m=\u001b[0m \u001b[0mnp\u001b[0m\u001b[0;34m.\u001b[0m\u001b[0mones\u001b[0m\u001b[0;34m(\u001b[0m\u001b[0mlen\u001b[0m\u001b[0;34m(\u001b[0m\u001b[0mar1\u001b[0m\u001b[0;34m)\u001b[0m\u001b[0;34m,\u001b[0m \u001b[0mdtype\u001b[0m\u001b[0;34m=\u001b[0m\u001b[0mbool\u001b[0m\u001b[0;34m)\u001b[0m\u001b[0;34m\u001b[0m\u001b[0m\n",
      "\u001b[0;31mKeyboardInterrupt\u001b[0m: "
     ]
    }
   ],
   "source": [
    "#2 Sum 4\n",
    "print(\"start 4: \",datetime.datetime.now())\n",
    "list_4_df=[]\n",
    "\n",
    "for i in range(0,total_ta_len):\n",
    "    ta_1=M23_TA_list[i]\n",
    "    k1=dict_store_by_ta_M23[ta_1]\n",
    "    for j in range(i+1,total_ta_len):\n",
    "        ta_2=M23_TA_list[j]\n",
    "        k2=dict_store_by_ta_M23[ta_2]\n",
    "        \n",
    "        for k in range(j+1,total_ta_len):\n",
    "            ta_3=M23_TA_list[k]\n",
    "            k3=dict_store_by_ta_M23[ta_3]\n",
    "            \n",
    "            sum_3=k1+k2+k3\n",
    "            \n",
    "            if 6<=sum_3<=12: \n",
    "                for l in range(k+1,total_ta_len):\n",
    "                    ta_4=M23_TA_list[l]\n",
    "                    k4=dict_store_by_ta_M23[ta_4]\n",
    "                    sum_num=k1+k2+k3+k4\n",
    "\n",
    "                    if 10<=sum_num<=13:\n",
    "                        list_tas_10_13=[ta_1,ta_2,ta_3,ta_4]\n",
    "                        df=df_input_M23[df_input_M23['TA'].isin(list_tas_10_13)]\n",
    "                        df['str_ta_list']=str(list_tas_10_13)\n",
    "                        df=df.groupby(\"str_ta_list\")['store_count','zip_count','sales_field','kids_0_9_census'].sum().reset_index()\n",
    "                        list_4_df.append(df)\n",
    "                \n",
    "            else:\n",
    "                break\n",
    "                    \n",
    "                    \n",
    "df_4_combination_M23=pd.concat(list_4_df)\n",
    "del list_4_df\n",
    "gc.collect()\n",
    "print(\"done 4: \",datetime.datetime.now())"
   ]
  },
  {
   "cell_type": "code",
   "execution_count": null,
   "metadata": {
    "collapsed": true
   },
   "outputs": [],
   "source": []
  },
  {
   "cell_type": "code",
   "execution_count": 19,
   "metadata": {},
   "outputs": [
    {
     "data": {
      "text/plain": [
       "54648"
      ]
     },
     "execution_count": 19,
     "metadata": {},
     "output_type": "execute_result"
    }
   ],
   "source": [
    "54648880440//10**6"
   ]
  },
  {
   "cell_type": "code",
   "execution_count": 22,
   "metadata": {},
   "outputs": [
    {
     "data": {
      "text/plain": [
       "11"
      ]
     },
     "execution_count": 22,
     "metadata": {},
     "output_type": "execute_result"
    }
   ],
   "source": [
    "sum_3"
   ]
  },
  {
   "cell_type": "code",
   "execution_count": 24,
   "metadata": {},
   "outputs": [
    {
     "data": {
      "text/plain": [
       "False"
      ]
     },
     "execution_count": 24,
     "metadata": {},
     "output_type": "execute_result"
    }
   ],
   "source": [
    "6<=sum_3<=10"
   ]
  },
  {
   "cell_type": "code",
   "execution_count": null,
   "metadata": {
    "collapsed": true
   },
   "outputs": [],
   "source": []
  }
 ],
 "metadata": {
  "kernelspec": {
   "display_name": "Python 3",
   "language": "python",
   "name": "python3"
  },
  "language_info": {
   "codemirror_mode": {
    "name": "ipython",
    "version": 3
   },
   "file_extension": ".py",
   "mimetype": "text/x-python",
   "name": "python",
   "nbconvert_exporter": "python",
   "pygments_lexer": "ipython3",
   "version": "3.6.1"
  }
 },
 "nbformat": 4,
 "nbformat_minor": 2
}
