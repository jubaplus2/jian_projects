{
 "cells": [
  {
   "cell_type": "code",
   "execution_count": 1,
   "metadata": {},
   "outputs": [
    {
     "name": "stdout",
     "output_type": "stream",
     "text": [
      "2020-01-24 14:11:28.549792\n",
      "/home/jian/Projects/Big_Lots/Analysis/2019_Q4/Planner_Request/JT_non_rewards_sales_so_far_2019Q4_4_weeks\n",
      "ty_start_date: 2019-11-03\n",
      "ty_end_date: 2020-02-01\n",
      "ly_start_date: 2018-11-04\n",
      "ly_end_date: 2019-02-02\n"
     ]
    }
   ],
   "source": [
    "import pandas as pd\n",
    "import numpy as np\n",
    "import datetime\n",
    "import os\n",
    "import glob\n",
    "print(datetime.datetime.now())\n",
    "print(os.getcwd())\n",
    "\n",
    "ty_start_date=datetime.date(2019,11,3)\n",
    "ty_end_date=datetime.date(2020,2,1)\n",
    "\n",
    "ly_start_date=ty_start_date-datetime.timedelta(days=52*7)\n",
    "ly_end_date=ty_end_date-datetime.timedelta(days=52*7)\n",
    "\n",
    "\n",
    "print(\"ty_start_date:\",ty_start_date)\n",
    "print(\"ty_end_date:\",ty_end_date)\n",
    "\n",
    "print(\"ly_start_date:\",ly_start_date)\n",
    "print(\"ly_end_date:\",ly_end_date)\n"
   ]
  },
  {
   "cell_type": "code",
   "execution_count": 2,
   "metadata": {},
   "outputs": [
    {
     "name": "stdout",
     "output_type": "stream",
     "text": [
      "13\n"
     ]
    }
   ],
   "source": [
    "def recursive_file_gen(root_path):\n",
    "    for root, dirs, files in os.walk(root_path):\n",
    "        for file in files:\n",
    "            yield os.path.join(root,file)\n",
    "list_files_ly=glob.glob(\"/home/jian/BigLots/hist_daily_data_itemlevel_decompressed/*.txt\")\n",
    "list_files_ly=[x for x in list_files_ly if x.split(\"/MediaStormDailySalesHistory\")[1][:8]>=str(ly_start_date).replace(\"-\",\"\")]\n",
    "list_files_ly=[x for x in list_files_ly if x.split(\"/MediaStormDailySalesHistory\")[1][:8]<=str(ly_end_date).replace(\"-\",\"\")]\n",
    "list_files_ly.sort()\n",
    "print(len(list_files_ly))"
   ]
  },
  {
   "cell_type": "code",
   "execution_count": 3,
   "metadata": {},
   "outputs": [
    {
     "name": "stdout",
     "output_type": "stream",
     "text": [
      "11\n"
     ]
    }
   ],
   "source": [
    "list_file_ty=recursive_file_gen(\"/home/jian/BigLots/\")\n",
    "list_file_ty=[x for x in list_file_ty if \"dailysales\" in x.lower()]\n",
    "list_file_ty=[x for x in list_file_ty if \"/MediaStorm_\" in x]\n",
    "list_file_ty=[x for x in list_file_ty if x.split(\"/MediaStorm_\")[1][:10]>=str(ty_start_date)]\n",
    "list_file_ty=[x for x in list_file_ty if x.split(\"/MediaStorm_\")[1][:10]<=str(ty_end_date)]\n",
    "list_file_ty.sort()\n",
    "print(len(list_file_ty))"
   ]
  },
  {
   "cell_type": "code",
   "execution_count": 5,
   "metadata": {},
   "outputs": [
    {
     "data": {
      "text/html": [
       "<div>\n",
       "<style scoped>\n",
       "    .dataframe tbody tr th:only-of-type {\n",
       "        vertical-align: middle;\n",
       "    }\n",
       "\n",
       "    .dataframe tbody tr th {\n",
       "        vertical-align: top;\n",
       "    }\n",
       "\n",
       "    .dataframe thead th {\n",
       "        text-align: right;\n",
       "    }\n",
       "</style>\n",
       "<table border=\"1\" class=\"dataframe\">\n",
       "  <thead>\n",
       "    <tr style=\"text-align: right;\">\n",
       "      <th></th>\n",
       "      <th>division_id</th>\n",
       "      <th>class_code_id</th>\n",
       "      <th>subclass_id</th>\n",
       "    </tr>\n",
       "  </thead>\n",
       "  <tbody>\n",
       "    <tr>\n",
       "      <th>0</th>\n",
       "      <td>1</td>\n",
       "      <td>11001</td>\n",
       "      <td>2</td>\n",
       "    </tr>\n",
       "    <tr>\n",
       "      <th>1</th>\n",
       "      <td>1</td>\n",
       "      <td>11001</td>\n",
       "      <td>4</td>\n",
       "    </tr>\n",
       "  </tbody>\n",
       "</table>\n",
       "</div>"
      ],
      "text/plain": [
       "  division_id class_code_id subclass_id\n",
       "0           1         11001           2\n",
       "1           1         11001           4"
      ]
     },
     "execution_count": 5,
     "metadata": {},
     "output_type": "execute_result"
    }
   ],
   "source": [
    "df_product_taxo=pd.read_table(\"/home/jian/BigLots/static_files/ProductTaxonomy/MediaStormProductTaxonomy20200101-135600-916.txt\",\n",
    "                              dtype=str,sep=\"|\")\n",
    "df_product_taxo=df_product_taxo[['division_id','class_code_id','subclass_id']].drop_duplicates()\n",
    "\n",
    "df_division_name=pd.read_table(\"/home/jian/BigLots/static_files/MediaStorm Data Extract - Division Names.txt\",sep=\"|\")\n",
    "df_product_taxo.head(2)"
   ]
  },
  {
   "cell_type": "code",
   "execution_count": null,
   "metadata": {},
   "outputs": [],
   "source": [
    "df_sales_by_divison_ly=pd.DataFrame()\n",
    "\n",
    "for file in list_file_ls:\n",
    "    df=pd.read_table(file,dtype=str,sep=\"|\",nrows=10)"
   ]
  },
  {
   "cell_type": "code",
   "execution_count": null,
   "metadata": {},
   "outputs": [],
   "source": []
  }
 ],
 "metadata": {
  "kernelspec": {
   "display_name": "Python 3",
   "language": "python",
   "name": "python3"
  },
  "language_info": {
   "codemirror_mode": {
    "name": "ipython",
    "version": 3
   },
   "file_extension": ".py",
   "mimetype": "text/x-python",
   "name": "python",
   "nbconvert_exporter": "python",
   "pygments_lexer": "ipython3",
   "version": "3.6.1"
  }
 },
 "nbformat": 4,
 "nbformat_minor": 2
}
