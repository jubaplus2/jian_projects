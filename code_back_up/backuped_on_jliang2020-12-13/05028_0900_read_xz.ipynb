{
 "cells": [
  {
   "cell_type": "code",
   "execution_count": 2,
   "metadata": {},
   "outputs": [
    {
     "data": {
      "text/plain": [
       "'/home/jian/Projects/C21/data'"
      ]
     },
     "execution_count": 2,
     "metadata": {},
     "output_type": "execute_result"
    }
   ],
   "source": [
    "import pandas as pd\n",
    "import os\n",
    "os.getcwd()"
   ]
  },
  {
   "cell_type": "code",
   "execution_count": null,
   "metadata": {
    "collapsed": true
   },
   "outputs": [],
   "source": [
    "test_transactions=pd.read_table(\"/home/jian/Projects/C21/data/POS_Transaction_Data_02152019.txt.xz\",sep=\"|\",compression=\"xz\")\n",
    "\n"
   ]
  },
  {
   "cell_type": "code",
   "execution_count": null,
   "metadata": {},
   "outputs": [],
   "source": [
    "test_master=pd.read_table(\"/home/jian/Projects/C21/data/Loyalty_ID_Master_File_02152019.txt.xz\",sep=\"|\",compression=\"xz\",nrows=10)\n",
    "\n"
   ]
  },
  {
   "cell_type": "code",
   "execution_count": 7,
   "metadata": {},
   "outputs": [
    {
     "data": {
      "text/plain": [
       "'                                                                                                                                             '"
      ]
     },
     "execution_count": 7,
     "metadata": {},
     "output_type": "execute_result"
    }
   ],
   "source": [
    "test['Loyalty_ID                                                                                                         '][1]"
   ]
  },
  {
   "cell_type": "code",
   "execution_count": 8,
   "metadata": {},
   "outputs": [
    {
     "data": {
      "text/html": [
       "<div>\n",
       "<style>\n",
       "    .dataframe thead tr:only-child th {\n",
       "        text-align: right;\n",
       "    }\n",
       "\n",
       "    .dataframe thead th {\n",
       "        text-align: left;\n",
       "    }\n",
       "\n",
       "    .dataframe tbody tr th {\n",
       "        vertical-align: top;\n",
       "    }\n",
       "</style>\n",
       "<table border=\"1\" class=\"dataframe\">\n",
       "  <thead>\n",
       "    <tr style=\"text-align: right;\">\n",
       "      <th></th>\n",
       "      <th>Transaction_number</th>\n",
       "      <th>Store_number</th>\n",
       "      <th>Transaction_Date</th>\n",
       "      <th>TransactionTime</th>\n",
       "      <th>Item_SKU</th>\n",
       "      <th>Price</th>\n",
       "      <th>Quantity</th>\n",
       "      <th>Loyalty_ID</th>\n",
       "    </tr>\n",
       "  </thead>\n",
       "  <tbody>\n",
       "    <tr>\n",
       "      <th>0</th>\n",
       "      <td>7-30-64001-01/03/2019</td>\n",
       "      <td>7</td>\n",
       "      <td>03-JAN-19</td>\n",
       "      <td>21:02:00</td>\n",
       "      <td>7669-9821001</td>\n",
       "      <td>9.99</td>\n",
       "      <td>1</td>\n",
       "      <td>...</td>\n",
       "    </tr>\n",
       "    <tr>\n",
       "      <th>1</th>\n",
       "      <td>7-30-64001-01/03/2019</td>\n",
       "      <td>7</td>\n",
       "      <td>03-JAN-19</td>\n",
       "      <td>21:02:00</td>\n",
       "      <td>7669-9821001</td>\n",
       "      <td>9.99</td>\n",
       "      <td>1</td>\n",
       "      <td>...</td>\n",
       "    </tr>\n",
       "    <tr>\n",
       "      <th>2</th>\n",
       "      <td>7-35-60623-01/03/2019</td>\n",
       "      <td>7</td>\n",
       "      <td>03-JAN-19</td>\n",
       "      <td>20:31:00</td>\n",
       "      <td>2332-1575003</td>\n",
       "      <td>19.99</td>\n",
       "      <td>1</td>\n",
       "      <td>...</td>\n",
       "    </tr>\n",
       "    <tr>\n",
       "      <th>3</th>\n",
       "      <td>7-21-19141-01/03/2019</td>\n",
       "      <td>7</td>\n",
       "      <td>03-JAN-19</td>\n",
       "      <td>20:04:00</td>\n",
       "      <td>9562-2631000</td>\n",
       "      <td>14.99</td>\n",
       "      <td>1</td>\n",
       "      <td>...</td>\n",
       "    </tr>\n",
       "    <tr>\n",
       "      <th>4</th>\n",
       "      <td>7-34-65222-01/03/2019</td>\n",
       "      <td>7</td>\n",
       "      <td>03-JAN-19</td>\n",
       "      <td>21:19:00</td>\n",
       "      <td>5125-6808007</td>\n",
       "      <td>34.99</td>\n",
       "      <td>1</td>\n",
       "      <td>...</td>\n",
       "    </tr>\n",
       "    <tr>\n",
       "      <th>5</th>\n",
       "      <td>7-37-52921-01/03/2019</td>\n",
       "      <td>7</td>\n",
       "      <td>03-JAN-19</td>\n",
       "      <td>14:16:00</td>\n",
       "      <td>4151-1891001</td>\n",
       "      <td>18.99</td>\n",
       "      <td>1</td>\n",
       "      <td>...</td>\n",
       "    </tr>\n",
       "    <tr>\n",
       "      <th>6</th>\n",
       "      <td>7-228-4244-01/03/2019</td>\n",
       "      <td>7</td>\n",
       "      <td>03-JAN-19</td>\n",
       "      <td>15:19:00</td>\n",
       "      <td>3167-3234003</td>\n",
       "      <td>11.99</td>\n",
       "      <td>1</td>\n",
       "      <td>...</td>\n",
       "    </tr>\n",
       "    <tr>\n",
       "      <th>7</th>\n",
       "      <td>7-31-54407-01/03/2019</td>\n",
       "      <td>7</td>\n",
       "      <td>03-JAN-19</td>\n",
       "      <td>15:33:00</td>\n",
       "      <td>7199-7411001</td>\n",
       "      <td>3.99</td>\n",
       "      <td>1</td>\n",
       "      <td>...</td>\n",
       "    </tr>\n",
       "    <tr>\n",
       "      <th>8</th>\n",
       "      <td>7-31-54473-01/03/2019</td>\n",
       "      <td>7</td>\n",
       "      <td>03-JAN-19</td>\n",
       "      <td>20:06:00</td>\n",
       "      <td>7199-7411001</td>\n",
       "      <td>3.99</td>\n",
       "      <td>1</td>\n",
       "      <td>...</td>\n",
       "    </tr>\n",
       "    <tr>\n",
       "      <th>9</th>\n",
       "      <td>7-32-52805-01/03/2019</td>\n",
       "      <td>7</td>\n",
       "      <td>03-JAN-19</td>\n",
       "      <td>15:21:00</td>\n",
       "      <td>1621-3416002</td>\n",
       "      <td>29.99</td>\n",
       "      <td>1</td>\n",
       "      <td>...</td>\n",
       "    </tr>\n",
       "  </tbody>\n",
       "</table>\n",
       "</div>"
      ],
      "text/plain": [
       "      Transaction_number  Store_number Transaction_Date TransactionTime  \\\n",
       "0  7-30-64001-01/03/2019             7        03-JAN-19        21:02:00   \n",
       "1  7-30-64001-01/03/2019             7        03-JAN-19        21:02:00   \n",
       "2  7-35-60623-01/03/2019             7        03-JAN-19        20:31:00   \n",
       "3  7-21-19141-01/03/2019             7        03-JAN-19        20:04:00   \n",
       "4  7-34-65222-01/03/2019             7        03-JAN-19        21:19:00   \n",
       "5  7-37-52921-01/03/2019             7        03-JAN-19        14:16:00   \n",
       "6  7-228-4244-01/03/2019             7        03-JAN-19        15:19:00   \n",
       "7  7-31-54407-01/03/2019             7        03-JAN-19        15:33:00   \n",
       "8  7-31-54473-01/03/2019             7        03-JAN-19        20:06:00   \n",
       "9  7-32-52805-01/03/2019             7        03-JAN-19        15:21:00   \n",
       "\n",
       "       Item_SKU  Price  Quantity  \\\n",
       "0  7669-9821001   9.99         1   \n",
       "1  7669-9821001   9.99         1   \n",
       "2  2332-1575003  19.99         1   \n",
       "3  9562-2631000  14.99         1   \n",
       "4  5125-6808007  34.99         1   \n",
       "5  4151-1891001  18.99         1   \n",
       "6  3167-3234003  11.99         1   \n",
       "7  7199-7411001   3.99         1   \n",
       "8  7199-7411001   3.99         1   \n",
       "9  1621-3416002  29.99         1   \n",
       "\n",
       "  Loyalty_ID                                                                                                           \n",
       "0                                                ...                                                                   \n",
       "1                                                ...                                                                   \n",
       "2                                                ...                                                                   \n",
       "3                                                ...                                                                   \n",
       "4                                                ...                                                                   \n",
       "5                                                ...                                                                   \n",
       "6                                                ...                                                                   \n",
       "7                                                ...                                                                   \n",
       "8                                                ...                                                                   \n",
       "9                                                ...                                                                   "
      ]
     },
     "execution_count": 8,
     "metadata": {},
     "output_type": "execute_result"
    }
   ],
   "source": [
    "test"
   ]
  },
  {
   "cell_type": "code",
   "execution_count": null,
   "metadata": {
    "collapsed": true
   },
   "outputs": [],
   "source": []
  }
 ],
 "metadata": {
  "kernelspec": {
   "display_name": "Python 3",
   "language": "python",
   "name": "python3"
  },
  "language_info": {
   "codemirror_mode": {
    "name": "ipython",
    "version": 3
   },
   "file_extension": ".py",
   "mimetype": "text/x-python",
   "name": "python",
   "nbconvert_exporter": "python",
   "pygments_lexer": "ipython3",
   "version": "3.6.1"
  }
 },
 "nbformat": 4,
 "nbformat_minor": 2
}
