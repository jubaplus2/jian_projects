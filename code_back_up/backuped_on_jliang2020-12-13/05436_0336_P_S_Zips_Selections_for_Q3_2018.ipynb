{
 "cells": [
  {
   "cell_type": "code",
   "execution_count": 1,
   "metadata": {
    "collapsed": true
   },
   "outputs": [],
   "source": [
    "import pandas as pd\n",
    "import numpy as np\n",
    "import datetime"
   ]
  },
  {
   "cell_type": "code",
   "execution_count": 2,
   "metadata": {
    "collapsed": true
   },
   "outputs": [],
   "source": [
    "all_zips=pd.read_excel(\"/home/jian/Projects/Big_Lots/New_TA/P_S_Selections/BL_All Zips with Q2 Label_JL_20180402 new label.xlsx\",dtype=str)\n",
    "\n",
    "del all_zips['Store 2017 Q2 Sales Label']"
   ]
  },
  {
   "cell_type": "code",
   "execution_count": 3,
   "metadata": {
    "collapsed": true
   },
   "outputs": [],
   "source": [
    "Store_List_From_Dom=pd.read_excel(\"/home/jian/Projects/Big_Lots/New_TA/P_S_Selections/Store List 6.14.18 225PM.xlsx\",dtype=str,sheetname=\"Store List\")\n",
    "Store_List_From_Dom=Store_List_From_Dom.iloc[0:1415,:]\n",
    "scheduled_close_store=['213','430','575','1233']\n",
    "Store_List_From_Dom=Store_List_From_Dom[~Store_List_From_Dom['Store'].isin(scheduled_close_store)]\n",
    "Store_List_From_Dom=Store_List_From_Dom[['Store','City','ST','Open Date']]"
   ]
  },
  {
   "cell_type": "code",
   "execution_count": 4,
   "metadata": {},
   "outputs": [
    {
     "data": {
      "text/plain": [
       "array(['1', '3', '29', ..., '5344', '5345', '5346'], dtype=object)"
      ]
     },
     "execution_count": 4,
     "metadata": {},
     "output_type": "execute_result"
    }
   ],
   "source": [
    "Sales_Store=pd.read_csv(\"/home/jian/BiglotsCode/outputs/combined_sales_long_2018-06-09.csv\",dtype=str)\n",
    "Sales_Store=Sales_Store[Sales_Store['location_id'].isin(Store_List_From_Dom['Store'])]\n",
    "Sales_Store['week_end_date']=Sales_Store['week_end_date'].apply(lambda x: datetime.datetime.strptime(x,\"%Y-%m-%d\").date())\n",
    "Sales_Store['sales']=Sales_Store['sales'].astype(float)\n",
    "Sales_Store=Sales_Store[Sales_Store['sales']>0]\n",
    "\n",
    "\n",
    "Sales_Store_Q3_2017=Sales_Store[(Sales_Store['week_end_date']>= datetime.date(2017,8,12)) & (Sales_Store['week_end_date']<= datetime.date(2017,11,4))]\n",
    "\n",
    "Sales_Store_Count=Sales_Store_Q3_2017.groupby(['location_id'])['week_end_date'].count().to_frame().reset_index()\n",
    "Sales_Store_Count_Not_13=Sales_Store_Count[Sales_Store_Count['week_end_date']!=13]\n",
    "\n",
    "Sales_Store_Before_Q3_2017=Sales_Store[~Sales_Store['location_id'].isin(Sales_Store_Count_Not_13['location_id'])]\n",
    "Sales_Store_Before_Q3_2017=Sales_Store_Before_Q3_2017[Sales_Store_Before_Q3_2017['week_end_date']<datetime.date(2017,8,12)]\n",
    "\n",
    "New_List_1=['310','1964','4193']\n",
    "Avg_List=['550','1053','1801']\n",
    "New_List_2=Sales_Store_Count_Not_13[~Sales_Store_Count_Not_13['location_id'].isin(Avg_List+New_List_1)]['location_id'].tolist()\n",
    "New_List_3=[x for x in Store_List_From_Dom['Store'] if x not in Sales_Store_Q3_2017['location_id'].unique().tolist()]\n",
    "New_List=New_List_1+New_List_2+New_List_3\n",
    "Sales_Store_Before_Q3_2017['location_id'].unique()"
   ]
  },
  {
   "cell_type": "code",
   "execution_count": 5,
   "metadata": {
    "collapsed": true
   },
   "outputs": [],
   "source": [
    "Sales_Store_Q3_2017=Sales_Store_Q3_2017.groupby(['location_id'])['sales'].sum().to_frame().reset_index()\n",
    "Sales_Store_Q3_2017=Sales_Store_Q3_2017[~Sales_Store_Q3_2017['location_id'].isin(New_List)]\n",
    "Sales_Store_Q3_2017=pd.merge(Sales_Store_Q3_2017,Sales_Store_Count,on=\"location_id\",how=\"left\")\n",
    "Sales_Store_Q3_2017['sales_avg']=Sales_Store_Q3_2017['sales']/Sales_Store_Q3_2017['week_end_date']\n",
    "Sales_Store_Q3_2017['store_sales_label_17Q3']=np.where(Sales_Store_Q3_2017['sales_avg']>=np.percentile(Sales_Store_Q3_2017['sales_avg'],80),\"H\",\n",
    "                                            np.where(Sales_Store_Q3_2017['sales_avg']>=np.percentile(Sales_Store_Q3_2017['sales_avg'],20),\"M\",\"L\")\n",
    "                                            )\n",
    "Sales_Store_Q3_2017_Label=Sales_Store_Q3_2017[['location_id','store_sales_label_17Q3']]\n"
   ]
  },
  {
   "cell_type": "code",
   "execution_count": 6,
   "metadata": {},
   "outputs": [
    {
     "data": {
      "text/html": [
       "<div>\n",
       "<style>\n",
       "    .dataframe thead tr:only-child th {\n",
       "        text-align: right;\n",
       "    }\n",
       "\n",
       "    .dataframe thead th {\n",
       "        text-align: left;\n",
       "    }\n",
       "\n",
       "    .dataframe tbody tr th {\n",
       "        vertical-align: top;\n",
       "    }\n",
       "</style>\n",
       "<table border=\"1\" class=\"dataframe\">\n",
       "  <thead>\n",
       "    <tr style=\"text-align: right;\">\n",
       "      <th></th>\n",
       "      <th>location_id</th>\n",
       "      <th>store_sales_label_17Q3</th>\n",
       "    </tr>\n",
       "  </thead>\n",
       "  <tbody>\n",
       "    <tr>\n",
       "      <th>0</th>\n",
       "      <td>1</td>\n",
       "      <td>H</td>\n",
       "    </tr>\n",
       "    <tr>\n",
       "      <th>1</th>\n",
       "      <td>1001</td>\n",
       "      <td>L</td>\n",
       "    </tr>\n",
       "  </tbody>\n",
       "</table>\n",
       "</div>"
      ],
      "text/plain": [
       "  location_id store_sales_label_17Q3\n",
       "0           1                      H\n",
       "1        1001                      L"
      ]
     },
     "execution_count": 6,
     "metadata": {},
     "output_type": "execute_result"
    }
   ],
   "source": [
    "Sales_Store_Q3_2017_Label.head(2)"
   ]
  },
  {
   "cell_type": "code",
   "execution_count": 7,
   "metadata": {
    "collapsed": true
   },
   "outputs": [],
   "source": [
    "Store_List_From_Dom_Label=Store_List_From_Dom[['Store','City','ST','Open Date']].rename(columns={\"Store\":\"location_id\"})\n",
    "Store_List_From_Dom_Label=pd.merge(Store_List_From_Dom_Label,Sales_Store_Q3_2017_Label,on=\"location_id\",how=\"left\")\n",
    "Store_List_From_Dom_Label['store_sales_label_17Q3']=Store_List_From_Dom_Label['store_sales_label_17Q3'].fillna(\"new\")\n",
    "Store_List_From_Dom_Label=Store_List_From_Dom_Label[['location_id','store_sales_label_17Q3']]"
   ]
  },
  {
   "cell_type": "code",
   "execution_count": 8,
   "metadata": {},
   "outputs": [
    {
     "data": {
      "text/html": [
       "<div>\n",
       "<style>\n",
       "    .dataframe thead tr:only-child th {\n",
       "        text-align: right;\n",
       "    }\n",
       "\n",
       "    .dataframe thead th {\n",
       "        text-align: left;\n",
       "    }\n",
       "\n",
       "    .dataframe tbody tr th {\n",
       "        vertical-align: top;\n",
       "    }\n",
       "</style>\n",
       "<table border=\"1\" class=\"dataframe\">\n",
       "  <thead>\n",
       "    <tr style=\"text-align: right;\">\n",
       "      <th></th>\n",
       "      <th>location_id</th>\n",
       "      <th>store_sales_label_17Q3</th>\n",
       "    </tr>\n",
       "  </thead>\n",
       "  <tbody>\n",
       "    <tr>\n",
       "      <th>0</th>\n",
       "      <td>1</td>\n",
       "      <td>H</td>\n",
       "    </tr>\n",
       "    <tr>\n",
       "      <th>1</th>\n",
       "      <td>3</td>\n",
       "      <td>M</td>\n",
       "    </tr>\n",
       "  </tbody>\n",
       "</table>\n",
       "</div>"
      ],
      "text/plain": [
       "  location_id store_sales_label_17Q3\n",
       "0           1                      H\n",
       "1           3                      M"
      ]
     },
     "execution_count": 8,
     "metadata": {},
     "output_type": "execute_result"
    }
   ],
   "source": [
    "Store_List_From_Dom_Label.head(2)"
   ]
  },
  {
   "cell_type": "code",
   "execution_count": 9,
   "metadata": {},
   "outputs": [
    {
     "name": "stderr",
     "output_type": "stream",
     "text": [
      "/usr/local/lib/python3.6/site-packages/ipykernel_launcher.py:3: SettingWithCopyWarning: \n",
      "A value is trying to be set on a copy of a slice from a DataFrame.\n",
      "Try using .loc[row_indexer,col_indexer] = value instead\n",
      "\n",
      "See the caveats in the documentation: http://pandas.pydata.org/pandas-docs/stable/indexing.html#indexing-view-versus-copy\n",
      "  This is separate from the ipykernel package so we can avoid doing imports until\n"
     ]
    }
   ],
   "source": [
    "all_zips_store=all_zips[all_zips['location_id']!=\"nan\"]\n",
    "all_zips_no_store=all_zips[all_zips['location_id']==\"nan\"]\n",
    "all_zips_no_store['store_sales_label_17Q3']=\"nan\""
   ]
  },
  {
   "cell_type": "code",
   "execution_count": 10,
   "metadata": {
    "collapsed": true
   },
   "outputs": [],
   "source": [
    "all_zips_store=pd.merge(all_zips_store,Store_List_From_Dom_Label,on=\"location_id\",how=\"left\")\n",
    "\n",
    "all_zips_store['store_sales_label_17Q3']=all_zips_store['store_sales_label_17Q3'].fillna(\"closed\")\n",
    "all_zips=all_zips_store.append(all_zips_no_store)"
   ]
  },
  {
   "cell_type": "code",
   "execution_count": 11,
   "metadata": {},
   "outputs": [
    {
     "data": {
      "text/html": [
       "<div>\n",
       "<style>\n",
       "    .dataframe thead tr:only-child th {\n",
       "        text-align: right;\n",
       "    }\n",
       "\n",
       "    .dataframe thead th {\n",
       "        text-align: left;\n",
       "    }\n",
       "\n",
       "    .dataframe tbody tr th {\n",
       "        vertical-align: top;\n",
       "    }\n",
       "</style>\n",
       "<table border=\"1\" class=\"dataframe\">\n",
       "  <thead>\n",
       "    <tr style=\"text-align: right;\">\n",
       "      <th></th>\n",
       "      <th>location_id</th>\n",
       "      <th>zip_cd</th>\n",
       "      <th>zip</th>\n",
       "      <th>net_transaction_amt</th>\n",
       "      <th>transactions</th>\n",
       "      <th>revenue_flag</th>\n",
       "      <th>transaction_flag</th>\n",
       "      <th>trade_area_code</th>\n",
       "      <th>dma</th>\n",
       "      <th>allocated_dma_in_analysis</th>\n",
       "      <th>...</th>\n",
       "      <th>DMA_1</th>\n",
       "      <th>DMA_2</th>\n",
       "      <th>DMA_3</th>\n",
       "      <th>city_of_store</th>\n",
       "      <th>state_of_store</th>\n",
       "      <th>TA_of_store</th>\n",
       "      <th>Total Store Count in TA (based on zip)</th>\n",
       "      <th>longitude</th>\n",
       "      <th>latitude</th>\n",
       "      <th>store_sales_label_17Q3</th>\n",
       "    </tr>\n",
       "  </thead>\n",
       "  <tbody>\n",
       "    <tr>\n",
       "      <th>0</th>\n",
       "      <td>1</td>\n",
       "      <td>43232</td>\n",
       "      <td>43232</td>\n",
       "      <td>1111495.5</td>\n",
       "      <td>3679</td>\n",
       "      <td>P</td>\n",
       "      <td>P</td>\n",
       "      <td>N14</td>\n",
       "      <td>['COLUMBUS, OH']</td>\n",
       "      <td>COLUMBUS, OH</td>\n",
       "      <td>...</td>\n",
       "      <td>COLUMBUS, OH</td>\n",
       "      <td>nan</td>\n",
       "      <td>nan</td>\n",
       "      <td>COLUMBUS</td>\n",
       "      <td>OH</td>\n",
       "      <td>N14</td>\n",
       "      <td>15</td>\n",
       "      <td>-82.914789</td>\n",
       "      <td>39.913636</td>\n",
       "      <td>H</td>\n",
       "    </tr>\n",
       "    <tr>\n",
       "      <th>1</th>\n",
       "      <td>3</td>\n",
       "      <td>30906</td>\n",
       "      <td>30906</td>\n",
       "      <td>605343.05</td>\n",
       "      <td>2498</td>\n",
       "      <td>P</td>\n",
       "      <td>P</td>\n",
       "      <td>N83</td>\n",
       "      <td>['AUGUSTA-AIKEN']</td>\n",
       "      <td>AUGUSTA-AIKEN</td>\n",
       "      <td>...</td>\n",
       "      <td>AUGUSTA-AIKEN</td>\n",
       "      <td>nan</td>\n",
       "      <td>nan</td>\n",
       "      <td>AUGUSTA</td>\n",
       "      <td>GA</td>\n",
       "      <td>N83</td>\n",
       "      <td>3</td>\n",
       "      <td>-82.018921</td>\n",
       "      <td>33.42157</td>\n",
       "      <td>M</td>\n",
       "    </tr>\n",
       "  </tbody>\n",
       "</table>\n",
       "<p>2 rows × 21 columns</p>\n",
       "</div>"
      ],
      "text/plain": [
       "  location_id zip_cd    zip net_transaction_amt transactions revenue_flag  \\\n",
       "0           1  43232  43232           1111495.5         3679            P   \n",
       "1           3  30906  30906           605343.05         2498            P   \n",
       "\n",
       "  transaction_flag trade_area_code                dma  \\\n",
       "0                P             N14   ['COLUMBUS, OH']   \n",
       "1                P             N83  ['AUGUSTA-AIKEN']   \n",
       "\n",
       "  allocated_dma_in_analysis          ...                    DMA_1 DMA_2 DMA_3  \\\n",
       "0              COLUMBUS, OH          ...             COLUMBUS, OH   nan   nan   \n",
       "1             AUGUSTA-AIKEN          ...            AUGUSTA-AIKEN   nan   nan   \n",
       "\n",
       "  city_of_store state_of_store TA_of_store  \\\n",
       "0      COLUMBUS             OH         N14   \n",
       "1       AUGUSTA             GA         N83   \n",
       "\n",
       "  Total Store Count in TA (based on zip)   longitude   latitude  \\\n",
       "0                                     15  -82.914789  39.913636   \n",
       "1                                      3  -82.018921   33.42157   \n",
       "\n",
       "  store_sales_label_17Q3  \n",
       "0                      H  \n",
       "1                      M  \n",
       "\n",
       "[2 rows x 21 columns]"
      ]
     },
     "execution_count": 11,
     "metadata": {},
     "output_type": "execute_result"
    }
   ],
   "source": [
    "all_zips.head(2)"
   ]
  },
  {
   "cell_type": "code",
   "execution_count": 12,
   "metadata": {
    "collapsed": true
   },
   "outputs": [],
   "source": [
    "store_ta_label=all_zips[['location_id','allocated_dma_in_analysis','TA_of_store','store_sales_label_17Q3']]\n",
    "store_ta_label=store_ta_label[~pd.isnull(store_ta_label['store_sales_label_17Q3'])]\n",
    "store_ta_label=store_ta_label[store_ta_label['store_sales_label_17Q3']!='nan']\n",
    "store_ta_label=store_ta_label.drop_duplicates().reset_index()\n",
    "del store_ta_label['index']"
   ]
  },
  {
   "cell_type": "code",
   "execution_count": 13,
   "metadata": {
    "collapsed": true
   },
   "outputs": [],
   "source": [
    "DMA_List=pd.read_excel(\"/home/jian/Projects/Big_Lots/New_TA/P_S_Selections/Q3_Markets.xlsx\",dtype=str)\n"
   ]
  },
  {
   "cell_type": "code",
   "execution_count": 15,
   "metadata": {},
   "outputs": [
    {
     "data": {
      "text/plain": [
       "(12, 2)"
      ]
     },
     "execution_count": 15,
     "metadata": {},
     "output_type": "execute_result"
    }
   ],
   "source": [
    "DMA_List.shape"
   ]
  },
  {
   "cell_type": "code",
   "execution_count": 16,
   "metadata": {
    "collapsed": true
   },
   "outputs": [],
   "source": [
    "Stores_in_DMA=store_ta_label[store_ta_label['allocated_dma_in_analysis'].isin(DMA_List['Market'])]\n",
    "\n",
    "Stores_in_DMA=Stores_in_DMA[~Stores_in_DMA['store_sales_label_17Q3'].isin(['L','closed'])]"
   ]
  },
  {
   "cell_type": "code",
   "execution_count": 17,
   "metadata": {
    "collapsed": true
   },
   "outputs": [],
   "source": [
    "Stores_in_DMA.reset_index(inplace=True)\n",
    "del Stores_in_DMA['index']"
   ]
  },
  {
   "cell_type": "code",
   "execution_count": 18,
   "metadata": {},
   "outputs": [
    {
     "data": {
      "text/plain": [
       "(139, 4)"
      ]
     },
     "execution_count": 18,
     "metadata": {},
     "output_type": "execute_result"
    }
   ],
   "source": [
    "Stores_in_DMA.shape"
   ]
  },
  {
   "cell_type": "code",
   "execution_count": 19,
   "metadata": {
    "collapsed": true
   },
   "outputs": [],
   "source": [
    "TA_List=Stores_in_DMA['TA_of_store'].unique().tolist()\n",
    "all_stores_in24_dma=Stores_in_DMA['location_id'].unique().tolist()"
   ]
  },
  {
   "cell_type": "code",
   "execution_count": 20,
   "metadata": {
    "collapsed": true
   },
   "outputs": [],
   "source": [
    "today_str=str(datetime.datetime.now().date())"
   ]
  },
  {
   "cell_type": "code",
   "execution_count": 21,
   "metadata": {},
   "outputs": [
    {
     "data": {
      "text/plain": [
       "'2018-06-19'"
      ]
     },
     "execution_count": 21,
     "metadata": {},
     "output_type": "execute_result"
    }
   ],
   "source": [
    "today_str"
   ]
  },
  {
   "cell_type": "code",
   "execution_count": 22,
   "metadata": {
    "collapsed": true
   },
   "outputs": [],
   "source": [
    "writer = pd.ExcelWriter('/home/jian/Projects/Big_Lots/New_TA/P_S_Selections/BL_zips_by_dma_by_ta_JL_'+today_str+'.xlsx', engine='xlsxwriter')"
   ]
  },
  {
   "cell_type": "code",
   "execution_count": 23,
   "metadata": {
    "collapsed": true
   },
   "outputs": [],
   "source": [
    "# 24 DMAs, not removed and change yet\n",
    "\n",
    "Agg_DF=pd.DataFrame()\n",
    "Agg_24dma_P=pd.DataFrame()\n",
    "Agg_24dma_S=pd.DataFrame()\n",
    "\n",
    "all_24_DMAs=Stores_in_DMA['allocated_dma_in_analysis'].unique().tolist()\n",
    "# all_23_DMAs=all_24_DMAs.remove(\"PALM SPRINGS\")\n",
    "\n",
    "for dma in all_24_DMAs:\n",
    "    df=Stores_in_DMA[Stores_in_DMA['allocated_dma_in_analysis']==dma]\n",
    "    dma_store_list=df[df['location_id']!='nan']['location_id'].unique().tolist()\n",
    "    ta_of_1_dma=df['TA_of_store'].unique().tolist()\n",
    "    dma_df_P_zip=pd.DataFrame()\n",
    "    dma_df_S_zip=pd.DataFrame()\n",
    "    \n",
    "    for ta in ta_of_1_dma:\n",
    "        ta_df_for_store_count=all_zips[all_zips['TA_of_store']==ta]\n",
    "        ta_df_store=ta_df_for_store_count[ta_df_for_store_count['location_id']!='nan']\n",
    "        ta_df_store=ta_df_store[~ta_df_store['store_sales_label_17Q3'].isin(['L','closed'])]\n",
    "        \n",
    "        ta_df=all_zips[all_zips['TA_of_zip']==ta]\n",
    "        ta_df_P=ta_df[ta_df['revenue_flag']==\"P\"]\n",
    "        ta_df_S=ta_df[ta_df['revenue_flag']==\"S\"]\n",
    "        \n",
    "        \n",
    "        P_Revenue_Zips_of_TA=ta_df_P['zip_cd'].unique().tolist()\n",
    "        S_Revenue_Zips_of_TA=ta_df_S['zip_cd'].unique().tolist()\n",
    "        TA_Store_list=ta_df_store['location_id'].unique().tolist()\n",
    "        \n",
    "        common_store_list_1_dma=list(set(TA_Store_list).intersection(dma_store_list))\n",
    "        common_store_list_all_dmas=list(set(TA_Store_list).intersection(all_stores_in24_dma))\n",
    "        \n",
    "        pctg_ta_in_1_dma=len(common_store_list_1_dma)/len(TA_Store_list) # common of 1 dma and 1 ta, devided by all ta store count\n",
    "        pctg_ta_in_24_dma=len(common_store_list_all_dmas)/len(TA_Store_list) # common of 1 dma and 1 ta, devided by all ta store count\n",
    "\n",
    "        \n",
    "        df_app=pd.DataFrame({\"DMA\":dma,\"TA\":ta,\"P_Revenue_Zips\":[P_Revenue_Zips_of_TA],\"S_Revenue_Zips\":[S_Revenue_Zips_of_TA],\n",
    "                            \"HMnew_Store_in_TA\":[TA_Store_list],\"HMnew_Stores_in_dma\":[dma_store_list],\"Common_HMnew_Stores_1_DMA\":[common_store_list_1_dma],\n",
    "                             \"HMnew_Store_Pcgt_1_dma\":pctg_ta_in_1_dma,\"Common_HMnew_Stores_24_DMAs\":[common_store_list_all_dmas],\"HMnew_Store_Pcgt_in_24DMAs\":pctg_ta_in_24_dma},index=[0])\n",
    "        Agg_DF=Agg_DF.append(df_app)\n",
    "        n_P=len(P_Revenue_Zips_of_TA)\n",
    "        n_S=len(S_Revenue_Zips_of_TA)\n",
    "        ta_df_P_zip=pd.DataFrame({\"DMA\":[dma]*n_P,\"TA\":[ta]*n_P,\"P_Zips\":P_Revenue_Zips_of_TA},index=list(range(n_P)))\n",
    "        ta_df_S_zip=pd.DataFrame({\"DMA\":[dma]*n_S,\"TA\":[ta]*n_S,\"S_Zips\":S_Revenue_Zips_of_TA},index=list(range(n_S)))\n",
    "        dma_df_P_zip=dma_df_P_zip.append(ta_df_P_zip)\n",
    "        dma_df_S_zip=dma_df_S_zip.append(ta_df_S_zip)\n",
    "        \n",
    "    dma_P_S_Zip=dma_df_P_zip.append(dma_df_S_zip)\n",
    "    dma_P_S_Zip.to_excel(writer,str(dma),index=False)\n",
    "\n",
    "    Agg_24dma_P=Agg_24dma_P.append(dma_df_P_zip)\n",
    "    Agg_24dma_S=Agg_24dma_S.append(dma_df_S_zip)\n",
    "\n",
    "Agg_24dma_P_S=Agg_24dma_P.append(Agg_24dma_S)    \n",
    "Agg_DF=Agg_DF[['DMA','TA','HMnew_Store_in_TA','HMnew_Stores_in_dma','Common_HMnew_Stores_1_DMA','HMnew_Store_Pcgt_1_dma','Common_HMnew_Stores_24_DMAs','HMnew_Store_Pcgt_in_24DMAs','P_Revenue_Zips','S_Revenue_Zips']]\n",
    "\n",
    "Agg_DF.to_excel(writer,\"comparison_dma_ta_overlap\",index=False) \n",
    "All_24_dma_P_S=Agg_24dma_P_S.copy()\n",
    "del Agg_24dma_P_S['DMA']\n",
    "del Agg_24dma_P_S['TA']\n",
    "Agg_24dma_P_S=Agg_24dma_P_S.drop_duplicates()\n",
    "# Agg_24dma_P_S.to_excel(writer,\"deduped_24DMAs\",index=False) #Dedup from the excel after changing \"Palm Springs\"       \n",
    "# All_24_dma_P_S.to_excel(writer,\"all_24_DMAs\",index=False) #Remove exception ta later      \n",
    "        "
   ]
  },
  {
   "cell_type": "code",
   "execution_count": 24,
   "metadata": {
    "collapsed": true
   },
   "outputs": [],
   "source": [
    "Store_Level_TA_Zips=pd.read_csv(\"/home/jian/Projects/Big_Lots/New_TA/zips in new ta/sales_by_zip (Store level).csv\")\n",
    "Store_Level_TA_Zips['zip']=Store_Level_TA_Zips['zip'].astype(str).str.zfill(5)\n",
    "\n",
    "Back_to_store_df=Agg_DF[Agg_DF['HMnew_Store_Pcgt_in_24DMAs']<0.25]\n",
    "Back_to_store_df.reset_index(inplace=True)\n",
    "del Back_to_store_df['index']\n",
    "\n",
    "rewrite_dma=Back_to_store_df['DMA'].unique().tolist()"
   ]
  },
  {
   "cell_type": "code",
   "execution_count": 25,
   "metadata": {
    "collapsed": true
   },
   "outputs": [],
   "source": [
    "list_of_Store_dma_df=[]\n",
    "for i in range(len(Back_to_store_df)):\n",
    "    store_to_look_list=Back_to_store_df['Common_HMnew_Stores_24_DMAs'][i]\n",
    "    ta=Back_to_store_df['TA'][i]\n",
    "    dma=Back_to_store_df['DMA'][i]\n",
    "    store_dma_df_P_zip=pd.DataFrame()\n",
    "    store_dma_df_S_zip=pd.DataFrame()\n",
    "    for j in range(len(store_to_look_list)):\n",
    "        store_to_look=int(store_to_look_list[j])\n",
    "        Zips_for_Store_df=Store_Level_TA_Zips[Store_Level_TA_Zips['location_id']==store_to_look]\n",
    "        P_Zips_for_Store=Zips_for_Store_df[Zips_for_Store_df['revenue_flag']==\"P\"]['zip'].unique().tolist()\n",
    "        S_Zips_for_Store=Zips_for_Store_df[Zips_for_Store_df['revenue_flag']==\"S\"]['zip'].unique().tolist()\n",
    "        n_P=len(P_Zips_for_Store)\n",
    "        n_S=len(S_Zips_for_Store)\n",
    "        store_df_P_zip=pd.DataFrame({\"DMA\":[dma]*n_P,\"TA\":[ta]*n_P,\"Store\":[store_to_look]*n_P,\"P_Zips\":P_Zips_for_Store},index=list(range(n_P)))\n",
    "        store_df_S_zip=pd.DataFrame({\"DMA\":[dma]*n_S,\"TA\":[ta]*n_S,\"Store\":[store_to_look]*n_S,\"S_Zips\":S_Zips_for_Store},index=list(range(n_S)))\n",
    "        store_df_app=store_df_P_zip.append(store_df_S_zip)\n",
    "    list_of_Store_dma_df=list_of_Store_dma_df+[store_df_app]"
   ]
  },
  {
   "cell_type": "code",
   "execution_count": 26,
   "metadata": {
    "collapsed": true
   },
   "outputs": [],
   "source": [
    "for df_exception in list_of_Store_dma_df:\n",
    "    dma=df_exception['DMA'].unique()[0]\n",
    "\n",
    "    ta_exception=df_exception['TA'].unique()[0]\n",
    "        \n",
    "    df=Stores_in_DMA[Stores_in_DMA['allocated_dma_in_analysis']==dma]\n",
    "    dma_store_list=df[df['location_id']!='nan']['location_id'].unique().tolist()\n",
    "    ta_of_1_dma=df['TA_of_store'].unique().tolist()\n",
    "    dma_df_P_zip=pd.DataFrame()\n",
    "    dma_df_S_zip=pd.DataFrame()\n",
    "    ta_of_1_dma.remove(ta_exception)\n",
    "    dma_df_ta=pd.DataFrame()\n",
    "    if len(ta_of_1_dma)>0:\n",
    "        for ta in ta_of_1_dma:\n",
    "            ta_df=all_zips[all_zips['TA_of_zip']==ta]\n",
    "            ta_df_P=ta_df[ta_df['revenue_flag']==\"P\"]\n",
    "            ta_df_S=ta_df[ta_df['revenue_flag']==\"S\"]\n",
    "\n",
    "            P_Revenue_Zips_of_TA=ta_df_P['zip_cd'].unique().tolist()\n",
    "            S_Revenue_Zips_of_TA=ta_df_S['zip_cd'].unique().tolist()\n",
    "            n_P=len(P_Revenue_Zips_of_TA)\n",
    "            n_S=len(S_Revenue_Zips_of_TA)\n",
    "            ta_df_P_zip=pd.DataFrame({\"DMA\":[dma]*n_P,\"TA\":[ta]*n_P,\"P_Zips\":P_Revenue_Zips_of_TA},index=list(range(n_P)))\n",
    "            ta_df_S_zip=pd.DataFrame({\"DMA\":[dma]*n_S,\"TA\":[ta]*n_S,\"S_Zips\":S_Revenue_Zips_of_TA},index=list(range(n_S)))\n",
    "            \n",
    "            ta_df_S_zip['leading_S_zip_digit']=ta_df_S_zip['S_Zips'].apply(lambda x:x[0])\n",
    "            leading_zip_select=ta_df_S_zip.groupby(['leading_S_zip_digit'])['leading_S_zip_digit'].count().to_frame()\n",
    "            leading_zip_select.columns=['count']\n",
    "            leading_zip_select.reset_index(inplace=True)\n",
    "            leading_zip_select.columns=['leading_digit','count']\n",
    "            leading_zip_select=leading_zip_select.sort_values('count',ascending=False)\n",
    "            leading_zip_select.reset_index(inplace=True)\n",
    "            del leading_zip_select['index']\n",
    "            leading_digit=leading_zip_select['leading_digit'][0]\n",
    "            ta_df_S_zip=ta_df_S_zip[ta_df_S_zip['leading_S_zip_digit']==leading_digit]\n",
    "            del ta_df_S_zip['leading_S_zip_digit']\n",
    "            \n",
    "            dma_df_P_zip=dma_df_P_zip.append(ta_df_P_zip)\n",
    "            dma_df_S_zip=dma_df_S_zip.append(ta_df_S_zip)\n",
    "            \n",
    "            dma_df_ta=dma_df_P_zip.append(dma_df_S_zip)\n",
    "        dma_df_ta=dma_df_ta.append(df_exception)\n",
    "        dma_df_ta.to_excel(writer,str(dma)+\"_store\",index=False)\n",
    "        \n",
    "    else:\n",
    "        ta_df_P_zip=df_exception[~pd.isnull(df_exception['P_Zips'])]\n",
    "        ta_df_S_zip=df_exception[~pd.isnull(df_exception['S_Zips'])]\n",
    "        ta_df_S_zip['leading_S_zip_digit']=ta_df_S_zip['S_Zips'].apply(lambda x:x[0])\n",
    "        leading_zip_select=ta_df_S_zip.groupby(['leading_S_zip_digit'])['leading_S_zip_digit'].count().to_frame()\n",
    "        leading_zip_select.columns=['count']\n",
    "        leading_zip_select.reset_index(inplace=True)\n",
    "        leading_zip_select.columns=['leading_digit','count']\n",
    "        leading_zip_select=leading_zip_select.sort_values('count',ascending=False)\n",
    "        leading_zip_select.reset_index(inplace=True)\n",
    "        del leading_zip_select['index']\n",
    "        leading_digit=leading_zip_select['leading_digit'][0]\n",
    "        ta_df_S_zip=ta_df_S_zip[ta_df_S_zip['leading_S_zip_digit']==leading_digit]\n",
    "        del ta_df_S_zip['leading_S_zip_digit']\n",
    "        dma_df_ta=ta_df_P_zip.append(ta_df_S_zip)\n",
    "        dma_df_ta.to_excel(writer,str(dma)+\"_store\",index=False)\n",
    "        \n",
    "    "
   ]
  },
  {
   "cell_type": "code",
   "execution_count": 27,
   "metadata": {
    "collapsed": true
   },
   "outputs": [],
   "source": [
    "all_store_zips = pd.concat(list_of_Store_dma_df)\n",
    "All_24_dma_P_S=All_24_dma_P_S[~All_24_dma_P_S['TA'].isin(all_store_zips['TA'].unique().tolist())]\n",
    "All_24_dma_P_S=All_24_dma_P_S.append(all_store_zips)\n",
    "All_24_dma_P_S=All_24_dma_P_S.sort_values(['DMA','TA','P_Zips','S_Zips','Store'])\n",
    "All_24_dma_P_S.to_excel(writer,\"all_12_DMAs\",index=False)\n"
   ]
  },
  {
   "cell_type": "code",
   "execution_count": 28,
   "metadata": {
    "collapsed": true
   },
   "outputs": [],
   "source": [
    "writer.save()"
   ]
  },
  {
   "cell_type": "code",
   "execution_count": null,
   "metadata": {
    "collapsed": true
   },
   "outputs": [],
   "source": []
  }
 ],
 "metadata": {
  "kernelspec": {
   "display_name": "Python 3",
   "language": "python",
   "name": "python3"
  },
  "language_info": {
   "codemirror_mode": {
    "name": "ipython",
    "version": 3
   },
   "file_extension": ".py",
   "mimetype": "text/x-python",
   "name": "python",
   "nbconvert_exporter": "python",
   "pygments_lexer": "ipython3",
   "version": "3.6.1"
  }
 },
 "nbformat": 4,
 "nbformat_minor": 2
}
