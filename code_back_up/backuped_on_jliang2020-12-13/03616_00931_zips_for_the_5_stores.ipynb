{
 "cells": [
  {
   "cell_type": "code",
   "execution_count": 1,
   "metadata": {
    "collapsed": true
   },
   "outputs": [],
   "source": [
    "# Email Tuesday, May 28, 2019 at 4:50 PM\n",
    "\n",
    "import pandas as pd\n",
    "import numpy as np\n",
    "import datetime\n",
    "from haversine import haversine\n",
    "import json"
   ]
  },
  {
   "cell_type": "code",
   "execution_count": 2,
   "metadata": {
    "collapsed": true
   },
   "outputs": [],
   "source": [
    "zip_centers=json.load(open(\"/home/jian/Docs/Geo_mapping/updated_zip_centers_JL_2019-05-23.json\",\"r\"))\n"
   ]
  },
  {
   "cell_type": "code",
   "execution_count": 3,
   "metadata": {},
   "outputs": [],
   "source": [
    "store_numbers=['49','1243','1817','5340','5354']\n",
    "\n",
    "store_list_SFTP=pd.read_table(\"/home/jian/BigLots/static_files/Store_list/MediaStormStores20190501-135143-036.txt\",sep=\"|\",dtype=str)\n",
    "store_list_SFTP=store_list_SFTP[store_list_SFTP['location_id'].isin(store_numbers)]\n",
    "store_list_SFTP=store_list_SFTP[['location_id','zip_cd','latitude_meas','longitude_meas','address_line_1','address_line_2','city_nm','state_nm']].rename(columns={\"zip_cd\":\"store_zip\"})\n",
    "store_list_SFTP['store_zip']=store_list_SFTP['store_zip'].apply(lambda x: x.split(\"-\")[0])\n",
    "store_list_SFTP['latitude_meas']=store_list_SFTP['latitude_meas'].astype(float)\n",
    "store_list_SFTP['longitude_meas']=store_list_SFTP['longitude_meas'].astype(float)\n"
   ]
  },
  {
   "cell_type": "code",
   "execution_count": 4,
   "metadata": {},
   "outputs": [
    {
     "data": {
      "text/html": [
       "<div>\n",
       "<style>\n",
       "    .dataframe thead tr:only-child th {\n",
       "        text-align: right;\n",
       "    }\n",
       "\n",
       "    .dataframe thead th {\n",
       "        text-align: left;\n",
       "    }\n",
       "\n",
       "    .dataframe tbody tr th {\n",
       "        vertical-align: top;\n",
       "    }\n",
       "</style>\n",
       "<table border=\"1\" class=\"dataframe\">\n",
       "  <thead>\n",
       "    <tr style=\"text-align: right;\">\n",
       "      <th></th>\n",
       "      <th>location_id</th>\n",
       "      <th>store_zip</th>\n",
       "      <th>latitude_meas</th>\n",
       "      <th>longitude_meas</th>\n",
       "      <th>address_line_1</th>\n",
       "      <th>address_line_2</th>\n",
       "      <th>city_nm</th>\n",
       "      <th>state_nm</th>\n",
       "    </tr>\n",
       "  </thead>\n",
       "  <tbody>\n",
       "    <tr>\n",
       "      <th>157</th>\n",
       "      <td>49</td>\n",
       "      <td>45150</td>\n",
       "      <td>39.178574</td>\n",
       "      <td>-84.281631</td>\n",
       "      <td>825 MAIN ST</td>\n",
       "      <td>NaN</td>\n",
       "      <td>MILFORD</td>\n",
       "      <td>OH</td>\n",
       "    </tr>\n",
       "    <tr>\n",
       "      <th>327</th>\n",
       "      <td>1243</td>\n",
       "      <td>47001</td>\n",
       "      <td>39.075299</td>\n",
       "      <td>-84.894435</td>\n",
       "      <td>888 GREEN BLVD</td>\n",
       "      <td>NaN</td>\n",
       "      <td>AURORA</td>\n",
       "      <td>IN</td>\n",
       "    </tr>\n",
       "    <tr>\n",
       "      <th>627</th>\n",
       "      <td>1817</td>\n",
       "      <td>45246</td>\n",
       "      <td>39.285708</td>\n",
       "      <td>-84.464548</td>\n",
       "      <td>11372 PRINCETON PIKE</td>\n",
       "      <td>NaN</td>\n",
       "      <td>CINCINNATI</td>\n",
       "      <td>OH</td>\n",
       "    </tr>\n",
       "    <tr>\n",
       "      <th>1293</th>\n",
       "      <td>5340</td>\n",
       "      <td>45248</td>\n",
       "      <td>39.145030</td>\n",
       "      <td>-84.626936</td>\n",
       "      <td>3640 WERK RD.</td>\n",
       "      <td>NaN</td>\n",
       "      <td>CINCINNATI</td>\n",
       "      <td>OH</td>\n",
       "    </tr>\n",
       "    <tr>\n",
       "      <th>1299</th>\n",
       "      <td>5354</td>\n",
       "      <td>45236</td>\n",
       "      <td>39.227755</td>\n",
       "      <td>-84.396230</td>\n",
       "      <td>4154 HUNT RD</td>\n",
       "      <td>NaN</td>\n",
       "      <td>BLUE ASH</td>\n",
       "      <td>OH</td>\n",
       "    </tr>\n",
       "  </tbody>\n",
       "</table>\n",
       "</div>"
      ],
      "text/plain": [
       "     location_id store_zip  latitude_meas  longitude_meas  \\\n",
       "157           49     45150      39.178574      -84.281631   \n",
       "327         1243     47001      39.075299      -84.894435   \n",
       "627         1817     45246      39.285708      -84.464548   \n",
       "1293        5340     45248      39.145030      -84.626936   \n",
       "1299        5354     45236      39.227755      -84.396230   \n",
       "\n",
       "            address_line_1 address_line_2     city_nm state_nm  \n",
       "157            825 MAIN ST            NaN     MILFORD       OH  \n",
       "327         888 GREEN BLVD            NaN      AURORA       IN  \n",
       "627   11372 PRINCETON PIKE            NaN  CINCINNATI       OH  \n",
       "1293         3640 WERK RD.            NaN  CINCINNATI       OH  \n",
       "1299          4154 HUNT RD            NaN    BLUE ASH       OH  "
      ]
     },
     "execution_count": 4,
     "metadata": {},
     "output_type": "execute_result"
    }
   ],
   "source": [
    "store_list_SFTP"
   ]
  },
  {
   "cell_type": "code",
   "execution_count": 5,
   "metadata": {},
   "outputs": [
    {
     "name": "stdout",
     "output_type": "stream",
     "text": [
      "(53, 10)\n",
      "3\n"
     ]
    }
   ],
   "source": [
    "df_store_lables_zip=pd.read_csv(\"/home/jian/Projects/Big_Lots/New_TA/zips_in_new_ta/sales_by_zip (Store level).csv\",\n",
    "                                  dtype=str,usecols=['zip','location_id','revenue_flag'])\n",
    "output_1=pd.merge(store_list_SFTP,df_store_lables_zip,on=\"location_id\",how=\"left\")\n",
    "output_1=output_1[output_1['revenue_flag'].isin(['P','S'])]\n",
    "print(output_1.shape)\n",
    "print(output_1['location_id'].nunique())\n"
   ]
  },
  {
   "cell_type": "code",
   "execution_count": 6,
   "metadata": {},
   "outputs": [],
   "source": [
    "output_1=output_1.reset_index()\n",
    "del output_1['index']\n",
    "output_1['dist_miles']=np.nan\n",
    "for i,row in output_1.iterrows():\n",
    "    store_center=(row['latitude_meas'],row['longitude_meas'])\n",
    "    zip_cd = row['zip']\n",
    "    \n",
    "    try:\n",
    "        dist=haversine(store_center,zip_centers[zip_cd],miles=True)\n",
    "    except:\n",
    "        print(zip_cd)\n",
    "    output_1.loc[i,'dist_miles']=dist\n",
    "    \n",
    "output_1=output_1[(output_1['revenue_flag']==\"P\") | (output_1['dist_miles']<=20)]\n"
   ]
  },
  {
   "cell_type": "code",
   "execution_count": 7,
   "metadata": {},
   "outputs": [],
   "source": [
    "output_2=store_list_SFTP[~store_list_SFTP['location_id'].isin(output_1['location_id'].tolist())]\n",
    "output_2=output_2.reset_index()\n",
    "del output_2['index']\n",
    "df_store_new_zip=pd.DataFrame(columns=[\"location_id\",'zip','revenue_flag','dist_miles'])\n",
    "\n",
    "for i,row in output_2.iterrows():\n",
    "    location_id=row['location_id']\n",
    "    store_center=(row['latitude_meas'],row['longitude_meas'])\n",
    "    for zip_cd in zip_centers.keys():\n",
    "        dist=haversine(store_center,zip_centers[zip_cd],miles=True)\n",
    "        if dist<=10:\n",
    "            df=pd.DataFrame({\"location_id\":location_id,\"zip\":zip_cd,\"revenue_flag\":\"zips_in_10\",\"dist_miles\":dist},index=[location_id])\n",
    "            df_store_new_zip=df_store_new_zip.append(df)\n",
    "            \n",
    "df_store_new_zip=df_store_new_zip.reset_index()\n",
    "del df_store_new_zip['index']       \n",
    "output_2=pd.merge(output_2,df_store_new_zip,on=\"location_id\",how=\"left\")        "
   ]
  },
  {
   "cell_type": "code",
   "execution_count": 8,
   "metadata": {},
   "outputs": [],
   "source": [
    "output=output_1.append(output_2)\n",
    "output=output[output_1.columns.tolist()]"
   ]
  },
  {
   "cell_type": "code",
   "execution_count": 9,
   "metadata": {},
   "outputs": [],
   "source": [
    "df_unique_zips=output.sort_values(['revenue_flag','dist_miles'])\n",
    "df_unique_zips=df_unique_zips[['zip','revenue_flag']].drop_duplicates(\"zip\")"
   ]
  },
  {
   "cell_type": "code",
   "execution_count": 10,
   "metadata": {
    "collapsed": true
   },
   "outputs": [],
   "source": [
    "writer=pd.ExcelWriter(\"/home/jian/Projects/Big_Lots/Analysis/2019_Q2/Planner_Requests/Zips_5_life_moments_test_Faith_20190529/BL_zips_for_5_life_moments_JL_\"+str(datetime.datetime.now().date())+\".xlsx\",engine=\"xlsxwriter\")\n",
    "df_unique_zips.to_excel(writer,\"unique_zips\",index=False)\n",
    "output.to_excel(writer,\"zips_by_store\",index=False)\n",
    "writer.save()"
   ]
  },
  {
   "cell_type": "code",
   "execution_count": null,
   "metadata": {
    "collapsed": true
   },
   "outputs": [],
   "source": []
  }
 ],
 "metadata": {
  "kernelspec": {
   "display_name": "Python 3",
   "language": "python",
   "name": "python3"
  },
  "language_info": {
   "codemirror_mode": {
    "name": "ipython",
    "version": 3
   },
   "file_extension": ".py",
   "mimetype": "text/x-python",
   "name": "python",
   "nbconvert_exporter": "python",
   "pygments_lexer": "ipython3",
   "version": "3.6.1"
  }
 },
 "nbformat": 4,
 "nbformat_minor": 2
}
