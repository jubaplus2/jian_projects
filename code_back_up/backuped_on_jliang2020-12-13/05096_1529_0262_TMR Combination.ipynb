{
 "cells": [
  {
   "cell_type": "code",
   "execution_count": 39,
   "metadata": {
    "collapsed": true
   },
   "outputs": [],
   "source": [
    "import pandas as pd\n",
    "import numpy as np\n",
    "import datetime"
   ]
  },
  {
   "cell_type": "code",
   "execution_count": 40,
   "metadata": {
    "collapsed": true
   },
   "outputs": [],
   "source": [
    "# TV_data is only local and allocatd national data into the 186 dmas\n",
    "# for the purpose of national tv data, use another file\n",
    "TV_data=pd.read_csv(\"/Users/Jian/Desktop/Media Storm/Big Lots/TMR/TMR Long/TV/finaltvlogs_nationaldistributed.csv\",dtype=str)\n",
    "TV_data['Act Impression']=TV_data['Act Impression'].astype(float)\n",
    "TV_data['Net Cost']=TV_data['Net Cost'].astype(float)\n",
    "TV_data['week_start_date']=TV_data['Week BL'].apply(lambda x: datetime.datetime.strptime(x,\"%m/%d/%y\").date())"
   ]
  },
  {
   "cell_type": "code",
   "execution_count": 41,
   "metadata": {
    "collapsed": true
   },
   "outputs": [],
   "source": [
    "TV_data=TV_data[['week_start_date','cleaned DMA','Network','Media Type','Act Impression','Net Cost']]\n",
    "TV_data=TV_data.rename(columns={'cleaned DMA':'cleaned dma','Network':'placement','Media Type':'submedia','Act Impression':'impression','Net Cost':'cost'})\n",
    "TV_data['submedia']=TV_data['submedia'].replace(['National Cable','DirecTV'],\"National\")\n",
    "TV_data['submedia']=TV_data['submedia'].replace(['Spot Cable', 'Spot Broadcast', 'FOOTPRINT-SINCLAIR'],\"Local\")\n",
    "# TV_data['week_start_date']=TV_data['week_start_date'].apply(lambda x:datetime.datetime.strptime(x,\"%Y-%m-%d\").date())\n",
    "TV_data['week_end_date']=TV_data['week_start_date']+datetime.timedelta(days=6)\n",
    "TV_data['click']=0\n",
    "TV_data['media']='TV'\n",
    "TV_data=TV_data[['week_start_date','week_end_date','cleaned dma','media','submedia','placement','impression','click','cost']]"
   ]
  },
  {
   "cell_type": "code",
   "execution_count": 42,
   "metadata": {
    "collapsed": true
   },
   "outputs": [],
   "source": [
    "# Confirmed with Spencer, becaudse of the national TV has been allocated to dma level and labled as \"National\" in submedia\n",
    "TV_data.reset_index(inplace=True)\n",
    "del TV_data['index']\n",
    "TV_data=TV_data[TV_data['cleaned dma']!=\"National\"]"
   ]
  },
  {
   "cell_type": "code",
   "execution_count": null,
   "metadata": {
    "collapsed": true
   },
   "outputs": [],
   "source": []
  },
  {
   "cell_type": "code",
   "execution_count": null,
   "metadata": {
    "collapsed": true
   },
   "outputs": [],
   "source": []
  },
  {
   "cell_type": "code",
   "execution_count": null,
   "metadata": {
    "collapsed": true
   },
   "outputs": [],
   "source": []
  },
  {
   "cell_type": "code",
   "execution_count": 43,
   "metadata": {
    "collapsed": true
   },
   "outputs": [],
   "source": [
    "Digital_1=pd.read_csv(\"/Users/Jian/Desktop/Media Storm/Big Lots/TMR/TMR Long/replaced_cricular_20180226.csv\",dtype=str)\n",
    "Digital_2=pd.read_csv(\"/Users/Jian/Desktop/Media Storm/Big Lots/TMR/TMR Long/Criteo_TMR_Weekly.csv\",dtype=str)\n",
    "Digital_1=Digital_1[Digital_1['media']!=\"TV\"]\n",
    "Digital_2['cleaned dma']=Digital_2['cleaned dma'].replace('National','xx')\n",
    "Digital_1['submedia']=np.where(Digital_1['media']=='Radio','Radio',Digital_1['submedia'])"
   ]
  },
  {
   "cell_type": "code",
   "execution_count": 44,
   "metadata": {
    "collapsed": true
   },
   "outputs": [],
   "source": [
    "Digital_1=Digital_1[~pd.isnull(Digital_1['week date'])]\n",
    "Digital_1['week date']=Digital_1['week date'].apply(lambda x: datetime.datetime.strptime(x,\"%m/%d/%Y\").date())\n",
    "Digital_1=Digital_1.rename(columns={'week date':'week_start_date'})\n",
    "Digital_1['week_end_date']=Digital_1['week_start_date']+datetime.timedelta(days=6)\n",
    "Digital_1=Digital_1[['week_start_date','week_end_date','cleaned dma','media','submedia','placement','impression','click','cost']]"
   ]
  },
  {
   "cell_type": "code",
   "execution_count": 45,
   "metadata": {
    "collapsed": true
   },
   "outputs": [],
   "source": [
    "Digital_2['week_start_date']=Digital_2['week_start_date'].apply(lambda x: datetime.datetime.strptime(x,\"%Y-%m-%d\").date())\n",
    "Digital_2['week_end_date']=Digital_2['week_end_date'].apply(lambda x: datetime.datetime.strptime(x,\"%Y-%m-%d\").date())\n",
    "Digital=Digital_1.append(Digital_2)\n",
    "Digital['impression']=Digital['impression'].astype(float)\n",
    "Digital['click']=Digital['click'].astype(float)\n",
    "Digital['cost']=Digital['cost'].astype(float)"
   ]
  },
  {
   "cell_type": "code",
   "execution_count": 46,
   "metadata": {
    "collapsed": true
   },
   "outputs": [],
   "source": [
    "Valassis_CPM=pd.read_csv(\"/Users/Jian/Desktop/Media Storm/Big Lots/TMR/TMR Long/Valassis_CPM.csv\",dtype=str)\n",
    "Valassis_CPM['CPM']=Valassis_CPM['Total CPM'].str.replace(\"$\",\"\")\n",
    "Valassis_CPM['CPM']=Valassis_CPM['CPM'].astype(float)\n",
    "Valassis_CPM['week_start_date']=Valassis_CPM['Event\\nDate'].apply(lambda x: datetime.datetime.strptime(x,\"%m/%d/%y\").date())\n",
    "Valassis_CPM=Valassis_CPM[['week_start_date','CPM']]\n",
    "Valassis_TMR=Digital[Digital['submedia']==\"Valassis\"]\n",
    "Valassis_TMR=pd.merge(Valassis_TMR,Valassis_CPM,on=\"week_start_date\",how='left')\n",
    "del Valassis_TMR['cost']\n",
    "Valassis_TMR['cost']=Valassis_TMR['impression']*Valassis_TMR['CPM']/1000\n",
    "Valassis_TMR=Valassis_TMR[Digital.columns]"
   ]
  },
  {
   "cell_type": "code",
   "execution_count": 47,
   "metadata": {
    "collapsed": true
   },
   "outputs": [],
   "source": [
    "Digital=Digital[Digital['submedia']!=\"Valassis\"]\n",
    "Digital=Digital.append(Valassis_TMR)\n",
    "Digital=Digital.sort_values(['week_start_date','cleaned dma','media','submedia','placement'])"
   ]
  },
  {
   "cell_type": "code",
   "execution_count": 48,
   "metadata": {
    "collapsed": true
   },
   "outputs": [],
   "source": [
    "TMR_Data_DMA=Digital.append(TV_data)\n",
    "TMR_Data_DMA.reset_index(inplace=True)\n",
    "del (TMR_Data_DMA['index'])\n",
    "TMR_Data_DMA.to_csv(\"/Users/Jian/Desktop/Media Storm/Big Lots/TMR/TMR Long/output/TMR_Data_DMA.csv\",index=False)"
   ]
  },
  {
   "cell_type": "code",
   "execution_count": null,
   "metadata": {
    "collapsed": true
   },
   "outputs": [],
   "source": []
  },
  {
   "cell_type": "code",
   "execution_count": 49,
   "metadata": {
    "collapsed": true
   },
   "outputs": [],
   "source": [
    "Digital_National=Digital.groupby(['week_start_date','week_end_date','media','submedia','placement'])['impression','click','cost'].sum()\n",
    "Digital_National.reset_index(inplace=True)"
   ]
  },
  {
   "cell_type": "code",
   "execution_count": 50,
   "metadata": {
    "collapsed": true
   },
   "outputs": [],
   "source": [
    "TV_National=pd.read_csv(\"/Users/Jian/Desktop/Media Storm/Big Lots/TMR/TMR Long/TV/finaltvlogs_0306.csv\",dtype=str)\n",
    "TV_National['week_start_date']=TV_National['Week BL'].apply(lambda x:datetime.datetime.strptime(x,\"%m/%d/%y\").date())\n",
    "\n",
    "TV_National=TV_National[['week_start_date','Media Type','Network','Act Impression','Net Cost']]\n",
    "TV_National=TV_National.rename(columns={'Media Type':'submedia','Network':'placement','Act Impression':'impression','Net Cost':'cost'})\n",
    "TV_National['submedia']=TV_National['submedia'].replace(['National Cable','DirecTV'],\"National\")\n",
    "TV_National['submedia']=TV_National['submedia'].replace(['Spot Cable', 'Spot Broadcast', 'FOOTPRINT-SINCLAIR'],\"Local\")\n",
    "TV_National['week_end_date']=TV_National['week_start_date']+datetime.timedelta(days=6)\n",
    "TV_National['click']=0\n",
    "TV_National['media']='TV'\n",
    "TV_National=TV_National[['week_start_date','week_end_date','media','submedia','placement','impression','click','cost']]\n",
    "TV_National['impression']=TV_National['impression'].astype(float)\n",
    "TV_National['cost']=TV_National['cost'].astype(float)\n",
    "TV_National=TV_National.groupby(['week_start_date','week_end_date','media','submedia','placement'])['impression','click','cost'].sum().reset_index()\n"
   ]
  },
  {
   "cell_type": "code",
   "execution_count": 51,
   "metadata": {
    "collapsed": true
   },
   "outputs": [],
   "source": [
    "TMR_Data_National=Digital_National.append(TV_National)\n",
    "TMR_Data_National.reset_index(inplace=True)\n",
    "del (TMR_Data_National['index'])\n",
    "TMR_Data_National.to_csv(\"/Users/Jian/Desktop/Media Storm/Big Lots/TMR/TMR Long/output/TMR_Data_National.csv\",index=False)"
   ]
  },
  {
   "cell_type": "markdown",
   "metadata": {},
   "source": [
    "# Long to wide"
   ]
  },
  {
   "cell_type": "markdown",
   "metadata": {},
   "source": [
    "## National"
   ]
  },
  {
   "cell_type": "code",
   "execution_count": 52,
   "metadata": {
    "collapsed": true
   },
   "outputs": [],
   "source": [
    "Sales=pd.read_csv(\"/Users/Jian/Desktop/Media Storm/Big Lots/Ongoing/Datorama/Output_2018-02-17/combined_sales_long_2018-02-17.csv\")\n",
    "del Sales['week_indicator']\n",
    "DMA=pd.read_excel(\"/Users/Jian/Desktop/Media Storm/Big Lots/TMR/Reformat non TV/all_store_DMA.xlsx\")\n",
    "DMA=DMA[['location_id','cleaned dma']]\n",
    "Sales=pd.merge(Sales,DMA,on='location_id',how='left')\n",
    "Sales['week_end_date']=Sales['week_end_date'].apply(lambda x: datetime.datetime.strptime(x, '%Y-%m-%d').date())\n",
    "Sales['week_start_date']=Sales['week_end_date']-datetime.timedelta(days=6)\n",
    "Sales=Sales[(Sales['week_end_date']>=datetime.datetime.strptime('2016-10-03',\"%Y-%m-%d\").date()) &(Sales['week_end_date']<=datetime.datetime.strptime('2017-12-31',\"%Y-%m-%d\").date())]"
   ]
  },
  {
   "cell_type": "code",
   "execution_count": 53,
   "metadata": {
    "collapsed": true
   },
   "outputs": [],
   "source": [
    "Sales_May6=Sales[(Sales['week_end_date']==datetime.datetime.strptime('2017-05-13',\"%Y-%m-%d\").date()) | (Sales['week_end_date']==datetime.datetime.strptime('2017-04-29',\"%Y-%m-%d\").date())]"
   ]
  },
  {
   "cell_type": "code",
   "execution_count": 54,
   "metadata": {
    "collapsed": true
   },
   "outputs": [],
   "source": [
    "Sales_May6=Sales_May6.groupby(['location_id'])['transactions'].mean().to_frame()\n",
    "Sales_May6.reset_index(inplace=True)"
   ]
  },
  {
   "cell_type": "code",
   "execution_count": 55,
   "metadata": {
    "collapsed": true
   },
   "outputs": [],
   "source": [
    "Sales_May6=Sales_May6.rename(columns={'transactions':'average_trans'})\n",
    "Sales_May6['week_end_date']=datetime.datetime.strptime(\"2017-05-06\",\"%Y-%m-%d\").date()"
   ]
  },
  {
   "cell_type": "code",
   "execution_count": 56,
   "metadata": {
    "collapsed": true
   },
   "outputs": [],
   "source": [
    "Sales=pd.merge(Sales,Sales_May6,on=['location_id','week_end_date'],how='left')"
   ]
  },
  {
   "cell_type": "code",
   "execution_count": 57,
   "metadata": {
    "collapsed": true
   },
   "outputs": [],
   "source": [
    "Sales['transactions']=np.where(Sales['week_end_date']==datetime.datetime.strptime(\"2017-05-06\",\"%Y-%m-%d\").date(),\n",
    "                               Sales['average_trans'],\n",
    "                               Sales['transactions'])\n",
    "del Sales['average_trans']"
   ]
  },
  {
   "cell_type": "code",
   "execution_count": 58,
   "metadata": {},
   "outputs": [
    {
     "data": {
      "text/plain": [
       "186"
      ]
     },
     "execution_count": 58,
     "metadata": {},
     "output_type": "execute_result"
    }
   ],
   "source": [
    "Sales_DMA=Sales.groupby(['week_start_date','week_end_date','cleaned dma'])['sales','transactions'].sum().fillna(0).reset_index()\n",
    "# Because some stores with traffic but no sales, and the DMA is missing as \"xx\"\n",
    "if (Sales_DMA[Sales_DMA['cleaned dma']==\"xx\"]['sales'].unique()==0) & (Sales_DMA[Sales_DMA['cleaned dma']==\"xx\"]['transactions'].unique()==0):\n",
    "    Sales_DMA=Sales_DMA[Sales_DMA['cleaned dma']!=\"xx\"]\n",
    "len(Sales_DMA['cleaned dma'].unique())"
   ]
  },
  {
   "cell_type": "code",
   "execution_count": 59,
   "metadata": {
    "collapsed": true
   },
   "outputs": [],
   "source": [
    "Competitor=pd.read_csv(\"/Users/Jian/Desktop/Media Storm/Big Lots/TMR/TMR Long/Competitors_Counts.csv\",dtype=str)\n",
    "Competitor=Competitor[['cleaned dma','Competitor']]\n",
    "Competitor['Competitor']=Competitor['Competitor'].astype(float)"
   ]
  },
  {
   "cell_type": "code",
   "execution_count": 60,
   "metadata": {
    "collapsed": true
   },
   "outputs": [],
   "source": [
    "Store_count=pd.read_csv(\"/Users/Jian/Desktop/Media Storm/Big Lots/TMR/TMR Long/store_counts_by_DMA.csv\",dtype=str)\n",
    "Store_count['week_start_date']=Store_count['week_start_date'].apply(lambda x: datetime.datetime.strptime(x,\"%Y-%m-%d\").date())\n",
    "Store_count['store_count']=Store_count['store_count'].astype(int)"
   ]
  },
  {
   "cell_type": "code",
   "execution_count": 61,
   "metadata": {
    "collapsed": true
   },
   "outputs": [],
   "source": [
    "# Add store cout and competitor to DMA level sales\n",
    "Sales_DMA=pd.merge(Sales_DMA,Store_count,on=['cleaned dma','week_start_date'],how='left')\n",
    "Sales_DMA=pd.merge(Sales_DMA,Competitor,on=['cleaned dma'],how='left')"
   ]
  },
  {
   "cell_type": "code",
   "execution_count": 62,
   "metadata": {
    "collapsed": true
   },
   "outputs": [],
   "source": [
    "Ecommerce=pd.read_csv(\"/Users/Jian/Desktop/Media Storm/Big Lots/TMR/TMR Long/Ecommerce_Sales.csv\",dtype=str)\n",
    "Ecommerce['week_start_date']=Ecommerce['week_start_date'].apply(lambda x: datetime.datetime.strptime(x, '%Y-%m-%d').date())\n",
    "Ecommerce['week_end_date']=Ecommerce['week_end_date'].apply(lambda x: datetime.datetime.strptime(x, '%Y-%m-%d').date())\n",
    "Ecommerce['sales:Ecommerce']=Ecommerce['sales:Ecommerce'].astype(float)\n",
    "Ecommerce['sales:Ecommerce']=Ecommerce['transactions:Ecommerce'].astype(float)"
   ]
  },
  {
   "cell_type": "code",
   "execution_count": 63,
   "metadata": {
    "collapsed": true
   },
   "outputs": [],
   "source": [
    "# Add ecommerce and competitor to national level sales\n",
    "Sales_National=Sales.groupby(['week_start_date','week_end_date'])['sales','transactions'].sum().fillna(0).reset_index()\n",
    "Store_count_National=Store_count.groupby(['week_start_date'])['store_count'].sum().to_frame()\n",
    "Store_count_National.reset_index(inplace=True)\n",
    "Sales_National=pd.merge(Sales_National,Store_count_National,on=['week_start_date'],how='left')\n",
    "Sales_National=pd.merge(Sales_National,Ecommerce,on=['week_start_date','week_end_date'],how='left')"
   ]
  },
  {
   "cell_type": "code",
   "execution_count": 64,
   "metadata": {
    "collapsed": true
   },
   "outputs": [],
   "source": [
    "# Submedia level\n",
    "\n",
    "TMR_Data_National_submedia=TMR_Data_National[['week_start_date','week_end_date','media','submedia','placement','impression','click','cost']]\n",
    "\n",
    "TMR_Data_National_submedia=TMR_Data_National_submedia.groupby(['week_start_date','week_end_date','media','submedia'])['impression','click','cost'].apply(sum)\n",
    "TMR_Data_National_submedia.reset_index(inplace=True)\n",
    "TMR_Data_National_submedia['media_submedia']=TMR_Data_National_submedia['media']+\"_\"+TMR_Data_National_submedia['submedia']\n",
    "del TMR_Data_National_submedia['media']\n",
    "del TMR_Data_National_submedia['submedia']\n",
    "\n",
    "national_submedia_wide=TMR_Data_National_submedia.pivot_table(index=['week_start_date','week_end_date'],columns='media_submedia',values=['impression','click','cost']).fillna(0)\n",
    "new_columns=[]\n",
    "for i in range(len(national_submedia_wide.columns)):\n",
    "    x=national_submedia_wide.columns[i]\n",
    "    y=str(x[0]+\":\"+x[1])\n",
    "    new_columns.append(y)\n",
    "national_submedia_wide.columns=new_columns\n",
    "national_submedia_wide.reset_index(inplace=True)\n",
    "national_submedia_wide['week_start_date']=national_submedia_wide['week_start_date'].apply(lambda x: x.date())\n",
    "national_submedia_wide['week_end_date']=national_submedia_wide['week_end_date'].apply(lambda x: x.date())\n",
    "national_submedia_wide=pd.merge(Sales_National,national_submedia_wide,on=['week_start_date','week_end_date'],how='left')\n"
   ]
  },
  {
   "cell_type": "code",
   "execution_count": 65,
   "metadata": {
    "collapsed": true
   },
   "outputs": [],
   "source": [
    "# Placement level\n",
    "TMR_Data_National_placement=TMR_Data_National[['week_start_date','week_end_date','media','submedia','placement','impression','click','cost']]\n",
    "TMR_Data_National_placement=TMR_Data_National_placement.groupby(['week_start_date','week_end_date','media','submedia','placement'])['impression','click','cost'].apply(sum)\n",
    "TMR_Data_National_placement.reset_index(inplace=True)\n",
    "TMR_Data_National_placement['media_submedia_placement']=TMR_Data_National_placement['media']+\"_\"+TMR_Data_National_placement['submedia']+\"_\"+TMR_Data_National_placement['placement']\n",
    "del TMR_Data_National_placement['media']\n",
    "del TMR_Data_National_placement['submedia']\n",
    "del TMR_Data_National_placement['placement']\n",
    "national_placement_wide=TMR_Data_National_placement.pivot_table(index=['week_start_date','week_end_date'],columns='media_submedia_placement',values=['impression','click','cost']).fillna(0)\n",
    "new_columns=[]\n",
    "for i in range(len(national_placement_wide.columns)):\n",
    "    x=national_placement_wide.columns[i]\n",
    "    y=str(x[0]+\":\"+x[1])\n",
    "    new_columns.append(y)\n",
    "national_placement_wide.columns=new_columns\n",
    "national_placement_wide.reset_index(inplace=True)\n",
    "national_placement_wide['week_start_date']=national_placement_wide['week_start_date'].apply(lambda x: x.date())\n",
    "national_placement_wide['week_end_date']=national_placement_wide['week_end_date'].apply(lambda x: x.date())\n",
    "national_placement_wide=pd.merge(Sales_National,national_placement_wide,on=['week_start_date','week_end_date'],how='left')"
   ]
  },
  {
   "cell_type": "markdown",
   "metadata": {},
   "source": [
    "## DMA level"
   ]
  },
  {
   "cell_type": "code",
   "execution_count": 66,
   "metadata": {
    "collapsed": true
   },
   "outputs": [],
   "source": [
    "TMR_Data_DMA_submedia=TMR_Data_DMA[['week_start_date','week_end_date','cleaned dma','media','submedia','placement','impression','click','cost']]\n",
    "\n",
    "TMR_Data_DMA_submedia=TMR_Data_DMA_submedia.groupby(['week_start_date','week_end_date','media','submedia','cleaned dma'])['impression','click','cost'].apply(sum)\n",
    "TMR_Data_DMA_submedia.reset_index(inplace=True)\n",
    "TMR_Data_DMA_submedia['media_submedia']=TMR_Data_DMA_submedia['media']+\"_\"+TMR_Data_DMA_submedia['submedia']\n",
    "del TMR_Data_DMA_submedia['media']\n",
    "del TMR_Data_DMA_submedia['submedia']\n",
    "\n",
    "DMA_submedia_wide=TMR_Data_DMA_submedia.pivot_table(index=['week_start_date','week_end_date','cleaned dma'],columns='media_submedia',values=['impression','click','cost']).fillna(0)\n",
    "new_columns=[]\n",
    "for i in range(len(DMA_submedia_wide.columns)):\n",
    "    x=DMA_submedia_wide.columns[i]\n",
    "    y=str(x[0]+\":\"+x[1])\n",
    "    new_columns.append(y)\n",
    "DMA_submedia_wide.columns=new_columns\n",
    "DMA_submedia_wide.reset_index(inplace=True)\n",
    "DMA_submedia_wide['week_start_date']=DMA_submedia_wide['week_start_date'].apply(lambda x: x.date())\n",
    "DMA_submedia_wide['week_end_date']=DMA_submedia_wide['week_end_date'].apply(lambda x: x.date())\n",
    "DMA_submedia_wide=pd.merge(Sales_DMA,DMA_submedia_wide,on=['week_start_date','week_end_date','cleaned dma'],how='left')"
   ]
  },
  {
   "cell_type": "code",
   "execution_count": 67,
   "metadata": {
    "collapsed": true
   },
   "outputs": [],
   "source": [
    "TMR_Data_DMA_placement=TMR_Data_DMA[['week_start_date','week_end_date','cleaned dma','media','submedia','placement','impression','click','cost']]\n",
    "TMR_Data_DMA_placement=TMR_Data_DMA_placement.groupby(['week_start_date','week_end_date','cleaned dma','media','submedia','placement'])['impression','click','cost'].apply(sum)\n",
    "TMR_Data_DMA_placement.reset_index(inplace=True)\n",
    "TMR_Data_DMA_placement['media_submedia_placement']=TMR_Data_DMA_placement['media']+\"_\"+TMR_Data_DMA_placement['submedia']+\"_\"+TMR_Data_DMA_placement['placement']\n",
    "del TMR_Data_DMA_placement['media']\n",
    "del TMR_Data_DMA_placement['submedia']\n",
    "del TMR_Data_DMA_placement['placement']\n",
    "DMA_placement_wide=TMR_Data_DMA_placement.pivot_table(index=['week_start_date','week_end_date','cleaned dma'],columns='media_submedia_placement',values=['impression','click','cost']).fillna(0)\n",
    "new_columns=[]\n",
    "for i in range(len(DMA_placement_wide.columns)):\n",
    "    x=DMA_placement_wide.columns[i]\n",
    "    y=str(x[0]+\":\"+x[1])\n",
    "    new_columns.append(y)\n",
    "DMA_placement_wide.columns=new_columns\n",
    "DMA_placement_wide.reset_index(inplace=True)\n",
    "DMA_placement_wide['week_start_date']=DMA_placement_wide['week_start_date'].apply(lambda x: x.date())\n",
    "DMA_placement_wide['week_end_date']=DMA_placement_wide['week_end_date'].apply(lambda x: x.date())\n",
    "DMA_placement_wide=pd.merge(Sales_DMA,DMA_placement_wide,on=['week_start_date','week_end_date','cleaned dma'],how='left')"
   ]
  },
  {
   "cell_type": "code",
   "execution_count": 68,
   "metadata": {
    "collapsed": true
   },
   "outputs": [],
   "source": [
    "DMA_submedia_wide.to_csv('/Users/Jian/Desktop/Media Storm/Big Lots/TMR/TMR Long/output/DMA_submedia_wide.csv',index=False)\n",
    "DMA_placement_wide.to_csv('/Users/Jian/Desktop/Media Storm/Big Lots/TMR/TMR Long/output/DMA_placement_wide.csv',index=False)\n",
    "\n",
    "national_submedia_wide.to_csv('/Users/Jian/Desktop/Media Storm/Big Lots/TMR/TMR Long/output/national_submedia_wide.csv',index=False)\n",
    "national_placement_wide.to_csv('/Users/Jian/Desktop/Media Storm/Big Lots/TMR/TMR Long/output/national_placement_wide.csv',index=False)"
   ]
  },
  {
   "cell_type": "code",
   "execution_count": 69,
   "metadata": {
    "collapsed": true
   },
   "outputs": [],
   "source": [
    "DMA_12=pd.read_csv(\"/Users/Jian/Desktop/Media Storm/Big Lots/TMR/TMR Long/12DMAs_Group.csv\",dtype=str)"
   ]
  },
  {
   "cell_type": "code",
   "execution_count": 70,
   "metadata": {
    "collapsed": true
   },
   "outputs": [],
   "source": [
    "# 12 DMA and balance\n",
    "DMA_submedia_wide_12=DMA_submedia_wide[DMA_submedia_wide['cleaned dma'].isin(DMA_12['cleaned dma'])]\n",
    "DMA_submedia_wide_184=DMA_submedia_wide[~DMA_submedia_wide['cleaned dma'].isin(DMA_12['cleaned dma'])]\n",
    "\n",
    "DMA_submedia_wide_12.to_csv(\"/Users/Jian/Desktop/Media Storm/Big Lots/TMR/TMR Long/output/Common12_DMA_submedia.csv\")\n",
    "DMA_submedia_wide_184.to_csv(\"/Users/Jian/Desktop/Media Storm/Big Lots/TMR/TMR Long/output/Balance_of_12_DMA_submedia.csv\")"
   ]
  },
  {
   "cell_type": "code",
   "execution_count": 71,
   "metadata": {
    "collapsed": true
   },
   "outputs": [],
   "source": [
    "Agg_DMA_submedia_wide_12=DMA_submedia_wide_12.groupby(['week_start_date','week_end_date','cleaned dma']).sum()\n",
    "Agg_DMA_submedia_wide_184=DMA_submedia_wide_184.groupby(['week_start_date','week_end_date','cleaned dma']).sum()\n",
    "\n",
    "Agg_DMA_submedia_wide_12.to_csv(\"/Users/Jian/Desktop/Media Storm/Big Lots/TMR/TMR Long/output/Agg_DMA_submedia_wide_12.csv\")\n",
    "Agg_DMA_submedia_wide_184.to_csv(\"/Users/Jian/Desktop/Media Storm/Big Lots/TMR/TMR Long/output/Agg_DMA_submedia_wide_184.csv\")"
   ]
  },
  {
   "cell_type": "code",
   "execution_count": null,
   "metadata": {
    "collapsed": true
   },
   "outputs": [],
   "source": []
  },
  {
   "cell_type": "code",
   "execution_count": null,
   "metadata": {
    "collapsed": true
   },
   "outputs": [],
   "source": []
  },
  {
   "cell_type": "markdown",
   "metadata": {},
   "source": [
    "# To Bruce"
   ]
  },
  {
   "cell_type": "code",
   "execution_count": 72,
   "metadata": {},
   "outputs": [
    {
     "name": "stderr",
     "output_type": "stream",
     "text": [
      "/Users/Jian/anaconda3/lib/python3.6/site-packages/ipykernel_launcher.py:14: SettingWithCopyWarning: \n",
      "A value is trying to be set on a copy of a slice from a DataFrame.\n",
      "Try using .loc[row_indexer,col_indexer] = value instead\n",
      "\n",
      "See the caveats in the documentation: http://pandas.pydata.org/pandas-docs/stable/indexing.html#indexing-view-versus-copy\n",
      "  \n",
      "/Users/Jian/anaconda3/lib/python3.6/site-packages/ipykernel_launcher.py:15: SettingWithCopyWarning: \n",
      "A value is trying to be set on a copy of a slice from a DataFrame.\n",
      "Try using .loc[row_indexer,col_indexer] = value instead\n",
      "\n",
      "See the caveats in the documentation: http://pandas.pydata.org/pandas-docs/stable/indexing.html#indexing-view-versus-copy\n",
      "  from ipykernel import kernelapp as app\n"
     ]
    }
   ],
   "source": [
    "writer=pd.ExcelWriter('/Users/Jian/Desktop/Media Storm/Big Lots/TMR/TMR Long/output/Bruce/BL_TMR wide format_JL_20180306.xlsx', engine='xlsxwriter')\n",
    "\n",
    "DMA_92=pd.read_excel(\"/Users/Jian/Desktop/Media Storm/Big Lots/TMR/TMR Long/Holiday_DMAs_Group.xlsx\",dtype=str,sheetname=\"Holiday_92\")\n",
    "DMA_56=pd.read_excel(\"/Users/Jian/Desktop/Media Storm/Big Lots/TMR/TMR Long/Holiday_DMAs_Group.xlsx\",dtype=str,sheetname=\"Holiday_56\")\n",
    "DMA_36=pd.read_excel(\"/Users/Jian/Desktop/Media Storm/Big Lots/TMR/TMR Long/Holiday_DMAs_Group.xlsx\",dtype=str,sheetname=\"Holiday_36\")\n",
    "\n",
    "Sales_DMA_LastYear=Sales_DMA[(Sales_DMA['week_end_date']>=datetime.datetime.strptime(\"2016-11-05\",\"%Y-%m-%d\").date()) &\n",
    "                   (Sales_DMA['week_end_date']<=datetime.datetime.strptime(\"2016-12-31\",\"%Y-%m-%d\").date())]\n",
    "\n",
    "Sales_DMA_ThisYear=Sales_DMA[(Sales_DMA['week_end_date']>=datetime.datetime.strptime(\"2017-11-04\",\"%Y-%m-%d\").date()) &\n",
    "                   (Sales_DMA['week_end_date']<=datetime.datetime.strptime(\"2017-12-30\",\"%Y-%m-%d\").date())]\n",
    "del Sales_DMA_LastYear['store_count']\n",
    "del Sales_DMA_LastYear['Competitor']\n",
    "Sales_DMA_LastYear['week_start_date']=Sales_DMA_LastYear['week_start_date'].apply(lambda x:x+datetime.timedelta(days=364))\n",
    "Sales_DMA_LastYear['week_end_date']=Sales_DMA_LastYear['week_end_date'].apply(lambda x:x+datetime.timedelta(days=364))\n",
    "Sales_DMA_LastYear=Sales_DMA_LastYear.rename(columns={'sales':'sales_ly','transactions':'transactions_ly'})\n",
    "\n",
    "\n",
    "del Sales_DMA_ThisYear['store_count']\n",
    "del Sales_DMA_ThisYear['Competitor']\n",
    "Sales_DMA_ThisYear=pd.merge(Sales_DMA_ThisYear,Sales_DMA_LastYear,on=['week_start_date','week_end_date','cleaned dma'],how='outer')\n",
    "\n",
    "Sales_DMA_ThisYear['sales_incremental']=Sales_DMA_ThisYear['sales']-Sales_DMA_ThisYear['sales_ly']\n",
    "Sales_DMA_ThisYear['transactions_incremental']=Sales_DMA_ThisYear['transactions']-Sales_DMA_ThisYear['transactions_ly']\n",
    "del Sales_DMA_ThisYear['sales_ly']\n",
    "del Sales_DMA_ThisYear['transactions_ly']\n",
    "\n",
    "Sales_DMA_Holiday=Sales_DMA_ThisYear[['week_start_date','week_end_date','cleaned dma','sales','transactions']]\n",
    "Sales_DMA_Holiday_92=Sales_DMA_ThisYear[Sales_DMA_ThisYear['cleaned dma'].isin(DMA_92['cleaned dma'])]\n",
    "Sales_DMA_Holiday_36=Sales_DMA_ThisYear[Sales_DMA_ThisYear['cleaned dma'].isin(DMA_36['cleaned dma'])]\n",
    "Sales_DMA_Holiday_56=Sales_DMA_ThisYear[Sales_DMA_ThisYear['cleaned dma'].isin(DMA_56['cleaned dma'])]\n",
    "Sales_DMA_Holiday_94=Sales_DMA_ThisYear[~Sales_DMA_ThisYear['cleaned dma'].isin(DMA_92['cleaned dma'])]\n"
   ]
  },
  {
   "cell_type": "code",
   "execution_count": 73,
   "metadata": {},
   "outputs": [
    {
     "name": "stderr",
     "output_type": "stream",
     "text": [
      "/Users/Jian/anaconda3/lib/python3.6/site-packages/ipykernel_launcher.py:11: SettingWithCopyWarning: \n",
      "A value is trying to be set on a copy of a slice from a DataFrame.\n",
      "Try using .loc[row_indexer,col_indexer] = value instead\n",
      "\n",
      "See the caveats in the documentation: http://pandas.pydata.org/pandas-docs/stable/indexing.html#indexing-view-versus-copy\n",
      "  # This is added back by InteractiveShellApp.init_path()\n"
     ]
    }
   ],
   "source": [
    "TMR_Data_DMA_media=TMR_Data_DMA[['week_start_date','week_end_date','cleaned dma','media','submedia','impression','click','cost']]\n",
    "'''\n",
    "for i in range(len(TMR_Data_DMA_media)):\n",
    "    if (TMR_Data_DMA_media['media'][i]==\"TV\") & (TMR_Data_DMA_media['submedia'][i]==\"Local\"):\n",
    "        TMR_Data_DMA_media['media'][i]=\"TV_Local\"\n",
    "    if (TMR_Data_DMA_media['media'][i]==\"TV\") & (TMR_Data_DMA_media['submedia'][i]==\"National\"):\n",
    "        TMR_Data_DMA_media['media'][i]=\"TV_National\"\n",
    "'''\n",
    "TMR_Data_DMA_media['media']=np.where((TMR_Data_DMA_media['media']==\"TV\")& (TMR_Data_DMA_media['submedia']==\"Local\"),\"TV_Local\",\n",
    "                                    np.where((TMR_Data_DMA_media['media']==\"TV\")& (TMR_Data_DMA_media['submedia']==\"National\"),\"TV_National\",\n",
    "                                            TMR_Data_DMA_media['media']))\n",
    "        \n",
    "        \n",
    "TMR_Data_DMA_media=TMR_Data_DMA_media[['week_start_date','week_end_date','cleaned dma','media','impression','click','cost']]\n",
    "TMR_Data_DMA_media=TMR_Data_DMA_media.groupby(['week_start_date','week_end_date','cleaned dma','media'])['impression','click','cost'].sum()\n",
    "TMR_Data_DMA_media.reset_index(inplace=True)\n",
    "\n",
    "TMR_Data_DMA_media_92=TMR_Data_DMA_media[TMR_Data_DMA_media['cleaned dma'].isin(DMA_92['cleaned dma'])]\n",
    "TMR_Data_DMA_media_56=TMR_Data_DMA_media[TMR_Data_DMA_media['cleaned dma'].isin(DMA_56['cleaned dma'])]\n",
    "TMR_Data_DMA_media_36=TMR_Data_DMA_media[TMR_Data_DMA_media['cleaned dma'].isin(DMA_36['cleaned dma'])]\n",
    "TMR_Data_DMA_media_94=TMR_Data_DMA_media[~TMR_Data_DMA_media['cleaned dma'].isin(DMA_92['cleaned dma'])]\n"
   ]
  },
  {
   "cell_type": "code",
   "execution_count": 74,
   "metadata": {},
   "outputs": [
    {
     "name": "stderr",
     "output_type": "stream",
     "text": [
      "/Users/Jian/anaconda3/lib/python3.6/site-packages/pandas/core/reshape/merge.py:551: UserWarning: merging between different levels can give an unintended result (1 levels on the left, 2 on the right)\n",
      "  warnings.warn(msg, UserWarning)\n",
      "/Users/Jian/anaconda3/lib/python3.6/site-packages/pandas/core/reshape/merge.py:862: PerformanceWarning: dropping on a non-lexsorted multi-index without a level parameter may impact performance.\n",
      "  self.right = self.right.drop(right_drop, axis=1)\n"
     ]
    }
   ],
   "source": [
    "TMR_Data_DMA_media_92=TMR_Data_DMA_media_92.pivot_table(index=['week_start_date','week_end_date','cleaned dma'],columns='media',values=['impression','click','cost']).fillna(0)\n",
    "TMR_Data_DMA_media_92.reset_index(inplace=True)\n",
    "Sales_TMR_Data_DMA_media_92=pd.merge(Sales_DMA_Holiday_92,TMR_Data_DMA_media_92,on=['week_start_date','week_end_date','cleaned dma'],how='left')\n",
    "Sales_TMR_Data_DMA_media_92.to_excel(writer,\"Holiday_92_DMAs\",index=False)\n",
    "\n",
    "TMR_Data_DMA_media_56=TMR_Data_DMA_media_56.pivot_table(index=['week_start_date','week_end_date','cleaned dma'],columns='media',values=['impression','click','cost']).fillna(0)\n",
    "TMR_Data_DMA_media_56.reset_index(inplace=True)\n",
    "Sales_TMR_Data_DMA_media_56=pd.merge(Sales_DMA_Holiday_56,TMR_Data_DMA_media_56,on=['week_start_date','week_end_date','cleaned dma'],how='left')\n",
    "Sales_TMR_Data_DMA_media_56.to_excel(writer,\"Holiday_56_TV_DMAs\",index=False)\n",
    "\n",
    "TMR_Data_DMA_media_36=TMR_Data_DMA_media_36.pivot_table(index=['week_start_date','week_end_date','cleaned dma'],columns='media',values=['impression','click','cost']).fillna(0)\n",
    "TMR_Data_DMA_media_36.reset_index(inplace=True)\n",
    "Sales_TMR_Data_DMA_media_36=pd.merge(Sales_DMA_Holiday_36,TMR_Data_DMA_media_36,on=['week_start_date','week_end_date','cleaned dma'],how='left')\n",
    "Sales_TMR_Data_DMA_media_36.to_excel(writer,\"Holiday_36_Digital_DMAs\",index=False)\n",
    "\n",
    "TMR_Data_DMA_media_94=TMR_Data_DMA_media_94.pivot_table(index=['week_start_date','week_end_date','cleaned dma'],columns='media',values=['impression','click','cost']).fillna(0)\n",
    "TMR_Data_DMA_media_94.reset_index(inplace=True)\n",
    "Sales_TMR_Data_DMA_media_94=pd.merge(Sales_DMA_Holiday_94,TMR_Data_DMA_media_94,on=['week_start_date','week_end_date','cleaned dma'],how='left')\n",
    "Sales_TMR_Data_DMA_media_94.to_excel(writer,\"Holiday_94_Balance_DMAs\",index=False)\n",
    "writer.save()"
   ]
  },
  {
   "cell_type": "code",
   "execution_count": null,
   "metadata": {
    "collapsed": true
   },
   "outputs": [],
   "source": []
  },
  {
   "cell_type": "code",
   "execution_count": 29,
   "metadata": {
    "collapsed": true
   },
   "outputs": [],
   "source": [
    "# Check Missing DMA impression in Digital\n",
    "import pandas as pd\n",
    "import datetime\n",
    "TMR=pd.read_csv(\"/Users/Jian/Desktop/Media Storm/Big Lots/TMR/TMR Long/output/TMR_Data_DMA.csv\")\n",
    "TMR['week_end_date']=TMR['week_end_date'].apply(lambda x: datetime.datetime.strptime(x,\"%Y-%m-%d\").date())\n",
    "TMR=TMR[TMR['week_end_date']>datetime.datetime.strptime(\"2017-11-02\",\"%Y-%m-%d\").date()]\n",
    "TMR=TMR[TMR['week_end_date']<datetime.datetime.strptime(\"2017-12-31\",\"%Y-%m-%d\").date()]\n",
    "TMR.to_csv(\"/Users/Jian/Desktop/Media Storm/Big Lots/TMR/TMR Long/output/TMR_Data_DMA_Holiday_QC.csv\")"
   ]
  },
  {
   "cell_type": "code",
   "execution_count": null,
   "metadata": {
    "collapsed": true
   },
   "outputs": [],
   "source": []
  }
 ],
 "metadata": {
  "kernelspec": {
   "display_name": "Python 3",
   "language": "python",
   "name": "python3"
  },
  "language_info": {
   "codemirror_mode": {
    "name": "ipython",
    "version": 3
   },
   "file_extension": ".py",
   "mimetype": "text/x-python",
   "name": "python",
   "nbconvert_exporter": "python",
   "pygments_lexer": "ipython3",
   "version": "3.6.3"
  }
 },
 "nbformat": 4,
 "nbformat_minor": 2
}
