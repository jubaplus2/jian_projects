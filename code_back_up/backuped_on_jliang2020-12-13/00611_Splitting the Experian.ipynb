{
 "cells": [
  {
   "cell_type": "code",
   "execution_count": 1,
   "metadata": {},
   "outputs": [
    {
     "data": {
      "text/plain": [
       "'/home/jian/Projects/Big_Lots/Analysis/2019_Q1/Experian/Experian_Control_Test'"
      ]
     },
     "execution_count": 1,
     "metadata": {},
     "output_type": "execute_result"
    }
   ],
   "source": [
    "import pandas as pd\n",
    "import numpy as np\n",
    "import os\n",
    "import datetime\n",
    "import glob\n",
    "import gc\n",
    "import random\n",
    "os.getcwd()\n",
    "\n",
    "# Clusters used: Home Focused, Spending Fanatics, Holiday Shopper, Urban Affluence, Rising Hispanic"
   ]
  },
  {
   "cell_type": "code",
   "execution_count": 2,
   "metadata": {},
   "outputs": [
    {
     "data": {
      "text/plain": [
       "36"
      ]
     },
     "execution_count": 2,
     "metadata": {},
     "output_type": "execute_result"
    }
   ],
   "source": [
    "Q4_control_segments_files=glob.glob(\"/home/jian/Projects/Big_Lots/Live_Ramp/Quarterly_Update/crm_newscore_20190107/by_group_quadrant_24/C_*\")\n",
    "len(Q4_control_segments_files)"
   ]
  },
  {
   "cell_type": "code",
   "execution_count": 3,
   "metadata": {},
   "outputs": [
    {
     "data": {
      "text/plain": [
       "'/home/jian/Projects/Big_Lots/Live_Ramp/Quarterly_Update/crm_newscore_20190107/by_group_quadrant_24/C_Quadrant III_T_H_2019Q1.csv'"
      ]
     },
     "execution_count": 3,
     "metadata": {},
     "output_type": "execute_result"
    }
   ],
   "source": [
    "Q4_control_segments_files[3]"
   ]
  },
  {
   "cell_type": "code",
   "execution_count": 4,
   "metadata": {},
   "outputs": [
    {
     "name": "stdout",
     "output_type": "stream",
     "text": [
      "(499998, 3)\n",
      "499998\n"
     ]
    },
    {
     "data": {
      "text/html": [
       "<div>\n",
       "<style>\n",
       "    .dataframe thead tr:only-child th {\n",
       "        text-align: right;\n",
       "    }\n",
       "\n",
       "    .dataframe thead th {\n",
       "        text-align: left;\n",
       "    }\n",
       "\n",
       "    .dataframe tbody tr th {\n",
       "        vertical-align: top;\n",
       "    }\n",
       "</style>\n",
       "<table border=\"1\" class=\"dataframe\">\n",
       "  <thead>\n",
       "    <tr style=\"text-align: right;\">\n",
       "      <th></th>\n",
       "      <th>customer_id_hashed</th>\n",
       "      <th>email_address_hash</th>\n",
       "      <th>segment</th>\n",
       "    </tr>\n",
       "  </thead>\n",
       "  <tbody>\n",
       "    <tr>\n",
       "      <th>0</th>\n",
       "      <td>6b04ce2c2b1b832835f1afa3ee7b2886f47da2d3101dac...</td>\n",
       "      <td>122c13aa1d02032e77f2d3b8719740d70f8abeb8ea9437...</td>\n",
       "      <td>C_Quadrant III_P_H_2019Q1</td>\n",
       "    </tr>\n",
       "    <tr>\n",
       "      <th>1</th>\n",
       "      <td>1894193341d61e377f8e9e5b8feeb49bacb7d5cffc2ff8...</td>\n",
       "      <td>25ce63822e1b6d2c51e773f062322dee8d62b1fdf35170...</td>\n",
       "      <td>C_Quadrant III_P_H_2019Q1</td>\n",
       "    </tr>\n",
       "    <tr>\n",
       "      <th>2</th>\n",
       "      <td>75544ed3ca318ca39cec4f534d579eea5eb532ca9a7983...</td>\n",
       "      <td>2a210f4963167fb0bf69386b71b6e2ce6c05151cb6440f...</td>\n",
       "      <td>C_Quadrant III_P_H_2019Q1</td>\n",
       "    </tr>\n",
       "    <tr>\n",
       "      <th>3</th>\n",
       "      <td>872b386e035813bb595cda0f0bbb11aa11d3f8f1a0fd9f...</td>\n",
       "      <td>1253e35da3454a6edd02736e4dbe56aad61ccfd8434001...</td>\n",
       "      <td>C_Quadrant III_P_H_2019Q1</td>\n",
       "    </tr>\n",
       "  </tbody>\n",
       "</table>\n",
       "</div>"
      ],
      "text/plain": [
       "                                  customer_id_hashed  \\\n",
       "0  6b04ce2c2b1b832835f1afa3ee7b2886f47da2d3101dac...   \n",
       "1  1894193341d61e377f8e9e5b8feeb49bacb7d5cffc2ff8...   \n",
       "2  75544ed3ca318ca39cec4f534d579eea5eb532ca9a7983...   \n",
       "3  872b386e035813bb595cda0f0bbb11aa11d3f8f1a0fd9f...   \n",
       "\n",
       "                                  email_address_hash  \\\n",
       "0  122c13aa1d02032e77f2d3b8719740d70f8abeb8ea9437...   \n",
       "1  25ce63822e1b6d2c51e773f062322dee8d62b1fdf35170...   \n",
       "2  2a210f4963167fb0bf69386b71b6e2ce6c05151cb6440f...   \n",
       "3  1253e35da3454a6edd02736e4dbe56aad61ccfd8434001...   \n",
       "\n",
       "                     segment  \n",
       "0  C_Quadrant III_P_H_2019Q1  \n",
       "1  C_Quadrant III_P_H_2019Q1  \n",
       "2  C_Quadrant III_P_H_2019Q1  \n",
       "3  C_Quadrant III_P_H_2019Q1  "
      ]
     },
     "execution_count": 4,
     "metadata": {},
     "output_type": "execute_result"
    }
   ],
   "source": [
    "df_control=pd.DataFrame()\n",
    "\n",
    "for file_path in Q4_control_segments_files:\n",
    "    df=pd.read_csv(file_path,dtype=str)\n",
    "    df_control=df_control.append(df)\n",
    "    \n",
    "print(df_control.shape)\n",
    "email_control_set=set(df_control['email_address_hash'].unique().tolist())\n",
    "print(len(email_control_set))\n",
    "df_control.head(4)"
   ]
  },
  {
   "cell_type": "code",
   "execution_count": 5,
   "metadata": {
    "collapsed": true
   },
   "outputs": [],
   "source": [
    "Eperian_HH=pd.read_csv(\"/home/jian/Projects/Big_Lots/Analysis/2019_Q1/Experian/MS_Experian_HH_Full.zip\",compression=\"zip\",dtype=str,sep=\"|\",usecols=['Customer_Num','Email_Address_hash','multi_cluster_desc'])\n",
    "Eperian_GEO=pd.read_csv(\"/home/jian/Projects/Big_Lots/Analysis/2019_Q1/Experian/MS_Experian_GEO_Full.zip\",compression=\"zip\",dtype=str,sep=\"|\",usecols=['Customer_Num','Email_Address_hash','multi_cluster_desc'])\n",
    "Eperian=Eperian_HH.append(Eperian_GEO)\n",
    "\n",
    "del Eperian_HH\n",
    "del Eperian_GEO\n",
    "gc.collect()\n",
    "\n",
    "Eperian=Eperian[Eperian['multi_cluster_desc'].isin(['Home Focused','Spending Fanatics','Holiday Shoppers','Urban Affluence','Rising Hispanics'])]\n"
   ]
  },
  {
   "cell_type": "code",
   "execution_count": 6,
   "metadata": {},
   "outputs": [
    {
     "name": "stdout",
     "output_type": "stream",
     "text": [
      "(8201477, 3)\n"
     ]
    }
   ],
   "source": [
    "print(Eperian.shape)"
   ]
  },
  {
   "cell_type": "code",
   "execution_count": 7,
   "metadata": {},
   "outputs": [
    {
     "name": "stdout",
     "output_type": "stream",
     "text": [
      "(202546, 3)\n",
      "(7998931, 3)\n"
     ]
    }
   ],
   "source": [
    "Eperian_in_Q4_Control=Eperian[Eperian['Email_Address_hash'].isin(email_control_set)]\n",
    "print(Eperian_in_Q4_Control.shape)\n",
    "Eperian_not_in_Q4_Control=Eperian[~Eperian['Email_Address_hash'].isin(email_control_set)]\n",
    "print(Eperian_not_in_Q4_Control.shape)"
   ]
  },
  {
   "cell_type": "code",
   "execution_count": 8,
   "metadata": {
    "collapsed": true
   },
   "outputs": [],
   "source": [
    "all_control_df=pd.DataFrame()\n",
    "all_test_df=pd.DataFrame()\n",
    "random.seed(1)\n",
    "\n",
    "for multi_cluster_desc,group in Eperian_not_in_Q4_Control.groupby(['multi_cluster_desc']):\n",
    "    random_list=random.sample(range(len(group)), int(np.ceil(len(group)*0.05))) # Changed to 5%\n",
    "    group=group.reset_index()\n",
    "    del group['index']\n",
    "    group=group.reset_index()\n",
    "    \n",
    "    control_df=group[group['index'].isin(random_list)]\n",
    "    test_df=group[~group['index'].isin(random_list)]\n",
    "    \n",
    "    all_control_df=all_control_df.append(control_df)\n",
    "    all_test_df=all_test_df.append(test_df)"
   ]
  },
  {
   "cell_type": "code",
   "execution_count": 9,
   "metadata": {
    "collapsed": true
   },
   "outputs": [],
   "source": [
    "del all_control_df['index']\n",
    "del all_test_df['index']\n",
    "\n",
    "all_control_df=all_control_df.reset_index()\n",
    "all_test_df=all_test_df.reset_index()\n",
    "\n",
    "del all_control_df['index']\n",
    "del all_test_df['index']\n",
    "\n",
    "all_control_df['segment']=\"Experian_\"+\"C_\"+all_control_df['multi_cluster_desc']\n",
    "all_test_df['segment']=\"Experian_\"+\"T_\"+all_test_df['multi_cluster_desc']\n",
    "all_df_with_segment=all_control_df.append(all_test_df)"
   ]
  },
  {
   "cell_type": "code",
   "execution_count": 10,
   "metadata": {},
   "outputs": [
    {
     "data": {
      "text/html": [
       "<div>\n",
       "<style>\n",
       "    .dataframe thead tr:only-child th {\n",
       "        text-align: right;\n",
       "    }\n",
       "\n",
       "    .dataframe thead th {\n",
       "        text-align: left;\n",
       "    }\n",
       "\n",
       "    .dataframe tbody tr th {\n",
       "        vertical-align: top;\n",
       "    }\n",
       "</style>\n",
       "<table border=\"1\" class=\"dataframe\">\n",
       "  <thead>\n",
       "    <tr style=\"text-align: right;\">\n",
       "      <th></th>\n",
       "      <th>Customer_Num</th>\n",
       "      <th>Email_Address_hash</th>\n",
       "      <th>multi_cluster_desc</th>\n",
       "      <th>segment</th>\n",
       "    </tr>\n",
       "  </thead>\n",
       "  <tbody>\n",
       "    <tr>\n",
       "      <th>0</th>\n",
       "      <td>4945660</td>\n",
       "      <td>23ff9e2ec16a0a407454533418cd32f8e4b1ac815ae754...</td>\n",
       "      <td>Holiday Shoppers</td>\n",
       "      <td>Experian_C_Holiday Shoppers</td>\n",
       "    </tr>\n",
       "    <tr>\n",
       "      <th>1</th>\n",
       "      <td>46271575</td>\n",
       "      <td>f89762653a24886c789413548159d195428ea64d520256...</td>\n",
       "      <td>Holiday Shoppers</td>\n",
       "      <td>Experian_C_Holiday Shoppers</td>\n",
       "    </tr>\n",
       "  </tbody>\n",
       "</table>\n",
       "</div>"
      ],
      "text/plain": [
       "  Customer_Num                                 Email_Address_hash  \\\n",
       "0      4945660  23ff9e2ec16a0a407454533418cd32f8e4b1ac815ae754...   \n",
       "1     46271575  f89762653a24886c789413548159d195428ea64d520256...   \n",
       "\n",
       "  multi_cluster_desc                      segment  \n",
       "0   Holiday Shoppers  Experian_C_Holiday Shoppers  \n",
       "1   Holiday Shoppers  Experian_C_Holiday Shoppers  "
      ]
     },
     "execution_count": 10,
     "metadata": {},
     "output_type": "execute_result"
    }
   ],
   "source": [
    "all_df_with_segment.head(2)"
   ]
  },
  {
   "cell_type": "code",
   "execution_count": 11,
   "metadata": {
    "collapsed": true
   },
   "outputs": [],
   "source": [
    "import hashlib\n",
    "all_df_with_segment['customer_id_hashed']=all_df_with_segment['Customer_Num'].apply(lambda x: hashlib.sha256(x.encode('UTF-8')).hexdigest())\n"
   ]
  },
  {
   "cell_type": "code",
   "execution_count": 12,
   "metadata": {
    "collapsed": true
   },
   "outputs": [],
   "source": [
    "writer_folder=\"/home/jian/Projects/Big_Lots/Analysis/2019_Q1/Experian/Experian_Control_Test/output/\""
   ]
  },
  {
   "cell_type": "code",
   "execution_count": 13,
   "metadata": {},
   "outputs": [
    {
     "name": "stdout",
     "output_type": "stream",
     "text": [
      "Experian_C_Holiday Shoppers 45109\n",
      "Experian_C_Home Focused 108612\n",
      "Experian_C_Rising Hispanics 110393\n",
      "Experian_C_Spending Fanatics 47445\n",
      "Experian_C_Urban Affluence 88390\n",
      "Experian_T_Holiday Shoppers 857058\n",
      "Experian_T_Home Focused 2063612\n",
      "Experian_T_Rising Hispanics 2097462\n",
      "Experian_T_Spending Fanatics 901449\n",
      "Experian_T_Urban Affluence 1679401\n"
     ]
    }
   ],
   "source": [
    "for segment,group in all_df_with_segment.groupby(['segment']):\n",
    "    group=group[['customer_id_hashed','Email_Address_hash','segment']]\n",
    "    group.to_csv(writer_folder+segment+\".csv\",index=False)\n",
    "    print(segment,len(group))"
   ]
  },
  {
   "cell_type": "code",
   "execution_count": 14,
   "metadata": {
    "collapsed": true
   },
   "outputs": [],
   "source": [
    "summary_count=all_df_with_segment.groupby('segment')['Email_Address_hash'].count().to_frame().reset_index().rename(columns={\"Email_Address_hash\":\"id_count\"})\n",
    "summary_count.to_csv(\"/home/jian/Projects/Big_Lots/Analysis/2019_Q1/Experian/Experian_Control_Test/Experian_LR_Summary_Segments.csv\",index=False)\n",
    "\n",
    "Eperian_in_Q4_Control.to_csv(\"/home/jian/Projects/Big_Lots/Analysis/2019_Q1/Experian/Experian_Control_Test/Experian_in_Q4_Segments.csv\",index=False)"
   ]
  },
  {
   "cell_type": "code",
   "execution_count": 15,
   "metadata": {},
   "outputs": [
    {
     "data": {
      "text/html": [
       "<div>\n",
       "<style>\n",
       "    .dataframe thead tr:only-child th {\n",
       "        text-align: right;\n",
       "    }\n",
       "\n",
       "    .dataframe thead th {\n",
       "        text-align: left;\n",
       "    }\n",
       "\n",
       "    .dataframe tbody tr th {\n",
       "        vertical-align: top;\n",
       "    }\n",
       "</style>\n",
       "<table border=\"1\" class=\"dataframe\">\n",
       "  <thead>\n",
       "    <tr style=\"text-align: right;\">\n",
       "      <th></th>\n",
       "      <th>segment</th>\n",
       "      <th>id_count</th>\n",
       "    </tr>\n",
       "  </thead>\n",
       "  <tbody>\n",
       "    <tr>\n",
       "      <th>0</th>\n",
       "      <td>Experian_C_Holiday Shoppers</td>\n",
       "      <td>45109</td>\n",
       "    </tr>\n",
       "    <tr>\n",
       "      <th>1</th>\n",
       "      <td>Experian_C_Home Focused</td>\n",
       "      <td>108612</td>\n",
       "    </tr>\n",
       "    <tr>\n",
       "      <th>2</th>\n",
       "      <td>Experian_C_Rising Hispanics</td>\n",
       "      <td>110393</td>\n",
       "    </tr>\n",
       "    <tr>\n",
       "      <th>3</th>\n",
       "      <td>Experian_C_Spending Fanatics</td>\n",
       "      <td>47445</td>\n",
       "    </tr>\n",
       "    <tr>\n",
       "      <th>4</th>\n",
       "      <td>Experian_C_Urban Affluence</td>\n",
       "      <td>88390</td>\n",
       "    </tr>\n",
       "    <tr>\n",
       "      <th>5</th>\n",
       "      <td>Experian_T_Holiday Shoppers</td>\n",
       "      <td>857058</td>\n",
       "    </tr>\n",
       "    <tr>\n",
       "      <th>6</th>\n",
       "      <td>Experian_T_Home Focused</td>\n",
       "      <td>2063612</td>\n",
       "    </tr>\n",
       "    <tr>\n",
       "      <th>7</th>\n",
       "      <td>Experian_T_Rising Hispanics</td>\n",
       "      <td>2097462</td>\n",
       "    </tr>\n",
       "    <tr>\n",
       "      <th>8</th>\n",
       "      <td>Experian_T_Spending Fanatics</td>\n",
       "      <td>901449</td>\n",
       "    </tr>\n",
       "    <tr>\n",
       "      <th>9</th>\n",
       "      <td>Experian_T_Urban Affluence</td>\n",
       "      <td>1679401</td>\n",
       "    </tr>\n",
       "  </tbody>\n",
       "</table>\n",
       "</div>"
      ],
      "text/plain": [
       "                        segment  id_count\n",
       "0   Experian_C_Holiday Shoppers     45109\n",
       "1       Experian_C_Home Focused    108612\n",
       "2   Experian_C_Rising Hispanics    110393\n",
       "3  Experian_C_Spending Fanatics     47445\n",
       "4    Experian_C_Urban Affluence     88390\n",
       "5   Experian_T_Holiday Shoppers    857058\n",
       "6       Experian_T_Home Focused   2063612\n",
       "7   Experian_T_Rising Hispanics   2097462\n",
       "8  Experian_T_Spending Fanatics    901449\n",
       "9    Experian_T_Urban Affluence   1679401"
      ]
     },
     "execution_count": 15,
     "metadata": {},
     "output_type": "execute_result"
    }
   ],
   "source": [
    "summary_count"
   ]
  },
  {
   "cell_type": "code",
   "execution_count": null,
   "metadata": {
    "collapsed": true
   },
   "outputs": [],
   "source": []
  },
  {
   "cell_type": "code",
   "execution_count": null,
   "metadata": {
    "collapsed": true
   },
   "outputs": [],
   "source": []
  }
 ],
 "metadata": {
  "kernelspec": {
   "display_name": "Python 3",
   "language": "python",
   "name": "python3"
  },
  "language_info": {
   "codemirror_mode": {
    "name": "ipython",
    "version": 3
   },
   "file_extension": ".py",
   "mimetype": "text/x-python",
   "name": "python",
   "nbconvert_exporter": "python",
   "pygments_lexer": "ipython3",
   "version": "3.6.1"
  }
 },
 "nbformat": 4,
 "nbformat_minor": 2
}
