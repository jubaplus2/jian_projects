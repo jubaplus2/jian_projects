{
 "cells": [
  {
   "cell_type": "code",
   "execution_count": 10,
   "metadata": {},
   "outputs": [],
   "source": [
    "import uuid\n",
    "from googleads import adwords\n",
    "import os\n",
    "import datetime\n",
    "import pandas as pd\n",
    "auth_file_path = '/home/jian/Docs/Google_Ads_Access/googleads_BL_MMC.yaml'\n",
    "\n",
    "def upload_and_return_count_in_chunk(service, user_list_id, email_list):\n",
    "    ids_in_chunk=0\n",
    "    mutate_members_operation = {\n",
    "      'operand': {\n",
    "          'userListId': user_list_id,\n",
    "          'membersList': email_list\n",
    "      },\n",
    "      'operator': 'ADD'\n",
    "    }\n",
    "    response = service.mutateMembers([mutate_members_operation])\n",
    "    if 'userLists' in response:\n",
    "        for user_list in response['userLists']:\n",
    "            # print('Uploaded %i items to user list with name \"%s\" and ID \"%d\"'\n",
    "            #     % (len(email_list), user_list['name'], user_list['id']))\n",
    "\n",
    "            \n",
    "            ids_in_chunk+=len(email_list)\n",
    "    return ids_in_chunk\n",
    "            \n",
    "def run_the_uploading(client, email_file_path):\n",
    "  # Initialize appropriate services.\n",
    "    total_ids_in_seg=0\n",
    "    user_list_service = client.GetService('AdwordsUserListService', 'v201809')\n",
    "    file_base_name=os.path.basename(email_file_path).split(\".\")[0]\n",
    "    user_list = {\n",
    "        'xsi_type': 'CrmBasedUserList',\n",
    "        'name': file_base_name+\"_test_no_use2\",\n",
    "        'description': 'A list of customers that originated from email addresses as '+file_base_name,\n",
    "        # CRM-based user lists can use a membershipLifeSpan of 10000 to indicate\n",
    "        # unlimited; otherwise normal values apply.\n",
    "        'membershipLifeSpan': 10000,\n",
    "        'uploadKeyType': 'CONTACT_INFO'\n",
    "     }\n",
    "    # Create an operation to add the user list.\n",
    "    operations = [{\n",
    "        'operator': 'ADD',\n",
    "        'operand': user_list\n",
    "    }]\n",
    "    result = user_list_service.mutate(operations)\n",
    "    user_list_id = result['value'][0]['id']\n",
    "\n",
    "    df = pd.read_csv(email_file_path, chunksize=3000)\n",
    "    for i in df:\n",
    "        mail_col = [k for k in i.columns if 'email' in k.lower()][0]\n",
    "        new_col = ['email' if h == mail_col else h for h in i.columns.tolist()]\n",
    "        i.columns = new_col\n",
    "        emails = i['email']\n",
    "        emails = set([i for i in emails if str(i) != 'nan'])\n",
    "        members = [{'hashedEmail': email} for email in emails]\n",
    "        ids_in_chunk=upload_and_return_count_in_chunk(user_list_service, user_list_id, members)\n",
    "        \n",
    "        total_ids_in_seg+=ids_in_chunk\n",
    "    print(datetime.datetime.now(),\"all %s ids uploaded in the segment \"%str(total_ids_in_seg))"
   ]
  },
  {
   "cell_type": "code",
   "execution_count": 11,
   "metadata": {},
   "outputs": [
    {
     "name": "stdout",
     "output_type": "stream",
     "text": [
      "4\n"
     ]
    },
    {
     "data": {
      "text/plain": [
       "['/home/jian/Projects/Big_Lots/Analysis/2019_Q4/Google_uploading_audience_JT_20200129/audience_files/BL_2020Q1_Exp_income_50_above.csv',\n",
       " '/home/jian/Projects/Big_Lots/Analysis/2019_Q4/Google_uploading_audience_JT_20200129/audience_files/BL_2020Q1_Exp_income_50_below.csv',\n",
       " '/home/jian/Projects/Big_Lots/Analysis/2019_Q4/Google_uploading_audience_JT_20200129/audience_files/BL_2020Q1_Exp_LiveDesc_SingleFamily.csv',\n",
       " '/home/jian/Projects/Big_Lots/Analysis/2019_Q4/Google_uploading_audience_JT_20200129/audience_files/BL_2020Q1_Exp_LiveDesc_MultipleFamily.csv']"
      ]
     },
     "execution_count": 11,
     "metadata": {},
     "output_type": "execute_result"
    }
   ],
   "source": [
    "writer_floder='/home/jian/Projects/Big_Lots/Analysis/2019_Q4/Google_uploading_audience_JT_20200129/audience_files/'\n",
    "\n",
    "import glob\n",
    "\n",
    "list_files_to_upload=glob.glob(writer_floder+\"*.csv\")\n",
    "\n",
    "print(len(list_files_to_upload))\n",
    "list_files_to_upload"
   ]
  },
  {
   "cell_type": "code",
   "execution_count": null,
   "metadata": {},
   "outputs": [],
   "source": [
    "BL_client = adwords.AdWordsClient.LoadFromStorage(auth_file_path)\n",
    "for local_seg_file in list_files_to_upload[:1]:\n",
    "    run_the_uploading(BL_client, local_seg_file)"
   ]
  },
  {
   "cell_type": "code",
   "execution_count": null,
   "metadata": {},
   "outputs": [],
   "source": []
  }
 ],
 "metadata": {
  "kernelspec": {
   "display_name": "Python 3",
   "language": "python",
   "name": "python3"
  },
  "language_info": {
   "codemirror_mode": {
    "name": "ipython",
    "version": 3
   },
   "file_extension": ".py",
   "mimetype": "text/x-python",
   "name": "python",
   "nbconvert_exporter": "python",
   "pygments_lexer": "ipython3",
   "version": "3.6.1"
  }
 },
 "nbformat": 4,
 "nbformat_minor": 2
}
