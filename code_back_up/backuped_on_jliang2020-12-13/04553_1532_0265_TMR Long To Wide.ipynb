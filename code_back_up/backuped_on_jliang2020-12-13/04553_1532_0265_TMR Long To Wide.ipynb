{
 "cells": [
  {
   "cell_type": "code",
   "execution_count": 42,
   "metadata": {
    "collapsed": true
   },
   "outputs": [],
   "source": [
    "import pandas as pd\n",
    "import numpy as np\n",
    "import datetime\n"
   ]
  },
  {
   "cell_type": "markdown",
   "metadata": {},
   "source": [
    "# National"
   ]
  },
  {
   "cell_type": "code",
   "execution_count": 55,
   "metadata": {},
   "outputs": [],
   "source": [
    "TMR_Data=pd.read_csv(\"/home/jian/Projects/Big_Lots/TMR/Data Cleaning/ALL MEDIA 0222_csv.csv\")"
   ]
  },
  {
   "cell_type": "code",
   "execution_count": 56,
   "metadata": {},
   "outputs": [],
   "source": [
    "# Remove 1 row with na date\n",
    "TMR_Data=TMR_Data[~pd.isnull(TMR_Data['week date'])]\n",
    "TMR_Data=TMR_Data[TMR_Data['week date']!=\"12/31/2017\"]\n",
    "TMR_Data=TMR_Data[TMR_Data['week date']!=\"09/25/2016\"]\n",
    "TMR_Data['week_start_date']=TMR_Data['week date'].apply(lambda x: datetime.datetime.strptime(x, '%m/%d/%Y').date())\n",
    "TMR_Data['week_end_date']=TMR_Data['week_start_date']+ datetime.timedelta(days=6)\n",
    "del TMR_Data['week date']"
   ]
  },
  {
   "cell_type": "code",
   "execution_count": 57,
   "metadata": {},
   "outputs": [],
   "source": [
    "TMR_Data_National_submedia=TMR_Data['week_start_date','week_end_date','media','submedia','placement','placement','cleaned dma','']\n"
   ]
  },
  {
   "cell_type": "code",
   "execution_count": 58,
   "metadata": {},
   "outputs": [
    {
     "data": {
      "text/html": [
       "<div>\n",
       "<style>\n",
       "    .dataframe thead tr:only-child th {\n",
       "        text-align: right;\n",
       "    }\n",
       "\n",
       "    .dataframe thead th {\n",
       "        text-align: left;\n",
       "    }\n",
       "\n",
       "    .dataframe tbody tr th {\n",
       "        vertical-align: top;\n",
       "    }\n",
       "</style>\n",
       "<table border=\"1\" class=\"dataframe\">\n",
       "  <thead>\n",
       "    <tr style=\"text-align: right;\">\n",
       "      <th></th>\n",
       "      <th>media</th>\n",
       "      <th>submedia</th>\n",
       "      <th>placement</th>\n",
       "      <th>cleaned dma</th>\n",
       "      <th>impression</th>\n",
       "      <th>click</th>\n",
       "      <th>cost</th>\n",
       "      <th>week_start_date</th>\n",
       "      <th>week_end_date</th>\n",
       "    </tr>\n",
       "  </thead>\n",
       "  <tbody>\n",
       "    <tr>\n",
       "      <th>0</th>\n",
       "      <td>Cinema</td>\n",
       "      <td>xx</td>\n",
       "      <td>xx</td>\n",
       "      <td>Albany-Schenectady-Troy, NY</td>\n",
       "      <td>19610.20632</td>\n",
       "      <td>0.0</td>\n",
       "      <td>583.306421</td>\n",
       "      <td>2017-11-12</td>\n",
       "      <td>2017-11-18</td>\n",
       "    </tr>\n",
       "    <tr>\n",
       "      <th>1</th>\n",
       "      <td>Cinema</td>\n",
       "      <td>xx</td>\n",
       "      <td>xx</td>\n",
       "      <td>Albuquerque-Santa Fe, NM</td>\n",
       "      <td>35222.84050</td>\n",
       "      <td>0.0</td>\n",
       "      <td>1408.913620</td>\n",
       "      <td>2017-11-12</td>\n",
       "      <td>2017-11-18</td>\n",
       "    </tr>\n",
       "  </tbody>\n",
       "</table>\n",
       "</div>"
      ],
      "text/plain": [
       "    media submedia placement                  cleaned dma   impression  click  \\\n",
       "0  Cinema       xx        xx  Albany-Schenectady-Troy, NY  19610.20632    0.0   \n",
       "1  Cinema       xx        xx     Albuquerque-Santa Fe, NM  35222.84050    0.0   \n",
       "\n",
       "          cost week_start_date week_end_date  \n",
       "0   583.306421      2017-11-12    2017-11-18  \n",
       "1  1408.913620      2017-11-12    2017-11-18  "
      ]
     },
     "execution_count": 58,
     "metadata": {},
     "output_type": "execute_result"
    }
   ],
   "source": [
    "TMR_Data_National_placement"
   ]
  },
  {
   "cell_type": "code",
   "execution_count": 53,
   "metadata": {},
   "outputs": [],
   "source": [
    "TMR_Data=TMR_Data[TMR_Data['week date']!=\"09/25/2016\"]\n"
   ]
  },
  {
   "cell_type": "code",
   "execution_count": null,
   "metadata": {
    "collapsed": true
   },
   "outputs": [],
   "source": []
  }
 ],
 "metadata": {
  "kernelspec": {
   "display_name": "Python 3",
   "language": "python",
   "name": "python3"
  },
  "language_info": {
   "codemirror_mode": {
    "name": "ipython",
    "version": 3
   },
   "file_extension": ".py",
   "mimetype": "text/x-python",
   "name": "python",
   "nbconvert_exporter": "python",
   "pygments_lexer": "ipython3",
   "version": "3.6.1"
  }
 },
 "nbformat": 4,
 "nbformat_minor": 2
}
