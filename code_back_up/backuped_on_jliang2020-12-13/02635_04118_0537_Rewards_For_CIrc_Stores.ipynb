{
 "cells": [
  {
   "cell_type": "code",
   "execution_count": 1,
   "metadata": {},
   "outputs": [
    {
     "data": {
      "text/plain": [
       "'/home/jian/Projects/Big_Lots/Analysis/2018_Q4/Circ_Test_Con'"
      ]
     },
     "execution_count": 1,
     "metadata": {},
     "output_type": "execute_result"
    }
   ],
   "source": [
    "import pandas as pd\n",
    "import numpy as np\n",
    "import datetime\n",
    "import os\n",
    "import glob\n",
    "os.getcwd()"
   ]
  },
  {
   "cell_type": "code",
   "execution_count": 2,
   "metadata": {
    "collapsed": true
   },
   "outputs": [],
   "source": [
    "test_week_list_2018=[datetime.date(2018,9,15)+datetime.timedelta(days=x*7) for x in range(8)]\n",
    "test_week_list_2017=[x+datetime.timedelta(days=-52*7) for x in test_week_list_2018]"
   ]
  },
  {
   "cell_type": "code",
   "execution_count": 3,
   "metadata": {
    "collapsed": true
   },
   "outputs": [],
   "source": [
    "historical_rewards=pd.read_csv(\"/home/jian/Projects/Big_Lots/Loyal_members/loyalty_sales_data/From_Sp/combinedtransactions_0811.csv\",\n",
    "                               dtype=str,usecols=['customer_id_hashed','transaction_date','transaction_id','location_id','total_transaction_amt','transaction_time'])\n",
    "historical_rewards=historical_rewards.drop_duplicates()\n",
    "historical_rewards['transaction_date']=historical_rewards['transaction_date'].apply(lambda x: datetime.datetime.strptime(x,\"%Y-%m-%d\").date())"
   ]
  },
  {
   "cell_type": "code",
   "execution_count": 4,
   "metadata": {
    "collapsed": true
   },
   "outputs": [],
   "source": [
    "historical_rewards_2017=historical_rewards[(historical_rewards['transaction_date']>=(min(test_week_list_2017)-datetime.timedelta(days=6))) &\\\n",
    "                                      (historical_rewards['transaction_date']<=max(test_week_list_2017))]\n",
    "del historical_rewards"
   ]
  },
  {
   "cell_type": "code",
   "execution_count": 5,
   "metadata": {
    "collapsed": true
   },
   "outputs": [],
   "source": [
    "biweek_rewards_2018_1=pd.read_table(\"/home/jian/Projects/Big_Lots/Loyal_members/loyalty_sales_data/MediaStormSalesBiWeekly20180925-132958-543.txt\",dtype=str,sep=\"|\")\n",
    "biweek_rewards_2018_2=pd.read_table(\"/home/jian/Projects/Big_Lots/Loyal_members/loyalty_sales_data/MediaStormSalesBiWeekly20181009-132856-945.txt\",dtype=str,sep=\"|\")\n",
    "biweek_rewards_2018_3=pd.read_table(\"/home/jian/Projects/Big_Lots/Loyal_members/loyalty_sales_data/MediaStormSalesBiWeekly20181023-132316-829.txt\",dtype=str,sep=\"|\")\n",
    "biweek_rewards_2018_4=pd.read_table(\"/home/jian/Projects/Big_Lots/Loyal_members/loyalty_sales_data/MediaStormSalesBiWeekly20181106-132358-296.txt\",dtype=str,sep=\"|\")"
   ]
  },
  {
   "cell_type": "code",
   "execution_count": 6,
   "metadata": {
    "collapsed": true
   },
   "outputs": [],
   "source": [
    "biweek_rewards_2018=biweek_rewards_2018_1.append(biweek_rewards_2018_2).append(biweek_rewards_2018_3).append(biweek_rewards_2018_4)\n",
    "del biweek_rewards_2018_1\n",
    "del biweek_rewards_2018_2\n",
    "del biweek_rewards_2018_3\n",
    "del biweek_rewards_2018_4\n",
    "del biweek_rewards_2018['merch_cat']\n",
    "del biweek_rewards_2018['total_transaction_units']\n",
    "biweek_rewards_2018=biweek_rewards_2018.drop_duplicates()\n",
    "biweek_rewards_2018['transaction_dt']=biweek_rewards_2018['transaction_dt'].apply(lambda x: datetime.datetime.strptime(x,\"%Y-%m-%d\").date())\n",
    "\n"
   ]
  },
  {
   "cell_type": "code",
   "execution_count": 8,
   "metadata": {
    "collapsed": true
   },
   "outputs": [],
   "source": [
    "historical_rewards_2017['total_transaction_amt']=historical_rewards_2017['total_transaction_amt'].astype(float)\n",
    "biweek_rewards_2018['total_transaction_amt']=biweek_rewards_2018['total_transaction_amt'].astype(float)\n",
    "historical_rewards_2017=historical_rewards_2017.rename(columns={\"transaction_date\":\"transaction_dt\"})\n",
    "rewards_by_day_2017=historical_rewards_2017.groupby(['location_id','transaction_dt'])['total_transaction_amt'].sum().to_frame().reset_index()\n",
    "rewards_by_day_2018=biweek_rewards_2018.groupby(['location_id','transaction_dt'])['total_transaction_amt'].sum().to_frame().reset_index()\n",
    "\n"
   ]
  },
  {
   "cell_type": "code",
   "execution_count": 9,
   "metadata": {
    "collapsed": true
   },
   "outputs": [],
   "source": [
    "def week_end_dt(x):\n",
    "    if x.weekday()==6:\n",
    "        y=x+datetime.timedelta(days=6)\n",
    "    else:\n",
    "        y=x+datetime.timedelta(days=(5-x.weekday()))\n",
    "    return y\n",
    "rewards_by_day_2017['week_end_dt']=rewards_by_day_2017['transaction_dt'].apply(lambda x: week_end_dt(x))\n",
    "rewards_by_day_2018['week_end_dt']=rewards_by_day_2018['transaction_dt'].apply(lambda x: week_end_dt(x))"
   ]
  },
  {
   "cell_type": "code",
   "execution_count": 10,
   "metadata": {
    "collapsed": true
   },
   "outputs": [],
   "source": [
    "rewards_by_week_2017=rewards_by_day_2017.groupby(['location_id','week_end_dt'])['total_transaction_amt'].sum().to_frame().reset_index()\n",
    "rewards_by_week_2018=rewards_by_day_2018.groupby(['location_id','week_end_dt'])['total_transaction_amt'].sum().to_frame().reset_index()\n"
   ]
  },
  {
   "cell_type": "code",
   "execution_count": 11,
   "metadata": {
    "collapsed": true
   },
   "outputs": [],
   "source": [
    "rewards_by_week_2017_wide=rewards_by_week_2017.pivot_table(index=\"location_id\",columns=\"week_end_dt\",values=\"total_transaction_amt\").reset_index()\n",
    "rewards_by_week_2018_wide=rewards_by_week_2018.pivot_table(index=\"location_id\",columns=\"week_end_dt\",values=\"total_transaction_amt\").reset_index()\n",
    "\n"
   ]
  },
  {
   "cell_type": "code",
   "execution_count": 12,
   "metadata": {
    "collapsed": true
   },
   "outputs": [],
   "source": [
    "writer=pd.ExcelWriter(\"/home/jian/Projects/Big_Lots/Analysis/2018_Q4/Circ_Test_Con/BL_rewards_by_store_week_JL_\"+str(datetime.datetime.now().date())+\".xlsx\",engine=\"xlsxwriter\")\n",
    "rewards_by_week_2017_wide.to_excel(writer,\"rewards_2017\",index=False)\n",
    "rewards_by_week_2018_wide.to_excel(writer,\"rewards_2018\",index=False)\n",
    "writer.save()"
   ]
  },
  {
   "cell_type": "code",
   "execution_count": null,
   "metadata": {
    "collapsed": true
   },
   "outputs": [],
   "source": [
    "# ,usecols=['customer_id_hashed','transaction_date','transaction_id','location_id','total_transaction_amt','transaction_time]"
   ]
  },
  {
   "cell_type": "code",
   "execution_count": null,
   "metadata": {
    "collapsed": true
   },
   "outputs": [],
   "source": []
  },
  {
   "cell_type": "code",
   "execution_count": null,
   "metadata": {
    "collapsed": true
   },
   "outputs": [],
   "source": []
  },
  {
   "cell_type": "code",
   "execution_count": 5,
   "metadata": {
    "collapsed": true
   },
   "outputs": [],
   "source": [
    "test_week_list_2018=[datetime.date(2018,9,15)+datetime.timedelta(days=x*7) for x in range(8)]\n",
    "test_week_list_2017=[x+datetime.timedelta(days=-52*7) for x in test_week_list_2018]\n",
    "start_2017=min(test_week_list_2017)-datetime.timedelta(days=6)\n",
    "date_2017_list_str=[str(start_2017+datetime.timedelta(days=x)) for x in range(56)]"
   ]
  },
  {
   "cell_type": "code",
   "execution_count": 11,
   "metadata": {
    "collapsed": true
   },
   "outputs": [],
   "source": [
    "header_df=pd.read_table(\"/home/jian/Projects/Big_Lots/Loyal_members/loyalty_sales_data/MediaStormSalesBiWeekly20180925-132958-543.txt\",dtype=str,sep=\"|\",nrows=100)\n",
    "\n",
    "very_early_rewards=pd.read_table(\"/home/jian/Projects/Big_Lots/Loyal_members/loyalty_sales_data/MediaStormCustDtl.txt\",\n",
    "                                 dtype=str,sep=\",\",header=None)\n",
    "very_early_rewards.columns=header_df.columns\n",
    "del very_early_rewards['merch_cat']\n",
    "very_early_rewards=very_early_rewards.drop_duplicates()"
   ]
  },
  {
   "cell_type": "code",
   "execution_count": 13,
   "metadata": {},
   "outputs": [],
   "source": [
    "very_early_rewards=very_early_rewards[very_early_rewards['transaction_dt'].isin(date_2017_list_str)]\n",
    "very_early_rewards=very_early_rewards.reset_index()\n",
    "del very_early_rewards['index']\n",
    "very_early_rewards['total_transaction_amt']=very_early_rewards['total_transaction_amt'].astype(float)"
   ]
  },
  {
   "cell_type": "code",
   "execution_count": 14,
   "metadata": {},
   "outputs": [
    {
     "data": {
      "text/html": [
       "<div>\n",
       "<style>\n",
       "    .dataframe thead tr:only-child th {\n",
       "        text-align: right;\n",
       "    }\n",
       "\n",
       "    .dataframe thead th {\n",
       "        text-align: left;\n",
       "    }\n",
       "\n",
       "    .dataframe tbody tr th {\n",
       "        vertical-align: top;\n",
       "    }\n",
       "</style>\n",
       "<table border=\"1\" class=\"dataframe\">\n",
       "  <thead>\n",
       "    <tr style=\"text-align: right;\">\n",
       "      <th></th>\n",
       "      <th>customer_id_hashed</th>\n",
       "      <th>transaction_dt</th>\n",
       "      <th>transaction_time</th>\n",
       "      <th>transaction_id</th>\n",
       "      <th>location_id</th>\n",
       "      <th>total_transaction_amt</th>\n",
       "      <th>total_transaction_units</th>\n",
       "    </tr>\n",
       "  </thead>\n",
       "  <tbody>\n",
       "    <tr>\n",
       "      <th>0</th>\n",
       "      <td>31543729</td>\n",
       "      <td>2017-09-10</td>\n",
       "      <td>17:20</td>\n",
       "      <td>6571</td>\n",
       "      <td>5324</td>\n",
       "      <td>26.00</td>\n",
       "      <td>3</td>\n",
       "    </tr>\n",
       "    <tr>\n",
       "      <th>1</th>\n",
       "      <td>22163857</td>\n",
       "      <td>2017-09-10</td>\n",
       "      <td>14:12</td>\n",
       "      <td>1945</td>\n",
       "      <td>5096</td>\n",
       "      <td>17.65</td>\n",
       "      <td>26</td>\n",
       "    </tr>\n",
       "    <tr>\n",
       "      <th>2</th>\n",
       "      <td>25635953</td>\n",
       "      <td>2017-09-10</td>\n",
       "      <td>20:06</td>\n",
       "      <td>2877</td>\n",
       "      <td>5298</td>\n",
       "      <td>17.45</td>\n",
       "      <td>5</td>\n",
       "    </tr>\n",
       "  </tbody>\n",
       "</table>\n",
       "</div>"
      ],
      "text/plain": [
       "  customer_id_hashed transaction_dt transaction_time transaction_id  \\\n",
       "0           31543729     2017-09-10            17:20           6571   \n",
       "1           22163857     2017-09-10            14:12           1945   \n",
       "2           25635953     2017-09-10            20:06           2877   \n",
       "\n",
       "  location_id  total_transaction_amt total_transaction_units  \n",
       "0        5324                  26.00                       3  \n",
       "1        5096                  17.65                      26  \n",
       "2        5298                  17.45                       5  "
      ]
     },
     "execution_count": 14,
     "metadata": {},
     "output_type": "execute_result"
    }
   ],
   "source": [
    "very_early_rewards.head(3)"
   ]
  },
  {
   "cell_type": "code",
   "execution_count": 15,
   "metadata": {
    "collapsed": true
   },
   "outputs": [],
   "source": [
    "very_early_rewards_1701=very_early_rewards[very_early_rewards['location_id']==\"1701\"]\n"
   ]
  },
  {
   "cell_type": "code",
   "execution_count": 16,
   "metadata": {},
   "outputs": [
    {
     "data": {
      "text/plain": [
       "78769.699999999997"
      ]
     },
     "execution_count": 16,
     "metadata": {},
     "output_type": "execute_result"
    }
   ],
   "source": [
    "very_early_rewards_1701['total_transaction_amt'].sum()"
   ]
  },
  {
   "cell_type": "code",
   "execution_count": 17,
   "metadata": {},
   "outputs": [
    {
     "data": {
      "text/plain": [
       "56"
      ]
     },
     "execution_count": 17,
     "metadata": {},
     "output_type": "execute_result"
    }
   ],
   "source": [
    "len(very_early_rewards_1701['transaction_dt'].unique())"
   ]
  },
  {
   "cell_type": "code",
   "execution_count": null,
   "metadata": {
    "collapsed": true
   },
   "outputs": [],
   "source": []
  }
 ],
 "metadata": {
  "kernelspec": {
   "display_name": "Python 3",
   "language": "python",
   "name": "python3"
  },
  "language_info": {
   "codemirror_mode": {
    "name": "ipython",
    "version": 3
   },
   "file_extension": ".py",
   "mimetype": "text/x-python",
   "name": "python",
   "nbconvert_exporter": "python",
   "pygments_lexer": "ipython3",
   "version": "3.6.1"
  }
 },
 "nbformat": 4,
 "nbformat_minor": 2
}
