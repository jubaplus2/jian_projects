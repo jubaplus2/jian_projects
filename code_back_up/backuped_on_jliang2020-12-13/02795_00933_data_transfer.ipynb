{
 "cells": [
  {
   "cell_type": "code",
   "execution_count": 1,
   "metadata": {},
   "outputs": [
    {
     "data": {
      "text/plain": [
       "'/home/jian/Projects/Big_Lots/Analysis/2019_Q2/Planner_Requests/Transfer_data_to_64_saatva_for_David'"
      ]
     },
     "execution_count": 1,
     "metadata": {},
     "output_type": "execute_result"
    }
   ],
   "source": [
    "import pandas as pd\n",
    "import numpy as np\n",
    "import datetime\n",
    "import os\n",
    "import paramiko\n",
    "os.getcwd()"
   ]
  },
  {
   "cell_type": "code",
   "execution_count": 2,
   "metadata": {
    "collapsed": true
   },
   "outputs": [],
   "source": [
    "def recursive_file_gen(root_path):\n",
    "    for root, dirs, files in os.walk(root_path):\n",
    "        for file in files:\n",
    "            yield os.path.join(root, file)"
   ]
  },
  {
   "cell_type": "code",
   "execution_count": 3,
   "metadata": {
    "collapsed": true
   },
   "outputs": [],
   "source": [
    "host = \"64.237.51.251\" #hard-coded\n",
    "port = 22\n",
    "transport = paramiko.Transport((host, port))\n",
    "\n",
    "password = \"jian@juba2017\" #hard-coded\n",
    "username = \"jian\" #hard-coded\n",
    "transport.connect(username = username, password = password)\n",
    "sftp = paramiko.SFTPClient.from_transport(transport)"
   ]
  },
  {
   "cell_type": "markdown",
   "metadata": {},
   "source": [
    "# Traffic_Files"
   ]
  },
  {
   "cell_type": "code",
   "execution_count": 8,
   "metadata": {},
   "outputs": [
    {
     "data": {
      "text/plain": [
       "79"
      ]
     },
     "execution_count": 8,
     "metadata": {},
     "output_type": "execute_result"
    }
   ],
   "source": [
    "traffic_files_2018=list(recursive_file_gen(\"/home/jian/BigLots/2018_by_weeks/\"))\n",
    "traffic_files_2018=[x for x in traffic_files_2018 if \"TrafficWeekly\" in x]\n",
    "\n",
    "traffic_files_2019=list(recursive_file_gen(\"/home/jian/BigLots/2019_by_weeks/\"))\n",
    "traffic_files_2019=[x for x in traffic_files_2019 if \"TrafficWeekly\" in x]\n",
    "\n",
    "traffic_files=sorted(traffic_files_2018+traffic_files_2019)\n",
    "len(traffic_files)"
   ]
  },
  {
   "cell_type": "code",
   "execution_count": 11,
   "metadata": {
    "collapsed": true
   },
   "outputs": [],
   "source": [
    "remote_folder=\"/mnt/drv5/saatva/Big_Lots_Data/weekly_traffics/\"\n",
    "    \n",
    "for local_file in traffic_files:\n",
    "    df=pd.read_table(local_file,nrows=1,dtype=str,sep=\"|\")\n",
    "    week_end_dt=df['week_end_dt'].tolist()[0]\n",
    "    basename=\"MediaStormTrafficWeekly_\"+str(week_end_dt)+\".txt\"\n",
    "    remote_path=remote_folder+basename\n",
    "    sftp.put(local_file,remote_path)"
   ]
  },
  {
   "cell_type": "markdown",
   "metadata": {},
   "source": [
    "# Weekly Sales Files"
   ]
  },
  {
   "cell_type": "code",
   "execution_count": 10,
   "metadata": {},
   "outputs": [
    {
     "data": {
      "text/plain": [
       "73"
      ]
     },
     "execution_count": 10,
     "metadata": {},
     "output_type": "execute_result"
    }
   ],
   "source": [
    "weekly_files_2018=list(recursive_file_gen(\"/home/jian/BigLots/2018_by_weeks/\"))\n",
    "weekly_files_2018=[x for x in weekly_files_2018 if \"SalesWeekly\" in x]\n",
    "\n",
    "weekly_files_2019=list(recursive_file_gen(\"/home/jian/BigLots/2019_by_weeks/\"))\n",
    "weekly_files_2019=[x for x in weekly_files_2019 if \"SalesWeekly\" in x]\n",
    "\n",
    "weekly_files=weekly_files_2018+weekly_files_2019\n",
    "len(weekly_files)"
   ]
  },
  {
   "cell_type": "code",
   "execution_count": 11,
   "metadata": {
    "collapsed": true
   },
   "outputs": [],
   "source": [
    "remote_folder=\"/mnt/drv5/saatva/Big_Lots_Data/weekly_sales/\"\n",
    "    \n",
    "for local_file in weekly_files:\n",
    "    df=pd.read_table(local_file,nrows=1,dtype=str,sep=\"|\")\n",
    "    week_end_dt=df['week_end_dt'].tolist()[0]\n",
    "    basename=\"MediaStormSalesWeekly_\"+str(week_end_dt)+\".txt\"\n",
    "    remote_path=remote_folder+basename\n",
    "    sftp.put(local_file,remote_path)"
   ]
  },
  {
   "cell_type": "markdown",
   "metadata": {},
   "source": [
    "# Daily Sales Item"
   ]
  },
  {
   "cell_type": "code",
   "execution_count": 19,
   "metadata": {
    "collapsed": true
   },
   "outputs": [],
   "source": [
    "daily_files_item_hist=list(recursive_file_gen(\"/home/jian/BigLots/hist_daily_data_itemlevel_decompressed/\"))\n",
    "daily_files_item_hist=[x for x in daily_files_item_hist if \".txt\" in x]\n",
    "df_daily_files_item_hist=pd.DataFrame({\"file_path\":daily_files_item_hist})\n",
    "df_daily_files_item_hist['week_end_dt']=df_daily_files_item_hist['file_path'].apply(lambda x: x.split(\"MediaStormDailySalesHistory\")[1][:8])\n",
    "\n",
    "item_min_date=min(df_daily_files_item_hist['week_end_dt'])\n",
    "item_max_date=max(df_daily_files_item_hist['week_end_dt'])\n",
    "\n",
    "# Wrong folder below for 2019, resent at the bottom\n",
    "'''\n",
    "daily_files_item_2019=list(recursive_file_gen(\"/home/jian/BigLots/2019_by_weeks/\"))\n",
    "daily_files_item_2019=[x for x in daily_files_item_2019 if \"aily\" in x]\n",
    "df_daily_files_item_2019=pd.DataFrame({\"file_path\":daily_files_item_2019})\n",
    "df_daily_files_item_2019['week_end_dt']=df_daily_files_item_2019['file_path'].apply(lambda x: x.split(\"_by_weeks/MediaStorm_\")[1][:10].replace(\"-\",\"\"))\n",
    "'''\n",
    "\n",
    "df_daily_files=df_daily_files_item_hist.append(df_daily_files_item_2019)\n",
    "df_daily_files=df_daily_files.reset_index()\n",
    "del df_daily_files['index']"
   ]
  },
  {
   "cell_type": "code",
   "execution_count": null,
   "metadata": {
    "collapsed": true
   },
   "outputs": [],
   "source": []
  },
  {
   "cell_type": "code",
   "execution_count": 16,
   "metadata": {},
   "outputs": [
    {
     "name": "stderr",
     "output_type": "stream",
     "text": [
      "Socket exception: Connection reset by peer (104)\n"
     ]
    }
   ],
   "source": [
    "remote_folder=\"/mnt/drv5/saatva/Big_Lots_Data/daily_sales/item_level/\"\n",
    "\n",
    "\n",
    "for index,row in df_daily_files.iterrows():\n",
    "    local_file=row['file_path']\n",
    "    week_end_dt=row['week_end_dt']\n",
    "    basename=\"MediaStormDailySales_\"+str(week_end_dt)+\".txt\"\n",
    "    remote_path=remote_folder+basename\n",
    "    sftp.put(local_file,remote_path)\n",
    "    "
   ]
  },
  {
   "cell_type": "code",
   "execution_count": null,
   "metadata": {
    "collapsed": true
   },
   "outputs": [],
   "source": []
  },
  {
   "cell_type": "markdown",
   "metadata": {},
   "source": [
    "# Daily Sales Subclass"
   ]
  },
  {
   "cell_type": "code",
   "execution_count": 21,
   "metadata": {},
   "outputs": [
    {
     "data": {
      "text/plain": [
       "(102, 2)"
      ]
     },
     "execution_count": 21,
     "metadata": {},
     "output_type": "execute_result"
    }
   ],
   "source": [
    "daily_files_subclass_hist=list(recursive_file_gen(\"/home/jian/BigLots/hist_daily_data_subclasslevel/\"))\n",
    "daily_files_subclass_hist=[x for x in daily_files_subclass_hist if \".txt\" in x]\n",
    "df_daily_files_subclass_hist=pd.DataFrame({\"file_path\":daily_files_subclass_hist})\n",
    "df_daily_files_subclass_hist['week_end_dt']=df_daily_files_subclass_hist['file_path'].apply(lambda x: x.split(\"MediaStormDailySales_week_ending_\")[1][:10].replace(\"-\",\"\"))\n",
    "df_daily_files_subclass_hist=df_daily_files_subclass_hist[df_daily_files_subclass_hist['week_end_dt']<item_min_date]\n",
    "\n",
    "df_daily_files_subclass_hist=df_daily_files_subclass_hist.reset_index()\n",
    "del df_daily_files_subclass_hist['index']\n",
    "\n",
    "df_daily_files_subclass_hist.shape"
   ]
  },
  {
   "cell_type": "code",
   "execution_count": 18,
   "metadata": {
    "collapsed": true
   },
   "outputs": [],
   "source": [
    "remote_folder=\"/mnt/drv5/saatva/Big_Lots_Data/daily_sales/subclass_level/\"\n",
    "\n",
    "for index,row in df_daily_files_subclass_hist.iterrows():\n",
    "    local_file=row['file_path']\n",
    "    week_end_dt=row['week_end_dt']\n",
    "    basename=\"MediaStormDailySales_\"+str(week_end_dt)+\".txt\"\n",
    "    remote_path=remote_folder+basename\n",
    "    sftp.put(local_file,remote_path)"
   ]
  },
  {
   "cell_type": "code",
   "execution_count": 7,
   "metadata": {
    "collapsed": true
   },
   "outputs": [],
   "source": [
    "# Fill the gap from 2018-6-16 to 2018-8-11\n",
    "# checked as all Subclass level\n",
    "# All 1 week\n",
    "path_daily_20180616=\"/home/jian/BigLots/2018_by_weeks/MediaStorm_2018-06-16/MediaStormDailySales.txt\"\n",
    "path_daily_20180623=\"/home/jian/BigLots/2018_by_weeks/MediaStorm_2018-06-23/MediaStormDailySales.txt\"\n",
    "path_daily_20180630=\"/home/jian/BigLots/2018_by_weeks/MediaStorm_2018-06-30/MediaStormDailySales.txt\"\n",
    "path_daily_20180707=\"/home/jian/BigLots/2018_by_weeks/MediaStorm_2018-07-07/MediaStormDailySales.txt\"\n",
    "path_daily_20180714=\"/home/jian/BigLots/2018_by_weeks/MediaStorm_2018-07-14/MediaStormDailySales20180717-113630-767.txt\"\n",
    "path_daily_20180721=\"/home/jian/BigLots/2018_by_weeks/MediaStorm_2018-07-21/MediaStormDailySales20180724-113327-741.txt\"\n",
    "path_daily_20180728=\"/home/jian/BigLots/2018_by_weeks/MediaStorm_2018-07-28/MediaStormDailySales20180731-111804-489.txt\"\n",
    "path_daily_20180804=\"/home/jian/BigLots/2018_by_weeks/MediaStorm_2018-08-04/MediaStormDailySales20180807-111637-702.txt\"\n",
    "\n",
    "all_gap_subclass=[path_daily_20180616,path_daily_20180623,path_daily_20180630,path_daily_20180707,path_daily_20180714,\n",
    "                 path_daily_20180721,path_daily_20180728,path_daily_20180804]\n",
    "\n",
    "\n",
    "remote_folder=\"/mnt/drv5/saatva/Big_Lots_Data/daily_sales/subclass_level/\"\n",
    "\n",
    "for local_path in all_gap_subclass:\n",
    "    \n",
    "    week_end_dt=local_path.split(\"y_weeks/MediaStorm_\")[1][:10].replace(\"-\",\"\")\n",
    "    basename=\"MediaStormDailySales_\"+str(week_end_dt)+\".txt\"\n",
    "    remote_path=remote_folder+basename\n",
    "    sftp.put(local_path,remote_path)"
   ]
  },
  {
   "cell_type": "markdown",
   "metadata": {
    "collapsed": true
   },
   "source": [
    "# Daily Sales Combined Old"
   ]
  },
  {
   "cell_type": "code",
   "execution_count": 27,
   "metadata": {},
   "outputs": [
    {
     "data": {
      "text/plain": [
       "<SFTPAttributes: [ size=16405838438 uid=518 gid=558 mode=0o100644 atime=1559511194 mtime=1559581022 ]>"
      ]
     },
     "execution_count": 27,
     "metadata": {},
     "output_type": "execute_result"
    }
   ],
   "source": [
    "combined_up_to_20180922='/home/jian/Projects/Big_Lots/Live_Ramp/Quarterly_Update_2019Q1/crm_newscore_0922/combinedtransactions_0922.csv'\n",
    "remote_folder=\"/mnt/drv5/saatva/Big_Lots_Data/daily_sales/\"\n",
    "basename=os.path.basename(combined_up_to_20180922)\n",
    "remote_path=remote_folder+basename\n",
    "sftp.put(combined_up_to_20180922,remote_path)\n"
   ]
  },
  {
   "cell_type": "code",
   "execution_count": 28,
   "metadata": {},
   "outputs": [
    {
     "name": "stderr",
     "output_type": "stream",
     "text": [
      "Socket exception: Connection reset by peer (104)\n"
     ]
    }
   ],
   "source": [
    "combined_up_to_20180922='/home/jian/Projects/Big_Lots/Live_Ramp/Quarterly_Update_2019Q1/crm_newscore_0922/combinedtransactions_0922.csv'\n",
    "test_df=pd.read_table(combined_up_to_20180922,dtype=str,nrows=10,sep=\",\")\n",
    "del test_df['merch_cat']\n",
    "test_df=test_df.drop_duplicates()"
   ]
  },
  {
   "cell_type": "markdown",
   "metadata": {},
   "source": [
    "# Sign Up Master Files"
   ]
  },
  {
   "cell_type": "code",
   "execution_count": 10,
   "metadata": {
    "collapsed": true
   },
   "outputs": [],
   "source": [
    "remote_folder=\"/mnt/drv5/saatva/Big_Lots_Data/master_files/\"\n",
    "\n",
    "combined_master='/home/jian/Projects/Big_Lots/Loyal_members/loyalty_register_data/combined_masterids_up_to_20181229_JL.csv'\n",
    "lapsed_master='/home/jian/Projects/Big_Lots/Loyal_members/loyalty_register_data/MediaStorm_Lapsed_Reward_Member_Master_from2014-08-26to2017-02-26.zip'\n",
    "master_2018Q1_to_2019Q1=\"/home/jian/BigLots/New_Sing_Ups_2018_Fiscal_Year/All Rewards Members 2018-02-04 - 2019-05-04.zip\"\n",
    "\n",
    "list_cumulative_old_master=[combined_master,lapsed_master,master_2018Q1_to_2019Q1]\n",
    "for local_path in list_cumulative_old_master:\n",
    "    basename=os.path.basename(local_path)\n",
    "    remote_path=remote_folder+basename\n",
    "    sftp.put(local_path,remote_path)"
   ]
  },
  {
   "cell_type": "code",
   "execution_count": 13,
   "metadata": {},
   "outputs": [
    {
     "data": {
      "text/html": [
       "<div>\n",
       "<style>\n",
       "    .dataframe thead tr:only-child th {\n",
       "        text-align: right;\n",
       "    }\n",
       "\n",
       "    .dataframe thead th {\n",
       "        text-align: left;\n",
       "    }\n",
       "\n",
       "    .dataframe tbody tr th {\n",
       "        vertical-align: top;\n",
       "    }\n",
       "</style>\n",
       "<table border=\"1\" class=\"dataframe\">\n",
       "  <thead>\n",
       "    <tr style=\"text-align: right;\">\n",
       "      <th></th>\n",
       "      <th>file_path</th>\n",
       "      <th>week_end_dt</th>\n",
       "    </tr>\n",
       "  </thead>\n",
       "  <tbody>\n",
       "    <tr>\n",
       "      <th>16</th>\n",
       "      <td>/home/jian/BigLots/2019_by_weeks/MediaStorm_20...</td>\n",
       "      <td>2019-05-11</td>\n",
       "    </tr>\n",
       "    <tr>\n",
       "      <th>17</th>\n",
       "      <td>/home/jian/BigLots/2019_by_weeks/MediaStorm_20...</td>\n",
       "      <td>2019-05-18</td>\n",
       "    </tr>\n",
       "    <tr>\n",
       "      <th>18</th>\n",
       "      <td>/home/jian/BigLots/2019_by_weeks/MediaStorm_20...</td>\n",
       "      <td>2019-05-25</td>\n",
       "    </tr>\n",
       "  </tbody>\n",
       "</table>\n",
       "</div>"
      ],
      "text/plain": [
       "                                            file_path week_end_dt\n",
       "16  /home/jian/BigLots/2019_by_weeks/MediaStorm_20...  2019-05-11\n",
       "17  /home/jian/BigLots/2019_by_weeks/MediaStorm_20...  2019-05-18\n",
       "18  /home/jian/BigLots/2019_by_weeks/MediaStorm_20...  2019-05-25"
      ]
     },
     "execution_count": 13,
     "metadata": {},
     "output_type": "execute_result"
    }
   ],
   "source": [
    "weekly_master_files_2019Q2_plus=list(recursive_file_gen(\"/home/jian/BigLots/2019_by_weeks/\"))\n",
    "\n",
    "weekly_master_files_2019Q2_plus=[x for x in weekly_master_files_2019Q2_plus if \"aster\" in x]\n",
    "\n",
    "df_weekly_master_files_2019Q2_plus=pd.DataFrame({\"file_path\":weekly_master_files_2019Q2_plus})\n",
    "df_weekly_master_files_2019Q2_plus['week_end_dt']=df_weekly_master_files_2019Q2_plus['file_path'].apply(lambda x: x.split(\"by_weeks/MediaStorm_\")[1][:10].replace(\",\",\"\"))\n",
    "df_weekly_master_files_2019Q2_plus=df_weekly_master_files_2019Q2_plus[df_weekly_master_files_2019Q2_plus['week_end_dt']>\"2019-05-04\"]\n",
    "\n",
    "df_weekly_master_files_2019Q2_plus.shape"
   ]
  },
  {
   "cell_type": "code",
   "execution_count": 17,
   "metadata": {
    "collapsed": true
   },
   "outputs": [],
   "source": [
    "remote_folder=\"/mnt/drv5/saatva/Big_Lots_Data/master_files/master_weekly/\"\n",
    "\n",
    "for index,row in df_weekly_master_files_2019Q2_plus.iterrows():\n",
    "    local_file=row['file_path']\n",
    "    week_end_dt=row['week_end_dt']\n",
    "    basename=\"MediaStormMasterWeekly_\"+str(week_end_dt)+\".txt\"\n",
    "    remote_path=remote_folder+basename\n",
    "    sftp.put(local_file,remote_path)"
   ]
  },
  {
   "cell_type": "code",
   "execution_count": null,
   "metadata": {
    "collapsed": true
   },
   "outputs": [],
   "source": []
  },
  {
   "cell_type": "code",
   "execution_count": 18,
   "metadata": {
    "collapsed": true
   },
   "outputs": [],
   "source": [
    "sftp.close()"
   ]
  },
  {
   "cell_type": "code",
   "execution_count": null,
   "metadata": {
    "collapsed": true
   },
   "outputs": [],
   "source": []
  },
  {
   "cell_type": "code",
   "execution_count": null,
   "metadata": {
    "collapsed": true
   },
   "outputs": [],
   "source": []
  },
  {
   "cell_type": "code",
   "execution_count": null,
   "metadata": {
    "collapsed": true
   },
   "outputs": [],
   "source": []
  },
  {
   "cell_type": "code",
   "execution_count": null,
   "metadata": {
    "collapsed": true
   },
   "outputs": [],
   "source": []
  },
  {
   "cell_type": "code",
   "execution_count": 7,
   "metadata": {
    "collapsed": true
   },
   "outputs": [],
   "source": [
    "daily_files_item_2019=list(recursive_file_gen(\"/home/jian/BigLots/hist_daily_data_itemlevel_decompressed/\"))\n",
    "daily_files_item_2019=[x for x in daily_files_item_2019 if \"aily\" in x]\n",
    "daily_files_item_2019=[x for x in daily_files_item_2019 if \"2019\" in x]\n",
    "df_daily_files_item_2019=pd.DataFrame({\"file_path\":daily_files_item_2019})\n",
    "df_daily_files_item_2019['week_end_dt']=df_daily_files_item_2019['file_path'].apply(lambda x: x.split(\"StormDailySalesHistory\")[1][:8])\n",
    "df_daily_files_item_2019['week_end_dt']=df_daily_files_item_2019['week_end_dt'].astype(int)\n",
    "df_daily_files_item_2019=df_daily_files_item_2019.reset_index()\n",
    "del df_daily_files_item_2019['index']"
   ]
  },
  {
   "cell_type": "code",
   "execution_count": 8,
   "metadata": {},
   "outputs": [
    {
     "data": {
      "text/html": [
       "<div>\n",
       "<style>\n",
       "    .dataframe thead tr:only-child th {\n",
       "        text-align: right;\n",
       "    }\n",
       "\n",
       "    .dataframe thead th {\n",
       "        text-align: left;\n",
       "    }\n",
       "\n",
       "    .dataframe tbody tr th {\n",
       "        vertical-align: top;\n",
       "    }\n",
       "</style>\n",
       "<table border=\"1\" class=\"dataframe\">\n",
       "  <thead>\n",
       "    <tr style=\"text-align: right;\">\n",
       "      <th></th>\n",
       "      <th>file_path</th>\n",
       "      <th>week_end_dt</th>\n",
       "    </tr>\n",
       "  </thead>\n",
       "  <tbody>\n",
       "    <tr>\n",
       "      <th>0</th>\n",
       "      <td>/home/jian/BigLots/hist_daily_data_itemlevel_d...</td>\n",
       "      <td>20190105</td>\n",
       "    </tr>\n",
       "    <tr>\n",
       "      <th>1</th>\n",
       "      <td>/home/jian/BigLots/hist_daily_data_itemlevel_d...</td>\n",
       "      <td>20190112</td>\n",
       "    </tr>\n",
       "    <tr>\n",
       "      <th>2</th>\n",
       "      <td>/home/jian/BigLots/hist_daily_data_itemlevel_d...</td>\n",
       "      <td>20190119</td>\n",
       "    </tr>\n",
       "    <tr>\n",
       "      <th>3</th>\n",
       "      <td>/home/jian/BigLots/hist_daily_data_itemlevel_d...</td>\n",
       "      <td>20190126</td>\n",
       "    </tr>\n",
       "    <tr>\n",
       "      <th>4</th>\n",
       "      <td>/home/jian/BigLots/hist_daily_data_itemlevel_d...</td>\n",
       "      <td>20190202</td>\n",
       "    </tr>\n",
       "    <tr>\n",
       "      <th>5</th>\n",
       "      <td>/home/jian/BigLots/hist_daily_data_itemlevel_d...</td>\n",
       "      <td>20190209</td>\n",
       "    </tr>\n",
       "  </tbody>\n",
       "</table>\n",
       "</div>"
      ],
      "text/plain": [
       "                                           file_path  week_end_dt\n",
       "0  /home/jian/BigLots/hist_daily_data_itemlevel_d...     20190105\n",
       "1  /home/jian/BigLots/hist_daily_data_itemlevel_d...     20190112\n",
       "2  /home/jian/BigLots/hist_daily_data_itemlevel_d...     20190119\n",
       "3  /home/jian/BigLots/hist_daily_data_itemlevel_d...     20190126\n",
       "4  /home/jian/BigLots/hist_daily_data_itemlevel_d...     20190202\n",
       "5  /home/jian/BigLots/hist_daily_data_itemlevel_d...     20190209"
      ]
     },
     "execution_count": 8,
     "metadata": {},
     "output_type": "execute_result"
    }
   ],
   "source": [
    "df_daily_files_item_2019"
   ]
  },
  {
   "cell_type": "code",
   "execution_count": 9,
   "metadata": {
    "collapsed": true
   },
   "outputs": [],
   "source": [
    "remote_folder=\"/mnt/drv5/saatva/Big_Lots_Data/daily_sales/item_level/\"\n",
    "\n",
    "for index,row in df_daily_files_item_2019.iterrows():\n",
    "    local_file=row['file_path']\n",
    "    week_end_dt=row['week_end_dt']\n",
    "    basename=\"MediaStormDailySales_\"+str(week_end_dt)+\".txt\"\n",
    "    remote_path=remote_folder+basename\n",
    "    sftp.put(local_file,remote_path)"
   ]
  },
  {
   "cell_type": "code",
   "execution_count": 10,
   "metadata": {
    "collapsed": true
   },
   "outputs": [],
   "source": [
    "sftp.close()"
   ]
  },
  {
   "cell_type": "code",
   "execution_count": null,
   "metadata": {
    "collapsed": true
   },
   "outputs": [],
   "source": []
  }
 ],
 "metadata": {
  "kernelspec": {
   "display_name": "Python 3",
   "language": "python",
   "name": "python3"
  },
  "language_info": {
   "codemirror_mode": {
    "name": "ipython",
    "version": 3
   },
   "file_extension": ".py",
   "mimetype": "text/x-python",
   "name": "python",
   "nbconvert_exporter": "python",
   "pygments_lexer": "ipython3",
   "version": "3.6.1"
  }
 },
 "nbformat": 4,
 "nbformat_minor": 2
}
