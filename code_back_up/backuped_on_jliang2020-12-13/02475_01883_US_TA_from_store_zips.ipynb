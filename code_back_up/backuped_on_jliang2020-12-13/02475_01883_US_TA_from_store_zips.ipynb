{
 "cells": [
  {
   "cell_type": "code",
   "execution_count": 1,
   "metadata": {},
   "outputs": [
    {
     "data": {
      "text/plain": [
       "'/home/jian/Projects/Savers/TA_creation'"
      ]
     },
     "execution_count": 1,
     "metadata": {},
     "output_type": "execute_result"
    }
   ],
   "source": [
    "import pandas as pd\n",
    "import numpy as np\n",
    "import os\n",
    "import json\n",
    "from haversine import haversine\n",
    "import zipcodes\n",
    "import datetime\n",
    "\n",
    "zip_centers=json.load(open(\"/home/jian/Docs/Geo_mapping/center_of_rentrak_zip.json\",\"r\"))\n",
    "os.getcwd()"
   ]
  },
  {
   "cell_type": "code",
   "execution_count": 2,
   "metadata": {},
   "outputs": [
    {
     "data": {
      "text/plain": [
       "['stroe_list_QCed', 'zips_by_store']"
      ]
     },
     "execution_count": 2,
     "metadata": {},
     "output_type": "execute_result"
    }
   ],
   "source": [
    "store_zips=pd.ExcelFile(\"/home/jian/Projects/Savers/TA_creation/store_data/Savers_zips_by_store_for_US_stores_JL_2019-03-08.xlsx\")\n",
    "store_zips.sheet_names"
   ]
  },
  {
   "cell_type": "code",
   "execution_count": 3,
   "metadata": {
    "collapsed": true
   },
   "outputs": [],
   "source": [
    "stroe_list_QCed=store_zips.parse(\"stroe_list_QCed\",dtype=str)\n",
    "zips_by_store=store_zips.parse(\"zips_by_store\",dtype=str)"
   ]
  },
  {
   "cell_type": "code",
   "execution_count": 4,
   "metadata": {
    "collapsed": true
   },
   "outputs": [],
   "source": [
    "zips_by_store=zips_by_store.sort_values('location_id').reset_index()\n",
    "del zips_by_store['index']\n",
    "stroe_list_QCed=stroe_list_QCed.sort_values('location_id').reset_index()\n",
    "del stroe_list_QCed['index']\n",
    "\n",
    "stroe_list_QCed['zip_list_in_5_miles']=stroe_list_QCed['zip_list_in_5_miles'].apply(lambda x: list(eval(x)[0]))"
   ]
  },
  {
   "cell_type": "code",
   "execution_count": 5,
   "metadata": {},
   "outputs": [
    {
     "name": "stderr",
     "output_type": "stream",
     "text": [
      "/usr/local/lib/python3.6/site-packages/ipykernel_launcher.py:18: SettingWithCopyWarning: \n",
      "A value is trying to be set on a copy of a slice from a DataFrame.\n",
      "Try using .loc[row_indexer,col_indexer] = value instead\n",
      "\n",
      "See the caveats in the documentation: http://pandas.pydata.org/pandas-docs/stable/indexing.html#indexing-view-versus-copy\n"
     ]
    }
   ],
   "source": [
    "df_TA_zips=pd.DataFrame({\"location_id\":[stroe_list_QCed['location_id'][0]]*len(stroe_list_QCed['zip_list_in_5_miles'][0]),\"zip_cd\":stroe_list_QCed['zip_list_in_5_miles'][0],\"TA\":[1]*len(stroe_list_QCed['zip_list_in_5_miles'][0])},index=[1]*len(stroe_list_QCed['zip_list_in_5_miles'][0]))\n",
    "\n",
    "TA_counter=1\n",
    "\n",
    "for i in range(1,len(stroe_list_QCed)):\n",
    "    intersection_zip=list(set(stroe_list_QCed['zip_list_in_5_miles'][i]).intersection(set(df_TA_zips['zip_cd'].unique().tolist())))\n",
    "    if len(intersection_zip)==0:\n",
    "        TA_counter+=1\n",
    "        df_TA_zips=df_TA_zips.append(pd.DataFrame({\"location_id\":[stroe_list_QCed['location_id'][i]]*len(stroe_list_QCed['zip_list_in_5_miles'][i]),\"zip_cd\":stroe_list_QCed['zip_list_in_5_miles'][i],\"TA\":[TA_counter]*len(stroe_list_QCed['zip_list_in_5_miles'][i])},index=[i]*len(stroe_list_QCed['zip_list_in_5_miles'][i]))).drop_duplicates()\n",
    "        \n",
    "    else:\n",
    "        df_intersection=df_TA_zips[df_TA_zips['zip_cd'].isin(intersection_zip)]\n",
    "        group_df_intersection=df_intersection.groupby(['TA'])['zip_cd'].count().to_frame().reset_index().sort_values(['zip_cd'],ascending=False)\n",
    "        selected_TA=group_df_intersection['TA'][0] \n",
    "        \n",
    "        df_TA_zips_0=df_TA_zips[~df_TA_zips['TA'].isin(set(group_df_intersection['TA']))]\n",
    "        df_TA_zips_1=df_TA_zips[df_TA_zips['TA'].isin(group_df_intersection['TA'].tolist())]\n",
    "        df_TA_zips_1['TA']=selected_TA\n",
    "        df_TA_zips=df_TA_zips_0.append(df_TA_zips_1).append(pd.DataFrame({\"location_id\":[stroe_list_QCed['location_id'][i]]*len(stroe_list_QCed['zip_list_in_5_miles'][i]),\"zip_cd\":stroe_list_QCed['zip_list_in_5_miles'][i],\"TA\":[selected_TA]*len(stroe_list_QCed['zip_list_in_5_miles'][i])},index=[i]*len(stroe_list_QCed['zip_list_in_5_miles'][i]))).drop_duplicates()\n",
    "        \n",
    "# dict_TA_zips=df_TA_zips.set_index('zip_cd').to_dict()['TA']\n",
    "dict_TA_store=df_TA_zips.set_index('location_id').to_dict()['TA']\n",
    "stroe_list_QCed['TA']=stroe_list_QCed['location_id'].apply(lambda x: dict_TA_store[x])\n",
    "\n",
    "del dict_TA_store"
   ]
  },
  {
   "cell_type": "code",
   "execution_count": 6,
   "metadata": {},
   "outputs": [
    {
     "data": {
      "text/html": [
       "<div>\n",
       "<style>\n",
       "    .dataframe thead tr:only-child th {\n",
       "        text-align: right;\n",
       "    }\n",
       "\n",
       "    .dataframe thead th {\n",
       "        text-align: left;\n",
       "    }\n",
       "\n",
       "    .dataframe tbody tr th {\n",
       "        vertical-align: top;\n",
       "    }\n",
       "</style>\n",
       "<table border=\"1\" class=\"dataframe\">\n",
       "  <thead>\n",
       "    <tr style=\"text-align: right;\">\n",
       "      <th></th>\n",
       "      <th>TA</th>\n",
       "      <th>location_id</th>\n",
       "      <th>zip_cd</th>\n",
       "      <th>Cluster</th>\n",
       "    </tr>\n",
       "  </thead>\n",
       "  <tbody>\n",
       "    <tr>\n",
       "      <th>0</th>\n",
       "      <td>3</td>\n",
       "      <td>1007</td>\n",
       "      <td>94065</td>\n",
       "      <td>4</td>\n",
       "    </tr>\n",
       "    <tr>\n",
       "      <th>1</th>\n",
       "      <td>3</td>\n",
       "      <td>1007</td>\n",
       "      <td>95155</td>\n",
       "      <td>4</td>\n",
       "    </tr>\n",
       "  </tbody>\n",
       "</table>\n",
       "</div>"
      ],
      "text/plain": [
       "   TA location_id zip_cd Cluster\n",
       "0   3        1007  94065       4\n",
       "1   3        1007  95155       4"
      ]
     },
     "execution_count": 6,
     "metadata": {},
     "output_type": "execute_result"
    }
   ],
   "source": [
    "store_cluster=stroe_list_QCed[['location_id','Cluster']].drop_duplicates()\n",
    "\n",
    "df_TA_zips=pd.merge(df_TA_zips,store_cluster,on=\"location_id\",how=\"left\")\n",
    "df_TA_zips.head(2)"
   ]
  },
  {
   "cell_type": "code",
   "execution_count": 7,
   "metadata": {},
   "outputs": [
    {
     "name": "stdout",
     "output_type": "stream",
     "text": [
      "[1]\n"
     ]
    },
    {
     "data": {
      "text/html": [
       "<div>\n",
       "<style>\n",
       "    .dataframe thead tr:only-child th {\n",
       "        text-align: right;\n",
       "    }\n",
       "\n",
       "    .dataframe thead th {\n",
       "        text-align: left;\n",
       "    }\n",
       "\n",
       "    .dataframe tbody tr th {\n",
       "        vertical-align: top;\n",
       "    }\n",
       "</style>\n",
       "<table border=\"1\" class=\"dataframe\">\n",
       "  <thead>\n",
       "    <tr style=\"text-align: right;\">\n",
       "      <th></th>\n",
       "      <th>TA</th>\n",
       "      <th>Cluster</th>\n",
       "    </tr>\n",
       "  </thead>\n",
       "  <tbody>\n",
       "    <tr>\n",
       "      <th>0</th>\n",
       "      <td>1</td>\n",
       "      <td>1</td>\n",
       "    </tr>\n",
       "    <tr>\n",
       "      <th>79</th>\n",
       "      <td>82</td>\n",
       "      <td>1</td>\n",
       "    </tr>\n",
       "    <tr>\n",
       "      <th>77</th>\n",
       "      <td>80</td>\n",
       "      <td>1</td>\n",
       "    </tr>\n",
       "  </tbody>\n",
       "</table>\n",
       "</div>"
      ],
      "text/plain": [
       "    TA  Cluster\n",
       "0    1        1\n",
       "79  82        1\n",
       "77  80        1"
      ]
     },
     "execution_count": 7,
     "metadata": {},
     "output_type": "execute_result"
    }
   ],
   "source": [
    "def count_unique(x):\n",
    "    return len(set(x))\n",
    "\n",
    "test=df_TA_zips.groupby(['TA'])['Cluster'].apply(count_unique).to_frame().reset_index().sort_values(\"Cluster\",ascending=False)\n",
    "\n",
    "print(test['Cluster'].unique())\n",
    "test.head(3) # 1 TA only covers 1 cluster"
   ]
  },
  {
   "cell_type": "code",
   "execution_count": 8,
   "metadata": {
    "collapsed": true
   },
   "outputs": [],
   "source": [
    "summary_store=df_TA_zips.groupby(\"TA\")['location_id'].apply(count_unique).to_frame().reset_index().rename(columns={\"location_id\":\"store_count\"})\n",
    "summary_zip=df_TA_zips[['TA','zip_cd']].drop_duplicates().groupby(\"TA\")['zip_cd'].apply(count_unique).to_frame().reset_index().rename(columns={\"zip_cd\":\"zip_count\"})\n",
    "\n",
    "summary_store_list=df_TA_zips.groupby(\"TA\")['location_id'].apply(set).to_frame().reset_index().rename(columns={\"storenumber\":\"store_list\"})\n",
    "summary_zip_list=df_TA_zips[['TA','zip_cd']].drop_duplicates().groupby(\"TA\")['zip_cd'].apply(list).to_frame().reset_index().rename(columns={\"zip_cd\":\"zip_list\"})\n",
    "\n",
    "summary_by_TA=pd.merge(summary_store,summary_zip,on=\"TA\",how=\"outer\")\n",
    "summary_by_TA=pd.merge(summary_by_TA,summary_store_list,on=\"TA\",how=\"outer\")\n",
    "summary_by_TA=pd.merge(summary_by_TA,summary_zip_list,on=\"TA\",how=\"outer\")\n",
    "\n",
    "'''\n",
    "Good to use the original store zips\n",
    "\n",
    "TA_Store_zip_list=data.groupby(['TA'])['revised_store_zip'].apply(set).to_frame().reset_index().rename(columns={\"revised_store_zip\":\"store_zip_list\"})\n",
    "summary_by_TA=pd.merge(summary_by_TA,TA_Store_zip_list,on=\"TA\",how=\"left\")\n",
    "'''\n",
    "summary_by_TA=pd.merge(summary_by_TA,df_TA_zips[['TA','Cluster']].drop_duplicates(),on=\"TA\",how=\"outer\")\n",
    "summary_by_TA=summary_by_TA.reset_index()\n",
    "del summary_by_TA['index']\n",
    "summary_by_TA=summary_by_TA.reset_index().rename(columns={\"index\":\"ta_number\"})\n",
    "summary_by_TA['ta_number']=summary_by_TA['ta_number']+1\n",
    "\n",
    "TA_rename_dict=summary_by_TA.set_index(\"TA\").to_dict()['ta_number']\n",
    "del summary_by_TA['TA']"
   ]
  },
  {
   "cell_type": "code",
   "execution_count": 9,
   "metadata": {},
   "outputs": [
    {
     "data": {
      "text/html": [
       "<div>\n",
       "<style>\n",
       "    .dataframe thead tr:only-child th {\n",
       "        text-align: right;\n",
       "    }\n",
       "\n",
       "    .dataframe thead th {\n",
       "        text-align: left;\n",
       "    }\n",
       "\n",
       "    .dataframe tbody tr th {\n",
       "        vertical-align: top;\n",
       "    }\n",
       "</style>\n",
       "<table border=\"1\" class=\"dataframe\">\n",
       "  <thead>\n",
       "    <tr style=\"text-align: right;\">\n",
       "      <th></th>\n",
       "      <th>TA</th>\n",
       "      <th>location_id</th>\n",
       "      <th>zip_cd</th>\n",
       "      <th>Cluster</th>\n",
       "    </tr>\n",
       "  </thead>\n",
       "  <tbody>\n",
       "    <tr>\n",
       "      <th>0</th>\n",
       "      <td>3</td>\n",
       "      <td>1007</td>\n",
       "      <td>94065</td>\n",
       "      <td>4</td>\n",
       "    </tr>\n",
       "    <tr>\n",
       "      <th>1</th>\n",
       "      <td>3</td>\n",
       "      <td>1007</td>\n",
       "      <td>95155</td>\n",
       "      <td>4</td>\n",
       "    </tr>\n",
       "  </tbody>\n",
       "</table>\n",
       "</div>"
      ],
      "text/plain": [
       "   TA location_id zip_cd Cluster\n",
       "0   3        1007  94065       4\n",
       "1   3        1007  95155       4"
      ]
     },
     "execution_count": 9,
     "metadata": {},
     "output_type": "execute_result"
    }
   ],
   "source": [
    "df_TA_zips.head(2)"
   ]
  },
  {
   "cell_type": "code",
   "execution_count": 10,
   "metadata": {
    "collapsed": true
   },
   "outputs": [],
   "source": [
    "df_TA_zips['ta_number']=df_TA_zips['TA'].apply(lambda x: TA_rename_dict[x])\n",
    "del df_TA_zips['TA']\n",
    "\n",
    "stroe_list_QCed['ta_number']=stroe_list_QCed['TA'].apply(lambda x: TA_rename_dict[x])\n",
    "del stroe_list_QCed['TA']\n",
    "\n",
    "dict_TA_zips=df_TA_zips.set_index('zip_cd').to_dict()['ta_number']\n",
    "dict_TA_store=df_TA_zips.set_index('location_id').to_dict()['ta_number']"
   ]
  },
  {
   "cell_type": "code",
   "execution_count": 11,
   "metadata": {},
   "outputs": [
    {
     "data": {
      "text/html": [
       "<div>\n",
       "<style>\n",
       "    .dataframe thead tr:only-child th {\n",
       "        text-align: right;\n",
       "    }\n",
       "\n",
       "    .dataframe thead th {\n",
       "        text-align: left;\n",
       "    }\n",
       "\n",
       "    .dataframe tbody tr th {\n",
       "        vertical-align: top;\n",
       "    }\n",
       "</style>\n",
       "<table border=\"1\" class=\"dataframe\">\n",
       "  <thead>\n",
       "    <tr style=\"text-align: right;\">\n",
       "      <th></th>\n",
       "      <th>ta_number</th>\n",
       "      <th>store_count</th>\n",
       "      <th>zip_count</th>\n",
       "      <th>location_id</th>\n",
       "      <th>zip_list</th>\n",
       "      <th>Cluster</th>\n",
       "    </tr>\n",
       "  </thead>\n",
       "  <tbody>\n",
       "    <tr>\n",
       "      <th>0</th>\n",
       "      <td>1</td>\n",
       "      <td>3</td>\n",
       "      <td>21</td>\n",
       "      <td>{1173, 1003, 1113}</td>\n",
       "      <td>[98166, 98062, 98158, 98148, 98188, 98198, 981...</td>\n",
       "      <td>3</td>\n",
       "    </tr>\n",
       "    <tr>\n",
       "      <th>1</th>\n",
       "      <td>2</td>\n",
       "      <td>9</td>\n",
       "      <td>56</td>\n",
       "      <td>{1111, 1125, 1004, 1214, 1021, 1023, 1201, 101...</td>\n",
       "      <td>[98043, 98037, 98275, 98020, 98012, 98204, 980...</td>\n",
       "      <td>3</td>\n",
       "    </tr>\n",
       "  </tbody>\n",
       "</table>\n",
       "</div>"
      ],
      "text/plain": [
       "   ta_number  store_count  zip_count  \\\n",
       "0          1            3         21   \n",
       "1          2            9         56   \n",
       "\n",
       "                                         location_id  \\\n",
       "0                                 {1173, 1003, 1113}   \n",
       "1  {1111, 1125, 1004, 1214, 1021, 1023, 1201, 101...   \n",
       "\n",
       "                                            zip_list Cluster  \n",
       "0  [98166, 98062, 98158, 98148, 98188, 98198, 981...       3  \n",
       "1  [98043, 98037, 98275, 98020, 98012, 98204, 980...       3  "
      ]
     },
     "execution_count": 11,
     "metadata": {},
     "output_type": "execute_result"
    }
   ],
   "source": [
    "summary_by_TA.head(2)"
   ]
  },
  {
   "cell_type": "code",
   "execution_count": 12,
   "metadata": {},
   "outputs": [
    {
     "data": {
      "text/plain": [
       "155"
      ]
     },
     "execution_count": 12,
     "metadata": {},
     "output_type": "execute_result"
    }
   ],
   "source": [
    "summary_by_TA['store_count'].sum()"
   ]
  },
  {
   "cell_type": "code",
   "execution_count": 13,
   "metadata": {},
   "outputs": [
    {
     "data": {
      "text/html": [
       "<div>\n",
       "<style>\n",
       "    .dataframe thead tr:only-child th {\n",
       "        text-align: right;\n",
       "    }\n",
       "\n",
       "    .dataframe thead th {\n",
       "        text-align: left;\n",
       "    }\n",
       "\n",
       "    .dataframe tbody tr th {\n",
       "        vertical-align: top;\n",
       "    }\n",
       "</style>\n",
       "<table border=\"1\" class=\"dataframe\">\n",
       "  <thead>\n",
       "    <tr style=\"text-align: right;\">\n",
       "      <th></th>\n",
       "      <th>store_count</th>\n",
       "      <th>TA_count</th>\n",
       "      <th>TA_list</th>\n",
       "    </tr>\n",
       "  </thead>\n",
       "  <tbody>\n",
       "    <tr>\n",
       "      <th>0</th>\n",
       "      <td>1</td>\n",
       "      <td>81</td>\n",
       "      <td>[3, 6, 7, 8, 11, 13, 14, 15, 19, 20, 21, 23, 2...</td>\n",
       "    </tr>\n",
       "    <tr>\n",
       "      <th>1</th>\n",
       "      <td>2</td>\n",
       "      <td>15</td>\n",
       "      <td>[4, 5, 9, 17, 18, 27, 31, 36, 51, 57, 60, 71, ...</td>\n",
       "    </tr>\n",
       "    <tr>\n",
       "      <th>2</th>\n",
       "      <td>3</td>\n",
       "      <td>5</td>\n",
       "      <td>[1, 10, 26, 52, 105]</td>\n",
       "    </tr>\n",
       "    <tr>\n",
       "      <th>3</th>\n",
       "      <td>4</td>\n",
       "      <td>1</td>\n",
       "      <td>[12]</td>\n",
       "    </tr>\n",
       "    <tr>\n",
       "      <th>4</th>\n",
       "      <td>5</td>\n",
       "      <td>2</td>\n",
       "      <td>[16, 102]</td>\n",
       "    </tr>\n",
       "    <tr>\n",
       "      <th>5</th>\n",
       "      <td>6</td>\n",
       "      <td>1</td>\n",
       "      <td>[22]</td>\n",
       "    </tr>\n",
       "    <tr>\n",
       "      <th>6</th>\n",
       "      <td>9</td>\n",
       "      <td>1</td>\n",
       "      <td>[2]</td>\n",
       "    </tr>\n",
       "  </tbody>\n",
       "</table>\n",
       "</div>"
      ],
      "text/plain": [
       "   store_count  TA_count                                            TA_list\n",
       "0            1        81  [3, 6, 7, 8, 11, 13, 14, 15, 19, 20, 21, 23, 2...\n",
       "1            2        15  [4, 5, 9, 17, 18, 27, 31, 36, 51, 57, 60, 71, ...\n",
       "2            3         5                               [1, 10, 26, 52, 105]\n",
       "3            4         1                                               [12]\n",
       "4            5         2                                          [16, 102]\n",
       "5            6         1                                               [22]\n",
       "6            9         1                                                [2]"
      ]
     },
     "execution_count": 13,
     "metadata": {},
     "output_type": "execute_result"
    }
   ],
   "source": [
    "summary_by_store_count=summary_by_TA.groupby(['store_count'])['ta_number'].count().to_frame().reset_index().rename(columns={\"ta_number\":\"TA_count\"})\n",
    "summary_by_store_list=summary_by_TA.groupby(['store_count'])['ta_number'].apply(list).to_frame().reset_index().rename(columns={\"ta_number\":\"TA_list\"})\n",
    "summary_by_store_count=pd.merge(summary_by_store_count,summary_by_store_list,on=\"store_count\",how=\"outer\")\n",
    "summary_by_store_count"
   ]
  },
  {
   "cell_type": "code",
   "execution_count": 14,
   "metadata": {
    "collapsed": true
   },
   "outputs": [],
   "source": [
    "summary_by_TA['dist_list']=np.nan\n",
    "summary_by_TA['dist_max']=np.nan\n",
    "summary_by_TA['dist_median']=np.nan\n",
    "summary_by_TA['dist_mean']=np.nan\n",
    "summary_by_TA['dist_min']=np.nan\n",
    "\n",
    "for index,row in summary_by_TA.iterrows():\n",
    "    zip_list=row['zip_list']\n",
    "    dist_list=[]\n",
    "    for i in range(len(zip_list)):\n",
    "        for j in range(i+1,len(zip_list)):\n",
    "            zip_i=zip_list[i]\n",
    "            zip_j=zip_list[j]\n",
    "            \n",
    "            dist=haversine(zip_centers[zip_i],zip_centers[zip_j],miles=True)\n",
    "            dist_list.append(dist)\n",
    "    if len(dist_list)>=1:\n",
    "        summary_by_TA.loc[index, 'dist_list']=str(dist_list)\n",
    "        summary_by_TA.loc[index,'dist_max']=np.max(dist_list)\n",
    "        summary_by_TA.loc[index,'dist_median']=np.median(dist_list)\n",
    "        summary_by_TA.loc[index,'dist_mean']=np.mean(dist_list)\n",
    "        summary_by_TA.loc[index,'dist_min']=np.min(dist_list)\n",
    "        \n",
    "summary_by_TA['ratio_max_to_median']=summary_by_TA['dist_max']/summary_by_TA['dist_median']\n"
   ]
  },
  {
   "cell_type": "code",
   "execution_count": null,
   "metadata": {
    "collapsed": true
   },
   "outputs": [],
   "source": []
  },
  {
   "cell_type": "code",
   "execution_count": 15,
   "metadata": {
    "collapsed": true
   },
   "outputs": [],
   "source": [
    "df_city_state_in_TA=df_TA_zips[[\"ta_number\",\"zip_cd\"]].drop_duplicates().reset_index()\n",
    "del df_city_state_in_TA['index']\n",
    "\n",
    "def city_of_zip(x):\n",
    "    try:\n",
    "        city=zipcodes.matching(x)[0]['city']\n",
    "    except:\n",
    "        city=np.nan\n",
    "    return city\n",
    "\n",
    "def state_of_zip(x):\n",
    "    try:\n",
    "        state=zipcodes.matching(x)[0]['state']\n",
    "    except:\n",
    "        state=np.nan\n",
    "    return state\n",
    "    \n",
    "df_city_state_in_TA['city']=df_city_state_in_TA['zip_cd'].apply(city_of_zip)\n",
    "df_city_state_in_TA['state']=df_city_state_in_TA['zip_cd'].apply(state_of_zip)\n",
    "df_city_state_in_TA['city']=df_city_state_in_TA['city']+\" (\"+df_city_state_in_TA['state']+\")\"\n",
    "\n"
   ]
  },
  {
   "cell_type": "code",
   "execution_count": 16,
   "metadata": {},
   "outputs": [
    {
     "data": {
      "text/html": [
       "<div>\n",
       "<style>\n",
       "    .dataframe thead tr:only-child th {\n",
       "        text-align: right;\n",
       "    }\n",
       "\n",
       "    .dataframe thead th {\n",
       "        text-align: left;\n",
       "    }\n",
       "\n",
       "    .dataframe tbody tr th {\n",
       "        vertical-align: top;\n",
       "    }\n",
       "</style>\n",
       "<table border=\"1\" class=\"dataframe\">\n",
       "  <thead>\n",
       "    <tr style=\"text-align: right;\">\n",
       "      <th></th>\n",
       "      <th>ta_number</th>\n",
       "      <th>zip_cd</th>\n",
       "      <th>city</th>\n",
       "      <th>state</th>\n",
       "    </tr>\n",
       "  </thead>\n",
       "  <tbody>\n",
       "    <tr>\n",
       "      <th>0</th>\n",
       "      <td>3</td>\n",
       "      <td>94065</td>\n",
       "      <td>REDWOOD CITY (CA)</td>\n",
       "      <td>CA</td>\n",
       "    </tr>\n",
       "    <tr>\n",
       "      <th>1</th>\n",
       "      <td>3</td>\n",
       "      <td>95155</td>\n",
       "      <td>SAN JOSE (CA)</td>\n",
       "      <td>CA</td>\n",
       "    </tr>\n",
       "  </tbody>\n",
       "</table>\n",
       "</div>"
      ],
      "text/plain": [
       "   ta_number zip_cd               city state\n",
       "0          3  94065  REDWOOD CITY (CA)    CA\n",
       "1          3  95155      SAN JOSE (CA)    CA"
      ]
     },
     "execution_count": 16,
     "metadata": {},
     "output_type": "execute_result"
    }
   ],
   "source": [
    "df_city_state_in_TA.head(2)"
   ]
  },
  {
   "cell_type": "code",
   "execution_count": 17,
   "metadata": {},
   "outputs": [
    {
     "data": {
      "text/html": [
       "<div>\n",
       "<style>\n",
       "    .dataframe thead tr:only-child th {\n",
       "        text-align: right;\n",
       "    }\n",
       "\n",
       "    .dataframe thead th {\n",
       "        text-align: left;\n",
       "    }\n",
       "\n",
       "    .dataframe tbody tr th {\n",
       "        vertical-align: top;\n",
       "    }\n",
       "</style>\n",
       "<table border=\"1\" class=\"dataframe\">\n",
       "  <thead>\n",
       "    <tr style=\"text-align: right;\">\n",
       "      <th></th>\n",
       "      <th>ta_number</th>\n",
       "      <th>zip_cd</th>\n",
       "      <th>DMA</th>\n",
       "    </tr>\n",
       "  </thead>\n",
       "  <tbody>\n",
       "    <tr>\n",
       "      <th>0</th>\n",
       "      <td>3</td>\n",
       "      <td>94065</td>\n",
       "      <td>SAN FRANCISCO-OAK-SAN JOSE</td>\n",
       "    </tr>\n",
       "    <tr>\n",
       "      <th>1</th>\n",
       "      <td>3</td>\n",
       "      <td>95155</td>\n",
       "      <td>SAN FRANCISCO-OAK-SAN JOSE</td>\n",
       "    </tr>\n",
       "  </tbody>\n",
       "</table>\n",
       "</div>"
      ],
      "text/plain": [
       "   ta_number zip_cd                         DMA\n",
       "0          3  94065  SAN FRANCISCO-OAK-SAN JOSE\n",
       "1          3  95155  SAN FRANCISCO-OAK-SAN JOSE"
      ]
     },
     "execution_count": 17,
     "metadata": {},
     "output_type": "execute_result"
    }
   ],
   "source": [
    "zip_DMA=pd.read_excel(\"/home/jian/Docs/Geo_mapping/Zips by DMA by County16-17 nielsen.xlsx\",dtype=str,skiprows=1)\n",
    "zip_DMA=zip_DMA.iloc[:,[0,2]]\n",
    "zip_DMA.columns=['zip_cd','DMA']\n",
    "\n",
    "df_DMA_in_TA=df_TA_zips[[\"ta_number\",\"zip_cd\"]].drop_duplicates().reset_index()\n",
    "del df_DMA_in_TA['index']\n",
    "df_DMA_in_TA=pd.merge(df_DMA_in_TA,zip_DMA,on=\"zip_cd\",how=\"left\")\n",
    "df_DMA_in_TA.head(2)"
   ]
  },
  {
   "cell_type": "code",
   "execution_count": 18,
   "metadata": {
    "collapsed": true
   },
   "outputs": [],
   "source": [
    "df_city_TA_list=df_city_state_in_TA.groupby(['ta_number'])['city'].apply(set).to_frame().reset_index()\n",
    "df_city_TA_list=df_city_TA_list.rename(columns={\"city\":\"city_list\"})\n",
    "df_state_TA_list=df_city_state_in_TA.groupby(['ta_number'])['state'].apply(set).to_frame().reset_index()\n",
    "df_state_TA_list=df_state_TA_list.rename(columns={\"state\":\"state_list\"})\n",
    "df_DMA_TA_list=df_DMA_in_TA.groupby(['ta_number'])['DMA'].apply(set).to_frame().reset_index()\n",
    "df_DMA_TA_list=df_DMA_TA_list.rename(columns={\"DMA\":\"DMA_list\"})\n"
   ]
  },
  {
   "cell_type": "code",
   "execution_count": 19,
   "metadata": {
    "collapsed": true
   },
   "outputs": [],
   "source": [
    "counter_k=1\n",
    "df_primary_city_state=pd.DataFrame()\n",
    "df_primary_DMA=pd.DataFrame()\n",
    "for ta,group in df_city_state_in_TA.groupby(['ta_number']):\n",
    "    df_city=group.groupby(['city'])['zip_cd'].count().to_frame().reset_index().sort_values(['zip_cd'],ascending=False).reset_index()\n",
    "    del df_city['index']\n",
    "    primary_city=df_city['city'][0]\n",
    "    \n",
    "    df_state=group.groupby(['state'])['zip_cd'].count().to_frame().reset_index().sort_values(['zip_cd'],ascending=False).reset_index()\n",
    "    del df_state['index']\n",
    "    primary_state=df_state['state'][0]\n",
    "    \n",
    "    df=pd.DataFrame({\"ta_number\":ta,\"Primary_City\":primary_city,\"Primary_State\":primary_state},index=[counter_k])\n",
    "    counter_k+=1\n",
    "    df_primary_city_state=df_primary_city_state.append(df)\n",
    "\n",
    "    \n",
    "for ta,group in df_DMA_in_TA.groupby(['ta_number']):\n",
    "    df_DMA=group.groupby(['DMA'])['zip_cd'].count().to_frame().reset_index().sort_values(['zip_cd'],ascending=False).reset_index()\n",
    "    del df_DMA['index']\n",
    "    primary_DMA=df_DMA['DMA'][0]\n",
    "    \n",
    "    df=pd.DataFrame({\"ta_number\":ta,\"Primary_DMA\":primary_DMA},index=[counter_k])\n",
    "    counter_k+=1\n",
    "    df_primary_DMA=df_primary_DMA.append(df)"
   ]
  },
  {
   "cell_type": "code",
   "execution_count": 20,
   "metadata": {
    "collapsed": true
   },
   "outputs": [],
   "source": [
    "summary_by_TA=pd.merge(summary_by_TA,df_city_TA_list,on=\"ta_number\",how=\"left\")\n",
    "summary_by_TA=pd.merge(summary_by_TA,df_state_TA_list,on=\"ta_number\",how=\"left\")\n",
    "summary_by_TA=pd.merge(summary_by_TA,df_DMA_TA_list,on=\"ta_number\",how=\"left\")\n",
    "\n",
    "summary_by_TA=pd.merge(summary_by_TA,df_primary_city_state,on=\"ta_number\",how=\"left\")\n",
    "summary_by_TA=pd.merge(summary_by_TA,df_primary_DMA,on=\"ta_number\",how=\"left\")\n",
    "\n",
    "summary_by_TA=summary_by_TA.rename(columns={\"location_id\":\"store_list\"})\n",
    "summary_by_TA['ta_number']=summary_by_TA['ta_number'].astype(str)\n",
    "stroe_list_QCed['ta_number']=stroe_list_QCed['ta_number'].astype(str)\n",
    "df_TA_zips['ta_number']=df_TA_zips['ta_number'].astype(str)"
   ]
  },
  {
   "cell_type": "code",
   "execution_count": null,
   "metadata": {
    "collapsed": true
   },
   "outputs": [],
   "source": []
  },
  {
   "cell_type": "code",
   "execution_count": 21,
   "metadata": {},
   "outputs": [
    {
     "data": {
      "text/plain": [
       "'\\nwriter=pd.ExcelWriter(\"/home/jian/Projects/Savers/TA_creation/TA_output/Savers_US_TA_1st_Version_JL_\"+str(datetime.datetime.now().date())+\".xlsx\",engine=\"xlsxwriter\")\\n\\nstroe_list_QCed.to_excel(writer,\"Store_list\",index=False)\\nsummary_by_TA.to_excel(writer,\"Initial_TA_Summary\",index=False)\\nsummary_by_store_count.to_excel(writer,\"TA_Summary_by_store_count\",index=False)\\ndf_TA_zips.to_excel(writer,\"TA_zips\",index=False)\\n\\nwriter.save()\\n'"
      ]
     },
     "execution_count": 21,
     "metadata": {},
     "output_type": "execute_result"
    }
   ],
   "source": [
    "'''\n",
    "writer=pd.ExcelWriter(\"/home/jian/Projects/Savers/TA_creation/TA_output/Savers_US_TA_1st_Version_JL_\"+str(datetime.datetime.now().date())+\".xlsx\",engine=\"xlsxwriter\")\n",
    "\n",
    "stroe_list_QCed.to_excel(writer,\"Store_list\",index=False)\n",
    "summary_by_TA.to_excel(writer,\"Initial_TA_Summary\",index=False)\n",
    "summary_by_store_count.to_excel(writer,\"TA_Summary_by_store_count\",index=False)\n",
    "df_TA_zips.to_excel(writer,\"TA_zips\",index=False)\n",
    "\n",
    "writer.save()\n",
    "'''\n"
   ]
  },
  {
   "cell_type": "markdown",
   "metadata": {
    "collapsed": true
   },
   "source": [
    "# Splitting"
   ]
  },
  {
   "cell_type": "code",
   "execution_count": 22,
   "metadata": {
    "collapsed": true
   },
   "outputs": [],
   "source": [
    "summary_by_TA_to_revise=summary_by_TA[(summary_by_TA['ratio_max_to_median']>2.5) &\\\n",
    "                                      (summary_by_TA['store_count']>=2) &\\\n",
    "                                     (summary_by_TA['dist_max']>10) &\\\n",
    "                                     (summary_by_TA['dist_max']<20)]\n",
    "summary_by_TA_to_keep=summary_by_TA[(summary_by_TA['ratio_max_to_median']<=2.5) |\\\n",
    "                                      (summary_by_TA['store_count']<2) |\\\n",
    "                                     (summary_by_TA['dist_max']<=10) |\\\n",
    "                                    (summary_by_TA['dist_max']>=20)]\n",
    "summary_by_TA_to_revise=summary_by_TA_to_revise.reset_index()\n",
    "del summary_by_TA_to_revise['index']\n",
    "\n",
    "summary_by_TA_to_keep=summary_by_TA_to_keep.reset_index()\n",
    "del summary_by_TA_to_keep['index']"
   ]
  },
  {
   "cell_type": "code",
   "execution_count": 23,
   "metadata": {
    "collapsed": true
   },
   "outputs": [],
   "source": [
    "summary_by_TA_to_revise=summary_by_TA_to_revise.reset_index()\n",
    "del summary_by_TA_to_revise['index']\n",
    "\n",
    "summary_by_TA_to_keep=summary_by_TA_to_keep.reset_index()\n",
    "del summary_by_TA_to_keep['index']\n",
    "\n",
    "data_keep=stroe_list_QCed[stroe_list_QCed['ta_number'].isin(summary_by_TA_to_keep['ta_number'])]\n",
    "data_revise=stroe_list_QCed[~stroe_list_QCed['ta_number'].isin(summary_by_TA_to_keep['ta_number'])]\n",
    "\n",
    "data_revise=data_revise.reset_index()\n",
    "del data_revise['index']"
   ]
  },
  {
   "cell_type": "code",
   "execution_count": 24,
   "metadata": {},
   "outputs": [
    {
     "data": {
      "text/plain": [
       "39"
      ]
     },
     "execution_count": 24,
     "metadata": {},
     "output_type": "execute_result"
    }
   ],
   "source": [
    "len(data_revise['location_id'].unique())"
   ]
  },
  {
   "cell_type": "code",
   "execution_count": 25,
   "metadata": {},
   "outputs": [
    {
     "name": "stdout",
     "output_type": "stream",
     "text": [
      "1\n",
      "2\n"
     ]
    }
   ],
   "source": [
    "loop_counter=0\n",
    "while len(summary_by_TA_to_revise)>0:\n",
    "    loop_counter+=1\n",
    "    if loop_counter>30:\n",
    "        print(\"Loop Great than 30 times\")\n",
    "        print(datetime.datetime.now())\n",
    "        break\n",
    "    \n",
    "    summary_by_TA_to_revise=summary_by_TA_to_revise.reset_index()\n",
    "    del summary_by_TA_to_revise['index']\n",
    "\n",
    "    summary_by_TA_to_keep=summary_by_TA_to_keep.reset_index()\n",
    "    del summary_by_TA_to_keep['index']\n",
    "\n",
    "    data_keep=stroe_list_QCed[stroe_list_QCed['ta_number'].isin(summary_by_TA_to_keep['ta_number'])]\n",
    "    data_revise=stroe_list_QCed[~stroe_list_QCed['ta_number'].isin(summary_by_TA_to_keep['ta_number'])]\n",
    "    \n",
    "    data_revise=data_revise.reset_index()\n",
    "    del data_revise['index']\n",
    "\n",
    "\n",
    "    store_lat_dict=data_revise.set_index(['location_id']).to_dict()['Google_lat']\n",
    "    store_lng_dict=data_revise.set_index(['location_id']).to_dict()['Google_lng']\n",
    "    \n",
    "\n",
    "    store_sub_df=pd.DataFrame()\n",
    "    for i in range(len(summary_by_TA_to_revise)):\n",
    "        TA=summary_by_TA_to_revise['ta_number'][i]\n",
    "        store_list=list(summary_by_TA_to_revise['store_list'][i].copy())\n",
    "        initial_dist=0\n",
    "        store_pair=[np.nan,np.nan]\n",
    "        while len(store_list)>=2:\n",
    "            store_hold=store_list[0]\n",
    "            store_list.remove(store_hold)\n",
    "            store_hold_center=[float(store_lat_dict[store_hold]),float(store_lng_dict[store_hold])]\n",
    "            for store_var in store_list:\n",
    "                store_var_center=[float(store_lat_dict[store_var]),float(store_lng_dict[store_var])]\n",
    "                dist=haversine(store_hold_center,store_var_center,miles=True)\n",
    "                if dist>initial_dist:\n",
    "                    initial_dist=dist\n",
    "                    store_pair=[store_hold,store_var]\n",
    "        store_a=store_pair[0]\n",
    "        store_b=store_pair[1] # Get the highest distance 2 stores from store list\n",
    "\n",
    "        store_a_center=[float(store_lat_dict[store_a]),float(store_lng_dict[store_a])]\n",
    "        store_b_center=[float(store_lat_dict[store_b]),float(store_lng_dict[store_b])]\n",
    "        \n",
    "        \n",
    "        store_list=list(summary_by_TA_to_revise['store_list'][i].copy())\n",
    "        for store in store_list:\n",
    "            store_center=[float(store_lat_dict[store]),float(store_lng_dict[store])]\n",
    "            dist_a=haversine(store_a_center,store_center,miles=True)\n",
    "            dist_b=haversine(store_b_center,store_center,miles=True)\n",
    "            if dist_a<dist_b:\n",
    "                sub_group=\"a\"\n",
    "            else:\n",
    "                sub_group=\"b\"\n",
    "            df=pd.DataFrame({\"location_id\":store,\"TA\":TA,\"sub_group\":sub_group},index=[store])\n",
    "            store_sub_df=store_sub_df.append(df)\n",
    "    \n",
    "    store_sub_df['TA']=store_sub_df['TA'].astype(str)\n",
    "    store_sub_df['TA']=store_sub_df['TA']+\"_\"+store_sub_df['sub_group']\n",
    "    store_sub_df=store_sub_df[['location_id','TA']]\n",
    "    store_sub_df_dic=store_sub_df.set_index(['location_id']).to_dict()['TA']\n",
    "    # data is the store list\n",
    "    data_revise['TA']=data_revise['location_id'].apply(lambda x: store_sub_df_dic[x])\n",
    "    data_keep=data_keep.rename(columns={\"ta_number\":\"TA\"})\n",
    "    data=data_keep.append(data_revise)\n",
    "    data=data.sort_values(['location_id'])\n",
    "    data=data.reset_index()\n",
    "    del data['index']\n",
    "    data['TA']=data['TA'].apply(lambda x: str(x).zfill(6))\n",
    "\n",
    "    df_TA_zips=pd.DataFrame()\n",
    "    for i in range(len(data)):\n",
    "        df=pd.DataFrame({\"location_id\":[data['location_id'][i]]*len(data['zip_list_in_5_miles'][i]),\n",
    "                         \"TA\":[data['TA'][i]]*len(data['zip_list_in_5_miles'][i]),\n",
    "                         \"zip_cd\":data['zip_list_in_5_miles'][i]},index=data['zip_list_in_5_miles'][i])\n",
    "        df_TA_zips=df_TA_zips.append(df)\n",
    "    df_TA_zips=pd.merge(df_TA_zips,store_cluster,on=\"location_id\",how=\"left\")\n",
    "\n",
    "    summary_store=df_TA_zips.groupby(\"TA\")['location_id'].apply(count_unique).to_frame().reset_index().rename(columns={\"location_id\":\"store_count\"})\n",
    "    summary_zip=df_TA_zips[['TA','zip_cd']].drop_duplicates().groupby(\"TA\")['zip_cd'].apply(count_unique).to_frame().reset_index().rename(columns={\"zip_cd\":\"zip_count\"})\n",
    "\n",
    "    summary_store_list=df_TA_zips.groupby(\"TA\")['location_id'].apply(set).to_frame().reset_index().rename(columns={\"location_id\":\"store_list\"})\n",
    "    summary_zip_list=df_TA_zips[['TA','zip_cd']].drop_duplicates().groupby(\"TA\")['zip_cd'].apply(list).to_frame().reset_index().rename(columns={\"zip_cd\":\"zip_list\"})\n",
    "\n",
    "    summary_by_TA=pd.merge(summary_store,summary_zip,on=\"TA\",how=\"outer\")\n",
    "    summary_by_TA=pd.merge(summary_by_TA,summary_store_list,on=\"TA\",how=\"outer\")\n",
    "    summary_by_TA=pd.merge(summary_by_TA,summary_zip_list,on=\"TA\",how=\"outer\")\n",
    "\n",
    "\n",
    "    summary_by_TA=pd.merge(summary_by_TA,df_TA_zips[['TA','Cluster']].drop_duplicates(),on=\"TA\",how=\"outer\")\n",
    "    summary_by_TA=summary_by_TA.reset_index()\n",
    "    del summary_by_TA['index']\n",
    "    summary_by_TA=summary_by_TA.reset_index().rename(columns={\"index\":\"ta_number\"})\n",
    "    summary_by_TA['ta_number']=summary_by_TA['ta_number']+1\n",
    "    summary_by_TA['ta_number']=summary_by_TA['ta_number'].astype(str)\n",
    "    \n",
    "    TA_rename_dict=summary_by_TA.set_index(\"TA\").to_dict()['ta_number']\n",
    "    del summary_by_TA['TA']\n",
    "\n",
    "    df_TA_zips['ta_number']=df_TA_zips['TA'].apply(lambda x: TA_rename_dict[x])\n",
    "    del df_TA_zips['TA']\n",
    "\n",
    "    TA_of_store_dict=df_TA_zips[['location_id','ta_number']].drop_duplicates().set_index(\"location_id\").to_dict()['ta_number']\n",
    "    \n",
    "    stroe_list_QCed['ta_number']=stroe_list_QCed['location_id'].apply(lambda x: TA_of_store_dict[x])\n",
    "\n",
    "    dict_TA_zips=df_TA_zips.set_index('zip_cd').to_dict()['ta_number']\n",
    "    dict_TA_store=df_TA_zips.set_index('location_id').to_dict()['ta_number']\n",
    "\n",
    "    \n",
    "    summary_by_store_count=summary_by_TA.groupby(['store_count'])['ta_number'].count().to_frame().reset_index().rename(columns={\"ta_number\":\"TA_count\"})\n",
    "    summary_by_store_list=summary_by_TA.groupby(['store_count'])['ta_number'].apply(list).to_frame().reset_index().rename(columns={\"ta_number\":\"TA_list\"})\n",
    "    summary_by_store_count=pd.merge(summary_by_store_count,summary_by_store_list,on=\"store_count\",how=\"outer\")\n",
    "    \n",
    "\n",
    "    summary_by_TA['dist_list']=np.nan\n",
    "    summary_by_TA['dist_max']=np.nan\n",
    "    summary_by_TA['dist_median']=np.nan\n",
    "    summary_by_TA['dist_mean']=np.nan\n",
    "    summary_by_TA['dist_min']=np.nan\n",
    "    \n",
    "    \n",
    "    for index,row in summary_by_TA.iterrows():\n",
    "        zip_list=row['zip_list']\n",
    "        dist_list=[]\n",
    "        for i in range(len(zip_list)):\n",
    "            for j in range(i+1,len(zip_list)):\n",
    "                zip_i=zip_list[i]\n",
    "                zip_j=zip_list[j]\n",
    "\n",
    "                dist=haversine(zip_centers[zip_i],zip_centers[zip_j],miles=True)\n",
    "                dist_list.append(dist)\n",
    "        if len(dist_list)>=1:\n",
    "            summary_by_TA.loc[index, 'dist_list']=str(dist_list)\n",
    "            summary_by_TA.loc[index,'dist_max']=np.max(dist_list)\n",
    "            summary_by_TA.loc[index,'dist_median']=np.median(dist_list)\n",
    "            summary_by_TA.loc[index,'dist_mean']=np.mean(dist_list)\n",
    "            summary_by_TA.loc[index,'dist_min']=np.min(dist_list)\n",
    "\n",
    "    summary_by_TA['ratio_max_to_median']=summary_by_TA['dist_max']/summary_by_TA['dist_median']\n",
    "    \n",
    "    df_TA_zips=df_TA_zips.rename(columns={\"TA\":\"ta_number\"})\n",
    "    df_DMA_in_TA=df_TA_zips[[\"ta_number\",\"zip_cd\"]].drop_duplicates().reset_index()\n",
    "    del df_DMA_in_TA['index']\n",
    "    df_DMA_in_TA=pd.merge(df_DMA_in_TA,zip_DMA,on=\"zip_cd\",how=\"left\")\n",
    "    df_DMA_in_TA.head(2)\n",
    "    \n",
    "    df_city_state_in_TA=df_TA_zips[[\"ta_number\",\"zip_cd\"]].drop_duplicates().reset_index()\n",
    "    del df_city_state_in_TA['index']\n",
    "\n",
    "    df_city_state_in_TA['city']=df_city_state_in_TA['zip_cd'].apply(city_of_zip)\n",
    "    df_city_state_in_TA['state']=df_city_state_in_TA['zip_cd'].apply(state_of_zip)\n",
    "    df_city_state_in_TA['city']=df_city_state_in_TA['city']+\" (\"+df_city_state_in_TA['state']+\")\"\n",
    "\n",
    "    df_city_TA_list=df_city_state_in_TA.groupby(['ta_number'])['city'].apply(set).to_frame().reset_index()\n",
    "    df_city_TA_list=df_city_TA_list.rename(columns={\"city\":\"city_list\"})\n",
    "    df_state_TA_list=df_city_state_in_TA.groupby(['ta_number'])['state'].apply(set).to_frame().reset_index()\n",
    "    df_state_TA_list=df_state_TA_list.rename(columns={\"state\":\"state_list\"})\n",
    "    df_DMA_TA_list=df_DMA_in_TA.groupby(['ta_number'])['DMA'].apply(set).to_frame().reset_index()\n",
    "    df_DMA_TA_list=df_DMA_TA_list.rename(columns={\"DMA\":\"DMA_list\"})\n",
    "\n",
    "    counter_k=1\n",
    "    df_primary_city_state=pd.DataFrame()\n",
    "    df_primary_DMA=pd.DataFrame()\n",
    "    for ta,group in df_city_state_in_TA.groupby(['ta_number']):\n",
    "        df_city=group.groupby(['city'])['zip_cd'].count().to_frame().reset_index().sort_values(['zip_cd'],ascending=False).reset_index()\n",
    "        del df_city['index']\n",
    "        primary_city=df_city['city'][0]\n",
    "\n",
    "        df_state=group.groupby(['state'])['zip_cd'].count().to_frame().reset_index().sort_values(['zip_cd'],ascending=False).reset_index()\n",
    "        del df_state['index']\n",
    "        primary_state=df_state['state'][0]\n",
    "\n",
    "        df=pd.DataFrame({\"ta_number\":ta,\"Primary_City\":primary_city,\"Primary_State\":primary_state},index=[counter_k])\n",
    "        counter_k+=1\n",
    "        df_primary_city_state=df_primary_city_state.append(df)\n",
    "\n",
    "\n",
    "    for ta,group in df_DMA_in_TA.groupby(['ta_number']):\n",
    "        df_DMA=group.groupby(['DMA'])['zip_cd'].count().to_frame().reset_index().sort_values(['zip_cd'],ascending=False).reset_index()\n",
    "        del df_DMA['index']\n",
    "        primary_DMA=df_DMA['DMA'][0]\n",
    "\n",
    "        df=pd.DataFrame({\"ta_number\":ta,\"Primary_DMA\":primary_DMA},index=[counter_k])\n",
    "        counter_k+=1\n",
    "        df_primary_DMA=df_primary_DMA.append(df)\n",
    "  \n",
    "    summary_by_TA=pd.merge(summary_by_TA,df_city_TA_list,on=\"ta_number\",how=\"left\")\n",
    "    summary_by_TA=pd.merge(summary_by_TA,df_state_TA_list,on=\"ta_number\",how=\"left\")\n",
    "    summary_by_TA=pd.merge(summary_by_TA,df_DMA_TA_list,on=\"ta_number\",how=\"left\")\n",
    "\n",
    "    summary_by_TA=pd.merge(summary_by_TA,df_primary_city_state,on=\"ta_number\",how=\"left\")\n",
    "    summary_by_TA=pd.merge(summary_by_TA,df_primary_DMA,on=\"ta_number\",how=\"left\")\n",
    "\n",
    "    summary_by_TA=summary_by_TA.rename(columns={\"location_id\":\"store_list\"})\n",
    "    summary_by_TA['ta_number']=summary_by_TA['ta_number'].astype(str)\n",
    "    stroe_list_QCed['ta_number']=stroe_list_QCed['ta_number'].astype(str)\n",
    "    df_TA_zips['ta_number']=df_TA_zips['ta_number'].astype(str)\n",
    "\n",
    "\n",
    "    summary_by_TA_to_revise=summary_by_TA[(summary_by_TA['ratio_max_to_median']>2.5) &\\\n",
    "                                          (summary_by_TA['store_count']>=2) &\\\n",
    "                                         (summary_by_TA['dist_max']>10) &\\\n",
    "                                         (summary_by_TA['dist_max']<20)]\n",
    "    summary_by_TA_to_keep=summary_by_TA[(summary_by_TA['ratio_max_to_median']<=2.5) |\\\n",
    "                                          (summary_by_TA['store_count']<2) |\\\n",
    "                                         (summary_by_TA['dist_max']<=10) |\\\n",
    "                                        (summary_by_TA['dist_max']>=20)]\n",
    "    \n",
    "    summary_by_TA_to_revise=summary_by_TA_to_revise.reset_index()\n",
    "    del summary_by_TA_to_revise['index']\n",
    "\n",
    "    summary_by_TA_to_keep=summary_by_TA_to_keep.reset_index()\n",
    "    del summary_by_TA_to_keep['index']\n",
    "    \n",
    "    print(loop_counter)"
   ]
  },
  {
   "cell_type": "code",
   "execution_count": 26,
   "metadata": {
    "collapsed": true
   },
   "outputs": [],
   "source": [
    "summary_by_TA['store_count']=summary_by_TA['store_count'].astype(str)\n",
    "summary_by_TA['store_list']=summary_by_TA['store_list'].astype(str)\n",
    "summary_by_TA['TA_label']=summary_by_TA['store_count']+\"_\"+summary_by_TA['store_list']\n",
    "\n",
    "summary_by_TA['store_count']=summary_by_TA['store_count'].astype(int)\n",
    "\n",
    "TA_label_dict=summary_by_TA.set_index(['ta_number']).to_dict()['TA_label']\n",
    "df_TA_zips['TA_label']=df_TA_zips['ta_number'].apply(lambda x: TA_label_dict[x])\n",
    "stroe_list_QCed['TA_label']=stroe_list_QCed['ta_number'].apply(lambda x: TA_label_dict[x])\n"
   ]
  },
  {
   "cell_type": "code",
   "execution_count": 27,
   "metadata": {},
   "outputs": [
    {
     "name": "stderr",
     "output_type": "stream",
     "text": [
      "/usr/local/lib/python3.6/site-packages/ipykernel_launcher.py:2: SettingWithCopyWarning: \n",
      "A value is trying to be set on a copy of a slice from a DataFrame.\n",
      "Try using .loc[row_indexer,col_indexer] = value instead\n",
      "\n",
      "See the caveats in the documentation: http://pandas.pydata.org/pandas-docs/stable/indexing.html#indexing-view-versus-copy\n",
      "  \n",
      "/usr/local/lib/python3.6/site-packages/ipykernel_launcher.py:3: SettingWithCopyWarning: \n",
      "A value is trying to be set on a copy of a slice from a DataFrame.\n",
      "Try using .loc[row_indexer,col_indexer] = value instead\n",
      "\n",
      "See the caveats in the documentation: http://pandas.pydata.org/pandas-docs/stable/indexing.html#indexing-view-versus-copy\n",
      "  This is separate from the ipykernel package so we can avoid doing imports until\n"
     ]
    }
   ],
   "source": [
    "data_tableau_1=stroe_list_QCed[['location_id','ta_number','TA_label','Google_lat','Google_lng']]\n",
    "data_tableau_1['Google_lat']=data_tableau_1['Google_lat'].astype(float)\n",
    "data_tableau_1['Google_lng']=data_tableau_1['Google_lng'].astype(float)\n",
    "\n",
    "data_tableau_2=df_TA_zips[['ta_number','TA_label','zip_cd']].drop_duplicates()\n",
    "\n",
    "data_tableau=data_tableau_1.append(data_tableau_2)\n",
    "data_tableau['Google_lat']=data_tableau['Google_lat'].fillna(0)\n",
    "data_tableau['Google_lng']=data_tableau['Google_lng'].fillna(0)\n",
    "\n",
    "\n",
    "df_TA_dist_max_count=summary_by_TA[['ta_number','dist_max','store_count']]\n",
    "data_tableau=pd.merge(data_tableau,df_TA_dist_max_count,on=\"ta_number\",how=\"left\")\n"
   ]
  },
  {
   "cell_type": "code",
   "execution_count": 29,
   "metadata": {
    "collapsed": true
   },
   "outputs": [],
   "source": [
    "writer=pd.ExcelWriter(\"/home/jian/Projects/Savers/TA_creation/TA_output/Savers_US_TA_2nd_Version_JL_\"+str(datetime.datetime.now().date())+\".xlsx\",engine=\"xlsxwriter\")\n",
    "\n",
    "stroe_list_QCed.to_excel(writer,\"Store_list\",index=False)\n",
    "summary_by_TA.to_excel(writer,\"revised_TA_Summary\",index=False)\n",
    "summary_by_store_count.to_excel(writer,\"TA_Summary_by_store_count\",index=False)\n",
    "df_TA_zips.to_excel(writer,\"TA_zips\",index=False)\n",
    "data_tableau.to_excel(writer,\"tableau_data\",index=False)\n",
    "\n",
    "maps_2_plus_stores_TA=summary_by_TA[summary_by_TA['store_count']>=2]\n",
    "maps_1_store_TA_5_miles_plus=summary_by_TA[(summary_by_TA['store_count']==1) & (summary_by_TA['dist_max']>5)]\n",
    "\n",
    "maps_2_plus_stores_TA.to_excel(writer,\"maps_2_plus_stores_TA\",index=False)\n",
    "maps_1_store_TA_5_miles_plus.to_excel(writer,\"maps_1_store_TA_5_miles_plus\",index=False)\n",
    "\n",
    "writer.save()"
   ]
  },
  {
   "cell_type": "code",
   "execution_count": null,
   "metadata": {
    "collapsed": true
   },
   "outputs": [],
   "source": []
  },
  {
   "cell_type": "code",
   "execution_count": 33,
   "metadata": {},
   "outputs": [
    {
     "data": {
      "text/plain": [
       "['location_id',\n",
       " 'Name/Indicator',\n",
       " 'Brand',\n",
       " 'Address',\n",
       " 'City',\n",
       " 'St/Province',\n",
       " 'Zip/Postal',\n",
       " 'Country',\n",
       " 'Company',\n",
       " 'Phone',\n",
       " 'Opened',\n",
       " 'District Manager',\n",
       " 'District',\n",
       " 'Regional Director',\n",
       " 'Region',\n",
       " 'Time',\n",
       " 'Type',\n",
       " 'Cluster',\n",
       " 'Search_Key_Brand',\n",
       " 'Google_Address',\n",
       " 'Google_lat',\n",
       " 'Google_lng',\n",
       " 'store_zip',\n",
       " 'zip_list_in_5_miles',\n",
       " 'ta_number',\n",
       " 'TA_label']"
      ]
     },
     "execution_count": 33,
     "metadata": {},
     "output_type": "execute_result"
    }
   ],
   "source": [
    "stroe_list_QCed.columns.tolist()"
   ]
  },
  {
   "cell_type": "code",
   "execution_count": 30,
   "metadata": {},
   "outputs": [
    {
     "data": {
      "text/plain": [
       "[40.81662056350056, -73.03072458164347]"
      ]
     },
     "execution_count": 30,
     "metadata": {},
     "output_type": "execute_result"
    }
   ],
   "source": [
    "zip_centers['11742']"
   ]
  },
  {
   "cell_type": "code",
   "execution_count": null,
   "metadata": {
    "collapsed": true
   },
   "outputs": [],
   "source": [
    "1162\n",
    "1154"
   ]
  },
  {
   "cell_type": "code",
   "execution_count": 34,
   "metadata": {},
   "outputs": [
    {
     "data": {
      "text/html": [
       "<div>\n",
       "<style>\n",
       "    .dataframe thead tr:only-child th {\n",
       "        text-align: right;\n",
       "    }\n",
       "\n",
       "    .dataframe thead th {\n",
       "        text-align: left;\n",
       "    }\n",
       "\n",
       "    .dataframe tbody tr th {\n",
       "        vertical-align: top;\n",
       "    }\n",
       "</style>\n",
       "<table border=\"1\" class=\"dataframe\">\n",
       "  <thead>\n",
       "    <tr style=\"text-align: right;\">\n",
       "      <th></th>\n",
       "      <th>location_id</th>\n",
       "      <th>Google_lat</th>\n",
       "      <th>Google_lng</th>\n",
       "    </tr>\n",
       "  </thead>\n",
       "  <tbody>\n",
       "    <tr>\n",
       "      <th>81</th>\n",
       "      <td>1154</td>\n",
       "      <td>40.8054087</td>\n",
       "      <td>-72.9550002</td>\n",
       "    </tr>\n",
       "    <tr>\n",
       "      <th>86</th>\n",
       "      <td>1162</td>\n",
       "      <td>40.771731</td>\n",
       "      <td>-73.05068899999999</td>\n",
       "    </tr>\n",
       "  </tbody>\n",
       "</table>\n",
       "</div>"
      ],
      "text/plain": [
       "   location_id  Google_lat          Google_lng\n",
       "81        1154  40.8054087         -72.9550002\n",
       "86        1162   40.771731  -73.05068899999999"
      ]
     },
     "execution_count": 34,
     "metadata": {},
     "output_type": "execute_result"
    }
   ],
   "source": [
    "stroe_list_QCed[stroe_list_QCed['location_id'].isin(['1154','1162'])][['location_id','Google_lat','Google_lng']]"
   ]
  },
  {
   "cell_type": "code",
   "execution_count": 35,
   "metadata": {},
   "outputs": [
    {
     "data": {
      "text/plain": [
       "4.035036703532224"
      ]
     },
     "execution_count": 35,
     "metadata": {},
     "output_type": "execute_result"
    }
   ],
   "source": [
    "haversine([40.8054087,-72.9550002],zip_centers['11742'],miles=True)"
   ]
  },
  {
   "cell_type": "code",
   "execution_count": 36,
   "metadata": {},
   "outputs": [
    {
     "data": {
      "text/plain": [
       "3.2726564126070916"
      ]
     },
     "execution_count": 36,
     "metadata": {},
     "output_type": "execute_result"
    }
   ],
   "source": [
    "haversine([40.771731,-73.05068899999999],zip_centers['11742'],miles=True)"
   ]
  },
  {
   "cell_type": "code",
   "execution_count": null,
   "metadata": {
    "collapsed": true
   },
   "outputs": [],
   "source": []
  }
 ],
 "metadata": {
  "kernelspec": {
   "display_name": "Python 3",
   "language": "python",
   "name": "python3"
  },
  "language_info": {
   "codemirror_mode": {
    "name": "ipython",
    "version": 3
   },
   "file_extension": ".py",
   "mimetype": "text/x-python",
   "name": "python",
   "nbconvert_exporter": "python",
   "pygments_lexer": "ipython3",
   "version": "3.6.1"
  }
 },
 "nbformat": 4,
 "nbformat_minor": 2
}
