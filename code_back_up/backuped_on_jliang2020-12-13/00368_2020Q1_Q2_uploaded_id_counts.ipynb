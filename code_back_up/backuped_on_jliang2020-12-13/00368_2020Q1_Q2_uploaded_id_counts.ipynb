{
 "cells": [
  {
   "cell_type": "code",
   "execution_count": 1,
   "metadata": {},
   "outputs": [],
   "source": [
    "import pandas as pd\n",
    "import numpy as np\n",
    "import datetime\n",
    "import os\n",
    "import glob"
   ]
  },
  {
   "cell_type": "code",
   "execution_count": 2,
   "metadata": {},
   "outputs": [],
   "source": [
    "q1_uploaded=glob.glob(\"/home/sharefolder/Live_Ramp/Quarterly_Update_2020Q1/upload_files/*.csv\")\n",
    "q2_uploaded=glob.glob(\"/home/sharefolder/Live_Ramp/Quarterly_Update_2020Q2/upload_files/*.csv\")"
   ]
  },
  {
   "cell_type": "code",
   "execution_count": 3,
   "metadata": {},
   "outputs": [],
   "source": [
    "q1_uploaded_T=[x for x in q1_uploaded if os.path.basename(x)[0]==\"T\"]\n",
    "q2_uploaded_T=[x for x in q2_uploaded if os.path.basename(x)[0]==\"T\"]"
   ]
  },
  {
   "cell_type": "code",
   "execution_count": 10,
   "metadata": {},
   "outputs": [
    {
     "name": "stdout",
     "output_type": "stream",
     "text": [
      "(17351682, 2) 17351682\n"
     ]
    }
   ],
   "source": [
    "df_q1_audience_T=pd.DataFrame()\n",
    "for file in q1_uploaded_T:\n",
    "    df=pd.read_csv(file,usecols=['customer_id_hashed','segment_2020Q1'])\n",
    "    df_q1_audience_T=df_q1_audience_T.append(df)\n",
    "print(df_q1_audience_T.shape,df_q1_audience_T['customer_id_hashed'].nunique())"
   ]
  },
  {
   "cell_type": "code",
   "execution_count": 12,
   "metadata": {},
   "outputs": [
    {
     "name": "stdout",
     "output_type": "stream",
     "text": [
      "(17493297, 2) 17493297\n"
     ]
    }
   ],
   "source": [
    "df_q2_audience_T=pd.DataFrame()\n",
    "for file in q2_uploaded_T:\n",
    "    df=pd.read_csv(file,usecols=['customer_id_hashed','segment_2020Q2'])\n",
    "    df_q2_audience_T=df_q2_audience_T.append(df)\n",
    "print(df_q2_audience_T.shape,df_q2_audience_T['customer_id_hashed'].nunique())"
   ]
  },
  {
   "cell_type": "code",
   "execution_count": null,
   "metadata": {},
   "outputs": [],
   "source": []
  }
 ],
 "metadata": {
  "kernelspec": {
   "display_name": "Python 3",
   "language": "python",
   "name": "python3"
  },
  "language_info": {
   "codemirror_mode": {
    "name": "ipython",
    "version": 3
   },
   "file_extension": ".py",
   "mimetype": "text/x-python",
   "name": "python",
   "nbconvert_exporter": "python",
   "pygments_lexer": "ipython3",
   "version": "3.6.1"
  }
 },
 "nbformat": 4,
 "nbformat_minor": 2
}
