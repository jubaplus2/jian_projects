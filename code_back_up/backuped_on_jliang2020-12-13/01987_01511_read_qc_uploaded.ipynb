{
 "cells": [
  {
   "cell_type": "code",
   "execution_count": 1,
   "metadata": {},
   "outputs": [
    {
     "data": {
      "text/plain": [
       "'/home/jian/Projects/Big_Lots/Live_Ramp/Quarterly_Update_2019Q2/Final_Uploaded'"
      ]
     },
     "execution_count": 1,
     "metadata": {},
     "output_type": "execute_result"
    }
   ],
   "source": [
    "import paramiko\n",
    "import os\n",
    "import glob\n",
    "import pandas as pd\n",
    "os.getcwd()\n",
    "\n"
   ]
  },
  {
   "cell_type": "code",
   "execution_count": 2,
   "metadata": {},
   "outputs": [
    {
     "data": {
      "text/plain": [
       "50"
      ]
     },
     "execution_count": 2,
     "metadata": {},
     "output_type": "execute_result"
    }
   ],
   "source": [
    "files_to_be_uploaded=glob.glob(\"/home/jian/Projects/Big_Lots/Live_Ramp/Quarterly_Update_2019Q2/output_final_20190422/Test_and_Control/uploaded/*.csv\")\n",
    "len(files_to_be_uploaded)"
   ]
  },
  {
   "cell_type": "code",
   "execution_count": 11,
   "metadata": {},
   "outputs": [
    {
     "data": {
      "text/plain": [
       "['471553e2f541b0216ea2e6b07181852612479f4ee93535a5b1f3e8d2e37d7ed5',\n",
       " '3492cec4819ae4e3a25dde23fec7ab1768d6c19b2089b93624fb6bdbbf5a2e2a',\n",
       " 'cdaedc9e0b5856a879589e8030633611b03581cad07f151d847ef6a00f498baf',\n",
       " '6ae184f9c79b72856ab8077290a1b7b6f9fdc18dcfa5eb971cea0ca887ddb8d6',\n",
       " '8aee5737fd16b3e8fc0f97abc498aafc2de426649e635bcdbb64daa0ae15d4a1',\n",
       " 'bbcd841bee5ea89e70d6880b082529a29f01411cd974b7344a70538ec17f646c',\n",
       " '5298d642cd51fa8ff50e67f175bcd0fb770ce6aa2a2add7753975e503938a9a0',\n",
       " '414aaa933109c393870a88b0bced7f8999dbd34855b1522eca0c80bc59201b3e',\n",
       " '782d47e19ac77ded6fb556bbf4e6a5a85c2ffdfd1daf16eae72467360bd3edc3',\n",
       " '2938fcddd2861fd6325976485174b123b9d443ccbed065a34cf6eae696dd7208']"
      ]
     },
     "execution_count": 11,
     "metadata": {},
     "output_type": "execute_result"
    }
   ],
   "source": [
    "test_df=pd.read_csv(files_to_be_uploaded[6],nrows=10,dtype=str)\n",
    "customoer_id_list=test_df['customer_id_hashed'].unique().tolist()\n",
    "customoer_id_list"
   ]
  },
  {
   "cell_type": "code",
   "execution_count": 25,
   "metadata": {},
   "outputs": [],
   "source": [
    "def recursive_file_gen(my_root_dir):\n",
    "    for root, dirs, files in os.walk(my_root_dir):\n",
    "        for file in files:\n",
    "            yield os.path.join(root, file)\n",
    "\n"
   ]
  },
  {
   "cell_type": "code",
   "execution_count": 26,
   "metadata": {},
   "outputs": [
    {
     "name": "stdout",
     "output_type": "stream",
     "text": [
      "14\n",
      "23\n"
     ]
    }
   ],
   "source": [
    "master_file_2018=list(recursive_file_gen(\"/home/jian/BigLots/2018_by_weeks/\"))\n",
    "master_file_2018=[x for x in master_file_2018 if (\"aster\" in x) & (\".txt\" in x) ]\n",
    "print(len(master_file_2018))\n",
    "\n",
    "master_file_2019=list(recursive_file_gen(\"/home/jian/BigLots/2019_by_weeks/\"))\n",
    "master_file_2019=[x for x in master_file_2019 if (\"aster\" in x) & (\".txt\" in x) ]\n",
    "print(len(master_file_2019))\n"
   ]
  },
  {
   "cell_type": "code",
   "execution_count": 32,
   "metadata": {},
   "outputs": [],
   "source": [
    "df_qc_email=pd.DataFrame()\n",
    "for file in master_file_2018+master_file_2019:\n",
    "    df=pd.read_table(file,dtype=str,sep=\"|\")\n",
    "    df=df[df['customer_id_hashed'].isin(customoer_id_list)]\n",
    "    df_qc_email=df_qc_email.append(df)"
   ]
  },
  {
   "cell_type": "code",
   "execution_count": 35,
   "metadata": {},
   "outputs": [
    {
     "data": {
      "text/plain": [
       "['8aee5737fd16b3e8fc0f97abc498aafc2de426649e635bcdbb64daa0ae15d4a1',\n",
       " 'bbcd841bee5ea89e70d6880b082529a29f01411cd974b7344a70538ec17f646c',\n",
       " '782d47e19ac77ded6fb556bbf4e6a5a85c2ffdfd1daf16eae72467360bd3edc3']"
      ]
     },
     "execution_count": 35,
     "metadata": {},
     "output_type": "execute_result"
    }
   ],
   "source": [
    "df_qc_email['customer_id_hashed'].unique().tolist()"
   ]
  },
  {
   "cell_type": "code",
   "execution_count": 43,
   "metadata": {},
   "outputs": [
    {
     "data": {
      "text/plain": [
       "'73e31e23d7f5de9c7bef5f0dcdd72b1dba54e9159c5abd2b942e7e0aef14ebae'"
      ]
     },
     "execution_count": 43,
     "metadata": {},
     "output_type": "execute_result"
    }
   ],
   "source": [
    "df_qc_email[df_qc_email['customer_id_hashed']==\"782d47e19ac77ded6fb556bbf4e6a5a85c2ffdfd1daf16eae72467360bd3edc3\"]['email_address_hash'].values[0]"
   ]
  },
  {
   "cell_type": "code",
   "execution_count": 42,
   "metadata": {},
   "outputs": [
    {
     "data": {
      "text/plain": [
       "'73e31e23d7f5de9c7bef5f0dcdd72b1dba54e9159c5abd2b942e7e0aef14ebae'"
      ]
     },
     "execution_count": 42,
     "metadata": {},
     "output_type": "execute_result"
    }
   ],
   "source": [
    "test_df[test_df['customer_id_hashed']==\"782d47e19ac77ded6fb556bbf4e6a5a85c2ffdfd1daf16eae72467360bd3edc3\"]['email_address_hash'].values[0]"
   ]
  },
  {
   "cell_type": "code",
   "execution_count": null,
   "metadata": {
    "collapsed": true
   },
   "outputs": [],
   "source": []
  }
 ],
 "metadata": {
  "kernelspec": {
   "display_name": "Python 3",
   "language": "python",
   "name": "python3"
  },
  "language_info": {
   "codemirror_mode": {
    "name": "ipython",
    "version": 3
   },
   "file_extension": ".py",
   "mimetype": "text/x-python",
   "name": "python",
   "nbconvert_exporter": "python",
   "pygments_lexer": "ipython3",
   "version": "3.6.1"
  }
 },
 "nbformat": 4,
 "nbformat_minor": 2
}
