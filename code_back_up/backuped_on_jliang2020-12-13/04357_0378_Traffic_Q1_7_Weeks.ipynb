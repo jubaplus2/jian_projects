{
 "cells": [
  {
   "cell_type": "code",
   "execution_count": 7,
   "metadata": {
    "collapsed": true
   },
   "outputs": [],
   "source": [
    "import pandas as pd\n",
    "import datetime"
   ]
  },
  {
   "cell_type": "code",
   "execution_count": 8,
   "metadata": {
    "collapsed": true
   },
   "outputs": [],
   "source": [
    "week_list=[\"2018-02-17\",\"2018-02-24\",\"2018-03-03\",\"2018-03-10\",\"2018-03-17\",\"2018-03-24\",\"2018-03-31\",\"2018-04-07\"]"
   ]
  },
  {
   "cell_type": "code",
   "execution_count": 9,
   "metadata": {
    "collapsed": true
   },
   "outputs": [],
   "source": [
    "folder_list=[\"/home/jian/BigLots/2018 by weeks/MediaStorm \"+week+\"/MediaStormTrafficWeekly.txt\" for week in week_list]"
   ]
  },
  {
   "cell_type": "code",
   "execution_count": 10,
   "metadata": {},
   "outputs": [],
   "source": [
    "df_traffic=pd.read_excel(\"/home/jian/Projects/Big_Lots/Weather/Q1_Weeks/BL_Weather_8weeks_5ivs_YoY_Dollar.xlsx\")\n",
    "df_traffic=df_traffic[['location_id','zip_cd']]\n",
    "for file in folder_list:\n",
    "    date=file[44:54]\n",
    "    df=pd.read_csv(file,dtype=str,sep=\"|\")\n",
    "\n",
    "    day1=datetime.datetime.strptime(date,\"%Y-%m-%d\").date()+datetime.timedelta(days=-6+0)\n",
    "    day2=datetime.datetime.strptime(date,\"%Y-%m-%d\").date()+datetime.timedelta(days=-6+1)\n",
    "    day3=datetime.datetime.strptime(date,\"%Y-%m-%d\").date()+datetime.timedelta(days=-6+2)\n",
    "    day4=datetime.datetime.strptime(date,\"%Y-%m-%d\").date()+datetime.timedelta(days=-6+3)\n",
    "    day5=datetime.datetime.strptime(date,\"%Y-%m-%d\").date()+datetime.timedelta(days=-6+4)\n",
    "    day6=datetime.datetime.strptime(date,\"%Y-%m-%d\").date()+datetime.timedelta(days=-6+5)\n",
    "    day7=datetime.datetime.strptime(date,\"%Y-%m-%d\").date()+datetime.timedelta(days=-6+6)\n",
    "    df.rename(columns={'traffic_day_1': str(day1), 'traffic_day_2': str(day2),'traffic_day_3': str(day3),'traffic_day_4': str(day4),\n",
    "                      'traffic_day_5': str(day5),'traffic_day_6': str(day6),'traffic_day_7': str(day7)}, inplace=True)\n",
    "    df=df[[\"location_id\",str(day1),str(day2),str(day3),str(day4),str(day5),str(day6),str(day7)]]    \n",
    "    for col in df.columns:\n",
    "        df[col]=df[col].astype(int)\n",
    "    df_traffic=pd.merge(df_traffic,df,on=\"location_id\",how=\"left\")"
   ]
  },
  {
   "cell_type": "code",
   "execution_count": 11,
   "metadata": {},
   "outputs": [
    {
     "data": {
      "text/html": [
       "<div>\n",
       "<style>\n",
       "    .dataframe thead tr:only-child th {\n",
       "        text-align: right;\n",
       "    }\n",
       "\n",
       "    .dataframe thead th {\n",
       "        text-align: left;\n",
       "    }\n",
       "\n",
       "    .dataframe tbody tr th {\n",
       "        vertical-align: top;\n",
       "    }\n",
       "</style>\n",
       "<table border=\"1\" class=\"dataframe\">\n",
       "  <thead>\n",
       "    <tr style=\"text-align: right;\">\n",
       "      <th></th>\n",
       "      <th>location_id</th>\n",
       "      <th>zip_cd</th>\n",
       "      <th>2018-02-11</th>\n",
       "      <th>2018-02-12</th>\n",
       "      <th>2018-02-13</th>\n",
       "      <th>2018-02-14</th>\n",
       "      <th>2018-02-15</th>\n",
       "      <th>2018-02-16</th>\n",
       "      <th>2018-02-17</th>\n",
       "      <th>2018-02-18</th>\n",
       "      <th>...</th>\n",
       "      <th>2018-03-29</th>\n",
       "      <th>2018-03-30</th>\n",
       "      <th>2018-03-31</th>\n",
       "      <th>2018-04-01</th>\n",
       "      <th>2018-04-02</th>\n",
       "      <th>2018-04-03</th>\n",
       "      <th>2018-04-04</th>\n",
       "      <th>2018-04-05</th>\n",
       "      <th>2018-04-06</th>\n",
       "      <th>2018-04-07</th>\n",
       "    </tr>\n",
       "  </thead>\n",
       "  <tbody>\n",
       "    <tr>\n",
       "      <th>0</th>\n",
       "      <td>1493</td>\n",
       "      <td>1060</td>\n",
       "      <td>452.0</td>\n",
       "      <td>482.0</td>\n",
       "      <td>467.0</td>\n",
       "      <td>429.0</td>\n",
       "      <td>394.0</td>\n",
       "      <td>449.0</td>\n",
       "      <td>621.0</td>\n",
       "      <td>437.0</td>\n",
       "      <td>...</td>\n",
       "      <td>474.0</td>\n",
       "      <td>637.0</td>\n",
       "      <td>795.0</td>\n",
       "      <td>366.0</td>\n",
       "      <td>470.0</td>\n",
       "      <td>414.0</td>\n",
       "      <td>427.0</td>\n",
       "      <td>528.0</td>\n",
       "      <td>388.0</td>\n",
       "      <td>1135.0</td>\n",
       "    </tr>\n",
       "    <tr>\n",
       "      <th>1</th>\n",
       "      <td>1863</td>\n",
       "      <td>1089</td>\n",
       "      <td>652.0</td>\n",
       "      <td>671.0</td>\n",
       "      <td>697.0</td>\n",
       "      <td>615.0</td>\n",
       "      <td>591.0</td>\n",
       "      <td>757.0</td>\n",
       "      <td>955.0</td>\n",
       "      <td>667.0</td>\n",
       "      <td>...</td>\n",
       "      <td>645.0</td>\n",
       "      <td>927.0</td>\n",
       "      <td>1164.0</td>\n",
       "      <td>621.0</td>\n",
       "      <td>232.0</td>\n",
       "      <td>646.0</td>\n",
       "      <td>600.0</td>\n",
       "      <td>641.0</td>\n",
       "      <td>674.0</td>\n",
       "      <td>1354.0</td>\n",
       "    </tr>\n",
       "  </tbody>\n",
       "</table>\n",
       "<p>2 rows × 58 columns</p>\n",
       "</div>"
      ],
      "text/plain": [
       "   location_id  zip_cd  2018-02-11  2018-02-12  2018-02-13  2018-02-14  \\\n",
       "0         1493    1060       452.0       482.0       467.0       429.0   \n",
       "1         1863    1089       652.0       671.0       697.0       615.0   \n",
       "\n",
       "   2018-02-15  2018-02-16  2018-02-17  2018-02-18     ...      2018-03-29  \\\n",
       "0       394.0       449.0       621.0       437.0     ...           474.0   \n",
       "1       591.0       757.0       955.0       667.0     ...           645.0   \n",
       "\n",
       "   2018-03-30  2018-03-31  2018-04-01  2018-04-02  2018-04-03  2018-04-04  \\\n",
       "0       637.0       795.0       366.0       470.0       414.0       427.0   \n",
       "1       927.0      1164.0       621.0       232.0       646.0       600.0   \n",
       "\n",
       "   2018-04-05  2018-04-06  2018-04-07  \n",
       "0       528.0       388.0      1135.0  \n",
       "1       641.0       674.0      1354.0  \n",
       "\n",
       "[2 rows x 58 columns]"
      ]
     },
     "execution_count": 11,
     "metadata": {},
     "output_type": "execute_result"
    }
   ],
   "source": [
    "df_traffic.head(2)"
   ]
  },
  {
   "cell_type": "code",
   "execution_count": 12,
   "metadata": {},
   "outputs": [],
   "source": [
    "df_traffic.to_csv(\"/home/jian/Projects/Big_Lots/Weather/Q1_Weeks/Traffic_Q1.csv\",index=False)"
   ]
  },
  {
   "cell_type": "code",
   "execution_count": null,
   "metadata": {
    "collapsed": true
   },
   "outputs": [],
   "source": []
  }
 ],
 "metadata": {
  "kernelspec": {
   "display_name": "Python 3",
   "language": "python",
   "name": "python3"
  },
  "language_info": {
   "codemirror_mode": {
    "name": "ipython",
    "version": 3
   },
   "file_extension": ".py",
   "mimetype": "text/x-python",
   "name": "python",
   "nbconvert_exporter": "python",
   "pygments_lexer": "ipython3",
   "version": "3.6.1"
  }
 },
 "nbformat": 4,
 "nbformat_minor": 2
}
