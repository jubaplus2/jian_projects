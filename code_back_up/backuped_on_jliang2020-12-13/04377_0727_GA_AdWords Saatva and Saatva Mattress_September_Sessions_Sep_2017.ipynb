{
 "cells": [
  {
   "cell_type": "code",
   "execution_count": 26,
   "metadata": {
    "collapsed": true
   },
   "outputs": [],
   "source": [
    "# _September_Week1 2017: 9/9/17-10/31/17\n",
    "\n",
    "import pandas as pd\n",
    "import numpy as np\n",
    "import datetime\n",
    "import pandas as pd\n",
    "from googleads import adwords\n",
    "import google_analytics_reporting_api as ga\n",
    "import os\n",
    "\n",
    "week=\"_September_2017\" \n",
    "\n",
    "Start_Date_overall='2017-09-09'\n",
    "End_Data_overall='2018-10-31'\n",
    "\n",
    "Start_Date_1='2017-09-09'\n",
    "End_Date_1='2017-10-05'\n",
    "\n",
    "Start_Date_2='2017-10-06'\n",
    "End_Date_2='2017-10-31'\n",
    "\n",
    "\n",
    "today_str=str(datetime.datetime.now().date())\n",
    "writer_folder=\"/home/jian/Projects/Saatva/To_Lexie_and_Connor/output/running_on_\"+today_str+\"/\"\n",
    "try:\n",
    "    os.stat(writer_folder)\n",
    "except:\n",
    "    os.mkdir(writer_folder)\n",
    "\n",
    "writer_folder=\"/home/jian/Projects/Saatva/To_Lexie_and_Connor/output/running_on_\"+today_str+\"/\"+week[1:]+\"/\"\n",
    "try:\n",
    "    os.stat(writer_folder)\n",
    "except:\n",
    "    os.mkdir(writer_folder)"
   ]
  },
  {
   "cell_type": "code",
   "execution_count": 27,
   "metadata": {},
   "outputs": [
    {
     "data": {
      "text/plain": [
       "2"
      ]
     },
     "execution_count": 27,
     "metadata": {},
     "output_type": "execute_result"
    }
   ],
   "source": [
    "1+1"
   ]
  },
  {
   "cell_type": "markdown",
   "metadata": {},
   "source": [
    "# Google Analytics"
   ]
  },
  {
   "cell_type": "code",
   "execution_count": 28,
   "metadata": {
    "collapsed": true
   },
   "outputs": [],
   "source": [
    "analytics = ga.initialize_analyticsreporting('/home/jian/Projects/Saatva/GA/GA_api_jubapluscc@gmail.com.json')\n",
    "\n",
    "def num_func_trans(df):\n",
    "    if 'ga:sessions' in df.columns:\n",
    "        df['ga:sessions']=df['ga:sessions'].apply(lambda x: int(x.replace(\",\",\"\")))\n",
    "        df['ga:sessions']=df['ga:sessions'].astype(int)\n",
    "\n",
    "    if 'ga:adClicks' in df.columns:\n",
    "        df['ga:adClicks']=df['ga:adClicks'].apply(lambda x: int(x.replace(\",\",\"\")))\n",
    "        df['ga:adClicks']=df['ga:adClicks'].astype(int)\n",
    "\n",
    "    if 'ga:impressions' in df.columns:\n",
    "        df['ga:impressions']=df['ga:impressions'].apply(lambda x: int(x.replace(\",\",\"\")))\n",
    "        df['ga:impressions']=df['ga:impressions'].astype(int)\n",
    "    \n",
    "    if 'ga:transactions' in df.columns:\n",
    "        df['ga:transactions']=df['ga:transactions'].apply(lambda x: int(x.replace(\",\",\"\")))\n",
    "        df['ga:transactions']=df['ga:transactions'].astype(int)\n",
    "    \n",
    "    if 'ga:transactionRevenue' in df.columns:\n",
    "        df['ga:transactionRevenue']=df['ga:transactionRevenue'].apply(lambda x: float(x.replace(\",\",\"\")))\n",
    "        df['ga:transactionRevenue']=df['ga:transactionRevenue'].astype(float)\n",
    "\n",
    "    \n",
    "    return df\n"
   ]
  },
  {
   "cell_type": "code",
   "execution_count": 29,
   "metadata": {},
   "outputs": [
    {
     "data": {
      "text/plain": [
       "(3961, 9)"
      ]
     },
     "execution_count": 29,
     "metadata": {},
     "output_type": "execute_result"
    }
   ],
   "source": [
    "# Saatva.com\n",
    "# dateHour, sourceMedium      sessions, adClicks, impressions\n",
    "ga_data_1=ga.get_report_over_10000_rows(analytics=analytics, VIEW_ID='122377905',start_date=Start_Date_1, end_date=End_Date_1,\n",
    "                                            ga_metrics=['ga:sessions','ga:adClicks','ga:impressions','ga:transactions','ga:transactionRevenue'],\n",
    "                                            ga_dimensions=['ga:date','ga:sourceMedium'])\n",
    "\n",
    "ga_data_2=ga.get_report_over_10000_rows(analytics=analytics, VIEW_ID='122377905',start_date=Start_Date_2, end_date=End_Date_2,\n",
    "                                            ga_metrics=['ga:sessions','ga:adClicks','ga:impressions','ga:transactions','ga:transactionRevenue'],\n",
    "                                            ga_dimensions=['ga:date','ga:sourceMedium'])\n",
    "\n",
    "\n",
    "ga_data_saatva=ga_data_1.append(ga_data_2)\n",
    "ga_data_saatva['View']=\"Saatva.com\"\n",
    "ga_data_saatva['View_ID']=\"122377905\"\n",
    "ga_data_saatva.shape"
   ]
  },
  {
   "cell_type": "code",
   "execution_count": 30,
   "metadata": {},
   "outputs": [
    {
     "data": {
      "text/html": [
       "<div>\n",
       "<style>\n",
       "    .dataframe thead tr:only-child th {\n",
       "        text-align: right;\n",
       "    }\n",
       "\n",
       "    .dataframe thead th {\n",
       "        text-align: left;\n",
       "    }\n",
       "\n",
       "    .dataframe tbody tr th {\n",
       "        vertical-align: top;\n",
       "    }\n",
       "</style>\n",
       "<table border=\"1\" class=\"dataframe\">\n",
       "  <thead>\n",
       "    <tr style=\"text-align: right;\">\n",
       "      <th></th>\n",
       "      <th>ga:adClicks</th>\n",
       "      <th>ga:date</th>\n",
       "      <th>ga:impressions</th>\n",
       "      <th>ga:sessions</th>\n",
       "      <th>ga:sourceMedium</th>\n",
       "      <th>ga:transactionRevenue</th>\n",
       "      <th>ga:transactions</th>\n",
       "      <th>View</th>\n",
       "      <th>View_ID</th>\n",
       "    </tr>\n",
       "  </thead>\n",
       "  <tbody>\n",
       "    <tr>\n",
       "      <th>0</th>\n",
       "      <td>0</td>\n",
       "      <td>20170909</td>\n",
       "      <td>0</td>\n",
       "      <td>205</td>\n",
       "      <td>(direct) / (none)</td>\n",
       "      <td>0.0</td>\n",
       "      <td>0</td>\n",
       "      <td>Saatva.com</td>\n",
       "      <td>122377905</td>\n",
       "    </tr>\n",
       "    <tr>\n",
       "      <th>1</th>\n",
       "      <td>0</td>\n",
       "      <td>20170909</td>\n",
       "      <td>0</td>\n",
       "      <td>1</td>\n",
       "      <td>481884547.keywordblocks.com / referral</td>\n",
       "      <td>0.0</td>\n",
       "      <td>0</td>\n",
       "      <td>Saatva.com</td>\n",
       "      <td>122377905</td>\n",
       "    </tr>\n",
       "  </tbody>\n",
       "</table>\n",
       "</div>"
      ],
      "text/plain": [
       "  ga:adClicks   ga:date ga:impressions ga:sessions  \\\n",
       "0           0  20170909              0         205   \n",
       "1           0  20170909              0           1   \n",
       "\n",
       "                          ga:sourceMedium ga:transactionRevenue  \\\n",
       "0                       (direct) / (none)                   0.0   \n",
       "1  481884547.keywordblocks.com / referral                   0.0   \n",
       "\n",
       "  ga:transactions        View    View_ID  \n",
       "0               0  Saatva.com  122377905  \n",
       "1               0  Saatva.com  122377905  "
      ]
     },
     "execution_count": 30,
     "metadata": {},
     "output_type": "execute_result"
    }
   ],
   "source": [
    "ga_data_saatva.head(2)"
   ]
  },
  {
   "cell_type": "code",
   "execution_count": 31,
   "metadata": {},
   "outputs": [
    {
     "data": {
      "text/plain": [
       "(16276, 9)"
      ]
     },
     "execution_count": 31,
     "metadata": {},
     "output_type": "execute_result"
    }
   ],
   "source": [
    "# Saatvamattress.com\n",
    "# dateHour, sourceMedium      sessions, adClicks, impressions\n",
    "ga_data_1=ga.get_report_over_10000_rows(analytics=analytics, VIEW_ID='33605697',start_date=Start_Date_1, end_date=End_Date_1,\n",
    "                                            ga_metrics=['ga:sessions','ga:adClicks','ga:impressions','ga:transactions','ga:transactionRevenue'],\n",
    "                                            ga_dimensions=['ga:date','ga:sourceMedium'])\n",
    "\n",
    "ga_data_2=ga.get_report_over_10000_rows(analytics=analytics, VIEW_ID='33605697',start_date=Start_Date_2, end_date=End_Date_2,\n",
    "                                            ga_metrics=['ga:sessions','ga:adClicks','ga:impressions','ga:transactions','ga:transactionRevenue'],\n",
    "                                            ga_dimensions=['ga:date','ga:sourceMedium'])\n",
    "\n",
    "\n",
    "ga_data_SM=ga_data_1.append(ga_data_2)\n",
    "ga_data_SM['View']=\"Saatvamattress.com\"\n",
    "ga_data_SM['View_ID']=\"33605697\"\n",
    "ga_data_SM.shape"
   ]
  },
  {
   "cell_type": "code",
   "execution_count": 32,
   "metadata": {},
   "outputs": [
    {
     "data": {
      "text/html": [
       "<div>\n",
       "<style>\n",
       "    .dataframe thead tr:only-child th {\n",
       "        text-align: right;\n",
       "    }\n",
       "\n",
       "    .dataframe thead th {\n",
       "        text-align: left;\n",
       "    }\n",
       "\n",
       "    .dataframe tbody tr th {\n",
       "        vertical-align: top;\n",
       "    }\n",
       "</style>\n",
       "<table border=\"1\" class=\"dataframe\">\n",
       "  <thead>\n",
       "    <tr style=\"text-align: right;\">\n",
       "      <th></th>\n",
       "      <th>ga:adClicks</th>\n",
       "      <th>ga:date</th>\n",
       "      <th>ga:impressions</th>\n",
       "      <th>ga:sessions</th>\n",
       "      <th>ga:sourceMedium</th>\n",
       "      <th>ga:transactionRevenue</th>\n",
       "      <th>ga:transactions</th>\n",
       "      <th>View</th>\n",
       "      <th>View_ID</th>\n",
       "    </tr>\n",
       "  </thead>\n",
       "  <tbody>\n",
       "    <tr>\n",
       "      <th>0</th>\n",
       "      <td>0</td>\n",
       "      <td>20170909</td>\n",
       "      <td>0</td>\n",
       "      <td>2690</td>\n",
       "      <td>(direct) / (none)</td>\n",
       "      <td>44081.0</td>\n",
       "      <td>34</td>\n",
       "      <td>Saatvamattress.com</td>\n",
       "      <td>33605697</td>\n",
       "    </tr>\n",
       "    <tr>\n",
       "      <th>1</th>\n",
       "      <td>0</td>\n",
       "      <td>20170909</td>\n",
       "      <td>0</td>\n",
       "      <td>1</td>\n",
       "      <td>157875551.keywordblocks.com / referral</td>\n",
       "      <td>0.0</td>\n",
       "      <td>0</td>\n",
       "      <td>Saatvamattress.com</td>\n",
       "      <td>33605697</td>\n",
       "    </tr>\n",
       "  </tbody>\n",
       "</table>\n",
       "</div>"
      ],
      "text/plain": [
       "  ga:adClicks   ga:date ga:impressions ga:sessions  \\\n",
       "0           0  20170909              0        2690   \n",
       "1           0  20170909              0           1   \n",
       "\n",
       "                          ga:sourceMedium ga:transactionRevenue  \\\n",
       "0                       (direct) / (none)               44081.0   \n",
       "1  157875551.keywordblocks.com / referral                   0.0   \n",
       "\n",
       "  ga:transactions                View   View_ID  \n",
       "0              34  Saatvamattress.com  33605697  \n",
       "1               0  Saatvamattress.com  33605697  "
      ]
     },
     "execution_count": 32,
     "metadata": {},
     "output_type": "execute_result"
    }
   ],
   "source": [
    "ga_data_SM.head(2)"
   ]
  },
  {
   "cell_type": "code",
   "execution_count": 33,
   "metadata": {
    "collapsed": true
   },
   "outputs": [],
   "source": [
    "ga_data=ga_data_SM.append(ga_data_saatva)\n",
    "ga_data=num_func_trans(ga_data)"
   ]
  },
  {
   "cell_type": "code",
   "execution_count": 34,
   "metadata": {
    "collapsed": true
   },
   "outputs": [],
   "source": [
    "ga_data['Source']=ga_data['ga:sourceMedium'].apply(lambda x: x.split(\" / \")[0])\n",
    "ga_data['Medium']=ga_data['ga:sourceMedium'].apply(lambda x: x.split(\" / \")[1])"
   ]
  },
  {
   "cell_type": "code",
   "execution_count": 35,
   "metadata": {
    "collapsed": true
   },
   "outputs": [],
   "source": [
    "# msn in 'social'\n",
    "# mail.yahoo.com / referral in 'referral'\n",
    "# Social: 'msn','instagram','pinterest','facebook\n",
    "                                                \n",
    "ga_data['Defined_Media']=np.nan\n",
    "ga_data['Defined_Media']=np.where(((ga_data['ga:sourceMedium'].str.contains('youtube.')) | (ga_data['Medium']==\"social\")),\"Social\",\n",
    "                                  np.where(((ga_data['Source'].isin(['msn','instagram','Instagram','pinterest','facebook'])) & (ga_data['Medium']=='cpc')),\"Social\",\n",
    "                                           np.where(ga_data['ga:sourceMedium'].str.contains('criteo'),\"Retarget\",\n",
    "                                                    np.where(ga_data['Source']==\"(direct)\",\"Direct\",\n",
    "                                                             np.where(((ga_data['Source'].isin(['google','bing','yahoo'])) & (ga_data['Medium']=='cpc')),\"SEM\",\n",
    "                                                                      np.where(((ga_data['Source'].isin(['google','bing','yahoo'])) & (ga_data['Medium']=='organic')),\"SEO\",\n",
    "                                                                               np.where(ga_data['Source']==\"powerInbox\",\"Email\",\n",
    "                                                                                        np.where((ga_data['ga:sourceMedium'].str.contains('email')) & (~ga_data['ga:sourceMedium'].isin([\"taboola / townnews-wvgazettemail\",\"query.hemailaccessonline.com / referral\"]) | (ga_data['ga:sourceMedium'].str.contains(\"mail.\") )),\"Email\",\n",
    "                                                                                                 np.where(ga_data['ga:sourceMedium'].str.contains('taboola'),\"Video\",\n",
    "                                                                                                          np.where(ga_data['Medium']==\"referral\",\"Referral\",\n",
    "                                                                                                                   np.where(ga_data['Medium'].isin([\"partner\",\"partners\"]),\"partner\",\n",
    "                                                                                                                            np.where(ga_data['ga:sourceMedium'].str.contains('display'),\"Display\",\"Others\")\n",
    "                                                                                                                            )\n",
    "                                                                                                                   )\n",
    "                                                                                                          )\n",
    "                                                                                                )\n",
    "                                                                                       )\n",
    "                                                                              )\n",
    "                                                                     )\n",
    "                                                            )\n",
    "                                                   )\n",
    "                                          )\n",
    "                                 )\n",
    "                                                         \n"
   ]
  },
  {
   "cell_type": "code",
   "execution_count": 36,
   "metadata": {
    "collapsed": true
   },
   "outputs": [],
   "source": [
    "GA_taxonomy=ga_data[['ga:sourceMedium','Source','Medium','Defined_Media']].drop_duplicates()\n",
    "GA_taxonomy.reset_index(inplace=True)\n",
    "GA_taxonomy=GA_taxonomy.sort_values('Defined_Media')\n",
    "del GA_taxonomy['index']"
   ]
  },
  {
   "cell_type": "code",
   "execution_count": null,
   "metadata": {
    "collapsed": true
   },
   "outputs": [],
   "source": []
  },
  {
   "cell_type": "code",
   "execution_count": 37,
   "metadata": {},
   "outputs": [
    {
     "data": {
      "text/html": [
       "<div>\n",
       "<style>\n",
       "    .dataframe thead tr:only-child th {\n",
       "        text-align: right;\n",
       "    }\n",
       "\n",
       "    .dataframe thead th {\n",
       "        text-align: left;\n",
       "    }\n",
       "\n",
       "    .dataframe tbody tr th {\n",
       "        vertical-align: top;\n",
       "    }\n",
       "</style>\n",
       "<table border=\"1\" class=\"dataframe\">\n",
       "  <thead>\n",
       "    <tr style=\"text-align: right;\">\n",
       "      <th></th>\n",
       "      <th>ga:adClicks</th>\n",
       "      <th>ga:date</th>\n",
       "      <th>ga:impressions</th>\n",
       "      <th>ga:sessions</th>\n",
       "      <th>ga:sourceMedium</th>\n",
       "      <th>ga:transactionRevenue</th>\n",
       "      <th>ga:transactions</th>\n",
       "      <th>View</th>\n",
       "      <th>View_ID</th>\n",
       "      <th>Source</th>\n",
       "      <th>Medium</th>\n",
       "      <th>Defined_Media</th>\n",
       "    </tr>\n",
       "  </thead>\n",
       "  <tbody>\n",
       "    <tr>\n",
       "      <th>0</th>\n",
       "      <td>0</td>\n",
       "      <td>20170909</td>\n",
       "      <td>0</td>\n",
       "      <td>2690</td>\n",
       "      <td>(direct) / (none)</td>\n",
       "      <td>44081.0</td>\n",
       "      <td>34</td>\n",
       "      <td>Saatvamattress.com</td>\n",
       "      <td>33605697</td>\n",
       "      <td>(direct)</td>\n",
       "      <td>(none)</td>\n",
       "      <td>Direct</td>\n",
       "    </tr>\n",
       "    <tr>\n",
       "      <th>1</th>\n",
       "      <td>0</td>\n",
       "      <td>20170909</td>\n",
       "      <td>0</td>\n",
       "      <td>1</td>\n",
       "      <td>157875551.keywordblocks.com / referral</td>\n",
       "      <td>0.0</td>\n",
       "      <td>0</td>\n",
       "      <td>Saatvamattress.com</td>\n",
       "      <td>33605697</td>\n",
       "      <td>157875551.keywordblocks.com</td>\n",
       "      <td>referral</td>\n",
       "      <td>Referral</td>\n",
       "    </tr>\n",
       "  </tbody>\n",
       "</table>\n",
       "</div>"
      ],
      "text/plain": [
       "   ga:adClicks   ga:date  ga:impressions  ga:sessions  \\\n",
       "0            0  20170909               0         2690   \n",
       "1            0  20170909               0            1   \n",
       "\n",
       "                          ga:sourceMedium  ga:transactionRevenue  \\\n",
       "0                       (direct) / (none)                44081.0   \n",
       "1  157875551.keywordblocks.com / referral                    0.0   \n",
       "\n",
       "   ga:transactions                View   View_ID                       Source  \\\n",
       "0               34  Saatvamattress.com  33605697                     (direct)   \n",
       "1                0  Saatvamattress.com  33605697  157875551.keywordblocks.com   \n",
       "\n",
       "     Medium Defined_Media  \n",
       "0    (none)        Direct  \n",
       "1  referral      Referral  "
      ]
     },
     "execution_count": 37,
     "metadata": {},
     "output_type": "execute_result"
    }
   ],
   "source": [
    "ga_data.head(2)"
   ]
  },
  {
   "cell_type": "code",
   "execution_count": 38,
   "metadata": {
    "collapsed": true
   },
   "outputs": [],
   "source": [
    "ga_agg_session=ga_data.groupby(['ga:date','Defined_Media'])['ga:sessions'].sum().to_frame()\n",
    "ga_agg_session.reset_index(inplace=True)\n",
    "ga_agg_wide_session=ga_agg_session.pivot('ga:date','Defined_Media','ga:sessions')\n",
    "ga_agg_wide_session.reset_index(inplace=True)"
   ]
  },
  {
   "cell_type": "code",
   "execution_count": 39,
   "metadata": {
    "collapsed": true
   },
   "outputs": [],
   "source": [
    "ga_agg_transaction=ga_data.groupby(['ga:date','Defined_Media'])['ga:transactions'].sum().to_frame()\n",
    "ga_agg_transaction.reset_index(inplace=True)\n",
    "ga_agg_wide_trans=ga_agg_transaction.pivot('ga:date','Defined_Media','ga:transactions')\n",
    "ga_agg_wide_trans.reset_index(inplace=True)"
   ]
  },
  {
   "cell_type": "code",
   "execution_count": 40,
   "metadata": {
    "collapsed": true
   },
   "outputs": [],
   "source": [
    "ga_agg_Revenue=ga_data.groupby(['ga:date','Defined_Media'])['ga:transactionRevenue'].sum().to_frame()\n",
    "ga_agg_Revenue.reset_index(inplace=True)\n",
    "ga_agg_wide_Revenue=ga_agg_Revenue.pivot('ga:date','Defined_Media','ga:transactionRevenue')\n",
    "ga_agg_wide_Revenue.reset_index(inplace=True)\n"
   ]
  },
  {
   "cell_type": "code",
   "execution_count": 41,
   "metadata": {
    "collapsed": true
   },
   "outputs": [],
   "source": [
    "writer=pd.ExcelWriter(writer_folder+'/Saatva_S_and_SM_GA_by_Media_'+Start_Date_1+'_to_'+End_Date_2+week+'.xlsx', engine='xlsxwriter')"
   ]
  },
  {
   "cell_type": "code",
   "execution_count": 42,
   "metadata": {
    "collapsed": true
   },
   "outputs": [],
   "source": [
    "# Combined both Saatva.com and Saatvamattress.com\n",
    "ga_agg_wide_session.to_excel(writer,\"Session_media\",index=False)\n",
    "ga_agg_wide_trans.to_excel(writer,\"Trans_media\",index=False)\n",
    "ga_agg_wide_Revenue.to_excel(writer,\"Revenue_media\",index=False)\n",
    "\n",
    "ga_data.to_excel(writer,\"data\",index=False)\n",
    "GA_taxonomy.to_excel(writer,\"taxonomy\",index=False)\n",
    "writer.save()\n",
    "GA_taxonomy.to_csv(writer_folder+'/Saatva_S_and_SM_GA_taxonomy_'+Start_Date_1+'_to_'+End_Date_2+week+'.csv',index=False)"
   ]
  },
  {
   "cell_type": "code",
   "execution_count": null,
   "metadata": {
    "collapsed": true
   },
   "outputs": [],
   "source": []
  },
  {
   "cell_type": "code",
   "execution_count": 43,
   "metadata": {
    "collapsed": true
   },
   "outputs": [],
   "source": [
    "GA_taxonomy.to_csv(writer_folder+'/Saatva_S_and_SM_GA_by_Media_Taxonomy_2017SepOct'+Start_Date_1+'_to_'+End_Date_2+week+'.csv')"
   ]
  },
  {
   "cell_type": "code",
   "execution_count": 44,
   "metadata": {
    "collapsed": true
   },
   "outputs": [],
   "source": [
    "media_col=ga_agg_wide_session.columns.tolist()[1:(len(ga_agg_wide_session.columns)-1)]"
   ]
  },
  {
   "cell_type": "code",
   "execution_count": 45,
   "metadata": {
    "collapsed": true
   },
   "outputs": [],
   "source": [
    "def write_csv_output(df,Matrics):\n",
    "    ga_output_csv=df.copy()\n",
    "    ga_output_csv=ga_output_csv.sort_values(['ga:date'],ascending=True)\n",
    "    ga_output_csv=ga_output_csv[['ga:date']+media_col]\n",
    "    ga_output_csv=ga_output_csv.fillna(0)\n",
    "    ga_output_csv.to_csv(writer_folder+'/Saatva_S_and_SM_GA_by_Media_'+Start_Date_1+'_to_'+End_Date_2+week+\"_\"+Matrics+'.csv',index=False)"
   ]
  },
  {
   "cell_type": "code",
   "execution_count": 46,
   "metadata": {
    "collapsed": true
   },
   "outputs": [],
   "source": [
    "write_csv_output(ga_agg_wide_session,\"Session\")\n",
    "write_csv_output(ga_agg_wide_trans,\"Trans\")\n",
    "write_csv_output(ga_agg_wide_Revenue,\"Revenue\")\n"
   ]
  },
  {
   "cell_type": "code",
   "execution_count": 47,
   "metadata": {
    "collapsed": true
   },
   "outputs": [],
   "source": [
    "ga_agg_session_by_View=ga_data.groupby(['View','View_ID','ga:date','Defined_Media'])['ga:sessions'].sum().unstack('Defined_Media')\n",
    "ga_agg_session_by_View.reset_index(inplace=True)\n",
    "ga_agg_session_by_View=ga_agg_session_by_View.fillna(0)\n",
    "ga_agg_session_by_View.to_csv(writer_folder+'/Saatva_S_and_SM_GA_by_Media_by_View'+Start_Date_1+'_to_'+End_Date_2+week+\"_Sessions\"+'.csv',index=False)\n",
    "\n",
    "\n"
   ]
  },
  {
   "cell_type": "code",
   "execution_count": null,
   "metadata": {
    "collapsed": true
   },
   "outputs": [],
   "source": []
  },
  {
   "cell_type": "markdown",
   "metadata": {},
   "source": [
    "# AdWords keywords from GA"
   ]
  },
  {
   "cell_type": "code",
   "execution_count": 22,
   "metadata": {},
   "outputs": [
    {
     "name": "stderr",
     "output_type": "stream",
     "text": [
      "/usr/local/lib/python3.6/site-packages/fuzzywuzzy/fuzz.py:35: UserWarning: Using slow pure-python SequenceMatcher. Install python-Levenshtein to remove this warning\n",
      "  warnings.warn('Using slow pure-python SequenceMatcher. Install python-Levenshtein to remove this warning')\n"
     ]
    }
   ],
   "source": [
    "from fuzzywuzzy import fuzz\n",
    "# fuzz 60 ratio score thredhold\n",
    "writer=pd.ExcelWriter(writer_folder+\"KeyWords_From_GA+\"+Start_Date_1+'_to_'+End_Date_2+week+\".xlsx\")"
   ]
  },
  {
   "cell_type": "code",
   "execution_count": 23,
   "metadata": {
    "collapsed": true
   },
   "outputs": [],
   "source": [
    "# Saatva.com\n",
    "# ga:date ga:keyword ga:impressions ga:adClicks\n",
    "ga_data_Ads_Saatva_1=ga.get_report_over_10000_rows(analytics=analytics, VIEW_ID='122377905',start_date=Start_Date_1, end_date=End_Date_1,\n",
    "                                            ga_metrics=['ga:adClicks','ga:impressions'],\n",
    "                                            ga_dimensions=['ga:date','ga:keyword'])\n",
    "ga_data_Ads_Saatva_2=ga.get_report_over_10000_rows(analytics=analytics, VIEW_ID='122377905',start_date=Start_Date_2, end_date=End_Date_2,\n",
    "                                            ga_metrics=['ga:adClicks','ga:impressions'],\n",
    "                                            ga_dimensions=['ga:date','ga:keyword'])\n",
    "ga_data_Ads_Saatva=ga_data_Ads_Saatva_1.append(ga_data_Ads_Saatva_2)\n",
    "ga_data_Ads_Saatva['key_word_list']=ga_data_Ads_Saatva['ga:keyword'].apply(lambda x: x.split(\" \"))\n",
    "ga_data_Ads_Saatva['Brand_Ratio']=ga_data_Ads_Saatva['key_word_list'].apply(lambda x: max([fuzz.ratio(\"saatva\",z) for z in x]))\n",
    "ga_data_Ads_Saatva['key_words_group']=np.where(ga_data_Ads_Saatva['Brand_Ratio']>60,\"Brand\",\"Non_Brand\")\n",
    "\n",
    "taxonomy_Saatva=ga_data_Ads_Saatva[['ga:keyword','key_words_group']].drop_duplicates()\n",
    "taxonomy_Saatva['website']=\"Saatva.com\"\n",
    "ga_data_Ads_Saatva['ga:adClicks']=ga_data_Ads_Saatva['ga:adClicks'].astype(int)\n",
    "ga_data_Ads_Saatva['ga:impressions']=ga_data_Ads_Saatva['ga:impressions'].astype(int)\n",
    "output_Saatva=ga_data_Ads_Saatva.groupby([\"ga:date\",\"ga:keyword\",\"key_words_group\"])['ga:adClicks','ga:impressions'].sum().reset_index()\n",
    "output_Saatva_Brand=output_Saatva[output_Saatva['key_words_group']==\"Brand\"].sort_values('ga:date').reset_index()\n",
    "del output_Saatva_Brand['index']\n",
    "\n",
    "output_Saatva_Brand.to_excel(writer,\"Saatva_Brand\",index=False)\n",
    "output_Saatva.to_excel(writer,\"Saatva_Keywords\",index=False)"
   ]
  },
  {
   "cell_type": "code",
   "execution_count": 24,
   "metadata": {
    "collapsed": true
   },
   "outputs": [],
   "source": [
    "# SaatvaMattress.com\n",
    "# ga:date ga:keyword ga:impressions ga:adClicks\n",
    "ga_data_Ads_SaatvaMattress_1=ga.get_report_over_10000_rows(analytics=analytics, VIEW_ID='33605697',start_date=Start_Date_1, end_date=End_Date_1,\n",
    "                                            ga_metrics=['ga:adClicks','ga:impressions'],\n",
    "                                            ga_dimensions=['ga:date','ga:keyword'])\n",
    "ga_data_Ads_SaatvaMattress_2=ga.get_report_over_10000_rows(analytics=analytics, VIEW_ID='33605697',start_date=Start_Date_2, end_date=End_Date_2,\n",
    "                                            ga_metrics=['ga:adClicks','ga:impressions'],\n",
    "                                            ga_dimensions=['ga:date','ga:keyword'])\n",
    "ga_data_Ads_SaatvaMattress=ga_data_Ads_SaatvaMattress_1.append(ga_data_Ads_SaatvaMattress_2)\n",
    "ga_data_Ads_SaatvaMattress['key_word_list']=ga_data_Ads_SaatvaMattress['ga:keyword'].apply(lambda x: x.split(\" \"))\n",
    "ga_data_Ads_SaatvaMattress['Brand_Ratio']=ga_data_Ads_SaatvaMattress['key_word_list'].apply(lambda x: max([fuzz.ratio(\"saatva\",z) for z in x]))\n",
    "ga_data_Ads_SaatvaMattress['key_words_group']=np.where(ga_data_Ads_SaatvaMattress['Brand_Ratio']>60,\"Brand\",\"Non_Brand\")\n",
    "\n",
    "taxonomy_SaatvaMattress=ga_data_Ads_SaatvaMattress[['ga:keyword','key_words_group']].drop_duplicates()\n",
    "taxonomy_SaatvaMattress['website']=\"SaatvaMattress.com\"\n",
    "ga_data_Ads_SaatvaMattress['ga:adClicks']=ga_data_Ads_SaatvaMattress['ga:adClicks'].astype(int)\n",
    "ga_data_Ads_SaatvaMattress['ga:impressions']=ga_data_Ads_SaatvaMattress['ga:impressions'].astype(int)\n",
    "output_SaatvaMattress=ga_data_Ads_SaatvaMattress.groupby([\"ga:date\",\"ga:keyword\",\"key_words_group\"])['ga:adClicks','ga:impressions'].sum().reset_index()\n",
    "output_SaatvaMattress_Brand=output_SaatvaMattress[output_SaatvaMattress['key_words_group']==\"Brand\"].sort_values('ga:date').reset_index()\n",
    "del output_SaatvaMattress_Brand['index']\n",
    "\n",
    "output_SaatvaMattress_Brand.to_excel(writer,\"SaatvaMattress_Brand\",index=False)\n",
    "output_SaatvaMattress.to_excel(writer,\"SaatvaMattress_Keywords\",index=False)"
   ]
  },
  {
   "cell_type": "code",
   "execution_count": null,
   "metadata": {
    "collapsed": true
   },
   "outputs": [],
   "source": []
  },
  {
   "cell_type": "code",
   "execution_count": 25,
   "metadata": {
    "collapsed": true
   },
   "outputs": [],
   "source": [
    "taxonomy=taxonomy_Saatva.append(taxonomy_SaatvaMattress)\n",
    "taxonomy.to_excel(writer,\"taxonomy\",index=False)\n",
    "writer.save()"
   ]
  },
  {
   "cell_type": "code",
   "execution_count": null,
   "metadata": {
    "collapsed": true
   },
   "outputs": [],
   "source": []
  },
  {
   "cell_type": "markdown",
   "metadata": {},
   "source": [
    "# Google AdWords"
   ]
  },
  {
   "cell_type": "code",
   "execution_count": 26,
   "metadata": {
    "collapsed": true
   },
   "outputs": [],
   "source": [
    "def get_client(config_path='googleads_saatva.yaml'):\n",
    "    return adwords.AdWordsClient.LoadFromStorage(config_path)\n",
    "\n",
    "def download_report_as_stream(client, report_type, fields, start_date, end_date):\n",
    "    '''Download Adwords report, then save as csv file to base_dir\n",
    "    Args:\n",
    "        client: adwords.AdWordsClient.LoadFromStorage()\n",
    "        report_type: str eg. 'KEYWORDS_PERFORMANCE_REPORT'\n",
    "        fields: list eg. [\"CampaignId\", \"CampaignName\", ... ]\n",
    "        start_date: str, eg. '2018-02-11'\n",
    "        end_date: str, eg.\n",
    "    Return:\n",
    "        str, path to csv file\n",
    "    '''\n",
    "    report_downloader = client.GetReportDownloader(version='v201802')\n",
    "    # Create report definition.\n",
    "    report = {\n",
    "        'reportName': report_type,\n",
    "        'dateRangeType': 'CUSTOM_DATE',\n",
    "        'reportType': report_type,\n",
    "        'downloadFormat': 'CSV',\n",
    "        'selector': {\n",
    "            'fields': fields,\n",
    "            'dateRange': {\n",
    "                'min': start_date,\n",
    "                'max': end_date}\n",
    "        }\n",
    "    }\n",
    "\n",
    "    # save output\n",
    "    return report_downloader.DownloadReportAsStream(report, \n",
    "        skip_report_header=True, skip_column_header=False,\n",
    "        skip_report_summary=True)\n",
    "\n"
   ]
  },
  {
   "cell_type": "code",
   "execution_count": 27,
   "metadata": {
    "collapsed": true
   },
   "outputs": [],
   "source": [
    "client_Saatva = get_client(config_path='/home/jian/Projects/Saatva/To_Lexie_and_Connor/googleads_saatva_JL_Saatva.yaml')\n",
    "report_type = 'CAMPAIGN_PERFORMANCE_REPORT'\n",
    "fields = [\"AccountDescriptiveName\",\"CampaignName\",\"Date\",\"HourOfDay\",\"AdvertisingChannelType\",\"AdNetworkType1\",\"AdNetworkType2\",\"Impressions\", \"Clicks\", \"Cost\"]\n",
    "response_Saatva = download_report_as_stream(client_Saatva, report_type, fields, Start_Date_overall, End_Data_overall)\n",
    "Saatva_Click = pd.read_csv(response_Saatva)\n",
    "Saatva_Click['Cost']=Saatva_Click['Cost'].apply(lambda x: x/1000000)\n",
    "Saatva_Click['Channel_Network']=Saatva_Click['Advertising Channel']+\"|\"+Saatva_Click['Network']+\"|\"+Saatva_Click['Network (with search partners)']"
   ]
  },
  {
   "cell_type": "code",
   "execution_count": 28,
   "metadata": {},
   "outputs": [
    {
     "data": {
      "text/plain": [
       "array(['Display|Display Network|Display Network',\n",
       "       'Video|YouTube Search|YouTube Search'], dtype=object)"
      ]
     },
     "execution_count": 28,
     "metadata": {},
     "output_type": "execute_result"
    }
   ],
   "source": [
    "client_Saatva_Branding = get_client(config_path='/home/jian/Projects/Saatva/To_Lexie_and_Connor/googleads_saatva_JL_Saatva_Branding.yaml')\n",
    "report_type = 'CAMPAIGN_PERFORMANCE_REPORT'\n",
    "fields = [\"AccountDescriptiveName\",\"CampaignName\",\"Date\",\"HourOfDay\",\"AdvertisingChannelType\",\"AdNetworkType1\",\"AdNetworkType2\",\"Impressions\", \"Clicks\", \"Cost\"]\n",
    "response_Saatva_Branding = download_report_as_stream(client_Saatva_Branding, report_type, fields, Start_Date_overall, End_Data_overall)\n",
    "Saatva_Brand_Click = pd.read_csv(response_Saatva_Branding)\n",
    "Saatva_Brand_Click['Cost']=Saatva_Brand_Click['Cost'].apply(lambda x: x/1000000)\n",
    "Saatva_Brand_Click['Channel_Network']=Saatva_Brand_Click['Advertising Channel']+\"|\"+Saatva_Brand_Click['Network']+\"|\"+Saatva_Brand_Click['Network (with search partners)']\n",
    "Saatva_Brand_Click['Channel_Network'].unique()"
   ]
  },
  {
   "cell_type": "code",
   "execution_count": 29,
   "metadata": {
    "collapsed": true
   },
   "outputs": [],
   "source": [
    "client_Saatva_Competitors = get_client(config_path='/home/jian/Projects/Saatva/To_Lexie_and_Connor/googleads_saatva_JL_Saatva_Competitors.yaml')\n",
    "report_type = 'CAMPAIGN_PERFORMANCE_REPORT'\n",
    "fields = [\"AccountDescriptiveName\",\"CampaignName\",\"Date\",\"HourOfDay\",\"AdvertisingChannelType\",\"AdNetworkType1\",\"AdNetworkType2\",\"Impressions\", \"Clicks\", \"Cost\"]\n",
    "response_Saatva_Competitor = download_report_as_stream(client_Saatva_Competitors, report_type, fields, Start_Date_overall, End_Data_overall)\n",
    "Saatva_Competitor_Click = pd.read_csv(response_Saatva_Competitor)\n",
    "Saatva_Competitor_Click['Cost']=Saatva_Competitor_Click['Cost'].apply(lambda x: x/1000000)\n",
    "Saatva_Competitor_Click['Channel_Network']=Saatva_Competitor_Click['Advertising Channel']+\"|\"+Saatva_Competitor_Click['Network']+\"|\"+Saatva_Competitor_Click['Network (with search partners)']\n",
    "\n"
   ]
  },
  {
   "cell_type": "code",
   "execution_count": 30,
   "metadata": {
    "collapsed": true
   },
   "outputs": [],
   "source": [
    "client_TheSaatvaCompany = get_client(config_path='/home/jian/Projects/Saatva/To_Lexie_and_Connor/googleads_saatva_JL_TheSaatvaCompany.yaml')\n",
    "report_type = 'CAMPAIGN_PERFORMANCE_REPORT'\n",
    "fields = [\"AccountDescriptiveName\",\"CampaignName\",\"Date\",\"HourOfDay\",\"AdvertisingChannelType\",\"AdNetworkType1\",\"AdNetworkType2\",\"Impressions\", \"Clicks\", \"Cost\"]\n",
    "response_TheSaatvaCompany = download_report_as_stream(client_TheSaatvaCompany, report_type, fields, Start_Date_overall, End_Data_overall)\n",
    "TheSaatvaCompany_Click = pd.read_csv(response_TheSaatvaCompany)\n",
    "TheSaatvaCompany_Click['Cost']=TheSaatvaCompany_Click['Cost'].apply(lambda x: x/1000000)\n",
    "TheSaatvaCompany_Click['Channel_Network']=TheSaatvaCompany_Click['Advertising Channel']+\"|\"+TheSaatvaCompany_Click['Network']+\"|\"+TheSaatvaCompany_Click['Network (with search partners)']\n",
    "\n"
   ]
  },
  {
   "cell_type": "code",
   "execution_count": 31,
   "metadata": {
    "collapsed": true
   },
   "outputs": [],
   "source": [
    "client_TheSaatvaCompanyBranding = get_client(config_path='/home/jian/Projects/Saatva/To_Lexie_and_Connor/googleads_saatva_JL_TheSaatvaCompanyBranding.yaml')\n",
    "report_type = 'CAMPAIGN_PERFORMANCE_REPORT'\n",
    "fields = [\"AccountDescriptiveName\",\"CampaignName\",\"Date\",\"HourOfDay\",\"AdvertisingChannelType\",\"AdNetworkType1\",\"AdNetworkType2\",\"Impressions\", \"Clicks\", \"Cost\"]\n",
    "response_TheSaatvaCompanyBranding = download_report_as_stream(client_TheSaatvaCompanyBranding, report_type, fields, Start_Date_overall, End_Data_overall)\n",
    "TheSaatvaCompanyBranding_Click = pd.read_csv(response_TheSaatvaCompanyBranding)\n",
    "TheSaatvaCompanyBranding_Click['Cost']=TheSaatvaCompanyBranding_Click['Cost'].apply(lambda x: x/1000000)\n",
    "TheSaatvaCompanyBranding_Click['Channel_Network']=TheSaatvaCompanyBranding_Click['Advertising Channel']+\"|\"+TheSaatvaCompanyBranding_Click['Network']+\"|\"+TheSaatvaCompanyBranding_Click['Network (with search partners)']\n",
    "\n"
   ]
  },
  {
   "cell_type": "code",
   "execution_count": 32,
   "metadata": {
    "collapsed": true
   },
   "outputs": [],
   "source": [
    "Saatva_Competitor_Click=Saatva_Competitor_Click[Saatva_Competitor_Click['Campaign'].apply(lambda x: x[len(x)-4:len(x)+1])==\"[SM]\"]\n",
    "Saatva_Competitor_Click.reset_index(inplace=True)\n",
    "del Saatva_Competitor_Click['index']\n",
    "# Keep only campaign labeled as \"[SM]\" in Saatva Competitor account\n",
    "# Broad and Exact ADL Non-Brand Search Partners are not included"
   ]
  },
  {
   "cell_type": "code",
   "execution_count": 33,
   "metadata": {},
   "outputs": [
    {
     "data": {
      "text/plain": [
       "{'Display|Display Network|Display Network',\n",
       " 'Search|Search Network|Google search',\n",
       " 'Search|Search Network|Search partners',\n",
       " 'Shopping|Search Network|Google search',\n",
       " 'Shopping|Search Network|Search partners',\n",
       " 'Video|Display Network|Display Network',\n",
       " 'Video|YouTube Search|YouTube Search',\n",
       " 'Video|YouTube Videos|YouTube Videos'}"
      ]
     },
     "execution_count": 33,
     "metadata": {},
     "output_type": "execute_result"
    }
   ],
   "source": [
    "set(Saatva_Click['Channel_Network'].unique().tolist()+Saatva_Brand_Click['Channel_Network'].unique().tolist()+Saatva_Competitor_Click['Channel_Network'].unique().tolist()+\\\n",
    "    TheSaatvaCompany_Click['Channel_Network'].unique().tolist()+TheSaatvaCompanyBranding_Click['Channel_Network'].unique().tolist())"
   ]
  },
  {
   "cell_type": "code",
   "execution_count": 34,
   "metadata": {
    "collapsed": true
   },
   "outputs": [],
   "source": [
    "df_all_adwords=Saatva_Click.append(Saatva_Brand_Click).append(Saatva_Competitor_Click)\n",
    "df_all_adwords=df_all_adwords.append(TheSaatvaCompany_Click).append(TheSaatvaCompanyBranding_Click)"
   ]
  },
  {
   "cell_type": "code",
   "execution_count": 35,
   "metadata": {},
   "outputs": [
    {
     "data": {
      "text/html": [
       "<div>\n",
       "<style>\n",
       "    .dataframe thead tr:only-child th {\n",
       "        text-align: right;\n",
       "    }\n",
       "\n",
       "    .dataframe thead th {\n",
       "        text-align: left;\n",
       "    }\n",
       "\n",
       "    .dataframe tbody tr th {\n",
       "        vertical-align: top;\n",
       "    }\n",
       "</style>\n",
       "<table border=\"1\" class=\"dataframe\">\n",
       "  <thead>\n",
       "    <tr style=\"text-align: right;\">\n",
       "      <th></th>\n",
       "      <th>Channel_Network</th>\n",
       "      <th>Impressions</th>\n",
       "      <th>Clicks</th>\n",
       "      <th>Cost</th>\n",
       "    </tr>\n",
       "  </thead>\n",
       "  <tbody>\n",
       "    <tr>\n",
       "      <th>5</th>\n",
       "      <td>Video|Display Network|Display Network</td>\n",
       "      <td>6540</td>\n",
       "      <td>17</td>\n",
       "      <td>34.395750</td>\n",
       "    </tr>\n",
       "    <tr>\n",
       "      <th>6</th>\n",
       "      <td>Video|YouTube Search|YouTube Search</td>\n",
       "      <td>592242</td>\n",
       "      <td>34</td>\n",
       "      <td>2049.600000</td>\n",
       "    </tr>\n",
       "    <tr>\n",
       "      <th>7</th>\n",
       "      <td>Video|YouTube Videos|YouTube Videos</td>\n",
       "      <td>18480762</td>\n",
       "      <td>81658</td>\n",
       "      <td>240075.153754</td>\n",
       "    </tr>\n",
       "  </tbody>\n",
       "</table>\n",
       "</div>"
      ],
      "text/plain": [
       "                         Channel_Network  Impressions  Clicks           Cost\n",
       "5  Video|Display Network|Display Network         6540      17      34.395750\n",
       "6    Video|YouTube Search|YouTube Search       592242      34    2049.600000\n",
       "7    Video|YouTube Videos|YouTube Videos     18480762   81658  240075.153754"
      ]
     },
     "execution_count": 35,
     "metadata": {},
     "output_type": "execute_result"
    }
   ],
   "source": [
    "df_s=df_all_adwords.groupby(['Channel_Network'])[['Impressions','Clicks','Cost']].sum().reset_index()\n",
    "df_s[df_s['Channel_Network'].apply(lambda x: \"Video\" in x)]"
   ]
  },
  {
   "cell_type": "code",
   "execution_count": 36,
   "metadata": {},
   "outputs": [
    {
     "data": {
      "text/html": [
       "<div>\n",
       "<style>\n",
       "    .dataframe thead tr:only-child th {\n",
       "        text-align: right;\n",
       "    }\n",
       "\n",
       "    .dataframe thead th {\n",
       "        text-align: left;\n",
       "    }\n",
       "\n",
       "    .dataframe tbody tr th {\n",
       "        vertical-align: top;\n",
       "    }\n",
       "</style>\n",
       "<table border=\"1\" class=\"dataframe\">\n",
       "  <thead>\n",
       "    <tr style=\"text-align: right;\">\n",
       "      <th></th>\n",
       "      <th>Account</th>\n",
       "      <th>Campaign</th>\n",
       "      <th>Day</th>\n",
       "      <th>Hour of day</th>\n",
       "      <th>Advertising Channel</th>\n",
       "      <th>Network</th>\n",
       "      <th>Network (with search partners)</th>\n",
       "      <th>Impressions</th>\n",
       "      <th>Clicks</th>\n",
       "      <th>Cost</th>\n",
       "      <th>Channel_Network</th>\n",
       "    </tr>\n",
       "  </thead>\n",
       "  <tbody>\n",
       "    <tr>\n",
       "      <th>0</th>\n",
       "      <td>Saatva</td>\n",
       "      <td>[ADL Shopping] Saatva - {Brand} - (Mobile)</td>\n",
       "      <td>2018-10-06</td>\n",
       "      <td>17</td>\n",
       "      <td>Shopping</td>\n",
       "      <td>Search Network</td>\n",
       "      <td>Search partners</td>\n",
       "      <td>13</td>\n",
       "      <td>0</td>\n",
       "      <td>0.0</td>\n",
       "      <td>Shopping|Search Network|Search partners</td>\n",
       "    </tr>\n",
       "    <tr>\n",
       "      <th>1</th>\n",
       "      <td>Saatva</td>\n",
       "      <td>[ADL Shopping] Saatva - {Brand} - (Mobile)</td>\n",
       "      <td>2018-10-11</td>\n",
       "      <td>2</td>\n",
       "      <td>Shopping</td>\n",
       "      <td>Search Network</td>\n",
       "      <td>Google search</td>\n",
       "      <td>38</td>\n",
       "      <td>0</td>\n",
       "      <td>0.0</td>\n",
       "      <td>Shopping|Search Network|Google search</td>\n",
       "    </tr>\n",
       "  </tbody>\n",
       "</table>\n",
       "</div>"
      ],
      "text/plain": [
       "  Account                                    Campaign         Day  \\\n",
       "0  Saatva  [ADL Shopping] Saatva - {Brand} - (Mobile)  2018-10-06   \n",
       "1  Saatva  [ADL Shopping] Saatva - {Brand} - (Mobile)  2018-10-11   \n",
       "\n",
       "   Hour of day Advertising Channel         Network  \\\n",
       "0           17            Shopping  Search Network   \n",
       "1            2            Shopping  Search Network   \n",
       "\n",
       "  Network (with search partners)  Impressions  Clicks  Cost  \\\n",
       "0                Search partners           13       0   0.0   \n",
       "1                  Google search           38       0   0.0   \n",
       "\n",
       "                           Channel_Network  \n",
       "0  Shopping|Search Network|Search partners  \n",
       "1    Shopping|Search Network|Google search  "
      ]
     },
     "execution_count": 36,
     "metadata": {},
     "output_type": "execute_result"
    }
   ],
   "source": [
    "df_all_adwords.head(2)"
   ]
  },
  {
   "cell_type": "code",
   "execution_count": 37,
   "metadata": {},
   "outputs": [
    {
     "data": {
      "text/plain": [
       "34.39575"
      ]
     },
     "execution_count": 37,
     "metadata": {},
     "output_type": "execute_result"
    }
   ],
   "source": [
    "df_all_adwords[df_all_adwords['Channel_Network']==\"Video|Display Network|Display Network\"]['Cost'].sum()"
   ]
  },
  {
   "cell_type": "code",
   "execution_count": 38,
   "metadata": {},
   "outputs": [
    {
     "data": {
      "text/plain": [
       "2049.5999999999999"
      ]
     },
     "execution_count": 38,
     "metadata": {},
     "output_type": "execute_result"
    }
   ],
   "source": [
    "df_all_adwords[df_all_adwords['Channel_Network']==\"Video|YouTube Search|YouTube Search\"]['Cost'].sum()"
   ]
  },
  {
   "cell_type": "code",
   "execution_count": 39,
   "metadata": {},
   "outputs": [
    {
     "data": {
      "text/plain": [
       "240075.15375400003"
      ]
     },
     "execution_count": 39,
     "metadata": {},
     "output_type": "execute_result"
    }
   ],
   "source": [
    "df_all_adwords[df_all_adwords['Channel_Network']==\"Video|YouTube Videos|YouTube Videos\"]['Cost'].sum()"
   ]
  },
  {
   "cell_type": "code",
   "execution_count": 40,
   "metadata": {},
   "outputs": [
    {
     "data": {
      "text/plain": [
       "datetime.date(2018, 9, 11)"
      ]
     },
     "execution_count": 40,
     "metadata": {},
     "output_type": "execute_result"
    }
   ],
   "source": [
    "df_all_adwords[df_all_adwords['Channel_Network']==\"Video|Display Network|Display Network\"]['Day'].apply(lambda x: datetime.datetime.strptime(x,\"%Y-%m-%d\").date()).min()"
   ]
  },
  {
   "cell_type": "code",
   "execution_count": 41,
   "metadata": {},
   "outputs": [
    {
     "data": {
      "text/plain": [
       "datetime.date(2018, 9, 19)"
      ]
     },
     "execution_count": 41,
     "metadata": {},
     "output_type": "execute_result"
    }
   ],
   "source": [
    "df_all_adwords[df_all_adwords['Channel_Network']==\"Video|Display Network|Display Network\"]['Day'].apply(lambda x: datetime.datetime.strptime(x,\"%Y-%m-%d\").date()).max()"
   ]
  },
  {
   "cell_type": "code",
   "execution_count": 42,
   "metadata": {},
   "outputs": [
    {
     "data": {
      "text/plain": [
       "datetime.date(2018, 9, 11)"
      ]
     },
     "execution_count": 42,
     "metadata": {},
     "output_type": "execute_result"
    }
   ],
   "source": [
    "df_all_adwords[df_all_adwords['Channel_Network']==\"Video|YouTube Search|YouTube Search\"]['Day'].apply(lambda x: datetime.datetime.strptime(x,\"%Y-%m-%d\").date()).min()"
   ]
  },
  {
   "cell_type": "code",
   "execution_count": 43,
   "metadata": {},
   "outputs": [
    {
     "data": {
      "text/plain": [
       "datetime.date(2018, 10, 18)"
      ]
     },
     "execution_count": 43,
     "metadata": {},
     "output_type": "execute_result"
    }
   ],
   "source": [
    "df_all_adwords[df_all_adwords['Channel_Network']==\"Video|YouTube Search|YouTube Search\"]['Day'].apply(lambda x: datetime.datetime.strptime(x,\"%Y-%m-%d\").date()).max()"
   ]
  },
  {
   "cell_type": "code",
   "execution_count": 44,
   "metadata": {},
   "outputs": [
    {
     "data": {
      "text/plain": [
       "datetime.date(2018, 9, 11)"
      ]
     },
     "execution_count": 44,
     "metadata": {},
     "output_type": "execute_result"
    }
   ],
   "source": [
    "df_all_adwords[df_all_adwords['Channel_Network']==\"Video|YouTube Videos|YouTube Videos\"]['Day'].apply(lambda x: datetime.datetime.strptime(x,\"%Y-%m-%d\").date()).min()"
   ]
  },
  {
   "cell_type": "code",
   "execution_count": 45,
   "metadata": {},
   "outputs": [
    {
     "data": {
      "text/plain": [
       "datetime.date(2018, 10, 18)"
      ]
     },
     "execution_count": 45,
     "metadata": {},
     "output_type": "execute_result"
    }
   ],
   "source": [
    "df_all_adwords[df_all_adwords['Channel_Network']==\"Video|YouTube Videos|YouTube Videos\"]['Day'].apply(lambda x: datetime.datetime.strptime(x,\"%Y-%m-%d\").date()).max()"
   ]
  },
  {
   "cell_type": "code",
   "execution_count": 46,
   "metadata": {},
   "outputs": [
    {
     "name": "stderr",
     "output_type": "stream",
     "text": [
      "/usr/local/lib/python3.6/site-packages/ipykernel_launcher.py:2: SettingWithCopyWarning: \n",
      "A value is trying to be set on a copy of a slice from a DataFrame.\n",
      "Try using .loc[row_indexer,col_indexer] = value instead\n",
      "\n",
      "See the caveats in the documentation: http://pandas.pydata.org/pandas-docs/stable/indexing.html#indexing-view-versus-copy\n",
      "  \n"
     ]
    },
    {
     "data": {
      "text/plain": [
       "9427.5978470000009"
      ]
     },
     "execution_count": 46,
     "metadata": {},
     "output_type": "execute_result"
    }
   ],
   "source": [
    "df_x=df_all_adwords[df_all_adwords['Channel_Network']==\"Video|YouTube Videos|YouTube Videos\"]\n",
    "df_x['Day']=df_x['Day'].apply(lambda x: datetime.datetime.strptime(x,\"%Y-%m-%d\").date())\n",
    "df_x[df_x['Day']<datetime.date(2018,9,19)]['Cost'].sum()"
   ]
  },
  {
   "cell_type": "code",
   "execution_count": 47,
   "metadata": {},
   "outputs": [
    {
     "data": {
      "text/html": [
       "<div>\n",
       "<style>\n",
       "    .dataframe thead tr:only-child th {\n",
       "        text-align: right;\n",
       "    }\n",
       "\n",
       "    .dataframe thead th {\n",
       "        text-align: left;\n",
       "    }\n",
       "\n",
       "    .dataframe tbody tr th {\n",
       "        vertical-align: top;\n",
       "    }\n",
       "</style>\n",
       "<table border=\"1\" class=\"dataframe\">\n",
       "  <thead>\n",
       "    <tr style=\"text-align: right;\">\n",
       "      <th></th>\n",
       "      <th>Account</th>\n",
       "      <th>Campaign</th>\n",
       "      <th>Day</th>\n",
       "      <th>Hour of day</th>\n",
       "      <th>Advertising Channel</th>\n",
       "      <th>Network</th>\n",
       "      <th>Network (with search partners)</th>\n",
       "      <th>Impressions</th>\n",
       "      <th>Clicks</th>\n",
       "      <th>Cost</th>\n",
       "      <th>Channel_Network</th>\n",
       "    </tr>\n",
       "  </thead>\n",
       "  <tbody>\n",
       "    <tr>\n",
       "      <th>762</th>\n",
       "      <td>Saatva</td>\n",
       "      <td>[ADL] [Video] [Trueview for Shopping] [US] Rem...</td>\n",
       "      <td>2018-09-13</td>\n",
       "      <td>17</td>\n",
       "      <td>Video</td>\n",
       "      <td>YouTube Videos</td>\n",
       "      <td>YouTube Videos</td>\n",
       "      <td>877</td>\n",
       "      <td>3</td>\n",
       "      <td>30.694530</td>\n",
       "      <td>Video|YouTube Videos|YouTube Videos</td>\n",
       "    </tr>\n",
       "    <tr>\n",
       "      <th>763</th>\n",
       "      <td>Saatva</td>\n",
       "      <td>[ADL] [Video] [Trueview for Shopping] [US] Rem...</td>\n",
       "      <td>2018-09-14</td>\n",
       "      <td>3</td>\n",
       "      <td>Video</td>\n",
       "      <td>YouTube Videos</td>\n",
       "      <td>YouTube Videos</td>\n",
       "      <td>159</td>\n",
       "      <td>0</td>\n",
       "      <td>5.966301</td>\n",
       "      <td>Video|YouTube Videos|YouTube Videos</td>\n",
       "    </tr>\n",
       "    <tr>\n",
       "      <th>800</th>\n",
       "      <td>Saatva</td>\n",
       "      <td>[ADL] [Video] [Trueview for Shopping] [US] Rem...</td>\n",
       "      <td>2018-09-17</td>\n",
       "      <td>11</td>\n",
       "      <td>Video</td>\n",
       "      <td>YouTube Videos</td>\n",
       "      <td>YouTube Videos</td>\n",
       "      <td>565</td>\n",
       "      <td>3</td>\n",
       "      <td>31.152575</td>\n",
       "      <td>Video|YouTube Videos|YouTube Videos</td>\n",
       "    </tr>\n",
       "    <tr>\n",
       "      <th>...</th>\n",
       "      <td>...</td>\n",
       "      <td>...</td>\n",
       "      <td>...</td>\n",
       "      <td>...</td>\n",
       "      <td>...</td>\n",
       "      <td>...</td>\n",
       "      <td>...</td>\n",
       "      <td>...</td>\n",
       "      <td>...</td>\n",
       "      <td>...</td>\n",
       "      <td>...</td>\n",
       "    </tr>\n",
       "    <tr>\n",
       "      <th>89802</th>\n",
       "      <td>Saatva</td>\n",
       "      <td>[ADL] [Video] [In-Stream] [US] Remarketing - [...</td>\n",
       "      <td>2018-09-14</td>\n",
       "      <td>1</td>\n",
       "      <td>Video</td>\n",
       "      <td>YouTube Videos</td>\n",
       "      <td>YouTube Videos</td>\n",
       "      <td>326</td>\n",
       "      <td>2</td>\n",
       "      <td>7.178965</td>\n",
       "      <td>Video|YouTube Videos|YouTube Videos</td>\n",
       "    </tr>\n",
       "    <tr>\n",
       "      <th>89827</th>\n",
       "      <td>Saatva</td>\n",
       "      <td>[ADL] [Video] [In-Stream] [US] Remarketing - [...</td>\n",
       "      <td>2018-09-17</td>\n",
       "      <td>15</td>\n",
       "      <td>Video</td>\n",
       "      <td>YouTube Videos</td>\n",
       "      <td>YouTube Videos</td>\n",
       "      <td>531</td>\n",
       "      <td>2</td>\n",
       "      <td>11.963967</td>\n",
       "      <td>Video|YouTube Videos|YouTube Videos</td>\n",
       "    </tr>\n",
       "    <tr>\n",
       "      <th>89829</th>\n",
       "      <td>Saatva</td>\n",
       "      <td>[ADL] [Video] [In-Stream] [US] Remarketing - [...</td>\n",
       "      <td>2018-09-13</td>\n",
       "      <td>21</td>\n",
       "      <td>Video</td>\n",
       "      <td>YouTube Videos</td>\n",
       "      <td>YouTube Videos</td>\n",
       "      <td>701</td>\n",
       "      <td>9</td>\n",
       "      <td>12.687650</td>\n",
       "      <td>Video|YouTube Videos|YouTube Videos</td>\n",
       "    </tr>\n",
       "  </tbody>\n",
       "</table>\n",
       "<p>706 rows × 11 columns</p>\n",
       "</div>"
      ],
      "text/plain": [
       "      Account                                           Campaign         Day  \\\n",
       "762    Saatva  [ADL] [Video] [Trueview for Shopping] [US] Rem...  2018-09-13   \n",
       "763    Saatva  [ADL] [Video] [Trueview for Shopping] [US] Rem...  2018-09-14   \n",
       "800    Saatva  [ADL] [Video] [Trueview for Shopping] [US] Rem...  2018-09-17   \n",
       "...       ...                                                ...         ...   \n",
       "89802  Saatva  [ADL] [Video] [In-Stream] [US] Remarketing - [...  2018-09-14   \n",
       "89827  Saatva  [ADL] [Video] [In-Stream] [US] Remarketing - [...  2018-09-17   \n",
       "89829  Saatva  [ADL] [Video] [In-Stream] [US] Remarketing - [...  2018-09-13   \n",
       "\n",
       "       Hour of day Advertising Channel         Network  \\\n",
       "762             17               Video  YouTube Videos   \n",
       "763              3               Video  YouTube Videos   \n",
       "800             11               Video  YouTube Videos   \n",
       "...            ...                 ...             ...   \n",
       "89802            1               Video  YouTube Videos   \n",
       "89827           15               Video  YouTube Videos   \n",
       "89829           21               Video  YouTube Videos   \n",
       "\n",
       "      Network (with search partners)  Impressions  Clicks       Cost  \\\n",
       "762                   YouTube Videos          877       3  30.694530   \n",
       "763                   YouTube Videos          159       0   5.966301   \n",
       "800                   YouTube Videos          565       3  31.152575   \n",
       "...                              ...          ...     ...        ...   \n",
       "89802                 YouTube Videos          326       2   7.178965   \n",
       "89827                 YouTube Videos          531       2  11.963967   \n",
       "89829                 YouTube Videos          701       9  12.687650   \n",
       "\n",
       "                           Channel_Network  \n",
       "762    Video|YouTube Videos|YouTube Videos  \n",
       "763    Video|YouTube Videos|YouTube Videos  \n",
       "800    Video|YouTube Videos|YouTube Videos  \n",
       "...                                    ...  \n",
       "89802  Video|YouTube Videos|YouTube Videos  \n",
       "89827  Video|YouTube Videos|YouTube Videos  \n",
       "89829  Video|YouTube Videos|YouTube Videos  \n",
       "\n",
       "[706 rows x 11 columns]"
      ]
     },
     "execution_count": 47,
     "metadata": {},
     "output_type": "execute_result"
    }
   ],
   "source": [
    "df_x[df_x['Day']<datetime.date(2018,9,19)]"
   ]
  },
  {
   "cell_type": "code",
   "execution_count": null,
   "metadata": {
    "collapsed": true
   },
   "outputs": [],
   "source": []
  },
  {
   "cell_type": "code",
   "execution_count": null,
   "metadata": {
    "collapsed": true
   },
   "outputs": [],
   "source": []
  },
  {
   "cell_type": "code",
   "execution_count": 48,
   "metadata": {
    "collapsed": true
   },
   "outputs": [],
   "source": [
    "'''\n",
    "Saatva_Click=Saatva_Click[~((Saatva_Click['Campaign'].str.contains(\"Loom\")) | (Saatva_Click['Campaign'].str.contains(\"Leaf\")) | (Saatva_Click['Campaign'].str.contains(\"Zenhaven\")))]\n",
    "TheSaatvaCompany_Click=TheSaatvaCompany_Click[~((TheSaatvaCompany_Click['Campaign'].str.contains(\"Loom\")) | (TheSaatvaCompany_Click['Campaign'].str.contains(\"Leaf\")) | (TheSaatvaCompany_Click['Campaign'].str.contains(\"Zenhaven\")))]\n",
    "TheSaatvaCompanyBranding_Click=TheSaatvaCompanyBranding_Click[~((TheSaatvaCompanyBranding_Click['Campaign'].str.contains(\"Loom\")) | (TheSaatvaCompanyBranding_Click['Campaign'].str.contains(\"Leaf\")) | (TheSaatvaCompanyBranding_Click['Campaign'].str.contains(\"Zenhaven\")))]\n",
    "'''\n",
    "# No need to exclude the compaigns because of the small pctg\n",
    "\n",
    "Saatva_Click['Campaign_Type']=Saatva_Click['Advertising Channel'].apply(lambda x: x.replace(\"Search\",\"SEM\").replace(\"Shopping\",\"PLA\"))\n",
    "Saatva_Brand_Click['Campaign_Type']=Saatva_Brand_Click['Advertising Channel'].apply(lambda x: x.replace(\"Search\",\"SEM_Brand\").replace(\"Shopping\",\"PLA\"))\n",
    "Saatva_Competitor_Click['Campaign_Type']=\"SEM_Non_Brand\" # Because it's all labeled as Non-Brand in Campaign and in Search Only Campaign Type\n",
    "TheSaatvaCompany_Click['Campaign_Type']=TheSaatvaCompany_Click['Advertising Channel'].apply(lambda x: x.replace(\"Search\",\"SEM\").replace(\"Shopping\",\"PLA\"))\n",
    "TheSaatvaCompanyBranding_Click['Campaign_Type']=TheSaatvaCompanyBranding_Click['Advertising Channel'].apply(lambda x: x.replace(\"Search\",\"SEM\").replace(\"Shopping\",\"PLA\"))\n"
   ]
  },
  {
   "cell_type": "code",
   "execution_count": 49,
   "metadata": {},
   "outputs": [
    {
     "name": "stderr",
     "output_type": "stream",
     "text": [
      "/usr/local/lib/python3.6/site-packages/ipykernel_launcher.py:7: SettingWithCopyWarning: \n",
      "A value is trying to be set on a copy of a slice from a DataFrame.\n",
      "Try using .loc[row_indexer,col_indexer] = value instead\n",
      "\n",
      "See the caveats in the documentation: http://pandas.pydata.org/pandas-docs/stable/indexing.html#indexing-view-versus-copy\n",
      "  import sys\n"
     ]
    },
    {
     "data": {
      "text/plain": [
       "0"
      ]
     },
     "execution_count": 49,
     "metadata": {},
     "output_type": "execute_result"
    }
   ],
   "source": [
    "# Split Saatva\n",
    "# 'Search Network with Display Select' Campaign Type all 0 Impr and Clicks\n",
    "Saatva_Click_Search=Saatva_Click[Saatva_Click['Advertising Channel']=='Search']\n",
    "Saatva_Click_Others=Saatva_Click[Saatva_Click['Advertising Channel']!='Search']\n",
    "\n",
    "Saatva_Click_Search['Campaign_Type']=np.where((Saatva_Click_Search['Campaign'].str.contains(\"Branded\")) | (Saatva_Click_Search['Campaign'].str.contains(\" Brand \")) | (Saatva_Click_Search['Campaign'].str.contains(\"Co-Brand\")) | (Saatva_Click_Search['Campaign'].str.contains(\"\\[Brand\\]\")),\"SEM_Brand\",\n",
    "                                                 np.where((Saatva_Click_Search['Campaign'].str.contains(\"Non-Brand\")) | (Saatva_Click_Search['Campaign'].str.contains(\"Dynamic Search Ads\")),\"SEM_Non_Brand\",\"NA\"))\n",
    "Saatva_Click_Search_1=Saatva_Click_Search[Saatva_Click_Search['Campaign_Type']!=\"NA\"]\n",
    "Saatva_Click_Search_2=Saatva_Click_Search[Saatva_Click_Search['Campaign_Type']==\"NA\"]\n",
    "len(Saatva_Click_Search_2) # Make sure it's 0"
   ]
  },
  {
   "cell_type": "code",
   "execution_count": 50,
   "metadata": {},
   "outputs": [
    {
     "name": "stderr",
     "output_type": "stream",
     "text": [
      "/usr/local/lib/python3.6/site-packages/ipykernel_launcher.py:7: SettingWithCopyWarning: \n",
      "A value is trying to be set on a copy of a slice from a DataFrame.\n",
      "Try using .loc[row_indexer,col_indexer] = value instead\n",
      "\n",
      "See the caveats in the documentation: http://pandas.pydata.org/pandas-docs/stable/indexing.html#indexing-view-versus-copy\n",
      "  import sys\n"
     ]
    },
    {
     "data": {
      "text/plain": [
       "0"
      ]
     },
     "execution_count": 50,
     "metadata": {},
     "output_type": "execute_result"
    }
   ],
   "source": [
    "# Split TheSaatvaCompany\n",
    "\n",
    "TheSaatvaCompany_Click_Search=TheSaatvaCompany_Click[TheSaatvaCompany_Click['Advertising Channel']=='Search']\n",
    "TheSaatvaCompany_Click_Others=TheSaatvaCompany_Click[TheSaatvaCompany_Click['Advertising Channel']!='Search']\n",
    "\n",
    "TheSaatvaCompany_Click_Search['Campaign_Type']=np.where((TheSaatvaCompany_Click_Search['Campaign'].str.contains(\"Branded\")) | (TheSaatvaCompany_Click_Search['Campaign'].str.contains(\" Brand \")) | (TheSaatvaCompany_Click_Search['Campaign'].str.contains(\"Co-Brand\")) | (TheSaatvaCompany_Click_Search['Campaign'].str.contains(\"\\[Brand\\]\")),\"SEM_Brand\",\n",
    "                                                 np.where((TheSaatvaCompany_Click_Search['Campaign'].str.contains(\"Non-Brand\")) | (TheSaatvaCompany_Click_Search['Campaign'].str.contains(\"Dynamic Search Ads\")),\"SEM_Non_Brand\",\"NA\"))\n",
    "TheSaatvaCompany_Click_Search_1=TheSaatvaCompany_Click_Search[TheSaatvaCompany_Click_Search['Campaign_Type']!=\"NA\"]\n",
    "TheSaatvaCompany_Click_Search_2=TheSaatvaCompany_Click_Search[TheSaatvaCompany_Click_Search['Campaign_Type']==\"NA\"]\n",
    "len(TheSaatvaCompany_Click_Search_2) # Make sure it's 0"
   ]
  },
  {
   "cell_type": "code",
   "execution_count": 51,
   "metadata": {},
   "outputs": [
    {
     "data": {
      "text/plain": [
       "'\\nSaatva_keywords=pd.read_csv(\"/home/jian/Projects/Saatva/To_Lexie_and_Connor/AdWords/saatva_keywords.csv\",dtype=str,skiprows=2)\\nSaatva_Brand_keywords=pd.read_csv(\"/home/jian/Projects/Saatva/To_Lexie_and_Connor/AdWords/saatva branding_keywords.csv\",dtype=str)\\nSaatva_Competitor_keywords=pd.read_csv(\"/home/jian/Projects/Saatva/To_Lexie_and_Connor/AdWords/saatva competitors_keywords.csv\",dtype=str,skiprows=2)\\n\\nSaatva_keywords=Saatva_keywords[~((Saatva_keywords[\\'Campaign\\'].str.contains(\"Loom\")) | (Saatva_keywords[\\'Campaign\\'].str.contains(\"Leaf\")) | (Saatva_keywords[\\'Campaign\\'].str.contains(\"Zenhaven\")))]\\nSaatva_keywords[\\'Campaign_Type\\']=np.where(Saatva_keywords[\\'Search keyword\\'].str.contains(\"aatva\"),\"SEM_Brand\",\"SEM_Non_Brand\")\\nSaatva_keywords[\\'Impressions\\']=Saatva_keywords[\\'Impressions\\'].apply(lambda x: int(x.replace(\",\",\"\")))\\nSaatva_keywords[\\'Impressions\\']=Saatva_keywords[\\'Impressions\\'].astype(int)\\nSaatva_keywords[\\'Clicks\\']=Saatva_keywords[\\'Clicks\\'].apply(lambda x: int(x.replace(\",\",\"\")))\\nSaatva_keywords[\\'Clicks\\']=Saatva_keywords[\\'Clicks\\'].astype(int)\\nSaatva_keywords=Saatva_keywords.groupby([\\'Campaign\\',\\'Campaign_Type\\'])[\\'Impressions\\',\\'Clicks\\'].sum()\\nSaatva_keywords.reset_index(inplace=True)\\nSaatva_keywords=Saatva_keywords.sort_values([\\'Campaign\\',\\'Impressions\\'])\\nSaatva_keywords=Saatva_keywords.drop_duplicates(\\'Campaign\\')\\nSaatva_Campaign_Type=Saatva_keywords[[\\'Campaign\\',\\'Campaign_Type\\']]\\n\\ndel Saatva_Click_Search_2[\\'Campaign_Type\\']\\nSaatva_Click_Search_2=pd.merge(Saatva_Click_Search_2,Saatva_Campaign_Type,on=\"Campaign\",how=\"left\")\\n\\nSaatva_Search_Click=Saatva_Click_Search_1.append(Saatva_Click_Search_2)\\nSaatva_Search_Click[\\'Campaign_Type\\']=Saatva_Search_Click[\\'Campaign_Type\\'].fillna(\"All_0_Values_and_No_Kws\")\\n'"
      ]
     },
     "execution_count": 51,
     "metadata": {},
     "output_type": "execute_result"
    }
   ],
   "source": [
    "# All campaing is able to differentiate from the name about brand and non-brand, so no need to go to keywords level\n",
    "'''\n",
    "Saatva_keywords=pd.read_csv(\"/home/jian/Projects/Saatva/To_Lexie_and_Connor/AdWords/saatva_keywords.csv\",dtype=str,skiprows=2)\n",
    "Saatva_Brand_keywords=pd.read_csv(\"/home/jian/Projects/Saatva/To_Lexie_and_Connor/AdWords/saatva branding_keywords.csv\",dtype=str)\n",
    "Saatva_Competitor_keywords=pd.read_csv(\"/home/jian/Projects/Saatva/To_Lexie_and_Connor/AdWords/saatva competitors_keywords.csv\",dtype=str,skiprows=2)\n",
    "\n",
    "Saatva_keywords=Saatva_keywords[~((Saatva_keywords['Campaign'].str.contains(\"Loom\")) | (Saatva_keywords['Campaign'].str.contains(\"Leaf\")) | (Saatva_keywords['Campaign'].str.contains(\"Zenhaven\")))]\n",
    "Saatva_keywords['Campaign_Type']=np.where(Saatva_keywords['Search keyword'].str.contains(\"aatva\"),\"SEM_Brand\",\"SEM_Non_Brand\")\n",
    "Saatva_keywords['Impressions']=Saatva_keywords['Impressions'].apply(lambda x: int(x.replace(\",\",\"\")))\n",
    "Saatva_keywords['Impressions']=Saatva_keywords['Impressions'].astype(int)\n",
    "Saatva_keywords['Clicks']=Saatva_keywords['Clicks'].apply(lambda x: int(x.replace(\",\",\"\")))\n",
    "Saatva_keywords['Clicks']=Saatva_keywords['Clicks'].astype(int)\n",
    "Saatva_keywords=Saatva_keywords.groupby(['Campaign','Campaign_Type'])['Impressions','Clicks'].sum()\n",
    "Saatva_keywords.reset_index(inplace=True)\n",
    "Saatva_keywords=Saatva_keywords.sort_values(['Campaign','Impressions'])\n",
    "Saatva_keywords=Saatva_keywords.drop_duplicates('Campaign')\n",
    "Saatva_Campaign_Type=Saatva_keywords[['Campaign','Campaign_Type']]\n",
    "\n",
    "del Saatva_Click_Search_2['Campaign_Type']\n",
    "Saatva_Click_Search_2=pd.merge(Saatva_Click_Search_2,Saatva_Campaign_Type,on=\"Campaign\",how=\"left\")\n",
    "\n",
    "Saatva_Search_Click=Saatva_Click_Search_1.append(Saatva_Click_Search_2)\n",
    "Saatva_Search_Click['Campaign_Type']=Saatva_Search_Click['Campaign_Type'].fillna(\"All_0_Values_and_No_Kws\")\n",
    "'''"
   ]
  },
  {
   "cell_type": "code",
   "execution_count": 52,
   "metadata": {},
   "outputs": [
    {
     "data": {
      "text/html": [
       "<div>\n",
       "<style>\n",
       "    .dataframe thead tr:only-child th {\n",
       "        text-align: right;\n",
       "    }\n",
       "\n",
       "    .dataframe thead th {\n",
       "        text-align: left;\n",
       "    }\n",
       "\n",
       "    .dataframe tbody tr th {\n",
       "        vertical-align: top;\n",
       "    }\n",
       "</style>\n",
       "<table border=\"1\" class=\"dataframe\">\n",
       "  <thead>\n",
       "    <tr style=\"text-align: right;\">\n",
       "      <th></th>\n",
       "      <th>Account</th>\n",
       "      <th>Campaign</th>\n",
       "      <th>Day</th>\n",
       "      <th>Hour of day</th>\n",
       "      <th>Advertising Channel</th>\n",
       "      <th>Network</th>\n",
       "      <th>Network (with search partners)</th>\n",
       "      <th>Impressions</th>\n",
       "      <th>Clicks</th>\n",
       "      <th>Cost</th>\n",
       "      <th>Channel_Network</th>\n",
       "      <th>Campaign_Type</th>\n",
       "    </tr>\n",
       "  </thead>\n",
       "  <tbody>\n",
       "  </tbody>\n",
       "</table>\n",
       "</div>"
      ],
      "text/plain": [
       "Empty DataFrame\n",
       "Columns: [Account, Campaign, Day, Hour of day, Advertising Channel, Network, Network (with search partners), Impressions, Clicks, Cost, Channel_Network, Campaign_Type]\n",
       "Index: []"
      ]
     },
     "execution_count": 52,
     "metadata": {},
     "output_type": "execute_result"
    }
   ],
   "source": [
    "Saatva_Click_Search_2.head(2)"
   ]
  },
  {
   "cell_type": "code",
   "execution_count": 53,
   "metadata": {
    "collapsed": true
   },
   "outputs": [],
   "source": [
    "Saatva_Click=Saatva_Click_Search.append(Saatva_Click_Others)\n",
    "TheSaatvaCompany_Click=TheSaatvaCompany_Click_Search.append(TheSaatvaCompany_Click_Others)\n"
   ]
  },
  {
   "cell_type": "code",
   "execution_count": 54,
   "metadata": {
    "collapsed": true
   },
   "outputs": [],
   "source": [
    "writer=pd.ExcelWriter(writer_folder+\"/Saatva_AdWords_\"+Start_Date_overall+\"_to_\"+End_Data_overall+week+\"_cost.xlsx\",engine='xlsxwriter')"
   ]
  },
  {
   "cell_type": "code",
   "execution_count": 55,
   "metadata": {
    "collapsed": true
   },
   "outputs": [],
   "source": [
    "Saatva_Agg=Saatva_Click.append(Saatva_Brand_Click).append(Saatva_Competitor_Click).append(TheSaatvaCompany_Click).append(TheSaatvaCompanyBranding_Click)\n",
    "Saatva_Agg['Day']=Saatva_Agg['Day'].apply(lambda x: datetime.datetime.strptime(x,\"%Y-%m-%d\").date())\n",
    "Saatva_Agg.reset_index(inplace=True)\n",
    "del Saatva_Agg['index']\n",
    "Saatva_Agg['Hour of day']=Saatva_Agg['Hour of day'].astype(int)\n",
    "Saatva_Agg_Category=Saatva_Agg[['Campaign','Account','Advertising Channel','Campaign_Type']].drop_duplicates()\n",
    "Saatva_Agg_Category.to_excel(writer,\"Campaign Category\",index=False)"
   ]
  },
  {
   "cell_type": "code",
   "execution_count": 56,
   "metadata": {
    "collapsed": true
   },
   "outputs": [],
   "source": [
    "Saatva_Agg=Saatva_Agg.groupby([\"Campaign_Type\",\"Day\",\"Hour of day\"])['Impressions','Clicks', 'Cost'].apply(sum)\n",
    "Saatva_Agg.reset_index(inplace=True)\n",
    "Saatva_Agg['CTR']=Saatva_Agg['Clicks']/Saatva_Agg['Impressions']\n",
    "Saatva_Agg.to_excel(writer,\"reshaped by hour day\",index=False)\n",
    "\n",
    "Saatva_Agg_No_NA=Saatva_Agg[(Saatva_Agg['Campaign_Type']!=\"NA\") & (Saatva_Agg['Campaign_Type']!=\"Search Network with Display Select\")]\n",
    "\n",
    "Saatva_Agg_No_NA.to_excel(writer,\"clean data by hour day\",index=False)"
   ]
  },
  {
   "cell_type": "code",
   "execution_count": 57,
   "metadata": {
    "collapsed": true
   },
   "outputs": [],
   "source": [
    "writer.save()"
   ]
  },
  {
   "cell_type": "code",
   "execution_count": 58,
   "metadata": {
    "collapsed": true
   },
   "outputs": [],
   "source": [
    "AdWords_output=Saatva_Agg.copy()\n",
    "AdWords_output['Date']=AdWords_output['Day'].apply(lambda x: str(x)[0:4]+str(x)[5:7]+str(x)[8:10])\n",
    "AdWords_output=AdWords_output[['Campaign_Type','Date','Hour of day','Impressions','Clicks','Cost']]\n",
    "AdWords_output=AdWords_output.rename(columns={\"Hour of day\":\"Hour\",\"Impressions\":\"IMP\"})\n",
    "AdWords_output=AdWords_output.sort_values([\"Campaign_Type\",\"Date\",\"Hour\"],ascending=[True,True,True])\n",
    "AdWords_output.to_csv(writer_folder+\"/Saatva_AdWords_\"+Start_Date_overall+\"_to_\"+End_Data_overall+week+\"_cost.csv\",index=False)"
   ]
  },
  {
   "cell_type": "code",
   "execution_count": 59,
   "metadata": {
    "collapsed": true
   },
   "outputs": [],
   "source": [
    "Saatva_Agg_Category.to_csv(writer_folder+\"/Saatva_AdWords_Taxonomy_\"+Start_Date_overall+\"_to_\"+End_Data_overall+week+\"_cost.csv\",index=False)\n",
    "\n",
    "\n"
   ]
  },
  {
   "cell_type": "code",
   "execution_count": null,
   "metadata": {
    "collapsed": true
   },
   "outputs": [],
   "source": []
  },
  {
   "cell_type": "code",
   "execution_count": null,
   "metadata": {
    "collapsed": true
   },
   "outputs": [],
   "source": []
  },
  {
   "cell_type": "code",
   "execution_count": null,
   "metadata": {
    "collapsed": true
   },
   "outputs": [],
   "source": []
  }
 ],
 "metadata": {
  "kernelspec": {
   "display_name": "Python 3",
   "language": "python",
   "name": "python3"
  },
  "language_info": {
   "codemirror_mode": {
    "name": "ipython",
    "version": 3
   },
   "file_extension": ".py",
   "mimetype": "text/x-python",
   "name": "python",
   "nbconvert_exporter": "python",
   "pygments_lexer": "ipython3",
   "version": "3.6.1"
  }
 },
 "nbformat": 4,
 "nbformat_minor": 2
}
