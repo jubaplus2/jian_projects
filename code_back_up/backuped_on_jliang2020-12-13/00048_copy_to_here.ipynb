{
 "cells": [
  {
   "cell_type": "code",
   "execution_count": 1,
   "metadata": {},
   "outputs": [],
   "source": [
    "import os \n",
    "import shutil"
   ]
  },
  {
   "cell_type": "code",
   "execution_count": 4,
   "metadata": {},
   "outputs": [
    {
     "data": {
      "text/plain": [
       "['BL_GoogleID_IDL_mapping_20180524_20191231_JL_2020-02-23.csv',\n",
       " 'BL_GoogleID_IDL_based_on_click_mapping_20180524_20200502_JL_2020-05-27.csv',\n",
       " 'BL_GoogleID_IDL_mapping_based_on_imrp_20200101_20200502_JL_2020-05-27.csv']"
      ]
     },
     "execution_count": 4,
     "metadata": {},
     "output_type": "execute_result"
    }
   ],
   "source": [
    "previous_folder=\"/home/jian/Projects/Big_Lots/Analysis/2019_Q4/Predictive_Model_Building/UID_IDL_mapping/\"\n",
    "list_mapping_previously=os.listdir(previous_folder)\n",
    "list_mapping_previously=[x for x in list_mapping_previously if x[:2]==\"BL\"]\n",
    "list_mapping_previously"
   ]
  },
  {
   "cell_type": "code",
   "execution_count": 5,
   "metadata": {},
   "outputs": [],
   "source": [
    "for file in list_mapping_previously:\n",
    "    shutil.copyfile(previous_folder+file,\"./\"+file)"
   ]
  },
  {
   "cell_type": "code",
   "execution_count": null,
   "metadata": {},
   "outputs": [],
   "source": []
  }
 ],
 "metadata": {
  "kernelspec": {
   "display_name": "Python 3",
   "language": "python",
   "name": "python3"
  },
  "language_info": {
   "codemirror_mode": {
    "name": "ipython",
    "version": 3
   },
   "file_extension": ".py",
   "mimetype": "text/x-python",
   "name": "python",
   "nbconvert_exporter": "python",
   "pygments_lexer": "ipython3",
   "version": "3.6.1"
  }
 },
 "nbformat": 4,
 "nbformat_minor": 2
}
