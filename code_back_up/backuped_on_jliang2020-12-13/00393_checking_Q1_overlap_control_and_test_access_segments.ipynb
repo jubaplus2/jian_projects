{
 "cells": [
  {
   "cell_type": "code",
   "execution_count": 1,
   "metadata": {},
   "outputs": [
    {
     "name": "stdout",
     "output_type": "stream",
     "text": [
      "/home/jian/Projects/Big_Lots/Analysis/2020_Q1/FB_Mobile_testing\n"
     ]
    }
   ],
   "source": [
    "import pandas as pd\n",
    "import glob\n",
    "import numpy as np\n",
    "import datetime\n",
    "import os\n",
    "\n",
    "print(os.getcwd())"
   ]
  },
  {
   "cell_type": "code",
   "execution_count": 2,
   "metadata": {},
   "outputs": [],
   "source": [
    "list_all_uploaded=glob.glob(\"/home/jian/Projects/Big_Lots/Analysis/2020_Q1/FB_Mobile_testing/sliced_ids_by_segments/*.csv\")\n",
    "list_all_uploaded_Phase_1=[x for x in list_all_uploaded if \"phase2\" not in x.lower()]"
   ]
  },
  {
   "cell_type": "code",
   "execution_count": 3,
   "metadata": {},
   "outputs": [
    {
     "name": "stdout",
     "output_type": "stream",
     "text": [
      "(226185, 2)\n",
      "(1809480, 2)\n",
      "(226185, 2)\n",
      "(214869, 2)\n",
      "(716230, 2)\n",
      "(2650054, 2)\n",
      "(187951, 2)\n",
      "(939756, 2)\n",
      "(8269855, 2)\n",
      "(208580, 2)\n",
      "(2433440, 2)\n",
      "(4310667, 2)\n"
     ]
    }
   ],
   "source": [
    "df_all_duplicated=pd.DataFrame(columns={\"ad_id\"})\n",
    "for file in list_all_uploaded:\n",
    "    segment=os.path.basename(file).split(\".\")[0]\n",
    "    df=pd.read_csv(file,dtype=str,usecols=['ad_id'])\n",
    "    df[segment]=1\n",
    "    print(df.shape)\n",
    "    df_all_duplicated=pd.merge(df_all_duplicated,df,on=\"ad_id\",how=\"outer\")\n"
   ]
  },
  {
   "cell_type": "code",
   "execution_count": 4,
   "metadata": {},
   "outputs": [],
   "source": [
    "df_all_duplicated=df_all_duplicated.fillna(0)"
   ]
  },
  {
   "cell_type": "code",
   "execution_count": 5,
   "metadata": {},
   "outputs": [
    {
     "name": "stdout",
     "output_type": "stream",
     "text": [
      "Control_seg_1_BL_visitor 226185.0\n",
      "Test_Phase1_seg_1_BL_visitor 1809480.0\n",
      "Remaing_Phase2seg_1_BL_visitor 226185.0\n",
      "Control_seg_4_grocery_visitor 214869.0\n",
      "Test_Phase1_seg_4_grocery_visitor 716230.0\n",
      "Remaing_Phase2seg_4_grocery_visitor 2650054.0\n",
      "Control_seg_2_BL_vacinity 187951.0\n",
      "Test_Phase1_seg_2_BL_vacinity 939756.0\n",
      "Remaing_Phase2seg_2_BL_vacinity 8269855.0\n",
      "Control_seg_3_nonfurn_visitor 208580.0\n",
      "Test_Phase1_seg_3_nonfurn_visitor 2433440.0\n",
      "Remaing_Phase2seg_3_nonfurn_visitor 4310667.0\n"
     ]
    }
   ],
   "source": [
    "i=0\n",
    "for col in df_all_duplicated.columns.tolist()[1:]:\n",
    "    total_col=df_all_duplicated[col].sum()\n",
    "    print(col,total_col)\n",
    "    i+=total_col"
   ]
  },
  {
   "cell_type": "code",
   "execution_count": 6,
   "metadata": {},
   "outputs": [
    {
     "data": {
      "text/plain": [
       "(22193252, 13)"
      ]
     },
     "execution_count": 6,
     "metadata": {},
     "output_type": "execute_result"
    }
   ],
   "source": [
    "df_all_duplicated.shape"
   ]
  },
  {
   "cell_type": "code",
   "execution_count": 7,
   "metadata": {},
   "outputs": [
    {
     "data": {
      "text/plain": [
       "22193252.0"
      ]
     },
     "execution_count": 7,
     "metadata": {},
     "output_type": "execute_result"
    }
   ],
   "source": [
    "i"
   ]
  },
  {
   "cell_type": "code",
   "execution_count": 8,
   "metadata": {},
   "outputs": [
    {
     "data": {
      "text/plain": [
       "True"
      ]
     },
     "execution_count": 8,
     "metadata": {},
     "output_type": "execute_result"
    }
   ],
   "source": [
    "df_all_duplicated.shape[0]==i"
   ]
  },
  {
   "cell_type": "code",
   "execution_count": null,
   "metadata": {},
   "outputs": [],
   "source": []
  }
 ],
 "metadata": {
  "kernelspec": {
   "display_name": "Python 3",
   "language": "python",
   "name": "python3"
  },
  "language_info": {
   "codemirror_mode": {
    "name": "ipython",
    "version": 3
   },
   "file_extension": ".py",
   "mimetype": "text/x-python",
   "name": "python",
   "nbconvert_exporter": "python",
   "pygments_lexer": "ipython3",
   "version": "3.6.1"
  }
 },
 "nbformat": 4,
 "nbformat_minor": 2
}
