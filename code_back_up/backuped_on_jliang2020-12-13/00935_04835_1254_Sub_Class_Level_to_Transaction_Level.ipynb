{
 "cells": [
  {
   "cell_type": "code",
   "execution_count": 1,
   "metadata": {},
   "outputs": [
    {
     "data": {
      "text/plain": [
       "'/home/jian/celery/Bing_LiveRamp'"
      ]
     },
     "execution_count": 1,
     "metadata": {},
     "output_type": "execute_result"
    }
   ],
   "source": [
    "import pandas as pd\n",
    "import datetime\n",
    "import os\n",
    "import numpy as np\n",
    "import hashlib\n",
    "import gc\n",
    "os.getcwd()"
   ]
  },
  {
   "cell_type": "code",
   "execution_count": 2,
   "metadata": {},
   "outputs": [
    {
     "data": {
      "text/plain": [
       "datetime.date(2019, 2, 9)"
      ]
     },
     "execution_count": 2,
     "metadata": {},
     "output_type": "execute_result"
    }
   ],
   "source": [
    "def recursive_file_gen(my_root_dir):\n",
    "    for root, dirs, files in os.walk(my_root_dir):\n",
    "        for file in files:\n",
    "            yield os.path.join(root, file)\n",
    "            \n",
    "\n",
    "\n",
    "thismonday=datetime.datetime.now().date()-datetime.timedelta(days=datetime.datetime.now().date().weekday())\n",
    "thismonday\n",
    "last_week_end_saturday=thismonday-datetime.timedelta(days=2)\n",
    "\n",
    "last_week_end_saturday"
   ]
  },
  {
   "cell_type": "code",
   "execution_count": 3,
   "metadata": {
    "collapsed": true
   },
   "outputs": [],
   "source": [
    "writer_pather=\"/home/jian/celery/Bing_LiveRamp/output/\""
   ]
  },
  {
   "cell_type": "code",
   "execution_count": 4,
   "metadata": {},
   "outputs": [
    {
     "name": "stdout",
     "output_type": "stream",
     "text": [
      "Good to load\n"
     ]
    }
   ],
   "source": [
    "posibble_recent_folder=\"/home/jian/BigLots/MediaStorm_\"+str(last_week_end_saturday)+\"/\"\n",
    "daily_files_recent=[x for x in list(recursive_file_gen(posibble_recent_folder)) if \"Daily\" in x]\n",
    "\n",
    "list_1_after_201806_2019=[x for x in list(recursive_file_gen(\"/home/jian/BigLots/2019_by_weeks/\")) if (\"aily\" in x) & (\".txt\" in x) ]\n",
    "list_1_after_201806_2019=[x for x in list_1_after_201806_2019 if str(last_week_end_saturday) in x]\n",
    "\n",
    "\n",
    "daily_files_last_week=daily_files_recent+list_1_after_201806_2019\n",
    "if len(daily_files_last_week)==1:\n",
    "    daily_file_last_week=daily_files_last_week[0]\n",
    "    print(\"Good to load\")\n",
    "else:\n",
    "    daily_file_last_week=np.nan\n",
    "    print(\"Last week daily data not avaiable\")"
   ]
  },
  {
   "cell_type": "code",
   "execution_count": 5,
   "metadata": {
    "collapsed": true
   },
   "outputs": [],
   "source": [
    "sales_daily_lastweek=pd.read_table(daily_file_last_week,sep=\"|\",dtype=str,usecols=['location_id','customer_id_hashed','transaction_dt','subclass_transaction_amt'])\n",
    "sales_daily_lastweek=sales_daily_lastweek[~pd.isnull(sales_daily_lastweek['customer_id_hashed'])]\n",
    "sales_daily_lastweek=sales_daily_lastweek[sales_daily_lastweek['location_id']!=\"6990\"]\n",
    "sales_daily_lastweek['subclass_transaction_amt']=sales_daily_lastweek['subclass_transaction_amt'].astype(float)\n",
    "sales_daily_lastweek_agg=sales_daily_lastweek.groupby(['customer_id_hashed','transaction_dt'])['subclass_transaction_amt'].sum().to_frame().reset_index()\n",
    "sales_daily_lastweek_agg=sales_daily_lastweek_agg.rename(columns={\"transaction_dt\":\"Timestamp\",\"subclass_transaction_amt\":\"Conversion_Amount\"})\n",
    "sales_daily_lastweek_agg['Timestamp']=sales_daily_lastweek_agg['Timestamp'].apply(lambda x: datetime.datetime.strptime(x,\"%Y-%m-%d\").date())\n"
   ]
  },
  {
   "cell_type": "code",
   "execution_count": 6,
   "metadata": {},
   "outputs": [
    {
     "data": {
      "text/plain": [
       "['/home/jian/BigLots/MediaStorm_2019-02-09/MediaStormMasterWeekly20190212-122428-267.txt']"
      ]
     },
     "execution_count": 6,
     "metadata": {},
     "output_type": "execute_result"
    }
   ],
   "source": [
    "posibble_recent_Master=\"/home/jian/BigLots/MediaStorm_\"+str(last_week_end_saturday)+\"/\"\n",
    "master_files_recent=[x for x in list(recursive_file_gen(posibble_recent_folder)) if \"ster\" in x]\n",
    "master_files_recent"
   ]
  },
  {
   "cell_type": "code",
   "execution_count": 7,
   "metadata": {},
   "outputs": [
    {
     "name": "stdout",
     "output_type": "stream",
     "text": [
      "Good to load\n"
     ]
    }
   ],
   "source": [
    "posibble_recent_Master=\"/home/jian/BigLots/MediaStorm_\"+str(last_week_end_saturday)+\"/\"\n",
    "master_files_recent=[x for x in list(recursive_file_gen(posibble_recent_folder)) if \"ster\" in x]\n",
    "if len(master_files_recent)==1:\n",
    "    master_files_recent=master_files_recent[0]\n",
    "    print(\"Good to load\")\n",
    "else:\n",
    "    master_files_recent=np.nan\n",
    "    print(\"Last week Master file not avaiable\")\n",
    "    \n",
    "recent_date=last_week_end_saturday"
   ]
  },
  {
   "cell_type": "code",
   "execution_count": 8,
   "metadata": {
    "collapsed": true
   },
   "outputs": [],
   "source": [
    "Master_2019_weekly=[x for x in list(recursive_file_gen(\"/home/jian/BigLots/2019_by_weeks/\")) if (\"aster\" in x) & (\".txt\" in x) ]\n",
    "Master_2018_weekly=[x for x in list(recursive_file_gen(\"/home/jian/BigLots/2018_by_weeks/\")) if (\"aster\" in x) & (\".txt\" in x) ]\n",
    "\n",
    "\n",
    "weekly_df=pd.DataFrame({\"file_path\":Master_2019_weekly+Master_2018_weekly})\n",
    "weekly_df['date']=weekly_df['file_path'].apply(lambda x: x.split(\"_by_weeks/MediaStorm_\")[1][:10])\n",
    "weekly_df['date']=weekly_df['date'].apply(lambda x: datetime.datetime.strptime(x,\"%Y-%m-%d\").date())\n",
    "weekly_df=weekly_df.sort_values(\"date\",ascending=False).reset_index()\n",
    "del weekly_df['index']\n",
    "\n",
    "weekly_df=pd.DataFrame({\"file_path\":master_files_recent,\"date\":recent_date},index=[0]).append(weekly_df)\n",
    "weekly_df=weekly_df.drop_duplicates().reset_index()\n",
    "del weekly_df['index']"
   ]
  },
  {
   "cell_type": "code",
   "execution_count": 9,
   "metadata": {},
   "outputs": [
    {
     "name": "stdout",
     "output_type": "stream",
     "text": [
      "(1873409, 3)\n"
     ]
    }
   ],
   "source": [
    "data_0=pd.read_table(\"/home/jian/Projects/Big_Lots/Loyal_members/loyalty_register_data/MediaStorm_Lapsed_Reward_Member_Master_from2014-08-26to2017-02-26.zip\",\n",
    "                     dtype=str,sep=\"|\",usecols=['customer_id_hashed','email_address_hash','customer_zip_code']).drop_duplicates()\n",
    "print(data_0.shape)\n"
   ]
  },
  {
   "cell_type": "code",
   "execution_count": 10,
   "metadata": {},
   "outputs": [
    {
     "name": "stdout",
     "output_type": "stream",
     "text": [
      "(19337597, 3)\n"
     ]
    }
   ],
   "source": [
    "data_1=pd.read_csv(\"/home/jian/Projects/Big_Lots/Loyal_members/loyalty_register_data/MediaStormCustTot-hashed-email.txt\",\n",
    "                     dtype=str,header=None,usecols=[0,1,5])\n",
    "data_1.columns=['customer_id_hashed','email_address_hash','customer_zip_code']\n",
    "data_1['customer_id_hashed']=data_1['customer_id_hashed'].apply(lambda x: hashlib.sha256(x.encode('utf-8')).hexdigest())\n",
    "print(data_1.shape)"
   ]
  },
  {
   "cell_type": "code",
   "execution_count": 11,
   "metadata": {},
   "outputs": [
    {
     "name": "stdout",
     "output_type": "stream",
     "text": [
      "(7255226, 3)\n",
      "(5759051, 3)\n",
      "(659127, 3)\n"
     ]
    }
   ],
   "source": [
    "data_2 = pd.read_csv('/home/jian/Projects/Big_Lots/Loyal_members/loyalty_register_data/'+'MediaStormCustomerTransactionTotals_2018-01-09_2018-03-31.txt',\n",
    "                     sep = ',',dtype = str,usecols=['customer_id_hashed','email_address_hash','customer_zip_code'])\n",
    "print(data_2.shape)\n",
    "data_3 = pd.read_csv('/home/jian/Projects/Big_Lots/Loyal_members/loyalty_register_data/'+'Existing Reward Member Master as of 2018-06-05.txt',\n",
    "                     dtype = str,sep = '|',usecols=['customer_id_hashed','email_address_hash','customer_zip_code'])\n",
    "print(data_3.shape)\n",
    "data_4 = pd.read_csv('/home/jian/Projects/Big_Lots/Loyal_members/loyalty_register_data/'+'New Reward Member Master as of 2018-06-05.txt',\n",
    "                     dtype = str,sep = '|',usecols=['customer_id_hashed','email_address_hash','customer_zip_code'])\n",
    "print(data_4.shape)"
   ]
  },
  {
   "cell_type": "code",
   "execution_count": 12,
   "metadata": {},
   "outputs": [
    {
     "data": {
      "text/plain": [
       "42"
      ]
     },
     "execution_count": 12,
     "metadata": {},
     "output_type": "execute_result"
    }
   ],
   "source": [
    "master_old=data_4.append(data_3).append(data_2).append(data_1).append(data_0).drop_duplicates()\n",
    "del data_4\n",
    "del data_3\n",
    "del data_2\n",
    "del data_1\n",
    "del data_0\n",
    "gc.collect()"
   ]
  },
  {
   "cell_type": "code",
   "execution_count": 13,
   "metadata": {},
   "outputs": [
    {
     "name": "stdout",
     "output_type": "stream",
     "text": [
      "(24419168, 3)\n",
      "24384411\n",
      "(24384411, 3)\n"
     ]
    }
   ],
   "source": [
    "all_weekly_biweekly_master_file=pd.DataFrame()\n",
    "for file_path in weekly_df['file_path'].tolist():\n",
    "    df=pd.read_table(file_path,dtype=str,usecols=['customer_id_hashed','email_address_hash','customer_zip_code'],sep=\"|\")\n",
    "    all_weekly_biweekly_master_file=all_weekly_biweekly_master_file.append(df)\n",
    "\n",
    "all_weekly_biweekly_master_file=all_weekly_biweekly_master_file.append(master_old)\n",
    "print(all_weekly_biweekly_master_file.shape)\n",
    "print(len(all_weekly_biweekly_master_file['customer_id_hashed'].unique()))\n",
    "\n",
    "all_weekly_biweekly_master_file=all_weekly_biweekly_master_file.drop_duplicates('customer_id_hashed')\n",
    "print(all_weekly_biweekly_master_file.shape)"
   ]
  },
  {
   "cell_type": "code",
   "execution_count": 14,
   "metadata": {},
   "outputs": [
    {
     "name": "stdout",
     "output_type": "stream",
     "text": [
      "(1163551, 3)\n",
      "Null Email rows excluded: 68846\n"
     ]
    }
   ],
   "source": [
    "print(sales_daily_lastweek_agg.shape)\n",
    "\n",
    "sales_daily_lastweek_agg=pd.merge(sales_daily_lastweek_agg,all_weekly_biweekly_master_file,on=\"customer_id_hashed\",how=\"left\").rename(columns={\"email_address_hash\":\"Email_1\",\"customer_zip_code\":\"Zip\"})\n",
    "sales_daily_lastweek_agg.head(2)\n",
    "\n",
    "\n",
    "print(\"Null Email rows excluded: \"+str(sales_daily_lastweek_agg[pd.isnull(sales_daily_lastweek_agg['Email_1'])].shape[0]))\n",
    "sales_daily_lastweek_agg=sales_daily_lastweek_agg[~pd.isnull(sales_daily_lastweek_agg['Email_1'])]\n",
    "del sales_daily_lastweek_agg['customer_id_hashed']"
   ]
  },
  {
   "cell_type": "code",
   "execution_count": 15,
   "metadata": {
    "collapsed": true
   },
   "outputs": [],
   "source": [
    "sales_daily_lastweek_agg=sales_daily_lastweek_agg[[\"Email_1\",\"Zip\",\"Timestamp\", \"Conversion_Amount\"]]\n",
    "sales_daily_lastweek_agg['Conversion_Amount']=sales_daily_lastweek_agg['Conversion_Amount'].apply(lambda x: np.round(x,2)).astype(str)\n",
    "sales_daily_lastweek_agg['Conversion_Amount']=sales_daily_lastweek_agg['Conversion_Amount'].apply(lambda x: x.split(\".\")[0]+\".\"+x.split(\".\")[1].ljust(2,\"0\"))\n",
    "sales_daily_lastweek_agg['Product_Group']=\"In_Store\"\n",
    "\n"
   ]
  },
  {
   "cell_type": "code",
   "execution_count": 16,
   "metadata": {
    "collapsed": true
   },
   "outputs": [],
   "source": [
    "data_max_date=sales_daily_lastweek_agg['Timestamp'].max()"
   ]
  },
  {
   "cell_type": "code",
   "execution_count": 17,
   "metadata": {
    "collapsed": true
   },
   "outputs": [],
   "source": [
    "data_min_date=sales_daily_lastweek_agg['Timestamp'].min()"
   ]
  },
  {
   "cell_type": "code",
   "execution_count": 18,
   "metadata": {},
   "outputs": [
    {
     "data": {
      "text/plain": [
       "0.05916887184145774"
      ]
     },
     "execution_count": 18,
     "metadata": {},
     "output_type": "execute_result"
    }
   ],
   "source": [
    "68846/1163551"
   ]
  },
  {
   "cell_type": "code",
   "execution_count": 36,
   "metadata": {
    "collapsed": true
   },
   "outputs": [],
   "source": [
    "local_path=writer_pather+\"/BL_LR_BingStoreSales_\"+str(data_min_date)+\"_\"+str(data_max_date)+\"_JL_\"+str(datetime.datetime.now().date())+\".txt\"\n",
    "\n",
    "sales_daily_lastweek_agg.to_csv(local_path,index=False,sep=\"|\")\n"
   ]
  },
  {
   "cell_type": "code",
   "execution_count": 37,
   "metadata": {
    "collapsed": true
   },
   "outputs": [],
   "source": [
    "import paramiko\n",
    "\n",
    "host = \"sftp.liveramp.com\" #hard-coded\n",
    "port = 22\n",
    "transport = paramiko.Transport((host, port))\n",
    "\n",
    "password = \"Jubaplus2019!\" #hard-coded\n",
    "username = \"bing-big-lots\" #hard-coded\n",
    "transport.connect(username = username, password = password)\n",
    "sftp = paramiko.SFTPClient.from_transport(transport)"
   ]
  },
  {
   "cell_type": "code",
   "execution_count": 38,
   "metadata": {},
   "outputs": [
    {
     "name": "stderr",
     "output_type": "stream",
     "text": [
      "Socket exception: Connection timed out (110)\n",
      "Socket exception: Connection reset by peer (104)\n",
      "Socket exception: Connection reset by peer (104)\n"
     ]
    }
   ],
   "source": [
    "# local_path defined above before saving the local txt\n",
    "remote_path=\"/uploads/\"+os.path.basename(local_path)\n",
    "sftp.put(local_path,remote_path)\n",
    "sftp.close()"
   ]
  },
  {
   "cell_type": "code",
   "execution_count": 5,
   "metadata": {},
   "outputs": [],
   "source": [
    "import pandas as pd\n",
    "\n",
    "test=pd.read_csv(\"/home/jian/celery/Bing_LiveRamp/output/BL_LR_BingStoreSales_2019-02-03_2019-02-09_JL_2019-02-15.txt\",dtype=str,nrows=10,sep=\"|\")"
   ]
  },
  {
   "cell_type": "code",
   "execution_count": 6,
   "metadata": {},
   "outputs": [
    {
     "data": {
      "text/html": [
       "<div>\n",
       "<style>\n",
       "    .dataframe thead tr:only-child th {\n",
       "        text-align: right;\n",
       "    }\n",
       "\n",
       "    .dataframe thead th {\n",
       "        text-align: left;\n",
       "    }\n",
       "\n",
       "    .dataframe tbody tr th {\n",
       "        vertical-align: top;\n",
       "    }\n",
       "</style>\n",
       "<table border=\"1\" class=\"dataframe\">\n",
       "  <thead>\n",
       "    <tr style=\"text-align: right;\">\n",
       "      <th></th>\n",
       "      <th>Email_1</th>\n",
       "      <th>Zip</th>\n",
       "      <th>Timestamp</th>\n",
       "      <th>Conversion_Amount</th>\n",
       "      <th>Product_Group</th>\n",
       "    </tr>\n",
       "  </thead>\n",
       "  <tbody>\n",
       "    <tr>\n",
       "      <th>0</th>\n",
       "      <td>8dd56b47142ccb0e94d5ab40548e14db127e368fa64754...</td>\n",
       "      <td>NaN</td>\n",
       "      <td>2019-02-08</td>\n",
       "      <td>8.45</td>\n",
       "      <td>In_Store</td>\n",
       "    </tr>\n",
       "    <tr>\n",
       "      <th>1</th>\n",
       "      <td>216b81a8a9eee53938c376a96eaace39016f7787626786...</td>\n",
       "      <td>77840</td>\n",
       "      <td>2019-02-07</td>\n",
       "      <td>4.05</td>\n",
       "      <td>In_Store</td>\n",
       "    </tr>\n",
       "    <tr>\n",
       "      <th>2</th>\n",
       "      <td>216b81a8a9eee53938c376a96eaace39016f7787626786...</td>\n",
       "      <td>77840</td>\n",
       "      <td>2019-02-08</td>\n",
       "      <td>16.20</td>\n",
       "      <td>In_Store</td>\n",
       "    </tr>\n",
       "    <tr>\n",
       "      <th>3</th>\n",
       "      <td>884c7d27f0df2fdd99383fbe9ca4515281160dd08fb351...</td>\n",
       "      <td>33470</td>\n",
       "      <td>2019-02-09</td>\n",
       "      <td>24.50</td>\n",
       "      <td>In_Store</td>\n",
       "    </tr>\n",
       "    <tr>\n",
       "      <th>4</th>\n",
       "      <td>ad222669e6495a48d4391cdce32d76b33cacd7f0796aba...</td>\n",
       "      <td>91710</td>\n",
       "      <td>2019-02-07</td>\n",
       "      <td>6.00</td>\n",
       "      <td>In_Store</td>\n",
       "    </tr>\n",
       "    <tr>\n",
       "      <th>5</th>\n",
       "      <td>3030b8eaf1c6c486ccf6752ebab1b9d466e1f0f3c3e3c9...</td>\n",
       "      <td>91780</td>\n",
       "      <td>2019-02-05</td>\n",
       "      <td>16.20</td>\n",
       "      <td>In_Store</td>\n",
       "    </tr>\n",
       "    <tr>\n",
       "      <th>6</th>\n",
       "      <td>6b6e75a4d40cbaf02ecfa1c7f83742699189b02bacf275...</td>\n",
       "      <td>22980</td>\n",
       "      <td>2019-02-05</td>\n",
       "      <td>38.20</td>\n",
       "      <td>In_Store</td>\n",
       "    </tr>\n",
       "    <tr>\n",
       "      <th>7</th>\n",
       "      <td>ffb897b3251ee884aaffff34293827efe15f3abc679757...</td>\n",
       "      <td>11717</td>\n",
       "      <td>2019-02-09</td>\n",
       "      <td>19.80</td>\n",
       "      <td>In_Store</td>\n",
       "    </tr>\n",
       "    <tr>\n",
       "      <th>8</th>\n",
       "      <td>4ea09069a44691691ff86313e06b4163f430dcf1cf0fa3...</td>\n",
       "      <td>29118</td>\n",
       "      <td>2019-02-04</td>\n",
       "      <td>899.98</td>\n",
       "      <td>In_Store</td>\n",
       "    </tr>\n",
       "    <tr>\n",
       "      <th>9</th>\n",
       "      <td>10b2ed064ba79950c552bcc5b0b1909d25cd87076cb78a...</td>\n",
       "      <td>45036</td>\n",
       "      <td>2019-02-09</td>\n",
       "      <td>6.50</td>\n",
       "      <td>In_Store</td>\n",
       "    </tr>\n",
       "  </tbody>\n",
       "</table>\n",
       "</div>"
      ],
      "text/plain": [
       "                                             Email_1    Zip   Timestamp  \\\n",
       "0  8dd56b47142ccb0e94d5ab40548e14db127e368fa64754...    NaN  2019-02-08   \n",
       "1  216b81a8a9eee53938c376a96eaace39016f7787626786...  77840  2019-02-07   \n",
       "2  216b81a8a9eee53938c376a96eaace39016f7787626786...  77840  2019-02-08   \n",
       "3  884c7d27f0df2fdd99383fbe9ca4515281160dd08fb351...  33470  2019-02-09   \n",
       "4  ad222669e6495a48d4391cdce32d76b33cacd7f0796aba...  91710  2019-02-07   \n",
       "5  3030b8eaf1c6c486ccf6752ebab1b9d466e1f0f3c3e3c9...  91780  2019-02-05   \n",
       "6  6b6e75a4d40cbaf02ecfa1c7f83742699189b02bacf275...  22980  2019-02-05   \n",
       "7  ffb897b3251ee884aaffff34293827efe15f3abc679757...  11717  2019-02-09   \n",
       "8  4ea09069a44691691ff86313e06b4163f430dcf1cf0fa3...  29118  2019-02-04   \n",
       "9  10b2ed064ba79950c552bcc5b0b1909d25cd87076cb78a...  45036  2019-02-09   \n",
       "\n",
       "  Conversion_Amount Product_Group  \n",
       "0              8.45      In_Store  \n",
       "1              4.05      In_Store  \n",
       "2             16.20      In_Store  \n",
       "3             24.50      In_Store  \n",
       "4              6.00      In_Store  \n",
       "5             16.20      In_Store  \n",
       "6             38.20      In_Store  \n",
       "7             19.80      In_Store  \n",
       "8            899.98      In_Store  \n",
       "9              6.50      In_Store  "
      ]
     },
     "execution_count": 6,
     "metadata": {},
     "output_type": "execute_result"
    }
   ],
   "source": [
    "test"
   ]
  },
  {
   "cell_type": "code",
   "execution_count": null,
   "metadata": {
    "collapsed": true
   },
   "outputs": [],
   "source": []
  }
 ],
 "metadata": {
  "kernelspec": {
   "display_name": "Python 3",
   "language": "python",
   "name": "python3"
  },
  "language_info": {
   "codemirror_mode": {
    "name": "ipython",
    "version": 3
   },
   "file_extension": ".py",
   "mimetype": "text/x-python",
   "name": "python",
   "nbconvert_exporter": "python",
   "pygments_lexer": "ipython3",
   "version": "3.6.1"
  }
 },
 "nbformat": 4,
 "nbformat_minor": 2
}
