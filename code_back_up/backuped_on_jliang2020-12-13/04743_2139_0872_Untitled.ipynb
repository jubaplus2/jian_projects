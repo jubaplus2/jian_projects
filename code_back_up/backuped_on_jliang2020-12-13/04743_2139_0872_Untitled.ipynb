{
 "cells": [
  {
   "cell_type": "code",
   "execution_count": 2,
   "metadata": {},
   "outputs": [],
   "source": [
    "import pandas as pd\n",
    "pd.options.display.max_rows=6\n",
    "import numpy as np\n",
    "from haversine import haversine\n",
    "import json\n",
    "stores = pd.read_csv('/Users/JayLiang/Desktop/Media Storm/Big Lots/Data/MediaStorm Data Extract - Store list.txt', sep='|')"
   ]
  },
  {
   "cell_type": "code",
   "execution_count": 3,
   "metadata": {
    "collapsed": true
   },
   "outputs": [],
   "source": [
    "stores_lat_lng = dict()\n",
    "for index in stores.index:\n",
    "    stores_lat_lng[stores.loc[index, 'location_id']] = (stores.loc[index, 'latitude_meas'], \n",
    "                                                        stores.loc[index, 'longitude_meas'])"
   ]
  },
  {
   "cell_type": "code",
   "execution_count": 9,
   "metadata": {
    "collapsed": true
   },
   "outputs": [],
   "source": [
    "location_id = list(stores_lat_lng.keys())\n",
    "n = len(location_id)\n",
    "\n",
    "distance = dict()\n",
    "for i in range(n):\n",
    "    p1 = stores_lat_lng[location_id[i]]\n",
    "    other_stores = dict()\n",
    "    for j in range(i+1, n):\n",
    "        p2 = stores_lat_lng[location_id[j]]\n",
    "        d = haversine(p1, p2, miles=True)\n",
    "        other_stores[location_id[j]] = d\n",
    "    distance[location_id[i]] = other_stores"
   ]
  },
  {
   "cell_type": "code",
   "execution_count": 22,
   "metadata": {},
   "outputs": [],
   "source": [
    "distance_matrix = pd.DataFrame(distance).T"
   ]
  },
  {
   "cell_type": "code",
   "execution_count": 23,
   "metadata": {
    "collapsed": true
   },
   "outputs": [],
   "source": [
    "# fill nan fields\n",
    "for column in distance_matrix.columns:\n",
    "    for index in distance_matrix.index:\n",
    "        if np.isnan(distance_matrix.loc[index, column]):\n",
    "            if index == column:\n",
    "                distance_matrix.set_value(index, column, 0)\n",
    "            else:\n",
    "                distance_matrix.set_value(index, column, distance_matrix.loc[column, index])"
   ]
  },
  {
   "cell_type": "code",
   "execution_count": 24,
   "metadata": {},
   "outputs": [
    {
     "data": {
      "text/html": [
       "<div>\n",
       "<style>\n",
       "    .dataframe thead tr:only-child th {\n",
       "        text-align: right;\n",
       "    }\n",
       "\n",
       "    .dataframe thead th {\n",
       "        text-align: left;\n",
       "    }\n",
       "\n",
       "    .dataframe tbody tr th {\n",
       "        vertical-align: top;\n",
       "    }\n",
       "</style>\n",
       "<table border=\"1\" class=\"dataframe\">\n",
       "  <thead>\n",
       "    <tr style=\"text-align: right;\">\n",
       "      <th></th>\n",
       "      <th>3</th>\n",
       "      <th>29</th>\n",
       "      <th>30</th>\n",
       "      <th>32</th>\n",
       "      <th>37</th>\n",
       "      <th>42</th>\n",
       "      <th>43</th>\n",
       "      <th>45</th>\n",
       "      <th>49</th>\n",
       "      <th>51</th>\n",
       "      <th>...</th>\n",
       "      <th>5332</th>\n",
       "      <th>5333</th>\n",
       "      <th>5334</th>\n",
       "      <th>5335</th>\n",
       "      <th>5336</th>\n",
       "      <th>5338</th>\n",
       "      <th>5339</th>\n",
       "      <th>5343</th>\n",
       "      <th>5345</th>\n",
       "      <th>6990</th>\n",
       "    </tr>\n",
       "  </thead>\n",
       "  <tbody>\n",
       "    <tr>\n",
       "      <th>1</th>\n",
       "      <td>451.289895</td>\n",
       "      <td>60.072235</td>\n",
       "      <td>107.328621</td>\n",
       "      <td>66.558476</td>\n",
       "      <td>86.125901</td>\n",
       "      <td>81.118759</td>\n",
       "      <td>123.103602</td>\n",
       "      <td>122.637525</td>\n",
       "      <td>88.782638</td>\n",
       "      <td>258.957367</td>\n",
       "      <td>...</td>\n",
       "      <td>281.845873</td>\n",
       "      <td>397.066600</td>\n",
       "      <td>435.732245</td>\n",
       "      <td>411.317694</td>\n",
       "      <td>927.138735</td>\n",
       "      <td>99.020239</td>\n",
       "      <td>248.736426</td>\n",
       "      <td>135.856051</td>\n",
       "      <td>248.855889</td>\n",
       "      <td>5843.308757</td>\n",
       "    </tr>\n",
       "    <tr>\n",
       "      <th>3</th>\n",
       "      <td>0.000000</td>\n",
       "      <td>408.738243</td>\n",
       "      <td>555.941985</td>\n",
       "      <td>449.854565</td>\n",
       "      <td>415.163011</td>\n",
       "      <td>371.261612</td>\n",
       "      <td>572.701649</td>\n",
       "      <td>573.230273</td>\n",
       "      <td>417.206036</td>\n",
       "      <td>451.045201</td>\n",
       "      <td>...</td>\n",
       "      <td>190.582797</td>\n",
       "      <td>537.234887</td>\n",
       "      <td>620.847863</td>\n",
       "      <td>393.956898</td>\n",
       "      <td>477.867001</td>\n",
       "      <td>550.283224</td>\n",
       "      <td>365.704356</td>\n",
       "      <td>561.754066</td>\n",
       "      <td>202.807091</td>\n",
       "      <td>5758.597666</td>\n",
       "    </tr>\n",
       "    <tr>\n",
       "      <th>29</th>\n",
       "      <td>408.738243</td>\n",
       "      <td>0.000000</td>\n",
       "      <td>162.861051</td>\n",
       "      <td>113.215604</td>\n",
       "      <td>34.422310</td>\n",
       "      <td>63.346293</td>\n",
       "      <td>177.151256</td>\n",
       "      <td>175.153527</td>\n",
       "      <td>118.836617</td>\n",
       "      <td>209.881656</td>\n",
       "      <td>...</td>\n",
       "      <td>253.405335</td>\n",
       "      <td>350.421403</td>\n",
       "      <td>397.016108</td>\n",
       "      <td>352.791044</td>\n",
       "      <td>880.732305</td>\n",
       "      <td>148.407891</td>\n",
       "      <td>190.374225</td>\n",
       "      <td>155.565830</td>\n",
       "      <td>206.513672</td>\n",
       "      <td>5795.161183</td>\n",
       "    </tr>\n",
       "    <tr>\n",
       "      <th>30</th>\n",
       "      <td>555.941985</td>\n",
       "      <td>162.861051</td>\n",
       "      <td>0.000000</td>\n",
       "      <td>117.314492</td>\n",
       "      <td>178.332377</td>\n",
       "      <td>184.809566</td>\n",
       "      <td>17.291264</td>\n",
       "      <td>21.243002</td>\n",
       "      <td>154.555948</td>\n",
       "      <td>327.292973</td>\n",
       "      <td>...</td>\n",
       "      <td>379.753010</td>\n",
       "      <td>454.211196</td>\n",
       "      <td>475.423232</td>\n",
       "      <td>498.365344</td>\n",
       "      <td>1032.899333</td>\n",
       "      <td>29.396749</td>\n",
       "      <td>338.184008</td>\n",
       "      <td>114.323729</td>\n",
       "      <td>354.501576</td>\n",
       "      <td>5889.447162</td>\n",
       "    </tr>\n",
       "    <tr>\n",
       "      <th>32</th>\n",
       "      <td>449.854565</td>\n",
       "      <td>113.215604</td>\n",
       "      <td>117.314492</td>\n",
       "      <td>0.000000</td>\n",
       "      <td>145.616092</td>\n",
       "      <td>91.662207</td>\n",
       "      <td>134.455039</td>\n",
       "      <td>138.053209</td>\n",
       "      <td>37.243409</td>\n",
       "      <td>321.597159</td>\n",
       "      <td>...</td>\n",
       "      <td>267.068330</td>\n",
       "      <td>461.112664</td>\n",
       "      <td>501.918627</td>\n",
       "      <td>463.435223</td>\n",
       "      <td>927.689710</td>\n",
       "      <td>125.789414</td>\n",
       "      <td>301.922144</td>\n",
       "      <td>189.330045</td>\n",
       "      <td>253.813292</td>\n",
       "      <td>5907.098606</td>\n",
       "    </tr>\n",
       "  </tbody>\n",
       "</table>\n",
       "<p>5 rows × 1435 columns</p>\n",
       "</div>"
      ],
      "text/plain": [
       "          3           29          30          32          37          42    \\\n",
       "1   451.289895   60.072235  107.328621   66.558476   86.125901   81.118759   \n",
       "3     0.000000  408.738243  555.941985  449.854565  415.163011  371.261612   \n",
       "29  408.738243    0.000000  162.861051  113.215604   34.422310   63.346293   \n",
       "30  555.941985  162.861051    0.000000  117.314492  178.332377  184.809566   \n",
       "32  449.854565  113.215604  117.314492    0.000000  145.616092   91.662207   \n",
       "\n",
       "          43          45          49          51       ...             5332  \\\n",
       "1   123.103602  122.637525   88.782638  258.957367     ...       281.845873   \n",
       "3   572.701649  573.230273  417.206036  451.045201     ...       190.582797   \n",
       "29  177.151256  175.153527  118.836617  209.881656     ...       253.405335   \n",
       "30   17.291264   21.243002  154.555948  327.292973     ...       379.753010   \n",
       "32  134.455039  138.053209   37.243409  321.597159     ...       267.068330   \n",
       "\n",
       "          5333        5334        5335         5336        5338        5339  \\\n",
       "1   397.066600  435.732245  411.317694   927.138735   99.020239  248.736426   \n",
       "3   537.234887  620.847863  393.956898   477.867001  550.283224  365.704356   \n",
       "29  350.421403  397.016108  352.791044   880.732305  148.407891  190.374225   \n",
       "30  454.211196  475.423232  498.365344  1032.899333   29.396749  338.184008   \n",
       "32  461.112664  501.918627  463.435223   927.689710  125.789414  301.922144   \n",
       "\n",
       "          5343        5345         6990  \n",
       "1   135.856051  248.855889  5843.308757  \n",
       "3   561.754066  202.807091  5758.597666  \n",
       "29  155.565830  206.513672  5795.161183  \n",
       "30  114.323729  354.501576  5889.447162  \n",
       "32  189.330045  253.813292  5907.098606  \n",
       "\n",
       "[5 rows x 1435 columns]"
      ]
     },
     "execution_count": 24,
     "metadata": {},
     "output_type": "execute_result"
    }
   ],
   "source": [
    "distance_matrix.head()"
   ]
  },
  {
   "cell_type": "code",
   "execution_count": 25,
   "metadata": {
    "collapsed": true
   },
   "outputs": [],
   "source": [
    "def clustering(radius, distance_matrix):\n",
    "    clusters = list()\n",
    "    checked_stores = set()\n",
    "\n",
    "    for index in distance_matrix.index:\n",
    "        if index not in checked_stores:\n",
    "            checked_stores.add(index)\n",
    "            other_stores = distance_matrix.loc[index]\n",
    "            cluster = set(other_stores[(other_stores < radius) & (other_stores > 0)].index)\n",
    "            q = list(cluster)\n",
    "            cluster.add(index)\n",
    "            while len(q) > 0:\n",
    "                curr_store = q.pop(0)\n",
    "                if curr_store not in checked_stores:\n",
    "                    checked_stores.add(curr_store)\n",
    "                    other_stores = distance_matrix.loc[curr_store]\n",
    "                    s = set(other_stores[(other_stores < radius) & (other_stores > 0)].index)\n",
    "                    new_stores = s.difference(cluster)\n",
    "                    if len(new_stores) > 0:\n",
    "                        q += list(new_stores)\n",
    "                        cluster = cluster.union()\n",
    "\n",
    "            clusters.append(cluster)\n",
    "    return clusters"
   ]
  },
  {
   "cell_type": "code",
   "execution_count": 27,
   "metadata": {},
   "outputs": [
    {
     "data": {
      "text/plain": [
       "range(0, 5)"
      ]
     },
     "execution_count": 27,
     "metadata": {},
     "output_type": "execute_result"
    }
   ],
   "source": [
    "range(5)"
   ]
  },
  {
   "cell_type": "code",
   "execution_count": 31,
   "metadata": {},
   "outputs": [
    {
     "name": "stdout",
     "output_type": "stream",
     "text": [
      "(0,) (1,) (2,) (3,) (4,)\n"
     ]
    }
   ],
   "source": [
    "print(*zip(range(5)))"
   ]
  },
  {
   "cell_type": "code",
   "execution_count": null,
   "metadata": {
    "collapsed": true
   },
   "outputs": [],
   "source": []
  }
 ],
 "metadata": {
  "kernelspec": {
   "display_name": "Python 3",
   "language": "python",
   "name": "python3"
  },
  "language_info": {
   "codemirror_mode": {
    "name": "ipython",
    "version": 3
   },
   "file_extension": ".py",
   "mimetype": "text/x-python",
   "name": "python",
   "nbconvert_exporter": "python",
   "pygments_lexer": "ipython3",
   "version": "3.6.1"
  }
 },
 "nbformat": 4,
 "nbformat_minor": 2
}
