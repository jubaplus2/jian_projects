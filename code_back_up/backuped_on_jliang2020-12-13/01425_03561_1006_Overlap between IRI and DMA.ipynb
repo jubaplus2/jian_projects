{
 "cells": [
  {
   "cell_type": "code",
   "execution_count": 1,
   "metadata": {
    "collapsed": true
   },
   "outputs": [],
   "source": [
    "import pandas as pd\n",
    "import numpy as np\n",
    "IRI_Selected_18=['LOS ANGELES','DALLAS/FT WORTH','NEW YORK','HOUSTON','WEST TEX/NEW MEXICO','PHOENIX/TUCSON','SOUTH CAROLINA',\n",
    "                'MIAMI/FT LAUDERDALE','BALTIMORE/WASHINGTON','BIRMINGHAM/MONTGOMERY','NEW ORLEANS/MOBILE',\n",
    "                 'CHICAGO','MISSISSIPPI','BOSTON','ATLANTA','DETROIT','RALEIGH/GREENSBORO','DENVER']"
   ]
  },
  {
   "cell_type": "markdown",
   "metadata": {},
   "source": [
    "# Target Audience"
   ]
  },
  {
   "cell_type": "code",
   "execution_count": 2,
   "metadata": {
    "collapsed": true
   },
   "outputs": [],
   "source": [
    "teen_zips=pd.read_excel(\"/home/jian/SunnyD/Otherinput/2016/ACS_16_5YR_DP05_with_ann (Demographic Population).xlsx\",skiprows=1,dtype=str)\n",
    "teen_zips=teen_zips[['Id','Estimate; SEX AND AGE - 10 to 14 years','Estimate; SEX AND AGE - 15 to 19 years','Estimate; SEX AND AGE - Total population']]\n",
    "teen_zips=teen_zips.rename(columns={\"Estimate; SEX AND AGE - Total population\":\"Total_Population\"})\n",
    "teen_zips['zcta']=teen_zips['Id'].apply(lambda x: x.split(\"US\")[1])\n",
    "teen_zips['Estimate; SEX AND AGE - 10 to 14 years']=teen_zips['Estimate; SEX AND AGE - 10 to 14 years'].astype(float)\n",
    "teen_zips['Estimate; SEX AND AGE - 15 to 19 years']=teen_zips['Estimate; SEX AND AGE - 15 to 19 years'].astype(float)\n",
    "teen_zips['Total_Population']=teen_zips['Total_Population'].astype(float)\n",
    "teen_zips['teen_population']=teen_zips['Estimate; SEX AND AGE - 10 to 14 years']+teen_zips['Estimate; SEX AND AGE - 15 to 19 years']\n",
    "teen_zips=teen_zips[['zcta','teen_population','Total_Population']]"
   ]
  },
  {
   "cell_type": "code",
   "execution_count": 3,
   "metadata": {
    "collapsed": true
   },
   "outputs": [],
   "source": [
    "female_zips=pd.read_csv(\"/home/jian/SunnyD/Otherinput/2016/ACS_16_5YR_B01001_with_ann (Age by Sex).csv\",skiprows=1,dtype=str)\n",
    "female_zips=female_zips[['Id','Estimate; Female: - 25 to 29 years','Estimate; Female: - 30 to 34 years','Estimate; Female: - 35 to 39 years',\n",
    "                         'Estimate; Female: - 40 to 44 years','Estimate; Female: - 45 to 49 years','Estimate; Female: - 50 to 54 years']]\n",
    "female_zips.columns=['Id','Female_25_29','Female_30_34','Female_35_39','Female_40_44','Female_45_49','Female_50_54']\n",
    "\n",
    "female_age=['Female_25_29','Female_30_34','Female_35_39','Female_40_44','Female_45_49','Female_50_54']\n",
    "for col in female_age:\n",
    "    female_zips[col]=female_zips[col].astype(float)\n",
    "female_zips['Female_25_54']=female_zips['Female_25_29']+female_zips['Female_30_34']+female_zips['Female_35_39']+\\\n",
    "                                female_zips['Female_40_44']+female_zips['Female_45_49']+female_zips['Female_50_54']\n",
    "female_zips['zcta']=female_zips['Id'].apply(lambda x: x.split(\"US\")[1])\n",
    "female_zips=female_zips[['zcta','Female_25_54']]"
   ]
  },
  {
   "cell_type": "code",
   "execution_count": 4,
   "metadata": {
    "collapsed": true
   },
   "outputs": [],
   "source": [
    "household=pd.read_csv(\"/home/jian/SunnyD/Otherinput/2016/ACS_16_5YR_S1101_with_ann (Household Composition).csv\",dtype=str,skiprows=1)\n",
    "household=household[['Id','Total; Estimate; Total households','Total; Estimate; AGE OF OWN CHILDREN - Households with own children of the householder under 18 years']]\n",
    "household.columns=['Id','Total_HH','Total_HH_Child']\n",
    "household['Total_HH_Child']=household['Total_HH_Child'].astype(float)\n",
    "household['Total_HH']=household['Total_HH'].astype(float)\n",
    "household['HH_With_Child_Pctg']=household['Total_HH_Child']/household['Total_HH']\n",
    "household['zcta']=household['Id'].apply(lambda x: x.split(\"US\")[1])\n",
    "household=household[['zcta','HH_With_Child_Pctg','Total_HH']]"
   ]
  },
  {
   "cell_type": "code",
   "execution_count": 5,
   "metadata": {
    "collapsed": true
   },
   "outputs": [],
   "source": [
    "Income_HH=pd.read_csv(\"/home/jian/SunnyD/Otherinput/2016/ACS_16_5YR_DP03_with_ann (Demo work force).csv\",dtype=str,skiprows=1)\n",
    "Income_HH=Income_HH[['Id','Estimate; INCOME AND BENEFITS (IN 2016 INFLATION-ADJUSTED DOLLARS) - Total households - Less than $10,000',\n",
    "                    'Estimate; INCOME AND BENEFITS (IN 2016 INFLATION-ADJUSTED DOLLARS) - Total households - $10,000 to $14,999',\n",
    "                    'Estimate; INCOME AND BENEFITS (IN 2016 INFLATION-ADJUSTED DOLLARS) - Total households - $15,000 to $24,999',\n",
    "                    'Estimate; INCOME AND BENEFITS (IN 2016 INFLATION-ADJUSTED DOLLARS) - Total households - $25,000 to $34,999',\n",
    "                    'Estimate; INCOME AND BENEFITS (IN 2016 INFLATION-ADJUSTED DOLLARS) - Total households - $35,000 to $49,999']]\n",
    "Income_HH.columns=['Id','HH_Income_Lower_10K','HH_Income_10K_15K','HH_Income_15K_25K','HH_Income_25K_35K','HH_Income_35K_50K']\n",
    "Income_Col=['HH_Income_Lower_10K','HH_Income_10K_15K','HH_Income_15K_25K','HH_Income_25K_35K','HH_Income_35K_50K']\n",
    "for col in Income_Col:\n",
    "    Income_HH[col]=Income_HH[col].astype(float)\n",
    "Income_HH['HH_Income_0_50K']=Income_HH['HH_Income_Lower_10K']+Income_HH['HH_Income_10K_15K']+Income_HH['HH_Income_15K_25K']+\\\n",
    "                                Income_HH['HH_Income_25K_35K']+Income_HH['HH_Income_35K_50K']\n",
    "Income_HH['zcta']=Income_HH['Id'].apply(lambda x: x.split(\"US\")[1])\n",
    "Income_HH=Income_HH[['zcta','HH_Income_0_50K']]"
   ]
  },
  {
   "cell_type": "code",
   "execution_count": 6,
   "metadata": {
    "collapsed": true
   },
   "outputs": [],
   "source": [
    "Combined_Demo=pd.merge(teen_zips,female_zips,on='zcta',how='outer')\n",
    "Combined_Demo=pd.merge(Combined_Demo,household,on='zcta',how='outer')\n",
    "Combined_Demo=pd.merge(Combined_Demo,Income_HH,on='zcta',how='outer')\n",
    "Combined_Demo['Monther']=Combined_Demo['Female_25_54']*Combined_Demo['HH_With_Child_Pctg']\n",
    "Combined_Demo['Monther']=Combined_Demo['Monther'].apply(lambda x:round(x,2))"
   ]
  },
  {
   "cell_type": "code",
   "execution_count": 7,
   "metadata": {
    "collapsed": true
   },
   "outputs": [],
   "source": [
    "writer=pd.ExcelWriter(\"/home/jian/SunnyD/Primary_DMA_Audience/SunnyD Target audience penetration_JL_20180501.xlsx\",engine='xlsxwriter')\n",
    "Combined_Demo.to_excel(writer,'demo_data',index=False)\n",
    "\n",
    "Combined_Demo=Combined_Demo[['zcta','teen_population','Monther','HH_Income_0_50K','Total_Population','Total_HH']]"
   ]
  },
  {
   "cell_type": "markdown",
   "metadata": {
    "collapsed": true
   },
   "source": [
    "# Zip Code to ZCTA"
   ]
  },
  {
   "cell_type": "code",
   "execution_count": 8,
   "metadata": {
    "collapsed": true
   },
   "outputs": [],
   "source": [
    "match_zip=pd.read_excel(\"/home/jian/SunnyD/Otherinput/2016/zip_to_zcta_2017_From udsmapper.xlsx\",dtype=str)\n",
    "match_zip=match_zip[['ZIP_CODE','ZCTA']]\n",
    "match_zip.columns=['zip_cd','zcta']"
   ]
  },
  {
   "cell_type": "code",
   "execution_count": 9,
   "metadata": {
    "collapsed": true
   },
   "outputs": [],
   "source": [
    "Zip_IRI=pd.read_excel(\"/home/jian/SunnyD/Otherinput/All_IRI_Mkt_with_Zips_0430.xlsx\",dtype=str)\n",
    "Zip_IRI=pd.merge(Zip_IRI,match_zip,on='zip_cd',how='left')\n",
    "Zip_IRI=Zip_IRI[['zcta','IRI Market']].drop_duplicates()\n",
    "Zip_IRI=Zip_IRI[~pd.isnull(Zip_IRI['zcta'])].reset_index()\n",
    "del Zip_IRI['index']\n",
    "Zip_IRI_NoMarket=Zip_IRI[Zip_IRI['IRI Market']==\"NO MARKET\"]\n",
    "Zip_IRI_64Market=Zip_IRI[Zip_IRI['IRI Market']!=\"NO MARKET\"]\n",
    "Zip_IRI_NoMarket=Zip_IRI_NoMarket[~Zip_IRI_NoMarket['zcta'].isin(Zip_IRI_64Market['zcta'])]\n",
    "Zip_IRI_18_Markets=Zip_IRI[Zip_IRI['IRI Market'].isin(IRI_Selected_18)].drop_duplicates()\n",
    "Zip_IRI_48_Markets=Zip_IRI_64Market[~Zip_IRI_64Market['zcta'].isin(Zip_IRI_18_Markets['zcta'])].drop_duplicates()\n",
    "Zip_IRI_18_Markets.reset_index(inplace=True)\n",
    "del Zip_IRI_18_Markets['index']"
   ]
  },
  {
   "cell_type": "code",
   "execution_count": 10,
   "metadata": {
    "collapsed": true
   },
   "outputs": [],
   "source": [
    "Zip_DMA=pd.read_excel(\"/home/jian/Docs/Geo mapping/Zips by DMA by County16-17 nielsen.xlsx\",dtype=str,skiprows=1)\n",
    "Zip_DMA=Zip_DMA.iloc[:,[0,2]]\n",
    "Zip_DMA.columns=['zip_cd','DMA']\n",
    "Zip_DMA=pd.merge(Zip_DMA,match_zip,on='zip_cd',how='left')\n",
    "Zip_DMA=Zip_DMA[['zcta','DMA']].drop_duplicates()\n",
    "Zip_DMA=Zip_DMA[~pd.isnull(Zip_DMA['zcta'])].reset_index()\n",
    "del Zip_DMA['index']"
   ]
  },
  {
   "cell_type": "code",
   "execution_count": 11,
   "metadata": {
    "collapsed": true
   },
   "outputs": [],
   "source": [
    "Zip_IRI_18_Markets=pd.merge(Zip_IRI_18_Markets,Combined_Demo,on=\"zcta\",how='left')\n",
    "Zip_DMA=pd.merge(Zip_DMA,Combined_Demo,on=\"zcta\",how='left')"
   ]
  },
  {
   "cell_type": "code",
   "execution_count": 12,
   "metadata": {
    "collapsed": true
   },
   "outputs": [],
   "source": [
    "Zip_IRI_18_Markets.to_excel(writer,\"IRI_18_Market_Demo_by_zcta\",index=False)\n",
    "Zip_DMA.to_excel(writer,\"DMA_Demo_by_zcta\",index=False)"
   ]
  },
  {
   "cell_type": "code",
   "execution_count": 13,
   "metadata": {
    "collapsed": true
   },
   "outputs": [],
   "source": [
    "Zip_DMA_Overall=Zip_DMA.groupby(['DMA'])['teen_population','Monther','HH_Income_0_50K','Total_Population','Total_HH'].sum()\n",
    "Zip_DMA_Overall.reset_index(inplace=True)\n",
    "Zip_DMA_Overall['Total_Target_Audience']=Zip_DMA_Overall['teen_population']+Zip_DMA_Overall['Monther']\n",
    "Zip_DMA_Overall_Zip=Zip_DMA[['DMA','zcta']].drop_duplicates().groupby(['DMA'])['zcta'].count().to_frame()\n",
    "Zip_DMA_Overall_Zip.reset_index(inplace=True)\n",
    "Zip_DMA_Overall_Zip.columns=['DMA','zcta_count']\n",
    "Zip_DMA_Overall=pd.merge(Zip_DMA_Overall,Zip_DMA_Overall_Zip,on=\"DMA\",how=\"left\")"
   ]
  },
  {
   "cell_type": "code",
   "execution_count": 14,
   "metadata": {},
   "outputs": [
    {
     "data": {
      "text/html": [
       "<div>\n",
       "<style>\n",
       "    .dataframe thead tr:only-child th {\n",
       "        text-align: right;\n",
       "    }\n",
       "\n",
       "    .dataframe thead th {\n",
       "        text-align: left;\n",
       "    }\n",
       "\n",
       "    .dataframe tbody tr th {\n",
       "        vertical-align: top;\n",
       "    }\n",
       "</style>\n",
       "<table border=\"1\" class=\"dataframe\">\n",
       "  <thead>\n",
       "    <tr style=\"text-align: right;\">\n",
       "      <th></th>\n",
       "      <th>zcta</th>\n",
       "      <th>IRI Market</th>\n",
       "      <th>teen_population</th>\n",
       "      <th>Monther</th>\n",
       "      <th>HH_Income_0_50K</th>\n",
       "      <th>Total_Population</th>\n",
       "      <th>Total_HH</th>\n",
       "    </tr>\n",
       "  </thead>\n",
       "  <tbody>\n",
       "    <tr>\n",
       "      <th>0</th>\n",
       "      <td>11742</td>\n",
       "      <td>NEW YORK</td>\n",
       "      <td>2045.0</td>\n",
       "      <td>967.51</td>\n",
       "      <td>1161.0</td>\n",
       "      <td>13132.0</td>\n",
       "      <td>4566.0</td>\n",
       "    </tr>\n",
       "    <tr>\n",
       "      <th>1</th>\n",
       "      <td>01005</td>\n",
       "      <td>BOSTON</td>\n",
       "      <td>1023.0</td>\n",
       "      <td>189.07</td>\n",
       "      <td>635.0</td>\n",
       "      <td>5228.0</td>\n",
       "      <td>1840.0</td>\n",
       "    </tr>\n",
       "  </tbody>\n",
       "</table>\n",
       "</div>"
      ],
      "text/plain": [
       "    zcta IRI Market  teen_population  Monther  HH_Income_0_50K  \\\n",
       "0  11742   NEW YORK           2045.0   967.51           1161.0   \n",
       "1  01005     BOSTON           1023.0   189.07            635.0   \n",
       "\n",
       "   Total_Population  Total_HH  \n",
       "0           13132.0    4566.0  \n",
       "1            5228.0    1840.0  "
      ]
     },
     "execution_count": 14,
     "metadata": {},
     "output_type": "execute_result"
    }
   ],
   "source": [
    "Zip_IRI_18_Markets.head(2)"
   ]
  },
  {
   "cell_type": "code",
   "execution_count": 15,
   "metadata": {},
   "outputs": [
    {
     "name": "stdout",
     "output_type": "stream",
     "text": [
      "LOS ANGELES\n",
      "DALLAS/FT WORTH\n",
      "NEW YORK\n",
      "HOUSTON\n",
      "WEST TEX/NEW MEXICO\n",
      "PHOENIX/TUCSON\n",
      "SOUTH CAROLINA\n",
      "MIAMI/FT LAUDERDALE\n",
      "BALTIMORE/WASHINGTON\n",
      "BIRMINGHAM/MONTGOMERY\n",
      "NEW ORLEANS/MOBILE\n",
      "CHICAGO\n",
      "MISSISSIPPI\n",
      "BOSTON\n",
      "ATLANTA\n",
      "DETROIT\n",
      "RALEIGH/GREENSBORO\n",
      "DENVER\n"
     ]
    }
   ],
   "source": [
    "for market in IRI_Selected_18:\n",
    "    df=Zip_IRI_18_Markets[Zip_IRI_18_Markets['IRI Market']==market]\n",
    "    zip_df=df['zcta'].unique().tolist()\n",
    "    dma_df=Zip_DMA[Zip_DMA['zcta'].isin(zip_df)].drop_duplicates()\n",
    "    dma_df_in=dma_df.groupby(['DMA'])['teen_population','Monther','HH_Income_0_50K','Total_Population','Total_HH'].sum()\n",
    "    dma_df_in.reset_index(inplace=True)\n",
    "    dma_df_in.columns=['DMA','Teen_In_IRI','Mom_In_IRI','Lower_HH_In_IRI','Pop_all_In_IRI','HH_all_In_IRI']\n",
    "    dma_df_in['Target_Audience_In_IRI']=dma_df_in['Mom_In_IRI']+dma_df_in['Teen_In_IRI']\n",
    "    dma_df_in_zip=dma_df[['DMA','zcta']].drop_duplicates().groupby(['DMA'])['zcta'].count().to_frame()\n",
    "    dma_df_in_zip.reset_index(inplace=True)\n",
    "    dma_df_in_zip.columns=['DMA','zcta_count_In_IRI']\n",
    "    dma_df_in=pd.merge(dma_df_in,dma_df_in_zip,on=\"DMA\",how=\"left\")\n",
    "        \n",
    "    \n",
    "    dma_df_in=pd.merge(dma_df_in,Zip_DMA_Overall,on=\"DMA\",how='left')\n",
    "    dma_df_in['Pctg_Teen']=dma_df_in['Teen_In_IRI']/dma_df_in['teen_population']\n",
    "    dma_df_in['Pctg_Mon']=dma_df_in['Mom_In_IRI']/dma_df_in['Monther']\n",
    "    dma_df_in['Pctg_L_HH']=dma_df_in['Lower_HH_In_IRI']/dma_df_in['HH_Income_0_50K']\n",
    "    dma_df_in['Pctg_Target_Audience']=dma_df_in['Target_Audience_In_IRI']/dma_df_in['Total_Target_Audience']\n",
    "    dma_df_in['Pctg_zcta']=dma_df_in['zcta_count_In_IRI']/dma_df_in['zcta_count']\n",
    "    dma_df_in['Pctg_Pop']=dma_df_in['Pop_all_In_IRI']/dma_df_in['Total_Population']\n",
    "    dma_df_in['Pctg_zcta']=dma_df_in['HH_all_In_IRI']/dma_df_in['Total_HH']\n",
    "    \n",
    "    \n",
    "    dma_df_in=dma_df_in.sort_values(['Pctg_Target_Audience','Pctg_L_HH'],ascending=[False,False])\n",
    "    market_name=market.replace(\"/\",\"__\")\n",
    "    dma_df_in.to_excel(writer,market_name,index=False)\n",
    "    print(market)"
   ]
  },
  {
   "cell_type": "code",
   "execution_count": 16,
   "metadata": {
    "collapsed": true
   },
   "outputs": [],
   "source": [
    "writer.save()"
   ]
  },
  {
   "cell_type": "code",
   "execution_count": null,
   "metadata": {
    "collapsed": true
   },
   "outputs": [],
   "source": []
  },
  {
   "cell_type": "code",
   "execution_count": null,
   "metadata": {
    "collapsed": true
   },
   "outputs": [],
   "source": []
  },
  {
   "cell_type": "code",
   "execution_count": null,
   "metadata": {
    "collapsed": true
   },
   "outputs": [],
   "source": []
  }
 ],
 "metadata": {
  "kernelspec": {
   "display_name": "Python 3",
   "language": "python",
   "name": "python3"
  },
  "language_info": {
   "codemirror_mode": {
    "name": "ipython",
    "version": 3
   },
   "file_extension": ".py",
   "mimetype": "text/x-python",
   "name": "python",
   "nbconvert_exporter": "python",
   "pygments_lexer": "ipython3",
   "version": "3.6.1"
  }
 },
 "nbformat": 4,
 "nbformat_minor": 2
}
