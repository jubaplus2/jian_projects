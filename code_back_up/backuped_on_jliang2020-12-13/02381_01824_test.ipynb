{
 "cells": [
  {
   "cell_type": "code",
   "execution_count": 1,
   "metadata": {
    "collapsed": true
   },
   "outputs": [],
   "source": [
    "import pandas as pd\n",
    "import numpy as np\n",
    "import datetime\n",
    "import json\n",
    "from haversine import haversine\n",
    "import zipcodes\n",
    "import os\n",
    "import paramiko\n",
    "import logging\n",
    "import glob"
   ]
  },
  {
   "cell_type": "code",
   "execution_count": 2,
   "metadata": {
    "collapsed": true
   },
   "outputs": [],
   "source": [
    "Starting_Monday=datetime.date(2019,4,1)\n",
    "this_monday=datetime.datetime.now().date()-datetime.timedelta(days=datetime.datetime.now().date().weekday())\n",
    "diff_days=(this_monday-Starting_Monday).days"
   ]
  },
  {
   "cell_type": "code",
   "execution_count": null,
   "metadata": {
    "collapsed": true
   },
   "outputs": [],
   "source": [
    "sales_data_df=glob.glob(\"/home/jian/Projects/Smoothie_King/Weekly_Sales/*.xlsx\")\n"
   ]
  },
  {
   "cell_type": "code",
   "execution_count": 10,
   "metadata": {},
   "outputs": [],
   "source": [
    "# sales_data_this_week=pd.read_excel(local_path_sales,dtype=str)\n",
    "\t    # sales_data_this_week['NetSalesSmoothie']=sales_data_this_week['NetSalesSmoothie'].astype(float)\n",
    "\t    # sales_data_this_week['NetSalesRetail']=sales_data_this_week['NetSalesRetail'].astype(float)\n",
    "\t    # sales_data_this_week=sales_data_this_week[(sales_data_this_week['NetSalesSmoothie']>0) | (sales_data_this_week['NetSalesRetail']>0)]\n",
    "\t    print(\"Make Sure 0 as storenumber length>4 (Sales):\",str(len(sales_data_this_week[sales_data_this_week['StoreNumber'].apply(lambda x: len(x))!=4])))\n",
    "\t    print(len(sales_data_this_week['StoreNumber'].unique().tolist())==len(sales_data_this_week))\n",
    "\t    "
   ]
  },
  {
   "cell_type": "code",
   "execution_count": 24,
   "metadata": {},
   "outputs": [
    {
     "data": {
      "text/plain": [
       "(908, 2)"
      ]
     },
     "execution_count": 24,
     "metadata": {},
     "output_type": "execute_result"
    }
   ],
   "source": [
    "sales_data_df=glob.glob(\"/home/jian/Projects/Smoothie_King/Weekly_Sales/*.xlsx\")\n",
    "sales_data_df=pd.DataFrame({\"File_Path\":sales_data_df})\n",
    "sales_data_df['Date']=sales_data_df['File_Path'].apply(lambda x: os.path.basename(x).split(\"_\")[1].split(\".\")[0])\n",
    "sales_data_df['Date']=sales_data_df['Date'].apply(lambda x: datetime.datetime.strptime(x,\"%Y%m%d\").date())\n",
    "sales_data_df=sales_data_df[sales_data_df['Date']>this_monday-datetime.timedelta(days=28)]\n",
    "sales_data_df=sales_data_df.sort_values(\"Date\",ascending=False)\n",
    "if sales_data_df.shape[0]!=4:\n",
    "    logging.info(\"Error: recent 4 weeks weekly sales count is not 4\")\n",
    "else:\n",
    "    sales_data_4_weeks=pd.DataFrame()\n",
    "    \n",
    "    for file_path in sales_data_df['File_Path'].tolist():\n",
    "        df=pd.read_excel(file_path,dtype=str)\n",
    "        df['NetSalesSmoothie']=df['NetSalesSmoothie'].astype(float)\n",
    "        df['NetSalesRetail']=df['NetSalesRetail'].astype(float)\n",
    "        df=df[(df['NetSalesSmoothie']>0) | (df['NetSalesRetail']>0)]\n",
    "        df=df.drop_duplicates()\n",
    "        sales_data_4_weeks=sales_data_4_weeks.append(df)\n",
    "sales_data_4_weeks_agg_count=sales_data_4_weeks.groupby(['StoreNumber'])['NetSalesSmoothie'].count().to_frame().reset_index()\n",
    "sales_data_4_weeks_agg_count=sales_data_4_weeks_agg_count.rename(columns={\"NetSalesSmoothie\":\"Count_Available\"})\n",
    "sales_data_4_weeks_agg_count=sales_data_4_weeks_agg_count[sales_data_4_weeks_agg_count['Count_Available']>=3]\n",
    "sales_data_4_weeks_agg_count.shape"
   ]
  },
  {
   "cell_type": "code",
   "execution_count": 25,
   "metadata": {},
   "outputs": [],
   "source": [
    "import os\n"
   ]
  },
  {
   "cell_type": "code",
   "execution_count": 27,
   "metadata": {},
   "outputs": [
    {
     "data": {
      "text/plain": [
       "'20190409'"
      ]
     },
     "execution_count": 27,
     "metadata": {},
     "output_type": "execute_result"
    }
   ],
   "source": [
    "today_str=str(datetime.datetime.now().date())\n",
    "today_str.replace(\"-\",\"\")"
   ]
  },
  {
   "cell_type": "code",
   "execution_count": null,
   "metadata": {
    "collapsed": true
   },
   "outputs": [],
   "source": []
  }
 ],
 "metadata": {
  "kernelspec": {
   "display_name": "Python 3",
   "language": "python",
   "name": "python3"
  },
  "language_info": {
   "codemirror_mode": {
    "name": "ipython",
    "version": 3
   },
   "file_extension": ".py",
   "mimetype": "text/x-python",
   "name": "python",
   "nbconvert_exporter": "python",
   "pygments_lexer": "ipython3",
   "version": "3.6.1"
  }
 },
 "nbformat": 4,
 "nbformat_minor": 2
}
