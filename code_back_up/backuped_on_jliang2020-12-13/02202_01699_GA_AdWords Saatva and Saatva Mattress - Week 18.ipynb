{
 "cells": [
  {
   "cell_type": "code",
   "execution_count": 2,
   "metadata": {},
   "outputs": [],
   "source": [
    "# Week 18: 6/14 to 6/18 vs 6/21 to 6/25\n",
    "import pandas as pd\n",
    "import numpy as np\n",
    "import datetime\n",
    "import pandas as pd\n",
    "from googleads import adwords\n",
    "import google_analytics_reporting_api as ga\n",
    "import os\n",
    "\n",
    "week=\"_week_18\" \n",
    "\n",
    "Start_Date_overall='2018-06-14'\n",
    "End_Data_overall='2018-06-25'\n",
    "\n",
    "Start_Date_1='2018-06-14'\n",
    "End_Date_1='2018-06-18'\n",
    "\n",
    "Start_Date_2='2018-06-21'\n",
    "End_Date_2='2018-06-25'\n",
    "\n",
    "\n",
    "today_str=str(datetime.datetime.now().date())\n",
    "writer_folder=\"/home/jian/Projects/Saatva/To_Lexie_and_Connor/output/running_on_\"+today_str+\"/\"\n",
    "try:\n",
    "    os.stat(writer_folder)\n",
    "except:\n",
    "    os.mkdir(writer_folder)\n",
    "\n",
    "writer_folder=\"/home/jian/Projects/Saatva/To_Lexie_and_Connor/output/running_on_\"+today_str+\"/\"+week[1:]+\"/\"\n",
    "try:\n",
    "    os.stat(writer_folder)\n",
    "except:\n",
    "    os.mkdir(writer_folder)"
   ]
  },
  {
   "cell_type": "markdown",
   "metadata": {},
   "source": [
    "# Google Analytics"
   ]
  },
  {
   "cell_type": "code",
   "execution_count": 3,
   "metadata": {
    "collapsed": true
   },
   "outputs": [],
   "source": [
    "analytics = ga.initialize_analyticsreporting('/home/jian/Projects/Saatva/GA/GA_api_jubapluscc@gmail.com.json')\n",
    "\n",
    "def num_func_trans(df):\n",
    "    if 'ga:sessions' in df.columns:\n",
    "        df['ga:sessions']=df['ga:sessions'].apply(lambda x: int(x.replace(\",\",\"\")))\n",
    "        df['ga:sessions']=df['ga:sessions'].astype(int)\n",
    "\n",
    "    if 'ga:adClicks' in df.columns:\n",
    "        df['ga:adClicks']=df['ga:adClicks'].apply(lambda x: int(x.replace(\",\",\"\")))\n",
    "        df['ga:adClicks']=df['ga:adClicks'].astype(int)\n",
    "\n",
    "    if 'ga:impressions' in df.columns:\n",
    "        df['ga:impressions']=df['ga:impressions'].apply(lambda x: int(x.replace(\",\",\"\")))\n",
    "        df['ga:impressions']=df['ga:impressions'].astype(int)\n",
    "    \n",
    "    if 'ga:transactions' in df.columns:\n",
    "        df['ga:transactions']=df['ga:transactions'].apply(lambda x: int(x.replace(\",\",\"\")))\n",
    "        df['ga:transactions']=df['ga:transactions'].astype(int)\n",
    "    \n",
    "    if 'ga:transactionRevenue' in df.columns:\n",
    "        df['ga:transactionRevenue']=df['ga:transactionRevenue'].apply(lambda x: float(x.replace(\",\",\"\")))\n",
    "        df['ga:transactionRevenue']=df['ga:transactionRevenue'].astype(float)\n",
    "\n",
    "    \n",
    "    return df\n"
   ]
  },
  {
   "cell_type": "code",
   "execution_count": 4,
   "metadata": {},
   "outputs": [
    {
     "data": {
      "text/plain": [
       "(1785, 9)"
      ]
     },
     "execution_count": 4,
     "metadata": {},
     "output_type": "execute_result"
    }
   ],
   "source": [
    "# Saatva.com\n",
    "# dateHour, sourceMedium      sessions, adClicks, impressions\n",
    "ga_data_1=ga.get_report_over_10000_rows(analytics=analytics, VIEW_ID='122377905',start_date=Start_Date_1, end_date=End_Date_1,\n",
    "                                            ga_metrics=['ga:sessions','ga:adClicks','ga:impressions','ga:transactions','ga:transactionRevenue'],\n",
    "                                            ga_dimensions=['ga:dateHour','ga:sourceMedium'])\n",
    "\n",
    "ga_data_2=ga.get_report_over_10000_rows(analytics=analytics, VIEW_ID='122377905',start_date=Start_Date_2, end_date=End_Date_2,\n",
    "                                            ga_metrics=['ga:sessions','ga:adClicks','ga:impressions','ga:transactions','ga:transactionRevenue'],\n",
    "                                            ga_dimensions=['ga:dateHour','ga:sourceMedium'])\n",
    "\n",
    "\n",
    "ga_data_saatva=ga_data_1.append(ga_data_2)\n",
    "ga_data_saatva['View']=\"Saatva.com\"\n",
    "ga_data_saatva['View_ID']=\"122377905\"\n",
    "ga_data_saatva.shape"
   ]
  },
  {
   "cell_type": "code",
   "execution_count": null,
   "metadata": {
    "collapsed": true
   },
   "outputs": [],
   "source": []
  },
  {
   "cell_type": "code",
   "execution_count": 5,
   "metadata": {},
   "outputs": [
    {
     "data": {
      "text/plain": [
       "(8263, 9)"
      ]
     },
     "execution_count": 5,
     "metadata": {},
     "output_type": "execute_result"
    }
   ],
   "source": [
    "# Saatvamattress.com\n",
    "# dateHour, sourceMedium      sessions, adClicks, impressions\n",
    "ga_data_1=ga.get_report_over_10000_rows(analytics=analytics, VIEW_ID='33605697',start_date=Start_Date_1, end_date=End_Date_1,\n",
    "                                            ga_metrics=['ga:sessions','ga:adClicks','ga:impressions','ga:transactions','ga:transactionRevenue','ga:transactions','ga:transactionRevenue'],\n",
    "                                            ga_dimensions=['ga:dateHour','ga:sourceMedium'])\n",
    "\n",
    "ga_data_2=ga.get_report_over_10000_rows(analytics=analytics, VIEW_ID='33605697',start_date=Start_Date_2, end_date=End_Date_2,\n",
    "                                            ga_metrics=['ga:sessions','ga:adClicks','ga:impressions','ga:transactions','ga:transactionRevenue','ga:transactions','ga:transactionRevenue'],\n",
    "                                            ga_dimensions=['ga:dateHour','ga:sourceMedium'])\n",
    "\n",
    "\n",
    "ga_data_SM=ga_data_1.append(ga_data_2)\n",
    "ga_data_SM['View']=\"Saatvamattress.com\"\n",
    "ga_data_SM['View_ID']=\"33605697\"\n",
    "ga_data_SM.shape"
   ]
  },
  {
   "cell_type": "code",
   "execution_count": null,
   "metadata": {
    "collapsed": true
   },
   "outputs": [],
   "source": []
  },
  {
   "cell_type": "code",
   "execution_count": 6,
   "metadata": {
    "collapsed": true
   },
   "outputs": [],
   "source": [
    "ga_data=ga_data_SM.append(ga_data_saatva)\n",
    "ga_data=num_func_trans(ga_data)"
   ]
  },
  {
   "cell_type": "code",
   "execution_count": 7,
   "metadata": {
    "collapsed": true
   },
   "outputs": [],
   "source": [
    "ga_data['Source']=ga_data['ga:sourceMedium'].apply(lambda x: x.split(\" / \")[0])\n",
    "ga_data['Medium']=ga_data['ga:sourceMedium'].apply(lambda x: x.split(\" / \")[1])"
   ]
  },
  {
   "cell_type": "code",
   "execution_count": 8,
   "metadata": {
    "collapsed": true
   },
   "outputs": [],
   "source": [
    "# msn in 'social'\n",
    "# mail.yahoo.com / referral in 'referral'\n",
    "\n",
    "ga_data['Defined_Media']=np.nan\n",
    "ga_data['Defined_Media']=np.where(ga_data['ga:sourceMedium'].str.contains('youtube.'),\"Social\",\n",
    "                                  np.where((ga_data['Source'].isin(['msn','instagram','pinterest','facebook'])) & (ga_data['Medium']=='cpc'),\"Social\", # Social: 'msn','instagram','pinterest','facebook\n",
    "                                           np.where(ga_data['ga:sourceMedium'].str.contains('criteo'),\"Retarget\",\n",
    "                                                    np.where(ga_data['Source']==\"(direct)\",\"Direct\",\n",
    "                                                             np.where((ga_data['Source'].isin(['google','bing','yahoo'])) & (ga_data['Medium']=='cpc'),\"SEM\",\n",
    "                                                                          np.where((ga_data['Source'].isin(['google','bing','yahoo'])) & (ga_data['Medium']=='organic'),\"SEO\",\n",
    "                                                                                   np.where(ga_data['Source']==\"powerInbox\",\"Email\",\n",
    "                                                                                            np.where((ga_data['ga:sourceMedium'].str.contains('email')) & (~ga_data['ga:sourceMedium'].isin([\"taboola / townnews-wvgazettemail\",\"query.hemailaccessonline.com / referral\"]) | (ga_data['ga:sourceMedium'].str.contains(\"mail.\") )),\"Email\",\n",
    "                                                                                                     np.where(ga_data['ga:sourceMedium'].str.contains('taboola'),\"Video\",\n",
    "                                                                                                              np.where(ga_data['Medium']==\"referral\",\"Referral\",\n",
    "                                                                                                                       np.where(ga_data['ga:sourceMedium'].str.contains('display'),\"Display\",\n",
    "                                                                                                                                \"Others\")\n",
    "                                                                                                                       )\n",
    "                                                                                                              )\n",
    "                                                                                                     )\n",
    "                                                                                           )\n",
    "                                                                                  )\n",
    "                                                                     )\n",
    "                                                            )\n",
    "                                                   )\n",
    "                                          )\n",
    "                                 )"
   ]
  },
  {
   "cell_type": "code",
   "execution_count": 9,
   "metadata": {
    "collapsed": true
   },
   "outputs": [],
   "source": [
    "GA_taxonomy=ga_data[['ga:sourceMedium','Source','Medium','Defined_Media']].drop_duplicates()\n",
    "GA_taxonomy.reset_index(inplace=True)\n",
    "GA_taxonomy=GA_taxonomy.sort_values('Defined_Media')\n",
    "del GA_taxonomy['index']"
   ]
  },
  {
   "cell_type": "code",
   "execution_count": 10,
   "metadata": {},
   "outputs": [
    {
     "data": {
      "text/html": [
       "<div>\n",
       "<style>\n",
       "    .dataframe thead tr:only-child th {\n",
       "        text-align: right;\n",
       "    }\n",
       "\n",
       "    .dataframe thead th {\n",
       "        text-align: left;\n",
       "    }\n",
       "\n",
       "    .dataframe tbody tr th {\n",
       "        vertical-align: top;\n",
       "    }\n",
       "</style>\n",
       "<table border=\"1\" class=\"dataframe\">\n",
       "  <thead>\n",
       "    <tr style=\"text-align: right;\">\n",
       "      <th></th>\n",
       "      <th>ga:adClicks</th>\n",
       "      <th>ga:dateHour</th>\n",
       "      <th>ga:impressions</th>\n",
       "      <th>ga:sessions</th>\n",
       "      <th>ga:sourceMedium</th>\n",
       "      <th>ga:transactionRevenue</th>\n",
       "      <th>ga:transactions</th>\n",
       "      <th>View</th>\n",
       "      <th>View_ID</th>\n",
       "      <th>Source</th>\n",
       "      <th>Medium</th>\n",
       "      <th>Defined_Media</th>\n",
       "    </tr>\n",
       "  </thead>\n",
       "  <tbody>\n",
       "    <tr>\n",
       "      <th>0</th>\n",
       "      <td>0</td>\n",
       "      <td>2018061400</td>\n",
       "      <td>0</td>\n",
       "      <td>74</td>\n",
       "      <td>(direct) / (none)</td>\n",
       "      <td>1377.0</td>\n",
       "      <td>1</td>\n",
       "      <td>Saatvamattress.com</td>\n",
       "      <td>33605697</td>\n",
       "      <td>(direct)</td>\n",
       "      <td>(none)</td>\n",
       "      <td>Direct</td>\n",
       "    </tr>\n",
       "    <tr>\n",
       "      <th>1</th>\n",
       "      <td>0</td>\n",
       "      <td>2018061400</td>\n",
       "      <td>0</td>\n",
       "      <td>1</td>\n",
       "      <td>aol.com / referral</td>\n",
       "      <td>0.0</td>\n",
       "      <td>0</td>\n",
       "      <td>Saatvamattress.com</td>\n",
       "      <td>33605697</td>\n",
       "      <td>aol.com</td>\n",
       "      <td>referral</td>\n",
       "      <td>Referral</td>\n",
       "    </tr>\n",
       "  </tbody>\n",
       "</table>\n",
       "</div>"
      ],
      "text/plain": [
       "   ga:adClicks ga:dateHour  ga:impressions  ga:sessions     ga:sourceMedium  \\\n",
       "0            0  2018061400               0           74   (direct) / (none)   \n",
       "1            0  2018061400               0            1  aol.com / referral   \n",
       "\n",
       "   ga:transactionRevenue  ga:transactions                View   View_ID  \\\n",
       "0                 1377.0                1  Saatvamattress.com  33605697   \n",
       "1                    0.0                0  Saatvamattress.com  33605697   \n",
       "\n",
       "     Source    Medium Defined_Media  \n",
       "0  (direct)    (none)        Direct  \n",
       "1   aol.com  referral      Referral  "
      ]
     },
     "execution_count": 10,
     "metadata": {},
     "output_type": "execute_result"
    }
   ],
   "source": [
    "ga_data.head(2)"
   ]
  },
  {
   "cell_type": "code",
   "execution_count": 11,
   "metadata": {
    "collapsed": true
   },
   "outputs": [],
   "source": [
    "ga_agg_session=ga_data.groupby(['ga:dateHour','Defined_Media'])['ga:sessions'].sum().to_frame()\n",
    "ga_agg_session.reset_index(inplace=True)\n",
    "ga_agg_wide_session=ga_agg_session.pivot('ga:dateHour','Defined_Media','ga:sessions')\n",
    "ga_agg_wide_session.reset_index(inplace=True)\n",
    "ga_agg_wide_session['time_hour']=ga_agg_wide_session['ga:dateHour'].apply(lambda x:datetime.datetime.strptime(x,\"%Y%m%d%H\"))"
   ]
  },
  {
   "cell_type": "code",
   "execution_count": 12,
   "metadata": {
    "collapsed": true
   },
   "outputs": [],
   "source": [
    "ga_agg_transaction=ga_data.groupby(['ga:dateHour','Defined_Media'])['ga:transactions'].sum().to_frame()\n",
    "ga_agg_transaction.reset_index(inplace=True)\n",
    "ga_agg_wide_trans=ga_agg_transaction.pivot('ga:dateHour','Defined_Media','ga:transactions')\n",
    "ga_agg_wide_trans.reset_index(inplace=True)\n",
    "ga_agg_wide_trans['time_hour']=ga_agg_wide_trans['ga:dateHour'].apply(lambda x:datetime.datetime.strptime(x,\"%Y%m%d%H\"))"
   ]
  },
  {
   "cell_type": "code",
   "execution_count": 13,
   "metadata": {
    "collapsed": true
   },
   "outputs": [],
   "source": [
    "ga_agg_Revenue=ga_data.groupby(['ga:dateHour','Defined_Media'])['ga:transactionRevenue'].sum().to_frame()\n",
    "ga_agg_Revenue.reset_index(inplace=True)\n",
    "ga_agg_wide_Revenue=ga_agg_Revenue.pivot('ga:dateHour','Defined_Media','ga:transactionRevenue')\n",
    "ga_agg_wide_Revenue.reset_index(inplace=True)\n",
    "ga_agg_wide_Revenue['time_hour']=ga_agg_wide_Revenue['ga:dateHour'].apply(lambda x:datetime.datetime.strptime(x,\"%Y%m%d%H\"))\n"
   ]
  },
  {
   "cell_type": "code",
   "execution_count": 14,
   "metadata": {
    "collapsed": true
   },
   "outputs": [],
   "source": [
    "writer=pd.ExcelWriter(writer_folder+'/Saatva_S_and_SM_GA_by_Media_'+Start_Date_1+'_to_'+End_Date_2+week+'.xlsx', engine='xlsxwriter')"
   ]
  },
  {
   "cell_type": "code",
   "execution_count": 15,
   "metadata": {
    "collapsed": true
   },
   "outputs": [],
   "source": [
    "# Combined both Saatva.com and Saatvamattress.com\n",
    "ga_agg_wide_session.to_excel(writer,\"Session_hour_media\",index=False)\n",
    "ga_agg_wide_trans.to_excel(writer,\"Trans_hour_media\",index=False)\n",
    "ga_agg_wide_Revenue.to_excel(writer,\"Revenue_hour_media\",index=False)\n",
    "\n",
    "ga_data.to_excel(writer,\"data\",index=False)\n",
    "GA_taxonomy.to_excel(writer,\"taxonomy\",index=False)\n",
    "writer.save()"
   ]
  },
  {
   "cell_type": "code",
   "execution_count": 16,
   "metadata": {
    "collapsed": true
   },
   "outputs": [],
   "source": [
    "media_col=ga_agg_wide_session.columns.tolist()[1:(len(ga_agg_wide_session.columns)-1)]"
   ]
  },
  {
   "cell_type": "code",
   "execution_count": 17,
   "metadata": {
    "collapsed": true
   },
   "outputs": [],
   "source": [
    "def write_csv_output(df,Matrics):\n",
    "    ga_output_csv=df.copy()\n",
    "    ga_output_csv['Date']=ga_output_csv['ga:dateHour'].apply(lambda x:int(x[0:8]))\n",
    "    ga_output_csv['Hour']=ga_output_csv['ga:dateHour'].apply(lambda x:int(x[8:10]))\n",
    "    del ga_output_csv['ga:dateHour']\n",
    "    ga_output_csv=ga_output_csv.sort_values(['Date','Hour'],ascending=True)\n",
    "    ga_output_csv=ga_output_csv[['Date','Hour']+media_col]\n",
    "    ga_output_csv=ga_output_csv.fillna(0)\n",
    "    ga_output_csv.to_csv(writer_folder+'/Saatva_S_and_SM_GA_by_Media_'+Start_Date_1+'_to_'+End_Date_2+week+\"_\"+Matrics+'.csv',index=False)"
   ]
  },
  {
   "cell_type": "code",
   "execution_count": 18,
   "metadata": {
    "collapsed": true
   },
   "outputs": [],
   "source": [
    "write_csv_output(ga_agg_wide_session,\"Session\")\n",
    "write_csv_output(ga_agg_wide_trans,\"Trans\")\n",
    "write_csv_output(ga_agg_wide_Revenue,\"Revenue\")\n"
   ]
  },
  {
   "cell_type": "code",
   "execution_count": 19,
   "metadata": {
    "collapsed": true
   },
   "outputs": [],
   "source": [
    "ga_agg_session_by_View=ga_data.groupby(['View','View_ID','ga:dateHour','Defined_Media'])['ga:sessions'].sum().unstack('Defined_Media')\n",
    "ga_agg_session_by_View.reset_index(inplace=True)\n",
    "ga_agg_session_by_View=ga_agg_session_by_View.fillna(0)\n",
    "ga_agg_session_by_View.to_csv(writer_folder+'/Saatva_S_and_SM_GA_by_Media_by_View'+Start_Date_1+'_to_'+End_Date_2+week+\"_Sessions\"+'.csv',index=False)\n",
    "\n",
    "\n"
   ]
  },
  {
   "cell_type": "code",
   "execution_count": null,
   "metadata": {
    "collapsed": true
   },
   "outputs": [],
   "source": []
  },
  {
   "cell_type": "markdown",
   "metadata": {},
   "source": [
    "# AdWords keywords from GA"
   ]
  },
  {
   "cell_type": "code",
   "execution_count": 20,
   "metadata": {},
   "outputs": [
    {
     "name": "stderr",
     "output_type": "stream",
     "text": [
      "/usr/local/lib/python3.6/site-packages/fuzzywuzzy/fuzz.py:35: UserWarning: Using slow pure-python SequenceMatcher. Install python-Levenshtein to remove this warning\n",
      "  warnings.warn('Using slow pure-python SequenceMatcher. Install python-Levenshtein to remove this warning')\n"
     ]
    }
   ],
   "source": [
    "from fuzzywuzzy import fuzz\n",
    "# fuzz 60 ratio score thredhold\n",
    "writer=pd.ExcelWriter(writer_folder+\"KeyWords_From_GA+\"+Start_Date_1+'_to_'+End_Date_2+week+\".xlsx\")"
   ]
  },
  {
   "cell_type": "code",
   "execution_count": 21,
   "metadata": {
    "collapsed": true
   },
   "outputs": [],
   "source": [
    "# Saatva.com\n",
    "# ga:date ga:keyword ga:impressions ga:adClicks\n",
    "ga_data_Ads_Saatva_1=ga.get_report_over_10000_rows(analytics=analytics, VIEW_ID='122377905',start_date=Start_Date_1, end_date=End_Date_1,\n",
    "                                            ga_metrics=['ga:adClicks','ga:impressions'],\n",
    "                                            ga_dimensions=['ga:date','ga:keyword'])\n",
    "ga_data_Ads_Saatva_2=ga.get_report_over_10000_rows(analytics=analytics, VIEW_ID='122377905',start_date=Start_Date_2, end_date=End_Date_2,\n",
    "                                            ga_metrics=['ga:adClicks','ga:impressions'],\n",
    "                                            ga_dimensions=['ga:date','ga:keyword'])\n",
    "ga_data_Ads_Saatva=ga_data_Ads_Saatva_1.append(ga_data_Ads_Saatva_2)\n",
    "ga_data_Ads_Saatva['key_word_list']=ga_data_Ads_Saatva['ga:keyword'].apply(lambda x: x.split(\" \"))\n",
    "ga_data_Ads_Saatva['Brand_Ratio']=ga_data_Ads_Saatva['key_word_list'].apply(lambda x: max([fuzz.ratio(\"saatva\",z) for z in x]))\n",
    "ga_data_Ads_Saatva['key_words_group']=np.where(ga_data_Ads_Saatva['Brand_Ratio']>60,\"Brand\",\"Non_Brand\")\n",
    "\n",
    "taxonomy_Saatva=ga_data_Ads_Saatva[['ga:keyword','key_words_group']].drop_duplicates()\n",
    "taxonomy_Saatva['website']=\"Saatva.com\"\n",
    "ga_data_Ads_Saatva['ga:adClicks']=ga_data_Ads_Saatva['ga:adClicks'].astype(int)\n",
    "ga_data_Ads_Saatva['ga:impressions']=ga_data_Ads_Saatva['ga:impressions'].astype(int)\n",
    "output_Saatva=ga_data_Ads_Saatva.groupby([\"ga:date\",\"ga:keyword\",\"key_words_group\"])['ga:adClicks','ga:impressions'].sum().reset_index()\n",
    "output_Saatva_Brand=output_Saatva[output_Saatva['key_words_group']==\"Brand\"].sort_values('ga:date').reset_index()\n",
    "del output_Saatva_Brand['index']\n",
    "\n",
    "output_Saatva_Brand.to_excel(writer,\"Saatva_Brand\",index=False)\n",
    "output_Saatva.to_excel(writer,\"Saatva_Keywords\",index=False)"
   ]
  },
  {
   "cell_type": "code",
   "execution_count": 22,
   "metadata": {
    "collapsed": true
   },
   "outputs": [],
   "source": [
    "# SaatvaMattress.com\n",
    "# ga:date ga:keyword ga:impressions ga:adClicks\n",
    "ga_data_Ads_SaatvaMattress_1=ga.get_report_over_10000_rows(analytics=analytics, VIEW_ID='33605697',start_date=Start_Date_1, end_date=End_Date_1,\n",
    "                                            ga_metrics=['ga:adClicks','ga:impressions'],\n",
    "                                            ga_dimensions=['ga:date','ga:keyword'])\n",
    "ga_data_Ads_SaatvaMattress_2=ga.get_report_over_10000_rows(analytics=analytics, VIEW_ID='33605697',start_date=Start_Date_2, end_date=End_Date_2,\n",
    "                                            ga_metrics=['ga:adClicks','ga:impressions'],\n",
    "                                            ga_dimensions=['ga:date','ga:keyword'])\n",
    "ga_data_Ads_SaatvaMattress=ga_data_Ads_SaatvaMattress_1.append(ga_data_Ads_SaatvaMattress_2)\n",
    "ga_data_Ads_SaatvaMattress['key_word_list']=ga_data_Ads_SaatvaMattress['ga:keyword'].apply(lambda x: x.split(\" \"))\n",
    "ga_data_Ads_SaatvaMattress['Brand_Ratio']=ga_data_Ads_SaatvaMattress['key_word_list'].apply(lambda x: max([fuzz.ratio(\"saatva\",z) for z in x]))\n",
    "ga_data_Ads_SaatvaMattress['key_words_group']=np.where(ga_data_Ads_SaatvaMattress['Brand_Ratio']>60,\"Brand\",\"Non_Brand\")\n",
    "\n",
    "taxonomy_SaatvaMattress=ga_data_Ads_SaatvaMattress[['ga:keyword','key_words_group']].drop_duplicates()\n",
    "taxonomy_SaatvaMattress['website']=\"SaatvaMattress.com\"\n",
    "ga_data_Ads_SaatvaMattress['ga:adClicks']=ga_data_Ads_SaatvaMattress['ga:adClicks'].astype(int)\n",
    "ga_data_Ads_SaatvaMattress['ga:impressions']=ga_data_Ads_SaatvaMattress['ga:impressions'].astype(int)\n",
    "output_SaatvaMattress=ga_data_Ads_SaatvaMattress.groupby([\"ga:date\",\"ga:keyword\",\"key_words_group\"])['ga:adClicks','ga:impressions'].sum().reset_index()\n",
    "output_SaatvaMattress_Brand=output_SaatvaMattress[output_SaatvaMattress['key_words_group']==\"Brand\"].sort_values('ga:date').reset_index()\n",
    "del output_SaatvaMattress_Brand['index']\n",
    "\n",
    "output_SaatvaMattress_Brand.to_excel(writer,\"SaatvaMattress_Brand\",index=False)\n",
    "output_SaatvaMattress.to_excel(writer,\"SaatvaMattress_Keywords\",index=False)"
   ]
  },
  {
   "cell_type": "code",
   "execution_count": null,
   "metadata": {
    "collapsed": true
   },
   "outputs": [],
   "source": []
  },
  {
   "cell_type": "code",
   "execution_count": 23,
   "metadata": {
    "collapsed": true
   },
   "outputs": [],
   "source": [
    "taxonomy=taxonomy_Saatva.append(taxonomy_SaatvaMattress)\n",
    "taxonomy.to_excel(writer,\"taxonomy\",index=False)\n",
    "writer.save()"
   ]
  },
  {
   "cell_type": "code",
   "execution_count": null,
   "metadata": {
    "collapsed": true
   },
   "outputs": [],
   "source": []
  },
  {
   "cell_type": "code",
   "execution_count": null,
   "metadata": {
    "collapsed": true
   },
   "outputs": [],
   "source": []
  },
  {
   "cell_type": "code",
   "execution_count": null,
   "metadata": {
    "collapsed": true
   },
   "outputs": [],
   "source": []
  },
  {
   "cell_type": "code",
   "execution_count": null,
   "metadata": {
    "collapsed": true
   },
   "outputs": [],
   "source": []
  },
  {
   "cell_type": "code",
   "execution_count": null,
   "metadata": {
    "collapsed": true
   },
   "outputs": [],
   "source": []
  },
  {
   "cell_type": "markdown",
   "metadata": {},
   "source": [
    "# Google AdWords"
   ]
  },
  {
   "cell_type": "code",
   "execution_count": 24,
   "metadata": {
    "collapsed": true
   },
   "outputs": [],
   "source": [
    "def get_client(config_path='googleads_saatva.yaml'):\n",
    "    return adwords.AdWordsClient.LoadFromStorage(config_path)\n",
    "\n",
    "def download_report_as_stream(client, report_type, fields, start_date, end_date):\n",
    "    '''Download Adwords report, then save as csv file to base_dir\n",
    "    Args:\n",
    "        client: adwords.AdWordsClient.LoadFromStorage()\n",
    "        report_type: str eg. 'KEYWORDS_PERFORMANCE_REPORT'\n",
    "        fields: list eg. [\"CampaignId\", \"CampaignName\", ... ]\n",
    "        start_date: str, eg. '2018-02-11'\n",
    "        end_date: str, eg.\n",
    "    Return:\n",
    "        str, path to csv file\n",
    "    '''\n",
    "    report_downloader = client.GetReportDownloader(version='v201802')\n",
    "    # Create report definition.\n",
    "    report = {\n",
    "        'reportName': report_type,\n",
    "        'dateRangeType': 'CUSTOM_DATE',\n",
    "        'reportType': report_type,\n",
    "        'downloadFormat': 'CSV',\n",
    "        'selector': {\n",
    "            'fields': fields,\n",
    "            'dateRange': {\n",
    "                'min': start_date,\n",
    "                'max': end_date}\n",
    "        }\n",
    "    }\n",
    "\n",
    "    # save output\n",
    "    return report_downloader.DownloadReportAsStream(report, \n",
    "        skip_report_header=True, skip_column_header=False,\n",
    "        skip_report_summary=True)\n",
    "\n"
   ]
  },
  {
   "cell_type": "code",
   "execution_count": 25,
   "metadata": {
    "collapsed": true
   },
   "outputs": [],
   "source": [
    "client_Saatva = get_client(config_path='/home/jian/Projects/Saatva/To_Lexie_and_Connor/googleads_saatva_JL_Saatva.yaml')\n",
    "report_type = 'CAMPAIGN_PERFORMANCE_REPORT'\n",
    "fields = [\"AccountDescriptiveName\",\"CampaignName\",\"Date\",\"HourOfDay\",\"AdvertisingChannelType\",\"Impressions\", \"Clicks\", \"Cost\"]\n",
    "response_Saatva = download_report_as_stream(client_Saatva, report_type, fields, Start_Date_overall, End_Data_overall)\n",
    "Saatva_Click = pd.read_csv(response_Saatva)\n",
    "Saatva_Click['Cost']=Saatva_Click['Cost'].apply(lambda x: x/1000000)"
   ]
  },
  {
   "cell_type": "code",
   "execution_count": 26,
   "metadata": {
    "collapsed": true
   },
   "outputs": [],
   "source": [
    "client_Saatva_Branding = get_client(config_path='/home/jian/Projects/Saatva/To_Lexie_and_Connor/googleads_saatva_JL_Saatva_Branding.yaml')\n",
    "report_type = 'CAMPAIGN_PERFORMANCE_REPORT'\n",
    "fields = [\"AccountDescriptiveName\",\"CampaignName\",\"Date\",\"HourOfDay\",\"AdvertisingChannelType\",\"Impressions\", \"Clicks\", \"Cost\"]\n",
    "response_Saatva_Branding = download_report_as_stream(client_Saatva_Branding, report_type, fields, Start_Date_overall, End_Data_overall)\n",
    "Saatva_Brand_Click = pd.read_csv(response_Saatva_Branding)\n",
    "Saatva_Brand_Click['Cost']=Saatva_Brand_Click['Cost'].apply(lambda x: x/1000000)"
   ]
  },
  {
   "cell_type": "code",
   "execution_count": 27,
   "metadata": {
    "collapsed": true
   },
   "outputs": [],
   "source": [
    "client_Saatva_Competitors = get_client(config_path='/home/jian/Projects/Saatva/To_Lexie_and_Connor/googleads_saatva_JL_Saatva_Competitors.yaml')\n",
    "report_type = 'CAMPAIGN_PERFORMANCE_REPORT'\n",
    "fields = [\"AccountDescriptiveName\",\"CampaignName\",\"Date\",\"HourOfDay\",\"AdvertisingChannelType\",\"Impressions\", \"Clicks\", \"Cost\"]\n",
    "response_Saatva_Competitor = download_report_as_stream(client_Saatva_Competitors, report_type, fields, Start_Date_overall, End_Data_overall)\n",
    "Saatva_Competitor_Click = pd.read_csv(response_Saatva_Competitor)\n",
    "Saatva_Competitor_Click['Cost']=Saatva_Competitor_Click['Cost'].apply(lambda x: x/1000000)"
   ]
  },
  {
   "cell_type": "code",
   "execution_count": 28,
   "metadata": {
    "collapsed": true
   },
   "outputs": [],
   "source": [
    "Saatva_Click=Saatva_Click[~((Saatva_Click['Campaign'].str.contains(\"Loom\")) | (Saatva_Click['Campaign'].str.contains(\"Leaf\")) | (Saatva_Click['Campaign'].str.contains(\"Zenhaven\")))]\n",
    "# Filter out campaign contains \"Loom\" and \"Leaf\" and \"Zenhaven\" from Saatva account\n",
    "Saatva_Competitor_Click=Saatva_Competitor_Click[Saatva_Competitor_Click['Campaign'].apply(lambda x: x[len(x)-4:len(x)+1])==\"[SM]\"]\n",
    "Saatva_Competitor_Click.reset_index(inplace=True)\n",
    "del Saatva_Competitor_Click['index']\n",
    "# Keep only campaign labeled as \"[SM]\" in Saatva Competitor account\n",
    "Saatva_Click['Campaign_Type']=Saatva_Click['Advertising Channel'].apply(lambda x: x.replace(\"Search\",\"SEM\").replace(\"Shopping\",\"PLA\"))\n",
    "Saatva_Brand_Click['Campaign_Type']=Saatva_Brand_Click['Advertising Channel'].apply(lambda x: x.replace(\"Search\",\"SEM_Brand\").replace(\"Shopping\",\"PLA\"))\n",
    "Saatva_Competitor_Click['Campaign_Type']=\"SEM_Non_Brand\" # Because it's all labeled as Non-Brand in Campaign and in Search Only Campaign Type"
   ]
  },
  {
   "cell_type": "code",
   "execution_count": 29,
   "metadata": {
    "collapsed": true
   },
   "outputs": [],
   "source": [
    "# Split Saatva\n",
    "# 'Search Network with Display Select' Campaign Type all 0 Impr and Clicks\n",
    "Saatva_Click_Search=Saatva_Click[Saatva_Click['Advertising Channel']=='Search']\n",
    "Saatva_Click_Others=Saatva_Click[Saatva_Click['Advertising Channel']!='Search']"
   ]
  },
  {
   "cell_type": "code",
   "execution_count": 30,
   "metadata": {},
   "outputs": [
    {
     "name": "stderr",
     "output_type": "stream",
     "text": [
      "/usr/local/lib/python3.6/site-packages/ipykernel_launcher.py:2: SettingWithCopyWarning: \n",
      "A value is trying to be set on a copy of a slice from a DataFrame.\n",
      "Try using .loc[row_indexer,col_indexer] = value instead\n",
      "\n",
      "See the caveats in the documentation: http://pandas.pydata.org/pandas-docs/stable/indexing.html#indexing-view-versus-copy\n",
      "  \n"
     ]
    },
    {
     "data": {
      "text/plain": [
       "0"
      ]
     },
     "execution_count": 30,
     "metadata": {},
     "output_type": "execute_result"
    }
   ],
   "source": [
    "Saatva_Click_Search['Campaign_Type']=np.where((Saatva_Click_Search['Campaign'].str.contains(\"Branded\")) | (Saatva_Click_Search['Campaign'].str.contains(\" Brand \")) | (Saatva_Click_Search['Campaign'].str.contains(\"Co-Brand\")) | (Saatva_Click_Search['Campaign'].str.contains(\"\\[Brand\\]\")),\"SEM_Brand\",\n",
    "                                                 np.where((Saatva_Click_Search['Campaign'].str.contains(\"Non-Brand\")) | (Saatva_Click_Search['Campaign'].str.contains(\"Dynamic Search Ads\")),\"SEM_Non_Brand\",\"NA\"))\n",
    "Saatva_Click_Search_1=Saatva_Click_Search[Saatva_Click_Search['Campaign_Type']!=\"NA\"]\n",
    "Saatva_Click_Search_2=Saatva_Click_Search[Saatva_Click_Search['Campaign_Type']==\"NA\"]\n",
    "len(Saatva_Click_Search_2) # Make sure it's 0"
   ]
  },
  {
   "cell_type": "code",
   "execution_count": 31,
   "metadata": {},
   "outputs": [
    {
     "data": {
      "text/plain": [
       "'\\nSaatva_keywords=pd.read_csv(\"/home/jian/Projects/Saatva/To_Lexie_and_Connor/AdWords/saatva_keywords.csv\",dtype=str,skiprows=2)\\nSaatva_Brand_keywords=pd.read_csv(\"/home/jian/Projects/Saatva/To_Lexie_and_Connor/AdWords/saatva branding_keywords.csv\",dtype=str)\\nSaatva_Competitor_keywords=pd.read_csv(\"/home/jian/Projects/Saatva/To_Lexie_and_Connor/AdWords/saatva competitors_keywords.csv\",dtype=str,skiprows=2)\\n\\nSaatva_keywords=Saatva_keywords[~((Saatva_keywords[\\'Campaign\\'].str.contains(\"Loom\")) | (Saatva_keywords[\\'Campaign\\'].str.contains(\"Leaf\")) | (Saatva_keywords[\\'Campaign\\'].str.contains(\"Zenhaven\")))]\\nSaatva_keywords[\\'Campaign_Type\\']=np.where(Saatva_keywords[\\'Search keyword\\'].str.contains(\"aatva\"),\"SEM_Brand\",\"SEM_Non_Brand\")\\nSaatva_keywords[\\'Impressions\\']=Saatva_keywords[\\'Impressions\\'].apply(lambda x: int(x.replace(\",\",\"\")))\\nSaatva_keywords[\\'Impressions\\']=Saatva_keywords[\\'Impressions\\'].astype(int)\\nSaatva_keywords[\\'Clicks\\']=Saatva_keywords[\\'Clicks\\'].apply(lambda x: int(x.replace(\",\",\"\")))\\nSaatva_keywords[\\'Clicks\\']=Saatva_keywords[\\'Clicks\\'].astype(int)\\nSaatva_keywords=Saatva_keywords.groupby([\\'Campaign\\',\\'Campaign_Type\\'])[\\'Impressions\\',\\'Clicks\\'].sum()\\nSaatva_keywords.reset_index(inplace=True)\\nSaatva_keywords=Saatva_keywords.sort_values([\\'Campaign\\',\\'Impressions\\'])\\nSaatva_keywords=Saatva_keywords.drop_duplicates(\\'Campaign\\')\\nSaatva_Campaign_Type=Saatva_keywords[[\\'Campaign\\',\\'Campaign_Type\\']]\\n\\ndel Saatva_Click_Search_2[\\'Campaign_Type\\']\\nSaatva_Click_Search_2=pd.merge(Saatva_Click_Search_2,Saatva_Campaign_Type,on=\"Campaign\",how=\"left\")\\n\\nSaatva_Search_Click=Saatva_Click_Search_1.append(Saatva_Click_Search_2)\\nSaatva_Search_Click[\\'Campaign_Type\\']=Saatva_Search_Click[\\'Campaign_Type\\'].fillna(\"All_0_Values_and_No_Kws\")\\n'"
      ]
     },
     "execution_count": 31,
     "metadata": {},
     "output_type": "execute_result"
    }
   ],
   "source": [
    "# All campaing is able to differentiate from the name about brand and non-brand, so no need to go to keywords level\n",
    "'''\n",
    "Saatva_keywords=pd.read_csv(\"/home/jian/Projects/Saatva/To_Lexie_and_Connor/AdWords/saatva_keywords.csv\",dtype=str,skiprows=2)\n",
    "Saatva_Brand_keywords=pd.read_csv(\"/home/jian/Projects/Saatva/To_Lexie_and_Connor/AdWords/saatva branding_keywords.csv\",dtype=str)\n",
    "Saatva_Competitor_keywords=pd.read_csv(\"/home/jian/Projects/Saatva/To_Lexie_and_Connor/AdWords/saatva competitors_keywords.csv\",dtype=str,skiprows=2)\n",
    "\n",
    "Saatva_keywords=Saatva_keywords[~((Saatva_keywords['Campaign'].str.contains(\"Loom\")) | (Saatva_keywords['Campaign'].str.contains(\"Leaf\")) | (Saatva_keywords['Campaign'].str.contains(\"Zenhaven\")))]\n",
    "Saatva_keywords['Campaign_Type']=np.where(Saatva_keywords['Search keyword'].str.contains(\"aatva\"),\"SEM_Brand\",\"SEM_Non_Brand\")\n",
    "Saatva_keywords['Impressions']=Saatva_keywords['Impressions'].apply(lambda x: int(x.replace(\",\",\"\")))\n",
    "Saatva_keywords['Impressions']=Saatva_keywords['Impressions'].astype(int)\n",
    "Saatva_keywords['Clicks']=Saatva_keywords['Clicks'].apply(lambda x: int(x.replace(\",\",\"\")))\n",
    "Saatva_keywords['Clicks']=Saatva_keywords['Clicks'].astype(int)\n",
    "Saatva_keywords=Saatva_keywords.groupby(['Campaign','Campaign_Type'])['Impressions','Clicks'].sum()\n",
    "Saatva_keywords.reset_index(inplace=True)\n",
    "Saatva_keywords=Saatva_keywords.sort_values(['Campaign','Impressions'])\n",
    "Saatva_keywords=Saatva_keywords.drop_duplicates('Campaign')\n",
    "Saatva_Campaign_Type=Saatva_keywords[['Campaign','Campaign_Type']]\n",
    "\n",
    "del Saatva_Click_Search_2['Campaign_Type']\n",
    "Saatva_Click_Search_2=pd.merge(Saatva_Click_Search_2,Saatva_Campaign_Type,on=\"Campaign\",how=\"left\")\n",
    "\n",
    "Saatva_Search_Click=Saatva_Click_Search_1.append(Saatva_Click_Search_2)\n",
    "Saatva_Search_Click['Campaign_Type']=Saatva_Search_Click['Campaign_Type'].fillna(\"All_0_Values_and_No_Kws\")\n",
    "'''"
   ]
  },
  {
   "cell_type": "code",
   "execution_count": 32,
   "metadata": {},
   "outputs": [
    {
     "data": {
      "text/html": [
       "<div>\n",
       "<style>\n",
       "    .dataframe thead tr:only-child th {\n",
       "        text-align: right;\n",
       "    }\n",
       "\n",
       "    .dataframe thead th {\n",
       "        text-align: left;\n",
       "    }\n",
       "\n",
       "    .dataframe tbody tr th {\n",
       "        vertical-align: top;\n",
       "    }\n",
       "</style>\n",
       "<table border=\"1\" class=\"dataframe\">\n",
       "  <thead>\n",
       "    <tr style=\"text-align: right;\">\n",
       "      <th></th>\n",
       "      <th>Account</th>\n",
       "      <th>Campaign</th>\n",
       "      <th>Day</th>\n",
       "      <th>Hour of day</th>\n",
       "      <th>Advertising Channel</th>\n",
       "      <th>Impressions</th>\n",
       "      <th>Clicks</th>\n",
       "      <th>Cost</th>\n",
       "      <th>Campaign_Type</th>\n",
       "    </tr>\n",
       "  </thead>\n",
       "  <tbody>\n",
       "  </tbody>\n",
       "</table>\n",
       "</div>"
      ],
      "text/plain": [
       "Empty DataFrame\n",
       "Columns: [Account, Campaign, Day, Hour of day, Advertising Channel, Impressions, Clicks, Cost, Campaign_Type]\n",
       "Index: []"
      ]
     },
     "execution_count": 32,
     "metadata": {},
     "output_type": "execute_result"
    }
   ],
   "source": [
    "Saatva_Click_Search_2.head(2)"
   ]
  },
  {
   "cell_type": "code",
   "execution_count": 33,
   "metadata": {
    "collapsed": true
   },
   "outputs": [],
   "source": [
    "Saatva_Click=Saatva_Click_Search.append(Saatva_Click_Others)"
   ]
  },
  {
   "cell_type": "code",
   "execution_count": 34,
   "metadata": {
    "collapsed": true
   },
   "outputs": [],
   "source": [
    "writer=pd.ExcelWriter(writer_folder+\"/Saatva_AdWords_\"+Start_Date_overall+\"_to_\"+End_Data_overall+week+\"_cost.xlsx\",engine='xlsxwriter')"
   ]
  },
  {
   "cell_type": "code",
   "execution_count": 35,
   "metadata": {
    "collapsed": true
   },
   "outputs": [],
   "source": [
    "Saatva_Agg=Saatva_Click.append(Saatva_Brand_Click).append(Saatva_Competitor_Click)\n",
    "Saatva_Agg['Day']=Saatva_Agg['Day'].apply(lambda x: datetime.datetime.strptime(x,\"%Y-%m-%d\").date())\n",
    "Saatva_Agg.reset_index(inplace=True)\n",
    "del Saatva_Agg['index']\n",
    "Saatva_Agg['Hour of day']=Saatva_Agg['Hour of day'].astype(int)\n",
    "Saatva_Agg_Category=Saatva_Agg[['Campaign','Account','Advertising Channel','Campaign_Type']].drop_duplicates()\n",
    "Saatva_Agg_Category.to_excel(writer,\"Campaign Category\",index=False)"
   ]
  },
  {
   "cell_type": "code",
   "execution_count": 36,
   "metadata": {
    "collapsed": true
   },
   "outputs": [],
   "source": [
    "Saatva_Agg=Saatva_Agg.groupby([\"Campaign_Type\",\"Day\",\"Hour of day\"])['Impressions','Clicks', 'Cost'].apply(sum)\n",
    "Saatva_Agg.reset_index(inplace=True)\n",
    "Saatva_Agg['CTR']=Saatva_Agg['Clicks']/Saatva_Agg['Impressions']\n",
    "Saatva_Agg.to_excel(writer,\"reshaped by hour day\",index=False)\n",
    "\n",
    "Saatva_Agg_No_NA=Saatva_Agg[(Saatva_Agg['Campaign_Type']!=\"NA\") & (Saatva_Agg['Campaign_Type']!=\"Search Network with Display Select\")]\n",
    "\n",
    "Saatva_Agg_No_NA.to_excel(writer,\"clean data by hour day\",index=False)"
   ]
  },
  {
   "cell_type": "code",
   "execution_count": 37,
   "metadata": {
    "collapsed": true
   },
   "outputs": [],
   "source": [
    "writer.save()"
   ]
  },
  {
   "cell_type": "code",
   "execution_count": 38,
   "metadata": {
    "collapsed": true
   },
   "outputs": [],
   "source": [
    "AdWords_output=Saatva_Agg.copy()\n",
    "AdWords_output['Date']=AdWords_output['Day'].apply(lambda x: str(x)[0:4]+str(x)[5:7]+str(x)[8:10])\n",
    "AdWords_output=AdWords_output[['Campaign_Type','Date','Hour of day','Impressions','Clicks','Cost']]\n",
    "AdWords_output=AdWords_output.rename(columns={\"Hour of day\":\"Hour\",\"Impressions\":\"IMP\"})\n",
    "AdWords_output=AdWords_output.sort_values([\"Campaign_Type\",\"Date\",\"Hour\"],ascending=[True,True,True])\n",
    "AdWords_output.to_csv(writer_folder+\"/Saatva_AdWords_\"+Start_Date_overall+\"_to_\"+End_Data_overall+week+\"_cost.csv\",index=False)"
   ]
  },
  {
   "cell_type": "code",
   "execution_count": null,
   "metadata": {
    "collapsed": true
   },
   "outputs": [],
   "source": []
  },
  {
   "cell_type": "code",
   "execution_count": null,
   "metadata": {
    "collapsed": true
   },
   "outputs": [],
   "source": []
  },
  {
   "cell_type": "code",
   "execution_count": null,
   "metadata": {
    "collapsed": true
   },
   "outputs": [],
   "source": []
  }
 ],
 "metadata": {
  "kernelspec": {
   "display_name": "Python 3",
   "language": "python",
   "name": "python3"
  },
  "language_info": {
   "codemirror_mode": {
    "name": "ipython",
    "version": 3
   },
   "file_extension": ".py",
   "mimetype": "text/x-python",
   "name": "python",
   "nbconvert_exporter": "python",
   "pygments_lexer": "ipython3",
   "version": "3.6.1"
  }
 },
 "nbformat": 4,
 "nbformat_minor": 2
}
