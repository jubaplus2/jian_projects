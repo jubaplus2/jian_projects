{
 "cells": [
  {
   "cell_type": "code",
   "execution_count": 1,
   "metadata": {
    "collapsed": true
   },
   "outputs": [],
   "source": [
    "import pandas as pd\n",
    "import datetime"
   ]
  },
  {
   "cell_type": "code",
   "execution_count": 2,
   "metadata": {
    "collapsed": true
   },
   "outputs": [],
   "source": [
    "pop_by_zip=pd.read_csv(\"/home/jian/Docs/EASI/2018-07-19/ZIP4_18_DATA_A2_CSV/ZIP4_18_DATA_A2.CSV\",dtype=str,skiprows=1,usecols=['ZIP_CODE','POP18','HH18'])\n",
    "pop_by_zip['POP18']=pop_by_zip['POP18'].astype(float)\n",
    "pop_by_zip['HH18']=pop_by_zip['HH18'].astype(float)\n",
    "pop_by_zip=pop_by_zip.groupby(['ZIP_CODE'])['POP18','HH18'].sum().reset_index()\n",
    "pop_by_zip=pop_by_zip.rename(columns={\"ZIP_CODE\":\"zip_cd\"})"
   ]
  },
  {
   "cell_type": "code",
   "execution_count": 3,
   "metadata": {
    "collapsed": true
   },
   "outputs": [],
   "source": [
    "IRI_Counties_both=pd.read_excel(\"/home/jian/SunnyD/Otherinput/DMA_to_IRI_Pctg/match_counties.xlsx\",sheetname='Sheet1',dtype=str)\n",
    "IRI_Counties_IRI=pd.read_excel(\"/home/jian/SunnyD/Otherinput/DMA_to_IRI_Pctg/match_counties.xlsx\",sheetname='IRI',dtype=str,usecols=[0,1])\n",
    "IRI_Counties_Nielsen=pd.read_excel(\"/home/jian/SunnyD/Otherinput/DMA_to_IRI_Pctg/match_counties.xlsx\",sheetname='Nielsen',dtype=str,usecols=[0,1])\n",
    "IRI_Counties_Nielsen.columns=[['County','cleaned_name']]\n",
    "IRI_Counties_both=IRI_Counties_both[(IRI_Counties_both['IRI_Label']!='nan') & (IRI_Counties_both['Nielsen_Label']!='nan')]\n",
    "\n",
    "IRI_Counties_both=IRI_Counties_both[['County','County']]\n",
    "IRI_Counties_both.columns=['County','cleaned_name']\n",
    "\n",
    "Nielsen_counties=IRI_Counties_both.append(IRI_Counties_Nielsen).drop_duplicates().reset_index()\n",
    "IRI_counties=IRI_Counties_both.append(IRI_Counties_IRI).drop_duplicates().reset_index()\n",
    "\n",
    "del Nielsen_counties['index']\n",
    "del IRI_counties['index']\n"
   ]
  },
  {
   "cell_type": "code",
   "execution_count": 4,
   "metadata": {
    "collapsed": true
   },
   "outputs": [],
   "source": [
    "All_DMA_zips=pd.read_excel(\"/home/jian/Docs/Geo_mapping/Zips by DMA by County16-17 nielsen.xlsx\",dtype=str,skiprows=1)\n",
    "All_DMA_zips=All_DMA_zips.iloc[:,[0,2,6,9]]\n",
    "All_DMA_zips.columns=['zip_cd','DMA','State','County']\n",
    "All_DMA_zips['County']=All_DMA_zips['County']+\"|\"+All_DMA_zips['State']\n",
    "All_DMA_zips['County']=All_DMA_zips['County'].apply(lambda x: x.replace(\" \",\"\").lower())\n",
    "All_DMA_zips=All_DMA_zips[~All_DMA_zips['State'].isin(['AK','HI'])]"
   ]
  },
  {
   "cell_type": "code",
   "execution_count": 5,
   "metadata": {
    "collapsed": true
   },
   "outputs": [],
   "source": [
    "All_IRI_counties=pd.read_excel(\"/home/jian/SunnyD/Otherinput/Total_US_counties_IRI_markets_and_regions_cr_12272016.xlsx\",dtype=str,sheetname='U.S. Counties',skiprows=1)\n",
    "All_IRI_counties=All_IRI_counties[['County Name','State','IRI Market']]\n",
    "All_IRI_counties['County']=All_IRI_counties['County Name']+\"|\"+All_IRI_counties['State']\n",
    "All_IRI_counties['County']=All_IRI_counties['County'].apply(lambda x: x.replace(\" \",\"\").lower())\n",
    "All_IRI_counties=pd.merge(All_IRI_counties,IRI_counties,on=\"County\",how=\"left\")\n",
    "All_IRI_counties=All_IRI_counties[['IRI Market','cleaned_name']]"
   ]
  },
  {
   "cell_type": "code",
   "execution_count": 6,
   "metadata": {
    "collapsed": true
   },
   "outputs": [],
   "source": [
    "All_DMA_zips=pd.merge(All_DMA_zips,Nielsen_counties,on=\"County\",how=\"left\")\n",
    "All_DMA_zips=All_DMA_zips[['zip_cd','DMA','County','cleaned_name']].rename(columns={\"County\":\"Nielsen_County\"})"
   ]
  },
  {
   "cell_type": "code",
   "execution_count": 7,
   "metadata": {
    "collapsed": true
   },
   "outputs": [],
   "source": [
    "All_DMA_zips_merge=pd.merge(All_DMA_zips,All_IRI_counties,on=\"cleaned_name\",how=\"left\")\n",
    "All_DMA_zips_merge=pd.merge(All_DMA_zips_merge,pop_by_zip,on=\"zip_cd\",how=\"left\")"
   ]
  },
  {
   "cell_type": "code",
   "execution_count": 8,
   "metadata": {
    "collapsed": true
   },
   "outputs": [],
   "source": [
    "output=pd.DataFrame()\n",
    "for DMA,group in All_DMA_zips_merge.groupby(['DMA']):\n",
    "    DMA_total_Pop=group[['zip_cd','POP18']].drop_duplicates()['POP18'].sum()\n",
    "    \n",
    "    DMA_by_Zip_IRI=group[['zip_cd','IRI Market']].drop_duplicates().groupby(['zip_cd'])['IRI Market'].count().to_frame().reset_index().rename(columns={\"IRI Market\":\"IRI_count\"})\n",
    "    zip_DMA=group[['zip_cd','DMA']].drop_duplicates()\n",
    "    \n",
    "    df=group[['zip_cd','DMA','IRI Market','POP18']].drop_duplicates()\n",
    "    df=pd.merge(df,DMA_by_Zip_IRI,on='zip_cd',how='left')\n",
    "    df['POP18_weighted']=df['POP18']/df['IRI_count']\n",
    "    if abs(df['POP18_weighted'].sum()-DMA_total_Pop)>0.1:\n",
    "        print(DMA,df['POP18_weighted'].sum(),DMA_total_Pop)\n",
    "    allocated_DMA=df.groupby(['DMA','IRI Market'])['POP18_weighted'].sum().to_frame().reset_index()\n",
    "    allocated_DMA['Pctg']=allocated_DMA['POP18_weighted']/DMA_total_Pop\n",
    "    output=output.append(allocated_DMA)"
   ]
  },
  {
   "cell_type": "code",
   "execution_count": 9,
   "metadata": {
    "collapsed": true
   },
   "outputs": [],
   "source": [
    "output.to_csv(\"/home/jian/SunnyD/Otherinput/DMA_to_IRI_Pctg/from_DMA_to_IRI_based_on_common_population.csv\")"
   ]
  },
  {
   "cell_type": "code",
   "execution_count": 25,
   "metadata": {},
   "outputs": [
    {
     "data": {
      "text/plain": [
       "66325.390000000043"
      ]
     },
     "execution_count": 25,
     "metadata": {},
     "output_type": "execute_result"
    }
   ],
   "source": [
    "media_spend=pd.read_excel(\"/home/jian/SunnyD/Otherinput/DMA_to_IRI_Pctg/FB-IG_Sunny D_Spend by DMA & Day_8.21.2018.xlsx\",sheetname=\"Raw Data Report\",dtype=str,skiprows=2)\n",
    "media_spend=media_spend[['DMA Region','Day','Impressions','Amount Spent']]\n",
    "media_spend=media_spend[~media_spend['Day'].isin(['nan','All'])]\n",
    "media_spend['Amount Spent']=media_spend['Amount Spent'].astype(float)\n",
    "media_spend['Impressions']=media_spend['Impressions'].astype(int)\n",
    "media_spend=media_spend.groupby(['DMA Region','Day'])['Impressions','Amount Spent'].sum().reset_index()\n"
   ]
  },
  {
   "cell_type": "code",
   "execution_count": 26,
   "metadata": {
    "collapsed": true
   },
   "outputs": [],
   "source": [
    "media_spend_NAME=pd.read_excel(\"/home/jian/SunnyD/Otherinput/DMA_to_IRI_Pctg/FB-IG_Sunny D_Spend by DMA & Day_8.21.2018.xlsx\",sheetname=\"DMA_Name_Match\",dtype=str)\n",
    "media_spend_NAME.columns=['DMA Region','DMA']"
   ]
  },
  {
   "cell_type": "code",
   "execution_count": 27,
   "metadata": {
    "collapsed": true
   },
   "outputs": [],
   "source": [
    "media_spend=pd.merge(media_spend,media_spend_NAME,on=\"DMA Region\",how=\"left\")"
   ]
  },
  {
   "cell_type": "code",
   "execution_count": 28,
   "metadata": {
    "collapsed": true
   },
   "outputs": [],
   "source": [
    "media_spend_IRI=pd.merge(media_spend,output,on=\"DMA\",how=\"left\")\n",
    "media_spend_IRI['Cost_allocated']=media_spend_IRI['Amount Spent']*media_spend_IRI['Pctg']\n",
    "media_spend_IRI['Impr_allocated']=media_spend_IRI['Impressions']*media_spend_IRI['Pctg']"
   ]
  },
  {
   "cell_type": "code",
   "execution_count": 29,
   "metadata": {
    "collapsed": true
   },
   "outputs": [],
   "source": [
    "media_spend_IRI=media_spend_IRI.groupby(['DMA Region','DMA','Day','IRI Market'])['Cost_allocated','Impr_allocated'].sum().reset_index()"
   ]
  },
  {
   "cell_type": "code",
   "execution_count": 49,
   "metadata": {
    "collapsed": true
   },
   "outputs": [],
   "source": [
    "not_allocated=media_spend[media_spend['DMA Region']==\"Non-DMA Region\"]"
   ]
  },
  {
   "cell_type": "code",
   "execution_count": null,
   "metadata": {
    "collapsed": true
   },
   "outputs": [],
   "source": []
  },
  {
   "cell_type": "code",
   "execution_count": 46,
   "metadata": {
    "collapsed": true
   },
   "outputs": [],
   "source": [
    "writer=pd.ExcelWriter(\"/home/jian/SunnyD/Otherinput/DMA_to_IRI_Pctg/allocated_cost.xlsx\",engine=\"xlsxwriter\")"
   ]
  },
  {
   "cell_type": "code",
   "execution_count": 50,
   "metadata": {
    "collapsed": true
   },
   "outputs": [],
   "source": [
    "media_spend_IRI.to_excel(writer,\"allocated_cost_withinDMA\",index=False)\n",
    "not_allocated.to_excel(writer,\"Non_DMA_Region\",index=False)\n",
    "output.to_excel(writer,\"proportion_on_pop\",index=False)\n",
    "writer.save()"
   ]
  },
  {
   "cell_type": "code",
   "execution_count": null,
   "metadata": {
    "collapsed": true
   },
   "outputs": [],
   "source": []
  }
 ],
 "metadata": {
  "kernelspec": {
   "display_name": "Python 3",
   "language": "python",
   "name": "python3"
  },
  "language_info": {
   "codemirror_mode": {
    "name": "ipython",
    "version": 3
   },
   "file_extension": ".py",
   "mimetype": "text/x-python",
   "name": "python",
   "nbconvert_exporter": "python",
   "pygments_lexer": "ipython3",
   "version": "3.6.1"
  }
 },
 "nbformat": 4,
 "nbformat_minor": 2
}
