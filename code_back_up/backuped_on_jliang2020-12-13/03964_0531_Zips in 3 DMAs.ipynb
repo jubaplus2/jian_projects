{
 "cells": [
  {
   "cell_type": "code",
   "execution_count": 8,
   "metadata": {
    "collapsed": true
   },
   "outputs": [],
   "source": [
    "import pandas as pd\n",
    "import datetime"
   ]
  },
  {
   "cell_type": "code",
   "execution_count": 9,
   "metadata": {},
   "outputs": [
    {
     "data": {
      "text/plain": [
       "(43102, 2)"
      ]
     },
     "execution_count": 9,
     "metadata": {},
     "output_type": "execute_result"
    }
   ],
   "source": [
    "DMA_zip=pd.read_excel(\"/home/jian/Docs/Geo_mapping/Zips by DMA by County16-17 nielsen.xlsx\",skiprows=1,usecols=[0,2])\n",
    "DMA_zip.columns=['zip_cd','DMA']\n",
    "DMA_zip=DMA_zip.drop_duplicates()\n",
    "DMA_zip=DMA_zip.reset_index()\n",
    "del DMA_zip['index']\n",
    "DMA_zip.shape"
   ]
  },
  {
   "cell_type": "code",
   "execution_count": 10,
   "metadata": {},
   "outputs": [
    {
     "data": {
      "text/plain": [
       "40812"
      ]
     },
     "execution_count": 10,
     "metadata": {},
     "output_type": "execute_result"
    }
   ],
   "source": [
    "len(DMA_zip['zip_cd'].unique())"
   ]
  },
  {
   "cell_type": "code",
   "execution_count": 11,
   "metadata": {
    "collapsed": true
   },
   "outputs": [],
   "source": [
    "# 3 DMAs:\n",
    "# San Francisco\n",
    "# St. Louis\n",
    "# Minneapolis \n",
    "all_zips_in_3_DMA=['MINNEAPOLIS-ST. PAUL','SAN FRANCISCO-OAK-SAN JOSE','ST. LOUIS']\n",
    "zips_in_3_DMA=DMA_zip[DMA_zip['DMA'].isin(all_zips_in_3_DMA)].drop_duplicates().reset_index()\n",
    "del zips_in_3_DMA['index']"
   ]
  },
  {
   "cell_type": "code",
   "execution_count": 12,
   "metadata": {
    "collapsed": true
   },
   "outputs": [],
   "source": [
    "zips_in_3_DMA_with_other_DMA=DMA_zip[DMA_zip['zip_cd'].isin(zips_in_3_DMA['zip_cd'].tolist())].drop_duplicates().reset_index()\n",
    "del zips_in_3_DMA_with_other_DMA['index']\n",
    "zips_in_3_DMA_with_other_DMA=zips_in_3_DMA_with_other_DMA.groupby(['zip_cd'])['DMA'].apply(list).to_frame().reset_index()\n",
    "zips_in_3_DMA_with_other_DMA=zips_in_3_DMA_with_other_DMA.rename(columns={\"DMA\":\"DMA_list\"})"
   ]
  },
  {
   "cell_type": "code",
   "execution_count": 13,
   "metadata": {},
   "outputs": [],
   "source": [
    "output=pd.merge(zips_in_3_DMA,zips_in_3_DMA_with_other_DMA,on=\"zip_cd\",how=\"left\")\n",
    "output['DMA_count']=output['DMA_list'].apply(lambda x: len(x))\n",
    "output=output.sort_values(['DMA'])"
   ]
  },
  {
   "cell_type": "code",
   "execution_count": 14,
   "metadata": {},
   "outputs": [],
   "source": [
    "writer=pd.ExcelWriter(\"/home/jian/Projects/Saatva/Saatva_Zips_in_3_DMAs_JL_\"+str(datetime.datetime.now().date())+\".xlsx\",engine=\"xlsxwriter\")\n",
    "output.to_excel(writer,\"zips_3_DMAs\",index=False)\n",
    "writer.save()"
   ]
  },
  {
   "cell_type": "code",
   "execution_count": null,
   "metadata": {
    "collapsed": true
   },
   "outputs": [],
   "source": []
  }
 ],
 "metadata": {
  "kernelspec": {
   "display_name": "Python 3",
   "language": "python",
   "name": "python3"
  },
  "language_info": {
   "codemirror_mode": {
    "name": "ipython",
    "version": 3
   },
   "file_extension": ".py",
   "mimetype": "text/x-python",
   "name": "python",
   "nbconvert_exporter": "python",
   "pygments_lexer": "ipython3",
   "version": "3.6.1"
  }
 },
 "nbformat": 4,
 "nbformat_minor": 2
}
