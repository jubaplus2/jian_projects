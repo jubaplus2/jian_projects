{
 "cells": [
  {
   "cell_type": "code",
   "execution_count": 1,
   "metadata": {
    "collapsed": true
   },
   "outputs": [],
   "source": [
    "import pandas as pd\n",
    "import numpy as np\n",
    "import os\n",
    "import datetime\n",
    "\n",
    "\n",
    "# The final version of US is in this folder\n",
    "# The final version of CA is directly from the code up mother folder \"CA_TA_from_store_zips\""
   ]
  },
  {
   "cell_type": "code",
   "execution_count": 2,
   "metadata": {},
   "outputs": [
    {
     "data": {
      "text/plain": [
       "'/home/jian/Projects/Savers/TA_creation/Final_Version'"
      ]
     },
     "execution_count": 2,
     "metadata": {},
     "output_type": "execute_result"
    }
   ],
   "source": [
    "os.getcwd()"
   ]
  },
  {
   "cell_type": "markdown",
   "metadata": {},
   "source": [
    "# US"
   ]
  },
  {
   "cell_type": "code",
   "execution_count": 12,
   "metadata": {},
   "outputs": [
    {
     "data": {
      "text/plain": [
       "['Store_list',\n",
       " 'revised_TA_Summary',\n",
       " 'TA_Summary_by_store_count',\n",
       " 'TA_zips',\n",
       " 'tableau_data',\n",
       " 'maps_1_store_TA_5_miles_plus',\n",
       " 'maps_2_plus_stores_TA']"
      ]
     },
     "execution_count": 12,
     "metadata": {},
     "output_type": "execute_result"
    }
   ],
   "source": [
    "US_TA_file=pd.ExcelFile(\"/home/jian/Projects/Savers/TA_creation/Final_Version/Savers_US_TA_3rd_Version_JL_2019-03-20.xlsx\")\n",
    "US_TA_file.sheet_names"
   ]
  },
  {
   "cell_type": "code",
   "execution_count": 13,
   "metadata": {
    "collapsed": true
   },
   "outputs": [],
   "source": [
    "store_brand=US_TA_file.parse(\"Store_list\",dtype=str)\n",
    "store_brand=store_brand[['location_id','Brand']]"
   ]
  },
  {
   "cell_type": "code",
   "execution_count": 15,
   "metadata": {},
   "outputs": [
    {
     "data": {
      "text/html": [
       "<div>\n",
       "<style>\n",
       "    .dataframe thead tr:only-child th {\n",
       "        text-align: right;\n",
       "    }\n",
       "\n",
       "    .dataframe thead th {\n",
       "        text-align: left;\n",
       "    }\n",
       "\n",
       "    .dataframe tbody tr th {\n",
       "        vertical-align: top;\n",
       "    }\n",
       "</style>\n",
       "<table border=\"1\" class=\"dataframe\">\n",
       "  <thead>\n",
       "    <tr style=\"text-align: right;\">\n",
       "      <th></th>\n",
       "      <th>ta_number</th>\n",
       "      <th>store_list</th>\n",
       "    </tr>\n",
       "  </thead>\n",
       "  <tbody>\n",
       "    <tr>\n",
       "      <th>0</th>\n",
       "      <td>1</td>\n",
       "      <td>[1125, 1201, 1214, 1023, 1111, 1011, 1020, 102...</td>\n",
       "    </tr>\n",
       "    <tr>\n",
       "      <th>1</th>\n",
       "      <td>2</td>\n",
       "      <td>[1007]</td>\n",
       "    </tr>\n",
       "  </tbody>\n",
       "</table>\n",
       "</div>"
      ],
      "text/plain": [
       "  ta_number                                         store_list\n",
       "0         1  [1125, 1201, 1214, 1023, 1111, 1011, 1020, 102...\n",
       "1         2                                             [1007]"
      ]
     },
     "execution_count": 15,
     "metadata": {},
     "output_type": "execute_result"
    }
   ],
   "source": [
    "US_TA_summary=US_TA_file.parse(\"revised_TA_Summary\",dtype=str)\n",
    "US_TA_summary=US_TA_summary[['ta_number','store_list']]\n",
    "US_TA_summary['store_list']=US_TA_summary['store_list'].apply(lambda x: list(eval(x)))\n",
    "US_TA_summary.head(2)"
   ]
  },
  {
   "cell_type": "code",
   "execution_count": 19,
   "metadata": {
    "collapsed": true
   },
   "outputs": [],
   "source": [
    "for index,row in US_TA_summary.iterrows():\n",
    "    store_list=row['store_list']\n",
    "    df_brand_ta=store_brand[store_brand['location_id'].isin(store_list)]\n",
    "    df_brand_ta_summary=df_brand_ta.groupby(['Brand'])['location_id'].count().to_dict()\n",
    "    US_TA_summary.loc[index,'Brand_count']=str(df_brand_ta_summary)"
   ]
  },
  {
   "cell_type": "code",
   "execution_count": 21,
   "metadata": {
    "collapsed": true
   },
   "outputs": [],
   "source": [
    "US_TA_summary.to_csv(\"/home/jian/Projects/Savers/TA_creation/Final_Version/Savers_US_TA_brand_count.csv\",index=False)"
   ]
  },
  {
   "cell_type": "markdown",
   "metadata": {},
   "source": [
    "# CA"
   ]
  },
  {
   "cell_type": "code",
   "execution_count": 4,
   "metadata": {},
   "outputs": [
    {
     "data": {
      "text/plain": [
       "['Store_list', 'TA_Summary', 'TA_Summary_by_store_count', 'TA_zips']"
      ]
     },
     "execution_count": 4,
     "metadata": {},
     "output_type": "execute_result"
    }
   ],
   "source": [
    "CA_TA_file=pd.ExcelFile(\"/home/jian/Projects/Savers/TA_creation/Final_Version/Savers_CA_TA_1st_Version_JL_2019-03-22.xlsx\")\n",
    "CA_TA_file.sheet_names"
   ]
  },
  {
   "cell_type": "code",
   "execution_count": 5,
   "metadata": {
    "collapsed": true
   },
   "outputs": [],
   "source": [
    "store_brand=CA_TA_file.parse(\"Store_list\",dtype=str)\n",
    "store_brand=store_brand[['location_id','Brand']]"
   ]
  },
  {
   "cell_type": "code",
   "execution_count": 7,
   "metadata": {},
   "outputs": [
    {
     "data": {
      "text/html": [
       "<div>\n",
       "<style>\n",
       "    .dataframe thead tr:only-child th {\n",
       "        text-align: right;\n",
       "    }\n",
       "\n",
       "    .dataframe thead th {\n",
       "        text-align: left;\n",
       "    }\n",
       "\n",
       "    .dataframe tbody tr th {\n",
       "        vertical-align: top;\n",
       "    }\n",
       "</style>\n",
       "<table border=\"1\" class=\"dataframe\">\n",
       "  <thead>\n",
       "    <tr style=\"text-align: right;\">\n",
       "      <th></th>\n",
       "      <th>ta_number</th>\n",
       "      <th>store_list</th>\n",
       "    </tr>\n",
       "  </thead>\n",
       "  <tbody>\n",
       "    <tr>\n",
       "      <th>0</th>\n",
       "      <td>13</td>\n",
       "      <td>[2040, 2094, 2136, 2095, 2073, 2050, 2143, 212...</td>\n",
       "    </tr>\n",
       "    <tr>\n",
       "      <th>1</th>\n",
       "      <td>1</td>\n",
       "      <td>[2113, 2102, 2130, 2011, 2135, 2007, 2005, 200...</td>\n",
       "    </tr>\n",
       "  </tbody>\n",
       "</table>\n",
       "</div>"
      ],
      "text/plain": [
       "  ta_number                                         store_list\n",
       "0        13  [2040, 2094, 2136, 2095, 2073, 2050, 2143, 212...\n",
       "1         1  [2113, 2102, 2130, 2011, 2135, 2007, 2005, 200..."
      ]
     },
     "execution_count": 7,
     "metadata": {},
     "output_type": "execute_result"
    }
   ],
   "source": [
    "CA_TA_summary=CA_TA_file.parse(\"TA_Summary\",dtype=str)\n",
    "CA_TA_summary=CA_TA_summary[['ta_number','store_list']]\n",
    "CA_TA_summary['store_list']=CA_TA_summary['store_list'].apply(lambda x: list(eval(x)))\n",
    "CA_TA_summary.head(2)"
   ]
  },
  {
   "cell_type": "code",
   "execution_count": 8,
   "metadata": {
    "collapsed": true
   },
   "outputs": [],
   "source": [
    "for index,row in CA_TA_summary.iterrows():\n",
    "    store_list=row['store_list']\n",
    "    df_brand_ta=store_brand[store_brand['location_id'].isin(store_list)]\n",
    "    df_brand_ta_summary=df_brand_ta.groupby(['Brand'])['location_id'].count().to_dict()\n",
    "    CA_TA_summary.loc[index,'Brand_count']=str(df_brand_ta_summary)"
   ]
  },
  {
   "cell_type": "code",
   "execution_count": 9,
   "metadata": {
    "collapsed": true
   },
   "outputs": [],
   "source": [
    "CA_TA_summary.to_csv(\"/home/jian/Projects/Savers/TA_creation/Final_Version/Savers_CA_TA_brand_count.csv\",index=False)"
   ]
  },
  {
   "cell_type": "markdown",
   "metadata": {},
   "source": [
    "# CA TA Label"
   ]
  },
  {
   "cell_type": "code",
   "execution_count": 11,
   "metadata": {},
   "outputs": [],
   "source": [
    "ta_lables=CA_TA_file.parse(\"TA_Summary\",dtype=str)\n",
    "ta_lables=ta_lables[['ta_number','store_list']]\n",
    "ta_lables['TA_label']=ta_lables['ta_number']+\"_\"+ta_lables['store_list']"
   ]
  },
  {
   "cell_type": "code",
   "execution_count": 12,
   "metadata": {
    "collapsed": true
   },
   "outputs": [],
   "source": [
    "ta_lables.to_csv(\"/home/jian/Projects/Savers/TA_creation/Final_Version/Savers_CA_TA_label.csv\",index=False)"
   ]
  },
  {
   "cell_type": "code",
   "execution_count": null,
   "metadata": {
    "collapsed": true
   },
   "outputs": [],
   "source": []
  }
 ],
 "metadata": {
  "kernelspec": {
   "display_name": "Python 3",
   "language": "python",
   "name": "python3"
  },
  "language_info": {
   "codemirror_mode": {
    "name": "ipython",
    "version": 3
   },
   "file_extension": ".py",
   "mimetype": "text/x-python",
   "name": "python",
   "nbconvert_exporter": "python",
   "pygments_lexer": "ipython3",
   "version": "3.6.1"
  }
 },
 "nbformat": 4,
 "nbformat_minor": 2
}
