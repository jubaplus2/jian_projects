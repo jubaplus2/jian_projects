{
 "cells": [
  {
   "cell_type": "code",
   "execution_count": 9,
   "metadata": {
    "collapsed": true
   },
   "outputs": [],
   "source": [
    "# Spencer 20190508\n",
    "\n",
    "import pandas as pd\n",
    "import datetime\n",
    "import os\n",
    "import paramiko\n",
    "\n"
   ]
  },
  {
   "cell_type": "code",
   "execution_count": 10,
   "metadata": {},
   "outputs": [
    {
     "data": {
      "text/plain": [
       "16"
      ]
     },
     "execution_count": 10,
     "metadata": {},
     "output_type": "execute_result"
    }
   ],
   "source": [
    "def recrusive_file_gen(root_folder):\n",
    "    for root,dirs,files in os.walk(root_folder):\n",
    "        for file in files:\n",
    "            yield os.path.join(root,file)\n",
    "            \n",
    "start_date=\"2019-01-01\"\n",
    "\n",
    "master_files=list(recrusive_file_gen(\"/home/jian/BigLots/2019_by_weeks/\"))\n",
    "master_files=[x for x in master_files if \"aster\" in x]\n",
    "len(master_files)"
   ]
  },
  {
   "cell_type": "code",
   "execution_count": 11,
   "metadata": {},
   "outputs": [
    {
     "data": {
      "text/html": [
       "<div>\n",
       "<style>\n",
       "    .dataframe thead tr:only-child th {\n",
       "        text-align: right;\n",
       "    }\n",
       "\n",
       "    .dataframe thead th {\n",
       "        text-align: left;\n",
       "    }\n",
       "\n",
       "    .dataframe tbody tr th {\n",
       "        vertical-align: top;\n",
       "    }\n",
       "</style>\n",
       "<table border=\"1\" class=\"dataframe\">\n",
       "  <thead>\n",
       "    <tr style=\"text-align: right;\">\n",
       "      <th></th>\n",
       "      <th>local_path</th>\n",
       "      <th>week_end_dt</th>\n",
       "    </tr>\n",
       "  </thead>\n",
       "  <tbody>\n",
       "    <tr>\n",
       "      <th>0</th>\n",
       "      <td>/home/jian/BigLots/2019_by_weeks/MediaStorm_20...</td>\n",
       "      <td>2019-01-12</td>\n",
       "    </tr>\n",
       "    <tr>\n",
       "      <th>1</th>\n",
       "      <td>/home/jian/BigLots/2019_by_weeks/MediaStorm_20...</td>\n",
       "      <td>2019-01-26</td>\n",
       "    </tr>\n",
       "    <tr>\n",
       "      <th>2</th>\n",
       "      <td>/home/jian/BigLots/2019_by_weeks/MediaStorm_20...</td>\n",
       "      <td>2019-02-02</td>\n",
       "    </tr>\n",
       "    <tr>\n",
       "      <th>3</th>\n",
       "      <td>/home/jian/BigLots/2019_by_weeks/MediaStorm_20...</td>\n",
       "      <td>2019-02-09</td>\n",
       "    </tr>\n",
       "    <tr>\n",
       "      <th>4</th>\n",
       "      <td>/home/jian/BigLots/2019_by_weeks/MediaStorm_20...</td>\n",
       "      <td>2019-02-16</td>\n",
       "    </tr>\n",
       "    <tr>\n",
       "      <th>5</th>\n",
       "      <td>/home/jian/BigLots/2019_by_weeks/MediaStorm_20...</td>\n",
       "      <td>2019-02-23</td>\n",
       "    </tr>\n",
       "    <tr>\n",
       "      <th>6</th>\n",
       "      <td>/home/jian/BigLots/2019_by_weeks/MediaStorm_20...</td>\n",
       "      <td>2019-03-02</td>\n",
       "    </tr>\n",
       "    <tr>\n",
       "      <th>7</th>\n",
       "      <td>/home/jian/BigLots/2019_by_weeks/MediaStorm_20...</td>\n",
       "      <td>2019-03-09</td>\n",
       "    </tr>\n",
       "    <tr>\n",
       "      <th>8</th>\n",
       "      <td>/home/jian/BigLots/2019_by_weeks/MediaStorm_20...</td>\n",
       "      <td>2019-03-16</td>\n",
       "    </tr>\n",
       "    <tr>\n",
       "      <th>9</th>\n",
       "      <td>/home/jian/BigLots/2019_by_weeks/MediaStorm_20...</td>\n",
       "      <td>2019-03-23</td>\n",
       "    </tr>\n",
       "    <tr>\n",
       "      <th>10</th>\n",
       "      <td>/home/jian/BigLots/2019_by_weeks/MediaStorm_20...</td>\n",
       "      <td>2019-03-30</td>\n",
       "    </tr>\n",
       "    <tr>\n",
       "      <th>11</th>\n",
       "      <td>/home/jian/BigLots/2019_by_weeks/MediaStorm_20...</td>\n",
       "      <td>2019-04-06</td>\n",
       "    </tr>\n",
       "    <tr>\n",
       "      <th>12</th>\n",
       "      <td>/home/jian/BigLots/2019_by_weeks/MediaStorm_20...</td>\n",
       "      <td>2019-04-13</td>\n",
       "    </tr>\n",
       "    <tr>\n",
       "      <th>13</th>\n",
       "      <td>/home/jian/BigLots/2019_by_weeks/MediaStorm_20...</td>\n",
       "      <td>2019-04-20</td>\n",
       "    </tr>\n",
       "    <tr>\n",
       "      <th>14</th>\n",
       "      <td>/home/jian/BigLots/2019_by_weeks/MediaStorm_20...</td>\n",
       "      <td>2019-04-27</td>\n",
       "    </tr>\n",
       "    <tr>\n",
       "      <th>15</th>\n",
       "      <td>/home/jian/BigLots/2019_by_weeks/MediaStorm_20...</td>\n",
       "      <td>2019-05-04</td>\n",
       "    </tr>\n",
       "  </tbody>\n",
       "</table>\n",
       "</div>"
      ],
      "text/plain": [
       "                                           local_path week_end_dt\n",
       "0   /home/jian/BigLots/2019_by_weeks/MediaStorm_20...  2019-01-12\n",
       "1   /home/jian/BigLots/2019_by_weeks/MediaStorm_20...  2019-01-26\n",
       "2   /home/jian/BigLots/2019_by_weeks/MediaStorm_20...  2019-02-02\n",
       "3   /home/jian/BigLots/2019_by_weeks/MediaStorm_20...  2019-02-09\n",
       "4   /home/jian/BigLots/2019_by_weeks/MediaStorm_20...  2019-02-16\n",
       "5   /home/jian/BigLots/2019_by_weeks/MediaStorm_20...  2019-02-23\n",
       "6   /home/jian/BigLots/2019_by_weeks/MediaStorm_20...  2019-03-02\n",
       "7   /home/jian/BigLots/2019_by_weeks/MediaStorm_20...  2019-03-09\n",
       "8   /home/jian/BigLots/2019_by_weeks/MediaStorm_20...  2019-03-16\n",
       "9   /home/jian/BigLots/2019_by_weeks/MediaStorm_20...  2019-03-23\n",
       "10  /home/jian/BigLots/2019_by_weeks/MediaStorm_20...  2019-03-30\n",
       "11  /home/jian/BigLots/2019_by_weeks/MediaStorm_20...  2019-04-06\n",
       "12  /home/jian/BigLots/2019_by_weeks/MediaStorm_20...  2019-04-13\n",
       "13  /home/jian/BigLots/2019_by_weeks/MediaStorm_20...  2019-04-20\n",
       "14  /home/jian/BigLots/2019_by_weeks/MediaStorm_20...  2019-04-27\n",
       "15  /home/jian/BigLots/2019_by_weeks/MediaStorm_20...  2019-05-04"
      ]
     },
     "execution_count": 11,
     "metadata": {},
     "output_type": "execute_result"
    }
   ],
   "source": [
    "master_files_df=pd.DataFrame({\"local_path\":master_files})\n",
    "master_files_df['week_end_dt']=master_files_df['local_path'].apply(lambda x: x.split(\"019_by_weeks/MediaStorm_\")[1][:10])\n",
    "master_files_df=master_files_df[master_files_df['week_end_dt']>=start_date]\n",
    "master_files_df"
   ]
  },
  {
   "cell_type": "code",
   "execution_count": 12,
   "metadata": {},
   "outputs": [
    {
     "data": {
      "text/plain": [
       "16"
      ]
     },
     "execution_count": 12,
     "metadata": {},
     "output_type": "execute_result"
    }
   ],
   "source": [
    "len(master_files_df['week_end_dt'].unique())"
   ]
  },
  {
   "cell_type": "code",
   "execution_count": 13,
   "metadata": {
    "collapsed": true
   },
   "outputs": [],
   "source": [
    "host = \"64.237.51.251\" #hard-coded\n",
    "port = 22\n",
    "transport = paramiko.Transport((host, port))\n",
    "\n",
    "password = \"jian@juba2017\" #hard-coded\n",
    "username = \"jian\" #hard-coded\n",
    "transport.connect(username = username, password = password)\n",
    "sftp = paramiko.SFTPClient.from_transport(transport)\n",
    "\n",
    "  "
   ]
  },
  {
   "cell_type": "code",
   "execution_count": 14,
   "metadata": {
    "collapsed": true
   },
   "outputs": [],
   "source": [
    "for local_path in master_files_df['local_path'].unique().tolist():\n",
    "    week_end_date=local_path.split(\"/jian/BigLots/2019_by_weeks/MediaStorm_\")[1][:10]\n",
    "    basename=\"MediaStormMasterBiWeekly\"+\"_\"+week_end_date+\".txt\"\n",
    "    remote_name=\"//mnt/drv5/lr_biglots_data/NewSignUps_2019/\"+basename\n",
    "    sftp.put(local_path,remote_name)\n",
    "    \n",
    "sftp.close()"
   ]
  },
  {
   "cell_type": "markdown",
   "metadata": {},
   "source": [
    "# LR Uploaded"
   ]
  },
  {
   "cell_type": "code",
   "execution_count": 25,
   "metadata": {},
   "outputs": [
    {
     "data": {
      "text/plain": [
       "21"
      ]
     },
     "execution_count": 25,
     "metadata": {},
     "output_type": "execute_result"
    }
   ],
   "source": [
    "LR_uploaded_files=list(recrusive_file_gen(\"/home/jian/celery/Append_to_celery_LiveRamp/monthly_update/\"))\n",
    "LR_uploaded_files=[x for x in LR_uploaded_files if \".csv\" in x]\n",
    "len(LR_uploaded_files)"
   ]
  },
  {
   "cell_type": "code",
   "execution_count": 26,
   "metadata": {},
   "outputs": [
    {
     "data": {
      "text/plain": [
       "(18, 2)"
      ]
     },
     "execution_count": 26,
     "metadata": {},
     "output_type": "execute_result"
    }
   ],
   "source": [
    "LR_uploaded_files_df=pd.DataFrame({\"local_path\":LR_uploaded_files})\n",
    "LR_uploaded_files_df['week_end_dt']=LR_uploaded_files_df['local_path'].apply(lambda x: x.split(\"output_\")[1][:10])\n",
    "LR_uploaded_files_df=LR_uploaded_files_df[LR_uploaded_files_df['week_end_dt']>=start_date]\n",
    "LR_uploaded_files_df.shape"
   ]
  },
  {
   "cell_type": "code",
   "execution_count": 27,
   "metadata": {
    "collapsed": true
   },
   "outputs": [],
   "source": [
    "host = \"64.237.51.251\" #hard-coded\n",
    "port = 22\n",
    "transport = paramiko.Transport((host, port))\n",
    "\n",
    "password = \"jian@juba2017\" #hard-coded\n",
    "username = \"jian\" #hard-coded\n",
    "transport.connect(username = username, password = password)\n",
    "sftp = paramiko.SFTPClient.from_transport(transport)"
   ]
  },
  {
   "cell_type": "code",
   "execution_count": 28,
   "metadata": {
    "collapsed": true
   },
   "outputs": [],
   "source": [
    "for local_path in LR_uploaded_files_df['local_path'].unique().tolist():\n",
    "    basename=os.path.basename(local_path)\n",
    "    remote_name=\"//mnt/drv5/lr_biglots_data/NewSignUps_2019/NewSignUps_uploaded_LR/\"+basename\n",
    "    sftp.put(local_path,remote_name)\n",
    "    \n",
    "sftp.close()"
   ]
  },
  {
   "cell_type": "markdown",
   "metadata": {
    "collapsed": true
   },
   "source": [
    "# Q2 Score files"
   ]
  },
  {
   "cell_type": "code",
   "execution_count": 29,
   "metadata": {
    "collapsed": true
   },
   "outputs": [],
   "source": [
    "host = \"64.237.51.251\" #hard-coded\n",
    "port = 22\n",
    "transport = paramiko.Transport((host, port))\n",
    "\n",
    "password = \"jian@juba2017\" #hard-coded\n",
    "username = \"jian\" #hard-coded\n",
    "transport.connect(username = username, password = password)\n",
    "sftp = paramiko.SFTPClient.from_transport(transport)\n",
    "\n",
    "local_path=\"/home/jian/Projects/Big_Lots/Live_Ramp/Quarterly_Update_2019Q2/output_final_20190422/dfrfm_wemail.csv\"\n",
    "remote_name=\"/mnt/drv5/lr_biglots_data/BL_Rewards_LR_ScoredIDs/BL_2019Q2_Score_dfrfm_wemai_upto_20190330.csv\"\n",
    "sftp.put(local_path,remote_name)\n",
    "sftp.close()"
   ]
  },
  {
   "cell_type": "code",
   "execution_count": null,
   "metadata": {
    "collapsed": true
   },
   "outputs": [],
   "source": []
  }
 ],
 "metadata": {
  "kernelspec": {
   "display_name": "Python 3",
   "language": "python",
   "name": "python3"
  },
  "language_info": {
   "codemirror_mode": {
    "name": "ipython",
    "version": 3
   },
   "file_extension": ".py",
   "mimetype": "text/x-python",
   "name": "python",
   "nbconvert_exporter": "python",
   "pygments_lexer": "ipython3",
   "version": "3.6.1"
  }
 },
 "nbformat": 4,
 "nbformat_minor": 2
}
