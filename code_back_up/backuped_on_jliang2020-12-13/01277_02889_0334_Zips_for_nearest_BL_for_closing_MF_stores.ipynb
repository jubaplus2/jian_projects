{
 "cells": [
  {
   "cell_type": "code",
   "execution_count": 13,
   "metadata": {
    "collapsed": true
   },
   "outputs": [],
   "source": [
    "import pandas as pd\n",
    "from haversine import haversine\n",
    "import numpy as np\n",
    "import json\n",
    "import datetime"
   ]
  },
  {
   "cell_type": "code",
   "execution_count": 2,
   "metadata": {
    "collapsed": true
   },
   "outputs": [],
   "source": [
    "zip_centers=json.load(open(\"/home/jian/Docs/Geo_mapping/center_of_rentrak_zip.json\",\"r\"))"
   ]
  },
  {
   "cell_type": "code",
   "execution_count": 3,
   "metadata": {
    "collapsed": true
   },
   "outputs": [],
   "source": [
    "BL_stores=pd.read_csv(\"/home/jian/Projects/Big_Lots/New_TA/MattressFirm/BL_closed stores to closing mattress firm 208 stores_JL_2018-10-05.csv\",dtype=str)\n",
    "BL_stores=BL_stores[['BL_location_id','BL_latitude_meas','BL_longitude_meas']].drop_duplicates()\n",
    "BL_stores=BL_stores.rename(columns={\"BL_location_id\":\"location_id\"})\n",
    "BL_stores['BL_latitude_meas']=BL_stores['BL_latitude_meas'].astype(float)\n",
    "BL_stores['BL_longitude_meas']=BL_stores['BL_longitude_meas'].astype(float)\n",
    "BL_stores=BL_stores.reset_index()\n",
    "del BL_stores['index']"
   ]
  },
  {
   "cell_type": "code",
   "execution_count": 4,
   "metadata": {
    "collapsed": true
   },
   "outputs": [],
   "source": [
    "store_level_zips=pd.read_csv(\"/home/jian/Projects/Big_Lots/New_TA/zips_in_new_ta/sales_by_zip (Store level).csv\",dtype=str)\n",
    "store_level_zips=store_level_zips[(store_level_zips['location_id'].isin(BL_stores['location_id'])) & (store_level_zips['revenue_flag'].isin(['P','S']))]\n",
    "store_level_zips=store_level_zips[['location_id','zip','revenue_flag']]"
   ]
  },
  {
   "cell_type": "code",
   "execution_count": 5,
   "metadata": {
    "collapsed": true
   },
   "outputs": [],
   "source": [
    "BL_stores_1=BL_stores[BL_stores['location_id'].isin(store_level_zips['location_id'])]\n",
    "BL_stores_2=BL_stores[~BL_stores['location_id'].isin(store_level_zips['location_id'])]\n",
    "\n",
    "BL_stores_1=pd.merge(BL_stores_1,store_level_zips,on=\"location_id\",how=\"outer\")\n",
    "\n",
    "BL_stores_1=BL_stores_1.reset_index()\n",
    "del BL_stores_1['index']\n",
    "\n",
    "BL_stores_2=BL_stores_2.reset_index()\n",
    "del BL_stores_2['index']"
   ]
  },
  {
   "cell_type": "code",
   "execution_count": 6,
   "metadata": {},
   "outputs": [
    {
     "name": "stderr",
     "output_type": "stream",
     "text": [
      "/usr/local/lib/python3.6/site-packages/ipykernel_launcher.py:12: SettingWithCopyWarning: \n",
      "A value is trying to be set on a copy of a slice from a DataFrame\n",
      "\n",
      "See the caveats in the documentation: http://pandas.pydata.org/pandas-docs/stable/indexing.html#indexing-view-versus-copy\n",
      "  if sys.path[0] == '':\n"
     ]
    },
    {
     "name": "stdout",
     "output_type": "stream",
     "text": [
      "85147\n",
      "85121\n",
      "85269\n",
      "62949\n",
      "27906\n",
      "29486\n",
      "76099\n",
      "77476\n",
      "22402\n"
     ]
    }
   ],
   "source": [
    "BL_stores_1['distance']=np.nan\n",
    "for i in range(len(BL_stores_1)):\n",
    "    \n",
    "    store_center=(BL_stores_1['BL_latitude_meas'][i],BL_stores_1['BL_longitude_meas'][i])\n",
    "    \n",
    "    if BL_stores_1['zip'][i] in zip_centers.keys():\n",
    "        zip_lat_long=zip_centers[BL_stores_1['zip'][i]]\n",
    "        dist=haversine(store_center,zip_lat_long,miles=True)\n",
    "    else:\n",
    "        print(BL_stores_1['zip'][i])\n",
    "        dist=np.nan\n",
    "    BL_stores_1['distance'][i]=dist"
   ]
  },
  {
   "cell_type": "code",
   "execution_count": 7,
   "metadata": {
    "collapsed": true
   },
   "outputs": [],
   "source": [
    "BL_stores_1_P=BL_stores_1[BL_stores_1['revenue_flag']==\"P\"]\n",
    "BL_stores_1_S=BL_stores_1[BL_stores_1['revenue_flag']==\"S\"]\n",
    "BL_stores_1_S=BL_stores_1_S[BL_stores_1_S['distance']<=20]"
   ]
  },
  {
   "cell_type": "code",
   "execution_count": 8,
   "metadata": {
    "collapsed": true
   },
   "outputs": [],
   "source": [
    "k=0\n",
    "df_all_zips_in_10=pd.DataFrame()\n",
    "for i in range(len(BL_stores)):\n",
    "    store=BL_stores['location_id'][i]\n",
    "    BL_lat=BL_stores['BL_latitude_meas'][i]\n",
    "    BL_lng=BL_stores['BL_longitude_meas'][i]\n",
    "    store_center=(BL_lat,BL_lng)\n",
    "    for zip_with_center in zip_centers.keys():\n",
    "        dist=haversine(store_center,zip_centers[zip_with_center],miles=True)\n",
    "        if dist<=10:\n",
    "            k+=1\n",
    "            df=pd.DataFrame({\"location_id\":store,\"BL_latitude_meas\":BL_lat,\"BL_longitude_meas\":BL_lng,\n",
    "                            \"zip\":zip_with_center,\"revenue_flag\":\"zips_in_10\",\"distance\":dist},index=[k])\n",
    "            df_all_zips_in_10=df_all_zips_in_10.append(df)\n",
    "            \n",
    "    "
   ]
  },
  {
   "cell_type": "code",
   "execution_count": 9,
   "metadata": {
    "collapsed": true
   },
   "outputs": [],
   "source": [
    "output=BL_stores_1_P.append(BL_stores_1_S).append(df_all_zips_in_10)\n",
    "output_dedup=output.sort_values(['revenue_flag'],ascending=True).reset_index()\n",
    "del output_dedup['index']\n",
    "output_dedup=output_dedup.drop_duplicates(['zip'])"
   ]
  },
  {
   "cell_type": "code",
   "execution_count": 14,
   "metadata": {},
   "outputs": [],
   "source": [
    "writer=pd.ExcelWriter(\"/home/jian/Projects/Big_Lots/New_TA/MattressFirm/BL_zips_for_nearest_BL_from_closing_MF_stores_JL\"+str(datetime.datetime.now().date())+\".xlsx\",engine=\"xlsxwriter\")\n",
    "output_dedup.to_excel(writer,\"unique_zips\",index=False)\n",
    "output=output.sort_values(['location_id','revenue_flag'])\n",
    "output.to_excel(writer,\"zips_by_store\",index=False)\n",
    "writer.save()\n",
    "\n"
   ]
  },
  {
   "cell_type": "code",
   "execution_count": null,
   "metadata": {
    "collapsed": true
   },
   "outputs": [],
   "source": []
  }
 ],
 "metadata": {
  "kernelspec": {
   "display_name": "Python 3",
   "language": "python",
   "name": "python3"
  },
  "language_info": {
   "codemirror_mode": {
    "name": "ipython",
    "version": 3
   },
   "file_extension": ".py",
   "mimetype": "text/x-python",
   "name": "python",
   "nbconvert_exporter": "python",
   "pygments_lexer": "ipython3",
   "version": "3.6.1"
  }
 },
 "nbformat": 4,
 "nbformat_minor": 2
}
