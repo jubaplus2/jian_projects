{
 "cells": [
  {
   "cell_type": "code",
   "execution_count": 1,
   "metadata": {},
   "outputs": [
    {
     "data": {
      "text/plain": [
       "'/home/jian/Projects/Savers/TA_creation'"
      ]
     },
     "execution_count": 1,
     "metadata": {},
     "output_type": "execute_result"
    }
   ],
   "source": [
    "import pandas as pd\n",
    "import numpy as np\n",
    "import os\n",
    "import json\n",
    "from haversine import haversine\n",
    "# import zipcodes\n",
    "import datetime\n",
    "from multiprocessing import Pool\n",
    "os.getcwd()"
   ]
  },
  {
   "cell_type": "code",
   "execution_count": 2,
   "metadata": {
    "collapsed": true
   },
   "outputs": [],
   "source": [
    "df_CA_zip_centers=pd.read_csv(\"/home/jian/Docs/Geo_mapping/Canadian_Postal_Codes/canada-postal-code-database-BUSINESS-CSV/canada-postal-code-database-BUSINESS.csv\",\n",
    "                              dtype=str,usecols=[\"PostalCode\",'Latitude','Longitude']).drop_duplicates()\n",
    "\n",
    "df_CA_zip_centers['Latitude']=df_CA_zip_centers['Latitude'].astype(float)\n",
    "df_CA_zip_centers['Longitude']=df_CA_zip_centers['Longitude'].astype(float)\n",
    "\n",
    "\n",
    "df_CA_zip_centers=df_CA_zip_centers.append(pd.DataFrame({\"PostalCode\":\"T1Y 6J6\",\"Latitude\":51.0827776,\"Longitude\":-113.9868132},index=[len(df_CA_zip_centers)+1]))\n",
    "df_CA_zip_centers=df_CA_zip_centers.append(pd.DataFrame({\"PostalCode\":\"N3S 7P2\",\"Latitude\":43.1687593,\"Longitude\":-80.249613},index=[len(df_CA_zip_centers)+2]))\n",
    "df_CA_zip_centers=df_CA_zip_centers.append(pd.DataFrame({\"PostalCode\":\"L0R 2H2\",\"Latitude\":43.3166868,\"Longitude\":-79.9187285},index=[len(df_CA_zip_centers)+3]))\n",
    "\n"
   ]
  },
  {
   "cell_type": "code",
   "execution_count": 3,
   "metadata": {
    "collapsed": true
   },
   "outputs": [],
   "source": [
    "df_CA_zip_centers['zip_centers']=df_CA_zip_centers[['Latitude', 'Longitude']].values.tolist()\n",
    "zip_centers=df_CA_zip_centers.set_index(['PostalCode']).to_dict()['zip_centers']"
   ]
  },
  {
   "cell_type": "code",
   "execution_count": 4,
   "metadata": {
    "collapsed": true
   },
   "outputs": [],
   "source": [
    "stroe_list_QCed=pd.read_csv(\"/home/jian/Projects/Savers/TA_creation/store_data/Savers_zips_by_store_for_CA_stores_JL_2019-03-19.csv\",dtype=str,sep=\"|\")\n",
    "zips_by_store=pd.read_csv(\"/home/jian/Projects/Savers/TA_creation/store_data/Savers_by_zips_for_CA_stores_JL_2019-03-19.csv\",dtype=str,sep=\"|\")\n",
    "\n",
    "# Actually not QCed for the CA stores because using the store zip"
   ]
  },
  {
   "cell_type": "code",
   "execution_count": 5,
   "metadata": {},
   "outputs": [],
   "source": [
    "store_cluster_dict=stroe_list_QCed.set_index(\"location_id\").to_dict()['Cluster']\n",
    "store_cluster_dict.update({\"2020\":\"3\"})\n",
    "store_cluster_dict.update({\"2068\":\"1\"})\n",
    "store_cluster_dict.update({\"2096\":\"3\"})\n",
    "store_cluster_dict.update({\"2123\":\"3\"})\n",
    "store_cluster_dict.update({\"2152\":\"3\"})\n",
    "\n",
    "stroe_list_QCed['Cluster']=stroe_list_QCed['location_id'].apply(lambda x: store_cluster_dict[x])\n",
    "zips_by_store['Cluster']=zips_by_store['location_id'].apply(lambda x: store_cluster_dict[x])"
   ]
  },
  {
   "cell_type": "code",
   "execution_count": null,
   "metadata": {
    "collapsed": true
   },
   "outputs": [],
   "source": []
  },
  {
   "cell_type": "code",
   "execution_count": 6,
   "metadata": {
    "collapsed": true
   },
   "outputs": [],
   "source": [
    "zips_by_store=zips_by_store.sort_values('location_id').reset_index()\n",
    "del zips_by_store['index']\n",
    "stroe_list_QCed=stroe_list_QCed.sort_values('location_id').reset_index()\n",
    "del stroe_list_QCed['index']\n",
    "\n",
    "stroe_list_QCed['zip_list_in_5_miles']=stroe_list_QCed['zip_list_in_5_miles'].apply(lambda x: list(eval(x)[0]))"
   ]
  },
  {
   "cell_type": "code",
   "execution_count": 7,
   "metadata": {
    "collapsed": true
   },
   "outputs": [],
   "source": [
    "store_zips_dict=stroe_list_QCed.set_index(['location_id']).to_dict()['store_zip']"
   ]
  },
  {
   "cell_type": "code",
   "execution_count": 8,
   "metadata": {},
   "outputs": [
    {
     "name": "stderr",
     "output_type": "stream",
     "text": [
      "/usr/local/lib/python3.6/site-packages/ipykernel_launcher.py:18: SettingWithCopyWarning: \n",
      "A value is trying to be set on a copy of a slice from a DataFrame.\n",
      "Try using .loc[row_indexer,col_indexer] = value instead\n",
      "\n",
      "See the caveats in the documentation: http://pandas.pydata.org/pandas-docs/stable/indexing.html#indexing-view-versus-copy\n"
     ]
    }
   ],
   "source": [
    "df_TA_zips=pd.DataFrame({\"location_id\":[stroe_list_QCed['location_id'][0]]*len(stroe_list_QCed['zip_list_in_5_miles'][0]),\"zip_cd\":stroe_list_QCed['zip_list_in_5_miles'][0],\"TA\":[1]*len(stroe_list_QCed['zip_list_in_5_miles'][0])},index=[1]*len(stroe_list_QCed['zip_list_in_5_miles'][0]))\n",
    "\n",
    "TA_counter=1\n",
    "\n",
    "for i in range(1,len(stroe_list_QCed)):\n",
    "    intersection_zip=list(set(stroe_list_QCed['zip_list_in_5_miles'][i]).intersection(set(df_TA_zips['zip_cd'].unique().tolist())))\n",
    "    if len(intersection_zip)==0:\n",
    "        TA_counter+=1\n",
    "        df_TA_zips=df_TA_zips.append(pd.DataFrame({\"location_id\":[stroe_list_QCed['location_id'][i]]*len(stroe_list_QCed['zip_list_in_5_miles'][i]),\"zip_cd\":stroe_list_QCed['zip_list_in_5_miles'][i],\"TA\":[TA_counter]*len(stroe_list_QCed['zip_list_in_5_miles'][i])},index=[i]*len(stroe_list_QCed['zip_list_in_5_miles'][i]))).drop_duplicates()\n",
    "        \n",
    "    else:\n",
    "        df_intersection=df_TA_zips[df_TA_zips['zip_cd'].isin(intersection_zip)]\n",
    "        group_df_intersection=df_intersection.groupby(['TA'])['zip_cd'].count().to_frame().reset_index().sort_values(['zip_cd'],ascending=False)\n",
    "        selected_TA=group_df_intersection['TA'][0] \n",
    "        \n",
    "        df_TA_zips_0=df_TA_zips[~df_TA_zips['TA'].isin(set(group_df_intersection['TA']))]\n",
    "        df_TA_zips_1=df_TA_zips[df_TA_zips['TA'].isin(group_df_intersection['TA'].tolist())]\n",
    "        df_TA_zips_1['TA']=selected_TA\n",
    "        df_TA_zips=df_TA_zips_0.append(df_TA_zips_1).append(pd.DataFrame({\"location_id\":[stroe_list_QCed['location_id'][i]]*len(stroe_list_QCed['zip_list_in_5_miles'][i]),\"zip_cd\":stroe_list_QCed['zip_list_in_5_miles'][i],\"TA\":[selected_TA]*len(stroe_list_QCed['zip_list_in_5_miles'][i])},index=[i]*len(stroe_list_QCed['zip_list_in_5_miles'][i]))).drop_duplicates()\n",
    "        \n",
    "# dict_TA_zips=df_TA_zips.set_index('zip_cd').to_dict()['TA']\n",
    "dict_TA_store=df_TA_zips.set_index('location_id').to_dict()['TA']\n",
    "stroe_list_QCed['TA']=stroe_list_QCed['location_id'].apply(lambda x: dict_TA_store[x])\n",
    "\n",
    "del dict_TA_store"
   ]
  },
  {
   "cell_type": "code",
   "execution_count": 9,
   "metadata": {},
   "outputs": [
    {
     "data": {
      "text/html": [
       "<div>\n",
       "<style>\n",
       "    .dataframe thead tr:only-child th {\n",
       "        text-align: right;\n",
       "    }\n",
       "\n",
       "    .dataframe thead th {\n",
       "        text-align: left;\n",
       "    }\n",
       "\n",
       "    .dataframe tbody tr th {\n",
       "        vertical-align: top;\n",
       "    }\n",
       "</style>\n",
       "<table border=\"1\" class=\"dataframe\">\n",
       "  <thead>\n",
       "    <tr style=\"text-align: right;\">\n",
       "      <th></th>\n",
       "      <th>TA</th>\n",
       "      <th>location_id</th>\n",
       "      <th>zip_cd</th>\n",
       "      <th>Cluster</th>\n",
       "    </tr>\n",
       "  </thead>\n",
       "  <tbody>\n",
       "    <tr>\n",
       "      <th>0</th>\n",
       "      <td>2</td>\n",
       "      <td>2004</td>\n",
       "      <td>V1Y 8C8</td>\n",
       "      <td>2</td>\n",
       "    </tr>\n",
       "    <tr>\n",
       "      <th>1</th>\n",
       "      <td>2</td>\n",
       "      <td>2004</td>\n",
       "      <td>V1Y 5T5</td>\n",
       "      <td>2</td>\n",
       "    </tr>\n",
       "  </tbody>\n",
       "</table>\n",
       "</div>"
      ],
      "text/plain": [
       "   TA location_id   zip_cd Cluster\n",
       "0   2        2004  V1Y 8C8       2\n",
       "1   2        2004  V1Y 5T5       2"
      ]
     },
     "execution_count": 9,
     "metadata": {},
     "output_type": "execute_result"
    }
   ],
   "source": [
    "store_cluster=stroe_list_QCed[['location_id','Cluster']].drop_duplicates()\n",
    "\n",
    "df_TA_zips=pd.merge(df_TA_zips,store_cluster,on=\"location_id\",how=\"left\")\n",
    "df_TA_zips.head(2)"
   ]
  },
  {
   "cell_type": "code",
   "execution_count": 10,
   "metadata": {},
   "outputs": [
    {
     "name": "stdout",
     "output_type": "stream",
     "text": [
      "[1]\n"
     ]
    },
    {
     "data": {
      "text/html": [
       "<div>\n",
       "<style>\n",
       "    .dataframe thead tr:only-child th {\n",
       "        text-align: right;\n",
       "    }\n",
       "\n",
       "    .dataframe thead th {\n",
       "        text-align: left;\n",
       "    }\n",
       "\n",
       "    .dataframe tbody tr th {\n",
       "        vertical-align: top;\n",
       "    }\n",
       "</style>\n",
       "<table border=\"1\" class=\"dataframe\">\n",
       "  <thead>\n",
       "    <tr style=\"text-align: right;\">\n",
       "      <th></th>\n",
       "      <th>TA</th>\n",
       "      <th>Cluster</th>\n",
       "    </tr>\n",
       "  </thead>\n",
       "  <tbody>\n",
       "    <tr>\n",
       "      <th>0</th>\n",
       "      <td>1</td>\n",
       "      <td>1</td>\n",
       "    </tr>\n",
       "    <tr>\n",
       "      <th>43</th>\n",
       "      <td>49</td>\n",
       "      <td>1</td>\n",
       "    </tr>\n",
       "    <tr>\n",
       "      <th>49</th>\n",
       "      <td>55</td>\n",
       "      <td>1</td>\n",
       "    </tr>\n",
       "  </tbody>\n",
       "</table>\n",
       "</div>"
      ],
      "text/plain": [
       "    TA  Cluster\n",
       "0    1        1\n",
       "43  49        1\n",
       "49  55        1"
      ]
     },
     "execution_count": 10,
     "metadata": {},
     "output_type": "execute_result"
    }
   ],
   "source": [
    "def count_unique(x):\n",
    "    return len(set(x))\n",
    "\n",
    "test=df_TA_zips.groupby(['TA'])['Cluster'].apply(count_unique).to_frame().reset_index().sort_values(\"Cluster\",ascending=False)\n",
    "\n",
    "print(test['Cluster'].unique())\n",
    "test.head(3) # 1 TA only covers 1 cluster"
   ]
  },
  {
   "cell_type": "code",
   "execution_count": 11,
   "metadata": {
    "collapsed": true
   },
   "outputs": [],
   "source": [
    "summary_store=df_TA_zips.groupby(\"TA\")['location_id'].apply(count_unique).to_frame().reset_index().rename(columns={\"location_id\":\"store_count\"})\n",
    "summary_zip=df_TA_zips[['TA','zip_cd']].drop_duplicates().groupby(\"TA\")['zip_cd'].apply(count_unique).to_frame().reset_index().rename(columns={\"zip_cd\":\"zip_count\"})\n",
    "\n",
    "summary_store_list=df_TA_zips.groupby(\"TA\")['location_id'].apply(set).to_frame().reset_index().rename(columns={\"storenumber\":\"store_list\"})\n",
    "summary_zip_list=df_TA_zips[['TA','zip_cd']].drop_duplicates().groupby(\"TA\")['zip_cd'].apply(list).to_frame().reset_index().rename(columns={\"zip_cd\":\"zip_list\"})\n",
    "\n",
    "summary_by_TA=pd.merge(summary_store,summary_zip,on=\"TA\",how=\"outer\")\n",
    "summary_by_TA=pd.merge(summary_by_TA,summary_store_list,on=\"TA\",how=\"outer\")\n",
    "summary_by_TA=pd.merge(summary_by_TA,summary_zip_list,on=\"TA\",how=\"outer\")\n",
    "\n",
    "'''\n",
    "Good to use the original store zips\n",
    "\n",
    "TA_Store_zip_list=data.groupby(['TA'])['revised_store_zip'].apply(set).to_frame().reset_index().rename(columns={\"revised_store_zip\":\"store_zip_list\"})\n",
    "summary_by_TA=pd.merge(summary_by_TA,TA_Store_zip_list,on=\"TA\",how=\"left\")\n",
    "'''\n",
    "summary_by_TA=pd.merge(summary_by_TA,df_TA_zips[['TA','Cluster']].drop_duplicates(),on=\"TA\",how=\"outer\")\n",
    "summary_by_TA=summary_by_TA.reset_index()\n",
    "del summary_by_TA['index']\n",
    "summary_by_TA=summary_by_TA.reset_index().rename(columns={\"index\":\"ta_number\"})\n",
    "summary_by_TA['ta_number']=summary_by_TA['ta_number']+1\n",
    "\n",
    "TA_rename_dict=summary_by_TA.set_index(\"TA\").to_dict()['ta_number']\n",
    "del summary_by_TA['TA']"
   ]
  },
  {
   "cell_type": "code",
   "execution_count": 12,
   "metadata": {
    "collapsed": true
   },
   "outputs": [],
   "source": [
    "df_TA_zips['ta_number']=df_TA_zips['TA'].apply(lambda x: TA_rename_dict[x])\n",
    "del df_TA_zips['TA']\n",
    "\n",
    "stroe_list_QCed['ta_number']=stroe_list_QCed['TA'].apply(lambda x: TA_rename_dict[x])\n",
    "del stroe_list_QCed['TA']\n",
    "\n",
    "dict_TA_zips=df_TA_zips.set_index('zip_cd').to_dict()['ta_number']\n",
    "dict_TA_store=df_TA_zips.set_index('location_id').to_dict()['ta_number']"
   ]
  },
  {
   "cell_type": "code",
   "execution_count": null,
   "metadata": {
    "collapsed": true
   },
   "outputs": [],
   "source": []
  },
  {
   "cell_type": "code",
   "execution_count": 13,
   "metadata": {},
   "outputs": [
    {
     "data": {
      "text/html": [
       "<div>\n",
       "<style>\n",
       "    .dataframe thead tr:only-child th {\n",
       "        text-align: right;\n",
       "    }\n",
       "\n",
       "    .dataframe thead th {\n",
       "        text-align: left;\n",
       "    }\n",
       "\n",
       "    .dataframe tbody tr th {\n",
       "        vertical-align: top;\n",
       "    }\n",
       "</style>\n",
       "<table border=\"1\" class=\"dataframe\">\n",
       "  <thead>\n",
       "    <tr style=\"text-align: right;\">\n",
       "      <th></th>\n",
       "      <th>store_count</th>\n",
       "      <th>TA_count</th>\n",
       "      <th>TA_list</th>\n",
       "    </tr>\n",
       "  </thead>\n",
       "  <tbody>\n",
       "    <tr>\n",
       "      <th>0</th>\n",
       "      <td>1</td>\n",
       "      <td>52</td>\n",
       "      <td>[2, 5, 9, 14, 16, 17, 19, 21, 22, 25, 26, 27, ...</td>\n",
       "    </tr>\n",
       "    <tr>\n",
       "      <th>1</th>\n",
       "      <td>2</td>\n",
       "      <td>6</td>\n",
       "      <td>[8, 10, 12, 23, 24, 41]</td>\n",
       "    </tr>\n",
       "    <tr>\n",
       "      <th>2</th>\n",
       "      <td>3</td>\n",
       "      <td>1</td>\n",
       "      <td>[18]</td>\n",
       "    </tr>\n",
       "    <tr>\n",
       "      <th>3</th>\n",
       "      <td>4</td>\n",
       "      <td>2</td>\n",
       "      <td>[4, 15]</td>\n",
       "    </tr>\n",
       "    <tr>\n",
       "      <th>4</th>\n",
       "      <td>5</td>\n",
       "      <td>1</td>\n",
       "      <td>[7]</td>\n",
       "    </tr>\n",
       "    <tr>\n",
       "      <th>5</th>\n",
       "      <td>6</td>\n",
       "      <td>1</td>\n",
       "      <td>[11]</td>\n",
       "    </tr>\n",
       "    <tr>\n",
       "      <th>6</th>\n",
       "      <td>7</td>\n",
       "      <td>2</td>\n",
       "      <td>[3, 20]</td>\n",
       "    </tr>\n",
       "    <tr>\n",
       "      <th>7</th>\n",
       "      <td>10</td>\n",
       "      <td>2</td>\n",
       "      <td>[1, 6]</td>\n",
       "    </tr>\n",
       "    <tr>\n",
       "      <th>8</th>\n",
       "      <td>23</td>\n",
       "      <td>1</td>\n",
       "      <td>[13]</td>\n",
       "    </tr>\n",
       "  </tbody>\n",
       "</table>\n",
       "</div>"
      ],
      "text/plain": [
       "   store_count  TA_count                                            TA_list\n",
       "0            1        52  [2, 5, 9, 14, 16, 17, 19, 21, 22, 25, 26, 27, ...\n",
       "1            2         6                            [8, 10, 12, 23, 24, 41]\n",
       "2            3         1                                               [18]\n",
       "3            4         2                                            [4, 15]\n",
       "4            5         1                                                [7]\n",
       "5            6         1                                               [11]\n",
       "6            7         2                                            [3, 20]\n",
       "7           10         2                                             [1, 6]\n",
       "8           23         1                                               [13]"
      ]
     },
     "execution_count": 13,
     "metadata": {},
     "output_type": "execute_result"
    }
   ],
   "source": [
    "summary_by_store_count=summary_by_TA.groupby(['store_count'])['ta_number'].count().to_frame().reset_index().rename(columns={\"ta_number\":\"TA_count\"})\n",
    "summary_by_store_list=summary_by_TA.groupby(['store_count'])['ta_number'].apply(list).to_frame().reset_index().rename(columns={\"ta_number\":\"TA_list\"})\n",
    "summary_by_store_count=pd.merge(summary_by_store_count,summary_by_store_list,on=\"store_count\",how=\"outer\")\n",
    "summary_by_store_count"
   ]
  },
  {
   "cell_type": "code",
   "execution_count": 14,
   "metadata": {
    "collapsed": true
   },
   "outputs": [],
   "source": [
    "def appending_dist_in_TA(df):\n",
    "    df=df.reset_index()\n",
    "    del df['index']\n",
    "    \n",
    "    df['dist_max']=np.nan\n",
    "    df['dist_median']=np.nan\n",
    "    df['dist_mean']=np.nan\n",
    "    df['dist_min']=np.nan\n",
    "    df['max_dist_zip']=np.nan\n",
    "    \n",
    "    for index,row in df.iterrows():\n",
    "        zip_list=row['zip_list']\n",
    "        store_list=row['location_id']\n",
    "        dist_list=[]\n",
    "        maxium_dist=0\n",
    "        maxium_dist_zip=np.nan\n",
    "        \n",
    "        # print(\"store started\" + str(index))\n",
    "        for store in store_list:\n",
    "            store_zip=store_zips_dict[store]\n",
    "            for TA_zip in zip_list:\n",
    "                dist=haversine(zip_centers[TA_zip],zip_centers[store_zip],miles=True)\n",
    "                dist_list.append(dist)\n",
    "                if dist>maxium_dist:\n",
    "                    maxium_dist_zip=TA_zip\n",
    "                    maxium_dist=dist\n",
    "                \n",
    "        if len(dist_list)>=1:\n",
    "            df.loc[index,'dist_max']=maxium_dist\n",
    "            df.loc[index,'dist_median']=np.median(dist_list)\n",
    "            df.loc[index,'dist_mean']=np.mean(dist_list)\n",
    "            df.loc[index,'dist_min']=np.min(dist_list)\n",
    "            df.loc[index,'max_dist_zip']=TA_zip\n",
    "    \n",
    "    return df"
   ]
  },
  {
   "cell_type": "code",
   "execution_count": 15,
   "metadata": {
    "collapsed": true
   },
   "outputs": [],
   "source": [
    "\n",
    "summary_by_TA=appending_dist_in_TA(summary_by_TA)\n",
    "summary_by_TA['ratio_max_to_median']=summary_by_TA['dist_max']/summary_by_TA['dist_median']\n"
   ]
  },
  {
   "cell_type": "code",
   "execution_count": 16,
   "metadata": {},
   "outputs": [
    {
     "data": {
      "text/plain": [
       "'\\n# 68 in the total\\nprocessors=24\\n\\nsummary_by_TA[\\'dist_max\\']=np.nan\\nsummary_by_TA[\\'dist_median\\']=np.nan\\nsummary_by_TA[\\'dist_mean\\']=np.nan\\nsummary_by_TA[\\'dist_min\\']=np.nan\\nsummary_by_TA=summary_by_TA.sort_values(\"zip_count\",ascending=False)\\nsummary_by_TA=summary_by_TA.reset_index()\\ndel summary_by_TA[\\'index\\']\\n\\nmultiply_processing_df_input_list=[]\\ninterval=int(np.ceil(len(summary_by_TA)/processors))\\nfor i in range(processors):\\n    row_selected=[]\\n    for j in range(interval):\\n        if i+j*processors<=len(summary_by_TA)-1:\\n            row_selected=row_selected+[i+j*processors]\\n    \\n    locals()[\\'list_df_\\'+str(i)]=summary_by_TA.iloc[row_selected,:]\\n    multiply_processing_df_input_list=multiply_processing_df_input_list+[locals()[\\'list_df_\\'+str(i)]]\\n\\nprint(len(multiply_processing_df_input_list))\\n'"
      ]
     },
     "execution_count": 16,
     "metadata": {},
     "output_type": "execute_result"
    }
   ],
   "source": [
    "'''\n",
    "# 68 in the total\n",
    "processors=24\n",
    "\n",
    "summary_by_TA['dist_max']=np.nan\n",
    "summary_by_TA['dist_median']=np.nan\n",
    "summary_by_TA['dist_mean']=np.nan\n",
    "summary_by_TA['dist_min']=np.nan\n",
    "summary_by_TA=summary_by_TA.sort_values(\"zip_count\",ascending=False)\n",
    "summary_by_TA=summary_by_TA.reset_index()\n",
    "del summary_by_TA['index']\n",
    "\n",
    "multiply_processing_df_input_list=[]\n",
    "interval=int(np.ceil(len(summary_by_TA)/processors))\n",
    "for i in range(processors):\n",
    "    row_selected=[]\n",
    "    for j in range(interval):\n",
    "        if i+j*processors<=len(summary_by_TA)-1:\n",
    "            row_selected=row_selected+[i+j*processors]\n",
    "    \n",
    "    locals()['list_df_'+str(i)]=summary_by_TA.iloc[row_selected,:]\n",
    "    multiply_processing_df_input_list=multiply_processing_df_input_list+[locals()['list_df_'+str(i)]]\n",
    "\n",
    "print(len(multiply_processing_df_input_list))\n",
    "'''"
   ]
  },
  {
   "cell_type": "code",
   "execution_count": 17,
   "metadata": {},
   "outputs": [
    {
     "data": {
      "text/plain": [
       "'\\nsummary_by_TA=pd.DataFrame()\\nprint(\"MP started:\"+str(datetime.datetime.now()))\\nif __name__ == \\'__main__\\':\\n    k=0\\n    p = Pool(processors)\\n    result=p.map(appending_dist_in_TA, multiply_processing_df_input_list)\\n    for res in result:\\n        if res is not None:\\n            summary_by_TA=summary_by_TA.append(res)\\n            k+=1\\n            print(k,datetime.datetime.now())\\n    p.close()\\n    p.join()\\n    \\n    \\n\\nsummary_by_TA[\\'ratio_max_to_median\\']=summary_by_TA[\\'dist_max\\']/summary_by_TA[\\'dist_median\\']\\n\\nprint(\"MP ended:\"+str(datetime.datetime.now()))\\n'"
      ]
     },
     "execution_count": 17,
     "metadata": {},
     "output_type": "execute_result"
    }
   ],
   "source": [
    "'''\n",
    "summary_by_TA=pd.DataFrame()\n",
    "print(\"MP started:\"+str(datetime.datetime.now()))\n",
    "if __name__ == '__main__':\n",
    "    k=0\n",
    "    p = Pool(processors)\n",
    "    result=p.map(appending_dist_in_TA, multiply_processing_df_input_list)\n",
    "    for res in result:\n",
    "        if res is not None:\n",
    "            summary_by_TA=summary_by_TA.append(res)\n",
    "            k+=1\n",
    "            print(k,datetime.datetime.now())\n",
    "    p.close()\n",
    "    p.join()\n",
    "    \n",
    "    \n",
    "\n",
    "summary_by_TA['ratio_max_to_median']=summary_by_TA['dist_max']/summary_by_TA['dist_median']\n",
    "\n",
    "print(\"MP ended:\"+str(datetime.datetime.now()))\n",
    "'''"
   ]
  },
  {
   "cell_type": "code",
   "execution_count": 18,
   "metadata": {},
   "outputs": [
    {
     "data": {
      "text/plain": [
       "\"\\nsummary_by_TA_keep=summary_by_TA[(summary_by_TA['dist_median']<=6) | (summary_by_TA['store_count']<2)]\\nsummary_by_TA_revise=summary_by_TA[(summary_by_TA['dist_median']>6) & (summary_by_TA['store_count']>=2)]\\n\\nsummary_by_TA_revise\\n\""
      ]
     },
     "execution_count": 18,
     "metadata": {},
     "output_type": "execute_result"
    }
   ],
   "source": [
    "'''\n",
    "summary_by_TA_keep=summary_by_TA[(summary_by_TA['dist_median']<=6) | (summary_by_TA['store_count']<2)]\n",
    "summary_by_TA_revise=summary_by_TA[(summary_by_TA['dist_median']>6) & (summary_by_TA['store_count']>=2)]\n",
    "\n",
    "summary_by_TA_revise\n",
    "'''"
   ]
  },
  {
   "cell_type": "code",
   "execution_count": 19,
   "metadata": {},
   "outputs": [
    {
     "data": {
      "text/plain": [
       "\"\\nsummary_by_TA_keep=summary_by_TA[(summary_by_TA['dist_median']<=6) | (summary_by_TA['store_count']<2)]\\nsummary_by_TA_revise=summary_by_TA[(summary_by_TA['dist_median']>6) & (summary_by_TA['store_count']>=2)]\\nloop_counter=0\\nwhile len(summary_by_TA_revise)>0:\\n    summary_by_TA_revise=summary_by_TA_revise.reset_index()\\n    del summary_by_TA_revise['index']\\n    for i in range(len(summary_by_TA_revise)):\\n        zip_list=summary_by_TA_revise['zip_list'][i]\\n        zip_to_remove=summary_by_TA_revise['max_dist_zip'][i]\\n        zip_list.remove(zip_to_remove)\\n        summary_by_TA_revise.loc[i,'zip_list']=str(zip_list)\\n    summary_by_TA_revise['zip_list']=summary_by_TA_revise['zip_list'].apply(lambda x: eval(x))    \\n    summary_by_TA_revise=appending_dist_in_TA(summary_by_TA_revise)\\n    \\n    summary_by_TA_keep_new=summary_by_TA_revise[(summary_by_TA_revise['dist_median']<=6) | (summary_by_TA_revise['store_count']<2)]\\n    summary_by_TA_keep=summary_by_TA_keep.append(summary_by_TA_keep_new)\\n    \\n    summary_by_TA_revise=summary_by_TA_revise[(summary_by_TA_revise['dist_median']>6) & (summary_by_TA_revise['store_count']>=2)]\\n    loop_counter+=1\\n    if loop_counter%30==2:\\n        print(loop_counter,datetime.datetime.now(),len(summary_by_TA_revise))\\n    if loop_counter>=35:\\n        break\\n\""
      ]
     },
     "execution_count": 19,
     "metadata": {},
     "output_type": "execute_result"
    }
   ],
   "source": [
    "'''\n",
    "summary_by_TA_keep=summary_by_TA[(summary_by_TA['dist_median']<=6) | (summary_by_TA['store_count']<2)]\n",
    "summary_by_TA_revise=summary_by_TA[(summary_by_TA['dist_median']>6) & (summary_by_TA['store_count']>=2)]\n",
    "loop_counter=0\n",
    "while len(summary_by_TA_revise)>0:\n",
    "    summary_by_TA_revise=summary_by_TA_revise.reset_index()\n",
    "    del summary_by_TA_revise['index']\n",
    "    for i in range(len(summary_by_TA_revise)):\n",
    "        zip_list=summary_by_TA_revise['zip_list'][i]\n",
    "        zip_to_remove=summary_by_TA_revise['max_dist_zip'][i]\n",
    "        zip_list.remove(zip_to_remove)\n",
    "        summary_by_TA_revise.loc[i,'zip_list']=str(zip_list)\n",
    "    summary_by_TA_revise['zip_list']=summary_by_TA_revise['zip_list'].apply(lambda x: eval(x))    \n",
    "    summary_by_TA_revise=appending_dist_in_TA(summary_by_TA_revise)\n",
    "    \n",
    "    summary_by_TA_keep_new=summary_by_TA_revise[(summary_by_TA_revise['dist_median']<=6) | (summary_by_TA_revise['store_count']<2)]\n",
    "    summary_by_TA_keep=summary_by_TA_keep.append(summary_by_TA_keep_new)\n",
    "    \n",
    "    summary_by_TA_revise=summary_by_TA_revise[(summary_by_TA_revise['dist_median']>6) & (summary_by_TA_revise['store_count']>=2)]\n",
    "    loop_counter+=1\n",
    "    if loop_counter%30==2:\n",
    "        print(loop_counter,datetime.datetime.now(),len(summary_by_TA_revise))\n",
    "    if loop_counter>=35:\n",
    "        break\n",
    "'''"
   ]
  },
  {
   "cell_type": "code",
   "execution_count": 20,
   "metadata": {},
   "outputs": [
    {
     "data": {
      "text/plain": [
       "\"\\nsummary_by_TA_revise=summary_by_TA[(summary_by_TA['dist_median']>6) & (summary_by_TA['store_count']>=2)]\\nsummary_by_TA_revise['dist_max'][19]\\n\""
      ]
     },
     "execution_count": 20,
     "metadata": {},
     "output_type": "execute_result"
    }
   ],
   "source": [
    "'''\n",
    "summary_by_TA_revise=summary_by_TA[(summary_by_TA['dist_median']>6) & (summary_by_TA['store_count']>=2)]\n",
    "summary_by_TA_revise['dist_max'][19]\n",
    "'''"
   ]
  },
  {
   "cell_type": "code",
   "execution_count": 21,
   "metadata": {},
   "outputs": [],
   "source": [
    "\n",
    "CA_zip_info=pd.read_csv(\"/home/jian/Docs/Geo_mapping/Canadian_Postal_Codes/canada-postal-code-database-BUSINESS-CSV/canada-postal-code-database-BUSINESS.csv\",\n",
    "                       dtype=str,usecols=['PostalCode','City','Province']).drop_duplicates(\"PostalCode\")\n",
    "CA_zip_city_dict=CA_zip_info.set_index(\"PostalCode\").to_dict()['City']\n",
    "CA_zip_state_dict=CA_zip_info.set_index(\"PostalCode\").to_dict()['Province']\n"
   ]
  },
  {
   "cell_type": "code",
   "execution_count": 22,
   "metadata": {},
   "outputs": [],
   "source": [
    "df_city_state_in_TA=df_TA_zips[[\"ta_number\",\"zip_cd\"]].drop_duplicates().reset_index()\n",
    "del df_city_state_in_TA['index']\n",
    "\n",
    "def city_of_zip(x):\n",
    "    try:\n",
    "        city=CA_zip_city_dict[x]\n",
    "    except:\n",
    "        city=np.nan\n",
    "    return city\n",
    "\n",
    "def state_of_zip(x):\n",
    "    try:\n",
    "        state=CA_zip_state_dict[x]\n",
    "    except:\n",
    "        state=np.nan\n",
    "    return state\n",
    "    \n",
    "df_city_state_in_TA['city']=df_city_state_in_TA['zip_cd'].apply(lambda x: city_of_zip(x))\n",
    "df_city_state_in_TA['state']=df_city_state_in_TA['zip_cd'].apply(lambda x: state_of_zip(x))\n",
    "df_city_state_in_TA['city']=df_city_state_in_TA['city']+\" (\"+df_city_state_in_TA['state']+\")\"\n",
    "\n"
   ]
  },
  {
   "cell_type": "code",
   "execution_count": 23,
   "metadata": {
    "collapsed": true
   },
   "outputs": [],
   "source": [
    "df_city_TA_list=df_city_state_in_TA.groupby(['ta_number'])['city'].apply(set).to_frame().reset_index()\n",
    "df_city_TA_list=df_city_TA_list.rename(columns={\"city\":\"city_list\"})\n",
    "df_state_TA_list=df_city_state_in_TA.groupby(['ta_number'])['state'].apply(set).to_frame().reset_index()\n",
    "df_state_TA_list=df_state_TA_list.rename(columns={\"state\":\"state_list\"})\n"
   ]
  },
  {
   "cell_type": "code",
   "execution_count": 24,
   "metadata": {
    "collapsed": true
   },
   "outputs": [],
   "source": [
    "counter_k=1\n",
    "df_primary_city_state=pd.DataFrame()\n",
    "for ta,group in df_city_state_in_TA.groupby(['ta_number']):\n",
    "    df_city=group.groupby(['city'])['zip_cd'].count().to_frame().reset_index().sort_values(['zip_cd'],ascending=False).reset_index()\n",
    "    del df_city['index']\n",
    "    primary_city=df_city['city'][0]\n",
    "    \n",
    "    df_state=group.groupby(['state'])['zip_cd'].count().to_frame().reset_index().sort_values(['zip_cd'],ascending=False).reset_index()\n",
    "    del df_state['index']\n",
    "    primary_state=df_state['state'][0]\n",
    "    \n",
    "    df=pd.DataFrame({\"ta_number\":ta,\"Primary_City\":primary_city,\"Primary_State\":primary_state},index=[counter_k])\n",
    "    counter_k+=1\n",
    "    df_primary_city_state=df_primary_city_state.append(df)"
   ]
  },
  {
   "cell_type": "code",
   "execution_count": 25,
   "metadata": {
    "collapsed": true
   },
   "outputs": [],
   "source": [
    "summary_by_TA=pd.merge(summary_by_TA,df_city_TA_list,on=\"ta_number\",how=\"left\")\n",
    "summary_by_TA=pd.merge(summary_by_TA,df_state_TA_list,on=\"ta_number\",how=\"left\")\n",
    "\n",
    "summary_by_TA=pd.merge(summary_by_TA,df_primary_city_state,on=\"ta_number\",how=\"left\")\n",
    "\n",
    "summary_by_TA=summary_by_TA.rename(columns={\"location_id\":\"store_list\"})\n",
    "summary_by_TA['ta_number']=summary_by_TA['ta_number'].astype(str)\n",
    "stroe_list_QCed['ta_number']=stroe_list_QCed['ta_number'].astype(str)\n",
    "df_TA_zips['ta_number']=df_TA_zips['ta_number'].astype(str)"
   ]
  },
  {
   "cell_type": "code",
   "execution_count": 26,
   "metadata": {
    "collapsed": true
   },
   "outputs": [],
   "source": [
    "summary_by_TA_to_write=summary_by_TA.copy()\n",
    "del summary_by_TA_to_write['zip_list']\n",
    "summary_by_TA_to_write=summary_by_TA_to_write.sort_values(\"store_count\",ascending=False)\n",
    "\n",
    "stroe_list_QCed_to_writer=stroe_list_QCed.copy()\n",
    "del stroe_list_QCed_to_writer['zip_list_in_5_miles']\n",
    "stroe_list_QCed_to_writer['location_id']=stroe_list_QCed_to_writer['location_id'].astype(int)\n",
    "stroe_list_QCed_to_writer=stroe_list_QCed_to_writer.sort_values(\"location_id\")\n"
   ]
  },
  {
   "cell_type": "code",
   "execution_count": 27,
   "metadata": {
    "collapsed": true
   },
   "outputs": [],
   "source": [
    "summary_by_TA['store_count']=summary_by_TA['store_count'].astype(str)\n",
    "summary_by_TA['store_list']=summary_by_TA['store_list'].astype(str)\n",
    "summary_by_TA['TA_label']=summary_by_TA['store_count']+\"_\"+summary_by_TA['store_list']\n",
    "TA_label_dict=summary_by_TA.set_index(['ta_number']).to_dict()['TA_label']\n",
    "df_TA_zips['TA_label']=df_TA_zips['ta_number'].apply(lambda x: TA_label_dict[x])\n",
    "stroe_list_QCed['TA_label']=stroe_list_QCed['ta_number'].apply(lambda x: TA_label_dict[x])"
   ]
  },
  {
   "cell_type": "code",
   "execution_count": 28,
   "metadata": {},
   "outputs": [],
   "source": [
    "store_brand=stroe_list_QCed[['location_id','Brand']]\n",
    "\n",
    "summary_by_TA['Brand_count']=np.nan\n",
    "for index,row in summary_by_TA.iterrows():\n",
    "    store_list=list(eval(row['store_list']))\n",
    "    df_brand_ta=store_brand[store_brand['location_id'].isin(store_list)]\n",
    "    df_brand_ta_summary=df_brand_ta.groupby(['Brand'])['location_id'].count().to_dict()\n",
    "    summary_by_TA.loc[index,'Brand_count']=str(df_brand_ta_summary)"
   ]
  },
  {
   "cell_type": "code",
   "execution_count": 37,
   "metadata": {},
   "outputs": [],
   "source": [
    "summary_by_TA_to_write=summary_by_TA.copy()\n",
    "del summary_by_TA_to_write['zip_list']\n",
    "summary_by_TA_to_write[\"store_count\"]=summary_by_TA_to_write[\"store_count\"].astype(int)\n",
    "summary_by_TA_to_write=summary_by_TA_to_write.sort_values(\"store_count\",ascending=False)\n"
   ]
  },
  {
   "cell_type": "code",
   "execution_count": 38,
   "metadata": {
    "collapsed": true
   },
   "outputs": [],
   "source": [
    "writer=pd.ExcelWriter(\"/home/jian/Projects/Savers/TA_creation/CA_TA_output/Before_Splitting/Savers_CA_TA_Final_Version_JL_\"+str(datetime.datetime.now().date())+\".xlsx\",engine=\"xlsxwriter\")\n",
    "\n",
    "stroe_list_QCed.to_excel(writer,\"Store_list\",index=False)\n",
    "summary_by_TA_to_write.to_excel(writer,\"TA_Summary\",index=False)\n",
    "summary_by_store_count.to_excel(writer,\"TA_Summary_by_store_count\",index=False)\n",
    "df_TA_zips.to_excel(writer,\"TA_zips\",index=False)\n",
    "\n",
    "writer.save()\n",
    "\n"
   ]
  },
  {
   "cell_type": "code",
   "execution_count": 30,
   "metadata": {},
   "outputs": [
    {
     "data": {
      "text/plain": [
       "'\\ndata_tableau_1=stroe_list_QCed[[\\'location_id\\',\\'ta_number\\',\\'TA_label\\',\\'Latitude\\',\\'Longitude\\']]\\ndata_tableau_1[\\'Latitude\\']=data_tableau_1[\\'Latitude\\'].astype(float)\\ndata_tableau_1[\\'Longitude\\']=data_tableau_1[\\'Longitude\\'].astype(float)\\n\\ndata_tableau_2=df_TA_zips[[\\'ta_number\\',\\'TA_label\\',\\'zip_cd\\']].drop_duplicates()\\n\\ndata_tableau=data_tableau_1.append(data_tableau_2)\\ndata_tableau[\\'Latitude\\']=data_tableau[\\'Latitude\\'].fillna(0)\\ndata_tableau[\\'Longitude\\']=data_tableau[\\'Longitude\\'].fillna(0)\\n\\n\\ndf_TA_dist_median_count=summary_by_TA[[\\'ta_number\\',\\'dist_median\\',\\'store_count\\']]\\ndata_tableau=pd.merge(data_tableau,df_TA_dist_max_count,on=\"ta_number\",how=\"left\")\\n\\ndata_tableau.to_csv(\"/home/jian/Projects/Savers/TA_creation/CA_TA_output/Before_Splitting/CA_TA_Tableau.csv\",index=False)\\n\\n# Tableau doesn\\'t support Zip 6, but Zip 3 are fine\\n'"
      ]
     },
     "execution_count": 30,
     "metadata": {},
     "output_type": "execute_result"
    }
   ],
   "source": [
    "'''\n",
    "data_tableau_1=stroe_list_QCed[['location_id','ta_number','TA_label','Latitude','Longitude']]\n",
    "data_tableau_1['Latitude']=data_tableau_1['Latitude'].astype(float)\n",
    "data_tableau_1['Longitude']=data_tableau_1['Longitude'].astype(float)\n",
    "\n",
    "data_tableau_2=df_TA_zips[['ta_number','TA_label','zip_cd']].drop_duplicates()\n",
    "\n",
    "data_tableau=data_tableau_1.append(data_tableau_2)\n",
    "data_tableau['Latitude']=data_tableau['Latitude'].fillna(0)\n",
    "data_tableau['Longitude']=data_tableau['Longitude'].fillna(0)\n",
    "\n",
    "\n",
    "df_TA_dist_median_count=summary_by_TA[['ta_number','dist_median','store_count']]\n",
    "data_tableau=pd.merge(data_tableau,df_TA_dist_max_count,on=\"ta_number\",how=\"left\")\n",
    "\n",
    "data_tableau.to_csv(\"/home/jian/Projects/Savers/TA_creation/CA_TA_output/Before_Splitting/CA_TA_Tableau.csv\",index=False)\n",
    "\n",
    "# Tableau doesn't support Zip 6, but Zip 3 are fine\n",
    "'''"
   ]
  },
  {
   "cell_type": "code",
   "execution_count": 72,
   "metadata": {
    "collapsed": true
   },
   "outputs": [],
   "source": []
  },
  {
   "cell_type": "code",
   "execution_count": null,
   "metadata": {
    "collapsed": true
   },
   "outputs": [],
   "source": []
  }
 ],
 "metadata": {
  "kernelspec": {
   "display_name": "Python 3",
   "language": "python",
   "name": "python3"
  },
  "language_info": {
   "codemirror_mode": {
    "name": "ipython",
    "version": 3
   },
   "file_extension": ".py",
   "mimetype": "text/x-python",
   "name": "python",
   "nbconvert_exporter": "python",
   "pygments_lexer": "ipython3",
   "version": "3.6.1"
  }
 },
 "nbformat": 4,
 "nbformat_minor": 2
}
