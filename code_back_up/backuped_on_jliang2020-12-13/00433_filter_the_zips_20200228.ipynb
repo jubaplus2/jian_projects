{
 "cells": [
  {
   "cell_type": "code",
   "execution_count": 1,
   "metadata": {},
   "outputs": [
    {
     "name": "stdout",
     "output_type": "stream",
     "text": [
      "2020-02-27 14:29:02.263156\n"
     ]
    },
    {
     "data": {
      "text/plain": [
       "'/home/jian/Projects/Big_Lots/Analysis/2020_Q1/plannder_requests/JT_zips_filtered_based_on_State_list'"
      ]
     },
     "execution_count": 1,
     "metadata": {},
     "output_type": "execute_result"
    }
   ],
   "source": [
    "import pandas as pd\n",
    "import numpy as np\n",
    "import datetime\n",
    "import os\n",
    "\n",
    "print(datetime.datetime.now())\n",
    "os.getcwd()"
   ]
  },
  {
   "cell_type": "code",
   "execution_count": 2,
   "metadata": {},
   "outputs": [
    {
     "name": "stdout",
     "output_type": "stream",
     "text": [
      "['Legacy l RMD', 'Legacy l RLD', 'SOTF l RLD', 'SOTF l RMD', 'SOTF l All', 'All', 'SOTF Zip counts']\n"
     ]
    },
    {
     "data": {
      "text/plain": [
       "['Legacy l RMD',\n",
       " 'Legacy l RLD',\n",
       " 'SOTF l RLD',\n",
       " 'SOTF l RMD',\n",
       " 'SOTF l All',\n",
       " 'All']"
      ]
     },
     "execution_count": 2,
     "metadata": {},
     "output_type": "execute_result"
    }
   ],
   "source": [
    "excel_file=pd.ExcelFile('/home/jian/Projects/Big_Lots/Analysis/2020_Q1/plannder_requests/JT_zips_filtered_based_on_State_list/Q1 Zips Filtered.xlsx')\n",
    "list_sheet_name=excel_file.sheet_names\n",
    "print(list_sheet_name)\n",
    "list_sheet_name.pop(-1)\n",
    "list_sheet_name"
   ]
  },
  {
   "cell_type": "code",
   "execution_count": 3,
   "metadata": {},
   "outputs": [
    {
     "data": {
      "text/plain": [
       "12"
      ]
     },
     "execution_count": 3,
     "metadata": {},
     "output_type": "execute_result"
    }
   ],
   "source": [
    "list_states_wanted=['CA','NV','AZ','NM','TX','LA','FL','MS','AL','GA','SC','NC']\n",
    "len(list_states_wanted)"
   ]
  },
  {
   "cell_type": "code",
   "execution_count": 4,
   "metadata": {},
   "outputs": [
    {
     "data": {
      "text/html": [
       "<div>\n",
       "<style scoped>\n",
       "    .dataframe tbody tr th:only-of-type {\n",
       "        vertical-align: middle;\n",
       "    }\n",
       "\n",
       "    .dataframe tbody tr th {\n",
       "        vertical-align: top;\n",
       "    }\n",
       "\n",
       "    .dataframe thead th {\n",
       "        text-align: right;\n",
       "    }\n",
       "</style>\n",
       "<table border=\"1\" class=\"dataframe\">\n",
       "  <thead>\n",
       "    <tr style=\"text-align: right;\">\n",
       "      <th></th>\n",
       "      <th>location_id</th>\n",
       "      <th>location_desc</th>\n",
       "      <th>open_dt</th>\n",
       "      <th>close_dt</th>\n",
       "      <th>address_line_1</th>\n",
       "      <th>address_line_2</th>\n",
       "      <th>city_nm</th>\n",
       "      <th>state_nm</th>\n",
       "      <th>zip_cd</th>\n",
       "      <th>longitude_meas</th>\n",
       "      <th>latitude_meas</th>\n",
       "      <th>sales_square_feet</th>\n",
       "      <th>furniture_sales_square_feet</th>\n",
       "    </tr>\n",
       "  </thead>\n",
       "  <tbody>\n",
       "    <tr>\n",
       "      <th>0</th>\n",
       "      <td>3</td>\n",
       "      <td>PEACH ORCHARD PLAZA</td>\n",
       "      <td>1988-10-31</td>\n",
       "      <td>NaN</td>\n",
       "      <td>2708 PEACH ORCHARD RD</td>\n",
       "      <td>NaN</td>\n",
       "      <td>AUGUSTA</td>\n",
       "      <td>GA</td>\n",
       "      <td>30906-2408</td>\n",
       "      <td>-000000000082.018921</td>\n",
       "      <td>000000000033.421570</td>\n",
       "      <td>00000000026501.0000</td>\n",
       "      <td>00000000005098.0000</td>\n",
       "    </tr>\n",
       "    <tr>\n",
       "      <th>1</th>\n",
       "      <td>30</td>\n",
       "      <td>SOUTHWOOD PLZ S/C</td>\n",
       "      <td>1984-04-05</td>\n",
       "      <td>NaN</td>\n",
       "      <td>818 S MAIN ST</td>\n",
       "      <td>NaN</td>\n",
       "      <td>BOWLING GREEN</td>\n",
       "      <td>OH</td>\n",
       "      <td>43402-4601</td>\n",
       "      <td>-000000000083.650909</td>\n",
       "      <td>000000000041.363132</td>\n",
       "      <td>00000000021322.0000</td>\n",
       "      <td>00000000003271.0000</td>\n",
       "    </tr>\n",
       "  </tbody>\n",
       "</table>\n",
       "</div>"
      ],
      "text/plain": [
       "  location_id        location_desc     open_dt close_dt  \\\n",
       "0           3  PEACH ORCHARD PLAZA  1988-10-31      NaN   \n",
       "1          30    SOUTHWOOD PLZ S/C  1984-04-05      NaN   \n",
       "\n",
       "          address_line_1 address_line_2        city_nm state_nm      zip_cd  \\\n",
       "0  2708 PEACH ORCHARD RD            NaN        AUGUSTA       GA  30906-2408   \n",
       "1          818 S MAIN ST            NaN  BOWLING GREEN       OH  43402-4601   \n",
       "\n",
       "         longitude_meas         latitude_meas     sales_square_feet  \\\n",
       "0  -000000000082.018921   000000000033.421570   00000000026501.0000   \n",
       "1  -000000000083.650909   000000000041.363132   00000000021322.0000   \n",
       "\n",
       "  furniture_sales_square_feet  \n",
       "0         00000000005098.0000  \n",
       "1         00000000003271.0000  "
      ]
     },
     "execution_count": 4,
     "metadata": {},
     "output_type": "execute_result"
    }
   ],
   "source": [
    "store_list=pd.read_table(\"/home/jian/BigLots/static_files/Store_list/MediaStormStores20200201-134613-934.txt\",\n",
    "                         sep=\"|\",dtype=str)\n",
    "store_list.head(2)"
   ]
  },
  {
   "cell_type": "code",
   "execution_count": 5,
   "metadata": {},
   "outputs": [],
   "source": [
    "store_list=store_list[['location_id','state_nm']].drop_duplicates()"
   ]
  },
  {
   "cell_type": "code",
   "execution_count": 6,
   "metadata": {},
   "outputs": [
    {
     "name": "stdout",
     "output_type": "stream",
     "text": [
      "Legacy l RMD []\n",
      "Legacy l RLD []\n",
      "SOTF l RLD []\n",
      "SOTF l RMD []\n",
      "SOTF l All []\n",
      "All []\n"
     ]
    }
   ],
   "source": [
    "writer_1_with_label=pd.ExcelWriter(\"./BL_Q1_zips_all_with_labels_JL_\"+str(datetime.datetime.now().date())+\".xlsx\",engine=\"xlsxwriter\")\n",
    "writer_2_warmer_only=pd.ExcelWriter(\"./BL_Q1_zips_warmer_only_JL_\"+str(datetime.datetime.now().date())+\".xlsx\",engine=\"xlsxwriter\")\n",
    "\n",
    "# 2 stores 1952 4463 have no sales in recent 6 weeks\n",
    "for sheet_name in list_sheet_name:\n",
    "    df=excel_file.parse(sheet_name,dtype=str)\n",
    "    df=df[df['location_id']!=\"1952\"]\n",
    "    df=df[df['location_id']!=\"4436\"]\n",
    "    \n",
    "    df=pd.merge(df,store_list,on=\"location_id\",how=\"left\")\n",
    "    print(sheet_name,df[pd.isnull(df['state_nm'])]['location_id'].unique().tolist())\n",
    "    \n",
    "    df['filter_warmer_st']=np.where(df['state_nm'].isin(list_states_wanted),\"Warmer_St\",\"Others\")\n",
    "    df.to_excel(writer_1_with_label,sheet_name,index=False)\n",
    "    \n",
    "    df_warmer_only=df[df['filter_warmer_st']==\"Warmer_St\"]\n",
    "    df_warmer_only.to_excel(writer_2_warmer_only,sheet_name,index=False)\n",
    "writer_1_with_label.save()   \n",
    "writer_2_warmer_only.save()\n"
   ]
  },
  {
   "cell_type": "code",
   "execution_count": 7,
   "metadata": {},
   "outputs": [
    {
     "name": "stdout",
     "output_type": "stream",
     "text": [
      "2020-02-27 14:30:29.516670\n"
     ]
    }
   ],
   "source": [
    "print(datetime.datetime.now())"
   ]
  },
  {
   "cell_type": "code",
   "execution_count": null,
   "metadata": {},
   "outputs": [],
   "source": []
  }
 ],
 "metadata": {
  "kernelspec": {
   "display_name": "Python 3",
   "language": "python",
   "name": "python3"
  },
  "language_info": {
   "codemirror_mode": {
    "name": "ipython",
    "version": 3
   },
   "file_extension": ".py",
   "mimetype": "text/x-python",
   "name": "python",
   "nbconvert_exporter": "python",
   "pygments_lexer": "ipython3",
   "version": "3.6.1"
  }
 },
 "nbformat": 4,
 "nbformat_minor": 2
}
