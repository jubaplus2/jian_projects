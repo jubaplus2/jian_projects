{
 "cells": [
  {
   "cell_type": "code",
   "execution_count": 1,
   "metadata": {},
   "outputs": [
    {
     "name": "stdout",
     "output_type": "stream",
     "text": [
      "2020-05-07 13:50:50.145042\n"
     ]
    }
   ],
   "source": [
    "import pandas as pd\n",
    "import datetime\n",
    "import os\n",
    "import numpy as np\n",
    "print(datetime.datetime.now())"
   ]
  },
  {
   "cell_type": "code",
   "execution_count": 2,
   "metadata": {},
   "outputs": [],
   "source": [
    "file_excel=pd.ExcelFile(\"./BL_zips_for_2019_Quad_3_Stores_JL_2020-05-04.xlsx\")\n",
    "df_zip_by_store=file_excel.parse(\"zips_for_quad_3_only\",dtype=str)"
   ]
  },
  {
   "cell_type": "code",
   "execution_count": 13,
   "metadata": {},
   "outputs": [
    {
     "data": {
      "text/plain": [
       "['zips_for_quad_3_only']"
      ]
     },
     "execution_count": 13,
     "metadata": {},
     "output_type": "execute_result"
    }
   ],
   "source": [
    "file_excel.sheet_names"
   ]
  },
  {
   "cell_type": "code",
   "execution_count": 5,
   "metadata": {},
   "outputs": [],
   "source": [
    "df_store_list=pd.read_table(\"/home/jian/BigLots/static_files/Store_list/MediaStormStores20200501-152115-660.txt\",\n",
    "                           dtype=str,sep=\"|\")\n",
    "df_store_list=df_store_list[['location_id','address_line_1','address_line_2','city_nm','state_nm','zip_cd']]\n",
    "for col in df_store_list.columns.tolist()[1:]:\n",
    "    df_store_list=df_store_list.rename(columns={col:\"store_\"+col})\n",
    "    \n",
    "df_store_list['store_zip_cd']=df_store_list['store_zip_cd'].apply(lambda x: x.split(\"-\")[0].split(\" \")[0].zfill(5))"
   ]
  },
  {
   "cell_type": "code",
   "execution_count": 6,
   "metadata": {},
   "outputs": [
    {
     "name": "stdout",
     "output_type": "stream",
     "text": [
      "(82, 6) 82\n"
     ]
    }
   ],
   "source": [
    "df_store_list=df_store_list[df_store_list['location_id'].isin(df_zip_by_store['location_id'].unique().tolist())]\n",
    "print(df_store_list.shape,df_zip_by_store['location_id'].nunique())"
   ]
  },
  {
   "cell_type": "code",
   "execution_count": 9,
   "metadata": {},
   "outputs": [],
   "source": [
    "df_DMA_zip=pd.read_excel(\"/home/jian/Docs/Geo_mapping/Zips by DMA by County16-17 nielsen.xlsx\",dtype=str,skiprows=1,usecols=[0,2]).drop_duplicates()\n",
    "df_DMA_zip.columns=[\"store_zip_cd\",\"DMA\"]\n",
    "df_DMA_zip_list=df_DMA_zip.groupby(\"store_zip_cd\")['DMA'].apply(list).to_frame().reset_index()\n",
    "df_DMA_zip_list=df_DMA_zip_list.rename(columns={\"DMA\":\"DMA_list\"})"
   ]
  },
  {
   "cell_type": "code",
   "execution_count": 10,
   "metadata": {},
   "outputs": [
    {
     "data": {
      "text/html": [
       "<div>\n",
       "<style scoped>\n",
       "    .dataframe tbody tr th:only-of-type {\n",
       "        vertical-align: middle;\n",
       "    }\n",
       "\n",
       "    .dataframe tbody tr th {\n",
       "        vertical-align: top;\n",
       "    }\n",
       "\n",
       "    .dataframe thead th {\n",
       "        text-align: right;\n",
       "    }\n",
       "</style>\n",
       "<table border=\"1\" class=\"dataframe\">\n",
       "  <thead>\n",
       "    <tr style=\"text-align: right;\">\n",
       "      <th></th>\n",
       "      <th>location_id</th>\n",
       "      <th>store_address_line_1</th>\n",
       "      <th>store_address_line_2</th>\n",
       "      <th>store_city_nm</th>\n",
       "      <th>store_state_nm</th>\n",
       "      <th>store_zip_cd</th>\n",
       "      <th>DMA_list</th>\n",
       "    </tr>\n",
       "  </thead>\n",
       "  <tbody>\n",
       "    <tr>\n",
       "      <th>0</th>\n",
       "      <td>132</td>\n",
       "      <td>2050 S 22ND ST</td>\n",
       "      <td>NaN</td>\n",
       "      <td>LAFAYETTE</td>\n",
       "      <td>IN</td>\n",
       "      <td>47905</td>\n",
       "      <td>[LAFAYETTE, IN]</td>\n",
       "    </tr>\n",
       "    <tr>\n",
       "      <th>1</th>\n",
       "      <td>209</td>\n",
       "      <td>1907 S 11TH ST</td>\n",
       "      <td>NaN</td>\n",
       "      <td>NILES</td>\n",
       "      <td>MI</td>\n",
       "      <td>49120</td>\n",
       "      <td>[SOUTH BEND-ELKHART]</td>\n",
       "    </tr>\n",
       "  </tbody>\n",
       "</table>\n",
       "</div>"
      ],
      "text/plain": [
       "  location_id store_address_line_1 store_address_line_2 store_city_nm  \\\n",
       "0         132       2050 S 22ND ST                  NaN     LAFAYETTE   \n",
       "1         209       1907 S 11TH ST                  NaN         NILES   \n",
       "\n",
       "  store_state_nm store_zip_cd              DMA_list  \n",
       "0             IN        47905       [LAFAYETTE, IN]  \n",
       "1             MI        49120  [SOUTH BEND-ELKHART]  "
      ]
     },
     "execution_count": 10,
     "metadata": {},
     "output_type": "execute_result"
    }
   ],
   "source": [
    "df_store_list=pd.merge(df_store_list,df_DMA_zip_list,on=\"store_zip_cd\",how=\"left\")\n",
    "df_store_list.head(2)"
   ]
  },
  {
   "cell_type": "code",
   "execution_count": 11,
   "metadata": {},
   "outputs": [],
   "source": [
    "df_store_list['DMA_1']=df_store_list['DMA_list'].apply(lambda x: x[0])\n",
    "df_store_list['DMA_2']=df_store_list['DMA_list'].apply(lambda x: x[1] if len(x)==2 else np.nan)\n"
   ]
  },
  {
   "cell_type": "code",
   "execution_count": 12,
   "metadata": {},
   "outputs": [
    {
     "data": {
      "text/html": [
       "<div>\n",
       "<style scoped>\n",
       "    .dataframe tbody tr th:only-of-type {\n",
       "        vertical-align: middle;\n",
       "    }\n",
       "\n",
       "    .dataframe tbody tr th {\n",
       "        vertical-align: top;\n",
       "    }\n",
       "\n",
       "    .dataframe thead th {\n",
       "        text-align: right;\n",
       "    }\n",
       "</style>\n",
       "<table border=\"1\" class=\"dataframe\">\n",
       "  <thead>\n",
       "    <tr style=\"text-align: right;\">\n",
       "      <th></th>\n",
       "      <th>location_id</th>\n",
       "      <th>open_dt</th>\n",
       "      <th>latitude_meas</th>\n",
       "      <th>longitude_meas</th>\n",
       "      <th>zip_cd</th>\n",
       "      <th>zip_type</th>\n",
       "      <th>store_address_line_1</th>\n",
       "      <th>store_address_line_2</th>\n",
       "      <th>store_city_nm</th>\n",
       "      <th>store_state_nm</th>\n",
       "      <th>store_zip_cd</th>\n",
       "      <th>DMA_list</th>\n",
       "      <th>DMA_1</th>\n",
       "      <th>DMA_2</th>\n",
       "    </tr>\n",
       "  </thead>\n",
       "  <tbody>\n",
       "    <tr>\n",
       "      <th>0</th>\n",
       "      <td>132</td>\n",
       "      <td>1986-02-21</td>\n",
       "      <td>40.397225</td>\n",
       "      <td>-86.871866</td>\n",
       "      <td>47909</td>\n",
       "      <td>P</td>\n",
       "      <td>2050 S 22ND ST</td>\n",
       "      <td>NaN</td>\n",
       "      <td>LAFAYETTE</td>\n",
       "      <td>IN</td>\n",
       "      <td>47905</td>\n",
       "      <td>[LAFAYETTE, IN]</td>\n",
       "      <td>LAFAYETTE, IN</td>\n",
       "      <td>NaN</td>\n",
       "    </tr>\n",
       "    <tr>\n",
       "      <th>1</th>\n",
       "      <td>132</td>\n",
       "      <td>1986-02-21</td>\n",
       "      <td>40.397225</td>\n",
       "      <td>-86.871866</td>\n",
       "      <td>47905</td>\n",
       "      <td>P</td>\n",
       "      <td>2050 S 22ND ST</td>\n",
       "      <td>NaN</td>\n",
       "      <td>LAFAYETTE</td>\n",
       "      <td>IN</td>\n",
       "      <td>47905</td>\n",
       "      <td>[LAFAYETTE, IN]</td>\n",
       "      <td>LAFAYETTE, IN</td>\n",
       "      <td>NaN</td>\n",
       "    </tr>\n",
       "  </tbody>\n",
       "</table>\n",
       "</div>"
      ],
      "text/plain": [
       "  location_id     open_dt latitude_meas longitude_meas zip_cd zip_type  \\\n",
       "0         132  1986-02-21     40.397225     -86.871866  47909        P   \n",
       "1         132  1986-02-21     40.397225     -86.871866  47905        P   \n",
       "\n",
       "  store_address_line_1 store_address_line_2 store_city_nm store_state_nm  \\\n",
       "0       2050 S 22ND ST                  NaN     LAFAYETTE             IN   \n",
       "1       2050 S 22ND ST                  NaN     LAFAYETTE             IN   \n",
       "\n",
       "  store_zip_cd         DMA_list          DMA_1 DMA_2  \n",
       "0        47905  [LAFAYETTE, IN]  LAFAYETTE, IN   NaN  \n",
       "1        47905  [LAFAYETTE, IN]  LAFAYETTE, IN   NaN  "
      ]
     },
     "execution_count": 12,
     "metadata": {},
     "output_type": "execute_result"
    }
   ],
   "source": [
    "df_output_detail=df_zip_by_store[['location_id','open_dt','latitude_meas','longitude_meas','zip_cd','zip_type']]\n",
    "df_output_detail=pd.merge(df_output_detail,df_store_list,on=\"location_id\",how=\"left\")\n",
    "df_output_detail.head(2)"
   ]
  },
  {
   "cell_type": "code",
   "execution_count": 14,
   "metadata": {},
   "outputs": [
    {
     "data": {
      "text/plain": [
       "((412, 3), 412)"
      ]
     },
     "execution_count": 14,
     "metadata": {},
     "output_type": "execute_result"
    }
   ],
   "source": [
    "df_1_unique_zip_cd=df_output_detail[['zip_cd','DMA_1','DMA_2']].drop_duplicates()\n",
    "df_1_unique_zip_cd.shape,df_1_unique_zip_cd['zip_cd'].nunique()"
   ]
  },
  {
   "cell_type": "code",
   "execution_count": 17,
   "metadata": {},
   "outputs": [],
   "source": [
    "writer=pd.ExcelWriter(\"./BL_zips_for_2019_Quad_3_Stores_with_DMA_JL_\"+str(datetime.datetime.now().date())+\".xlsx\",engine=\"xlsxwriter\")\n",
    "df_1_unique_zip_cd.to_excel(writer,\"unique_zip_with_DMA\",index=False)\n",
    "df_output_detail.to_excel(writer,\"detail_by_store\",index=False)\n",
    "df_store_list.to_excel(writer,\"store_info\",index=False)\n",
    "writer.save()\n"
   ]
  },
  {
   "cell_type": "code",
   "execution_count": null,
   "metadata": {},
   "outputs": [],
   "source": []
  }
 ],
 "metadata": {
  "kernelspec": {
   "display_name": "Python 3",
   "language": "python",
   "name": "python3"
  },
  "language_info": {
   "codemirror_mode": {
    "name": "ipython",
    "version": 3
   },
   "file_extension": ".py",
   "mimetype": "text/x-python",
   "name": "python",
   "nbconvert_exporter": "python",
   "pygments_lexer": "ipython3",
   "version": "3.6.1"
  }
 },
 "nbformat": 4,
 "nbformat_minor": 2
}
