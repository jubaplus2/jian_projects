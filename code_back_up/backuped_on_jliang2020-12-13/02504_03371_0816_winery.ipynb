{
 "cells": [
  {
   "cell_type": "code",
   "execution_count": 1,
   "metadata": {
    "collapsed": true
   },
   "outputs": [],
   "source": [
    "import pandas as pd\n",
    "pd.options.display.max_rows=6\n",
    "import numpy\n",
    "\n",
    "import datetime\n",
    "import glob\n",
    "import json\n",
    "import math\n",
    "import sys"
   ]
  },
  {
   "cell_type": "code",
   "execution_count": 2,
   "metadata": {
    "collapsed": true,
    "scrolled": true
   },
   "outputs": [],
   "source": [
    "class MyEncoder(json.JSONEncoder):\n",
    "    def default(self, obj):\n",
    "        if isinstance(obj, numpy.integer):\n",
    "            return int(obj)\n",
    "        #elif isinstance(obj, numpy.floating):\n",
    "        #    return float(obj)\n",
    "        #elif isinstance(obj, numpy.ndarray):\n",
    "        #    return obj.tolist()\n",
    "        else:\n",
    "            return super(MyEncoder, self).default(obj)\n",
    "        \n",
    "def extract_placement_cat(p):\n",
    "    if 'direct' in p and 'prospecting' not in p and 'retargeting' not in p and 'geo-fence' not in p:\n",
    "        return 'direct'\n",
    "    elif 'direct' not in p and 'prospecting' in p and 'retargeting' not in p and 'geo-fence' not in p:\n",
    "        return 'prospecting'\n",
    "    elif 'direct' not in p and 'prospecting' not in p and 'retargeting' in p and 'geo-fence' not in p:\n",
    "        return 'retargeting'\n",
    "    elif 'direct' not in p and 'prospecting' not in p and 'retargeting' not in p and 'geo-fence' in p:\n",
    "        return 'geo-fence'\n",
    "    else:\n",
    "        return 'others'\n",
    "    \n",
    "def extract_data(df, ica='i'):\n",
    "    event_time = df['Event Time'].apply(lambda x: datetime.datetime.fromtimestamp(x/1000000))\n",
    "    df['date'] = event_time.apply(lambda x: x.strftime('%Y-%m-%d'))\n",
    "    df['hour'] = event_time.apply(lambda x: x.strftime('%H'))\n",
    "    weekday = 'monday tuesday wednesday thursday friday saturday sunday'.split()\n",
    "    df['weekday'] = event_time.apply(lambda x: weekday[x.weekday()])\n",
    "\n",
    "    df = df.merge(operating_systems[['Operating System ID', 'device']], \n",
    "                                  on='Operating System ID', how='left')\n",
    "    if ica != 'a': # activity files doesn't have city and dma\n",
    "        df = df.merge(cities, on='City ID', how='left')\n",
    "        df['state_city'] = df['State/Region'] + '_' + df['City']\n",
    "        df = df.merge(dmas, on='Designated Market Area (DMA) ID', how='left')\n",
    "\n",
    "    df = df.merge(dbmsites[['DBM Site', 'DBM Site ID']], on='DBM Site ID', how='left')\n",
    "    df = df.merge(dbmlineitems[['DBM Line Item', 'DBM Line Item ID']], on='DBM Line Item ID', how='left')\n",
    "\n",
    "    df = df.merge(creatives[['Rendering ID', 'Creative ID', 'Creative', \n",
    "                             'Creative Type', 'Creative Pixel Size']], on='Rendering ID', how='left')\n",
    "    \n",
    "    df = df.merge(urls[['Creative ID', 'Ad Click URL']], on='Creative ID', how='left')\n",
    "    \n",
    "    df = df.merge(placements[['Placement ID', 'Placement']], on='Placement ID', how='left')\n",
    "\n",
    "    df['placement_cat'] = df['Placement'].apply(extract_placement_cat)\n",
    "\n",
    "    df = df.merge(browsers, on='Browser/Platform ID', how='left')\n",
    "\n",
    "    df = df.merge(ads[['Ad ID', 'Ad']], on='Ad ID', how='left')\n",
    "    return df"
   ]
  },
  {
   "cell_type": "markdown",
   "metadata": {},
   "source": [
    "# match tables"
   ]
  },
  {
   "cell_type": "code",
   "execution_count": 3,
   "metadata": {},
   "outputs": [
    {
     "name": "stderr",
     "output_type": "stream",
     "text": [
      "/usr/local/lib/python3.6/site-packages/IPython/core/interactiveshell.py:2683: DtypeWarning: Columns (6) have mixed types. Specify dtype option on import or set low_memory=False.\n",
      "  interactivity=interactivity, compiler=compiler, result=result)\n",
      "/usr/local/lib/python3.6/site-packages/IPython/core/interactiveshell.py:2683: DtypeWarning: Columns (5,6) have mixed types. Specify dtype option on import or set low_memory=False.\n",
      "  interactivity=interactivity, compiler=compiler, result=result)\n"
     ]
    }
   ],
   "source": [
    "operating_systems = pd.read_csv('/home/jubauser1/jzou/dcm_account7252/match_tables/dcm_account7252_match_table_operating_systems_20170924_20170925_032758_614633451.csv.gz')\n",
    "sites = pd.read_csv('/home/jubauser1/jzou/dcm_account7252/match_tables/dcm_account7252_match_table_sites_20170924_20170925_032904_614624942.csv.gz')\n",
    "placements = pd.read_csv('/home/jubauser1/jzou/dcm_account7252/match_tables/dcm_account7252_match_table_placements_20170924_20170925_030250_614632857.csv.gz')\n",
    "creatives = pd.read_csv('/home/jubauser1/jzou/dcm_account7252/match_tables/dcm_account7252_match_table_creatives_20170924_20170925_030249_614632856.csv.gz')\n",
    "browsers = pd.read_csv('/home/jubauser1/jzou/dcm_account7252/match_tables/dcm_account7252_match_table_browsers_20170924_20170925_030246_614632858.csv.gz')\n",
    "cities = pd.read_csv('/home/jubauser1/jzou/dcm_account7252/match_tables/dcm_account7252_match_table_cities_20170924_20170925_030246_614624939.csv.gz')\n",
    "activity_cats = pd.read_csv('/home/jubauser1/jzou/dcm_account7252/match_tables/dcm_account7252_match_table_activity_cats_20170924_20170925_031531_614632854.csv.gz')\n",
    "dmas = pd.read_csv('/home/jubauser1/jzou/dcm_account7252/match_tables/dcm_account7252_match_table_designated_market_areas_20170924_20170925_032802_614624944.csv.gz')\n",
    "ads = pd.read_csv('/home/jubauser1/jzou/dcm_account7252/match_tables/dcm_account7252_match_table_ads_20170924_20170925_030249_614633450.csv.gz')\n",
    "urls = pd.read_csv('/home/jubauser1/jzou/dcm_account7252/match_tables/dcm_account7252_match_table_creative_ad_assignments_20170924_20170925_033006_614624943.csv.gz')\n",
    "\n",
    "additional_os = list()\n",
    "for i in {1, 3, 5, 7, 10, 13, 21, 22}:\n",
    "    d = dict()\n",
    "    d['Operating System ID'] = i\n",
    "    x = math.pow(2, i)\n",
    "    d['Operating System'] = list(\n",
    "        operating_systems[operating_systems['Operating System ID'] == x]['Operating System']\n",
    "    )[0]\n",
    "    additional_os.append(d)\n",
    "\n",
    "operating_systems = operating_systems.append(pd.DataFrame(additional_os), ignore_index=True)\n",
    "operating_systems\n",
    "\n",
    "os_to_device = {\n",
    "    '(not set)': '(not set)',\n",
    "    'Android': 'mobile',\n",
    "    'Apple iOS': 'mobile',\n",
    "    'BlackBerry': 'mobile',\n",
    "    'DoCoMo': 'mobile',\n",
    "    'Linux': 'desktop',\n",
    "    'Macintosh': 'desktop',\n",
    "    'Microsoft Windows 10': 'desktop',\n",
    "    'Microsoft Windows 2000': 'desktop',\n",
    "    'Microsoft Windows 7': 'desktop',\n",
    "    'Microsoft Windows 8': 'desktop',\n",
    "    'Microsoft Windows 95': 'desktop',\n",
    "    'Microsoft Windows 98': 'desktop',\n",
    "    'Microsoft Windows NT': 'desktop',\n",
    "    'Microsoft Windows Unknown Version': 'desktop',\n",
    "    'Microsoft Windows Vista': 'desktop',\n",
    "    'Microsoft Windows XP': 'desktop',\n",
    "    'Nokia Maemo': 'mobile',\n",
    "    'Nokia Series 60': 'mobile',\n",
    "    'NokiaSeries60': 'mobile',\n",
    "    'Other': 'other',\n",
    "    'Other/Unknown': 'Other/Unknown',\n",
    "    'PS4': 'desktop',\n",
    "    'PSP': 'desktop',\n",
    "    'Palm OS': 'mobile',\n",
    "    'Palm webOS': 'mobile',\n",
    "    'PalmWebOS': 'mobile',\n",
    "    'Playstation3': 'desktop',\n",
    "    'Playstation4': 'desktop',\n",
    "    'Roku': 'desktop',\n",
    "    'Samsung Bada': 'mobile',\n",
    "    'Unix': 'desktop',\n",
    "    'Unix, Linux': 'desktop',\n",
    "    'Unix, unknown': 'desktop',\n",
    "    'Wii': 'desktop',\n",
    "    'Wii U': 'desktop',\n",
    "    'WiiU': 'desktop',\n",
    "    'Windows 2000': 'desktop',\n",
    "    'Windows 7': 'desktop',\n",
    "    'Windows 98': 'desktop',\n",
    "    'Windows Mobile': 'mobile',\n",
    "    'Windows NT': 'desktop',\n",
    "    'Windows Phone': 'mobile',\n",
    "    'Windows Phone 7+': 'mobile',\n",
    "    'Windows Vista': 'desktop',\n",
    "    'Windows XP': 'desktop',\n",
    "    'Windows, version unknown': 'desktop',\n",
    "    'Windows10': 'desktop',\n",
    "    'Windows8': 'desktop',\n",
    "    'WindowsPhone': 'mobile',\n",
    "    'Xbox 360': 'desktop',\n",
    "    'Xbox One': 'desktop',\n",
    "    'Xbox360': 'desktop',\n",
    "    'XboxOne': 'desktop',\n",
    "    'iOS': 'mobile'\n",
    "}\n",
    "operating_systems['device'] = operating_systems['Operating System'].apply(lambda x: os_to_device[x])"
   ]
  },
  {
   "cell_type": "markdown",
   "metadata": {},
   "source": [
    "### dcm match tables"
   ]
  },
  {
   "cell_type": "code",
   "execution_count": 9,
   "metadata": {},
   "outputs": [
    {
     "name": "stderr",
     "output_type": "stream",
     "text": [
      "/usr/local/lib/python3.6/site-packages/IPython/core/interactiveshell.py:2683: DtypeWarning: Columns (1) have mixed types. Specify dtype option on import or set low_memory=False.\n",
      "  interactivity=interactivity, compiler=compiler, result=result)\n"
     ]
    }
   ],
   "source": [
    "dbmsites = pd.read_csv(\n",
    "    '/home/jubauser1/jzou/dcm_account7252/winery_weekly/dcm_reports/dbmSite_20170602_to_2017-09-24.csv')\n",
    "dbmsites['DBM Site ID'] = dbmsites['DBM Site ID'].astype(str)\n",
    "dbmsites = dbmsites[['DBM Site', 'DBM Site ID']].drop_duplicates().copy()\n",
    "\n",
    "dbmlineitems = pd.read_csv(\n",
    "    '/home/jubauser1/jzou/dcm_account7252/winery_weekly/dcm_reports/dbmLineItem_20170602_to_2017-09-24.csv')\n",
    "dbmlineitems['DBM Line Item ID'] = dbmlineitems['DBM Line Item ID'].astype(str)\n",
    "dbmlineitems = dbmlineitems[['DBM Line Item', 'DBM Line Item ID']].drop_duplicates().copy()"
   ]
  },
  {
   "cell_type": "markdown",
   "metadata": {},
   "source": [
    "# impression"
   ]
  },
  {
   "cell_type": "code",
   "execution_count": 29,
   "metadata": {},
   "outputs": [],
   "source": [
    "columns_impr = ['Campaign ID', 'Ad ID', 'Browser/Platform ID', 'City ID', \n",
    "                'State/Region', 'Designated Market Area (DMA) ID', 'Event Time',\n",
    "                'Operating System ID', 'Placement ID', 'Rendering ID', \n",
    "                'DBM Site ID', 'DBM Line Item ID', 'DBM Billable Cost (USD)',\n",
    "                'DBM Media Cost (USD)', 'DBM Total Media Cost (USD)', 'DBM Revenue (USD)']\n",
    "\n",
    "df = pd.read_csv(\n",
    "    '/home/jubauser1/jzou/dcm_account7252/winery_weekly/impr/impression_winery_reduced_2017090411_to_2017092509.csv')"
   ]
  },
  {
   "cell_type": "code",
   "execution_count": 30,
   "metadata": {},
   "outputs": [],
   "source": [
    "event_time = df['Event Time'].apply(lambda x: datetime.datetime.fromtimestamp(x/1000000))\n",
    "df['date'] = event_time.apply(lambda x: x.strftime('%Y-%m-%d'))\n",
    "df['hour'] = event_time.apply(lambda x: x.strftime('%H'))\n",
    "weekday = 'monday tuesday wednesday thursday friday saturday sunday'.split()\n",
    "df['weekday'] = event_time.apply(lambda x: weekday[x.weekday()])\n",
    "del event_time\n",
    "\n",
    "temp = df[['Operating System ID']].merge(operating_systems[['Operating System ID', 'device']], \n",
    "                              on='Operating System ID', how='left')\n",
    "df['device'] = temp['device']\n",
    "del temp\n",
    "df\n",
    "\n",
    "temp = df[['City ID']].merge(cities, on='City ID', how='left')\n",
    "\n",
    "df['City'] = temp['City'] \n",
    "del temp\n",
    "df['state_city'] = df['State/Region'] + '_' + df['City']\n",
    "\n",
    "temp = df[['Designated Market Area (DMA) ID']].merge(dmas, on='Designated Market Area (DMA) ID', how='left')\n",
    "df['Designated Market Area (DMA)'] = temp['Designated Market Area (DMA)']\n",
    "del temp\n",
    "\n",
    "temp = df[['DBM Site ID']].merge(dbmsites[['DBM Site', 'DBM Site ID']], on='DBM Site ID', how='left')\n",
    "df['DBM Site'] = temp['DBM Site'] \n",
    "del temp\n",
    "\n",
    "temp = df[['DBM Line Item ID']].merge(dbmlineitems[['DBM Line Item', 'DBM Line Item ID']], on='DBM Line Item ID', how='left')\n",
    "df['DBM Line Item'] = temp['DBM Line Item']\n",
    "del temp\n",
    "\n",
    "temp = df[['Rendering ID']].merge(creatives[['Rendering ID', 'Creative ID', \n",
    "                                             'Creative', 'Creative Pixel Size']], on='Rendering ID', how='left')\n",
    "df['Creative ID'] = temp['Creative ID']\n",
    "df['Creative'] = temp['Creative']\n",
    "df['Creative Pixel Size'] = temp['Creative Pixel Size']\n",
    "del temp\n",
    "\n",
    "temp = df[['Creative ID']].merge(urls[['Creative ID', 'Ad Click URL']], on='Creative ID', how='left')\n",
    "df['Ad Click URL'] = temp['Ad Click URL']\n",
    "del temp\n",
    "\n",
    "temp = df[['Placement ID']].merge(placements[['Placement ID', 'Placement']], on='Placement ID', how='left')\n",
    "df['Placement'] = temp['Placement']\n",
    "del temp\n",
    "\n",
    "df['placement_cat'] = df['Placement'].apply(extract_placement_cat)\n",
    "\n",
    "temp = df[['Browser/Platform ID']].merge(browsers, on='Browser/Platform ID', how='left')\n",
    "df['Browser/Platform'] = temp['Browser/Platform']\n",
    "del temp\n",
    "\n",
    "temp = df[['Ad ID']].merge(ads[['Ad ID', 'Ad']], on='Ad ID', how='left')\n",
    "df['Ad'] = temp['Ad']\n",
    "del temp"
   ]
  },
  {
   "cell_type": "code",
   "execution_count": 31,
   "metadata": {},
   "outputs": [
    {
     "data": {
      "text/plain": [
       "Index(['Event Time', 'Campaign ID', 'Ad ID', 'Rendering ID', 'Placement ID',\n",
       "       'State/Region', 'Browser/Platform ID', 'Operating System ID',\n",
       "       'Designated Market Area (DMA) ID', 'City ID', 'DBM Line Item ID',\n",
       "       'DBM Site ID', 'DBM Media Cost (USD)', 'DBM Revenue (USD)',\n",
       "       'DBM Total Media Cost (USD)', 'DBM Billable Cost (USD)', 'date', 'hour',\n",
       "       'weekday', 'device', 'City', 'state_city',\n",
       "       'Designated Market Area (DMA)', 'DBM Site', 'DBM Line Item',\n",
       "       'Creative ID', 'Creative', 'Creative Pixel Size', 'Ad Click URL',\n",
       "       'Placement', 'placement_cat', 'Browser/Platform', 'Ad'],\n",
       "      dtype='object')"
      ]
     },
     "execution_count": 31,
     "metadata": {},
     "output_type": "execute_result"
    }
   ],
   "source": [
    "df.columns"
   ]
  },
  {
   "cell_type": "code",
   "execution_count": 32,
   "metadata": {},
   "outputs": [],
   "source": [
    "views = [\n",
    "    'date', 'hour', 'weekday', 'state_city',\n",
    "    'Designated Market Area (DMA)', 'device',\n",
    "    'Browser/Platform', 'Placement', \n",
    "    'Ad', 'Ad Click URL', 'Creative', 'Creative Pixel Size',\n",
    "    'DBM Line Item', 'DBM Site'\n",
    "]\n",
    "\n",
    "count_by_view_impr = dict()\n",
    "for placement_cat, placement_group in df.groupby('placement_cat'):\n",
    "    count_by_view_impr[placement_cat] = dict()\n",
    "    for view in views:\n",
    "        count_by_view_impr[placement_cat][view] = dict()\n",
    "        # count impression or click\n",
    "        counts = placement_group[view].value_counts()\n",
    "        count_by_view_impr[placement_cat][view]['counts'] = dict(counts)\n",
    "        \n",
    "        view_group = placement_group.groupby(view)\n",
    "        # cost\n",
    "        #cost = view_group['DBM Media Cost (USD)'].sum()\n",
    "        cost = view_group['DBM Media Cost (USD)'].sum()\n",
    "        count_by_view_impr[placement_cat][view]['cost'] = dict(cost)\n",
    "        #cost_2 = view_group['DBM Total Media Cost (USD)'].sum()\n",
    "        #count_by_view[placement_cat][view]['DBM Total Media Cost (USD)'] = dict(cost_2)\n",
    "        \n",
    "        # revenue\n",
    "        revenue = view_group['DBM Revenue (USD)'].sum()\n",
    "        count_by_view_impr[placement_cat][view]['revenue'] = dict(revenue) \n",
    "        del view_group"
   ]
  },
  {
   "cell_type": "code",
   "execution_count": 33,
   "metadata": {},
   "outputs": [
    {
     "data": {
      "text/plain": [
       "dict_keys(['date', 'hour', 'weekday', 'state_city', 'Designated Market Area (DMA)', 'device', 'Browser/Platform', 'Placement', 'Ad', 'Ad Click URL', 'Creative', 'Creative Pixel Size', 'DBM Line Item', 'DBM Site'])"
      ]
     },
     "execution_count": 33,
     "metadata": {},
     "output_type": "execute_result"
    }
   ],
   "source": [
    "count_by_view_impr['geo-fence'].keys()"
   ]
  },
  {
   "cell_type": "code",
   "execution_count": 34,
   "metadata": {},
   "outputs": [
    {
     "data": {
      "text/plain": [
       "dict_keys(['21', '22', '19', '18', '09', '15', '00', '20', '23', '12', '10', '17', '14', '13', '16', '11', '08', '07', '01', '06', '02', '05', '03', '04'])"
      ]
     },
     "execution_count": 34,
     "metadata": {},
     "output_type": "execute_result"
    }
   ],
   "source": [
    "count_by_view_impr['geo-fence']['hour']['counts'].keys()"
   ]
  },
  {
   "cell_type": "code",
   "execution_count": null,
   "metadata": {
    "collapsed": true
   },
   "outputs": [],
   "source": [
    "for placement_cat in ['direct', 'geo-fence', 'prospecting', 'retargeting']:\n",
    "    for col in ['counts', 'cost', 'revenue']:\n",
    "        ks = list(count_by_view_impr[placement_cat]['hour'][col].keys())\n",
    "        for k in ks:\n",
    "            count_by_view_impr[placement_cat]['hour'][col]['%02d'%k] = count_by_view_impr[placement_cat]['hour'][col].pop(k)"
   ]
  },
  {
   "cell_type": "code",
   "execution_count": 35,
   "metadata": {
    "collapsed": true
   },
   "outputs": [],
   "source": [
    "json.dump(count_by_view_impr, \n",
    "          open('/home/jubauser1/jzou/dcm_account7252/winery_weekly/impr_json/counts_by_placement_by_view_winery_impr_2017090411_to_2017092509.json', 'w'),\n",
    "          cls=MyEncoder\n",
    "         )"
   ]
  },
  {
   "cell_type": "markdown",
   "metadata": {
    "collapsed": true
   },
   "source": [
    "# click"
   ]
  },
  {
   "cell_type": "code",
   "execution_count": 20,
   "metadata": {
    "scrolled": true
   },
   "outputs": [
    {
     "name": "stderr",
     "output_type": "stream",
     "text": [
      "/usr/local/lib/python3.6/site-packages/IPython/core/interactiveshell.py:2683: DtypeWarning: Columns (16,21,30,32,33,36,37,39,48) have mixed types. Specify dtype option on import or set low_memory=False.\n",
      "  interactivity=interactivity, compiler=compiler, result=result)\n"
     ]
    }
   ],
   "source": [
    "click = pd.read_csv('/home/jubauser1/jzou/dcm_account7252/winery_weekly/click_winery_1_campaign.csv', \n",
    "                    dtype={'hour': str})"
   ]
  },
  {
   "cell_type": "code",
   "execution_count": 21,
   "metadata": {
    "collapsed": true
   },
   "outputs": [],
   "source": [
    "click['DBM Line Item ID'] = click['DBM Line Item ID'].apply(lambda x: x if numpy.isnan(x) else str(int(float(x))))\n",
    "click['DBM Site ID'] = click['DBM Site ID'].apply(lambda x: x if numpy.isnan(x) else str(int(float(x))))"
   ]
  },
  {
   "cell_type": "code",
   "execution_count": 22,
   "metadata": {
    "collapsed": true
   },
   "outputs": [],
   "source": [
    "df = extract_data(click)"
   ]
  },
  {
   "cell_type": "code",
   "execution_count": 23,
   "metadata": {
    "collapsed": true
   },
   "outputs": [],
   "source": [
    "views = [\n",
    "    'date', 'hour', 'weekday', 'state_city',\n",
    "    'Designated Market Area (DMA)', 'device',\n",
    "    'Browser/Platform', 'Placement', \n",
    "    'Ad', 'Ad Click URL', 'Creative', 'Creative Pixel Size',\n",
    "    #'DBM Line Item ID', 'DBM Site ID',\n",
    "    'DBM Line Item', 'DBM Site',\n",
    "]\n",
    "\n",
    "count_by_view_click = dict()\n",
    "for placement_cat, placement_group in df.groupby('placement_cat'):\n",
    "    count_by_view_click[placement_cat] = dict()\n",
    "    for view in views:\n",
    "        count_by_view_click[placement_cat][view] = dict()\n",
    "        # count impression or click\n",
    "        counts = placement_group[view].value_counts()\n",
    "        count_by_view_click[placement_cat][view]['counts'] = dict(counts)\n",
    "        \n",
    "        view_group = placement_group.groupby(view)\n",
    "        # cost\n",
    "        cost = view_group['DBM Media Cost (USD)'].sum()\n",
    "        count_by_view_click[placement_cat][view]['cost'] = dict(cost)\n",
    "        # revenue\n",
    "        revenue = view_group['DBM Revenue (USD)'].sum()\n",
    "        count_by_view_click[placement_cat][view]['revenue'] = dict(revenue)    "
   ]
  },
  {
   "cell_type": "code",
   "execution_count": 25,
   "metadata": {},
   "outputs": [
    {
     "data": {
      "text/plain": [
       "dict_keys(['date', 'hour', 'weekday', 'state_city', 'Designated Market Area (DMA)', 'device', 'Browser/Platform', 'Placement', 'Ad', 'Ad Click URL', 'Creative', 'Creative Pixel Size', 'DBM Line Item', 'DBM Site'])"
      ]
     },
     "execution_count": 25,
     "metadata": {},
     "output_type": "execute_result"
    }
   ],
   "source": [
    "count_by_view_click['geo-fence'].keys()"
   ]
  },
  {
   "cell_type": "code",
   "execution_count": 26,
   "metadata": {
    "collapsed": true
   },
   "outputs": [],
   "source": [
    "json.dump(count_by_view_click, \n",
    "          open('/home/jubauser1/jzou/dcm_account7252/winery_weekly/json/counts_by_placement_by_view_winery_click.json', 'w'),\n",
    "          cls=MyEncoder)"
   ]
  },
  {
   "cell_type": "markdown",
   "metadata": {},
   "source": [
    "# activity"
   ]
  },
  {
   "cell_type": "code",
   "execution_count": 36,
   "metadata": {},
   "outputs": [],
   "source": [
    "activity = pd.read_csv('/home/jubauser1/jzou/dcm_account7252/winery_weekly/activity_winery_1_campaign.csv')"
   ]
  },
  {
   "cell_type": "code",
   "execution_count": 37,
   "metadata": {
    "collapsed": true
   },
   "outputs": [],
   "source": [
    "activity['DBM Line Item ID'] = activity['DBM Line Item ID'].apply(lambda x: x if numpy.isnan(x) else str(int(float(x))))\n",
    "activity['DBM Site ID'] = activity['DBM Site ID'].apply(lambda x: x if numpy.isnan(x) else str(int(float(x))))"
   ]
  },
  {
   "cell_type": "code",
   "execution_count": 38,
   "metadata": {
    "collapsed": true
   },
   "outputs": [],
   "source": [
    "activity = activity.merge(activity_cats[['Activity ID', 'Activity']], on='Activity ID', how='left')"
   ]
  },
  {
   "cell_type": "code",
   "execution_count": 39,
   "metadata": {
    "collapsed": true
   },
   "outputs": [],
   "source": [
    "df = extract_data(activity, ica='a')"
   ]
  },
  {
   "cell_type": "code",
   "execution_count": 40,
   "metadata": {
    "collapsed": true
   },
   "outputs": [],
   "source": [
    "views_act = [\n",
    "    'date', 'hour', 'weekday', 'device',\n",
    "    'Browser/Platform', 'Placement', \n",
    "    'Ad', 'Ad Click URL', 'Creative', 'Creative Pixel Size',\n",
    "    #'DBM Line Item ID', 'DBM Site ID',\n",
    "    'DBM Line Item', 'DBM Site',\n",
    "]\n",
    "\n",
    "hvas = [\n",
    "    'All Products',\n",
    "    'Checkout',\n",
    "    'Diamond - Cabernet Sauvignon page',\n",
    "    'Diamond - Chardonnay page',\n",
    "    'Diamond - Claret page',\n",
    "    'Diamond - Diamond Red Blend page',\n",
    "    'Diamond - Malbec page',\n",
    "    'Diamond - Merlot page',\n",
    "    'Diamond - Pavilion page',\n",
    "    'Diamond - Pinot Grigio page',\n",
    "    'Diamond - Pinot Noir page',\n",
    "    'Diamond - Sauvignon Blanc page',\n",
    "    'Diamond - Syrah Shiraz page',\n",
    "    'Diamond - Zinfandel page',\n",
    "    'Diamond Adventure landing page',\n",
    "    'Diamond Quiz',\n",
    "    'FFC Home Page',\n",
    "    'Membership',\n",
    "    'Membership-Join now',\n",
    "    'Our Wines Diamond Collection',\n",
    "    'Shop - Diamond Collection Wines',\n",
    "    'Shop Now',\n",
    "    'Shop online - Wine',\n",
    "    'Shopping Cart',\n",
    "    'Store Locator',\n",
    "    'Visit Location']\n",
    "\n",
    "count_by_view_act = dict()\n",
    "for placement_cat, placement_group in df.groupby('placement_cat'):\n",
    "    count_by_view_act[placement_cat] = dict()\n",
    "    c = placement_group[placement_group['Activity'] != 'Thank You Page']\n",
    "    t = placement_group[placement_group['Activity'] == 'Thank You Page']\n",
    "    for view in views_act:\n",
    "        count_by_view_act[placement_cat][view] = dict()\n",
    "        # conversion\n",
    "        conversion = c.groupby(view)['Total Conversions'].sum()\n",
    "        count_by_view_act[placement_cat][view]['HVA'] = dict(conversion)\n",
    "        # transaction\n",
    "        transaction = t.groupby(view)['Total Conversions'].sum()\n",
    "        count_by_view_act[placement_cat][view]['Transaction'] = dict(transaction) \n",
    "        for hva in hvas:\n",
    "            h = placement_group[placement_group['Activity'] == hva]\n",
    "            hva_count = h.groupby(view)['Total Conversions'].sum()\n",
    "            count_by_view_act[placement_cat][view]['hva_%s'%hva] = dict(hva_count) "
   ]
  },
  {
   "cell_type": "code",
   "execution_count": 41,
   "metadata": {
    "collapsed": true
   },
   "outputs": [],
   "source": [
    "json.dump(count_by_view_act, \n",
    "          open('/home/jubauser1/jzou/dcm_account7252/winery_weekly/json/counts_by_placement_by_view_winery_activity.json', 'w'),\n",
    "          cls=MyEncoder)"
   ]
  },
  {
   "cell_type": "markdown",
   "metadata": {},
   "source": [
    "# generate reports"
   ]
  },
  {
   "cell_type": "code",
   "execution_count": 42,
   "metadata": {
    "collapsed": true
   },
   "outputs": [],
   "source": [
    "import json\n",
    "from collections import Counter\n",
    "import pandas as pd\n",
    "pd.options.display.max_rows=6"
   ]
  },
  {
   "cell_type": "markdown",
   "metadata": {},
   "source": [
    "### json feed"
   ]
  },
  {
   "cell_type": "code",
   "execution_count": 43,
   "metadata": {
    "collapsed": true
   },
   "outputs": [],
   "source": [
    "counts_by_placement_by_view_impr = json.load(\n",
    "    open('/home/jubauser1/jzou/dcm_account7252/winery_weekly/json/counts_by_placement_by_view_winery_impr_est_revenue_dbm_site_line_item.json', 'r'))\n",
    "\n",
    "counts_by_placement_by_view_click = json.load(\n",
    "    open('/home/jubauser1/jzou/dcm_account7252/winery_weekly/json/counts_by_placement_by_view_winery_click.json', 'r'))\n",
    "\n",
    "counts_by_placement_by_view_act = json.load(\n",
    "    open('/home/jubauser1/jzou/dcm_account7252/winery_weekly/json/counts_by_placement_by_view_winery_activity.json', 'r'))"
   ]
  },
  {
   "cell_type": "code",
   "execution_count": 44,
   "metadata": {
    "collapsed": true
   },
   "outputs": [],
   "source": [
    "impr_weekly = json.load(\n",
    "    open('/home/jubauser1/jzou/dcm_account7252/winery_weekly/impr_json/counts_by_placement_by_view_winery_impr_2017090411_to_2017092509.json', 'r'))"
   ]
  },
  {
   "cell_type": "code",
   "execution_count": 38,
   "metadata": {},
   "outputs": [
    {
     "data": {
      "text/plain": [
       "(dict_keys(['direct', 'geo-fence', 'prospecting', 'retargeting']),\n",
       " dict_keys(['date', 'hour', 'weekday', 'state_city', 'Designated Market Area (DMA)', 'device', 'Browser/Platform', 'Placement', 'Ad', 'Ad Click URL', 'Creative', 'Creative Pixel Size', 'DBM Line Item ID', 'DBM Site ID']),\n",
       " dict_keys(['counts', 'cost', 'revenue']))"
      ]
     },
     "execution_count": 38,
     "metadata": {},
     "output_type": "execute_result"
    }
   ],
   "source": [
    "impr_weekly.keys(), impr_weekly['prospecting'].keys(), impr_weekly['prospecting']['weekday'].keys()"
   ]
  },
  {
   "cell_type": "code",
   "execution_count": 45,
   "metadata": {
    "collapsed": true
   },
   "outputs": [],
   "source": [
    "views = [\n",
    "    'date', 'hour', 'weekday', 'device', 'state_city', 'Designated Market Area (DMA)',\n",
    "    'Browser/Platform', 'Placement', 'DBM Line Item', 'DBM Site',\n",
    "    'Ad', 'Ad Click URL', 'Creative', 'Creative Pixel Size', \n",
    "]\n",
    "\n",
    "for placement_cat in ['direct', 'geo-fence', 'prospecting', 'retargeting']:\n",
    "    if placement_cat not in impr_weekly:\n",
    "        continue\n",
    "    elif placement_cat not in counts_by_placement_by_view_impr:\n",
    "        counts_by_placement_by_view_impr[placement_cat] = impr_weekly[placement_cat]\n",
    "    else:\n",
    "        for view in views:\n",
    "            if view not in impr_weekly[placement_cat]:\n",
    "                continue\n",
    "            elif view not in counts_by_placement_by_view_impr[placement_cat]:\n",
    "                counts_by_placement_by_view_impr[placement_cat][view] = impr_weekly[placement_cat][view]\n",
    "            else:\n",
    "                for col in ['counts', 'cost', 'revenue']:\n",
    "                    dict_sum = Counter(counts_by_placement_by_view_impr[placement_cat][view][col]) + \\\n",
    "                        Counter(impr_weekly[placement_cat][view][col])\n",
    "                    counts_by_placement_by_view_impr[placement_cat][view][col] = dict(dict_sum)"
   ]
  },
  {
   "cell_type": "code",
   "execution_count": 46,
   "metadata": {
    "collapsed": true
   },
   "outputs": [],
   "source": [
    "json.dump(counts_by_placement_by_view_impr, \n",
    "         open('/home/jubauser1/jzou/dcm_account7252/winery_weekly/json/counts_by_placement_by_view_winery_impr.json', 'w'))"
   ]
  },
  {
   "cell_type": "markdown",
   "metadata": {},
   "source": [
    "### dcm feed"
   ]
  },
  {
   "cell_type": "code",
   "execution_count": 47,
   "metadata": {
    "collapsed": true
   },
   "outputs": [],
   "source": [
    "dcm_reports = dict()\n",
    "dcm_reports['Designated Market Area (DMA)'] = pd.read_csv(\n",
    "    '/home/jubauser1/jzou/dcm_account7252/winery_weekly/dcm_reports/dma_20170602_to_2017-09-24.csv')\n",
    "dcm_reports['state_city'] = pd.read_csv(\n",
    "    '/home/jubauser1/jzou/dcm_account7252/winery_weekly/dcm_reports/state_city_20170602_to_2017-09-24.csv')\n",
    "dcm_reports['state_city']['state_city'] = dcm_reports['state_city']['State/Region']+'_'+ dcm_reports['state_city']['City']\n",
    "\n",
    "hvas = [\n",
    "    'All Products',\n",
    "    'Checkout',\n",
    "    'Diamond - Cabernet Sauvignon page',\n",
    "    'Diamond - Chardonnay page',\n",
    "    'Diamond - Claret page',\n",
    "    'Diamond - Diamond Red Blend page',\n",
    "    'Diamond - Malbec page',\n",
    "    'Diamond - Merlot page',\n",
    "    'Diamond - Pavilion page',\n",
    "    'Diamond - Pinot Grigio page',\n",
    "    'Diamond - Pinot Noir page',\n",
    "    'Diamond - Sauvignon Blanc page',\n",
    "    'Diamond - Syrah Shiraz page',\n",
    "    'Diamond - Zinfandel page',\n",
    "    'Diamond Adventure landing page',\n",
    "    'Diamond Quiz',\n",
    "    'FFC Home Page',\n",
    "    'Membership',\n",
    "    'Membership-Join now',\n",
    "    'Our Wines Diamond Collection',\n",
    "    'Shop - Diamond Collection Wines',\n",
    "    'Shop Now',\n",
    "    'Shop online - Wine',\n",
    "    'Shopping Cart',\n",
    "    'Store Locator',\n",
    "    'Visit Location',\n",
    "    '(not set)']\n",
    "\n",
    "for view in dcm_reports.keys():\n",
    "    dcm_reports[view]['placement_cat'] = dcm_reports[view]['Placement'].apply(extract_placement_cat)\n",
    "    for placement_cat, placement_group in dcm_reports[view].groupby('placement_cat'):\n",
    "        counts_by_placement_by_view_act[placement_cat][view] = dict()\n",
    "        c = placement_group[placement_group['Activity'] != 'Thank You Page']\n",
    "        t = placement_group[placement_group['Activity'] == 'Thank You Page']\n",
    "        # conversion\n",
    "        conversion = c.groupby(view)['Total Conversions'].sum()\n",
    "        counts_by_placement_by_view_act[placement_cat][view]['HVA'] = dict(conversion)\n",
    "        # transaction\n",
    "        transaction = t.groupby(view)['Total Conversions'].sum()\n",
    "        counts_by_placement_by_view_act[placement_cat][view]['Transaction'] = dict(transaction) \n",
    "        for hva in hvas:\n",
    "            h = placement_group[placement_group['Activity'] == hva]\n",
    "            hva_count = h.groupby(view)['Total Conversions'].sum()\n",
    "            counts_by_placement_by_view_act[placement_cat][view]['hva_%s'%hva] = dict(hva_count)"
   ]
  },
  {
   "cell_type": "code",
   "execution_count": 48,
   "metadata": {
    "collapsed": true
   },
   "outputs": [],
   "source": [
    "views = [\n",
    "    'date', 'hour', 'weekday', 'device', 'state_city', 'Designated Market Area (DMA)',\n",
    "    'Browser/Platform', 'Placement', \n",
    "    'Ad', 'Ad Click URL', 'Creative', 'Creative Pixel Size', \n",
    "    #'DBM Line Item ID', 'DBM Site ID',\n",
    "    'DBM Line Item', 'DBM Site',\n",
    "]\n",
    "for placement_cat in ['direct', 'geo-fence', 'prospecting', 'retargeting']:\n",
    "    writer = pd.ExcelWriter('/home/jubauser1/jzou/winery/%s_20170924.xlsx'%placement_cat)\n",
    "    for view in views:\n",
    "        impr_view = pd.DataFrame(counts_by_placement_by_view_impr[placement_cat][view])\n",
    "        impr_view.rename(columns={'counts': 'Impression'}, inplace=True)\n",
    "\n",
    "        click_view = pd.DataFrame(counts_by_placement_by_view_click[placement_cat][view])['counts']\n",
    "        click_view.name = 'Click'\n",
    "        \n",
    "        activity_view = pd.DataFrame(counts_by_placement_by_view_act[placement_cat][view])\n",
    "        \n",
    "        merged_view = impr_view.join(click_view, how='outer').join(activity_view, how='outer')\n",
    "        \n",
    "        merged_view['cost'] = merged_view['cost'] / 1000000000\n",
    "        merged_view['revenue'] = merged_view['revenue'] / 1000000000\n",
    "        merged_view['ROI'] = merged_view['revenue'] / merged_view['cost']\n",
    "        merged_view['CPRevenue'] = merged_view['cost'] / merged_view['revenue']\n",
    "        merged_view['CPTransaction'] = merged_view['cost'] / merged_view['Transaction']\n",
    "        merged_view['CPHVA'] = merged_view['cost'] / merged_view['HVA']\n",
    "        merged_view['CPC'] = merged_view['cost'] / merged_view['Click']\n",
    "        merged_view['CTR'] = merged_view['Click'] / merged_view['Impression']\n",
    "        \n",
    "        merged_view['hva_Store Locator'].fillna(0, inplace=True)\n",
    "        merged_view['hva_Visit Location'].fillna(0, inplace=True)\n",
    "        merged_view['CPStore_locator_Visit_location'] = merged_view['cost'] / (merged_view['hva_Store Locator'] + merged_view['hva_Visit Location'])\n",
    "\n",
    "        if view != 'date' and placement_cat != 'geo-fence':    \n",
    "            merged_view.sort_values(by=['ROI', 'CPHVA'], ascending=[False, True], inplace=True)\n",
    "        elif placement_cat == 'geo-fence':\n",
    "            if view != 'date':\n",
    "                merged_view.sort_values(by=['CPStore_locator_Visit_location'], ascending=[True], inplace=True)\n",
    "            \n",
    "        merged_view[[\n",
    "            'cost', 'Impression', 'revenue', 'Click', 'HVA', 'Transaction',\n",
    "            'ROI', 'CPRevenue', 'CPTransaction', 'CPHVA',\n",
    "            'CPC', 'CTR', 'CPStore_locator_Visit_location',\n",
    "            'hva_All Products', 'hva_Checkout',\n",
    "            'hva_Diamond - Cabernet Sauvignon page',\n",
    "            'hva_Diamond - Chardonnay page', 'hva_Diamond - Claret page',\n",
    "            'hva_Diamond - Diamond Red Blend page', 'hva_Diamond - Malbec page',\n",
    "            'hva_Diamond - Merlot page', 'hva_Diamond - Pavilion page',\n",
    "            'hva_Diamond - Pinot Grigio page', 'hva_Diamond - Pinot Noir page',\n",
    "            'hva_Diamond - Sauvignon Blanc page', 'hva_Diamond - Syrah Shiraz page',\n",
    "            'hva_Diamond - Zinfandel page', 'hva_Diamond Adventure landing page',\n",
    "            'hva_Diamond Quiz', 'hva_FFC Home Page', 'hva_Membership',\n",
    "            'hva_Membership-Join now', 'hva_Our Wines Diamond Collection',\n",
    "            'hva_Shop - Diamond Collection Wines', 'hva_Shop Now',\n",
    "            'hva_Shop online - Wine', 'hva_Shopping Cart', 'hva_Store Locator',\n",
    "            'hva_Visit Location', ]].to_excel(writer, view.replace('/', '_'))\n",
    "    \n",
    "    writer.save()"
   ]
  },
  {
   "cell_type": "markdown",
   "metadata": {},
   "source": [
    "# impr site name"
   ]
  },
  {
   "cell_type": "code",
   "execution_count": 58,
   "metadata": {
    "collapsed": true
   },
   "outputs": [],
   "source": [
    "temp = json.load(open('/home/jubauser1/jzou/dcm_account7252/winery_weekly/json/counts_by_placement_by_view_winery_impr_est_revenue.json', 'r'))\n",
    "\n",
    "for placement_cat in ['direct', 'geo-fence', 'prospecting', 'retargeting']:\n",
    "    temp_df = pd.DataFrame(temp[placement_cat]['DBM Site ID'])\n",
    "    temp_df = temp_df.merge(dbmsites, left_index=True, right_on='DBM Site ID', how='left')\n",
    "    temp_df.index = temp_df['DBM Site']\n",
    "    temp[placement_cat]['DBM Site'] = temp_df[['cost', 'counts', 'revenue']].to_dict()\n",
    "\n",
    "for placement_cat in ['direct', 'geo-fence', 'prospecting', 'retargeting']:\n",
    "    temp_df = pd.DataFrame(temp[placement_cat]['DBM Line Item ID'])\n",
    "    temp_df = temp_df.merge(dbmlineitems, left_index=True, right_on='DBM Line Item ID', how='left')\n",
    "    temp_df.index = temp_df['DBM Line Item']\n",
    "    temp[placement_cat]['DBM Line Item'] = temp_df[['cost', 'counts', 'revenue']].to_dict()\n",
    "\n",
    "json.dump(temp, \n",
    "         open('/home/jubauser1/jzou/dcm_account7252/winery_weekly/json/counts_by_placement_by_view_winery_impr_est_revenue_dbm_site_line_item.json', 'w'),\n",
    "         cls=MyEncoder)"
   ]
  },
  {
   "cell_type": "markdown",
   "metadata": {},
   "source": [
    "# est revenue"
   ]
  },
  {
   "cell_type": "code",
   "execution_count": 7,
   "metadata": {
    "collapsed": true
   },
   "outputs": [],
   "source": [
    "for index in df.index:\n",
    "    if df.loc[index, 'date'] < '2017-07-27':\n",
    "        df.set_value(index, 'DBM Media Cost (USD)', df.loc[index, 'estimated_cost'])"
   ]
  },
  {
   "cell_type": "code",
   "execution_count": 74,
   "metadata": {
    "collapsed": true
   },
   "outputs": [],
   "source": [
    "date = pd.read_csv('/home/jubauser1/jzou/dcm_account7252/winery_weekly/dcm_reports/date_20170602_to_2017-07-25.csv')\n",
    "\n",
    "date['placement_cat'] = date['Placement'].apply(extract_placement_cat)\n",
    "\n",
    "date['Total Revenue'] = date['Total Revenue'].apply(lambda x: int(x*1000000000))"
   ]
  },
  {
   "cell_type": "code",
   "execution_count": 98,
   "metadata": {},
   "outputs": [
    {
     "data": {
      "text/plain": [
       "Index(['Date', 'Placement', 'Activity', 'Activity ID', 'Impressions', 'Clicks',\n",
       "       'DBM Cost (Account Currency)', 'Media Cost', 'Total Conversions',\n",
       "       'Total Revenue', 'placement_cat'],\n",
       "      dtype='object')"
      ]
     },
     "execution_count": 98,
     "metadata": {},
     "output_type": "execute_result"
    }
   ],
   "source": [
    "date.columns"
   ]
  },
  {
   "cell_type": "code",
   "execution_count": 95,
   "metadata": {
    "collapsed": true
   },
   "outputs": [],
   "source": [
    "for placement_cat, placement_group in date.groupby('placement_cat'):\n",
    "    d = dict(placement_group.groupby('Date')['Total Revenue'].sum())\n",
    "    counts_by_placement_by_view_impr[placement_cat]['date']['revenue'] = dict(Counter(counts_by_placement_by_view_impr[placement_cat]['date']['revenue']) + Counter(d))"
   ]
  },
  {
   "cell_type": "code",
   "execution_count": 99,
   "metadata": {},
   "outputs": [
    {
     "data": {
      "text/html": [
       "<div>\n",
       "<style>\n",
       "    .dataframe thead tr:only-child th {\n",
       "        text-align: right;\n",
       "    }\n",
       "\n",
       "    .dataframe thead th {\n",
       "        text-align: left;\n",
       "    }\n",
       "\n",
       "    .dataframe tbody tr th {\n",
       "        vertical-align: top;\n",
       "    }\n",
       "</style>\n",
       "<table border=\"1\" class=\"dataframe\">\n",
       "  <thead>\n",
       "    <tr style=\"text-align: right;\">\n",
       "      <th></th>\n",
       "      <th>hour</th>\n",
       "      <th>Placement</th>\n",
       "      <th>Activity</th>\n",
       "      <th>Activity ID</th>\n",
       "      <th>Impressions</th>\n",
       "      <th>Clicks</th>\n",
       "      <th>DBM Cost (Account Currency)</th>\n",
       "      <th>Media Cost</th>\n",
       "      <th>Total Conversions</th>\n",
       "      <th>Total Revenue</th>\n",
       "    </tr>\n",
       "  </thead>\n",
       "  <tbody>\n",
       "    <tr>\n",
       "      <th>0</th>\n",
       "      <td>(not set)</td>\n",
       "      <td>ffc winery_q2-q3 diamond digital_programmatic_...</td>\n",
       "      <td>(not set).1</td>\n",
       "      <td>(not set).2</td>\n",
       "      <td>0</td>\n",
       "      <td>0.1</td>\n",
       "      <td>584.65</td>\n",
       "      <td>0.0</td>\n",
       "      <td>0.0</td>\n",
       "      <td>0.000000000.1</td>\n",
       "    </tr>\n",
       "    <tr>\n",
       "      <th>1</th>\n",
       "      <td>(not set)</td>\n",
       "      <td>ffc winery_q2-q3 diamond digital_programmatic_...</td>\n",
       "      <td>(not set)</td>\n",
       "      <td>(not set)</td>\n",
       "      <td>0</td>\n",
       "      <td>0.0</td>\n",
       "      <td>704.20</td>\n",
       "      <td>0.0</td>\n",
       "      <td>0.0</td>\n",
       "      <td>0.0</td>\n",
       "    </tr>\n",
       "    <tr>\n",
       "      <th>2</th>\n",
       "      <td>(not set)</td>\n",
       "      <td>ffc winery_q2-q3 diamond digital_programmatic_...</td>\n",
       "      <td>(not set)</td>\n",
       "      <td>(not set)</td>\n",
       "      <td>0</td>\n",
       "      <td>0.0</td>\n",
       "      <td>99.83</td>\n",
       "      <td>0.0</td>\n",
       "      <td>0.0</td>\n",
       "      <td>0.0</td>\n",
       "    </tr>\n",
       "    <tr>\n",
       "      <th>...</th>\n",
       "      <td>...</td>\n",
       "      <td>...</td>\n",
       "      <td>...</td>\n",
       "      <td>...</td>\n",
       "      <td>...</td>\n",
       "      <td>...</td>\n",
       "      <td>...</td>\n",
       "      <td>...</td>\n",
       "      <td>...</td>\n",
       "      <td>...</td>\n",
       "    </tr>\n",
       "    <tr>\n",
       "      <th>11549</th>\n",
       "      <td>23</td>\n",
       "      <td>ffc winery_q2-q3 diamond digital_programmatic_...</td>\n",
       "      <td>Shop - Diamond Collection Wines</td>\n",
       "      <td>6063963</td>\n",
       "      <td>0</td>\n",
       "      <td>0.0</td>\n",
       "      <td>0.00</td>\n",
       "      <td>0.0</td>\n",
       "      <td>1.0</td>\n",
       "      <td>0.0</td>\n",
       "    </tr>\n",
       "    <tr>\n",
       "      <th>11550</th>\n",
       "      <td>23</td>\n",
       "      <td>ffc winery_q2-q3 diamond digital_programmatic_...</td>\n",
       "      <td>Shop online - Wine</td>\n",
       "      <td>4075982</td>\n",
       "      <td>0</td>\n",
       "      <td>0.0</td>\n",
       "      <td>0.00</td>\n",
       "      <td>0.0</td>\n",
       "      <td>5.0</td>\n",
       "      <td>0.0</td>\n",
       "    </tr>\n",
       "    <tr>\n",
       "      <th>11551</th>\n",
       "      <td>23</td>\n",
       "      <td>ffc winery_q2-q3 diamond digital_programmatic_...</td>\n",
       "      <td>Visit Location</td>\n",
       "      <td>4075383</td>\n",
       "      <td>0</td>\n",
       "      <td>0.0</td>\n",
       "      <td>0.00</td>\n",
       "      <td>0.0</td>\n",
       "      <td>12.0</td>\n",
       "      <td>0.0</td>\n",
       "    </tr>\n",
       "  </tbody>\n",
       "</table>\n",
       "<p>11552 rows × 10 columns</p>\n",
       "</div>"
      ],
      "text/plain": [
       "            hour                                          Placement  \\\n",
       "0      (not set)  ffc winery_q2-q3 diamond digital_programmatic_...   \n",
       "1      (not set)  ffc winery_q2-q3 diamond digital_programmatic_...   \n",
       "2      (not set)  ffc winery_q2-q3 diamond digital_programmatic_...   \n",
       "...          ...                                                ...   \n",
       "11549         23  ffc winery_q2-q3 diamond digital_programmatic_...   \n",
       "11550         23  ffc winery_q2-q3 diamond digital_programmatic_...   \n",
       "11551         23  ffc winery_q2-q3 diamond digital_programmatic_...   \n",
       "\n",
       "                              Activity  Activity ID  Impressions  Clicks  \\\n",
       "0                          (not set).1  (not set).2            0     0.1   \n",
       "1                            (not set)    (not set)            0     0.0   \n",
       "2                            (not set)    (not set)            0     0.0   \n",
       "...                                ...          ...          ...     ...   \n",
       "11549  Shop - Diamond Collection Wines      6063963            0     0.0   \n",
       "11550               Shop online - Wine      4075982            0     0.0   \n",
       "11551                   Visit Location      4075383            0     0.0   \n",
       "\n",
       "       DBM Cost (Account Currency)  Media Cost  Total Conversions  \\\n",
       "0                           584.65         0.0                0.0   \n",
       "1                           704.20         0.0                0.0   \n",
       "2                            99.83         0.0                0.0   \n",
       "...                            ...         ...                ...   \n",
       "11549                         0.00         0.0                1.0   \n",
       "11550                         0.00         0.0                5.0   \n",
       "11551                         0.00         0.0               12.0   \n",
       "\n",
       "       Total Revenue  \n",
       "0      0.000000000.1  \n",
       "1                0.0  \n",
       "2                0.0  \n",
       "...              ...  \n",
       "11549            0.0  \n",
       "11550            0.0  \n",
       "11551            0.0  \n",
       "\n",
       "[11552 rows x 10 columns]"
      ]
     },
     "execution_count": 99,
     "metadata": {},
     "output_type": "execute_result"
    }
   ],
   "source": [
    "hour = pd.read_csv('/home/jubauser1/jzou/dcm_account7252/winery_weekly/dcm_reports/hour_20170602_to_2017-07-25.csv',\n",
    "                   names = ['hour', 'Placement', 'Activity', 'Activity ID', 'Impressions', 'Clicks',\n",
    "                            'DBM Cost (Account Currency)', 'Media Cost', 'Total Conversions', 'Total Revenue'])\n",
    "hour"
   ]
  },
  {
   "cell_type": "code",
   "execution_count": 105,
   "metadata": {
    "collapsed": true
   },
   "outputs": [],
   "source": [
    "hour.drop(0, inplace=True)"
   ]
  },
  {
   "cell_type": "code",
   "execution_count": 107,
   "metadata": {
    "collapsed": true
   },
   "outputs": [],
   "source": [
    "hour['placement_cat'] = hour['Placement'].apply(extract_placement_cat)"
   ]
  },
  {
   "cell_type": "code",
   "execution_count": 108,
   "metadata": {
    "collapsed": true
   },
   "outputs": [],
   "source": [
    "hour['Total Revenue'] = hour['Total Revenue'].astype(float).apply(lambda x: int(x*1000000000))"
   ]
  },
  {
   "cell_type": "code",
   "execution_count": 109,
   "metadata": {},
   "outputs": [
    {
     "data": {
      "text/plain": [
       "{'(not set)': 0,\n",
       " '00': 0,\n",
       " '01': 0,\n",
       " '02': 0,\n",
       " '03': 0,\n",
       " '04': 0,\n",
       " '05': 0,\n",
       " '06': 0,\n",
       " '07': 0,\n",
       " '08': 0,\n",
       " '09': 0,\n",
       " '10': 0,\n",
       " '11': 0,\n",
       " '12': 0,\n",
       " '13': 395540000000,\n",
       " '14': 0,\n",
       " '15': 124250000000,\n",
       " '16': 0,\n",
       " '17': 0,\n",
       " '18': 0,\n",
       " '19': 0,\n",
       " '20': 0,\n",
       " '21': 349250000000,\n",
       " '22': 0,\n",
       " '23': 0}"
      ]
     },
     "execution_count": 109,
     "metadata": {},
     "output_type": "execute_result"
    }
   ],
   "source": [
    "dict(hour[hour['placement_cat'] == 'prospecting'].groupby('hour')['Total Revenue'].sum())"
   ]
  },
  {
   "cell_type": "code",
   "execution_count": 110,
   "metadata": {
    "collapsed": true
   },
   "outputs": [],
   "source": [
    "for placement_cat, placement_group in hour.groupby('placement_cat'):\n",
    "    d = dict(placement_group.groupby('hour')['Total Revenue'].sum())\n",
    "    counts_by_placement_by_view_impr[placement_cat]['hour']['revenue'] = \\\n",
    "        dict(Counter(counts_by_placement_by_view_impr[placement_cat]['hour']['revenue']) + Counter(d))"
   ]
  },
  {
   "cell_type": "code",
   "execution_count": 115,
   "metadata": {
    "collapsed": true
   },
   "outputs": [],
   "source": [
    "weekday = 'monday tuesday wednesday thursday friday saturday sunday'.split()\n",
    "date['weekday'] = date['Date'].apply(lambda x: weekday[datetime.datetime.strptime(x, '%Y-%m-%d').weekday()])"
   ]
  },
  {
   "cell_type": "code",
   "execution_count": 117,
   "metadata": {
    "collapsed": true
   },
   "outputs": [],
   "source": [
    "for placement_cat, placement_group in date.groupby('placement_cat'):\n",
    "    d = dict(placement_group.groupby('weekday')['Total Revenue'].sum())\n",
    "    counts_by_placement_by_view_impr[placement_cat]['weekday']['revenue'] = \\\n",
    "        dict(Counter(counts_by_placement_by_view_impr[placement_cat]['weekday']['revenue']) + Counter(d))"
   ]
  },
  {
   "cell_type": "code",
   "execution_count": 118,
   "metadata": {},
   "outputs": [
    {
     "data": {
      "text/plain": [
       "['date',\n",
       " 'hour',\n",
       " 'weekday',\n",
       " 'device',\n",
       " 'state_city',\n",
       " 'Designated Market Area (DMA)',\n",
       " 'Browser/Platform',\n",
       " 'Placement',\n",
       " 'DBM Line Item ID',\n",
       " 'DBM Site ID',\n",
       " 'Ad',\n",
       " 'Ad Click URL',\n",
       " 'Creative',\n",
       " 'Creative Pixel Size']"
      ]
     },
     "execution_count": 118,
     "metadata": {},
     "output_type": "execute_result"
    }
   ],
   "source": [
    "views"
   ]
  },
  {
   "cell_type": "code",
   "execution_count": 123,
   "metadata": {
    "collapsed": true
   },
   "outputs": [],
   "source": [
    "operating_system = pd.read_csv(\n",
    "    '/home/jubauser1/jzou/dcm_account7252/winery_weekly/dcm_reports/operating_system_20170602_to_2017-07-25.csv',\n",
    "    names= ['operating_system', 'Placement', 'Activity', 'Activity ID', 'Impressions', 'Clicks',\n",
    "       'DBM Cost (Account Currency)', 'Media Cost', 'Total Conversions',\n",
    "       'Total Revenue'])"
   ]
  },
  {
   "cell_type": "code",
   "execution_count": 125,
   "metadata": {
    "collapsed": true
   },
   "outputs": [],
   "source": [
    "operating_system.drop(0, inplace=True)"
   ]
  },
  {
   "cell_type": "code",
   "execution_count": 127,
   "metadata": {
    "collapsed": true
   },
   "outputs": [],
   "source": [
    "os_to_device = {\n",
    "    '(not set)': '(not set)',\n",
    "    'Android': 'mobile',\n",
    "    'Apple iOS': 'mobile',\n",
    "    'BlackBerry': 'mobile',\n",
    "    'DoCoMo': 'mobile',\n",
    "    'Linux': 'desktop',\n",
    "    'Macintosh': 'desktop',\n",
    "    'Microsoft Windows 10': 'desktop',\n",
    "    'Microsoft Windows 2000': 'desktop',\n",
    "    'Microsoft Windows 7': 'desktop',\n",
    "    'Microsoft Windows 8': 'desktop',\n",
    "    'Microsoft Windows 95': 'desktop',\n",
    "    'Microsoft Windows 98': 'desktop',\n",
    "    'Microsoft Windows NT': 'desktop',\n",
    "    'Microsoft Windows Unknown Version': 'desktop',\n",
    "    'Microsoft Windows Vista': 'desktop',\n",
    "    'Microsoft Windows XP': 'desktop',\n",
    "    'Nokia Maemo': 'mobile',\n",
    "    'Nokia Series 60': 'mobile',\n",
    "    'NokiaSeries60': 'mobile',\n",
    "    'Other': 'other',\n",
    "    'Other/Unknown': 'Other/Unknown',\n",
    "    'PS4': 'desktop',\n",
    "    'PSP': 'desktop',\n",
    "    'Palm OS': 'mobile',\n",
    "    'Palm webOS': 'mobile',\n",
    "    'PalmWebOS': 'mobile',\n",
    "    'Playstation3': 'desktop',\n",
    "    'Playstation4': 'desktop',\n",
    "    'Roku': 'desktop',\n",
    "    'Samsung Bada': 'mobile',\n",
    "    'Unix': 'desktop',\n",
    "    'Unix, Linux': 'desktop',\n",
    "    'Unix, unknown': 'desktop',\n",
    "    'Wii': 'desktop',\n",
    "    'Wii U': 'desktop',\n",
    "    'WiiU': 'desktop',\n",
    "    'Windows 2000': 'desktop',\n",
    "    'Windows 7': 'desktop',\n",
    "    'Windows 98': 'desktop',\n",
    "    'Windows Mobile': 'mobile',\n",
    "    'Windows NT': 'desktop',\n",
    "    'Windows Phone': 'mobile',\n",
    "    'Windows Phone 7+': 'mobile',\n",
    "    'Windows Vista': 'desktop',\n",
    "    'Windows XP': 'desktop',\n",
    "    'Windows, version unknown': 'desktop',\n",
    "    'Windows10': 'desktop',\n",
    "    'Windows8': 'desktop',\n",
    "    'WindowsPhone': 'mobile',\n",
    "    'Xbox 360': 'desktop',\n",
    "    'Xbox One': 'desktop',\n",
    "    'Xbox360': 'desktop',\n",
    "    'XboxOne': 'desktop',\n",
    "    'iOS': 'mobile'\n",
    "}\n",
    "operating_system['device'] = operating_system['operating_system'].apply(lambda x: os_to_device[x])"
   ]
  },
  {
   "cell_type": "code",
   "execution_count": 129,
   "metadata": {
    "collapsed": true
   },
   "outputs": [],
   "source": [
    "operating_system['Total Revenue'] = operating_system['Total Revenue'].astype(float).apply(lambda x: int(x*1000000000))\n",
    "\n",
    "operating_system['placement_cat'] = operating_system['Placement'].apply(extract_placement_cat)"
   ]
  },
  {
   "cell_type": "code",
   "execution_count": 132,
   "metadata": {
    "collapsed": true
   },
   "outputs": [],
   "source": [
    "for placement_cat, placement_group in operating_system.groupby('placement_cat'):\n",
    "    d = dict(placement_group.groupby('device')['Total Revenue'].sum())\n",
    "    counts_by_placement_by_view_impr[placement_cat]['device']['revenue'] = \\\n",
    "        dict(Counter(counts_by_placement_by_view_impr[placement_cat]['device']['revenue']) + Counter(d))"
   ]
  },
  {
   "cell_type": "code",
   "execution_count": 137,
   "metadata": {
    "collapsed": true
   },
   "outputs": [],
   "source": [
    "browser = pd.read_csv(\n",
    "    '/home/jubauser1/jzou/dcm_account7252/winery_weekly/dcm_reports/browser_20170602_to_2017-07-25.csv',\n",
    "    names = ['browser', 'Placement', 'Activity', 'Activity ID', 'Impressions', 'Clicks',\n",
    "       'DBM Cost (Account Currency)', 'Media Cost', 'Total Conversions',\n",
    "       'Total Revenue'])\n",
    "browser.drop(0, inplace=True)"
   ]
  },
  {
   "cell_type": "code",
   "execution_count": 140,
   "metadata": {
    "collapsed": true
   },
   "outputs": [],
   "source": [
    "browser['placement_cat'] = browser['Placement'].apply(extract_placement_cat)\n",
    "browser['Total Revenue'] = browser['Total Revenue'].astype(float).apply(lambda x: int(x*1000000000))"
   ]
  },
  {
   "cell_type": "code",
   "execution_count": 143,
   "metadata": {
    "collapsed": true
   },
   "outputs": [],
   "source": [
    "for placement_cat, placement_group in browser.groupby('placement_cat'):\n",
    "    d = dict(placement_group.groupby('browser')['Total Revenue'].sum())\n",
    "    counts_by_placement_by_view_impr[placement_cat]['Browser/Platform']['revenue'] = \\\n",
    "        dict(Counter(counts_by_placement_by_view_impr[placement_cat]['Browser/Platform']['revenue']) + Counter(d))"
   ]
  },
  {
   "cell_type": "code",
   "execution_count": 145,
   "metadata": {},
   "outputs": [
    {
     "data": {
      "text/html": [
       "<div>\n",
       "<style>\n",
       "    .dataframe thead tr:only-child th {\n",
       "        text-align: right;\n",
       "    }\n",
       "\n",
       "    .dataframe thead th {\n",
       "        text-align: left;\n",
       "    }\n",
       "\n",
       "    .dataframe tbody tr th {\n",
       "        vertical-align: top;\n",
       "    }\n",
       "</style>\n",
       "<table border=\"1\" class=\"dataframe\">\n",
       "  <thead>\n",
       "    <tr style=\"text-align: right;\">\n",
       "      <th></th>\n",
       "      <th>Placement</th>\n",
       "      <th>Activity</th>\n",
       "      <th>Activity ID</th>\n",
       "      <th>Impressions</th>\n",
       "      <th>Clicks</th>\n",
       "      <th>DBM Cost (Account Currency)</th>\n",
       "      <th>Media Cost</th>\n",
       "      <th>Total Conversions</th>\n",
       "      <th>Total Revenue</th>\n",
       "    </tr>\n",
       "  </thead>\n",
       "  <tbody>\n",
       "    <tr>\n",
       "      <th>0</th>\n",
       "      <td>ffc winery_q2-q3 diamond campaign_direct_tme o...</td>\n",
       "      <td>(not set)</td>\n",
       "      <td>(not set)</td>\n",
       "      <td>7924</td>\n",
       "      <td>9</td>\n",
       "      <td>0.0</td>\n",
       "      <td>0.0</td>\n",
       "      <td>0.0</td>\n",
       "      <td>0.0</td>\n",
       "    </tr>\n",
       "    <tr>\n",
       "      <th>1</th>\n",
       "      <td>ffc winery_q2-q3 diamond campaign_direct_tme o...</td>\n",
       "      <td>Diamond Adventure landing page</td>\n",
       "      <td>4918486</td>\n",
       "      <td>0</td>\n",
       "      <td>0</td>\n",
       "      <td>0.0</td>\n",
       "      <td>0.0</td>\n",
       "      <td>10.0</td>\n",
       "      <td>0.0</td>\n",
       "    </tr>\n",
       "    <tr>\n",
       "      <th>2</th>\n",
       "      <td>ffc winery_q2-q3 diamond campaign_direct_tme o...</td>\n",
       "      <td>FFC Home Page</td>\n",
       "      <td>6011597</td>\n",
       "      <td>0</td>\n",
       "      <td>0</td>\n",
       "      <td>0.0</td>\n",
       "      <td>0.0</td>\n",
       "      <td>4.0</td>\n",
       "      <td>0.0</td>\n",
       "    </tr>\n",
       "    <tr>\n",
       "      <th>...</th>\n",
       "      <td>...</td>\n",
       "      <td>...</td>\n",
       "      <td>...</td>\n",
       "      <td>...</td>\n",
       "      <td>...</td>\n",
       "      <td>...</td>\n",
       "      <td>...</td>\n",
       "      <td>...</td>\n",
       "      <td>...</td>\n",
       "    </tr>\n",
       "    <tr>\n",
       "      <th>1429</th>\n",
       "      <td>ffc winery_q2-q3 diamond digital_programmatic_...</td>\n",
       "      <td>Shopping Cart</td>\n",
       "      <td>4075980</td>\n",
       "      <td>0</td>\n",
       "      <td>0</td>\n",
       "      <td>0.0</td>\n",
       "      <td>0.0</td>\n",
       "      <td>16.0</td>\n",
       "      <td>0.0</td>\n",
       "    </tr>\n",
       "    <tr>\n",
       "      <th>1430</th>\n",
       "      <td>ffc winery_q2-q3 diamond digital_programmatic_...</td>\n",
       "      <td>Thank You Page</td>\n",
       "      <td>4092611</td>\n",
       "      <td>0</td>\n",
       "      <td>0</td>\n",
       "      <td>0.0</td>\n",
       "      <td>0.0</td>\n",
       "      <td>3.0</td>\n",
       "      <td>361.0</td>\n",
       "    </tr>\n",
       "    <tr>\n",
       "      <th>1431</th>\n",
       "      <td>ffc winery_q2-q3 diamond digital_programmatic_...</td>\n",
       "      <td>Visit Location</td>\n",
       "      <td>4075383</td>\n",
       "      <td>0</td>\n",
       "      <td>0</td>\n",
       "      <td>0.0</td>\n",
       "      <td>0.0</td>\n",
       "      <td>237.0</td>\n",
       "      <td>0.0</td>\n",
       "    </tr>\n",
       "  </tbody>\n",
       "</table>\n",
       "<p>1432 rows × 9 columns</p>\n",
       "</div>"
      ],
      "text/plain": [
       "                                              Placement  \\\n",
       "0     ffc winery_q2-q3 diamond campaign_direct_tme o...   \n",
       "1     ffc winery_q2-q3 diamond campaign_direct_tme o...   \n",
       "2     ffc winery_q2-q3 diamond campaign_direct_tme o...   \n",
       "...                                                 ...   \n",
       "1429  ffc winery_q2-q3 diamond digital_programmatic_...   \n",
       "1430  ffc winery_q2-q3 diamond digital_programmatic_...   \n",
       "1431  ffc winery_q2-q3 diamond digital_programmatic_...   \n",
       "\n",
       "                            Activity Activity ID  Impressions  Clicks  \\\n",
       "0                          (not set)   (not set)         7924       9   \n",
       "1     Diamond Adventure landing page     4918486            0       0   \n",
       "2                      FFC Home Page     6011597            0       0   \n",
       "...                              ...         ...          ...     ...   \n",
       "1429                   Shopping Cart     4075980            0       0   \n",
       "1430                  Thank You Page     4092611            0       0   \n",
       "1431                  Visit Location     4075383            0       0   \n",
       "\n",
       "      DBM Cost (Account Currency)  Media Cost  Total Conversions  \\\n",
       "0                             0.0         0.0                0.0   \n",
       "1                             0.0         0.0               10.0   \n",
       "2                             0.0         0.0                4.0   \n",
       "...                           ...         ...                ...   \n",
       "1429                          0.0         0.0               16.0   \n",
       "1430                          0.0         0.0                3.0   \n",
       "1431                          0.0         0.0              237.0   \n",
       "\n",
       "      Total Revenue  \n",
       "0               0.0  \n",
       "1               0.0  \n",
       "2               0.0  \n",
       "...             ...  \n",
       "1429            0.0  \n",
       "1430          361.0  \n",
       "1431            0.0  \n",
       "\n",
       "[1432 rows x 9 columns]"
      ]
     },
     "execution_count": 145,
     "metadata": {},
     "output_type": "execute_result"
    }
   ],
   "source": [
    "placement = pd.read_csv('/home/jubauser1/jzou/dcm_account7252/winery_weekly/dcm_reports/placement_20170602_to_2017-07-25.csv')\n",
    "placement"
   ]
  },
  {
   "cell_type": "code",
   "execution_count": 146,
   "metadata": {
    "collapsed": true
   },
   "outputs": [],
   "source": [
    "placement['Total Revenue'] = placement['Total Revenue'].astype(float).apply(lambda x: int(x*1000000000))\n",
    "\n",
    "placement['placement_cat'] = placement['Placement'].apply(extract_placement_cat)"
   ]
  },
  {
   "cell_type": "code",
   "execution_count": 148,
   "metadata": {
    "collapsed": true
   },
   "outputs": [],
   "source": [
    "for placement_cat, placement_group in placement.groupby('placement_cat'):\n",
    "    d = dict(placement_group.groupby('Placement')['Total Revenue'].sum())\n",
    "    counts_by_placement_by_view_impr[placement_cat]['Placement']['revenue'] = \\\n",
    "        dict(Counter(counts_by_placement_by_view_impr[placement_cat]['Placement']['revenue']) + Counter(d))"
   ]
  },
  {
   "cell_type": "code",
   "execution_count": 158,
   "metadata": {
    "collapsed": true
   },
   "outputs": [],
   "source": [
    "ad = pd.read_csv('/home/jubauser1/jzou/dcm_account7252/winery_weekly/dcm_reports/ad_20170602_to_2017-07-25.csv')"
   ]
  },
  {
   "cell_type": "code",
   "execution_count": 160,
   "metadata": {
    "collapsed": true
   },
   "outputs": [],
   "source": [
    "ad['Total Revenue'] = ad['Total Revenue'].astype(float).apply(lambda x: int(x*1000000000))\n",
    "\n",
    "ad['placement_cat'] = ad['Placement'].apply(extract_placement_cat)"
   ]
  },
  {
   "cell_type": "code",
   "execution_count": 161,
   "metadata": {
    "collapsed": true
   },
   "outputs": [],
   "source": [
    "for placement_cat, placement_group in ad.groupby('placement_cat'):\n",
    "    d = dict(placement_group.groupby('Ad')['Total Revenue'].sum())\n",
    "    counts_by_placement_by_view_impr[placement_cat]['Ad']['revenue'] = \\\n",
    "        dict(Counter(counts_by_placement_by_view_impr[placement_cat]['Ad']['revenue']) + Counter(d))"
   ]
  },
  {
   "cell_type": "code",
   "execution_count": 151,
   "metadata": {
    "collapsed": true
   },
   "outputs": [],
   "source": [
    "url = pd.read_csv('/home/jubauser1/jzou/dcm_account7252/winery_weekly/dcm_reports/clickThroughUrl_20170602_to_2017-07-25.csv')"
   ]
  },
  {
   "cell_type": "code",
   "execution_count": 162,
   "metadata": {
    "collapsed": true
   },
   "outputs": [],
   "source": [
    "url['Total Revenue'] = url['Total Revenue'].astype(float).apply(lambda x: int(x*1000000000))\n",
    "\n",
    "url['placement_cat'] = url['Placement'].apply(extract_placement_cat)"
   ]
  },
  {
   "cell_type": "code",
   "execution_count": 163,
   "metadata": {
    "collapsed": true
   },
   "outputs": [],
   "source": [
    "for placement_cat, placement_group in url.groupby('placement_cat'):\n",
    "    d = dict(placement_group.groupby('Click-through URL')['Total Revenue'].sum())\n",
    "    counts_by_placement_by_view_impr[placement_cat]['Ad Click URL']['revenue'] = \\\n",
    "        dict(Counter(counts_by_placement_by_view_impr[placement_cat]['Ad Click URL']['revenue']) + Counter(d))"
   ]
  },
  {
   "cell_type": "code",
   "execution_count": 165,
   "metadata": {
    "collapsed": true
   },
   "outputs": [],
   "source": [
    "creative = pd.read_csv('/home/jubauser1/jzou/dcm_account7252/winery_weekly/dcm_reports/creative_20170602_to_2017-07-25.csv')"
   ]
  },
  {
   "cell_type": "code",
   "execution_count": 167,
   "metadata": {
    "collapsed": true
   },
   "outputs": [],
   "source": [
    "creative['Total Revenue'] = creative['Total Revenue'].astype(float).apply(lambda x: int(x*1000000000))\n",
    "\n",
    "creative['placement_cat'] = creative['Placement'].apply(extract_placement_cat)"
   ]
  },
  {
   "cell_type": "code",
   "execution_count": 168,
   "metadata": {
    "collapsed": true
   },
   "outputs": [],
   "source": [
    "for placement_cat, placement_group in creative.groupby('placement_cat'):\n",
    "    d = dict(placement_group.groupby('Creative')['Total Revenue'].sum())\n",
    "    counts_by_placement_by_view_impr[placement_cat]['Creative']['revenue'] = \\\n",
    "        dict(Counter(counts_by_placement_by_view_impr[placement_cat]['Creative']['revenue']) + Counter(d))"
   ]
  },
  {
   "cell_type": "code",
   "execution_count": 169,
   "metadata": {
    "collapsed": true
   },
   "outputs": [],
   "source": [
    "creative_size = pd.read_csv('/home/jubauser1/jzou/dcm_account7252/winery_weekly/dcm_reports/creative_size_20170602_to_2017-07-25.csv')"
   ]
  },
  {
   "cell_type": "code",
   "execution_count": 171,
   "metadata": {
    "collapsed": true
   },
   "outputs": [],
   "source": [
    "creative_size['Total Revenue'] = creative_size['Total Revenue'].astype(float).apply(lambda x: int(x*1000000000))\n",
    "\n",
    "creative_size['placement_cat'] = creative_size['Placement'].apply(extract_placement_cat)"
   ]
  },
  {
   "cell_type": "code",
   "execution_count": 172,
   "metadata": {
    "collapsed": true
   },
   "outputs": [],
   "source": [
    "for placement_cat, placement_group in creative_size.groupby('placement_cat'):\n",
    "    d = dict(placement_group.groupby('Creative Pixel Size')['Total Revenue'].sum())\n",
    "    counts_by_placement_by_view_impr[placement_cat]['Creative Pixel Size']['revenue'] = \\\n",
    "        dict(Counter(counts_by_placement_by_view_impr[placement_cat]['Creative Pixel Size']['revenue']) + Counter(d))"
   ]
  },
  {
   "cell_type": "code",
   "execution_count": 195,
   "metadata": {
    "collapsed": true
   },
   "outputs": [],
   "source": [
    "json.dump(counts_by_placement_by_view_impr, \n",
    "          open('/home/jubauser1/jzou/dcm_account7252/winery_weekly/json/counts_by_placement_by_view_winery_impr_est_revenue.json', 'w'),\n",
    "         cls=MyEncoder)"
   ]
  },
  {
   "cell_type": "code",
   "execution_count": 183,
   "metadata": {},
   "outputs": [
    {
     "data": {
      "text/plain": [
       "'13069488'"
      ]
     },
     "execution_count": 183,
     "metadata": {},
     "output_type": "execute_result"
    }
   ],
   "source": [
    "str(int(float('13069488.0')))"
   ]
  },
  {
   "cell_type": "code",
   "execution_count": 205,
   "metadata": {
    "collapsed": true
   },
   "outputs": [],
   "source": [
    "for placement_cat in ['direct', 'geo-fence', 'prospecting', 'retargeting']:\n",
    "    for col in ['HVA', 'Transaction', 'hva_All Products', 'hva_Checkout', 'hva_Diamond - Cabernet Sauvignon page', 'hva_Diamond - Chardonnay page', 'hva_Diamond - Claret page', 'hva_Diamond - Diamond Red Blend page', 'hva_Diamond - Malbec page', 'hva_Diamond - Merlot page', 'hva_Diamond - Pavilion page', 'hva_Diamond - Pinot Grigio page', 'hva_Diamond - Pinot Noir page', 'hva_Diamond - Sauvignon Blanc page', 'hva_Diamond - Syrah Shiraz page', 'hva_Diamond - Zinfandel page', 'hva_Diamond Adventure landing page', 'hva_Diamond Quiz', 'hva_FFC Home Page', 'hva_Membership', 'hva_Membership-Join now', 'hva_Our Wines Diamond Collection', 'hva_Shop - Diamond Collection Wines', 'hva_Shop Now', 'hva_Shop online - Wine', 'hva_Shopping Cart', 'hva_Store Locator', 'hva_Visit Location']:\n",
    "        ks = list(counts_by_placement_by_view_act[placement_cat]['DBM Site ID'][col].keys())\n",
    "        for k in ks:\n",
    "            counts_by_placement_by_view_act[placement_cat]['DBM Site ID'][col][str(int(float(k)))] = \\\n",
    "                counts_by_placement_by_view_act[placement_cat]['DBM Site ID'][col].pop(k)"
   ]
  },
  {
   "cell_type": "code",
   "execution_count": 198,
   "metadata": {
    "collapsed": true
   },
   "outputs": [],
   "source": [
    "json.dump(counts_by_placement_by_view_click,\n",
    "          open('/home/jubauser1/jzou/dcm_account7252/winery_weekly/json/counts_by_placement_by_view_winery_click.json', 'w'))"
   ]
  },
  {
   "cell_type": "code",
   "execution_count": 206,
   "metadata": {
    "collapsed": true
   },
   "outputs": [],
   "source": [
    "json.dump(counts_by_placement_by_view_act,\n",
    "         open('/home/jubauser1/jzou/dcm_account7252/winery_weekly/json/counts_by_placement_by_view_winery_activity.json', 'w'))"
   ]
  },
  {
   "cell_type": "code",
   "execution_count": 191,
   "metadata": {},
   "outputs": [
    {
     "data": {
      "text/plain": [
       "dict_keys(['date', 'hour', 'weekday', 'state_city', 'Designated Market Area (DMA)', 'device', 'Browser/Platform', 'Placement', 'Ad', 'Ad Click URL', 'Creative', 'Creative Pixel Size', 'DBM Line Item ID', 'DBM Site ID'])"
      ]
     },
     "execution_count": 191,
     "metadata": {},
     "output_type": "execute_result"
    }
   ],
   "source": [
    "counts_by_placement_by_view_impr[placement_cat].keys()"
   ]
  },
  {
   "cell_type": "code",
   "execution_count": null,
   "metadata": {
    "collapsed": true
   },
   "outputs": [],
   "source": []
  }
 ],
 "metadata": {
  "kernelspec": {
   "display_name": "Python 3",
   "language": "python",
   "name": "python3"
  },
  "language_info": {
   "codemirror_mode": {
    "name": "ipython",
    "version": 3
   },
   "file_extension": ".py",
   "mimetype": "text/x-python",
   "name": "python",
   "nbconvert_exporter": "python",
   "pygments_lexer": "ipython3",
   "version": "3.6.1"
  }
 },
 "nbformat": 4,
 "nbformat_minor": 2
}
