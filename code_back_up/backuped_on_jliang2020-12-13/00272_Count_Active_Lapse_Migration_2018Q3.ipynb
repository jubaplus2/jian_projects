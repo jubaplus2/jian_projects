{
 "cells": [
  {
   "cell_type": "code",
   "execution_count": 1,
   "metadata": {},
   "outputs": [
    {
     "data": {
      "text/plain": [
       "'/home/jian/Projects/Big_Lots/Analysis/2019_Q4/Migration_JL_status_change'"
      ]
     },
     "execution_count": 1,
     "metadata": {},
     "output_type": "execute_result"
    }
   ],
   "source": [
    "import pandas as pd\n",
    "import os\n",
    "import datetime\n",
    "import numpy as np\n",
    "import gc\n",
    "\n",
    "os.getcwd()\n",
    "\n",
    "# To check about the 2019 weekly file path df week filter for the rolling later"
   ]
  },
  {
   "cell_type": "code",
   "execution_count": 2,
   "metadata": {},
   "outputs": [
    {
     "name": "stdout",
     "output_type": "stream",
     "text": [
      "prior_quarter_End 2018-08-04\n",
      "recent_complete_quarter_End 2018-11-03\n",
      "lapsed_date_begin 2014-07-29\n"
     ]
    }
   ],
   "source": [
    "prior_quarter_End=datetime.date(2018,8,4)\n",
    "recent_complete_quarter_End=prior_quarter_End+datetime.timedelta(days=7*13)\n",
    "\n",
    "print(\"prior_quarter_End\",prior_quarter_End)\n",
    "print(\"recent_complete_quarter_End\",recent_complete_quarter_End)\n",
    "\n",
    "lapsed_date_begin=prior_quarter_End-datetime.timedelta(days=(4*365+1+6))\n",
    "print(\"lapsed_date_begin\",lapsed_date_begin)\n"
   ]
  },
  {
   "cell_type": "code",
   "execution_count": 3,
   "metadata": {},
   "outputs": [
    {
     "name": "stdout",
     "output_type": "stream",
     "text": [
      "2014-08-26\n",
      "2017-02-26\n"
     ]
    }
   ],
   "source": [
    "lapsed=pd.read_table(\"/home/jian/Projects/Big_Lots/Loyal_members/loyalty_sales_data/lapsed20140826_20170226/MediaStormLapsedCustDtl.txt\",\n",
    "                     sep=\",\",usecols=['customer_id_hashed','transaction_date'],dtype=str).drop_duplicates()\n",
    "lapsed=lapsed[lapsed['transaction_date']>=str(lapsed_date_begin)]\n",
    "lapsed=lapsed[lapsed['transaction_date']<=str(prior_quarter_End)]\n",
    "    \n",
    "print(lapsed['transaction_date'].min())\n",
    "print(lapsed['transaction_date'].max())"
   ]
  },
  {
   "cell_type": "code",
   "execution_count": 4,
   "metadata": {},
   "outputs": [
    {
     "name": "stdout",
     "output_type": "stream",
     "text": [
      "1 2019-11-09 13:23:43.509708\n",
      "2 2019-11-09 13:25:31.077879\n",
      "3 2019-11-09 13:27:10.796190\n",
      "4 2019-11-09 13:29:13.376862\n",
      "5 2019-11-09 13:31:14.990083\n",
      "6 2019-11-09 13:33:35.058814\n",
      "7 2019-11-09 13:35:37.031706\n",
      "8 2019-11-09 13:37:55.543631\n",
      "9 2019-11-09 13:40:27.209853\n",
      "10 2019-11-09 13:42:55.456513\n",
      "11 2019-11-09 13:45:43.224757\n",
      "12 2019-11-09 13:48:21.183792\n",
      "13 2019-11-09 13:51:14.527464\n",
      "14 2019-11-09 13:54:36.404786\n",
      "15 2019-11-09 13:58:21.194082\n"
     ]
    }
   ],
   "source": [
    "# change to the weekly based on the celery weekly run\n",
    "\n",
    "chunksize_num = 10**7\n",
    "filename='/home/jian/Projects/Big_Lots/Live_Ramp/Quarterly_Update_2019Q1/crm_newscore_0922/combinedtransactions_0922.csv'\n",
    "dftrans_before_20180922=pd.DataFrame()\n",
    "count_i=0\n",
    "\n",
    "for chunk in pd.read_csv(filename, chunksize=chunksize_num,dtype=str,usecols=['customer_id_hashed','transaction_date']):\n",
    "    chunk = chunk.drop_duplicates()\n",
    "    chunk=chunk[chunk['transaction_date']>=str(lapsed_date_begin)]\n",
    "    chunk=chunk[chunk['transaction_date']<=str(prior_quarter_End)]\n",
    "    \n",
    "    dftrans_before_20180922=dftrans_before_20180922.append(chunk)\n",
    "    count_i+=1\n",
    "    print(count_i,datetime.datetime.now())\n",
    "dftrans_before_20180922=dftrans_before_20180922.drop_duplicates()    "
   ]
  },
  {
   "cell_type": "code",
   "execution_count": 5,
   "metadata": {},
   "outputs": [
    {
     "name": "stdout",
     "output_type": "stream",
     "text": [
      "(22431677, 2)\n"
     ]
    },
    {
     "data": {
      "text/plain": [
       "0"
      ]
     },
     "execution_count": 5,
     "metadata": {},
     "output_type": "execute_result"
    }
   ],
   "source": [
    "all_rewards_most_recent=dftrans_before_20180922.append(lapsed)\n",
    "all_rewards_most_recent=all_rewards_most_recent.sort_values([\"customer_id_hashed\",\"transaction_date\"],ascending=[True,False])\n",
    "all_rewards_most_recent=all_rewards_most_recent.drop_duplicates(['customer_id_hashed'])\n",
    "print(all_rewards_most_recent.shape)\n",
    "\n",
    "del chunk\n",
    "del dftrans_before_20180922\n",
    "gc.collect()"
   ]
  },
  {
   "cell_type": "code",
   "execution_count": 6,
   "metadata": {
    "collapsed": true
   },
   "outputs": [],
   "source": [
    "def recursive_file_gen(root_path):\n",
    "    for root, dirs, files in os.walk(root_path):\n",
    "        for file in files:\n",
    "            yield os.path.join(root,file)"
   ]
  },
  {
   "cell_type": "code",
   "execution_count": 7,
   "metadata": {},
   "outputs": [
    {
     "name": "stdout",
     "output_type": "stream",
     "text": [
      "all_rewards_most_recent['transaction_date'].max() 2018-08-04\n",
      "all_rewards_most_recent['transaction_date'].min() 2014-08-26\n"
     ]
    }
   ],
   "source": [
    "print(\"all_rewards_most_recent['transaction_date'].max()\",all_rewards_most_recent['transaction_date'].max())\n",
    "\n",
    "print(\"all_rewards_most_recent['transaction_date'].min()\",all_rewards_most_recent['transaction_date'].min())\n"
   ]
  },
  {
   "cell_type": "code",
   "execution_count": 8,
   "metadata": {},
   "outputs": [
    {
     "name": "stdout",
     "output_type": "stream",
     "text": [
      "(13, 2)\n",
      "historical_daily_df['week_end_dt'].max():  2018-11-03\n",
      "historical_daily_df['week_end_dt'].min():  2018-08-11\n"
     ]
    }
   ],
   "source": [
    "# Historical    \n",
    "historical_daily_data_folder=\"/home/jian/BigLots/hist_daily_data_itemlevel_decompressed/\"\n",
    "historical_daily_data_list=list(recursive_file_gen(historical_daily_data_folder))\n",
    "historical_daily_data_list=[x for x in historical_daily_data_list if (\".txt\" in x) & (\"DailySales\" in x)]\n",
    "historical_daily_df=pd.DataFrame({\"file_path\":historical_daily_data_list})\n",
    "historical_daily_df['week_end_dt']=historical_daily_df['file_path'].apply(lambda x: x.split(\".\")[0].split(\"MediaStormDailySalesHistory\")[1])\n",
    "historical_daily_df['week_end_dt']=historical_daily_df['week_end_dt'].apply(lambda x: datetime.datetime.strptime(x,\"%Y%m%d\").date())\n",
    "historical_daily_df=historical_daily_df[historical_daily_df['week_end_dt']<=datetime.date(2018,11,3)] # hard-code due to the 1st week of daily in item available\n",
    "historical_daily_df=historical_daily_df[historical_daily_df['week_end_dt']>=datetime.date(2018,8,5)] # hard-code\n",
    "historical_daily_df=historical_daily_df.sort_values(\"week_end_dt\")\n",
    "print(historical_daily_df.shape)\n",
    "historical_daily_df.tail(3)\n",
    "\n",
    "print(\"historical_daily_df['week_end_dt'].max(): \", historical_daily_df['week_end_dt'].max())\n",
    "print(\"historical_daily_df['week_end_dt'].min(): \", historical_daily_df['week_end_dt'].min())"
   ]
  },
  {
   "cell_type": "code",
   "execution_count": 9,
   "metadata": {},
   "outputs": [
    {
     "data": {
      "text/plain": [
       "datetime.date(2018, 8, 4)"
      ]
     },
     "execution_count": 9,
     "metadata": {},
     "output_type": "execute_result"
    }
   ],
   "source": [
    "prior_quarter_End"
   ]
  },
  {
   "cell_type": "code",
   "execution_count": 10,
   "metadata": {},
   "outputs": [
    {
     "data": {
      "text/plain": [
       "datetime.date(2018, 11, 3)"
      ]
     },
     "execution_count": 10,
     "metadata": {},
     "output_type": "execute_result"
    }
   ],
   "source": [
    "recent_complete_quarter_End"
   ]
  },
  {
   "cell_type": "code",
   "execution_count": 11,
   "metadata": {},
   "outputs": [
    {
     "name": "stdout",
     "output_type": "stream",
     "text": [
      "(13, 2)\n"
     ]
    },
    {
     "data": {
      "text/html": [
       "<div>\n",
       "<style scoped>\n",
       "    .dataframe tbody tr th:only-of-type {\n",
       "        vertical-align: middle;\n",
       "    }\n",
       "\n",
       "    .dataframe tbody tr th {\n",
       "        vertical-align: top;\n",
       "    }\n",
       "\n",
       "    .dataframe thead th {\n",
       "        text-align: right;\n",
       "    }\n",
       "</style>\n",
       "<table border=\"1\" class=\"dataframe\">\n",
       "  <thead>\n",
       "    <tr style=\"text-align: right;\">\n",
       "      <th></th>\n",
       "      <th>file_path</th>\n",
       "      <th>week_end_dt</th>\n",
       "    </tr>\n",
       "  </thead>\n",
       "  <tbody>\n",
       "    <tr>\n",
       "      <th>0</th>\n",
       "      <td>/home/jian/BigLots/hist_daily_data_itemlevel_d...</td>\n",
       "      <td>2018-08-11</td>\n",
       "    </tr>\n",
       "    <tr>\n",
       "      <th>1</th>\n",
       "      <td>/home/jian/BigLots/hist_daily_data_itemlevel_d...</td>\n",
       "      <td>2018-08-18</td>\n",
       "    </tr>\n",
       "    <tr>\n",
       "      <th>2</th>\n",
       "      <td>/home/jian/BigLots/hist_daily_data_itemlevel_d...</td>\n",
       "      <td>2018-08-25</td>\n",
       "    </tr>\n",
       "    <tr>\n",
       "      <th>3</th>\n",
       "      <td>/home/jian/BigLots/hist_daily_data_itemlevel_d...</td>\n",
       "      <td>2018-09-01</td>\n",
       "    </tr>\n",
       "    <tr>\n",
       "      <th>4</th>\n",
       "      <td>/home/jian/BigLots/hist_daily_data_itemlevel_d...</td>\n",
       "      <td>2018-09-08</td>\n",
       "    </tr>\n",
       "    <tr>\n",
       "      <th>5</th>\n",
       "      <td>/home/jian/BigLots/hist_daily_data_itemlevel_d...</td>\n",
       "      <td>2018-09-15</td>\n",
       "    </tr>\n",
       "    <tr>\n",
       "      <th>6</th>\n",
       "      <td>/home/jian/BigLots/hist_daily_data_itemlevel_d...</td>\n",
       "      <td>2018-09-22</td>\n",
       "    </tr>\n",
       "    <tr>\n",
       "      <th>7</th>\n",
       "      <td>/home/jian/BigLots/hist_daily_data_itemlevel_d...</td>\n",
       "      <td>2018-09-29</td>\n",
       "    </tr>\n",
       "    <tr>\n",
       "      <th>8</th>\n",
       "      <td>/home/jian/BigLots/hist_daily_data_itemlevel_d...</td>\n",
       "      <td>2018-10-06</td>\n",
       "    </tr>\n",
       "    <tr>\n",
       "      <th>9</th>\n",
       "      <td>/home/jian/BigLots/hist_daily_data_itemlevel_d...</td>\n",
       "      <td>2018-10-13</td>\n",
       "    </tr>\n",
       "    <tr>\n",
       "      <th>10</th>\n",
       "      <td>/home/jian/BigLots/hist_daily_data_itemlevel_d...</td>\n",
       "      <td>2018-10-20</td>\n",
       "    </tr>\n",
       "    <tr>\n",
       "      <th>11</th>\n",
       "      <td>/home/jian/BigLots/hist_daily_data_itemlevel_d...</td>\n",
       "      <td>2018-10-27</td>\n",
       "    </tr>\n",
       "    <tr>\n",
       "      <th>12</th>\n",
       "      <td>/home/jian/BigLots/hist_daily_data_itemlevel_d...</td>\n",
       "      <td>2018-11-03</td>\n",
       "    </tr>\n",
       "  </tbody>\n",
       "</table>\n",
       "</div>"
      ],
      "text/plain": [
       "                                            file_path week_end_dt\n",
       "0   /home/jian/BigLots/hist_daily_data_itemlevel_d...  2018-08-11\n",
       "1   /home/jian/BigLots/hist_daily_data_itemlevel_d...  2018-08-18\n",
       "2   /home/jian/BigLots/hist_daily_data_itemlevel_d...  2018-08-25\n",
       "3   /home/jian/BigLots/hist_daily_data_itemlevel_d...  2018-09-01\n",
       "4   /home/jian/BigLots/hist_daily_data_itemlevel_d...  2018-09-08\n",
       "5   /home/jian/BigLots/hist_daily_data_itemlevel_d...  2018-09-15\n",
       "6   /home/jian/BigLots/hist_daily_data_itemlevel_d...  2018-09-22\n",
       "7   /home/jian/BigLots/hist_daily_data_itemlevel_d...  2018-09-29\n",
       "8   /home/jian/BigLots/hist_daily_data_itemlevel_d...  2018-10-06\n",
       "9   /home/jian/BigLots/hist_daily_data_itemlevel_d...  2018-10-13\n",
       "10  /home/jian/BigLots/hist_daily_data_itemlevel_d...  2018-10-20\n",
       "11  /home/jian/BigLots/hist_daily_data_itemlevel_d...  2018-10-27\n",
       "12  /home/jian/BigLots/hist_daily_data_itemlevel_d...  2018-11-03"
      ]
     },
     "execution_count": 11,
     "metadata": {},
     "output_type": "execute_result"
    }
   ],
   "source": [
    "print(historical_daily_df.shape)\n",
    "historical_daily_df.sort_values(\"week_end_dt\")"
   ]
  },
  {
   "cell_type": "code",
   "execution_count": 12,
   "metadata": {},
   "outputs": [
    {
     "name": "stdout",
     "output_type": "stream",
     "text": [
      "/home/jian/BigLots/hist_daily_data_itemlevel_decompressed/MediaStormDailySalesHistory20180811.txt 2019-11-09 14:34:45.904731\n",
      "/home/jian/BigLots/hist_daily_data_itemlevel_decompressed/MediaStormDailySalesHistory20180818.txt 2019-11-09 14:35:05.419324\n",
      "/home/jian/BigLots/hist_daily_data_itemlevel_decompressed/MediaStormDailySalesHistory20180825.txt 2019-11-09 14:35:26.450817\n",
      "/home/jian/BigLots/hist_daily_data_itemlevel_decompressed/MediaStormDailySalesHistory20180901.txt 2019-11-09 14:35:47.097390\n",
      "/home/jian/BigLots/hist_daily_data_itemlevel_decompressed/MediaStormDailySalesHistory20180908.txt 2019-11-09 14:36:08.505018\n",
      "/home/jian/BigLots/hist_daily_data_itemlevel_decompressed/MediaStormDailySalesHistory20180915.txt 2019-11-09 14:36:28.928061\n",
      "/home/jian/BigLots/hist_daily_data_itemlevel_decompressed/MediaStormDailySalesHistory20180922.txt 2019-11-09 14:36:47.836099\n",
      "/home/jian/BigLots/hist_daily_data_itemlevel_decompressed/MediaStormDailySalesHistory20180929.txt 2019-11-09 14:37:14.739360\n",
      "/home/jian/BigLots/hist_daily_data_itemlevel_decompressed/MediaStormDailySalesHistory20181006.txt 2019-11-09 14:37:43.020124\n",
      "/home/jian/BigLots/hist_daily_data_itemlevel_decompressed/MediaStormDailySalesHistory20181013.txt 2019-11-09 14:38:03.546626\n",
      "/home/jian/BigLots/hist_daily_data_itemlevel_decompressed/MediaStormDailySalesHistory20181020.txt 2019-11-09 14:38:24.767125\n",
      "/home/jian/BigLots/hist_daily_data_itemlevel_decompressed/MediaStormDailySalesHistory20181027.txt 2019-11-09 14:38:47.445598\n",
      "/home/jian/BigLots/hist_daily_data_itemlevel_decompressed/MediaStormDailySalesHistory20181103.txt 2019-11-09 14:39:30.323651\n"
     ]
    }
   ],
   "source": [
    "rew_df_after_recent_quarter_only=pd.DataFrame()\n",
    "\n",
    "for file in historical_daily_df['file_path'].tolist():\n",
    "    df=pd.read_table(file,sep=\"|\",dtype=str,usecols=[\"customer_id_hashed\",\"transaction_dt\"]).drop_duplicates().rename(columns={\"transaction_dt\":\"transaction_date\"})\n",
    "    df=df[~pd.isnull(df['customer_id_hashed'])]\n",
    "    rew_df_after_recent_quarter_only=rew_df_after_recent_quarter_only.append(df)\n",
    "    print(file,datetime.datetime.now())\n"
   ]
  },
  {
   "cell_type": "code",
   "execution_count": 13,
   "metadata": {},
   "outputs": [
    {
     "name": "stdout",
     "output_type": "stream",
     "text": [
      "2019-11-09 14:39:30.331295\n"
     ]
    }
   ],
   "source": [
    "print(datetime.datetime.now())"
   ]
  },
  {
   "cell_type": "code",
   "execution_count": 14,
   "metadata": {},
   "outputs": [
    {
     "name": "stderr",
     "output_type": "stream",
     "text": [
      "/home/jian/.local/lib/python3.6/site-packages/pandas/core/frame.py:7138: FutureWarning: Sorting because non-concatenation axis is not aligned. A future version\n",
      "of pandas will change to not sort by default.\n",
      "\n",
      "To accept the future behavior, pass 'sort=False'.\n",
      "\n",
      "To retain the current behavior and silence the warning, pass 'sort=True'.\n",
      "\n",
      "  sort=sort,\n"
     ]
    },
    {
     "data": {
      "text/plain": [
       "0"
      ]
     },
     "execution_count": 14,
     "metadata": {},
     "output_type": "execute_result"
    }
   ],
   "source": [
    "# all_rewards_most_recent=all_rewards_most_recent.append(rew_df_after_20180929_before_quarter)\n",
    "all_rewards_most_recent=all_rewards_most_recent.sort_values([\"customer_id_hashed\",\"transaction_date\"],ascending=[True,False])\n",
    "all_rewards_most_recent=all_rewards_most_recent.drop_duplicates(['customer_id_hashed'])\n",
    "all_rewards_most_recent['transaction_date_before_the_Quarter']=all_rewards_most_recent['transaction_date']\n",
    "\n",
    "all_rewards_most_recent_After=all_rewards_most_recent[['customer_id_hashed','transaction_date']].append(rew_df_after_recent_quarter_only)\n",
    "all_rewards_most_recent_After=all_rewards_most_recent_After.sort_values([\"customer_id_hashed\",\"transaction_date\"],ascending=[True,False])\n",
    "all_rewards_most_recent_After=all_rewards_most_recent_After.drop_duplicates(['customer_id_hashed']).rename(columns={\"transaction_date\":\"transaction_date_after_the_Quarter\"})\n",
    "\n",
    "all_rewards_most_recent=pd.merge(all_rewards_most_recent,all_rewards_most_recent_After,on=\"customer_id_hashed\",how=\"outer\")\n",
    "del all_rewards_most_recent_After\n",
    "\n",
    "gc.collect()"
   ]
  },
  {
   "cell_type": "code",
   "execution_count": 15,
   "metadata": {
    "collapsed": true
   },
   "outputs": [],
   "source": [
    "all_rewards_most_recent['transaction_date_before_the_Quarter']=all_rewards_most_recent['transaction_date_before_the_Quarter'].fillna(\"2099-12-31\")\n",
    "all_rewards_most_recent['transaction_date_before_the_Quarter']=all_rewards_most_recent['transaction_date_before_the_Quarter'].astype(str)\n",
    "\n",
    "# Change here to use unique dates and merge\n",
    "all_rewards_most_recent_date=all_rewards_most_recent[['transaction_date_before_the_Quarter']].drop_duplicates()\n",
    "all_rewards_most_recent_date['date']=pd.to_datetime(all_rewards_most_recent_date['transaction_date_before_the_Quarter'],format=\"%Y-%m-%d\").dt.date\n",
    "all_rewards_most_recent_date['Days_to_pre_Quarter_End']=prior_quarter_End-all_rewards_most_recent_date['date']\n",
    "all_rewards_most_recent_date['Month_to_pre_Quarter_End']=all_rewards_most_recent_date['Days_to_pre_Quarter_End'].apply(lambda x: x.days/(365.25/12))\n",
    "all_rewards_most_recent_date['Group_before_the_Quarter']=np.where((all_rewards_most_recent_date['Month_to_pre_Quarter_End']>12) & (all_rewards_most_recent_date['Month_to_pre_Quarter_End']<=48),\"Lapsed_13_48\",\n",
    "                                                       np.where(all_rewards_most_recent_date['Month_to_pre_Quarter_End']>48,\"WD_48+\",\n",
    "                                                                np.where((all_rewards_most_recent_date['Month_to_pre_Quarter_End']>=0) & (all_rewards_most_recent_date['Month_to_pre_Quarter_End']<=12),\"Active\",\n",
    "                                                                        np.where(all_rewards_most_recent_date['Month_to_pre_Quarter_End']<0,\"NotAvailable_Before_Quarter\",\"NaN\")\n",
    "                                                                        )\n",
    "                                                               )\n",
    "                                                       )\n",
    "all_rewards_most_recent_date=all_rewards_most_recent_date[['transaction_date_before_the_Quarter','Group_before_the_Quarter']]\n",
    "all_rewards_most_recent=pd.merge(all_rewards_most_recent,all_rewards_most_recent_date,on=\"transaction_date_before_the_Quarter\",how=\"left\")"
   ]
  },
  {
   "cell_type": "code",
   "execution_count": 16,
   "metadata": {},
   "outputs": [
    {
     "data": {
      "text/plain": [
       "datetime.date(2018, 11, 3)"
      ]
     },
     "execution_count": 16,
     "metadata": {},
     "output_type": "execute_result"
    }
   ],
   "source": [
    "recent_complete_quarter_End"
   ]
  },
  {
   "cell_type": "code",
   "execution_count": 17,
   "metadata": {
    "collapsed": true
   },
   "outputs": [],
   "source": [
    "all_rewards_most_recent['transaction_date_after_the_Quarter']=all_rewards_most_recent['transaction_date_after_the_Quarter'].fillna(\"2099-12-31\")\n",
    "all_rewards_most_recent['transaction_date_after_the_Quarter']=all_rewards_most_recent['transaction_date_after_the_Quarter'].astype(str)\n",
    "\n",
    "all_rewards_most_recent_date=all_rewards_most_recent[['transaction_date_after_the_Quarter']].drop_duplicates()\n",
    "all_rewards_most_recent_date['date']=pd.to_datetime(all_rewards_most_recent_date['transaction_date_after_the_Quarter'],format=\"%Y-%m-%d\").dt.date\n",
    "all_rewards_most_recent_date['Days_to_recentt_Quarter_End']=recent_complete_quarter_End-all_rewards_most_recent_date['date']\n",
    "all_rewards_most_recent_date['Month_to_recent_Quarter_End']=all_rewards_most_recent_date['Days_to_recentt_Quarter_End'].apply(lambda x: x.days/(365.25/12))\n",
    "all_rewards_most_recent_date['Group_after_the_Quarter']=np.where((all_rewards_most_recent_date['Month_to_recent_Quarter_End']>12) & (all_rewards_most_recent_date['Month_to_recent_Quarter_End']<=48),\"Lapsed_13_48\",\n",
    "                                                       np.where(all_rewards_most_recent_date['Month_to_recent_Quarter_End']>48,\"WD_48+\",\n",
    "                                                                np.where((all_rewards_most_recent_date['Month_to_recent_Quarter_End']>=0) & (all_rewards_most_recent_date['Month_to_recent_Quarter_End']<=12),\"Active\",\n",
    "                                                                        np.where(all_rewards_most_recent_date['Month_to_recent_Quarter_End']<0,\"NotAvailable_Before_Q4\",\"NaN\")\n",
    "                                                                        )\n",
    "                                                               )\n",
    "                                                       )\n",
    "\n",
    "all_rewards_most_recent_date=all_rewards_most_recent_date[['transaction_date_after_the_Quarter','Group_after_the_Quarter']]\n",
    "all_rewards_most_recent=pd.merge(all_rewards_most_recent,all_rewards_most_recent_date,on=\"transaction_date_after_the_Quarter\",how=\"left\")"
   ]
  },
  {
   "cell_type": "code",
   "execution_count": 18,
   "metadata": {},
   "outputs": [
    {
     "data": {
      "text/plain": [
       "['Lapsed_13_48', 'Active', 'NotAvailable_Before_Quarter']"
      ]
     },
     "execution_count": 18,
     "metadata": {},
     "output_type": "execute_result"
    }
   ],
   "source": [
    "all_rewards_most_recent['Group_before_the_Quarter'].unique().tolist()"
   ]
  },
  {
   "cell_type": "code",
   "execution_count": 19,
   "metadata": {},
   "outputs": [
    {
     "data": {
      "text/plain": [
       "['Active', 'Lapsed_13_48', 'WD_48+']"
      ]
     },
     "execution_count": 19,
     "metadata": {},
     "output_type": "execute_result"
    }
   ],
   "source": [
    "all_rewards_most_recent['Group_after_the_Quarter'].unique().tolist()"
   ]
  },
  {
   "cell_type": "code",
   "execution_count": 20,
   "metadata": {},
   "outputs": [
    {
     "data": {
      "text/plain": [
       "(15821968, 6)"
      ]
     },
     "execution_count": 20,
     "metadata": {},
     "output_type": "execute_result"
    }
   ],
   "source": [
    "all_rewards_most_recent[all_rewards_most_recent['Group_before_the_Quarter']==\"Active\"].shape"
   ]
  },
  {
   "cell_type": "code",
   "execution_count": 21,
   "metadata": {},
   "outputs": [
    {
     "name": "stdout",
     "output_type": "stream",
     "text": [
      "2019-11-09 15:04:50.860830\n"
     ]
    }
   ],
   "source": [
    "print(datetime.datetime.now())\n",
    "# stop here"
   ]
  },
  {
   "cell_type": "code",
   "execution_count": null,
   "metadata": {
    "collapsed": true
   },
   "outputs": [],
   "source": []
  },
  {
   "cell_type": "code",
   "execution_count": 22,
   "metadata": {},
   "outputs": [
    {
     "name": "stdout",
     "output_type": "stream",
     "text": [
      "(13, 2)\n",
      "/home/jian/BigLots/hist_daily_data_itemlevel_decompressed/MediaStormDailySalesHistory20180811.txt 2019-11-09 15:05:38.341976\n",
      "/home/jian/BigLots/hist_daily_data_itemlevel_decompressed/MediaStormDailySalesHistory20180818.txt 2019-11-09 15:06:28.628952\n",
      "/home/jian/BigLots/hist_daily_data_itemlevel_decompressed/MediaStormDailySalesHistory20180825.txt 2019-11-09 15:07:18.825180\n",
      "/home/jian/BigLots/hist_daily_data_itemlevel_decompressed/MediaStormDailySalesHistory20180901.txt 2019-11-09 15:08:09.945672\n",
      "/home/jian/BigLots/hist_daily_data_itemlevel_decompressed/MediaStormDailySalesHistory20180908.txt 2019-11-09 15:09:01.126377\n",
      "/home/jian/BigLots/hist_daily_data_itemlevel_decompressed/MediaStormDailySalesHistory20180915.txt 2019-11-09 15:09:49.096383\n",
      "/home/jian/BigLots/hist_daily_data_itemlevel_decompressed/MediaStormDailySalesHistory20180922.txt 2019-11-09 15:10:36.138076\n",
      "/home/jian/BigLots/hist_daily_data_itemlevel_decompressed/MediaStormDailySalesHistory20180929.txt 2019-11-09 15:11:41.324415\n",
      "/home/jian/BigLots/hist_daily_data_itemlevel_decompressed/MediaStormDailySalesHistory20181006.txt 2019-11-09 15:12:47.183720\n",
      "/home/jian/BigLots/hist_daily_data_itemlevel_decompressed/MediaStormDailySalesHistory20181013.txt 2019-11-09 15:13:36.608383\n",
      "/home/jian/BigLots/hist_daily_data_itemlevel_decompressed/MediaStormDailySalesHistory20181020.txt 2019-11-09 15:14:26.882895\n",
      "/home/jian/BigLots/hist_daily_data_itemlevel_decompressed/MediaStormDailySalesHistory20181027.txt 2019-11-09 15:15:21.678137\n",
      "/home/jian/BigLots/hist_daily_data_itemlevel_decompressed/MediaStormDailySalesHistory20181103.txt 2019-11-09 15:16:17.096427\n"
     ]
    }
   ],
   "source": [
    "RecentQuarter_sales_by_id=pd.DataFrame()\n",
    "print(historical_daily_df.shape)\n",
    "for file in historical_daily_df['file_path'].tolist():\n",
    "    df=pd.read_table(file,sep=\"|\",dtype=str,\n",
    "                     usecols=['location_id','transaction_dt','transaction_id','customer_id_hashed','item_transaction_amt'])\n",
    "    df=df[~pd.isnull(df['customer_id_hashed'])]\n",
    "    df['item_transaction_amt']=df['item_transaction_amt'].astype(float)\n",
    "    df_sales=df.groupby(['customer_id_hashed'])['item_transaction_amt'].sum().to_frame().reset_index().rename(columns={\"item_transaction_amt\":\"sales_recent_Quarter\"})\n",
    "    \n",
    "    df_trans=df[['location_id','transaction_dt','transaction_id','customer_id_hashed']].drop_duplicates()\n",
    "    df_trans=df_trans.groupby([\"customer_id_hashed\"])['transaction_id'].count().to_frame().reset_index().rename(columns={\"transaction_id\":\"trans_recent_Quarter\"})\n",
    "    \n",
    "    df=pd.merge(df_sales,df_trans,on=\"customer_id_hashed\",how=\"outer\")\n",
    "    \n",
    "    RecentQuarter_sales_by_id=RecentQuarter_sales_by_id.append(df)\n",
    "    print(file,datetime.datetime.now())\n",
    "RecentQuarter_sales_by_id=RecentQuarter_sales_by_id.groupby(\"customer_id_hashed\")['sales_recent_Quarter','trans_recent_Quarter'].sum().reset_index()\n",
    "RecentQuarter_sales_by_id['Recent_Quarter_Shopping_Group']=\"Recent_Quarter_Shopped\""
   ]
  },
  {
   "cell_type": "code",
   "execution_count": 23,
   "metadata": {},
   "outputs": [
    {
     "data": {
      "text/plain": [
       "(23862131, 9)"
      ]
     },
     "execution_count": 23,
     "metadata": {},
     "output_type": "execute_result"
    }
   ],
   "source": [
    "all_rewards_most_recent=pd.merge(all_rewards_most_recent,RecentQuarter_sales_by_id,on=\"customer_id_hashed\",how=\"outer\")\n",
    "all_rewards_most_recent['Group_before_the_Quarter']=all_rewards_most_recent['Group_before_the_Quarter'].fillna(\"NotAvailable_Before_Quarter\")\n",
    "all_rewards_most_recent['Group_after_the_Quarter']=all_rewards_most_recent['Group_after_the_Quarter'].fillna(\"Active\")\n",
    "\n",
    "all_rewards_most_recent.shape"
   ]
  },
  {
   "cell_type": "code",
   "execution_count": null,
   "metadata": {
    "collapsed": true
   },
   "outputs": [],
   "source": [
    "# change the 2018Q3 master"
   ]
  },
  {
   "cell_type": "code",
   "execution_count": 24,
   "metadata": {},
   "outputs": [
    {
     "name": "stdout",
     "output_type": "stream",
     "text": [
      "(7, 2)\n"
     ]
    },
    {
     "data": {
      "text/html": [
       "<div>\n",
       "<style scoped>\n",
       "    .dataframe tbody tr th:only-of-type {\n",
       "        vertical-align: middle;\n",
       "    }\n",
       "\n",
       "    .dataframe tbody tr th {\n",
       "        vertical-align: top;\n",
       "    }\n",
       "\n",
       "    .dataframe thead th {\n",
       "        text-align: right;\n",
       "    }\n",
       "</style>\n",
       "<table border=\"1\" class=\"dataframe\">\n",
       "  <thead>\n",
       "    <tr style=\"text-align: right;\">\n",
       "      <th></th>\n",
       "      <th>file_path</th>\n",
       "      <th>week_end_dt</th>\n",
       "    </tr>\n",
       "  </thead>\n",
       "  <tbody>\n",
       "    <tr>\n",
       "      <th>3</th>\n",
       "      <td>/home/jian/BigLots/2018_by_weeks/MediaStorm_20...</td>\n",
       "      <td>2018-08-11</td>\n",
       "    </tr>\n",
       "    <tr>\n",
       "      <th>4</th>\n",
       "      <td>/home/jian/BigLots/2018_by_weeks/MediaStorm_20...</td>\n",
       "      <td>2018-08-25</td>\n",
       "    </tr>\n",
       "  </tbody>\n",
       "</table>\n",
       "</div>"
      ],
      "text/plain": [
       "                                           file_path week_end_dt\n",
       "3  /home/jian/BigLots/2018_by_weeks/MediaStorm_20...  2018-08-11\n",
       "4  /home/jian/BigLots/2018_by_weeks/MediaStorm_20...  2018-08-25"
      ]
     },
     "execution_count": 24,
     "metadata": {},
     "output_type": "execute_result"
    }
   ],
   "source": [
    "Recent_Quarter_new_sign_ups_files=list(recursive_file_gen(\"/home/jian/BigLots/2018_by_weeks/\"))\n",
    "\n",
    "Recent_Quarter_new_sign_ups_files=[x for x in Recent_Quarter_new_sign_ups_files if \"Master\" in x]\n",
    "Recent_Quarter_new_sign_ups_files=[x for x in Recent_Quarter_new_sign_ups_files if \".txt\" in x]\n",
    "\n",
    "Recent_Quarter_new_sign_ups_files_df=pd.DataFrame({\"file_path\":Recent_Quarter_new_sign_ups_files})\n",
    "Recent_Quarter_new_sign_ups_files_df['week_end_dt']=Recent_Quarter_new_sign_ups_files_df['file_path'].apply(lambda x: x.split(\"/MediaStorm_\")[1][:10])\n",
    "Recent_Quarter_new_sign_ups_files_df=Recent_Quarter_new_sign_ups_files_df[Recent_Quarter_new_sign_ups_files_df['week_end_dt']<=str(recent_complete_quarter_End)]\n",
    "Recent_Quarter_new_sign_ups_files_df=Recent_Quarter_new_sign_ups_files_df[Recent_Quarter_new_sign_ups_files_df['week_end_dt']>str(prior_quarter_End)]\n",
    "print(Recent_Quarter_new_sign_ups_files_df.shape)\n",
    "Recent_Quarter_new_sign_ups_files_df.head(2)"
   ]
  },
  {
   "cell_type": "code",
   "execution_count": 26,
   "metadata": {},
   "outputs": [
    {
     "data": {
      "text/plain": [
       "'2018-08-04'"
      ]
     },
     "execution_count": 26,
     "metadata": {},
     "output_type": "execute_result"
    }
   ],
   "source": [
    "str(prior_quarter_End)"
   ]
  },
  {
   "cell_type": "code",
   "execution_count": 27,
   "metadata": {},
   "outputs": [
    {
     "name": "stdout",
     "output_type": "stream",
     "text": [
      "(995391, 2)\n"
     ]
    }
   ],
   "source": [
    "all_new_sign_ups=pd.DataFrame()\n",
    "for file in Recent_Quarter_new_sign_ups_files_df['file_path'].unique().tolist():\n",
    "    df=pd.read_table(file,sep=\"|\",usecols=['customer_id_hashed','sign_up_date'])\n",
    "    all_new_sign_ups=all_new_sign_ups.append(df)\n",
    "    \n",
    "all_new_sign_ups=all_new_sign_ups[all_new_sign_ups['sign_up_date']>str(prior_quarter_End)]\n",
    "all_new_sign_ups=all_new_sign_ups[all_new_sign_ups['sign_up_date']<=str(recent_complete_quarter_End)]\n",
    "\n",
    "all_new_sign_ups=all_new_sign_ups.sort_values(['customer_id_hashed','sign_up_date'],ascending=[True,False])\n",
    "all_new_sign_ups=all_new_sign_ups.drop_duplicates(\"customer_id_hashed\")\n",
    "print(all_new_sign_ups.shape)\n",
    "\n"
   ]
  },
  {
   "cell_type": "code",
   "execution_count": 31,
   "metadata": {},
   "outputs": [
    {
     "name": "stdout",
     "output_type": "stream",
     "text": [
      "(1472350, 2)\n"
     ]
    }
   ],
   "source": [
    "df_master_2018year=pd.read_table(\"/home/jian/BigLots/New_Sing_Ups_2018_Fiscal_Year/All Rewards Members 2018-02-04 - 2019-05-04.zip\",\n",
    "                                 compression=\"zip\",dtype=str,sep=\"|\",usecols=['customer_id_hashed','sign_up_date'])\n",
    "df_master_2018year=df_master_2018year[df_master_2018year['sign_up_date']>str(prior_quarter_End)]\n",
    "df_master_2018year=df_master_2018year[df_master_2018year['sign_up_date']<=str(recent_complete_quarter_End)]\n",
    "df_master_2018year=df_master_2018year.sort_values(['customer_id_hashed','sign_up_date'],ascending=[True,False])\n",
    "df_master_2018year=df_master_2018year.drop_duplicates(\"customer_id_hashed\")\n",
    "print(df_master_2018year.shape)"
   ]
  },
  {
   "cell_type": "code",
   "execution_count": 35,
   "metadata": {},
   "outputs": [
    {
     "name": "stdout",
     "output_type": "stream",
     "text": [
      "(1472358, 2)\n"
     ]
    }
   ],
   "source": [
    "all_new_sign_ups=all_new_sign_ups.append(df_master_2018year)\n",
    "all_new_sign_ups=all_new_sign_ups[all_new_sign_ups['sign_up_date']>str(prior_quarter_End)]\n",
    "all_new_sign_ups=all_new_sign_ups[all_new_sign_ups['sign_up_date']<=str(recent_complete_quarter_End)]\n",
    "\n",
    "all_new_sign_ups=all_new_sign_ups.sort_values(['customer_id_hashed','sign_up_date'],ascending=[True,False])\n",
    "all_new_sign_ups=all_new_sign_ups.drop_duplicates(\"customer_id_hashed\")\n",
    "print(all_new_sign_ups.shape)\n",
    "\n",
    "all_new_sign_ups['NewRewards']=\"Recent_Quarter_New_Sign_Ups\"\n"
   ]
  },
  {
   "cell_type": "code",
   "execution_count": 36,
   "metadata": {},
   "outputs": [
    {
     "data": {
      "text/plain": [
       "(24326203, 11)"
      ]
     },
     "execution_count": 36,
     "metadata": {},
     "output_type": "execute_result"
    }
   ],
   "source": [
    "all_rewards_most_recent=pd.merge(all_rewards_most_recent,all_new_sign_ups,on=\"customer_id_hashed\",how=\"outer\")\n",
    "all_rewards_most_recent['NewRewards']=all_rewards_most_recent['NewRewards'].fillna(\"Old_Rewards_Members\")\n",
    "\n",
    "all_rewards_most_recent['sales_recent_Quarter']=all_rewards_most_recent['sales_recent_Quarter'].fillna(0)\n",
    "all_rewards_most_recent['trans_recent_Quarter']=all_rewards_most_recent['trans_recent_Quarter'].fillna(0)\n",
    "\n",
    "all_rewards_most_recent['Recent_Quarter_Shopping_Group']=all_rewards_most_recent['Recent_Quarter_Shopping_Group'].fillna(\"Recent_Quarter_No_Shop\")\n",
    "\n",
    "all_rewards_most_recent.shape"
   ]
  },
  {
   "cell_type": "code",
   "execution_count": 37,
   "metadata": {
    "collapsed": true
   },
   "outputs": [],
   "source": [
    "all_rewards_most_recent['Group_before_the_Quarter']=all_rewards_most_recent['Group_before_the_Quarter'].fillna(\"nan\")\n",
    "all_rewards_most_recent['Group_after_the_Quarter']=all_rewards_most_recent['Group_after_the_Quarter'].fillna(\"nan\")\n",
    "all_rewards_most_recent['NewRewards']=all_rewards_most_recent['NewRewards'].fillna(\"nan\")\n",
    "all_rewards_most_recent['Recent_Quarter_Shopping_Group']=all_rewards_most_recent['Recent_Quarter_Shopping_Group'].fillna(\"nan\")"
   ]
  },
  {
   "cell_type": "code",
   "execution_count": 38,
   "metadata": {
    "collapsed": true
   },
   "outputs": [],
   "source": [
    "all_rewards_most_recent['sales_recent_Quarter']=all_rewards_most_recent['sales_recent_Quarter'].fillna(0)\n",
    "all_rewards_most_recent['trans_recent_Quarter']=all_rewards_most_recent['trans_recent_Quarter'].fillna(0)\n"
   ]
  },
  {
   "cell_type": "code",
   "execution_count": 39,
   "metadata": {},
   "outputs": [
    {
     "data": {
      "text/html": [
       "<div>\n",
       "<style scoped>\n",
       "    .dataframe tbody tr th:only-of-type {\n",
       "        vertical-align: middle;\n",
       "    }\n",
       "\n",
       "    .dataframe tbody tr th {\n",
       "        vertical-align: top;\n",
       "    }\n",
       "\n",
       "    .dataframe thead th {\n",
       "        text-align: right;\n",
       "    }\n",
       "</style>\n",
       "<table border=\"1\" class=\"dataframe\">\n",
       "  <thead>\n",
       "    <tr style=\"text-align: right;\">\n",
       "      <th></th>\n",
       "      <th>Group_before_the_Quarter</th>\n",
       "      <th>Group_after_the_Quarter</th>\n",
       "      <th>NewRewards</th>\n",
       "      <th>Recent_Quarter_Shopping_Group</th>\n",
       "      <th>id_count</th>\n",
       "      <th>sales_recent_Quarter</th>\n",
       "      <th>trans_recent_Quarter</th>\n",
       "    </tr>\n",
       "  </thead>\n",
       "  <tbody>\n",
       "    <tr>\n",
       "      <th>0</th>\n",
       "      <td>Active</td>\n",
       "      <td>Active</td>\n",
       "      <td>Old_Rewards_Members</td>\n",
       "      <td>Recent_Quarter_No_Shop</td>\n",
       "      <td>8623789</td>\n",
       "      <td>0.000000e+00</td>\n",
       "      <td>0.0</td>\n",
       "    </tr>\n",
       "    <tr>\n",
       "      <th>1</th>\n",
       "      <td>Active</td>\n",
       "      <td>Active</td>\n",
       "      <td>Old_Rewards_Members</td>\n",
       "      <td>Recent_Quarter_Shopped</td>\n",
       "      <td>5910570</td>\n",
       "      <td>4.853476e+08</td>\n",
       "      <td>14522273.0</td>\n",
       "    </tr>\n",
       "    <tr>\n",
       "      <th>2</th>\n",
       "      <td>Active</td>\n",
       "      <td>Active</td>\n",
       "      <td>Recent_Quarter_New_Sign_Ups</td>\n",
       "      <td>Recent_Quarter_No_Shop</td>\n",
       "      <td>19</td>\n",
       "      <td>0.000000e+00</td>\n",
       "      <td>0.0</td>\n",
       "    </tr>\n",
       "    <tr>\n",
       "      <th>3</th>\n",
       "      <td>Active</td>\n",
       "      <td>Active</td>\n",
       "      <td>Recent_Quarter_New_Sign_Ups</td>\n",
       "      <td>Recent_Quarter_Shopped</td>\n",
       "      <td>84</td>\n",
       "      <td>1.466149e+04</td>\n",
       "      <td>269.0</td>\n",
       "    </tr>\n",
       "    <tr>\n",
       "      <th>4</th>\n",
       "      <td>Active</td>\n",
       "      <td>Lapsed_13_48</td>\n",
       "      <td>Old_Rewards_Members</td>\n",
       "      <td>Recent_Quarter_No_Shop</td>\n",
       "      <td>1287506</td>\n",
       "      <td>0.000000e+00</td>\n",
       "      <td>0.0</td>\n",
       "    </tr>\n",
       "    <tr>\n",
       "      <th>5</th>\n",
       "      <td>Lapsed_13_48</td>\n",
       "      <td>Active</td>\n",
       "      <td>Old_Rewards_Members</td>\n",
       "      <td>Recent_Quarter_Shopped</td>\n",
       "      <td>514365</td>\n",
       "      <td>3.542193e+07</td>\n",
       "      <td>767392.0</td>\n",
       "    </tr>\n",
       "    <tr>\n",
       "      <th>6</th>\n",
       "      <td>Lapsed_13_48</td>\n",
       "      <td>Lapsed_13_48</td>\n",
       "      <td>Old_Rewards_Members</td>\n",
       "      <td>Recent_Quarter_No_Shop</td>\n",
       "      <td>6026419</td>\n",
       "      <td>0.000000e+00</td>\n",
       "      <td>0.0</td>\n",
       "    </tr>\n",
       "    <tr>\n",
       "      <th>7</th>\n",
       "      <td>Lapsed_13_48</td>\n",
       "      <td>Lapsed_13_48</td>\n",
       "      <td>Recent_Quarter_New_Sign_Ups</td>\n",
       "      <td>Recent_Quarter_No_Shop</td>\n",
       "      <td>1</td>\n",
       "      <td>0.000000e+00</td>\n",
       "      <td>0.0</td>\n",
       "    </tr>\n",
       "    <tr>\n",
       "      <th>8</th>\n",
       "      <td>Lapsed_13_48</td>\n",
       "      <td>WD_48+</td>\n",
       "      <td>Old_Rewards_Members</td>\n",
       "      <td>Recent_Quarter_No_Shop</td>\n",
       "      <td>68924</td>\n",
       "      <td>0.000000e+00</td>\n",
       "      <td>0.0</td>\n",
       "    </tr>\n",
       "    <tr>\n",
       "      <th>9</th>\n",
       "      <td>NotAvailable_Before_Quarter</td>\n",
       "      <td>Active</td>\n",
       "      <td>Old_Rewards_Members</td>\n",
       "      <td>Recent_Quarter_Shopped</td>\n",
       "      <td>422272</td>\n",
       "      <td>3.367350e+07</td>\n",
       "      <td>631490.0</td>\n",
       "    </tr>\n",
       "    <tr>\n",
       "      <th>10</th>\n",
       "      <td>NotAvailable_Before_Quarter</td>\n",
       "      <td>Active</td>\n",
       "      <td>Recent_Quarter_New_Sign_Ups</td>\n",
       "      <td>Recent_Quarter_Shopped</td>\n",
       "      <td>1008182</td>\n",
       "      <td>1.094011e+08</td>\n",
       "      <td>1805553.0</td>\n",
       "    </tr>\n",
       "    <tr>\n",
       "      <th>11</th>\n",
       "      <td>nan</td>\n",
       "      <td>nan</td>\n",
       "      <td>Recent_Quarter_New_Sign_Ups</td>\n",
       "      <td>Recent_Quarter_No_Shop</td>\n",
       "      <td>464072</td>\n",
       "      <td>0.000000e+00</td>\n",
       "      <td>0.0</td>\n",
       "    </tr>\n",
       "  </tbody>\n",
       "</table>\n",
       "</div>"
      ],
      "text/plain": [
       "       Group_before_the_Quarter Group_after_the_Quarter  \\\n",
       "0                        Active                  Active   \n",
       "1                        Active                  Active   \n",
       "2                        Active                  Active   \n",
       "3                        Active                  Active   \n",
       "4                        Active            Lapsed_13_48   \n",
       "5                  Lapsed_13_48                  Active   \n",
       "6                  Lapsed_13_48            Lapsed_13_48   \n",
       "7                  Lapsed_13_48            Lapsed_13_48   \n",
       "8                  Lapsed_13_48                  WD_48+   \n",
       "9   NotAvailable_Before_Quarter                  Active   \n",
       "10  NotAvailable_Before_Quarter                  Active   \n",
       "11                          nan                     nan   \n",
       "\n",
       "                     NewRewards Recent_Quarter_Shopping_Group  id_count  \\\n",
       "0           Old_Rewards_Members        Recent_Quarter_No_Shop   8623789   \n",
       "1           Old_Rewards_Members        Recent_Quarter_Shopped   5910570   \n",
       "2   Recent_Quarter_New_Sign_Ups        Recent_Quarter_No_Shop        19   \n",
       "3   Recent_Quarter_New_Sign_Ups        Recent_Quarter_Shopped        84   \n",
       "4           Old_Rewards_Members        Recent_Quarter_No_Shop   1287506   \n",
       "5           Old_Rewards_Members        Recent_Quarter_Shopped    514365   \n",
       "6           Old_Rewards_Members        Recent_Quarter_No_Shop   6026419   \n",
       "7   Recent_Quarter_New_Sign_Ups        Recent_Quarter_No_Shop         1   \n",
       "8           Old_Rewards_Members        Recent_Quarter_No_Shop     68924   \n",
       "9           Old_Rewards_Members        Recent_Quarter_Shopped    422272   \n",
       "10  Recent_Quarter_New_Sign_Ups        Recent_Quarter_Shopped   1008182   \n",
       "11  Recent_Quarter_New_Sign_Ups        Recent_Quarter_No_Shop    464072   \n",
       "\n",
       "    sales_recent_Quarter  trans_recent_Quarter  \n",
       "0           0.000000e+00                   0.0  \n",
       "1           4.853476e+08            14522273.0  \n",
       "2           0.000000e+00                   0.0  \n",
       "3           1.466149e+04                 269.0  \n",
       "4           0.000000e+00                   0.0  \n",
       "5           3.542193e+07              767392.0  \n",
       "6           0.000000e+00                   0.0  \n",
       "7           0.000000e+00                   0.0  \n",
       "8           0.000000e+00                   0.0  \n",
       "9           3.367350e+07              631490.0  \n",
       "10          1.094011e+08             1805553.0  \n",
       "11          0.000000e+00                   0.0  "
      ]
     },
     "execution_count": 39,
     "metadata": {},
     "output_type": "execute_result"
    }
   ],
   "source": [
    "output_id_count=all_rewards_most_recent.groupby(['Group_before_the_Quarter','Group_after_the_Quarter','NewRewards','Recent_Quarter_Shopping_Group'])['customer_id_hashed'].count().to_frame().reset_index().rename(columns={\"customer_id_hashed\":\"id_count\"})\n",
    "output_id_sales=all_rewards_most_recent.groupby(['Group_before_the_Quarter','Group_after_the_Quarter','NewRewards','Recent_Quarter_Shopping_Group'])['sales_recent_Quarter','trans_recent_Quarter'].sum().reset_index()\n",
    "\n",
    "output=pd.merge(output_id_count,output_id_sales,on=['Group_before_the_Quarter','Group_after_the_Quarter','NewRewards','Recent_Quarter_Shopping_Group'],how=\"outer\")\n",
    "output"
   ]
  },
  {
   "cell_type": "code",
   "execution_count": 40,
   "metadata": {},
   "outputs": [
    {
     "data": {
      "text/plain": [
       "'/home/jian/Projects/Big_Lots/Analysis/2019_Q4/Migration_JL_status_change'"
      ]
     },
     "execution_count": 40,
     "metadata": {},
     "output_type": "execute_result"
    }
   ],
   "source": [
    "os.getcwd()"
   ]
  },
  {
   "cell_type": "code",
   "execution_count": 41,
   "metadata": {
    "collapsed": true
   },
   "outputs": [],
   "source": [
    "output['Recent_Quarteer_Sale_per_ID']=output['sales_recent_Quarter']/output['id_count']\n",
    "output['Recent_Quarteer_Sale_per_ID']=output['Recent_Quarteer_Sale_per_ID'].apply(lambda x: np.round(x,2))\n",
    "\n",
    "output['inclusion/exclusion']=np.where((output['Group_before_the_Quarter']!=\"NotAvailable_Before_Quarter\") & (output['NewRewards']==\"Recent_Quarter_New_Sign_Ups\"),\"Exclusion\",\"Inclusion\")\n"
   ]
  },
  {
   "cell_type": "code",
   "execution_count": null,
   "metadata": {
    "collapsed": true
   },
   "outputs": [],
   "source": []
  },
  {
   "cell_type": "code",
   "execution_count": 42,
   "metadata": {
    "collapsed": true
   },
   "outputs": [],
   "source": [
    "output.to_csv(\"./BL_2018Q3_rewards_migration_output_summary_JL_\"+str(datetime.datetime.now().date())+\".csv\",index=False)\n",
    "\n"
   ]
  },
  {
   "cell_type": "code",
   "execution_count": 43,
   "metadata": {
    "collapsed": true
   },
   "outputs": [],
   "source": [
    "all_rewards_most_recent.to_csv(\"./BL_2018Q3_rewards_migration_rewards_data_JL_\"+str(datetime.datetime.now().date())+\".csv\",index=False)\n"
   ]
  },
  {
   "cell_type": "code",
   "execution_count": 44,
   "metadata": {},
   "outputs": [
    {
     "data": {
      "text/plain": [
       "24326203"
      ]
     },
     "execution_count": 44,
     "metadata": {},
     "output_type": "execute_result"
    }
   ],
   "source": [
    "output['id_count'].sum()"
   ]
  },
  {
   "cell_type": "code",
   "execution_count": 45,
   "metadata": {},
   "outputs": [
    {
     "data": {
      "text/plain": [
       "(24326203, 11)"
      ]
     },
     "execution_count": 45,
     "metadata": {},
     "output_type": "execute_result"
    }
   ],
   "source": [
    "all_rewards_most_recent.shape"
   ]
  },
  {
   "cell_type": "code",
   "execution_count": 46,
   "metadata": {},
   "outputs": [
    {
     "data": {
      "text/plain": [
       "24326203"
      ]
     },
     "execution_count": 46,
     "metadata": {},
     "output_type": "execute_result"
    }
   ],
   "source": [
    "all_rewards_most_recent['customer_id_hashed'].nunique()"
   ]
  },
  {
   "cell_type": "code",
   "execution_count": 47,
   "metadata": {},
   "outputs": [
    {
     "data": {
      "text/plain": [
       "(24326203, 11)"
      ]
     },
     "execution_count": 47,
     "metadata": {},
     "output_type": "execute_result"
    }
   ],
   "source": [
    "all_rewards_most_recent.shape"
   ]
  },
  {
   "cell_type": "code",
   "execution_count": 48,
   "metadata": {},
   "outputs": [
    {
     "data": {
      "text/html": [
       "<div>\n",
       "<style scoped>\n",
       "    .dataframe tbody tr th:only-of-type {\n",
       "        vertical-align: middle;\n",
       "    }\n",
       "\n",
       "    .dataframe tbody tr th {\n",
       "        vertical-align: top;\n",
       "    }\n",
       "\n",
       "    .dataframe thead th {\n",
       "        text-align: right;\n",
       "    }\n",
       "</style>\n",
       "<table border=\"1\" class=\"dataframe\">\n",
       "  <thead>\n",
       "    <tr style=\"text-align: right;\">\n",
       "      <th></th>\n",
       "      <th>customer_id_hashed</th>\n",
       "      <th>transaction_date</th>\n",
       "      <th>transaction_date_before_the_Quarter</th>\n",
       "      <th>transaction_date_after_the_Quarter</th>\n",
       "      <th>Group_before_the_Quarter</th>\n",
       "      <th>Group_after_the_Quarter</th>\n",
       "      <th>sales_recent_Quarter</th>\n",
       "      <th>trans_recent_Quarter</th>\n",
       "      <th>Recent_Quarter_Shopping_Group</th>\n",
       "      <th>sign_up_date</th>\n",
       "      <th>NewRewards</th>\n",
       "    </tr>\n",
       "  </thead>\n",
       "  <tbody>\n",
       "    <tr>\n",
       "      <th>0</th>\n",
       "      <td>00000135f48c68690ad3d5fc9ada41bb5cd687452007e8...</td>\n",
       "      <td>2017-01-19</td>\n",
       "      <td>2017-01-19</td>\n",
       "      <td>2018-10-30</td>\n",
       "      <td>Lapsed_13_48</td>\n",
       "      <td>Active</td>\n",
       "      <td>211.78</td>\n",
       "      <td>3.0</td>\n",
       "      <td>Recent_Quarter_Shopped</td>\n",
       "      <td>NaN</td>\n",
       "      <td>Old_Rewards_Members</td>\n",
       "    </tr>\n",
       "    <tr>\n",
       "      <th>1</th>\n",
       "      <td>000002c86b9805b916f2a04b7a0031bb9ee03224e98221...</td>\n",
       "      <td>2014-12-01</td>\n",
       "      <td>2014-12-01</td>\n",
       "      <td>2014-12-01</td>\n",
       "      <td>Lapsed_13_48</td>\n",
       "      <td>Lapsed_13_48</td>\n",
       "      <td>0.00</td>\n",
       "      <td>0.0</td>\n",
       "      <td>Recent_Quarter_No_Shop</td>\n",
       "      <td>NaN</td>\n",
       "      <td>Old_Rewards_Members</td>\n",
       "    </tr>\n",
       "    <tr>\n",
       "      <th>2</th>\n",
       "      <td>000003066bafc6b19c55d3be5fc646a253c659e9e6baea...</td>\n",
       "      <td>2017-11-10</td>\n",
       "      <td>2017-11-10</td>\n",
       "      <td>2017-11-10</td>\n",
       "      <td>Active</td>\n",
       "      <td>Active</td>\n",
       "      <td>0.00</td>\n",
       "      <td>0.0</td>\n",
       "      <td>Recent_Quarter_No_Shop</td>\n",
       "      <td>NaN</td>\n",
       "      <td>Old_Rewards_Members</td>\n",
       "    </tr>\n",
       "    <tr>\n",
       "      <th>3</th>\n",
       "      <td>0000034fec3c2cbbf7a2b38fbf80d84abc72d8bed269c4...</td>\n",
       "      <td>2018-07-22</td>\n",
       "      <td>2018-07-22</td>\n",
       "      <td>2018-07-22</td>\n",
       "      <td>Active</td>\n",
       "      <td>Active</td>\n",
       "      <td>0.00</td>\n",
       "      <td>0.0</td>\n",
       "      <td>Recent_Quarter_No_Shop</td>\n",
       "      <td>NaN</td>\n",
       "      <td>Old_Rewards_Members</td>\n",
       "    </tr>\n",
       "    <tr>\n",
       "      <th>4</th>\n",
       "      <td>00000435bfb3bf42e3beb4c9b3942c552d09f0e49e5a75...</td>\n",
       "      <td>2018-07-14</td>\n",
       "      <td>2018-07-14</td>\n",
       "      <td>2018-10-15</td>\n",
       "      <td>Active</td>\n",
       "      <td>Active</td>\n",
       "      <td>11.10</td>\n",
       "      <td>1.0</td>\n",
       "      <td>Recent_Quarter_Shopped</td>\n",
       "      <td>NaN</td>\n",
       "      <td>Old_Rewards_Members</td>\n",
       "    </tr>\n",
       "    <tr>\n",
       "      <th>...</th>\n",
       "      <td>...</td>\n",
       "      <td>...</td>\n",
       "      <td>...</td>\n",
       "      <td>...</td>\n",
       "      <td>...</td>\n",
       "      <td>...</td>\n",
       "      <td>...</td>\n",
       "      <td>...</td>\n",
       "      <td>...</td>\n",
       "      <td>...</td>\n",
       "      <td>...</td>\n",
       "    </tr>\n",
       "    <tr>\n",
       "      <th>95</th>\n",
       "      <td>00004d161929f36dc892fae11bff1c106d699e51daf5e0...</td>\n",
       "      <td>2018-07-08</td>\n",
       "      <td>2018-07-08</td>\n",
       "      <td>2018-10-27</td>\n",
       "      <td>Active</td>\n",
       "      <td>Active</td>\n",
       "      <td>14.65</td>\n",
       "      <td>1.0</td>\n",
       "      <td>Recent_Quarter_Shopped</td>\n",
       "      <td>NaN</td>\n",
       "      <td>Old_Rewards_Members</td>\n",
       "    </tr>\n",
       "    <tr>\n",
       "      <th>96</th>\n",
       "      <td>00004d52e7c3521618e946bd42f159155972209a11b63d...</td>\n",
       "      <td>2016-09-04</td>\n",
       "      <td>2016-09-04</td>\n",
       "      <td>2016-09-04</td>\n",
       "      <td>Lapsed_13_48</td>\n",
       "      <td>Lapsed_13_48</td>\n",
       "      <td>0.00</td>\n",
       "      <td>0.0</td>\n",
       "      <td>Recent_Quarter_No_Shop</td>\n",
       "      <td>NaN</td>\n",
       "      <td>Old_Rewards_Members</td>\n",
       "    </tr>\n",
       "    <tr>\n",
       "      <th>97</th>\n",
       "      <td>00004df5c8fbf830dc526ac784ca62493d9adcc6bc8204...</td>\n",
       "      <td>2018-01-22</td>\n",
       "      <td>2018-01-22</td>\n",
       "      <td>2018-01-22</td>\n",
       "      <td>Active</td>\n",
       "      <td>Active</td>\n",
       "      <td>0.00</td>\n",
       "      <td>0.0</td>\n",
       "      <td>Recent_Quarter_No_Shop</td>\n",
       "      <td>NaN</td>\n",
       "      <td>Old_Rewards_Members</td>\n",
       "    </tr>\n",
       "    <tr>\n",
       "      <th>98</th>\n",
       "      <td>00004eb78a416ee5bf936f1fdb9d8504ea4694dae3aa95...</td>\n",
       "      <td>2018-06-19</td>\n",
       "      <td>2018-06-19</td>\n",
       "      <td>2018-06-19</td>\n",
       "      <td>Active</td>\n",
       "      <td>Active</td>\n",
       "      <td>0.00</td>\n",
       "      <td>0.0</td>\n",
       "      <td>Recent_Quarter_No_Shop</td>\n",
       "      <td>NaN</td>\n",
       "      <td>Old_Rewards_Members</td>\n",
       "    </tr>\n",
       "    <tr>\n",
       "      <th>99</th>\n",
       "      <td>00004f70052700ebb71b7af517c96a42cb43663c079cbd...</td>\n",
       "      <td>2018-02-24</td>\n",
       "      <td>2018-02-24</td>\n",
       "      <td>2018-02-24</td>\n",
       "      <td>Active</td>\n",
       "      <td>Active</td>\n",
       "      <td>0.00</td>\n",
       "      <td>0.0</td>\n",
       "      <td>Recent_Quarter_No_Shop</td>\n",
       "      <td>NaN</td>\n",
       "      <td>Old_Rewards_Members</td>\n",
       "    </tr>\n",
       "  </tbody>\n",
       "</table>\n",
       "<p>100 rows × 11 columns</p>\n",
       "</div>"
      ],
      "text/plain": [
       "                                   customer_id_hashed transaction_date  \\\n",
       "0   00000135f48c68690ad3d5fc9ada41bb5cd687452007e8...       2017-01-19   \n",
       "1   000002c86b9805b916f2a04b7a0031bb9ee03224e98221...       2014-12-01   \n",
       "2   000003066bafc6b19c55d3be5fc646a253c659e9e6baea...       2017-11-10   \n",
       "3   0000034fec3c2cbbf7a2b38fbf80d84abc72d8bed269c4...       2018-07-22   \n",
       "4   00000435bfb3bf42e3beb4c9b3942c552d09f0e49e5a75...       2018-07-14   \n",
       "..                                                ...              ...   \n",
       "95  00004d161929f36dc892fae11bff1c106d699e51daf5e0...       2018-07-08   \n",
       "96  00004d52e7c3521618e946bd42f159155972209a11b63d...       2016-09-04   \n",
       "97  00004df5c8fbf830dc526ac784ca62493d9adcc6bc8204...       2018-01-22   \n",
       "98  00004eb78a416ee5bf936f1fdb9d8504ea4694dae3aa95...       2018-06-19   \n",
       "99  00004f70052700ebb71b7af517c96a42cb43663c079cbd...       2018-02-24   \n",
       "\n",
       "   transaction_date_before_the_Quarter transaction_date_after_the_Quarter  \\\n",
       "0                           2017-01-19                         2018-10-30   \n",
       "1                           2014-12-01                         2014-12-01   \n",
       "2                           2017-11-10                         2017-11-10   \n",
       "3                           2018-07-22                         2018-07-22   \n",
       "4                           2018-07-14                         2018-10-15   \n",
       "..                                 ...                                ...   \n",
       "95                          2018-07-08                         2018-10-27   \n",
       "96                          2016-09-04                         2016-09-04   \n",
       "97                          2018-01-22                         2018-01-22   \n",
       "98                          2018-06-19                         2018-06-19   \n",
       "99                          2018-02-24                         2018-02-24   \n",
       "\n",
       "   Group_before_the_Quarter Group_after_the_Quarter  sales_recent_Quarter  \\\n",
       "0              Lapsed_13_48                  Active                211.78   \n",
       "1              Lapsed_13_48            Lapsed_13_48                  0.00   \n",
       "2                    Active                  Active                  0.00   \n",
       "3                    Active                  Active                  0.00   \n",
       "4                    Active                  Active                 11.10   \n",
       "..                      ...                     ...                   ...   \n",
       "95                   Active                  Active                 14.65   \n",
       "96             Lapsed_13_48            Lapsed_13_48                  0.00   \n",
       "97                   Active                  Active                  0.00   \n",
       "98                   Active                  Active                  0.00   \n",
       "99                   Active                  Active                  0.00   \n",
       "\n",
       "    trans_recent_Quarter Recent_Quarter_Shopping_Group sign_up_date  \\\n",
       "0                    3.0        Recent_Quarter_Shopped          NaN   \n",
       "1                    0.0        Recent_Quarter_No_Shop          NaN   \n",
       "2                    0.0        Recent_Quarter_No_Shop          NaN   \n",
       "3                    0.0        Recent_Quarter_No_Shop          NaN   \n",
       "4                    1.0        Recent_Quarter_Shopped          NaN   \n",
       "..                   ...                           ...          ...   \n",
       "95                   1.0        Recent_Quarter_Shopped          NaN   \n",
       "96                   0.0        Recent_Quarter_No_Shop          NaN   \n",
       "97                   0.0        Recent_Quarter_No_Shop          NaN   \n",
       "98                   0.0        Recent_Quarter_No_Shop          NaN   \n",
       "99                   0.0        Recent_Quarter_No_Shop          NaN   \n",
       "\n",
       "             NewRewards  \n",
       "0   Old_Rewards_Members  \n",
       "1   Old_Rewards_Members  \n",
       "2   Old_Rewards_Members  \n",
       "3   Old_Rewards_Members  \n",
       "4   Old_Rewards_Members  \n",
       "..                  ...  \n",
       "95  Old_Rewards_Members  \n",
       "96  Old_Rewards_Members  \n",
       "97  Old_Rewards_Members  \n",
       "98  Old_Rewards_Members  \n",
       "99  Old_Rewards_Members  \n",
       "\n",
       "[100 rows x 11 columns]"
      ]
     },
     "execution_count": 48,
     "metadata": {},
     "output_type": "execute_result"
    }
   ],
   "source": [
    "all_rewards_most_recent.head(100)"
   ]
  },
  {
   "cell_type": "code",
   "execution_count": 49,
   "metadata": {},
   "outputs": [
    {
     "data": {
      "text/plain": [
       "(15821968, 11)"
      ]
     },
     "execution_count": 49,
     "metadata": {},
     "output_type": "execute_result"
    }
   ],
   "source": [
    "all_rewards_most_recent[all_rewards_most_recent['Group_before_the_Quarter']==\"Active\"].shape"
   ]
  },
  {
   "cell_type": "code",
   "execution_count": null,
   "metadata": {
    "collapsed": true
   },
   "outputs": [],
   "source": []
  },
  {
   "cell_type": "code",
   "execution_count": null,
   "metadata": {
    "collapsed": true
   },
   "outputs": [],
   "source": []
  },
  {
   "cell_type": "code",
   "execution_count": null,
   "metadata": {
    "collapsed": true
   },
   "outputs": [],
   "source": []
  },
  {
   "cell_type": "code",
   "execution_count": null,
   "metadata": {
    "collapsed": true
   },
   "outputs": [],
   "source": []
  },
  {
   "cell_type": "code",
   "execution_count": null,
   "metadata": {
    "collapsed": true
   },
   "outputs": [],
   "source": []
  },
  {
   "cell_type": "code",
   "execution_count": null,
   "metadata": {
    "collapsed": true
   },
   "outputs": [],
   "source": []
  }
 ],
 "metadata": {
  "kernelspec": {
   "display_name": "Python 3",
   "language": "python",
   "name": "python3"
  },
  "language_info": {
   "codemirror_mode": {
    "name": "ipython",
    "version": 3
   },
   "file_extension": ".py",
   "mimetype": "text/x-python",
   "name": "python",
   "nbconvert_exporter": "python",
   "pygments_lexer": "ipython3",
   "version": "3.6.1"
  }
 },
 "nbformat": 4,
 "nbformat_minor": 2
}
