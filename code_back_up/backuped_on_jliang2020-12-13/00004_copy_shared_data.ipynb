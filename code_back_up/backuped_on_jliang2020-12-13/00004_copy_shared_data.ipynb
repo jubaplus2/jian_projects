{
 "cells": [
  {
   "cell_type": "code",
   "execution_count": 1,
   "metadata": {},
   "outputs": [],
   "source": [
    "import os\n",
    "import datetime\n",
    "import shutil"
   ]
  },
  {
   "cell_type": "code",
   "execution_count": 6,
   "metadata": {},
   "outputs": [
    {
     "data": {
      "text/plain": [
       "'\\n1. /home/jian/BigLots （客户数据）\\n2. /home/jian/Projects/Big_Lots/LiveRamp/ (1:1 audience)\\n3. /home./jian/Projects/Big_Lots/New_TA/ (trade area files)\\n4. /home/jian/Docs/ (3rd part files, e.g. demographic, geographic, etc.)\\n5. /home/jian/celery/ (some weekly reports outputs and inputs maybe)\\n6. /home/jian/Projects/Big_Lots/Weather/ (part of weekly)\\n7. /home/jian/Projects/TMR (aggregation of BL media national data, will be sharable FYI later)\\n'"
      ]
     },
     "execution_count": 6,
     "metadata": {},
     "output_type": "execute_result"
    }
   ],
   "source": [
    "'''\n",
    "1. /home/jian/BigLots （客户数据）\n",
    "2. /home/jian/Projects/Big_Lots/LiveRamp/ (1:1 audience)\n",
    "3. /home/jian/Projects/Big_Lots/New_TA/ (trade area files)\n",
    "4. /home/jian/Docs/ (3rd part files, e.g. demographic, geographic, etc.)\n",
    "5. /home/jian/celery/ (some weekly reports outputs and inputs maybe)\n",
    "6. /home/jian/Projects/Big_Lots/Weather/ (part of weekly)\n",
    "7. /home/jian/Projects/TMR (aggregation of BL media national data, will be sharable FYI later)\n",
    "\n",
    "8. /home/jian/BiglotsCode\n",
    "9. /home/jian/BL Data Backup from clients\n",
    "'''"
   ]
  },
  {
   "cell_type": "code",
   "execution_count": 5,
   "metadata": {
    "scrolled": true
   },
   "outputs": [],
   "source": [
    "new_sharefolder=\"/home/sharefolder/\"\n",
    "try:\n",
    "    os.stat(new_sharefolder)\n",
    "except:\n",
    "    os.mkdir(new_sharefolder)"
   ]
  },
  {
   "cell_type": "code",
   "execution_count": 12,
   "metadata": {},
   "outputs": [
    {
     "data": {
      "text/plain": [
       "'/home/sharefolder/biglots_data/'"
      ]
     },
     "execution_count": 12,
     "metadata": {},
     "output_type": "execute_result"
    }
   ],
   "source": [
    "# 1: /home/jian/BigLots （客户数据）\n",
    "old_folder=\"/home/jian/BigLots/\"\n",
    "new_folder=\"/home/sharefolder/biglots_data/\"\n",
    "shutil.move(old_folder,new_folder)"
   ]
  },
  {
   "cell_type": "code",
   "execution_count": 13,
   "metadata": {},
   "outputs": [
    {
     "data": {
      "text/plain": [
       "'/home/sharefolder/Live_Ramp/'"
      ]
     },
     "execution_count": 13,
     "metadata": {},
     "output_type": "execute_result"
    }
   ],
   "source": [
    "# 2. /home/jian/Projects/Big_Lots/LiveRamp/ (1:1 audience)\n",
    "old_folder=\"/home/jian/Projects/Big_Lots/Live_Ramp/\"\n",
    "new_folder=\"/home/sharefolder/Live_Ramp/\"\n",
    "shutil.move(old_folder,new_folder)"
   ]
  },
  {
   "cell_type": "code",
   "execution_count": 9,
   "metadata": {},
   "outputs": [
    {
     "data": {
      "text/plain": [
       "'/home/sharefolder/TraderArea/'"
      ]
     },
     "execution_count": 9,
     "metadata": {},
     "output_type": "execute_result"
    }
   ],
   "source": [
    "# 3. /home/jian/Projects/Big_Lots/New_TA/ (trade area files)\n",
    "old_folder=\"/home/jian/Projects/Big_Lots/New_TA/\"\n",
    "new_folder=\"/home/sharefolder/TraderArea/\"\n",
    "shutil.copytree(old_folder,new_folder)"
   ]
  },
  {
   "cell_type": "code",
   "execution_count": 14,
   "metadata": {},
   "outputs": [
    {
     "data": {
      "text/plain": [
       "'/home/sharefolder/Docs/'"
      ]
     },
     "execution_count": 14,
     "metadata": {},
     "output_type": "execute_result"
    }
   ],
   "source": [
    "# 4. /home/jian/Docs/ (3rd part files, e.g. demographic, geographic, etc.)\n",
    "old_folder=\"/home/jian/Docs/\"\n",
    "new_folder=\"/home/sharefolder/Docs/\"\n",
    "shutil.move(old_folder,new_folder)"
   ]
  },
  {
   "cell_type": "code",
   "execution_count": 15,
   "metadata": {},
   "outputs": [
    {
     "data": {
      "text/plain": [
       "'/home/sharefolder/Automation/'"
      ]
     },
     "execution_count": 15,
     "metadata": {},
     "output_type": "execute_result"
    }
   ],
   "source": [
    "# 5. /home/jian/Docs/ (3rd part files, e.g. demographic, geographic, etc.)\n",
    "old_folder=\"/home/jian/celery/\"\n",
    "new_folder=\"/home/sharefolder/Automation/\"\n",
    "shutil.move(old_folder,new_folder)"
   ]
  },
  {
   "cell_type": "code",
   "execution_count": 16,
   "metadata": {},
   "outputs": [
    {
     "data": {
      "text/plain": [
       "'/home/sharefolder/Weather/'"
      ]
     },
     "execution_count": 16,
     "metadata": {},
     "output_type": "execute_result"
    }
   ],
   "source": [
    "# 6. /home/jian/Projects/Big_Lots/Weather/ (part of weekly)\n",
    "old_folder=\"/home/jian/Projects/Big_Lots/Weather/\"\n",
    "new_folder=\"/home/sharefolder/Weather/\"\n",
    "shutil.move(old_folder,new_folder)"
   ]
  },
  {
   "cell_type": "code",
   "execution_count": 17,
   "metadata": {},
   "outputs": [
    {
     "data": {
      "text/plain": [
       "'/home/sharefolder/Media/TMR'"
      ]
     },
     "execution_count": 17,
     "metadata": {},
     "output_type": "execute_result"
    }
   ],
   "source": [
    "# 7. /home/jian/Projects/Big_Lots/Weather/ (part of weekly)\n",
    "old_folder=\"/home/jian/Projects/Big_Lots/TMR/\"\n",
    "new_folder=\"/home/sharefolder/Media/TMR\"\n",
    "shutil.move(old_folder,new_folder)"
   ]
  },
  {
   "cell_type": "code",
   "execution_count": 19,
   "metadata": {},
   "outputs": [
    {
     "data": {
      "text/plain": [
       "'/home/sharefolder/Automation/Weekly_Operation_Reports/'"
      ]
     },
     "execution_count": 19,
     "metadata": {},
     "output_type": "execute_result"
    }
   ],
   "source": [
    "# 8. /home/jian/BiglotsCode\n",
    "old_folder=\"/home/jian/BiglotsCode/\"\n",
    "new_folder=\"/home/sharefolder/Automation/Weekly_Operation_Reports/\"\n",
    "shutil.move(old_folder,new_folder)"
   ]
  },
  {
   "cell_type": "code",
   "execution_count": 20,
   "metadata": {},
   "outputs": [
    {
     "data": {
      "text/plain": [
       "'/home/sharefolder/archive_data_backup/'"
      ]
     },
     "execution_count": 20,
     "metadata": {},
     "output_type": "execute_result"
    }
   ],
   "source": [
    "# 9. /home/jian/BL Data Backup from clients\n",
    "old_folder=\"/home/jian/BL Data Backup from clients/\"\n",
    "new_folder=\"/home/sharefolder/archive_data_backup/\"\n",
    "shutil.move(old_folder,new_folder)"
   ]
  },
  {
   "cell_type": "code",
   "execution_count": null,
   "metadata": {},
   "outputs": [],
   "source": []
  }
 ],
 "metadata": {
  "kernelspec": {
   "display_name": "Python 3",
   "language": "python",
   "name": "python3"
  },
  "language_info": {
   "codemirror_mode": {
    "name": "ipython",
    "version": 3
   },
   "file_extension": ".py",
   "mimetype": "text/x-python",
   "name": "python",
   "nbconvert_exporter": "python",
   "pygments_lexer": "ipython3",
   "version": "3.6.1"
  }
 },
 "nbformat": 4,
 "nbformat_minor": 2
}
