{
 "cells": [
  {
   "cell_type": "code",
   "execution_count": 1,
   "metadata": {},
   "outputs": [
    {
     "data": {
      "text/plain": [
       "'/home/jian/Projects/Big_Lots/Analysis/2019_Q3/Planner_request/Faith_zips_for_SOTF_2_stores_20191003'"
      ]
     },
     "execution_count": 1,
     "metadata": {},
     "output_type": "execute_result"
    }
   ],
   "source": [
    "import pandas as pd\n",
    "import datetime\n",
    "import os\n",
    "from haversine import haversine\n",
    "import numpy as np\n",
    "import json\n",
    "zip_centers=json.load(open(\"/home/jian/Docs/Geo_mapping/updated_zip_centers_JL_2019-05-23.json\",\"r\"))\n",
    "os.getcwd()"
   ]
  },
  {
   "cell_type": "code",
   "execution_count": 2,
   "metadata": {},
   "outputs": [],
   "source": [
    "list_2_stores=[\"1671\",\"5268\"]\n",
    "\n",
    "store_list=pd.read_table(\"/home/jian/BigLots/static_files/Store_list/MediaStormStores20191001-134050-499.txt\",\n",
    "                        dtype=str,sep=\"|\")\n",
    "store_list=store_list[store_list['location_id'].isin(list_2_stores)]\n",
    "store_list=store_list[['location_id','state_nm','latitude_meas','longitude_meas','zip_cd']]\n",
    "store_list['zip_cd']=store_list['zip_cd'].apply(lambda x: x.split(\"-\")[0].zfill(5))\n",
    "store_list['latitude_meas']=store_list['latitude_meas'].astype(float)\n",
    "store_list['longitude_meas']=store_list['longitude_meas'].astype(float)\n",
    "store_list=store_list.rename(columns={\"zip_cd\":\"store_zip\"})"
   ]
  },
  {
   "cell_type": "code",
   "execution_count": 3,
   "metadata": {},
   "outputs": [
    {
     "data": {
      "text/html": [
       "<div>\n",
       "<style>\n",
       "    .dataframe thead tr:only-child th {\n",
       "        text-align: right;\n",
       "    }\n",
       "\n",
       "    .dataframe thead th {\n",
       "        text-align: left;\n",
       "    }\n",
       "\n",
       "    .dataframe tbody tr th {\n",
       "        vertical-align: top;\n",
       "    }\n",
       "</style>\n",
       "<table border=\"1\" class=\"dataframe\">\n",
       "  <thead>\n",
       "    <tr style=\"text-align: right;\">\n",
       "      <th></th>\n",
       "      <th>location_id</th>\n",
       "      <th>state_nm</th>\n",
       "      <th>latitude_meas</th>\n",
       "      <th>longitude_meas</th>\n",
       "      <th>store_zip</th>\n",
       "    </tr>\n",
       "  </thead>\n",
       "  <tbody>\n",
       "    <tr>\n",
       "      <th>417</th>\n",
       "      <td>1671</td>\n",
       "      <td>OH</td>\n",
       "      <td>39.629065</td>\n",
       "      <td>-84.170140</td>\n",
       "      <td>45459</td>\n",
       "    </tr>\n",
       "    <tr>\n",
       "      <th>1353</th>\n",
       "      <td>5268</td>\n",
       "      <td>OH</td>\n",
       "      <td>39.351079</td>\n",
       "      <td>-84.542525</td>\n",
       "      <td>45014</td>\n",
       "    </tr>\n",
       "  </tbody>\n",
       "</table>\n",
       "</div>"
      ],
      "text/plain": [
       "     location_id state_nm  latitude_meas  longitude_meas store_zip\n",
       "417         1671       OH      39.629065      -84.170140     45459\n",
       "1353        5268       OH      39.351079      -84.542525     45014"
      ]
     },
     "execution_count": 3,
     "metadata": {},
     "output_type": "execute_result"
    }
   ],
   "source": [
    "store_list"
   ]
  },
  {
   "cell_type": "code",
   "execution_count": 4,
   "metadata": {},
   "outputs": [
    {
     "data": {
      "text/html": [
       "<div>\n",
       "<style>\n",
       "    .dataframe thead tr:only-child th {\n",
       "        text-align: right;\n",
       "    }\n",
       "\n",
       "    .dataframe thead th {\n",
       "        text-align: left;\n",
       "    }\n",
       "\n",
       "    .dataframe tbody tr th {\n",
       "        vertical-align: top;\n",
       "    }\n",
       "</style>\n",
       "<table border=\"1\" class=\"dataframe\">\n",
       "  <thead>\n",
       "    <tr style=\"text-align: right;\">\n",
       "      <th></th>\n",
       "      <th>TA_num</th>\n",
       "      <th>ta_name</th>\n",
       "      <th>location_id</th>\n",
       "      <th>address_line_1</th>\n",
       "      <th>address_line_2</th>\n",
       "      <th>zip_cd</th>\n",
       "      <th>city_nm</th>\n",
       "      <th>state_nm</th>\n",
       "      <th>latitude_meas</th>\n",
       "      <th>longitude_meas</th>\n",
       "      <th>DMA</th>\n",
       "      <th>CTY</th>\n",
       "      <th>all_trans_P_zips</th>\n",
       "      <th>all_trans_S_zips</th>\n",
       "      <th>zips_in_10</th>\n",
       "      <th>trans_P_zips_70_within_TA</th>\n",
       "      <th>trans_S_zips_70_within_TA</th>\n",
       "    </tr>\n",
       "  </thead>\n",
       "  <tbody>\n",
       "    <tr>\n",
       "      <th>126</th>\n",
       "      <td>9</td>\n",
       "      <td>multiple_9</td>\n",
       "      <td>5268</td>\n",
       "      <td>4613 DIXIE HWY</td>\n",
       "      <td>nan</td>\n",
       "      <td>45014</td>\n",
       "      <td>FAIRFIELD</td>\n",
       "      <td>OH</td>\n",
       "      <td>39.351079</td>\n",
       "      <td>-84.542525</td>\n",
       "      <td>{'CINCINNATI'}</td>\n",
       "      <td>{'BUTLER'}</td>\n",
       "      <td>['45014', '45011']</td>\n",
       "      <td>['45015', '45013', '45240', '45231', '45069', ...</td>\n",
       "      <td>[]</td>\n",
       "      <td>['45011', '45014']</td>\n",
       "      <td>['45069', '45240', '45231', '45013', '45044', ...</td>\n",
       "    </tr>\n",
       "    <tr>\n",
       "      <th>313</th>\n",
       "      <td>29</td>\n",
       "      <td>multiple_29</td>\n",
       "      <td>1671</td>\n",
       "      <td>359 MIAMISBURG CENTERVILLE RD</td>\n",
       "      <td>nan</td>\n",
       "      <td>45459</td>\n",
       "      <td>DAYTON</td>\n",
       "      <td>OH</td>\n",
       "      <td>39.629065</td>\n",
       "      <td>-84.17014</td>\n",
       "      <td>{'DAYTON'}</td>\n",
       "      <td>{'GREENE', 'MONTGOMERY'}</td>\n",
       "      <td>['45458', '45459', '45342', '45066']</td>\n",
       "      <td>['45449', '45429', '45440', '45420', '45068', ...</td>\n",
       "      <td>[]</td>\n",
       "      <td>['45066', '45458', '45459', '45342']</td>\n",
       "      <td>['45429', '45417', '45440', '45420', '45449', ...</td>\n",
       "    </tr>\n",
       "  </tbody>\n",
       "</table>\n",
       "</div>"
      ],
      "text/plain": [
       "    TA_num      ta_name location_id                 address_line_1  \\\n",
       "126      9   multiple_9        5268                 4613 DIXIE HWY   \n",
       "313     29  multiple_29        1671  359 MIAMISBURG CENTERVILLE RD   \n",
       "\n",
       "    address_line_2 zip_cd    city_nm state_nm latitude_meas longitude_meas  \\\n",
       "126            nan  45014  FAIRFIELD       OH     39.351079     -84.542525   \n",
       "313            nan  45459     DAYTON       OH     39.629065      -84.17014   \n",
       "\n",
       "                DMA                       CTY  \\\n",
       "126  {'CINCINNATI'}                {'BUTLER'}   \n",
       "313      {'DAYTON'}  {'GREENE', 'MONTGOMERY'}   \n",
       "\n",
       "                         all_trans_P_zips  \\\n",
       "126                    ['45014', '45011']   \n",
       "313  ['45458', '45459', '45342', '45066']   \n",
       "\n",
       "                                      all_trans_S_zips zips_in_10  \\\n",
       "126  ['45015', '45013', '45240', '45231', '45069', ...         []   \n",
       "313  ['45449', '45429', '45440', '45420', '45068', ...         []   \n",
       "\n",
       "                trans_P_zips_70_within_TA  \\\n",
       "126                    ['45011', '45014']   \n",
       "313  ['45066', '45458', '45459', '45342']   \n",
       "\n",
       "                             trans_S_zips_70_within_TA  \n",
       "126  ['45069', '45240', '45231', '45013', '45044', ...  \n",
       "313  ['45429', '45417', '45440', '45420', '45449', ...  "
      ]
     },
     "execution_count": 4,
     "metadata": {},
     "output_type": "execute_result"
    }
   ],
   "source": [
    "store_zip=pd.ExcelFile(\"/home/jian/Projects/Big_Lots/New_TA/TA_created_in_201906/final_output_20190718/BL_final_TA_updated_JL_2019-07-18.xlsx\")\n",
    "store_zip=store_zip.parse(\"view_by_store\",dtype=str)\n",
    "store_zip=store_zip[store_zip['location_id'].isin(list_2_stores)]\n",
    "store_zip"
   ]
  },
  {
   "cell_type": "code",
   "execution_count": 5,
   "metadata": {},
   "outputs": [
    {
     "data": {
      "text/plain": [
       "(26, 3)"
      ]
     },
     "execution_count": 5,
     "metadata": {},
     "output_type": "execute_result"
    }
   ],
   "source": [
    "df_store_zip=pd.DataFrame()\n",
    "\n",
    "for ind,row in store_zip.iterrows():\n",
    "    store_number=row['location_id']\n",
    "    P_zips=eval(row['all_trans_P_zips'])\n",
    "    S_zips=eval(row['all_trans_S_zips'])\n",
    "    # zips_in_10=eval(row['zips_in_10']) # No 10 zips from the df above\n",
    "    \n",
    "    df_P=pd.DataFrame({\"trans_flag\":[\"P\"]*len(P_zips),\"zip_cd\":P_zips},index=[store_number]*len(P_zips))\n",
    "    df_S=pd.DataFrame({\"trans_flag\":[\"S\"]*len(S_zips),\"zip_cd\":S_zips},index=[store_number]*len(S_zips))\n",
    "    df_store_zip=df_store_zip.append(df_P).append(df_S)\n",
    "df_store_zip=df_store_zip.reset_index().rename(columns={\"index\":\"location_id\"})\n",
    "df_store_zip.shape"
   ]
  },
  {
   "cell_type": "code",
   "execution_count": 6,
   "metadata": {},
   "outputs": [
    {
     "data": {
      "text/plain": [
       "(26, 7)"
      ]
     },
     "execution_count": 6,
     "metadata": {},
     "output_type": "execute_result"
    }
   ],
   "source": [
    "df_output=pd.merge(store_list,df_store_zip,on=\"location_id\",how=\"left\")\n",
    "df_output.shape"
   ]
  },
  {
   "cell_type": "code",
   "execution_count": 7,
   "metadata": {},
   "outputs": [],
   "source": [
    "df_output['dist_miles']=np.nan\n",
    "for ind,row in df_output.iterrows():\n",
    "    dist=haversine((row['latitude_meas'],row['longitude_meas']),zip_centers[row['zip_cd']],miles=True)\n",
    "    df_output.loc[ind,'dist_miles']=dist"
   ]
  },
  {
   "cell_type": "code",
   "execution_count": 10,
   "metadata": {},
   "outputs": [],
   "source": [
    "writer=pd.ExcelWriter(\"./BL_zips_for_SOTF_1671_5268_JL_\"+str(datetime.datetime.now().date())+\".xlsx\",engine=\"xlsxwriter\")\n",
    "df_output.to_excel(writer,\"zips_for_2_SOTF\",index=False)\n",
    "writer.save()"
   ]
  },
  {
   "cell_type": "code",
   "execution_count": null,
   "metadata": {
    "collapsed": true
   },
   "outputs": [],
   "source": []
  }
 ],
 "metadata": {
  "kernelspec": {
   "display_name": "Python 3",
   "language": "python",
   "name": "python3"
  },
  "language_info": {
   "codemirror_mode": {
    "name": "ipython",
    "version": 3
   },
   "file_extension": ".py",
   "mimetype": "text/x-python",
   "name": "python",
   "nbconvert_exporter": "python",
   "pygments_lexer": "ipython3",
   "version": "3.6.1"
  }
 },
 "nbformat": 4,
 "nbformat_minor": 2
}
