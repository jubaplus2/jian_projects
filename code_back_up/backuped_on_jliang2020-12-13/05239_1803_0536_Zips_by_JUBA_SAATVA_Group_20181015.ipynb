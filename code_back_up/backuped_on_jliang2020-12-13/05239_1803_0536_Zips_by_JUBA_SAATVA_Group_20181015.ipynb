{
 "cells": [
  {
   "cell_type": "code",
   "execution_count": 1,
   "metadata": {
    "collapsed": true
   },
   "outputs": [],
   "source": [
    "import pandas as pd\n",
    "import numpy as np\n",
    "import googlemaps\n",
    "import haversine\n",
    "import json\n",
    "import zipcodes\n",
    "\n",
    "zip_centers=json.load(open(\"/home/jian/Docs/Geo_mapping/center_of_rentrak_zip.json\"))"
   ]
  },
  {
   "cell_type": "code",
   "execution_count": 28,
   "metadata": {},
   "outputs": [],
   "source": [
    "MF_Address=pd.read_excel(\"/home/jian/Projects/Saatva/Analysis/Closing_Mattress_Firm_location/AN - Research - List of Mattress Firms Locations.xlsx\",\n",
    "                         sheetname=\"All Mattress Firm Locations\",dtype=str)\n",
    "\n",
    "MF_closing=pd.read_excel(\"/home/jian/Projects/Saatva/Analysis/Closing_Mattress_Firm_location/AN - Research - List of Mattress Firms Locations.xlsx\",\n",
    "                         sheetname=\"Closed Mattress Firm Locations\",dtype=str)\n",
    "\n",
    "MF_Address['Address_line_1']=MF_Address['Address'].apply(lambda x: x.strip().rstrip().split(\"\\n\\n\")[0].strip().rstrip())\n",
    "MF_Address['Address_line_2']=MF_Address['Address'].apply(lambda x: x.strip().rstrip().split(\"\\n\\n\")[1].strip().rstrip())\n",
    "\n",
    "MF_Address['City']=MF_Address['City'].apply(lambda x: x.strip().rstrip())\n",
    "MF_Address['States']=MF_Address['States'].apply(lambda x: x.strip().rstrip())\n",
    "MF_Address['Zip Code']=MF_Address['Zip Code'].apply(lambda x: x.strip().rstrip().zfill(5))\n",
    "\n",
    "\n",
    "MF_Address['search_key']=MF_Address['Address_line_1']+\", \"+MF_Address['City']+\", \"+MF_Address['States']+\", \"+MF_Address['Zip Code']\n",
    "MF_closing['search_key']=MF_closing['Address Line 1']+\", \"+MF_closing['City']+\", \"+MF_closing['State']+\", \"+MF_closing[\"Zip Code\"]\n"
   ]
  },
  {
   "cell_type": "code",
   "execution_count": null,
   "metadata": {},
   "outputs": [],
   "source": [
    "MF_Address.head(2)"
   ]
  },
  {
   "cell_type": "code",
   "execution_count": 29,
   "metadata": {},
   "outputs": [
    {
     "data": {
      "text/html": [
       "<div>\n",
       "<style>\n",
       "    .dataframe thead tr:only-child th {\n",
       "        text-align: right;\n",
       "    }\n",
       "\n",
       "    .dataframe thead th {\n",
       "        text-align: left;\n",
       "    }\n",
       "\n",
       "    .dataframe tbody tr th {\n",
       "        vertical-align: top;\n",
       "    }\n",
       "</style>\n",
       "<table border=\"1\" class=\"dataframe\">\n",
       "  <thead>\n",
       "    <tr style=\"text-align: right;\">\n",
       "      <th></th>\n",
       "      <th>States</th>\n",
       "      <th>City</th>\n",
       "      <th>Zip Code</th>\n",
       "      <th>Address</th>\n",
       "      <th>h1_tag</th>\n",
       "      <th>Location_Name</th>\n",
       "      <th>Store-href</th>\n",
       "      <th>hours</th>\n",
       "      <th>Address_line_1</th>\n",
       "      <th>Address_line_2</th>\n",
       "      <th>search_key</th>\n",
       "    </tr>\n",
       "  </thead>\n",
       "  <tbody>\n",
       "    <tr>\n",
       "      <th>0</th>\n",
       "      <td>Mississippi</td>\n",
       "      <td>Ridgeland</td>\n",
       "      <td>39208</td>\n",
       "      <td>113 Airport Rd\\n\\n                Pearl, MS 39208</td>\n",
       "      <td>Mattress Firm D. Noblin Clearance Center - Bed...</td>\n",
       "      <td>Mattress Firm D. Noblin Clearance Center</td>\n",
       "      <td>http://stores.mattressfirm.com/ms/pearl/mattre...</td>\n",
       "      <td>Hours\\n                \\nMon - Thu: 10:00 am -...</td>\n",
       "      <td>113 Airport Rd</td>\n",
       "      <td>Pearl, MS 39208</td>\n",
       "      <td>113 Airport Rd, Ridgeland, Mississippi, 39208</td>\n",
       "    </tr>\n",
       "    <tr>\n",
       "      <th>1</th>\n",
       "      <td>Mississippi</td>\n",
       "      <td>Ridgeland</td>\n",
       "      <td>39232</td>\n",
       "      <td>259 Ridge Way\\n\\n                Flowood, MS 3...</td>\n",
       "      <td>Mattress Firm Lakeland - Bed &amp; Mattress Store ...</td>\n",
       "      <td>Mattress Firm Lakeland</td>\n",
       "      <td>http://stores.mattressfirm.com/ms/flowood/matt...</td>\n",
       "      <td>Hours\\n                \\nMon - Thu: 10:00 am -...</td>\n",
       "      <td>259 Ridge Way</td>\n",
       "      <td>Flowood, MS 39232</td>\n",
       "      <td>259 Ridge Way, Ridgeland, Mississippi, 39232</td>\n",
       "    </tr>\n",
       "  </tbody>\n",
       "</table>\n",
       "</div>"
      ],
      "text/plain": [
       "        States       City Zip Code  \\\n",
       "0  Mississippi  Ridgeland    39208   \n",
       "1  Mississippi  Ridgeland    39232   \n",
       "\n",
       "                                             Address  \\\n",
       "0  113 Airport Rd\\n\\n                Pearl, MS 39208   \n",
       "1  259 Ridge Way\\n\\n                Flowood, MS 3...   \n",
       "\n",
       "                                              h1_tag  \\\n",
       "0  Mattress Firm D. Noblin Clearance Center - Bed...   \n",
       "1  Mattress Firm Lakeland - Bed & Mattress Store ...   \n",
       "\n",
       "                              Location_Name  \\\n",
       "0  Mattress Firm D. Noblin Clearance Center   \n",
       "1                    Mattress Firm Lakeland   \n",
       "\n",
       "                                          Store-href  \\\n",
       "0  http://stores.mattressfirm.com/ms/pearl/mattre...   \n",
       "1  http://stores.mattressfirm.com/ms/flowood/matt...   \n",
       "\n",
       "                                               hours  Address_line_1  \\\n",
       "0  Hours\\n                \\nMon - Thu: 10:00 am -...  113 Airport Rd   \n",
       "1  Hours\\n                \\nMon - Thu: 10:00 am -...   259 Ridge Way   \n",
       "\n",
       "      Address_line_2                                     search_key  \n",
       "0    Pearl, MS 39208  113 Airport Rd, Ridgeland, Mississippi, 39208  \n",
       "1  Flowood, MS 39232   259 Ridge Way, Ridgeland, Mississippi, 39232  "
      ]
     },
     "execution_count": 29,
     "metadata": {},
     "output_type": "execute_result"
    }
   ],
   "source": [
    "MF_Address.head(2)"
   ]
  },
  {
   "cell_type": "code",
   "execution_count": 5,
   "metadata": {},
   "outputs": [
    {
     "data": {
      "text/plain": [
       "(2370, 8)"
      ]
     },
     "execution_count": 5,
     "metadata": {},
     "output_type": "execute_result"
    }
   ],
   "source": [
    "MF_Address.shape"
   ]
  },
  {
   "cell_type": "code",
   "execution_count": null,
   "metadata": {
    "collapsed": true
   },
   "outputs": [],
   "source": []
  }
 ],
 "metadata": {
  "kernelspec": {
   "display_name": "Python 3",
   "language": "python",
   "name": "python3"
  },
  "language_info": {
   "codemirror_mode": {
    "name": "ipython",
    "version": 3
   },
   "file_extension": ".py",
   "mimetype": "text/x-python",
   "name": "python",
   "nbconvert_exporter": "python",
   "pygments_lexer": "ipython3",
   "version": "3.6.1"
  }
 },
 "nbformat": 4,
 "nbformat_minor": 2
}
