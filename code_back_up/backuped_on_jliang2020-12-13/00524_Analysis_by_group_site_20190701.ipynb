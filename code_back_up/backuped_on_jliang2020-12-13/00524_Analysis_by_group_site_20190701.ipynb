{
 "cells": [
  {
   "cell_type": "code",
   "execution_count": 1,
   "metadata": {},
   "outputs": [
    {
     "data": {
      "text/plain": [
       "'/home/jian/Projects/Big_Lots/Analysis/2019_Q2/Big_Lots_2019Q2_DCM_Frequency'"
      ]
     },
     "execution_count": 1,
     "metadata": {},
     "output_type": "execute_result"
    }
   ],
   "source": [
    "import pandas as pd\n",
    "import numpy as np\n",
    "import datetime\n",
    "import os\n",
    "import glob\n",
    "import gc\n",
    "os.getcwd()\n",
    "\n",
    "# 5 tables in different levels"
   ]
  },
  {
   "cell_type": "code",
   "execution_count": 2,
   "metadata": {
    "collapsed": true
   },
   "outputs": [],
   "source": [
    "start_date=datetime.date(2019,5,5)\n",
    "end_date=datetime.date(2019,6,23)\n"
   ]
  },
  {
   "cell_type": "code",
   "execution_count": 4,
   "metadata": {
    "collapsed": true
   },
   "outputs": [],
   "source": [
    "dcm_files_list=glob.glob(\"/home/jian/Projects/Big_Lots/Analysis/2019_Q2/Big_Lots_2019Q2_DCM_Frequency/BL_DCM_data/*.csv\")\n",
    "\n",
    "dcm_impr_list=sorted([x for x in dcm_files_list if \"impr\" in x])\n",
    "dcm_click_list=sorted([x for x in dcm_files_list if \"click\" in x])\n"
   ]
  },
  {
   "cell_type": "code",
   "execution_count": 7,
   "metadata": {
    "collapsed": true
   },
   "outputs": [],
   "source": [
    "df_impr=pd.DataFrame()\n",
    "df_click=pd.DataFrame()\n",
    "\n",
    "for file in dcm_impr_list:\n",
    "    df=pd.read_csv(file,dtype=str,usecols=['Event Time','User ID','Advertiser ID','Campaign ID','Site ID (DCM)','Placement ID','Impression ID'])\n",
    "    df_impr=df_impr.append(df)\n",
    "    \n",
    "    \n",
    "for file in dcm_click_list:\n",
    "    df=pd.read_csv(file,dtype=str,usecols=['Event Time','User ID','Advertiser ID','Campaign ID','Site ID (DCM)','Placement ID','Impression ID'])\n",
    "    df_click=df_click.append(df)\n",
    "\n",
    "\n"
   ]
  },
  {
   "cell_type": "code",
   "execution_count": 8,
   "metadata": {
    "collapsed": true
   },
   "outputs": [],
   "source": [
    "df_impr=df_impr.reset_index()\n",
    "df_click=df_click.reset_index()\n",
    "\n",
    "del df_impr['index']\n",
    "del df_click['index']\n",
    "\n",
    "df_impr['Event Time']=pd.to_datetime(df_impr['Event Time'],unit=\"us\")\n",
    "df_click['Event Time']=pd.to_datetime(df_click['Event Time'],unit=\"us\")\n",
    "\n",
    "df_impr['ETS_Time']=df_impr['Event Time'].apply(lambda x: x-datetime.timedelta(hours=5))\n",
    "df_click['ETS_Time']=df_click['Event Time'].apply(lambda x: x-datetime.timedelta(hours=5))\n",
    "\n",
    "df_impr['impression']=1\n",
    "df_click['click']=1"
   ]
  },
  {
   "cell_type": "code",
   "execution_count": 9,
   "metadata": {
    "collapsed": true
   },
   "outputs": [],
   "source": [
    "df_impr=df_impr[df_impr['ETS_Time']>=start_date]\n",
    "df_impr=df_impr[df_impr['ETS_Time']<=end_date]\n",
    "\n",
    "df_click=df_click[df_click['ETS_Time']>=start_date]\n",
    "df_click=df_click[df_click['ETS_Time']<=end_date]\n",
    "\n",
    "df_impr=df_impr.reset_index()\n",
    "del df_impr['index']\n",
    "df_click=df_click.reset_index()\n",
    "del df_click['index']"
   ]
  },
  {
   "cell_type": "code",
   "execution_count": 10,
   "metadata": {
    "collapsed": true
   },
   "outputs": [],
   "source": [
    "mapping_placement=pd.read_csv(\"/home/jian/Projects/Big_Lots/Analysis/2019_Q2/Big_Lots_2019Q2_DCM_Frequency/mapping_site_placement/placements_mapping_JL_2019-06-27.csv\")\n",
    "mapping_site=pd.read_csv(\"/home/jian/Projects/Big_Lots/Analysis/2019_Q2/Big_Lots_2019Q2_DCM_Frequency/mapping_site_placement/sites_mapping_JL_2019-06-27.csv\")\n",
    "\n",
    "mapping_site_only=mapping_site[['Site ID (DCM)','Site (DCM)']].drop_duplicates()\n",
    "mapping_site_only=mapping_site_only.sort_values([\"Site ID (DCM)\",\"Site (DCM)\"]).drop_duplicates(\"Site ID (DCM)\")"
   ]
  },
  {
   "cell_type": "code",
   "execution_count": 11,
   "metadata": {
    "collapsed": true
   },
   "outputs": [],
   "source": [
    "df_impr_agg=df_impr.groupby(['User ID','Advertiser ID','Campaign ID','Site ID (DCM)','Placement ID'])['impression'].sum().to_frame().reset_index()\n",
    "df_click_agg=df_click.groupby(['User ID','Advertiser ID','Campaign ID','Site ID (DCM)','Placement ID'])['click'].sum().to_frame().reset_index()\n"
   ]
  },
  {
   "cell_type": "code",
   "execution_count": 12,
   "metadata": {
    "collapsed": true
   },
   "outputs": [],
   "source": [
    "df_click_and_impr_agg=pd.merge(df_impr_agg,df_click_agg,on=['User ID','Advertiser ID','Campaign ID','Site ID (DCM)','Placement ID'],how=\"outer\")\n",
    "df_click_and_impr_agg['impression']=df_click_and_impr_agg['impression'].fillna(0)\n",
    "df_click_and_impr_agg['click']=df_click_and_impr_agg['click'].fillna(0)\n",
    "df_click_and_impr_agg['impr_and_click']=df_click_and_impr_agg['impression']+df_click_and_impr_agg['click']"
   ]
  },
  {
   "cell_type": "code",
   "execution_count": 13,
   "metadata": {},
   "outputs": [
    {
     "data": {
      "text/plain": [
       "(12264134, 5)"
      ]
     },
     "execution_count": 13,
     "metadata": {},
     "output_type": "execute_result"
    }
   ],
   "source": [
    "df_id_site_impr_click=df_click_and_impr_agg.groupby(['User ID','Site ID (DCM)'])['impression','click','impr_and_click'].sum().reset_index()\n",
    "df_id_site_impr_click.shape"
   ]
  },
  {
   "cell_type": "code",
   "execution_count": 14,
   "metadata": {},
   "outputs": [
    {
     "data": {
      "text/plain": [
       "(12264134, 6)"
      ]
     },
     "execution_count": 14,
     "metadata": {},
     "output_type": "execute_result"
    }
   ],
   "source": [
    "df_id_site_impr_click['Site ID (DCM)']=df_id_site_impr_click['Site ID (DCM)'].astype(str)\n",
    "mapping_site_only['Site ID (DCM)']=mapping_site_only['Site ID (DCM)'].astype(str)\n",
    "df_id_site_impr_click=pd.merge(df_id_site_impr_click,mapping_site_only,on=\"Site ID (DCM)\",how=\"left\")\n",
    "df_id_site_impr_click.shape"
   ]
  },
  {
   "cell_type": "code",
   "execution_count": 15,
   "metadata": {},
   "outputs": [
    {
     "data": {
      "text/html": [
       "<div>\n",
       "<style>\n",
       "    .dataframe thead tr:only-child th {\n",
       "        text-align: right;\n",
       "    }\n",
       "\n",
       "    .dataframe thead th {\n",
       "        text-align: left;\n",
       "    }\n",
       "\n",
       "    .dataframe tbody tr th {\n",
       "        vertical-align: top;\n",
       "    }\n",
       "</style>\n",
       "<table border=\"1\" class=\"dataframe\">\n",
       "  <thead>\n",
       "    <tr style=\"text-align: right;\">\n",
       "      <th></th>\n",
       "      <th>User ID</th>\n",
       "      <th>Site ID (DCM)</th>\n",
       "      <th>impression</th>\n",
       "      <th>click</th>\n",
       "      <th>impr_and_click</th>\n",
       "      <th>Site (DCM)</th>\n",
       "    </tr>\n",
       "  </thead>\n",
       "  <tbody>\n",
       "    <tr>\n",
       "      <th>0</th>\n",
       "      <td>AMsySZY----Lex1O5Fk3ORX9cadI</td>\n",
       "      <td>5174983</td>\n",
       "      <td>1.0</td>\n",
       "      <td>0.0</td>\n",
       "      <td>1.0</td>\n",
       "      <td>Stack Adapt</td>\n",
       "    </tr>\n",
       "    <tr>\n",
       "      <th>1</th>\n",
       "      <td>AMsySZY---0BYUKWdkdTG_kvwMnP</td>\n",
       "      <td>5232462</td>\n",
       "      <td>1.0</td>\n",
       "      <td>0.0</td>\n",
       "      <td>1.0</td>\n",
       "      <td>MobileFuse</td>\n",
       "    </tr>\n",
       "  </tbody>\n",
       "</table>\n",
       "</div>"
      ],
      "text/plain": [
       "                        User ID Site ID (DCM)  impression  click  \\\n",
       "0  AMsySZY----Lex1O5Fk3ORX9cadI       5174983         1.0    0.0   \n",
       "1  AMsySZY---0BYUKWdkdTG_kvwMnP       5232462         1.0    0.0   \n",
       "\n",
       "   impr_and_click   Site (DCM)  \n",
       "0             1.0  Stack Adapt  \n",
       "1             1.0   MobileFuse  "
      ]
     },
     "execution_count": 15,
     "metadata": {},
     "output_type": "execute_result"
    }
   ],
   "source": [
    "df_id_site_impr_click.head(2)"
   ]
  },
  {
   "cell_type": "markdown",
   "metadata": {},
   "source": [
    "# Add layer of Rewards members"
   ]
  },
  {
   "cell_type": "code",
   "execution_count": 18,
   "metadata": {},
   "outputs": [
    {
     "data": {
      "text/plain": [
       "11961511"
      ]
     },
     "execution_count": 18,
     "metadata": {},
     "output_type": "execute_result"
    }
   ],
   "source": [
    "Google_LR_mapping=pd.read_csv(\"/home/jian/Projects/Big_Lots/Analysis/2019_Q2/Big_Lots_2019Q2_DCM_Frequency/mapping_GID_IDL/BL_merged_mapping_both_20190203_20190623_JL_2019-06-29.csv\",dtype=str)\n",
    "Google_LR_mapping=Google_LR_mapping.drop_duplicates()\n",
    "print(Google_LR_mapping.shape)\n",
    "\n",
    "LR_BL_mapping_2019Q1=pd.read_table('/home/jian/Projects/Big_Lots/Analysis/2019_Q2/Big_Lots_2019Q2_DCM_Frequency/mapping_2019Q1_BL_LR/CL_BigLots_BL_mapping_file_2019Q1_JL_2019-05-14_20190516_111931_0000.psv.gz',\n",
    "                                   dtype=str,sep=\"|\",usecols=['Customer_Link','customer_id_hashed']).drop_duplicates()\n",
    "print(LR_BL_mapping_2019Q1.shape)"
   ]
  },
  {
   "cell_type": "code",
   "execution_count": 47,
   "metadata": {},
   "outputs": [
    {
     "data": {
      "text/html": [
       "<div>\n",
       "<style>\n",
       "    .dataframe thead tr:only-child th {\n",
       "        text-align: right;\n",
       "    }\n",
       "\n",
       "    .dataframe thead th {\n",
       "        text-align: left;\n",
       "    }\n",
       "\n",
       "    .dataframe tbody tr th {\n",
       "        vertical-align: top;\n",
       "    }\n",
       "</style>\n",
       "<table border=\"1\" class=\"dataframe\">\n",
       "  <thead>\n",
       "    <tr style=\"text-align: right;\">\n",
       "      <th></th>\n",
       "      <th>User ID</th>\n",
       "      <th>Customer_Link</th>\n",
       "    </tr>\n",
       "  </thead>\n",
       "  <tbody>\n",
       "    <tr>\n",
       "      <th>0</th>\n",
       "      <td>AMsySZY----pv7beTY8m8kTkF-1e</td>\n",
       "      <td>1</td>\n",
       "    </tr>\n",
       "    <tr>\n",
       "      <th>9970285</th>\n",
       "      <td>AMsySZadEpc3kOV3FdY-IcrfrU21</td>\n",
       "      <td>1</td>\n",
       "    </tr>\n",
       "    <tr>\n",
       "      <th>9970286</th>\n",
       "      <td>AMsySZadEpd_lsZX-FfDx53kiTO-</td>\n",
       "      <td>1</td>\n",
       "    </tr>\n",
       "    <tr>\n",
       "      <th>9970288</th>\n",
       "      <td>AMsySZadEphF6NueYns-awE1qlSZ</td>\n",
       "      <td>1</td>\n",
       "    </tr>\n",
       "    <tr>\n",
       "      <th>9970289</th>\n",
       "      <td>AMsySZadEpheQ3zHtPpCwXCoyJ4b</td>\n",
       "      <td>1</td>\n",
       "    </tr>\n",
       "  </tbody>\n",
       "</table>\n",
       "</div>"
      ],
      "text/plain": [
       "                              User ID  Customer_Link\n",
       "0        AMsySZY----pv7beTY8m8kTkF-1e              1\n",
       "9970285  AMsySZadEpc3kOV3FdY-IcrfrU21              1\n",
       "9970286  AMsySZadEpd_lsZX-FfDx53kiTO-              1\n",
       "9970288  AMsySZadEphF6NueYns-awE1qlSZ              1\n",
       "9970289  AMsySZadEpheQ3zHtPpCwXCoyJ4b              1"
      ]
     },
     "execution_count": 47,
     "metadata": {},
     "output_type": "execute_result"
    }
   ],
   "source": [
    "userid_by_idlcount=Google_LR_mapping.groupby(\"User ID\")['Customer_Link'].nunique().to_frame().reset_index().sort_values(\"Customer_Link\",ascending=False)\n",
    "userid_by_idlcount.head(5)"
   ]
  },
  {
   "cell_type": "code",
   "execution_count": 57,
   "metadata": {},
   "outputs": [
    {
     "data": {
      "text/plain": [
       "(486431, 3)"
      ]
     },
     "execution_count": 57,
     "metadata": {},
     "output_type": "execute_result"
    }
   ],
   "source": [
    "userid_by_idlcount[userid_by_idlcount['Customer_Link']!=1].shape"
   ]
  },
  {
   "cell_type": "code",
   "execution_count": 56,
   "metadata": {},
   "outputs": [
    {
     "data": {
      "text/html": [
       "<div>\n",
       "<style>\n",
       "    .dataframe thead tr:only-child th {\n",
       "        text-align: right;\n",
       "    }\n",
       "\n",
       "    .dataframe thead th {\n",
       "        text-align: left;\n",
       "    }\n",
       "\n",
       "    .dataframe tbody tr th {\n",
       "        vertical-align: top;\n",
       "    }\n",
       "</style>\n",
       "<table border=\"1\" class=\"dataframe\">\n",
       "  <thead>\n",
       "    <tr style=\"text-align: right;\">\n",
       "      <th></th>\n",
       "      <th>Customer_Link</th>\n",
       "      <th>User ID</th>\n",
       "    </tr>\n",
       "  </thead>\n",
       "  <tbody>\n",
       "    <tr>\n",
       "      <th>94338</th>\n",
       "      <td>XY1468xcJFLltNZhNOBNcifsl4Nv2FOinW2I74vOIK1xTOThs</td>\n",
       "      <td>AMsySZa8BoiK3yN4C-vF0pgLHg6s</td>\n",
       "    </tr>\n",
       "    <tr>\n",
       "      <th>8035848</th>\n",
       "      <td>XY1468BWmsaptl83iNRQeTgHofjCqSiJHS8vSRp0xKTYyFoKQ</td>\n",
       "      <td>AMsySZa8BoiK3yN4C-vF0pgLHg6s</td>\n",
       "    </tr>\n",
       "    <tr>\n",
       "      <th>8284200</th>\n",
       "      <td>XY1468WZ8scGZTSbEaKjN9RhhTiE0ZvdiQGB7KG8vMCql2zms</td>\n",
       "      <td>AMsySZa8BoiK3yN4C-vF0pgLHg6s</td>\n",
       "    </tr>\n",
       "    <tr>\n",
       "      <th>9793743</th>\n",
       "      <td>XY146816b6hxgey2dnOEmaMaQmiVaE5GfcfPxK4B7Hu7DCR4s</td>\n",
       "      <td>AMsySZa8BoiK3yN4C-vF0pgLHg6s</td>\n",
       "    </tr>\n",
       "    <tr>\n",
       "      <th>11354100</th>\n",
       "      <td>XY1468evq1DjN1QxNvMhOl7HAY463pu9NmbO7G4VBwo79hvzs</td>\n",
       "      <td>AMsySZa8BoiK3yN4C-vF0pgLHg6s</td>\n",
       "    </tr>\n",
       "    <tr>\n",
       "      <th>11772375</th>\n",
       "      <td>XY1468jVU81UDqMKN9snCm0zvtKG5MMlyWHIFXJJwM3iJYj_Q</td>\n",
       "      <td>AMsySZa8BoiK3yN4C-vF0pgLHg6s</td>\n",
       "    </tr>\n",
       "    <tr>\n",
       "      <th>12665646</th>\n",
       "      <td>XY1468f5TuPnJjrNE3uNYf03aD6Vh8_IitaKY3f7Nw5J0SWLE</td>\n",
       "      <td>AMsySZa8BoiK3yN4C-vF0pgLHg6s</td>\n",
       "    </tr>\n",
       "    <tr>\n",
       "      <th>13105221</th>\n",
       "      <td>XY1468K-1jVivXxkFiTw9o32EWri9kKvUJjGscR-QcOBDyBCE</td>\n",
       "      <td>AMsySZa8BoiK3yN4C-vF0pgLHg6s</td>\n",
       "    </tr>\n",
       "    <tr>\n",
       "      <th>13257366</th>\n",
       "      <td>XY1468GaTQubOutMe5_9C9_pt_pCTMqw7D6k02TKNbWg9Aamk</td>\n",
       "      <td>AMsySZa8BoiK3yN4C-vF0pgLHg6s</td>\n",
       "    </tr>\n",
       "    <tr>\n",
       "      <th>13473247</th>\n",
       "      <td>XY1468B1juQjnyH8zPqIVMPENb4BJD8T_kH_a05fXc1aU1bP4</td>\n",
       "      <td>AMsySZa8BoiK3yN4C-vF0pgLHg6s</td>\n",
       "    </tr>\n",
       "    <tr>\n",
       "      <th>14121145</th>\n",
       "      <td>XY1468LbVTJlxL6PPBBzhd8w_wrmFzaVaK9x-D5JSb7garPxc</td>\n",
       "      <td>AMsySZa8BoiK3yN4C-vF0pgLHg6s</td>\n",
       "    </tr>\n",
       "    <tr>\n",
       "      <th>14702155</th>\n",
       "      <td>XY1468YV6x0-vWEgNkSR58n2k0JsbDT67GYAYq0n3dlQQ6uao</td>\n",
       "      <td>AMsySZa8BoiK3yN4C-vF0pgLHg6s</td>\n",
       "    </tr>\n",
       "    <tr>\n",
       "      <th>14876329</th>\n",
       "      <td>XY1468PQ3fC8MVr2TFliOzB7UIoNVgqhizOfjtTtn6DCdEsUQ</td>\n",
       "      <td>AMsySZa8BoiK3yN4C-vF0pgLHg6s</td>\n",
       "    </tr>\n",
       "  </tbody>\n",
       "</table>\n",
       "</div>"
      ],
      "text/plain": [
       "                                              Customer_Link  \\\n",
       "94338     XY1468xcJFLltNZhNOBNcifsl4Nv2FOinW2I74vOIK1xTOThs   \n",
       "8035848   XY1468BWmsaptl83iNRQeTgHofjCqSiJHS8vSRp0xKTYyFoKQ   \n",
       "8284200   XY1468WZ8scGZTSbEaKjN9RhhTiE0ZvdiQGB7KG8vMCql2zms   \n",
       "9793743   XY146816b6hxgey2dnOEmaMaQmiVaE5GfcfPxK4B7Hu7DCR4s   \n",
       "11354100  XY1468evq1DjN1QxNvMhOl7HAY463pu9NmbO7G4VBwo79hvzs   \n",
       "11772375  XY1468jVU81UDqMKN9snCm0zvtKG5MMlyWHIFXJJwM3iJYj_Q   \n",
       "12665646  XY1468f5TuPnJjrNE3uNYf03aD6Vh8_IitaKY3f7Nw5J0SWLE   \n",
       "13105221  XY1468K-1jVivXxkFiTw9o32EWri9kKvUJjGscR-QcOBDyBCE   \n",
       "13257366  XY1468GaTQubOutMe5_9C9_pt_pCTMqw7D6k02TKNbWg9Aamk   \n",
       "13473247  XY1468B1juQjnyH8zPqIVMPENb4BJD8T_kH_a05fXc1aU1bP4   \n",
       "14121145  XY1468LbVTJlxL6PPBBzhd8w_wrmFzaVaK9x-D5JSb7garPxc   \n",
       "14702155  XY1468YV6x0-vWEgNkSR58n2k0JsbDT67GYAYq0n3dlQQ6uao   \n",
       "14876329  XY1468PQ3fC8MVr2TFliOzB7UIoNVgqhizOfjtTtn6DCdEsUQ   \n",
       "\n",
       "                               User ID  \n",
       "94338     AMsySZa8BoiK3yN4C-vF0pgLHg6s  \n",
       "8035848   AMsySZa8BoiK3yN4C-vF0pgLHg6s  \n",
       "8284200   AMsySZa8BoiK3yN4C-vF0pgLHg6s  \n",
       "9793743   AMsySZa8BoiK3yN4C-vF0pgLHg6s  \n",
       "11354100  AMsySZa8BoiK3yN4C-vF0pgLHg6s  \n",
       "11772375  AMsySZa8BoiK3yN4C-vF0pgLHg6s  \n",
       "12665646  AMsySZa8BoiK3yN4C-vF0pgLHg6s  \n",
       "13105221  AMsySZa8BoiK3yN4C-vF0pgLHg6s  \n",
       "13257366  AMsySZa8BoiK3yN4C-vF0pgLHg6s  \n",
       "13473247  AMsySZa8BoiK3yN4C-vF0pgLHg6s  \n",
       "14121145  AMsySZa8BoiK3yN4C-vF0pgLHg6s  \n",
       "14702155  AMsySZa8BoiK3yN4C-vF0pgLHg6s  \n",
       "14876329  AMsySZa8BoiK3yN4C-vF0pgLHg6s  "
      ]
     },
     "execution_count": 56,
     "metadata": {},
     "output_type": "execute_result"
    }
   ],
   "source": [
    "Google_LR_mapping[Google_LR_mapping['User ID']==\"AMsySZa8BoiK3yN4C-vF0pgLHg6s\"]"
   ]
  },
  {
   "cell_type": "code",
   "execution_count": 37,
   "metadata": {},
   "outputs": [
    {
     "data": {
      "text/plain": [
       "(15570022, 2)"
      ]
     },
     "execution_count": 37,
     "metadata": {},
     "output_type": "execute_result"
    }
   ],
   "source": [
    "Google_LR_mapping.shape"
   ]
  },
  {
   "cell_type": "code",
   "execution_count": 38,
   "metadata": {},
   "outputs": [
    {
     "data": {
      "text/html": [
       "<div>\n",
       "<style>\n",
       "    .dataframe thead tr:only-child th {\n",
       "        text-align: right;\n",
       "    }\n",
       "\n",
       "    .dataframe thead th {\n",
       "        text-align: left;\n",
       "    }\n",
       "\n",
       "    .dataframe tbody tr th {\n",
       "        vertical-align: top;\n",
       "    }\n",
       "</style>\n",
       "<table border=\"1\" class=\"dataframe\">\n",
       "  <thead>\n",
       "    <tr style=\"text-align: right;\">\n",
       "      <th></th>\n",
       "      <th>Customer_Link</th>\n",
       "      <th>User ID</th>\n",
       "    </tr>\n",
       "  </thead>\n",
       "  <tbody>\n",
       "    <tr>\n",
       "      <th>0</th>\n",
       "      <td>XY1468H7T0H8Fs_SvVpVceBEUpqSNmFgpKXFRLOYBLp9ooDJI</td>\n",
       "      <td>AMsySZZXZEhBO4_kLZyEsNpnXzDC</td>\n",
       "    </tr>\n",
       "    <tr>\n",
       "      <th>1</th>\n",
       "      <td>XY1468iw-6onyz7TTQ30QLPvDYuN9rvYN5FtYbcpEZYsF4vpY</td>\n",
       "      <td>AMsySZZZIURPM1l9umy3cVaRUDnR</td>\n",
       "    </tr>\n",
       "  </tbody>\n",
       "</table>\n",
       "</div>"
      ],
      "text/plain": [
       "                                       Customer_Link  \\\n",
       "0  XY1468H7T0H8Fs_SvVpVceBEUpqSNmFgpKXFRLOYBLp9ooDJI   \n",
       "1  XY1468iw-6onyz7TTQ30QLPvDYuN9rvYN5FtYbcpEZYsF4vpY   \n",
       "\n",
       "                        User ID  \n",
       "0  AMsySZZXZEhBO4_kLZyEsNpnXzDC  \n",
       "1  AMsySZZZIURPM1l9umy3cVaRUDnR  "
      ]
     },
     "execution_count": 38,
     "metadata": {},
     "output_type": "execute_result"
    }
   ],
   "source": [
    "Google_LR_mapping.head(2)"
   ]
  },
  {
   "cell_type": "code",
   "execution_count": 39,
   "metadata": {},
   "outputs": [
    {
     "data": {
      "text/plain": [
       "15078674"
      ]
     },
     "execution_count": 39,
     "metadata": {},
     "output_type": "execute_result"
    }
   ],
   "source": [
    "Google_LR_mapping['User ID'].nunique()"
   ]
  },
  {
   "cell_type": "code",
   "execution_count": 49,
   "metadata": {},
   "outputs": [
    {
     "data": {
      "text/plain": [
       "12119057"
      ]
     },
     "execution_count": 49,
     "metadata": {},
     "output_type": "execute_result"
    }
   ],
   "source": [
    "Google_LR_mapping['Customer_Link'].nunique()"
   ]
  },
  {
   "cell_type": "code",
   "execution_count": null,
   "metadata": {
    "collapsed": true
   },
   "outputs": [],
   "source": []
  },
  {
   "cell_type": "code",
   "execution_count": null,
   "metadata": {
    "collapsed": true
   },
   "outputs": [],
   "source": []
  },
  {
   "cell_type": "code",
   "execution_count": null,
   "metadata": {
    "collapsed": true
   },
   "outputs": [],
   "source": []
  },
  {
   "cell_type": "code",
   "execution_count": 43,
   "metadata": {},
   "outputs": [
    {
     "data": {
      "text/html": [
       "<div>\n",
       "<style>\n",
       "    .dataframe thead tr:only-child th {\n",
       "        text-align: right;\n",
       "    }\n",
       "\n",
       "    .dataframe thead th {\n",
       "        text-align: left;\n",
       "    }\n",
       "\n",
       "    .dataframe tbody tr th {\n",
       "        vertical-align: top;\n",
       "    }\n",
       "</style>\n",
       "<table border=\"1\" class=\"dataframe\">\n",
       "  <thead>\n",
       "    <tr style=\"text-align: right;\">\n",
       "      <th></th>\n",
       "      <th>Customer_Link</th>\n",
       "      <th>customer_id_hashed</th>\n",
       "    </tr>\n",
       "  </thead>\n",
       "  <tbody>\n",
       "    <tr>\n",
       "      <th>0</th>\n",
       "      <td>Xi1468nfC3a_gGXZVi7-7naeMJQiaRuoQjh1l0Z7f2pekG...</td>\n",
       "      <td>57e0561be9e66bb2e3d834ae1c87b51ff460d498446d69...</td>\n",
       "    </tr>\n",
       "    <tr>\n",
       "      <th>1</th>\n",
       "      <td>XY1468rh0PXac0u_86Vh2QhqH1Z0BkT-CJlnfc9Hp69rbJGhM</td>\n",
       "      <td>5a692ab06280b862e40870d622abbf64c3ec663efc1f8a...</td>\n",
       "    </tr>\n",
       "  </tbody>\n",
       "</table>\n",
       "</div>"
      ],
      "text/plain": [
       "                                       Customer_Link  \\\n",
       "0  Xi1468nfC3a_gGXZVi7-7naeMJQiaRuoQjh1l0Z7f2pekG...   \n",
       "1  XY1468rh0PXac0u_86Vh2QhqH1Z0BkT-CJlnfc9Hp69rbJGhM   \n",
       "\n",
       "                                  customer_id_hashed  \n",
       "0  57e0561be9e66bb2e3d834ae1c87b51ff460d498446d69...  \n",
       "1  5a692ab06280b862e40870d622abbf64c3ec663efc1f8a...  "
      ]
     },
     "execution_count": 43,
     "metadata": {},
     "output_type": "execute_result"
    }
   ],
   "source": [
    "LR_BL_mapping_2019Q1.head(2)"
   ]
  },
  {
   "cell_type": "code",
   "execution_count": 42,
   "metadata": {},
   "outputs": [
    {
     "data": {
      "text/plain": [
       "20753480"
      ]
     },
     "execution_count": 42,
     "metadata": {},
     "output_type": "execute_result"
    }
   ],
   "source": [
    "LR_BL_mapping_2019Q1['customer_id_hashed'].nunique()"
   ]
  },
  {
   "cell_type": "code",
   "execution_count": 44,
   "metadata": {},
   "outputs": [
    {
     "data": {
      "text/plain": [
       "20514334"
      ]
     },
     "execution_count": 44,
     "metadata": {},
     "output_type": "execute_result"
    }
   ],
   "source": [
    "LR_BL_mapping_2019Q1['Customer_Link'].nunique()"
   ]
  },
  {
   "cell_type": "code",
   "execution_count": 45,
   "metadata": {},
   "outputs": [
    {
     "data": {
      "text/plain": [
       "(20765842, 2)"
      ]
     },
     "execution_count": 45,
     "metadata": {},
     "output_type": "execute_result"
    }
   ],
   "source": [
    "LR_BL_mapping_2019Q1.shape"
   ]
  },
  {
   "cell_type": "code",
   "execution_count": 46,
   "metadata": {},
   "outputs": [
    {
     "data": {
      "text/plain": [
       "(20765842, 2)"
      ]
     },
     "execution_count": 46,
     "metadata": {},
     "output_type": "execute_result"
    }
   ],
   "source": [
    "LR_BL_mapping_2019Q1.drop_duplicates().shape"
   ]
  },
  {
   "cell_type": "code",
   "execution_count": 36,
   "metadata": {},
   "outputs": [
    {
     "name": "stdout",
     "output_type": "stream",
     "text": [
      "(15570022, 2)\n",
      "(20765842, 2)\n"
     ]
    }
   ],
   "source": [
    "df_id_site_impr_click=pd.merge(df_id_site_impr_click,)"
   ]
  },
  {
   "cell_type": "markdown",
   "metadata": {},
   "source": [
    "# Add layer of Rewards Shoppers"
   ]
  },
  {
   "cell_type": "code",
   "execution_count": 16,
   "metadata": {
    "collapsed": true
   },
   "outputs": [],
   "source": [
    "# Sales Trans ID counts"
   ]
  },
  {
   "cell_type": "code",
   "execution_count": 28,
   "metadata": {},
   "outputs": [
    {
     "data": {
      "text/plain": [
       "(15570022, 2)"
      ]
     },
     "execution_count": 28,
     "metadata": {},
     "output_type": "execute_result"
    }
   ],
   "source": []
  },
  {
   "cell_type": "code",
   "execution_count": 34,
   "metadata": {},
   "outputs": [],
   "source": []
  },
  {
   "cell_type": "code",
   "execution_count": 35,
   "metadata": {},
   "outputs": [
    {
     "data": {
      "text/html": [
       "<div>\n",
       "<style>\n",
       "    .dataframe thead tr:only-child th {\n",
       "        text-align: right;\n",
       "    }\n",
       "\n",
       "    .dataframe thead th {\n",
       "        text-align: left;\n",
       "    }\n",
       "\n",
       "    .dataframe tbody tr th {\n",
       "        vertical-align: top;\n",
       "    }\n",
       "</style>\n",
       "<table border=\"1\" class=\"dataframe\">\n",
       "  <thead>\n",
       "    <tr style=\"text-align: right;\">\n",
       "      <th></th>\n",
       "      <th>Customer_Link</th>\n",
       "      <th>User ID</th>\n",
       "    </tr>\n",
       "  </thead>\n",
       "  <tbody>\n",
       "    <tr>\n",
       "      <th>0</th>\n",
       "      <td>XY1468H7T0H8Fs_SvVpVceBEUpqSNmFgpKXFRLOYBLp9ooDJI</td>\n",
       "      <td>AMsySZZXZEhBO4_kLZyEsNpnXzDC</td>\n",
       "    </tr>\n",
       "    <tr>\n",
       "      <th>1</th>\n",
       "      <td>XY1468iw-6onyz7TTQ30QLPvDYuN9rvYN5FtYbcpEZYsF4vpY</td>\n",
       "      <td>AMsySZZZIURPM1l9umy3cVaRUDnR</td>\n",
       "    </tr>\n",
       "  </tbody>\n",
       "</table>\n",
       "</div>"
      ],
      "text/plain": [
       "                                       Customer_Link  \\\n",
       "0  XY1468H7T0H8Fs_SvVpVceBEUpqSNmFgpKXFRLOYBLp9ooDJI   \n",
       "1  XY1468iw-6onyz7TTQ30QLPvDYuN9rvYN5FtYbcpEZYsF4vpY   \n",
       "\n",
       "                        User ID  \n",
       "0  AMsySZZXZEhBO4_kLZyEsNpnXzDC  \n",
       "1  AMsySZZZIURPM1l9umy3cVaRUDnR  "
      ]
     },
     "execution_count": 35,
     "metadata": {},
     "output_type": "execute_result"
    }
   ],
   "source": [
    "Google_LR_mapping.head(2)"
   ]
  },
  {
   "cell_type": "code",
   "execution_count": null,
   "metadata": {
    "collapsed": true
   },
   "outputs": [],
   "source": []
  },
  {
   "cell_type": "code",
   "execution_count": null,
   "metadata": {
    "collapsed": true
   },
   "outputs": [],
   "source": []
  },
  {
   "cell_type": "code",
   "execution_count": null,
   "metadata": {
    "collapsed": true
   },
   "outputs": [],
   "source": []
  },
  {
   "cell_type": "markdown",
   "metadata": {},
   "source": [
    "# Add layer of Rewards Segments"
   ]
  },
  {
   "cell_type": "code",
   "execution_count": 17,
   "metadata": {
    "collapsed": true
   },
   "outputs": [],
   "source": [
    "# Q2 regular segments\n",
    "# No new sign ups because of the unavailibility of the mapping from BL id to Google User ID"
   ]
  },
  {
   "cell_type": "code",
   "execution_count": null,
   "metadata": {
    "collapsed": true
   },
   "outputs": [],
   "source": []
  },
  {
   "cell_type": "code",
   "execution_count": null,
   "metadata": {
    "collapsed": true
   },
   "outputs": [],
   "source": []
  },
  {
   "cell_type": "code",
   "execution_count": null,
   "metadata": {
    "collapsed": true
   },
   "outputs": [],
   "source": []
  },
  {
   "cell_type": "code",
   "execution_count": null,
   "metadata": {
    "collapsed": true
   },
   "outputs": [],
   "source": []
  },
  {
   "cell_type": "code",
   "execution_count": 12,
   "metadata": {
    "collapsed": true
   },
   "outputs": [],
   "source": [
    "df_id_site_impr_click=df_id_site_impr_click.fillna(0)\n",
    "\n",
    "site_impr_only=[]\n",
    "site_click_only=[]\n",
    "site_both=[]\n",
    "for site, group in df_id_site_impr_click.groupby(['Site (DCM)']):\n",
    "    if group['click'].sum()==0:\n",
    "        site_impr_only=site_impr_only+[site]\n",
    "    elif group['impression'].sum()==0:\n",
    "        site_click_only=site_click_only+[site]\n",
    "    else:\n",
    "        site_both=site_both+[site]\n",
    "    \n",
    "df_click_only=pd.DataFrame({\"site_type\":[\"click_only\"]*len(site_click_only),\"Site (DCM)\":site_click_only})\n",
    "df_impr_only=pd.DataFrame({\"site_type\":[\"impr_only\"]*len(site_impr_only),\"Site (DCM)\":site_impr_only})\n",
    "df_both=pd.DataFrame({\"site_type\":[\"impr_and_click\"]*len(site_both),\"Site (DCM)\":site_both})\n",
    "\n",
    "df_all_site=df_click_only.append(df_impr_only).append(df_both)\n",
    "df_id_site_impr_click=pd.merge(df_id_site_impr_click,df_all_site,on=\"Site (DCM)\",how=\"left\")"
   ]
  },
  {
   "cell_type": "code",
   "execution_count": 13,
   "metadata": {},
   "outputs": [
    {
     "data": {
      "text/html": [
       "<div>\n",
       "<style>\n",
       "    .dataframe thead tr:only-child th {\n",
       "        text-align: right;\n",
       "    }\n",
       "\n",
       "    .dataframe thead th {\n",
       "        text-align: left;\n",
       "    }\n",
       "\n",
       "    .dataframe tbody tr th {\n",
       "        vertical-align: top;\n",
       "    }\n",
       "</style>\n",
       "<table border=\"1\" class=\"dataframe\">\n",
       "  <thead>\n",
       "    <tr style=\"text-align: right;\">\n",
       "      <th></th>\n",
       "      <th>User ID</th>\n",
       "      <th>Site ID (DCM)</th>\n",
       "      <th>impression</th>\n",
       "      <th>click</th>\n",
       "      <th>impr_and_click</th>\n",
       "      <th>Site (DCM)</th>\n",
       "      <th>site_type</th>\n",
       "    </tr>\n",
       "  </thead>\n",
       "  <tbody>\n",
       "    <tr>\n",
       "      <th>0</th>\n",
       "      <td>AMsySZY----Lex1O5Fk3ORX9cadI</td>\n",
       "      <td>5174983</td>\n",
       "      <td>1.0</td>\n",
       "      <td>0.0</td>\n",
       "      <td>1.0</td>\n",
       "      <td>Stack Adapt</td>\n",
       "      <td>impr_and_click</td>\n",
       "    </tr>\n",
       "    <tr>\n",
       "      <th>1</th>\n",
       "      <td>AMsySZY---0BYUKWdkdTG_kvwMnP</td>\n",
       "      <td>5232462</td>\n",
       "      <td>1.0</td>\n",
       "      <td>0.0</td>\n",
       "      <td>1.0</td>\n",
       "      <td>MobileFuse</td>\n",
       "      <td>impr_and_click</td>\n",
       "    </tr>\n",
       "  </tbody>\n",
       "</table>\n",
       "</div>"
      ],
      "text/plain": [
       "                        User ID Site ID (DCM)  impression  click  \\\n",
       "0  AMsySZY----Lex1O5Fk3ORX9cadI       5174983         1.0    0.0   \n",
       "1  AMsySZY---0BYUKWdkdTG_kvwMnP       5232462         1.0    0.0   \n",
       "\n",
       "   impr_and_click   Site (DCM)       site_type  \n",
       "0             1.0  Stack Adapt  impr_and_click  \n",
       "1             1.0   MobileFuse  impr_and_click  "
      ]
     },
     "execution_count": 13,
     "metadata": {},
     "output_type": "execute_result"
    }
   ],
   "source": [
    "df_id_site_impr_click.head(2)"
   ]
  },
  {
   "cell_type": "code",
   "execution_count": 15,
   "metadata": {},
   "outputs": [
    {
     "name": "stdout",
     "output_type": "stream",
     "text": [
      "(20767278, 2)\n"
     ]
    },
    {
     "data": {
      "text/html": [
       "<div>\n",
       "<style>\n",
       "    .dataframe thead tr:only-child th {\n",
       "        text-align: right;\n",
       "    }\n",
       "\n",
       "    .dataframe thead th {\n",
       "        text-align: left;\n",
       "    }\n",
       "\n",
       "    .dataframe tbody tr th {\n",
       "        vertical-align: top;\n",
       "    }\n",
       "</style>\n",
       "<table border=\"1\" class=\"dataframe\">\n",
       "  <thead>\n",
       "    <tr style=\"text-align: right;\">\n",
       "      <th></th>\n",
       "      <th>Customer_Link</th>\n",
       "      <th>customer_id_hashed</th>\n",
       "    </tr>\n",
       "  </thead>\n",
       "  <tbody>\n",
       "    <tr>\n",
       "      <th>0</th>\n",
       "      <td>Xi1468nfC3a_gGXZVi7-7naeMJQiaRuoQjh1l0Z7f2pekG...</td>\n",
       "      <td>57e0561be9e66bb2e3d834ae1c87b51ff460d498446d69...</td>\n",
       "    </tr>\n",
       "    <tr>\n",
       "      <th>1</th>\n",
       "      <td>XY1468rh0PXac0u_86Vh2QhqH1Z0BkT-CJlnfc9Hp69rbJGhM</td>\n",
       "      <td>5a692ab06280b862e40870d622abbf64c3ec663efc1f8a...</td>\n",
       "    </tr>\n",
       "  </tbody>\n",
       "</table>\n",
       "</div>"
      ],
      "text/plain": [
       "                                       Customer_Link  \\\n",
       "0  Xi1468nfC3a_gGXZVi7-7naeMJQiaRuoQjh1l0Z7f2pekG...   \n",
       "1  XY1468rh0PXac0u_86Vh2QhqH1Z0BkT-CJlnfc9Hp69rbJGhM   \n",
       "\n",
       "                                  customer_id_hashed  \n",
       "0  57e0561be9e66bb2e3d834ae1c87b51ff460d498446d69...  \n",
       "1  5a692ab06280b862e40870d622abbf64c3ec663efc1f8a...  "
      ]
     },
     "execution_count": 15,
     "metadata": {},
     "output_type": "execute_result"
    }
   ],
   "source": [
    "rewards_mapping_2019Q1=pd.read_csv(\"/home/jian/Projects/Big_Lots/Analysis/2019_Q2/Big_Lots_2019Q2_DCM_Frequency/CL_BigLots_BL_mapping_file_2019Q1_JL_2019-05-14_20190516_111931_0000.psv.gz\",\n",
    "                                  sep=\"|\",compression=\"gzip\",dtype=str,usecols=['Customer_Link','customer_id_hashed'])\n",
    "print(rewards_mapping_2019Q1.shape)\n",
    "\n",
    "rewards_mapping_2019Q1.head(2)"
   ]
  },
  {
   "cell_type": "code",
   "execution_count": 18,
   "metadata": {},
   "outputs": [
    {
     "name": "stdout",
     "output_type": "stream",
     "text": [
      "(21007241, 3)\n"
     ]
    },
    {
     "data": {
      "text/html": [
       "<div>\n",
       "<style>\n",
       "    .dataframe thead tr:only-child th {\n",
       "        text-align: right;\n",
       "    }\n",
       "\n",
       "    .dataframe thead th {\n",
       "        text-align: left;\n",
       "    }\n",
       "\n",
       "    .dataframe tbody tr th {\n",
       "        vertical-align: top;\n",
       "    }\n",
       "</style>\n",
       "<table border=\"1\" class=\"dataframe\">\n",
       "  <thead>\n",
       "    <tr style=\"text-align: right;\">\n",
       "      <th></th>\n",
       "      <th>customer_id_hashed</th>\n",
       "      <th>email_address_hash</th>\n",
       "      <th>segment</th>\n",
       "    </tr>\n",
       "  </thead>\n",
       "  <tbody>\n",
       "    <tr>\n",
       "      <th>0</th>\n",
       "      <td>51ce14856c1e1eae5156bc18e4bd2a63d8412462aab055...</td>\n",
       "      <td>80318c3f741c9a0cc18b19a500113b3e0dff9b9f5cc7e0...</td>\n",
       "      <td>T_Quadrant III_P_H_2019Q2_RFM</td>\n",
       "    </tr>\n",
       "    <tr>\n",
       "      <th>1</th>\n",
       "      <td>580dd10a059dadb652bf9da7391ef49590d1019428dc2e...</td>\n",
       "      <td>8c3335c9ec1496e33f13f1222e6764b621afa554feb1a5...</td>\n",
       "      <td>T_Quadrant III_P_H_2019Q2_RFM</td>\n",
       "    </tr>\n",
       "    <tr>\n",
       "      <th>2</th>\n",
       "      <td>9fe7543c74aadb2f8c2889d45ab9b406489a9436c098c1...</td>\n",
       "      <td>82f9a05e4f75783d5079397966bdca9cf71d83329d71e1...</td>\n",
       "      <td>T_Quadrant III_P_H_2019Q2_RFM</td>\n",
       "    </tr>\n",
       "  </tbody>\n",
       "</table>\n",
       "</div>"
      ],
      "text/plain": [
       "                                  customer_id_hashed  \\\n",
       "0  51ce14856c1e1eae5156bc18e4bd2a63d8412462aab055...   \n",
       "1  580dd10a059dadb652bf9da7391ef49590d1019428dc2e...   \n",
       "2  9fe7543c74aadb2f8c2889d45ab9b406489a9436c098c1...   \n",
       "\n",
       "                                  email_address_hash  \\\n",
       "0  80318c3f741c9a0cc18b19a500113b3e0dff9b9f5cc7e0...   \n",
       "1  8c3335c9ec1496e33f13f1222e6764b621afa554feb1a5...   \n",
       "2  82f9a05e4f75783d5079397966bdca9cf71d83329d71e1...   \n",
       "\n",
       "                         segment  \n",
       "0  T_Quadrant III_P_H_2019Q2_RFM  \n",
       "1  T_Quadrant III_P_H_2019Q2_RFM  \n",
       "2  T_Quadrant III_P_H_2019Q2_RFM  "
      ]
     },
     "execution_count": 18,
     "metadata": {},
     "output_type": "execute_result"
    }
   ],
   "source": [
    "all_files_2019Q2=glob.glob(\"/home/jian/Projects/Big_Lots/Live_Ramp/Quarterly_Update_2019Q2/output_final_20190422/Test_and_Control/uploaded/*.csv\")\n",
    "print(\"len(all_files_2019Q2): \"+str(len(all_files_2019Q2)))\n",
    "\n",
    "df_all_2019Q2_segments=pd.DataFrame()\n",
    "\n",
    "for file in all_files_2019Q2:\n",
    "    df=pd.read_csv(file,dtype=str)\n",
    "    df_all_2019Q2_segments=df_all_2019Q2_segments.append(df)\n",
    "print(df_all_2019Q2_segments.shape)\n",
    "df_all_2019Q2_segments.head(3)"
   ]
  },
  {
   "cell_type": "code",
   "execution_count": 31,
   "metadata": {},
   "outputs": [
    {
     "data": {
      "text/html": [
       "<div>\n",
       "<style>\n",
       "    .dataframe thead tr:only-child th {\n",
       "        text-align: right;\n",
       "    }\n",
       "\n",
       "    .dataframe thead th {\n",
       "        text-align: left;\n",
       "    }\n",
       "\n",
       "    .dataframe tbody tr th {\n",
       "        vertical-align: top;\n",
       "    }\n",
       "</style>\n",
       "<table border=\"1\" class=\"dataframe\">\n",
       "  <thead>\n",
       "    <tr style=\"text-align: right;\">\n",
       "      <th></th>\n",
       "      <th>customer_id_hashed</th>\n",
       "      <th>segment</th>\n",
       "      <th>T_C_Group</th>\n",
       "    </tr>\n",
       "  </thead>\n",
       "  <tbody>\n",
       "    <tr>\n",
       "      <th>0</th>\n",
       "      <td>51ce14856c1e1eae5156bc18e4bd2a63d8412462aab055...</td>\n",
       "      <td>T_Quadrant III_P_H_2019Q2_RFM</td>\n",
       "      <td>T</td>\n",
       "    </tr>\n",
       "    <tr>\n",
       "      <th>1</th>\n",
       "      <td>580dd10a059dadb652bf9da7391ef49590d1019428dc2e...</td>\n",
       "      <td>T_Quadrant III_P_H_2019Q2_RFM</td>\n",
       "      <td>T</td>\n",
       "    </tr>\n",
       "    <tr>\n",
       "      <th>2</th>\n",
       "      <td>9fe7543c74aadb2f8c2889d45ab9b406489a9436c098c1...</td>\n",
       "      <td>T_Quadrant III_P_H_2019Q2_RFM</td>\n",
       "      <td>T</td>\n",
       "    </tr>\n",
       "    <tr>\n",
       "      <th>3</th>\n",
       "      <td>c5f55af0dce7ff2dbae6da4f74af7bec3e1a7a9a50e381...</td>\n",
       "      <td>T_Quadrant III_P_H_2019Q2_RFM</td>\n",
       "      <td>T</td>\n",
       "    </tr>\n",
       "  </tbody>\n",
       "</table>\n",
       "</div>"
      ],
      "text/plain": [
       "                                  customer_id_hashed  \\\n",
       "0  51ce14856c1e1eae5156bc18e4bd2a63d8412462aab055...   \n",
       "1  580dd10a059dadb652bf9da7391ef49590d1019428dc2e...   \n",
       "2  9fe7543c74aadb2f8c2889d45ab9b406489a9436c098c1...   \n",
       "3  c5f55af0dce7ff2dbae6da4f74af7bec3e1a7a9a50e381...   \n",
       "\n",
       "                         segment T_C_Group  \n",
       "0  T_Quadrant III_P_H_2019Q2_RFM         T  \n",
       "1  T_Quadrant III_P_H_2019Q2_RFM         T  \n",
       "2  T_Quadrant III_P_H_2019Q2_RFM         T  \n",
       "3  T_Quadrant III_P_H_2019Q2_RFM         T  "
      ]
     },
     "execution_count": 31,
     "metadata": {},
     "output_type": "execute_result"
    }
   ],
   "source": [
    "df_all_2019Q2_segments.head(4)"
   ]
  },
  {
   "cell_type": "code",
   "execution_count": 19,
   "metadata": {},
   "outputs": [
    {
     "data": {
      "text/plain": [
       "array(['T', 'C'], dtype=object)"
      ]
     },
     "execution_count": 19,
     "metadata": {},
     "output_type": "execute_result"
    }
   ],
   "source": [
    "df_all_2019Q2_segments['T_C_Group']=df_all_2019Q2_segments['segment'].apply(lambda x: x.split(\"_\")[0])\n",
    "print(df_all_2019Q2_segments['T_C_Group'].unique())\n",
    "\n",
    "del df_all_2019Q2_segments['email_address_hash']\n",
    "gc.collect()"
   ]
  },
  {
   "cell_type": "code",
   "execution_count": 27,
   "metadata": {},
   "outputs": [
    {
     "data": {
      "text/html": [
       "<div>\n",
       "<style>\n",
       "    .dataframe thead tr:only-child th {\n",
       "        text-align: right;\n",
       "    }\n",
       "\n",
       "    .dataframe thead th {\n",
       "        text-align: left;\n",
       "    }\n",
       "\n",
       "    .dataframe tbody tr th {\n",
       "        vertical-align: top;\n",
       "    }\n",
       "</style>\n",
       "<table border=\"1\" class=\"dataframe\">\n",
       "  <thead>\n",
       "    <tr style=\"text-align: right;\">\n",
       "      <th></th>\n",
       "      <th>customer_id_hashed</th>\n",
       "      <th>segment</th>\n",
       "      <th>T_C_Group</th>\n",
       "    </tr>\n",
       "  </thead>\n",
       "  <tbody>\n",
       "    <tr>\n",
       "      <th>0</th>\n",
       "      <td>51ce14856c1e1eae5156bc18e4bd2a63d8412462aab055...</td>\n",
       "      <td>T_Quadrant III_P_H_2019Q2_RFM</td>\n",
       "      <td>T</td>\n",
       "    </tr>\n",
       "    <tr>\n",
       "      <th>1</th>\n",
       "      <td>580dd10a059dadb652bf9da7391ef49590d1019428dc2e...</td>\n",
       "      <td>T_Quadrant III_P_H_2019Q2_RFM</td>\n",
       "      <td>T</td>\n",
       "    </tr>\n",
       "  </tbody>\n",
       "</table>\n",
       "</div>"
      ],
      "text/plain": [
       "                                  customer_id_hashed  \\\n",
       "0  51ce14856c1e1eae5156bc18e4bd2a63d8412462aab055...   \n",
       "1  580dd10a059dadb652bf9da7391ef49590d1019428dc2e...   \n",
       "\n",
       "                         segment T_C_Group  \n",
       "0  T_Quadrant III_P_H_2019Q2_RFM         T  \n",
       "1  T_Quadrant III_P_H_2019Q2_RFM         T  "
      ]
     },
     "execution_count": 27,
     "metadata": {},
     "output_type": "execute_result"
    }
   ],
   "source": [
    "df_all_2019Q2_segments.head(2)"
   ]
  },
  {
   "cell_type": "code",
   "execution_count": 21,
   "metadata": {},
   "outputs": [
    {
     "data": {
      "text/html": [
       "<div>\n",
       "<style>\n",
       "    .dataframe thead tr:only-child th {\n",
       "        text-align: right;\n",
       "    }\n",
       "\n",
       "    .dataframe thead th {\n",
       "        text-align: left;\n",
       "    }\n",
       "\n",
       "    .dataframe tbody tr th {\n",
       "        vertical-align: top;\n",
       "    }\n",
       "</style>\n",
       "<table border=\"1\" class=\"dataframe\">\n",
       "  <thead>\n",
       "    <tr style=\"text-align: right;\">\n",
       "      <th></th>\n",
       "      <th>Customer_Link</th>\n",
       "      <th>customer_id_hashed</th>\n",
       "    </tr>\n",
       "  </thead>\n",
       "  <tbody>\n",
       "    <tr>\n",
       "      <th>0</th>\n",
       "      <td>Xi1468nfC3a_gGXZVi7-7naeMJQiaRuoQjh1l0Z7f2pekG...</td>\n",
       "      <td>57e0561be9e66bb2e3d834ae1c87b51ff460d498446d69...</td>\n",
       "    </tr>\n",
       "    <tr>\n",
       "      <th>1</th>\n",
       "      <td>XY1468rh0PXac0u_86Vh2QhqH1Z0BkT-CJlnfc9Hp69rbJGhM</td>\n",
       "      <td>5a692ab06280b862e40870d622abbf64c3ec663efc1f8a...</td>\n",
       "    </tr>\n",
       "  </tbody>\n",
       "</table>\n",
       "</div>"
      ],
      "text/plain": [
       "                                       Customer_Link  \\\n",
       "0  Xi1468nfC3a_gGXZVi7-7naeMJQiaRuoQjh1l0Z7f2pekG...   \n",
       "1  XY1468rh0PXac0u_86Vh2QhqH1Z0BkT-CJlnfc9Hp69rbJGhM   \n",
       "\n",
       "                                  customer_id_hashed  \n",
       "0  57e0561be9e66bb2e3d834ae1c87b51ff460d498446d69...  \n",
       "1  5a692ab06280b862e40870d622abbf64c3ec663efc1f8a...  "
      ]
     },
     "execution_count": 21,
     "metadata": {},
     "output_type": "execute_result"
    }
   ],
   "source": [
    "rewards_mapping_2019Q1.head(2)"
   ]
  },
  {
   "cell_type": "code",
   "execution_count": 32,
   "metadata": {},
   "outputs": [
    {
     "data": {
      "text/plain": [
       "(20767278, 2)"
      ]
     },
     "execution_count": 32,
     "metadata": {},
     "output_type": "execute_result"
    }
   ],
   "source": [
    "rewards_mapping_2019Q1.shape"
   ]
  },
  {
   "cell_type": "code",
   "execution_count": 26,
   "metadata": {},
   "outputs": [
    {
     "data": {
      "text/plain": [
       "20753480"
      ]
     },
     "execution_count": 26,
     "metadata": {},
     "output_type": "execute_result"
    }
   ],
   "source": [
    "rewards_mapping_2019Q1['customer_id_hashed'].nunique()"
   ]
  },
  {
   "cell_type": "code",
   "execution_count": null,
   "metadata": {
    "collapsed": true
   },
   "outputs": [],
   "source": [
    "output_1_overall_by_id_group=df_id_site_impr_click.groupby(['User ID'])['impression','click','impr_and_click'].sum().reset_index()\n",
    "output_1_overall_by_id_group['id_expose_group']=np.where(((output_1_overall_by_id_group['impression']>0) & (output_1_overall_by_id_group['click']>0)),\"Impr_and_Click\",\n",
    "                                               np.where(((output_1_overall_by_id_group['impression']>0) & (output_1_overall_by_id_group['click']==0)),\"Impr_only\",\n",
    "                                                        np.where(((output_1_overall_by_id_group['impression']==0) & (output_1_overall_by_id_group['click']>0)),\"Click_only\",\"Others\")\n",
    "                                                       )\n",
    "                                               )"
   ]
  },
  {
   "cell_type": "code",
   "execution_count": null,
   "metadata": {
    "collapsed": true
   },
   "outputs": [],
   "source": [
    "def quantile_25(x):\n",
    "    return np.percentile(x,25)\n",
    "def quantile_50(x):\n",
    "    return np.percentile(x,50)\n",
    "def quantile_75(x):\n",
    "    return np.percentile(x,75)\n",
    "\n",
    "func_group_output={\"User ID\":\"nunique\",\n",
    "                     'impression':['sum','mean','min',quantile_25,quantile_50,quantile_75,'max'], \n",
    "                     'click':['sum','mean','min',quantile_25,quantile_50,quantile_75,'max'],\n",
    "                     'impr_and_click':['sum','mean','min',quantile_25,quantile_50,quantile_75,'max']}\n"
   ]
  },
  {
   "cell_type": "code",
   "execution_count": 15,
   "metadata": {
    "collapsed": true
   },
   "outputs": [],
   "source": [
    "# Overall idgroup and then each site\n",
    "\n",
    "mapping_id_group=output_1_overall_by_id_group[['User ID','id_expose_group']]\n",
    "\n",
    "output_0_overall_by_id_group_site=df_id_site_impr_click.copy()\n",
    "output_0_overall_by_id_group_site=pd.merge(output_0_overall_by_id_group_site,mapping_id_group,on=\"User ID\",how=\"left\")\n",
    "output_0_overall_by_id_group_site=output_0_overall_by_id_group_site.groupby(['id_expose_group','Site (DCM)'])['impression','click','impr_and_click'].agg(func_group_output).reset_index()\n",
    "\n",
    "new_cols=[]\n",
    "for col in output_0_overall_by_id_group_site.columns.tolist():\n",
    "    if col[1]==\"\":\n",
    "        col_new=col[0]\n",
    "    else:\n",
    "        col_new=col[0]+\"_\"+col[1]\n",
    "    new_cols=new_cols+[col_new]\n",
    "    \n",
    "output_0_overall_by_id_group_site.columns=new_cols\n"
   ]
  },
  {
   "cell_type": "code",
   "execution_count": 16,
   "metadata": {},
   "outputs": [
    {
     "name": "stderr",
     "output_type": "stream",
     "text": [
      "/usr/local/lib/python3.6/site-packages/ipykernel_launcher.py:8: SettingWithCopyWarning: \n",
      "A value is trying to be set on a copy of a slice from a DataFrame.\n",
      "Try using .loc[row_indexer,col_indexer] = value instead\n",
      "\n",
      "See the caveats in the documentation: http://pandas.pydata.org/pandas-docs/stable/indexing.html#indexing-view-versus-copy\n",
      "  \n"
     ]
    }
   ],
   "source": [
    "# Each site and then the group of each site\n",
    "\n",
    "output_by_site_then_group=pd.DataFrame()\n",
    "\n",
    "for site,group in df_id_site_impr_click.groupby('Site (DCM)'):\n",
    "    group['id_group_of_site']=np.where(((group['impression']>0) & (group['click']>0)),\"site_Impr_and_Click\",\n",
    "                                               np.where(((group['impression']>0) & (group['click']==0)),\"site_Impr_only\",\n",
    "                                                        np.where(((group['impression']==0) & (group['click']>0)),\"site_Click_only\",\"Others\")\n",
    "                                                       )\n",
    "                                               )\n",
    "    group=group.groupby(['Site (DCM)','id_group_of_site'])['impression','click','impr_and_click'].agg(func_group_output).reset_index()\n",
    "    \n",
    "    new_cols=[]\n",
    "    for col in group.columns.tolist():\n",
    "        if col[1]==\"\":\n",
    "            col_new=col[0]\n",
    "        else:\n",
    "            col_new=col[0]+\"_\"+col[1]\n",
    "        new_cols=new_cols+[col_new]\n",
    "    group.columns=new_cols\n",
    "    \n",
    "    output_by_site_then_group=output_by_site_then_group.append(group)\n",
    "\n",
    "\n",
    "    \n"
   ]
  },
  {
   "cell_type": "code",
   "execution_count": 17,
   "metadata": {
    "collapsed": true
   },
   "outputs": [],
   "source": [
    "output_1_overall_by_id_group=output_1_overall_by_id_group.groupby(['id_expose_group'])['impression','click','impr_and_click'].agg(func_group_output).reset_index()\n",
    "\n",
    "new_cols=[]\n",
    "for col in output_1_overall_by_id_group.columns.tolist():\n",
    "    if col[1]==\"\":\n",
    "        col_new=col[0]\n",
    "    else:\n",
    "        col_new=col[0]+\"_\"+col[1]\n",
    "    new_cols=new_cols+[col_new]\n",
    "    \n",
    "output_1_overall_by_id_group.columns=new_cols\n"
   ]
  },
  {
   "cell_type": "code",
   "execution_count": 18,
   "metadata": {
    "collapsed": true
   },
   "outputs": [],
   "source": [
    "output_2_overall_by_site_group=df_id_site_impr_click.groupby(['site_type'])['impression','click','impr_and_click'].agg(func_group_output).reset_index()\n",
    "\n",
    "new_cols=[]\n",
    "for col in output_2_overall_by_site_group.columns.tolist():\n",
    "    if col[1]==\"\":\n",
    "        col_new=col[0]\n",
    "    else:\n",
    "        col_new=col[0]+\"_\"+col[1]\n",
    "    new_cols=new_cols+[col_new]\n",
    "    \n",
    "output_2_overall_by_site_group.columns=new_cols"
   ]
  },
  {
   "cell_type": "code",
   "execution_count": 19,
   "metadata": {
    "collapsed": true
   },
   "outputs": [],
   "source": [
    "output_3_overall_by_site=df_id_site_impr_click.groupby(['Site (DCM)'])['impression','click','impr_and_click'].agg(func_group_output).reset_index()\n",
    "\n",
    "new_cols=[]\n",
    "for col in output_3_overall_by_site.columns.tolist():\n",
    "    if col[1]==\"\":\n",
    "        col_new=col[0]\n",
    "    else:\n",
    "        col_new=col[0]+\"_\"+col[1]\n",
    "    new_cols=new_cols+[col_new]\n",
    "    \n",
    "output_3_overall_by_site.columns=new_cols"
   ]
  },
  {
   "cell_type": "code",
   "execution_count": 20,
   "metadata": {
    "collapsed": true
   },
   "outputs": [],
   "source": [
    "output_3_overall_by_site=pd.merge(output_3_overall_by_site,df_all_site,on=\"Site (DCM)\",how=\"left\")\n",
    "output_3_overall_by_site=output_3_overall_by_site[['Site (DCM)','site_type']+[x for x in output_3_overall_by_site.columns.tolist() if (x not in ['Site (DCM)','site_type'])]]\n"
   ]
  },
  {
   "cell_type": "code",
   "execution_count": 21,
   "metadata": {
    "collapsed": true
   },
   "outputs": [],
   "source": [
    "writer_folder='/home/jian/Projects/Big_Lots/Analysis/2019_Q2/Big_Lots_2019Q2_DCM_Frequency/output_'+str(datetime.datetime.now().date())+\"/\"\n",
    "try:\n",
    "    os.stat(writer_folder)\n",
    "except:\n",
    "    os.mkdir(writer_folder)"
   ]
  },
  {
   "cell_type": "code",
   "execution_count": 22,
   "metadata": {
    "collapsed": true
   },
   "outputs": [],
   "source": [
    "# 5 tables in different levels\n",
    "\n",
    "writer=pd.ExcelWriter(writer_folder+\"BL_2019Q2_\"+str(start_date)+\"_\"+str(end_date)+\"_JL_\"+str(datetime.datetime.now().date())+\".xlsx\",engine=\"xlsxwriter\")\n",
    "output_1_overall_by_id_group.to_excel(writer,\"by_id_group\",index=False)\n",
    "output_0_overall_by_id_group_site.to_excel(writer,\"by_id_group_site\",index=False)\n",
    "output_by_site_then_group.to_excel(writer,\"by_site_id_group\",index=False)\n",
    "output_2_overall_by_site_group.to_excel(writer,\"by_site_group\",index=False)\n",
    "output_3_overall_by_site.to_excel(writer,\"by_site\",index=False)\n",
    "writer.save()"
   ]
  },
  {
   "cell_type": "code",
   "execution_count": null,
   "metadata": {
    "collapsed": true
   },
   "outputs": [],
   "source": []
  }
 ],
 "metadata": {
  "kernelspec": {
   "display_name": "Python 3",
   "language": "python",
   "name": "python3"
  },
  "language_info": {
   "codemirror_mode": {
    "name": "ipython",
    "version": 3
   },
   "file_extension": ".py",
   "mimetype": "text/x-python",
   "name": "python",
   "nbconvert_exporter": "python",
   "pygments_lexer": "ipython3",
   "version": "3.6.1"
  }
 },
 "nbformat": 4,
 "nbformat_minor": 2
}
