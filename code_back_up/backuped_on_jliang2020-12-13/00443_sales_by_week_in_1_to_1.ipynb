{
 "cells": [
  {
   "cell_type": "code",
   "execution_count": 1,
   "metadata": {},
   "outputs": [
    {
     "name": "stdout",
     "output_type": "stream",
     "text": [
      "2020-07-13 15:31:28.636329\n"
     ]
    }
   ],
   "source": [
    "import pandas as pd\n",
    "import numpy as np\n",
    "import datetime\n",
    "import os\n",
    "import gc\n",
    "print(datetime.datetime.now())"
   ]
  },
  {
   "cell_type": "code",
   "execution_count": 2,
   "metadata": {},
   "outputs": [],
   "source": [
    "def recursive_file_gen(root_path):\n",
    "    for root, dirs, files in os.walk(root_path):\n",
    "        for file in files:\n",
    "            yield os.path.join(root,file)"
   ]
  },
  {
   "cell_type": "code",
   "execution_count": 3,
   "metadata": {},
   "outputs": [
    {
     "data": {
      "text/plain": [
       "13"
      ]
     },
     "execution_count": 3,
     "metadata": {},
     "output_type": "execute_result"
    }
   ],
   "source": [
    "list_pos_q1=list(recursive_file_gen(\"/home/jian/BigLots/2020_by_weeks/\"))\n",
    "list_pos_q1=[x for x in list_pos_q1 if \"dailysales\" in x.lower()]\n",
    "list_pos_q1=[x for x in list_pos_q1 if x.split(\"_weeks/MediaStorm_\")[1][:10]>=\"2020-02-02\"]\n",
    "list_pos_q1=[x for x in list_pos_q1 if x.split(\"_weeks/MediaStorm_\")[1][:10]<=\"2020-05-02\"]\n",
    "len(list_pos_q1)\n"
   ]
  },
  {
   "cell_type": "code",
   "execution_count": 4,
   "metadata": {},
   "outputs": [
    {
     "name": "stdout",
     "output_type": "stream",
     "text": [
      "(1010014, 2) 1010014\n"
     ]
    },
    {
     "data": {
      "text/plain": [
       "0"
      ]
     },
     "execution_count": 4,
     "metadata": {},
     "output_type": "execute_result"
    }
   ],
   "source": [
    "df_CN=pd.read_csv(\"./notexposed_control_idlist.csv\",usecols=[\"customer_id_hashed\"])\n",
    "df_TE=pd.read_csv(\"./exposed_test_idlist.csv\",usecols=[\"customer_id_hashed\"])\n",
    "df_CN['group']=\"CN\"\n",
    "df_TE['group']=\"TE\"\n",
    "\n",
    "df_id_list=df_CN.append(df_TE)\n",
    "del df_CN\n",
    "del df_TE\n",
    "print(df_id_list.shape,df_id_list['customer_id_hashed'].nunique())\n",
    "df_count_by_group=df_id_list.groupby('group')['customer_id_hashed'].nunique().to_frame().reset_index()\n",
    "gc.collect()"
   ]
  },
  {
   "cell_type": "code",
   "execution_count": 5,
   "metadata": {},
   "outputs": [
    {
     "data": {
      "text/plain": [
       "1010014"
      ]
     },
     "execution_count": 5,
     "metadata": {},
     "output_type": "execute_result"
    }
   ],
   "source": [
    "585058+424956"
   ]
  },
  {
   "cell_type": "code",
   "execution_count": 6,
   "metadata": {},
   "outputs": [
    {
     "name": "stdout",
     "output_type": "stream",
     "text": [
      "/home/jian/BigLots/2020_by_weeks/MediaStorm_2020-02-08/MediaStormDailySales20200211-120911-483.txt 2020-07-13 15:31:59.272832\n",
      "/home/jian/BigLots/2020_by_weeks/MediaStorm_2020-02-15/MediaStormDailySales20200218-110927-085.txt 2020-07-13 15:32:26.773553\n",
      "/home/jian/BigLots/2020_by_weeks/MediaStorm_2020-02-22/MediaStormDailySales20200225-111349-615.txt 2020-07-13 15:32:55.152439\n",
      "/home/jian/BigLots/2020_by_weeks/MediaStorm_2020-02-29/MediaStormDailySales20200303-111359-260.txt 2020-07-13 15:33:26.435741\n",
      "/home/jian/BigLots/2020_by_weeks/MediaStorm_2020-03-07/MediaStormDailySales20200311-125005-860.txt 2020-07-13 15:34:01.515078\n",
      "/home/jian/BigLots/2020_by_weeks/MediaStorm_2020-03-28/MediaStormDailySales20200331-112303-873.txt 2020-07-13 15:34:28.942117\n",
      "/home/jian/BigLots/2020_by_weeks/MediaStorm_2020-03-14/MediaStormDailySales20200317-112349-402.txt 2020-07-13 15:35:12.719228\n",
      "/home/jian/BigLots/2020_by_weeks/MediaStorm_2020-03-21/MediaStormDailySales20200324-112302-496.txt 2020-07-13 15:35:50.239487\n",
      "/home/jian/BigLots/2020_by_weeks/MediaStorm_2020-04-04/MediaStormDailySales20200407-110641-771.txt 2020-07-13 15:36:21.603305\n",
      "/home/jian/BigLots/2020_by_weeks/MediaStorm_2020-04-11/MediaStormDailySales20200414-120340-722.txt 2020-07-13 15:36:52.196345\n",
      "/home/jian/BigLots/2020_by_weeks/MediaStorm_2020-04-18/MediaStormDailySales20200421-111910-356.txt 2020-07-13 15:37:26.765566\n",
      "/home/jian/BigLots/2020_by_weeks/MediaStorm_2020-04-25/MediaStormDailySales20200428-111922-148.txt 2020-07-13 15:37:58.922558\n",
      "/home/jian/BigLots/2020_by_weeks/MediaStorm_2020-05-02/MediaStormDailySales20200505-111805-965.txt 2020-07-13 15:38:35.737569\n"
     ]
    }
   ],
   "source": [
    "agg_func={'customer_id_hashed':\"nunique\",'item_transaction_amt':\"sum\"}\n",
    "df_output=pd.DataFrame()\n",
    "for file in list_pos_q1:\n",
    "    df=pd.read_table(file,sep=\"|\")\n",
    "    df=pd.merge(df_id_list,df,on=\"customer_id_hashed\",how=\"inner\")\n",
    "    df_sales=df.groupby(['group'])['customer_id_hashed','item_transaction_amt'].agg(agg_func).reset_index().rename(columns={\"customer_id_hashed\":\"unique_shopper\",\"item_transaction_amt\":\"sales\"})\n",
    "    df_trans=df[['customer_id_hashed','group','location_id','transaction_dt','transaction_id']].drop_duplicates()\n",
    "    df_trans=df_trans.groupby(['group'])['transaction_id'].count().to_frame().reset_index().rename(columns={\"transaction_id\":\"transactions\"})\n",
    "    df=pd.merge(df_sales,df_trans,on=\"group\")\n",
    "    df.insert(0,'week_end_dt',file.split(\"_weeks/MediaStorm_\")[1][:10])\n",
    "    df_output=df_output.append(df)\n",
    "    print(file,datetime.datetime.now())"
   ]
  },
  {
   "cell_type": "code",
   "execution_count": 11,
   "metadata": {},
   "outputs": [],
   "source": [
    "writer=pd.ExcelWriter(\"./BL_Q1_1to1_by_week_JL_%s.xlsx\"%str(datetime.datetime.now().date()),engine=\"xlsxwriter\")\n",
    "df_output.to_excel(writer,\"by_week\",index=False)\n",
    "df_count_by_group.to_excel(writer,\"total_ids\",index=False)\n",
    "writer.save()"
   ]
  },
  {
   "cell_type": "code",
   "execution_count": null,
   "metadata": {},
   "outputs": [],
   "source": []
  }
 ],
 "metadata": {
  "kernelspec": {
   "display_name": "Python 3",
   "language": "python",
   "name": "python3"
  },
  "language_info": {
   "codemirror_mode": {
    "name": "ipython",
    "version": 3
   },
   "file_extension": ".py",
   "mimetype": "text/x-python",
   "name": "python",
   "nbconvert_exporter": "python",
   "pygments_lexer": "ipython3",
   "version": "3.6.1"
  }
 },
 "nbformat": 4,
 "nbformat_minor": 2
}
