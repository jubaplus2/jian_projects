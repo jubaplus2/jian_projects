{
 "cells": [
  {
   "cell_type": "code",
   "execution_count": 1,
   "metadata": {},
   "outputs": [
    {
     "name": "stdout",
     "output_type": "stream",
     "text": [
      "2020-08-12 14:41:29.192855\n"
     ]
    }
   ],
   "source": [
    "import pandas as pd\n",
    "import numpy as np\n",
    "import datetime\n",
    "import os\n",
    "print(datetime.datetime.now())"
   ]
  },
  {
   "cell_type": "code",
   "execution_count": 2,
   "metadata": {},
   "outputs": [
    {
     "name": "stdout",
     "output_type": "stream",
     "text": [
      "(1010014, 2) 1010014\n"
     ]
    },
    {
     "data": {
      "text/html": [
       "<div>\n",
       "<style scoped>\n",
       "    .dataframe tbody tr th:only-of-type {\n",
       "        vertical-align: middle;\n",
       "    }\n",
       "\n",
       "    .dataframe tbody tr th {\n",
       "        vertical-align: top;\n",
       "    }\n",
       "\n",
       "    .dataframe thead th {\n",
       "        text-align: right;\n",
       "    }\n",
       "</style>\n",
       "<table border=\"1\" class=\"dataframe\">\n",
       "  <thead>\n",
       "    <tr style=\"text-align: right;\">\n",
       "      <th></th>\n",
       "      <th>group</th>\n",
       "      <th>customer_id_hashed</th>\n",
       "    </tr>\n",
       "  </thead>\n",
       "  <tbody>\n",
       "    <tr>\n",
       "      <th>0</th>\n",
       "      <td>CN</td>\n",
       "      <td>585058</td>\n",
       "    </tr>\n",
       "    <tr>\n",
       "      <th>1</th>\n",
       "      <td>TE</td>\n",
       "      <td>424956</td>\n",
       "    </tr>\n",
       "  </tbody>\n",
       "</table>\n",
       "</div>"
      ],
      "text/plain": [
       "  group  customer_id_hashed\n",
       "0    CN              585058\n",
       "1    TE              424956"
      ]
     },
     "execution_count": 2,
     "metadata": {},
     "output_type": "execute_result"
    }
   ],
   "source": [
    "df_CN_ids=pd.read_csv(\"./notexposed_control_idlist.csv\",usecols=['customer_id_hashed'],dtype=str)\n",
    "df_TE_ids=pd.read_csv(\"./exposed_test_idlist.csv\",usecols=['customer_id_hashed'],dtype=str)\n",
    "df_CN_ids['group']=\"CN\"\n",
    "df_TE_ids['group']=\"TE\"\n",
    "\n",
    "df_ids_included=df_CN_ids.append(df_TE_ids)\n",
    "print(df_ids_included.shape,df_ids_included['customer_id_hashed'].nunique())\n",
    "df_total_ids=df_ids_included.groupby(\"group\")['customer_id_hashed'].nunique().to_frame().reset_index()"
   ]
  },
  {
   "cell_type": "code",
   "execution_count": 3,
   "metadata": {},
   "outputs": [
    {
     "data": {
      "text/html": [
       "<div>\n",
       "<style scoped>\n",
       "    .dataframe tbody tr th:only-of-type {\n",
       "        vertical-align: middle;\n",
       "    }\n",
       "\n",
       "    .dataframe tbody tr th {\n",
       "        vertical-align: top;\n",
       "    }\n",
       "\n",
       "    .dataframe thead th {\n",
       "        text-align: right;\n",
       "    }\n",
       "</style>\n",
       "<table border=\"1\" class=\"dataframe\">\n",
       "  <thead>\n",
       "    <tr style=\"text-align: right;\">\n",
       "      <th></th>\n",
       "      <th>customer_id_hashed</th>\n",
       "      <th>group</th>\n",
       "    </tr>\n",
       "  </thead>\n",
       "  <tbody>\n",
       "    <tr>\n",
       "      <th>0</th>\n",
       "      <td>2573f2045385e11d9e39e1927efa5579a1a929e4045449...</td>\n",
       "      <td>CN</td>\n",
       "    </tr>\n",
       "    <tr>\n",
       "      <th>1</th>\n",
       "      <td>9d6cb850368a834e0150de40ce061d5b76d9aa332bc129...</td>\n",
       "      <td>CN</td>\n",
       "    </tr>\n",
       "  </tbody>\n",
       "</table>\n",
       "</div>"
      ],
      "text/plain": [
       "                                  customer_id_hashed group\n",
       "0  2573f2045385e11d9e39e1927efa5579a1a929e4045449...    CN\n",
       "1  9d6cb850368a834e0150de40ce061d5b76d9aa332bc129...    CN"
      ]
     },
     "execution_count": 3,
     "metadata": {},
     "output_type": "execute_result"
    }
   ],
   "source": [
    "df_ids_included.head(2)"
   ]
  },
  {
   "cell_type": "code",
   "execution_count": 4,
   "metadata": {},
   "outputs": [
    {
     "data": {
      "text/html": [
       "<div>\n",
       "<style scoped>\n",
       "    .dataframe tbody tr th:only-of-type {\n",
       "        vertical-align: middle;\n",
       "    }\n",
       "\n",
       "    .dataframe tbody tr th {\n",
       "        vertical-align: top;\n",
       "    }\n",
       "\n",
       "    .dataframe thead th {\n",
       "        text-align: right;\n",
       "    }\n",
       "</style>\n",
       "<table border=\"1\" class=\"dataframe\">\n",
       "  <thead>\n",
       "    <tr style=\"text-align: right;\">\n",
       "      <th></th>\n",
       "      <th>group</th>\n",
       "      <th>customer_id_hashed</th>\n",
       "    </tr>\n",
       "  </thead>\n",
       "  <tbody>\n",
       "    <tr>\n",
       "      <th>0</th>\n",
       "      <td>CN</td>\n",
       "      <td>585058</td>\n",
       "    </tr>\n",
       "    <tr>\n",
       "      <th>1</th>\n",
       "      <td>TE</td>\n",
       "      <td>424956</td>\n",
       "    </tr>\n",
       "  </tbody>\n",
       "</table>\n",
       "</div>"
      ],
      "text/plain": [
       "  group  customer_id_hashed\n",
       "0    CN              585058\n",
       "1    TE              424956"
      ]
     },
     "execution_count": 4,
     "metadata": {},
     "output_type": "execute_result"
    }
   ],
   "source": [
    "df_total_ids.head(2)"
   ]
  },
  {
   "cell_type": "code",
   "execution_count": 5,
   "metadata": {},
   "outputs": [
    {
     "name": "stdout",
     "output_type": "stream",
     "text": [
      "13\n"
     ]
    }
   ],
   "source": [
    "def recursive_file_gen(root_path):\n",
    "    for root, dirs, files in os.walk(root_path):\n",
    "        for file in files:\n",
    "            yield os.path.join(root,file)\n",
    "\n",
    "list_pos_q1=list(recursive_file_gen(\"/home/jian/BigLots/2020_by_weeks/\"))\n",
    "list_pos_q1=[x for x in list_pos_q1 if \"dailysales\" in x.lower()]\n",
    "list_pos_q1=[x for x in list_pos_q1 if x.split(\"_weeks/MediaStorm_\")[1][:10]>=\"2020-02-02\"]\n",
    "list_pos_q1=[x for x in list_pos_q1 if x.split(\"_weeks/MediaStorm_\")[1][:10]<=\"2020-05-02\"]\n",
    "print(len(list_pos_q1))\n",
    "list_pos_q1.sort()\n",
    "df_q1_pos_files=pd.DataFrame({\"file_path\":list_pos_q1})\n",
    "df_q1_pos_files['week_end_dt']=df_q1_pos_files['file_path'].apply(lambda x: x.split(\"_weeks/MediaStorm_\")[1][:10])\n",
    "df_q1_pos_files['period']=np.where(df_q1_pos_files['week_end_dt']>=\"2020-03-15\",\"During_COVID\",\"Pre_COVID\")"
   ]
  },
  {
   "cell_type": "code",
   "execution_count": 6,
   "metadata": {},
   "outputs": [
    {
     "name": "stdout",
     "output_type": "stream",
     "text": [
      "1 2020-03-21\n",
      "2 2020-03-28\n",
      "3 2020-04-04\n",
      "4 2020-04-11\n",
      "5 2020-04-18\n",
      "6 2020-04-25\n",
      "7 2020-05-02\n",
      "8 2020-02-08\n",
      "9 2020-02-15\n",
      "10 2020-02-22\n",
      "11 2020-02-29\n",
      "12 2020-03-07\n",
      "13 2020-03-14\n"
     ]
    }
   ],
   "source": [
    "df_period_summary_by_week=pd.DataFrame()\n",
    "df_ids_both_periods_Q1=pd.DataFrame()\n",
    "agg_func_sales_id={\"customer_id_hashed\":\"nunique\",\"item_transaction_amt\":\"sum\"}\n",
    "i=0\n",
    "for period, df_group in df_q1_pos_files.groupby(\"period\"):\n",
    "    for ind,row in df_group.iterrows():\n",
    "        file=row['file_path']\n",
    "        week_end_dt=row['week_end_dt']\n",
    "        \n",
    "        df=pd.read_table(file,sep=\"|\")\n",
    "        df=pd.merge(df_ids_included,df,on=\"customer_id_hashed\",how=\"inner\")\n",
    "        df_sales=df.groupby(['group'])['customer_id_hashed','item_transaction_amt'].agg(agg_func_sales_id).reset_index().rename(columns={\"customer_id_hashed\":\"unique_shopper\",\"item_transaction_amt\":\"sales\"})\n",
    "        df_trans=df[['customer_id_hashed','group','location_id','transaction_dt','transaction_id']].drop_duplicates()\n",
    "        df_trans=df_trans.groupby(['group'])['transaction_id'].count().to_frame().reset_index().rename(columns={\"transaction_id\":\"transactions\"})\n",
    "        \n",
    "        df_ids=df[['customer_id_hashed','group']].drop_duplicates()\n",
    "        df_ids['period']=period\n",
    "        \n",
    "        df=pd.merge(df_sales,df_trans,on=[\"group\"])\n",
    "        df.insert(0,'period',period)\n",
    "        df.insert(1,'week_end_dt',week_end_dt)\n",
    "    \n",
    "        df_period_summary_by_week=df_period_summary_by_week.append(df)\n",
    "        df_ids_both_periods_Q1=df_ids_both_periods_Q1.append(df_ids)\n",
    "        i+=1\n",
    "        print(i,week_end_dt)\n",
    "df_ids_both_periods_Q1=df_ids_both_periods_Q1.drop_duplicates()\n",
    "        "
   ]
  },
  {
   "cell_type": "code",
   "execution_count": 7,
   "metadata": {},
   "outputs": [
    {
     "data": {
      "text/plain": [
       "((407857, 3), 312756, array(['During_COVID', 'Pre_COVID'], dtype=object))"
      ]
     },
     "execution_count": 7,
     "metadata": {},
     "output_type": "execute_result"
    }
   ],
   "source": [
    "df_ids_both_periods_Q1.shape,df_ids_both_periods_Q1['customer_id_hashed'].nunique(),df_ids_both_periods_Q1['period'].unique()"
   ]
  },
  {
   "cell_type": "code",
   "execution_count": 8,
   "metadata": {},
   "outputs": [],
   "source": [
    "df_ids_both_periods_Q1_summary=df_ids_both_periods_Q1.groupby(['period','group'])['customer_id_hashed'].nunique().to_frame().reset_index()"
   ]
  },
  {
   "cell_type": "code",
   "execution_count": 9,
   "metadata": {},
   "outputs": [],
   "source": [
    "writer=pd.ExcelWriter(\"./BL_Q1_rewards_matched_in_1_to_1_JL_%s.xlsx\"%str(datetime.datetime.now().date()),engine=\"xlsxwriter\")\n",
    "df_ids_both_periods_Q1_summary.to_excel(writer,\"shopper_count_summary\",index=False)\n",
    "df_period_summary_by_week.to_excel(writer,\"performance_by_week\",index=False)\n",
    "df_total_ids.to_excel(writer,\"total_matched_ids\",index=False)\n",
    "writer.save()"
   ]
  },
  {
   "cell_type": "code",
   "execution_count": 10,
   "metadata": {},
   "outputs": [
    {
     "data": {
      "text/html": [
       "<div>\n",
       "<style scoped>\n",
       "    .dataframe tbody tr th:only-of-type {\n",
       "        vertical-align: middle;\n",
       "    }\n",
       "\n",
       "    .dataframe tbody tr th {\n",
       "        vertical-align: top;\n",
       "    }\n",
       "\n",
       "    .dataframe thead th {\n",
       "        text-align: right;\n",
       "    }\n",
       "</style>\n",
       "<table border=\"1\" class=\"dataframe\">\n",
       "  <thead>\n",
       "    <tr style=\"text-align: right;\">\n",
       "      <th></th>\n",
       "      <th>file_path</th>\n",
       "      <th>week_end_dt</th>\n",
       "      <th>period</th>\n",
       "    </tr>\n",
       "  </thead>\n",
       "  <tbody>\n",
       "    <tr>\n",
       "      <th>0</th>\n",
       "      <td>/home/jian/BigLots/2020_by_weeks/MediaStorm_20...</td>\n",
       "      <td>2020-02-08</td>\n",
       "      <td>Pre_COVID</td>\n",
       "    </tr>\n",
       "    <tr>\n",
       "      <th>1</th>\n",
       "      <td>/home/jian/BigLots/2020_by_weeks/MediaStorm_20...</td>\n",
       "      <td>2020-02-15</td>\n",
       "      <td>Pre_COVID</td>\n",
       "    </tr>\n",
       "    <tr>\n",
       "      <th>2</th>\n",
       "      <td>/home/jian/BigLots/2020_by_weeks/MediaStorm_20...</td>\n",
       "      <td>2020-02-22</td>\n",
       "      <td>Pre_COVID</td>\n",
       "    </tr>\n",
       "    <tr>\n",
       "      <th>3</th>\n",
       "      <td>/home/jian/BigLots/2020_by_weeks/MediaStorm_20...</td>\n",
       "      <td>2020-02-29</td>\n",
       "      <td>Pre_COVID</td>\n",
       "    </tr>\n",
       "    <tr>\n",
       "      <th>4</th>\n",
       "      <td>/home/jian/BigLots/2020_by_weeks/MediaStorm_20...</td>\n",
       "      <td>2020-03-07</td>\n",
       "      <td>Pre_COVID</td>\n",
       "    </tr>\n",
       "    <tr>\n",
       "      <th>5</th>\n",
       "      <td>/home/jian/BigLots/2020_by_weeks/MediaStorm_20...</td>\n",
       "      <td>2020-03-14</td>\n",
       "      <td>Pre_COVID</td>\n",
       "    </tr>\n",
       "    <tr>\n",
       "      <th>6</th>\n",
       "      <td>/home/jian/BigLots/2020_by_weeks/MediaStorm_20...</td>\n",
       "      <td>2020-03-21</td>\n",
       "      <td>During_COVID</td>\n",
       "    </tr>\n",
       "    <tr>\n",
       "      <th>7</th>\n",
       "      <td>/home/jian/BigLots/2020_by_weeks/MediaStorm_20...</td>\n",
       "      <td>2020-03-28</td>\n",
       "      <td>During_COVID</td>\n",
       "    </tr>\n",
       "    <tr>\n",
       "      <th>8</th>\n",
       "      <td>/home/jian/BigLots/2020_by_weeks/MediaStorm_20...</td>\n",
       "      <td>2020-04-04</td>\n",
       "      <td>During_COVID</td>\n",
       "    </tr>\n",
       "    <tr>\n",
       "      <th>9</th>\n",
       "      <td>/home/jian/BigLots/2020_by_weeks/MediaStorm_20...</td>\n",
       "      <td>2020-04-11</td>\n",
       "      <td>During_COVID</td>\n",
       "    </tr>\n",
       "    <tr>\n",
       "      <th>10</th>\n",
       "      <td>/home/jian/BigLots/2020_by_weeks/MediaStorm_20...</td>\n",
       "      <td>2020-04-18</td>\n",
       "      <td>During_COVID</td>\n",
       "    </tr>\n",
       "    <tr>\n",
       "      <th>11</th>\n",
       "      <td>/home/jian/BigLots/2020_by_weeks/MediaStorm_20...</td>\n",
       "      <td>2020-04-25</td>\n",
       "      <td>During_COVID</td>\n",
       "    </tr>\n",
       "    <tr>\n",
       "      <th>12</th>\n",
       "      <td>/home/jian/BigLots/2020_by_weeks/MediaStorm_20...</td>\n",
       "      <td>2020-05-02</td>\n",
       "      <td>During_COVID</td>\n",
       "    </tr>\n",
       "  </tbody>\n",
       "</table>\n",
       "</div>"
      ],
      "text/plain": [
       "                                            file_path week_end_dt  \\\n",
       "0   /home/jian/BigLots/2020_by_weeks/MediaStorm_20...  2020-02-08   \n",
       "1   /home/jian/BigLots/2020_by_weeks/MediaStorm_20...  2020-02-15   \n",
       "2   /home/jian/BigLots/2020_by_weeks/MediaStorm_20...  2020-02-22   \n",
       "3   /home/jian/BigLots/2020_by_weeks/MediaStorm_20...  2020-02-29   \n",
       "4   /home/jian/BigLots/2020_by_weeks/MediaStorm_20...  2020-03-07   \n",
       "5   /home/jian/BigLots/2020_by_weeks/MediaStorm_20...  2020-03-14   \n",
       "6   /home/jian/BigLots/2020_by_weeks/MediaStorm_20...  2020-03-21   \n",
       "7   /home/jian/BigLots/2020_by_weeks/MediaStorm_20...  2020-03-28   \n",
       "8   /home/jian/BigLots/2020_by_weeks/MediaStorm_20...  2020-04-04   \n",
       "9   /home/jian/BigLots/2020_by_weeks/MediaStorm_20...  2020-04-11   \n",
       "10  /home/jian/BigLots/2020_by_weeks/MediaStorm_20...  2020-04-18   \n",
       "11  /home/jian/BigLots/2020_by_weeks/MediaStorm_20...  2020-04-25   \n",
       "12  /home/jian/BigLots/2020_by_weeks/MediaStorm_20...  2020-05-02   \n",
       "\n",
       "          period  \n",
       "0      Pre_COVID  \n",
       "1      Pre_COVID  \n",
       "2      Pre_COVID  \n",
       "3      Pre_COVID  \n",
       "4      Pre_COVID  \n",
       "5      Pre_COVID  \n",
       "6   During_COVID  \n",
       "7   During_COVID  \n",
       "8   During_COVID  \n",
       "9   During_COVID  \n",
       "10  During_COVID  \n",
       "11  During_COVID  \n",
       "12  During_COVID  "
      ]
     },
     "execution_count": 10,
     "metadata": {},
     "output_type": "execute_result"
    }
   ],
   "source": [
    "df_q1_pos_files"
   ]
  },
  {
   "cell_type": "code",
   "execution_count": null,
   "metadata": {},
   "outputs": [],
   "source": []
  }
 ],
 "metadata": {
  "kernelspec": {
   "display_name": "Python 3",
   "language": "python",
   "name": "python3"
  },
  "language_info": {
   "codemirror_mode": {
    "name": "ipython",
    "version": 3
   },
   "file_extension": ".py",
   "mimetype": "text/x-python",
   "name": "python",
   "nbconvert_exporter": "python",
   "pygments_lexer": "ipython3",
   "version": "3.6.1"
  }
 },
 "nbformat": 4,
 "nbformat_minor": 2
}
