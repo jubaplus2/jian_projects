{
 "cells": [
  {
   "cell_type": "code",
   "execution_count": 1,
   "metadata": {},
   "outputs": [
    {
     "data": {
      "text/plain": [
       "'/home/jian/Projects/Savers/TA_creation/CA_2_stores_2154_2158'"
      ]
     },
     "execution_count": 1,
     "metadata": {},
     "output_type": "execute_result"
    }
   ],
   "source": [
    "import pandas as pd\n",
    "import numpy as np\n",
    "from haversine import haversine\n",
    "import os\n",
    "\n",
    "os.getcwd()"
   ]
  },
  {
   "cell_type": "code",
   "execution_count": 10,
   "metadata": {},
   "outputs": [
    {
     "name": "stdout",
     "output_type": "stream",
     "text": [
      "(1115041, 3) 873339\n",
      "(873339, 3) 873339\n"
     ]
    }
   ],
   "source": [
    "df_CA_zip_centers=pd.read_csv(\"/home/jian/Docs/Geo_mapping/Canadian_Postal_Codes/canada-postal-code-database-BUSINESS-CSV/canada-postal-code-database-BUSINESS.csv\",\n",
    "                              dtype=str,usecols=['PostalCode','Latitude','Longitude'])\n",
    "df_CA_zip_centers['Latitude']=df_CA_zip_centers['Latitude'].astype(float)\n",
    "df_CA_zip_centers['Longitude']=df_CA_zip_centers['Longitude'].astype(float)\n",
    "print(df_CA_zip_centers.shape,df_CA_zip_centers['PostalCode'].nunique())\n",
    "\n",
    "df_CA_zip_centers=df_CA_zip_centers.drop_duplicates()\n",
    "print(df_CA_zip_centers.shape,df_CA_zip_centers['PostalCode'].nunique())\n"
   ]
  },
  {
   "cell_type": "code",
   "execution_count": 15,
   "metadata": {},
   "outputs": [],
   "source": [
    "df_CA_zip_centers['zip_center']=df_CA_zip_centers[['Latitude','Longitude']].values.tolist()\n",
    "dict_CA_zip_centers=df_CA_zip_centers.set_index(\"PostalCode\").to_dict()['zip_center']"
   ]
  },
  {
   "cell_type": "code",
   "execution_count": 19,
   "metadata": {},
   "outputs": [],
   "source": [
    "dict_store_centers={}\n",
    "dict_store_centers.update({\"2154\":[43.4557431,-79.6871351,'L6J2W8']})\n",
    "dict_store_centers.update({\"2158\":[43.7295257,-79.2844664,'M1L 2M6']})\n",
    "\n",
    "df_output=pd.DataFrame(index=dict_store_centers.keys()).reset_index().rename(columns={\"index\":\"location_id\"})\n",
    "df_output['latitude']=df_output['location_id'].apply(lambda x: dict_store_centers[x][0])\n",
    "df_output['longitude']=df_output['location_id'].apply(lambda x: dict_store_centers[x][1])\n",
    "df_output['store_zip']=df_output['location_id'].apply(lambda x: dict_store_centers[x][0])\n"
   ]
  },
  {
   "cell_type": "code",
   "execution_count": 21,
   "metadata": {},
   "outputs": [],
   "source": [
    "df_zip_store=pd.DataFrame()\n",
    "for ind,row in df_output.iterrows():\n",
    "    store_centers=(row['latitude'],row['longitude'])\n",
    "    df_store=pd.DataFrame()\n",
    "    for zip_cd,v in dict_CA_zip_centers.items():\n",
    "        dist=haversine(store_centers,v,miles=True)\n",
    "        if dist<=5:\n",
    "            df=pd.DataFrame({\"dist\":dist},index=[zip_cd])\n",
    "            df=df.reset_index().rename(columns={\"index\":\"zip\"})\n",
    "            df_store=df_store.append(df)\n",
    "    df_store['location_id']=row['location_id']\n",
    "    df_zip_store=df_zip_store.append(df_store)\n",
    "    \n",
    "    "
   ]
  },
  {
   "cell_type": "code",
   "execution_count": 22,
   "metadata": {},
   "outputs": [],
   "source": [
    "df_output=pd.merge(df_output,df_zip_store,on=\"location_id\",how=\"left\")"
   ]
  },
  {
   "cell_type": "code",
   "execution_count": 53,
   "metadata": {},
   "outputs": [],
   "source": [
    "df_output.to_csv(\"./Savers_zip_6_2_stores_JL_\"+str(datetime.datetime.now().date())+\".csv\",index=False)"
   ]
  },
  {
   "cell_type": "code",
   "execution_count": 27,
   "metadata": {},
   "outputs": [],
   "source": [
    "df_CC=pd.read_excel(\"./Savers_New2Stores_TA 20191017 CC.xlsx\",dtype=str)"
   ]
  },
  {
   "cell_type": "code",
   "execution_count": 41,
   "metadata": {},
   "outputs": [],
   "source": [
    "df_CC_zip_3=df_CC[['location_id','Zip first 3']].drop_duplicates()\n",
    "df_CC_zip_3_included=df_CC.drop_duplicates()\n",
    "df_CC_zip_3_included=df_CC_zip_3_included.groupby(['location_id','Zip first 3'])['zip'].nunique().to_frame().reset_index()\n",
    "df_CC_zip_3_included=df_CC_zip_3_included.rename(columns={\"zip\":\"zip_count_in_TA\"})"
   ]
  },
  {
   "cell_type": "code",
   "execution_count": 46,
   "metadata": {},
   "outputs": [],
   "source": [
    "df_zip_total=df_CA_zip_centers[['PostalCode']].drop_duplicates()\n",
    "df_zip_total['Zip first 3']=df_zip_total['PostalCode'].apply(lambda x: x[:3])\n",
    "df_zip_total=df_zip_total.groupby(\"Zip first 3\")['PostalCode'].nunique().to_frame().reset_index()\n",
    "df_zip_total=df_zip_total.rename(columns={\"PostalCode\":\"zip_count_Total_of_zip3\"})"
   ]
  },
  {
   "cell_type": "code",
   "execution_count": 47,
   "metadata": {},
   "outputs": [],
   "source": [
    "df_check_pctg=pd.merge(df_CC_zip_3_included,df_zip_total,on=\"Zip first 3\",how=\"left\")"
   ]
  },
  {
   "cell_type": "code",
   "execution_count": 51,
   "metadata": {},
   "outputs": [],
   "source": [
    "import datetime\n",
    "writer=pd.ExcelWriter(\"./Savers_zip_6_to_3_QC_with_Pctg_JL_\"+str(datetime.datetime.now().date())+\".xlsx\",engine=\"xlsxwriter\")\n",
    "df_check_pctg.to_excel(writer,\"QC_pctg\",index=False)\n",
    "writer.save()"
   ]
  },
  {
   "cell_type": "code",
   "execution_count": null,
   "metadata": {
    "collapsed": true
   },
   "outputs": [],
   "source": []
  }
 ],
 "metadata": {
  "kernelspec": {
   "display_name": "Python 3",
   "language": "python",
   "name": "python3"
  },
  "language_info": {
   "codemirror_mode": {
    "name": "ipython",
    "version": 3
   },
   "file_extension": ".py",
   "mimetype": "text/x-python",
   "name": "python",
   "nbconvert_exporter": "python",
   "pygments_lexer": "ipython3",
   "version": "3.6.1"
  }
 },
 "nbformat": 4,
 "nbformat_minor": 2
}
