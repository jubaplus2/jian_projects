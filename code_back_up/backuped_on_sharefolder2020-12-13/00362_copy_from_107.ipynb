{
 "cells": [
  {
   "cell_type": "code",
   "execution_count": 1,
   "metadata": {},
   "outputs": [],
   "source": [
    "import pandas as pd\n",
    "import numpy as np\n",
    "import datetime\n",
    "import os\n",
    "import paramiko\n",
    "\n",
    "\n",
    "host = \"107.191.32.220\" #hard-coded\n",
    "port = 22\n",
    "transport = paramiko.Transport((host, port))\n",
    "\n",
    "password = \"Tur87ZqzF9xV5mYF\" #hard-coded\n",
    "username = \"agilone\" #hard-coded\n",
    "transport.connect(username = username, password = password)\n",
    "sftp = paramiko.SFTPClient.from_transport(transport)\n",
    "\n",
    "remote_path=\"/home/agilone/\""
   ]
  },
  {
   "cell_type": "code",
   "execution_count": 2,
   "metadata": {},
   "outputs": [
    {
     "data": {
      "text/plain": [
       "['BL_Email_UnSubscriber_File_Refresh__20200525040444.csv',\n",
       " 'BL_Email_Subscriber_File_Catchup__20200423125713.csv',\n",
       " 'BL_Email_UnSubscriber_File_Refresh__20200625040341.csv',\n",
       " 'BL_Email_UnSubscriber_File_Catchup__20200422110800.csv',\n",
       " 'BL_Email_UnSubscriber_File_Catchup__20200425040325.csv',\n",
       " 'BL_Email_UnSubscriber_File_Refresh__20200725040404.csv',\n",
       " 'BL_Email_Subscriber_File_Catchup__20200425040226.csv',\n",
       " 'BigLots_CCPA_DELETE_Request__20200615062242.csv',\n",
       " 'BL_Email_Subscriber_File_Delta__20200725040244.csv',\n",
       " 'Favorite Store Compare_20200519081016.csv',\n",
       " 'BL_Email_Subscriber_File_Delta__20200525040244.csv',\n",
       " 'Favorite Store Compare_20200520014137.csv',\n",
       " 'BL_Email_Subscriber_File_Delta__20200625040302.csv',\n",
       " 'BigLots_CCPA_DELETE_Request__20200505021515.csv']"
      ]
     },
     "execution_count": 2,
     "metadata": {},
     "output_type": "execute_result"
    }
   ],
   "source": [
    "list_remote_basename=sftp.listdir(remote_path)\n",
    "list_remote_basename=[x for x in list_remote_basename if x[-4:]==\".csv\"]\n",
    "list_remote_basename"
   ]
  },
  {
   "cell_type": "code",
   "execution_count": 3,
   "metadata": {},
   "outputs": [],
   "source": [
    "list_local_basename=os.listdir(\"./\")\n",
    "list_local_basename=[x for x in list_local_basename if x[-4:]==\".csv\"]"
   ]
  },
  {
   "cell_type": "code",
   "execution_count": 4,
   "metadata": {},
   "outputs": [],
   "source": [
    "list_new_remote_basename=[x for x in list_remote_basename if x not in list_local_basename]\n",
    "\n",
    "for f in list_new_remote_basename:\n",
    "    sftp.get(remote_path+f,\"./\"+f)\n",
    "sftp.close()\n",
    "transport.close()"
   ]
  },
  {
   "cell_type": "code",
   "execution_count": 6,
   "metadata": {},
   "outputs": [
    {
     "data": {
      "text/plain": [
       "['BL_Email_UnSubscriber_File_Refresh__20200725040404.csv',\n",
       " 'BL_Email_Subscriber_File_Delta__20200725040244.csv']"
      ]
     },
     "execution_count": 6,
     "metadata": {},
     "output_type": "execute_result"
    }
   ],
   "source": [
    "list_new_remote_basename"
   ]
  },
  {
   "cell_type": "code",
   "execution_count": 5,
   "metadata": {},
   "outputs": [
    {
     "data": {
      "text/plain": [
       "['Unsub_JH_Final20191105Hashed.zip',\n",
       " '.ipynb_checkpoints',\n",
       " 'qc_2_waves_for_unsub.ipynb',\n",
       " 'qc_email_sub_unsub_JL_2020-03-02.csv',\n",
       " 'copy_from_107.ipynb',\n",
       " 'BL_Email_Subscriber_File_Catchup__20200423125713.csv',\n",
       " 'BL_Email_UnSubscriber_File_Catchup__20200422110800.csv',\n",
       " 'BL_Email_UnSubscriber_File_Catchup__20200425040325.csv',\n",
       " 'BL_Email_Subscriber_File_Catchup__20200425040226.csv',\n",
       " 'BigLots_CCPA_DELETE_Request__20200505021515.csv',\n",
       " 'BL_email_subsriber_20200425_summary_JL_2020-05-05.xlsx',\n",
       " 'BL_Email_UnSubscriber_File_Refresh__20200525040444.csv',\n",
       " 'BL_Email_UnSubscriber_File_Refresh__20200625040341.csv',\n",
       " 'BigLots_CCPA_DELETE_Request__20200615062242.csv',\n",
       " 'Favorite Store Compare_20200519081016.csv',\n",
       " 'BL_Email_Subscriber_File_Delta__20200525040244.csv',\n",
       " 'Favorite Store Compare_20200520014137.csv',\n",
       " 'BL_Email_Subscriber_File_Delta__20200625040302.csv',\n",
       " 'BL_Email_UnSubscriber_File_Refresh__20200725040404.csv',\n",
       " 'BL_Email_Subscriber_File_Delta__20200725040244.csv']"
      ]
     },
     "execution_count": 5,
     "metadata": {},
     "output_type": "execute_result"
    }
   ],
   "source": [
    "os.listdir(\"./\")"
   ]
  },
  {
   "cell_type": "code",
   "execution_count": 38,
   "metadata": {},
   "outputs": [
    {
     "data": {
      "text/plain": [
       "Timestamp('2016-11-20 01:21:53.019000')"
      ]
     },
     "execution_count": 38,
     "metadata": {},
     "output_type": "execute_result"
    },
    {
     "name": "stderr",
     "output_type": "stream",
     "text": [
      "Socket exception: Connection reset by peer (104)\n"
     ]
    }
   ],
   "source": [
    "pd.to_datetime(1479604913019,unit=\"ms\")"
   ]
  },
  {
   "cell_type": "code",
   "execution_count": 2,
   "metadata": {},
   "outputs": [
    {
     "name": "stdout",
     "output_type": "stream",
     "text": [
      "(773090, 7)\n"
     ]
    },
    {
     "data": {
      "text/html": [
       "<div>\n",
       "<style scoped>\n",
       "    .dataframe tbody tr th:only-of-type {\n",
       "        vertical-align: middle;\n",
       "    }\n",
       "\n",
       "    .dataframe tbody tr th {\n",
       "        vertical-align: top;\n",
       "    }\n",
       "\n",
       "    .dataframe thead th {\n",
       "        text-align: right;\n",
       "    }\n",
       "</style>\n",
       "<table border=\"1\" class=\"dataframe\">\n",
       "  <thead>\n",
       "    <tr style=\"text-align: right;\">\n",
       "      <th></th>\n",
       "      <th>customersummary_mastercustomerid</th>\n",
       "      <th>customersummary_emailhash</th>\n",
       "      <th>customersummary_c_primaryscnhash</th>\n",
       "      <th>customersummary_c_datecreated</th>\n",
       "      <th>customersummary_c_adsgroupmembershipsunsubscribed</th>\n",
       "      <th>customersummary_c_promosgroupmembershipsunsubscribed</th>\n",
       "      <th>execution_id</th>\n",
       "    </tr>\n",
       "  </thead>\n",
       "  <tbody>\n",
       "    <tr>\n",
       "      <th>0</th>\n",
       "      <td>FTP_CSV_5_61444057</td>\n",
       "      <td>97328b0fb0a30db63afd823fa600104e4228701882cfb9...</td>\n",
       "      <td>36a5ff19270a4f16e3292111703365f264375071c67def...</td>\n",
       "      <td>1587506339969</td>\n",
       "      <td>N</td>\n",
       "      <td>N</td>\n",
       "      <td>1587830463942</td>\n",
       "    </tr>\n",
       "    <tr>\n",
       "      <th>1</th>\n",
       "      <td>FTP_CSV_5_61040607</td>\n",
       "      <td>16530bf52fb0064bb34bfb8ed1d1bf556fe1a6ad0fbaad...</td>\n",
       "      <td>2cc71e98603de024b2fee9cfeba519b756ab2061bddeda...</td>\n",
       "      <td>1586381249887</td>\n",
       "      <td>N</td>\n",
       "      <td>N</td>\n",
       "      <td>1587830463942</td>\n",
       "    </tr>\n",
       "  </tbody>\n",
       "</table>\n",
       "</div>"
      ],
      "text/plain": [
       "  customersummary_mastercustomerid  \\\n",
       "0               FTP_CSV_5_61444057   \n",
       "1               FTP_CSV_5_61040607   \n",
       "\n",
       "                           customersummary_emailhash  \\\n",
       "0  97328b0fb0a30db63afd823fa600104e4228701882cfb9...   \n",
       "1  16530bf52fb0064bb34bfb8ed1d1bf556fe1a6ad0fbaad...   \n",
       "\n",
       "                    customersummary_c_primaryscnhash  \\\n",
       "0  36a5ff19270a4f16e3292111703365f264375071c67def...   \n",
       "1  2cc71e98603de024b2fee9cfeba519b756ab2061bddeda...   \n",
       "\n",
       "  customersummary_c_datecreated  \\\n",
       "0                 1587506339969   \n",
       "1                 1586381249887   \n",
       "\n",
       "  customersummary_c_adsgroupmembershipsunsubscribed  \\\n",
       "0                                                 N   \n",
       "1                                                 N   \n",
       "\n",
       "  customersummary_c_promosgroupmembershipsunsubscribed   execution_id  \n",
       "0                                                  N    1587830463942  \n",
       "1                                                  N    1587830463942  "
      ]
     },
     "execution_count": 2,
     "metadata": {},
     "output_type": "execute_result"
    }
   ],
   "source": [
    "df_1_sub=pd.read_csv(\"./BL_Email_Subscriber_File_Catchup__20200425040226.csv\",dtype=str)\n",
    "print(df_1_sub.shape)\n",
    "df_1_sub.head(2)"
   ]
  },
  {
   "cell_type": "code",
   "execution_count": 14,
   "metadata": {},
   "outputs": [
    {
     "data": {
      "text/plain": [
       "['customersummary_mastercustomerid',\n",
       " 'customersummary_emailhash',\n",
       " 'customersummary_c_primaryscnhash',\n",
       " 'customersummary_c_datecreated',\n",
       " 'customersummary_c_adsgroupmembershipsunsubscribed',\n",
       " 'customersummary_c_promosgroupmembershipsunsubscribed',\n",
       " 'execution_id']"
      ]
     },
     "execution_count": 14,
     "metadata": {},
     "output_type": "execute_result"
    }
   ],
   "source": [
    "df_1_sub.columns.tolist()"
   ]
  },
  {
   "cell_type": "code",
   "execution_count": 3,
   "metadata": {},
   "outputs": [],
   "source": [
    "df_1_sub['customersummary_c_adsgroupmembershipsunsubscribed']=df_1_sub['customersummary_c_adsgroupmembershipsunsubscribed'].fillna(\"nan\")\n",
    "df_1_sub['customersummary_c_promosgroupmembershipsunsubscribed']=df_1_sub['customersummary_c_promosgroupmembershipsunsubscribed'].fillna(\"nan\")\n"
   ]
  },
  {
   "cell_type": "code",
   "execution_count": 4,
   "metadata": {},
   "outputs": [
    {
     "data": {
      "text/html": [
       "<div>\n",
       "<style scoped>\n",
       "    .dataframe tbody tr th:only-of-type {\n",
       "        vertical-align: middle;\n",
       "    }\n",
       "\n",
       "    .dataframe tbody tr th {\n",
       "        vertical-align: top;\n",
       "    }\n",
       "\n",
       "    .dataframe thead th {\n",
       "        text-align: right;\n",
       "    }\n",
       "</style>\n",
       "<table border=\"1\" class=\"dataframe\">\n",
       "  <thead>\n",
       "    <tr style=\"text-align: right;\">\n",
       "      <th></th>\n",
       "      <th>customersummary_c_adsgroupmembershipsunsubscribed</th>\n",
       "      <th>customersummary_c_promosgroupmembershipsunsubscribed</th>\n",
       "      <th>customersummary_emailhash</th>\n",
       "    </tr>\n",
       "  </thead>\n",
       "  <tbody>\n",
       "    <tr>\n",
       "      <th>0</th>\n",
       "      <td>N</td>\n",
       "      <td>N</td>\n",
       "      <td>772825</td>\n",
       "    </tr>\n",
       "    <tr>\n",
       "      <th>1</th>\n",
       "      <td>N</td>\n",
       "      <td>Y</td>\n",
       "      <td>40</td>\n",
       "    </tr>\n",
       "    <tr>\n",
       "      <th>2</th>\n",
       "      <td>N</td>\n",
       "      <td>nan</td>\n",
       "      <td>5</td>\n",
       "    </tr>\n",
       "    <tr>\n",
       "      <th>3</th>\n",
       "      <td>Y</td>\n",
       "      <td>N</td>\n",
       "      <td>196</td>\n",
       "    </tr>\n",
       "    <tr>\n",
       "      <th>4</th>\n",
       "      <td>nan</td>\n",
       "      <td>N</td>\n",
       "      <td>24</td>\n",
       "    </tr>\n",
       "  </tbody>\n",
       "</table>\n",
       "</div>"
      ],
      "text/plain": [
       "  customersummary_c_adsgroupmembershipsunsubscribed  \\\n",
       "0                                                 N   \n",
       "1                                                 N   \n",
       "2                                                 N   \n",
       "3                                                 Y   \n",
       "4                                               nan   \n",
       "\n",
       "  customersummary_c_promosgroupmembershipsunsubscribed  \\\n",
       "0                                                  N     \n",
       "1                                                  Y     \n",
       "2                                                nan     \n",
       "3                                                  N     \n",
       "4                                                  N     \n",
       "\n",
       "   customersummary_emailhash  \n",
       "0                     772825  \n",
       "1                         40  \n",
       "2                          5  \n",
       "3                        196  \n",
       "4                         24  "
      ]
     },
     "execution_count": 4,
     "metadata": {},
     "output_type": "execute_result"
    }
   ],
   "source": [
    "sub_summary=df_1_sub.groupby(['customersummary_c_adsgroupmembershipsunsubscribed','customersummary_c_promosgroupmembershipsunsubscribed'])['customersummary_emailhash'].count().to_frame().reset_index()\n",
    "sub_summary"
   ]
  },
  {
   "cell_type": "code",
   "execution_count": 5,
   "metadata": {},
   "outputs": [
    {
     "name": "stdout",
     "output_type": "stream",
     "text": [
      "(1011368, 7)\n"
     ]
    },
    {
     "data": {
      "text/html": [
       "<div>\n",
       "<style scoped>\n",
       "    .dataframe tbody tr th:only-of-type {\n",
       "        vertical-align: middle;\n",
       "    }\n",
       "\n",
       "    .dataframe tbody tr th {\n",
       "        vertical-align: top;\n",
       "    }\n",
       "\n",
       "    .dataframe thead th {\n",
       "        text-align: right;\n",
       "    }\n",
       "</style>\n",
       "<table border=\"1\" class=\"dataframe\">\n",
       "  <thead>\n",
       "    <tr style=\"text-align: right;\">\n",
       "      <th></th>\n",
       "      <th>customersummary_mastercustomerid</th>\n",
       "      <th>customersummary_emailhash</th>\n",
       "      <th>customersummary_c_primaryscnhash</th>\n",
       "      <th>customersummary_c_datecreated</th>\n",
       "      <th>customersummary_c_adsgroupmembershipsunsubscribed</th>\n",
       "      <th>customersummary_c_promosgroupmembershipsunsubscribed</th>\n",
       "      <th>execution_id</th>\n",
       "    </tr>\n",
       "  </thead>\n",
       "  <tbody>\n",
       "    <tr>\n",
       "      <th>0</th>\n",
       "      <td>FTP_CSV_5_51407010</td>\n",
       "      <td>c8b15762c0bc2cee64aca7dd736438e5a21a1ecbf60676...</td>\n",
       "      <td>afeaf54e328e836ac2499ec0466317f436f938ccc1be10...</td>\n",
       "      <td>1541991955884</td>\n",
       "      <td>Y</td>\n",
       "      <td>Y</td>\n",
       "      <td>1587830499815</td>\n",
       "    </tr>\n",
       "    <tr>\n",
       "      <th>1</th>\n",
       "      <td>FTP_CSV_5_52771371</td>\n",
       "      <td>103d5a0529d0997683353e2f881508b54bac070b2b9377...</td>\n",
       "      <td>d0f90e11d288dff016bf14cf24ef3f3e31d122bfffc2c8...</td>\n",
       "      <td>1546190705181</td>\n",
       "      <td>Y</td>\n",
       "      <td>Y</td>\n",
       "      <td>1587830499815</td>\n",
       "    </tr>\n",
       "  </tbody>\n",
       "</table>\n",
       "</div>"
      ],
      "text/plain": [
       "  customersummary_mastercustomerid  \\\n",
       "0               FTP_CSV_5_51407010   \n",
       "1               FTP_CSV_5_52771371   \n",
       "\n",
       "                           customersummary_emailhash  \\\n",
       "0  c8b15762c0bc2cee64aca7dd736438e5a21a1ecbf60676...   \n",
       "1  103d5a0529d0997683353e2f881508b54bac070b2b9377...   \n",
       "\n",
       "                    customersummary_c_primaryscnhash  \\\n",
       "0  afeaf54e328e836ac2499ec0466317f436f938ccc1be10...   \n",
       "1  d0f90e11d288dff016bf14cf24ef3f3e31d122bfffc2c8...   \n",
       "\n",
       "  customersummary_c_datecreated  \\\n",
       "0                 1541991955884   \n",
       "1                 1546190705181   \n",
       "\n",
       "  customersummary_c_adsgroupmembershipsunsubscribed  \\\n",
       "0                                                 Y   \n",
       "1                                                 Y   \n",
       "\n",
       "  customersummary_c_promosgroupmembershipsunsubscribed   execution_id  \n",
       "0                                                  Y    1587830499815  \n",
       "1                                                  Y    1587830499815  "
      ]
     },
     "execution_count": 5,
     "metadata": {},
     "output_type": "execute_result"
    }
   ],
   "source": [
    "df_2_unsub=pd.read_csv(\"./BL_Email_UnSubscriber_File_Catchup__20200425040325.csv\",dtype=str)\n",
    "print(df_2_unsub.shape)\n",
    "df_2_unsub.head(2)"
   ]
  },
  {
   "cell_type": "code",
   "execution_count": 6,
   "metadata": {},
   "outputs": [],
   "source": [
    "df_2_unsub['customersummary_c_adsgroupmembershipsunsubscribed']=df_2_unsub['customersummary_c_adsgroupmembershipsunsubscribed'].fillna(\"nan\")\n",
    "df_2_unsub['customersummary_c_promosgroupmembershipsunsubscribed']=df_2_unsub['customersummary_c_promosgroupmembershipsunsubscribed'].fillna(\"nan\")\n"
   ]
  },
  {
   "cell_type": "code",
   "execution_count": 7,
   "metadata": {},
   "outputs": [
    {
     "data": {
      "text/html": [
       "<div>\n",
       "<style scoped>\n",
       "    .dataframe tbody tr th:only-of-type {\n",
       "        vertical-align: middle;\n",
       "    }\n",
       "\n",
       "    .dataframe tbody tr th {\n",
       "        vertical-align: top;\n",
       "    }\n",
       "\n",
       "    .dataframe thead th {\n",
       "        text-align: right;\n",
       "    }\n",
       "</style>\n",
       "<table border=\"1\" class=\"dataframe\">\n",
       "  <thead>\n",
       "    <tr style=\"text-align: right;\">\n",
       "      <th></th>\n",
       "      <th>customersummary_c_adsgroupmembershipsunsubscribed</th>\n",
       "      <th>customersummary_c_promosgroupmembershipsunsubscribed</th>\n",
       "      <th>customersummary_emailhash</th>\n",
       "    </tr>\n",
       "  </thead>\n",
       "  <tbody>\n",
       "    <tr>\n",
       "      <th>0</th>\n",
       "      <td>N</td>\n",
       "      <td>Y</td>\n",
       "      <td>1209</td>\n",
       "    </tr>\n",
       "    <tr>\n",
       "      <th>1</th>\n",
       "      <td>Y</td>\n",
       "      <td>N</td>\n",
       "      <td>5650</td>\n",
       "    </tr>\n",
       "    <tr>\n",
       "      <th>2</th>\n",
       "      <td>Y</td>\n",
       "      <td>Y</td>\n",
       "      <td>1004066</td>\n",
       "    </tr>\n",
       "    <tr>\n",
       "      <th>3</th>\n",
       "      <td>Y</td>\n",
       "      <td>nan</td>\n",
       "      <td>25</td>\n",
       "    </tr>\n",
       "    <tr>\n",
       "      <th>4</th>\n",
       "      <td>nan</td>\n",
       "      <td>Y</td>\n",
       "      <td>418</td>\n",
       "    </tr>\n",
       "  </tbody>\n",
       "</table>\n",
       "</div>"
      ],
      "text/plain": [
       "  customersummary_c_adsgroupmembershipsunsubscribed  \\\n",
       "0                                                 N   \n",
       "1                                                 Y   \n",
       "2                                                 Y   \n",
       "3                                                 Y   \n",
       "4                                               nan   \n",
       "\n",
       "  customersummary_c_promosgroupmembershipsunsubscribed  \\\n",
       "0                                                  Y     \n",
       "1                                                  N     \n",
       "2                                                  Y     \n",
       "3                                                nan     \n",
       "4                                                  Y     \n",
       "\n",
       "   customersummary_emailhash  \n",
       "0                       1209  \n",
       "1                       5650  \n",
       "2                    1004066  \n",
       "3                         25  \n",
       "4                        418  "
      ]
     },
     "execution_count": 7,
     "metadata": {},
     "output_type": "execute_result"
    }
   ],
   "source": [
    "unsub_summary=df_2_unsub.groupby(['customersummary_c_adsgroupmembershipsunsubscribed','customersummary_c_promosgroupmembershipsunsubscribed'])['customersummary_emailhash'].count().to_frame().reset_index()\n",
    "unsub_summary"
   ]
  },
  {
   "cell_type": "code",
   "execution_count": 10,
   "metadata": {},
   "outputs": [],
   "source": [
    "writer_summary=pd.ExcelWriter(\"./BL_email_subsriber_20200425_summary_JL_\"+str(datetime.datetime.now().date())+\".xlsx\",engine=\"xlsxwriter\")\n",
    "sub_summary.to_excel(writer_summary,\"sub_summary\",index=False)\n",
    "unsub_summary.to_excel(writer_summary,\"unsub_summary\",index=False)\n",
    "writer_summary.save()"
   ]
  },
  {
   "cell_type": "code",
   "execution_count": 12,
   "metadata": {},
   "outputs": [],
   "source": [
    "list_sub=df_1_sub[['customersummary_emailhash']].drop_duplicates()\n",
    "list_unsub=df_2_unsub[['customersummary_emailhash']].drop_duplicates()\n",
    "\n",
    "df_common_ids=pd.merge(list_sub,list_unsub,on=\"customersummary_emailhash\",how=\"inner\")"
   ]
  },
  {
   "cell_type": "code",
   "execution_count": 15,
   "metadata": {},
   "outputs": [
    {
     "data": {
      "text/html": [
       "<div>\n",
       "<style scoped>\n",
       "    .dataframe tbody tr th:only-of-type {\n",
       "        vertical-align: middle;\n",
       "    }\n",
       "\n",
       "    .dataframe tbody tr th {\n",
       "        vertical-align: top;\n",
       "    }\n",
       "\n",
       "    .dataframe thead th {\n",
       "        text-align: right;\n",
       "    }\n",
       "</style>\n",
       "<table border=\"1\" class=\"dataframe\">\n",
       "  <thead>\n",
       "    <tr style=\"text-align: right;\">\n",
       "      <th></th>\n",
       "      <th>customersummary_emailhash</th>\n",
       "    </tr>\n",
       "  </thead>\n",
       "  <tbody>\n",
       "    <tr>\n",
       "      <th>0</th>\n",
       "      <td>8b56288899284ba52f968e6858b4f0e78ca5324490e518...</td>\n",
       "    </tr>\n",
       "    <tr>\n",
       "      <th>1</th>\n",
       "      <td>e604c67911c65ca8756242a17977d51fa2860204e6f966...</td>\n",
       "    </tr>\n",
       "  </tbody>\n",
       "</table>\n",
       "</div>"
      ],
      "text/plain": [
       "                           customersummary_emailhash\n",
       "0  8b56288899284ba52f968e6858b4f0e78ca5324490e518...\n",
       "1  e604c67911c65ca8756242a17977d51fa2860204e6f966..."
      ]
     },
     "execution_count": 15,
     "metadata": {},
     "output_type": "execute_result"
    }
   ],
   "source": [
    "df_common_ids.head(2)"
   ]
  },
  {
   "cell_type": "code",
   "execution_count": 16,
   "metadata": {},
   "outputs": [
    {
     "data": {
      "text/plain": [
       "255"
      ]
     },
     "execution_count": 16,
     "metadata": {},
     "output_type": "execute_result"
    },
    {
     "name": "stderr",
     "output_type": "stream",
     "text": [
      "Socket exception: Connection reset by peer (104)\n"
     ]
    }
   ],
   "source": [
    "df_common_ids['customersummary_emailhash'].nunique()"
   ]
  },
  {
   "cell_type": "code",
   "execution_count": null,
   "metadata": {},
   "outputs": [],
   "source": []
  }
 ],
 "metadata": {
  "kernelspec": {
   "display_name": "Python 3",
   "language": "python",
   "name": "python3"
  },
  "language_info": {
   "codemirror_mode": {
    "name": "ipython",
    "version": 3
   },
   "file_extension": ".py",
   "mimetype": "text/x-python",
   "name": "python",
   "nbconvert_exporter": "python",
   "pygments_lexer": "ipython3",
   "version": "3.6.1"
  }
 },
 "nbformat": 4,
 "nbformat_minor": 2
}
