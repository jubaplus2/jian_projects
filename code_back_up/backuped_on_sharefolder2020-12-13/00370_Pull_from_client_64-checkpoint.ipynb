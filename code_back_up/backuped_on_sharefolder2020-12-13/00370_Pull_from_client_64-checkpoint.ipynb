{
 "cells": [
  {
   "cell_type": "code",
   "execution_count": 1,
   "metadata": {},
   "outputs": [
    {
     "data": {
      "text/plain": [
       "'/home/jian/BigLots/New_Sing_Ups_2018_Fiscal_Year'"
      ]
     },
     "execution_count": 1,
     "metadata": {},
     "output_type": "execute_result"
    }
   ],
   "source": [
    "# 2019-05-29\n",
    "\n",
    "import pandas as pd\n",
    "import paramiko\n",
    "import numpy as np\n",
    "import datetime\n",
    "import os\n",
    "\n",
    "os.getcwd()"
   ]
  },
  {
   "cell_type": "code",
   "execution_count": 3,
   "metadata": {
    "collapsed": true
   },
   "outputs": [],
   "source": [
    "host = \"64.237.51.251\" #hard-coded\n",
    "port = 22\n",
    "transport = paramiko.Transport((host, port))\n",
    "\n",
    "password = \"bwRi3V6fgZsfJrMl\" #hard-coded\n",
    "username = \"client\" #hard-coded\n",
    "transport.connect(username = username, password = password)\n",
    "sftp = paramiko.SFTPClient.from_transport(transport)"
   ]
  },
  {
   "cell_type": "code",
   "execution_count": 5,
   "metadata": {
    "collapsed": true
   },
   "outputs": [],
   "source": [
    "remote_path=\"/mnt/drv5/biglots_data/All Rewards Members 2018-02-04 - 2019-05-04.zip\"\n",
    "localpath=\"./\"+os.path.basename(remote_path)\n",
    "sftp.get(remote_path,localpath)\n",
    "sftp.close()"
   ]
  },
  {
   "cell_type": "code",
   "execution_count": 3,
   "metadata": {},
   "outputs": [
    {
     "data": {
      "text/plain": [
       "(7888562, 13)"
      ]
     },
     "execution_count": 3,
     "metadata": {},
     "output_type": "execute_result"
    }
   ],
   "source": [
    "# Same columns names confirmed\n",
    "\n",
    "localpath=\"/home/jian/BigLots/New_Sing_Ups_2018_Fiscal_Year/All Rewards Members 2018-02-04 - 2019-05-04.zip\"\n",
    "df=pd.read_table(localpath,dtype=str,sep=\"|\",compression=\"zip\")\n",
    "df.shape"
   ]
  },
  {
   "cell_type": "code",
   "execution_count": 4,
   "metadata": {},
   "outputs": [
    {
     "data": {
      "text/html": [
       "<div>\n",
       "<style>\n",
       "    .dataframe thead tr:only-child th {\n",
       "        text-align: right;\n",
       "    }\n",
       "\n",
       "    .dataframe thead th {\n",
       "        text-align: left;\n",
       "    }\n",
       "\n",
       "    .dataframe tbody tr th {\n",
       "        vertical-align: top;\n",
       "    }\n",
       "</style>\n",
       "<table border=\"1\" class=\"dataframe\">\n",
       "  <thead>\n",
       "    <tr style=\"text-align: right;\">\n",
       "      <th></th>\n",
       "      <th>customer_id_hashed</th>\n",
       "      <th>sign_up_date</th>\n",
       "    </tr>\n",
       "  </thead>\n",
       "  <tbody>\n",
       "    <tr>\n",
       "      <th>6526140</th>\n",
       "      <td>d3bc0ffde5b98267799c5035456a3b3a6fd411acf4d5c5...</td>\n",
       "      <td>3</td>\n",
       "    </tr>\n",
       "    <tr>\n",
       "      <th>4295690</th>\n",
       "      <td>8b66e3dd67214ef9898323502d0173a858b2e80c077b63...</td>\n",
       "      <td>3</td>\n",
       "    </tr>\n",
       "    <tr>\n",
       "      <th>1498069</th>\n",
       "      <td>309fc6ee532e2e7958e1d7cf94d6f950cceb8e21aa8eef...</td>\n",
       "      <td>2</td>\n",
       "    </tr>\n",
       "    <tr>\n",
       "      <th>5460013</th>\n",
       "      <td>b12228957038cc6beb93032ad84c8c4742633c883cd35c...</td>\n",
       "      <td>2</td>\n",
       "    </tr>\n",
       "    <tr>\n",
       "      <th>3228834</th>\n",
       "      <td>68c75f95e8e697333eebdbaec46620cf1d3cbd916745d5...</td>\n",
       "      <td>2</td>\n",
       "    </tr>\n",
       "  </tbody>\n",
       "</table>\n",
       "</div>"
      ],
      "text/plain": [
       "                                        customer_id_hashed  sign_up_date\n",
       "6526140  d3bc0ffde5b98267799c5035456a3b3a6fd411acf4d5c5...             3\n",
       "4295690  8b66e3dd67214ef9898323502d0173a858b2e80c077b63...             3\n",
       "1498069  309fc6ee532e2e7958e1d7cf94d6f950cceb8e21aa8eef...             2\n",
       "5460013  b12228957038cc6beb93032ad84c8c4742633c883cd35c...             2\n",
       "3228834  68c75f95e8e697333eebdbaec46620cf1d3cbd916745d5...             2"
      ]
     },
     "execution_count": 4,
     "metadata": {},
     "output_type": "execute_result"
    }
   ],
   "source": [
    "id_by_count=df.groupby(['customer_id_hashed'])['sign_up_date'].count().to_frame().reset_index().sort_values(\"sign_up_date\",ascending=False).head(5)\n",
    "id_by_count.head(5)\n"
   ]
  },
  {
   "cell_type": "code",
   "execution_count": 5,
   "metadata": {},
   "outputs": [
    {
     "data": {
      "text/plain": [
       "'d3bc0ffde5b98267799c5035456a3b3a6fd411acf4d5c5fb9f2d1b6d4b496d0f'"
      ]
     },
     "execution_count": 5,
     "metadata": {},
     "output_type": "execute_result"
    }
   ],
   "source": [
    "id_by_count['customer_id_hashed'].tolist()[0]"
   ]
  },
  {
   "cell_type": "code",
   "execution_count": 7,
   "metadata": {},
   "outputs": [
    {
     "data": {
      "text/html": [
       "<div>\n",
       "<style>\n",
       "    .dataframe thead tr:only-child th {\n",
       "        text-align: right;\n",
       "    }\n",
       "\n",
       "    .dataframe thead th {\n",
       "        text-align: left;\n",
       "    }\n",
       "\n",
       "    .dataframe tbody tr th {\n",
       "        vertical-align: top;\n",
       "    }\n",
       "</style>\n",
       "<table border=\"1\" class=\"dataframe\">\n",
       "  <thead>\n",
       "    <tr style=\"text-align: right;\">\n",
       "      <th></th>\n",
       "      <th>customer_id_hashed</th>\n",
       "      <th>email_address_hash</th>\n",
       "      <th>sign_up_date</th>\n",
       "      <th>sign_up_channel</th>\n",
       "      <th>sign_up_location</th>\n",
       "      <th>customer_zip_code</th>\n",
       "      <th>transaction_count</th>\n",
       "      <th>transaction_amount</th>\n",
       "      <th>experian_multi_cluster</th>\n",
       "      <th>experian_demo_cluster</th>\n",
       "      <th>purchase_channel</th>\n",
       "      <th>email_unsubscribe_indicator</th>\n",
       "      <th>email_undeliverable_indicator</th>\n",
       "    </tr>\n",
       "  </thead>\n",
       "  <tbody>\n",
       "    <tr>\n",
       "      <th>1225002</th>\n",
       "      <td>8b66e3dd67214ef9898323502d0173a858b2e80c077b63...</td>\n",
       "      <td>eb734603f2c326c5410c848e170fce048b54142eee2196...</td>\n",
       "      <td>2018-12-29</td>\n",
       "      <td>STORE</td>\n",
       "      <td>1405</td>\n",
       "      <td>64012</td>\n",
       "      <td>NaN</td>\n",
       "      <td>NaN</td>\n",
       "      <td>8</td>\n",
       "      <td>3</td>\n",
       "      <td>NaN</td>\n",
       "      <td>N</td>\n",
       "      <td>N</td>\n",
       "    </tr>\n",
       "    <tr>\n",
       "      <th>6033635</th>\n",
       "      <td>8b66e3dd67214ef9898323502d0173a858b2e80c077b63...</td>\n",
       "      <td>eb734603f2c326c5410c848e170fce048b54142eee2196...</td>\n",
       "      <td>2018-12-29</td>\n",
       "      <td>STORE</td>\n",
       "      <td>1405</td>\n",
       "      <td>64012</td>\n",
       "      <td>NaN</td>\n",
       "      <td>NaN</td>\n",
       "      <td>8</td>\n",
       "      <td>4</td>\n",
       "      <td>NaN</td>\n",
       "      <td>N</td>\n",
       "      <td>N</td>\n",
       "    </tr>\n",
       "    <tr>\n",
       "      <th>7550694</th>\n",
       "      <td>8b66e3dd67214ef9898323502d0173a858b2e80c077b63...</td>\n",
       "      <td>eb734603f2c326c5410c848e170fce048b54142eee2196...</td>\n",
       "      <td>2018-12-29</td>\n",
       "      <td>STORE</td>\n",
       "      <td>1405</td>\n",
       "      <td>64012</td>\n",
       "      <td>NaN</td>\n",
       "      <td>NaN</td>\n",
       "      <td>3</td>\n",
       "      <td>4</td>\n",
       "      <td>NaN</td>\n",
       "      <td>N</td>\n",
       "      <td>N</td>\n",
       "    </tr>\n",
       "  </tbody>\n",
       "</table>\n",
       "</div>"
      ],
      "text/plain": [
       "                                        customer_id_hashed  \\\n",
       "1225002  8b66e3dd67214ef9898323502d0173a858b2e80c077b63...   \n",
       "6033635  8b66e3dd67214ef9898323502d0173a858b2e80c077b63...   \n",
       "7550694  8b66e3dd67214ef9898323502d0173a858b2e80c077b63...   \n",
       "\n",
       "                                        email_address_hash sign_up_date  \\\n",
       "1225002  eb734603f2c326c5410c848e170fce048b54142eee2196...   2018-12-29   \n",
       "6033635  eb734603f2c326c5410c848e170fce048b54142eee2196...   2018-12-29   \n",
       "7550694  eb734603f2c326c5410c848e170fce048b54142eee2196...   2018-12-29   \n",
       "\n",
       "        sign_up_channel sign_up_location customer_zip_code transaction_count  \\\n",
       "1225002           STORE             1405             64012               NaN   \n",
       "6033635           STORE             1405             64012               NaN   \n",
       "7550694           STORE             1405             64012               NaN   \n",
       "\n",
       "        transaction_amount experian_multi_cluster experian_demo_cluster  \\\n",
       "1225002                NaN                      8                     3   \n",
       "6033635                NaN                      8                     4   \n",
       "7550694                NaN                      3                     4   \n",
       "\n",
       "        purchase_channel email_unsubscribe_indicator  \\\n",
       "1225002              NaN                           N   \n",
       "6033635              NaN                           N   \n",
       "7550694              NaN                           N   \n",
       "\n",
       "        email_undeliverable_indicator  \n",
       "1225002                             N  \n",
       "6033635                             N  \n",
       "7550694                             N  "
      ]
     },
     "execution_count": 7,
     "metadata": {},
     "output_type": "execute_result"
    }
   ],
   "source": [
    "df[df['customer_id_hashed']==id_by_count['customer_id_hashed'].tolist()[1]]"
   ]
  },
  {
   "cell_type": "code",
   "execution_count": 10,
   "metadata": {},
   "outputs": [
    {
     "data": {
      "text/html": [
       "<div>\n",
       "<style>\n",
       "    .dataframe thead tr:only-child th {\n",
       "        text-align: right;\n",
       "    }\n",
       "\n",
       "    .dataframe thead th {\n",
       "        text-align: left;\n",
       "    }\n",
       "\n",
       "    .dataframe tbody tr th {\n",
       "        vertical-align: top;\n",
       "    }\n",
       "</style>\n",
       "<table border=\"1\" class=\"dataframe\">\n",
       "  <thead>\n",
       "    <tr style=\"text-align: right;\">\n",
       "      <th></th>\n",
       "      <th>customer_id_hashed</th>\n",
       "      <th>email_address_hash</th>\n",
       "      <th>sign_up_date</th>\n",
       "      <th>sign_up_channel</th>\n",
       "      <th>sign_up_location</th>\n",
       "      <th>customer_zip_code</th>\n",
       "      <th>transaction_count</th>\n",
       "      <th>transaction_amount</th>\n",
       "      <th>experian_multi_cluster</th>\n",
       "      <th>experian_demo_cluster</th>\n",
       "      <th>purchase_channel</th>\n",
       "      <th>email_unsubscribe_indicator</th>\n",
       "      <th>email_undeliverable_indicator</th>\n",
       "    </tr>\n",
       "  </thead>\n",
       "  <tbody>\n",
       "    <tr>\n",
       "      <th>0</th>\n",
       "      <td>67c70ef098e439b3ee77aa1e12d067389ee58de68d82f2...</td>\n",
       "      <td>91b604fbb6382c0d4d9de79abd99c90376486500792900...</td>\n",
       "      <td>2018-11-06</td>\n",
       "      <td>STORE</td>\n",
       "      <td>811</td>\n",
       "      <td>30542</td>\n",
       "      <td>NaN</td>\n",
       "      <td>NaN</td>\n",
       "      <td>NaN</td>\n",
       "      <td>NaN</td>\n",
       "      <td>NaN</td>\n",
       "      <td>N</td>\n",
       "      <td>N</td>\n",
       "    </tr>\n",
       "    <tr>\n",
       "      <th>1</th>\n",
       "      <td>1bba86339a713fa02fa3289fc001958fb292a6a9b74414...</td>\n",
       "      <td>f1d534c223352de706828a36e199c647a5acddb2667078...</td>\n",
       "      <td>2018-07-10</td>\n",
       "      <td>STORE</td>\n",
       "      <td>1961</td>\n",
       "      <td>29732</td>\n",
       "      <td>NaN</td>\n",
       "      <td>NaN</td>\n",
       "      <td>NaN</td>\n",
       "      <td>NaN</td>\n",
       "      <td>NaN</td>\n",
       "      <td>N</td>\n",
       "      <td>N</td>\n",
       "    </tr>\n",
       "  </tbody>\n",
       "</table>\n",
       "</div>"
      ],
      "text/plain": [
       "                                  customer_id_hashed  \\\n",
       "0  67c70ef098e439b3ee77aa1e12d067389ee58de68d82f2...   \n",
       "1  1bba86339a713fa02fa3289fc001958fb292a6a9b74414...   \n",
       "\n",
       "                                  email_address_hash sign_up_date  \\\n",
       "0  91b604fbb6382c0d4d9de79abd99c90376486500792900...   2018-11-06   \n",
       "1  f1d534c223352de706828a36e199c647a5acddb2667078...   2018-07-10   \n",
       "\n",
       "  sign_up_channel sign_up_location customer_zip_code transaction_count  \\\n",
       "0           STORE              811             30542               NaN   \n",
       "1           STORE             1961             29732               NaN   \n",
       "\n",
       "  transaction_amount experian_multi_cluster experian_demo_cluster  \\\n",
       "0                NaN                    NaN                   NaN   \n",
       "1                NaN                    NaN                   NaN   \n",
       "\n",
       "  purchase_channel email_unsubscribe_indicator email_undeliverable_indicator  \n",
       "0              NaN                           N                             N  \n",
       "1              NaN                           N                             N  "
      ]
     },
     "execution_count": 10,
     "metadata": {},
     "output_type": "execute_result"
    }
   ],
   "source": [
    "df.head(2)"
   ]
  },
  {
   "cell_type": "code",
   "execution_count": 8,
   "metadata": {},
   "outputs": [
    {
     "data": {
      "text/plain": [
       "7888544"
      ]
     },
     "execution_count": 8,
     "metadata": {},
     "output_type": "execute_result"
    }
   ],
   "source": [
    "df['customer_id_hashed'].nunique()"
   ]
  },
  {
   "cell_type": "code",
   "execution_count": 9,
   "metadata": {},
   "outputs": [
    {
     "data": {
      "text/plain": [
       "(7888544, 3)"
      ]
     },
     "execution_count": 9,
     "metadata": {},
     "output_type": "execute_result"
    }
   ],
   "source": [
    "df[['customer_id_hashed','sign_up_date','customer_zip_code']].drop_duplicates().shape"
   ]
  },
  {
   "cell_type": "code",
   "execution_count": 12,
   "metadata": {},
   "outputs": [
    {
     "data": {
      "text/plain": [
       "7888440"
      ]
     },
     "execution_count": 12,
     "metadata": {},
     "output_type": "execute_result"
    }
   ],
   "source": [
    "df['email_address_hash'].nunique()"
   ]
  },
  {
   "cell_type": "code",
   "execution_count": 13,
   "metadata": {},
   "outputs": [
    {
     "data": {
      "text/plain": [
       "'2018-02-04'"
      ]
     },
     "execution_count": 13,
     "metadata": {},
     "output_type": "execute_result"
    }
   ],
   "source": [
    "df['sign_up_date'].min()"
   ]
  },
  {
   "cell_type": "code",
   "execution_count": 14,
   "metadata": {},
   "outputs": [
    {
     "data": {
      "text/plain": [
       "'2019-05-04'"
      ]
     },
     "execution_count": 14,
     "metadata": {},
     "output_type": "execute_result"
    }
   ],
   "source": [
    "df['sign_up_date'].max()"
   ]
  },
  {
   "cell_type": "code",
   "execution_count": 15,
   "metadata": {},
   "outputs": [
    {
     "data": {
      "text/plain": [
       "455"
      ]
     },
     "execution_count": 15,
     "metadata": {},
     "output_type": "execute_result"
    }
   ],
   "source": [
    "df['sign_up_date'].nunique()"
   ]
  },
  {
   "cell_type": "code",
   "execution_count": 16,
   "metadata": {},
   "outputs": [
    {
     "data": {
      "text/plain": [
       "65.0"
      ]
     },
     "execution_count": 16,
     "metadata": {},
     "output_type": "execute_result"
    }
   ],
   "source": [
    "455/7"
   ]
  },
  {
   "cell_type": "code",
   "execution_count": 18,
   "metadata": {
    "collapsed": true
   },
   "outputs": [],
   "source": [
    "aaa=df.groupby(['customer_id_hashed'])['email_address_hash'].count().to_frame().reset_index().sort_values(\"email_address_hash\",ascending=False).head(20)"
   ]
  },
  {
   "cell_type": "code",
   "execution_count": 19,
   "metadata": {},
   "outputs": [
    {
     "data": {
      "text/plain": [
       "'d3bc0ffde5b98267799c5035456a3b3a6fd411acf4d5c5fb9f2d1b6d4b496d0f'"
      ]
     },
     "execution_count": 19,
     "metadata": {},
     "output_type": "execute_result"
    }
   ],
   "source": [
    "aaa['customer_id_hashed'].tolist()[0]"
   ]
  },
  {
   "cell_type": "code",
   "execution_count": 20,
   "metadata": {},
   "outputs": [
    {
     "data": {
      "text/html": [
       "<div>\n",
       "<style>\n",
       "    .dataframe thead tr:only-child th {\n",
       "        text-align: right;\n",
       "    }\n",
       "\n",
       "    .dataframe thead th {\n",
       "        text-align: left;\n",
       "    }\n",
       "\n",
       "    .dataframe tbody tr th {\n",
       "        vertical-align: top;\n",
       "    }\n",
       "</style>\n",
       "<table border=\"1\" class=\"dataframe\">\n",
       "  <thead>\n",
       "    <tr style=\"text-align: right;\">\n",
       "      <th></th>\n",
       "      <th>customer_id_hashed</th>\n",
       "      <th>email_address_hash</th>\n",
       "      <th>sign_up_date</th>\n",
       "      <th>sign_up_channel</th>\n",
       "      <th>sign_up_location</th>\n",
       "      <th>customer_zip_code</th>\n",
       "      <th>transaction_count</th>\n",
       "      <th>transaction_amount</th>\n",
       "      <th>experian_multi_cluster</th>\n",
       "      <th>experian_demo_cluster</th>\n",
       "      <th>purchase_channel</th>\n",
       "      <th>email_unsubscribe_indicator</th>\n",
       "      <th>email_undeliverable_indicator</th>\n",
       "    </tr>\n",
       "  </thead>\n",
       "  <tbody>\n",
       "    <tr>\n",
       "      <th>802825</th>\n",
       "      <td>d3bc0ffde5b98267799c5035456a3b3a6fd411acf4d5c5...</td>\n",
       "      <td>3f695688b4baa95fbb469037d2e62817db1d1c9e7ca6ce...</td>\n",
       "      <td>2018-11-20</td>\n",
       "      <td>STORE</td>\n",
       "      <td>276</td>\n",
       "      <td>24401</td>\n",
       "      <td>NaN</td>\n",
       "      <td>NaN</td>\n",
       "      <td>7</td>\n",
       "      <td>2</td>\n",
       "      <td>NaN</td>\n",
       "      <td>N</td>\n",
       "      <td>N</td>\n",
       "    </tr>\n",
       "    <tr>\n",
       "      <th>2660349</th>\n",
       "      <td>d3bc0ffde5b98267799c5035456a3b3a6fd411acf4d5c5...</td>\n",
       "      <td>3f695688b4baa95fbb469037d2e62817db1d1c9e7ca6ce...</td>\n",
       "      <td>2018-11-20</td>\n",
       "      <td>STORE</td>\n",
       "      <td>276</td>\n",
       "      <td>24401</td>\n",
       "      <td>NaN</td>\n",
       "      <td>NaN</td>\n",
       "      <td>8</td>\n",
       "      <td>3</td>\n",
       "      <td>NaN</td>\n",
       "      <td>N</td>\n",
       "      <td>N</td>\n",
       "    </tr>\n",
       "    <tr>\n",
       "      <th>6573593</th>\n",
       "      <td>d3bc0ffde5b98267799c5035456a3b3a6fd411acf4d5c5...</td>\n",
       "      <td>3f695688b4baa95fbb469037d2e62817db1d1c9e7ca6ce...</td>\n",
       "      <td>2018-11-20</td>\n",
       "      <td>STORE</td>\n",
       "      <td>276</td>\n",
       "      <td>24401</td>\n",
       "      <td>NaN</td>\n",
       "      <td>NaN</td>\n",
       "      <td>5</td>\n",
       "      <td>2</td>\n",
       "      <td>NaN</td>\n",
       "      <td>N</td>\n",
       "      <td>N</td>\n",
       "    </tr>\n",
       "  </tbody>\n",
       "</table>\n",
       "</div>"
      ],
      "text/plain": [
       "                                        customer_id_hashed  \\\n",
       "802825   d3bc0ffde5b98267799c5035456a3b3a6fd411acf4d5c5...   \n",
       "2660349  d3bc0ffde5b98267799c5035456a3b3a6fd411acf4d5c5...   \n",
       "6573593  d3bc0ffde5b98267799c5035456a3b3a6fd411acf4d5c5...   \n",
       "\n",
       "                                        email_address_hash sign_up_date  \\\n",
       "802825   3f695688b4baa95fbb469037d2e62817db1d1c9e7ca6ce...   2018-11-20   \n",
       "2660349  3f695688b4baa95fbb469037d2e62817db1d1c9e7ca6ce...   2018-11-20   \n",
       "6573593  3f695688b4baa95fbb469037d2e62817db1d1c9e7ca6ce...   2018-11-20   \n",
       "\n",
       "        sign_up_channel sign_up_location customer_zip_code transaction_count  \\\n",
       "802825            STORE              276             24401               NaN   \n",
       "2660349           STORE              276             24401               NaN   \n",
       "6573593           STORE              276             24401               NaN   \n",
       "\n",
       "        transaction_amount experian_multi_cluster experian_demo_cluster  \\\n",
       "802825                 NaN                      7                     2   \n",
       "2660349                NaN                      8                     3   \n",
       "6573593                NaN                      5                     2   \n",
       "\n",
       "        purchase_channel email_unsubscribe_indicator  \\\n",
       "802825               NaN                           N   \n",
       "2660349              NaN                           N   \n",
       "6573593              NaN                           N   \n",
       "\n",
       "        email_undeliverable_indicator  \n",
       "802825                              N  \n",
       "2660349                             N  \n",
       "6573593                             N  "
      ]
     },
     "execution_count": 20,
     "metadata": {},
     "output_type": "execute_result"
    }
   ],
   "source": [
    "df[df['customer_id_hashed']==\"d3bc0ffde5b98267799c5035456a3b3a6fd411acf4d5c5fb9f2d1b6d4b496d0f\"]"
   ]
  },
  {
   "cell_type": "code",
   "execution_count": null,
   "metadata": {
    "collapsed": true
   },
   "outputs": [],
   "source": []
  }
 ],
 "metadata": {
  "kernelspec": {
   "display_name": "Python 3",
   "language": "python",
   "name": "python3"
  },
  "language_info": {
   "codemirror_mode": {
    "name": "ipython",
    "version": 3
   },
   "file_extension": ".py",
   "mimetype": "text/x-python",
   "name": "python",
   "nbconvert_exporter": "python",
   "pygments_lexer": "ipython3",
   "version": "3.6.1"
  }
 },
 "nbformat": 4,
 "nbformat_minor": 2
}
