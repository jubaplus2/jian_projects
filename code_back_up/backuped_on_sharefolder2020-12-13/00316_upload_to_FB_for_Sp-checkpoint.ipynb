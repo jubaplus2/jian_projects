{
 "cells": [
  {
   "cell_type": "code",
   "execution_count": 3,
   "metadata": {},
   "outputs": [],
   "source": [
    "# discussed with SP on 7/30/2020 through teams call\n",
    "\n",
    "import pandas as pd\n",
    "import glob\n",
    "import os\n",
    "import datetime\n",
    "import numpy as np\n",
    "import json\n",
    "\n",
    "from facebookads.adobjects.customaudience import CustomAudience\n",
    "from facebookads.adobjects.adaccount import AdAccount\n",
    "from facebookads.api import FacebookAdsApi\n",
    "\n",
    "BigLotsAccount_id=\"act_271491453638620\"\n",
    "\n",
    "# jian_APP_ID=\"2537704939796694\"# jian's fb marketing app id\n",
    "jian_token=json.load(open(\"/home/jian/Docs/FB_token/lasest_FB_token_jian.json\",\"r\"))['latest_FB_token']"
   ]
  },
  {
   "cell_type": "code",
   "execution_count": 4,
   "metadata": {},
   "outputs": [],
   "source": [
    "def creatfbaudience_from_datatype(AudienceName,AudienceDescription,df,ACCESS_TOKEN,accountid,fb_datatype,col_in_df):\n",
    "    FacebookAdsApi.init(access_token=ACCESS_TOKEN, api_version='v6.0')\n",
    "    myAccount = AdAccount(accountid)\n",
    "    fields = [\n",
    "    ]\n",
    "    params = {\n",
    "      'name': AudienceName,\n",
    "      'subtype': 'CUSTOM',\n",
    "      'description': AudienceDescription,\n",
    "      'customer_file_source': 'PARTNER_PROVIDED_ONLY',\n",
    "    }\n",
    "    fbname = myAccount.create_custom_audience(\n",
    "      fields=fields,\n",
    "      params=params,\n",
    "    )['id']\n",
    "    audience = CustomAudience(fbname)\n",
    "    users = list(df[col_in_df])\n",
    "    listlen = len(users)\n",
    "    chunck_size=50000\n",
    "    count_uploaded=0\n",
    "    for i in range(int(np.ceil(listlen/chunck_size))):\n",
    "        starti = i*50000\n",
    "        if (i+1)*50000<listlen:\n",
    "            endi = (i+1)*50000\n",
    "        else:\n",
    "            endi = listlen\n",
    "        list0 = users[starti:endi]\n",
    "        \n",
    "        count_uploaded+=len(list0)\n",
    "        audience.add_users(schema=fb_datatype, users=list0)\n",
    "        #print len(list0)   \n",
    "    print(fbname,datetime.datetime.now(),AudienceName,\"uploaded\",count_uploaded)"
   ]
  },
  {
   "cell_type": "markdown",
   "metadata": {},
   "source": [
    "# Control_2020Q3"
   ]
  },
  {
   "cell_type": "code",
   "execution_count": 5,
   "metadata": {},
   "outputs": [
    {
     "data": {
      "text/plain": [
       "((599982, 1), 599982)"
      ]
     },
     "execution_count": 5,
     "metadata": {},
     "output_type": "execute_result"
    }
   ],
   "source": [
    "df_control_2020Q3=pd.read_csv(\"/home/jian/Projects/Big_Lots/Live_Ramp/Quarterly_Update_2020Q3/upload_files/C_all_quarterly_segments_RFM20Q3.csv\",\n",
    "                             dtype=str,usecols=[\"email_address_hash\"])\n",
    "df_control_2020Q3.shape,df_control_2020Q3['email_address_hash'].nunique()"
   ]
  },
  {
   "cell_type": "code",
   "execution_count": 7,
   "metadata": {},
   "outputs": [
    {
     "name": "stdout",
     "output_type": "stream",
     "text": [
      "23844984551590265 2020-07-30 13:36:27.812574 Control_2020Q3_segment uploaded 599982\n"
     ]
    }
   ],
   "source": [
    "creatfbaudience_from_datatype(AudienceName=\"Control_2020Q3_segment\",\n",
    "                AudienceDescription=\"all_600K_Control_2020Q2_segment\",\n",
    "                df=df_control_2020Q3,\n",
    "                ACCESS_TOKEN=jian_token,\n",
    "                accountid=BigLotsAccount_id,\n",
    "                fb_datatype=CustomAudience.Schema.email_hash,\n",
    "                col_in_df=\"email_address_hash\"\n",
    "               )"
   ]
  },
  {
   "cell_type": "markdown",
   "metadata": {},
   "source": [
    "# Test_2020Q3"
   ]
  },
  {
   "cell_type": "code",
   "execution_count": 9,
   "metadata": {},
   "outputs": [
    {
     "data": {
      "text/plain": [
       "20"
      ]
     },
     "execution_count": 9,
     "metadata": {},
     "output_type": "execute_result"
    }
   ],
   "source": [
    "list_Q3_segments_test=glob.glob(\"/home/jian/Projects/Big_Lots/Live_Ramp/Quarterly_Update_2020Q3/upload_files/*.csv\")\n",
    "list_Q3_segments_test=[x for x in list_Q3_segments_test if os.path.basename(x)[0]==\"T\"]\n",
    "len(list_Q3_segments_test)"
   ]
  },
  {
   "cell_type": "code",
   "execution_count": null,
   "metadata": {},
   "outputs": [
    {
     "name": "stdout",
     "output_type": "stream",
     "text": [
      "new_seg_name T_Legacy_H_Active_N_2020Q3_segment\n",
      "23844984561260265 2020-07-30 13:41:20.270275 T_Legacy_H_Active_N_2020Q3_segment uploaded 714213\n",
      "new_seg_name T_Legacy_H_Active_Y_2020Q3_segment\n",
      "23844984563430265 2020-07-30 13:47:30.242151 T_Legacy_H_Active_Y_2020Q3_segment uploaded 4566738\n",
      "new_seg_name T_Legacy_L_Active_N_2020Q3_segment\n",
      "23844984577700265 2020-07-30 13:47:58.276726 T_Legacy_L_Active_N_2020Q3_segment uploaded 337171\n",
      "new_seg_name T_Legacy_L_Active_Y_2020Q3_segment\n",
      "23844984579770265 2020-07-30 13:50:24.225151 T_Legacy_L_Active_Y_2020Q3_segment uploaded 1777547\n",
      "new_seg_name T_Legacy_L_Lapsed1318_N_2020Q3_segment\n",
      "23844984588740265 2020-07-30 13:50:58.183967 T_Legacy_L_Lapsed1318_N_2020Q3_segment uploaded 333765\n",
      "new_seg_name T_Legacy_L_Lapsed1318_Y_2020Q3_segment\n",
      "23844984589840265 2020-07-30 13:53:09.508089 T_Legacy_L_Lapsed1318_Y_2020Q3_segment uploaded 1655051\n",
      "new_seg_name T_Legacy_M_Active_N_2020Q3_segment\n",
      "23844984597190265 2020-07-30 13:54:05.695245 T_Legacy_M_Active_N_2020Q3_segment uploaded 608266\n",
      "new_seg_name T_Legacy_M_Active_Y_2020Q3_segment\n",
      "23844984603910265 2020-07-30 13:58:39.863673 T_Legacy_M_Active_Y_2020Q3_segment uploaded 3407990\n",
      "new_seg_name T_SOTF_H_Active_N_2020Q3_segment\n",
      "23844984616080265 2020-07-30 13:59:09.543896 T_SOTF_H_Active_N_2020Q3_segment uploaded 392898\n",
      "new_seg_name T_SOTF_H_Active_Y_2020Q3_segment\n"
     ]
    }
   ],
   "source": [
    "for file in list_Q3_segments_test:\n",
    "    old_seg_name=os.path.basename(file).split(\".\")[0]\n",
    "    new_seg_name=old_seg_name+\"_2020Q3_segment\"\n",
    "    print(\"new_seg_name\",new_seg_name)\n",
    "    df=pd.read_csv(file,usecols=['email_address_hash'])\n",
    "    creatfbaudience_from_datatype(AudienceName=new_seg_name,\n",
    "                AudienceDescription=new_seg_name,\n",
    "                df=df,\n",
    "                ACCESS_TOKEN=jian_token,\n",
    "                accountid=BigLotsAccount_id,\n",
    "                fb_datatype=CustomAudience.Schema.email_hash,\n",
    "                col_in_df=\"email_address_hash\"\n",
    "               )\n"
   ]
  },
  {
   "cell_type": "code",
   "execution_count": null,
   "metadata": {},
   "outputs": [],
   "source": []
  }
 ],
 "metadata": {
  "kernelspec": {
   "display_name": "Python 3",
   "language": "python",
   "name": "python3"
  },
  "language_info": {
   "codemirror_mode": {
    "name": "ipython",
    "version": 3
   },
   "file_extension": ".py",
   "mimetype": "text/x-python",
   "name": "python",
   "nbconvert_exporter": "python",
   "pygments_lexer": "ipython3",
   "version": "3.6.1"
  }
 },
 "nbformat": 4,
 "nbformat_minor": 2
}
