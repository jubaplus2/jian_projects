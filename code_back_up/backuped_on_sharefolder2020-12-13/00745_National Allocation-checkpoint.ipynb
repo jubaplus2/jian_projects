{
 "cells": [
  {
   "cell_type": "code",
   "execution_count": 25,
   "metadata": {
    "collapsed": true
   },
   "outputs": [],
   "source": [
    "import pandas as pd\n",
    "import numpy as ny\n",
    "data= pd.read_excel(\"/home/jian/Projects/Big_Lots/TMR/Email_161002171230.xlsx\",sheetname=\"weekly\")\n",
    "data['merge']=1\n",
    "dma_pctg= pd.read_excel(\"/home/jian/Projects/Big_Lots/TMR/Email_161002171230.xlsx\",sheetname=\"DMA pctg\")\n",
    "dma_pctg['merge']=1\n",
    "data_dma=pd.merge(data,dma_pctg,on='merge',how='outer')\n",
    "del data_dma['merge']\n",
    "data_dma['DMA_cost']=data_dma['cost']*data_dma['Percentage']\n",
    "data_dma.to_csv(\"/home/jian/Projects/Big_Lots/TMR/Email_161002171230_DMA.csv\")"
   ]
  },
  {
   "cell_type": "code",
   "execution_count": null,
   "metadata": {
    "collapsed": true
   },
   "outputs": [],
   "source": []
  }
 ],
 "metadata": {
  "kernelspec": {
   "display_name": "Python 3",
   "language": "python",
   "name": "python3"
  },
  "language_info": {
   "codemirror_mode": {
    "name": "ipython",
    "version": 3
   },
   "file_extension": ".py",
   "mimetype": "text/x-python",
   "name": "python",
   "nbconvert_exporter": "python",
   "pygments_lexer": "ipython3",
   "version": "3.6.1"
  }
 },
 "nbformat": 4,
 "nbformat_minor": 2
}
