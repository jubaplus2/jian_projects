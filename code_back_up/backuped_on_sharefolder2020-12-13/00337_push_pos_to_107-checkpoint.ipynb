{
 "cells": [
  {
   "cell_type": "code",
   "execution_count": 1,
   "metadata": {},
   "outputs": [
    {
     "data": {
      "text/plain": [
       "'/home/jian/BigLots'"
      ]
     },
     "execution_count": 1,
     "metadata": {},
     "output_type": "execute_result"
    }
   ],
   "source": [
    "import paramiko\n",
    "import os\n",
    "import datetime\n",
    "\n",
    "os.getcwd()"
   ]
  },
  {
   "cell_type": "code",
   "execution_count": 2,
   "metadata": {},
   "outputs": [],
   "source": [
    "def recursive_file_gen(my_root_dir):\n",
    "    for root, dirs, files in os.walk(my_root_dir):\n",
    "        for file in files:\n",
    "            yield os.path.join(root, file)"
   ]
  },
  {
   "cell_type": "code",
   "execution_count": 3,
   "metadata": {},
   "outputs": [],
   "source": [
    "host = \"107.191.32.220\" #hard-coded\n",
    "port = 22\n",
    "transport = paramiko.Transport((host, port))\n",
    "\n",
    "password = \"juba-jl1\" #hard-coded\n",
    "username = \"jian\" #hard-coded\n",
    "transport.connect(username = username, password = password)\n",
    "sftp = paramiko.SFTPClient.from_transport(transport)"
   ]
  },
  {
   "cell_type": "code",
   "execution_count": 8,
   "metadata": {},
   "outputs": [
    {
     "data": {
      "text/plain": [
       "['/home/jian/BigLots/2020_by_weeks/MediaStorm_2020-01-04/MediaStormDailySales20200107-112859-015.txt',\n",
       " '/home/jian/BigLots/2020_by_weeks/MediaStorm_2020-01-11/MediaStormDailySales20200114-115009-140.txt',\n",
       " '/home/jian/BigLots/2020_by_weeks/MediaStorm_2020-01-18/MediaStormDailySales20200121-111749-649.txt',\n",
       " '/home/jian/BigLots/2020_by_weeks/MediaStorm_2020-01-25/MediaStormDailySales20200128-111758-074.txt',\n",
       " '/home/jian/BigLots/2020_by_weeks/MediaStorm_2020-02-01/MediaStormDailySales20200204-111741-091.txt',\n",
       " '/home/jian/BigLots/2020_by_weeks/MediaStorm_2020-02-08/MediaStormDailySales20200211-120911-483.txt',\n",
       " '/home/jian/BigLots/2020_by_weeks/MediaStorm_2020-02-15/MediaStormDailySales20200218-110927-085.txt',\n",
       " '/home/jian/BigLots/2020_by_weeks/MediaStorm_2020-02-22/MediaStormDailySales20200225-111349-615.txt',\n",
       " '/home/jian/BigLots/2020_by_weeks/MediaStorm_2020-02-29/MediaStormDailySales20200303-111359-260.txt',\n",
       " '/home/jian/BigLots/2020_by_weeks/MediaStorm_2020-03-07/MediaStormDailySales20200311-125005-860.txt',\n",
       " '/home/jian/BigLots/2020_by_weeks/MediaStorm_2020-03-28/MediaStormDailySales20200331-112303-873.txt',\n",
       " '/home/jian/BigLots/2020_by_weeks/MediaStorm_2020-03-14/MediaStormDailySales20200317-112349-402.txt',\n",
       " '/home/jian/BigLots/2020_by_weeks/MediaStorm_2020-03-21/MediaStormDailySales20200324-112302-496.txt',\n",
       " '/home/jian/BigLots/2020_by_weeks/MediaStorm_2020-04-04/MediaStormDailySales20200407-110641-771.txt',\n",
       " '/home/jian/BigLots/2020_by_weeks/MediaStorm_2020-04-11/MediaStormDailySales20200414-120340-722.txt',\n",
       " '/home/jian/BigLots/2020_by_weeks/MediaStorm_2020-04-18/MediaStormDailySales20200421-111910-356.txt',\n",
       " '/home/jian/BigLots/2020_by_weeks/MediaStorm_2020-04-25/MediaStormDailySales20200428-111922-148.txt',\n",
       " '/home/jian/BigLots/2020_by_weeks/MediaStorm_2020-05-02/MediaStormDailySales20200505-111805-965.txt',\n",
       " '/home/jian/BigLots/2020_by_weeks/MediaStorm_2020-05-09/MediaStormDailySales20200512-121042-623.txt',\n",
       " '/home/jian/BigLots/2020_by_weeks/MediaStorm_2020-05-16/MediaStormDailySales20200519-111527-561.txt',\n",
       " '/home/jian/BigLots/2020_by_weeks/MediaStorm_2020-05-23/MediaStormDailySales20200526-111602-303.txt',\n",
       " '/home/jian/BigLots/2020_by_weeks/MediaStorm_2020-05-30/MediaStormDailySales20200602-111531-770.txt',\n",
       " '/home/jian/BigLots/2020_by_weeks/MediaStorm_2020-06-06/MediaStormDailySales20200609-115454-814.txt']"
      ]
     },
     "execution_count": 8,
     "metadata": {},
     "output_type": "execute_result"
    }
   ],
   "source": [
    "list_pos_2020=list(recursive_file_gen(\"/home/jian/BigLots/2020_by_weeks/\"))\n",
    "list_pos_2020=[x for x in list_pos_2020 if \"dailysales\" in x.lower()]\n",
    "\n",
    "list_pos_2020"
   ]
  },
  {
   "cell_type": "code",
   "execution_count": 9,
   "metadata": {},
   "outputs": [
    {
     "data": {
      "text/plain": [
       "['/home/jian/BigLots/2020_by_weeks/MediaStorm_2020-02-22/MediaStormDailySales20200225-111349-615.txt',\n",
       " '/home/jian/BigLots/2020_by_weeks/MediaStorm_2020-02-29/MediaStormDailySales20200303-111359-260.txt',\n",
       " '/home/jian/BigLots/2020_by_weeks/MediaStorm_2020-03-07/MediaStormDailySales20200311-125005-860.txt',\n",
       " '/home/jian/BigLots/2020_by_weeks/MediaStorm_2020-03-28/MediaStormDailySales20200331-112303-873.txt',\n",
       " '/home/jian/BigLots/2020_by_weeks/MediaStorm_2020-03-14/MediaStormDailySales20200317-112349-402.txt',\n",
       " '/home/jian/BigLots/2020_by_weeks/MediaStorm_2020-03-21/MediaStormDailySales20200324-112302-496.txt',\n",
       " '/home/jian/BigLots/2020_by_weeks/MediaStorm_2020-04-04/MediaStormDailySales20200407-110641-771.txt',\n",
       " '/home/jian/BigLots/2020_by_weeks/MediaStorm_2020-04-11/MediaStormDailySales20200414-120340-722.txt',\n",
       " '/home/jian/BigLots/2020_by_weeks/MediaStorm_2020-04-18/MediaStormDailySales20200421-111910-356.txt',\n",
       " '/home/jian/BigLots/2020_by_weeks/MediaStorm_2020-04-25/MediaStormDailySales20200428-111922-148.txt',\n",
       " '/home/jian/BigLots/2020_by_weeks/MediaStorm_2020-05-02/MediaStormDailySales20200505-111805-965.txt',\n",
       " '/home/jian/BigLots/2020_by_weeks/MediaStorm_2020-05-09/MediaStormDailySales20200512-121042-623.txt',\n",
       " '/home/jian/BigLots/2020_by_weeks/MediaStorm_2020-05-16/MediaStormDailySales20200519-111527-561.txt',\n",
       " '/home/jian/BigLots/2020_by_weeks/MediaStorm_2020-05-23/MediaStormDailySales20200526-111602-303.txt',\n",
       " '/home/jian/BigLots/2020_by_weeks/MediaStorm_2020-05-30/MediaStormDailySales20200602-111531-770.txt',\n",
       " '/home/jian/BigLots/2020_by_weeks/MediaStorm_2020-06-06/MediaStormDailySales20200609-115454-814.txt']"
      ]
     },
     "execution_count": 9,
     "metadata": {},
     "output_type": "execute_result"
    }
   ],
   "source": [
    "remote_folder=\"/mnt/drv5/lr_biglots_data/BL_all_item_level_POS_data/\"\n",
    "list_remote_files=sftp.listdir(remote_folder)\n",
    "\n",
    "list_pos_to_put=[x for x in list_pos_2020 if os.path.basename(x) not in list_remote_files]\n",
    "list_pos_to_put"
   ]
  },
  {
   "cell_type": "code",
   "execution_count": null,
   "metadata": {},
   "outputs": [],
   "source": [
    "for file in list_pos_to_put:\n",
    "    sftp.put(file,remote_folder+os.path.basename(file))\n",
    "sftp.close()\n",
    "transport.close()"
   ]
  },
  {
   "cell_type": "code",
   "execution_count": null,
   "metadata": {},
   "outputs": [],
   "source": []
  }
 ],
 "metadata": {
  "kernelspec": {
   "display_name": "Python 3",
   "language": "python",
   "name": "python3"
  },
  "language_info": {
   "codemirror_mode": {
    "name": "ipython",
    "version": 3
   },
   "file_extension": ".py",
   "mimetype": "text/x-python",
   "name": "python",
   "nbconvert_exporter": "python",
   "pygments_lexer": "ipython3",
   "version": "3.6.1"
  }
 },
 "nbformat": 4,
 "nbformat_minor": 2
}
