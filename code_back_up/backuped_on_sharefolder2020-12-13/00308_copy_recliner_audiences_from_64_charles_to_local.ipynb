{
 "cells": [
  {
   "cell_type": "code",
   "execution_count": 1,
   "metadata": {},
   "outputs": [],
   "source": [
    "import paramiko\n",
    "import pandas as pd\n",
    "import numpy as np\n",
    "import datetime\n",
    "import os"
   ]
  },
  {
   "cell_type": "code",
   "execution_count": 14,
   "metadata": {},
   "outputs": [
    {
     "data": {
      "text/plain": [
       "'/home/jian/Projects/Big_Lots/Live_Ramp/Quarterly_Update_2019Q4/recliner_segments_charles'"
      ]
     },
     "execution_count": 14,
     "metadata": {},
     "output_type": "execute_result"
    }
   ],
   "source": [
    "os.getcwd()"
   ]
  },
  {
   "cell_type": "code",
   "execution_count": 33,
   "metadata": {},
   "outputs": [],
   "source": [
    "host = \"64.237.51.251\" #hard-coded\n",
    "port = 22\n",
    "transport = paramiko.Transport((host, port))\n",
    "\n",
    "password = \"charles@jubaplus\" #hard-coded\n",
    "username = \"charles\" #hard-coded\n",
    "transport.connect(username = username, password = password)\n",
    "sftp = paramiko.SFTPClient.from_transport(transport)"
   ]
  },
  {
   "cell_type": "code",
   "execution_count": 22,
   "metadata": {},
   "outputs": [],
   "source": [
    "remote_file_list=sftp.listdir(\"/home/charles/Biglots/2019/20191112 Recliner customer 20181122-20181125/\")\n"
   ]
  },
  {
   "cell_type": "code",
   "execution_count": 23,
   "metadata": {},
   "outputs": [],
   "source": [
    "remote_file_list_1=[x for x in remote_file_list if \"BL_Target_Recliner_Customers\" in x]\n",
    "remote_file_list_1=[x for x in remote_file_list_1 if \"sample\" not in x.lower()]\n",
    "remote_file_list_1=[x for x in remote_file_list_1 if \"count\" not in x.lower()]\n"
   ]
  },
  {
   "cell_type": "code",
   "execution_count": 34,
   "metadata": {},
   "outputs": [
    {
     "name": "stdout",
     "output_type": "stream",
     "text": [
      "['BL_Recliner_Customer_Info_All CC 20191113.csv']\n"
     ]
    }
   ],
   "source": [
    "remote_file_list_2=[x for x in remote_file_list if \"BL_Recliner_Customer_Info_All CC 20191113.csv\"==x]\n",
    "print(remote_file_list_2)\n",
    "remote_file_list_2=[\"/home/charles/Biglots/2019/20191112 Recliner customer 20181122-20181125/\"+x for x in remote_file_list_2]\n"
   ]
  },
  {
   "cell_type": "code",
   "execution_count": 13,
   "metadata": {},
   "outputs": [],
   "source": [
    "remote_file_list=remote_file_list_1+remote_file_list_2\n",
    "remote_file_list=[\"/home/charles/Biglots/2019/20191112 Recliner customer 20181122-20181125/\"+x for x in remote_file_list]\n"
   ]
  },
  {
   "cell_type": "code",
   "execution_count": 35,
   "metadata": {},
   "outputs": [],
   "source": [
    "local_path_list=[]\n",
    "for remote_path in remote_file_list:\n",
    "    base_name=os.path.basename(remote_path)\n",
    "    local_path='/home/jian/Projects/Big_Lots/Live_Ramp/Quarterly_Update_2019Q4/recliner_segments_charles/'+base_name\n",
    "    sftp.get(remote_path,local_path)\n",
    "    local_path_list.append(local_path)\n",
    "    "
   ]
  },
  {
   "cell_type": "code",
   "execution_count": 16,
   "metadata": {},
   "outputs": [
    {
     "name": "stdout",
     "output_type": "stream",
     "text": [
      "BL_Target_Recliner_Customers_S_H CC 20191118.csv (1075772, 5)\n",
      "BL_Target_Recliner_Customers_P_L CC 20191118.csv (2555664, 5)\n",
      "BL_Target_Recliner_Customers_S_M CC 20191118.csv (869716, 5)\n",
      "BL_Target_Recliner_Customers_P_H CC 20191118.csv (3653336, 5)\n",
      "BL_Target_Recliner_Customers_P_M CC 20191118.csv (2675641, 5)\n",
      "BL_20181122-20181125_Recliners.csv (37691, 9)\n"
     ]
    }
   ],
   "source": [
    "for file in local_path_list:\n",
    "    df=pd.read_csv(file,dtype=str)\n",
    "    print(os.path.basename(file),df.shape)\n",
    "    \n",
    "# checked row count match the LR onbarding audience rows"
   ]
  },
  {
   "cell_type": "code",
   "execution_count": 36,
   "metadata": {},
   "outputs": [
    {
     "name": "stdout",
     "output_type": "stream",
     "text": [
      "BL_Recliner_Customer_Info_All CC 20191113.csv (24926, 10)\n"
     ]
    }
   ],
   "source": [
    "# The remote_file_list_2 looks not correct\n",
    "# abanded this notebook so far"
   ]
  },
  {
   "cell_type": "code",
   "execution_count": 17,
   "metadata": {},
   "outputs": [],
   "source": [
    "sftp.close()\n",
    "transport.close()"
   ]
  },
  {
   "cell_type": "code",
   "execution_count": 30,
   "metadata": {},
   "outputs": [
    {
     "data": {
      "text/html": [
       "<div>\n",
       "<style scoped>\n",
       "    .dataframe tbody tr th:only-of-type {\n",
       "        vertical-align: middle;\n",
       "    }\n",
       "\n",
       "    .dataframe tbody tr th {\n",
       "        vertical-align: top;\n",
       "    }\n",
       "\n",
       "    .dataframe thead th {\n",
       "        text-align: right;\n",
       "    }\n",
       "</style>\n",
       "<table border=\"1\" class=\"dataframe\">\n",
       "  <thead>\n",
       "    <tr style=\"text-align: right;\">\n",
       "      <th></th>\n",
       "      <th>customer_id_hashed</th>\n",
       "    </tr>\n",
       "  </thead>\n",
       "  <tbody>\n",
       "    <tr>\n",
       "      <th>0</th>\n",
       "      <td>9c72e8f42505ef8baede1408bfeca8c771ef4a643d4a9a...</td>\n",
       "    </tr>\n",
       "    <tr>\n",
       "      <th>1</th>\n",
       "      <td>9eee723223958d6b13cfc2f760f0704bbedadb08da905b...</td>\n",
       "    </tr>\n",
       "  </tbody>\n",
       "</table>\n",
       "</div>"
      ],
      "text/plain": [
       "                                  customer_id_hashed\n",
       "0  9c72e8f42505ef8baede1408bfeca8c771ef4a643d4a9a...\n",
       "1  9eee723223958d6b13cfc2f760f0704bbedadb08da905b..."
      ]
     },
     "execution_count": 30,
     "metadata": {},
     "output_type": "execute_result"
    }
   ],
   "source": [
    "df.head(2)"
   ]
  },
  {
   "cell_type": "code",
   "execution_count": null,
   "metadata": {},
   "outputs": [],
   "source": []
  }
 ],
 "metadata": {
  "kernelspec": {
   "display_name": "Python 3",
   "language": "python",
   "name": "python3"
  },
  "language_info": {
   "codemirror_mode": {
    "name": "ipython",
    "version": 3
   },
   "file_extension": ".py",
   "mimetype": "text/x-python",
   "name": "python",
   "nbconvert_exporter": "python",
   "pygments_lexer": "ipython3",
   "version": "3.6.1"
  }
 },
 "nbformat": 4,
 "nbformat_minor": 2
}
