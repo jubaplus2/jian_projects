{
 "cells": [
  {
   "cell_type": "code",
   "execution_count": 1,
   "metadata": {},
   "outputs": [
    {
     "name": "stdout",
     "output_type": "stream",
     "text": [
      "2020-10-28 21:48:13.613856\n",
      "/mnt/clients/juba/hqjubaapp02/sharefolder/GoodYear/jian/Selections\n"
     ]
    }
   ],
   "source": [
    "from google.cloud import bigquery\n",
    "import gc\n",
    "import pandas as pd\n",
    "import numpy as np\n",
    "import datetime\n",
    "import os\n",
    "import json\n",
    "from haversine import haversine\n",
    "os.environ[\"GOOGLE_APPLICATION_CREDENTIALS\"] = \"/mnt/clients/juba/hqjubaapp02/sharefolder/GoodYear/docs/merkle-gdyr-prod-9783607c77a1.json\"\n",
    "\n",
    "zip_centers=json.load(open(\"/mnt/clients/juba/hqjubaapp02/sharefolder/Docs/Geo_mapping/updated_zip_centers_JL_2019-05-23.json\"))\n",
    "client = bigquery.Client()\n",
    "\n",
    "print(datetime.datetime.now())\n",
    "print(os.getcwd())"
   ]
  },
  {
   "cell_type": "code",
   "execution_count": 2,
   "metadata": {},
   "outputs": [
    {
     "name": "stderr",
     "output_type": "stream",
     "text": [
      "/home/jliang/.local/lib/python3.7/site-packages/google/cloud/bigquery/client.py:441: UserWarning: Cannot create BigQuery Storage client, the dependency google-cloud-bigquery-storage is not installed.\n",
      "  \"Cannot create BigQuery Storage client, the dependency \"\n"
     ]
    },
    {
     "name": "stdout",
     "output_type": "stream",
     "text": [
      "(6415564, 4)\n",
      "(4150228, 4)\n"
     ]
    }
   ],
   "source": [
    "query_string='''\n",
    "select indiv_key, store_id, extract(date from invoice_date) as trans_date, sum(qty) as daily_qty from mdb.trn_detail \\\n",
    "where product_type_cd='TIRE' \\\n",
    "group by indiv_key, store_id, trans_date;\n",
    "'''\n",
    "df_1=client.query(query_string).result().to_dataframe()\n",
    "print(df_1.shape)\n",
    "\n",
    "df_1=df_1[df_1['daily_qty']>1]\n",
    "print(df_1.shape)\n"
   ]
  },
  {
   "cell_type": "code",
   "execution_count": 3,
   "metadata": {},
   "outputs": [
    {
     "data": {
      "text/html": [
       "<div>\n",
       "<style scoped>\n",
       "    .dataframe tbody tr th:only-of-type {\n",
       "        vertical-align: middle;\n",
       "    }\n",
       "\n",
       "    .dataframe tbody tr th {\n",
       "        vertical-align: top;\n",
       "    }\n",
       "\n",
       "    .dataframe thead th {\n",
       "        text-align: right;\n",
       "    }\n",
       "</style>\n",
       "<table border=\"1\" class=\"dataframe\">\n",
       "  <thead>\n",
       "    <tr style=\"text-align: right;\">\n",
       "      <th></th>\n",
       "      <th>indiv_key</th>\n",
       "      <th>store_id</th>\n",
       "      <th>trans_date</th>\n",
       "      <th>daily_qty</th>\n",
       "    </tr>\n",
       "  </thead>\n",
       "  <tbody>\n",
       "    <tr>\n",
       "      <th>0</th>\n",
       "      <td>1.222781e+15</td>\n",
       "      <td>2537</td>\n",
       "      <td>2020-10-13</td>\n",
       "      <td>16</td>\n",
       "    </tr>\n",
       "    <tr>\n",
       "      <th>1</th>\n",
       "      <td>1.222780e+15</td>\n",
       "      <td>2264</td>\n",
       "      <td>2015-05-21</td>\n",
       "      <td>6</td>\n",
       "    </tr>\n",
       "  </tbody>\n",
       "</table>\n",
       "</div>"
      ],
      "text/plain": [
       "      indiv_key store_id  trans_date  daily_qty\n",
       "0  1.222781e+15     2537  2020-10-13         16\n",
       "1  1.222780e+15     2264  2015-05-21          6"
      ]
     },
     "execution_count": 3,
     "metadata": {},
     "output_type": "execute_result"
    }
   ],
   "source": [
    "df_1.head(2)"
   ]
  },
  {
   "cell_type": "code",
   "execution_count": 4,
   "metadata": {},
   "outputs": [
    {
     "data": {
      "text/plain": [
       "1222780625002823.0"
      ]
     },
     "execution_count": 4,
     "metadata": {},
     "output_type": "execute_result"
    }
   ],
   "source": [
    "df_1['indiv_key'][0]"
   ]
  },
  {
   "cell_type": "code",
   "execution_count": 5,
   "metadata": {},
   "outputs": [
    {
     "name": "stdout",
     "output_type": "stream",
     "text": [
      "(654890, 2)\n"
     ]
    },
    {
     "data": {
      "text/html": [
       "<div>\n",
       "<style scoped>\n",
       "    .dataframe tbody tr th:only-of-type {\n",
       "        vertical-align: middle;\n",
       "    }\n",
       "\n",
       "    .dataframe tbody tr th {\n",
       "        vertical-align: top;\n",
       "    }\n",
       "\n",
       "    .dataframe thead th {\n",
       "        text-align: right;\n",
       "    }\n",
       "</style>\n",
       "<table border=\"1\" class=\"dataframe\">\n",
       "  <thead>\n",
       "    <tr style=\"text-align: right;\">\n",
       "      <th></th>\n",
       "      <th>indiv_key</th>\n",
       "      <th>total_trans_day_1plusTIRE</th>\n",
       "    </tr>\n",
       "  </thead>\n",
       "  <tbody>\n",
       "    <tr>\n",
       "      <th>1</th>\n",
       "      <td>1.222780e+15</td>\n",
       "      <td>2</td>\n",
       "    </tr>\n",
       "    <tr>\n",
       "      <th>2</th>\n",
       "      <td>1.222780e+15</td>\n",
       "      <td>2</td>\n",
       "    </tr>\n",
       "  </tbody>\n",
       "</table>\n",
       "</div>"
      ],
      "text/plain": [
       "      indiv_key  total_trans_day_1plusTIRE\n",
       "1  1.222780e+15                          2\n",
       "2  1.222780e+15                          2"
      ]
     },
     "execution_count": 5,
     "metadata": {},
     "output_type": "execute_result"
    }
   ],
   "source": [
    "df_2=df_1.groupby(\"indiv_key\")['trans_date'].count().to_frame().reset_index()\n",
    "df_2=df_2[(df_2['trans_date']>=2) & (df_2['trans_date']<=6)]\n",
    "df_2=df_2.rename(columns={\"trans_date\":\"total_trans_day_1plusTIRE\"})\n",
    "print(df_2.shape)\n",
    "df_2.head(2)"
   ]
  },
  {
   "cell_type": "code",
   "execution_count": 7,
   "metadata": {},
   "outputs": [
    {
     "name": "stdout",
     "output_type": "stream",
     "text": [
      "(1680992, 5)\n"
     ]
    },
    {
     "data": {
      "text/html": [
       "<div>\n",
       "<style scoped>\n",
       "    .dataframe tbody tr th:only-of-type {\n",
       "        vertical-align: middle;\n",
       "    }\n",
       "\n",
       "    .dataframe tbody tr th {\n",
       "        vertical-align: top;\n",
       "    }\n",
       "\n",
       "    .dataframe thead th {\n",
       "        text-align: right;\n",
       "    }\n",
       "</style>\n",
       "<table border=\"1\" class=\"dataframe\">\n",
       "  <thead>\n",
       "    <tr style=\"text-align: right;\">\n",
       "      <th></th>\n",
       "      <th>indiv_key</th>\n",
       "      <th>total_trans_day_1plusTIRE</th>\n",
       "      <th>store_id</th>\n",
       "      <th>trans_date</th>\n",
       "      <th>daily_qty</th>\n",
       "    </tr>\n",
       "  </thead>\n",
       "  <tbody>\n",
       "    <tr>\n",
       "      <th>0</th>\n",
       "      <td>1.222780e+15</td>\n",
       "      <td>2</td>\n",
       "      <td>ECOM</td>\n",
       "      <td>2018-05-14</td>\n",
       "      <td>2</td>\n",
       "    </tr>\n",
       "    <tr>\n",
       "      <th>1</th>\n",
       "      <td>1.222780e+15</td>\n",
       "      <td>2</td>\n",
       "      <td>2460</td>\n",
       "      <td>2016-06-07</td>\n",
       "      <td>4</td>\n",
       "    </tr>\n",
       "  </tbody>\n",
       "</table>\n",
       "</div>"
      ],
      "text/plain": [
       "      indiv_key  total_trans_day_1plusTIRE store_id  trans_date  daily_qty\n",
       "0  1.222780e+15                          2     ECOM  2018-05-14          2\n",
       "1  1.222780e+15                          2     2460  2016-06-07          4"
      ]
     },
     "execution_count": 7,
     "metadata": {},
     "output_type": "execute_result"
    }
   ],
   "source": [
    "df_id_by_tire_trans=pd.merge(df_2,df_1,on=\"indiv_key\",how=\"left\")\n",
    "print(df_id_by_tire_trans.shape)\n",
    "\n",
    "df_id_by_tire_trans.head(2)"
   ]
  },
  {
   "cell_type": "code",
   "execution_count": 9,
   "metadata": {},
   "outputs": [
    {
     "data": {
      "text/plain": [
       "datetime.date(2018, 5, 14)"
      ]
     },
     "execution_count": 9,
     "metadata": {},
     "output_type": "execute_result"
    }
   ],
   "source": [
    "df_id_by_tire_trans['trans_date'][0]"
   ]
  },
  {
   "cell_type": "code",
   "execution_count": 10,
   "metadata": {},
   "outputs": [
    {
     "data": {
      "text/plain": [
       "654890"
      ]
     },
     "execution_count": 10,
     "metadata": {},
     "output_type": "execute_result"
    }
   ],
   "source": [
    "df_id_by_tire_trans['indiv_key'].nunique()"
   ]
  },
  {
   "cell_type": "code",
   "execution_count": 11,
   "metadata": {},
   "outputs": [
    {
     "data": {
      "text/plain": [
       "(2, 6)"
      ]
     },
     "execution_count": 11,
     "metadata": {},
     "output_type": "execute_result"
    }
   ],
   "source": [
    "a=df_id_by_tire_trans.groupby('indiv_key')['store_id'].count().to_frame().reset_index()\n",
    "a['store_id'].min(),a['store_id'].max()"
   ]
  },
  {
   "cell_type": "code",
   "execution_count": null,
   "metadata": {},
   "outputs": [],
   "source": []
  },
  {
   "cell_type": "code",
   "execution_count": 12,
   "metadata": {},
   "outputs": [
    {
     "name": "stdout",
     "output_type": "stream",
     "text": [
      "2\n"
     ]
    }
   ],
   "source": [
    "df_id_by_tire_trans_2to3=df_id_by_tire_trans[df_id_by_tire_trans['daily_qty']<4]\n",
    "print(df_id_by_tire_trans_2to3['daily_qty'].min())\n",
    "\n",
    "df_id_by_tire_trans_4_plus=df_id_by_tire_trans[df_id_by_tire_trans['daily_qty']>=4]"
   ]
  },
  {
   "cell_type": "code",
   "execution_count": 13,
   "metadata": {},
   "outputs": [
    {
     "name": "stdout",
     "output_type": "stream",
     "text": [
      "(746184, 5) 407264\n",
      "(934808, 5) 482917\n"
     ]
    }
   ],
   "source": [
    "print(df_id_by_tire_trans_2to3.shape,df_id_by_tire_trans_2to3['indiv_key'].nunique())\n",
    "print(df_id_by_tire_trans_4_plus.shape,df_id_by_tire_trans_4_plus['indiv_key'].nunique())"
   ]
  },
  {
   "cell_type": "code",
   "execution_count": null,
   "metadata": {},
   "outputs": [],
   "source": []
  },
  {
   "cell_type": "code",
   "execution_count": 14,
   "metadata": {},
   "outputs": [
    {
     "name": "stdout",
     "output_type": "stream",
     "text": [
      "154958 ids with 1 trans only removed\n",
      "161588 ids with 1 trans only removed\n",
      "(591226, 5) 252306\n",
      "(773220, 5) 321329\n"
     ]
    }
   ],
   "source": [
    "def remove_1trans_only_ids(df_input):\n",
    "    df_grouped_by=df_input.groupby(\"indiv_key\")['store_id'].count().to_frame().reset_index()\n",
    "    list_1trans_only=df_grouped_by[df_grouped_by['store_id']==1]['indiv_key'].tolist()\n",
    "    print(\"%i ids with 1 trans only removed\"%len(list_1trans_only))\n",
    "    df_output=df_input[~df_input['indiv_key'].isin(list_1trans_only)]\n",
    "    return df_output\n",
    "\n",
    "df_id_by_tire_trans_2to3=remove_1trans_only_ids(df_id_by_tire_trans_2to3)\n",
    "df_id_by_tire_trans_4_plus=remove_1trans_only_ids(df_id_by_tire_trans_4_plus)\n",
    "\n",
    "print(df_id_by_tire_trans_2to3.shape,df_id_by_tire_trans_2to3['indiv_key'].nunique())\n",
    "print(df_id_by_tire_trans_4_plus.shape,df_id_by_tire_trans_4_plus['indiv_key'].nunique())"
   ]
  },
  {
   "cell_type": "code",
   "execution_count": 15,
   "metadata": {},
   "outputs": [
    {
     "name": "stdout",
     "output_type": "stream",
     "text": [
      "list_more_trans_2to3: 24896\n",
      "(509555, 6) 233381\n"
     ]
    },
    {
     "data": {
      "text/html": [
       "<div>\n",
       "<style scoped>\n",
       "    .dataframe tbody tr th:only-of-type {\n",
       "        vertical-align: middle;\n",
       "    }\n",
       "\n",
       "    .dataframe tbody tr th {\n",
       "        vertical-align: top;\n",
       "    }\n",
       "\n",
       "    .dataframe thead th {\n",
       "        text-align: right;\n",
       "    }\n",
       "</style>\n",
       "<table border=\"1\" class=\"dataframe\">\n",
       "  <thead>\n",
       "    <tr style=\"text-align: right;\">\n",
       "      <th></th>\n",
       "      <th>indiv_key</th>\n",
       "      <th>total_trans_day_1plusTIRE</th>\n",
       "      <th>store_id</th>\n",
       "      <th>trans_date</th>\n",
       "      <th>daily_qty</th>\n",
       "      <th>trans_order</th>\n",
       "    </tr>\n",
       "  </thead>\n",
       "  <tbody>\n",
       "    <tr>\n",
       "      <th>26</th>\n",
       "      <td>1.222780e+15</td>\n",
       "      <td>3</td>\n",
       "      <td>2332</td>\n",
       "      <td>2016-05-25</td>\n",
       "      <td>2</td>\n",
       "      <td>1</td>\n",
       "    </tr>\n",
       "    <tr>\n",
       "      <th>27</th>\n",
       "      <td>1.222780e+15</td>\n",
       "      <td>3</td>\n",
       "      <td>2332</td>\n",
       "      <td>2017-09-17</td>\n",
       "      <td>2</td>\n",
       "      <td>2</td>\n",
       "    </tr>\n",
       "  </tbody>\n",
       "</table>\n",
       "</div>"
      ],
      "text/plain": [
       "       indiv_key  total_trans_day_1plusTIRE store_id  trans_date  daily_qty  \\\n",
       "26  1.222780e+15                          3     2332  2016-05-25          2   \n",
       "27  1.222780e+15                          3     2332  2017-09-17          2   \n",
       "\n",
       "    trans_order  \n",
       "26            1  \n",
       "27            2  "
      ]
     },
     "execution_count": 15,
     "metadata": {},
     "output_type": "execute_result"
    }
   ],
   "source": [
    "df_id_by_tire_trans_2to3=df_id_by_tire_trans_2to3.sort_values(['indiv_key','trans_date'],ascending=[True,True])\n",
    "df_id_by_tire_trans_2to3['val']=1\n",
    "df_id_by_tire_trans_2to3['trans_order']=df_id_by_tire_trans_2to3.groupby('indiv_key')['val'].cumsum()\n",
    "del df_id_by_tire_trans_2to3['val']\n",
    "\n",
    "list_more_trans_2to3=df_id_by_tire_trans_2to3[df_id_by_tire_trans_2to3['trans_order']>3]['indiv_key'].tolist()\n",
    "print(\"list_more_trans_2to3: %d\"%len(list_more_trans_2to3))\n",
    "df_id_by_tire_trans_2to3=df_id_by_tire_trans_2to3[~df_id_by_tire_trans_2to3['indiv_key'].isin(list_more_trans_2to3)]\n",
    "print(df_id_by_tire_trans_2to3.shape,df_id_by_tire_trans_2to3['indiv_key'].nunique())\n",
    "df_id_by_tire_trans_2to3.head(2)"
   ]
  },
  {
   "cell_type": "code",
   "execution_count": 16,
   "metadata": {},
   "outputs": [
    {
     "name": "stdout",
     "output_type": "stream",
     "text": [
      "list_more_trans_4_plus: 40118\n",
      "(646039, 6) 292308\n"
     ]
    },
    {
     "data": {
      "text/html": [
       "<div>\n",
       "<style scoped>\n",
       "    .dataframe tbody tr th:only-of-type {\n",
       "        vertical-align: middle;\n",
       "    }\n",
       "\n",
       "    .dataframe tbody tr th {\n",
       "        vertical-align: top;\n",
       "    }\n",
       "\n",
       "    .dataframe thead th {\n",
       "        text-align: right;\n",
       "    }\n",
       "</style>\n",
       "<table border=\"1\" class=\"dataframe\">\n",
       "  <thead>\n",
       "    <tr style=\"text-align: right;\">\n",
       "      <th></th>\n",
       "      <th>indiv_key</th>\n",
       "      <th>total_trans_day_1plusTIRE</th>\n",
       "      <th>store_id</th>\n",
       "      <th>trans_date</th>\n",
       "      <th>daily_qty</th>\n",
       "      <th>trans_order</th>\n",
       "    </tr>\n",
       "  </thead>\n",
       "  <tbody>\n",
       "    <tr>\n",
       "      <th>2</th>\n",
       "      <td>1.222780e+15</td>\n",
       "      <td>2</td>\n",
       "      <td>6836</td>\n",
       "      <td>2018-02-24</td>\n",
       "      <td>4</td>\n",
       "      <td>1</td>\n",
       "    </tr>\n",
       "    <tr>\n",
       "      <th>3</th>\n",
       "      <td>1.222780e+15</td>\n",
       "      <td>2</td>\n",
       "      <td>6836</td>\n",
       "      <td>2018-02-28</td>\n",
       "      <td>4</td>\n",
       "      <td>2</td>\n",
       "    </tr>\n",
       "  </tbody>\n",
       "</table>\n",
       "</div>"
      ],
      "text/plain": [
       "      indiv_key  total_trans_day_1plusTIRE store_id  trans_date  daily_qty  \\\n",
       "2  1.222780e+15                          2     6836  2018-02-24          4   \n",
       "3  1.222780e+15                          2     6836  2018-02-28          4   \n",
       "\n",
       "   trans_order  \n",
       "2            1  \n",
       "3            2  "
      ]
     },
     "execution_count": 16,
     "metadata": {},
     "output_type": "execute_result"
    }
   ],
   "source": [
    "df_id_by_tire_trans_4_plus=df_id_by_tire_trans_4_plus.sort_values(['indiv_key','trans_date'],ascending=[True,True])\n",
    "df_id_by_tire_trans_4_plus['val']=1\n",
    "df_id_by_tire_trans_4_plus['trans_order']=df_id_by_tire_trans_4_plus.groupby('indiv_key')['val'].cumsum()\n",
    "del df_id_by_tire_trans_4_plus['val']\n",
    "\n",
    "list_more_trans_4_plus=df_id_by_tire_trans_4_plus[df_id_by_tire_trans_4_plus['trans_order']>3]['indiv_key'].tolist()\n",
    "print(\"list_more_trans_4_plus: %d\"%len(list_more_trans_4_plus))\n",
    "df_id_by_tire_trans_4_plus=df_id_by_tire_trans_4_plus[~df_id_by_tire_trans_4_plus['indiv_key'].isin(list_more_trans_4_plus)]\n",
    "print(df_id_by_tire_trans_4_plus.shape,df_id_by_tire_trans_4_plus['indiv_key'].nunique())\n",
    "df_id_by_tire_trans_4_plus.head(2)"
   ]
  },
  {
   "cell_type": "code",
   "execution_count": 17,
   "metadata": {},
   "outputs": [
    {
     "name": "stdout",
     "output_type": "stream",
     "text": [
      "(1452276, 5) 606944\n",
      "(1452276, 6) 606944\n"
     ]
    },
    {
     "data": {
      "text/html": [
       "<div>\n",
       "<style scoped>\n",
       "    .dataframe tbody tr th:only-of-type {\n",
       "        vertical-align: middle;\n",
       "    }\n",
       "\n",
       "    .dataframe tbody tr th {\n",
       "        vertical-align: top;\n",
       "    }\n",
       "\n",
       "    .dataframe thead th {\n",
       "        text-align: right;\n",
       "    }\n",
       "</style>\n",
       "<table border=\"1\" class=\"dataframe\">\n",
       "  <thead>\n",
       "    <tr style=\"text-align: right;\">\n",
       "      <th></th>\n",
       "      <th>indiv_key</th>\n",
       "      <th>total_trans_day_1plusTIRE</th>\n",
       "      <th>store_id</th>\n",
       "      <th>trans_date</th>\n",
       "      <th>daily_qty</th>\n",
       "      <th>trans_order</th>\n",
       "    </tr>\n",
       "  </thead>\n",
       "  <tbody>\n",
       "    <tr>\n",
       "      <th>1</th>\n",
       "      <td>1.222780e+15</td>\n",
       "      <td>2</td>\n",
       "      <td>2460</td>\n",
       "      <td>2016-06-07</td>\n",
       "      <td>4</td>\n",
       "      <td>1</td>\n",
       "    </tr>\n",
       "    <tr>\n",
       "      <th>0</th>\n",
       "      <td>1.222780e+15</td>\n",
       "      <td>2</td>\n",
       "      <td>ECOM</td>\n",
       "      <td>2018-05-14</td>\n",
       "      <td>2</td>\n",
       "      <td>2</td>\n",
       "    </tr>\n",
       "  </tbody>\n",
       "</table>\n",
       "</div>"
      ],
      "text/plain": [
       "      indiv_key  total_trans_day_1plusTIRE store_id  trans_date  daily_qty  \\\n",
       "1  1.222780e+15                          2     2460  2016-06-07          4   \n",
       "0  1.222780e+15                          2     ECOM  2018-05-14          2   \n",
       "\n",
       "   trans_order  \n",
       "1            1  \n",
       "0            2  "
      ]
     },
     "execution_count": 17,
     "metadata": {},
     "output_type": "execute_result"
    }
   ],
   "source": [
    "list_more_trans_all=list_more_trans_4_plus+list_more_trans_2to3\n",
    "df_id_by_tire_trans=df_id_by_tire_trans[~df_id_by_tire_trans['indiv_key'].isin(list_more_trans_all)]\n",
    "print(df_id_by_tire_trans.shape,df_id_by_tire_trans['indiv_key'].nunique())\n",
    "\n",
    "# If a person shopped a 2-3 tires once, and a 4+ tires once. They are included\n",
    "# But if a person shopped more than 3 times of either 2-3 tires or 4+tires, they are removed\n",
    "\n",
    "df_id_by_tire_trans=df_id_by_tire_trans.sort_values(['indiv_key','trans_date'],ascending=[True,True])\n",
    "df_id_by_tire_trans['val']=1\n",
    "df_id_by_tire_trans['trans_order']=df_id_by_tire_trans.groupby('indiv_key')['val'].cumsum()\n",
    "del df_id_by_tire_trans['val']\n",
    "\n",
    "print(df_id_by_tire_trans.shape,df_id_by_tire_trans['indiv_key'].nunique())\n",
    "df_id_by_tire_trans.head(2)\n"
   ]
  },
  {
   "cell_type": "code",
   "execution_count": 22,
   "metadata": {},
   "outputs": [],
   "source": [
    "def generate_df_with_interval(df_input):\n",
    "    df_output=df_input[['indiv_key','total_trans_day_1plusTIRE']].drop_duplicates()\n",
    "\n",
    "    df_id_by_tire_trans_1=df_input[df_input['trans_order']==1]\n",
    "    df_id_by_tire_trans_1=df_id_by_tire_trans_1[['indiv_key','store_id','trans_date']].drop_duplicates().rename(columns={\"store_id\":\"trans_1st_store\",\"trans_date\":\"trans_1st_date\"})\n",
    "\n",
    "    df_id_by_tire_trans_2=df_input[df_input['trans_order']==2]\n",
    "    df_id_by_tire_trans_2=df_id_by_tire_trans_2[['indiv_key','store_id','trans_date']].drop_duplicates().rename(columns={\"store_id\":\"trans_2nd_store\",\"trans_date\":\"trans_2nd_date\"})\n",
    "\n",
    "    df_id_by_tire_trans_3=df_input[df_input['trans_order']==3]\n",
    "    df_id_by_tire_trans_3=df_id_by_tire_trans_3[['indiv_key','store_id','trans_date']].drop_duplicates().rename(columns={\"store_id\":\"trans_3rd_store\",\"trans_date\":\"trans_3rd_date\"})\n",
    "\n",
    "    df_output=pd.merge(df_output,df_id_by_tire_trans_1,on=\"indiv_key\",how=\"left\")\n",
    "    df_output=pd.merge(df_output,df_id_by_tire_trans_2,on=\"indiv_key\",how=\"left\")\n",
    "    df_output=pd.merge(df_output,df_id_by_tire_trans_3,on=\"indiv_key\",how=\"left\")\n",
    "    \n",
    "    df_output['diff_day_1_2']=(df_output['trans_2nd_date']-df_output['trans_1st_date']).dt.days\n",
    "    df_output['diff_day_2_3']=np.where(pd.isnull(df_output['trans_3rd_date']),np.nan,\n",
    "                                        (df_output['trans_3rd_date']-df_output['trans_2nd_date']).dt.days)\n",
    "\n",
    "\n",
    "    df_output['diff_month_1_2']=np.round((df_output['trans_2nd_date']-df_output['trans_1st_date']).dt.days/30,4)\n",
    "    df_output['diff_month_2_3']=np.where(pd.isnull(df_output['trans_3rd_date']),np.nan,\n",
    "                                        np.round((df_output['trans_3rd_date']-df_output['trans_2nd_date']).dt.days/30,4))\n",
    "\n",
    "\n",
    "    return df_output\n",
    "    "
   ]
  },
  {
   "cell_type": "code",
   "execution_count": 23,
   "metadata": {},
   "outputs": [],
   "source": [
    "df_output_2to3=generate_df_with_interval(df_id_by_tire_trans_2to3)\n",
    "df_output_4_plus=generate_df_with_interval(df_id_by_tire_trans_4_plus)\n",
    "df_output_all=generate_df_with_interval(df_id_by_tire_trans)"
   ]
  },
  {
   "cell_type": "code",
   "execution_count": 24,
   "metadata": {},
   "outputs": [],
   "source": [
    "def write_summary_frequency(df_input_with_interval_float,out_file_name):\n",
    "    writer=pd.ExcelWriter(\"./%s\"%out_file_name,engine=\"xlsxwriter\")\n",
    "    print(os.getcwd())\n",
    "    df_output_summary_day_1_2=df_input_with_interval_float.groupby(\"diff_day_1_2\")['indiv_key'].count().to_frame().reset_index()\n",
    "    df_output_summary_day_2_3=df_input_with_interval_float.groupby(\"diff_day_2_3\")['indiv_key'].count().to_frame().reset_index()\n",
    "\n",
    "    df_output_copy=df_input_with_interval_float[['indiv_key','diff_month_1_2','diff_month_2_3']]\n",
    "    df_output_copy['diff_ceil_month_1_2']=np.ceil(df_output_copy['diff_month_1_2']).astype(int)\n",
    "    df_output_copy['diff_ceil_month_2_3']=df_output_copy['diff_month_2_3'].apply(lambda x: int(np.ceil(x)) if pd.notnull(x) else x)\n",
    "    \n",
    "    df_output_summary_month_1_2=df_output_copy.groupby(\"diff_ceil_month_1_2\")['indiv_key'].count().to_frame().reset_index()\n",
    "    df_output_summary_month_2_3=df_output_copy.groupby(\"diff_ceil_month_2_3\")['indiv_key'].count().to_frame().reset_index()\n",
    "    \n",
    "    df_input_with_interval_float.head(1000).to_excel(writer,\"sample_1000\",index=False)\n",
    "    df_output_summary_month_1_2.to_excel(writer,\"month_interval_1_2\",index=False)\n",
    "    df_output_summary_month_2_3.to_excel(writer,\"month_interval_2_3\",index=False)\n",
    "    df_output_summary_day_1_2.to_excel(writer,\"day_interval_1_2\",index=False)\n",
    "    df_output_summary_day_2_3.to_excel(writer,\"day_interval_2_3\",index=False)\n",
    "    \n",
    "    plt_month_1_2 = df_input_with_interval_float[['diff_month_1_2']].plot.hist(bins=50, alpha=0.5)\n",
    "    plt_month_2_3 = df_input_with_interval_float[['diff_month_2_3']].plot.hist(bins=50, alpha=0.5)\n",
    "    \n",
    "    writer.save()\n",
    "    # return df_output_summary_day_1_2,df_output_summary_day_2_3,df_output_summary_month_1_2,df_output_summary_month_2_3"
   ]
  },
  {
   "cell_type": "code",
   "execution_count": 25,
   "metadata": {},
   "outputs": [
    {
     "name": "stdout",
     "output_type": "stream",
     "text": [
      "/mnt/clients/juba/hqjubaapp02/sharefolder/GoodYear/jian/Selections\n"
     ]
    },
    {
     "name": "stderr",
     "output_type": "stream",
     "text": [
      "/opt/anaconda3/lib/python3.7/site-packages/ipykernel_launcher.py:8: SettingWithCopyWarning: \n",
      "A value is trying to be set on a copy of a slice from a DataFrame.\n",
      "Try using .loc[row_indexer,col_indexer] = value instead\n",
      "\n",
      "See the caveats in the documentation: https://pandas.pydata.org/pandas-docs/stable/user_guide/indexing.html#returning-a-view-versus-a-copy\n",
      "  \n",
      "/opt/anaconda3/lib/python3.7/site-packages/ipykernel_launcher.py:9: SettingWithCopyWarning: \n",
      "A value is trying to be set on a copy of a slice from a DataFrame.\n",
      "Try using .loc[row_indexer,col_indexer] = value instead\n",
      "\n",
      "See the caveats in the documentation: https://pandas.pydata.org/pandas-docs/stable/user_guide/indexing.html#returning-a-view-versus-a-copy\n",
      "  if __name__ == '__main__':\n"
     ]
    },
    {
     "name": "stdout",
     "output_type": "stream",
     "text": [
      "/mnt/clients/juba/hqjubaapp02/sharefolder/GoodYear/jian/Selections\n"
     ]
    },
    {
     "name": "stderr",
     "output_type": "stream",
     "text": [
      "/opt/anaconda3/lib/python3.7/site-packages/ipykernel_launcher.py:8: SettingWithCopyWarning: \n",
      "A value is trying to be set on a copy of a slice from a DataFrame.\n",
      "Try using .loc[row_indexer,col_indexer] = value instead\n",
      "\n",
      "See the caveats in the documentation: https://pandas.pydata.org/pandas-docs/stable/user_guide/indexing.html#returning-a-view-versus-a-copy\n",
      "  \n",
      "/opt/anaconda3/lib/python3.7/site-packages/ipykernel_launcher.py:9: SettingWithCopyWarning: \n",
      "A value is trying to be set on a copy of a slice from a DataFrame.\n",
      "Try using .loc[row_indexer,col_indexer] = value instead\n",
      "\n",
      "See the caveats in the documentation: https://pandas.pydata.org/pandas-docs/stable/user_guide/indexing.html#returning-a-view-versus-a-copy\n",
      "  if __name__ == '__main__':\n"
     ]
    },
    {
     "name": "stdout",
     "output_type": "stream",
     "text": [
      "/mnt/clients/juba/hqjubaapp02/sharefolder/GoodYear/jian/Selections\n"
     ]
    },
    {
     "data": {
      "image/png": "[encoded data removed]",
      "text/plain": [
       "<Figure size 432x288 with 1 Axes>"
      ]
     },
     "metadata": {
      "needs_background": "light"
     },
     "output_type": "display_data"
    },
    {
     "data": {
      "image/png": "[encoded data removed]",
      "text/plain": [
       "<Figure size 432x288 with 1 Axes>"
      ]
     },
     "metadata": {
      "needs_background": "light"
     },
     "output_type": "display_data"
    },
    {
     "data": {
      "image/png": "[encoded data removed]",
      "text/plain": [
       "<Figure size 432x288 with 1 Axes>"
      ]
     },
     "metadata": {
      "needs_background": "light"
     },
     "output_type": "display_data"
    },
    {
     "data": {
      "image/png": "[encoded data removed]",
      "text/plain": [
       "<Figure size 432x288 with 1 Axes>"
      ]
     },
     "metadata": {
      "needs_background": "light"
     },
     "output_type": "display_data"
    },
    {
     "data": {
      "image/png": "[encoded data removed]",
      "text/plain": [
       "<Figure size 432x288 with 1 Axes>"
      ]
     },
     "metadata": {
      "needs_background": "light"
     },
     "output_type": "display_data"
    },
    {
     "data": {
      "image/png": "[encoded data removed]",
      "text/plain": [
       "<Figure size 432x288 with 1 Axes>"
      ]
     },
     "metadata": {
      "needs_background": "light"
     },
     "output_type": "display_data"
    }
   ],
   "source": [
    "write_summary_frequency(df_output_2to3,\"GY_2to3_tire_shop_month_interval_freq_summary_JL_%s.xlsx\"%str(datetime.datetime.now().date()))\n",
    "write_summary_frequency(df_output_4_plus,\"GY_4_plus_tire_shop_month_interval_freq_summary_JL_%s.xlsx\"%str(datetime.datetime.now().date()))\n",
    "write_summary_frequency(df_output_all,\"GY_2to6_plus_tire_shop_month_interval_freq_summary_JL_%s.xlsx\"%str(datetime.datetime.now().date()))\n"
   ]
  },
  {
   "cell_type": "code",
   "execution_count": null,
   "metadata": {},
   "outputs": [],
   "source": []
  },
  {
   "cell_type": "code",
   "execution_count": null,
   "metadata": {},
   "outputs": [],
   "source": []
  },
  {
   "cell_type": "code",
   "execution_count": null,
   "metadata": {},
   "outputs": [],
   "source": []
  },
  {
   "cell_type": "code",
   "execution_count": 26,
   "metadata": {},
   "outputs": [
    {
     "name": "stderr",
     "output_type": "stream",
     "text": [
      "/opt/anaconda3/lib/python3.7/site-packages/ipykernel_launcher.py:7: SettingWithCopyWarning: \n",
      "A value is trying to be set on a copy of a slice from a DataFrame.\n",
      "Try using .loc[row_indexer,col_indexer] = value instead\n",
      "\n",
      "See the caveats in the documentation: https://pandas.pydata.org/pandas-docs/stable/user_guide/indexing.html#returning-a-view-versus-a-copy\n",
      "  import sys\n",
      "/opt/anaconda3/lib/python3.7/site-packages/ipykernel_launcher.py:8: SettingWithCopyWarning: \n",
      "A value is trying to be set on a copy of a slice from a DataFrame.\n",
      "Try using .loc[row_indexer,col_indexer] = value instead\n",
      "\n",
      "See the caveats in the documentation: https://pandas.pydata.org/pandas-docs/stable/user_guide/indexing.html#returning-a-view-versus-a-copy\n",
      "  \n"
     ]
    }
   ],
   "source": [
    "df_input_with_interval_float=df_output_2to3.copy()\n",
    "\n",
    "df_output_summary_day_1_2=df_input_with_interval_float.groupby(\"diff_day_1_2\")['indiv_key'].count().to_frame().reset_index()\n",
    "df_output_summary_day_2_3=df_input_with_interval_float.groupby(\"diff_day_2_3\")['indiv_key'].count().to_frame().reset_index()\n",
    "\n",
    "df_output_copy=df_input_with_interval_float[['indiv_key','diff_month_1_2','diff_month_2_3']]\n",
    "df_output_copy['diff_ceil_month_1_2']=np.ceil(df_output_copy['diff_month_1_2']).astype(int)\n",
    "df_output_copy['diff_ceil_month_2_3']=df_output_copy['diff_month_2_3'].apply(lambda x: int(np.ceil(x)) if pd.notnull(x) else x)\n",
    "\n",
    "df_output_summary_month_1_2=df_output_copy.groupby(\"diff_ceil_month_1_2\")['indiv_key'].count().to_frame().reset_index()\n",
    "df_output_summary_month_2_3=df_output_copy.groupby(\"diff_ceil_month_2_3\")['indiv_key'].count().to_frame().reset_index()\n"
   ]
  },
  {
   "cell_type": "code",
   "execution_count": 27,
   "metadata": {},
   "outputs": [
    {
     "data": {
      "text/plain": [
       "(196, 5)"
      ]
     },
     "execution_count": 27,
     "metadata": {},
     "output_type": "execute_result"
    }
   ],
   "source": [
    "df_output_copy[df_output_copy['diff_ceil_month_1_2']==0].shape"
   ]
  },
  {
   "cell_type": "code",
   "execution_count": 29,
   "metadata": {},
   "outputs": [
    {
     "data": {
      "text/plain": [
       "(13, 5)"
      ]
     },
     "execution_count": 29,
     "metadata": {},
     "output_type": "execute_result"
    }
   ],
   "source": [
    "df_output_copy[df_output_copy['diff_ceil_month_2_3']==0].shape"
   ]
  },
  {
   "cell_type": "code",
   "execution_count": 32,
   "metadata": {},
   "outputs": [
    {
     "data": {
      "text/plain": [
       "1222780023000254.0"
      ]
     },
     "execution_count": 32,
     "metadata": {},
     "output_type": "execute_result"
    }
   ],
   "source": [
    "df_output_copy[df_output_copy['diff_ceil_month_1_2']==0]['indiv_key'].tolist()[0]"
   ]
  },
  {
   "cell_type": "code",
   "execution_count": 33,
   "metadata": {},
   "outputs": [
    {
     "data": {
      "text/plain": [
       "(3, 5)"
      ]
     },
     "execution_count": 33,
     "metadata": {},
     "output_type": "execute_result"
    }
   ],
   "source": [
    "df=df_id_by_tire_trans_2to3[df_id_by_tire_trans_2to3['indiv_key']==1222780023000254]\n",
    "del df['trans_order']\n",
    "df.drop_duplicates().shape"
   ]
  },
  {
   "cell_type": "code",
   "execution_count": 34,
   "metadata": {},
   "outputs": [
    {
     "data": {
      "text/html": [
       "<div>\n",
       "<style scoped>\n",
       "    .dataframe tbody tr th:only-of-type {\n",
       "        vertical-align: middle;\n",
       "    }\n",
       "\n",
       "    .dataframe tbody tr th {\n",
       "        vertical-align: top;\n",
       "    }\n",
       "\n",
       "    .dataframe thead th {\n",
       "        text-align: right;\n",
       "    }\n",
       "</style>\n",
       "<table border=\"1\" class=\"dataframe\">\n",
       "  <thead>\n",
       "    <tr style=\"text-align: right;\">\n",
       "      <th></th>\n",
       "      <th>indiv_key</th>\n",
       "      <th>total_trans_day_1plusTIRE</th>\n",
       "      <th>store_id</th>\n",
       "      <th>trans_date</th>\n",
       "      <th>daily_qty</th>\n",
       "    </tr>\n",
       "  </thead>\n",
       "  <tbody>\n",
       "    <tr>\n",
       "      <th>30806</th>\n",
       "      <td>1.222780e+15</td>\n",
       "      <td>3</td>\n",
       "      <td>2363</td>\n",
       "      <td>2015-02-02</td>\n",
       "      <td>2</td>\n",
       "    </tr>\n",
       "    <tr>\n",
       "      <th>30808</th>\n",
       "      <td>1.222780e+15</td>\n",
       "      <td>3</td>\n",
       "      <td>2382</td>\n",
       "      <td>2015-02-02</td>\n",
       "      <td>2</td>\n",
       "    </tr>\n",
       "    <tr>\n",
       "      <th>30807</th>\n",
       "      <td>1.222780e+15</td>\n",
       "      <td>3</td>\n",
       "      <td>2391</td>\n",
       "      <td>2017-09-21</td>\n",
       "      <td>2</td>\n",
       "    </tr>\n",
       "  </tbody>\n",
       "</table>\n",
       "</div>"
      ],
      "text/plain": [
       "          indiv_key  total_trans_day_1plusTIRE store_id  trans_date  daily_qty\n",
       "30806  1.222780e+15                          3     2363  2015-02-02          2\n",
       "30808  1.222780e+15                          3     2382  2015-02-02          2\n",
       "30807  1.222780e+15                          3     2391  2017-09-21          2"
      ]
     },
     "execution_count": 34,
     "metadata": {},
     "output_type": "execute_result"
    }
   ],
   "source": [
    "df"
   ]
  },
  {
   "cell_type": "code",
   "execution_count": null,
   "metadata": {},
   "outputs": [],
   "source": []
  }
 ],
 "metadata": {
  "kernelspec": {
   "display_name": "Python 3",
   "language": "python",
   "name": "python3"
  },
  "language_info": {
   "codemirror_mode": {
    "name": "ipython",
    "version": 3
   },
   "file_extension": ".py",
   "mimetype": "text/x-python",
   "name": "python",
   "nbconvert_exporter": "python",
   "pygments_lexer": "ipython3",
   "version": "3.7.6"
  }
 },
 "nbformat": 4,
 "nbformat_minor": 4
}
