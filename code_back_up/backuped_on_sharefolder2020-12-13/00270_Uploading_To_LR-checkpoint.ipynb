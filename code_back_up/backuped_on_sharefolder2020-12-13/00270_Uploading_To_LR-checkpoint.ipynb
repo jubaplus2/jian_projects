{
 "cells": [
  {
   "cell_type": "code",
   "execution_count": 1,
   "metadata": {},
   "outputs": [
    {
     "name": "stdout",
     "output_type": "stream",
     "text": [
      "/home/sharefolder/Live_Ramp/Quarterly_Update_2020Q4\n",
      "2020-10-19 12:51:44.247297\n"
     ]
    }
   ],
   "source": [
    "import glob\n",
    "import os\n",
    "import paramiko\n",
    "import pandas as pd\n",
    "import numpy as np\n",
    "import datetime\n",
    "\n",
    "print(os.getcwd())\n",
    "print(datetime.datetime.now())"
   ]
  },
  {
   "cell_type": "code",
   "execution_count": 2,
   "metadata": {},
   "outputs": [
    {
     "data": {
      "text/plain": [
       "['/home/sharefolder/Live_Ramp/Quarterly_Update_2020Q4/uploaded_file_LR/BL_2020Q4_audience_Refreshable_JL_2020-10-09.csv',\n",
       " '/home/sharefolder/Live_Ramp/Quarterly_Update_2020Q4/uploaded_file_LR/BL_2020Q4_audience_Refreshable_JL_2020-10-14.csv',\n",
       " '/home/sharefolder/Live_Ramp/Quarterly_Update_2020Q4/uploaded_file_LR/BL_2020Q4_audience_Refreshable_JL_2020-10-19.csv']"
      ]
     },
     "execution_count": 2,
     "metadata": {},
     "output_type": "execute_result"
    }
   ],
   "source": [
    "folder_LR_all=\"/home/sharefolder/Live_Ramp/Quarterly_Update_2020Q4/uploaded_file_LR/\"\n",
    "\n",
    "list_LR_files=glob.glob(folder_LR_all+\"*.csv\")\n",
    "list_LR_files=sorted(list_LR_files,key=lambda x: os.stat(x).st_mtime)\n",
    "list_LR_files"
   ]
  },
  {
   "cell_type": "code",
   "execution_count": 3,
   "metadata": {},
   "outputs": [
    {
     "name": "stdout",
     "output_type": "stream",
     "text": [
      "/home/sharefolder/Live_Ramp/Quarterly_Update_2020Q4/uploaded_file_LR/BL_2020Q4_audience_Refreshable_JL_2020-10-19.csv\n"
     ]
    }
   ],
   "source": [
    "local_file_latest=list_LR_files[-1]\n",
    "print(local_file_latest)"
   ]
  },
  {
   "cell_type": "code",
   "execution_count": 4,
   "metadata": {},
   "outputs": [],
   "source": [
    "# Check segments and count\n",
    "df=pd.read_csv(local_file_latest)\n",
    "df_summary=df.groupby(\"updated_segment_2020Q4_Refresh\")['email_address_hash'].count().to_frame().reset_index()"
   ]
  },
  {
   "cell_type": "code",
   "execution_count": 5,
   "metadata": {},
   "outputs": [
    {
     "data": {
      "text/html": [
       "<div>\n",
       "<style scoped>\n",
       "    .dataframe tbody tr th:only-of-type {\n",
       "        vertical-align: middle;\n",
       "    }\n",
       "\n",
       "    .dataframe tbody tr th {\n",
       "        vertical-align: top;\n",
       "    }\n",
       "\n",
       "    .dataframe thead th {\n",
       "        text-align: right;\n",
       "    }\n",
       "</style>\n",
       "<table border=\"1\" class=\"dataframe\">\n",
       "  <thead>\n",
       "    <tr style=\"text-align: right;\">\n",
       "      <th></th>\n",
       "      <th>updated_segment_2020Q4_Refresh</th>\n",
       "      <th>email_address_hash</th>\n",
       "    </tr>\n",
       "  </thead>\n",
       "  <tbody>\n",
       "    <tr>\n",
       "      <th>0</th>\n",
       "      <td>Refreshable_LR_Rewards_Control_segment_2020Q4</td>\n",
       "      <td>504502</td>\n",
       "    </tr>\n",
       "    <tr>\n",
       "      <th>1</th>\n",
       "      <td>Refreshable_LR_Rewards_T_Legacy_Active0X_H_PS</td>\n",
       "      <td>4698600</td>\n",
       "    </tr>\n",
       "    <tr>\n",
       "      <th>2</th>\n",
       "      <td>Refreshable_LR_Rewards_T_Legacy_Active0X_L_PS</td>\n",
       "      <td>491243</td>\n",
       "    </tr>\n",
       "    <tr>\n",
       "      <th>3</th>\n",
       "      <td>Refreshable_LR_Rewards_T_Legacy_Active0X_M_PS</td>\n",
       "      <td>2870013</td>\n",
       "    </tr>\n",
       "    <tr>\n",
       "      <th>4</th>\n",
       "      <td>Refreshable_LR_Rewards_T_Legacy_ActiveX12_L_PS</td>\n",
       "      <td>1347886</td>\n",
       "    </tr>\n",
       "    <tr>\n",
       "      <th>5</th>\n",
       "      <td>Refreshable_LR_Rewards_T_Legacy_ActiveX12_M_PS</td>\n",
       "      <td>603381</td>\n",
       "    </tr>\n",
       "    <tr>\n",
       "      <th>6</th>\n",
       "      <td>Refreshable_LR_Rewards_T_Legacy_Lapsed1318_L_PS</td>\n",
       "      <td>1681747</td>\n",
       "    </tr>\n",
       "    <tr>\n",
       "      <th>7</th>\n",
       "      <td>Refreshable_LR_Rewards_T_Legacy_Lapsed1924_Unk...</td>\n",
       "      <td>1194836</td>\n",
       "    </tr>\n",
       "    <tr>\n",
       "      <th>8</th>\n",
       "      <td>Refreshable_LR_Rewards_T_Legacy_Lapsed2530_Unk...</td>\n",
       "      <td>1142908</td>\n",
       "    </tr>\n",
       "    <tr>\n",
       "      <th>9</th>\n",
       "      <td>Refreshable_LR_Rewards_T_SOTF_Active0X_H_PS</td>\n",
       "      <td>2616322</td>\n",
       "    </tr>\n",
       "    <tr>\n",
       "      <th>10</th>\n",
       "      <td>Refreshable_LR_Rewards_T_SOTF_Active0X_L_PS</td>\n",
       "      <td>269656</td>\n",
       "    </tr>\n",
       "    <tr>\n",
       "      <th>11</th>\n",
       "      <td>Refreshable_LR_Rewards_T_SOTF_Active0X_M_PS</td>\n",
       "      <td>1588977</td>\n",
       "    </tr>\n",
       "    <tr>\n",
       "      <th>12</th>\n",
       "      <td>Refreshable_LR_Rewards_T_SOTF_ActiveX12_L_PS</td>\n",
       "      <td>728796</td>\n",
       "    </tr>\n",
       "    <tr>\n",
       "      <th>13</th>\n",
       "      <td>Refreshable_LR_Rewards_T_SOTF_ActiveX12_M_PS</td>\n",
       "      <td>321984</td>\n",
       "    </tr>\n",
       "    <tr>\n",
       "      <th>14</th>\n",
       "      <td>Refreshable_LR_Rewards_T_SOTF_Lapsed1318_L_PS</td>\n",
       "      <td>838549</td>\n",
       "    </tr>\n",
       "    <tr>\n",
       "      <th>15</th>\n",
       "      <td>Refreshable_LR_Rewards_T_SOTF_Lapsed1924_Unkno...</td>\n",
       "      <td>545031</td>\n",
       "    </tr>\n",
       "    <tr>\n",
       "      <th>16</th>\n",
       "      <td>Refreshable_LR_Rewards_T_SOTF_Lapsed2530_Unkno...</td>\n",
       "      <td>494117</td>\n",
       "    </tr>\n",
       "    <tr>\n",
       "      <th>17</th>\n",
       "      <td>Refreshable_LR_Rewards_T_SignUpNoPurchase_2_12</td>\n",
       "      <td>3286070</td>\n",
       "    </tr>\n",
       "  </tbody>\n",
       "</table>\n",
       "</div>"
      ],
      "text/plain": [
       "                       updated_segment_2020Q4_Refresh  email_address_hash\n",
       "0       Refreshable_LR_Rewards_Control_segment_2020Q4              504502\n",
       "1       Refreshable_LR_Rewards_T_Legacy_Active0X_H_PS             4698600\n",
       "2       Refreshable_LR_Rewards_T_Legacy_Active0X_L_PS              491243\n",
       "3       Refreshable_LR_Rewards_T_Legacy_Active0X_M_PS             2870013\n",
       "4      Refreshable_LR_Rewards_T_Legacy_ActiveX12_L_PS             1347886\n",
       "5      Refreshable_LR_Rewards_T_Legacy_ActiveX12_M_PS              603381\n",
       "6     Refreshable_LR_Rewards_T_Legacy_Lapsed1318_L_PS             1681747\n",
       "7   Refreshable_LR_Rewards_T_Legacy_Lapsed1924_Unk...             1194836\n",
       "8   Refreshable_LR_Rewards_T_Legacy_Lapsed2530_Unk...             1142908\n",
       "9         Refreshable_LR_Rewards_T_SOTF_Active0X_H_PS             2616322\n",
       "10        Refreshable_LR_Rewards_T_SOTF_Active0X_L_PS              269656\n",
       "11        Refreshable_LR_Rewards_T_SOTF_Active0X_M_PS             1588977\n",
       "12       Refreshable_LR_Rewards_T_SOTF_ActiveX12_L_PS              728796\n",
       "13       Refreshable_LR_Rewards_T_SOTF_ActiveX12_M_PS              321984\n",
       "14      Refreshable_LR_Rewards_T_SOTF_Lapsed1318_L_PS              838549\n",
       "15  Refreshable_LR_Rewards_T_SOTF_Lapsed1924_Unkno...              545031\n",
       "16  Refreshable_LR_Rewards_T_SOTF_Lapsed2530_Unkno...              494117\n",
       "17     Refreshable_LR_Rewards_T_SignUpNoPurchase_2_12             3286070"
      ]
     },
     "execution_count": 5,
     "metadata": {},
     "output_type": "execute_result"
    }
   ],
   "source": [
    "df_summary"
   ]
  },
  {
   "cell_type": "code",
   "execution_count": 7,
   "metadata": {},
   "outputs": [
    {
     "name": "stdout",
     "output_type": "stream",
     "text": [
      "18\n"
     ]
    }
   ],
   "source": [
    "list_unique_seg=df['updated_segment_2020Q4_Refresh'].unique().tolist()\n",
    "print(len(list_unique_seg))"
   ]
  },
  {
   "cell_type": "code",
   "execution_count": 8,
   "metadata": {},
   "outputs": [
    {
     "data": {
      "text/plain": [
       "['Refreshable_LR_Rewards_Control_segment_2020Q4',\n",
       " 'Refreshable_LR_Rewards_T_Legacy_Active0X_H_PS',\n",
       " 'Refreshable_LR_Rewards_T_Legacy_Active0X_L_PS',\n",
       " 'Refreshable_LR_Rewards_T_Legacy_Active0X_M_PS',\n",
       " 'Refreshable_LR_Rewards_T_Legacy_ActiveX12_L_PS',\n",
       " 'Refreshable_LR_Rewards_T_Legacy_ActiveX12_M_PS',\n",
       " 'Refreshable_LR_Rewards_T_Legacy_Lapsed1318_L_PS',\n",
       " 'Refreshable_LR_Rewards_T_Legacy_Lapsed1924_Unknown_PS',\n",
       " 'Refreshable_LR_Rewards_T_Legacy_Lapsed2530_Unknown_PS',\n",
       " 'Refreshable_LR_Rewards_T_SOTF_Active0X_H_PS',\n",
       " 'Refreshable_LR_Rewards_T_SOTF_Active0X_L_PS',\n",
       " 'Refreshable_LR_Rewards_T_SOTF_Active0X_M_PS',\n",
       " 'Refreshable_LR_Rewards_T_SOTF_ActiveX12_L_PS',\n",
       " 'Refreshable_LR_Rewards_T_SOTF_ActiveX12_M_PS',\n",
       " 'Refreshable_LR_Rewards_T_SOTF_Lapsed1318_L_PS',\n",
       " 'Refreshable_LR_Rewards_T_SOTF_Lapsed1924_Unknown_PS',\n",
       " 'Refreshable_LR_Rewards_T_SOTF_Lapsed2530_Unknown_PS',\n",
       " 'Refreshable_LR_Rewards_T_SignUpNoPurchase_2_12']"
      ]
     },
     "execution_count": 8,
     "metadata": {},
     "output_type": "execute_result"
    }
   ],
   "source": [
    "list_unique_seg.sort()\n",
    "list_unique_seg"
   ]
  },
  {
   "cell_type": "code",
   "execution_count": 9,
   "metadata": {},
   "outputs": [],
   "source": [
    "# Uploading\n",
    "\n",
    "import paramiko\n",
    "host = \"files.liveramp.com\"\n",
    "port = 22\n",
    "password = \"Biglots2018!\"\n",
    "username = \"lr-big-lots\"\n",
    "\n",
    "transport = paramiko.Transport((host, port))\n",
    "\n",
    "transport.connect(username = username, password = password)\n",
    "sftp = paramiko.SFTPClient.from_transport(transport)\n"
   ]
  },
  {
   "cell_type": "code",
   "execution_count": 10,
   "metadata": {},
   "outputs": [
    {
     "name": "stdout",
     "output_type": "stream",
     "text": [
      "/home/sharefolder/Live_Ramp/Quarterly_Update_2020Q4/uploaded_file_LR/BL_2020Q4_audience_Refreshable_JL_2020-10-19.csv\n"
     ]
    }
   ],
   "source": [
    "print(local_file_latest)"
   ]
  },
  {
   "cell_type": "code",
   "execution_count": 11,
   "metadata": {},
   "outputs": [
    {
     "name": "stdout",
     "output_type": "stream",
     "text": [
      "Done: 2020-10-19 13:38:24.778540\n"
     ]
    }
   ],
   "source": [
    "base_name=os.path.basename(local_file_latest)\n",
    "remote_name=\"/uploads/big_lots_onboarding_refresh/\"+base_name\n",
    "sftp.put(local_file_latest,remote_name)\n",
    "    \n",
    "print(\"Done: \"+str(datetime.datetime.now()))"
   ]
  },
  {
   "cell_type": "code",
   "execution_count": null,
   "metadata": {},
   "outputs": [],
   "source": []
  }
 ],
 "metadata": {
  "kernelspec": {
   "display_name": "Python 3",
   "language": "python",
   "name": "python3"
  },
  "language_info": {
   "codemirror_mode": {
    "name": "ipython",
    "version": 3
   },
   "file_extension": ".py",
   "mimetype": "text/x-python",
   "name": "python",
   "nbconvert_exporter": "python",
   "pygments_lexer": "ipython3",
   "version": "3.6.1"
  }
 },
 "nbformat": 4,
 "nbformat_minor": 2
}
