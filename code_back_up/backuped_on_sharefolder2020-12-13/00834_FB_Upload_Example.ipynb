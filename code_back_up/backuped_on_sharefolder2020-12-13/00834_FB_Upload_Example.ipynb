{
 "cells": [
  {
   "cell_type": "code",
   "execution_count": 1,
   "metadata": {},
   "outputs": [],
   "source": [
    "from facebookads.adobjects.customaudience import CustomAudience\n",
    "from facebookads.adobjects.adaccount import AdAccount\n",
    "from facebookads.api import FacebookAdsApi\n",
    "import json\n",
    "import pandas as pd\n",
    "import os\n",
    "import datetime\n",
    "import numpy as np\n",
    "\n",
    "BigLotsAccount_id=\"act_271491453638620\"\n",
    "BigLotsDcart10_id=\"act_2449979771956630\"\n",
    "\n",
    "list_account_id=[BigLotsAccount_id,BigLotsDcart10_id]\n",
    "# jian_APP_ID=\"2537704939796694\"# jian's fb marketing app id\n",
    "jian_token=json.load(open(\"/home/sharefolder/Docs/FB_token/lasest_FB_token_jian.json\",\"r\"))['latest_FB_token']"
   ]
  },
  {
   "cell_type": "code",
   "execution_count": 2,
   "metadata": {},
   "outputs": [],
   "source": [
    "# create new adueince and add the new users to the audiecne, 1 step\n",
    "# Please note the change of the CustomAudience.Schema (row 41 based on the user list format)\n",
    "def creatfbaudience(AudienceName,\n",
    "                    AudienceDescription,\n",
    "                    df,\n",
    "                    ACCESS_TOKEN,\n",
    "                    accountid,\n",
    "                    df_use_col_name,\n",
    "                    fb_schema=CustomAudience.Schema.email_hash):\n",
    "    FacebookAdsApi.init(access_token=ACCESS_TOKEN, api_version='v8.0')\n",
    "    \n",
    "    '''\n",
    "    AudienceName: str, the name shown on FB\n",
    "    AudienceDescription: str, the description shown on FB\n",
    "    df: pd.Dataframe, input with the identifier col\n",
    "    ACCESS_TOKEN: str, access to FB marketing api\n",
    "    accountid: str, account to uplaod\n",
    "    df_use_col_name: str, col name in the df\n",
    "    fb_schema: available schema attribution in the CustomAudience.Schema class. Default for us CustomAudience.Schema.email_hash  \n",
    "    https://github.com/facebook/facebook-python-business-sdk/blob/ac390147132101763a99a917bb59bdc8a374a7ce/facebook_business/adobjects/helpers/customaudiencemixin.py\n",
    "    '''\n",
    "    \n",
    "    myAccount = AdAccount(accountid)\n",
    "    fields = [\n",
    "    ]\n",
    "    params = {\n",
    "      'name': AudienceName,\n",
    "      'subtype': 'CUSTOM',\n",
    "      'description': AudienceDescription,\n",
    "      'customer_file_source': 'PARTNER_PROVIDED_ONLY',\n",
    "    }\n",
    "    fbname = myAccount.create_custom_audience(\n",
    "      fields=fields,\n",
    "      params=params,\n",
    "    )['id']\n",
    "    print(\"Audience ID:\",fbname)\n",
    "    audience = CustomAudience(fbname)\n",
    "    users = list(df[df_use_col_name])\n",
    "    listlen = len(users)\n",
    "    chunck_size=50000\n",
    "    count_uploaded=0\n",
    "    for i in range(int(np.ceil(listlen/chunck_size))):\n",
    "        starti = i*50000\n",
    "        if (i+1)*50000<listlen:\n",
    "            endi = (i+1)*50000\n",
    "        else:\n",
    "            endi = listlen\n",
    "        list0 = users[starti:endi]\n",
    "        \n",
    "        count_uploaded+=len(list0)\n",
    "        audience.add_users(fb_schema, list0)\n",
    "        #print len(list0)   \n",
    "    print(datetime.datetime.now(),AudienceName,\"uploaded\",count_uploaded)\n"
   ]
  },
  {
   "cell_type": "code",
   "execution_count": 3,
   "metadata": {},
   "outputs": [
    {
     "data": {
      "text/plain": [
       "['/home/jian/Projects/Big_Lots/Analysis/2020_Q3/Audience_for_21mm_Act_Goal/Uploaded_Files/PYD_clients/removed_Q3_QuarterlyControl_09142020_PYD_Active_A.csv',\n",
       " '/home/jian/Projects/Big_Lots/Analysis/2020_Q3/Audience_for_21mm_Act_Goal/Uploaded_Files/PYD_clients/removed_Q3_QuarterlyControl_09142020_PYD_Active_B.csv',\n",
       " '/home/jian/Projects/Big_Lots/Analysis/2020_Q3/Audience_for_21mm_Act_Goal/Uploaded_Files/PYD_clients/removed_Q3_QuarterlyControl_09142020_PYD_Active_C.csv',\n",
       " '/home/jian/Projects/Big_Lots/Analysis/2020_Q3/Audience_for_21mm_Act_Goal/Uploaded_Files/PYD_clients/removed_Q3_QuarterlyControl_09142020_PYD_Lapsed_A.csv',\n",
       " '/home/jian/Projects/Big_Lots/Analysis/2020_Q3/Audience_for_21mm_Act_Goal/Uploaded_Files/PYD_clients/removed_Q3_QuarterlyControl_09142020_PYD_Lapsed_B.csv',\n",
       " '/home/jian/Projects/Big_Lots/Analysis/2020_Q3/Audience_for_21mm_Act_Goal/Uploaded_Files/PYD_clients/removed_Q3_QuarterlyControl_09142020_PYD_Lapsed_C.csv',\n",
       " '/home/jian/Projects/Big_Lots/Analysis/2020_Q3/Audience_for_21mm_Act_Goal/Uploaded_Files/PYD_clients/removed_Q3_QuarterlyControl_09142020_PYD_Signup_NoPurchase_A.csv',\n",
       " '/home/jian/Projects/Big_Lots/Analysis/2020_Q3/Audience_for_21mm_Act_Goal/Uploaded_Files/PYD_clients/removed_Q3_QuarterlyControl_09142020_PYD_Signup_NoPurchase_B.csv',\n",
       " '/home/jian/Projects/Big_Lots/Analysis/2020_Q3/Audience_for_21mm_Act_Goal/Uploaded_Files/PYD_clients/removed_Q3_QuarterlyControl_09142020_PYD_Signup_NoPurchase_C.csv']"
      ]
     },
     "execution_count": 3,
     "metadata": {},
     "output_type": "execute_result"
    }
   ],
   "source": [
    "import glob\n",
    "folder_client_segs=\"/home/jian/Projects/Big_Lots/Analysis/2020_Q3/Audience_for_21mm_Act_Goal/Uploaded_Files/PYD_clients/\"\n",
    "list_files_to_upload_PYD=glob.glob(folder_client_segs+\"*.csv\")\n",
    "# list_files_to_upload_PYD=[x for x in list_files_to_upload_PYD if \"_C.csv\" not in x]\n",
    "list_files_to_upload_PYD.sort()\n",
    "list_files_to_upload_PYD"
   ]
  },
  {
   "cell_type": "code",
   "execution_count": 4,
   "metadata": {},
   "outputs": [
    {
     "data": {
      "text/plain": [
       "['/home/jian/Projects/Big_Lots/Analysis/2020_Q3/Audience_for_21mm_Act_Goal/Uploaded_Files/PYD_clients/removed_Q3_QuarterlyControl_09142020_PYD_Active_A.csv',\n",
       " '/home/jian/Projects/Big_Lots/Analysis/2020_Q3/Audience_for_21mm_Act_Goal/Uploaded_Files/PYD_clients/removed_Q3_QuarterlyControl_09142020_PYD_Active_B.csv',\n",
       " '/home/jian/Projects/Big_Lots/Analysis/2020_Q3/Audience_for_21mm_Act_Goal/Uploaded_Files/PYD_clients/removed_Q3_QuarterlyControl_09142020_PYD_Active_C.csv',\n",
       " '/home/jian/Projects/Big_Lots/Analysis/2020_Q3/Audience_for_21mm_Act_Goal/Uploaded_Files/PYD_clients/removed_Q3_QuarterlyControl_09142020_PYD_Lapsed_A.csv',\n",
       " '/home/jian/Projects/Big_Lots/Analysis/2020_Q3/Audience_for_21mm_Act_Goal/Uploaded_Files/PYD_clients/removed_Q3_QuarterlyControl_09142020_PYD_Lapsed_B.csv',\n",
       " '/home/jian/Projects/Big_Lots/Analysis/2020_Q3/Audience_for_21mm_Act_Goal/Uploaded_Files/PYD_clients/removed_Q3_QuarterlyControl_09142020_PYD_Lapsed_C.csv',\n",
       " '/home/jian/Projects/Big_Lots/Analysis/2020_Q3/Audience_for_21mm_Act_Goal/Uploaded_Files/PYD_clients/removed_Q3_QuarterlyControl_09142020_PYD_Signup_NoPurchase_A.csv',\n",
       " '/home/jian/Projects/Big_Lots/Analysis/2020_Q3/Audience_for_21mm_Act_Goal/Uploaded_Files/PYD_clients/removed_Q3_QuarterlyControl_09142020_PYD_Signup_NoPurchase_B.csv',\n",
       " '/home/jian/Projects/Big_Lots/Analysis/2020_Q3/Audience_for_21mm_Act_Goal/Uploaded_Files/PYD_clients/removed_Q3_QuarterlyControl_09142020_PYD_Signup_NoPurchase_C.csv']"
      ]
     },
     "execution_count": 4,
     "metadata": {},
     "output_type": "execute_result"
    }
   ],
   "source": [
    "list_files_to_upload_PYD"
   ]
  },
  {
   "cell_type": "code",
   "execution_count": null,
   "metadata": {},
   "outputs": [
    {
     "name": "stdout",
     "output_type": "stream",
     "text": [
      "Audience ID: 23845409902160265\n",
      "2020-09-16 23:09:19.387586 aud_removed_Q3_QuarterlyControl_09142020_PYD_Active_A uploaded 6473944\n",
      "Audience ID: 23845409983440265\n",
      "2020-09-16 23:22:12.683409 aud_removed_Q3_QuarterlyControl_09142020_PYD_Active_B uploaded 6474745\n",
      "Audience ID: 23845410052540265\n",
      "2020-09-16 23:34:16.302555 aud_removed_Q3_QuarterlyControl_09142020_PYD_Active_C uploaded 6474337\n",
      "Audience ID: 23845410148900265\n",
      "2020-09-16 23:36:47.913082 aud_removed_Q3_QuarterlyControl_09142020_PYD_Lapsed_A uploaded 1174859\n",
      "Audience ID: 23845410159460265\n",
      "2020-09-16 23:38:52.645994 aud_removed_Q3_QuarterlyControl_09142020_PYD_Lapsed_B uploaded 1174618\n",
      "Audience ID: 23845410187740265\n",
      "2020-09-16 23:40:49.100831 aud_removed_Q3_QuarterlyControl_09142020_PYD_Lapsed_C uploaded 1174524\n",
      "Audience ID: 23845410223460265\n",
      "2020-09-16 23:42:39.242091 aud_removed_Q3_QuarterlyControl_09142020_PYD_Signup_NoPurchase_A uploaded 971806\n",
      "Audience ID: 23845410230810265\n",
      "2020-09-16 23:44:29.663919 aud_removed_Q3_QuarterlyControl_09142020_PYD_Signup_NoPurchase_B uploaded 971795\n",
      "Audience ID: 23845410237150265\n"
     ]
    }
   ],
   "source": [
    "for file in list_files_to_upload_PYD:\n",
    "    for fb_account_id in list_account_id:\n",
    "        audience_name = os.path.basename(file).split(\".\")[0].replace(\"removed_Q3_QuarterlyControl_09142020_\",\"2020Spet_\")\n",
    "        description=os.path.basename(file).split(\".\")[0]+\"_\"+str(datetime.datetime.now().date())\n",
    "        df = pd.read_csv(file,dtype=str)\n",
    "        creatfbaudience(AudienceName=\"aud_\"+audience_name,\n",
    "                        AudienceDescription=description+\", file received from client on 20200915, 107 agile\",\n",
    "                        df=df,\n",
    "                        df_use_col_name='customersummary_emailhash',\n",
    "                        ACCESS_TOKEN=jian_token,\n",
    "                        accountid=fb_account_id)"
   ]
  }
 ],
 "metadata": {
  "kernelspec": {
   "display_name": "Python 3",
   "language": "python",
   "name": "python3"
  },
  "language_info": {
   "codemirror_mode": {
    "name": "ipython",
    "version": 3
   },
   "file_extension": ".py",
   "mimetype": "text/x-python",
   "name": "python",
   "nbconvert_exporter": "python",
   "pygments_lexer": "ipython3",
   "version": "3.7.6"
  }
 },
 "nbformat": 4,
 "nbformat_minor": 2
}
