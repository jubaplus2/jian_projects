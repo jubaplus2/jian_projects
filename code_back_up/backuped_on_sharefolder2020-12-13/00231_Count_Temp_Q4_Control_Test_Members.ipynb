{
 "cells": [
  {
   "cell_type": "code",
   "execution_count": 2,
   "metadata": {},
   "outputs": [
    {
     "data": {
      "text/plain": [
       "'/home/jian/Projects/Big_Lots/Live_Ramp/Quarterly_Update_2019Q1'"
      ]
     },
     "execution_count": 2,
     "metadata": {},
     "output_type": "execute_result"
    }
   ],
   "source": [
    "import pandas as pd\n",
    "import numpy as np\n",
    "import glob\n",
    "import os\n",
    "os.getcwd()"
   ]
  },
  {
   "cell_type": "code",
   "execution_count": 12,
   "metadata": {
    "collapsed": true
   },
   "outputs": [],
   "source": [
    "Q4_seg_list=glob.glob(\"/home/jian/Projects/Big_Lots/Live_Ramp/Quarterly_Update_2019Q1/upload_newscore_0922/*.csv\")\n",
    "Q4_seg_list_Test=[x for x in Q4_seg_list if os.path.basename(x)[:2]==\"T_\"]\n",
    "Q4_seg_list_Control=[x for x in Q4_seg_list if os.path.basename(x)[:2]==\"C_\"]"
   ]
  },
  {
   "cell_type": "code",
   "execution_count": 18,
   "metadata": {},
   "outputs": [],
   "source": [
    "Q4_uploaded_summary=pd.DataFrame()\n",
    "i_counter=0\n",
    "for file_T in Q4_seg_list_Test:\n",
    "    base_name=os.path.basename(file_T)\n",
    "    seg=base_name.split(\".\")[0]\n",
    "    id_counts=pd.read_csv(file_T,dtype=str).shape[0]\n",
    "    \n",
    "    df=pd.DataFrame({\"segment\":seg,\"id_counts\":id_counts},index=[i_counter])\n",
    "    Q4_uploaded_summary=Q4_uploaded_summary.append(df)\n",
    "    "
   ]
  },
  {
   "cell_type": "code",
   "execution_count": 19,
   "metadata": {
    "collapsed": true
   },
   "outputs": [],
   "source": [
    "for file_C in Q4_seg_list_Control:\n",
    "    base_name=os.path.basename(file_C)\n",
    "    seg=base_name.split(\".\")[0]\n",
    "    id_counts=pd.read_csv(file_C,dtype=str).shape[0]\n",
    "    \n",
    "    df=pd.DataFrame({\"segment\":seg,\"id_counts\":id_counts},index=[i_counter])\n",
    "    Q4_uploaded_summary=Q4_uploaded_summary.append(df)\n",
    "    "
   ]
  },
  {
   "cell_type": "code",
   "execution_count": 20,
   "metadata": {},
   "outputs": [],
   "source": [
    "Q4_uploaded_summary[['segment','id_counts']].to_csv(\"/home/jian/Projects/Big_Lots/Live_Ramp/Quarterly_Update_2019Q1/Q4_uploaded_summary.csv\",index=False)"
   ]
  },
  {
   "cell_type": "code",
   "execution_count": null,
   "metadata": {
    "collapsed": true
   },
   "outputs": [],
   "source": []
  }
 ],
 "metadata": {
  "kernelspec": {
   "display_name": "Python 3",
   "language": "python",
   "name": "python3"
  },
  "language_info": {
   "codemirror_mode": {
    "name": "ipython",
    "version": 3
   },
   "file_extension": ".py",
   "mimetype": "text/x-python",
   "name": "python",
   "nbconvert_exporter": "python",
   "pygments_lexer": "ipython3",
   "version": "3.6.1"
  }
 },
 "nbformat": 4,
 "nbformat_minor": 2
}
