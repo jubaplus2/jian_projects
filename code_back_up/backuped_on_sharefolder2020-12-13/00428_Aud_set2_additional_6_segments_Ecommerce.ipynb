{
 "cells": [
  {
   "cell_type": "code",
   "execution_count": 1,
   "metadata": {},
   "outputs": [
    {
     "name": "stdout",
     "output_type": "stream",
     "text": [
      "2020-11-06 13:40:12.115871\n",
      "/mnt/clients/juba/hqjubaapp02/sharefolder/GoodYear/jian/Audience_selections\n"
     ]
    }
   ],
   "source": [
    "from google.cloud import bigquery\n",
    "import gc\n",
    "import pandas as pd\n",
    "import numpy as np\n",
    "import datetime\n",
    "import os\n",
    "import json\n",
    "import glob\n",
    "from haversine import haversine\n",
    "os.environ[\"GOOGLE_APPLICATION_CREDENTIALS\"] = \"/mnt/clients/juba/hqjubaapp02/sharefolder/GoodYear/docs/merkle-gdyr-prod-9783607c77a1.json\"\n",
    "\n",
    "zip_centers=json.load(open(\"/mnt/clients/juba/hqjubaapp02/sharefolder/Docs/Geo_mapping/updated_zip_centers_JL_2019-05-23.json\"))\n",
    "client = bigquery.Client()\n",
    "\n",
    "print(datetime.datetime.now())\n",
    "print(os.getcwd())"
   ]
  },
  {
   "cell_type": "code",
   "execution_count": 2,
   "metadata": {},
   "outputs": [],
   "source": [
    "dict_date_range={\"R1H\":['2019-10-01','2020-09-30'],\n",
    "                 \"R2M\":['2017-04-01','2019-09-30'],\n",
    "                 \"R3L\":[None,'2017-03-01']}"
   ]
  },
  {
   "cell_type": "code",
   "execution_count": 3,
   "metadata": {},
   "outputs": [
    {
     "name": "stderr",
     "output_type": "stream",
     "text": [
      "/home/jliang/.local/lib/python3.7/site-packages/google/cloud/bigquery/client.py:441: UserWarning: Cannot create BigQuery Storage client, the dependency google-cloud-bigquery-storage is not installed.\n",
      "  \"Cannot create BigQuery Storage client, the dependency \"\n"
     ]
    },
    {
     "name": "stdout",
     "output_type": "stream",
     "text": [
      "(308097, 2)\n",
      "(308097, 2)\n"
     ]
    }
   ],
   "source": [
    "query_ecom=\"\"\"\n",
    "            select indiv_key, max(invoice_date) as last_trans_date from mdb.trn_detail\n",
    "            where store_id='ECOM' and indiv_key is not null\n",
    "            group by indiv_key\n",
    "            \"\"\"\n",
    "\n",
    "df_ids_ECOM_all=client.query(query_ecom).result().to_dataframe()\n",
    "print(df_ids_ECOM_all.shape)\n",
    "df_ids_ECOM_all=df_ids_ECOM_all.sort_values(['indiv_key','last_trans_date'],ascending=[True,False]).drop_duplicates('indiv_key')\n",
    "print(df_ids_ECOM_all.shape)"
   ]
  },
  {
   "cell_type": "code",
   "execution_count": 4,
   "metadata": {},
   "outputs": [
    {
     "name": "stdout",
     "output_type": "stream",
     "text": [
      "\n",
      "select t1.indiv_key, t1.best_email_txt, t1.best_phone_num, t2.postal_cd, t2.state_province_cd, t2.country_cd from mdb.indiv_summary as t1\n",
      "join mdb.addr as t2 on\n",
      "t1.cr_addr_key=t2.cr_addr_key\n",
      "\n",
      "(7538892, 6) 7538892\n"
     ]
    }
   ],
   "source": [
    "query_crm=\"\"\"\n",
    "select t1.indiv_key, t1.best_email_txt, t1.best_phone_num, t2.postal_cd, t2.state_province_cd, t2.country_cd from mdb.indiv_summary as t1\n",
    "join mdb.addr as t2 on\n",
    "t1.cr_addr_key=t2.cr_addr_key\n",
    "\"\"\"\n",
    "\n",
    "print(query_crm)\n",
    "\n",
    "df_all_ids=client.query(query_crm).result().to_dataframe()\n",
    "print(df_all_ids.shape,df_all_ids['indiv_key'].nunique())"
   ]
  },
  {
   "cell_type": "code",
   "execution_count": 5,
   "metadata": {},
   "outputs": [
    {
     "data": {
      "text/html": [
       "<div>\n",
       "<style scoped>\n",
       "    .dataframe tbody tr th:only-of-type {\n",
       "        vertical-align: middle;\n",
       "    }\n",
       "\n",
       "    .dataframe tbody tr th {\n",
       "        vertical-align: top;\n",
       "    }\n",
       "\n",
       "    .dataframe thead th {\n",
       "        text-align: right;\n",
       "    }\n",
       "</style>\n",
       "<table border=\"1\" class=\"dataframe\">\n",
       "  <thead>\n",
       "    <tr style=\"text-align: right;\">\n",
       "      <th></th>\n",
       "      <th>indiv_key</th>\n",
       "      <th>best_email_txt</th>\n",
       "      <th>best_phone_num</th>\n",
       "      <th>postal_cd</th>\n",
       "      <th>state_province_cd</th>\n",
       "      <th>country_cd</th>\n",
       "    </tr>\n",
       "  </thead>\n",
       "  <tbody>\n",
       "    <tr>\n",
       "      <th>0</th>\n",
       "      <td>1222782744000131</td>\n",
       "      <td>lelsinger_53065@yahoo.com</td>\n",
       "      <td>None</td>\n",
       "      <td>54935</td>\n",
       "      <td>WI</td>\n",
       "      <td>US</td>\n",
       "    </tr>\n",
       "    <tr>\n",
       "      <th>1</th>\n",
       "      <td>1222781549002871</td>\n",
       "      <td>michenerheather@yahoo.com</td>\n",
       "      <td>17145536855</td>\n",
       "      <td>92648</td>\n",
       "      <td>CA</td>\n",
       "      <td>US</td>\n",
       "    </tr>\n",
       "  </tbody>\n",
       "</table>\n",
       "</div>"
      ],
      "text/plain": [
       "          indiv_key             best_email_txt best_phone_num postal_cd  \\\n",
       "0  1222782744000131  lelsinger_53065@yahoo.com           None     54935   \n",
       "1  1222781549002871  michenerheather@yahoo.com    17145536855     92648   \n",
       "\n",
       "  state_province_cd country_cd  \n",
       "0                WI         US  \n",
       "1                CA         US  "
      ]
     },
     "execution_count": 5,
     "metadata": {},
     "output_type": "execute_result"
    }
   ],
   "source": [
    "df_all_ids['best_email_txt']=df_all_ids['best_email_txt'].apply(lambda x: x.lower().strip() if pd.notnull(x) else x)\n",
    "df_all_ids['best_phone_num']=df_all_ids['best_phone_num'].apply(lambda x: \"1\"+str(int(x)).lower().strip() if pd.notnull(x) else x)\n",
    "df_all_ids.head(2)"
   ]
  },
  {
   "cell_type": "code",
   "execution_count": 6,
   "metadata": {},
   "outputs": [
    {
     "data": {
      "text/plain": [
       "array([nan, 11.])"
      ]
     },
     "execution_count": 6,
     "metadata": {},
     "output_type": "execute_result"
    }
   ],
   "source": [
    "df_all_ids['best_phone_num'].apply(lambda x: len(x) if pd.notnull(x) else x).unique()"
   ]
  },
  {
   "cell_type": "code",
   "execution_count": 7,
   "metadata": {},
   "outputs": [
    {
     "name": "stdout",
     "output_type": "stream",
     "text": [
      "(242545, 6)\n"
     ]
    }
   ],
   "source": [
    "df_HI_AK_ids=df_all_ids[df_all_ids['state_province_cd'].isin([\"HI\",\"AK\"])]\n",
    "list_HI_AK_ids=df_HI_AK_ids[pd.notnull(df_HI_AK_ids['indiv_key'])]['indiv_key'].unique().tolist()\n",
    "list_HI_AK_emails=df_HI_AK_ids[pd.notnull(df_HI_AK_ids['best_email_txt'])]['best_email_txt'].unique().tolist()\n",
    "list_HI_AK_phones=df_HI_AK_ids[pd.notnull(df_HI_AK_ids['best_phone_num'])]['best_phone_num'].unique().tolist()\n",
    "\n",
    "print(df_HI_AK_ids.shape)"
   ]
  },
  {
   "cell_type": "code",
   "execution_count": 8,
   "metadata": {},
   "outputs": [
    {
     "data": {
      "text/html": [
       "<div>\n",
       "<style scoped>\n",
       "    .dataframe tbody tr th:only-of-type {\n",
       "        vertical-align: middle;\n",
       "    }\n",
       "\n",
       "    .dataframe tbody tr th {\n",
       "        vertical-align: top;\n",
       "    }\n",
       "\n",
       "    .dataframe thead th {\n",
       "        text-align: right;\n",
       "    }\n",
       "</style>\n",
       "<table border=\"1\" class=\"dataframe\">\n",
       "  <thead>\n",
       "    <tr style=\"text-align: right;\">\n",
       "      <th></th>\n",
       "      <th>indiv_key</th>\n",
       "      <th>best_email_txt</th>\n",
       "      <th>best_phone_num</th>\n",
       "      <th>postal_cd</th>\n",
       "      <th>state_province_cd</th>\n",
       "      <th>country_cd</th>\n",
       "    </tr>\n",
       "  </thead>\n",
       "  <tbody>\n",
       "    <tr>\n",
       "      <th>18</th>\n",
       "      <td>1222785907000692</td>\n",
       "      <td>cmzj122614@gmail.com</td>\n",
       "      <td>None</td>\n",
       "      <td>96813</td>\n",
       "      <td>HI</td>\n",
       "      <td>US</td>\n",
       "    </tr>\n",
       "    <tr>\n",
       "      <th>85</th>\n",
       "      <td>1222782721003319</td>\n",
       "      <td>tubbzzz@hotmail.com</td>\n",
       "      <td>18088965530</td>\n",
       "      <td>96720</td>\n",
       "      <td>HI</td>\n",
       "      <td>US</td>\n",
       "    </tr>\n",
       "  </tbody>\n",
       "</table>\n",
       "</div>"
      ],
      "text/plain": [
       "           indiv_key        best_email_txt best_phone_num postal_cd  \\\n",
       "18  1222785907000692  cmzj122614@gmail.com           None     96813   \n",
       "85  1222782721003319   tubbzzz@hotmail.com    18088965530     96720   \n",
       "\n",
       "   state_province_cd country_cd  \n",
       "18                HI         US  \n",
       "85                HI         US  "
      ]
     },
     "execution_count": 8,
     "metadata": {},
     "output_type": "execute_result"
    }
   ],
   "source": [
    "df_HI_AK_ids.head(2)"
   ]
  },
  {
   "cell_type": "code",
   "execution_count": 9,
   "metadata": {},
   "outputs": [],
   "source": [
    "final_uploaded_folder=\"/mnt/clients/juba/hqjubaapp02/sharefolder/GoodYear/jian/Audience_selections/output_cleaned_audience_2020-11-06/\"\n",
    "list_uploaded_main_aud_files=glob.glob(final_uploaded_folder+\"*.csv\")\n",
    "\n",
    "list_already_defined_ids=[]\n",
    "list_already_defined_emails=[]\n",
    "list_already_defined_phones=[]\n",
    "i=0\n",
    "\n",
    "for file in list_uploaded_main_aud_files:\n",
    "    df=pd.read_csv(file,dtype=str)\n",
    "    list_id_file=df[pd.notnull(df['indiv_key'])]['indiv_key'].unique().tolist()\n",
    "    list_email_file=df[pd.notnull(df['best_email_txt'])]['best_email_txt'].unique().tolist()\n",
    "    list_phone_file=df[pd.notnull(df['best_phone_num'])]['best_phone_num'].unique().tolist()\n",
    "    \n",
    "    list_already_defined_ids=list_already_defined_ids+list_id_file\n",
    "    list_already_defined_emails=list_already_defined_emails+list_email_file\n",
    "    list_already_defined_phones=list_already_defined_phones+list_phone_file\n",
    "    \n",
    "    i+=1\n",
    "    if i%10==1:\n",
    "        list_already_defined_ids=list(set(list_already_defined_ids))\n",
    "        list_already_defined_emails=list(set(list_already_defined_emails))\n",
    "        list_already_defined_phones=list(set(list_already_defined_phones))\n",
    "\n"
   ]
  },
  {
   "cell_type": "code",
   "execution_count": 10,
   "metadata": {},
   "outputs": [
    {
     "name": "stdout",
     "output_type": "stream",
     "text": [
      "816190\n",
      "328351\n",
      "785626\n"
     ]
    }
   ],
   "source": [
    "list_already_defined_ids=list(set(list_already_defined_ids))\n",
    "list_already_defined_emails=list(set(list_already_defined_emails))\n",
    "list_already_defined_phones=list(set(list_already_defined_phones))\n",
    "\n",
    "print(len(list_already_defined_ids))\n",
    "print(len(list_already_defined_emails))\n",
    "print(len(list_already_defined_phones))"
   ]
  },
  {
   "cell_type": "code",
   "execution_count": 11,
   "metadata": {},
   "outputs": [
    {
     "name": "stdout",
     "output_type": "stream",
     "text": [
      "(308097, 7)\n",
      "(252126, 7)\n",
      "(249091, 7)\n"
     ]
    }
   ],
   "source": [
    "df_ids_ECOM_all=pd.merge(df_ids_ECOM_all,df_all_ids,on=\"indiv_key\",how=\"left\")\n",
    "print(df_ids_ECOM_all.shape)\n",
    "df_ids_ECOM_all=df_ids_ECOM_all[~df_ids_ECOM_all['indiv_key'].isin(list_already_defined_ids)]\n",
    "df_ids_ECOM_all=df_ids_ECOM_all[~df_ids_ECOM_all['best_email_txt'].isin(list_already_defined_emails)]\n",
    "df_ids_ECOM_all=df_ids_ECOM_all[~df_ids_ECOM_all['best_phone_num'].isin(list_already_defined_phones)]\n",
    "print(df_ids_ECOM_all.shape)\n",
    "df_ids_ECOM_all=df_ids_ECOM_all[~df_ids_ECOM_all['indiv_key'].isin(list_HI_AK_ids)]\n",
    "df_ids_ECOM_all=df_ids_ECOM_all[~df_ids_ECOM_all['best_email_txt'].isin(list_HI_AK_emails)]\n",
    "df_ids_ECOM_all=df_ids_ECOM_all[~df_ids_ECOM_all['best_phone_num'].isin(list_HI_AK_phones)]\n",
    "print(df_ids_ECOM_all.shape)\n"
   ]
  },
  {
   "cell_type": "code",
   "execution_count": 12,
   "metadata": {},
   "outputs": [
    {
     "data": {
      "text/html": [
       "<div>\n",
       "<style scoped>\n",
       "    .dataframe tbody tr th:only-of-type {\n",
       "        vertical-align: middle;\n",
       "    }\n",
       "\n",
       "    .dataframe tbody tr th {\n",
       "        vertical-align: top;\n",
       "    }\n",
       "\n",
       "    .dataframe thead tr th {\n",
       "        text-align: left;\n",
       "    }\n",
       "</style>\n",
       "<table border=\"1\" class=\"dataframe\">\n",
       "  <thead>\n",
       "    <tr>\n",
       "      <th></th>\n",
       "      <th>recency_group</th>\n",
       "      <th colspan=\"3\" halign=\"left\">last_trans_date</th>\n",
       "    </tr>\n",
       "    <tr>\n",
       "      <th></th>\n",
       "      <th></th>\n",
       "      <th>min</th>\n",
       "      <th>max</th>\n",
       "      <th>count</th>\n",
       "    </tr>\n",
       "  </thead>\n",
       "  <tbody>\n",
       "    <tr>\n",
       "      <th>0</th>\n",
       "      <td>R1H</td>\n",
       "      <td>2019-10-01</td>\n",
       "      <td>2020-09-30</td>\n",
       "      <td>83911</td>\n",
       "    </tr>\n",
       "    <tr>\n",
       "      <th>1</th>\n",
       "      <td>R2M</td>\n",
       "      <td>2017-04-01</td>\n",
       "      <td>2019-09-30</td>\n",
       "      <td>128116</td>\n",
       "    </tr>\n",
       "    <tr>\n",
       "      <th>2</th>\n",
       "      <td>R3L</td>\n",
       "      <td>2015-04-15</td>\n",
       "      <td>2017-03-31</td>\n",
       "      <td>25304</td>\n",
       "    </tr>\n",
       "  </tbody>\n",
       "</table>\n",
       "</div>"
      ],
      "text/plain": [
       "  recency_group last_trans_date                    \n",
       "                            min         max   count\n",
       "0           R1H      2019-10-01  2020-09-30   83911\n",
       "1           R2M      2017-04-01  2019-09-30  128116\n",
       "2           R3L      2015-04-15  2017-03-31   25304"
      ]
     },
     "execution_count": 12,
     "metadata": {},
     "output_type": "execute_result"
    }
   ],
   "source": [
    "dict_date_range={\"R1H\":['2019-10-01','2020-09-30'],\n",
    "                 \"R2M\":['2017-04-01','2019-09-30'],\n",
    "                 \"R3L\":[None,'2017-03-31']}\n",
    "\n",
    "df_ids_ECOM_all=df_ids_ECOM_all.sort_values(['indiv_key','last_trans_date'],ascending=[True,False]).drop_duplicates('indiv_key')\n",
    "df_ids_ECOM_all['last_trans_date']=df_ids_ECOM_all['last_trans_date'].astype(str).str[:10]\n",
    "df_ids_ECOM_all=df_ids_ECOM_all[df_ids_ECOM_all['last_trans_date']<=dict_date_range['R1H'][1]]\n",
    "\n",
    "df_ids_ECOM_all['recency_group']=np.where(df_ids_ECOM_all['last_trans_date']<=dict_date_range['R3L'][1],\"R3L\",\n",
    "                                         np.where(df_ids_ECOM_all['last_trans_date']<=dict_date_range['R2M'][1],\"R2M\",\"R1H\")\n",
    "                                         )\n",
    "\n",
    "agg_func={\"last_trans_date\":[\"min\",\"max\",\"count\"]}\n",
    "df_qc=df_ids_ECOM_all.groupby(\"recency_group\").agg(agg_func).reset_index()\n",
    "df_qc"
   ]
  },
  {
   "cell_type": "code",
   "execution_count": 13,
   "metadata": {},
   "outputs": [
    {
     "data": {
      "text/html": [
       "<div>\n",
       "<style scoped>\n",
       "    .dataframe tbody tr th:only-of-type {\n",
       "        vertical-align: middle;\n",
       "    }\n",
       "\n",
       "    .dataframe tbody tr th {\n",
       "        vertical-align: top;\n",
       "    }\n",
       "\n",
       "    .dataframe thead th {\n",
       "        text-align: right;\n",
       "    }\n",
       "</style>\n",
       "<table border=\"1\" class=\"dataframe\">\n",
       "  <thead>\n",
       "    <tr style=\"text-align: right;\">\n",
       "      <th></th>\n",
       "      <th>indiv_key</th>\n",
       "      <th>last_trans_date</th>\n",
       "      <th>best_email_txt</th>\n",
       "      <th>best_phone_num</th>\n",
       "      <th>postal_cd</th>\n",
       "      <th>state_province_cd</th>\n",
       "      <th>country_cd</th>\n",
       "      <th>recency_group</th>\n",
       "      <th>segment_name</th>\n",
       "    </tr>\n",
       "  </thead>\n",
       "  <tbody>\n",
       "    <tr>\n",
       "      <th>0</th>\n",
       "      <td>1222780000000004</td>\n",
       "      <td>2018-05-14</td>\n",
       "      <td>chrismaynard104@gmail.com</td>\n",
       "      <td>19049454124</td>\n",
       "      <td>32221</td>\n",
       "      <td>FL</td>\n",
       "      <td>US</td>\n",
       "      <td>R2M</td>\n",
       "      <td>segment_TorC_TireAndService_Balance_Ecommerce_...</td>\n",
       "    </tr>\n",
       "    <tr>\n",
       "      <th>1</th>\n",
       "      <td>1222780000000012</td>\n",
       "      <td>2016-08-01</td>\n",
       "      <td>mredwardarroyo@gmail.com</td>\n",
       "      <td>17145526630</td>\n",
       "      <td>92707</td>\n",
       "      <td>CA</td>\n",
       "      <td>US</td>\n",
       "      <td>R3L</td>\n",
       "      <td>segment_TorC_TireAndService_Balance_Ecommerce_...</td>\n",
       "    </tr>\n",
       "    <tr>\n",
       "      <th>3</th>\n",
       "      <td>1222780000000036</td>\n",
       "      <td>2015-11-06</td>\n",
       "      <td>a1965m@aol.com</td>\n",
       "      <td>19738843336</td>\n",
       "      <td>07054</td>\n",
       "      <td>NJ</td>\n",
       "      <td>US</td>\n",
       "      <td>R3L</td>\n",
       "      <td>segment_TorC_TireAndService_Balance_Ecommerce_...</td>\n",
       "    </tr>\n",
       "  </tbody>\n",
       "</table>\n",
       "</div>"
      ],
      "text/plain": [
       "          indiv_key last_trans_date             best_email_txt best_phone_num  \\\n",
       "0  1222780000000004      2018-05-14  chrismaynard104@gmail.com    19049454124   \n",
       "1  1222780000000012      2016-08-01   mredwardarroyo@gmail.com    17145526630   \n",
       "3  1222780000000036      2015-11-06             a1965m@aol.com    19738843336   \n",
       "\n",
       "  postal_cd state_province_cd country_cd recency_group  \\\n",
       "0     32221                FL         US           R2M   \n",
       "1     92707                CA         US           R3L   \n",
       "3     07054                NJ         US           R3L   \n",
       "\n",
       "                                        segment_name  \n",
       "0  segment_TorC_TireAndService_Balance_Ecommerce_...  \n",
       "1  segment_TorC_TireAndService_Balance_Ecommerce_...  \n",
       "3  segment_TorC_TireAndService_Balance_Ecommerce_...  "
      ]
     },
     "execution_count": 13,
     "metadata": {},
     "output_type": "execute_result"
    }
   ],
   "source": [
    "df_ids_ECOM_all['segment_name']=df_ids_ECOM_all['recency_group'].apply(lambda x: \"segment_TorC_TireAndService_Balance_Ecommerce_All_\"+x)\n",
    "df_ids_ECOM_all.head(3)"
   ]
  },
  {
   "cell_type": "code",
   "execution_count": 14,
   "metadata": {},
   "outputs": [
    {
     "name": "stdout",
     "output_type": "stream",
     "text": [
      "segment_TorC_TireAndService_Balance_Ecommerce_All_R1H 83911\n",
      "segment_Control_TireAndService_Balance_Ecommerce_All_R1H (16783, 10) 16783 16378 16330\n",
      "segment_Test_TireAndService_Balance_Ecommerce_All_R1H (67128, 10) 67128 64954 64989\n",
      "\n",
      "\n"
     ]
    },
    {
     "name": "stderr",
     "output_type": "stream",
     "text": [
      "/opt/anaconda3/lib/python3.7/site-packages/ipykernel_launcher.py:21: SettingWithCopyWarning: \n",
      "A value is trying to be set on a copy of a slice from a DataFrame.\n",
      "Try using .loc[row_indexer,col_indexer] = value instead\n",
      "\n",
      "See the caveats in the documentation: https://pandas.pydata.org/pandas-docs/stable/user_guide/indexing.html#returning-a-view-versus-a-copy\n",
      "/opt/anaconda3/lib/python3.7/site-packages/ipykernel_launcher.py:22: SettingWithCopyWarning: \n",
      "A value is trying to be set on a copy of a slice from a DataFrame.\n",
      "Try using .loc[row_indexer,col_indexer] = value instead\n",
      "\n",
      "See the caveats in the documentation: https://pandas.pydata.org/pandas-docs/stable/user_guide/indexing.html#returning-a-view-versus-a-copy\n"
     ]
    },
    {
     "name": "stdout",
     "output_type": "stream",
     "text": [
      "segment_TorC_TireAndService_Balance_Ecommerce_All_R2M 128116\n",
      "segment_Control_TireAndService_Balance_Ecommerce_All_R2M (25624, 10) 25624 24344 25058\n",
      "segment_Test_TireAndService_Balance_Ecommerce_All_R2M (102492, 10) 102492 96463 99601\n",
      "\n",
      "\n",
      "segment_TorC_TireAndService_Balance_Ecommerce_All_R3L 25304\n",
      "segment_Control_TireAndService_Balance_Ecommerce_All_R3L (5061, 10) 5061 4659 5051\n",
      "segment_Test_TireAndService_Balance_Ecommerce_All_R3L (20243, 10) 20243 18538 20145\n",
      "\n",
      "\n"
     ]
    }
   ],
   "source": [
    "import random\n",
    "random.seed(0)\n",
    "control_pctg=0.2\n",
    "df_summary_C=pd.DataFrame()\n",
    "df_summary_T=pd.DataFrame()\n",
    "\n",
    "for segment_name, df_group in df_ids_ECOM_all.groupby(\"segment_name\"):\n",
    "    df_len=df_group.shape[0]\n",
    "    print(segment_name,df_len)\n",
    "    list_C_index=random.sample(range(df_len),int(np.ceil(df_len*control_pctg)))\n",
    "    df_group=df_group.reset_index()\n",
    "    del df_group['index']\n",
    "    df_group=df_group.reset_index()\n",
    "    \n",
    "    df_group_C=df_group[df_group['index'].isin(list_C_index)]\n",
    "    df_group_T=df_group[~df_group['index'].isin(list_C_index)]\n",
    "    \n",
    "    segment_name_C=segment_name.replace(\"_TorC_\",\"_Control_\")\n",
    "    segment_name_T=segment_name.replace(\"_TorC_\",\"_Test_\")\n",
    "    \n",
    "    df_group_C['segment_name']=segment_name_C\n",
    "    df_group_T['segment_name']=segment_name_T\n",
    "    \n",
    "    print(segment_name_C,df_group_C.shape,df_group_C['indiv_key'].nunique(),df_group_C['best_email_txt'].nunique(),df_group_C['best_phone_num'].nunique())\n",
    "    print(segment_name_T,df_group_T.shape,df_group_T['indiv_key'].nunique(),df_group_T['best_email_txt'].nunique(),df_group_T['best_phone_num'].nunique())\n",
    "    print(\"\\n\")\n",
    "    \n",
    "    df_1_row_C=pd.DataFrame({\"segment\":segment_name_C,\n",
    "                             \"n_unique_key\":df_group_C['indiv_key'].nunique(),\n",
    "                             \"n_unique_email\":df_group_C['best_email_txt'].nunique(),\n",
    "                             \"n_unique_phone\":df_group_C['best_phone_num'].nunique()\n",
    "                            },index=[0])\n",
    "    df_1_row_T=pd.DataFrame({\"segment\":segment_name_T,\n",
    "                         \"n_unique_key\":df_group_T['indiv_key'].nunique(),\n",
    "                         \"n_unique_email\":df_group_T['best_email_txt'].nunique(),\n",
    "                         \"n_unique_phone\":df_group_T['best_phone_num'].nunique()\n",
    "                        },index=[0])\n",
    "    \n",
    "    df_summary_C=df_summary_C.append(df_1_row_C)\n",
    "    df_summary_T=df_summary_T.append(df_1_row_T)\n",
    "    \n",
    "    df_group_C.to_csv(final_uploaded_folder+segment_name_C+\".csv\",index=False)\n",
    "    df_group_T.to_csv(final_uploaded_folder+segment_name_T+\".csv\",index=False)\n",
    "    \n",
    "    "
   ]
  },
  {
   "cell_type": "code",
   "execution_count": 15,
   "metadata": {},
   "outputs": [
    {
     "name": "stderr",
     "output_type": "stream",
     "text": [
      "/home/jliang/.local/lib/python3.7/site-packages/google/cloud/bigquery/client.py:441: UserWarning: Cannot create BigQuery Storage client, the dependency google-cloud-bigquery-storage is not installed.\n",
      "  \"Cannot create BigQuery Storage client, the dependency \"\n"
     ]
    },
    {
     "data": {
      "text/html": [
       "<div>\n",
       "<style scoped>\n",
       "    .dataframe tbody tr th:only-of-type {\n",
       "        vertical-align: middle;\n",
       "    }\n",
       "\n",
       "    .dataframe tbody tr th {\n",
       "        vertical-align: top;\n",
       "    }\n",
       "\n",
       "    .dataframe thead th {\n",
       "        text-align: right;\n",
       "    }\n",
       "</style>\n",
       "<table border=\"1\" class=\"dataframe\">\n",
       "  <thead>\n",
       "    <tr style=\"text-align: right;\">\n",
       "      <th></th>\n",
       "      <th>f0_</th>\n",
       "    </tr>\n",
       "  </thead>\n",
       "  <tbody>\n",
       "    <tr>\n",
       "      <th>0</th>\n",
       "      <td>7414313</td>\n",
       "    </tr>\n",
       "  </tbody>\n",
       "</table>\n",
       "</div>"
      ],
      "text/plain": [
       "       f0_\n",
       "0  7414313"
      ]
     },
     "execution_count": 15,
     "metadata": {},
     "output_type": "execute_result"
    }
   ],
   "source": [
    "query_ecom=\"\"\"\n",
    "            select count(distinct indiv_key) from mdb.trn_detail\n",
    "            \"\"\"\n",
    "\n",
    "df=client.query(query_ecom).result().to_dataframe()\n",
    "df"
   ]
  },
  {
   "cell_type": "code",
   "execution_count": 16,
   "metadata": {},
   "outputs": [],
   "source": [
    "df_summary_T.to_csv(\"./df_summary_Test_TireAndService_Balance_Ecommerce_All.csv\",index=False)\n",
    "df_summary_C.to_csv(\"./df_summary_Control_TireAndService_Balance_Ecommerce_All.csv\",index=False)"
   ]
  },
  {
   "cell_type": "code",
   "execution_count": null,
   "metadata": {},
   "outputs": [],
   "source": []
  }
 ],
 "metadata": {
  "kernelspec": {
   "display_name": "Python 3",
   "language": "python",
   "name": "python3"
  },
  "language_info": {
   "codemirror_mode": {
    "name": "ipython",
    "version": 3
   },
   "file_extension": ".py",
   "mimetype": "text/x-python",
   "name": "python",
   "nbconvert_exporter": "python",
   "pygments_lexer": "ipython3",
   "version": "3.7.6"
  }
 },
 "nbformat": 4,
 "nbformat_minor": 4
}
