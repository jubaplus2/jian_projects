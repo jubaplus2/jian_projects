{
 "cells": [
  {
   "cell_type": "code",
   "execution_count": 1,
   "metadata": {
    "collapsed": true
   },
   "outputs": [],
   "source": [
    "# Signs in Q1 and No purchase in Q1\n",
    "\n",
    "import pandas as pd\n",
    "import datetime\n",
    "import numpy as np\n",
    "import os\n"
   ]
  },
  {
   "cell_type": "code",
   "execution_count": 2,
   "metadata": {
    "collapsed": true
   },
   "outputs": [],
   "source": [
    "def recrusive_file_gen(root_path):\n",
    "    for root, dirs, files in os.walk(root_path):\n",
    "        for file in files:\n",
    "            yield os.path.join(root,file)"
   ]
  },
  {
   "cell_type": "code",
   "execution_count": 3,
   "metadata": {},
   "outputs": [
    {
     "data": {
      "text/plain": [
       "(13, 2)"
      ]
     },
     "execution_count": 3,
     "metadata": {},
     "output_type": "execute_result"
    }
   ],
   "source": [
    "New_Sign_Ups_file_list=list(recrusive_file_gen(\"/home/jian/BigLots/2019_by_weeks/\"))\n",
    "New_Sign_Ups_file_list=[x for x in New_Sign_Ups_file_list if \"Master\" in x]\n",
    "df_new_sign_ups_Q1=pd.DataFrame({\"file_path\":New_Sign_Ups_file_list})\n",
    "df_new_sign_ups_Q1['week_end_dt']=df_new_sign_ups_Q1['file_path'].apply(lambda x: x.split(\"y_weeks/MediaStorm_\")[1][:10])\n",
    "df_new_sign_ups_Q1=df_new_sign_ups_Q1[df_new_sign_ups_Q1['week_end_dt']>=\"2019-02-09\"]\n",
    "df_new_sign_ups_Q1=df_new_sign_ups_Q1[df_new_sign_ups_Q1['week_end_dt']<=\"2019-05-04\"]\n",
    "df_new_sign_ups_Q1.shape"
   ]
  },
  {
   "cell_type": "code",
   "execution_count": 4,
   "metadata": {},
   "outputs": [
    {
     "name": "stdout",
     "output_type": "stream",
     "text": [
      "(1070123, 5)\n"
     ]
    }
   ],
   "source": [
    "df_all_Q1_sign_ups=pd.DataFrame()\n",
    "for file in df_new_sign_ups_Q1['file_path'].unique().tolist():\n",
    "    df=pd.read_table(file,dtype=str,sep=\"|\",usecols=[\"customer_id_hashed\",\"email_address_hash\",\"sign_up_date\",'transaction_count','transaction_amount'])\n",
    "    df_all_Q1_sign_ups=df_all_Q1_sign_ups.append(df)\n",
    "print(df_all_Q1_sign_ups.shape)  \n",
    "df_new_sign_up_ids=df_all_Q1_sign_ups[[\"customer_id_hashed\",\"email_address_hash\",\"sign_up_date\"]]\n",
    "id_list_Q1_new_sign_ups=df_all_Q1_sign_ups['customer_id_hashed'].unique().tolist() \n"
   ]
  },
  {
   "cell_type": "code",
   "execution_count": 5,
   "metadata": {},
   "outputs": [
    {
     "data": {
      "text/plain": [
       "(13, 2)"
      ]
     },
     "execution_count": 5,
     "metadata": {},
     "output_type": "execute_result"
    }
   ],
   "source": [
    "daily_transactions_file_list=list(recrusive_file_gen(\"/home/jian/BigLots/2019_by_weeks/\"))\n",
    "daily_transactions_file_list=[x for x in daily_transactions_file_list if \"aily\" in x]\n",
    "df_daily_sales_Q1=pd.DataFrame({\"file_path\":daily_transactions_file_list})\n",
    "\n",
    "df_daily_sales_Q1['week_end_dt']=df_daily_sales_Q1['file_path'].apply(lambda x: x.split(\"y_weeks/MediaStorm_\")[1][:10])\n",
    "df_daily_sales_Q1=df_daily_sales_Q1[df_daily_sales_Q1['week_end_dt']>=\"2019-02-09\"]\n",
    "df_daily_sales_Q1=df_daily_sales_Q1[df_daily_sales_Q1['week_end_dt']<=\"2019-05-04\"]\n",
    "df_daily_sales_Q1.shape\n"
   ]
  },
  {
   "cell_type": "code",
   "execution_count": 6,
   "metadata": {},
   "outputs": [
    {
     "name": "stdout",
     "output_type": "stream",
     "text": [
      "(996857, 3)\n",
      "(919268, 3)\n",
      "(839611, 3)\n",
      "(749774, 3)\n",
      "(664555, 3)\n",
      "(583907, 3)\n",
      "(501420, 3)\n",
      "(425066, 3)\n",
      "(303639, 3)\n",
      "(229568, 3)\n",
      "(165250, 3)\n",
      "(98505, 3)\n",
      "(15122, 3)\n"
     ]
    }
   ],
   "source": [
    "for file in df_daily_sales_Q1['file_path'].unique().tolist():\n",
    "    try:\n",
    "        df=pd.read_table(file,dtype=str,sep=\"|\",usecols=[\"location_id\",\"customer_id_hashed\",\"item_transaction_amt\"])\n",
    "    except:\n",
    "        df=pd.read_table(file,dtype=str,sep=\"|\",usecols=[\"location_id\",\"customer_id_hashed\",\"subclass_transaction_amt\"]).rename(columns={\"subclass_transaction_amt\":\"item_transaction_amt\"})\n",
    "    df[\"item_transaction_amt\"]=df[\"item_transaction_amt\"].astype(float)\n",
    "    df=df[df['item_transaction_amt']>0]\n",
    "    del df['item_transaction_amt']\n",
    "    df=df[~pd.isnull(df['customer_id_hashed'])].drop_duplicates(\"customer_id_hashed\")\n",
    "    df_new_sign_up_ids=pd.merge(df_new_sign_up_ids,df,on=\"customer_id_hashed\",how=\"left\")\n",
    "    df_new_sign_up_ids=df_new_sign_up_ids[pd.isnull(df_new_sign_up_ids['location_id'])]\n",
    "    del df_new_sign_up_ids['location_id']\n",
    "    print(df_new_sign_up_ids.shape)"
   ]
  },
  {
   "cell_type": "code",
   "execution_count": 7,
   "metadata": {},
   "outputs": [
    {
     "name": "stdout",
     "output_type": "stream",
     "text": [
      "(15122, 3)\n",
      "15122\n",
      "15122\n"
     ]
    }
   ],
   "source": [
    "print(df_new_sign_up_ids.shape)\n",
    "print(len(df_new_sign_up_ids['customer_id_hashed'].unique()))\n",
    "print(len(df_new_sign_up_ids['email_address_hash'].unique()))\n"
   ]
  },
  {
   "cell_type": "code",
   "execution_count": 8,
   "metadata": {
    "collapsed": true
   },
   "outputs": [],
   "source": [
    "output=df_new_sign_up_ids[['customer_id_hashed','email_address_hash']]\n",
    "output['segment']=\"New_Singed_and_No_Purchase_in_Q1\""
   ]
  },
  {
   "cell_type": "code",
   "execution_count": null,
   "metadata": {
    "collapsed": true
   },
   "outputs": [],
   "source": []
  },
  {
   "cell_type": "code",
   "execution_count": 9,
   "metadata": {},
   "outputs": [
    {
     "data": {
      "text/plain": [
       "True"
      ]
     },
     "execution_count": 9,
     "metadata": {},
     "output_type": "execute_result"
    }
   ],
   "source": [
    "Q1_weeks=sorted(df_daily_sales_Q1['week_end_dt'].unique().tolist())\n",
    "Q1_weeks_2=sorted(df_new_sign_ups_Q1['week_end_dt'].unique().tolist())\n",
    "Q1_weeks==Q1_weeks_2"
   ]
  },
  {
   "cell_type": "code",
   "execution_count": null,
   "metadata": {
    "collapsed": true
   },
   "outputs": [],
   "source": []
  },
  {
   "cell_type": "code",
   "execution_count": null,
   "metadata": {
    "collapsed": true
   },
   "outputs": [],
   "source": []
  },
  {
   "cell_type": "code",
   "execution_count": null,
   "metadata": {
    "collapsed": true
   },
   "outputs": [],
   "source": []
  },
  {
   "cell_type": "code",
   "execution_count": null,
   "metadata": {
    "collapsed": true
   },
   "outputs": [],
   "source": []
  },
  {
   "cell_type": "code",
   "execution_count": 17,
   "metadata": {
    "collapsed": true
   },
   "outputs": [],
   "source": [
    "df_new_no_purchase_same_week=pd.DataFrame()\n",
    "for week_end_date in Q1_weeks:\n",
    "    df_sales_file=df_daily_sales_Q1[df_daily_sales_Q1['week_end_dt']==week_end_date]['file_path'].tolist()[0]\n",
    "    df_master_file=df_new_sign_ups_Q1[df_new_sign_ups_Q1['week_end_dt']==week_end_date]['file_path'].tolist()[0]\n",
    "    \n",
    "    df_master=pd.read_csv(df_master_file,usecols=[\"customer_id_hashed\",\"email_address_hash\",\"sign_up_date\",'transaction_count','transaction_amount'],\n",
    "                          dtype=str,sep=\"|\")\n",
    "    df_sales=pd.read_csv(df_sales_file,usecols=[\"customer_id_hashed\",\"location_id\"],dtype=str,sep=\"|\")\n",
    "    df_sales=df_sales.drop_duplicates()\n",
    "    \n",
    "    df_master_no_purchase=pd.merge(df_master,df_sales,on=\"customer_id_hashed\",how=\"left\")\n",
    "    df_master_no_purchase=df_master_no_purchase[pd.isnull(df_master_no_purchase['location_id'])]\n",
    "    \n",
    "    df_new_no_purchase_same_week=df_new_no_purchase_same_week.append(df_master_no_purchase)"
   ]
  },
  {
   "cell_type": "code",
   "execution_count": 30,
   "metadata": {},
   "outputs": [
    {
     "data": {
      "text/html": [
       "<div>\n",
       "<style>\n",
       "    .dataframe thead tr:only-child th {\n",
       "        text-align: right;\n",
       "    }\n",
       "\n",
       "    .dataframe thead th {\n",
       "        text-align: left;\n",
       "    }\n",
       "\n",
       "    .dataframe tbody tr th {\n",
       "        vertical-align: top;\n",
       "    }\n",
       "</style>\n",
       "<table border=\"1\" class=\"dataframe\">\n",
       "  <thead>\n",
       "    <tr style=\"text-align: right;\">\n",
       "      <th></th>\n",
       "      <th>customer_id_hashed</th>\n",
       "      <th>email_address_hash</th>\n",
       "      <th>sign_up_date</th>\n",
       "      <th>transaction_count</th>\n",
       "      <th>transaction_amount</th>\n",
       "      <th>location_id</th>\n",
       "    </tr>\n",
       "  </thead>\n",
       "  <tbody>\n",
       "    <tr>\n",
       "      <th>329</th>\n",
       "      <td>20e36fc48c4a17f829339c958f35310a6df02782b3a6b6...</td>\n",
       "      <td>e9c45b624567a2a6d82a3b3e7365dc85cc672b2a489aae...</td>\n",
       "      <td>2019-02-06</td>\n",
       "      <td>000000000000001.</td>\n",
       "      <td>0000000000000000.00</td>\n",
       "      <td>NaN</td>\n",
       "    </tr>\n",
       "    <tr>\n",
       "      <th>365</th>\n",
       "      <td>7c8a8cbdb610e9fbbb09f417d3c5f55beb60799f95aa74...</td>\n",
       "      <td>9917c9aa2076a71b772eb930a6ccdddacf3f9202d5cba5...</td>\n",
       "      <td>2019-02-05</td>\n",
       "      <td>000000000000001.</td>\n",
       "      <td>0000000000000000.00</td>\n",
       "      <td>NaN</td>\n",
       "    </tr>\n",
       "  </tbody>\n",
       "</table>\n",
       "</div>"
      ],
      "text/plain": [
       "                                    customer_id_hashed  \\\n",
       "329  20e36fc48c4a17f829339c958f35310a6df02782b3a6b6...   \n",
       "365  7c8a8cbdb610e9fbbb09f417d3c5f55beb60799f95aa74...   \n",
       "\n",
       "                                    email_address_hash sign_up_date  \\\n",
       "329  e9c45b624567a2a6d82a3b3e7365dc85cc672b2a489aae...   2019-02-06   \n",
       "365  9917c9aa2076a71b772eb930a6ccdddacf3f9202d5cba5...   2019-02-05   \n",
       "\n",
       "     transaction_count    transaction_amount location_id  \n",
       "329   000000000000001.   0000000000000000.00         NaN  \n",
       "365   000000000000001.   0000000000000000.00         NaN  "
      ]
     },
     "execution_count": 30,
     "metadata": {},
     "output_type": "execute_result"
    }
   ],
   "source": [
    "df_new_no_purchase_same_week.head(2)"
   ]
  },
  {
   "cell_type": "code",
   "execution_count": 19,
   "metadata": {},
   "outputs": [
    {
     "name": "stdout",
     "output_type": "stream",
     "text": [
      "19472\n"
     ]
    }
   ],
   "source": [
    "print(len(df_new_no_purchase_same_week['customer_id_hashed'].unique()))"
   ]
  },
  {
   "cell_type": "code",
   "execution_count": 20,
   "metadata": {},
   "outputs": [
    {
     "data": {
      "text/plain": [
       "(1650, 6)"
      ]
     },
     "execution_count": 20,
     "metadata": {},
     "output_type": "execute_result"
    }
   ],
   "source": [
    "df_master_no_purchase.shape"
   ]
  },
  {
   "cell_type": "code",
   "execution_count": 21,
   "metadata": {
    "collapsed": true
   },
   "outputs": [],
   "source": [
    "test=pd.merge(df_master,df_sales,on=\"customer_id_hashed\",how=\"left\")"
   ]
  },
  {
   "cell_type": "code",
   "execution_count": 22,
   "metadata": {},
   "outputs": [
    {
     "data": {
      "text/plain": [
       "(86181, 6)"
      ]
     },
     "execution_count": 22,
     "metadata": {},
     "output_type": "execute_result"
    }
   ],
   "source": [
    "test.shape"
   ]
  },
  {
   "cell_type": "code",
   "execution_count": 31,
   "metadata": {},
   "outputs": [
    {
     "data": {
      "text/plain": [
       "(1240796, 2)"
      ]
     },
     "execution_count": 31,
     "metadata": {},
     "output_type": "execute_result"
    }
   ],
   "source": [
    "df_sales.shape"
   ]
  },
  {
   "cell_type": "code",
   "execution_count": 25,
   "metadata": {},
   "outputs": [
    {
     "data": {
      "text/plain": [
       "(1240796, 6)"
      ]
     },
     "execution_count": 25,
     "metadata": {},
     "output_type": "execute_result"
    }
   ],
   "source": [
    "test_2=pd.merge(df_sales,df_master,on=\"customer_id_hashed\",how=\"left\")\n",
    "test_2.shape"
   ]
  },
  {
   "cell_type": "code",
   "execution_count": 26,
   "metadata": {},
   "outputs": [
    {
     "data": {
      "text/html": [
       "<div>\n",
       "<style>\n",
       "    .dataframe thead tr:only-child th {\n",
       "        text-align: right;\n",
       "    }\n",
       "\n",
       "    .dataframe thead th {\n",
       "        text-align: left;\n",
       "    }\n",
       "\n",
       "    .dataframe tbody tr th {\n",
       "        vertical-align: top;\n",
       "    }\n",
       "</style>\n",
       "<table border=\"1\" class=\"dataframe\">\n",
       "  <thead>\n",
       "    <tr style=\"text-align: right;\">\n",
       "      <th></th>\n",
       "      <th>location_id</th>\n",
       "      <th>customer_id_hashed</th>\n",
       "      <th>email_address_hash</th>\n",
       "      <th>sign_up_date</th>\n",
       "      <th>transaction_count</th>\n",
       "      <th>transaction_amount</th>\n",
       "    </tr>\n",
       "  </thead>\n",
       "  <tbody>\n",
       "    <tr>\n",
       "      <th>0</th>\n",
       "      <td>1671</td>\n",
       "      <td>c044127f7b4f5ce0e494f0200b97be309851269783476b...</td>\n",
       "      <td>NaN</td>\n",
       "      <td>NaN</td>\n",
       "      <td>NaN</td>\n",
       "      <td>NaN</td>\n",
       "    </tr>\n",
       "    <tr>\n",
       "      <th>1</th>\n",
       "      <td>5281</td>\n",
       "      <td>NaN</td>\n",
       "      <td>NaN</td>\n",
       "      <td>NaN</td>\n",
       "      <td>NaN</td>\n",
       "      <td>NaN</td>\n",
       "    </tr>\n",
       "  </tbody>\n",
       "</table>\n",
       "</div>"
      ],
      "text/plain": [
       "  location_id                                 customer_id_hashed  \\\n",
       "0        1671  c044127f7b4f5ce0e494f0200b97be309851269783476b...   \n",
       "1        5281                                                NaN   \n",
       "\n",
       "  email_address_hash sign_up_date transaction_count transaction_amount  \n",
       "0                NaN          NaN               NaN                NaN  \n",
       "1                NaN          NaN               NaN                NaN  "
      ]
     },
     "execution_count": 26,
     "metadata": {},
     "output_type": "execute_result"
    }
   ],
   "source": [
    "test_2.head(2)"
   ]
  },
  {
   "cell_type": "code",
   "execution_count": 27,
   "metadata": {},
   "outputs": [
    {
     "data": {
      "text/plain": [
       "(84531, 6)"
      ]
     },
     "execution_count": 27,
     "metadata": {},
     "output_type": "execute_result"
    }
   ],
   "source": [
    "test_2[~pd.isnull(test_2['sign_up_date'])].shape"
   ]
  },
  {
   "cell_type": "code",
   "execution_count": 28,
   "metadata": {},
   "outputs": [
    {
     "data": {
      "text/plain": [
       "(84615, 5)"
      ]
     },
     "execution_count": 28,
     "metadata": {},
     "output_type": "execute_result"
    }
   ],
   "source": [
    "df_master.shape"
   ]
  },
  {
   "cell_type": "code",
   "execution_count": null,
   "metadata": {
    "collapsed": true
   },
   "outputs": [],
   "source": []
  },
  {
   "cell_type": "code",
   "execution_count": null,
   "metadata": {
    "collapsed": true
   },
   "outputs": [],
   "source": []
  },
  {
   "cell_type": "code",
   "execution_count": null,
   "metadata": {
    "collapsed": true
   },
   "outputs": [],
   "source": []
  },
  {
   "cell_type": "code",
   "execution_count": 9,
   "metadata": {},
   "outputs": [
    {
     "data": {
      "text/plain": [
       "10"
      ]
     },
     "execution_count": 9,
     "metadata": {},
     "output_type": "execute_result"
    }
   ],
   "source": [
    "Experian_control_files=list(recrusive_file_gen(\"/home/jian/Projects/Big_Lots/Live_Ramp/Quarterly_Update_2019Q2/Experian_Email_Openers_Group/output_2nd_upload/\"))\n",
    "Experian_control_files=[x for x in Experian_control_files if \"_C_\" in x]\n",
    "len(Experian_control_files)"
   ]
  },
  {
   "cell_type": "code",
   "execution_count": 11,
   "metadata": {},
   "outputs": [
    {
     "data": {
      "text/plain": [
       "25"
      ]
     },
     "execution_count": 11,
     "metadata": {},
     "output_type": "execute_result"
    }
   ],
   "source": [
    "Q2_regular_control_files=list(recrusive_file_gen(\"/home/jian/Projects/Big_Lots/Live_Ramp/Quarterly_Update_2019Q2/output_final_20190422/Test_and_Control/uploaded/\"))\n",
    "Q2_regular_control_files=[x for x in Q2_regular_control_files if os.path.basename(x)[:2]==\"C_\"]\n",
    "len(Q2_regular_control_files)\n"
   ]
  },
  {
   "cell_type": "code",
   "execution_count": 13,
   "metadata": {
    "collapsed": true
   },
   "outputs": [],
   "source": [
    "all_control_files=Experian_control_files+Q2_regular_control_files"
   ]
  },
  {
   "cell_type": "code",
   "execution_count": 22,
   "metadata": {
    "collapsed": true
   },
   "outputs": [],
   "source": [
    "all_control_df=pd.DataFrame()\n",
    "\n",
    "for file in all_control_files:\n",
    "    try:\n",
    "        df=pd.read_csv(file,dtype=str,usecols=['customer_id_hashed','email_address_hash','segment'])\n",
    "    except:\n",
    "        df=pd.read_csv(file,dtype=str,usecols=['customer_id_hashed','Email_Address_hash','segment']).rename(columns={\"Email_Address_hash\":\"email_address_hash\"})\n",
    "    all_control_df=all_control_df.append(df)\n",
    "    "
   ]
  },
  {
   "cell_type": "code",
   "execution_count": 35,
   "metadata": {
    "collapsed": true
   },
   "outputs": [],
   "source": [
    "aaa=pd.merge(output,all_control_df,on=['customer_id_hashed','email_address_hash'],how=\"left\")"
   ]
  },
  {
   "cell_type": "code",
   "execution_count": 36,
   "metadata": {},
   "outputs": [
    {
     "data": {
      "text/plain": [
       "13761"
      ]
     },
     "execution_count": 36,
     "metadata": {},
     "output_type": "execute_result"
    }
   ],
   "source": [
    "len(aaa['customer_id_hashed'].unique())"
   ]
  },
  {
   "cell_type": "code",
   "execution_count": 32,
   "metadata": {
    "collapsed": true
   },
   "outputs": [],
   "source": [
    "summary_sign_date=df_new_sign_up_ids.groupby(['sign_up_date'])['customer_id_hashed'].count().to_frame().reset_index()\n",
    "summary_sign_date=summary_sign_date.sort_values(\"sign_up_date\")"
   ]
  },
  {
   "cell_type": "code",
   "execution_count": 36,
   "metadata": {
    "collapsed": true
   },
   "outputs": [],
   "source": [
    "output.to_csv(\"/home/jian/Projects/Big_Lots/Live_Ramp/Quarterly_Update_2019Q2/NesSignUps_Q1_NoPurchase/BL_2019Q1_new_signups_no_purchase_JL_\"+str(datetime.datetime.now().date())+\".csv\",index=False)"
   ]
  },
  {
   "cell_type": "code",
   "execution_count": 37,
   "metadata": {
    "collapsed": true
   },
   "outputs": [],
   "source": [
    "summary_sign_date.to_csv(\"/home/jian/Projects/Big_Lots/Live_Ramp/Quarterly_Update_2019Q2/NesSignUps_Q1_NoPurchase/summary_BL_2019Q1_new_signups_no_purchase_JL_\"+str(datetime.datetime.now().date())+\".csv\",index=False)\n",
    "\n"
   ]
  },
  {
   "cell_type": "code",
   "execution_count": null,
   "metadata": {
    "collapsed": true
   },
   "outputs": [],
   "source": []
  }
 ],
 "metadata": {
  "kernelspec": {
   "display_name": "Python 3",
   "language": "python",
   "name": "python3"
  },
  "language_info": {
   "codemirror_mode": {
    "name": "ipython",
    "version": 3
   },
   "file_extension": ".py",
   "mimetype": "text/x-python",
   "name": "python",
   "nbconvert_exporter": "python",
   "pygments_lexer": "ipython3",
   "version": "3.6.1"
  }
 },
 "nbformat": 4,
 "nbformat_minor": 2
}
