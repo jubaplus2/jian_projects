{
 "cells": [
  {
   "cell_type": "code",
   "execution_count": 1,
   "metadata": {},
   "outputs": [
    {
     "data": {
      "text/plain": [
       "'/home/jian/BigLots/AgilOne'"
      ]
     },
     "execution_count": 1,
     "metadata": {},
     "output_type": "execute_result"
    }
   ],
   "source": [
    "import pandas as pd\n",
    "import numpy as np\n",
    "import datetime\n",
    "import os\n",
    "import paramiko\n",
    "\n",
    "os.getcwd()"
   ]
  },
  {
   "cell_type": "code",
   "execution_count": 2,
   "metadata": {},
   "outputs": [],
   "source": [
    "host = \"64.237.51.251\" #hard-coded\n",
    "port = 22\n",
    "transport = paramiko.Transport((host, port))\n",
    "\n",
    "password = \"2d2HWm5y8pbtLn9U\" #hard-coded\n",
    "username = \"agilone\" #hard-coded\n",
    "transport.connect(username = username, password = password)\n",
    "sftp = paramiko.SFTPClient.from_transport(transport)"
   ]
  },
  {
   "cell_type": "code",
   "execution_count": 3,
   "metadata": {},
   "outputs": [
    {
     "data": {
      "text/plain": [
       "['/mnt/drv5/agilone/December_Rewards_Earners_2_20200228073432.csv',\n",
       " '/mnt/drv5/agilone/December_Rewards_Earners_1_20200228073206.csv',\n",
       " '/mnt/drv5/agilone/December_Rewards_Earners_20200228073202.csv']"
      ]
     },
     "execution_count": 3,
     "metadata": {},
     "output_type": "execute_result"
    }
   ],
   "source": [
    "remote_folder=\"/mnt/drv5/agilone/\"\n",
    "list_remote_files=[remote_folder+x for x in sftp.listdir(remote_folder)]\n",
    "\n",
    "list_remote_files=[x for x in list_remote_files if pd.to_datetime(sftp.stat(x).st_mtime,unit=\"s\")>=datetime.datetime.now()-datetime.timedelta(days=1)]\n",
    "list_remote_files=[x for x in list_remote_files if x[-4]==\".\"]\n",
    "list_remote_files"
   ]
  },
  {
   "cell_type": "code",
   "execution_count": 4,
   "metadata": {},
   "outputs": [],
   "source": [
    "for file in list_remote_files:\n",
    "    basename=os.path.basename(file)\n",
    "    local_path=\"/home/jian/BigLots/AgilOne/redeemers_2019Dec/\"+basename\n",
    "    sftp.get(file,local_path)\n",
    "sftp.close()\n",
    "transport.close()"
   ]
  },
  {
   "cell_type": "code",
   "execution_count": 6,
   "metadata": {},
   "outputs": [],
   "source": [
    "import glob\n",
    "list_local_file_redeemers=glob.glob(\"/home/jian/BigLots/AgilOne/redeemers_2019Dec/*.csv\")"
   ]
  },
  {
   "cell_type": "code",
   "execution_count": 10,
   "metadata": {},
   "outputs": [
    {
     "name": "stdout",
     "output_type": "stream",
     "text": [
      "(3415, 4) 3412 3415\n",
      "(6304, 4) 6299 6304\n",
      "(7204, 4) 7199 7204\n",
      "(16923, 4) 16910 16923\n"
     ]
    }
   ],
   "source": [
    "df_all_redeemers=pd.DataFrame()\n",
    "for file in list_local_file_redeemers:\n",
    "    df=pd.read_csv(file,dtype=str)\n",
    "    print(df.shape,df['customersummary_emailhash'].nunique(),df['customersummary_c_primaryscnhash'].nunique())\n",
    "    df_all_redeemers=df_all_redeemers.append(df)\n",
    "print(df_all_redeemers.shape,\n",
    "      df_all_redeemers['customersummary_emailhash'].nunique(),\n",
    "      df_all_redeemers['customersummary_c_primaryscnhash'].nunique())\n",
    "\n",
    "\n"
   ]
  },
  {
   "cell_type": "code",
   "execution_count": null,
   "metadata": {},
   "outputs": [],
   "source": []
  }
 ],
 "metadata": {
  "kernelspec": {
   "display_name": "Python 3",
   "language": "python",
   "name": "python3"
  },
  "language_info": {
   "codemirror_mode": {
    "name": "ipython",
    "version": 3
   },
   "file_extension": ".py",
   "mimetype": "text/x-python",
   "name": "python",
   "nbconvert_exporter": "python",
   "pygments_lexer": "ipython3",
   "version": "3.6.1"
  }
 },
 "nbformat": 4,
 "nbformat_minor": 2
}
