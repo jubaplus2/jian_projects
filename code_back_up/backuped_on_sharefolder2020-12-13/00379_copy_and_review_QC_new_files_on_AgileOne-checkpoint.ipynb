{
 "cells": [
  {
   "cell_type": "code",
   "execution_count": 1,
   "metadata": {},
   "outputs": [
    {
     "data": {
      "text/plain": [
       "'/mnt/clients/juba/hqjubaapp02/sharefolder/biglots_data/AgilOne'"
      ]
     },
     "execution_count": 1,
     "metadata": {},
     "output_type": "execute_result"
    }
   ],
   "source": [
    "import pandas as pd\n",
    "import numpy as np\n",
    "import datetime\n",
    "import os\n",
    "import paramiko\n",
    "\n",
    "os.getcwd()"
   ]
  },
  {
   "cell_type": "code",
   "execution_count": 3,
   "metadata": {},
   "outputs": [
    {
     "name": "stdout",
     "output_type": "stream",
     "text": [
      "local_folder: \n",
      " /mnt/clients/juba/hqjubaapp02/sharefolder/biglots_data/AgilOne/Offer_10_off_20_20Q4/\n"
     ]
    }
   ],
   "source": [
    "# To update here \n",
    "new_campaing_name=\"Offer_10_off_20_20Q4/\"\n",
    "\n",
    "#\n",
    "local_folder=\"/mnt/clients/juba/hqjubaapp02/sharefolder/biglots_data/AgilOne/%s\"%new_campaing_name\n",
    "\n",
    "\n",
    "print(\"local_folder: \\n\",local_folder)\n",
    "\n",
    "try:\n",
    "    os.stat(local_folder)\n",
    "except:\n",
    "    os.mkdir(local_folder)"
   ]
  },
  {
   "cell_type": "code",
   "execution_count": 4,
   "metadata": {},
   "outputs": [],
   "source": [
    "host = \"107.191.32.220\" #hard-coded\n",
    "port = 22\n",
    "transport = paramiko.Transport((host, port))\n",
    "\n",
    "password = \"Tur87ZqzF9xV5mYF\" #hard-coded\n",
    "username = \"agilone\" #hard-coded\n",
    "transport.connect(username = username, password = password)\n",
    "sftp = paramiko.SFTPClient.from_transport(transport)"
   ]
  },
  {
   "cell_type": "code",
   "execution_count": 5,
   "metadata": {},
   "outputs": [
    {
     "data": {
      "text/plain": [
       "['/home/agilone/Online Signup MS B_20201102074942.csv',\n",
       " '/home/agilone/13-18 Month Lapsed MS A_20201102073523.csv',\n",
       " '/home/agilone/BigLots_CCPA_DELETE_Request__20201102085241.csv',\n",
       " '/home/agilone/10-12 Month About to Lapse MS B_20201102075837.csv',\n",
       " '/home/agilone/13-18 Month Lapsed MS B_20201102073920.csv',\n",
       " '/home/agilone/Online Signup MS A_20201102074635.csv',\n",
       " '/home/agilone/10-12 Month About to Lapse MS A_20201102075436.csv']"
      ]
     },
     "execution_count": 5,
     "metadata": {},
     "output_type": "execute_result"
    }
   ],
   "source": [
    "remote_folder=\"/home/agilone/\"\n",
    "list_remote_files=[remote_folder+x for x in sftp.listdir(remote_folder)]\n",
    "\n",
    "list_remote_files=[x for x in list_remote_files if pd.to_datetime(sftp.stat(x).st_mtime,unit=\"s\")>=datetime.datetime.now()-datetime.timedelta(days=1)]\n",
    "list_remote_files=[x for x in list_remote_files if x[-4]==\".\"]\n",
    "list_remote_files"
   ]
  },
  {
   "cell_type": "code",
   "execution_count": 6,
   "metadata": {},
   "outputs": [
    {
     "data": {
      "text/plain": [
       "['/home/agilone/Online Signup MS B_20201102074942.csv',\n",
       " '/home/agilone/13-18 Month Lapsed MS A_20201102073523.csv',\n",
       " '/home/agilone/10-12 Month About to Lapse MS B_20201102075837.csv',\n",
       " '/home/agilone/13-18 Month Lapsed MS B_20201102073920.csv',\n",
       " '/home/agilone/Online Signup MS A_20201102074635.csv',\n",
       " '/home/agilone/10-12 Month About to Lapse MS A_20201102075436.csv']"
      ]
     },
     "execution_count": 6,
     "metadata": {},
     "output_type": "execute_result"
    }
   ],
   "source": [
    "# Remove the ccpa received on the same day\n",
    "list_remote_files=[x for x in list_remote_files if \"ccpa_dele\" not in x.lower()]\n",
    "list_remote_files"
   ]
  },
  {
   "cell_type": "code",
   "execution_count": 7,
   "metadata": {},
   "outputs": [],
   "source": [
    "for file in list_remote_files:\n",
    "    basename=os.path.basename(file)\n",
    "    local_path=local_folder+basename\n",
    "    sftp.get(file,local_path)\n",
    "sftp.close()\n",
    "transport.close()"
   ]
  },
  {
   "cell_type": "code",
   "execution_count": 9,
   "metadata": {},
   "outputs": [
    {
     "data": {
      "text/plain": [
       "['/mnt/clients/juba/hqjubaapp02/sharefolder/biglots_data/AgilOne/Offer_10_off_20_20Q4/10-12 Month About to Lapse MS A_20201102075436.csv',\n",
       " '/mnt/clients/juba/hqjubaapp02/sharefolder/biglots_data/AgilOne/Offer_10_off_20_20Q4/10-12 Month About to Lapse MS B_20201102075837.csv',\n",
       " '/mnt/clients/juba/hqjubaapp02/sharefolder/biglots_data/AgilOne/Offer_10_off_20_20Q4/13-18 Month Lapsed MS A_20201102073523.csv',\n",
       " '/mnt/clients/juba/hqjubaapp02/sharefolder/biglots_data/AgilOne/Offer_10_off_20_20Q4/13-18 Month Lapsed MS B_20201102073920.csv',\n",
       " '/mnt/clients/juba/hqjubaapp02/sharefolder/biglots_data/AgilOne/Offer_10_off_20_20Q4/Online Signup MS A_20201102074635.csv',\n",
       " '/mnt/clients/juba/hqjubaapp02/sharefolder/biglots_data/AgilOne/Offer_10_off_20_20Q4/Online Signup MS B_20201102074942.csv']"
      ]
     },
     "execution_count": 9,
     "metadata": {},
     "output_type": "execute_result"
    }
   ],
   "source": [
    "import glob\n",
    "list_local_file_new=glob.glob(local_folder+\"*.csv\")\n",
    "list_local_file_new.sort()\n",
    "list_local_file_new"
   ]
  },
  {
   "cell_type": "code",
   "execution_count": 10,
   "metadata": {},
   "outputs": [
    {
     "data": {
      "text/html": [
       "<div>\n",
       "<style scoped>\n",
       "    .dataframe tbody tr th:only-of-type {\n",
       "        vertical-align: middle;\n",
       "    }\n",
       "\n",
       "    .dataframe tbody tr th {\n",
       "        vertical-align: top;\n",
       "    }\n",
       "\n",
       "    .dataframe thead th {\n",
       "        text-align: right;\n",
       "    }\n",
       "</style>\n",
       "<table border=\"1\" class=\"dataframe\">\n",
       "  <thead>\n",
       "    <tr style=\"text-align: right;\">\n",
       "      <th></th>\n",
       "      <th>customersummary_mastercustomerid</th>\n",
       "      <th>customersummary_emailhash</th>\n",
       "      <th>customersummary_c_primaryscnhash</th>\n",
       "      <th>execution_id</th>\n",
       "    </tr>\n",
       "  </thead>\n",
       "  <tbody>\n",
       "    <tr>\n",
       "      <th>0</th>\n",
       "      <td>KFK_0_58796144</td>\n",
       "      <td>25abf112b00caffcbd9aef32d66bd67a80b853ce039dcb...</td>\n",
       "      <td>068b3d7bc1f50214e5f0a6e05b8565359687334cddbcf2...</td>\n",
       "      <td>1604346769164</td>\n",
       "    </tr>\n",
       "    <tr>\n",
       "      <th>1</th>\n",
       "      <td>KFK_0_10898437</td>\n",
       "      <td>976d2bcdbab584263442ea5cc4fb28c0d318f13a4be6b4...</td>\n",
       "      <td>af002365ba37f81669d9db9b61b2f6c5a2f6e3bf4f2bbc...</td>\n",
       "      <td>1604346769164</td>\n",
       "    </tr>\n",
       "    <tr>\n",
       "      <th>2</th>\n",
       "      <td>FTP_CSV_6_58611036</td>\n",
       "      <td>593b09df84abf0e8dfd79297c6eeaa2a32f0238f592c68...</td>\n",
       "      <td>4793add6a2f4a325649c31415ae21450034d7ee53aace5...</td>\n",
       "      <td>1604346769164</td>\n",
       "    </tr>\n",
       "    <tr>\n",
       "      <th>3</th>\n",
       "      <td>FTP_CSV_6_55259218</td>\n",
       "      <td>014986a39ec7c0f4e1f8f504da5e64c6e19c2a9d6fb72b...</td>\n",
       "      <td>4dd3079297406d44ebd25a086ec6bf6f93b5282ed52044...</td>\n",
       "      <td>1604346769164</td>\n",
       "    </tr>\n",
       "    <tr>\n",
       "      <th>4</th>\n",
       "      <td>FTP_CSV_6_58766382</td>\n",
       "      <td>399befdd05497a1d304d741015b414319639456896cb65...</td>\n",
       "      <td>947a108ae443c974fc467a88392c38611730675f8de32c...</td>\n",
       "      <td>1604346769164</td>\n",
       "    </tr>\n",
       "    <tr>\n",
       "      <th>5</th>\n",
       "      <td>KFK_0_57741185</td>\n",
       "      <td>e8c6d8b39784e609fc353ef905dbd3ab75db32ccb24fd3...</td>\n",
       "      <td>8cb458cf58f02962010a35461a0824981340678440ecd3...</td>\n",
       "      <td>1604346769164</td>\n",
       "    </tr>\n",
       "    <tr>\n",
       "      <th>6</th>\n",
       "      <td>FTP_CSV_6_9319639</td>\n",
       "      <td>6af87f8652594eb4db5c47040bd18c38c551a36fde6084...</td>\n",
       "      <td>f5ede8f4e55020b4d884e9900b4df34c61f2344139d51a...</td>\n",
       "      <td>1604346769164</td>\n",
       "    </tr>\n",
       "    <tr>\n",
       "      <th>7</th>\n",
       "      <td>FTP_CSV_6_50135921</td>\n",
       "      <td>9197d472adf6dcb0e46d1930566fd6e44409508f1e476c...</td>\n",
       "      <td>85a203ae1ba6a19fe9575e82f8a788830073084ab677a6...</td>\n",
       "      <td>1604346769164</td>\n",
       "    </tr>\n",
       "    <tr>\n",
       "      <th>8</th>\n",
       "      <td>FTP_CSV_6_29349017</td>\n",
       "      <td>120b5fd6b61d9d9c83fe5cae59773eb686c95cf138bccb...</td>\n",
       "      <td>6f3d1f7a5ee6c8efe0b6536d6eeb2043fe45f680b733a4...</td>\n",
       "      <td>1604346769164</td>\n",
       "    </tr>\n",
       "    <tr>\n",
       "      <th>9</th>\n",
       "      <td>FTP_CSV_6_39078568</td>\n",
       "      <td>104b605e2f6a4ae6b7690ae515184e594145733f930bf1...</td>\n",
       "      <td>2563a77fbd0f13850f97c514a424ab20a0c84b280883df...</td>\n",
       "      <td>1604346769164</td>\n",
       "    </tr>\n",
       "  </tbody>\n",
       "</table>\n",
       "</div>"
      ],
      "text/plain": [
       "  customersummary_mastercustomerid  \\\n",
       "0                   KFK_0_58796144   \n",
       "1                   KFK_0_10898437   \n",
       "2               FTP_CSV_6_58611036   \n",
       "3               FTP_CSV_6_55259218   \n",
       "4               FTP_CSV_6_58766382   \n",
       "5                   KFK_0_57741185   \n",
       "6                FTP_CSV_6_9319639   \n",
       "7               FTP_CSV_6_50135921   \n",
       "8               FTP_CSV_6_29349017   \n",
       "9               FTP_CSV_6_39078568   \n",
       "\n",
       "                           customersummary_emailhash  \\\n",
       "0  25abf112b00caffcbd9aef32d66bd67a80b853ce039dcb...   \n",
       "1  976d2bcdbab584263442ea5cc4fb28c0d318f13a4be6b4...   \n",
       "2  593b09df84abf0e8dfd79297c6eeaa2a32f0238f592c68...   \n",
       "3  014986a39ec7c0f4e1f8f504da5e64c6e19c2a9d6fb72b...   \n",
       "4  399befdd05497a1d304d741015b414319639456896cb65...   \n",
       "5  e8c6d8b39784e609fc353ef905dbd3ab75db32ccb24fd3...   \n",
       "6  6af87f8652594eb4db5c47040bd18c38c551a36fde6084...   \n",
       "7  9197d472adf6dcb0e46d1930566fd6e44409508f1e476c...   \n",
       "8  120b5fd6b61d9d9c83fe5cae59773eb686c95cf138bccb...   \n",
       "9  104b605e2f6a4ae6b7690ae515184e594145733f930bf1...   \n",
       "\n",
       "                    customersummary_c_primaryscnhash   execution_id  \n",
       "0  068b3d7bc1f50214e5f0a6e05b8565359687334cddbcf2...  1604346769164  \n",
       "1  af002365ba37f81669d9db9b61b2f6c5a2f6e3bf4f2bbc...  1604346769164  \n",
       "2  4793add6a2f4a325649c31415ae21450034d7ee53aace5...  1604346769164  \n",
       "3  4dd3079297406d44ebd25a086ec6bf6f93b5282ed52044...  1604346769164  \n",
       "4  947a108ae443c974fc467a88392c38611730675f8de32c...  1604346769164  \n",
       "5  8cb458cf58f02962010a35461a0824981340678440ecd3...  1604346769164  \n",
       "6  f5ede8f4e55020b4d884e9900b4df34c61f2344139d51a...  1604346769164  \n",
       "7  85a203ae1ba6a19fe9575e82f8a788830073084ab677a6...  1604346769164  \n",
       "8  6f3d1f7a5ee6c8efe0b6536d6eeb2043fe45f680b733a4...  1604346769164  \n",
       "9  2563a77fbd0f13850f97c514a424ab20a0c84b280883df...  1604346769164  "
      ]
     },
     "execution_count": 10,
     "metadata": {},
     "output_type": "execute_result"
    }
   ],
   "source": [
    "# Manually QC\n",
    "df=pd.read_csv(list_local_file_new[0],nrows=10)\n",
    "df"
   ]
  },
  {
   "cell_type": "code",
   "execution_count": 17,
   "metadata": {},
   "outputs": [
    {
     "name": "stdout",
     "output_type": "stream",
     "text": [
      "10-12 Month About to Lapse MS A_20201102075436.csv 2405635 2405635 2405575\n",
      "All sha256 format in 64 length:  [64  7]\n",
      "Checking wrong length (remember to remove when uploading): \n",
      "{7: 19, 64: 2405616}\n",
      "10-12 Month About to Lapse MS B_20201102075837.csv 223906 223906 223906\n",
      "All sha256 format in 64 length:  [64  7]\n",
      "Checking wrong length (remember to remove when uploading): \n",
      "{7: 1, 64: 223905}\n",
      "13-18 Month Lapsed MS A_20201102073523.csv 3541148 3541148 3541019\n",
      "All sha256 format in 64 length:  [64  7]\n",
      "Checking wrong length (remember to remove when uploading): \n",
      "{7: 37, 64: 3541111}\n",
      "13-18 Month Lapsed MS B_20201102073920.csv 341226 341226 341224\n",
      "All sha256 format in 64 length:  [64  7]\n",
      "Checking wrong length (remember to remove when uploading): \n",
      "{7: 1, 64: 341225}\n",
      "Online Signup MS A_20201102074635.csv 3600659 3600659 3600595\n",
      "All sha256 format in 64 length:  [64  7]\n",
      "Checking wrong length (remember to remove when uploading): \n",
      "{7: 64, 64: 3600595}\n",
      "Online Signup MS B_20201102074942.csv 359670 359670 359666\n",
      "All sha256 format in 64 length:  [64  7]\n",
      "Checking wrong length (remember to remove when uploading): \n",
      "{7: 5, 64: 359665}\n"
     ]
    }
   ],
   "source": [
    "df_summary_count=pd.DataFrame()\n",
    "i=0\n",
    "for file in list_local_file_new:\n",
    "    i+=1\n",
    "    df=pd.read_csv(file,dtype=str)\n",
    "    # name, row, unique_id, unique_email\n",
    "    \n",
    "    basename=os.path.basename(file)\n",
    "    row_count=df.shape[0]\n",
    "    unique_id=df['customersummary_c_primaryscnhash'].nunique()\n",
    "    unique_email=df['customersummary_emailhash'].nunique()\n",
    "    \n",
    "    print(basename,row_count,unique_id,unique_email)\n",
    "    print(\"All sha256 format in 64 length: \",df['customersummary_emailhash'].apply(len).unique())\n",
    "    df_s_file=pd.DataFrame({\"file\":basename,\n",
    "                            \"row_count\":row_count,\n",
    "                            \"unique_id\":unique_id,\n",
    "                            \"unique_email\":unique_email},index=[i]\n",
    "                          )\n",
    "    df_summary_count=df_summary_count.append(df_s_file)\n",
    "    if df['customersummary_emailhash'].apply(len).unique().tolist()!=[64]:\n",
    "        print(\"Checking wrong length (remember to remove when uploading): \")\n",
    "        df['email_len']=df['customersummary_emailhash'].apply(len)\n",
    "        df=df.groupby(\"email_len\")['customersummary_emailhash'].count().to_frame().reset_index()\n",
    "        print(df.set_index(\"email_len\").to_dict()['customersummary_emailhash'])\n",
    "        \n",
    "        "
   ]
  },
  {
   "cell_type": "code",
   "execution_count": 18,
   "metadata": {},
   "outputs": [
    {
     "data": {
      "text/html": [
       "<div>\n",
       "<style scoped>\n",
       "    .dataframe tbody tr th:only-of-type {\n",
       "        vertical-align: middle;\n",
       "    }\n",
       "\n",
       "    .dataframe tbody tr th {\n",
       "        vertical-align: top;\n",
       "    }\n",
       "\n",
       "    .dataframe thead th {\n",
       "        text-align: right;\n",
       "    }\n",
       "</style>\n",
       "<table border=\"1\" class=\"dataframe\">\n",
       "  <thead>\n",
       "    <tr style=\"text-align: right;\">\n",
       "      <th></th>\n",
       "      <th>file</th>\n",
       "      <th>row_count</th>\n",
       "      <th>unique_id</th>\n",
       "      <th>unique_email</th>\n",
       "    </tr>\n",
       "  </thead>\n",
       "  <tbody>\n",
       "    <tr>\n",
       "      <th>1</th>\n",
       "      <td>10-12 Month About to Lapse MS A_20201102075436...</td>\n",
       "      <td>2405635</td>\n",
       "      <td>2405635</td>\n",
       "      <td>2405575</td>\n",
       "    </tr>\n",
       "    <tr>\n",
       "      <th>2</th>\n",
       "      <td>10-12 Month About to Lapse MS B_20201102075837...</td>\n",
       "      <td>223906</td>\n",
       "      <td>223906</td>\n",
       "      <td>223906</td>\n",
       "    </tr>\n",
       "    <tr>\n",
       "      <th>3</th>\n",
       "      <td>13-18 Month Lapsed MS A_20201102073523.csv</td>\n",
       "      <td>3541148</td>\n",
       "      <td>3541148</td>\n",
       "      <td>3541019</td>\n",
       "    </tr>\n",
       "    <tr>\n",
       "      <th>4</th>\n",
       "      <td>13-18 Month Lapsed MS B_20201102073920.csv</td>\n",
       "      <td>341226</td>\n",
       "      <td>341226</td>\n",
       "      <td>341224</td>\n",
       "    </tr>\n",
       "    <tr>\n",
       "      <th>5</th>\n",
       "      <td>Online Signup MS A_20201102074635.csv</td>\n",
       "      <td>3600659</td>\n",
       "      <td>3600659</td>\n",
       "      <td>3600595</td>\n",
       "    </tr>\n",
       "    <tr>\n",
       "      <th>6</th>\n",
       "      <td>Online Signup MS B_20201102074942.csv</td>\n",
       "      <td>359670</td>\n",
       "      <td>359670</td>\n",
       "      <td>359666</td>\n",
       "    </tr>\n",
       "  </tbody>\n",
       "</table>\n",
       "</div>"
      ],
      "text/plain": [
       "                                                file  row_count  unique_id  \\\n",
       "1  10-12 Month About to Lapse MS A_20201102075436...    2405635    2405635   \n",
       "2  10-12 Month About to Lapse MS B_20201102075837...     223906     223906   \n",
       "3         13-18 Month Lapsed MS A_20201102073523.csv    3541148    3541148   \n",
       "4         13-18 Month Lapsed MS B_20201102073920.csv     341226     341226   \n",
       "5              Online Signup MS A_20201102074635.csv    3600659    3600659   \n",
       "6              Online Signup MS B_20201102074942.csv     359670     359670   \n",
       "\n",
       "   unique_email  \n",
       "1       2405575  \n",
       "2        223906  \n",
       "3       3541019  \n",
       "4        341224  \n",
       "5       3600595  \n",
       "6        359666  "
      ]
     },
     "execution_count": 18,
     "metadata": {},
     "output_type": "execute_result"
    }
   ],
   "source": [
    "df_summary_count"
   ]
  },
  {
   "cell_type": "code",
   "execution_count": 19,
   "metadata": {},
   "outputs": [
    {
     "data": {
      "text/plain": [
       "'/mnt/clients/juba/hqjubaapp02/sharefolder/biglots_data/AgilOne'"
      ]
     },
     "execution_count": 19,
     "metadata": {},
     "output_type": "execute_result"
    }
   ],
   "source": [
    "os.getcwd()"
   ]
  },
  {
   "cell_type": "code",
   "execution_count": null,
   "metadata": {},
   "outputs": [],
   "source": []
  }
 ],
 "metadata": {
  "kernelspec": {
   "display_name": "Python 3",
   "language": "python",
   "name": "python3"
  },
  "language_info": {
   "codemirror_mode": {
    "name": "ipython",
    "version": 3
   },
   "file_extension": ".py",
   "mimetype": "text/x-python",
   "name": "python",
   "nbconvert_exporter": "python",
   "pygments_lexer": "ipython3",
   "version": "3.7.6"
  }
 },
 "nbformat": 4,
 "nbformat_minor": 2
}
