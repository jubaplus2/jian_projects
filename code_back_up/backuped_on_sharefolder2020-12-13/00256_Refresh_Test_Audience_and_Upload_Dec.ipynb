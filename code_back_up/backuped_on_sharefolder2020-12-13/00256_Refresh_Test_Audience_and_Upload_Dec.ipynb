{
 "cells": [
  {
   "cell_type": "code",
   "execution_count": 1,
   "metadata": {},
   "outputs": [],
   "source": [
    "import pandas as pd\n",
    "import glob\n",
    "import datetime\n",
    "import random\n",
    "import os\n",
    "import numpy as np"
   ]
  },
  {
   "cell_type": "code",
   "execution_count": 2,
   "metadata": {},
   "outputs": [],
   "source": [
    "output_folder_LR=\"./uploaded_file_LR/\"\n",
    "output_folder_FB=\"./uploaded_file_FB/\""
   ]
  },
  {
   "cell_type": "code",
   "execution_count": 3,
   "metadata": {},
   "outputs": [
    {
     "name": "stdout",
     "output_type": "stream",
     "text": [
      "(29476566, 4) 29476566 29476566\n"
     ]
    }
   ],
   "source": [
    "df_all=pd.read_csv(\"./output_2020-12-10/df_output_TestOnly_updated_on_2020-12-10.csv\",usecols=['customer_id_hashed','email_address_hash','segment_2020Q4_Refresh'])\n",
    "df_all['segment_2020Q4_Refresh']=df_all['segment_2020Q4_Refresh'].replace(\"Unknown_NoPurchase_Unknown_T\",\"SignUpNoPurchase_2_12\")\n",
    "df_all['Destination']=np.where(df_all['segment_2020Q4_Refresh'].str[-2:]==\"_T\",\"FBAppOnly\",\"LR_and_FBApp\")\n",
    "\n",
    "print(df_all.shape,df_all['customer_id_hashed'].nunique(),df_all['email_address_hash'].nunique())"
   ]
  },
  {
   "cell_type": "markdown",
   "metadata": {},
   "source": [
    "# LR -- full refreshe"
   ]
  },
  {
   "cell_type": "code",
   "execution_count": 4,
   "metadata": {},
   "outputs": [
    {
     "data": {
      "text/html": [
       "<div>\n",
       "<style scoped>\n",
       "    .dataframe tbody tr th:only-of-type {\n",
       "        vertical-align: middle;\n",
       "    }\n",
       "\n",
       "    .dataframe tbody tr th {\n",
       "        vertical-align: top;\n",
       "    }\n",
       "\n",
       "    .dataframe thead th {\n",
       "        text-align: right;\n",
       "    }\n",
       "</style>\n",
       "<table border=\"1\" class=\"dataframe\">\n",
       "  <thead>\n",
       "    <tr style=\"text-align: right;\">\n",
       "      <th></th>\n",
       "      <th>customer_id_hashed</th>\n",
       "      <th>email_address_hash</th>\n",
       "      <th>updated_segment_2020Q4_Refresh</th>\n",
       "    </tr>\n",
       "  </thead>\n",
       "  <tbody>\n",
       "    <tr>\n",
       "      <th>0</th>\n",
       "      <td>84e657f1f656952fb9412a63022017769d59a70cc36883...</td>\n",
       "      <td>64048ee5fbef6db265cf2890276f25c71029da14e7749b...</td>\n",
       "      <td>Refreshable_LR_Rewards_T_SOTF_Active0X_H_PS</td>\n",
       "    </tr>\n",
       "    <tr>\n",
       "      <th>1</th>\n",
       "      <td>b78dccfd64ce659af7061c5743b6b9305814336bc9ddec...</td>\n",
       "      <td>4836bfc632a2a5987d47fa6bf0637c21c4466a0e99ddee...</td>\n",
       "      <td>Refreshable_LR_Rewards_T_Legacy_Active0X_H_PS</td>\n",
       "    </tr>\n",
       "  </tbody>\n",
       "</table>\n",
       "</div>"
      ],
      "text/plain": [
       "                                  customer_id_hashed  \\\n",
       "0  84e657f1f656952fb9412a63022017769d59a70cc36883...   \n",
       "1  b78dccfd64ce659af7061c5743b6b9305814336bc9ddec...   \n",
       "\n",
       "                                  email_address_hash  \\\n",
       "0  64048ee5fbef6db265cf2890276f25c71029da14e7749b...   \n",
       "1  4836bfc632a2a5987d47fa6bf0637c21c4466a0e99ddee...   \n",
       "\n",
       "                  updated_segment_2020Q4_Refresh  \n",
       "0    Refreshable_LR_Rewards_T_SOTF_Active0X_H_PS  \n",
       "1  Refreshable_LR_Rewards_T_Legacy_Active0X_H_PS  "
      ]
     },
     "execution_count": 4,
     "metadata": {},
     "output_type": "execute_result"
    }
   ],
   "source": [
    "df_output_LR=df_all[df_all['Destination']==\"LR_and_FBApp\"]\n",
    "df_output_LR=df_output_LR.rename(columns={\"segment_2020Q4_Refresh\":\"updated_segment_2020Q4_Refresh\"})\n",
    "df_output_LR['updated_segment_2020Q4_Refresh']=\"Refreshable_LR_Rewards_T_\"+df_output_LR['updated_segment_2020Q4_Refresh']\n",
    "del df_output_LR['Destination']\n",
    "df_output_LR=df_output_LR[['customer_id_hashed','email_address_hash','updated_segment_2020Q4_Refresh']]\n",
    "df_output_LR.head(2)"
   ]
  },
  {
   "cell_type": "code",
   "execution_count": 5,
   "metadata": {},
   "outputs": [
    {
     "data": {
      "text/plain": [
       "['Refreshable_LR_Rewards_T_Legacy_Active0X_H_PS',\n",
       " 'Refreshable_LR_Rewards_T_Legacy_Active0X_L_PS',\n",
       " 'Refreshable_LR_Rewards_T_Legacy_Active0X_M_PS',\n",
       " 'Refreshable_LR_Rewards_T_Legacy_ActiveX12_L_PS',\n",
       " 'Refreshable_LR_Rewards_T_Legacy_ActiveX12_M_PS',\n",
       " 'Refreshable_LR_Rewards_T_Legacy_Lapsed1318_L_PS',\n",
       " 'Refreshable_LR_Rewards_T_Legacy_Lapsed1924_Unknown_PS',\n",
       " 'Refreshable_LR_Rewards_T_Legacy_Lapsed2530_Unknown_PS',\n",
       " 'Refreshable_LR_Rewards_T_SOTF_Active0X_H_PS',\n",
       " 'Refreshable_LR_Rewards_T_SOTF_Active0X_L_PS',\n",
       " 'Refreshable_LR_Rewards_T_SOTF_Active0X_M_PS',\n",
       " 'Refreshable_LR_Rewards_T_SOTF_ActiveX12_L_PS',\n",
       " 'Refreshable_LR_Rewards_T_SOTF_ActiveX12_M_PS',\n",
       " 'Refreshable_LR_Rewards_T_SOTF_Lapsed1318_L_PS',\n",
       " 'Refreshable_LR_Rewards_T_SOTF_Lapsed1924_Unknown_PS',\n",
       " 'Refreshable_LR_Rewards_T_SOTF_Lapsed2530_Unknown_PS',\n",
       " 'Refreshable_LR_Rewards_T_SignUpNoPurchase_2_12']"
      ]
     },
     "execution_count": 5,
     "metadata": {},
     "output_type": "execute_result"
    }
   ],
   "source": [
    "list_seg_LR=df_output_LR['updated_segment_2020Q4_Refresh'].unique().tolist()\n",
    "list_seg_LR.sort()\n",
    "list_seg_LR"
   ]
  },
  {
   "cell_type": "code",
   "execution_count": 6,
   "metadata": {},
   "outputs": [
    {
     "data": {
      "text/html": [
       "<div>\n",
       "<style scoped>\n",
       "    .dataframe tbody tr th:only-of-type {\n",
       "        vertical-align: middle;\n",
       "    }\n",
       "\n",
       "    .dataframe tbody tr th {\n",
       "        vertical-align: top;\n",
       "    }\n",
       "\n",
       "    .dataframe thead th {\n",
       "        text-align: right;\n",
       "    }\n",
       "</style>\n",
       "<table border=\"1\" class=\"dataframe\">\n",
       "  <thead>\n",
       "    <tr style=\"text-align: right;\">\n",
       "      <th></th>\n",
       "      <th>customer_id_hashed</th>\n",
       "      <th>email_address_hash</th>\n",
       "      <th>updated_segment_2020Q4_Refresh</th>\n",
       "    </tr>\n",
       "  </thead>\n",
       "  <tbody>\n",
       "    <tr>\n",
       "      <th>0</th>\n",
       "      <td>b78dccfd64ce659af7061c5743b6b9305814336bc9ddec...</td>\n",
       "      <td>4836bfc632a2a5987d47fa6bf0637c21c4466a0e99ddee...</td>\n",
       "      <td>Refreshable_LR_Rewards_T_Legacy_Active0X_H_PS</td>\n",
       "    </tr>\n",
       "    <tr>\n",
       "      <th>1</th>\n",
       "      <td>681869d76dbbf47685b2e2b2c247064ae83194cc5c5f80...</td>\n",
       "      <td>e12683b2ec8b57ddab043609795d36246df869be353af7...</td>\n",
       "      <td>Refreshable_LR_Rewards_T_Legacy_Active0X_H_PS</td>\n",
       "    </tr>\n",
       "    <tr>\n",
       "      <th>2</th>\n",
       "      <td>3efc4531caf1e69c86e49f007901c143d81df33086abe7...</td>\n",
       "      <td>79fc174d2b4e651ffdd8cc69fde21d61ce27dc65d32e68...</td>\n",
       "      <td>Refreshable_LR_Rewards_T_Legacy_Active0X_H_PS</td>\n",
       "    </tr>\n",
       "  </tbody>\n",
       "</table>\n",
       "</div>"
      ],
      "text/plain": [
       "                                  customer_id_hashed  \\\n",
       "0  b78dccfd64ce659af7061c5743b6b9305814336bc9ddec...   \n",
       "1  681869d76dbbf47685b2e2b2c247064ae83194cc5c5f80...   \n",
       "2  3efc4531caf1e69c86e49f007901c143d81df33086abe7...   \n",
       "\n",
       "                                  email_address_hash  \\\n",
       "0  4836bfc632a2a5987d47fa6bf0637c21c4466a0e99ddee...   \n",
       "1  e12683b2ec8b57ddab043609795d36246df869be353af7...   \n",
       "2  79fc174d2b4e651ffdd8cc69fde21d61ce27dc65d32e68...   \n",
       "\n",
       "                  updated_segment_2020Q4_Refresh  \n",
       "0  Refreshable_LR_Rewards_T_Legacy_Active0X_H_PS  \n",
       "1  Refreshable_LR_Rewards_T_Legacy_Active0X_H_PS  \n",
       "2  Refreshable_LR_Rewards_T_Legacy_Active0X_H_PS  "
      ]
     },
     "execution_count": 6,
     "metadata": {},
     "output_type": "execute_result"
    }
   ],
   "source": [
    "df_initial_LR_file=pd.read_csv(output_folder_LR+\"BL_2020Q4_audience_Refreshable_JL_2020-10-19.csv\",dtype=str)\n",
    "list_seg_LR_old=df_initial_LR_file['updated_segment_2020Q4_Refresh'].unique().tolist()\n",
    "list_seg_LR_old.sort()\n",
    "\n",
    "df_initial_LR_file.head(3)"
   ]
  },
  {
   "cell_type": "code",
   "execution_count": 7,
   "metadata": {},
   "outputs": [
    {
     "data": {
      "text/plain": [
       "(504502, 3)"
      ]
     },
     "execution_count": 7,
     "metadata": {},
     "output_type": "execute_result"
    }
   ],
   "source": [
    "df_initial_LR_file_Control=df_initial_LR_file[df_initial_LR_file['updated_segment_2020Q4_Refresh'].str.contains(\"Control\")]\n",
    "df_initial_LR_file_Control.shape"
   ]
  },
  {
   "cell_type": "code",
   "execution_count": 8,
   "metadata": {},
   "outputs": [
    {
     "name": "stdout",
     "output_type": "stream",
     "text": [
      "True\n",
      "True\n"
     ]
    }
   ],
   "source": [
    "print(df_output_LR.columns.tolist()==df_initial_LR_file.columns.tolist())\n",
    "df_output_LR=df_output_LR.append(df_initial_LR_file_Control)\n",
    "\n",
    "print(sorted(df_output_LR['updated_segment_2020Q4_Refresh'].unique().tolist())==sorted(df_initial_LR_file['updated_segment_2020Q4_Refresh'].unique().tolist()))\n"
   ]
  },
  {
   "cell_type": "code",
   "execution_count": 9,
   "metadata": {},
   "outputs": [
    {
     "data": {
      "text/html": [
       "<div>\n",
       "<style scoped>\n",
       "    .dataframe tbody tr th:only-of-type {\n",
       "        vertical-align: middle;\n",
       "    }\n",
       "\n",
       "    .dataframe tbody tr th {\n",
       "        vertical-align: top;\n",
       "    }\n",
       "\n",
       "    .dataframe thead th {\n",
       "        text-align: right;\n",
       "    }\n",
       "</style>\n",
       "<table border=\"1\" class=\"dataframe\">\n",
       "  <thead>\n",
       "    <tr style=\"text-align: right;\">\n",
       "      <th></th>\n",
       "      <th>customer_id_hashed</th>\n",
       "      <th>email_address_hash</th>\n",
       "      <th>updated_segment_2020Q4_Refresh</th>\n",
       "    </tr>\n",
       "  </thead>\n",
       "  <tbody>\n",
       "    <tr>\n",
       "      <th>0</th>\n",
       "      <td>84e657f1f656952fb9412a63022017769d59a70cc36883...</td>\n",
       "      <td>64048ee5fbef6db265cf2890276f25c71029da14e7749b...</td>\n",
       "      <td>Refreshable_LR_Rewards_T_SOTF_Active0X_H_PS</td>\n",
       "    </tr>\n",
       "    <tr>\n",
       "      <th>1</th>\n",
       "      <td>b78dccfd64ce659af7061c5743b6b9305814336bc9ddec...</td>\n",
       "      <td>4836bfc632a2a5987d47fa6bf0637c21c4466a0e99ddee...</td>\n",
       "      <td>Refreshable_LR_Rewards_T_Legacy_Active0X_H_PS</td>\n",
       "    </tr>\n",
       "  </tbody>\n",
       "</table>\n",
       "</div>"
      ],
      "text/plain": [
       "                                  customer_id_hashed  \\\n",
       "0  84e657f1f656952fb9412a63022017769d59a70cc36883...   \n",
       "1  b78dccfd64ce659af7061c5743b6b9305814336bc9ddec...   \n",
       "\n",
       "                                  email_address_hash  \\\n",
       "0  64048ee5fbef6db265cf2890276f25c71029da14e7749b...   \n",
       "1  4836bfc632a2a5987d47fa6bf0637c21c4466a0e99ddee...   \n",
       "\n",
       "                  updated_segment_2020Q4_Refresh  \n",
       "0    Refreshable_LR_Rewards_T_SOTF_Active0X_H_PS  \n",
       "1  Refreshable_LR_Rewards_T_Legacy_Active0X_H_PS  "
      ]
     },
     "execution_count": 9,
     "metadata": {},
     "output_type": "execute_result"
    }
   ],
   "source": [
    "df_output_LR.head(2)"
   ]
  },
  {
   "cell_type": "code",
   "execution_count": 10,
   "metadata": {},
   "outputs": [],
   "source": [
    "df_output_LR.to_csv(output_folder_LR+\"BL_2020Q4_audience_Refreshable_JL_%s.csv\"%str(datetime.datetime.now().date()),index=False)\n"
   ]
  },
  {
   "cell_type": "markdown",
   "metadata": {},
   "source": [
    "# FB -- Incremental refresh"
   ]
  },
  {
   "cell_type": "code",
   "execution_count": 10,
   "metadata": {},
   "outputs": [],
   "source": [
    "output_folder_FB_inner=output_folder_FB+\"output_%s/\"%str(datetime.datetime.now().date())\n",
    "try:\n",
    "    os.stat(output_folder_FB_inner)\n",
    "except:\n",
    "    os.mkdir(output_folder_FB_inner)"
   ]
  },
  {
   "cell_type": "code",
   "execution_count": 11,
   "metadata": {},
   "outputs": [
    {
     "name": "stdout",
     "output_type": "stream",
     "text": [
      "17\n"
     ]
    }
   ],
   "source": [
    "list_initial_FB_files=glob.glob(output_folder_FB+\"output_2020-10-09/*.csv\")\n",
    "list_initial_FB_files=[x for x in list_initial_FB_files if \"control\" not in x.lower()]\n",
    "list_initial_FB_files.sort()\n",
    "print(len(list_initial_FB_files))"
   ]
  },
  {
   "cell_type": "code",
   "execution_count": 12,
   "metadata": {},
   "outputs": [
    {
     "data": {
      "text/plain": [
       "['./uploaded_file_FB/output_2020-10-09/T_Legacy_Active0X_H.csv',\n",
       " './uploaded_file_FB/output_2020-10-09/T_Legacy_Active0X_L.csv',\n",
       " './uploaded_file_FB/output_2020-10-09/T_Legacy_Active0X_M.csv',\n",
       " './uploaded_file_FB/output_2020-10-09/T_Legacy_ActiveX12_L.csv',\n",
       " './uploaded_file_FB/output_2020-10-09/T_Legacy_ActiveX12_M.csv',\n",
       " './uploaded_file_FB/output_2020-10-09/T_Legacy_Lapsed1318_L.csv',\n",
       " './uploaded_file_FB/output_2020-10-09/T_Legacy_Lapsed1924_Unknown.csv',\n",
       " './uploaded_file_FB/output_2020-10-09/T_Legacy_Lapsed2530_Unknown.csv',\n",
       " './uploaded_file_FB/output_2020-10-09/T_SOTF_Active0X_H.csv',\n",
       " './uploaded_file_FB/output_2020-10-09/T_SOTF_Active0X_L.csv',\n",
       " './uploaded_file_FB/output_2020-10-09/T_SOTF_Active0X_M.csv',\n",
       " './uploaded_file_FB/output_2020-10-09/T_SOTF_ActiveX12_L.csv',\n",
       " './uploaded_file_FB/output_2020-10-09/T_SOTF_ActiveX12_M.csv',\n",
       " './uploaded_file_FB/output_2020-10-09/T_SOTF_Lapsed1318_L.csv',\n",
       " './uploaded_file_FB/output_2020-10-09/T_SOTF_Lapsed1924_Unknown.csv',\n",
       " './uploaded_file_FB/output_2020-10-09/T_SOTF_Lapsed2530_Unknown.csv',\n",
       " './uploaded_file_FB/output_2020-10-09/T_SignUpNoPurchase_2_12.csv']"
      ]
     },
     "execution_count": 12,
     "metadata": {},
     "output_type": "execute_result"
    }
   ],
   "source": [
    "list_initial_FB_files"
   ]
  },
  {
   "cell_type": "code",
   "execution_count": 13,
   "metadata": {},
   "outputs": [
    {
     "name": "stderr",
     "output_type": "stream",
     "text": [
      "/opt/anaconda3/lib/python3.7/site-packages/ipykernel_launcher.py:2: SettingWithCopyWarning: \n",
      "A value is trying to be set on a copy of a slice from a DataFrame.\n",
      "Try using .loc[row_indexer,col_indexer] = value instead\n",
      "\n",
      "See the caveats in the documentation: https://pandas.pydata.org/pandas-docs/stable/user_guide/indexing.html#returning-a-view-versus-a-copy\n",
      "  \n",
      "/opt/anaconda3/lib/python3.7/site-packages/ipykernel_launcher.py:3: SettingWithCopyWarning: \n",
      "A value is trying to be set on a copy of a slice from a DataFrame.\n",
      "Try using .loc[row_indexer,col_indexer] = value instead\n",
      "\n",
      "See the caveats in the documentation: https://pandas.pydata.org/pandas-docs/stable/user_guide/indexing.html#returning-a-view-versus-a-copy\n",
      "  This is separate from the ipykernel package so we can avoid doing imports until\n"
     ]
    },
    {
     "data": {
      "text/html": [
       "<div>\n",
       "<style scoped>\n",
       "    .dataframe tbody tr th:only-of-type {\n",
       "        vertical-align: middle;\n",
       "    }\n",
       "\n",
       "    .dataframe tbody tr th {\n",
       "        vertical-align: top;\n",
       "    }\n",
       "\n",
       "    .dataframe thead th {\n",
       "        text-align: right;\n",
       "    }\n",
       "</style>\n",
       "<table border=\"1\" class=\"dataframe\">\n",
       "  <thead>\n",
       "    <tr style=\"text-align: right;\">\n",
       "      <th></th>\n",
       "      <th>customer_id_hashed</th>\n",
       "      <th>email_address_hash</th>\n",
       "      <th>segment_2020Q4_Refresh</th>\n",
       "    </tr>\n",
       "  </thead>\n",
       "  <tbody>\n",
       "    <tr>\n",
       "      <th>0</th>\n",
       "      <td>84e657f1f656952fb9412a63022017769d59a70cc36883...</td>\n",
       "      <td>64048ee5fbef6db265cf2890276f25c71029da14e7749b...</td>\n",
       "      <td>T_SOTF_Active0X_H</td>\n",
       "    </tr>\n",
       "    <tr>\n",
       "      <th>1</th>\n",
       "      <td>b78dccfd64ce659af7061c5743b6b9305814336bc9ddec...</td>\n",
       "      <td>4836bfc632a2a5987d47fa6bf0637c21c4466a0e99ddee...</td>\n",
       "      <td>T_Legacy_Active0X_H</td>\n",
       "    </tr>\n",
       "  </tbody>\n",
       "</table>\n",
       "</div>"
      ],
      "text/plain": [
       "                                  customer_id_hashed  \\\n",
       "0  84e657f1f656952fb9412a63022017769d59a70cc36883...   \n",
       "1  b78dccfd64ce659af7061c5743b6b9305814336bc9ddec...   \n",
       "\n",
       "                                  email_address_hash segment_2020Q4_Refresh  \n",
       "0  64048ee5fbef6db265cf2890276f25c71029da14e7749b...      T_SOTF_Active0X_H  \n",
       "1  4836bfc632a2a5987d47fa6bf0637c21c4466a0e99ddee...    T_Legacy_Active0X_H  "
      ]
     },
     "execution_count": 13,
     "metadata": {},
     "output_type": "execute_result"
    }
   ],
   "source": [
    "df_output_FB=df_all[['customer_id_hashed','email_address_hash','segment_2020Q4_Refresh']]\n",
    "df_output_FB['segment_2020Q4_Refresh']=\"T_\"+df_output_FB['segment_2020Q4_Refresh']\n",
    "df_output_FB['segment_2020Q4_Refresh']=df_output_FB['segment_2020Q4_Refresh'].str.replace(\"_T\",\"\").str.replace(\"_PS\",\"\")\n",
    "df_output_FB.head(2)"
   ]
  },
  {
   "cell_type": "code",
   "execution_count": 14,
   "metadata": {},
   "outputs": [
    {
     "data": {
      "text/plain": [
       "['T_Legacy_Active0X_H',\n",
       " 'T_Legacy_Active0X_L',\n",
       " 'T_Legacy_Active0X_M',\n",
       " 'T_Legacy_ActiveX12_L',\n",
       " 'T_Legacy_ActiveX12_M',\n",
       " 'T_Legacy_Lapsed1318_L',\n",
       " 'T_Legacy_Lapsed1924_Unknown',\n",
       " 'T_Legacy_Lapsed2530_Unknown',\n",
       " 'T_SOTF_Active0X_H',\n",
       " 'T_SOTF_Active0X_L',\n",
       " 'T_SOTF_Active0X_M',\n",
       " 'T_SOTF_ActiveX12_L',\n",
       " 'T_SOTF_ActiveX12_M',\n",
       " 'T_SOTF_Lapsed1318_L',\n",
       " 'T_SOTF_Lapsed1924_Unknown',\n",
       " 'T_SOTF_Lapsed2530_Unknown',\n",
       " 'T_SignUpNoPurchase_2_12']"
      ]
     },
     "execution_count": 14,
     "metadata": {},
     "output_type": "execute_result"
    }
   ],
   "source": [
    "list_seg_FB=df_output_FB['segment_2020Q4_Refresh'].unique().tolist()\n",
    "list_seg_FB.sort()\n",
    "list_seg_FB"
   ]
  },
  {
   "cell_type": "code",
   "execution_count": 15,
   "metadata": {},
   "outputs": [
    {
     "data": {
      "text/plain": [
       "True"
      ]
     },
     "execution_count": 15,
     "metadata": {},
     "output_type": "execute_result"
    }
   ],
   "source": [
    "sorted([x+\".csv\" for x in list_seg_FB])==sorted([os.path.basename(x) for x in list_initial_FB_files])\n"
   ]
  },
  {
   "cell_type": "code",
   "execution_count": 16,
   "metadata": {},
   "outputs": [
    {
     "name": "stdout",
     "output_type": "stream",
     "text": [
      "True\n",
      "True\n",
      "True\n",
      "True\n",
      "True\n",
      "True\n",
      "True\n",
      "True\n",
      "True\n",
      "True\n",
      "True\n",
      "True\n",
      "True\n",
      "True\n",
      "True\n",
      "True\n",
      "True\n"
     ]
    }
   ],
   "source": [
    "for i in range(17):\n",
    "    print(sorted([x+\".csv\" for x in list_seg_FB])[i]==sorted([os.path.basename(x) for x in list_initial_FB_files])[i])\n",
    "    "
   ]
  },
  {
   "cell_type": "code",
   "execution_count": 17,
   "metadata": {},
   "outputs": [
    {
     "name": "stdout",
     "output_type": "stream",
     "text": [
      "2020-12-10 23:45:54.452962 T_Legacy_Active0X_H\n",
      "5659745 5420744 2460407 2221406\n",
      "2020-12-10 23:46:03.017557 T_Legacy_Active0X_L\n",
      "1363408 583080 870067 89739\n",
      "2020-12-10 23:46:45.386377 T_Legacy_Active0X_M\n",
      "4043085 3394596 2384296 1735807\n",
      "2020-12-10 23:47:01.382756 T_Legacy_ActiveX12_L\n",
      "911116 1623504 231217 943605\n",
      "2020-12-10 23:47:06.968724 T_Legacy_ActiveX12_M\n",
      "186302 693349 4839 511886\n",
      "2020-12-10 23:47:27.113536 T_Legacy_Lapsed1318_L\n",
      "2036480 1974357 824426 762303\n",
      "2020-12-10 23:47:42.345680 T_Legacy_Lapsed1924_Unknown\n",
      "1259425 1495070 546606 782251\n",
      "2020-12-10 23:47:56.950640 T_Legacy_Lapsed2530_Unknown\n",
      "1648082 1415827 729819 497564\n",
      "2020-12-10 23:48:26.542436 T_SOTF_Active0X_H\n",
      "3105083 2981465 1361645 1238027\n",
      "2020-12-10 23:48:31.875181 T_SOTF_Active0X_L\n",
      "740092 313312 475847 49067\n",
      "2020-12-10 23:48:53.065320 T_SOTF_Active0X_M\n",
      "2233540 1853523 1326257 946240\n",
      "2020-12-10 23:49:00.495234 T_SOTF_ActiveX12_L\n",
      "480314 854682 121486 495854\n",
      "2020-12-10 23:49:03.325441 T_SOTF_ActiveX12_M\n",
      "97377 360186 3286 266095\n",
      "2020-12-10 23:49:13.627265 T_SOTF_Lapsed1318_L\n",
      "1024490 952716 434347 362573\n",
      "2020-12-10 23:49:19.918425 T_SOTF_Lapsed1924_Unknown\n",
      "557779 646179 249699 338099\n",
      "2020-12-10 23:49:25.774566 T_SOTF_Lapsed2530_Unknown\n",
      "690920 576620 320092 205792\n",
      "2020-12-10 23:49:53.348012 T_SignUpNoPurchase_2_12\n",
      "3439328 3286070 646987 493729\n"
     ]
    }
   ],
   "source": [
    "for seg,df_group in df_output_FB.groupby(\"segment_2020Q4_Refresh\"):\n",
    "    file_old=output_folder_FB+\"output_2020-10-09/%s.csv\"%seg\n",
    "    df_old=pd.read_csv(file_old,dtype=str)\n",
    "    \n",
    "    df_seg_incremental=df_group[~df_group['email_address_hash'].isin(df_old['email_address_hash'].tolist())]\n",
    "    df_seg_delete=df_old[~df_old['email_address_hash'].isin(df_group['email_address_hash'].tolist())]\n",
    "    \n",
    "    df_seg_incremental.to_csv(output_folder_FB_inner+\"users_to_add_%s.csv\"%seg,index=False)\n",
    "    df_seg_delete.to_csv(output_folder_FB_inner+\"users_to_remove_%s.csv\"%seg,index=False)\n",
    "    print(datetime.datetime.now(),seg)\n",
    "    print(df_group.shape[0],df_old.shape[0],df_seg_incremental.shape[0],df_seg_delete.shape[0])"
   ]
  },
  {
   "cell_type": "code",
   "execution_count": 43,
   "metadata": {},
   "outputs": [
    {
     "data": {
      "text/plain": [
       "0.1539051245112163"
      ]
     },
     "execution_count": 43,
     "metadata": {},
     "output_type": "execute_result"
    }
   ],
   "source": [
    "89739/583080"
   ]
  },
  {
   "cell_type": "code",
   "execution_count": null,
   "metadata": {},
   "outputs": [],
   "source": [
    "1363408 583080 870067 89739"
   ]
  },
  {
   "cell_type": "markdown",
   "metadata": {},
   "source": [
    "# Uploading"
   ]
  },
  {
   "cell_type": "code",
   "execution_count": 35,
   "metadata": {},
   "outputs": [],
   "source": [
    "# LR\n",
    "\n",
    "import paramiko\n",
    "host = \"files.liveramp.com\"\n",
    "port = 22\n",
    "password = \"Biglots2018!\"\n",
    "username = \"lr-big-lots\"\n",
    "\n",
    "transport = paramiko.Transport((host, port))\n",
    "\n",
    "transport.connect(username = username, password = password)\n",
    "sftp = paramiko.SFTPClient.from_transport(transport)\n"
   ]
  },
  {
   "cell_type": "code",
   "execution_count": 36,
   "metadata": {},
   "outputs": [
    {
     "name": "stdout",
     "output_type": "stream",
     "text": [
      "./uploaded_file_LR/BL_2020Q4_audience_Refreshable_JL_2020-12-10.csv\n"
     ]
    }
   ],
   "source": [
    "local_file=output_folder_LR+\"BL_2020Q4_audience_Refreshable_JL_%s.csv\"%str(datetime.datetime.now().date())\n",
    "print(local_file)"
   ]
  },
  {
   "cell_type": "code",
   "execution_count": 37,
   "metadata": {},
   "outputs": [
    {
     "data": {
      "text/html": [
       "<div>\n",
       "<style scoped>\n",
       "    .dataframe tbody tr th:only-of-type {\n",
       "        vertical-align: middle;\n",
       "    }\n",
       "\n",
       "    .dataframe tbody tr th {\n",
       "        vertical-align: top;\n",
       "    }\n",
       "\n",
       "    .dataframe thead th {\n",
       "        text-align: right;\n",
       "    }\n",
       "</style>\n",
       "<table border=\"1\" class=\"dataframe\">\n",
       "  <thead>\n",
       "    <tr style=\"text-align: right;\">\n",
       "      <th></th>\n",
       "      <th>customer_id_hashed</th>\n",
       "      <th>email_address_hash</th>\n",
       "      <th>updated_segment_2020Q4_Refresh</th>\n",
       "    </tr>\n",
       "  </thead>\n",
       "  <tbody>\n",
       "    <tr>\n",
       "      <th>0</th>\n",
       "      <td>84e657f1f656952fb9412a63022017769d59a70cc36883...</td>\n",
       "      <td>64048ee5fbef6db265cf2890276f25c71029da14e7749b...</td>\n",
       "      <td>Refreshable_LR_Rewards_T_SOTF_Active0X_H_PS</td>\n",
       "    </tr>\n",
       "    <tr>\n",
       "      <th>1</th>\n",
       "      <td>b78dccfd64ce659af7061c5743b6b9305814336bc9ddec...</td>\n",
       "      <td>4836bfc632a2a5987d47fa6bf0637c21c4466a0e99ddee...</td>\n",
       "      <td>Refreshable_LR_Rewards_T_Legacy_Active0X_H_PS</td>\n",
       "    </tr>\n",
       "  </tbody>\n",
       "</table>\n",
       "</div>"
      ],
      "text/plain": [
       "                                  customer_id_hashed  \\\n",
       "0  84e657f1f656952fb9412a63022017769d59a70cc36883...   \n",
       "1  b78dccfd64ce659af7061c5743b6b9305814336bc9ddec...   \n",
       "\n",
       "                                  email_address_hash  \\\n",
       "0  64048ee5fbef6db265cf2890276f25c71029da14e7749b...   \n",
       "1  4836bfc632a2a5987d47fa6bf0637c21c4466a0e99ddee...   \n",
       "\n",
       "                  updated_segment_2020Q4_Refresh  \n",
       "0    Refreshable_LR_Rewards_T_SOTF_Active0X_H_PS  \n",
       "1  Refreshable_LR_Rewards_T_Legacy_Active0X_H_PS  "
      ]
     },
     "execution_count": 37,
     "metadata": {},
     "output_type": "execute_result"
    }
   ],
   "source": [
    "df_output_LR.head(2)"
   ]
  },
  {
   "cell_type": "code",
   "execution_count": 38,
   "metadata": {},
   "outputs": [
    {
     "name": "stdout",
     "output_type": "stream",
     "text": [
      "Done: 2020-12-10 23:23:56.362148\n"
     ]
    }
   ],
   "source": [
    "base_name=os.path.basename(local_file)\n",
    "remote_name=\"/uploads/big_lots_onboarding_refresh/\"+base_name\n",
    "sftp.put(local_file,remote_name)\n",
    "    \n",
    "print(\"Done: \"+str(datetime.datetime.now()))"
   ]
  },
  {
   "cell_type": "code",
   "execution_count": null,
   "metadata": {},
   "outputs": [],
   "source": []
  }
 ],
 "metadata": {
  "kernelspec": {
   "display_name": "Python 3",
   "language": "python",
   "name": "python3"
  },
  "language_info": {
   "codemirror_mode": {
    "name": "ipython",
    "version": 3
   },
   "file_extension": ".py",
   "mimetype": "text/x-python",
   "name": "python",
   "nbconvert_exporter": "python",
   "pygments_lexer": "ipython3",
   "version": "3.7.6"
  }
 },
 "nbformat": 4,
 "nbformat_minor": 2
}
