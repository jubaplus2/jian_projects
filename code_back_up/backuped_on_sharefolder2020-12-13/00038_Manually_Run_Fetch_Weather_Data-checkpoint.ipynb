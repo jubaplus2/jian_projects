{
 "cells": [
  {
   "cell_type": "code",
   "execution_count": 1,
   "metadata": {
    "collapsed": true
   },
   "outputs": [],
   "source": [
    "import json\n",
    "from urllib import request\n",
    "import time\n",
    "import datetime\n",
    "\n",
    "import logging\n",
    "logging.basicConfig(filename='/home/jian/Projects/Big_Lots/Weather/Json_data/weather_celery/openweathermap.log',level=logging.INFO,format='%(asctime)s %(message)s')\n"
   ]
  },
  {
   "cell_type": "code",
   "execution_count": 2,
   "metadata": {
    "collapsed": true
   },
   "outputs": [],
   "source": [
    "def fetch_all_zips():\n",
    "    zip_list =json.load(open('/home/jian/Projects/Big_Lots/Weather/Json_data/weather_celery/zip_set.json', 'r'))\n",
    "\n",
    "    weather_by_zip = dict()\n",
    "    for zip_code in zip_list:\n",
    "        url = 'http://api.openweathermap.org/data/2.5/weather?zip=%s,us&appid=931f5e95a5c3b97de1c2fccdff056857'%zip_code\n",
    "        time.sleep(1)\n",
    "        try:\n",
    "            req = request.urlopen(url)\n",
    "            # response = urllib2.urlopen(req)\n",
    "            result = req.read()\n",
    "\n",
    "            weather_by_zip[zip_code] = eval(result)\n",
    "            \n",
    "            #logging.info('%s suceeded.'%zip_code)\n",
    "        except Exception as e:\n",
    "            logging.info('%s %s'%(zip_code, e))\n",
    "\n",
    "    json.dump(weather_by_zip, open('/home/jian/Projects/Big_Lots/Weather/Json_data/daily/%s.json'%datetime.datetime.now().strftime('%Y-%m-%d: %H'), 'w'))\n",
    "    \n",
    "    forcast_weather_by_zip = dict()\n",
    "    for zip_code in zip_list:\n",
    "        url = 'http://api.openweathermap.org/data/2.5/forecast?zip=%s,us&appid=931f5e95a5c3b97de1c2fccdff056857'%zip_code\n",
    "        time.sleep(1)\n",
    "        try:\n",
    "            req = request.urlopen(url)\n",
    "            # response = urllib2.urlopen(req)\n",
    "            result = req.read()\n",
    "\n",
    "            forcast_weather_by_zip[zip_code] = eval(result)\n",
    "            \n",
    "            #logging.info('%s suceeded.'%zip_code)\n",
    "        except Exception as e:\n",
    "            logging.info('%s %s'%(zip_code, e))\n",
    "\n",
    "    json.dump(forcast_weather_by_zip, open('/home/jian/Projects/Big_Lots/Weather/Json_data/forecast/%s.json'%datetime.datetime.now().strftime('%Y-%m-%d: %H'), 'w'))\n"
   ]
  },
  {
   "cell_type": "code",
   "execution_count": 3,
   "metadata": {
    "collapsed": true
   },
   "outputs": [],
   "source": [
    "fetch_all_zips()"
   ]
  },
  {
   "cell_type": "code",
   "execution_count": null,
   "metadata": {
    "collapsed": true
   },
   "outputs": [],
   "source": []
  }
 ],
 "metadata": {
  "kernelspec": {
   "display_name": "Python 3",
   "language": "python",
   "name": "python3"
  },
  "language_info": {
   "codemirror_mode": {
    "name": "ipython",
    "version": 3
   },
   "file_extension": ".py",
   "mimetype": "text/x-python",
   "name": "python",
   "nbconvert_exporter": "python",
   "pygments_lexer": "ipython3",
   "version": "3.6.1"
  }
 },
 "nbformat": 4,
 "nbformat_minor": 2
}
