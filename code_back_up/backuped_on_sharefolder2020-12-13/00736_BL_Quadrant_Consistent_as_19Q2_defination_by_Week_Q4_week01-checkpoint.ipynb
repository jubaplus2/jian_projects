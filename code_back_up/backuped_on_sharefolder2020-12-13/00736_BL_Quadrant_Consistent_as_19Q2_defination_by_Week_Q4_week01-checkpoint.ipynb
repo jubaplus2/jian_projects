{
 "cells": [
  {
   "cell_type": "code",
   "execution_count": 1,
   "metadata": {
    "collapsed": true
   },
   "outputs": [],
   "source": [
    "# Can be autimated across quarter if needed\n",
    "# To be noted that rolled up to store levels first, and then sum up which results in inflation \n",
    "import pandas as pd\n",
    "import numpy as np\n",
    "import datetime\n",
    "import os\n",
    "import glob\n",
    "\n",
    "\n",
    "def recursive_file_gen(my_root_dir):\n",
    "    for root, dirs, files in os.walk(my_root_dir):\n",
    "        for file in files:\n",
    "            yield os.path.join(root, file)"
   ]
  },
  {
   "cell_type": "code",
   "execution_count": 2,
   "metadata": {},
   "outputs": [
    {
     "data": {
      "text/plain": [
       "14"
      ]
     },
     "execution_count": 2,
     "metadata": {},
     "output_type": "execute_result"
    }
   ],
   "source": [
    "# Fix fisrt week\n",
    "last_saturday=datetime.datetime.now().date()-datetime.timedelta(days=datetime.datetime.now().date().weekday()+2)\n",
    "\n",
    "\n",
    "First_week_ending_Q3_2019=datetime.date(2019,8,10)\n",
    "\n",
    "last_year_week=last_saturday-datetime.timedelta(days=52*7)\n",
    "\n",
    "Nth_week=int((last_saturday-First_week_ending_Q3_2019).days/7)+1\n",
    "\n",
    "write_folder=\"/home/jian/Projects/Big_Lots/Analysis/2019_Q3/BL_Excutive_Dashboard/output/output_\"+str(last_saturday)+\"/\"\n",
    "try:\n",
    "    os.stat(write_folder)\n",
    "except:\n",
    "    os.mkdir(write_folder)\n",
    "str(last_saturday)\n",
    "Nth_week"
   ]
  },
  {
   "cell_type": "code",
   "execution_count": 3,
   "metadata": {
    "collapsed": true
   },
   "outputs": [],
   "source": [
    "# Checking for the recent weeks that haven't moved to the folder\n",
    "possible_recent_folders=\"/home/jian/BigLots/MediaStorm_\"+str(last_saturday)+\"/\"\n",
    "daily_data_recent=[x for x in list(recursive_file_gen(possible_recent_folders)) if (\"aily\" in x) & (\".txt\" in x)]\n",
    "\n",
    "archived_folders_2018=\"/home/jian/BigLots/2018_by_weeks/MediaStorm_\"+str(last_saturday)+\"/\"\n",
    "daily_data_2018_achived=[x for x in list(recursive_file_gen(archived_folders_2018)) if (\"aily\" in x) & (\".txt\" in x)]\n",
    "\n",
    "archived_folders_2019=\"/home/jian/BigLots/2019_by_weeks/MediaStorm_\"+str(last_saturday)+\"/\"\n",
    "daily_data_2019_achived=[x for x in list(recursive_file_gen(archived_folders_2019)) if (\"aily\" in x) & (\".txt\" in x)]\n",
    "\n",
    "daily_data_list=daily_data_recent+daily_data_2018_achived+daily_data_2019_achived\n",
    "if len(daily_data_list)!=1:\n",
    "    print(\"Error of Daily Sales Data Path\")\n",
    "else:\n",
    "    daily_data_path_this_year=daily_data_list[0]"
   ]
  },
  {
   "cell_type": "code",
   "execution_count": 4,
   "metadata": {},
   "outputs": [
    {
     "name": "stdout",
     "output_type": "stream",
     "text": [
      "daily_data_path_last_year:  /home/jian/BigLots/hist_daily_data_itemlevel_decompressed/MediaStormDailySalesHistory20181110.txt\n"
     ]
    }
   ],
   "source": [
    "daily_data_list_hist=list(recursive_file_gen(\"/home/jian/BigLots/hist_daily_data_itemlevel_decompressed/\"))\n",
    "daily_data_list_hist=[x for x in daily_data_list_hist if (str(last_year_week).replace(\"-\",\"\") in x)&(\"DailySales\" in x)]\n",
    "if len(daily_data_list_hist)!=1:\n",
    "    print(\"Error of Daily Sales Data Path\")\n",
    "else:\n",
    "    daily_data_path_last_year=daily_data_list_hist[0]\n",
    "print(\"daily_data_path_last_year: \",daily_data_path_last_year)"
   ]
  },
  {
   "cell_type": "code",
   "execution_count": 5,
   "metadata": {},
   "outputs": [
    {
     "data": {
      "text/plain": [
       "(1339, 2)"
      ]
     },
     "execution_count": 5,
     "metadata": {},
     "output_type": "execute_result"
    }
   ],
   "source": [
    "# Actually it's 2019Q1 as in the excel\n",
    "Df_Quadrant=pd.read_excel(\"/home/jian/celery/Excutive_Dashboard/quadrant_file/Excel_BL_2019_Q2_post_quadrants_JL_2019-08-13.xlsx\",\n",
    "                                 dype=str,sheet_name=\"2019_Q2_Store_Quad_Defination\",usecols=['location_id','Quadrant'])\n",
    "Df_Quadrant['location_id']=Df_Quadrant['location_id'].astype(str)\n",
    "Df_Quadrant.shape"
   ]
  },
  {
   "cell_type": "code",
   "execution_count": 6,
   "metadata": {
    "collapsed": true
   },
   "outputs": [],
   "source": [
    "def agg_daily_data_by_store_item_level(file_path_daily):\n",
    "    df=pd.read_table(file_path_daily,dtype=str,sep=\"|\",usecols=['location_id','transaction_dt','transaction_id','customer_id_hashed','item_transaction_amt'])\n",
    "    df=df[df['location_id']!=\"6990\"] # 6990 removed\n",
    "    df['item_transaction_amt']=df['item_transaction_amt'].astype(float)\n",
    "    df['Reward_Level']=np.where(pd.isnull(df['customer_id_hashed']),\"Non_Rewards\",\"Rewards\")\n",
    "    \n",
    "    print(\"Total_Sales:\",df['item_transaction_amt'].sum())\n",
    "    df_sales=df.groupby(['location_id','Reward_Level'])['item_transaction_amt'].sum().to_frame().reset_index().rename(columns={\"item_transaction_amt\":\"Sales\"})\n",
    "    df_trans=df[['location_id','transaction_dt','transaction_id','customer_id_hashed','Reward_Level']].drop_duplicates().groupby(['location_id','Reward_Level'])['transaction_id'].count().to_frame().reset_index().rename(columns={\"transaction_id\":\"Transactions\"})\n",
    "    \n",
    "    df=df[df['Reward_Level']==\"Rewards\"]\n",
    "    df_ids=df.groupby(['location_id','Reward_Level'])['customer_id_hashed'].nunique().to_frame().reset_index().rename(columns={\"customer_id_hashed\":\"shopped_unique_ids_in_the_week\"})\n",
    "    \n",
    "    df=pd.merge(df_sales,df_trans,on=[\"location_id\",'Reward_Level'],how=\"outer\")\n",
    "    df=pd.merge(df,df_ids,on=[\"location_id\",'Reward_Level'],how=\"outer\")\n",
    "    \n",
    "    return df"
   ]
  },
  {
   "cell_type": "code",
   "execution_count": 7,
   "metadata": {},
   "outputs": [
    {
     "name": "stdout",
     "output_type": "stream",
     "text": [
      "/home/jian/BigLots/MediaStorm_2019-11-09/MediaStormDailySales20191112-115210-002.txt\n",
      "/home/jian/BigLots/hist_daily_data_itemlevel_decompressed/MediaStormDailySalesHistory20181110.txt\n"
     ]
    }
   ],
   "source": [
    "print(daily_data_path_this_year)\n",
    "print(daily_data_path_last_year)\n"
   ]
  },
  {
   "cell_type": "code",
   "execution_count": 8,
   "metadata": {},
   "outputs": [
    {
     "name": "stdout",
     "output_type": "stream",
     "text": [
      "Total_Sales: 103350827.03999987\n",
      "Total_Sales: 98328056.9000001\n"
     ]
    }
   ],
   "source": [
    "df_daily_this_year_by_store=agg_daily_data_by_store_item_level(daily_data_path_this_year)\n",
    "df_daily_last_year_by_store=agg_daily_data_by_store_item_level(daily_data_path_last_year)\n"
   ]
  },
  {
   "cell_type": "code",
   "execution_count": 9,
   "metadata": {
    "collapsed": true
   },
   "outputs": [],
   "source": [
    "df_daily_this_year_by_store.columns=df_daily_this_year_by_store.columns.tolist()[:2]+[\"This_Year_\"+x for x in df_daily_this_year_by_store.columns.tolist()[2:]]\n",
    "df_daily_last_year_by_store.columns=df_daily_last_year_by_store.columns.tolist()[:2]+[\"Last_Year_\"+x for x in df_daily_last_year_by_store.columns.tolist()[2:]]\n",
    "both_year=pd.merge(df_daily_this_year_by_store,df_daily_last_year_by_store,on=['location_id','Reward_Level'],how=\"outer\")\n",
    "both_year=pd.merge(both_year,Df_Quadrant,on=\"location_id\",how=\"left\")\n",
    "\n"
   ]
  },
  {
   "cell_type": "code",
   "execution_count": 10,
   "metadata": {
    "collapsed": true
   },
   "outputs": [],
   "source": [
    "both_year_exlusion_last_year=both_year[(pd.isnull(both_year['Last_Year_Sales'])) | (pd.isnull(both_year['Last_Year_Transactions']))]\n",
    "both_year_exlusion_this_year=both_year[(pd.isnull(both_year['This_Year_Sales'])) | (pd.isnull(both_year['This_Year_Transactions']))]\n",
    "exlusion_no_quad=both_year[pd.isnull(both_year['Quadrant'])]\n",
    "\n",
    "all_exclusion_stores=set(both_year_exlusion_last_year['location_id'].tolist()+both_year_exlusion_this_year['location_id'].tolist()+exlusion_no_quad['location_id'].tolist())\n"
   ]
  },
  {
   "cell_type": "code",
   "execution_count": 11,
   "metadata": {},
   "outputs": [
    {
     "name": "stderr",
     "output_type": "stream",
     "text": [
      "/home/jian/.local/lib/python3.6/site-packages/pandas/core/frame.py:7138: FutureWarning: Sorting because non-concatenation axis is not aligned. A future version\n",
      "of pandas will change to not sort by default.\n",
      "\n",
      "To accept the future behavior, pass 'sort=False'.\n",
      "\n",
      "To retain the current behavior and silence the warning, pass 'sort=True'.\n",
      "\n",
      "  sort=sort,\n"
     ]
    }
   ],
   "source": [
    "both_year_inclusions=both_year[~both_year['location_id'].isin(all_exclusion_stores)]\n",
    "\n",
    "both_year_inclusions_Total=both_year_inclusions.groupby(['Reward_Level'])['This_Year_Sales','This_Year_Transactions','This_Year_shopped_unique_ids_in_the_week','Last_Year_Sales','Last_Year_Transactions','Last_Year_shopped_unique_ids_in_the_week'].sum().reset_index()\n",
    "both_year_inclusions_Total[\"Summary_Level\"]=\"Total\"\n",
    "both_year_inclusions_Total_store_counts=both_year_inclusions.groupby(['Reward_Level'])['location_id'].nunique().reset_index().rename(columns={\"location_id\":\"store_counts\"})\n",
    "both_year_inclusions_Total=pd.merge(both_year_inclusions_Total,both_year_inclusions_Total_store_counts,on=\"Reward_Level\")\n",
    "\n",
    "both_year_inclusions_Quad=both_year_inclusions.groupby(['Reward_Level','Quadrant'])['This_Year_Sales','This_Year_Transactions','This_Year_shopped_unique_ids_in_the_week','Last_Year_Sales','Last_Year_Transactions','Last_Year_shopped_unique_ids_in_the_week'].sum().reset_index()\n",
    "both_year_inclusions_Quad_store_counts=both_year_inclusions.groupby(['Reward_Level','Quadrant'])['location_id'].nunique().reset_index().rename(columns={\"location_id\":\"store_counts\"})\n",
    "both_year_inclusions_Quad=pd.merge(both_year_inclusions_Quad,both_year_inclusions_Quad_store_counts,on=[\"Reward_Level\",\"Quadrant\"])\n",
    "both_year_inclusions_Quad=both_year_inclusions_Quad.rename(columns={\"Quadrant\":\"Summary_Level\"})\n",
    "\n",
    "output=both_year_inclusions_Total.append(both_year_inclusions_Quad)\n",
    "output=output.sort_values(['Summary_Level','Reward_Level'],ascending=[True,False])\n",
    "\n",
    "output=output[output['Summary_Level']==\"Total\"].append(output[output['Summary_Level']!=\"Total\"])\n",
    "\n",
    "output_sales_both_R_N=output.groupby(['Summary_Level'])['This_Year_Sales'].sum().to_frame().reset_index().rename(columns={\"This_Year_Sales\":\"This_week_Total_R_and_N\"})\n",
    "output=pd.merge(output,output_sales_both_R_N,on=\"Summary_Level\")\n",
    "\n"
   ]
  },
  {
   "cell_type": "code",
   "execution_count": 12,
   "metadata": {
    "collapsed": true
   },
   "outputs": [],
   "source": [
    "output['YoY_Incr_Sales']=np.round((output['This_Year_Sales']-output['Last_Year_Sales'])/output['Last_Year_Sales'],4)\n",
    "output['YoY_Incr_Rew_Shoppers']=np.round((output['This_Year_shopped_unique_ids_in_the_week']-output['Last_Year_shopped_unique_ids_in_the_week'])/output['Last_Year_shopped_unique_ids_in_the_week'],4)\n",
    "output['YoY_Incr_Transactions']=np.round((output['This_Year_Transactions']-output['Last_Year_Transactions'])/output['Last_Year_Transactions'],4)\n",
    "output['Avg_Order_Value']=np.round(output['This_Year_Sales']/output['This_Year_Transactions'],4)\n",
    "\n",
    "output['Rew/Non-Rew_Share_of_Sales']=np.round(output['This_Year_Sales']/output['This_week_Total_R_and_N'],4)\n",
    "output['Week_Ending_Date']=str(last_saturday)"
   ]
  },
  {
   "cell_type": "code",
   "execution_count": 13,
   "metadata": {
    "collapsed": true
   },
   "outputs": [],
   "source": [
    "output_final=output[['Week_Ending_Date','Summary_Level','Reward_Level','store_counts','YoY_Incr_Sales','YoY_Incr_Rew_Shoppers','YoY_Incr_Transactions','Avg_Order_Value',\n",
    "                     'Rew/Non-Rew_Share_of_Sales','This_Year_Transactions','This_Year_Sales','This_Year_shopped_unique_ids_in_the_week']].rename(columns={\"This_Year_Transactions\":\"Transactions_last_7_days\",\n",
    "                     \"This_Year_Sales\":\"Sales_last_7_days\",\"This_Year_shopped_unique_ids_in_the_week\":\"Shopped_Rew_Unique_IDs_last_7_days\"})\n"
   ]
  },
  {
   "cell_type": "code",
   "execution_count": 14,
   "metadata": {},
   "outputs": [
    {
     "name": "stderr",
     "output_type": "stream",
     "text": [
      "/usr/local/lib/python3.6/site-packages/ipykernel_launcher.py:2: SettingWithCopyWarning: \n",
      "A value is trying to be set on a copy of a slice from a DataFrame.\n",
      "Try using .loc[row_indexer,col_indexer] = value instead\n",
      "\n",
      "See the caveats in the documentation: http://pandas.pydata.org/pandas-docs/stable/user_guide/indexing.html#returning-a-view-versus-a-copy\n",
      "  \n",
      "/usr/local/lib/python3.6/site-packages/ipykernel_launcher.py:5: SettingWithCopyWarning: \n",
      "A value is trying to be set on a copy of a slice from a DataFrame.\n",
      "Try using .loc[row_indexer,col_indexer] = value instead\n",
      "\n",
      "See the caveats in the documentation: http://pandas.pydata.org/pandas-docs/stable/user_guide/indexing.html#returning-a-view-versus-a-copy\n",
      "  \"\"\"\n",
      "/usr/local/lib/python3.6/site-packages/ipykernel_launcher.py:8: SettingWithCopyWarning: \n",
      "A value is trying to be set on a copy of a slice from a DataFrame.\n",
      "Try using .loc[row_indexer,col_indexer] = value instead\n",
      "\n",
      "See the caveats in the documentation: http://pandas.pydata.org/pandas-docs/stable/user_guide/indexing.html#returning-a-view-versus-a-copy\n",
      "  \n"
     ]
    }
   ],
   "source": [
    "exclusion_1=exlusion_no_quad[['location_id']]\n",
    "exclusion_1['exclusion']=\"Not_Defined_Quadrant\"\n",
    "\n",
    "exclusion_2=both_year_exlusion_last_year[['location_id']]\n",
    "exclusion_2['exclusion']=\"Lack_of_week_last_year\"\n",
    "\n",
    "exclusion_3=both_year_exlusion_this_year[['location_id']]\n",
    "exclusion_3['exclusion']=\"Lack_of_week_this_year\"\n",
    "\n",
    "exclusion_df=exclusion_3.append(exclusion_2).append(exclusion_1).drop_duplicates('location_id')\n",
    "exclusion_df['Week_Ending_Date']=str(last_saturday)"
   ]
  },
  {
   "cell_type": "code",
   "execution_count": 15,
   "metadata": {
    "collapsed": true
   },
   "outputs": [],
   "source": [
    "def int_ceil_not_NA(x):\n",
    "    if ~np.isnan(x):\n",
    "        y=int(np.ceil(x))\n",
    "    else:\n",
    "        y=x\n",
    "    return y\n",
    "\n",
    "\n",
    "output_final=output_final.rename(columns={\"Week_Ending_Date\":\"Week Ending Date\",\"Summary_Level\":\"Summary Level\",\"Reward_Level\":\"Reward Level\",\n",
    "                         \"store_counts\":\"# Stores\",\"YoY_Incr_Sales\":\"YOY incr Sales/Store\",\"YoY_Incr_Rew_Shoppers\":\"YOY incr Rew Shoppers/Store\",\n",
    "                         \"YoY_Incr_Transactions\":\"YOY incr Transactions/Store\",\"Avg_Order_Value\":\"Avg Order Value\",\n",
    "                         \"Rew/Non-Rew_Share_of_Sales\":\"Rew share of Sales\",\"Transactions_last_7_days\":\"Transactions last 7 days\",\n",
    "                         \"Sales_last_7_days\":\"Total Sales Last 7 Days\",\"Shopped_Rew_Unique_IDs_last_7_days\":\"Shopped Rew IDs Last 7 days\"})\n",
    "output_final['Reward Level']=output_final['Reward Level'].replace(\"Non_Rewards\",\"Non-Rewards\")\n",
    "output_final['Avg # of Reward IDs shopped per store']=output_final['Shopped Rew IDs Last 7 days']/output_final['# Stores']\n",
    "\n",
    "output_final['Avg # of Reward IDs shopped per store']=output_final['Avg # of Reward IDs shopped per store'].apply(lambda x: int_ceil_not_NA(x))\n",
    "output_final['Weekly Cost']=np.nan"
   ]
  },
  {
   "cell_type": "code",
   "execution_count": 16,
   "metadata": {
    "collapsed": true
   },
   "outputs": [],
   "source": [
    "output_final.to_csv(write_folder+\"output_\"+str(last_saturday)+\".csv\",index=False)\n",
    "exclusion_df.to_csv(write_folder+\"exclusion_stores_\"+str(last_saturday)+\".csv\",index=False)\n",
    "both_year_inclusions.to_csv(write_folder+\"inclusion_by_store_\"+str(last_saturday)+\".csv\",index=False)"
   ]
  },
  {
   "cell_type": "code",
   "execution_count": 17,
   "metadata": {
    "collapsed": true
   },
   "outputs": [],
   "source": [
    "Simeng_recent_weekly_data_folder=\"/home/simeng/outputs_\"+str(last_saturday)+\"/\"\n",
    "\n",
    "output_final.to_csv(Simeng_recent_weekly_data_folder + 'output_quadrant.csv',index = False)"
   ]
  },
  {
   "cell_type": "code",
   "execution_count": 18,
   "metadata": {},
   "outputs": [
    {
     "name": "stdout",
     "output_type": "stream",
     "text": [
      "2019-11-12 16:52:18.383078\n"
     ]
    }
   ],
   "source": [
    "print(datetime.datetime.now())"
   ]
  },
  {
   "cell_type": "code",
   "execution_count": 19,
   "metadata": {},
   "outputs": [
    {
     "data": {
      "text/html": [
       "<div>\n",
       "<style scoped>\n",
       "    .dataframe tbody tr th:only-of-type {\n",
       "        vertical-align: middle;\n",
       "    }\n",
       "\n",
       "    .dataframe tbody tr th {\n",
       "        vertical-align: top;\n",
       "    }\n",
       "\n",
       "    .dataframe thead th {\n",
       "        text-align: right;\n",
       "    }\n",
       "</style>\n",
       "<table border=\"1\" class=\"dataframe\">\n",
       "  <thead>\n",
       "    <tr style=\"text-align: right;\">\n",
       "      <th></th>\n",
       "      <th>Week Ending Date</th>\n",
       "      <th>Summary Level</th>\n",
       "      <th>Reward Level</th>\n",
       "      <th># Stores</th>\n",
       "      <th>YOY incr Sales/Store</th>\n",
       "      <th>YOY incr Rew Shoppers/Store</th>\n",
       "      <th>YOY incr Transactions/Store</th>\n",
       "      <th>Avg Order Value</th>\n",
       "      <th>Rew share of Sales</th>\n",
       "      <th>Transactions last 7 days</th>\n",
       "      <th>Total Sales Last 7 Days</th>\n",
       "      <th>Shopped Rew IDs Last 7 days</th>\n",
       "      <th>Avg # of Reward IDs shopped per store</th>\n",
       "      <th>Weekly Cost</th>\n",
       "    </tr>\n",
       "  </thead>\n",
       "  <tbody>\n",
       "    <tr>\n",
       "      <th>0</th>\n",
       "      <td>2019-11-09</td>\n",
       "      <td>Total</td>\n",
       "      <td>Rewards</td>\n",
       "      <td>1325</td>\n",
       "      <td>0.1475</td>\n",
       "      <td>0.0833</td>\n",
       "      <td>0.1063</td>\n",
       "      <td>39.5856</td>\n",
       "      <td>0.6413</td>\n",
       "      <td>1547748.0</td>\n",
       "      <td>61268483.43</td>\n",
       "      <td>1274825.0</td>\n",
       "      <td>963</td>\n",
       "      <td>NaN</td>\n",
       "    </tr>\n",
       "    <tr>\n",
       "      <th>1</th>\n",
       "      <td>2019-11-09</td>\n",
       "      <td>Total</td>\n",
       "      <td>Non-Rewards</td>\n",
       "      <td>1325</td>\n",
       "      <td>-0.1240</td>\n",
       "      <td>NaN</td>\n",
       "      <td>-0.1928</td>\n",
       "      <td>28.1721</td>\n",
       "      <td>0.3587</td>\n",
       "      <td>1216505.0</td>\n",
       "      <td>34271469.39</td>\n",
       "      <td>0.0</td>\n",
       "      <td>0</td>\n",
       "      <td>NaN</td>\n",
       "    </tr>\n",
       "    <tr>\n",
       "      <th>2</th>\n",
       "      <td>2019-11-09</td>\n",
       "      <td>Quadrant I</td>\n",
       "      <td>Rewards</td>\n",
       "      <td>346</td>\n",
       "      <td>0.2181</td>\n",
       "      <td>0.1492</td>\n",
       "      <td>0.1819</td>\n",
       "      <td>39.2901</td>\n",
       "      <td>0.6541</td>\n",
       "      <td>447439.0</td>\n",
       "      <td>17579937.59</td>\n",
       "      <td>365650.0</td>\n",
       "      <td>1057</td>\n",
       "      <td>NaN</td>\n",
       "    </tr>\n",
       "    <tr>\n",
       "      <th>3</th>\n",
       "      <td>2019-11-09</td>\n",
       "      <td>Quadrant I</td>\n",
       "      <td>Non-Rewards</td>\n",
       "      <td>346</td>\n",
       "      <td>-0.1549</td>\n",
       "      <td>NaN</td>\n",
       "      <td>-0.2165</td>\n",
       "      <td>27.7021</td>\n",
       "      <td>0.3459</td>\n",
       "      <td>335600.0</td>\n",
       "      <td>9296828.10</td>\n",
       "      <td>0.0</td>\n",
       "      <td>0</td>\n",
       "      <td>NaN</td>\n",
       "    </tr>\n",
       "    <tr>\n",
       "      <th>4</th>\n",
       "      <td>2019-11-09</td>\n",
       "      <td>Quadrant II</td>\n",
       "      <td>Rewards</td>\n",
       "      <td>200</td>\n",
       "      <td>0.1483</td>\n",
       "      <td>0.1109</td>\n",
       "      <td>0.1433</td>\n",
       "      <td>36.1296</td>\n",
       "      <td>0.6243</td>\n",
       "      <td>248300.0</td>\n",
       "      <td>8970972.91</td>\n",
       "      <td>203132.0</td>\n",
       "      <td>1016</td>\n",
       "      <td>NaN</td>\n",
       "    </tr>\n",
       "    <tr>\n",
       "      <th>5</th>\n",
       "      <td>2019-11-09</td>\n",
       "      <td>Quadrant II</td>\n",
       "      <td>Non-Rewards</td>\n",
       "      <td>200</td>\n",
       "      <td>-0.1921</td>\n",
       "      <td>NaN</td>\n",
       "      <td>-0.2215</td>\n",
       "      <td>24.7933</td>\n",
       "      <td>0.3757</td>\n",
       "      <td>217710.0</td>\n",
       "      <td>5397738.93</td>\n",
       "      <td>0.0</td>\n",
       "      <td>0</td>\n",
       "      <td>NaN</td>\n",
       "    </tr>\n",
       "    <tr>\n",
       "      <th>6</th>\n",
       "      <td>2019-11-09</td>\n",
       "      <td>Quadrant III</td>\n",
       "      <td>Rewards</td>\n",
       "      <td>383</td>\n",
       "      <td>0.1039</td>\n",
       "      <td>0.0427</td>\n",
       "      <td>0.0603</td>\n",
       "      <td>39.6503</td>\n",
       "      <td>0.6315</td>\n",
       "      <td>418846.0</td>\n",
       "      <td>16607369.52</td>\n",
       "      <td>346819.0</td>\n",
       "      <td>906</td>\n",
       "      <td>NaN</td>\n",
       "    </tr>\n",
       "    <tr>\n",
       "      <th>7</th>\n",
       "      <td>2019-11-09</td>\n",
       "      <td>Quadrant III</td>\n",
       "      <td>Non-Rewards</td>\n",
       "      <td>383</td>\n",
       "      <td>-0.1153</td>\n",
       "      <td>NaN</td>\n",
       "      <td>-0.1864</td>\n",
       "      <td>28.7439</td>\n",
       "      <td>0.3685</td>\n",
       "      <td>337124.0</td>\n",
       "      <td>9690267.90</td>\n",
       "      <td>0.0</td>\n",
       "      <td>0</td>\n",
       "      <td>NaN</td>\n",
       "    </tr>\n",
       "    <tr>\n",
       "      <th>8</th>\n",
       "      <td>2019-11-09</td>\n",
       "      <td>Quadrant IV</td>\n",
       "      <td>Rewards</td>\n",
       "      <td>396</td>\n",
       "      <td>0.1245</td>\n",
       "      <td>0.0469</td>\n",
       "      <td>0.0610</td>\n",
       "      <td>41.8092</td>\n",
       "      <td>0.6469</td>\n",
       "      <td>433163.0</td>\n",
       "      <td>18110203.41</td>\n",
       "      <td>359224.0</td>\n",
       "      <td>908</td>\n",
       "      <td>NaN</td>\n",
       "    </tr>\n",
       "    <tr>\n",
       "      <th>9</th>\n",
       "      <td>2019-11-09</td>\n",
       "      <td>Quadrant IV</td>\n",
       "      <td>Non-Rewards</td>\n",
       "      <td>396</td>\n",
       "      <td>-0.0575</td>\n",
       "      <td>NaN</td>\n",
       "      <td>-0.1525</td>\n",
       "      <td>30.3205</td>\n",
       "      <td>0.3531</td>\n",
       "      <td>326071.0</td>\n",
       "      <td>9886634.46</td>\n",
       "      <td>0.0</td>\n",
       "      <td>0</td>\n",
       "      <td>NaN</td>\n",
       "    </tr>\n",
       "  </tbody>\n",
       "</table>\n",
       "</div>"
      ],
      "text/plain": [
       "  Week Ending Date Summary Level Reward Level  # Stores  YOY incr Sales/Store  \\\n",
       "0       2019-11-09         Total      Rewards      1325                0.1475   \n",
       "1       2019-11-09         Total  Non-Rewards      1325               -0.1240   \n",
       "2       2019-11-09    Quadrant I      Rewards       346                0.2181   \n",
       "3       2019-11-09    Quadrant I  Non-Rewards       346               -0.1549   \n",
       "4       2019-11-09   Quadrant II      Rewards       200                0.1483   \n",
       "5       2019-11-09   Quadrant II  Non-Rewards       200               -0.1921   \n",
       "6       2019-11-09  Quadrant III      Rewards       383                0.1039   \n",
       "7       2019-11-09  Quadrant III  Non-Rewards       383               -0.1153   \n",
       "8       2019-11-09   Quadrant IV      Rewards       396                0.1245   \n",
       "9       2019-11-09   Quadrant IV  Non-Rewards       396               -0.0575   \n",
       "\n",
       "   YOY incr Rew Shoppers/Store  YOY incr Transactions/Store  Avg Order Value  \\\n",
       "0                       0.0833                       0.1063          39.5856   \n",
       "1                          NaN                      -0.1928          28.1721   \n",
       "2                       0.1492                       0.1819          39.2901   \n",
       "3                          NaN                      -0.2165          27.7021   \n",
       "4                       0.1109                       0.1433          36.1296   \n",
       "5                          NaN                      -0.2215          24.7933   \n",
       "6                       0.0427                       0.0603          39.6503   \n",
       "7                          NaN                      -0.1864          28.7439   \n",
       "8                       0.0469                       0.0610          41.8092   \n",
       "9                          NaN                      -0.1525          30.3205   \n",
       "\n",
       "   Rew share of Sales  Transactions last 7 days  Total Sales Last 7 Days  \\\n",
       "0              0.6413                 1547748.0              61268483.43   \n",
       "1              0.3587                 1216505.0              34271469.39   \n",
       "2              0.6541                  447439.0              17579937.59   \n",
       "3              0.3459                  335600.0               9296828.10   \n",
       "4              0.6243                  248300.0               8970972.91   \n",
       "5              0.3757                  217710.0               5397738.93   \n",
       "6              0.6315                  418846.0              16607369.52   \n",
       "7              0.3685                  337124.0               9690267.90   \n",
       "8              0.6469                  433163.0              18110203.41   \n",
       "9              0.3531                  326071.0               9886634.46   \n",
       "\n",
       "   Shopped Rew IDs Last 7 days  Avg # of Reward IDs shopped per store  \\\n",
       "0                    1274825.0                                    963   \n",
       "1                          0.0                                      0   \n",
       "2                     365650.0                                   1057   \n",
       "3                          0.0                                      0   \n",
       "4                     203132.0                                   1016   \n",
       "5                          0.0                                      0   \n",
       "6                     346819.0                                    906   \n",
       "7                          0.0                                      0   \n",
       "8                     359224.0                                    908   \n",
       "9                          0.0                                      0   \n",
       "\n",
       "   Weekly Cost  \n",
       "0          NaN  \n",
       "1          NaN  \n",
       "2          NaN  \n",
       "3          NaN  \n",
       "4          NaN  \n",
       "5          NaN  \n",
       "6          NaN  \n",
       "7          NaN  \n",
       "8          NaN  \n",
       "9          NaN  "
      ]
     },
     "execution_count": 19,
     "metadata": {},
     "output_type": "execute_result"
    }
   ],
   "source": [
    "output_final"
   ]
  },
  {
   "cell_type": "code",
   "execution_count": null,
   "metadata": {
    "collapsed": true
   },
   "outputs": [],
   "source": []
  }
 ],
 "metadata": {
  "kernelspec": {
   "display_name": "Python 3",
   "language": "python",
   "name": "python3"
  },
  "language_info": {
   "codemirror_mode": {
    "name": "ipython",
    "version": 3
   },
   "file_extension": ".py",
   "mimetype": "text/x-python",
   "name": "python",
   "nbconvert_exporter": "python",
   "pygments_lexer": "ipython3",
   "version": "3.6.1"
  }
 },
 "nbformat": 4,
 "nbformat_minor": 2
}
