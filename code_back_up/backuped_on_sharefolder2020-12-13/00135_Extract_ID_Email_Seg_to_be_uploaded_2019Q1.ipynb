{
 "cells": [
  {
   "cell_type": "code",
   "execution_count": 1,
   "metadata": {},
   "outputs": [
    {
     "data": {
      "text/plain": [
       "'/home/jian/Projects/Big_Lots/Live_Ramp/Mapping_Files/2019_Q1'"
      ]
     },
     "execution_count": 1,
     "metadata": {},
     "output_type": "execute_result"
    }
   ],
   "source": [
    "# 2019 Q1\n",
    "# Dedup with email only\n",
    "import pandas as pd\n",
    "import numpy as np\n",
    "import datetime\n",
    "import os\n",
    "import gc\n",
    "import glob\n",
    "os.getcwd()"
   ]
  },
  {
   "cell_type": "code",
   "execution_count": 2,
   "metadata": {
    "collapsed": true
   },
   "outputs": [],
   "source": [
    "def recursive_file_gen(my_root_dir):\n",
    "    for root, dirs, files in os.walk(my_root_dir):\n",
    "        for file in files:\n",
    "            yield os.path.join(root, file)"
   ]
  },
  {
   "cell_type": "code",
   "execution_count": 3,
   "metadata": {
    "collapsed": true
   },
   "outputs": [],
   "source": [
    "Mapping_returned_2018Q4=pd.read_table(\"/home/jian/Projects/Big_Lots/Live_Ramp/Mapping_Files/2018_Q4/downloads_output/CL_BigLots_BL_mapping_file_2018Q4_JL_2019-02-01_20190207_025237_0000.psv.gz\",\n",
    "                          dtype=str,compression=\"gzip\",sep=\"|\")\n"
   ]
  },
  {
   "cell_type": "code",
   "execution_count": 4,
   "metadata": {
    "collapsed": true
   },
   "outputs": [],
   "source": [
    "Segments_Q4_list=Mapping_returned_2018Q4['segment'].unique().tolist()"
   ]
  },
  {
   "cell_type": "code",
   "execution_count": 5,
   "metadata": {},
   "outputs": [
    {
     "data": {
      "text/plain": [
       "72"
      ]
     },
     "execution_count": 5,
     "metadata": {},
     "output_type": "execute_result"
    }
   ],
   "source": [
    "segments_2019_Q1=list(recursive_file_gen(\"/home/jian/Projects/Big_Lots/Live_Ramp/Quarterly_Update_2019Q1/crm_newscore_20190107/by_group_quadrant_24/\"))\n",
    "segments_2019_Q1=[x for x in segments_2019_Q1 if \"summary_count\" not in x]\n",
    "len(segments_2019_Q1)"
   ]
  },
  {
   "cell_type": "code",
   "execution_count": 6,
   "metadata": {},
   "outputs": [
    {
     "name": "stdout",
     "output_type": "stream",
     "text": [
      "21\n",
      "18\n"
     ]
    }
   ],
   "source": [
    "# Only the last tier of new sign ups are targeting, thus 1 month ahead to be uploaded to the mapping\n",
    "\n",
    "new_sign_ups=list(recursive_file_gen(\"/home/jian/celery/Append_to_celery_LiveRamp/monthly_update/\"))\n",
    "new_sign_ups=[x for x in new_sign_ups if \".csv\" in x]\n",
    "print(len(new_sign_ups))\n",
    "df_new_sign_ups=pd.DataFrame({\"file_path\":new_sign_ups})\n",
    "\n",
    "df_new_sign_ups['date']=df_new_sign_ups['file_path'].apply(lambda x: x.split(\"o_celery_LiveRamp/monthly_update/output_\")[1][:10])\n",
    "df_new_sign_ups=df_new_sign_ups[(df_new_sign_ups['date']>=\"2019-01-01\") & (df_new_sign_ups['date']<=\"2019-05-04\")]\n",
    "new_sign_ups=df_new_sign_ups['file_path'].tolist()\n",
    "print(len(new_sign_ups))"
   ]
  },
  {
   "cell_type": "code",
   "execution_count": 7,
   "metadata": {},
   "outputs": [
    {
     "name": "stdout",
     "output_type": "stream",
     "text": [
      "10\n"
     ]
    }
   ],
   "source": [
    "Experian_segments_Q1=list(recursive_file_gen(\"/home/jian/Projects/Big_Lots/Analysis/2019_Q1/Experian/Experian_Control_Test/output/\"))\n",
    "\n",
    "Experian_segments_Q1=[x for x in Experian_segments_Q1 if \".csv\" in x]\n",
    "print(len(Experian_segments_Q1))\n"
   ]
  },
  {
   "cell_type": "code",
   "execution_count": 8,
   "metadata": {},
   "outputs": [
    {
     "data": {
      "text/plain": [
       "20"
      ]
     },
     "execution_count": 8,
     "metadata": {},
     "output_type": "execute_result"
    }
   ],
   "source": [
    "Experian_segments_EmailOpen=list(recursive_file_gen(\"/home/jian/Projects/Big_Lots/Live_Ramp/Quarterly_Update_2019Q2/Experian_Email_Openers_Group/output/\"))\n",
    "Experian_segments_EmailOpen=[x for x in Experian_segments_EmailOpen if \"summary\" not in x]\n",
    "len(Experian_segments_EmailOpen)\n"
   ]
  },
  {
   "cell_type": "code",
   "execution_count": 9,
   "metadata": {
    "collapsed": true
   },
   "outputs": [],
   "source": [
    "all_Q1_segments_files=segments_2019_Q1+new_sign_ups+Experian_segments_Q1+Experian_segments_EmailOpen\n"
   ]
  },
  {
   "cell_type": "code",
   "execution_count": 34,
   "metadata": {},
   "outputs": [
    {
     "data": {
      "text/plain": [
       "'0f4da951452b3cae3eff32d0d5c65b022a0f239d827dc6c011f4b158be37a375'"
      ]
     },
     "execution_count": 34,
     "metadata": {},
     "output_type": "execute_result"
    }
   ],
   "source": [
    "pd.read_csv(Experian_segments_EmailOpen[1],nrows=10,dtype=str)['Email_Address_hash'][5]"
   ]
  },
  {
   "cell_type": "code",
   "execution_count": 10,
   "metadata": {
    "collapsed": true
   },
   "outputs": [],
   "source": [
    "df_output_all_Q1_segs=pd.DataFrame()\n",
    "for file in all_Q1_segments_files:\n",
    "    if \"Experian\" not in file:\n",
    "        df=pd.read_csv(file,dtype=str,usecols=['customer_id_hashed','email_address_hash','segment'])\n",
    "    else:\n",
    "        df=pd.read_csv(file,dtype=str,usecols=['customer_id_hashed','Email_Address_hash','segment']).rename(columns={\"Email_Address_hash\":\"email_address_hash\"})\n",
    "    segment_df_list=df['segment'].unique().tolist()\n",
    "    \n",
    "    seg_intersection=set(segment_df_list).intersection(segments_2019_Q1) \n",
    "    if len(seg_intersection)>=1:\n",
    "        print(file)\n",
    "    else:\n",
    "        df_output_all_Q1_segs=df_output_all_Q1_segs.append(df)"
   ]
  },
  {
   "cell_type": "code",
   "execution_count": 11,
   "metadata": {
    "collapsed": true
   },
   "outputs": [],
   "source": [
    "# dedup with email\n",
    "\n",
    "df_output_all_Q1_segs=df_output_all_Q1_segs.drop_duplicates(\"email_address_hash\")"
   ]
  },
  {
   "cell_type": "code",
   "execution_count": 12,
   "metadata": {},
   "outputs": [
    {
     "data": {
      "text/html": [
       "<div>\n",
       "<style>\n",
       "    .dataframe thead tr:only-child th {\n",
       "        text-align: right;\n",
       "    }\n",
       "\n",
       "    .dataframe thead th {\n",
       "        text-align: left;\n",
       "    }\n",
       "\n",
       "    .dataframe tbody tr th {\n",
       "        vertical-align: top;\n",
       "    }\n",
       "</style>\n",
       "<table border=\"1\" class=\"dataframe\">\n",
       "  <thead>\n",
       "    <tr style=\"text-align: right;\">\n",
       "      <th></th>\n",
       "      <th>customer_id_hashed</th>\n",
       "      <th>email_address_hash</th>\n",
       "      <th>segment</th>\n",
       "    </tr>\n",
       "  </thead>\n",
       "  <tbody>\n",
       "    <tr>\n",
       "      <th>0</th>\n",
       "      <td>24975afca413be4e03c4cece389765b9b479ceb476f8d1...</td>\n",
       "      <td>cf15cd4a38d13616ae31fb976e85c7759e655ac2cb3c81...</td>\n",
       "      <td>T_Quadrant I_P_L_2019Q1</td>\n",
       "    </tr>\n",
       "    <tr>\n",
       "      <th>1</th>\n",
       "      <td>3b45341b46de76883a6eab373af4ba6ca5ed390ba67ea2...</td>\n",
       "      <td>2403a3c80638d318f899685e6371989420789a526a631e...</td>\n",
       "      <td>T_Quadrant I_P_L_2019Q1</td>\n",
       "    </tr>\n",
       "  </tbody>\n",
       "</table>\n",
       "</div>"
      ],
      "text/plain": [
       "                                  customer_id_hashed  \\\n",
       "0  24975afca413be4e03c4cece389765b9b479ceb476f8d1...   \n",
       "1  3b45341b46de76883a6eab373af4ba6ca5ed390ba67ea2...   \n",
       "\n",
       "                                  email_address_hash                  segment  \n",
       "0  cf15cd4a38d13616ae31fb976e85c7759e655ac2cb3c81...  T_Quadrant I_P_L_2019Q1  \n",
       "1  2403a3c80638d318f899685e6371989420789a526a631e...  T_Quadrant I_P_L_2019Q1  "
      ]
     },
     "execution_count": 12,
     "metadata": {},
     "output_type": "execute_result"
    }
   ],
   "source": [
    "df_output_all_Q1_segs.head(2)"
   ]
  },
  {
   "cell_type": "code",
   "execution_count": 39,
   "metadata": {},
   "outputs": [
    {
     "data": {
      "text/plain": [
       "(20767278, 3)"
      ]
     },
     "execution_count": 39,
     "metadata": {},
     "output_type": "execute_result"
    }
   ],
   "source": [
    "df_output_all_Q1_segs.shape"
   ]
  },
  {
   "cell_type": "code",
   "execution_count": 13,
   "metadata": {
    "collapsed": true
   },
   "outputs": [],
   "source": [
    "df_output_all_Q1_segs.to_csv(\"/home/jian/Projects/Big_Lots/Live_Ramp/Mapping_Files/2019_Q1/BL_mapping_file_2019Q1_JL_\"+str(datetime.datetime.now().date())+\".csv\",index=False)\n",
    "\n"
   ]
  },
  {
   "cell_type": "code",
   "execution_count": null,
   "metadata": {
    "collapsed": true
   },
   "outputs": [],
   "source": [
    "# SFTP doesn't work"
   ]
  },
  {
   "cell_type": "code",
   "execution_count": null,
   "metadata": {
    "collapsed": true
   },
   "outputs": [],
   "source": []
  }
 ],
 "metadata": {
  "kernelspec": {
   "display_name": "Python 3",
   "language": "python",
   "name": "python3"
  },
  "language_info": {
   "codemirror_mode": {
    "name": "ipython",
    "version": 3
   },
   "file_extension": ".py",
   "mimetype": "text/x-python",
   "name": "python",
   "nbconvert_exporter": "python",
   "pygments_lexer": "ipython3",
   "version": "3.6.1"
  }
 },
 "nbformat": 4,
 "nbformat_minor": 2
}
