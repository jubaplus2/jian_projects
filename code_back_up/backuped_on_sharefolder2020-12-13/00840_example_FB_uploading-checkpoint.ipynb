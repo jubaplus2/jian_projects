{
 "cells": [
  {
   "cell_type": "code",
   "execution_count": 1,
   "metadata": {},
   "outputs": [],
   "source": [
    "from facebookads.adobjects.customaudience import CustomAudience\n",
    "from facebookads.adobjects.adaccount import AdAccount\n",
    "from facebookads.api import FacebookAdsApi\n",
    "import json\n",
    "BigLotsAccount_id=\"act_271491453638620\"\n",
    "\n",
    "# jian_APP_ID=\"2537704939796694\"# jian's fb marketing app id\n",
    "jian_token=json.load(open(\"/home/sharefolder/Docs/FB_token/lasest_FB_token_jian.json\",\"r\"))['latest_FB_token']"
   ]
  },
  {
   "cell_type": "code",
   "execution_count": 3,
   "metadata": {},
   "outputs": [],
   "source": [
    "# create new adueince and add the new users to the audiecne, 1 step\n",
    "# Please note the change of the CustomAudience.Schema (row 41 based on the user list format)\n",
    "def creatfbaudience(AudienceName,\n",
    "                    AudienceDescription,\n",
    "                    df,\n",
    "                    ACCESS_TOKEN,\n",
    "                    accountid,\n",
    "                    df_use_col_name,\n",
    "                    fb_schema=CustomAudience.Schema.email_hash):\n",
    "    FacebookAdsApi.init(access_token=ACCESS_TOKEN, api_version='v8.0')\n",
    "    \n",
    "    '''\n",
    "    AudienceName: str, the name shown on FB\n",
    "    AudienceDescription: str, the description shown on FB\n",
    "    df: pd.Dataframe, input with the identifier col\n",
    "    ACCESS_TOKEN: str, access to FB marketing api\n",
    "    accountid: str, account to uplaod\n",
    "    df_use_col_name: str, col name in the df\n",
    "    fb_schema: available schema attribution in the CustomAudience.Schema class. Default for us CustomAudience.Schema.email_hash  \n",
    "    https://github.com/facebook/facebook-python-business-sdk/blob/ac390147132101763a99a917bb59bdc8a374a7ce/facebook_business/adobjects/helpers/customaudiencemixin.py\n",
    "    '''\n",
    "    \n",
    "    myAccount = AdAccount(accountid)\n",
    "    fields = [\n",
    "    ]\n",
    "    params = {\n",
    "      'name': AudienceName,\n",
    "      'subtype': 'CUSTOM',\n",
    "      'description': AudienceDescription,\n",
    "      'customer_file_source': 'PARTNER_PROVIDED_ONLY',\n",
    "    }\n",
    "    fbname = myAccount.create_custom_audience(\n",
    "      fields=fields,\n",
    "      params=params,\n",
    "    )['id']\n",
    "    print(\"Audience ID:\",fbname)\n",
    "    audience = CustomAudience(fbname)\n",
    "    users = list(df[df_use_col_name])\n",
    "    listlen = len(users)\n",
    "    chunck_size=50000\n",
    "    count_uploaded=0\n",
    "    for i in range(int(np.ceil(listlen/chunck_size))):\n",
    "        starti = i*50000\n",
    "        if (i+1)*50000<listlen:\n",
    "            endi = (i+1)*50000\n",
    "        else:\n",
    "            endi = listlen\n",
    "        list0 = users[starti:endi]\n",
    "        \n",
    "        count_uploaded+=len(list0)\n",
    "        audience.add_users(fb_schema, list0)\n",
    "        #print len(list0)   \n",
    "    print(datetime.datetime.now(),AudienceName,\"uploaded\",count_uploaded)\n"
   ]
  },
  {
   "cell_type": "code",
   "execution_count": 5,
   "metadata": {},
   "outputs": [
    {
     "data": {
      "text/plain": [
       "[]"
      ]
     },
     "execution_count": 5,
     "metadata": {},
     "output_type": "execute_result"
    }
   ],
   "source": [
    "# e.g. below\n",
    "import glob\n",
    "list_files_to_upload_PYD=glob.glob(\"/home/jian/Projects/Big_Lots/Analysis/2020_Q3/Audience_for_21mm_Act_Goal/Uploaded_Files/PYD_clients/*\")\n",
    "list_files_to_upload_PYD"
   ]
  },
  {
   "cell_type": "code",
   "execution_count": null,
   "metadata": {},
   "outputs": [],
   "source": [
    "for file in list_splited_files_T:\n",
    "    audience_name = os.path.basename(file).split(\".\")[0]\n",
    "    description=os.path.basename(file).split(\".\")[0]+\"_uploaded_on_\"+str(datetime.datetime.now().date())\n",
    "    df = pd.read_csv(file,dtype=str)\n",
    "    creatfbaudience(AudienceName=audience_name,\n",
    "                    AudienceDescription=description,\n",
    "                    df=df,\n",
    "                    ACCESS_TOKEN=jian_token,\n",
    "                    accountid=BigLotsAccount_id)"
   ]
  }
 ],
 "metadata": {
  "kernelspec": {
   "display_name": "Python 3",
   "language": "python",
   "name": "python3"
  },
  "language_info": {
   "codemirror_mode": {
    "name": "ipython",
    "version": 3
   },
   "file_extension": ".py",
   "mimetype": "text/x-python",
   "name": "python",
   "nbconvert_exporter": "python",
   "pygments_lexer": "ipython3",
   "version": "3.6.1"
  }
 },
 "nbformat": 4,
 "nbformat_minor": 2
}
