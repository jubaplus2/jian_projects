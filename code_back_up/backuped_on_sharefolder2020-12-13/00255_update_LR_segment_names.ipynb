{
 "cells": [
  {
   "cell_type": "code",
   "execution_count": 1,
   "metadata": {},
   "outputs": [
    {
     "name": "stdout",
     "output_type": "stream",
     "text": [
      "2020-10-19 10:35:34.609433\n"
     ]
    }
   ],
   "source": [
    "import pandas as pd\n",
    "import datetime\n",
    "print(datetime.datetime.now())"
   ]
  },
  {
   "cell_type": "code",
   "execution_count": 2,
   "metadata": {},
   "outputs": [
    {
     "data": {
      "text/html": [
       "<div>\n",
       "<style scoped>\n",
       "    .dataframe tbody tr th:only-of-type {\n",
       "        vertical-align: middle;\n",
       "    }\n",
       "\n",
       "    .dataframe tbody tr th {\n",
       "        vertical-align: top;\n",
       "    }\n",
       "\n",
       "    .dataframe thead th {\n",
       "        text-align: right;\n",
       "    }\n",
       "</style>\n",
       "<table border=\"1\" class=\"dataframe\">\n",
       "  <thead>\n",
       "    <tr style=\"text-align: right;\">\n",
       "      <th></th>\n",
       "      <th>customer_id_hashed</th>\n",
       "      <th>email_address_hash</th>\n",
       "      <th>updated_segment_2020Q4_Refresh</th>\n",
       "    </tr>\n",
       "  </thead>\n",
       "  <tbody>\n",
       "    <tr>\n",
       "      <th>0</th>\n",
       "      <td>b78dccfd64ce659af7061c5743b6b9305814336bc9ddec...</td>\n",
       "      <td>4836bfc632a2a5987d47fa6bf0637c21c4466a0e99ddee...</td>\n",
       "      <td>T_Legacy_Active0X_H_PS</td>\n",
       "    </tr>\n",
       "    <tr>\n",
       "      <th>1</th>\n",
       "      <td>681869d76dbbf47685b2e2b2c247064ae83194cc5c5f80...</td>\n",
       "      <td>e12683b2ec8b57ddab043609795d36246df869be353af7...</td>\n",
       "      <td>T_Legacy_Active0X_H_PS</td>\n",
       "    </tr>\n",
       "    <tr>\n",
       "      <th>2</th>\n",
       "      <td>3efc4531caf1e69c86e49f007901c143d81df33086abe7...</td>\n",
       "      <td>79fc174d2b4e651ffdd8cc69fde21d61ce27dc65d32e68...</td>\n",
       "      <td>T_Legacy_Active0X_H_PS</td>\n",
       "    </tr>\n",
       "  </tbody>\n",
       "</table>\n",
       "</div>"
      ],
      "text/plain": [
       "                                  customer_id_hashed  \\\n",
       "0  b78dccfd64ce659af7061c5743b6b9305814336bc9ddec...   \n",
       "1  681869d76dbbf47685b2e2b2c247064ae83194cc5c5f80...   \n",
       "2  3efc4531caf1e69c86e49f007901c143d81df33086abe7...   \n",
       "\n",
       "                                  email_address_hash  \\\n",
       "0  4836bfc632a2a5987d47fa6bf0637c21c4466a0e99ddee...   \n",
       "1  e12683b2ec8b57ddab043609795d36246df869be353af7...   \n",
       "2  79fc174d2b4e651ffdd8cc69fde21d61ce27dc65d32e68...   \n",
       "\n",
       "  updated_segment_2020Q4_Refresh  \n",
       "0         T_Legacy_Active0X_H_PS  \n",
       "1         T_Legacy_Active0X_H_PS  \n",
       "2         T_Legacy_Active0X_H_PS  "
      ]
     },
     "execution_count": 2,
     "metadata": {},
     "output_type": "execute_result"
    }
   ],
   "source": [
    "df_old=pd.read_csv(\"./uploaded_file_LR/BL_2020Q4_audience_Refreshable_JL_2020-10-09.csv\",dtype=str)\n",
    "df_old.head(3)"
   ]
  },
  {
   "cell_type": "code",
   "execution_count": 3,
   "metadata": {},
   "outputs": [
    {
     "data": {
      "text/plain": [
       "['Control_segment_2020Q4',\n",
       " 'T_Legacy_Active0X_H_PS',\n",
       " 'T_Legacy_Active0X_L_PS',\n",
       " 'T_Legacy_Active0X_M_PS',\n",
       " 'T_Legacy_ActiveX12_L_PS',\n",
       " 'T_Legacy_ActiveX12_M_PS',\n",
       " 'T_Legacy_Lapsed1318_L_PS',\n",
       " 'T_Legacy_Lapsed1924_Unknown_PS',\n",
       " 'T_Legacy_Lapsed2530_Unknown_PS',\n",
       " 'T_SOTF_Active0X_H_PS',\n",
       " 'T_SOTF_Active0X_L_PS',\n",
       " 'T_SOTF_Active0X_M_PS',\n",
       " 'T_SOTF_ActiveX12_L_PS',\n",
       " 'T_SOTF_ActiveX12_M_PS',\n",
       " 'T_SOTF_Lapsed1318_L_PS',\n",
       " 'T_SOTF_Lapsed1924_Unknown_PS',\n",
       " 'T_SOTF_Lapsed2530_Unknown_PS',\n",
       " 'T_SignUpNoPurchase_2_12']"
      ]
     },
     "execution_count": 3,
     "metadata": {},
     "output_type": "execute_result"
    }
   ],
   "source": [
    "list_segnames=df_old['updated_segment_2020Q4_Refresh'].unique().tolist()\n",
    "list_segnames.sort()\n",
    "list_segnames"
   ]
  },
  {
   "cell_type": "code",
   "execution_count": 4,
   "metadata": {},
   "outputs": [
    {
     "data": {
      "text/html": [
       "<div>\n",
       "<style scoped>\n",
       "    .dataframe tbody tr th:only-of-type {\n",
       "        vertical-align: middle;\n",
       "    }\n",
       "\n",
       "    .dataframe tbody tr th {\n",
       "        vertical-align: top;\n",
       "    }\n",
       "\n",
       "    .dataframe thead th {\n",
       "        text-align: right;\n",
       "    }\n",
       "</style>\n",
       "<table border=\"1\" class=\"dataframe\">\n",
       "  <thead>\n",
       "    <tr style=\"text-align: right;\">\n",
       "      <th></th>\n",
       "      <th>customer_id_hashed</th>\n",
       "      <th>email_address_hash</th>\n",
       "      <th>updated_segment_2020Q4_Refresh</th>\n",
       "    </tr>\n",
       "  </thead>\n",
       "  <tbody>\n",
       "    <tr>\n",
       "      <th>0</th>\n",
       "      <td>b78dccfd64ce659af7061c5743b6b9305814336bc9ddec...</td>\n",
       "      <td>4836bfc632a2a5987d47fa6bf0637c21c4466a0e99ddee...</td>\n",
       "      <td>Refreshable_LR_Rewards_T_Legacy_Active0X_H_PS</td>\n",
       "    </tr>\n",
       "    <tr>\n",
       "      <th>1</th>\n",
       "      <td>681869d76dbbf47685b2e2b2c247064ae83194cc5c5f80...</td>\n",
       "      <td>e12683b2ec8b57ddab043609795d36246df869be353af7...</td>\n",
       "      <td>Refreshable_LR_Rewards_T_Legacy_Active0X_H_PS</td>\n",
       "    </tr>\n",
       "    <tr>\n",
       "      <th>2</th>\n",
       "      <td>3efc4531caf1e69c86e49f007901c143d81df33086abe7...</td>\n",
       "      <td>79fc174d2b4e651ffdd8cc69fde21d61ce27dc65d32e68...</td>\n",
       "      <td>Refreshable_LR_Rewards_T_Legacy_Active0X_H_PS</td>\n",
       "    </tr>\n",
       "  </tbody>\n",
       "</table>\n",
       "</div>"
      ],
      "text/plain": [
       "                                  customer_id_hashed  \\\n",
       "0  b78dccfd64ce659af7061c5743b6b9305814336bc9ddec...   \n",
       "1  681869d76dbbf47685b2e2b2c247064ae83194cc5c5f80...   \n",
       "2  3efc4531caf1e69c86e49f007901c143d81df33086abe7...   \n",
       "\n",
       "                                  email_address_hash  \\\n",
       "0  4836bfc632a2a5987d47fa6bf0637c21c4466a0e99ddee...   \n",
       "1  e12683b2ec8b57ddab043609795d36246df869be353af7...   \n",
       "2  79fc174d2b4e651ffdd8cc69fde21d61ce27dc65d32e68...   \n",
       "\n",
       "                  updated_segment_2020Q4_Refresh  \n",
       "0  Refreshable_LR_Rewards_T_Legacy_Active0X_H_PS  \n",
       "1  Refreshable_LR_Rewards_T_Legacy_Active0X_H_PS  \n",
       "2  Refreshable_LR_Rewards_T_Legacy_Active0X_H_PS  "
      ]
     },
     "execution_count": 4,
     "metadata": {},
     "output_type": "execute_result"
    }
   ],
   "source": [
    "df_new=df_old.copy()\n",
    "df_new['updated_segment_2020Q4_Refresh']=\"Refreshable_LR_Rewards_\"+df_new['updated_segment_2020Q4_Refresh']\n",
    "df_new.head(3)"
   ]
  },
  {
   "cell_type": "code",
   "execution_count": 5,
   "metadata": {},
   "outputs": [],
   "source": [
    "df_new.to_csv(\"./uploaded_file_LR/BL_2020Q4_audience_Refreshable_JL_%s.csv\"%str(datetime.datetime.now().date()),index=False)"
   ]
  },
  {
   "cell_type": "code",
   "execution_count": 6,
   "metadata": {},
   "outputs": [
    {
     "data": {
      "text/plain": [
       "(25224618, 3)"
      ]
     },
     "execution_count": 6,
     "metadata": {},
     "output_type": "execute_result"
    }
   ],
   "source": [
    "df_new.shape"
   ]
  },
  {
   "cell_type": "code",
   "execution_count": 8,
   "metadata": {},
   "outputs": [
    {
     "data": {
      "text/plain": [
       "['Refreshable_LR_Rewards_Control_segment_2020Q4',\n",
       " 'Refreshable_LR_Rewards_T_Legacy_Active0X_H_PS',\n",
       " 'Refreshable_LR_Rewards_T_Legacy_Active0X_L_PS',\n",
       " 'Refreshable_LR_Rewards_T_Legacy_Active0X_M_PS',\n",
       " 'Refreshable_LR_Rewards_T_Legacy_ActiveX12_L_PS',\n",
       " 'Refreshable_LR_Rewards_T_Legacy_ActiveX12_M_PS',\n",
       " 'Refreshable_LR_Rewards_T_Legacy_Lapsed1318_L_PS',\n",
       " 'Refreshable_LR_Rewards_T_Legacy_Lapsed1924_Unknown_PS',\n",
       " 'Refreshable_LR_Rewards_T_Legacy_Lapsed2530_Unknown_PS',\n",
       " 'Refreshable_LR_Rewards_T_SOTF_Active0X_H_PS',\n",
       " 'Refreshable_LR_Rewards_T_SOTF_Active0X_L_PS',\n",
       " 'Refreshable_LR_Rewards_T_SOTF_Active0X_M_PS',\n",
       " 'Refreshable_LR_Rewards_T_SOTF_ActiveX12_L_PS',\n",
       " 'Refreshable_LR_Rewards_T_SOTF_ActiveX12_M_PS',\n",
       " 'Refreshable_LR_Rewards_T_SOTF_Lapsed1318_L_PS',\n",
       " 'Refreshable_LR_Rewards_T_SOTF_Lapsed1924_Unknown_PS',\n",
       " 'Refreshable_LR_Rewards_T_SOTF_Lapsed2530_Unknown_PS',\n",
       " 'Refreshable_LR_Rewards_T_SignUpNoPurchase_2_12']"
      ]
     },
     "execution_count": 8,
     "metadata": {},
     "output_type": "execute_result"
    }
   ],
   "source": [
    "list_segnames=df_new['updated_segment_2020Q4_Refresh'].unique().tolist()\n",
    "list_segnames.sort()\n",
    "list_segnames"
   ]
  },
  {
   "cell_type": "code",
   "execution_count": 9,
   "metadata": {},
   "outputs": [],
   "source": [
    "# QC\n",
    "\n",
    "import pandas as pd\n"
   ]
  },
  {
   "cell_type": "code",
   "execution_count": 10,
   "metadata": {},
   "outputs": [],
   "source": [
    "df_1=pd.read_csv(\"./uploaded_file_LR/BL_2020Q4_audience_Refreshable_JL_2020-10-09.csv\",dtype=str)\n",
    "df_2=pd.read_csv(\"./uploaded_file_LR/BL_2020Q4_audience_Refreshable_JL_2020-10-19.csv\",dtype=str)"
   ]
  },
  {
   "cell_type": "code",
   "execution_count": 11,
   "metadata": {},
   "outputs": [
    {
     "data": {
      "text/html": [
       "<div>\n",
       "<style scoped>\n",
       "    .dataframe tbody tr th:only-of-type {\n",
       "        vertical-align: middle;\n",
       "    }\n",
       "\n",
       "    .dataframe tbody tr th {\n",
       "        vertical-align: top;\n",
       "    }\n",
       "\n",
       "    .dataframe thead th {\n",
       "        text-align: right;\n",
       "    }\n",
       "</style>\n",
       "<table border=\"1\" class=\"dataframe\">\n",
       "  <thead>\n",
       "    <tr style=\"text-align: right;\">\n",
       "      <th></th>\n",
       "      <th>customer_id_hashed</th>\n",
       "      <th>email_address_hash</th>\n",
       "      <th>updated_segment_2020Q4_Refresh</th>\n",
       "    </tr>\n",
       "  </thead>\n",
       "  <tbody>\n",
       "    <tr>\n",
       "      <th>0</th>\n",
       "      <td>b78dccfd64ce659af7061c5743b6b9305814336bc9ddec...</td>\n",
       "      <td>4836bfc632a2a5987d47fa6bf0637c21c4466a0e99ddee...</td>\n",
       "      <td>T_Legacy_Active0X_H_PS</td>\n",
       "    </tr>\n",
       "    <tr>\n",
       "      <th>1</th>\n",
       "      <td>681869d76dbbf47685b2e2b2c247064ae83194cc5c5f80...</td>\n",
       "      <td>e12683b2ec8b57ddab043609795d36246df869be353af7...</td>\n",
       "      <td>T_Legacy_Active0X_H_PS</td>\n",
       "    </tr>\n",
       "  </tbody>\n",
       "</table>\n",
       "</div>"
      ],
      "text/plain": [
       "                                  customer_id_hashed  \\\n",
       "0  b78dccfd64ce659af7061c5743b6b9305814336bc9ddec...   \n",
       "1  681869d76dbbf47685b2e2b2c247064ae83194cc5c5f80...   \n",
       "\n",
       "                                  email_address_hash  \\\n",
       "0  4836bfc632a2a5987d47fa6bf0637c21c4466a0e99ddee...   \n",
       "1  e12683b2ec8b57ddab043609795d36246df869be353af7...   \n",
       "\n",
       "  updated_segment_2020Q4_Refresh  \n",
       "0         T_Legacy_Active0X_H_PS  \n",
       "1         T_Legacy_Active0X_H_PS  "
      ]
     },
     "execution_count": 11,
     "metadata": {},
     "output_type": "execute_result"
    }
   ],
   "source": [
    "df_1.head(2)"
   ]
  },
  {
   "cell_type": "code",
   "execution_count": 12,
   "metadata": {},
   "outputs": [
    {
     "data": {
      "text/html": [
       "<div>\n",
       "<style scoped>\n",
       "    .dataframe tbody tr th:only-of-type {\n",
       "        vertical-align: middle;\n",
       "    }\n",
       "\n",
       "    .dataframe tbody tr th {\n",
       "        vertical-align: top;\n",
       "    }\n",
       "\n",
       "    .dataframe thead th {\n",
       "        text-align: right;\n",
       "    }\n",
       "</style>\n",
       "<table border=\"1\" class=\"dataframe\">\n",
       "  <thead>\n",
       "    <tr style=\"text-align: right;\">\n",
       "      <th></th>\n",
       "      <th>customer_id_hashed</th>\n",
       "      <th>email_address_hash</th>\n",
       "      <th>updated_segment_2020Q4_Refresh</th>\n",
       "    </tr>\n",
       "  </thead>\n",
       "  <tbody>\n",
       "    <tr>\n",
       "      <th>0</th>\n",
       "      <td>b78dccfd64ce659af7061c5743b6b9305814336bc9ddec...</td>\n",
       "      <td>4836bfc632a2a5987d47fa6bf0637c21c4466a0e99ddee...</td>\n",
       "      <td>Refreshable_LR_Rewards_T_Legacy_Active0X_H_PS</td>\n",
       "    </tr>\n",
       "    <tr>\n",
       "      <th>1</th>\n",
       "      <td>681869d76dbbf47685b2e2b2c247064ae83194cc5c5f80...</td>\n",
       "      <td>e12683b2ec8b57ddab043609795d36246df869be353af7...</td>\n",
       "      <td>Refreshable_LR_Rewards_T_Legacy_Active0X_H_PS</td>\n",
       "    </tr>\n",
       "  </tbody>\n",
       "</table>\n",
       "</div>"
      ],
      "text/plain": [
       "                                  customer_id_hashed  \\\n",
       "0  b78dccfd64ce659af7061c5743b6b9305814336bc9ddec...   \n",
       "1  681869d76dbbf47685b2e2b2c247064ae83194cc5c5f80...   \n",
       "\n",
       "                                  email_address_hash  \\\n",
       "0  4836bfc632a2a5987d47fa6bf0637c21c4466a0e99ddee...   \n",
       "1  e12683b2ec8b57ddab043609795d36246df869be353af7...   \n",
       "\n",
       "                  updated_segment_2020Q4_Refresh  \n",
       "0  Refreshable_LR_Rewards_T_Legacy_Active0X_H_PS  \n",
       "1  Refreshable_LR_Rewards_T_Legacy_Active0X_H_PS  "
      ]
     },
     "execution_count": 12,
     "metadata": {},
     "output_type": "execute_result"
    }
   ],
   "source": [
    "df_2.head(2)"
   ]
  },
  {
   "cell_type": "code",
   "execution_count": 13,
   "metadata": {},
   "outputs": [
    {
     "data": {
      "text/plain": [
       "True"
      ]
     },
     "execution_count": 13,
     "metadata": {},
     "output_type": "execute_result"
    }
   ],
   "source": [
    "df_1['customer_id_hashed'].tolist()==df_2['customer_id_hashed'].tolist()"
   ]
  },
  {
   "cell_type": "code",
   "execution_count": 14,
   "metadata": {},
   "outputs": [
    {
     "data": {
      "text/plain": [
       "True"
      ]
     },
     "execution_count": 14,
     "metadata": {},
     "output_type": "execute_result"
    }
   ],
   "source": [
    "df_1['email_address_hash'].tolist()==df_2['email_address_hash'].tolist()"
   ]
  },
  {
   "cell_type": "code",
   "execution_count": 15,
   "metadata": {},
   "outputs": [],
   "source": [
    "a=df_1['updated_segment_2020Q4_Refresh'].tolist()\n",
    "b=df_2['updated_segment_2020Q4_Refresh'].tolist()\n",
    "\n",
    "b=[x.replace(\"Refreshable_LR_Rewards_\",\"\") for x in b]"
   ]
  },
  {
   "cell_type": "code",
   "execution_count": 16,
   "metadata": {},
   "outputs": [
    {
     "data": {
      "text/plain": [
       "True"
      ]
     },
     "execution_count": 16,
     "metadata": {},
     "output_type": "execute_result"
    }
   ],
   "source": [
    "a==b"
   ]
  },
  {
   "cell_type": "code",
   "execution_count": null,
   "metadata": {},
   "outputs": [],
   "source": []
  }
 ],
 "metadata": {
  "kernelspec": {
   "display_name": "Python 3",
   "language": "python",
   "name": "python3"
  },
  "language_info": {
   "codemirror_mode": {
    "name": "ipython",
    "version": 3
   },
   "file_extension": ".py",
   "mimetype": "text/x-python",
   "name": "python",
   "nbconvert_exporter": "python",
   "pygments_lexer": "ipython3",
   "version": "3.6.1"
  }
 },
 "nbformat": 4,
 "nbformat_minor": 2
}
