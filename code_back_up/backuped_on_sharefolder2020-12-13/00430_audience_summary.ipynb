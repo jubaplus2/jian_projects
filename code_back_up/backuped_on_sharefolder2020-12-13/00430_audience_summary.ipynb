{
 "cells": [
  {
   "cell_type": "code",
   "execution_count": 1,
   "metadata": {},
   "outputs": [
    {
     "name": "stdout",
     "output_type": "stream",
     "text": [
      "2020-11-06 13:39:13.391852\n",
      "/mnt/clients/juba/hqjubaapp02/sharefolder/GoodYear/jian/Audience_selections\n"
     ]
    }
   ],
   "source": [
    "# To select control no more than test\n",
    "# TIRE&SERVICE\n",
    "\n",
    "import random\n",
    "\n",
    "import pandas as pd\n",
    "import numpy as np\n",
    "import datetime\n",
    "import os\n",
    "import glob\n",
    "print(datetime.datetime.now())\n",
    "print(os.getcwd())"
   ]
  },
  {
   "cell_type": "code",
   "execution_count": 2,
   "metadata": {},
   "outputs": [
    {
     "name": "stdout",
     "output_type": "stream",
     "text": [
      "28\n",
      "4\n"
     ]
    }
   ],
   "source": [
    "folder_audience=\"./output_audience_2020-11-03/\"\n",
    "\n",
    "list_all_audience_files=glob.glob(folder_audience+\"*.csv\")\n",
    "list_all_audience_files=[x for x in list_all_audience_files if \"TireAndService\" in x]\n",
    "list_all_audience_files.sort()\n",
    "list_audience_set=[\"_\".join(os.path.basename(x).split(\"_\")[1:5]) for x in list_all_audience_files]\n",
    "list_audience_set=list(set(list_audience_set))\n",
    "list_audience_set.sort()\n",
    "print(len(list_all_audience_files))\n",
    "print(len(list_audience_set))"
   ]
  },
  {
   "cell_type": "code",
   "execution_count": 3,
   "metadata": {},
   "outputs": [
    {
     "data": {
      "text/plain": [
       "['./output_audience_2020-11-03/segment_Control_TireAndService_31_stores_Ecommerce_All_All.csv',\n",
       " './output_audience_2020-11-03/segment_Control_TireAndService_9_stores_Ecommerce_All_All.csv',\n",
       " './output_audience_2020-11-03/segment_Test_TireAndService_31_stores_Ecommerce_All_All.csv',\n",
       " './output_audience_2020-11-03/segment_Test_TireAndService_9_stores_Ecommerce_All_All.csv']"
      ]
     },
     "execution_count": 3,
     "metadata": {},
     "output_type": "execute_result"
    }
   ],
   "source": [
    "a=[x for x in list_all_audience_files if \"ecom\" in x.lower()]\n",
    "a"
   ]
  },
  {
   "cell_type": "code",
   "execution_count": 4,
   "metadata": {},
   "outputs": [
    {
     "name": "stdout",
     "output_type": "stream",
     "text": [
      "./output_audience_2020-11-03/segment_Control_TireAndService_31_stores_Ecommerce_All_All.csv (106187, 5)\n",
      "./output_audience_2020-11-03/segment_Control_TireAndService_9_stores_Ecommerce_All_All.csv (19638, 5)\n",
      "./output_audience_2020-11-03/segment_Test_TireAndService_31_stores_Ecommerce_All_All.csv (19202, 5)\n",
      "./output_audience_2020-11-03/segment_Test_TireAndService_9_stores_Ecommerce_All_All.csv (4497, 5)\n"
     ]
    }
   ],
   "source": [
    "for i in a:\n",
    "    df=pd.read_csv(i,dtype=str)\n",
    "    print(i,df.shape)"
   ]
  },
  {
   "cell_type": "code",
   "execution_count": 5,
   "metadata": {},
   "outputs": [
    {
     "name": "stdout",
     "output_type": "stream",
     "text": [
      "14\n",
      "[11]\n",
      "(521579, 5)\n"
     ]
    },
    {
     "data": {
      "text/html": [
       "<div>\n",
       "<style scoped>\n",
       "    .dataframe tbody tr th:only-of-type {\n",
       "        vertical-align: middle;\n",
       "    }\n",
       "\n",
       "    .dataframe tbody tr th {\n",
       "        vertical-align: top;\n",
       "    }\n",
       "\n",
       "    .dataframe thead th {\n",
       "        text-align: right;\n",
       "    }\n",
       "</style>\n",
       "<table border=\"1\" class=\"dataframe\">\n",
       "  <thead>\n",
       "    <tr style=\"text-align: right;\">\n",
       "      <th></th>\n",
       "      <th>indiv_key</th>\n",
       "      <th>last_trans_date</th>\n",
       "      <th>best_email_txt</th>\n",
       "      <th>best_phone_num</th>\n",
       "      <th>postal_cd</th>\n",
       "    </tr>\n",
       "  </thead>\n",
       "  <tbody>\n",
       "    <tr>\n",
       "      <th>0</th>\n",
       "      <td>1222780000000033</td>\n",
       "      <td>2018-10-08</td>\n",
       "      <td>michaelpuig1033@yahoo.com</td>\n",
       "      <td>15618019543</td>\n",
       "      <td>34953</td>\n",
       "    </tr>\n",
       "    <tr>\n",
       "      <th>1</th>\n",
       "      <td>1222780000000299</td>\n",
       "      <td>2016-10-11</td>\n",
       "      <td>dianarebel@verizon.net</td>\n",
       "      <td>16109357347</td>\n",
       "      <td>19460</td>\n",
       "    </tr>\n",
       "    <tr>\n",
       "      <th>2</th>\n",
       "      <td>1222780000000493</td>\n",
       "      <td>2019-11-20</td>\n",
       "      <td>jdmgeorge01@gmail.com</td>\n",
       "      <td>17035874893</td>\n",
       "      <td>20152</td>\n",
       "    </tr>\n",
       "  </tbody>\n",
       "</table>\n",
       "</div>"
      ],
      "text/plain": [
       "          indiv_key last_trans_date             best_email_txt best_phone_num  \\\n",
       "0  1222780000000033      2018-10-08  michaelpuig1033@yahoo.com    15618019543   \n",
       "1  1222780000000299      2016-10-11     dianarebel@verizon.net    16109357347   \n",
       "2  1222780000000493      2019-11-20      jdmgeorge01@gmail.com    17035874893   \n",
       "\n",
       "  postal_cd  \n",
       "0     34953  \n",
       "1     19460  \n",
       "2     20152  "
      ]
     },
     "execution_count": 5,
     "metadata": {},
     "output_type": "execute_result"
    }
   ],
   "source": [
    "df_all_T_ids=pd.DataFrame()\n",
    "list_all_T_files=[x for x in list_all_audience_files if \"test\" in x.lower()]\n",
    "print(len(list_all_T_files))\n",
    "for file in list_all_T_files:\n",
    "    df=pd.read_csv(file,dtype=str)\n",
    "    df_all_T_ids=df_all_T_ids.append(df)\n",
    "df_all_T_ids['best_email_txt']=df_all_T_ids['best_email_txt'].apply(lambda x: x.lower().strip() if pd.notnull(x) else x)\n",
    "df_all_T_ids['best_phone_num']=df_all_T_ids['best_phone_num'].apply(lambda x: '1'+str(int(x.lower().strip())) if pd.notnull(x) else x)\n",
    "\n",
    "df=df_all_T_ids[pd.notnull(df_all_T_ids['best_phone_num'])]\n",
    "print(df['best_phone_num'].apply(len).unique())\n",
    "del df\n",
    "\n",
    "print(df_all_T_ids.shape)\n",
    "df_all_T_ids.head(3)"
   ]
  },
  {
   "cell_type": "code",
   "execution_count": 6,
   "metadata": {},
   "outputs": [],
   "source": [
    "list_all_T_ids=[x for x in df_all_T_ids['indiv_key'].unique().tolist() if pd.notnull(x)]\n",
    "list_all_T_emails=[x for x in df_all_T_ids['best_email_txt'].unique().tolist() if pd.notnull(x)]\n",
    "list_all_T_phones=[x for x in df_all_T_ids['best_phone_num'].unique().tolist() if pd.notnull(x)]\n"
   ]
  },
  {
   "cell_type": "code",
   "execution_count": 7,
   "metadata": {},
   "outputs": [],
   "source": [
    "folder_cleaned_audience=\"./output_cleaned_audience_%s/\"%str(datetime.datetime.now().date())\n",
    "try:\n",
    "    os.stat(folder_cleaned_audience)\n",
    "except:\n",
    "    os.mkdir(folder_cleaned_audience)"
   ]
  },
  {
   "cell_type": "code",
   "execution_count": 8,
   "metadata": {},
   "outputs": [
    {
     "name": "stdout",
     "output_type": "stream",
     "text": [
      "14 14\n"
     ]
    }
   ],
   "source": [
    "T_list_all_audience_files=[x for x in list_all_audience_files if \"test\" in x.lower()]\n",
    "C_list_all_audience_files=[x for x in list_all_audience_files if \"control\" in x.lower()]\n",
    "print(len(T_list_all_audience_files),len(T_list_all_audience_files))"
   ]
  },
  {
   "cell_type": "code",
   "execution_count": 9,
   "metadata": {},
   "outputs": [
    {
     "data": {
      "text/plain": [
       "['./output_audience_2020-11-03/segment_Test_TireAndService_31_stores_Ecommerce_All_All.csv',\n",
       " './output_audience_2020-11-03/segment_Test_TireAndService_31_stores_Store_P_R1H.csv',\n",
       " './output_audience_2020-11-03/segment_Test_TireAndService_31_stores_Store_P_R2M.csv',\n",
       " './output_audience_2020-11-03/segment_Test_TireAndService_31_stores_Store_P_R3L.csv',\n",
       " './output_audience_2020-11-03/segment_Test_TireAndService_31_stores_Store_S_R1H.csv',\n",
       " './output_audience_2020-11-03/segment_Test_TireAndService_31_stores_Store_S_R2M.csv',\n",
       " './output_audience_2020-11-03/segment_Test_TireAndService_31_stores_Store_S_R3L.csv',\n",
       " './output_audience_2020-11-03/segment_Test_TireAndService_9_stores_Ecommerce_All_All.csv',\n",
       " './output_audience_2020-11-03/segment_Test_TireAndService_9_stores_Store_P_R1H.csv',\n",
       " './output_audience_2020-11-03/segment_Test_TireAndService_9_stores_Store_P_R2M.csv',\n",
       " './output_audience_2020-11-03/segment_Test_TireAndService_9_stores_Store_P_R3L.csv',\n",
       " './output_audience_2020-11-03/segment_Test_TireAndService_9_stores_Store_S_R1H.csv',\n",
       " './output_audience_2020-11-03/segment_Test_TireAndService_9_stores_Store_S_R2M.csv',\n",
       " './output_audience_2020-11-03/segment_Test_TireAndService_9_stores_Store_S_R3L.csv']"
      ]
     },
     "execution_count": 9,
     "metadata": {},
     "output_type": "execute_result"
    }
   ],
   "source": [
    "T_list_all_audience_files"
   ]
  },
  {
   "cell_type": "code",
   "execution_count": 10,
   "metadata": {},
   "outputs": [
    {
     "name": "stdout",
     "output_type": "stream",
     "text": [
      "segment_Test_TireAndService_31_stores_Ecommerce_All_All.csv [11]\n",
      "segment_Control_TireAndService_31_stores_Ecommerce_All_All.csv [11]\n",
      "segment_Test_TireAndService_31_stores_Store_P_R1H.csv [11]\n",
      "segment_Control_TireAndService_31_stores_Store_P_R1H.csv [11]\n",
      "segment_Test_TireAndService_31_stores_Store_P_R2M.csv [11]\n",
      "segment_Control_TireAndService_31_stores_Store_P_R2M.csv [11]\n",
      "segment_Test_TireAndService_31_stores_Store_P_R3L.csv [11]\n",
      "segment_Control_TireAndService_31_stores_Store_P_R3L.csv [11]\n",
      "segment_Test_TireAndService_31_stores_Store_S_R1H.csv [11]\n",
      "segment_Control_TireAndService_31_stores_Store_S_R1H.csv [11]\n",
      "segment_Test_TireAndService_31_stores_Store_S_R2M.csv [11]\n",
      "segment_Control_TireAndService_31_stores_Store_S_R2M.csv [11]\n",
      "segment_Test_TireAndService_31_stores_Store_S_R3L.csv [11]\n",
      "segment_Control_TireAndService_31_stores_Store_S_R3L.csv [11]\n",
      "segment_Test_TireAndService_9_stores_Ecommerce_All_All.csv [11]\n",
      "segment_Control_TireAndService_9_stores_Ecommerce_All_All.csv [11]\n",
      "segment_Test_TireAndService_9_stores_Store_P_R1H.csv [11]\n",
      "segment_Control_TireAndService_9_stores_Store_P_R1H.csv [11]\n",
      "segment_Test_TireAndService_9_stores_Store_P_R2M.csv [11]\n",
      "segment_Control_TireAndService_9_stores_Store_P_R2M.csv [11]\n",
      "segment_Test_TireAndService_9_stores_Store_P_R3L.csv [11]\n",
      "segment_Control_TireAndService_9_stores_Store_P_R3L.csv [11]\n",
      "segment_Test_TireAndService_9_stores_Store_S_R1H.csv [11]\n",
      "segment_Control_TireAndService_9_stores_Store_S_R1H.csv [11]\n",
      "segment_Test_TireAndService_9_stores_Store_S_R2M.csv [11]\n",
      "segment_Control_TireAndService_9_stores_Store_S_R2M.csv [11]\n",
      "segment_Test_TireAndService_9_stores_Store_S_R3L.csv [11]\n",
      "segment_Control_TireAndService_9_stores_Store_S_R3L.csv [11]\n"
     ]
    }
   ],
   "source": [
    "random.seed(0)\n",
    "\n",
    "for file in T_list_all_audience_files:\n",
    "    seg_basename=file.split(\"segment_Test\")[1].split(\".\")[0]\n",
    "    df=pd.read_csv(file,dtype=str)\n",
    "    df['best_email_txt']=df['best_email_txt'].apply(lambda x: x.lower().strip() if pd.notnull(x) else x)\n",
    "    df['best_phone_num']=df['best_phone_num'].apply(lambda x: \"1\"+str(int(x.lower().strip())) if pd.notnull(x) else x)\n",
    "    \n",
    "    df_notnull=df[pd.notnull(df['best_phone_num'])]\n",
    "    print(os.path.basename(file),df_notnull['best_phone_num'].apply(len).unique())\n",
    "    df.to_csv(folder_cleaned_audience+os.path.basename(file),index=False)\n",
    "    \n",
    "    count_T=df.shape[0]\n",
    "    \n",
    "    file_C=[x for x in C_list_all_audience_files if seg_basename in x]\n",
    "    if len(file_C)!=1:\n",
    "        raise ValueError(\"len(file_C)!=:\")\n",
    "    else:\n",
    "        file_C=file_C[0]\n",
    "        df_C=pd.read_csv(file_C,dtype=str)\n",
    "        df_C['best_email_txt']=df_C['best_email_txt'].apply(lambda x: x.lower().strip() if pd.notnull(x) else x)\n",
    "        df_C['best_phone_num']=df_C['best_phone_num'].apply(lambda x: \"1\"+str(int(x.lower().strip())) if pd.notnull(x) else x)\n",
    "        df_notnull=df_C[pd.notnull(df_C['best_phone_num'])]\n",
    "        print(os.path.basename(file_C),df_notnull['best_phone_num'].apply(len).unique())\n",
    "        \n",
    "        df_C=df_C[~df_C['indiv_key'].isin(list_all_T_ids)]\n",
    "        df_C=df_C[~df_C['best_email_txt'].isin(list_all_T_emails)]\n",
    "        df_C=df_C[~df_C['best_phone_num'].isin(list_all_T_phones)]\n",
    "        \n",
    "        df_C=df_C.reset_index()\n",
    "        del df_C['index']\n",
    "        df_C=df_C.reset_index()\n",
    "        if df_C.shape[0]<=count_T:\n",
    "            df_C.to_csv(folder_cleaned_audience+os.path.basename(file_C),index=False)\n",
    "        else:\n",
    "            \n",
    "            list_kept_index=random.sample(range(df_C.shape[0]),count_T)\n",
    "            df_C=df_C[df_C['index'].isin(list_kept_index)]\n",
    "            del df_C['index']\n",
    "            df_C.to_csv(folder_cleaned_audience+os.path.basename(file_C),index=False)\n",
    "        \n",
    "        \n",
    "    "
   ]
  },
  {
   "cell_type": "code",
   "execution_count": 11,
   "metadata": {},
   "outputs": [],
   "source": [
    "list_all_cleaned_audience_files=glob.glob(folder_cleaned_audience+\"*.csv\")\n",
    "del list_all_audience_files"
   ]
  },
  {
   "cell_type": "code",
   "execution_count": 12,
   "metadata": {},
   "outputs": [
    {
     "name": "stdout",
     "output_type": "stream",
     "text": [
      "28\n"
     ]
    },
    {
     "data": {
      "text/plain": [
       "['./output_cleaned_audience_2020-11-06/segment_Control_TireAndService_31_stores_Store_S_R3L.csv',\n",
       " './output_cleaned_audience_2020-11-06/segment_Control_TireAndService_31_stores_Store_S_R2M.csv',\n",
       " './output_cleaned_audience_2020-11-06/segment_Control_TireAndService_9_stores_Store_P_R3L.csv',\n",
       " './output_cleaned_audience_2020-11-06/segment_Control_TireAndService_9_stores_Store_S_R3L.csv',\n",
       " './output_cleaned_audience_2020-11-06/segment_Test_TireAndService_31_stores_Store_S_R1H.csv',\n",
       " './output_cleaned_audience_2020-11-06/segment_Test_TireAndService_9_stores_Store_P_R3L.csv',\n",
       " './output_cleaned_audience_2020-11-06/segment_Test_TireAndService_31_stores_Store_P_R1H.csv',\n",
       " './output_cleaned_audience_2020-11-06/segment_Test_TireAndService_31_stores_Store_P_R2M.csv',\n",
       " './output_cleaned_audience_2020-11-06/segment_Test_TireAndService_31_stores_Store_P_R3L.csv',\n",
       " './output_cleaned_audience_2020-11-06/segment_Control_TireAndService_31_stores_Store_P_R1H.csv',\n",
       " './output_cleaned_audience_2020-11-06/segment_Test_TireAndService_31_stores_Store_S_R2M.csv',\n",
       " './output_cleaned_audience_2020-11-06/segment_Test_TireAndService_9_stores_Store_S_R3L.csv',\n",
       " './output_cleaned_audience_2020-11-06/segment_Control_TireAndService_9_stores_Store_S_R2M.csv',\n",
       " './output_cleaned_audience_2020-11-06/segment_Control_TireAndService_31_stores_Store_P_R3L.csv',\n",
       " './output_cleaned_audience_2020-11-06/segment_Control_TireAndService_31_stores_Store_S_R1H.csv',\n",
       " './output_cleaned_audience_2020-11-06/segment_Control_TireAndService_31_stores_Store_P_R2M.csv',\n",
       " './output_cleaned_audience_2020-11-06/segment_Control_TireAndService_9_stores_Store_P_R2M.csv',\n",
       " './output_cleaned_audience_2020-11-06/segment_Control_TireAndService_9_stores_Store_S_R1H.csv',\n",
       " './output_cleaned_audience_2020-11-06/segment_Test_TireAndService_31_stores_Store_S_R3L.csv',\n",
       " './output_cleaned_audience_2020-11-06/segment_Control_TireAndService_9_stores_Store_P_R1H.csv',\n",
       " './output_cleaned_audience_2020-11-06/segment_Control_TireAndService_9_stores_Ecommerce_All_All.csv',\n",
       " './output_cleaned_audience_2020-11-06/segment_Test_TireAndService_31_stores_Ecommerce_All_All.csv',\n",
       " './output_cleaned_audience_2020-11-06/segment_Test_TireAndService_9_stores_Store_P_R1H.csv',\n",
       " './output_cleaned_audience_2020-11-06/segment_Test_TireAndService_9_stores_Store_S_R1H.csv',\n",
       " './output_cleaned_audience_2020-11-06/segment_Test_TireAndService_9_stores_Store_S_R2M.csv',\n",
       " './output_cleaned_audience_2020-11-06/segment_Control_TireAndService_31_stores_Ecommerce_All_All.csv',\n",
       " './output_cleaned_audience_2020-11-06/segment_Test_TireAndService_9_stores_Ecommerce_All_All.csv',\n",
       " './output_cleaned_audience_2020-11-06/segment_Test_TireAndService_9_stores_Store_P_R2M.csv']"
      ]
     },
     "execution_count": 12,
     "metadata": {},
     "output_type": "execute_result"
    }
   ],
   "source": [
    "print(len(list_all_cleaned_audience_files))\n",
    "list_all_cleaned_audience_files"
   ]
  },
  {
   "cell_type": "code",
   "execution_count": 13,
   "metadata": {},
   "outputs": [
    {
     "name": "stdout",
     "output_type": "stream",
     "text": [
      "set view overall: \n",
      " 364773 153417 354061\n",
      "set view overall: \n",
      " 66836 28255 64490\n",
      "set view overall: \n",
      " 316097 121918 301789\n",
      "set view overall: \n",
      " 69547 25621 66498\n"
     ]
    }
   ],
   "source": [
    "dict_summary_output_df={}\n",
    "for set_x in list_audience_set:\n",
    "    df_all_aud=pd.DataFrame()\n",
    "    list_files=[x for x in list_all_cleaned_audience_files if set_x in x]\n",
    "    list_files.sort()\n",
    "    df_aud_summary=pd.DataFrame()\n",
    "    for file in list_files:\n",
    "        df=pd.read_csv(file,dtype=str)\n",
    "        df_all_aud=df_all_aud.append(df)\n",
    "        n_unique_key=df['indiv_key'].nunique()\n",
    "        n_unique_email=df[pd.notnull(df['best_email_txt'])]['best_email_txt'].nunique()\n",
    "        n_unique_phone=df[pd.notnull(df['best_phone_num'])]['best_email_txt'].nunique()\n",
    "        df=pd.DataFrame({\"segment\":os.path.basename(file).split(\".\")[0], \n",
    "                         \"n_unique_key\":n_unique_key, \n",
    "                         \"n_unique_email\":n_unique_email, \n",
    "                         \"n_unique_phone\":n_unique_phone},index=[0])\n",
    "        df_aud_summary=df_aud_summary.append(df)\n",
    "    n_unique_key=df_all_aud['indiv_key'].nunique()\n",
    "    n_unique_email=df_all_aud[pd.notnull(df_all_aud['best_email_txt'])]['best_email_txt'].nunique()\n",
    "    n_unique_phone=df_all_aud[pd.notnull(df_all_aud['best_phone_num'])]['best_email_txt'].nunique()  \n",
    "    df=pd.DataFrame({\"segment\":\"GrandTotal_\"+set_x, \n",
    "                         \"n_unique_key\":n_unique_key, \n",
    "                         \"n_unique_email\":n_unique_email, \n",
    "                         \"n_unique_phone\":n_unique_phone},index=[0])\n",
    "    df_aud_summary=df_aud_summary.append(df)\n",
    "    \n",
    "    dict_summary_output_df.update({set_x:df_aud_summary})\n",
    "    print(\"set view overall: \\n\",df_all_aud['indiv_key'].nunique(),df_all_aud['best_email_txt'].nunique(),df_all_aud['best_phone_num'].nunique())\n",
    "    \n",
    "    "
   ]
  },
  {
   "cell_type": "code",
   "execution_count": 14,
   "metadata": {},
   "outputs": [],
   "source": [
    "writer=pd.ExcelWriter(\"./GY_audience_summary_JL_%s.xlsx\"%str(datetime.datetime.now().date()),engine=\"xlsxwriter\")\n",
    "for set_x in dict_summary_output_df.keys():\n",
    "    dict_summary_output_df[set_x].to_excel(writer,set_x[:31],index=False)\n",
    "writer.save()"
   ]
  },
  {
   "cell_type": "code",
   "execution_count": 15,
   "metadata": {},
   "outputs": [
    {
     "data": {
      "text/plain": [
       "dict_keys(['Control_TireAndService_31_stores', 'Control_TireAndService_9_stores', 'Test_TireAndService_31_stores', 'Test_TireAndService_9_stores'])"
      ]
     },
     "execution_count": 15,
     "metadata": {},
     "output_type": "execute_result"
    }
   ],
   "source": [
    "dict_summary_output_df.keys()"
   ]
  },
  {
   "cell_type": "code",
   "execution_count": 16,
   "metadata": {},
   "outputs": [
    {
     "data": {
      "text/html": [
       "<div>\n",
       "<style scoped>\n",
       "    .dataframe tbody tr th:only-of-type {\n",
       "        vertical-align: middle;\n",
       "    }\n",
       "\n",
       "    .dataframe tbody tr th {\n",
       "        vertical-align: top;\n",
       "    }\n",
       "\n",
       "    .dataframe thead th {\n",
       "        text-align: right;\n",
       "    }\n",
       "</style>\n",
       "<table border=\"1\" class=\"dataframe\">\n",
       "  <thead>\n",
       "    <tr style=\"text-align: right;\">\n",
       "      <th></th>\n",
       "      <th>segment</th>\n",
       "      <th>n_unique_key</th>\n",
       "      <th>n_unique_email</th>\n",
       "      <th>n_unique_phone</th>\n",
       "    </tr>\n",
       "  </thead>\n",
       "  <tbody>\n",
       "    <tr>\n",
       "      <th>0</th>\n",
       "      <td>segment_Control_TireAndService_31_stores_Ecomm...</td>\n",
       "      <td>19202</td>\n",
       "      <td>18429</td>\n",
       "      <td>18062</td>\n",
       "    </tr>\n",
       "    <tr>\n",
       "      <th>0</th>\n",
       "      <td>segment_Control_TireAndService_31_stores_Store...</td>\n",
       "      <td>34784</td>\n",
       "      <td>15209</td>\n",
       "      <td>15168</td>\n",
       "    </tr>\n",
       "    <tr>\n",
       "      <th>0</th>\n",
       "      <td>segment_Control_TireAndService_31_stores_Store...</td>\n",
       "      <td>53249</td>\n",
       "      <td>21387</td>\n",
       "      <td>21357</td>\n",
       "    </tr>\n",
       "    <tr>\n",
       "      <th>0</th>\n",
       "      <td>segment_Control_TireAndService_31_stores_Store...</td>\n",
       "      <td>51453</td>\n",
       "      <td>16401</td>\n",
       "      <td>16346</td>\n",
       "    </tr>\n",
       "    <tr>\n",
       "      <th>0</th>\n",
       "      <td>segment_Control_TireAndService_31_stores_Store...</td>\n",
       "      <td>55855</td>\n",
       "      <td>24961</td>\n",
       "      <td>24912</td>\n",
       "    </tr>\n",
       "    <tr>\n",
       "      <th>0</th>\n",
       "      <td>segment_Control_TireAndService_31_stores_Store...</td>\n",
       "      <td>101866</td>\n",
       "      <td>43334</td>\n",
       "      <td>43275</td>\n",
       "    </tr>\n",
       "    <tr>\n",
       "      <th>0</th>\n",
       "      <td>segment_Control_TireAndService_31_stores_Store...</td>\n",
       "      <td>102560</td>\n",
       "      <td>35836</td>\n",
       "      <td>35736</td>\n",
       "    </tr>\n",
       "    <tr>\n",
       "      <th>0</th>\n",
       "      <td>GrandTotal_Control_TireAndService_31_stores</td>\n",
       "      <td>364773</td>\n",
       "      <td>153417</td>\n",
       "      <td>152776</td>\n",
       "    </tr>\n",
       "  </tbody>\n",
       "</table>\n",
       "</div>"
      ],
      "text/plain": [
       "                                             segment  n_unique_key  \\\n",
       "0  segment_Control_TireAndService_31_stores_Ecomm...         19202   \n",
       "0  segment_Control_TireAndService_31_stores_Store...         34784   \n",
       "0  segment_Control_TireAndService_31_stores_Store...         53249   \n",
       "0  segment_Control_TireAndService_31_stores_Store...         51453   \n",
       "0  segment_Control_TireAndService_31_stores_Store...         55855   \n",
       "0  segment_Control_TireAndService_31_stores_Store...        101866   \n",
       "0  segment_Control_TireAndService_31_stores_Store...        102560   \n",
       "0        GrandTotal_Control_TireAndService_31_stores        364773   \n",
       "\n",
       "   n_unique_email  n_unique_phone  \n",
       "0           18429           18062  \n",
       "0           15209           15168  \n",
       "0           21387           21357  \n",
       "0           16401           16346  \n",
       "0           24961           24912  \n",
       "0           43334           43275  \n",
       "0           35836           35736  \n",
       "0          153417          152776  "
      ]
     },
     "execution_count": 16,
     "metadata": {},
     "output_type": "execute_result"
    }
   ],
   "source": [
    "list(dict_summary_output_df.values())[0]"
   ]
  },
  {
   "cell_type": "code",
   "execution_count": 17,
   "metadata": {},
   "outputs": [
    {
     "data": {
      "text/html": [
       "<div>\n",
       "<style scoped>\n",
       "    .dataframe tbody tr th:only-of-type {\n",
       "        vertical-align: middle;\n",
       "    }\n",
       "\n",
       "    .dataframe tbody tr th {\n",
       "        vertical-align: top;\n",
       "    }\n",
       "\n",
       "    .dataframe thead th {\n",
       "        text-align: right;\n",
       "    }\n",
       "</style>\n",
       "<table border=\"1\" class=\"dataframe\">\n",
       "  <thead>\n",
       "    <tr style=\"text-align: right;\">\n",
       "      <th></th>\n",
       "      <th>segment</th>\n",
       "      <th>n_unique_key</th>\n",
       "      <th>n_unique_email</th>\n",
       "      <th>n_unique_phone</th>\n",
       "    </tr>\n",
       "  </thead>\n",
       "  <tbody>\n",
       "    <tr>\n",
       "      <th>0</th>\n",
       "      <td>segment_Control_TireAndService_9_stores_Ecomme...</td>\n",
       "      <td>4497</td>\n",
       "      <td>4318</td>\n",
       "      <td>4247</td>\n",
       "    </tr>\n",
       "    <tr>\n",
       "      <th>0</th>\n",
       "      <td>segment_Control_TireAndService_9_stores_Store_...</td>\n",
       "      <td>7452</td>\n",
       "      <td>3185</td>\n",
       "      <td>3180</td>\n",
       "    </tr>\n",
       "    <tr>\n",
       "      <th>0</th>\n",
       "      <td>segment_Control_TireAndService_9_stores_Store_...</td>\n",
       "      <td>10769</td>\n",
       "      <td>4392</td>\n",
       "      <td>4379</td>\n",
       "    </tr>\n",
       "    <tr>\n",
       "      <th>0</th>\n",
       "      <td>segment_Control_TireAndService_9_stores_Store_...</td>\n",
       "      <td>11556</td>\n",
       "      <td>3643</td>\n",
       "      <td>3623</td>\n",
       "    </tr>\n",
       "    <tr>\n",
       "      <th>0</th>\n",
       "      <td>segment_Control_TireAndService_9_stores_Store_...</td>\n",
       "      <td>7700</td>\n",
       "      <td>3420</td>\n",
       "      <td>3414</td>\n",
       "    </tr>\n",
       "    <tr>\n",
       "      <th>0</th>\n",
       "      <td>segment_Control_TireAndService_9_stores_Store_...</td>\n",
       "      <td>11631</td>\n",
       "      <td>5140</td>\n",
       "      <td>5125</td>\n",
       "    </tr>\n",
       "    <tr>\n",
       "      <th>0</th>\n",
       "      <td>segment_Control_TireAndService_9_stores_Store_...</td>\n",
       "      <td>13451</td>\n",
       "      <td>4538</td>\n",
       "      <td>4526</td>\n",
       "    </tr>\n",
       "    <tr>\n",
       "      <th>0</th>\n",
       "      <td>GrandTotal_Control_TireAndService_9_stores</td>\n",
       "      <td>66836</td>\n",
       "      <td>28255</td>\n",
       "      <td>28117</td>\n",
       "    </tr>\n",
       "  </tbody>\n",
       "</table>\n",
       "</div>"
      ],
      "text/plain": [
       "                                             segment  n_unique_key  \\\n",
       "0  segment_Control_TireAndService_9_stores_Ecomme...          4497   \n",
       "0  segment_Control_TireAndService_9_stores_Store_...          7452   \n",
       "0  segment_Control_TireAndService_9_stores_Store_...         10769   \n",
       "0  segment_Control_TireAndService_9_stores_Store_...         11556   \n",
       "0  segment_Control_TireAndService_9_stores_Store_...          7700   \n",
       "0  segment_Control_TireAndService_9_stores_Store_...         11631   \n",
       "0  segment_Control_TireAndService_9_stores_Store_...         13451   \n",
       "0         GrandTotal_Control_TireAndService_9_stores         66836   \n",
       "\n",
       "   n_unique_email  n_unique_phone  \n",
       "0            4318            4247  \n",
       "0            3185            3180  \n",
       "0            4392            4379  \n",
       "0            3643            3623  \n",
       "0            3420            3414  \n",
       "0            5140            5125  \n",
       "0            4538            4526  \n",
       "0           28255           28117  "
      ]
     },
     "execution_count": 17,
     "metadata": {},
     "output_type": "execute_result"
    }
   ],
   "source": [
    "list(dict_summary_output_df.values())[1]"
   ]
  },
  {
   "cell_type": "code",
   "execution_count": 18,
   "metadata": {},
   "outputs": [
    {
     "data": {
      "text/html": [
       "<div>\n",
       "<style scoped>\n",
       "    .dataframe tbody tr th:only-of-type {\n",
       "        vertical-align: middle;\n",
       "    }\n",
       "\n",
       "    .dataframe tbody tr th {\n",
       "        vertical-align: top;\n",
       "    }\n",
       "\n",
       "    .dataframe thead th {\n",
       "        text-align: right;\n",
       "    }\n",
       "</style>\n",
       "<table border=\"1\" class=\"dataframe\">\n",
       "  <thead>\n",
       "    <tr style=\"text-align: right;\">\n",
       "      <th></th>\n",
       "      <th>segment</th>\n",
       "      <th>n_unique_key</th>\n",
       "      <th>n_unique_email</th>\n",
       "      <th>n_unique_phone</th>\n",
       "    </tr>\n",
       "  </thead>\n",
       "  <tbody>\n",
       "    <tr>\n",
       "      <th>0</th>\n",
       "      <td>segment_Test_TireAndService_31_stores_Ecommerc...</td>\n",
       "      <td>19202</td>\n",
       "      <td>18324</td>\n",
       "      <td>17986</td>\n",
       "    </tr>\n",
       "    <tr>\n",
       "      <th>0</th>\n",
       "      <td>segment_Test_TireAndService_31_stores_Store_P_R1H</td>\n",
       "      <td>42525</td>\n",
       "      <td>17806</td>\n",
       "      <td>17782</td>\n",
       "    </tr>\n",
       "    <tr>\n",
       "      <th>0</th>\n",
       "      <td>segment_Test_TireAndService_31_stores_Store_P_R2M</td>\n",
       "      <td>59255</td>\n",
       "      <td>22566</td>\n",
       "      <td>22523</td>\n",
       "    </tr>\n",
       "    <tr>\n",
       "      <th>0</th>\n",
       "      <td>segment_Test_TireAndService_31_stores_Store_P_R3L</td>\n",
       "      <td>54875</td>\n",
       "      <td>15850</td>\n",
       "      <td>15801</td>\n",
       "    </tr>\n",
       "    <tr>\n",
       "      <th>0</th>\n",
       "      <td>segment_Test_TireAndService_31_stores_Store_S_R1H</td>\n",
       "      <td>67763</td>\n",
       "      <td>27852</td>\n",
       "      <td>27796</td>\n",
       "    </tr>\n",
       "    <tr>\n",
       "      <th>0</th>\n",
       "      <td>segment_Test_TireAndService_31_stores_Store_S_R2M</td>\n",
       "      <td>104483</td>\n",
       "      <td>40220</td>\n",
       "      <td>40150</td>\n",
       "    </tr>\n",
       "    <tr>\n",
       "      <th>0</th>\n",
       "      <td>segment_Test_TireAndService_31_stores_Store_S_R3L</td>\n",
       "      <td>102560</td>\n",
       "      <td>31597</td>\n",
       "      <td>31487</td>\n",
       "    </tr>\n",
       "    <tr>\n",
       "      <th>0</th>\n",
       "      <td>GrandTotal_Test_TireAndService_31_stores</td>\n",
       "      <td>316097</td>\n",
       "      <td>121918</td>\n",
       "      <td>121336</td>\n",
       "    </tr>\n",
       "  </tbody>\n",
       "</table>\n",
       "</div>"
      ],
      "text/plain": [
       "                                             segment  n_unique_key  \\\n",
       "0  segment_Test_TireAndService_31_stores_Ecommerc...         19202   \n",
       "0  segment_Test_TireAndService_31_stores_Store_P_R1H         42525   \n",
       "0  segment_Test_TireAndService_31_stores_Store_P_R2M         59255   \n",
       "0  segment_Test_TireAndService_31_stores_Store_P_R3L         54875   \n",
       "0  segment_Test_TireAndService_31_stores_Store_S_R1H         67763   \n",
       "0  segment_Test_TireAndService_31_stores_Store_S_R2M        104483   \n",
       "0  segment_Test_TireAndService_31_stores_Store_S_R3L        102560   \n",
       "0           GrandTotal_Test_TireAndService_31_stores        316097   \n",
       "\n",
       "   n_unique_email  n_unique_phone  \n",
       "0           18324           17986  \n",
       "0           17806           17782  \n",
       "0           22566           22523  \n",
       "0           15850           15801  \n",
       "0           27852           27796  \n",
       "0           40220           40150  \n",
       "0           31597           31487  \n",
       "0          121918          121336  "
      ]
     },
     "execution_count": 18,
     "metadata": {},
     "output_type": "execute_result"
    }
   ],
   "source": [
    "list(dict_summary_output_df.values())[2]"
   ]
  },
  {
   "cell_type": "code",
   "execution_count": 19,
   "metadata": {},
   "outputs": [
    {
     "data": {
      "text/html": [
       "<div>\n",
       "<style scoped>\n",
       "    .dataframe tbody tr th:only-of-type {\n",
       "        vertical-align: middle;\n",
       "    }\n",
       "\n",
       "    .dataframe tbody tr th {\n",
       "        vertical-align: top;\n",
       "    }\n",
       "\n",
       "    .dataframe thead th {\n",
       "        text-align: right;\n",
       "    }\n",
       "</style>\n",
       "<table border=\"1\" class=\"dataframe\">\n",
       "  <thead>\n",
       "    <tr style=\"text-align: right;\">\n",
       "      <th></th>\n",
       "      <th>segment</th>\n",
       "      <th>n_unique_key</th>\n",
       "      <th>n_unique_email</th>\n",
       "      <th>n_unique_phone</th>\n",
       "    </tr>\n",
       "  </thead>\n",
       "  <tbody>\n",
       "    <tr>\n",
       "      <th>0</th>\n",
       "      <td>segment_Test_TireAndService_9_stores_Ecommerce...</td>\n",
       "      <td>4497</td>\n",
       "      <td>4214</td>\n",
       "      <td>4152</td>\n",
       "    </tr>\n",
       "    <tr>\n",
       "      <th>0</th>\n",
       "      <td>segment_Test_TireAndService_9_stores_Store_P_R1H</td>\n",
       "      <td>8648</td>\n",
       "      <td>3247</td>\n",
       "      <td>3230</td>\n",
       "    </tr>\n",
       "    <tr>\n",
       "      <th>0</th>\n",
       "      <td>segment_Test_TireAndService_9_stores_Store_P_R2M</td>\n",
       "      <td>11808</td>\n",
       "      <td>4373</td>\n",
       "      <td>4365</td>\n",
       "    </tr>\n",
       "    <tr>\n",
       "      <th>0</th>\n",
       "      <td>segment_Test_TireAndService_9_stores_Store_P_R3L</td>\n",
       "      <td>13181</td>\n",
       "      <td>3547</td>\n",
       "      <td>3530</td>\n",
       "    </tr>\n",
       "    <tr>\n",
       "      <th>0</th>\n",
       "      <td>segment_Test_TireAndService_9_stores_Store_S_R1H</td>\n",
       "      <td>7700</td>\n",
       "      <td>3056</td>\n",
       "      <td>3042</td>\n",
       "    </tr>\n",
       "    <tr>\n",
       "      <th>0</th>\n",
       "      <td>segment_Test_TireAndService_9_stores_Store_S_R2M</td>\n",
       "      <td>11631</td>\n",
       "      <td>4539</td>\n",
       "      <td>4533</td>\n",
       "    </tr>\n",
       "    <tr>\n",
       "      <th>0</th>\n",
       "      <td>segment_Test_TireAndService_9_stores_Store_S_R3L</td>\n",
       "      <td>13451</td>\n",
       "      <td>4128</td>\n",
       "      <td>4110</td>\n",
       "    </tr>\n",
       "    <tr>\n",
       "      <th>0</th>\n",
       "      <td>GrandTotal_Test_TireAndService_9_stores</td>\n",
       "      <td>69547</td>\n",
       "      <td>25621</td>\n",
       "      <td>25483</td>\n",
       "    </tr>\n",
       "  </tbody>\n",
       "</table>\n",
       "</div>"
      ],
      "text/plain": [
       "                                             segment  n_unique_key  \\\n",
       "0  segment_Test_TireAndService_9_stores_Ecommerce...          4497   \n",
       "0   segment_Test_TireAndService_9_stores_Store_P_R1H          8648   \n",
       "0   segment_Test_TireAndService_9_stores_Store_P_R2M         11808   \n",
       "0   segment_Test_TireAndService_9_stores_Store_P_R3L         13181   \n",
       "0   segment_Test_TireAndService_9_stores_Store_S_R1H          7700   \n",
       "0   segment_Test_TireAndService_9_stores_Store_S_R2M         11631   \n",
       "0   segment_Test_TireAndService_9_stores_Store_S_R3L         13451   \n",
       "0            GrandTotal_Test_TireAndService_9_stores         69547   \n",
       "\n",
       "   n_unique_email  n_unique_phone  \n",
       "0            4214            4152  \n",
       "0            3247            3230  \n",
       "0            4373            4365  \n",
       "0            3547            3530  \n",
       "0            3056            3042  \n",
       "0            4539            4533  \n",
       "0            4128            4110  \n",
       "0           25621           25483  "
      ]
     },
     "execution_count": 19,
     "metadata": {},
     "output_type": "execute_result"
    }
   ],
   "source": [
    "list(dict_summary_output_df.values())[3]"
   ]
  },
  {
   "cell_type": "code",
   "execution_count": 20,
   "metadata": {},
   "outputs": [
    {
     "data": {
      "text/plain": [
       "['Control_TireAndService_31_stores',\n",
       " 'Control_TireAndService_9_stores',\n",
       " 'Test_TireAndService_31_stores',\n",
       " 'Test_TireAndService_9_stores']"
      ]
     },
     "execution_count": 20,
     "metadata": {},
     "output_type": "execute_result"
    }
   ],
   "source": [
    "list_audience_set"
   ]
  },
  {
   "cell_type": "code",
   "execution_count": null,
   "metadata": {},
   "outputs": [],
   "source": []
  }
 ],
 "metadata": {
  "kernelspec": {
   "display_name": "Python 3",
   "language": "python",
   "name": "python3"
  },
  "language_info": {
   "codemirror_mode": {
    "name": "ipython",
    "version": 3
   },
   "file_extension": ".py",
   "mimetype": "text/x-python",
   "name": "python",
   "nbconvert_exporter": "python",
   "pygments_lexer": "ipython3",
   "version": "3.7.6"
  }
 },
 "nbformat": 4,
 "nbformat_minor": 4
}
