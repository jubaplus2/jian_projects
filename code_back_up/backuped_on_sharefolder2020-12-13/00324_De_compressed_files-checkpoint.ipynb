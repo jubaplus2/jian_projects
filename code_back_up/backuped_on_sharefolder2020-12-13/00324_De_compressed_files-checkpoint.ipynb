{
 "cells": [
  {
   "cell_type": "code",
   "execution_count": 1,
   "metadata": {
    "collapsed": true
   },
   "outputs": [],
   "source": [
    "import pandas as pd\n",
    "import datetime\n",
    "import numpy as np\n",
    "import os\n",
    "\n",
    "def recursive_file_gen(my_root_dir):\n",
    "    for root, dirs, files in os.walk(my_root_dir):\n",
    "        for file in files:\n",
    "            yield os.path.join(root, file)"
   ]
  },
  {
   "cell_type": "code",
   "execution_count": null,
   "metadata": {
    "collapsed": true
   },
   "outputs": [],
   "source": [
    "list_2_before_201806=[x for x in list(recursive_file_gen(\"/home/jian/BigLots/2017_Daily_Sales_Weeks_Quarter_as_Transfer/\")) if (\"aily\" in x) & ((\".txt\" in x) | (\".zip\" in x)) ]\n",
    "df_2_before_201806=pd.DataFrame({\"path\":list_2_before_201806},index=[x for x in range(len(list_2_before_201806))])\n",
    "df_2_before_201806['type']=df_2_before_201806['path'].apply(lambda x: x[len(x)-3:])\n",
    "dict_2_before_201806_type=df_2_before_201806.set_index('path').to_dict()['type']\n",
    "\n",
    "all_hist_week_ending=[]\n",
    "\n",
    "for path_kay in dict_2_before_201806_type.keys():\n",
    "    type_file=dict_2_before_201806_type[path_kay]\n",
    "    if type_file==\"txt\":\n",
    "        df=pd.read_table(path_kay,dtype=str,sep=\"|\")\n",
    "        date_week_end=df['transaction_dt'].max()\n",
    "        all_date=df['transaction_dt'].unique()\n",
    "        if len(all_date)>7:\n",
    "            print(date_week_end)\n",
    "            break\n",
    "        else:\n",
    "            df.to_csv(\"/home/jian/BigLots/hist_daily_data/MediaStormDailySales_week_ending_\"+date_week_end+\".txt\",sep=\"|\",index=False)\n",
    "            all_hist_week_ending=all_hist_week_ending+[date_week_end]\n",
    "    elif type_file==\"zip\":\n",
    "        df=pd.read_table(path_kay,dtype=str,sep=\"|\",compression=\"zip\")\n",
    "        date_week_end=df['transaction_dt'].max()\n",
    "        all_date=df['transaction_dt'].unique()\n",
    "        if len(all_date)>7:\n",
    "            print(date_week_end)\n",
    "            break\n",
    "        else:\n",
    "            df.to_csv(\"/home/jian/BigLots/hist_daily_data/MediaStormDailySales_week_ending_\"+date_week_end+\".txt\",sep=\"|\",index=False)\n",
    "            all_hist_week_ending=all_hist_week_ending+[date_week_end]\n"
   ]
  }
 ],
 "metadata": {
  "kernelspec": {
   "display_name": "Python 3",
   "language": "python",
   "name": "python3"
  },
  "language_info": {
   "codemirror_mode": {
    "name": "ipython",
    "version": 3
   },
   "file_extension": ".py",
   "mimetype": "text/x-python",
   "name": "python",
   "nbconvert_exporter": "python",
   "pygments_lexer": "ipython3",
   "version": "3.6.1"
  }
 },
 "nbformat": 4,
 "nbformat_minor": 2
}
