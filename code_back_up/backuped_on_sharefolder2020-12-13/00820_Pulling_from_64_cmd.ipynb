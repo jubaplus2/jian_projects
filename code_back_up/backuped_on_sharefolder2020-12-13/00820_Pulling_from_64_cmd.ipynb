{
 "cells": [
  {
   "cell_type": "code",
   "execution_count": 1,
   "metadata": {},
   "outputs": [
    {
     "data": {
      "text/plain": [
       "'/home/jian/Docs/SafeGraph'"
      ]
     },
     "execution_count": 1,
     "metadata": {},
     "output_type": "execute_result"
    }
   ],
   "source": [
    "'''\n",
    "scp -r jian@64.237.51.251:/mnt/drv5/SafeGraph/places_20191202/ /home/jian/Docs/SafeGraph/places_20191202/\n",
    "'''"
   ]
  },
  {
   "cell_type": "code",
   "execution_count": 1,
   "metadata": {},
   "outputs": [
    {
     "name": "stdout",
     "output_type": "stream",
     "text": [
      "2020-05-19 14:18:58.363623\n",
      "/home/jian/Docs/POI\n"
     ]
    }
   ],
   "source": [
    "import paramiko\n",
    "import os\n",
    "import datetime\n",
    "\n",
    "print(datetime.datetime.now())\n",
    "print(os.getcwd())"
   ]
  },
  {
   "cell_type": "code",
   "execution_count": 2,
   "metadata": {},
   "outputs": [],
   "source": [
    "host = \"107.191.32.220\" #hard-coded\n",
    "port = 22\n",
    "transport = paramiko.Transport((host, port))\n",
    "\n",
    "password = \"juba-jl1\" #hard-coded\n",
    "username = \"jian\" #hard-coded\n",
    "transport.connect(username = username, password = password)\n",
    "sftp = paramiko.SFTPClient.from_transport(transport)"
   ]
  },
  {
   "cell_type": "code",
   "execution_count": 3,
   "metadata": {},
   "outputs": [
    {
     "data": {
      "text/plain": [
       "['core_poi-geometry-part1.csv.gz',\n",
       " 'core_poi-geometry-part10.csv.gz',\n",
       " 'core_poi-geometry-part2.csv.gz',\n",
       " 'core_poi-geometry-part3.csv.gz',\n",
       " 'core_poi-geometry-part4.csv.gz',\n",
       " 'core_poi-geometry-part5.csv.gz',\n",
       " 'core_poi-geometry-part6.csv.gz',\n",
       " 'core_poi-geometry-part7.csv.gz',\n",
       " 'core_poi-geometry-part8.csv.gz',\n",
       " 'core_poi-geometry-part9.csv.gz']"
      ]
     },
     "execution_count": 3,
     "metadata": {},
     "output_type": "execute_result"
    }
   ],
   "source": [
    "remote_folder_POI=\"/mnt/drv5/movement/places/poi/202004/06/08/\"\n",
    "\n",
    "list_remote_files=sftp.listdir(remote_folder_POI)\n",
    "list_remote_files=[x for x in list_remote_files if \".csv\" in x]\n",
    "list_remote_files.sort()\n",
    "list_remote_files"
   ]
  },
  {
   "cell_type": "code",
   "execution_count": 4,
   "metadata": {},
   "outputs": [],
   "source": [
    "local_folder=\"/home/jian/Docs/POI/places_20200406/\"\n",
    "try:\n",
    "    os.stat(local_folder)\n",
    "except:\n",
    "    os.mkdir(local_folder)\n",
    "    \n",
    "for file in list_remote_files:\n",
    "    sftp.get(remote_folder_POI+file,local_folder+file)\n",
    "# sftp.close()\n",
    "# transport.close()"
   ]
  },
  {
   "cell_type": "code",
   "execution_count": null,
   "metadata": {},
   "outputs": [],
   "source": []
  },
  {
   "cell_type": "code",
   "execution_count": 5,
   "metadata": {},
   "outputs": [],
   "source": [
    "remote_brand_info=\"/mnt/drv5/movement/places_20190204/brand_info/part-00000-tid-3169497161568699755-0a71d798-e636-4e2f-949e-02e4669f577c-43-c000.csv.gz\"\n",
    "sftp.get(remote_brand_info,local_folder+os.path.basename(remote_brand_info))\n",
    "sftp.close()\n",
    "transport.close()"
   ]
  },
  {
   "cell_type": "code",
   "execution_count": null,
   "metadata": {},
   "outputs": [],
   "source": []
  }
 ],
 "metadata": {
  "kernelspec": {
   "display_name": "Python 3",
   "language": "python",
   "name": "python3"
  },
  "language_info": {
   "codemirror_mode": {
    "name": "ipython",
    "version": 3
   },
   "file_extension": ".py",
   "mimetype": "text/x-python",
   "name": "python",
   "nbconvert_exporter": "python",
   "pygments_lexer": "ipython3",
   "version": "3.6.1"
  }
 },
 "nbformat": 4,
 "nbformat_minor": 2
}
