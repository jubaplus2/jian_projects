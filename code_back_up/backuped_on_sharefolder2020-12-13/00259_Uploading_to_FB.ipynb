{
 "cells": [
  {
   "cell_type": "code",
   "execution_count": 1,
   "metadata": {},
   "outputs": [],
   "source": [
    "from facebookads.adobjects.customaudience import CustomAudience\n",
    "from facebookads.adobjects.adaccount import AdAccount\n",
    "from facebookads.api import FacebookAdsApi\n",
    "import json\n",
    "import pandas as pd\n",
    "import os\n",
    "import datetime\n",
    "import numpy as np\n",
    "\n",
    "BigLotsAccount_id=\"act_271491453638620\"\n",
    "BigLotsDcart10_id=\"act_2449979771956630\"\n",
    "\n",
    "list_account_id=[BigLotsAccount_id,BigLotsDcart10_id]\n",
    "# jian_APP_ID=\"2537704939796694\"# jian's fb marketing app id\n",
    "jian_token=json.load(open(\"/home/sharefolder/Docs/FB_token/lasest_FB_token_jian.json\",\"r\"))['latest_FB_token']"
   ]
  },
  {
   "cell_type": "code",
   "execution_count": 2,
   "metadata": {},
   "outputs": [],
   "source": [
    "# create new adueince and add the new users to the audiecne, 1 step\n",
    "# Please note the change of the CustomAudience.Schema (row 41 based on the user list format)\n",
    "def creatfbaudience(AudienceName,\n",
    "                    AudienceDescription,\n",
    "                    df,\n",
    "                    ACCESS_TOKEN,\n",
    "                    accountid,\n",
    "                    df_use_col_name,\n",
    "                    fb_schema=CustomAudience.Schema.email_hash):\n",
    "    FacebookAdsApi.init(access_token=ACCESS_TOKEN, api_version='v8.0')\n",
    "    \n",
    "    '''\n",
    "    AudienceName: str, the name shown on FB\n",
    "    AudienceDescription: str, the description shown on FB\n",
    "    df: pd.Dataframe, input with the identifier col\n",
    "    ACCESS_TOKEN: str, access to FB marketing api\n",
    "    accountid: str, account to uplaod\n",
    "    df_use_col_name: str, col name in the df\n",
    "    fb_schema: available schema attribution in the CustomAudience.Schema class. Default for us CustomAudience.Schema.email_hash  \n",
    "    https://github.com/facebook/facebook-python-business-sdk/blob/ac390147132101763a99a917bb59bdc8a374a7ce/facebook_business/adobjects/helpers/customaudiencemixin.py\n",
    "    '''\n",
    "    \n",
    "    myAccount = AdAccount(accountid)\n",
    "    fields = [\n",
    "    ]\n",
    "    params = {\n",
    "      'name': AudienceName,\n",
    "      'subtype': 'CUSTOM',\n",
    "      'description': AudienceDescription,\n",
    "      'customer_file_source': 'PARTNER_PROVIDED_ONLY',\n",
    "    }\n",
    "    fbname = myAccount.create_custom_audience(\n",
    "      fields=fields,\n",
    "      params=params,\n",
    "    )['id']\n",
    "    print(\"Audience ID:\",fbname)\n",
    "    audience = CustomAudience(fbname)\n",
    "    users = list(df[df_use_col_name])\n",
    "    listlen = len(users)\n",
    "    chunck_size=50000\n",
    "    count_uploaded=0\n",
    "    for i in range(int(np.ceil(listlen/chunck_size))):\n",
    "        starti = i*50000\n",
    "        if (i+1)*50000<listlen:\n",
    "            endi = (i+1)*50000\n",
    "        else:\n",
    "            endi = listlen\n",
    "        list0 = users[starti:endi]\n",
    "        \n",
    "        count_uploaded+=len(list0)\n",
    "        audience.add_users(fb_schema, list0)\n",
    "        #print len(list0)   \n",
    "    print(datetime.datetime.now(),AudienceName,\"uploaded\",count_uploaded)\n"
   ]
  },
  {
   "cell_type": "code",
   "execution_count": 7,
   "metadata": {},
   "outputs": [
    {
     "name": "stdout",
     "output_type": "stream",
     "text": [
      "18\n"
     ]
    },
    {
     "data": {
      "text/plain": [
       "['/home/sharefolder/Live_Ramp/Quarterly_Update_2020Q4/uploaded_file_FB/output_2020-10-09/Control_segment_2020Q4.csv',\n",
       " '/home/sharefolder/Live_Ramp/Quarterly_Update_2020Q4/uploaded_file_FB/output_2020-10-09/T_Legacy_Active0X_H.csv',\n",
       " '/home/sharefolder/Live_Ramp/Quarterly_Update_2020Q4/uploaded_file_FB/output_2020-10-09/T_Legacy_Active0X_L.csv',\n",
       " '/home/sharefolder/Live_Ramp/Quarterly_Update_2020Q4/uploaded_file_FB/output_2020-10-09/T_Legacy_Active0X_M.csv',\n",
       " '/home/sharefolder/Live_Ramp/Quarterly_Update_2020Q4/uploaded_file_FB/output_2020-10-09/T_Legacy_ActiveX12_L.csv',\n",
       " '/home/sharefolder/Live_Ramp/Quarterly_Update_2020Q4/uploaded_file_FB/output_2020-10-09/T_Legacy_ActiveX12_M.csv',\n",
       " '/home/sharefolder/Live_Ramp/Quarterly_Update_2020Q4/uploaded_file_FB/output_2020-10-09/T_Legacy_Lapsed1318_L.csv',\n",
       " '/home/sharefolder/Live_Ramp/Quarterly_Update_2020Q4/uploaded_file_FB/output_2020-10-09/T_Legacy_Lapsed1924_Unknown.csv',\n",
       " '/home/sharefolder/Live_Ramp/Quarterly_Update_2020Q4/uploaded_file_FB/output_2020-10-09/T_Legacy_Lapsed2530_Unknown.csv',\n",
       " '/home/sharefolder/Live_Ramp/Quarterly_Update_2020Q4/uploaded_file_FB/output_2020-10-09/T_SOTF_Active0X_H.csv',\n",
       " '/home/sharefolder/Live_Ramp/Quarterly_Update_2020Q4/uploaded_file_FB/output_2020-10-09/T_SOTF_Active0X_L.csv',\n",
       " '/home/sharefolder/Live_Ramp/Quarterly_Update_2020Q4/uploaded_file_FB/output_2020-10-09/T_SOTF_Active0X_M.csv',\n",
       " '/home/sharefolder/Live_Ramp/Quarterly_Update_2020Q4/uploaded_file_FB/output_2020-10-09/T_SOTF_ActiveX12_L.csv',\n",
       " '/home/sharefolder/Live_Ramp/Quarterly_Update_2020Q4/uploaded_file_FB/output_2020-10-09/T_SOTF_ActiveX12_M.csv',\n",
       " '/home/sharefolder/Live_Ramp/Quarterly_Update_2020Q4/uploaded_file_FB/output_2020-10-09/T_SOTF_Lapsed1318_L.csv',\n",
       " '/home/sharefolder/Live_Ramp/Quarterly_Update_2020Q4/uploaded_file_FB/output_2020-10-09/T_SOTF_Lapsed1924_Unknown.csv',\n",
       " '/home/sharefolder/Live_Ramp/Quarterly_Update_2020Q4/uploaded_file_FB/output_2020-10-09/T_SOTF_Lapsed2530_Unknown.csv',\n",
       " '/home/sharefolder/Live_Ramp/Quarterly_Update_2020Q4/uploaded_file_FB/output_2020-10-09/T_SignUpNoPurchase_2_12.csv']"
      ]
     },
     "execution_count": 7,
     "metadata": {},
     "output_type": "execute_result"
    }
   ],
   "source": [
    "import glob\n",
    "folder_latest_files=\"/home/sharefolder/Live_Ramp/Quarterly_Update_2020Q4/uploaded_file_FB/output_2020-10-09/\"\n",
    "list_files_to_upload_2020Q4=glob.glob(folder_latest_files+\"*.csv\")\n",
    "list_files_to_upload_2020Q4.sort()\n",
    "print(len(list_files_to_upload_2020Q4))\n",
    "list_files_to_upload_2020Q4"
   ]
  },
  {
   "cell_type": "code",
   "execution_count": 8,
   "metadata": {},
   "outputs": [
    {
     "data": {
      "text/plain": [
       "(580124, 3)"
      ]
     },
     "execution_count": 8,
     "metadata": {},
     "output_type": "execute_result"
    }
   ],
   "source": [
    "df=pd.read_csv(list_files_to_upload_2020Q4[0])\n",
    "df.shape"
   ]
  },
  {
   "cell_type": "code",
   "execution_count": 9,
   "metadata": {},
   "outputs": [
    {
     "data": {
      "text/html": [
       "<div>\n",
       "<style scoped>\n",
       "    .dataframe tbody tr th:only-of-type {\n",
       "        vertical-align: middle;\n",
       "    }\n",
       "\n",
       "    .dataframe tbody tr th {\n",
       "        vertical-align: top;\n",
       "    }\n",
       "\n",
       "    .dataframe thead th {\n",
       "        text-align: right;\n",
       "    }\n",
       "</style>\n",
       "<table border=\"1\" class=\"dataframe\">\n",
       "  <thead>\n",
       "    <tr style=\"text-align: right;\">\n",
       "      <th></th>\n",
       "      <th>customer_id_hashed</th>\n",
       "      <th>email_address_hash</th>\n",
       "      <th>agg_seg_regardless_zip</th>\n",
       "    </tr>\n",
       "  </thead>\n",
       "  <tbody>\n",
       "    <tr>\n",
       "      <th>0</th>\n",
       "      <td>17a4ab00dea207b996caa4e126942c67b0e0d53f8c41f2...</td>\n",
       "      <td>1f13ed588000f7bfe7c842b8d8904503e09d2860f0e614...</td>\n",
       "      <td>Control_segment_2020Q4</td>\n",
       "    </tr>\n",
       "    <tr>\n",
       "      <th>1</th>\n",
       "      <td>900dc9251d24d03fbbe1d205b9762536d1860e6a183b1f...</td>\n",
       "      <td>413f79c07906cff687de4220a483c53b831a7d238426e8...</td>\n",
       "      <td>Control_segment_2020Q4</td>\n",
       "    </tr>\n",
       "    <tr>\n",
       "      <th>2</th>\n",
       "      <td>24595226987543c9037f8a5be53304621516c2fddf8579...</td>\n",
       "      <td>287446d41df662952ee2ca98a323e39dc98b23926c300d...</td>\n",
       "      <td>Control_segment_2020Q4</td>\n",
       "    </tr>\n",
       "    <tr>\n",
       "      <th>3</th>\n",
       "      <td>44a79ad9932ab655715def34009d646f9a4526cf002a53...</td>\n",
       "      <td>388a32df1bbdd1d083dbee6f536d66bb7c32681a1747d9...</td>\n",
       "      <td>Control_segment_2020Q4</td>\n",
       "    </tr>\n",
       "  </tbody>\n",
       "</table>\n",
       "</div>"
      ],
      "text/plain": [
       "                                  customer_id_hashed  \\\n",
       "0  17a4ab00dea207b996caa4e126942c67b0e0d53f8c41f2...   \n",
       "1  900dc9251d24d03fbbe1d205b9762536d1860e6a183b1f...   \n",
       "2  24595226987543c9037f8a5be53304621516c2fddf8579...   \n",
       "3  44a79ad9932ab655715def34009d646f9a4526cf002a53...   \n",
       "\n",
       "                                  email_address_hash  agg_seg_regardless_zip  \n",
       "0  1f13ed588000f7bfe7c842b8d8904503e09d2860f0e614...  Control_segment_2020Q4  \n",
       "1  413f79c07906cff687de4220a483c53b831a7d238426e8...  Control_segment_2020Q4  \n",
       "2  287446d41df662952ee2ca98a323e39dc98b23926c300d...  Control_segment_2020Q4  \n",
       "3  388a32df1bbdd1d083dbee6f536d66bb7c32681a1747d9...  Control_segment_2020Q4  "
      ]
     },
     "execution_count": 9,
     "metadata": {},
     "output_type": "execute_result"
    }
   ],
   "source": [
    "df.head(4)"
   ]
  },
  {
   "cell_type": "code",
   "execution_count": 10,
   "metadata": {},
   "outputs": [
    {
     "data": {
      "text/plain": [
       "array(['Control_segment_2020Q4'], dtype=object)"
      ]
     },
     "execution_count": 10,
     "metadata": {},
     "output_type": "execute_result"
    }
   ],
   "source": [
    "df['agg_seg_regardless_zip'].unique()"
   ]
  },
  {
   "cell_type": "code",
   "execution_count": 11,
   "metadata": {},
   "outputs": [
    {
     "name": "stdout",
     "output_type": "stream",
     "text": [
      "Audience ID: 23845696138640265\n",
      "2020-10-12 11:54:21.416416 aud_Control_segment_2020Q4 uploaded 580124\n",
      "Audience ID: 23846059927890632\n",
      "2020-10-12 11:55:17.588823 aud_Control_segment_2020Q4 uploaded 580124\n",
      "Audience ID: 23845696145270265\n",
      "2020-10-12 12:04:03.464064 aud_T_Legacy_Active0X_H uploaded 5420744\n",
      "Audience ID: 23846060022670632\n",
      "2020-10-12 12:12:49.662844 aud_T_Legacy_Active0X_H uploaded 5420744\n",
      "Audience ID: 23845696291100265\n",
      "2020-10-12 12:13:53.300058 aud_T_Legacy_Active0X_L uploaded 583080\n",
      "Audience ID: 23846060084000632\n",
      "2020-10-12 12:14:46.494586 aud_T_Legacy_Active0X_L uploaded 583080\n",
      "Audience ID: 23845696305510265\n",
      "2020-10-12 12:20:54.968861 aud_T_Legacy_Active0X_M uploaded 3394596\n",
      "Audience ID: 23846060113100632\n",
      "2020-10-12 12:25:36.273789 aud_T_Legacy_Active0X_M uploaded 3394596\n",
      "Audience ID: 23845696357760265\n",
      "2020-10-12 12:28:13.292273 aud_T_Legacy_ActiveX12_L uploaded 1623504\n",
      "Audience ID: 23846060144470632\n",
      "2020-10-12 12:30:34.506230 aud_T_Legacy_ActiveX12_L uploaded 1623504\n",
      "Audience ID: 23845696422490265\n",
      "2020-10-12 12:31:44.861028 aud_T_Legacy_ActiveX12_M uploaded 693349\n",
      "Audience ID: 23846060151420632\n",
      "2020-10-12 12:33:21.260351 aud_T_Legacy_ActiveX12_M uploaded 693349\n",
      "Audience ID: 23845696492300265\n",
      "2020-10-12 12:36:28.126099 aud_T_Legacy_Lapsed1318_L uploaded 1974357\n",
      "Audience ID: 23846060182190632\n",
      "2020-10-12 12:39:12.564463 aud_T_Legacy_Lapsed1318_L uploaded 1974357\n",
      "Audience ID: 23845696511720265\n",
      "2020-10-12 12:41:31.247993 aud_T_Legacy_Lapsed1924_Unknown uploaded 1495070\n",
      "Audience ID: 23846060199320632\n",
      "2020-10-12 12:43:52.036463 aud_T_Legacy_Lapsed1924_Unknown uploaded 1495070\n",
      "Audience ID: 23845696529070265\n",
      "2020-10-12 12:46:22.976583 aud_T_Legacy_Lapsed2530_Unknown uploaded 1415827\n",
      "Audience ID: 23846060220210632\n",
      "2020-10-12 12:48:18.480013 aud_T_Legacy_Lapsed2530_Unknown uploaded 1415827\n",
      "Audience ID: 23845696542970265\n",
      "2020-10-12 12:53:57.125254 aud_T_SOTF_Active0X_H uploaded 2981465\n",
      "Audience ID: 23846060242300632\n",
      "2020-10-12 12:58:16.246249 aud_T_SOTF_Active0X_H uploaded 2981465\n",
      "Audience ID: 23845696582480265\n",
      "2020-10-12 12:58:46.721644 aud_T_SOTF_Active0X_L uploaded 313312\n",
      "Audience ID: 23846060263680632\n",
      "2020-10-12 12:59:30.020738 aud_T_SOTF_Active0X_L uploaded 313312\n",
      "Audience ID: 23845696591270265\n",
      "2020-10-12 13:02:38.952464 aud_T_SOTF_Active0X_M uploaded 1853523\n",
      "Audience ID: 23846060279180632\n",
      "2020-10-12 13:05:23.754818 aud_T_SOTF_Active0X_M uploaded 1853523\n",
      "Audience ID: 23845696639640265\n",
      "2020-10-12 13:06:44.169620 aud_T_SOTF_ActiveX12_L uploaded 854682\n",
      "Audience ID: 23846060319650632\n",
      "2020-10-12 13:08:02.956427 aud_T_SOTF_ActiveX12_L uploaded 854682\n",
      "Audience ID: 23845696655840265\n",
      "2020-10-12 13:08:38.839495 aud_T_SOTF_ActiveX12_M uploaded 360186\n",
      "Audience ID: 23846060330730632\n",
      "2020-10-12 13:09:05.828391 aud_T_SOTF_ActiveX12_M uploaded 360186\n",
      "Audience ID: 23845696662080265\n",
      "2020-10-12 13:10:40.995815 aud_T_SOTF_Lapsed1318_L uploaded 952716\n",
      "Audience ID: 23846060334740632\n",
      "2020-10-12 13:12:04.450833 aud_T_SOTF_Lapsed1318_L uploaded 952716\n",
      "Audience ID: 23845696678520265\n",
      "2020-10-12 13:13:15.229819 aud_T_SOTF_Lapsed1924_Unknown uploaded 646179\n",
      "Audience ID: 23846060340760632\n",
      "2020-10-12 13:14:27.085019 aud_T_SOTF_Lapsed1924_Unknown uploaded 646179\n",
      "Audience ID: 23845696687730265\n",
      "2020-10-12 13:15:19.759429 aud_T_SOTF_Lapsed2530_Unknown uploaded 576620\n",
      "Audience ID: 23846060344990632\n",
      "2020-10-12 13:16:14.043498 aud_T_SOTF_Lapsed2530_Unknown uploaded 576620\n",
      "Audience ID: 23845696696190265\n",
      "2020-10-12 13:21:32.125027 aud_T_SignUpNoPurchase_2_12 uploaded 3286070\n",
      "Audience ID: 23846060364080632\n",
      "2020-10-12 13:26:28.406894 aud_T_SignUpNoPurchase_2_12 uploaded 3286070\n"
     ]
    }
   ],
   "source": [
    "for file in list_files_to_upload_2020Q4:\n",
    "    for fb_account_id in list_account_id:\n",
    "        audience_name = os.path.basename(file).split(\".\")[0]\n",
    "        description=\"2020Q4 audience to be refreshed: \"+os.path.basename(file).split(\".\")[0]+\"_\"+str(datetime.datetime.now().date())\n",
    "        df = pd.read_csv(file,dtype=str)\n",
    "        creatfbaudience(AudienceName=\"aud_\"+audience_name,\n",
    "                        AudienceDescription=description,\n",
    "                        df=df,\n",
    "                        df_use_col_name='email_address_hash',\n",
    "                        ACCESS_TOKEN=jian_token,\n",
    "                        accountid=fb_account_id)"
   ]
  },
  {
   "cell_type": "code",
   "execution_count": null,
   "metadata": {},
   "outputs": [],
   "source": []
  }
 ],
 "metadata": {
  "kernelspec": {
   "display_name": "Python 3",
   "language": "python",
   "name": "python3"
  },
  "language_info": {
   "codemirror_mode": {
    "name": "ipython",
    "version": 3
   },
   "file_extension": ".py",
   "mimetype": "text/x-python",
   "name": "python",
   "nbconvert_exporter": "python",
   "pygments_lexer": "ipython3",
   "version": "3.6.1"
  }
 },
 "nbformat": 4,
 "nbformat_minor": 2
}
