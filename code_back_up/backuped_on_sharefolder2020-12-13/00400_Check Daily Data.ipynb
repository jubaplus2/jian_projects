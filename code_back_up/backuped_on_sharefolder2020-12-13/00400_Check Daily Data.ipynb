{
 "cells": [
  {
   "cell_type": "code",
   "execution_count": 1,
   "metadata": {
    "collapsed": true
   },
   "outputs": [],
   "source": [
    "import pandas as pd"
   ]
  },
  {
   "cell_type": "code",
   "execution_count": 8,
   "metadata": {
    "collapsed": true
   },
   "outputs": [],
   "source": [
    "daily_data=pd.read_table(\"/home/jian/BigLots/MediaStorm 2018-06-16/MediaStormDailySales.txt\",sep=\"|\")\n",
    "weekly_data=pd.read_table(\"/home/jian/BigLots/MediaStorm 2018-06-16/MediaStormSalesWeekly.txt\",sep=\"|\")"
   ]
  },
  {
   "cell_type": "code",
   "execution_count": 9,
   "metadata": {},
   "outputs": [
    {
     "data": {
      "text/plain": [
       "89677768.379999921"
      ]
     },
     "execution_count": 9,
     "metadata": {},
     "output_type": "execute_result"
    }
   ],
   "source": [
    "daily_data['subclass_transaction_amt'].sum()"
   ]
  },
  {
   "cell_type": "code",
   "execution_count": 10,
   "metadata": {},
   "outputs": [
    {
     "data": {
      "text/plain": [
       "89644998.440000042"
      ]
     },
     "execution_count": 10,
     "metadata": {},
     "output_type": "execute_result"
    }
   ],
   "source": [
    "weekly_data['subclass_gross_sales_amt'].sum()"
   ]
  },
  {
   "cell_type": "code",
   "execution_count": 7,
   "metadata": {},
   "outputs": [
    {
     "data": {
      "text/html": [
       "<div>\n",
       "<style>\n",
       "    .dataframe thead tr:only-child th {\n",
       "        text-align: right;\n",
       "    }\n",
       "\n",
       "    .dataframe thead th {\n",
       "        text-align: left;\n",
       "    }\n",
       "\n",
       "    .dataframe tbody tr th {\n",
       "        vertical-align: top;\n",
       "    }\n",
       "</style>\n",
       "<table border=\"1\" class=\"dataframe\">\n",
       "  <thead>\n",
       "    <tr style=\"text-align: right;\">\n",
       "      <th></th>\n",
       "      <th>location_id</th>\n",
       "      <th>transaction_dt</th>\n",
       "      <th>transaction_id</th>\n",
       "      <th>customer_id_hashed</th>\n",
       "      <th>class_code_id</th>\n",
       "      <th>subclass_id</th>\n",
       "      <th>subclass_transaction_units</th>\n",
       "      <th>subclass_transaction_amt</th>\n",
       "    </tr>\n",
       "  </thead>\n",
       "  <tbody>\n",
       "    <tr>\n",
       "      <th>11111</th>\n",
       "      <td>1636</td>\n",
       "      <td>2018-07-21</td>\n",
       "      <td>7056</td>\n",
       "      <td>f6d4c05c6fbee8ac0641ec836f78966ba1437a697f89a5...</td>\n",
       "      <td>11008</td>\n",
       "      <td>15</td>\n",
       "      <td>1</td>\n",
       "      <td>1.75</td>\n",
       "    </tr>\n",
       "    <tr>\n",
       "      <th>11112</th>\n",
       "      <td>1942</td>\n",
       "      <td>2018-07-21</td>\n",
       "      <td>4729</td>\n",
       "      <td>NaN</td>\n",
       "      <td>11009</td>\n",
       "      <td>1</td>\n",
       "      <td>1</td>\n",
       "      <td>7.50</td>\n",
       "    </tr>\n",
       "    <tr>\n",
       "      <th>11113</th>\n",
       "      <td>212</td>\n",
       "      <td>2018-07-21</td>\n",
       "      <td>5141</td>\n",
       "      <td>NaN</td>\n",
       "      <td>33007</td>\n",
       "      <td>1</td>\n",
       "      <td>1</td>\n",
       "      <td>0.75</td>\n",
       "    </tr>\n",
       "    <tr>\n",
       "      <th>11114</th>\n",
       "      <td>5086</td>\n",
       "      <td>2018-07-15</td>\n",
       "      <td>4843</td>\n",
       "      <td>NaN</td>\n",
       "      <td>31003</td>\n",
       "      <td>11</td>\n",
       "      <td>1</td>\n",
       "      <td>14.99</td>\n",
       "    </tr>\n",
       "    <tr>\n",
       "      <th>11115</th>\n",
       "      <td>1489</td>\n",
       "      <td>2018-07-16</td>\n",
       "      <td>5225</td>\n",
       "      <td>NaN</td>\n",
       "      <td>11009</td>\n",
       "      <td>2</td>\n",
       "      <td>3</td>\n",
       "      <td>6.00</td>\n",
       "    </tr>\n",
       "    <tr>\n",
       "      <th>11116</th>\n",
       "      <td>1189</td>\n",
       "      <td>2018-07-19</td>\n",
       "      <td>6219</td>\n",
       "      <td>NaN</td>\n",
       "      <td>11009</td>\n",
       "      <td>2</td>\n",
       "      <td>1</td>\n",
       "      <td>1.00</td>\n",
       "    </tr>\n",
       "    <tr>\n",
       "      <th>11117</th>\n",
       "      <td>4397</td>\n",
       "      <td>2018-07-15</td>\n",
       "      <td>6869</td>\n",
       "      <td>2e7fd1a9caf1d596944a783006f7ab44ccc1394b7193e0...</td>\n",
       "      <td>11003</td>\n",
       "      <td>3</td>\n",
       "      <td>1</td>\n",
       "      <td>5.00</td>\n",
       "    </tr>\n",
       "    <tr>\n",
       "      <th>11118</th>\n",
       "      <td>5332</td>\n",
       "      <td>2018-07-16</td>\n",
       "      <td>253</td>\n",
       "      <td>5d3d9b5240850e6de26eec926c4c962e6a051f508926a5...</td>\n",
       "      <td>13002</td>\n",
       "      <td>8</td>\n",
       "      <td>1</td>\n",
       "      <td>5.00</td>\n",
       "    </tr>\n",
       "    <tr>\n",
       "      <th>11119</th>\n",
       "      <td>5134</td>\n",
       "      <td>2018-07-20</td>\n",
       "      <td>8838</td>\n",
       "      <td>NaN</td>\n",
       "      <td>11011</td>\n",
       "      <td>3</td>\n",
       "      <td>3</td>\n",
       "      <td>3.00</td>\n",
       "    </tr>\n",
       "    <tr>\n",
       "      <th>11120</th>\n",
       "      <td>422</td>\n",
       "      <td>2018-07-18</td>\n",
       "      <td>4795</td>\n",
       "      <td>NaN</td>\n",
       "      <td>11101</td>\n",
       "      <td>6</td>\n",
       "      <td>1</td>\n",
       "      <td>1.50</td>\n",
       "    </tr>\n",
       "    <tr>\n",
       "      <th>11121</th>\n",
       "      <td>1195</td>\n",
       "      <td>2018-07-15</td>\n",
       "      <td>9090</td>\n",
       "      <td>17a2b395ce546fb3aa8086a01107ab3b6b670cdb085960...</td>\n",
       "      <td>11004</td>\n",
       "      <td>3</td>\n",
       "      <td>1</td>\n",
       "      <td>2.00</td>\n",
       "    </tr>\n",
       "  </tbody>\n",
       "</table>\n",
       "</div>"
      ],
      "text/plain": [
       "       location_id transaction_dt  transaction_id  \\\n",
       "11111         1636     2018-07-21            7056   \n",
       "11112         1942     2018-07-21            4729   \n",
       "11113          212     2018-07-21            5141   \n",
       "11114         5086     2018-07-15            4843   \n",
       "11115         1489     2018-07-16            5225   \n",
       "11116         1189     2018-07-19            6219   \n",
       "11117         4397     2018-07-15            6869   \n",
       "11118         5332     2018-07-16             253   \n",
       "11119         5134     2018-07-20            8838   \n",
       "11120          422     2018-07-18            4795   \n",
       "11121         1195     2018-07-15            9090   \n",
       "\n",
       "                                      customer_id_hashed  class_code_id  \\\n",
       "11111  f6d4c05c6fbee8ac0641ec836f78966ba1437a697f89a5...          11008   \n",
       "11112                                                NaN          11009   \n",
       "11113                                                NaN          33007   \n",
       "11114                                                NaN          31003   \n",
       "11115                                                NaN          11009   \n",
       "11116                                                NaN          11009   \n",
       "11117  2e7fd1a9caf1d596944a783006f7ab44ccc1394b7193e0...          11003   \n",
       "11118  5d3d9b5240850e6de26eec926c4c962e6a051f508926a5...          13002   \n",
       "11119                                                NaN          11011   \n",
       "11120                                                NaN          11101   \n",
       "11121  17a2b395ce546fb3aa8086a01107ab3b6b670cdb085960...          11004   \n",
       "\n",
       "       subclass_id  subclass_transaction_units  subclass_transaction_amt  \n",
       "11111           15                           1                      1.75  \n",
       "11112            1                           1                      7.50  \n",
       "11113            1                           1                      0.75  \n",
       "11114           11                           1                     14.99  \n",
       "11115            2                           3                      6.00  \n",
       "11116            2                           1                      1.00  \n",
       "11117            3                           1                      5.00  \n",
       "11118            8                           1                      5.00  \n",
       "11119            3                           3                      3.00  \n",
       "11120            6                           1                      1.50  \n",
       "11121            3                           1                      2.00  "
      ]
     },
     "execution_count": 7,
     "metadata": {},
     "output_type": "execute_result"
    }
   ],
   "source": [
    "daily_data.head(2)"
   ]
  },
  {
   "cell_type": "code",
   "execution_count": null,
   "metadata": {
    "collapsed": true
   },
   "outputs": [],
   "source": []
  }
 ],
 "metadata": {
  "kernelspec": {
   "display_name": "Python 3",
   "language": "python",
   "name": "python3"
  },
  "language_info": {
   "codemirror_mode": {
    "name": "ipython",
    "version": 3
   },
   "file_extension": ".py",
   "mimetype": "text/x-python",
   "name": "python",
   "nbconvert_exporter": "python",
   "pygments_lexer": "ipython3",
   "version": "3.6.1"
  }
 },
 "nbformat": 4,
 "nbformat_minor": 2
}
