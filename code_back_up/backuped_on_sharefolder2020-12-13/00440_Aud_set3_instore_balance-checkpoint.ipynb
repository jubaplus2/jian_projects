{
 "cells": [
  {
   "cell_type": "code",
   "execution_count": 1,
   "metadata": {},
   "outputs": [
    {
     "name": "stdout",
     "output_type": "stream",
     "text": [
      "2020-11-06 13:47:19.287613\n",
      "/mnt/clients/juba/hqjubaapp02/sharefolder/GoodYear/jian/Audience_selections\n"
     ]
    }
   ],
   "source": [
    "from google.cloud import bigquery\n",
    "import gc\n",
    "import pandas as pd\n",
    "import numpy as np\n",
    "import datetime\n",
    "import os\n",
    "import json\n",
    "import glob\n",
    "from haversine import haversine\n",
    "\n",
    "os.environ[\"GOOGLE_APPLICATION_CREDENTIALS\"] = \"/mnt/clients/juba/hqjubaapp02/sharefolder/GoodYear/docs/merkle-gdyr-prod-9783607c77a1.json\"\n",
    "\n",
    "zip_centers=json.load(open(\"/mnt/clients/juba/hqjubaapp02/sharefolder/Docs/Geo_mapping/updated_zip_centers_JL_2019-05-23.json\"))\n",
    "client = bigquery.Client()\n",
    "\n",
    "print(datetime.datetime.now())\n",
    "print(os.getcwd())"
   ]
  },
  {
   "cell_type": "code",
   "execution_count": 2,
   "metadata": {},
   "outputs": [
    {
     "data": {
      "text/plain": [
       "'\\nYG \"One addition CRM segment\" 2020-11-05\\n\\nJian NEW CRM stores: (nationwide minus 31+9 stores excluding states: AK and HI):\\nCRM stores who made their last tire ONLY purchase 9/2019 – 12/2019  : Jian please send test counts+ 15% control counts\\nCRM stores who made their last service ONLY purchase 3/2020 – 10/2020  : Jian please send counts+ 15% control counts\\nCRM stores who made their last tire ONLY purchase 9/2018 – 12/2018  : Jian please send counts+ 15% control counts\\n'"
      ]
     },
     "execution_count": 2,
     "metadata": {},
     "output_type": "execute_result"
    }
   ],
   "source": [
    "'''\n",
    "YG \"One addition CRM segment\" 2020-11-05\n",
    "\n",
    "Jian NEW CRM stores: (nationwide minus 31+9 stores excluding states: AK and HI):\n",
    "CRM stores who made their last tire ONLY purchase 9/2019 – 12/2019  : Jian please send test counts+ 15% control counts\n",
    "CRM stores who made their last service ONLY purchase 3/2020 – 10/2020  : Jian please send counts+ 15% control counts\n",
    "CRM stores who made their last tire ONLY purchase 9/2018 – 12/2018  : Jian please send counts+ 15% control counts\n",
    "'''"
   ]
  },
  {
   "cell_type": "code",
   "execution_count": 3,
   "metadata": {},
   "outputs": [
    {
     "name": "stderr",
     "output_type": "stream",
     "text": [
      "/home/jliang/.local/lib/python3.7/site-packages/google/cloud/bigquery/client.py:441: UserWarning: Cannot create BigQuery Storage client, the dependency google-cloud-bigquery-storage is not installed.\n",
      "  \"Cannot create BigQuery Storage client, the dependency \"\n"
     ]
    },
    {
     "name": "stdout",
     "output_type": "stream",
     "text": [
      "(9082322, 5)\n"
     ]
    }
   ],
   "source": [
    "# To remove later the 40 pairs and the Ecommerce IDs\n",
    "query_balance_instore_tireonly_RAll='''\n",
    "WITH t_last_trans AS (\n",
    "SELECT indiv_key, MAX(invoice_date) AS last_trans_date FROM mdb.trn_detail\n",
    "WHERE store_id!='ECOM' AND indiv_key IS NOT NULL AND qty>0\n",
    "GROUP BY indiv_key\n",
    "HAVING MAX(invoice_date) BETWEEN '2019-09-01' AND '2019-11-30' \n",
    "OR MAX(invoice_date) BETWEEN '2020-03-01' AND '2020-09-30' \n",
    "OR MAX(invoice_date) BETWEEN '2018-09-01' AND '2018-11-30')\n",
    "\n",
    "SELECT t1.indiv_key, t1.last_trans_date, t2.trn_id, t2.store_id, t2.product_type_cd FROM t_last_trans as t1\n",
    "LEFT JOIN mdb.trn_detail AS t2\n",
    "ON t1.indiv_key=t2.indiv_key and t1.last_trans_date=t2.invoice_date\n",
    "ORDER BY t1.indiv_key, t1.last_trans_date DESC\n",
    "'''\n",
    "df_ids_balance_all=client.query(query_balance_instore_tireonly_RAll).result().to_dataframe()\n",
    "print(df_ids_balance_all.shape)"
   ]
  },
  {
   "cell_type": "code",
   "execution_count": 4,
   "metadata": {},
   "outputs": [
    {
     "name": "stdout",
     "output_type": "stream",
     "text": [
      "\n",
      "select t1.indiv_key, t1.best_email_txt, t1.best_phone_num, t2.postal_cd, t2.state_province_cd, t2.country_cd from mdb.indiv_summary as t1\n",
      "join mdb.addr as t2 on\n",
      "t1.cr_addr_key=t2.cr_addr_key\n",
      "\n",
      "(7538892, 6) 7538892\n",
      "(242545, 6)\n"
     ]
    }
   ],
   "source": [
    "query_crm=\"\"\"\n",
    "select t1.indiv_key, t1.best_email_txt, t1.best_phone_num, t2.postal_cd, t2.state_province_cd, t2.country_cd from mdb.indiv_summary as t1\n",
    "join mdb.addr as t2 on\n",
    "t1.cr_addr_key=t2.cr_addr_key\n",
    "\"\"\"\n",
    "\n",
    "print(query_crm)\n",
    "\n",
    "df_all_ids=client.query(query_crm).result().to_dataframe()\n",
    "print(df_all_ids.shape,df_all_ids['indiv_key'].nunique())\n",
    "#\n",
    "df_all_ids['best_email_txt']=df_all_ids['best_email_txt'].apply(lambda x: x.lower().strip() if pd.notnull(x) else x)\n",
    "df_all_ids['best_phone_num']=df_all_ids['best_phone_num'].apply(lambda x: \"1\"+str(int(x)).lower().strip() if pd.notnull(x) else x)\n",
    "df_all_ids.head(2)\n",
    "#\n",
    "\n",
    "df_HI_AK_ids=df_all_ids[df_all_ids['state_province_cd'].isin([\"HI\",\"AK\"])]\n",
    "list_HI_AK_ids=df_HI_AK_ids[pd.notnull(df_HI_AK_ids['indiv_key'])]['indiv_key'].unique().tolist()\n",
    "list_HI_AK_emails=df_HI_AK_ids[pd.notnull(df_HI_AK_ids['best_email_txt'])]['best_email_txt'].unique().tolist()\n",
    "list_HI_AK_phones=df_HI_AK_ids[pd.notnull(df_HI_AK_ids['best_phone_num'])]['best_phone_num'].unique().tolist()\n",
    "\n",
    "print(df_HI_AK_ids.shape)"
   ]
  },
  {
   "cell_type": "code",
   "execution_count": 5,
   "metadata": {},
   "outputs": [
    {
     "name": "stdout",
     "output_type": "stream",
     "text": [
      "1053521\n",
      "550336\n",
      "1014462\n"
     ]
    }
   ],
   "source": [
    "final_uploaded_folder=\"/mnt/clients/juba/hqjubaapp02/sharefolder/GoodYear/jian/Audience_selections/output_cleaned_audience_2020-11-06/\"\n",
    "list_file_defined_ids=glob.glob(final_uploaded_folder+\"*.csv\")\n",
    "\n",
    "list_already_defined_ids=[]\n",
    "list_already_defined_emails=[]\n",
    "list_already_defined_phones=[]\n",
    "i=0\n",
    "\n",
    "for file in list_file_defined_ids:\n",
    "    df=pd.read_csv(file,dtype=str)\n",
    "    list_id_file=df[pd.notnull(df['indiv_key'])]['indiv_key'].unique().tolist()\n",
    "    list_email_file=df[pd.notnull(df['best_email_txt'])]['best_email_txt'].unique().tolist()\n",
    "    list_phone_file=df[pd.notnull(df['best_phone_num'])]['best_phone_num'].unique().tolist()\n",
    "    \n",
    "    list_already_defined_ids=list_already_defined_ids+list_id_file\n",
    "    list_already_defined_emails=list_already_defined_emails+list_email_file\n",
    "    list_already_defined_phones=list_already_defined_phones+list_phone_file\n",
    "    \n",
    "    i+=1\n",
    "    if i%10==1:\n",
    "        list_already_defined_ids=list(set(list_already_defined_ids))\n",
    "        list_already_defined_emails=list(set(list_already_defined_emails))\n",
    "        list_already_defined_phones=list(set(list_already_defined_phones))\n",
    "\n",
    "list_already_defined_ids=list(set(list_already_defined_ids))\n",
    "list_already_defined_emails=list(set(list_already_defined_emails))\n",
    "list_already_defined_phones=list(set(list_already_defined_phones))\n",
    "\n",
    "print(len(list_already_defined_ids))\n",
    "print(len(list_already_defined_emails))\n",
    "print(len(list_already_defined_phones))"
   ]
  },
  {
   "cell_type": "code",
   "execution_count": 6,
   "metadata": {},
   "outputs": [
    {
     "data": {
      "text/html": [
       "<div>\n",
       "<style scoped>\n",
       "    .dataframe tbody tr th:only-of-type {\n",
       "        vertical-align: middle;\n",
       "    }\n",
       "\n",
       "    .dataframe tbody tr th {\n",
       "        vertical-align: top;\n",
       "    }\n",
       "\n",
       "    .dataframe thead th {\n",
       "        text-align: right;\n",
       "    }\n",
       "</style>\n",
       "<table border=\"1\" class=\"dataframe\">\n",
       "  <thead>\n",
       "    <tr style=\"text-align: right;\">\n",
       "      <th></th>\n",
       "      <th>indiv_key</th>\n",
       "      <th>last_trans_date</th>\n",
       "      <th>product_type_cd</th>\n",
       "      <th>last_trans_group</th>\n",
       "    </tr>\n",
       "  </thead>\n",
       "  <tbody>\n",
       "    <tr>\n",
       "      <th>0</th>\n",
       "      <td>1222780000000001</td>\n",
       "      <td>2020-03-11</td>\n",
       "      <td>[SERVICE]</td>\n",
       "      <td>ServiceOnly</td>\n",
       "    </tr>\n",
       "    <tr>\n",
       "      <th>1</th>\n",
       "      <td>1222780000000009</td>\n",
       "      <td>2020-04-17</td>\n",
       "      <td>[SERVICE]</td>\n",
       "      <td>ServiceOnly</td>\n",
       "    </tr>\n",
       "    <tr>\n",
       "      <th>2</th>\n",
       "      <td>1222780000000020</td>\n",
       "      <td>2019-09-30</td>\n",
       "      <td>[SERVICE, TIRE]</td>\n",
       "      <td>WithTire</td>\n",
       "    </tr>\n",
       "    <tr>\n",
       "      <th>3</th>\n",
       "      <td>1222780000000048</td>\n",
       "      <td>2020-04-08</td>\n",
       "      <td>[SERVICE]</td>\n",
       "      <td>ServiceOnly</td>\n",
       "    </tr>\n",
       "  </tbody>\n",
       "</table>\n",
       "</div>"
      ],
      "text/plain": [
       "          indiv_key last_trans_date  product_type_cd last_trans_group\n",
       "0  1222780000000001      2020-03-11        [SERVICE]      ServiceOnly\n",
       "1  1222780000000009      2020-04-17        [SERVICE]      ServiceOnly\n",
       "2  1222780000000020      2019-09-30  [SERVICE, TIRE]         WithTire\n",
       "3  1222780000000048      2020-04-08        [SERVICE]      ServiceOnly"
      ]
     },
     "execution_count": 6,
     "metadata": {},
     "output_type": "execute_result"
    }
   ],
   "source": [
    "df_last_trans_group=df_ids_balance_all.groupby(['indiv_key','last_trans_date'])['product_type_cd'].unique().to_frame().reset_index()\n",
    "df_last_trans_group['last_trans_group']=df_last_trans_group['product_type_cd'].apply(lambda x: \"WithTire\" if 'TIRE' in x else \"ServiceOnly\")\n",
    "df_last_trans_group.head(4)"
   ]
  },
  {
   "cell_type": "code",
   "execution_count": 7,
   "metadata": {},
   "outputs": [],
   "source": [
    "df_last_trans_group['last_trans_date']=df_last_trans_group['last_trans_date'].astype(str).str[:10]\n",
    "\n",
    "## \n",
    "df_1_output=df_last_trans_group[df_last_trans_group['last_trans_group']==\"WithTire\"]\n",
    "df_1_output=df_1_output[df_1_output['last_trans_date']>=\"2019-09-01\"]\n",
    "df_1_output=df_1_output[df_1_output['last_trans_date']<=\"2019-11-30\"]\n",
    "\n",
    "df_2_output=df_last_trans_group[df_last_trans_group['last_trans_group']==\"ServiceOnly\"]\n",
    "df_2_output=df_2_output[df_2_output['last_trans_date']>=\"2020-03-01\"]\n",
    "df_2_output=df_2_output[df_2_output['last_trans_date']<=\"2020-09-30\"]\n",
    "\n",
    "df_3_output=df_last_trans_group[df_last_trans_group['last_trans_group']==\"WithTire\"]\n",
    "df_3_output=df_3_output[df_3_output['last_trans_date']>=\"2018-09-01\"]\n",
    "df_3_output=df_3_output[df_3_output['last_trans_date']<=\"2018-11-30\"]"
   ]
  },
  {
   "cell_type": "code",
   "execution_count": 8,
   "metadata": {},
   "outputs": [],
   "source": [
    "df_1_output=pd.merge(df_1_output,df_all_ids,on=\"indiv_key\",how=\"left\")\n",
    "df_1_output=df_1_output[~df_1_output['indiv_key'].isin(list_HI_AK_ids)]\n",
    "df_1_output=df_1_output[~df_1_output['indiv_key'].isin(list_already_defined_ids)]\n",
    "df_1_output=df_1_output[~df_1_output['best_email_txt'].isin(list_HI_AK_emails)]\n",
    "df_1_output=df_1_output[~df_1_output['best_email_txt'].isin(list_already_defined_emails)]\n",
    "df_1_output=df_1_output[~df_1_output['best_phone_num'].isin(list_HI_AK_phones)]\n",
    "df_1_output=df_1_output[~df_1_output['best_phone_num'].isin(list_already_defined_phones)]\n",
    "# \n",
    "df_2_output=pd.merge(df_2_output,df_all_ids,on=\"indiv_key\",how=\"left\")\n",
    "df_2_output=df_2_output[~df_2_output['indiv_key'].isin(list_HI_AK_ids)]\n",
    "df_2_output=df_2_output[~df_2_output['indiv_key'].isin(list_already_defined_ids)]\n",
    "df_2_output=df_2_output[~df_2_output['best_email_txt'].isin(list_HI_AK_emails)]\n",
    "df_2_output=df_2_output[~df_2_output['best_email_txt'].isin(list_already_defined_emails)]\n",
    "df_2_output=df_2_output[~df_2_output['best_phone_num'].isin(list_HI_AK_phones)]\n",
    "df_2_output=df_2_output[~df_2_output['best_phone_num'].isin(list_already_defined_phones)]\n",
    "#\n",
    "df_3_output=pd.merge(df_3_output,df_all_ids,on=\"indiv_key\",how=\"left\")\n",
    "df_3_output=df_3_output[~df_3_output['indiv_key'].isin(list_HI_AK_ids)]\n",
    "df_3_output=df_3_output[~df_3_output['indiv_key'].isin(list_already_defined_ids)]\n",
    "df_3_output=df_3_output[~df_3_output['best_email_txt'].isin(list_HI_AK_emails)]\n",
    "df_3_output=df_3_output[~df_3_output['best_email_txt'].isin(list_already_defined_emails)]\n",
    "df_3_output=df_3_output[~df_3_output['best_phone_num'].isin(list_HI_AK_phones)]\n",
    "df_3_output=df_3_output[~df_3_output['best_phone_num'].isin(list_already_defined_phones)]"
   ]
  },
  {
   "cell_type": "code",
   "execution_count": 9,
   "metadata": {},
   "outputs": [
    {
     "data": {
      "text/plain": [
       "20"
      ]
     },
     "execution_count": 9,
     "metadata": {},
     "output_type": "execute_result"
    }
   ],
   "source": [
    "df_1_output['segment_name']=\"segment_TorC_WithTire_Balance_stores_Store_20190901_20191130\"\n",
    "df_2_output['segment_name']=\"segment_TorC_ServiceOnly_Balance_stores_Store_20200301_20200930\"\n",
    "df_3_output['segment_name']=\"segment_TorC_WithTire_Balance_stores_Store_20180901_20181130\"\n",
    "\n",
    "df_output_set3=df_1_output.append(df_2_output).append(df_3_output)\n",
    "del df_1_output\n",
    "del df_2_output\n",
    "del df_3_output\n",
    "gc.collect()"
   ]
  },
  {
   "cell_type": "code",
   "execution_count": 10,
   "metadata": {},
   "outputs": [
    {
     "name": "stdout",
     "output_type": "stream",
     "text": [
      "segment_TorC_ServiceOnly_Balance_stores_Store_20200301_20200930 482604\n"
     ]
    },
    {
     "name": "stderr",
     "output_type": "stream",
     "text": [
      "/opt/anaconda3/lib/python3.7/site-packages/ipykernel_launcher.py:21: SettingWithCopyWarning: \n",
      "A value is trying to be set on a copy of a slice from a DataFrame.\n",
      "Try using .loc[row_indexer,col_indexer] = value instead\n",
      "\n",
      "See the caveats in the documentation: https://pandas.pydata.org/pandas-docs/stable/user_guide/indexing.html#returning-a-view-versus-a-copy\n",
      "/opt/anaconda3/lib/python3.7/site-packages/ipykernel_launcher.py:22: SettingWithCopyWarning: \n",
      "A value is trying to be set on a copy of a slice from a DataFrame.\n",
      "Try using .loc[row_indexer,col_indexer] = value instead\n",
      "\n",
      "See the caveats in the documentation: https://pandas.pydata.org/pandas-docs/stable/user_guide/indexing.html#returning-a-view-versus-a-copy\n"
     ]
    },
    {
     "name": "stdout",
     "output_type": "stream",
     "text": [
      "segment_Control_ServiceOnly_Balance_stores_Store_20200301_20200930 (72391, 11) 72391 32318 71615\n",
      "segment_Test_ServiceOnly_Balance_stores_Store_20200301_20200930 (410213, 11) 410213 182934 403814\n",
      "\n",
      "\n",
      "segment_TorC_WithTire_Balance_stores_Store_20180901_20181130 70470\n",
      "segment_Control_WithTire_Balance_stores_Store_20180901_20181130 (10571, 11) 10571 4034 10441\n",
      "segment_Test_WithTire_Balance_stores_Store_20180901_20181130 (59899, 11) 59899 22684 59122\n",
      "\n",
      "\n",
      "segment_TorC_WithTire_Balance_stores_Store_20190901_20191130 87186\n",
      "segment_Control_WithTire_Balance_stores_Store_20190901_20191130 (13078, 11) 13078 4854 12943\n",
      "segment_Test_WithTire_Balance_stores_Store_20190901_20191130 (74108, 11) 74108 27520 73325\n",
      "\n",
      "\n"
     ]
    }
   ],
   "source": [
    "import random\n",
    "random.seed(0)\n",
    "control_pctg=0.15\n",
    "df_summary_C=pd.DataFrame()\n",
    "df_summary_T=pd.DataFrame()\n",
    "\n",
    "for segment_name, df_group in df_output_set3.groupby(\"segment_name\"):\n",
    "    df_len=df_group.shape[0]\n",
    "    print(segment_name,df_len)\n",
    "    list_C_index=random.sample(range(df_len),int(np.ceil(df_len*control_pctg)))\n",
    "    df_group=df_group.reset_index()\n",
    "    del df_group['index']\n",
    "    df_group=df_group.reset_index()\n",
    "    \n",
    "    df_group_C=df_group[df_group['index'].isin(list_C_index)]\n",
    "    df_group_T=df_group[~df_group['index'].isin(list_C_index)]\n",
    "    \n",
    "    segment_name_C=segment_name.replace(\"_TorC_\",\"_Control_\")\n",
    "    segment_name_T=segment_name.replace(\"_TorC_\",\"_Test_\")\n",
    "    \n",
    "    df_group_C['segment_name']=segment_name_C\n",
    "    df_group_T['segment_name']=segment_name_T\n",
    "    \n",
    "    print(segment_name_C,df_group_C.shape,df_group_C['indiv_key'].nunique(),df_group_C['best_email_txt'].nunique(),df_group_C['best_phone_num'].nunique())\n",
    "    print(segment_name_T,df_group_T.shape,df_group_T['indiv_key'].nunique(),df_group_T['best_email_txt'].nunique(),df_group_T['best_phone_num'].nunique())\n",
    "    print(\"\\n\")\n",
    "    \n",
    "    df_1_row_C=pd.DataFrame({\"segment\":segment_name_C,\n",
    "                             \"n_unique_key\":df_group_C['indiv_key'].nunique(),\n",
    "                             \"n_unique_email\":df_group_C['best_email_txt'].nunique(),\n",
    "                             \"n_unique_phone\":df_group_C['best_phone_num'].nunique()\n",
    "                            },index=[0])\n",
    "    df_1_row_T=pd.DataFrame({\"segment\":segment_name_T,\n",
    "                         \"n_unique_key\":df_group_T['indiv_key'].nunique(),\n",
    "                         \"n_unique_email\":df_group_T['best_email_txt'].nunique(),\n",
    "                         \"n_unique_phone\":df_group_T['best_phone_num'].nunique()\n",
    "                        },index=[0])\n",
    "    \n",
    "    df_summary_C=df_summary_C.append(df_1_row_C)\n",
    "    df_summary_T=df_summary_T.append(df_1_row_T)\n",
    "    \n",
    "    df_group_C.to_csv(final_uploaded_folder+segment_name_C+\".csv\",index=False)\n",
    "    df_group_T.to_csv(final_uploaded_folder+segment_name_T+\".csv\",index=False)\n",
    "    \n",
    "    "
   ]
  },
  {
   "cell_type": "code",
   "execution_count": 11,
   "metadata": {},
   "outputs": [],
   "source": [
    "df_summary_T.to_csv(\"./df_summary_set3_Test_TireAndOrService_Balance_Store_All.csv\",index=False)\n",
    "df_summary_C.to_csv(\"./df_summary_set3_Control_TireAndOrService_Balance_Store_All.csv\",index=False)"
   ]
  },
  {
   "cell_type": "code",
   "execution_count": 12,
   "metadata": {},
   "outputs": [
    {
     "data": {
      "text/html": [
       "<div>\n",
       "<style scoped>\n",
       "    .dataframe tbody tr th:only-of-type {\n",
       "        vertical-align: middle;\n",
       "    }\n",
       "\n",
       "    .dataframe tbody tr th {\n",
       "        vertical-align: top;\n",
       "    }\n",
       "\n",
       "    .dataframe thead th {\n",
       "        text-align: right;\n",
       "    }\n",
       "</style>\n",
       "<table border=\"1\" class=\"dataframe\">\n",
       "  <thead>\n",
       "    <tr style=\"text-align: right;\">\n",
       "      <th></th>\n",
       "      <th>segment</th>\n",
       "      <th>n_unique_key</th>\n",
       "      <th>n_unique_email</th>\n",
       "      <th>n_unique_phone</th>\n",
       "    </tr>\n",
       "  </thead>\n",
       "  <tbody>\n",
       "    <tr>\n",
       "      <th>0</th>\n",
       "      <td>segment_Test_ServiceOnly_Balance_stores_Store_...</td>\n",
       "      <td>410213</td>\n",
       "      <td>182934</td>\n",
       "      <td>403814</td>\n",
       "    </tr>\n",
       "    <tr>\n",
       "      <th>0</th>\n",
       "      <td>segment_Test_WithTire_Balance_stores_Store_201...</td>\n",
       "      <td>59899</td>\n",
       "      <td>22684</td>\n",
       "      <td>59122</td>\n",
       "    </tr>\n",
       "    <tr>\n",
       "      <th>0</th>\n",
       "      <td>segment_Test_WithTire_Balance_stores_Store_201...</td>\n",
       "      <td>74108</td>\n",
       "      <td>27520</td>\n",
       "      <td>73325</td>\n",
       "    </tr>\n",
       "  </tbody>\n",
       "</table>\n",
       "</div>"
      ],
      "text/plain": [
       "                                             segment  n_unique_key  \\\n",
       "0  segment_Test_ServiceOnly_Balance_stores_Store_...        410213   \n",
       "0  segment_Test_WithTire_Balance_stores_Store_201...         59899   \n",
       "0  segment_Test_WithTire_Balance_stores_Store_201...         74108   \n",
       "\n",
       "   n_unique_email  n_unique_phone  \n",
       "0          182934          403814  \n",
       "0           22684           59122  \n",
       "0           27520           73325  "
      ]
     },
     "execution_count": 12,
     "metadata": {},
     "output_type": "execute_result"
    }
   ],
   "source": [
    "df_summary_T"
   ]
  },
  {
   "cell_type": "code",
   "execution_count": 13,
   "metadata": {},
   "outputs": [
    {
     "data": {
      "text/html": [
       "<div>\n",
       "<style scoped>\n",
       "    .dataframe tbody tr th:only-of-type {\n",
       "        vertical-align: middle;\n",
       "    }\n",
       "\n",
       "    .dataframe tbody tr th {\n",
       "        vertical-align: top;\n",
       "    }\n",
       "\n",
       "    .dataframe thead th {\n",
       "        text-align: right;\n",
       "    }\n",
       "</style>\n",
       "<table border=\"1\" class=\"dataframe\">\n",
       "  <thead>\n",
       "    <tr style=\"text-align: right;\">\n",
       "      <th></th>\n",
       "      <th>segment</th>\n",
       "      <th>n_unique_key</th>\n",
       "      <th>n_unique_email</th>\n",
       "      <th>n_unique_phone</th>\n",
       "    </tr>\n",
       "  </thead>\n",
       "  <tbody>\n",
       "    <tr>\n",
       "      <th>0</th>\n",
       "      <td>segment_Control_ServiceOnly_Balance_stores_Sto...</td>\n",
       "      <td>72391</td>\n",
       "      <td>32318</td>\n",
       "      <td>71615</td>\n",
       "    </tr>\n",
       "    <tr>\n",
       "      <th>0</th>\n",
       "      <td>segment_Control_WithTire_Balance_stores_Store_...</td>\n",
       "      <td>10571</td>\n",
       "      <td>4034</td>\n",
       "      <td>10441</td>\n",
       "    </tr>\n",
       "    <tr>\n",
       "      <th>0</th>\n",
       "      <td>segment_Control_WithTire_Balance_stores_Store_...</td>\n",
       "      <td>13078</td>\n",
       "      <td>4854</td>\n",
       "      <td>12943</td>\n",
       "    </tr>\n",
       "  </tbody>\n",
       "</table>\n",
       "</div>"
      ],
      "text/plain": [
       "                                             segment  n_unique_key  \\\n",
       "0  segment_Control_ServiceOnly_Balance_stores_Sto...         72391   \n",
       "0  segment_Control_WithTire_Balance_stores_Store_...         10571   \n",
       "0  segment_Control_WithTire_Balance_stores_Store_...         13078   \n",
       "\n",
       "   n_unique_email  n_unique_phone  \n",
       "0           32318           71615  \n",
       "0            4034           10441  \n",
       "0            4854           12943  "
      ]
     },
     "execution_count": 13,
     "metadata": {},
     "output_type": "execute_result"
    }
   ],
   "source": [
    "df_summary_C"
   ]
  },
  {
   "cell_type": "code",
   "execution_count": null,
   "metadata": {},
   "outputs": [],
   "source": []
  }
 ],
 "metadata": {
  "kernelspec": {
   "display_name": "Python 3",
   "language": "python",
   "name": "python3"
  },
  "language_info": {
   "codemirror_mode": {
    "name": "ipython",
    "version": 3
   },
   "file_extension": ".py",
   "mimetype": "text/x-python",
   "name": "python",
   "nbconvert_exporter": "python",
   "pygments_lexer": "ipython3",
   "version": "3.7.6"
  }
 },
 "nbformat": 4,
 "nbformat_minor": 4
}
