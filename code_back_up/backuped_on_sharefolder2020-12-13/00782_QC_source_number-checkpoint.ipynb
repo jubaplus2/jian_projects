{
 "cells": [
  {
   "cell_type": "code",
   "execution_count": 1,
   "metadata": {},
   "outputs": [],
   "source": [
    "import pandas as pd\n",
    "import numpy as np\n",
    "import glob\n",
    "import datetime\n",
    "import os"
   ]
  },
  {
   "cell_type": "code",
   "execution_count": 2,
   "metadata": {},
   "outputs": [],
   "source": [
    "TMR_up_to_2019Q3=pd.read_csv(\"/mnt/clients/juba/hqjubaapp02/sharefolder/Media/TMR/TMR_data/Up_to_2019Q3/output/BL_MMM_long_cumu_up_to_2019Q3_JL_2020-03-06.csv\",dtype=str)\n",
    "TMR_up_to_2019Q3['impression']=TMR_up_to_2019Q3['impression'].astype(float).astype(int)\n",
    "TMR_up_to_2019Q3['click']=TMR_up_to_2019Q3['click'].astype(float).astype(int)\n",
    "TMR_up_to_2019Q3['cost']=TMR_up_to_2019Q3['cost'].astype(float)\n"
   ]
  },
  {
   "cell_type": "code",
   "execution_count": 3,
   "metadata": {},
   "outputs": [
    {
     "name": "stderr",
     "output_type": "stream",
     "text": [
      "/opt/anaconda3/lib/python3.7/site-packages/ipykernel_launcher.py:1: FutureWarning: Indexing with multiple keys (implicitly converted to a tuple of keys) will be deprecated, use a list instead.\n",
      "  \"\"\"Entry point for launching an IPython kernel.\n"
     ]
    },
    {
     "name": "stdout",
     "output_type": "stream",
     "text": [
      "2016-09-25\n",
      "2019-10-27\n"
     ]
    }
   ],
   "source": [
    "TMR_up_to_2019Q3_no_DMA=TMR_up_to_2019Q3.groupby([\"week date\",\"media\",\"submedia\",\"placement\"])['impression','click','cost'].sum().reset_index()\n",
    "print(TMR_up_to_2019Q3_no_DMA['week date'].min())\n",
    "print(TMR_up_to_2019Q3_no_DMA['week date'].max())\n",
    "# TMR_up_to_2019Q3_no_DMA"
   ]
  },
  {
   "cell_type": "code",
   "execution_count": 4,
   "metadata": {},
   "outputs": [],
   "source": [
    "df_pandora=TMR_up_to_2019Q3_no_DMA[TMR_up_to_2019Q3_no_DMA['submedia'].apply(lambda x: \"pandora\" in x.lower())]\n",
    "# sorted(df_pandora['week date'].unique().tolist())"
   ]
  },
  {
   "cell_type": "code",
   "execution_count": null,
   "metadata": {},
   "outputs": [],
   "source": []
  },
  {
   "cell_type": "code",
   "execution_count": 5,
   "metadata": {},
   "outputs": [
    {
     "name": "stdout",
     "output_type": "stream",
     "text": [
      "['Circulation|xx', 'Digital|Flipp', 'Digital|PLA', 'Digital|Pandora', 'Digital|Programmatic', 'Digital|SEM', 'Digital|Social', 'Digital|YouTube', 'Email|xx', 'TV|National']\n",
      "['Sunday']\n"
     ]
    }
   ],
   "source": [
    "qc_date_start=\"2019-05-05\"\n",
    "qc_date_end=\"2019-08-03\"\n",
    "\n",
    "qc_df=TMR_up_to_2019Q3_no_DMA[TMR_up_to_2019Q3_no_DMA['week date']>=qc_date_start]\n",
    "qc_df=qc_df[qc_df['week date']<=qc_date_end]\n",
    "\n",
    "qc_df['media_submedia']=qc_df['media']+\"|\"+qc_df['submedia']\n",
    "print(sorted(qc_df['media_submedia'].unique().tolist()))\n",
    "\n",
    "# QC week date as \n",
    "qc_df['week_as_date'] = pd.to_datetime(qc_df['week date'])\n",
    "qc_df['day_of_week'] = qc_df['week_as_date'].dt.day_name()\n",
    "print(qc_df['day_of_week'].unique())\n",
    "del qc_df['week_as_date']\n",
    "del qc_df['day_of_week']"
   ]
  },
  {
   "cell_type": "code",
   "execution_count": 6,
   "metadata": {},
   "outputs": [
    {
     "name": "stdout",
     "output_type": "stream",
     "text": [
      "['Circulation', 'Digital', 'Email', 'TV']\n"
     ]
    }
   ],
   "source": [
    "print(sorted(qc_df['media'].unique().tolist()))"
   ]
  },
  {
   "cell_type": "code",
   "execution_count": 7,
   "metadata": {},
   "outputs": [
    {
     "name": "stdout",
     "output_type": "stream",
     "text": [
      "['Flipp', 'National', 'PLA', 'Pandora', 'Programmatic', 'SEM', 'Social', 'YouTube', 'xx']\n"
     ]
    }
   ],
   "source": [
    "print(sorted(qc_df['submedia'].unique().tolist()))"
   ]
  },
  {
   "cell_type": "code",
   "execution_count": 8,
   "metadata": {},
   "outputs": [
    {
     "name": "stdout",
     "output_type": "stream",
     "text": [
      "Circulation xx\n",
      "impression 82346551\n",
      "click 0\n",
      "cost 4706007.0\n"
     ]
    }
   ],
   "source": [
    "qc_media=\"Circulation\"\n",
    "qc_submedia=\"xx\"\n",
    "\n",
    "print(qc_media,qc_submedia)\n",
    "for col in ['impression','click','cost']:\n",
    "    df=qc_df[((qc_df['media']==qc_media) & (qc_df['submedia']==qc_submedia))]\n",
    "    print(col,qc_df[qc_df['media']==qc_media][col].sum())"
   ]
  },
  {
   "cell_type": "code",
   "execution_count": null,
   "metadata": {},
   "outputs": [],
   "source": []
  },
  {
   "cell_type": "code",
   "execution_count": 9,
   "metadata": {},
   "outputs": [
    {
     "data": {
      "text/plain": [
       "['./datorama_jian_pull_2019Q2/Digital Weekly Media Data  (Search).csv',\n",
       " './datorama_jian_pull_2019Q2/Digital Weekly Media Data without Placement (excluded FB).csv',\n",
       " './datorama_jian_pull_2019Q2/E-circular_Flipp & Print Circular & Email by Week.csv',\n",
       " './datorama_jian_pull_2019Q2/Social Daily Media Data.csv']"
      ]
     },
     "execution_count": 9,
     "metadata": {},
     "output_type": "execute_result"
    }
   ],
   "source": [
    "list_datorama_files=glob.glob(\"./datorama_jian_pull_2019Q2/*.csv\")\n",
    "list_datorama_files.sort()\n",
    "list_datorama_files"
   ]
  },
  {
   "cell_type": "code",
   "execution_count": 10,
   "metadata": {},
   "outputs": [
    {
     "data": {
      "text/html": [
       "<div>\n",
       "<style scoped>\n",
       "    .dataframe tbody tr th:only-of-type {\n",
       "        vertical-align: middle;\n",
       "    }\n",
       "\n",
       "    .dataframe tbody tr th {\n",
       "        vertical-align: top;\n",
       "    }\n",
       "\n",
       "    .dataframe thead th {\n",
       "        text-align: right;\n",
       "    }\n",
       "</style>\n",
       "<table border=\"1\" class=\"dataframe\">\n",
       "  <thead>\n",
       "    <tr style=\"text-align: right;\">\n",
       "      <th></th>\n",
       "      <th>week</th>\n",
       "      <th>media</th>\n",
       "      <th>submedia</th>\n",
       "      <th>placement</th>\n",
       "      <th>impression</th>\n",
       "      <th>click</th>\n",
       "      <th>cost</th>\n",
       "    </tr>\n",
       "  </thead>\n",
       "  <tbody>\n",
       "    <tr>\n",
       "      <th>3</th>\n",
       "      <td>2019-05-05 00:00</td>\n",
       "      <td>Digital</td>\n",
       "      <td>PLA</td>\n",
       "      <td>Bing</td>\n",
       "      <td>908500.0</td>\n",
       "      <td>10257.0</td>\n",
       "      <td>3954.33</td>\n",
       "    </tr>\n",
       "    <tr>\n",
       "      <th>5</th>\n",
       "      <td>2019-05-12 00:00</td>\n",
       "      <td>Digital</td>\n",
       "      <td>PLA</td>\n",
       "      <td>Bing</td>\n",
       "      <td>45061.0</td>\n",
       "      <td>707.0</td>\n",
       "      <td>1108.43</td>\n",
       "    </tr>\n",
       "  </tbody>\n",
       "</table>\n",
       "</div>"
      ],
      "text/plain": [
       "               week    media submedia placement  impression    click     cost\n",
       "3  2019-05-05 00:00  Digital      PLA      Bing    908500.0  10257.0  3954.33\n",
       "5  2019-05-12 00:00  Digital      PLA      Bing     45061.0    707.0  1108.43"
      ]
     },
     "execution_count": 10,
     "metadata": {},
     "output_type": "execute_result"
    }
   ],
   "source": [
    "df_1_search=pd.read_csv(list_datorama_files[0])\n",
    "df_1_search.columns=[x.lower() for x in df_1_search.columns.tolist()]\n",
    "df_1_search=df_1_search.rename(columns={\"impressions\":\"impression\",\"clicks\":\"click\",\"media cost\":\"cost\"})\n",
    "df_1_search=df_1_search[['week','media','submedia','placement','impression','click','cost']]\n",
    "df_1_search['submedia']=df_1_search['submedia'].replace({\"Paid SEM Campaign\":\"SEM\"}).replace({\"Shopping Campaign\":\"PLA\"})\n",
    "df_1_search=df_1_search.sort_values(['media','submedia','placement','week'])\n",
    "df_1_search.head(2)"
   ]
  },
  {
   "cell_type": "code",
   "execution_count": 11,
   "metadata": {},
   "outputs": [
    {
     "name": "stderr",
     "output_type": "stream",
     "text": [
      "/opt/anaconda3/lib/python3.7/site-packages/ipykernel_launcher.py:7: SettingWithCopyWarning: \n",
      "A value is trying to be set on a copy of a slice from a DataFrame.\n",
      "Try using .loc[row_indexer,col_indexer] = value instead\n",
      "\n",
      "See the caveats in the documentation: https://pandas.pydata.org/pandas-docs/stable/user_guide/indexing.html#returning-a-view-versus-a-copy\n",
      "  import sys\n",
      "/opt/anaconda3/lib/python3.7/site-packages/ipykernel_launcher.py:8: SettingWithCopyWarning: \n",
      "A value is trying to be set on a copy of a slice from a DataFrame.\n",
      "Try using .loc[row_indexer,col_indexer] = value instead\n",
      "\n",
      "See the caveats in the documentation: https://pandas.pydata.org/pandas-docs/stable/user_guide/indexing.html#returning-a-view-versus-a-copy\n",
      "  \n",
      "/opt/anaconda3/lib/python3.7/site-packages/ipykernel_launcher.py:12: SettingWithCopyWarning: \n",
      "A value is trying to be set on a copy of a slice from a DataFrame.\n",
      "Try using .loc[row_indexer,col_indexer] = value instead\n",
      "\n",
      "See the caveats in the documentation: https://pandas.pydata.org/pandas-docs/stable/user_guide/indexing.html#returning-a-view-versus-a-copy\n",
      "  if sys.path[0] == '':\n",
      "/opt/anaconda3/lib/python3.7/site-packages/ipykernel_launcher.py:13: SettingWithCopyWarning: \n",
      "A value is trying to be set on a copy of a slice from a DataFrame.\n",
      "Try using .loc[row_indexer,col_indexer] = value instead\n",
      "\n",
      "See the caveats in the documentation: https://pandas.pydata.org/pandas-docs/stable/user_guide/indexing.html#returning-a-view-versus-a-copy\n",
      "  del sys.path[0]\n",
      "/opt/anaconda3/lib/python3.7/site-packages/ipykernel_launcher.py:17: SettingWithCopyWarning: \n",
      "A value is trying to be set on a copy of a slice from a DataFrame.\n",
      "Try using .loc[row_indexer,col_indexer] = value instead\n",
      "\n",
      "See the caveats in the documentation: https://pandas.pydata.org/pandas-docs/stable/user_guide/indexing.html#returning-a-view-versus-a-copy\n",
      "/opt/anaconda3/lib/python3.7/site-packages/ipykernel_launcher.py:18: SettingWithCopyWarning: \n",
      "A value is trying to be set on a copy of a slice from a DataFrame.\n",
      "Try using .loc[row_indexer,col_indexer] = value instead\n",
      "\n",
      "See the caveats in the documentation: https://pandas.pydata.org/pandas-docs/stable/user_guide/indexing.html#returning-a-view-versus-a-copy\n"
     ]
    },
    {
     "data": {
      "text/html": [
       "<div>\n",
       "<style scoped>\n",
       "    .dataframe tbody tr th:only-of-type {\n",
       "        vertical-align: middle;\n",
       "    }\n",
       "\n",
       "    .dataframe tbody tr th {\n",
       "        vertical-align: top;\n",
       "    }\n",
       "\n",
       "    .dataframe thead th {\n",
       "        text-align: right;\n",
       "    }\n",
       "</style>\n",
       "<table border=\"1\" class=\"dataframe\">\n",
       "  <thead>\n",
       "    <tr style=\"text-align: right;\">\n",
       "      <th></th>\n",
       "      <th>week</th>\n",
       "      <th>media</th>\n",
       "      <th>submedia</th>\n",
       "      <th>placement</th>\n",
       "      <th>impression</th>\n",
       "      <th>click</th>\n",
       "      <th>cost</th>\n",
       "    </tr>\n",
       "  </thead>\n",
       "  <tbody>\n",
       "    <tr>\n",
       "      <th>1</th>\n",
       "      <td>2019-07-28 00:00</td>\n",
       "      <td>Digital</td>\n",
       "      <td>YouTube</td>\n",
       "      <td>Multiplatform Video</td>\n",
       "      <td>0.0</td>\n",
       "      <td>0.0</td>\n",
       "      <td>117.782331</td>\n",
       "    </tr>\n",
       "    <tr>\n",
       "      <th>8</th>\n",
       "      <td>2019-07-28 00:00</td>\n",
       "      <td>Digital</td>\n",
       "      <td>YouTube</td>\n",
       "      <td>Multiplatform Video</td>\n",
       "      <td>2264114.0</td>\n",
       "      <td>4309.0</td>\n",
       "      <td>14035.714747</td>\n",
       "    </tr>\n",
       "  </tbody>\n",
       "</table>\n",
       "</div>"
      ],
      "text/plain": [
       "               week    media submedia            placement  impression  \\\n",
       "1  2019-07-28 00:00  Digital  YouTube  Multiplatform Video         0.0   \n",
       "8  2019-07-28 00:00  Digital  YouTube  Multiplatform Video   2264114.0   \n",
       "\n",
       "    click          cost  \n",
       "1     0.0    117.782331  \n",
       "8  4309.0  14035.714747  "
      ]
     },
     "execution_count": 11,
     "metadata": {},
     "output_type": "execute_result"
    }
   ],
   "source": [
    "df_2_digital=pd.read_csv(list_datorama_files[1])\n",
    "df_2_digital.columns=[x.lower() for x in df_2_digital.columns.tolist()]\n",
    "df_2_digital=df_2_digital.rename(columns={\"impressions\":\"impression\",\"clicks\":\"click\",\"media cost\":\"cost\"})\n",
    "df_2_digital=df_2_digital[['week','media','submedia','impression','click','cost','partner','tactic']]\n",
    "\n",
    "df_2_digital_YT=df_2_digital[df_2_digital['partner']==\"YouTube\"]\n",
    "df_2_digital_YT['placement']=df_2_digital_YT['submedia']\n",
    "df_2_digital_YT['submedia']=\"YouTube\"\n",
    "df_2_digital_YT=df_2_digital_YT[df_1_search.columns.tolist()]\n",
    "\n",
    "df_2_digital_Pandora=df_2_digital[df_2_digital['partner']==\"Pandora\"]\n",
    "df_2_digital_Pandora['placement']=df_2_digital_Pandora['submedia']\n",
    "df_2_digital_Pandora['submedia']=\"Pandora\"\n",
    "df_2_digital_Pandora=df_2_digital_Pandora[df_1_search.columns.tolist()]\n",
    "\n",
    "df_2_digital_Programmatic=df_2_digital[~df_2_digital['partner'].isin([\"YouTube\",'Pandora'])]\n",
    "df_2_digital_Programmatic['placement']=df_2_digital_Programmatic['submedia']\n",
    "df_2_digital_Programmatic['submedia']=\"Programmatic\"\n",
    "df_2_digital_Programmatic=df_2_digital_Programmatic[df_1_search.columns.tolist()]\n",
    "\n",
    "df_2_digital=df_2_digital_YT.append(df_2_digital_Pandora).append(df_2_digital_Programmatic)\n",
    "\n",
    "\n",
    "df_2_digital.head(2)"
   ]
  },
  {
   "cell_type": "code",
   "execution_count": 12,
   "metadata": {},
   "outputs": [
    {
     "data": {
      "text/html": [
       "<div>\n",
       "<style scoped>\n",
       "    .dataframe tbody tr th:only-of-type {\n",
       "        vertical-align: middle;\n",
       "    }\n",
       "\n",
       "    .dataframe tbody tr th {\n",
       "        vertical-align: top;\n",
       "    }\n",
       "\n",
       "    .dataframe thead th {\n",
       "        text-align: right;\n",
       "    }\n",
       "</style>\n",
       "<table border=\"1\" class=\"dataframe\">\n",
       "  <thead>\n",
       "    <tr style=\"text-align: right;\">\n",
       "      <th></th>\n",
       "      <th>week</th>\n",
       "      <th>media</th>\n",
       "      <th>submedia</th>\n",
       "      <th>placement</th>\n",
       "      <th>impression</th>\n",
       "      <th>click</th>\n",
       "      <th>cost</th>\n",
       "    </tr>\n",
       "  </thead>\n",
       "  <tbody>\n",
       "    <tr>\n",
       "      <th>0</th>\n",
       "      <td>2019-07-28 00:00</td>\n",
       "      <td>Digital</td>\n",
       "      <td>Flipp</td>\n",
       "      <td>Hosted</td>\n",
       "      <td>172398.0</td>\n",
       "      <td>148604.0</td>\n",
       "      <td>0.00</td>\n",
       "    </tr>\n",
       "    <tr>\n",
       "      <th>1</th>\n",
       "      <td>2019-07-28 00:00</td>\n",
       "      <td>Digital</td>\n",
       "      <td>Flipp</td>\n",
       "      <td>Native Network</td>\n",
       "      <td>8.0</td>\n",
       "      <td>5.0</td>\n",
       "      <td>1.45</td>\n",
       "    </tr>\n",
       "    <tr>\n",
       "      <th>2</th>\n",
       "      <td>2019-07-28 00:00</td>\n",
       "      <td>Digital</td>\n",
       "      <td>Flipp</td>\n",
       "      <td>Flipp App</td>\n",
       "      <td>144125.0</td>\n",
       "      <td>70875.0</td>\n",
       "      <td>20553.75</td>\n",
       "    </tr>\n",
       "  </tbody>\n",
       "</table>\n",
       "</div>"
      ],
      "text/plain": [
       "               week    media submedia       placement  impression     click  \\\n",
       "0  2019-07-28 00:00  Digital    Flipp          Hosted    172398.0  148604.0   \n",
       "1  2019-07-28 00:00  Digital    Flipp  Native Network         8.0       5.0   \n",
       "2  2019-07-28 00:00  Digital    Flipp       Flipp App    144125.0   70875.0   \n",
       "\n",
       "       cost  \n",
       "0      0.00  \n",
       "1      1.45  \n",
       "2  20553.75  "
      ]
     },
     "execution_count": 12,
     "metadata": {},
     "output_type": "execute_result"
    }
   ],
   "source": [
    "df_3_email_ecirc=pd.read_csv(list_datorama_files[2])\n",
    "df_3_email_ecirc.columns=[x.lower() for x in df_3_email_ecirc.columns.tolist()]\n",
    "df_3_email_ecirc=df_3_email_ecirc.rename(columns={\"impressions\":\"impression\",\"clicks\":\"click\",\"media cost\":\"cost\"})\n",
    "df_3_email_ecirc=df_3_email_ecirc[['week','media','placement','impression','click','cost']]\n",
    "df_3_email_ecirc.insert(2,\"submedia\",np.nan)\n",
    "df_3_email_ecirc['submedia']=np.where(df_3_email_ecirc['media']==\"Digital\",\"Flipp\",\"xx\")\n",
    "df_3_email_ecirc['placement']=np.where(df_3_email_ecirc['media']==\"Digital\",df_3_email_ecirc['placement'],\"xx\")\n",
    "\n",
    "df_3_email_ecirc.head(3)"
   ]
  },
  {
   "cell_type": "code",
   "execution_count": 13,
   "metadata": {},
   "outputs": [
    {
     "data": {
      "text/html": [
       "<div>\n",
       "<style scoped>\n",
       "    .dataframe tbody tr th:only-of-type {\n",
       "        vertical-align: middle;\n",
       "    }\n",
       "\n",
       "    .dataframe tbody tr th {\n",
       "        vertical-align: top;\n",
       "    }\n",
       "\n",
       "    .dataframe thead th {\n",
       "        text-align: right;\n",
       "    }\n",
       "</style>\n",
       "<table border=\"1\" class=\"dataframe\">\n",
       "  <thead>\n",
       "    <tr style=\"text-align: right;\">\n",
       "      <th></th>\n",
       "      <th>week</th>\n",
       "      <th>media</th>\n",
       "      <th>submedia</th>\n",
       "      <th>placement</th>\n",
       "      <th>impression</th>\n",
       "      <th>click</th>\n",
       "      <th>cost</th>\n",
       "    </tr>\n",
       "  </thead>\n",
       "  <tbody>\n",
       "    <tr>\n",
       "      <th>0</th>\n",
       "      <td>2019-05-05 00:00</td>\n",
       "      <td>Digital</td>\n",
       "      <td>Social</td>\n",
       "      <td>Pinterest</td>\n",
       "      <td>1481491.0</td>\n",
       "      <td>7062.0</td>\n",
       "      <td>7850.78</td>\n",
       "    </tr>\n",
       "    <tr>\n",
       "      <th>1</th>\n",
       "      <td>2019-05-05 00:00</td>\n",
       "      <td>Digital</td>\n",
       "      <td>Social</td>\n",
       "      <td>Pinterest</td>\n",
       "      <td>1932672.0</td>\n",
       "      <td>9185.0</td>\n",
       "      <td>9508.40</td>\n",
       "    </tr>\n",
       "    <tr>\n",
       "      <th>2</th>\n",
       "      <td>2019-05-05 00:00</td>\n",
       "      <td>Digital</td>\n",
       "      <td>Social</td>\n",
       "      <td>Facebook</td>\n",
       "      <td>3182642.0</td>\n",
       "      <td>18827.0</td>\n",
       "      <td>12685.75</td>\n",
       "    </tr>\n",
       "  </tbody>\n",
       "</table>\n",
       "</div>"
      ],
      "text/plain": [
       "               week    media submedia  placement  impression    click  \\\n",
       "0  2019-05-05 00:00  Digital   Social  Pinterest   1481491.0   7062.0   \n",
       "1  2019-05-05 00:00  Digital   Social  Pinterest   1932672.0   9185.0   \n",
       "2  2019-05-05 00:00  Digital   Social   Facebook   3182642.0  18827.0   \n",
       "\n",
       "       cost  \n",
       "0   7850.78  \n",
       "1   9508.40  \n",
       "2  12685.75  "
      ]
     },
     "execution_count": 13,
     "metadata": {},
     "output_type": "execute_result"
    }
   ],
   "source": [
    "df_4_email_social=pd.read_csv(list_datorama_files[3])\n",
    "df_4_email_social.columns=[x.lower() for x in df_4_email_social.columns.tolist()]\n",
    "df_4_email_social=df_4_email_social.rename(columns={\"impressions\":\"impression\",\"clicks\":\"click\",\"media cost\":\"cost\"})\n",
    "\n",
    "df_4_email_social=df_4_email_social[['week','media','submedia','partner','impression','click','cost']]\n",
    "df_4_email_social=df_4_email_social.rename(columns={\"partner\":\"placement\"})\n",
    "df_4_email_social.head(3)"
   ]
  },
  {
   "cell_type": "code",
   "execution_count": 14,
   "metadata": {},
   "outputs": [
    {
     "name": "stdout",
     "output_type": "stream",
     "text": [
      "['Sunday']\n"
     ]
    },
    {
     "data": {
      "text/html": [
       "<div>\n",
       "<style scoped>\n",
       "    .dataframe tbody tr th:only-of-type {\n",
       "        vertical-align: middle;\n",
       "    }\n",
       "\n",
       "    .dataframe tbody tr th {\n",
       "        vertical-align: top;\n",
       "    }\n",
       "\n",
       "    .dataframe thead th {\n",
       "        text-align: right;\n",
       "    }\n",
       "</style>\n",
       "<table border=\"1\" class=\"dataframe\">\n",
       "  <thead>\n",
       "    <tr style=\"text-align: right;\">\n",
       "      <th></th>\n",
       "      <th>week date</th>\n",
       "      <th>media</th>\n",
       "      <th>submedia</th>\n",
       "      <th>placement</th>\n",
       "      <th>impression</th>\n",
       "      <th>click</th>\n",
       "      <th>cost</th>\n",
       "    </tr>\n",
       "  </thead>\n",
       "  <tbody>\n",
       "    <tr>\n",
       "      <th>3</th>\n",
       "      <td>2019-05-05</td>\n",
       "      <td>Digital</td>\n",
       "      <td>PLA</td>\n",
       "      <td>Bing</td>\n",
       "      <td>908500.0</td>\n",
       "      <td>10257.0</td>\n",
       "      <td>3954.33</td>\n",
       "    </tr>\n",
       "    <tr>\n",
       "      <th>5</th>\n",
       "      <td>2019-05-12</td>\n",
       "      <td>Digital</td>\n",
       "      <td>PLA</td>\n",
       "      <td>Bing</td>\n",
       "      <td>45061.0</td>\n",
       "      <td>707.0</td>\n",
       "      <td>1108.43</td>\n",
       "    </tr>\n",
       "  </tbody>\n",
       "</table>\n",
       "</div>"
      ],
      "text/plain": [
       "    week date    media submedia placement  impression    click     cost\n",
       "3  2019-05-05  Digital      PLA      Bing    908500.0  10257.0  3954.33\n",
       "5  2019-05-12  Digital      PLA      Bing     45061.0    707.0  1108.43"
      ]
     },
     "execution_count": 14,
     "metadata": {},
     "output_type": "execute_result"
    }
   ],
   "source": [
    "df_all_digital_from_datorama=pd.concat([df_1_search,df_2_digital,df_3_email_ecirc,df_4_email_social])\n",
    "df_all_digital_from_datorama['week']=df_all_digital_from_datorama['week'].apply(lambda x: x.split(\" \")[0])\n",
    "df_all_digital_from_datorama=df_all_digital_from_datorama.rename(columns={\"week\":\"week date\"})\n",
    "\n",
    "# QC week date as \n",
    "df_all_digital_from_datorama['week_as_date'] = pd.to_datetime(df_all_digital_from_datorama['week date'])\n",
    "df_all_digital_from_datorama['day_of_week'] = df_all_digital_from_datorama['week_as_date'].dt.day_name()\n",
    "print(df_all_digital_from_datorama['day_of_week'].unique())\n",
    "del df_all_digital_from_datorama['week_as_date']\n",
    "del df_all_digital_from_datorama['day_of_week']\n",
    "\n",
    "df_all_digital_from_datorama.head(2)"
   ]
  },
  {
   "cell_type": "code",
   "execution_count": 15,
   "metadata": {},
   "outputs": [
    {
     "data": {
      "text/plain": [
       "('2019-05-05', '2019-07-28')"
      ]
     },
     "execution_count": 15,
     "metadata": {},
     "output_type": "execute_result"
    }
   ],
   "source": [
    "df_all_digital_from_datorama['week date'].min(),df_all_digital_from_datorama['week date'].max()"
   ]
  },
  {
   "cell_type": "code",
   "execution_count": 27,
   "metadata": {},
   "outputs": [
    {
     "name": "stdout",
     "output_type": "stream",
     "text": [
      "('Digital', 'Flipp')\n",
      "impr 0.9998 5695713.0 5696888\n",
      "click 1.0982 4075995.0 3711617\n",
      "cost 1.0113 360191.8900000001 356157.99999999994\n",
      "('Digital', 'PLA')\n",
      "impr 1.0 114693720.0 114693720\n",
      "click 1.0 1983612.0 1983612\n",
      "cost 1.0 273027.64999999997 273027.64999999915\n",
      "('Digital', 'Pandora')\n",
      "impr 1.0 6435048.0 6435048\n",
      "click 1.0 5568.0 5568\n",
      "cost 1.0 128700.95999999999 128700.95999999985\n",
      "('Digital', 'Programmatic')\n",
      "impr 1.0 127877927.0 127877927\n",
      "click 1.0 587828.0 587828\n",
      "cost 1.0 905123.8324714281 905123.8324714267\n",
      "('Digital', 'SEM')\n",
      "impr 1.0 17750475.0 17750475\n",
      "click 1.0 4279300.0 4279300\n",
      "cost 1.0 871843.3700079999 871843.3700079994\n",
      "('Digital', 'Social')\n",
      "impr 1.0 235474428.0 235474428\n",
      "click 1.0 1766639.0 1766639\n",
      "cost 1.0 1339745.2119049996 1339745.2119049972\n",
      "('Digital', 'YouTube')\n",
      "impr 1.0 36931667.0 36931667\n",
      "click 1.0 92546.0 92546\n",
      "cost 1.0 271408.260334 271408.2603339994\n",
      "('Email', 'xx')\n",
      "impr 1.0 2033659710.0 2033659691\n",
      "click 1.0007 16139726.0 16128461\n",
      "cost 1.7466 926910.6117754851 530690.0\n"
     ]
    }
   ],
   "source": [
    "# Looks fine\n",
    "# Ecirc and the Email cost were adjusted later\n",
    "\n",
    "for comb,df_group in df_all_digital_from_datorama.groupby(['media','submedia']):\n",
    "    media=comb[0]\n",
    "    submedia=comb[1]\n",
    "    \n",
    "    impr=df_group['impression'].sum()\n",
    "    click=df_group['click'].sum()\n",
    "    cost=df_group['cost'].sum()\n",
    "    \n",
    "    qc_xx=qc_df[(qc_df['media']==media) & (qc_df['submedia']==submedia)]\n",
    "    qc_impr=qc_xx['impression'].sum()\n",
    "    qc_click=qc_xx['click'].sum()\n",
    "    qc_cost=qc_xx['cost'].sum()\n",
    "    \n",
    "    print(comb)\n",
    "    print(\"impr\",np.round(impr/qc_impr,4),impr,qc_impr)\n",
    "    print(\"click\",np.round(click/qc_click,4),click,qc_click)\n",
    "    print(\"cost\",np.round(cost/qc_cost,4),cost,qc_cost)\n",
    "    "
   ]
  },
  {
   "cell_type": "code",
   "execution_count": null,
   "metadata": {},
   "outputs": [],
   "source": []
  }
 ],
 "metadata": {
  "kernelspec": {
   "display_name": "Python 3",
   "language": "python",
   "name": "python3"
  },
  "language_info": {
   "codemirror_mode": {
    "name": "ipython",
    "version": 3
   },
   "file_extension": ".py",
   "mimetype": "text/x-python",
   "name": "python",
   "nbconvert_exporter": "python",
   "pygments_lexer": "ipython3",
   "version": "3.7.6"
  }
 },
 "nbformat": 4,
 "nbformat_minor": 4
}
