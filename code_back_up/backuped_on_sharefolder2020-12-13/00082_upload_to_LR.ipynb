{
 "cells": [
  {
   "cell_type": "code",
   "execution_count": 1,
   "metadata": {},
   "outputs": [
    {
     "name": "stdout",
     "output_type": "stream",
     "text": [
      "/home/jian/Projects/Big_Lots/Live_Ramp/Quarterly_Update_2020Q2\n",
      "2020-04-28 11:41:27.882438\n"
     ]
    }
   ],
   "source": [
    "import glob\n",
    "import os\n",
    "import paramiko\n",
    "import pandas as pd\n",
    "import numpy as np\n",
    "import datetime\n",
    "\n",
    "print(os.getcwd())\n",
    "print(datetime.datetime.now())"
   ]
  },
  {
   "cell_type": "code",
   "execution_count": 2,
   "metadata": {},
   "outputs": [
    {
     "data": {
      "text/plain": [
       "164"
      ]
     },
     "execution_count": 2,
     "metadata": {},
     "output_type": "execute_result"
    }
   ],
   "source": [
    "list_all=glob.glob(\"/home/jian/Projects/Big_Lots/Live_Ramp/Quarterly_Update_2020Q2/wanted_segment_files/*\")\n",
    "len(list_all)"
   ]
  },
  {
   "cell_type": "code",
   "execution_count": 3,
   "metadata": {},
   "outputs": [
    {
     "name": "stdout",
     "output_type": "stream",
     "text": [
      "len(list_all_T) 80\n",
      "len(list_all_C) 82\n"
     ]
    }
   ],
   "source": [
    "list_all_T=[x for x in list_all if os.path.basename(x)[0]==\"T\"]\n",
    "# Exclude 19-48\n",
    "list_all_T=[x for x in list_all_T if \"1948\" not in x]\n",
    "\n",
    "print(\"len(list_all_T)\",len(list_all_T))\n",
    "\n",
    "list_all_C=[x for x in list_all if os.path.basename(x)[0]==\"C\"]\n",
    "print(\"len(list_all_C)\",len(list_all_C))"
   ]
  },
  {
   "cell_type": "code",
   "execution_count": 4,
   "metadata": {},
   "outputs": [
    {
     "name": "stdout",
     "output_type": "stream",
     "text": [
      "2020-04-28 11:41:32.512760 T_Legacy_Active_H_P_Above50K_MultiFamilyOrCondo_RFM20Q2.csv (125055, 3)\n",
      "(0, 3) (0, 3)\n",
      "(0, 3) (0, 3)\n",
      "2020-04-28 11:41:49.349562 T_Legacy_Active_H_P_Above50K_SingleFamily_RFM20Q2.csv (1866969, 3)\n",
      "(0, 3) (0, 3)\n",
      "(0, 3) (0, 3)\n",
      "2020-04-28 11:41:51.927680 T_Legacy_Active_H_P_Below50K_MultiFamilyOrCondo_RFM20Q2.csv (148228, 3)\n",
      "(0, 3) (0, 3)\n",
      "(0, 3) (0, 3)\n",
      "2020-04-28 11:41:56.173821 T_Legacy_Active_H_P_Below50K_SingleFamily_RFM20Q2.csv (521417, 3)\n",
      "(0, 3) (0, 3)\n",
      "(0, 3) (0, 3)\n",
      "2020-04-28 11:42:02.762482 T_Legacy_Active_H_P_Unknown_Unknown_RFM20Q2.csv (803711, 3)\n",
      "(0, 3) (0, 3)\n",
      "(0, 3) (0, 3)\n",
      "2020-04-28 11:42:03.721075 T_Legacy_Active_H_S_Above50K_MultiFamilyOrCondo_RFM20Q2.csv (37743, 3)\n",
      "(0, 3) (0, 3)\n",
      "(0, 3) (0, 3)\n",
      "2020-04-28 11:42:09.362237 T_Legacy_Active_H_S_Above50K_SingleFamily_RFM20Q2.csv (618388, 3)\n",
      "(0, 3) (0, 3)\n",
      "(0, 3) (0, 3)\n",
      "2020-04-28 11:42:10.630394 T_Legacy_Active_H_S_Below50K_MultiFamilyOrCondo_RFM20Q2.csv (42917, 3)\n",
      "(0, 3) (0, 3)\n",
      "(0, 3) (0, 3)\n",
      "2020-04-28 11:42:12.567685 T_Legacy_Active_H_S_Below50K_SingleFamily_RFM20Q2.csv (193125, 3)\n",
      "(0, 3) (0, 3)\n",
      "(0, 3) (0, 3)\n",
      "2020-04-28 11:42:15.009998 T_Legacy_Active_H_S_Unknown_Unknown_RFM20Q2.csv (294464, 3)\n",
      "(0, 3) (0, 3)\n",
      "(0, 3) (0, 3)\n",
      "2020-04-28 11:42:15.324344 T_Legacy_Active_L_P_Above50K_MultiFamilyOrCondo_RFM20Q2.csv (29170, 3)\n",
      "(0, 3) (0, 3)\n",
      "(0, 3) (0, 3)\n",
      "2020-04-28 11:42:18.947803 T_Legacy_Active_L_P_Above50K_SingleFamily_RFM20Q2.csv (434644, 3)\n",
      "(0, 3) (0, 3)\n",
      "(0, 3) (0, 3)\n",
      "2020-04-28 11:42:19.374410 T_Legacy_Active_L_P_Below50K_MultiFamilyOrCondo_RFM20Q2.csv (33266, 3)\n",
      "(0, 3) (0, 3)\n",
      "(0, 3) (0, 3)\n",
      "2020-04-28 11:42:20.400893 T_Legacy_Active_L_P_Below50K_SingleFamily_RFM20Q2.csv (113915, 3)\n",
      "(0, 3) (0, 3)\n",
      "(0, 3) (0, 3)\n",
      "2020-04-28 11:42:24.490065 T_Legacy_Active_L_P_Unknown_Unknown_RFM20Q2.csv (493365, 3)\n",
      "(0, 3) (0, 3)\n",
      "(0, 3) (0, 3)\n",
      "2020-04-28 11:42:24.736520 T_Legacy_Active_L_S_Above50K_MultiFamilyOrCondo_RFM20Q2.csv (11171, 3)\n",
      "(0, 3) (0, 3)\n",
      "(0, 3) (0, 3)\n",
      "2020-04-28 11:42:26.355555 T_Legacy_Active_L_S_Above50K_SingleFamily_RFM20Q2.csv (185777, 3)\n",
      "(0, 3) (0, 3)\n",
      "(0, 3) (0, 3)\n",
      "2020-04-28 11:42:26.515300 T_Legacy_Active_L_S_Below50K_MultiFamilyOrCondo_RFM20Q2.csv (12713, 3)\n",
      "(0, 3) (0, 3)\n",
      "(0, 3) (0, 3)\n",
      "2020-04-28 11:42:26.970810 T_Legacy_Active_L_S_Below50K_SingleFamily_RFM20Q2.csv (54172, 3)\n",
      "(0, 3) (0, 3)\n",
      "(0, 3) (0, 3)\n",
      "2020-04-28 11:42:28.746053 T_Legacy_Active_L_S_Unknown_Unknown_RFM20Q2.csv (221779, 3)\n",
      "(0, 3) (0, 3)\n",
      "(0, 3) (0, 3)\n",
      "2020-04-28 11:42:29.620721 T_Legacy_Active_M_P_Above50K_MultiFamilyOrCondo_RFM20Q2.csv (75055, 3)\n",
      "(0, 3) (0, 3)\n",
      "(0, 3) (0, 3)\n",
      "2020-04-28 11:42:40.336812 T_Legacy_Active_M_P_Above50K_SingleFamily_RFM20Q2.csv (1164382, 3)\n",
      "(0, 3) (0, 3)\n",
      "(0, 3) (0, 3)\n",
      "2020-04-28 11:42:42.202825 T_Legacy_Active_M_P_Below50K_MultiFamilyOrCondo_RFM20Q2.csv (85393, 3)\n",
      "(0, 3) (0, 3)\n",
      "(0, 3) (0, 3)\n",
      "2020-04-28 11:42:44.955039 T_Legacy_Active_M_P_Below50K_SingleFamily_RFM20Q2.csv (313199, 3)\n",
      "(0, 3) (0, 3)\n",
      "(0, 3) (0, 3)\n",
      "2020-04-28 11:42:51.291510 T_Legacy_Active_M_P_Unknown_Unknown_RFM20Q2.csv (767712, 3)\n",
      "(0, 3) (0, 3)\n",
      "(0, 3) (0, 3)\n",
      "2020-04-28 11:42:51.751066 T_Legacy_Active_M_S_Above50K_MultiFamilyOrCondo_RFM20Q2.csv (26009, 3)\n",
      "(0, 3) (0, 3)\n",
      "(0, 3) (0, 3)\n",
      "2020-04-28 11:42:55.615659 T_Legacy_Active_M_S_Above50K_SingleFamily_RFM20Q2.csv (466620, 3)\n",
      "(0, 3) (0, 3)\n",
      "(0, 3) (0, 3)\n",
      "2020-04-28 11:42:56.144692 T_Legacy_Active_M_S_Below50K_MultiFamilyOrCondo_RFM20Q2.csv (29204, 3)\n",
      "(0, 3) (0, 3)\n",
      "(0, 3) (0, 3)\n",
      "2020-04-28 11:42:56.183291 T_OthersAggregated_RFM20Q2.csv (3211, 3)\n",
      "(0, 3) (0, 3)\n",
      "(0, 3) (0, 3)\n",
      "2020-04-28 11:42:57.334613 T_Legacy_Active_M_S_Below50K_SingleFamily_RFM20Q2.csv (138809, 3)\n",
      "(0, 3) (0, 3)\n",
      "(0, 3) (0, 3)\n",
      "2020-04-28 11:43:00.075723 T_Legacy_Active_M_S_Unknown_Unknown_RFM20Q2.csv (342366, 3)\n",
      "(0, 3) (0, 3)\n",
      "(0, 3) (0, 3)\n",
      "2020-04-28 11:43:00.664605 T_Legacy_Lapsed1318_L_P_Above50K_MultiFamilyOrCondo_RFM20Q2.csv (61086, 3)\n",
      "(0, 3) (0, 3)\n",
      "(0, 3) (0, 3)\n",
      "2020-04-28 11:43:08.198872 T_Legacy_Lapsed1318_L_P_Above50K_SingleFamily_RFM20Q2.csv (897262, 3)\n",
      "(0, 3) (0, 3)\n",
      "(0, 3) (0, 3)\n",
      "2020-04-28 11:43:09.019166 T_Legacy_Lapsed1318_L_P_Below50K_MultiFamilyOrCondo_RFM20Q2.csv (72192, 3)\n",
      "(0, 3) (0, 3)\n",
      "(0, 3) (0, 3)\n",
      "2020-04-28 11:43:11.131869 T_Legacy_Lapsed1318_L_P_Below50K_SingleFamily_RFM20Q2.csv (243814, 3)\n",
      "(0, 3) (0, 3)\n",
      "(0, 3) (0, 3)\n",
      "2020-04-28 11:43:11.294179 T_Legacy_Lapsed1318_L_P_Unknown_Unknown_RFM20Q2.csv (12057, 3)\n",
      "(0, 3) (0, 3)\n",
      "(0, 3) (0, 3)\n",
      "2020-04-28 11:43:11.875215 T_Legacy_Lapsed1318_L_S_Above50K_MultiFamilyOrCondo_RFM20Q2.csv (25679, 3)\n",
      "(0, 3) (0, 3)\n",
      "(0, 3) (0, 3)\n",
      "2020-04-28 11:43:15.831026 T_Legacy_Lapsed1318_L_S_Above50K_SingleFamily_RFM20Q2.csv (405498, 3)\n",
      "(0, 3) (0, 3)\n",
      "(0, 3) (0, 3)\n",
      "2020-04-28 11:43:16.333733 T_Legacy_Lapsed1318_L_S_Below50K_MultiFamilyOrCondo_RFM20Q2.csv (29042, 3)\n",
      "(0, 3) (0, 3)\n",
      "(0, 3) (0, 3)\n",
      "2020-04-28 11:43:17.574902 T_Legacy_Lapsed1318_L_S_Below50K_SingleFamily_RFM20Q2.csv (122031, 3)\n",
      "(0, 3) (0, 3)\n",
      "(0, 3) (0, 3)\n",
      "2020-04-28 11:43:17.655473 T_Legacy_Lapsed1318_L_S_Unknown_Unknown_RFM20Q2.csv (5468, 3)\n",
      "(0, 3) (0, 3)\n",
      "(0, 3) (0, 3)\n",
      "2020-04-28 11:43:18.171724 T_SOTF_Active_H_P_Above50K_MultiFamilyOrCondo_RFM20Q2.csv (63346, 3)\n",
      "(0, 3) (0, 3)\n",
      "(0, 3) (0, 3)\n",
      "2020-04-28 11:43:26.506305 T_SOTF_Active_H_P_Above50K_SingleFamily_RFM20Q2.csv (996353, 3)\n",
      "(0, 3) (0, 3)\n",
      "(0, 3) (0, 3)\n",
      "2020-04-28 11:43:27.414571 T_SOTF_Active_H_P_Below50K_MultiFamilyOrCondo_RFM20Q2.csv (73952, 3)\n",
      "(0, 3) (0, 3)\n",
      "(0, 3) (0, 3)\n",
      "2020-04-28 11:43:29.711805 T_SOTF_Active_H_P_Below50K_SingleFamily_RFM20Q2.csv (274771, 3)\n",
      "(0, 3) (0, 3)\n",
      "(0, 3) (0, 3)\n",
      "2020-04-28 11:43:33.378626 T_SOTF_Active_H_P_Unknown_Unknown_RFM20Q2.csv (453035, 3)\n",
      "(0, 3) (0, 3)\n",
      "(0, 3) (0, 3)\n",
      "2020-04-28 11:43:33.676322 T_SOTF_Active_H_S_Above50K_MultiFamilyOrCondo_RFM20Q2.csv (20357, 3)\n",
      "(0, 3) (0, 3)\n",
      "(0, 3) (0, 3)\n",
      "2020-04-28 11:43:36.144046 T_SOTF_Active_H_S_Above50K_SingleFamily_RFM20Q2.csv (300528, 3)\n",
      "(0, 3) (0, 3)\n",
      "(0, 3) (0, 3)\n",
      "2020-04-28 11:43:36.409284 T_SOTF_Active_H_S_Below50K_MultiFamilyOrCondo_RFM20Q2.csv (20222, 3)\n",
      "(0, 3) (0, 3)\n",
      "(0, 3) (0, 3)\n",
      "2020-04-28 11:43:37.114267 T_SOTF_Active_H_S_Below50K_SingleFamily_RFM20Q2.csv (91734, 3)\n",
      "(0, 3) (0, 3)\n",
      "(0, 3) (0, 3)\n",
      "2020-04-28 11:43:38.533795 T_SOTF_Active_H_S_Unknown_Unknown_RFM20Q2.csv (179754, 3)\n",
      "(0, 3) (0, 3)\n",
      "(0, 3) (0, 3)\n",
      "2020-04-28 11:43:38.819410 T_SOTF_Active_L_P_Above50K_MultiFamilyOrCondo_RFM20Q2.csv (14341, 3)\n",
      "(0, 3) (0, 3)\n",
      "(0, 3) (0, 3)\n",
      "2020-04-28 11:43:40.610680 T_SOTF_Active_L_P_Above50K_SingleFamily_RFM20Q2.csv (226190, 3)\n",
      "(0, 3) (0, 3)\n",
      "(0, 3) (0, 3)\n",
      "2020-04-28 11:43:40.810644 T_SOTF_Active_L_P_Below50K_MultiFamilyOrCondo_RFM20Q2.csv (16523, 3)\n",
      "(0, 3) (0, 3)\n",
      "(0, 3) (0, 3)\n",
      "2020-04-28 11:43:41.324105 T_SOTF_Active_L_P_Below50K_SingleFamily_RFM20Q2.csv (58673, 3)\n",
      "(0, 3) (0, 3)\n",
      "(0, 3) (0, 3)\n",
      "2020-04-28 11:43:43.428723 T_SOTF_Active_L_P_Unknown_Unknown_RFM20Q2.csv (258892, 3)\n",
      "(0, 3) (0, 3)\n",
      "(0, 3) (0, 3)\n",
      "2020-04-28 11:43:43.553204 T_SOTF_Active_L_S_Above50K_MultiFamilyOrCondo_RFM20Q2.csv (5845, 3)\n",
      "(0, 3) (0, 3)\n",
      "(0, 3) (0, 3)\n",
      "2020-04-28 11:43:44.208135 T_SOTF_Active_L_S_Above50K_SingleFamily_RFM20Q2.csv (84390, 3)\n",
      "(0, 3) (0, 3)\n",
      "(0, 3) (0, 3)\n",
      "2020-04-28 11:43:44.284443 T_SOTF_Active_L_S_Below50K_MultiFamilyOrCondo_RFM20Q2.csv (5708, 3)\n",
      "(0, 3) (0, 3)\n",
      "(0, 3) (0, 3)\n",
      "2020-04-28 11:43:44.477324 T_SOTF_Active_L_S_Below50K_SingleFamily_RFM20Q2.csv (24232, 3)\n",
      "(0, 3) (0, 3)\n",
      "(0, 3) (0, 3)\n",
      "2020-04-28 11:43:45.408485 T_SOTF_Active_L_S_Unknown_Unknown_RFM20Q2.csv (115986, 3)\n",
      "(0, 3) (0, 3)\n",
      "(0, 3) (0, 3)\n",
      "2020-04-28 11:43:45.743719 T_SOTF_Active_M_P_Above50K_MultiFamilyOrCondo_RFM20Q2.csv (38164, 3)\n",
      "(0, 3) (0, 3)\n",
      "(0, 3) (0, 3)\n",
      "2020-04-28 11:43:50.744544 T_SOTF_Active_M_P_Above50K_SingleFamily_RFM20Q2.csv (622109, 3)\n",
      "(0, 3) (0, 3)\n",
      "(0, 3) (0, 3)\n",
      "2020-04-28 11:43:51.239256 T_SOTF_Active_M_P_Below50K_MultiFamilyOrCondo_RFM20Q2.csv (43006, 3)\n",
      "(0, 3) (0, 3)\n",
      "(0, 3) (0, 3)\n",
      "2020-04-28 11:43:52.588919 T_SOTF_Active_M_P_Below50K_SingleFamily_RFM20Q2.csv (163958, 3)\n",
      "(0, 3) (0, 3)\n",
      "(0, 3) (0, 3)\n",
      "2020-04-28 11:43:56.015594 T_SOTF_Active_M_P_Unknown_Unknown_RFM20Q2.csv (431592, 3)\n",
      "(0, 3) (0, 3)\n",
      "(0, 3) (0, 3)\n",
      "2020-04-28 11:43:56.246711 T_SOTF_Active_M_S_Above50K_MultiFamilyOrCondo_RFM20Q2.csv (13816, 3)\n",
      "(0, 3) (0, 3)\n",
      "(0, 3) (0, 3)\n",
      "2020-04-28 11:43:57.991845 T_SOTF_Active_M_S_Above50K_SingleFamily_RFM20Q2.csv (216519, 3)\n",
      "(0, 3) (0, 3)\n",
      "(0, 3) (0, 3)\n",
      "2020-04-28 11:43:58.158863 T_SOTF_Active_M_S_Below50K_MultiFamilyOrCondo_RFM20Q2.csv (13261, 3)\n",
      "(0, 3) (0, 3)\n",
      "(0, 3) (0, 3)\n"
     ]
    },
    {
     "name": "stdout",
     "output_type": "stream",
     "text": [
      "2020-04-28 11:43:58.650057 T_SOTF_Active_M_S_Below50K_SingleFamily_RFM20Q2.csv (63271, 3)\n",
      "(0, 3) (0, 3)\n",
      "(0, 3) (0, 3)\n",
      "2020-04-28 11:44:00.259647 T_SOTF_Active_M_S_Unknown_Unknown_RFM20Q2.csv (193653, 3)\n",
      "(0, 3) (0, 3)\n",
      "(0, 3) (0, 3)\n",
      "2020-04-28 11:44:00.546594 T_SOTF_Lapsed1318_L_P_Above50K_MultiFamilyOrCondo_RFM20Q2.csv (29143, 3)\n",
      "(0, 3) (0, 3)\n",
      "(0, 3) (0, 3)\n",
      "2020-04-28 11:44:04.244531 T_SOTF_Lapsed1318_L_P_Above50K_SingleFamily_RFM20Q2.csv (455126, 3)\n",
      "(0, 3) (0, 3)\n",
      "(0, 3) (0, 3)\n",
      "2020-04-28 11:44:04.664948 T_SOTF_Lapsed1318_L_P_Below50K_MultiFamilyOrCondo_RFM20Q2.csv (35096, 3)\n",
      "(0, 3) (0, 3)\n",
      "(0, 3) (0, 3)\n",
      "2020-04-28 11:44:05.670155 T_SOTF_Lapsed1318_L_P_Below50K_SingleFamily_RFM20Q2.csv (121475, 3)\n",
      "(0, 3) (0, 3)\n",
      "(0, 3) (0, 3)\n",
      "2020-04-28 11:44:05.751968 T_SOTF_Lapsed1318_L_P_Unknown_Unknown_RFM20Q2.csv (5953, 3)\n",
      "(0, 3) (0, 3)\n",
      "(0, 3) (0, 3)\n",
      "2020-04-28 11:44:05.852577 T_SOTF_Lapsed1318_L_S_Above50K_MultiFamilyOrCondo_RFM20Q2.csv (11856, 3)\n",
      "(0, 3) (0, 3)\n",
      "(0, 3) (0, 3)\n",
      "2020-04-28 11:44:07.227752 T_SOTF_Lapsed1318_L_S_Above50K_SingleFamily_RFM20Q2.csv (161799, 3)\n",
      "(0, 3) (0, 3)\n",
      "(0, 3) (0, 3)\n",
      "2020-04-28 11:44:07.360954 T_SOTF_Lapsed1318_L_S_Below50K_MultiFamilyOrCondo_RFM20Q2.csv (11339, 3)\n",
      "(0, 3) (0, 3)\n",
      "(0, 3) (0, 3)\n",
      "2020-04-28 11:44:07.741275 T_SOTF_Lapsed1318_L_S_Below50K_SingleFamily_RFM20Q2.csv (49251, 3)\n",
      "(0, 3) (0, 3)\n",
      "(0, 3) (0, 3)\n"
     ]
    }
   ],
   "source": [
    "count_Test=0\n",
    "for file in list_all_T:\n",
    "    file_name=os.path.basename(file)\n",
    "    df=pd.read_csv(file,dtype=str,usecols=['customer_id_hashed','email_address_hash','segment_2020Q2'])\n",
    "    df.to_csv(\"/home/jian/Projects/Big_Lots/Live_Ramp/Quarterly_Update_2020Q2/upload_files/\"+file_name,index=False)\n",
    "    print(datetime.datetime.now(),file_name,df.shape)\n",
    "    print(df[pd.isnull(df['customer_id_hashed'])].shape,df[df['customer_id_hashed']==\"nan\"].shape)\n",
    "    print(df[pd.isnull(df['email_address_hash'])].shape,df[df['customer_id_hashed']==\"nan\"].shape)\n",
    "    count_Test+=df.shape[0]"
   ]
  },
  {
   "cell_type": "code",
   "execution_count": 5,
   "metadata": {},
   "outputs": [
    {
     "data": {
      "text/plain": [
       "17493297"
      ]
     },
     "execution_count": 5,
     "metadata": {},
     "output_type": "execute_result"
    }
   ],
   "source": [
    "count_Test"
   ]
  },
  {
   "cell_type": "code",
   "execution_count": 6,
   "metadata": {},
   "outputs": [
    {
     "name": "stdout",
     "output_type": "stream",
     "text": [
      "2020-04-28 11:44:14.692419 (599954, 3)\n"
     ]
    }
   ],
   "source": [
    "df_aggregated_control=pd.DataFrame()\n",
    "\n",
    "for file in list_all_C:\n",
    "    df=pd.read_csv(file,dtype=str,usecols=['customer_id_hashed','email_address_hash','segment_2020Q2'])\n",
    "    df_aggregated_control=df_aggregated_control.append(df)\n",
    "    \n",
    "df_aggregated_control.to_csv(\"/home/jian/Projects/Big_Lots/Live_Ramp/Quarterly_Update_2020Q2/upload_files/C_all_quarterly_segments_RFM20Q2.csv\",index=False)\n",
    "print(datetime.datetime.now(),df_aggregated_control.shape)"
   ]
  },
  {
   "cell_type": "code",
   "execution_count": 9,
   "metadata": {},
   "outputs": [
    {
     "data": {
      "text/html": [
       "<div>\n",
       "<style scoped>\n",
       "    .dataframe tbody tr th:only-of-type {\n",
       "        vertical-align: middle;\n",
       "    }\n",
       "\n",
       "    .dataframe tbody tr th {\n",
       "        vertical-align: top;\n",
       "    }\n",
       "\n",
       "    .dataframe thead th {\n",
       "        text-align: right;\n",
       "    }\n",
       "</style>\n",
       "<table border=\"1\" class=\"dataframe\">\n",
       "  <thead>\n",
       "    <tr style=\"text-align: right;\">\n",
       "      <th></th>\n",
       "      <th>customer_id_hashed</th>\n",
       "      <th>email_address_hash</th>\n",
       "      <th>segment_2020Q2</th>\n",
       "    </tr>\n",
       "  </thead>\n",
       "  <tbody>\n",
       "    <tr>\n",
       "      <th>0</th>\n",
       "      <td>5d94e25d513c5fff2e44c4efc44f5b115199e697fc357a...</td>\n",
       "      <td>958837751081305431f415ef027e8673a57b8989be1b20...</td>\n",
       "      <td>C_Legacy_Active_H_P_Above50K_MultiFamilyOrCond...</td>\n",
       "    </tr>\n",
       "    <tr>\n",
       "      <th>1</th>\n",
       "      <td>e162755e653f9b8b5933123a28b524187847cd945df3e2...</td>\n",
       "      <td>2f0eb6fa4b365a05b01f8fa21850bef9ce226bdbef083e...</td>\n",
       "      <td>C_Legacy_Active_H_P_Above50K_MultiFamilyOrCond...</td>\n",
       "    </tr>\n",
       "  </tbody>\n",
       "</table>\n",
       "</div>"
      ],
      "text/plain": [
       "                                  customer_id_hashed  \\\n",
       "0  5d94e25d513c5fff2e44c4efc44f5b115199e697fc357a...   \n",
       "1  e162755e653f9b8b5933123a28b524187847cd945df3e2...   \n",
       "\n",
       "                                  email_address_hash  \\\n",
       "0  958837751081305431f415ef027e8673a57b8989be1b20...   \n",
       "1  2f0eb6fa4b365a05b01f8fa21850bef9ce226bdbef083e...   \n",
       "\n",
       "                                      segment_2020Q2  \n",
       "0  C_Legacy_Active_H_P_Above50K_MultiFamilyOrCond...  \n",
       "1  C_Legacy_Active_H_P_Above50K_MultiFamilyOrCond...  "
      ]
     },
     "execution_count": 9,
     "metadata": {},
     "output_type": "execute_result"
    }
   ],
   "source": [
    "df_aggregated_control.head(2)"
   ]
  },
  {
   "cell_type": "markdown",
   "metadata": {},
   "source": [
    "# Upload to LR"
   ]
  },
  {
   "cell_type": "code",
   "execution_count": 7,
   "metadata": {},
   "outputs": [
    {
     "data": {
      "text/plain": [
       "81"
      ]
     },
     "execution_count": 7,
     "metadata": {},
     "output_type": "execute_result"
    }
   ],
   "source": [
    "list_all_files_to_upload=glob.glob(\"/home/jian/Projects/Big_Lots/Live_Ramp/Quarterly_Update_2020Q2/upload_files/*\")\n",
    "len(list_all_files_to_upload)"
   ]
  },
  {
   "cell_type": "code",
   "execution_count": 11,
   "metadata": {},
   "outputs": [
    {
     "name": "stdout",
     "output_type": "stream",
     "text": [
      "T_Legacy_Active_H_P_Above50K_MultiFamilyOrCondo_RFM20Q2.csv (125055, 3)\n",
      "T_Legacy_Active_H_P_Above50K_SingleFamily_RFM20Q2.csv (1866969, 3)\n",
      "T_Legacy_Active_H_P_Below50K_MultiFamilyOrCondo_RFM20Q2.csv (148228, 3)\n",
      "T_Legacy_Active_H_P_Below50K_SingleFamily_RFM20Q2.csv (521417, 3)\n",
      "T_Legacy_Active_H_P_Unknown_Unknown_RFM20Q2.csv (803711, 3)\n",
      "T_Legacy_Active_H_S_Above50K_MultiFamilyOrCondo_RFM20Q2.csv (37743, 3)\n",
      "T_Legacy_Active_H_S_Above50K_SingleFamily_RFM20Q2.csv (618388, 3)\n",
      "T_Legacy_Active_H_S_Below50K_MultiFamilyOrCondo_RFM20Q2.csv (42917, 3)\n",
      "T_Legacy_Active_H_S_Below50K_SingleFamily_RFM20Q2.csv (193125, 3)\n",
      "T_Legacy_Active_H_S_Unknown_Unknown_RFM20Q2.csv (294464, 3)\n",
      "T_Legacy_Active_L_P_Above50K_MultiFamilyOrCondo_RFM20Q2.csv (29170, 3)\n",
      "T_Legacy_Active_L_P_Above50K_SingleFamily_RFM20Q2.csv (434644, 3)\n",
      "T_Legacy_Active_L_P_Below50K_MultiFamilyOrCondo_RFM20Q2.csv (33266, 3)\n",
      "T_Legacy_Active_L_P_Below50K_SingleFamily_RFM20Q2.csv (113915, 3)\n",
      "T_Legacy_Active_L_P_Unknown_Unknown_RFM20Q2.csv (493365, 3)\n",
      "T_Legacy_Active_L_S_Above50K_MultiFamilyOrCondo_RFM20Q2.csv (11171, 3)\n",
      "T_Legacy_Active_L_S_Above50K_SingleFamily_RFM20Q2.csv (185777, 3)\n",
      "T_Legacy_Active_L_S_Below50K_MultiFamilyOrCondo_RFM20Q2.csv (12713, 3)\n",
      "T_Legacy_Active_L_S_Below50K_SingleFamily_RFM20Q2.csv (54172, 3)\n",
      "T_Legacy_Active_L_S_Unknown_Unknown_RFM20Q2.csv (221779, 3)\n",
      "T_Legacy_Active_M_P_Above50K_MultiFamilyOrCondo_RFM20Q2.csv (75055, 3)\n",
      "T_Legacy_Active_M_P_Above50K_SingleFamily_RFM20Q2.csv (1164382, 3)\n",
      "T_Legacy_Active_M_P_Below50K_MultiFamilyOrCondo_RFM20Q2.csv (85393, 3)\n",
      "T_Legacy_Active_M_P_Below50K_SingleFamily_RFM20Q2.csv (313199, 3)\n",
      "T_Legacy_Active_M_P_Unknown_Unknown_RFM20Q2.csv (767712, 3)\n",
      "T_Legacy_Active_M_S_Above50K_MultiFamilyOrCondo_RFM20Q2.csv (26009, 3)\n",
      "T_Legacy_Active_M_S_Above50K_SingleFamily_RFM20Q2.csv (466620, 3)\n",
      "T_Legacy_Active_M_S_Below50K_MultiFamilyOrCondo_RFM20Q2.csv (29204, 3)\n",
      "T_OthersAggregated_RFM20Q2.csv (3211, 3)\n",
      "T_Legacy_Active_M_S_Below50K_SingleFamily_RFM20Q2.csv (138809, 3)\n",
      "T_Legacy_Active_M_S_Unknown_Unknown_RFM20Q2.csv (342366, 3)\n",
      "T_Legacy_Lapsed1318_L_P_Above50K_MultiFamilyOrCondo_RFM20Q2.csv (61086, 3)\n",
      "T_Legacy_Lapsed1318_L_P_Above50K_SingleFamily_RFM20Q2.csv (897262, 3)\n",
      "T_Legacy_Lapsed1318_L_P_Below50K_MultiFamilyOrCondo_RFM20Q2.csv (72192, 3)\n",
      "T_Legacy_Lapsed1318_L_P_Below50K_SingleFamily_RFM20Q2.csv (243814, 3)\n",
      "T_Legacy_Lapsed1318_L_P_Unknown_Unknown_RFM20Q2.csv (12057, 3)\n",
      "T_Legacy_Lapsed1318_L_S_Above50K_MultiFamilyOrCondo_RFM20Q2.csv (25679, 3)\n",
      "T_Legacy_Lapsed1318_L_S_Above50K_SingleFamily_RFM20Q2.csv (405498, 3)\n",
      "T_Legacy_Lapsed1318_L_S_Below50K_MultiFamilyOrCondo_RFM20Q2.csv (29042, 3)\n",
      "T_Legacy_Lapsed1318_L_S_Below50K_SingleFamily_RFM20Q2.csv (122031, 3)\n",
      "T_Legacy_Lapsed1318_L_S_Unknown_Unknown_RFM20Q2.csv (5468, 3)\n",
      "T_SOTF_Active_H_P_Above50K_MultiFamilyOrCondo_RFM20Q2.csv (63346, 3)\n",
      "T_SOTF_Active_H_P_Above50K_SingleFamily_RFM20Q2.csv (996353, 3)\n",
      "T_SOTF_Active_H_P_Below50K_MultiFamilyOrCondo_RFM20Q2.csv (73952, 3)\n",
      "T_SOTF_Active_H_P_Below50K_SingleFamily_RFM20Q2.csv (274771, 3)\n",
      "T_SOTF_Active_H_P_Unknown_Unknown_RFM20Q2.csv (453035, 3)\n",
      "T_SOTF_Active_H_S_Above50K_MultiFamilyOrCondo_RFM20Q2.csv (20357, 3)\n",
      "T_SOTF_Active_H_S_Above50K_SingleFamily_RFM20Q2.csv (300528, 3)\n",
      "T_SOTF_Active_H_S_Below50K_MultiFamilyOrCondo_RFM20Q2.csv (20222, 3)\n",
      "T_SOTF_Active_H_S_Below50K_SingleFamily_RFM20Q2.csv (91734, 3)\n",
      "T_SOTF_Active_H_S_Unknown_Unknown_RFM20Q2.csv (179754, 3)\n",
      "T_SOTF_Active_L_P_Above50K_MultiFamilyOrCondo_RFM20Q2.csv (14341, 3)\n",
      "T_SOTF_Active_L_P_Above50K_SingleFamily_RFM20Q2.csv (226190, 3)\n",
      "T_SOTF_Active_L_P_Below50K_MultiFamilyOrCondo_RFM20Q2.csv (16523, 3)\n",
      "T_SOTF_Active_L_P_Below50K_SingleFamily_RFM20Q2.csv (58673, 3)\n",
      "T_SOTF_Active_L_P_Unknown_Unknown_RFM20Q2.csv (258892, 3)\n",
      "T_SOTF_Active_L_S_Above50K_MultiFamilyOrCondo_RFM20Q2.csv (5845, 3)\n",
      "T_SOTF_Active_L_S_Above50K_SingleFamily_RFM20Q2.csv (84390, 3)\n",
      "T_SOTF_Active_L_S_Below50K_MultiFamilyOrCondo_RFM20Q2.csv (5708, 3)\n",
      "T_SOTF_Active_L_S_Below50K_SingleFamily_RFM20Q2.csv (24232, 3)\n",
      "T_SOTF_Active_L_S_Unknown_Unknown_RFM20Q2.csv (115986, 3)\n",
      "T_SOTF_Active_M_P_Above50K_MultiFamilyOrCondo_RFM20Q2.csv (38164, 3)\n",
      "T_SOTF_Active_M_P_Above50K_SingleFamily_RFM20Q2.csv (622109, 3)\n",
      "T_SOTF_Active_M_P_Below50K_MultiFamilyOrCondo_RFM20Q2.csv (43006, 3)\n",
      "T_SOTF_Active_M_P_Below50K_SingleFamily_RFM20Q2.csv (163958, 3)\n",
      "T_SOTF_Active_M_P_Unknown_Unknown_RFM20Q2.csv (431592, 3)\n",
      "T_SOTF_Active_M_S_Above50K_MultiFamilyOrCondo_RFM20Q2.csv (13816, 3)\n",
      "T_SOTF_Active_M_S_Above50K_SingleFamily_RFM20Q2.csv (216519, 3)\n",
      "T_SOTF_Active_M_S_Below50K_MultiFamilyOrCondo_RFM20Q2.csv (13261, 3)\n",
      "T_SOTF_Active_M_S_Below50K_SingleFamily_RFM20Q2.csv (63271, 3)\n",
      "T_SOTF_Active_M_S_Unknown_Unknown_RFM20Q2.csv (193653, 3)\n",
      "T_SOTF_Lapsed1318_L_P_Above50K_MultiFamilyOrCondo_RFM20Q2.csv (29143, 3)\n",
      "T_SOTF_Lapsed1318_L_P_Above50K_SingleFamily_RFM20Q2.csv (455126, 3)\n",
      "T_SOTF_Lapsed1318_L_P_Below50K_MultiFamilyOrCondo_RFM20Q2.csv (35096, 3)\n",
      "T_SOTF_Lapsed1318_L_P_Below50K_SingleFamily_RFM20Q2.csv (121475, 3)\n",
      "T_SOTF_Lapsed1318_L_P_Unknown_Unknown_RFM20Q2.csv (5953, 3)\n",
      "T_SOTF_Lapsed1318_L_S_Above50K_MultiFamilyOrCondo_RFM20Q2.csv (11856, 3)\n",
      "T_SOTF_Lapsed1318_L_S_Above50K_SingleFamily_RFM20Q2.csv (161799, 3)\n",
      "T_SOTF_Lapsed1318_L_S_Below50K_MultiFamilyOrCondo_RFM20Q2.csv (11339, 3)\n",
      "T_SOTF_Lapsed1318_L_S_Below50K_SingleFamily_RFM20Q2.csv (49251, 3)\n",
      "C_all_quarterly_segments_RFM20Q2.csv (599954, 3)\n"
     ]
    }
   ],
   "source": [
    "count_total_uploaded=0\n",
    "for local_file in list_all_files_to_upload:\n",
    "    df=pd.read_csv(local_file)\n",
    "    print(os.path.basename(local_file),df.shape)\n",
    "    count_total_uploaded+=df.shape[0]"
   ]
  },
  {
   "cell_type": "code",
   "execution_count": 12,
   "metadata": {},
   "outputs": [
    {
     "data": {
      "text/plain": [
       "18093251"
      ]
     },
     "execution_count": 12,
     "metadata": {},
     "output_type": "execute_result"
    }
   ],
   "source": [
    "count_total_uploaded"
   ]
  },
  {
   "cell_type": "code",
   "execution_count": 13,
   "metadata": {},
   "outputs": [],
   "source": [
    "import paramiko\n",
    "host = \"files.liveramp.com\"\n",
    "port = 22\n",
    "password = \"Biglots2018!\"\n",
    "username = \"lr-big-lots\"\n",
    "\n",
    "transport = paramiko.Transport((host, port))\n",
    "\n",
    "transport.connect(username = username, password = password)\n",
    "sftp = paramiko.SFTPClient.from_transport(transport)\n"
   ]
  },
  {
   "cell_type": "code",
   "execution_count": 14,
   "metadata": {},
   "outputs": [
    {
     "name": "stdout",
     "output_type": "stream",
     "text": [
      "2020-04-28 12:02:49.746557 /uploads/big_lots_onboarding/T_Legacy_Active_H_P_Above50K_MultiFamilyOrCondo_RFM20Q2.csv\n",
      "2020-04-28 12:04:21.822308 /uploads/big_lots_onboarding/T_Legacy_Active_H_P_Above50K_SingleFamily_RFM20Q2.csv\n",
      "2020-04-28 12:04:29.475574 /uploads/big_lots_onboarding/T_Legacy_Active_H_P_Below50K_MultiFamilyOrCondo_RFM20Q2.csv\n",
      "2020-04-28 12:04:55.258255 /uploads/big_lots_onboarding/T_Legacy_Active_H_P_Below50K_SingleFamily_RFM20Q2.csv\n",
      "2020-04-28 12:05:33.464260 /uploads/big_lots_onboarding/T_Legacy_Active_H_P_Unknown_Unknown_RFM20Q2.csv\n",
      "2020-04-28 12:05:35.374253 /uploads/big_lots_onboarding/T_Legacy_Active_H_S_Above50K_MultiFamilyOrCondo_RFM20Q2.csv\n",
      "2020-04-28 12:05:59.003665 /uploads/big_lots_onboarding/T_Legacy_Active_H_S_Above50K_SingleFamily_RFM20Q2.csv\n",
      "2020-04-28 12:06:00.740959 /uploads/big_lots_onboarding/T_Legacy_Active_H_S_Below50K_MultiFamilyOrCondo_RFM20Q2.csv\n",
      "2020-04-28 12:06:07.095059 /uploads/big_lots_onboarding/T_Legacy_Active_H_S_Below50K_SingleFamily_RFM20Q2.csv\n",
      "2020-04-28 12:06:19.806605 /uploads/big_lots_onboarding/T_Legacy_Active_H_S_Unknown_Unknown_RFM20Q2.csv\n",
      "2020-04-28 12:06:21.614088 /uploads/big_lots_onboarding/T_Legacy_Active_L_P_Above50K_MultiFamilyOrCondo_RFM20Q2.csv\n",
      "2020-04-28 12:06:37.008013 /uploads/big_lots_onboarding/T_Legacy_Active_L_P_Above50K_SingleFamily_RFM20Q2.csv\n",
      "2020-04-28 12:06:38.042653 /uploads/big_lots_onboarding/T_Legacy_Active_L_P_Below50K_MultiFamilyOrCondo_RFM20Q2.csv\n",
      "2020-04-28 12:06:41.362149 /uploads/big_lots_onboarding/T_Legacy_Active_L_P_Below50K_SingleFamily_RFM20Q2.csv\n",
      "2020-04-28 12:06:55.420608 /uploads/big_lots_onboarding/T_Legacy_Active_L_P_Unknown_Unknown_RFM20Q2.csv\n",
      "2020-04-28 12:06:55.948474 /uploads/big_lots_onboarding/T_Legacy_Active_L_S_Above50K_MultiFamilyOrCondo_RFM20Q2.csv\n",
      "2020-04-28 12:07:04.850001 /uploads/big_lots_onboarding/T_Legacy_Active_L_S_Above50K_SingleFamily_RFM20Q2.csv\n",
      "2020-04-28 12:07:05.482192 /uploads/big_lots_onboarding/T_Legacy_Active_L_S_Below50K_MultiFamilyOrCondo_RFM20Q2.csv\n",
      "2020-04-28 12:07:07.687065 /uploads/big_lots_onboarding/T_Legacy_Active_L_S_Below50K_SingleFamily_RFM20Q2.csv\n",
      "2020-04-28 12:07:14.354504 /uploads/big_lots_onboarding/T_Legacy_Active_L_S_Unknown_Unknown_RFM20Q2.csv\n",
      "2020-04-28 12:07:18.685502 /uploads/big_lots_onboarding/T_Legacy_Active_M_P_Above50K_MultiFamilyOrCondo_RFM20Q2.csv\n",
      "2020-04-28 12:08:00.432852 /uploads/big_lots_onboarding/T_Legacy_Active_M_P_Above50K_SingleFamily_RFM20Q2.csv\n",
      "2020-04-28 12:08:03.876454 /uploads/big_lots_onboarding/T_Legacy_Active_M_P_Below50K_MultiFamilyOrCondo_RFM20Q2.csv\n",
      "2020-04-28 12:08:17.336045 /uploads/big_lots_onboarding/T_Legacy_Active_M_P_Below50K_SingleFamily_RFM20Q2.csv\n",
      "2020-04-28 12:08:43.221878 /uploads/big_lots_onboarding/T_Legacy_Active_M_P_Unknown_Unknown_RFM20Q2.csv\n",
      "2020-04-28 12:08:44.472696 /uploads/big_lots_onboarding/T_Legacy_Active_M_S_Above50K_MultiFamilyOrCondo_RFM20Q2.csv\n",
      "2020-04-28 12:09:09.968569 /uploads/big_lots_onboarding/T_Legacy_Active_M_S_Above50K_SingleFamily_RFM20Q2.csv\n",
      "2020-04-28 12:09:11.744755 /uploads/big_lots_onboarding/T_Legacy_Active_M_S_Below50K_MultiFamilyOrCondo_RFM20Q2.csv\n",
      "2020-04-28 12:09:11.991090 /uploads/big_lots_onboarding/T_OthersAggregated_RFM20Q2.csv\n",
      "2020-04-28 12:09:18.711005 /uploads/big_lots_onboarding/T_Legacy_Active_M_S_Below50K_SingleFamily_RFM20Q2.csv\n",
      "2020-04-28 12:09:31.767064 /uploads/big_lots_onboarding/T_Legacy_Active_M_S_Unknown_Unknown_RFM20Q2.csv\n",
      "2020-04-28 12:09:33.920553 /uploads/big_lots_onboarding/T_Legacy_Lapsed1318_L_P_Above50K_MultiFamilyOrCondo_RFM20Q2.csv\n",
      "2020-04-28 12:10:22.650075 /uploads/big_lots_onboarding/T_Legacy_Lapsed1318_L_P_Above50K_SingleFamily_RFM20Q2.csv\n",
      "2020-04-28 12:10:26.698044 /uploads/big_lots_onboarding/T_Legacy_Lapsed1318_L_P_Below50K_MultiFamilyOrCondo_RFM20Q2.csv\n",
      "2020-04-28 12:10:40.490147 /uploads/big_lots_onboarding/T_Legacy_Lapsed1318_L_P_Below50K_SingleFamily_RFM20Q2.csv\n",
      "2020-04-28 12:10:40.938619 /uploads/big_lots_onboarding/T_Legacy_Lapsed1318_L_P_Unknown_Unknown_RFM20Q2.csv\n",
      "2020-04-28 12:10:41.954226 /uploads/big_lots_onboarding/T_Legacy_Lapsed1318_L_S_Above50K_MultiFamilyOrCondo_RFM20Q2.csv\n",
      "2020-04-28 12:11:00.121719 /uploads/big_lots_onboarding/T_Legacy_Lapsed1318_L_S_Above50K_SingleFamily_RFM20Q2.csv\n",
      "2020-04-28 12:11:02.012701 /uploads/big_lots_onboarding/T_Legacy_Lapsed1318_L_S_Below50K_MultiFamilyOrCondo_RFM20Q2.csv\n",
      "2020-04-28 12:11:08.077289 /uploads/big_lots_onboarding/T_Legacy_Lapsed1318_L_S_Below50K_SingleFamily_RFM20Q2.csv\n",
      "2020-04-28 12:11:08.388763 /uploads/big_lots_onboarding/T_Legacy_Lapsed1318_L_S_Unknown_Unknown_RFM20Q2.csv\n",
      "2020-04-28 12:11:10.666663 /uploads/big_lots_onboarding/T_SOTF_Active_H_P_Above50K_MultiFamilyOrCondo_RFM20Q2.csv\n",
      "2020-04-28 12:11:42.255249 /uploads/big_lots_onboarding/T_SOTF_Active_H_P_Above50K_SingleFamily_RFM20Q2.csv\n",
      "2020-04-28 12:11:47.349225 /uploads/big_lots_onboarding/T_SOTF_Active_H_P_Below50K_MultiFamilyOrCondo_RFM20Q2.csv\n",
      "2020-04-28 12:11:58.132145 /uploads/big_lots_onboarding/T_SOTF_Active_H_P_Below50K_SingleFamily_RFM20Q2.csv\n",
      "2020-04-28 12:12:18.522697 /uploads/big_lots_onboarding/T_SOTF_Active_H_P_Unknown_Unknown_RFM20Q2.csv\n",
      "2020-04-28 12:12:19.875372 /uploads/big_lots_onboarding/T_SOTF_Active_H_S_Above50K_MultiFamilyOrCondo_RFM20Q2.csv\n",
      "2020-04-28 12:12:34.631227 /uploads/big_lots_onboarding/T_SOTF_Active_H_S_Above50K_SingleFamily_RFM20Q2.csv\n",
      "2020-04-28 12:12:35.457059 /uploads/big_lots_onboarding/T_SOTF_Active_H_S_Below50K_MultiFamilyOrCondo_RFM20Q2.csv\n",
      "2020-04-28 12:12:39.486003 /uploads/big_lots_onboarding/T_SOTF_Active_H_S_Below50K_SingleFamily_RFM20Q2.csv\n",
      "2020-04-28 12:12:46.913584 /uploads/big_lots_onboarding/T_SOTF_Active_H_S_Unknown_Unknown_RFM20Q2.csv\n",
      "2020-04-28 12:12:47.544751 /uploads/big_lots_onboarding/T_SOTF_Active_L_P_Above50K_MultiFamilyOrCondo_RFM20Q2.csv\n",
      "2020-04-28 12:12:59.638632 /uploads/big_lots_onboarding/T_SOTF_Active_L_P_Above50K_SingleFamily_RFM20Q2.csv\n",
      "2020-04-28 12:13:01.052071 /uploads/big_lots_onboarding/T_SOTF_Active_L_P_Below50K_MultiFamilyOrCondo_RFM20Q2.csv\n",
      "2020-04-28 12:13:04.900213 /uploads/big_lots_onboarding/T_SOTF_Active_L_P_Below50K_SingleFamily_RFM20Q2.csv\n",
      "2020-04-28 12:13:16.963491 /uploads/big_lots_onboarding/T_SOTF_Active_L_P_Unknown_Unknown_RFM20Q2.csv\n",
      "2020-04-28 12:13:17.299371 /uploads/big_lots_onboarding/T_SOTF_Active_L_S_Above50K_MultiFamilyOrCondo_RFM20Q2.csv\n",
      "2020-04-28 12:13:21.576613 /uploads/big_lots_onboarding/T_SOTF_Active_L_S_Above50K_SingleFamily_RFM20Q2.csv\n",
      "2020-04-28 12:13:22.081229 /uploads/big_lots_onboarding/T_SOTF_Active_L_S_Below50K_MultiFamilyOrCondo_RFM20Q2.csv\n",
      "2020-04-28 12:13:23.724700 /uploads/big_lots_onboarding/T_SOTF_Active_L_S_Below50K_SingleFamily_RFM20Q2.csv\n",
      "2020-04-28 12:13:29.440634 /uploads/big_lots_onboarding/T_SOTF_Active_L_S_Unknown_Unknown_RFM20Q2.csv\n",
      "2020-04-28 12:13:31.523314 /uploads/big_lots_onboarding/T_SOTF_Active_M_P_Above50K_MultiFamilyOrCondo_RFM20Q2.csv\n",
      "2020-04-28 12:13:57.952798 /uploads/big_lots_onboarding/T_SOTF_Active_M_P_Above50K_SingleFamily_RFM20Q2.csv\n",
      "2020-04-28 12:14:00.818411 /uploads/big_lots_onboarding/T_SOTF_Active_M_P_Below50K_MultiFamilyOrCondo_RFM20Q2.csv\n",
      "2020-04-28 12:14:10.216269 /uploads/big_lots_onboarding/T_SOTF_Active_M_P_Below50K_SingleFamily_RFM20Q2.csv\n",
      "2020-04-28 12:14:33.422436 /uploads/big_lots_onboarding/T_SOTF_Active_M_P_Unknown_Unknown_RFM20Q2.csv\n",
      "2020-04-28 12:14:34.536751 /uploads/big_lots_onboarding/T_SOTF_Active_M_S_Above50K_MultiFamilyOrCondo_RFM20Q2.csv\n",
      "2020-04-28 12:14:44.342192 /uploads/big_lots_onboarding/T_SOTF_Active_M_S_Above50K_SingleFamily_RFM20Q2.csv\n",
      "2020-04-28 12:14:45.179756 /uploads/big_lots_onboarding/T_SOTF_Active_M_S_Below50K_MultiFamilyOrCondo_RFM20Q2.csv\n",
      "2020-04-28 12:14:48.365453 /uploads/big_lots_onboarding/T_SOTF_Active_M_S_Below50K_SingleFamily_RFM20Q2.csv\n",
      "2020-04-28 12:14:57.326783 /uploads/big_lots_onboarding/T_SOTF_Active_M_S_Unknown_Unknown_RFM20Q2.csv\n",
      "2020-04-28 12:14:59.065825 /uploads/big_lots_onboarding/T_SOTF_Lapsed1318_L_P_Above50K_MultiFamilyOrCondo_RFM20Q2.csv\n",
      "2020-04-28 12:15:21.579345 /uploads/big_lots_onboarding/T_SOTF_Lapsed1318_L_P_Above50K_SingleFamily_RFM20Q2.csv\n",
      "2020-04-28 12:15:23.110696 /uploads/big_lots_onboarding/T_SOTF_Lapsed1318_L_P_Below50K_MultiFamilyOrCondo_RFM20Q2.csv\n"
     ]
    },
    {
     "name": "stdout",
     "output_type": "stream",
     "text": [
      "2020-04-28 12:15:27.176810 /uploads/big_lots_onboarding/T_SOTF_Lapsed1318_L_P_Below50K_SingleFamily_RFM20Q2.csv\n",
      "2020-04-28 12:15:27.623848 /uploads/big_lots_onboarding/T_SOTF_Lapsed1318_L_P_Unknown_Unknown_RFM20Q2.csv\n",
      "2020-04-28 12:15:28.379736 /uploads/big_lots_onboarding/T_SOTF_Lapsed1318_L_S_Above50K_MultiFamilyOrCondo_RFM20Q2.csv\n",
      "2020-04-28 12:15:35.643206 /uploads/big_lots_onboarding/T_SOTF_Lapsed1318_L_S_Above50K_SingleFamily_RFM20Q2.csv\n",
      "2020-04-28 12:15:36.145073 /uploads/big_lots_onboarding/T_SOTF_Lapsed1318_L_S_Below50K_MultiFamilyOrCondo_RFM20Q2.csv\n",
      "2020-04-28 12:15:37.763516 /uploads/big_lots_onboarding/T_SOTF_Lapsed1318_L_S_Below50K_SingleFamily_RFM20Q2.csv\n",
      "2020-04-28 12:16:05.129983 /uploads/big_lots_onboarding/C_all_quarterly_segments_RFM20Q2.csv\n",
      "All_Done: 2020-04-28 12:16:05.131600\n"
     ]
    }
   ],
   "source": [
    "for local_file in list_all_files_to_upload:\n",
    "    base_name=os.path.basename(local_file)\n",
    "    remote_name=\"/uploads/big_lots_onboarding/\"+base_name\n",
    "    sftp.put(local_file,remote_name)\n",
    "    print(datetime.datetime.now(),remote_name)\n",
    "print(\"All_Done: \"+str(datetime.datetime.now()))\n",
    "sftp.close()\n",
    "transport.close()"
   ]
  },
  {
   "cell_type": "code",
   "execution_count": null,
   "metadata": {},
   "outputs": [],
   "source": []
  }
 ],
 "metadata": {
  "kernelspec": {
   "display_name": "Python 3",
   "language": "python",
   "name": "python3"
  },
  "language_info": {
   "codemirror_mode": {
    "name": "ipython",
    "version": 3
   },
   "file_extension": ".py",
   "mimetype": "text/x-python",
   "name": "python",
   "nbconvert_exporter": "python",
   "pygments_lexer": "ipython3",
   "version": "3.6.1"
  }
 },
 "nbformat": 4,
 "nbformat_minor": 2
}
