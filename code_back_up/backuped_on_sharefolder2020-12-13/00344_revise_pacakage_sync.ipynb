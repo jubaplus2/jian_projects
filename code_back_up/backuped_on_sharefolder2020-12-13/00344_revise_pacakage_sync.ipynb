{
 "cells": [
  {
   "cell_type": "code",
   "execution_count": 1,
   "metadata": {},
   "outputs": [],
   "source": [
    "import os, re\n",
    "path = r\"/home/jliang/.local/lib/python3.7/site-packages/facebookads/\"\n",
    "\n",
    "python_files = []\n",
    "\n",
    "for dirpath, dirnames, filenames in os.walk(path):\n",
    "    for filename in filenames:\n",
    "        if filename.endswith(\".py\"):\n",
    "            python_files.append(os.path.join(dirpath, filename))\n",
    "\n",
    "for python_file in python_files:\n",
    "\n",
    "    with open(python_file, \"r\") as f:\n",
    "        text = f.read()\n",
    "        revised_text = re.sub(\"async\", \"async_\", text)\n",
    "\n",
    "    with open(python_file, \"w\") as f:\n",
    "        f.write(revised_text)"
   ]
  },
  {
   "cell_type": "code",
   "execution_count": null,
   "metadata": {},
   "outputs": [],
   "source": []
  }
 ],
 "metadata": {
  "kernelspec": {
   "display_name": "Python 3",
   "language": "python",
   "name": "python3"
  },
  "language_info": {
   "codemirror_mode": {
    "name": "ipython",
    "version": 3
   },
   "file_extension": ".py",
   "mimetype": "text/x-python",
   "name": "python",
   "nbconvert_exporter": "python",
   "pygments_lexer": "ipython3",
   "version": "3.7.6"
  }
 },
 "nbformat": 4,
 "nbformat_minor": 4
}
