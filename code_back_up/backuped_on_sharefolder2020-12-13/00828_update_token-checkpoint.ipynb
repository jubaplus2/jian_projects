{
 "cells": [
  {
   "cell_type": "code",
   "execution_count": 1,
   "metadata": {},
   "outputs": [],
   "source": [
    "import json\n",
    "dict_token={\"latest_FB_token\":\"EAAkEB3l7ONYBABGaxuAMIFJJ4rgaeidKjd32t8MROUgp74E38EAAvAvlTRQL2lh84ZBIE94drnO2dIJPXBzQRy0CsnyZAMpwto8Xg4IUwzXDQJufBnWOGRhVZC8tYbpvSRk07mP2iY98ZCva5DuijhOSqIfVW9GTg568r3iRB87YbD55rUvXRCi0oVQxV30ZD\"}\n",
    "with open('lasest_FB_token_jian.json', 'w') as file:\n",
    "    json.dump(dict_token, file)"
   ]
  },
  {
   "cell_type": "code",
   "execution_count": null,
   "metadata": {},
   "outputs": [],
   "source": []
  }
 ],
 "metadata": {
  "kernelspec": {
   "display_name": "Python 3",
   "language": "python",
   "name": "python3"
  },
  "language_info": {
   "codemirror_mode": {
    "name": "ipython",
    "version": 3
   },
   "file_extension": ".py",
   "mimetype": "text/x-python",
   "name": "python",
   "nbconvert_exporter": "python",
   "pygments_lexer": "ipython3",
   "version": "3.7.6"
  }
 },
 "nbformat": 4,
 "nbformat_minor": 2
}
