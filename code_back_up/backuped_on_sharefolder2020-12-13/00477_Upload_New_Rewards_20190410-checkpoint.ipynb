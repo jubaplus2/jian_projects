{
 "cells": [
  {
   "cell_type": "code",
   "execution_count": 1,
   "metadata": {
    "collapsed": true
   },
   "outputs": [],
   "source": [
    "import pandas as pd\n",
    "import numpy as np\n",
    "import datetime\n",
    "import os\n",
    "# Add the new folders of Jian later"
   ]
  },
  {
   "cell_type": "code",
   "execution_count": 2,
   "metadata": {
    "collapsed": true
   },
   "outputs": [],
   "source": [
    "def recursive_file_gen(my_root_dir):\n",
    "    for root, dirs, files in os.walk(my_root_dir):\n",
    "        for file in files:\n",
    "            yield os.path.join(root, file)\n",
    "            \n",
    "last_saturday=datetime.datetime.now().date()-datetime.timedelta(days=datetime.datetime.now().date().weekday()+2)\n",
    "\n",
    "write_folder=\"/home/jian/celery/Append_to_celery_LiveRamp/monthly_update/output_\"+str(last_saturday)+\"/\"\n",
    "try:\n",
    "    os.stat(write_folder)\n",
    "except:\n",
    "    os.mkdir(write_folder)\n",
    "\n",
    "week_beginning=last_saturday-datetime.timedelta(days=14) # To be changed to 14\n",
    "\n",
    "recent_2_weeks=[last_saturday-datetime.timedelta(days=x*7) for x in range(2)]"
   ]
  },
  {
   "cell_type": "code",
   "execution_count": 3,
   "metadata": {},
   "outputs": [
    {
     "name": "stdout",
     "output_type": "stream",
     "text": [
      "2\n"
     ]
    }
   ],
   "source": [
    "# Checking for the recent weeks that haven't moved to the folder\n",
    "possible_recent_folders=[\"/home/jian/BigLots/MediaStorm_\"+str(x)+\"/\" for x in recent_2_weeks]\n",
    "recent_file_list=[]\n",
    "for dirc in possible_recent_folders:\n",
    "    list_recent=[x for x in list(recursive_file_gen(dirc)) if (\"Master\" in x) & (\".txt\" in x) ]\n",
    "    recent_file_list=recent_file_list+list_recent\n",
    "recent_file_df=pd.DataFrame({\"path\":recent_file_list,\"date\":[datetime.datetime.strptime(x.split(\"MasterWeekly\")[1][:8],\"%Y%m%d\").date()-datetime.timedelta(days=3) for x in recent_file_list]},index=[x for x in range(len(recent_file_list))])\n",
    "\n",
    "\n",
    "list_1_after_201806=[x for x in list(recursive_file_gen(\"/home/jian/BigLots/2019_by_weeks/\")) if (\"Master\" in x) & (\".txt\" in x) ]\n",
    "folder_date=[datetime.datetime.strptime(x.split(\"/\")[len(x.split(\"/\"))-2].split(\"_\")[1],\"%Y-%m-%d\").date() for x in list_1_after_201806]\n",
    "df_1_after_201806=pd.DataFrame({\"date\":folder_date,\"path\":list_1_after_201806},index=[x for x in range(len(list_1_after_201806))])\n",
    "df_1_after_201806['date'].apply(lambda x: x.weekday()).unique()\n",
    "df_1_after_201806=df_1_after_201806.sort_values(\"date\").reset_index()\n",
    "df_1_after_201806=df_1_after_201806[df_1_after_201806['date']>week_beginning]\n",
    "del df_1_after_201806['index']\n",
    "\n",
    "new_2_biweekly_files=df_1_after_201806.append(recent_file_df)\n",
    "\n",
    "print(len(new_2_biweekly_files))\n",
    "new_2_biweekly_files=new_2_biweekly_files['path'].unique().tolist()"
   ]
  },
  {
   "cell_type": "code",
   "execution_count": 4,
   "metadata": {},
   "outputs": [
    {
     "data": {
      "text/plain": [
       "['/home/jian/BigLots/2019_by_weeks/MediaStorm_2019-03-30/MediaStormMasterWeekly20190402-113131-172.txt',\n",
       " '/home/jian/BigLots/2019_by_weeks/MediaStorm_2019-04-06/MediaStormMasterWeekly20190409-124125-588.txt']"
      ]
     },
     "execution_count": 4,
     "metadata": {},
     "output_type": "execute_result"
    }
   ],
   "source": [
    "new_2_biweekly_files"
   ]
  },
  {
   "cell_type": "code",
   "execution_count": 5,
   "metadata": {},
   "outputs": [
    {
     "name": "stdout",
     "output_type": "stream",
     "text": [
      "200698\n",
      "200697\n"
     ]
    }
   ],
   "source": [
    "if len(new_2_biweekly_files)==2: # Changed to weekly\n",
    "    df_all_new_master = pd.DataFrame()\n",
    "    for file in new_2_biweekly_files:\n",
    "        df = pd.read_csv(file,nrows = None,sep= '|',usecols = ['customer_id_hashed','email_address_hash','customer_zip_code'],\n",
    "                         dtype =str)\n",
    "        df_all_new_master = df_all_new_master.append(df,ignore_index = True)\n",
    "    print(len(df_all_new_master.index))\n",
    "    df_all_new_master = df_all_new_master.drop_duplicates('email_address_hash')\n",
    "    print(len(df_all_new_master.index))"
   ]
  },
  {
   "cell_type": "code",
   "execution_count": 6,
   "metadata": {},
   "outputs": [
    {
     "name": "stdout",
     "output_type": "stream",
     "text": [
      "72\n"
     ]
    }
   ],
   "source": [
    "# Remove previous week ids\n",
    "\n",
    "previous_id_files_lists=list(recursive_file_gen(\"/home/jian/Projects/Big_Lots/Live_Ramp/Quarterly_Update_2019Q1/crm_newscore_20190107/by_group_quadrant_24/\"))\n",
    "\n",
    "# previous_id_files_lists=[x for x in previous_id_files_lists if \"Copy of 48 Stores_727.csv\" not in x]\n",
    "previous_id_files_lists=[x for x in previous_id_files_lists if \".csv\" in x]\n",
    "print(len(previous_id_files_lists))"
   ]
  },
  {
   "cell_type": "code",
   "execution_count": null,
   "metadata": {
    "collapsed": true
   },
   "outputs": [],
   "source": [
    "\n"
   ]
  },
  {
   "cell_type": "code",
   "execution_count": 7,
   "metadata": {
    "collapsed": true
   },
   "outputs": [],
   "source": [
    "import glob\n",
    "uploaded_new_seg=list(recursive_file_gen(\"/home/jian/celery/Append_to_celery_LiveRamp/monthly_update/\"))\n",
    "uploaded_new_seg=[x for x in uploaded_new_seg if \".csv\" in x]\n",
    "\n",
    "previous_id_files_lists=previous_id_files_lists+uploaded_new_seg"
   ]
  },
  {
   "cell_type": "code",
   "execution_count": 8,
   "metadata": {},
   "outputs": [
    {
     "name": "stdout",
     "output_type": "stream",
     "text": [
      "2019-04-10 13:14:05.599123 200693\n",
      "2019-04-10 13:14:20.687823 200691\n",
      "2019-04-10 13:14:21.693711 200691\n",
      "2019-04-10 13:14:25.619002 200691\n",
      "2019-04-10 13:14:30.300937 200691\n",
      "2019-04-10 13:14:30.486494 200691\n",
      "2019-04-10 13:14:30.744350 200691\n",
      "2019-04-10 13:14:30.836117 200691\n",
      "2019-04-10 13:14:30.923411 200691\n",
      "2019-04-10 13:14:31.017885 200691\n",
      "2019-04-10 13:14:31.385766 200691\n",
      "2019-04-10 13:14:31.871334 200691\n",
      "2019-04-10 13:14:31.998806 200691\n",
      "2019-04-10 13:14:32.070356 200691\n",
      "2019-04-10 13:14:32.148611 200691\n",
      "2019-04-10 13:14:32.220129 200691\n",
      "2019-04-10 13:14:32.635541 200691\n",
      "2019-04-10 13:14:32.986408 200691\n",
      "2019-04-10 13:14:33.145722 200691\n",
      "2019-04-10 13:14:33.391938 200691\n",
      "2019-04-10 13:14:33.499866 200691\n",
      "2019-04-10 13:14:35.599132 200691\n",
      "2019-04-10 13:14:37.141998 200691\n",
      "2019-04-10 13:14:37.267694 200691\n",
      "2019-04-10 13:14:37.390406 200691\n",
      "2019-04-10 13:14:37.475691 200691\n",
      "2019-04-10 13:15:02.711836 200688\n",
      "2019-04-10 13:15:04.702084 200685\n",
      "2019-04-10 13:15:11.536159 200685\n",
      "2019-04-10 13:15:13.164036 200684\n",
      "2019-04-10 13:15:13.619409 200683\n",
      "2019-04-10 13:15:14.539923 200683\n",
      "2019-04-10 13:15:18.619997 200683\n",
      "2019-04-10 13:15:19.132448 200683\n",
      "2019-04-10 13:15:19.633981 200683\n",
      "2019-04-10 13:15:45.061277 200682\n",
      "2019-04-10 13:15:50.573901 200681\n",
      "2019-04-10 13:15:56.013698 200680\n",
      "2019-04-10 13:15:58.947056 200680\n",
      "2019-04-10 13:15:59.222515 200680\n",
      "2019-04-10 13:15:59.713299 200679\n",
      "2019-04-10 13:16:00.250583 200679\n",
      "2019-04-10 13:16:00.423936 200679\n",
      "2019-04-10 13:16:00.702372 200679\n",
      "2019-04-10 13:16:46.715377 200676\n",
      "2019-04-10 13:17:00.193741 200675\n",
      "2019-04-10 13:17:26.956094 200673\n",
      "2019-04-10 13:17:35.973380 200670\n",
      "2019-04-10 13:17:37.310123 200669\n",
      "2019-04-10 13:17:38.705712 200668\n",
      "2019-04-10 13:17:40.077284 200668\n",
      "2019-04-10 13:17:40.340352 200668\n",
      "2019-04-10 13:17:41.101392 200668\n",
      "2019-04-10 13:19:29.712653 200663\n",
      "2019-04-10 13:20:17.094497 200660\n",
      "2019-04-10 13:20:19.683973 200659\n",
      "2019-04-10 13:20:20.040233 200658\n",
      "2019-04-10 13:20:20.185542 200657\n",
      "2019-04-10 13:20:20.309674 200657\n",
      "2019-04-10 13:20:20.368938 200657\n",
      "2019-04-10 13:20:20.460985 200657\n",
      "2019-04-10 13:20:20.538029 200657\n",
      "2019-04-10 13:20:21.574803 200657\n",
      "2019-04-10 13:20:21.678284 200657\n",
      "2019-04-10 13:20:22.043547 200657\n",
      "2019-04-10 13:20:22.243122 200657\n",
      "2019-04-10 13:20:22.345726 200657\n",
      "2019-04-10 13:20:22.405819 200657\n",
      "2019-04-10 13:20:22.547292 200657\n",
      "2019-04-10 13:20:23.583989 200657\n",
      "2019-04-10 13:20:23.667765 200657\n",
      "2019-04-10 13:20:23.755678 200657\n",
      "2019-04-10 13:20:24.665303 200657\n",
      "2019-04-10 13:20:25.933519 200657\n",
      "2019-04-10 13:20:26.190672 200657\n",
      "2019-04-10 13:20:27.480562 200657\n",
      "2019-04-10 13:20:27.692403 200657\n",
      "2019-04-10 13:20:27.909027 200657\n",
      "2019-04-10 13:20:28.651064 200657\n",
      "2019-04-10 13:20:30.005479 200657\n",
      "2019-04-10 13:20:30.196921 200657\n",
      "2019-04-10 13:20:31.020283 200657\n",
      "2019-04-10 13:20:32.352221 200657\n",
      "2019-04-10 13:20:32.494983 200657\n"
     ]
    }
   ],
   "source": [
    "for file_uploaded in previous_id_files_lists:\n",
    "    df = pd.read_csv(file_uploaded,usecols = ['email_address_hash'])\n",
    "    previous_email_set=set(df['email_address_hash'].tolist())\n",
    "    df_all_new_master = df_all_new_master[~df_all_new_master['email_address_hash'].isin(previous_email_set)]\n",
    "    print(datetime.datetime.now(),len(df_all_new_master.index))"
   ]
  },
  {
   "cell_type": "code",
   "execution_count": 9,
   "metadata": {},
   "outputs": [
    {
     "name": "stdout",
     "output_type": "stream",
     "text": [
      "200657\n"
     ]
    }
   ],
   "source": [
    "df_all_new_master = df_all_new_master.drop_duplicates('email_address_hash')\n",
    "df_all_new_master = df_all_new_master.drop_duplicates('customer_id_hashed')\n",
    "print(len(df_all_new_master.index))"
   ]
  },
  {
   "cell_type": "code",
   "execution_count": 10,
   "metadata": {},
   "outputs": [
    {
     "name": "stdout",
     "output_type": "stream",
     "text": [
      "['P' 'S' nan 'T']\n",
      "['P' 'S' 'T']\n",
      "P 144087\n",
      "S 37086\n",
      "T 19484\n"
     ]
    }
   ],
   "source": [
    "zipmap = pd.read_csv('/home/jian/Projects/Big_Lots/New_TA/zips_in_new_ta/zip_with_ta_dma.csv',dtype = 'str')\n",
    "zipmap['zipcodegroup'] = zipmap['revenue_flag']\n",
    "zipmap = zipmap[['zip','zipcodegroup']].drop_duplicates('zip')\n",
    "zipmap.columns = ['customer_zip_code','zipcodegroup']\n",
    "df_all_new_master = pd.merge(df_all_new_master,zipmap,on ='customer_zip_code',how = 'left' )\n",
    "print(df_all_new_master['zipcodegroup'].unique())\n",
    "df_all_new_master['zipcodegroup'].fillna('T',inplace = True)\n",
    "print(df_all_new_master['zipcodegroup'].unique())\n",
    "\n",
    "last_saturday_str=\"_\"+str(last_saturday).split(\"-\")[1]+str(last_saturday).split(\"-\")[2]+str(last_saturday).split(\"-\")[0][2:]+\"_\"\n",
    "\n",
    "for revenue_flag in ['P','S','T']:\n",
    "    df = df_all_new_master[df_all_new_master['zipcodegroup']==revenue_flag]\n",
    "    df = df[['customer_id_hashed','email_address_hash','customer_zip_code']]\n",
    "    df['segment'] = 'NewReward' + last_saturday_str + revenue_flag\n",
    "    print(revenue_flag,len(df.index))\n",
    "    df.to_csv(write_folder+'NewReward_'+str(last_saturday)+'_'+revenue_flag+'.csv',index = False)\n",
    "# To be uploaded to lr-big-lots uploads/big_lots_onboarding"
   ]
  },
  {
   "cell_type": "code",
   "execution_count": 11,
   "metadata": {},
   "outputs": [
    {
     "data": {
      "text/html": [
       "<div>\n",
       "<style>\n",
       "    .dataframe thead tr:only-child th {\n",
       "        text-align: right;\n",
       "    }\n",
       "\n",
       "    .dataframe thead th {\n",
       "        text-align: left;\n",
       "    }\n",
       "\n",
       "    .dataframe tbody tr th {\n",
       "        vertical-align: top;\n",
       "    }\n",
       "</style>\n",
       "<table border=\"1\" class=\"dataframe\">\n",
       "  <thead>\n",
       "    <tr style=\"text-align: right;\">\n",
       "      <th></th>\n",
       "      <th>zipcodegroup</th>\n",
       "      <th>email_address_hash</th>\n",
       "    </tr>\n",
       "  </thead>\n",
       "  <tbody>\n",
       "    <tr>\n",
       "      <th>0</th>\n",
       "      <td>P</td>\n",
       "      <td>144087</td>\n",
       "    </tr>\n",
       "    <tr>\n",
       "      <th>1</th>\n",
       "      <td>S</td>\n",
       "      <td>37086</td>\n",
       "    </tr>\n",
       "    <tr>\n",
       "      <th>2</th>\n",
       "      <td>T</td>\n",
       "      <td>19484</td>\n",
       "    </tr>\n",
       "  </tbody>\n",
       "</table>\n",
       "</div>"
      ],
      "text/plain": [
       "  zipcodegroup  email_address_hash\n",
       "0            P              144087\n",
       "1            S               37086\n",
       "2            T               19484"
      ]
     },
     "execution_count": 11,
     "metadata": {},
     "output_type": "execute_result"
    }
   ],
   "source": [
    "df_all_new_master.groupby(['zipcodegroup'])['email_address_hash'].count().to_frame().reset_index()"
   ]
  },
  {
   "cell_type": "code",
   "execution_count": 16,
   "metadata": {},
   "outputs": [
    {
     "data": {
      "text/html": [
       "<div>\n",
       "<style>\n",
       "    .dataframe thead tr:only-child th {\n",
       "        text-align: right;\n",
       "    }\n",
       "\n",
       "    .dataframe thead th {\n",
       "        text-align: left;\n",
       "    }\n",
       "\n",
       "    .dataframe tbody tr th {\n",
       "        vertical-align: top;\n",
       "    }\n",
       "</style>\n",
       "<table border=\"1\" class=\"dataframe\">\n",
       "  <thead>\n",
       "    <tr style=\"text-align: right;\">\n",
       "      <th></th>\n",
       "      <th>customer_id_hashed</th>\n",
       "      <th>email_address_hash</th>\n",
       "      <th>customer_zip_code</th>\n",
       "      <th>segment</th>\n",
       "    </tr>\n",
       "  </thead>\n",
       "  <tbody>\n",
       "    <tr>\n",
       "      <th>4</th>\n",
       "      <td>4a17e25dbcc72507389af0c389a78d45ccbf7e2b5dbb33...</td>\n",
       "      <td>9b7703d6fc25039b8cacaf3cc3b01b989855efe4905aaa...</td>\n",
       "      <td>NaN</td>\n",
       "      <td>NewReward_040619_T</td>\n",
       "    </tr>\n",
       "    <tr>\n",
       "      <th>8</th>\n",
       "      <td>317149de6e85495955222d139ab52029d5090d82b09d81...</td>\n",
       "      <td>52f73d1ab053c7980cd2d63d8d89f262aab08d9c9d6ff9...</td>\n",
       "      <td>NaN</td>\n",
       "      <td>NewReward_040619_T</td>\n",
       "    </tr>\n",
       "    <tr>\n",
       "      <th>17</th>\n",
       "      <td>ff192e629cf2b92af8779a7a7419e9693f7646f7bad5c4...</td>\n",
       "      <td>f5b4ea40c94a08339f7abd29bb5824562b4da17355fe99...</td>\n",
       "      <td>18414</td>\n",
       "      <td>NewReward_040619_T</td>\n",
       "    </tr>\n",
       "  </tbody>\n",
       "</table>\n",
       "</div>"
      ],
      "text/plain": [
       "                                   customer_id_hashed  \\\n",
       "4   4a17e25dbcc72507389af0c389a78d45ccbf7e2b5dbb33...   \n",
       "8   317149de6e85495955222d139ab52029d5090d82b09d81...   \n",
       "17  ff192e629cf2b92af8779a7a7419e9693f7646f7bad5c4...   \n",
       "\n",
       "                                   email_address_hash customer_zip_code  \\\n",
       "4   9b7703d6fc25039b8cacaf3cc3b01b989855efe4905aaa...               NaN   \n",
       "8   52f73d1ab053c7980cd2d63d8d89f262aab08d9c9d6ff9...               NaN   \n",
       "17  f5b4ea40c94a08339f7abd29bb5824562b4da17355fe99...             18414   \n",
       "\n",
       "               segment  \n",
       "4   NewReward_040619_T  \n",
       "8   NewReward_040619_T  \n",
       "17  NewReward_040619_T  "
      ]
     },
     "execution_count": 16,
     "metadata": {},
     "output_type": "execute_result"
    }
   ],
   "source": [
    "df.head(3)"
   ]
  },
  {
   "cell_type": "code",
   "execution_count": null,
   "metadata": {
    "collapsed": true
   },
   "outputs": [],
   "source": []
  },
  {
   "cell_type": "code",
   "execution_count": 17,
   "metadata": {
    "collapsed": true
   },
   "outputs": [],
   "source": [
    "import paramiko\n",
    "import glob\n",
    "\n",
    "host = \"sftp.liveramp.com\"\n",
    "port = 22\n",
    "password = \"Biglots2018!\"\n",
    "username = \"lr-big-lots\"\n",
    "\n",
    "transport = paramiko.Transport((host, port))\n",
    "\n",
    "transport.connect(username = username, password = password)\n",
    "sftp = paramiko.SFTPClient.from_transport(transport)\n",
    "\n",
    "# local_path defined above before saving the local txt\n",
    "local_list=glob.glob(write_folder+\"*.csv\")\n",
    "local_list=[x for x in local_list if 'NewReward_'+str(last_saturday)+'_' in x]\n",
    "\n",
    "for local_path in local_list:\n",
    "    remote_path=\"/uploads/big_lots_onboarding/\"+os.path.basename(local_path)\n",
    "    sftp.put(local_path,remote_path)\n",
    "sftp.close()\n"
   ]
  },
  {
   "cell_type": "code",
   "execution_count": null,
   "metadata": {
    "collapsed": true
   },
   "outputs": [],
   "source": []
  }
 ],
 "metadata": {
  "kernelspec": {
   "display_name": "Python 3",
   "language": "python",
   "name": "python3"
  },
  "language_info": {
   "codemirror_mode": {
    "name": "ipython",
    "version": 3
   },
   "file_extension": ".py",
   "mimetype": "text/x-python",
   "name": "python",
   "nbconvert_exporter": "python",
   "pygments_lexer": "ipython3",
   "version": "3.6.1"
  }
 },
 "nbformat": 4,
 "nbformat_minor": 2
}
