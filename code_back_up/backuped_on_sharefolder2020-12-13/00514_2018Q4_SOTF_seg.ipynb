{
 "cells": [
  {
   "cell_type": "code",
   "execution_count": 1,
   "metadata": {
    "collapsed": true
   },
   "outputs": [],
   "source": [
    "import datetime\n",
    "import os\n",
    "import pandas as pd\n",
    "\n"
   ]
  },
  {
   "cell_type": "code",
   "execution_count": 4,
   "metadata": {
    "collapsed": true
   },
   "outputs": [],
   "source": [
    "def recrusive_file_gen(root_folder):\n",
    "    for root, dirs, files in os.walk(root_folder):\n",
    "        for file in files:\n",
    "            yield os.path.join(root,file)"
   ]
  },
  {
   "cell_type": "code",
   "execution_count": 5,
   "metadata": {},
   "outputs": [
    {
     "data": {
      "text/plain": [
       "['/home/jian/celery/Append_to_celery_LiveRamp/Previous_Ids_From_Sp/upload_newscore_0922/10.5 SOTF New York_Q4.csv',\n",
       " '/home/jian/celery/Append_to_celery_LiveRamp/Previous_Ids_From_Sp/upload_newscore_0922/10.5 SOTF Cleveland_Q4.csv',\n",
       " '/home/jian/celery/Append_to_celery_LiveRamp/Previous_Ids_From_Sp/upload_newscore_0922/10.5 SOTF Sacremento_Q4.csv',\n",
       " '/home/jian/celery/Append_to_celery_LiveRamp/Previous_Ids_From_Sp/upload0712_sotf/SOTF_Charleston_SC.csv',\n",
       " '/home/jian/celery/Append_to_celery_LiveRamp/Previous_Ids_From_Sp/upload0712_sotf/SOTF_Denver_CO.csv',\n",
       " '/home/jian/celery/Append_to_celery_LiveRamp/Previous_Ids_From_Sp/upload0712_sotf/SOTF_Myrtle_Beach_SC.csv',\n",
       " '/home/jian/celery/Append_to_celery_LiveRamp/Previous_Ids_From_Sp/upload0712_sotf/SOTF_Long_Island_NY.csv',\n",
       " '/home/jian/celery/Append_to_celery_LiveRamp/Previous_Ids_From_Sp/upload0712_sotf/SOTF_Tampa_FL.csv',\n",
       " '/home/jian/celery/Append_to_celery_LiveRamp/Previous_Ids_From_Sp/upload0712_sotf/SOTF_Charlotte_NC.csv',\n",
       " '/home/jian/celery/Append_to_celery_LiveRamp/Previous_Ids_From_Sp/upload0712_sotf/SOTF_Buffalo_NY.csv',\n",
       " '/home/jian/celery/Append_to_celery_LiveRamp/Previous_Ids_From_Sp/upload1018/1026SOTF_CINCINNATI_OH.csv',\n",
       " '/home/jian/celery/Append_to_celery_LiveRamp/Previous_Ids_From_Sp/upload1018/1026SOTF_SAN_ANTONIO_TX.csv',\n",
       " '/home/jian/celery/Append_to_celery_LiveRamp/Previous_Ids_From_Sp/upload1018/1026SOTF_COLUMBIA_SC.csv']"
      ]
     },
     "execution_count": 5,
     "metadata": {},
     "output_type": "execute_result"
    }
   ],
   "source": [
    "previous_seg_list=list(recrusive_file_gen(\"/home/jian/celery/Append_to_celery_LiveRamp/Previous_Ids_From_Sp\"))\n",
    "previous_seg_list=[x for x in previous_seg_list if \"SOTF\" in x]\n",
    "previous_seg_list\n"
   ]
  },
  {
   "cell_type": "code",
   "execution_count": null,
   "metadata": {
    "collapsed": true
   },
   "outputs": [],
   "source": []
  }
 ],
 "metadata": {
  "kernelspec": {
   "display_name": "Python 3",
   "language": "python",
   "name": "python3"
  },
  "language_info": {
   "codemirror_mode": {
    "name": "ipython",
    "version": 3
   },
   "file_extension": ".py",
   "mimetype": "text/x-python",
   "name": "python",
   "nbconvert_exporter": "python",
   "pygments_lexer": "ipython3",
   "version": "3.6.1"
  }
 },
 "nbformat": 4,
 "nbformat_minor": 2
}
