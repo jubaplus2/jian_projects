{
 "cells": [
  {
   "cell_type": "code",
   "execution_count": 1,
   "metadata": {},
   "outputs": [
    {
     "name": "stdout",
     "output_type": "stream",
     "text": [
      "Lapsed Start on: 2018-04-15\n",
      "Active Start on: 2018-10-14\n",
      "Store Allocation Starting on: 2018-04-15\n",
      "Last Saturday: 2019-10-12\n"
     ]
    },
    {
     "data": {
      "text/plain": [
       "'/home/jian/Projects/Big_Lots/Live_Ramp/Quarterly_Update_2019Q4'"
      ]
     },
     "execution_count": 1,
     "metadata": {},
     "output_type": "execute_result"
    }
   ],
   "source": [
    "# upto 20191012\n",
    "# merge email first\n",
    "# then calculate decile\n",
    "# Remove 18+\n",
    "# 90 segments in total\n",
    "# The allocated store mapping is done throught the other code\n",
    "\n",
    "# Write folder 1 day earlier\n",
    "\n",
    "import pandas as pd\n",
    "import numpy as np\n",
    "import os\n",
    "import datetime\n",
    "import logging\n",
    "import hashlib\n",
    "import gc\n",
    "import glob\n",
    "logging.basicConfig(filename='BL_CRM_LR_Quarterly_upto20191012_2019Q4_'+str(datetime.datetime.now().date())+'.log', level=logging.INFO)\n",
    "logging.info('Started')\n",
    "\n",
    "samplerows=None\n",
    "\n",
    "lastdate_date=datetime.date(2019,10,12) # Recent Saturday\n",
    "active_Sunday=str(lastdate_date-datetime.timedelta(days=52*7-1))\n",
    "\n",
    "lapsed_Sunday=str(lastdate_date-datetime.timedelta(days=52*7*1.5-1))\n",
    "Beginning_18_months_ago=str(lastdate_date-datetime.timedelta(days=52*7*1.5-1))\n",
    "\n",
    "lastdate=str(lastdate_date)\n",
    "print(\"Lapsed Start on: \"+lapsed_Sunday) #>=\n",
    "print(\"Active Start on: \"+active_Sunday) #>=\n",
    "print(\"Store Allocation Starting on: \"+Beginning_18_months_ago) #>=\n",
    "print(\"Last Saturday: \"+lastdate) #<=\n",
    "\n",
    "def recursive_file_gen(root_folder):\n",
    "    for root, dirs, files in os.walk(root_folder):\n",
    "        for file in files:\n",
    "            yield os.path.join(root, file)\n",
    "\n",
    "            \n",
    "# Write folder 1 day earlier\n",
    "folder_write='/home/jian/Projects/Big_Lots/Live_Ramp/Quarterly_Update_2019Q4/output_'+str(datetime.datetime.now().date()-datetime.timedelta(days=1))+'/'\n",
    "try:\n",
    "    os.stat(folder_write)\n",
    "except:\n",
    "    os.mkdir(folder_write)\n",
    "    \n",
    "os.getcwd()"
   ]
  },
  {
   "cell_type": "code",
   "execution_count": null,
   "metadata": {
    "collapsed": true
   },
   "outputs": [],
   "source": [
    "# Should run\n",
    "df_transactions_18_months=pd.read_csv(folder_write+\"BL_sales_trans_by_id_date_JL_\"+str(datetime.datetime.now().date()-datetime.timedelta(days=1))+\".csv\")\n",
    "df_transactions_18_months.head(4)\n",
    "\n",
    "\n",
    "\n",
    "\n",
    "df_transactions_18_months_head100=df_transactions_18_months.head(100)\n",
    "\n",
    "for col in df_transactions_18_months_head100.columns.tolist():\n",
    "    print(df_transactions_18_months_head100[col].apply(lambda x: type(x)).unique())"
   ]
  },
  {
   "cell_type": "code",
   "execution_count": 4,
   "metadata": {},
   "outputs": [
    {
     "name": "stdout",
     "output_type": "stream",
     "text": [
      "(104765937, 4)\n"
     ]
    },
    {
     "data": {
      "text/html": [
       "<div>\n",
       "<style>\n",
       "    .dataframe thead tr:only-child th {\n",
       "        text-align: right;\n",
       "    }\n",
       "\n",
       "    .dataframe thead th {\n",
       "        text-align: left;\n",
       "    }\n",
       "\n",
       "    .dataframe tbody tr th {\n",
       "        vertical-align: top;\n",
       "    }\n",
       "</style>\n",
       "<table border=\"1\" class=\"dataframe\">\n",
       "  <thead>\n",
       "    <tr style=\"text-align: right;\">\n",
       "      <th></th>\n",
       "      <th>customer_id_hashed</th>\n",
       "      <th>transaction_date</th>\n",
       "      <th>sales</th>\n",
       "      <th>trans</th>\n",
       "    </tr>\n",
       "  </thead>\n",
       "  <tbody>\n",
       "    <tr>\n",
       "      <th>0</th>\n",
       "      <td>0000358fbc9f7162c1acbfc88f1211ebec1245400631f1...</td>\n",
       "      <td>2018-04-20</td>\n",
       "      <td>44.40</td>\n",
       "      <td>2</td>\n",
       "    </tr>\n",
       "    <tr>\n",
       "      <th>1</th>\n",
       "      <td>00004eb78a416ee5bf936f1fdb9d8504ea4694dae3aa95...</td>\n",
       "      <td>2018-04-16</td>\n",
       "      <td>3.00</td>\n",
       "      <td>1</td>\n",
       "    </tr>\n",
       "    <tr>\n",
       "      <th>2</th>\n",
       "      <td>00008158f7447208eeb00ca7bca86cccfa30dcbf90f2bc...</td>\n",
       "      <td>2018-04-16</td>\n",
       "      <td>39.50</td>\n",
       "      <td>1</td>\n",
       "    </tr>\n",
       "    <tr>\n",
       "      <th>3</th>\n",
       "      <td>00008a4e31d163efb872b8016ae17bde1df21b95ded478...</td>\n",
       "      <td>2018-04-17</td>\n",
       "      <td>5.00</td>\n",
       "      <td>1</td>\n",
       "    </tr>\n",
       "    <tr>\n",
       "      <th>4</th>\n",
       "      <td>00008e4bdadfb23fafd0805ad6f255dc4d9faf4e6c1129...</td>\n",
       "      <td>2018-04-17</td>\n",
       "      <td>44.14</td>\n",
       "      <td>1</td>\n",
       "    </tr>\n",
       "  </tbody>\n",
       "</table>\n",
       "</div>"
      ],
      "text/plain": [
       "                                  customer_id_hashed transaction_date  sales  \\\n",
       "0  0000358fbc9f7162c1acbfc88f1211ebec1245400631f1...       2018-04-20  44.40   \n",
       "1  00004eb78a416ee5bf936f1fdb9d8504ea4694dae3aa95...       2018-04-16   3.00   \n",
       "2  00008158f7447208eeb00ca7bca86cccfa30dcbf90f2bc...       2018-04-16  39.50   \n",
       "3  00008a4e31d163efb872b8016ae17bde1df21b95ded478...       2018-04-17   5.00   \n",
       "4  00008e4bdadfb23fafd0805ad6f255dc4d9faf4e6c1129...       2018-04-17  44.14   \n",
       "\n",
       "   trans  \n",
       "0      2  \n",
       "1      1  \n",
       "2      1  \n",
       "3      1  \n",
       "4      1  "
      ]
     },
     "execution_count": 4,
     "metadata": {},
     "output_type": "execute_result"
    }
   ],
   "source": [
    "print(df_transactions_18_months.shape)\n",
    "df_transactions_18_months=df_transactions_18_months.rename(columns={\"transaction_dt\":\"transaction_date\"})\n",
    "df_transactions_18_months.head(5)"
   ]
  },
  {
   "cell_type": "code",
   "execution_count": 5,
   "metadata": {},
   "outputs": [
    {
     "name": "stdout",
     "output_type": "stream",
     "text": [
      "2018-04-15\n",
      "2019-10-12\n"
     ]
    }
   ],
   "source": [
    "###get recency\n",
    "dfrecency=df_transactions_18_months[['customer_id_hashed','transaction_date']].sort_values(\"transaction_date\",ascending=False).drop_duplicates()#Allready combined\n",
    "\n",
    "print (min(dfrecency['transaction_date']))\n",
    "print (max(dfrecency['transaction_date']))\n",
    "dfrecency=dfrecency.drop_duplicates('customer_id_hashed')\n",
    "dfrecency.to_csv(folder_write + 'dfrecency_id_with_last_transaction_date.csv',index=False)"
   ]
  },
  {
   "cell_type": "code",
   "execution_count": 6,
   "metadata": {},
   "outputs": [
    {
     "data": {
      "text/plain": [
       "(21652333, 3)"
      ]
     },
     "execution_count": 6,
     "metadata": {},
     "output_type": "execute_result"
    }
   ],
   "source": [
    "dfrecency['transaction_date']=pd.to_datetime(dfrecency['transaction_date'])\n",
    "dfrecency['recency']= lastdate_date - dfrecency['transaction_date']\n",
    "dfrecency['recency']=dfrecency['recency'].apply(lambda x:x.days)\n",
    "dfrecency['recency']=np.ceil((dfrecency['recency']+1)/30)\n",
    "# recency as the np.floor month\n",
    "\n",
    "dfrecency=dfrecency[['customer_id_hashed','recency','transaction_date']]\n",
    "dfrecency=dfrecency.drop_duplicates('customer_id_hashed')\n",
    "dfrecency=dfrecency.rename(columns={\"transaction_date\":\"last_transaction_date\"})\n",
    "dfrecency.to_csv(folder_write + 'dfrecency_id_with_last_transaction_date_and_days_difference.csv',index=False)\n",
    "\n",
    "dfrecency.shape"
   ]
  },
  {
   "cell_type": "code",
   "execution_count": 7,
   "metadata": {},
   "outputs": [
    {
     "name": "stdout",
     "output_type": "stream",
     "text": [
      "df_transactions_18_months['customer_id_hashed'].nunique(): 21652333\n",
      "dfrecency['customer_id_hashed'].nunique(): 21652333\n",
      "dftotal['customer_id_hashed'].nunique(): 21652333\n",
      "dftotal.shape: (21652333, 3)\n",
      "dftotal.shape: (21652333, 5)\n"
     ]
    }
   ],
   "source": [
    "print(\"df_transactions_18_months['customer_id_hashed'].nunique(): \"+str(df_transactions_18_months['customer_id_hashed'].nunique()))\n",
    "print(\"dfrecency['customer_id_hashed'].nunique(): \"+str(dfrecency['customer_id_hashed'].nunique()))\n",
    "\n",
    "dftotal=df_transactions_18_months.groupby('customer_id_hashed')['sales','trans'].sum().reset_index().rename(columns={\"trans\":\"transactions\"})\n",
    "print(\"dftotal['customer_id_hashed'].nunique(): \"+str(dftotal['customer_id_hashed'].nunique()))\n",
    "print(\"dftotal.shape: \"+str(dftotal.shape))\n",
    "\n",
    "dftotal=pd.merge(dftotal,dfrecency,on='customer_id_hashed',how='outer')\n",
    "print(\"dftotal.shape: \"+str(dftotal.shape))\n"
   ]
  },
  {
   "cell_type": "code",
   "execution_count": 8,
   "metadata": {},
   "outputs": [
    {
     "data": {
      "text/plain": [
       "(21652333, 5)"
      ]
     },
     "execution_count": 8,
     "metadata": {},
     "output_type": "execute_result"
    }
   ],
   "source": [
    "del dfrecency\n",
    "del df_transactions_18_months\n",
    "gc.collect()\n",
    "\n",
    "dftotal.shape"
   ]
  },
  {
   "cell_type": "code",
   "execution_count": 9,
   "metadata": {},
   "outputs": [
    {
     "data": {
      "text/html": [
       "<div>\n",
       "<style>\n",
       "    .dataframe thead tr:only-child th {\n",
       "        text-align: right;\n",
       "    }\n",
       "\n",
       "    .dataframe thead th {\n",
       "        text-align: left;\n",
       "    }\n",
       "\n",
       "    .dataframe tbody tr th {\n",
       "        vertical-align: top;\n",
       "    }\n",
       "</style>\n",
       "<table border=\"1\" class=\"dataframe\">\n",
       "  <thead>\n",
       "    <tr style=\"text-align: right;\">\n",
       "      <th></th>\n",
       "      <th>customer_id_hashed</th>\n",
       "      <th>sales</th>\n",
       "      <th>transactions</th>\n",
       "      <th>recency</th>\n",
       "      <th>last_transaction_date</th>\n",
       "    </tr>\n",
       "  </thead>\n",
       "  <tbody>\n",
       "    <tr>\n",
       "      <th>0</th>\n",
       "      <td>000000ebcf6c6a2f4302291cc9babb0760208fc683b3b5...</td>\n",
       "      <td>3.80</td>\n",
       "      <td>1</td>\n",
       "      <td>2.0</td>\n",
       "      <td>2019-08-29</td>\n",
       "    </tr>\n",
       "    <tr>\n",
       "      <th>1</th>\n",
       "      <td>00000135f48c68690ad3d5fc9ada41bb5cd687452007e8...</td>\n",
       "      <td>211.78</td>\n",
       "      <td>3</td>\n",
       "      <td>12.0</td>\n",
       "      <td>2018-10-30</td>\n",
       "    </tr>\n",
       "  </tbody>\n",
       "</table>\n",
       "</div>"
      ],
      "text/plain": [
       "                                  customer_id_hashed   sales  transactions  \\\n",
       "0  000000ebcf6c6a2f4302291cc9babb0760208fc683b3b5...    3.80             1   \n",
       "1  00000135f48c68690ad3d5fc9ada41bb5cd687452007e8...  211.78             3   \n",
       "\n",
       "   recency last_transaction_date  \n",
       "0      2.0            2019-08-29  \n",
       "1     12.0            2018-10-30  "
      ]
     },
     "execution_count": 9,
     "metadata": {},
     "output_type": "execute_result"
    }
   ],
   "source": [
    "dftotal.head(2)"
   ]
  },
  {
   "cell_type": "code",
   "execution_count": 10,
   "metadata": {
    "collapsed": true
   },
   "outputs": [],
   "source": [
    "# The blow is corrected, due to the ascending & decending for each KPI. The higher the better, or the lower the better\n",
    "dftotal=dftotal.sort_values(['transactions','recency','sales'],ascending=[0,1,0])\n",
    "dftotal.reset_index(drop=True, inplace=True)\n",
    "dftotal.reset_index(inplace=True)\n",
    "dftotal=dftotal.rename(columns={'index':'Transindex'})\n",
    "\n",
    "dftotal=dftotal.sort_values(['sales','recency','transactions'],ascending=[0,1,0])\n",
    "dftotal.reset_index(drop=True, inplace=True)\n",
    "dftotal.reset_index(inplace=True)\n",
    "dftotal=dftotal.rename(columns={'index':'Amtindex'})\n",
    "\n",
    "dftotal=dftotal.sort_values(['recency','transactions','sales'],ascending=[1,0,0])\n",
    "dftotal.reset_index(drop=True, inplace=True)\n",
    "dftotal.reset_index(inplace=True)\n",
    "dftotal=dftotal.rename(columns={'index':'recencyindex'})\n",
    "\n",
    "c_ids=len(dftotal.index)\n",
    "logging.info('total customers from transaction and amt: ')\n",
    "logging.info(c_ids)\n",
    "c_ids=np.ceil(c_ids/5.0)\n",
    "\n",
    "dftotal['Transindex']=np.ceil((dftotal['Transindex']+1)/c_ids)\n",
    "dftotal['Amtindex']=np.ceil((dftotal['Amtindex']+1)/c_ids)\n",
    "dftotal['recencyindex']=np.ceil((dftotal['recencyindex']+1)/c_ids)\n",
    "\n",
    "dftotal['RFM']=dftotal['recencyindex']*100 + dftotal['Transindex']*10 + dftotal['Amtindex']\n"
   ]
  },
  {
   "cell_type": "code",
   "execution_count": 11,
   "metadata": {},
   "outputs": [
    {
     "data": {
      "text/html": [
       "<div>\n",
       "<style>\n",
       "    .dataframe thead tr:only-child th {\n",
       "        text-align: right;\n",
       "    }\n",
       "\n",
       "    .dataframe thead th {\n",
       "        text-align: left;\n",
       "    }\n",
       "\n",
       "    .dataframe tbody tr th {\n",
       "        vertical-align: top;\n",
       "    }\n",
       "</style>\n",
       "<table border=\"1\" class=\"dataframe\">\n",
       "  <thead>\n",
       "    <tr style=\"text-align: right;\">\n",
       "      <th></th>\n",
       "      <th>recencyindex</th>\n",
       "      <th>Amtindex</th>\n",
       "      <th>Transindex</th>\n",
       "      <th>customer_id_hashed</th>\n",
       "      <th>sales</th>\n",
       "      <th>transactions</th>\n",
       "      <th>recency</th>\n",
       "      <th>last_transaction_date</th>\n",
       "      <th>RFM</th>\n",
       "    </tr>\n",
       "  </thead>\n",
       "  <tbody>\n",
       "    <tr>\n",
       "      <th>0</th>\n",
       "      <td>1.0</td>\n",
       "      <td>1.0</td>\n",
       "      <td>1.0</td>\n",
       "      <td>b78dccfd64ce659af7061c5743b6b9305814336bc9ddec...</td>\n",
       "      <td>76267.32</td>\n",
       "      <td>4922</td>\n",
       "      <td>1.0</td>\n",
       "      <td>2019-10-11</td>\n",
       "      <td>111.0</td>\n",
       "    </tr>\n",
       "    <tr>\n",
       "      <th>1</th>\n",
       "      <td>1.0</td>\n",
       "      <td>1.0</td>\n",
       "      <td>1.0</td>\n",
       "      <td>bfd2e98c3c7cccf2f0d432f8d02d951479311150e4a540...</td>\n",
       "      <td>69187.85</td>\n",
       "      <td>4167</td>\n",
       "      <td>1.0</td>\n",
       "      <td>2019-10-12</td>\n",
       "      <td>111.0</td>\n",
       "    </tr>\n",
       "    <tr>\n",
       "      <th>2</th>\n",
       "      <td>1.0</td>\n",
       "      <td>1.0</td>\n",
       "      <td>1.0</td>\n",
       "      <td>ba00b08e0ecda5f850d28c55bcce69191bc8c24a811bb6...</td>\n",
       "      <td>77656.47</td>\n",
       "      <td>3765</td>\n",
       "      <td>1.0</td>\n",
       "      <td>2019-10-12</td>\n",
       "      <td>111.0</td>\n",
       "    </tr>\n",
       "    <tr>\n",
       "      <th>3</th>\n",
       "      <td>1.0</td>\n",
       "      <td>1.0</td>\n",
       "      <td>1.0</td>\n",
       "      <td>af1a67def27b7a4812c299f88c9128d1f1471df969ee7c...</td>\n",
       "      <td>75384.23</td>\n",
       "      <td>3710</td>\n",
       "      <td>1.0</td>\n",
       "      <td>2019-10-12</td>\n",
       "      <td>111.0</td>\n",
       "    </tr>\n",
       "  </tbody>\n",
       "</table>\n",
       "</div>"
      ],
      "text/plain": [
       "   recencyindex  Amtindex  Transindex  \\\n",
       "0           1.0       1.0         1.0   \n",
       "1           1.0       1.0         1.0   \n",
       "2           1.0       1.0         1.0   \n",
       "3           1.0       1.0         1.0   \n",
       "\n",
       "                                  customer_id_hashed     sales  transactions  \\\n",
       "0  b78dccfd64ce659af7061c5743b6b9305814336bc9ddec...  76267.32          4922   \n",
       "1  bfd2e98c3c7cccf2f0d432f8d02d951479311150e4a540...  69187.85          4167   \n",
       "2  ba00b08e0ecda5f850d28c55bcce69191bc8c24a811bb6...  77656.47          3765   \n",
       "3  af1a67def27b7a4812c299f88c9128d1f1471df969ee7c...  75384.23          3710   \n",
       "\n",
       "   recency last_transaction_date    RFM  \n",
       "0      1.0            2019-10-11  111.0  \n",
       "1      1.0            2019-10-12  111.0  \n",
       "2      1.0            2019-10-12  111.0  \n",
       "3      1.0            2019-10-12  111.0  "
      ]
     },
     "execution_count": 11,
     "metadata": {},
     "output_type": "execute_result"
    }
   ],
   "source": [
    "dftotal.head(4)"
   ]
  },
  {
   "cell_type": "code",
   "execution_count": 12,
   "metadata": {
    "collapsed": true
   },
   "outputs": [],
   "source": [
    "dftotal.to_csv(folder_write+\"dftotal_with_index_all_EmailNotMergedYet.csv\",index=False)"
   ]
  },
  {
   "cell_type": "code",
   "execution_count": 35,
   "metadata": {
    "collapsed": true
   },
   "outputs": [],
   "source": [
    "dftotal=pd.read_csv(\"./output_2019-10-20/dftotal_with_index_all_EmailNotMergedYet.csv\")\n"
   ]
  },
  {
   "cell_type": "code",
   "execution_count": 36,
   "metadata": {},
   "outputs": [
    {
     "name": "stdout",
     "output_type": "stream",
     "text": [
      "(21652333, 9)\n"
     ]
    },
    {
     "data": {
      "text/html": [
       "<div>\n",
       "<style>\n",
       "    .dataframe thead tr:only-child th {\n",
       "        text-align: right;\n",
       "    }\n",
       "\n",
       "    .dataframe thead th {\n",
       "        text-align: left;\n",
       "    }\n",
       "\n",
       "    .dataframe tbody tr th {\n",
       "        vertical-align: top;\n",
       "    }\n",
       "</style>\n",
       "<table border=\"1\" class=\"dataframe\">\n",
       "  <thead>\n",
       "    <tr style=\"text-align: right;\">\n",
       "      <th></th>\n",
       "      <th>recencyindex</th>\n",
       "      <th>Amtindex</th>\n",
       "      <th>Transindex</th>\n",
       "      <th>customer_id_hashed</th>\n",
       "      <th>sales</th>\n",
       "      <th>transactions</th>\n",
       "      <th>recency</th>\n",
       "      <th>last_transaction_date</th>\n",
       "      <th>RFM</th>\n",
       "    </tr>\n",
       "  </thead>\n",
       "  <tbody>\n",
       "    <tr>\n",
       "      <th>0</th>\n",
       "      <td>1.0</td>\n",
       "      <td>1.0</td>\n",
       "      <td>1.0</td>\n",
       "      <td>b78dccfd64ce659af7061c5743b6b9305814336bc9ddec...</td>\n",
       "      <td>76267.32</td>\n",
       "      <td>4922</td>\n",
       "      <td>1.0</td>\n",
       "      <td>2019-10-11</td>\n",
       "      <td>111.0</td>\n",
       "    </tr>\n",
       "    <tr>\n",
       "      <th>1</th>\n",
       "      <td>1.0</td>\n",
       "      <td>1.0</td>\n",
       "      <td>1.0</td>\n",
       "      <td>bfd2e98c3c7cccf2f0d432f8d02d951479311150e4a540...</td>\n",
       "      <td>69187.85</td>\n",
       "      <td>4167</td>\n",
       "      <td>1.0</td>\n",
       "      <td>2019-10-12</td>\n",
       "      <td>111.0</td>\n",
       "    </tr>\n",
       "  </tbody>\n",
       "</table>\n",
       "</div>"
      ],
      "text/plain": [
       "   recencyindex  Amtindex  Transindex  \\\n",
       "0           1.0       1.0         1.0   \n",
       "1           1.0       1.0         1.0   \n",
       "\n",
       "                                  customer_id_hashed     sales  transactions  \\\n",
       "0  b78dccfd64ce659af7061c5743b6b9305814336bc9ddec...  76267.32          4922   \n",
       "1  bfd2e98c3c7cccf2f0d432f8d02d951479311150e4a540...  69187.85          4167   \n",
       "\n",
       "   recency last_transaction_date    RFM  \n",
       "0      1.0            2019-10-11  111.0  \n",
       "1      1.0            2019-10-12  111.0  "
      ]
     },
     "execution_count": 36,
     "metadata": {},
     "output_type": "execute_result"
    }
   ],
   "source": [
    "print(dftotal.shape)\n",
    "\n",
    "dftotal.head(2)"
   ]
  },
  {
   "cell_type": "markdown",
   "metadata": {},
   "source": [
    "# Merge in Emails, ZipLabels & Closest Stores"
   ]
  },
  {
   "cell_type": "code",
   "execution_count": 37,
   "metadata": {
    "collapsed": true
   },
   "outputs": [],
   "source": [
    "# Allocated shoppers stores to be added in !!!!!!!!!!!"
   ]
  },
  {
   "cell_type": "code",
   "execution_count": 38,
   "metadata": {},
   "outputs": [
    {
     "name": "stdout",
     "output_type": "stream",
     "text": [
      "dfiddetail.shape (30732606, 5)\n",
      "dfiddetail['customer_id_hashed'].nunique() 30732606\n",
      "dfiddetail['email_address_hash'].nunique() 30725689\n"
     ]
    }
   ],
   "source": [
    "dfiddetail=pd.read_csv('/home/jian/Projects/Big_Lots/Live_Ramp/Quarterly_Update_2019Q4/BL_all_master_id_email_zip_closet_store_ZipLabel_upto_20191012_JL_2019-10-21',\n",
    "                       usecols=['customer_id_hashed','email_address_hash','cleaned_zip_cd','closest_store','zip_type'],dtype=str)\n",
    "print(\"dfiddetail.shape \"+str(dfiddetail.shape))\n",
    "print(\"dfiddetail['customer_id_hashed'].nunique() \"+str(dfiddetail['customer_id_hashed'].nunique()))\n",
    "print(\"dfiddetail['email_address_hash'].nunique() \"+str(dfiddetail['email_address_hash'].nunique()))\n"
   ]
  },
  {
   "cell_type": "code",
   "execution_count": 39,
   "metadata": {},
   "outputs": [
    {
     "data": {
      "text/plain": [
       "7"
      ]
     },
     "execution_count": 39,
     "metadata": {},
     "output_type": "execute_result"
    }
   ],
   "source": [
    "gc.collect()"
   ]
  },
  {
   "cell_type": "code",
   "execution_count": 40,
   "metadata": {},
   "outputs": [
    {
     "name": "stdout",
     "output_type": "stream",
     "text": [
      "dftotal.shape (21652333, 9)\n",
      "dftotal.shape (21652333, 13)\n"
     ]
    }
   ],
   "source": [
    "print(\"dftotal.shape \"+str(dftotal.shape))\n",
    "dftotal=pd.merge(dftotal,dfiddetail,on=\"customer_id_hashed\",how=\"left\")\n",
    "print(\"dftotal.shape \"+str(dftotal.shape))\n"
   ]
  },
  {
   "cell_type": "code",
   "execution_count": 41,
   "metadata": {},
   "outputs": [
    {
     "data": {
      "text/html": [
       "<div>\n",
       "<style>\n",
       "    .dataframe thead tr:only-child th {\n",
       "        text-align: right;\n",
       "    }\n",
       "\n",
       "    .dataframe thead th {\n",
       "        text-align: left;\n",
       "    }\n",
       "\n",
       "    .dataframe tbody tr th {\n",
       "        vertical-align: top;\n",
       "    }\n",
       "</style>\n",
       "<table border=\"1\" class=\"dataframe\">\n",
       "  <thead>\n",
       "    <tr style=\"text-align: right;\">\n",
       "      <th></th>\n",
       "      <th>recencyindex</th>\n",
       "      <th>Amtindex</th>\n",
       "      <th>Transindex</th>\n",
       "      <th>customer_id_hashed</th>\n",
       "      <th>sales</th>\n",
       "      <th>transactions</th>\n",
       "      <th>recency</th>\n",
       "      <th>last_transaction_date</th>\n",
       "      <th>RFM</th>\n",
       "      <th>email_address_hash</th>\n",
       "      <th>cleaned_zip_cd</th>\n",
       "      <th>closest_store</th>\n",
       "      <th>zip_type</th>\n",
       "    </tr>\n",
       "  </thead>\n",
       "  <tbody>\n",
       "    <tr>\n",
       "      <th>0</th>\n",
       "      <td>1.0</td>\n",
       "      <td>1.0</td>\n",
       "      <td>1.0</td>\n",
       "      <td>b78dccfd64ce659af7061c5743b6b9305814336bc9ddec...</td>\n",
       "      <td>76267.32</td>\n",
       "      <td>4922</td>\n",
       "      <td>1.0</td>\n",
       "      <td>2019-10-11</td>\n",
       "      <td>111.0</td>\n",
       "      <td>4836bfc632a2a5987d47fa6bf0637c21c4466a0e99ddee...</td>\n",
       "      <td>28607</td>\n",
       "      <td>1684</td>\n",
       "      <td>trans_P</td>\n",
       "    </tr>\n",
       "    <tr>\n",
       "      <th>1</th>\n",
       "      <td>1.0</td>\n",
       "      <td>1.0</td>\n",
       "      <td>1.0</td>\n",
       "      <td>bfd2e98c3c7cccf2f0d432f8d02d951479311150e4a540...</td>\n",
       "      <td>69187.85</td>\n",
       "      <td>4167</td>\n",
       "      <td>1.0</td>\n",
       "      <td>2019-10-12</td>\n",
       "      <td>111.0</td>\n",
       "      <td>bff5e20f383626e52c464341ad29b3b4e161b8b35de99d...</td>\n",
       "      <td>79938</td>\n",
       "      <td>1926</td>\n",
       "      <td>trans_P</td>\n",
       "    </tr>\n",
       "  </tbody>\n",
       "</table>\n",
       "</div>"
      ],
      "text/plain": [
       "   recencyindex  Amtindex  Transindex  \\\n",
       "0           1.0       1.0         1.0   \n",
       "1           1.0       1.0         1.0   \n",
       "\n",
       "                                  customer_id_hashed     sales  transactions  \\\n",
       "0  b78dccfd64ce659af7061c5743b6b9305814336bc9ddec...  76267.32          4922   \n",
       "1  bfd2e98c3c7cccf2f0d432f8d02d951479311150e4a540...  69187.85          4167   \n",
       "\n",
       "   recency last_transaction_date    RFM  \\\n",
       "0      1.0            2019-10-11  111.0   \n",
       "1      1.0            2019-10-12  111.0   \n",
       "\n",
       "                                  email_address_hash cleaned_zip_cd  \\\n",
       "0  4836bfc632a2a5987d47fa6bf0637c21c4466a0e99ddee...          28607   \n",
       "1  bff5e20f383626e52c464341ad29b3b4e161b8b35de99d...          79938   \n",
       "\n",
       "  closest_store zip_type  \n",
       "0          1684  trans_P  \n",
       "1          1926  trans_P  "
      ]
     },
     "execution_count": 41,
     "metadata": {},
     "output_type": "execute_result"
    }
   ],
   "source": [
    "dftotal.head(2)"
   ]
  },
  {
   "cell_type": "code",
   "execution_count": 42,
   "metadata": {},
   "outputs": [
    {
     "name": "stdout",
     "output_type": "stream",
     "text": [
      "(21652333, 13)\n",
      "(19616323, 13)\n"
     ]
    }
   ],
   "source": [
    "# Remove no email ids\n",
    "print(dftotal.shape)\n",
    "dftotal=dftotal[pd.notnull(dftotal['email_address_hash'])]\n",
    "print(dftotal.shape)"
   ]
  },
  {
   "cell_type": "code",
   "execution_count": 44,
   "metadata": {},
   "outputs": [
    {
     "data": {
      "text/html": [
       "<div>\n",
       "<style>\n",
       "    .dataframe thead tr:only-child th {\n",
       "        text-align: right;\n",
       "    }\n",
       "\n",
       "    .dataframe thead th {\n",
       "        text-align: left;\n",
       "    }\n",
       "\n",
       "    .dataframe tbody tr th {\n",
       "        vertical-align: top;\n",
       "    }\n",
       "</style>\n",
       "<table border=\"1\" class=\"dataframe\">\n",
       "  <thead>\n",
       "    <tr style=\"text-align: right;\">\n",
       "      <th></th>\n",
       "      <th>recencyindex</th>\n",
       "      <th>Amtindex</th>\n",
       "      <th>Transindex</th>\n",
       "      <th>customer_id_hashed</th>\n",
       "      <th>sales</th>\n",
       "      <th>transactions</th>\n",
       "      <th>recency</th>\n",
       "      <th>last_transaction_date</th>\n",
       "      <th>RFM</th>\n",
       "      <th>email_address_hash</th>\n",
       "      <th>cleaned_zip_cd</th>\n",
       "      <th>closest_store</th>\n",
       "      <th>zip_type</th>\n",
       "    </tr>\n",
       "  </thead>\n",
       "  <tbody>\n",
       "    <tr>\n",
       "      <th>0</th>\n",
       "      <td>1.0</td>\n",
       "      <td>1.0</td>\n",
       "      <td>1.0</td>\n",
       "      <td>b78dccfd64ce659af7061c5743b6b9305814336bc9ddec...</td>\n",
       "      <td>76267.32</td>\n",
       "      <td>4922</td>\n",
       "      <td>1.0</td>\n",
       "      <td>2019-10-11</td>\n",
       "      <td>111.0</td>\n",
       "      <td>4836bfc632a2a5987d47fa6bf0637c21c4466a0e99ddee...</td>\n",
       "      <td>28607</td>\n",
       "      <td>1684</td>\n",
       "      <td>trans_P</td>\n",
       "    </tr>\n",
       "    <tr>\n",
       "      <th>1</th>\n",
       "      <td>1.0</td>\n",
       "      <td>1.0</td>\n",
       "      <td>1.0</td>\n",
       "      <td>bfd2e98c3c7cccf2f0d432f8d02d951479311150e4a540...</td>\n",
       "      <td>69187.85</td>\n",
       "      <td>4167</td>\n",
       "      <td>1.0</td>\n",
       "      <td>2019-10-12</td>\n",
       "      <td>111.0</td>\n",
       "      <td>bff5e20f383626e52c464341ad29b3b4e161b8b35de99d...</td>\n",
       "      <td>79938</td>\n",
       "      <td>1926</td>\n",
       "      <td>trans_P</td>\n",
       "    </tr>\n",
       "  </tbody>\n",
       "</table>\n",
       "</div>"
      ],
      "text/plain": [
       "   recencyindex  Amtindex  Transindex  \\\n",
       "0           1.0       1.0         1.0   \n",
       "1           1.0       1.0         1.0   \n",
       "\n",
       "                                  customer_id_hashed     sales  transactions  \\\n",
       "0  b78dccfd64ce659af7061c5743b6b9305814336bc9ddec...  76267.32          4922   \n",
       "1  bfd2e98c3c7cccf2f0d432f8d02d951479311150e4a540...  69187.85          4167   \n",
       "\n",
       "   recency last_transaction_date    RFM  \\\n",
       "0      1.0            2019-10-11  111.0   \n",
       "1      1.0            2019-10-12  111.0   \n",
       "\n",
       "                                  email_address_hash cleaned_zip_cd  \\\n",
       "0  4836bfc632a2a5987d47fa6bf0637c21c4466a0e99ddee...          28607   \n",
       "1  bff5e20f383626e52c464341ad29b3b4e161b8b35de99d...          79938   \n",
       "\n",
       "  closest_store zip_type  \n",
       "0          1684  trans_P  \n",
       "1          1926  trans_P  "
      ]
     },
     "execution_count": 44,
     "metadata": {},
     "output_type": "execute_result"
    }
   ],
   "source": [
    "gc.collect()\n",
    "dftotal.head(2)"
   ]
  },
  {
   "cell_type": "code",
   "execution_count": 46,
   "metadata": {},
   "outputs": [
    {
     "name": "stdout",
     "output_type": "stream",
     "text": [
      "['P' 'S' 'T']\n"
     ]
    }
   ],
   "source": [
    "dftotal['cleaned_zip_cd']=dftotal['cleaned_zip_cd'].replace(\"00nan\",\"00000\")\n",
    "dftotal['zip_type']=dftotal['zip_type'].fillna(\"T\")\n",
    "dftotal['zip_type']=dftotal['zip_type'].replace(\"zips_10\",\"S\")\n",
    "dftotal['zip_type']=dftotal['zip_type'].replace(\"trans_P\",\"P\")\n",
    "dftotal['zip_type']=dftotal['zip_type'].replace(\"trans_S\",\"S\")\n",
    "print(dftotal['zip_type'].unique())"
   ]
  },
  {
   "cell_type": "code",
   "execution_count": 47,
   "metadata": {},
   "outputs": [
    {
     "data": {
      "text/html": [
       "<div>\n",
       "<style>\n",
       "    .dataframe thead tr:only-child th {\n",
       "        text-align: right;\n",
       "    }\n",
       "\n",
       "    .dataframe thead th {\n",
       "        text-align: left;\n",
       "    }\n",
       "\n",
       "    .dataframe tbody tr th {\n",
       "        vertical-align: top;\n",
       "    }\n",
       "</style>\n",
       "<table border=\"1\" class=\"dataframe\">\n",
       "  <thead>\n",
       "    <tr style=\"text-align: right;\">\n",
       "      <th></th>\n",
       "      <th>recencyindex</th>\n",
       "      <th>Amtindex</th>\n",
       "      <th>Transindex</th>\n",
       "      <th>customer_id_hashed</th>\n",
       "      <th>sales</th>\n",
       "      <th>transactions</th>\n",
       "      <th>recency</th>\n",
       "      <th>last_transaction_date</th>\n",
       "      <th>RFM</th>\n",
       "      <th>email_address_hash</th>\n",
       "      <th>cleaned_zip_cd</th>\n",
       "      <th>closest_store</th>\n",
       "      <th>zip_type</th>\n",
       "    </tr>\n",
       "  </thead>\n",
       "  <tbody>\n",
       "    <tr>\n",
       "      <th>0</th>\n",
       "      <td>1.0</td>\n",
       "      <td>1.0</td>\n",
       "      <td>1.0</td>\n",
       "      <td>b78dccfd64ce659af7061c5743b6b9305814336bc9ddec...</td>\n",
       "      <td>76267.32</td>\n",
       "      <td>4922</td>\n",
       "      <td>1.0</td>\n",
       "      <td>2019-10-11</td>\n",
       "      <td>111.0</td>\n",
       "      <td>4836bfc632a2a5987d47fa6bf0637c21c4466a0e99ddee...</td>\n",
       "      <td>28607</td>\n",
       "      <td>1684</td>\n",
       "      <td>P</td>\n",
       "    </tr>\n",
       "    <tr>\n",
       "      <th>1</th>\n",
       "      <td>1.0</td>\n",
       "      <td>1.0</td>\n",
       "      <td>1.0</td>\n",
       "      <td>bfd2e98c3c7cccf2f0d432f8d02d951479311150e4a540...</td>\n",
       "      <td>69187.85</td>\n",
       "      <td>4167</td>\n",
       "      <td>1.0</td>\n",
       "      <td>2019-10-12</td>\n",
       "      <td>111.0</td>\n",
       "      <td>bff5e20f383626e52c464341ad29b3b4e161b8b35de99d...</td>\n",
       "      <td>79938</td>\n",
       "      <td>1926</td>\n",
       "      <td>P</td>\n",
       "    </tr>\n",
       "  </tbody>\n",
       "</table>\n",
       "</div>"
      ],
      "text/plain": [
       "   recencyindex  Amtindex  Transindex  \\\n",
       "0           1.0       1.0         1.0   \n",
       "1           1.0       1.0         1.0   \n",
       "\n",
       "                                  customer_id_hashed     sales  transactions  \\\n",
       "0  b78dccfd64ce659af7061c5743b6b9305814336bc9ddec...  76267.32          4922   \n",
       "1  bfd2e98c3c7cccf2f0d432f8d02d951479311150e4a540...  69187.85          4167   \n",
       "\n",
       "   recency last_transaction_date    RFM  \\\n",
       "0      1.0            2019-10-11  111.0   \n",
       "1      1.0            2019-10-12  111.0   \n",
       "\n",
       "                                  email_address_hash cleaned_zip_cd  \\\n",
       "0  4836bfc632a2a5987d47fa6bf0637c21c4466a0e99ddee...          28607   \n",
       "1  bff5e20f383626e52c464341ad29b3b4e161b8b35de99d...          79938   \n",
       "\n",
       "  closest_store zip_type  \n",
       "0          1684        P  \n",
       "1          1926        P  "
      ]
     },
     "execution_count": 47,
     "metadata": {},
     "output_type": "execute_result"
    }
   ],
   "source": [
    "dftotal.head(2)"
   ]
  },
  {
   "cell_type": "code",
   "execution_count": 50,
   "metadata": {},
   "outputs": [
    {
     "name": "stdout",
     "output_type": "stream",
     "text": [
      "(21589087, 2)\n",
      "21589087\n"
     ]
    }
   ],
   "source": [
    "df_shopping_stores=pd.read_csv(\"/home/jian/Projects/Big_Lots/Live_Ramp/Quarterly_Update_2019Q4/output_2019-10-20/BL_allocated_store_by_id_shoppers_18_months_JL_20180415_20191012_JL_2019-10-20 19:46:00.089222.csv\",\n",
    "                              dtype=str,usecols=['customer_id_hashed','location_id'])\n",
    "\n",
    "print(df_shopping_stores.shape)\n",
    "print(df_shopping_stores['customer_id_hashed'].nunique())\n"
   ]
  },
  {
   "cell_type": "code",
   "execution_count": 51,
   "metadata": {},
   "outputs": [
    {
     "name": "stdout",
     "output_type": "stream",
     "text": [
      "(19616323, 13)\n",
      "(19616323, 14)\n"
     ]
    }
   ],
   "source": [
    "print(dftotal.shape)\n",
    "dftotal=pd.merge(dftotal,df_shopping_stores,on=\"customer_id_hashed\",how=\"left\")\n",
    "print(dftotal.shape)\n",
    "dftotal=dftotal.rename(columns={\"location_id\":\"shopper_store\"})"
   ]
  },
  {
   "cell_type": "code",
   "execution_count": 54,
   "metadata": {},
   "outputs": [
    {
     "data": {
      "text/html": [
       "<div>\n",
       "<style>\n",
       "    .dataframe thead tr:only-child th {\n",
       "        text-align: right;\n",
       "    }\n",
       "\n",
       "    .dataframe thead th {\n",
       "        text-align: left;\n",
       "    }\n",
       "\n",
       "    .dataframe tbody tr th {\n",
       "        vertical-align: top;\n",
       "    }\n",
       "</style>\n",
       "<table border=\"1\" class=\"dataframe\">\n",
       "  <thead>\n",
       "    <tr style=\"text-align: right;\">\n",
       "      <th></th>\n",
       "      <th>recencyindex</th>\n",
       "      <th>Amtindex</th>\n",
       "      <th>Transindex</th>\n",
       "      <th>customer_id_hashed</th>\n",
       "      <th>sales</th>\n",
       "      <th>transactions</th>\n",
       "      <th>recency</th>\n",
       "      <th>last_transaction_date</th>\n",
       "      <th>RFM</th>\n",
       "      <th>email_address_hash</th>\n",
       "      <th>cleaned_zip_cd</th>\n",
       "      <th>closest_store</th>\n",
       "      <th>zip_type</th>\n",
       "      <th>shopper_store</th>\n",
       "    </tr>\n",
       "  </thead>\n",
       "  <tbody>\n",
       "    <tr>\n",
       "      <th>0</th>\n",
       "      <td>1.0</td>\n",
       "      <td>1.0</td>\n",
       "      <td>1.0</td>\n",
       "      <td>b78dccfd64ce659af7061c5743b6b9305814336bc9ddec...</td>\n",
       "      <td>76267.32</td>\n",
       "      <td>4922</td>\n",
       "      <td>1.0</td>\n",
       "      <td>2019-10-11</td>\n",
       "      <td>111.0</td>\n",
       "      <td>4836bfc632a2a5987d47fa6bf0637c21c4466a0e99ddee...</td>\n",
       "      <td>28607</td>\n",
       "      <td>1684</td>\n",
       "      <td>P</td>\n",
       "      <td>1684</td>\n",
       "    </tr>\n",
       "    <tr>\n",
       "      <th>1</th>\n",
       "      <td>1.0</td>\n",
       "      <td>1.0</td>\n",
       "      <td>1.0</td>\n",
       "      <td>bfd2e98c3c7cccf2f0d432f8d02d951479311150e4a540...</td>\n",
       "      <td>69187.85</td>\n",
       "      <td>4167</td>\n",
       "      <td>1.0</td>\n",
       "      <td>2019-10-12</td>\n",
       "      <td>111.0</td>\n",
       "      <td>bff5e20f383626e52c464341ad29b3b4e161b8b35de99d...</td>\n",
       "      <td>79938</td>\n",
       "      <td>1926</td>\n",
       "      <td>P</td>\n",
       "      <td>1926</td>\n",
       "    </tr>\n",
       "  </tbody>\n",
       "</table>\n",
       "</div>"
      ],
      "text/plain": [
       "   recencyindex  Amtindex  Transindex  \\\n",
       "0           1.0       1.0         1.0   \n",
       "1           1.0       1.0         1.0   \n",
       "\n",
       "                                  customer_id_hashed     sales  transactions  \\\n",
       "0  b78dccfd64ce659af7061c5743b6b9305814336bc9ddec...  76267.32          4922   \n",
       "1  bfd2e98c3c7cccf2f0d432f8d02d951479311150e4a540...  69187.85          4167   \n",
       "\n",
       "   recency last_transaction_date    RFM  \\\n",
       "0      1.0            2019-10-11  111.0   \n",
       "1      1.0            2019-10-12  111.0   \n",
       "\n",
       "                                  email_address_hash cleaned_zip_cd  \\\n",
       "0  4836bfc632a2a5987d47fa6bf0637c21c4466a0e99ddee...          28607   \n",
       "1  bff5e20f383626e52c464341ad29b3b4e161b8b35de99d...          79938   \n",
       "\n",
       "  closest_store zip_type shopper_store  \n",
       "0          1684        P          1684  \n",
       "1          1926        P          1926  "
      ]
     },
     "execution_count": 54,
     "metadata": {},
     "output_type": "execute_result"
    }
   ],
   "source": [
    "dftotal.head(2)"
   ]
  },
  {
   "cell_type": "code",
   "execution_count": 55,
   "metadata": {},
   "outputs": [
    {
     "data": {
      "text/plain": [
       "(19616323, 15)"
      ]
     },
     "execution_count": 55,
     "metadata": {},
     "output_type": "execute_result"
    }
   ],
   "source": [
    "dftotal['final_store_for_id']=np.where(pd.isnull(dftotal['shopper_store']),dftotal[\"closest_store\"],dftotal['shopper_store'])\n",
    "dftotal.shape"
   ]
  },
  {
   "cell_type": "code",
   "execution_count": 66,
   "metadata": {},
   "outputs": [
    {
     "name": "stdout",
     "output_type": "stream",
     "text": [
      "(0, 15)\n"
     ]
    }
   ],
   "source": [
    "print(dftotal[(pd.isnull(dftotal['final_store_for_id'])) & (dftotal['zip_type']!=\"T\")].shape)"
   ]
  },
  {
   "cell_type": "code",
   "execution_count": 62,
   "metadata": {
    "collapsed": true
   },
   "outputs": [],
   "source": [
    "dftotal.to_csv(folder_write+\"final_details_by_id_JL_\"+str(datetime.datetime.now().date())+\".csv\",index=False)"
   ]
  },
  {
   "cell_type": "code",
   "execution_count": 63,
   "metadata": {},
   "outputs": [
    {
     "data": {
      "text/plain": [
       "1035"
      ]
     },
     "execution_count": 63,
     "metadata": {},
     "output_type": "execute_result"
    }
   ],
   "source": [
    "gc.collect()"
   ]
  },
  {
   "cell_type": "code",
   "execution_count": 65,
   "metadata": {},
   "outputs": [
    {
     "data": {
      "text/html": [
       "<div>\n",
       "<style>\n",
       "    .dataframe thead tr:only-child th {\n",
       "        text-align: right;\n",
       "    }\n",
       "\n",
       "    .dataframe thead th {\n",
       "        text-align: left;\n",
       "    }\n",
       "\n",
       "    .dataframe tbody tr th {\n",
       "        vertical-align: top;\n",
       "    }\n",
       "</style>\n",
       "<table border=\"1\" class=\"dataframe\">\n",
       "  <thead>\n",
       "    <tr style=\"text-align: right;\">\n",
       "      <th></th>\n",
       "      <th>recencyindex</th>\n",
       "      <th>Amtindex</th>\n",
       "      <th>Transindex</th>\n",
       "      <th>customer_id_hashed</th>\n",
       "      <th>sales</th>\n",
       "      <th>transactions</th>\n",
       "      <th>recency</th>\n",
       "      <th>last_transaction_date</th>\n",
       "      <th>RFM</th>\n",
       "      <th>email_address_hash</th>\n",
       "      <th>cleaned_zip_cd</th>\n",
       "      <th>closest_store</th>\n",
       "      <th>zip_type</th>\n",
       "      <th>shopper_store</th>\n",
       "      <th>final_store_for_id</th>\n",
       "    </tr>\n",
       "  </thead>\n",
       "  <tbody>\n",
       "    <tr>\n",
       "      <th>0</th>\n",
       "      <td>1.0</td>\n",
       "      <td>1.0</td>\n",
       "      <td>1.0</td>\n",
       "      <td>b78dccfd64ce659af7061c5743b6b9305814336bc9ddec...</td>\n",
       "      <td>76267.32</td>\n",
       "      <td>4922</td>\n",
       "      <td>1.0</td>\n",
       "      <td>2019-10-11</td>\n",
       "      <td>111.0</td>\n",
       "      <td>4836bfc632a2a5987d47fa6bf0637c21c4466a0e99ddee...</td>\n",
       "      <td>28607</td>\n",
       "      <td>1684</td>\n",
       "      <td>P</td>\n",
       "      <td>1684</td>\n",
       "      <td>1684</td>\n",
       "    </tr>\n",
       "    <tr>\n",
       "      <th>1</th>\n",
       "      <td>1.0</td>\n",
       "      <td>1.0</td>\n",
       "      <td>1.0</td>\n",
       "      <td>bfd2e98c3c7cccf2f0d432f8d02d951479311150e4a540...</td>\n",
       "      <td>69187.85</td>\n",
       "      <td>4167</td>\n",
       "      <td>1.0</td>\n",
       "      <td>2019-10-12</td>\n",
       "      <td>111.0</td>\n",
       "      <td>bff5e20f383626e52c464341ad29b3b4e161b8b35de99d...</td>\n",
       "      <td>79938</td>\n",
       "      <td>1926</td>\n",
       "      <td>P</td>\n",
       "      <td>1926</td>\n",
       "      <td>1926</td>\n",
       "    </tr>\n",
       "  </tbody>\n",
       "</table>\n",
       "</div>"
      ],
      "text/plain": [
       "   recencyindex  Amtindex  Transindex  \\\n",
       "0           1.0       1.0         1.0   \n",
       "1           1.0       1.0         1.0   \n",
       "\n",
       "                                  customer_id_hashed     sales  transactions  \\\n",
       "0  b78dccfd64ce659af7061c5743b6b9305814336bc9ddec...  76267.32          4922   \n",
       "1  bfd2e98c3c7cccf2f0d432f8d02d951479311150e4a540...  69187.85          4167   \n",
       "\n",
       "   recency last_transaction_date    RFM  \\\n",
       "0      1.0            2019-10-11  111.0   \n",
       "1      1.0            2019-10-12  111.0   \n",
       "\n",
       "                                  email_address_hash cleaned_zip_cd  \\\n",
       "0  4836bfc632a2a5987d47fa6bf0637c21c4466a0e99ddee...          28607   \n",
       "1  bff5e20f383626e52c464341ad29b3b4e161b8b35de99d...          79938   \n",
       "\n",
       "  closest_store zip_type shopper_store final_store_for_id  \n",
       "0          1684        P          1684               1684  \n",
       "1          1926        P          1926               1926  "
      ]
     },
     "execution_count": 65,
     "metadata": {},
     "output_type": "execute_result"
    }
   ],
   "source": [
    "dftotal.head(2)"
   ]
  },
  {
   "cell_type": "markdown",
   "metadata": {},
   "source": [
    "# Add SOTF & Density"
   ]
  },
  {
   "cell_type": "code",
   "execution_count": 2,
   "metadata": {
    "collapsed": true
   },
   "outputs": [],
   "source": [
    "dftotal=pd.read_csv(\"./output_2019-10-20/final_details_by_id_JL_2019-10-21.csv\")\n",
    "dftotal['cleaned_zip_cd']=dftotal['cleaned_zip_cd'].astype(str)"
   ]
  },
  {
   "cell_type": "code",
   "execution_count": 3,
   "metadata": {},
   "outputs": [
    {
     "name": "stdout",
     "output_type": "stream",
     "text": [
      "recencyindex [<class 'float'>]\n",
      "Amtindex [<class 'float'>]\n",
      "Transindex [<class 'float'>]\n",
      "customer_id_hashed [<class 'str'>]\n",
      "sales [<class 'float'>]\n",
      "transactions [<class 'int'>]\n",
      "recency [<class 'float'>]\n",
      "last_transaction_date [<class 'str'>]\n",
      "RFM [<class 'float'>]\n",
      "email_address_hash [<class 'str'>]\n",
      "cleaned_zip_cd [<class 'str'>]\n",
      "closest_store [<class 'float'>]\n",
      "zip_type [<class 'str'>]\n",
      "shopper_store [<class 'float'>]\n",
      "final_store_for_id [<class 'float'>]\n"
     ]
    }
   ],
   "source": [
    "test_value_type=dftotal.head(500).append(dftotal.tail(500))\n",
    "for col in test_value_type.columns.tolist():\n",
    "    print(col,test_value_type[col].apply(type).unique())"
   ]
  },
  {
   "cell_type": "code",
   "execution_count": 4,
   "metadata": {},
   "outputs": [
    {
     "data": {
      "text/plain": [
       "(19616323, 15)"
      ]
     },
     "execution_count": 4,
     "metadata": {},
     "output_type": "execute_result"
    }
   ],
   "source": [
    "dftotal.shape"
   ]
  },
  {
   "cell_type": "code",
   "execution_count": 5,
   "metadata": {},
   "outputs": [
    {
     "name": "stdout",
     "output_type": "stream",
     "text": [
      "dftotal['last_transaction_date'].min(): 2018-04-15\n",
      "active_Sunday: 2018-10-14\n",
      "lapsed_Sunday: 2018-04-15\n"
     ]
    },
    {
     "data": {
      "text/plain": [
       "(19616323, 16)"
      ]
     },
     "execution_count": 5,
     "metadata": {},
     "output_type": "execute_result"
    }
   ],
   "source": [
    "print(\"dftotal['last_transaction_date'].min(): \"+str(dftotal['last_transaction_date'].min()))\n",
    "print(\"active_Sunday: \"+active_Sunday)\n",
    "print(\"lapsed_Sunday: \"+lapsed_Sunday)\n",
    "dftotal['Recency_Status']=np.where(dftotal['last_transaction_date']>=active_Sunday,\"Active (0-12)\",\"Lapsed (13-18)\")\n",
    "\n",
    "dftotal.shape"
   ]
  },
  {
   "cell_type": "code",
   "execution_count": 6,
   "metadata": {},
   "outputs": [
    {
     "data": {
      "text/plain": [
       "['parameters',\n",
       " 'Closed 12 mo thru July (57)',\n",
       " \"Closing Aug-Oct '19 (12)\",\n",
       " 'SOTF pre 11-15-19 (462)',\n",
       " 'SOTF New,Relo Oct-Nov SOTF (11)',\n",
       " 'all_PS10_zips_BL',\n",
       " '1_raw',\n",
       " '1_1',\n",
       " '2_raw_2018Q4filled',\n",
       " '3_sales%_budget',\n",
       " '4_SOTF',\n",
       " 'Sheet2',\n",
       " '5_Rewards',\n",
       " '6_closed_Quad3',\n",
       " '7_split',\n",
       " 'HML_PS_Zip 12 Mo',\n",
       " 'HML_PS_Zip 18 mo',\n",
       " 'Summary Chart 12 mo',\n",
       " 'Summary Chart 18mo',\n",
       " 'Zips by Density and PS 18mo',\n",
       " 'Stores by Density 18mo',\n",
       " 'Sheet1',\n",
       " '7_split 9mo V2']"
      ]
     },
     "execution_count": 6,
     "metadata": {},
     "output_type": "execute_result"
    }
   ],
   "source": [
    "ExcelFile=pd.ExcelFile(\"/home/jian/Projects/Big_Lots/Live_Ramp/Quarterly_Update_2019Q4/Copy of BL 2019Q4 Budget Allocation Model 20191018_JC_JL_20191020.xlsx\")\n",
    "ExcelFile.sheet_names"
   ]
  },
  {
   "cell_type": "code",
   "execution_count": 7,
   "metadata": {},
   "outputs": [
    {
     "data": {
      "text/plain": [
       "89669"
      ]
     },
     "execution_count": 7,
     "metadata": {},
     "output_type": "execute_result"
    }
   ],
   "source": [
    "# location names changed for the convience\n",
    "df_store_density=ExcelFile.parse(\"Summary Chart 18mo\",usecols=[\"location_id\",\"Tier\"],dtype=str)\n",
    "df_store_density=df_store_density.rename(columns={\"Tier\":\"Density_Tier\",\"location_id\":\"final_store_for_id\"})\n",
    "df_store_density['final_store_for_id']=df_store_density['final_store_for_id'].astype(int)\n",
    "\n",
    "\n",
    "df_SOTF=ExcelFile.parse(\"4_SOTF\",usecols=[\"location_id\",\"copy_SOTF_label\"],dtype=str)\n",
    "df_SOTF=df_SOTF.rename(columns={\"copy_SOTF_label\":\"SOTF\",\"location_id\":\"final_store_for_id\"})\n",
    "df_SOTF['SOTF']=df_SOTF['SOTF'].replace(\"nan\",np.nan)\n",
    "df_SOTF['final_store_for_id']=df_SOTF['final_store_for_id'].astype(int)\n",
    "\n",
    "del ExcelFile\n",
    "gc.collect()"
   ]
  },
  {
   "cell_type": "code",
   "execution_count": 8,
   "metadata": {},
   "outputs": [
    {
     "name": "stdout",
     "output_type": "stream",
     "text": [
      "['P' 'S' 'T']\n",
      "(17333538, 16)\n",
      "(0, 16)\n"
     ]
    }
   ],
   "source": [
    "print(dftotal['zip_type'].unique())\n",
    "dftotal_PS=dftotal[dftotal['zip_type']!=\"T\"]\n",
    "print(dftotal_PS.shape)\n",
    "print(dftotal_PS[pd.isnull(dftotal_PS['final_store_for_id'])].shape)\n",
    "del dftotal_PS\n",
    "gc.collect()\n",
    "# Remove the T after the decile scoring\n",
    "\n",
    "dftotal['final_store_for_id']=dftotal['final_store_for_id'].fillna(0)\n",
    "dftotal['final_store_for_id']=dftotal['final_store_for_id'].astype(int)"
   ]
  },
  {
   "cell_type": "code",
   "execution_count": 9,
   "metadata": {},
   "outputs": [
    {
     "name": "stdout",
     "output_type": "stream",
     "text": [
      "(19616323, 16)\n",
      "(19616323, 18)\n"
     ]
    }
   ],
   "source": [
    "print(dftotal.shape)\n",
    "dftotal=pd.merge(dftotal,df_store_density,on=\"final_store_for_id\",how=\"left\")\n",
    "dftotal=pd.merge(dftotal,df_SOTF,on=\"final_store_for_id\",how=\"left\")\n",
    "print(dftotal.shape)\n"
   ]
  },
  {
   "cell_type": "code",
   "execution_count": 10,
   "metadata": {},
   "outputs": [
    {
     "data": {
      "text/plain": [
       "(0, 18)"
      ]
     },
     "execution_count": 10,
     "metadata": {},
     "output_type": "execute_result"
    }
   ],
   "source": [
    "dftotal[pd.isnull(dftotal['email_address_hash'])].shape"
   ]
  },
  {
   "cell_type": "code",
   "execution_count": 11,
   "metadata": {},
   "outputs": [
    {
     "name": "stdout",
     "output_type": "stream",
     "text": [
      "['M' 'L' 'H' nan]\n",
      "[nan 'SOTF']\n",
      "(757408, 18)\n"
     ]
    }
   ],
   "source": [
    "print(dftotal['Density_Tier'].unique())\n",
    "print(dftotal['SOTF'].unique())\n",
    "print(dftotal[pd.isnull(dftotal['Density_Tier'])].shape)"
   ]
  },
  {
   "cell_type": "code",
   "execution_count": 12,
   "metadata": {
    "collapsed": true
   },
   "outputs": [],
   "source": [
    "# Revise the final_store_for_id if the stores are not in density defination file\n",
    "# Use the nearest stores instead\n",
    "\n",
    "dftotal['nearest_store']=dftotal['closest_store']\n",
    "dftotal['nearest_store']=dftotal['nearest_store'].fillna(0)\n",
    "dftotal['nearest_store']=dftotal['nearest_store'].astype(int)\n",
    "\n",
    "df_store_density_copy=df_store_density.copy()\n",
    "df_store_density_copy=df_store_density_copy.rename(columns={\"final_store_for_id\":\"nearest_store\",\"Density_Tier\":\"Density_2\"})\n",
    "dftotal=pd.merge(dftotal,df_store_density_copy,on=\"nearest_store\",how=\"left\")\n",
    "\n",
    "dftotal['Density_Tier_Final']=np.where(pd.isnull(dftotal['Density_Tier']),dftotal['Density_2'],dftotal['Density_Tier'])\n",
    "\n",
    "del dftotal['Density_Tier']\n",
    "del dftotal['Density_2']\n",
    "dftotal=dftotal.rename(columns={\"Density_Tier_Final\":\"Density_Tier\"})"
   ]
  },
  {
   "cell_type": "code",
   "execution_count": 13,
   "metadata": {
    "collapsed": true
   },
   "outputs": [],
   "source": [
    "# Also try to see the nearest store whether a SOTF or not\n",
    "df_SOTF_copy=df_SOTF.copy()\n",
    "df_SOTF_copy=df_SOTF_copy.rename(columns={\"final_store_for_id\":\"nearest_store\",\"SOTF\":\"SOTF_2\"})\n",
    "dftotal=pd.merge(dftotal,df_SOTF_copy,on=\"nearest_store\",how=\"left\")\n",
    "\n",
    "dftotal['SOTF_Final']=np.where(pd.isnull(dftotal['SOTF']),dftotal['SOTF_2'],dftotal['SOTF'])\n",
    "del dftotal['SOTF']\n",
    "del dftotal['SOTF_2']\n",
    "dftotal=dftotal.rename(columns={\"SOTF_Final\":\"SOTF\"})"
   ]
  },
  {
   "cell_type": "code",
   "execution_count": 14,
   "metadata": {},
   "outputs": [
    {
     "name": "stdout",
     "output_type": "stream",
     "text": [
      "['M' 'L' 'H']\n",
      "['Legacy' 'SOTF']\n"
     ]
    }
   ],
   "source": [
    "dftotal['Density_Tier']=dftotal['Density_Tier'].fillna(\"M\")\n",
    "dftotal['SOTF']=dftotal['SOTF'].fillna(\"Legacy\")\n",
    "\n",
    "print(dftotal['Density_Tier'].unique())\n",
    "print(dftotal['SOTF'].unique())"
   ]
  },
  {
   "cell_type": "code",
   "execution_count": 15,
   "metadata": {},
   "outputs": [
    {
     "name": "stdout",
     "output_type": "stream",
     "text": [
      "(19616323, 19)\n"
     ]
    },
    {
     "data": {
      "text/html": [
       "<div>\n",
       "<style>\n",
       "    .dataframe thead tr:only-child th {\n",
       "        text-align: right;\n",
       "    }\n",
       "\n",
       "    .dataframe thead th {\n",
       "        text-align: left;\n",
       "    }\n",
       "\n",
       "    .dataframe tbody tr th {\n",
       "        vertical-align: top;\n",
       "    }\n",
       "</style>\n",
       "<table border=\"1\" class=\"dataframe\">\n",
       "  <thead>\n",
       "    <tr style=\"text-align: right;\">\n",
       "      <th></th>\n",
       "      <th>recencyindex</th>\n",
       "      <th>Amtindex</th>\n",
       "      <th>Transindex</th>\n",
       "      <th>customer_id_hashed</th>\n",
       "      <th>sales</th>\n",
       "      <th>transactions</th>\n",
       "      <th>recency</th>\n",
       "      <th>last_transaction_date</th>\n",
       "      <th>RFM</th>\n",
       "      <th>email_address_hash</th>\n",
       "      <th>cleaned_zip_cd</th>\n",
       "      <th>closest_store</th>\n",
       "      <th>zip_type</th>\n",
       "      <th>shopper_store</th>\n",
       "      <th>final_store_for_id</th>\n",
       "      <th>Recency_Status</th>\n",
       "      <th>nearest_store</th>\n",
       "      <th>Density_Tier</th>\n",
       "      <th>SOTF</th>\n",
       "    </tr>\n",
       "  </thead>\n",
       "  <tbody>\n",
       "    <tr>\n",
       "      <th>0</th>\n",
       "      <td>1.0</td>\n",
       "      <td>1.0</td>\n",
       "      <td>1.0</td>\n",
       "      <td>b78dccfd64ce659af7061c5743b6b9305814336bc9ddec...</td>\n",
       "      <td>76267.32</td>\n",
       "      <td>4922</td>\n",
       "      <td>1.0</td>\n",
       "      <td>2019-10-11</td>\n",
       "      <td>111.0</td>\n",
       "      <td>4836bfc632a2a5987d47fa6bf0637c21c4466a0e99ddee...</td>\n",
       "      <td>28607</td>\n",
       "      <td>1684.0</td>\n",
       "      <td>P</td>\n",
       "      <td>1684.0</td>\n",
       "      <td>1684</td>\n",
       "      <td>Active (0-12)</td>\n",
       "      <td>1684</td>\n",
       "      <td>M</td>\n",
       "      <td>Legacy</td>\n",
       "    </tr>\n",
       "    <tr>\n",
       "      <th>1</th>\n",
       "      <td>1.0</td>\n",
       "      <td>1.0</td>\n",
       "      <td>1.0</td>\n",
       "      <td>bfd2e98c3c7cccf2f0d432f8d02d951479311150e4a540...</td>\n",
       "      <td>69187.85</td>\n",
       "      <td>4167</td>\n",
       "      <td>1.0</td>\n",
       "      <td>2019-10-12</td>\n",
       "      <td>111.0</td>\n",
       "      <td>bff5e20f383626e52c464341ad29b3b4e161b8b35de99d...</td>\n",
       "      <td>79938</td>\n",
       "      <td>1926.0</td>\n",
       "      <td>P</td>\n",
       "      <td>1926.0</td>\n",
       "      <td>1926</td>\n",
       "      <td>Active (0-12)</td>\n",
       "      <td>1926</td>\n",
       "      <td>M</td>\n",
       "      <td>Legacy</td>\n",
       "    </tr>\n",
       "    <tr>\n",
       "      <th>2</th>\n",
       "      <td>1.0</td>\n",
       "      <td>1.0</td>\n",
       "      <td>1.0</td>\n",
       "      <td>ba00b08e0ecda5f850d28c55bcce69191bc8c24a811bb6...</td>\n",
       "      <td>77656.47</td>\n",
       "      <td>3765</td>\n",
       "      <td>1.0</td>\n",
       "      <td>2019-10-12</td>\n",
       "      <td>111.0</td>\n",
       "      <td>ff42f56047a09441444582bb3f23eec007869ea4aec58f...</td>\n",
       "      <td>1702</td>\n",
       "      <td>5194.0</td>\n",
       "      <td>P</td>\n",
       "      <td>5194.0</td>\n",
       "      <td>5194</td>\n",
       "      <td>Active (0-12)</td>\n",
       "      <td>5194</td>\n",
       "      <td>M</td>\n",
       "      <td>Legacy</td>\n",
       "    </tr>\n",
       "    <tr>\n",
       "      <th>3</th>\n",
       "      <td>1.0</td>\n",
       "      <td>1.0</td>\n",
       "      <td>1.0</td>\n",
       "      <td>af1a67def27b7a4812c299f88c9128d1f1471df969ee7c...</td>\n",
       "      <td>75384.23</td>\n",
       "      <td>3710</td>\n",
       "      <td>1.0</td>\n",
       "      <td>2019-10-12</td>\n",
       "      <td>111.0</td>\n",
       "      <td>d48d9bde483e3a6524f75f41209df8b6848c1cd6714aff...</td>\n",
       "      <td>47250</td>\n",
       "      <td>255.0</td>\n",
       "      <td>P</td>\n",
       "      <td>255.0</td>\n",
       "      <td>255</td>\n",
       "      <td>Active (0-12)</td>\n",
       "      <td>255</td>\n",
       "      <td>M</td>\n",
       "      <td>Legacy</td>\n",
       "    </tr>\n",
       "  </tbody>\n",
       "</table>\n",
       "</div>"
      ],
      "text/plain": [
       "   recencyindex  Amtindex  Transindex  \\\n",
       "0           1.0       1.0         1.0   \n",
       "1           1.0       1.0         1.0   \n",
       "2           1.0       1.0         1.0   \n",
       "3           1.0       1.0         1.0   \n",
       "\n",
       "                                  customer_id_hashed     sales  transactions  \\\n",
       "0  b78dccfd64ce659af7061c5743b6b9305814336bc9ddec...  76267.32          4922   \n",
       "1  bfd2e98c3c7cccf2f0d432f8d02d951479311150e4a540...  69187.85          4167   \n",
       "2  ba00b08e0ecda5f850d28c55bcce69191bc8c24a811bb6...  77656.47          3765   \n",
       "3  af1a67def27b7a4812c299f88c9128d1f1471df969ee7c...  75384.23          3710   \n",
       "\n",
       "   recency last_transaction_date    RFM  \\\n",
       "0      1.0            2019-10-11  111.0   \n",
       "1      1.0            2019-10-12  111.0   \n",
       "2      1.0            2019-10-12  111.0   \n",
       "3      1.0            2019-10-12  111.0   \n",
       "\n",
       "                                  email_address_hash cleaned_zip_cd  \\\n",
       "0  4836bfc632a2a5987d47fa6bf0637c21c4466a0e99ddee...          28607   \n",
       "1  bff5e20f383626e52c464341ad29b3b4e161b8b35de99d...          79938   \n",
       "2  ff42f56047a09441444582bb3f23eec007869ea4aec58f...           1702   \n",
       "3  d48d9bde483e3a6524f75f41209df8b6848c1cd6714aff...          47250   \n",
       "\n",
       "   closest_store zip_type  shopper_store  final_store_for_id Recency_Status  \\\n",
       "0         1684.0        P         1684.0                1684  Active (0-12)   \n",
       "1         1926.0        P         1926.0                1926  Active (0-12)   \n",
       "2         5194.0        P         5194.0                5194  Active (0-12)   \n",
       "3          255.0        P          255.0                 255  Active (0-12)   \n",
       "\n",
       "   nearest_store Density_Tier    SOTF  \n",
       "0           1684            M  Legacy  \n",
       "1           1926            M  Legacy  \n",
       "2           5194            M  Legacy  \n",
       "3            255            M  Legacy  "
      ]
     },
     "execution_count": 15,
     "metadata": {},
     "output_type": "execute_result"
    }
   ],
   "source": [
    "print(dftotal.shape)\n",
    "dftotal.head(4)"
   ]
  },
  {
   "cell_type": "code",
   "execution_count": 16,
   "metadata": {
    "collapsed": true
   },
   "outputs": [],
   "source": [
    "dftotal.to_csv(\"/home/jian/Projects/Big_Lots/Live_Ramp/Quarterly_Update_2019Q4/output_2019-10-20/BL_2019Q4Audience_details_18mo_shoppers_with_emails_JL_\"+str(datetime.datetime.now().date())+\".csv\",index=False)\n"
   ]
  },
  {
   "cell_type": "markdown",
   "metadata": {},
   "source": [
    "# Deciles and Scoring"
   ]
  },
  {
   "cell_type": "code",
   "execution_count": 17,
   "metadata": {},
   "outputs": [
    {
     "name": "stdout",
     "output_type": "stream",
     "text": [
      "(19616323, 19)\n",
      "drop_duplicates('email_address_hash') (19614845, 19)\n",
      "Done with the RFM scoring, 2019-10-23 14:04:42.399116\n"
     ]
    }
   ],
   "source": [
    "dftotal['cleaned_zip_cd']=dftotal['cleaned_zip_cd'].astype(str)\n",
    "\n",
    "dftotal = dftotal.sort_values(['RFM','recency','transactions',\n",
    "                               'sales'],ascending = [1,1,0,0])\n",
    "\n",
    "print(dftotal.shape)\n",
    "dftotal=dftotal.drop_duplicates(\"email_address_hash\") ####### Email duplications also dropped\n",
    "print(\"drop_duplicates('email_address_hash')\",dftotal.shape) \n",
    "\n",
    "dftotal.reset_index(drop = True, inplace = True)\n",
    "dftotal.reset_index(inplace = True)\n",
    "\n",
    "dftotal = dftotal.rename(columns = {'index':'frmindex'})\n",
    "c_ids = len(dftotal.index)\n",
    "c_ids = np.ceil(c_ids/10.0)\n",
    "dftotal['frmindex'] = np.ceil((dftotal['frmindex']+1)/c_ids)\n",
    "\n",
    "print(\"Done with the RFM scoring, \"+str(datetime.datetime.now()))\n",
    "\n",
    "dftotal['frmindex']=dftotal['frmindex'].apply(lambda x: \"D\"+str(int(float(x))).zfill(2))\n",
    "dftotal['cleaned_zip_cd']=dftotal['cleaned_zip_cd'].apply(lambda x: x.zfill(5))"
   ]
  },
  {
   "cell_type": "code",
   "execution_count": 18,
   "metadata": {},
   "outputs": [
    {
     "data": {
      "text/plain": [
       "271"
      ]
     },
     "execution_count": 18,
     "metadata": {},
     "output_type": "execute_result"
    }
   ],
   "source": [
    "df_H=pd.DataFrame({\"frmindex\":['D01','D02','D03','D04']})\n",
    "df_H['HML_Group']=\"H\"\n",
    "\n",
    "df_M=pd.DataFrame({\"frmindex\":['D05','D06','D07']})\n",
    "df_M['HML_Group']=\"M\"\n",
    "\n",
    "df_L=pd.DataFrame({\"frmindex\":['D08','D09','D10']})\n",
    "df_L['HML_Group']=\"L\"\n",
    "\n",
    "df_HML=df_H.append(df_M).append(df_L)\n",
    "gc.collect()"
   ]
  },
  {
   "cell_type": "code",
   "execution_count": 19,
   "metadata": {},
   "outputs": [
    {
     "data": {
      "text/plain": [
       "(19614845, 21)"
      ]
     },
     "execution_count": 19,
     "metadata": {},
     "output_type": "execute_result"
    }
   ],
   "source": [
    "dftotal=pd.merge(dftotal,df_HML,on='frmindex',how=\"left\")\n",
    "dftotal.shape"
   ]
  },
  {
   "cell_type": "code",
   "execution_count": 20,
   "metadata": {},
   "outputs": [
    {
     "data": {
      "text/html": [
       "<div>\n",
       "<style>\n",
       "    .dataframe thead tr:only-child th {\n",
       "        text-align: right;\n",
       "    }\n",
       "\n",
       "    .dataframe thead th {\n",
       "        text-align: left;\n",
       "    }\n",
       "\n",
       "    .dataframe tbody tr th {\n",
       "        vertical-align: top;\n",
       "    }\n",
       "</style>\n",
       "<table border=\"1\" class=\"dataframe\">\n",
       "  <thead>\n",
       "    <tr style=\"text-align: right;\">\n",
       "      <th></th>\n",
       "      <th>frmindex</th>\n",
       "      <th>recencyindex</th>\n",
       "      <th>Amtindex</th>\n",
       "      <th>Transindex</th>\n",
       "      <th>customer_id_hashed</th>\n",
       "      <th>sales</th>\n",
       "      <th>transactions</th>\n",
       "      <th>recency</th>\n",
       "      <th>last_transaction_date</th>\n",
       "      <th>RFM</th>\n",
       "      <th>...</th>\n",
       "      <th>cleaned_zip_cd</th>\n",
       "      <th>closest_store</th>\n",
       "      <th>zip_type</th>\n",
       "      <th>shopper_store</th>\n",
       "      <th>final_store_for_id</th>\n",
       "      <th>Recency_Status</th>\n",
       "      <th>nearest_store</th>\n",
       "      <th>Density_Tier</th>\n",
       "      <th>SOTF</th>\n",
       "      <th>HML_Group</th>\n",
       "    </tr>\n",
       "  </thead>\n",
       "  <tbody>\n",
       "    <tr>\n",
       "      <th>0</th>\n",
       "      <td>D01</td>\n",
       "      <td>1.0</td>\n",
       "      <td>1.0</td>\n",
       "      <td>1.0</td>\n",
       "      <td>b78dccfd64ce659af7061c5743b6b9305814336bc9ddec...</td>\n",
       "      <td>76267.32</td>\n",
       "      <td>4922</td>\n",
       "      <td>1.0</td>\n",
       "      <td>2019-10-11</td>\n",
       "      <td>111.0</td>\n",
       "      <td>...</td>\n",
       "      <td>28607</td>\n",
       "      <td>1684.0</td>\n",
       "      <td>P</td>\n",
       "      <td>1684.0</td>\n",
       "      <td>1684</td>\n",
       "      <td>Active (0-12)</td>\n",
       "      <td>1684</td>\n",
       "      <td>M</td>\n",
       "      <td>Legacy</td>\n",
       "      <td>H</td>\n",
       "    </tr>\n",
       "    <tr>\n",
       "      <th>1</th>\n",
       "      <td>D01</td>\n",
       "      <td>1.0</td>\n",
       "      <td>1.0</td>\n",
       "      <td>1.0</td>\n",
       "      <td>bfd2e98c3c7cccf2f0d432f8d02d951479311150e4a540...</td>\n",
       "      <td>69187.85</td>\n",
       "      <td>4167</td>\n",
       "      <td>1.0</td>\n",
       "      <td>2019-10-12</td>\n",
       "      <td>111.0</td>\n",
       "      <td>...</td>\n",
       "      <td>79938</td>\n",
       "      <td>1926.0</td>\n",
       "      <td>P</td>\n",
       "      <td>1926.0</td>\n",
       "      <td>1926</td>\n",
       "      <td>Active (0-12)</td>\n",
       "      <td>1926</td>\n",
       "      <td>M</td>\n",
       "      <td>Legacy</td>\n",
       "      <td>H</td>\n",
       "    </tr>\n",
       "    <tr>\n",
       "      <th>2</th>\n",
       "      <td>D01</td>\n",
       "      <td>1.0</td>\n",
       "      <td>1.0</td>\n",
       "      <td>1.0</td>\n",
       "      <td>ba00b08e0ecda5f850d28c55bcce69191bc8c24a811bb6...</td>\n",
       "      <td>77656.47</td>\n",
       "      <td>3765</td>\n",
       "      <td>1.0</td>\n",
       "      <td>2019-10-12</td>\n",
       "      <td>111.0</td>\n",
       "      <td>...</td>\n",
       "      <td>01702</td>\n",
       "      <td>5194.0</td>\n",
       "      <td>P</td>\n",
       "      <td>5194.0</td>\n",
       "      <td>5194</td>\n",
       "      <td>Active (0-12)</td>\n",
       "      <td>5194</td>\n",
       "      <td>M</td>\n",
       "      <td>Legacy</td>\n",
       "      <td>H</td>\n",
       "    </tr>\n",
       "    <tr>\n",
       "      <th>3</th>\n",
       "      <td>D01</td>\n",
       "      <td>1.0</td>\n",
       "      <td>1.0</td>\n",
       "      <td>1.0</td>\n",
       "      <td>af1a67def27b7a4812c299f88c9128d1f1471df969ee7c...</td>\n",
       "      <td>75384.23</td>\n",
       "      <td>3710</td>\n",
       "      <td>1.0</td>\n",
       "      <td>2019-10-12</td>\n",
       "      <td>111.0</td>\n",
       "      <td>...</td>\n",
       "      <td>47250</td>\n",
       "      <td>255.0</td>\n",
       "      <td>P</td>\n",
       "      <td>255.0</td>\n",
       "      <td>255</td>\n",
       "      <td>Active (0-12)</td>\n",
       "      <td>255</td>\n",
       "      <td>M</td>\n",
       "      <td>Legacy</td>\n",
       "      <td>H</td>\n",
       "    </tr>\n",
       "  </tbody>\n",
       "</table>\n",
       "<p>4 rows × 21 columns</p>\n",
       "</div>"
      ],
      "text/plain": [
       "  frmindex  recencyindex  Amtindex  Transindex  \\\n",
       "0      D01           1.0       1.0         1.0   \n",
       "1      D01           1.0       1.0         1.0   \n",
       "2      D01           1.0       1.0         1.0   \n",
       "3      D01           1.0       1.0         1.0   \n",
       "\n",
       "                                  customer_id_hashed     sales  transactions  \\\n",
       "0  b78dccfd64ce659af7061c5743b6b9305814336bc9ddec...  76267.32          4922   \n",
       "1  bfd2e98c3c7cccf2f0d432f8d02d951479311150e4a540...  69187.85          4167   \n",
       "2  ba00b08e0ecda5f850d28c55bcce69191bc8c24a811bb6...  77656.47          3765   \n",
       "3  af1a67def27b7a4812c299f88c9128d1f1471df969ee7c...  75384.23          3710   \n",
       "\n",
       "   recency last_transaction_date    RFM    ...    cleaned_zip_cd  \\\n",
       "0      1.0            2019-10-11  111.0    ...             28607   \n",
       "1      1.0            2019-10-12  111.0    ...             79938   \n",
       "2      1.0            2019-10-12  111.0    ...             01702   \n",
       "3      1.0            2019-10-12  111.0    ...             47250   \n",
       "\n",
       "  closest_store  zip_type shopper_store  final_store_for_id  Recency_Status  \\\n",
       "0        1684.0         P        1684.0                1684   Active (0-12)   \n",
       "1        1926.0         P        1926.0                1926   Active (0-12)   \n",
       "2        5194.0         P        5194.0                5194   Active (0-12)   \n",
       "3         255.0         P         255.0                 255   Active (0-12)   \n",
       "\n",
       "  nearest_store  Density_Tier    SOTF HML_Group  \n",
       "0          1684             M  Legacy         H  \n",
       "1          1926             M  Legacy         H  \n",
       "2          5194             M  Legacy         H  \n",
       "3           255             M  Legacy         H  \n",
       "\n",
       "[4 rows x 21 columns]"
      ]
     },
     "execution_count": 20,
     "metadata": {},
     "output_type": "execute_result"
    }
   ],
   "source": [
    "dftotal.head(4)"
   ]
  },
  {
   "cell_type": "markdown",
   "metadata": {},
   "source": [
    "## Experian Holiday Shoppers "
   ]
  },
  {
   "cell_type": "code",
   "execution_count": 21,
   "metadata": {
    "collapsed": true
   },
   "outputs": [],
   "source": [
    "Experian_data=pd.read_table(\"/home/jian/BigLots/Experian/data_20191016/Experian_20191001114500.txt\",\n",
    "                              usecols=[\"CustomerNumber\",\"MultiClusterDesc\"],sep=\"|\",dtype=str)\n",
    "df_experian_mapping=pd.read_table(\"/home/jian/BigLots/Experian/data_20191016/Experian 2019 customer hashed.txt\",\n",
    "                                 dtype=str,sep=\"|\")\n",
    "df_experian_mapping=df_experian_mapping.rename(columns={\"Customer_Num\":\"CustomerNumber\"})"
   ]
  },
  {
   "cell_type": "code",
   "execution_count": 22,
   "metadata": {},
   "outputs": [
    {
     "name": "stdout",
     "output_type": "stream",
     "text": [
      "(17626573, 2)\n",
      "['Home Focused' 'Holiday Shoppers' 'Sporadic Seniors' 'Starters in Need'\n",
      " 'Spending Fanatics' 'Urban Affluence' 'Infrequent Families'\n",
      " 'Rising Hispanics' nan]\n",
      "(1299463, 2)\n",
      "(1299463, 3)\n"
     ]
    }
   ],
   "source": [
    "print(Experian_data.shape)\n",
    "print(Experian_data['MultiClusterDesc'].unique())\n",
    "\n",
    "Experian_data=Experian_data[Experian_data['MultiClusterDesc']==\"Holiday Shoppers\"]\n",
    "print(Experian_data.shape)\n",
    "Experian_data=pd.merge(Experian_data,df_experian_mapping,how=\"left\",on=\"CustomerNumber\")\n",
    "print(Experian_data.shape)"
   ]
  },
  {
   "cell_type": "code",
   "execution_count": 23,
   "metadata": {},
   "outputs": [
    {
     "data": {
      "text/plain": [
       "1299463"
      ]
     },
     "execution_count": 23,
     "metadata": {},
     "output_type": "execute_result"
    }
   ],
   "source": [
    "Experian_data['hashed_customer_num'].nunique()"
   ]
  },
  {
   "cell_type": "code",
   "execution_count": 24,
   "metadata": {},
   "outputs": [
    {
     "data": {
      "text/html": [
       "<div>\n",
       "<style>\n",
       "    .dataframe thead tr:only-child th {\n",
       "        text-align: right;\n",
       "    }\n",
       "\n",
       "    .dataframe thead th {\n",
       "        text-align: left;\n",
       "    }\n",
       "\n",
       "    .dataframe tbody tr th {\n",
       "        vertical-align: top;\n",
       "    }\n",
       "</style>\n",
       "<table border=\"1\" class=\"dataframe\">\n",
       "  <thead>\n",
       "    <tr style=\"text-align: right;\">\n",
       "      <th></th>\n",
       "      <th>frmindex</th>\n",
       "      <th>recencyindex</th>\n",
       "      <th>Amtindex</th>\n",
       "      <th>Transindex</th>\n",
       "      <th>customer_id_hashed</th>\n",
       "      <th>sales</th>\n",
       "      <th>transactions</th>\n",
       "      <th>recency</th>\n",
       "      <th>last_transaction_date</th>\n",
       "      <th>RFM</th>\n",
       "      <th>...</th>\n",
       "      <th>cleaned_zip_cd</th>\n",
       "      <th>closest_store</th>\n",
       "      <th>zip_type</th>\n",
       "      <th>shopper_store</th>\n",
       "      <th>final_store_for_id</th>\n",
       "      <th>Recency_Status</th>\n",
       "      <th>nearest_store</th>\n",
       "      <th>Density_Tier</th>\n",
       "      <th>SOTF</th>\n",
       "      <th>HML_Group</th>\n",
       "    </tr>\n",
       "  </thead>\n",
       "  <tbody>\n",
       "    <tr>\n",
       "      <th>0</th>\n",
       "      <td>D01</td>\n",
       "      <td>1.0</td>\n",
       "      <td>1.0</td>\n",
       "      <td>1.0</td>\n",
       "      <td>b78dccfd64ce659af7061c5743b6b9305814336bc9ddec...</td>\n",
       "      <td>76267.32</td>\n",
       "      <td>4922</td>\n",
       "      <td>1.0</td>\n",
       "      <td>2019-10-11</td>\n",
       "      <td>111.0</td>\n",
       "      <td>...</td>\n",
       "      <td>28607</td>\n",
       "      <td>1684.0</td>\n",
       "      <td>P</td>\n",
       "      <td>1684.0</td>\n",
       "      <td>1684</td>\n",
       "      <td>Active (0-12)</td>\n",
       "      <td>1684</td>\n",
       "      <td>M</td>\n",
       "      <td>Legacy</td>\n",
       "      <td>H</td>\n",
       "    </tr>\n",
       "    <tr>\n",
       "      <th>1</th>\n",
       "      <td>D01</td>\n",
       "      <td>1.0</td>\n",
       "      <td>1.0</td>\n",
       "      <td>1.0</td>\n",
       "      <td>bfd2e98c3c7cccf2f0d432f8d02d951479311150e4a540...</td>\n",
       "      <td>69187.85</td>\n",
       "      <td>4167</td>\n",
       "      <td>1.0</td>\n",
       "      <td>2019-10-12</td>\n",
       "      <td>111.0</td>\n",
       "      <td>...</td>\n",
       "      <td>79938</td>\n",
       "      <td>1926.0</td>\n",
       "      <td>P</td>\n",
       "      <td>1926.0</td>\n",
       "      <td>1926</td>\n",
       "      <td>Active (0-12)</td>\n",
       "      <td>1926</td>\n",
       "      <td>M</td>\n",
       "      <td>Legacy</td>\n",
       "      <td>H</td>\n",
       "    </tr>\n",
       "  </tbody>\n",
       "</table>\n",
       "<p>2 rows × 21 columns</p>\n",
       "</div>"
      ],
      "text/plain": [
       "  frmindex  recencyindex  Amtindex  Transindex  \\\n",
       "0      D01           1.0       1.0         1.0   \n",
       "1      D01           1.0       1.0         1.0   \n",
       "\n",
       "                                  customer_id_hashed     sales  transactions  \\\n",
       "0  b78dccfd64ce659af7061c5743b6b9305814336bc9ddec...  76267.32          4922   \n",
       "1  bfd2e98c3c7cccf2f0d432f8d02d951479311150e4a540...  69187.85          4167   \n",
       "\n",
       "   recency last_transaction_date    RFM    ...    cleaned_zip_cd  \\\n",
       "0      1.0            2019-10-11  111.0    ...             28607   \n",
       "1      1.0            2019-10-12  111.0    ...             79938   \n",
       "\n",
       "  closest_store  zip_type shopper_store  final_store_for_id  Recency_Status  \\\n",
       "0        1684.0         P        1684.0                1684   Active (0-12)   \n",
       "1        1926.0         P        1926.0                1926   Active (0-12)   \n",
       "\n",
       "  nearest_store  Density_Tier    SOTF HML_Group  \n",
       "0          1684             M  Legacy         H  \n",
       "1          1926             M  Legacy         H  \n",
       "\n",
       "[2 rows x 21 columns]"
      ]
     },
     "execution_count": 24,
     "metadata": {},
     "output_type": "execute_result"
    }
   ],
   "source": [
    "dftotal.head(2)"
   ]
  },
  {
   "cell_type": "code",
   "execution_count": 25,
   "metadata": {},
   "outputs": [
    {
     "data": {
      "text/plain": [
       "111"
      ]
     },
     "execution_count": 25,
     "metadata": {},
     "output_type": "execute_result"
    }
   ],
   "source": [
    "dftotal['ExperianCluster']=np.where(dftotal['customer_id_hashed'].isin(Experian_data['hashed_customer_num'].tolist()),\n",
    "                                    \"HolidayShoppers\",\"Others\")\n",
    "del Experian_data\n",
    "del df_experian_mapping\n",
    "gc.collect()"
   ]
  },
  {
   "cell_type": "code",
   "execution_count": 26,
   "metadata": {
    "collapsed": true
   },
   "outputs": [],
   "source": [
    "dftotal['segment_Decile_Active']=dftotal['Recency_Status']+\"_\"+dftotal['frmindex']+\"_Density(\"+dftotal['Density_Tier']+\")_\"+\\\n",
    "                          dftotal['SOTF']+\"_\"+dftotal['ExperianCluster']+\"_\"+dftotal['zip_type']+\"_2019Q4\"\n",
    "dftotal['segment_Decile_Lapsed']=dftotal['Recency_Status']+\"_\"+dftotal['frmindex']+\"_Density(\"+dftotal['Density_Tier']+\")_\"+\\\n",
    "                      dftotal['SOTF']+\"_\"+\"AllExpCluster\"+\"_\"+dftotal['zip_type']+\"_2019Q4\"\n",
    "dftotal['segment_Score_Active']=dftotal['Recency_Status']+\"_Score(\"+dftotal['HML_Group']+\")_Density(\"+dftotal['Density_Tier']+\")_\"+\\\n",
    "                          dftotal['SOTF']+\"_\"+dftotal['ExperianCluster']+\"_\"+dftotal['zip_type']+\"_2019Q4\"\n",
    "dftotal['segment_Score_Lapsed']=dftotal['Recency_Status']+\"_Score(\"+dftotal['HML_Group']+\")_Density(\"+dftotal['Density_Tier']+\")_\"+\\\n",
    "                          dftotal['SOTF']+\"_\"+\"AllExpCluster\"+\"_\"+dftotal['zip_type']+\"_2019Q4\"\n",
    "    \n",
    "dftotal['segment']=np.where(dftotal['Recency_Status']==\"Active (0-12)\",dftotal['segment_Score_Active'],dftotal['segment_Score_Lapsed'])"
   ]
  },
  {
   "cell_type": "code",
   "execution_count": 27,
   "metadata": {
    "collapsed": true
   },
   "outputs": [],
   "source": [
    "dftotal.to_csv(\"/home/jian/Projects/Big_Lots/Live_Ramp/Quarterly_Update_2019Q4/output_2019-10-20/BL_2019Q4_Final_Audience_details_18mo_shoppers_with_emails_seg_JL_\"+str(datetime.datetime.now().date())+\".csv\",index=False)\n",
    "# Copy one file to the quarterly no shopper celery folder \n",
    "# \"/home/jian/celery/Audience_No_Shop/Quarterly_Decile_Detail/df_detail_2019Q4.csv\""
   ]
  },
  {
   "cell_type": "code",
   "execution_count": 28,
   "metadata": {
    "collapsed": true
   },
   "outputs": [],
   "source": [
    "df_summary_0_18_score=dftotal.groupby([\"segment\",\"Recency_Status\",\"HML_Group\",\"Density_Tier\",\"SOTF\",\"ExperianCluster\",\"zip_type\"])['customer_id_hashed'].count().to_frame().reset_index()\n",
    "df_summary_0_18_score=df_summary_0_18_score.rename(columns={\"customer_id_hashed\":\"id_count\"})\n",
    "\n",
    "df_summary_0_18_decile=dftotal.groupby([\"segment\",\"Recency_Status\",\"frmindex\",\"Density_Tier\",\"SOTF\",\"ExperianCluster\",\"zip_type\"])['customer_id_hashed'].count().to_frame().reset_index()\n",
    "df_summary_0_18_decile=df_summary_0_18_decile.rename(columns={\"customer_id_hashed\":\"id_count\"})\n"
   ]
  },
  {
   "cell_type": "code",
   "execution_count": 29,
   "metadata": {
    "collapsed": true
   },
   "outputs": [],
   "source": [
    "writer=pd.ExcelWriter(\"./BL_2019Q4_audience_summary_JL_\"+str(datetime.datetime.now().date())+\".xlsx\",engine=\"xlsxwriter\")\n",
    "df_summary_0_18_score.to_excel(writer,\"by_HML_score\",index=False)\n",
    "df_summary_0_18_decile.to_excel(writer,\"by_Decile_10\",index=False)\n",
    "writer.save()\n"
   ]
  },
  {
   "cell_type": "code",
   "execution_count": 30,
   "metadata": {},
   "outputs": [
    {
     "data": {
      "text/html": [
       "<div>\n",
       "<style>\n",
       "    .dataframe thead tr:only-child th {\n",
       "        text-align: right;\n",
       "    }\n",
       "\n",
       "    .dataframe thead th {\n",
       "        text-align: left;\n",
       "    }\n",
       "\n",
       "    .dataframe tbody tr th {\n",
       "        vertical-align: top;\n",
       "    }\n",
       "</style>\n",
       "<table border=\"1\" class=\"dataframe\">\n",
       "  <thead>\n",
       "    <tr style=\"text-align: right;\">\n",
       "      <th></th>\n",
       "      <th>frmindex</th>\n",
       "      <th>recencyindex</th>\n",
       "      <th>Amtindex</th>\n",
       "      <th>Transindex</th>\n",
       "      <th>customer_id_hashed</th>\n",
       "      <th>sales</th>\n",
       "      <th>transactions</th>\n",
       "      <th>recency</th>\n",
       "      <th>last_transaction_date</th>\n",
       "      <th>RFM</th>\n",
       "      <th>email_address_hash</th>\n",
       "      <th>cleaned_zip_cd</th>\n",
       "      <th>closest_store</th>\n",
       "      <th>zip_type</th>\n",
       "      <th>shopper_store</th>\n",
       "      <th>final_store_for_id</th>\n",
       "      <th>Recency_Status</th>\n",
       "      <th>nearest_store</th>\n",
       "      <th>Density_Tier</th>\n",
       "      <th>SOTF</th>\n",
       "      <th>HML_Group</th>\n",
       "      <th>ExperianCluster</th>\n",
       "      <th>segment_Decile_Active</th>\n",
       "      <th>segment_Decile_Lapsed</th>\n",
       "      <th>segment_Score_Active</th>\n",
       "      <th>segment_Score_Lapsed</th>\n",
       "      <th>segment</th>\n",
       "    </tr>\n",
       "  </thead>\n",
       "  <tbody>\n",
       "    <tr>\n",
       "      <th>0</th>\n",
       "      <td>D01</td>\n",
       "      <td>1.0</td>\n",
       "      <td>1.0</td>\n",
       "      <td>1.0</td>\n",
       "      <td>b78dccfd64ce659af7061c5743b6b9305814336bc9ddec...</td>\n",
       "      <td>76267.32</td>\n",
       "      <td>4922</td>\n",
       "      <td>1.0</td>\n",
       "      <td>2019-10-11</td>\n",
       "      <td>111.0</td>\n",
       "      <td>4836bfc632a2a5987d47fa6bf0637c21c4466a0e99ddee...</td>\n",
       "      <td>28607</td>\n",
       "      <td>1684.0</td>\n",
       "      <td>P</td>\n",
       "      <td>1684.0</td>\n",
       "      <td>1684</td>\n",
       "      <td>Active (0-12)</td>\n",
       "      <td>1684</td>\n",
       "      <td>M</td>\n",
       "      <td>Legacy</td>\n",
       "      <td>H</td>\n",
       "      <td>Others</td>\n",
       "      <td>Active (0-12)_D01_Density(M)_Legacy_Others_P_2...</td>\n",
       "      <td>Active (0-12)_D01_Density(M)_Legacy_AllExpClus...</td>\n",
       "      <td>Active (0-12)_Score(H)_Density(M)_Legacy_Other...</td>\n",
       "      <td>Active (0-12)_Score(H)_Density(M)_Legacy_AllEx...</td>\n",
       "      <td>Active (0-12)_Score(H)_Density(M)_Legacy_Other...</td>\n",
       "    </tr>\n",
       "    <tr>\n",
       "      <th>1</th>\n",
       "      <td>D01</td>\n",
       "      <td>1.0</td>\n",
       "      <td>1.0</td>\n",
       "      <td>1.0</td>\n",
       "      <td>bfd2e98c3c7cccf2f0d432f8d02d951479311150e4a540...</td>\n",
       "      <td>69187.85</td>\n",
       "      <td>4167</td>\n",
       "      <td>1.0</td>\n",
       "      <td>2019-10-12</td>\n",
       "      <td>111.0</td>\n",
       "      <td>bff5e20f383626e52c464341ad29b3b4e161b8b35de99d...</td>\n",
       "      <td>79938</td>\n",
       "      <td>1926.0</td>\n",
       "      <td>P</td>\n",
       "      <td>1926.0</td>\n",
       "      <td>1926</td>\n",
       "      <td>Active (0-12)</td>\n",
       "      <td>1926</td>\n",
       "      <td>M</td>\n",
       "      <td>Legacy</td>\n",
       "      <td>H</td>\n",
       "      <td>Others</td>\n",
       "      <td>Active (0-12)_D01_Density(M)_Legacy_Others_P_2...</td>\n",
       "      <td>Active (0-12)_D01_Density(M)_Legacy_AllExpClus...</td>\n",
       "      <td>Active (0-12)_Score(H)_Density(M)_Legacy_Other...</td>\n",
       "      <td>Active (0-12)_Score(H)_Density(M)_Legacy_AllEx...</td>\n",
       "      <td>Active (0-12)_Score(H)_Density(M)_Legacy_Other...</td>\n",
       "    </tr>\n",
       "    <tr>\n",
       "      <th>2</th>\n",
       "      <td>D01</td>\n",
       "      <td>1.0</td>\n",
       "      <td>1.0</td>\n",
       "      <td>1.0</td>\n",
       "      <td>ba00b08e0ecda5f850d28c55bcce69191bc8c24a811bb6...</td>\n",
       "      <td>77656.47</td>\n",
       "      <td>3765</td>\n",
       "      <td>1.0</td>\n",
       "      <td>2019-10-12</td>\n",
       "      <td>111.0</td>\n",
       "      <td>ff42f56047a09441444582bb3f23eec007869ea4aec58f...</td>\n",
       "      <td>01702</td>\n",
       "      <td>5194.0</td>\n",
       "      <td>P</td>\n",
       "      <td>5194.0</td>\n",
       "      <td>5194</td>\n",
       "      <td>Active (0-12)</td>\n",
       "      <td>5194</td>\n",
       "      <td>M</td>\n",
       "      <td>Legacy</td>\n",
       "      <td>H</td>\n",
       "      <td>Others</td>\n",
       "      <td>Active (0-12)_D01_Density(M)_Legacy_Others_P_2...</td>\n",
       "      <td>Active (0-12)_D01_Density(M)_Legacy_AllExpClus...</td>\n",
       "      <td>Active (0-12)_Score(H)_Density(M)_Legacy_Other...</td>\n",
       "      <td>Active (0-12)_Score(H)_Density(M)_Legacy_AllEx...</td>\n",
       "      <td>Active (0-12)_Score(H)_Density(M)_Legacy_Other...</td>\n",
       "    </tr>\n",
       "    <tr>\n",
       "      <th>3</th>\n",
       "      <td>D01</td>\n",
       "      <td>1.0</td>\n",
       "      <td>1.0</td>\n",
       "      <td>1.0</td>\n",
       "      <td>af1a67def27b7a4812c299f88c9128d1f1471df969ee7c...</td>\n",
       "      <td>75384.23</td>\n",
       "      <td>3710</td>\n",
       "      <td>1.0</td>\n",
       "      <td>2019-10-12</td>\n",
       "      <td>111.0</td>\n",
       "      <td>d48d9bde483e3a6524f75f41209df8b6848c1cd6714aff...</td>\n",
       "      <td>47250</td>\n",
       "      <td>255.0</td>\n",
       "      <td>P</td>\n",
       "      <td>255.0</td>\n",
       "      <td>255</td>\n",
       "      <td>Active (0-12)</td>\n",
       "      <td>255</td>\n",
       "      <td>M</td>\n",
       "      <td>Legacy</td>\n",
       "      <td>H</td>\n",
       "      <td>Others</td>\n",
       "      <td>Active (0-12)_D01_Density(M)_Legacy_Others_P_2...</td>\n",
       "      <td>Active (0-12)_D01_Density(M)_Legacy_AllExpClus...</td>\n",
       "      <td>Active (0-12)_Score(H)_Density(M)_Legacy_Other...</td>\n",
       "      <td>Active (0-12)_Score(H)_Density(M)_Legacy_AllEx...</td>\n",
       "      <td>Active (0-12)_Score(H)_Density(M)_Legacy_Other...</td>\n",
       "    </tr>\n",
       "  </tbody>\n",
       "</table>\n",
       "</div>"
      ],
      "text/plain": [
       "  frmindex  recencyindex  Amtindex  Transindex  \\\n",
       "0      D01           1.0       1.0         1.0   \n",
       "1      D01           1.0       1.0         1.0   \n",
       "2      D01           1.0       1.0         1.0   \n",
       "3      D01           1.0       1.0         1.0   \n",
       "\n",
       "                                  customer_id_hashed     sales  transactions  \\\n",
       "0  b78dccfd64ce659af7061c5743b6b9305814336bc9ddec...  76267.32          4922   \n",
       "1  bfd2e98c3c7cccf2f0d432f8d02d951479311150e4a540...  69187.85          4167   \n",
       "2  ba00b08e0ecda5f850d28c55bcce69191bc8c24a811bb6...  77656.47          3765   \n",
       "3  af1a67def27b7a4812c299f88c9128d1f1471df969ee7c...  75384.23          3710   \n",
       "\n",
       "   recency last_transaction_date    RFM  \\\n",
       "0      1.0            2019-10-11  111.0   \n",
       "1      1.0            2019-10-12  111.0   \n",
       "2      1.0            2019-10-12  111.0   \n",
       "3      1.0            2019-10-12  111.0   \n",
       "\n",
       "                                  email_address_hash cleaned_zip_cd  \\\n",
       "0  4836bfc632a2a5987d47fa6bf0637c21c4466a0e99ddee...          28607   \n",
       "1  bff5e20f383626e52c464341ad29b3b4e161b8b35de99d...          79938   \n",
       "2  ff42f56047a09441444582bb3f23eec007869ea4aec58f...          01702   \n",
       "3  d48d9bde483e3a6524f75f41209df8b6848c1cd6714aff...          47250   \n",
       "\n",
       "   closest_store zip_type  shopper_store  final_store_for_id Recency_Status  \\\n",
       "0         1684.0        P         1684.0                1684  Active (0-12)   \n",
       "1         1926.0        P         1926.0                1926  Active (0-12)   \n",
       "2         5194.0        P         5194.0                5194  Active (0-12)   \n",
       "3          255.0        P          255.0                 255  Active (0-12)   \n",
       "\n",
       "   nearest_store Density_Tier    SOTF HML_Group ExperianCluster  \\\n",
       "0           1684            M  Legacy         H          Others   \n",
       "1           1926            M  Legacy         H          Others   \n",
       "2           5194            M  Legacy         H          Others   \n",
       "3            255            M  Legacy         H          Others   \n",
       "\n",
       "                               segment_Decile_Active  \\\n",
       "0  Active (0-12)_D01_Density(M)_Legacy_Others_P_2...   \n",
       "1  Active (0-12)_D01_Density(M)_Legacy_Others_P_2...   \n",
       "2  Active (0-12)_D01_Density(M)_Legacy_Others_P_2...   \n",
       "3  Active (0-12)_D01_Density(M)_Legacy_Others_P_2...   \n",
       "\n",
       "                               segment_Decile_Lapsed  \\\n",
       "0  Active (0-12)_D01_Density(M)_Legacy_AllExpClus...   \n",
       "1  Active (0-12)_D01_Density(M)_Legacy_AllExpClus...   \n",
       "2  Active (0-12)_D01_Density(M)_Legacy_AllExpClus...   \n",
       "3  Active (0-12)_D01_Density(M)_Legacy_AllExpClus...   \n",
       "\n",
       "                                segment_Score_Active  \\\n",
       "0  Active (0-12)_Score(H)_Density(M)_Legacy_Other...   \n",
       "1  Active (0-12)_Score(H)_Density(M)_Legacy_Other...   \n",
       "2  Active (0-12)_Score(H)_Density(M)_Legacy_Other...   \n",
       "3  Active (0-12)_Score(H)_Density(M)_Legacy_Other...   \n",
       "\n",
       "                                segment_Score_Lapsed  \\\n",
       "0  Active (0-12)_Score(H)_Density(M)_Legacy_AllEx...   \n",
       "1  Active (0-12)_Score(H)_Density(M)_Legacy_AllEx...   \n",
       "2  Active (0-12)_Score(H)_Density(M)_Legacy_AllEx...   \n",
       "3  Active (0-12)_Score(H)_Density(M)_Legacy_AllEx...   \n",
       "\n",
       "                                             segment  \n",
       "0  Active (0-12)_Score(H)_Density(M)_Legacy_Other...  \n",
       "1  Active (0-12)_Score(H)_Density(M)_Legacy_Other...  \n",
       "2  Active (0-12)_Score(H)_Density(M)_Legacy_Other...  \n",
       "3  Active (0-12)_Score(H)_Density(M)_Legacy_Other...  "
      ]
     },
     "execution_count": 30,
     "metadata": {},
     "output_type": "execute_result"
    }
   ],
   "source": [
    "pd.options.display.max_columns=30\n",
    "dftotal.head(4)"
   ]
  },
  {
   "cell_type": "code",
   "execution_count": 31,
   "metadata": {},
   "outputs": [
    {
     "name": "stdout",
     "output_type": "stream",
     "text": [
      "19614845\n",
      "19614845\n",
      "(19614845, 27)\n"
     ]
    }
   ],
   "source": [
    "print(dftotal['customer_id_hashed'].nunique())\n",
    "print(dftotal['email_address_hash'].nunique())\n",
    "print(dftotal.shape)"
   ]
  },
  {
   "cell_type": "code",
   "execution_count": 32,
   "metadata": {},
   "outputs": [
    {
     "data": {
      "text/plain": [
       "478"
      ]
     },
     "execution_count": 32,
     "metadata": {},
     "output_type": "execute_result"
    }
   ],
   "source": [
    "list_id_18_shoppers=dftotal['customer_id_hashed'].unique().tolist()\n",
    "list_email_18_shoppers=dftotal['email_address_hash'].unique().tolist()\n",
    "del dftotal\n",
    "\n",
    "gc.collect()"
   ]
  },
  {
   "cell_type": "code",
   "execution_count": 34,
   "metadata": {},
   "outputs": [
    {
     "data": {
      "text/plain": [
       "19614845"
      ]
     },
     "execution_count": 34,
     "metadata": {},
     "output_type": "execute_result"
    }
   ],
   "source": [
    "len(list_id_18_shoppers)"
   ]
  },
  {
   "cell_type": "code",
   "execution_count": 35,
   "metadata": {},
   "outputs": [
    {
     "data": {
      "text/plain": [
       "19614845"
      ]
     },
     "execution_count": 35,
     "metadata": {},
     "output_type": "execute_result"
    }
   ],
   "source": [
    "len(list_email_18_shoppers)"
   ]
  },
  {
   "cell_type": "markdown",
   "metadata": {
    "collapsed": true
   },
   "source": [
    "# Lapsed 19-48"
   ]
  },
  {
   "cell_type": "code",
   "execution_count": 2,
   "metadata": {},
   "outputs": [
    {
     "name": "stdout",
     "output_type": "stream",
     "text": [
      "Lapsed Start on: 2018-04-15\n",
      "Active Start on: 2018-10-14\n",
      "Store Allocation Starting on: 2018-04-15\n",
      "Last Saturday: 2019-10-12\n",
      "Beginning_48_months_ago:2015-10-18\n"
     ]
    }
   ],
   "source": [
    "lastdate_date=datetime.date(2019,10,12) # Recent Saturday\n",
    "active_Sunday=str(lastdate_date-datetime.timedelta(days=52*7-1))\n",
    "\n",
    "lapsed_Sunday=str(lastdate_date-datetime.timedelta(days=52*7*1.5-1))\n",
    "Beginning_18_months_ago=str(lastdate_date-datetime.timedelta(days=52*7*1.5-1))\n",
    "Beginning_48_months_ago=str(lastdate_date-datetime.timedelta(days=52*7*4-1))\n",
    "\n",
    "lastdate=str(lastdate_date)\n",
    "print(\"Lapsed Start on: \"+lapsed_Sunday) #>=\n",
    "print(\"Active Start on: \"+active_Sunday) #>=\n",
    "print(\"Store Allocation Starting on: \"+Beginning_18_months_ago) #>=\n",
    "print(\"Last Saturday: \"+lastdate) #<=\n",
    "print(\"Beginning_48_months_ago:\"+Beginning_48_months_ago)\n",
    "def recursive_file_gen(root_folder):\n",
    "    for root, dirs, files in os.walk(root_folder):\n",
    "        for file in files:\n",
    "            yield os.path.join(root, file)\n",
    "\n"
   ]
  },
  {
   "cell_type": "code",
   "execution_count": 3,
   "metadata": {},
   "outputs": [
    {
     "name": "stdout",
     "output_type": "stream",
     "text": [
      "1 2019-10-23 15:00:29.414070\n",
      "2 2019-10-23 15:00:57.459272\n",
      "3 2019-10-23 15:01:16.563207\n",
      "4 2019-10-23 15:01:35.651320\n",
      "5 2019-10-23 15:02:05.309754\n",
      "6 2019-10-23 15:02:34.915563\n",
      "7 2019-10-23 15:03:04.654926\n",
      "8 2019-10-23 15:03:34.906106\n",
      "9 2019-10-23 15:04:05.610180\n",
      "10 2019-10-23 15:04:36.748218\n",
      "11 2019-10-23 15:05:08.141758\n",
      "12 2019-10-23 15:05:39.965752\n",
      "13 2019-10-23 15:06:12.294753\n",
      "14 2019-10-23 15:06:39.030806\n",
      "15 2019-10-23 15:06:59.502027\n",
      "Earliest Date:2016-06-26\n",
      "Latest Date:2018-04-14\n",
      "(19678528, 1)\n"
     ]
    },
    {
     "data": {
      "text/plain": [
       "189"
      ]
     },
     "execution_count": 3,
     "metadata": {},
     "output_type": "execute_result"
    }
   ],
   "source": [
    "# 1 out of the 3\n",
    "\n",
    "chunksize_num = 10**7\n",
    "filename='/home/jian/Projects/Big_Lots/Live_Ramp/Quarterly_Update_2019Q1/crm_newscore_0922/combinedtransactions_0922.csv'\n",
    "df_lapsed_sales_ids=pd.DataFrame()\n",
    "count_i=0\n",
    "\n",
    "for chunk in pd.read_csv(filename, chunksize=chunksize_num,dtype=str,usecols=['customer_id_hashed','transaction_date']):\n",
    "    chunk=chunk[(chunk['transaction_date']>=Beginning_48_months_ago) & (chunk['transaction_date']<Beginning_18_months_ago)]\n",
    "    chunk=chunk.drop_duplicates()\n",
    "    \n",
    "    df_lapsed_sales_ids=df_lapsed_sales_ids.append(chunk)\n",
    "    count_i+=1\n",
    "    print(count_i,datetime.datetime.now())\n",
    "\n",
    "del chunk\n",
    "\n",
    "print(\"Earliest Date:\" + str(df_lapsed_sales_ids['transaction_date'].min()))\n",
    "print(\"Latest Date:\" + str(df_lapsed_sales_ids['transaction_date'].max()))\n",
    "del df_lapsed_sales_ids['transaction_date']\n",
    "df_lapsed_sales_ids=df_lapsed_sales_ids.drop_duplicates()\n",
    "print(df_lapsed_sales_ids.shape)\n",
    "logging.info(\"Deduped: \"+str(datetime.datetime.now()))\n",
    "\n",
    "gc.collect()"
   ]
  },
  {
   "cell_type": "code",
   "execution_count": 4,
   "metadata": {},
   "outputs": [
    {
     "data": {
      "text/plain": [
       "14"
      ]
     },
     "execution_count": 4,
     "metadata": {},
     "output_type": "execute_result"
    }
   ],
   "source": [
    "# 2 out of the 3\n",
    "\n",
    "lapsed_trans=pd.read_table(\"/home/jian/Projects/Big_Lots/Loyal_members/loyalty_sales_data/lapsed20140826_20170226/MediaStormLapsedCustDtl.txt\",\n",
    "                     sep=\",\",usecols=['customer_id_hashed','transaction_date'],dtype=str)# .drop_duplicates() # Doesn't go to score at all, so no need to read all columns\n",
    "lapsed_trans=lapsed_trans[(lapsed_trans['transaction_date']>=Beginning_48_months_ago) & (lapsed_trans['transaction_date']<Beginning_18_months_ago)]\n",
    "del lapsed_trans['transaction_date']\n",
    "\n",
    "df_lapsed_sales_ids=df_lapsed_sales_ids.append(lapsed_trans).drop_duplicates()\n",
    "del lapsed_trans\n",
    "gc.collect()"
   ]
  },
  {
   "cell_type": "code",
   "execution_count": 7,
   "metadata": {},
   "outputs": [
    {
     "name": "stdout",
     "output_type": "stream",
     "text": [
      "94\n",
      "1 2019-10-23 15:21:58.365772\n",
      "11 2019-10-23 15:24:37.237482\n",
      "21 2019-10-23 15:28:01.997377\n",
      "31 2019-10-23 15:31:30.753891\n",
      "41 2019-10-23 15:34:51.507565\n",
      "51 2019-10-23 15:38:04.375310\n",
      "61 2019-10-23 15:40:22.961713\n",
      "71 2019-10-23 15:43:06.272728\n",
      "81 2019-10-23 15:45:50.536291\n",
      "91 2019-10-23 15:48:27.247511\n"
     ]
    },
    {
     "data": {
      "text/plain": [
       "28"
      ]
     },
     "execution_count": 7,
     "metadata": {},
     "output_type": "execute_result"
    }
   ],
   "source": [
    "# 3 out of the 3\n",
    "\n",
    "daily_sales_historical=glob.glob(\"/home/jian/BigLots/hist_daily_data_subclasslevel/*.txt\")\n",
    "daily_sales_historical=[x for x in daily_sales_historical if x.split(\"MediaStormDailySales_week_ending_\")[1][:10]>=Beginning_48_months_ago]\n",
    "daily_sales_historical=[x for x in daily_sales_historical if x.split(\"MediaStormDailySales_week_ending_\")[1][:10]<Beginning_18_months_ago]\n",
    "print(len(daily_sales_historical))\n",
    "\n",
    "i_counter=0\n",
    "list_historical_19_48=[]\n",
    "for file in daily_sales_historical:\n",
    "    df=pd.read_table(file,dtype=str,sep=\"|\",usecols=['customer_id_hashed']).drop_duplicates() # No date read, since will exclude the shoppers in 18 later\n",
    "    df=df[pd.notnull(df['customer_id_hashed'])]\n",
    "    list_historical_19_48.append(df)\n",
    "    i_counter+=1\n",
    "    if i_counter%10==1:\n",
    "        print(i_counter,datetime.datetime.now())\n",
    "df=pd.concat(list_historical_19_48).drop_duplicates()\n",
    "\n",
    "df_lapsed_sales_ids=df_lapsed_sales_ids.append(df).drop_duplicates()\n",
    "del df\n",
    "gc.collect()"
   ]
  },
  {
   "cell_type": "code",
   "execution_count": 16,
   "metadata": {},
   "outputs": [
    {
     "name": "stdout",
     "output_type": "stream",
     "text": [
      "dftotal.shape: (19614845, 27)\n",
      "len(list_unique_18_ids): 19614845\n",
      "len(list_unique_18_emails): 19614845\n"
     ]
    }
   ],
   "source": [
    "pd.options.display.max_columns=30\n",
    "dftotal=pd.read_csv(\"/home/jian/Projects/Big_Lots/Live_Ramp/Quarterly_Update_2019Q4/output_2019-10-20/BL_2019Q4_Final_Audience_details_18mo_shoppers_with_emails_seg_JL_2019-10-23.csv\")\n",
    "list_unique_18_ids=dftotal['customer_id_hashed'].unique().tolist()\n",
    "list_unique_18_emails=dftotal['email_address_hash'].unique().tolist()\n",
    "print(\"dftotal.shape: \"+str(dftotal.shape))\n",
    "print(\"len(list_unique_18_ids): \"+str(len(list_unique_18_ids)))\n",
    "print(\"len(list_unique_18_emails): \"+str(len(list_unique_18_emails)))\n"
   ]
  },
  {
   "cell_type": "code",
   "execution_count": 24,
   "metadata": {
    "collapsed": true
   },
   "outputs": [],
   "source": [
    "df_lapsed_sales_ids=df_lapsed_sales_ids[~df_lapsed_sales_ids['customer_id_hashed'].isin(list_unique_18_ids)]"
   ]
  },
  {
   "cell_type": "code",
   "execution_count": 25,
   "metadata": {},
   "outputs": [
    {
     "name": "stdout",
     "output_type": "stream",
     "text": [
      "(7713304, 1)\n",
      "(7713304, 4)\n"
     ]
    }
   ],
   "source": [
    "print(df_lapsed_sales_ids.shape)\n",
    "dfiddetail=pd.read_csv('/home/jian/Projects/Big_Lots/Live_Ramp/Quarterly_Update_2019Q4/BL_all_master_id_email_zip_closet_store_ZipLabel_upto_20191012_JL_2019-10-21',\n",
    "                       usecols=['customer_id_hashed','email_address_hash','closest_store','zip_type'],dtype=str)\n",
    "df_lapsed_sales_ids=pd.merge(df_lapsed_sales_ids,dfiddetail,on=\"customer_id_hashed\",how=\"left\")\n",
    "print(df_lapsed_sales_ids.shape)"
   ]
  },
  {
   "cell_type": "code",
   "execution_count": 28,
   "metadata": {},
   "outputs": [
    {
     "name": "stdout",
     "output_type": "stream",
     "text": [
      "df_lapsed_sales_ids.shape: (4645186, 4)\n"
     ]
    }
   ],
   "source": [
    "df_lapsed_sales_ids=df_lapsed_sales_ids[df_lapsed_sales_ids['zip_type']==\"trans_P\"]\n",
    "df_lapsed_sales_ids['zip_type']=df_lapsed_sales_ids['zip_type'].replace(\"trans_P\",\"P\")\n",
    "df_lapsed_sales_ids=df_lapsed_sales_ids[pd.notnull(df_lapsed_sales_ids['email_address_hash'])]\n",
    "df_lapsed_sales_ids=df_lapsed_sales_ids.drop_duplicates(\"email_address_hash\")\n",
    "print(\"df_lapsed_sales_ids.shape: \"+str(df_lapsed_sales_ids.shape))\n"
   ]
  },
  {
   "cell_type": "code",
   "execution_count": 32,
   "metadata": {},
   "outputs": [
    {
     "name": "stdout",
     "output_type": "stream",
     "text": [
      "df_lapsed_sales_ids['customer_id_hashed'].nunique(): 4645186\n",
      "df_lapsed_sales_ids['email_address_hash'].nunique(): 4645186\n"
     ]
    }
   ],
   "source": [
    "print(\"df_lapsed_sales_ids['customer_id_hashed'].nunique(): \"+str(df_lapsed_sales_ids['customer_id_hashed'].nunique()))\n",
    "print(\"df_lapsed_sales_ids['email_address_hash'].nunique(): \"+str(df_lapsed_sales_ids['email_address_hash'].nunique()))\n"
   ]
  },
  {
   "cell_type": "code",
   "execution_count": 34,
   "metadata": {},
   "outputs": [
    {
     "data": {
      "text/plain": [
       "array([<class 'str'>], dtype=object)"
      ]
     },
     "execution_count": 34,
     "metadata": {},
     "output_type": "execute_result"
    }
   ],
   "source": [
    "df_lapsed_sales_ids['closest_store'].apply(type).unique()"
   ]
  },
  {
   "cell_type": "code",
   "execution_count": 42,
   "metadata": {},
   "outputs": [
    {
     "data": {
      "text/plain": [
       "89669"
      ]
     },
     "execution_count": 42,
     "metadata": {},
     "output_type": "execute_result"
    }
   ],
   "source": [
    "ExcelFile=pd.ExcelFile(\"/home/jian/Projects/Big_Lots/Live_Ramp/Quarterly_Update_2019Q4/Copy of BL 2019Q4 Budget Allocation Model 20191018_JC_JL_20191020.xlsx\")\n",
    "\n",
    "df_store_density=ExcelFile.parse(\"Summary Chart 18mo\",usecols=[\"location_id\",\"Tier\"],dtype=str)\n",
    "df_store_density=df_store_density.rename(columns={\"Tier\":\"Density_Tier\",\"location_id\":\"closest_store\"})\n",
    "# df_store_density['final_store_for_id']=df_store_density['final_store_for_id'].astype(int)\n",
    "\n",
    "\n",
    "df_SOTF=ExcelFile.parse(\"4_SOTF\",usecols=[\"location_id\",\"copy_SOTF_label\"],dtype=str)\n",
    "df_SOTF=df_SOTF.rename(columns={\"copy_SOTF_label\":\"SOTF\",\"location_id\":\"closest_store\"})\n",
    "df_SOTF['SOTF']=df_SOTF['SOTF'].replace(\"nan\",np.nan)\n",
    "# df_SOTF['final_store_for_id']=df_SOTF['final_store_for_id'].astype(int)\n",
    "\n",
    "del ExcelFile\n",
    "gc.collect()"
   ]
  },
  {
   "cell_type": "code",
   "execution_count": 45,
   "metadata": {
    "collapsed": true
   },
   "outputs": [],
   "source": [
    "df_lapsed_sales_ids=pd.merge(df_lapsed_sales_ids,df_SOTF,on=\"closest_store\",how=\"left\")\n",
    "df_lapsed_sales_ids['SOTF']=df_lapsed_sales_ids['SOTF'].fillna(\"Legacy\")\n",
    "\n",
    "df_lapsed_sales_ids=pd.merge(df_lapsed_sales_ids,df_store_density,on=\"closest_store\",how=\"left\")\n",
    "df_lapsed_sales_ids['Density_Tier']=df_lapsed_sales_ids['Density_Tier'].fillna(\"M\")\n"
   ]
  },
  {
   "cell_type": "code",
   "execution_count": 55,
   "metadata": {
    "collapsed": true
   },
   "outputs": [],
   "source": [
    "df_lapsed_sales_ids['segment']=\"Lapsed (19-48)_Density(\"+df_lapsed_sales_ids['Density_Tier']+\")_\"+df_lapsed_sales_ids['SOTF']+\\\n",
    "                                '_AllExpCluster_'+df_lapsed_sales_ids['zip_type']+\"_2019Q4\""
   ]
  },
  {
   "cell_type": "code",
   "execution_count": 58,
   "metadata": {},
   "outputs": [
    {
     "data": {
      "text/html": [
       "<div>\n",
       "<style>\n",
       "    .dataframe thead tr:only-child th {\n",
       "        text-align: right;\n",
       "    }\n",
       "\n",
       "    .dataframe thead th {\n",
       "        text-align: left;\n",
       "    }\n",
       "\n",
       "    .dataframe tbody tr th {\n",
       "        vertical-align: top;\n",
       "    }\n",
       "</style>\n",
       "<table border=\"1\" class=\"dataframe\">\n",
       "  <thead>\n",
       "    <tr style=\"text-align: right;\">\n",
       "      <th></th>\n",
       "      <th>segment</th>\n",
       "      <th>customer_id_hashed</th>\n",
       "    </tr>\n",
       "  </thead>\n",
       "  <tbody>\n",
       "    <tr>\n",
       "      <th>0</th>\n",
       "      <td>Lapsed (19-48)_Density(H)_Legacy_AllExpCluster...</td>\n",
       "      <td>496714</td>\n",
       "    </tr>\n",
       "    <tr>\n",
       "      <th>1</th>\n",
       "      <td>Lapsed (19-48)_Density(L)_Legacy_AllExpCluster...</td>\n",
       "      <td>3885</td>\n",
       "    </tr>\n",
       "    <tr>\n",
       "      <th>2</th>\n",
       "      <td>Lapsed (19-48)_Density(L)_SOTF_AllExpCluster_P...</td>\n",
       "      <td>182337</td>\n",
       "    </tr>\n",
       "    <tr>\n",
       "      <th>3</th>\n",
       "      <td>Lapsed (19-48)_Density(M)_Legacy_AllExpCluster...</td>\n",
       "      <td>2496144</td>\n",
       "    </tr>\n",
       "    <tr>\n",
       "      <th>4</th>\n",
       "      <td>Lapsed (19-48)_Density(M)_SOTF_AllExpCluster_P...</td>\n",
       "      <td>1466106</td>\n",
       "    </tr>\n",
       "  </tbody>\n",
       "</table>\n",
       "</div>"
      ],
      "text/plain": [
       "                                             segment  customer_id_hashed\n",
       "0  Lapsed (19-48)_Density(H)_Legacy_AllExpCluster...              496714\n",
       "1  Lapsed (19-48)_Density(L)_Legacy_AllExpCluster...                3885\n",
       "2  Lapsed (19-48)_Density(L)_SOTF_AllExpCluster_P...              182337\n",
       "3  Lapsed (19-48)_Density(M)_Legacy_AllExpCluster...             2496144\n",
       "4  Lapsed (19-48)_Density(M)_SOTF_AllExpCluster_P...             1466106"
      ]
     },
     "execution_count": 58,
     "metadata": {},
     "output_type": "execute_result"
    }
   ],
   "source": [
    "df_summary_19_48_score=df_lapsed_sales_ids.groupby(\"segment\")['customer_id_hashed'].count().to_frame().reset_index()\n",
    "df_summary_19_48_score"
   ]
  },
  {
   "cell_type": "code",
   "execution_count": 59,
   "metadata": {
    "collapsed": true
   },
   "outputs": [],
   "source": [
    "writer=pd.ExcelWriter(\"./BL_2019Q4_audience_summary_13_to_48_JL_\"+str(datetime.datetime.now().date())+\".xlsx\",engine=\"xlsxwriter\")\n",
    "df_summary_19_48_score.to_excel(writer,\"13_to_48_months\",index=False)\n",
    "writer.save()"
   ]
  },
  {
   "cell_type": "code",
   "execution_count": 60,
   "metadata": {
    "collapsed": true
   },
   "outputs": [],
   "source": [
    "df_lapsed_sales_ids.to_csv(\"/home/jian/Projects/Big_Lots/Live_Ramp/Quarterly_Update_2019Q4/output_2019-10-20/BL_2019Q4_Final_Audience_details_19_to_48_Lapsed_shoppers_with_emails_seg_JL_\"+str(datetime.datetime.now().date())+\".csv\",index=False)\n"
   ]
  },
  {
   "cell_type": "code",
   "execution_count": null,
   "metadata": {
    "collapsed": true
   },
   "outputs": [],
   "source": []
  }
 ],
 "metadata": {
  "kernelspec": {
   "display_name": "Python 3",
   "language": "python",
   "name": "python3"
  },
  "language_info": {
   "codemirror_mode": {
    "name": "ipython",
    "version": 3
   },
   "file_extension": ".py",
   "mimetype": "text/x-python",
   "name": "python",
   "nbconvert_exporter": "python",
   "pygments_lexer": "ipython3",
   "version": "3.6.1"
  }
 },
 "nbformat": 4,
 "nbformat_minor": 2
}
