{
 "cells": [
  {
   "cell_type": "code",
   "execution_count": 1,
   "metadata": {},
   "outputs": [
    {
     "name": "stdout",
     "output_type": "stream",
     "text": [
      "2020-04-21 18:25:42.794670\n"
     ]
    }
   ],
   "source": [
    "import pandas as pd\n",
    "import paramiko\n",
    "import datetime\n",
    "import os\n",
    "\n",
    "print(datetime.datetime.now())"
   ]
  },
  {
   "cell_type": "code",
   "execution_count": 14,
   "metadata": {},
   "outputs": [
    {
     "name": "stdout",
     "output_type": "stream",
     "text": [
      "(19614845, 2) 19614845\n"
     ]
    }
   ],
   "source": [
    "df_decile_detail=pd.read_csv(\"./output_2019-10-20/BL_2019Q4_Final_Audience_details_18mo_shoppers_with_emails_seg_JL_2019-10-23.csv\",\n",
    "                             dtype=str,usecols=['customer_id_hashed','frmindex'])\n",
    "print(df_decile_detail.shape,df_decile_detail['customer_id_hashed'].nunique())"
   ]
  },
  {
   "cell_type": "code",
   "execution_count": 16,
   "metadata": {},
   "outputs": [],
   "source": [
    "df_18_49=pd.read_csv(\"./output_2019-10-20/BL_2019Q4_Final_Audience_details_19_to_48_Lapsed_shoppers_with_emails_seg_JL_2019-10-23.csv\",\n",
    "                    dtype=str,usecols=['customer_id_hashed'])\n",
    "df_18_49['frmindex']=\"M18_49\""
   ]
  },
  {
   "cell_type": "code",
   "execution_count": 17,
   "metadata": {},
   "outputs": [
    {
     "name": "stderr",
     "output_type": "stream",
     "text": [
      "/home/jian/.local/lib/python3.6/site-packages/pandas/core/frame.py:7138: FutureWarning: Sorting because non-concatenation axis is not aligned. A future version\n",
      "of pandas will change to not sort by default.\n",
      "\n",
      "To accept the future behavior, pass 'sort=False'.\n",
      "\n",
      "To retain the current behavior and silence the warning, pass 'sort=True'.\n",
      "\n",
      "  sort=sort,\n"
     ]
    },
    {
     "name": "stdout",
     "output_type": "stream",
     "text": [
      "(24260031, 2) 24260031\n"
     ]
    }
   ],
   "source": [
    "df_local=df_decile_detail.append(df_18_49)\n",
    "print(df_local.shape,df_local['customer_id_hashed'].nunique())"
   ]
  },
  {
   "cell_type": "code",
   "execution_count": 20,
   "metadata": {},
   "outputs": [],
   "source": [
    "df_local.to_csv(\"./df_ids_by_decile_JL_\"+str(datetime.datetime.now().date())+\".csv\",index=False)"
   ]
  },
  {
   "cell_type": "code",
   "execution_count": 21,
   "metadata": {},
   "outputs": [],
   "source": [
    "local_path=\"./df_ids_by_decile_JL_2020-04-21.csv\"\n",
    "remote_path=\"/mnt/drv5/jian/Big_Lots/BL_1_to_1_2019Q4/df_ids_by_decile_JL_2020-04-21.csv\"\n",
    "\n",
    "host = \"107.191.32.220\"\n",
    "port = 22\n",
    "password = \"juba-jl1\"\n",
    "username = \"jian\"\n",
    "\n",
    "transport = paramiko.Transport((host, port))\n",
    "\n",
    "transport.connect(username = username, password = password)\n",
    "sftp = paramiko.SFTPClient.from_transport(transport)"
   ]
  },
  {
   "cell_type": "code",
   "execution_count": 22,
   "metadata": {},
   "outputs": [],
   "source": [
    "sftp.put(local_path,remote_path)\n",
    "sftp.close()\n",
    "transport.close()"
   ]
  },
  {
   "cell_type": "code",
   "execution_count": null,
   "metadata": {},
   "outputs": [],
   "source": []
  }
 ],
 "metadata": {
  "kernelspec": {
   "display_name": "Python 3",
   "language": "python",
   "name": "python3"
  },
  "language_info": {
   "codemirror_mode": {
    "name": "ipython",
    "version": 3
   },
   "file_extension": ".py",
   "mimetype": "text/x-python",
   "name": "python",
   "nbconvert_exporter": "python",
   "pygments_lexer": "ipython3",
   "version": "3.6.1"
  }
 },
 "nbformat": 4,
 "nbformat_minor": 2
}
