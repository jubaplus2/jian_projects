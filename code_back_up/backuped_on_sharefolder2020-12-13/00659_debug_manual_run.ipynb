{
 "cells": [
  {
   "cell_type": "code",
   "execution_count": 1,
   "metadata": {},
   "outputs": [
    {
     "name": "stdout",
     "output_type": "stream",
     "text": [
      "Worker Start: 2019-11-07 11:16:29.200756\n"
     ]
    }
   ],
   "source": [
    "import pandas as pd\n",
    "import datetime\n",
    "import numpy as np\n",
    "import os\n",
    "import glob\n",
    "import gc\n",
    "import logging\n",
    "logging.basicConfig(filename='weekly_audience_tracker.log', level=logging.INFO)\n",
    "\n",
    "def recursive_file_gen(root_folder):\n",
    "    for root, dirs, files in os.walk(root_folder):\n",
    "        for file in files:\n",
    "            yield os.path.join(root, file)\n",
    "            \n",
    "os.getcwd()\n",
    "print(\"Worker Start: \"+str(datetime.datetime.now()))"
   ]
  },
  {
   "cell_type": "code",
   "execution_count": 2,
   "metadata": {},
   "outputs": [
    {
     "name": "stdout",
     "output_type": "stream",
     "text": [
      "last_sturday: 2019-11-02\n",
      "Year 2019\n",
      "Quarter 4\n",
      "2019_Q4\n",
      "current_week 0\n",
      "Quarter 3\n",
      "2019_Q3\n",
      "current_week 13\n",
      "current_quarter_beginning: 2019-08-04\n",
      "current_quarter_beginning_last_year: 2018-08-05\n",
      "53\n",
      "55\n",
      "25 25\n",
      "542702\n",
      "(21810554, 2)  |  21810554\n",
      "(21810554, 3)\n",
      "(7, 2)\n",
      "len(list_POS_this_year_in_quarter): 13\n"
     ]
    }
   ],
   "source": [
    "last_sturday = (datetime.datetime.now()-datetime.timedelta(days=(datetime.datetime.now().weekday()+2))).date()\n",
    "print(\"last_sturday: \"+str(last_sturday))\n",
    "\n",
    "last_day_of_2018Q4=datetime.date(2019,2,2)\n",
    "\n",
    "year_of_quarter=(last_sturday-last_day_of_2018Q4).days/(52*7)\n",
    "year_of_quarter=str(int(2019+np.floor(year_of_quarter)))\n",
    "print(\"Year\",year_of_quarter)\n",
    "\n",
    "\n",
    "quarter_of_quarter=(last_sturday-last_day_of_2018Q4).days/7\n",
    "quarter_of_quarter=np.floor(quarter_of_quarter/13)%4\n",
    "quarter_of_quarter=str(int(1+quarter_of_quarter))\n",
    "print(\"Quarter\",quarter_of_quarter)\n",
    "\n",
    "str_current_quarter=year_of_quarter+\"_Q\"+quarter_of_quarter\n",
    "\n",
    "print(str_current_quarter)\n",
    "\n",
    "current_week=int((last_sturday-last_day_of_2018Q4).days/7%13)\n",
    "print(\"current_week\",current_week)\n",
    "\n",
    "if current_week==0:\n",
    "    quarter_of_quarter=int(quarter_of_quarter)-1\n",
    "    str_current_quarter=year_of_quarter+\"_Q\"+str(quarter_of_quarter)\n",
    "    current_week=13\n",
    "    print(\"Quarter\",quarter_of_quarter)\n",
    "    print(str_current_quarter)\n",
    "    print(\"current_week\",current_week)\n",
    "    \n",
    "    \n",
    "quarter_of_quarter\n",
    "\n",
    "\n",
    "# In[3]:\n",
    "\n",
    "current_quarter_beginning=last_day_of_2018Q4+datetime.timedelta(days=(int(year_of_quarter)-2019)*52*7+                                                                (int(quarter_of_quarter)-1)*13*7+1)\n",
    "print(\"current_quarter_beginning: \"+str(current_quarter_beginning))\n",
    "\n",
    "current_quarter_beginning_last_year=current_quarter_beginning-datetime.timedelta(days=52*7)\n",
    "print(\"current_quarter_beginning_last_year: \"+str(current_quarter_beginning_last_year))\n",
    "\n",
    "\n",
    "# In[4]:\n",
    "\n",
    "all_weekly_new_sign_ups=list(recursive_file_gen(\"/home/jian/BigLots/\"))\n",
    "all_weekly_new_sign_ups=[x for x in all_weekly_new_sign_ups if \"aster\" in x.lower()]\n",
    "all_weekly_new_sign_ups=[x for x in all_weekly_new_sign_ups if x[-4:]==\".txt\"]\n",
    "all_weekly_new_sign_ups=[x for x in all_weekly_new_sign_ups if x.split(\"/MediaStorm_\")[1][:10]>=str(current_quarter_beginning_last_year)]\n",
    "all_weekly_new_sign_ups.sort()\n",
    "print(len(all_weekly_new_sign_ups))\n",
    "\n",
    "new_sign_ups_piece_1=\"/home/jian/BigLots/New_Sing_Ups_2018_Fiscal_Year/All Rewards Members 2018-02-04 - 2019-05-04.zip\"\n",
    "new_sign_ups_piece_2=\"/home/jian/BigLots/New_Sing_Ups_2018_Fiscal_Year/MediaStorm Rewards Master P4 2019 - no transaction info.zip\"\n",
    "all_weekly_new_sign_ups.append(new_sign_ups_piece_1)\n",
    "all_weekly_new_sign_ups.append(new_sign_ups_piece_2)\n",
    "print(len(all_weekly_new_sign_ups))\n",
    "\n",
    "\n",
    "# In[5]:\n",
    "\n",
    "list_new_ids=[]\n",
    "for file in all_weekly_new_sign_ups:\n",
    "    df=pd.read_table(file,dtype=str,sep=\"|\",usecols=['customer_id_hashed','sign_up_date'])\n",
    "    df=df[df['sign_up_date']>=str(current_quarter_beginning_last_year)]\n",
    "    list_new_ids=list_new_ids+df['customer_id_hashed'].unique().tolist()\n",
    "list_new_ids=list(set(list_new_ids))\n",
    "\n",
    "\n",
    "# In[6]:\n",
    "\n",
    "audience_files_folder=\"/home/jian/Projects/Big_Lots/Live_Ramp/Quarterly_Update_\"+str_current_quarter.replace(\"_\",\"\")+\"/upload_files/\"\n",
    "\n",
    "\n",
    "audience_files_this_quarter=glob.glob(audience_files_folder+\"*.csv\")\n",
    "len(audience_files_this_quarter)\n",
    "\n",
    "\n",
    "audience_files_this_quarter_C=[x for x in audience_files_this_quarter if os.path.basename(x)[0]==\"C\"]\n",
    "audience_files_this_quarter_T=[x for x in audience_files_this_quarter if os.path.basename(x)[0]==\"T\"]\n",
    "print(len(audience_files_this_quarter_C),len(audience_files_this_quarter_T))\n",
    "\n",
    "set_Control=set()\n",
    "for file in audience_files_this_quarter_C:\n",
    "    df=pd.read_csv(file,dtype=str,usecols=[\"customer_id_hashed\"])\n",
    "    set_Control=set_Control.union(set(df['customer_id_hashed'].tolist()))\n",
    "print(len(set_Control))\n",
    "\n",
    "\n",
    "df_audience=pd.DataFrame()\n",
    "\n",
    "for file in audience_files_this_quarter_T:\n",
    "    df=pd.read_csv(file,dtype=str,usecols=['customer_id_hashed','segment'])\n",
    "    df=df[~df['customer_id_hashed'].isin(set_Control)]\n",
    "    df_audience=df_audience.append(df)\n",
    "df_audience=df_audience.drop_duplicates()\n",
    "\n",
    "print(df_audience.shape,\" | \",df_audience['customer_id_hashed'].nunique())\n",
    "\n",
    "\n",
    "# In[7]:\n",
    "\n",
    "# Rolling up removing the quadrant\n",
    "# Depends on the segment naming\n",
    "df_audience_total_count_original=df_audience.groupby(\"segment\")['customer_id_hashed'].nunique().to_frame().reset_index().rename(columns={\"customer_id_hashed\":\"ids_total\"})\n",
    "df_audience['segment_2']=df_audience['segment'].str.replace(\"Quadrant I_\",\"\")\n",
    "df_audience['segment_2']=df_audience['segment_2'].str.replace(\"Quadrant II_\",\"\")\n",
    "df_audience['segment_2']=df_audience['segment_2'].str.replace(\"Quadrant III_\",\"\")\n",
    "df_audience['segment_2']=df_audience['segment_2'].str.replace(\"Quadrant IV_\",\"\")\n",
    "print(df_audience.shape)\n",
    "\n",
    "df_audience_total_count=df_audience.groupby(\"segment_2\")['customer_id_hashed'].nunique().to_frame().reset_index().rename(columns={\"customer_id_hashed\":\"ids_total\"})\n",
    "\n",
    "del df_audience['segment']\n",
    "df_audience=df_audience.rename(columns={\"segment_2\":\"segment\"})\n",
    "\n",
    "print(df_audience_total_count.shape)\n",
    "df_audience_total_count\n",
    "\n",
    "\n",
    "# In[8]:\n",
    "\n",
    "list_POS_this_year_in_quarter=list(recursive_file_gen(\"/home/jian/BigLots/\"))\n",
    "list_POS_this_year_in_quarter=[x for x in list_POS_this_year_in_quarter if \"Daily\" in x and x[-4:]==\".txt\"]\n",
    "list_POS_this_year_in_quarter=[x for x in list_POS_this_year_in_quarter if \"2016\" not in x]\n",
    "list_POS_this_year_in_quarter=[x for x in list_POS_this_year_in_quarter if \"2017\" not in x]\n",
    "list_POS_this_year_in_quarter=[x for x in list_POS_this_year_in_quarter if \"2018\" not in x]\n",
    "list_POS_this_year_in_quarter=[x for x in list_POS_this_year_in_quarter if \"histor\" not in x.lower()]\n",
    "list_POS_this_year_in_quarter.sort()\n",
    "list_POS_this_year_in_quarter=[x for x in list_POS_this_year_in_quarter if x.split(\"/MediaStorm_\")[1][:10]>=str(current_quarter_beginning)]\n",
    "# date only >=\n",
    "print(\"len(list_POS_this_year_in_quarter): \"+str(len(list_POS_this_year_in_quarter)))\n"
   ]
  },
  {
   "cell_type": "code",
   "execution_count": 15,
   "metadata": {},
   "outputs": [
    {
     "name": "stdout",
     "output_type": "stream",
     "text": [
      "len(list_POS_this_year_in_quarter): 13\n",
      "2019-11-07 12:04:38.359101\n"
     ]
    }
   ],
   "source": [
    "last_year_end_week_in_quarter=last_sturday-datetime.timedelta(days=52*7)\n",
    "\n",
    "if year_of_quarter==\"2019\" and (quarter_of_quarter==3 or quarter_of_quarter==4): \n",
    "    list_POS_last_year_in_quarter=glob.glob(\"/home/jian/BigLots/hist_daily_data_itemlevel_decompressed/*.txt\")\n",
    "    list_POS_last_year_in_quarter=[x for x in list_POS_last_year_in_quarter if x.split(\"/MediaStormDailySalesHistory\")[1][:8]>=str(current_quarter_beginning_last_year).replace(\"-\",\"\")]\n",
    "    list_POS_last_year_in_quarter=[x for x in list_POS_last_year_in_quarter if x.split(\"/MediaStormDailySalesHistory\")[1][:8]<=str(last_year_end_week_in_quarter).replace(\"-\",\"\")]\n",
    "\n",
    "elif year_of_quarter==\"2020\" and quarter_of_quarter==1: \n",
    "    list_POS_last_year_in_quarter=list(recursive_file_gen(\"/home/jian/BigLots/\"))\n",
    "    list_POS_last_year_in_quarter=[x for x in list_POS_last_year_in_quarter if \"Daily\" in x and x[-4:]==\".txt\"]\n",
    "    list_POS_last_year_in_quarter=[x for x in list_POS_last_year_in_quarter if \"history\" not in x.lower()]\n",
    "    list_POS_last_year_in_quarter=[x for x in list_POS_last_year_in_quarter if \"2019\" in x]\n",
    "    list_POS_last_year_in_quarter=[x for x in list_POS_last_year_in_quarter if \"2019-02-09\" not in x]\n",
    "\n",
    "    list_POS_last_year_in_quarter=[x for x in list_POS_last_year_in_quarter if x.split(\"/MediaStorm_\")[1][:10]>=str(current_quarter_beginning_last_year)]\n",
    "    list_POS_last_year_in_quarter=[x for x in list_POS_last_year_in_quarter if x.split(\"/MediaStorm_\")[1][:10]<=str(last_year_end_week_in_quarter)]\n",
    "    list_POS_last_year_in_quarter.append(\"/home/jian/BigLots/hist_daily_data_itemlevel_decompressed/MediaStormDailySalesHistory20190209.txt,1156035811,1551304443000\")\n",
    "else:\n",
    "    list_POS_last_year_in_quarter=list(recursive_file_gen(\"/home/jian/BigLots/\"))\n",
    "    list_POS_last_year_in_quarter=[x for x in list_POS_last_year_in_quarter if \"Daily\" in x and x[-4:]==\".txt\"]\n",
    "    list_POS_last_year_in_quarter=[x for x in list_POS_last_year_in_quarter if \"2018\" not in x]\n",
    "    list_POS_last_year_in_quarter=[x for x in list_POS_last_year_in_quarter if \"2017\" not in x]\n",
    "    list_POS_last_year_in_quarter=[x for x in list_POS_last_year_in_quarter if \"2016\" not in x]\n",
    "    list_POS_last_year_in_quarter=[x for x in list_POS_last_year_in_quarter if \"history\" not in x.lower()]\n",
    "    list_POS_last_year_in_quarter=[x for x in list_POS_last_year_in_quarter if x.split(\"/MediaStorm_\")[1][:10]>=str(current_quarter_beginning_last_year)]\n",
    "    list_POS_last_year_in_quarter=[x for x in list_POS_last_year_in_quarter if x.split(\"/MediaStorm_\")[1][:10]<=str(last_year_end_week_in_quarter)]\n",
    "\n",
    "\n",
    "# In[10]:\n",
    "\n",
    "list_POS_this_year_in_quarter=list(recursive_file_gen(\"/home/jian/BigLots/\"))\n",
    "list_POS_this_year_in_quarter=[x for x in list_POS_this_year_in_quarter if \"Daily\" in x and x[-4:]==\".txt\"]\n",
    "list_POS_this_year_in_quarter=[x for x in list_POS_this_year_in_quarter if \"2016\" not in x]\n",
    "list_POS_this_year_in_quarter=[x for x in list_POS_this_year_in_quarter if \"2017\" not in x]\n",
    "list_POS_this_year_in_quarter=[x for x in list_POS_this_year_in_quarter if \"2018\" not in x]\n",
    "list_POS_this_year_in_quarter=[x for x in list_POS_this_year_in_quarter if \"histor\" not in x.lower()]\n",
    "list_POS_this_year_in_quarter.sort()\n",
    "list_POS_this_year_in_quarter=[x for x in list_POS_this_year_in_quarter if x.split(\"/MediaStorm_\")[1][:10]>=str(current_quarter_beginning)]\n",
    "# date only >=\n",
    "print(\"len(list_POS_this_year_in_quarter): \"+str(len(list_POS_this_year_in_quarter)))\n",
    "\n",
    "\n",
    "# In[11]:\n",
    "\n",
    "if len(list_POS_this_year_in_quarter)!=current_week or len(list_POS_last_year_in_quarter)!=current_week:\n",
    "    print(str(datetime.datetime.now())+\" | Error: POS file lenthg this year and last year different\")\n",
    "    print(str(datetime.datetime.now())+\" | current_week \"+str(current_week))\n",
    "    \n",
    "    print(str(datetime.datetime.now())+\" | list_POS_this_year_in_quarter \"+str(len(list_POS_this_year_in_quarter)))\n",
    "    print(str(datetime.datetime.now())+\" | list_POS_last_year_in_quarter \"+str(len(list_POS_last_year_in_quarter)))\n",
    "    # break\n",
    "\n",
    "\n",
    "# In[12]:\n",
    "\n",
    "print(datetime.datetime.now())\n",
    "\n",
    "\n",
    "# In[13]:\n",
    "\n",
    "list_sales_this_year=[]\n",
    "list_sales_last_year=[]"
   ]
  },
  {
   "cell_type": "code",
   "execution_count": 14,
   "metadata": {},
   "outputs": [
    {
     "data": {
      "text/plain": [
       "True"
      ]
     },
     "execution_count": 14,
     "metadata": {},
     "output_type": "execute_result"
    }
   ],
   "source": [
    "year_of_quarter==\"2019\" and (quarter_of_quarter==3 or quarter_of_quarter==4)"
   ]
  },
  {
   "cell_type": "code",
   "execution_count": null,
   "metadata": {
    "collapsed": true
   },
   "outputs": [],
   "source": []
  },
  {
   "cell_type": "code",
   "execution_count": 11,
   "metadata": {
    "collapsed": true
   },
   "outputs": [],
   "source": [
    "list_POS_last_year_in_quarter=glob.glob(\"/home/jian/BigLots/hist_daily_data_itemlevel_decompressed/*.txt\")\n",
    "list_POS_last_year_in_quarter=[x for x in list_POS_last_year_in_quarter if x.split(\"/MediaStormDailySalesHistory\")[1][:8]>=str(current_quarter_beginning_last_year).replace(\"-\",\"\")]\n",
    "list_POS_last_year_in_quarter=[x for x in list_POS_last_year_in_quarter if x.split(\"/MediaStormDailySalesHistory\")[1][:8]<=str(last_year_end_week_in_quarter).replace(\"-\",\"\")]"
   ]
  },
  {
   "cell_type": "code",
   "execution_count": 17,
   "metadata": {},
   "outputs": [
    {
     "data": {
      "text/plain": [
       "13"
      ]
     },
     "execution_count": 17,
     "metadata": {},
     "output_type": "execute_result"
    }
   ],
   "source": [
    "len(list_POS_last_year_in_quarter)"
   ]
  },
  {
   "cell_type": "code",
   "execution_count": null,
   "metadata": {
    "collapsed": true
   },
   "outputs": [],
   "source": []
  }
 ],
 "metadata": {
  "kernelspec": {
   "display_name": "Python 3",
   "language": "python",
   "name": "python3"
  },
  "language_info": {
   "codemirror_mode": {
    "name": "ipython",
    "version": 3
   },
   "file_extension": ".py",
   "mimetype": "text/x-python",
   "name": "python",
   "nbconvert_exporter": "python",
   "pygments_lexer": "ipython3",
   "version": "3.6.1"
  }
 },
 "nbformat": 4,
 "nbformat_minor": 2
}
