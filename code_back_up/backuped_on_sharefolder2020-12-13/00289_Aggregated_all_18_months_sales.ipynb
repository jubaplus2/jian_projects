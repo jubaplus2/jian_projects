{
 "cells": [
  {
   "cell_type": "code",
   "execution_count": 1,
   "metadata": {},
   "outputs": [
    {
     "name": "stdout",
     "output_type": "stream",
     "text": [
      "Lapsed Start on: 2018-04-15\n",
      "Active Start on: 2018-10-14\n",
      "Store Allocation Starting on: 2018-04-15\n",
      "Last Saturday: 2019-10-12\n"
     ]
    },
    {
     "data": {
      "text/plain": [
       "'/home/jian/Projects/Big_Lots/Live_Ramp/Quarterly_Update_2019Q4'"
      ]
     },
     "execution_count": 1,
     "metadata": {},
     "output_type": "execute_result"
    }
   ],
   "source": [
    "# upto 20191012\n",
    "# merge email first\n",
    "# then calculate decile\n",
    "# Remove 18+\n",
    "# 90 segments in total\n",
    "# The allocated store mapping is done throught the other code\n",
    "\n",
    "import pandas as pd\n",
    "import numpy as np\n",
    "import os\n",
    "import datetime\n",
    "import logging\n",
    "import hashlib\n",
    "import gc\n",
    "import glob\n",
    "logging.basicConfig(filename='BL_CRM_LR_Quarterly_upto20191012_2019Q4_'+str(datetime.datetime.now().date())+'.log', level=logging.INFO)\n",
    "logging.info('Started')\n",
    "\n",
    "samplerows = None\n",
    "\n",
    "lastdate_date = datetime.date(2019,10,12) # Recent Saturday\n",
    "active_Sunday = str(lastdate_date-datetime.timedelta(days=52*7-1))\n",
    "\n",
    "lapsed_Sunday = str(lastdate_date-datetime.timedelta(days=52*7*1.5-1))\n",
    "Beginning_18_months_ago=str(lastdate_date-datetime.timedelta(days=52*7*1.5-1))\n",
    "\n",
    "lastdate=str(lastdate_date)\n",
    "print(\"Lapsed Start on: \"+lapsed_Sunday) #>=\n",
    "print(\"Active Start on: \"+active_Sunday) #>=\n",
    "print(\"Store Allocation Starting on: \"+Beginning_18_months_ago) #>=\n",
    "print(\"Last Saturday: \"+lastdate) #<=\n",
    "\n",
    "def recursive_file_gen(root_folder):\n",
    "    for root, dirs, files in os.walk(root_folder):\n",
    "        for file in files:\n",
    "            yield os.path.join(root, file)\n",
    "            \n",
    "folder_write = '/home/jian/Projects/Big_Lots/Live_Ramp/Quarterly_Update_2019Q4/output_'+str(datetime.datetime.now().date())+'/'\n",
    "try:\n",
    "    os.stat(folder_write)\n",
    "except:\n",
    "    os.mkdir(folder_write)\n",
    "    \n",
    "os.getcwd()"
   ]
  },
  {
   "cell_type": "code",
   "execution_count": 2,
   "metadata": {
    "collapsed": true
   },
   "outputs": [],
   "source": [
    "historical_subclass_files=glob.glob(\"/home/jian/BigLots/hist_daily_data_subclasslevel/*.txt\")\n",
    "historical_item_files=glob.glob(\"/home/jian/BigLots/hist_daily_data_itemlevel_decompressed/*.txt\")\n",
    "\n",
    "daily_item_files_2019=list(recursive_file_gen(\"/home/jian/BigLots/2019_by_weeks/\"))\n",
    "daily_item_files_2019=[x for x in daily_item_files_2019 if x[-4:]==\".txt\" and \"daily\" in x.lower()]\n",
    "\n",
    "daily_subclass_files_2018=list(recursive_file_gen(\"/home/jian/BigLots/2018_by_weeks/\"))\n",
    "daily_subclass_files_2018=[x for x in daily_subclass_files_2018 if x[-4:]==\".txt\" and \"daily\" in x.lower()]\n",
    "\n",
    "historical_subclass_files.sort()\n",
    "historical_item_files.sort()\n",
    "daily_item_files_2019.sort()\n",
    "daily_subclass_files_2018.sort()\n"
   ]
  },
  {
   "cell_type": "code",
   "execution_count": 3,
   "metadata": {},
   "outputs": [
    {
     "data": {
      "text/plain": [
       "'\\ndf=pd.read_table(historical_subclass_files[-1],dtype=str,sep=\"|\",usecols=[\\'transaction_dt\\'])\\nprint(\"max_date_subclass: \"+str(df[\\'transaction_dt\\'].max()))\\ndel df\\ngc.collect()\\n'"
      ]
     },
     "execution_count": 3,
     "metadata": {},
     "output_type": "execute_result"
    }
   ],
   "source": [
    "# Piece 1: subclass 2018-04-15 to 2018-06-09\n",
    "historical_subclass_files=[x for x in historical_subclass_files if x.split(\"_week_ending_\")[1][:10]>=lapsed_Sunday]\n",
    "'''\n",
    "df=pd.read_table(historical_subclass_files[0],dtype=str,sep=\"|\",usecols=['transaction_dt'])\n",
    "print(\"min_date_subclass: \"+str(df['transaction_dt'].min()))\n",
    "del df\n",
    "gc.collect()\n",
    "'''\n",
    "# historical subclass -- min_date_subclass: 2018-04-15\n",
    "\n",
    "\n",
    "'''\n",
    "df=pd.read_table(historical_subclass_files[-1],dtype=str,sep=\"|\",usecols=['transaction_dt'])\n",
    "print(\"max_date_subclass: \"+str(df['transaction_dt'].max()))\n",
    "del df\n",
    "gc.collect()\n",
    "'''\n",
    "# historical subclass -- max_date_subclass: 2018-06-09\n"
   ]
  },
  {
   "cell_type": "code",
   "execution_count": 4,
   "metadata": {},
   "outputs": [
    {
     "data": {
      "text/plain": [
       "'\\ndf=pd.read_table(daily_subclass_files_2018[-1],dtype=str,sep=\"|\",usecols=[\\'transaction_dt\\'])\\nprint(\"max_date_daily_subclass: \"+str(df[\\'transaction_dt\\'].max()))\\ndel df\\ngc.collect()\\n'"
      ]
     },
     "execution_count": 4,
     "metadata": {},
     "output_type": "execute_result"
    }
   ],
   "source": [
    "# Piece 2: subclass 2018-06-10 to 2018-06-09\n",
    "'''\n",
    "df=pd.read_table(historical_item_files[0],dtype=str,sep=\"|\",usecols=['transaction_dt'])\n",
    "print(\"min_date_historical_item: \"+str(df['transaction_dt'].min()))\n",
    "del df\n",
    "gc.collect()\n",
    "'''\n",
    "# historical item -- min_date_historical_item: 2018-08-05\n",
    "daily_subclass_files_2018=[x for x in daily_subclass_files_2018 if x.split(\"eks/MediaStorm_\")[1][:10]>\"2018-06-09\"]\n",
    "daily_subclass_files_2018=[x for x in daily_subclass_files_2018 if x.split(\"eks/MediaStorm_\")[1][:10]<\"2018-08-05\"]\n",
    "\n",
    "\n",
    "\n",
    "# QC the daily subclass 2018 data range\n",
    "'''\n",
    "df=pd.read_table(daily_subclass_files_2018[0],dtype=str,sep=\"|\",usecols=['transaction_dt'])\n",
    "print(\"min_date_daily_subclass: \"+str(df['transaction_dt'].min()))\n",
    "del df\n",
    "gc.collect()\n",
    "'''\n",
    "# min_date_daily_subclass: 2018-06-10\n",
    "\n",
    "'''\n",
    "df=pd.read_table(daily_subclass_files_2018[-1],dtype=str,sep=\"|\",usecols=['transaction_dt'])\n",
    "print(\"max_date_daily_subclass: \"+str(df['transaction_dt'].max()))\n",
    "del df\n",
    "gc.collect()\n",
    "'''\n",
    "# max_date_daily_subclass: 2018-08-04\n"
   ]
  },
  {
   "cell_type": "code",
   "execution_count": 5,
   "metadata": {},
   "outputs": [
    {
     "data": {
      "text/plain": [
       "'\\ndf=pd.read_table(historical_item_files[-1],dtype=str,sep=\"|\",usecols=[\\'transaction_dt\\'])\\nprint(\"max_date_historical_item: \"+str(df[\\'transaction_dt\\'].max()))\\ndel df\\ngc.collect()\\n'"
      ]
     },
     "execution_count": 5,
     "metadata": {},
     "output_type": "execute_result"
    }
   ],
   "source": [
    "# Piece 3: item 2018-08-05 to 2019-02-09\n",
    "'''\n",
    "df=pd.read_table(historical_item_files[0],dtype=str,sep=\"|\",usecols=['transaction_dt'])\n",
    "print(\"min_date_historical_item: \"+str(df['transaction_dt'].min()))\n",
    "del df\n",
    "gc.collect()\n",
    "'''\n",
    "# min_date_historical_item: 2018-08-05\n",
    "\n",
    "'''\n",
    "df=pd.read_table(historical_item_files[-1],dtype=str,sep=\"|\",usecols=['transaction_dt'])\n",
    "print(\"max_date_historical_item: \"+str(df['transaction_dt'].max()))\n",
    "del df\n",
    "gc.collect()\n",
    "'''\n",
    "# max_date_historical_item: 2019-02-09"
   ]
  },
  {
   "cell_type": "code",
   "execution_count": 6,
   "metadata": {},
   "outputs": [
    {
     "data": {
      "text/plain": [
       "'\\ndf=pd.read_table(daily_item_files_2019[-1],dtype=str,sep=\"|\",usecols=[\\'transaction_dt\\'])\\nprint(\"max_date_daily_item: \"+str(df[\\'transaction_dt\\'].max()))\\ndel df\\ngc.collect()\\n'"
      ]
     },
     "execution_count": 6,
     "metadata": {},
     "output_type": "execute_result"
    }
   ],
   "source": [
    "# Piece 4: item 2019-02-10 to 2019-10-12\n",
    "\n",
    "daily_item_files_2019=[x for x in daily_item_files_2019 if x.split(\"_weeks/MediaStorm_\")[1][:10]>=\"2019-02-10\"]\n",
    "\n",
    "\n",
    "#QC\n",
    "'''\n",
    "df=pd.read_table(daily_item_files_2019[0],dtype=str,sep=\"|\",usecols=['transaction_dt'])\n",
    "print(\"min_date_daily_item: \"+str(df['transaction_dt'].min()))\n",
    "del df\n",
    "gc.collect()\n",
    "'''\n",
    "# min_date_daily_item: 2019-02-10\n",
    "\n",
    "'''\n",
    "df=pd.read_table(daily_item_files_2019[-1],dtype=str,sep=\"|\",usecols=['transaction_dt'])\n",
    "print(\"max_date_daily_item: \"+str(df['transaction_dt'].max()))\n",
    "del df\n",
    "gc.collect()\n",
    "'''\n",
    "# max_date_daily_item: 2019-10-12"
   ]
  },
  {
   "cell_type": "code",
   "execution_count": 7,
   "metadata": {
    "collapsed": true
   },
   "outputs": [],
   "source": [
    "list_all_files=historical_subclass_files+daily_subclass_files_2018+historical_item_files+daily_item_files_2019"
   ]
  },
  {
   "cell_type": "code",
   "execution_count": 8,
   "metadata": {
    "scrolled": true
   },
   "outputs": [
    {
     "name": "stdout",
     "output_type": "stream",
     "text": [
      "0 2018-04-15 2018-04-21 2019-10-20 20:23:26.604730 /home/jian/BigLots/hist_daily_data_subclasslevel/MediaStormDailySales_week_ending_2018-04-21.txt\n",
      "1 2018-04-22 2018-04-28 2019-10-20 20:25:59.289053 /home/jian/BigLots/hist_daily_data_subclasslevel/MediaStormDailySales_week_ending_2018-04-28.txt\n",
      "2 2018-04-29 2018-05-05 2019-10-20 20:27:56.742188 /home/jian/BigLots/hist_daily_data_subclasslevel/MediaStormDailySales_week_ending_2018-05-05.txt\n",
      "3 2018-05-06 2018-05-12 2019-10-20 20:29:21.267092 /home/jian/BigLots/hist_daily_data_subclasslevel/MediaStormDailySales_week_ending_2018-05-12.txt\n",
      "4 2018-05-13 2018-05-19 2019-10-20 20:30:37.689063 /home/jian/BigLots/hist_daily_data_subclasslevel/MediaStormDailySales_week_ending_2018-05-19.txt\n",
      "5 2018-05-20 2018-05-26 2019-10-20 20:32:14.856816 /home/jian/BigLots/hist_daily_data_subclasslevel/MediaStormDailySales_week_ending_2018-05-26.txt\n",
      "6 2018-05-27 2018-06-02 2019-10-20 20:33:50.509112 /home/jian/BigLots/hist_daily_data_subclasslevel/MediaStormDailySales_week_ending_2018-06-02.txt\n",
      "7 2018-06-03 2018-06-09 2019-10-20 20:35:32.911084 /home/jian/BigLots/hist_daily_data_subclasslevel/MediaStormDailySales_week_ending_2018-06-09.txt\n",
      "8 2018-06-10 2018-06-16 2019-10-20 20:37:11.161932 /home/jian/BigLots/2018_by_weeks/MediaStorm_2018-06-16/MediaStormDailySales.txt\n",
      "9 2018-06-17 2018-06-23 2019-10-20 20:38:43.809044 /home/jian/BigLots/2018_by_weeks/MediaStorm_2018-06-23/MediaStormDailySales.txt\n",
      "10 2018-06-24 2018-06-30 2019-10-20 20:40:27.351825 /home/jian/BigLots/2018_by_weeks/MediaStorm_2018-06-30/MediaStormDailySales.txt\n",
      "11 2018-07-01 2018-07-07 2019-10-20 20:43:23.954979 /home/jian/BigLots/2018_by_weeks/MediaStorm_2018-07-07/MediaStormDailySales.txt\n",
      "12 2018-07-08 2018-07-14 2019-10-20 20:46:25.540704 /home/jian/BigLots/2018_by_weeks/MediaStorm_2018-07-14/MediaStormDailySales20180717-113630-767.txt\n",
      "13 2018-07-15 2018-07-21 2019-10-20 20:47:36.323484 /home/jian/BigLots/2018_by_weeks/MediaStorm_2018-07-21/MediaStormDailySales20180724-113327-741.txt\n",
      "14 2018-07-22 2018-07-28 2019-10-20 20:49:20.525838 /home/jian/BigLots/2018_by_weeks/MediaStorm_2018-07-28/MediaStormDailySales20180731-111804-489.txt\n",
      "15 2018-07-29 2018-08-04 2019-10-20 20:51:25.444212 /home/jian/BigLots/2018_by_weeks/MediaStorm_2018-08-04/MediaStormDailySales20180807-111637-702.txt\n",
      "16 2018-08-05 2018-08-11 2019-10-20 20:54:16.980368 /home/jian/BigLots/hist_daily_data_itemlevel_decompressed/MediaStormDailySalesHistory20180811.txt\n",
      "17 2018-08-12 2018-08-18 2019-10-20 20:57:56.408618 /home/jian/BigLots/hist_daily_data_itemlevel_decompressed/MediaStormDailySalesHistory20180818.txt\n",
      "18 2018-08-19 2018-08-25 2019-10-20 21:01:33.271317 /home/jian/BigLots/hist_daily_data_itemlevel_decompressed/MediaStormDailySalesHistory20180825.txt\n",
      "19 2018-08-26 2018-09-01 2019-10-20 21:04:32.424655 /home/jian/BigLots/hist_daily_data_itemlevel_decompressed/MediaStormDailySalesHistory20180901.txt\n",
      "20 2018-09-02 2018-09-08 2019-10-20 21:07:56.434513 /home/jian/BigLots/hist_daily_data_itemlevel_decompressed/MediaStormDailySalesHistory20180908.txt\n",
      "21 2018-09-09 2018-09-15 2019-10-20 21:11:12.490345 /home/jian/BigLots/hist_daily_data_itemlevel_decompressed/MediaStormDailySalesHistory20180915.txt\n",
      "22 2018-09-16 2018-09-22 2019-10-20 21:14:16.760639 /home/jian/BigLots/hist_daily_data_itemlevel_decompressed/MediaStormDailySalesHistory20180922.txt\n",
      "23 2018-09-23 2018-09-29 2019-10-20 21:17:42.174197 /home/jian/BigLots/hist_daily_data_itemlevel_decompressed/MediaStormDailySalesHistory20180929.txt\n",
      "24 2018-09-30 2018-10-06 2019-10-20 21:20:50.572692 /home/jian/BigLots/hist_daily_data_itemlevel_decompressed/MediaStormDailySalesHistory20181006.txt\n",
      "25 2018-10-07 2018-10-13 2019-10-20 21:21:49.707750 /home/jian/BigLots/hist_daily_data_itemlevel_decompressed/MediaStormDailySalesHistory20181013.txt\n",
      "26 2018-10-14 2018-10-20 2019-10-20 21:23:25.966579 /home/jian/BigLots/hist_daily_data_itemlevel_decompressed/MediaStormDailySalesHistory20181020.txt\n",
      "27 2018-10-21 2018-10-27 2019-10-20 21:25:15.216419 /home/jian/BigLots/hist_daily_data_itemlevel_decompressed/MediaStormDailySalesHistory20181027.txt\n",
      "28 2018-10-28 2018-11-03 2019-10-20 21:26:56.116339 /home/jian/BigLots/hist_daily_data_itemlevel_decompressed/MediaStormDailySalesHistory20181103.txt\n",
      "29 2018-11-04 2018-11-10 2019-10-20 21:29:18.226306 /home/jian/BigLots/hist_daily_data_itemlevel_decompressed/MediaStormDailySalesHistory20181110.txt\n",
      "30 2018-11-11 2018-11-17 2019-10-20 21:31:10.869270 /home/jian/BigLots/hist_daily_data_itemlevel_decompressed/MediaStormDailySalesHistory20181117.txt\n",
      "31 2018-11-18 2018-11-24 2019-10-20 21:34:30.679208 /home/jian/BigLots/hist_daily_data_itemlevel_decompressed/MediaStormDailySalesHistory20181124.txt\n",
      "32 2018-11-25 2018-12-01 2019-10-20 21:37:58.116677 /home/jian/BigLots/hist_daily_data_itemlevel_decompressed/MediaStormDailySalesHistory20181201.txt\n",
      "33 2018-12-02 2018-12-08 2019-10-20 21:41:09.661626 /home/jian/BigLots/hist_daily_data_itemlevel_decompressed/MediaStormDailySalesHistory20181208.txt\n",
      "34 2018-12-09 2018-12-15 2019-10-20 21:44:20.011001 /home/jian/BigLots/hist_daily_data_itemlevel_decompressed/MediaStormDailySalesHistory20181215.txt\n",
      "35 2018-12-16 2018-12-22 2019-10-20 21:48:54.974698 /home/jian/BigLots/hist_daily_data_itemlevel_decompressed/MediaStormDailySalesHistory20181222.txt\n",
      "36 2018-12-23 2018-12-29 2019-10-20 21:50:54.621133 /home/jian/BigLots/hist_daily_data_itemlevel_decompressed/MediaStormDailySalesHistory20181229.txt\n",
      "37 2018-12-30 2019-01-05 2019-10-20 21:51:53.830815 /home/jian/BigLots/hist_daily_data_itemlevel_decompressed/MediaStormDailySalesHistory20190105.txt\n",
      "38 2019-01-06 2019-01-12 2019-10-20 21:53:11.686187 /home/jian/BigLots/hist_daily_data_itemlevel_decompressed/MediaStormDailySalesHistory20190112.txt\n",
      "39 2019-01-13 2019-01-19 2019-10-20 21:54:29.284036 /home/jian/BigLots/hist_daily_data_itemlevel_decompressed/MediaStormDailySalesHistory20190119.txt\n",
      "40 2019-01-20 2019-01-26 2019-10-20 21:55:59.779738 /home/jian/BigLots/hist_daily_data_itemlevel_decompressed/MediaStormDailySalesHistory20190126.txt\n",
      "41 2019-01-27 2019-02-02 2019-10-20 21:57:23.731378 /home/jian/BigLots/hist_daily_data_itemlevel_decompressed/MediaStormDailySalesHistory20190202.txt\n",
      "42 2019-02-03 2019-02-09 2019-10-20 21:58:42.739348 /home/jian/BigLots/hist_daily_data_itemlevel_decompressed/MediaStormDailySalesHistory20190209.txt\n",
      "43 2019-02-10 2019-02-16 2019-10-20 22:00:42.726567 /home/jian/BigLots/2019_by_weeks/MediaStorm_2019-02-16/MediaStormDailySales20190219-113605-481.txt\n",
      "44 2019-02-17 2019-02-23 2019-10-20 22:02:10.414678 /home/jian/BigLots/2019_by_weeks/MediaStorm_2019-02-23/MediaStormDailySales20190226-112611-940.txt\n",
      "45 2019-02-24 2019-03-02 2019-10-20 22:03:47.246127 /home/jian/BigLots/2019_by_weeks/MediaStorm_2019-03-02/MediaStormDailySales20190305-112738-899.txt\n",
      "46 2019-03-03 2019-03-09 2019-10-20 22:05:14.993692 /home/jian/BigLots/2019_by_weeks/MediaStorm_2019-03-09/MediaStormDailySales20190312-121205-996.txt\n",
      "47 2019-03-10 2019-03-16 2019-10-20 22:06:41.712754 /home/jian/BigLots/2019_by_weeks/MediaStorm_2019-03-16/MediaStormDailySales20190319-112334-057.txt\n",
      "48 2019-03-17 2019-03-23 2019-10-20 22:08:15.400791 /home/jian/BigLots/2019_by_weeks/MediaStorm_2019-03-23/MediaStormDailySales20190326-112740-903.txt\n",
      "49 2019-03-24 2019-03-30 2019-10-20 22:09:49.427155 /home/jian/BigLots/2019_by_weeks/MediaStorm_2019-03-30/MediaStormDailySales20190402-112556-551.txt\n",
      "50 2019-03-31 2019-04-06 2019-10-20 22:11:46.054726 /home/jian/BigLots/2019_by_weeks/MediaStorm_2019-04-06/MediaStormDailySales20190409-122759-093.txt\n",
      "51 2019-04-07 2019-04-13 2019-10-20 22:13:40.255710 /home/jian/BigLots/2019_by_weeks/MediaStorm_2019-04-13/MediaStormDailySales20190416-112824-908.txt\n",
      "52 2019-04-14 2019-04-20 2019-10-20 22:15:14.562276 /home/jian/BigLots/2019_by_weeks/MediaStorm_2019-04-20/MediaStormDailySales20190423-112124-771.txt\n",
      "53 2019-04-21 2019-04-27 2019-10-20 22:16:27.806999 /home/jian/BigLots/2019_by_weeks/MediaStorm_2019-04-27/MediaStormDailySales20190430-112453-448.txt\n",
      "54 2019-04-28 2019-05-04 2019-10-20 22:17:54.327875 /home/jian/BigLots/2019_by_weeks/MediaStorm_2019-05-04/MediaStormDailySales20190507-113110-141.txt\n",
      "55 2019-05-05 2019-05-11 2019-10-20 22:19:01.329292 /home/jian/BigLots/2019_by_weeks/MediaStorm_2019-05-11/MediaStormDailySales20190514-121223-405.txt\n"
     ]
    },
    {
     "name": "stdout",
     "output_type": "stream",
     "text": [
      "56 2019-05-12 2019-05-18 2019-10-20 22:20:03.519576 /home/jian/BigLots/2019_by_weeks/MediaStorm_2019-05-18/MediaStormDailySales20190521-111232-391.txt\n",
      "57 2019-05-19 2019-05-25 2019-10-20 22:21:15.833088 /home/jian/BigLots/2019_by_weeks/MediaStorm_2019-05-25/MediaStormDailySales20190528-111211-863.txt\n",
      "58 2019-05-26 2019-06-01 2019-10-20 22:22:30.437114 /home/jian/BigLots/2019_by_weeks/MediaStorm_2019-06-01/MediaStormDailySales20190604-111936-950.txt\n",
      "59 2019-06-02 2019-06-08 2019-10-20 22:23:43.027924 /home/jian/BigLots/2019_by_weeks/MediaStorm_2019-06-08/MediaStormDailySales20190611-122013-442.txt\n",
      "60 2019-06-09 2019-06-15 2019-10-20 22:24:54.967568 /home/jian/BigLots/2019_by_weeks/MediaStorm_2019-06-15/MediaStormDailySales20190618-112500-846.txt\n",
      "61 2019-06-16 2019-06-22 2019-10-20 22:25:59.105282 /home/jian/BigLots/2019_by_weeks/MediaStorm_2019-06-22/MediaStormDailySales20190625-111927-257.txt\n",
      "62 2019-06-23 2019-06-29 2019-10-20 22:27:06.436774 /home/jian/BigLots/2019_by_weeks/MediaStorm_2019-06-29/MediaStormDailySales20190702-113523-928.txt\n",
      "63 2019-06-30 2019-07-06 2019-10-20 22:28:23.370257 /home/jian/BigLots/2019_by_weeks/MediaStorm_2019-07-06/MediaStormDailySales20190709-115715-409.txt\n",
      "64 2019-07-07 2019-07-13 2019-10-20 22:29:55.106918 /home/jian/BigLots/2019_by_weeks/MediaStorm_2019-07-13/MediaStormDailySales20190716-122903-926.txt\n",
      "65 2019-07-14 2019-07-20 2019-10-20 22:31:26.277065 /home/jian/BigLots/2019_by_weeks/MediaStorm_2019-07-20/MediaStormDailySales20190723-112837-593.txt\n",
      "66 2019-07-21 2019-07-27 2019-10-20 22:32:35.216079 /home/jian/BigLots/2019_by_weeks/MediaStorm_2019-07-27/MediaStormDailySales20190730-113653-224.txt\n",
      "67 2019-07-28 2019-08-03 2019-10-20 22:33:44.437508 /home/jian/BigLots/2019_by_weeks/MediaStorm_2019-08-03/MediaStormDailySales20190806-113917-862.txt\n",
      "68 2019-08-04 2019-08-10 2019-10-20 22:34:51.672046 /home/jian/BigLots/2019_by_weeks/MediaStorm_2019-08-10/MediaStormDailySales20190813-120541-143.txt\n",
      "69 2019-08-11 2019-08-17 2019-10-20 22:36:02.087096 /home/jian/BigLots/2019_by_weeks/MediaStorm_2019-08-17/MediaStormDailySales20190820-113628-440.txt\n",
      "70 2019-08-18 2019-08-24 2019-10-20 22:37:16.552978 /home/jian/BigLots/2019_by_weeks/MediaStorm_2019-08-24/MediaStormDailySales20190827-113630-114.txt\n",
      "71 2019-08-25 2019-08-31 2019-10-20 22:38:29.671461 /home/jian/BigLots/2019_by_weeks/MediaStorm_2019-08-31/MediaStormDailySales20190903-113649-462.txt\n",
      "72 2019-09-01 2019-09-07 2019-10-20 22:39:25.805351 /home/jian/BigLots/2019_by_weeks/MediaStorm_2019-09-07/MediaStormDailySales20190910-120643-163.txt\n",
      "73 2019-09-08 2019-09-14 2019-10-20 22:40:32.631944 /home/jian/BigLots/2019_by_weeks/MediaStorm_2019-09-14/MediaStormDailySales20190917-110425-322.txt\n",
      "74 2019-09-15 2019-09-21 2019-10-20 22:41:39.018375 /home/jian/BigLots/2019_by_weeks/MediaStorm_2019-09-21/MediaStormDailySales20190924-112126-506.txt\n",
      "75 2019-09-22 2019-09-28 2019-10-20 22:43:09.242872 /home/jian/BigLots/2019_by_weeks/MediaStorm_2019-09-28/MediaStormDailySales20191001-111241-312.txt\n",
      "76 2019-09-29 2019-10-05 2019-10-20 22:44:26.321425 /home/jian/BigLots/2019_by_weeks/MediaStorm_2019-10-05/MediaStormDailySales20191008-120723-038.txt\n",
      "77 2019-10-06 2019-10-12 2019-10-20 22:45:34.574784 /home/jian/BigLots/2019_by_weeks/MediaStorm_2019-10-12/MediaStormDailySales20191015-111135-657.txt\n"
     ]
    }
   ],
   "source": [
    "list_df_transactions_18_months=[]\n",
    "i_counter=0\n",
    "for file in list_all_files:\n",
    "    try:\n",
    "        df=pd.read_table(file,dtype=str,sep=\"|\",usecols=['customer_id_hashed','transaction_dt','transaction_id','location_id','item_transaction_amt'])\n",
    "        df=df.rename(columns={\"item_transaction_amt\":\"sales\"})\n",
    "    except:\n",
    "        df=pd.read_table(file,dtype=str,sep=\"|\",usecols=['customer_id_hashed','transaction_dt','transaction_id','location_id','subclass_transaction_amt'])\n",
    "        df=df.rename(columns={\"subclass_transaction_amt\":\"sales\"})\n",
    "    df=df[pd.notnull(df['customer_id_hashed'])]\n",
    "    df['sales']=df['sales'].astype(float)\n",
    "    df_sales=df.groupby(['customer_id_hashed','transaction_dt'])['sales'].sum().to_frame().reset_index()\n",
    "    \n",
    "    df_trans=df[['customer_id_hashed','transaction_dt','transaction_id','location_id']].drop_duplicates()\n",
    "    df_trans['trans']=1\n",
    "    df_trans=df_trans.groupby(['customer_id_hashed','transaction_dt'])['trans'].sum().to_frame().reset_index()\n",
    "    df=pd.merge(df_sales,df_trans,on=[\"customer_id_hashed\",'transaction_dt'],how=\"outer\")\n",
    "\n",
    "    print(i_counter,df['transaction_dt'].min(),df['transaction_dt'].max(),datetime.datetime.now(),file)\n",
    "    i_counter+=1\n",
    "    list_df_transactions_18_months.append(df)"
   ]
  },
  {
   "cell_type": "code",
   "execution_count": 9,
   "metadata": {},
   "outputs": [
    {
     "name": "stdout",
     "output_type": "stream",
     "text": [
      "len(list_df_transactions_18_months):78\n",
      "df_transactions_18_months.shape:(104765937, 4)\n",
      "df_transactions_18_months['transaction_dt'].nunique():546\n",
      "df_transactions_18_months['customer_id_hashed'].nunique():21652333\n",
      "date_range: 2018-04-15 | 2019-10-12\n"
     ]
    }
   ],
   "source": [
    "print(\"len(list_df_transactions_18_months):\" +str(len(list_df_transactions_18_months)))\n",
    "df_transactions_18_months=pd.concat(list_df_transactions_18_months)\n",
    "print(\"df_transactions_18_months.shape:\" +str(df_transactions_18_months.shape))\n",
    "print(\"df_transactions_18_months['transaction_dt'].nunique():\" +str(df_transactions_18_months['transaction_dt'].nunique()))\n",
    "print(\"df_transactions_18_months['customer_id_hashed'].nunique():\" +str(df_transactions_18_months['customer_id_hashed'].nunique()))\n",
    "print(\"date_range: \"+str(df_transactions_18_months['transaction_dt'].min())+\" | \"+str(df_transactions_18_months['transaction_dt'].max()))"
   ]
  },
  {
   "cell_type": "code",
   "execution_count": 10,
   "metadata": {
    "collapsed": true
   },
   "outputs": [],
   "source": [
    "df_transactions_18_months.to_csv(folder_write+\"BL_sales_trans_by_id_date_JL_\"+str(datetime.datetime.now().date())+\".csv\",index=False)"
   ]
  }
 ],
 "metadata": {
  "kernelspec": {
   "display_name": "Python 3",
   "language": "python",
   "name": "python3"
  },
  "language_info": {
   "codemirror_mode": {
    "name": "ipython",
    "version": 3
   },
   "file_extension": ".py",
   "mimetype": "text/x-python",
   "name": "python",
   "nbconvert_exporter": "python",
   "pygments_lexer": "ipython3",
   "version": "3.6.1"
  }
 },
 "nbformat": 4,
 "nbformat_minor": 2
}
