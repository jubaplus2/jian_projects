{
 "cells": [
  {
   "cell_type": "code",
   "execution_count": 1,
   "metadata": {},
   "outputs": [],
   "source": [
    "import pandas as pd\n",
    "import numpy as np\n",
    "import datetime\n",
    "import os\n",
    "import glob\n",
    "import json\n",
    "from haversine import haversine\n",
    "\n",
    "pd.options.display.max_columns=999\n",
    "os.getcwd()\n",
    "import gc\n",
    "# Get teenagers and mothers only"
   ]
  },
  {
   "cell_type": "markdown",
   "metadata": {},
   "source": [
    "# Get all of the POI places"
   ]
  },
  {
   "cell_type": "code",
   "execution_count": 2,
   "metadata": {},
   "outputs": [],
   "source": [
    "# requested of Walmart"
   ]
  },
  {
   "cell_type": "code",
   "execution_count": 3,
   "metadata": {},
   "outputs": [
    {
     "data": {
      "text/plain": [
       "0"
      ]
     },
     "execution_count": 3,
     "metadata": {},
     "output_type": "execute_result"
    }
   ],
   "source": [
    "df_brand_info=pd.read_csv(\"/home/jian/Docs/POI/places_20200406/part-00000-tid-3169497161568699755-0a71d798-e636-4e2f-949e-02e4669f577c-43-c000.csv.gz\",\n",
    "                          compression=\"gzip\",dtype=str,sep=\"|\")\n",
    "df_brand_info_wmt=df_brand_info[df_brand_info['brand_name'].apply(lambda x: \"walmart\" in x.lower())]\n",
    "list_brand_names=df_brand_info_wmt['brand_name'].unique().tolist()\n",
    "del df_brand_info\n",
    "del df_brand_info_wmt\n",
    "gc.collect()"
   ]
  },
  {
   "cell_type": "code",
   "execution_count": 4,
   "metadata": {},
   "outputs": [],
   "source": [
    "list_files_POI=glob.glob(\"/home/jian/Docs/POI/places_20200406/*\")\n",
    "list_files_POI=[x for x in list_files_POI if \"poi\" in os.path.basename(x).lower()]"
   ]
  },
  {
   "cell_type": "code",
   "execution_count": 5,
   "metadata": {},
   "outputs": [
    {
     "data": {
      "text/plain": [
       "['walmart', 'walmart inc']"
      ]
     },
     "execution_count": 5,
     "metadata": {},
     "output_type": "execute_result"
    }
   ],
   "source": [
    "list_brand_names"
   ]
  },
  {
   "cell_type": "code",
   "execution_count": 6,
   "metadata": {},
   "outputs": [
    {
     "name": "stdout",
     "output_type": "stream",
     "text": [
      "(4693, 22) 4693\n",
      "['Walmart']\n",
      "['Walmart', 'Walmart Supercenter', 'Wal Mart Supercenter', 'Alice Walmart Center', 'Plainview Walmart Center', 'Morris Super Walmart']\n"
     ]
    }
   ],
   "source": [
    "df_walmart_location=pd.DataFrame()\n",
    "for file in list_files_POI:\n",
    "    df=pd.read_csv(file,dtype=str,compression=\"gzip\",sep=\",\")\n",
    "    for brand_name in list_brand_names:\n",
    "        df_b=df[df['brands'].apply(lambda x: brand_name in str(x).lower())]\n",
    "        df_walmart_location=df_walmart_location.append(df_b)\n",
    "print(df_walmart_location.shape,df_walmart_location['safegraph_place_id'].nunique())\n",
    "print(df_walmart_location['brands'].unique().tolist())\n",
    "print(df_walmart_location['location_name'].unique().tolist())"
   ]
  },
  {
   "cell_type": "code",
   "execution_count": 7,
   "metadata": {},
   "outputs": [
    {
     "data": {
      "text/html": [
       "<div>\n",
       "<style scoped>\n",
       "    .dataframe tbody tr th:only-of-type {\n",
       "        vertical-align: middle;\n",
       "    }\n",
       "\n",
       "    .dataframe tbody tr th {\n",
       "        vertical-align: top;\n",
       "    }\n",
       "\n",
       "    .dataframe thead th {\n",
       "        text-align: right;\n",
       "    }\n",
       "</style>\n",
       "<table border=\"1\" class=\"dataframe\">\n",
       "  <thead>\n",
       "    <tr style=\"text-align: right;\">\n",
       "      <th></th>\n",
       "      <th>safegraph_place_id</th>\n",
       "      <th>location_name</th>\n",
       "      <th>brands</th>\n",
       "      <th>street_address</th>\n",
       "      <th>city</th>\n",
       "      <th>region</th>\n",
       "      <th>postal_code</th>\n",
       "      <th>latitude</th>\n",
       "      <th>longitude</th>\n",
       "    </tr>\n",
       "  </thead>\n",
       "  <tbody>\n",
       "    <tr>\n",
       "      <th>921</th>\n",
       "      <td>sg:43f385d5026e4fffb55bbd42f0a91302</td>\n",
       "      <td>Walmart</td>\n",
       "      <td>Walmart</td>\n",
       "      <td>2400 Veterans Memorial Pkwy</td>\n",
       "      <td>Orange City</td>\n",
       "      <td>FL</td>\n",
       "      <td>32763</td>\n",
       "      <td>28.913804</td>\n",
       "      <td>-81.278884</td>\n",
       "    </tr>\n",
       "    <tr>\n",
       "      <th>1045</th>\n",
       "      <td>sg:4a8dc2497b1441ca8292e9ed302dd966</td>\n",
       "      <td>Walmart</td>\n",
       "      <td>Walmart</td>\n",
       "      <td>201 Gateway Blvd</td>\n",
       "      <td>Rock Springs</td>\n",
       "      <td>WY</td>\n",
       "      <td>82901</td>\n",
       "      <td>41.580524</td>\n",
       "      <td>-109.251274</td>\n",
       "    </tr>\n",
       "  </tbody>\n",
       "</table>\n",
       "</div>"
      ],
      "text/plain": [
       "                       safegraph_place_id location_name   brands  \\\n",
       "921   sg:43f385d5026e4fffb55bbd42f0a91302       Walmart  Walmart   \n",
       "1045  sg:4a8dc2497b1441ca8292e9ed302dd966       Walmart  Walmart   \n",
       "\n",
       "                   street_address          city region postal_code   latitude  \\\n",
       "921   2400 Veterans Memorial Pkwy   Orange City     FL       32763  28.913804   \n",
       "1045             201 Gateway Blvd  Rock Springs     WY       82901  41.580524   \n",
       "\n",
       "       longitude  \n",
       "921   -81.278884  \n",
       "1045 -109.251274  "
      ]
     },
     "execution_count": 7,
     "metadata": {},
     "output_type": "execute_result"
    }
   ],
   "source": [
    "df_walmart_location=df_walmart_location[['safegraph_place_id','location_name','brands','street_address','city','region','postal_code','latitude','longitude']]\n",
    "df_walmart_location['latitude']=df_walmart_location['latitude'].astype(float)\n",
    "df_walmart_location['longitude']=df_walmart_location['longitude'].astype(float)\n",
    "df_walmart_location.head(2)"
   ]
  },
  {
   "cell_type": "code",
   "execution_count": 8,
   "metadata": {},
   "outputs": [
    {
     "data": {
      "text/html": [
       "<div>\n",
       "<style scoped>\n",
       "    .dataframe tbody tr th:only-of-type {\n",
       "        vertical-align: middle;\n",
       "    }\n",
       "\n",
       "    .dataframe tbody tr th {\n",
       "        vertical-align: top;\n",
       "    }\n",
       "\n",
       "    .dataframe thead th {\n",
       "        text-align: right;\n",
       "    }\n",
       "</style>\n",
       "<table border=\"1\" class=\"dataframe\">\n",
       "  <thead>\n",
       "    <tr style=\"text-align: right;\">\n",
       "      <th></th>\n",
       "      <th>safegraph_place_id</th>\n",
       "      <th>location_name</th>\n",
       "      <th>brands</th>\n",
       "      <th>street_address</th>\n",
       "      <th>city</th>\n",
       "      <th>region</th>\n",
       "      <th>postal_code</th>\n",
       "      <th>latitude</th>\n",
       "      <th>longitude</th>\n",
       "    </tr>\n",
       "  </thead>\n",
       "  <tbody>\n",
       "    <tr>\n",
       "      <th>921</th>\n",
       "      <td>sg:43f385d5026e4fffb55bbd42f0a91302</td>\n",
       "      <td>Walmart</td>\n",
       "      <td>Walmart</td>\n",
       "      <td>2400 Veterans Memorial Pkwy</td>\n",
       "      <td>Orange City</td>\n",
       "      <td>FL</td>\n",
       "      <td>32763</td>\n",
       "      <td>28.913804</td>\n",
       "      <td>-81.278884</td>\n",
       "    </tr>\n",
       "    <tr>\n",
       "      <th>1045</th>\n",
       "      <td>sg:4a8dc2497b1441ca8292e9ed302dd966</td>\n",
       "      <td>Walmart</td>\n",
       "      <td>Walmart</td>\n",
       "      <td>201 Gateway Blvd</td>\n",
       "      <td>Rock Springs</td>\n",
       "      <td>WY</td>\n",
       "      <td>82901</td>\n",
       "      <td>41.580524</td>\n",
       "      <td>-109.251274</td>\n",
       "    </tr>\n",
       "    <tr>\n",
       "      <th>2126</th>\n",
       "      <td>sg:9c63817bf6194d4b9e696d06444310ac</td>\n",
       "      <td>Walmart</td>\n",
       "      <td>Walmart</td>\n",
       "      <td>12000 Iron Bridge Rd</td>\n",
       "      <td>Chester</td>\n",
       "      <td>VA</td>\n",
       "      <td>23831</td>\n",
       "      <td>37.350503</td>\n",
       "      <td>-77.482775</td>\n",
       "    </tr>\n",
       "    <tr>\n",
       "      <th>2741</th>\n",
       "      <td>sg:cbe350b708b44a02b341ed66b386942f</td>\n",
       "      <td>Walmart</td>\n",
       "      <td>Walmart</td>\n",
       "      <td>4115 Calumet Ave</td>\n",
       "      <td>Manitowoc</td>\n",
       "      <td>WI</td>\n",
       "      <td>54220</td>\n",
       "      <td>44.075956</td>\n",
       "      <td>-87.696784</td>\n",
       "    </tr>\n",
       "    <tr>\n",
       "      <th>3303</th>\n",
       "      <td>sg:f86b790b3e98461a9493853531b5e46c</td>\n",
       "      <td>Walmart</td>\n",
       "      <td>Walmart</td>\n",
       "      <td>2310 E Serene Ave</td>\n",
       "      <td>Las Vegas</td>\n",
       "      <td>NV</td>\n",
       "      <td>89123</td>\n",
       "      <td>36.022987</td>\n",
       "      <td>-115.124299</td>\n",
       "    </tr>\n",
       "    <tr>\n",
       "      <th>...</th>\n",
       "      <td>...</td>\n",
       "      <td>...</td>\n",
       "      <td>...</td>\n",
       "      <td>...</td>\n",
       "      <td>...</td>\n",
       "      <td>...</td>\n",
       "      <td>...</td>\n",
       "      <td>...</td>\n",
       "      <td>...</td>\n",
       "    </tr>\n",
       "    <tr>\n",
       "      <th>532578</th>\n",
       "      <td>sg:2aeb24b60c1144abb891f0c5d77df2a1</td>\n",
       "      <td>Walmart</td>\n",
       "      <td>Walmart</td>\n",
       "      <td>1101 E Prospect Ave</td>\n",
       "      <td>Ponca City</td>\n",
       "      <td>OK</td>\n",
       "      <td>74601</td>\n",
       "      <td>36.741109</td>\n",
       "      <td>-97.071893</td>\n",
       "    </tr>\n",
       "    <tr>\n",
       "      <th>534386</th>\n",
       "      <td>sg:ba81871e7110490287334b713d192cd8</td>\n",
       "      <td>Walmart</td>\n",
       "      <td>Walmart</td>\n",
       "      <td>349 Kinston Hwy</td>\n",
       "      <td>Richlands</td>\n",
       "      <td>NC</td>\n",
       "      <td>28574</td>\n",
       "      <td>34.907981</td>\n",
       "      <td>-77.567338</td>\n",
       "    </tr>\n",
       "    <tr>\n",
       "      <th>535876</th>\n",
       "      <td>sg:30071dbc2cc041e283c406064c904995</td>\n",
       "      <td>Walmart</td>\n",
       "      <td>Walmart</td>\n",
       "      <td>677 Timpany Blvd</td>\n",
       "      <td>Gardner</td>\n",
       "      <td>MA</td>\n",
       "      <td>01440</td>\n",
       "      <td>42.551510</td>\n",
       "      <td>-71.994626</td>\n",
       "    </tr>\n",
       "    <tr>\n",
       "      <th>537429</th>\n",
       "      <td>sg:ac58140ad6634fc487c93b0f9faf2e49</td>\n",
       "      <td>Walmart</td>\n",
       "      <td>Walmart</td>\n",
       "      <td>8450 La Palma Ave</td>\n",
       "      <td>Buena Park</td>\n",
       "      <td>CA</td>\n",
       "      <td>90620</td>\n",
       "      <td>33.844659</td>\n",
       "      <td>-117.986690</td>\n",
       "    </tr>\n",
       "    <tr>\n",
       "      <th>538122</th>\n",
       "      <td>sg:e1f84d5efd81401381127ef5b983d0da</td>\n",
       "      <td>Walmart</td>\n",
       "      <td>Walmart</td>\n",
       "      <td>3651 Classen Blvd</td>\n",
       "      <td>Norman</td>\n",
       "      <td>OK</td>\n",
       "      <td>73071</td>\n",
       "      <td>35.174131</td>\n",
       "      <td>-97.408578</td>\n",
       "    </tr>\n",
       "  </tbody>\n",
       "</table>\n",
       "<p>4693 rows × 9 columns</p>\n",
       "</div>"
      ],
      "text/plain": [
       "                         safegraph_place_id location_name   brands  \\\n",
       "921     sg:43f385d5026e4fffb55bbd42f0a91302       Walmart  Walmart   \n",
       "1045    sg:4a8dc2497b1441ca8292e9ed302dd966       Walmart  Walmart   \n",
       "2126    sg:9c63817bf6194d4b9e696d06444310ac       Walmart  Walmart   \n",
       "2741    sg:cbe350b708b44a02b341ed66b386942f       Walmart  Walmart   \n",
       "3303    sg:f86b790b3e98461a9493853531b5e46c       Walmart  Walmart   \n",
       "...                                     ...           ...      ...   \n",
       "532578  sg:2aeb24b60c1144abb891f0c5d77df2a1       Walmart  Walmart   \n",
       "534386  sg:ba81871e7110490287334b713d192cd8       Walmart  Walmart   \n",
       "535876  sg:30071dbc2cc041e283c406064c904995       Walmart  Walmart   \n",
       "537429  sg:ac58140ad6634fc487c93b0f9faf2e49       Walmart  Walmart   \n",
       "538122  sg:e1f84d5efd81401381127ef5b983d0da       Walmart  Walmart   \n",
       "\n",
       "                     street_address          city region postal_code  \\\n",
       "921     2400 Veterans Memorial Pkwy   Orange City     FL       32763   \n",
       "1045               201 Gateway Blvd  Rock Springs     WY       82901   \n",
       "2126           12000 Iron Bridge Rd       Chester     VA       23831   \n",
       "2741               4115 Calumet Ave     Manitowoc     WI       54220   \n",
       "3303              2310 E Serene Ave     Las Vegas     NV       89123   \n",
       "...                             ...           ...    ...         ...   \n",
       "532578          1101 E Prospect Ave    Ponca City     OK       74601   \n",
       "534386              349 Kinston Hwy     Richlands     NC       28574   \n",
       "535876             677 Timpany Blvd       Gardner     MA       01440   \n",
       "537429            8450 La Palma Ave    Buena Park     CA       90620   \n",
       "538122            3651 Classen Blvd        Norman     OK       73071   \n",
       "\n",
       "         latitude   longitude  \n",
       "921     28.913804  -81.278884  \n",
       "1045    41.580524 -109.251274  \n",
       "2126    37.350503  -77.482775  \n",
       "2741    44.075956  -87.696784  \n",
       "3303    36.022987 -115.124299  \n",
       "...           ...         ...  \n",
       "532578  36.741109  -97.071893  \n",
       "534386  34.907981  -77.567338  \n",
       "535876  42.551510  -71.994626  \n",
       "537429  33.844659 -117.986690  \n",
       "538122  35.174131  -97.408578  \n",
       "\n",
       "[4693 rows x 9 columns]"
      ]
     },
     "execution_count": 8,
     "metadata": {},
     "output_type": "execute_result"
    }
   ],
   "source": [
    "df_walmart_location"
   ]
  },
  {
   "cell_type": "code",
   "execution_count": 9,
   "metadata": {},
   "outputs": [
    {
     "data": {
      "text/plain": [
       "((4693, 9), 4693)"
      ]
     },
     "execution_count": 9,
     "metadata": {},
     "output_type": "execute_result"
    }
   ],
   "source": [
    "df_walmart_location.shape,df_walmart_location['safegraph_place_id'].nunique()"
   ]
  },
  {
   "cell_type": "markdown",
   "metadata": {},
   "source": [
    "# Zips in X miles from the store"
   ]
  },
  {
   "cell_type": "code",
   "execution_count": 10,
   "metadata": {},
   "outputs": [],
   "source": [
    "radius=10\n",
    "zip_centers=json.load(open(\"/home/jian/Docs/Geo_mapping/updated_zip_centers_JL_2019-05-23.json\",\"r\"))"
   ]
  },
  {
   "cell_type": "code",
   "execution_count": 11,
   "metadata": {},
   "outputs": [],
   "source": [
    "df_poi_locations=df_walmart_location[['safegraph_place_id','latitude','longitude']].drop_duplicates()\n",
    "df_poi_locations['coor']=df_poi_locations[['latitude','longitude']].values.tolist()\n",
    "dict_poi_locations=df_poi_locations.set_index(\"safegraph_place_id\").to_dict()['coor']"
   ]
  },
  {
   "cell_type": "code",
   "execution_count": 12,
   "metadata": {},
   "outputs": [
    {
     "name": "stdout",
     "output_type": "stream",
     "text": [
      "100 2020-05-20 18:38:49.537622\n",
      "200 2020-05-20 18:39:03.738872\n",
      "300 2020-05-20 18:39:17.888996\n",
      "400 2020-05-20 18:39:32.066724\n",
      "500 2020-05-20 18:39:46.240662\n",
      "600 2020-05-20 18:40:00.410333\n",
      "700 2020-05-20 18:40:15.108616\n",
      "800 2020-05-20 18:40:30.465589\n",
      "900 2020-05-20 18:40:44.933657\n",
      "1000 2020-05-20 18:40:59.462717\n",
      "1100 2020-05-20 18:41:13.684834\n",
      "1200 2020-05-20 18:41:27.895966\n",
      "1300 2020-05-20 18:41:42.054418\n",
      "1400 2020-05-20 18:41:56.245453\n",
      "1500 2020-05-20 18:42:10.514963\n",
      "1600 2020-05-20 18:42:25.043286\n",
      "1700 2020-05-20 18:42:39.741030\n",
      "1800 2020-05-20 18:42:54.091142\n",
      "1900 2020-05-20 18:43:08.419160\n",
      "2000 2020-05-20 18:43:22.743157\n",
      "2100 2020-05-20 18:43:37.044590\n",
      "2200 2020-05-20 18:43:51.360666\n",
      "2300 2020-05-20 18:44:05.702853\n",
      "2400 2020-05-20 18:44:20.009959\n",
      "2500 2020-05-20 18:44:34.293553\n",
      "2600 2020-05-20 18:44:48.612737\n",
      "2700 2020-05-20 18:45:02.927801\n",
      "2800 2020-05-20 18:45:17.218950\n",
      "2900 2020-05-20 18:45:31.475387\n",
      "3000 2020-05-20 18:45:45.746254\n",
      "3100 2020-05-20 18:46:00.016514\n",
      "3200 2020-05-20 18:46:14.318366\n",
      "3300 2020-05-20 18:46:28.610371\n",
      "3400 2020-05-20 18:46:42.907433\n",
      "3500 2020-05-20 18:46:57.254318\n",
      "3600 2020-05-20 18:47:11.659369\n",
      "3700 2020-05-20 18:47:25.996661\n",
      "3800 2020-05-20 18:47:40.372250\n",
      "3900 2020-05-20 18:47:54.753660\n",
      "4000 2020-05-20 18:48:09.095603\n",
      "4100 2020-05-20 18:48:23.475573\n",
      "4200 2020-05-20 18:48:37.850971\n",
      "4300 2020-05-20 18:48:52.243848\n",
      "4400 2020-05-20 18:49:06.656619\n",
      "4500 2020-05-20 18:49:21.083474\n",
      "4600 2020-05-20 18:49:35.568486\n"
     ]
    }
   ],
   "source": [
    "df_zip_by_poi=pd.DataFrame()\n",
    "i_counter=0\n",
    "for poi_id, poi_coor in dict_poi_locations.items():\n",
    "    list_zips_in_x_miles=[]\n",
    "    for zip_cd, zip_centroid in zip_centers.items():\n",
    "        dist=haversine(poi_coor,zip_centroid,unit=\"mi\")\n",
    "        if dist<=radius:\n",
    "            list_zips_in_x_miles.append(zip_cd)\n",
    "    df=pd.DataFrame({\"zip_cd\":list_zips_in_x_miles},index=[poi_id]*len(list_zips_in_x_miles)).reset_index().rename(columns={\"index\":\"poi_id\"})\n",
    "    \n",
    "    df_zip_by_poi=df_zip_by_poi.append(df)\n",
    "    i_counter+=1\n",
    "    if i_counter%100==0:\n",
    "        print(i_counter,datetime.datetime.now())"
   ]
  },
  {
   "cell_type": "code",
   "execution_count": 13,
   "metadata": {},
   "outputs": [
    {
     "name": "stdout",
     "output_type": "stream",
     "text": [
      "(97329, 2)\n"
     ]
    },
    {
     "data": {
      "text/html": [
       "<div>\n",
       "<style scoped>\n",
       "    .dataframe tbody tr th:only-of-type {\n",
       "        vertical-align: middle;\n",
       "    }\n",
       "\n",
       "    .dataframe tbody tr th {\n",
       "        vertical-align: top;\n",
       "    }\n",
       "\n",
       "    .dataframe thead th {\n",
       "        text-align: right;\n",
       "    }\n",
       "</style>\n",
       "<table border=\"1\" class=\"dataframe\">\n",
       "  <thead>\n",
       "    <tr style=\"text-align: right;\">\n",
       "      <th></th>\n",
       "      <th>poi_id</th>\n",
       "      <th>zip_cd</th>\n",
       "    </tr>\n",
       "  </thead>\n",
       "  <tbody>\n",
       "    <tr>\n",
       "      <th>0</th>\n",
       "      <td>sg:43f385d5026e4fffb55bbd42f0a91302</td>\n",
       "      <td>32744</td>\n",
       "    </tr>\n",
       "    <tr>\n",
       "      <th>1</th>\n",
       "      <td>sg:43f385d5026e4fffb55bbd42f0a91302</td>\n",
       "      <td>32713</td>\n",
       "    </tr>\n",
       "    <tr>\n",
       "      <th>2</th>\n",
       "      <td>sg:43f385d5026e4fffb55bbd42f0a91302</td>\n",
       "      <td>32725</td>\n",
       "    </tr>\n",
       "    <tr>\n",
       "      <th>3</th>\n",
       "      <td>sg:43f385d5026e4fffb55bbd42f0a91302</td>\n",
       "      <td>32724</td>\n",
       "    </tr>\n",
       "  </tbody>\n",
       "</table>\n",
       "</div>"
      ],
      "text/plain": [
       "                                poi_id zip_cd\n",
       "0  sg:43f385d5026e4fffb55bbd42f0a91302  32744\n",
       "1  sg:43f385d5026e4fffb55bbd42f0a91302  32713\n",
       "2  sg:43f385d5026e4fffb55bbd42f0a91302  32725\n",
       "3  sg:43f385d5026e4fffb55bbd42f0a91302  32724"
      ]
     },
     "execution_count": 13,
     "metadata": {},
     "output_type": "execute_result"
    }
   ],
   "source": [
    "print(df_zip_by_poi.shape)\n",
    "df_zip_by_poi.head(4)"
   ]
  },
  {
   "cell_type": "code",
   "execution_count": 14,
   "metadata": {},
   "outputs": [
    {
     "data": {
      "text/plain": [
       "(24126, 1)"
      ]
     },
     "execution_count": 14,
     "metadata": {},
     "output_type": "execute_result"
    }
   ],
   "source": [
    "df_unique_zip_cd_in_10_miles=df_zip_by_poi[['zip_cd']].drop_duplicates()\n",
    "df_unique_zip_cd_in_10_miles.shape"
   ]
  },
  {
   "cell_type": "markdown",
   "metadata": {},
   "source": [
    "# Demo by zip_cd"
   ]
  },
  {
   "cell_type": "code",
   "execution_count": 74,
   "metadata": {},
   "outputs": [
    {
     "data": {
      "text/plain": [
       "'\\n1. zip-4 level EASI (A,B,C 3 parts): \"/home/jian/Docs/EASI/2018-07-19/\"\\n2. ZCTA level Census from the factfinder, need to download new if you want something you need: \"/home/jian/Docs/Household_and_Population/Cencus_2019/\"\\n3. ZCTA to zip_cd (postal code in 5 digit) mapping: \"/home/jian/Docs/Household_and_Population/Cencus_2019/zcta_zip_mapping/zip_to_zcta_2018.xlsx\"\\n'"
      ]
     },
     "execution_count": 74,
     "metadata": {},
     "output_type": "execute_result"
    }
   ],
   "source": [
    "# demo needed:\n",
    "'''\n",
    "population\n",
    "1. age 25-54 (applied the census with the mapping pctg)\n",
    "2. parents with children<age 18 (from EASI zip 4, single with child hh + married with child hh *2)\n",
    "'''  \n",
    "\n",
    "# Demo data\n",
    "'''\n",
    "1. zip-4 level EASI (A,B,C 3 parts): \"/home/jian/Docs/EASI/2018-07-19/\"\n",
    "2. ZCTA level Census from the factfinder, need to download new if you want something you need: \"/home/jian/Docs/Household_and_Population/Cencus_2019/\"\n",
    "3. ZCTA to zip_cd (postal code in 5 digit) mapping: \"/home/jian/Docs/Household_and_Population/Cencus_2019/zcta_zip_mapping/zip_to_zcta_2018.xlsx\"\n",
    "'''"
   ]
  },
  {
   "cell_type": "code",
   "execution_count": 75,
   "metadata": {},
   "outputs": [
    {
     "data": {
      "text/html": [
       "<div>\n",
       "<style scoped>\n",
       "    .dataframe tbody tr th:only-of-type {\n",
       "        vertical-align: middle;\n",
       "    }\n",
       "\n",
       "    .dataframe tbody tr th {\n",
       "        vertical-align: top;\n",
       "    }\n",
       "\n",
       "    .dataframe thead th {\n",
       "        text-align: right;\n",
       "    }\n",
       "</style>\n",
       "<table border=\"1\" class=\"dataframe\">\n",
       "  <thead>\n",
       "    <tr style=\"text-align: right;\">\n",
       "      <th></th>\n",
       "      <th>ZIP_CODE</th>\n",
       "      <th>HH18</th>\n",
       "      <th>parents_with_Children</th>\n",
       "    </tr>\n",
       "  </thead>\n",
       "  <tbody>\n",
       "    <tr>\n",
       "      <th>0</th>\n",
       "      <td>00501</td>\n",
       "      <td>0.0</td>\n",
       "      <td>0.0000</td>\n",
       "    </tr>\n",
       "    <tr>\n",
       "      <th>1</th>\n",
       "      <td>01001</td>\n",
       "      <td>6853.6</td>\n",
       "      <td>2580.7664</td>\n",
       "    </tr>\n",
       "  </tbody>\n",
       "</table>\n",
       "</div>"
      ],
      "text/plain": [
       "  ZIP_CODE    HH18  parents_with_Children\n",
       "0    00501     0.0                 0.0000\n",
       "1    01001  6853.6              2580.7664"
      ]
     },
     "execution_count": 75,
     "metadata": {},
     "output_type": "execute_result"
    }
   ],
   "source": [
    "df_EASI_C=pd.read_csv(\"/home/jian/Docs/EASI/2018-07-19/ZIP4_18_DATA_C2_CSV/ZIP4_18_DATA_C2.CSV\",\n",
    "                      skiprows=1,usecols=['ZIP_CODE','ZIP4','HH18','PCTHHL25','PCTHH25_34','PCTHH35_44','PCTHH45_54','PCTMARC','PCTSPARC'])\n",
    "df_EASI_C['ZIP_CODE']=df_EASI_C['ZIP_CODE'].astype(str).apply(lambda x: x.zfill(5))\n",
    "df_EASI_C['ZIP4']=df_EASI_C['ZIP4'].astype(str).apply(lambda x: x.zfill(4))\n",
    "\n",
    "df_EASI_C['HH_0_25']=df_EASI_C['HH18']*df_EASI_C['PCTHHL25']/100\n",
    "df_EASI_C['HH_25_34']=df_EASI_C['HH18']*df_EASI_C['PCTHH25_34']/100\n",
    "df_EASI_C['HH_35_44']=df_EASI_C['HH18']*df_EASI_C['PCTHH35_44']/100\n",
    "df_EASI_C['HH_45_54']=df_EASI_C['HH18']*df_EASI_C['PCTHH45_54']/100\n",
    "df_EASI_C['HH_25_54']=df_EASI_C['HH_25_34']+df_EASI_C['HH_35_44']+df_EASI_C['HH_45_54']\n",
    "\n",
    "df_EASI_C['HH_MARC']=df_EASI_C['HH18']*df_EASI_C['PCTMARC']/100\n",
    "df_EASI_C['HH_SPARC']=df_EASI_C['HH18']*df_EASI_C['PCTSPARC']/100\n",
    "df_EASI_C['HH_With_Children']=df_EASI_C['HH_MARC']+df_EASI_C['HH_SPARC']\n",
    "df_EASI_C['parents_with_Children']=df_EASI_C['HH_MARC']*2+df_EASI_C['HH_SPARC']\n",
    "\n",
    "df_zip_HH=df_EASI_C.groupby([\"ZIP_CODE\"])['HH18','parents_with_Children'].sum().reset_index()\n",
    "del df_EASI_C\n",
    "gc.collect()\n",
    "df_zip_HH.head(2)"
   ]
  },
  {
   "cell_type": "code",
   "execution_count": 76,
   "metadata": {},
   "outputs": [
    {
     "data": {
      "text/html": [
       "<div>\n",
       "<style scoped>\n",
       "    .dataframe tbody tr th:only-of-type {\n",
       "        vertical-align: middle;\n",
       "    }\n",
       "\n",
       "    .dataframe tbody tr th {\n",
       "        vertical-align: top;\n",
       "    }\n",
       "\n",
       "    .dataframe thead th {\n",
       "        text-align: right;\n",
       "    }\n",
       "</style>\n",
       "<table border=\"1\" class=\"dataframe\">\n",
       "  <thead>\n",
       "    <tr style=\"text-align: right;\">\n",
       "      <th></th>\n",
       "      <th>ZIP_CODE</th>\n",
       "      <th>Households</th>\n",
       "      <th>parents_with_Children</th>\n",
       "    </tr>\n",
       "  </thead>\n",
       "  <tbody>\n",
       "    <tr>\n",
       "      <th>0</th>\n",
       "      <td>00501</td>\n",
       "      <td>0.0</td>\n",
       "      <td>0.00000</td>\n",
       "    </tr>\n",
       "    <tr>\n",
       "      <th>1</th>\n",
       "      <td>01001</td>\n",
       "      <td>6853.6</td>\n",
       "      <td>2580.76640</td>\n",
       "    </tr>\n",
       "    <tr>\n",
       "      <th>2</th>\n",
       "      <td>01002</td>\n",
       "      <td>9835.6</td>\n",
       "      <td>3526.27847</td>\n",
       "    </tr>\n",
       "    <tr>\n",
       "      <th>3</th>\n",
       "      <td>01003</td>\n",
       "      <td>0.0</td>\n",
       "      <td>0.00000</td>\n",
       "    </tr>\n",
       "  </tbody>\n",
       "</table>\n",
       "</div>"
      ],
      "text/plain": [
       "  ZIP_CODE  Households  parents_with_Children\n",
       "0    00501         0.0                0.00000\n",
       "1    01001      6853.6             2580.76640\n",
       "2    01002      9835.6             3526.27847\n",
       "3    01003         0.0                0.00000"
      ]
     },
     "execution_count": 76,
     "metadata": {},
     "output_type": "execute_result"
    }
   ],
   "source": [
    "df_zip_HH=df_zip_HH.rename(columns={\"HH18\":\"Households\"})\n",
    "df_zip_HH.head(4)"
   ]
  },
  {
   "cell_type": "code",
   "execution_count": 77,
   "metadata": {},
   "outputs": [
    {
     "name": "stdout",
     "output_type": "stream",
     "text": [
      "['ziptozcta2017', 'source']\n",
      "(41160, 6)\n",
      "shape (41160, 2)\n",
      "ZIP_CODE nunique 41160\n",
      "ZCTA nunique 33138\n"
     ]
    },
    {
     "data": {
      "text/html": [
       "<div>\n",
       "<style scoped>\n",
       "    .dataframe tbody tr th:only-of-type {\n",
       "        vertical-align: middle;\n",
       "    }\n",
       "\n",
       "    .dataframe tbody tr th {\n",
       "        vertical-align: top;\n",
       "    }\n",
       "\n",
       "    .dataframe thead th {\n",
       "        text-align: right;\n",
       "    }\n",
       "</style>\n",
       "<table border=\"1\" class=\"dataframe\">\n",
       "  <thead>\n",
       "    <tr style=\"text-align: right;\">\n",
       "      <th></th>\n",
       "      <th>ZIP_CODE</th>\n",
       "      <th>ZCTA</th>\n",
       "    </tr>\n",
       "  </thead>\n",
       "  <tbody>\n",
       "    <tr>\n",
       "      <th>0</th>\n",
       "      <td>00501</td>\n",
       "      <td>11742</td>\n",
       "    </tr>\n",
       "    <tr>\n",
       "      <th>1</th>\n",
       "      <td>00544</td>\n",
       "      <td>11742</td>\n",
       "    </tr>\n",
       "    <tr>\n",
       "      <th>2</th>\n",
       "      <td>00601</td>\n",
       "      <td>00601</td>\n",
       "    </tr>\n",
       "    <tr>\n",
       "      <th>3</th>\n",
       "      <td>00602</td>\n",
       "      <td>00602</td>\n",
       "    </tr>\n",
       "    <tr>\n",
       "      <th>4</th>\n",
       "      <td>00603</td>\n",
       "      <td>00603</td>\n",
       "    </tr>\n",
       "  </tbody>\n",
       "</table>\n",
       "</div>"
      ],
      "text/plain": [
       "  ZIP_CODE   ZCTA\n",
       "0    00501  11742\n",
       "1    00544  11742\n",
       "2    00601  00601\n",
       "3    00602  00602\n",
       "4    00603  00603"
      ]
     },
     "execution_count": 77,
     "metadata": {},
     "output_type": "execute_result"
    }
   ],
   "source": [
    "df_zip_ZCTA_mapping=pd.ExcelFile(\"/home/jian/Docs/Household_and_Population/Cencus_2019/zcta_zip_mapping/zip_to_zcta_2018.xlsx\")\n",
    "print(df_zip_ZCTA_mapping.sheet_names)\n",
    "df_zip_ZCTA_mapping=df_zip_ZCTA_mapping.parse(\"ziptozcta2017\",dtype=str)\n",
    "print(df_zip_ZCTA_mapping.shape)\n",
    "df_zip_ZCTA_mapping.head(2)\n",
    "\n",
    "df_zip_ZCTA_mapping=df_zip_ZCTA_mapping[['ZIP_CODE',\"ZCTA\"]].drop_duplicates()\n",
    "print(\"shape\",df_zip_ZCTA_mapping.shape)\n",
    "print(\"ZIP_CODE nunique\",df_zip_ZCTA_mapping['ZIP_CODE'].nunique())\n",
    "print(\"ZCTA nunique\",df_zip_ZCTA_mapping['ZCTA'].nunique())\n",
    "df_zip_ZCTA_mapping.head(5)"
   ]
  },
  {
   "cell_type": "code",
   "execution_count": 78,
   "metadata": {},
   "outputs": [
    {
     "name": "stdout",
     "output_type": "stream",
     "text": [
      "(33120, 459)\n"
     ]
    },
    {
     "name": "stderr",
     "output_type": "stream",
     "text": [
      "/home/jian/.local/lib/python3.6/site-packages/ipykernel_launcher.py:14: SettingWithCopyWarning: \n",
      "A value is trying to be set on a copy of a slice from a DataFrame.\n",
      "Try using .loc[row_indexer,col_indexer] = value instead\n",
      "\n",
      "See the caveats in the documentation: http://pandas.pydata.org/pandas-docs/stable/user_guide/indexing.html#returning-a-view-versus-a-copy\n",
      "  \n",
      "/home/jian/.local/lib/python3.6/site-packages/ipykernel_launcher.py:15: SettingWithCopyWarning: \n",
      "A value is trying to be set on a copy of a slice from a DataFrame.\n",
      "Try using .loc[row_indexer,col_indexer] = value instead\n",
      "\n",
      "See the caveats in the documentation: http://pandas.pydata.org/pandas-docs/stable/user_guide/indexing.html#returning-a-view-versus-a-copy\n",
      "  from ipykernel import kernelapp as app\n"
     ]
    },
    {
     "data": {
      "text/html": [
       "<div>\n",
       "<style scoped>\n",
       "    .dataframe tbody tr th:only-of-type {\n",
       "        vertical-align: middle;\n",
       "    }\n",
       "\n",
       "    .dataframe tbody tr th {\n",
       "        vertical-align: top;\n",
       "    }\n",
       "\n",
       "    .dataframe thead th {\n",
       "        text-align: right;\n",
       "    }\n",
       "</style>\n",
       "<table border=\"1\" class=\"dataframe\">\n",
       "  <thead>\n",
       "    <tr style=\"text-align: right;\">\n",
       "      <th></th>\n",
       "      <th>ZCTA</th>\n",
       "      <th>total_population</th>\n",
       "      <th>population_25_54</th>\n",
       "    </tr>\n",
       "  </thead>\n",
       "  <tbody>\n",
       "    <tr>\n",
       "      <th>0</th>\n",
       "      <td>00601</td>\n",
       "      <td>17599.0</td>\n",
       "      <td>24263.0</td>\n",
       "    </tr>\n",
       "    <tr>\n",
       "      <th>1</th>\n",
       "      <td>00602</td>\n",
       "      <td>39209.0</td>\n",
       "      <td>54729.0</td>\n",
       "    </tr>\n",
       "    <tr>\n",
       "      <th>2</th>\n",
       "      <td>00603</td>\n",
       "      <td>50135.0</td>\n",
       "      <td>69221.0</td>\n",
       "    </tr>\n",
       "  </tbody>\n",
       "</table>\n",
       "</div>"
      ],
      "text/plain": [
       "    ZCTA  total_population  population_25_54\n",
       "0  00601           17599.0           24263.0\n",
       "1  00602           39209.0           54729.0\n",
       "2  00603           50135.0           69221.0"
      ]
     },
     "execution_count": 78,
     "metadata": {},
     "output_type": "execute_result"
    }
   ],
   "source": [
    "census_data_S0101=pd.read_csv(\"/home/jian/Docs/Household_and_Population/Cencus_2019/ACS_17_5YR_S0101_with_ann.csv\",dtype=str,skiprows=1)\n",
    "print(census_data_S0101.shape)\n",
    "\n",
    "census_population_needed=census_data_S0101[['Id2','Total; Estimate; Total population',\n",
    "                                            'Total; Estimate; AGE - 25 to 29 years',\n",
    "                                            'Total; Estimate; AGE - 30 to 34 years',\n",
    "                                            'Total; Estimate; AGE - 35 to 39 years',\n",
    "                                            'Total; Estimate; AGE - 40 to 44 years',\n",
    "                                            'Total; Estimate; AGE - 45 to 49 years',\n",
    "                                            'Total; Estimate; AGE - 50 to 54 years'\n",
    "                                           ]]\n",
    "\n",
    "for col in census_population_needed.columns.tolist()[1:]:\n",
    "    census_population_needed[col]=census_population_needed[col].astype(float)\n",
    "census_population_needed['population_25_54']=census_population_needed[census_population_needed.columns.tolist()[1:]].sum(axis=1)\n",
    "census_population_needed=census_population_needed.rename(columns={\"Id2\":\"ZCTA\",\"Total; Estimate; Total population\":\"total_population\"})\n",
    "census_population_needed=census_population_needed[['ZCTA','total_population','population_25_54']]\n",
    "census_population_needed.head(3)"
   ]
  },
  {
   "cell_type": "code",
   "execution_count": 79,
   "metadata": {},
   "outputs": [
    {
     "data": {
      "text/html": [
       "<div>\n",
       "<style scoped>\n",
       "    .dataframe tbody tr th:only-of-type {\n",
       "        vertical-align: middle;\n",
       "    }\n",
       "\n",
       "    .dataframe tbody tr th {\n",
       "        vertical-align: top;\n",
       "    }\n",
       "\n",
       "    .dataframe thead th {\n",
       "        text-align: right;\n",
       "    }\n",
       "</style>\n",
       "<table border=\"1\" class=\"dataframe\">\n",
       "  <thead>\n",
       "    <tr style=\"text-align: right;\">\n",
       "      <th></th>\n",
       "      <th>ZCTA</th>\n",
       "      <th>total_population</th>\n",
       "      <th>population_25_54</th>\n",
       "    </tr>\n",
       "  </thead>\n",
       "  <tbody>\n",
       "    <tr>\n",
       "      <th>0</th>\n",
       "      <td>00601</td>\n",
       "      <td>17599.0</td>\n",
       "      <td>24263.0</td>\n",
       "    </tr>\n",
       "    <tr>\n",
       "      <th>1</th>\n",
       "      <td>00602</td>\n",
       "      <td>39209.0</td>\n",
       "      <td>54729.0</td>\n",
       "    </tr>\n",
       "  </tbody>\n",
       "</table>\n",
       "</div>"
      ],
      "text/plain": [
       "    ZCTA  total_population  population_25_54\n",
       "0  00601           17599.0           24263.0\n",
       "1  00602           39209.0           54729.0"
      ]
     },
     "execution_count": 79,
     "metadata": {},
     "output_type": "execute_result"
    }
   ],
   "source": [
    "census_population_needed.head(2)"
   ]
  },
  {
   "cell_type": "code",
   "execution_count": 80,
   "metadata": {},
   "outputs": [
    {
     "name": "stdout",
     "output_type": "stream",
     "text": [
      "(6, 5)\n"
     ]
    }
   ],
   "source": [
    "df_census=pd.merge(df_zip_ZCTA_mapping,census_population_needed,on=\"ZCTA\",how=\"outer\")\n",
    "df_census_by_ZCTA=df_census.groupby(['ZCTA'])['total_population'].sum().to_frame().reset_index()\n",
    "df_census_by_ZCTA=df_census_by_ZCTA.rename(columns={\"total_population\":\"ZCTA_level_pop\"})\n",
    "df_census=pd.merge(df_census,df_census_by_ZCTA,on=\"ZCTA\",how=\"left\")\n",
    "print(df_census[pd.isnull(df_census['ZIP_CODE'])].shape)\n",
    "df_census=df_census[pd.notnull(df_census['ZIP_CODE'])]"
   ]
  },
  {
   "cell_type": "code",
   "execution_count": 81,
   "metadata": {},
   "outputs": [
    {
     "name": "stdout",
     "output_type": "stream",
     "text": [
      "(39602, 3) 39602\n",
      "(41160, 5) 41160\n"
     ]
    }
   ],
   "source": [
    "print(df_zip_HH.shape,df_zip_HH['ZIP_CODE'].nunique())\n",
    "print(df_census.shape,df_census['ZIP_CODE'].nunique())"
   ]
  },
  {
   "cell_type": "code",
   "execution_count": 82,
   "metadata": {},
   "outputs": [],
   "source": [
    "df_output=pd.merge(df_zip_HH,df_census,on=\"ZIP_CODE\",how=\"left\")\n",
    "df_output['zip_cd_pctg_of_ZCTA']=df_output['total_population']/df_output['ZCTA_level_pop']\n",
    "df_output['population_25_54_applied']=df_output['population_25_54']*df_output['zip_cd_pctg_of_ZCTA']\n",
    "df_output['total_population_applied']=df_output['total_population']*df_output['zip_cd_pctg_of_ZCTA']"
   ]
  },
  {
   "cell_type": "code",
   "execution_count": 83,
   "metadata": {},
   "outputs": [],
   "source": [
    "df_output=df_output[['ZIP_CODE','Households','parents_with_Children','total_population_applied','population_25_54_applied']]"
   ]
  },
  {
   "cell_type": "code",
   "execution_count": 84,
   "metadata": {},
   "outputs": [],
   "source": [
    "writer=pd.ExcelWriter(\"./To_Joann_US_zips_selected_demo_by_zip_JL_\"+str(datetime.datetime.now().date())+\".xlsx\",engine=\"xlsxwriter\")\n",
    "df_output.to_excel(writer,\"based_on_EASI_and_census\",index=False)\n",
    "df_unique_zip_cd_in_10_miles.to_excel(writer,\"Walmart_10_miles\",index=False)\n",
    "writer.save()"
   ]
  },
  {
   "cell_type": "code",
   "execution_count": null,
   "metadata": {
    "collapsed": true
   },
   "outputs": [],
   "source": []
  }
 ],
 "metadata": {
  "kernelspec": {
   "display_name": "Python 3",
   "language": "python",
   "name": "python3"
  },
  "language_info": {
   "codemirror_mode": {
    "name": "ipython",
    "version": 3
   },
   "file_extension": ".py",
   "mimetype": "text/x-python",
   "name": "python",
   "nbconvert_exporter": "python",
   "pygments_lexer": "ipython3",
   "version": "3.6.1"
  }
 },
 "nbformat": 4,
 "nbformat_minor": 2
}
