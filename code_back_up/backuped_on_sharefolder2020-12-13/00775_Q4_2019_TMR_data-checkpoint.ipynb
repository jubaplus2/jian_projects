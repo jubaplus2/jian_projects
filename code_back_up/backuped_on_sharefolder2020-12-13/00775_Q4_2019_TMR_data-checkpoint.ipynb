{
 "cells": [
  {
   "cell_type": "code",
   "execution_count": 1,
   "metadata": {},
   "outputs": [
    {
     "data": {
      "text/plain": [
       "'/mnt/clients/juba/hqjubaapp02/sharefolder/Media/TMR/TMR_data/Up_to_2019Q4'"
      ]
     },
     "execution_count": 1,
     "metadata": {},
     "output_type": "execute_result"
    }
   ],
   "source": [
    "import pandas as pd\n",
    "import numpy as np\n",
    "import os\n",
    "import datetime\n",
    "import glob\n",
    "os.getcwd()\n",
    "\n",
    "# Note email cpm updated based on the Q4 client number\n",
    "# Flipp hosted not included in wide version"
   ]
  },
  {
   "cell_type": "code",
   "execution_count": 2,
   "metadata": {},
   "outputs": [
    {
     "data": {
      "text/plain": [
       "'/mnt/clients/juba/hqjubaapp02/sharefolder/Media/TMR/TMR_data/Up_to_2019Q4'"
      ]
     },
     "execution_count": 2,
     "metadata": {},
     "output_type": "execute_result"
    }
   ],
   "source": [
    "new_quarter=\"2019Q4\"\n",
    "new_quarter_start_date=\"2019-11-03\"\n",
    "new_quarter_end_date=\"2020-02-01\"\n",
    "os.getcwd()"
   ]
  },
  {
   "cell_type": "code",
   "execution_count": 3,
   "metadata": {},
   "outputs": [],
   "source": [
    "TMR_up_to_2019Q3=pd.read_csv(\"/mnt/clients/juba/hqjubaapp02/sharefolder/Media/TMR/TMR_data/Up_to_2019Q3/output/BL_MMM_long_cumu_up_to_2019Q3_JL_2020-03-06.csv\",dtype=str)\n",
    "TMR_up_to_2019Q3['impression']=TMR_up_to_2019Q3['impression'].astype(float).astype(int)\n",
    "TMR_up_to_2019Q3['click']=TMR_up_to_2019Q3['click'].astype(float).astype(int)\n",
    "TMR_up_to_2019Q3['cost']=TMR_up_to_2019Q3['cost'].astype(float)\n"
   ]
  },
  {
   "cell_type": "code",
   "execution_count": 4,
   "metadata": {},
   "outputs": [
    {
     "name": "stderr",
     "output_type": "stream",
     "text": [
      "/opt/anaconda3/lib/python3.7/site-packages/ipykernel_launcher.py:1: FutureWarning: Indexing with multiple keys (implicitly converted to a tuple of keys) will be deprecated, use a list instead.\n",
      "  \"\"\"Entry point for launching an IPython kernel.\n"
     ]
    },
    {
     "name": "stdout",
     "output_type": "stream",
     "text": [
      "2016-09-25\n",
      "2019-10-27\n"
     ]
    }
   ],
   "source": [
    "TMR_up_to_2019Q3_no_DMA=TMR_up_to_2019Q3.groupby([\"week date\",\"media\",\"submedia\",\"placement\"])['impression','click','cost'].sum().reset_index()\n",
    "print(TMR_up_to_2019Q3_no_DMA['week date'].min())\n",
    "print(TMR_up_to_2019Q3_no_DMA['week date'].max())\n",
    "# TMR_up_to_2019Q3_no_DMA"
   ]
  },
  {
   "cell_type": "code",
   "execution_count": 5,
   "metadata": {},
   "outputs": [
    {
     "data": {
      "text/html": [
       "<div>\n",
       "<style scoped>\n",
       "    .dataframe tbody tr th:only-of-type {\n",
       "        vertical-align: middle;\n",
       "    }\n",
       "\n",
       "    .dataframe tbody tr th {\n",
       "        vertical-align: top;\n",
       "    }\n",
       "\n",
       "    .dataframe thead th {\n",
       "        text-align: right;\n",
       "    }\n",
       "</style>\n",
       "<table border=\"1\" class=\"dataframe\">\n",
       "  <thead>\n",
       "    <tr style=\"text-align: right;\">\n",
       "      <th></th>\n",
       "      <th>week date</th>\n",
       "      <th>media</th>\n",
       "      <th>submedia</th>\n",
       "      <th>placement</th>\n",
       "      <th>impression</th>\n",
       "      <th>click</th>\n",
       "      <th>cost</th>\n",
       "    </tr>\n",
       "  </thead>\n",
       "  <tbody>\n",
       "    <tr>\n",
       "      <th>0</th>\n",
       "      <td>2016-09-25</td>\n",
       "      <td>Email</td>\n",
       "      <td>xx</td>\n",
       "      <td>xx</td>\n",
       "      <td>11581550</td>\n",
       "      <td>113834</td>\n",
       "      <td>5278.691191</td>\n",
       "    </tr>\n",
       "    <tr>\n",
       "      <th>1</th>\n",
       "      <td>2016-10-02</td>\n",
       "      <td>Digital</td>\n",
       "      <td>Flipp</td>\n",
       "      <td>Flipp App</td>\n",
       "      <td>74691</td>\n",
       "      <td>37222</td>\n",
       "      <td>10794.380000</td>\n",
       "    </tr>\n",
       "  </tbody>\n",
       "</table>\n",
       "</div>"
      ],
      "text/plain": [
       "    week date    media submedia  placement  impression   click          cost\n",
       "0  2016-09-25    Email       xx         xx    11581550  113834   5278.691191\n",
       "1  2016-10-02  Digital    Flipp  Flipp App       74691   37222  10794.380000"
      ]
     },
     "execution_count": 5,
     "metadata": {},
     "output_type": "execute_result"
    }
   ],
   "source": [
    "TMR_up_to_2019Q3_no_DMA.head(2)"
   ]
  },
  {
   "cell_type": "code",
   "execution_count": 6,
   "metadata": {},
   "outputs": [],
   "source": [
    "def get_week_end_date_BL(x):\n",
    "    if x.weekday()==6:\n",
    "        y=x+datetime.timedelta(days=6)\n",
    "    else:\n",
    "        y=x+datetime.timedelta(days=5-x.weekday())\n",
    "    return y"
   ]
  },
  {
   "cell_type": "markdown",
   "metadata": {},
   "source": [
    "# TV"
   ]
  },
  {
   "cell_type": "code",
   "execution_count": 7,
   "metadata": {},
   "outputs": [],
   "source": [
    "# Email: RE: Big Lots TMR data needed for updating from Jessica, Fhursday, May 28, 2020 at 5:11 AM\n",
    "'''\n",
    "Media   (To confirm if net or gross, last quarter was net)                                        \n",
    "National: $6,739,414\n",
    "Local: $1,251,979\n",
    "'''\n",
    "national_tv_cost=6739414\n",
    "local_tv_cost=1251979\n",
    "TV_TMR_data=pd.DataFrame()"
   ]
  },
  {
   "cell_type": "code",
   "execution_count": 8,
   "metadata": {
    "scrolled": true
   },
   "outputs": [
    {
     "name": "stdout",
     "output_type": "stream",
     "text": [
      "['National', 'Local', 'Q4 Print Circ', 'No Imp Spots Nat']\n",
      "(7788, 19) (374640, 11)\n"
     ]
    },
    {
     "data": {
      "text/html": [
       "<div>\n",
       "<style scoped>\n",
       "    .dataframe tbody tr th:only-of-type {\n",
       "        vertical-align: middle;\n",
       "    }\n",
       "\n",
       "    .dataframe tbody tr th {\n",
       "        vertical-align: top;\n",
       "    }\n",
       "\n",
       "    .dataframe thead th {\n",
       "        text-align: right;\n",
       "    }\n",
       "</style>\n",
       "<table border=\"1\" class=\"dataframe\">\n",
       "  <thead>\n",
       "    <tr style=\"text-align: right;\">\n",
       "      <th></th>\n",
       "      <th>Q4 2019</th>\n",
       "      <th>Post</th>\n",
       "      <th>Strata: NHI ACM Live +3</th>\n",
       "      <th>National</th>\n",
       "      <th>Network</th>\n",
       "      <th>Cable</th>\n",
       "      <th>W25-54</th>\n",
       "      <th>Week Of</th>\n",
       "      <th>Air Date</th>\n",
       "      <th>Day</th>\n",
       "      <th>Time</th>\n",
       "      <th>Length</th>\n",
       "      <th>Act Program</th>\n",
       "      <th>Rating</th>\n",
       "      <th>Imp(000) - Women 25-54</th>\n",
       "      <th>Women 25-54</th>\n",
       "      <th>30</th>\n",
       "      <th>LGTS1115000</th>\n",
       "      <th>19May/BL/L&amp;G/MemDay/Generic</th>\n",
       "    </tr>\n",
       "  </thead>\n",
       "  <tbody>\n",
       "    <tr>\n",
       "      <th>0</th>\n",
       "      <td>Q4 2019</td>\n",
       "      <td>Post</td>\n",
       "      <td>Strata: NHI ACM Live +3</td>\n",
       "      <td>National</td>\n",
       "      <td>AMC</td>\n",
       "      <td>Cable</td>\n",
       "      <td>W25-54</td>\n",
       "      <td>2019-11-25 00:00:00</td>\n",
       "      <td>11/26/19</td>\n",
       "      <td>Tu</td>\n",
       "      <td>3:20AM</td>\n",
       "      <td>15</td>\n",
       "      <td>AMC MOVIE</td>\n",
       "      <td>0.07310462842242503</td>\n",
       "      <td>44.857</td>\n",
       "      <td>44857</td>\n",
       "      <td>NaN</td>\n",
       "      <td>NaN</td>\n",
       "      <td>NaN</td>\n",
       "    </tr>\n",
       "    <tr>\n",
       "      <th>1</th>\n",
       "      <td>Q4 2019</td>\n",
       "      <td>Post</td>\n",
       "      <td>Strata: NHI ACM Live +3</td>\n",
       "      <td>National</td>\n",
       "      <td>AMC</td>\n",
       "      <td>Cable</td>\n",
       "      <td>W25-54</td>\n",
       "      <td>2019-11-25 00:00:00</td>\n",
       "      <td>11/26/19</td>\n",
       "      <td>Tu</td>\n",
       "      <td>3:42AM</td>\n",
       "      <td>15</td>\n",
       "      <td>AMC MOVIE</td>\n",
       "      <td>0.040717079530638856</td>\n",
       "      <td>24.984</td>\n",
       "      <td>24984</td>\n",
       "      <td>NaN</td>\n",
       "      <td>NaN</td>\n",
       "      <td>NaN</td>\n",
       "    </tr>\n",
       "  </tbody>\n",
       "</table>\n",
       "</div>"
      ],
      "text/plain": [
       "   Q4 2019  Post  Strata: NHI ACM Live +3  National Network  Cable  W25-54  \\\n",
       "0  Q4 2019  Post  Strata: NHI ACM Live +3  National     AMC  Cable  W25-54   \n",
       "1  Q4 2019  Post  Strata: NHI ACM Live +3  National     AMC  Cable  W25-54   \n",
       "\n",
       "               Week Of   Air Date Day      Time Length Act Program  \\\n",
       "0  2019-11-25 00:00:00   11/26/19  Tu    3:20AM     15   AMC MOVIE   \n",
       "1  2019-11-25 00:00:00   11/26/19  Tu    3:42AM     15   AMC MOVIE   \n",
       "\n",
       "                 Rating  Imp(000) - Women 25-54 Women 25-54   30 LGTS1115000  \\\n",
       "0   0.07310462842242503                  44.857       44857  NaN         NaN   \n",
       "1  0.040717079530638856                  24.984       24984  NaN         NaN   \n",
       "\n",
       "  19May/BL/L&G/MemDay/Generic  \n",
       "0                         NaN  \n",
       "1                         NaN  "
      ]
     },
     "execution_count": 8,
     "metadata": {},
     "output_type": "execute_result"
    }
   ],
   "source": [
    "TV_print_excel=pd.ExcelFile(\"/mnt/clients/juba/hqjubaapp02/sharefolder/Media/TMR/TMR_data/Up_to_2019Q4/input_2019Q4/Big Lots Q419 TMR 5.28.20.xlsx\")\n",
    "print(TV_print_excel.sheet_names)\n",
    "df_TV_national=TV_print_excel.parse(\"National\",dtype=str,skiprows=1)\n",
    "df_TV_local=TV_print_excel.parse(\"Local\",dtype=str,skiprows=1)\n",
    "\n",
    "print(df_TV_national.shape,df_TV_local.shape)\n",
    "df_TV_national.head(2)"
   ]
  },
  {
   "cell_type": "code",
   "execution_count": 9,
   "metadata": {},
   "outputs": [
    {
     "name": "stdout",
     "output_type": "stream",
     "text": [
      "df_TV_national['cost'].sum() 6739414.0\n"
     ]
    }
   ],
   "source": [
    "df_TV_national=df_TV_national[[\"Q4 2019\",'National',\"Network\",\"Air Date\",' Imp(000) - Women 25-54']]\n",
    "\n",
    "df_TV_national=df_TV_national[pd.notnull(df_TV_national['Air Date'])]\n",
    "\n",
    "df_TV_national=df_TV_national.rename(columns={\"Network\":\"placement\"})\n",
    "df_TV_national['date']=df_TV_national['Air Date'].apply(lambda x: datetime.datetime.strptime(x,\" %m/%d/%y\").date() if \"/\" in x else datetime.datetime.strptime(x,\"%Y-%m-%d %H:%M:%S\").date())\n",
    "df_TV_national['impression']=df_TV_national[' Imp(000) - Women 25-54'].astype(float)*1000\n",
    "\n",
    "df_TV_national['media']=\"TV\"\n",
    "df_TV_national['submedia']=\"National\"\n",
    "df_TV_national['click']=0\n",
    "df_TV_national['week date']=df_TV_national['date'].apply(get_week_end_date_BL)\n",
    "df_TV_national['week date']=df_TV_national['week date'].apply(lambda x: x-datetime.timedelta(days=6))\n",
    "\n",
    "\n",
    "'''\n",
    "df_TV_national_Cable=df_TV_national[df_TV_national['National']==\"National\"]\n",
    "sum_national_cable_impr=df_TV_national_Cable['impression'].sum()\n",
    "print(\"sum_national_cable_impr\",sum_national_cable_impr)\n",
    "# 650,096 from email, Faith, Friday, February 28, 2020 at 5:41 PM\n",
    "df_TV_national_Cable['cost']=df_TV_national_Cable['impression']/sum_national_cable_impr*650096\n",
    "df_TV_national_Cable=df_TV_national_Cable[TMR_up_to_2019Q3_no_DMA.columns.tolist()]\n",
    "print(\"df_TV_national_Cable['cost'].sum()\",df_TV_national_Cable['cost'].sum())\n",
    "'''\n",
    "sum_national_cable_impr=df_TV_national['impression'].sum()\n",
    "df_TV_national['cost']=df_TV_national['impression']/sum_national_cable_impr*national_tv_cost\n",
    "print(\"df_TV_national['cost'].sum()\",df_TV_national['cost'].sum())\n",
    "df_TV_national=df_TV_national[TMR_up_to_2019Q3_no_DMA.columns.tolist()]\n"
   ]
  },
  {
   "cell_type": "code",
   "execution_count": 10,
   "metadata": {},
   "outputs": [
    {
     "data": {
      "text/html": [
       "<div>\n",
       "<style scoped>\n",
       "    .dataframe tbody tr th:only-of-type {\n",
       "        vertical-align: middle;\n",
       "    }\n",
       "\n",
       "    .dataframe tbody tr th {\n",
       "        vertical-align: top;\n",
       "    }\n",
       "\n",
       "    .dataframe thead th {\n",
       "        text-align: right;\n",
       "    }\n",
       "</style>\n",
       "<table border=\"1\" class=\"dataframe\">\n",
       "  <thead>\n",
       "    <tr style=\"text-align: right;\">\n",
       "      <th></th>\n",
       "      <th>week date</th>\n",
       "      <th>media</th>\n",
       "      <th>submedia</th>\n",
       "      <th>placement</th>\n",
       "      <th>impression</th>\n",
       "      <th>click</th>\n",
       "      <th>cost</th>\n",
       "    </tr>\n",
       "  </thead>\n",
       "  <tbody>\n",
       "    <tr>\n",
       "      <th>0</th>\n",
       "      <td>2019-11-24</td>\n",
       "      <td>TV</td>\n",
       "      <td>National</td>\n",
       "      <td>AMC</td>\n",
       "      <td>44857.0</td>\n",
       "      <td>0</td>\n",
       "      <td>1044.699984</td>\n",
       "    </tr>\n",
       "    <tr>\n",
       "      <th>1</th>\n",
       "      <td>2019-11-24</td>\n",
       "      <td>TV</td>\n",
       "      <td>National</td>\n",
       "      <td>AMC</td>\n",
       "      <td>24984.0</td>\n",
       "      <td>0</td>\n",
       "      <td>581.866473</td>\n",
       "    </tr>\n",
       "  </tbody>\n",
       "</table>\n",
       "</div>"
      ],
      "text/plain": [
       "    week date media  submedia placement  impression  click         cost\n",
       "0  2019-11-24    TV  National       AMC     44857.0      0  1044.699984\n",
       "1  2019-11-24    TV  National       AMC     24984.0      0   581.866473"
      ]
     },
     "execution_count": 10,
     "metadata": {},
     "output_type": "execute_result"
    }
   ],
   "source": [
    "df_TV_national.head(2)"
   ]
  },
  {
   "cell_type": "code",
   "execution_count": 11,
   "metadata": {},
   "outputs": [
    {
     "name": "stdout",
     "output_type": "stream",
     "text": [
      "df_TV_local['cost'].sum() 1251978.9999999998\n"
     ]
    },
    {
     "data": {
      "text/html": [
       "<div>\n",
       "<style scoped>\n",
       "    .dataframe tbody tr th:only-of-type {\n",
       "        vertical-align: middle;\n",
       "    }\n",
       "\n",
       "    .dataframe tbody tr th {\n",
       "        vertical-align: top;\n",
       "    }\n",
       "\n",
       "    .dataframe thead th {\n",
       "        text-align: right;\n",
       "    }\n",
       "</style>\n",
       "<table border=\"1\" class=\"dataframe\">\n",
       "  <thead>\n",
       "    <tr style=\"text-align: right;\">\n",
       "      <th></th>\n",
       "      <th>week date</th>\n",
       "      <th>media</th>\n",
       "      <th>submedia</th>\n",
       "      <th>placement</th>\n",
       "      <th>impression</th>\n",
       "      <th>click</th>\n",
       "      <th>cost</th>\n",
       "    </tr>\n",
       "  </thead>\n",
       "  <tbody>\n",
       "    <tr>\n",
       "      <th>0</th>\n",
       "      <td>2019-11-03</td>\n",
       "      <td>TV</td>\n",
       "      <td>Local</td>\n",
       "      <td>VH1</td>\n",
       "      <td>34.319109</td>\n",
       "      <td>0</td>\n",
       "      <td>0.822465</td>\n",
       "    </tr>\n",
       "    <tr>\n",
       "      <th>1</th>\n",
       "      <td>2019-11-03</td>\n",
       "      <td>TV</td>\n",
       "      <td>Local</td>\n",
       "      <td>FRFM</td>\n",
       "      <td>1469.917702</td>\n",
       "      <td>0</td>\n",
       "      <td>35.226895</td>\n",
       "    </tr>\n",
       "  </tbody>\n",
       "</table>\n",
       "</div>"
      ],
      "text/plain": [
       "    week date media submedia placement   impression  click       cost\n",
       "0  2019-11-03    TV    Local       VH1    34.319109      0   0.822465\n",
       "1  2019-11-03    TV    Local      FRFM  1469.917702      0  35.226895"
      ]
     },
     "execution_count": 11,
     "metadata": {},
     "output_type": "execute_result"
    }
   ],
   "source": [
    "df_TV_local=df_TV_local[['Network','Air Date',' Imp - Women 25-54']].rename(columns={\" Imp - Women 25-54\":\"impression\"})\n",
    "df_TV_local['impression']=df_TV_local['impression'].astype(float)\n",
    "df_TV_local['date']=df_TV_local['Air Date'].apply(lambda x: datetime.datetime.strptime(x,\" %m/%d/%y\").date() if \"/\" in x else datetime.datetime.strptime(x,\"%Y-%m-%d %H:%M:%S\").date())\n",
    "\n",
    "\n",
    "df_TV_local=df_TV_local.rename(columns={\"Network\":\"placement\"})\n",
    "df_TV_local['media']=\"TV\"\n",
    "df_TV_local['submedia']=\"Local\"\n",
    "df_TV_local['click']=0\n",
    "df_TV_local['week date']=df_TV_local['date'].apply(get_week_end_date_BL)\n",
    "df_TV_local['week date']=df_TV_local['week date'].apply(lambda x: x-datetime.timedelta(days=6))\n",
    "\n",
    "'''\n",
    "df_TV_local_and_DTV=df_TV_local.append(df_TV_national_DRTV)\n",
    "sum_local_and_DTV_impr=df_TV_local_and_DTV['impression'].sum()\n",
    "print(\"sum_local_and_DTV_impr\",sum_local_and_DTV_impr)\n",
    "# 340,349 from email, Faith, Friday, February 28, 2020 at 5:41 PM\n",
    "'''\n",
    "sum_local_impr=df_TV_local['impression'].sum()\n",
    "df_TV_local['cost']=df_TV_local['impression']/sum_local_impr*local_tv_cost\n",
    "\n",
    "df_TV_local=df_TV_local[TMR_up_to_2019Q3_no_DMA.columns.tolist()]\n",
    "print(\"df_TV_local['cost'].sum()\",df_TV_local['cost'].sum())\n",
    "df_TV_local.head(2)"
   ]
  },
  {
   "cell_type": "code",
   "execution_count": 12,
   "metadata": {},
   "outputs": [
    {
     "name": "stdout",
     "output_type": "stream",
     "text": [
      "TV_TMR_data['cost'].sum() 7991393.0\n",
      "TV_TMR_data['impression'].sum() 341616350.91141367\n"
     ]
    }
   ],
   "source": [
    "TV_TMR_data=df_TV_national.append(df_TV_local)\n",
    "TV_TMR_data['week date']=TV_TMR_data['week date'].astype(str)\n",
    "print(\"TV_TMR_data['cost'].sum()\",TV_TMR_data['cost'].sum())\n",
    "print(\"TV_TMR_data['impression'].sum()\",TV_TMR_data['impression'].sum())\n",
    "\n",
    "\n"
   ]
  },
  {
   "cell_type": "code",
   "execution_count": 13,
   "metadata": {},
   "outputs": [
    {
     "data": {
      "text/html": [
       "<div>\n",
       "<style scoped>\n",
       "    .dataframe tbody tr th:only-of-type {\n",
       "        vertical-align: middle;\n",
       "    }\n",
       "\n",
       "    .dataframe tbody tr th {\n",
       "        vertical-align: top;\n",
       "    }\n",
       "\n",
       "    .dataframe thead th {\n",
       "        text-align: right;\n",
       "    }\n",
       "</style>\n",
       "<table border=\"1\" class=\"dataframe\">\n",
       "  <thead>\n",
       "    <tr style=\"text-align: right;\">\n",
       "      <th></th>\n",
       "      <th>week date</th>\n",
       "      <th>media</th>\n",
       "      <th>submedia</th>\n",
       "      <th>placement</th>\n",
       "      <th>impression</th>\n",
       "      <th>click</th>\n",
       "      <th>cost</th>\n",
       "    </tr>\n",
       "  </thead>\n",
       "  <tbody>\n",
       "    <tr>\n",
       "      <th>0</th>\n",
       "      <td>2019-11-24</td>\n",
       "      <td>TV</td>\n",
       "      <td>National</td>\n",
       "      <td>AMC</td>\n",
       "      <td>44857.0</td>\n",
       "      <td>0</td>\n",
       "      <td>1044.699984</td>\n",
       "    </tr>\n",
       "    <tr>\n",
       "      <th>1</th>\n",
       "      <td>2019-11-24</td>\n",
       "      <td>TV</td>\n",
       "      <td>National</td>\n",
       "      <td>AMC</td>\n",
       "      <td>24984.0</td>\n",
       "      <td>0</td>\n",
       "      <td>581.866473</td>\n",
       "    </tr>\n",
       "  </tbody>\n",
       "</table>\n",
       "</div>"
      ],
      "text/plain": [
       "    week date media  submedia placement  impression  click         cost\n",
       "0  2019-11-24    TV  National       AMC     44857.0      0  1044.699984\n",
       "1  2019-11-24    TV  National       AMC     24984.0      0   581.866473"
      ]
     },
     "execution_count": 13,
     "metadata": {},
     "output_type": "execute_result"
    }
   ],
   "source": [
    "TV_TMR_data.head(2)"
   ]
  },
  {
   "cell_type": "code",
   "execution_count": 14,
   "metadata": {},
   "outputs": [
    {
     "data": {
      "text/plain": [
       "(382395, 7)"
      ]
     },
     "execution_count": 14,
     "metadata": {},
     "output_type": "execute_result"
    }
   ],
   "source": [
    "TV_TMR_data.shape"
   ]
  },
  {
   "cell_type": "code",
   "execution_count": 15,
   "metadata": {},
   "outputs": [
    {
     "name": "stderr",
     "output_type": "stream",
     "text": [
      "/opt/anaconda3/lib/python3.7/site-packages/ipykernel_launcher.py:1: FutureWarning: Indexing with multiple keys (implicitly converted to a tuple of keys) will be deprecated, use a list instead.\n",
      "  \"\"\"Entry point for launching an IPython kernel.\n"
     ]
    },
    {
     "data": {
      "text/plain": [
       "(348, 7)"
      ]
     },
     "execution_count": 15,
     "metadata": {},
     "output_type": "execute_result"
    }
   ],
   "source": [
    "TV_TMR_data=TV_TMR_data.groupby(['week date','media','submedia','placement'])['impression','click','cost'].sum().reset_index()\n",
    "TV_TMR_data.shape"
   ]
  },
  {
   "cell_type": "code",
   "execution_count": 16,
   "metadata": {},
   "outputs": [
    {
     "name": "stdout",
     "output_type": "stream",
     "text": [
      "(335, 7)\n",
      "11\n",
      "2019-11-03\n",
      "2020-01-19\n"
     ]
    },
    {
     "name": "stderr",
     "output_type": "stream",
     "text": [
      "/opt/anaconda3/lib/python3.7/site-packages/ipykernel_launcher.py:9: FutureWarning: Indexing with multiple keys (implicitly converted to a tuple of keys) will be deprecated, use a list instead.\n",
      "  if __name__ == '__main__':\n"
     ]
    },
    {
     "data": {
      "text/html": [
       "<div>\n",
       "<style scoped>\n",
       "    .dataframe tbody tr th:only-of-type {\n",
       "        vertical-align: middle;\n",
       "    }\n",
       "\n",
       "    .dataframe tbody tr th {\n",
       "        vertical-align: top;\n",
       "    }\n",
       "\n",
       "    .dataframe thead th {\n",
       "        text-align: right;\n",
       "    }\n",
       "</style>\n",
       "<table border=\"1\" class=\"dataframe\">\n",
       "  <thead>\n",
       "    <tr style=\"text-align: right;\">\n",
       "      <th></th>\n",
       "      <th>submedia</th>\n",
       "      <th>impression</th>\n",
       "      <th>cost</th>\n",
       "    </tr>\n",
       "  </thead>\n",
       "  <tbody>\n",
       "    <tr>\n",
       "      <th>0</th>\n",
       "      <td>Local</td>\n",
       "      <td>52240271</td>\n",
       "      <td>1.251949e+06</td>\n",
       "    </tr>\n",
       "    <tr>\n",
       "      <th>1</th>\n",
       "      <td>National</td>\n",
       "      <td>287377653</td>\n",
       "      <td>6.692900e+06</td>\n",
       "    </tr>\n",
       "  </tbody>\n",
       "</table>\n",
       "</div>"
      ],
      "text/plain": [
       "   submedia  impression          cost\n",
       "0     Local    52240271  1.251949e+06\n",
       "1  National   287377653  6.692900e+06"
      ]
     },
     "execution_count": 16,
     "metadata": {},
     "output_type": "execute_result"
    }
   ],
   "source": [
    "TV_TMR_data=TV_TMR_data[TV_TMR_data['week date']>=new_quarter_start_date]\n",
    "TV_TMR_data=TV_TMR_data[TV_TMR_data['week date']<=new_quarter_end_date]\n",
    "print(TV_TMR_data.shape)\n",
    "print(TV_TMR_data['week date'].nunique())\n",
    "print(TV_TMR_data['week date'].min())\n",
    "print(TV_TMR_data['week date'].max())\n",
    "\n",
    "\n",
    "df_TV_summary=TV_TMR_data.groupby(['submedia'])['impression','cost'].sum().reset_index()\n",
    "df_TV_summary['impression']=df_TV_summary['impression'].astype(int)\n",
    "df_TV_summary"
   ]
  },
  {
   "cell_type": "code",
   "execution_count": 17,
   "metadata": {},
   "outputs": [
    {
     "name": "stdout",
     "output_type": "stream",
     "text": [
      "7234663.6499999985 550076812\n"
     ]
    }
   ],
   "source": [
    "df_qc_tv_lastyear=TMR_up_to_2019Q3_no_DMA[TMR_up_to_2019Q3_no_DMA['week date']>=\"2018-11-04\"]\n",
    "df_qc_tv_lastyear=df_qc_tv_lastyear[df_qc_tv_lastyear['week date']<=\"2019-02-02\"]\n",
    "df_qc_tv_lastyear=df_qc_tv_lastyear[df_qc_tv_lastyear['media']==\"TV\"]\n",
    "print(df_qc_tv_lastyear['cost'].sum(),df_qc_tv_lastyear['impression'].sum())\n",
    "\n",
    "# In line"
   ]
  },
  {
   "cell_type": "code",
   "execution_count": 18,
   "metadata": {},
   "outputs": [
    {
     "name": "stdout",
     "output_type": "stream",
     "text": [
      "2020-12-03 14:29:44.179390\n"
     ]
    }
   ],
   "source": [
    "print(datetime.datetime.now())"
   ]
  },
  {
   "cell_type": "markdown",
   "metadata": {},
   "source": [
    "# Print Circulation"
   ]
  },
  {
   "cell_type": "code",
   "execution_count": 19,
   "metadata": {},
   "outputs": [
    {
     "name": "stdout",
     "output_type": "stream",
     "text": [
      "(13, 7)\n",
      "13 2019-11-03 2020-01-26\n",
      "['Sunday']\n"
     ]
    }
   ],
   "source": [
    "df_print_circ=TV_print_excel.parse(\"Q4 Print Circ\",dtype=str,skiprows=None)\n",
    "df_print_circ['week date']=df_print_circ['Date'].apply(lambda x: x.split(\" \")[0])\n",
    "df_print_circ['impression']=df_print_circ['Quantity'].astype(int)\n",
    "df_print_circ['click']=0\n",
    "df_print_circ['cost']=df_print_circ['Cost'].astype(float)\n",
    "df_print_circ['media']=\"Circulation\"\n",
    "df_print_circ['submedia']=\"xx\"\n",
    "df_print_circ['placement']=\"xx\"\n",
    "df_print_circ=df_print_circ[TMR_up_to_2019Q3_no_DMA.columns.tolist()]\n",
    "print(df_print_circ.shape)\n",
    "print(df_print_circ['week date'].nunique(),df_print_circ['week date'].min(),df_print_circ['week date'].max())\n",
    "print(pd.to_datetime(df_print_circ['week date']).dt.day_name().unique())"
   ]
  },
  {
   "cell_type": "markdown",
   "metadata": {},
   "source": [
    "# Others from Datorama"
   ]
  },
  {
   "cell_type": "code",
   "execution_count": 20,
   "metadata": {},
   "outputs": [
    {
     "data": {
      "text/plain": [
       "['./input_2019Q4/datorama_files/Digital Weekly Media Data  (Search).csv',\n",
       " './input_2019Q4/datorama_files/Digital Weekly Media Data without Placement (excluded FB).csv',\n",
       " './input_2019Q4/datorama_files/E-circular_Flipp & Print Circular & Email by Week.csv',\n",
       " './input_2019Q4/datorama_files/Social Daily Media Data.csv']"
      ]
     },
     "execution_count": 20,
     "metadata": {},
     "output_type": "execute_result"
    }
   ],
   "source": [
    "list_datorama_files=glob.glob(\"./input_2019Q4/datorama_files/*.csv\")\n",
    "list_datorama_files.sort()\n",
    "list_datorama_files"
   ]
  },
  {
   "cell_type": "code",
   "execution_count": 21,
   "metadata": {},
   "outputs": [
    {
     "data": {
      "text/html": [
       "<div>\n",
       "<style scoped>\n",
       "    .dataframe tbody tr th:only-of-type {\n",
       "        vertical-align: middle;\n",
       "    }\n",
       "\n",
       "    .dataframe tbody tr th {\n",
       "        vertical-align: top;\n",
       "    }\n",
       "\n",
       "    .dataframe thead th {\n",
       "        text-align: right;\n",
       "    }\n",
       "</style>\n",
       "<table border=\"1\" class=\"dataframe\">\n",
       "  <thead>\n",
       "    <tr style=\"text-align: right;\">\n",
       "      <th></th>\n",
       "      <th>week</th>\n",
       "      <th>media</th>\n",
       "      <th>submedia</th>\n",
       "      <th>placement</th>\n",
       "      <th>impression</th>\n",
       "      <th>click</th>\n",
       "      <th>cost</th>\n",
       "    </tr>\n",
       "  </thead>\n",
       "  <tbody>\n",
       "    <tr>\n",
       "      <th>3</th>\n",
       "      <td>2019-11-03 00:00</td>\n",
       "      <td>Digital</td>\n",
       "      <td>PLA</td>\n",
       "      <td>Bing</td>\n",
       "      <td>38716.0</td>\n",
       "      <td>627.0</td>\n",
       "      <td>1698.96</td>\n",
       "    </tr>\n",
       "    <tr>\n",
       "      <th>7</th>\n",
       "      <td>2019-11-10 00:00</td>\n",
       "      <td>Digital</td>\n",
       "      <td>PLA</td>\n",
       "      <td>Bing</td>\n",
       "      <td>87419.0</td>\n",
       "      <td>1800.0</td>\n",
       "      <td>4842.06</td>\n",
       "    </tr>\n",
       "  </tbody>\n",
       "</table>\n",
       "</div>"
      ],
      "text/plain": [
       "               week    media submedia placement  impression   click     cost\n",
       "3  2019-11-03 00:00  Digital      PLA      Bing     38716.0   627.0  1698.96\n",
       "7  2019-11-10 00:00  Digital      PLA      Bing     87419.0  1800.0  4842.06"
      ]
     },
     "execution_count": 21,
     "metadata": {},
     "output_type": "execute_result"
    }
   ],
   "source": [
    "df_1_search=pd.read_csv(list_datorama_files[0])\n",
    "df_1_search.columns=[x.lower() for x in df_1_search.columns.tolist()]\n",
    "df_1_search=df_1_search.rename(columns={\"impressions\":\"impression\",\"clicks\":\"click\",\"media cost\":\"cost\"})\n",
    "df_1_search=df_1_search[['week','media','submedia','placement','impression','click','cost']]\n",
    "df_1_search['submedia']=df_1_search['submedia'].replace({\"Paid SEM Campaign\":\"SEM\"}).replace({\"Shopping Campaign\":\"PLA\"})\n",
    "df_1_search=df_1_search.sort_values(['media','submedia','placement','week'])\n",
    "df_1_search.head(2)"
   ]
  },
  {
   "cell_type": "code",
   "execution_count": 22,
   "metadata": {},
   "outputs": [
    {
     "name": "stderr",
     "output_type": "stream",
     "text": [
      "/opt/anaconda3/lib/python3.7/site-packages/ipykernel_launcher.py:7: SettingWithCopyWarning: \n",
      "A value is trying to be set on a copy of a slice from a DataFrame.\n",
      "Try using .loc[row_indexer,col_indexer] = value instead\n",
      "\n",
      "See the caveats in the documentation: https://pandas.pydata.org/pandas-docs/stable/user_guide/indexing.html#returning-a-view-versus-a-copy\n",
      "  import sys\n",
      "/opt/anaconda3/lib/python3.7/site-packages/ipykernel_launcher.py:8: SettingWithCopyWarning: \n",
      "A value is trying to be set on a copy of a slice from a DataFrame.\n",
      "Try using .loc[row_indexer,col_indexer] = value instead\n",
      "\n",
      "See the caveats in the documentation: https://pandas.pydata.org/pandas-docs/stable/user_guide/indexing.html#returning-a-view-versus-a-copy\n",
      "  \n",
      "/opt/anaconda3/lib/python3.7/site-packages/ipykernel_launcher.py:17: SettingWithCopyWarning: \n",
      "A value is trying to be set on a copy of a slice from a DataFrame.\n",
      "Try using .loc[row_indexer,col_indexer] = value instead\n",
      "\n",
      "See the caveats in the documentation: https://pandas.pydata.org/pandas-docs/stable/user_guide/indexing.html#returning-a-view-versus-a-copy\n",
      "/opt/anaconda3/lib/python3.7/site-packages/ipykernel_launcher.py:18: SettingWithCopyWarning: \n",
      "A value is trying to be set on a copy of a slice from a DataFrame.\n",
      "Try using .loc[row_indexer,col_indexer] = value instead\n",
      "\n",
      "See the caveats in the documentation: https://pandas.pydata.org/pandas-docs/stable/user_guide/indexing.html#returning-a-view-versus-a-copy\n"
     ]
    },
    {
     "data": {
      "text/html": [
       "<div>\n",
       "<style scoped>\n",
       "    .dataframe tbody tr th:only-of-type {\n",
       "        vertical-align: middle;\n",
       "    }\n",
       "\n",
       "    .dataframe tbody tr th {\n",
       "        vertical-align: top;\n",
       "    }\n",
       "\n",
       "    .dataframe thead th {\n",
       "        text-align: right;\n",
       "    }\n",
       "</style>\n",
       "<table border=\"1\" class=\"dataframe\">\n",
       "  <thead>\n",
       "    <tr style=\"text-align: right;\">\n",
       "      <th></th>\n",
       "      <th>week</th>\n",
       "      <th>media</th>\n",
       "      <th>submedia</th>\n",
       "      <th>placement</th>\n",
       "      <th>impression</th>\n",
       "      <th>click</th>\n",
       "      <th>cost</th>\n",
       "    </tr>\n",
       "  </thead>\n",
       "  <tbody>\n",
       "    <tr>\n",
       "      <th>4</th>\n",
       "      <td>2020-01-26 00:00</td>\n",
       "      <td>Digital</td>\n",
       "      <td>YouTube</td>\n",
       "      <td>Programmatic Video</td>\n",
       "      <td>0.0</td>\n",
       "      <td>1.0</td>\n",
       "      <td>0.0</td>\n",
       "    </tr>\n",
       "    <tr>\n",
       "      <th>9</th>\n",
       "      <td>2020-01-19 00:00</td>\n",
       "      <td>Digital</td>\n",
       "      <td>YouTube</td>\n",
       "      <td>Programmatic Video</td>\n",
       "      <td>1495215.0</td>\n",
       "      <td>1617.0</td>\n",
       "      <td>0.0</td>\n",
       "    </tr>\n",
       "  </tbody>\n",
       "</table>\n",
       "</div>"
      ],
      "text/plain": [
       "               week    media submedia           placement  impression   click  \\\n",
       "4  2020-01-26 00:00  Digital  YouTube  Programmatic Video         0.0     1.0   \n",
       "9  2020-01-19 00:00  Digital  YouTube  Programmatic Video   1495215.0  1617.0   \n",
       "\n",
       "   cost  \n",
       "4   0.0  \n",
       "9   0.0  "
      ]
     },
     "execution_count": 22,
     "metadata": {},
     "output_type": "execute_result"
    }
   ],
   "source": [
    "df_2_digital=pd.read_csv(list_datorama_files[1])\n",
    "df_2_digital.columns=[x.lower() for x in df_2_digital.columns.tolist()]\n",
    "df_2_digital=df_2_digital.rename(columns={\"impressions\":\"impression\",\"clicks\":\"click\",\"media cost\":\"cost\"})\n",
    "df_2_digital=df_2_digital[['week','media','submedia','impression','click','cost','partner','tactic']]\n",
    "\n",
    "df_2_digital_YT=df_2_digital[df_2_digital['partner']==\"YouTube\"]\n",
    "df_2_digital_YT['placement']=df_2_digital_YT['submedia']\n",
    "df_2_digital_YT['submedia']=\"YouTube\"\n",
    "df_2_digital_YT=df_2_digital_YT[df_1_search.columns.tolist()]\n",
    "\n",
    "df_2_digital_Pandora=df_2_digital[df_2_digital['partner']==\"Pandora\"]\n",
    "df_2_digital_Pandora['placement']=df_2_digital_Pandora['submedia']\n",
    "df_2_digital_Pandora['submedia']=\"Pandora\"\n",
    "df_2_digital_Pandora=df_2_digital_Pandora[df_1_search.columns.tolist()]\n",
    "\n",
    "df_2_digital_Programmatic=df_2_digital[~df_2_digital['partner'].isin([\"YouTube\",'Pandora'])]\n",
    "df_2_digital_Programmatic['placement']=df_2_digital_Programmatic['submedia']\n",
    "df_2_digital_Programmatic['submedia']=\"Programmatic\"\n",
    "df_2_digital_Programmatic=df_2_digital_Programmatic[df_1_search.columns.tolist()]\n",
    "\n",
    "df_2_digital=df_2_digital_YT.append(df_2_digital_Pandora).append(df_2_digital_Programmatic)\n",
    "\n",
    "\n",
    "df_2_digital.head(2)"
   ]
  },
  {
   "cell_type": "code",
   "execution_count": 23,
   "metadata": {},
   "outputs": [
    {
     "data": {
      "text/html": [
       "<div>\n",
       "<style scoped>\n",
       "    .dataframe tbody tr th:only-of-type {\n",
       "        vertical-align: middle;\n",
       "    }\n",
       "\n",
       "    .dataframe tbody tr th {\n",
       "        vertical-align: top;\n",
       "    }\n",
       "\n",
       "    .dataframe thead th {\n",
       "        text-align: right;\n",
       "    }\n",
       "</style>\n",
       "<table border=\"1\" class=\"dataframe\">\n",
       "  <thead>\n",
       "    <tr style=\"text-align: right;\">\n",
       "      <th></th>\n",
       "      <th>week</th>\n",
       "      <th>media</th>\n",
       "      <th>submedia</th>\n",
       "      <th>placement</th>\n",
       "      <th>impression</th>\n",
       "      <th>click</th>\n",
       "      <th>cost</th>\n",
       "    </tr>\n",
       "  </thead>\n",
       "  <tbody>\n",
       "    <tr>\n",
       "      <th>0</th>\n",
       "      <td>2020-01-26 00:00</td>\n",
       "      <td>Email</td>\n",
       "      <td>xx</td>\n",
       "      <td>xx</td>\n",
       "      <td>193931641.0</td>\n",
       "      <td>1337738.0</td>\n",
       "      <td>88391.039621</td>\n",
       "    </tr>\n",
       "    <tr>\n",
       "      <th>1</th>\n",
       "      <td>2020-01-26 00:00</td>\n",
       "      <td>Digital</td>\n",
       "      <td>Flipp</td>\n",
       "      <td>Hosted</td>\n",
       "      <td>108772.0</td>\n",
       "      <td>95193.0</td>\n",
       "      <td>0.000000</td>\n",
       "    </tr>\n",
       "    <tr>\n",
       "      <th>2</th>\n",
       "      <td>2020-01-19 00:00</td>\n",
       "      <td>Digital</td>\n",
       "      <td>Flipp</td>\n",
       "      <td>Hosted</td>\n",
       "      <td>143230.0</td>\n",
       "      <td>128182.0</td>\n",
       "      <td>0.000000</td>\n",
       "    </tr>\n",
       "  </tbody>\n",
       "</table>\n",
       "</div>"
      ],
      "text/plain": [
       "               week    media submedia placement   impression      click  \\\n",
       "0  2020-01-26 00:00    Email       xx        xx  193931641.0  1337738.0   \n",
       "1  2020-01-26 00:00  Digital    Flipp    Hosted     108772.0    95193.0   \n",
       "2  2020-01-19 00:00  Digital    Flipp    Hosted     143230.0   128182.0   \n",
       "\n",
       "           cost  \n",
       "0  88391.039621  \n",
       "1      0.000000  \n",
       "2      0.000000  "
      ]
     },
     "execution_count": 23,
     "metadata": {},
     "output_type": "execute_result"
    }
   ],
   "source": [
    "df_3_email_ecirc=pd.read_csv(list_datorama_files[2])\n",
    "df_3_email_ecirc.columns=[x.lower() for x in df_3_email_ecirc.columns.tolist()]\n",
    "df_3_email_ecirc=df_3_email_ecirc.rename(columns={\"impressions\":\"impression\",\"clicks\":\"click\",\"media cost\":\"cost\"})\n",
    "df_3_email_ecirc=df_3_email_ecirc[['week','media','placement','impression','click','cost']]\n",
    "df_3_email_ecirc.insert(2,\"submedia\",np.nan)\n",
    "df_3_email_ecirc['submedia']=np.where(df_3_email_ecirc['media']==\"Digital\",\"Flipp\",\"xx\")\n",
    "df_3_email_ecirc['placement']=np.where(df_3_email_ecirc['media']==\"Digital\",df_3_email_ecirc['placement'],\"xx\")\n",
    "\n",
    "df_3_email_ecirc.head(3)"
   ]
  },
  {
   "cell_type": "code",
   "execution_count": 24,
   "metadata": {},
   "outputs": [
    {
     "data": {
      "text/html": [
       "<div>\n",
       "<style scoped>\n",
       "    .dataframe tbody tr th:only-of-type {\n",
       "        vertical-align: middle;\n",
       "    }\n",
       "\n",
       "    .dataframe tbody tr th {\n",
       "        vertical-align: top;\n",
       "    }\n",
       "\n",
       "    .dataframe thead th {\n",
       "        text-align: right;\n",
       "    }\n",
       "</style>\n",
       "<table border=\"1\" class=\"dataframe\">\n",
       "  <thead>\n",
       "    <tr style=\"text-align: right;\">\n",
       "      <th></th>\n",
       "      <th>week</th>\n",
       "      <th>media</th>\n",
       "      <th>submedia</th>\n",
       "      <th>placement</th>\n",
       "      <th>impression</th>\n",
       "      <th>click</th>\n",
       "      <th>cost</th>\n",
       "    </tr>\n",
       "  </thead>\n",
       "  <tbody>\n",
       "    <tr>\n",
       "      <th>0</th>\n",
       "      <td>2019-11-03 00:00</td>\n",
       "      <td>Digital</td>\n",
       "      <td>Social</td>\n",
       "      <td>Pinterest</td>\n",
       "      <td>874426.0</td>\n",
       "      <td>3252.0</td>\n",
       "      <td>2557.24</td>\n",
       "    </tr>\n",
       "    <tr>\n",
       "      <th>1</th>\n",
       "      <td>2019-11-03 00:00</td>\n",
       "      <td>Digital</td>\n",
       "      <td>Social</td>\n",
       "      <td>Facebook</td>\n",
       "      <td>13802701.0</td>\n",
       "      <td>152847.0</td>\n",
       "      <td>84051.46</td>\n",
       "    </tr>\n",
       "    <tr>\n",
       "      <th>2</th>\n",
       "      <td>2019-11-03 00:00</td>\n",
       "      <td>Digital</td>\n",
       "      <td>Social</td>\n",
       "      <td>Pinterest</td>\n",
       "      <td>314043.0</td>\n",
       "      <td>1103.0</td>\n",
       "      <td>984.42</td>\n",
       "    </tr>\n",
       "  </tbody>\n",
       "</table>\n",
       "</div>"
      ],
      "text/plain": [
       "               week    media submedia  placement  impression     click  \\\n",
       "0  2019-11-03 00:00  Digital   Social  Pinterest    874426.0    3252.0   \n",
       "1  2019-11-03 00:00  Digital   Social   Facebook  13802701.0  152847.0   \n",
       "2  2019-11-03 00:00  Digital   Social  Pinterest    314043.0    1103.0   \n",
       "\n",
       "       cost  \n",
       "0   2557.24  \n",
       "1  84051.46  \n",
       "2    984.42  "
      ]
     },
     "execution_count": 24,
     "metadata": {},
     "output_type": "execute_result"
    }
   ],
   "source": [
    "df_4_email_social=pd.read_csv(list_datorama_files[3])\n",
    "df_4_email_social.columns=[x.lower() for x in df_4_email_social.columns.tolist()]\n",
    "df_4_email_social=df_4_email_social.rename(columns={\"impressions\":\"impression\",\"clicks\":\"click\",\"media cost\":\"cost\"})\n",
    "\n",
    "df_4_email_social=df_4_email_social[['week','media','submedia','partner','impression','click','cost']]\n",
    "df_4_email_social=df_4_email_social.rename(columns={\"partner\":\"placement\"})\n",
    "df_4_email_social.head(3)"
   ]
  },
  {
   "cell_type": "code",
   "execution_count": 25,
   "metadata": {},
   "outputs": [
    {
     "name": "stdout",
     "output_type": "stream",
     "text": [
      "['Sunday']\n"
     ]
    },
    {
     "data": {
      "text/html": [
       "<div>\n",
       "<style scoped>\n",
       "    .dataframe tbody tr th:only-of-type {\n",
       "        vertical-align: middle;\n",
       "    }\n",
       "\n",
       "    .dataframe tbody tr th {\n",
       "        vertical-align: top;\n",
       "    }\n",
       "\n",
       "    .dataframe thead th {\n",
       "        text-align: right;\n",
       "    }\n",
       "</style>\n",
       "<table border=\"1\" class=\"dataframe\">\n",
       "  <thead>\n",
       "    <tr style=\"text-align: right;\">\n",
       "      <th></th>\n",
       "      <th>week date</th>\n",
       "      <th>media</th>\n",
       "      <th>submedia</th>\n",
       "      <th>placement</th>\n",
       "      <th>impression</th>\n",
       "      <th>click</th>\n",
       "      <th>cost</th>\n",
       "    </tr>\n",
       "  </thead>\n",
       "  <tbody>\n",
       "    <tr>\n",
       "      <th>3</th>\n",
       "      <td>2019-11-03</td>\n",
       "      <td>Digital</td>\n",
       "      <td>PLA</td>\n",
       "      <td>Bing</td>\n",
       "      <td>38716.0</td>\n",
       "      <td>627.0</td>\n",
       "      <td>1698.96</td>\n",
       "    </tr>\n",
       "    <tr>\n",
       "      <th>7</th>\n",
       "      <td>2019-11-10</td>\n",
       "      <td>Digital</td>\n",
       "      <td>PLA</td>\n",
       "      <td>Bing</td>\n",
       "      <td>87419.0</td>\n",
       "      <td>1800.0</td>\n",
       "      <td>4842.06</td>\n",
       "    </tr>\n",
       "  </tbody>\n",
       "</table>\n",
       "</div>"
      ],
      "text/plain": [
       "    week date    media submedia placement  impression   click     cost\n",
       "3  2019-11-03  Digital      PLA      Bing     38716.0   627.0  1698.96\n",
       "7  2019-11-10  Digital      PLA      Bing     87419.0  1800.0  4842.06"
      ]
     },
     "execution_count": 25,
     "metadata": {},
     "output_type": "execute_result"
    }
   ],
   "source": [
    "df_all_digital_from_datorama=pd.concat([df_1_search,df_2_digital,df_3_email_ecirc,df_4_email_social])\n",
    "df_all_digital_from_datorama['week']=df_all_digital_from_datorama['week'].apply(lambda x: x.split(\" \")[0])\n",
    "df_all_digital_from_datorama=df_all_digital_from_datorama.rename(columns={\"week\":\"week date\"})\n",
    "\n",
    "# QC week date as \n",
    "df_all_digital_from_datorama['week_as_date'] = pd.to_datetime(df_all_digital_from_datorama['week date'])\n",
    "df_all_digital_from_datorama['day_of_week'] = df_all_digital_from_datorama['week_as_date'].dt.day_name()\n",
    "print(df_all_digital_from_datorama['day_of_week'].unique())\n",
    "del df_all_digital_from_datorama['week_as_date']\n",
    "del df_all_digital_from_datorama['day_of_week']\n",
    "\n",
    "df_all_digital_from_datorama.head(2)"
   ]
  },
  {
   "cell_type": "code",
   "execution_count": 26,
   "metadata": {},
   "outputs": [
    {
     "name": "stdout",
     "output_type": "stream",
     "text": [
      "13\n",
      "2019-11-03\n",
      "2020-01-26\n"
     ]
    }
   ],
   "source": [
    "print(df_all_digital_from_datorama['week date'].nunique())\n",
    "print(df_all_digital_from_datorama['week date'].min())\n",
    "print(df_all_digital_from_datorama['week date'].max())"
   ]
  },
  {
   "cell_type": "code",
   "execution_count": 27,
   "metadata": {},
   "outputs": [],
   "source": [
    "# To continue"
   ]
  },
  {
   "cell_type": "markdown",
   "metadata": {},
   "source": [
    "# Cumulative"
   ]
  },
  {
   "cell_type": "code",
   "execution_count": 31,
   "metadata": {},
   "outputs": [],
   "source": [
    "Q4_2019_only_TMR=df_all_digital_from_datorama.append(df_print_circ).append(TV_TMR_data)\n",
    "#\n",
    "Cum_Q4_2019_TMR=TMR_up_to_2019Q3.append(Q4_2019_only_TMR)"
   ]
  },
  {
   "cell_type": "code",
   "execution_count": 32,
   "metadata": {},
   "outputs": [],
   "source": [
    "try:\n",
    "    os.stat(\"/mnt/clients/juba/hqjubaapp02/sharefolder/Media/TMR/TMR_data/Up_to_2019Q4/output/\")\n",
    "except:\n",
    "    os.mkdir(\"/mnt/clients/juba/hqjubaapp02/sharefolder/Media/TMR/TMR_data/Up_to_2019Q4/output/\")\n",
    "\n",
    "Q4_2019_only_TMR.to_csv(\"/mnt/clients/juba/hqjubaapp02/sharefolder/Media/TMR/TMR_data/Up_to_2019Q4/output/BL_MMM_2019Q4_Only_JL_\"+str(datetime.datetime.now().date())+\".csv\",index=False)\n",
    "Cum_Q4_2019_TMR.to_csv(\"/mnt/clients/juba/hqjubaapp02/sharefolder/Media/TMR/TMR_data/Up_to_2019Q4/output/BL_MMM_long_cumu_up_to_2019Q4_JL_\"+str(datetime.datetime.now().date())+\".csv\",index=False)\n"
   ]
  }
 ],
 "metadata": {
  "kernelspec": {
   "display_name": "Python 3",
   "language": "python",
   "name": "python3"
  },
  "language_info": {
   "codemirror_mode": {
    "name": "ipython",
    "version": 3
   },
   "file_extension": ".py",
   "mimetype": "text/x-python",
   "name": "python",
   "nbconvert_exporter": "python",
   "pygments_lexer": "ipython3",
   "version": "3.7.6"
  }
 },
 "nbformat": 4,
 "nbformat_minor": 2
}
