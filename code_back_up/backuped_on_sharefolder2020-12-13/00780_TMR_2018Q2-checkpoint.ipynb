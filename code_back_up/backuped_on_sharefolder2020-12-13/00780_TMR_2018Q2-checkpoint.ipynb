{
 "cells": [
  {
   "cell_type": "code",
   "execution_count": 1,
   "metadata": {
    "collapsed": true
   },
   "outputs": [],
   "source": [
    "import pandas as pd\n",
    "import json\n",
    "import os\n",
    "import datetime\n",
    "import numpy as np\n",
    "import glob\n",
    "\n",
    "# Email to be allocated from EE to DMA, not done yet"
   ]
  },
  {
   "cell_type": "code",
   "execution_count": 2,
   "metadata": {
    "collapsed": true
   },
   "outputs": [],
   "source": [
    "today_str=str(datetime.datetime.now().date())\n",
    "writer_folder=\"/home/jian/Projects/Big_Lots/TMR/To_Spencer/output/\"+today_str+\"/\"\n",
    "try:\n",
    "    os.stat(writer_folder)\n",
    "except:\n",
    "    os.mkdir(writer_folder)"
   ]
  },
  {
   "cell_type": "code",
   "execution_count": null,
   "metadata": {
    "collapsed": true
   },
   "outputs": [],
   "source": []
  },
  {
   "cell_type": "code",
   "execution_count": 3,
   "metadata": {
    "collapsed": true
   },
   "outputs": [],
   "source": [
    "National_TV_2017=pd.read_csv(\"/home/jian/Projects/Big_Lots/TMR/To_Spencer/finaltvlogs_0306.csv\",dtype=str)\n",
    "\n",
    "National_TV_2017['impression']=National_TV_2017['Act Impression'].astype(float)\n",
    "National_TV_2017['cost']=National_TV_2017['Net Cost'].astype(float)\n",
    "National_TV_2017['week_start_date']=National_TV_2017['Week BL'].apply(lambda x: datetime.datetime.strptime(x,\"%m/%d/%y\").date())\n",
    "National_TV_2017=National_TV_2017[National_TV_2017['week_start_date']<datetime.date(2017,12,30)]\n",
    "National_TV_2017=National_TV_2017[National_TV_2017['week_start_date']>=datetime.date(2016,10,2)]"
   ]
  },
  {
   "cell_type": "code",
   "execution_count": 4,
   "metadata": {
    "collapsed": true
   },
   "outputs": [],
   "source": [
    "National_TV_2017=National_TV_2017[['week_start_date','cleaned DMA','Media Type','Network','impression','cost']]\n",
    "National_TV_2017=National_TV_2017.groupby(['week_start_date','cleaned DMA','Media Type','Network'])['impression','cost'].sum().reset_index()\n",
    "National_TV_2017=National_TV_2017.rename(columns={\"cleaned DMA\":\"cleaned dma\",\"Media Type\":\"submedia\",\"Network\":\"placement\"})\n",
    "National_TV_2017['submedia']=National_TV_2017['submedia'].replace(['National Cable','DirecTV'],\"National\")\n",
    "National_TV_2017['submedia']=National_TV_2017['submedia'].replace(['Spot Cable', 'Spot Broadcast', 'FOOTPRINT-SINCLAIR'],\"Local\")\n",
    "National_TV_2017=National_TV_2017[National_TV_2017['submedia']==\"National\"]"
   ]
  },
  {
   "cell_type": "code",
   "execution_count": 5,
   "metadata": {},
   "outputs": [
    {
     "data": {
      "text/plain": [
       "1375276921.0"
      ]
     },
     "execution_count": 5,
     "metadata": {},
     "output_type": "execute_result"
    }
   ],
   "source": [
    "National_TV_2017['impression'].sum()"
   ]
  },
  {
   "cell_type": "code",
   "execution_count": 6,
   "metadata": {
    "collapsed": true
   },
   "outputs": [],
   "source": [
    "data_Joann=pd.read_table(\"/home/jian/Projects/Big_Lots/TMR/To_Spencer/Up_to_2018Q2/BL ALL TMR 0926 updated.dat\",sep=\"\\t\",dtype=str)\n",
    "data_Joann['week date']=data_Joann['week date'].apply(lambda x: datetime.datetime.strptime(x,\"%m/%d/%Y\").date())"
   ]
  },
  {
   "cell_type": "code",
   "execution_count": 7,
   "metadata": {
    "collapsed": true
   },
   "outputs": [],
   "source": [
    "data_Joann['impression']=data_Joann['impression'].astype(float)\n",
    "data_Joann['click']=data_Joann['click'].astype(float)\n",
    "data_Joann['cost']=data_Joann['cost'].astype(float)"
   ]
  },
  {
   "cell_type": "code",
   "execution_count": 8,
   "metadata": {
    "collapsed": true
   },
   "outputs": [],
   "source": [
    "# Replace Q2 TV from Connor because of actualized spend\n",
    "\n",
    "new_Q2_TV=pd.read_csv(\"/home/jian/Projects/Big_Lots/TMR/To_Spencer/Up_to_2018Q2/BigLots_Q2_TMR_TV_CC_20181016.csv\",dtype=str)\n",
    "new_Q2_TV=new_Q2_TV[data_Joann.columns.tolist()]\n",
    "new_Q2_TV['week date']=new_Q2_TV['week date'].apply(lambda x: datetime.datetime.strptime(x,\"%m/%d/%Y\").date())\n",
    "new_Q2_TV['impression']=new_Q2_TV['impression'].astype(float)\n",
    "new_Q2_TV['click']=new_Q2_TV['click'].astype(float)\n",
    "new_Q2_TV['cost']=new_Q2_TV['cost'].astype(float)\n",
    "\n",
    "data_Joann_Q2_TV=data_Joann[(data_Joann['media']==\"TV\") & (data_Joann['week date']>=datetime.date(2018,5,6)) & (data_Joann['week date']<=datetime.date(2018,8,4))]\n",
    "data_Joann_others=data_Joann[(data_Joann['media']!=\"TV\") | (data_Joann['week date']<datetime.date(2018,5,6)) | (data_Joann['week date']>datetime.date(2018,8,4))]\n",
    "\n",
    "data_Joann=data_Joann_others.append(new_Q2_TV)\n"
   ]
  },
  {
   "cell_type": "code",
   "execution_count": 9,
   "metadata": {},
   "outputs": [
    {
     "data": {
      "text/plain": [
       "'\\ndate_range_func={\"week date\":[\\'max\\',\\'min\\'],\"impression\":\"sum\",\"click\":\"sum\",\"cost\":\"sum\"}\\ndata_Joann.groupby([\\'media\\',\\'submedia\\'])[\\'week date\\',\\'impression\\',\\'click\\',\\'cost\\'].agg(date_range_func).reset_index()\\n'"
      ]
     },
     "execution_count": 9,
     "metadata": {},
     "output_type": "execute_result"
    }
   ],
   "source": [
    "'''\n",
    "date_range_func={\"week date\":['max','min'],\"impression\":\"sum\",\"click\":\"sum\",\"cost\":\"sum\"}\n",
    "data_Joann.groupby(['media','submedia'])['week date','impression','click','cost'].agg(date_range_func).reset_index()\n",
    "'''"
   ]
  },
  {
   "cell_type": "code",
   "execution_count": 10,
   "metadata": {
    "collapsed": true
   },
   "outputs": [],
   "source": [
    "data_Joann=data_Joann[data_Joann['week date']<=datetime.date(2018,7,29)] # week start date\n",
    "data_Joann=data_Joann[data_Joann['week date']>=datetime.date(2016,10,1)]\n",
    "data_Joann['week date']=data_Joann['week date'].astype(str)"
   ]
  },
  {
   "cell_type": "code",
   "execution_count": 11,
   "metadata": {},
   "outputs": [
    {
     "data": {
      "text/html": [
       "<div>\n",
       "<style>\n",
       "    .dataframe thead tr:only-child th {\n",
       "        text-align: right;\n",
       "    }\n",
       "\n",
       "    .dataframe thead th {\n",
       "        text-align: left;\n",
       "    }\n",
       "\n",
       "    .dataframe tbody tr th {\n",
       "        vertical-align: top;\n",
       "    }\n",
       "</style>\n",
       "<table border=\"1\" class=\"dataframe\">\n",
       "  <thead>\n",
       "    <tr style=\"text-align: right;\">\n",
       "      <th></th>\n",
       "      <th>week date</th>\n",
       "      <th>media</th>\n",
       "      <th>submedia</th>\n",
       "      <th>placement</th>\n",
       "      <th>impression</th>\n",
       "      <th>click</th>\n",
       "      <th>cost</th>\n",
       "      <th>cleaned dma</th>\n",
       "    </tr>\n",
       "  </thead>\n",
       "  <tbody>\n",
       "    <tr>\n",
       "      <th>0</th>\n",
       "      <td>2018-04-29</td>\n",
       "      <td>Digital</td>\n",
       "      <td>Flipp</td>\n",
       "      <td>Flipp App</td>\n",
       "      <td>3.0</td>\n",
       "      <td>1.0</td>\n",
       "      <td>0.29</td>\n",
       "      <td>Abilene-Sweetwater, TX</td>\n",
       "    </tr>\n",
       "    <tr>\n",
       "      <th>1</th>\n",
       "      <td>2018-04-29</td>\n",
       "      <td>Digital</td>\n",
       "      <td>Flipp</td>\n",
       "      <td>Flipp App</td>\n",
       "      <td>217.0</td>\n",
       "      <td>117.0</td>\n",
       "      <td>33.93</td>\n",
       "      <td>Abilene-Sweetwater, TX</td>\n",
       "    </tr>\n",
       "  </tbody>\n",
       "</table>\n",
       "</div>"
      ],
      "text/plain": [
       "    week date    media submedia  placement  impression  click   cost  \\\n",
       "0  2018-04-29  Digital    Flipp  Flipp App         3.0    1.0   0.29   \n",
       "1  2018-04-29  Digital    Flipp  Flipp App       217.0  117.0  33.93   \n",
       "\n",
       "              cleaned dma  \n",
       "0  Abilene-Sweetwater, TX  \n",
       "1  Abilene-Sweetwater, TX  "
      ]
     },
     "execution_count": 11,
     "metadata": {},
     "output_type": "execute_result"
    }
   ],
   "source": [
    "data_Joann.head(2)"
   ]
  },
  {
   "cell_type": "code",
   "execution_count": 15,
   "metadata": {},
   "outputs": [
    {
     "name": "stderr",
     "output_type": "stream",
     "text": [
      "/usr/local/lib/python3.6/site-packages/ipykernel_launcher.py:3: SettingWithCopyWarning: \n",
      "A value is trying to be set on a copy of a slice from a DataFrame.\n",
      "Try using .loc[row_indexer,col_indexer] = value instead\n",
      "\n",
      "See the caveats in the documentation: http://pandas.pydata.org/pandas-docs/stable/indexing.html#indexing-view-versus-copy\n",
      "  This is separate from the ipykernel package so we can avoid doing imports until\n"
     ]
    }
   ],
   "source": [
    "email_all=data_Joann[data_Joann['media']==\"Email\"]\n",
    "non_email_all=data_Joann[data_Joann['media']!=\"Email\"]\n",
    "email_all['cost']=email_all['impression']*0.000455784518529597\n",
    "data_Joann=email_all.append(non_email_all)"
   ]
  },
  {
   "cell_type": "code",
   "execution_count": null,
   "metadata": {
    "collapsed": true
   },
   "outputs": [],
   "source": []
  },
  {
   "cell_type": "code",
   "execution_count": null,
   "metadata": {
    "collapsed": true
   },
   "outputs": [],
   "source": []
  },
  {
   "cell_type": "code",
   "execution_count": 16,
   "metadata": {
    "collapsed": true
   },
   "outputs": [],
   "source": [
    "data_media_national=data_Joann.groupby(['week date','media'])[['impression','click','cost']].sum().reset_index()\n",
    "\n",
    "data_sub_media_national=data_Joann.groupby(['week date','media','submedia'])[['impression','click','cost']].sum().reset_index()\n",
    "data_sub_media_national['submedia']=data_sub_media_national['media']+\"_\"+data_sub_media_national['submedia']\n",
    "del data_sub_media_national['media']"
   ]
  },
  {
   "cell_type": "code",
   "execution_count": 17,
   "metadata": {
    "collapsed": true
   },
   "outputs": [],
   "source": [
    "data_sub_media_national['week_start_date']=data_sub_media_national['week date']\n",
    "data_sub_media_national['week_start_date']=data_sub_media_national['week_start_date'].apply(lambda x: datetime.datetime.strptime(x,\"%Y-%m-%d\").date())\n",
    "data_sub_media_national_2018=data_sub_media_national[data_sub_media_national['week_start_date']>=datetime.date(2017,12,31)]\n",
    "data_sub_media_national_2017=data_sub_media_national[data_sub_media_national['week_start_date']<datetime.date(2017,12,31)]\n",
    "data_sub_media_national_2017_Non_NationalTV=data_sub_media_national_2017[data_sub_media_national_2017['submedia']!=\"TV_National\"]\n",
    "data_sub_media_national_2017_NationalTV=data_sub_media_national_2017[data_sub_media_national_2017['submedia']==\"TV_National\"]\n"
   ]
  },
  {
   "cell_type": "code",
   "execution_count": 18,
   "metadata": {},
   "outputs": [
    {
     "name": "stderr",
     "output_type": "stream",
     "text": [
      "/usr/local/lib/python3.6/site-packages/ipykernel_launcher.py:4: SettingWithCopyWarning: \n",
      "A value is trying to be set on a copy of a slice from a DataFrame.\n",
      "Try using .loc[row_indexer,col_indexer] = value instead\n",
      "\n",
      "See the caveats in the documentation: http://pandas.pydata.org/pandas-docs/stable/indexing.html#indexing-view-versus-copy\n",
      "  after removing the cwd from sys.path.\n",
      "/usr/local/lib/python3.6/site-packages/ipykernel_launcher.py:6: SettingWithCopyWarning: \n",
      "A value is trying to be set on a copy of a slice from a DataFrame.\n",
      "Try using .loc[row_indexer,col_indexer] = value instead\n",
      "\n",
      "See the caveats in the documentation: http://pandas.pydata.org/pandas-docs/stable/indexing.html#indexing-view-versus-copy\n",
      "  \n"
     ]
    }
   ],
   "source": [
    "National_TV_2017['week date']=np.nan\n",
    "National_TV_2017['click']=0\n",
    "data_sub_media_national_2017_NationalTV=National_TV_2017[['week date','submedia','impression','click','cost','week_start_date']]\n",
    "data_sub_media_national_2017_NationalTV['submedia']=\"TV_National\"\n",
    "\n",
    "data_sub_media_national_2017_NationalTV['week date']=data_sub_media_national_2017_NationalTV['week_start_date'].astype(str)\n",
    "data_sub_media_national_2017_NationalTV=data_sub_media_national_2017_NationalTV.groupby(['week date','submedia','week_start_date'])['impression','click','cost'].sum().reset_index()\n"
   ]
  },
  {
   "cell_type": "code",
   "execution_count": 19,
   "metadata": {
    "collapsed": true
   },
   "outputs": [],
   "source": [
    "data_sub_media_national=data_sub_media_national_2017_Non_NationalTV.append(data_sub_media_national_2017_NationalTV).append(data_sub_media_national_2018)\n",
    "data_sub_media_national=data_sub_media_national.reset_index()\n",
    "del data_sub_media_national['index']"
   ]
  },
  {
   "cell_type": "code",
   "execution_count": 20,
   "metadata": {},
   "outputs": [
    {
     "data": {
      "text/html": [
       "<div>\n",
       "<style>\n",
       "    .dataframe thead tr:only-child th {\n",
       "        text-align: right;\n",
       "    }\n",
       "\n",
       "    .dataframe thead th {\n",
       "        text-align: left;\n",
       "    }\n",
       "\n",
       "    .dataframe tbody tr th {\n",
       "        vertical-align: top;\n",
       "    }\n",
       "</style>\n",
       "<table border=\"1\" class=\"dataframe\">\n",
       "  <thead>\n",
       "    <tr style=\"text-align: right;\">\n",
       "      <th></th>\n",
       "      <th>week date</th>\n",
       "      <th>submedia</th>\n",
       "      <th>week_start_date</th>\n",
       "      <th>impression</th>\n",
       "      <th>click</th>\n",
       "      <th>cost</th>\n",
       "    </tr>\n",
       "  </thead>\n",
       "  <tbody>\n",
       "    <tr>\n",
       "      <th>0</th>\n",
       "      <td>2016-10-02</td>\n",
       "      <td>TV_National</td>\n",
       "      <td>2016-10-02</td>\n",
       "      <td>15047500.0</td>\n",
       "      <td>0</td>\n",
       "      <td>259229.60</td>\n",
       "    </tr>\n",
       "    <tr>\n",
       "      <th>1</th>\n",
       "      <td>2016-10-09</td>\n",
       "      <td>TV_National</td>\n",
       "      <td>2016-10-09</td>\n",
       "      <td>36599200.0</td>\n",
       "      <td>0</td>\n",
       "      <td>846330.98</td>\n",
       "    </tr>\n",
       "  </tbody>\n",
       "</table>\n",
       "</div>"
      ],
      "text/plain": [
       "    week date     submedia week_start_date  impression  click       cost\n",
       "0  2016-10-02  TV_National      2016-10-02  15047500.0      0  259229.60\n",
       "1  2016-10-09  TV_National      2016-10-09  36599200.0      0  846330.98"
      ]
     },
     "execution_count": 20,
     "metadata": {},
     "output_type": "execute_result"
    }
   ],
   "source": [
    "data_sub_media_national_2017_NationalTV.head(2)"
   ]
  },
  {
   "cell_type": "code",
   "execution_count": 21,
   "metadata": {
    "collapsed": true
   },
   "outputs": [],
   "source": [
    "def pivot_level_media(level,df_input):\n",
    "    df_impr=df_input[['week date',level,'impression']]\n",
    "    df_impr=df_impr.pivot_table(index='week date',columns=level,values='impression').reset_index()\n",
    "    for col in df_impr.columns.tolist()[1:]:\n",
    "        df_impr=df_impr.rename(columns={col:col+\"_impr\"})\n",
    "        \n",
    "    df_click=df_input[['week date',level,'click']]\n",
    "    df_click=df_click.pivot_table(index='week date',columns=level,values='click').reset_index()\n",
    "    for col in df_click.columns.tolist()[1:]:\n",
    "        df_click=df_click.rename(columns={col:col+\"_click\"})\n",
    "        \n",
    "    df_cost=df_input[['week date',level,'cost']]\n",
    "    df_cost=df_cost.pivot_table(index='week date',columns=level,values='cost').reset_index()\n",
    "    for col in df_cost.columns.tolist()[1:]:\n",
    "        df_cost=df_cost.rename(columns={col:col+\"_cost\"})\n",
    "        \n",
    "    result=pd.merge(df_impr,df_click,on=\"week date\",how=\"outer\")\n",
    "    result=pd.merge(result,df_cost,on=\"week date\",how=\"outer\")\n",
    "    result=result.fillna(0)\n",
    "    return result"
   ]
  },
  {
   "cell_type": "code",
   "execution_count": 22,
   "metadata": {
    "collapsed": true
   },
   "outputs": [],
   "source": [
    "data_media_national_wide=pivot_level_media('media',data_media_national)\n",
    "data_submedia_national_wide=pivot_level_media('submedia',data_sub_media_national)"
   ]
  },
  {
   "cell_type": "code",
   "execution_count": 23,
   "metadata": {
    "collapsed": true
   },
   "outputs": [],
   "source": [
    "data_media_dma=data_Joann.groupby(['week date','media','cleaned dma'])[['impression','click','cost']].sum().reset_index()\n",
    "data_media_dma=data_media_dma[data_media_dma['cleaned dma']!=\"National\"]\n",
    "data_media_dma=data_media_dma[data_media_dma['cleaned dma']!=\"xx\"]\n",
    "data_sub_media_dma=data_Joann.groupby(['week date','media','submedia','cleaned dma'])[['impression','click','cost']].sum().reset_index()\n",
    "data_sub_media_dma['submedia']=data_sub_media_dma['media']+\"_\"+data_sub_media_dma['submedia']\n",
    "del data_sub_media_dma['media']\n",
    "data_sub_media_dma=data_sub_media_dma[data_sub_media_dma['cleaned dma']!=\"National\"]\n",
    "data_sub_media_dma=data_sub_media_dma[data_sub_media_dma['cleaned dma']!=\"xx\"]\n",
    "\n",
    "data_media_dma['week date']=data_media_dma['week date']+\"|\"+data_media_dma['cleaned dma']\n",
    "del data_media_dma['cleaned dma']\n",
    "\n",
    "data_sub_media_dma['week date']=data_sub_media_dma['week date']+\"|\"+data_sub_media_dma['cleaned dma']\n",
    "del data_sub_media_dma['cleaned dma']\n"
   ]
  },
  {
   "cell_type": "code",
   "execution_count": 24,
   "metadata": {
    "collapsed": true
   },
   "outputs": [],
   "source": [
    "data_media_dma_wide=pivot_level_media('media',data_media_dma)\n",
    "data_media_dma_wide['cleaned dma']=data_media_dma_wide['week date'].apply(lambda x: x.split(\"|\")[1])\n",
    "data_media_dma_wide['week date']=data_media_dma_wide['week date'].apply(lambda x: x.split(\"|\")[0])\n",
    "\n",
    "data_submedia_dma_wide=pivot_level_media('submedia',data_sub_media_dma)\n",
    "data_submedia_dma_wide['cleaned dma']=data_submedia_dma_wide['week date'].apply(lambda x: x.split(\"|\")[1])\n",
    "data_submedia_dma_wide['week date']=data_submedia_dma_wide['week date'].apply(lambda x: x.split(\"|\")[0])"
   ]
  },
  {
   "cell_type": "code",
   "execution_count": null,
   "metadata": {
    "collapsed": true
   },
   "outputs": [],
   "source": []
  },
  {
   "cell_type": "code",
   "execution_count": 25,
   "metadata": {
    "collapsed": true
   },
   "outputs": [],
   "source": [
    "data_media_national_wide['week date']=data_media_national_wide['week date'].apply(lambda x:datetime.datetime.strptime(x,\"%Y-%m-%d\").date())\n",
    "data_submedia_national_wide['week date']=data_submedia_national_wide['week date'].apply(lambda x:datetime.datetime.strptime(x,\"%Y-%m-%d\").date())\n",
    "\n",
    "data_media_dma_wide['week date']=data_media_dma_wide['week date'].apply(lambda x:datetime.datetime.strptime(x,\"%Y-%m-%d\").date())\n",
    "data_submedia_dma_wide['week date']=data_submedia_dma_wide['week date'].apply(lambda x:datetime.datetime.strptime(x,\"%Y-%m-%d\").date())\n"
   ]
  },
  {
   "cell_type": "markdown",
   "metadata": {},
   "source": [
    "# Sales & Transaction"
   ]
  },
  {
   "cell_type": "code",
   "execution_count": null,
   "metadata": {
    "collapsed": true
   },
   "outputs": [],
   "source": [
    "folder_file_pattern=glob.glob(\"/home/jian/Projects/Big_Lots/Sales_All/Sales_Data/*.txt\")\n",
    "sales_all=pd.DataFrame()\n",
    "\n",
    "for file in folder_file_pattern:\n",
    "    df=pd.read_csv(file,sep=\"|\",dtype=str,na_values=\"?\")\n",
    "\n",
    "    if \"class_code_id\" in df.columns:\n",
    "        try:\n",
    "            df['week_end_dt']=df['week_end_dt'].apply(lambda x: datetime.datetime.strptime(x,\"%Y-%m-%d\").date())\n",
    "            \n",
    "        except:\n",
    "            print(file,\"Date Error\")\n",
    "\n",
    "    \n",
    "    else:\n",
    "        print(file,\"Error: class_code_id not in columns\")\n",
    "        \n",
    "    sales_all=sales_all.append(df)\n",
    "    \n",
    "sales_all['class_gross_sales_amt']=sales_all['class_gross_sales_amt'].astype(float)\n",
    "sales_all['class_gross_sales_amt']=sales_all['class_gross_sales_amt'].fillna(0.0)\n",
    "sales_all['subclass_gross_sales_amt']=sales_all['subclass_gross_sales_amt'].astype(float)\n",
    "sales_all['subclass_gross_sales_amt']=np.where(pd.isnull(sales_all['subclass_gross_sales_amt']),sales_all['class_gross_sales_amt'],sales_all['subclass_gross_sales_amt'])\n",
    "\n",
    "trans_all=sales_all.copy()\n",
    "sales_all=sales_all[(sales_all['week_end_dt']<=datetime.date(2018,8,4)) & (sales_all['week_end_dt']>=datetime.date(2016,10,8))]    \n",
    "sales_all=sales_all.drop_duplicates()\n",
    "ecommerce_sales=sales_all[sales_all['location_id']==\"6990\"]\n",
    "sales_all=sales_all[sales_all['location_id']!=\"6990\"]\n",
    "sales_all=sales_all[sales_all['location_id']!=\"145\"]"
   ]
  },
  {
   "cell_type": "code",
   "execution_count": null,
   "metadata": {
    "collapsed": true
   },
   "outputs": [],
   "source": [
    "trans_all=trans_all[['location_id','week_end_dt','gross_transaction_cnt']].drop_duplicates()\n",
    "trans_all['gross_transaction_cnt']=trans_all['gross_transaction_cnt'].astype(int)\n",
    "trans_all['week_end_dt']=trans_all['week_end_dt'].astype(str)\n",
    "trans_all_0429=trans_all[trans_all['week_end_dt']==\"2017-04-29\"]\n",
    "trans_all_0429['week_end_dt']=\"2017-05-06\"\n",
    "trans_all_0429=trans_all_0429.rename(columns={\"gross_transaction_cnt\":\"0429\"})\n",
    "\n",
    "trans_all_0513=trans_all[trans_all['week_end_dt']==\"2017-05-13\"]\n",
    "trans_all_0513['week_end_dt']=\"2017-05-06\"\n",
    "trans_all_0513=trans_all_0513.rename(columns={\"gross_transaction_cnt\":\"0513\"})\n",
    "\n",
    "trans_all_0506=pd.merge(trans_all_0429,trans_all_0513,on=['location_id','week_end_dt'],how=\"outer\")\n",
    "trans_all_0506=trans_all_0506.fillna(0)\n",
    "trans_all_0506['gross_transaction_cnt']=(trans_all_0506['0429']+trans_all_0506['0513'])/2\n",
    "trans_all_0506=trans_all_0506[['location_id','week_end_dt','gross_transaction_cnt']]\n",
    "\n",
    "trans_all_exc=trans_all[trans_all['week_end_dt']!=\"2017-05-06\"]\n",
    "trans_data=trans_all_exc.append(trans_all_0506)\n",
    "trans_data=trans_data.sort_values(['location_id','week_end_dt'])\n",
    "# trans_data['week_end_dt']=trans_data['week_end_dt'].apply(lambda x: datetime.datetime.strptime(x,\"%Y-%m-%d\").date())\n",
    "\n",
    "ecommerce_trans=trans_data[trans_data['location_id']==\"6990\"]\n",
    "trans_data=trans_data[trans_data['location_id']!=\"6990\"]\n",
    "trans_data=trans_data[trans_data['location_id']!=\"145\"]"
   ]
  },
  {
   "cell_type": "code",
   "execution_count": null,
   "metadata": {
    "collapsed": true
   },
   "outputs": [],
   "source": [
    "store_DMA=pd.read_excel(\"/home/jian/Projects/Big_Lots/Other_Input/all_store_DMA_20180726.xlsx\",dtype=str)\n",
    "store_DMA=store_DMA[['location_id','cleaned_dma']].rename(columns={\"cleaned_dma\":\"cleaned dma\"})\n",
    "# dma_clean=pd.read_excel(\"/home/jian/Projects/Big_Lots/Other_Input/DMA cleaning.xlsx\",dtype=str)"
   ]
  },
  {
   "cell_type": "code",
   "execution_count": null,
   "metadata": {
    "collapsed": true
   },
   "outputs": [],
   "source": [
    "sales_all_by_store=sales_all.groupby(['location_id','week_end_dt'])['subclass_gross_sales_amt'].sum().to_frame().reset_index()\n",
    "sales_all_by_store=pd.merge(sales_all_by_store,store_DMA,on=\"location_id\",how=\"left\")\n",
    "trans_data['week_end_dt']=trans_data['week_end_dt'].apply(lambda x: datetime.datetime.strptime(x,\"%Y-%m-%d\").date())\n",
    "\n",
    "transaction_sales_data=pd.merge(sales_all_by_store,trans_data,on=['location_id','week_end_dt'],how=\"left\")"
   ]
  },
  {
   "cell_type": "code",
   "execution_count": null,
   "metadata": {
    "collapsed": true
   },
   "outputs": [],
   "source": [
    "transaction_sales_data['subclass_gross_sales_amt'].apply(lambda x: type(x)).unique()"
   ]
  },
  {
   "cell_type": "code",
   "execution_count": null,
   "metadata": {
    "collapsed": true
   },
   "outputs": [],
   "source": [
    "transaction_sales_data_dma=transaction_sales_data.groupby(['cleaned dma','week_end_dt'])[['subclass_gross_sales_amt','gross_transaction_cnt']].sum().reset_index()\n",
    "\n",
    "transaction_sales_data_dma=transaction_sales_data_dma[(transaction_sales_data_dma['week_end_dt']>=datetime.date(2016,10,8)) &\\\n",
    "                                                     (transaction_sales_data_dma['week_end_dt']<=datetime.date(2018,8,4))]\n",
    "transaction_sales_data_dma=transaction_sales_data_dma.rename(columns={\"subclass_gross_sales_amt\":\"sales\",'gross_transaction_cnt':\"trans\"})\n",
    "transaction_sales_data_dma['week date']=transaction_sales_data_dma['week_end_dt'].apply(lambda x: x-datetime.timedelta(days=6))\n",
    "\n",
    "del transaction_sales_data_dma['week_end_dt']\n",
    "transaction_sales_data_national=transaction_sales_data_dma.groupby(['week date'])['sales','trans'].sum().reset_index()\n"
   ]
  },
  {
   "cell_type": "code",
   "execution_count": null,
   "metadata": {
    "collapsed": true
   },
   "outputs": [],
   "source": [
    "store_counts_dma=sales_all_by_store[sales_all_by_store['subclass_gross_sales_amt']>0]\n",
    "store_counts_dma=store_counts_dma.groupby(['cleaned dma','week_end_dt'])['location_id'].count().to_frame().reset_index()\n",
    "store_counts_dma=store_counts_dma.rename(columns={\"location_id\":\"store_count\"})\n",
    "store_counts_dma['week date']=store_counts_dma['week_end_dt'].apply(lambda x: x-datetime.timedelta(days=6))\n",
    "\n",
    "\n",
    "store_counts_national=store_counts_dma.groupby(['week_end_dt'])['store_count'].sum().to_frame().reset_index()\n",
    "\n",
    "store_counts_dma['week date']=store_counts_dma['week_end_dt'].apply(lambda x: x-datetime.timedelta(days=6))\n",
    "store_counts_national['week date']=store_counts_national['week_end_dt'].apply(lambda x: x-datetime.timedelta(days=6))\n",
    "\n",
    "del store_counts_dma['week_end_dt']\n",
    "del store_counts_national['week_end_dt']\n"
   ]
  },
  {
   "cell_type": "code",
   "execution_count": null,
   "metadata": {
    "collapsed": true
   },
   "outputs": [],
   "source": [
    "MMM_national_media=pd.merge(data_media_national_wide,store_counts_national,on=\"week date\",how=\"left\")\n",
    "MMM_national_media=pd.merge(MMM_national_media,transaction_sales_data_national,on=\"week date\",how=\"left\")\n",
    "\n",
    "MMM_dma_media=pd.merge(data_media_dma_wide,store_counts_dma,on=[\"week date\",\"cleaned dma\"],how=\"left\")\n",
    "MMM_dma_media=pd.merge(MMM_dma_media,transaction_sales_data_dma,on=[\"week date\",\"cleaned dma\"],how=\"left\")\n",
    "\n",
    "MMM_national_sub_media=pd.merge(data_submedia_national_wide,store_counts_national,on=\"week date\",how=\"left\")\n",
    "MMM_national_sub_media=pd.merge(MMM_national_sub_media,transaction_sales_data_national,on=\"week date\",how=\"left\")\n",
    "\n",
    "MMM_dma_sub_media=pd.merge(data_submedia_dma_wide,store_counts_dma,on=[\"week date\",\"cleaned dma\"],how=\"left\")\n",
    "MMM_dma_sub_media=pd.merge(MMM_dma_sub_media,transaction_sales_data_dma,on=[\"week date\",\"cleaned dma\"],how=\"left\")\n"
   ]
  },
  {
   "cell_type": "code",
   "execution_count": null,
   "metadata": {
    "collapsed": true
   },
   "outputs": [],
   "source": [
    "MMM_national_media=MMM_national_media.sort_values(['week date'])\n",
    "MMM_dma_media=MMM_dma_media.sort_values(['week date','cleaned dma'])\n",
    "MMM_national_sub_media=MMM_national_sub_media.sort_values(['week date'])\n",
    "MMM_dma_sub_media=MMM_dma_sub_media.sort_values(['week date','cleaned dma'])\n",
    "\n",
    "def order_columns(df):\n",
    "    iv_list=[col for col in df.columns.tolist() if \"_\" in col]\n",
    "    dv_list=[col for col in df.columns.tolist() if \"_\" not in col]\n",
    "    df=df[dv_list+iv_list]\n",
    "    return df\n",
    "MMM_national_media=order_columns(MMM_national_media)\n",
    "MMM_dma_media=order_columns(MMM_dma_media)\n",
    "MMM_dma_media=MMM_dma_media[~pd.isnull(MMM_dma_media['sales'])]\n",
    "MMM_national_sub_media=order_columns(MMM_national_sub_media)\n",
    "MMM_dma_sub_media=order_columns(MMM_dma_sub_media)\n",
    "MMM_dma_sub_media=MMM_dma_sub_media[~pd.isnull(MMM_dma_sub_media['sales'])]\n",
    "\n",
    "'''\n",
    "MMM_national_media.to_csv(writer_folder+\"BL_MMM_national_media_JL_\"+today_str+\".csv\",index=False)\n",
    "MMM_dma_media.to_csv(writer_folder+\"BL_MMM_dma_media_JL_\"+today_str+\".csv\",index=False)\n",
    "MMM_national_sub_media.to_csv(writer_folder+\"BL_MMM_national_sub_media_JL_\"+today_str+\".csv\",index=False)\n",
    "MMM_dma_sub_media.to_csv(writer_folder+\"BL_MMM_dma_sub_media_JL_\"+today_str+\".csv\",index=False)\n",
    "'''"
   ]
  },
  {
   "cell_type": "code",
   "execution_count": null,
   "metadata": {
    "collapsed": true
   },
   "outputs": [],
   "source": [
    "ecommerce_trans_by_week=ecommerce_trans[['week_end_dt','gross_transaction_cnt']].rename(columns={\"gross_transaction_cnt\":\"e_transaction\"})\n",
    "ecommerce_trans_by_week['week_end_dt']=ecommerce_trans_by_week['week_end_dt'].apply(lambda x: datetime.datetime.strptime(x,\"%Y-%m-%d\").date())\n",
    "ecommerce_trans_by_week['week date']=ecommerce_trans_by_week['week_end_dt'].apply(lambda x: x-datetime.timedelta(days=6))\n",
    "ecommerce_trans_by_week=ecommerce_trans_by_week[['week date','e_transaction']]\n",
    "\n"
   ]
  },
  {
   "cell_type": "code",
   "execution_count": null,
   "metadata": {
    "collapsed": true
   },
   "outputs": [],
   "source": [
    "ecommerce_sales_by_week=ecommerce_sales.groupby(['week_end_dt'])['subclass_gross_sales_amt'].sum().to_frame().reset_index()\n",
    "ecommerce_sales_by_week=ecommerce_sales_by_week.rename(columns={\"subclass_gross_sales_amt\":\"e_sales\"})\n",
    "ecommerce_sales_by_week['week date']=ecommerce_sales_by_week['week_end_dt'].apply(lambda x: x-datetime.timedelta(days=6))\n",
    "ecommerce_sales_by_week=ecommerce_sales_by_week[['week date','e_sales']]\n",
    "ecommerce_sales_by_week.head(2)"
   ]
  },
  {
   "cell_type": "code",
   "execution_count": null,
   "metadata": {
    "collapsed": true
   },
   "outputs": [],
   "source": [
    "ecommerce_trans_by_week.tail(2)"
   ]
  },
  {
   "cell_type": "code",
   "execution_count": null,
   "metadata": {
    "collapsed": true
   },
   "outputs": [],
   "source": [
    "MMM_national_media=pd.merge(MMM_national_media,ecommerce_sales_by_week,on=\"week date\",how=\"left\")\n",
    "MMM_national_media=pd.merge(MMM_national_media,ecommerce_trans_by_week,on=\"week date\",how=\"left\")\n",
    "\n",
    "MMM_national_sub_media=pd.merge(MMM_national_sub_media,ecommerce_sales_by_week,on=\"week date\",how=\"left\")\n",
    "MMM_national_sub_media=pd.merge(MMM_national_sub_media,ecommerce_trans_by_week,on=\"week date\",how=\"left\")"
   ]
  },
  {
   "cell_type": "code",
   "execution_count": null,
   "metadata": {
    "collapsed": true
   },
   "outputs": [],
   "source": [
    "Binary_List_1=[datetime.date(2016,12,18),datetime.date(2017,12,17)]\n",
    "\n",
    "Binary_List_2_16=[datetime.date(2016,11,20)+datetime.timedelta(days=x*7) for x in range(5)]\n",
    "Binary_List_2_17=[datetime.date(2017,11,19)+datetime.timedelta(days=x*7) for x in range(5)]\n",
    "Binary_List_2=Binary_List_2_16+Binary_List_2_17\n",
    "\n",
    "MMM_national_media['Holiday_1_week_only_Ind']=np.where(np.isin(MMM_national_media['week date'],Binary_List_1),1,0)\n",
    "MMM_national_media['Holiday_5_weeks_Indicator']=np.where(np.isin(MMM_national_media['week date'],Binary_List_2),1,0)\n",
    "\n",
    "MMM_dma_media['Holiday_1_week_only_Ind']=np.where(np.isin(MMM_dma_media['week date'],Binary_List_1),1,0)\n",
    "MMM_dma_media['Holiday_5_weeks_Indicator']=np.where(np.isin(MMM_dma_media['week date'],Binary_List_2),1,0)\n",
    "\n",
    "MMM_national_sub_media['Holiday_1_week_only_Ind']=np.where(np.isin(MMM_national_sub_media['week date'],Binary_List_1),1,0)\n",
    "MMM_national_sub_media['Holiday_5_weeks_Indicator']=np.where(np.isin(MMM_national_sub_media['week date'],Binary_List_2),1,0)\n",
    "\n",
    "MMM_dma_sub_media['Holiday_1_week_only_Ind']=np.where(np.isin(MMM_dma_sub_media['week date'],Binary_List_1),1,0)\n",
    "MMM_dma_sub_media['Holiday_5_weeks_Indicator']=np.where(np.isin(MMM_dma_sub_media['week date'],Binary_List_2),1,0)"
   ]
  },
  {
   "cell_type": "code",
   "execution_count": null,
   "metadata": {
    "collapsed": true
   },
   "outputs": [],
   "source": [
    "MMM_dma_sub_media.head(2)"
   ]
  },
  {
   "cell_type": "code",
   "execution_count": null,
   "metadata": {
    "collapsed": true
   },
   "outputs": [],
   "source": [
    "# Add the sales 20% dummy variables\n",
    "Rewards_Promotion_list=[datetime.date(2016,10,1),datetime.date(2016,10,2),\n",
    "                  datetime.date(2017,1,21),datetime.date(2017,1,22),\n",
    "                  datetime.date(2017,4,1),datetime.date(2017,4,2),\n",
    "                  datetime.date(2017,7,8),datetime.date(2017,7,9),\n",
    "                  datetime.date(2017,9,30),datetime.date(2017,10,1),\n",
    "                  datetime.date(2018,1,20),datetime.date(2018,1,21),\n",
    "                  datetime.date(2018,4,7),datetime.date(2018,4,8),\n",
    "                  datetime.date(2018,7,7),datetime.date(2018,7,8)]\n",
    "df_Rewards_Promotion=pd.DataFrame({\"Date\":Rewards_Promotion_list},index=range(len(Rewards_Promotion_list)))\n",
    "df_Rewards_Promotion['weekday']=df_Rewards_Promotion['Date'].apply(lambda x: x.weekday())\n",
    "df_Rewards_Promotion['week date']=np.where(df_Rewards_Promotion['weekday']==6,df_Rewards_Promotion['Date'],df_Rewards_Promotion['Date']-datetime.timedelta(days=6))\n",
    "\n",
    "del df_Rewards_Promotion['Date']\n",
    "\n",
    "df_Rewards_Promotion_Sunday=df_Rewards_Promotion[df_Rewards_Promotion['weekday']==6]\n",
    "df_Rewards_Promotion_Sunday['Sunday_rewards_ind']=1\n",
    "del df_Rewards_Promotion_Sunday['weekday']\n",
    "df_Rewards_Promotion_Saturday=df_Rewards_Promotion[df_Rewards_Promotion['weekday']==5]\n",
    "df_Rewards_Promotion_Saturday['Saturday_rewards_ind']=1\n",
    "del df_Rewards_Promotion_Saturday['weekday']"
   ]
  },
  {
   "cell_type": "code",
   "execution_count": null,
   "metadata": {
    "collapsed": true
   },
   "outputs": [],
   "source": []
  },
  {
   "cell_type": "code",
   "execution_count": null,
   "metadata": {
    "collapsed": true
   },
   "outputs": [],
   "source": [
    "MMM_national_media=pd.merge(MMM_national_media,df_Rewards_Promotion_Saturday,on=\"week date\",how=\"left\")\n",
    "MMM_national_media=pd.merge(MMM_national_media,df_Rewards_Promotion_Sunday,on=\"week date\",how=\"left\")\n",
    "MMM_national_media=MMM_national_media.fillna(0)\n",
    "\n",
    "MMM_dma_media=pd.merge(MMM_dma_media,df_Rewards_Promotion_Saturday,on=\"week date\",how=\"left\")\n",
    "MMM_dma_media=pd.merge(MMM_dma_media,df_Rewards_Promotion_Sunday,on=\"week date\",how=\"left\")\n",
    "MMM_dma_media=MMM_dma_media.fillna(0)\n",
    "\n",
    "MMM_national_sub_media=pd.merge(MMM_national_sub_media,df_Rewards_Promotion_Saturday,on=\"week date\",how=\"left\")\n",
    "MMM_national_sub_media=pd.merge(MMM_national_sub_media,df_Rewards_Promotion_Sunday,on=\"week date\",how=\"left\")\n",
    "MMM_national_sub_media=MMM_national_sub_media.fillna(0)\n",
    "\n",
    "MMM_dma_sub_media=pd.merge(MMM_dma_sub_media,df_Rewards_Promotion_Saturday,on=\"week date\",how=\"left\")\n",
    "MMM_dma_sub_media=pd.merge(MMM_dma_sub_media,df_Rewards_Promotion_Sunday,on=\"week date\",how=\"left\")\n",
    "MMM_dma_sub_media=MMM_dma_sub_media.fillna(0)"
   ]
  },
  {
   "cell_type": "code",
   "execution_count": null,
   "metadata": {
    "collapsed": true
   },
   "outputs": [],
   "source": []
  },
  {
   "cell_type": "code",
   "execution_count": null,
   "metadata": {
    "collapsed": true
   },
   "outputs": [],
   "source": [
    "MMM_national_media.to_csv(writer_folder+\"BL_MMM_national_media_JL_\"+today_str+\".csv\",index=False)\n",
    "MMM_dma_media.to_csv(writer_folder+\"BL_MMM_dma_media_JL_\"+today_str+\".csv\",index=False)\n",
    "MMM_national_sub_media.to_csv(writer_folder+\"BL_MMM_national_sub_media_JL_\"+today_str+\".csv\",index=False)\n",
    "MMM_dma_sub_media.to_csv(writer_folder+\"BL_MMM_dma_sub_media_JL_\"+today_str+\".csv\",index=False)"
   ]
  },
  {
   "cell_type": "code",
   "execution_count": null,
   "metadata": {
    "collapsed": true
   },
   "outputs": [],
   "source": [
    "data_Joann.to_csv(writer_folder+\"BL_MMM_long_JL_\"+today_str+\".csv\",index=False)"
   ]
  },
  {
   "cell_type": "code",
   "execution_count": null,
   "metadata": {
    "collapsed": true
   },
   "outputs": [],
   "source": []
  }
 ],
 "metadata": {
  "kernelspec": {
   "display_name": "Python 3",
   "language": "python",
   "name": "python3"
  },
  "language_info": {
   "codemirror_mode": {
    "name": "ipython",
    "version": 3
   },
   "file_extension": ".py",
   "mimetype": "text/x-python",
   "name": "python",
   "nbconvert_exporter": "python",
   "pygments_lexer": "ipython3",
   "version": "3.6.1"
  }
 },
 "nbformat": 4,
 "nbformat_minor": 2
}
