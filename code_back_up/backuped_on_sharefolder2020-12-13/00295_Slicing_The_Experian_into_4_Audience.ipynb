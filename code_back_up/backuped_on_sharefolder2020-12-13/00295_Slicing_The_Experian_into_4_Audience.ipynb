{
 "cells": [
  {
   "cell_type": "code",
   "execution_count": 1,
   "metadata": {},
   "outputs": [
    {
     "data": {
      "text/plain": [
       "'/home/jian/Projects/Big_Lots/Live_Ramp/Quarterly_Update_2019Q4/Experian_EasyLeasing'"
      ]
     },
     "execution_count": 1,
     "metadata": {},
     "output_type": "execute_result"
    }
   ],
   "source": [
    "# Email request from John T and Bruce 20191031\n",
    "\n",
    "import pandas as pd\n",
    "import numpy as np\n",
    "import os\n",
    "import datetime\n",
    "import glob\n",
    "import gc\n",
    "os.getcwd()"
   ]
  },
  {
   "cell_type": "code",
   "execution_count": 2,
   "metadata": {},
   "outputs": [
    {
     "name": "stdout",
     "output_type": "stream",
     "text": [
      "(17626573, 19)\n",
      "(17626573, 2)\n",
      "(17626573, 20)\n"
     ]
    }
   ],
   "source": [
    "df_experian=pd.read_table(\"/home/jian/BigLots/Experian/data_20191016/Experian_20191001114500.txt\",sep=\"|\",dtype=str)\n",
    "print(df_experian.shape)\n",
    "\n",
    "df_id_mapping=pd.read_table(\"/home/jian/BigLots/Experian/data_20191016/Experian 2019 customer hashed.txt\",sep=\"|\",dtype=str)\n",
    "df_id_mapping=df_id_mapping.rename(columns={\"Customer_Num\":\"CustomerNumber\"})\n",
    "print(df_id_mapping.shape)\n",
    "\n",
    "df_experian=pd.merge(df_experian,df_id_mapping,on=\"CustomerNumber\",how=\"left\")\n",
    "print(df_experian.shape)"
   ]
  },
  {
   "cell_type": "code",
   "execution_count": 3,
   "metadata": {
    "collapsed": true
   },
   "outputs": [],
   "source": [
    "df_shopping_stores=pd.read_csv(\"/home/jian/Projects/Big_Lots/Live_Ramp/Quarterly_Update_2019Q4/output_2019-10-20/BL_allocated_store_by_id_shoppers_18_months_JL_20180415_20191012_JL_2019-10-20 19:46:00.089222.csv\",\n",
    "                              dtype=str,usecols=['customer_id_hashed','location_id'])"
   ]
  },
  {
   "cell_type": "code",
   "execution_count": 4,
   "metadata": {
    "collapsed": true
   },
   "outputs": [],
   "source": [
    "dfiddetail=pd.read_csv('/home/jian/Projects/Big_Lots/Live_Ramp/Quarterly_Update_2019Q4/BL_all_master_id_email_zip_closet_store_ZipLabel_upto_20191012_JL_2019-10-21',\n",
    "                       usecols=['customer_id_hashed','email_address_hash','closest_store'],dtype=str)"
   ]
  },
  {
   "cell_type": "code",
   "execution_count": 5,
   "metadata": {},
   "outputs": [
    {
     "name": "stdout",
     "output_type": "stream",
     "text": [
      "(30732606, 3) 30732606 30725689\n"
     ]
    }
   ],
   "source": [
    "print(dfiddetail.shape,dfiddetail['customer_id_hashed'].nunique(),dfiddetail['email_address_hash'].nunique())"
   ]
  },
  {
   "cell_type": "code",
   "execution_count": 6,
   "metadata": {},
   "outputs": [
    {
     "name": "stdout",
     "output_type": "stream",
     "text": [
      "(21589087, 2) 21589087\n"
     ]
    }
   ],
   "source": [
    "print(df_shopping_stores.shape,df_shopping_stores['customer_id_hashed'].nunique())"
   ]
  },
  {
   "cell_type": "code",
   "execution_count": 7,
   "metadata": {},
   "outputs": [
    {
     "name": "stdout",
     "output_type": "stream",
     "text": [
      "(17626573, 6) 17626573 17626573\n"
     ]
    }
   ],
   "source": [
    "df_experian=df_experian[['CustomerNumber','IncomeId','IncomeDesc','AgeId','AgeDesc','hashed_customer_num']].rename(columns={\"hashed_customer_num\":\"customer_id_hashed\"})\n",
    "print(df_experian.shape,df_experian['CustomerNumber'].nunique(),df_experian['customer_id_hashed'].nunique())"
   ]
  },
  {
   "cell_type": "code",
   "execution_count": 8,
   "metadata": {},
   "outputs": [
    {
     "name": "stdout",
     "output_type": "stream",
     "text": [
      "(17626573, 9)\n"
     ]
    },
    {
     "data": {
      "text/html": [
       "<div>\n",
       "<style scoped>\n",
       "    .dataframe tbody tr th:only-of-type {\n",
       "        vertical-align: middle;\n",
       "    }\n",
       "\n",
       "    .dataframe tbody tr th {\n",
       "        vertical-align: top;\n",
       "    }\n",
       "\n",
       "    .dataframe thead th {\n",
       "        text-align: right;\n",
       "    }\n",
       "</style>\n",
       "<table border=\"1\" class=\"dataframe\">\n",
       "  <thead>\n",
       "    <tr style=\"text-align: right;\">\n",
       "      <th></th>\n",
       "      <th>CustomerNumber</th>\n",
       "      <th>IncomeId</th>\n",
       "      <th>IncomeDesc</th>\n",
       "      <th>AgeId</th>\n",
       "      <th>AgeDesc</th>\n",
       "      <th>customer_id_hashed</th>\n",
       "      <th>email_address_hash</th>\n",
       "      <th>closest_store</th>\n",
       "      <th>location_id</th>\n",
       "    </tr>\n",
       "  </thead>\n",
       "  <tbody>\n",
       "    <tr>\n",
       "      <th>0</th>\n",
       "      <td>9</td>\n",
       "      <td>2</td>\n",
       "      <td>between $50k and $100k</td>\n",
       "      <td>2</td>\n",
       "      <td>between 35 and 50</td>\n",
       "      <td>19581e27de7ced00ff1ce50b2047e7a567c76b1cbaebab...</td>\n",
       "      <td>dd53075d06b1c045bb7b5756adf7e39d1ef26b24022b17...</td>\n",
       "      <td>1468</td>\n",
       "      <td>1755</td>\n",
       "    </tr>\n",
       "    <tr>\n",
       "      <th>1</th>\n",
       "      <td>28</td>\n",
       "      <td>3</td>\n",
       "      <td>&gt;= $100k</td>\n",
       "      <td>3</td>\n",
       "      <td>&gt;= 50</td>\n",
       "      <td>59e19706d51d39f66711c2653cd7eb1291c94d9b55eb14...</td>\n",
       "      <td>bbe01b57dc8fb9c8c9f6722f15836c73ba8eb481279af0...</td>\n",
       "      <td>4660</td>\n",
       "      <td>4660</td>\n",
       "    </tr>\n",
       "  </tbody>\n",
       "</table>\n",
       "</div>"
      ],
      "text/plain": [
       "  CustomerNumber IncomeId              IncomeDesc AgeId            AgeDesc  \\\n",
       "0              9        2  between $50k and $100k     2  between 35 and 50   \n",
       "1             28        3                >= $100k     3              >= 50   \n",
       "\n",
       "                                  customer_id_hashed  \\\n",
       "0  19581e27de7ced00ff1ce50b2047e7a567c76b1cbaebab...   \n",
       "1  59e19706d51d39f66711c2653cd7eb1291c94d9b55eb14...   \n",
       "\n",
       "                                  email_address_hash closest_store location_id  \n",
       "0  dd53075d06b1c045bb7b5756adf7e39d1ef26b24022b17...          1468        1755  \n",
       "1  bbe01b57dc8fb9c8c9f6722f15836c73ba8eb481279af0...          4660        4660  "
      ]
     },
     "execution_count": 8,
     "metadata": {},
     "output_type": "execute_result"
    }
   ],
   "source": [
    "df_experian=pd.merge(df_experian,dfiddetail,on=\"customer_id_hashed\",how=\"left\")\n",
    "df_experian=pd.merge(df_experian,df_shopping_stores,on=\"customer_id_hashed\",how=\"left\")\n",
    "print(df_experian.shape)\n",
    "df_experian.head(2)"
   ]
  },
  {
   "cell_type": "code",
   "execution_count": 9,
   "metadata": {
    "collapsed": true
   },
   "outputs": [],
   "source": [
    "df_experian['final_associate_store']=np.where(pd.notnull(df_experian['location_id']),df_experian['location_id'],df_experian['closest_store'])\n"
   ]
  },
  {
   "cell_type": "code",
   "execution_count": 10,
   "metadata": {},
   "outputs": [
    {
     "name": "stdout",
     "output_type": "stream",
     "text": [
      "(1433, 2)\n"
     ]
    },
    {
     "data": {
      "text/html": [
       "<div>\n",
       "<style scoped>\n",
       "    .dataframe tbody tr th:only-of-type {\n",
       "        vertical-align: middle;\n",
       "    }\n",
       "\n",
       "    .dataframe tbody tr th {\n",
       "        vertical-align: top;\n",
       "    }\n",
       "\n",
       "    .dataframe thead th {\n",
       "        text-align: right;\n",
       "    }\n",
       "</style>\n",
       "<table border=\"1\" class=\"dataframe\">\n",
       "  <thead>\n",
       "    <tr style=\"text-align: right;\">\n",
       "      <th></th>\n",
       "      <th>final_associate_store</th>\n",
       "      <th>SOTF</th>\n",
       "    </tr>\n",
       "  </thead>\n",
       "  <tbody>\n",
       "    <tr>\n",
       "      <th>0</th>\n",
       "      <td>1918</td>\n",
       "      <td>SOTF</td>\n",
       "    </tr>\n",
       "    <tr>\n",
       "      <th>1</th>\n",
       "      <td>4668</td>\n",
       "      <td>SOTF</td>\n",
       "    </tr>\n",
       "    <tr>\n",
       "      <th>2</th>\n",
       "      <td>4674</td>\n",
       "      <td>SOTF</td>\n",
       "    </tr>\n",
       "  </tbody>\n",
       "</table>\n",
       "</div>"
      ],
      "text/plain": [
       "  final_associate_store  SOTF\n",
       "0                  1918  SOTF\n",
       "1                  4668  SOTF\n",
       "2                  4674  SOTF"
      ]
     },
     "execution_count": 10,
     "metadata": {},
     "output_type": "execute_result"
    }
   ],
   "source": [
    "# SOTF & Legacy\n",
    "\n",
    "ExcelFile=pd.ExcelFile(\"/home/jian/Projects/Big_Lots/Live_Ramp/Quarterly_Update_2019Q4/Copy of BL 2019Q4 Budget Allocation Model 20191018_JC_JL_20191020.xlsx\")\n",
    "df_SOTF=ExcelFile.parse(\"4_SOTF\",usecols=[\"location_id\",\"copy_SOTF_label\"],dtype=str)\n",
    "df_SOTF=df_SOTF.rename(columns={\"copy_SOTF_label\":\"SOTF\",\"location_id\":\"final_associate_store\"})\n",
    "df_SOTF['SOTF']=df_SOTF['SOTF'].replace(\"nan\",np.nan)\n",
    "\n",
    "print(df_SOTF.shape)\n",
    "df_SOTF.head(3)"
   ]
  },
  {
   "cell_type": "code",
   "execution_count": 11,
   "metadata": {},
   "outputs": [
    {
     "data": {
      "text/plain": [
       "(17626573, 11)"
      ]
     },
     "execution_count": 11,
     "metadata": {},
     "output_type": "execute_result"
    }
   ],
   "source": [
    "df_experian=pd.merge(df_experian,df_SOTF,on=\"final_associate_store\",how=\"left\")\n",
    "df_experian.shape"
   ]
  },
  {
   "cell_type": "code",
   "execution_count": 12,
   "metadata": {
    "collapsed": true
   },
   "outputs": [],
   "source": [
    "df_experian['SOTF']=df_experian['SOTF'].fillna(\"Legacy\")"
   ]
  },
  {
   "cell_type": "code",
   "execution_count": 13,
   "metadata": {},
   "outputs": [
    {
     "data": {
      "text/html": [
       "<div>\n",
       "<style scoped>\n",
       "    .dataframe tbody tr th:only-of-type {\n",
       "        vertical-align: middle;\n",
       "    }\n",
       "\n",
       "    .dataframe tbody tr th {\n",
       "        vertical-align: top;\n",
       "    }\n",
       "\n",
       "    .dataframe thead th {\n",
       "        text-align: right;\n",
       "    }\n",
       "</style>\n",
       "<table border=\"1\" class=\"dataframe\">\n",
       "  <thead>\n",
       "    <tr style=\"text-align: right;\">\n",
       "      <th></th>\n",
       "      <th>CustomerNumber</th>\n",
       "      <th>IncomeId</th>\n",
       "      <th>IncomeDesc</th>\n",
       "      <th>AgeId</th>\n",
       "      <th>AgeDesc</th>\n",
       "      <th>customer_id_hashed</th>\n",
       "      <th>email_address_hash</th>\n",
       "      <th>closest_store</th>\n",
       "      <th>location_id</th>\n",
       "      <th>final_associate_store</th>\n",
       "      <th>SOTF</th>\n",
       "    </tr>\n",
       "  </thead>\n",
       "  <tbody>\n",
       "    <tr>\n",
       "      <th>0</th>\n",
       "      <td>9</td>\n",
       "      <td>2</td>\n",
       "      <td>between $50k and $100k</td>\n",
       "      <td>2</td>\n",
       "      <td>between 35 and 50</td>\n",
       "      <td>19581e27de7ced00ff1ce50b2047e7a567c76b1cbaebab...</td>\n",
       "      <td>dd53075d06b1c045bb7b5756adf7e39d1ef26b24022b17...</td>\n",
       "      <td>1468</td>\n",
       "      <td>1755</td>\n",
       "      <td>1755</td>\n",
       "      <td>SOTF</td>\n",
       "    </tr>\n",
       "    <tr>\n",
       "      <th>1</th>\n",
       "      <td>28</td>\n",
       "      <td>3</td>\n",
       "      <td>&gt;= $100k</td>\n",
       "      <td>3</td>\n",
       "      <td>&gt;= 50</td>\n",
       "      <td>59e19706d51d39f66711c2653cd7eb1291c94d9b55eb14...</td>\n",
       "      <td>bbe01b57dc8fb9c8c9f6722f15836c73ba8eb481279af0...</td>\n",
       "      <td>4660</td>\n",
       "      <td>4660</td>\n",
       "      <td>4660</td>\n",
       "      <td>Legacy</td>\n",
       "    </tr>\n",
       "  </tbody>\n",
       "</table>\n",
       "</div>"
      ],
      "text/plain": [
       "  CustomerNumber IncomeId              IncomeDesc AgeId            AgeDesc  \\\n",
       "0              9        2  between $50k and $100k     2  between 35 and 50   \n",
       "1             28        3                >= $100k     3              >= 50   \n",
       "\n",
       "                                  customer_id_hashed  \\\n",
       "0  19581e27de7ced00ff1ce50b2047e7a567c76b1cbaebab...   \n",
       "1  59e19706d51d39f66711c2653cd7eb1291c94d9b55eb14...   \n",
       "\n",
       "                                  email_address_hash closest_store  \\\n",
       "0  dd53075d06b1c045bb7b5756adf7e39d1ef26b24022b17...          1468   \n",
       "1  bbe01b57dc8fb9c8c9f6722f15836c73ba8eb481279af0...          4660   \n",
       "\n",
       "  location_id final_associate_store    SOTF  \n",
       "0        1755                  1755    SOTF  \n",
       "1        4660                  4660  Legacy  "
      ]
     },
     "execution_count": 13,
     "metadata": {},
     "output_type": "execute_result"
    }
   ],
   "source": [
    "df_experian.head(2)"
   ]
  },
  {
   "cell_type": "code",
   "execution_count": 14,
   "metadata": {},
   "outputs": [
    {
     "name": "stdout",
     "output_type": "stream",
     "text": [
      "178\n",
      "178\n",
      "(21435770, 3) (541818, 3)\n"
     ]
    }
   ],
   "source": [
    "# Uploaded regular Q4 audience\n",
    "\n",
    "list_uploaded_audience=glob.glob(\"/home/jian/Projects/Big_Lots/Live_Ramp/Quarterly_Update_2019Q4/uploaded_no_T_zip/*.csv\")\n",
    "print(len(list_uploaded_audience))\n",
    "list_uploaded_audience_T=[x for x in list_uploaded_audience if os.path.basename(x)[0]==\"T\"]\n",
    "list_uploaded_audience_C=[x for x in list_uploaded_audience if os.path.basename(x)[0]==\"C\"]\n",
    "print(len(list_uploaded_audience_T)+len(list_uploaded_audience_C))\n",
    "\n",
    "list_df_test_Q4_audience=[]\n",
    "list_df_control_Q4_audience=[]\n",
    "\n",
    "\n",
    "for file in list_uploaded_audience_T:\n",
    "    df=pd.read_csv(file,dtype=str)\n",
    "    list_df_test_Q4_audience.append(df)\n",
    "    \n",
    "for file in list_uploaded_audience_C:\n",
    "    df=pd.read_csv(file,dtype=str)\n",
    "    list_df_control_Q4_audience.append(df)\n",
    "\n",
    "df_test_Q4_audience=pd.concat(list_df_test_Q4_audience)\n",
    "df_control_Q4_audience=pd.concat(list_df_control_Q4_audience)\n",
    "\n",
    "print(df_test_Q4_audience.shape,df_control_Q4_audience.shape)"
   ]
  },
  {
   "cell_type": "code",
   "execution_count": 15,
   "metadata": {},
   "outputs": [
    {
     "data": {
      "text/plain": [
       "77"
      ]
     },
     "execution_count": 15,
     "metadata": {},
     "output_type": "execute_result"
    }
   ],
   "source": [
    "del list_df_test_Q4_audience\n",
    "del list_df_control_Q4_audience\n",
    "del df\n",
    "\n",
    "gc.collect()"
   ]
  },
  {
   "cell_type": "code",
   "execution_count": 16,
   "metadata": {},
   "outputs": [
    {
     "data": {
      "text/html": [
       "<div>\n",
       "<style scoped>\n",
       "    .dataframe tbody tr th:only-of-type {\n",
       "        vertical-align: middle;\n",
       "    }\n",
       "\n",
       "    .dataframe tbody tr th {\n",
       "        vertical-align: top;\n",
       "    }\n",
       "\n",
       "    .dataframe thead th {\n",
       "        text-align: right;\n",
       "    }\n",
       "</style>\n",
       "<table border=\"1\" class=\"dataframe\">\n",
       "  <thead>\n",
       "    <tr style=\"text-align: right;\">\n",
       "      <th></th>\n",
       "      <th>customer_id_hashed</th>\n",
       "      <th>email_address_hash</th>\n",
       "      <th>segment</th>\n",
       "    </tr>\n",
       "  </thead>\n",
       "  <tbody>\n",
       "    <tr>\n",
       "      <th>0</th>\n",
       "      <td>de4d254f85f84828db782a91857b389542ca253714330b...</td>\n",
       "      <td>55759d0e688507ce244ad5c86f8a71d4f4f54e0873452d...</td>\n",
       "      <td>T_Active (0-12)_Score(H)_Density(H)_Legacy_Hol...</td>\n",
       "    </tr>\n",
       "    <tr>\n",
       "      <th>1</th>\n",
       "      <td>ea4e3e1699773386da4e152d8b9b93d10e21383ed231e0...</td>\n",
       "      <td>1214d3d086f42b075b04ab09839c170969c575653da33e...</td>\n",
       "      <td>T_Active (0-12)_Score(H)_Density(H)_Legacy_Hol...</td>\n",
       "    </tr>\n",
       "  </tbody>\n",
       "</table>\n",
       "</div>"
      ],
      "text/plain": [
       "                                  customer_id_hashed  \\\n",
       "0  de4d254f85f84828db782a91857b389542ca253714330b...   \n",
       "1  ea4e3e1699773386da4e152d8b9b93d10e21383ed231e0...   \n",
       "\n",
       "                                  email_address_hash  \\\n",
       "0  55759d0e688507ce244ad5c86f8a71d4f4f54e0873452d...   \n",
       "1  1214d3d086f42b075b04ab09839c170969c575653da33e...   \n",
       "\n",
       "                                             segment  \n",
       "0  T_Active (0-12)_Score(H)_Density(H)_Legacy_Hol...  \n",
       "1  T_Active (0-12)_Score(H)_Density(H)_Legacy_Hol...  "
      ]
     },
     "execution_count": 16,
     "metadata": {},
     "output_type": "execute_result"
    }
   ],
   "source": [
    "df_test_Q4_audience.head(2)"
   ]
  },
  {
   "cell_type": "code",
   "execution_count": 17,
   "metadata": {
    "collapsed": true
   },
   "outputs": [],
   "source": [
    "Q4_test_ids=df_test_Q4_audience['customer_id_hashed'].unique().tolist()\n",
    "Q4_test_email=df_test_Q4_audience['email_address_hash'].unique().tolist()\n",
    "\n",
    "Q4_control_ids=df_control_Q4_audience['customer_id_hashed'].unique().tolist()\n",
    "Q4_control_email=df_control_Q4_audience['email_address_hash'].unique().tolist() # customer_id_hashed"
   ]
  },
  {
   "cell_type": "code",
   "execution_count": 18,
   "metadata": {
    "collapsed": true
   },
   "outputs": [],
   "source": [
    "df_experian['Q4_group_uploaded']=np.where((df_experian['customer_id_hashed'].isin(Q4_control_ids) | df_experian['email_address_hash'].isin(Q4_control_email) ),\"Q4_Control\",\n",
    "                                         np.where((df_experian['customer_id_hashed'].isin(Q4_test_ids))|(df_experian['email_address_hash'].isin(Q4_test_email) ),\"Q4_Test\",\"Others\")\n",
    "                                         )"
   ]
  },
  {
   "cell_type": "code",
   "execution_count": 19,
   "metadata": {
    "collapsed": true
   },
   "outputs": [],
   "source": [
    "df_summary_original=df_experian.groupby(['SOTF','IncomeId','IncomeDesc','AgeId','AgeDesc','Q4_group_uploaded'])['customer_id_hashed','email_address_hash'].nunique().reset_index()\n",
    "df_summary_original=df_summary_original.rename(columns={\"customer_id_hashed\":\"id_count\",\"email_address_hash\":\"email_count\"})\n"
   ]
  },
  {
   "cell_type": "code",
   "execution_count": 20,
   "metadata": {},
   "outputs": [
    {
     "data": {
      "text/plain": [
       "(54, 8)"
      ]
     },
     "execution_count": 20,
     "metadata": {},
     "output_type": "execute_result"
    }
   ],
   "source": [
    "df_summary_original.shape"
   ]
  },
  {
   "cell_type": "code",
   "execution_count": 21,
   "metadata": {},
   "outputs": [
    {
     "data": {
      "text/plain": [
       "'\\nSOTF - HHI Income: <$50k\\nSOTF - HHI: $50k - $100k & <50 yr old\\nLEGACY - HHI Income: <$50k\\nLEGACY - HHI: $50k - $100k & <50 yr old\\n'"
      ]
     },
     "execution_count": 21,
     "metadata": {},
     "output_type": "execute_result"
    }
   ],
   "source": [
    "'''\n",
    "SOTF - HHI Income: <$50k\n",
    "SOTF - HHI: $50k - $100k & <50 yr old\n",
    "LEGACY - HHI Income: <$50k\n",
    "LEGACY - HHI: $50k - $100k & <50 yr old\n",
    "'''"
   ]
  },
  {
   "cell_type": "code",
   "execution_count": 22,
   "metadata": {},
   "outputs": [
    {
     "data": {
      "text/plain": [
       "array(['between 35 and 50', '>= 50', '< 35', nan], dtype=object)"
      ]
     },
     "execution_count": 22,
     "metadata": {},
     "output_type": "execute_result"
    }
   ],
   "source": [
    "df_experian['AgeDesc'].unique()"
   ]
  },
  {
   "cell_type": "code",
   "execution_count": 23,
   "metadata": {},
   "outputs": [
    {
     "name": "stdout",
     "output_type": "stream",
     "text": [
      "2019-10-31 15:29:01.265608\n"
     ]
    }
   ],
   "source": [
    "print(datetime.datetime.now())"
   ]
  },
  {
   "cell_type": "code",
   "execution_count": null,
   "metadata": {
    "collapsed": true
   },
   "outputs": [],
   "source": []
  },
  {
   "cell_type": "code",
   "execution_count": 24,
   "metadata": {},
   "outputs": [
    {
     "name": "stdout",
     "output_type": "stream",
     "text": [
      "seg_1_SOTF_HHI_LowerThan50K:  (1401254, 12) 1401254 1258115\n",
      "seg_2_SOTF_HHI_50Kto100K_AgeLowerThan50:  (1494770, 12) 1494770 1360902\n",
      "seg_3_Legacy_HHI_LowerThan50K:  (3116742, 12) 3116742 2800953\n",
      "seg_4_Legacy_HHI_50Kto100K_AgeLowerThan50:  (3296127, 12) 3296127 3015026\n"
     ]
    }
   ],
   "source": [
    "seg_1_SOTF_HHI_LowerThan50K=df_experian[(df_experian['SOTF']==\"SOTF\") & (df_experian['IncomeDesc']==\"< $50k\")]\n",
    "seg_2_SOTF_HHI_50Kto100K_AgeLowerThan50=df_experian[(df_experian['SOTF']==\"SOTF\") & (df_experian['IncomeDesc']==\"between $50k and $100k\") & (df_experian['AgeDesc'].isin(['between 35 and 50','< 35']))]\n",
    "\n",
    "seg_3_Legacy_HHI_LowerThan50K=df_experian[(df_experian['SOTF']==\"Legacy\") & (df_experian['IncomeDesc']==\"< $50k\")]\n",
    "seg_4_Legacy_HHI_50Kto100K_AgeLowerThan50=df_experian[(df_experian['SOTF']==\"Legacy\") & (df_experian['IncomeDesc']==\"between $50k and $100k\") & (df_experian['AgeDesc'].isin(['between 35 and 50','< 35']))]\n",
    "\n",
    "print(\"seg_1_SOTF_HHI_LowerThan50K: \",seg_1_SOTF_HHI_LowerThan50K.shape,seg_1_SOTF_HHI_LowerThan50K['customer_id_hashed'].nunique(),seg_1_SOTF_HHI_LowerThan50K['email_address_hash'].nunique())\n",
    "print(\"seg_2_SOTF_HHI_50Kto100K_AgeLowerThan50: \",seg_2_SOTF_HHI_50Kto100K_AgeLowerThan50.shape,seg_2_SOTF_HHI_50Kto100K_AgeLowerThan50['customer_id_hashed'].nunique(),seg_2_SOTF_HHI_50Kto100K_AgeLowerThan50['email_address_hash'].nunique())\n",
    "print(\"seg_3_Legacy_HHI_LowerThan50K: \",seg_3_Legacy_HHI_LowerThan50K.shape,seg_3_Legacy_HHI_LowerThan50K['customer_id_hashed'].nunique(),seg_3_Legacy_HHI_LowerThan50K['email_address_hash'].nunique())\n",
    "print(\"seg_4_Legacy_HHI_50Kto100K_AgeLowerThan50: \",seg_4_Legacy_HHI_50Kto100K_AgeLowerThan50.shape,seg_4_Legacy_HHI_50Kto100K_AgeLowerThan50['customer_id_hashed'].nunique(),seg_4_Legacy_HHI_50Kto100K_AgeLowerThan50['email_address_hash'].nunique())\n"
   ]
  },
  {
   "cell_type": "code",
   "execution_count": 25,
   "metadata": {},
   "outputs": [
    {
     "data": {
      "text/plain": [
       "0"
      ]
     },
     "execution_count": 25,
     "metadata": {},
     "output_type": "execute_result"
    }
   ],
   "source": [
    "gc.collect()"
   ]
  },
  {
   "cell_type": "code",
   "execution_count": 26,
   "metadata": {
    "collapsed": true
   },
   "outputs": [],
   "source": [
    "writer_folder=\"/home/jian/Projects/Big_Lots/Live_Ramp/Quarterly_Update_2019Q4/Experian_EasyLeasing/\"\n",
    "\n",
    "try:\n",
    "    os.stat(writer_folder)\n",
    "except:\n",
    "    os.mkdir(writer_folder)\n",
    "    "
   ]
  },
  {
   "cell_type": "code",
   "execution_count": 27,
   "metadata": {
    "collapsed": true
   },
   "outputs": [],
   "source": [
    "# Remove all nan emails\n",
    "\n",
    "seg_1_SOTF_HHI_LowerThan50K=seg_1_SOTF_HHI_LowerThan50K[pd.notnull(seg_1_SOTF_HHI_LowerThan50K['email_address_hash'])]\n",
    "seg_2_SOTF_HHI_50Kto100K_AgeLowerThan50=seg_2_SOTF_HHI_50Kto100K_AgeLowerThan50[pd.notnull(seg_2_SOTF_HHI_50Kto100K_AgeLowerThan50['email_address_hash'])]\n",
    "seg_3_Legacy_HHI_LowerThan50K=seg_3_Legacy_HHI_LowerThan50K[pd.notnull(seg_3_Legacy_HHI_LowerThan50K['email_address_hash'])]\n",
    "seg_4_Legacy_HHI_50Kto100K_AgeLowerThan50=seg_4_Legacy_HHI_50Kto100K_AgeLowerThan50[pd.notnull(seg_4_Legacy_HHI_50Kto100K_AgeLowerThan50['email_address_hash'])]\n",
    "\n",
    "seg_1_summary=seg_1_SOTF_HHI_LowerThan50K.groupby(['SOTF','IncomeDesc','AgeDesc','Q4_group_uploaded'])['email_address_hash'].nunique().to_frame().reset_index()\n",
    "seg_2_summary=seg_2_SOTF_HHI_50Kto100K_AgeLowerThan50.groupby(['SOTF','IncomeDesc','AgeDesc','Q4_group_uploaded'])['email_address_hash'].nunique().to_frame().reset_index()\n",
    "seg_3_summary=seg_3_Legacy_HHI_LowerThan50K.groupby(['SOTF','IncomeDesc','AgeDesc','Q4_group_uploaded'])['email_address_hash'].nunique().to_frame().reset_index()\n",
    "seg_4_summary=seg_4_Legacy_HHI_50Kto100K_AgeLowerThan50.groupby(['SOTF','IncomeDesc','AgeDesc','Q4_group_uploaded'])['email_address_hash'].nunique().to_frame().reset_index()\n"
   ]
  },
  {
   "cell_type": "code",
   "execution_count": 28,
   "metadata": {
    "collapsed": true
   },
   "outputs": [],
   "source": [
    "writer=pd.ExcelWriter(writer_folder+\"BL_Experian_EasyLeasing_Summary_before_removing_Q4_control_JL_\"+str(datetime.datetime.now().date())+\".xlsx\",engine=\"xlsxwriter\")\n",
    "df_summary_original.to_excel(writer,\"summary_original\",index=False)\n",
    "seg_1_summary.to_excel(writer,\"SOTF_HHI_LowerThan50K\",index=False)\n",
    "seg_2_summary.to_excel(writer,\"SOTF_HHI_50Kto100K_AgeLower50\",index=False)\n",
    "seg_3_summary.to_excel(writer,\"Legacy_HHI_LowerThan50K\",index=False)\n",
    "seg_4_summary.to_excel(writer,\"Legacy_HHI_50Kto100K_AgeLower50\",index=False)\n",
    "writer.save()"
   ]
  },
  {
   "cell_type": "code",
   "execution_count": 29,
   "metadata": {
    "collapsed": true
   },
   "outputs": [],
   "source": [
    "# Remove all Q4 control ids\n",
    "\n",
    "df_output_1=seg_1_SOTF_HHI_LowerThan50K[seg_1_SOTF_HHI_LowerThan50K['Q4_group_uploaded']!=\"Q4_Control\"]\n",
    "df_output_2=seg_2_SOTF_HHI_50Kto100K_AgeLowerThan50[seg_2_SOTF_HHI_50Kto100K_AgeLowerThan50['Q4_group_uploaded']!=\"Q4_Control\"]\n",
    "df_output_3=seg_3_Legacy_HHI_LowerThan50K[seg_3_Legacy_HHI_LowerThan50K['Q4_group_uploaded']!=\"Q4_Control\"]\n",
    "df_output_4=seg_4_Legacy_HHI_50Kto100K_AgeLowerThan50[seg_4_Legacy_HHI_50Kto100K_AgeLowerThan50['Q4_group_uploaded']!=\"Q4_Control\"]\n",
    "\n",
    "\n"
   ]
  },
  {
   "cell_type": "code",
   "execution_count": 30,
   "metadata": {
    "collapsed": true
   },
   "outputs": [],
   "source": [
    "df_output_1=df_output_1[['customer_id_hashed','email_address_hash']]\n",
    "df_output_1['segment']=\"Experian_EasyLeasing_SOTF_HHI50KLower\"\n",
    "\n",
    "df_output_2=df_output_2[['customer_id_hashed','email_address_hash']]\n",
    "df_output_2['segment']=\"Experian_EasyLeasing_SOTF_HHI50Kto100K_Age50Lower\"\n",
    "\n",
    "df_output_3=df_output_3[['customer_id_hashed','email_address_hash']]\n",
    "df_output_3['segment']=\"Experian_EasyLeasing_Legacy_HHI50KLower\"\n",
    "\n",
    "df_output_4=df_output_4[['customer_id_hashed','email_address_hash']]\n",
    "df_output_4['segment']=\"Experian_EasyLeasing_Legacy_HHI50Kto100K_Age50Lower\"\n"
   ]
  },
  {
   "cell_type": "code",
   "execution_count": 31,
   "metadata": {
    "collapsed": true
   },
   "outputs": [],
   "source": [
    "writer_folder_uploaded=\"/home/jian/Projects/Big_Lots/Live_Ramp/Quarterly_Update_2019Q4/Experian_EasyLeasing/uploaded/\"\n",
    "\n",
    "try:\n",
    "    os.stat(writer_folder_uploaded)\n",
    "except:\n",
    "    os.mkdir(writer_folder_uploaded)\n",
    "    "
   ]
  },
  {
   "cell_type": "code",
   "execution_count": 32,
   "metadata": {
    "collapsed": true
   },
   "outputs": [],
   "source": [
    "df_output_1.to_csv(writer_folder_uploaded+\"Experian_EasyLeasing_SOTF_HHI50KLower.csv\",index=False)\n",
    "df_output_2.to_csv(writer_folder_uploaded+\"Experian_EasyLeasing_SOTF_HHI50Kto100K_Age50Lower.csv\",index=False)\n",
    "df_output_3.to_csv(writer_folder_uploaded+\"Experian_EasyLeasing_Legacy_HHI50KLower.csv\",index=False)\n",
    "df_output_4.to_csv(writer_folder_uploaded+\"Experian_EasyLeasing_Legacy_HHI50Kto100K_Age50Lower.csv\",index=False)"
   ]
  },
  {
   "cell_type": "code",
   "execution_count": 33,
   "metadata": {},
   "outputs": [
    {
     "name": "stdout",
     "output_type": "stream",
     "text": [
      "['Experian_EasyLeasing_SOTF_HHI50KLower'] (1229208, 3) 1229208 1229146\n",
      "['Experian_EasyLeasing_SOTF_HHI50Kto100K_Age50Lower'] (1328707, 3) 1328707 1328676\n",
      "['Experian_EasyLeasing_Legacy_HHI50KLower'] (2738480, 3) 2738480 2738360\n",
      "['Experian_EasyLeasing_Legacy_HHI50Kto100K_Age50Lower'] (2945147, 3) 2945147 2945085\n"
     ]
    }
   ],
   "source": [
    "print(df_output_1['segment'].unique(),df_output_1.shape,df_output_1['customer_id_hashed'].nunique(),df_output_1['email_address_hash'].nunique())\n",
    "print(df_output_2['segment'].unique(),df_output_2.shape,df_output_2['customer_id_hashed'].nunique(),df_output_2['email_address_hash'].nunique())\n",
    "print(df_output_3['segment'].unique(),df_output_3.shape,df_output_3['customer_id_hashed'].nunique(),df_output_3['email_address_hash'].nunique())\n",
    "print(df_output_4['segment'].unique(),df_output_4.shape,df_output_4['customer_id_hashed'].nunique(),df_output_4['email_address_hash'].nunique())\n"
   ]
  },
  {
   "cell_type": "code",
   "execution_count": null,
   "metadata": {
    "collapsed": true
   },
   "outputs": [],
   "source": []
  }
 ],
 "metadata": {
  "kernelspec": {
   "display_name": "Python 3",
   "language": "python",
   "name": "python3"
  },
  "language_info": {
   "codemirror_mode": {
    "name": "ipython",
    "version": 3
   },
   "file_extension": ".py",
   "mimetype": "text/x-python",
   "name": "python",
   "nbconvert_exporter": "python",
   "pygments_lexer": "ipython3",
   "version": "3.6.1"
  }
 },
 "nbformat": 4,
 "nbformat_minor": 2
}
