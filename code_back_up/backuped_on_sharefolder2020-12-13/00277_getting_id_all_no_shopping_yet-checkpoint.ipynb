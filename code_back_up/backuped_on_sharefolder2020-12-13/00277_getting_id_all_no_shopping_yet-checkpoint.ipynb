{
 "cells": [
  {
   "cell_type": "code",
   "execution_count": 1,
   "metadata": {},
   "outputs": [
    {
     "data": {
      "text/plain": [
       "'/home/jian/Projects/Big_Lots/Live_Ramp/Quarterly_Update_2019Q3'"
      ]
     },
     "execution_count": 1,
     "metadata": {},
     "output_type": "execute_result"
    }
   ],
   "source": [
    "import pandas as pd\n",
    "import os\n",
    "import datetime\n",
    "import glob\n",
    "import numpy as np\n",
    "os.getcwd()"
   ]
  },
  {
   "cell_type": "code",
   "execution_count": 2,
   "metadata": {},
   "outputs": [
    {
     "data": {
      "text/plain": [
       "((18936098, 6), 18936098)"
      ]
     },
     "execution_count": 2,
     "metadata": {},
     "output_type": "execute_result"
    }
   ],
   "source": [
    "# Q3 scored details\n",
    "df_data=pd.read_csv(\"/home/jian/Projects/Big_Lots/Live_Ramp/Quarterly_Update_2019Q3/output_2019-07-20/dfrfm_final_details_wemail_ziplabel_StoreQuad.csv\",\n",
    "              dtype=str,usecols=['customer_id_hashed','email_address_hash','frmindex','HML_Group','zipcodegroup','segment_2019Q3'])\n",
    "df_data.shape,df_data['customer_id_hashed'].nunique()"
   ]
  },
  {
   "cell_type": "code",
   "execution_count": 3,
   "metadata": {},
   "outputs": [
    {
     "data": {
      "text/plain": [
       "(30, 5)"
      ]
     },
     "execution_count": 3,
     "metadata": {},
     "output_type": "execute_result"
    }
   ],
   "source": [
    "df_total_count=df_data.groupby([\"frmindex\",'HML_Group','zipcodegroup'])['customer_id_hashed','email_address_hash'].nunique().reset_index()\n",
    "df_total_count.shape"
   ]
  },
  {
   "cell_type": "markdown",
   "metadata": {},
   "source": [
    "# 2019Q3 shopping label"
   ]
  },
  {
   "cell_type": "code",
   "execution_count": 4,
   "metadata": {
    "collapsed": true
   },
   "outputs": [],
   "source": [
    "def recursive_file_gen(root_path):\n",
    "    for root, dirs, files in os.walk(root_path):\n",
    "        for file in files:\n",
    "            yield os.path.join(root,file)"
   ]
  },
  {
   "cell_type": "code",
   "execution_count": 5,
   "metadata": {},
   "outputs": [
    {
     "name": "stdout",
     "output_type": "stream",
     "text": [
      "(40, 2)\n",
      "(13, 2) (9, 2)\n"
     ]
    }
   ],
   "source": [
    "Q2_dates=[datetime.date(2019,5,5),datetime.date(2019,8,3)]\n",
    "Q3_dates=[datetime.date(2019,8,4),datetime.date(2019,11,2)]\n",
    "\n",
    "weekly_2019_daily_df=list(recursive_file_gen(\"/home/jian/BigLots/\"))\n",
    "\n",
    "weekly_2019_daily_df=[x for x in weekly_2019_daily_df if \"2018\" not in x]\n",
    "weekly_2019_daily_df=[x for x in weekly_2019_daily_df if \"2017\" not in x]\n",
    "weekly_2019_daily_df=[x for x in weekly_2019_daily_df if \"2016\" not in x]\n",
    "weekly_2019_daily_df=[x for x in weekly_2019_daily_df if \"2016\" not in x]\n",
    "weekly_2019_daily_df=[x for x in weekly_2019_daily_df if \"Historical\" not in x]\n",
    "weekly_2019_daily_df=[x for x in weekly_2019_daily_df if \"hist_daily_data_itemlevel_decompressed\" not in x]\n",
    "weekly_2019_daily_df=[x for x in weekly_2019_daily_df if \".txt\" in x]\n",
    "weekly_2019_daily_df=[x for x in weekly_2019_daily_df if \"aily\" in x]\n",
    "weekly_2019_daily_df=pd.DataFrame({\"file_path\":weekly_2019_daily_df})\n",
    "weekly_2019_daily_df['week_end_dt']=weekly_2019_daily_df['file_path'].apply(lambda x: x.split(\"/MediaStorm_\")[1][:10])\n",
    "\n",
    "weekly_2019_daily_df['week_end_dt']=weekly_2019_daily_df['week_end_dt'].apply(lambda x: datetime.datetime.strptime(x,\"%Y-%m-%d\").date())\n",
    "print(weekly_2019_daily_df.shape)\n",
    "weekly_2019_daily_df.head(2)\n",
    "\n",
    "weekly_2019_daily_Q2=weekly_2019_daily_df[(weekly_2019_daily_df['week_end_dt']>Q2_dates[0]) & (weekly_2019_daily_df['week_end_dt']<=Q2_dates[1])]\n",
    "weekly_2019_daily_Q3=weekly_2019_daily_df[(weekly_2019_daily_df['week_end_dt']>Q3_dates[0]) & (weekly_2019_daily_df['week_end_dt']<=Q3_dates[1])]\n",
    "\n",
    "print(weekly_2019_daily_Q2.shape,weekly_2019_daily_Q3.shape)"
   ]
  },
  {
   "cell_type": "code",
   "execution_count": 6,
   "metadata": {},
   "outputs": [
    {
     "name": "stdout",
     "output_type": "stream",
     "text": [
      "2019-10-15 13:14:27.161726\n",
      "/home/jian/BigLots/2019_by_weeks/MediaStorm_2019-05-11/MediaStormDailySales20190514-121223-405.txt 2019-10-15 13:14:50.122447\n",
      "/home/jian/BigLots/2019_by_weeks/MediaStorm_2019-05-18/MediaStormDailySales20190521-111232-391.txt 2019-10-15 13:15:12.524009\n",
      "/home/jian/BigLots/2019_by_weeks/MediaStorm_2019-05-25/MediaStormDailySales20190528-111211-863.txt 2019-10-15 13:15:37.689701\n",
      "/home/jian/BigLots/2019_by_weeks/MediaStorm_2019-06-01/MediaStormDailySales20190604-111936-950.txt 2019-10-15 13:16:00.249170\n",
      "/home/jian/BigLots/2019_by_weeks/MediaStorm_2019-06-08/MediaStormDailySales20190611-122013-442.txt 2019-10-15 13:16:22.210496\n",
      "/home/jian/BigLots/2019_by_weeks/MediaStorm_2019-06-15/MediaStormDailySales20190618-112500-846.txt 2019-10-15 13:16:49.008928\n",
      "/home/jian/BigLots/2019_by_weeks/MediaStorm_2019-06-22/MediaStormDailySales20190625-111927-257.txt 2019-10-15 13:17:13.720169\n",
      "/home/jian/BigLots/2019_by_weeks/MediaStorm_2019-06-29/MediaStormDailySales20190702-113523-928.txt 2019-10-15 13:17:45.195759\n",
      "/home/jian/BigLots/2019_by_weeks/MediaStorm_2019-07-06/MediaStormDailySales20190709-115715-409.txt 2019-10-15 13:18:17.409757\n",
      "/home/jian/BigLots/2019_by_weeks/MediaStorm_2019-07-13/MediaStormDailySales20190716-122903-926.txt 2019-10-15 13:18:58.565306\n",
      "/home/jian/BigLots/2019_by_weeks/MediaStorm_2019-07-20/MediaStormDailySales20190723-112837-593.txt 2019-10-15 13:19:38.946593\n",
      "/home/jian/BigLots/2019_by_weeks/MediaStorm_2019-07-27/MediaStormDailySales20190730-113653-224.txt 2019-10-15 13:20:09.528054\n",
      "/home/jian/BigLots/2019_by_weeks/MediaStorm_2019-08-03/MediaStormDailySales20190806-113917-862.txt 2019-10-15 13:20:40.038951\n",
      "2019-10-15 13:29:45.926680\n",
      "/home/jian/BigLots/MediaStorm_2019-10-05/MediaStormDailySales20191008-120723-038.txt 2019-10-15 13:30:08.702622\n",
      "/home/jian/BigLots/2019_by_weeks/MediaStorm_2019-08-10/MediaStormDailySales20190813-120541-143.txt 2019-10-15 13:30:27.493092\n",
      "/home/jian/BigLots/2019_by_weeks/MediaStorm_2019-08-17/MediaStormDailySales20190820-113628-440.txt 2019-10-15 13:30:48.127080\n",
      "/home/jian/BigLots/2019_by_weeks/MediaStorm_2019-08-24/MediaStormDailySales20190827-113630-114.txt 2019-10-15 13:31:08.336430\n",
      "/home/jian/BigLots/2019_by_weeks/MediaStorm_2019-08-31/MediaStormDailySales20190903-113649-462.txt 2019-10-15 13:31:29.916195\n",
      "/home/jian/BigLots/2019_by_weeks/MediaStorm_2019-09-07/MediaStormDailySales20190910-120643-163.txt 2019-10-15 13:31:50.270183\n",
      "/home/jian/BigLots/2019_by_weeks/MediaStorm_2019-09-14/MediaStormDailySales20190917-110425-322.txt 2019-10-15 13:32:19.212290\n",
      "/home/jian/BigLots/2019_by_weeks/MediaStorm_2019-09-21/MediaStormDailySales20190924-112126-506.txt 2019-10-15 13:32:46.023855\n",
      "/home/jian/BigLots/2019_by_weeks/MediaStorm_2019-09-28/MediaStormDailySales20191001-111241-312.txt 2019-10-15 13:33:21.883428\n",
      "2019-10-15 13:39:13.495341\n"
     ]
    }
   ],
   "source": [
    "print(datetime.datetime.now())\n",
    "\n",
    "shoppers_2019Q2=pd.DataFrame()\n",
    "shoppers_2019Q3=pd.DataFrame()\n",
    "\n",
    "\n",
    "for file in weekly_2019_daily_Q2['file_path'].tolist():\n",
    "    df=pd.read_table(file,dtype=str,sep=\"|\",usecols=['customer_id_hashed','transaction_dt'])\n",
    "    df=df[pd.notnull(df['customer_id_hashed'])]\n",
    "    shoppers_2019Q2=shoppers_2019Q2.append(df)\n",
    "    print(file,datetime.datetime.now())\n",
    "shoppers_2019Q2=shoppers_2019Q2.sort_values(['customer_id_hashed','transaction_dt'],ascending=[True,False])\n",
    "shoppers_2019Q2=shoppers_2019Q2.drop_duplicates(['customer_id_hashed'])\n",
    "shoppers_2019Q2['Q2_shopping_flag']=\"Q2_Shopped\"\n",
    "shoppers_2019Q2=shoppers_2019Q2.rename(columns={\"transaction_dt\":\"last_shop_date_Q2\"})\n",
    "print(datetime.datetime.now())\n",
    "\n",
    "for file in weekly_2019_daily_Q3['file_path'].tolist():\n",
    "    df=pd.read_table(file,dtype=str,sep=\"|\",usecols=['customer_id_hashed','transaction_dt'])\n",
    "    df=df[pd.notnull(df['customer_id_hashed'])]\n",
    "    shoppers_2019Q3=shoppers_2019Q3.append(df)\n",
    "    print(file,datetime.datetime.now())\n",
    "shoppers_2019Q3=shoppers_2019Q3.sort_values(['customer_id_hashed','transaction_dt'],ascending=[True,False])\n",
    "shoppers_2019Q3=shoppers_2019Q3.drop_duplicates(['customer_id_hashed'])\n",
    "shoppers_2019Q3['Q3_shopping_flag']=\"Q3_Shopped\"\n",
    "shoppers_2019Q3=shoppers_2019Q3.rename(columns={\"transaction_dt\":\"last_shop_date_Q3\"})\n",
    "print(datetime.datetime.now())\n"
   ]
  },
  {
   "cell_type": "code",
   "execution_count": 7,
   "metadata": {
    "collapsed": true
   },
   "outputs": [],
   "source": [
    "df_data=pd.merge(df_data,shoppers_2019Q2,on=\"customer_id_hashed\",how=\"outer\")\n",
    "df_data=pd.merge(df_data,shoppers_2019Q3,on=\"customer_id_hashed\",how=\"outer\")"
   ]
  },
  {
   "cell_type": "code",
   "execution_count": 8,
   "metadata": {},
   "outputs": [
    {
     "data": {
      "text/plain": [
       "91"
      ]
     },
     "execution_count": 8,
     "metadata": {},
     "output_type": "execute_result"
    }
   ],
   "source": [
    "import gc\n",
    "del shoppers_2019Q2\n",
    "del shoppers_2019Q3\n",
    "gc.collect()"
   ]
  },
  {
   "cell_type": "code",
   "execution_count": 9,
   "metadata": {
    "collapsed": true
   },
   "outputs": [],
   "source": [
    "df_data['last_shop_date_Q2']=df_data['last_shop_date_Q2'].fillna(\"NoShop\")\n",
    "df_data['Q2_shopping_flag']=df_data['Q2_shopping_flag'].fillna(\"NoShop\")\n",
    "df_data['last_shop_date_Q3']=df_data['last_shop_date_Q3'].fillna(\"NoShop\")\n",
    "df_data['Q3_shopping_flag']=df_data['Q3_shopping_flag'].fillna(\"NoShop\")"
   ]
  },
  {
   "cell_type": "code",
   "execution_count": 10,
   "metadata": {},
   "outputs": [
    {
     "data": {
      "text/plain": [
       "(120, 7)"
      ]
     },
     "execution_count": 10,
     "metadata": {},
     "output_type": "execute_result"
    }
   ],
   "source": [
    "output_summary_all_ids=df_data.groupby(['HML_Group','frmindex','zipcodegroup','Q3_shopping_flag','Q2_shopping_flag'])['customer_id_hashed','email_address_hash'].nunique().reset_index()\n",
    "output_summary_all_ids.shape\n",
    "\n"
   ]
  },
  {
   "cell_type": "code",
   "execution_count": 11,
   "metadata": {
    "collapsed": true
   },
   "outputs": [],
   "source": [
    "write_folder='/home/jian/Projects/Big_Lots/Live_Ramp/Quarterly_Update_2019Q3/Q3_all_Shopping_in_Q3/'\n",
    "try:\n",
    "    os.stat(write_folder)\n",
    "except:\n",
    "    os.mkdir(write_folder)"
   ]
  },
  {
   "cell_type": "code",
   "execution_count": 12,
   "metadata": {
    "collapsed": true
   },
   "outputs": [],
   "source": [
    "df_data.to_csv(write_folder+\"df_data.csv\",index=False)"
   ]
  },
  {
   "cell_type": "code",
   "execution_count": 13,
   "metadata": {
    "collapsed": true
   },
   "outputs": [],
   "source": [
    "df_data['HML_Group']=df_data['HML_Group'].fillna(\"nan\")\n",
    "df_data['frmindex']=df_data['frmindex'].fillna(\"nan\")\n",
    "\n",
    "output_summary_count_all=df_data.groupby(['HML_Group','frmindex','zipcodegroup','Q3_shopping_flag','Q2_shopping_flag'])['customer_id_hashed'].nunique().to_frame().reset_index()"
   ]
  },
  {
   "cell_type": "code",
   "execution_count": 14,
   "metadata": {
    "collapsed": true
   },
   "outputs": [],
   "source": [
    "writer=pd.ExcelWriter(write_folder+\"BL_Q3_all_Shopping_in_Q3_JL_\"+str(datetime.datetime.now().date())+\".xlsx\",engine=\"xlsxwriter\")\n",
    "output_summary_all_ids.to_excel(writer,\"output_summary_all_ids\",index=False)\n",
    "output_summary_count_all.to_excel(writer,\"output_summary_count_all\",index=False)\n",
    "writer.save()"
   ]
  },
  {
   "cell_type": "markdown",
   "metadata": {},
   "source": [
    "# To Spencer"
   ]
  },
  {
   "cell_type": "code",
   "execution_count": 41,
   "metadata": {},
   "outputs": [],
   "source": [
    "all_uploaded_audience=glob.glob(\"/home/jian/Projects/Big_Lots/Live_Ramp/Quarterly_Update_2019Q3/upload_files/*.csv\")\n",
    "df_all_contol_test=pd.DataFrame()\n",
    "for file in all_uploaded_audience:\n",
    "    df=pd.read_csv(file,dtype=str)\n",
    "    df_all_contol_test=df_all_contol_test.append(df)\n",
    "    \n",
    "df_all_contol_test.shape,df_all_contol_test['customer_id_hashed'].nunique()\n",
    "df_all_contol_test['T_or_C_Q3RFM']=df_all_contol_test['segment'].apply(lambda x: x[0])\n",
    "df_all_contol_test=df_all_contol_test[['customer_id_hashed','segment','T_or_C_Q3RFM']].rename(columns={\"segment\":\"segment_uploaded\"})"
   ]
  },
  {
   "cell_type": "code",
   "execution_count": 43,
   "metadata": {},
   "outputs": [],
   "source": [
    "df_data=pd.merge(df_data,df_all_contol_test,on=\"customer_id_hashed\",how=\"outer\")"
   ]
  },
  {
   "cell_type": "code",
   "execution_count": 53,
   "metadata": {},
   "outputs": [],
   "source": [
    "df_data_uploaded_test_and_control=df_data[df_data['zipcodegroup'].isin(['P','S'])]"
   ]
  },
  {
   "cell_type": "code",
   "execution_count": 55,
   "metadata": {},
   "outputs": [
    {
     "data": {
      "text/plain": [
       "array(['T', 'C'], dtype=object)"
      ]
     },
     "execution_count": 55,
     "metadata": {},
     "output_type": "execute_result"
    }
   ],
   "source": [
    "df_data_uploaded_test_and_control['T_or_C_Q3RFM'].unique()"
   ]
  },
  {
   "cell_type": "code",
   "execution_count": 56,
   "metadata": {
    "collapsed": true
   },
   "outputs": [],
   "source": [
    "df_data_uploaded_test_and_control.to_csv(write_folder+\"BL_2019Q3_audience_uploaded_all_PS_JL_\"+str(datetime.datetime.now().date())+\".csv\",index=False)\n",
    "df_data.to_csv(write_folder+\"BL_2019Q3_audience_all_with_all_shoppers_PS_JL_\"+str(datetime.datetime.now().date())+\".csv\",index=False)\n"
   ]
  },
  {
   "cell_type": "code",
   "execution_count": 57,
   "metadata": {},
   "outputs": [
    {
     "data": {
      "text/plain": [
       "['df_data.csv',\n",
       " 'BL_Q3_all_Shopping_in_Q3_JL_2019-10-15.xlsx',\n",
       " 'BL_2019Q3_audience_uploaded_all_PS_JL_2019-10-15.csv',\n",
       " 'BL_2019Q3_audience_all_with_all_shoppers_PS_JL_2019-10-15.csv']"
      ]
     },
     "execution_count": 57,
     "metadata": {},
     "output_type": "execute_result"
    }
   ],
   "source": [
    "import paramiko\n",
    "\n",
    "os.listdir(write_folder)"
   ]
  },
  {
   "cell_type": "code",
   "execution_count": 58,
   "metadata": {},
   "outputs": [],
   "source": [
    "local_path_1=write_folder+\"BL_2019Q3_audience_uploaded_all_PS_JL_2019-10-15.csv\"\n",
    "local_path_2=write_folder+\"BL_2019Q3_audience_all_with_all_shoppers_PS_JL_2019-10-15.csv\"\n"
   ]
  },
  {
   "cell_type": "code",
   "execution_count": 60,
   "metadata": {},
   "outputs": [],
   "source": [
    "remote_folder=\"/mnt/drv5/lr_biglots_data/Q3_2019_not_shopped_yet/\"\n",
    "remote_path_1=remote_folder+os.path.basename(local_path_1)\n",
    "remote_path_2=remote_folder+os.path.basename(local_path_2)\n"
   ]
  },
  {
   "cell_type": "code",
   "execution_count": 61,
   "metadata": {
    "collapsed": true
   },
   "outputs": [],
   "source": [
    "host = \"64.237.51.251\" #hard-coded\n",
    "port = 22\n",
    "transport = paramiko.Transport((host, port))\n",
    "\n",
    "password = \"jian@juba2017\" #hard-coded\n",
    "username = \"jian\" #hard-coded\n",
    "transport.connect(username = username, password = password)\n",
    "sftp = paramiko.SFTPClient.from_transport(transport)\n",
    "\n",
    "sftp.put(local_path_1,remote_path_1)\n",
    "sftp.put(local_path_2,remote_path_2)\n",
    "sftp.close()\n",
    "transport.close()\n"
   ]
  },
  {
   "cell_type": "code",
   "execution_count": null,
   "metadata": {
    "collapsed": true
   },
   "outputs": [],
   "source": []
  }
 ],
 "metadata": {
  "kernelspec": {
   "display_name": "Python 3",
   "language": "python",
   "name": "python3"
  },
  "language_info": {
   "codemirror_mode": {
    "name": "ipython",
    "version": 3
   },
   "file_extension": ".py",
   "mimetype": "text/x-python",
   "name": "python",
   "nbconvert_exporter": "python",
   "pygments_lexer": "ipython3",
   "version": "3.6.1"
  }
 },
 "nbformat": 4,
 "nbformat_minor": 2
}
