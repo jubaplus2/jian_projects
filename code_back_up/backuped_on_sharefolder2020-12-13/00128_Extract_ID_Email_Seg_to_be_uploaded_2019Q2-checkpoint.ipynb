{
 "cells": [
  {
   "cell_type": "code",
   "execution_count": 1,
   "metadata": {},
   "outputs": [
    {
     "data": {
      "text/plain": [
       "'/home/jian/Projects/Big_Lots/Live_Ramp/Mapping_Files/2019_Q2'"
      ]
     },
     "execution_count": 1,
     "metadata": {},
     "output_type": "execute_result"
    }
   ],
   "source": [
    "# 2019 Q2\n",
    "# Dedup with email only\n",
    "import pandas as pd\n",
    "import numpy as np\n",
    "import datetime\n",
    "import os\n",
    "import gc\n",
    "import glob\n",
    "os.getcwd()"
   ]
  },
  {
   "cell_type": "code",
   "execution_count": 2,
   "metadata": {
    "collapsed": true
   },
   "outputs": [],
   "source": [
    "def recursive_file_gen(my_root_dir):\n",
    "    for root, dirs, files in os.walk(my_root_dir):\n",
    "        for file in files:\n",
    "            yield os.path.join(root, file)"
   ]
  },
  {
   "cell_type": "code",
   "execution_count": 3,
   "metadata": {},
   "outputs": [
    {
     "data": {
      "text/plain": [
       "'\\nSegments:\\n1. Quarterly regular\\n2. New SignUps\\n3. 5 Market SOTF Audience\\n4. NewSigns & No Purchase\\n5. Experian\\n'"
      ]
     },
     "execution_count": 3,
     "metadata": {},
     "output_type": "execute_result"
    }
   ],
   "source": [
    "'''\n",
    "Segments:\n",
    "1. Quarterly regular\n",
    "2. New SignUps\n",
    "3. 5 Market SOTF Audience\n",
    "4. NewSigns & No Purchase\n",
    "5. Experian\n",
    "'''"
   ]
  },
  {
   "cell_type": "code",
   "execution_count": 4,
   "metadata": {},
   "outputs": [
    {
     "name": "stdout",
     "output_type": "stream",
     "text": [
      "seg_1: 50\n",
      "seg_2: 24\n",
      "seg_3: 5\n",
      "seg_4: 5\n",
      "seg_5: 20\n"
     ]
    }
   ],
   "source": [
    "seg_1=list(recursive_file_gen(\"/home/jian/Projects/Big_Lots/Live_Ramp/Quarterly_Update_2019Q2/output_final_20190422/Test_and_Control/uploaded/\"))\n",
    "print(\"seg_1: \"+str(len(seg_1)))\n",
    "\n",
    "seg_2=list(recursive_file_gen(\"/home/jian/celery/Append_to_celery_LiveRamp/monthly_update/\"))\n",
    "seg_2=[x for x in seg_2 if \".csv\" in x]\n",
    "seg_2=pd.DataFrame({\"file_path\":seg_2})\n",
    "seg_2['date']=seg_2['file_path'].apply(lambda x: x.split(\"onthly_update/output_\")[1][:10])\n",
    "seg_2=seg_2[seg_2['date']>=\"2019-04-15\"] # 1 wave ahead of the quarter\n",
    "seg_2=seg_2[seg_2['date']<\"2019-08-03\"] # \n",
    "seg_2=seg_2['file_path'].tolist()\n",
    "print(\"seg_2: \"+str(len(seg_2)))\n",
    "\n",
    "seg_3=glob.glob(\"/home/jian/Projects/Big_Lots/Analysis/2019_Q2/Planner_Requests/audience_Kaylar_SOTF_markets_20190708/output_2019-07-10/*.csv\")\n",
    "print(\"seg_3: \"+str(len(seg_3)))\n",
    "\n",
    "seg_4=glob.glob(\"/home/jian/Projects/Big_Lots/Analysis/2019_Q2/Planner_Requests/Past_5_quarters_new_sign_up_no_purchase/*.csv\")\n",
    "print(\"seg_4: \"+str(len(seg_4)))\n",
    "\n",
    "seg_5=glob.glob(\"/home/jian/Projects/Big_Lots/Live_Ramp/Quarterly_Update_2019Q2/Experian_Email_Openers_Group/output_2nd_upload/*.csv\")\n",
    "seg_5=[x for x in seg_5 if \"summary\" not in x]\n",
    "print(\"seg_5: \"+str(len(seg_5)))"
   ]
  },
  {
   "cell_type": "code",
   "execution_count": 5,
   "metadata": {},
   "outputs": [
    {
     "data": {
      "text/plain": [
       "104"
      ]
     },
     "execution_count": 5,
     "metadata": {},
     "output_type": "execute_result"
    }
   ],
   "source": [
    "all_file_list=seg_1+seg_2+seg_3+seg_4+seg_5\n",
    "len(all_file_list)"
   ]
  },
  {
   "cell_type": "code",
   "execution_count": 7,
   "metadata": {},
   "outputs": [],
   "source": [
    "df_output_all_Q2_seg=pd.DataFrame()\n",
    "col_list=[]\n",
    "for file in all_file_list:\n",
    "    try:\n",
    "        df=pd.read_csv(file,dtype=str,usecols=['customer_id_hashed','email_address_hash','segment'])\n",
    "    except:\n",
    "        df=pd.read_csv(file,dtype=str,usecols=['customer_id_hashed','Email_Address_hash','segment'])\n",
    "        df=df.rename(columns={\"Email_Address_hash\":\"email_address_hash\"})\n",
    "        \n",
    "    df_output_all_Q2_seg=df_output_all_Q2_seg.append(df)"
   ]
  },
  {
   "cell_type": "code",
   "execution_count": 8,
   "metadata": {},
   "outputs": [
    {
     "data": {
      "text/plain": [
       "((33928202, 3), 25762231)"
      ]
     },
     "execution_count": 8,
     "metadata": {},
     "output_type": "execute_result"
    }
   ],
   "source": [
    "df_output_all_Q2_seg.shape,df_output_all_Q2_seg['email_address_hash'].nunique()"
   ]
  },
  {
   "cell_type": "code",
   "execution_count": 11,
   "metadata": {},
   "outputs": [],
   "source": [
    "df_output_all_Q2_seg=df_output_all_Q2_seg.drop_duplicates(\"email_address_hash\")"
   ]
  },
  {
   "cell_type": "code",
   "execution_count": 12,
   "metadata": {
    "collapsed": true
   },
   "outputs": [],
   "source": [
    "df_output_all_Q2_seg.to_csv(\"/home/jian/Projects/Big_Lots/Live_Ramp/Mapping_Files/2019_Q2/BL_mapping_file_2019Q2_JL_\"+str(datetime.datetime.now().date())+\".csv\",index=False)\n"
   ]
  },
  {
   "cell_type": "code",
   "execution_count": null,
   "metadata": {
    "collapsed": true
   },
   "outputs": [],
   "source": []
  },
  {
   "cell_type": "code",
   "execution_count": 13,
   "metadata": {
    "collapsed": true
   },
   "outputs": [],
   "source": [
    "import paramiko"
   ]
  },
  {
   "cell_type": "code",
   "execution_count": 14,
   "metadata": {
    "collapsed": true
   },
   "outputs": [],
   "source": [
    "host = \"64.237.51.251\" #hard-coded\n",
    "port = 22\n",
    "transport = paramiko.Transport((host, port))\n",
    "\n",
    "password = \"jian@juba2017\" #hard-coded\n",
    "username = \"jian\" #hard-coded\n",
    "transport.connect(username = username, password = password)\n",
    "sftp = paramiko.SFTPClient.from_transport(transport)\n"
   ]
  },
  {
   "cell_type": "code",
   "execution_count": 15,
   "metadata": {
    "collapsed": true
   },
   "outputs": [],
   "source": [
    "local_path=\"/home/jian/Projects/Big_Lots/Live_Ramp/Mapping_Files/2019_Q2/BL_mapping_file_2019Q2_JL_2019-09-23.csv\""
   ]
  },
  {
   "cell_type": "code",
   "execution_count": 16,
   "metadata": {},
   "outputs": [
    {
     "ename": "AttributeError",
     "evalue": "'str' object has no attribute 'close'",
     "output_type": "error",
     "traceback": [
      "\u001b[0;31m---------------------------------------------------------------------------\u001b[0m",
      "\u001b[0;31mAttributeError\u001b[0m                            Traceback (most recent call last)",
      "\u001b[0;32m<ipython-input-16-f0870e80c8e1>\u001b[0m in \u001b[0;36m<module>\u001b[0;34m()\u001b[0m\n\u001b[1;32m      5\u001b[0m \u001b[0;34m\u001b[0m\u001b[0m\n\u001b[1;32m      6\u001b[0m \u001b[0msftp\u001b[0m\u001b[0;34m.\u001b[0m\u001b[0mclose\u001b[0m\u001b[0;34m(\u001b[0m\u001b[0;34m)\u001b[0m\u001b[0;34m\u001b[0m\u001b[0m\n\u001b[0;32m----> 7\u001b[0;31m \u001b[0mremote_path\u001b[0m\u001b[0;34m.\u001b[0m\u001b[0mclose\u001b[0m\u001b[0;34m(\u001b[0m\u001b[0;34m)\u001b[0m\u001b[0;34m\u001b[0m\u001b[0m\n\u001b[0m",
      "\u001b[0;31mAttributeError\u001b[0m: 'str' object has no attribute 'close'"
     ]
    }
   ],
   "source": [
    "remote_folder='/mnt/drv5/jian/Big_Lots/BL_1_to_1_2019Q2/Q2_mapping_file/'\n",
    "basename=os.path.basename(local_path)\n",
    "remote_path=remote_folder+basename\n",
    "sftp.put(local_path,remote_path)\n",
    "\n",
    "sftp.close()\n",
    "remote_path.close()"
   ]
  },
  {
   "cell_type": "code",
   "execution_count": 17,
   "metadata": {
    "collapsed": true
   },
   "outputs": [],
   "source": [
    "transport.close()"
   ]
  }
 ],
 "metadata": {
  "kernelspec": {
   "display_name": "Python 3",
   "language": "python",
   "name": "python3"
  },
  "language_info": {
   "codemirror_mode": {
    "name": "ipython",
    "version": 3
   },
   "file_extension": ".py",
   "mimetype": "text/x-python",
   "name": "python",
   "nbconvert_exporter": "python",
   "pygments_lexer": "ipython3",
   "version": "3.6.1"
  }
 },
 "nbformat": 4,
 "nbformat_minor": 2
}
