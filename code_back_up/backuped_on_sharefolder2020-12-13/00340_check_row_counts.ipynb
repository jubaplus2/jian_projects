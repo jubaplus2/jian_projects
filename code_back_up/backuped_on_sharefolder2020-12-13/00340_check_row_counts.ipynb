{
 "cells": [
  {
   "cell_type": "code",
   "execution_count": 1,
   "metadata": {},
   "outputs": [
    {
     "data": {
      "text/plain": [
       "'/home/jian/BigLots/others/FB_5_offer_20191203'"
      ]
     },
     "execution_count": 1,
     "metadata": {},
     "output_type": "execute_result"
    }
   ],
   "source": [
    "import pandas as pd\n",
    "import os\n",
    "import datetime\n",
    "import numpy as np\n",
    "import paramiko\n",
    "import glob\n",
    "os.getcwd()"
   ]
  },
  {
   "cell_type": "code",
   "execution_count": 3,
   "metadata": {},
   "outputs": [
    {
     "name": "stdout",
     "output_type": "stream",
     "text": [
      "hash_full_file_redeemers_1201.zip (262870, 2)\n",
      "['hashed_customer_num', 'hashed_email_address']\n",
      "hash_control_1201.zip (100000, 2)\n",
      "['hashed_customer_num', 'hashed_email_address']\n",
      "hash_email_only.zip (15875958, 2)\n",
      "['hashed_customer_num', 'hashed_email_address']\n",
      "hash_facebook_email_1201.zip (6400000, 2)\n",
      "['hashed_customer_num', 'hashed_email_address']\n",
      "hash_facebook_only_1201.zip (500000, 2)\n",
      "['hashed_customer_num', 'hashed_email_address']\n"
     ]
    }
   ],
   "source": [
    "dict_all_dfs=dict()\n",
    "for file in glob.glob(\"./*.zip\"):\n",
    "    df=pd.read_csv(file,dtype=str,sep=\"|\",compression=\"zip\")\n",
    "    print(os.path.basename(file),df.shape)\n",
    "    print(df.columns.tolist())\n",
    "    dict_all_dfs.update({os.path.basename(file):df})"
   ]
  },
  {
   "cell_type": "code",
   "execution_count": null,
   "metadata": {
    "collapsed": true
   },
   "outputs": [],
   "source": []
  }
 ],
 "metadata": {
  "kernelspec": {
   "display_name": "Python 3",
   "language": "python",
   "name": "python3"
  },
  "language_info": {
   "codemirror_mode": {
    "name": "ipython",
    "version": 3
   },
   "file_extension": ".py",
   "mimetype": "text/x-python",
   "name": "python",
   "nbconvert_exporter": "python",
   "pygments_lexer": "ipython3",
   "version": "3.6.1"
  }
 },
 "nbformat": 4,
 "nbformat_minor": 2
}
