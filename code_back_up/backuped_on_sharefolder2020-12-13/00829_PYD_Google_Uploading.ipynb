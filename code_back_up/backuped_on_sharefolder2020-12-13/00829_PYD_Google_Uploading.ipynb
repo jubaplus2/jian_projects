{
 "cells": [
  {
   "cell_type": "code",
   "execution_count": 1,
   "metadata": {},
   "outputs": [],
   "source": [
    "import uuid\n",
    "from googleads import adwords\n",
    "import os\n",
    "import datetime\n",
    "auth_file_path = '/home/sharefolder/Docs/Google_Ads_Access/googleads_BL_MMC.yaml'\n",
    "\n",
    "def upload_and_return_count_in_chunk(service, user_list_id, email_list):\n",
    "    ids_in_chunk=0\n",
    "    mutate_members_operation = {\n",
    "      'operand': {\n",
    "          'userListId': user_list_id,\n",
    "          'membersList': email_list\n",
    "      },\n",
    "      'operator': 'ADD'\n",
    "    }\n",
    "    response = service.mutateMembers([mutate_members_operation])\n",
    "    if 'userLists' in response:\n",
    "        for user_list in response['userLists']:\n",
    "            # print('Uploaded %i items to user list with name \"%s\" and ID \"%d\"'\n",
    "            #     % (len(email_list), user_list['name'], user_list['id']))\n",
    "\n",
    "            \n",
    "            ids_in_chunk+=len(email_list)\n",
    "    return ids_in_chunk\n",
    "            \n",
    "def run_the_uploading(client, email_file_path):\n",
    "  # Initialize appropriate services.\n",
    "    total_ids_in_seg=0\n",
    "    user_list_service = client.GetService('AdwordsUserListService', 'v201809')\n",
    "    file_base_name=os.path.basename(email_file_path).split(\".\")[0]\n",
    "    user_list = {\n",
    "        'xsi_type': 'CrmBasedUserList',\n",
    "        'name': file_base_name.replace(\"removed_Q3_QuarterlyControl_09142020_\",\"aud_2020Step_\")+\"_directly_uploaded\",\n",
    "        'description': 'Aggregated control for 2020Q1 RFM: '+file_base_name,\n",
    "        # CRM-based user lists can use a membershipLifeSpan of 10000 to indicate\n",
    "        # unlimited; otherwise normal values apply.\n",
    "        'membershipLifeSpan': 10000,\n",
    "        'uploadKeyType': 'CONTACT_INFO'\n",
    "     }\n",
    "    # Create an operation to add the user list.\n",
    "    operations = [{\n",
    "        'operator': 'ADD',\n",
    "        'operand': user_list\n",
    "    }]\n",
    "    result = user_list_service.mutate(operations)\n",
    "    user_list_id = result['value'][0]['id']\n",
    "    \n",
    "    counter_invalid_email_count=0\n",
    "    chuncksize_n=3000\n",
    "    df = pd.read_csv(email_file_path, chunksize=chuncksize_n)\n",
    "    for i in df:\n",
    "        mail_col = [k for k in i.columns if 'email' in k.lower()][0]\n",
    "        new_col = ['email' if h == mail_col else h for h in i.columns.tolist()]\n",
    "        i.columns = new_col\n",
    "        emails = i['email']\n",
    "        \n",
    "        emails = set([x for x in emails if len(str(x))==64])\n",
    "        counter_invalid_email_count+=(i.shape[0]-len(emails))\n",
    "        members = [{'hashedEmail': email} for email in emails]\n",
    "        ids_in_chunk=upload_and_return_count_in_chunk(user_list_service, user_list_id, members)\n",
    "        \n",
    "        total_ids_in_seg+=ids_in_chunk\n",
    "    print(datetime.datetime.now(),\"all %s ids uploaded in the segment \"%str(total_ids_in_seg))\n",
    "    print(\"%i of it is invalid emails\"%counter_invalid_email_count)"
   ]
  },
  {
   "cell_type": "code",
   "execution_count": 2,
   "metadata": {},
   "outputs": [
    {
     "data": {
      "text/plain": [
       "['/home/jian/Projects/Big_Lots/Analysis/2020_Q3/Audience_for_21mm_Act_Goal/Uploaded_Files/PYD_clients/removed_Q3_QuarterlyControl_09142020_PYD_Active_A.csv',\n",
       " '/home/jian/Projects/Big_Lots/Analysis/2020_Q3/Audience_for_21mm_Act_Goal/Uploaded_Files/PYD_clients/removed_Q3_QuarterlyControl_09142020_PYD_Active_B.csv',\n",
       " '/home/jian/Projects/Big_Lots/Analysis/2020_Q3/Audience_for_21mm_Act_Goal/Uploaded_Files/PYD_clients/removed_Q3_QuarterlyControl_09142020_PYD_Active_C.csv',\n",
       " '/home/jian/Projects/Big_Lots/Analysis/2020_Q3/Audience_for_21mm_Act_Goal/Uploaded_Files/PYD_clients/removed_Q3_QuarterlyControl_09142020_PYD_Lapsed_A.csv',\n",
       " '/home/jian/Projects/Big_Lots/Analysis/2020_Q3/Audience_for_21mm_Act_Goal/Uploaded_Files/PYD_clients/removed_Q3_QuarterlyControl_09142020_PYD_Lapsed_B.csv',\n",
       " '/home/jian/Projects/Big_Lots/Analysis/2020_Q3/Audience_for_21mm_Act_Goal/Uploaded_Files/PYD_clients/removed_Q3_QuarterlyControl_09142020_PYD_Lapsed_C.csv',\n",
       " '/home/jian/Projects/Big_Lots/Analysis/2020_Q3/Audience_for_21mm_Act_Goal/Uploaded_Files/PYD_clients/removed_Q3_QuarterlyControl_09142020_PYD_Signup_NoPurchase_A.csv',\n",
       " '/home/jian/Projects/Big_Lots/Analysis/2020_Q3/Audience_for_21mm_Act_Goal/Uploaded_Files/PYD_clients/removed_Q3_QuarterlyControl_09142020_PYD_Signup_NoPurchase_B.csv',\n",
       " '/home/jian/Projects/Big_Lots/Analysis/2020_Q3/Audience_for_21mm_Act_Goal/Uploaded_Files/PYD_clients/removed_Q3_QuarterlyControl_09142020_PYD_Signup_NoPurchase_C.csv']"
      ]
     },
     "execution_count": 2,
     "metadata": {},
     "output_type": "execute_result"
    }
   ],
   "source": [
    "import glob\n",
    "import pandas as pd\n",
    "import glob\n",
    "folder_client_segs=\"/home/jian/Projects/Big_Lots/Analysis/2020_Q3/Audience_for_21mm_Act_Goal/Uploaded_Files/PYD_clients/\"\n",
    "list_files_to_upload_PYD=glob.glob(folder_client_segs+\"*.csv\")\n",
    "# list_files_to_upload_PYD=[x for x in list_files_to_upload_PYD if \"_C.csv\" not in x]\n",
    "list_files_to_upload_PYD.sort()\n",
    "list_files_to_upload_PYD"
   ]
  },
  {
   "cell_type": "code",
   "execution_count": 3,
   "metadata": {},
   "outputs": [
    {
     "data": {
      "text/html": [
       "<div>\n",
       "<style scoped>\n",
       "    .dataframe tbody tr th:only-of-type {\n",
       "        vertical-align: middle;\n",
       "    }\n",
       "\n",
       "    .dataframe tbody tr th {\n",
       "        vertical-align: top;\n",
       "    }\n",
       "\n",
       "    .dataframe thead th {\n",
       "        text-align: right;\n",
       "    }\n",
       "</style>\n",
       "<table border=\"1\" class=\"dataframe\">\n",
       "  <thead>\n",
       "    <tr style=\"text-align: right;\">\n",
       "      <th></th>\n",
       "      <th>len_email</th>\n",
       "      <th>customersummary_emailhash</th>\n",
       "    </tr>\n",
       "  </thead>\n",
       "  <tbody>\n",
       "    <tr>\n",
       "      <th>0</th>\n",
       "      <td>7</td>\n",
       "      <td>49099</td>\n",
       "    </tr>\n",
       "    <tr>\n",
       "      <th>1</th>\n",
       "      <td>64</td>\n",
       "      <td>6424845</td>\n",
       "    </tr>\n",
       "  </tbody>\n",
       "</table>\n",
       "</div>"
      ],
      "text/plain": [
       "   len_email  customersummary_emailhash\n",
       "0          7                      49099\n",
       "1         64                    6424845"
      ]
     },
     "execution_count": 3,
     "metadata": {},
     "output_type": "execute_result"
    }
   ],
   "source": [
    "# check the customersummary_emailhash hashed validation\n",
    "df=pd.read_csv(list_files_to_upload_PYD[0])\n",
    "df['len_email']=df['customersummary_emailhash'].apply(len)\n",
    "df.groupby(\"len_email\")['customersummary_emailhash'].count().to_frame().reset_index()"
   ]
  },
  {
   "cell_type": "code",
   "execution_count": 4,
   "metadata": {},
   "outputs": [
    {
     "name": "stdout",
     "output_type": "stream",
     "text": [
      "2020-09-17 01:07:52.453976 all 6424845 ids uploaded in the segment \n",
      "49099 of it is invalid emails\n",
      "2020-09-17 01:28:37.757186 all 6425837 ids uploaded in the segment \n",
      "48908 of it is invalid emails\n",
      "2020-09-17 02:10:47.769048 all 6425035 ids uploaded in the segment \n",
      "49302 of it is invalid emails\n",
      "2020-09-17 02:18:36.158268 all 1174859 ids uploaded in the segment \n",
      "0 of it is invalid emails\n",
      "2020-09-17 02:26:19.466846 all 1174618 ids uploaded in the segment \n",
      "0 of it is invalid emails\n",
      "2020-09-17 02:33:55.729385 all 1174524 ids uploaded in the segment \n",
      "0 of it is invalid emails\n",
      "2020-09-17 02:37:10.687380 all 971779 ids uploaded in the segment \n",
      "27 of it is invalid emails\n",
      "2020-09-17 02:40:17.305852 all 971768 ids uploaded in the segment \n",
      "27 of it is invalid emails\n",
      "2020-09-17 02:43:27.779136 all 971785 ids uploaded in the segment \n",
      "17 of it is invalid emails\n"
     ]
    }
   ],
   "source": [
    "BL_client = adwords.AdWordsClient.LoadFromStorage(auth_file_path)\n",
    "for local_seg_file in list_files_to_upload_PYD:\n",
    "    run_the_uploading(BL_client, local_seg_file)"
   ]
  }
 ],
 "metadata": {
  "kernelspec": {
   "display_name": "Python 3",
   "language": "python",
   "name": "python3"
  },
  "language_info": {
   "codemirror_mode": {
    "name": "ipython",
    "version": 3
   },
   "file_extension": ".py",
   "mimetype": "text/x-python",
   "name": "python",
   "nbconvert_exporter": "python",
   "pygments_lexer": "ipython3",
   "version": "3.6.1"
  }
 },
 "nbformat": 4,
 "nbformat_minor": 2
}
