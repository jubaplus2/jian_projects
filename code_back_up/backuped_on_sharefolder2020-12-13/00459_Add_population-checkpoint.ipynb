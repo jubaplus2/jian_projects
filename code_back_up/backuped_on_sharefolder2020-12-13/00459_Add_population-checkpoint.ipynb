{
 "cells": [
  {
   "cell_type": "code",
   "execution_count": 1,
   "metadata": {},
   "outputs": [
    {
     "name": "stdout",
     "output_type": "stream",
     "text": [
      "2020-12-11 12:35:17.804380\n",
      "/mnt/clients/juba/hqjubaapp02/sharefolder/CC\n"
     ]
    }
   ],
   "source": [
    "import pandas as pd\n",
    "import numpy as np\n",
    "import datetime\n",
    "import os\n",
    "\n",
    "print(datetime.datetime.now())\n",
    "print(os.getcwd())"
   ]
  },
  {
   "cell_type": "code",
   "execution_count": 2,
   "metadata": {},
   "outputs": [
    {
     "data": {
      "text/plain": [
       "['Sheet1', 'Zipcodes']"
      ]
     },
     "execution_count": 2,
     "metadata": {},
     "output_type": "execute_result"
    }
   ],
   "source": [
    "excel_file=pd.ExcelFile(\"./CC GA TA Analyses.xlsx\")\n",
    "excel_file.sheet_names"
   ]
  },
  {
   "cell_type": "code",
   "execution_count": 3,
   "metadata": {},
   "outputs": [],
   "source": [
    "df_output=excel_file.parse(\"Sheet1\",dtype=str)\n",
    "df_zip_city=excel_file.parse(\"Zipcodes\",dtype=str)"
   ]
  },
  {
   "cell_type": "code",
   "execution_count": 4,
   "metadata": {},
   "outputs": [
    {
     "name": "stdout",
     "output_type": "stream",
     "text": [
      "(9317, 4) 9024\n",
      "[5 4]\n",
      "[5]\n"
     ]
    }
   ],
   "source": [
    "print(df_zip_city.shape,df_zip_city['zip_cd'].nunique())\n",
    "df_zip_city=df_zip_city[pd.notnull(df_zip_city['zip_cd'])]\n",
    "print(df_zip_city['zip_cd'].apply(len).unique())\n",
    "df_zip_city['zip_cd']=df_zip_city['zip_cd'].str.zfill(5)\n",
    "print(df_zip_city['zip_cd'].apply(len).unique())"
   ]
  },
  {
   "cell_type": "code",
   "execution_count": 5,
   "metadata": {},
   "outputs": [
    {
     "name": "stdout",
     "output_type": "stream",
     "text": [
      "(40306307, 3)\n",
      "(40306307, 3)\n",
      "(40306307, 5)\n"
     ]
    }
   ],
   "source": [
    "df_EASI_A=pd.read_csv(\"/mnt/clients/juba/hqjubaapp02/sharefolder/Docs/EASI/2018-07-19/ZIP4_18_DATA_A2_CSV/ZIP4_18_DATA_A2.CSV\",\n",
    "                     skiprows=1,usecols=['ZIP_CODE','ZIP4','POP18'],dtype=str)\n",
    "df_EASI_A['POP18']=df_EASI_A['POP18'].astype(float)\n",
    "\n",
    "df_EASI_C=pd.read_csv(\"/mnt/clients/juba/hqjubaapp02/sharefolder/Docs/EASI/2018-07-19/ZIP4_18_DATA_C2_CSV/ZIP4_18_DATA_C2.CSV\",\n",
    "                     skiprows=1,usecols=['ZIP_CODE','ZIP4','PCTHH55_64','PCTHH65_74','PCTHH75P'],dtype=str)\n",
    "df_EASI_C['PCTHH55_64']=df_EASI_C['PCTHH55_64'].astype(float)\n",
    "df_EASI_C['PCTHH65_74']=df_EASI_C['PCTHH65_74'].astype(float)\n",
    "df_EASI_C['PCTHH75P']=df_EASI_C['PCTHH75P'].astype(float)\n",
    "df_EASI_C['PCTHH_55P']=df_EASI_C['PCTHH55_64']+df_EASI_C['PCTHH65_74']+df_EASI_C['PCTHH75P']\n",
    "del df_EASI_C['PCTHH55_64']\n",
    "del df_EASI_C['PCTHH65_74']\n",
    "del df_EASI_C['PCTHH75P']\n",
    "print(df_EASI_A.shape)\n",
    "print(df_EASI_C.shape)\n",
    "df_EASI_A=pd.merge(df_EASI_A,df_EASI_C,on=['ZIP_CODE','ZIP4'],how=\"left\")\n",
    "df_EASI_A['Pop_55_plus']=df_EASI_A['POP18']*df_EASI_A['PCTHH_55P']\n",
    "df_EASI_A['Pop_55_plus']=df_EASI_A['Pop_55_plus']/100\n",
    "print(df_EASI_A.shape)"
   ]
  },
  {
   "cell_type": "code",
   "execution_count": 6,
   "metadata": {},
   "outputs": [
    {
     "data": {
      "text/html": [
       "<div>\n",
       "<style scoped>\n",
       "    .dataframe tbody tr th:only-of-type {\n",
       "        vertical-align: middle;\n",
       "    }\n",
       "\n",
       "    .dataframe tbody tr th {\n",
       "        vertical-align: top;\n",
       "    }\n",
       "\n",
       "    .dataframe thead th {\n",
       "        text-align: right;\n",
       "    }\n",
       "</style>\n",
       "<table border=\"1\" class=\"dataframe\">\n",
       "  <thead>\n",
       "    <tr style=\"text-align: right;\">\n",
       "      <th></th>\n",
       "      <th>ZIP_CODE</th>\n",
       "      <th>ZIP4</th>\n",
       "      <th>POP18</th>\n",
       "      <th>PCTHH_55P</th>\n",
       "      <th>Pop_55_plus</th>\n",
       "    </tr>\n",
       "  </thead>\n",
       "  <tbody>\n",
       "    <tr>\n",
       "      <th>0</th>\n",
       "      <td>00501</td>\n",
       "      <td>0001</td>\n",
       "      <td>0.0</td>\n",
       "      <td>0.00</td>\n",
       "      <td>0.00000</td>\n",
       "    </tr>\n",
       "    <tr>\n",
       "      <th>1</th>\n",
       "      <td>00501</td>\n",
       "      <td>0002</td>\n",
       "      <td>0.0</td>\n",
       "      <td>0.00</td>\n",
       "      <td>0.00000</td>\n",
       "    </tr>\n",
       "    <tr>\n",
       "      <th>2</th>\n",
       "      <td>01001</td>\n",
       "      <td>0001</td>\n",
       "      <td>114.2</td>\n",
       "      <td>42.81</td>\n",
       "      <td>48.88902</td>\n",
       "    </tr>\n",
       "    <tr>\n",
       "      <th>3</th>\n",
       "      <td>01001</td>\n",
       "      <td>0121</td>\n",
       "      <td>102.5</td>\n",
       "      <td>42.81</td>\n",
       "      <td>43.88025</td>\n",
       "    </tr>\n",
       "  </tbody>\n",
       "</table>\n",
       "</div>"
      ],
      "text/plain": [
       "  ZIP_CODE  ZIP4  POP18  PCTHH_55P  Pop_55_plus\n",
       "0    00501  0001    0.0       0.00      0.00000\n",
       "1    00501  0002    0.0       0.00      0.00000\n",
       "2    01001  0001  114.2      42.81     48.88902\n",
       "3    01001  0121  102.5      42.81     43.88025"
      ]
     },
     "execution_count": 6,
     "metadata": {},
     "output_type": "execute_result"
    }
   ],
   "source": [
    "df_EASI_A.head(4)"
   ]
  },
  {
   "cell_type": "code",
   "execution_count": 7,
   "metadata": {},
   "outputs": [
    {
     "name": "stdout",
     "output_type": "stream",
     "text": [
      "[5]\n",
      "[5]\n"
     ]
    }
   ],
   "source": [
    "df_pop_55_plus_by_zip=df_EASI_A.groupby(\"ZIP_CODE\")['Pop_55_plus'].sum().to_frame().reset_index()\n",
    "df_pop_55_plus_by_zip=df_pop_55_plus_by_zip.rename(columns={\"ZIP_CODE\":\"zip_cd\"})\n",
    "print(df_pop_55_plus_by_zip['zip_cd'].apply(len).unique())\n",
    "print(df_zip_city['zip_cd'].apply(len).unique())\n"
   ]
  },
  {
   "cell_type": "code",
   "execution_count": 8,
   "metadata": {},
   "outputs": [
    {
     "data": {
      "text/html": [
       "<div>\n",
       "<style scoped>\n",
       "    .dataframe tbody tr th:only-of-type {\n",
       "        vertical-align: middle;\n",
       "    }\n",
       "\n",
       "    .dataframe tbody tr th {\n",
       "        vertical-align: top;\n",
       "    }\n",
       "\n",
       "    .dataframe thead th {\n",
       "        text-align: right;\n",
       "    }\n",
       "</style>\n",
       "<table border=\"1\" class=\"dataframe\">\n",
       "  <thead>\n",
       "    <tr style=\"text-align: right;\">\n",
       "      <th></th>\n",
       "      <th>State</th>\n",
       "      <th>City</th>\n",
       "      <th>zip_cd</th>\n",
       "      <th>Dma</th>\n",
       "      <th>Pop_55_plus</th>\n",
       "    </tr>\n",
       "  </thead>\n",
       "  <tbody>\n",
       "    <tr>\n",
       "      <th>0</th>\n",
       "      <td>New York</td>\n",
       "      <td>New York</td>\n",
       "      <td>10169</td>\n",
       "      <td>NEW YORK</td>\n",
       "      <td>0.0</td>\n",
       "    </tr>\n",
       "    <tr>\n",
       "      <th>1</th>\n",
       "      <td>New York</td>\n",
       "      <td>New York</td>\n",
       "      <td>10168</td>\n",
       "      <td>NEW YORK</td>\n",
       "      <td>0.0</td>\n",
       "    </tr>\n",
       "  </tbody>\n",
       "</table>\n",
       "</div>"
      ],
      "text/plain": [
       "      State      City zip_cd       Dma  Pop_55_plus\n",
       "0  New York  New York  10169  NEW YORK          0.0\n",
       "1  New York  New York  10168  NEW YORK          0.0"
      ]
     },
     "execution_count": 8,
     "metadata": {},
     "output_type": "execute_result"
    }
   ],
   "source": [
    "df_zip_city=pd.merge(df_zip_city,df_pop_55_plus_by_zip,on=\"zip_cd\",how=\"left\")\n",
    "df_zip_city.head(2)"
   ]
  },
  {
   "cell_type": "code",
   "execution_count": 9,
   "metadata": {},
   "outputs": [
    {
     "data": {
      "text/plain": [
       "55"
      ]
     },
     "execution_count": 9,
     "metadata": {},
     "output_type": "execute_result"
    }
   ],
   "source": [
    "del df_EASI_A\n",
    "del df_EASI_C\n",
    "import gc\n",
    "gc.collect()"
   ]
  },
  {
   "cell_type": "code",
   "execution_count": 10,
   "metadata": {},
   "outputs": [],
   "source": [
    "df_output_population=df_zip_city.groupby([\"State\",'City'])['Pop_55_plus'].sum().to_frame().reset_index()\n",
    "df_output_zip_count=df_zip_city.groupby([\"State\",'City'])['zip_cd'].nunique().to_frame().reset_index().rename(columns={\"zip_cd\":\"qc_zip_count\"})\n"
   ]
  },
  {
   "cell_type": "code",
   "execution_count": 11,
   "metadata": {},
   "outputs": [
    {
     "data": {
      "text/html": [
       "<div>\n",
       "<style scoped>\n",
       "    .dataframe tbody tr th:only-of-type {\n",
       "        vertical-align: middle;\n",
       "    }\n",
       "\n",
       "    .dataframe tbody tr th {\n",
       "        vertical-align: top;\n",
       "    }\n",
       "\n",
       "    .dataframe thead th {\n",
       "        text-align: right;\n",
       "    }\n",
       "</style>\n",
       "<table border=\"1\" class=\"dataframe\">\n",
       "  <thead>\n",
       "    <tr style=\"text-align: right;\">\n",
       "      <th></th>\n",
       "      <th>State</th>\n",
       "      <th>City</th>\n",
       "      <th>#zipcodes</th>\n",
       "      <th>Pop 55+</th>\n",
       "      <th>Pop_55_plus</th>\n",
       "      <th>qc_zip_count</th>\n",
       "    </tr>\n",
       "  </thead>\n",
       "  <tbody>\n",
       "    <tr>\n",
       "      <th>0</th>\n",
       "      <td>New York</td>\n",
       "      <td>New York</td>\n",
       "      <td>115</td>\n",
       "      <td>NaN</td>\n",
       "      <td>627340.43264</td>\n",
       "      <td>115.0</td>\n",
       "    </tr>\n",
       "    <tr>\n",
       "      <th>1</th>\n",
       "      <td>Ohio</td>\n",
       "      <td>Cleveland</td>\n",
       "      <td>35</td>\n",
       "      <td>NaN</td>\n",
       "      <td>337220.06201</td>\n",
       "      <td>35.0</td>\n",
       "    </tr>\n",
       "    <tr>\n",
       "      <th>2</th>\n",
       "      <td>Illinois</td>\n",
       "      <td>Chicago</td>\n",
       "      <td>78</td>\n",
       "      <td>NaN</td>\n",
       "      <td>983610.81815</td>\n",
       "      <td>78.0</td>\n",
       "    </tr>\n",
       "    <tr>\n",
       "      <th>3</th>\n",
       "      <td>Ohio</td>\n",
       "      <td>Columbus</td>\n",
       "      <td>40</td>\n",
       "      <td>NaN</td>\n",
       "      <td>300140.66719</td>\n",
       "      <td>40.0</td>\n",
       "    </tr>\n",
       "    <tr>\n",
       "      <th>4</th>\n",
       "      <td>Georgia</td>\n",
       "      <td>Atlanta</td>\n",
       "      <td>83</td>\n",
       "      <td>NaN</td>\n",
       "      <td>329752.19120</td>\n",
       "      <td>83.0</td>\n",
       "    </tr>\n",
       "    <tr>\n",
       "      <th>5</th>\n",
       "      <td>Texas</td>\n",
       "      <td>Dallas</td>\n",
       "      <td>88</td>\n",
       "      <td>NaN</td>\n",
       "      <td>468725.13342</td>\n",
       "      <td>88.0</td>\n",
       "    </tr>\n",
       "    <tr>\n",
       "      <th>6</th>\n",
       "      <td>California</td>\n",
       "      <td>Los Angeles</td>\n",
       "      <td>90</td>\n",
       "      <td>NaN</td>\n",
       "      <td>889976.74231</td>\n",
       "      <td>90.0</td>\n",
       "    </tr>\n",
       "    <tr>\n",
       "      <th>7</th>\n",
       "      <td>Florida</td>\n",
       "      <td>Orlando</td>\n",
       "      <td>55</td>\n",
       "      <td>NaN</td>\n",
       "      <td>326986.24683</td>\n",
       "      <td>55.0</td>\n",
       "    </tr>\n",
       "    <tr>\n",
       "      <th>8</th>\n",
       "      <td>District of Columbia</td>\n",
       "      <td>Washington</td>\n",
       "      <td>216</td>\n",
       "      <td>NaN</td>\n",
       "      <td>242767.43440</td>\n",
       "      <td>216.0</td>\n",
       "    </tr>\n",
       "    <tr>\n",
       "      <th>9</th>\n",
       "      <td>Tennessee</td>\n",
       "      <td>Nashville</td>\n",
       "      <td>39</td>\n",
       "      <td>NaN</td>\n",
       "      <td>168607.69236</td>\n",
       "      <td>39.0</td>\n",
       "    </tr>\n",
       "    <tr>\n",
       "      <th>10</th>\n",
       "      <td>Virginia</td>\n",
       "      <td>Ashburn</td>\n",
       "      <td>4</td>\n",
       "      <td>NaN</td>\n",
       "      <td>20701.10638</td>\n",
       "      <td>4.0</td>\n",
       "    </tr>\n",
       "    <tr>\n",
       "      <th>11</th>\n",
       "      <td>Florida</td>\n",
       "      <td>Miami</td>\n",
       "      <td>93</td>\n",
       "      <td>NaN</td>\n",
       "      <td>799597.09500</td>\n",
       "      <td>93.0</td>\n",
       "    </tr>\n",
       "    <tr>\n",
       "      <th>12</th>\n",
       "      <td>Indiana</td>\n",
       "      <td>Indianapolis</td>\n",
       "      <td>56</td>\n",
       "      <td>NaN</td>\n",
       "      <td>351611.06510</td>\n",
       "      <td>56.0</td>\n",
       "    </tr>\n",
       "    <tr>\n",
       "      <th>13</th>\n",
       "      <td>Washington</td>\n",
       "      <td>Seattle</td>\n",
       "      <td>57</td>\n",
       "      <td>NaN</td>\n",
       "      <td>348599.62678</td>\n",
       "      <td>57.0</td>\n",
       "    </tr>\n",
       "    <tr>\n",
       "      <th>14</th>\n",
       "      <td>California</td>\n",
       "      <td>San Francisco</td>\n",
       "      <td>46</td>\n",
       "      <td>NaN</td>\n",
       "      <td>337713.70681</td>\n",
       "      <td>46.0</td>\n",
       "    </tr>\n",
       "    <tr>\n",
       "      <th>15</th>\n",
       "      <td>Ohio</td>\n",
       "      <td>Cincinnati</td>\n",
       "      <td>64</td>\n",
       "      <td>NaN</td>\n",
       "      <td>341874.57673</td>\n",
       "      <td>64.0</td>\n",
       "    </tr>\n",
       "    <tr>\n",
       "      <th>16</th>\n",
       "      <td>Pennsylvania</td>\n",
       "      <td>Philadelphia</td>\n",
       "      <td>64</td>\n",
       "      <td>NaN</td>\n",
       "      <td>619813.30946</td>\n",
       "      <td>64.0</td>\n",
       "    </tr>\n",
       "    <tr>\n",
       "      <th>17</th>\n",
       "      <td>Arizona</td>\n",
       "      <td>Phoenix</td>\n",
       "      <td>72</td>\n",
       "      <td>NaN</td>\n",
       "      <td>496429.56519</td>\n",
       "      <td>72.0</td>\n",
       "    </tr>\n",
       "    <tr>\n",
       "      <th>18</th>\n",
       "      <td>Massachusetts</td>\n",
       "      <td>Boston</td>\n",
       "      <td>30</td>\n",
       "      <td>NaN</td>\n",
       "      <td>63620.97684</td>\n",
       "      <td>30.0</td>\n",
       "    </tr>\n",
       "    <tr>\n",
       "      <th>19</th>\n",
       "      <td>Michigan</td>\n",
       "      <td>Ann Arbor</td>\n",
       "      <td>8</td>\n",
       "      <td>NaN</td>\n",
       "      <td>54698.20015</td>\n",
       "      <td>8.0</td>\n",
       "    </tr>\n",
       "  </tbody>\n",
       "</table>\n",
       "</div>"
      ],
      "text/plain": [
       "                   State           City #zipcodes Pop 55+   Pop_55_plus  \\\n",
       "0               New York       New York       115     NaN  627340.43264   \n",
       "1                   Ohio      Cleveland        35     NaN  337220.06201   \n",
       "2               Illinois        Chicago        78     NaN  983610.81815   \n",
       "3                   Ohio       Columbus        40     NaN  300140.66719   \n",
       "4                Georgia        Atlanta        83     NaN  329752.19120   \n",
       "5                  Texas         Dallas        88     NaN  468725.13342   \n",
       "6             California    Los Angeles        90     NaN  889976.74231   \n",
       "7                Florida        Orlando        55     NaN  326986.24683   \n",
       "8   District of Columbia     Washington       216     NaN  242767.43440   \n",
       "9              Tennessee      Nashville        39     NaN  168607.69236   \n",
       "10              Virginia        Ashburn         4     NaN   20701.10638   \n",
       "11               Florida          Miami        93     NaN  799597.09500   \n",
       "12               Indiana   Indianapolis        56     NaN  351611.06510   \n",
       "13            Washington        Seattle        57     NaN  348599.62678   \n",
       "14            California  San Francisco        46     NaN  337713.70681   \n",
       "15                  Ohio     Cincinnati        64     NaN  341874.57673   \n",
       "16          Pennsylvania   Philadelphia        64     NaN  619813.30946   \n",
       "17               Arizona        Phoenix        72     NaN  496429.56519   \n",
       "18         Massachusetts         Boston        30     NaN   63620.97684   \n",
       "19              Michigan      Ann Arbor         8     NaN   54698.20015   \n",
       "\n",
       "    qc_zip_count  \n",
       "0          115.0  \n",
       "1           35.0  \n",
       "2           78.0  \n",
       "3           40.0  \n",
       "4           83.0  \n",
       "5           88.0  \n",
       "6           90.0  \n",
       "7           55.0  \n",
       "8          216.0  \n",
       "9           39.0  \n",
       "10           4.0  \n",
       "11          93.0  \n",
       "12          56.0  \n",
       "13          57.0  \n",
       "14          46.0  \n",
       "15          64.0  \n",
       "16          64.0  \n",
       "17          72.0  \n",
       "18          30.0  \n",
       "19           8.0  "
      ]
     },
     "execution_count": 11,
     "metadata": {},
     "output_type": "execute_result"
    }
   ],
   "source": [
    "df_output=pd.merge(df_output,df_output_population,on=[\"State\",'City'],how=\"left\")\n",
    "df_output=pd.merge(df_output,df_output_zip_count,on=[\"State\",'City'],how=\"left\")\n",
    "df_output.head(20)"
   ]
  },
  {
   "cell_type": "code",
   "execution_count": 12,
   "metadata": {},
   "outputs": [],
   "source": [
    "df_output.to_csv(\"./CC_city_with_population_JL_%s.csv\"%str(datetime.datetime.now().date()),index=False)"
   ]
  },
  {
   "cell_type": "code",
   "execution_count": null,
   "metadata": {},
   "outputs": [],
   "source": []
  }
 ],
 "metadata": {
  "kernelspec": {
   "display_name": "Python 3",
   "language": "python",
   "name": "python3"
  },
  "language_info": {
   "codemirror_mode": {
    "name": "ipython",
    "version": 3
   },
   "file_extension": ".py",
   "mimetype": "text/x-python",
   "name": "python",
   "nbconvert_exporter": "python",
   "pygments_lexer": "ipython3",
   "version": "3.7.6"
  }
 },
 "nbformat": 4,
 "nbformat_minor": 4
}
