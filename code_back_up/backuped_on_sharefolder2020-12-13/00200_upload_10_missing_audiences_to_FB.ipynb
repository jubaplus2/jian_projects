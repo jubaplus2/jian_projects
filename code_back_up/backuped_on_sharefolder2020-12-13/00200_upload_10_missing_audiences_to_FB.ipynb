{
 "cells": [
  {
   "cell_type": "code",
   "execution_count": 1,
   "metadata": {},
   "outputs": [],
   "source": [
    "# FB and Google\n",
    "\n",
    "\n",
    "import pandas as pd\n",
    "import numpy as np\n",
    "from facebookads.adobjects.customaudience import CustomAudience\n",
    "from facebookads.adobjects.adaccount import AdAccount\n",
    "from facebookads.api import FacebookAdsApi\n",
    "import datetime\n",
    "import os\n",
    "import glob\n",
    "\n",
    "\n",
    "\n",
    "BigLotsAccount_id=\"act_271491453638620\"\n",
    "\n",
    "jian_APP_ID=\"2537704939796694\"# jian's fb marketing app id\n",
    "jian_token=\"EAAkEB3l7ONYBALOwTjZA6ZA69KGshjjZCghKd2FhqZCVvcZCxcQZCglQshts2EZCZBccbvwUddxKlje4ZCz3w8qkLWICYdS8cZCAw2e8VZCs9VHEt7sg5gR6gc4o8TVV73OAABUf7zKqoXLyeREavx7Viz8ArwVQxsDfMVSJK7o5qOqiQZDZD\"\n",
    "\n",
    "def creatfbaudience(file_path,ACCESS_TOKEN,accountid,description,audience_name):\n",
    "    '''\n",
    "    input:\n",
    "    file_path: str, full_path, basename as the audience name on FB\n",
    "        make sure the columns contains the \"email_address_hash\", use this col only\n",
    "    \n",
    "    ACCESS_TOKEN: personal token #app id not needed\n",
    "    accountid: account_id starting with \"act_\", followed by the id str\n",
    "    as Nov. 20, 2019, latest verision is 'v5.0'\n",
    "    '''\n",
    "    FacebookAdsApi.init(access_token=ACCESS_TOKEN, api_version='v5.0')\n",
    "    myAccount = AdAccount(accountid)\n",
    "    fields = []\n",
    "    fbname=audience_name\n",
    "    params = {\n",
    "      'name': fbname,\n",
    "      'subtype': 'CUSTOM',\n",
    "      'description': description,\n",
    "      'customer_file_source': 'USER_PROVIDED_ONLY',\n",
    "    }\n",
    "    fbname = myAccount.create_custom_audience(\n",
    "      fields=fields,\n",
    "      params=params,\n",
    "    )['id']\n",
    "    \n",
    "    df=pd.read_csv(file_path,dtype=str,)\n",
    "    listlen = df.shape[0]\n",
    "    requestUrl = 'https://graph.facebook.com/v5.0/'+ fbname + '/users'\n",
    "    \n",
    "    chunck_size=50000\n",
    "    i_counter=0\n",
    "    for df_chunck in pd.read_csv(file_path,chunksize=chunck_size,dtype=str,usecols=[\"email_address_hash\"]):\n",
    "        payload = {}\n",
    "        payload['schema'] = ['EMAIL']\n",
    "        df_chunck=df_chunck.rename(columns={\"email_address_hash\":\"EMAIL\"})\n",
    "        df_chunck=df_chunck.drop_duplicates()\n",
    "        payload_data=df_chunck['EMAIL'].apply(lambda x: [x]).tolist()\n",
    "\n",
    "        payload['data'] = payload_data\n",
    "        params = {}\n",
    "        params ={'payload':payload} \n",
    "        CustomAudience(fbname).create_user(\n",
    "                      fields=fields,\n",
    "                      params=params,\n",
    "        )\n",
    "        i_counter+=1\n",
    "        print(i_counter,datetime.datetime.now())\n",
    "  \n",
    "\n",
    "    return 'All done: '+str(datetime.datetime.now())"
   ]
  },
  {
   "cell_type": "code",
   "execution_count": 2,
   "metadata": {},
   "outputs": [
    {
     "name": "stdout",
     "output_type": "stream",
     "text": [
      "['Segment Summary', 'Pivot', 'df_0_to_18_count_all', 'Not in FB', 'df_19_to_48_count_all']\n"
     ]
    },
    {
     "data": {
      "text/plain": [
       "10"
      ]
     },
     "execution_count": 2,
     "metadata": {},
     "output_type": "execute_result"
    }
   ],
   "source": [
    "list_missing_name=pd.ExcelFile(\"./piece_10_segs_missing_direct_to_FB/Big Lots Q1 Rewards Segmentation 1.29 Final - Not in FB .xlsx\")\n",
    "print(list_missing_name.sheet_names)\n",
    "\n",
    "list_missing_name=list_missing_name.parse(\"Not in FB\")\n",
    "list_missing_name=list_missing_name['segment'].unique().tolist()\n",
    "len(list_missing_name)"
   ]
  },
  {
   "cell_type": "code",
   "execution_count": 3,
   "metadata": {},
   "outputs": [
    {
     "name": "stdout",
     "output_type": "stream",
     "text": [
      "['/home/jian/Projects/Big_Lots/Live_Ramp/Quarterly_Update_2020Q1/final_segments_uploaded_LR_0_18/T_SOTF_Lapsed1318_L_P_Below50K_SingleFamily_CompetitorsHigh_FurinitureHigh_RFM20Q1.csv', '/home/jian/Projects/Big_Lots/Live_Ramp/Quarterly_Update_2020Q1/final_segments_uploaded_LR_0_18/T_SOTF_Lapsed1318_L_P_Below50K_SingleFamily_CompetitorsHigh_FurinitureLow_RFM20Q1.csv', '/home/jian/Projects/Big_Lots/Live_Ramp/Quarterly_Update_2020Q1/final_segments_uploaded_LR_0_18/T_SOTF_Lapsed1318_L_P_Below50K_SingleFamily_CompetitorsLow_FurinitureHigh_RFM20Q1.csv', '/home/jian/Projects/Big_Lots/Live_Ramp/Quarterly_Update_2020Q1/final_segments_uploaded_LR_0_18/T_SOTF_Lapsed1318_L_P_Below50K_SingleFamily_CompetitorsLow_FurinitureLow_RFM20Q1.csv', '/home/jian/Projects/Big_Lots/Live_Ramp/Quarterly_Update_2020Q1/final_segments_uploaded_LR_0_18/T_SOTF_Lapsed1318_L_S_Below50K_SingleFamily_CompetitorsHigh_FurinitureHigh_RFM20Q1.csv', '/home/jian/Projects/Big_Lots/Live_Ramp/Quarterly_Update_2020Q1/final_segments_uploaded_LR_0_18/T_SOTF_Lapsed1318_L_S_Below50K_SingleFamily_CompetitorsLow_FurinitureHigh_RFM20Q1.csv', '/home/jian/Projects/Big_Lots/Live_Ramp/Quarterly_Update_2020Q1/final_segments_uploaded_LR_0_18/T_SOTF_Lapsed1318_L_P_Below50K_MultiFamilyOrCondo_CompetitorsHigh_FurinitureHigh_RFM20Q1.csv', '/home/jian/Projects/Big_Lots/Live_Ramp/Quarterly_Update_2020Q1/final_segments_uploaded_LR_0_18/T_SOTF_Lapsed1318_L_P_Below50K_MultiFamilyOrCondo_CompetitorsHigh_FurinitureLow_RFM20Q1.csv', '/home/jian/Projects/Big_Lots/Live_Ramp/Quarterly_Update_2020Q1/final_segments_uploaded_LR_0_18/T_SOTF_Lapsed1318_L_P_Below50K_MultiFamilyOrCondo_CompetitorsLow_FurinitureHigh_RFM20Q1.csv', '/home/jian/Projects/Big_Lots/Live_Ramp/Quarterly_Update_2020Q1/final_segments_uploaded_LR_0_18/T_SOTF_Lapsed1318_L_S_Below50K_MultiFamilyOrCondo_CompetitorsHigh_FurinitureHigh_RFM20Q1.csv']\n"
     ]
    }
   ],
   "source": [
    "import glob\n",
    "\n",
    "list_all_files=glob.glob(\"/home/jian/Projects/Big_Lots/Live_Ramp/Quarterly_Update_2020Q1/final_segments_uploaded_LR_0_18/*.csv\")\n",
    "list_10_files=[]\n",
    "\n",
    "for name_patter in list_missing_name:\n",
    "    for file in list_all_files:\n",
    "        if name_patter in os.path.basename(file):\n",
    "            list_10_files.append(file)\n",
    "print(list_10_files)\n",
    "            "
   ]
  },
  {
   "cell_type": "code",
   "execution_count": 7,
   "metadata": {},
   "outputs": [
    {
     "name": "stdout",
     "output_type": "stream",
     "text": [
      "1 2020-01-31 11:20:52.463756\n",
      "2 2020-01-31 11:20:53.228903\n",
      "1 2020-01-31 11:20:54.684253\n",
      "1 2020-01-31 11:20:57.777137\n",
      "1 2020-01-31 11:20:59.065204\n",
      "1 2020-01-31 11:21:02.877552\n",
      "1 2020-01-31 11:21:04.948895\n",
      "1 2020-01-31 11:21:06.604030\n",
      "1 2020-01-31 11:21:07.948356\n",
      "1 2020-01-31 11:21:09.508947\n",
      "1 2020-01-31 11:21:11.189892\n"
     ]
    }
   ],
   "source": [
    "for local_file in list_10_files:\n",
    "    creatfbaudience(file_path=local_file,\n",
    "                    ACCESS_TOKEN=jian_token,\n",
    "                    accountid=BigLotsAccount_id,\n",
    "                    description=\"add the missing 10 files: \"+os.path.basename(local_file).split(\".\")[0],\n",
    "                    audience_name=os.path.basename(local_file).split(\".\")[0]\n",
    "                   )"
   ]
  },
  {
   "cell_type": "code",
   "execution_count": 8,
   "metadata": {},
   "outputs": [
    {
     "data": {
      "text/plain": [
       "['T_SOTF_Lapsed1318_L_P_Below50K_SingleFamily_CompetitorsHigh_FurinitureHigh_RFM20Q1.csv',\n",
       " 'T_SOTF_Lapsed1318_L_P_Below50K_SingleFamily_CompetitorsHigh_FurinitureLow_RFM20Q1.csv',\n",
       " 'T_SOTF_Lapsed1318_L_P_Below50K_SingleFamily_CompetitorsLow_FurinitureHigh_RFM20Q1.csv',\n",
       " 'T_SOTF_Lapsed1318_L_P_Below50K_SingleFamily_CompetitorsLow_FurinitureLow_RFM20Q1.csv',\n",
       " 'T_SOTF_Lapsed1318_L_S_Below50K_SingleFamily_CompetitorsHigh_FurinitureHigh_RFM20Q1.csv',\n",
       " 'T_SOTF_Lapsed1318_L_S_Below50K_SingleFamily_CompetitorsLow_FurinitureHigh_RFM20Q1.csv',\n",
       " 'T_SOTF_Lapsed1318_L_P_Below50K_MultiFamilyOrCondo_CompetitorsHigh_FurinitureHigh_RFM20Q1.csv',\n",
       " 'T_SOTF_Lapsed1318_L_P_Below50K_MultiFamilyOrCondo_CompetitorsHigh_FurinitureLow_RFM20Q1.csv',\n",
       " 'T_SOTF_Lapsed1318_L_P_Below50K_MultiFamilyOrCondo_CompetitorsLow_FurinitureHigh_RFM20Q1.csv',\n",
       " 'T_SOTF_Lapsed1318_L_S_Below50K_MultiFamilyOrCondo_CompetitorsHigh_FurinitureHigh_RFM20Q1.csv']"
      ]
     },
     "execution_count": 8,
     "metadata": {},
     "output_type": "execute_result"
    }
   ],
   "source": [
    "[os.path.basename(x) for x in list_10_files]"
   ]
  },
  {
   "cell_type": "code",
   "execution_count": null,
   "metadata": {},
   "outputs": [],
   "source": []
  }
 ],
 "metadata": {
  "kernelspec": {
   "display_name": "Python 3",
   "language": "python",
   "name": "python3"
  },
  "language_info": {
   "codemirror_mode": {
    "name": "ipython",
    "version": 3
   },
   "file_extension": ".py",
   "mimetype": "text/x-python",
   "name": "python",
   "nbconvert_exporter": "python",
   "pygments_lexer": "ipython3",
   "version": "3.6.1"
  }
 },
 "nbformat": 4,
 "nbformat_minor": 2
}
