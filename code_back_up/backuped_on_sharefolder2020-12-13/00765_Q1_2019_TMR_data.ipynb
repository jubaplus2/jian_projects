{
 "cells": [
  {
   "cell_type": "code",
   "execution_count": 1,
   "metadata": {},
   "outputs": [
    {
     "data": {
      "text/plain": [
       "'/home/jian/Projects/Big_Lots/TMR/TMR_data/Up_to_2019Q1'"
      ]
     },
     "execution_count": 1,
     "metadata": {},
     "output_type": "execute_result"
    }
   ],
   "source": [
    "import pandas as pd\n",
    "import numpy as np\n",
    "import os\n",
    "import datetime\n",
    "os.getcwd()\n",
    "\n",
    "# Note email cpm updated based on the Q4 client number\n",
    "# Flipp hosted not included in wide version"
   ]
  },
  {
   "cell_type": "code",
   "execution_count": 2,
   "metadata": {
    "collapsed": true
   },
   "outputs": [],
   "source": [
    "TMR_up_to_2018Q4=pd.read_csv(\"/home/jian/Projects/Big_Lots/TMR/TMR_data/Up_to_2018Q4/BL_MMM_long_JL_2019-04-30.csv\",dtype=str)\n",
    "TMR_up_to_2018Q4['impression']=TMR_up_to_2018Q4['impression'].astype(float).astype(int)\n",
    "TMR_up_to_2018Q4['click']=TMR_up_to_2018Q4['click'].astype(float).astype(int)\n",
    "TMR_up_to_2018Q4['cost']=TMR_up_to_2018Q4['cost'].astype(float)\n"
   ]
  },
  {
   "cell_type": "code",
   "execution_count": 3,
   "metadata": {},
   "outputs": [
    {
     "name": "stdout",
     "output_type": "stream",
     "text": [
      "2016-09-25\n",
      "2019-01-27\n"
     ]
    }
   ],
   "source": [
    "TMR_up_to_2018Q4_no_DMA=TMR_up_to_2018Q4.groupby([\"week date\",\"media\",\"submedia\",\"placement\"])['impression','click','cost'].sum().reset_index()\n",
    "print(TMR_up_to_2018Q4_no_DMA['week date'].min())\n",
    "print(TMR_up_to_2018Q4_no_DMA['week date'].max())\n",
    "# TMR_up_to_2018Q4_no_DMA"
   ]
  },
  {
   "cell_type": "markdown",
   "metadata": {},
   "source": [
    "# TV"
   ]
  },
  {
   "cell_type": "code",
   "execution_count": 4,
   "metadata": {
    "scrolled": true
   },
   "outputs": [
    {
     "name": "stdout",
     "output_type": "stream",
     "text": [
      "['Q1 2019 TMR Report 7.2']\n"
     ]
    },
    {
     "data": {
      "text/html": [
       "<div>\n",
       "<style>\n",
       "    .dataframe thead tr:only-child th {\n",
       "        text-align: right;\n",
       "    }\n",
       "\n",
       "    .dataframe thead th {\n",
       "        text-align: left;\n",
       "    }\n",
       "\n",
       "    .dataframe tbody tr th {\n",
       "        vertical-align: top;\n",
       "    }\n",
       "</style>\n",
       "<table border=\"1\" class=\"dataframe\">\n",
       "  <thead>\n",
       "    <tr style=\"text-align: right;\">\n",
       "      <th></th>\n",
       "      <th>Campaign</th>\n",
       "      <th>Status</th>\n",
       "      <th>Source</th>\n",
       "      <th>Market</th>\n",
       "      <th>Network</th>\n",
       "      <th>Media Type</th>\n",
       "      <th>Week Of</th>\n",
       "      <th>Demographic</th>\n",
       "      <th>Buy Rotation</th>\n",
       "      <th>Buy Time Period</th>\n",
       "      <th>...</th>\n",
       "      <th>Air ISCI</th>\n",
       "      <th>Cmml Title</th>\n",
       "      <th>Aired Prg Name</th>\n",
       "      <th>Est Ratings</th>\n",
       "      <th>Act Ratings</th>\n",
       "      <th>Act Impression</th>\n",
       "      <th>Rtg Source</th>\n",
       "      <th>Buy Count</th>\n",
       "      <th>Air Count</th>\n",
       "      <th>Air Detected Event</th>\n",
       "    </tr>\n",
       "  </thead>\n",
       "  <tbody>\n",
       "    <tr>\n",
       "      <th>0</th>\n",
       "      <td>Q1'19</td>\n",
       "      <td>Posted</td>\n",
       "      <td>Nielsen Keeping Trac</td>\n",
       "      <td>National</td>\n",
       "      <td>BET</td>\n",
       "      <td>Cable</td>\n",
       "      <td>2019-01-28 00:00:00</td>\n",
       "      <td>W25-54</td>\n",
       "      <td>YYYYYYY</td>\n",
       "      <td>12:00AM-03:00AM</td>\n",
       "      <td>...</td>\n",
       "      <td>LGTS1031000</td>\n",
       "      <td>3FEB/BL/PRESIDENTSDAY/KASAN/$1FI</td>\n",
       "      <td>MARTIN</td>\n",
       "      <td>0.2</td>\n",
       "      <td>0.14</td>\n",
       "      <td>87454</td>\n",
       "      <td>NHI/W_0203</td>\n",
       "      <td>1</td>\n",
       "      <td>1</td>\n",
       "      <td>2140130697</td>\n",
       "    </tr>\n",
       "    <tr>\n",
       "      <th>1</th>\n",
       "      <td>Q1'19</td>\n",
       "      <td>Posted</td>\n",
       "      <td>Nielsen Keeping Trac</td>\n",
       "      <td>National</td>\n",
       "      <td>BET</td>\n",
       "      <td>Cable</td>\n",
       "      <td>2019-01-28 00:00:00</td>\n",
       "      <td>HH</td>\n",
       "      <td>YYYYYYY</td>\n",
       "      <td>12:00AM-03:00AM</td>\n",
       "      <td>...</td>\n",
       "      <td>LGTS1031000</td>\n",
       "      <td>3FEB/BL/PRESIDENTSDAY/KASAN/$1FI</td>\n",
       "      <td>MARTIN</td>\n",
       "      <td>0</td>\n",
       "      <td>0.2</td>\n",
       "      <td>240288</td>\n",
       "      <td>NHI/W_0203</td>\n",
       "      <td>1</td>\n",
       "      <td>1</td>\n",
       "      <td>2140130697</td>\n",
       "    </tr>\n",
       "  </tbody>\n",
       "</table>\n",
       "<p>2 rows × 28 columns</p>\n",
       "</div>"
      ],
      "text/plain": [
       "  Campaign  Status                Source    Market Network Media Type  \\\n",
       "0    Q1'19  Posted  Nielsen Keeping Trac  National     BET      Cable   \n",
       "1    Q1'19  Posted  Nielsen Keeping Trac  National     BET      Cable   \n",
       "\n",
       "               Week Of Demographic Buy Rotation  Buy Time Period  \\\n",
       "0  2019-01-28 00:00:00      W25-54      YYYYYYY  12:00AM-03:00AM   \n",
       "1  2019-01-28 00:00:00          HH      YYYYYYY  12:00AM-03:00AM   \n",
       "\n",
       "         ...             Air ISCI                        Cmml Title  \\\n",
       "0        ...          LGTS1031000  3FEB/BL/PRESIDENTSDAY/KASAN/$1FI   \n",
       "1        ...          LGTS1031000  3FEB/BL/PRESIDENTSDAY/KASAN/$1FI   \n",
       "\n",
       "  Aired Prg Name Est Ratings Act Ratings Act Impression  Rtg Source Buy Count  \\\n",
       "0         MARTIN         0.2        0.14          87454  NHI/W_0203         1   \n",
       "1         MARTIN           0         0.2         240288  NHI/W_0203         1   \n",
       "\n",
       "  Air Count Air Detected Event  \n",
       "0         1         2140130697  \n",
       "1         1         2140130697  \n",
       "\n",
       "[2 rows x 28 columns]"
      ]
     },
     "execution_count": 4,
     "metadata": {},
     "output_type": "execute_result"
    }
   ],
   "source": [
    "TV_logs=pd.ExcelFile(\"/home/jian/Projects/Big_Lots/TMR/TMR_data/Up_to_2019Q1/input_2019Q1/Q1 2019 TMR Report 7.2_TV.xlsx\")\n",
    "print(TV_logs.sheet_names)\n",
    "TV_logs=TV_logs.parse(\"Q1 2019 TMR Report 7.2\",dtype=str,skiprows=1)\n",
    "TV_logs.head(2)"
   ]
  },
  {
   "cell_type": "code",
   "execution_count": 5,
   "metadata": {},
   "outputs": [
    {
     "name": "stdout",
     "output_type": "stream",
     "text": [
      "['W25-54' 'HH']\n",
      "['W25-54']\n"
     ]
    }
   ],
   "source": [
    "TV_logs=TV_logs[[\"Air Date\",\"Vendor Net\",'Act Impression','Demographic','Network']]\n",
    "print(TV_logs['Demographic'].unique())\n",
    "TV_logs=TV_logs[TV_logs['Demographic']==\"W25-54\"]\n",
    "TV_logs=TV_logs[TV_logs['Air Date']!=\"nan\"]\n",
    "print(TV_logs['Demographic'].unique())\n",
    "\n",
    "TV_logs['Vendor Net']=TV_logs['Vendor Net'].astype(float)\n",
    "TV_logs['Act Impression']=TV_logs['Act Impression'].astype(float)\n",
    "TV_logs['Act Impression']=TV_logs['Act Impression'].fillna(0).astype(int)\n",
    "TV_logs=TV_logs.rename(columns={\"Vendor Net\":\"cost\",\"Act Impression\":\"impression\"})\n",
    "\n",
    "TV_logs['date']=TV_logs['Air Date'].apply(lambda x: datetime.datetime.strptime(x,\"%Y-%m-%d %H:%M:%S\").date())\n",
    "TV_logs=TV_logs[(TV_logs['date']<=datetime.date(2019,5,4)) & (TV_logs['date']>=datetime.date(2019,2,4))]\n"
   ]
  },
  {
   "cell_type": "code",
   "execution_count": 6,
   "metadata": {},
   "outputs": [
    {
     "data": {
      "text/plain": [
       "2661712.0999999996"
      ]
     },
     "execution_count": 6,
     "metadata": {},
     "output_type": "execute_result"
    }
   ],
   "source": [
    "TV_logs['cost'].sum()"
   ]
  },
  {
   "cell_type": "code",
   "execution_count": 7,
   "metadata": {
    "collapsed": true
   },
   "outputs": [],
   "source": [
    "def get_week_end_date_BL(x):\n",
    "    if x.weekday()==6:\n",
    "        y=x+datetime.timedelta(days=6)\n",
    "    else:\n",
    "        y=x+datetime.timedelta(days=5-x.weekday())\n",
    "    return y"
   ]
  },
  {
   "cell_type": "code",
   "execution_count": 8,
   "metadata": {
    "collapsed": true
   },
   "outputs": [],
   "source": [
    "TV_logs['week_end_dt']=TV_logs['date'].apply(lambda x: get_week_end_date_BL(x))\n",
    "TV_logs['week date']=TV_logs['week_end_dt'].apply(lambda x: x-datetime.timedelta(days=6))\n",
    "TV_TMR_data=TV_logs.groupby(['week date','Network'])[['cost','impression']].sum().reset_index()\n",
    "TV_TMR_data=TV_TMR_data.rename(columns={\"Network\":\"placement\"})\n",
    "TV_TMR_data['media']=\"TV\"\n",
    "TV_TMR_data['submedia']=\"National\"\n",
    "TV_TMR_data['click']=0\n",
    "TV_TMR_data=TV_TMR_data[TMR_up_to_2018Q4_no_DMA.columns.tolist()]\n",
    "TV_TMR_data['week date']=TV_TMR_data['week date'].astype(str)"
   ]
  },
  {
   "cell_type": "code",
   "execution_count": 9,
   "metadata": {},
   "outputs": [
    {
     "name": "stdout",
     "output_type": "stream",
     "text": [
      "2019-02-03\n",
      "2019-04-07\n"
     ]
    }
   ],
   "source": [
    "print(TV_TMR_data['week date'].min())\n",
    "print(TV_TMR_data['week date'].max())"
   ]
  },
  {
   "cell_type": "code",
   "execution_count": 10,
   "metadata": {},
   "outputs": [
    {
     "data": {
      "text/html": [
       "<div>\n",
       "<style>\n",
       "    .dataframe thead tr:only-child th {\n",
       "        text-align: right;\n",
       "    }\n",
       "\n",
       "    .dataframe thead th {\n",
       "        text-align: left;\n",
       "    }\n",
       "\n",
       "    .dataframe tbody tr th {\n",
       "        vertical-align: top;\n",
       "    }\n",
       "</style>\n",
       "<table border=\"1\" class=\"dataframe\">\n",
       "  <thead>\n",
       "    <tr style=\"text-align: right;\">\n",
       "      <th></th>\n",
       "      <th>week date</th>\n",
       "      <th>media</th>\n",
       "      <th>submedia</th>\n",
       "      <th>placement</th>\n",
       "      <th>impression</th>\n",
       "      <th>click</th>\n",
       "      <th>cost</th>\n",
       "    </tr>\n",
       "  </thead>\n",
       "  <tbody>\n",
       "    <tr>\n",
       "      <th>0</th>\n",
       "      <td>2019-02-03</td>\n",
       "      <td>TV</td>\n",
       "      <td>National</td>\n",
       "      <td>BET</td>\n",
       "      <td>6179321</td>\n",
       "      <td>0</td>\n",
       "      <td>52523.2</td>\n",
       "    </tr>\n",
       "    <tr>\n",
       "      <th>1</th>\n",
       "      <td>2019-02-03</td>\n",
       "      <td>TV</td>\n",
       "      <td>National</td>\n",
       "      <td>BRAV</td>\n",
       "      <td>481937</td>\n",
       "      <td>0</td>\n",
       "      <td>4666.5</td>\n",
       "    </tr>\n",
       "  </tbody>\n",
       "</table>\n",
       "</div>"
      ],
      "text/plain": [
       "    week date media  submedia placement  impression  click     cost\n",
       "0  2019-02-03    TV  National       BET     6179321      0  52523.2\n",
       "1  2019-02-03    TV  National      BRAV      481937      0   4666.5"
      ]
     },
     "execution_count": 10,
     "metadata": {},
     "output_type": "execute_result"
    }
   ],
   "source": [
    "TV_TMR_data.head(2)"
   ]
  },
  {
   "cell_type": "markdown",
   "metadata": {},
   "source": [
    "# Others"
   ]
  },
  {
   "cell_type": "code",
   "execution_count": 11,
   "metadata": {
    "collapsed": true
   },
   "outputs": [],
   "source": [
    "Others_TMR_week=pd.read_excel(\"/home/jian/Projects/Big_Lots/TMR/TMR_data/Up_to_2019Q1/input_2019Q1/DatoramaData_2019Q1_0621.xlsx\",\n",
    "                              dtype=str,sheetname=\"BL_TMR_2019Q1\")\n",
    "Others_TMR_week=Others_TMR_week.rename(columns={\"Week\":\"week date\",\"Media\":\"media\",\"Submedia\":\"submedia\",\"Placement\":\"placement\",\n",
    "                                               \"Impressions\":\"impression\",\"Clicks\":\"click\",\"Media Cost\":\"cost\"})\n",
    "Others_TMR_week['week date']=Others_TMR_week['week date'].apply(lambda x: x[:10])\n",
    "Others_TMR_week['impression']=Others_TMR_week['impression'].replace(\"nan\",0).astype(float).astype(int)\n",
    "Others_TMR_week['click']=Others_TMR_week['click'].replace(\"nan\",0).astype(float).astype(int)\n",
    "Others_TMR_week['cost']=Others_TMR_week['cost'].replace(\"nan\",0).astype(float)\n"
   ]
  },
  {
   "cell_type": "markdown",
   "metadata": {},
   "source": [
    "### Revise Emails"
   ]
  },
  {
   "cell_type": "code",
   "execution_count": 12,
   "metadata": {},
   "outputs": [
    {
     "data": {
      "text/plain": [
       "(2075001231, 945753.43701974314)"
      ]
     },
     "execution_count": 12,
     "metadata": {},
     "output_type": "execute_result"
    }
   ],
   "source": [
    "Others_TMR_week_1=Others_TMR_week[Others_TMR_week['media']!=\"Email\"]\n",
    "Others_TMR_week_2=Others_TMR_week[Others_TMR_week['media']==\"Email\"]\n",
    "Others_TMR_week_2['impression'].sum(),Others_TMR_week_2['cost'].sum()"
   ]
  },
  {
   "cell_type": "code",
   "execution_count": 13,
   "metadata": {},
   "outputs": [
    {
     "name": "stdout",
     "output_type": "stream",
     "text": [
      "0.00023818259389773427\n",
      "0.23818259389773427\n"
     ]
    },
    {
     "name": "stderr",
     "output_type": "stream",
     "text": [
      "/usr/local/lib/python3.6/site-packages/ipykernel_launcher.py:7: SettingWithCopyWarning: \n",
      "A value is trying to be set on a copy of a slice from a DataFrame.\n",
      "Try using .loc[row_indexer,col_indexer] = value instead\n",
      "\n",
      "See the caveats in the documentation: http://pandas.pydata.org/pandas-docs/stable/indexing.html#indexing-view-versus-copy\n",
      "  import sys\n"
     ]
    }
   ],
   "source": [
    "# Based on the 2019Q1 number\n",
    "# Email from Kipp, Bryan 2019 July 19, Friday 5:17 p.m.\n",
    "email_cost_client=494229\n",
    "email_cost_impression=2075000494\n",
    "new_email_c_p_impr=email_cost_client/email_cost_impression\n",
    "print(new_email_c_p_impr)\n",
    "Others_TMR_week_2['cost']=Others_TMR_week_2['impression']*new_email_c_p_impr\n",
    "print(new_email_c_p_impr*1000)"
   ]
  },
  {
   "cell_type": "code",
   "execution_count": 14,
   "metadata": {},
   "outputs": [
    {
     "name": "stdout",
     "output_type": "stream",
     "text": [
      "2019-02-03\n",
      "2019-04-28\n"
     ]
    }
   ],
   "source": [
    "print(Others_TMR_week_2['week date'].min())\n",
    "print(Others_TMR_week_2['week date'].max())\n",
    "\n",
    "Others_TMR_week=Others_TMR_week_1.append(Others_TMR_week_2)"
   ]
  },
  {
   "cell_type": "markdown",
   "metadata": {},
   "source": [
    "### Revise Flipp"
   ]
  },
  {
   "cell_type": "code",
   "execution_count": 15,
   "metadata": {},
   "outputs": [
    {
     "data": {
      "text/html": [
       "<div>\n",
       "<style>\n",
       "    .dataframe thead tr:only-child th {\n",
       "        text-align: right;\n",
       "    }\n",
       "\n",
       "    .dataframe thead th {\n",
       "        text-align: left;\n",
       "    }\n",
       "\n",
       "    .dataframe tbody tr th {\n",
       "        vertical-align: top;\n",
       "    }\n",
       "</style>\n",
       "<table border=\"1\" class=\"dataframe\">\n",
       "  <thead>\n",
       "    <tr style=\"text-align: right;\">\n",
       "      <th></th>\n",
       "      <th>week date</th>\n",
       "      <th>media</th>\n",
       "      <th>submedia</th>\n",
       "      <th>placement</th>\n",
       "      <th>impression</th>\n",
       "      <th>click</th>\n",
       "      <th>cost</th>\n",
       "    </tr>\n",
       "  </thead>\n",
       "  <tbody>\n",
       "    <tr>\n",
       "      <th>0</th>\n",
       "      <td>2019-02-03</td>\n",
       "      <td>Digital</td>\n",
       "      <td>PLA</td>\n",
       "      <td>Google</td>\n",
       "      <td>9732670</td>\n",
       "      <td>129070</td>\n",
       "      <td>21800.330000</td>\n",
       "    </tr>\n",
       "    <tr>\n",
       "      <th>1</th>\n",
       "      <td>2019-02-03</td>\n",
       "      <td>Digital</td>\n",
       "      <td>SEM</td>\n",
       "      <td>Google</td>\n",
       "      <td>1791113</td>\n",
       "      <td>314094</td>\n",
       "      <td>125972.806194</td>\n",
       "    </tr>\n",
       "  </tbody>\n",
       "</table>\n",
       "</div>"
      ],
      "text/plain": [
       "    week date    media submedia placement  impression   click           cost\n",
       "0  2019-02-03  Digital      PLA    Google     9732670  129070   21800.330000\n",
       "1  2019-02-03  Digital      SEM    Google     1791113  314094  125972.806194"
      ]
     },
     "execution_count": 15,
     "metadata": {},
     "output_type": "execute_result"
    }
   ],
   "source": [
    "Others_TMR_week.head(2)"
   ]
  },
  {
   "cell_type": "code",
   "execution_count": 16,
   "metadata": {},
   "outputs": [
    {
     "name": "stderr",
     "output_type": "stream",
     "text": [
      "/usr/local/lib/python3.6/site-packages/ipykernel_launcher.py:4: SettingWithCopyWarning: \n",
      "A value is trying to be set on a copy of a slice from a DataFrame.\n",
      "Try using .loc[row_indexer,col_indexer] = value instead\n",
      "\n",
      "See the caveats in the documentation: http://pandas.pydata.org/pandas-docs/stable/indexing.html#indexing-view-versus-copy\n",
      "  after removing the cwd from sys.path.\n",
      "/usr/local/lib/python3.6/site-packages/ipykernel_launcher.py:5: SettingWithCopyWarning: \n",
      "A value is trying to be set on a copy of a slice from a DataFrame.\n",
      "Try using .loc[row_indexer,col_indexer] = value instead\n",
      "\n",
      "See the caveats in the documentation: http://pandas.pydata.org/pandas-docs/stable/indexing.html#indexing-view-versus-copy\n",
      "  \"\"\"\n",
      "/usr/local/lib/python3.6/site-packages/ipykernel_launcher.py:6: SettingWithCopyWarning: \n",
      "A value is trying to be set on a copy of a slice from a DataFrame.\n",
      "Try using .loc[row_indexer,col_indexer] = value instead\n",
      "\n",
      "See the caveats in the documentation: http://pandas.pydata.org/pandas-docs/stable/indexing.html#indexing-view-versus-copy\n",
      "  \n"
     ]
    }
   ],
   "source": [
    "# Remove the hosted for 2019Q1 and append the update file later\n",
    "Others_TMR_week_1_nonHosted=Others_TMR_week[Others_TMR_week['placement']!=\"Hosted\"]\n",
    "\n",
    "Others_TMR_week_1_nonHosted['impression']=Others_TMR_week_1_nonHosted['impression'].astype(int)\n",
    "Others_TMR_week_1_nonHosted['click']=Others_TMR_week_1_nonHosted['click'].astype(int)\n",
    "Others_TMR_week_1_nonHosted['cost']=Others_TMR_week_1_nonHosted['cost'].astype(float)\n"
   ]
  },
  {
   "cell_type": "code",
   "execution_count": 17,
   "metadata": {},
   "outputs": [
    {
     "name": "stdout",
     "output_type": "stream",
     "text": [
      "week date [<class 'str'>]\n",
      "media [<class 'str'>]\n",
      "submedia [<class 'str'>]\n",
      "placement [<class 'str'>]\n",
      "impression [<class 'int'>]\n",
      "click [<class 'int'>]\n",
      "cost [<class 'float'>]\n"
     ]
    }
   ],
   "source": [
    "for col in Others_TMR_week_1_nonHosted.columns.tolist():\n",
    "    print(col,Others_TMR_week_1_nonHosted[col].apply(lambda x: type(x)).unique())"
   ]
  },
  {
   "cell_type": "code",
   "execution_count": 18,
   "metadata": {
    "collapsed": true
   },
   "outputs": [],
   "source": [
    "revised_Hosted_19Q1=pd.read_excel(\"/home/jian/Projects/Big_Lots/TMR/TMR_data/Up_to_2019Q1/input_2019Q1/revised_circ_2_rows_removed_in_raw.xlsx\",dtype=str)\n",
    "revised_Hosted_19Q1=revised_Hosted_19Q1.rename(columns={\"Week\":\"week date\",\"Media\":\"media\",\"Submedia\":\"submedia\",\"Placement\":\"placement\",\n",
    "                                               \"Impressions\":\"impression\",\"Clicks\":\"click\",\"Media Cost\":\"cost\"})\n",
    "revised_Hosted_19Q1['impression']=revised_Hosted_19Q1['impression'].astype(int)\n",
    "revised_Hosted_19Q1['click']=revised_Hosted_19Q1['click'].astype(int)\n",
    "revised_Hosted_19Q1['cost']=revised_Hosted_19Q1['cost'].astype(float)\n",
    "revised_Hosted_19Q1['submedia']=\"Flipp\"\n",
    "revised_Hosted_19Q1['week date']=revised_Hosted_19Q1['week date'].apply(lambda x: x.split(\"-\")[0][:-1])\n",
    "revised_Hosted_19Q1['week date']=revised_Hosted_19Q1['week date'].apply(lambda x: datetime.datetime.strptime(x,\"%d %b %Y\"))\n",
    "revised_Hosted_19Q1['week date']=revised_Hosted_19Q1['week date'].astype(str)\n",
    "\n",
    "revised_Hosted_19Q1=revised_Hosted_19Q1[Others_TMR_week_1_nonHosted.columns.tolist()]"
   ]
  },
  {
   "cell_type": "code",
   "execution_count": 19,
   "metadata": {
    "collapsed": true
   },
   "outputs": [],
   "source": [
    "Others_TMR_week=Others_TMR_week_1_nonHosted.append(revised_Hosted_19Q1)"
   ]
  },
  {
   "cell_type": "markdown",
   "metadata": {},
   "source": [
    "### Revise Circ"
   ]
  },
  {
   "cell_type": "code",
   "execution_count": 20,
   "metadata": {},
   "outputs": [
    {
     "name": "stdout",
     "output_type": "stream",
     "text": [
      "['Sunday']\n"
     ]
    }
   ],
   "source": [
    "# Not finished yet\n",
    "updated_circ_2019Q1_Kayla=pd.read_excel(\"/home/jian/Projects/Big_Lots/TMR/TMR_data/Up_to_2019Q1/input_2019Q1/BL_circ_variance_JL_20190910.xlsx\",\n",
    "                                        dtype=str,skiprows=1)\n",
    "updated_circ_2019Q1_Kayla['AD Date']=updated_circ_2019Q1_Kayla['AD Date'].apply(lambda x: x.split(\" \")[0])\n",
    "updated_circ_2019Q1_Kayla=updated_circ_2019Q1_Kayla.iloc[:,0:3]\n",
    "\n",
    "print(pd.to_datetime(updated_circ_2019Q1_Kayla['AD Date'],format=\"%Y-%m-%d\").dt.weekday_name.unique())\n",
    "updated_circ_2019Q1_Kayla=updated_circ_2019Q1_Kayla.rename(columns={\"AD Date\":\"week date\",\"Quantity\":\"impression\",\"Cost\":\"cost\"})\n",
    "updated_circ_2019Q1_Kayla['click']=0\n",
    "updated_circ_2019Q1_Kayla['media']=\"Circulation\"\n",
    "updated_circ_2019Q1_Kayla['submedia']=\"xx\"\n",
    "updated_circ_2019Q1_Kayla['placement']=\"xx\"\n",
    "updated_circ_2019Q1_Kayla['impression']=updated_circ_2019Q1_Kayla['impression'].astype(int)\n",
    "updated_circ_2019Q1_Kayla['cost']=updated_circ_2019Q1_Kayla['cost'].astype(int)\n",
    "\n",
    "updated_circ_2019Q1_Kayla=updated_circ_2019Q1_Kayla[Others_TMR_week.columns.tolist()]\n"
   ]
  },
  {
   "cell_type": "code",
   "execution_count": 21,
   "metadata": {
    "collapsed": true
   },
   "outputs": [],
   "source": [
    "Others_TMR_week=Others_TMR_week[Others_TMR_week['media']!=\"Circulation\"]\n",
    "Others_TMR_week=Others_TMR_week.append(updated_circ_2019Q1_Kayla)"
   ]
  },
  {
   "cell_type": "code",
   "execution_count": 22,
   "metadata": {},
   "outputs": [
    {
     "name": "stdout",
     "output_type": "stream",
     "text": [
      "week date [<class 'str'>]\n",
      "media [<class 'str'>]\n",
      "submedia [<class 'str'>]\n",
      "placement [<class 'str'>]\n",
      "impression [<class 'int'>]\n",
      "click [<class 'int'>]\n",
      "cost [<class 'float'>]\n"
     ]
    }
   ],
   "source": [
    "for col in Others_TMR_week.columns.tolist():\n",
    "    print(col,Others_TMR_week[col].apply(type).unique())"
   ]
  },
  {
   "cell_type": "markdown",
   "metadata": {},
   "source": [
    "# Cumulative Q1 TMR"
   ]
  },
  {
   "cell_type": "code",
   "execution_count": 23,
   "metadata": {
    "collapsed": true
   },
   "outputs": [],
   "source": [
    "Q1_2019_only_TMR=Others_TMR_week.append(TV_TMR_data)\n",
    "\n",
    "Cum_Q1_2019_TMR=TMR_up_to_2018Q4.append(Q1_2019_only_TMR)"
   ]
  },
  {
   "cell_type": "code",
   "execution_count": 24,
   "metadata": {
    "collapsed": true
   },
   "outputs": [],
   "source": [
    "Q1_2019_only_TMR.to_csv(\"/home/jian/Projects/Big_Lots/TMR/TMR_data/Up_to_2019Q1/output/BL_MMM_2019Q1_Only_JL_\"+str(datetime.datetime.now().date())+\".csv\",index=False)\n",
    "Cum_Q1_2019_TMR.to_csv(\"/home/jian/Projects/Big_Lots/TMR/TMR_data/Up_to_2019Q1/output/BL_MMM_long_cumu_up_to_2019Q1_JL_\"+str(datetime.datetime.now().date())+\".csv\",index=False)\n",
    "\n"
   ]
  },
  {
   "cell_type": "code",
   "execution_count": 25,
   "metadata": {},
   "outputs": [
    {
     "data": {
      "text/plain": [
       "array(['FSI+Instore', 'Valassis', 'xx'], dtype=object)"
      ]
     },
     "execution_count": 25,
     "metadata": {},
     "output_type": "execute_result"
    }
   ],
   "source": [
    "Cum_Q1_2019_TMR[Cum_Q1_2019_TMR['media']==\"Circulation\"]['submedia'].unique()"
   ]
  },
  {
   "cell_type": "code",
   "execution_count": 26,
   "metadata": {},
   "outputs": [
    {
     "data": {
      "text/html": [
       "<div>\n",
       "<style>\n",
       "    .dataframe thead tr:only-child th {\n",
       "        text-align: right;\n",
       "    }\n",
       "\n",
       "    .dataframe thead th {\n",
       "        text-align: left;\n",
       "    }\n",
       "\n",
       "    .dataframe tbody tr th {\n",
       "        vertical-align: top;\n",
       "    }\n",
       "</style>\n",
       "<table border=\"1\" class=\"dataframe\">\n",
       "  <thead>\n",
       "    <tr style=\"text-align: right;\">\n",
       "      <th></th>\n",
       "      <th>cleaned dma</th>\n",
       "      <th>click</th>\n",
       "      <th>cost</th>\n",
       "      <th>impression</th>\n",
       "      <th>media</th>\n",
       "      <th>placement</th>\n",
       "      <th>submedia</th>\n",
       "      <th>week date</th>\n",
       "    </tr>\n",
       "  </thead>\n",
       "  <tbody>\n",
       "    <tr>\n",
       "      <th>0</th>\n",
       "      <td>Los Angeles, CA</td>\n",
       "      <td>6687</td>\n",
       "      <td>309.818159</td>\n",
       "      <td>679747</td>\n",
       "      <td>Email</td>\n",
       "      <td>xx</td>\n",
       "      <td>xx</td>\n",
       "      <td>2016-09-25</td>\n",
       "    </tr>\n",
       "    <tr>\n",
       "      <th>1</th>\n",
       "      <td>Dallas-Ft. Worth, TX</td>\n",
       "      <td>3185</td>\n",
       "      <td>147.561605</td>\n",
       "      <td>323753</td>\n",
       "      <td>Email</td>\n",
       "      <td>xx</td>\n",
       "      <td>xx</td>\n",
       "      <td>2016-09-25</td>\n",
       "    </tr>\n",
       "  </tbody>\n",
       "</table>\n",
       "</div>"
      ],
      "text/plain": [
       "            cleaned dma  click        cost  impression  media placement  \\\n",
       "0       Los Angeles, CA   6687  309.818159      679747  Email        xx   \n",
       "1  Dallas-Ft. Worth, TX   3185  147.561605      323753  Email        xx   \n",
       "\n",
       "  submedia   week date  \n",
       "0       xx  2016-09-25  \n",
       "1       xx  2016-09-25  "
      ]
     },
     "execution_count": 26,
     "metadata": {},
     "output_type": "execute_result"
    }
   ],
   "source": [
    "Cum_Q1_2019_TMR.head(2)"
   ]
  },
  {
   "cell_type": "markdown",
   "metadata": {
    "collapsed": true
   },
   "source": [
    "# Wide"
   ]
  },
  {
   "cell_type": "code",
   "execution_count": 27,
   "metadata": {},
   "outputs": [
    {
     "name": "stderr",
     "output_type": "stream",
     "text": [
      "/usr/local/lib/python3.6/site-packages/ipykernel_launcher.py:3: SettingWithCopyWarning: \n",
      "A value is trying to be set on a copy of a slice from a DataFrame.\n",
      "Try using .loc[row_indexer,col_indexer] = value instead\n",
      "\n",
      "See the caveats in the documentation: http://pandas.pydata.org/pandas-docs/stable/indexing.html#indexing-view-versus-copy\n",
      "  This is separate from the ipykernel package so we can avoid doing imports until\n",
      "/usr/local/lib/python3.6/site-packages/ipykernel_launcher.py:6: SettingWithCopyWarning: \n",
      "A value is trying to be set on a copy of a slice from a DataFrame.\n",
      "Try using .loc[row_indexer,col_indexer] = value instead\n",
      "\n",
      "See the caveats in the documentation: http://pandas.pydata.org/pandas-docs/stable/indexing.html#indexing-view-versus-copy\n",
      "  \n"
     ]
    }
   ],
   "source": [
    "# seperate the hosted flipp\n",
    "Cum_Q1_2019_TMR_FlippHost=Cum_Q1_2019_TMR[(Cum_Q1_2019_TMR['submedia']==\"Flipp\") & (Cum_Q1_2019_TMR['placement']==\"Hosted\")]\n",
    "Cum_Q1_2019_TMR_FlippHost['submedia']=\"Flipp(hosted)\"\n",
    "\n",
    "Cum_Q1_2019_TMR_FlippNonHost=Cum_Q1_2019_TMR[(Cum_Q1_2019_TMR['submedia']==\"Flipp\") & (Cum_Q1_2019_TMR['placement']!=\"Hosted\")]\n",
    "Cum_Q1_2019_TMR_FlippNonHost['submedia']=\"Flipp(nonhosted)\"\n",
    "\n",
    "\n",
    "Cum_Q1_2019_TMR=Cum_Q1_2019_TMR[(Cum_Q1_2019_TMR['submedia']!=\"Flipp\")]\n",
    "Cum_Q1_2019_TMR['submedia']=np.where(Cum_Q1_2019_TMR['media']==\"Circulation\",\"xx\",Cum_Q1_2019_TMR['submedia'])\n",
    "\n",
    "\n",
    "Cum_Q1_2019_TMR=Cum_Q1_2019_TMR.append(Cum_Q1_2019_TMR_FlippHost).append(Cum_Q1_2019_TMR_FlippNonHost)\n",
    "\n",
    "\n",
    "########################\n",
    "\n",
    "data_media_national=Cum_Q1_2019_TMR.groupby(['week date','media'])['impression','click','cost'].sum().reset_index()\n",
    "data_submedia_national=Cum_Q1_2019_TMR.groupby(['week date','media','submedia'])['impression','click','cost'].sum().reset_index()\n",
    "data_submedia_national['media_submedia']=data_submedia_national['media']+\"-\"+data_submedia_national['submedia']\n",
    "data_submedia_national=data_submedia_national[['week date','media_submedia','impression','click','cost']]\n",
    "\n",
    "\n",
    "data_media_national_wide=data_media_national[['week date']].drop_duplicates()\n",
    "for col in data_media_national.columns.tolist()[-3:]:\n",
    "    df=data_media_national[['week date','media']+[col]].pivot(index='week date',columns='media',values=col).reset_index()\n",
    "    df_new_col_list=df.columns.tolist()\n",
    "    df_new_col_list.remove('week date')\n",
    "    df_new_col_dict={}\n",
    "    for new_col in df_new_col_list:\n",
    "        df_new_col_dict.update({new_col:new_col+\"_\"+col})\n",
    "    df=df.rename(columns=df_new_col_dict)\n",
    "    data_media_national_wide=pd.merge(data_media_national_wide,df,on='week date',how=\"outer\")\n",
    "data_media_national_wide=data_media_national_wide.fillna(0)\n",
    "data_media_national_wide=data_media_national_wide.drop_duplicates()\n",
    "#############\n",
    "\n",
    "data_submedia_national_wide=data_submedia_national[['week date']].drop_duplicates()\n",
    "for col in data_submedia_national.columns.tolist()[-3:]:\n",
    "    df=data_submedia_national[['week date','media_submedia']+[col]].pivot(index='week date',columns='media_submedia',values=col).reset_index()\n",
    "    df_new_col_list=df.columns.tolist()\n",
    "    df_new_col_list.remove('week date')\n",
    "    df_new_col_dict={}\n",
    "    for new_col in df_new_col_list:\n",
    "        df_new_col_dict.update({new_col:new_col+\"_\"+col})\n",
    "    df=df.rename(columns=df_new_col_dict)\n",
    "    data_submedia_national_wide=pd.merge(data_submedia_national_wide,df,on='week date',how=\"outer\")\n",
    "data_submedia_national_wide=data_submedia_national_wide.fillna(0)\n",
    "data_submedia_national_wide=data_submedia_national_wide.drop_duplicates()\n"
   ]
  },
  {
   "cell_type": "code",
   "execution_count": 28,
   "metadata": {},
   "outputs": [
    {
     "data": {
      "text/plain": [
       "array([<class 'int'>], dtype=object)"
      ]
     },
     "execution_count": 28,
     "metadata": {},
     "output_type": "execute_result"
    }
   ],
   "source": [
    "Cum_Q1_2019_TMR['click'].apply(lambda x: type(x)).unique()"
   ]
  },
  {
   "cell_type": "code",
   "execution_count": 29,
   "metadata": {
    "collapsed": true
   },
   "outputs": [],
   "source": [
    "including_weeks=[str(datetime.date(2019,5,4)-datetime.timedelta(days=7*x+6)) for x in range(104)]\n",
    "\n",
    "\n",
    "data_media_national_wide=data_media_national_wide.sort_values(\"week date\")\n",
    "data_media_national_wide=data_media_national_wide[data_media_national_wide['week date'].isin(including_weeks)]\n",
    "\n",
    "data_submedia_national_wide=data_submedia_national_wide.sort_values(\"week date\")\n",
    "data_submedia_national_wide=data_submedia_national_wide[data_submedia_national_wide['week date'].isin(including_weeks)]\n",
    "\n"
   ]
  },
  {
   "cell_type": "markdown",
   "metadata": {},
   "source": [
    "## Sales"
   ]
  },
  {
   "cell_type": "code",
   "execution_count": 36,
   "metadata": {
    "collapsed": true
   },
   "outputs": [],
   "source": [
    "sales_data=pd.read_csv(\"/home/jian/BiglotsCode/outputs/combined_sales_long_2019-07-13.csv\",dtype=str)\n",
    "sales_data=sales_data[sales_data['week_end_date']<=\"2019-05-04\"]\n",
    "sales_data['week_end_date']=sales_data['week_end_date'].apply(lambda x: datetime.datetime.strptime(x,\"%Y-%m-%d\").date())\n",
    "sales_data['sales']=sales_data['sales'].astype(float)\n",
    "sales_data['transactions']=sales_data['transactions'].astype(float)\n",
    "sales_data['week date']=sales_data['week_end_date'].apply(lambda x: x-datetime.timedelta(days=6))\n",
    "sales_data_naitonal=sales_data.groupby(['week date'])['sales','transactions'].sum().reset_index()\n",
    "sales_data_naitonal=sales_data_naitonal.set_index(['week date'])\n",
    "sales_data_naitonal.at[datetime.date(2017,4,30),'transactions']=(sales_data_naitonal.at[datetime.date(2017,4,23),'transactions']+sales_data_naitonal.at[datetime.date(2017,5,7),'transactions'])/2\n",
    "sales_data_naitonal=sales_data_naitonal.reset_index()\n",
    "sales_data_store_counts=sales_data[sales_data['sales']>0]\n",
    "sales_data_store_counts=sales_data_store_counts.groupby(['week date'])['location_id'].count().to_frame().reset_index().rename(columns={\"location_id\":\"store_counts\"})\n",
    "\n",
    "sales_data_naitonal=pd.merge(sales_data_naitonal,sales_data_store_counts,on=\"week date\",how=\"outer\")\n",
    "sales_data_naitonal['week date']=sales_data_naitonal['week date'].astype(str)"
   ]
  },
  {
   "cell_type": "code",
   "execution_count": 37,
   "metadata": {
    "collapsed": true
   },
   "outputs": [],
   "source": [
    "data_media_national_wide=pd.merge(data_media_national_wide,sales_data_naitonal,on=\"week date\",how=\"left\")\n",
    "data_submedia_national_wide=pd.merge(data_submedia_national_wide,sales_data_naitonal,on=\"week date\",how=\"left\")"
   ]
  },
  {
   "cell_type": "markdown",
   "metadata": {},
   "source": [
    "## Promotion"
   ]
  },
  {
   "cell_type": "code",
   "execution_count": 38,
   "metadata": {},
   "outputs": [
    {
     "name": "stderr",
     "output_type": "stream",
     "text": [
      "/usr/local/lib/python3.6/site-packages/ipykernel_launcher.py:20: SettingWithCopyWarning: \n",
      "A value is trying to be set on a copy of a slice from a DataFrame.\n",
      "Try using .loc[row_indexer,col_indexer] = value instead\n",
      "\n",
      "See the caveats in the documentation: http://pandas.pydata.org/pandas-docs/stable/indexing.html#indexing-view-versus-copy\n",
      "/usr/local/lib/python3.6/site-packages/ipykernel_launcher.py:22: SettingWithCopyWarning: \n",
      "A value is trying to be set on a copy of a slice from a DataFrame.\n",
      "Try using .loc[row_indexer,col_indexer] = value instead\n",
      "\n",
      "See the caveats in the documentation: http://pandas.pydata.org/pandas-docs/stable/indexing.html#indexing-view-versus-copy\n",
      "/usr/local/lib/python3.6/site-packages/ipykernel_launcher.py:26: SettingWithCopyWarning: \n",
      "A value is trying to be set on a copy of a slice from a DataFrame.\n",
      "Try using .loc[row_indexer,col_indexer] = value instead\n",
      "\n",
      "See the caveats in the documentation: http://pandas.pydata.org/pandas-docs/stable/indexing.html#indexing-view-versus-copy\n",
      "/usr/local/lib/python3.6/site-packages/ipykernel_launcher.py:28: SettingWithCopyWarning: \n",
      "A value is trying to be set on a copy of a slice from a DataFrame.\n",
      "Try using .loc[row_indexer,col_indexer] = value instead\n",
      "\n",
      "See the caveats in the documentation: http://pandas.pydata.org/pandas-docs/stable/indexing.html#indexing-view-versus-copy\n"
     ]
    }
   ],
   "source": [
    "Rewards_Promotion_list=[datetime.date(2016,10,1),datetime.date(2016,10,2),\n",
    "                        datetime.date(2017,1,21),datetime.date(2017,1,22),\n",
    "                        datetime.date(2017,4,1),datetime.date(2017,4,2),\n",
    "                        datetime.date(2017,7,8),datetime.date(2017,7,9),\n",
    "                        datetime.date(2017,9,30),datetime.date(2017,10,1),\n",
    "                        datetime.date(2018,1,20),datetime.date(2018,1,21),\n",
    "                        datetime.date(2018,4,7),datetime.date(2018,4,8),\n",
    "                        datetime.date(2018,7,7),datetime.date(2018,7,8),\n",
    "                        datetime.date(2018,9,29),datetime.date(2018,9,30),\n",
    "                        datetime.date(2019,1,26),datetime.date(2019,1,27),  # Changed here\n",
    "                        datetime.date(2019,4,6),datetime.date(2019,4,7)]\n",
    "\n",
    "df_Rewards_Promotion=pd.DataFrame({\"Date\":Rewards_Promotion_list},index=range(len(Rewards_Promotion_list)))\n",
    "df_Rewards_Promotion['weekday']=df_Rewards_Promotion['Date'].apply(lambda x: x.weekday())\n",
    "df_Rewards_Promotion['week date']=np.where(df_Rewards_Promotion['weekday']==6,df_Rewards_Promotion['Date'],df_Rewards_Promotion['Date']-datetime.timedelta(days=6))\n",
    "\n",
    "del df_Rewards_Promotion['Date']\n",
    "\n",
    "df_Rewards_Promotion_Sunday=df_Rewards_Promotion[df_Rewards_Promotion['weekday']==6]\n",
    "df_Rewards_Promotion_Sunday['Sunday_rewards_ind']=1\n",
    "del df_Rewards_Promotion_Sunday['weekday']\n",
    "df_Rewards_Promotion_Sunday['week date']=df_Rewards_Promotion_Sunday['week date'].astype(str)\n",
    "\n",
    "\n",
    "df_Rewards_Promotion_Saturday=df_Rewards_Promotion[df_Rewards_Promotion['weekday']==5]\n",
    "df_Rewards_Promotion_Saturday['Saturday_rewards_ind']=1\n",
    "del df_Rewards_Promotion_Saturday['weekday']\n",
    "df_Rewards_Promotion_Saturday['week date']=df_Rewards_Promotion_Saturday['week date'].astype(str)\n"
   ]
  },
  {
   "cell_type": "code",
   "execution_count": 39,
   "metadata": {
    "collapsed": true
   },
   "outputs": [],
   "source": [
    "holiday_1_week_df=pd.DataFrame({\"week date\":[datetime.date(2016,12,18),datetime.date(2017,12,17),datetime.date(2018,12,23)],\"Holiday_1_week_only_Ind\":[1]*3},index=[0,1,2])\n",
    "holiday_5_weeks_df=pd.DataFrame({\"week date\":[datetime.date(2016,12,18)-datetime.timedelta(days=x*7) for x in range(5)] +[datetime.date(2017,12,17)-datetime.timedelta(days=x*7) for x in range(5)]+[datetime.date(2018,12,23)-datetime.timedelta(days=x*7) for x in range(5)],\n",
    "                                 \"Holiday_5_weeks_only_Ind\":[1]*15},index=[x for x in range(15)])\n",
    "\n",
    "holiday_1_week_df['week date']=holiday_1_week_df['week date'].astype(str)\n",
    "holiday_5_weeks_df['week date']=holiday_5_weeks_df['week date'].astype(str)\n",
    "\n",
    "\n",
    "df_special_weeks_ind=pd.merge(df_Rewards_Promotion_Saturday,df_Rewards_Promotion_Sunday,on=\"week date\",how=\"outer\")\n",
    "df_special_weeks_ind=pd.merge(df_special_weeks_ind,holiday_1_week_df,on=\"week date\",how=\"outer\")\n",
    "df_special_weeks_ind=pd.merge(df_special_weeks_ind,holiday_5_weeks_df,on=\"week date\",how=\"outer\")\n"
   ]
  },
  {
   "cell_type": "code",
   "execution_count": 40,
   "metadata": {
    "collapsed": true
   },
   "outputs": [],
   "source": [
    "data_media_national_wide=pd.merge(data_media_national_wide,df_special_weeks_ind,on=\"week date\",how=\"left\")\n",
    "\n",
    "data_submedia_national_wide=pd.merge(data_submedia_national_wide,df_special_weeks_ind,on=\"week date\",how=\"left\")\n",
    "\n",
    "data_media_national_wide=data_media_national_wide.fillna(0)\n",
    "data_submedia_national_wide=data_submedia_national_wide.fillna(0)"
   ]
  },
  {
   "cell_type": "code",
   "execution_count": 41,
   "metadata": {
    "collapsed": true
   },
   "outputs": [],
   "source": [
    "data_media_national_wide.to_csv(\"/home/jian/Projects/Big_Lots/TMR/TMR_data/Up_to_2019Q1/output/BL_MMM_data_media_national_wide_JL_\"+str(datetime.datetime.now().date())+\".csv\",index=False)\n",
    "data_submedia_national_wide.to_csv(\"/home/jian/Projects/Big_Lots/TMR/TMR_data/Up_to_2019Q1/output/BL_MMM_data_submedia_national_wide_JL_\"+str(datetime.datetime.now().date())+\".csv\",index=False)\n",
    "\n",
    "# Note email cpm updated based on the Q1 client number\n",
    "# Flipp hosted seperated in wide version\n",
    "# Circ # is based on internal and different from Dom's \n"
   ]
  },
  {
   "cell_type": "code",
   "execution_count": null,
   "metadata": {
    "collapsed": true
   },
   "outputs": [],
   "source": []
  }
 ],
 "metadata": {
  "kernelspec": {
   "display_name": "Python 3",
   "language": "python",
   "name": "python3"
  },
  "language_info": {
   "codemirror_mode": {
    "name": "ipython",
    "version": 3
   },
   "file_extension": ".py",
   "mimetype": "text/x-python",
   "name": "python",
   "nbconvert_exporter": "python",
   "pygments_lexer": "ipython3",
   "version": "3.7.6"
  }
 },
 "nbformat": 4,
 "nbformat_minor": 2
}
