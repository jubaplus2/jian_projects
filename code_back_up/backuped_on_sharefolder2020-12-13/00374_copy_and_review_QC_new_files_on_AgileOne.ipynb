{
 "cells": [
  {
   "cell_type": "code",
   "execution_count": 1,
   "metadata": {},
   "outputs": [
    {
     "output_type": "execute_result",
     "data": {
      "text/plain": [
       "'/mnt/clients/juba/hqjubaapp02/sharefolder/biglots_data/AgilOne'"
      ]
     },
     "metadata": {},
     "execution_count": 1
    }
   ],
   "source": [
    "import pandas as pd\n",
    "import numpy as np\n",
    "import datetime\n",
    "import os\n",
    "import paramiko\n",
    "from pathlib import Path\n",
    "\n",
    "os.getcwd()"
   ]
  },
  {
   "cell_type": "code",
   "execution_count": 2,
   "metadata": {},
   "outputs": [
    {
     "output_type": "stream",
     "name": "stdout",
     "text": [
      "local_folder: \n /mnt/clients/juba/hqjubaapp02/sharefolder/biglots_data/AgilOne/Offer_10_off_20_20Q4/\n"
     ]
    }
   ],
   "source": [
    "# To update here \n",
    "new_campaing_name = 'Offer_10_off_20_20Q4/'\n",
    "local_folder = '/mnt/clients/juba/hqjubaapp02/sharefolder/biglots_data/AgilOne/' + new_campaing_name\n",
    "\n",
    "\n",
    "print(\"local_folder: \\n\", local_folder)\n",
    "\n",
    "try:\n",
    "    os.stat(local_folder)\n",
    "except:\n",
    "    os.mkdir(local_folder)"
   ]
  },
  {
   "cell_type": "code",
   "execution_count": 3,
   "metadata": {},
   "outputs": [],
   "source": [
    "host = \"107.191.32.220\" #hard-coded\n",
    "port = 22\n",
    "transport = paramiko.Transport((host, port))\n",
    "\n",
    "username = \"agilone\" #hard-coded\n",
    "password = \"Tur87ZqzF9xV5mYF\" #hard-coded\n",
    "transport.connect(username=username, password=password)\n",
    "sftp = paramiko.SFTPClient.from_transport(transport)"
   ]
  },
  {
   "cell_type": "code",
   "execution_count": 4,
   "metadata": {},
   "outputs": [
    {
     "output_type": "execute_result",
     "data": {
      "text/plain": [
       "['/home/agilone/Near_Lapsing_Delta__20201119021243.csv',\n",
       " '/home/agilone/13_Month_Lapsed_Delta__20201119021501.csv',\n",
       " '/home/agilone/Signup_NoPurchase_Delta__20201119021251.csv',\n",
       " '/home/agilone/Reactivation_Redeemers__20201119031841.csv']"
      ]
     },
     "metadata": {},
     "execution_count": 4
    }
   ],
   "source": [
    "remote_folder = \"/home/agilone/\"\n",
    "list_remote_files = [remote_folder+x for x in sftp.listdir(remote_folder)]\n",
    "\n",
    "list_remote_files = [x for x in list_remote_files\n",
    "                     if pd.to_datetime(sftp.stat(x).st_mtime,unit=\"s\")>=datetime.datetime.now()-datetime.timedelta(days=1)]\n",
    "list_remote_files = [x for x in list_remote_files if x[-4]==\".\"]\n",
    "list_remote_files"
   ]
  },
  {
   "cell_type": "code",
   "execution_count": 5,
   "metadata": {},
   "outputs": [
    {
     "output_type": "execute_result",
     "data": {
      "text/plain": [
       "['/home/agilone/Near_Lapsing_Delta__20201119021243.csv',\n",
       " '/home/agilone/13_Month_Lapsed_Delta__20201119021501.csv',\n",
       " '/home/agilone/Signup_NoPurchase_Delta__20201119021251.csv',\n",
       " '/home/agilone/Reactivation_Redeemers__20201119031841.csv']"
      ]
     },
     "metadata": {},
     "execution_count": 5
    }
   ],
   "source": [
    "# Remove the ccpa received on the same day\n",
    "list_remote_files = [x for x in list_remote_files if \"ccpa_dele\" not in x.lower()]\n",
    "list_remote_files"
   ]
  },
  {
   "cell_type": "code",
   "execution_count": 6,
   "metadata": {},
   "outputs": [],
   "source": [
    "# transfer the files to local server\n",
    "for file in list_remote_files:\n",
    "    basename = os.path.basename(file)\n",
    "    local_path = local_folder + basename\n",
    "    sftp.get(file, local_path)\n",
    "sftp.close()\n",
    "transport.close()"
   ]
  },
  {
   "cell_type": "code",
   "execution_count": 18,
   "metadata": {},
   "outputs": [
    {
     "output_type": "execute_result",
     "data": {
      "text/plain": [
       "[PosixPath('/mnt/clients/juba/hqjubaapp02/sharefolder/biglots_data/AgilOne/Offer_10_off_20_20Q4/Near_Lapsing_Delta__20201119021243.csv'),\n",
       " PosixPath('/mnt/clients/juba/hqjubaapp02/sharefolder/biglots_data/AgilOne/Offer_10_off_20_20Q4/13_Month_Lapsed_Delta__20201119021501.csv'),\n",
       " PosixPath('/mnt/clients/juba/hqjubaapp02/sharefolder/biglots_data/AgilOne/Offer_10_off_20_20Q4/Signup_NoPurchase_Delta__20201119021251.csv'),\n",
       " PosixPath('/mnt/clients/juba/hqjubaapp02/sharefolder/biglots_data/AgilOne/Offer_10_off_20_20Q4/Reactivation_Redeemers__20201119031841.csv')]"
      ]
     },
     "metadata": {},
     "execution_count": 18
    }
   ],
   "source": [
    "# list out paths for new files in local server\n",
    "files = [Path(p).name for p in list_remote_files]\n",
    "\n",
    "files_local_paths = [next(Path(local_folder).glob(f)) for f in files]\n",
    "files_local_paths"
   ]
  },
  {
   "cell_type": "code",
   "execution_count": 7,
   "metadata": {},
   "outputs": [
    {
     "output_type": "execute_result",
     "data": {
      "text/plain": [
       "['/mnt/clients/juba/hqjubaapp02/sharefolder/biglots_data/AgilOne/Offer_10_off_20_20Q4/10-12 Month About to Lapse MS A_20201102075436.csv',\n",
       " '/mnt/clients/juba/hqjubaapp02/sharefolder/biglots_data/AgilOne/Offer_10_off_20_20Q4/10-12 Month About to Lapse MS B_20201102075837.csv',\n",
       " '/mnt/clients/juba/hqjubaapp02/sharefolder/biglots_data/AgilOne/Offer_10_off_20_20Q4/13-18 Month Lapsed MS A_20201102073523.csv',\n",
       " '/mnt/clients/juba/hqjubaapp02/sharefolder/biglots_data/AgilOne/Offer_10_off_20_20Q4/13-18 Month Lapsed MS B_20201102073920.csv',\n",
       " '/mnt/clients/juba/hqjubaapp02/sharefolder/biglots_data/AgilOne/Offer_10_off_20_20Q4/13_Month_Lapsed_Delta__20201119021501.csv',\n",
       " '/mnt/clients/juba/hqjubaapp02/sharefolder/biglots_data/AgilOne/Offer_10_off_20_20Q4/Near_Lapsing_Delta__20201119021243.csv',\n",
       " '/mnt/clients/juba/hqjubaapp02/sharefolder/biglots_data/AgilOne/Offer_10_off_20_20Q4/Online Signup MS A_20201102074635.csv',\n",
       " '/mnt/clients/juba/hqjubaapp02/sharefolder/biglots_data/AgilOne/Offer_10_off_20_20Q4/Online Signup MS B_20201102074942.csv',\n",
       " '/mnt/clients/juba/hqjubaapp02/sharefolder/biglots_data/AgilOne/Offer_10_off_20_20Q4/Reactivation_Redeemers__20201119031841.csv',\n",
       " '/mnt/clients/juba/hqjubaapp02/sharefolder/biglots_data/AgilOne/Offer_10_off_20_20Q4/Signup_NoPurchase_Delta__20201119021251.csv']"
      ]
     },
     "metadata": {},
     "execution_count": 7
    }
   ],
   "source": [
    "# import glob\n",
    "# list_local_file_new=glob.glob(local_folder+\"*.csv\")\n",
    "# list_local_file_new.sort()\n",
    "# list_local_file_new"
   ]
  },
  {
   "cell_type": "code",
   "execution_count": 24,
   "metadata": {},
   "outputs": [
    {
     "output_type": "execute_result",
     "data": {
      "text/plain": [
       "  customersummary_mastercustomerid  \\\n",
       "0                    KFK_0_8080278   \n",
       "1               FTP_CSV_6_42733719   \n",
       "2                   KFK_0_58501153   \n",
       "3                   KFK_0_59424453   \n",
       "4                   KFK_0_37221152   \n",
       "5                   KFK_0_52323482   \n",
       "6                   KFK_0_51468806   \n",
       "7                   KFK_0_61402364   \n",
       "8                   KFK_0_58783951   \n",
       "9                   KFK_0_58599901   \n",
       "\n",
       "                           customersummary_emailhash  \\\n",
       "0  926a7e8ae937982587102acdd9f8be79999f7b9dfe8674...   \n",
       "1  9628d15eb4665dd40d1766d429dbe19d6b2655858de9d8...   \n",
       "2  46c2136ea20df6c6126b45e754a9ee10037496667b3574...   \n",
       "3  28451578c9f1234c5c52b76c0b7d2578c72b8ea4d0e066...   \n",
       "4  cf8ed7de337396945c6fc66f5eb6f96103a4918edf7ce1...   \n",
       "5  0e7c2056b8cdd1b0f03c735dbcf93744f7d8f66da4c7ad...   \n",
       "6  16b3e74a61d931d4a79ff18bf1446cd20a6346d9fc2b91...   \n",
       "7  41c31e9ad390affe3af670baed97fb98e0b588462f5831...   \n",
       "8  b43667864138db81f85027ebf43e087c42975b453af5dd...   \n",
       "9  b77864808cd354019d0e03e3caddea4df5506f8ef129dc...   \n",
       "\n",
       "                    customersummary_c_primaryscnhash   execution_id  \n",
       "0  a1c99d904e9801648c3c7e4f43a64caec2feb4cf3e8d04...  1605796990823  \n",
       "1  ecdce8d80cf2365546169913aafe6ff7033ac1405f3b27...  1605796990823  \n",
       "2  e232f00c8de9ef81e5a87cac82c82b4787517bd3211b2a...  1605796990823  \n",
       "3  b4cd2c350506726b5009caf3926579f799dc8d4a28dd55...  1605796990823  \n",
       "4  ca6965083c5ecb76cabee74e04f5ac27a659b2fdb20cd8...  1605796990823  \n",
       "5  0665aa38725315f66a7349bd39988e62ee093b7f527d81...  1605796990823  \n",
       "6  05eae8d3527e030628b92f826b8da35fd631370e5dcf34...  1605796990823  \n",
       "7  df248233039f781dd0b08ad572286dbaaf5eeed8fb3ee8...  1605796990823  \n",
       "8  1a0b9f4437e968ac81edd50c1ff8bfa586ecbed4955f3b...  1605796990823  \n",
       "9  240698e6d7e1137a0974482b1ffe7add66b1b4931391d0...  1605796990823  "
      ],
      "text/html": "<div>\n<style scoped>\n    .dataframe tbody tr th:only-of-type {\n        vertical-align: middle;\n    }\n\n    .dataframe tbody tr th {\n        vertical-align: top;\n    }\n\n    .dataframe thead th {\n        text-align: right;\n    }\n</style>\n<table border=\"1\" class=\"dataframe\">\n  <thead>\n    <tr style=\"text-align: right;\">\n      <th></th>\n      <th>customersummary_mastercustomerid</th>\n      <th>customersummary_emailhash</th>\n      <th>customersummary_c_primaryscnhash</th>\n      <th>execution_id</th>\n    </tr>\n  </thead>\n  <tbody>\n    <tr>\n      <th>0</th>\n      <td>KFK_0_8080278</td>\n      <td>926a7e8ae937982587102acdd9f8be79999f7b9dfe8674...</td>\n      <td>a1c99d904e9801648c3c7e4f43a64caec2feb4cf3e8d04...</td>\n      <td>1605796990823</td>\n    </tr>\n    <tr>\n      <th>1</th>\n      <td>FTP_CSV_6_42733719</td>\n      <td>9628d15eb4665dd40d1766d429dbe19d6b2655858de9d8...</td>\n      <td>ecdce8d80cf2365546169913aafe6ff7033ac1405f3b27...</td>\n      <td>1605796990823</td>\n    </tr>\n    <tr>\n      <th>2</th>\n      <td>KFK_0_58501153</td>\n      <td>46c2136ea20df6c6126b45e754a9ee10037496667b3574...</td>\n      <td>e232f00c8de9ef81e5a87cac82c82b4787517bd3211b2a...</td>\n      <td>1605796990823</td>\n    </tr>\n    <tr>\n      <th>3</th>\n      <td>KFK_0_59424453</td>\n      <td>28451578c9f1234c5c52b76c0b7d2578c72b8ea4d0e066...</td>\n      <td>b4cd2c350506726b5009caf3926579f799dc8d4a28dd55...</td>\n      <td>1605796990823</td>\n    </tr>\n    <tr>\n      <th>4</th>\n      <td>KFK_0_37221152</td>\n      <td>cf8ed7de337396945c6fc66f5eb6f96103a4918edf7ce1...</td>\n      <td>ca6965083c5ecb76cabee74e04f5ac27a659b2fdb20cd8...</td>\n      <td>1605796990823</td>\n    </tr>\n    <tr>\n      <th>5</th>\n      <td>KFK_0_52323482</td>\n      <td>0e7c2056b8cdd1b0f03c735dbcf93744f7d8f66da4c7ad...</td>\n      <td>0665aa38725315f66a7349bd39988e62ee093b7f527d81...</td>\n      <td>1605796990823</td>\n    </tr>\n    <tr>\n      <th>6</th>\n      <td>KFK_0_51468806</td>\n      <td>16b3e74a61d931d4a79ff18bf1446cd20a6346d9fc2b91...</td>\n      <td>05eae8d3527e030628b92f826b8da35fd631370e5dcf34...</td>\n      <td>1605796990823</td>\n    </tr>\n    <tr>\n      <th>7</th>\n      <td>KFK_0_61402364</td>\n      <td>41c31e9ad390affe3af670baed97fb98e0b588462f5831...</td>\n      <td>df248233039f781dd0b08ad572286dbaaf5eeed8fb3ee8...</td>\n      <td>1605796990823</td>\n    </tr>\n    <tr>\n      <th>8</th>\n      <td>KFK_0_58783951</td>\n      <td>b43667864138db81f85027ebf43e087c42975b453af5dd...</td>\n      <td>1a0b9f4437e968ac81edd50c1ff8bfa586ecbed4955f3b...</td>\n      <td>1605796990823</td>\n    </tr>\n    <tr>\n      <th>9</th>\n      <td>KFK_0_58599901</td>\n      <td>b77864808cd354019d0e03e3caddea4df5506f8ef129dc...</td>\n      <td>240698e6d7e1137a0974482b1ffe7add66b1b4931391d0...</td>\n      <td>1605796990823</td>\n    </tr>\n  </tbody>\n</table>\n</div>"
     },
     "metadata": {},
     "execution_count": 24
    }
   ],
   "source": [
    "# Manually QC\n",
    "df = pd.read_csv(files_local_paths[3], nrows=10)\n",
    "df"
   ]
  },
  {
   "cell_type": "code",
   "execution_count": 20,
   "metadata": {},
   "outputs": [
    {
     "output_type": "stream",
     "name": "stdout",
     "text": [
      "Near_Lapsing_Delta__20201119021243.csv 148705 148705 148704\n",
      "All sha256 format in 64 length:  [64]\n",
      "13_Month_Lapsed_Delta__20201119021501.csv 164099 164099 164098\n",
      "All sha256 format in 64 length:  [64]\n",
      "Signup_NoPurchase_Delta__20201119021251.csv 172337 172337 172330\n",
      "All sha256 format in 64 length:  [64  7]\n",
      "Checking wrong length (remember to remove when uploading): \n",
      "{7: 8, 64: 172329}\n",
      "Reactivation_Redeemers__20201119031841.csv 19793 19792 19792\n",
      "All sha256 format in 64 length:  [64  7 12]\n",
      "Checking wrong length (remember to remove when uploading): \n",
      "{7: 2, 12: 1, 64: 19790}\n"
     ]
    }
   ],
   "source": [
    "df_summary_count = pd.DataFrame()\n",
    "i = 0\n",
    "for file in files_local_paths:\n",
    "    i += 1\n",
    "    df = pd.read_csv(file, dtype=str)\n",
    "    # name, row, unique_id, unique_email\n",
    "    \n",
    "    basename = os.path.basename(file)\n",
    "    row_count = df.shape[0]\n",
    "    unique_id = df['customersummary_c_primaryscnhash'].nunique()\n",
    "    unique_email = df['customersummary_emailhash'].nunique()\n",
    "    \n",
    "    print(basename,row_count,unique_id,unique_email)\n",
    "    print(\"All sha256 format in 64 length: \",\n",
    "          df['customersummary_emailhash'].apply(len).unique())\n",
    "    df_s_file = pd.DataFrame({\"file\": basename,\n",
    "                              \"row_count\": row_count,\n",
    "                              \"unique_id\": unique_id,\n",
    "                              \"unique_email\": unique_email}, index=[i])\n",
    "    df_summary_count = df_summary_count.append(df_s_file)\n",
    "    if df['customersummary_emailhash'].apply(len).unique().tolist() != [64]:\n",
    "        print(\"Checking wrong length (remember to remove when uploading): \")\n",
    "        df['email_len']=df['customersummary_emailhash'].apply(len)\n",
    "        df=df.groupby(\"email_len\")['customersummary_emailhash'].count().to_frame().reset_index()\n",
    "        print(df.set_index(\"email_len\").to_dict()['customersummary_emailhash'])\n",
    "        \n",
    "        "
   ]
  },
  {
   "cell_type": "code",
   "execution_count": 21,
   "metadata": {},
   "outputs": [
    {
     "output_type": "execute_result",
     "data": {
      "text/plain": [
       "                                          file  row_count  unique_id  \\\n",
       "1       Near_Lapsing_Delta__20201119021243.csv     148705     148705   \n",
       "2    13_Month_Lapsed_Delta__20201119021501.csv     164099     164099   \n",
       "3  Signup_NoPurchase_Delta__20201119021251.csv     172337     172337   \n",
       "4   Reactivation_Redeemers__20201119031841.csv      19793      19792   \n",
       "\n",
       "   unique_email  \n",
       "1        148704  \n",
       "2        164098  \n",
       "3        172330  \n",
       "4         19792  "
      ],
      "text/html": "<div>\n<style scoped>\n    .dataframe tbody tr th:only-of-type {\n        vertical-align: middle;\n    }\n\n    .dataframe tbody tr th {\n        vertical-align: top;\n    }\n\n    .dataframe thead th {\n        text-align: right;\n    }\n</style>\n<table border=\"1\" class=\"dataframe\">\n  <thead>\n    <tr style=\"text-align: right;\">\n      <th></th>\n      <th>file</th>\n      <th>row_count</th>\n      <th>unique_id</th>\n      <th>unique_email</th>\n    </tr>\n  </thead>\n  <tbody>\n    <tr>\n      <th>1</th>\n      <td>Near_Lapsing_Delta__20201119021243.csv</td>\n      <td>148705</td>\n      <td>148705</td>\n      <td>148704</td>\n    </tr>\n    <tr>\n      <th>2</th>\n      <td>13_Month_Lapsed_Delta__20201119021501.csv</td>\n      <td>164099</td>\n      <td>164099</td>\n      <td>164098</td>\n    </tr>\n    <tr>\n      <th>3</th>\n      <td>Signup_NoPurchase_Delta__20201119021251.csv</td>\n      <td>172337</td>\n      <td>172337</td>\n      <td>172330</td>\n    </tr>\n    <tr>\n      <th>4</th>\n      <td>Reactivation_Redeemers__20201119031841.csv</td>\n      <td>19793</td>\n      <td>19792</td>\n      <td>19792</td>\n    </tr>\n  </tbody>\n</table>\n</div>"
     },
     "metadata": {},
     "execution_count": 21
    }
   ],
   "source": [
    "df_summary_count"
   ]
  },
  {
   "cell_type": "code",
   "execution_count": null,
   "metadata": {},
   "outputs": [],
   "source": []
  }
 ],
 "metadata": {
  "kernelspec": {
   "display_name": "Python 3.8.5 64-bit ('biglots': conda)",
   "language": "python",
   "name": "python38564bitbiglotsconda600aa8b741f845bd8b51f1deac31a64d"
  },
  "language_info": {
   "codemirror_mode": {
    "name": "ipython",
    "version": 3
   },
   "file_extension": ".py",
   "mimetype": "text/x-python",
   "name": "python",
   "nbconvert_exporter": "python",
   "pygments_lexer": "ipython3",
   "version": "3.8.5-final"
  }
 },
 "nbformat": 4,
 "nbformat_minor": 2
}