{
 "cells": [
  {
   "cell_type": "code",
   "execution_count": 1,
   "metadata": {},
   "outputs": [
    {
     "data": {
      "text/plain": [
       "'/home/jian/Projects/Big_Lots/Live_Ramp/Quarterly_Update_2019Q4'"
      ]
     },
     "execution_count": 1,
     "metadata": {},
     "output_type": "execute_result"
    }
   ],
   "source": [
    "import paramiko\n",
    "import os\n",
    "\n",
    "os.getcwd()"
   ]
  },
  {
   "cell_type": "code",
   "execution_count": 2,
   "metadata": {},
   "outputs": [
    {
     "name": "stdout",
     "output_type": "stream",
     "text": [
      "/mnt/drv5/lr_biglots_data/BL_Quarterly_Detail/BL_all_master_id_email_zip_closet_store_ZipLabel_upto_20191012_JL_2019-10-23.csv\n"
     ]
    }
   ],
   "source": [
    "local_file=\"/home/jian/Projects/Big_Lots/Live_Ramp/Quarterly_Update_2019Q4/BL_all_master_id_email_zip_closet_store_ZipLabel_upto_20191012_JL_2019-10-23\"\n",
    "remote_path=\"/mnt/drv5/lr_biglots_data/BL_Quarterly_Detail/\"+os.path.basename(local_file)+\".csv\"\n",
    "print(remote_path)"
   ]
  },
  {
   "cell_type": "code",
   "execution_count": 3,
   "metadata": {
    "collapsed": true
   },
   "outputs": [],
   "source": [
    "host = \"64.237.51.251\" #hard-coded\n",
    "port = 22\n",
    "transport = paramiko.Transport((host, port))\n",
    "\n",
    "password = \"jian@juba2017\" #hard-coded\n",
    "username = \"jian\" #hard-coded\n",
    "transport.connect(username = username, password = password)\n",
    "sftp = paramiko.SFTPClient.from_transport(transport)\n",
    "\n",
    "sftp.put(local_file,remote_path)\n",
    "sftp.close()\n",
    "transport.close()"
   ]
  },
  {
   "cell_type": "code",
   "execution_count": 5,
   "metadata": {},
   "outputs": [
    {
     "data": {
      "text/html": [
       "<div>\n",
       "<style scoped>\n",
       "    .dataframe tbody tr th:only-of-type {\n",
       "        vertical-align: middle;\n",
       "    }\n",
       "\n",
       "    .dataframe tbody tr th {\n",
       "        vertical-align: top;\n",
       "    }\n",
       "\n",
       "    .dataframe thead th {\n",
       "        text-align: right;\n",
       "    }\n",
       "</style>\n",
       "<table border=\"1\" class=\"dataframe\">\n",
       "  <thead>\n",
       "    <tr style=\"text-align: right;\">\n",
       "      <th></th>\n",
       "      <th>customer_id_hashed</th>\n",
       "      <th>email_address_hash</th>\n",
       "      <th>customer_zip_code</th>\n",
       "      <th>cleaned_zip_cd</th>\n",
       "      <th>closest_store</th>\n",
       "      <th>closest_distance</th>\n",
       "      <th>zip_type</th>\n",
       "    </tr>\n",
       "  </thead>\n",
       "  <tbody>\n",
       "    <tr>\n",
       "      <th>0</th>\n",
       "      <td>5ef4d1f4d0bc545e81340e8ad58db181e904392172c05d...</td>\n",
       "      <td>4979adf6b28136f0f0e7fd092b7f20712fe93fe8b21516...</td>\n",
       "      <td>NaN</td>\n",
       "      <td>00nan</td>\n",
       "      <td>NaN</td>\n",
       "      <td>NaN</td>\n",
       "      <td>NaN</td>\n",
       "    </tr>\n",
       "    <tr>\n",
       "      <th>1</th>\n",
       "      <td>9c95a62baf8dcc9c33b117853d30cdd516e219c34eeb6f...</td>\n",
       "      <td>8da7290d6a194661c5af68946ff9ff95ec310dabcb9569...</td>\n",
       "      <td>NaN</td>\n",
       "      <td>00nan</td>\n",
       "      <td>NaN</td>\n",
       "      <td>NaN</td>\n",
       "      <td>NaN</td>\n",
       "    </tr>\n",
       "    <tr>\n",
       "      <th>2</th>\n",
       "      <td>e1bad45acbfc23012c7b0c1e4dd78796dc774bfec4ef27...</td>\n",
       "      <td>1e1e3e0b9431b1c1ff5decaa01944bd1e025c79dc00ef8...</td>\n",
       "      <td>23518</td>\n",
       "      <td>23518</td>\n",
       "      <td>397</td>\n",
       "      <td>0.37618808716603913</td>\n",
       "      <td>trans_P</td>\n",
       "    </tr>\n",
       "    <tr>\n",
       "      <th>3</th>\n",
       "      <td>77e30b53f810aa9664bdf35bcbdef2cdcc6f51ad6d91d3...</td>\n",
       "      <td>748838ad209992477d90e881fe7a2d5c7d47ce2de9aa45...</td>\n",
       "      <td>45727</td>\n",
       "      <td>45727</td>\n",
       "      <td>5380</td>\n",
       "      <td>16.855666121061567</td>\n",
       "      <td>NaN</td>\n",
       "    </tr>\n",
       "    <tr>\n",
       "      <th>4</th>\n",
       "      <td>40b93b884544540584ac5350cb1e53372ef51e37190a3d...</td>\n",
       "      <td>b89e486375ccfc60ccc495bfa1e041934ff9c8ecc279b1...</td>\n",
       "      <td>91352</td>\n",
       "      <td>91352</td>\n",
       "      <td>4068</td>\n",
       "      <td>2.8388689442318835</td>\n",
       "      <td>trans_S</td>\n",
       "    </tr>\n",
       "    <tr>\n",
       "      <th>5</th>\n",
       "      <td>3fd3f9e6431f322f2d84d44f70242347fef82a153292f0...</td>\n",
       "      <td>930277cd445aee456457dd96db0c42792e5b46a4112226...</td>\n",
       "      <td>95831</td>\n",
       "      <td>95831</td>\n",
       "      <td>4115</td>\n",
       "      <td>5.763567684446776</td>\n",
       "      <td>trans_S</td>\n",
       "    </tr>\n",
       "    <tr>\n",
       "      <th>6</th>\n",
       "      <td>a41b507a345162e761a651ca545502033d02452ec24786...</td>\n",
       "      <td>a39df360bfdb65d1e204a388c7778153a95d20317aaf42...</td>\n",
       "      <td>NaN</td>\n",
       "      <td>00nan</td>\n",
       "      <td>NaN</td>\n",
       "      <td>NaN</td>\n",
       "      <td>NaN</td>\n",
       "    </tr>\n",
       "    <tr>\n",
       "      <th>7</th>\n",
       "      <td>e51e3e992ecf634f961dd93c63adb1c7c1cc93e03b6846...</td>\n",
       "      <td>2bd0c8f5d8d10eb2185efb4e87efb791f8e5c9cd45b6b8...</td>\n",
       "      <td>20747</td>\n",
       "      <td>20747</td>\n",
       "      <td>5308</td>\n",
       "      <td>2.12805715107288</td>\n",
       "      <td>trans_P</td>\n",
       "    </tr>\n",
       "    <tr>\n",
       "      <th>8</th>\n",
       "      <td>72583c7da5c16555c7abf24715a3da372abe0fe034d38e...</td>\n",
       "      <td>ea8fb222fc8c7fa6569b348bb31d4c3bc1af0d322d6994...</td>\n",
       "      <td>77627</td>\n",
       "      <td>77627</td>\n",
       "      <td>1077</td>\n",
       "      <td>5.059213784097469</td>\n",
       "      <td>trans_S</td>\n",
       "    </tr>\n",
       "    <tr>\n",
       "      <th>9</th>\n",
       "      <td>cca38985e90b56149084f151e1b46dbd33ef2005a311df...</td>\n",
       "      <td>ce64a391bc68fc0683cadd97588e790f27064b75eeb5fb...</td>\n",
       "      <td>44870</td>\n",
       "      <td>44870</td>\n",
       "      <td>293</td>\n",
       "      <td>0.8459280311335864</td>\n",
       "      <td>trans_P</td>\n",
       "    </tr>\n",
       "  </tbody>\n",
       "</table>\n",
       "</div>"
      ],
      "text/plain": [
       "                                  customer_id_hashed  \\\n",
       "0  5ef4d1f4d0bc545e81340e8ad58db181e904392172c05d...   \n",
       "1  9c95a62baf8dcc9c33b117853d30cdd516e219c34eeb6f...   \n",
       "2  e1bad45acbfc23012c7b0c1e4dd78796dc774bfec4ef27...   \n",
       "3  77e30b53f810aa9664bdf35bcbdef2cdcc6f51ad6d91d3...   \n",
       "4  40b93b884544540584ac5350cb1e53372ef51e37190a3d...   \n",
       "5  3fd3f9e6431f322f2d84d44f70242347fef82a153292f0...   \n",
       "6  a41b507a345162e761a651ca545502033d02452ec24786...   \n",
       "7  e51e3e992ecf634f961dd93c63adb1c7c1cc93e03b6846...   \n",
       "8  72583c7da5c16555c7abf24715a3da372abe0fe034d38e...   \n",
       "9  cca38985e90b56149084f151e1b46dbd33ef2005a311df...   \n",
       "\n",
       "                                  email_address_hash customer_zip_code  \\\n",
       "0  4979adf6b28136f0f0e7fd092b7f20712fe93fe8b21516...               NaN   \n",
       "1  8da7290d6a194661c5af68946ff9ff95ec310dabcb9569...               NaN   \n",
       "2  1e1e3e0b9431b1c1ff5decaa01944bd1e025c79dc00ef8...             23518   \n",
       "3  748838ad209992477d90e881fe7a2d5c7d47ce2de9aa45...             45727   \n",
       "4  b89e486375ccfc60ccc495bfa1e041934ff9c8ecc279b1...             91352   \n",
       "5  930277cd445aee456457dd96db0c42792e5b46a4112226...             95831   \n",
       "6  a39df360bfdb65d1e204a388c7778153a95d20317aaf42...               NaN   \n",
       "7  2bd0c8f5d8d10eb2185efb4e87efb791f8e5c9cd45b6b8...             20747   \n",
       "8  ea8fb222fc8c7fa6569b348bb31d4c3bc1af0d322d6994...             77627   \n",
       "9  ce64a391bc68fc0683cadd97588e790f27064b75eeb5fb...             44870   \n",
       "\n",
       "  cleaned_zip_cd closest_store     closest_distance zip_type  \n",
       "0          00nan           NaN                  NaN      NaN  \n",
       "1          00nan           NaN                  NaN      NaN  \n",
       "2          23518           397  0.37618808716603913  trans_P  \n",
       "3          45727          5380   16.855666121061567      NaN  \n",
       "4          91352          4068   2.8388689442318835  trans_S  \n",
       "5          95831          4115    5.763567684446776  trans_S  \n",
       "6          00nan           NaN                  NaN      NaN  \n",
       "7          20747          5308     2.12805715107288  trans_P  \n",
       "8          77627          1077    5.059213784097469  trans_S  \n",
       "9          44870           293   0.8459280311335864  trans_P  "
      ]
     },
     "execution_count": 5,
     "metadata": {},
     "output_type": "execute_result"
    }
   ],
   "source": [
    "import pandas as pd\n",
    "df=pd.read_csv(local_file,dtype=str,nrows=10)\n",
    "df"
   ]
  },
  {
   "cell_type": "code",
   "execution_count": null,
   "metadata": {
    "collapsed": true
   },
   "outputs": [],
   "source": []
  }
 ],
 "metadata": {
  "kernelspec": {
   "display_name": "Python 3",
   "language": "python",
   "name": "python3"
  },
  "language_info": {
   "codemirror_mode": {
    "name": "ipython",
    "version": 3
   },
   "file_extension": ".py",
   "mimetype": "text/x-python",
   "name": "python",
   "nbconvert_exporter": "python",
   "pygments_lexer": "ipython3",
   "version": "3.6.1"
  }
 },
 "nbformat": 4,
 "nbformat_minor": 2
}
