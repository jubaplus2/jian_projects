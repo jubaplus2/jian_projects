{
 "cells": [
  {
   "cell_type": "code",
   "execution_count": 2,
   "metadata": {
    "collapsed": true
   },
   "outputs": [],
   "source": [
    "import pandas as pd"
   ]
  },
  {
   "cell_type": "code",
   "execution_count": 3,
   "metadata": {},
   "outputs": [
    {
     "data": {
      "text/plain": [
       "['ZIP_CODE',\n",
       " 'ZIP4',\n",
       " 'CRRTTYPE',\n",
       " 'POP18',\n",
       " 'HH18',\n",
       " 'POPGROW18',\n",
       " 'AVGHHSIZE',\n",
       " 'MEDAGHHER',\n",
       " 'MEDRENT',\n",
       " 'MEDVALOCC',\n",
       " 'MEDVEHICLE',\n",
       " 'MEDHHINC',\n",
       " 'AVGHHINC',\n",
       " 'PERCAPINC',\n",
       " 'MEDAGE',\n",
       " 'PCTHH200P',\n",
       " 'HHHINCAVG']"
      ]
     },
     "execution_count": 3,
     "metadata": {},
     "output_type": "execute_result"
    }
   ],
   "source": [
    "data_A=pd.read_csv(\"/home/jian/Docs/EASI/2018-06-25/ZIP4_18_DATA_A2_CSV/ZIP4_18_DATA_A2.CSV\",skiprows=1,dtype=str,nrows=10)\n",
    "data_A.columns.tolist()"
   ]
  },
  {
   "cell_type": "code",
   "execution_count": 4,
   "metadata": {},
   "outputs": [
    {
     "data": {
      "text/plain": [
       "['ZIP_CODE',\n",
       " 'ZIP4',\n",
       " 'CRRTTYPE',\n",
       " 'POP18',\n",
       " 'HH18',\n",
       " 'PCTOOHH',\n",
       " 'PCTROOCCHH',\n",
       " 'PCTWHPOP',\n",
       " 'PCTBLPOP',\n",
       " 'PCTASPOP',\n",
       " 'PCTAMPOP',\n",
       " 'PCTORPOP',\n",
       " 'PCTTMPOP',\n",
       " 'PCTHISPOP',\n",
       " 'PCTWNHPOP',\n",
       " 'PCTGRADDEG',\n",
       " 'PCTWHCOL']"
      ]
     },
     "execution_count": 4,
     "metadata": {},
     "output_type": "execute_result"
    }
   ],
   "source": [
    "data_B=pd.read_csv(\"/home/jian/Docs/EASI/2018-06-25/ZIP4_18_DATA_B2_CSV/ZIP4_18_DATA_B2.CSV\",skiprows=1,dtype=str,nrows=10)\n",
    "data_B.columns.tolist()"
   ]
  },
  {
   "cell_type": "code",
   "execution_count": 5,
   "metadata": {},
   "outputs": [
    {
     "data": {
      "text/plain": [
       "['ZIP_CODE',\n",
       " 'ZIP4',\n",
       " 'CRRTTYPE',\n",
       " 'HH18',\n",
       " 'PCTMARNOC',\n",
       " 'PCTMARC',\n",
       " 'PCTSPARC',\n",
       " 'PCTSING',\n",
       " 'PCTHHL25',\n",
       " 'PCTHH25_34',\n",
       " 'PCTHH35_44',\n",
       " 'PCTHH45_54',\n",
       " 'PCTHH55_64',\n",
       " 'PCTHH65_74',\n",
       " 'PCTHH75P',\n",
       " 'PCTL35K',\n",
       " 'PCT35_100K',\n",
       " 'PCT100KP']"
      ]
     },
     "execution_count": 5,
     "metadata": {},
     "output_type": "execute_result"
    }
   ],
   "source": [
    "data_C=pd.read_csv(\"/home/jian/Docs/EASI/2018-06-25/ZIP4_18_DATA_C2_CSV/ZIP4_18_DATA_C2.CSV\",skiprows=1,dtype=str,nrows=10)\n",
    "data_C.columns.tolist()"
   ]
  },
  {
   "cell_type": "code",
   "execution_count": 3,
   "metadata": {
    "collapsed": true
   },
   "outputs": [],
   "source": [
    "data_A['HH18']=data_A['HH18'].astype(float)\n",
    "data_A['POP18']=data_A['POP18'].astype(float)"
   ]
  },
  {
   "cell_type": "code",
   "execution_count": 4,
   "metadata": {},
   "outputs": [
    {
     "data": {
      "text/html": [
       "<div>\n",
       "<style>\n",
       "    .dataframe thead tr:only-child th {\n",
       "        text-align: right;\n",
       "    }\n",
       "\n",
       "    .dataframe thead th {\n",
       "        text-align: left;\n",
       "    }\n",
       "\n",
       "    .dataframe tbody tr th {\n",
       "        vertical-align: top;\n",
       "    }\n",
       "</style>\n",
       "<table border=\"1\" class=\"dataframe\">\n",
       "  <thead>\n",
       "    <tr style=\"text-align: right;\">\n",
       "      <th></th>\n",
       "      <th>ZIP_CODE</th>\n",
       "      <th>ZIP4</th>\n",
       "      <th>CRRTTYPE</th>\n",
       "      <th>POP18</th>\n",
       "      <th>HH18</th>\n",
       "    </tr>\n",
       "  </thead>\n",
       "  <tbody>\n",
       "    <tr>\n",
       "      <th>0</th>\n",
       "      <td>00501</td>\n",
       "      <td>0001</td>\n",
       "      <td>C</td>\n",
       "      <td>0.0</td>\n",
       "      <td>0.0</td>\n",
       "    </tr>\n",
       "    <tr>\n",
       "      <th>1</th>\n",
       "      <td>00501</td>\n",
       "      <td>0002</td>\n",
       "      <td>C</td>\n",
       "      <td>0.0</td>\n",
       "      <td>0.0</td>\n",
       "    </tr>\n",
       "    <tr>\n",
       "      <th>2</th>\n",
       "      <td>01001</td>\n",
       "      <td>0001</td>\n",
       "      <td>B</td>\n",
       "      <td>114.2</td>\n",
       "      <td>45.6</td>\n",
       "    </tr>\n",
       "    <tr>\n",
       "      <th>3</th>\n",
       "      <td>01001</td>\n",
       "      <td>0121</td>\n",
       "      <td>B</td>\n",
       "      <td>102.5</td>\n",
       "      <td>40.9</td>\n",
       "    </tr>\n",
       "  </tbody>\n",
       "</table>\n",
       "</div>"
      ],
      "text/plain": [
       "  ZIP_CODE  ZIP4 CRRTTYPE  POP18  HH18\n",
       "0    00501  0001        C    0.0   0.0\n",
       "1    00501  0002        C    0.0   0.0\n",
       "2    01001  0001        B  114.2  45.6\n",
       "3    01001  0121        B  102.5  40.9"
      ]
     },
     "execution_count": 4,
     "metadata": {},
     "output_type": "execute_result"
    }
   ],
   "source": [
    "data_A.head(4)"
   ]
  },
  {
   "cell_type": "code",
   "execution_count": 10,
   "metadata": {
    "collapsed": true
   },
   "outputs": [],
   "source": [
    "data_A_10044=data_A[data_A['ZIP_CODE']==\"10044\"]"
   ]
  },
  {
   "cell_type": "code",
   "execution_count": 11,
   "metadata": {},
   "outputs": [
    {
     "data": {
      "text/plain": [
       "10250.199999999999"
      ]
     },
     "execution_count": 11,
     "metadata": {},
     "output_type": "execute_result"
    }
   ],
   "source": [
    "data_A_10044['POP18'].sum()"
   ]
  },
  {
   "cell_type": "code",
   "execution_count": 9,
   "metadata": {},
   "outputs": [
    {
     "data": {
      "text/plain": [
       "27183.299999999999"
      ]
     },
     "execution_count": 9,
     "metadata": {},
     "output_type": "execute_result"
    }
   ],
   "source": [
    "data_A_10013=data_A[data_A['ZIP_CODE']==\"10013\"]\n",
    "data_A_10013['POP18'].sum()"
   ]
  },
  {
   "cell_type": "code",
   "execution_count": 12,
   "metadata": {},
   "outputs": [
    {
     "data": {
      "text/plain": [
       "326868762.3999995"
      ]
     },
     "execution_count": 12,
     "metadata": {},
     "output_type": "execute_result"
    }
   ],
   "source": [
    "data_A['POP18'].sum()"
   ]
  },
  {
   "cell_type": "code",
   "execution_count": null,
   "metadata": {
    "collapsed": true
   },
   "outputs": [],
   "source": []
  }
 ],
 "metadata": {
  "kernelspec": {
   "display_name": "Python 3",
   "language": "python",
   "name": "python3"
  },
  "language_info": {
   "codemirror_mode": {
    "name": "ipython",
    "version": 3
   },
   "file_extension": ".py",
   "mimetype": "text/x-python",
   "name": "python",
   "nbconvert_exporter": "python",
   "pygments_lexer": "ipython3",
   "version": "3.6.1"
  }
 },
 "nbformat": 4,
 "nbformat_minor": 2
}
