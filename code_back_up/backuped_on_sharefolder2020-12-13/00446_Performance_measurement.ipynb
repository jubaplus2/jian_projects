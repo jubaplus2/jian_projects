{
 "cells": [
  {
   "cell_type": "code",
   "execution_count": 3,
   "metadata": {
    "scrolled": true
   },
   "outputs": [
    {
     "name": "stdout",
     "output_type": "stream",
     "text": [
      "2020-12-08 20:42:34.266363\n",
      "/mnt/clients/juba/hqjubaapp02/sharefolder/GoodYear/jian/Post_Campaign_Analysis\n"
     ]
    }
   ],
   "source": [
    "from google.cloud import bigquery\n",
    "import gc\n",
    "import pandas as pd\n",
    "import numpy as np\n",
    "import datetime\n",
    "import os\n",
    "import json\n",
    "import glob\n",
    "from haversine import haversine\n",
    "os.environ[\"GOOGLE_APPLICATION_CREDENTIALS\"] = \"/mnt/clients/juba/hqjubaapp02/sharefolder/GoodYear/docs/merkle-gdyr-prod-9783607c77a1.json\"\n",
    "\n",
    "zip_centers=json.load(open(\"/mnt/clients/juba/hqjubaapp02/sharefolder/Docs/Geo_mapping/updated_zip_centers_JL_2019-05-23.json\"))\n",
    "client = bigquery.Client()\n",
    "\n",
    "print(datetime.datetime.now())\n",
    "print(os.getcwd())"
   ]
  },
  {
   "cell_type": "markdown",
   "metadata": {},
   "source": [
    "# Audience Report"
   ]
  },
  {
   "cell_type": "code",
   "execution_count": 6,
   "metadata": {},
   "outputs": [
    {
     "name": "stdout",
     "output_type": "stream",
     "text": [
      "31 31\n",
      "9 9\n",
      "80\n"
     ]
    }
   ],
   "source": [
    "df_31_green=pd.read_excel(\"/mnt/clients/juba/hqjubaapp02/sharefolder/GoodYear/jian/Audience_selections/GY_green_store_matching_pair_BenJL_20201103.xlsx\",sheet_name=\"Sheet1\",dtype=str)\n",
    "df_9_single=pd.read_excel(\"/mnt/clients/juba/hqjubaapp02/sharefolder/GoodYear/jian/Audience_selections/GY_twelve_matching_pair_BenJL_20201103.xlsx\",sheet_name=\"Sheet1\",dtype=str)\n",
    "df_31_green=df_31_green[df_31_green['final_selection']==\"1\"]\n",
    "df_9_single=df_9_single[df_9_single['final_selection']==\"1\"]\n",
    "\n",
    "# 1\n",
    "list_test_store_str_id_part_1=[str(int(x)).zfill(4) for x in df_31_green['green_store_id'].tolist()]\n",
    "list_control_store_str_id_part_1=[str(int(x)).zfill(4) for x in df_31_green['matching_store_id'].tolist()]\n",
    "# 2\n",
    "list_test_store_str_id_part_2=[str(int(x)).zfill(4) for x in df_9_single['twelve_store_id'].tolist()]\n",
    "list_control_store_str_id_part_2=[str(int(x)).zfill(4) for x in df_9_single['matching_store_id'].tolist()]\n",
    "\n",
    "print(len(list_test_store_str_id_part_1),len(list_control_store_str_id_part_1))\n",
    "print(len(list_test_store_str_id_part_2),len(list_control_store_str_id_part_2))\n",
    "\n",
    "print(len(set(list_test_store_str_id_part_1+list_control_store_str_id_part_1+list_test_store_str_id_part_2+list_control_store_str_id_part_2)))"
   ]
  },
  {
   "cell_type": "code",
   "execution_count": 8,
   "metadata": {},
   "outputs": [
    {
     "name": "stdout",
     "output_type": "stream",
     "text": [
      "40 40\n"
     ]
    }
   ],
   "source": [
    "list_40_test_stores=list_test_store_str_id_part_1+list_test_store_str_id_part_2\n",
    "list_40_control_stores=list_control_store_str_id_part_1+list_control_store_str_id_part_2\n",
    "print(len(list_40_test_stores),len(list_40_test_stores))"
   ]
  },
  {
   "cell_type": "code",
   "execution_count": 4,
   "metadata": {},
   "outputs": [
    {
     "name": "stdout",
     "output_type": "stream",
     "text": [
      "2020-12-08 20:43:25.075206\n",
      "\n",
      "select t1.indiv_key, t1.best_email_txt, t1.best_phone_num, t2.postal_cd, t2.state_province_cd, t2.country_cd from mdb.indiv_summary as t1\n",
      "join mdb.addr as t2 on\n",
      "t1.cr_addr_key=t2.cr_addr_key\n",
      "\n"
     ]
    },
    {
     "name": "stderr",
     "output_type": "stream",
     "text": [
      "/home/jliang/.local/lib/python3.7/site-packages/google/cloud/bigquery/client.py:441: UserWarning: Cannot create BigQuery Storage client, the dependency google-cloud-bigquery-storage is not installed.\n",
      "  \"Cannot create BigQuery Storage client, the dependency \"\n"
     ]
    },
    {
     "name": "stdout",
     "output_type": "stream",
     "text": [
      "2020-12-08 20:50:33.900055\n",
      "(7591179, 6) 7591179\n"
     ]
    }
   ],
   "source": [
    "print(datetime.datetime.now())\n",
    "query_crm=\"\"\"\n",
    "select t1.indiv_key, t1.best_email_txt, t1.best_phone_num, t2.postal_cd, t2.state_province_cd, t2.country_cd from mdb.indiv_summary as t1\n",
    "join mdb.addr as t2 on\n",
    "t1.cr_addr_key=t2.cr_addr_key\n",
    "\"\"\"\n",
    "\n",
    "print(query_crm)\n",
    "\n",
    "df_all_ids=client.query(query_crm).result().to_dataframe()\n",
    "print(datetime.datetime.now())\n",
    "print(df_all_ids.shape,df_all_ids['indiv_key'].nunique())"
   ]
  },
  {
   "cell_type": "code",
   "execution_count": 10,
   "metadata": {},
   "outputs": [],
   "source": [
    "str_start_date=\"'2020-11-16'\"\n",
    "str_end_date=\"'2020-12-02'\""
   ]
  },
  {
   "cell_type": "code",
   "execution_count": 22,
   "metadata": {},
   "outputs": [
    {
     "name": "stdout",
     "output_type": "stream",
     "text": [
      "2020-12-09 00:13:38.151693\n",
      "\n",
      "            select indiv_key, min(invoice_date) as min_date, max(invoice_date) as max_date, \n",
      "            count(distinct(case when store_id='ECOM' then trn_id end)) as Ecomm_Trans,\n",
      "            sum(case when store_id='ECOM' then line_item_total_amt else 0 end) as Ecomm_Revenue,\n",
      "            count(distinct(case when store_id!='ECOM' then trn_id end)) as Store_Trans,\n",
      "            sum(case when store_id!='ECOM' then line_item_total_amt else 0 end) as Store_Revenue,\n",
      "            count(distinct trn_id) as Total_Trans,\n",
      "            sum(line_item_total_amt) as Total_Revenue\n",
      "            from mdb.trn_detail\n",
      "            where indiv_key is not null and invoice_date between '2020-11-25' and '2020-12-02'\n",
      "            group by indiv_key\n",
      "            \n"
     ]
    },
    {
     "name": "stderr",
     "output_type": "stream",
     "text": [
      "/home/jliang/.local/lib/python3.7/site-packages/google/cloud/bigquery/client.py:441: UserWarning: Cannot create BigQuery Storage client, the dependency google-cloud-bigquery-storage is not installed.\n",
      "  \"Cannot create BigQuery Storage client, the dependency \"\n"
     ]
    },
    {
     "name": "stdout",
     "output_type": "stream",
     "text": [
      "(53661, 9) 53661\n",
      "2020-12-09 00:13:45.172595\n"
     ]
    }
   ],
   "source": [
    "# Service & Tire & null\n",
    "print(datetime.datetime.now())\n",
    "query_both_by_id=\"\"\"\n",
    "            select indiv_key, min(invoice_date) as min_date, max(invoice_date) as max_date, \n",
    "            count(distinct(case when store_id='ECOM' then trn_id end)) as Ecomm_Trans,\n",
    "            sum(case when store_id='ECOM' then line_item_total_amt else 0 end) as Ecomm_Revenue,\n",
    "            count(distinct(case when store_id!='ECOM' then trn_id end)) as Store_Trans,\n",
    "            sum(case when store_id!='ECOM' then line_item_total_amt else 0 end) as Store_Revenue,\n",
    "            count(distinct trn_id) as Total_Trans,\n",
    "            sum(line_item_total_amt) as Total_Revenue\n",
    "            from mdb.trn_detail\n",
    "            where indiv_key is not null and invoice_date between %s and %s\n",
    "            group by indiv_key\n",
    "            \"\"\"  %(str_start_date,str_end_date)\n",
    "print(query_both_by_id)\n",
    "df_both_by_id=client.query(query_both_by_id).result().to_dataframe()\n",
    "print(df_both_by_id.shape,df_both_by_id['indiv_key'].nunique())\n",
    "print(datetime.datetime.now())"
   ]
  },
  {
   "cell_type": "code",
   "execution_count": 38,
   "metadata": {},
   "outputs": [],
   "source": [
    "final_uploaded_folder=\"/mnt/clients/juba/hqjubaapp02/sharefolder/GoodYear/jian/Audience_selections/output_cleaned_audience_2020-11-06/\"\n",
    "list_uploaded_main_aud_files=glob.glob(final_uploaded_folder+\"*.csv\")\n",
    "\n",
    "list_audience_national=[x for x in list_uploaded_main_aud_files if \"balance\" in x.lower() and \"tireandservice\" in x.lower()]\n",
    "list_audience_national.sort()\n",
    "# list_audience_national\n",
    "\n",
    "list_audience_40_stores=[x for x in list_uploaded_main_aud_files if \"_stores_\" in x.lower() and \"tireandservice\" in x.lower() and \"_ecom\" in x.lower()]\n",
    "list_audience_40_stores.sort()\n",
    "# list_audience_40_stores"
   ]
  },
  {
   "cell_type": "code",
   "execution_count": 47,
   "metadata": {},
   "outputs": [
    {
     "name": "stdout",
     "output_type": "stream",
     "text": [
      "(284729, 2) 284489\n"
     ]
    }
   ],
   "source": [
    "df_id_segment_label=pd.DataFrame()\n",
    "\n",
    "for file in list_audience_national+list_audience_40_stores:\n",
    "    df=pd.read_csv(file,usecols=['indiv_key'])\n",
    "    df['segment']=os.path.basename(file)\n",
    "    df_id_segment_label=df_id_segment_label.append(df)\n",
    "print(df_id_segment_label.shape,df_id_segment_label['indiv_key'].nunique())"
   ]
  },
  {
   "cell_type": "code",
   "execution_count": 49,
   "metadata": {},
   "outputs": [
    {
     "data": {
      "text/plain": [
       "(240, 2)"
      ]
     },
     "execution_count": 49,
     "metadata": {},
     "output_type": "execute_result"
    }
   ],
   "source": [
    "df=df_id_segment_label.groupby('indiv_key')['segment'].count().to_frame().reset_index()\n",
    "df=df.sort_values(\"segment\",ascending=False)\n",
    "df_dup=df[df['segment']>1]\n",
    "df_dup.shape"
   ]
  },
  {
   "cell_type": "code",
   "execution_count": 58,
   "metadata": {},
   "outputs": [],
   "source": [
    "for i in range(len(df_dup)):\n",
    "    df=df_id_segment_label[df_id_segment_label['indiv_key']==df_dup['indiv_key'].tolist()[i]]\n",
    "    df=df[df['segment'].str.contains(\"Test\")]\n",
    "    if len(df)>0:\n",
    "        print(i,df['segment'].tolist())\n",
    "# 240 ids are in the control for both 31 and 9, all 40 anyway"
   ]
  },
  {
   "cell_type": "code",
   "execution_count": 74,
   "metadata": {},
   "outputs": [
    {
     "name": "stdout",
     "output_type": "stream",
     "text": [
      "(284489, 2) 284489\n"
     ]
    }
   ],
   "source": [
    "df_id_segment_label['segment']=df_id_segment_label['segment'].str.replace(\"_31_\",\"_40_\")\n",
    "df_id_segment_label['segment']=df_id_segment_label['segment'].str.replace(\"_9_\",\"_40_\")\n",
    "df_id_segment_label=df_id_segment_label.drop_duplicates()\n",
    "\n",
    "print(df_id_segment_label.shape,df_id_segment_label['indiv_key'].nunique())\n",
    "df_id_group_count=df_id_segment_label.groupby(\"segment\")['indiv_key'].count().to_frame().reset_index()\n",
    "df_id_group_count=df_id_group_count.rename(columns={\"indiv_key\":\"total_ids\"})"
   ]
  },
  {
   "cell_type": "code",
   "execution_count": 68,
   "metadata": {},
   "outputs": [],
   "source": [
    "df_both_by_id=pd.merge(df_both_by_id,df_id_segment_label,on=\"indiv_key\",how=\"left\")\n",
    "df_both_by_id['segment']=df_both_by_id['segment'].fillna(\"balance\")"
   ]
  },
  {
   "cell_type": "code",
   "execution_count": 75,
   "metadata": {},
   "outputs": [],
   "source": [
    "func_agg={\"indiv_key\":\"count\",\"Ecomm_Trans\":\"sum\",\"Ecomm_Revenue\":\"sum\",\n",
    "          \"Store_Trans\":\"sum\",\"Store_Revenue\":\"sum\",\n",
    "          \"Total_Trans\":\"sum\",\"Total_Revenue\":\"sum\"}\n",
    "\n",
    "df_output_audience=df_both_by_id.groupby('segment').agg(func_agg).reset_index()\n",
    "df_output_audience=df_output_audience.rename(columns={\"indiv_key\":\"shoppers\"})\n",
    "df_output_audience=pd.merge(df_id_group_count,df_output_audience,on=\"segment\",how=\"outer\")\n",
    "df_output_audience=df_output_audience.sort_values(\"segment\")"
   ]
  },
  {
   "cell_type": "markdown",
   "metadata": {},
   "source": [
    "# Store Report"
   ]
  },
  {
   "cell_type": "code",
   "execution_count": 88,
   "metadata": {},
   "outputs": [],
   "source": [
    "list_40_test_stores_biqquery=str(list_40_test_stores).replace(\"[\",\"(\").replace(\"]\",\")\")\n",
    "list_40_control_stores_biqquery=str(list_40_control_stores).replace(\"[\",\"(\").replace(\"]\",\")\")\n",
    "list_80_all_stores_biqquery=str(list_40_test_stores+list_40_control_stores).replace(\"[\",\"(\").replace(\"]\",\")\")"
   ]
  },
  {
   "cell_type": "code",
   "execution_count": 101,
   "metadata": {},
   "outputs": [
    {
     "name": "stdout",
     "output_type": "stream",
     "text": [
      "2020-12-09 00:59:08.636600\n",
      "\n",
      "            select indiv_key, min(invoice_date) as min_date, max(invoice_date) as max_date, \n",
      "            count(distinct(case when store_id='ECOM' then trn_id end)) as Ecomm_Trans,\n",
      "            sum(case when store_id='ECOM' then line_item_total_amt else 0 end) as Ecomm_Revenue,\n",
      "            count(distinct(case when store_id!='ECOM' then trn_id end)) as Store_Trans,\n",
      "            sum(case when store_id!='ECOM' then line_item_total_amt else 0 end) as Store_Revenue,\n",
      "            count(distinct trn_id) as Total_Trans,\n",
      "            sum(line_item_total_amt) as Total_Revenue\n",
      "            from mdb.trn_detail\n",
      "            where indiv_key is not null and invoice_date between '2020-11-25' and '2020-12-02'\n",
      "            group by indiv_key\n",
      "            \n",
      "(80, 6) 80\n",
      "2020-12-09 00:59:10.277765\n"
     ]
    },
    {
     "name": "stderr",
     "output_type": "stream",
     "text": [
      "/home/jliang/.local/lib/python3.7/site-packages/google/cloud/bigquery/client.py:441: UserWarning: Cannot create BigQuery Storage client, the dependency google-cloud-bigquery-storage is not installed.\n",
      "  \"Cannot create BigQuery Storage client, the dependency \"\n"
     ]
    }
   ],
   "source": [
    "# Service & Tire & null\n",
    "print(datetime.datetime.now())\n",
    "query_both_by_store=\"\"\"\n",
    "            select store_id, min(invoice_date) as min_date, max(invoice_date) as max_date, \n",
    "            count(distinct indiv_key) as shoppers,\n",
    "            count(distinct trn_id) as Store_Trans,\n",
    "            sum(line_item_total_amt) as Store_Revenue\n",
    "            from mdb.trn_detail\n",
    "            where store_id in %s and invoice_date between %s and %s\n",
    "            group by store_id\n",
    "            \"\"\"  %(list_80_all_stores_biqquery,str_start_date,str_end_date)\n",
    "print(query_both_by_id)\n",
    "df_both_by_store=client.query(query_both_by_store).result().to_dataframe()\n",
    "print(df_both_by_store.shape,df_both_by_store['store_id'].nunique())\n",
    "print(datetime.datetime.now())"
   ]
  },
  {
   "cell_type": "code",
   "execution_count": 103,
   "metadata": {},
   "outputs": [
    {
     "name": "stderr",
     "output_type": "stream",
     "text": [
      "/opt/anaconda3/lib/python3.7/site-packages/ipykernel_launcher.py:2: FutureWarning: Indexing with multiple keys (implicitly converted to a tuple of keys) will be deprecated, use a list instead.\n",
      "  \n"
     ]
    }
   ],
   "source": [
    "df_both_by_store['group']=np.where(df_both_by_store['store_id'].isin(list_40_test_stores),\"test\",\"control\")\n",
    "df_output_by_store=df_both_by_store.groupby(\"group\")['shoppers','Store_Trans',\"Store_Revenue\"].sum().reset_index()"
   ]
  },
  {
   "cell_type": "code",
   "execution_count": 104,
   "metadata": {},
   "outputs": [],
   "source": [
    "writer=pd.ExcelWriter(\"./GY_post_campaign_performance_JL_%s.xlsx\"%(datetime.datetime.now().date()),engine=\"xlsxwriter\")\n",
    "df_output_audience.to_excel(writer,\"summary_by_audience\",index=False)\n",
    "df_output_by_store.to_excel(writer,\"summary_by_store\",index=False)\n",
    "df_both_by_store.to_excel(writer,\"output_by_StoreGroup\",index=False)\n",
    "writer.save()\n"
   ]
  },
  {
   "cell_type": "code",
   "execution_count": 100,
   "metadata": {},
   "outputs": [
    {
     "data": {
      "text/plain": [
       "1.0102306151157339"
      ]
     },
     "execution_count": 100,
     "metadata": {},
     "output_type": "execute_result"
    }
   ],
   "source": [
    "23699.0/23459.0"
   ]
  },
  {
   "cell_type": "code",
   "execution_count": null,
   "metadata": {},
   "outputs": [],
   "source": []
  }
 ],
 "metadata": {
  "kernelspec": {
   "display_name": "Python 3",
   "language": "python",
   "name": "python3"
  },
  "language_info": {
   "codemirror_mode": {
    "name": "ipython",
    "version": 3
   },
   "file_extension": ".py",
   "mimetype": "text/x-python",
   "name": "python",
   "nbconvert_exporter": "python",
   "pygments_lexer": "ipython3",
   "version": "3.7.6"
  }
 },
 "nbformat": 4,
 "nbformat_minor": 4
}
