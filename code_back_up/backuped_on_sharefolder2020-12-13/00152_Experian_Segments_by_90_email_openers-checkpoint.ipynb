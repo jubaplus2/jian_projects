{
 "cells": [
  {
   "cell_type": "code",
   "execution_count": 1,
   "metadata": {},
   "outputs": [
    {
     "data": {
      "text/plain": [
       "'/home/jian/Projects/Big_Lots/Live_Ramp/Quarterly_Update_2019Q2/Experian_Email_Openers_Group'"
      ]
     },
     "execution_count": 1,
     "metadata": {},
     "output_type": "execute_result"
    }
   ],
   "source": [
    "import pandas as pd\n",
    "import numpy as np\n",
    "import datetime\n",
    "import os\n",
    "import gc\n",
    "os.getcwd()"
   ]
  },
  {
   "cell_type": "code",
   "execution_count": 2,
   "metadata": {
    "collapsed": true
   },
   "outputs": [],
   "source": [
    "output_folder=\"/home/jian/Projects/Big_Lots/Live_Ramp/Quarterly_Update_2019Q2/Experian_Email_Openers_Group/output/\"\n",
    "try:\n",
    "    os.stat(output_folder)\n",
    "except:\n",
    "    os.mkdir(output_folder)"
   ]
  },
  {
   "cell_type": "code",
   "execution_count": 3,
   "metadata": {},
   "outputs": [
    {
     "data": {
      "text/plain": [
       "7"
      ]
     },
     "execution_count": 3,
     "metadata": {},
     "output_type": "execute_result"
    }
   ],
   "source": [
    "Experian_data_HH=pd.read_table(\"/home/jian/BigLots/Experian/MS_Experian_HH_Full.zip\",\n",
    "                            compression=\"zip\",dtype=str,sep=\"|\",\n",
    "                            usecols=['Customer_Num','Email_Address_hash','multi_cluster','multi_cluster_desc'])\n",
    "\n",
    "Experian_data_GEO=pd.read_table(\"/home/jian/BigLots/Experian/MS_Experian_GEO_Full.zip\",\n",
    "                            compression=\"zip\",dtype=str,sep=\"|\",\n",
    "                            usecols=['Customer_Num','Email_Address_hash','multi_cluster','multi_cluster_desc'])\n",
    "Experian_data=Experian_data_HH.append(Experian_data_GEO)\n",
    "\n",
    "del Experian_data_HH\n",
    "del Experian_data_GEO\n",
    "\n",
    "gc.collect()"
   ]
  },
  {
   "cell_type": "code",
   "execution_count": 4,
   "metadata": {},
   "outputs": [
    {
     "data": {
      "text/html": [
       "<div>\n",
       "<style>\n",
       "    .dataframe thead tr:only-child th {\n",
       "        text-align: right;\n",
       "    }\n",
       "\n",
       "    .dataframe thead th {\n",
       "        text-align: left;\n",
       "    }\n",
       "\n",
       "    .dataframe tbody tr th {\n",
       "        vertical-align: top;\n",
       "    }\n",
       "</style>\n",
       "<table border=\"1\" class=\"dataframe\">\n",
       "  <thead>\n",
       "    <tr style=\"text-align: right;\">\n",
       "      <th></th>\n",
       "      <th>multi_cluster_desc</th>\n",
       "      <th>multi_cluster</th>\n",
       "      <th>ID_counts</th>\n",
       "    </tr>\n",
       "  </thead>\n",
       "  <tbody>\n",
       "    <tr>\n",
       "      <th>0</th>\n",
       "      <td>Holiday Shoppers</td>\n",
       "      <td>6</td>\n",
       "      <td>926878</td>\n",
       "    </tr>\n",
       "    <tr>\n",
       "      <th>1</th>\n",
       "      <td>Home Focused</td>\n",
       "      <td>5</td>\n",
       "      <td>2230946</td>\n",
       "    </tr>\n",
       "    <tr>\n",
       "      <th>2</th>\n",
       "      <td>Infrequent Families</td>\n",
       "      <td>3</td>\n",
       "      <td>3225551</td>\n",
       "    </tr>\n",
       "    <tr>\n",
       "      <th>3</th>\n",
       "      <td>Rising Hispanics</td>\n",
       "      <td>2</td>\n",
       "      <td>2258858</td>\n",
       "    </tr>\n",
       "    <tr>\n",
       "      <th>4</th>\n",
       "      <td>Spending Fanatics</td>\n",
       "      <td>8</td>\n",
       "      <td>974928</td>\n",
       "    </tr>\n",
       "    <tr>\n",
       "      <th>5</th>\n",
       "      <td>Sporadic Seniors</td>\n",
       "      <td>7</td>\n",
       "      <td>4202032</td>\n",
       "    </tr>\n",
       "    <tr>\n",
       "      <th>6</th>\n",
       "      <td>Starters in Need</td>\n",
       "      <td>1</td>\n",
       "      <td>2329314</td>\n",
       "    </tr>\n",
       "    <tr>\n",
       "      <th>7</th>\n",
       "      <td>Urban Affluence</td>\n",
       "      <td>4</td>\n",
       "      <td>1809867</td>\n",
       "    </tr>\n",
       "  </tbody>\n",
       "</table>\n",
       "</div>"
      ],
      "text/plain": [
       "    multi_cluster_desc multi_cluster  ID_counts\n",
       "0     Holiday Shoppers             6     926878\n",
       "1         Home Focused             5    2230946\n",
       "2  Infrequent Families             3    3225551\n",
       "3     Rising Hispanics             2    2258858\n",
       "4    Spending Fanatics             8     974928\n",
       "5     Sporadic Seniors             7    4202032\n",
       "6     Starters in Need             1    2329314\n",
       "7      Urban Affluence             4    1809867"
      ]
     },
     "execution_count": 4,
     "metadata": {},
     "output_type": "execute_result"
    }
   ],
   "source": [
    "summary_cluster=Experian_data.groupby(['multi_cluster_desc','multi_cluster'])['Email_Address_hash'].count().to_frame().reset_index()\n",
    "summary_cluster=summary_cluster.rename(columns={\"Email_Address_hash\":\"ID_counts\"})\n",
    "summary_cluster"
   ]
  },
  {
   "cell_type": "code",
   "execution_count": 5,
   "metadata": {},
   "outputs": [
    {
     "data": {
      "text/plain": [
       "(8201477, 4)"
      ]
     },
     "execution_count": 5,
     "metadata": {},
     "output_type": "execute_result"
    }
   ],
   "source": [
    "selected_clusters=set(['Home Focused','Spending Fanatics','Holiday Shoppers','Urban Affluence','Rising Hispanics'])\n",
    "Experian_data=Experian_data[Experian_data['multi_cluster_desc'].isin(selected_clusters)]\n",
    "Experian_data.shape"
   ]
  },
  {
   "cell_type": "code",
   "execution_count": 6,
   "metadata": {},
   "outputs": [],
   "source": [
    "Email_Opener=pd.read_table(\"/home/jian/BigLots/Email_Openers_received_20190405/MediaStorm_90_days_Opens_Customer_extract.zip\",\n",
    "                          dtype=str,sep=\",\",usecols=['email_address_hashed'])\n",
    "Email_Opener['Email_Type']=\"Email Openers\"\n",
    "Email_Opener=Email_Opener.rename(columns={\"email_address_hashed\":\"Email_Address_hash\"})\n",
    "Email_Opener=Email_Opener.drop_duplicates()"
   ]
  },
  {
   "cell_type": "code",
   "execution_count": 7,
   "metadata": {},
   "outputs": [
    {
     "data": {
      "text/plain": [
       "(8201477, 5)"
      ]
     },
     "execution_count": 7,
     "metadata": {},
     "output_type": "execute_result"
    }
   ],
   "source": [
    "Experian_data=pd.merge(Experian_data,Email_Opener,on=\"Email_Address_hash\",how=\"left\")\n",
    "Experian_data['Email_Type']=Experian_data['Email_Type'].fillna(\"Non-Opener\")\n",
    "Experian_data.shape"
   ]
  },
  {
   "cell_type": "code",
   "execution_count": 8,
   "metadata": {},
   "outputs": [
    {
     "data": {
      "text/html": [
       "<div>\n",
       "<style>\n",
       "    .dataframe thead tr:only-child th {\n",
       "        text-align: right;\n",
       "    }\n",
       "\n",
       "    .dataframe thead th {\n",
       "        text-align: left;\n",
       "    }\n",
       "\n",
       "    .dataframe tbody tr th {\n",
       "        vertical-align: top;\n",
       "    }\n",
       "</style>\n",
       "<table border=\"1\" class=\"dataframe\">\n",
       "  <thead>\n",
       "    <tr style=\"text-align: right;\">\n",
       "      <th></th>\n",
       "      <th>Customer_Num</th>\n",
       "      <th>Email_Address_hash</th>\n",
       "      <th>multi_cluster</th>\n",
       "      <th>multi_cluster_desc</th>\n",
       "      <th>Email_Type</th>\n",
       "    </tr>\n",
       "  </thead>\n",
       "  <tbody>\n",
       "    <tr>\n",
       "      <th>0</th>\n",
       "      <td>35340040</td>\n",
       "      <td>bf833c5d4d0ce58328e1fc4cd4ada7ff73e945b12c4d65...</td>\n",
       "      <td>8</td>\n",
       "      <td>Spending Fanatics</td>\n",
       "      <td>Non-Opener</td>\n",
       "    </tr>\n",
       "    <tr>\n",
       "      <th>1</th>\n",
       "      <td>13299531</td>\n",
       "      <td>01f6f108afdca3d1a45fe60d6df2ec1ea58fb764043dec...</td>\n",
       "      <td>6</td>\n",
       "      <td>Holiday Shoppers</td>\n",
       "      <td>Email Openers</td>\n",
       "    </tr>\n",
       "    <tr>\n",
       "      <th>2</th>\n",
       "      <td>21511658</td>\n",
       "      <td>c512a59c221fc079dd5764dd793f2a55f3d39f000a120d...</td>\n",
       "      <td>8</td>\n",
       "      <td>Spending Fanatics</td>\n",
       "      <td>Non-Opener</td>\n",
       "    </tr>\n",
       "    <tr>\n",
       "      <th>3</th>\n",
       "      <td>25264018</td>\n",
       "      <td>067e6f345391802f3506353509961d731261360ffe4036...</td>\n",
       "      <td>4</td>\n",
       "      <td>Urban Affluence</td>\n",
       "      <td>Non-Opener</td>\n",
       "    </tr>\n",
       "    <tr>\n",
       "      <th>4</th>\n",
       "      <td>16617430</td>\n",
       "      <td>f5613f432983bb27834fc46c03e5c7fae8dba61ed3c747...</td>\n",
       "      <td>6</td>\n",
       "      <td>Holiday Shoppers</td>\n",
       "      <td>Email Openers</td>\n",
       "    </tr>\n",
       "    <tr>\n",
       "      <th>5</th>\n",
       "      <td>48289389</td>\n",
       "      <td>ac1f6d49915c7e114319f097e830494e670f7d01cfa797...</td>\n",
       "      <td>5</td>\n",
       "      <td>Home Focused</td>\n",
       "      <td>Non-Opener</td>\n",
       "    </tr>\n",
       "    <tr>\n",
       "      <th>6</th>\n",
       "      <td>25792149</td>\n",
       "      <td>00c19a3944806761f6254de1a7c8a2677a9c4a5d8d739d...</td>\n",
       "      <td>4</td>\n",
       "      <td>Urban Affluence</td>\n",
       "      <td>Email Openers</td>\n",
       "    </tr>\n",
       "    <tr>\n",
       "      <th>7</th>\n",
       "      <td>18202101</td>\n",
       "      <td>0e4d8a5a60962ba182f2c74bc00a61c0b531e6cdf60426...</td>\n",
       "      <td>4</td>\n",
       "      <td>Urban Affluence</td>\n",
       "      <td>Non-Opener</td>\n",
       "    </tr>\n",
       "    <tr>\n",
       "      <th>8</th>\n",
       "      <td>13016641</td>\n",
       "      <td>170677876eec7776a72145de7c8cbb0ae2938672a7e62d...</td>\n",
       "      <td>6</td>\n",
       "      <td>Holiday Shoppers</td>\n",
       "      <td>Non-Opener</td>\n",
       "    </tr>\n",
       "    <tr>\n",
       "      <th>9</th>\n",
       "      <td>37014094</td>\n",
       "      <td>0f8a528337a8c37f78eaf4d7a5165dfa75783599df9330...</td>\n",
       "      <td>5</td>\n",
       "      <td>Home Focused</td>\n",
       "      <td>Email Openers</td>\n",
       "    </tr>\n",
       "    <tr>\n",
       "      <th>10</th>\n",
       "      <td>29226769</td>\n",
       "      <td>2297f1a929d5c8a77705970d94828b48066af86bda3548...</td>\n",
       "      <td>4</td>\n",
       "      <td>Urban Affluence</td>\n",
       "      <td>Email Openers</td>\n",
       "    </tr>\n",
       "    <tr>\n",
       "      <th>11</th>\n",
       "      <td>40666408</td>\n",
       "      <td>00ed79a4728d53c6a5ee1e57ac443febe02016fb94caa0...</td>\n",
       "      <td>6</td>\n",
       "      <td>Holiday Shoppers</td>\n",
       "      <td>Non-Opener</td>\n",
       "    </tr>\n",
       "    <tr>\n",
       "      <th>12</th>\n",
       "      <td>30264</td>\n",
       "      <td>8a010e677fa6cb5a57675d4ae15e5d001faa3aa7e35627...</td>\n",
       "      <td>8</td>\n",
       "      <td>Spending Fanatics</td>\n",
       "      <td>Email Openers</td>\n",
       "    </tr>\n",
       "    <tr>\n",
       "      <th>13</th>\n",
       "      <td>36016694</td>\n",
       "      <td>de8ec1cbc519e6e015456b9ca29c8c7d76df245357b0c4...</td>\n",
       "      <td>2</td>\n",
       "      <td>Rising Hispanics</td>\n",
       "      <td>Non-Opener</td>\n",
       "    </tr>\n",
       "    <tr>\n",
       "      <th>14</th>\n",
       "      <td>32181736</td>\n",
       "      <td>926d1380d5d28a5e585a10b3763f802693d8de353b30b2...</td>\n",
       "      <td>4</td>\n",
       "      <td>Urban Affluence</td>\n",
       "      <td>Email Openers</td>\n",
       "    </tr>\n",
       "    <tr>\n",
       "      <th>15</th>\n",
       "      <td>42920109</td>\n",
       "      <td>855ae864e425e28abb1a47616defdcd8290b0aad409a41...</td>\n",
       "      <td>5</td>\n",
       "      <td>Home Focused</td>\n",
       "      <td>Non-Opener</td>\n",
       "    </tr>\n",
       "    <tr>\n",
       "      <th>16</th>\n",
       "      <td>534636</td>\n",
       "      <td>29ab054063f346c0116fea81e9af7c5362d5a3b481dd41...</td>\n",
       "      <td>8</td>\n",
       "      <td>Spending Fanatics</td>\n",
       "      <td>Non-Opener</td>\n",
       "    </tr>\n",
       "    <tr>\n",
       "      <th>17</th>\n",
       "      <td>9211315</td>\n",
       "      <td>e0561105c6377c903fd5a0e7ae3121df44132c6223f153...</td>\n",
       "      <td>2</td>\n",
       "      <td>Rising Hispanics</td>\n",
       "      <td>Non-Opener</td>\n",
       "    </tr>\n",
       "    <tr>\n",
       "      <th>18</th>\n",
       "      <td>25514327</td>\n",
       "      <td>e0f4ef300446898fe990a031e6e7255fbb5a80d2aaba60...</td>\n",
       "      <td>4</td>\n",
       "      <td>Urban Affluence</td>\n",
       "      <td>Email Openers</td>\n",
       "    </tr>\n",
       "    <tr>\n",
       "      <th>19</th>\n",
       "      <td>15233385</td>\n",
       "      <td>33cabcd44072da00dfc3f541136c22475ef397de7831c7...</td>\n",
       "      <td>4</td>\n",
       "      <td>Urban Affluence</td>\n",
       "      <td>Non-Opener</td>\n",
       "    </tr>\n",
       "  </tbody>\n",
       "</table>\n",
       "</div>"
      ],
      "text/plain": [
       "   Customer_Num                                 Email_Address_hash  \\\n",
       "0      35340040  bf833c5d4d0ce58328e1fc4cd4ada7ff73e945b12c4d65...   \n",
       "1      13299531  01f6f108afdca3d1a45fe60d6df2ec1ea58fb764043dec...   \n",
       "2      21511658  c512a59c221fc079dd5764dd793f2a55f3d39f000a120d...   \n",
       "3      25264018  067e6f345391802f3506353509961d731261360ffe4036...   \n",
       "4      16617430  f5613f432983bb27834fc46c03e5c7fae8dba61ed3c747...   \n",
       "5      48289389  ac1f6d49915c7e114319f097e830494e670f7d01cfa797...   \n",
       "6      25792149  00c19a3944806761f6254de1a7c8a2677a9c4a5d8d739d...   \n",
       "7      18202101  0e4d8a5a60962ba182f2c74bc00a61c0b531e6cdf60426...   \n",
       "8      13016641  170677876eec7776a72145de7c8cbb0ae2938672a7e62d...   \n",
       "9      37014094  0f8a528337a8c37f78eaf4d7a5165dfa75783599df9330...   \n",
       "10     29226769  2297f1a929d5c8a77705970d94828b48066af86bda3548...   \n",
       "11     40666408  00ed79a4728d53c6a5ee1e57ac443febe02016fb94caa0...   \n",
       "12        30264  8a010e677fa6cb5a57675d4ae15e5d001faa3aa7e35627...   \n",
       "13     36016694  de8ec1cbc519e6e015456b9ca29c8c7d76df245357b0c4...   \n",
       "14     32181736  926d1380d5d28a5e585a10b3763f802693d8de353b30b2...   \n",
       "15     42920109  855ae864e425e28abb1a47616defdcd8290b0aad409a41...   \n",
       "16       534636  29ab054063f346c0116fea81e9af7c5362d5a3b481dd41...   \n",
       "17      9211315  e0561105c6377c903fd5a0e7ae3121df44132c6223f153...   \n",
       "18     25514327  e0f4ef300446898fe990a031e6e7255fbb5a80d2aaba60...   \n",
       "19     15233385  33cabcd44072da00dfc3f541136c22475ef397de7831c7...   \n",
       "\n",
       "   multi_cluster multi_cluster_desc     Email_Type  \n",
       "0              8  Spending Fanatics     Non-Opener  \n",
       "1              6   Holiday Shoppers  Email Openers  \n",
       "2              8  Spending Fanatics     Non-Opener  \n",
       "3              4    Urban Affluence     Non-Opener  \n",
       "4              6   Holiday Shoppers  Email Openers  \n",
       "5              5       Home Focused     Non-Opener  \n",
       "6              4    Urban Affluence  Email Openers  \n",
       "7              4    Urban Affluence     Non-Opener  \n",
       "8              6   Holiday Shoppers     Non-Opener  \n",
       "9              5       Home Focused  Email Openers  \n",
       "10             4    Urban Affluence  Email Openers  \n",
       "11             6   Holiday Shoppers     Non-Opener  \n",
       "12             8  Spending Fanatics  Email Openers  \n",
       "13             2   Rising Hispanics     Non-Opener  \n",
       "14             4    Urban Affluence  Email Openers  \n",
       "15             5       Home Focused     Non-Opener  \n",
       "16             8  Spending Fanatics     Non-Opener  \n",
       "17             2   Rising Hispanics     Non-Opener  \n",
       "18             4    Urban Affluence  Email Openers  \n",
       "19             4    Urban Affluence     Non-Opener  "
      ]
     },
     "execution_count": 8,
     "metadata": {},
     "output_type": "execute_result"
    }
   ],
   "source": [
    "Experian_data.head(20)"
   ]
  },
  {
   "cell_type": "code",
   "execution_count": 18,
   "metadata": {},
   "outputs": [
    {
     "name": "stdout",
     "output_type": "stream",
     "text": [
      "(8201477, 6)\n"
     ]
    },
    {
     "data": {
      "text/html": [
       "<div>\n",
       "<style>\n",
       "    .dataframe thead tr:only-child th {\n",
       "        text-align: right;\n",
       "    }\n",
       "\n",
       "    .dataframe thead th {\n",
       "        text-align: left;\n",
       "    }\n",
       "\n",
       "    .dataframe tbody tr th {\n",
       "        vertical-align: top;\n",
       "    }\n",
       "</style>\n",
       "<table border=\"1\" class=\"dataframe\">\n",
       "  <thead>\n",
       "    <tr style=\"text-align: right;\">\n",
       "      <th></th>\n",
       "      <th>Customer_Num</th>\n",
       "      <th>Email_Address_hash</th>\n",
       "      <th>multi_cluster</th>\n",
       "      <th>multi_cluster_desc</th>\n",
       "      <th>Email_Type</th>\n",
       "      <th>T_C_group</th>\n",
       "    </tr>\n",
       "  </thead>\n",
       "  <tbody>\n",
       "    <tr>\n",
       "      <th>0</th>\n",
       "      <td>13299531</td>\n",
       "      <td>01f6f108afdca3d1a45fe60d6df2ec1ea58fb764043dec...</td>\n",
       "      <td>6</td>\n",
       "      <td>Holiday Shoppers</td>\n",
       "      <td>Email Openers</td>\n",
       "      <td>Test</td>\n",
       "    </tr>\n",
       "    <tr>\n",
       "      <th>1</th>\n",
       "      <td>16617430</td>\n",
       "      <td>f5613f432983bb27834fc46c03e5c7fae8dba61ed3c747...</td>\n",
       "      <td>6</td>\n",
       "      <td>Holiday Shoppers</td>\n",
       "      <td>Email Openers</td>\n",
       "      <td>Test</td>\n",
       "    </tr>\n",
       "  </tbody>\n",
       "</table>\n",
       "</div>"
      ],
      "text/plain": [
       "  Customer_Num                                 Email_Address_hash  \\\n",
       "0     13299531  01f6f108afdca3d1a45fe60d6df2ec1ea58fb764043dec...   \n",
       "1     16617430  f5613f432983bb27834fc46c03e5c7fae8dba61ed3c747...   \n",
       "\n",
       "  multi_cluster multi_cluster_desc     Email_Type T_C_group  \n",
       "0             6   Holiday Shoppers  Email Openers      Test  \n",
       "1             6   Holiday Shoppers  Email Openers      Test  "
      ]
     },
     "execution_count": 18,
     "metadata": {},
     "output_type": "execute_result"
    }
   ],
   "source": [
    "Experian_output=pd.DataFrame()\n",
    "import random\n",
    "random.seed(20190410)\n",
    "for ind,group in Experian_data.groupby(['multi_cluster_desc','Email_Type']):\n",
    "    total_rows=len(group)\n",
    "    group=group.reset_index()\n",
    "    del group['index']\n",
    "    group=group.reset_index()\n",
    "    \n",
    "    control_group_list=random.sample(range(total_rows),int(np.floor(total_rows*0.05)))\n",
    "    control_group_df=pd.DataFrame({\"index\":control_group_list})\n",
    "    control_group_df['T_C_group']=\"Control\"\n",
    "    group=pd.merge(group,control_group_df,on=\"index\",how=\"left\")\n",
    "    group['T_C_group']=group['T_C_group'].fillna(\"Test\")\n",
    "    del group['index']\n",
    "    Experian_output=Experian_output.append(group)\n",
    "    \n",
    "print(Experian_output.shape)\n",
    "\n",
    "Experian_output.head(2)"
   ]
  },
  {
   "cell_type": "code",
   "execution_count": 29,
   "metadata": {
    "collapsed": true
   },
   "outputs": [],
   "source": [
    "Experian_output['segment']=Experian_output['T_C_group']+\" | \"+Experian_output['multi_cluster_desc']+\" | \"+Experian_output['Email_Type']\n"
   ]
  },
  {
   "cell_type": "code",
   "execution_count": 28,
   "metadata": {},
   "outputs": [
    {
     "data": {
      "text/html": [
       "<div>\n",
       "<style>\n",
       "    .dataframe thead tr:only-child th {\n",
       "        text-align: right;\n",
       "    }\n",
       "\n",
       "    .dataframe thead th {\n",
       "        text-align: left;\n",
       "    }\n",
       "\n",
       "    .dataframe tbody tr th {\n",
       "        vertical-align: top;\n",
       "    }\n",
       "</style>\n",
       "<table border=\"1\" class=\"dataframe\">\n",
       "  <thead>\n",
       "    <tr style=\"text-align: right;\">\n",
       "      <th></th>\n",
       "      <th>Customer_Num</th>\n",
       "      <th>Email_Address_hash</th>\n",
       "      <th>multi_cluster</th>\n",
       "      <th>multi_cluster_desc</th>\n",
       "      <th>Email_Type</th>\n",
       "      <th>T_C_group</th>\n",
       "      <th>segment</th>\n",
       "      <th>customer_id_hashed</th>\n",
       "    </tr>\n",
       "  </thead>\n",
       "  <tbody>\n",
       "    <tr>\n",
       "      <th>1192185</th>\n",
       "      <td>43223881</td>\n",
       "      <td>504911b893b063b1db81b8fc86941c960a7fef95e69178...</td>\n",
       "      <td>4</td>\n",
       "      <td>Urban Affluence</td>\n",
       "      <td>Non-Opener</td>\n",
       "      <td>Test</td>\n",
       "      <td>Test|Urban Affluence|Non-Opener</td>\n",
       "      <td>5e1c4eb46043580ac3a48eaff9cd313be21ee0f6f25310...</td>\n",
       "    </tr>\n",
       "    <tr>\n",
       "      <th>1192186</th>\n",
       "      <td>18111854</td>\n",
       "      <td>e10b077d8b09594b69d2da6aec7c9a9475f49afcc352ea...</td>\n",
       "      <td>4</td>\n",
       "      <td>Urban Affluence</td>\n",
       "      <td>Non-Opener</td>\n",
       "      <td>Test</td>\n",
       "      <td>Test|Urban Affluence|Non-Opener</td>\n",
       "      <td>8c292deac20622b0ea7b57d91ba5da4c77c1db066acfc1...</td>\n",
       "    </tr>\n",
       "  </tbody>\n",
       "</table>\n",
       "</div>"
      ],
      "text/plain": [
       "        Customer_Num                                 Email_Address_hash  \\\n",
       "1192185     43223881  504911b893b063b1db81b8fc86941c960a7fef95e69178...   \n",
       "1192186     18111854  e10b077d8b09594b69d2da6aec7c9a9475f49afcc352ea...   \n",
       "\n",
       "        multi_cluster multi_cluster_desc  Email_Type T_C_group  \\\n",
       "1192185             4    Urban Affluence  Non-Opener      Test   \n",
       "1192186             4    Urban Affluence  Non-Opener      Test   \n",
       "\n",
       "                                 segment  \\\n",
       "1192185  Test|Urban Affluence|Non-Opener   \n",
       "1192186  Test|Urban Affluence|Non-Opener   \n",
       "\n",
       "                                        customer_id_hashed  \n",
       "1192185  5e1c4eb46043580ac3a48eaff9cd313be21ee0f6f25310...  \n",
       "1192186  8c292deac20622b0ea7b57d91ba5da4c77c1db066acfc1...  "
      ]
     },
     "execution_count": 28,
     "metadata": {},
     "output_type": "execute_result"
    }
   ],
   "source": [
    "Experian_output.tail(2)"
   ]
  },
  {
   "cell_type": "code",
   "execution_count": 27,
   "metadata": {
    "collapsed": true
   },
   "outputs": [],
   "source": [
    "import hashlib\n",
    "Experian_output['customer_id_hashed']=Experian_output['Customer_Num'].apply(lambda x: hashlib.sha256(x.encode('utf-8')).hexdigest())\n"
   ]
  },
  {
   "cell_type": "code",
   "execution_count": 36,
   "metadata": {
    "collapsed": true
   },
   "outputs": [],
   "source": [
    "for seg,group in Experian_output.groupby('segment'):\n",
    "    group=group[['customer_id_hashed','Email_Address_hash','segment']]\n",
    "    file_name=seg[0]+\"_\"+seg.split(\"|\")[1]+\"_\"+seg.split(\"|\")[2]\n",
    "    file_name=file_name.replace(\" \",\"\")\n",
    "    group.to_csv(output_folder+\"BL_Experian_segment_of_\"+file_name+\"_\"+str(datetime.datetime.now().date())+\".csv\",index=False)"
   ]
  },
  {
   "cell_type": "code",
   "execution_count": 37,
   "metadata": {},
   "outputs": [],
   "source": [
    "Experian_output_summary=Experian_output.groupby(['segment','multi_cluster_desc','Email_Type','T_C_group'])['Email_Address_hash'].count().to_frame().reset_index()\n",
    "Experian_output_summary=Experian_output_summary.rename(columns={\"Email_Address_hash\":\"Email_Counts\"})\n"
   ]
  },
  {
   "cell_type": "code",
   "execution_count": 38,
   "metadata": {
    "collapsed": true
   },
   "outputs": [],
   "source": [
    "Experian_output_summary.to_csv(output_folder+\"BL_Experian_segment_summary_JL_\"+str(datetime.datetime.now().date())+\".csv\",index=False)\n"
   ]
  },
  {
   "cell_type": "code",
   "execution_count": null,
   "metadata": {
    "collapsed": true
   },
   "outputs": [],
   "source": []
  }
 ],
 "metadata": {
  "kernelspec": {
   "display_name": "Python 3",
   "language": "python",
   "name": "python3"
  },
  "language_info": {
   "codemirror_mode": {
    "name": "ipython",
    "version": 3
   },
   "file_extension": ".py",
   "mimetype": "text/x-python",
   "name": "python",
   "nbconvert_exporter": "python",
   "pygments_lexer": "ipython3",
   "version": "3.6.1"
  }
 },
 "nbformat": 4,
 "nbformat_minor": 2
}
