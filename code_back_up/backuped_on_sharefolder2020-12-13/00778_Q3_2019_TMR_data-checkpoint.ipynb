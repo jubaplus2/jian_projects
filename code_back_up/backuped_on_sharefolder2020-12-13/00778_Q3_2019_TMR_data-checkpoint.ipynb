{
 "cells": [
  {
   "cell_type": "code",
   "execution_count": 1,
   "metadata": {},
   "outputs": [
    {
     "data": {
      "text/plain": [
       "'/home/jian/Projects/Big_Lots/TMR/TMR_data/Up_to_2019Q3'"
      ]
     },
     "execution_count": 1,
     "metadata": {},
     "output_type": "execute_result"
    }
   ],
   "source": [
    "import pandas as pd\n",
    "import numpy as np\n",
    "import os\n",
    "import datetime\n",
    "os.getcwd()\n",
    "\n",
    "# Note email cpm updated based on the Q4 client number\n",
    "# Flipp hosted not included in wide version"
   ]
  },
  {
   "cell_type": "code",
   "execution_count": 2,
   "metadata": {},
   "outputs": [],
   "source": [
    "TMR_up_to_2019Q2=pd.read_csv(\"/home/jian/Projects/Big_Lots/TMR/TMR_data/Up_to_2019Q2/output/BL_MMM_long_cumu_up_to_2019Q2_JL_2019-11-15.csv\",dtype=str)\n",
    "TMR_up_to_2019Q2['impression']=TMR_up_to_2019Q2['impression'].astype(float).astype(int)\n",
    "TMR_up_to_2019Q2['click']=TMR_up_to_2019Q2['click'].astype(float).astype(int)\n",
    "TMR_up_to_2019Q2['cost']=TMR_up_to_2019Q2['cost'].astype(float)\n"
   ]
  },
  {
   "cell_type": "code",
   "execution_count": 3,
   "metadata": {},
   "outputs": [
    {
     "name": "stdout",
     "output_type": "stream",
     "text": [
      "2016-09-25\n",
      "2019-07-28\n"
     ]
    }
   ],
   "source": [
    "TMR_up_to_2019Q2_no_DMA=TMR_up_to_2019Q2.groupby([\"week date\",\"media\",\"submedia\",\"placement\"])['impression','click','cost'].sum().reset_index()\n",
    "print(TMR_up_to_2019Q2_no_DMA['week date'].min())\n",
    "print(TMR_up_to_2019Q2_no_DMA['week date'].max())\n",
    "# TMR_up_to_2019Q2_no_DMA"
   ]
  },
  {
   "cell_type": "code",
   "execution_count": 4,
   "metadata": {},
   "outputs": [
    {
     "data": {
      "text/html": [
       "<div>\n",
       "<style scoped>\n",
       "    .dataframe tbody tr th:only-of-type {\n",
       "        vertical-align: middle;\n",
       "    }\n",
       "\n",
       "    .dataframe tbody tr th {\n",
       "        vertical-align: top;\n",
       "    }\n",
       "\n",
       "    .dataframe thead th {\n",
       "        text-align: right;\n",
       "    }\n",
       "</style>\n",
       "<table border=\"1\" class=\"dataframe\">\n",
       "  <thead>\n",
       "    <tr style=\"text-align: right;\">\n",
       "      <th></th>\n",
       "      <th>week date</th>\n",
       "      <th>media</th>\n",
       "      <th>submedia</th>\n",
       "      <th>placement</th>\n",
       "      <th>impression</th>\n",
       "      <th>click</th>\n",
       "      <th>cost</th>\n",
       "    </tr>\n",
       "  </thead>\n",
       "  <tbody>\n",
       "    <tr>\n",
       "      <th>0</th>\n",
       "      <td>2016-09-25</td>\n",
       "      <td>Email</td>\n",
       "      <td>xx</td>\n",
       "      <td>xx</td>\n",
       "      <td>11581550</td>\n",
       "      <td>113834</td>\n",
       "      <td>5278.691191</td>\n",
       "    </tr>\n",
       "    <tr>\n",
       "      <th>1</th>\n",
       "      <td>2016-10-02</td>\n",
       "      <td>Digital</td>\n",
       "      <td>Flipp</td>\n",
       "      <td>Flipp App</td>\n",
       "      <td>74691</td>\n",
       "      <td>37222</td>\n",
       "      <td>10794.380000</td>\n",
       "    </tr>\n",
       "  </tbody>\n",
       "</table>\n",
       "</div>"
      ],
      "text/plain": [
       "    week date    media submedia  placement  impression   click          cost\n",
       "0  2016-09-25    Email       xx         xx    11581550  113834   5278.691191\n",
       "1  2016-10-02  Digital    Flipp  Flipp App       74691   37222  10794.380000"
      ]
     },
     "execution_count": 4,
     "metadata": {},
     "output_type": "execute_result"
    }
   ],
   "source": [
    "TMR_up_to_2019Q2_no_DMA.head(2)"
   ]
  },
  {
   "cell_type": "code",
   "execution_count": 5,
   "metadata": {},
   "outputs": [
    {
     "data": {
      "text/plain": [
       "(6524, 7)"
      ]
     },
     "execution_count": 5,
     "metadata": {},
     "output_type": "execute_result"
    }
   ],
   "source": [
    "TMR_up_to_2019Q2_no_DMA.shape"
   ]
  },
  {
   "cell_type": "code",
   "execution_count": 6,
   "metadata": {},
   "outputs": [],
   "source": [
    "def get_week_end_date_BL(x):\n",
    "    if x.weekday()==6:\n",
    "        y=x+datetime.timedelta(days=6)\n",
    "    else:\n",
    "        y=x+datetime.timedelta(days=5-x.weekday())\n",
    "    return y"
   ]
  },
  {
   "cell_type": "code",
   "execution_count": 7,
   "metadata": {},
   "outputs": [
    {
     "name": "stdout",
     "output_type": "stream",
     "text": [
      "5\n",
      "['2018-08-12' '2018-08-19' '2018-08-26' '2018-09-02' '2018-10-28']\n",
      "85485096\n",
      "1515200.3429999999\n"
     ]
    }
   ],
   "source": [
    "tv_18Q3_qc=TMR_up_to_2019Q2_no_DMA[TMR_up_to_2019Q2_no_DMA['media']==\"TV\"]\n",
    "tv_18Q3_qc=tv_18Q3_qc[tv_18Q3_qc['week date']>=\"2018-08-04\"]\n",
    "tv_18Q3_qc=tv_18Q3_qc[tv_18Q3_qc['week date']<=\"2018-11-03\"]\n",
    "\n",
    "print(tv_18Q3_qc['week date'].nunique())\n",
    "print(tv_18Q3_qc['week date'].unique())\n",
    "print(tv_18Q3_qc['impression'].sum())\n",
    "print(tv_18Q3_qc['cost'].sum())\n"
   ]
  },
  {
   "cell_type": "markdown",
   "metadata": {},
   "source": [
    "# TV"
   ]
  },
  {
   "cell_type": "code",
   "execution_count": 8,
   "metadata": {},
   "outputs": [],
   "source": [
    "# Email: Big Lots 2019Q3 TMR data about TV and Circulation from Faith, Friday, February 21, 2020 at 11:02 AM\n",
    "'''\n",
    "Media                                                   Total Net\n",
    "National Cable (DR)                         $340,349 (includes spots in DRTV Market and local Continuum)\n",
    "National Cable                              $650,096\n",
    "\n",
    "# The unrated cleo is under DRTV, but since it's unrated and confirmed with Faith on 0228, it's OK to ignore this part\n",
    "'''\n",
    "TV_TMR_data=pd.DataFrame()"
   ]
  },
  {
   "cell_type": "code",
   "execution_count": 9,
   "metadata": {
    "scrolled": true
   },
   "outputs": [
    {
     "name": "stdout",
     "output_type": "stream",
     "text": [
      "['Nat Cable 2019', 'Local', 'MS', 'DRTV 2019', 'Cleo TV', 'Details 8.26', 'Details 9.2']\n",
      "(1125, 19) (71895, 11)\n"
     ]
    }
   ],
   "source": [
    "TV_logs=pd.ExcelFile(\"/home/jian/Projects/Big_Lots/TMR/TMR_data/Up_to_2019Q3/input_2019Q3/Big Lots Q3 2019 National TMR - 3.3.2020.xlsx\")\n",
    "print(TV_logs.sheet_names)\n",
    "df_TV_national=TV_logs.parse(\"Nat Cable 2019\",dtype=str,skiprows=2)\n",
    "df_TV_local=TV_logs.parse(\"Local\",dtype=str,skiprows=2)\n",
    "\n",
    "print(df_TV_national.shape,df_TV_local.shape)"
   ]
  },
  {
   "cell_type": "code",
   "execution_count": 10,
   "metadata": {},
   "outputs": [
    {
     "name": "stdout",
     "output_type": "stream",
     "text": [
      "sum_national_cable_impr 42761695.0\n",
      "df_TV_national_Cable['cost'].sum() 650096.0\n"
     ]
    },
    {
     "name": "stderr",
     "output_type": "stream",
     "text": [
      "/home/jian/.local/lib/python3.6/site-packages/ipykernel_launcher.py:16: SettingWithCopyWarning: \n",
      "A value is trying to be set on a copy of a slice from a DataFrame.\n",
      "Try using .loc[row_indexer,col_indexer] = value instead\n",
      "\n",
      "See the caveats in the documentation: http://pandas.pydata.org/pandas-docs/stable/user_guide/indexing.html#returning-a-view-versus-a-copy\n",
      "  app.launch_new_instance()\n"
     ]
    }
   ],
   "source": [
    "df_TV_national=df_TV_national[[\"Q3 2019\",'National',\"Network\",\"Air Date\",' Imp - Women 25-54']]\n",
    "df_TV_national=df_TV_national.rename(columns={\"Network\":\"placement\"})\n",
    "df_TV_national['date']=df_TV_national['Air Date'].apply(lambda x: datetime.datetime.strptime(x,\" %m/%d/%y\").date() if \"/\" in x else datetime.datetime.strptime(x,\"%Y-%m-%d %H:%M:%S\").date())\n",
    "df_TV_national['impression']=df_TV_national[' Imp - Women 25-54'].astype(float)\n",
    "\n",
    "df_TV_national['media']=\"TV\"\n",
    "df_TV_national['submedia']=\"National\"\n",
    "df_TV_national['click']=0\n",
    "df_TV_national['week date']=df_TV_national['date'].apply(get_week_end_date_BL)\n",
    "df_TV_national['week date']=df_TV_national['week date'].apply(lambda x: x-datetime.timedelta(days=6))\n",
    "\n",
    "df_TV_national_Cable=df_TV_national[df_TV_national['National']==\"National\"]\n",
    "sum_national_cable_impr=df_TV_national_Cable['impression'].sum()\n",
    "print(\"sum_national_cable_impr\",sum_national_cable_impr)\n",
    "# 650,096 from email, Faith, Friday, February 28, 2020 at 5:41 PM\n",
    "df_TV_national_Cable['cost']=df_TV_national_Cable['impression']/sum_national_cable_impr*650096\n",
    "df_TV_national_Cable=df_TV_national_Cable[TMR_up_to_2019Q2_no_DMA.columns.tolist()]\n",
    "print(\"df_TV_national_Cable['cost'].sum()\",df_TV_national_Cable['cost'].sum())\n"
   ]
  },
  {
   "cell_type": "code",
   "execution_count": 11,
   "metadata": {},
   "outputs": [
    {
     "name": "stdout",
     "output_type": "stream",
     "text": [
      "['DRTV']\n",
      "sum_local_and_DTV_impr 21392365.312499244\n",
      "df_TV_local_and_DTV['cost'].sum() 340349.0\n"
     ]
    },
    {
     "name": "stderr",
     "output_type": "stream",
     "text": [
      "/home/jian/.local/lib/python3.6/site-packages/pandas/core/frame.py:7138: FutureWarning: Sorting because non-concatenation axis is not aligned. A future version\n",
      "of pandas will change to not sort by default.\n",
      "\n",
      "To accept the future behavior, pass 'sort=False'.\n",
      "\n",
      "To retain the current behavior and silence the warning, pass 'sort=True'.\n",
      "\n",
      "  sort=sort,\n"
     ]
    }
   ],
   "source": [
    "df_TV_national_DRTV=df_TV_national[df_TV_national['National']!=\"National\"]\n",
    "print(df_TV_national_DRTV['National'].unique())\n",
    "\n",
    "df_TV_local=df_TV_local[['Network','Air Date',' Imp - Women 25-54']].rename(columns={\" Imp - Women 25-54\":\"impression\"})\n",
    "df_TV_local['impression']=df_TV_local['impression'].astype(float)\n",
    "df_TV_local['date']=df_TV_local['Air Date'].apply(lambda x: datetime.datetime.strptime(x,\" %m/%d/%y\").date() if \"/\" in x else datetime.datetime.strptime(x,\"%Y-%m-%d %H:%M:%S\").date())\n",
    "\n",
    "\n",
    "df_TV_local=df_TV_local.rename(columns={\"Network\":\"placement\"})\n",
    "df_TV_local['media']=\"TV\"\n",
    "df_TV_local['submedia']=\"Local\"\n",
    "df_TV_local['click']=0\n",
    "df_TV_local['week date']=df_TV_local['date'].apply(get_week_end_date_BL)\n",
    "df_TV_local['week date']=df_TV_local['week date'].apply(lambda x: x-datetime.timedelta(days=6))\n",
    "\n",
    "\n",
    "df_TV_local_and_DTV=df_TV_local.append(df_TV_national_DRTV)\n",
    "sum_local_and_DTV_impr=df_TV_local_and_DTV['impression'].sum()\n",
    "print(\"sum_local_and_DTV_impr\",sum_local_and_DTV_impr)\n",
    "# 340,349 from email, Faith, Friday, February 28, 2020 at 5:41 PM\n",
    "df_TV_local_and_DTV['cost']=df_TV_local_and_DTV['impression']/sum_local_and_DTV_impr*340349\n",
    "\n",
    "df_TV_local_and_DTV=df_TV_local_and_DTV[TMR_up_to_2019Q2_no_DMA.columns.tolist()]\n",
    "print(\"df_TV_local_and_DTV['cost'].sum()\",df_TV_local_and_DTV['cost'].sum())\n"
   ]
  },
  {
   "cell_type": "code",
   "execution_count": 12,
   "metadata": {},
   "outputs": [
    {
     "name": "stdout",
     "output_type": "stream",
     "text": [
      "TV_TMR_data['cost'].sum() 990445.0\n",
      "TV_TMR_data['impression'].sum() 64154060.31249925\n"
     ]
    }
   ],
   "source": [
    "TV_TMR_data=df_TV_national_Cable.append(df_TV_local_and_DTV)\n",
    "TV_TMR_data['week date']=TV_TMR_data['week date'].astype(str)\n",
    "print(\"TV_TMR_data['cost'].sum()\",TV_TMR_data['cost'].sum())\n",
    "print(\"TV_TMR_data['impression'].sum()\",TV_TMR_data['impression'].sum())\n",
    "\n",
    "df_TV_summary=TV_TMR_data.groupby(['submedia'])['impression','cost'].sum().reset_index()\n",
    "df_TV_summary['impression']=df_TV_summary['impression'].astype(int)\n"
   ]
  },
  {
   "cell_type": "markdown",
   "metadata": {},
   "source": [
    "# Others"
   ]
  },
  {
   "cell_type": "code",
   "execution_count": 13,
   "metadata": {},
   "outputs": [],
   "source": [
    "Others_TMR_week=pd.read_excel(\"/home/jian/Projects/Big_Lots/TMR/TMR_data/Up_to_2019Q3/input_2019Q3/DatoramaData_2019Q3_0804-1102.xlsx\",\n",
    "                              dtype=str,sheet_name=\"TMR\")\n",
    "Others_TMR_week=Others_TMR_week.rename(columns={\"Week\":\"week date\",\"Media\":\"media\",\"Submedia\":\"submedia\",\"Placement\":\"placement\",\n",
    "                                               \"Impressions\":\"impression\",\"Clicks\":\"click\",\"Cost\":\"cost\"})\n",
    "Others_TMR_week['week date']=Others_TMR_week['week date'].apply(lambda x: x[:10])\n",
    "Others_TMR_week['impression']=Others_TMR_week['impression'].fillna(0).astype(float).astype(int)\n",
    "Others_TMR_week['click']=Others_TMR_week['click'].fillna(0).astype(float).astype(int)\n",
    "Others_TMR_week['cost']=Others_TMR_week['cost'].fillna(0).astype(float)\n"
   ]
  },
  {
   "cell_type": "markdown",
   "metadata": {},
   "source": [
    "### Revise Emails"
   ]
  },
  {
   "cell_type": "code",
   "execution_count": 14,
   "metadata": {},
   "outputs": [
    {
     "data": {
      "text/plain": [
       "(2453671772, 1118345.60723082)"
      ]
     },
     "execution_count": 14,
     "metadata": {},
     "output_type": "execute_result"
    }
   ],
   "source": [
    "Others_TMR_week_1=Others_TMR_week[Others_TMR_week['media']!=\"Email\"]\n",
    "Others_TMR_week_2=Others_TMR_week[Others_TMR_week['media']==\"Email\"]\n",
    "Others_TMR_week_2['impression'].sum(),Others_TMR_week_2['cost'].sum()"
   ]
  },
  {
   "cell_type": "code",
   "execution_count": 15,
   "metadata": {},
   "outputs": [
    {
     "name": "stdout",
     "output_type": "stream",
     "text": [
      "0.00026095319799501304\n",
      "0.26095319799501304\n"
     ]
    },
    {
     "name": "stderr",
     "output_type": "stream",
     "text": [
      "/home/jian/.local/lib/python3.6/site-packages/ipykernel_launcher.py:12: SettingWithCopyWarning: \n",
      "A value is trying to be set on a copy of a slice from a DataFrame.\n",
      "Try using .loc[row_indexer,col_indexer] = value instead\n",
      "\n",
      "See the caveats in the documentation: http://pandas.pydata.org/pandas-docs/stable/user_guide/indexing.html#returning-a-view-versus-a-copy\n",
      "  if sys.path[0] == '':\n"
     ]
    }
   ],
   "source": [
    "# Based on the 2019Q2 number\n",
    "# BL - Email cost request for Media Mix model\n",
    "# Email from Ollhoff, Dominic <dollhoff@biglots.com>, Friday, November 15, 2019 at 1:42 PM\n",
    "\n",
    "# If not I show that Q2 cost was $530,690 for 2.042B e-mails.\n",
    "\n",
    "\n",
    "email_cost_client=530690\n",
    "email_cost_impression=2033659691 # the actual number we have\n",
    "new_email_c_p_impr=email_cost_client/email_cost_impression\n",
    "print(new_email_c_p_impr)\n",
    "Others_TMR_week_2['cost']=Others_TMR_week_2['impression']*new_email_c_p_impr\n",
    "print(new_email_c_p_impr*1000)"
   ]
  },
  {
   "cell_type": "code",
   "execution_count": 16,
   "metadata": {},
   "outputs": [
    {
     "name": "stdout",
     "output_type": "stream",
     "text": [
      "2019-08-04\n",
      "2019-10-27\n"
     ]
    }
   ],
   "source": [
    "print(Others_TMR_week_2['week date'].min())\n",
    "print(Others_TMR_week_2['week date'].max())\n",
    "\n",
    "Others_TMR_week=Others_TMR_week_1.append(Others_TMR_week_2)"
   ]
  },
  {
   "cell_type": "markdown",
   "metadata": {},
   "source": [
    "## Add Print Circ"
   ]
  },
  {
   "cell_type": "code",
   "execution_count": 17,
   "metadata": {},
   "outputs": [
    {
     "data": {
      "text/html": [
       "<div>\n",
       "<style scoped>\n",
       "    .dataframe tbody tr th:only-of-type {\n",
       "        vertical-align: middle;\n",
       "    }\n",
       "\n",
       "    .dataframe tbody tr th {\n",
       "        vertical-align: top;\n",
       "    }\n",
       "\n",
       "    .dataframe thead th {\n",
       "        text-align: right;\n",
       "    }\n",
       "</style>\n",
       "<table border=\"1\" class=\"dataframe\">\n",
       "  <thead>\n",
       "    <tr style=\"text-align: right;\">\n",
       "      <th></th>\n",
       "      <th>week date</th>\n",
       "      <th>impression</th>\n",
       "      <th>cost</th>\n",
       "    </tr>\n",
       "  </thead>\n",
       "  <tbody>\n",
       "    <tr>\n",
       "      <th>0</th>\n",
       "      <td>2019-08-04 00:00:00</td>\n",
       "      <td>0</td>\n",
       "      <td>0.000000e+00</td>\n",
       "    </tr>\n",
       "    <tr>\n",
       "      <th>1</th>\n",
       "      <td>2019-08-11 00:00:00</td>\n",
       "      <td>0</td>\n",
       "      <td>0.000000e+00</td>\n",
       "    </tr>\n",
       "    <tr>\n",
       "      <th>2</th>\n",
       "      <td>2019-08-18 00:00:00</td>\n",
       "      <td>0</td>\n",
       "      <td>0.000000e+00</td>\n",
       "    </tr>\n",
       "    <tr>\n",
       "      <th>3</th>\n",
       "      <td>2019-08-25 00:00:00</td>\n",
       "      <td>12478759</td>\n",
       "      <td>7.411242e+05</td>\n",
       "    </tr>\n",
       "    <tr>\n",
       "      <th>4</th>\n",
       "      <td>2019-09-01 00:00:00</td>\n",
       "      <td>14742974</td>\n",
       "      <td>8.539707e+05</td>\n",
       "    </tr>\n",
       "    <tr>\n",
       "      <th>5</th>\n",
       "      <td>2019-09-08 00:00:00</td>\n",
       "      <td>0</td>\n",
       "      <td>0.000000e+00</td>\n",
       "    </tr>\n",
       "    <tr>\n",
       "      <th>6</th>\n",
       "      <td>2019-09-15 00:00:00</td>\n",
       "      <td>14321485</td>\n",
       "      <td>6.923081e+05</td>\n",
       "    </tr>\n",
       "    <tr>\n",
       "      <th>7</th>\n",
       "      <td>2019-09-22 00:00:00</td>\n",
       "      <td>0</td>\n",
       "      <td>0.000000e+00</td>\n",
       "    </tr>\n",
       "    <tr>\n",
       "      <th>8</th>\n",
       "      <td>2019-09-29 00:00:00</td>\n",
       "      <td>0</td>\n",
       "      <td>0.000000e+00</td>\n",
       "    </tr>\n",
       "    <tr>\n",
       "      <th>9</th>\n",
       "      <td>2019-10-06 00:00:00</td>\n",
       "      <td>14569743</td>\n",
       "      <td>1.010069e+06</td>\n",
       "    </tr>\n",
       "    <tr>\n",
       "      <th>10</th>\n",
       "      <td>2019-10-13 00:00:00</td>\n",
       "      <td>0</td>\n",
       "      <td>0.000000e+00</td>\n",
       "    </tr>\n",
       "    <tr>\n",
       "      <th>11</th>\n",
       "      <td>2019-10-20 00:00:00</td>\n",
       "      <td>14250213</td>\n",
       "      <td>8.055580e+05</td>\n",
       "    </tr>\n",
       "    <tr>\n",
       "      <th>12</th>\n",
       "      <td>2019-10-27 00:00:00</td>\n",
       "      <td>14282755</td>\n",
       "      <td>8.120260e+05</td>\n",
       "    </tr>\n",
       "  </tbody>\n",
       "</table>\n",
       "</div>"
      ],
      "text/plain": [
       "              week date  impression          cost\n",
       "0   2019-08-04 00:00:00           0  0.000000e+00\n",
       "1   2019-08-11 00:00:00           0  0.000000e+00\n",
       "2   2019-08-18 00:00:00           0  0.000000e+00\n",
       "3   2019-08-25 00:00:00    12478759  7.411242e+05\n",
       "4   2019-09-01 00:00:00    14742974  8.539707e+05\n",
       "5   2019-09-08 00:00:00           0  0.000000e+00\n",
       "6   2019-09-15 00:00:00    14321485  6.923081e+05\n",
       "7   2019-09-22 00:00:00           0  0.000000e+00\n",
       "8   2019-09-29 00:00:00           0  0.000000e+00\n",
       "9   2019-10-06 00:00:00    14569743  1.010069e+06\n",
       "10  2019-10-13 00:00:00           0  0.000000e+00\n",
       "11  2019-10-20 00:00:00    14250213  8.055580e+05\n",
       "12  2019-10-27 00:00:00    14282755  8.120260e+05"
      ]
     },
     "execution_count": 17,
     "metadata": {},
     "output_type": "execute_result"
    }
   ],
   "source": [
    "updated_circ_2019Q3_Faith=pd.read_excel(\"/home/jian/Projects/Big_Lots/TMR/TMR_data/Up_to_2019Q3/archived/Big Lots Q3 2019 National TMR - 1.13.2020.xlsx\",\n",
    "                                        dtype=str,skiprows=2,sheet_name=\"Q3 Print Circ 2019\")\n",
    "updated_circ_2019Q3_Faith=updated_circ_2019Q3_Faith.iloc[:,1:]\n",
    "updated_circ_2019Q3_Faith=updated_circ_2019Q3_Faith.rename(columns={\"Week_Start_Sunday\":\"week date\",\"Circulation actual delivers\":\"impression\",\"Circulation total cost\":\"cost\"})\n",
    "updated_circ_2019Q3_Faith['impression']=updated_circ_2019Q3_Faith['impression'].replace(\"-\",\"0\")\n",
    "updated_circ_2019Q3_Faith['impression']=updated_circ_2019Q3_Faith['impression'].astype(int)\n",
    "updated_circ_2019Q3_Faith['cost']=updated_circ_2019Q3_Faith['cost'].replace(\"-\",\"0\")\n",
    "updated_circ_2019Q3_Faith['cost']=updated_circ_2019Q3_Faith['cost'].astype(float)\n",
    "\n",
    "updated_circ_2019Q3_Faith"
   ]
  },
  {
   "cell_type": "code",
   "execution_count": 18,
   "metadata": {},
   "outputs": [],
   "source": [
    "updated_circ_2019Q3_Faith['week date']=updated_circ_2019Q3_Faith['week date'].apply(lambda x: x.split(\" \")[0])\n",
    "updated_circ_2019Q3_Faith['click']=0\n",
    "updated_circ_2019Q3_Faith['media']=\"Circulation\"\n",
    "updated_circ_2019Q3_Faith['submedia']=\"xx\"\n",
    "updated_circ_2019Q3_Faith['placement']=\"xx\"\n",
    "updated_circ_2019Q3_Faith=updated_circ_2019Q3_Faith[Others_TMR_week.columns.tolist()]"
   ]
  },
  {
   "cell_type": "code",
   "execution_count": 19,
   "metadata": {},
   "outputs": [
    {
     "name": "stdout",
     "output_type": "stream",
     "text": [
      "week date [<class 'str'>]\n",
      "media [<class 'str'>]\n",
      "submedia [<class 'str'>]\n",
      "placement [<class 'str'>]\n",
      "impression [<class 'int'>]\n",
      "click [<class 'int'>]\n",
      "cost [<class 'float'>]\n"
     ]
    }
   ],
   "source": [
    "for col in Others_TMR_week.columns.tolist():\n",
    "    print(col,Others_TMR_week[col].apply(type).unique())\n",
    "    \n",
    "Others_TMR_week=Others_TMR_week[Others_TMR_week['media']!=\"Circulation\"] \n",
    "Others_TMR_week=Others_TMR_week.append(updated_circ_2019Q3_Faith)"
   ]
  },
  {
   "cell_type": "markdown",
   "metadata": {},
   "source": [
    "# Seperate PMP from the programmatic"
   ]
  },
  {
   "cell_type": "code",
   "execution_count": 20,
   "metadata": {},
   "outputs": [
    {
     "name": "stdout",
     "output_type": "stream",
     "text": [
      "3130461058\n",
      "28705022\n",
      "10450581.11631801\n"
     ]
    },
    {
     "data": {
      "text/plain": [
       "'\\n3130461058.0\\n28705022.0\\n10450581.11631801\\n'"
      ]
     },
     "execution_count": 20,
     "metadata": {},
     "output_type": "execute_result"
    }
   ],
   "source": [
    "print(Others_TMR_week['impression'].sum())\n",
    "print(Others_TMR_week['click'].sum())\n",
    "print(Others_TMR_week['cost'].sum())\n",
    "'''\n",
    "3130461058.0\n",
    "28705022.0\n",
    "10450581.11631801\n",
    "'''"
   ]
  },
  {
   "cell_type": "code",
   "execution_count": 21,
   "metadata": {},
   "outputs": [
    {
     "name": "stdout",
     "output_type": "stream",
     "text": [
      "121877185\n",
      "431712\n",
      "952972.31940652\n"
     ]
    },
    {
     "data": {
      "text/plain": [
       "'\\n121877185\\n431712\\n952972.31940652\\n'"
      ]
     },
     "execution_count": 21,
     "metadata": {},
     "output_type": "execute_result"
    }
   ],
   "source": [
    "print(Others_TMR_week[Others_TMR_week['submedia']==\"Programmatic\"]['impression'].sum())\n",
    "print(Others_TMR_week[Others_TMR_week['submedia']==\"Programmatic\"]['click'].sum())\n",
    "print(Others_TMR_week[Others_TMR_week['submedia']==\"Programmatic\"]['cost'].sum())\n",
    "\n",
    "'''\n",
    "121877185\n",
    "431712\n",
    "952972.31940652\n",
    "'''"
   ]
  },
  {
   "cell_type": "code",
   "execution_count": 22,
   "metadata": {},
   "outputs": [
    {
     "name": "stdout",
     "output_type": "stream",
     "text": [
      "df_digital_joann['impression'].sum() 168429350.0\n",
      "df_digital_joann_1_PMP['impression'].sum() 33933202.0\n",
      "df_digital_joann_2_Programmatic_YouTube['impression'].sum() 46552165.0\n",
      "df_digital_joann_3_Programmatic_Prog['impression'].sum() 87943983.0\n"
     ]
    },
    {
     "data": {
      "text/html": [
       "<div>\n",
       "<style scoped>\n",
       "    .dataframe tbody tr th:only-of-type {\n",
       "        vertical-align: middle;\n",
       "    }\n",
       "\n",
       "    .dataframe tbody tr th {\n",
       "        vertical-align: top;\n",
       "    }\n",
       "\n",
       "    .dataframe thead th {\n",
       "        text-align: right;\n",
       "    }\n",
       "</style>\n",
       "<table border=\"1\" class=\"dataframe\">\n",
       "  <thead>\n",
       "    <tr style=\"text-align: right;\">\n",
       "      <th></th>\n",
       "      <th>week date</th>\n",
       "      <th>media</th>\n",
       "      <th>submedia</th>\n",
       "      <th>Partner</th>\n",
       "      <th>Tactic</th>\n",
       "      <th>impression</th>\n",
       "      <th>click</th>\n",
       "      <th>cost</th>\n",
       "    </tr>\n",
       "  </thead>\n",
       "  <tbody>\n",
       "    <tr>\n",
       "      <th>3</th>\n",
       "      <td>2019-10-27</td>\n",
       "      <td>Digital</td>\n",
       "      <td>Custom Execution</td>\n",
       "      <td>Evite</td>\n",
       "      <td>Custom Executions</td>\n",
       "      <td>0.0</td>\n",
       "      <td>0.0</td>\n",
       "      <td>0.0</td>\n",
       "    </tr>\n",
       "    <tr>\n",
       "      <th>4</th>\n",
       "      <td>2019-10-27</td>\n",
       "      <td>Digital</td>\n",
       "      <td>Custom Execution</td>\n",
       "      <td>Waze</td>\n",
       "      <td>Custom Executions</td>\n",
       "      <td>0.0</td>\n",
       "      <td>0.0</td>\n",
       "      <td>0.0</td>\n",
       "    </tr>\n",
       "  </tbody>\n",
       "</table>\n",
       "</div>"
      ],
      "text/plain": [
       "    week date    media          submedia Partner             Tactic  \\\n",
       "3  2019-10-27  Digital  Custom Execution   Evite  Custom Executions   \n",
       "4  2019-10-27  Digital  Custom Execution    Waze  Custom Executions   \n",
       "\n",
       "   impression  click  cost  \n",
       "3         0.0    0.0   0.0  \n",
       "4         0.0    0.0   0.0  "
      ]
     },
     "execution_count": 22,
     "metadata": {},
     "output_type": "execute_result"
    }
   ],
   "source": [
    "# Try only this quarter\n",
    "excel_file_joann=pd.ExcelFile(\"/home/jian/Projects/Big_Lots/TMR/TMR_data/Up_to_2019Q3/input_2019Q3/DatoramaData_2019Q3_0804-1102.xlsx\")\n",
    "\n",
    "\n",
    "df_digital_joann=excel_file_joann.parse(\"Digital\",dtype=str,skiprows=4).fillna(0)\n",
    "df_digital_joann['Impressions']=df_digital_joann['Impressions'].astype(float)\n",
    "df_digital_joann['Clicks']=df_digital_joann['Clicks'].astype(float)\n",
    "df_digital_joann['Media Cost']=df_digital_joann['Media Cost'].astype(float)\n",
    "df_digital_joann=df_digital_joann[['Week','Media','Submedia','Partner','Tactic','Impressions','Clicks','Media Cost']]\n",
    "df_digital_joann=df_digital_joann[df_digital_joann['Week']!=\"Totals\"]\n",
    "df_digital_joann['Week']=df_digital_joann['Week'].apply(lambda x: x.split(\" \")[0])\n",
    "df_digital_joann=df_digital_joann.rename(columns={\"Week\":\"week date\",\"Media\":\"media\",\"Submedia\":\"submedia\",\n",
    "                                                  \"Impressions\":\"impression\",\"Clicks\":\"click\",\"Media Cost\":\"cost\"})\n",
    "\n",
    "print(\"df_digital_joann['impression'].sum()\",df_digital_joann['impression'].sum())\n",
    "list_PMP=['Cluep','Discovery Channel','Evite','TBS.com','Waze']\n",
    "df_digital_joann_1_PMP=df_digital_joann[df_digital_joann['Partner'].isin(list_PMP)]\n",
    "df_digital_joann_2_Programmatic=df_digital_joann[~df_digital_joann['Partner'].isin(list_PMP)]\n",
    "\n",
    "df_digital_joann_2_Programmatic_YouTube=df_digital_joann_2_Programmatic[df_digital_joann_2_Programmatic['Partner']==\"YouTube\"]\n",
    "df_digital_joann_3_Programmatic_Prog=df_digital_joann_2_Programmatic[df_digital_joann_2_Programmatic['Partner']!=\"YouTube\"]\n",
    "\n",
    "print(\"df_digital_joann_1_PMP['impression'].sum()\",df_digital_joann_1_PMP['impression'].sum())\n",
    "print(\"df_digital_joann_2_Programmatic_YouTube['impression'].sum()\",df_digital_joann_2_Programmatic_YouTube['impression'].sum())\n",
    "print(\"df_digital_joann_3_Programmatic_Prog['impression'].sum()\",df_digital_joann_3_Programmatic_Prog['impression'].sum())\n",
    "\n",
    "\n",
    "# ! YouTube already in Joann's formatted table\n",
    "df_digital_joann_1_PMP.head(2)"
   ]
  },
  {
   "cell_type": "code",
   "execution_count": 23,
   "metadata": {},
   "outputs": [
    {
     "name": "stdout",
     "output_type": "stream",
     "text": [
      "3130461058.0\n",
      "28705022.0\n",
      "10450581.11631801\n"
     ]
    }
   ],
   "source": [
    "df_digital_joann_1_PMP=df_digital_joann_1_PMP.rename(columns={\"Partner\":\"placement\"})\n",
    "df_digital_joann_1_PMP['submedia']=\"Programmatic--PMP\"\n",
    "df_digital_joann_1_PMP=df_digital_joann_1_PMP[Others_TMR_week.columns.tolist()]\n",
    "\n",
    "df_digital_joann_3_Programmatic_Prog=df_digital_joann_3_Programmatic_Prog.rename(columns={\"Partner\":\"placement\"})\n",
    "df_digital_joann_3_Programmatic_Prog['submedia']=\"Programmatic\"\n",
    "df_digital_joann_3_Programmatic_Prog=df_digital_joann_3_Programmatic_Prog[Others_TMR_week.columns.tolist()]\n",
    "\n",
    "Others_TMR_week=Others_TMR_week[Others_TMR_week['submedia']!=\"Programmatic\"]\n",
    "Others_TMR_week=Others_TMR_week.append(df_digital_joann_1_PMP)\n",
    "Others_TMR_week=Others_TMR_week.append(df_digital_joann_3_Programmatic_Prog)\n",
    "\n",
    "\n",
    "print(Others_TMR_week['impression'].sum())\n",
    "print(Others_TMR_week['click'].sum())\n",
    "print(Others_TMR_week['cost'].sum())"
   ]
  },
  {
   "cell_type": "markdown",
   "metadata": {},
   "source": [
    "# Cumulative Q3 TMR"
   ]
  },
  {
   "cell_type": "code",
   "execution_count": 24,
   "metadata": {},
   "outputs": [],
   "source": [
    "Q3_2019_only_TMR=Others_TMR_week.append(TV_TMR_data)\n",
    "Cum_Q3_2019_TMR=TMR_up_to_2019Q2.append(Q3_2019_only_TMR)"
   ]
  },
  {
   "cell_type": "code",
   "execution_count": 25,
   "metadata": {},
   "outputs": [],
   "source": [
    "try:\n",
    "    os.stat(\"/home/jian/Projects/Big_Lots/TMR/TMR_data/Up_to_2019Q3/output/\")\n",
    "except:\n",
    "    os.mkdir(\"/home/jian/Projects/Big_Lots/TMR/TMR_data/Up_to_2019Q3/output/\")\n",
    "\n",
    "Q3_2019_only_TMR.to_csv(\"/home/jian/Projects/Big_Lots/TMR/TMR_data/Up_to_2019Q3/output/BL_MMM_2019Q3_Only_JL_\"+str(datetime.datetime.now().date())+\".csv\",index=False)\n",
    "Cum_Q3_2019_TMR.to_csv(\"/home/jian/Projects/Big_Lots/TMR/TMR_data/Up_to_2019Q3/output/BL_MMM_long_cumu_up_to_2019Q3_JL_\"+str(datetime.datetime.now().date())+\".csv\",index=False)\n"
   ]
  },
  {
   "cell_type": "markdown",
   "metadata": {
    "collapsed": true
   },
   "source": [
    "# Wide"
   ]
  },
  {
   "cell_type": "code",
   "execution_count": 26,
   "metadata": {},
   "outputs": [
    {
     "name": "stderr",
     "output_type": "stream",
     "text": [
      "/home/jian/.local/lib/python3.6/site-packages/ipykernel_launcher.py:3: SettingWithCopyWarning: \n",
      "A value is trying to be set on a copy of a slice from a DataFrame.\n",
      "Try using .loc[row_indexer,col_indexer] = value instead\n",
      "\n",
      "See the caveats in the documentation: http://pandas.pydata.org/pandas-docs/stable/user_guide/indexing.html#returning-a-view-versus-a-copy\n",
      "  This is separate from the ipykernel package so we can avoid doing imports until\n",
      "/home/jian/.local/lib/python3.6/site-packages/ipykernel_launcher.py:6: SettingWithCopyWarning: \n",
      "A value is trying to be set on a copy of a slice from a DataFrame.\n",
      "Try using .loc[row_indexer,col_indexer] = value instead\n",
      "\n",
      "See the caveats in the documentation: http://pandas.pydata.org/pandas-docs/stable/user_guide/indexing.html#returning-a-view-versus-a-copy\n",
      "  \n"
     ]
    }
   ],
   "source": [
    "# seperate the hosted flipp\n",
    "Cum_Q3_2019_TMR_FlippHost=Cum_Q3_2019_TMR[(Cum_Q3_2019_TMR['submedia']==\"Flipp\") & (Cum_Q3_2019_TMR['placement']==\"Hosted\")]\n",
    "Cum_Q3_2019_TMR_FlippHost['submedia']=\"Flipp(hosted)\"\n",
    "\n",
    "Cum_Q3_2019_TMR_FlippNonHost=Cum_Q3_2019_TMR[(Cum_Q3_2019_TMR['submedia']==\"Flipp\") & (Cum_Q3_2019_TMR['placement']!=\"Hosted\")]\n",
    "Cum_Q3_2019_TMR_FlippNonHost['submedia']=\"Flipp(nonhosted)\"\n",
    "\n",
    "\n",
    "Cum_Q3_2019_TMR=Cum_Q3_2019_TMR[(Cum_Q3_2019_TMR['submedia']!=\"Flipp\")]\n",
    "Cum_Q3_2019_TMR['submedia']=np.where(Cum_Q3_2019_TMR['media']==\"Circulation\",\"xx\",Cum_Q3_2019_TMR['submedia'])\n",
    "\n",
    "\n",
    "Cum_Q3_2019_TMR=Cum_Q3_2019_TMR.append(Cum_Q3_2019_TMR_FlippHost).append(Cum_Q3_2019_TMR_FlippNonHost)\n",
    "\n",
    "\n",
    "########################\n",
    "\n",
    "data_media_national=Cum_Q3_2019_TMR.groupby(['week date','media'])['impression','click','cost'].sum().reset_index()\n",
    "data_submedia_national=Cum_Q3_2019_TMR.groupby(['week date','media','submedia'])['impression','click','cost'].sum().reset_index()\n",
    "data_submedia_national['media_submedia']=data_submedia_national['media']+\"-\"+data_submedia_national['submedia']\n",
    "data_submedia_national=data_submedia_national[['week date','media_submedia','impression','click','cost']]\n",
    "\n",
    "\n",
    "data_media_national_wide=data_media_national[['week date']].drop_duplicates()\n",
    "for col in data_media_national.columns.tolist()[-3:]:\n",
    "    df=data_media_national[['week date','media']+[col]].pivot(index='week date',columns='media',values=col).reset_index()\n",
    "    df_new_col_list=df.columns.tolist()\n",
    "    df_new_col_list.remove('week date')\n",
    "    df_new_col_dict={}\n",
    "    for new_col in df_new_col_list:\n",
    "        df_new_col_dict.update({new_col:new_col+\"_\"+col})\n",
    "    df=df.rename(columns=df_new_col_dict)\n",
    "    data_media_national_wide=pd.merge(data_media_national_wide,df,on='week date',how=\"outer\")\n",
    "data_media_national_wide=data_media_national_wide.fillna(0)\n",
    "data_media_national_wide=data_media_national_wide.drop_duplicates()\n",
    "#############\n",
    "\n",
    "data_submedia_national_wide=data_submedia_national[['week date']].drop_duplicates()\n",
    "for col in data_submedia_national.columns.tolist()[-3:]:\n",
    "    df=data_submedia_national[['week date','media_submedia']+[col]].pivot(index='week date',columns='media_submedia',values=col).reset_index()\n",
    "    df_new_col_list=df.columns.tolist()\n",
    "    df_new_col_list.remove('week date')\n",
    "    df_new_col_dict={}\n",
    "    for new_col in df_new_col_list:\n",
    "        df_new_col_dict.update({new_col:new_col+\"_\"+col})\n",
    "    df=df.rename(columns=df_new_col_dict)\n",
    "    data_submedia_national_wide=pd.merge(data_submedia_national_wide,df,on='week date',how=\"outer\")\n",
    "data_submedia_national_wide=data_submedia_national_wide.fillna(0)\n",
    "data_submedia_national_wide=data_submedia_national_wide.drop_duplicates()\n"
   ]
  },
  {
   "cell_type": "code",
   "execution_count": 27,
   "metadata": {},
   "outputs": [
    {
     "data": {
      "text/plain": [
       "array([<class 'float'>], dtype=object)"
      ]
     },
     "execution_count": 27,
     "metadata": {},
     "output_type": "execute_result"
    }
   ],
   "source": [
    "Cum_Q3_2019_TMR['click'].apply(lambda x: type(x)).unique()"
   ]
  },
  {
   "cell_type": "code",
   "execution_count": 28,
   "metadata": {},
   "outputs": [],
   "source": [
    "including_weeks=[str(datetime.date(2019,11,2)-datetime.timedelta(days=7*x+6)) for x in range(104)]\n",
    "\n",
    "\n",
    "data_media_national_wide=data_media_national_wide.sort_values(\"week date\")\n",
    "data_media_national_wide=data_media_national_wide[data_media_national_wide['week date'].isin(including_weeks)]\n",
    "\n",
    "data_submedia_national_wide=data_submedia_national_wide.sort_values(\"week date\")\n",
    "data_submedia_national_wide=data_submedia_national_wide[data_submedia_national_wide['week date'].isin(including_weeks)]\n",
    "\n"
   ]
  },
  {
   "cell_type": "markdown",
   "metadata": {},
   "source": [
    "## Sales"
   ]
  },
  {
   "cell_type": "code",
   "execution_count": 1,
   "metadata": {},
   "outputs": [
    {
     "ename": "NameError",
     "evalue": "name 'pd' is not defined",
     "output_type": "error",
     "traceback": [
      "\u001b[0;31m---------------------------------------------------------------------------\u001b[0m",
      "\u001b[0;31mNameError\u001b[0m                                 Traceback (most recent call last)",
      "\u001b[0;32m<ipython-input-1-616d75769856>\u001b[0m in \u001b[0;36m<module>\u001b[0;34m\u001b[0m\n\u001b[0;32m----> 1\u001b[0;31m \u001b[0msales_data\u001b[0m\u001b[0;34m=\u001b[0m\u001b[0mpd\u001b[0m\u001b[0;34m.\u001b[0m\u001b[0mread_csv\u001b[0m\u001b[0;34m(\u001b[0m\u001b[0;34m\"/mnt/clients/juba/hqjubaapp02/sharefolder/Automation/Weekly_Operation_Reports/outputs/combined_sales_long_2020-11-28.csv\"\u001b[0m\u001b[0;34m,\u001b[0m\u001b[0mdtype\u001b[0m\u001b[0;34m=\u001b[0m\u001b[0mstr\u001b[0m\u001b[0;34m)\u001b[0m\u001b[0;34m\u001b[0m\u001b[0;34m\u001b[0m\u001b[0m\n\u001b[0m\u001b[1;32m      2\u001b[0m \u001b[0msales_data\u001b[0m\u001b[0;34m=\u001b[0m\u001b[0msales_data\u001b[0m\u001b[0;34m[\u001b[0m\u001b[0msales_data\u001b[0m\u001b[0;34m[\u001b[0m\u001b[0;34m'week_end_date'\u001b[0m\u001b[0;34m]\u001b[0m\u001b[0;34m<=\u001b[0m\u001b[0;34m\"2019-11-02\"\u001b[0m\u001b[0;34m]\u001b[0m\u001b[0;34m\u001b[0m\u001b[0;34m\u001b[0m\u001b[0m\n\u001b[1;32m      3\u001b[0m \u001b[0msales_data\u001b[0m\u001b[0;34m[\u001b[0m\u001b[0;34m'week_end_date'\u001b[0m\u001b[0;34m]\u001b[0m\u001b[0;34m=\u001b[0m\u001b[0msales_data\u001b[0m\u001b[0;34m[\u001b[0m\u001b[0;34m'week_end_date'\u001b[0m\u001b[0;34m]\u001b[0m\u001b[0;34m.\u001b[0m\u001b[0mapply\u001b[0m\u001b[0;34m(\u001b[0m\u001b[0;32mlambda\u001b[0m \u001b[0mx\u001b[0m\u001b[0;34m:\u001b[0m \u001b[0mdatetime\u001b[0m\u001b[0;34m.\u001b[0m\u001b[0mdatetime\u001b[0m\u001b[0;34m.\u001b[0m\u001b[0mstrptime\u001b[0m\u001b[0;34m(\u001b[0m\u001b[0mx\u001b[0m\u001b[0;34m,\u001b[0m\u001b[0;34m\"%Y-%m-%d\"\u001b[0m\u001b[0;34m)\u001b[0m\u001b[0;34m.\u001b[0m\u001b[0mdate\u001b[0m\u001b[0;34m(\u001b[0m\u001b[0;34m)\u001b[0m\u001b[0;34m)\u001b[0m\u001b[0;34m\u001b[0m\u001b[0;34m\u001b[0m\u001b[0m\n\u001b[1;32m      4\u001b[0m \u001b[0msales_data\u001b[0m\u001b[0;34m[\u001b[0m\u001b[0;34m'sales'\u001b[0m\u001b[0;34m]\u001b[0m\u001b[0;34m=\u001b[0m\u001b[0msales_data\u001b[0m\u001b[0;34m[\u001b[0m\u001b[0;34m'sales'\u001b[0m\u001b[0;34m]\u001b[0m\u001b[0;34m.\u001b[0m\u001b[0mastype\u001b[0m\u001b[0;34m(\u001b[0m\u001b[0mfloat\u001b[0m\u001b[0;34m)\u001b[0m\u001b[0;34m\u001b[0m\u001b[0;34m\u001b[0m\u001b[0m\n\u001b[1;32m      5\u001b[0m \u001b[0msales_data\u001b[0m\u001b[0;34m[\u001b[0m\u001b[0;34m'transactions'\u001b[0m\u001b[0;34m]\u001b[0m\u001b[0;34m=\u001b[0m\u001b[0msales_data\u001b[0m\u001b[0;34m[\u001b[0m\u001b[0;34m'transactions'\u001b[0m\u001b[0;34m]\u001b[0m\u001b[0;34m.\u001b[0m\u001b[0mastype\u001b[0m\u001b[0;34m(\u001b[0m\u001b[0mfloat\u001b[0m\u001b[0;34m)\u001b[0m\u001b[0;34m\u001b[0m\u001b[0;34m\u001b[0m\u001b[0m\n",
      "\u001b[0;31mNameError\u001b[0m: name 'pd' is not defined"
     ]
    }
   ],
   "source": [
    "sales_data=pd.read_csv(\"/home/jian/BiglotsCode/outputs/combined_sales_long_2020-02-29.csv\",dtype=str)\n",
    "sales_data=sales_data[sales_data['week_end_date']<=\"2019-11-02\"]\n",
    "sales_data['week_end_date']=sales_data['week_end_date'].apply(lambda x: datetime.datetime.strptime(x,\"%Y-%m-%d\").date())\n",
    "sales_data['sales']=sales_data['sales'].astype(float)\n",
    "sales_data['transactions']=sales_data['transactions'].astype(float)\n",
    "sales_data['week date']=sales_data['week_end_date'].apply(lambda x: x-datetime.timedelta(days=6))\n",
    "sales_data_naitonal=sales_data.groupby(['week date'])['sales','transactions'].sum().reset_index()\n",
    "sales_data_naitonal=sales_data_naitonal.set_index(['week date'])\n",
    "sales_data_naitonal.at[datetime.date(2017,4,30),'transactions']=(sales_data_naitonal.at[datetime.date(2017,4,23),'transactions']+sales_data_naitonal.at[datetime.date(2017,5,7),'transactions'])/2\n",
    "sales_data_naitonal=sales_data_naitonal.reset_index()\n",
    "sales_data_store_counts=sales_data[sales_data['sales']>0]\n",
    "sales_data_store_counts=sales_data_store_counts.groupby(['week date'])['location_id'].count().to_frame().reset_index().rename(columns={\"location_id\":\"store_counts\"})\n",
    "\n",
    "sales_data_naitonal=pd.merge(sales_data_naitonal,sales_data_store_counts,on=\"week date\",how=\"outer\")\n",
    "sales_data_naitonal['week date']=sales_data_naitonal['week date'].astype(str)"
   ]
  },
  {
   "cell_type": "code",
   "execution_count": 30,
   "metadata": {},
   "outputs": [],
   "source": [
    "data_media_national_wide=pd.merge(data_media_national_wide,sales_data_naitonal,on=\"week date\",how=\"left\")\n",
    "data_submedia_national_wide=pd.merge(data_submedia_national_wide,sales_data_naitonal,on=\"week date\",how=\"left\")"
   ]
  },
  {
   "cell_type": "markdown",
   "metadata": {},
   "source": [
    "## Promotion"
   ]
  },
  {
   "cell_type": "code",
   "execution_count": 31,
   "metadata": {},
   "outputs": [
    {
     "name": "stderr",
     "output_type": "stream",
     "text": [
      "/home/jian/.local/lib/python3.6/site-packages/ipykernel_launcher.py:23: SettingWithCopyWarning: \n",
      "A value is trying to be set on a copy of a slice from a DataFrame.\n",
      "Try using .loc[row_indexer,col_indexer] = value instead\n",
      "\n",
      "See the caveats in the documentation: http://pandas.pydata.org/pandas-docs/stable/user_guide/indexing.html#returning-a-view-versus-a-copy\n",
      "/home/jian/.local/lib/python3.6/site-packages/ipykernel_launcher.py:25: SettingWithCopyWarning: \n",
      "A value is trying to be set on a copy of a slice from a DataFrame.\n",
      "Try using .loc[row_indexer,col_indexer] = value instead\n",
      "\n",
      "See the caveats in the documentation: http://pandas.pydata.org/pandas-docs/stable/user_guide/indexing.html#returning-a-view-versus-a-copy\n",
      "/home/jian/.local/lib/python3.6/site-packages/ipykernel_launcher.py:29: SettingWithCopyWarning: \n",
      "A value is trying to be set on a copy of a slice from a DataFrame.\n",
      "Try using .loc[row_indexer,col_indexer] = value instead\n",
      "\n",
      "See the caveats in the documentation: http://pandas.pydata.org/pandas-docs/stable/user_guide/indexing.html#returning-a-view-versus-a-copy\n",
      "/home/jian/.local/lib/python3.6/site-packages/ipykernel_launcher.py:31: SettingWithCopyWarning: \n",
      "A value is trying to be set on a copy of a slice from a DataFrame.\n",
      "Try using .loc[row_indexer,col_indexer] = value instead\n",
      "\n",
      "See the caveats in the documentation: http://pandas.pydata.org/pandas-docs/stable/user_guide/indexing.html#returning-a-view-versus-a-copy\n"
     ]
    }
   ],
   "source": [
    "Rewards_Promotion_list=[datetime.date(2016,10,1),datetime.date(2016,10,2),\n",
    "                        datetime.date(2017,1,21),datetime.date(2017,1,22),\n",
    "                        datetime.date(2017,4,1),datetime.date(2017,4,2),\n",
    "                        datetime.date(2017,7,8),datetime.date(2017,7,9),\n",
    "                        datetime.date(2017,9,30),datetime.date(2017,10,1),\n",
    "                        datetime.date(2018,1,20),datetime.date(2018,1,21),\n",
    "                        datetime.date(2018,4,7),datetime.date(2018,4,8),\n",
    "                        datetime.date(2018,7,7),datetime.date(2018,7,8),\n",
    "                        datetime.date(2018,9,29),datetime.date(2018,9,30),\n",
    "                        datetime.date(2019,1,26),datetime.date(2019,1,27),  \n",
    "                        datetime.date(2019,4,6),datetime.date(2019,4,7),\n",
    "                        datetime.date(2019,7,13),datetime.date(2019,7,14),\n",
    "                        datetime.date(2019,9,28),datetime.date(2019,9,29),\n",
    "                       ]\n",
    "\n",
    "df_Rewards_Promotion=pd.DataFrame({\"Date\":Rewards_Promotion_list},index=range(len(Rewards_Promotion_list)))\n",
    "df_Rewards_Promotion['weekday']=df_Rewards_Promotion['Date'].apply(lambda x: x.weekday())\n",
    "df_Rewards_Promotion['week date']=np.where(df_Rewards_Promotion['weekday']==6,df_Rewards_Promotion['Date'],df_Rewards_Promotion['Date']-datetime.timedelta(days=6))\n",
    "\n",
    "del df_Rewards_Promotion['Date']\n",
    "\n",
    "df_Rewards_Promotion_Sunday=df_Rewards_Promotion[df_Rewards_Promotion['weekday']==6]\n",
    "df_Rewards_Promotion_Sunday['Sunday_rewards_ind']=1\n",
    "del df_Rewards_Promotion_Sunday['weekday']\n",
    "df_Rewards_Promotion_Sunday['week date']=df_Rewards_Promotion_Sunday['week date'].astype(str)\n",
    "\n",
    "\n",
    "df_Rewards_Promotion_Saturday=df_Rewards_Promotion[df_Rewards_Promotion['weekday']==5]\n",
    "df_Rewards_Promotion_Saturday['Saturday_rewards_ind']=1\n",
    "del df_Rewards_Promotion_Saturday['weekday']\n",
    "df_Rewards_Promotion_Saturday['week date']=df_Rewards_Promotion_Saturday['week date'].astype(str)\n"
   ]
  },
  {
   "cell_type": "code",
   "execution_count": 32,
   "metadata": {},
   "outputs": [],
   "source": [
    "holiday_1_week_df=pd.DataFrame({\"week date\":[datetime.date(2016,12,18),datetime.date(2017,12,17),datetime.date(2018,12,23)],\"Holiday_1_week_only_Ind\":[1]*3},index=[0,1,2])\n",
    "holiday_5_weeks_df=pd.DataFrame({\"week date\":[datetime.date(2016,12,18)-datetime.timedelta(days=x*7) for x in range(5)] +[datetime.date(2017,12,17)-datetime.timedelta(days=x*7) for x in range(5)]+[datetime.date(2018,12,23)-datetime.timedelta(days=x*7) for x in range(5)],\n",
    "                                 \"Holiday_5_weeks_only_Ind\":[1]*15},index=[x for x in range(15)])\n",
    "\n",
    "holiday_1_week_df['week date']=holiday_1_week_df['week date'].astype(str)\n",
    "holiday_5_weeks_df['week date']=holiday_5_weeks_df['week date'].astype(str)\n",
    "\n",
    "df_special_weeks_ind=pd.merge(df_Rewards_Promotion_Saturday,df_Rewards_Promotion_Sunday,on=\"week date\",how=\"outer\")\n",
    "df_special_weeks_ind=pd.merge(df_special_weeks_ind,holiday_1_week_df,on=\"week date\",how=\"outer\")\n",
    "df_special_weeks_ind=pd.merge(df_special_weeks_ind,holiday_5_weeks_df,on=\"week date\",how=\"outer\")\n"
   ]
  },
  {
   "cell_type": "code",
   "execution_count": 33,
   "metadata": {},
   "outputs": [],
   "source": [
    "data_media_national_wide=pd.merge(data_media_national_wide,df_special_weeks_ind,on=\"week date\",how=\"left\")\n",
    "\n",
    "data_submedia_national_wide=pd.merge(data_submedia_national_wide,df_special_weeks_ind,on=\"week date\",how=\"left\")\n",
    "\n",
    "data_media_national_wide=data_media_national_wide.fillna(0)\n",
    "data_submedia_national_wide=data_submedia_national_wide.fillna(0)"
   ]
  },
  {
   "cell_type": "markdown",
   "metadata": {},
   "source": [
    "# Adjust the 2019Q1 end week"
   ]
  },
  {
   "cell_type": "code",
   "execution_count": 34,
   "metadata": {},
   "outputs": [],
   "source": [
    "data_submedia_national_wide['Dummy_2019Q1_End_2weeks']=np.where(data_submedia_national_wide['week date'].isin([\"2019-04-21\",\"2019-04-28\"]),1,0)\n"
   ]
  },
  {
   "cell_type": "code",
   "execution_count": 35,
   "metadata": {},
   "outputs": [],
   "source": [
    "data_media_national_wide.to_csv(\"/home/jian/Projects/Big_Lots/TMR/TMR_data/Up_to_2019Q3/output/BL_MMM_data_media_national_wide_JL_\"+str(datetime.datetime.now().date())+\".csv\",index=False)\n",
    "data_submedia_national_wide.to_csv(\"/home/jian/Projects/Big_Lots/TMR/TMR_data/Up_to_2019Q3/output/BL_MMM_data_submedia_national_wide_JL_\"+str(datetime.datetime.now().date())+\".csv\",index=False)\n",
    "\n",
    "# Note email cpm updated based on the Q2 client number, for Q3, West confirmed it's close\n",
    "# Flipp hosted seperated in wide version\n",
    "# Circ confirmed with Dom\n",
    "\n",
    "# Flipp the reads not same as West's number, but it's not updated since not applied in model building. "
   ]
  },
  {
   "cell_type": "code",
   "execution_count": null,
   "metadata": {},
   "outputs": [],
   "source": []
  },
  {
   "cell_type": "code",
   "execution_count": null,
   "metadata": {},
   "outputs": [],
   "source": []
  }
 ],
 "metadata": {
  "kernelspec": {
   "display_name": "Python 3",
   "language": "python",
   "name": "python3"
  },
  "language_info": {
   "codemirror_mode": {
    "name": "ipython",
    "version": 3
   },
   "file_extension": ".py",
   "mimetype": "text/x-python",
   "name": "python",
   "nbconvert_exporter": "python",
   "pygments_lexer": "ipython3",
   "version": "3.7.6"
  }
 },
 "nbformat": 4,
 "nbformat_minor": 2
}
