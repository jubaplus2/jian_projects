{
 "cells": [
  {
   "cell_type": "code",
   "execution_count": 1,
   "metadata": {},
   "outputs": [
    {
     "name": "stdout",
     "output_type": "stream",
     "text": [
      "/mnt/clients/juba/hqjubaapp02/sharefolder/GoodYear/jian/Audience_selections/output_aggregated_file\n",
      "2020-11-06 17:25:17.324030\n"
     ]
    }
   ],
   "source": [
    "import pandas as pd\n",
    "import datetime\n",
    "import numpy as np\n",
    "import os\n",
    "\n",
    "print(os.getcwd())\n",
    "print(datetime.datetime.now())"
   ]
  },
  {
   "cell_type": "code",
   "execution_count": 2,
   "metadata": {},
   "outputs": [
    {
     "name": "stdout",
     "output_type": "stream",
     "text": [
      "(1885195, 4)\n"
     ]
    },
    {
     "data": {
      "text/html": [
       "<div>\n",
       "<style scoped>\n",
       "    .dataframe tbody tr th:only-of-type {\n",
       "        vertical-align: middle;\n",
       "    }\n",
       "\n",
       "    .dataframe tbody tr th {\n",
       "        vertical-align: top;\n",
       "    }\n",
       "\n",
       "    .dataframe thead th {\n",
       "        text-align: right;\n",
       "    }\n",
       "</style>\n",
       "<table border=\"1\" class=\"dataframe\">\n",
       "  <thead>\n",
       "    <tr style=\"text-align: right;\">\n",
       "      <th></th>\n",
       "      <th>indiv_key</th>\n",
       "      <th>best_email_txt</th>\n",
       "      <th>segment_name</th>\n",
       "      <th>TestOrControl</th>\n",
       "    </tr>\n",
       "  </thead>\n",
       "  <tbody>\n",
       "    <tr>\n",
       "      <th>0</th>\n",
       "      <td>1222780000000672</td>\n",
       "      <td>fmurray17@nc.rr.com</td>\n",
       "      <td>segment_Control_TireAndService_Balance_Ecommer...</td>\n",
       "      <td>Control</td>\n",
       "    </tr>\n",
       "    <tr>\n",
       "      <th>1</th>\n",
       "      <td>1222780000001340</td>\n",
       "      <td>m1x18@aol.com</td>\n",
       "      <td>segment_Control_TireAndService_Balance_Ecommer...</td>\n",
       "      <td>Control</td>\n",
       "    </tr>\n",
       "  </tbody>\n",
       "</table>\n",
       "</div>"
      ],
      "text/plain": [
       "          indiv_key       best_email_txt  \\\n",
       "0  1222780000000672  fmurray17@nc.rr.com   \n",
       "1  1222780000001340        m1x18@aol.com   \n",
       "\n",
       "                                        segment_name TestOrControl  \n",
       "0  segment_Control_TireAndService_Balance_Ecommer...       Control  \n",
       "1  segment_Control_TireAndService_Balance_Ecommer...       Control  "
      ]
     },
     "execution_count": 2,
     "metadata": {},
     "output_type": "execute_result"
    }
   ],
   "source": [
    "df_with_id=pd.read_csv(\"./GY_all_defined_CRM_segment_JL_2020-11-06.csv\",dtype=str)\n",
    "print(df_with_id.shape)\n",
    "df_with_id.head(2)"
   ]
  },
  {
   "cell_type": "code",
   "execution_count": 3,
   "metadata": {},
   "outputs": [
    {
     "name": "stdout",
     "output_type": "stream",
     "text": [
      "(905180, 3) 824123\n"
     ]
    }
   ],
   "source": [
    "df_withemail_only=df_with_id[pd.notnull(df_with_id['best_email_txt'])]\n",
    "df_without_id=df_without_id.drop_duplicates()\n",
    "print(df_without_id.shape,df_without_id['best_email_txt'].nunique())"
   ]
  },
  {
   "cell_type": "code",
   "execution_count": 5,
   "metadata": {},
   "outputs": [],
   "source": [
    "df_without_id.to_csv(\"./GY_emails_only_CRM_segment_JL_%s.csv\"%str(datetime.datetime.now().date()),index=False)"
   ]
  },
  {
   "cell_type": "code",
   "execution_count": 6,
   "metadata": {},
   "outputs": [
    {
     "data": {
      "text/html": [
       "<div>\n",
       "<style scoped>\n",
       "    .dataframe tbody tr th:only-of-type {\n",
       "        vertical-align: middle;\n",
       "    }\n",
       "\n",
       "    .dataframe tbody tr th {\n",
       "        vertical-align: top;\n",
       "    }\n",
       "\n",
       "    .dataframe thead th {\n",
       "        text-align: right;\n",
       "    }\n",
       "</style>\n",
       "<table border=\"1\" class=\"dataframe\">\n",
       "  <thead>\n",
       "    <tr style=\"text-align: right;\">\n",
       "      <th></th>\n",
       "      <th>best_email_txt</th>\n",
       "      <th>segment_name</th>\n",
       "      <th>TestOrControl</th>\n",
       "    </tr>\n",
       "  </thead>\n",
       "  <tbody>\n",
       "    <tr>\n",
       "      <th>0</th>\n",
       "      <td>fmurray17@nc.rr.com</td>\n",
       "      <td>segment_Control_TireAndService_Balance_Ecommer...</td>\n",
       "      <td>Control</td>\n",
       "    </tr>\n",
       "    <tr>\n",
       "      <th>1</th>\n",
       "      <td>m1x18@aol.com</td>\n",
       "      <td>segment_Control_TireAndService_Balance_Ecommer...</td>\n",
       "      <td>Control</td>\n",
       "    </tr>\n",
       "  </tbody>\n",
       "</table>\n",
       "</div>"
      ],
      "text/plain": [
       "        best_email_txt                                       segment_name  \\\n",
       "0  fmurray17@nc.rr.com  segment_Control_TireAndService_Balance_Ecommer...   \n",
       "1        m1x18@aol.com  segment_Control_TireAndService_Balance_Ecommer...   \n",
       "\n",
       "  TestOrControl  \n",
       "0       Control  \n",
       "1       Control  "
      ]
     },
     "execution_count": 6,
     "metadata": {},
     "output_type": "execute_result"
    }
   ],
   "source": [
    "df_without_id.head(2)"
   ]
  },
  {
   "cell_type": "code",
   "execution_count": null,
   "metadata": {},
   "outputs": [],
   "source": []
  }
 ],
 "metadata": {
  "kernelspec": {
   "display_name": "Python 3",
   "language": "python",
   "name": "python3"
  },
  "language_info": {
   "codemirror_mode": {
    "name": "ipython",
    "version": 3
   },
   "file_extension": ".py",
   "mimetype": "text/x-python",
   "name": "python",
   "nbconvert_exporter": "python",
   "pygments_lexer": "ipython3",
   "version": "3.7.6"
  }
 },
 "nbformat": 4,
 "nbformat_minor": 4
}
