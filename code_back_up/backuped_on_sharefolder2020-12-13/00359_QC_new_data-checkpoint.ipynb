{
 "cells": [
  {
   "cell_type": "code",
   "execution_count": 1,
   "metadata": {},
   "outputs": [
    {
     "data": {
      "text/plain": [
       "'/home/jian/BigLots/MediaStorm_2019-02-09'"
      ]
     },
     "execution_count": 1,
     "metadata": {},
     "output_type": "execute_result"
    }
   ],
   "source": [
    "import os\n",
    "import pandas as pd\n",
    "import numpy as np\n",
    "os.getcwd()"
   ]
  },
  {
   "cell_type": "code",
   "execution_count": 2,
   "metadata": {},
   "outputs": [
    {
     "data": {
      "text/plain": [
       "80770421.709999964"
      ]
     },
     "execution_count": 2,
     "metadata": {},
     "output_type": "execute_result"
    }
   ],
   "source": [
    "daily_data=pd.read_table(\"/home/jian/BigLots/MediaStorm_2019-02-09/MediaStormDailySales20190212-122138-494.txt\",dtype=str,sep=\"|\")\n",
    "daily_data['subclass_transaction_amt']=daily_data['subclass_transaction_amt'].astype(float)\n",
    "daily_data['subclass_transaction_units']=daily_data['subclass_transaction_units'].astype(int)\n",
    "daily_data['subclass_transaction_amt'].sum()"
   ]
  },
  {
   "cell_type": "code",
   "execution_count": 4,
   "metadata": {},
   "outputs": [
    {
     "data": {
      "text/html": [
       "<div>\n",
       "<style>\n",
       "    .dataframe thead tr:only-child th {\n",
       "        text-align: right;\n",
       "    }\n",
       "\n",
       "    .dataframe thead th {\n",
       "        text-align: left;\n",
       "    }\n",
       "\n",
       "    .dataframe tbody tr th {\n",
       "        vertical-align: top;\n",
       "    }\n",
       "</style>\n",
       "<table border=\"1\" class=\"dataframe\">\n",
       "  <thead>\n",
       "    <tr style=\"text-align: right;\">\n",
       "      <th></th>\n",
       "      <th>location_id</th>\n",
       "      <th>transaction_dt</th>\n",
       "      <th>transaction_id</th>\n",
       "      <th>customer_id_hashed</th>\n",
       "      <th>class_code_id</th>\n",
       "      <th>subclass_id</th>\n",
       "      <th>item_id</th>\n",
       "      <th>item_transaction_units</th>\n",
       "      <th>item_transaction_amt</th>\n",
       "    </tr>\n",
       "  </thead>\n",
       "  <tbody>\n",
       "    <tr>\n",
       "      <th>0</th>\n",
       "      <td>4340</td>\n",
       "      <td>2019-02-09</td>\n",
       "      <td>1235</td>\n",
       "      <td>4d814aa2f7a1122542b7421e5ad2c621ff4939b4db5f7a...</td>\n",
       "      <td>16002</td>\n",
       "      <td>1</td>\n",
       "      <td>160002479</td>\n",
       "      <td>1</td>\n",
       "      <td>5.00</td>\n",
       "    </tr>\n",
       "    <tr>\n",
       "      <th>1</th>\n",
       "      <td>1650</td>\n",
       "      <td>2019-02-06</td>\n",
       "      <td>1219</td>\n",
       "      <td>6689a5fc1bdabd1ef214cf0aaa604d9ff018101df5a9b4...</td>\n",
       "      <td>14001</td>\n",
       "      <td>2</td>\n",
       "      <td>810385887</td>\n",
       "      <td>1</td>\n",
       "      <td>4.50</td>\n",
       "    </tr>\n",
       "  </tbody>\n",
       "</table>\n",
       "</div>"
      ],
      "text/plain": [
       "  location_id transaction_dt transaction_id  \\\n",
       "0        4340     2019-02-09           1235   \n",
       "1        1650     2019-02-06           1219   \n",
       "\n",
       "                                  customer_id_hashed class_code_id  \\\n",
       "0  4d814aa2f7a1122542b7421e5ad2c621ff4939b4db5f7a...         16002   \n",
       "1  6689a5fc1bdabd1ef214cf0aaa604d9ff018101df5a9b4...         14001   \n",
       "\n",
       "  subclass_id    item_id item_transaction_units item_transaction_amt  \n",
       "0           1  160002479                      1                 5.00  \n",
       "1           2  810385887                      1                 4.50  "
      ]
     },
     "execution_count": 4,
     "metadata": {},
     "output_type": "execute_result"
    }
   ],
   "source": [
    "test=pd.read_table(\"/home/jian/BigLots/MediaStorm_2019-02-09/item_level_sample.txt\",dtype=str,sep=\"|\")\n",
    "test['item_transaction_amt']=test['item_transaction_amt'].astype(float)\n"
   ]
  },
  {
   "cell_type": "code",
   "execution_count": 14,
   "metadata": {},
   "outputs": [
    {
     "data": {
      "text/plain": [
       "80767178.90000014"
      ]
     },
     "execution_count": 14,
     "metadata": {},
     "output_type": "execute_result"
    }
   ],
   "source": [
    "test['item_transaction_amt'].sum()"
   ]
  },
  {
   "cell_type": "code",
   "execution_count": 16,
   "metadata": {},
   "outputs": [
    {
     "data": {
      "text/plain": [
       "3242.8099998235703"
      ]
     },
     "execution_count": 16,
     "metadata": {},
     "output_type": "execute_result"
    }
   ],
   "source": [
    "80770421.709999964-80767178.90000014\n"
   ]
  },
  {
   "cell_type": "code",
   "execution_count": null,
   "metadata": {
    "collapsed": true
   },
   "outputs": [],
   "source": []
  },
  {
   "cell_type": "code",
   "execution_count": 11,
   "metadata": {},
   "outputs": [
    {
     "data": {
      "text/plain": [
       "(9723948, 8)"
      ]
     },
     "execution_count": 11,
     "metadata": {},
     "output_type": "execute_result"
    }
   ],
   "source": [
    "daily_data.shape"
   ]
  },
  {
   "cell_type": "code",
   "execution_count": 12,
   "metadata": {},
   "outputs": [
    {
     "data": {
      "text/plain": [
       "(11382462, 9)"
      ]
     },
     "execution_count": 12,
     "metadata": {},
     "output_type": "execute_result"
    }
   ],
   "source": [
    "test.shape"
   ]
  },
  {
   "cell_type": "code",
   "execution_count": 13,
   "metadata": {},
   "outputs": [
    {
     "data": {
      "text/plain": [
       "1.1705597356135595"
      ]
     },
     "execution_count": 13,
     "metadata": {},
     "output_type": "execute_result"
    }
   ],
   "source": [
    "11382462/9723948"
   ]
  },
  {
   "cell_type": "code",
   "execution_count": 10,
   "metadata": {},
   "outputs": [
    {
     "data": {
      "text/html": [
       "<div>\n",
       "<style>\n",
       "    .dataframe thead tr:only-child th {\n",
       "        text-align: right;\n",
       "    }\n",
       "\n",
       "    .dataframe thead th {\n",
       "        text-align: left;\n",
       "    }\n",
       "\n",
       "    .dataframe tbody tr th {\n",
       "        vertical-align: top;\n",
       "    }\n",
       "</style>\n",
       "<table border=\"1\" class=\"dataframe\">\n",
       "  <thead>\n",
       "    <tr style=\"text-align: right;\">\n",
       "      <th></th>\n",
       "      <th>location_id</th>\n",
       "      <th>transaction_dt</th>\n",
       "      <th>transaction_id</th>\n",
       "      <th>customer_id_hashed</th>\n",
       "      <th>class_code_id</th>\n",
       "      <th>subclass_id</th>\n",
       "      <th>item_id</th>\n",
       "      <th>item_transaction_units</th>\n",
       "      <th>item_transaction_amt</th>\n",
       "    </tr>\n",
       "  </thead>\n",
       "  <tbody>\n",
       "    <tr>\n",
       "      <th>2168557</th>\n",
       "      <td>5357</td>\n",
       "      <td>2019-02-03</td>\n",
       "      <td>8612</td>\n",
       "      <td>a41c6534ad1284241053ccd116d572584dd090e766f499...</td>\n",
       "      <td>11014</td>\n",
       "      <td>23</td>\n",
       "      <td>810421203</td>\n",
       "      <td>1</td>\n",
       "      <td>4.00</td>\n",
       "    </tr>\n",
       "    <tr>\n",
       "      <th>3474169</th>\n",
       "      <td>5357</td>\n",
       "      <td>2019-02-03</td>\n",
       "      <td>8612</td>\n",
       "      <td>a41c6534ad1284241053ccd116d572584dd090e766f499...</td>\n",
       "      <td>11014</td>\n",
       "      <td>1</td>\n",
       "      <td>810234386</td>\n",
       "      <td>17</td>\n",
       "      <td>38.25</td>\n",
       "    </tr>\n",
       "  </tbody>\n",
       "</table>\n",
       "</div>"
      ],
      "text/plain": [
       "        location_id transaction_dt transaction_id  \\\n",
       "2168557        5357     2019-02-03           8612   \n",
       "3474169        5357     2019-02-03           8612   \n",
       "\n",
       "                                        customer_id_hashed class_code_id  \\\n",
       "2168557  a41c6534ad1284241053ccd116d572584dd090e766f499...         11014   \n",
       "3474169  a41c6534ad1284241053ccd116d572584dd090e766f499...         11014   \n",
       "\n",
       "        subclass_id    item_id item_transaction_units  item_transaction_amt  \n",
       "2168557          23  810421203                      1                  4.00  \n",
       "3474169           1  810234386                     17                 38.25  "
      ]
     },
     "execution_count": 10,
     "metadata": {},
     "output_type": "execute_result"
    }
   ],
   "source": [
    "test[(test['location_id']==\"5357\") & (test['transaction_id']==\"8612\") & (test['class_code_id']==\"11014\")]"
   ]
  },
  {
   "cell_type": "code",
   "execution_count": null,
   "metadata": {
    "collapsed": true
   },
   "outputs": [],
   "source": []
  }
 ],
 "metadata": {
  "kernelspec": {
   "display_name": "Python 3",
   "language": "python",
   "name": "python3"
  },
  "language_info": {
   "codemirror_mode": {
    "name": "ipython",
    "version": 3
   },
   "file_extension": ".py",
   "mimetype": "text/x-python",
   "name": "python",
   "nbconvert_exporter": "python",
   "pygments_lexer": "ipython3",
   "version": "3.6.1"
  }
 },
 "nbformat": 4,
 "nbformat_minor": 2
}
