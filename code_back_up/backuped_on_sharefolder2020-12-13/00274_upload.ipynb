{
 "cells": [
  {
   "cell_type": "code",
   "execution_count": 2,
   "metadata": {},
   "outputs": [
    {
     "data": {
      "text/plain": [
       "'/home/jian/Projects/Big_Lots/Live_Ramp/Quarterly_Update_2019Q3'"
      ]
     },
     "execution_count": 2,
     "metadata": {},
     "output_type": "execute_result"
    }
   ],
   "source": [
    "import pandas as pd\n",
    "import numpy as np\n",
    "import datetime\n",
    "import paramiko\n",
    "import os\n",
    "import glob\n",
    "\n",
    "os.getcwd()"
   ]
  },
  {
   "cell_type": "code",
   "execution_count": 4,
   "metadata": {
    "collapsed": true
   },
   "outputs": [
    {
     "data": {
      "text/plain": [
       "['/home/jian/Projects/Big_Lots/Live_Ramp/Quarterly_Update_2019Q3/upload_files/C_Quadrant_III_P_H_2019Q3_RFM.csv',\n",
       " '/home/jian/Projects/Big_Lots/Live_Ramp/Quarterly_Update_2019Q3/upload_files/C_Quadrant_III_P_L_2019Q3_RFM.csv',\n",
       " '/home/jian/Projects/Big_Lots/Live_Ramp/Quarterly_Update_2019Q3/upload_files/C_Quadrant_III_P_M_2019Q3_RFM.csv',\n",
       " '/home/jian/Projects/Big_Lots/Live_Ramp/Quarterly_Update_2019Q3/upload_files/C_Quadrant_III_S_H_2019Q3_RFM.csv',\n",
       " '/home/jian/Projects/Big_Lots/Live_Ramp/Quarterly_Update_2019Q3/upload_files/C_Quadrant_III_S_L_2019Q3_RFM.csv',\n",
       " '/home/jian/Projects/Big_Lots/Live_Ramp/Quarterly_Update_2019Q3/upload_files/C_Quadrant_III_S_M_2019Q3_RFM.csv',\n",
       " '/home/jian/Projects/Big_Lots/Live_Ramp/Quarterly_Update_2019Q3/upload_files/C_Quadrant_II_P_H_2019Q3_RFM.csv',\n",
       " '/home/jian/Projects/Big_Lots/Live_Ramp/Quarterly_Update_2019Q3/upload_files/C_Quadrant_II_P_L_2019Q3_RFM.csv',\n",
       " '/home/jian/Projects/Big_Lots/Live_Ramp/Quarterly_Update_2019Q3/upload_files/C_Quadrant_II_P_M_2019Q3_RFM.csv',\n",
       " '/home/jian/Projects/Big_Lots/Live_Ramp/Quarterly_Update_2019Q3/upload_files/C_Quadrant_II_S_H_2019Q3_RFM.csv',\n",
       " '/home/jian/Projects/Big_Lots/Live_Ramp/Quarterly_Update_2019Q3/upload_files/C_Quadrant_II_S_L_2019Q3_RFM.csv',\n",
       " '/home/jian/Projects/Big_Lots/Live_Ramp/Quarterly_Update_2019Q3/upload_files/C_Quadrant_II_S_M_2019Q3_RFM.csv',\n",
       " '/home/jian/Projects/Big_Lots/Live_Ramp/Quarterly_Update_2019Q3/upload_files/C_Quadrant_IV_P_H_2019Q3_RFM.csv',\n",
       " '/home/jian/Projects/Big_Lots/Live_Ramp/Quarterly_Update_2019Q3/upload_files/C_Quadrant_IV_P_L_2019Q3_RFM.csv',\n",
       " '/home/jian/Projects/Big_Lots/Live_Ramp/Quarterly_Update_2019Q3/upload_files/C_Quadrant_IV_P_M_2019Q3_RFM.csv',\n",
       " '/home/jian/Projects/Big_Lots/Live_Ramp/Quarterly_Update_2019Q3/upload_files/C_Quadrant_IV_S_H_2019Q3_RFM.csv',\n",
       " '/home/jian/Projects/Big_Lots/Live_Ramp/Quarterly_Update_2019Q3/upload_files/C_Quadrant_IV_S_L_2019Q3_RFM.csv',\n",
       " '/home/jian/Projects/Big_Lots/Live_Ramp/Quarterly_Update_2019Q3/upload_files/C_Quadrant_IV_S_M_2019Q3_RFM.csv',\n",
       " '/home/jian/Projects/Big_Lots/Live_Ramp/Quarterly_Update_2019Q3/upload_files/C_Quadrant_I_P_H_2019Q3_RFM.csv',\n",
       " '/home/jian/Projects/Big_Lots/Live_Ramp/Quarterly_Update_2019Q3/upload_files/C_Quadrant_I_P_L_2019Q3_RFM.csv',\n",
       " '/home/jian/Projects/Big_Lots/Live_Ramp/Quarterly_Update_2019Q3/upload_files/C_Quadrant_I_P_M_2019Q3_RFM.csv',\n",
       " '/home/jian/Projects/Big_Lots/Live_Ramp/Quarterly_Update_2019Q3/upload_files/C_Quadrant_I_S_H_2019Q3_RFM.csv',\n",
       " '/home/jian/Projects/Big_Lots/Live_Ramp/Quarterly_Update_2019Q3/upload_files/C_Quadrant_I_S_L_2019Q3_RFM.csv',\n",
       " '/home/jian/Projects/Big_Lots/Live_Ramp/Quarterly_Update_2019Q3/upload_files/C_Quadrant_I_S_M_2019Q3_RFM.csv',\n",
       " '/home/jian/Projects/Big_Lots/Live_Ramp/Quarterly_Update_2019Q3/upload_files/C_lapsed_18_48_PS_2019Q3_RFM.csv',\n",
       " '/home/jian/Projects/Big_Lots/Live_Ramp/Quarterly_Update_2019Q3/upload_files/T_Quadrant_III_P_H_2019Q3_RFM.csv',\n",
       " '/home/jian/Projects/Big_Lots/Live_Ramp/Quarterly_Update_2019Q3/upload_files/T_Quadrant_III_P_L_2019Q3_RFM.csv',\n",
       " '/home/jian/Projects/Big_Lots/Live_Ramp/Quarterly_Update_2019Q3/upload_files/T_Quadrant_III_P_M_2019Q3_RFM.csv',\n",
       " '/home/jian/Projects/Big_Lots/Live_Ramp/Quarterly_Update_2019Q3/upload_files/T_Quadrant_III_S_H_2019Q3_RFM.csv',\n",
       " '/home/jian/Projects/Big_Lots/Live_Ramp/Quarterly_Update_2019Q3/upload_files/T_Quadrant_III_S_L_2019Q3_RFM.csv',\n",
       " '/home/jian/Projects/Big_Lots/Live_Ramp/Quarterly_Update_2019Q3/upload_files/T_Quadrant_III_S_M_2019Q3_RFM.csv',\n",
       " '/home/jian/Projects/Big_Lots/Live_Ramp/Quarterly_Update_2019Q3/upload_files/T_Quadrant_II_P_H_2019Q3_RFM.csv',\n",
       " '/home/jian/Projects/Big_Lots/Live_Ramp/Quarterly_Update_2019Q3/upload_files/T_Quadrant_II_P_L_2019Q3_RFM.csv',\n",
       " '/home/jian/Projects/Big_Lots/Live_Ramp/Quarterly_Update_2019Q3/upload_files/T_Quadrant_II_P_M_2019Q3_RFM.csv',\n",
       " '/home/jian/Projects/Big_Lots/Live_Ramp/Quarterly_Update_2019Q3/upload_files/T_Quadrant_II_S_H_2019Q3_RFM.csv',\n",
       " '/home/jian/Projects/Big_Lots/Live_Ramp/Quarterly_Update_2019Q3/upload_files/T_Quadrant_II_S_L_2019Q3_RFM.csv',\n",
       " '/home/jian/Projects/Big_Lots/Live_Ramp/Quarterly_Update_2019Q3/upload_files/T_Quadrant_II_S_M_2019Q3_RFM.csv',\n",
       " '/home/jian/Projects/Big_Lots/Live_Ramp/Quarterly_Update_2019Q3/upload_files/T_Quadrant_IV_P_H_2019Q3_RFM.csv',\n",
       " '/home/jian/Projects/Big_Lots/Live_Ramp/Quarterly_Update_2019Q3/upload_files/T_Quadrant_IV_P_L_2019Q3_RFM.csv',\n",
       " '/home/jian/Projects/Big_Lots/Live_Ramp/Quarterly_Update_2019Q3/upload_files/T_Quadrant_IV_P_M_2019Q3_RFM.csv',\n",
       " '/home/jian/Projects/Big_Lots/Live_Ramp/Quarterly_Update_2019Q3/upload_files/T_Quadrant_IV_S_H_2019Q3_RFM.csv',\n",
       " '/home/jian/Projects/Big_Lots/Live_Ramp/Quarterly_Update_2019Q3/upload_files/T_Quadrant_IV_S_L_2019Q3_RFM.csv',\n",
       " '/home/jian/Projects/Big_Lots/Live_Ramp/Quarterly_Update_2019Q3/upload_files/T_Quadrant_IV_S_M_2019Q3_RFM.csv',\n",
       " '/home/jian/Projects/Big_Lots/Live_Ramp/Quarterly_Update_2019Q3/upload_files/T_Quadrant_I_P_H_2019Q3_RFM.csv',\n",
       " '/home/jian/Projects/Big_Lots/Live_Ramp/Quarterly_Update_2019Q3/upload_files/T_Quadrant_I_P_L_2019Q3_RFM.csv',\n",
       " '/home/jian/Projects/Big_Lots/Live_Ramp/Quarterly_Update_2019Q3/upload_files/T_Quadrant_I_P_M_2019Q3_RFM.csv',\n",
       " '/home/jian/Projects/Big_Lots/Live_Ramp/Quarterly_Update_2019Q3/upload_files/T_Quadrant_I_S_H_2019Q3_RFM.csv',\n",
       " '/home/jian/Projects/Big_Lots/Live_Ramp/Quarterly_Update_2019Q3/upload_files/T_Quadrant_I_S_L_2019Q3_RFM.csv',\n",
       " '/home/jian/Projects/Big_Lots/Live_Ramp/Quarterly_Update_2019Q3/upload_files/T_Quadrant_I_S_M_2019Q3_RFM.csv',\n",
       " '/home/jian/Projects/Big_Lots/Live_Ramp/Quarterly_Update_2019Q3/upload_files/T_lapsed_18_48_PS_2019Q3_RFM.csv']"
      ]
     },
     "execution_count": 4,
     "metadata": {},
     "output_type": "execute_result"
    }
   ],
   "source": [
    "folder_to_upload='/home/jian/Projects/Big_Lots/Live_Ramp/Quarterly_Update_2019Q3/upload_files/'\n",
    "all_files=sorted(glob.glob(folder_to_upload+\"*.csv\"))\n",
    "all_files"
   ]
  },
  {
   "cell_type": "code",
   "execution_count": 8,
   "metadata": {},
   "outputs": [
    {
     "data": {
      "text/plain": [
       "50"
      ]
     },
     "execution_count": 8,
     "metadata": {},
     "output_type": "execute_result"
    }
   ],
   "source": [
    "len(all_files)"
   ]
  },
  {
   "cell_type": "code",
   "execution_count": 12,
   "metadata": {
    "collapsed": true
   },
   "outputs": [
    {
     "name": "stdout",
     "output_type": "stream",
     "text": [
      "C_Quadrant_III_P_H_2019Q3_RFM.csv 42851 ['customer_id_hashed', 'email_address_hash', 'segment'] 3 ['C_Quadrant III_P_H_2019Q3_RFM']\n",
      "C_Quadrant_III_P_L_2019Q3_RFM.csv 31860 ['customer_id_hashed', 'email_address_hash', 'segment'] 3 ['C_Quadrant III_P_L_2019Q3_RFM']\n",
      "C_Quadrant_III_P_M_2019Q3_RFM.csv 31807 ['customer_id_hashed', 'email_address_hash', 'segment'] 3 ['C_Quadrant III_P_M_2019Q3_RFM']\n",
      "C_Quadrant_III_S_H_2019Q3_RFM.csv 14607 ['customer_id_hashed', 'email_address_hash', 'segment'] 3 ['C_Quadrant III_S_H_2019Q3_RFM']\n",
      "C_Quadrant_III_S_L_2019Q3_RFM.csv 13600 ['customer_id_hashed', 'email_address_hash', 'segment'] 3 ['C_Quadrant III_S_L_2019Q3_RFM']\n",
      "C_Quadrant_III_S_M_2019Q3_RFM.csv 12280 ['customer_id_hashed', 'email_address_hash', 'segment'] 3 ['C_Quadrant III_S_M_2019Q3_RFM']\n",
      "C_Quadrant_II_P_H_2019Q3_RFM.csv 17237 ['customer_id_hashed', 'email_address_hash', 'segment'] 3 ['C_Quadrant II_P_H_2019Q3_RFM']\n",
      "C_Quadrant_II_P_L_2019Q3_RFM.csv 11176 ['customer_id_hashed', 'email_address_hash', 'segment'] 3 ['C_Quadrant II_P_L_2019Q3_RFM']\n",
      "C_Quadrant_II_P_M_2019Q3_RFM.csv 12060 ['customer_id_hashed', 'email_address_hash', 'segment'] 3 ['C_Quadrant II_P_M_2019Q3_RFM']\n",
      "C_Quadrant_II_S_H_2019Q3_RFM.csv 5800 ['customer_id_hashed', 'email_address_hash', 'segment'] 3 ['C_Quadrant II_S_H_2019Q3_RFM']\n",
      "C_Quadrant_II_S_L_2019Q3_RFM.csv 4522 ['customer_id_hashed', 'email_address_hash', 'segment'] 3 ['C_Quadrant II_S_L_2019Q3_RFM']\n",
      "C_Quadrant_II_S_M_2019Q3_RFM.csv 4554 ['customer_id_hashed', 'email_address_hash', 'segment'] 3 ['C_Quadrant II_S_M_2019Q3_RFM']\n",
      "C_Quadrant_IV_P_H_2019Q3_RFM.csv 34843 ['customer_id_hashed', 'email_address_hash', 'segment'] 3 ['C_Quadrant IV_P_H_2019Q3_RFM']\n",
      "C_Quadrant_IV_P_L_2019Q3_RFM.csv 24355 ['customer_id_hashed', 'email_address_hash', 'segment'] 3 ['C_Quadrant IV_P_L_2019Q3_RFM']\n",
      "C_Quadrant_IV_P_M_2019Q3_RFM.csv 24755 ['customer_id_hashed', 'email_address_hash', 'segment'] 3 ['C_Quadrant IV_P_M_2019Q3_RFM']\n",
      "C_Quadrant_IV_S_H_2019Q3_RFM.csv 12615 ['customer_id_hashed', 'email_address_hash', 'segment'] 3 ['C_Quadrant IV_S_H_2019Q3_RFM']\n",
      "C_Quadrant_IV_S_L_2019Q3_RFM.csv 10450 ['customer_id_hashed', 'email_address_hash', 'segment'] 3 ['C_Quadrant IV_S_L_2019Q3_RFM']\n",
      "C_Quadrant_IV_S_M_2019Q3_RFM.csv 9977 ['customer_id_hashed', 'email_address_hash', 'segment'] 3 ['C_Quadrant IV_S_M_2019Q3_RFM']\n",
      "C_Quadrant_I_P_H_2019Q3_RFM.csv 38991 ['customer_id_hashed', 'email_address_hash', 'segment'] 3 ['C_Quadrant I_P_H_2019Q3_RFM']\n",
      "C_Quadrant_I_P_L_2019Q3_RFM.csv 24585 ['customer_id_hashed', 'email_address_hash', 'segment'] 3 ['C_Quadrant I_P_L_2019Q3_RFM']\n",
      "C_Quadrant_I_P_M_2019Q3_RFM.csv 26731 ['customer_id_hashed', 'email_address_hash', 'segment'] 3 ['C_Quadrant I_P_M_2019Q3_RFM']\n",
      "C_Quadrant_I_S_H_2019Q3_RFM.csv 12934 ['customer_id_hashed', 'email_address_hash', 'segment'] 3 ['C_Quadrant I_S_H_2019Q3_RFM']\n",
      "C_Quadrant_I_S_L_2019Q3_RFM.csv 10012 ['customer_id_hashed', 'email_address_hash', 'segment'] 3 ['C_Quadrant I_S_L_2019Q3_RFM']\n",
      "C_Quadrant_I_S_M_2019Q3_RFM.csv 10100 ['customer_id_hashed', 'email_address_hash', 'segment'] 3 ['C_Quadrant I_S_M_2019Q3_RFM']\n",
      "C_lapsed_18_48_PS_2019Q3_RFM.csv 100000 ['customer_id_hashed', 'email_address_hash', 'segment'] 3 ['C_lapsed_18_48_PS_RFM']\n",
      "T_Quadrant_III_P_H_2019Q3_RFM.csv 1580037 ['customer_id_hashed', 'email_address_hash', 'segment'] 3 ['T_Quadrant III_P_H_2019Q3_RFM']\n",
      "T_Quadrant_III_P_L_2019Q3_RFM.csv 1174721 ['customer_id_hashed', 'email_address_hash', 'segment'] 3 ['T_Quadrant III_P_L_2019Q3_RFM']\n",
      "T_Quadrant_III_P_M_2019Q3_RFM.csv 1172802 ['customer_id_hashed', 'email_address_hash', 'segment'] 3 ['T_Quadrant III_P_M_2019Q3_RFM']\n",
      "T_Quadrant_III_S_H_2019Q3_RFM.csv 538579 ['customer_id_hashed', 'email_address_hash', 'segment'] 3 ['T_Quadrant III_S_H_2019Q3_RFM']\n",
      "T_Quadrant_III_S_L_2019Q3_RFM.csv 501458 ['customer_id_hashed', 'email_address_hash', 'segment'] 3 ['T_Quadrant III_S_L_2019Q3_RFM']\n",
      "T_Quadrant_III_S_M_2019Q3_RFM.csv 452761 ['customer_id_hashed', 'email_address_hash', 'segment'] 3 ['T_Quadrant III_S_M_2019Q3_RFM']\n",
      "T_Quadrant_II_P_H_2019Q3_RFM.csv 635541 ['customer_id_hashed', 'email_address_hash', 'segment'] 3 ['T_Quadrant II_P_H_2019Q3_RFM']\n",
      "T_Quadrant_II_P_L_2019Q3_RFM.csv 412134 ['customer_id_hashed', 'email_address_hash', 'segment'] 3 ['T_Quadrant II_P_L_2019Q3_RFM']\n",
      "T_Quadrant_II_P_M_2019Q3_RFM.csv 444690 ['customer_id_hashed', 'email_address_hash', 'segment'] 3 ['T_Quadrant II_P_M_2019Q3_RFM']\n",
      "T_Quadrant_II_S_H_2019Q3_RFM.csv 213882 ['customer_id_hashed', 'email_address_hash', 'segment'] 3 ['T_Quadrant II_S_H_2019Q3_RFM']\n",
      "T_Quadrant_II_S_L_2019Q3_RFM.csv 166692 ['customer_id_hashed', 'email_address_hash', 'segment'] 3 ['T_Quadrant II_S_L_2019Q3_RFM']\n",
      "T_Quadrant_II_S_M_2019Q3_RFM.csv 167939 ['customer_id_hashed', 'email_address_hash', 'segment'] 3 ['T_Quadrant II_S_M_2019Q3_RFM']\n",
      "T_Quadrant_IV_P_H_2019Q3_RFM.csv 1284773 ['customer_id_hashed', 'email_address_hash', 'segment'] 3 ['T_Quadrant IV_P_H_2019Q3_RFM']\n",
      "T_Quadrant_IV_P_L_2019Q3_RFM.csv 898035 ['customer_id_hashed', 'email_address_hash', 'segment'] 3 ['T_Quadrant IV_P_L_2019Q3_RFM']\n",
      "T_Quadrant_IV_P_M_2019Q3_RFM.csv 912753 ['customer_id_hashed', 'email_address_hash', 'segment'] 3 ['T_Quadrant IV_P_M_2019Q3_RFM']\n",
      "T_Quadrant_IV_S_H_2019Q3_RFM.csv 465149 ['customer_id_hashed', 'email_address_hash', 'segment'] 3 ['T_Quadrant IV_S_H_2019Q3_RFM']\n",
      "T_Quadrant_IV_S_L_2019Q3_RFM.csv 385306 ['customer_id_hashed', 'email_address_hash', 'segment'] 3 ['T_Quadrant IV_S_L_2019Q3_RFM']\n",
      "T_Quadrant_IV_S_M_2019Q3_RFM.csv 367876 ['customer_id_hashed', 'email_address_hash', 'segment'] 3 ['T_Quadrant IV_S_M_2019Q3_RFM']\n",
      "T_Quadrant_I_P_H_2019Q3_RFM.csv 1437630 ['customer_id_hashed', 'email_address_hash', 'segment'] 3 ['T_Quadrant I_P_H_2019Q3_RFM']\n",
      "T_Quadrant_I_P_L_2019Q3_RFM.csv 906511 ['customer_id_hashed', 'email_address_hash', 'segment'] 3 ['T_Quadrant I_P_L_2019Q3_RFM']\n",
      "T_Quadrant_I_P_M_2019Q3_RFM.csv 985630 ['customer_id_hashed', 'email_address_hash', 'segment'] 3 ['T_Quadrant I_P_M_2019Q3_RFM']\n",
      "T_Quadrant_I_S_H_2019Q3_RFM.csv 476875 ['customer_id_hashed', 'email_address_hash', 'segment'] 3 ['T_Quadrant I_S_H_2019Q3_RFM']\n",
      "T_Quadrant_I_S_L_2019Q3_RFM.csv 369184 ['customer_id_hashed', 'email_address_hash', 'segment'] 3 ['T_Quadrant I_S_L_2019Q3_RFM']\n",
      "T_Quadrant_I_S_M_2019Q3_RFM.csv 372427 ['customer_id_hashed', 'email_address_hash', 'segment'] 3 ['T_Quadrant I_S_M_2019Q3_RFM']\n",
      "T_lapsed_18_48_PS_2019Q3_RFM.csv 5487169 ['customer_id_hashed', 'email_address_hash', 'segment'] 3 ['T_lapsed_18_48_PS_RFM']\n"
     ]
    }
   ],
   "source": [
    "for file in all_files:\n",
    "    df=pd.read_csv(file,dtype=str)\n",
    "    basename=os.path.basename(file)\n",
    "    print(basename,len(df),df.columns.tolist(),len(df.columns.tolist()),df['segment'].unique().tolist())\n",
    "    \n",
    "# Looks all right   "
   ]
  },
  {
   "cell_type": "code",
   "execution_count": 9,
   "metadata": {
    "collapsed": true
   },
   "outputs": [],
   "source": [
    "host = \"files.liveramp.com\"\n",
    "port = 22\n",
    "password = \"Biglots2018!\"\n",
    "username = \"lr-big-lots\"\n",
    "\n",
    "transport = paramiko.Transport((host, port))\n",
    "\n",
    "transport.connect(username = username, password = password)\n",
    "sftp = paramiko.SFTPClient.from_transport(transport)\n",
    "\n",
    "\n",
    "for local_path in all_files:\n",
    "    remote_path=\"/uploads/big_lots_onboarding/\"+os.path.basename(local_path)\n",
    "    sftp.put(local_path,remote_path)\n",
    "sftp.close()"
   ]
  },
  {
   "cell_type": "code",
   "execution_count": 10,
   "metadata": {
    "collapsed": true
   },
   "outputs": [],
   "source": [
    "transport.close()"
   ]
  },
  {
   "cell_type": "code",
   "execution_count": null,
   "metadata": {
    "collapsed": true
   },
   "outputs": [],
   "source": []
  }
 ],
 "metadata": {
  "kernelspec": {
   "display_name": "Python 3",
   "language": "python",
   "name": "python3"
  },
  "language_info": {
   "codemirror_mode": {
    "name": "ipython",
    "version": 3
   },
   "file_extension": ".py",
   "mimetype": "text/x-python",
   "name": "python",
   "nbconvert_exporter": "python",
   "pygments_lexer": "ipython3",
   "version": "3.6.1"
  }
 },
 "nbformat": 4,
 "nbformat_minor": 2
}
