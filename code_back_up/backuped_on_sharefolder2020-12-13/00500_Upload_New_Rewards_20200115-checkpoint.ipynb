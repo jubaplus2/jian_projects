{
 "cells": [
  {
   "cell_type": "code",
   "execution_count": 1,
   "metadata": {},
   "outputs": [],
   "source": [
    "# 2 weeks together\n",
    "import pandas as pd\n",
    "import numpy as np\n",
    "import datetime\n",
    "import os\n",
    "# Add the new folders of Jian later"
   ]
  },
  {
   "cell_type": "code",
   "execution_count": 9,
   "metadata": {},
   "outputs": [
    {
     "data": {
      "text/plain": [
       "[datetime.date(2020, 1, 11), datetime.date(2020, 1, 4)]"
      ]
     },
     "execution_count": 9,
     "metadata": {},
     "output_type": "execute_result"
    }
   ],
   "source": [
    "def recursive_file_gen(my_root_dir):\n",
    "    for root, dirs, files in os.walk(my_root_dir):\n",
    "        for file in files:\n",
    "            yield os.path.join(root, file)\n",
    "            \n",
    "last_saturday=datetime.datetime.now().date()-datetime.timedelta(days=datetime.datetime.now().date().weekday()+2) #+7\n",
    "\n",
    "write_folder=\"/home/jian/celery/BiWeekly_New_SignUps/monthly_update/output_\"+str(last_saturday)+\"/\"\n",
    "try:\n",
    "    os.stat(write_folder)\n",
    "except:\n",
    "    os.mkdir(write_folder)\n",
    "\n",
    "week_beginning=last_saturday-datetime.timedelta(days=28) # To be changed to 14\n",
    "\n",
    "recent_2_weeks=[last_saturday-datetime.timedelta(days=x*7) for x in range(2)]\n",
    "recent_2_weeks"
   ]
  },
  {
   "cell_type": "code",
   "execution_count": 10,
   "metadata": {},
   "outputs": [
    {
     "name": "stdout",
     "output_type": "stream",
     "text": [
      "4\n"
     ]
    }
   ],
   "source": [
    "# Checking for the recent weeks that haven't moved to the folder\n",
    "possible_recent_folders=[\"/home/jian/BigLots/MediaStorm_\"+str(x)+\"/\" for x in recent_2_weeks]\n",
    "recent_file_list=[]\n",
    "for dirc in possible_recent_folders:\n",
    "    list_recent=[x for x in list(recursive_file_gen(dirc)) if (\"Master\" in x) & (\".txt\" in x) ]\n",
    "    recent_file_list=recent_file_list+list_recent\n",
    "recent_file_df=pd.DataFrame({\"path\":recent_file_list,\"date\":[datetime.datetime.strptime(x.split(\"MasterWeekly\")[1][:8],\"%Y%m%d\").date()-datetime.timedelta(days=3) for x in recent_file_list]},index=[x for x in range(len(recent_file_list))])\n",
    "\n",
    "\n",
    "list_1_after_201806=[x for x in list(recursive_file_gen(\"/home/jian/BigLots/2019_by_weeks/\")) if (\"Master\" in x) & (\".txt\" in x) ]\n",
    "list_2_after_201806=[x for x in list(recursive_file_gen(\"/home/jian/BigLots/2020_by_weeks/\")) if (\"Master\" in x) & (\".txt\" in x) ]\n",
    "list_1_after_201806=list_1_after_201806+list_2_after_201806\n",
    "folder_date=[datetime.datetime.strptime(x.split(\"/\")[len(x.split(\"/\"))-2].split(\"_\")[1],\"%Y-%m-%d\").date() for x in list_1_after_201806]\n",
    "df_1_after_201806=pd.DataFrame({\"date\":folder_date,\"path\":list_1_after_201806},index=[x for x in range(len(list_1_after_201806))])\n",
    "df_1_after_201806['date'].apply(lambda x: x.weekday()).unique()\n",
    "df_1_after_201806=df_1_after_201806.sort_values(\"date\").reset_index()\n",
    "df_1_after_201806=df_1_after_201806[df_1_after_201806['date']>week_beginning]\n",
    "del df_1_after_201806['index']\n",
    "\n",
    "new_2_biweekly_files=df_1_after_201806.append(recent_file_df)\n",
    "\n",
    "print(len(new_2_biweekly_files))\n",
    "new_2_biweekly_files=new_2_biweekly_files['path'].unique().tolist()"
   ]
  },
  {
   "cell_type": "code",
   "execution_count": 11,
   "metadata": {},
   "outputs": [
    {
     "data": {
      "text/plain": [
       "['/home/jian/BigLots/2019_by_weeks/MediaStorm_2019-12-21/MediaStormMasterWeekly20191226-122746-283.txt',\n",
       " '/home/jian/BigLots/2019_by_weeks/MediaStorm_2019-12-28/MediaStormMasterWeekly20191231-113542-859.txt',\n",
       " '/home/jian/BigLots/2020_by_weeks/MediaStorm_2020-01-04/MediaStormMasterWeekly20200107-113348-460.txt',\n",
       " '/home/jian/BigLots/MediaStorm_2020-01-11/MediaStormMasterWeekly20200114-115243-549.txt']"
      ]
     },
     "execution_count": 11,
     "metadata": {},
     "output_type": "execute_result"
    }
   ],
   "source": [
    "new_2_biweekly_files"
   ]
  },
  {
   "cell_type": "code",
   "execution_count": 12,
   "metadata": {},
   "outputs": [
    {
     "name": "stdout",
     "output_type": "stream",
     "text": [
      "(170066, 3)\n",
      "(304749, 3)\n",
      "(420612, 3)\n",
      "(512142, 3)\n",
      "512142\n",
      "512137\n"
     ]
    }
   ],
   "source": [
    "if len(new_2_biweekly_files)==4: # Changed to weekly\n",
    "    df_all_new_master = pd.DataFrame()\n",
    "    for file in new_2_biweekly_files:\n",
    "        df = pd.read_csv(file,nrows = None,sep= '|',usecols = ['customer_id_hashed','email_address_hash','customer_zip_code'],\n",
    "                         dtype =str)\n",
    "        df_all_new_master = df_all_new_master.append(df,ignore_index = True)\n",
    "        print(df_all_new_master.shape)\n",
    "    print(len(df_all_new_master.index))\n",
    "    df_all_new_master = df_all_new_master.drop_duplicates('email_address_hash')\n",
    "    print(len(df_all_new_master.index))\n"
   ]
  },
  {
   "cell_type": "code",
   "execution_count": 13,
   "metadata": {},
   "outputs": [
    {
     "name": "stdout",
     "output_type": "stream",
     "text": [
      "178\n"
     ]
    }
   ],
   "source": [
    "# Remove previous week ids\n",
    "\n",
    "previous_id_files_lists=list(recursive_file_gen(\"/home/jian/Projects/Big_Lots/Live_Ramp/Quarterly_Update_2019Q4/upload_files/\"))\n",
    "\n",
    "# previous_id_files_lists=[x for x in previous_id_files_lists if \"Copy of 48 Stores_727.csv\" not in x]\n",
    "previous_id_files_lists=[x for x in previous_id_files_lists if \".csv\" in x]\n",
    "print(len(previous_id_files_lists))"
   ]
  },
  {
   "cell_type": "code",
   "execution_count": 14,
   "metadata": {},
   "outputs": [
    {
     "data": {
      "text/plain": [
       "['/home/jian/Projects/Big_Lots/Live_Ramp/Quarterly_Update_2019Q4/upload_files/T_Active(0-12)_Score(H)_Density(H)_Legacy_HolidayShoppers_P_2019Q4_RFM.csv',\n",
       " '/home/jian/Projects/Big_Lots/Live_Ramp/Quarterly_Update_2019Q4/upload_files/T_Active(0-12)_Score(H)_Density(H)_Legacy_HolidayShoppers_S_2019Q4_RFM.csv',\n",
       " '/home/jian/Projects/Big_Lots/Live_Ramp/Quarterly_Update_2019Q4/upload_files/T_Active(0-12)_Score(H)_Density(H)_Legacy_Others_P_2019Q4_RFM.csv',\n",
       " '/home/jian/Projects/Big_Lots/Live_Ramp/Quarterly_Update_2019Q4/upload_files/T_Active(0-12)_Score(H)_Density(H)_Legacy_Others_S_2019Q4_RFM.csv',\n",
       " '/home/jian/Projects/Big_Lots/Live_Ramp/Quarterly_Update_2019Q4/upload_files/T_Active(0-12)_Score(H)_Density(H)_SOTF_HolidayShoppers_P_2019Q4_RFM.csv',\n",
       " '/home/jian/Projects/Big_Lots/Live_Ramp/Quarterly_Update_2019Q4/upload_files/T_Active(0-12)_Score(H)_Density(H)_SOTF_HolidayShoppers_S_2019Q4_RFM.csv',\n",
       " '/home/jian/Projects/Big_Lots/Live_Ramp/Quarterly_Update_2019Q4/upload_files/T_Active(0-12)_Score(H)_Density(H)_SOTF_Others_P_2019Q4_RFM.csv',\n",
       " '/home/jian/Projects/Big_Lots/Live_Ramp/Quarterly_Update_2019Q4/upload_files/T_Active(0-12)_Score(H)_Density(H)_SOTF_Others_S_2019Q4_RFM.csv',\n",
       " '/home/jian/Projects/Big_Lots/Live_Ramp/Quarterly_Update_2019Q4/upload_files/T_Active(0-12)_Score(H)_Density(L)_Legacy_HolidayShoppers_P_2019Q4_RFM.csv',\n",
       " '/home/jian/Projects/Big_Lots/Live_Ramp/Quarterly_Update_2019Q4/upload_files/T_Active(0-12)_Score(H)_Density(L)_Legacy_HolidayShoppers_S_2019Q4_RFM.csv',\n",
       " '/home/jian/Projects/Big_Lots/Live_Ramp/Quarterly_Update_2019Q4/upload_files/T_Active(0-12)_Score(H)_Density(L)_Legacy_Others_P_2019Q4_RFM.csv',\n",
       " '/home/jian/Projects/Big_Lots/Live_Ramp/Quarterly_Update_2019Q4/upload_files/T_Active(0-12)_Score(H)_Density(L)_Legacy_Others_S_2019Q4_RFM.csv',\n",
       " '/home/jian/Projects/Big_Lots/Live_Ramp/Quarterly_Update_2019Q4/upload_files/T_Active(0-12)_Score(H)_Density(L)_SOTF_HolidayShoppers_P_2019Q4_RFM.csv',\n",
       " '/home/jian/Projects/Big_Lots/Live_Ramp/Quarterly_Update_2019Q4/upload_files/T_Active(0-12)_Score(H)_Density(L)_SOTF_HolidayShoppers_S_2019Q4_RFM.csv',\n",
       " '/home/jian/Projects/Big_Lots/Live_Ramp/Quarterly_Update_2019Q4/upload_files/T_Active(0-12)_Score(H)_Density(L)_SOTF_Others_P_2019Q4_RFM.csv',\n",
       " '/home/jian/Projects/Big_Lots/Live_Ramp/Quarterly_Update_2019Q4/upload_files/T_Active(0-12)_Score(H)_Density(L)_SOTF_Others_S_2019Q4_RFM.csv',\n",
       " '/home/jian/Projects/Big_Lots/Live_Ramp/Quarterly_Update_2019Q4/upload_files/T_Active(0-12)_Score(H)_Density(M)_Legacy_HolidayShoppers_P_2019Q4_RFM.csv',\n",
       " '/home/jian/Projects/Big_Lots/Live_Ramp/Quarterly_Update_2019Q4/upload_files/T_Active(0-12)_Score(H)_Density(M)_Legacy_HolidayShoppers_S_2019Q4_RFM.csv',\n",
       " '/home/jian/Projects/Big_Lots/Live_Ramp/Quarterly_Update_2019Q4/upload_files/T_Active(0-12)_Score(H)_Density(M)_Legacy_Others_P_2019Q4_RFM.csv',\n",
       " '/home/jian/Projects/Big_Lots/Live_Ramp/Quarterly_Update_2019Q4/upload_files/T_Active(0-12)_Score(H)_Density(M)_Legacy_Others_S_2019Q4_RFM.csv',\n",
       " '/home/jian/Projects/Big_Lots/Live_Ramp/Quarterly_Update_2019Q4/upload_files/T_Active(0-12)_Score(H)_Density(M)_SOTF_HolidayShoppers_P_2019Q4_RFM.csv',\n",
       " '/home/jian/Projects/Big_Lots/Live_Ramp/Quarterly_Update_2019Q4/upload_files/T_Active(0-12)_Score(H)_Density(M)_SOTF_HolidayShoppers_S_2019Q4_RFM.csv',\n",
       " '/home/jian/Projects/Big_Lots/Live_Ramp/Quarterly_Update_2019Q4/upload_files/T_Active(0-12)_Score(H)_Density(M)_SOTF_Others_P_2019Q4_RFM.csv',\n",
       " '/home/jian/Projects/Big_Lots/Live_Ramp/Quarterly_Update_2019Q4/upload_files/T_Active(0-12)_Score(H)_Density(M)_SOTF_Others_S_2019Q4_RFM.csv',\n",
       " '/home/jian/Projects/Big_Lots/Live_Ramp/Quarterly_Update_2019Q4/upload_files/T_Active(0-12)_Score(L)_Density(H)_Legacy_HolidayShoppers_P_2019Q4_RFM.csv',\n",
       " '/home/jian/Projects/Big_Lots/Live_Ramp/Quarterly_Update_2019Q4/upload_files/T_Active(0-12)_Score(L)_Density(H)_Legacy_HolidayShoppers_S_2019Q4_RFM.csv',\n",
       " '/home/jian/Projects/Big_Lots/Live_Ramp/Quarterly_Update_2019Q4/upload_files/T_Active(0-12)_Score(L)_Density(H)_Legacy_Others_P_2019Q4_RFM.csv',\n",
       " '/home/jian/Projects/Big_Lots/Live_Ramp/Quarterly_Update_2019Q4/upload_files/T_Active(0-12)_Score(L)_Density(H)_Legacy_Others_S_2019Q4_RFM.csv',\n",
       " '/home/jian/Projects/Big_Lots/Live_Ramp/Quarterly_Update_2019Q4/upload_files/T_Active(0-12)_Score(L)_Density(H)_SOTF_HolidayShoppers_P_2019Q4_RFM.csv',\n",
       " '/home/jian/Projects/Big_Lots/Live_Ramp/Quarterly_Update_2019Q4/upload_files/T_Active(0-12)_Score(L)_Density(H)_SOTF_HolidayShoppers_S_2019Q4_RFM.csv',\n",
       " '/home/jian/Projects/Big_Lots/Live_Ramp/Quarterly_Update_2019Q4/upload_files/T_Active(0-12)_Score(L)_Density(H)_SOTF_Others_P_2019Q4_RFM.csv',\n",
       " '/home/jian/Projects/Big_Lots/Live_Ramp/Quarterly_Update_2019Q4/upload_files/T_Active(0-12)_Score(L)_Density(H)_SOTF_Others_S_2019Q4_RFM.csv',\n",
       " '/home/jian/Projects/Big_Lots/Live_Ramp/Quarterly_Update_2019Q4/upload_files/T_Active(0-12)_Score(L)_Density(L)_Legacy_HolidayShoppers_P_2019Q4_RFM.csv',\n",
       " '/home/jian/Projects/Big_Lots/Live_Ramp/Quarterly_Update_2019Q4/upload_files/T_Active(0-12)_Score(L)_Density(L)_Legacy_HolidayShoppers_S_2019Q4_RFM.csv',\n",
       " '/home/jian/Projects/Big_Lots/Live_Ramp/Quarterly_Update_2019Q4/upload_files/T_Active(0-12)_Score(L)_Density(L)_Legacy_Others_P_2019Q4_RFM.csv',\n",
       " '/home/jian/Projects/Big_Lots/Live_Ramp/Quarterly_Update_2019Q4/upload_files/T_Active(0-12)_Score(L)_Density(L)_Legacy_Others_S_2019Q4_RFM.csv',\n",
       " '/home/jian/Projects/Big_Lots/Live_Ramp/Quarterly_Update_2019Q4/upload_files/T_Active(0-12)_Score(L)_Density(L)_SOTF_HolidayShoppers_P_2019Q4_RFM.csv',\n",
       " '/home/jian/Projects/Big_Lots/Live_Ramp/Quarterly_Update_2019Q4/upload_files/T_Active(0-12)_Score(L)_Density(L)_SOTF_HolidayShoppers_S_2019Q4_RFM.csv',\n",
       " '/home/jian/Projects/Big_Lots/Live_Ramp/Quarterly_Update_2019Q4/upload_files/T_Active(0-12)_Score(L)_Density(L)_SOTF_Others_P_2019Q4_RFM.csv',\n",
       " '/home/jian/Projects/Big_Lots/Live_Ramp/Quarterly_Update_2019Q4/upload_files/T_Active(0-12)_Score(L)_Density(L)_SOTF_Others_S_2019Q4_RFM.csv',\n",
       " '/home/jian/Projects/Big_Lots/Live_Ramp/Quarterly_Update_2019Q4/upload_files/T_Active(0-12)_Score(L)_Density(M)_Legacy_HolidayShoppers_P_2019Q4_RFM.csv',\n",
       " '/home/jian/Projects/Big_Lots/Live_Ramp/Quarterly_Update_2019Q4/upload_files/T_Active(0-12)_Score(L)_Density(M)_Legacy_HolidayShoppers_S_2019Q4_RFM.csv',\n",
       " '/home/jian/Projects/Big_Lots/Live_Ramp/Quarterly_Update_2019Q4/upload_files/T_Active(0-12)_Score(L)_Density(M)_Legacy_Others_P_2019Q4_RFM.csv',\n",
       " '/home/jian/Projects/Big_Lots/Live_Ramp/Quarterly_Update_2019Q4/upload_files/T_Active(0-12)_Score(L)_Density(M)_Legacy_Others_S_2019Q4_RFM.csv',\n",
       " '/home/jian/Projects/Big_Lots/Live_Ramp/Quarterly_Update_2019Q4/upload_files/T_Active(0-12)_Score(L)_Density(M)_SOTF_HolidayShoppers_P_2019Q4_RFM.csv',\n",
       " '/home/jian/Projects/Big_Lots/Live_Ramp/Quarterly_Update_2019Q4/upload_files/T_Active(0-12)_Score(L)_Density(M)_SOTF_HolidayShoppers_S_2019Q4_RFM.csv',\n",
       " '/home/jian/Projects/Big_Lots/Live_Ramp/Quarterly_Update_2019Q4/upload_files/T_Active(0-12)_Score(L)_Density(M)_SOTF_Others_P_2019Q4_RFM.csv',\n",
       " '/home/jian/Projects/Big_Lots/Live_Ramp/Quarterly_Update_2019Q4/upload_files/T_Active(0-12)_Score(L)_Density(M)_SOTF_Others_S_2019Q4_RFM.csv',\n",
       " '/home/jian/Projects/Big_Lots/Live_Ramp/Quarterly_Update_2019Q4/upload_files/T_Active(0-12)_Score(M)_Density(H)_Legacy_HolidayShoppers_P_2019Q4_RFM.csv',\n",
       " '/home/jian/Projects/Big_Lots/Live_Ramp/Quarterly_Update_2019Q4/upload_files/T_Active(0-12)_Score(M)_Density(H)_Legacy_HolidayShoppers_S_2019Q4_RFM.csv',\n",
       " '/home/jian/Projects/Big_Lots/Live_Ramp/Quarterly_Update_2019Q4/upload_files/T_Active(0-12)_Score(M)_Density(H)_Legacy_Others_P_2019Q4_RFM.csv',\n",
       " '/home/jian/Projects/Big_Lots/Live_Ramp/Quarterly_Update_2019Q4/upload_files/T_Active(0-12)_Score(M)_Density(H)_Legacy_Others_S_2019Q4_RFM.csv',\n",
       " '/home/jian/Projects/Big_Lots/Live_Ramp/Quarterly_Update_2019Q4/upload_files/T_Active(0-12)_Score(M)_Density(H)_SOTF_HolidayShoppers_P_2019Q4_RFM.csv',\n",
       " '/home/jian/Projects/Big_Lots/Live_Ramp/Quarterly_Update_2019Q4/upload_files/T_Active(0-12)_Score(M)_Density(H)_SOTF_HolidayShoppers_S_2019Q4_RFM.csv',\n",
       " '/home/jian/Projects/Big_Lots/Live_Ramp/Quarterly_Update_2019Q4/upload_files/T_Active(0-12)_Score(M)_Density(H)_SOTF_Others_P_2019Q4_RFM.csv',\n",
       " '/home/jian/Projects/Big_Lots/Live_Ramp/Quarterly_Update_2019Q4/upload_files/T_Active(0-12)_Score(M)_Density(H)_SOTF_Others_S_2019Q4_RFM.csv',\n",
       " '/home/jian/Projects/Big_Lots/Live_Ramp/Quarterly_Update_2019Q4/upload_files/T_Active(0-12)_Score(M)_Density(L)_Legacy_HolidayShoppers_P_2019Q4_RFM.csv',\n",
       " '/home/jian/Projects/Big_Lots/Live_Ramp/Quarterly_Update_2019Q4/upload_files/T_Active(0-12)_Score(M)_Density(L)_Legacy_HolidayShoppers_S_2019Q4_RFM.csv',\n",
       " '/home/jian/Projects/Big_Lots/Live_Ramp/Quarterly_Update_2019Q4/upload_files/T_Active(0-12)_Score(M)_Density(L)_Legacy_Others_P_2019Q4_RFM.csv',\n",
       " '/home/jian/Projects/Big_Lots/Live_Ramp/Quarterly_Update_2019Q4/upload_files/T_Active(0-12)_Score(M)_Density(L)_Legacy_Others_S_2019Q4_RFM.csv',\n",
       " '/home/jian/Projects/Big_Lots/Live_Ramp/Quarterly_Update_2019Q4/upload_files/T_Active(0-12)_Score(M)_Density(L)_SOTF_HolidayShoppers_P_2019Q4_RFM.csv',\n",
       " '/home/jian/Projects/Big_Lots/Live_Ramp/Quarterly_Update_2019Q4/upload_files/T_Active(0-12)_Score(M)_Density(L)_SOTF_HolidayShoppers_S_2019Q4_RFM.csv',\n",
       " '/home/jian/Projects/Big_Lots/Live_Ramp/Quarterly_Update_2019Q4/upload_files/T_Active(0-12)_Score(M)_Density(L)_SOTF_Others_P_2019Q4_RFM.csv',\n",
       " '/home/jian/Projects/Big_Lots/Live_Ramp/Quarterly_Update_2019Q4/upload_files/T_Active(0-12)_Score(M)_Density(L)_SOTF_Others_S_2019Q4_RFM.csv',\n",
       " '/home/jian/Projects/Big_Lots/Live_Ramp/Quarterly_Update_2019Q4/upload_files/T_Active(0-12)_Score(M)_Density(M)_Legacy_HolidayShoppers_P_2019Q4_RFM.csv',\n",
       " '/home/jian/Projects/Big_Lots/Live_Ramp/Quarterly_Update_2019Q4/upload_files/T_Active(0-12)_Score(M)_Density(M)_Legacy_HolidayShoppers_S_2019Q4_RFM.csv',\n",
       " '/home/jian/Projects/Big_Lots/Live_Ramp/Quarterly_Update_2019Q4/upload_files/T_Active(0-12)_Score(M)_Density(M)_Legacy_Others_P_2019Q4_RFM.csv',\n",
       " '/home/jian/Projects/Big_Lots/Live_Ramp/Quarterly_Update_2019Q4/upload_files/T_Active(0-12)_Score(M)_Density(M)_Legacy_Others_S_2019Q4_RFM.csv',\n",
       " '/home/jian/Projects/Big_Lots/Live_Ramp/Quarterly_Update_2019Q4/upload_files/T_Active(0-12)_Score(M)_Density(M)_SOTF_HolidayShoppers_P_2019Q4_RFM.csv',\n",
       " '/home/jian/Projects/Big_Lots/Live_Ramp/Quarterly_Update_2019Q4/upload_files/T_Active(0-12)_Score(M)_Density(M)_SOTF_HolidayShoppers_S_2019Q4_RFM.csv',\n",
       " '/home/jian/Projects/Big_Lots/Live_Ramp/Quarterly_Update_2019Q4/upload_files/T_Active(0-12)_Score(M)_Density(M)_SOTF_Others_P_2019Q4_RFM.csv',\n",
       " '/home/jian/Projects/Big_Lots/Live_Ramp/Quarterly_Update_2019Q4/upload_files/T_Active(0-12)_Score(M)_Density(M)_SOTF_Others_S_2019Q4_RFM.csv',\n",
       " '/home/jian/Projects/Big_Lots/Live_Ramp/Quarterly_Update_2019Q4/upload_files/T_Lapsed(13-18)_Score(L)_Density(H)_Legacy_AllExpCluster_P_2019Q4_RFM.csv',\n",
       " '/home/jian/Projects/Big_Lots/Live_Ramp/Quarterly_Update_2019Q4/upload_files/T_Lapsed(13-18)_Score(L)_Density(H)_Legacy_AllExpCluster_S_2019Q4_RFM.csv',\n",
       " '/home/jian/Projects/Big_Lots/Live_Ramp/Quarterly_Update_2019Q4/upload_files/T_Lapsed(13-18)_Score(L)_Density(H)_SOTF_AllExpCluster_P_2019Q4_RFM.csv',\n",
       " '/home/jian/Projects/Big_Lots/Live_Ramp/Quarterly_Update_2019Q4/upload_files/T_Lapsed(13-18)_Score(L)_Density(H)_SOTF_AllExpCluster_S_2019Q4_RFM.csv',\n",
       " '/home/jian/Projects/Big_Lots/Live_Ramp/Quarterly_Update_2019Q4/upload_files/T_Lapsed(13-18)_Score(L)_Density(L)_Legacy_AllExpCluster_P_2019Q4_RFM.csv',\n",
       " '/home/jian/Projects/Big_Lots/Live_Ramp/Quarterly_Update_2019Q4/upload_files/T_Lapsed(13-18)_Score(L)_Density(L)_Legacy_AllExpCluster_S_2019Q4_RFM.csv',\n",
       " '/home/jian/Projects/Big_Lots/Live_Ramp/Quarterly_Update_2019Q4/upload_files/T_Lapsed(13-18)_Score(L)_Density(L)_SOTF_AllExpCluster_P_2019Q4_RFM.csv',\n",
       " '/home/jian/Projects/Big_Lots/Live_Ramp/Quarterly_Update_2019Q4/upload_files/T_Lapsed(13-18)_Score(L)_Density(L)_SOTF_AllExpCluster_S_2019Q4_RFM.csv',\n",
       " '/home/jian/Projects/Big_Lots/Live_Ramp/Quarterly_Update_2019Q4/upload_files/T_Lapsed(13-18)_Score(L)_Density(M)_Legacy_AllExpCluster_P_2019Q4_RFM.csv',\n",
       " '/home/jian/Projects/Big_Lots/Live_Ramp/Quarterly_Update_2019Q4/upload_files/T_Lapsed(13-18)_Score(L)_Density(M)_Legacy_AllExpCluster_S_2019Q4_RFM.csv',\n",
       " '/home/jian/Projects/Big_Lots/Live_Ramp/Quarterly_Update_2019Q4/upload_files/T_Lapsed(13-18)_Score(L)_Density(M)_SOTF_AllExpCluster_P_2019Q4_RFM.csv',\n",
       " '/home/jian/Projects/Big_Lots/Live_Ramp/Quarterly_Update_2019Q4/upload_files/T_Lapsed(13-18)_Score(L)_Density(M)_SOTF_AllExpCluster_S_2019Q4_RFM.csv',\n",
       " '/home/jian/Projects/Big_Lots/Live_Ramp/Quarterly_Update_2019Q4/upload_files/C_Active(0-12)_Score(H)_Density(H)_Legacy_HolidayShoppers_P_2019Q4_RFM.csv',\n",
       " '/home/jian/Projects/Big_Lots/Live_Ramp/Quarterly_Update_2019Q4/upload_files/C_Active(0-12)_Score(H)_Density(H)_Legacy_HolidayShoppers_S_2019Q4_RFM.csv',\n",
       " '/home/jian/Projects/Big_Lots/Live_Ramp/Quarterly_Update_2019Q4/upload_files/C_Active(0-12)_Score(H)_Density(H)_Legacy_Others_P_2019Q4_RFM.csv',\n",
       " '/home/jian/Projects/Big_Lots/Live_Ramp/Quarterly_Update_2019Q4/upload_files/C_Active(0-12)_Score(H)_Density(H)_Legacy_Others_S_2019Q4_RFM.csv',\n",
       " '/home/jian/Projects/Big_Lots/Live_Ramp/Quarterly_Update_2019Q4/upload_files/C_Active(0-12)_Score(H)_Density(H)_SOTF_HolidayShoppers_P_2019Q4_RFM.csv',\n",
       " '/home/jian/Projects/Big_Lots/Live_Ramp/Quarterly_Update_2019Q4/upload_files/C_Active(0-12)_Score(H)_Density(H)_SOTF_HolidayShoppers_S_2019Q4_RFM.csv',\n",
       " '/home/jian/Projects/Big_Lots/Live_Ramp/Quarterly_Update_2019Q4/upload_files/C_Active(0-12)_Score(H)_Density(H)_SOTF_Others_P_2019Q4_RFM.csv',\n",
       " '/home/jian/Projects/Big_Lots/Live_Ramp/Quarterly_Update_2019Q4/upload_files/C_Active(0-12)_Score(H)_Density(H)_SOTF_Others_S_2019Q4_RFM.csv',\n",
       " '/home/jian/Projects/Big_Lots/Live_Ramp/Quarterly_Update_2019Q4/upload_files/C_Active(0-12)_Score(H)_Density(L)_Legacy_HolidayShoppers_P_2019Q4_RFM.csv',\n",
       " '/home/jian/Projects/Big_Lots/Live_Ramp/Quarterly_Update_2019Q4/upload_files/C_Active(0-12)_Score(H)_Density(L)_Legacy_HolidayShoppers_S_2019Q4_RFM.csv',\n",
       " '/home/jian/Projects/Big_Lots/Live_Ramp/Quarterly_Update_2019Q4/upload_files/C_Active(0-12)_Score(H)_Density(L)_Legacy_Others_P_2019Q4_RFM.csv',\n",
       " '/home/jian/Projects/Big_Lots/Live_Ramp/Quarterly_Update_2019Q4/upload_files/C_Active(0-12)_Score(H)_Density(L)_Legacy_Others_S_2019Q4_RFM.csv',\n",
       " '/home/jian/Projects/Big_Lots/Live_Ramp/Quarterly_Update_2019Q4/upload_files/C_Active(0-12)_Score(H)_Density(L)_SOTF_HolidayShoppers_P_2019Q4_RFM.csv',\n",
       " '/home/jian/Projects/Big_Lots/Live_Ramp/Quarterly_Update_2019Q4/upload_files/C_Active(0-12)_Score(H)_Density(L)_SOTF_HolidayShoppers_S_2019Q4_RFM.csv',\n",
       " '/home/jian/Projects/Big_Lots/Live_Ramp/Quarterly_Update_2019Q4/upload_files/C_Active(0-12)_Score(H)_Density(L)_SOTF_Others_P_2019Q4_RFM.csv',\n",
       " '/home/jian/Projects/Big_Lots/Live_Ramp/Quarterly_Update_2019Q4/upload_files/C_Active(0-12)_Score(H)_Density(L)_SOTF_Others_S_2019Q4_RFM.csv',\n",
       " '/home/jian/Projects/Big_Lots/Live_Ramp/Quarterly_Update_2019Q4/upload_files/C_Active(0-12)_Score(H)_Density(M)_Legacy_HolidayShoppers_P_2019Q4_RFM.csv',\n",
       " '/home/jian/Projects/Big_Lots/Live_Ramp/Quarterly_Update_2019Q4/upload_files/C_Active(0-12)_Score(H)_Density(M)_Legacy_HolidayShoppers_S_2019Q4_RFM.csv',\n",
       " '/home/jian/Projects/Big_Lots/Live_Ramp/Quarterly_Update_2019Q4/upload_files/C_Active(0-12)_Score(H)_Density(M)_Legacy_Others_P_2019Q4_RFM.csv',\n",
       " '/home/jian/Projects/Big_Lots/Live_Ramp/Quarterly_Update_2019Q4/upload_files/C_Active(0-12)_Score(H)_Density(M)_Legacy_Others_S_2019Q4_RFM.csv',\n",
       " '/home/jian/Projects/Big_Lots/Live_Ramp/Quarterly_Update_2019Q4/upload_files/C_Active(0-12)_Score(H)_Density(M)_SOTF_HolidayShoppers_P_2019Q4_RFM.csv',\n",
       " '/home/jian/Projects/Big_Lots/Live_Ramp/Quarterly_Update_2019Q4/upload_files/C_Active(0-12)_Score(H)_Density(M)_SOTF_HolidayShoppers_S_2019Q4_RFM.csv',\n",
       " '/home/jian/Projects/Big_Lots/Live_Ramp/Quarterly_Update_2019Q4/upload_files/C_Active(0-12)_Score(H)_Density(M)_SOTF_Others_P_2019Q4_RFM.csv',\n",
       " '/home/jian/Projects/Big_Lots/Live_Ramp/Quarterly_Update_2019Q4/upload_files/C_Active(0-12)_Score(H)_Density(M)_SOTF_Others_S_2019Q4_RFM.csv',\n",
       " '/home/jian/Projects/Big_Lots/Live_Ramp/Quarterly_Update_2019Q4/upload_files/C_Active(0-12)_Score(L)_Density(H)_Legacy_HolidayShoppers_P_2019Q4_RFM.csv',\n",
       " '/home/jian/Projects/Big_Lots/Live_Ramp/Quarterly_Update_2019Q4/upload_files/C_Active(0-12)_Score(L)_Density(H)_Legacy_HolidayShoppers_S_2019Q4_RFM.csv',\n",
       " '/home/jian/Projects/Big_Lots/Live_Ramp/Quarterly_Update_2019Q4/upload_files/C_Active(0-12)_Score(L)_Density(H)_Legacy_Others_P_2019Q4_RFM.csv',\n",
       " '/home/jian/Projects/Big_Lots/Live_Ramp/Quarterly_Update_2019Q4/upload_files/C_Active(0-12)_Score(L)_Density(H)_Legacy_Others_S_2019Q4_RFM.csv',\n",
       " '/home/jian/Projects/Big_Lots/Live_Ramp/Quarterly_Update_2019Q4/upload_files/C_Active(0-12)_Score(L)_Density(H)_SOTF_HolidayShoppers_P_2019Q4_RFM.csv',\n",
       " '/home/jian/Projects/Big_Lots/Live_Ramp/Quarterly_Update_2019Q4/upload_files/C_Active(0-12)_Score(L)_Density(H)_SOTF_HolidayShoppers_S_2019Q4_RFM.csv',\n",
       " '/home/jian/Projects/Big_Lots/Live_Ramp/Quarterly_Update_2019Q4/upload_files/C_Active(0-12)_Score(L)_Density(H)_SOTF_Others_P_2019Q4_RFM.csv',\n",
       " '/home/jian/Projects/Big_Lots/Live_Ramp/Quarterly_Update_2019Q4/upload_files/C_Active(0-12)_Score(L)_Density(H)_SOTF_Others_S_2019Q4_RFM.csv',\n",
       " '/home/jian/Projects/Big_Lots/Live_Ramp/Quarterly_Update_2019Q4/upload_files/C_Active(0-12)_Score(L)_Density(L)_Legacy_HolidayShoppers_P_2019Q4_RFM.csv',\n",
       " '/home/jian/Projects/Big_Lots/Live_Ramp/Quarterly_Update_2019Q4/upload_files/C_Active(0-12)_Score(L)_Density(L)_Legacy_HolidayShoppers_S_2019Q4_RFM.csv',\n",
       " '/home/jian/Projects/Big_Lots/Live_Ramp/Quarterly_Update_2019Q4/upload_files/C_Active(0-12)_Score(L)_Density(L)_Legacy_Others_P_2019Q4_RFM.csv',\n",
       " '/home/jian/Projects/Big_Lots/Live_Ramp/Quarterly_Update_2019Q4/upload_files/C_Active(0-12)_Score(L)_Density(L)_Legacy_Others_S_2019Q4_RFM.csv',\n",
       " '/home/jian/Projects/Big_Lots/Live_Ramp/Quarterly_Update_2019Q4/upload_files/C_Active(0-12)_Score(L)_Density(L)_SOTF_HolidayShoppers_P_2019Q4_RFM.csv',\n",
       " '/home/jian/Projects/Big_Lots/Live_Ramp/Quarterly_Update_2019Q4/upload_files/C_Active(0-12)_Score(L)_Density(L)_SOTF_HolidayShoppers_S_2019Q4_RFM.csv',\n",
       " '/home/jian/Projects/Big_Lots/Live_Ramp/Quarterly_Update_2019Q4/upload_files/C_Active(0-12)_Score(L)_Density(L)_SOTF_Others_P_2019Q4_RFM.csv',\n",
       " '/home/jian/Projects/Big_Lots/Live_Ramp/Quarterly_Update_2019Q4/upload_files/C_Active(0-12)_Score(L)_Density(L)_SOTF_Others_S_2019Q4_RFM.csv',\n",
       " '/home/jian/Projects/Big_Lots/Live_Ramp/Quarterly_Update_2019Q4/upload_files/C_Active(0-12)_Score(L)_Density(M)_Legacy_HolidayShoppers_P_2019Q4_RFM.csv',\n",
       " '/home/jian/Projects/Big_Lots/Live_Ramp/Quarterly_Update_2019Q4/upload_files/C_Active(0-12)_Score(L)_Density(M)_Legacy_HolidayShoppers_S_2019Q4_RFM.csv',\n",
       " '/home/jian/Projects/Big_Lots/Live_Ramp/Quarterly_Update_2019Q4/upload_files/C_Active(0-12)_Score(L)_Density(M)_Legacy_Others_P_2019Q4_RFM.csv',\n",
       " '/home/jian/Projects/Big_Lots/Live_Ramp/Quarterly_Update_2019Q4/upload_files/C_Active(0-12)_Score(L)_Density(M)_Legacy_Others_S_2019Q4_RFM.csv',\n",
       " '/home/jian/Projects/Big_Lots/Live_Ramp/Quarterly_Update_2019Q4/upload_files/C_Active(0-12)_Score(L)_Density(M)_SOTF_HolidayShoppers_P_2019Q4_RFM.csv',\n",
       " '/home/jian/Projects/Big_Lots/Live_Ramp/Quarterly_Update_2019Q4/upload_files/C_Active(0-12)_Score(L)_Density(M)_SOTF_HolidayShoppers_S_2019Q4_RFM.csv',\n",
       " '/home/jian/Projects/Big_Lots/Live_Ramp/Quarterly_Update_2019Q4/upload_files/C_Active(0-12)_Score(L)_Density(M)_SOTF_Others_P_2019Q4_RFM.csv',\n",
       " '/home/jian/Projects/Big_Lots/Live_Ramp/Quarterly_Update_2019Q4/upload_files/C_Active(0-12)_Score(L)_Density(M)_SOTF_Others_S_2019Q4_RFM.csv',\n",
       " '/home/jian/Projects/Big_Lots/Live_Ramp/Quarterly_Update_2019Q4/upload_files/C_Active(0-12)_Score(M)_Density(H)_Legacy_HolidayShoppers_P_2019Q4_RFM.csv',\n",
       " '/home/jian/Projects/Big_Lots/Live_Ramp/Quarterly_Update_2019Q4/upload_files/C_Active(0-12)_Score(M)_Density(H)_Legacy_HolidayShoppers_S_2019Q4_RFM.csv',\n",
       " '/home/jian/Projects/Big_Lots/Live_Ramp/Quarterly_Update_2019Q4/upload_files/C_Active(0-12)_Score(M)_Density(H)_Legacy_Others_P_2019Q4_RFM.csv',\n",
       " '/home/jian/Projects/Big_Lots/Live_Ramp/Quarterly_Update_2019Q4/upload_files/C_Active(0-12)_Score(M)_Density(H)_Legacy_Others_S_2019Q4_RFM.csv',\n",
       " '/home/jian/Projects/Big_Lots/Live_Ramp/Quarterly_Update_2019Q4/upload_files/C_Active(0-12)_Score(M)_Density(H)_SOTF_HolidayShoppers_P_2019Q4_RFM.csv',\n",
       " '/home/jian/Projects/Big_Lots/Live_Ramp/Quarterly_Update_2019Q4/upload_files/C_Active(0-12)_Score(M)_Density(H)_SOTF_HolidayShoppers_S_2019Q4_RFM.csv',\n",
       " '/home/jian/Projects/Big_Lots/Live_Ramp/Quarterly_Update_2019Q4/upload_files/C_Active(0-12)_Score(M)_Density(H)_SOTF_Others_P_2019Q4_RFM.csv',\n",
       " '/home/jian/Projects/Big_Lots/Live_Ramp/Quarterly_Update_2019Q4/upload_files/C_Active(0-12)_Score(M)_Density(H)_SOTF_Others_S_2019Q4_RFM.csv',\n",
       " '/home/jian/Projects/Big_Lots/Live_Ramp/Quarterly_Update_2019Q4/upload_files/C_Active(0-12)_Score(M)_Density(L)_Legacy_HolidayShoppers_P_2019Q4_RFM.csv',\n",
       " '/home/jian/Projects/Big_Lots/Live_Ramp/Quarterly_Update_2019Q4/upload_files/C_Active(0-12)_Score(M)_Density(L)_Legacy_HolidayShoppers_S_2019Q4_RFM.csv',\n",
       " '/home/jian/Projects/Big_Lots/Live_Ramp/Quarterly_Update_2019Q4/upload_files/C_Active(0-12)_Score(M)_Density(L)_Legacy_Others_P_2019Q4_RFM.csv',\n",
       " '/home/jian/Projects/Big_Lots/Live_Ramp/Quarterly_Update_2019Q4/upload_files/C_Active(0-12)_Score(M)_Density(L)_Legacy_Others_S_2019Q4_RFM.csv',\n",
       " '/home/jian/Projects/Big_Lots/Live_Ramp/Quarterly_Update_2019Q4/upload_files/C_Active(0-12)_Score(M)_Density(L)_SOTF_HolidayShoppers_P_2019Q4_RFM.csv',\n",
       " '/home/jian/Projects/Big_Lots/Live_Ramp/Quarterly_Update_2019Q4/upload_files/C_Active(0-12)_Score(M)_Density(L)_SOTF_HolidayShoppers_S_2019Q4_RFM.csv',\n",
       " '/home/jian/Projects/Big_Lots/Live_Ramp/Quarterly_Update_2019Q4/upload_files/C_Active(0-12)_Score(M)_Density(L)_SOTF_Others_P_2019Q4_RFM.csv',\n",
       " '/home/jian/Projects/Big_Lots/Live_Ramp/Quarterly_Update_2019Q4/upload_files/C_Active(0-12)_Score(M)_Density(L)_SOTF_Others_S_2019Q4_RFM.csv',\n",
       " '/home/jian/Projects/Big_Lots/Live_Ramp/Quarterly_Update_2019Q4/upload_files/C_Active(0-12)_Score(M)_Density(M)_Legacy_HolidayShoppers_P_2019Q4_RFM.csv',\n",
       " '/home/jian/Projects/Big_Lots/Live_Ramp/Quarterly_Update_2019Q4/upload_files/C_Active(0-12)_Score(M)_Density(M)_Legacy_HolidayShoppers_S_2019Q4_RFM.csv',\n",
       " '/home/jian/Projects/Big_Lots/Live_Ramp/Quarterly_Update_2019Q4/upload_files/C_Active(0-12)_Score(M)_Density(M)_Legacy_Others_P_2019Q4_RFM.csv',\n",
       " '/home/jian/Projects/Big_Lots/Live_Ramp/Quarterly_Update_2019Q4/upload_files/C_Active(0-12)_Score(M)_Density(M)_Legacy_Others_S_2019Q4_RFM.csv',\n",
       " '/home/jian/Projects/Big_Lots/Live_Ramp/Quarterly_Update_2019Q4/upload_files/C_Active(0-12)_Score(M)_Density(M)_SOTF_HolidayShoppers_P_2019Q4_RFM.csv',\n",
       " '/home/jian/Projects/Big_Lots/Live_Ramp/Quarterly_Update_2019Q4/upload_files/C_Active(0-12)_Score(M)_Density(M)_SOTF_HolidayShoppers_S_2019Q4_RFM.csv',\n",
       " '/home/jian/Projects/Big_Lots/Live_Ramp/Quarterly_Update_2019Q4/upload_files/C_Active(0-12)_Score(M)_Density(M)_SOTF_Others_P_2019Q4_RFM.csv',\n",
       " '/home/jian/Projects/Big_Lots/Live_Ramp/Quarterly_Update_2019Q4/upload_files/C_Active(0-12)_Score(M)_Density(M)_SOTF_Others_S_2019Q4_RFM.csv',\n",
       " '/home/jian/Projects/Big_Lots/Live_Ramp/Quarterly_Update_2019Q4/upload_files/C_Lapsed(13-18)_Score(L)_Density(H)_Legacy_AllExpCluster_P_2019Q4_RFM.csv',\n",
       " '/home/jian/Projects/Big_Lots/Live_Ramp/Quarterly_Update_2019Q4/upload_files/C_Lapsed(13-18)_Score(L)_Density(H)_Legacy_AllExpCluster_S_2019Q4_RFM.csv',\n",
       " '/home/jian/Projects/Big_Lots/Live_Ramp/Quarterly_Update_2019Q4/upload_files/C_Lapsed(13-18)_Score(L)_Density(H)_SOTF_AllExpCluster_P_2019Q4_RFM.csv',\n",
       " '/home/jian/Projects/Big_Lots/Live_Ramp/Quarterly_Update_2019Q4/upload_files/C_Lapsed(13-18)_Score(L)_Density(H)_SOTF_AllExpCluster_S_2019Q4_RFM.csv',\n",
       " '/home/jian/Projects/Big_Lots/Live_Ramp/Quarterly_Update_2019Q4/upload_files/C_Lapsed(13-18)_Score(L)_Density(L)_Legacy_AllExpCluster_P_2019Q4_RFM.csv',\n",
       " '/home/jian/Projects/Big_Lots/Live_Ramp/Quarterly_Update_2019Q4/upload_files/C_Lapsed(13-18)_Score(L)_Density(L)_Legacy_AllExpCluster_S_2019Q4_RFM.csv',\n",
       " '/home/jian/Projects/Big_Lots/Live_Ramp/Quarterly_Update_2019Q4/upload_files/C_Lapsed(13-18)_Score(L)_Density(L)_SOTF_AllExpCluster_P_2019Q4_RFM.csv',\n",
       " '/home/jian/Projects/Big_Lots/Live_Ramp/Quarterly_Update_2019Q4/upload_files/C_Lapsed(13-18)_Score(L)_Density(L)_SOTF_AllExpCluster_S_2019Q4_RFM.csv',\n",
       " '/home/jian/Projects/Big_Lots/Live_Ramp/Quarterly_Update_2019Q4/upload_files/C_Lapsed(13-18)_Score(L)_Density(M)_Legacy_AllExpCluster_P_2019Q4_RFM.csv',\n",
       " '/home/jian/Projects/Big_Lots/Live_Ramp/Quarterly_Update_2019Q4/upload_files/C_Lapsed(13-18)_Score(L)_Density(M)_Legacy_AllExpCluster_S_2019Q4_RFM.csv',\n",
       " '/home/jian/Projects/Big_Lots/Live_Ramp/Quarterly_Update_2019Q4/upload_files/C_Lapsed(13-18)_Score(L)_Density(M)_SOTF_AllExpCluster_P_2019Q4_RFM.csv',\n",
       " '/home/jian/Projects/Big_Lots/Live_Ramp/Quarterly_Update_2019Q4/upload_files/C_Lapsed(13-18)_Score(L)_Density(M)_SOTF_AllExpCluster_S_2019Q4_RFM.csv',\n",
       " '/home/jian/Projects/Big_Lots/Live_Ramp/Quarterly_Update_2019Q4/upload_files/T_Lapsed(19-48)_Density(H)_Legacy_AllExpCluster_P_2019Q4_Lapsed.csv',\n",
       " '/home/jian/Projects/Big_Lots/Live_Ramp/Quarterly_Update_2019Q4/upload_files/T_Lapsed(19-48)_Density(L)_Legacy_AllExpCluster_P_2019Q4_Lapsed.csv',\n",
       " '/home/jian/Projects/Big_Lots/Live_Ramp/Quarterly_Update_2019Q4/upload_files/T_Lapsed(19-48)_Density(L)_SOTF_AllExpCluster_P_2019Q4_Lapsed.csv',\n",
       " '/home/jian/Projects/Big_Lots/Live_Ramp/Quarterly_Update_2019Q4/upload_files/T_Lapsed(19-48)_Density(M)_Legacy_AllExpCluster_P_2019Q4_Lapsed.csv',\n",
       " '/home/jian/Projects/Big_Lots/Live_Ramp/Quarterly_Update_2019Q4/upload_files/T_Lapsed(19-48)_Density(M)_SOTF_AllExpCluster_P_2019Q4_Lapsed.csv',\n",
       " '/home/jian/Projects/Big_Lots/Live_Ramp/Quarterly_Update_2019Q4/upload_files/C_Lapsed(19-48)_Density(H)_Legacy_AllExpCluster_P_2019Q4_Lapsed.csv',\n",
       " '/home/jian/Projects/Big_Lots/Live_Ramp/Quarterly_Update_2019Q4/upload_files/C_Lapsed(19-48)_Density(L)_Legacy_AllExpCluster_P_2019Q4_Lapsed.csv',\n",
       " '/home/jian/Projects/Big_Lots/Live_Ramp/Quarterly_Update_2019Q4/upload_files/C_Lapsed(19-48)_Density(L)_SOTF_AllExpCluster_P_2019Q4_Lapsed.csv',\n",
       " '/home/jian/Projects/Big_Lots/Live_Ramp/Quarterly_Update_2019Q4/upload_files/C_Lapsed(19-48)_Density(M)_Legacy_AllExpCluster_P_2019Q4_Lapsed.csv',\n",
       " '/home/jian/Projects/Big_Lots/Live_Ramp/Quarterly_Update_2019Q4/upload_files/C_Lapsed(19-48)_Density(M)_SOTF_AllExpCluster_P_2019Q4_Lapsed.csv']"
      ]
     },
     "execution_count": 14,
     "metadata": {},
     "output_type": "execute_result"
    }
   ],
   "source": [
    "previous_id_files_lists"
   ]
  },
  {
   "cell_type": "code",
   "execution_count": 15,
   "metadata": {},
   "outputs": [
    {
     "name": "stdout",
     "output_type": "stream",
     "text": [
      "len(uploaded_new_seg)66\n"
     ]
    }
   ],
   "source": [
    "import glob\n",
    "uploaded_new_seg=list(recursive_file_gen(\"/home/jian/celery/BiWeekly_New_SignUps/monthly_update/\"))\n",
    "uploaded_new_seg=[x for x in uploaded_new_seg if \".csv\" in x]\n",
    "print(\"len(uploaded_new_seg)\"+str(len(uploaded_new_seg)))\n",
    "previous_id_files_lists=previous_id_files_lists+uploaded_new_seg"
   ]
  },
  {
   "cell_type": "code",
   "execution_count": 16,
   "metadata": {},
   "outputs": [],
   "source": [
    "# Exclude the quarterly regular segments\n"
   ]
  },
  {
   "cell_type": "code",
   "execution_count": 17,
   "metadata": {},
   "outputs": [
    {
     "name": "stdout",
     "output_type": "stream",
     "text": [
      "2020-01-15 10:13:35.749402 512137 /home/jian/Projects/Big_Lots/Live_Ramp/Quarterly_Update_2019Q4/upload_files/T_Active(0-12)_Score(H)_Density(H)_Legacy_HolidayShoppers_P_2019Q4_RFM.csv\n",
      "2020-01-15 10:13:35.860261 512137 /home/jian/Projects/Big_Lots/Live_Ramp/Quarterly_Update_2019Q4/upload_files/T_Active(0-12)_Score(H)_Density(H)_Legacy_HolidayShoppers_S_2019Q4_RFM.csv\n",
      "2020-01-15 10:13:38.685305 512136 /home/jian/Projects/Big_Lots/Live_Ramp/Quarterly_Update_2019Q4/upload_files/T_Active(0-12)_Score(H)_Density(H)_Legacy_Others_P_2019Q4_RFM.csv\n",
      "2020-01-15 10:13:39.244950 512134 /home/jian/Projects/Big_Lots/Live_Ramp/Quarterly_Update_2019Q4/upload_files/T_Active(0-12)_Score(H)_Density(H)_Legacy_Others_S_2019Q4_RFM.csv\n",
      "2020-01-15 10:13:39.340158 512134 /home/jian/Projects/Big_Lots/Live_Ramp/Quarterly_Update_2019Q4/upload_files/T_Active(0-12)_Score(H)_Density(H)_SOTF_HolidayShoppers_P_2019Q4_RFM.csv\n",
      "2020-01-15 10:13:39.446881 512134 /home/jian/Projects/Big_Lots/Live_Ramp/Quarterly_Update_2019Q4/upload_files/T_Active(0-12)_Score(H)_Density(H)_SOTF_HolidayShoppers_S_2019Q4_RFM.csv\n",
      "2020-01-15 10:13:39.603190 512134 /home/jian/Projects/Big_Lots/Live_Ramp/Quarterly_Update_2019Q4/upload_files/T_Active(0-12)_Score(H)_Density(H)_SOTF_Others_P_2019Q4_RFM.csv\n",
      "2020-01-15 10:13:39.713847 512134 /home/jian/Projects/Big_Lots/Live_Ramp/Quarterly_Update_2019Q4/upload_files/T_Active(0-12)_Score(H)_Density(H)_SOTF_Others_S_2019Q4_RFM.csv\n",
      "2020-01-15 10:13:39.797388 512134 /home/jian/Projects/Big_Lots/Live_Ramp/Quarterly_Update_2019Q4/upload_files/T_Active(0-12)_Score(H)_Density(L)_Legacy_HolidayShoppers_P_2019Q4_RFM.csv\n",
      "2020-01-15 10:13:39.893143 512134 /home/jian/Projects/Big_Lots/Live_Ramp/Quarterly_Update_2019Q4/upload_files/T_Active(0-12)_Score(H)_Density(L)_Legacy_HolidayShoppers_S_2019Q4_RFM.csv\n",
      "2020-01-15 10:13:40.026224 512134 /home/jian/Projects/Big_Lots/Live_Ramp/Quarterly_Update_2019Q4/upload_files/T_Active(0-12)_Score(H)_Density(L)_Legacy_Others_P_2019Q4_RFM.csv\n",
      "2020-01-15 10:13:40.129763 512134 /home/jian/Projects/Big_Lots/Live_Ramp/Quarterly_Update_2019Q4/upload_files/T_Active(0-12)_Score(H)_Density(L)_Legacy_Others_S_2019Q4_RFM.csv\n",
      "2020-01-15 10:13:40.258383 512134 /home/jian/Projects/Big_Lots/Live_Ramp/Quarterly_Update_2019Q4/upload_files/T_Active(0-12)_Score(H)_Density(L)_SOTF_HolidayShoppers_P_2019Q4_RFM.csv\n",
      "2020-01-15 10:13:40.371409 512134 /home/jian/Projects/Big_Lots/Live_Ramp/Quarterly_Update_2019Q4/upload_files/T_Active(0-12)_Score(H)_Density(L)_SOTF_HolidayShoppers_S_2019Q4_RFM.csv\n",
      "2020-01-15 10:13:41.538637 512132 /home/jian/Projects/Big_Lots/Live_Ramp/Quarterly_Update_2019Q4/upload_files/T_Active(0-12)_Score(H)_Density(L)_SOTF_Others_P_2019Q4_RFM.csv\n",
      "2020-01-15 10:13:42.511194 512132 /home/jian/Projects/Big_Lots/Live_Ramp/Quarterly_Update_2019Q4/upload_files/T_Active(0-12)_Score(H)_Density(L)_SOTF_Others_S_2019Q4_RFM.csv\n",
      "2020-01-15 10:13:43.334402 512129 /home/jian/Projects/Big_Lots/Live_Ramp/Quarterly_Update_2019Q4/upload_files/T_Active(0-12)_Score(H)_Density(M)_Legacy_HolidayShoppers_P_2019Q4_RFM.csv\n",
      "2020-01-15 10:13:43.599334 512129 /home/jian/Projects/Big_Lots/Live_Ramp/Quarterly_Update_2019Q4/upload_files/T_Active(0-12)_Score(H)_Density(M)_Legacy_HolidayShoppers_S_2019Q4_RFM.csv\n",
      "2020-01-15 10:13:57.947193 512117 /home/jian/Projects/Big_Lots/Live_Ramp/Quarterly_Update_2019Q4/upload_files/T_Active(0-12)_Score(H)_Density(M)_Legacy_Others_P_2019Q4_RFM.csv\n",
      "2020-01-15 10:14:03.820900 512114 /home/jian/Projects/Big_Lots/Live_Ramp/Quarterly_Update_2019Q4/upload_files/T_Active(0-12)_Score(H)_Density(M)_Legacy_Others_S_2019Q4_RFM.csv\n",
      "2020-01-15 10:14:04.782592 512113 /home/jian/Projects/Big_Lots/Live_Ramp/Quarterly_Update_2019Q4/upload_files/T_Active(0-12)_Score(H)_Density(M)_SOTF_HolidayShoppers_P_2019Q4_RFM.csv\n",
      "2020-01-15 10:14:05.005274 512113 /home/jian/Projects/Big_Lots/Live_Ramp/Quarterly_Update_2019Q4/upload_files/T_Active(0-12)_Score(H)_Density(M)_SOTF_HolidayShoppers_S_2019Q4_RFM.csv\n",
      "2020-01-15 10:14:12.249662 512100 /home/jian/Projects/Big_Lots/Live_Ramp/Quarterly_Update_2019Q4/upload_files/T_Active(0-12)_Score(H)_Density(M)_SOTF_Others_P_2019Q4_RFM.csv\n",
      "2020-01-15 10:14:15.482744 512090 /home/jian/Projects/Big_Lots/Live_Ramp/Quarterly_Update_2019Q4/upload_files/T_Active(0-12)_Score(H)_Density(M)_SOTF_Others_S_2019Q4_RFM.csv\n",
      "2020-01-15 10:14:15.725055 512090 /home/jian/Projects/Big_Lots/Live_Ramp/Quarterly_Update_2019Q4/upload_files/T_Active(0-12)_Score(L)_Density(H)_Legacy_HolidayShoppers_P_2019Q4_RFM.csv\n",
      "2020-01-15 10:14:15.933225 512090 /home/jian/Projects/Big_Lots/Live_Ramp/Quarterly_Update_2019Q4/upload_files/T_Active(0-12)_Score(L)_Density(H)_Legacy_HolidayShoppers_S_2019Q4_RFM.csv\n",
      "2020-01-15 10:14:16.862984 512090 /home/jian/Projects/Big_Lots/Live_Ramp/Quarterly_Update_2019Q4/upload_files/T_Active(0-12)_Score(L)_Density(H)_Legacy_Others_P_2019Q4_RFM.csv\n",
      "2020-01-15 10:14:17.189454 512089 /home/jian/Projects/Big_Lots/Live_Ramp/Quarterly_Update_2019Q4/upload_files/T_Active(0-12)_Score(L)_Density(H)_Legacy_Others_S_2019Q4_RFM.csv\n",
      "2020-01-15 10:14:17.282790 512089 /home/jian/Projects/Big_Lots/Live_Ramp/Quarterly_Update_2019Q4/upload_files/T_Active(0-12)_Score(L)_Density(H)_SOTF_HolidayShoppers_P_2019Q4_RFM.csv\n",
      "2020-01-15 10:14:17.365459 512089 /home/jian/Projects/Big_Lots/Live_Ramp/Quarterly_Update_2019Q4/upload_files/T_Active(0-12)_Score(L)_Density(H)_SOTF_HolidayShoppers_S_2019Q4_RFM.csv\n",
      "2020-01-15 10:14:17.512321 512089 /home/jian/Projects/Big_Lots/Live_Ramp/Quarterly_Update_2019Q4/upload_files/T_Active(0-12)_Score(L)_Density(H)_SOTF_Others_P_2019Q4_RFM.csv\n",
      "2020-01-15 10:14:17.671574 512089 /home/jian/Projects/Big_Lots/Live_Ramp/Quarterly_Update_2019Q4/upload_files/T_Active(0-12)_Score(L)_Density(H)_SOTF_Others_S_2019Q4_RFM.csv\n",
      "2020-01-15 10:14:17.754827 512089 /home/jian/Projects/Big_Lots/Live_Ramp/Quarterly_Update_2019Q4/upload_files/T_Active(0-12)_Score(L)_Density(L)_Legacy_HolidayShoppers_P_2019Q4_RFM.csv\n",
      "2020-01-15 10:14:17.882093 512089 /home/jian/Projects/Big_Lots/Live_Ramp/Quarterly_Update_2019Q4/upload_files/T_Active(0-12)_Score(L)_Density(L)_Legacy_HolidayShoppers_S_2019Q4_RFM.csv\n",
      "2020-01-15 10:14:17.994131 512089 /home/jian/Projects/Big_Lots/Live_Ramp/Quarterly_Update_2019Q4/upload_files/T_Active(0-12)_Score(L)_Density(L)_Legacy_Others_P_2019Q4_RFM.csv\n",
      "2020-01-15 10:14:18.081429 512089 /home/jian/Projects/Big_Lots/Live_Ramp/Quarterly_Update_2019Q4/upload_files/T_Active(0-12)_Score(L)_Density(L)_Legacy_Others_S_2019Q4_RFM.csv\n",
      "2020-01-15 10:14:18.186831 512089 /home/jian/Projects/Big_Lots/Live_Ramp/Quarterly_Update_2019Q4/upload_files/T_Active(0-12)_Score(L)_Density(L)_SOTF_HolidayShoppers_P_2019Q4_RFM.csv\n",
      "2020-01-15 10:14:18.315165 512089 /home/jian/Projects/Big_Lots/Live_Ramp/Quarterly_Update_2019Q4/upload_files/T_Active(0-12)_Score(L)_Density(L)_SOTF_HolidayShoppers_S_2019Q4_RFM.csv\n",
      "2020-01-15 10:14:18.741988 512089 /home/jian/Projects/Big_Lots/Live_Ramp/Quarterly_Update_2019Q4/upload_files/T_Active(0-12)_Score(L)_Density(L)_SOTF_Others_P_2019Q4_RFM.csv\n",
      "2020-01-15 10:14:19.118321 512089 /home/jian/Projects/Big_Lots/Live_Ramp/Quarterly_Update_2019Q4/upload_files/T_Active(0-12)_Score(L)_Density(L)_SOTF_Others_S_2019Q4_RFM.csv\n",
      "2020-01-15 10:14:19.746645 512086 /home/jian/Projects/Big_Lots/Live_Ramp/Quarterly_Update_2019Q4/upload_files/T_Active(0-12)_Score(L)_Density(M)_Legacy_HolidayShoppers_P_2019Q4_RFM.csv\n",
      "2020-01-15 10:14:20.111442 512086 /home/jian/Projects/Big_Lots/Live_Ramp/Quarterly_Update_2019Q4/upload_files/T_Active(0-12)_Score(L)_Density(M)_Legacy_HolidayShoppers_S_2019Q4_RFM.csv\n",
      "2020-01-15 10:14:24.529020 512082 /home/jian/Projects/Big_Lots/Live_Ramp/Quarterly_Update_2019Q4/upload_files/T_Active(0-12)_Score(L)_Density(M)_Legacy_Others_P_2019Q4_RFM.csv\n",
      "2020-01-15 10:14:26.912327 512081 /home/jian/Projects/Big_Lots/Live_Ramp/Quarterly_Update_2019Q4/upload_files/T_Active(0-12)_Score(L)_Density(M)_Legacy_Others_S_2019Q4_RFM.csv\n",
      "2020-01-15 10:14:27.526126 512081 /home/jian/Projects/Big_Lots/Live_Ramp/Quarterly_Update_2019Q4/upload_files/T_Active(0-12)_Score(L)_Density(M)_SOTF_HolidayShoppers_P_2019Q4_RFM.csv\n",
      "2020-01-15 10:14:27.724662 512081 /home/jian/Projects/Big_Lots/Live_Ramp/Quarterly_Update_2019Q4/upload_files/T_Active(0-12)_Score(L)_Density(M)_SOTF_HolidayShoppers_S_2019Q4_RFM.csv\n"
     ]
    },
    {
     "name": "stdout",
     "output_type": "stream",
     "text": [
      "2020-01-15 10:14:29.571371 512076 /home/jian/Projects/Big_Lots/Live_Ramp/Quarterly_Update_2019Q4/upload_files/T_Active(0-12)_Score(L)_Density(M)_SOTF_Others_P_2019Q4_RFM.csv\n",
      "2020-01-15 10:14:30.941454 512075 /home/jian/Projects/Big_Lots/Live_Ramp/Quarterly_Update_2019Q4/upload_files/T_Active(0-12)_Score(L)_Density(M)_SOTF_Others_S_2019Q4_RFM.csv\n",
      "2020-01-15 10:14:31.188925 512075 /home/jian/Projects/Big_Lots/Live_Ramp/Quarterly_Update_2019Q4/upload_files/T_Active(0-12)_Score(M)_Density(H)_Legacy_HolidayShoppers_P_2019Q4_RFM.csv\n",
      "2020-01-15 10:14:31.312294 512075 /home/jian/Projects/Big_Lots/Live_Ramp/Quarterly_Update_2019Q4/upload_files/T_Active(0-12)_Score(M)_Density(H)_Legacy_HolidayShoppers_S_2019Q4_RFM.csv\n",
      "2020-01-15 10:14:32.862365 512071 /home/jian/Projects/Big_Lots/Live_Ramp/Quarterly_Update_2019Q4/upload_files/T_Active(0-12)_Score(M)_Density(H)_Legacy_Others_P_2019Q4_RFM.csv\n",
      "2020-01-15 10:14:33.360752 512070 /home/jian/Projects/Big_Lots/Live_Ramp/Quarterly_Update_2019Q4/upload_files/T_Active(0-12)_Score(M)_Density(H)_Legacy_Others_S_2019Q4_RFM.csv\n",
      "2020-01-15 10:14:33.469711 512070 /home/jian/Projects/Big_Lots/Live_Ramp/Quarterly_Update_2019Q4/upload_files/T_Active(0-12)_Score(M)_Density(H)_SOTF_HolidayShoppers_P_2019Q4_RFM.csv\n",
      "2020-01-15 10:14:33.554727 512070 /home/jian/Projects/Big_Lots/Live_Ramp/Quarterly_Update_2019Q4/upload_files/T_Active(0-12)_Score(M)_Density(H)_SOTF_HolidayShoppers_S_2019Q4_RFM.csv\n",
      "2020-01-15 10:14:33.711741 512070 /home/jian/Projects/Big_Lots/Live_Ramp/Quarterly_Update_2019Q4/upload_files/T_Active(0-12)_Score(M)_Density(H)_SOTF_Others_P_2019Q4_RFM.csv\n",
      "2020-01-15 10:14:33.851124 512070 /home/jian/Projects/Big_Lots/Live_Ramp/Quarterly_Update_2019Q4/upload_files/T_Active(0-12)_Score(M)_Density(H)_SOTF_Others_S_2019Q4_RFM.csv\n",
      "2020-01-15 10:14:33.943130 512070 /home/jian/Projects/Big_Lots/Live_Ramp/Quarterly_Update_2019Q4/upload_files/T_Active(0-12)_Score(M)_Density(L)_Legacy_HolidayShoppers_P_2019Q4_RFM.csv\n",
      "2020-01-15 10:14:34.024431 512070 /home/jian/Projects/Big_Lots/Live_Ramp/Quarterly_Update_2019Q4/upload_files/T_Active(0-12)_Score(M)_Density(L)_Legacy_HolidayShoppers_S_2019Q4_RFM.csv\n",
      "2020-01-15 10:14:34.118666 512070 /home/jian/Projects/Big_Lots/Live_Ramp/Quarterly_Update_2019Q4/upload_files/T_Active(0-12)_Score(M)_Density(L)_Legacy_Others_P_2019Q4_RFM.csv\n",
      "2020-01-15 10:14:34.258454 512070 /home/jian/Projects/Big_Lots/Live_Ramp/Quarterly_Update_2019Q4/upload_files/T_Active(0-12)_Score(M)_Density(L)_Legacy_Others_S_2019Q4_RFM.csv\n",
      "2020-01-15 10:14:34.500096 512070 /home/jian/Projects/Big_Lots/Live_Ramp/Quarterly_Update_2019Q4/upload_files/T_Active(0-12)_Score(M)_Density(L)_SOTF_HolidayShoppers_P_2019Q4_RFM.csv\n",
      "2020-01-15 10:14:34.615124 512070 /home/jian/Projects/Big_Lots/Live_Ramp/Quarterly_Update_2019Q4/upload_files/T_Active(0-12)_Score(M)_Density(L)_SOTF_HolidayShoppers_S_2019Q4_RFM.csv\n",
      "2020-01-15 10:14:35.190588 512069 /home/jian/Projects/Big_Lots/Live_Ramp/Quarterly_Update_2019Q4/upload_files/T_Active(0-12)_Score(M)_Density(L)_SOTF_Others_P_2019Q4_RFM.csv\n",
      "2020-01-15 10:14:36.039900 512068 /home/jian/Projects/Big_Lots/Live_Ramp/Quarterly_Update_2019Q4/upload_files/T_Active(0-12)_Score(M)_Density(L)_SOTF_Others_S_2019Q4_RFM.csv\n",
      "2020-01-15 10:14:36.602846 512067 /home/jian/Projects/Big_Lots/Live_Ramp/Quarterly_Update_2019Q4/upload_files/T_Active(0-12)_Score(M)_Density(M)_Legacy_HolidayShoppers_P_2019Q4_RFM.csv\n",
      "2020-01-15 10:14:37.053617 512066 /home/jian/Projects/Big_Lots/Live_Ramp/Quarterly_Update_2019Q4/upload_files/T_Active(0-12)_Score(M)_Density(M)_Legacy_HolidayShoppers_S_2019Q4_RFM.csv\n",
      "2020-01-15 10:14:48.657317 512055 /home/jian/Projects/Big_Lots/Live_Ramp/Quarterly_Update_2019Q4/upload_files/T_Active(0-12)_Score(M)_Density(M)_Legacy_Others_P_2019Q4_RFM.csv\n",
      "2020-01-15 10:14:52.843698 512054 /home/jian/Projects/Big_Lots/Live_Ramp/Quarterly_Update_2019Q4/upload_files/T_Active(0-12)_Score(M)_Density(M)_Legacy_Others_S_2019Q4_RFM.csv\n",
      "2020-01-15 10:14:53.589795 512054 /home/jian/Projects/Big_Lots/Live_Ramp/Quarterly_Update_2019Q4/upload_files/T_Active(0-12)_Score(M)_Density(M)_SOTF_HolidayShoppers_P_2019Q4_RFM.csv\n",
      "2020-01-15 10:14:53.822384 512054 /home/jian/Projects/Big_Lots/Live_Ramp/Quarterly_Update_2019Q4/upload_files/T_Active(0-12)_Score(M)_Density(M)_SOTF_HolidayShoppers_S_2019Q4_RFM.csv\n",
      "2020-01-15 10:14:57.602184 512045 /home/jian/Projects/Big_Lots/Live_Ramp/Quarterly_Update_2019Q4/upload_files/T_Active(0-12)_Score(M)_Density(M)_SOTF_Others_P_2019Q4_RFM.csv\n",
      "2020-01-15 10:14:59.788812 512042 /home/jian/Projects/Big_Lots/Live_Ramp/Quarterly_Update_2019Q4/upload_files/T_Active(0-12)_Score(M)_Density(M)_SOTF_Others_S_2019Q4_RFM.csv\n",
      "2020-01-15 10:15:00.738947 512042 /home/jian/Projects/Big_Lots/Live_Ramp/Quarterly_Update_2019Q4/upload_files/T_Lapsed(13-18)_Score(L)_Density(H)_Legacy_AllExpCluster_P_2019Q4_RFM.csv\n",
      "2020-01-15 10:15:01.054029 512041 /home/jian/Projects/Big_Lots/Live_Ramp/Quarterly_Update_2019Q4/upload_files/T_Lapsed(13-18)_Score(L)_Density(H)_Legacy_AllExpCluster_S_2019Q4_RFM.csv\n",
      "2020-01-15 10:15:01.238721 512041 /home/jian/Projects/Big_Lots/Live_Ramp/Quarterly_Update_2019Q4/upload_files/T_Lapsed(13-18)_Score(L)_Density(H)_SOTF_AllExpCluster_P_2019Q4_RFM.csv\n",
      "2020-01-15 10:15:01.354493 512041 /home/jian/Projects/Big_Lots/Live_Ramp/Quarterly_Update_2019Q4/upload_files/T_Lapsed(13-18)_Score(L)_Density(H)_SOTF_AllExpCluster_S_2019Q4_RFM.csv\n",
      "2020-01-15 10:15:01.498865 512041 /home/jian/Projects/Big_Lots/Live_Ramp/Quarterly_Update_2019Q4/upload_files/T_Lapsed(13-18)_Score(L)_Density(L)_Legacy_AllExpCluster_P_2019Q4_RFM.csv\n",
      "2020-01-15 10:15:01.611848 512041 /home/jian/Projects/Big_Lots/Live_Ramp/Quarterly_Update_2019Q4/upload_files/T_Lapsed(13-18)_Score(L)_Density(L)_Legacy_AllExpCluster_S_2019Q4_RFM.csv\n",
      "2020-01-15 10:15:01.883001 512041 /home/jian/Projects/Big_Lots/Live_Ramp/Quarterly_Update_2019Q4/upload_files/T_Lapsed(13-18)_Score(L)_Density(L)_SOTF_AllExpCluster_P_2019Q4_RFM.csv\n",
      "2020-01-15 10:15:02.125248 512040 /home/jian/Projects/Big_Lots/Live_Ramp/Quarterly_Update_2019Q4/upload_files/T_Lapsed(13-18)_Score(L)_Density(L)_SOTF_AllExpCluster_S_2019Q4_RFM.csv\n",
      "2020-01-15 10:15:05.265035 512036 /home/jian/Projects/Big_Lots/Live_Ramp/Quarterly_Update_2019Q4/upload_files/T_Lapsed(13-18)_Score(L)_Density(M)_Legacy_AllExpCluster_P_2019Q4_RFM.csv\n",
      "2020-01-15 10:15:07.599192 512036 /home/jian/Projects/Big_Lots/Live_Ramp/Quarterly_Update_2019Q4/upload_files/T_Lapsed(13-18)_Score(L)_Density(M)_Legacy_AllExpCluster_S_2019Q4_RFM.csv\n",
      "2020-01-15 10:15:09.430863 512032 /home/jian/Projects/Big_Lots/Live_Ramp/Quarterly_Update_2019Q4/upload_files/T_Lapsed(13-18)_Score(L)_Density(M)_SOTF_AllExpCluster_P_2019Q4_RFM.csv\n",
      "2020-01-15 10:15:10.935539 512030 /home/jian/Projects/Big_Lots/Live_Ramp/Quarterly_Update_2019Q4/upload_files/T_Lapsed(13-18)_Score(L)_Density(M)_SOTF_AllExpCluster_S_2019Q4_RFM.csv\n",
      "2020-01-15 10:15:11.045695 512030 /home/jian/Projects/Big_Lots/Live_Ramp/Quarterly_Update_2019Q4/upload_files/C_Active(0-12)_Score(H)_Density(H)_Legacy_HolidayShoppers_P_2019Q4_RFM.csv\n",
      "2020-01-15 10:15:11.127138 512030 /home/jian/Projects/Big_Lots/Live_Ramp/Quarterly_Update_2019Q4/upload_files/C_Active(0-12)_Score(H)_Density(H)_Legacy_HolidayShoppers_S_2019Q4_RFM.csv\n",
      "2020-01-15 10:15:11.347494 512030 /home/jian/Projects/Big_Lots/Live_Ramp/Quarterly_Update_2019Q4/upload_files/C_Active(0-12)_Score(H)_Density(H)_Legacy_Others_P_2019Q4_RFM.csv\n",
      "2020-01-15 10:15:11.450998 512030 /home/jian/Projects/Big_Lots/Live_Ramp/Quarterly_Update_2019Q4/upload_files/C_Active(0-12)_Score(H)_Density(H)_Legacy_Others_S_2019Q4_RFM.csv\n",
      "2020-01-15 10:15:11.559396 512030 /home/jian/Projects/Big_Lots/Live_Ramp/Quarterly_Update_2019Q4/upload_files/C_Active(0-12)_Score(H)_Density(H)_SOTF_HolidayShoppers_P_2019Q4_RFM.csv\n",
      "2020-01-15 10:15:11.646365 512030 /home/jian/Projects/Big_Lots/Live_Ramp/Quarterly_Update_2019Q4/upload_files/C_Active(0-12)_Score(H)_Density(H)_SOTF_HolidayShoppers_S_2019Q4_RFM.csv\n",
      "2020-01-15 10:15:11.745165 512030 /home/jian/Projects/Big_Lots/Live_Ramp/Quarterly_Update_2019Q4/upload_files/C_Active(0-12)_Score(H)_Density(H)_SOTF_Others_P_2019Q4_RFM.csv\n",
      "2020-01-15 10:15:11.854688 512030 /home/jian/Projects/Big_Lots/Live_Ramp/Quarterly_Update_2019Q4/upload_files/C_Active(0-12)_Score(H)_Density(H)_SOTF_Others_S_2019Q4_RFM.csv\n",
      "2020-01-15 10:15:11.958437 512030 /home/jian/Projects/Big_Lots/Live_Ramp/Quarterly_Update_2019Q4/upload_files/C_Active(0-12)_Score(H)_Density(L)_Legacy_HolidayShoppers_P_2019Q4_RFM.csv\n",
      "2020-01-15 10:15:12.041286 512030 /home/jian/Projects/Big_Lots/Live_Ramp/Quarterly_Update_2019Q4/upload_files/C_Active(0-12)_Score(H)_Density(L)_Legacy_HolidayShoppers_S_2019Q4_RFM.csv\n"
     ]
    },
    {
     "name": "stdout",
     "output_type": "stream",
     "text": [
      "2020-01-15 10:15:12.132534 512030 /home/jian/Projects/Big_Lots/Live_Ramp/Quarterly_Update_2019Q4/upload_files/C_Active(0-12)_Score(H)_Density(L)_Legacy_Others_P_2019Q4_RFM.csv\n",
      "2020-01-15 10:15:12.231659 512030 /home/jian/Projects/Big_Lots/Live_Ramp/Quarterly_Update_2019Q4/upload_files/C_Active(0-12)_Score(H)_Density(L)_Legacy_Others_S_2019Q4_RFM.csv\n",
      "2020-01-15 10:15:12.334990 512030 /home/jian/Projects/Big_Lots/Live_Ramp/Quarterly_Update_2019Q4/upload_files/C_Active(0-12)_Score(H)_Density(L)_SOTF_HolidayShoppers_P_2019Q4_RFM.csv\n",
      "2020-01-15 10:15:12.415756 512030 /home/jian/Projects/Big_Lots/Live_Ramp/Quarterly_Update_2019Q4/upload_files/C_Active(0-12)_Score(H)_Density(L)_SOTF_HolidayShoppers_S_2019Q4_RFM.csv\n",
      "2020-01-15 10:15:12.569250 512030 /home/jian/Projects/Big_Lots/Live_Ramp/Quarterly_Update_2019Q4/upload_files/C_Active(0-12)_Score(H)_Density(L)_SOTF_Others_P_2019Q4_RFM.csv\n",
      "2020-01-15 10:15:12.672799 512030 /home/jian/Projects/Big_Lots/Live_Ramp/Quarterly_Update_2019Q4/upload_files/C_Active(0-12)_Score(H)_Density(L)_SOTF_Others_S_2019Q4_RFM.csv\n",
      "2020-01-15 10:15:12.810177 512030 /home/jian/Projects/Big_Lots/Live_Ramp/Quarterly_Update_2019Q4/upload_files/C_Active(0-12)_Score(H)_Density(M)_Legacy_HolidayShoppers_P_2019Q4_RFM.csv\n",
      "2020-01-15 10:15:12.931613 512030 /home/jian/Projects/Big_Lots/Live_Ramp/Quarterly_Update_2019Q4/upload_files/C_Active(0-12)_Score(H)_Density(M)_Legacy_HolidayShoppers_S_2019Q4_RFM.csv\n",
      "2020-01-15 10:15:13.238820 512029 /home/jian/Projects/Big_Lots/Live_Ramp/Quarterly_Update_2019Q4/upload_files/C_Active(0-12)_Score(H)_Density(M)_Legacy_Others_P_2019Q4_RFM.csv\n",
      "2020-01-15 10:15:13.524754 512029 /home/jian/Projects/Big_Lots/Live_Ramp/Quarterly_Update_2019Q4/upload_files/C_Active(0-12)_Score(H)_Density(M)_Legacy_Others_S_2019Q4_RFM.csv\n",
      "2020-01-15 10:15:13.653809 512029 /home/jian/Projects/Big_Lots/Live_Ramp/Quarterly_Update_2019Q4/upload_files/C_Active(0-12)_Score(H)_Density(M)_SOTF_HolidayShoppers_P_2019Q4_RFM.csv\n",
      "2020-01-15 10:15:13.772194 512029 /home/jian/Projects/Big_Lots/Live_Ramp/Quarterly_Update_2019Q4/upload_files/C_Active(0-12)_Score(H)_Density(M)_SOTF_HolidayShoppers_S_2019Q4_RFM.csv\n",
      "2020-01-15 10:15:13.983644 512029 /home/jian/Projects/Big_Lots/Live_Ramp/Quarterly_Update_2019Q4/upload_files/C_Active(0-12)_Score(H)_Density(M)_SOTF_Others_P_2019Q4_RFM.csv\n",
      "2020-01-15 10:15:14.173993 512029 /home/jian/Projects/Big_Lots/Live_Ramp/Quarterly_Update_2019Q4/upload_files/C_Active(0-12)_Score(H)_Density(M)_SOTF_Others_S_2019Q4_RFM.csv\n",
      "2020-01-15 10:15:14.258838 512029 /home/jian/Projects/Big_Lots/Live_Ramp/Quarterly_Update_2019Q4/upload_files/C_Active(0-12)_Score(L)_Density(H)_Legacy_HolidayShoppers_P_2019Q4_RFM.csv\n",
      "2020-01-15 10:15:14.343459 512029 /home/jian/Projects/Big_Lots/Live_Ramp/Quarterly_Update_2019Q4/upload_files/C_Active(0-12)_Score(L)_Density(H)_Legacy_HolidayShoppers_S_2019Q4_RFM.csv\n",
      "2020-01-15 10:15:14.485537 512029 /home/jian/Projects/Big_Lots/Live_Ramp/Quarterly_Update_2019Q4/upload_files/C_Active(0-12)_Score(L)_Density(H)_Legacy_Others_P_2019Q4_RFM.csv\n",
      "2020-01-15 10:15:14.584933 512029 /home/jian/Projects/Big_Lots/Live_Ramp/Quarterly_Update_2019Q4/upload_files/C_Active(0-12)_Score(L)_Density(H)_Legacy_Others_S_2019Q4_RFM.csv\n",
      "2020-01-15 10:15:14.687808 512029 /home/jian/Projects/Big_Lots/Live_Ramp/Quarterly_Update_2019Q4/upload_files/C_Active(0-12)_Score(L)_Density(H)_SOTF_HolidayShoppers_P_2019Q4_RFM.csv\n",
      "2020-01-15 10:15:14.782457 512029 /home/jian/Projects/Big_Lots/Live_Ramp/Quarterly_Update_2019Q4/upload_files/C_Active(0-12)_Score(L)_Density(H)_SOTF_HolidayShoppers_S_2019Q4_RFM.csv\n",
      "2020-01-15 10:15:14.868675 512029 /home/jian/Projects/Big_Lots/Live_Ramp/Quarterly_Update_2019Q4/upload_files/C_Active(0-12)_Score(L)_Density(H)_SOTF_Others_P_2019Q4_RFM.csv\n",
      "2020-01-15 10:15:14.948592 512029 /home/jian/Projects/Big_Lots/Live_Ramp/Quarterly_Update_2019Q4/upload_files/C_Active(0-12)_Score(L)_Density(H)_SOTF_Others_S_2019Q4_RFM.csv\n",
      "2020-01-15 10:15:15.028302 512029 /home/jian/Projects/Big_Lots/Live_Ramp/Quarterly_Update_2019Q4/upload_files/C_Active(0-12)_Score(L)_Density(L)_Legacy_HolidayShoppers_P_2019Q4_RFM.csv\n",
      "2020-01-15 10:15:15.103304 512029 /home/jian/Projects/Big_Lots/Live_Ramp/Quarterly_Update_2019Q4/upload_files/C_Active(0-12)_Score(L)_Density(L)_Legacy_HolidayShoppers_S_2019Q4_RFM.csv\n",
      "2020-01-15 10:15:15.191420 512029 /home/jian/Projects/Big_Lots/Live_Ramp/Quarterly_Update_2019Q4/upload_files/C_Active(0-12)_Score(L)_Density(L)_Legacy_Others_P_2019Q4_RFM.csv\n",
      "2020-01-15 10:15:15.285324 512029 /home/jian/Projects/Big_Lots/Live_Ramp/Quarterly_Update_2019Q4/upload_files/C_Active(0-12)_Score(L)_Density(L)_Legacy_Others_S_2019Q4_RFM.csv\n",
      "2020-01-15 10:15:15.387802 512029 /home/jian/Projects/Big_Lots/Live_Ramp/Quarterly_Update_2019Q4/upload_files/C_Active(0-12)_Score(L)_Density(L)_SOTF_HolidayShoppers_P_2019Q4_RFM.csv\n",
      "2020-01-15 10:15:15.474586 512029 /home/jian/Projects/Big_Lots/Live_Ramp/Quarterly_Update_2019Q4/upload_files/C_Active(0-12)_Score(L)_Density(L)_SOTF_HolidayShoppers_S_2019Q4_RFM.csv\n",
      "2020-01-15 10:15:15.586607 512029 /home/jian/Projects/Big_Lots/Live_Ramp/Quarterly_Update_2019Q4/upload_files/C_Active(0-12)_Score(L)_Density(L)_SOTF_Others_P_2019Q4_RFM.csv\n",
      "2020-01-15 10:15:15.685202 512029 /home/jian/Projects/Big_Lots/Live_Ramp/Quarterly_Update_2019Q4/upload_files/C_Active(0-12)_Score(L)_Density(L)_SOTF_Others_S_2019Q4_RFM.csv\n",
      "2020-01-15 10:15:15.822677 512029 /home/jian/Projects/Big_Lots/Live_Ramp/Quarterly_Update_2019Q4/upload_files/C_Active(0-12)_Score(L)_Density(M)_Legacy_HolidayShoppers_P_2019Q4_RFM.csv\n",
      "2020-01-15 10:15:15.948197 512029 /home/jian/Projects/Big_Lots/Live_Ramp/Quarterly_Update_2019Q4/upload_files/C_Active(0-12)_Score(L)_Density(M)_Legacy_HolidayShoppers_S_2019Q4_RFM.csv\n",
      "2020-01-15 10:15:16.186354 512029 /home/jian/Projects/Big_Lots/Live_Ramp/Quarterly_Update_2019Q4/upload_files/C_Active(0-12)_Score(L)_Density(M)_Legacy_Others_P_2019Q4_RFM.csv\n",
      "2020-01-15 10:15:16.354940 512029 /home/jian/Projects/Big_Lots/Live_Ramp/Quarterly_Update_2019Q4/upload_files/C_Active(0-12)_Score(L)_Density(M)_Legacy_Others_S_2019Q4_RFM.csv\n",
      "2020-01-15 10:15:16.449603 512029 /home/jian/Projects/Big_Lots/Live_Ramp/Quarterly_Update_2019Q4/upload_files/C_Active(0-12)_Score(L)_Density(M)_SOTF_HolidayShoppers_P_2019Q4_RFM.csv\n",
      "2020-01-15 10:15:16.550734 512029 /home/jian/Projects/Big_Lots/Live_Ramp/Quarterly_Update_2019Q4/upload_files/C_Active(0-12)_Score(L)_Density(M)_SOTF_HolidayShoppers_S_2019Q4_RFM.csv\n",
      "2020-01-15 10:15:16.687123 512029 /home/jian/Projects/Big_Lots/Live_Ramp/Quarterly_Update_2019Q4/upload_files/C_Active(0-12)_Score(L)_Density(M)_SOTF_Others_P_2019Q4_RFM.csv\n",
      "2020-01-15 10:15:16.825101 512029 /home/jian/Projects/Big_Lots/Live_Ramp/Quarterly_Update_2019Q4/upload_files/C_Active(0-12)_Score(L)_Density(M)_SOTF_Others_S_2019Q4_RFM.csv\n",
      "2020-01-15 10:15:16.917426 512029 /home/jian/Projects/Big_Lots/Live_Ramp/Quarterly_Update_2019Q4/upload_files/C_Active(0-12)_Score(M)_Density(H)_Legacy_HolidayShoppers_P_2019Q4_RFM.csv\n",
      "2020-01-15 10:15:17.003016 512029 /home/jian/Projects/Big_Lots/Live_Ramp/Quarterly_Update_2019Q4/upload_files/C_Active(0-12)_Score(M)_Density(H)_Legacy_HolidayShoppers_S_2019Q4_RFM.csv\n",
      "2020-01-15 10:15:17.138694 512029 /home/jian/Projects/Big_Lots/Live_Ramp/Quarterly_Update_2019Q4/upload_files/C_Active(0-12)_Score(M)_Density(H)_Legacy_Others_P_2019Q4_RFM.csv\n",
      "2020-01-15 10:15:17.234932 512029 /home/jian/Projects/Big_Lots/Live_Ramp/Quarterly_Update_2019Q4/upload_files/C_Active(0-12)_Score(M)_Density(H)_Legacy_Others_S_2019Q4_RFM.csv\n",
      "2020-01-15 10:15:17.316713 512029 /home/jian/Projects/Big_Lots/Live_Ramp/Quarterly_Update_2019Q4/upload_files/C_Active(0-12)_Score(M)_Density(H)_SOTF_HolidayShoppers_P_2019Q4_RFM.csv\n",
      "2020-01-15 10:15:17.420293 512029 /home/jian/Projects/Big_Lots/Live_Ramp/Quarterly_Update_2019Q4/upload_files/C_Active(0-12)_Score(M)_Density(H)_SOTF_HolidayShoppers_S_2019Q4_RFM.csv\n",
      "2020-01-15 10:15:17.503665 512029 /home/jian/Projects/Big_Lots/Live_Ramp/Quarterly_Update_2019Q4/upload_files/C_Active(0-12)_Score(M)_Density(H)_SOTF_Others_P_2019Q4_RFM.csv\n",
      "2020-01-15 10:15:17.598379 512029 /home/jian/Projects/Big_Lots/Live_Ramp/Quarterly_Update_2019Q4/upload_files/C_Active(0-12)_Score(M)_Density(H)_SOTF_Others_S_2019Q4_RFM.csv\n"
     ]
    },
    {
     "name": "stdout",
     "output_type": "stream",
     "text": [
      "2020-01-15 10:15:17.678680 512029 /home/jian/Projects/Big_Lots/Live_Ramp/Quarterly_Update_2019Q4/upload_files/C_Active(0-12)_Score(M)_Density(L)_Legacy_HolidayShoppers_P_2019Q4_RFM.csv\n",
      "2020-01-15 10:15:17.766712 512029 /home/jian/Projects/Big_Lots/Live_Ramp/Quarterly_Update_2019Q4/upload_files/C_Active(0-12)_Score(M)_Density(L)_Legacy_HolidayShoppers_S_2019Q4_RFM.csv\n",
      "2020-01-15 10:15:17.863284 512029 /home/jian/Projects/Big_Lots/Live_Ramp/Quarterly_Update_2019Q4/upload_files/C_Active(0-12)_Score(M)_Density(L)_Legacy_Others_P_2019Q4_RFM.csv\n",
      "2020-01-15 10:15:17.944629 512029 /home/jian/Projects/Big_Lots/Live_Ramp/Quarterly_Update_2019Q4/upload_files/C_Active(0-12)_Score(M)_Density(L)_Legacy_Others_S_2019Q4_RFM.csv\n",
      "2020-01-15 10:15:18.035115 512029 /home/jian/Projects/Big_Lots/Live_Ramp/Quarterly_Update_2019Q4/upload_files/C_Active(0-12)_Score(M)_Density(L)_SOTF_HolidayShoppers_P_2019Q4_RFM.csv\n",
      "2020-01-15 10:15:18.138694 512029 /home/jian/Projects/Big_Lots/Live_Ramp/Quarterly_Update_2019Q4/upload_files/C_Active(0-12)_Score(M)_Density(L)_SOTF_HolidayShoppers_S_2019Q4_RFM.csv\n",
      "2020-01-15 10:15:18.241906 512029 /home/jian/Projects/Big_Lots/Live_Ramp/Quarterly_Update_2019Q4/upload_files/C_Active(0-12)_Score(M)_Density(L)_SOTF_Others_P_2019Q4_RFM.csv\n",
      "2020-01-15 10:15:18.353079 512028 /home/jian/Projects/Big_Lots/Live_Ramp/Quarterly_Update_2019Q4/upload_files/C_Active(0-12)_Score(M)_Density(L)_SOTF_Others_S_2019Q4_RFM.csv\n",
      "2020-01-15 10:15:18.457004 512028 /home/jian/Projects/Big_Lots/Live_Ramp/Quarterly_Update_2019Q4/upload_files/C_Active(0-12)_Score(M)_Density(M)_Legacy_HolidayShoppers_P_2019Q4_RFM.csv\n",
      "2020-01-15 10:15:18.587376 512028 /home/jian/Projects/Big_Lots/Live_Ramp/Quarterly_Update_2019Q4/upload_files/C_Active(0-12)_Score(M)_Density(M)_Legacy_HolidayShoppers_S_2019Q4_RFM.csv\n",
      "2020-01-15 10:15:18.888597 512028 /home/jian/Projects/Big_Lots/Live_Ramp/Quarterly_Update_2019Q4/upload_files/C_Active(0-12)_Score(M)_Density(M)_Legacy_Others_P_2019Q4_RFM.csv\n",
      "2020-01-15 10:15:19.076222 512028 /home/jian/Projects/Big_Lots/Live_Ramp/Quarterly_Update_2019Q4/upload_files/C_Active(0-12)_Score(M)_Density(M)_Legacy_Others_S_2019Q4_RFM.csv\n",
      "2020-01-15 10:15:19.188608 512028 /home/jian/Projects/Big_Lots/Live_Ramp/Quarterly_Update_2019Q4/upload_files/C_Active(0-12)_Score(M)_Density(M)_SOTF_HolidayShoppers_P_2019Q4_RFM.csv\n",
      "2020-01-15 10:15:19.275630 512028 /home/jian/Projects/Big_Lots/Live_Ramp/Quarterly_Update_2019Q4/upload_files/C_Active(0-12)_Score(M)_Density(M)_SOTF_HolidayShoppers_S_2019Q4_RFM.csv\n",
      "2020-01-15 10:15:19.434196 512028 /home/jian/Projects/Big_Lots/Live_Ramp/Quarterly_Update_2019Q4/upload_files/C_Active(0-12)_Score(M)_Density(M)_SOTF_Others_P_2019Q4_RFM.csv\n",
      "2020-01-15 10:15:19.571462 512028 /home/jian/Projects/Big_Lots/Live_Ramp/Quarterly_Update_2019Q4/upload_files/C_Active(0-12)_Score(M)_Density(M)_SOTF_Others_S_2019Q4_RFM.csv\n",
      "2020-01-15 10:15:19.681175 512028 /home/jian/Projects/Big_Lots/Live_Ramp/Quarterly_Update_2019Q4/upload_files/C_Lapsed(13-18)_Score(L)_Density(H)_Legacy_AllExpCluster_P_2019Q4_RFM.csv\n",
      "2020-01-15 10:15:19.781828 512028 /home/jian/Projects/Big_Lots/Live_Ramp/Quarterly_Update_2019Q4/upload_files/C_Lapsed(13-18)_Score(L)_Density(H)_Legacy_AllExpCluster_S_2019Q4_RFM.csv\n",
      "2020-01-15 10:15:19.868090 512028 /home/jian/Projects/Big_Lots/Live_Ramp/Quarterly_Update_2019Q4/upload_files/C_Lapsed(13-18)_Score(L)_Density(H)_SOTF_AllExpCluster_P_2019Q4_RFM.csv\n",
      "2020-01-15 10:15:19.949989 512028 /home/jian/Projects/Big_Lots/Live_Ramp/Quarterly_Update_2019Q4/upload_files/C_Lapsed(13-18)_Score(L)_Density(H)_SOTF_AllExpCluster_S_2019Q4_RFM.csv\n",
      "2020-01-15 10:15:20.036865 512028 /home/jian/Projects/Big_Lots/Live_Ramp/Quarterly_Update_2019Q4/upload_files/C_Lapsed(13-18)_Score(L)_Density(L)_Legacy_AllExpCluster_P_2019Q4_RFM.csv\n",
      "2020-01-15 10:15:20.125870 512028 /home/jian/Projects/Big_Lots/Live_Ramp/Quarterly_Update_2019Q4/upload_files/C_Lapsed(13-18)_Score(L)_Density(L)_Legacy_AllExpCluster_S_2019Q4_RFM.csv\n",
      "2020-01-15 10:15:20.237814 512028 /home/jian/Projects/Big_Lots/Live_Ramp/Quarterly_Update_2019Q4/upload_files/C_Lapsed(13-18)_Score(L)_Density(L)_SOTF_AllExpCluster_P_2019Q4_RFM.csv\n",
      "2020-01-15 10:15:20.327514 512028 /home/jian/Projects/Big_Lots/Live_Ramp/Quarterly_Update_2019Q4/upload_files/C_Lapsed(13-18)_Score(L)_Density(L)_SOTF_AllExpCluster_S_2019Q4_RFM.csv\n",
      "2020-01-15 10:15:20.507988 512027 /home/jian/Projects/Big_Lots/Live_Ramp/Quarterly_Update_2019Q4/upload_files/C_Lapsed(13-18)_Score(L)_Density(M)_Legacy_AllExpCluster_P_2019Q4_RFM.csv\n",
      "2020-01-15 10:15:20.647467 512027 /home/jian/Projects/Big_Lots/Live_Ramp/Quarterly_Update_2019Q4/upload_files/C_Lapsed(13-18)_Score(L)_Density(M)_Legacy_AllExpCluster_S_2019Q4_RFM.csv\n",
      "2020-01-15 10:15:20.773793 512027 /home/jian/Projects/Big_Lots/Live_Ramp/Quarterly_Update_2019Q4/upload_files/C_Lapsed(13-18)_Score(L)_Density(M)_SOTF_AllExpCluster_P_2019Q4_RFM.csv\n",
      "2020-01-15 10:15:20.900701 512027 /home/jian/Projects/Big_Lots/Live_Ramp/Quarterly_Update_2019Q4/upload_files/C_Lapsed(13-18)_Score(L)_Density(M)_SOTF_AllExpCluster_S_2019Q4_RFM.csv\n",
      "2020-01-15 10:15:23.331523 512023 /home/jian/Projects/Big_Lots/Live_Ramp/Quarterly_Update_2019Q4/upload_files/T_Lapsed(19-48)_Density(H)_Legacy_AllExpCluster_P_2019Q4_Lapsed.csv\n",
      "2020-01-15 10:15:23.546800 512023 /home/jian/Projects/Big_Lots/Live_Ramp/Quarterly_Update_2019Q4/upload_files/T_Lapsed(19-48)_Density(L)_Legacy_AllExpCluster_P_2019Q4_Lapsed.csv\n",
      "2020-01-15 10:15:24.309192 512022 /home/jian/Projects/Big_Lots/Live_Ramp/Quarterly_Update_2019Q4/upload_files/T_Lapsed(19-48)_Density(L)_SOTF_AllExpCluster_P_2019Q4_Lapsed.csv\n",
      "2020-01-15 10:15:38.179060 512013 /home/jian/Projects/Big_Lots/Live_Ramp/Quarterly_Update_2019Q4/upload_files/T_Lapsed(19-48)_Density(M)_Legacy_AllExpCluster_P_2019Q4_Lapsed.csv\n",
      "2020-01-15 10:15:46.075938 512000 /home/jian/Projects/Big_Lots/Live_Ramp/Quarterly_Update_2019Q4/upload_files/T_Lapsed(19-48)_Density(M)_SOTF_AllExpCluster_P_2019Q4_Lapsed.csv\n",
      "2020-01-15 10:15:46.500848 512000 /home/jian/Projects/Big_Lots/Live_Ramp/Quarterly_Update_2019Q4/upload_files/C_Lapsed(19-48)_Density(H)_Legacy_AllExpCluster_P_2019Q4_Lapsed.csv\n",
      "2020-01-15 10:15:46.602201 512000 /home/jian/Projects/Big_Lots/Live_Ramp/Quarterly_Update_2019Q4/upload_files/C_Lapsed(19-48)_Density(L)_Legacy_AllExpCluster_P_2019Q4_Lapsed.csv\n",
      "2020-01-15 10:15:46.706725 512000 /home/jian/Projects/Big_Lots/Live_Ramp/Quarterly_Update_2019Q4/upload_files/C_Lapsed(19-48)_Density(L)_SOTF_AllExpCluster_P_2019Q4_Lapsed.csv\n",
      "2020-01-15 10:15:46.945743 511999 /home/jian/Projects/Big_Lots/Live_Ramp/Quarterly_Update_2019Q4/upload_files/C_Lapsed(19-48)_Density(M)_Legacy_AllExpCluster_P_2019Q4_Lapsed.csv\n",
      "2020-01-15 10:15:47.136328 511999 /home/jian/Projects/Big_Lots/Live_Ramp/Quarterly_Update_2019Q4/upload_files/C_Lapsed(19-48)_Density(M)_SOTF_AllExpCluster_P_2019Q4_Lapsed.csv\n",
      "2020-01-15 10:15:48.102936 511999 /home/jian/celery/BiWeekly_New_SignUps/monthly_update/output_2018-12-29/NewReward_2018-12-29_P.csv\n",
      "2020-01-15 10:15:48.498344 511999 /home/jian/celery/BiWeekly_New_SignUps/monthly_update/output_2018-12-29/NewReward_2018-12-29_S.csv\n",
      "2020-01-15 10:15:48.836916 511999 /home/jian/celery/BiWeekly_New_SignUps/monthly_update/output_2018-12-29/NewReward_2018-12-29_T.csv\n",
      "2020-01-15 10:15:49.638872 511999 /home/jian/celery/BiWeekly_New_SignUps/monthly_update/output_2019-01-26/NewReward_2019-01-26_P.csv\n",
      "2020-01-15 10:15:49.904602 511999 /home/jian/celery/BiWeekly_New_SignUps/monthly_update/output_2019-01-26/NewReward_2019-01-26_S.csv\n",
      "2020-01-15 10:15:50.169709 511999 /home/jian/celery/BiWeekly_New_SignUps/monthly_update/output_2019-01-26/NewReward_2019-01-26_T.csv\n",
      "2020-01-15 10:15:50.910031 511999 /home/jian/celery/BiWeekly_New_SignUps/monthly_update/output_2019-02-23/NewReward_2019-02-23_P.csv\n",
      "2020-01-15 10:15:51.181801 511999 /home/jian/celery/BiWeekly_New_SignUps/monthly_update/output_2019-02-23/NewReward_2019-02-23_S.csv\n",
      "2020-01-15 10:15:51.357871 511999 /home/jian/celery/BiWeekly_New_SignUps/monthly_update/output_2019-02-23/NewReward_2019-02-23_T.csv\n",
      "2020-01-15 10:15:52.181911 511998 /home/jian/celery/BiWeekly_New_SignUps/monthly_update/output_2019-03-23/NewReward_2019-03-23_P.csv\n",
      "2020-01-15 10:15:52.471022 511998 /home/jian/celery/BiWeekly_New_SignUps/monthly_update/output_2019-03-23/NewReward_2019-03-23_S.csv\n",
      "2020-01-15 10:15:52.648721 511998 /home/jian/celery/BiWeekly_New_SignUps/monthly_update/output_2019-03-23/NewReward_2019-03-23_T.csv\n"
     ]
    },
    {
     "name": "stdout",
     "output_type": "stream",
     "text": [
      "2020-01-15 10:15:53.256678 511998 /home/jian/celery/BiWeekly_New_SignUps/monthly_update/output_2019-04-06/NewReward_2019-04-06_P.csv\n",
      "2020-01-15 10:15:53.849147 511998 /home/jian/celery/BiWeekly_New_SignUps/monthly_update/output_2019-04-06/NewReward_2019-04-06_S.csv\n",
      "2020-01-15 10:15:54.084914 511998 /home/jian/celery/BiWeekly_New_SignUps/monthly_update/output_2019-04-06/NewReward_2019-04-06_T.csv\n",
      "2020-01-15 10:15:54.582745 511998 /home/jian/celery/BiWeekly_New_SignUps/monthly_update/output_2019-04-20/NewReward_2019-04-20_P.csv\n",
      "2020-01-15 10:15:54.736790 511998 /home/jian/celery/BiWeekly_New_SignUps/monthly_update/output_2019-04-20/NewReward_2019-04-20_S.csv\n",
      "2020-01-15 10:15:54.867035 511998 /home/jian/celery/BiWeekly_New_SignUps/monthly_update/output_2019-04-20/NewReward_2019-04-20_T.csv\n",
      "2020-01-15 10:15:55.298964 511997 /home/jian/celery/BiWeekly_New_SignUps/monthly_update/output_2019-05-04/NewReward_2019-05-04_P.csv\n",
      "2020-01-15 10:15:55.490086 511997 /home/jian/celery/BiWeekly_New_SignUps/monthly_update/output_2019-05-04/NewReward_2019-05-04_S.csv\n",
      "2020-01-15 10:15:55.618324 511997 /home/jian/celery/BiWeekly_New_SignUps/monthly_update/output_2019-05-04/NewReward_2019-05-04_T.csv\n",
      "2020-01-15 10:15:56.106631 511997 /home/jian/celery/BiWeekly_New_SignUps/monthly_update/output_2019-05-18/NewReward_2019-05-18_P.csv\n",
      "2020-01-15 10:15:56.316606 511997 /home/jian/celery/BiWeekly_New_SignUps/monthly_update/output_2019-05-18/NewReward_2019-05-18_S.csv\n",
      "2020-01-15 10:15:56.465933 511997 /home/jian/celery/BiWeekly_New_SignUps/monthly_update/output_2019-05-18/NewReward_2019-05-18_T.csv\n",
      "2020-01-15 10:15:56.933087 511997 /home/jian/celery/BiWeekly_New_SignUps/monthly_update/output_2019-06-01/NewReward_2019-06-01_P.csv\n",
      "2020-01-15 10:15:57.146311 511997 /home/jian/celery/BiWeekly_New_SignUps/monthly_update/output_2019-06-01/NewReward_2019-06-01_S.csv\n",
      "2020-01-15 10:15:57.303198 511997 /home/jian/celery/BiWeekly_New_SignUps/monthly_update/output_2019-06-01/NewReward_2019-06-01_T.csv\n",
      "2020-01-15 10:15:57.784868 511997 /home/jian/celery/BiWeekly_New_SignUps/monthly_update/output_2019-06-15/NewReward_2019-06-15_P.csv\n",
      "2020-01-15 10:15:57.994383 511997 /home/jian/celery/BiWeekly_New_SignUps/monthly_update/output_2019-06-15/NewReward_2019-06-15_S.csv\n",
      "2020-01-15 10:15:58.318734 511997 /home/jian/celery/BiWeekly_New_SignUps/monthly_update/output_2019-06-15/NewReward_2019-06-15_T.csv\n",
      "2020-01-15 10:15:58.796949 511997 /home/jian/celery/BiWeekly_New_SignUps/monthly_update/output_2019-06-29/NewReward_2019-06-29_P.csv\n",
      "2020-01-15 10:15:58.979981 511997 /home/jian/celery/BiWeekly_New_SignUps/monthly_update/output_2019-06-29/NewReward_2019-06-29_S.csv\n",
      "2020-01-15 10:15:59.286059 511996 /home/jian/celery/BiWeekly_New_SignUps/monthly_update/output_2019-06-29/NewReward_2019-06-29_T.csv\n",
      "2020-01-15 10:15:59.943437 511996 /home/jian/celery/BiWeekly_New_SignUps/monthly_update/output_2019-07-13/NewReward_2019-07-13_P.csv\n",
      "2020-01-15 10:16:00.207115 511996 /home/jian/celery/BiWeekly_New_SignUps/monthly_update/output_2019-07-13/NewReward_2019-07-13_S.csv\n",
      "2020-01-15 10:16:00.587749 511996 /home/jian/celery/BiWeekly_New_SignUps/monthly_update/output_2019-07-13/NewReward_2019-07-13_T.csv\n",
      "2020-01-15 10:16:01.021855 511996 /home/jian/celery/BiWeekly_New_SignUps/monthly_update/output_2019-07-27/NewReward_2019-07-27_P.csv\n",
      "2020-01-15 10:16:01.304267 511996 /home/jian/celery/BiWeekly_New_SignUps/monthly_update/output_2019-07-27/NewReward_2019-07-27_S.csv\n",
      "2020-01-15 10:16:01.706213 511996 /home/jian/celery/BiWeekly_New_SignUps/monthly_update/output_2019-07-27/NewReward_2019-07-27_T.csv\n",
      "2020-01-15 10:16:02.128540 511996 /home/jian/celery/BiWeekly_New_SignUps/monthly_update/output_2019-08-10/NewReward_2019-08-10_P.csv\n",
      "2020-01-15 10:16:02.387770 511996 /home/jian/celery/BiWeekly_New_SignUps/monthly_update/output_2019-08-10/NewReward_2019-08-10_S.csv\n",
      "2020-01-15 10:16:02.781307 511995 /home/jian/celery/BiWeekly_New_SignUps/monthly_update/output_2019-08-10/NewReward_2019-08-10_T.csv\n",
      "2020-01-15 10:16:03.517887 511995 /home/jian/celery/BiWeekly_New_SignUps/monthly_update/output_2019-09-07/NewReward_2019-09-07_P.csv\n",
      "2020-01-15 10:16:03.950416 511995 /home/jian/celery/BiWeekly_New_SignUps/monthly_update/output_2019-09-07/NewReward_2019-09-07_S.csv\n",
      "2020-01-15 10:16:05.112612 511994 /home/jian/celery/BiWeekly_New_SignUps/monthly_update/output_2019-09-07/NewReward_2019-09-07_T.csv\n",
      "2020-01-15 10:16:05.991456 511994 /home/jian/celery/BiWeekly_New_SignUps/monthly_update/output_2019-09-21/NewReward_2019-09-21_P.csv\n",
      "2020-01-15 10:16:06.267838 511994 /home/jian/celery/BiWeekly_New_SignUps/monthly_update/output_2019-09-21/NewReward_2019-09-21_S.csv\n",
      "2020-01-15 10:16:06.600035 511994 /home/jian/celery/BiWeekly_New_SignUps/monthly_update/output_2019-09-21/NewReward_2019-09-21_T.csv\n",
      "2020-01-15 10:16:07.395071 511994 /home/jian/celery/BiWeekly_New_SignUps/monthly_update/output_2019-10-05/NewReward_2019-10-05_P.csv\n",
      "2020-01-15 10:16:07.660676 511994 /home/jian/celery/BiWeekly_New_SignUps/monthly_update/output_2019-10-05/NewReward_2019-10-05_S.csv\n",
      "2020-01-15 10:16:08.081401 511992 /home/jian/celery/BiWeekly_New_SignUps/monthly_update/output_2019-10-05/NewReward_2019-10-05_T.csv\n",
      "2020-01-15 10:16:08.560910 511992 /home/jian/celery/BiWeekly_New_SignUps/monthly_update/output_2019-10-19/NewReward_2019-10-19_P.csv\n",
      "2020-01-15 10:16:08.823999 511992 /home/jian/celery/BiWeekly_New_SignUps/monthly_update/output_2019-10-19/NewReward_2019-10-19_S.csv\n",
      "2020-01-15 10:16:09.366483 511992 /home/jian/celery/BiWeekly_New_SignUps/monthly_update/output_2019-10-19/NewReward_2019-10-19_T.csv\n",
      "2020-01-15 10:16:10.066183 511992 /home/jian/celery/BiWeekly_New_SignUps/monthly_update/output_2019-11-02/NewReward_2019-11-02_P.csv\n",
      "2020-01-15 10:16:10.295639 511992 /home/jian/celery/BiWeekly_New_SignUps/monthly_update/output_2019-11-02/NewReward_2019-11-02_S.csv\n",
      "2020-01-15 10:16:10.835338 511991 /home/jian/celery/BiWeekly_New_SignUps/monthly_update/output_2019-11-02/NewReward_2019-11-02_T.csv\n",
      "2020-01-15 10:16:11.646617 511991 /home/jian/celery/BiWeekly_New_SignUps/monthly_update/output_2019-11-16/NewReward_2019-11-16_P.csv\n",
      "2020-01-15 10:16:11.912529 511991 /home/jian/celery/BiWeekly_New_SignUps/monthly_update/output_2019-11-16/NewReward_2019-11-16_S.csv\n",
      "2020-01-15 10:16:12.798716 511991 /home/jian/celery/BiWeekly_New_SignUps/monthly_update/output_2019-11-16/NewReward_2019-11-16_T.csv\n",
      "2020-01-15 10:16:13.682251 511990 /home/jian/celery/BiWeekly_New_SignUps/monthly_update/output_2019-11-30/NewReward_2019-11-30_P.csv\n",
      "2020-01-15 10:16:13.991617 511990 /home/jian/celery/BiWeekly_New_SignUps/monthly_update/output_2019-11-30/NewReward_2019-11-30_S.csv\n",
      "2020-01-15 10:16:14.909744 511988 /home/jian/celery/BiWeekly_New_SignUps/monthly_update/output_2019-11-30/NewReward_2019-11-30_T.csv\n",
      "2020-01-15 10:16:15.771153 511987 /home/jian/celery/BiWeekly_New_SignUps/monthly_update/output_2019-12-14/NewReward_2019-12-14_P.csv\n",
      "2020-01-15 10:16:16.058992 511987 /home/jian/celery/BiWeekly_New_SignUps/monthly_update/output_2019-12-14/NewReward_2019-12-14_S.csv\n",
      "2020-01-15 10:16:16.949690 511986 /home/jian/celery/BiWeekly_New_SignUps/monthly_update/output_2019-12-14/NewReward_2019-12-14_T.csv\n"
     ]
    }
   ],
   "source": [
    "for file_uploaded in previous_id_files_lists:\n",
    "    df = pd.read_csv(file_uploaded,usecols = ['email_address_hash'])\n",
    "    previous_email_set=set(df['email_address_hash'].tolist())\n",
    "    df_all_new_master = df_all_new_master[~df_all_new_master['email_address_hash'].isin(previous_email_set)]\n",
    "    print(datetime.datetime.now(),len(df_all_new_master.index),file_uploaded)"
   ]
  },
  {
   "cell_type": "code",
   "execution_count": 18,
   "metadata": {},
   "outputs": [
    {
     "name": "stdout",
     "output_type": "stream",
     "text": [
      "511986\n"
     ]
    }
   ],
   "source": [
    "df_all_new_master = df_all_new_master.drop_duplicates('email_address_hash')\n",
    "df_all_new_master = df_all_new_master.drop_duplicates('customer_id_hashed')\n",
    "print(len(df_all_new_master.index))"
   ]
  },
  {
   "cell_type": "code",
   "execution_count": 19,
   "metadata": {},
   "outputs": [
    {
     "name": "stdout",
     "output_type": "stream",
     "text": [
      "(12980, 3)\n",
      "12980\n"
     ]
    },
    {
     "data": {
      "text/html": [
       "<div>\n",
       "<style scoped>\n",
       "    .dataframe tbody tr th:only-of-type {\n",
       "        vertical-align: middle;\n",
       "    }\n",
       "\n",
       "    .dataframe tbody tr th {\n",
       "        vertical-align: top;\n",
       "    }\n",
       "\n",
       "    .dataframe thead th {\n",
       "        text-align: right;\n",
       "    }\n",
       "</style>\n",
       "<table border=\"1\" class=\"dataframe\">\n",
       "  <thead>\n",
       "    <tr style=\"text-align: right;\">\n",
       "      <th></th>\n",
       "      <th>customer_zip_code</th>\n",
       "      <th>zipcodegroup</th>\n",
       "    </tr>\n",
       "  </thead>\n",
       "  <tbody>\n",
       "    <tr>\n",
       "      <th>0</th>\n",
       "      <td>75040</td>\n",
       "      <td>P</td>\n",
       "    </tr>\n",
       "    <tr>\n",
       "      <th>1</th>\n",
       "      <td>20743</td>\n",
       "      <td>P</td>\n",
       "    </tr>\n",
       "  </tbody>\n",
       "</table>\n",
       "</div>"
      ],
      "text/plain": [
       "  customer_zip_code zipcodegroup\n",
       "0             75040            P\n",
       "1             20743            P"
      ]
     },
     "execution_count": 19,
     "metadata": {},
     "output_type": "execute_result"
    }
   ],
   "source": [
    "zipmap = pd.ExcelFile('/home/jian/Projects/Big_Lots/New_TA/TA_created_in_201906/final_output_20190718/BL_final_TA_updated_JL_2019-07-18.xlsx')\n",
    "zipmap=zipmap.parse(\"unique_zips_full_footprint\",dtype=str)\n",
    "zipmap['zip_type']=zipmap['zip_type'].replace(\"zips_10\",\"trans_S\")\n",
    "\n",
    "zipmap['zipcodegroup'] = zipmap['zip_type'].apply(lambda x: x.split(\"_\")[1])\n",
    "print(zipmap.shape)\n",
    "print(zipmap['zip_cd'].nunique())\n",
    "\n",
    "zipmap=zipmap.rename(columns={\"zip_cd\":\"customer_zip_code\"})\n",
    "\n",
    "zipmap=zipmap[['customer_zip_code','zipcodegroup']]\n",
    "zipmap.head(2)"
   ]
  },
  {
   "cell_type": "code",
   "execution_count": 20,
   "metadata": {},
   "outputs": [
    {
     "name": "stdout",
     "output_type": "stream",
     "text": [
      "['P' nan 'S']\n",
      "['P' 'T' 'S']\n",
      "P 191912\n",
      "S 84288\n",
      "T 235786\n"
     ]
    }
   ],
   "source": [
    "df_all_new_master = pd.merge(df_all_new_master,zipmap,on ='customer_zip_code',how = 'left' )\n",
    "print(df_all_new_master['zipcodegroup'].unique())\n",
    "\n",
    "df_all_new_master['zipcodegroup'].fillna('T',inplace = True)\n",
    "print(df_all_new_master['zipcodegroup'].unique())\n",
    "\n",
    "last_saturday_str=\"_\"+str(last_saturday).split(\"-\")[1]+str(last_saturday).split(\"-\")[2]+str(last_saturday).split(\"-\")[0][2:]+\"_\"\n",
    "\n",
    "for revenue_flag in ['P','S','T']:\n",
    "    df = df_all_new_master[df_all_new_master['zipcodegroup']==revenue_flag]\n",
    "    df = df[['customer_id_hashed','email_address_hash','customer_zip_code']]\n",
    "    df['segment'] = 'NewReward' + last_saturday_str + revenue_flag\n",
    "    print(revenue_flag,len(df.index))\n",
    "    df.to_csv(write_folder+'NewReward_'+str(last_saturday)+'_'+revenue_flag+'.csv',index = False)\n",
    "# To be uploaded to lr-big-lots /uploads/big_lots_onboarding"
   ]
  },
  {
   "cell_type": "code",
   "execution_count": 21,
   "metadata": {},
   "outputs": [
    {
     "data": {
      "text/html": [
       "<div>\n",
       "<style scoped>\n",
       "    .dataframe tbody tr th:only-of-type {\n",
       "        vertical-align: middle;\n",
       "    }\n",
       "\n",
       "    .dataframe tbody tr th {\n",
       "        vertical-align: top;\n",
       "    }\n",
       "\n",
       "    .dataframe thead th {\n",
       "        text-align: right;\n",
       "    }\n",
       "</style>\n",
       "<table border=\"1\" class=\"dataframe\">\n",
       "  <thead>\n",
       "    <tr style=\"text-align: right;\">\n",
       "      <th></th>\n",
       "      <th>zipcodegroup</th>\n",
       "      <th>email_address_hash</th>\n",
       "    </tr>\n",
       "  </thead>\n",
       "  <tbody>\n",
       "    <tr>\n",
       "      <th>0</th>\n",
       "      <td>P</td>\n",
       "      <td>191912</td>\n",
       "    </tr>\n",
       "    <tr>\n",
       "      <th>1</th>\n",
       "      <td>S</td>\n",
       "      <td>84288</td>\n",
       "    </tr>\n",
       "    <tr>\n",
       "      <th>2</th>\n",
       "      <td>T</td>\n",
       "      <td>235786</td>\n",
       "    </tr>\n",
       "  </tbody>\n",
       "</table>\n",
       "</div>"
      ],
      "text/plain": [
       "  zipcodegroup  email_address_hash\n",
       "0            P              191912\n",
       "1            S               84288\n",
       "2            T              235786"
      ]
     },
     "execution_count": 21,
     "metadata": {},
     "output_type": "execute_result"
    }
   ],
   "source": [
    "df_all_new_master.groupby(['zipcodegroup'])['email_address_hash'].count().to_frame().reset_index()"
   ]
  },
  {
   "cell_type": "code",
   "execution_count": 22,
   "metadata": {},
   "outputs": [
    {
     "data": {
      "text/html": [
       "<div>\n",
       "<style scoped>\n",
       "    .dataframe tbody tr th:only-of-type {\n",
       "        vertical-align: middle;\n",
       "    }\n",
       "\n",
       "    .dataframe tbody tr th {\n",
       "        vertical-align: top;\n",
       "    }\n",
       "\n",
       "    .dataframe thead th {\n",
       "        text-align: right;\n",
       "    }\n",
       "</style>\n",
       "<table border=\"1\" class=\"dataframe\">\n",
       "  <thead>\n",
       "    <tr style=\"text-align: right;\">\n",
       "      <th></th>\n",
       "      <th>customer_id_hashed</th>\n",
       "      <th>email_address_hash</th>\n",
       "      <th>customer_zip_code</th>\n",
       "      <th>segment</th>\n",
       "    </tr>\n",
       "  </thead>\n",
       "  <tbody>\n",
       "    <tr>\n",
       "      <th>1</th>\n",
       "      <td>c42d9544d0f57574018cd69aeb8beba5e08296be42536d...</td>\n",
       "      <td>637231d99fafbf14b1ad8857dfdf02993519c7b8ffe1bd...</td>\n",
       "      <td>NaN</td>\n",
       "      <td>NewReward_011120_T</td>\n",
       "    </tr>\n",
       "    <tr>\n",
       "      <th>3</th>\n",
       "      <td>bea88a0e5581655efefff622f9aea0aa47e5d04db9a471...</td>\n",
       "      <td>dbdccc12da7070324c50940dc5d25259156ccc22cb0f81...</td>\n",
       "      <td>NaN</td>\n",
       "      <td>NewReward_011120_T</td>\n",
       "    </tr>\n",
       "  </tbody>\n",
       "</table>\n",
       "</div>"
      ],
      "text/plain": [
       "                                  customer_id_hashed  \\\n",
       "1  c42d9544d0f57574018cd69aeb8beba5e08296be42536d...   \n",
       "3  bea88a0e5581655efefff622f9aea0aa47e5d04db9a471...   \n",
       "\n",
       "                                  email_address_hash customer_zip_code  \\\n",
       "1  637231d99fafbf14b1ad8857dfdf02993519c7b8ffe1bd...               NaN   \n",
       "3  dbdccc12da7070324c50940dc5d25259156ccc22cb0f81...               NaN   \n",
       "\n",
       "              segment  \n",
       "1  NewReward_011120_T  \n",
       "3  NewReward_011120_T  "
      ]
     },
     "execution_count": 22,
     "metadata": {},
     "output_type": "execute_result"
    }
   ],
   "source": [
    "df.head(2)"
   ]
  },
  {
   "cell_type": "code",
   "execution_count": 23,
   "metadata": {},
   "outputs": [
    {
     "name": "stdout",
     "output_type": "stream",
     "text": [
      "2020-01-15 10:16:25.470835\n"
     ]
    }
   ],
   "source": [
    "print(datetime.datetime.now())"
   ]
  },
  {
   "cell_type": "code",
   "execution_count": 24,
   "metadata": {},
   "outputs": [
    {
     "name": "stdout",
     "output_type": "stream",
     "text": [
      "2020-01-15 10:16:25.477313\n"
     ]
    }
   ],
   "source": [
    "print(datetime.datetime.now())"
   ]
  },
  {
   "cell_type": "code",
   "execution_count": 25,
   "metadata": {},
   "outputs": [
    {
     "name": "stdout",
     "output_type": "stream",
     "text": [
      "Done:  2020-01-15 10:19:06.802763\n"
     ]
    }
   ],
   "source": [
    "import paramiko\n",
    "import glob\n",
    "\n",
    "host = \"files.liveramp.com\"\n",
    "port = 22\n",
    "password = \"Biglots2018!\"\n",
    "username = \"lr-big-lots\"\n",
    "\n",
    "transport = paramiko.Transport((host, port))\n",
    "\n",
    "transport.connect(username = username, password = password)\n",
    "sftp = paramiko.SFTPClient.from_transport(transport)\n",
    "\n",
    "# local_path defined above before saving the local txt\n",
    "local_list=glob.glob(write_folder+\"*.csv\")\n",
    "local_list=[x for x in local_list if 'NewReward_'+str(last_saturday)+'_' in x]\n",
    "\n",
    "for local_path in local_list:\n",
    "    remote_path=\"/uploads/big_lots_onboarding/\"+os.path.basename(local_path)\n",
    "    sftp.put(local_path,remote_path)\n",
    "sftp.close()\n",
    "transport.close()\n",
    "print(\"Done: \",datetime.datetime.now())"
   ]
  },
  {
   "cell_type": "code",
   "execution_count": null,
   "metadata": {
    "collapsed": true
   },
   "outputs": [],
   "source": []
  }
 ],
 "metadata": {
  "kernelspec": {
   "display_name": "Python 3",
   "language": "python",
   "name": "python3"
  },
  "language_info": {
   "codemirror_mode": {
    "name": "ipython",
    "version": 3
   },
   "file_extension": ".py",
   "mimetype": "text/x-python",
   "name": "python",
   "nbconvert_exporter": "python",
   "pygments_lexer": "ipython3",
   "version": "3.6.1"
  }
 },
 "nbformat": 4,
 "nbformat_minor": 2
}
