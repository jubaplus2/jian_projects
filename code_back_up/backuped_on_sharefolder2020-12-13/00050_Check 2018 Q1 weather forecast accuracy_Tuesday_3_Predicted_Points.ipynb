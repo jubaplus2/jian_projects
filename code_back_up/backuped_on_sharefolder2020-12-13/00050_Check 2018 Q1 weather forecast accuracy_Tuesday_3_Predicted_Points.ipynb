{
 "cells": [
  {
   "cell_type": "code",
   "execution_count": 9,
   "metadata": {
    "collapsed": true
   },
   "outputs": [],
   "source": [
    "import datetime\n",
    "import json\n",
    "import pandas as pd\n",
    "import glob\n",
    "import os\n",
    "import numpy as np\n",
    "\n",
    "today_str=str(datetime.datetime.now().date())\n",
    "\n",
    "writer_floder=\"/home/jian/Projects/Big_Lots/Weather/Forecast_Validation/\"+today_str+\"/\"\n",
    "try:\n",
    "    os.stat(writer_floder)\n",
    "except:\n",
    "    os.mkdir(writer_floder)"
   ]
  },
  {
   "cell_type": "code",
   "execution_count": 10,
   "metadata": {
    "collapsed": true
   },
   "outputs": [],
   "source": [
    "forecast_file_list=glob.glob(\"/home/jian/Projects/Big_Lots/Weather/Json_data/forecast/forcast_api_response_20180524/\"+\"*.json\")\n",
    "\n",
    "actual_file_list=glob.glob(\"/home/jian/Projects/Big_Lots/Weather/Json_data/daily/api_response_20180524/\"+\"*.json\")"
   ]
  },
  {
   "cell_type": "code",
   "execution_count": 11,
   "metadata": {
    "collapsed": true
   },
   "outputs": [],
   "source": [
    "forecast_file_Q1_df=pd.DataFrame()\n",
    "actual_file_Q1_df=pd.DataFrame()\n",
    "i=1\n",
    "for file in forecast_file_list:\n",
    "    location=file\n",
    "    date=datetime.datetime.strptime(file.split(\"/\")[len(file.split(\"/\"))-1][0:10],\"%Y-%m-%d\").date()\n",
    "    \n",
    "    if (date>=datetime.date(2018,2,4)) & (date<=datetime.date(2018,5,5)) & (date.weekday()==1): #Tuesday only\n",
    "        forecast_file_Q1_df=forecast_file_Q1_df.append(pd.DataFrame({\"Date_Monday\":date,'Date_Saturday':date+datetime.timedelta(days=4),\"forecast_file\":location},index=[i]))\n",
    "        i=i+1\n",
    "i=1\n",
    "for file in actual_file_list:\n",
    "    location=file\n",
    "    date=datetime.datetime.strptime(file.split(\"/\")[len(file.split(\"/\"))-1][0:10],\"%Y-%m-%d\").date()\n",
    "    \n",
    "    if (date>=datetime.date(2018,2,4)) & (date<=datetime.date(2018,5,5)) & (date.weekday()==5): #Monday only\n",
    "        actual_file_Q1_df=actual_file_Q1_df.append(pd.DataFrame({\"Date_Saturday\":date,\"actual_file\":location},index=[i]))\n",
    "        i=i+1\n",
    "both_file_Q1=pd.merge(actual_file_Q1_df,forecast_file_Q1_df,on=\"Date_Saturday\",how=\"inner\")"
   ]
  },
  {
   "cell_type": "code",
   "execution_count": 12,
   "metadata": {
    "collapsed": true
   },
   "outputs": [],
   "source": [
    "inclusion_stores=pd.read_excel(\"/home/jian/Projects/Big_Lots/Q1_Post/BL_Sales YoY_JL_20180618.xlsx\",sheetname=\"Inclusion Stores\",skiprows=1,dtype=str)\n",
    "store_zips=pd.read_excel(\"/home/jian/Projects/Big_Lots/Other_Input/all_store_DMA.xlsx\",dtype=str)[['location_id','zip']]\n",
    "store_zips['zip']=store_zips['zip'].apply(lambda x: x.zfill(5))\n",
    "inclusion_stores=pd.merge(inclusion_stores,store_zips,on=\"location_id\",how=\"left\")\n",
    "inclusion_stores=inclusion_stores[['location_id','zip']].rename(columns={\"zip\":\"zip_cd\"})\n",
    "inclusion_stores=inclusion_stores[inclusion_stores['location_id']!='1769']"
   ]
  },
  {
   "cell_type": "code",
   "execution_count": 13,
   "metadata": {},
   "outputs": [
    {
     "name": "stdout",
     "output_type": "stream",
     "text": [
      "47546 2018-02-24\n",
      "30106 2018-02-24\n",
      "37620 2018-02-24\n",
      "76117 2018-02-24\n",
      "30458 2018-02-24\n",
      "31419 2018-02-24\n",
      "44511 2018-02-24\n",
      "34112 2018-02-24\n",
      "27407 2018-02-24\n",
      "94509 2018-02-24\n",
      "92553 2018-02-24\n",
      "89431 2018-02-24\n",
      "95051 2018-02-24\n",
      "76063 2018-02-24\n",
      "76116 2018-02-24\n",
      "39402 2018-02-24\n",
      "27534 2018-02-24\n",
      "72015 2018-02-24\n",
      "33813 2018-02-24\n",
      "13905 2018-02-24\n",
      "35806 2018-04-28\n"
     ]
    }
   ],
   "source": [
    "all_forecast_group_value=[]\n",
    "all_forecast_desc_value=[]\n",
    "\n",
    "all_actual_group_value=[]\n",
    "all_actual_desc_value=[]\n",
    "\n",
    "for i in range(len(both_file_Q1)):\n",
    "    json_actual=json.load(open(both_file_Q1['actual_file'][i],\"r\"))\n",
    "    json_forecast=json.load(open(both_file_Q1['forecast_file'][i],\"r\"))\n",
    "    for zip_cd in inclusion_stores['zip_cd'].unique().tolist():\n",
    "        if (zip_cd in list(json_forecast.keys())) & (zip_cd in list(json_actual.keys())):\n",
    "            weather_forecast_list=json_forecast[zip_cd]['list'][31]['weather']\n",
    "            weather_actual_list=json_actual[zip_cd]['weather']\n",
    "\n",
    "            for j in range(len(weather_forecast_list)):\n",
    "                weather_forecast_group=weather_forecast_list[j]['main']\n",
    "                weather_forecast_desc=weather_forecast_list[j]['description']\n",
    "                all_forecast_group_value=list(set(all_forecast_group_value+[weather_forecast_group]))\n",
    "                all_forecast_desc_value=list(set(all_forecast_desc_value+[weather_forecast_desc]))\n",
    "            \n",
    "            for j in range(len(weather_actual_list)):    \n",
    "                weather_actual_group=weather_actual_list[j]['main']\n",
    "                weather_actual_desc=weather_actual_list[j]['description']\n",
    "                all_actual_group_value=list(set(all_actual_group_value+[weather_actual_group]))\n",
    "                all_actual_desc_value=list(set(all_actual_desc_value+[weather_actual_desc]))\n",
    "        else:\n",
    "            print(zip_cd,both_file_Q1['Date_Saturday'][i])\n",
    "            \n",
    "        \n",
    "        \n",
    "        "
   ]
  },
  {
   "cell_type": "code",
   "execution_count": 14,
   "metadata": {},
   "outputs": [
    {
     "data": {
      "text/plain": [
       "['Clouds', 'Rain', 'Clear', 'Snow']"
      ]
     },
     "execution_count": 14,
     "metadata": {},
     "output_type": "execute_result"
    }
   ],
   "source": [
    "all_forecast_group_value"
   ]
  },
  {
   "cell_type": "code",
   "execution_count": null,
   "metadata": {
    "collapsed": true
   },
   "outputs": [],
   "source": []
  },
  {
   "cell_type": "code",
   "execution_count": 15,
   "metadata": {},
   "outputs": [
    {
     "name": "stderr",
     "output_type": "stream",
     "text": [
      "/usr/local/lib/python3.6/site-packages/ipykernel_launcher.py:5: SettingWithCopyWarning: \n",
      "A value is trying to be set on a copy of a slice from a DataFrame.\n",
      "Try using .loc[row_indexer,col_indexer] = value instead\n",
      "\n",
      "See the caveats in the documentation: http://pandas.pydata.org/pandas-docs/stable/indexing.html#indexing-view-versus-copy\n",
      "  \"\"\"\n"
     ]
    }
   ],
   "source": [
    "rain_snow_weight=pd.read_excel(\"/home/jian/Projects/Big_Lots/Weather/Q1_Weather_Counts/Q1_inclusion_store_all_weather_type_ranked.xlsx\",sheetname=\"ranked rain snow\")\n",
    "\n",
    "rain_weight=rain_snow_weight.iloc[:,[4,6]]\n",
    "rain_weight.columns=[['rain_desc','weight']]\n",
    "rain_weight['weight']=rain_weight['weight'].astype(int)\n",
    "rain_weight=rain_weight.sort_values(\"weight\")\n",
    "\n",
    "snow_weight=rain_snow_weight.iloc[:,[0,2]]\n",
    "snow_weight.columns=[['snow_desc','weight']]\n",
    "snow_weight=snow_weight[~pd.isnull(snow_weight['snow_desc'])]\n",
    "snow_weight['weight']=snow_weight['weight'].astype(int)\n",
    "snow_weight=snow_weight.sort_values(\"weight\")\n",
    "\n",
    "group_weight=pd.read_excel(\"/home/jian/Projects/Big_Lots/Weather/Q1_Weather_Counts/Q1_inclusion_store_all_weather_type_ranked.xlsx\",sheetname=\"all_weather_group_list\")\n",
    "group_weight['Severity']=group_weight['Severity'].astype(int)\n",
    "group_weight=group_weight[['all_type_group','Severity']]\n",
    "group_weight_dict=group_weight[['all_type_group', 'Severity']].set_index('all_type_group').T.to_dict()\n"
   ]
  },
  {
   "cell_type": "code",
   "execution_count": 16,
   "metadata": {},
   "outputs": [
    {
     "data": {
      "text/html": [
       "<div>\n",
       "<style>\n",
       "    .dataframe thead tr:only-child th {\n",
       "        text-align: right;\n",
       "    }\n",
       "\n",
       "    .dataframe thead th {\n",
       "        text-align: left;\n",
       "    }\n",
       "\n",
       "    .dataframe tbody tr th {\n",
       "        vertical-align: top;\n",
       "    }\n",
       "</style>\n",
       "<table border=\"1\" class=\"dataframe\">\n",
       "  <thead>\n",
       "    <tr style=\"text-align: right;\">\n",
       "      <th></th>\n",
       "      <th>Date_Saturday</th>\n",
       "      <th>actual_file</th>\n",
       "      <th>Date_Monday</th>\n",
       "      <th>forecast_file</th>\n",
       "    </tr>\n",
       "  </thead>\n",
       "  <tbody>\n",
       "    <tr>\n",
       "      <th>0</th>\n",
       "      <td>2018-04-07</td>\n",
       "      <td>/home/jian/Projects/Big_Lots/Weather/Json_data...</td>\n",
       "      <td>2018-04-03</td>\n",
       "      <td>/home/jian/Projects/Big_Lots/Weather/Json_data...</td>\n",
       "    </tr>\n",
       "    <tr>\n",
       "      <th>1</th>\n",
       "      <td>2018-02-24</td>\n",
       "      <td>/home/jian/Projects/Big_Lots/Weather/Json_data...</td>\n",
       "      <td>2018-02-20</td>\n",
       "      <td>/home/jian/Projects/Big_Lots/Weather/Json_data...</td>\n",
       "    </tr>\n",
       "  </tbody>\n",
       "</table>\n",
       "</div>"
      ],
      "text/plain": [
       "  Date_Saturday                                        actual_file  \\\n",
       "0    2018-04-07  /home/jian/Projects/Big_Lots/Weather/Json_data...   \n",
       "1    2018-02-24  /home/jian/Projects/Big_Lots/Weather/Json_data...   \n",
       "\n",
       "  Date_Monday                                      forecast_file  \n",
       "0  2018-04-03  /home/jian/Projects/Big_Lots/Weather/Json_data...  \n",
       "1  2018-02-20  /home/jian/Projects/Big_Lots/Weather/Json_data...  "
      ]
     },
     "execution_count": 16,
     "metadata": {},
     "output_type": "execute_result"
    }
   ],
   "source": [
    "both_file_Q1.head(2)"
   ]
  },
  {
   "cell_type": "code",
   "execution_count": 17,
   "metadata": {},
   "outputs": [
    {
     "name": "stdout",
     "output_type": "stream",
     "text": [
      "47546 2018-02-24\n",
      "30106 2018-02-24\n",
      "37620 2018-02-24\n",
      "76117 2018-02-24\n",
      "30458 2018-02-24\n",
      "31419 2018-02-24\n",
      "44511 2018-02-24\n",
      "34112 2018-02-24\n",
      "27407 2018-02-24\n",
      "94509 2018-02-24\n",
      "92553 2018-02-24\n",
      "89431 2018-02-24\n",
      "95051 2018-02-24\n",
      "76063 2018-02-24\n",
      "76116 2018-02-24\n",
      "39402 2018-02-24\n",
      "27534 2018-02-24\n",
      "72015 2018-02-24\n",
      "33813 2018-02-24\n",
      "13905 2018-02-24\n",
      "35806 2018-04-28\n"
     ]
    }
   ],
   "source": [
    "output_validation=pd.DataFrame()\n",
    "\n",
    "index_num=1\n",
    "for i in range(len(both_file_Q1)):\n",
    "    json_actual=json.load(open(both_file_Q1['actual_file'][i],\"r\"))\n",
    "    json_forecast=json.load(open(both_file_Q1['forecast_file'][i],\"r\"))\n",
    "    date=both_file_Q1['Date_Saturday'][i]\n",
    "    for zip_cd in inclusion_stores['zip_cd'].unique().tolist():\n",
    "\n",
    "        if (zip_cd in list(json_forecast.keys())) & (zip_cd in list(json_actual.keys())):\n",
    "            forecast_time=datetime.datetime.fromtimestamp(json_forecast[zip_cd]['list'][31]['dt']) #3:00 pm\n",
    "            actual_time=datetime.datetime.fromtimestamp(json_actual[zip_cd]['dt']) \n",
    "            \n",
    "            weather_forecast_list_2pm=json_forecast[zip_cd]['list'][31]['weather']\n",
    "            weather_forecast_list_11am=json_forecast[zip_cd]['list'][30]['weather']\n",
    "            weather_forecast_list_8am=json_forecast[zip_cd]['list'][29]['weather']\n",
    "            weather_actual_list=json_actual[zip_cd]['weather']\n",
    "            all_forecast_group_value_zip=[]\n",
    "            #all_forecast_desc_value_zip=[]\n",
    "            all_actual_group_value_zip=[]\n",
    "            #all_actual_desc_value_zip=[]\n",
    "            \n",
    "            for j in range(len(weather_forecast_list_2pm)):\n",
    "                weather_forecast_group=weather_forecast_list_2pm[j]['main']\n",
    "                weather_forecast_desc=weather_forecast_list_2pm[j]['description']\n",
    "                all_forecast_group_value_zip=list(set(all_forecast_group_value_zip+[weather_forecast_group]))\n",
    "                #all_forecast_desc_value_zip=list(set(all_forecast_desc_value_zip+[weather_forecast_desc]))\n",
    "\n",
    "            for j in range(len(weather_forecast_list_11am)):\n",
    "                weather_forecast_group=weather_forecast_list_11am[j]['main']\n",
    "                weather_forecast_desc=weather_forecast_list_11am[j]['description']\n",
    "                all_forecast_group_value_zip=list(set(all_forecast_group_value_zip+[weather_forecast_group]))\n",
    "                #all_forecast_desc_value_zip=list(set(all_forecast_desc_value_zip+[weather_forecast_desc]))\n",
    "                \n",
    "            for j in range(len(weather_forecast_list_8am)):\n",
    "                weather_forecast_group=weather_forecast_list_8am[j]['main']\n",
    "                weather_forecast_desc=weather_forecast_list_8am[j]['description']\n",
    "                all_forecast_group_value_zip=list(set(all_forecast_group_value_zip+[weather_forecast_group]))\n",
    "                #all_forecast_desc_value_zip=list(set(all_forecast_desc_value_zip+[weather_forecast_desc]))\n",
    "                \n",
    "            for j in range(len(weather_actual_list)):    \n",
    "                weather_actual_group=weather_actual_list[j]['main']\n",
    "                weather_actual_desc=weather_actual_list[j]['description']\n",
    "                all_actual_group_value_zip=list(set(all_actual_group_value_zip+[weather_actual_group]))\n",
    "                #all_actual_desc_value_zip=list(set(all_actual_desc_value_zip+[weather_actual_desc]))\n",
    "            \n",
    "            all_forecast_group_severity_zip=[]\n",
    "            all_actual_group_severity_zip=[]\n",
    "            \n",
    "            selected_havest_forecast_group_value_zip=np.nan\n",
    "            selected_havest_actual_group_value_zip=np.nan\n",
    "            \n",
    "            \n",
    "            for k in range(len(all_forecast_group_value_zip)):\n",
    "                forecast_severity_zip=group_weight_dict[all_forecast_group_value_zip[k]]['Severity']\n",
    "                all_forecast_group_severity_zip=list(set(all_forecast_group_severity_zip+[forecast_severity_zip]))\n",
    "                if k==0:\n",
    "                    selected_havest_forecast_group_value_zip=all_forecast_group_value_zip[0]\n",
    "                else:\n",
    "                    if group_weight_dict[all_forecast_group_value_zip[k]]['Severity']>group_weight_dict[selected_havest_forecast_group_value_zip]['Severity']:\n",
    "                        selected_havest_forecast_group_value_zip=all_forecast_group_value_zip[k]\n",
    "                    \n",
    "                \n",
    "                \n",
    "            for k in range(len(all_actual_group_value_zip)):\n",
    "                actual_severity_zip=group_weight_dict[all_actual_group_value_zip[k]]['Severity']\n",
    "                all_actual_group_severity_zip=list(set(all_actual_group_severity_zip+[actual_severity_zip]))\n",
    "                if k==0:\n",
    "                    selected_havest_actual_group_value_zip=all_actual_group_value_zip[0]\n",
    "                else:\n",
    "                    if group_weight_dict[all_actual_group_value_zip[k]]['Severity']>group_weight_dict[selected_havest_actual_group_value_zip]['Severity']:\n",
    "                        selected_havest_actual_group_value_zip=all_actual_group_value_zip[k]\n",
    "                        \n",
    "            \n",
    "            forecast_max_severity_zip=max(all_forecast_group_severity_zip)\n",
    "            actual_max_severity_zip=max(all_actual_group_severity_zip)\n",
    "            \n",
    "            df_app=pd.DataFrame({\"zip_cd\":zip_cd,\"Saturday\":date,\"Forecast_Time\":forecast_time,\"Actual_Time\":actual_time,\n",
    "                                 \"Forecast_Severity\":forecast_max_severity_zip,\"Actual_Severity\":actual_max_severity_zip,\n",
    "                                \"Forecast_Weather_Type\":selected_havest_forecast_group_value_zip,\"Actual_Weather_Type\":selected_havest_actual_group_value_zip},index=[index_num])\n",
    "            index_num=index_num+1\n",
    "            output_validation=output_validation.append(df_app)\n",
    "        else:\n",
    "            print(zip_cd,both_file_Q1['Date_Saturday'][i])\n",
    "            \n",
    "output_validation=output_validation[['zip_cd','Saturday','Forecast_Time','Actual_Time','Forecast_Weather_Type','Actual_Weather_Type','Forecast_Severity','Actual_Severity']]"
   ]
  },
  {
   "cell_type": "code",
   "execution_count": 18,
   "metadata": {
    "collapsed": true
   },
   "outputs": [],
   "source": [
    "output_validation['Diff']=output_validation['Actual_Severity']-output_validation['Forecast_Severity']\n",
    "writer=pd.ExcelWriter(writer_floder+\"BL_2018 Q1 Forecast 4 days validation Tue Sat_3_Pred_Points_JL_\"+today_str+\".xlsx\",engine=\"xlsxwriter\")\n",
    "output_validation.to_excel(writer,\"all_10_weeks\",index=False)\n",
    "for Saturday,group in output_validation.groupby(['Saturday']):\n",
    "    group.to_excel(writer,str(Saturday),index=False)\n",
    "writer.save()"
   ]
  },
  {
   "cell_type": "code",
   "execution_count": null,
   "metadata": {
    "collapsed": true
   },
   "outputs": [],
   "source": []
  },
  {
   "cell_type": "code",
   "execution_count": null,
   "metadata": {
    "collapsed": true
   },
   "outputs": [],
   "source": []
  }
 ],
 "metadata": {
  "kernelspec": {
   "display_name": "Python 3",
   "language": "python",
   "name": "python3"
  },
  "language_info": {
   "codemirror_mode": {
    "name": "ipython",
    "version": 3
   },
   "file_extension": ".py",
   "mimetype": "text/x-python",
   "name": "python",
   "nbconvert_exporter": "python",
   "pygments_lexer": "ipython3",
   "version": "3.6.1"
  }
 },
 "nbformat": 4,
 "nbformat_minor": 2
}
