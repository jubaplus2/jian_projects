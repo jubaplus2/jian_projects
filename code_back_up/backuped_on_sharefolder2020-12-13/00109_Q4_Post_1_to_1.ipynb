{
 "cells": [
  {
   "cell_type": "code",
   "execution_count": 1,
   "metadata": {
    "collapsed": true
   },
   "outputs": [],
   "source": [
    "# Cleaning control group\n",
    "import pandas as pd\n",
    "import numpy as np\n",
    "import datetime\n",
    "import os\n",
    "import gc\n",
    "import glob\n",
    "os.getcwd()\n",
    "\n",
    "samplerows=None"
   ]
  },
  {
   "cell_type": "code",
   "execution_count": 2,
   "metadata": {
    "collapsed": true
   },
   "outputs": [],
   "source": [
    "def recursive_file_gen(my_root_dir):\n",
    "    for root, dirs, files in os.walk(my_root_dir):\n",
    "        for file in files:\n",
    "            yield os.path.join(root, file)"
   ]
  },
  {
   "cell_type": "code",
   "execution_count": 3,
   "metadata": {},
   "outputs": [
    {
     "data": {
      "text/plain": [
       "7"
      ]
     },
     "execution_count": 3,
     "metadata": {},
     "output_type": "execute_result"
    }
   ],
   "source": [
    "returned_df_1=pd.read_table(\"/home/jian/Projects/Big_Lots/Live_Ramp/Mapping_Files/2018_Q4/Previous_Returned/CL_BigLots_allrewards_combined0908_20181029_171317_0000.psv.gz\",compression=\"gzip\",sep=\"|\",dtype=str)\n",
    "returned_df_2=pd.read_table(\"/home/jian/Projects/Big_Lots/Live_Ramp/Mapping_Files/2018_Q4/Previous_Returned/CL_BigLots_allrewards_combined1011_20181026_232208_0000.psv.gz\",compression=\"gzip\",sep=\"|\",dtype=str)\n",
    "\n",
    "returned_df=returned_df_1.append(returned_df_2)\n",
    "del returned_df_1\n",
    "del returned_df_2\n",
    "\n",
    "segment_previous_returned=returned_df['segment'].unique().tolist()\n",
    "\n",
    "gc.collect()"
   ]
  },
  {
   "cell_type": "code",
   "execution_count": 4,
   "metadata": {},
   "outputs": [
    {
     "data": {
      "text/plain": [
       "['/home/jian/celery/Append_to_celery_LiveRamp/monthly_update/output_2018-12-29/NewReward_2018-12-29_P.csv',\n",
       " '/home/jian/celery/Append_to_celery_LiveRamp/monthly_update/output_2018-12-29/NewReward_2018-12-29_S.csv',\n",
       " '/home/jian/celery/Append_to_celery_LiveRamp/monthly_update/output_2018-12-29/NewReward_2018-12-29_T.csv']"
      ]
     },
     "execution_count": 4,
     "metadata": {},
     "output_type": "execute_result"
    }
   ],
   "source": [
    "# Also considered\n",
    "my_Dec_new_signed_up_folder=\"/home/jian/celery/Append_to_celery_LiveRamp/monthly_update/output_2018-12-29/\"\n",
    "my_Dec_new_signed_up_list=[x for x in list(recursive_file_gen(my_Dec_new_signed_up_folder)) if \".csv\" in x]\n",
    "my_Dec_new_signed_up_list\n",
    "\n"
   ]
  },
  {
   "cell_type": "code",
   "execution_count": 5,
   "metadata": {
    "collapsed": true
   },
   "outputs": [],
   "source": [
    "SP_all_after_0922_scoring=\"/home/jian/Projects/Big_Lots/Live_Ramp/Mapping_Files/2018_Q4/New_Segments/\"\n",
    "SP_new_score_list=list(recursive_file_gen(SP_all_after_0922_scoring))\n",
    "# set([x[len(x)-4:] for x in my_Dec_new_signed_up_list])"
   ]
  },
  {
   "cell_type": "code",
   "execution_count": 6,
   "metadata": {},
   "outputs": [
    {
     "data": {
      "text/plain": [
       "92"
      ]
     },
     "execution_count": 6,
     "metadata": {},
     "output_type": "execute_result"
    }
   ],
   "source": [
    "len(set([os.path.basename(x) for x in SP_new_score_list]))"
   ]
  },
  {
   "cell_type": "code",
   "execution_count": 7,
   "metadata": {},
   "outputs": [
    {
     "name": "stdout",
     "output_type": "stream",
     "text": [
      "95\n",
      "95\n",
      "95\n"
     ]
    }
   ],
   "source": [
    "all_file_to_be_loaded=SP_new_score_list+my_Dec_new_signed_up_list # 1229 appended\n",
    "print(len(all_file_to_be_loaded))\n",
    "print(len(set(all_file_to_be_loaded)))\n",
    "print(len(set([os.path.basename(x) for x in all_file_to_be_loaded])))"
   ]
  },
  {
   "cell_type": "code",
   "execution_count": null,
   "metadata": {
    "collapsed": true
   },
   "outputs": [],
   "source": []
  },
  {
   "cell_type": "code",
   "execution_count": 8,
   "metadata": {},
   "outputs": [
    {
     "name": "stdout",
     "output_type": "stream",
     "text": [
      "95\n",
      "95\n",
      "95\n",
      "2 2019-02-28 10:55:24.194774\n",
      "12 2019-02-28 10:55:30.942834\n",
      "Holiday_Shopper_Email_Non_Openers.csv\n",
      "Holiday_Shopper_Email_Openers.csv\n",
      "Holiday_Shopper_Full_File.csv\n",
      "Holiday_Shopper_Purchase_Active.csv\n",
      "Holiday_Shopper_Purchase_Inactive.csv\n",
      "Holiday_Shopper_Toy_Purchase.csv\n",
      "22 2019-02-28 10:55:33.635951\n",
      "32 2019-02-28 10:55:39.114175\n",
      "42 2019-02-28 10:55:41.829515\n",
      "52 2019-02-28 10:56:06.589667\n",
      "62 2019-02-28 10:56:53.513730\n",
      "72 2019-02-28 10:57:14.452643\n",
      "82 2019-02-28 10:57:42.243818\n",
      "92 2019-02-28 10:58:21.630501\n"
     ]
    }
   ],
   "source": [
    "all_file_to_be_loaded=SP_new_score_list+my_Dec_new_signed_up_list # 1229 appended\n",
    "print(len(all_file_to_be_loaded))\n",
    "print(len(set(all_file_to_be_loaded)))\n",
    "print(len(set([os.path.basename(x) for x in all_file_to_be_loaded])))\n",
    "\n",
    "# Load all segment without any drop_dups\n",
    "df_all_new=pd.DataFrame()\n",
    "all_file_to_be_loaded=sorted(all_file_to_be_loaded)\n",
    "i_counter=0\n",
    "\n",
    "for file_path in all_file_to_be_loaded:\n",
    "    if os.path.basename(file_path)==\"BL_lapsed19_48.csv\":\n",
    "        pass\n",
    "    \n",
    "    elif \"Holiday_Shopper_\" in os.path.basename(file_path): # To be appended below\n",
    "        print(os.path.basename(file_path))\n",
    "        pass\n",
    "        \n",
    "    else:\n",
    "        df=pd.read_csv(file_path,dtype=str,usecols=['customer_id_hashed', 'email_address_hash', 'segment'],nrows=samplerows)\n",
    "        # df=df[~df['segment'].isin(segment_previous_returned)]\n",
    "        \n",
    "        df_all_new=df_all_new.append(df)\n",
    "    i_counter+=1\n",
    "    if i_counter%10==2:\n",
    "        print(i_counter,datetime.datetime.now())\n",
    "    "
   ]
  },
  {
   "cell_type": "code",
   "execution_count": 9,
   "metadata": {
    "collapsed": true
   },
   "outputs": [],
   "source": [
    "client_holiday='/home/jian/Projects/Big_Lots/Live_Ramp/Mapping_Files/2018_Q4/New_Segments/upload_holidayshoppers/'\n",
    "client_holiday_list=glob.glob(client_holiday+\"*.csv\")\n",
    "client_holiday_df=pd.DataFrame()\n",
    "\n",
    "for file_holiday in client_holiday_list:\n",
    "    df=pd.read_csv(file_holiday,dtype=str,usecols=['customer_id_hashed', 'email_address_hash','segment'],nrows=samplerows)\n",
    "    client_holiday_df=client_holiday_df.append(df)\n",
    "    \n",
    "# client_holiday_df_dedup=client_holiday_df.drop_duplicates('email_address_hash')\n",
    "# client_holiday_df_dedup['segment']=\"Client_Holiday_Dedup\""
   ]
  },
  {
   "cell_type": "code",
   "execution_count": 10,
   "metadata": {},
   "outputs": [
    {
     "data": {
      "text/html": [
       "<div>\n",
       "<style>\n",
       "    .dataframe thead tr:only-child th {\n",
       "        text-align: right;\n",
       "    }\n",
       "\n",
       "    .dataframe thead th {\n",
       "        text-align: left;\n",
       "    }\n",
       "\n",
       "    .dataframe tbody tr th {\n",
       "        vertical-align: top;\n",
       "    }\n",
       "</style>\n",
       "<table border=\"1\" class=\"dataframe\">\n",
       "  <thead>\n",
       "    <tr style=\"text-align: right;\">\n",
       "      <th></th>\n",
       "      <th>customer_id_hashed</th>\n",
       "      <th>email_address_hash</th>\n",
       "      <th>segment</th>\n",
       "    </tr>\n",
       "  </thead>\n",
       "  <tbody>\n",
       "    <tr>\n",
       "      <th>0</th>\n",
       "      <td>73ffdaf7a7c7cc4be0351d7201c4444b745d1e0035a95f...</td>\n",
       "      <td>a909de3c3feee405ec29c9bd9e603d1220b88e64f625fc...</td>\n",
       "      <td>10.5 SOTF Cleveland</td>\n",
       "    </tr>\n",
       "    <tr>\n",
       "      <th>1</th>\n",
       "      <td>3adc60d511958bae1243d4f665ce763238fff72ac6a365...</td>\n",
       "      <td>abe5868177f707194a338dd98e4fd81306c087e3f8c5bd...</td>\n",
       "      <td>10.5 SOTF Cleveland</td>\n",
       "    </tr>\n",
       "  </tbody>\n",
       "</table>\n",
       "</div>"
      ],
      "text/plain": [
       "                                  customer_id_hashed  \\\n",
       "0  73ffdaf7a7c7cc4be0351d7201c4444b745d1e0035a95f...   \n",
       "1  3adc60d511958bae1243d4f665ce763238fff72ac6a365...   \n",
       "\n",
       "                                  email_address_hash              segment  \n",
       "0  a909de3c3feee405ec29c9bd9e603d1220b88e64f625fc...  10.5 SOTF Cleveland  \n",
       "1  abe5868177f707194a338dd98e4fd81306c087e3f8c5bd...  10.5 SOTF Cleveland  "
      ]
     },
     "execution_count": 10,
     "metadata": {},
     "output_type": "execute_result"
    }
   ],
   "source": [
    "df_all_new=df_all_new.append(client_holiday_df)\n",
    "df_all_new.head(2)\n"
   ]
  },
  {
   "cell_type": "code",
   "execution_count": 11,
   "metadata": {},
   "outputs": [
    {
     "data": {
      "text/plain": [
       "'\\nlapsed_raw=pd.read_table(\"/home/jian/Projects/Big_Lots/Loyal_members/loyalty_register_data/MediaStorm_Lapsed_Reward_Member_Master_from2014-08-26to2017-02-26.zip\"\\n                         ,nrows=None,sep=\"|\",dtype=str,usecols=[\\'customer_id_hashed\\',\\'email_address_hash\\'])\\nlapsed_raw[\\'segment\\']=\"Lapsed_20140826_20170226\"\\nprint(len(lapsed_raw.index))\\nlapsed_raw=lapsed_raw.drop_duplicates([\\'email_address_hash\\'])\\nprint(len(lapsed_raw.index))\\n\\ndf_all_new=df_all_new.append(lapsed_raw)\\n\\nprint(df_all_new.shape)\\nprint(len(df_all_new[\\'email_address_hash\\'].unique()))\\n'"
      ]
     },
     "execution_count": 11,
     "metadata": {},
     "output_type": "execute_result"
    }
   ],
   "source": [
    "'''\n",
    "lapsed_raw=pd.read_table(\"/home/jian/Projects/Big_Lots/Loyal_members/loyalty_register_data/MediaStorm_Lapsed_Reward_Member_Master_from2014-08-26to2017-02-26.zip\"\n",
    "                         ,nrows=None,sep=\"|\",dtype=str,usecols=['customer_id_hashed','email_address_hash'])\n",
    "lapsed_raw['segment']=\"Lapsed_20140826_20170226\"\n",
    "print(len(lapsed_raw.index))\n",
    "lapsed_raw=lapsed_raw.drop_duplicates(['email_address_hash'])\n",
    "print(len(lapsed_raw.index))\n",
    "\n",
    "df_all_new=df_all_new.append(lapsed_raw)\n",
    "\n",
    "print(df_all_new.shape)\n",
    "print(len(df_all_new['email_address_hash'].unique()))\n",
    "'''"
   ]
  },
  {
   "cell_type": "code",
   "execution_count": 12,
   "metadata": {},
   "outputs": [
    {
     "name": "stdout",
     "output_type": "stream",
     "text": [
      "(27288695, 3)\n",
      "23024699\n"
     ]
    }
   ],
   "source": [
    "# df_all_new=df_all_new[~df_all_new['segment'].isin(segment_previous_returned)]\n",
    "df_all_new=df_all_new.drop_duplicates()\n",
    "print(df_all_new.shape)\n",
    "print(len(df_all_new['email_address_hash'].unique()))"
   ]
  },
  {
   "cell_type": "code",
   "execution_count": 13,
   "metadata": {},
   "outputs": [
    {
     "data": {
      "text/plain": [
       "(499880, 4)"
      ]
     },
     "execution_count": 13,
     "metadata": {},
     "output_type": "execute_result"
    }
   ],
   "source": [
    "df_all_new['segment_first_2_chars']=df_all_new['segment'].apply(lambda x: x[:2])\n",
    "control_groups=df_all_new[df_all_new['segment_first_2_chars']==\"C_\"]\n",
    "other_groups=df_all_new[df_all_new['segment_first_2_chars']!=\"C_\"]\n",
    "\n",
    "control_groups.shape"
   ]
  },
  {
   "cell_type": "code",
   "execution_count": 14,
   "metadata": {
    "collapsed": true
   },
   "outputs": [],
   "source": [
    "del control_groups['segment_first_2_chars']\n",
    "del df_all_new['segment_first_2_chars']\n",
    "del other_groups['segment_first_2_chars']"
   ]
  },
  {
   "cell_type": "code",
   "execution_count": 15,
   "metadata": {},
   "outputs": [
    {
     "data": {
      "text/plain": [
       "'/home/jian/Projects/Big_Lots/Live_Ramp/Mapping_Files/2018_Q4'"
      ]
     },
     "execution_count": 15,
     "metadata": {},
     "output_type": "execute_result"
    }
   ],
   "source": [
    "os.getcwd()"
   ]
  },
  {
   "cell_type": "code",
   "execution_count": 16,
   "metadata": {
    "collapsed": true
   },
   "outputs": [],
   "source": [
    "df_all_new.to_csv('/home/jian/Projects/Big_Lots/Live_Ramp/Mapping_Files/2018_Q4/all_SP_segments.csv',index=False)\n",
    "control_groups.to_csv('/home/jian/Projects/Big_Lots/Live_Ramp/Mapping_Files/2018_Q4/all_control_segments.csv',index=False)\n",
    "other_groups.to_csv('/home/jian/Projects/Big_Lots/Live_Ramp/Mapping_Files/2018_Q4/all_other_segments.csv',index=False)\n"
   ]
  },
  {
   "cell_type": "code",
   "execution_count": 17,
   "metadata": {},
   "outputs": [
    {
     "name": "stdout",
     "output_type": "stream",
     "text": [
      "(444432, 3)\n",
      "(444430, 3)\n"
     ]
    }
   ],
   "source": [
    "df_1_control_groups=control_groups[~control_groups['customer_id_hashed'].isin(other_groups['customer_id_hashed'].tolist())]\n",
    "print(df_1_control_groups.shape)\n",
    "\n",
    "df_1_control_groups=df_1_control_groups[~df_1_control_groups['email_address_hash'].isin(other_groups['email_address_hash'].tolist())]\n",
    "print(df_1_control_groups.shape)\n",
    "\n"
   ]
  },
  {
   "cell_type": "code",
   "execution_count": null,
   "metadata": {
    "collapsed": true
   },
   "outputs": [],
   "source": []
  }
 ],
 "metadata": {
  "kernelspec": {
   "display_name": "Python 3",
   "language": "python",
   "name": "python3"
  },
  "language_info": {
   "codemirror_mode": {
    "name": "ipython",
    "version": 3
   },
   "file_extension": ".py",
   "mimetype": "text/x-python",
   "name": "python",
   "nbconvert_exporter": "python",
   "pygments_lexer": "ipython3",
   "version": "3.6.1"
  }
 },
 "nbformat": 4,
 "nbformat_minor": 2
}
