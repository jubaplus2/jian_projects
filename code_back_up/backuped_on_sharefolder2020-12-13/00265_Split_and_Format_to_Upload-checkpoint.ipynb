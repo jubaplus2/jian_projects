{
 "cells": [
  {
   "cell_type": "code",
   "execution_count": 1,
   "metadata": {},
   "outputs": [],
   "source": [
    "import pandas as pd\n",
    "import glob\n",
    "import datetime\n",
    "import random\n",
    "import os\n",
    "import numpy as np"
   ]
  },
  {
   "cell_type": "code",
   "execution_count": 2,
   "metadata": {},
   "outputs": [
    {
     "name": "stdout",
     "output_type": "stream",
     "text": [
      "(29005404, 4) 29005404 29005404\n"
     ]
    }
   ],
   "source": [
    "df_all=pd.read_csv(\"./output_2020-10-08/df_output.csv\",usecols=['customer_id_hashed','email_address_hash','segment_2020Q4_Refresh'])\n",
    "df_all['segment_2020Q4_Refresh']=df_all['segment_2020Q4_Refresh'].replace(\"Unknown_NoPurchase_Unknown_T\",\"SignUpNoPurchase_2_12\")\n",
    "df_all['Destination']=np.where(df_all['segment_2020Q4_Refresh'].str[-2:]==\"_T\",\"FBAppOnly\",\"LR_and_FBApp\")\n",
    "\n",
    "print(df_all.shape,df_all['customer_id_hashed'].nunique(),df_all['email_address_hash'].nunique())"
   ]
  },
  {
   "cell_type": "code",
   "execution_count": 3,
   "metadata": {},
   "outputs": [
    {
     "data": {
      "text/html": [
       "<div>\n",
       "<style scoped>\n",
       "    .dataframe tbody tr th:only-of-type {\n",
       "        vertical-align: middle;\n",
       "    }\n",
       "\n",
       "    .dataframe tbody tr th {\n",
       "        vertical-align: top;\n",
       "    }\n",
       "\n",
       "    .dataframe thead th {\n",
       "        text-align: right;\n",
       "    }\n",
       "</style>\n",
       "<table border=\"1\" class=\"dataframe\">\n",
       "  <thead>\n",
       "    <tr style=\"text-align: right;\">\n",
       "      <th></th>\n",
       "      <th>customer_id_hashed</th>\n",
       "      <th>email_address_hash</th>\n",
       "      <th>segment_2020Q4_Refresh</th>\n",
       "      <th>Destination</th>\n",
       "      <th>T/C</th>\n",
       "      <th>updated_segment_2020Q4_Refresh</th>\n",
       "    </tr>\n",
       "  </thead>\n",
       "  <tbody>\n",
       "    <tr>\n",
       "      <th>0</th>\n",
       "      <td>b78dccfd64ce659af7061c5743b6b9305814336bc9ddec...</td>\n",
       "      <td>4836bfc632a2a5987d47fa6bf0637c21c4466a0e99ddee...</td>\n",
       "      <td>Legacy_Active0X_H_PS</td>\n",
       "      <td>LR_and_FBApp</td>\n",
       "      <td>T</td>\n",
       "      <td>T_Legacy_Active0X_H_PS</td>\n",
       "    </tr>\n",
       "    <tr>\n",
       "      <th>1</th>\n",
       "      <td>681869d76dbbf47685b2e2b2c247064ae83194cc5c5f80...</td>\n",
       "      <td>e12683b2ec8b57ddab043609795d36246df869be353af7...</td>\n",
       "      <td>Legacy_Active0X_H_PS</td>\n",
       "      <td>LR_and_FBApp</td>\n",
       "      <td>T</td>\n",
       "      <td>T_Legacy_Active0X_H_PS</td>\n",
       "    </tr>\n",
       "  </tbody>\n",
       "</table>\n",
       "</div>"
      ],
      "text/plain": [
       "                                  customer_id_hashed  \\\n",
       "0  b78dccfd64ce659af7061c5743b6b9305814336bc9ddec...   \n",
       "1  681869d76dbbf47685b2e2b2c247064ae83194cc5c5f80...   \n",
       "\n",
       "                                  email_address_hash segment_2020Q4_Refresh  \\\n",
       "0  4836bfc632a2a5987d47fa6bf0637c21c4466a0e99ddee...   Legacy_Active0X_H_PS   \n",
       "1  e12683b2ec8b57ddab043609795d36246df869be353af7...   Legacy_Active0X_H_PS   \n",
       "\n",
       "    Destination T/C updated_segment_2020Q4_Refresh  \n",
       "0  LR_and_FBApp   T         T_Legacy_Active0X_H_PS  \n",
       "1  LR_and_FBApp   T         T_Legacy_Active0X_H_PS  "
      ]
     },
     "execution_count": 3,
     "metadata": {},
     "output_type": "execute_result"
    }
   ],
   "source": [
    "df_split=pd.DataFrame()\n",
    "control_pctg=0.02\n",
    "for seg, df_group in df_all.groupby(\"segment_2020Q4_Refresh\"):\n",
    "    total_len=len(df_group)\n",
    "    df_group=df_group.reset_index()\n",
    "    del df_group['index']\n",
    "    df_group=df_group.reset_index()\n",
    "    \n",
    "    list_C=random.sample(range(total_len),int(np.ceil(total_len*control_pctg)))\n",
    "    df_group['T/C']=np.where(df_group['index'].isin(list_C),\"C\",\"T\")\n",
    "    df_group['updated_segment_2020Q4_Refresh']=np.where(df_group['index'].isin(list_C),\"Control_segment_2020Q4\",\"T_\"+df_group['segment_2020Q4_Refresh'])\n",
    "    df_split=df_split.append(df_group)\n",
    "    \n",
    "    \n",
    "del df_split['index']\n",
    "df_split=df_split.reset_index()\n",
    "del df_split['index']\n",
    "df_split.head(2)"
   ]
  },
  {
   "cell_type": "code",
   "execution_count": 4,
   "metadata": {},
   "outputs": [],
   "source": [
    "df_summary=df_split.groupby([\"segment_2020Q4_Refresh\",\"T/C\",'Destination'])['email_address_hash'].count().to_frame().reset_index()\n",
    "df_summary=df_summary.pivot_table(index=[\"segment_2020Q4_Refresh\",'Destination'],columns=\"T/C\",values=\"email_address_hash\")\n",
    "df_summary['C_pctg']=df_summary['C']/(df_summary['C']+df_summary['T'])\n",
    "df_summary=df_summary.reset_index()\n",
    "df_summary.columns=['segment','Destination','C','T','c_pctg']\n"
   ]
  },
  {
   "cell_type": "code",
   "execution_count": 5,
   "metadata": {},
   "outputs": [
    {
     "data": {
      "text/plain": [
       "580124"
      ]
     },
     "execution_count": 5,
     "metadata": {},
     "output_type": "execute_result"
    }
   ],
   "source": [
    "df_summary['C'].sum()"
   ]
  },
  {
   "cell_type": "code",
   "execution_count": 6,
   "metadata": {},
   "outputs": [
    {
     "data": {
      "text/plain": [
       "75622"
      ]
     },
     "execution_count": 6,
     "metadata": {},
     "output_type": "execute_result"
    }
   ],
   "source": [
    "df_summary[df_summary['Destination']==\"FBAppOnly\"]['C'].sum()"
   ]
  },
  {
   "cell_type": "code",
   "execution_count": 7,
   "metadata": {},
   "outputs": [
    {
     "data": {
      "text/plain": [
       "504502"
      ]
     },
     "execution_count": 7,
     "metadata": {},
     "output_type": "execute_result"
    }
   ],
   "source": [
    "df_summary[df_summary['Destination']==\"LR_and_FBApp\"]['C'].sum()"
   ]
  },
  {
   "cell_type": "code",
   "execution_count": 8,
   "metadata": {},
   "outputs": [
    {
     "data": {
      "text/plain": [
       "428880"
      ]
     },
     "execution_count": 8,
     "metadata": {},
     "output_type": "execute_result"
    }
   ],
   "source": [
    "df_summary[df_summary['Destination']==\"LR_and_FBApp\"]['C'].sum()-df_summary[df_summary['Destination']==\"FBAppOnly\"]['C'].sum()\n"
   ]
  },
  {
   "cell_type": "code",
   "execution_count": 9,
   "metadata": {},
   "outputs": [
    {
     "data": {
      "text/html": [
       "<div>\n",
       "<style scoped>\n",
       "    .dataframe tbody tr th:only-of-type {\n",
       "        vertical-align: middle;\n",
       "    }\n",
       "\n",
       "    .dataframe tbody tr th {\n",
       "        vertical-align: top;\n",
       "    }\n",
       "\n",
       "    .dataframe thead th {\n",
       "        text-align: right;\n",
       "    }\n",
       "</style>\n",
       "<table border=\"1\" class=\"dataframe\">\n",
       "  <thead>\n",
       "    <tr style=\"text-align: right;\">\n",
       "      <th></th>\n",
       "      <th>segment</th>\n",
       "      <th>Destination</th>\n",
       "      <th>C</th>\n",
       "      <th>T</th>\n",
       "      <th>c_pctg</th>\n",
       "    </tr>\n",
       "  </thead>\n",
       "  <tbody>\n",
       "    <tr>\n",
       "      <th>0</th>\n",
       "      <td>Legacy_Active0X_H_PS</td>\n",
       "      <td>LR_and_FBApp</td>\n",
       "      <td>95890</td>\n",
       "      <td>4698600</td>\n",
       "      <td>0.02</td>\n",
       "    </tr>\n",
       "    <tr>\n",
       "      <th>1</th>\n",
       "      <td>Legacy_Active0X_H_T</td>\n",
       "      <td>FBAppOnly</td>\n",
       "      <td>14738</td>\n",
       "      <td>722144</td>\n",
       "      <td>0.02</td>\n",
       "    </tr>\n",
       "  </tbody>\n",
       "</table>\n",
       "</div>"
      ],
      "text/plain": [
       "                segment   Destination      C        T  c_pctg\n",
       "0  Legacy_Active0X_H_PS  LR_and_FBApp  95890  4698600    0.02\n",
       "1   Legacy_Active0X_H_T     FBAppOnly  14738   722144    0.02"
      ]
     },
     "execution_count": 9,
     "metadata": {},
     "output_type": "execute_result"
    }
   ],
   "source": [
    "df_split.to_csv(\"./df_split_JL_%s.csv\"%str(datetime.datetime.now().date()),index=False)\n",
    "df_summary.to_csv(\"./BL_2020Q4_summary_JL_%s.csv\"%str(datetime.datetime.now().date()),index=False)\n",
    "\n",
    "df_summary.head(2)"
   ]
  },
  {
   "cell_type": "code",
   "execution_count": 4,
   "metadata": {},
   "outputs": [],
   "source": [
    "output_folder_LR=\"./uploaded_file_LR/\"\n",
    "output_folder_FB=\"./uploaded_file_FB/\"\n",
    "\n",
    "try:\n",
    "    os.stat(output_folder_LR)\n",
    "except:\n",
    "    os.mkdir(output_folder_LR)\n",
    "\n",
    "try:\n",
    "    os.stat(output_folder_FB)\n",
    "except:\n",
    "    os.mkdir(output_folder_FB)\n",
    "    "
   ]
  },
  {
   "cell_type": "code",
   "execution_count": 5,
   "metadata": {},
   "outputs": [
    {
     "name": "stderr",
     "output_type": "stream",
     "text": [
      "/home/jian/.local/lib/python3.6/site-packages/ipykernel_launcher.py:2: SettingWithCopyWarning: \n",
      "A value is trying to be set on a copy of a slice from a DataFrame.\n",
      "Try using .loc[row_indexer,col_indexer] = value instead\n",
      "\n",
      "See the caveats in the documentation: http://pandas.pydata.org/pandas-docs/stable/user_guide/indexing.html#returning-a-view-versus-a-copy\n",
      "  \n"
     ]
    },
    {
     "data": {
      "text/plain": [
       "(25224618, 3)"
      ]
     },
     "execution_count": 5,
     "metadata": {},
     "output_type": "execute_result"
    }
   ],
   "source": [
    "df_output_LR=df_split[df_split['Destination']==\"LR_and_FBApp\"]\n",
    "df_output_LR=df_output_LR[['customer_id_hashed','email_address_hash','updated_segment_2020Q4_Refresh']]\n",
    "df_output_LR.shape"
   ]
  },
  {
   "cell_type": "code",
   "execution_count": 6,
   "metadata": {},
   "outputs": [],
   "source": [
    "df_output_LR.to_csv(output_folder_LR+\"BL_2020Q4_audience_Refreshable_JL_%s.csv\"%str(datetime.datetime.now().date()),index=False)\n"
   ]
  },
  {
   "cell_type": "code",
   "execution_count": null,
   "metadata": {},
   "outputs": [],
   "source": []
  },
  {
   "cell_type": "code",
   "execution_count": 13,
   "metadata": {},
   "outputs": [],
   "source": [
    "output_folder_FB_inner=output_folder_FB+\"output_%s/\"%str(datetime.datetime.now().date())\n",
    "try:\n",
    "    os.stat(output_folder_FB_inner)\n",
    "except:\n",
    "    os.mkdir(output_folder_FB_inner)"
   ]
  },
  {
   "cell_type": "code",
   "execution_count": 14,
   "metadata": {},
   "outputs": [
    {
     "data": {
      "text/html": [
       "<div>\n",
       "<style scoped>\n",
       "    .dataframe tbody tr th:only-of-type {\n",
       "        vertical-align: middle;\n",
       "    }\n",
       "\n",
       "    .dataframe tbody tr th {\n",
       "        vertical-align: top;\n",
       "    }\n",
       "\n",
       "    .dataframe thead th {\n",
       "        text-align: right;\n",
       "    }\n",
       "</style>\n",
       "<table border=\"1\" class=\"dataframe\">\n",
       "  <thead>\n",
       "    <tr style=\"text-align: right;\">\n",
       "      <th></th>\n",
       "      <th>customer_id_hashed</th>\n",
       "      <th>email_address_hash</th>\n",
       "      <th>segment_2020Q4_Refresh</th>\n",
       "      <th>Destination</th>\n",
       "      <th>T/C</th>\n",
       "      <th>updated_segment_2020Q4_Refresh</th>\n",
       "    </tr>\n",
       "  </thead>\n",
       "  <tbody>\n",
       "    <tr>\n",
       "      <th>0</th>\n",
       "      <td>b78dccfd64ce659af7061c5743b6b9305814336bc9ddec...</td>\n",
       "      <td>4836bfc632a2a5987d47fa6bf0637c21c4466a0e99ddee...</td>\n",
       "      <td>Legacy_Active0X_H_PS</td>\n",
       "      <td>LR_and_FBApp</td>\n",
       "      <td>T</td>\n",
       "      <td>T_Legacy_Active0X_H_PS</td>\n",
       "    </tr>\n",
       "    <tr>\n",
       "      <th>1</th>\n",
       "      <td>681869d76dbbf47685b2e2b2c247064ae83194cc5c5f80...</td>\n",
       "      <td>e12683b2ec8b57ddab043609795d36246df869be353af7...</td>\n",
       "      <td>Legacy_Active0X_H_PS</td>\n",
       "      <td>LR_and_FBApp</td>\n",
       "      <td>T</td>\n",
       "      <td>T_Legacy_Active0X_H_PS</td>\n",
       "    </tr>\n",
       "  </tbody>\n",
       "</table>\n",
       "</div>"
      ],
      "text/plain": [
       "                                  customer_id_hashed  \\\n",
       "0  b78dccfd64ce659af7061c5743b6b9305814336bc9ddec...   \n",
       "1  681869d76dbbf47685b2e2b2c247064ae83194cc5c5f80...   \n",
       "\n",
       "                                  email_address_hash segment_2020Q4_Refresh  \\\n",
       "0  4836bfc632a2a5987d47fa6bf0637c21c4466a0e99ddee...   Legacy_Active0X_H_PS   \n",
       "1  e12683b2ec8b57ddab043609795d36246df869be353af7...   Legacy_Active0X_H_PS   \n",
       "\n",
       "    Destination T/C updated_segment_2020Q4_Refresh  \n",
       "0  LR_and_FBApp   T         T_Legacy_Active0X_H_PS  \n",
       "1  LR_and_FBApp   T         T_Legacy_Active0X_H_PS  "
      ]
     },
     "execution_count": 14,
     "metadata": {},
     "output_type": "execute_result"
    }
   ],
   "source": [
    "df_split.head(2)"
   ]
  },
  {
   "cell_type": "code",
   "execution_count": 15,
   "metadata": {},
   "outputs": [
    {
     "name": "stdout",
     "output_type": "stream",
     "text": [
      "Control_segment_2020Q4 580124\n",
      "T_Legacy_Active0X_H 5420744\n",
      "T_Legacy_Active0X_L 583080\n",
      "T_Legacy_Active0X_M 3394596\n",
      "T_Legacy_ActiveX12_L 1623504\n",
      "T_Legacy_ActiveX12_M 693349\n",
      "T_Legacy_Lapsed1318_L 1974357\n",
      "T_Legacy_Lapsed1924_Unknown 1495070\n",
      "T_Legacy_Lapsed2530_Unknown 1415827\n",
      "T_SOTF_Active0X_H 2981465\n",
      "T_SOTF_Active0X_L 313312\n",
      "T_SOTF_Active0X_M 1853523\n",
      "T_SOTF_ActiveX12_L 854682\n",
      "T_SOTF_ActiveX12_M 360186\n",
      "T_SOTF_Lapsed1318_L 952716\n",
      "T_SOTF_Lapsed1924_Unknown 646179\n",
      "T_SOTF_Lapsed2530_Unknown 576620\n",
      "T_SignUpNoPurchase_2_12 3286070\n",
      "total: 29005404\n"
     ]
    }
   ],
   "source": [
    "df_split['agg_seg_regardless_zip']=df_split['updated_segment_2020Q4_Refresh'].apply(lambda x: x.replace(\"_PS\",\"\").replace(\"_T\",\"\"))\n",
    "i_counter=0\n",
    "for seg, group in df_split.groupby(\"agg_seg_regardless_zip\"):\n",
    "    group=group[['customer_id_hashed','email_address_hash','agg_seg_regardless_zip']]\n",
    "    group.to_csv(output_folder_FB_inner+seg+\".csv\",index=False)\n",
    "    print(seg,group.shape[0])\n",
    "    i_counter+=group.shape[0]\n",
    "print(\"total: %d\"%i_counter)\n",
    "    "
   ]
  },
  {
   "cell_type": "code",
   "execution_count": 16,
   "metadata": {},
   "outputs": [
    {
     "name": "stdout",
     "output_type": "stream",
     "text": [
      "2020-10-09 16:12:58.250990\n"
     ]
    }
   ],
   "source": [
    "print(datetime.datetime.now())"
   ]
  },
  {
   "cell_type": "code",
   "execution_count": null,
   "metadata": {},
   "outputs": [],
   "source": []
  }
 ],
 "metadata": {
  "kernelspec": {
   "display_name": "Python 3",
   "language": "python",
   "name": "python3"
  },
  "language_info": {
   "codemirror_mode": {
    "name": "ipython",
    "version": 3
   },
   "file_extension": ".py",
   "mimetype": "text/x-python",
   "name": "python",
   "nbconvert_exporter": "python",
   "pygments_lexer": "ipython3",
   "version": "3.6.1"
  }
 },
 "nbformat": 4,
 "nbformat_minor": 2
}
