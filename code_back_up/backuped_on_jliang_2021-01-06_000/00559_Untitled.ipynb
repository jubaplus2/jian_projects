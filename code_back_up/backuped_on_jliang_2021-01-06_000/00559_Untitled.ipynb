{
 "cells": [
  {
   "cell_type": "code",
   "execution_count": 1,
   "metadata": {},
   "outputs": [],
   "source": [
    "import pandas as pd\n",
    "import numpy as np\n",
    "import datetime\n",
    "import os"
   ]
  },
  {
   "cell_type": "code",
   "execution_count": 2,
   "metadata": {},
   "outputs": [
    {
     "data": {
      "text/plain": [
       "(115612, 13)"
      ]
     },
     "execution_count": 2,
     "metadata": {},
     "output_type": "execute_result"
    }
   ],
   "source": [
    "df_new_sign_up_20200314=pd.read_csv(\"/home/jian/BigLots/2020_by_weeks/MediaStorm_2020-03-14/MediaStormMasterWeekly20200317-112739-745.txt\",\n",
    "                                   dtype=str,sep=\"|\")\n",
    "df_new_sign_up_20200314.shape"
   ]
  },
  {
   "cell_type": "code",
   "execution_count": 3,
   "metadata": {},
   "outputs": [
    {
     "data": {
      "text/html": [
       "<div>\n",
       "<style scoped>\n",
       "    .dataframe tbody tr th:only-of-type {\n",
       "        vertical-align: middle;\n",
       "    }\n",
       "\n",
       "    .dataframe tbody tr th {\n",
       "        vertical-align: top;\n",
       "    }\n",
       "\n",
       "    .dataframe thead th {\n",
       "        text-align: right;\n",
       "    }\n",
       "</style>\n",
       "<table border=\"1\" class=\"dataframe\">\n",
       "  <thead>\n",
       "    <tr style=\"text-align: right;\">\n",
       "      <th></th>\n",
       "      <th>customer_id_hashed</th>\n",
       "      <th>email_address_hash</th>\n",
       "      <th>sign_up_date</th>\n",
       "      <th>sign_up_channel</th>\n",
       "      <th>sign_up_location</th>\n",
       "      <th>customer_zip_code</th>\n",
       "      <th>transaction_count</th>\n",
       "      <th>transaction_amount</th>\n",
       "      <th>experian_multi_cluster</th>\n",
       "      <th>experian_demo_cluster</th>\n",
       "      <th>purchase_channel</th>\n",
       "      <th>email_unsubscribe_indicator</th>\n",
       "      <th>email_undeliverable_indicator</th>\n",
       "    </tr>\n",
       "  </thead>\n",
       "  <tbody>\n",
       "    <tr>\n",
       "      <th>0</th>\n",
       "      <td>4566f5d8a70872c8293384ed5a7a9a8333aa86e592973b...</td>\n",
       "      <td>82abc4ed6676a6bedbe8c6f72a0b4152bbdf5dff77e2e3...</td>\n",
       "      <td>2020-03-10</td>\n",
       "      <td>ONLINE</td>\n",
       "      <td>6990</td>\n",
       "      <td>NaN</td>\n",
       "      <td>000000000000000.</td>\n",
       "      <td>0000000000000000.00</td>\n",
       "      <td>0</td>\n",
       "      <td>0</td>\n",
       "      <td>NONE</td>\n",
       "      <td>N</td>\n",
       "      <td>N</td>\n",
       "    </tr>\n",
       "    <tr>\n",
       "      <th>1</th>\n",
       "      <td>3b8b26a4645b69208f2ad785ae3966ed295695a6eb8e41...</td>\n",
       "      <td>b8915d7e98944691dfc21b3c1c42efd0376afd3c27c063...</td>\n",
       "      <td>2020-03-13</td>\n",
       "      <td>STORE</td>\n",
       "      <td>397</td>\n",
       "      <td>23518</td>\n",
       "      <td>000000000000001.</td>\n",
       "      <td>0000000000000050.98</td>\n",
       "      <td>0</td>\n",
       "      <td>0</td>\n",
       "      <td>STORES</td>\n",
       "      <td>N</td>\n",
       "      <td>N</td>\n",
       "    </tr>\n",
       "  </tbody>\n",
       "</table>\n",
       "</div>"
      ],
      "text/plain": [
       "                                  customer_id_hashed  \\\n",
       "0  4566f5d8a70872c8293384ed5a7a9a8333aa86e592973b...   \n",
       "1  3b8b26a4645b69208f2ad785ae3966ed295695a6eb8e41...   \n",
       "\n",
       "                                  email_address_hash sign_up_date  \\\n",
       "0  82abc4ed6676a6bedbe8c6f72a0b4152bbdf5dff77e2e3...   2020-03-10   \n",
       "1  b8915d7e98944691dfc21b3c1c42efd0376afd3c27c063...   2020-03-13   \n",
       "\n",
       "  sign_up_channel sign_up_location customer_zip_code  transaction_count  \\\n",
       "0          ONLINE             6990               NaN   000000000000000.   \n",
       "1           STORE              397             23518   000000000000001.   \n",
       "\n",
       "     transaction_amount experian_multi_cluster experian_demo_cluster  \\\n",
       "0   0000000000000000.00                      0                     0   \n",
       "1   0000000000000050.98                      0                     0   \n",
       "\n",
       "  purchase_channel email_unsubscribe_indicator email_undeliverable_indicator  \n",
       "0             NONE                           N                             N  \n",
       "1           STORES                           N                             N  "
      ]
     },
     "execution_count": 3,
     "metadata": {},
     "output_type": "execute_result"
    }
   ],
   "source": [
    "df_new_sign_up_20200314.head(2)"
   ]
  },
  {
   "cell_type": "code",
   "execution_count": 4,
   "metadata": {},
   "outputs": [],
   "source": [
    "def recursive_file_gen(my_root_dir):\n",
    "    for root, dirs, files in os.walk(my_root_dir):\n",
    "        for file in files:\n",
    "            yield os.path.join(root, file)"
   ]
  },
  {
   "cell_type": "code",
   "execution_count": 10,
   "metadata": {},
   "outputs": [
    {
     "data": {
      "text/plain": [
       "['/home/jian/BigLots/2020_by_weeks/MediaStorm_2020-03-28/MediaStormDailySales20200331-112303-873.txt',\n",
       " '/home/jian/BigLots/2020_by_weeks/MediaStorm_2020-03-14/MediaStormDailySales20200317-112349-402.txt',\n",
       " '/home/jian/BigLots/2020_by_weeks/MediaStorm_2020-03-21/MediaStormDailySales20200324-112302-496.txt',\n",
       " '/home/jian/BigLots/2020_by_weeks/MediaStorm_2020-04-04/MediaStormDailySales20200407-110641-771.txt',\n",
       " '/home/jian/BigLots/2020_by_weeks/MediaStorm_2020-04-11/MediaStormDailySales20200414-120340-722.txt',\n",
       " '/home/jian/BigLots/2020_by_weeks/MediaStorm_2020-04-18/MediaStormDailySales20200421-111910-356.txt',\n",
       " '/home/jian/BigLots/2020_by_weeks/MediaStorm_2020-04-25/MediaStormDailySales20200428-111922-148.txt',\n",
       " '/home/jian/BigLots/2020_by_weeks/MediaStorm_2020-05-02/MediaStormDailySales20200505-111805-965.txt']"
      ]
     },
     "execution_count": 10,
     "metadata": {},
     "output_type": "execute_result"
    }
   ],
   "source": [
    "list_pos_files=list(recursive_file_gen(\"/home/jian/BigLots/2020_by_weeks/\"))\n",
    "list_pos_files=[x for x in list_pos_files if \"dailysales\" in x.lower()]\n",
    "list_pos_files=[x for x in list_pos_files if x.split(\"/MediaStorm_\")[1][:10]>=\"2020-03-14\"]\n",
    "list_pos_files"
   ]
  },
  {
   "cell_type": "code",
   "execution_count": 14,
   "metadata": {},
   "outputs": [],
   "source": [
    "df_all_sales=pd.DataFrame()\n",
    "for file in list_pos_files:\n",
    "    df=pd.read_csv(file,sep=\"|\",usecols=['customer_id_hashed','transaction_dt','transaction_id','location_id'])\n",
    "    df=df[pd.notnull(df['customer_id_hashed'])]\n",
    "    df=df.sort_values(['customer_id_hashed','transaction_dt','transaction_id','location_id'])\n",
    "    df_all_sales=df_all_sales.append(df)\n",
    "df_all_sales=df_all_sales.drop_duplicates(\"customer_id_hashed\")"
   ]
  },
  {
   "cell_type": "code",
   "execution_count": 20,
   "metadata": {},
   "outputs": [
    {
     "name": "stderr",
     "output_type": "stream",
     "text": [
      "/home/jian/.local/lib/python3.6/site-packages/ipykernel_launcher.py:3: SettingWithCopyWarning: \n",
      "A value is trying to be set on a copy of a slice from a DataFrame.\n",
      "Try using .loc[row_indexer,col_indexer] = value instead\n",
      "\n",
      "See the caveats in the documentation: http://pandas.pydata.org/pandas-docs/stable/user_guide/indexing.html#returning-a-view-versus-a-copy\n",
      "  This is separate from the ipykernel package so we can avoid doing imports until\n"
     ]
    }
   ],
   "source": [
    "df_first_act=df_all_sales[['customer_id_hashed','location_id']]\n",
    "df_first_act.shape,df_first_act['customer_id_hashed'].nunique()\n",
    "df_first_act['activiation_store']=np.where(df_first_act['location_id']==6990,\"Online\",\"Instore\")"
   ]
  },
  {
   "cell_type": "code",
   "execution_count": 21,
   "metadata": {},
   "outputs": [],
   "source": [
    "df_new_sign_up_20200314=pd.merge(df_new_sign_up_20200314,df_first_act,on=\"customer_id_hashed\",how=\"left\")\n",
    "df_new_sign_up_20200314['activiation_store']=df_new_sign_up_20200314['activiation_store'].fillna(\"no_purchase\")"
   ]
  },
  {
   "cell_type": "code",
   "execution_count": 24,
   "metadata": {},
   "outputs": [
    {
     "data": {
      "text/html": [
       "<div>\n",
       "<style scoped>\n",
       "    .dataframe tbody tr th:only-of-type {\n",
       "        vertical-align: middle;\n",
       "    }\n",
       "\n",
       "    .dataframe tbody tr th {\n",
       "        vertical-align: top;\n",
       "    }\n",
       "\n",
       "    .dataframe thead th {\n",
       "        text-align: right;\n",
       "    }\n",
       "</style>\n",
       "<table border=\"1\" class=\"dataframe\">\n",
       "  <thead>\n",
       "    <tr style=\"text-align: right;\">\n",
       "      <th></th>\n",
       "      <th>sign_up_channel</th>\n",
       "      <th>activiation_store</th>\n",
       "      <th>customer_id_hashed</th>\n",
       "    </tr>\n",
       "  </thead>\n",
       "  <tbody>\n",
       "    <tr>\n",
       "      <th>0</th>\n",
       "      <td>ONLINE</td>\n",
       "      <td>Instore</td>\n",
       "      <td>5792</td>\n",
       "    </tr>\n",
       "    <tr>\n",
       "      <th>1</th>\n",
       "      <td>ONLINE</td>\n",
       "      <td>Online</td>\n",
       "      <td>362</td>\n",
       "    </tr>\n",
       "    <tr>\n",
       "      <th>2</th>\n",
       "      <td>ONLINE</td>\n",
       "      <td>no_purchase</td>\n",
       "      <td>35591</td>\n",
       "    </tr>\n",
       "    <tr>\n",
       "      <th>3</th>\n",
       "      <td>STORE</td>\n",
       "      <td>Instore</td>\n",
       "      <td>69671</td>\n",
       "    </tr>\n",
       "    <tr>\n",
       "      <th>4</th>\n",
       "      <td>STORE</td>\n",
       "      <td>Online</td>\n",
       "      <td>20</td>\n",
       "    </tr>\n",
       "    <tr>\n",
       "      <th>5</th>\n",
       "      <td>STORE</td>\n",
       "      <td>no_purchase</td>\n",
       "      <td>4175</td>\n",
       "    </tr>\n",
       "  </tbody>\n",
       "</table>\n",
       "</div>"
      ],
      "text/plain": [
       "  sign_up_channel activiation_store  customer_id_hashed\n",
       "0          ONLINE           Instore                5792\n",
       "1          ONLINE            Online                 362\n",
       "2          ONLINE       no_purchase               35591\n",
       "3           STORE           Instore               69671\n",
       "4           STORE            Online                  20\n",
       "5           STORE       no_purchase                4175"
      ]
     },
     "execution_count": 24,
     "metadata": {},
     "output_type": "execute_result"
    }
   ],
   "source": [
    "df_output=df_new_sign_up_20200314.groupby([\"sign_up_channel\",\"activiation_store\"])['customer_id_hashed'].nunique().to_frame().reset_index()\n",
    "df_output"
   ]
  },
  {
   "cell_type": "code",
   "execution_count": 27,
   "metadata": {},
   "outputs": [
    {
     "data": {
      "text/plain": [
       "69691"
      ]
     },
     "execution_count": 27,
     "metadata": {},
     "output_type": "execute_result"
    }
   ],
   "source": [
    "69671+20"
   ]
  },
  {
   "cell_type": "code",
   "execution_count": null,
   "metadata": {},
   "outputs": [],
   "source": []
  }
 ],
 "metadata": {
  "kernelspec": {
   "display_name": "Python 3",
   "language": "python",
   "name": "python3"
  },
  "language_info": {
   "codemirror_mode": {
    "name": "ipython",
    "version": 3
   },
   "file_extension": ".py",
   "mimetype": "text/x-python",
   "name": "python",
   "nbconvert_exporter": "python",
   "pygments_lexer": "ipython3",
   "version": "3.6.1"
  }
 },
 "nbformat": 4,
 "nbformat_minor": 2
}
