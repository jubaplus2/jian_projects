{
 "cells": [
  {
   "cell_type": "code",
   "execution_count": 1,
   "metadata": {
    "collapsed": true
   },
   "outputs": [],
   "source": [
    "import datetime\n",
    "import os\n",
    "import paramiko\n",
    "import pandas as pd"
   ]
  },
  {
   "cell_type": "code",
   "execution_count": 2,
   "metadata": {
    "collapsed": true
   },
   "outputs": [],
   "source": [
    "def recrusive_file_gen(root_folder):\n",
    "    for root, dirs, files in os.walk(root_folder):\n",
    "        for file in files:\n",
    "            yield os.path.join(root, file)"
   ]
  },
  {
   "cell_type": "code",
   "execution_count": 3,
   "metadata": {
    "collapsed": true
   },
   "outputs": [],
   "source": [
    "remote_server_root=\"/mnt/drv5/saatva/BL_data_for_Circ_analysis/\""
   ]
  },
  {
   "cell_type": "code",
   "execution_count": 4,
   "metadata": {
    "collapsed": true
   },
   "outputs": [],
   "source": [
    "host = \"64.237.51.251\" #hard-coded\n",
    "port = 22\n",
    "transport = paramiko.Transport((host, port))\n",
    "\n",
    "password = \"jian@juba2017\" #hard-coded\n",
    "username = \"jian\" #hard-coded\n",
    "transport.connect(username = username, password = password)\n",
    "sftp = paramiko.SFTPClient.from_transport(transport)\n",
    "\n",
    "\n"
   ]
  },
  {
   "cell_type": "code",
   "execution_count": 6,
   "metadata": {},
   "outputs": [],
   "source": [
    "data_historical=list(recrusive_file_gen(\"/home/jian/BigLots/hist_daily_data_subclasslevel/\"))\n",
    "data_historical=[x for x in data_historical if \".txt\" in x]\n",
    "data_2018_df=pd.DataFrame({\"file_path\":data_historical})\n",
    "\n",
    "data_2018_df['week_end_dt']=data_2018_df['file_path'].apply(lambda x: x.split(\"StormDailySales_week_ending_\")[1][:10])\n",
    "data_2018_df['week_end_dt'].min()\n",
    "data_2018_df=data_2018_df[data_2018_df['week_end_dt']>=\"2017-11-04\"]\n",
    "data_2018_df=data_2018_df[data_2018_df['week_end_dt']<\"2018-01-06\"]"
   ]
  },
  {
   "cell_type": "code",
   "execution_count": 8,
   "metadata": {},
   "outputs": [
    {
     "data": {
      "text/html": [
       "<div>\n",
       "<style>\n",
       "    .dataframe thead tr:only-child th {\n",
       "        text-align: right;\n",
       "    }\n",
       "\n",
       "    .dataframe thead th {\n",
       "        text-align: left;\n",
       "    }\n",
       "\n",
       "    .dataframe tbody tr th {\n",
       "        vertical-align: top;\n",
       "    }\n",
       "</style>\n",
       "<table border=\"1\" class=\"dataframe\">\n",
       "  <thead>\n",
       "    <tr style=\"text-align: right;\">\n",
       "      <th></th>\n",
       "      <th>file_path</th>\n",
       "      <th>week_end_dt</th>\n",
       "    </tr>\n",
       "  </thead>\n",
       "  <tbody>\n",
       "    <tr>\n",
       "      <th>13</th>\n",
       "      <td>/home/jian/BigLots/hist_daily_data_subclasslev...</td>\n",
       "      <td>2017-12-16</td>\n",
       "    </tr>\n",
       "    <tr>\n",
       "      <th>15</th>\n",
       "      <td>/home/jian/BigLots/hist_daily_data_subclasslev...</td>\n",
       "      <td>2017-11-25</td>\n",
       "    </tr>\n",
       "    <tr>\n",
       "      <th>17</th>\n",
       "      <td>/home/jian/BigLots/hist_daily_data_subclasslev...</td>\n",
       "      <td>2017-12-23</td>\n",
       "    </tr>\n",
       "    <tr>\n",
       "      <th>19</th>\n",
       "      <td>/home/jian/BigLots/hist_daily_data_subclasslev...</td>\n",
       "      <td>2017-12-30</td>\n",
       "    </tr>\n",
       "    <tr>\n",
       "      <th>21</th>\n",
       "      <td>/home/jian/BigLots/hist_daily_data_subclasslev...</td>\n",
       "      <td>2017-11-11</td>\n",
       "    </tr>\n",
       "    <tr>\n",
       "      <th>22</th>\n",
       "      <td>/home/jian/BigLots/hist_daily_data_subclasslev...</td>\n",
       "      <td>2017-11-04</td>\n",
       "    </tr>\n",
       "    <tr>\n",
       "      <th>23</th>\n",
       "      <td>/home/jian/BigLots/hist_daily_data_subclasslev...</td>\n",
       "      <td>2017-12-02</td>\n",
       "    </tr>\n",
       "    <tr>\n",
       "      <th>24</th>\n",
       "      <td>/home/jian/BigLots/hist_daily_data_subclasslev...</td>\n",
       "      <td>2017-12-09</td>\n",
       "    </tr>\n",
       "    <tr>\n",
       "      <th>26</th>\n",
       "      <td>/home/jian/BigLots/hist_daily_data_subclasslev...</td>\n",
       "      <td>2017-11-18</td>\n",
       "    </tr>\n",
       "  </tbody>\n",
       "</table>\n",
       "</div>"
      ],
      "text/plain": [
       "                                            file_path week_end_dt\n",
       "13  /home/jian/BigLots/hist_daily_data_subclasslev...  2017-12-16\n",
       "15  /home/jian/BigLots/hist_daily_data_subclasslev...  2017-11-25\n",
       "17  /home/jian/BigLots/hist_daily_data_subclasslev...  2017-12-23\n",
       "19  /home/jian/BigLots/hist_daily_data_subclasslev...  2017-12-30\n",
       "21  /home/jian/BigLots/hist_daily_data_subclasslev...  2017-11-11\n",
       "22  /home/jian/BigLots/hist_daily_data_subclasslev...  2017-11-04\n",
       "23  /home/jian/BigLots/hist_daily_data_subclasslev...  2017-12-02\n",
       "24  /home/jian/BigLots/hist_daily_data_subclasslev...  2017-12-09\n",
       "26  /home/jian/BigLots/hist_daily_data_subclasslev...  2017-11-18"
      ]
     },
     "execution_count": 8,
     "metadata": {},
     "output_type": "execute_result"
    }
   ],
   "source": [
    "data_2018_df"
   ]
  },
  {
   "cell_type": "code",
   "execution_count": 9,
   "metadata": {},
   "outputs": [],
   "source": [
    "for local_path in data_2018_df['file_path'].tolist():\n",
    "    remote_path=\"/mnt/drv5/saatva/BL_data_for_Circ_analysis/SubclassLevel_2018/\"+os.path.basename(local_path)\n",
    "    sftp.put(local_path,remote_path)"
   ]
  },
  {
   "cell_type": "code",
   "execution_count": 10,
   "metadata": {
    "collapsed": true
   },
   "outputs": [],
   "source": [
    "sftp.close()"
   ]
  },
  {
   "cell_type": "code",
   "execution_count": null,
   "metadata": {
    "collapsed": true
   },
   "outputs": [],
   "source": []
  }
 ],
 "metadata": {
  "kernelspec": {
   "display_name": "Python 3",
   "language": "python",
   "name": "python3"
  },
  "language_info": {
   "codemirror_mode": {
    "name": "ipython",
    "version": 3
   },
   "file_extension": ".py",
   "mimetype": "text/x-python",
   "name": "python",
   "nbconvert_exporter": "python",
   "pygments_lexer": "ipython3",
   "version": "3.6.1"
  }
 },
 "nbformat": 4,
 "nbformat_minor": 2
}
