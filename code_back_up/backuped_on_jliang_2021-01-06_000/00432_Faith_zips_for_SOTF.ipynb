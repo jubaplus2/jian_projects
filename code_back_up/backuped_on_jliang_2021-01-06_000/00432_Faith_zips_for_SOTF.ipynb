{
 "cells": [
  {
   "cell_type": "code",
   "execution_count": 14,
   "metadata": {},
   "outputs": [
    {
     "name": "stdout",
     "output_type": "stream",
     "text": [
      "2020-02-18 17:33:33.147518\n"
     ]
    }
   ],
   "source": [
    "# https://docs.google.com/spreadsheets/d/1f_oeipWtjQ39SeAofvMYAiwxDWkztTl5Bb0yjr-lVNM/edit#gid=1174491077\n",
    "# downloaded 20200218 11:25 am\n",
    "# Email: SOTF Zip Code Request, Friday, February 14, 2020 at 11:14 AM\n",
    "\n",
    "import pandas as pd\n",
    "import numpy as np\n",
    "import datetime\n",
    "import os\n",
    "import json\n",
    "from haversine import haversine\n",
    "\n",
    "zip_centers=json.load(open(\"/home/jian/Docs/Geo_mapping/updated_zip_centers_JL_2019-05-23.json\"))\n",
    "\n",
    "print(datetime.datetime.now())"
   ]
  },
  {
   "cell_type": "code",
   "execution_count": 2,
   "metadata": {},
   "outputs": [
    {
     "data": {
      "text/plain": [
       "(256, 11)"
      ]
     },
     "execution_count": 2,
     "metadata": {},
     "output_type": "execute_result"
    }
   ],
   "source": [
    "df_SOTF=pd.read_excel(\"./2020 SOTF Ad & Display Schedules.xlsx\",\n",
    "                      sheet_name=\"2020 SOTF TEXT AD SCHEDULE\",dtype=str,skiprows=1)\n",
    "df_SOTF=df_SOTF.rename(columns={'STORE #':\"location_id\"})\n",
    "df_SOTF.shape\n"
   ]
  },
  {
   "cell_type": "code",
   "execution_count": 3,
   "metadata": {},
   "outputs": [
    {
     "data": {
      "text/plain": [
       "(256, 14)"
      ]
     },
     "execution_count": 3,
     "metadata": {},
     "output_type": "execute_result"
    }
   ],
   "source": [
    "df_store_list=pd.read_table(\"/home/jian/BigLots/static_files/Store_list/MediaStormStores20200201-134613-934.txt\",\n",
    "                           dtype=str,sep=\"|\",usecols=['location_id','zip_cd','latitude_meas','longitude_meas'])\n",
    "df_store_list['zip_cd']=df_store_list['zip_cd'].apply(lambda x: x.split(\"-\")[0].zfill(5))\n",
    "df_store_list['latitude_meas']=df_store_list['latitude_meas'].astype(float)\n",
    "df_store_list['longitude_meas']=df_store_list['longitude_meas'].astype(float)\n",
    "\n",
    "df_store_list=df_store_list[['location_id','zip_cd','latitude_meas','longitude_meas']]\n",
    "df_store_list=df_store_list.rename(columns={\"zip_cd\":\"store_zip\"})\n",
    "\n",
    "df_SOTF=pd.merge(df_SOTF,df_store_list,on=\"location_id\",how=\"left\")\n",
    "df_SOTF.shape"
   ]
  },
  {
   "cell_type": "code",
   "execution_count": 4,
   "metadata": {},
   "outputs": [],
   "source": [
    "df_new_stores=df_SOTF[pd.isnull(df_SOTF['latitude_meas'])]\n",
    "df_new_stores=df_new_stores.sort_values(\"location_id\")"
   ]
  },
  {
   "cell_type": "code",
   "execution_count": 5,
   "metadata": {},
   "outputs": [],
   "source": [
    "list_store_not_found=['4721','5414','5421'] # received in email from Margaret\n",
    "# RE: 2020 SOTF/Grand Openings - Local TV/Radio/Remotes Estimated Cost Request\n",
    "# 20200218 at 12:52 PM\n",
    "\n",
    "dict_new_stores={}\n",
    "\n",
    "# 4710 \t255 WEDDINGTON BRANCH ROAD\tMAGIC MART SC\tPIKEVILLE\tKY\t41501-3205\n",
    "dict_new_stores.update({\"4710\":{\"Google_Address\":\"255 Weddington Branch Rd, Pikeville, KY 41501\",\"Google_Location\":[37.5257758,-82.5685399]}})\n",
    "\n",
    "# 4712 \t2685 HILLTOP DRIVE\tKMART SC\tREDDING EPA ID, BAG BAN\tCA\t96002-1020\n",
    "dict_new_stores.update({\"4712\":{\"Google_Address\":\"2685 Hilltop Dr, Redding, CA 96002\",\"Google_Location\":[40.5684416,-122.357451]}})\n",
    "\n",
    "# 4713 783 DELSEA DRIVE\tCOLLEGETOWN SHOPPING CENTER\tGLASSBORO\tNJ\t08028\n",
    "dict_new_stores.update({\"4713\":{\"Google_Address\":\"731 Delsea Dr, Glassboro, NJ 08028\",\"Google_Location\":[39.72152,-75.116531]}})\n",
    "\n",
    "# 4714 1251 STATE ROUTE 29\tKMART PLAZA\tGREENWICH, BAG BAN\tNY\t12834-6119\n",
    "dict_new_stores.update({\"4714\":{\"Google_Address\":\"1251 NY-29, Greenwich, NY 12834\",\"Google_Location\":[43.0973489,-73.5079692]}})\n",
    "\n",
    "# 4715 4525 N ORACLE ROAD\tTOYS R US CENTER\tTUSCON\tAZ\t85705-1637\n",
    "dict_new_stores.update({\"4715\":{\"Google_Address\":\"4525 N Oracle Rd, Tucson, AZ 85705\",\"Google_Location\":[32.2885652,-110.9800392]}})\n",
    "\n",
    "# 4716 4208 E BLUE GRASS RD\tINDIAN HILLS PLAZA\tMOUNT PLEASANT\tMI\t48858-7966\n",
    "dict_new_stores.update({\"4716\":{\"Google_Address\":\"4208 E Blue Grass Rd, Mt Pleasant, MI 48858\",\"Google_Location\":[43.5739459,-84.7649652]}})\n",
    "\n",
    "# 4717 360 EAST 10TH ST\tGILROY VILLAGE\tGILROY EPA ID, BAG BAN\tCA\t95020-6576\n",
    "dict_new_stores.update({\"4717\":{\"Google_Address\":\"360 E 10th St, Gilroy, CA 95020\",\"Google_Location\":[37.0000558,-121.561048]}})\n",
    "\n",
    "# 4718 1631 WEST CRAIG ROAD\tNORTH MESA PLAZA\tNORTH LAS VEGAS\tNV\t89032\n",
    "dict_new_stores.update({\"4718\":{\"Google_Address\":\"1631 W Craig Rd, North Las Vegas, NV 89030\",\"Google_Location\":[36.2381894,-115.1644729]}})\n",
    "\n",
    "# 4719 3779 ROME ROAD\tPULASKI PLAZA\tPULASKI  BAG BAN\tNY\t13142-2402\n",
    "dict_new_stores.update({\"4719\":{\"Google_Address\":\"3779 NY-13 B, Pulaski, NY 13142\",\"Google_Location\":[43.5551558,-76.1163317]}})\n",
    "\n",
    "# 4720 2700 US HIGHWAY 22\tUNION 22 PLAZA\tUNION\tNJ\t07083-8564\n",
    "dict_new_stores.update({\"4720\":{\"Google_Address\":\"2700 US-22, Union, NJ 07083\",\"Google_Location\":[40.6866464,-74.311087]}})\n",
    "\n",
    "# 4721 400 Main Street, Dennis Port, MA, 02639\n",
    "dict_new_stores.update({\"4721\":{\"Google_Address\":\"400 Main St, Dennis Port, MA 02639\",\"Google_Location\":[41.66689,-70.1329873]}})\n",
    "\n",
    "# 5405 1300 US HIGHWAY 127\tFRANKLIN SQUARE & FRANKLIN WEST SHOPPING CENTER\tFRANKFORT\tKY\t40601-4395\n",
    "dict_new_stores.update({\"5405\":{\"Google_Address\":\"1300 US-127, Frankfort, KY 40601\",\"Google_Location\":[38.166582,-84.8998445]}})\n",
    "\n",
    "# 5412 2120 EAST DOROTHY LANE\tKETTERING TOWN CENTER\tKETTERING\tOH\t45420\n",
    "dict_new_stores.update({\"5412\":{\"Google_Address\":\"2120 E Dorothy Ln, Kettering, OH 45420\",\"Google_Location\":[39.701601,-84.1264112]}})\n",
    "\n",
    "# 5413 340 SEVILLE ST\tKOHLS SC\tFLORENCE\tAL\t35634-1511\n",
    "dict_new_stores.update({\"5413\":{\"Google_Address\":\"350 Seville St, Florence, AL 35630\",\"Google_Location\":[34.8382162,-87.6269289]}})\n",
    "\n",
    "# 5414 4125 Highway 20, Buford, GA, 30518\n",
    "dict_new_stores.update({\"5414\":{\"Google_Address\":\"4125 GA-20, Buford, GA 30518\",\"Google_Location\":[34.0935686,-84.0006123]}})\n",
    "\n",
    "# 5415 7743 SUDLEY ROAD\tSUDLEY TOWNE PLAZA\tMANASSAS\tVA\t20109-2813\n",
    "dict_new_stores.update({\"5415\":{\"Google_Address\":\"7665 Sudley Rd, Manassas, VA 20109\",\"Google_Location\":[38.7900885,-77.5121781]}})\n",
    "\n",
    "# 5417 558 BATTLEFIELD PARKWAY\tFORT OGLETHORPE MARKETPLACE\tFORT OGLERTHORPE\tGA\t30742-3849\n",
    "dict_new_stores.update({\"5417\":{\"Google_Address\":\"558 Battlefield Pkwy, Fort Oglethorpe, GA 30742\",\"Google_Location\":[34.9547068,-85.2557537]}})\n",
    "\n",
    "# 5418 1550 COSHOCTON AVE\tKNOX VILLAGE SQUARE\tMOUNT VERNON\tOH\t43050-1475\n",
    "dict_new_stores.update({\"5418\":{\"Google_Address\":\"1500 Coshocton Ave (US Highway 36, Mt Vernon, OH 43050\",\"Google_Location\":[40.4001295,-82.4460567]}})\n",
    "\n",
    "# 5419 1077 EAST STUART DRIVE SUITE 100\tTWIN COUNTRY PLAZA\tGALAX\tVA\t24333-2638\n",
    "dict_new_stores.update({\"5419\":{\"Google_Address\":\"1077 E Stuart Dr #100, Galax, VA 24333\",\"Google_Location\":[36.6845984,-80.8871837]}})\n",
    "\n",
    "# 5420 4025 POPLAR LEVEL ROAD\tKMART CENTER\tLOUISVILLE\tKY\t40213-1523\n",
    "dict_new_stores.update({\"5420\":{\"Google_Address\":\"4025 Poplar Level Rd, Louisville, KY 40213\",\"Google_Location\":[38.2009162,-85.7071697]}})\n",
    "\n",
    "# 5421 736 Warrenton Road, Fredericksburg, VA, 22406\n",
    "dict_new_stores.update({\"5421\":{\"Google_Address\":\"736 Warrenton Rd, Fredericksburg, VA 22406\",\"Google_Location\":[38.3531101,-77.5043113]}})\n"
   ]
  },
  {
   "cell_type": "code",
   "execution_count": 6,
   "metadata": {},
   "outputs": [
    {
     "name": "stderr",
     "output_type": "stream",
     "text": [
      "/home/jian/.local/lib/python3.6/site-packages/ipykernel_launcher.py:3: SettingWithCopyWarning: \n",
      "A value is trying to be set on a copy of a slice from a DataFrame.\n",
      "Try using .loc[row_indexer,col_indexer] = value instead\n",
      "\n",
      "See the caveats in the documentation: http://pandas.pydata.org/pandas-docs/stable/user_guide/indexing.html#returning-a-view-versus-a-copy\n",
      "  This is separate from the ipykernel package so we can avoid doing imports until\n",
      "/home/jian/.local/lib/python3.6/site-packages/ipykernel_launcher.py:4: SettingWithCopyWarning: \n",
      "A value is trying to be set on a copy of a slice from a DataFrame.\n",
      "Try using .loc[row_indexer,col_indexer] = value instead\n",
      "\n",
      "See the caveats in the documentation: http://pandas.pydata.org/pandas-docs/stable/user_guide/indexing.html#returning-a-view-versus-a-copy\n",
      "  after removing the cwd from sys.path.\n",
      "/home/jian/.local/lib/python3.6/site-packages/ipykernel_launcher.py:5: SettingWithCopyWarning: \n",
      "A value is trying to be set on a copy of a slice from a DataFrame.\n",
      "Try using .loc[row_indexer,col_indexer] = value instead\n",
      "\n",
      "See the caveats in the documentation: http://pandas.pydata.org/pandas-docs/stable/user_guide/indexing.html#returning-a-view-versus-a-copy\n",
      "  \"\"\"\n"
     ]
    }
   ],
   "source": [
    "df_SOTF_existing=df_SOTF[pd.notnull(df_SOTF['latitude_meas'])]\n",
    "df_SOTF_new=df_SOTF[pd.isnull(df_SOTF['latitude_meas'])]\n",
    "df_SOTF_new['store_zip']=df_SOTF_new['location_id'].apply(lambda x: dict_new_stores[x]['Google_Address'][-5:])\n",
    "df_SOTF_new['latitude_meas']=df_SOTF_new['location_id'].apply(lambda x: dict_new_stores[x]['Google_Location'][0])\n",
    "df_SOTF_new['longitude_meas']=df_SOTF_new['location_id'].apply(lambda x: dict_new_stores[x]['Google_Location'][1])\n",
    "\n",
    "df_SOTF=df_SOTF_existing.append(df_SOTF_new)\n",
    "df_SOTF=df_SOTF.sort_values(\"location_id\")"
   ]
  },
  {
   "cell_type": "code",
   "execution_count": 10,
   "metadata": {},
   "outputs": [
    {
     "data": {
      "text/html": [
       "<div>\n",
       "<style scoped>\n",
       "    .dataframe tbody tr th:only-of-type {\n",
       "        vertical-align: middle;\n",
       "    }\n",
       "\n",
       "    .dataframe tbody tr th {\n",
       "        vertical-align: top;\n",
       "    }\n",
       "\n",
       "    .dataframe thead th {\n",
       "        text-align: right;\n",
       "    }\n",
       "</style>\n",
       "<table border=\"1\" class=\"dataframe\">\n",
       "  <thead>\n",
       "    <tr style=\"text-align: right;\">\n",
       "      <th></th>\n",
       "      <th>TA_num</th>\n",
       "      <th>ta_name</th>\n",
       "      <th>location_id</th>\n",
       "      <th>address_line_1</th>\n",
       "      <th>address_line_2</th>\n",
       "      <th>zip_cd</th>\n",
       "      <th>city_nm</th>\n",
       "      <th>state_nm</th>\n",
       "      <th>latitude_meas</th>\n",
       "      <th>longitude_meas</th>\n",
       "      <th>DMA</th>\n",
       "      <th>CTY</th>\n",
       "      <th>all_trans_P_zips</th>\n",
       "      <th>all_trans_S_zips</th>\n",
       "      <th>zips_in_10</th>\n",
       "      <th>trans_P_zips_70_within_TA</th>\n",
       "      <th>trans_S_zips_70_within_TA</th>\n",
       "    </tr>\n",
       "  </thead>\n",
       "  <tbody>\n",
       "    <tr>\n",
       "      <th>0</th>\n",
       "      <td>1</td>\n",
       "      <td>multiple_1</td>\n",
       "      <td>1949</td>\n",
       "      <td>3178 LAVON DR</td>\n",
       "      <td>NaN</td>\n",
       "      <td>75040</td>\n",
       "      <td>GARLAND</td>\n",
       "      <td>TX</td>\n",
       "      <td>32.945015</td>\n",
       "      <td>-96.619194</td>\n",
       "      <td>{'DALLAS-FT. WORTH'}</td>\n",
       "      <td>{'DALLAS'}</td>\n",
       "      <td>['75040', '75044', '75048', '75098']</td>\n",
       "      <td>['75089', '75042', '75043', '75041', '75088', ...</td>\n",
       "      <td>[]</td>\n",
       "      <td>['75040', '75098', '75044', '75048']</td>\n",
       "      <td>['75088', '75042', '75082', '75043', '75089', ...</td>\n",
       "    </tr>\n",
       "    <tr>\n",
       "      <th>1</th>\n",
       "      <td>1</td>\n",
       "      <td>multiple_1</td>\n",
       "      <td>1255</td>\n",
       "      <td>1418 W MOORE AVE</td>\n",
       "      <td>NaN</td>\n",
       "      <td>75160</td>\n",
       "      <td>TERRELL</td>\n",
       "      <td>TX</td>\n",
       "      <td>32.738772</td>\n",
       "      <td>-96.299877</td>\n",
       "      <td>{'DALLAS-FT. WORTH'}</td>\n",
       "      <td>{'HUNT', 'KAUFMAN', 'ROCKWALL'}</td>\n",
       "      <td>['75160', '75126', '75161']</td>\n",
       "      <td>['75142', '75169', '75474', '75143', '75114', ...</td>\n",
       "      <td>[]</td>\n",
       "      <td>['75126', '75161', '75160']</td>\n",
       "      <td>['75142', '75169', '75150', '75117', '75143', ...</td>\n",
       "    </tr>\n",
       "  </tbody>\n",
       "</table>\n",
       "</div>"
      ],
      "text/plain": [
       "  TA_num     ta_name location_id    address_line_1 address_line_2 zip_cd  \\\n",
       "0      1  multiple_1        1949     3178 LAVON DR            NaN  75040   \n",
       "1      1  multiple_1        1255  1418 W MOORE AVE            NaN  75160   \n",
       "\n",
       "   city_nm state_nm latitude_meas longitude_meas                   DMA  \\\n",
       "0  GARLAND       TX     32.945015     -96.619194  {'DALLAS-FT. WORTH'}   \n",
       "1  TERRELL       TX     32.738772     -96.299877  {'DALLAS-FT. WORTH'}   \n",
       "\n",
       "                               CTY                      all_trans_P_zips  \\\n",
       "0                       {'DALLAS'}  ['75040', '75044', '75048', '75098']   \n",
       "1  {'HUNT', 'KAUFMAN', 'ROCKWALL'}           ['75160', '75126', '75161']   \n",
       "\n",
       "                                    all_trans_S_zips zips_in_10  \\\n",
       "0  ['75089', '75042', '75043', '75041', '75088', ...         []   \n",
       "1  ['75142', '75169', '75474', '75143', '75114', ...         []   \n",
       "\n",
       "              trans_P_zips_70_within_TA  \\\n",
       "0  ['75040', '75098', '75044', '75048']   \n",
       "1           ['75126', '75161', '75160']   \n",
       "\n",
       "                           trans_S_zips_70_within_TA  \n",
       "0  ['75088', '75042', '75082', '75043', '75089', ...  \n",
       "1  ['75142', '75169', '75150', '75117', '75143', ...  "
      ]
     },
     "execution_count": 10,
     "metadata": {},
     "output_type": "execute_result"
    }
   ],
   "source": [
    "TA_zips=pd.ExcelFile(\"/home/jian/Projects/Big_Lots/New_TA/TA_created_in_201906/final_output_20190718/BL_final_TA_updated_JL_2019-07-18.xlsx\")\n",
    "TA_zips=TA_zips.parse(\"view_by_store\",dtype=str)\n",
    "TA_zips.head(2)"
   ]
  },
  {
   "cell_type": "code",
   "execution_count": 11,
   "metadata": {},
   "outputs": [],
   "source": [
    "df_temporary=TA_zips[['location_id','trans_P_zips_70_within_TA','trans_S_zips_70_within_TA','zips_in_10']]\n",
    "df_zip_by_store=pd.DataFrame()\n",
    "\n",
    "for ind,row in df_temporary.iterrows():\n",
    "    location_id=row['location_id']\n",
    "    P_zips=eval(row['trans_P_zips_70_within_TA'])\n",
    "    S_zips=eval(row['trans_S_zips_70_within_TA'])\n",
    "    zip_10=eval(row['zips_in_10'])\n",
    "    \n",
    "\n",
    "    df_P=pd.DataFrame(zip([location_id]*len(P_zips),P_zips))\n",
    "    if len(df_P)>0:\n",
    "        df_P.columns=['location_id','zip_cd']\n",
    "        df_P['zip_type']=\"P\"\n",
    "        \n",
    "    df_S=pd.DataFrame(zip([location_id]*len(S_zips),S_zips))\n",
    "    if len(df_S)>0:\n",
    "        df_S.columns=['location_id','zip_cd']\n",
    "        df_S['zip_type']=\"S\"\n",
    "    \n",
    "    df_10=pd.DataFrame(zip([location_id]*len(zip_10),zip_10))\n",
    "    if len(df_10)>0:\n",
    "        df_10.columns=['location_id','zip_cd']\n",
    "        df_10['zip_type']=\"zip_10\"\n",
    "    \n",
    "    df_zip_by_store=df_zip_by_store.append(df_P).append(df_S).append(df_10)"
   ]
  },
  {
   "cell_type": "code",
   "execution_count": 12,
   "metadata": {},
   "outputs": [
    {
     "data": {
      "text/html": [
       "<div>\n",
       "<style scoped>\n",
       "    .dataframe tbody tr th:only-of-type {\n",
       "        vertical-align: middle;\n",
       "    }\n",
       "\n",
       "    .dataframe tbody tr th {\n",
       "        vertical-align: top;\n",
       "    }\n",
       "\n",
       "    .dataframe thead th {\n",
       "        text-align: right;\n",
       "    }\n",
       "</style>\n",
       "<table border=\"1\" class=\"dataframe\">\n",
       "  <thead>\n",
       "    <tr style=\"text-align: right;\">\n",
       "      <th></th>\n",
       "      <th>location_id</th>\n",
       "      <th>GRAND OPENING CITY</th>\n",
       "      <th>STATE</th>\n",
       "      <th>G.O. DATE</th>\n",
       "      <th>PRE-GO ADS START</th>\n",
       "      <th>PRE-GO ADS END</th>\n",
       "      <th>EVENT GO ADS START</th>\n",
       "      <th>EVENT GO ADS END</th>\n",
       "      <th>POST-GO ADS START</th>\n",
       "      <th>POST-GO ADS END</th>\n",
       "      <th>NOTES</th>\n",
       "      <th>store_zip</th>\n",
       "      <th>latitude_meas</th>\n",
       "      <th>longitude_meas</th>\n",
       "      <th>zip_cd</th>\n",
       "      <th>zip_type</th>\n",
       "    </tr>\n",
       "  </thead>\n",
       "  <tbody>\n",
       "    <tr>\n",
       "      <th>0</th>\n",
       "      <td>1003</td>\n",
       "      <td>Cartersville</td>\n",
       "      <td>GA</td>\n",
       "      <td>2020-07-25 00:00:00</td>\n",
       "      <td>2020-06-26 00:00:00</td>\n",
       "      <td>2020-07-19 00:00:00</td>\n",
       "      <td>2020-07-20 00:00:00</td>\n",
       "      <td>2020-07-26 00:00:00</td>\n",
       "      <td>2020-07-27 00:00:00</td>\n",
       "      <td>2020-01-30 00:00:00</td>\n",
       "      <td>ATLANTA GA WAVE 2</td>\n",
       "      <td>30120</td>\n",
       "      <td>34.175447</td>\n",
       "      <td>-84.787971</td>\n",
       "      <td>30120</td>\n",
       "      <td>P</td>\n",
       "    </tr>\n",
       "    <tr>\n",
       "      <th>1</th>\n",
       "      <td>1003</td>\n",
       "      <td>Cartersville</td>\n",
       "      <td>GA</td>\n",
       "      <td>2020-07-25 00:00:00</td>\n",
       "      <td>2020-06-26 00:00:00</td>\n",
       "      <td>2020-07-19 00:00:00</td>\n",
       "      <td>2020-07-20 00:00:00</td>\n",
       "      <td>2020-07-26 00:00:00</td>\n",
       "      <td>2020-07-27 00:00:00</td>\n",
       "      <td>2020-01-30 00:00:00</td>\n",
       "      <td>ATLANTA GA WAVE 2</td>\n",
       "      <td>30120</td>\n",
       "      <td>34.175447</td>\n",
       "      <td>-84.787971</td>\n",
       "      <td>30121</td>\n",
       "      <td>P</td>\n",
       "    </tr>\n",
       "  </tbody>\n",
       "</table>\n",
       "</div>"
      ],
      "text/plain": [
       "  location_id GRAND OPENING CITY STATE            G.O. DATE  \\\n",
       "0        1003       Cartersville    GA  2020-07-25 00:00:00   \n",
       "1        1003       Cartersville    GA  2020-07-25 00:00:00   \n",
       "\n",
       "      PRE-GO ADS START       PRE-GO ADS END   EVENT GO ADS START  \\\n",
       "0  2020-06-26 00:00:00  2020-07-19 00:00:00  2020-07-20 00:00:00   \n",
       "1  2020-06-26 00:00:00  2020-07-19 00:00:00  2020-07-20 00:00:00   \n",
       "\n",
       "      EVENT GO ADS END    POST-GO ADS START      POST-GO ADS END  \\\n",
       "0  2020-07-26 00:00:00  2020-07-27 00:00:00  2020-01-30 00:00:00   \n",
       "1  2020-07-26 00:00:00  2020-07-27 00:00:00  2020-01-30 00:00:00   \n",
       "\n",
       "               NOTES store_zip  latitude_meas  longitude_meas zip_cd zip_type  \n",
       "0  ATLANTA GA WAVE 2     30120      34.175447      -84.787971  30120        P  \n",
       "1  ATLANTA GA WAVE 2     30120      34.175447      -84.787971  30121        P  "
      ]
     },
     "execution_count": 12,
     "metadata": {},
     "output_type": "execute_result"
    }
   ],
   "source": [
    "df_SOTF_output=pd.merge(df_SOTF,df_zip_by_store,on=\"location_id\",how=\"left\")\n",
    "df_SOTF_output.head(2)"
   ]
  },
  {
   "cell_type": "code",
   "execution_count": 13,
   "metadata": {},
   "outputs": [
    {
     "name": "stdout",
     "output_type": "stream",
     "text": [
      "(21, 16)\n"
     ]
    }
   ],
   "source": [
    "df_SOTF_output_2=df_SOTF_output[pd.isnull(df_SOTF_output['zip_cd'])]\n",
    "df_SOTF_output_1=df_SOTF_output[pd.notnull(df_SOTF_output['zip_cd'])]\n",
    "print(df_SOTF_output_2.shape)\n",
    "\n",
    "del df_SOTF_output_2['zip_cd']\n",
    "del df_SOTF_output_2['zip_type']"
   ]
  },
  {
   "cell_type": "code",
   "execution_count": 16,
   "metadata": {},
   "outputs": [],
   "source": [
    "df_10_zips_all_new_stores=pd.DataFrame()\n",
    "for ind, row in df_SOTF_output_2.iterrows():\n",
    "    location_id=row['location_id']\n",
    "    store_location=(row['latitude_meas'],row['longitude_meas'])\n",
    "    for zip_cd,v in zip_centers.items():\n",
    "        dist=haversine(store_location,v,unit=\"mi\")\n",
    "        if dist<=10:\n",
    "            # print(location_id,zip_cd)\n",
    "            df=pd.DataFrame({\"location_id\":[location_id],\"zip_cd\":[zip_cd],\"dist\":[dist]})\n",
    "            df_10_zips_all_new_stores=df_10_zips_all_new_stores.append(df)\n",
    "df_10_zips_all_new_stores['zip_type']=\"zip_10\""
   ]
  },
  {
   "cell_type": "code",
   "execution_count": 19,
   "metadata": {},
   "outputs": [
    {
     "name": "stdout",
     "output_type": "stream",
     "text": [
      "(4405, 16) 256 2884\n"
     ]
    }
   ],
   "source": [
    "df_new_store_zips=df_10_zips_all_new_stores[['location_id','zip_cd','zip_type']]\n",
    "df_SOTF_output_2=pd.merge(df_SOTF_output_2,df_new_store_zips,how=\"left\")\n",
    "df_SOTF_output=df_SOTF_output_1.append(df_SOTF_output_2)\n",
    "print(df_SOTF_output.shape,df_SOTF_output['location_id'].nunique(),df_SOTF_output['zip_cd'].nunique())"
   ]
  },
  {
   "cell_type": "code",
   "execution_count": 30,
   "metadata": {},
   "outputs": [],
   "source": [
    "dict_store_centers=df_SOTF_output[['location_id','latitude_meas','longitude_meas']].drop_duplicates()\n",
    "dict_store_centers['store_centers']=dict_store_centers[['latitude_meas','longitude_meas']].values.tolist()\n",
    "dict_store_centers=dict_store_centers.set_index(\"location_id\").to_dict()['store_centers']"
   ]
  },
  {
   "cell_type": "code",
   "execution_count": 35,
   "metadata": {},
   "outputs": [],
   "source": [
    "df_SOTF_output=df_SOTF_output.reset_index()\n",
    "del df_SOTF_output['index']\n",
    "df_SOTF_output['dist_miles']=np.nan\n",
    "\n",
    "for i, row in df_SOTF_output.iterrows():\n",
    "    store_num=row['location_id']\n",
    "    store_center=dict_store_centers[store_num]\n",
    "    zip_center=zip_centers[row['zip_cd']]\n",
    "    dist=haversine(store_center,zip_center,unit=\"mi\")\n",
    "    df_SOTF_output.loc[i,\"dist_miles\"]=dist\n",
    "    \n",
    "    "
   ]
  },
  {
   "cell_type": "code",
   "execution_count": 41,
   "metadata": {},
   "outputs": [],
   "source": [
    "df_unique_zip=df_SOTF_output[['zip_cd','location_id','dist_miles']]\n",
    "df_unique_zip=df_unique_zip.sort_values(['zip_cd','dist_miles'],ascending=[True,True]).drop_duplicates(\"zip_cd\")\n"
   ]
  },
  {
   "cell_type": "code",
   "execution_count": 44,
   "metadata": {},
   "outputs": [],
   "source": [
    "writer=pd.ExcelWriter(\"./BL_zips_for_256_SOTF_stores_JL_\"+str(datetime.datetime.now().date())+\".xlsx\",engine=\"xlsxwriter\")\n",
    "df_unique_zip.to_excel(writer,\"unique_zips\",index=False)\n",
    "df_SOTF_output.to_excel(writer,\"zips_all_SOTF\",index=False)\n",
    "writer.save()"
   ]
  },
  {
   "cell_type": "code",
   "execution_count": null,
   "metadata": {},
   "outputs": [],
   "source": []
  }
 ],
 "metadata": {
  "kernelspec": {
   "display_name": "Python 3",
   "language": "python",
   "name": "python3"
  },
  "language_info": {
   "codemirror_mode": {
    "name": "ipython",
    "version": 3
   },
   "file_extension": ".py",
   "mimetype": "text/x-python",
   "name": "python",
   "nbconvert_exporter": "python",
   "pygments_lexer": "ipython3",
   "version": "3.6.1"
  }
 },
 "nbformat": 4,
 "nbformat_minor": 2
}
