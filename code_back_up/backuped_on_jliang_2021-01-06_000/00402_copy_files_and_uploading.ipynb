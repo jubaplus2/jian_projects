{
 "cells": [
  {
   "cell_type": "code",
   "execution_count": 25,
   "metadata": {},
   "outputs": [],
   "source": [
    "import pandas as pd\n",
    "import paramiko\n",
    "import random\n",
    "import numpy as np\n",
    "import os\n",
    "import glob\n",
    "import datetime"
   ]
  },
  {
   "cell_type": "code",
   "execution_count": 2,
   "metadata": {},
   "outputs": [],
   "source": [
    "host = \"107.191.32.220\" #hard-coded\n",
    "port = 22\n",
    "transport = paramiko.Transport((host, port))\n",
    "\n",
    "password = \"juba-jl1\" #hard-coded\n",
    "username = \"jian\" #hard-coded\n",
    "transport.connect(username = username, password = password)\n",
    "sftp = paramiko.SFTPClient.from_transport(transport)"
   ]
  },
  {
   "cell_type": "code",
   "execution_count": 3,
   "metadata": {},
   "outputs": [
    {
     "data": {
      "text/plain": [
       "['biglotsvisitor_1201_0315.csv',\n",
       " 'combinedgrocery.csv',\n",
       " 'biglotsvicinity_1201_0315.csv',\n",
       " 'combineddicountstore6.csv']"
      ]
     },
     "execution_count": 3,
     "metadata": {},
     "output_type": "execute_result"
    }
   ],
   "source": [
    "files_folder=\"/mnt/drv5/jian/Big_Lots/Analysis/2020Q1_FB_mobile_test/files_from_SP/\"\n",
    "local_folder=\"./files_from_SP_20200408/\" #MS team\n",
    "try:\n",
    "    os.stat(local_folder)\n",
    "except:\n",
    "    os.mkdir(local_folder)\n",
    "\n",
    "\n",
    "list_remote_base_name=sftp.listdir(files_folder)\n",
    "list_remote_base_name"
   ]
  },
  {
   "cell_type": "code",
   "execution_count": 4,
   "metadata": {},
   "outputs": [],
   "source": [
    "for remote_file_path_bn in list_remote_base_name:\n",
    "    remote_path=files_folder+remote_file_path_bn\n",
    "    local_path=local_folder+remote_file_path_bn\n",
    "    sftp.get(remote_path,local_path)\n",
    "sftp.close()\n",
    "transport.close()"
   ]
  },
  {
   "cell_type": "code",
   "execution_count": 6,
   "metadata": {},
   "outputs": [
    {
     "data": {
      "text/plain": [
       "['./files_from_SP_20200408/biglotsvisitor_1201_0315.csv',\n",
       " './files_from_SP_20200408/combinedgrocery.csv',\n",
       " './files_from_SP_20200408/biglotsvicinity_1201_0315.csv',\n",
       " './files_from_SP_20200408/combineddicountstore6.csv']"
      ]
     },
     "execution_count": 6,
     "metadata": {},
     "output_type": "execute_result"
    }
   ],
   "source": [
    "list_all_4_segs=glob.glob(local_folder+\"*.csv\")\n",
    "list_all_4_segs"
   ]
  },
  {
   "cell_type": "code",
   "execution_count": 35,
   "metadata": {},
   "outputs": [],
   "source": [
    "write_folder=\"./sliced_ids_by_segments/\"\n",
    "\n",
    "try:\n",
    "    os.stat(write_folder)\n",
    "except:\n",
    "    os.mkdir(write_folder)"
   ]
  },
  {
   "cell_type": "code",
   "execution_count": 36,
   "metadata": {},
   "outputs": [
    {
     "name": "stdout",
     "output_type": "stream",
     "text": [
      "seg_1_BL_visitor (2261850, 2)\n",
      "(226185, 2) (1809480, 2) (226185, 2)\n",
      "226185 1809480 226185\n",
      "seg_4_grocery_visitor (3581153, 1)\n",
      "(214869, 2) (716230, 2) (2650054, 2)\n",
      "214869 716230 2650054\n",
      "seg_2_BL_vacinity (9397562, 2)\n",
      "(187951, 2) (939756, 2) (8269855, 2)\n",
      "187951 939756 8269855\n",
      "seg_3_nonfurn_visitor (6952687, 7)\n",
      "(208580, 2) (2433440, 2) (4310667, 2)\n",
      "208580 2433440 4310667\n"
     ]
    }
   ],
   "source": [
    "dict_rename_seg={\"visitor\":\"seg_1_BL_visitor\",\n",
    "                 \"vacinity\":\"seg_2_BL_vacinity\",\n",
    "                 \"combineddicountstore6\":\"seg_3_nonfurn_visitor\",\n",
    "                 \"combinedgrocery\":\"seg_4_grocery_visitor\"}\n",
    "\n",
    "df_dict_control_pctg={\"seg_1_BL_visitor\":0.1,\n",
    "                      \"seg_2_BL_vacinity\":0.02,\n",
    "                      \"seg_3_nonfurn_visitor\":0.03,\n",
    "                      \"seg_4_grocery_visitor\":0.06}\n",
    "\n",
    "df_dict_phase1_pctg={\"seg_1_BL_visitor\":0.8,\n",
    "                      \"seg_2_BL_vacinity\":0.1,\n",
    "                      \"seg_3_nonfurn_visitor\":0.35,\n",
    "                      \"seg_4_grocery_visitor\":0.2}\n",
    "\n",
    "random.seed(0)\n",
    "\n",
    "for file in list_all_4_segs:\n",
    "    df=pd.read_csv(file,dtype=str)\n",
    "    \n",
    "    list_df_cols=df.columns.tolist()\n",
    "    \n",
    "    if 'group' in list_df_cols:\n",
    "        seg_name_sp=df['group'].unique()[0]\n",
    "        seg_name=dict_rename_seg[seg_name_sp]\n",
    "    else:\n",
    "        seg_name_sp=os.path.basename(file).split(\".\")[0]\n",
    "        seg_name=dict_rename_seg[seg_name_sp]\n",
    "        \n",
    "    print(seg_name,df.shape)\n",
    "    \n",
    "    df=df.reset_index()[['index','ad_id']]\n",
    "    len_df_total=len(df)\n",
    "    list_C=random.sample(range(len_df_total),int(len_df_total*df_dict_control_pctg[seg_name]))\n",
    "\n",
    "    df_control=df[df['index'].isin(list_C)]\n",
    "    df_test=df[~df['index'].isin(list_C)]\n",
    "    \n",
    "    del df_test['index']\n",
    "    df_test=df_test.reset_index()\n",
    "    del df_test['index']\n",
    "    df_test=df_test.reset_index()\n",
    "    \n",
    "    len_df_test=len(df_test)\n",
    "    list_phase_1=random.sample(range(len_df_test),int(len_df_total*df_dict_phase1_pctg[seg_name])) # the pctg as the toal\n",
    "\n",
    "    df_Test_phase_1=df_test[df_test['index'].isin(list_phase_1)]\n",
    "    df_Remaining_phase_2=df_test[~df_test['index'].isin(list_phase_1)]\n",
    "    \n",
    "    print(df_control.shape,df_Test_phase_1.shape,df_Remaining_phase_2.shape)\n",
    "    print(df_control['ad_id'].nunique(),df_Test_phase_1['ad_id'].nunique(),df_Remaining_phase_2['ad_id'].nunique())\n",
    "    \n",
    "    df_control.to_csv(write_folder+\"Control_\"+seg_name+\".csv\",index=False)\n",
    "    df_Test_phase_1.to_csv(write_folder+\"Test_Phase1_\"+seg_name+\".csv\",index=False)\n",
    "    df_Remaining_phase_2.to_csv(write_folder+\"Remaing_Phase2\"+seg_name+\".csv\",index=False)\n",
    "    \n",
    "    \n",
    "    "
   ]
  },
  {
   "cell_type": "code",
   "execution_count": 39,
   "metadata": {},
   "outputs": [
    {
     "data": {
      "text/plain": [
       "0.8"
      ]
     },
     "execution_count": 39,
     "metadata": {},
     "output_type": "execute_result"
    }
   ],
   "source": [
    "1809480/2261850"
   ]
  },
  {
   "cell_type": "code",
   "execution_count": 40,
   "metadata": {},
   "outputs": [
    {
     "data": {
      "text/plain": [
       "['./sliced_ids_by_segments/Control_seg_1_BL_visitor.csv',\n",
       " './sliced_ids_by_segments/Control_seg_2_BL_vacinity.csv',\n",
       " './sliced_ids_by_segments/Control_seg_3_nonfurn_visitor.csv',\n",
       " './sliced_ids_by_segments/Control_seg_4_grocery_visitor.csv',\n",
       " './sliced_ids_by_segments/Remaing_Phase2seg_1_BL_visitor.csv',\n",
       " './sliced_ids_by_segments/Remaing_Phase2seg_2_BL_vacinity.csv',\n",
       " './sliced_ids_by_segments/Remaing_Phase2seg_3_nonfurn_visitor.csv',\n",
       " './sliced_ids_by_segments/Remaing_Phase2seg_4_grocery_visitor.csv',\n",
       " './sliced_ids_by_segments/Test_Phase1_seg_1_BL_visitor.csv',\n",
       " './sliced_ids_by_segments/Test_Phase1_seg_2_BL_vacinity.csv',\n",
       " './sliced_ids_by_segments/Test_Phase1_seg_3_nonfurn_visitor.csv',\n",
       " './sliced_ids_by_segments/Test_Phase1_seg_4_grocery_visitor.csv']"
      ]
     },
     "execution_count": 40,
     "metadata": {},
     "output_type": "execute_result"
    }
   ],
   "source": [
    "list_all_seg_sliced_files=glob.glob(write_folder+\"*.csv\")\n",
    "list_all_seg_sliced_files.sort()\n",
    "list_all_seg_sliced_files"
   ]
  },
  {
   "cell_type": "code",
   "execution_count": 41,
   "metadata": {},
   "outputs": [],
   "source": [
    "from facebookads.adobjects.customaudience import CustomAudience\n",
    "from facebookads.adobjects.adaccount import AdAccount\n",
    "from facebookads.api import FacebookAdsApi\n",
    "BigLotsAccount_id=\"act_271491453638620\"\n",
    "\n",
    "# jian_APP_ID=\"2537704939796694\"# jian's fb marketing app id\n",
    "jian_token=\"EAAkEB3l7ONYBAHsJtDc00ZBtZAW2ye9CRdKsy9ivLlzvgIMsEkZAyZA3mRpuGBF8IvZAR9obyYZCdzfw455nzMEW76A5ZBZBS6Fft2nQsUSs8sZCcGDZBZCbVeiCq0LMvekWjnnDZCuglkNihTAZAWIWTpvzaZBeZCKYywrPl0ZAsoWul36cyQZDZD\"\n",
    "\n",
    "\n",
    "\n",
    "def creatfbaudience(AudienceName,AudienceDescription,df,ACCESS_TOKEN,accountid,):\n",
    "    FacebookAdsApi.init(access_token=ACCESS_TOKEN, api_version='v6.0')\n",
    "    myAccount = AdAccount(accountid)\n",
    "    fields = [\n",
    "    ]\n",
    "    params = {\n",
    "      'name': AudienceName,\n",
    "      'subtype': 'CUSTOM',\n",
    "      'description': AudienceDescription,\n",
    "      'customer_file_source': 'PARTNER_PROVIDED_ONLY',\n",
    "    }\n",
    "    fbname = myAccount.create_custom_audience(\n",
    "      fields=fields,\n",
    "      params=params,\n",
    "    )['id']\n",
    "    audience = CustomAudience(fbname)\n",
    "    users = list(df['ad_id'])\n",
    "    listlen = len(users)\n",
    "    chunck_size=50000\n",
    "    count_uploaded=0\n",
    "    for i in range(int(np.ceil(listlen/chunck_size))):\n",
    "        starti = i*50000\n",
    "        if (i+1)*50000<listlen:\n",
    "            endi = (i+1)*50000\n",
    "        else:\n",
    "            endi = listlen\n",
    "        list0 = users[starti:endi]\n",
    "        \n",
    "        count_uploaded+=len(list0)\n",
    "        audience.add_users(CustomAudience.Schema.mobile_advertiser_id, list0)\n",
    "        #print len(list0)   \n",
    "    print(datetime.datetime.now(),AudienceName,\"uploaded\",count_uploaded)"
   ]
  },
  {
   "cell_type": "code",
   "execution_count": 42,
   "metadata": {},
   "outputs": [
    {
     "name": "stdout",
     "output_type": "stream",
     "text": [
      "2020-04-08 20:46:24.102672 Control_seg_1_BL_visitor uploaded 226185\n",
      "2020-04-08 20:46:46.485166 Control_seg_2_BL_vacinity uploaded 187951\n",
      "2020-04-08 20:47:12.338491 Control_seg_3_nonfurn_visitor uploaded 208580\n",
      "2020-04-08 20:47:34.566788 Control_seg_4_grocery_visitor uploaded 214869\n",
      "2020-04-08 20:47:51.714313 Remaing_Phase2seg_1_BL_visitor uploaded 226185\n",
      "2020-04-08 20:57:59.063859 Remaing_Phase2seg_2_BL_vacinity uploaded 8269855\n",
      "2020-04-08 21:03:37.002140 Remaing_Phase2seg_3_nonfurn_visitor uploaded 4310667\n",
      "2020-04-08 21:06:55.851836 Remaing_Phase2seg_4_grocery_visitor uploaded 2650054\n",
      "2020-04-08 21:09:12.648100 Test_Phase1_seg_1_BL_visitor uploaded 1809480\n",
      "2020-04-08 21:10:15.273687 Test_Phase1_seg_2_BL_vacinity uploaded 939756\n",
      "2020-04-08 21:13:47.937036 Test_Phase1_seg_3_nonfurn_visitor uploaded 2433440\n",
      "2020-04-08 21:14:49.077204 Test_Phase1_seg_4_grocery_visitor uploaded 716230\n"
     ]
    }
   ],
   "source": [
    "for file in list_all_seg_sliced_files:\n",
    "    audience_name = os.path.basename(file).split(\".\")[0]\n",
    "    description=os.path.basename(file).split(\".\")[0]+\"_\"+str(datetime.datetime.now().date())\n",
    "    df = pd.read_csv(file,dtype=str)\n",
    "    creatfbaudience(AudienceName=audience_name,\n",
    "                    AudienceDescription=description,\n",
    "                    df=df,\n",
    "                    ACCESS_TOKEN=jian_token,\n",
    "                    accountid=BigLotsAccount_id)"
   ]
  },
  {
   "cell_type": "code",
   "execution_count": null,
   "metadata": {},
   "outputs": [],
   "source": []
  }
 ],
 "metadata": {
  "kernelspec": {
   "display_name": "Python 3",
   "language": "python",
   "name": "python3"
  },
  "language_info": {
   "codemirror_mode": {
    "name": "ipython",
    "version": 3
   },
   "file_extension": ".py",
   "mimetype": "text/x-python",
   "name": "python",
   "nbconvert_exporter": "python",
   "pygments_lexer": "ipython3",
   "version": "3.6.1"
  }
 },
 "nbformat": 4,
 "nbformat_minor": 2
}
