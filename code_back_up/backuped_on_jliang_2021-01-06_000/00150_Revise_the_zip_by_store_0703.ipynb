{
 "cells": [
  {
   "cell_type": "code",
   "execution_count": 1,
   "metadata": {
    "collapsed": true
   },
   "outputs": [],
   "source": [
    "# Remove the unknown zip then create new labels\n",
    "\n",
    "\n",
    "import pandas as pd\n",
    "import numpy as np\n",
    "import os\n",
    "import datetime\n",
    "import gc\n",
    "from haversine import haversine\n",
    "import json\n",
    "os.getcwd()\n",
    "zip_centers=json.load(open(\"/home/jian/Docs/Geo_mapping/updated_zip_centers_JL_2019-05-23.json\",\"r\"))\n",
    "\n",
    "\n",
    "output_folder=\"/home/jian/Projects/Big_Lots/New_TA/TA_created_in_201906/output_\"+str(datetime.datetime.now().date())+\"/\"\n",
    "\n",
    "try:\n",
    "    os.stat(output_folder)\n",
    "except:\n",
    "    os.mkdir(output_folder)"
   ]
  },
  {
   "cell_type": "code",
   "execution_count": 2,
   "metadata": {},
   "outputs": [
    {
     "data": {
      "text/html": [
       "<div>\n",
       "<style>\n",
       "    .dataframe thead tr:only-child th {\n",
       "        text-align: right;\n",
       "    }\n",
       "\n",
       "    .dataframe thead th {\n",
       "        text-align: left;\n",
       "    }\n",
       "\n",
       "    .dataframe tbody tr th {\n",
       "        vertical-align: top;\n",
       "    }\n",
       "</style>\n",
       "<table border=\"1\" class=\"dataframe\">\n",
       "  <thead>\n",
       "    <tr style=\"text-align: right;\">\n",
       "      <th></th>\n",
       "      <th>location_id</th>\n",
       "      <th>customer_zip_code</th>\n",
       "      <th>zip_validation</th>\n",
       "      <th>sales</th>\n",
       "      <th>trans</th>\n",
       "      <th>customer_id_hashed</th>\n",
       "      <th>cum_sales</th>\n",
       "      <th>sales_pctg_cum</th>\n",
       "      <th>revenue_flag</th>\n",
       "      <th>cum_trans</th>\n",
       "      <th>trans_pctg_cum</th>\n",
       "      <th>transactions_flag</th>\n",
       "      <th>transaction_dt_nunique</th>\n",
       "      <th>transaction_dt_max</th>\n",
       "      <th>transaction_dt_min</th>\n",
       "    </tr>\n",
       "  </thead>\n",
       "  <tbody>\n",
       "    <tr>\n",
       "      <th>0</th>\n",
       "      <td>1</td>\n",
       "      <td>43232</td>\n",
       "      <td>Valid_Zip</td>\n",
       "      <td>602768.3400000014</td>\n",
       "      <td>16101.0</td>\n",
       "      <td>3245</td>\n",
       "      <td>602768.3400000014</td>\n",
       "      <td>0.21498328905757522</td>\n",
       "      <td>P</td>\n",
       "      <td>16101.0</td>\n",
       "      <td>0.26084632083724846</td>\n",
       "      <td>P</td>\n",
       "      <td>363</td>\n",
       "      <td>2019-06-22</td>\n",
       "      <td>2018-06-24</td>\n",
       "    </tr>\n",
       "    <tr>\n",
       "      <th>1</th>\n",
       "      <td>1</td>\n",
       "      <td>43207</td>\n",
       "      <td>Valid_Zip</td>\n",
       "      <td>348158.19999999925</td>\n",
       "      <td>6688.0</td>\n",
       "      <td>1798</td>\n",
       "      <td>950926.5400000006</td>\n",
       "      <td>0.339157353920313</td>\n",
       "      <td>P</td>\n",
       "      <td>30159.0</td>\n",
       "      <td>0.4885947574765901</td>\n",
       "      <td>P</td>\n",
       "      <td>363</td>\n",
       "      <td>2019-06-22</td>\n",
       "      <td>2018-06-24</td>\n",
       "    </tr>\n",
       "  </tbody>\n",
       "</table>\n",
       "</div>"
      ],
      "text/plain": [
       "  location_id customer_zip_code zip_validation               sales    trans  \\\n",
       "0           1             43232      Valid_Zip   602768.3400000014  16101.0   \n",
       "1           1             43207      Valid_Zip  348158.19999999925   6688.0   \n",
       "\n",
       "  customer_id_hashed          cum_sales       sales_pctg_cum revenue_flag  \\\n",
       "0               3245  602768.3400000014  0.21498328905757522            P   \n",
       "1               1798  950926.5400000006    0.339157353920313            P   \n",
       "\n",
       "  cum_trans       trans_pctg_cum transactions_flag transaction_dt_nunique  \\\n",
       "0   16101.0  0.26084632083724846                 P                    363   \n",
       "1   30159.0   0.4885947574765901                 P                    363   \n",
       "\n",
       "  transaction_dt_max transaction_dt_min  \n",
       "0         2019-06-22         2018-06-24  \n",
       "1         2019-06-22         2018-06-24  "
      ]
     },
     "execution_count": 2,
     "metadata": {},
     "output_type": "execute_result"
    }
   ],
   "source": [
    "df_previous_zip_by_store=pd.read_csv(\"/home/jian/Projects/Big_Lots/New_TA/TA_created_in_201906/output_by_store_zip_sales_cum_JL_2019-06-27.csv\",dtype=str)\n",
    "df_previous_zip_by_store.head(2)"
   ]
  },
  {
   "cell_type": "code",
   "execution_count": 3,
   "metadata": {
    "collapsed": true
   },
   "outputs": [],
   "source": [
    "df_previous_zip_by_store['transaction_dt_nunique']=df_previous_zip_by_store['transaction_dt_nunique'].astype(int)\n",
    "df_previous_zip_by_store['sales']=df_previous_zip_by_store['sales'].astype(float)\n",
    "df_previous_zip_by_store['trans']=df_previous_zip_by_store['trans'].astype(float)\n",
    "df_previous_zip_by_store['customer_id_hashed']=df_previous_zip_by_store['customer_id_hashed'].astype(int)\n",
    "del df_previous_zip_by_store['cum_sales']\n",
    "del df_previous_zip_by_store['sales_pctg_cum']\n",
    "del df_previous_zip_by_store['cum_trans']\n",
    "del df_previous_zip_by_store['trans_pctg_cum']\n",
    "del df_previous_zip_by_store['revenue_flag']\n",
    "del df_previous_zip_by_store['transactions_flag']\n",
    "\n",
    "df_stores_in_2_months_6990=df_previous_zip_by_store[(df_previous_zip_by_store['transaction_dt_nunique']<=60) | (df_previous_zip_by_store['location_id']==\"6990\")]\n",
    "df_stores_more_than_2_months=df_previous_zip_by_store[(df_previous_zip_by_store['transaction_dt_nunique']>60) & (df_previous_zip_by_store['location_id']!=\"6990\")]\n"
   ]
  },
  {
   "cell_type": "code",
   "execution_count": 4,
   "metadata": {},
   "outputs": [
    {
     "data": {
      "text/plain": [
       "array(['Unknown_Zip'], dtype=object)"
      ]
     },
     "execution_count": 4,
     "metadata": {},
     "output_type": "execute_result"
    }
   ],
   "source": [
    "df_stores_more_than_2_months_valid=df_stores_more_than_2_months[df_stores_more_than_2_months['zip_validation']==\"Valid_Zip\"]\n",
    "df_stores_more_than_2_months_unknown=df_stores_more_than_2_months[df_stores_more_than_2_months['zip_validation']!=\"Valid_Zip\"]\n",
    "\n",
    "df_stores_more_than_2_months_unknown['zip_validation'].unique()\n"
   ]
  },
  {
   "cell_type": "code",
   "execution_count": 5,
   "metadata": {},
   "outputs": [
    {
     "name": "stderr",
     "output_type": "stream",
     "text": [
      "/usr/local/lib/python3.6/site-packages/ipykernel_launcher.py:18: SettingWithCopyWarning: \n",
      "A value is trying to be set on a copy of a slice from a DataFrame.\n",
      "Try using .loc[row_indexer,col_indexer] = value instead\n",
      "\n",
      "See the caveats in the documentation: http://pandas.pydata.org/pandas-docs/stable/indexing.html#indexing-view-versus-copy\n",
      "/usr/local/lib/python3.6/site-packages/ipykernel_launcher.py:32: SettingWithCopyWarning: \n",
      "A value is trying to be set on a copy of a slice from a DataFrame.\n",
      "Try using .loc[row_indexer,col_indexer] = value instead\n",
      "\n",
      "See the caveats in the documentation: http://pandas.pydata.org/pandas-docs/stable/indexing.html#indexing-view-versus-copy\n"
     ]
    }
   ],
   "source": [
    "df_output=pd.DataFrame()\n",
    "\n",
    "for store,df_store in df_stores_more_than_2_months_valid.groupby(\"location_id\"):\n",
    "    total_valid_sales=df_store['sales'].sum()\n",
    "    total_valid_trans=df_store['trans'].sum()\n",
    "    \n",
    "    df_store=df_store.sort_values(\"sales\",ascending=False)\n",
    "    df_store['cumulative_sales']=df_store['sales'].cumsum()\n",
    "    df_store['cumu_pctg_sales']=df_store['cumulative_sales']/total_valid_sales\n",
    "    df_store=df_store.reset_index()\n",
    "    del df_store['index']\n",
    "    \n",
    "    df_store_1st=df_store.iloc[0,].to_frame().T\n",
    "    df_store_1st['revenue_flag']=\"P\"\n",
    "    \n",
    "    df_store_others=df_store.iloc[1:,]\n",
    "    df_store_others['revenue_flag']=np.where(df_store_others['cumu_pctg_sales']>=0.8,\"T\",\n",
    "                                  np.where(df_store_others['cumu_pctg_sales']>=0.6,\"S\",\"P\"))\n",
    "    df_store=df_store_1st.append(df_store_others)\n",
    "    ######### \n",
    "    df_store=df_store.sort_values(\"trans\",ascending=False)\n",
    "    df_store['cumulative_trans']=df_store['trans'].cumsum()\n",
    "    df_store['cumu_pctg_trans']=df_store['cumulative_trans']/total_valid_trans\n",
    "    df_store=df_store.reset_index()\n",
    "    del df_store['index']\n",
    "    \n",
    "    df_store_1st=df_store.iloc[0,].to_frame().T\n",
    "    df_store_1st['trans_flag']=\"P\"\n",
    "    \n",
    "    df_store_others=df_store.iloc[1:,]\n",
    "    df_store_others['trans_flag']=np.where(df_store_others['cumu_pctg_trans']>=0.8,\"T\",\n",
    "                                  np.where(df_store_others['cumu_pctg_trans']>=0.6,\"S\",\"P\"))\n",
    "    df_store=df_store_1st.append(df_store_others)\n",
    "\n",
    "    df_output=df_output.append(df_store)"
   ]
  },
  {
   "cell_type": "code",
   "execution_count": 6,
   "metadata": {},
   "outputs": [
    {
     "data": {
      "text/html": [
       "<div>\n",
       "<style>\n",
       "    .dataframe thead tr:only-child th {\n",
       "        text-align: right;\n",
       "    }\n",
       "\n",
       "    .dataframe thead th {\n",
       "        text-align: left;\n",
       "    }\n",
       "\n",
       "    .dataframe tbody tr th {\n",
       "        vertical-align: top;\n",
       "    }\n",
       "</style>\n",
       "<table border=\"1\" class=\"dataframe\">\n",
       "  <thead>\n",
       "    <tr style=\"text-align: right;\">\n",
       "      <th></th>\n",
       "      <th>revenue_flag</th>\n",
       "      <th>trans_flag</th>\n",
       "      <th>customer_zip_code</th>\n",
       "      <th>sales</th>\n",
       "      <th>trans</th>\n",
       "      <th>customer_id_hashed</th>\n",
       "    </tr>\n",
       "  </thead>\n",
       "  <tbody>\n",
       "    <tr>\n",
       "      <th>0</th>\n",
       "      <td>P</td>\n",
       "      <td>P</td>\n",
       "      <td>4849</td>\n",
       "      <td>1.495196e+09</td>\n",
       "      <td>38638183.0</td>\n",
       "      <td>9127678</td>\n",
       "    </tr>\n",
       "    <tr>\n",
       "      <th>1</th>\n",
       "      <td>P</td>\n",
       "      <td>S</td>\n",
       "      <td>1271</td>\n",
       "      <td>1.385980e+08</td>\n",
       "      <td>3098561.0</td>\n",
       "      <td>910600</td>\n",
       "    </tr>\n",
       "  </tbody>\n",
       "</table>\n",
       "</div>"
      ],
      "text/plain": [
       "  revenue_flag trans_flag  customer_zip_code         sales       trans  \\\n",
       "0            P          P               4849  1.495196e+09  38638183.0   \n",
       "1            P          S               1271  1.385980e+08   3098561.0   \n",
       "\n",
       "   customer_id_hashed  \n",
       "0             9127678  \n",
       "1              910600  "
      ]
     },
     "execution_count": 6,
     "metadata": {},
     "output_type": "execute_result"
    }
   ],
   "source": [
    "func_agg={'customer_zip_code':\"nunique\",'sales':\"sum\",'trans':\"sum\",\"customer_id_hashed\":\"sum\"}\n",
    "\n",
    "df_matrics_data=df_output.groupby(['revenue_flag','trans_flag'])['customer_zip_code','sales','trans','customer_id_hashed'].agg(func_agg).reset_index()\n",
    "df_matrics_data.head(2)"
   ]
  },
  {
   "cell_type": "code",
   "execution_count": 7,
   "metadata": {
    "collapsed": true
   },
   "outputs": [],
   "source": [
    "writer=pd.ExcelWriter(output_folder+\"Excel_BL_new_ta_matrix_JL_\"+str(datetime.datetime.now().date())+\".xlsx\",engine=\"xlsxwriter\")\n"
   ]
  },
  {
   "cell_type": "code",
   "execution_count": 8,
   "metadata": {
    "collapsed": true
   },
   "outputs": [],
   "source": [
    "for col in df_matrics_data.columns.tolist()[2:]:\n",
    "    df=df_matrics_data[['revenue_flag','trans_flag',col]]\n",
    "    globals()[\"df_all_\"+col]=df.pivot(index=\"revenue_flag\",columns=\"trans_flag\",values=col).fillna(0)\n",
    "    globals()[\"df_all_\"+col].to_excel(writer,col)"
   ]
  },
  {
   "cell_type": "code",
   "execution_count": 9,
   "metadata": {
    "collapsed": true
   },
   "outputs": [],
   "source": [
    "df_matrics_data_store=df_output.groupby(['location_id','revenue_flag','trans_flag'])['customer_zip_code','sales','trans','customer_id_hashed'].agg(func_agg).reset_index()\n",
    "\n",
    "\n",
    "for col in df_matrics_data.columns.tolist()[2:]:\n",
    "    globals()['df_every_store_'+col]=pd.DataFrame()\n",
    "    df=df_matrics_data_store[['location_id','revenue_flag','trans_flag',col]]\n",
    "    for store,df_store in df.groupby(\"location_id\"):\n",
    "        del df_store['location_id']\n",
    "        locals()[\"df_store_\"+col]=df_store.pivot(index=\"revenue_flag\",columns=\"trans_flag\",values=col).fillna(0)\n",
    "        locals()[\"df_store_\"+col]['location_id']=store\n",
    "        globals()['df_every_store_'+col]=globals()['df_every_store_'+col].append(locals()[\"df_store_\"+col])\n",
    "    globals()['df_every_store_'+col].to_excel(writer,\"by_store_\"+col)\n",
    "    "
   ]
  },
  {
   "cell_type": "code",
   "execution_count": 10,
   "metadata": {
    "collapsed": true
   },
   "outputs": [],
   "source": [
    "writer.save()"
   ]
  },
  {
   "cell_type": "code",
   "execution_count": 11,
   "metadata": {
    "collapsed": true
   },
   "outputs": [],
   "source": [
    "# df_output.to_csv(output_folder+\"BL_new_ta_by_store_zip_60_days_valid_JL_\"+str(datetime.datetime.now().date())+\".csv\",index=False)\n",
    "df_stores_more_than_2_months_unknown.to_csv(output_folder+\"BL_new_ta_by_store_zip_60_days_unknown_JL_\"+str(datetime.datetime.now().date())+\".csv\",index=False)\n",
    "df_stores_in_2_months_6990.to_csv(output_folder+\"BL_new_ta_by_store_zip_lower60_days_6990_JL_\"+str(datetime.datetime.now().date())+\".csv\",index=False)\n"
   ]
  },
  {
   "cell_type": "code",
   "execution_count": 12,
   "metadata": {
    "collapsed": true
   },
   "outputs": [],
   "source": [
    "df_summary=df_output.groupby(['location_id','revenue_flag','trans_flag','transaction_dt_nunique','transaction_dt_min','transaction_dt_max'])['customer_zip_code'].count().to_frame().reset_index()\n",
    "df_summary.to_csv(output_folder+\"BL_summary_zip_count_JL_\"+str(datetime.datetime.now().date())+\".csv\",index=False)\n",
    "\n"
   ]
  },
  {
   "cell_type": "code",
   "execution_count": 13,
   "metadata": {
    "collapsed": true
   },
   "outputs": [],
   "source": [
    "store_list=pd.read_table(\"/home/jian/BigLots/static_files/Store_list/MediaStormStores20190701-134908-815.txt\",\n",
    "                         dtype=str,sep=\"|\",usecols=['location_id','latitude_meas','longitude_meas'])\n",
    "store_list['latitude_meas']=store_list['latitude_meas'].astype(float)\n",
    "store_list['longitude_meas']=store_list['longitude_meas'].astype(float)\n",
    "df_output=pd.merge(df_output,store_list,on=\"location_id\",how=\"left\")\n",
    "\n",
    "df_output_closed=df_output[pd.isnull(df_output['latitude_meas'])]\n",
    "df_output=df_output[pd.notnull(df_output['latitude_meas'])]\n",
    "df_output.to_csv(output_folder+\"BL_new_ta_by_store_zip_60_days_valid_open_JL_\"+str(datetime.datetime.now().date())+\".csv\",index=False)\n",
    "df_output_closed.to_csv(output_folder+\"BL_new_ta_by_store_zip_60_days_valid_closed_JL_\"+str(datetime.datetime.now().date())+\".csv\",index=False)\n",
    "del df_output_closed\n"
   ]
  },
  {
   "cell_type": "code",
   "execution_count": 14,
   "metadata": {
    "collapsed": true
   },
   "outputs": [],
   "source": [
    "def get_dist_in_df(zip_cd,store_lat,store_long):\n",
    "    try:\n",
    "        dist=haversine(zip_centers[zip_cd],(store_lat,store_long),miles=True)\n",
    "    except:\n",
    "        dist=np.nan\n",
    "    return dist\n",
    "df_output['dist_miles']=df_output.apply(lambda x: get_dist_in_df(x['customer_zip_code'],x['latitude_meas'],x['longitude_meas']),axis=1)\n"
   ]
  },
  {
   "cell_type": "code",
   "execution_count": 15,
   "metadata": {},
   "outputs": [
    {
     "name": "stdout",
     "output_type": "stream",
     "text": [
      "(22209, 18)\n"
     ]
    },
    {
     "data": {
      "text/html": [
       "<div>\n",
       "<style>\n",
       "    .dataframe thead tr:only-child th {\n",
       "        text-align: right;\n",
       "    }\n",
       "\n",
       "    .dataframe thead th {\n",
       "        text-align: left;\n",
       "    }\n",
       "\n",
       "    .dataframe tbody tr th {\n",
       "        vertical-align: top;\n",
       "    }\n",
       "</style>\n",
       "<table border=\"1\" class=\"dataframe\">\n",
       "  <thead>\n",
       "    <tr style=\"text-align: right;\">\n",
       "      <th></th>\n",
       "      <th>location_id</th>\n",
       "      <th>customer_zip_code</th>\n",
       "    </tr>\n",
       "  </thead>\n",
       "  <tbody>\n",
       "    <tr>\n",
       "      <th>605</th>\n",
       "      <td>318</td>\n",
       "      <td>92</td>\n",
       "    </tr>\n",
       "    <tr>\n",
       "      <th>1338</th>\n",
       "      <td>548</td>\n",
       "      <td>91</td>\n",
       "    </tr>\n",
       "    <tr>\n",
       "      <th>1147</th>\n",
       "      <td>5197</td>\n",
       "      <td>91</td>\n",
       "    </tr>\n",
       "    <tr>\n",
       "      <th>1281</th>\n",
       "      <td>5332</td>\n",
       "      <td>80</td>\n",
       "    </tr>\n",
       "    <tr>\n",
       "      <th>907</th>\n",
       "      <td>4566</td>\n",
       "      <td>78</td>\n",
       "    </tr>\n",
       "    <tr>\n",
       "      <th>168</th>\n",
       "      <td>1369</td>\n",
       "      <td>63</td>\n",
       "    </tr>\n",
       "    <tr>\n",
       "      <th>242</th>\n",
       "      <td>1501</td>\n",
       "      <td>61</td>\n",
       "    </tr>\n",
       "    <tr>\n",
       "      <th>407</th>\n",
       "      <td>1789</td>\n",
       "      <td>61</td>\n",
       "    </tr>\n",
       "    <tr>\n",
       "      <th>732</th>\n",
       "      <td>4195</td>\n",
       "      <td>61</td>\n",
       "    </tr>\n",
       "    <tr>\n",
       "      <th>1083</th>\n",
       "      <td>513</td>\n",
       "      <td>60</td>\n",
       "    </tr>\n",
       "  </tbody>\n",
       "</table>\n",
       "</div>"
      ],
      "text/plain": [
       "     location_id  customer_zip_code\n",
       "605          318                 92\n",
       "1338         548                 91\n",
       "1147        5197                 91\n",
       "1281        5332                 80\n",
       "907         4566                 78\n",
       "168         1369                 63\n",
       "242         1501                 61\n",
       "407         1789                 61\n",
       "732         4195                 61\n",
       "1083         513                 60"
      ]
     },
     "execution_count": 15,
     "metadata": {},
     "output_type": "execute_result"
    }
   ],
   "source": [
    "df_output_PS_50_miles=df_output[(df_output['trans_flag'].isin(['P','S'])) &(df_output['dist_miles']<=50)]\n",
    "print(df_output_PS_50_miles.shape)\n",
    "df_output_PS_50_miles.groupby(['location_id'])['customer_zip_code'].count().to_frame().reset_index().sort_values(\"customer_zip_code\",ascending=False).head(10)\n"
   ]
  },
  {
   "cell_type": "code",
   "execution_count": 16,
   "metadata": {},
   "outputs": [
    {
     "data": {
      "text/plain": [
       "49.994776679479415"
      ]
     },
     "execution_count": 16,
     "metadata": {},
     "output_type": "execute_result"
    }
   ],
   "source": [
    "df_output_PS_50_miles['dist_miles'].max()"
   ]
  },
  {
   "cell_type": "code",
   "execution_count": 17,
   "metadata": {},
   "outputs": [
    {
     "data": {
      "text/html": [
       "<div>\n",
       "<style>\n",
       "    .dataframe thead tr:only-child th {\n",
       "        text-align: right;\n",
       "    }\n",
       "\n",
       "    .dataframe thead th {\n",
       "        text-align: left;\n",
       "    }\n",
       "\n",
       "    .dataframe tbody tr th {\n",
       "        vertical-align: top;\n",
       "    }\n",
       "</style>\n",
       "<table border=\"1\" class=\"dataframe\">\n",
       "  <thead>\n",
       "    <tr style=\"text-align: right;\">\n",
       "      <th></th>\n",
       "      <th>location_id</th>\n",
       "      <th>customer_zip_code</th>\n",
       "      <th>zip_validation</th>\n",
       "      <th>sales</th>\n",
       "      <th>trans</th>\n",
       "      <th>customer_id_hashed</th>\n",
       "      <th>transaction_dt_nunique</th>\n",
       "      <th>transaction_dt_max</th>\n",
       "      <th>transaction_dt_min</th>\n",
       "      <th>cumulative_sales</th>\n",
       "      <th>cumu_pctg_sales</th>\n",
       "      <th>revenue_flag</th>\n",
       "      <th>cumulative_trans</th>\n",
       "      <th>cumu_pctg_trans</th>\n",
       "      <th>trans_flag</th>\n",
       "      <th>longitude_meas</th>\n",
       "      <th>latitude_meas</th>\n",
       "      <th>dist_miles</th>\n",
       "    </tr>\n",
       "  </thead>\n",
       "  <tbody>\n",
       "    <tr>\n",
       "      <th>0</th>\n",
       "      <td>1</td>\n",
       "      <td>43232</td>\n",
       "      <td>Valid_Zip</td>\n",
       "      <td>602768</td>\n",
       "      <td>16101</td>\n",
       "      <td>3245</td>\n",
       "      <td>363</td>\n",
       "      <td>2019-06-22</td>\n",
       "      <td>2018-06-24</td>\n",
       "      <td>602768</td>\n",
       "      <td>0.236332</td>\n",
       "      <td>P</td>\n",
       "      <td>16101</td>\n",
       "      <td>0.278853</td>\n",
       "      <td>P</td>\n",
       "      <td>-82.914789</td>\n",
       "      <td>39.913636</td>\n",
       "      <td>2.717654</td>\n",
       "    </tr>\n",
       "    <tr>\n",
       "      <th>1</th>\n",
       "      <td>1</td>\n",
       "      <td>43209</td>\n",
       "      <td>Valid_Zip</td>\n",
       "      <td>270028</td>\n",
       "      <td>7370</td>\n",
       "      <td>1340</td>\n",
       "      <td>363</td>\n",
       "      <td>2019-06-22</td>\n",
       "      <td>2018-06-24</td>\n",
       "      <td>1.22095e+06</td>\n",
       "      <td>0.47871</td>\n",
       "      <td>P</td>\n",
       "      <td>23471</td>\n",
       "      <td>0.406495</td>\n",
       "      <td>P</td>\n",
       "      <td>-82.914789</td>\n",
       "      <td>39.913636</td>\n",
       "      <td>3.095917</td>\n",
       "    </tr>\n",
       "  </tbody>\n",
       "</table>\n",
       "</div>"
      ],
      "text/plain": [
       "  location_id customer_zip_code zip_validation   sales  trans  \\\n",
       "0           1             43232      Valid_Zip  602768  16101   \n",
       "1           1             43209      Valid_Zip  270028   7370   \n",
       "\n",
       "  customer_id_hashed transaction_dt_nunique transaction_dt_max  \\\n",
       "0               3245                    363         2019-06-22   \n",
       "1               1340                    363         2019-06-22   \n",
       "\n",
       "  transaction_dt_min cumulative_sales cumu_pctg_sales revenue_flag  \\\n",
       "0         2018-06-24           602768        0.236332            P   \n",
       "1         2018-06-24      1.22095e+06         0.47871            P   \n",
       "\n",
       "  cumulative_trans cumu_pctg_trans trans_flag  longitude_meas  latitude_meas  \\\n",
       "0            16101        0.278853          P      -82.914789      39.913636   \n",
       "1            23471        0.406495          P      -82.914789      39.913636   \n",
       "\n",
       "   dist_miles  \n",
       "0    2.717654  \n",
       "1    3.095917  "
      ]
     },
     "execution_count": 17,
     "metadata": {},
     "output_type": "execute_result"
    }
   ],
   "source": [
    "df_output_PS_50_miles.head(2)"
   ]
  },
  {
   "cell_type": "markdown",
   "metadata": {},
   "source": [
    "# Detecting overlaps between stores"
   ]
  },
  {
   "cell_type": "code",
   "execution_count": 18,
   "metadata": {
    "collapsed": true
   },
   "outputs": [],
   "source": [
    "df_store_zip_both=df_output_PS_50_miles[['location_id','trans_flag','customer_zip_code','latitude_meas','longitude_meas']].rename(columns={\"customer_zip_code\":\"zip_list_P_and_S\"}).drop_duplicates()\n",
    "df_store_zip_both=df_store_zip_both.groupby([\"location_id\",'latitude_meas','longitude_meas'])['zip_list_P_and_S'].apply(set).to_frame().reset_index()\n",
    "df_store_zip_both['zip_list_P_and_S']=df_store_zip_both['zip_list_P_and_S'].apply(lambda x: list(x))\n",
    "\n",
    "df_store_zip_P=df_output_PS_50_miles[df_output_PS_50_miles['trans_flag']==\"P\"]\n",
    "df_store_zip_P=df_store_zip_P[['location_id','trans_flag','customer_zip_code','latitude_meas','longitude_meas']].rename(columns={\"customer_zip_code\":\"zip_list_P\"}).drop_duplicates()\n",
    "df_store_zip_P=df_store_zip_P.groupby([\"location_id\",'latitude_meas','longitude_meas'])['zip_list_P'].apply(set).to_frame().reset_index()\n",
    "df_store_zip_P['zip_list_P']=df_store_zip_P['zip_list_P'].apply(lambda x: list(x))\n",
    "\n",
    "df_store_zip_S=df_output_PS_50_miles[df_output_PS_50_miles['trans_flag']==\"S\"]\n",
    "df_store_zip_S=df_store_zip_S[['location_id','trans_flag','customer_zip_code','latitude_meas','longitude_meas']].rename(columns={\"customer_zip_code\":\"zip_list_S\"}).drop_duplicates()\n",
    "df_store_zip_S=df_store_zip_S.groupby([\"location_id\",'latitude_meas','longitude_meas'])['zip_list_S'].apply(set).to_frame().reset_index()\n",
    "df_store_zip_S['zip_list_S']=df_store_zip_S['zip_list_S'].apply(lambda x: list(x))\n",
    "\n",
    "df_store_zip=pd.merge(df_store_zip_both,df_store_zip_P,on=[\"location_id\",'latitude_meas','longitude_meas'],how=\"outer\")\n",
    "df_store_zip=pd.merge(df_store_zip,df_store_zip_S,on=[\"location_id\",'latitude_meas','longitude_meas'],how=\"outer\")\n"
   ]
  },
  {
   "cell_type": "code",
   "execution_count": 19,
   "metadata": {},
   "outputs": [
    {
     "data": {
      "text/plain": [
       "105"
      ]
     },
     "execution_count": 19,
     "metadata": {},
     "output_type": "execute_result"
    }
   ],
   "source": [
    "df_store_zip_0=df_store_zip.copy()\n",
    "\n",
    "df_store_zip.columns=[\"store_A_\"+x for x in df_store_zip.columns.tolist()]\n",
    "df_store_zip_0.columns=[\"store_B_\"+x for x in df_store_zip_0.columns.tolist()]\n",
    "\n",
    "df_store_zip['key']=1\n",
    "df_store_zip_0['key']=1\n",
    "\n",
    "df_store_zip=pd.merge(df_store_zip,df_store_zip_0,on=\"key\",how=\"outer\")\n",
    "del df_store_zip_0\n",
    "\n",
    "\n",
    "df_store_zip=df_store_zip[df_store_zip['store_A_location_id']!=df_store_zip['store_B_location_id']]\n",
    "df_store_zip=df_store_zip.reset_index()\n",
    "del df_store_zip['index']\n",
    "del df_store_zip['key']\n",
    "\n",
    "gc.collect()"
   ]
  },
  {
   "cell_type": "code",
   "execution_count": 20,
   "metadata": {
    "collapsed": true
   },
   "outputs": [],
   "source": [
    "def find_intersection(list_1,list_2):\n",
    "    return list(set(list_1).intersection(set(list_2)))\n",
    "def dist_miles(lat_1,log_1,lat_2,log_2):\n",
    "    return haversine((lat_1,log_1),(lat_2,log_2),miles=True)"
   ]
  },
  {
   "cell_type": "code",
   "execution_count": 21,
   "metadata": {
    "collapsed": true
   },
   "outputs": [],
   "source": [
    "df_store_zip['intersection_both_P_S']=df_store_zip.apply(lambda x: find_intersection(x['store_A_zip_list_P_and_S'],x['store_B_zip_list_P_and_S']),axis=1)\n",
    "\n",
    "df_store_zip['count_of_overlap_zips']=df_store_zip['intersection_both_P_S'].apply(lambda x: len(x))\n",
    "df_store_zip['count_of_A_zips']=df_store_zip['store_A_zip_list_P_and_S'].apply(lambda x: len(x))\n",
    "df_store_zip['count_of_B_zips']=df_store_zip['store_B_zip_list_P_and_S'].apply(lambda x: len(x))\n",
    "df_store_zip['total_zips']=df_store_zip['count_of_A_zips']+df_store_zip['count_of_B_zips']-df_store_zip['count_of_overlap_zips']\n",
    "\n",
    "df_store_zip['overlap_pctg']=df_store_zip['count_of_overlap_zips']/df_store_zip['total_zips']\n",
    "df_store_zip=df_store_zip[df_store_zip['count_of_overlap_zips']>0]\n",
    "df_store_zip['dist_between_stores']=df_store_zip.apply(lambda x: dist_miles(x['store_A_latitude_meas'],x['store_A_longitude_meas'],x['store_B_latitude_meas'],x['store_B_longitude_meas']),axis=1)\n",
    "df_store_zip=df_store_zip.reset_index()\n",
    "del df_store_zip['index']"
   ]
  },
  {
   "cell_type": "code",
   "execution_count": 22,
   "metadata": {
    "collapsed": true
   },
   "outputs": [],
   "source": [
    "df_store_zip.to_csv(output_folder+\"BL_zip_overlap_between_stores_JL_\"+str(datetime.datetime.now().date())+\".csv\",index=False)\n"
   ]
  },
  {
   "cell_type": "code",
   "execution_count": 23,
   "metadata": {
    "collapsed": true
   },
   "outputs": [],
   "source": [
    "def store_pair_func(store_A,store_B):\n",
    "    return sorted([store_A,store_B])\n",
    "df_store_zip_unique_pairs=df_store_zip.copy()\n",
    "df_store_zip_unique_pairs['store_pair']=df_store_zip_unique_pairs.apply(lambda x: store_pair_func(x['store_A_location_id'],x['store_B_location_id']),axis=1)\n",
    "df_store_zip_unique_pairs['store_pair_str']=df_store_zip_unique_pairs['store_pair'].astype(str)\n",
    "df_store_zip_unique_pairs=df_store_zip_unique_pairs.sort_values(['store_pair_str','store_A_location_id','store_B_location_id'])\n",
    "df_store_zip_unique_pairs=df_store_zip_unique_pairs.drop_duplicates(\"store_pair_str\")\n",
    "df_store_zip_unique_pairs.to_csv(output_folder+\"BL_zip_overlap_between_stores_unique_JL_\"+str(datetime.datetime.now().date())+\".csv\",index=False)\n"
   ]
  },
  {
   "cell_type": "code",
   "execution_count": 24,
   "metadata": {
    "collapsed": true
   },
   "outputs": [],
   "source": [
    "df_store_zip_unique_pairs['overlap_group']=np.where(df_store_zip_unique_pairs['overlap_pctg']>0.2,\"20%+\",\n",
    "                                                   np.where(df_store_zip_unique_pairs['overlap_pctg']>0.15,\"15%-20%\",\n",
    "                                                           np.where(df_store_zip_unique_pairs['overlap_pctg']>0.1,\"10%-15%\",\n",
    "                                                                   np.where(df_store_zip_unique_pairs['overlap_pctg']>0.05,'5%-10%',\n",
    "                                                                           np.where(df_store_zip_unique_pairs['overlap_pctg']>0.03,'3%-5%',\"<3%\")\n",
    "                                                                           )\n",
    "                                                                   )\n",
    "                                                           )\n",
    "                                                   )\n",
    "\n",
    "df_store_zip_unique_pairs['dist_group']=np.where(df_store_zip_unique_pairs['dist_between_stores']>28,\"28+ miles\",\n",
    "                                                   np.where(df_store_zip_unique_pairs['dist_between_stores']>20,\"20-28 miles\",\n",
    "                                                           np.where(df_store_zip_unique_pairs['dist_between_stores']>10,\"10-20 miles\",\"0-10 miles\")\n",
    "                                                           )\n",
    "                                                   )\n",
    "df_summary_overlap_dist_group_pair_count=df_store_zip_unique_pairs.groupby(['overlap_group','dist_group'])['store_pair_str'].count().to_frame().reset_index().rename(columns={\"store_pair_str\":\"pairs_count\"})\n",
    "df_summary_overlap_dist_group_unique_stores=df_store_zip_unique_pairs.groupby(['overlap_group','dist_group'])['store_pair'].sum().to_frame().reset_index().rename(columns={\"store_pair\":\"stores_involved\"})\n",
    "\n",
    "df_store_zip_unique_pairs['zips_P_S_50_both_stores']=df_store_zip_unique_pairs['store_B_zip_list_P_and_S']+df_store_zip_unique_pairs['store_A_zip_list_P_and_S']\n",
    "df_store_zip_unique_pairs['zips_P_S_50_both_stores']=df_store_zip_unique_pairs['zips_P_S_50_both_stores'].apply(lambda x: list(set(x)))\n",
    "df_summary_overlap_dist_group_unique_zips=df_store_zip_unique_pairs.groupby(['overlap_group','dist_group'])['zips_P_S_50_both_stores'].sum().to_frame().reset_index().rename(columns={\"zips_P_S_50_both_stores\":\"zips_involved\"})\n",
    "\n"
   ]
  },
  {
   "cell_type": "code",
   "execution_count": 25,
   "metadata": {},
   "outputs": [
    {
     "data": {
      "text/plain": [
       "(24, 3)"
      ]
     },
     "execution_count": 25,
     "metadata": {},
     "output_type": "execute_result"
    }
   ],
   "source": [
    "df_summary_overlap_dist_group_unique_stores.shape"
   ]
  },
  {
   "cell_type": "code",
   "execution_count": 26,
   "metadata": {
    "collapsed": true
   },
   "outputs": [],
   "source": [
    "sort_dict={\"<3%\":1,\"3%-5%\":2,\"5%-10%\":3,\"10%-15%\":4,\"15%-20%\":5,\"20%+\":6}"
   ]
  },
  {
   "cell_type": "code",
   "execution_count": 27,
   "metadata": {
    "collapsed": true
   },
   "outputs": [],
   "source": [
    "df_summary_pivot_pair=df_summary_overlap_dist_group_pair_count.pivot_table(index=\"overlap_group\",columns='dist_group',values=\"pairs_count\").reset_index()\n",
    "df_summary_pivot_pair['sort']=df_summary_pivot_pair['overlap_group'].apply(lambda x: sort_dict[x])\n",
    "df_summary_pivot_pair=df_summary_pivot_pair.sort_values(\"sort\").reset_index()\n",
    "del df_summary_pivot_pair['sort']\n",
    "del df_summary_pivot_pair['index']\n"
   ]
  },
  {
   "cell_type": "code",
   "execution_count": 28,
   "metadata": {
    "collapsed": true
   },
   "outputs": [],
   "source": [
    "df_summary_overlap_dist_group_unique_stores['stores_involved']=df_summary_overlap_dist_group_unique_stores['stores_involved'].apply(lambda x: set(x))\n",
    "df_summary_overlap_dist_group_unique_stores['store_count_involved']=df_summary_overlap_dist_group_unique_stores['stores_involved'].apply(lambda x: len(x))\n",
    "\n",
    "df_summary_pivot_store=df_summary_overlap_dist_group_unique_stores.pivot_table(index=\"overlap_group\",columns='dist_group',values=\"store_count_involved\").reset_index()\n",
    "df_summary_pivot_store['sort']=df_summary_pivot_store['overlap_group'].apply(lambda x: sort_dict[x])\n",
    "df_summary_pivot_store=df_summary_pivot_store.sort_values(\"sort\").reset_index()\n",
    "del df_summary_pivot_store['sort']\n",
    "del df_summary_pivot_store['index']\n"
   ]
  },
  {
   "cell_type": "code",
   "execution_count": 29,
   "metadata": {
    "collapsed": true
   },
   "outputs": [],
   "source": [
    "df_summary_overlap_dist_group_unique_zips['zips_involved']=df_summary_overlap_dist_group_unique_zips['zips_involved'].apply(lambda x: set(x))\n",
    "df_summary_overlap_dist_group_unique_zips['zip_count_involved']=df_summary_overlap_dist_group_unique_zips['zips_involved'].apply(lambda x: len(x))\n",
    "\n",
    "df_summary_pivot_zip=df_summary_overlap_dist_group_unique_zips.pivot_table(index=\"overlap_group\",columns='dist_group',values=\"zip_count_involved\").reset_index()\n",
    "df_summary_pivot_zip['sort']=df_summary_pivot_zip['overlap_group'].apply(lambda x: sort_dict[x])\n",
    "df_summary_pivot_zip=df_summary_pivot_zip.sort_values(\"sort\").reset_index()\n",
    "del df_summary_pivot_zip['sort']\n",
    "del df_summary_pivot_zip['index']\n"
   ]
  },
  {
   "cell_type": "code",
   "execution_count": 30,
   "metadata": {},
   "outputs": [
    {
     "data": {
      "text/plain": [
       "['1', '1379']"
      ]
     },
     "execution_count": 30,
     "metadata": {},
     "output_type": "execute_result"
    }
   ],
   "source": [
    "df_store_zip_unique_pairs['store_pair'][0]"
   ]
  },
  {
   "cell_type": "code",
   "execution_count": 31,
   "metadata": {
    "collapsed": true
   },
   "outputs": [],
   "source": [
    "dist_group=df_store_zip_unique_pairs.groupby(['dist_group'])['store_pair'].sum().to_frame().reset_index().rename(columns={\"store_pair\":\"unique_store_list\"})\n",
    "dist_group['unique_store_list']=dist_group['unique_store_list'].apply(lambda x: list(set(x)))\n",
    "dist_group['unique_store_count']=dist_group['unique_store_list'].apply(lambda x: len(x))\n",
    "\n",
    "dist_group_pair_count=df_store_zip_unique_pairs.groupby(['dist_group'])['store_pair'].count().to_frame().reset_index().rename(columns={\"store_pair\":\"pair_counts\"})\n",
    "\n",
    "dist_group=pd.merge(dist_group,dist_group_pair_count,on=\"dist_group\")"
   ]
  },
  {
   "cell_type": "code",
   "execution_count": 32,
   "metadata": {
    "collapsed": true
   },
   "outputs": [],
   "source": [
    "store_list_July=pd.read_table(\"/home/jian/BigLots/static_files/Store_list/MediaStormStores20190701-134908-815.txt\",dtype=str,sep=\"|\")\n",
    "store_list_July=store_list_July[['location_id','address_line_1','address_line_2','city_nm','state_nm','zip_cd','latitude_meas','longitude_meas']]\n",
    "store_list_July['latitude_meas']=store_list_July['latitude_meas'].astype(float)\n",
    "store_list_July['longitude_meas']=store_list_July['longitude_meas'].astype(float)\n",
    "store_list_July=store_list_July[store_list_July['location_id']!=\"6990\"]\n",
    "store_list_July=store_list_July[store_list_July['location_id']!=\"145\"]\n",
    "\n",
    "store_lat_dict=store_list_July.set_index(\"location_id\").to_dict()['latitude_meas']\n",
    "store_long_dict=store_list_July.set_index(\"location_id\").to_dict()['longitude_meas']\n"
   ]
  },
  {
   "cell_type": "code",
   "execution_count": 33,
   "metadata": {
    "collapsed": true
   },
   "outputs": [],
   "source": [
    "df_all_P_zips_by_store=df_output[df_output['trans_flag']==\"P\"].groupby(['location_id'])['customer_zip_code'].apply(list).to_frame().reset_index().rename(columns={\"customer_zip_code\":\"all_P_zips\"})\n",
    "df_all_S_zips_by_store=df_output[df_output['trans_flag']==\"S\"].groupby(['location_id'])['customer_zip_code'].apply(list).to_frame().reset_index().rename(columns={\"customer_zip_code\":\"all_S_zips\"})\n",
    "\n",
    "df_50_miles_P_zips_by_store=df_output[(df_output['trans_flag']==\"P\") & (df_output['dist_miles']<=50)].groupby(['location_id'])['customer_zip_code'].apply(list).to_frame().reset_index().rename(columns={\"customer_zip_code\":\"50_miles_P_zips\"})\n",
    "df_50_miles_S_zips_by_store=df_output[(df_output['trans_flag']==\"S\") & (df_output['dist_miles']<=50)].groupby(['location_id'])['customer_zip_code'].apply(list).to_frame().reset_index().rename(columns={\"customer_zip_code\":\"50_miles_S_zips\"})\n",
    "\n",
    "df_P_S_zips_by_store=pd.merge(df_all_P_zips_by_store,df_all_S_zips_by_store,on=\"location_id\",how=\"outer\")\n",
    "df_P_S_zips_by_store=pd.merge(df_P_S_zips_by_store,df_50_miles_P_zips_by_store,on=\"location_id\",how=\"outer\")\n",
    "df_P_S_zips_by_store=pd.merge(df_P_S_zips_by_store,df_50_miles_S_zips_by_store,on=\"location_id\",how=\"outer\")\n",
    "df_P_S_zips_by_store=df_P_S_zips_by_store.fillna(\"[]\")\n",
    "df_P_S_zips_by_store['all_P_zips']=df_P_S_zips_by_store['all_P_zips'].astype(str).apply(lambda x: eval(x))\n",
    "df_P_S_zips_by_store['all_S_zips']=df_P_S_zips_by_store['all_S_zips'].astype(str).apply(lambda x: eval(x))\n",
    "df_P_S_zips_by_store['50_miles_P_zips']=df_P_S_zips_by_store['50_miles_P_zips'].astype(str).apply(lambda x: eval(x))\n",
    "df_P_S_zips_by_store['50_miles_S_zips']=df_P_S_zips_by_store['50_miles_S_zips'].astype(str).apply(lambda x: eval(x))\n"
   ]
  },
  {
   "cell_type": "code",
   "execution_count": 34,
   "metadata": {},
   "outputs": [
    {
     "data": {
      "text/html": [
       "<div>\n",
       "<style>\n",
       "    .dataframe thead tr:only-child th {\n",
       "        text-align: right;\n",
       "    }\n",
       "\n",
       "    .dataframe thead th {\n",
       "        text-align: left;\n",
       "    }\n",
       "\n",
       "    .dataframe tbody tr th {\n",
       "        vertical-align: top;\n",
       "    }\n",
       "</style>\n",
       "<table border=\"1\" class=\"dataframe\">\n",
       "  <thead>\n",
       "    <tr style=\"text-align: right;\">\n",
       "      <th></th>\n",
       "      <th>location_id</th>\n",
       "      <th>all_P_zips</th>\n",
       "      <th>all_S_zips</th>\n",
       "      <th>50_miles_P_zips</th>\n",
       "      <th>50_miles_S_zips</th>\n",
       "    </tr>\n",
       "  </thead>\n",
       "  <tbody>\n",
       "    <tr>\n",
       "      <th>258</th>\n",
       "      <td>1531</td>\n",
       "      <td>[42431]</td>\n",
       "      <td>[]</td>\n",
       "      <td>[42431]</td>\n",
       "      <td>[]</td>\n",
       "    </tr>\n",
       "    <tr>\n",
       "      <th>492</th>\n",
       "      <td>190</td>\n",
       "      <td>[42420]</td>\n",
       "      <td>[]</td>\n",
       "      <td>[42420]</td>\n",
       "      <td>[]</td>\n",
       "    </tr>\n",
       "    <tr>\n",
       "      <th>542</th>\n",
       "      <td>1983</td>\n",
       "      <td>[88101]</td>\n",
       "      <td>[]</td>\n",
       "      <td>[88101]</td>\n",
       "      <td>[]</td>\n",
       "    </tr>\n",
       "    <tr>\n",
       "      <th>779</th>\n",
       "      <td>4301</td>\n",
       "      <td>[95076]</td>\n",
       "      <td>[]</td>\n",
       "      <td>[95076]</td>\n",
       "      <td>[]</td>\n",
       "    </tr>\n",
       "    <tr>\n",
       "      <th>813</th>\n",
       "      <td>4432</td>\n",
       "      <td>[93060]</td>\n",
       "      <td>[]</td>\n",
       "      <td>[93060]</td>\n",
       "      <td>[]</td>\n",
       "    </tr>\n",
       "    <tr>\n",
       "      <th>949</th>\n",
       "      <td>4611</td>\n",
       "      <td>[93555]</td>\n",
       "      <td>[]</td>\n",
       "      <td>[93555]</td>\n",
       "      <td>[]</td>\n",
       "    </tr>\n",
       "    <tr>\n",
       "      <th>1000</th>\n",
       "      <td>4665</td>\n",
       "      <td>[93230]</td>\n",
       "      <td>[]</td>\n",
       "      <td>[93230]</td>\n",
       "      <td>[]</td>\n",
       "    </tr>\n",
       "  </tbody>\n",
       "</table>\n",
       "</div>"
      ],
      "text/plain": [
       "     location_id all_P_zips all_S_zips 50_miles_P_zips 50_miles_S_zips\n",
       "258         1531    [42431]         []         [42431]              []\n",
       "492          190    [42420]         []         [42420]              []\n",
       "542         1983    [88101]         []         [88101]              []\n",
       "779         4301    [95076]         []         [95076]              []\n",
       "813         4432    [93060]         []         [93060]              []\n",
       "949         4611    [93555]         []         [93555]              []\n",
       "1000        4665    [93230]         []         [93230]              []"
      ]
     },
     "execution_count": 34,
     "metadata": {},
     "output_type": "execute_result"
    }
   ],
   "source": [
    "df_P_S_zips_by_store[df_P_S_zips_by_store['all_S_zips'].apply(lambda x: x==[])]"
   ]
  },
  {
   "cell_type": "code",
   "execution_count": 35,
   "metadata": {},
   "outputs": [
    {
     "data": {
      "text/html": [
       "<div>\n",
       "<style>\n",
       "    .dataframe thead tr:only-child th {\n",
       "        text-align: right;\n",
       "    }\n",
       "\n",
       "    .dataframe thead th {\n",
       "        text-align: left;\n",
       "    }\n",
       "\n",
       "    .dataframe tbody tr th {\n",
       "        vertical-align: top;\n",
       "    }\n",
       "</style>\n",
       "<table border=\"1\" class=\"dataframe\">\n",
       "  <thead>\n",
       "    <tr style=\"text-align: right;\">\n",
       "      <th></th>\n",
       "      <th>dist_group</th>\n",
       "      <th>unique_store_list</th>\n",
       "      <th>unique_store_count</th>\n",
       "      <th>pair_counts</th>\n",
       "    </tr>\n",
       "  </thead>\n",
       "  <tbody>\n",
       "    <tr>\n",
       "      <th>0</th>\n",
       "      <td>0-10 miles</td>\n",
       "      <td>[541, 422, 4220, 4436, 4131, 4516, 1007, 4336,...</td>\n",
       "      <td>742</td>\n",
       "      <td>889</td>\n",
       "    </tr>\n",
       "    <tr>\n",
       "      <th>1</th>\n",
       "      <td>10-20 miles</td>\n",
       "      <td>[1958, 422, 4220, 4436, 4131, 4516, 1007, 555,...</td>\n",
       "      <td>853</td>\n",
       "      <td>1282</td>\n",
       "    </tr>\n",
       "    <tr>\n",
       "      <th>2</th>\n",
       "      <td>20-28 miles</td>\n",
       "      <td>[4220, 4436, 256, 4336, 1216, 1255, 1911, 4652...</td>\n",
       "      <td>597</td>\n",
       "      <td>579</td>\n",
       "    </tr>\n",
       "    <tr>\n",
       "      <th>3</th>\n",
       "      <td>28+ miles</td>\n",
       "      <td>[1958, 541, 4220, 555, 256, 4336, 1216, 1255, ...</td>\n",
       "      <td>596</td>\n",
       "      <td>823</td>\n",
       "    </tr>\n",
       "  </tbody>\n",
       "</table>\n",
       "</div>"
      ],
      "text/plain": [
       "    dist_group                                  unique_store_list  \\\n",
       "0   0-10 miles  [541, 422, 4220, 4436, 4131, 4516, 1007, 4336,...   \n",
       "1  10-20 miles  [1958, 422, 4220, 4436, 4131, 4516, 1007, 555,...   \n",
       "2  20-28 miles  [4220, 4436, 256, 4336, 1216, 1255, 1911, 4652...   \n",
       "3    28+ miles  [1958, 541, 4220, 555, 256, 4336, 1216, 1255, ...   \n",
       "\n",
       "   unique_store_count  pair_counts  \n",
       "0                 742          889  \n",
       "1                 853         1282  \n",
       "2                 597          579  \n",
       "3                 596          823  "
      ]
     },
     "execution_count": 35,
     "metadata": {},
     "output_type": "execute_result"
    }
   ],
   "source": [
    "# Keep this table and remove all of the stores for the bottom group store list\n",
    "dist_group"
   ]
  },
  {
   "cell_type": "code",
   "execution_count": 36,
   "metadata": {
    "collapsed": true
   },
   "outputs": [],
   "source": [
    "\n",
    "def dist_of_2_str_stores(pair_stores_str):\n",
    "    pair_stores_str=eval(pair_stores_str)\n",
    "    store_a=pair_stores_str[0]\n",
    "    store_b=pair_stores_str[1]\n",
    "    dist=haversine([store_lat_dict[store_a],store_long_dict[store_a]],[store_lat_dict[store_b],store_long_dict[store_b]],miles=True)\n",
    "    return dist\n",
    "\n",
    "# Only used in below loop\n",
    "def find_nearest_store(store_id):\n",
    "    shortest_dist=99999\n",
    "    nearest_store=np.nan\n",
    "    for i_store in store_list_July['location_id'].tolist():\n",
    "        if i_store!=store_id:\n",
    "            dist=haversine([store_lat_dict[store_id],store_long_dict[store_id]],[store_lat_dict[i_store],store_long_dict[i_store]],miles=True)\n",
    "            if dist<shortest_dist:\n",
    "                shortest_dist=dist\n",
    "                nearest_store=i_store\n",
    "    return nearest_store, shortest_dist\n",
    "\n",
    "def find_overlaped_stores(store_id):\n",
    "    df=df_store_zip_unique_pairs[df_store_zip_unique_pairs['store_pair'].apply(lambda x: store_id in x)]\n",
    "    df=df.sort_values('overlap_pctg',ascending=True).reset_index()\n",
    "    min_overlap_pctg=df.loc[0,'overlap_pctg']\n",
    "    min_overlap_store_pair_str=df.loc[0,'store_pair_str']\n",
    "    \n",
    "    max_overlap_pctg=df.loc[len(df)-1,'overlap_pctg']\n",
    "    max_overlap_store_pair_str=df.loc[len(df)-1,'store_pair_str']\n",
    "    \n",
    "    return min_overlap_pctg,min_overlap_store_pair_str,max_overlap_pctg,max_overlap_store_pair_str"
   ]
  },
  {
   "cell_type": "code",
   "execution_count": 38,
   "metadata": {},
   "outputs": [
    {
     "name": "stderr",
     "output_type": "stream",
     "text": [
      "/usr/local/lib/python3.6/site-packages/ipykernel_launcher.py:48: SettingWithCopyWarning: \n",
      "A value is trying to be set on a copy of a slice from a DataFrame.\n",
      "Try using .loc[row_indexer,col_indexer] = value instead\n",
      "\n",
      "See the caveats in the documentation: http://pandas.pydata.org/pandas-docs/stable/indexing.html#indexing-view-versus-copy\n"
     ]
    }
   ],
   "source": [
    "nearest_store_dist_criteria_dict={\"0-10 miles\":0,\"10-20 miles\":10,\"20-28 miles\":20,\"28+ miles\":28}\n",
    "\n",
    "writer=pd.ExcelWriter(output_folder+\"BL_new_TA_pair_dist_table_summary_JL_\"+str(datetime.datetime.now().date())+\".xlsx\",engine=\"xlsxwriter\")\n",
    "dist_group.to_excel(writer,\"pairs_and_stores_by_pair_dist\",index=False)\n",
    "\n",
    "ordered_cols=['dist_group','location_id','address_line_1','address_line_2','city_nm','state_nm','zip_cd','latitude_meas','longitude_meas',\n",
    "              'all_P_zips','all_S_zips','All_P&S_zips','50_miles_P_zips','50_miles_S_zips','All_P&S_zips_50_miles',\n",
    "              'nearest_store','dist_to_nearest_store',\n",
    "              'max_overlap_store','max_overlap_pctg','dist_max_overlap_pairs',\n",
    "              'min_overlap_pctg','min_overlap_store','dist_min_overlap_pairs']\n",
    "\n",
    "all_paired_group_store_df=pd.DataFrame(columns=ordered_cols)\n",
    "all_single_store_df=pd.DataFrame(columns=['nearest_store_dist_criteria']+ordered_cols)\n",
    "all_high_overlap_store_df=pd.DataFrame(columns=ordered_cols)\n",
    "\n",
    "for dist,group in dist_group.groupby(\"dist_group\"):\n",
    "    store_list_in_dist_group=group['unique_store_list'].values[0]\n",
    "    df_store_zip_unique_pairs_removed=df_store_zip_unique_pairs[(~df_store_zip_unique_pairs['store_A_location_id'].isin(store_list_in_dist_group)) &\\\n",
    "                                                                 (~df_store_zip_unique_pairs['store_B_location_id'].isin(store_list_in_dist_group))]\n",
    "\n",
    "    df_removed_pairs_rows=df_store_zip_unique_pairs[df_store_zip_unique_pairs['dist_group']==dist]\n",
    "    df_store_zip_unique_pairs_removed_stores=df_store_zip_unique_pairs[(df_store_zip_unique_pairs['store_A_location_id'].isin(store_list_in_dist_group)) |\\\n",
    "                                                                 (df_store_zip_unique_pairs['store_B_location_id'].isin(store_list_in_dist_group))]\n",
    "    \n",
    "    df_removed_stores_1=pd.DataFrame({\"location_id\":store_list_in_dist_group})\n",
    "    df_removed_stores_1=pd.merge(df_removed_stores_1,store_list_July,on=\"location_id\",how=\"left\")\n",
    "    df_removed_stores_1=pd.merge(df_removed_stores_1,df_P_S_zips_by_store,on=\"location_id\",how=\"left\")\n",
    "    \n",
    "    df_removed_stores_1['nearest_store']=df_removed_stores_1['location_id'].apply(lambda x: find_nearest_store(x)[0])\n",
    "    df_removed_stores_1['dist_to_nearest_store']=df_removed_stores_1['location_id'].apply(lambda x: find_nearest_store(x)[1])\n",
    "\n",
    "    df_removed_stores_1['min_overlap_pctg']=df_removed_stores_1['location_id'].apply(lambda x: find_overlaped_stores(x)[0])\n",
    "    df_removed_stores_1['min_overlap_store']=df_removed_stores_1['location_id'].apply(lambda x: find_overlaped_stores(x)[1])\n",
    "    df_removed_stores_1['max_overlap_pctg']=df_removed_stores_1['location_id'].apply(lambda x: find_overlaped_stores(x)[2])\n",
    "    df_removed_stores_1['max_overlap_store']=df_removed_stores_1['location_id'].apply(lambda x: find_overlaped_stores(x)[3])\n",
    "\n",
    "    df_removed_stores_1['All_P&S_zips']=df_removed_stores_1['all_P_zips']+df_removed_stores_1['all_S_zips']\n",
    "    df_removed_stores_1['All_P&S_zips_50_miles']=df_removed_stores_1['50_miles_P_zips']+df_removed_stores_1['50_miles_S_zips']\n",
    "\n",
    "    df_removed_stores_1['dist_min_overlap_pairs']=df_removed_stores_1['min_overlap_store'].apply(lambda x: dist_of_2_str_stores(x))\n",
    "    df_removed_stores_1['dist_max_overlap_pairs']=df_removed_stores_1['max_overlap_store'].apply(lambda x: dist_of_2_str_stores(x))\n",
    "    df_removed_stores_1['dist_group']=dist\n",
    "        \n",
    "    df_removed_stores_1=df_removed_stores_1[ordered_cols]\n",
    "    df_removed_stores_1=df_removed_stores_1.sort_values(\"dist_to_nearest_store\",ascending=False)\n",
    "    \n",
    "    \n",
    "    nearest_store_dist_criteria=nearest_store_dist_criteria_dict[dist]\n",
    "    single_store_df=df_removed_stores_1[(df_removed_stores_1['dist_to_nearest_store']>nearest_store_dist_criteria) &\\\n",
    "                                        (df_removed_stores_1['max_overlap_pctg']<=0.15)]\n",
    "    single_store_df['nearest_store_dist_criteria']=nearest_store_dist_criteria\n",
    "    \n",
    "    high_overlap_store_df=df_removed_stores_1[(df_removed_stores_1['dist_to_nearest_store']<=10) &\\\n",
    "                                        (df_removed_stores_1['max_overlap_pctg']>=0.5)]\n",
    "       \n",
    "    df_removed_stores_1.to_excel(writer,dist+\"_all_stores\",index=False)\n",
    "    \n",
    "    \n",
    "    all_paired_group_store_df=all_paired_group_store_df.append(df_removed_stores_1)\n",
    "    all_single_store_df=all_single_store_df.append(single_store_df)\n",
    "\n",
    "    all_high_overlap_store_df=all_high_overlap_store_df.append(high_overlap_store_df)\n",
    "    \n",
    "\n",
    "def clean_list_col(df):\n",
    "    for col in df.columns.tolist():\n",
    "        if df[col].apply(lambda x: type(x)).unique()[0]==list:\n",
    "            df[col]=df[col].astype(str)\n",
    "    return df\n",
    "            \n",
    "all_single_store_df=clean_list_col(all_single_store_df)\n",
    "all_paired_group_store_df=clean_list_col(all_paired_group_store_df)\n",
    "all_high_overlap_store_df=clean_list_col(all_high_overlap_store_df)\n",
    "\n",
    "all_single_store_df=all_single_store_df.drop_duplicates()\n",
    "all_paired_group_store_df=all_paired_group_store_df.drop_duplicates()\n",
    "all_high_overlap_store_df=all_high_overlap_store_df.drop_duplicates()\n",
    "\n",
    "all_single_store_df=all_single_store_df[['nearest_store_dist_criteria']+ordered_cols]\n",
    "all_single_store_df.to_excel(writer,\"all_single_store_df\",index=False)\n",
    "all_paired_group_store_df.to_excel(writer,\"all_paired_group_store_df\",index=False)\n",
    "all_high_overlap_store_df.to_excel(writer,\"all_high_overlap_store_df\",index=False)\n",
    "\n",
    "all_unique_high_overlap_stores=all_high_overlap_store_df.copy()\n",
    "del all_high_overlap_store_df['dist_group']\n",
    "all_high_overlap_store_df=all_high_overlap_store_df.drop_duplicates()\n",
    "all_high_overlap_store_df=all_high_overlap_store_df.sort_values([\"state_nm\",'city_nm','dist_to_nearest_store'])\n",
    "all_high_overlap_store_df.to_excel(writer,\"unique_all_high_overlap_store\",index=False)\n",
    "\n",
    "df_summary_high_overlap_store_st=all_high_overlap_store_df.groupby(all_high_overlap_store_df['state_nm'])['location_id'].nunique().to_frame().reset_index()\n",
    "df_summary_high_overlap_store_st.to_excel(writer,\"summary_high_overlap_st_count\",index=False)\n",
    "writer.save()"
   ]
  },
  {
   "cell_type": "markdown",
   "metadata": {},
   "source": [
    "# All embeded in the loop above"
   ]
  },
  {
   "cell_type": "code",
   "execution_count": 41,
   "metadata": {},
   "outputs": [
    {
     "data": {
      "text/plain": [
       "(1018, 24)"
      ]
     },
     "execution_count": 41,
     "metadata": {},
     "output_type": "execute_result"
    }
   ],
   "source": [
    "'''\n",
    "stores_to_removed_list=sorted(dist_group.loc[dist_group['dist_group']==\"28+ miles\",'unique_store_list'].values[0])\n",
    "df_store_zip_unique_pairs_removed_once=df_store_zip_unique_pairs[(~df_store_zip_unique_pairs['store_A_location_id'].isin(stores_to_removed_list)) &\\\n",
    "                                                                 (~df_store_zip_unique_pairs['store_B_location_id'].isin(stores_to_removed_list))]\n",
    "'''"
   ]
  },
  {
   "cell_type": "code",
   "execution_count": 45,
   "metadata": {},
   "outputs": [
    {
     "data": {
      "text/html": [
       "<div>\n",
       "<style>\n",
       "    .dataframe thead tr:only-child th {\n",
       "        text-align: right;\n",
       "    }\n",
       "\n",
       "    .dataframe thead th {\n",
       "        text-align: left;\n",
       "    }\n",
       "\n",
       "    .dataframe tbody tr th {\n",
       "        vertical-align: top;\n",
       "    }\n",
       "</style>\n",
       "<table border=\"1\" class=\"dataframe\">\n",
       "  <thead>\n",
       "    <tr style=\"text-align: right;\">\n",
       "      <th></th>\n",
       "      <th>store_A_location_id</th>\n",
       "      <th>store_A_latitude_meas</th>\n",
       "      <th>store_A_longitude_meas</th>\n",
       "      <th>store_A_zip_list_P_and_S</th>\n",
       "      <th>store_A_zip_list_P</th>\n",
       "      <th>store_A_zip_list_S</th>\n",
       "      <th>store_B_location_id</th>\n",
       "      <th>store_B_latitude_meas</th>\n",
       "      <th>store_B_longitude_meas</th>\n",
       "      <th>store_B_zip_list_P_and_S</th>\n",
       "      <th>...</th>\n",
       "      <th>count_of_A_zips</th>\n",
       "      <th>count_of_B_zips</th>\n",
       "      <th>total_zips</th>\n",
       "      <th>overlap_pctg</th>\n",
       "      <th>dist_between_stores</th>\n",
       "      <th>store_pair</th>\n",
       "      <th>store_pair_str</th>\n",
       "      <th>overlap_group</th>\n",
       "      <th>dist_group</th>\n",
       "      <th>zips_P_S_50_both_stores</th>\n",
       "    </tr>\n",
       "  </thead>\n",
       "  <tbody>\n",
       "    <tr>\n",
       "      <th>0</th>\n",
       "      <td>1</td>\n",
       "      <td>39.913636</td>\n",
       "      <td>-82.914789</td>\n",
       "      <td>[43125, 43227, 43232, 43110, 43206, 43207, 432...</td>\n",
       "      <td>[43207, 43227, 43209, 43232]</td>\n",
       "      <td>[43125, 43110, 43206, 43213, 43205, 43068]</td>\n",
       "      <td>1379</td>\n",
       "      <td>40.141346</td>\n",
       "      <td>-82.985584</td>\n",
       "      <td>[43081, 43229, 43334, 43212, 43017, 43230, 430...</td>\n",
       "      <td>...</td>\n",
       "      <td>10</td>\n",
       "      <td>38</td>\n",
       "      <td>43</td>\n",
       "      <td>0.116279</td>\n",
       "      <td>16.172938</td>\n",
       "      <td>[1, 1379]</td>\n",
       "      <td>['1', '1379']</td>\n",
       "      <td>10%-15%</td>\n",
       "      <td>10-20 miles</td>\n",
       "      <td>[43081, 43229, 43334, 43212, 43017, 43230, 432...</td>\n",
       "    </tr>\n",
       "    <tr>\n",
       "      <th>1</th>\n",
       "      <td>1</td>\n",
       "      <td>39.913636</td>\n",
       "      <td>-82.914789</td>\n",
       "      <td>[43125, 43227, 43232, 43110, 43206, 43207, 432...</td>\n",
       "      <td>[43207, 43227, 43209, 43232]</td>\n",
       "      <td>[43125, 43110, 43206, 43213, 43205, 43068]</td>\n",
       "      <td>1666</td>\n",
       "      <td>40.100960</td>\n",
       "      <td>-83.091519</td>\n",
       "      <td>[43040, 43081, 43229, 43212, 43017, 43064, 432...</td>\n",
       "      <td>...</td>\n",
       "      <td>10</td>\n",
       "      <td>26</td>\n",
       "      <td>34</td>\n",
       "      <td>0.058824</td>\n",
       "      <td>15.968608</td>\n",
       "      <td>[1, 1666]</td>\n",
       "      <td>['1', '1666']</td>\n",
       "      <td>5%-10%</td>\n",
       "      <td>10-20 miles</td>\n",
       "      <td>[43040, 43081, 43229, 43212, 43017, 43064, 432...</td>\n",
       "    </tr>\n",
       "  </tbody>\n",
       "</table>\n",
       "<p>2 rows × 24 columns</p>\n",
       "</div>"
      ],
      "text/plain": [
       "  store_A_location_id  store_A_latitude_meas  store_A_longitude_meas  \\\n",
       "0                   1              39.913636              -82.914789   \n",
       "1                   1              39.913636              -82.914789   \n",
       "\n",
       "                            store_A_zip_list_P_and_S  \\\n",
       "0  [43125, 43227, 43232, 43110, 43206, 43207, 432...   \n",
       "1  [43125, 43227, 43232, 43110, 43206, 43207, 432...   \n",
       "\n",
       "             store_A_zip_list_P                          store_A_zip_list_S  \\\n",
       "0  [43207, 43227, 43209, 43232]  [43125, 43110, 43206, 43213, 43205, 43068]   \n",
       "1  [43207, 43227, 43209, 43232]  [43125, 43110, 43206, 43213, 43205, 43068]   \n",
       "\n",
       "  store_B_location_id  store_B_latitude_meas  store_B_longitude_meas  \\\n",
       "0                1379              40.141346              -82.985584   \n",
       "1                1666              40.100960              -83.091519   \n",
       "\n",
       "                            store_B_zip_list_P_and_S  \\\n",
       "0  [43081, 43229, 43334, 43212, 43017, 43230, 430...   \n",
       "1  [43040, 43081, 43229, 43212, 43017, 43064, 432...   \n",
       "\n",
       "                         ...                         count_of_A_zips  \\\n",
       "0                        ...                                      10   \n",
       "1                        ...                                      10   \n",
       "\n",
       "  count_of_B_zips total_zips  overlap_pctg  dist_between_stores  store_pair  \\\n",
       "0              38         43      0.116279            16.172938   [1, 1379]   \n",
       "1              26         34      0.058824            15.968608   [1, 1666]   \n",
       "\n",
       "   store_pair_str  overlap_group   dist_group  \\\n",
       "0   ['1', '1379']        10%-15%  10-20 miles   \n",
       "1   ['1', '1666']         5%-10%  10-20 miles   \n",
       "\n",
       "                             zips_P_S_50_both_stores  \n",
       "0  [43081, 43229, 43334, 43212, 43017, 43230, 432...  \n",
       "1  [43040, 43081, 43229, 43212, 43017, 43064, 432...  \n",
       "\n",
       "[2 rows x 24 columns]"
      ]
     },
     "execution_count": 45,
     "metadata": {},
     "output_type": "execute_result"
    }
   ],
   "source": [
    "'''\n",
    "df_removed_pairs_rows=df_store_zip_unique_pairs[df_store_zip_unique_pairs['dist_group']==\"28+ miles\"]\n",
    "\n",
    "df_store_zip_unique_pairs_removed_stores=df_store_zip_unique_pairs[(df_store_zip_unique_pairs['store_A_location_id'].isin(stores_to_removed_list)) |\\\n",
    "                                                                 (df_store_zip_unique_pairs['store_B_location_id'].isin(stores_to_removed_list))]\n",
    "df_store_zip_unique_pairs_removed_stores\n",
    "'''"
   ]
  },
  {
   "cell_type": "code",
   "execution_count": 69,
   "metadata": {
    "collapsed": true
   },
   "outputs": [],
   "source": [
    "'''\n",
    "df_removed_stores_1=pd.DataFrame({\"location_id\":stores_to_removed_list})\n",
    "store_list_July=pd.read_table(\"/home/jian/BigLots/static_files/Store_list/MediaStormStores20190701-134908-815.txt\",dtype=str,sep=\"|\")\n",
    "store_list_July=store_list_July[['location_id','address_line_1','address_line_2','city_nm','state_nm','zip_cd','latitude_meas','longitude_meas']]\n",
    "store_list_July['latitude_meas']=store_list_July['latitude_meas'].astype(float)\n",
    "store_list_July['longitude_meas']=store_list_July['longitude_meas'].astype(float)\n",
    "store_list_July=store_list_July[store_list_July['location_id']!=\"6990\"]\n",
    "store_list_July=store_list_July[store_list_July['location_id']!=\"145\"]\n",
    "\n",
    "df_removed_stores_1=pd.merge(df_removed_stores_1,store_list_July,on=\"location_id\",how=\"left\")\n",
    "df_removed_stores_1=pd.merge(df_removed_stores_1,df_P_S_zips_by_store,on=\"location_id\",how=\"left\")\n",
    "''' "
   ]
  },
  {
   "cell_type": "code",
   "execution_count": 78,
   "metadata": {
    "collapsed": true
   },
   "outputs": [],
   "source": [
    "'''\n",
    "def find_nearest_store(store_id):\n",
    "    shortest_dist=99999\n",
    "    nearest_store=np.nan\n",
    "    for i_store in store_list_July['location_id'].tolist():\n",
    "        if i_store!=store_id:\n",
    "            dist=haversine([store_lat_dict[store_id],store_long_dict[store_id]],[store_lat_dict[i_store],store_long_dict[i_store]],miles=True)\n",
    "            if dist<shortest_dist:\n",
    "                shortest_dist=dist\n",
    "                nearest_store=i_store\n",
    "    return nearest_store, shortest_dist\n",
    "                \n",
    "                \n",
    "            \n",
    "df_removed_stores_1['nearest_store']=df_removed_stores_1['location_id'].apply(lambda x: find_nearest_store(x)[0])\n",
    "df_removed_stores_1['dist_to_nearest_store']=df_removed_stores_1['location_id'].apply(lambda x: find_nearest_store(x)[1])\n",
    "'''"
   ]
  },
  {
   "cell_type": "code",
   "execution_count": 92,
   "metadata": {
    "collapsed": true
   },
   "outputs": [],
   "source": [
    "'''\n",
    "def find_overlaped_stores(store_id):\n",
    "    df=df_store_zip_unique_pairs[df_store_zip_unique_pairs['store_pair'].apply(lambda x: store_id in x)]\n",
    "    df=df.sort_values('overlap_pctg',ascending=True).reset_index()\n",
    "    min_overlap_pctg=df.loc[0,'overlap_pctg']\n",
    "    min_overlap_store_pair_str=df.loc[0,'store_pair_str']\n",
    "    \n",
    "    max_overlap_pctg=df.loc[len(df)-1,'overlap_pctg']\n",
    "    max_overlap_store_pair_str=df.loc[len(df)-1,'store_pair_str']\n",
    "    \n",
    "    return min_overlap_pctg,min_overlap_store_pair_str,max_overlap_pctg,max_overlap_store_pair_str\n",
    "'''"
   ]
  },
  {
   "cell_type": "code",
   "execution_count": 97,
   "metadata": {
    "collapsed": true
   },
   "outputs": [],
   "source": [
    "'''\n",
    "df_removed_stores_1['min_overlap_pctg']=df_removed_stores_1['location_id'].apply(lambda x: find_overlaped_stores(x)[0])\n",
    "df_removed_stores_1['min_overlap_store']=df_removed_stores_1['location_id'].apply(lambda x: find_overlaped_stores(x)[1])\n",
    "df_removed_stores_1['max_overlap_pctg']=df_removed_stores_1['location_id'].apply(lambda x: find_overlaped_stores(x)[2])\n",
    "df_removed_stores_1['max_overlap_store']=df_removed_stores_1['location_id'].apply(lambda x: find_overlaped_stores(x)[3])\n",
    "'''"
   ]
  },
  {
   "cell_type": "code",
   "execution_count": 101,
   "metadata": {
    "collapsed": true
   },
   "outputs": [],
   "source": [
    "'''\n",
    "df_summary_overlap_dist_group_pair_count_1=df_store_zip_unique_pairs_removed_once.groupby(['overlap_group','dist_group'])['store_pair_str'].count().to_frame().reset_index().rename(columns={\"store_pair_str\":\"pairs_count\"})\n",
    "df_summary_overlap_dist_group_unique_stores_1=df_store_zip_unique_pairs_removed_once.groupby(['overlap_group','dist_group'])['store_pair'].sum().to_frame().reset_index().rename(columns={\"store_pair\":\"stores_involved\"})\n",
    "\n",
    "df_summary_overlap_dist_group_unique_zips_1=df_store_zip_unique_pairs_removed_once.groupby(['overlap_group','dist_group'])['zips_P_S_50_both_stores'].sum().to_frame().reset_index().rename(columns={\"zips_P_S_50_both_stores\":\"zips_involved\"})\n",
    "\n",
    "\n",
    "\n",
    "\n",
    "df_summary_pivot_pair_1=df_summary_overlap_dist_group_pair_count_1.pivot_table(index=\"overlap_group\",columns='dist_group',values=\"pairs_count\").reset_index()\n",
    "df_summary_pivot_pair_1['sort']=df_summary_pivot_pair_1['overlap_group'].apply(lambda x: sort_dict[x])\n",
    "df_summary_pivot_pair_1=df_summary_pivot_pair_1.sort_values(\"sort\").reset_index()\n",
    "del df_summary_pivot_pair_1['sort']\n",
    "del df_summary_pivot_pair_1['index']\n",
    "##########\n",
    "df_summary_overlap_dist_group_unique_stores_1['stores_involved']=df_summary_overlap_dist_group_unique_stores_1['stores_involved'].apply(lambda x: set(x))\n",
    "df_summary_overlap_dist_group_unique_stores_1['store_count_involved']=df_summary_overlap_dist_group_unique_stores_1['stores_involved'].apply(lambda x: len(x))\n",
    "\n",
    "df_summary_pivot_store_1=df_summary_overlap_dist_group_unique_stores_1.pivot_table(index=\"overlap_group\",columns='dist_group',values=\"store_count_involved\").reset_index()\n",
    "df_summary_pivot_store_1['sort']=df_summary_pivot_store_1['overlap_group'].apply(lambda x: sort_dict[x])\n",
    "df_summary_pivot_store_1=df_summary_pivot_store_1.sort_values(\"sort\").reset_index()\n",
    "del df_summary_pivot_store_1['sort']\n",
    "del df_summary_pivot_store_1['index']\n",
    "##########\n",
    "df_summary_overlap_dist_group_unique_zips_1['zips_involved']=df_summary_overlap_dist_group_unique_zips_1['zips_involved'].apply(lambda x: set(x))\n",
    "df_summary_overlap_dist_group_unique_zips_1['zip_count_involved']=df_summary_overlap_dist_group_unique_zips_1['zips_involved'].apply(lambda x: len(x))\n",
    "\n",
    "df_summary_pivot_zip_1=df_summary_overlap_dist_group_unique_zips_1.pivot_table(index=\"overlap_group\",columns='dist_group',values=\"zip_count_involved\").reset_index()\n",
    "df_summary_pivot_zip_1['sort']=df_summary_pivot_zip_1['overlap_group'].apply(lambda x: sort_dict[x])\n",
    "df_summary_pivot_zip_1=df_summary_pivot_zip_1.sort_values(\"sort\").reset_index()\n",
    "del df_summary_pivot_zip_1['sort']\n",
    "del df_summary_pivot_zip_1['index']\n",
    "'''"
   ]
  },
  {
   "cell_type": "code",
   "execution_count": 110,
   "metadata": {
    "collapsed": true
   },
   "outputs": [],
   "source": [
    "'''\n",
    "df_removed_stores_1['All_P&S_zips']=df_removed_stores_1['all_P_zips']+df_removed_stores_1['all_S_zips']\n",
    "df_removed_stores_1['All_P&S_zips_50_miles']=df_removed_stores_1['50_miles_P_zips']+df_removed_stores_1['50_miles_S_zips']\n",
    "'''"
   ]
  },
  {
   "cell_type": "code",
   "execution_count": 111,
   "metadata": {
    "collapsed": true
   },
   "outputs": [],
   "source": [
    "'''\n",
    "def dist_of_2_str_stores(pair_stores_str):\n",
    "    pair_stores_str=eval(pair_stores_str)\n",
    "    store_a=pair_stores_str[0]\n",
    "    store_b=pair_stores_str[1]\n",
    "    dist=haversine([store_lat_dict[store_a],store_long_dict[store_a]],[store_lat_dict[store_b],store_long_dict[store_b]],miles=True)\n",
    "    return dist\n",
    "    \n",
    "df_removed_stores_1['dist_min_overlap_pairs']=df_removed_stores_1['min_overlap_store'].apply(lambda x: dist_of_2_str_stores(x))\n",
    "df_removed_stores_1['dist_max_overlap_pairs']=df_removed_stores_1['max_overlap_store'].apply(lambda x: dist_of_2_str_stores(x))\n",
    "'''"
   ]
  },
  {
   "cell_type": "code",
   "execution_count": 113,
   "metadata": {
    "collapsed": true
   },
   "outputs": [],
   "source": [
    "'''\n",
    "writer=pd.ExcelWriter(output_folder+\"Excel_BL_new_TA_pair_range_summary_JL_\"+str(datetime.datetime.now().date())+\".xlsx\",engine=\"xlsxwriter\")\n",
    "\n",
    "df_summary_pivot_pair.to_excel(writer,\"original_count_of_pairs\",index=False)\n",
    "df_summary_pivot_store.to_excel(writer,\"original_count_of_unique_stores\",index=False)\n",
    "df_summary_pivot_zip.to_excel(writer,\"original_count_of_unique_zips\",index=False)\n",
    "\n",
    "dist_group.to_excel(writer,\"dist_group_store\",index=False)\n",
    "df_removed_pairs_rows.to_excel(writer,\"df_removed_pairs_rows\",index=False)\n",
    "df_removed_stores_1.to_excel(writer,\"removed_stores_28Plus\",index=False)\n",
    "\n",
    "df_summary_pivot_pair_1.to_excel(writer,\"1stRemove_of_pairs\",index=False)\n",
    "df_summary_pivot_store_1.to_excel(writer,\"1stRemove_of_unique_stores\",index=False)\n",
    "df_summary_pivot_zip_1.to_excel(writer,\"1stRemove_of_unique_zips\",index=False)\n",
    "\n",
    "writer.save()\n",
    "'''"
   ]
  },
  {
   "cell_type": "markdown",
   "metadata": {},
   "source": [
    "# Aggregate into TA"
   ]
  },
  {
   "cell_type": "code",
   "execution_count": 21,
   "metadata": {},
   "outputs": [
    {
     "name": "stdout",
     "output_type": "stream",
     "text": [
      "12543\n"
     ]
    },
    {
     "data": {
      "text/plain": [
       "(1389, 2)"
      ]
     },
     "execution_count": 21,
     "metadata": {},
     "output_type": "execute_result"
    }
   ],
   "source": [
    "# Use transaction labels\n",
    "# P, S only to treat the same TA\n",
    "# Too many Ss make a big TA\n",
    "df_store_zip=df_output_PS_50_miles[['location_id','trans_flag','customer_zip_code']].rename(columns={\"customer_zip_code\":\"zip_list\"}).drop_duplicates()\n",
    "print(df_store_zip['zip_list'].nunique())\n",
    "\n",
    "df_store_zip=df_store_zip.groupby(\"location_id\")['zip_list'].apply(set).to_frame().reset_index()\n",
    "df_store_zip['zip_list']=df_store_zip['zip_list'].apply(lambda x: list(x))\n",
    "df_store_zip.shape\n"
   ]
  },
  {
   "cell_type": "code",
   "execution_count": 22,
   "metadata": {},
   "outputs": [
    {
     "data": {
      "text/html": [
       "<div>\n",
       "<style>\n",
       "    .dataframe thead tr:only-child th {\n",
       "        text-align: right;\n",
       "    }\n",
       "\n",
       "    .dataframe thead th {\n",
       "        text-align: left;\n",
       "    }\n",
       "\n",
       "    .dataframe tbody tr th {\n",
       "        vertical-align: top;\n",
       "    }\n",
       "</style>\n",
       "<table border=\"1\" class=\"dataframe\">\n",
       "  <thead>\n",
       "    <tr style=\"text-align: right;\">\n",
       "      <th></th>\n",
       "      <th>TA</th>\n",
       "      <th>location_id</th>\n",
       "      <th>zip_cd</th>\n",
       "    </tr>\n",
       "  </thead>\n",
       "  <tbody>\n",
       "    <tr>\n",
       "      <th>0</th>\n",
       "      <td>1</td>\n",
       "      <td>1</td>\n",
       "      <td>43206</td>\n",
       "    </tr>\n",
       "    <tr>\n",
       "      <th>0</th>\n",
       "      <td>1</td>\n",
       "      <td>1</td>\n",
       "      <td>43207</td>\n",
       "    </tr>\n",
       "  </tbody>\n",
       "</table>\n",
       "</div>"
      ],
      "text/plain": [
       "   TA location_id zip_cd\n",
       "0   1           1  43206\n",
       "0   1           1  43207"
      ]
     },
     "execution_count": 22,
     "metadata": {},
     "output_type": "execute_result"
    }
   ],
   "source": [
    "df_TA_zips=pd.DataFrame({\"location_id\":[df_store_zip['location_id'][0]]*len(df_store_zip['zip_list'][0]),\n",
    "                         \"zip_cd\":df_store_zip['zip_list'][0],\"TA\":[1]*len(df_store_zip['zip_list'][0])},\n",
    "                        index=[0]*len(df_store_zip['zip_list'][0]))\n",
    "\n",
    "df_TA_zips.head(2)"
   ]
  },
  {
   "cell_type": "code",
   "execution_count": 23,
   "metadata": {},
   "outputs": [
    {
     "name": "stderr",
     "output_type": "stream",
     "text": [
      "/usr/local/lib/python3.6/site-packages/ipykernel_launcher.py:20: SettingWithCopyWarning: \n",
      "A value is trying to be set on a copy of a slice from a DataFrame.\n",
      "Try using .loc[row_indexer,col_indexer] = value instead\n",
      "\n",
      "See the caveats in the documentation: http://pandas.pydata.org/pandas-docs/stable/indexing.html#indexing-view-versus-copy\n"
     ]
    }
   ],
   "source": [
    "TA_counter=1\n",
    "\n",
    "for i in range(1,len(df_store_zip)):\n",
    "    intersection_zip=list(set(df_store_zip.loc[i,'zip_list']).intersection(set(df_TA_zips['zip_cd'].unique().tolist())))\n",
    "    if len(intersection_zip)==0:\n",
    "        TA_counter+=1\n",
    "        df_new_ta_store=pd.DataFrame({\"location_id\":[df_store_zip['location_id'][i]]*len(df_store_zip['zip_list'][i]),\n",
    "                                      \"zip_cd\":df_store_zip['zip_list'][i],\n",
    "                                      \"TA\":[TA_counter]*len(df_store_zip['zip_list'][i])},\n",
    "                                     index=[i]*len(df_store_zip['zip_list'][i]))\n",
    "        df_TA_zips=df_TA_zips.append(df_new_ta_store).drop_duplicates()\n",
    "        \n",
    "    else:\n",
    "        df_intersection=df_TA_zips[df_TA_zips['zip_cd'].isin(intersection_zip)]\n",
    "        group_df_intersection=df_intersection.groupby(['TA'])['zip_cd'].count().to_frame().reset_index().sort_values(['zip_cd'],ascending=False)\n",
    "        selected_TA=group_df_intersection['TA'].tolist()[0] \n",
    "        \n",
    "        df_TA_zips_0=df_TA_zips[~df_TA_zips['TA'].isin(set(group_df_intersection['TA']))]\n",
    "        df_TA_zips_1=df_TA_zips[df_TA_zips['TA'].isin(group_df_intersection['TA'].tolist())]\n",
    "        df_TA_zips_1['TA']=selected_TA\n",
    "        df_overlaped_ta_store=pd.DataFrame({\"location_id\":[df_store_zip['location_id'][i]]*len(df_store_zip['zip_list'][i]),\n",
    "                                            \"zip_cd\":df_store_zip['zip_list'][i],\n",
    "                                            \"TA\":[selected_TA]*len(df_store_zip['zip_list'][i])},\n",
    "                                           index=[i]*len(df_store_zip['zip_list'][i]))\n",
    "        df_TA_zips=df_TA_zips_0.append(df_TA_zips_1).append(df_overlaped_ta_store).drop_duplicates()\n",
    "\n"
   ]
  },
  {
   "cell_type": "code",
   "execution_count": 24,
   "metadata": {
    "collapsed": true
   },
   "outputs": [],
   "source": [
    "rename_TA=df_TA_zips[['TA']].drop_duplicates()\n",
    "rename_TA['new_TA_name']=[x+1 for x in range(len(rename_TA))]\n",
    "\n",
    "df_TA_zips=pd.merge(df_TA_zips,rename_TA,on=\"TA\",how=\"outer\")\n",
    "dict_TA_zips=df_TA_zips.set_index('zip_cd').to_dict()['new_TA_name']\n",
    "del df_TA_zips['TA']\n",
    "\n",
    "\n",
    "dict_TA_store=df_TA_zips.set_index('location_id').to_dict()['new_TA_name']\n",
    "df_store_zip['TA']=df_store_zip['location_id'].apply(lambda x: dict_TA_store[x])\n",
    "df_store_zip=df_store_zip.rename(columns={'zip_list':'PS_zip_list'})\n"
   ]
  },
  {
   "cell_type": "code",
   "execution_count": 25,
   "metadata": {},
   "outputs": [
    {
     "data": {
      "text/plain": [
       "(1389, 3)"
      ]
     },
     "execution_count": 25,
     "metadata": {},
     "output_type": "execute_result"
    }
   ],
   "source": [
    "df_store_zip.shape"
   ]
  },
  {
   "cell_type": "code",
   "execution_count": 31,
   "metadata": {},
   "outputs": [
    {
     "data": {
      "text/html": [
       "<div>\n",
       "<style>\n",
       "    .dataframe thead tr:only-child th {\n",
       "        text-align: right;\n",
       "    }\n",
       "\n",
       "    .dataframe thead th {\n",
       "        text-align: left;\n",
       "    }\n",
       "\n",
       "    .dataframe tbody tr th {\n",
       "        vertical-align: top;\n",
       "    }\n",
       "</style>\n",
       "<table border=\"1\" class=\"dataframe\">\n",
       "  <thead>\n",
       "    <tr style=\"text-align: right;\">\n",
       "      <th></th>\n",
       "      <th>location_id</th>\n",
       "      <th>PS_zip_list</th>\n",
       "      <th>TA</th>\n",
       "    </tr>\n",
       "  </thead>\n",
       "  <tbody>\n",
       "    <tr>\n",
       "      <th>0</th>\n",
       "      <td>1</td>\n",
       "      <td>[43206, 43207, 43227, 43110, 43068, 43125, 432...</td>\n",
       "      <td>246</td>\n",
       "    </tr>\n",
       "    <tr>\n",
       "      <th>1</th>\n",
       "      <td>1001</td>\n",
       "      <td>[37357, 38581, 37166, 37110]</td>\n",
       "      <td>245</td>\n",
       "    </tr>\n",
       "  </tbody>\n",
       "</table>\n",
       "</div>"
      ],
      "text/plain": [
       "  location_id                                        PS_zip_list   TA\n",
       "0           1  [43206, 43207, 43227, 43110, 43068, 43125, 432...  246\n",
       "1        1001                       [37357, 38581, 37166, 37110]  245"
      ]
     },
     "execution_count": 31,
     "metadata": {},
     "output_type": "execute_result"
    }
   ],
   "source": [
    "df_store_zip.head(2)"
   ]
  },
  {
   "cell_type": "code",
   "execution_count": 33,
   "metadata": {},
   "outputs": [
    {
     "data": {
      "text/html": [
       "<div>\n",
       "<style>\n",
       "    .dataframe thead tr:only-child th {\n",
       "        text-align: right;\n",
       "    }\n",
       "\n",
       "    .dataframe thead th {\n",
       "        text-align: left;\n",
       "    }\n",
       "\n",
       "    .dataframe tbody tr th {\n",
       "        vertical-align: top;\n",
       "    }\n",
       "</style>\n",
       "<table border=\"1\" class=\"dataframe\">\n",
       "  <thead>\n",
       "    <tr style=\"text-align: right;\">\n",
       "      <th></th>\n",
       "      <th>location_id</th>\n",
       "      <th>zip_cd</th>\n",
       "      <th>new_TA_name</th>\n",
       "    </tr>\n",
       "  </thead>\n",
       "  <tbody>\n",
       "    <tr>\n",
       "      <th>0</th>\n",
       "      <td>1021</td>\n",
       "      <td>38751</td>\n",
       "      <td>1</td>\n",
       "    </tr>\n",
       "    <tr>\n",
       "      <th>1</th>\n",
       "      <td>1021</td>\n",
       "      <td>38924</td>\n",
       "      <td>1</td>\n",
       "    </tr>\n",
       "  </tbody>\n",
       "</table>\n",
       "</div>"
      ],
      "text/plain": [
       "  location_id zip_cd  new_TA_name\n",
       "0        1021  38751            1\n",
       "1        1021  38924            1"
      ]
     },
     "execution_count": 33,
     "metadata": {},
     "output_type": "execute_result"
    }
   ],
   "source": [
    "df_TA_zips.head(2)"
   ]
  },
  {
   "cell_type": "code",
   "execution_count": null,
   "metadata": {
    "collapsed": true
   },
   "outputs": [],
   "source": []
  },
  {
   "cell_type": "code",
   "execution_count": 26,
   "metadata": {},
   "outputs": [
    {
     "data": {
      "text/html": [
       "<div>\n",
       "<style>\n",
       "    .dataframe thead tr:only-child th {\n",
       "        text-align: right;\n",
       "    }\n",
       "\n",
       "    .dataframe thead th {\n",
       "        text-align: left;\n",
       "    }\n",
       "\n",
       "    .dataframe tbody tr th {\n",
       "        vertical-align: top;\n",
       "    }\n",
       "</style>\n",
       "<table border=\"1\" class=\"dataframe\">\n",
       "  <thead>\n",
       "    <tr style=\"text-align: right;\">\n",
       "      <th></th>\n",
       "      <th>TA</th>\n",
       "      <th>location_id</th>\n",
       "    </tr>\n",
       "  </thead>\n",
       "  <tbody>\n",
       "    <tr>\n",
       "      <th>244</th>\n",
       "      <td>245</td>\n",
       "      <td>216</td>\n",
       "    </tr>\n",
       "    <tr>\n",
       "      <th>231</th>\n",
       "      <td>232</td>\n",
       "      <td>93</td>\n",
       "    </tr>\n",
       "    <tr>\n",
       "      <th>172</th>\n",
       "      <td>173</td>\n",
       "      <td>90</td>\n",
       "    </tr>\n",
       "    <tr>\n",
       "      <th>245</th>\n",
       "      <td>246</td>\n",
       "      <td>80</td>\n",
       "    </tr>\n",
       "    <tr>\n",
       "      <th>248</th>\n",
       "      <td>249</td>\n",
       "      <td>70</td>\n",
       "    </tr>\n",
       "    <tr>\n",
       "      <th>185</th>\n",
       "      <td>186</td>\n",
       "      <td>50</td>\n",
       "    </tr>\n",
       "    <tr>\n",
       "      <th>238</th>\n",
       "      <td>239</td>\n",
       "      <td>44</td>\n",
       "    </tr>\n",
       "    <tr>\n",
       "      <th>241</th>\n",
       "      <td>242</td>\n",
       "      <td>33</td>\n",
       "    </tr>\n",
       "    <tr>\n",
       "      <th>247</th>\n",
       "      <td>248</td>\n",
       "      <td>31</td>\n",
       "    </tr>\n",
       "    <tr>\n",
       "      <th>166</th>\n",
       "      <td>167</td>\n",
       "      <td>22</td>\n",
       "    </tr>\n",
       "  </tbody>\n",
       "</table>\n",
       "</div>"
      ],
      "text/plain": [
       "      TA  location_id\n",
       "244  245          216\n",
       "231  232           93\n",
       "172  173           90\n",
       "245  246           80\n",
       "248  249           70\n",
       "185  186           50\n",
       "238  239           44\n",
       "241  242           33\n",
       "247  248           31\n",
       "166  167           22"
      ]
     },
     "execution_count": 26,
     "metadata": {},
     "output_type": "execute_result"
    }
   ],
   "source": [
    "df_store_zip.groupby(['TA'])['location_id'].count().to_frame().reset_index().sort_values(\"location_id\",ascending=False).head(10)\n",
    "\n",
    "\n",
    "\n"
   ]
  },
  {
   "cell_type": "code",
   "execution_count": 27,
   "metadata": {},
   "outputs": [
    {
     "data": {
      "text/html": [
       "<div>\n",
       "<style>\n",
       "    .dataframe thead tr:only-child th {\n",
       "        text-align: right;\n",
       "    }\n",
       "\n",
       "    .dataframe thead th {\n",
       "        text-align: left;\n",
       "    }\n",
       "\n",
       "    .dataframe tbody tr th {\n",
       "        vertical-align: top;\n",
       "    }\n",
       "</style>\n",
       "<table border=\"1\" class=\"dataframe\">\n",
       "  <thead>\n",
       "    <tr style=\"text-align: right;\">\n",
       "      <th></th>\n",
       "      <th>location_id</th>\n",
       "      <th>PS_zip_list</th>\n",
       "      <th>TA</th>\n",
       "    </tr>\n",
       "  </thead>\n",
       "  <tbody>\n",
       "    <tr>\n",
       "      <th>0</th>\n",
       "      <td>1</td>\n",
       "      <td>[43206, 43207, 43227, 43110, 43068, 43125, 432...</td>\n",
       "      <td>246</td>\n",
       "    </tr>\n",
       "    <tr>\n",
       "      <th>1</th>\n",
       "      <td>1001</td>\n",
       "      <td>[37357, 38581, 37166, 37110]</td>\n",
       "      <td>245</td>\n",
       "    </tr>\n",
       "    <tr>\n",
       "      <th>2</th>\n",
       "      <td>1003</td>\n",
       "      <td>[30120, 30171, 30103, 30184, 30101, 30121, 301...</td>\n",
       "      <td>245</td>\n",
       "    </tr>\n",
       "    <tr>\n",
       "      <th>3</th>\n",
       "      <td>1005</td>\n",
       "      <td>[27295, 27292, 27299, 27107, 27360]</td>\n",
       "      <td>245</td>\n",
       "    </tr>\n",
       "    <tr>\n",
       "      <th>4</th>\n",
       "      <td>1006</td>\n",
       "      <td>[28467, 28470, 29569, 29597, 29588, 29554, 295...</td>\n",
       "      <td>245</td>\n",
       "    </tr>\n",
       "    <tr>\n",
       "      <th>5</th>\n",
       "      <td>1007</td>\n",
       "      <td>[66030, 66204, 66021, 66212, 66071, 66215, 662...</td>\n",
       "      <td>221</td>\n",
       "    </tr>\n",
       "    <tr>\n",
       "      <th>6</th>\n",
       "      <td>1009</td>\n",
       "      <td>[70043, 70452, 70445, 70469, 70459, 70461, 704...</td>\n",
       "      <td>208</td>\n",
       "    </tr>\n",
       "    <tr>\n",
       "      <th>7</th>\n",
       "      <td>1011</td>\n",
       "      <td>[30028, 30040, 30024, 30041, 30518, 30533, 305...</td>\n",
       "      <td>245</td>\n",
       "    </tr>\n",
       "    <tr>\n",
       "      <th>8</th>\n",
       "      <td>1012</td>\n",
       "      <td>[29016, 29063, 29204, 29206, 29229, 29044, 291...</td>\n",
       "      <td>245</td>\n",
       "    </tr>\n",
       "    <tr>\n",
       "      <th>9</th>\n",
       "      <td>1013</td>\n",
       "      <td>[27101, 27051, 27040, 27127, 27019, 27105, 271...</td>\n",
       "      <td>245</td>\n",
       "    </tr>\n",
       "    <tr>\n",
       "      <th>10</th>\n",
       "      <td>1016</td>\n",
       "      <td>[17404, 17402, 17403, 17408, 17362, 17315, 174...</td>\n",
       "      <td>239</td>\n",
       "    </tr>\n",
       "    <tr>\n",
       "      <th>11</th>\n",
       "      <td>1017</td>\n",
       "      <td>[46368, 46383, 46403, 46304, 46342, 46405, 46385]</td>\n",
       "      <td>231</td>\n",
       "    </tr>\n",
       "    <tr>\n",
       "      <th>12</th>\n",
       "      <td>1018</td>\n",
       "      <td>[16365, 14710, 14733, 14701, 14750, 14712, 147...</td>\n",
       "      <td>20</td>\n",
       "    </tr>\n",
       "    <tr>\n",
       "      <th>13</th>\n",
       "      <td>1019</td>\n",
       "      <td>[66112, 66106, 66102, 66104, 66111, 66109]</td>\n",
       "      <td>221</td>\n",
       "    </tr>\n",
       "    <tr>\n",
       "      <th>14</th>\n",
       "      <td>1020</td>\n",
       "      <td>[14609, 14622, 14621, 14613, 14605, 14612, 14617]</td>\n",
       "      <td>241</td>\n",
       "    </tr>\n",
       "    <tr>\n",
       "      <th>15</th>\n",
       "      <td>1021</td>\n",
       "      <td>[38751, 38924, 38901, 39095, 39169, 39038, 389...</td>\n",
       "      <td>1</td>\n",
       "    </tr>\n",
       "    <tr>\n",
       "      <th>16</th>\n",
       "      <td>1022</td>\n",
       "      <td>[13656, 13615, 13679, 13691, 13612, 13367, 136...</td>\n",
       "      <td>193</td>\n",
       "    </tr>\n",
       "    <tr>\n",
       "      <th>17</th>\n",
       "      <td>1027</td>\n",
       "      <td>[75479, 75489, 75092, 75414, 75491, 75459, 750...</td>\n",
       "      <td>186</td>\n",
       "    </tr>\n",
       "    <tr>\n",
       "      <th>18</th>\n",
       "      <td>1037</td>\n",
       "      <td>[64134, 64138, 64111, 64114, 64030, 64132, 641...</td>\n",
       "      <td>221</td>\n",
       "    </tr>\n",
       "    <tr>\n",
       "      <th>19</th>\n",
       "      <td>1038</td>\n",
       "      <td>[75709, 75762, 75765, 75703, 75758, 75704, 757...</td>\n",
       "      <td>186</td>\n",
       "    </tr>\n",
       "    <tr>\n",
       "      <th>20</th>\n",
       "      <td>1046</td>\n",
       "      <td>[29302, 29374, 29369, 29353, 29316, 29379, 293...</td>\n",
       "      <td>245</td>\n",
       "    </tr>\n",
       "    <tr>\n",
       "      <th>21</th>\n",
       "      <td>1049</td>\n",
       "      <td>[26105, 26181, 45742, 26104, 45750, 26143, 261...</td>\n",
       "      <td>246</td>\n",
       "    </tr>\n",
       "    <tr>\n",
       "      <th>22</th>\n",
       "      <td>1051</td>\n",
       "      <td>[70711, 70454, 70422, 70404, 70455, 70451, 704...</td>\n",
       "      <td>208</td>\n",
       "    </tr>\n",
       "    <tr>\n",
       "      <th>23</th>\n",
       "      <td>1052</td>\n",
       "      <td>[37857, 37821, 37890, 37814, 37813, 37760, 377...</td>\n",
       "      <td>245</td>\n",
       "    </tr>\n",
       "    <tr>\n",
       "      <th>24</th>\n",
       "      <td>1053</td>\n",
       "      <td>[77632, 70668, 77662, 77630, 77611]</td>\n",
       "      <td>4</td>\n",
       "    </tr>\n",
       "    <tr>\n",
       "      <th>25</th>\n",
       "      <td>1055</td>\n",
       "      <td>[44128, 44120, 44104, 44137, 44105, 44125, 44146]</td>\n",
       "      <td>249</td>\n",
       "    </tr>\n",
       "    <tr>\n",
       "      <th>26</th>\n",
       "      <td>1057</td>\n",
       "      <td>[35124, 35115, 35051, 35242, 35114, 35043, 350...</td>\n",
       "      <td>245</td>\n",
       "    </tr>\n",
       "    <tr>\n",
       "      <th>27</th>\n",
       "      <td>1058</td>\n",
       "      <td>[27530, 27569, 27520, 27577, 27527, 27576, 275...</td>\n",
       "      <td>245</td>\n",
       "    </tr>\n",
       "    <tr>\n",
       "      <th>28</th>\n",
       "      <td>1060</td>\n",
       "      <td>[74955, 74432, 74434, 74467, 74426, 74455, 744...</td>\n",
       "      <td>31</td>\n",
       "    </tr>\n",
       "    <tr>\n",
       "      <th>29</th>\n",
       "      <td>1061</td>\n",
       "      <td>[45601, 45692, 45672, 45613, 45651, 45656, 45640]</td>\n",
       "      <td>246</td>\n",
       "    </tr>\n",
       "    <tr>\n",
       "      <th>...</th>\n",
       "      <td>...</td>\n",
       "      <td>...</td>\n",
       "      <td>...</td>\n",
       "    </tr>\n",
       "    <tr>\n",
       "      <th>1359</th>\n",
       "      <td>77</td>\n",
       "      <td>[43314, 43342, 43332, 43338, 43302, 44833, 433...</td>\n",
       "      <td>246</td>\n",
       "    </tr>\n",
       "    <tr>\n",
       "      <th>1360</th>\n",
       "      <td>801</td>\n",
       "      <td>[16316, 16433, 16424, 16327, 16403, 16314, 16335]</td>\n",
       "      <td>234</td>\n",
       "    </tr>\n",
       "    <tr>\n",
       "      <th>1361</th>\n",
       "      <td>802</td>\n",
       "      <td>[36250, 36271, 35160, 36260, 36268, 36264, 362...</td>\n",
       "      <td>245</td>\n",
       "    </tr>\n",
       "    <tr>\n",
       "      <th>1362</th>\n",
       "      <td>804</td>\n",
       "      <td>[61410, 61430, 61488, 61448, 61434, 61467, 614...</td>\n",
       "      <td>235</td>\n",
       "    </tr>\n",
       "    <tr>\n",
       "      <th>1363</th>\n",
       "      <td>805</td>\n",
       "      <td>[62522, 62549, 62535, 62554, 62501, 62521, 62526]</td>\n",
       "      <td>236</td>\n",
       "    </tr>\n",
       "    <tr>\n",
       "      <th>1364</th>\n",
       "      <td>809</td>\n",
       "      <td>[30721, 30735, 30755, 30705, 30740, 30701, 30720]</td>\n",
       "      <td>245</td>\n",
       "    </tr>\n",
       "    <tr>\n",
       "      <th>1365</th>\n",
       "      <td>810</td>\n",
       "      <td>[23504, 23462, 23502, 23503, 23325, 23505, 235...</td>\n",
       "      <td>239</td>\n",
       "    </tr>\n",
       "    <tr>\n",
       "      <th>1366</th>\n",
       "      <td>811</td>\n",
       "      <td>[30019, 30011, 30519, 30044, 30024, 30518, 300...</td>\n",
       "      <td>245</td>\n",
       "    </tr>\n",
       "    <tr>\n",
       "      <th>1367</th>\n",
       "      <td>814</td>\n",
       "      <td>[47274, 47265, 47201, 47203, 47240, 46124]</td>\n",
       "      <td>248</td>\n",
       "    </tr>\n",
       "    <tr>\n",
       "      <th>1368</th>\n",
       "      <td>815</td>\n",
       "      <td>[43832, 44663, 44612, 44680, 43837, 44615, 446...</td>\n",
       "      <td>237</td>\n",
       "    </tr>\n",
       "    <tr>\n",
       "      <th>1369</th>\n",
       "      <td>819</td>\n",
       "      <td>[14544, 14561, 14450, 14469, 14548, 14424, 144...</td>\n",
       "      <td>241</td>\n",
       "    </tr>\n",
       "    <tr>\n",
       "      <th>1370</th>\n",
       "      <td>82</td>\n",
       "      <td>[24963, 25971, 24801, 24701, 24124, 25951, 247...</td>\n",
       "      <td>245</td>\n",
       "    </tr>\n",
       "    <tr>\n",
       "      <th>1371</th>\n",
       "      <td>820</td>\n",
       "      <td>[45065, 45005, 45039, 45140, 45054, 45040, 450...</td>\n",
       "      <td>246</td>\n",
       "    </tr>\n",
       "    <tr>\n",
       "      <th>1372</th>\n",
       "      <td>822</td>\n",
       "      <td>[54751, 54729, 54742, 54739, 54738, 54703, 547...</td>\n",
       "      <td>238</td>\n",
       "    </tr>\n",
       "    <tr>\n",
       "      <th>1373</th>\n",
       "      <td>823</td>\n",
       "      <td>[23602, 23601, 23666, 23608, 23185, 23606]</td>\n",
       "      <td>239</td>\n",
       "    </tr>\n",
       "    <tr>\n",
       "      <th>1374</th>\n",
       "      <td>827</td>\n",
       "      <td>[38127, 38122, 38106, 38109, 38018, 38111, 381...</td>\n",
       "      <td>240</td>\n",
       "    </tr>\n",
       "    <tr>\n",
       "      <th>1375</th>\n",
       "      <td>829</td>\n",
       "      <td>[41041, 41004, 41179, 45693, 41002, 41189, 451...</td>\n",
       "      <td>245</td>\n",
       "    </tr>\n",
       "    <tr>\n",
       "      <th>1376</th>\n",
       "      <td>83</td>\n",
       "      <td>[44052, 44055, 44053]</td>\n",
       "      <td>249</td>\n",
       "    </tr>\n",
       "    <tr>\n",
       "      <th>1377</th>\n",
       "      <td>830</td>\n",
       "      <td>[13073, 14882, 14886, 14850, 13045, 14817, 131...</td>\n",
       "      <td>241</td>\n",
       "    </tr>\n",
       "    <tr>\n",
       "      <th>1378</th>\n",
       "      <td>831</td>\n",
       "      <td>[14001, 14221, 14012, 14304, 14105, 14108, 140...</td>\n",
       "      <td>241</td>\n",
       "    </tr>\n",
       "    <tr>\n",
       "      <th>1379</th>\n",
       "      <td>833</td>\n",
       "      <td>[41144, 45638, 41102, 45680, 41169, 41129, 411...</td>\n",
       "      <td>246</td>\n",
       "    </tr>\n",
       "    <tr>\n",
       "      <th>1380</th>\n",
       "      <td>835</td>\n",
       "      <td>[48049, 48040, 48060, 48059, 48074]</td>\n",
       "      <td>242</td>\n",
       "    </tr>\n",
       "    <tr>\n",
       "      <th>1381</th>\n",
       "      <td>837</td>\n",
       "      <td>[25866, 25837, 25801, 25879, 25173, 25840, 266...</td>\n",
       "      <td>245</td>\n",
       "    </tr>\n",
       "    <tr>\n",
       "      <th>1382</th>\n",
       "      <td>838</td>\n",
       "      <td>[44606, 44217, 44654, 44287, 44676, 44667, 446...</td>\n",
       "      <td>243</td>\n",
       "    </tr>\n",
       "    <tr>\n",
       "      <th>1383</th>\n",
       "      <td>840</td>\n",
       "      <td>[39560, 39501, 39532, 39540, 39503, 39571, 395...</td>\n",
       "      <td>244</td>\n",
       "    </tr>\n",
       "    <tr>\n",
       "      <th>1384</th>\n",
       "      <td>843</td>\n",
       "      <td>[29385, 29302, 29369, 29316, 29307, 29379, 293...</td>\n",
       "      <td>245</td>\n",
       "    </tr>\n",
       "    <tr>\n",
       "      <th>1385</th>\n",
       "      <td>849</td>\n",
       "      <td>[25541, 25082, 25168, 25124, 25313, 25143, 251...</td>\n",
       "      <td>246</td>\n",
       "    </tr>\n",
       "    <tr>\n",
       "      <th>1386</th>\n",
       "      <td>86</td>\n",
       "      <td>[63033, 63138, 62035, 62012, 62025, 62010, 620...</td>\n",
       "      <td>247</td>\n",
       "    </tr>\n",
       "    <tr>\n",
       "      <th>1387</th>\n",
       "      <td>91</td>\n",
       "      <td>[46225, 46237, 46203, 46217, 46142, 46143, 461...</td>\n",
       "      <td>248</td>\n",
       "    </tr>\n",
       "    <tr>\n",
       "      <th>1388</th>\n",
       "      <td>98</td>\n",
       "      <td>[43964, 43910, 26062, 43938, 43907, 26037, 439...</td>\n",
       "      <td>249</td>\n",
       "    </tr>\n",
       "  </tbody>\n",
       "</table>\n",
       "<p>1389 rows × 3 columns</p>\n",
       "</div>"
      ],
      "text/plain": [
       "     location_id                                        PS_zip_list   TA\n",
       "0              1  [43206, 43207, 43227, 43110, 43068, 43125, 432...  246\n",
       "1           1001                       [37357, 38581, 37166, 37110]  245\n",
       "2           1003  [30120, 30171, 30103, 30184, 30101, 30121, 301...  245\n",
       "3           1005                [27295, 27292, 27299, 27107, 27360]  245\n",
       "4           1006  [28467, 28470, 29569, 29597, 29588, 29554, 295...  245\n",
       "5           1007  [66030, 66204, 66021, 66212, 66071, 66215, 662...  221\n",
       "6           1009  [70043, 70452, 70445, 70469, 70459, 70461, 704...  208\n",
       "7           1011  [30028, 30040, 30024, 30041, 30518, 30533, 305...  245\n",
       "8           1012  [29016, 29063, 29204, 29206, 29229, 29044, 291...  245\n",
       "9           1013  [27101, 27051, 27040, 27127, 27019, 27105, 271...  245\n",
       "10          1016  [17404, 17402, 17403, 17408, 17362, 17315, 174...  239\n",
       "11          1017  [46368, 46383, 46403, 46304, 46342, 46405, 46385]  231\n",
       "12          1018  [16365, 14710, 14733, 14701, 14750, 14712, 147...   20\n",
       "13          1019         [66112, 66106, 66102, 66104, 66111, 66109]  221\n",
       "14          1020  [14609, 14622, 14621, 14613, 14605, 14612, 14617]  241\n",
       "15          1021  [38751, 38924, 38901, 39095, 39169, 39038, 389...    1\n",
       "16          1022  [13656, 13615, 13679, 13691, 13612, 13367, 136...  193\n",
       "17          1027  [75479, 75489, 75092, 75414, 75491, 75459, 750...  186\n",
       "18          1037  [64134, 64138, 64111, 64114, 64030, 64132, 641...  221\n",
       "19          1038  [75709, 75762, 75765, 75703, 75758, 75704, 757...  186\n",
       "20          1046  [29302, 29374, 29369, 29353, 29316, 29379, 293...  245\n",
       "21          1049  [26105, 26181, 45742, 26104, 45750, 26143, 261...  246\n",
       "22          1051  [70711, 70454, 70422, 70404, 70455, 70451, 704...  208\n",
       "23          1052  [37857, 37821, 37890, 37814, 37813, 37760, 377...  245\n",
       "24          1053                [77632, 70668, 77662, 77630, 77611]    4\n",
       "25          1055  [44128, 44120, 44104, 44137, 44105, 44125, 44146]  249\n",
       "26          1057  [35124, 35115, 35051, 35242, 35114, 35043, 350...  245\n",
       "27          1058  [27530, 27569, 27520, 27577, 27527, 27576, 275...  245\n",
       "28          1060  [74955, 74432, 74434, 74467, 74426, 74455, 744...   31\n",
       "29          1061  [45601, 45692, 45672, 45613, 45651, 45656, 45640]  246\n",
       "...          ...                                                ...  ...\n",
       "1359          77  [43314, 43342, 43332, 43338, 43302, 44833, 433...  246\n",
       "1360         801  [16316, 16433, 16424, 16327, 16403, 16314, 16335]  234\n",
       "1361         802  [36250, 36271, 35160, 36260, 36268, 36264, 362...  245\n",
       "1362         804  [61410, 61430, 61488, 61448, 61434, 61467, 614...  235\n",
       "1363         805  [62522, 62549, 62535, 62554, 62501, 62521, 62526]  236\n",
       "1364         809  [30721, 30735, 30755, 30705, 30740, 30701, 30720]  245\n",
       "1365         810  [23504, 23462, 23502, 23503, 23325, 23505, 235...  239\n",
       "1366         811  [30019, 30011, 30519, 30044, 30024, 30518, 300...  245\n",
       "1367         814         [47274, 47265, 47201, 47203, 47240, 46124]  248\n",
       "1368         815  [43832, 44663, 44612, 44680, 43837, 44615, 446...  237\n",
       "1369         819  [14544, 14561, 14450, 14469, 14548, 14424, 144...  241\n",
       "1370          82  [24963, 25971, 24801, 24701, 24124, 25951, 247...  245\n",
       "1371         820  [45065, 45005, 45039, 45140, 45054, 45040, 450...  246\n",
       "1372         822  [54751, 54729, 54742, 54739, 54738, 54703, 547...  238\n",
       "1373         823         [23602, 23601, 23666, 23608, 23185, 23606]  239\n",
       "1374         827  [38127, 38122, 38106, 38109, 38018, 38111, 381...  240\n",
       "1375         829  [41041, 41004, 41179, 45693, 41002, 41189, 451...  245\n",
       "1376          83                              [44052, 44055, 44053]  249\n",
       "1377         830  [13073, 14882, 14886, 14850, 13045, 14817, 131...  241\n",
       "1378         831  [14001, 14221, 14012, 14304, 14105, 14108, 140...  241\n",
       "1379         833  [41144, 45638, 41102, 45680, 41169, 41129, 411...  246\n",
       "1380         835                [48049, 48040, 48060, 48059, 48074]  242\n",
       "1381         837  [25866, 25837, 25801, 25879, 25173, 25840, 266...  245\n",
       "1382         838  [44606, 44217, 44654, 44287, 44676, 44667, 446...  243\n",
       "1383         840  [39560, 39501, 39532, 39540, 39503, 39571, 395...  244\n",
       "1384         843  [29385, 29302, 29369, 29316, 29307, 29379, 293...  245\n",
       "1385         849  [25541, 25082, 25168, 25124, 25313, 25143, 251...  246\n",
       "1386          86  [63033, 63138, 62035, 62012, 62025, 62010, 620...  247\n",
       "1387          91  [46225, 46237, 46203, 46217, 46142, 46143, 461...  248\n",
       "1388          98  [43964, 43910, 26062, 43938, 43907, 26037, 439...  249\n",
       "\n",
       "[1389 rows x 3 columns]"
      ]
     },
     "execution_count": 27,
     "metadata": {},
     "output_type": "execute_result"
    }
   ],
   "source": [
    "df_store_zip"
   ]
  },
  {
   "cell_type": "code",
   "execution_count": 28,
   "metadata": {},
   "outputs": [
    {
     "data": {
      "text/plain": [
       "(1389, 3)"
      ]
     },
     "execution_count": 28,
     "metadata": {},
     "output_type": "execute_result"
    }
   ],
   "source": [
    "df_store_zip.shape"
   ]
  },
  {
   "cell_type": "code",
   "execution_count": 29,
   "metadata": {},
   "outputs": [
    {
     "data": {
      "text/html": [
       "<div>\n",
       "<style>\n",
       "    .dataframe thead tr:only-child th {\n",
       "        text-align: right;\n",
       "    }\n",
       "\n",
       "    .dataframe thead th {\n",
       "        text-align: left;\n",
       "    }\n",
       "\n",
       "    .dataframe tbody tr th {\n",
       "        vertical-align: top;\n",
       "    }\n",
       "</style>\n",
       "<table border=\"1\" class=\"dataframe\">\n",
       "  <thead>\n",
       "    <tr style=\"text-align: right;\">\n",
       "      <th></th>\n",
       "      <th>location_id</th>\n",
       "      <th>PS_zip_list</th>\n",
       "      <th>TA</th>\n",
       "    </tr>\n",
       "  </thead>\n",
       "  <tbody>\n",
       "    <tr>\n",
       "      <th>0</th>\n",
       "      <td>1</td>\n",
       "      <td>[43206, 43207, 43227, 43110, 43068, 43125, 432...</td>\n",
       "      <td>246</td>\n",
       "    </tr>\n",
       "    <tr>\n",
       "      <th>1</th>\n",
       "      <td>1001</td>\n",
       "      <td>[37357, 38581, 37166, 37110]</td>\n",
       "      <td>245</td>\n",
       "    </tr>\n",
       "  </tbody>\n",
       "</table>\n",
       "</div>"
      ],
      "text/plain": [
       "  location_id                                        PS_zip_list   TA\n",
       "0           1  [43206, 43207, 43227, 43110, 43068, 43125, 432...  246\n",
       "1        1001                       [37357, 38581, 37166, 37110]  245"
      ]
     },
     "execution_count": 29,
     "metadata": {},
     "output_type": "execute_result"
    }
   ],
   "source": [
    "df_store_zip.head(2)"
   ]
  },
  {
   "cell_type": "code",
   "execution_count": 30,
   "metadata": {},
   "outputs": [
    {
     "data": {
      "text/plain": [
       "249"
      ]
     },
     "execution_count": 30,
     "metadata": {},
     "output_type": "execute_result"
    }
   ],
   "source": [
    "df_store_zip['TA'].nunique()"
   ]
  },
  {
   "cell_type": "code",
   "execution_count": null,
   "metadata": {
    "collapsed": true
   },
   "outputs": [],
   "source": []
  },
  {
   "cell_type": "code",
   "execution_count": 107,
   "metadata": {},
   "outputs": [
    {
     "data": {
      "text/html": [
       "<div>\n",
       "<style>\n",
       "    .dataframe thead tr:only-child th {\n",
       "        text-align: right;\n",
       "    }\n",
       "\n",
       "    .dataframe thead th {\n",
       "        text-align: left;\n",
       "    }\n",
       "\n",
       "    .dataframe tbody tr th {\n",
       "        vertical-align: top;\n",
       "    }\n",
       "</style>\n",
       "<table border=\"1\" class=\"dataframe\">\n",
       "  <thead>\n",
       "    <tr style=\"text-align: right;\">\n",
       "      <th></th>\n",
       "      <th>location_id</th>\n",
       "      <th>location_desc</th>\n",
       "      <th>open_dt</th>\n",
       "      <th>close_dt</th>\n",
       "      <th>address_line_1</th>\n",
       "      <th>address_line_2</th>\n",
       "      <th>city_nm</th>\n",
       "      <th>state_nm</th>\n",
       "      <th>zip_cd</th>\n",
       "      <th>longitude_meas</th>\n",
       "      <th>latitude_meas</th>\n",
       "      <th>sales_square_feet</th>\n",
       "      <th>furniture_sales_square_feet</th>\n",
       "    </tr>\n",
       "  </thead>\n",
       "  <tbody>\n",
       "    <tr>\n",
       "      <th>100</th>\n",
       "      <td>804</td>\n",
       "      <td>NaN</td>\n",
       "      <td>1994-11-11</td>\n",
       "      <td>NaN</td>\n",
       "      <td>1280 N HENDERSON ST</td>\n",
       "      <td>NaN</td>\n",
       "      <td>GALESBURG</td>\n",
       "      <td>IL</td>\n",
       "      <td>61401-1578</td>\n",
       "      <td>-000000000090.385858</td>\n",
       "      <td>000000000040.963520</td>\n",
       "      <td>00000000021259.0000</td>\n",
       "      <td>00000000003426.0000</td>\n",
       "    </tr>\n",
       "    <tr>\n",
       "      <th>183</th>\n",
       "      <td>1289</td>\n",
       "      <td>NaN</td>\n",
       "      <td>1998-11-03</td>\n",
       "      <td>NaN</td>\n",
       "      <td>3320 AGENCY ST</td>\n",
       "      <td>NaN</td>\n",
       "      <td>BURLINGTON</td>\n",
       "      <td>IA</td>\n",
       "      <td>52601-1966</td>\n",
       "      <td>-000000000091.142883</td>\n",
       "      <td>000000000040.815678</td>\n",
       "      <td>00000000020039.0000</td>\n",
       "      <td>00000000004042.0000</td>\n",
       "    </tr>\n",
       "  </tbody>\n",
       "</table>\n",
       "</div>"
      ],
      "text/plain": [
       "    location_id location_desc     open_dt close_dt       address_line_1  \\\n",
       "100         804           NaN  1994-11-11      NaN  1280 N HENDERSON ST   \n",
       "183        1289           NaN  1998-11-03      NaN       3320 AGENCY ST   \n",
       "\n",
       "    address_line_2     city_nm state_nm      zip_cd        longitude_meas  \\\n",
       "100            NaN   GALESBURG       IL  61401-1578  -000000000090.385858   \n",
       "183            NaN  BURLINGTON       IA  52601-1966  -000000000091.142883   \n",
       "\n",
       "            latitude_meas     sales_square_feet furniture_sales_square_feet  \n",
       "100   000000000040.963520   00000000021259.0000         00000000003426.0000  \n",
       "183   000000000040.815678   00000000020039.0000         00000000004042.0000  "
      ]
     },
     "execution_count": 107,
     "metadata": {},
     "output_type": "execute_result"
    }
   ],
   "source": [
    "test_big_TA_stores=df_store_zip[df_store_zip['TA']==235]['location_id'].tolist()\n",
    "# print(test_big_TA_stores)\n",
    "store_list=pd.read_table(\"/home/jian/BigLots/static_files/Store_list/MediaStormStores20190701-134908-815.txt\",dtype=str,sep=\"|\")\n",
    "store_list[store_list['location_id'].isin(test_big_TA_stores)]"
   ]
  },
  {
   "cell_type": "code",
   "execution_count": 108,
   "metadata": {},
   "outputs": [
    {
     "data": {
      "text/plain": [
       "(2, 13)"
      ]
     },
     "execution_count": 108,
     "metadata": {},
     "output_type": "execute_result"
    }
   ],
   "source": [
    "store_list[store_list['location_id'].isin(test_big_TA_stores)].shape"
   ]
  },
  {
   "cell_type": "code",
   "execution_count": null,
   "metadata": {
    "collapsed": true
   },
   "outputs": [],
   "source": []
  }
 ],
 "metadata": {
  "kernelspec": {
   "display_name": "Python 3",
   "language": "python",
   "name": "python3"
  },
  "language_info": {
   "codemirror_mode": {
    "name": "ipython",
    "version": 3
   },
   "file_extension": ".py",
   "mimetype": "text/x-python",
   "name": "python",
   "nbconvert_exporter": "python",
   "pygments_lexer": "ipython3",
   "version": "3.6.1"
  }
 },
 "nbformat": 4,
 "nbformat_minor": 2
}
