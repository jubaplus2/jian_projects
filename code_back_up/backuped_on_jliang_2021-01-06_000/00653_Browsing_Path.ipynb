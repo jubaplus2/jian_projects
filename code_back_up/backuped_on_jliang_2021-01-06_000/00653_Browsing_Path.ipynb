{
 "cells": [
  {
   "cell_type": "code",
   "execution_count": 1,
   "metadata": {
    "collapsed": true
   },
   "outputs": [],
   "source": [
    "import pandas as pd"
   ]
  },
  {
   "cell_type": "code",
   "execution_count": 2,
   "metadata": {
    "collapsed": true
   },
   "outputs": [],
   "source": [
    "urls_JT=pd.read_excel(\"/home/jian/Projects/Big_Lots/Browsing_Path/Big Lots URL Report June 2018 JT_replaced_4.xlsx\",skip_footer=1,skiprows=20,dtype=str)\n",
    "urls_JT['Clicks']=urls_JT['Clicks'].astype(int)\n",
    "urls_JT['Impressions']=urls_JT['Impressions'].astype(int)\n",
    "\n",
    "\n",
    "\n",
    "urls_JT_FB=urls_JT.iloc[9:,:].reset_index()\n",
    "del urls_JT_FB['index']\n",
    "urls_JT_FB['url']=urls_JT_FB['Click-through URL'].apply(lambda x: x.split(\"?zcp\")[0].split(\"?SOC\")[0].split(\"zcp\")[0])\n"
   ]
  },
  {
   "cell_type": "code",
   "execution_count": 3,
   "metadata": {
    "collapsed": true
   },
   "outputs": [],
   "source": [
    "def clean_last_char(x):\n",
    "    while x[len(x)-1]==\"/\":\n",
    "        x=x[0:(len(x)-1)]\n",
    "    return x"
   ]
  },
  {
   "cell_type": "code",
   "execution_count": 4,
   "metadata": {
    "collapsed": true
   },
   "outputs": [],
   "source": [
    "urls_JT_FB['url']=urls_JT_FB['url'].apply(lambda x: clean_last_char(x))"
   ]
  },
  {
   "cell_type": "code",
   "execution_count": 5,
   "metadata": {
    "collapsed": true
   },
   "outputs": [],
   "source": [
    "urls_JT_FB_agg=urls_JT_FB.groupby(['url'])['Clicks'].sum().to_frame().reset_index().sort_values(['Clicks'],ascending=False)\n",
    "urls_JT_FB_agg_top_5=urls_JT_FB_agg.head(5)"
   ]
  },
  {
   "cell_type": "code",
   "execution_count": 9,
   "metadata": {
    "collapsed": true
   },
   "outputs": [],
   "source": [
    "writer=pd.ExcelWriter(\"/home/jian/Projects/Big_Lots/Browsing_Path/Top_5_FB_URLs.xlsx\",engine=\"xlsxwriter\")\n",
    "urls_JT_FB_agg_top_5.to_excel(writer,\"Top_5_FB\",index=False)\n",
    "urls_JT_FB_agg.to_excel(writer,\"All_FB_Urls\",index=False)\n",
    "writer.save()\n"
   ]
  },
  {
   "cell_type": "code",
   "execution_count": 8,
   "metadata": {
    "collapsed": true
   },
   "outputs": [],
   "source": [
    "urls_JT_FB_agg_top_5.to_csv(\"/home/jian/Projects/Big_Lots/Browsing_Path/Top_5_FB_URLs.csv\",index=False)"
   ]
  },
  {
   "cell_type": "code",
   "execution_count": null,
   "metadata": {
    "collapsed": true
   },
   "outputs": [],
   "source": []
  }
 ],
 "metadata": {
  "kernelspec": {
   "display_name": "Python 3",
   "language": "python",
   "name": "python3"
  },
  "language_info": {
   "codemirror_mode": {
    "name": "ipython",
    "version": 3
   },
   "file_extension": ".py",
   "mimetype": "text/x-python",
   "name": "python",
   "nbconvert_exporter": "python",
   "pygments_lexer": "ipython3",
   "version": "3.6.1"
  }
 },
 "nbformat": 4,
 "nbformat_minor": 2
}
