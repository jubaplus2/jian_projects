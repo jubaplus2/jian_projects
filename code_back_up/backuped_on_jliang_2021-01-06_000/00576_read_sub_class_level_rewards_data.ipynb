{
 "cells": [
  {
   "cell_type": "code",
   "execution_count": 1,
   "metadata": {
    "collapsed": true
   },
   "outputs": [],
   "source": [
    "import pandas as pd\n",
    "import glob\n",
    "import os\n",
    "import datetime\n",
    "import numpy as np"
   ]
  },
  {
   "cell_type": "code",
   "execution_count": 2,
   "metadata": {
    "collapsed": true
   },
   "outputs": [],
   "source": [
    "def recrusive_file_gen(root_path):\n",
    "    for root,dirs,files in os.walk(root_path):\n",
    "        for file in files:\n",
    "            yield os.path.join(root,file)"
   ]
  },
  {
   "cell_type": "code",
   "execution_count": 3,
   "metadata": {},
   "outputs": [
    {
     "name": "stdout",
     "output_type": "stream",
     "text": [
      "(70, 2)\n",
      "2018-06-09\n"
     ]
    }
   ],
   "source": [
    "historical_daily=glob.glob(\"/home/jian/BigLots/hist_daily_data_subclasslevel/*.txt\")\n",
    "historical_daily_df=pd.DataFrame({\"file_path\":historical_daily})\n",
    "historical_daily_df['date']=historical_daily_df['file_path'].apply(lambda x: x.split(\"vel/MediaStormDailySales_week_ending_\")[1][:10])\n",
    "historical_daily_df=historical_daily_df[historical_daily_df['date']>=\"2017-02-05\"]\n",
    "print(historical_daily_df.shape)\n",
    "print(historical_daily_df['date'].max())"
   ]
  },
  {
   "cell_type": "code",
   "execution_count": 4,
   "metadata": {},
   "outputs": [
    {
     "name": "stdout",
     "output_type": "stream",
     "text": [
      "(29, 2)\n",
      "2018-12-29\n"
     ]
    }
   ],
   "source": [
    "daily_2018=list(recrusive_file_gen(\"/home/jian/BigLots/2018_by_weeks/\"))\n",
    "daily_2018=[x for x in daily_2018 if (\"aily\" in x) & (\".txt\" in x)]\n",
    "\n",
    "daily_2018_df=pd.DataFrame({\"file_path\":daily_2018})\n",
    "\n",
    "daily_2018_df['date']=daily_2018_df['file_path'].apply(lambda x: x.split(\"2018_by_weeks/MediaStorm_\")[1][:10])\n",
    "\n",
    "daily_2018_df=daily_2018_df[daily_2018_df['date']>\"2018-06-09\"]\n",
    "\n",
    "print(daily_2018_df.shape)\n",
    "print(daily_2018_df['date'].max())\n"
   ]
  },
  {
   "cell_type": "code",
   "execution_count": 5,
   "metadata": {},
   "outputs": [
    {
     "name": "stdout",
     "output_type": "stream",
     "text": [
      "(5, 2)\n",
      "2019-02-02\n"
     ]
    }
   ],
   "source": [
    "daily_2019=list(recrusive_file_gen(\"/home/jian/BigLots/2019_by_weeks/\"))\n",
    "daily_2019=[x for x in daily_2019 if (\"aily\" in x) & (\".txt\" in x)]\n",
    "\n",
    "daily_2019_df=pd.DataFrame({\"file_path\":daily_2019})\n",
    "\n",
    "daily_2019_df['date']=daily_2019_df['file_path'].apply(lambda x: x.split(\"2019_by_weeks/MediaStorm_\")[1][:10])\n",
    "\n",
    "daily_2019_df=daily_2019_df[daily_2019_df['date']<=\"2019-02-02\"]\n",
    "\n",
    "print(daily_2019_df.shape)\n",
    "print(daily_2019_df['date'].max())"
   ]
  },
  {
   "cell_type": "code",
   "execution_count": 6,
   "metadata": {},
   "outputs": [
    {
     "data": {
      "text/plain": [
       "104"
      ]
     },
     "execution_count": 6,
     "metadata": {},
     "output_type": "execute_result"
    }
   ],
   "source": [
    "all_file=historical_daily_df['file_path'].tolist()+daily_2018_df['file_path'].tolist()+daily_2019_df['file_path'].tolist()\n",
    "len(all_file)\n"
   ]
  },
  {
   "cell_type": "code",
   "execution_count": 9,
   "metadata": {},
   "outputs": [
    {
     "name": "stdout",
     "output_type": "stream",
     "text": [
      "2019-04-30 21:44:35.087113 0\n",
      "2019-04-30 21:44:35.087733 1\n",
      "2019-04-30 21:45:05.531883 1\n",
      "2019-04-30 21:45:27.522751 2\n",
      "2019-04-30 21:45:49.346422 3\n",
      "2019-04-30 21:46:14.148736 4\n",
      "2019-04-30 21:46:35.826028 5\n",
      "2019-04-30 21:48:02.974756 6\n",
      "2019-04-30 21:48:57.871506 7\n",
      "2019-04-30 21:50:38.695453 8\n",
      "2019-04-30 21:51:02.313541 9\n",
      "2019-04-30 21:51:46.647000 10\n",
      "2019-04-30 21:51:46.647554 11\n",
      "2019-04-30 21:53:19.955063 11\n",
      "2019-04-30 21:54:13.118526 12\n",
      "2019-04-30 21:57:46.143607 13\n",
      "2019-04-30 21:59:10.210961 14\n",
      "2019-04-30 22:01:46.155430 15\n",
      "2019-04-30 22:02:30.143238 16\n",
      "2019-04-30 22:06:16.164097 17\n",
      "2019-04-30 22:06:38.105922 18\n",
      "2019-04-30 22:07:41.094893 19\n",
      "2019-04-30 22:08:39.675186 20\n",
      "2019-04-30 22:08:39.675699 21\n",
      "2019-04-30 22:10:22.579631 21\n",
      "2019-04-30 22:11:30.805384 22\n",
      "2019-04-30 22:14:07.052012 23\n",
      "2019-04-30 22:16:10.410664 24\n",
      "2019-04-30 22:16:50.813826 25\n",
      "2019-04-30 22:17:39.713993 26\n",
      "2019-04-30 22:18:59.518955 27\n",
      "2019-04-30 22:19:56.485787 28\n",
      "2019-04-30 22:22:01.069203 29\n",
      "2019-04-30 22:24:26.974609 30\n",
      "2019-04-30 22:24:26.975459 31\n",
      "2019-04-30 22:25:05.567396 31\n",
      "2019-04-30 22:29:52.069787 32\n",
      "2019-04-30 22:31:24.537209 33\n",
      "2019-04-30 22:34:04.542155 34\n",
      "2019-04-30 22:35:17.812537 35\n",
      "2019-04-30 22:36:17.460413 36\n",
      "2019-04-30 22:36:50.852356 37\n",
      "2019-04-30 22:37:27.977715 38\n",
      "2019-04-30 22:38:57.261551 39\n",
      "2019-04-30 22:39:38.335615 40\n",
      "2019-04-30 22:39:38.336253 41\n",
      "2019-04-30 22:40:12.768697 41\n",
      "2019-04-30 22:40:44.170324 42\n",
      "2019-04-30 22:41:18.151235 43\n",
      "2019-04-30 22:42:14.124449 44\n",
      "2019-04-30 22:42:43.351415 45\n",
      "2019-04-30 22:43:14.193275 46\n",
      "2019-04-30 22:43:42.974735 47\n",
      "2019-04-30 22:44:10.868210 48\n",
      "2019-04-30 22:44:38.531542 49\n",
      "2019-04-30 22:45:06.458025 50\n",
      "2019-04-30 22:45:06.458619 51\n",
      "2019-04-30 22:45:35.473437 51\n",
      "2019-04-30 22:46:04.983726 52\n",
      "2019-04-30 22:46:34.168929 53\n",
      "2019-04-30 22:47:04.738382 54\n",
      "2019-04-30 22:47:33.275897 55\n",
      "2019-04-30 22:48:02.076757 56\n",
      "2019-04-30 22:48:28.335802 57\n",
      "2019-04-30 22:48:59.143006 58\n",
      "2019-04-30 22:49:47.763217 59\n",
      "2019-04-30 22:50:11.429438 60\n",
      "2019-04-30 22:50:11.431172 61\n",
      "2019-04-30 22:50:38.511727 61\n",
      "2019-04-30 22:53:01.475853 62\n",
      "2019-04-30 22:53:34.752468 63\n",
      "2019-04-30 22:53:57.176415 64\n",
      "2019-04-30 22:54:18.696469 65\n",
      "2019-04-30 22:54:39.430050 66\n",
      "2019-04-30 22:55:05.579913 67\n",
      "2019-04-30 22:55:27.158222 68\n",
      "2019-04-30 22:55:56.642299 69\n",
      "2019-04-30 22:56:29.510453 70\n",
      "2019-04-30 22:56:29.511128 71\n",
      "2019-04-30 22:56:52.454791 71\n",
      "2019-04-30 22:57:27.461906 72\n",
      "2019-04-30 22:58:14.125237 73\n",
      "2019-04-30 22:58:45.650756 74\n",
      "2019-04-30 22:59:17.745577 75\n",
      "2019-04-30 22:59:49.884868 76\n",
      "2019-04-30 23:00:41.927994 77\n",
      "2019-04-30 23:01:14.901902 78\n",
      "2019-04-30 23:01:46.079432 79\n",
      "2019-04-30 23:02:39.542674 80\n",
      "2019-04-30 23:02:39.551392 81\n",
      "2019-04-30 23:03:19.866853 81\n",
      "2019-04-30 23:03:57.142367 82\n",
      "2019-04-30 23:04:23.987730 83\n",
      "2019-04-30 23:05:01.888413 84\n",
      "2019-04-30 23:05:27.103220 85\n",
      "2019-04-30 23:06:04.642488 86\n",
      "2019-04-30 23:06:29.626791 87\n",
      "2019-04-30 23:07:03.524450 88\n",
      "2019-04-30 23:07:36.667122 89\n",
      "2019-04-30 23:08:10.842315 90\n",
      "2019-04-30 23:08:10.842949 91\n",
      "2019-04-30 23:08:39.239128 91\n",
      "2019-04-30 23:09:12.373809 92\n",
      "2019-04-30 23:09:57.741766 93\n",
      "2019-04-30 23:10:41.533757 94\n",
      "2019-04-30 23:11:27.874641 95\n",
      "2019-04-30 23:12:23.737215 96\n",
      "2019-04-30 23:13:01.840420 97\n",
      "2019-04-30 23:13:48.329725 98\n",
      "2019-04-30 23:14:19.791599 99\n",
      "2019-04-30 23:14:47.453619 100\n",
      "2019-04-30 23:14:47.454270 101\n",
      "2019-04-30 23:15:17.323818 101\n",
      "2019-04-30 23:15:49.702207 102\n",
      "2019-04-30 23:16:13.680060 103\n"
     ]
    }
   ],
   "source": [
    "i_counter=0\n",
    "df_rewards_summary=pd.DataFrame()\n",
    "for file in all_file:\n",
    "    df=pd.read_csv(file,sep=\"|\",dtype=str,usecols=['location_id','transaction_dt','customer_id_hashed','subclass_transaction_amt'])\n",
    "    df['subclass_transaction_amt']=df['subclass_transaction_amt'].astype(float)\n",
    "    df=df[df['location_id']!=\"6990\"]\n",
    "    del df['location_id']\n",
    "    df_date_max=df['transaction_dt'].max()\n",
    "    df_date_min=df['transaction_dt'].min()\n",
    "    \n",
    "    df['rewards_label']=np.where(pd.isnull(df['customer_id_hashed']),\"Non_Rewards\",\"Rewards\")\n",
    "    del df['transaction_dt']\n",
    "    del df['customer_id_hashed']\n",
    "    # Sales only\n",
    "    df=df.groupby(['rewards_label'])['subclass_transaction_amt'].sum().to_frame().reset_index()\n",
    "    \n",
    "    df['week_start']=df_date_min\n",
    "    df['week_end']=df_date_max\n",
    "    \n",
    "    df_rewards_summary=df_rewards_summary.append(df)\n",
    "    print(datetime.datetime.now(),i_counter)\n",
    "    \n",
    "    i_counter+=1\n",
    "    \n",
    "    if i_counter%10==1:\n",
    "        print(datetime.datetime.now(),i_counter)\n",
    "        \n",
    "    "
   ]
  },
  {
   "cell_type": "code",
   "execution_count": 10,
   "metadata": {},
   "outputs": [
    {
     "data": {
      "text/plain": [
       "(208, 4)"
      ]
     },
     "execution_count": 10,
     "metadata": {},
     "output_type": "execute_result"
    }
   ],
   "source": [
    "df_rewards_summary.shape"
   ]
  },
  {
   "cell_type": "code",
   "execution_count": 11,
   "metadata": {},
   "outputs": [
    {
     "data": {
      "text/plain": [
       "'/home/jian/Projects/Big_Lots/Analysis/2019_Q1/Planner_Request/Jian_Checking_Friend_and_Family_Dates'"
      ]
     },
     "execution_count": 11,
     "metadata": {},
     "output_type": "execute_result"
    }
   ],
   "source": [
    "os.getcwd()"
   ]
  },
  {
   "cell_type": "code",
   "execution_count": 12,
   "metadata": {
    "collapsed": true
   },
   "outputs": [],
   "source": [
    "df_rewards_summary.to_csv(\"/home/jian/Projects/Big_Lots/Analysis/2019_Q1/Planner_Request/Jian_Checking_Friend_and_Family_Dates/rewards_sales_in_MMM_JL_0430.csv\",index=False)"
   ]
  },
  {
   "cell_type": "code",
   "execution_count": null,
   "metadata": {
    "collapsed": true
   },
   "outputs": [],
   "source": [
    "df_rewards_summary['rewards_ratio']=df_rewards_summary"
   ]
  },
  {
   "cell_type": "code",
   "execution_count": 14,
   "metadata": {},
   "outputs": [
    {
     "data": {
      "text/html": [
       "<div>\n",
       "<style>\n",
       "    .dataframe thead tr:only-child th {\n",
       "        text-align: right;\n",
       "    }\n",
       "\n",
       "    .dataframe thead th {\n",
       "        text-align: left;\n",
       "    }\n",
       "\n",
       "    .dataframe tbody tr th {\n",
       "        vertical-align: top;\n",
       "    }\n",
       "</style>\n",
       "<table border=\"1\" class=\"dataframe\">\n",
       "  <thead>\n",
       "    <tr style=\"text-align: right;\">\n",
       "      <th></th>\n",
       "      <th>rewards_label</th>\n",
       "      <th>subclass_transaction_amt</th>\n",
       "      <th>week_start</th>\n",
       "      <th>week_end</th>\n",
       "    </tr>\n",
       "  </thead>\n",
       "  <tbody>\n",
       "    <tr>\n",
       "      <th>0</th>\n",
       "      <td>Non_Rewards</td>\n",
       "      <td>3.173442e+07</td>\n",
       "      <td>2017-08-20</td>\n",
       "      <td>2017-08-26</td>\n",
       "    </tr>\n",
       "    <tr>\n",
       "      <th>1</th>\n",
       "      <td>Rewards</td>\n",
       "      <td>4.645362e+07</td>\n",
       "      <td>2017-08-20</td>\n",
       "      <td>2017-08-26</td>\n",
       "    </tr>\n",
       "    <tr>\n",
       "      <th>0</th>\n",
       "      <td>Non_Rewards</td>\n",
       "      <td>3.499755e+07</td>\n",
       "      <td>2017-10-22</td>\n",
       "      <td>2017-10-28</td>\n",
       "    </tr>\n",
       "    <tr>\n",
       "      <th>1</th>\n",
       "      <td>Rewards</td>\n",
       "      <td>4.809804e+07</td>\n",
       "      <td>2017-10-22</td>\n",
       "      <td>2017-10-28</td>\n",
       "    </tr>\n",
       "    <tr>\n",
       "      <th>0</th>\n",
       "      <td>Non_Rewards</td>\n",
       "      <td>3.298405e+07</td>\n",
       "      <td>2017-10-15</td>\n",
       "      <td>2017-10-21</td>\n",
       "    </tr>\n",
       "    <tr>\n",
       "      <th>1</th>\n",
       "      <td>Rewards</td>\n",
       "      <td>4.714253e+07</td>\n",
       "      <td>2017-10-15</td>\n",
       "      <td>2017-10-21</td>\n",
       "    </tr>\n",
       "  </tbody>\n",
       "</table>\n",
       "</div>"
      ],
      "text/plain": [
       "  rewards_label  subclass_transaction_amt  week_start    week_end\n",
       "0   Non_Rewards              3.173442e+07  2017-08-20  2017-08-26\n",
       "1       Rewards              4.645362e+07  2017-08-20  2017-08-26\n",
       "0   Non_Rewards              3.499755e+07  2017-10-22  2017-10-28\n",
       "1       Rewards              4.809804e+07  2017-10-22  2017-10-28\n",
       "0   Non_Rewards              3.298405e+07  2017-10-15  2017-10-21\n",
       "1       Rewards              4.714253e+07  2017-10-15  2017-10-21"
      ]
     },
     "execution_count": 14,
     "metadata": {},
     "output_type": "execute_result"
    }
   ],
   "source": [
    "df_rewards_summary.head(6)"
   ]
  },
  {
   "cell_type": "code",
   "execution_count": 29,
   "metadata": {},
   "outputs": [],
   "source": [
    "df_rewards_summary_wide=df_rewards_summary.pivot(index='week_start',columns='rewards_label',values='subclass_transaction_amt').reset_index()\n",
    "df_rewards_summary_wide=df_rewards_summary_wide.sort_values('week_start')\n",
    "df_rewards_summary_wide['total']=df_rewards_summary_wide['Rewards']+df_rewards_summary_wide['Non_Rewards']\n",
    "df_rewards_summary_wide['rewards_ratio']=df_rewards_summary_wide['Rewards']/df_rewards_summary_wide['total']\n"
   ]
  },
  {
   "cell_type": "code",
   "execution_count": 31,
   "metadata": {},
   "outputs": [],
   "source": [
    "df_rewards_summary_wide.to_csv(\"/home/jian/Projects/Big_Lots/Analysis/2019_Q1/Planner_Request/Jian_Checking_Friend_and_Family_Dates/wide_rewards_sales_in_MMM_JL_0430.csv\",index=False)"
   ]
  },
  {
   "cell_type": "code",
   "execution_count": 26,
   "metadata": {},
   "outputs": [
    {
     "data": {
      "text/plain": [
       "0.597306789247094"
      ]
     },
     "execution_count": 26,
     "metadata": {},
     "output_type": "execute_result"
    }
   ],
   "source": [
    "4.458004/(4.458004+3.005504)"
   ]
  },
  {
   "cell_type": "code",
   "execution_count": null,
   "metadata": {
    "collapsed": true
   },
   "outputs": [],
   "source": []
  }
 ],
 "metadata": {
  "kernelspec": {
   "display_name": "Python 3",
   "language": "python",
   "name": "python3"
  },
  "language_info": {
   "codemirror_mode": {
    "name": "ipython",
    "version": 3
   },
   "file_extension": ".py",
   "mimetype": "text/x-python",
   "name": "python",
   "nbconvert_exporter": "python",
   "pygments_lexer": "ipython3",
   "version": "3.6.1"
  }
 },
 "nbformat": 4,
 "nbformat_minor": 2
}
