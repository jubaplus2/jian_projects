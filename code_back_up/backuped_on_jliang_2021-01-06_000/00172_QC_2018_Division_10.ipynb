{
 "cells": [
  {
   "cell_type": "code",
   "execution_count": 1,
   "metadata": {},
   "outputs": [
    {
     "data": {
      "text/plain": [
       "'/home/jian/Projects/Big_Lots/Analysis/2019_Q3/Projection_est_in_Q3'"
      ]
     },
     "execution_count": 1,
     "metadata": {},
     "output_type": "execute_result"
    }
   ],
   "source": [
    "import pandas as pd\n",
    "import numpy as np\n",
    "import datetime\n",
    "import os\n",
    "import gc\n",
    "import glob\n",
    "\n",
    "os.getcwd()"
   ]
  },
  {
   "cell_type": "code",
   "execution_count": 2,
   "metadata": {},
   "outputs": [
    {
     "data": {
      "text/plain": [
       "13"
      ]
     },
     "execution_count": 2,
     "metadata": {},
     "output_type": "execute_result"
    }
   ],
   "source": [
    "sales_file_2018Q3=glob.glob(\"/home/jian/BigLots/hist_daily_data_itemlevel_decompressed/*.txt\")\n",
    "sales_file_2018Q3=[x for x in sales_file_2018Q3 if x.split(\"MediaStormDailySalesHistory\")[1][:8]>\"20180804\" and x.split(\"MediaStormDailySalesHistory\")[1][:8]<=\"20181103\"]\n",
    "len(sales_file_2018Q3)"
   ]
  },
  {
   "cell_type": "code",
   "execution_count": 3,
   "metadata": {},
   "outputs": [
    {
     "data": {
      "text/plain": [
       "(23, 3)"
      ]
     },
     "execution_count": 3,
     "metadata": {},
     "output_type": "execute_result"
    }
   ],
   "source": [
    "df_product_taxonomy=pd.read_table(\"/home/jian/BigLots/static_files/ProductTaxonomy/MediaStormProductTaxonomy20190901-135942-034.txt\",\n",
    "                                 sep=\"|\",dtype=str)\n",
    "df_product_taxonomy=df_product_taxonomy[['division_id','department_id','class_code_id']].drop_duplicates()\n",
    "df_product_taxonomy=df_product_taxonomy[df_product_taxonomy['division_id']==\"10\"]\n",
    "df_product_taxonomy.shape"
   ]
  },
  {
   "cell_type": "code",
   "execution_count": 10,
   "metadata": {},
   "outputs": [
    {
     "name": "stdout",
     "output_type": "stream",
     "text": [
      "2019-09-16 15:08:59.612785 0 (60715, 8) (73505, 8)\n",
      "2019-09-16 15:11:38.695804 1 (122957, 8) (145461, 8)\n",
      "2019-09-16 15:14:15.508870 2 (185229, 8) (216911, 8)\n",
      "2019-09-16 15:16:50.128704 3 (247729, 8) (288383, 8)\n",
      "2019-09-16 15:19:20.215272 4 (312451, 8) (362393, 8)\n",
      "2019-09-16 15:21:43.359832 5 (374014, 8) (432231, 8)\n",
      "2019-09-16 15:23:54.706508 6 (436084, 8) (503230, 8)\n",
      "2019-09-16 15:27:15.398823 7 (513135, 8) (565720, 8)\n",
      "2019-09-16 15:30:37.805232 8 (588051, 8) (649721, 8)\n",
      "2019-09-16 15:32:56.042342 9 (652217, 8) (726850, 8)\n",
      "2019-09-16 15:35:16.229397 10 (716451, 8) (802980, 8)\n",
      "2019-09-16 15:37:45.852889 11 (780812, 8) (878659, 8)\n",
      "2019-09-16 15:40:51.751743 12 (846309, 8) (955394, 8)\n"
     ]
    },
    {
     "data": {
      "text/plain": [
       "105"
      ]
     },
     "execution_count": 10,
     "metadata": {},
     "output_type": "execute_result"
    }
   ],
   "source": [
    "# Division 10 only\n",
    "\n",
    "df_agg_POS_data_2018Q3_rewards=pd.DataFrame()\n",
    "df_agg_POS_data_2018Q3_nonrewards=pd.DataFrame()\n",
    "\n",
    "i_counter=0\n",
    "for file in sales_file_2018Q3:\n",
    "    df=pd.read_table(file,dtype=str,sep=\"|\",usecols=['location_id','transaction_dt','transaction_id','customer_id_hashed',\n",
    "                                                    'class_code_id','subclass_id','item_transaction_units','item_transaction_amt'])\n",
    "    df=pd.merge(df,df_product_taxonomy,on=\"class_code_id\",how=\"inner\")\n",
    "    df['item_transaction_units']=df['item_transaction_units'].astype(int)\n",
    "    df['item_transaction_amt']=df['item_transaction_amt'].astype(float)\n",
    "    df['customer_id_hashed']=df['customer_id_hashed'].fillna(\"non_rewarsd\")\n",
    "    \n",
    "    df=df.groupby(['location_id','transaction_dt','transaction_id','customer_id_hashed','class_code_id','subclass_id'])['item_transaction_units','item_transaction_amt'].sum().reset_index()\n",
    "    \n",
    "    df_r=df[df['customer_id_hashed']!=\"non_rewarsd\"]\n",
    "    df_non_r=df[df['customer_id_hashed']==\"non_rewarsd\"]\n",
    "\n",
    "    df_agg_POS_data_2018Q3_rewards=df_agg_POS_data_2018Q3_rewards.append(df_r)\n",
    "    df_agg_POS_data_2018Q3_nonrewards=df_agg_POS_data_2018Q3_nonrewards.append(df_non_r)\n",
    "    \n",
    "    print(datetime.datetime.now(),i_counter,df_agg_POS_data_2018Q3_rewards.shape,df_agg_POS_data_2018Q3_nonrewards.shape)\n",
    "    i_counter+=1\n",
    "del df_agg_POS_data_2018Q3_nonrewards['customer_id_hashed']\n",
    "gc.collect()"
   ]
  },
  {
   "cell_type": "code",
   "execution_count": 45,
   "metadata": {},
   "outputs": [
    {
     "data": {
      "text/plain": [
       "(2291230.5100000002, 2137183.9099999997)"
      ]
     },
     "execution_count": 45,
     "metadata": {},
     "output_type": "execute_result"
    }
   ],
   "source": [
    "df_agg_POS_data_2018Q3_rewards['item_transaction_amt'].sum(),df_agg_POS_data_2018Q3_nonrewards['item_transaction_amt'].sum()"
   ]
  },
  {
   "cell_type": "code",
   "execution_count": 53,
   "metadata": {},
   "outputs": [],
   "source": [
    "df_agg_rewards=df_agg_POS_data_2018Q3_rewards.groupby(['class_code_id','subclass_id','transaction_dt'])['item_transaction_amt'].sum().to_frame().reset_index()\n",
    "df_agg_nonrewards=df_agg_POS_data_2018Q3_nonrewards.groupby(['class_code_id','subclass_id','transaction_dt'])['item_transaction_amt'].sum().to_frame().reset_index()\n"
   ]
  },
  {
   "cell_type": "code",
   "execution_count": 54,
   "metadata": {},
   "outputs": [],
   "source": [
    "df_agg_rewards['rewards_level']=\"rewards\"\n",
    "df_agg_nonrewards['rewards_level']=\"nonrewards\""
   ]
  },
  {
   "cell_type": "code",
   "execution_count": 55,
   "metadata": {},
   "outputs": [],
   "source": [
    "df_total_18Q3_div10=df_agg_rewards.append(df_agg_nonrewards)\n",
    "df_total_18Q3_div10=pd.merge(df_total_18Q3_div10,df_product_taxonomy,on=\"class_code_id\",how=\"left\")\n"
   ]
  },
  {
   "cell_type": "code",
   "execution_count": 56,
   "metadata": {},
   "outputs": [],
   "source": [
    "div_name=pd.read_table(\"/home/jian/BigLots/static_files/MediaStorm Data Extract - Division Names.txt\",sep=\"|\",dtype=str).drop_duplicates()\n",
    "dept_name=pd.read_table(\"/home/jian/BigLots/static_files/MediaStorm Data Extract - Department Names.txt\",sep=\"|\",dtype=str).drop_duplicates()\n",
    "class_name=pd.read_table(\"/home/jian/BigLots/static_files/MediaStorm Data Extract - Class Names.txt\",sep=\"|\",dtype=str,encoding=\"ISO-8859-1\").drop_duplicates()\n",
    "subclass_name=pd.read_table(\"/home/jian/BigLots/static_files/MediaStorm Data Extract - Subclass Names.txt\",sep=\"|\",dtype=str,encoding=\"ISO-8859-1\").drop_duplicates()\n"
   ]
  },
  {
   "cell_type": "code",
   "execution_count": 57,
   "metadata": {},
   "outputs": [
    {
     "data": {
      "text/plain": [
       "(2919, 11)"
      ]
     },
     "execution_count": 57,
     "metadata": {},
     "output_type": "execute_result"
    }
   ],
   "source": [
    "df_total_18Q3_div10=pd.merge(df_total_18Q3_div10,div_name,on=\"division_id\",how=\"left\")\n",
    "df_total_18Q3_div10=pd.merge(df_total_18Q3_div10,dept_name,on=\"department_id\",how=\"left\")\n",
    "df_total_18Q3_div10=pd.merge(df_total_18Q3_div10,class_name,on=\"class_code_id\",how=\"left\")\n",
    "df_total_18Q3_div10=pd.merge(df_total_18Q3_div10,subclass_name,on=[\"class_code_id\",\"subclass_id\"],how=\"left\")\n",
    "df_total_18Q3_div10.shape"
   ]
  },
  {
   "cell_type": "code",
   "execution_count": 58,
   "metadata": {},
   "outputs": [
    {
     "data": {
      "text/plain": [
       "4428414.4200000046"
      ]
     },
     "execution_count": 58,
     "metadata": {},
     "output_type": "execute_result"
    }
   ],
   "source": [
    "df_total_18Q3_div10['item_transaction_amt'].sum()"
   ]
  },
  {
   "cell_type": "code",
   "execution_count": 64,
   "metadata": {},
   "outputs": [],
   "source": [
    "df_5_weeks_only=df_total_18Q3_div10[df_total_18Q3_div10['transaction_dt']<=\"2018-09-08\"]"
   ]
  },
  {
   "cell_type": "code",
   "execution_count": 65,
   "metadata": {},
   "outputs": [],
   "source": [
    "writer=pd.ExcelWriter(\"./QC_2018Division_10_JL_\"+str(datetime.datetime.now().date())+\".xlsx\",engine=\"xlsxwriter\")\n",
    "df_5_weeks_only.to_excel(writer,\"df_5_weeks_only\",index=False)\n",
    "df_total_18Q3_div10.to_excel(writer,\"df_13_weeks_all\",index=False)\n",
    "writer.save()"
   ]
  },
  {
   "cell_type": "code",
   "execution_count": null,
   "metadata": {
    "collapsed": true
   },
   "outputs": [],
   "source": []
  }
 ],
 "metadata": {
  "kernelspec": {
   "display_name": "Python 3",
   "language": "python",
   "name": "python3"
  },
  "language_info": {
   "codemirror_mode": {
    "name": "ipython",
    "version": 3
   },
   "file_extension": ".py",
   "mimetype": "text/x-python",
   "name": "python",
   "nbconvert_exporter": "python",
   "pygments_lexer": "ipython3",
   "version": "3.6.1"
  }
 },
 "nbformat": 4,
 "nbformat_minor": 2
}
