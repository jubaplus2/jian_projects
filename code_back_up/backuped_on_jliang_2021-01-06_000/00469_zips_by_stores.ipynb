{
 "cells": [
  {
   "cell_type": "code",
   "execution_count": 1,
   "metadata": {
    "collapsed": true
   },
   "outputs": [],
   "source": [
    "import pandas as pd\n",
    "import numpy as np\n",
    "import os\n",
    "import datetime\n",
    "from haversine import haversine\n",
    "import json\n",
    "\n",
    "\n",
    "os.getcwd()\n",
    "\n",
    "zip_centers=json.load(open(\"/home/jian/Docs/Geo_mapping/updated_zip_centers_JL_2019-05-23.json\",\"r\"))"
   ]
  },
  {
   "cell_type": "code",
   "execution_count": 2,
   "metadata": {},
   "outputs": [
    {
     "data": {
      "text/plain": [
       "['Test Design',\n",
       " '2019 SOTF Lists by Wave',\n",
       " 'Flight Summary',\n",
       " '2018 SOTF Openings',\n",
       " 'Store List March 2019']"
      ]
     },
     "execution_count": 2,
     "metadata": {},
     "output_type": "execute_result"
    }
   ],
   "source": [
    "excel_file=pd.ExcelFile(\"/home/jian/Projects/Big_Lots/Analysis/2019_Q2/Planner_Requests/zips_list_for_Xiao_test/BL SOTF Invest Level Test Brief Tables 20190510.xlsx\")\n",
    "excel_file.sheet_names\n"
   ]
  },
  {
   "cell_type": "code",
   "execution_count": 3,
   "metadata": {},
   "outputs": [
    {
     "data": {
      "text/html": [
       "<div>\n",
       "<style>\n",
       "    .dataframe thead tr:only-child th {\n",
       "        text-align: right;\n",
       "    }\n",
       "\n",
       "    .dataframe thead th {\n",
       "        text-align: left;\n",
       "    }\n",
       "\n",
       "    .dataframe tbody tr th {\n",
       "        vertical-align: top;\n",
       "    }\n",
       "</style>\n",
       "<table border=\"1\" class=\"dataframe\">\n",
       "  <thead>\n",
       "    <tr style=\"text-align: right;\">\n",
       "      <th></th>\n",
       "      <th>location_id</th>\n",
       "      <th>ST</th>\n",
       "      <th>zip_cd</th>\n",
       "    </tr>\n",
       "  </thead>\n",
       "  <tbody>\n",
       "    <tr>\n",
       "      <th>0</th>\n",
       "      <td>3</td>\n",
       "      <td>GA</td>\n",
       "      <td>30906</td>\n",
       "    </tr>\n",
       "    <tr>\n",
       "      <th>1</th>\n",
       "      <td>30</td>\n",
       "      <td>OH</td>\n",
       "      <td>43402</td>\n",
       "    </tr>\n",
       "  </tbody>\n",
       "</table>\n",
       "</div>"
      ],
      "text/plain": [
       "  location_id  ST zip_cd\n",
       "0           3  GA  30906\n",
       "1          30  OH  43402"
      ]
     },
     "execution_count": 3,
     "metadata": {},
     "output_type": "execute_result"
    }
   ],
   "source": [
    "store_list_SFTP=pd.read_table(\"/home/jian/BigLots/static_files/Store_list/MediaStormStores20190501-135143-036.txt\",\n",
    "                              sep=\"|\",dtype=str,usecols=['location_id','zip_cd','state_nm'])\n",
    "store_list_SFTP=store_list_SFTP.drop_duplicates()\n",
    "store_list_SFTP['zip_cd']=store_list_SFTP['zip_cd'].apply(lambda x: x.split(\"-\")[0].zfill(5))\n",
    "store_list_SFTP=store_list_SFTP.rename(columns={\"state_nm\":\"ST\"})\n",
    "store_list_SFTP.head(2)\n"
   ]
  },
  {
   "cell_type": "code",
   "execution_count": 4,
   "metadata": {
    "collapsed": true
   },
   "outputs": [],
   "source": [
    "DMA_zips_nielsen=pd.read_excel(\"/home/jian/Docs/Geo_mapping/Zips by DMA by County16-17 nielsen.xlsx\",\n",
    "                               dtype=str,skiprows=1,usecols=[0,2])\n",
    "DMA_zips_nielsen=DMA_zips_nielsen.drop_duplicates().rename(columns={\"CODE\":\"zip_cd\",\"NAME\":\"Market\"})\n",
    "sorted(DMA_zips_nielsen['Market'].unique().tolist())\n",
    "DMA_zips_nielsen=DMA_zips_nielsen[DMA_zips_nielsen['Market'].isin(['PHOENIX (PRESCOTT)','AUSTIN'])]\n",
    "stores_Phe_Aus=pd.merge(store_list_SFTP,DMA_zips_nielsen,on=\"zip_cd\",how=\"left\")\n",
    "stores_Phe_Aus=stores_Phe_Aus[~pd.isnull(stores_Phe_Aus['Market'])]"
   ]
  },
  {
   "cell_type": "code",
   "execution_count": 5,
   "metadata": {},
   "outputs": [
    {
     "data": {
      "text/plain": [
       "(9, 1)"
      ]
     },
     "execution_count": 5,
     "metadata": {},
     "output_type": "execute_result"
    }
   ],
   "source": [
    "long_island_stores=excel_file.parse(\"Store List March 2019\",dtype=str)\n",
    "long_island_stores['Added_DMA_JL']=long_island_stores['Added_DMA_JL'].fillna(\"nan\")\n",
    "long_island_stores=long_island_stores[long_island_stores['Added_DMA_JL'].str.contains(\"Long Island\")]\n",
    "long_island_stores=long_island_stores[['Store']].drop_duplicates().rename(columns={\"Store\":\"location_id\"})\n",
    "long_island_stores.shape"
   ]
  },
  {
   "cell_type": "code",
   "execution_count": 6,
   "metadata": {
    "collapsed": true
   },
   "outputs": [],
   "source": [
    "long_island_stores=pd.merge(long_island_stores,store_list_SFTP[['location_id','zip_cd','ST']],on=\"location_id\",how=\"left\")\n",
    "long_island_stores['Market']=\"Long Island\""
   ]
  },
  {
   "cell_type": "code",
   "execution_count": 7,
   "metadata": {
    "collapsed": true
   },
   "outputs": [],
   "source": [
    "output_1_DMAs=stores_Phe_Aus.append(long_island_stores)\n",
    "\n",
    "SOTF_labels=excel_file.parse(\"Store List March 2019\",dtype=str,usecols=['Store','SOTF']).rename(columns={\"Store\":\"location_id\"})\n",
    "SOTF_labels=SOTF_labels[pd.notnull(SOTF_labels['location_id'])]\n",
    "output_1_DMAs=pd.merge(output_1_DMAs,SOTF_labels,on=\"location_id\",how=\"left\")\n",
    "output_1_DMAs=output_1_DMAs.rename(columns={\"zip_cd\":\"store_zip\"})"
   ]
  },
  {
   "cell_type": "code",
   "execution_count": 8,
   "metadata": {
    "collapsed": true
   },
   "outputs": [],
   "source": [
    "output_2_July_GO=excel_file.parse(\"2019 SOTF Lists by Wave\",dtype=str,usecols=[26,27,28],skiprows=1)\n",
    "output_2_July_GO.columns=['location_id','Market','ST']\n",
    "output_2_July_GO['SOTF']=\"G.O. 0726\"\n",
    "output_2_July_GO=pd.merge(output_2_July_GO,store_list_SFTP[['location_id','zip_cd']],on=\"location_id\",how=\"left\").rename(columns={\"zip_cd\":\"store_zip\"})"
   ]
  },
  {
   "cell_type": "code",
   "execution_count": 9,
   "metadata": {},
   "outputs": [
    {
     "name": "stderr",
     "output_type": "stream",
     "text": [
      "/usr/local/lib/python3.6/site-packages/ipykernel_launcher.py:9: SettingWithCopyWarning: \n",
      "A value is trying to be set on a copy of a slice from a DataFrame.\n",
      "Try using .loc[row_indexer,col_indexer] = value instead\n",
      "\n",
      "See the caveats in the documentation: http://pandas.pydata.org/pandas-docs/stable/indexing.html#indexing-view-versus-copy\n",
      "  if __name__ == '__main__':\n"
     ]
    }
   ],
   "source": [
    "missing_store_zips={}\n",
    "missing_store_zips.update({\"4699\":\"91803\"})\n",
    "missing_store_zips.update({\"4679\":\"48864\"})\n",
    "missing_store_zips.update({\"5392\":\"07652\"})\n",
    "missing_store_zips.update({\"4668\":\"26651\"})\n",
    "\n",
    "output_2_July_GO_0=output_2_July_GO[pd.notnull(output_2_July_GO['store_zip'])]\n",
    "output_2_July_GO_1=output_2_July_GO[pd.isnull(output_2_July_GO['store_zip'])]\n",
    "output_2_July_GO_1['store_zip']=output_2_July_GO_1['location_id'].apply(lambda x: missing_store_zips[x])\n",
    "\n",
    "output_2_July_GO=output_2_July_GO_0.append(output_2_July_GO_1)"
   ]
  },
  {
   "cell_type": "code",
   "execution_count": 10,
   "metadata": {
    "collapsed": true
   },
   "outputs": [],
   "source": [
    "df_all_interested_stores=output_1_DMAs.append(output_2_July_GO)"
   ]
  },
  {
   "cell_type": "code",
   "execution_count": 11,
   "metadata": {},
   "outputs": [
    {
     "data": {
      "text/html": [
       "<div>\n",
       "<style>\n",
       "    .dataframe thead tr:only-child th {\n",
       "        text-align: right;\n",
       "    }\n",
       "\n",
       "    .dataframe thead th {\n",
       "        text-align: left;\n",
       "    }\n",
       "\n",
       "    .dataframe tbody tr th {\n",
       "        vertical-align: top;\n",
       "    }\n",
       "</style>\n",
       "<table border=\"1\" class=\"dataframe\">\n",
       "  <thead>\n",
       "    <tr style=\"text-align: right;\">\n",
       "      <th></th>\n",
       "      <th>Market</th>\n",
       "      <th>SOTF</th>\n",
       "      <th>ST</th>\n",
       "      <th>location_id</th>\n",
       "      <th>store_zip</th>\n",
       "      <th>longitude_meas</th>\n",
       "      <th>latitude_meas</th>\n",
       "    </tr>\n",
       "  </thead>\n",
       "  <tbody>\n",
       "    <tr>\n",
       "      <th>114</th>\n",
       "      <td>ALHAMBRA, CA</td>\n",
       "      <td>G.O. 0726</td>\n",
       "      <td>CA</td>\n",
       "      <td>4699</td>\n",
       "      <td>91803</td>\n",
       "      <td>NaN</td>\n",
       "      <td>NaN</td>\n",
       "    </tr>\n",
       "    <tr>\n",
       "      <th>115</th>\n",
       "      <td>OKEMOS, MI</td>\n",
       "      <td>G.O. 0726</td>\n",
       "      <td>MI</td>\n",
       "      <td>4679</td>\n",
       "      <td>48864</td>\n",
       "      <td>NaN</td>\n",
       "      <td>NaN</td>\n",
       "    </tr>\n",
       "    <tr>\n",
       "      <th>116</th>\n",
       "      <td>PARAMUS, NJ</td>\n",
       "      <td>G.O. 0726</td>\n",
       "      <td>NJ</td>\n",
       "      <td>5392</td>\n",
       "      <td>07652</td>\n",
       "      <td>NaN</td>\n",
       "      <td>NaN</td>\n",
       "    </tr>\n",
       "    <tr>\n",
       "      <th>117</th>\n",
       "      <td>SUMMERSVILLE, WV</td>\n",
       "      <td>G.O. 0726</td>\n",
       "      <td>WV</td>\n",
       "      <td>4668</td>\n",
       "      <td>26651</td>\n",
       "      <td>NaN</td>\n",
       "      <td>NaN</td>\n",
       "    </tr>\n",
       "  </tbody>\n",
       "</table>\n",
       "</div>"
      ],
      "text/plain": [
       "               Market       SOTF  ST location_id store_zip  longitude_meas  \\\n",
       "114      ALHAMBRA, CA  G.O. 0726  CA        4699     91803             NaN   \n",
       "115        OKEMOS, MI  G.O. 0726  MI        4679     48864             NaN   \n",
       "116       PARAMUS, NJ  G.O. 0726  NJ        5392     07652             NaN   \n",
       "117  SUMMERSVILLE, WV  G.O. 0726  WV        4668     26651             NaN   \n",
       "\n",
       "     latitude_meas  \n",
       "114            NaN  \n",
       "115            NaN  \n",
       "116            NaN  \n",
       "117            NaN  "
      ]
     },
     "execution_count": 11,
     "metadata": {},
     "output_type": "execute_result"
    }
   ],
   "source": [
    "store_lat_lng=pd.read_table(\"/home/jian/BigLots/static_files/Store_list/MediaStormStores20190501-135143-036.txt\",\n",
    "                              sep=\"|\",dtype=str,usecols=['location_id','latitude_meas','longitude_meas'])\n",
    "store_lat_lng['latitude_meas']=store_lat_lng['latitude_meas'].astype(float)\n",
    "store_lat_lng['longitude_meas']=store_lat_lng['longitude_meas'].astype(float)\n",
    "\n",
    "df_all_interested_stores=pd.merge(df_all_interested_stores,store_lat_lng,on=\"location_id\",how=\"left\")\n",
    "df_google_latlng=df_all_interested_stores[pd.isnull(df_all_interested_stores['latitude_meas'])]\n",
    "df_google_latlng"
   ]
  },
  {
   "cell_type": "code",
   "execution_count": 12,
   "metadata": {},
   "outputs": [
    {
     "name": "stderr",
     "output_type": "stream",
     "text": [
      "/usr/local/lib/python3.6/site-packages/ipykernel_launcher.py:21: SettingWithCopyWarning: \n",
      "A value is trying to be set on a copy of a slice from a DataFrame.\n",
      "Try using .loc[row_indexer,col_indexer] = value instead\n",
      "\n",
      "See the caveats in the documentation: http://pandas.pydata.org/pandas-docs/stable/indexing.html#indexing-view-versus-copy\n",
      "/usr/local/lib/python3.6/site-packages/ipykernel_launcher.py:22: SettingWithCopyWarning: \n",
      "A value is trying to be set on a copy of a slice from a DataFrame.\n",
      "Try using .loc[row_indexer,col_indexer] = value instead\n",
      "\n",
      "See the caveats in the documentation: http://pandas.pydata.org/pandas-docs/stable/indexing.html#indexing-view-versus-copy\n"
     ]
    },
    {
     "data": {
      "text/plain": [
       "(118, 7)"
      ]
     },
     "execution_count": 12,
     "metadata": {},
     "output_type": "execute_result"
    }
   ],
   "source": [
    "new_store_add_dict={}\n",
    "# 4699 \t\t2500 WEST COMMONWEALTH AVENUE\tFREMONT PLAZA\tALHAMBRA\tCA\t91803\n",
    "new_store_add_dict.update({\"4699\":{\"google_address\":\"2500 W Commonwealth Ave, Alhambra, CA 91803\",\n",
    "                                   \"google_lat_lng\":[34.0860813,-118.151011]}})\n",
    "\n",
    "# 4679 \t\t2020 W. GRAND RIVER AVE\tBEST BUY CENTER\tOKEMOS\tMI\t48864-1776\n",
    "new_store_add_dict.update({\"4679\":{\"google_address\":\"2020 W Grand River Rd, Okemos, MI 48864\",\n",
    "                                   \"google_lat_lng\":[42.7234646,-84.4235839]}})\n",
    "\n",
    "# 5392 \t\t634 N. STATE RT. 17\tTOYS R US CENTER\tPARAMUS\tNJ\t07652-3114\n",
    "new_store_add_dict.update({\"5392\":{\"google_address\":\"634 E Ridgewood Ave, Paramus, NJ 07652\",\n",
    "                                   \"google_lat_lng\":[40.9638559,-74.0761499]}})\n",
    "\n",
    "# 4668 \t\t197 MECHANTS WALK\tMERCHANTS WALK SHOPPING CENTER\tSUMMERSVILLE\tWV\t26651\n",
    "new_store_add_dict.update({\"4668\":{\"google_address\":\"197 Merchant Walk, Summersville, WV 26651\",\n",
    "                                   \"google_lat_lng\":[38.2983025,-80.8343841]}})\n",
    "\n",
    "\n",
    "df_all_interested_stores_0=df_all_interested_stores[pd.notnull(df_all_interested_stores['latitude_meas'])]\n",
    "df_all_interested_stores_1=df_all_interested_stores[pd.isnull(df_all_interested_stores['latitude_meas'])]\n",
    "df_all_interested_stores_1['latitude_meas']=df_all_interested_stores_1['location_id'].apply(lambda x: new_store_add_dict[x]['google_lat_lng'][0])\n",
    "df_all_interested_stores_1['longitude_meas']=df_all_interested_stores_1['location_id'].apply(lambda x: new_store_add_dict[x]['google_lat_lng'][1])\n",
    "\n",
    "df_all_interested_stores=df_all_interested_stores_0.append(df_all_interested_stores_1)\n",
    "df_all_interested_stores.shape"
   ]
  },
  {
   "cell_type": "code",
   "execution_count": 13,
   "metadata": {
    "collapsed": true
   },
   "outputs": [],
   "source": [
    "store_level_zips=pd.read_csv(\"/home/jian/Projects/Big_Lots/New_TA/zips_in_new_ta/sales_by_zip (Store level).csv\",\n",
    "                             dtype=str,usecols=['location_id','revenue_flag','zip'])\n",
    "store_level_zips=store_level_zips[store_level_zips['revenue_flag'].isin(['P','S'])]\n",
    "df_all_interested_stores=pd.merge(df_all_interested_stores,store_level_zips,on=\"location_id\",how=\"left\")\n",
    "\n",
    "df_all_interested_stores_old=df_all_interested_stores[pd.notnull(df_all_interested_stores['revenue_flag'])]\n",
    "df_all_interested_stores_new=df_all_interested_stores[pd.isnull(df_all_interested_stores['revenue_flag'])]\n"
   ]
  },
  {
   "cell_type": "code",
   "execution_count": 14,
   "metadata": {
    "collapsed": true
   },
   "outputs": [],
   "source": [
    "del df_all_interested_stores_new['zip']\n",
    "del df_all_interested_stores_new['revenue_flag']\n",
    "df_all_interested_stores_new=df_all_interested_stores_new.reset_index()\n",
    "del df_all_interested_stores_new['index']\n",
    "\n",
    "df_all_new_zips=pd.DataFrame()\n",
    "for ind,row in df_all_interested_stores_new.iterrows():\n",
    "    location_id=row['location_id']\n",
    "    store_center=(row['latitude_meas'],row['longitude_meas'])\n",
    "    for zip_cd in zip_centers.keys():\n",
    "        dist=haversine(store_center,zip_centers[zip_cd],miles=True)\n",
    "        if dist<=10:\n",
    "            df=pd.DataFrame({\"location_id\":location_id,\"zip\":zip_cd,\"revenue_flag\":\"zip_in_10\",\"dist_miles\":dist},index=[location_id])\n",
    "            df_all_new_zips=df_all_new_zips.append(df)\n",
    "            \n",
    "    "
   ]
  },
  {
   "cell_type": "code",
   "execution_count": 15,
   "metadata": {
    "collapsed": true
   },
   "outputs": [],
   "source": [
    "df_all_interested_stores_new=pd.merge(df_all_interested_stores_new,df_all_new_zips,on=\"location_id\",how=\"left\")"
   ]
  },
  {
   "cell_type": "code",
   "execution_count": 16,
   "metadata": {
    "collapsed": true
   },
   "outputs": [],
   "source": [
    "df_all_interested_stores_old=df_all_interested_stores_old.reset_index()\n",
    "del df_all_interested_stores_old['index']\n",
    "df_all_interested_stores_old['dist_miles']=np.nan\n",
    "for ind,row in df_all_interested_stores_old.iterrows():\n",
    "    zip_cd=row['zip']\n",
    "    store_center=(row['latitude_meas'],row['longitude_meas'])\n",
    "    try:\n",
    "        dist=haversine(store_center,zip_centers[zip_cd],miles=True)\n",
    "        df_all_interested_stores_old.loc[ind,'dist_miles']=dist\n",
    "    except:\n",
    "        df_all_interested_stores_old.loc[ind,'dist_miles']=np.nan\n",
    "        \n",
    "df_all_interested_stores_old=df_all_interested_stores_old[(df_all_interested_stores_old['revenue_flag']==\"P\") | (df_all_interested_stores_old['dist_miles']<20)]"
   ]
  },
  {
   "cell_type": "code",
   "execution_count": 17,
   "metadata": {},
   "outputs": [
    {
     "name": "stdout",
     "output_type": "stream",
     "text": [
      "(976, 10)\n",
      "(1434, 10)\n"
     ]
    },
    {
     "data": {
      "text/plain": [
       "'/home/jian/Projects/Big_Lots/Analysis/2019_Q2/Planner_Requests/zips_list_for_Xiao_test'"
      ]
     },
     "execution_count": 17,
     "metadata": {},
     "output_type": "execute_result"
    }
   ],
   "source": [
    "df_all=df_all_interested_stores_old.append(df_all_interested_stores_new).sort_values([\"Market\",'SOTF','location_id'])\n",
    "col_orders=['location_id','Market','ST','SOTF','store_zip','latitude_meas','longitude_meas','revenue_flag','zip','dist_miles']\n",
    "df_all=df_all[col_orders]\n",
    "\n",
    "\n",
    "df_output_1=df_all[df_all['SOTF']!=\"G.O. 0726\"]\n",
    "df_output_2=df_all[df_all['SOTF']==\"G.O. 0726\"]\n",
    "print(df_output_1.shape)\n",
    "print(df_output_2.shape)\n",
    "df_all_wide=df_all.groupby(['location_id','Market','ST','SOTF','store_zip','latitude_meas','longitude_meas'])['zip'].apply(set).to_frame().reset_index()\n",
    "\n",
    "os.getcwd()"
   ]
  },
  {
   "cell_type": "code",
   "execution_count": 23,
   "metadata": {
    "collapsed": true
   },
   "outputs": [],
   "source": [
    "writer=pd.ExcelWriter(\"/home/jian/Projects/Big_Lots/Analysis/2019_Q2/Planner_Requests/zips_list_for_Xiao_test/BL_zips_for_test_stores_JL_\"+str(datetime.datetime.now().date())+\".xlsx\",engine=\"xlsxwriter\")\n",
    "\n",
    "df_output_1.to_excel(writer,\"df_1_3_Mkts\",index=False)\n",
    "df_output_2.to_excel(writer,\"df_2_GO_SOTF_0726\",index=False)\n",
    "\n",
    "df_all_wide=df_all.groupby(['location_id','Market','ST','SOTF','store_zip','latitude_meas','longitude_meas'])['zip'].apply(set).to_frame().reset_index()\n",
    "df_all_wide.to_excel(writer,\"wide_by_store\",index=False)\n",
    "\n",
    "writer.save()"
   ]
  },
  {
   "cell_type": "code",
   "execution_count": 21,
   "metadata": {},
   "outputs": [],
   "source": []
  },
  {
   "cell_type": "code",
   "execution_count": null,
   "metadata": {
    "collapsed": true
   },
   "outputs": [],
   "source": []
  }
 ],
 "metadata": {
  "kernelspec": {
   "display_name": "Python 3",
   "language": "python",
   "name": "python3"
  },
  "language_info": {
   "codemirror_mode": {
    "name": "ipython",
    "version": 3
   },
   "file_extension": ".py",
   "mimetype": "text/x-python",
   "name": "python",
   "nbconvert_exporter": "python",
   "pygments_lexer": "ipython3",
   "version": "3.6.1"
  }
 },
 "nbformat": 4,
 "nbformat_minor": 2
}
