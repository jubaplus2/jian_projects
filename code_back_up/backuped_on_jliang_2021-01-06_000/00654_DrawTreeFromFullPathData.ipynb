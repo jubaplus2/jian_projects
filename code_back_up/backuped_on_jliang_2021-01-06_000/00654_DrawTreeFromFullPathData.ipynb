{
 "cells": [
  {
   "cell_type": "code",
   "execution_count": 4,
   "metadata": {},
   "outputs": [],
   "source": [
    "import pandas as pd\n",
    "import ete3\n",
    "import os"
   ]
  },
  {
   "cell_type": "code",
   "execution_count": 8,
   "metadata": {},
   "outputs": [],
   "source": [
    "if not os.path.exists(\"/home/jian/Projects/LIFT/SEM/Original_hour_2017-09-25_2017-10-03.csv\"):\n",
    "    os.mkdir(\"/home/jian/Projects/LIFT/SEM/try\")"
   ]
  },
  {
   "cell_type": "code",
   "execution_count": 22,
   "metadata": {
    "collapsed": true
   },
   "outputs": [],
   "source": [
    "data=pd.read_csv(\"/home/jian/Projects/Big_Lots/Browsing_Path/Full Paths Report for BigLots.com Commerce (Prod) - June 2018.csv\",skiprows=23)\n",
    "data=data.iloc[:,[0,1,2]]\n",
    "data.columns=['Group','Site','Visits']\n",
    "data=data.reset_index().rename(columns={\"index\":\"row_num\"})\n",
    "data.index=data['Group']\n",
    "data_dict_df=data[~pd.isnull(data['Group'])]"
   ]
  },
  {
   "cell_type": "code",
   "execution_count": 23,
   "metadata": {
    "collapsed": true
   },
   "outputs": [],
   "source": [
    "group_row_dict=data_dict_df[['row_num']].T.to_dict()"
   ]
  },
  {
   "cell_type": "code",
   "execution_count": 27,
   "metadata": {},
   "outputs": [
    {
     "data": {
      "text/plain": [
       "50000.0"
      ]
     },
     "execution_count": 27,
     "metadata": {},
     "output_type": "execute_result"
    }
   ],
   "source": [
    "max(list(group_row_dict.keys()))"
   ]
  },
  {
   "cell_type": "code",
   "execution_count": 14,
   "metadata": {},
   "outputs": [
    {
     "data": {
      "text/html": [
       "<div>\n",
       "<style>\n",
       "    .dataframe thead tr:only-child th {\n",
       "        text-align: right;\n",
       "    }\n",
       "\n",
       "    .dataframe thead th {\n",
       "        text-align: left;\n",
       "    }\n",
       "\n",
       "    .dataframe tbody tr th {\n",
       "        vertical-align: top;\n",
       "    }\n",
       "</style>\n",
       "<table border=\"1\" class=\"dataframe\">\n",
       "  <thead>\n",
       "    <tr style=\"text-align: right;\">\n",
       "      <th></th>\n",
       "      <th>index</th>\n",
       "      <th>Site</th>\n",
       "      <th>Visits</th>\n",
       "    </tr>\n",
       "  </thead>\n",
       "  <tbody>\n",
       "    <tr>\n",
       "      <th>0</th>\n",
       "      <td>1.0</td>\n",
       "      <td>Entered Site</td>\n",
       "      <td>445936.0</td>\n",
       "    </tr>\n",
       "    <tr>\n",
       "      <th>1</th>\n",
       "      <td>NaN</td>\n",
       "      <td>weekly-ad</td>\n",
       "      <td>NaN</td>\n",
       "    </tr>\n",
       "    <tr>\n",
       "      <th>2</th>\n",
       "      <td>NaN</td>\n",
       "      <td>Exited Site</td>\n",
       "      <td>NaN</td>\n",
       "    </tr>\n",
       "    <tr>\n",
       "      <th>3</th>\n",
       "      <td>2.0</td>\n",
       "      <td>Entered Site</td>\n",
       "      <td>414645.0</td>\n",
       "    </tr>\n",
       "    <tr>\n",
       "      <th>4</th>\n",
       "      <td>NaN</td>\n",
       "      <td>home</td>\n",
       "      <td>NaN</td>\n",
       "    </tr>\n",
       "    <tr>\n",
       "      <th>5</th>\n",
       "      <td>NaN</td>\n",
       "      <td>Exited Site</td>\n",
       "      <td>NaN</td>\n",
       "    </tr>\n",
       "    <tr>\n",
       "      <th>6</th>\n",
       "      <td>3.0</td>\n",
       "      <td>Entered Site</td>\n",
       "      <td>221813.0</td>\n",
       "    </tr>\n",
       "    <tr>\n",
       "      <th>7</th>\n",
       "      <td>NaN</td>\n",
       "      <td>home</td>\n",
       "      <td>NaN</td>\n",
       "    </tr>\n",
       "    <tr>\n",
       "      <th>8</th>\n",
       "      <td>NaN</td>\n",
       "      <td>search</td>\n",
       "      <td>NaN</td>\n",
       "    </tr>\n",
       "    <tr>\n",
       "      <th>9</th>\n",
       "      <td>NaN</td>\n",
       "      <td>Exited Site</td>\n",
       "      <td>NaN</td>\n",
       "    </tr>\n",
       "  </tbody>\n",
       "</table>\n",
       "</div>"
      ],
      "text/plain": [
       "   index          Site    Visits\n",
       "0    1.0  Entered Site  445936.0\n",
       "1    NaN     weekly-ad       NaN\n",
       "2    NaN   Exited Site       NaN\n",
       "3    2.0  Entered Site  414645.0\n",
       "4    NaN          home       NaN\n",
       "5    NaN   Exited Site       NaN\n",
       "6    3.0  Entered Site  221813.0\n",
       "7    NaN          home       NaN\n",
       "8    NaN        search       NaN\n",
       "9    NaN   Exited Site       NaN"
      ]
     },
     "execution_count": 14,
     "metadata": {},
     "output_type": "execute_result"
    }
   ],
   "source": [
    "for k in range(data['index'].max()):\n",
    "    k_num=k+1\n",
    "    df="
   ]
  },
  {
   "cell_type": "code",
   "execution_count": 15,
   "metadata": {},
   "outputs": [
    {
     "data": {
      "text/html": [
       "<div>\n",
       "<style>\n",
       "    .dataframe thead tr:only-child th {\n",
       "        text-align: right;\n",
       "    }\n",
       "\n",
       "    .dataframe thead th {\n",
       "        text-align: left;\n",
       "    }\n",
       "\n",
       "    .dataframe tbody tr th {\n",
       "        vertical-align: top;\n",
       "    }\n",
       "</style>\n",
       "<table border=\"1\" class=\"dataframe\">\n",
       "  <thead>\n",
       "    <tr style=\"text-align: right;\">\n",
       "      <th></th>\n",
       "      <th>index</th>\n",
       "      <th>Site</th>\n",
       "      <th>Visits</th>\n",
       "    </tr>\n",
       "  </thead>\n",
       "  <tbody>\n",
       "    <tr>\n",
       "      <th>252124</th>\n",
       "      <td>49999.0</td>\n",
       "      <td>Entered Site</td>\n",
       "      <td>8.0</td>\n",
       "    </tr>\n",
       "    <tr>\n",
       "      <th>252125</th>\n",
       "      <td>NaN</td>\n",
       "      <td>category:outdoor:pools &amp;amp; accessories</td>\n",
       "      <td>NaN</td>\n",
       "    </tr>\n",
       "    <tr>\n",
       "      <th>252126</th>\n",
       "      <td>NaN</td>\n",
       "      <td>pdp:p810304549</td>\n",
       "      <td>NaN</td>\n",
       "    </tr>\n",
       "    <tr>\n",
       "      <th>252127</th>\n",
       "      <td>NaN</td>\n",
       "      <td>pdp:p810373402</td>\n",
       "      <td>NaN</td>\n",
       "    </tr>\n",
       "    <tr>\n",
       "      <th>252128</th>\n",
       "      <td>NaN</td>\n",
       "      <td>Exited Site</td>\n",
       "      <td>NaN</td>\n",
       "    </tr>\n",
       "    <tr>\n",
       "      <th>252129</th>\n",
       "      <td>50000.0</td>\n",
       "      <td>Entered Site</td>\n",
       "      <td>8.0</td>\n",
       "    </tr>\n",
       "    <tr>\n",
       "      <th>252130</th>\n",
       "      <td>NaN</td>\n",
       "      <td>category:outdoor:pools &amp;amp; accessories</td>\n",
       "      <td>NaN</td>\n",
       "    </tr>\n",
       "    <tr>\n",
       "      <th>252131</th>\n",
       "      <td>NaN</td>\n",
       "      <td>pdp:p810337686</td>\n",
       "      <td>NaN</td>\n",
       "    </tr>\n",
       "    <tr>\n",
       "      <th>252132</th>\n",
       "      <td>NaN</td>\n",
       "      <td>pdp:p810337685</td>\n",
       "      <td>NaN</td>\n",
       "    </tr>\n",
       "    <tr>\n",
       "      <th>252133</th>\n",
       "      <td>NaN</td>\n",
       "      <td>Exited Site</td>\n",
       "      <td>NaN</td>\n",
       "    </tr>\n",
       "  </tbody>\n",
       "</table>\n",
       "</div>"
      ],
      "text/plain": [
       "          index                                      Site  Visits\n",
       "252124  49999.0                              Entered Site     8.0\n",
       "252125      NaN  category:outdoor:pools &amp; accessories     NaN\n",
       "252126      NaN                            pdp:p810304549     NaN\n",
       "252127      NaN                            pdp:p810373402     NaN\n",
       "252128      NaN                               Exited Site     NaN\n",
       "252129  50000.0                              Entered Site     8.0\n",
       "252130      NaN  category:outdoor:pools &amp; accessories     NaN\n",
       "252131      NaN                            pdp:p810337686     NaN\n",
       "252132      NaN                            pdp:p810337685     NaN\n",
       "252133      NaN                               Exited Site     NaN"
      ]
     },
     "execution_count": 15,
     "metadata": {},
     "output_type": "execute_result"
    }
   ],
   "source": [
    "data.tail(10)"
   ]
  },
  {
   "cell_type": "code",
   "execution_count": null,
   "metadata": {
    "collapsed": true
   },
   "outputs": [],
   "source": []
  }
 ],
 "metadata": {
  "kernelspec": {
   "display_name": "Python 3",
   "language": "python",
   "name": "python3"
  },
  "language_info": {
   "codemirror_mode": {
    "name": "ipython",
    "version": 3
   },
   "file_extension": ".py",
   "mimetype": "text/x-python",
   "name": "python",
   "nbconvert_exporter": "python",
   "pygments_lexer": "ipython3",
   "version": "3.6.1"
  }
 },
 "nbformat": 4,
 "nbformat_minor": 2
}
