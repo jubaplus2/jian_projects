{
 "cells": [
  {
   "cell_type": "code",
   "execution_count": 1,
   "metadata": {
    "collapsed": true
   },
   "outputs": [],
   "source": [
    "# Objective: Keep the dimension of zone (combination of newspaper and zone_id) and remove the dimension of target stores\n",
    "# With the same exclusion cretioria: \n",
    "#   a) 1 event only - removed \n",
    "#   b) keep all the stores when it is/was open\n",
    "#   c) total circ != 0\n",
    "#   d) the same inclusion stores (recently open in April 2018) & circ stores are before the disappare of the weekly sales\n",
    "import pandas as pd\n",
    "import glob\n",
    "import numpy as np\n",
    "import datetime\n",
    "import logging\n",
    "import re\n",
    "import os\n",
    "import gc\n",
    "today_str=str(datetime.datetime.now().date())\n",
    "writer_folder=\"/home/jian/Projects/Big_Lots/Newspaper/zone_zip_level_output_\"+today_str+\"/\"\n",
    "try:\n",
    "    os.stat(writer_folder)\n",
    "except:\n",
    "    os.mkdir(writer_folder)\n",
    "    \n",
    "logging.basicConfig(filename='read_all_newspaper_'+today_str+'_files.log', level=logging.INFO)"
   ]
  },
  {
   "cell_type": "code",
   "execution_count": 2,
   "metadata": {
    "collapsed": true
   },
   "outputs": [],
   "source": [
    "start_running=str(datetime.datetime.now())\n",
    "logging.info(\"Newspaper level - Start to run: \"+ start_running)\n",
    "\n",
    "folder=\"/home/jian/Projects/Big_Lots/Newspaper/All newspaper files for reading JL/\"\n",
    "\n",
    "file_list=glob.glob(folder+\"*\")\n",
    "logging.info(\"Newspaper level - Total files: \"+str(len(file_list)))\n",
    "\n",
    "Selected_Col=['projectname','storeid','productid','zoneid','zips','totalcirc']\n",
    "output_combined_all_date=pd.DataFrame()\n",
    "check_df=pd.DataFrame()\n",
    "finished=[]"
   ]
  },
  {
   "cell_type": "code",
   "execution_count": 3,
   "metadata": {
    "collapsed": true
   },
   "outputs": [],
   "source": [
    "recent_52_weeks_files_list=[]\n",
    "for file in file_list:           \n",
    "    date=file.split(\"/\")[len(file.split(\"/\"))-1].split(\" \")[0]+\" \"+file.split(\"/\")[len(file.split(\"/\"))-1].split(\" \")[1]+\" \"+\\\n",
    "    file.split(\"/\")[len(file.split(\"/\"))-1].split(\" \")[2]\n",
    "    date=date.replace(\"Sept\",\"Sep\")\n",
    "\n",
    "    if len(date.split(\" \")[0])==3:\n",
    "        date=datetime.datetime.strptime(date,\"%b %d %Y\").date()\n",
    "    else:\n",
    "        date=datetime.datetime.strptime(date,\"%B %d %Y\").date()\n",
    "    if date>datetime.date(2017,5,10):\n",
    "    \n",
    "        recent_52_weeks_files_list=recent_52_weeks_files_list+[file]\n",
    "file_list=recent_52_weeks_files_list\n",
    "# Update the file list into the most recent 52 weeks events"
   ]
  },
  {
   "cell_type": "code",
   "execution_count": 4,
   "metadata": {
    "collapsed": true
   },
   "outputs": [],
   "source": [
    "zip_circ_analysis=pd.read_csv(\"/home/jian/Projects/Big_Lots/Newspaper/Analysis/zip_level_information.csv\")\n",
    "zip_exclude_1=zip_circ_analysis[(zip_circ_analysis['zip_cd']==0) | (zip_circ_analysis['zip_cd']==99999)]\n",
    "zip_exclude_2=zip_circ_analysis[(zip_circ_analysis['Event_Count']==1) | (zip_circ_analysis['total_circ']==0)]\n",
    "zip_exclude=zip_exclude_1.append(zip_exclude_2)[['zip_cd','total_circ']]"
   ]
  },
  {
   "cell_type": "code",
   "execution_count": 6,
   "metadata": {},
   "outputs": [
    {
     "data": {
      "text/plain": [
       "5135"
      ]
     },
     "execution_count": 6,
     "metadata": {},
     "output_type": "execute_result"
    }
   ],
   "source": [
    "len(zip_exclude['zip_cd'].unique())"
   ]
  },
  {
   "cell_type": "code",
   "execution_count": 7,
   "metadata": {},
   "outputs": [
    {
     "data": {
      "text/html": [
       "<div>\n",
       "<style>\n",
       "    .dataframe thead tr:only-child th {\n",
       "        text-align: right;\n",
       "    }\n",
       "\n",
       "    .dataframe thead th {\n",
       "        text-align: left;\n",
       "    }\n",
       "\n",
       "    .dataframe tbody tr th {\n",
       "        vertical-align: top;\n",
       "    }\n",
       "</style>\n",
       "<table border=\"1\" class=\"dataframe\">\n",
       "  <thead>\n",
       "    <tr style=\"text-align: right;\">\n",
       "      <th></th>\n",
       "      <th>zip_cd</th>\n",
       "      <th>total_circ</th>\n",
       "      <th>Event_Count</th>\n",
       "      <th>Circ per Event</th>\n",
       "      <th>cost</th>\n",
       "      <th>loyalty_pctg_zip_sales</th>\n",
       "      <th>HH15</th>\n",
       "      <th>total_pop</th>\n",
       "      <th>F_25to54</th>\n",
       "      <th>Circ Penetration of F25_54</th>\n",
       "      <th>...</th>\n",
       "      <th>2018-02-11</th>\n",
       "      <th>2018-02-18</th>\n",
       "      <th>2018-02-25</th>\n",
       "      <th>2018-03-04</th>\n",
       "      <th>2018-03-18</th>\n",
       "      <th>2018-03-25</th>\n",
       "      <th>2018-04-08</th>\n",
       "      <th>2018-04-15</th>\n",
       "      <th>2018-04-22</th>\n",
       "      <th>2018-04-29</th>\n",
       "    </tr>\n",
       "  </thead>\n",
       "  <tbody>\n",
       "    <tr>\n",
       "      <th>0</th>\n",
       "      <td>0</td>\n",
       "      <td>1.030379e+06</td>\n",
       "      <td>30</td>\n",
       "      <td>34345.966667</td>\n",
       "      <td>54341.108850</td>\n",
       "      <td>0.513134</td>\n",
       "      <td>NaN</td>\n",
       "      <td>NaN</td>\n",
       "      <td>NaN</td>\n",
       "      <td>NaN</td>\n",
       "      <td>...</td>\n",
       "      <td>53072.0</td>\n",
       "      <td>53072.0</td>\n",
       "      <td>53072.0</td>\n",
       "      <td>53072.0</td>\n",
       "      <td>53072.0</td>\n",
       "      <td>53072.0</td>\n",
       "      <td>53072.0</td>\n",
       "      <td>53072.0</td>\n",
       "      <td>53072.0</td>\n",
       "      <td>53072.0</td>\n",
       "    </tr>\n",
       "    <tr>\n",
       "      <th>2</th>\n",
       "      <td>1002</td>\n",
       "      <td>1.671939e+03</td>\n",
       "      <td>1</td>\n",
       "      <td>1671.938507</td>\n",
       "      <td>108.124263</td>\n",
       "      <td>0.515322</td>\n",
       "      <td>9671.2</td>\n",
       "      <td>29970.0</td>\n",
       "      <td>3840.0</td>\n",
       "      <td>0.435401</td>\n",
       "      <td>...</td>\n",
       "      <td>NaN</td>\n",
       "      <td>NaN</td>\n",
       "      <td>NaN</td>\n",
       "      <td>NaN</td>\n",
       "      <td>NaN</td>\n",
       "      <td>NaN</td>\n",
       "      <td>NaN</td>\n",
       "      <td>NaN</td>\n",
       "      <td>NaN</td>\n",
       "      <td>NaN</td>\n",
       "    </tr>\n",
       "  </tbody>\n",
       "</table>\n",
       "<p>2 rows × 56 columns</p>\n",
       "</div>"
      ],
      "text/plain": [
       "   zip_cd    total_circ  Event_Count  Circ per Event          cost  \\\n",
       "0       0  1.030379e+06           30    34345.966667  54341.108850   \n",
       "2    1002  1.671939e+03            1     1671.938507    108.124263   \n",
       "\n",
       "   loyalty_pctg_zip_sales    HH15  total_pop  F_25to54  \\\n",
       "0                0.513134     NaN        NaN       NaN   \n",
       "2                0.515322  9671.2    29970.0    3840.0   \n",
       "\n",
       "   Circ Penetration of F25_54    ...     2018-02-11 2018-02-18  2018-02-25  \\\n",
       "0                         NaN    ...        53072.0    53072.0     53072.0   \n",
       "2                    0.435401    ...            NaN        NaN         NaN   \n",
       "\n",
       "   2018-03-04 2018-03-18  2018-03-25  2018-04-08  2018-04-15 2018-04-22  \\\n",
       "0     53072.0    53072.0     53072.0     53072.0     53072.0    53072.0   \n",
       "2         NaN        NaN         NaN         NaN         NaN        NaN   \n",
       "\n",
       "  2018-04-29  \n",
       "0    53072.0  \n",
       "2        NaN  \n",
       "\n",
       "[2 rows x 56 columns]"
      ]
     },
     "execution_count": 7,
     "metadata": {},
     "output_type": "execute_result"
    }
   ],
   "source": [
    "zip_circ_analysis[zip_circ_analysis['zip_cd'].isin(zip_exclude['zip_cd'].unique().tolist())].head(2)"
   ]
  },
  {
   "cell_type": "code",
   "execution_count": 64,
   "metadata": {},
   "outputs": [
    {
     "name": "stderr",
     "output_type": "stream",
     "text": [
      "/usr/local/lib/python3.6/site-packages/ipykernel_launcher.py:5: SettingWithCopyWarning: \n",
      "A value is trying to be set on a copy of a slice from a DataFrame.\n",
      "Try using .loc[row_indexer,col_indexer] = value instead\n",
      "\n",
      "See the caveats in the documentation: http://pandas.pydata.org/pandas-docs/stable/indexing.html#indexing-view-versus-copy\n",
      "  \"\"\"\n"
     ]
    }
   ],
   "source": [
    "sales_data=pd.read_excel(\"/home/jian/BiglotsCode/outputs/Output_2018-05-05/wide_sales_date2018-05-05.xlsx\")\n",
    "# Any one week sales >0 in the most recent month, it indicated an \"Open\" status up to 2018-05-05\n",
    "recent_month=sales_data.columns.tolist()[len(sales_data.columns.tolist())-4:len(sales_data.columns.tolist())]\n",
    "most_recent_open_stores=sales_data[['location_id']+recent_month]\n",
    "most_recent_open_stores['4_week_total_sales']=most_recent_open_stores[most_recent_open_stores.columns[1]]+most_recent_open_stores[most_recent_open_stores.columns[2]]+\\\n",
    "                                                                  most_recent_open_stores[most_recent_open_stores.columns[3]]+most_recent_open_stores[most_recent_open_stores.columns[4]]\n",
    "                                                 \n",
    "most_recent_open_stores=most_recent_open_stores[most_recent_open_stores['4_week_total_sales']>0]\n",
    "recent_open_stores=most_recent_open_stores['location_id'].unique().tolist()\n",
    "recent_open_stores=[str(x) for x in recent_open_stores]"
   ]
  },
  {
   "cell_type": "code",
   "execution_count": 65,
   "metadata": {
    "collapsed": true
   },
   "outputs": [],
   "source": [
    "store_latest_non_zero_week=pd.read_csv(\"/home/jian/BiglotsCode/outputs/combined_sales_long_2018-05-12.csv\")\n",
    "store_latest_non_zero_week=store_latest_non_zero_week[['location_id','week_end_date','sales']]\n",
    "store_latest_non_zero_week['week_end_date']=store_latest_non_zero_week['week_end_date'].apply(lambda x:datetime.datetime.strptime(x,\"%Y-%m-%d\").date())\n",
    "store_latest_non_zero_week=store_latest_non_zero_week[store_latest_non_zero_week['sales']!=0]\n",
    "store_latest_non_zero_week=store_latest_non_zero_week.sort_values([\"location_id\",'week_end_date'],ascending=[True,False]).drop_duplicates(['location_id'])\n",
    "del store_latest_non_zero_week['sales']\n",
    "store_latest_non_zero_week.columns=['storeid','latest_date']\n",
    "store_latest_non_zero_week['storeid']=store_latest_non_zero_week['storeid'].astype(str)\n",
    "store_latest_non_zero_week.reset_index(inplace=True)\n",
    "store_latest_non_zero_week['storeid']=store_latest_non_zero_week['storeid'].astype(int)\n",
    "\n",
    "del store_latest_non_zero_week['index']\n",
    "store_latest_non_zero_week['storeid']=store_latest_non_zero_week['storeid'].astype(str)"
   ]
  },
  {
   "cell_type": "code",
   "execution_count": 66,
   "metadata": {
    "collapsed": true
   },
   "outputs": [],
   "source": [
    "logging.basicConfig(filename='read_all_newspaper_with_zone_zip_level'+today_str+'_files.log', level=logging.INFO)"
   ]
  },
  {
   "cell_type": "code",
   "execution_count": 67,
   "metadata": {},
   "outputs": [
    {
     "name": "stderr",
     "output_type": "stream",
     "text": [
      "/usr/local/lib/python3.6/site-packages/ipykernel_launcher.py:56: SettingWithCopyWarning: \n",
      "A value is trying to be set on a copy of a slice from a DataFrame.\n",
      "Try using .loc[row_indexer,col_indexer] = value instead\n",
      "\n",
      "See the caveats in the documentation: http://pandas.pydata.org/pandas-docs/stable/indexing.html#indexing-view-versus-copy\n",
      "/usr/local/lib/python3.6/site-packages/ipykernel_launcher.py:57: SettingWithCopyWarning: \n",
      "A value is trying to be set on a copy of a slice from a DataFrame.\n",
      "Try using .loc[row_indexer,col_indexer] = value instead\n",
      "\n",
      "See the caveats in the documentation: http://pandas.pydata.org/pandas-docs/stable/indexing.html#indexing-view-versus-copy\n"
     ]
    },
    {
     "name": "stdout",
     "output_type": "stream",
     "text": [
      "2018-04-29 : Done of 1\n",
      "2017-06-11 : Done of 2\n",
      "2018-03-04 : Done of 3\n",
      "2018-04-08 : Done of 4\n",
      "2017-12-03 : Done of 5\n",
      "2017-10-29 : Done of 6\n",
      "2018-03-18 : Done of 7\n",
      "2018-03-25 : Done of 8\n",
      "2017-07-30 : Done of 9\n",
      "2017-12-17 : Done of 10\n",
      "2017-11-12 : Done of 11\n",
      "2018-04-15 : Done of 12\n",
      "2017-11-22 : Done of 13\n",
      "2017-10-22 : Done of 14\n",
      "2017-11-26 : Done of 15\n",
      "2017-11-19 : Done of 16\n",
      "2017-09-03 : Done of 17\n",
      "2018-01-07 : Done of 18\n",
      "2017-10-08 : Done of 19\n",
      "2017-11-23 : Done of 20\n",
      "2018-04-22 : Done of 21\n",
      "2018-02-11 : Done of 22\n",
      "2017-05-21 : Done of 23\n",
      "2017-12-10 : Done of 24\n",
      "2017-11-05 : Done of 25\n",
      "2017-07-16 : Done of 26\n",
      "2017-08-27 : Done of 27\n",
      "2017-09-24 : Done of 28\n",
      "2018-02-25 : Done of 29\n",
      "2018-02-18 : Done of 30\n",
      "2017-06-25 : Done of 31\n",
      "2017-05-28 : Done of 32\n"
     ]
    }
   ],
   "source": [
    "for file in file_list:\n",
    "    date=file.split(\"/\")[len(file.split(\"/\"))-1].split(\" \")[0]+\" \"+file.split(\"/\")[len(file.split(\"/\"))-1].split(\" \")[1]+\" \"+\\\n",
    "    file.split(\"/\")[len(file.split(\"/\"))-1].split(\" \")[2]\n",
    "    date=date.replace(\"Sept\",\"Sep\")\n",
    "\n",
    "    if len(date.split(\" \")[0])==3:\n",
    "        date=datetime.datetime.strptime(date,\"%b %d %Y\").date()\n",
    "    else:\n",
    "        date=datetime.datetime.strptime(date,\"%B %d %Y\").date()\n",
    "        \n",
    "    # if date>=datetime.datetime(2017,4,1).date(): #Most recent 12 months to reduce stores without information\n",
    "\n",
    "    df=pd.read_excel(file,sheetname=\"to_read\",dtype=str,na_values=['NULL','null','Null',\"\",\" \"])\n",
    "    df=df[Selected_Col]\n",
    "    df['zips']=df['zips'].fillna('null')\n",
    "    df['zips']=df['zips'].replace('nan','null')\n",
    "    df['totalcirc']=df['totalcirc'].astype(float)\n",
    "\n",
    "    df['Date']=date\n",
    "    df=df[df['storeid'].isin(recent_open_stores)]\n",
    "    df=pd.merge(df,store_latest_non_zero_week,on=\"storeid\",how=\"left\")\n",
    "    df=df[df['latest_date']>=date]\n",
    "    del df['latest_date']\n",
    "    # check_df=check_df.append(df)\n",
    "\n",
    "\n",
    "\n",
    "    df_combine_date=pd.DataFrame()\n",
    "    #Use only product id to adjust null\n",
    "    for productid,group in df.groupby(['productid']):\n",
    "        # df_product_store = group.copy()\n",
    "        df_product_store_zone_NA=group[group['zips']=='null']\n",
    "        df_product_store_zone_NA.reset_index(inplace=True)\n",
    "        del df_product_store_zone_NA['index']\n",
    "        \n",
    "        df_product_store_zone_zip=group[group['zips']!='null']\n",
    "        df_product_store_zone_zip.reset_index(inplace=True)\n",
    "        del df_product_store_zone_zip['index']        \n",
    "\n",
    "        if len(df_product_store_zone_NA)==0:\n",
    "            df_product_store_zone_zip=group.groupby(['storeid','productid','zoneid','zips'])['totalcirc'].sum().to_frame()\n",
    "            df_product_store_zone_zip['circ_proportion_of_Null']=0\n",
    "            df_product_store_zone_zip['adjusted_circ_about_Null']=df_product_store_zone_zip['totalcirc']\n",
    "            df_product_store_zone_zip.reset_index(inplace=True)\n",
    "            #V del df_product_store_zone_zip['index']\n",
    "\n",
    "        elif len(df_product_store_zone_zip)==0:              \n",
    "            df_product_store_zone_NA['extract_from_zone 5 digit']=df_product_store_zone_NA['zoneid'].apply(lambda x: re.findall(r\"\\b\\d{5}\\b\", x))\n",
    "            unique_len_from_zone=len(df_product_store_zone_NA['extract_from_zone 5 digit'].apply(lambda x :len(x)).unique())\n",
    "            if unique_len_from_zone==0:\n",
    "                df_product_store_zone_zip=group.groupby(['storeid','productid','zoneid','zips'])['totalcirc'].sum().to_frame()\n",
    "                df_product_store_zone_zip['circ_proportion_of_Null']=1\n",
    "                df_product_store_zone_zip['adjusted_circ_about_Null']=df_product_store_zone_zip['totalcirc']\n",
    "                df_product_store_zone_zip.reset_index(inplace=True)\n",
    "                # del df_product_store_zone_zip['index']\n",
    "            else:                                                                                                    \n",
    "                group['extract_from_zone 5 digit']=group['zoneid'].apply(lambda x: re.findall(r\"\\b\\d{5}\\b\", x))                                                                        \n",
    "                group['zips']=group['extract_from_zone 5 digit'].apply(lambda x: str(x)[1:(len(str(x))-1)].replace(\"'\",\"\").replace(\"'\",\"\"))\n",
    "                df_product_store_zone_zip=group.groupby(['storeid','productid','zoneid','zips'])['totalcirc'].sum().to_frame()\n",
    "                df_product_store_zone_zip['circ_proportion_of_Null']=1\n",
    "                df_product_store_zone_zip['adjusted_circ_about_Null']=df_product_store_zone_zip['totalcirc']\n",
    "                df_product_store_zone_zip.reset_index(inplace=True)\n",
    "                # del df_product_store_zone_zip['index']\n",
    "\n",
    "        elif len(df_product_store_zone_NA)>=1:\n",
    "            na_zip_circ=df_product_store_zone_NA['totalcirc'].sum()\n",
    "            df_product_store_zone_zip=df_product_store_zone_zip.groupby(['storeid','productid','zoneid','zips'])['totalcirc'].sum().to_frame()\n",
    "            df_product_store_zone_zip.reset_index(inplace=True)\n",
    "            \n",
    "            df_product_store_zone_zip['circ_proportion_of_Null']=df_product_store_zone_zip['totalcirc'].apply(lambda x:x/sum(df_product_store_zone_zip['totalcirc']))\n",
    "            df_product_store_zone_zip['adjusted_circ_about_Null']=df_product_store_zone_zip['totalcirc']+df_product_store_zone_zip['circ_proportion_of_Null']*na_zip_circ\n",
    "        df_combine_date=df_combine_date.append(df_product_store_zone_zip)\n",
    "\n",
    "    df_combine_date['Date']=date\n",
    "    finished=finished+[str(date)]\n",
    "    logging.info(str(date)+ \" : Done of \"+str(len(finished)))\n",
    "    print(str(date)+ \" : Done of \"+str(len(finished)))\n",
    "\n",
    "    output_combined_all_date=output_combined_all_date.append(df_combine_date) \n",
    "output_combined_all_date.reset_index(inplace=True)\n",
    "del output_combined_all_date['index']\n",
    "output_combined_all_date.to_excel(writer_folder+\"BL_combined newspaper data_JL_\"+today_str+\".xlsx\",index=False)\n"
   ]
  },
  {
   "cell_type": "code",
   "execution_count": 68,
   "metadata": {
    "collapsed": true
   },
   "outputs": [],
   "source": [
    "household=pd.read_csv(\"/home/jian/Docs/Household_and_Population/2016/ZipcodePopulation_FromSP.csv\",dtype=str)\n",
    "household=household[['ZIP_CODE',\"HH15\"]]\n",
    "household.columns=['zip_cd','Households']\n",
    "household['Households']=household['Households'].fillna(0)\n",
    "household['Households']=household['Households'].astype(float)\n",
    "gc.collect()"
   ]
  },
  {
   "cell_type": "code",
   "execution_count": 79,
   "metadata": {},
   "outputs": [
    {
     "data": {
      "text/plain": [
       "2296"
      ]
     },
     "execution_count": 79,
     "metadata": {},
     "output_type": "execute_result"
    }
   ],
   "source": []
  },
  {
   "cell_type": "code",
   "execution_count": 70,
   "metadata": {
    "collapsed": true
   },
   "outputs": [],
   "source": []
  },
  {
   "cell_type": "code",
   "execution_count": 71,
   "metadata": {
    "collapsed": true
   },
   "outputs": [],
   "source": [
    "output_combined_all_date['Date_Str']=output_combined_all_date['Date'].apply(lambda x: str(x))\n",
    "output_combined_all_date['key']=\"S_\"+output_combined_all_date['storeid']+\" | P_\"+output_combined_all_date['productid']+\" | Z\"+\\\n",
    "                                output_combined_all_date['zoneid']+\" | \"+output_combined_all_date['Date_Str']\n",
    "del output_combined_all_date['Date_Str']\n",
    "\n",
    "output_combined_all_date['zip_list']=output_combined_all_date['zips'].apply(lambda x: [ zip_str.strip().zfill(5) for zip_str in x.split(\",\")])\n",
    "output_combined_all_date['zip_count']=output_combined_all_date['zip_list'].apply(lambda x: len(x))\n",
    "\n",
    "output_combined_all_date_1=output_combined_all_date[output_combined_all_date['zip_count']==1]\n",
    "output_combined_all_date_M=output_combined_all_date[output_combined_all_date['zip_count']!=1]\n",
    "output_combined_all_date_1['zip_cd']=output_combined_all_date_1['zips'].apply(lambda x: str(x).zfill(5))\n",
    "output_combined_all_date_1['zip_list_proportion']=1\n",
    "output_combined_all_date_1['adjusted_circ_with_list']=output_combined_all_date_1['adjusted_circ_about_Null']\n",
    "output_combined_all_date_M.reset_index(inplace= True)\n",
    "del output_combined_all_date_M['index']\n",
    "output_combined_all_date_M_agg=pd.DataFrame()"
   ]
  },
  {
   "cell_type": "code",
   "execution_count": 75,
   "metadata": {},
   "outputs": [
    {
     "name": "stdout",
     "output_type": "stream",
     "text": [
      "2018-06-22 15:37:29.751944output_combined_all_date_M_agg done of the row: 100\n",
      "2018-06-22 15:38:18.785722output_combined_all_date_M_agg done of the row: 1100\n",
      "2018-06-22 15:39:08.043613output_combined_all_date_M_agg done of the row: 2100\n"
     ]
    },
    {
     "ename": "KeyboardInterrupt",
     "evalue": "",
     "output_type": "error",
     "traceback": [
      "\u001b[0;31m---------------------------------------------------------------------------\u001b[0m",
      "\u001b[0;31mKeyboardInterrupt\u001b[0m                         Traceback (most recent call last)",
      "\u001b[0;32m<ipython-input-75-7e708f1c6d66>\u001b[0m in \u001b[0;36m<module>\u001b[0;34m()\u001b[0m\n\u001b[1;32m      8\u001b[0m         \u001b[0mdf_1_zip\u001b[0m\u001b[0;34m[\u001b[0m\u001b[0;34m'zip_cd'\u001b[0m\u001b[0;34m]\u001b[0m\u001b[0;34m=\u001b[0m\u001b[0mzip_i\u001b[0m\u001b[0;34m\u001b[0m\u001b[0m\n\u001b[1;32m      9\u001b[0m         \u001b[0mdf_to_app\u001b[0m\u001b[0;34m=\u001b[0m\u001b[0mdf_to_app\u001b[0m\u001b[0;34m.\u001b[0m\u001b[0mappend\u001b[0m\u001b[0;34m(\u001b[0m\u001b[0mdf_1_zip\u001b[0m\u001b[0;34m)\u001b[0m\u001b[0;34m\u001b[0m\u001b[0m\n\u001b[0;32m---> 10\u001b[0;31m     \u001b[0mdf_to_app\u001b[0m\u001b[0;34m=\u001b[0m\u001b[0mpd\u001b[0m\u001b[0;34m.\u001b[0m\u001b[0mmerge\u001b[0m\u001b[0;34m(\u001b[0m\u001b[0mdf_to_app\u001b[0m\u001b[0;34m,\u001b[0m\u001b[0mhousehold\u001b[0m\u001b[0;34m,\u001b[0m\u001b[0mon\u001b[0m\u001b[0;34m=\u001b[0m\u001b[0;34m\"zip_cd\"\u001b[0m\u001b[0;34m,\u001b[0m\u001b[0mhow\u001b[0m\u001b[0;34m=\u001b[0m\u001b[0;34m\"left\"\u001b[0m\u001b[0;34m)\u001b[0m\u001b[0;34m\u001b[0m\u001b[0m\n\u001b[0m\u001b[1;32m     11\u001b[0m     \u001b[0mdf_to_app\u001b[0m\u001b[0;34m[\u001b[0m\u001b[0;34m'Households'\u001b[0m\u001b[0;34m]\u001b[0m\u001b[0;34m=\u001b[0m\u001b[0mdf_to_app\u001b[0m\u001b[0;34m[\u001b[0m\u001b[0;34m'Households'\u001b[0m\u001b[0;34m]\u001b[0m\u001b[0;34m.\u001b[0m\u001b[0mfillna\u001b[0m\u001b[0;34m(\u001b[0m\u001b[0;36m0\u001b[0m\u001b[0;34m)\u001b[0m\u001b[0;34m\u001b[0m\u001b[0m\n\u001b[1;32m     12\u001b[0m     \u001b[0;32mif\u001b[0m \u001b[0mdf_to_app\u001b[0m\u001b[0;34m[\u001b[0m\u001b[0;34m'Households'\u001b[0m\u001b[0;34m]\u001b[0m\u001b[0;34m.\u001b[0m\u001b[0msum\u001b[0m\u001b[0;34m(\u001b[0m\u001b[0;34m)\u001b[0m\u001b[0;34m!=\u001b[0m\u001b[0;36m0\u001b[0m\u001b[0;34m:\u001b[0m\u001b[0;34m\u001b[0m\u001b[0m\n",
      "\u001b[0;32m/usr/local/lib/python3.6/site-packages/pandas/core/reshape/merge.py\u001b[0m in \u001b[0;36mmerge\u001b[0;34m(left, right, how, on, left_on, right_on, left_index, right_index, sort, suffixes, copy, indicator)\u001b[0m\n\u001b[1;32m     52\u001b[0m                          \u001b[0mright_index\u001b[0m\u001b[0;34m=\u001b[0m\u001b[0mright_index\u001b[0m\u001b[0;34m,\u001b[0m \u001b[0msort\u001b[0m\u001b[0;34m=\u001b[0m\u001b[0msort\u001b[0m\u001b[0;34m,\u001b[0m \u001b[0msuffixes\u001b[0m\u001b[0;34m=\u001b[0m\u001b[0msuffixes\u001b[0m\u001b[0;34m,\u001b[0m\u001b[0;34m\u001b[0m\u001b[0m\n\u001b[1;32m     53\u001b[0m                          copy=copy, indicator=indicator)\n\u001b[0;32m---> 54\u001b[0;31m     \u001b[0;32mreturn\u001b[0m \u001b[0mop\u001b[0m\u001b[0;34m.\u001b[0m\u001b[0mget_result\u001b[0m\u001b[0;34m(\u001b[0m\u001b[0;34m)\u001b[0m\u001b[0;34m\u001b[0m\u001b[0m\n\u001b[0m\u001b[1;32m     55\u001b[0m \u001b[0;34m\u001b[0m\u001b[0m\n\u001b[1;32m     56\u001b[0m \u001b[0;34m\u001b[0m\u001b[0m\n",
      "\u001b[0;32m/usr/local/lib/python3.6/site-packages/pandas/core/reshape/merge.py\u001b[0m in \u001b[0;36mget_result\u001b[0;34m(self)\u001b[0m\n\u001b[1;32m    567\u001b[0m                 self.left, self.right)\n\u001b[1;32m    568\u001b[0m \u001b[0;34m\u001b[0m\u001b[0m\n\u001b[0;32m--> 569\u001b[0;31m         \u001b[0mjoin_index\u001b[0m\u001b[0;34m,\u001b[0m \u001b[0mleft_indexer\u001b[0m\u001b[0;34m,\u001b[0m \u001b[0mright_indexer\u001b[0m \u001b[0;34m=\u001b[0m \u001b[0mself\u001b[0m\u001b[0;34m.\u001b[0m\u001b[0m_get_join_info\u001b[0m\u001b[0;34m(\u001b[0m\u001b[0;34m)\u001b[0m\u001b[0;34m\u001b[0m\u001b[0m\n\u001b[0m\u001b[1;32m    570\u001b[0m \u001b[0;34m\u001b[0m\u001b[0m\n\u001b[1;32m    571\u001b[0m         \u001b[0mldata\u001b[0m\u001b[0;34m,\u001b[0m \u001b[0mrdata\u001b[0m \u001b[0;34m=\u001b[0m \u001b[0mself\u001b[0m\u001b[0;34m.\u001b[0m\u001b[0mleft\u001b[0m\u001b[0;34m.\u001b[0m\u001b[0m_data\u001b[0m\u001b[0;34m,\u001b[0m \u001b[0mself\u001b[0m\u001b[0;34m.\u001b[0m\u001b[0mright\u001b[0m\u001b[0;34m.\u001b[0m\u001b[0m_data\u001b[0m\u001b[0;34m\u001b[0m\u001b[0m\n",
      "\u001b[0;32m/usr/local/lib/python3.6/site-packages/pandas/core/reshape/merge.py\u001b[0m in \u001b[0;36m_get_join_info\u001b[0;34m(self)\u001b[0m\n\u001b[1;32m    732\u001b[0m         \u001b[0;32melse\u001b[0m\u001b[0;34m:\u001b[0m\u001b[0;34m\u001b[0m\u001b[0m\n\u001b[1;32m    733\u001b[0m             (left_indexer,\n\u001b[0;32m--> 734\u001b[0;31m              right_indexer) = self._get_join_indexers()\n\u001b[0m\u001b[1;32m    735\u001b[0m \u001b[0;34m\u001b[0m\u001b[0m\n\u001b[1;32m    736\u001b[0m             \u001b[0;32mif\u001b[0m \u001b[0mself\u001b[0m\u001b[0;34m.\u001b[0m\u001b[0mright_index\u001b[0m\u001b[0;34m:\u001b[0m\u001b[0;34m\u001b[0m\u001b[0m\n",
      "\u001b[0;32m/usr/local/lib/python3.6/site-packages/pandas/core/reshape/merge.py\u001b[0m in \u001b[0;36m_get_join_indexers\u001b[0;34m(self)\u001b[0m\n\u001b[1;32m    711\u001b[0m                                   \u001b[0mself\u001b[0m\u001b[0;34m.\u001b[0m\u001b[0mright_join_keys\u001b[0m\u001b[0;34m,\u001b[0m\u001b[0;34m\u001b[0m\u001b[0m\n\u001b[1;32m    712\u001b[0m                                   \u001b[0msort\u001b[0m\u001b[0;34m=\u001b[0m\u001b[0mself\u001b[0m\u001b[0;34m.\u001b[0m\u001b[0msort\u001b[0m\u001b[0;34m,\u001b[0m\u001b[0;34m\u001b[0m\u001b[0m\n\u001b[0;32m--> 713\u001b[0;31m                                   how=self.how)\n\u001b[0m\u001b[1;32m    714\u001b[0m \u001b[0;34m\u001b[0m\u001b[0m\n\u001b[1;32m    715\u001b[0m     \u001b[0;32mdef\u001b[0m \u001b[0m_get_join_info\u001b[0m\u001b[0;34m(\u001b[0m\u001b[0mself\u001b[0m\u001b[0;34m)\u001b[0m\u001b[0;34m:\u001b[0m\u001b[0;34m\u001b[0m\u001b[0m\n",
      "\u001b[0;32m/usr/local/lib/python3.6/site-packages/pandas/core/reshape/merge.py\u001b[0m in \u001b[0;36m_get_join_indexers\u001b[0;34m(left_keys, right_keys, sort, how, **kwargs)\u001b[0m\n\u001b[1;32m    980\u001b[0m \u001b[0;34m\u001b[0m\u001b[0m\n\u001b[1;32m    981\u001b[0m     \u001b[0;31m# get left & right join labels and num. of levels at each location\u001b[0m\u001b[0;34m\u001b[0m\u001b[0;34m\u001b[0m\u001b[0m\n\u001b[0;32m--> 982\u001b[0;31m     \u001b[0mllab\u001b[0m\u001b[0;34m,\u001b[0m \u001b[0mrlab\u001b[0m\u001b[0;34m,\u001b[0m \u001b[0mshape\u001b[0m \u001b[0;34m=\u001b[0m \u001b[0mmap\u001b[0m\u001b[0;34m(\u001b[0m\u001b[0mlist\u001b[0m\u001b[0;34m,\u001b[0m \u001b[0mzip\u001b[0m\u001b[0;34m(\u001b[0m\u001b[0;34m*\u001b[0m \u001b[0mmap\u001b[0m\u001b[0;34m(\u001b[0m\u001b[0mfkeys\u001b[0m\u001b[0;34m,\u001b[0m \u001b[0mleft_keys\u001b[0m\u001b[0;34m,\u001b[0m \u001b[0mright_keys\u001b[0m\u001b[0;34m)\u001b[0m\u001b[0;34m)\u001b[0m\u001b[0;34m)\u001b[0m\u001b[0;34m\u001b[0m\u001b[0m\n\u001b[0m\u001b[1;32m    983\u001b[0m \u001b[0;34m\u001b[0m\u001b[0m\n\u001b[1;32m    984\u001b[0m     \u001b[0;31m# get flat i8 keys from label lists\u001b[0m\u001b[0;34m\u001b[0m\u001b[0;34m\u001b[0m\u001b[0m\n",
      "\u001b[0;32m/usr/local/lib/python3.6/site-packages/pandas/core/reshape/merge.py\u001b[0m in \u001b[0;36m_factorize_keys\u001b[0;34m(lk, rk, sort)\u001b[0m\n\u001b[1;32m   1404\u001b[0m \u001b[0;34m\u001b[0m\u001b[0m\n\u001b[1;32m   1405\u001b[0m     \u001b[0mllab\u001b[0m \u001b[0;34m=\u001b[0m \u001b[0mrizer\u001b[0m\u001b[0;34m.\u001b[0m\u001b[0mfactorize\u001b[0m\u001b[0;34m(\u001b[0m\u001b[0mlk\u001b[0m\u001b[0;34m)\u001b[0m\u001b[0;34m\u001b[0m\u001b[0m\n\u001b[0;32m-> 1406\u001b[0;31m     \u001b[0mrlab\u001b[0m \u001b[0;34m=\u001b[0m \u001b[0mrizer\u001b[0m\u001b[0;34m.\u001b[0m\u001b[0mfactorize\u001b[0m\u001b[0;34m(\u001b[0m\u001b[0mrk\u001b[0m\u001b[0;34m)\u001b[0m\u001b[0;34m\u001b[0m\u001b[0m\n\u001b[0m\u001b[1;32m   1407\u001b[0m \u001b[0;34m\u001b[0m\u001b[0m\n\u001b[1;32m   1408\u001b[0m     \u001b[0mcount\u001b[0m \u001b[0;34m=\u001b[0m \u001b[0mrizer\u001b[0m\u001b[0;34m.\u001b[0m\u001b[0mget_count\u001b[0m\u001b[0;34m(\u001b[0m\u001b[0;34m)\u001b[0m\u001b[0;34m\u001b[0m\u001b[0m\n",
      "\u001b[0;32mpandas/_libs/hashtable.pyx\u001b[0m in \u001b[0;36mpandas._libs.hashtable.Factorizer.factorize (pandas/_libs/hashtable.c:33820)\u001b[0;34m()\u001b[0m\n",
      "\u001b[0;32mpandas/_libs/hashtable_class_helper.pxi\u001b[0m in \u001b[0;36mpandas._libs.hashtable.PyObjectHashTable.get_labels (pandas/_libs/hashtable.c:22245)\u001b[0;34m()\u001b[0m\n",
      "\u001b[0;32m/usr/local/lib/python3.6/site-packages/numpy/core/numeric.py\u001b[0m in \u001b[0;36masarray\u001b[0;34m(a, dtype, order)\u001b[0m\n\u001b[1;32m    461\u001b[0m \u001b[0;34m\u001b[0m\u001b[0m\n\u001b[1;32m    462\u001b[0m \u001b[0;34m\u001b[0m\u001b[0m\n\u001b[0;32m--> 463\u001b[0;31m \u001b[0;32mdef\u001b[0m \u001b[0masarray\u001b[0m\u001b[0;34m(\u001b[0m\u001b[0ma\u001b[0m\u001b[0;34m,\u001b[0m \u001b[0mdtype\u001b[0m\u001b[0;34m=\u001b[0m\u001b[0;32mNone\u001b[0m\u001b[0;34m,\u001b[0m \u001b[0morder\u001b[0m\u001b[0;34m=\u001b[0m\u001b[0;32mNone\u001b[0m\u001b[0;34m)\u001b[0m\u001b[0;34m:\u001b[0m\u001b[0;34m\u001b[0m\u001b[0m\n\u001b[0m\u001b[1;32m    464\u001b[0m     \"\"\"Convert the input to an array.\n\u001b[1;32m    465\u001b[0m \u001b[0;34m\u001b[0m\u001b[0m\n",
      "\u001b[0;31mKeyboardInterrupt\u001b[0m: "
     ]
    }
   ],
   "source": [
    "for i in range(len(output_combined_all_date_M)):\n",
    "    df=output_combined_all_date_M.iloc[i:(i+1),:]\n",
    "    df.reset_index(inplace=True)\n",
    "    del df['index']\n",
    "    df_to_app=pd.DataFrame()\n",
    "    for zip_i in list(set(df['zip_list'][0])):\n",
    "        df_1_zip=df.copy()\n",
    "        df_1_zip['zip_cd']=zip_i\n",
    "        df_to_app=df_to_app.append(df_1_zip)\n",
    "    df_to_app=pd.merge(df_to_app,household,on=\"zip_cd\",how=\"left\")\n",
    "    df_to_app['Households']=df_to_app['Households'].fillna(0)\n",
    "    if df_to_app['Households'].sum()!=0:\n",
    "        df_to_app['zip_list_proportion']=df_to_app['Households']/df_to_app['Households'].sum()\n",
    "        df_to_app['adjusted_circ_with_list']=df_to_app['adjusted_circ_about_Null']*df_to_app['zip_list_proportion']\n",
    "    else:\n",
    "        logging.info(\"All 0 population: \"+str(df_to_app['Date'].unique()[0])+\" \"+str(df_to_app['storeid'].unique()[0])+\" \"+str(df_to_app['productid'].unique()[0]))\n",
    "        logging.info(df_to_app['zip_cd'])\n",
    "        df_to_app['zip_list_proportion']=1/len(df_to_app)\n",
    "        df_to_app['adjusted_circ_with_list']=df_to_app['adjusted_circ_about_Null']*df_to_app['zip_list_proportion']\n",
    "        \n",
    "    output_combined_all_date_M_agg=output_combined_all_date_M_agg.append(df_to_app)\n",
    "    if i % 1000 == 100:\n",
    "        logging.info(str(datetime.datetime.now())+\" :\")\n",
    "        logging.info(\"output_combined_all_date_M_agg done of the row: \"+str(i))\n",
    "        \n",
    "        # print(str(datetime.datetime.now())+\"output_combined_all_date_M_agg done of the row: \"+str(i))\n",
    "output_adjusted_final=output_combined_all_date_M_agg.append(output_combined_all_date_1)\n",
    "output_adjusted_final.to_csv(writer_folder+\"BL_combined newspaper final detailed_JL_\"+today_str+\".csv\",index=False)"
   ]
  },
  {
   "cell_type": "code",
   "execution_count": 42,
   "metadata": {},
   "outputs": [
    {
     "data": {
      "text/html": [
       "<div>\n",
       "<style>\n",
       "    .dataframe thead tr:only-child th {\n",
       "        text-align: right;\n",
       "    }\n",
       "\n",
       "    .dataframe thead th {\n",
       "        text-align: left;\n",
       "    }\n",
       "\n",
       "    .dataframe tbody tr th {\n",
       "        vertical-align: top;\n",
       "    }\n",
       "</style>\n",
       "<table border=\"1\" class=\"dataframe\">\n",
       "  <thead>\n",
       "    <tr style=\"text-align: right;\">\n",
       "      <th></th>\n",
       "      <th>Date</th>\n",
       "      <th>Households</th>\n",
       "      <th>adjusted_circ_about_Null</th>\n",
       "      <th>adjusted_circ_with_list</th>\n",
       "      <th>circ_proportion_of_Null</th>\n",
       "      <th>key</th>\n",
       "      <th>productid</th>\n",
       "      <th>storeid</th>\n",
       "      <th>totalcirc</th>\n",
       "      <th>zip_cd</th>\n",
       "      <th>zip_count</th>\n",
       "      <th>zip_list</th>\n",
       "      <th>zip_list_proportion</th>\n",
       "      <th>zips</th>\n",
       "      <th>zoneid</th>\n",
       "    </tr>\n",
       "  </thead>\n",
       "  <tbody>\n",
       "    <tr>\n",
       "      <th>0</th>\n",
       "      <td>2017-03-19</td>\n",
       "      <td>9779.5</td>\n",
       "      <td>2711.969187</td>\n",
       "      <td>1154.166293</td>\n",
       "      <td>0.041108</td>\n",
       "      <td>S_5223 | P_10 | ZZn_01D | 2017-03-19</td>\n",
       "      <td>10</td>\n",
       "      <td>5223</td>\n",
       "      <td>2348.0</td>\n",
       "      <td>07860</td>\n",
       "      <td>6</td>\n",
       "      <td>[07826, 07848, 07439, 07827, 07860, 07871]</td>\n",
       "      <td>0.425582</td>\n",
       "      <td>07826, 07848, 07439, 07827, 07860, 07871</td>\n",
       "      <td>Zn_01D</td>\n",
       "    </tr>\n",
       "    <tr>\n",
       "      <th>1</th>\n",
       "      <td>2017-03-19</td>\n",
       "      <td>1670.0</td>\n",
       "      <td>2711.969187</td>\n",
       "      <td>197.091642</td>\n",
       "      <td>0.041108</td>\n",
       "      <td>S_5223 | P_10 | ZZn_01D | 2017-03-19</td>\n",
       "      <td>10</td>\n",
       "      <td>5223</td>\n",
       "      <td>2348.0</td>\n",
       "      <td>07848</td>\n",
       "      <td>6</td>\n",
       "      <td>[07826, 07848, 07439, 07827, 07860, 07871]</td>\n",
       "      <td>0.072675</td>\n",
       "      <td>07826, 07848, 07439, 07827, 07860, 07871</td>\n",
       "      <td>Zn_01D</td>\n",
       "    </tr>\n",
       "  </tbody>\n",
       "</table>\n",
       "</div>"
      ],
      "text/plain": [
       "         Date  Households  adjusted_circ_about_Null  adjusted_circ_with_list  \\\n",
       "0  2017-03-19      9779.5               2711.969187              1154.166293   \n",
       "1  2017-03-19      1670.0               2711.969187               197.091642   \n",
       "\n",
       "   circ_proportion_of_Null                                   key productid  \\\n",
       "0                 0.041108  S_5223 | P_10 | ZZn_01D | 2017-03-19        10   \n",
       "1                 0.041108  S_5223 | P_10 | ZZn_01D | 2017-03-19        10   \n",
       "\n",
       "  storeid  totalcirc zip_cd  zip_count  \\\n",
       "0    5223     2348.0  07860          6   \n",
       "1    5223     2348.0  07848          6   \n",
       "\n",
       "                                     zip_list  zip_list_proportion  \\\n",
       "0  [07826, 07848, 07439, 07827, 07860, 07871]             0.425582   \n",
       "1  [07826, 07848, 07439, 07827, 07860, 07871]             0.072675   \n",
       "\n",
       "                                       zips  zoneid  \n",
       "0  07826, 07848, 07439, 07827, 07860, 07871  Zn_01D  \n",
       "1  07826, 07848, 07439, 07827, 07860, 07871  Zn_01D  "
      ]
     },
     "execution_count": 42,
     "metadata": {},
     "output_type": "execute_result"
    }
   ],
   "source": [
    "all_store_in_newspaper=output_adjusted_final['storeid'].unique().tolist()                                                                                                    \n",
    "                                                                                                     \n",
    "output_no_detail=output_adjusted_final.groupby(['zip_cd','Date'])['adjusted_circ_with_list'].sum().to_frame()\n",
    "output_no_detail.reset_index(inplace=True)\n",
    "output_no_detail=output_no_detail.sort_values(['Date','zip_cd'])\n",
    "output_no_detail.to_csv(writer_folder+\"BL_newspaper count by zip by date_JL_\"+today_str+\".csv\",index=False)\n",
    "\n",
    "output_no_detail=pd.read_csv(writer_folder+\"BL_newspaper count by zip by date_JL_\"+today_str+\".csv\")\n",
    "test_agg_wide=output_no_detail.pivot(index=\"zip_cd\",columns='Date',values='adjusted_circ_with_list')\n",
    "test_agg_wide.reset_index(inplace=True)\n",
    "test_agg_wide_columns=test_agg_wide.columns.tolist()[1:]\n",
    "test_agg_wide_columns=[\"newspaper_\"+x for x in test_agg_wide_columns]\n",
    "test_agg_wide.columns=[['zip_cd']+test_agg_wide_columns]\n",
    "test_agg_wide=test_agg_wide.fillna(0)\n",
    "test_agg_wide.to_csv(writer_folder+\"BL_newspaper wide of date by zip_JL_\"+today_str+\".csv\",index=False)\n"
   ]
  },
  {
   "cell_type": "code",
   "execution_count": 76,
   "metadata": {},
   "outputs": [
    {
     "data": {
      "text/html": [
       "<div>\n",
       "<style>\n",
       "    .dataframe thead tr:only-child th {\n",
       "        text-align: right;\n",
       "    }\n",
       "\n",
       "    .dataframe thead th {\n",
       "        text-align: left;\n",
       "    }\n",
       "\n",
       "    .dataframe tbody tr th {\n",
       "        vertical-align: top;\n",
       "    }\n",
       "</style>\n",
       "<table border=\"1\" class=\"dataframe\">\n",
       "  <thead>\n",
       "    <tr style=\"text-align: right;\">\n",
       "      <th></th>\n",
       "      <th>storeid</th>\n",
       "      <th>productid</th>\n",
       "      <th>zoneid</th>\n",
       "      <th>zips</th>\n",
       "      <th>totalcirc</th>\n",
       "      <th>circ_proportion_of_Null</th>\n",
       "      <th>adjusted_circ_about_Null</th>\n",
       "      <th>Date</th>\n",
       "      <th>key</th>\n",
       "      <th>zip_list</th>\n",
       "      <th>zip_count</th>\n",
       "      <th>zip_cd</th>\n",
       "      <th>Households</th>\n",
       "      <th>zip_list_proportion</th>\n",
       "      <th>adjusted_circ_with_list</th>\n",
       "    </tr>\n",
       "  </thead>\n",
       "  <tbody>\n",
       "    <tr>\n",
       "      <th>0</th>\n",
       "      <td>5223</td>\n",
       "      <td>10</td>\n",
       "      <td>Zn_01D</td>\n",
       "      <td>07439, 07822, 07826, 07827, 07848, 07851, 0786...</td>\n",
       "      <td>1637.0</td>\n",
       "      <td>0.036757</td>\n",
       "      <td>2424.918358</td>\n",
       "      <td>2018-04-29</td>\n",
       "      <td>S_5223 | P_10 | ZZn_01D | 2018-04-29</td>\n",
       "      <td>[07439, 07822, 07826, 07827, 07848, 07851, 078...</td>\n",
       "      <td>8</td>\n",
       "      <td>07822</td>\n",
       "      <td>415.6</td>\n",
       "      <td>0.017647</td>\n",
       "      <td>42.792616</td>\n",
       "    </tr>\n",
       "    <tr>\n",
       "      <th>1</th>\n",
       "      <td>5223</td>\n",
       "      <td>10</td>\n",
       "      <td>Zn_01D</td>\n",
       "      <td>07439, 07822, 07826, 07827, 07848, 07851, 0786...</td>\n",
       "      <td>1637.0</td>\n",
       "      <td>0.036757</td>\n",
       "      <td>2424.918358</td>\n",
       "      <td>2018-04-29</td>\n",
       "      <td>S_5223 | P_10 | ZZn_01D | 2018-04-29</td>\n",
       "      <td>[07439, 07822, 07826, 07827, 07848, 07851, 078...</td>\n",
       "      <td>8</td>\n",
       "      <td>07860</td>\n",
       "      <td>9779.5</td>\n",
       "      <td>0.415253</td>\n",
       "      <td>1006.954744</td>\n",
       "    </tr>\n",
       "  </tbody>\n",
       "</table>\n",
       "</div>"
      ],
      "text/plain": [
       "  storeid productid  zoneid  \\\n",
       "0    5223        10  Zn_01D   \n",
       "1    5223        10  Zn_01D   \n",
       "\n",
       "                                                zips  totalcirc  \\\n",
       "0  07439, 07822, 07826, 07827, 07848, 07851, 0786...     1637.0   \n",
       "1  07439, 07822, 07826, 07827, 07848, 07851, 0786...     1637.0   \n",
       "\n",
       "   circ_proportion_of_Null  adjusted_circ_about_Null        Date  \\\n",
       "0                 0.036757               2424.918358  2018-04-29   \n",
       "1                 0.036757               2424.918358  2018-04-29   \n",
       "\n",
       "                                    key  \\\n",
       "0  S_5223 | P_10 | ZZn_01D | 2018-04-29   \n",
       "1  S_5223 | P_10 | ZZn_01D | 2018-04-29   \n",
       "\n",
       "                                            zip_list  zip_count zip_cd  \\\n",
       "0  [07439, 07822, 07826, 07827, 07848, 07851, 078...          8  07822   \n",
       "1  [07439, 07822, 07826, 07827, 07848, 07851, 078...          8  07860   \n",
       "\n",
       "   Households  zip_list_proportion  adjusted_circ_with_list  \n",
       "0       415.6             0.017647                42.792616  \n",
       "1      9779.5             0.415253              1006.954744  "
      ]
     },
     "execution_count": 76,
     "metadata": {},
     "output_type": "execute_result"
    }
   ],
   "source": [
    "output_combined_all_date_M_agg.head(2)"
   ]
  },
  {
   "cell_type": "code",
   "execution_count": 47,
   "metadata": {},
   "outputs": [
    {
     "data": {
      "text/plain": [
       "[8, 9, 10, 11, 12, 13, 14, 15]"
      ]
     },
     "execution_count": 47,
     "metadata": {},
     "output_type": "execute_result"
    }
   ],
   "source": [
    "[x for x in range(8,16)]"
   ]
  },
  {
   "cell_type": "code",
   "execution_count": 49,
   "metadata": {},
   "outputs": [
    {
     "data": {
      "text/plain": [
       "['/home/jian/Projects/Big_Lots/Newspaper/All newspaper files for reading JL/March 19 2017 4 STD.xlsx',\n",
       " '/home/jian/Projects/Big_Lots/Newspaper/All newspaper files for reading JL/August 28 2016 4 STD.xlsx',\n",
       " '/home/jian/Projects/Big_Lots/Newspaper/All newspaper files for reading JL/April 29 2018 4 STD.xlsx',\n",
       " '/home/jian/Projects/Big_Lots/Newspaper/All newspaper files for reading JL/June 11 2017 KJ.xlsx',\n",
       " '/home/jian/Projects/Big_Lots/Newspaper/All newspaper files for reading JL/December 4 2016 4 STD and 6 STD.xlsx',\n",
       " '/home/jian/Projects/Big_Lots/Newspaper/All newspaper files for reading JL/March 4 2018 2 STD.xlsx',\n",
       " '/home/jian/Projects/Big_Lots/Newspaper/All newspaper files for reading JL/April 8 2018 4 STD.xlsx',\n",
       " '/home/jian/Projects/Big_Lots/Newspaper/All newspaper files for reading JL/December 3 2017 6 STD.xlsx',\n",
       " '/home/jian/Projects/Big_Lots/Newspaper/All newspaper files for reading JL/Sept 4 2016 4 STD.xlsx',\n",
       " '/home/jian/Projects/Big_Lots/Newspaper/All newspaper files for reading JL/October 29 2017 KJ.xlsx',\n",
       " '/home/jian/Projects/Big_Lots/Newspaper/All newspaper files for reading JL/Sept 25 2016 2 STD.xlsx',\n",
       " '/home/jian/Projects/Big_Lots/Newspaper/All newspaper files for reading JL/December 11 2016 4 STD and 6 STD.xlsx',\n",
       " '/home/jian/Projects/Big_Lots/Newspaper/All newspaper files for reading JL/April 9 2017 4 STD.xlsx',\n",
       " '/home/jian/Projects/Big_Lots/Newspaper/All newspaper files for reading JL/March 5 2017 2 STD.xlsx',\n",
       " '/home/jian/Projects/Big_Lots/Newspaper/All newspaper files for reading JL/March 18 2018 4 STD.xlsx',\n",
       " '/home/jian/Projects/Big_Lots/Newspaper/All newspaper files for reading JL/March 25 2018 4 STD.xlsx',\n",
       " '/home/jian/Projects/Big_Lots/Newspaper/All newspaper files for reading JL/Feb 12 2017 4 STD.xlsx',\n",
       " '/home/jian/Projects/Big_Lots/Newspaper/All newspaper files for reading JL/Nov 23 2016 6 STD BLUE.xlsx',\n",
       " '/home/jian/Projects/Big_Lots/Newspaper/All newspaper files for reading JL/February 5 2017 4 STD.xlsx',\n",
       " '/home/jian/Projects/Big_Lots/Newspaper/All newspaper files for reading JL/July 30 2017 4 STD.xlsx',\n",
       " '/home/jian/Projects/Big_Lots/Newspaper/All newspaper files for reading JL/Nov 13 2016 4 STD.xlsx',\n",
       " '/home/jian/Projects/Big_Lots/Newspaper/All newspaper files for reading JL/December 17 2017 4 STD.xlsx',\n",
       " '/home/jian/Projects/Big_Lots/Newspaper/All newspaper files for reading JL/April 30 2017 4 STD.xlsx',\n",
       " '/home/jian/Projects/Big_Lots/Newspaper/All newspaper files for reading JL/November 12 2017 KJ.xlsx',\n",
       " '/home/jian/Projects/Big_Lots/Newspaper/All newspaper files for reading JL/April 15 2018 4 STD.xlsx',\n",
       " '/home/jian/Projects/Big_Lots/Newspaper/All newspaper files for reading JL/Oct 23 2016 4 STD.xlsx',\n",
       " '/home/jian/Projects/Big_Lots/Newspaper/All newspaper files for reading JL/Nov 22 2017 6 STD BLUE.xlsx',\n",
       " '/home/jian/Projects/Big_Lots/Newspaper/All newspaper files for reading JL/October 22 2017 KJ.xlsx',\n",
       " '/home/jian/Projects/Big_Lots/Newspaper/All newspaper files for reading JL/Nov 6 2016 4 STD.xlsx',\n",
       " '/home/jian/Projects/Big_Lots/Newspaper/All newspaper files for reading JL/Nov 26 2017 6 STD.xlsx',\n",
       " '/home/jian/Projects/Big_Lots/Newspaper/All newspaper files for reading JL/Nov 19 2017  6 STD.xlsx',\n",
       " '/home/jian/Projects/Big_Lots/Newspaper/All newspaper files for reading JL/Sept 3 2017 4 STD.xlsx',\n",
       " '/home/jian/Projects/Big_Lots/Newspaper/All newspaper files for reading JL/Jan 7 2018 4 STD.xlsx',\n",
       " '/home/jian/Projects/Big_Lots/Newspaper/All newspaper files for reading JL/Nov 20 2016 6 STD.xlsx',\n",
       " '/home/jian/Projects/Big_Lots/Newspaper/All newspaper files for reading JL/March 12 2017 4 STD.xlsx',\n",
       " '/home/jian/Projects/Big_Lots/Newspaper/All newspaper files for reading JL/Oct 30 2016 4 STD.xlsx',\n",
       " '/home/jian/Projects/Big_Lots/Newspaper/All newspaper files for reading JL/October 8 2017 KJ.xlsx',\n",
       " '/home/jian/Projects/Big_Lots/Newspaper/All newspaper files for reading JL/Nov 23 2017 6 STD.xlsx',\n",
       " '/home/jian/Projects/Big_Lots/Newspaper/All newspaper files for reading JL/April 22 2018 4 STD.xlsx',\n",
       " '/home/jian/Projects/Big_Lots/Newspaper/All newspaper files for reading JL/April 2 2017 4 STD.xlsx',\n",
       " '/home/jian/Projects/Big_Lots/Newspaper/All newspaper files for reading JL/Nov 24 2016 4 STD.xlsx',\n",
       " '/home/jian/Projects/Big_Lots/Newspaper/All newspaper files for reading JL/Feb 11 2018 4 STD.xlsx',\n",
       " '/home/jian/Projects/Big_Lots/Newspaper/All newspaper files for reading JL/April 23 2017 4 STD.xlsx',\n",
       " '/home/jian/Projects/Big_Lots/Newspaper/All newspaper files for reading JL/Nov 27 2016 6 STD.xlsx',\n",
       " '/home/jian/Projects/Big_Lots/Newspaper/All newspaper files for reading JL/May 21 2017 4 STD.xlsx',\n",
       " '/home/jian/Projects/Big_Lots/Newspaper/All newspaper files for reading JL/December 10 2017 6 STD.xlsx',\n",
       " '/home/jian/Projects/Big_Lots/Newspaper/All newspaper files for reading JL/Jan 8 2017 4 STD.xlsx',\n",
       " '/home/jian/Projects/Big_Lots/Newspaper/All newspaper files for reading JL/Feb 19 2017 4 STD.xlsx',\n",
       " '/home/jian/Projects/Big_Lots/Newspaper/All newspaper files for reading JL/Oct 9 2016 4 STD.xlsx',\n",
       " '/home/jian/Projects/Big_Lots/Newspaper/All newspaper files for reading JL/November 5 2017 KJ.xlsx',\n",
       " '/home/jian/Projects/Big_Lots/Newspaper/All newspaper files for reading JL/July 16 2017 KJ.xlsx',\n",
       " '/home/jian/Projects/Big_Lots/Newspaper/All newspaper files for reading JL/August 27 2017 KJ.xlsx',\n",
       " '/home/jian/Projects/Big_Lots/Newspaper/All newspaper files for reading JL/Sept 24 2017 2 STD.xlsx',\n",
       " '/home/jian/Projects/Big_Lots/Newspaper/All newspaper files for reading JL/December 18 2016 4 STD.xlsx',\n",
       " '/home/jian/Projects/Big_Lots/Newspaper/All newspaper files for reading JL/Feb 25 2018 4 STD.xlsx',\n",
       " '/home/jian/Projects/Big_Lots/Newspaper/All newspaper files for reading JL/Feb 18 2018 4 STD.xlsx',\n",
       " '/home/jian/Projects/Big_Lots/Newspaper/All newspaper files for reading JL/June 25 2017 KJ.xlsx',\n",
       " '/home/jian/Projects/Big_Lots/Newspaper/All newspaper files for reading JL/May 28 2017 4 STD.xlsx']"
      ]
     },
     "execution_count": 49,
     "metadata": {},
     "output_type": "execute_result"
    }
   ],
   "source": [
    "file_list"
   ]
  },
  {
   "cell_type": "code",
   "execution_count": null,
   "metadata": {
    "collapsed": true
   },
   "outputs": [],
   "source": []
  }
 ],
 "metadata": {
  "kernelspec": {
   "display_name": "Python 3",
   "language": "python",
   "name": "python3"
  },
  "language_info": {
   "codemirror_mode": {
    "name": "ipython",
    "version": 3
   },
   "file_extension": ".py",
   "mimetype": "text/x-python",
   "name": "python",
   "nbconvert_exporter": "python",
   "pygments_lexer": "ipython3",
   "version": "3.6.1"
  }
 },
 "nbformat": 4,
 "nbformat_minor": 2
}
