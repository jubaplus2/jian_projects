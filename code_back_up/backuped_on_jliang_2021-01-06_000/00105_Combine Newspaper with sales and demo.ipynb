{
 "cells": [
  {
   "cell_type": "code",
   "execution_count": 1,
   "metadata": {
    "collapsed": true
   },
   "outputs": [],
   "source": [
    "import pandas as pd\n",
    "import numpy as np"
   ]
  },
  {
   "cell_type": "code",
   "execution_count": null,
   "metadata": {
    "collapsed": true
   },
   "outputs": [],
   "source": [
    "newspaper_wide=pd.read_csv(\"/home/jian/Projects/Big_Lots//Ongoing/Cmobined Newspaper Circular by zip/BL_newspaper wide of date by zip_JL_20180507.csv\",dtype=str)\n",
    "newspaper_wide['zip_cd']=newspaper_wide['zip_cd'].replace(\"00nan\",\"NULL\")\n",
    "store_circ=pd.read_excel(\"/Users/Jian/Desktop/Media Storm/Big Lots/Ongoing/Cmobined Newspaper Circular by zip/BL_combined store circular data_JL_20180412.xlsx\",dtype=str)\n",
    "newspaper_wide_num_cols=newspaper_wide.columns.tolist()\n",
    "newspaper_wide_num_cols.remove('zip_cd')\n",
    "for col in newspaper_wide_num_cols:\n",
    "    newspaper_wide[col]=newspaper_wide[col].astype(float)"
   ]
  },
  {
   "cell_type": "code",
   "execution_count": null,
   "metadata": {
    "collapsed": true
   },
   "outputs": [],
   "source": [
    "store_circ['Ship Volume (Ship)']=store_circ['Ship Volume (Ship)'].astype(float)\n",
    "store_circ=store_circ.groupby(['Zip_5','Date'])['Ship Volume (Ship)'].sum().to_frame()\n",
    "store_circ.reset_index(inplace=True)\n",
    "store_circ.columns=['zip_cd','Date','Volumne']\n",
    "store_circ['Date']=store_circ['Date'].apply(lambda x: \"store_circ_\"+x[0:10])\n",
    "store_circ_wide=store_circ.pivot(index=\"zip_cd\",columns=\"Date\",values=\"Volumne\").reset_index()"
   ]
  },
  {
   "cell_type": "code",
   "execution_count": null,
   "metadata": {
    "collapsed": true
   },
   "outputs": [],
   "source": [
    "newspaper_wide.columns=['zip_cd']+[\"col_\"+x[(len(x)-10):]+\"_\"+x[0:9] for x in newspaper_wide.columns.tolist()[1:]]\n",
    "store_circ_wide.columns=['zip_cd']+[\"col_\"+x[(len(x)-10):]+\"_\"+x[0:10] for x in store_circ_wide.columns.tolist()[1:]]\n",
    "new_cols=list(set(newspaper_wide.columns.tolist()+store_circ_wide.columns.tolist()))\n",
    "new_cols.remove(\"zip_cd\")\n",
    "new_columnes=[\"zip_cd\"]+sorted(new_cols)"
   ]
  },
  {
   "cell_type": "code",
   "execution_count": null,
   "metadata": {
    "collapsed": true
   },
   "outputs": [],
   "source": [
    "variable_df=pd.merge(newspaper_wide,store_circ_wide,on=\"zip_cd\",how=\"outer\")[new_columnes]"
   ]
  },
  {
   "cell_type": "code",
   "execution_count": null,
   "metadata": {
    "collapsed": true
   },
   "outputs": [],
   "source": [
    "zips_P_S_store=pd.read_excel(\"/Users/Jian/Desktop/Media Storm/Big Lots/New TA/zips in new ta/BL_Zips in new TA (TA level)_JL_20180330.xlsx\",dtype=str)\n",
    "zips_P_S=zips_P_S_store.groupby(['zip_cd','revenue_flag'])['location_id'].apply(set).to_frame()\n",
    "zips_P_S.reset_index(inplace=True)\n",
    "zips_P_S['location_id']=zips_P_S['location_id'].apply(lambda x:list(x))\n",
    "zips_P_S['store_1_in_zip']=zips_P_S['location_id'].apply(lambda x: x[0])\n",
    "zips_P_S['store_2_in_zip']=np.nan\n",
    "for i in range(len(zips_P_S)):\n",
    "    if len(zips_P_S['location_id'][i])==2:\n",
    "        zips_P_S['store_2_in_zip'][i]=zips_P_S['location_id'][i][1]\n",
    "        print(zips_P_S['zip_cd'][i])\n",
    "    elif len(zips_P_S['location_id'][i])==1:\n",
    "        zips_P_S['store_2_in_zip'][i]='nan'\n",
    "    else:\n",
    "        zips_P_S['store_2_in_zip'][i]=\"Check_Error\"\n",
    "del zips_P_S['location_id']\n",
    "zips_P_S['store_1_in_zip']=zips_P_S['store_1_in_zip'].replace(\"nan\",np.nan)\n",
    "zips_P_S['store_2_in_zip']=zips_P_S['store_2_in_zip'].replace(\"nan\",np.nan)"
   ]
  },
  {
   "cell_type": "code",
   "execution_count": null,
   "metadata": {
    "collapsed": true
   },
   "outputs": [],
   "source": [
    "demographic=pd.read_csv(\"/Users/Jian/Desktop/Media Storm/Docs/Household and Population/2016/output/Demo_Dataset.csv\",dtype=str)\n",
    "demographic['ZIP_CODE']=demographic['ZIP_CODE'].apply(lambda x: x.zfill(5))\n",
    "demographic=demographic[[\"ZIP_CODE\",\"HH15\",\"Estimate; Female: - 25 to 29 years\",\"Estimate; Female: - 30 to 34 years\",\n",
    "                         \"Estimate; Female: - 35 to 39 years\",\"Estimate; Female: - 40 to 44 years\",\n",
    "                         \"Estimate; Female: - 45 to 49 years\",\"Estimate; Female: - 50 to 54 years\"]]\n",
    "num_col_demo=[\"HH15\",\"Estimate; Female: - 25 to 29 years\",\"Estimate; Female: - 30 to 34 years\",\n",
    "                         \"Estimate; Female: - 35 to 39 years\",\"Estimate; Female: - 40 to 44 years\",\n",
    "                         \"Estimate; Female: - 45 to 49 years\",\"Estimate; Female: - 50 to 54 years\"]\n",
    "for col in num_col_demo:\n",
    "    demographic[col]=demographic[col].astype(float)\n",
    "demographic['Female_25_54']=demographic['Estimate; Female: - 25 to 29 years']+demographic['Estimate; Female: - 30 to 34 years']+\\\n",
    "demographic['Estimate; Female: - 35 to 39 years']+demographic['Estimate; Female: - 40 to 44 years']+\\\n",
    "demographic['Estimate; Female: - 45 to 49 years']+demographic['Estimate; Female: - 50 to 54 years']\n",
    "demographic=demographic[['ZIP_CODE','HH15','Female_25_54']]\n",
    "demographic.columns=['zip_cd','HH15','Female_25_54']\n",
    "demographic['HH15']=demographic['HH15'].replace(-1,np.nan)"
   ]
  },
  {
   "cell_type": "code",
   "execution_count": null,
   "metadata": {
    "collapsed": true
   },
   "outputs": [],
   "source": [
    "Loyal_member=pd.read_csv(\"/Users/Jian/Desktop/Media Storm/Big Lots/Ongoing/Cmobined Newspaper Circular by zip/Idsbyzipcode.csv\",dtype=str)\n",
    "Loyal_member.columns=['zip_cd','loyal_members']\n",
    "Loyal_member['zip_cd']=Loyal_member['zip_cd'].apply(lambda x: x.zfill(5))\n",
    "Loyal_member['loyal_members']=Loyal_member['loyal_members'].astype(float)"
   ]
  },
  {
   "cell_type": "code",
   "execution_count": null,
   "metadata": {
    "collapsed": true
   },
   "outputs": [],
   "source": [
    "result=pd.merge(zips_P_S,demographic,on='zip_cd',how=\"outer\")\n",
    "result=pd.merge(result,Loyal_member,on=\"zip_cd\",how=\"left\")\n",
    "result=pd.merge(result,variable_df,on=\"zip_cd\",how=\"outer\")"
   ]
  },
  {
   "cell_type": "code",
   "execution_count": null,
   "metadata": {
    "collapsed": true
   },
   "outputs": [],
   "source": [
    "result=result.sort_values(\"zip_cd\")"
   ]
  },
  {
   "cell_type": "code",
   "execution_count": null,
   "metadata": {
    "collapsed": true
   },
   "outputs": [],
   "source": [
    "result.to_excel(\"/Users/Jian/Desktop/Media Storm/Big Lots/Ongoing/Cmobined Newspaper Circular by zip/output/BL_circula data_JL_20180507.xlsx\",index=False)"
   ]
  }
 ],
 "metadata": {
  "kernelspec": {
   "display_name": "Python 3",
   "language": "python",
   "name": "python3"
  },
  "language_info": {
   "codemirror_mode": {
    "name": "ipython",
    "version": 3
   },
   "file_extension": ".py",
   "mimetype": "text/x-python",
   "name": "python",
   "nbconvert_exporter": "python",
   "pygments_lexer": "ipython3",
   "version": "3.6.1"
  }
 },
 "nbformat": 4,
 "nbformat_minor": 2
}
