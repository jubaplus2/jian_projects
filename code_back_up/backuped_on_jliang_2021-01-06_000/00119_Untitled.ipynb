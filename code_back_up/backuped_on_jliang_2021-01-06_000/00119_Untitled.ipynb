{
 "cells": [
  {
   "cell_type": "code",
   "execution_count": 1,
   "metadata": {
    "collapsed": true
   },
   "outputs": [],
   "source": [
    "import pandas as pd"
   ]
  },
  {
   "cell_type": "code",
   "execution_count": 2,
   "metadata": {
    "collapsed": true
   },
   "outputs": [],
   "source": [
    "loyalty_sales_df=pd.read_csv(\"/home/jian/Projects/Big_Lots/Loyal_members/sales_of_loyalty_member/2018-06-20/sales_by_location_id_agg_2018-06-20.csv\",dtype=str)\n",
    "loyalty_sales_df['customer_zip_code']=loyalty_sales_df['customer_zip_code'].apply(lambda x: x.zfill(5))\n",
    "loyalty_sales_df['non_loyalty_sales_zip']=loyalty_sales_df['non_loyalty_sales_zip'].astype(float)\n",
    "loyalty_sales_df['loyal_sales_zip']=loyalty_sales_df['loyal_sales_zip'].astype(float)\n",
    "loyalty_sales_df['total_sales_zip']=loyalty_sales_df['loyal_sales_zip']+loyalty_sales_df['non_loyalty_sales_zip']\n",
    "loyalty_sales_df['loyal_sales_pctg']=loyalty_sales_df['loyal_sales_pctg'].astype(float)\n",
    "\n",
    "\n",
    "\n",
    "\n",
    "\n",
    "non_loyalty_sales_by_zip=loyalty_sales_df.groupby(['customer_zip_code'])['non_loyalty_sales_zip','loyal_sales_zip','total_sales_zip'].sum().reset_index()\n",
    "non_loyalty_sales_by_zip=non_loyalty_sales_by_zip.rename(columns={\"customer_zip_code\":\"zip_cd\",'non_loyalty_sales_zip':'non_loyalty_sales_46',\n",
    "                                                                 'loyal_sales_zip':'loyal_sales_46','total_sales_zip':'total_sales_46'})\n",
    "non_loyalty_sales_by_zip['Loyalty_Ratio']=non_loyalty_sales_by_zip['loyal_sales_46']/non_loyalty_sales_by_zip['total_sales_46']\n",
    "#Exclude zips which loyalty sales >0.65 and <0 and all sales <0\n",
    "non_loyalty_sales_by_zip_exclude=non_loyalty_sales_by_zip[(non_loyalty_sales_by_zip['non_loyalty_sales_46']<0) |\\\n",
    "                                                         (non_loyalty_sales_by_zip['loyal_sales_46']<0) |\\\n",
    "                                                         (non_loyalty_sales_by_zip['total_sales_46']<0) |\\\n",
    "                                                         (non_loyalty_sales_by_zip['Loyalty_Ratio']<0) |\\\n",
    "                                                         (non_loyalty_sales_by_zip['Loyalty_Ratio']>0.65)]\n",
    "non_loyalty_sales_by_zip_include=non_loyalty_sales_by_zip[(non_loyalty_sales_by_zip['non_loyalty_sales_46']>=0) &\\\n",
    "                                                         (non_loyalty_sales_by_zip['loyal_sales_46']>=0) &\\\n",
    "                                                         (non_loyalty_sales_by_zip['total_sales_46']>=0) &\\\n",
    "                                                         (non_loyalty_sales_by_zip['Loyalty_Ratio']>=0) &\\\n",
    "                                                         (non_loyalty_sales_by_zip['Loyalty_Ratio']<=0.65)]"
   ]
  },
  {
   "cell_type": "code",
   "execution_count": 3,
   "metadata": {},
   "outputs": [
    {
     "data": {
      "text/html": [
       "<div>\n",
       "<style>\n",
       "    .dataframe thead tr:only-child th {\n",
       "        text-align: right;\n",
       "    }\n",
       "\n",
       "    .dataframe thead th {\n",
       "        text-align: left;\n",
       "    }\n",
       "\n",
       "    .dataframe tbody tr th {\n",
       "        vertical-align: top;\n",
       "    }\n",
       "</style>\n",
       "<table border=\"1\" class=\"dataframe\">\n",
       "  <thead>\n",
       "    <tr style=\"text-align: right;\">\n",
       "      <th></th>\n",
       "      <th>zip_cd</th>\n",
       "      <th>non_loyalty_sales_46</th>\n",
       "      <th>loyal_sales_46</th>\n",
       "      <th>total_sales_46</th>\n",
       "      <th>Loyalty_Ratio</th>\n",
       "    </tr>\n",
       "  </thead>\n",
       "  <tbody>\n",
       "    <tr>\n",
       "      <th>0</th>\n",
       "      <td>00000</td>\n",
       "      <td>7.106392e+07</td>\n",
       "      <td>60325476.35</td>\n",
       "      <td>1.313894e+08</td>\n",
       "      <td>0.459135</td>\n",
       "    </tr>\n",
       "    <tr>\n",
       "      <th>1</th>\n",
       "      <td>00001</td>\n",
       "      <td>4.585397e+02</td>\n",
       "      <td>513.33</td>\n",
       "      <td>9.718697e+02</td>\n",
       "      <td>0.528188</td>\n",
       "    </tr>\n",
       "  </tbody>\n",
       "</table>\n",
       "</div>"
      ],
      "text/plain": [
       "  zip_cd  non_loyalty_sales_46  loyal_sales_46  total_sales_46  Loyalty_Ratio\n",
       "0  00000          7.106392e+07     60325476.35    1.313894e+08       0.459135\n",
       "1  00001          4.585397e+02          513.33    9.718697e+02       0.528188"
      ]
     },
     "execution_count": 3,
     "metadata": {},
     "output_type": "execute_result"
    }
   ],
   "source": [
    "non_loyalty_sales_by_zip_include['non_loyalty_sales_by_zip_include']"
   ]
  },
  {
   "cell_type": "code",
   "execution_count": 5,
   "metadata": {},
   "outputs": [
    {
     "data": {
      "text/plain": [
       "54010"
      ]
     },
     "execution_count": 5,
     "metadata": {},
     "output_type": "execute_result"
    }
   ],
   "source": [
    "len(non_loyalty_sales_by_zip_include['zip_cd'].unique())"
   ]
  },
  {
   "cell_type": "code",
   "execution_count": 8,
   "metadata": {},
   "outputs": [
    {
     "data": {
      "text/html": [
       "<div>\n",
       "<style>\n",
       "    .dataframe thead tr:only-child th {\n",
       "        text-align: right;\n",
       "    }\n",
       "\n",
       "    .dataframe thead th {\n",
       "        text-align: left;\n",
       "    }\n",
       "\n",
       "    .dataframe tbody tr th {\n",
       "        vertical-align: top;\n",
       "    }\n",
       "</style>\n",
       "<table border=\"1\" class=\"dataframe\">\n",
       "  <thead>\n",
       "    <tr style=\"text-align: right;\">\n",
       "      <th></th>\n",
       "      <th>zip_cd</th>\n",
       "      <th>non_loyalty_sales_46</th>\n",
       "      <th>loyal_sales_46</th>\n",
       "      <th>total_sales_46</th>\n",
       "      <th>Loyalty_Ratio</th>\n",
       "    </tr>\n",
       "  </thead>\n",
       "  <tbody>\n",
       "    <tr>\n",
       "      <th>31733</th>\n",
       "      <td>54914</td>\n",
       "      <td>330857.98593</td>\n",
       "      <td>263780.67</td>\n",
       "      <td>594638.65593</td>\n",
       "      <td>0.443598</td>\n",
       "    </tr>\n",
       "  </tbody>\n",
       "</table>\n",
       "</div>"
      ],
      "text/plain": [
       "      zip_cd  non_loyalty_sales_46  loyal_sales_46  total_sales_46  \\\n",
       "31733  54914          330857.98593       263780.67    594638.65593   \n",
       "\n",
       "       Loyalty_Ratio  \n",
       "31733       0.443598  "
      ]
     },
     "execution_count": 8,
     "metadata": {},
     "output_type": "execute_result"
    }
   ],
   "source": [
    "non_loyalty_sales_by_zip_include[non_loyalty_sales_by_zip_include['zip_cd']==\"54914\"]"
   ]
  },
  {
   "cell_type": "code",
   "execution_count": null,
   "metadata": {
    "collapsed": true
   },
   "outputs": [],
   "source": []
  }
 ],
 "metadata": {
  "kernelspec": {
   "display_name": "Python 3",
   "language": "python",
   "name": "python3"
  },
  "language_info": {
   "codemirror_mode": {
    "name": "ipython",
    "version": 3
   },
   "file_extension": ".py",
   "mimetype": "text/x-python",
   "name": "python",
   "nbconvert_exporter": "python",
   "pygments_lexer": "ipython3",
   "version": "3.6.1"
  }
 },
 "nbformat": 4,
 "nbformat_minor": 2
}
