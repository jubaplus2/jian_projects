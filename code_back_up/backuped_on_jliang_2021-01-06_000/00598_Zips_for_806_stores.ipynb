{
 "cells": [
  {
   "cell_type": "code",
   "execution_count": 1,
   "metadata": {},
   "outputs": [
    {
     "data": {
      "text/plain": [
       "'/home/jian/Projects/Big_Lots/Analysis/2019_Q1/Planner_Request/Zips_for_WarmEarly_Kayla_20190220'"
      ]
     },
     "execution_count": 1,
     "metadata": {},
     "output_type": "execute_result"
    }
   ],
   "source": [
    "import pandas as pd\n",
    "import numpy as np\n",
    "import datetime\n",
    "import json\n",
    "import os\n",
    "from haversine import haversine\n",
    "\n",
    "zip_centers=json.load(open(\"/home/jian/Docs/Geo_mapping/center_of_rentrak_zip.json\",\"r\"))\n",
    "os.getcwd()"
   ]
  },
  {
   "cell_type": "code",
   "execution_count": 2,
   "metadata": {
    "collapsed": true
   },
   "outputs": [],
   "source": [
    "inclusion_stores=pd.read_excel(\"/home/jian/Projects/Big_Lots/Analysis/2019_Q1/Planner_Request/Zips_for_WarmEarly_Kayla_20190220/Master Store by Attribute Listing Feb 2019.xlsm\",dtype=str)\n",
    "del inclusion_stores['Unnamed: 0']\n",
    "inclusion_stores=inclusion_stores[inclusion_stores['EWC'].isin([\"Warm\",\"Early\"])]\n",
    "inclusion_stores=inclusion_stores['Store'].unique().tolist()"
   ]
  },
  {
   "cell_type": "code",
   "execution_count": 3,
   "metadata": {},
   "outputs": [
    {
     "data": {
      "text/plain": [
       "774"
      ]
     },
     "execution_count": 3,
     "metadata": {},
     "output_type": "execute_result"
    }
   ],
   "source": [
    "store_labels=pd.read_csv(\"/home/jian/Projects/Big_Lots/New_TA/zips_in_new_ta/sales_by_zip (Store level).csv\",dtype=str)\n",
    "store_labels=store_labels[['location_id','revenue_flag','zip']]\n",
    "store_labels=store_labels[store_labels['revenue_flag'].isin([\"P\",\"S\"])]\n",
    "store_labels=store_labels[store_labels['location_id'].isin(inclusion_stores)]\n",
    "len(store_labels['location_id'].unique())"
   ]
  },
  {
   "cell_type": "code",
   "execution_count": 4,
   "metadata": {},
   "outputs": [
    {
     "data": {
      "text/plain": [
       "32"
      ]
     },
     "execution_count": 4,
     "metadata": {},
     "output_type": "execute_result"
    }
   ],
   "source": [
    "new_stores=[x for x in inclusion_stores if x not in store_labels['location_id'].unique().tolist()]\n",
    "len(new_stores)"
   ]
  },
  {
   "cell_type": "code",
   "execution_count": 5,
   "metadata": {
    "collapsed": true
   },
   "outputs": [],
   "source": [
    "store_list=pd.read_table(\"/home/jian/BigLots/static_files/Store_list/MediaStormStores20190201-133832-957.txt\",dtype=str,sep=\"|\")\n",
    "store_list['latitude_meas']=store_list['latitude_meas'].astype(float)\n",
    "store_list['longitude_meas']=store_list['longitude_meas'].astype(float)\n",
    "\n",
    "# store_list['zip']=store_list['zip_cd'].apply(lambda x: x.split(\"-\")[0].zfill(5))\n",
    "store_list=store_list[['location_id','latitude_meas','longitude_meas']]"
   ]
  },
  {
   "cell_type": "code",
   "execution_count": 6,
   "metadata": {},
   "outputs": [
    {
     "name": "stderr",
     "output_type": "stream",
     "text": [
      "/usr/local/lib/python3.6/site-packages/ipykernel_launcher.py:14: SettingWithCopyWarning: \n",
      "A value is trying to be set on a copy of a slice from a DataFrame\n",
      "\n",
      "See the caveats in the documentation: http://pandas.pydata.org/pandas-docs/stable/indexing.html#indexing-view-versus-copy\n",
      "  \n"
     ]
    },
    {
     "data": {
      "text/html": [
       "<div>\n",
       "<style>\n",
       "    .dataframe thead tr:only-child th {\n",
       "        text-align: right;\n",
       "    }\n",
       "\n",
       "    .dataframe thead th {\n",
       "        text-align: left;\n",
       "    }\n",
       "\n",
       "    .dataframe tbody tr th {\n",
       "        vertical-align: top;\n",
       "    }\n",
       "</style>\n",
       "<table border=\"1\" class=\"dataframe\">\n",
       "  <thead>\n",
       "    <tr style=\"text-align: right;\">\n",
       "      <th></th>\n",
       "      <th>location_id</th>\n",
       "      <th>revenue_flag</th>\n",
       "      <th>zip</th>\n",
       "      <th>latitude_meas</th>\n",
       "      <th>longitude_meas</th>\n",
       "      <th>dist_miles</th>\n",
       "    </tr>\n",
       "  </thead>\n",
       "  <tbody>\n",
       "    <tr>\n",
       "      <th>0</th>\n",
       "      <td>1001</td>\n",
       "      <td>P</td>\n",
       "      <td>37110</td>\n",
       "      <td>35.699926</td>\n",
       "      <td>-85.781388</td>\n",
       "      <td>0.774369</td>\n",
       "    </tr>\n",
       "    <tr>\n",
       "      <th>1</th>\n",
       "      <td>1001</td>\n",
       "      <td>S</td>\n",
       "      <td>37357</td>\n",
       "      <td>35.699926</td>\n",
       "      <td>-85.781388</td>\n",
       "      <td>10.158042</td>\n",
       "    </tr>\n",
       "    <tr>\n",
       "      <th>2</th>\n",
       "      <td>1001</td>\n",
       "      <td>S</td>\n",
       "      <td>37166</td>\n",
       "      <td>35.699926</td>\n",
       "      <td>-85.781388</td>\n",
       "      <td>16.049509</td>\n",
       "    </tr>\n",
       "    <tr>\n",
       "      <th>3</th>\n",
       "      <td>1001</td>\n",
       "      <td>S</td>\n",
       "      <td>38581</td>\n",
       "      <td>35.699926</td>\n",
       "      <td>-85.781388</td>\n",
       "      <td>9.007219</td>\n",
       "    </tr>\n",
       "    <tr>\n",
       "      <th>4</th>\n",
       "      <td>1001</td>\n",
       "      <td>S</td>\n",
       "      <td>37190</td>\n",
       "      <td>35.699926</td>\n",
       "      <td>-85.781388</td>\n",
       "      <td>17.052225</td>\n",
       "    </tr>\n",
       "  </tbody>\n",
       "</table>\n",
       "</div>"
      ],
      "text/plain": [
       "  location_id revenue_flag    zip  latitude_meas  longitude_meas  dist_miles\n",
       "0        1001            P  37110      35.699926      -85.781388    0.774369\n",
       "1        1001            S  37357      35.699926      -85.781388   10.158042\n",
       "2        1001            S  37166      35.699926      -85.781388   16.049509\n",
       "3        1001            S  38581      35.699926      -85.781388    9.007219\n",
       "4        1001            S  37190      35.699926      -85.781388   17.052225"
      ]
     },
     "execution_count": 6,
     "metadata": {},
     "output_type": "execute_result"
    }
   ],
   "source": [
    "output_part_1=pd.merge(store_labels,store_list,on=\"location_id\",how=\"left\")\n",
    "output_part_1=output_part_1.reset_index()\n",
    "del output_part_1['index']\n",
    "output_part_1['dist_miles']=np.nan\n",
    "\n",
    "for i in range(len(output_part_1)):\n",
    "    zip_cd=output_part_1['zip'][i]\n",
    "    store_centers=[output_part_1['latitude_meas'][i],output_part_1['longitude_meas'][i]]\n",
    "\n",
    "    if zip_cd in zip_centers.keys():\n",
    "        dist=haversine(zip_centers[zip_cd],store_centers,miles=True)\n",
    "    else:\n",
    "        dist=np.nan\n",
    "    output_part_1['dist_miles'][i]=dist\n",
    "\n",
    "output_part_1.head(5)"
   ]
  },
  {
   "cell_type": "code",
   "execution_count": 7,
   "metadata": {},
   "outputs": [
    {
     "data": {
      "text/plain": [
       "['4674', '5370', '4693']"
      ]
     },
     "execution_count": 7,
     "metadata": {},
     "output_type": "execute_result"
    }
   ],
   "source": [
    "new_stores_1=store_list[store_list['location_id'].isin(new_stores)]\n",
    "new_stores_1.shape\n",
    "new_stores_2=[x for x in new_stores if x not in new_stores_1['location_id'].unique().tolist()]\n",
    "new_stores_2"
   ]
  },
  {
   "cell_type": "code",
   "execution_count": 8,
   "metadata": {
    "collapsed": true
   },
   "outputs": [],
   "source": [
    "new_stores_2_dict={}\n",
    "new_stores_2_dict.update({\"4674\":[38.7211536,-121.2927469]})\n",
    "new_stores_2_dict.update({\"4693\":[45.6780365,-122.5548524]})\n",
    "new_stores_2_dict.update({\"5370\":[27.3400793,-82.4995067]})\n",
    "new_stores_2=pd.DataFrame({\"location_id\":list(new_stores_2_dict.keys())},index=[0,1,2])\n",
    "new_stores_2['latitude_meas']=new_stores_2['location_id'].apply(lambda x: new_stores_2_dict[x][0])\n",
    "new_stores_2['longitude_meas']=new_stores_2['location_id'].apply(lambda x: new_stores_2_dict[x][1])"
   ]
  },
  {
   "cell_type": "code",
   "execution_count": 9,
   "metadata": {
    "collapsed": true
   },
   "outputs": [],
   "source": [
    "new_stores=new_stores_1.append(new_stores_2)\n",
    "new_stores=new_stores.sort_values(['location_id']).reset_index()\n",
    "del new_stores['index']"
   ]
  },
  {
   "cell_type": "code",
   "execution_count": 10,
   "metadata": {
    "collapsed": true
   },
   "outputs": [],
   "source": [
    "output_part_2=pd.DataFrame()\n",
    "for i in range(len(new_stores)):\n",
    "    store_id=new_stores['location_id'][i]\n",
    "    store_center=[new_stores['latitude_meas'][i],new_stores['longitude_meas'][i]]\n",
    "    for zip_cd in zip_centers.keys():\n",
    "        dist=haversine(store_center,zip_centers[zip_cd],miles=True)\n",
    "        if dist<=10:\n",
    "            df=pd.DataFrame({\"location_id\":store_id,\"revenue_flag\":\"zips_in_10\",\"zip\":zip_cd,\"latitude_meas\":store_center[0],\"longitude_meas\":store_center[1],\"dist_miles\":dist},index=[0])\n",
    "            output_part_2=output_part_2.append(df)\n",
    "output_part_2=output_part_2.reset_index()\n",
    "del output_part_2['index']\n",
    "output_part_2=output_part_2[output_part_1.columns.tolist()]"
   ]
  },
  {
   "cell_type": "code",
   "execution_count": 11,
   "metadata": {
    "collapsed": true
   },
   "outputs": [],
   "source": [
    "output_part_1=output_part_1[(output_part_1['revenue_flag']==\"P\") | (output_part_1['dist_miles']<=20)]"
   ]
  },
  {
   "cell_type": "code",
   "execution_count": 12,
   "metadata": {},
   "outputs": [
    {
     "data": {
      "text/html": [
       "<div>\n",
       "<style>\n",
       "    .dataframe thead tr:only-child th {\n",
       "        text-align: right;\n",
       "    }\n",
       "\n",
       "    .dataframe thead th {\n",
       "        text-align: left;\n",
       "    }\n",
       "\n",
       "    .dataframe tbody tr th {\n",
       "        vertical-align: top;\n",
       "    }\n",
       "</style>\n",
       "<table border=\"1\" class=\"dataframe\">\n",
       "  <thead>\n",
       "    <tr style=\"text-align: right;\">\n",
       "      <th></th>\n",
       "      <th>location_id</th>\n",
       "      <th>revenue_flag</th>\n",
       "      <th>zip</th>\n",
       "      <th>latitude_meas</th>\n",
       "      <th>longitude_meas</th>\n",
       "      <th>dist_miles</th>\n",
       "    </tr>\n",
       "  </thead>\n",
       "  <tbody>\n",
       "    <tr>\n",
       "      <th>0</th>\n",
       "      <td>1001</td>\n",
       "      <td>P</td>\n",
       "      <td>37110</td>\n",
       "      <td>35.699926</td>\n",
       "      <td>-85.781388</td>\n",
       "      <td>0.774369</td>\n",
       "    </tr>\n",
       "    <tr>\n",
       "      <th>1</th>\n",
       "      <td>1001</td>\n",
       "      <td>S</td>\n",
       "      <td>37357</td>\n",
       "      <td>35.699926</td>\n",
       "      <td>-85.781388</td>\n",
       "      <td>10.158042</td>\n",
       "    </tr>\n",
       "    <tr>\n",
       "      <th>2</th>\n",
       "      <td>1001</td>\n",
       "      <td>S</td>\n",
       "      <td>37166</td>\n",
       "      <td>35.699926</td>\n",
       "      <td>-85.781388</td>\n",
       "      <td>16.049509</td>\n",
       "    </tr>\n",
       "  </tbody>\n",
       "</table>\n",
       "</div>"
      ],
      "text/plain": [
       "  location_id revenue_flag    zip  latitude_meas  longitude_meas  dist_miles\n",
       "0        1001            P  37110      35.699926      -85.781388    0.774369\n",
       "1        1001            S  37357      35.699926      -85.781388   10.158042\n",
       "2        1001            S  37166      35.699926      -85.781388   16.049509"
      ]
     },
     "execution_count": 12,
     "metadata": {},
     "output_type": "execute_result"
    }
   ],
   "source": [
    "output_by_store=output_part_1.append(output_part_2)\n",
    "output_by_store.head(3)"
   ]
  },
  {
   "cell_type": "code",
   "execution_count": 14,
   "metadata": {
    "collapsed": true
   },
   "outputs": [],
   "source": [
    "output_by_zip=output_by_store[['zip','revenue_flag','dist_miles']]\n",
    "output_by_zip=output_by_zip.sort_values([\"zip\",'revenue_flag','dist_miles']).drop_duplicates('zip')"
   ]
  },
  {
   "cell_type": "code",
   "execution_count": 15,
   "metadata": {
    "collapsed": true
   },
   "outputs": [],
   "source": [
    "writer=pd.ExcelWriter(\"/home/jian/Projects/Big_Lots/Analysis/2019_Q1/Planner_Request/Zips_for_WarmEarly_Kayla_20190220/BL_zips_for_806_Warm_Early_stores_JL_\"+str(datetime.datetime.now().date())+\".xlsx\",engine=\"xlsxwriter\")\n",
    "output_by_zip=output_by_zip[['zip','revenue_flag']]\n",
    "output_by_zip.to_excel(writer,\"Unique_zips\",index=False)\n",
    "output_by_store=output_by_store.sort_values([\"location_id\",\"revenue_flag\",'zip'])\n",
    "output_by_store.to_excel(writer,\"zips_by_store\",index=False)\n",
    "writer.save()"
   ]
  },
  {
   "cell_type": "code",
   "execution_count": null,
   "metadata": {
    "collapsed": true
   },
   "outputs": [],
   "source": []
  }
 ],
 "metadata": {
  "kernelspec": {
   "display_name": "Python 3",
   "language": "python",
   "name": "python3"
  },
  "language_info": {
   "codemirror_mode": {
    "name": "ipython",
    "version": 3
   },
   "file_extension": ".py",
   "mimetype": "text/x-python",
   "name": "python",
   "nbconvert_exporter": "python",
   "pygments_lexer": "ipython3",
   "version": "3.6.1"
  }
 },
 "nbformat": 4,
 "nbformat_minor": 2
}
