{
 "cells": [
  {
   "cell_type": "code",
   "execution_count": 46,
   "metadata": {
    "collapsed": true
   },
   "outputs": [],
   "source": [
    "import pandas as pd\n",
    "import numpy as np"
   ]
  },
  {
   "cell_type": "code",
   "execution_count": 23,
   "metadata": {
    "collapsed": true
   },
   "outputs": [],
   "source": [
    "sales_data_with_wholes=pd.read_excel(\"/home/jian/Projects/Big_Lots/Newspaper/output_2018-05-25/sales_data_2_year_compariable_0525.xlsx\",sheetname=None,dtype=str)\n",
    "compariable_store_week_sales=sales_data_with_wholes[list(sales_data_with_wholes.keys())[1]]\n",
    "circ_data=pd.read_csv(\"/home/jian/Projects/Big_Lots/Newspaper/Analysis/2018-06-06/zip_level_data_revised_2018-06-06.csv\",dtype=str)"
   ]
  },
  {
   "cell_type": "code",
   "execution_count": 24,
   "metadata": {},
   "outputs": [],
   "source": [
    "circ_data=circ_data[['zip_cd','location_id','Store_1','Store_2','2017_compariable_sales','2018_compariable_sales']]"
   ]
  },
  {
   "cell_type": "code",
   "execution_count": 25,
   "metadata": {},
   "outputs": [],
   "source": [
    "compariable_store_week_sales=compariable_store_week_sales[(compariable_store_week_sales['location_id'].isin(circ_data['Store_1'])) | (compariable_store_week_sales['location_id'].isin(circ_data['Store_2'])) ]\n",
    "\n",
    "\n"
   ]
  },
  {
   "cell_type": "code",
   "execution_count": 26,
   "metadata": {},
   "outputs": [
    {
     "data": {
      "text/plain": [
       "(1386, 105)"
      ]
     },
     "execution_count": 26,
     "metadata": {},
     "output_type": "execute_result"
    }
   ],
   "source": [
    "compariable_store_week_sales.shape"
   ]
  },
  {
   "cell_type": "code",
   "execution_count": 28,
   "metadata": {},
   "outputs": [
    {
     "name": "stderr",
     "output_type": "stream",
     "text": [
      "/usr/local/lib/python3.6/site-packages/ipykernel_launcher.py:2: SettingWithCopyWarning: \n",
      "A value is trying to be set on a copy of a slice from a DataFrame.\n",
      "Try using .loc[row_indexer,col_indexer] = value instead\n",
      "\n",
      "See the caveats in the documentation: http://pandas.pydata.org/pandas-docs/stable/indexing.html#indexing-view-versus-copy\n",
      "  \n"
     ]
    }
   ],
   "source": [
    "for col in compariable_store_week_sales.columns.tolist()[1:]:\n",
    "    compariable_store_week_sales[col]=compariable_store_week_sales[col].astype(float)\n"
   ]
  },
  {
   "cell_type": "code",
   "execution_count": 29,
   "metadata": {},
   "outputs": [
    {
     "name": "stderr",
     "output_type": "stream",
     "text": [
      "/usr/local/lib/python3.6/site-packages/ipykernel_launcher.py:1: SettingWithCopyWarning: \n",
      "A value is trying to be set on a copy of a slice from a DataFrame.\n",
      "Try using .loc[row_indexer,col_indexer] = value instead\n",
      "\n",
      "See the caveats in the documentation: http://pandas.pydata.org/pandas-docs/stable/indexing.html#indexing-view-versus-copy\n",
      "  \"\"\"Entry point for launching an IPython kernel.\n"
     ]
    }
   ],
   "source": [
    "compariable_store_week_sales['Sum']=compariable_store_week_sales[compariable_store_week_sales.columns.tolist()[1:]].sum(axis=1)\n",
    "\n"
   ]
  },
  {
   "cell_type": "code",
   "execution_count": 59,
   "metadata": {},
   "outputs": [
    {
     "data": {
      "text/plain": [
       "(1386, 106)"
      ]
     },
     "execution_count": 59,
     "metadata": {},
     "output_type": "execute_result"
    }
   ],
   "source": [
    "compariable_store_week_sales.shape"
   ]
  },
  {
   "cell_type": "code",
   "execution_count": 61,
   "metadata": {},
   "outputs": [],
   "source": [
    "del compariable_store_week_sales['Sum']"
   ]
  },
  {
   "cell_type": "code",
   "execution_count": 62,
   "metadata": {},
   "outputs": [
    {
     "data": {
      "text/html": [
       "<div>\n",
       "<style>\n",
       "    .dataframe thead tr:only-child th {\n",
       "        text-align: right;\n",
       "    }\n",
       "\n",
       "    .dataframe thead th {\n",
       "        text-align: left;\n",
       "    }\n",
       "\n",
       "    .dataframe tbody tr th {\n",
       "        vertical-align: top;\n",
       "    }\n",
       "</style>\n",
       "<table border=\"1\" class=\"dataframe\">\n",
       "  <thead>\n",
       "    <tr style=\"text-align: right;\">\n",
       "      <th></th>\n",
       "      <th>location_id</th>\n",
       "      <th>2016-05-14</th>\n",
       "      <th>2016-05-21</th>\n",
       "      <th>2016-05-28</th>\n",
       "      <th>2016-06-04</th>\n",
       "      <th>2016-06-11</th>\n",
       "      <th>2016-06-18</th>\n",
       "      <th>2016-06-25</th>\n",
       "      <th>2016-07-02</th>\n",
       "      <th>2016-07-09</th>\n",
       "      <th>...</th>\n",
       "      <th>2018-03-03</th>\n",
       "      <th>2018-03-10</th>\n",
       "      <th>2018-03-17</th>\n",
       "      <th>2018-03-24</th>\n",
       "      <th>2018-03-31</th>\n",
       "      <th>2018-04-07</th>\n",
       "      <th>2018-04-14</th>\n",
       "      <th>2018-04-21</th>\n",
       "      <th>2018-04-28</th>\n",
       "      <th>2018-05-05</th>\n",
       "    </tr>\n",
       "  </thead>\n",
       "  <tbody>\n",
       "    <tr>\n",
       "      <th>0</th>\n",
       "      <td>1</td>\n",
       "      <td>69777.95</td>\n",
       "      <td>71434.38</td>\n",
       "      <td>84109.90</td>\n",
       "      <td>97543.29</td>\n",
       "      <td>74738.07</td>\n",
       "      <td>73443.62</td>\n",
       "      <td>79688.32</td>\n",
       "      <td>91539.51</td>\n",
       "      <td>86258.46</td>\n",
       "      <td>...</td>\n",
       "      <td>110956.73</td>\n",
       "      <td>100013.22</td>\n",
       "      <td>99194.00</td>\n",
       "      <td>91914.46</td>\n",
       "      <td>78716.28</td>\n",
       "      <td>99790.03</td>\n",
       "      <td>112517.34</td>\n",
       "      <td>71202.97</td>\n",
       "      <td>83309.33</td>\n",
       "      <td>92893.51</td>\n",
       "    </tr>\n",
       "    <tr>\n",
       "      <th>1</th>\n",
       "      <td>3</td>\n",
       "      <td>55028.57</td>\n",
       "      <td>54031.78</td>\n",
       "      <td>58181.12</td>\n",
       "      <td>68837.29</td>\n",
       "      <td>49062.13</td>\n",
       "      <td>56143.93</td>\n",
       "      <td>45296.41</td>\n",
       "      <td>67724.16</td>\n",
       "      <td>65967.84</td>\n",
       "      <td>...</td>\n",
       "      <td>107881.07</td>\n",
       "      <td>98716.61</td>\n",
       "      <td>73944.82</td>\n",
       "      <td>69992.44</td>\n",
       "      <td>67088.99</td>\n",
       "      <td>79300.64</td>\n",
       "      <td>76779.62</td>\n",
       "      <td>57830.55</td>\n",
       "      <td>60531.27</td>\n",
       "      <td>64324.36</td>\n",
       "    </tr>\n",
       "  </tbody>\n",
       "</table>\n",
       "<p>2 rows × 105 columns</p>\n",
       "</div>"
      ],
      "text/plain": [
       "  location_id  2016-05-14  2016-05-21  2016-05-28  2016-06-04  2016-06-11  \\\n",
       "0           1    69777.95    71434.38    84109.90    97543.29    74738.07   \n",
       "1           3    55028.57    54031.78    58181.12    68837.29    49062.13   \n",
       "\n",
       "   2016-06-18  2016-06-25  2016-07-02  2016-07-09     ...      2018-03-03  \\\n",
       "0    73443.62    79688.32    91539.51    86258.46     ...       110956.73   \n",
       "1    56143.93    45296.41    67724.16    65967.84     ...       107881.07   \n",
       "\n",
       "   2018-03-10  2018-03-17  2018-03-24  2018-03-31  2018-04-07  2018-04-14  \\\n",
       "0   100013.22    99194.00    91914.46    78716.28    99790.03   112517.34   \n",
       "1    98716.61    73944.82    69992.44    67088.99    79300.64    76779.62   \n",
       "\n",
       "   2018-04-21  2018-04-28  2018-05-05  \n",
       "0    71202.97    83309.33    92893.51  \n",
       "1    57830.55    60531.27    64324.36  \n",
       "\n",
       "[2 rows x 105 columns]"
      ]
     },
     "execution_count": 62,
     "metadata": {},
     "output_type": "execute_result"
    }
   ],
   "source": [
    "compariable_store_week_sales.head(2)"
   ]
  },
  {
   "cell_type": "code",
   "execution_count": 82,
   "metadata": {},
   "outputs": [
    {
     "name": "stderr",
     "output_type": "stream",
     "text": [
      "/usr/local/lib/python3.6/site-packages/ipykernel_launcher.py:10: SettingWithCopyWarning: \n",
      "A value is trying to be set on a copy of a slice from a DataFrame\n",
      "\n",
      "See the caveats in the documentation: http://pandas.pydata.org/pandas-docs/stable/indexing.html#indexing-view-versus-copy\n",
      "  # Remove the CWD from sys.path while we load stuff.\n"
     ]
    }
   ],
   "source": [
    "count_df=pd.DataFrame()\n",
    "for location_id,group in compariable_store_week_sales.groupby(\"location_id\"):\n",
    "    df=group.copy().reset_index()\n",
    "    del df['index']\n",
    "    df['Count']=np.nan\n",
    "    k=0\n",
    "    for col in compariable_store_week_sales.columns.tolist()[1:]:\n",
    "       if df[col][0]>0:\n",
    "        k=k+1\n",
    "    df['Count'][0]=k/2\n",
    "    count_df=count_df.append(df)\n"
   ]
  },
  {
   "cell_type": "code",
   "execution_count": 83,
   "metadata": {},
   "outputs": [],
   "source": [
    "circ_data_count=circ_data[~pd.isnull(circ_data['Store_1'])]\n",
    "count_df=count_df[['location_id','Count']]"
   ]
  },
  {
   "cell_type": "code",
   "execution_count": 84,
   "metadata": {
    "collapsed": true
   },
   "outputs": [],
   "source": [
    "count_df=count_df.rename(columns={\"location_id\":\"Store_1\",\"Count\":\"Count_1\"})\n",
    "count_df_Store_1_Count=pd.merge(circ_data_count,count_df,on=\"Store_1\",how=\"left\")"
   ]
  },
  {
   "cell_type": "code",
   "execution_count": 85,
   "metadata": {},
   "outputs": [],
   "source": [
    "count_df=count_df.rename(columns={\"Store_1\":\"Store_2\",\"Count_1\":\"Count_2\"})\n",
    "count_df_Store_1and2_Count=pd.merge(count_df_Store_1_Count,count_df,on=\"Store_2\",how=\"left\")"
   ]
  },
  {
   "cell_type": "code",
   "execution_count": 86,
   "metadata": {},
   "outputs": [
    {
     "data": {
      "text/html": [
       "<div>\n",
       "<style>\n",
       "    .dataframe thead tr:only-child th {\n",
       "        text-align: right;\n",
       "    }\n",
       "\n",
       "    .dataframe thead th {\n",
       "        text-align: left;\n",
       "    }\n",
       "\n",
       "    .dataframe tbody tr th {\n",
       "        vertical-align: top;\n",
       "    }\n",
       "</style>\n",
       "<table border=\"1\" class=\"dataframe\">\n",
       "  <thead>\n",
       "    <tr style=\"text-align: right;\">\n",
       "      <th></th>\n",
       "      <th>zip_cd</th>\n",
       "      <th>location_id</th>\n",
       "      <th>Store_1</th>\n",
       "      <th>Store_2</th>\n",
       "      <th>2017_compariable_sales</th>\n",
       "      <th>2018_compariable_sales</th>\n",
       "      <th>Count_1</th>\n",
       "      <th>Count_2</th>\n",
       "    </tr>\n",
       "  </thead>\n",
       "  <tbody>\n",
       "    <tr>\n",
       "      <th>0</th>\n",
       "      <td>01060</td>\n",
       "      <td>[1493]</td>\n",
       "      <td>1493</td>\n",
       "      <td>NaN</td>\n",
       "      <td>3341402.3</td>\n",
       "      <td>3428432.25</td>\n",
       "      <td>52.0</td>\n",
       "      <td>NaN</td>\n",
       "    </tr>\n",
       "    <tr>\n",
       "      <th>1</th>\n",
       "      <td>01089</td>\n",
       "      <td>[1863]</td>\n",
       "      <td>1863</td>\n",
       "      <td>NaN</td>\n",
       "      <td>4653944.98</td>\n",
       "      <td>4403450.290000001</td>\n",
       "      <td>52.0</td>\n",
       "      <td>NaN</td>\n",
       "    </tr>\n",
       "  </tbody>\n",
       "</table>\n",
       "</div>"
      ],
      "text/plain": [
       "  zip_cd location_id Store_1 Store_2 2017_compariable_sales  \\\n",
       "0  01060      [1493]    1493     NaN              3341402.3   \n",
       "1  01089      [1863]    1863     NaN             4653944.98   \n",
       "\n",
       "  2018_compariable_sales  Count_1  Count_2  \n",
       "0             3428432.25     52.0      NaN  \n",
       "1      4403450.290000001     52.0      NaN  "
      ]
     },
     "execution_count": 86,
     "metadata": {},
     "output_type": "execute_result"
    }
   ],
   "source": [
    "count_df_Store_1and2_Count.head(2)"
   ]
  },
  {
   "cell_type": "code",
   "execution_count": 87,
   "metadata": {
    "collapsed": true
   },
   "outputs": [],
   "source": [
    "count_df_Store_1and2_Count['Store_Count']=np.where(pd.isnull(count_df_Store_1and2_Count['Store_2']),1,2)"
   ]
  },
  {
   "cell_type": "code",
   "execution_count": 88,
   "metadata": {},
   "outputs": [
    {
     "data": {
      "text/html": [
       "<div>\n",
       "<style>\n",
       "    .dataframe thead tr:only-child th {\n",
       "        text-align: right;\n",
       "    }\n",
       "\n",
       "    .dataframe thead th {\n",
       "        text-align: left;\n",
       "    }\n",
       "\n",
       "    .dataframe tbody tr th {\n",
       "        vertical-align: top;\n",
       "    }\n",
       "</style>\n",
       "<table border=\"1\" class=\"dataframe\">\n",
       "  <thead>\n",
       "    <tr style=\"text-align: right;\">\n",
       "      <th></th>\n",
       "      <th>zip_cd</th>\n",
       "      <th>location_id</th>\n",
       "      <th>Store_1</th>\n",
       "      <th>Store_2</th>\n",
       "      <th>2017_compariable_sales</th>\n",
       "      <th>2018_compariable_sales</th>\n",
       "      <th>Count_1</th>\n",
       "      <th>Count_2</th>\n",
       "      <th>Store_Count</th>\n",
       "    </tr>\n",
       "  </thead>\n",
       "  <tbody>\n",
       "    <tr>\n",
       "      <th>0</th>\n",
       "      <td>01060</td>\n",
       "      <td>[1493]</td>\n",
       "      <td>1493</td>\n",
       "      <td>NaN</td>\n",
       "      <td>3341402.3</td>\n",
       "      <td>3428432.25</td>\n",
       "      <td>52.0</td>\n",
       "      <td>NaN</td>\n",
       "      <td>1</td>\n",
       "    </tr>\n",
       "    <tr>\n",
       "      <th>1</th>\n",
       "      <td>01089</td>\n",
       "      <td>[1863]</td>\n",
       "      <td>1863</td>\n",
       "      <td>NaN</td>\n",
       "      <td>4653944.98</td>\n",
       "      <td>4403450.290000001</td>\n",
       "      <td>52.0</td>\n",
       "      <td>NaN</td>\n",
       "      <td>1</td>\n",
       "    </tr>\n",
       "  </tbody>\n",
       "</table>\n",
       "</div>"
      ],
      "text/plain": [
       "  zip_cd location_id Store_1 Store_2 2017_compariable_sales  \\\n",
       "0  01060      [1493]    1493     NaN              3341402.3   \n",
       "1  01089      [1863]    1863     NaN             4653944.98   \n",
       "\n",
       "  2018_compariable_sales  Count_1  Count_2  Store_Count  \n",
       "0             3428432.25     52.0      NaN            1  \n",
       "1      4403450.290000001     52.0      NaN            1  "
      ]
     },
     "execution_count": 88,
     "metadata": {},
     "output_type": "execute_result"
    }
   ],
   "source": [
    "count_df_Store_1and2_Count.head(2)"
   ]
  },
  {
   "cell_type": "code",
   "execution_count": 90,
   "metadata": {},
   "outputs": [],
   "source": [
    "count_df_Store_1and2_Count['Avg_Week_Count']=count_df_Store_1and2_Count[['Count_1','Count_2']].sum(axis=1)/count_df_Store_1and2_Count['Store_Count']"
   ]
  },
  {
   "cell_type": "code",
   "execution_count": 92,
   "metadata": {},
   "outputs": [],
   "source": [
    "writer=pd.ExcelWriter(\"/home/jian/Projects/Big_Lots/Newspaper/Analysis/Avg_Week_Count_For_Store_20180610.xlsx\",engine=\"xlsxwriter\")\n",
    "count_df_Store_1and2_Count.to_excel(writer,\"Count\",index=False)\n",
    "compariable_store_week_sales.to_excel(writer,\"Sales_Data\",index=False)\n",
    "writer.save()\n",
    "\n",
    "\n",
    "\n"
   ]
  },
  {
   "cell_type": "code",
   "execution_count": null,
   "metadata": {
    "collapsed": true
   },
   "outputs": [],
   "source": []
  }
 ],
 "metadata": {
  "kernelspec": {
   "display_name": "Python 3",
   "language": "python",
   "name": "python3"
  },
  "language_info": {
   "codemirror_mode": {
    "name": "ipython",
    "version": 3
   },
   "file_extension": ".py",
   "mimetype": "text/x-python",
   "name": "python",
   "nbconvert_exporter": "python",
   "pygments_lexer": "ipython3",
   "version": "3.6.1"
  }
 },
 "nbformat": 4,
 "nbformat_minor": 2
}
