{
 "cells": [
  {
   "cell_type": "code",
   "execution_count": 2,
   "metadata": {},
   "outputs": [
    {
     "data": {
      "text/plain": [
       "'/home/jian/Projects/Big_Lots/Analysis/2018_Q3/Mattress_Since_Aug'"
      ]
     },
     "execution_count": 2,
     "metadata": {},
     "output_type": "execute_result"
    }
   ],
   "source": [
    "import datetime\n",
    "import pandas as pd\n",
    "import datetime\n",
    "import os\n",
    "os.getcwd()"
   ]
  },
  {
   "cell_type": "code",
   "execution_count": 35,
   "metadata": {},
   "outputs": [
    {
     "data": {
      "text/html": [
       "<div>\n",
       "<style>\n",
       "    .dataframe thead tr:only-child th {\n",
       "        text-align: right;\n",
       "    }\n",
       "\n",
       "    .dataframe thead th {\n",
       "        text-align: left;\n",
       "    }\n",
       "\n",
       "    .dataframe tbody tr th {\n",
       "        vertical-align: top;\n",
       "    }\n",
       "</style>\n",
       "<table border=\"1\" class=\"dataframe\">\n",
       "  <thead>\n",
       "    <tr style=\"text-align: right;\">\n",
       "      <th></th>\n",
       "      <th>location_id</th>\n",
       "      <th>transaction_dt</th>\n",
       "      <th>transaction_id</th>\n",
       "      <th>customer_id_hashed</th>\n",
       "      <th>class_code_id</th>\n",
       "      <th>subclass_id</th>\n",
       "      <th>subclass_transaction_units</th>\n",
       "      <th>subclass_transaction_amt</th>\n",
       "    </tr>\n",
       "  </thead>\n",
       "  <tbody>\n",
       "    <tr>\n",
       "      <th>0</th>\n",
       "      <td>4007</td>\n",
       "      <td>2017-09-01</td>\n",
       "      <td>6970</td>\n",
       "      <td>ca7fa7970955bde966c430d37432525b2b40c07c0ab418...</td>\n",
       "      <td>61501</td>\n",
       "      <td>2</td>\n",
       "      <td>1</td>\n",
       "      <td>169.99</td>\n",
       "    </tr>\n",
       "    <tr>\n",
       "      <th>1</th>\n",
       "      <td>4518</td>\n",
       "      <td>2018-01-25</td>\n",
       "      <td>3443</td>\n",
       "      <td>488625487d69d74618fece655ecc3312cf4e19765b8321...</td>\n",
       "      <td>61503</td>\n",
       "      <td>3</td>\n",
       "      <td>1</td>\n",
       "      <td>469.99</td>\n",
       "    </tr>\n",
       "  </tbody>\n",
       "</table>\n",
       "</div>"
      ],
      "text/plain": [
       "  location_id transaction_dt transaction_id  \\\n",
       "0        4007     2017-09-01           6970   \n",
       "1        4518     2018-01-25           3443   \n",
       "\n",
       "                                  customer_id_hashed class_code_id  \\\n",
       "0  ca7fa7970955bde966c430d37432525b2b40c07c0ab418...         61501   \n",
       "1  488625487d69d74618fece655ecc3312cf4e19765b8321...         61503   \n",
       "\n",
       "  subclass_id subclass_transaction_units  subclass_transaction_amt  \n",
       "0           2                          1                    169.99  \n",
       "1           3                          1                    469.99  "
      ]
     },
     "execution_count": 35,
     "metadata": {},
     "output_type": "execute_result"
    }
   ],
   "source": [
    "daily_last_year=pd.read_table(\"/home/jian/Projects/Big_Lots/Analysis/2018_Q4/Mattress/MediaStorm Matress Sales (subclasses 61501 - 61505) by Subclass 2017-06-03 - 2018-02-03.txt\",sep=\"|\",dtype=str)\n",
    "daily_last_year['transaction_dt']=daily_last_year['transaction_dt'].apply(lambda x: datetime.datetime.strptime(x,\"%Y-%m-%d\").date())\n",
    "daily_last_year['subclass_transaction_amt']=daily_last_year['subclass_transaction_amt'].astype(float)\n",
    "daily_last_year.head(2)"
   ]
  },
  {
   "cell_type": "code",
   "execution_count": 3,
   "metadata": {},
   "outputs": [
    {
     "data": {
      "text/html": [
       "<div>\n",
       "<style>\n",
       "    .dataframe thead tr:only-child th {\n",
       "        text-align: right;\n",
       "    }\n",
       "\n",
       "    .dataframe thead th {\n",
       "        text-align: left;\n",
       "    }\n",
       "\n",
       "    .dataframe tbody tr th {\n",
       "        vertical-align: top;\n",
       "    }\n",
       "</style>\n",
       "<table border=\"1\" class=\"dataframe\">\n",
       "  <thead>\n",
       "    <tr style=\"text-align: right;\">\n",
       "      <th></th>\n",
       "      <th>Customer_Link</th>\n",
       "      <th>Event Time</th>\n",
       "      <th>Advertiser ID</th>\n",
       "      <th>Campaign ID</th>\n",
       "      <th>Ad ID</th>\n",
       "      <th>Rendering ID</th>\n",
       "      <th>Creative Version</th>\n",
       "      <th>Site ID (DCM)</th>\n",
       "      <th>Placement ID</th>\n",
       "      <th>Impression ID</th>\n",
       "      <th>event_timestamp2</th>\n",
       "      <th>date</th>\n",
       "      <th>customer_id_hashed</th>\n",
       "    </tr>\n",
       "  </thead>\n",
       "  <tbody>\n",
       "    <tr>\n",
       "      <th>0</th>\n",
       "      <td>XY1468MJBmcGikkmK9V0KF5fiit9Ix08hMDsRwAYZmE5_i5GI</td>\n",
       "      <td>1535854848150147</td>\n",
       "      <td>8095847</td>\n",
       "      <td>21629904</td>\n",
       "      <td>425863300</td>\n",
       "      <td>105161003</td>\n",
       "      <td>1</td>\n",
       "      <td>2479413</td>\n",
       "      <td>227812038</td>\n",
       "      <td>IZydWiFXpndFhFQJ</td>\n",
       "      <td>2018-09-01 22:20:48.150147</td>\n",
       "      <td>2018-09-01</td>\n",
       "      <td>7120d3ffc69d3267aad0d03db389a562d942845dd31efa...</td>\n",
       "    </tr>\n",
       "    <tr>\n",
       "      <th>1</th>\n",
       "      <td>XY1468MJBmcGikkmK9V0KF5fiit9Ix08hMDsRwAYZmE5_i5GI</td>\n",
       "      <td>1535854902200671</td>\n",
       "      <td>8095847</td>\n",
       "      <td>21629904</td>\n",
       "      <td>425863300</td>\n",
       "      <td>105160214</td>\n",
       "      <td>1</td>\n",
       "      <td>2479413</td>\n",
       "      <td>227812038</td>\n",
       "      <td>0fR-jj8Y1IJ9IEjO</td>\n",
       "      <td>2018-09-01 22:21:42.200671</td>\n",
       "      <td>2018-09-01</td>\n",
       "      <td>7120d3ffc69d3267aad0d03db389a562d942845dd31efa...</td>\n",
       "    </tr>\n",
       "  </tbody>\n",
       "</table>\n",
       "</div>"
      ],
      "text/plain": [
       "                                       Customer_Link        Event Time  \\\n",
       "0  XY1468MJBmcGikkmK9V0KF5fiit9Ix08hMDsRwAYZmE5_i5GI  1535854848150147   \n",
       "1  XY1468MJBmcGikkmK9V0KF5fiit9Ix08hMDsRwAYZmE5_i5GI  1535854902200671   \n",
       "\n",
       "  Advertiser ID Campaign ID      Ad ID Rendering ID Creative Version  \\\n",
       "0       8095847    21629904  425863300    105161003                1   \n",
       "1       8095847    21629904  425863300    105160214                1   \n",
       "\n",
       "  Site ID (DCM) Placement ID     Impression ID            event_timestamp2  \\\n",
       "0       2479413    227812038  IZydWiFXpndFhFQJ  2018-09-01 22:20:48.150147   \n",
       "1       2479413    227812038  0fR-jj8Y1IJ9IEjO  2018-09-01 22:21:42.200671   \n",
       "\n",
       "         date                                 customer_id_hashed  \n",
       "0  2018-09-01  7120d3ffc69d3267aad0d03db389a562d942845dd31efa...  \n",
       "1  2018-09-01  7120d3ffc69d3267aad0d03db389a562d942845dd31efa...  "
      ]
     },
     "execution_count": 3,
     "metadata": {},
     "output_type": "execute_result"
    }
   ],
   "source": [
    "check_SP_impr=pd.read_csv(\"/home/jian/Projects/Big_Lots/Analysis/2018_Q3/Mattress_Since_Aug/Mattress_Product/data_impression_serta.csv\",dtype=str)\n",
    "check_SP_impr.head(2)"
   ]
  },
  {
   "cell_type": "code",
   "execution_count": 5,
   "metadata": {},
   "outputs": [
    {
     "data": {
      "text/plain": [
       "array(['8095847'], dtype=object)"
      ]
     },
     "execution_count": 5,
     "metadata": {},
     "output_type": "execute_result"
    }
   ],
   "source": [
    "check_SP_impr['Advertiser ID'].unique()"
   ]
  },
  {
   "cell_type": "code",
   "execution_count": 4,
   "metadata": {},
   "outputs": [
    {
     "data": {
      "text/html": [
       "<div>\n",
       "<style>\n",
       "    .dataframe thead tr:only-child th {\n",
       "        text-align: right;\n",
       "    }\n",
       "\n",
       "    .dataframe thead th {\n",
       "        text-align: left;\n",
       "    }\n",
       "\n",
       "    .dataframe tbody tr th {\n",
       "        vertical-align: top;\n",
       "    }\n",
       "</style>\n",
       "<table border=\"1\" class=\"dataframe\">\n",
       "  <thead>\n",
       "    <tr style=\"text-align: right;\">\n",
       "      <th></th>\n",
       "      <th>division_id</th>\n",
       "      <th>department_id</th>\n",
       "      <th>class_code_id</th>\n",
       "      <th>subclass_id</th>\n",
       "      <th>subclass_desc</th>\n",
       "    </tr>\n",
       "  </thead>\n",
       "  <tbody>\n",
       "    <tr>\n",
       "      <th>0</th>\n",
       "      <td>1</td>\n",
       "      <td>108</td>\n",
       "      <td>11001</td>\n",
       "      <td>2</td>\n",
       "      <td>Non-Chocolate Bagged</td>\n",
       "    </tr>\n",
       "    <tr>\n",
       "      <th>1</th>\n",
       "      <td>1</td>\n",
       "      <td>108</td>\n",
       "      <td>11001</td>\n",
       "      <td>4</td>\n",
       "      <td>Single Non-Chocolate</td>\n",
       "    </tr>\n",
       "  </tbody>\n",
       "</table>\n",
       "</div>"
      ],
      "text/plain": [
       "   division_id  department_id  class_code_id  subclass_id  \\\n",
       "0            1            108          11001            2   \n",
       "1            1            108          11001            4   \n",
       "\n",
       "          subclass_desc  \n",
       "0  Non-Chocolate Bagged  \n",
       "1  Single Non-Chocolate  "
      ]
     },
     "execution_count": 4,
     "metadata": {},
     "output_type": "execute_result"
    }
   ],
   "source": [
    "product_taxnomy=pd.read_table(\"/home/jian/BigLots/static_files/ProductTaxonomy/MediaStormProductTaxonomy20181001-135417-040.txt\",sep=\"|\")\n",
    "product_taxnomy.head(2)\n",
    "product_taxnomy\n"
   ]
  },
  {
   "cell_type": "code",
   "execution_count": 21,
   "metadata": {},
   "outputs": [
    {
     "data": {
      "text/plain": [
       "(751, 2)"
      ]
     },
     "execution_count": 21,
     "metadata": {},
     "output_type": "execute_result"
    }
   ],
   "source": [
    "class_name=pd.read_table(\"/home/jian/BigLots/static_files/MediaStorm Data Extract - Class Names.txt\",dtype=str,sep=\"|\",encoding=\"ISO-8859-1\")\n",
    "class_name.shape\n",
    "\n"
   ]
  },
  {
   "cell_type": "code",
   "execution_count": 10,
   "metadata": {},
   "outputs": [
    {
     "data": {
      "text/html": [
       "<div>\n",
       "<style>\n",
       "    .dataframe thead tr:only-child th {\n",
       "        text-align: right;\n",
       "    }\n",
       "\n",
       "    .dataframe thead th {\n",
       "        text-align: left;\n",
       "    }\n",
       "\n",
       "    .dataframe tbody tr th {\n",
       "        vertical-align: top;\n",
       "    }\n",
       "</style>\n",
       "<table border=\"1\" class=\"dataframe\">\n",
       "  <thead>\n",
       "    <tr style=\"text-align: right;\">\n",
       "      <th></th>\n",
       "      <th>class_code_id</th>\n",
       "      <th>class_code_desc</th>\n",
       "    </tr>\n",
       "  </thead>\n",
       "  <tbody>\n",
       "    <tr>\n",
       "      <th>0</th>\n",
       "      <td>11000</td>\n",
       "      <td>.</td>\n",
       "    </tr>\n",
       "    <tr>\n",
       "      <th>1</th>\n",
       "      <td>11001</td>\n",
       "      <td>CANDY</td>\n",
       "    </tr>\n",
       "    <tr>\n",
       "      <th>2</th>\n",
       "      <td>11002</td>\n",
       "      <td>SEASONAL CANDY</td>\n",
       "    </tr>\n",
       "  </tbody>\n",
       "</table>\n",
       "</div>"
      ],
      "text/plain": [
       "   class_code_id class_code_desc\n",
       "0          11000               .\n",
       "1          11001           CANDY\n",
       "2          11002  SEASONAL CANDY"
      ]
     },
     "execution_count": 10,
     "metadata": {},
     "output_type": "execute_result"
    }
   ],
   "source": [
    "class_name.head(3)"
   ]
  },
  {
   "cell_type": "code",
   "execution_count": 13,
   "metadata": {},
   "outputs": [
    {
     "data": {
      "text/html": [
       "<div>\n",
       "<style>\n",
       "    .dataframe thead tr:only-child th {\n",
       "        text-align: right;\n",
       "    }\n",
       "\n",
       "    .dataframe thead th {\n",
       "        text-align: left;\n",
       "    }\n",
       "\n",
       "    .dataframe tbody tr th {\n",
       "        vertical-align: top;\n",
       "    }\n",
       "</style>\n",
       "<table border=\"1\" class=\"dataframe\">\n",
       "  <thead>\n",
       "    <tr style=\"text-align: right;\">\n",
       "      <th></th>\n",
       "      <th>class_code_id</th>\n",
       "      <th>class_code_desc</th>\n",
       "    </tr>\n",
       "  </thead>\n",
       "  <tbody>\n",
       "    <tr>\n",
       "      <th>749</th>\n",
       "      <td>80099</td>\n",
       "      <td>finance use only</td>\n",
       "    </tr>\n",
       "    <tr>\n",
       "      <th>750</th>\n",
       "      <td>99900</td>\n",
       "      <td>finance</td>\n",
       "    </tr>\n",
       "  </tbody>\n",
       "</table>\n",
       "</div>"
      ],
      "text/plain": [
       "     class_code_id   class_code_desc\n",
       "749          80099  finance use only\n",
       "750          99900           finance"
      ]
     },
     "execution_count": 13,
     "metadata": {},
     "output_type": "execute_result"
    }
   ],
   "source": [
    "class_name.tail(2)"
   ]
  },
  {
   "cell_type": "code",
   "execution_count": 22,
   "metadata": {
    "collapsed": true
   },
   "outputs": [],
   "source": [
    "from fuzzywuzzy import fuzz\n",
    "class_name['class_code_desc']=class_name['class_code_desc'].apply(lambda x: x.lower())\n",
    "class_name['fuzz']=class_name['class_code_desc'].apply(lambda x: fuzz.ratio(\"mattress\",x))\n"
   ]
  },
  {
   "cell_type": "code",
   "execution_count": 15,
   "metadata": {},
   "outputs": [
    {
     "data": {
      "text/plain": [
       "70"
      ]
     },
     "execution_count": 15,
     "metadata": {},
     "output_type": "execute_result"
    }
   ],
   "source": [
    "class_name['fuzz']"
   ]
  },
  {
   "cell_type": "code",
   "execution_count": 23,
   "metadata": {},
   "outputs": [
    {
     "data": {
      "text/html": [
       "<div>\n",
       "<style>\n",
       "    .dataframe thead tr:only-child th {\n",
       "        text-align: right;\n",
       "    }\n",
       "\n",
       "    .dataframe thead th {\n",
       "        text-align: left;\n",
       "    }\n",
       "\n",
       "    .dataframe tbody tr th {\n",
       "        vertical-align: top;\n",
       "    }\n",
       "</style>\n",
       "<table border=\"1\" class=\"dataframe\">\n",
       "  <thead>\n",
       "    <tr style=\"text-align: right;\">\n",
       "      <th></th>\n",
       "      <th>class_code_id</th>\n",
       "      <th>class_code_desc</th>\n",
       "      <th>fuzz</th>\n",
       "    </tr>\n",
       "  </thead>\n",
       "  <tbody>\n",
       "    <tr>\n",
       "      <th>60</th>\n",
       "      <td>11560</td>\n",
       "      <td>meats</td>\n",
       "      <td>62</td>\n",
       "    </tr>\n",
       "    <tr>\n",
       "      <th>413</th>\n",
       "      <td>36011</td>\n",
       "      <td>trees</td>\n",
       "      <td>62</td>\n",
       "    </tr>\n",
       "    <tr>\n",
       "      <th>469</th>\n",
       "      <td>36501</td>\n",
       "      <td>trees</td>\n",
       "      <td>62</td>\n",
       "    </tr>\n",
       "    <tr>\n",
       "      <th>727</th>\n",
       "      <td>61501</td>\n",
       "      <td>twin mattresses</td>\n",
       "      <td>70</td>\n",
       "    </tr>\n",
       "    <tr>\n",
       "      <th>728</th>\n",
       "      <td>61502</td>\n",
       "      <td>full mattresses</td>\n",
       "      <td>70</td>\n",
       "    </tr>\n",
       "    <tr>\n",
       "      <th>729</th>\n",
       "      <td>61503</td>\n",
       "      <td>queen mattresses</td>\n",
       "      <td>67</td>\n",
       "    </tr>\n",
       "    <tr>\n",
       "      <th>730</th>\n",
       "      <td>61504</td>\n",
       "      <td>king mattresses</td>\n",
       "      <td>70</td>\n",
       "    </tr>\n",
       "    <tr>\n",
       "      <th>732</th>\n",
       "      <td>61506</td>\n",
       "      <td>mtress sbt</td>\n",
       "      <td>67</td>\n",
       "    </tr>\n",
       "  </tbody>\n",
       "</table>\n",
       "</div>"
      ],
      "text/plain": [
       "    class_code_id   class_code_desc  fuzz\n",
       "60          11560             meats    62\n",
       "413         36011             trees    62\n",
       "469         36501             trees    62\n",
       "727         61501   twin mattresses    70\n",
       "728         61502   full mattresses    70\n",
       "729         61503  queen mattresses    67\n",
       "730         61504   king mattresses    70\n",
       "732         61506        mtress sbt    67"
      ]
     },
     "execution_count": 23,
     "metadata": {},
     "output_type": "execute_result"
    }
   ],
   "source": [
    "class_name[class_name['fuzz']>60]"
   ]
  },
  {
   "cell_type": "code",
   "execution_count": 27,
   "metadata": {},
   "outputs": [
    {
     "data": {
      "text/html": [
       "<div>\n",
       "<style>\n",
       "    .dataframe thead tr:only-child th {\n",
       "        text-align: right;\n",
       "    }\n",
       "\n",
       "    .dataframe thead th {\n",
       "        text-align: left;\n",
       "    }\n",
       "\n",
       "    .dataframe tbody tr th {\n",
       "        vertical-align: top;\n",
       "    }\n",
       "</style>\n",
       "<table border=\"1\" class=\"dataframe\">\n",
       "  <thead>\n",
       "    <tr style=\"text-align: right;\">\n",
       "      <th></th>\n",
       "      <th>class_code_id</th>\n",
       "      <th>class_code_desc</th>\n",
       "      <th>fuzz</th>\n",
       "    </tr>\n",
       "  </thead>\n",
       "  <tbody>\n",
       "    <tr>\n",
       "      <th>727</th>\n",
       "      <td>61501</td>\n",
       "      <td>twin mattresses</td>\n",
       "      <td>70</td>\n",
       "    </tr>\n",
       "    <tr>\n",
       "      <th>728</th>\n",
       "      <td>61502</td>\n",
       "      <td>full mattresses</td>\n",
       "      <td>70</td>\n",
       "    </tr>\n",
       "    <tr>\n",
       "      <th>729</th>\n",
       "      <td>61503</td>\n",
       "      <td>queen mattresses</td>\n",
       "      <td>67</td>\n",
       "    </tr>\n",
       "    <tr>\n",
       "      <th>730</th>\n",
       "      <td>61504</td>\n",
       "      <td>king mattresses</td>\n",
       "      <td>70</td>\n",
       "    </tr>\n",
       "    <tr>\n",
       "      <th>731</th>\n",
       "      <td>61505</td>\n",
       "      <td>bed frames</td>\n",
       "      <td>33</td>\n",
       "    </tr>\n",
       "    <tr>\n",
       "      <th>732</th>\n",
       "      <td>61506</td>\n",
       "      <td>mtress sbt</td>\n",
       "      <td>67</td>\n",
       "    </tr>\n",
       "  </tbody>\n",
       "</table>\n",
       "</div>"
      ],
      "text/plain": [
       "    class_code_id   class_code_desc  fuzz\n",
       "727         61501   twin mattresses    70\n",
       "728         61502   full mattresses    70\n",
       "729         61503  queen mattresses    67\n",
       "730         61504   king mattresses    70\n",
       "731         61505        bed frames    33\n",
       "732         61506        mtress sbt    67"
      ]
     },
     "execution_count": 27,
     "metadata": {},
     "output_type": "execute_result"
    }
   ],
   "source": [
    "class_name[class_name['class_code_id'].isin([\"61501\",\"61502\",\"61503\",\"61504\",\"61505\",\"61506\"])]"
   ]
  },
  {
   "cell_type": "code",
   "execution_count": 10,
   "metadata": {
    "collapsed": true
   },
   "outputs": [],
   "source": [
    "sales_2017=pd.read_table(\"/home/jian/BigLots/MediaStorm Data Extract June-August 2017/MediaStorm Data Extract - Detail Store Sales June-August 2017.txt\",sep=\"|\",dtype=str)\n",
    "sales_2017['week_end_dt']=sales_2017['week_end_dt'].apply(lambda x: datetime.datetime.strptime(x,\"%Y-%m-%d\").date())"
   ]
  },
  {
   "cell_type": "code",
   "execution_count": 11,
   "metadata": {},
   "outputs": [
    {
     "data": {
      "text/plain": [
       "datetime.date(2017, 6, 3)"
      ]
     },
     "execution_count": 11,
     "metadata": {},
     "output_type": "execute_result"
    }
   ],
   "source": [
    "sales_2017['week_end_dt'].min()"
   ]
  },
  {
   "cell_type": "code",
   "execution_count": 12,
   "metadata": {},
   "outputs": [
    {
     "data": {
      "text/plain": [
       "datetime.date(2017, 9, 2)"
      ]
     },
     "execution_count": 12,
     "metadata": {},
     "output_type": "execute_result"
    }
   ],
   "source": [
    "sales_2017['week_end_dt'].max()"
   ]
  },
  {
   "cell_type": "code",
   "execution_count": null,
   "metadata": {
    "collapsed": true
   },
   "outputs": [],
   "source": [
    "sales_2018=pd.read_table(\"/home/jian/BigLots/2018 by weeks/\")"
   ]
  }
 ],
 "metadata": {
  "kernelspec": {
   "display_name": "Python 3",
   "language": "python",
   "name": "python3"
  },
  "language_info": {
   "codemirror_mode": {
    "name": "ipython",
    "version": 3
   },
   "file_extension": ".py",
   "mimetype": "text/x-python",
   "name": "python",
   "nbconvert_exporter": "python",
   "pygments_lexer": "ipython3",
   "version": "3.6.1"
  }
 },
 "nbformat": 4,
 "nbformat_minor": 2
}
