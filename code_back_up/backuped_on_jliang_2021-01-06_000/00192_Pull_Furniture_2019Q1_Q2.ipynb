{
 "cells": [
  {
   "cell_type": "code",
   "execution_count": 1,
   "metadata": {},
   "outputs": [
    {
     "data": {
      "text/plain": [
       "'/home/jian/Projects/Big_Lots/Analysis/2019_Q3/Planner_request/Bruce_Margret_20190815_Furniture_2019_Q1_Q2'"
      ]
     },
     "execution_count": 1,
     "metadata": {},
     "output_type": "execute_result"
    }
   ],
   "source": [
    "import pandas as pd\n",
    "import numpy as np\n",
    "import datetime\n",
    "import os\n",
    "\n",
    "os.getcwd()"
   ]
  },
  {
   "cell_type": "code",
   "execution_count": 2,
   "metadata": {
    "collapsed": true
   },
   "outputs": [],
   "source": [
    "def recursive_file_gen(root_path):\n",
    "    for root, dirs, files in os.walk(root_path):\n",
    "        for file in files:\n",
    "            yield os.path.join(root, file)"
   ]
  },
  {
   "cell_type": "code",
   "execution_count": 7,
   "metadata": {},
   "outputs": [],
   "source": [
    "all_2019_daily_sales_files=list(recursive_file_gen(\"/home/jian/BigLots/2019_by_weeks/\"))\n",
    "all_2019_daily_sales_files=[x for x in all_2019_daily_sales_files if \"daily\" in x.lower()]\n",
    "\n",
    "week_end_dts_2019Q1=[str(datetime.date(2019,2,9)+datetime.timedelta(days=7*x)) for x in range(13)]\n",
    "week_end_dts_2019Q2=[str(datetime.date(2019,2,9)+datetime.timedelta(days=13*7+7*x)) for x in range(13)]"
   ]
  },
  {
   "cell_type": "code",
   "execution_count": 22,
   "metadata": {},
   "outputs": [],
   "source": [
    "list_2019Q1_files=[]\n",
    "for week_end_dt in week_end_dts_2019Q1:\n",
    "    list_2019Q1_files.extend([x for x in all_2019_daily_sales_files if week_end_dt in x])\n",
    "list_2019Q1_files=list_2019Q1_files[1:]\n",
    "list_2019Q1_files.extend([\"/home/jian/BigLots/hist_daily_data_itemlevel_decompressed/MediaStormDailySalesHistory20190209.txt\"])\n",
    "\n",
    "\n",
    "\n",
    "list_2019Q2_files=[]\n",
    "for week_end_dt in week_end_dts_2019Q2:\n",
    "    list_2019Q2_files.extend([x for x in all_2019_daily_sales_files if week_end_dt in x])"
   ]
  },
  {
   "cell_type": "code",
   "execution_count": 25,
   "metadata": {},
   "outputs": [
    {
     "data": {
      "text/html": [
       "<div>\n",
       "<style>\n",
       "    .dataframe thead tr:only-child th {\n",
       "        text-align: right;\n",
       "    }\n",
       "\n",
       "    .dataframe thead th {\n",
       "        text-align: left;\n",
       "    }\n",
       "\n",
       "    .dataframe tbody tr th {\n",
       "        vertical-align: top;\n",
       "    }\n",
       "</style>\n",
       "<table border=\"1\" class=\"dataframe\">\n",
       "  <thead>\n",
       "    <tr style=\"text-align: right;\">\n",
       "      <th></th>\n",
       "      <th>division_id</th>\n",
       "      <th>division_desc</th>\n",
       "    </tr>\n",
       "  </thead>\n",
       "  <tbody>\n",
       "    <tr>\n",
       "      <th>0</th>\n",
       "      <td>1</td>\n",
       "      <td>FOOD</td>\n",
       "    </tr>\n",
       "    <tr>\n",
       "      <th>1</th>\n",
       "      <td>2</td>\n",
       "      <td>CONSUMABLES</td>\n",
       "    </tr>\n",
       "    <tr>\n",
       "      <th>2</th>\n",
       "      <td>3</td>\n",
       "      <td>SEASONAL</td>\n",
       "    </tr>\n",
       "    <tr>\n",
       "      <th>3</th>\n",
       "      <td>4</td>\n",
       "      <td>SOFTHOME</td>\n",
       "    </tr>\n",
       "    <tr>\n",
       "      <th>4</th>\n",
       "      <td>5</td>\n",
       "      <td>HARDHOME</td>\n",
       "    </tr>\n",
       "    <tr>\n",
       "      <th>5</th>\n",
       "      <td>6</td>\n",
       "      <td>ELECNACCES</td>\n",
       "    </tr>\n",
       "    <tr>\n",
       "      <th>6</th>\n",
       "      <td>7</td>\n",
       "      <td>Division 7</td>\n",
       "    </tr>\n",
       "    <tr>\n",
       "      <th>7</th>\n",
       "      <td>8</td>\n",
       "      <td>DIVISION 8 (EMP DISCOUNT)</td>\n",
       "    </tr>\n",
       "    <tr>\n",
       "      <th>8</th>\n",
       "      <td>9</td>\n",
       "      <td>FURNITURE</td>\n",
       "    </tr>\n",
       "    <tr>\n",
       "      <th>9</th>\n",
       "      <td>10</td>\n",
       "      <td>DIVISION 10</td>\n",
       "    </tr>\n",
       "    <tr>\n",
       "      <th>10</th>\n",
       "      <td>999</td>\n",
       "      <td>Wildcard</td>\n",
       "    </tr>\n",
       "  </tbody>\n",
       "</table>\n",
       "</div>"
      ],
      "text/plain": [
       "   division_id              division_desc\n",
       "0            1                       FOOD\n",
       "1            2                CONSUMABLES\n",
       "2            3                   SEASONAL\n",
       "3            4                   SOFTHOME\n",
       "4            5                   HARDHOME\n",
       "5            6                 ELECNACCES\n",
       "6            7                 Division 7\n",
       "7            8  DIVISION 8 (EMP DISCOUNT)\n",
       "8            9                  FURNITURE\n",
       "9           10                DIVISION 10\n",
       "10         999                   Wildcard"
      ]
     },
     "execution_count": 25,
     "metadata": {},
     "output_type": "execute_result"
    }
   ],
   "source": [
    "df_division_name=pd.read_table(\"/home/jian/BigLots/static_files/MediaStorm Data Extract - Division Names.txt\",sep=\"|\",dtype=str)\n",
    "df_division_name\n",
    "\n"
   ]
  },
  {
   "cell_type": "code",
   "execution_count": 31,
   "metadata": {},
   "outputs": [],
   "source": [
    "df_class_division_mapping=pd.read_table(\"/home/jian/BigLots/static_files/ProductTaxonomy/MediaStormProductTaxonomy20190801-135940-477.txt\",sep=\"|\",dtype=str)\n",
    "df_class_division_mapping=df_class_division_mapping[['division_id','class_code_id']].drop_duplicates()\n",
    "df_class_division_mapping.shape\n",
    "\n",
    "furniture_classcode_list=df_class_division_mapping[df_class_division_mapping['division_id']==\"9\"]['class_code_id'].tolist()"
   ]
  },
  {
   "cell_type": "code",
   "execution_count": 39,
   "metadata": {},
   "outputs": [
    {
     "name": "stdout",
     "output_type": "stream",
     "text": [
      "2019-02-10 2019-02-16 2019-08-15 14:51:07.900012\n",
      "2019-02-17 2019-02-23 2019-08-15 14:52:51.634600\n",
      "2019-02-24 2019-03-02 2019-08-15 14:56:44.050658\n",
      "2019-03-03 2019-03-09 2019-08-15 15:01:29.735097\n",
      "2019-03-10 2019-03-16 2019-08-15 15:06:30.382819\n",
      "2019-03-17 2019-03-23 2019-08-15 15:10:32.639386\n",
      "2019-03-24 2019-03-30 2019-08-15 15:13:50.974995\n",
      "2019-03-31 2019-04-06 2019-08-15 15:17:49.062433\n",
      "2019-04-07 2019-04-13 2019-08-15 15:21:25.697553\n",
      "2019-04-14 2019-04-20 2019-08-15 15:24:41.129315\n",
      "2019-04-21 2019-04-27 2019-08-15 15:27:24.656239\n",
      "2019-04-28 2019-05-04 2019-08-15 15:33:08.202608\n",
      "2019-02-03 2019-02-09 2019-08-15 15:36:26.531583\n"
     ]
    }
   ],
   "source": [
    "df_2019_furniture_Q1=pd.DataFrame()\n",
    "for file in list_2019Q1_files:\n",
    "    df=pd.read_table(file,sep=\"|\",dtype=str,\n",
    "                     usecols=['location_id','transaction_dt','customer_id_hashed','class_code_id','item_transaction_amt'])\n",
    "    df_date_min=df['transaction_dt'].min()\n",
    "    df_date_max=df['transaction_dt'].max()\n",
    "    \n",
    "    df=df[df['class_code_id'].isin(furniture_classcode_list)]\n",
    "    df['item_transaction_amt']=df['item_transaction_amt'].astype(float)\n",
    "    df['rewards_level']=np.where(pd.isnull(df['customer_id_hashed']),\"Non_Rewards\",\"Rewards\")\n",
    "    \n",
    "    df=df.groupby([\"location_id\",'rewards_level','class_code_id'])['item_transaction_amt'].sum().to_frame().reset_index()\n",
    "    df['week_start_dt']=df_date_min\n",
    "    df['week_start_dt']=df_date_max\n",
    "    df_2019_furniture_Q1=df_2019_furniture_Q1.append(df)\n",
    "    print(df_date_min,df_date_max,datetime.datetime.now())\n",
    "    \n",
    "df_2019_furniture_Q1['store_type']=np.where(df_2019_furniture_Q1['location_id']==\"6990\",\"Online\",\"Instore\")"
   ]
  },
  {
   "cell_type": "code",
   "execution_count": 40,
   "metadata": {},
   "outputs": [
    {
     "name": "stdout",
     "output_type": "stream",
     "text": [
      "2019-05-05 2019-05-11 2019-08-15 15:40:38.842274\n",
      "2019-05-12 2019-05-18 2019-08-15 15:43:23.075507\n",
      "2019-05-19 2019-05-25 2019-08-15 15:47:42.509668\n",
      "2019-05-26 2019-06-01 2019-08-15 15:52:26.736751\n",
      "2019-06-02 2019-06-08 2019-08-15 15:56:14.369406\n",
      "2019-06-09 2019-06-15 2019-08-15 15:59:50.699140\n",
      "2019-06-16 2019-06-22 2019-08-15 16:02:07.156722\n",
      "2019-06-23 2019-06-29 2019-08-15 16:05:06.550732\n",
      "2019-06-30 2019-07-06 2019-08-15 16:07:57.859047\n",
      "2019-07-07 2019-07-13 2019-08-15 16:11:23.399472\n",
      "2019-07-14 2019-07-20 2019-08-15 16:12:38.801733\n",
      "2019-07-21 2019-07-27 2019-08-15 16:13:26.991259\n",
      "2019-07-28 2019-08-03 2019-08-15 16:14:03.048979\n"
     ]
    }
   ],
   "source": [
    "df_2019_furniture_Q2=pd.DataFrame()\n",
    "for file in list_2019Q2_files:\n",
    "    df=pd.read_table(file,sep=\"|\",dtype=str,\n",
    "                     usecols=['location_id','transaction_dt','customer_id_hashed','class_code_id','item_transaction_amt'])\n",
    "    df_date_min=df['transaction_dt'].min()\n",
    "    df_date_max=df['transaction_dt'].max()\n",
    "    \n",
    "    df=df[df['class_code_id'].isin(furniture_classcode_list)]\n",
    "    df['item_transaction_amt']=df['item_transaction_amt'].astype(float)\n",
    "    df['rewards_level']=np.where(pd.isnull(df['customer_id_hashed']),\"Non_Rewards\",\"Rewards\")\n",
    "    \n",
    "    df=df.groupby([\"location_id\",'rewards_level','class_code_id'])['item_transaction_amt'].sum().to_frame().reset_index()\n",
    "    df['week_start_dt']=df_date_min\n",
    "    df['week_start_dt']=df_date_max\n",
    "    df_2019_furniture_Q2=df_2019_furniture_Q2.append(df)\n",
    "    print(df_date_min,df_date_max,datetime.datetime.now())\n",
    "    \n",
    "df_2019_furniture_Q2['store_type']=np.where(df_2019_furniture_Q2['location_id']==\"6990\",\"Online\",\"Instore\")"
   ]
  },
  {
   "cell_type": "code",
   "execution_count": 45,
   "metadata": {},
   "outputs": [],
   "source": [
    "df_2019Q1_furniture=df_2019_furniture_Q1.groupby([\"store_type\",\"rewards_level\",'class_code_id'])['item_transaction_amt'].sum().to_frame().reset_index()\n",
    "df_2019Q2_furniture=df_2019_furniture_Q2.groupby([\"store_type\",\"rewards_level\",'class_code_id'])['item_transaction_amt'].sum().to_frame().reset_index()"
   ]
  },
  {
   "cell_type": "code",
   "execution_count": 49,
   "metadata": {},
   "outputs": [],
   "source": [
    "writer=pd.ExcelWriter(\"./BL_2019_Q1_Q2_furniture_sales_JL_\"+str(datetime.datetime.now().date())+\".xlsx\",engine=\"xlsxwriter\")\n",
    "df_2019Q1_furniture.to_excel(writer,\"2019_Q1_Furniture\",index=False)\n",
    "df_2019Q2_furniture.to_excel(writer,\"2019_Q2_Furniture\",index=False)\n",
    "writer.save()"
   ]
  },
  {
   "cell_type": "code",
   "execution_count": 48,
   "metadata": {
    "collapsed": true
   },
   "outputs": [],
   "source": [
    "df_2019_furniture_Q1.to_csv(\"./df_2019_furniture_Q1.csv\",index=False)\n",
    "df_2019_furniture_Q2.to_csv(\"./df_2019_furniture_Q2.csv\",index=False)"
   ]
  },
  {
   "cell_type": "code",
   "execution_count": null,
   "metadata": {
    "collapsed": true
   },
   "outputs": [],
   "source": []
  }
 ],
 "metadata": {
  "kernelspec": {
   "display_name": "Python 3",
   "language": "python",
   "name": "python3"
  },
  "language_info": {
   "codemirror_mode": {
    "name": "ipython",
    "version": 3
   },
   "file_extension": ".py",
   "mimetype": "text/x-python",
   "name": "python",
   "nbconvert_exporter": "python",
   "pygments_lexer": "ipython3",
   "version": "3.6.1"
  }
 },
 "nbformat": 4,
 "nbformat_minor": 2
}
