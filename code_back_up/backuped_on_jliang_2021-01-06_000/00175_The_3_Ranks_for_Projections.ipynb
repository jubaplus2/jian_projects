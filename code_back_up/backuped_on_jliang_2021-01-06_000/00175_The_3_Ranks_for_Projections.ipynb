{
 "cells": [
  {
   "cell_type": "code",
   "execution_count": 1,
   "metadata": {},
   "outputs": [
    {
     "name": "stdout",
     "output_type": "stream",
     "text": [
      "/home/jian/Projects/Big_Lots/Analysis/2019_Q3/Projection_est_in_Q3\n",
      "2019-09-14 09:38:00.469441\n"
     ]
    }
   ],
   "source": [
    "import pandas as pd\n",
    "import numpy as np\n",
    "import datetime\n",
    "import os\n",
    "import glob\n",
    "import gc\n",
    "print(os.getcwd())\n",
    "print(datetime.datetime.now())"
   ]
  },
  {
   "cell_type": "code",
   "execution_count": 54,
   "metadata": {},
   "outputs": [
    {
     "data": {
      "text/plain": [
       "64"
      ]
     },
     "execution_count": 54,
     "metadata": {},
     "output_type": "execute_result"
    }
   ],
   "source": [
    "audience_list_2018Q3=\"/home/jian/Projects/Big_Lots/Analysis/2019_Q3/Projection_est_in_Q3/upload_newscore_0714/\"\n",
    "audience_list_2018Q3=glob.glob(audience_list_2018Q3+\"*.csv\")\n",
    "len(audience_list_2018Q3)"
   ]
  },
  {
   "cell_type": "code",
   "execution_count": 55,
   "metadata": {},
   "outputs": [
    {
     "name": "stdout",
     "output_type": "stream",
     "text": [
      "22 42\n",
      "499887\n"
     ]
    }
   ],
   "source": [
    "audience_list_2018Q3_C=[x for x in audience_list_2018Q3 if os.path.basename(x)[0]==\"C\"]\n",
    "audience_list_2018Q3_T=[x for x in audience_list_2018Q3 if os.path.basename(x)[0]==\"T\"]\n",
    "print(len(audience_list_2018Q3_C),len(audience_list_2018Q3_T))\n",
    "\n",
    "set_C_2018Q3=set()\n",
    "for file in audience_list_2018Q3_C:\n",
    "    df=pd.read_csv(file,dtype=str,usecols=[\"customer_id_hashed\"])\n",
    "    set_C_2018Q3=set_C_2018Q3.union(set(df['customer_id_hashed'].tolist()))\n",
    "print(len(set_C_2018Q3))"
   ]
  },
  {
   "cell_type": "code",
   "execution_count": 56,
   "metadata": {},
   "outputs": [
    {
     "name": "stdout",
     "output_type": "stream",
     "text": [
      "(18986384, 2)  |  18986281\n"
     ]
    }
   ],
   "source": [
    "df_audience_2018Q3=pd.DataFrame()\n",
    "\n",
    "for file in audience_list_2018Q3_T:\n",
    "    df=pd.read_csv(file,dtype=str,usecols=['customer_id_hashed','segment'])\n",
    "    df=df[~df['customer_id_hashed'].isin(set_C_2018Q3)]\n",
    "    df_audience_2018Q3=df_audience_2018Q3.append(df)\n",
    "df_audience_2018Q3=df_audience_2018Q3.drop_duplicates()\n",
    "\n",
    "print(df_audience_2018Q3.shape,\" | \",df_audience_2018Q3['customer_id_hashed'].nunique())"
   ]
  },
  {
   "cell_type": "code",
   "execution_count": 57,
   "metadata": {},
   "outputs": [
    {
     "data": {
      "text/plain": [
       "(206, 2)"
      ]
     },
     "execution_count": 57,
     "metadata": {},
     "output_type": "execute_result"
    }
   ],
   "source": [
    "duplicates_2018=df_audience_2018Q3[df_audience_2018Q3['customer_id_hashed'].duplicated()]\n",
    "duplicates_2018=df_audience_2018Q3[df_audience_2018Q3['customer_id_hashed'].isin(duplicates_2018['customer_id_hashed'].tolist())]\n",
    "duplicates_2018.shape"
   ]
  },
  {
   "cell_type": "code",
   "execution_count": 58,
   "metadata": {},
   "outputs": [
    {
     "data": {
      "text/plain": [
       "(18986178, 2)"
      ]
     },
     "execution_count": 58,
     "metadata": {},
     "output_type": "execute_result"
    }
   ],
   "source": [
    "df_audience_2018Q3=df_audience_2018Q3[~df_audience_2018Q3['customer_id_hashed'].isin(duplicates_2018['customer_id_hashed'].tolist())]\n",
    "df_audience_2018Q3.shape"
   ]
  },
  {
   "cell_type": "code",
   "execution_count": 59,
   "metadata": {},
   "outputs": [
    {
     "data": {
      "text/plain": [
       "50"
      ]
     },
     "execution_count": 59,
     "metadata": {},
     "output_type": "execute_result"
    }
   ],
   "source": [
    "audience_list_2019Q3=\"/home/jian/Projects/Big_Lots/Live_Ramp/Quarterly_Update_2019Q3/upload_files/\"\n",
    "audience_list_2019Q3=glob.glob(audience_list_2019Q3+\"*.csv\")\n",
    "len(audience_list_2019Q3)"
   ]
  },
  {
   "cell_type": "code",
   "execution_count": 60,
   "metadata": {},
   "outputs": [
    {
     "name": "stdout",
     "output_type": "stream",
     "text": [
      "25 25\n",
      "542702\n"
     ]
    }
   ],
   "source": [
    "audience_list_2019Q3_C=[x for x in audience_list_2019Q3 if os.path.basename(x)[0]==\"C\"]\n",
    "audience_list_2019Q3_T=[x for x in audience_list_2019Q3 if os.path.basename(x)[0]==\"T\"]\n",
    "print(len(audience_list_2019Q3_C),len(audience_list_2019Q3_T))\n",
    "\n",
    "set_C_2019Q3=set()\n",
    "for file in audience_list_2019Q3_C:\n",
    "    df=pd.read_csv(file,dtype=str,usecols=[\"customer_id_hashed\"])\n",
    "    set_C_2019Q3=set_C_2019Q3.union(set(df['customer_id_hashed'].tolist()))\n",
    "print(len(set_C_2019Q3))"
   ]
  },
  {
   "cell_type": "code",
   "execution_count": 61,
   "metadata": {},
   "outputs": [
    {
     "name": "stdout",
     "output_type": "stream",
     "text": [
      "(21810554, 2)  |  21810554\n"
     ]
    }
   ],
   "source": [
    "df_audience_2019Q3=pd.DataFrame()\n",
    "\n",
    "for file in audience_list_2019Q3_T:\n",
    "    df=pd.read_csv(file,dtype=str,usecols=['customer_id_hashed','segment'])\n",
    "    df=df[~df['customer_id_hashed'].isin(set_C_2019Q3)]\n",
    "    df_audience_2019Q3=df_audience_2019Q3.append(df)\n",
    "df_audience_2019Q3=df_audience_2019Q3.drop_duplicates()\n",
    "\n",
    "print(df_audience_2019Q3.shape,\" | \",df_audience_2019Q3['customer_id_hashed'].nunique())"
   ]
  },
  {
   "cell_type": "code",
   "execution_count": 78,
   "metadata": {
    "collapsed": true
   },
   "outputs": [],
   "source": [
    "audience_count_df_2019=df_audience_2019Q3.groupby(\"segment\")['customer_id_hashed'].nunique().to_frame().reset_index()\n",
    "audience_count_df_2018=df_audience_2018Q3.groupby(\"segment\")['customer_id_hashed'].nunique().to_frame().reset_index()\n",
    "\n",
    "audience_count_df_2019['year']=2019\n",
    "audience_count_df_2018['year']=2018\n",
    "\n",
    "audience_count=audience_count_df_2019.append(audience_count_df_2018)\n",
    "audience_count.to_csv(\"./audience_count.csv\",index=False)"
   ]
  },
  {
   "cell_type": "code",
   "execution_count": 10,
   "metadata": {},
   "outputs": [
    {
     "data": {
      "text/plain": [
       "'\\nsales_file_2017Q3=glob.glob(\"/home/jian/BigLots/hist_daily_data_subclasslevel/*.txt\")\\nsales_file_2017Q3=[x for x in sales_file_2017Q3 if x.split(\"MediaStormDailySales_week_ending_\")[1][:10]>\"2017-08-05\" and x.split(\"MediaStormDailySales_week_ending_\")[1][:10]<=\"2017-11-04\"]\\nlen(sales_file_2017Q3)\\n'"
      ]
     },
     "execution_count": 10,
     "metadata": {},
     "output_type": "execute_result"
    }
   ],
   "source": [
    "# no need confirmed with BR\n",
    "'''\n",
    "sales_file_2017Q3=glob.glob(\"/home/jian/BigLots/hist_daily_data_subclasslevel/*.txt\")\n",
    "sales_file_2017Q3=[x for x in sales_file_2017Q3 if x.split(\"MediaStormDailySales_week_ending_\")[1][:10]>\"2017-08-05\" and x.split(\"MediaStormDailySales_week_ending_\")[1][:10]<=\"2017-11-04\"]\n",
    "len(sales_file_2017Q3)\n",
    "'''"
   ]
  },
  {
   "cell_type": "code",
   "execution_count": 2,
   "metadata": {},
   "outputs": [
    {
     "data": {
      "text/plain": [
       "13"
      ]
     },
     "execution_count": 2,
     "metadata": {},
     "output_type": "execute_result"
    }
   ],
   "source": [
    "sales_file_2018Q3=glob.glob(\"/home/jian/BigLots/hist_daily_data_itemlevel_decompressed/*.txt\")\n",
    "sales_file_2018Q3=[x for x in sales_file_2018Q3 if x.split(\"MediaStormDailySalesHistory\")[1][:8]>\"20180804\" and x.split(\"MediaStormDailySalesHistory\")[1][:8]<=\"20181103\"]\n",
    "len(sales_file_2018Q3)"
   ]
  },
  {
   "cell_type": "code",
   "execution_count": 3,
   "metadata": {
    "collapsed": true
   },
   "outputs": [],
   "source": [
    "def recursive_file_gen(root_path):\n",
    "    for root, dirs, files in os.walk(root_path):\n",
    "        for file in files:\n",
    "            yield os.path.join(root,file)"
   ]
  },
  {
   "cell_type": "code",
   "execution_count": 4,
   "metadata": {},
   "outputs": [
    {
     "data": {
      "text/plain": [
       "5"
      ]
     },
     "execution_count": 4,
     "metadata": {},
     "output_type": "execute_result"
    }
   ],
   "source": [
    "sales_file_2019Q3=list(recursive_file_gen(\"/home/jian/BigLots/2019_by_weeks/\"))\n",
    "sales_file_2019Q3=[x for x in sales_file_2019Q3 if x.split(\"MediaStorm_\")[1][:10]>=\"2019-08-05\" and \"Daily\" in x]\n",
    "len(sales_file_2019Q3)"
   ]
  },
  {
   "cell_type": "code",
   "execution_count": 5,
   "metadata": {},
   "outputs": [
    {
     "data": {
      "text/plain": [
       "'\\ndf_agg_POS_data_2017Q3=pd.DataFrame()\\ni_counter=0\\nfor file in sales_file_2017Q3:\\n    df=pd.read_table(file,dtype=str,sep=\"|\",usecols=[\\'location_id\\',\\'transaction_dt\\',\\'transaction_id\\',\\'customer_id_hashed\\',\\n                                                    \\'class_code_id\\',\\'subclass_transaction_units\\',\\'subclass_transaction_amt\\'])\\n    df[\\'subclass_transaction_units\\']=df[\\'subclass_transaction_units\\'].astype(int)\\n    df[\\'subclass_transaction_amt\\']=df[\\'subclass_transaction_amt\\'].astype(float)\\n    df=df.groupby([\\'location_id\\',\\'transaction_dt\\',\\'transaction_id\\',\\'customer_id_hashed\\',\\'class_code_id\\'])[\\'subclass_transaction_units\\',\\'subclass_transaction_amt\\'].sum().reset_index()\\n    df=df.rename(columns={\"subclass_transaction_units\":\"units\",\\'subclass_transaction_amt\\':\"sales\"})\\n    df_agg_POS_data_2017Q3=df_agg_POS_data_2017Q3.append(df)\\n    print(datetime.datetime.now(),i_counter)\\n    i_counter+=1\\n'"
      ]
     },
     "execution_count": 5,
     "metadata": {},
     "output_type": "execute_result"
    }
   ],
   "source": [
    "# no need confirmed with BR\n",
    "'''\n",
    "df_agg_POS_data_2017Q3=pd.DataFrame()\n",
    "i_counter=0\n",
    "for file in sales_file_2017Q3:\n",
    "    df=pd.read_table(file,dtype=str,sep=\"|\",usecols=['location_id','transaction_dt','transaction_id','customer_id_hashed',\n",
    "                                                    'class_code_id','subclass_transaction_units','subclass_transaction_amt'])\n",
    "    df['subclass_transaction_units']=df['subclass_transaction_units'].astype(int)\n",
    "    df['subclass_transaction_amt']=df['subclass_transaction_amt'].astype(float)\n",
    "    df=df.groupby(['location_id','transaction_dt','transaction_id','customer_id_hashed','class_code_id'])['subclass_transaction_units','subclass_transaction_amt'].sum().reset_index()\n",
    "    df=df.rename(columns={\"subclass_transaction_units\":\"units\",'subclass_transaction_amt':\"sales\"})\n",
    "    df_agg_POS_data_2017Q3=df_agg_POS_data_2017Q3.append(df)\n",
    "    print(datetime.datetime.now(),i_counter)\n",
    "    i_counter+=1\n",
    "'''"
   ]
  },
  {
   "cell_type": "code",
   "execution_count": 6,
   "metadata": {
    "collapsed": true
   },
   "outputs": [],
   "source": [
    "def week_end_dt(x):\n",
    "    y=datetime.datetime.strptime(x,\"%Y-%m-%d\").date()\n",
    "    if y.weekday()==6:\n",
    "        return y+datetime.timedelta(days=6)\n",
    "    else:\n",
    "        return y+datetime.timedelta(days=5-y.weekday())"
   ]
  },
  {
   "cell_type": "code",
   "execution_count": 7,
   "metadata": {},
   "outputs": [
    {
     "name": "stdout",
     "output_type": "stream",
     "text": [
      "2019-09-14 09:39:24.656181 0 (5147429, 7) (4371466, 7)\n",
      "2019-09-14 09:40:27.758038 1 (10592126, 7) (8700512, 7)\n",
      "2019-09-14 09:41:29.719443 2 (15922735, 7) (13051552, 7)\n",
      "2019-09-14 09:42:31.497833 3 (21294824, 7) (17452505, 7)\n",
      "2019-09-14 09:43:33.983822 4 (26645789, 7) (21902287, 7)\n",
      "2019-09-14 09:44:34.864543 5 (31731227, 7) (26191637, 7)\n",
      "2019-09-14 09:45:33.515406 6 (36575756, 7) (30252943, 7)\n",
      "2019-09-14 09:46:47.521158 7 (43489440, 7) (33878946, 7)\n",
      "2019-09-14 09:48:08.425445 8 (50072200, 7) (38981211, 7)\n",
      "2019-09-14 09:49:11.302394 9 (54895425, 7) (43264627, 7)\n",
      "2019-09-14 09:50:14.212308 10 (59812302, 7) (47445601, 7)\n",
      "2019-09-14 09:51:22.321012 11 (65038854, 7) (51818556, 7)\n",
      "2019-09-14 09:52:34.600844 12 (70375788, 7) (56273660, 7)\n"
     ]
    },
    {
     "data": {
      "text/plain": [
       "77"
      ]
     },
     "execution_count": 7,
     "metadata": {},
     "output_type": "execute_result"
    }
   ],
   "source": [
    "df_agg_POS_data_2018Q3_rewards=pd.DataFrame()\n",
    "df_agg_POS_data_2018Q3_nonrewards=pd.DataFrame()\n",
    "\n",
    "i_counter=0\n",
    "for file in sales_file_2018Q3:\n",
    "    df=pd.read_table(file,dtype=str,sep=\"|\",usecols=['location_id','transaction_dt','transaction_id','customer_id_hashed',\n",
    "                                                    'class_code_id','item_transaction_units','item_transaction_amt'])\n",
    "    df['item_transaction_units']=df['item_transaction_units'].astype(int)\n",
    "    df['item_transaction_amt']=df['item_transaction_amt'].astype(float)\n",
    "    df['customer_id_hashed']=df['customer_id_hashed'].fillna(\"non_rewarsd\")\n",
    "    \n",
    "    df=df.groupby(['location_id','transaction_dt','transaction_id','customer_id_hashed','class_code_id'])['item_transaction_units','item_transaction_amt'].sum().reset_index()\n",
    "    \n",
    "    df_r=df[df['customer_id_hashed']!=\"non_rewarsd\"]\n",
    "    df_non_r=df[df['customer_id_hashed']==\"non_rewarsd\"]\n",
    "\n",
    "    df_agg_POS_data_2018Q3_rewards=df_agg_POS_data_2018Q3_rewards.append(df_r)\n",
    "    df_agg_POS_data_2018Q3_nonrewards=df_agg_POS_data_2018Q3_nonrewards.append(df_non_r)\n",
    "    \n",
    "    print(datetime.datetime.now(),i_counter,df_agg_POS_data_2018Q3_rewards.shape,df_agg_POS_data_2018Q3_nonrewards.shape)\n",
    "    i_counter+=1\n",
    "del df_agg_POS_data_2018Q3_nonrewards['customer_id_hashed']\n",
    "gc.collect()"
   ]
  },
  {
   "cell_type": "code",
   "execution_count": 8,
   "metadata": {},
   "outputs": [
    {
     "data": {
      "text/plain": [
       "['/home/jian/BigLots/2019_by_weeks/MediaStorm_2019-08-10/MediaStormDailySales20190813-120541-143.txt',\n",
       " '/home/jian/BigLots/2019_by_weeks/MediaStorm_2019-08-17/MediaStormDailySales20190820-113628-440.txt',\n",
       " '/home/jian/BigLots/2019_by_weeks/MediaStorm_2019-08-24/MediaStormDailySales20190827-113630-114.txt',\n",
       " '/home/jian/BigLots/2019_by_weeks/MediaStorm_2019-08-31/MediaStormDailySales20190903-113649-462.txt',\n",
       " '/home/jian/BigLots/2019_by_weeks/MediaStorm_2019-09-07/MediaStormDailySales20190910-120643-163.txt']"
      ]
     },
     "execution_count": 8,
     "metadata": {},
     "output_type": "execute_result"
    }
   ],
   "source": [
    "sales_file_2019Q3"
   ]
  },
  {
   "cell_type": "code",
   "execution_count": 9,
   "metadata": {},
   "outputs": [
    {
     "name": "stdout",
     "output_type": "stream",
     "text": [
      "2019-09-14 09:53:33.121503 0 (5472064, 7) (3422657, 7)\n",
      "2019-09-14 09:54:33.239683 1 (11161456, 7) (6784599, 7)\n",
      "2019-09-14 09:55:36.150563 2 (16865316, 7) (10225886, 7)\n",
      "2019-09-14 09:56:43.825660 3 (22798886, 7) (13749847, 7)\n",
      "2019-09-14 09:57:37.750752 4 (28537827, 7) (17367145, 7)\n"
     ]
    },
    {
     "data": {
      "text/plain": [
       "84"
      ]
     },
     "execution_count": 9,
     "metadata": {},
     "output_type": "execute_result"
    }
   ],
   "source": [
    "df_agg_POS_data_2019Q3_rewards=pd.DataFrame()\n",
    "df_agg_POS_data_2019Q3_nonrewards=pd.DataFrame()\n",
    "\n",
    "i_counter=0\n",
    "for file in sales_file_2019Q3:\n",
    "    df=pd.read_table(file,dtype=str,sep=\"|\",usecols=['location_id','transaction_dt','transaction_id','customer_id_hashed',\n",
    "                                                    'class_code_id','item_transaction_units','item_transaction_amt'])\n",
    "    df['item_transaction_units']=df['item_transaction_units'].astype(int)\n",
    "    df['item_transaction_amt']=df['item_transaction_amt'].astype(float)\n",
    "    df['customer_id_hashed']=df['customer_id_hashed'].fillna(\"non_rewarsd\")\n",
    "    \n",
    "    df=df.groupby(['location_id','transaction_dt','transaction_id','customer_id_hashed','class_code_id'])['item_transaction_units','item_transaction_amt'].sum().reset_index()\n",
    "    \n",
    "    df_r=df[df['customer_id_hashed']!=\"non_rewarsd\"]\n",
    "    df_non_r=df[df['customer_id_hashed']==\"non_rewarsd\"]\n",
    "\n",
    "    df_agg_POS_data_2019Q3_rewards=df_agg_POS_data_2019Q3_rewards.append(df_r)\n",
    "    df_agg_POS_data_2019Q3_nonrewards=df_agg_POS_data_2019Q3_nonrewards.append(df_non_r)\n",
    "    \n",
    "    print(datetime.datetime.now(),i_counter,df_agg_POS_data_2019Q3_rewards.shape,df_agg_POS_data_2019Q3_nonrewards.shape)\n",
    "    i_counter+=1\n",
    "del df_agg_POS_data_2019Q3_nonrewards['customer_id_hashed']\n",
    "gc.collect()"
   ]
  },
  {
   "cell_type": "code",
   "execution_count": 10,
   "metadata": {},
   "outputs": [
    {
     "data": {
      "text/plain": [
       "0"
      ]
     },
     "execution_count": 10,
     "metadata": {},
     "output_type": "execute_result"
    }
   ],
   "source": [
    "del df\n",
    "gc.collect()"
   ]
  },
  {
   "cell_type": "code",
   "execution_count": 11,
   "metadata": {},
   "outputs": [
    {
     "name": "stdout",
     "output_type": "stream",
     "text": [
      "2019-09-14 10:03:51.359964\n",
      "2019-09-14 10:07:35.767928\n"
     ]
    }
   ],
   "source": [
    "df_agg_POS_data_2019Q3_rewards['week_end_dt']=df_agg_POS_data_2019Q3_rewards['transaction_dt'].apply(week_end_dt)\n",
    "print(datetime.datetime.now())\n",
    "df_agg_POS_data_2019Q3_nonrewards['week_end_dt']=df_agg_POS_data_2019Q3_nonrewards['transaction_dt'].apply(week_end_dt)\n",
    "print(datetime.datetime.now())"
   ]
  },
  {
   "cell_type": "code",
   "execution_count": 12,
   "metadata": {},
   "outputs": [
    {
     "name": "stdout",
     "output_type": "stream",
     "text": [
      "2019-09-14 10:22:48.651655\n",
      "2019-09-14 10:34:54.863374\n"
     ]
    }
   ],
   "source": [
    "df_agg_POS_data_2018Q3_rewards['week_end_dt']=df_agg_POS_data_2018Q3_rewards['transaction_dt'].apply(week_end_dt)\n",
    "print(datetime.datetime.now())\n",
    "df_agg_POS_data_2018Q3_nonrewards['week_end_dt']=df_agg_POS_data_2018Q3_nonrewards['transaction_dt'].apply(week_end_dt)\n",
    "print(datetime.datetime.now())"
   ]
  },
  {
   "cell_type": "code",
   "execution_count": 13,
   "metadata": {
    "collapsed": true
   },
   "outputs": [],
   "source": [
    "df_agg_POS_data_2018Q3_rewards.rename(columns={\"item_transaction_units\":\"units\",\"item_transaction_amt\":\"sales\"},inplace=True)\n",
    "df_agg_POS_data_2018Q3_nonrewards.rename(columns={\"item_transaction_units\":\"units\",\"item_transaction_amt\":\"sales\"},inplace=True)\n",
    "df_agg_POS_data_2019Q3_rewards.rename(columns={\"item_transaction_units\":\"units\",\"item_transaction_amt\":\"sales\"},inplace=True)\n",
    "df_agg_POS_data_2019Q3_nonrewards.rename(columns={\"item_transaction_units\":\"units\",\"item_transaction_amt\":\"sales\"},inplace=True)\n"
   ]
  },
  {
   "cell_type": "code",
   "execution_count": 14,
   "metadata": {},
   "outputs": [
    {
     "data": {
      "text/plain": [
       "28"
      ]
     },
     "execution_count": 14,
     "metadata": {},
     "output_type": "execute_result"
    }
   ],
   "source": [
    "gc.collect()"
   ]
  },
  {
   "cell_type": "markdown",
   "metadata": {},
   "source": [
    "# 1"
   ]
  },
  {
   "cell_type": "code",
   "execution_count": 25,
   "metadata": {
    "collapsed": true
   },
   "outputs": [],
   "source": [
    "agg_func_1={\"sales\":\"sum\",\"units\":\"sum\",\"transaction_id\":\"nunique\"}\n",
    "agg_func_2_rewards={\"sales\":\"sum\",\"units\":\"sum\",\"trans\":\"sum\",'customer_id_hashed':\"nunique\",'transaction_dt':[\"nunique\",'min','max']}\n",
    "agg_func_2_non_rewards={\"sales\":\"sum\",\"units\":\"sum\",\"trans\":\"sum\",'transaction_dt':[\"nunique\",'min','max']}\n",
    "\n",
    "def rank_table_1_store_view(df,rewards_level):\n",
    "    if rewards_level not in [\"rewards\",\"non_rewards\"]:\n",
    "        print(\"check rewards_level to be ['rewards','non_rewards']\")\n",
    "        return \"check rewards_level to be ['rewards','non_rewards']\"\n",
    "    elif rewards_level==\"rewards\":\n",
    "        res=df.groupby([\"location_id\",'customer_id_hashed','transaction_dt','week_end_dt'])['sales','units','transaction_id'].agg(agg_func_1).reset_index().rename(columns={\"transaction_id\":\"trans\"})\n",
    "        res_1_per_week=res.groupby([\"location_id\",'week_end_dt'])['sales','units','trans','transaction_dt'].agg(agg_func_2_rewards).reset_index()\n",
    "        res_1_whole_Q=res.groupby(\"location_id\")['sales','units','trans','transaction_dt'].agg(agg_func_2_rewards).reset_index()\n",
    "    elif rewards_level==\"non_rewards\":\n",
    "        res=df.groupby([\"location_id\",'transaction_dt','week_end_dt'])['sales','units','transaction_id'].agg(agg_func_1).reset_index().rename(columns={\"transaction_id\":\"trans\"})\n",
    "        res_1_per_week=res.groupby([\"location_id\",'week_end_dt'])['sales','units','trans','transaction_dt'].agg(agg_func_2_non_rewards).reset_index()\n",
    "        res_1_whole_Q=res.groupby(\"location_id\")['sales','units','trans','transaction_dt'].agg(agg_func_2_non_rewards).reset_index()\n",
    "        \n",
    "    new_cols=[]\n",
    "    for col in res_1_whole_Q.columns.tolist():\n",
    "        if not col[1]:\n",
    "            new_cols.append(col[0])\n",
    "        else:\n",
    "            new_cols.append(col[0]+\"_\"+col[1])\n",
    "    res_1_whole_Q.columns=new_cols\n",
    "    \n",
    "    new_cols=[]\n",
    "    for col in res_1_per_week.columns.tolist():\n",
    "        if not col[1]:\n",
    "            new_cols.append(col[0])\n",
    "        else:\n",
    "            new_cols.append(col[0]+\"_\"+col[1])\n",
    "    res_1_per_week.columns=new_cols\n",
    "    \n",
    "    print(datetime.datetime.now())\n",
    "    res_1_whole_Q['Loyalty_Type']=rewards_level\n",
    "    res_1_per_week['Loyalty_Type']=rewards_level\n",
    "    return res_1_whole_Q,res_1_per_week"
   ]
  },
  {
   "cell_type": "code",
   "execution_count": 26,
   "metadata": {},
   "outputs": [
    {
     "name": "stdout",
     "output_type": "stream",
     "text": [
      "2019-09-13 21:08:32.569406\n",
      "2019-09-13 21:09:55.069171\n",
      "2019-09-13 21:12:19.335115\n",
      "2019-09-13 21:12:42.353639\n"
     ]
    },
    {
     "data": {
      "text/plain": [
       "785"
      ]
     },
     "execution_count": 26,
     "metadata": {},
     "output_type": "execute_result"
    }
   ],
   "source": [
    "df_output_v1_2018_Rewards_Whole,df_output_v1_2018_Rewards_by_Week=rank_table_1_store_view(df_agg_POS_data_2018Q3_rewards,rewards_level=\"rewards\")\n",
    "df_output_v1_2018_nonRewards_Whole,df_output_v1_2018_nonRewards_by_Week=rank_table_1_store_view(df_agg_POS_data_2018Q3_nonrewards,rewards_level=\"non_rewards\")\n",
    "\n",
    "df_output_v1_2019_Rewards_Whole,df_output_v1_2019_Rewards_by_Week=rank_table_1_store_view(df_agg_POS_data_2019Q3_rewards,rewards_level=\"rewards\")\n",
    "df_output_v1_2019_nonRewards_Whole,df_output_v1_2019_nonRewards_by_Week=rank_table_1_store_view(df_agg_POS_data_2019Q3_nonrewards,rewards_level=\"non_rewards\")\n",
    "\n",
    "gc.collect()"
   ]
  },
  {
   "cell_type": "code",
   "execution_count": 27,
   "metadata": {
    "collapsed": true
   },
   "outputs": [],
   "source": [
    "output_1_whole=pd.concat([df_output_v1_2018_Rewards_Whole,df_output_v1_2018_nonRewards_Whole,df_output_v1_2019_Rewards_Whole,df_output_v1_2019_nonRewards_Whole],ignore_index=True)\n",
    "output_1_per_week=pd.concat([df_output_v1_2018_Rewards_by_Week,df_output_v1_2018_nonRewards_by_Week,df_output_v1_2019_Rewards_by_Week,df_output_v1_2019_nonRewards_by_Week],ignore_index=True)\n",
    "\n",
    "output_1_whole['Store_Type']=np.where(output_1_whole['location_id']==\"6990\",\"Online\",\"Instore\")\n",
    "output_1_per_week['Store_Type']=np.where(output_1_per_week['location_id']==\"6990\",\"Online\",\"Instore\")\n"
   ]
  },
  {
   "cell_type": "code",
   "execution_count": 28,
   "metadata": {
    "collapsed": true
   },
   "outputs": [],
   "source": [
    "writer=pd.ExcelWriter(\"./BL_2019Q3_Store_View_5_weeks_JL_\"+str(datetime.datetime.now().date())+\".xlsx\",engine=\"xlsxwriter\")\n",
    "output_1_whole.to_excel(writer,\"data_whole_quarter_store\",index=False)\n",
    "output_1_per_week.to_excel(writer,\"data_per_week_store\",index=False)\n",
    "writer.save()"
   ]
  },
  {
   "cell_type": "code",
   "execution_count": 29,
   "metadata": {},
   "outputs": [
    {
     "data": {
      "text/plain": [
       "12"
      ]
     },
     "execution_count": 29,
     "metadata": {},
     "output_type": "execute_result"
    }
   ],
   "source": [
    "gc.collect()"
   ]
  },
  {
   "cell_type": "markdown",
   "metadata": {},
   "source": [
    "# 2"
   ]
  },
  {
   "cell_type": "code",
   "execution_count": 62,
   "metadata": {
    "collapsed": true
   },
   "outputs": [],
   "source": [
    "agg_func_1={\"sales\":\"sum\",\"units\":\"sum\",\"transaction_id\":\"nunique\"}\n",
    "\n",
    "# added the count of ids\n",
    "agg_func_2={\"sales\":\"sum\",\"units\":\"sum\",\"trans\":\"sum\",'customer_id_hashed':\"nunique\",'transaction_dt':[\"nunique\",'min','max']}\n",
    "\n",
    "# The mapping already removed the duplicates, so, 1:1 now\n",
    "def rank_table_2_audience_view(df_rewards,df_audience_mapping):\n",
    "    \n",
    "    res=df_rewards.groupby([\"location_id\",'customer_id_hashed','transaction_dt','week_end_dt'])['sales','units','transaction_id'].agg(agg_func_1).reset_index().rename(columns={\"transaction_id\":\"trans\"})\n",
    "    res=pd.merge(res,df_audience_mapping,on=\"customer_id_hashed\",how=\"left\")\n",
    "    \n",
    "    # Both\n",
    "    res_per_week_both=res.groupby(['week_end_dt','segment'])['sales','units','trans','customer_id_hashed','transaction_dt'].agg(agg_func_2).reset_index()\n",
    "    res_whole_Q_both=res.groupby(['segment'])['sales','units','trans','customer_id_hashed','transaction_dt'].agg(agg_func_2).reset_index()\n",
    "    res_per_week_both['Store_Type']=\"Both\"\n",
    "    res_whole_Q_both['Store_Type']=\"Both\"\n",
    "    \n",
    "    # Online only\n",
    "    res_6990=res[res['location_id']==\"6990\"]\n",
    "    res_per_week_online=res_6990.groupby(['week_end_dt','segment'])['sales','units','trans','customer_id_hashed','transaction_dt'].agg(agg_func_2).reset_index()\n",
    "    res_whole_Q_online=res_6990.groupby(['segment'])['sales','units','trans','customer_id_hashed','transaction_dt'].agg(agg_func_2).reset_index()\n",
    "    res_per_week_online['Store_Type']=\"Online\"\n",
    "    res_whole_Q_online['Store_Type']=\"Online\"\n",
    "    del res_6990\n",
    "    # Instore only\n",
    "    res_instore=res[res['location_id']!=\"6990\"]\n",
    "    res_per_week_instore=res_instore.groupby(['week_end_dt','segment'])['sales','units','trans','customer_id_hashed','transaction_dt'].agg(agg_func_2).reset_index()\n",
    "    res_whole_Q_instore=res_instore.groupby(['segment'])['sales','units','trans','customer_id_hashed','transaction_dt'].agg(agg_func_2).reset_index()\n",
    "    res_per_week_instore['Store_Type']=\"Instore\"\n",
    "    res_whole_Q_instore['Store_Type']=\"Instore\"\n",
    "    del res_instore\n",
    "    \n",
    "    def rename_cols(df_rename):\n",
    "        new_cols=[]\n",
    "        for col in df_rename.columns.tolist():\n",
    "            if not col[1]:\n",
    "                new_cols.append(col[0])\n",
    "            else:\n",
    "                new_cols.append(col[0]+\"_\"+col[1])\n",
    "        df_rename.columns=new_cols\n",
    "    \n",
    "    for df_view_aud in [res_per_week_both,res_whole_Q_both,res_per_week_online,res_whole_Q_online,res_per_week_instore,res_whole_Q_instore]:\n",
    "        rename_cols(df_view_aud)\n",
    "    res_2_whole_Q=pd.concat([res_whole_Q_both,res_whole_Q_online,res_whole_Q_instore])\n",
    "    res_2_per_week=pd.concat([res_per_week_both,res_per_week_online,res_per_week_instore])\n",
    "    print(datetime.datetime.now())\n",
    "\n",
    "    return res_2_whole_Q,res_2_per_week"
   ]
  },
  {
   "cell_type": "code",
   "execution_count": 63,
   "metadata": {},
   "outputs": [
    {
     "name": "stdout",
     "output_type": "stream",
     "text": [
      "2019-09-14 15:18:25.632850\n",
      "2019-09-14 15:27:57.347212\n"
     ]
    }
   ],
   "source": [
    "output_2_2019_whole,output_2_2019_per_week=rank_table_2_audience_view(df_agg_POS_data_2019Q3_rewards,df_audience_2019Q3)\n",
    "output_2_2018_whole,output_2_2018_per_week=rank_table_2_audience_view(df_agg_POS_data_2018Q3_rewards,df_audience_2018Q3)\n"
   ]
  },
  {
   "cell_type": "code",
   "execution_count": 64,
   "metadata": {
    "collapsed": true
   },
   "outputs": [],
   "source": [
    "output_2_2019_whole['year']=2019\n",
    "output_2_2019_per_week['year']=2019\n",
    "\n",
    "output_2_2018_whole['year']=2018\n",
    "output_2_2018_per_week['year']=2018\n",
    "\n",
    "output_2_whole=pd.concat([output_2_2019_whole,output_2_2018_whole],ignore_index=True)\n",
    "output_2_per_week=pd.concat([output_2_2019_per_week,output_2_2018_per_week],ignore_index=True)\n"
   ]
  },
  {
   "cell_type": "code",
   "execution_count": 65,
   "metadata": {
    "collapsed": true
   },
   "outputs": [],
   "source": [
    "writer=pd.ExcelWriter(\"./BL_2019Q3_Audience_View_5_weeks_JL_\"+str(datetime.datetime.now().date())+\".xlsx\",engine=\"xlsxwriter\")\n",
    "output_2_whole.to_excel(writer,\"data_whole_quarter_aud\",index=False)\n",
    "output_2_per_week.to_excel(writer,\"data_per_week_aud\",index=False)\n",
    "writer.save()\n"
   ]
  },
  {
   "cell_type": "code",
   "execution_count": 66,
   "metadata": {},
   "outputs": [
    {
     "data": {
      "text/plain": [
       "507"
      ]
     },
     "execution_count": 66,
     "metadata": {},
     "output_type": "execute_result"
    }
   ],
   "source": [
    "gc.collect()"
   ]
  },
  {
   "cell_type": "markdown",
   "metadata": {
    "collapsed": true
   },
   "source": [
    "# 3"
   ]
  },
  {
   "cell_type": "code",
   "execution_count": 15,
   "metadata": {
    "collapsed": true
   },
   "outputs": [],
   "source": [
    "agg_func_1={\"sales\":\"sum\",\"units\":\"sum\",\"transaction_id\":\"nunique\"}\n",
    "\n",
    "# added the count of ids\n",
    "agg_func_2_rewards={\"sales\":\"sum\",\"units\":\"sum\",\"trans\":\"sum\",'customer_id_hashed':\"nunique\",'transaction_dt':[\"nunique\",'min','max']}\n",
    "agg_func_2_nonrewards={\"sales\":\"sum\",\"units\":\"sum\",\"trans\":\"sum\",'transaction_dt':[\"nunique\",'min','max']}\n",
    "\n",
    "def rank_table_3_class_view(df,rewards_level):\n",
    "    if rewards_level not in [\"rewards\",\"non_rewards\"]:\n",
    "        print(\"check rewards_level to be ['rewards','non_rewards']\")\n",
    "        return \"check rewards_level to be ['rewards','non_rewards']\"\n",
    "    elif rewards_level==\"rewards\":\n",
    "        res=df.groupby([\"location_id\",'customer_id_hashed','transaction_dt','week_end_dt','class_code_id'])['sales','units','transaction_id'].agg(agg_func_1).reset_index().rename(columns={\"transaction_id\":\"trans\"})\n",
    "        # Both\n",
    "        res_3_per_week_both=res.groupby(['class_code_id','week_end_dt'])['sales','units','trans','transaction_dt','customer_id_hashed'].agg(agg_func_2_rewards).reset_index()\n",
    "        res_3_whole_Q_both=res.groupby(['class_code_id'])['sales','units','trans','transaction_dt','customer_id_hashed'].agg(agg_func_2_rewards).reset_index()\n",
    "        res_3_per_week_both['Store_Type']=\"Both\"\n",
    "        res_3_whole_Q_both['Store_Type']=\"Both\"\n",
    "        \n",
    "        # Online\n",
    "        res_6990=res[res['location_id']==\"6990\"]\n",
    "        res_3_per_week_online=res_6990.groupby(['class_code_id','week_end_dt'])['sales','units','trans','transaction_dt','customer_id_hashed'].agg(agg_func_2_rewards).reset_index()\n",
    "        res_3_whole_Q_online=res_6990.groupby(['class_code_id'])['sales','units','trans','transaction_dt','customer_id_hashed'].agg(agg_func_2_rewards).reset_index()\n",
    "        res_3_per_week_online['Store_Type']=\"Online\"\n",
    "        res_3_whole_Q_online['Store_Type']=\"Online\"\n",
    "        del res_6990\n",
    "        # Instore\n",
    "        res_instore=res[res['location_id']!=\"6990\"]\n",
    "        res_3_per_week_instore=res_instore.groupby(['class_code_id','week_end_dt'])['sales','units','trans','transaction_dt','customer_id_hashed'].agg(agg_func_2_rewards).reset_index()\n",
    "        res_3_whole_Q_instore=res_instore.groupby(['class_code_id'])['sales','units','trans','transaction_dt','customer_id_hashed'].agg(agg_func_2_rewards).reset_index()\n",
    "        res_3_per_week_instore['Store_Type']=\"Instore\"\n",
    "        res_3_whole_Q_instore['Store_Type']=\"Instore\"\n",
    "        del res_instore\n",
    "        \n",
    "        def rename_cols(df_rename):\n",
    "            new_cols=[]\n",
    "            for col in df_rename.columns.tolist():\n",
    "                if not col[1]:\n",
    "                    new_cols.append(col[0])\n",
    "                else:\n",
    "                    new_cols.append(col[0]+\"_\"+col[1])\n",
    "            df_rename.columns=new_cols\n",
    "        for df_view_aud in [res_3_per_week_both,res_3_whole_Q_both,res_3_per_week_online,res_3_whole_Q_online,res_3_per_week_instore,res_3_whole_Q_instore]:\n",
    "            rename_cols(df_view_aud)\n",
    "            \n",
    "            \n",
    "    # TO change use above\n",
    "    elif rewards_level==\"non_rewards\":\n",
    "        res=df.groupby([\"location_id\",'transaction_dt','week_end_dt','class_code_id'])['sales','units','transaction_id'].agg(agg_func_1).reset_index().rename(columns={\"transaction_id\":\"trans\"})\n",
    "        # Both\n",
    "        res_3_per_week_both=res.groupby(['class_code_id','week_end_dt'])['sales','units','trans','transaction_dt'].agg(agg_func_2_nonrewards).reset_index()\n",
    "        res_3_whole_Q_both=res.groupby(['class_code_id'])['sales','units','trans','transaction_dt'].agg(agg_func_2_nonrewards).reset_index()\n",
    "        res_3_per_week_both['Store_Type']=\"Both\"\n",
    "        res_3_whole_Q_both['Store_Type']=\"Both\"\n",
    "        \n",
    "        # Online\n",
    "        res_6990=res[res['location_id']==\"6990\"]\n",
    "        res_3_per_week_online=res_6990.groupby(['class_code_id','week_end_dt'])['sales','units','trans','transaction_dt'].agg(agg_func_2_nonrewards).reset_index()\n",
    "        res_3_whole_Q_online=res_6990.groupby(['class_code_id'])['sales','units','trans','transaction_dt'].agg(agg_func_2_nonrewards).reset_index()\n",
    "        res_3_per_week_online['Store_Type']=\"Online\"\n",
    "        res_3_whole_Q_online['Store_Type']=\"Online\"\n",
    "        del res_6990\n",
    "        # Instore\n",
    "        res_instore=res[res['location_id']!=\"6990\"]\n",
    "        ## del the res\n",
    "        del res\n",
    "        gc.collect()\n",
    "        res_3_per_week_instore=res_instore.groupby(['class_code_id','week_end_dt'])['sales','units','trans','transaction_dt'].agg(agg_func_2_nonrewards).reset_index()\n",
    "        res_3_whole_Q_instore=res_instore.groupby(['class_code_id'])['sales','units','trans','transaction_dt'].agg(agg_func_2_nonrewards).reset_index()\n",
    "        res_3_per_week_instore['Store_Type']=\"Instore\"\n",
    "        res_3_whole_Q_instore['Store_Type']=\"Instore\"\n",
    "        del res_instore\n",
    "        \n",
    "        def rename_cols(df_rename):\n",
    "            new_cols=[]\n",
    "            for col in df_rename.columns.tolist():\n",
    "                if not col[1]:\n",
    "                    new_cols.append(col[0])\n",
    "                else:\n",
    "                    new_cols.append(col[0]+\"_\"+col[1])\n",
    "            df_rename.columns=new_cols\n",
    "        for df_view_class in [res_3_per_week_both,res_3_whole_Q_both,res_3_per_week_online,res_3_whole_Q_online,res_3_per_week_instore,res_3_whole_Q_instore]:\n",
    "            rename_cols(df_view_class)\n",
    "            \n",
    "            \n",
    "        \n",
    "    res_3_whole_Q=pd.concat([res_3_whole_Q_both,res_3_whole_Q_online,res_3_whole_Q_instore])\n",
    "    res_3_per_week=pd.concat([res_3_per_week_both,res_3_per_week_online,res_3_per_week_instore])\n",
    "    print(datetime.datetime.now())\n",
    "    res_3_whole_Q['Loyalty_Type']=rewards_level\n",
    "    res_3_per_week['Loyalty_Type']=rewards_level\n",
    "    return res_3_whole_Q,res_3_per_week"
   ]
  },
  {
   "cell_type": "code",
   "execution_count": 16,
   "metadata": {
    "collapsed": true
   },
   "outputs": [],
   "source": [
    "df_product_taxonomy=pd.read_table(\"/home/jian/BigLots/static_files/ProductTaxonomy/MediaStormProductTaxonomy20190901-135942-034.txt\",\n",
    "                                 sep=\"|\",dtype=str)\n",
    "df_product_taxonomy=df_product_taxonomy[['division_id','department_id','class_code_id']].drop_duplicates()"
   ]
  },
  {
   "cell_type": "code",
   "execution_count": 17,
   "metadata": {},
   "outputs": [
    {
     "name": "stdout",
     "output_type": "stream",
     "text": [
      "2019-09-14 11:06:45.998869\n",
      "2019-09-14 11:10:04.159345\n",
      "2019-09-14 11:21:16.161819\n",
      "2019-09-14 11:22:15.088710\n"
     ]
    },
    {
     "data": {
      "text/plain": [
       "129"
      ]
     },
     "execution_count": 17,
     "metadata": {},
     "output_type": "execute_result"
    }
   ],
   "source": [
    "df_output_v3_2018_Rewards_Whole,df_output_v3_2018_Rewards_by_Week=rank_table_3_class_view(df_agg_POS_data_2018Q3_rewards,rewards_level=\"rewards\")\n",
    "df_output_v3_2018_nonRewards_Whole,df_output_v3_2018_nonRewards_by_Week=rank_table_3_class_view(df_agg_POS_data_2018Q3_nonrewards,rewards_level=\"non_rewards\")\n",
    "\n",
    "df_output_v3_2019_Rewards_Whole,df_output_v3_2019_Rewards_by_Week=rank_table_3_class_view(df_agg_POS_data_2019Q3_rewards,rewards_level=\"rewards\")\n",
    "df_output_v3_2019_nonRewards_Whole,df_output_v3_2019_nonRewards_by_Week=rank_table_3_class_view(df_agg_POS_data_2019Q3_nonrewards,rewards_level=\"non_rewards\")\n",
    "\n",
    "gc.collect()"
   ]
  },
  {
   "cell_type": "code",
   "execution_count": 46,
   "metadata": {},
   "outputs": [],
   "source": [
    "df_output_v3_2019_Rewards_Whole['year']=2019\n",
    "df_output_v3_2019_Rewards_by_Week['year']=2019\n",
    "df_output_v3_2019_nonRewards_Whole['year']=2019\n",
    "df_output_v3_2019_nonRewards_by_Week['year']=2019\n",
    "\n",
    "df_output_v3_2018_Rewards_Whole['year']=2018\n",
    "df_output_v3_2018_Rewards_by_Week['year']=2018\n",
    "df_output_v3_2018_nonRewards_Whole['year']=2018\n",
    "df_output_v3_2018_nonRewards_by_Week['year']=2018\n",
    "\n",
    "output_3_whole=pd.concat([df_output_v3_2019_Rewards_Whole,df_output_v3_2019_nonRewards_Whole,df_output_v3_2018_Rewards_Whole,df_output_v3_2018_nonRewards_Whole],ignore_index=True)\n",
    "output_3_per_week=pd.concat([df_output_v3_2019_Rewards_by_Week,df_output_v3_2019_nonRewards_by_Week,df_output_v3_2018_Rewards_by_Week,df_output_v3_2018_nonRewards_by_Week],ignore_index=True)\n"
   ]
  },
  {
   "cell_type": "code",
   "execution_count": 47,
   "metadata": {},
   "outputs": [],
   "source": [
    "output_3_per_week=pd.merge(output_3_per_week,df_product_taxonomy,on=\"class_code_id\",how=\"left\")\n",
    "output_3_whole=pd.merge(output_3_whole,df_product_taxonomy,on=\"class_code_id\",how=\"left\")\n"
   ]
  },
  {
   "cell_type": "code",
   "execution_count": 48,
   "metadata": {},
   "outputs": [],
   "source": [
    "class_name=pd.read_table(\"/home/jian/BigLots/static_files/MediaStorm Data Extract - Class Names.txt\",sep=\"|\",dtype=str,encoding=\"ISO-8859-1\")\n",
    "department_name=pd.read_table(\"/home/jian/BigLots/static_files/MediaStorm Data Extract - Department Names.txt\",sep=\"|\",dtype=str)\n",
    "division_name=pd.read_table(\"/home/jian/BigLots/static_files/MediaStorm Data Extract - Division Names.txt\",sep=\"|\",dtype=str)\n",
    "\n",
    "\n",
    "output_3_per_week=pd.merge(output_3_per_week,class_name,on=\"class_code_id\",how=\"left\")\n",
    "output_3_per_week=pd.merge(output_3_per_week,department_name,on=\"department_id\",how=\"left\")\n",
    "output_3_per_week=pd.merge(output_3_per_week,division_name,on=\"division_id\",how=\"left\")\n",
    "\n",
    "output_3_whole=pd.merge(output_3_whole,class_name,on=\"class_code_id\",how=\"left\")\n",
    "output_3_whole=pd.merge(output_3_whole,department_name,on=\"department_id\",how=\"left\")\n",
    "output_3_whole=pd.merge(output_3_whole,division_name,on=\"division_id\",how=\"left\")"
   ]
  },
  {
   "cell_type": "code",
   "execution_count": 49,
   "metadata": {},
   "outputs": [],
   "source": [
    "writer=pd.ExcelWriter(\"./BL_2019Q3_Product_View_5_weeks_JL_\"+str(datetime.datetime.now().date())+\".xlsx\",engine=\"xlsxwriter\")\n",
    "output_3_whole.to_excel(writer,\"data_whole_quarter_prod\",index=False)\n",
    "output_3_per_week.to_excel(writer,\"data_per_week_prod\",index=False)\n",
    "writer.save()"
   ]
  },
  {
   "cell_type": "code",
   "execution_count": 74,
   "metadata": {},
   "outputs": [
    {
     "data": {
      "text/plain": [
       "1327717556.560041"
      ]
     },
     "execution_count": 74,
     "metadata": {},
     "output_type": "execute_result"
    }
   ],
   "source": [
    "df_output_v3_2018_Rewards_by_Week['sales_sum'].sum()"
   ]
  },
  {
   "cell_type": "code",
   "execution_count": 73,
   "metadata": {},
   "outputs": [
    {
     "data": {
      "text/plain": [
       "575325608.45999503"
      ]
     },
     "execution_count": 73,
     "metadata": {},
     "output_type": "execute_result"
    }
   ],
   "source": [
    "df_output_v3_2019_Rewards_by_Week['sales_sum'].sum()"
   ]
  },
  {
   "cell_type": "code",
   "execution_count": 71,
   "metadata": {},
   "outputs": [
    {
     "data": {
      "text/plain": [
       "2.3077671792054937"
      ]
     },
     "execution_count": 71,
     "metadata": {},
     "output_type": "execute_result"
    }
   ],
   "source": [
    "1327717556.5605721/575325608.46006656\n"
   ]
  },
  {
   "cell_type": "code",
   "execution_count": 72,
   "metadata": {},
   "outputs": [
    {
     "data": {
      "text/html": [
       "<div>\n",
       "<style>\n",
       "    .dataframe thead tr:only-child th {\n",
       "        text-align: right;\n",
       "    }\n",
       "\n",
       "    .dataframe thead th {\n",
       "        text-align: left;\n",
       "    }\n",
       "\n",
       "    .dataframe tbody tr th {\n",
       "        vertical-align: top;\n",
       "    }\n",
       "</style>\n",
       "<table border=\"1\" class=\"dataframe\">\n",
       "  <thead>\n",
       "    <tr style=\"text-align: right;\">\n",
       "      <th></th>\n",
       "      <th>class_code_id</th>\n",
       "      <th>sales_sum</th>\n",
       "      <th>units_sum</th>\n",
       "      <th>trans_sum</th>\n",
       "      <th>customer_id_hashed_nunique</th>\n",
       "      <th>transaction_dt_nunique</th>\n",
       "      <th>transaction_dt_min</th>\n",
       "      <th>transaction_dt_max</th>\n",
       "      <th>Store_Type</th>\n",
       "      <th>Loyalty_Type</th>\n",
       "      <th>year</th>\n",
       "    </tr>\n",
       "  </thead>\n",
       "  <tbody>\n",
       "    <tr>\n",
       "      <th>0</th>\n",
       "      <td>11001</td>\n",
       "      <td>8.244865e+06</td>\n",
       "      <td>4785614</td>\n",
       "      <td>2513638</td>\n",
       "      <td>1864066</td>\n",
       "      <td>91</td>\n",
       "      <td>2018-08-05</td>\n",
       "      <td>2018-11-03</td>\n",
       "      <td>Both</td>\n",
       "      <td>rewards</td>\n",
       "      <td>2018</td>\n",
       "    </tr>\n",
       "    <tr>\n",
       "      <th>1</th>\n",
       "      <td>11002</td>\n",
       "      <td>3.063030e+06</td>\n",
       "      <td>466192</td>\n",
       "      <td>313238</td>\n",
       "      <td>288301</td>\n",
       "      <td>91</td>\n",
       "      <td>2018-08-05</td>\n",
       "      <td>2018-11-03</td>\n",
       "      <td>Both</td>\n",
       "      <td>rewards</td>\n",
       "      <td>2018</td>\n",
       "    </tr>\n",
       "  </tbody>\n",
       "</table>\n",
       "</div>"
      ],
      "text/plain": [
       "  class_code_id     sales_sum  units_sum  trans_sum  \\\n",
       "0         11001  8.244865e+06    4785614    2513638   \n",
       "1         11002  3.063030e+06     466192     313238   \n",
       "\n",
       "   customer_id_hashed_nunique  transaction_dt_nunique transaction_dt_min  \\\n",
       "0                     1864066                      91         2018-08-05   \n",
       "1                      288301                      91         2018-08-05   \n",
       "\n",
       "  transaction_dt_max Store_Type Loyalty_Type  year  \n",
       "0         2018-11-03       Both      rewards  2018  \n",
       "1         2018-11-03       Both      rewards  2018  "
      ]
     },
     "execution_count": 72,
     "metadata": {},
     "output_type": "execute_result"
    }
   ],
   "source": [
    "df_output_v3_2018_Rewards_Whole.head(2)"
   ]
  },
  {
   "cell_type": "code",
   "execution_count": 77,
   "metadata": {},
   "outputs": [
    {
     "data": {
      "text/plain": [
       "512562673.20001674"
      ]
     },
     "execution_count": 77,
     "metadata": {},
     "output_type": "execute_result"
    }
   ],
   "source": [
    "df_output_v3_2018_Rewards_by_Week[df_output_v3_2018_Rewards_by_Week['transaction_dt_max']<=\"2018-09-08\"]['sales_sum'].sum()"
   ]
  },
  {
   "cell_type": "code",
   "execution_count": null,
   "metadata": {
    "collapsed": true
   },
   "outputs": [],
   "source": []
  }
 ],
 "metadata": {
  "kernelspec": {
   "display_name": "Python 3",
   "language": "python",
   "name": "python3"
  },
  "language_info": {
   "codemirror_mode": {
    "name": "ipython",
    "version": 3
   },
   "file_extension": ".py",
   "mimetype": "text/x-python",
   "name": "python",
   "nbconvert_exporter": "python",
   "pygments_lexer": "ipython3",
   "version": "3.6.1"
  }
 },
 "nbformat": 4,
 "nbformat_minor": 2
}
