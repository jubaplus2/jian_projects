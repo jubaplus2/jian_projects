{
 "cells": [
  {
   "cell_type": "code",
   "execution_count": 2,
   "metadata": {
    "collapsed": true
   },
   "outputs": [],
   "source": [
    "import pandas as pd\n",
    "import googlemaps\n",
    "from haversine import haversine\n",
    "import json\n",
    "import numpy as np\n",
    "import datetime\n",
    "\n",
    "zip_centers=json.load(open(\"/home/jian/Docs/Geo_mapping/center_of_rentrak_zip.json\",\"r\"))"
   ]
  },
  {
   "cell_type": "code",
   "execution_count": 3,
   "metadata": {
    "collapsed": true
   },
   "outputs": [],
   "source": [
    "# Googled address 33.192385,-117.3630677\n",
    "store=\"4676\"\n",
    "store_zip=\"92054\"\n",
    "store_center=(33.192385,-117.3630677)"
   ]
  },
  {
   "cell_type": "code",
   "execution_count": 4,
   "metadata": {
    "collapsed": true
   },
   "outputs": [],
   "source": [
    "i=0\n",
    "output=pd.DataFrame()\n",
    "for zip_cd in zip_centers.keys():\n",
    "    dist=haversine(store_center,zip_centers[zip_cd],miles=True)\n",
    "    if dist<=10:\n",
    "        df=pd.DataFrame({\"location_id\":store,\"store_zip\":store_zip,\"zip_cd\":zip_cd,\"Distance_Mile\":dist},index=[i])\n",
    "        i+=1\n",
    "        output=output.append(df)"
   ]
  },
  {
   "cell_type": "code",
   "execution_count": 6,
   "metadata": {
    "collapsed": true
   },
   "outputs": [],
   "source": [
    "output=output[['location_id','store_zip','zip_cd','Distance_Mile']]"
   ]
  },
  {
   "cell_type": "code",
   "execution_count": 7,
   "metadata": {
    "collapsed": true
   },
   "outputs": [],
   "source": [
    "writer=pd.ExcelWriter(\"/home/jian/Projects/Big_Lots/New_TA/Store_Level_Zip_Selection/store_4676_10_miles_zips.xlsx\",engine=\"xlsxwriter\")\n",
    "output.to_excel(writer,\"zips_in_10_miels_4676\",index=False)\n",
    "writer.save()"
   ]
  },
  {
   "cell_type": "code",
   "execution_count": 8,
   "metadata": {},
   "outputs": [
    {
     "data": {
      "text/html": [
       "<div>\n",
       "<style>\n",
       "    .dataframe thead tr:only-child th {\n",
       "        text-align: right;\n",
       "    }\n",
       "\n",
       "    .dataframe thead th {\n",
       "        text-align: left;\n",
       "    }\n",
       "\n",
       "    .dataframe tbody tr th {\n",
       "        vertical-align: top;\n",
       "    }\n",
       "</style>\n",
       "<table border=\"1\" class=\"dataframe\">\n",
       "  <thead>\n",
       "    <tr style=\"text-align: right;\">\n",
       "      <th></th>\n",
       "      <th>location_id</th>\n",
       "      <th>store_zip</th>\n",
       "      <th>zip_cd</th>\n",
       "      <th>Distance_Mile</th>\n",
       "    </tr>\n",
       "  </thead>\n",
       "  <tbody>\n",
       "    <tr>\n",
       "      <th>0</th>\n",
       "      <td>4676</td>\n",
       "      <td>92054</td>\n",
       "      <td>92054</td>\n",
       "      <td>0.354695</td>\n",
       "    </tr>\n",
       "    <tr>\n",
       "      <th>1</th>\n",
       "      <td>4676</td>\n",
       "      <td>92054</td>\n",
       "      <td>92008</td>\n",
       "      <td>3.416156</td>\n",
       "    </tr>\n",
       "    <tr>\n",
       "      <th>2</th>\n",
       "      <td>4676</td>\n",
       "      <td>92054</td>\n",
       "      <td>92009</td>\n",
       "      <td>9.502922</td>\n",
       "    </tr>\n",
       "    <tr>\n",
       "      <th>3</th>\n",
       "      <td>4676</td>\n",
       "      <td>92054</td>\n",
       "      <td>92084</td>\n",
       "      <td>8.273758</td>\n",
       "    </tr>\n",
       "    <tr>\n",
       "      <th>4</th>\n",
       "      <td>4676</td>\n",
       "      <td>92054</td>\n",
       "      <td>92081</td>\n",
       "      <td>7.345805</td>\n",
       "    </tr>\n",
       "    <tr>\n",
       "      <th>5</th>\n",
       "      <td>4676</td>\n",
       "      <td>92054</td>\n",
       "      <td>92085</td>\n",
       "      <td>7.614556</td>\n",
       "    </tr>\n",
       "    <tr>\n",
       "      <th>6</th>\n",
       "      <td>4676</td>\n",
       "      <td>92054</td>\n",
       "      <td>92083</td>\n",
       "      <td>6.621464</td>\n",
       "    </tr>\n",
       "    <tr>\n",
       "      <th>7</th>\n",
       "      <td>4676</td>\n",
       "      <td>92054</td>\n",
       "      <td>92011</td>\n",
       "      <td>6.902525</td>\n",
       "    </tr>\n",
       "    <tr>\n",
       "      <th>8</th>\n",
       "      <td>4676</td>\n",
       "      <td>92054</td>\n",
       "      <td>92010</td>\n",
       "      <td>4.398186</td>\n",
       "    </tr>\n",
       "    <tr>\n",
       "      <th>9</th>\n",
       "      <td>4676</td>\n",
       "      <td>92054</td>\n",
       "      <td>92013</td>\n",
       "      <td>7.930476</td>\n",
       "    </tr>\n",
       "    <tr>\n",
       "      <th>10</th>\n",
       "      <td>4676</td>\n",
       "      <td>92054</td>\n",
       "      <td>92018</td>\n",
       "      <td>2.149791</td>\n",
       "    </tr>\n",
       "    <tr>\n",
       "      <th>11</th>\n",
       "      <td>4676</td>\n",
       "      <td>92054</td>\n",
       "      <td>92058</td>\n",
       "      <td>2.550575</td>\n",
       "    </tr>\n",
       "    <tr>\n",
       "      <th>12</th>\n",
       "      <td>4676</td>\n",
       "      <td>92054</td>\n",
       "      <td>92057</td>\n",
       "      <td>4.914153</td>\n",
       "    </tr>\n",
       "    <tr>\n",
       "      <th>13</th>\n",
       "      <td>4676</td>\n",
       "      <td>92054</td>\n",
       "      <td>92056</td>\n",
       "      <td>4.483126</td>\n",
       "    </tr>\n",
       "    <tr>\n",
       "      <th>14</th>\n",
       "      <td>4676</td>\n",
       "      <td>92054</td>\n",
       "      <td>92049</td>\n",
       "      <td>0.936665</td>\n",
       "    </tr>\n",
       "  </tbody>\n",
       "</table>\n",
       "</div>"
      ],
      "text/plain": [
       "   location_id store_zip zip_cd  Distance_Mile\n",
       "0         4676     92054  92054       0.354695\n",
       "1         4676     92054  92008       3.416156\n",
       "2         4676     92054  92009       9.502922\n",
       "3         4676     92054  92084       8.273758\n",
       "4         4676     92054  92081       7.345805\n",
       "5         4676     92054  92085       7.614556\n",
       "6         4676     92054  92083       6.621464\n",
       "7         4676     92054  92011       6.902525\n",
       "8         4676     92054  92010       4.398186\n",
       "9         4676     92054  92013       7.930476\n",
       "10        4676     92054  92018       2.149791\n",
       "11        4676     92054  92058       2.550575\n",
       "12        4676     92054  92057       4.914153\n",
       "13        4676     92054  92056       4.483126\n",
       "14        4676     92054  92049       0.936665"
      ]
     },
     "execution_count": 8,
     "metadata": {},
     "output_type": "execute_result"
    }
   ],
   "source": [
    "output"
   ]
  },
  {
   "cell_type": "code",
   "execution_count": null,
   "metadata": {
    "collapsed": true
   },
   "outputs": [],
   "source": []
  }
 ],
 "metadata": {
  "kernelspec": {
   "display_name": "Python 3",
   "language": "python",
   "name": "python3"
  },
  "language_info": {
   "codemirror_mode": {
    "name": "ipython",
    "version": 3
   },
   "file_extension": ".py",
   "mimetype": "text/x-python",
   "name": "python",
   "nbconvert_exporter": "python",
   "pygments_lexer": "ipython3",
   "version": "3.6.1"
  }
 },
 "nbformat": 4,
 "nbformat_minor": 2
}
