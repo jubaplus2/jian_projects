{
 "cells": [
  {
   "cell_type": "code",
   "execution_count": 1,
   "metadata": {},
   "outputs": [],
   "source": [
    "import pandas as pd\n",
    "import numpy as np\n",
    "import glob\n",
    "import datetime\n",
    "import os\n",
    "\n",
    "os.getcwd()\n",
    "from facebookads.adobjects.customaudience import CustomAudience\n",
    "from facebookads.adobjects.adaccount import AdAccount\n",
    "from facebookads.api import FacebookAdsApi\n",
    "\n",
    "\n",
    "\n",
    "\n",
    "BigLotsAccount_id=\"act_271491453638620\"\n",
    "\n",
    "jian_APP_ID=\"2537704939796694\"# jian's fb marketing app id\n",
    "jian_token=\"EAAkEB3l7ONYBAHsJtDc00ZBtZAW2ye9CRdKsy9ivLlzvgIMsEkZAyZA3mRpuGBF8IvZAR9obyYZCdzfw455nzMEW76A5ZBZBS6Fft2nQsUSs8sZCcGDZBZCbVeiCq0LMvekWjnnDZCuglkNihTAZAWIWTpvzaZBeZCKYywrPl0ZAsoWul36cyQZDZD\""
   ]
  },
  {
   "cell_type": "code",
   "execution_count": 12,
   "metadata": {},
   "outputs": [],
   "source": [
    "def creatfbaudience(file_path,ACCESS_TOKEN,accountid,description,audience_name):\n",
    "    '''\n",
    "    input:\n",
    "    file_path: str, full_path, basename as the audience name on FB\n",
    "        make sure the columns contains the \"email_address_hash\", use this col only\n",
    "    \n",
    "    ACCESS_TOKEN: personal token #app id not needed\n",
    "    accountid: account_id starting with \"act_\", followed by the id str\n",
    "    as Nov. 20, 2019, latest verision is 'v6.0'\n",
    "    '''\n",
    "    FacebookAdsApi.init(access_token=ACCESS_TOKEN, api_version='v6.0')\n",
    "    myAccount = AdAccount(accountid)\n",
    "    fields = []\n",
    "    fbname=audience_name\n",
    "    params = {\n",
    "      'name': fbname,\n",
    "      'subtype': 'CUSTOM',\n",
    "      'description': description,\n",
    "      'customer_file_source': 'USER_PROVIDED_ONLY',\n",
    "    }\n",
    "    fbname = myAccount.create_custom_audience(\n",
    "      fields=fields,\n",
    "      params=params,\n",
    "    )['id']\n",
    "    \n",
    "    df=pd.read_csv(file_path,dtype=str,)\n",
    "    listlen = df.shape[0]\n",
    "    requestUrl = 'https://graph.facebook.com/v6.0/'+ fbname + '/users'\n",
    "    \n",
    "    chunck_size=50000\n",
    "    i_counter=0\n",
    "    for df_chunck in pd.read_csv(file_path,chunksize=chunck_size,dtype=str,usecols=[\"email_address_hash\"]):\n",
    "        payload = {}\n",
    "        payload['schema'] = ['EMAIL']\n",
    "        df_chunck=df_chunck.rename(columns={\"email_address_hash\":\"EMAIL\"})\n",
    "        df_chunck=df_chunck.drop_duplicates()\n",
    "        payload_data=df_chunck['EMAIL'].apply(lambda x: [x]).tolist()\n",
    "\n",
    "        payload['data'] = payload_data\n",
    "        params = {}\n",
    "        params ={'payload':payload} \n",
    "        CustomAudience(fbname).create_user(\n",
    "                      fields=fields,\n",
    "                      params=params,\n",
    "        )\n",
    "        i_counter+=1\n",
    "        print(audience_name,i_counter,datetime.datetime.now())\n",
    "  \n",
    "\n",
    "    return 'All done: '+str(datetime.datetime.now())"
   ]
  },
  {
   "cell_type": "code",
   "execution_count": 3,
   "metadata": {},
   "outputs": [
    {
     "name": "stdout",
     "output_type": "stream",
     "text": [
      "10 136 (136, 2)\n"
     ]
    },
    {
     "data": {
      "text/html": [
       "<div>\n",
       "<style scoped>\n",
       "    .dataframe tbody tr th:only-of-type {\n",
       "        vertical-align: middle;\n",
       "    }\n",
       "\n",
       "    .dataframe tbody tr th {\n",
       "        vertical-align: top;\n",
       "    }\n",
       "\n",
       "    .dataframe thead th {\n",
       "        text-align: right;\n",
       "    }\n",
       "</style>\n",
       "<table border=\"1\" class=\"dataframe\">\n",
       "  <thead>\n",
       "    <tr style=\"text-align: right;\">\n",
       "      <th></th>\n",
       "      <th>segment</th>\n",
       "      <th>Placement Name</th>\n",
       "    </tr>\n",
       "  </thead>\n",
       "  <tbody>\n",
       "    <tr>\n",
       "      <th>0</th>\n",
       "      <td>Legacy_Active_L_P_Above50K_MultiFamilyOrCondo_...</td>\n",
       "      <td>Legacy_NA_Rewards_ActiveM&amp;L_Above50k_Multi_NA</td>\n",
       "    </tr>\n",
       "    <tr>\n",
       "      <th>1</th>\n",
       "      <td>Legacy_Active_L_P_Above50K_MultiFamilyOrCondo_...</td>\n",
       "      <td>Legacy_NA_Rewards_ActiveM&amp;L_Above50k_Multi_NA</td>\n",
       "    </tr>\n",
       "  </tbody>\n",
       "</table>\n",
       "</div>"
      ],
      "text/plain": [
       "                                             segment  \\\n",
       "0  Legacy_Active_L_P_Above50K_MultiFamilyOrCondo_...   \n",
       "1  Legacy_Active_L_P_Above50K_MultiFamilyOrCondo_...   \n",
       "\n",
       "                                  Placement Name  \n",
       "0  Legacy_NA_Rewards_ActiveM&L_Above50k_Multi_NA  \n",
       "1  Legacy_NA_Rewards_ActiveM&L_Above50k_Multi_NA  "
      ]
     },
     "execution_count": 3,
     "metadata": {},
     "output_type": "execute_result"
    }
   ],
   "source": [
    "df_mapping=pd.read_excel(\"./Blue_cells_only.xlsx\",\n",
    "                         sheet_name=\"Sheet1\",dtype=str,usecols=['segment','Placement Name'])\n",
    "print(df_mapping['Placement Name'].nunique(),df_mapping['segment'].nunique(),df_mapping.shape)\n",
    "dict_rename_seg=df_mapping.set_index(\"segment\").to_dict()['Placement Name']\n",
    "df_mapping.head(2)"
   ]
  },
  {
   "cell_type": "code",
   "execution_count": 4,
   "metadata": {},
   "outputs": [],
   "source": [
    "dict_all_new_df={}\n",
    "for old_seg,new_seg in dict_rename_seg.items():\n",
    "    df=pd.read_csv(\"/home/jian/Projects/Big_Lots/Live_Ramp/Quarterly_Update_2020Q1/upload_files/T_\"+old_seg+\".csv\",\n",
    "                  dtype=str,usecols=['customer_id_hashed','email_address_hash'])\n",
    "    if new_seg in dict_all_new_df.keys():\n",
    "        dict_all_new_df.update({new_seg:dict_all_new_df[new_seg].append(df)})\n",
    "    else:\n",
    "        dict_all_new_df.update({new_seg:df})\n",
    "\n",
    "    # print(old_seg,df.shape)"
   ]
  },
  {
   "cell_type": "code",
   "execution_count": 5,
   "metadata": {},
   "outputs": [
    {
     "name": "stdout",
     "output_type": "stream",
     "text": [
      "Legacy_NA_Rewards_ActiveM&L_Above50k_Multi_NA (184406, 2) 184406 184406\n",
      "Legacy_NA_Rewards_ActiveM&L_Above50k_Single_NA (2815780, 2) 2815780 2815780\n",
      "Legacy_NA_Rewards_ActiveM&L_Below50k_Multi_NA (197333, 2) 197333 197333\n",
      "Legacy_NA_Rewards_ActiveM&L_Below50k_Single_NA (803814, 2) 803814 803814\n",
      "Legacy_NA_Rewards_ActiveM&L_Unknown_Unknown_NA (1268693, 2) 1268693 1268693\n",
      "SOTF_NA_ActiveM&L_Active_Above50k_Multi_NA (62178, 2) 62178 62178\n",
      "SOTF_NA_Rewards_ActiveM&L_Above50k_Single_NA (1285356, 2) 1285356 1285356\n",
      "SOTF_NA_Rewards_ActiveM&L_Below50k_Multi_NA (80757, 2) 80757 80757\n",
      "SOTF_NA_Rewards_ActiveM&L_Below50k_Single_NA (331490, 2) 331490 331490\n",
      "SOTF_NA_Rewards_ActiveM&L_Unknown_Unknown_NA (627265, 2) 627265 627265\n"
     ]
    }
   ],
   "source": [
    "new_seg_unique_email_count={}\n",
    "for new_seg,df in dict_all_new_df.items():\n",
    "    print(new_seg,df.shape,df['customer_id_hashed'].nunique(),df['email_address_hash'].nunique())\n",
    "    df.to_csv(\"./\"+new_seg+\".csv\",index=False)\n",
    "    new_seg_unique_email_count.update({new_seg:df['email_address_hash'].nunique()})"
   ]
  },
  {
   "cell_type": "code",
   "execution_count": 6,
   "metadata": {},
   "outputs": [
    {
     "data": {
      "text/plain": [
       "'/home/jian/Projects/Big_Lots/Analysis/2020_Q1/plannder_requests/JT_aggregated_audience_to_FB_20200317'"
      ]
     },
     "execution_count": 6,
     "metadata": {},
     "output_type": "execute_result"
    }
   ],
   "source": [
    "os.getcwd()"
   ]
  },
  {
   "cell_type": "code",
   "execution_count": 7,
   "metadata": {},
   "outputs": [
    {
     "name": "stdout",
     "output_type": "stream",
     "text": [
      "10\n"
     ]
    }
   ],
   "source": [
    "list_new_seg_to_up_load=glob.glob(\"/home/jian/Projects/Big_Lots/Analysis/2020_Q1/plannder_requests/JT_aggregated_audience_to_FB_20200317/*.csv\")\n",
    "print(len(list_new_seg_to_up_load))"
   ]
  },
  {
   "cell_type": "code",
   "execution_count": 8,
   "metadata": {},
   "outputs": [
    {
     "data": {
      "text/plain": [
       "['/home/jian/Projects/Big_Lots/Analysis/2020_Q1/plannder_requests/JT_aggregated_audience_to_FB_20200317/Legacy_NA_Rewards_ActiveM&L_Above50k_Multi_NA.csv',\n",
       " '/home/jian/Projects/Big_Lots/Analysis/2020_Q1/plannder_requests/JT_aggregated_audience_to_FB_20200317/Legacy_NA_Rewards_ActiveM&L_Above50k_Single_NA.csv',\n",
       " '/home/jian/Projects/Big_Lots/Analysis/2020_Q1/plannder_requests/JT_aggregated_audience_to_FB_20200317/Legacy_NA_Rewards_ActiveM&L_Below50k_Multi_NA.csv',\n",
       " '/home/jian/Projects/Big_Lots/Analysis/2020_Q1/plannder_requests/JT_aggregated_audience_to_FB_20200317/Legacy_NA_Rewards_ActiveM&L_Below50k_Single_NA.csv',\n",
       " '/home/jian/Projects/Big_Lots/Analysis/2020_Q1/plannder_requests/JT_aggregated_audience_to_FB_20200317/Legacy_NA_Rewards_ActiveM&L_Unknown_Unknown_NA.csv',\n",
       " '/home/jian/Projects/Big_Lots/Analysis/2020_Q1/plannder_requests/JT_aggregated_audience_to_FB_20200317/SOTF_NA_ActiveM&L_Active_Above50k_Multi_NA.csv',\n",
       " '/home/jian/Projects/Big_Lots/Analysis/2020_Q1/plannder_requests/JT_aggregated_audience_to_FB_20200317/SOTF_NA_Rewards_ActiveM&L_Above50k_Single_NA.csv',\n",
       " '/home/jian/Projects/Big_Lots/Analysis/2020_Q1/plannder_requests/JT_aggregated_audience_to_FB_20200317/SOTF_NA_Rewards_ActiveM&L_Below50k_Multi_NA.csv',\n",
       " '/home/jian/Projects/Big_Lots/Analysis/2020_Q1/plannder_requests/JT_aggregated_audience_to_FB_20200317/SOTF_NA_Rewards_ActiveM&L_Below50k_Single_NA.csv',\n",
       " '/home/jian/Projects/Big_Lots/Analysis/2020_Q1/plannder_requests/JT_aggregated_audience_to_FB_20200317/SOTF_NA_Rewards_ActiveM&L_Unknown_Unknown_NA.csv']"
      ]
     },
     "execution_count": 8,
     "metadata": {},
     "output_type": "execute_result"
    }
   ],
   "source": [
    "list_new_seg_to_up_load"
   ]
  },
  {
   "cell_type": "code",
   "execution_count": 13,
   "metadata": {},
   "outputs": [
    {
     "name": "stdout",
     "output_type": "stream",
     "text": [
      "Legacy_NA_Rewards_ActiveM&L_Above50k_Multi_NA 1 2020-03-17 19:12:02.657085\n",
      "Legacy_NA_Rewards_ActiveM&L_Above50k_Multi_NA 2 2020-03-17 19:12:09.628284\n",
      "Legacy_NA_Rewards_ActiveM&L_Above50k_Multi_NA 3 2020-03-17 19:12:12.153937\n",
      "Legacy_NA_Rewards_ActiveM&L_Above50k_Multi_NA 4 2020-03-17 19:12:13.897856\n",
      "Legacy_NA_Rewards_ActiveM&L_Above50k_Single_NA 1 2020-03-17 19:12:23.790503\n",
      "Legacy_NA_Rewards_ActiveM&L_Above50k_Single_NA 2 2020-03-17 19:12:30.920728\n",
      "Legacy_NA_Rewards_ActiveM&L_Above50k_Single_NA 3 2020-03-17 19:12:37.470029\n",
      "Legacy_NA_Rewards_ActiveM&L_Above50k_Single_NA 4 2020-03-17 19:12:39.793537\n",
      "Legacy_NA_Rewards_ActiveM&L_Above50k_Single_NA 5 2020-03-17 19:12:43.376970\n",
      "Legacy_NA_Rewards_ActiveM&L_Above50k_Single_NA 6 2020-03-17 19:12:45.388845\n",
      "Legacy_NA_Rewards_ActiveM&L_Above50k_Single_NA 7 2020-03-17 19:12:51.985508\n",
      "Legacy_NA_Rewards_ActiveM&L_Above50k_Single_NA 8 2020-03-17 19:12:54.381088\n",
      "Legacy_NA_Rewards_ActiveM&L_Above50k_Single_NA 9 2020-03-17 19:13:00.989474\n",
      "Legacy_NA_Rewards_ActiveM&L_Above50k_Single_NA 10 2020-03-17 19:13:07.545568\n",
      "Legacy_NA_Rewards_ActiveM&L_Above50k_Single_NA 11 2020-03-17 19:13:14.218396\n",
      "Legacy_NA_Rewards_ActiveM&L_Above50k_Single_NA 12 2020-03-17 19:13:20.809516\n",
      "Legacy_NA_Rewards_ActiveM&L_Above50k_Single_NA 13 2020-03-17 19:13:27.516117\n",
      "Legacy_NA_Rewards_ActiveM&L_Above50k_Single_NA 14 2020-03-17 19:13:30.247013\n",
      "Legacy_NA_Rewards_ActiveM&L_Above50k_Single_NA 15 2020-03-17 19:13:36.909099\n",
      "Legacy_NA_Rewards_ActiveM&L_Above50k_Single_NA 16 2020-03-17 19:13:39.019940\n",
      "Legacy_NA_Rewards_ActiveM&L_Above50k_Single_NA 17 2020-03-17 19:13:41.362239\n",
      "Legacy_NA_Rewards_ActiveM&L_Above50k_Single_NA 18 2020-03-17 19:13:43.408992\n",
      "Legacy_NA_Rewards_ActiveM&L_Above50k_Single_NA 19 2020-03-17 19:13:45.368673\n",
      "Legacy_NA_Rewards_ActiveM&L_Above50k_Single_NA 20 2020-03-17 19:13:47.693081\n",
      "Legacy_NA_Rewards_ActiveM&L_Above50k_Single_NA 21 2020-03-17 19:13:49.632852\n",
      "Legacy_NA_Rewards_ActiveM&L_Above50k_Single_NA 22 2020-03-17 19:13:53.291826\n",
      "Legacy_NA_Rewards_ActiveM&L_Above50k_Single_NA 23 2020-03-17 19:13:55.749477\n",
      "Legacy_NA_Rewards_ActiveM&L_Above50k_Single_NA 24 2020-03-17 19:14:02.516168\n",
      "Legacy_NA_Rewards_ActiveM&L_Above50k_Single_NA 25 2020-03-17 19:14:04.719003\n",
      "Legacy_NA_Rewards_ActiveM&L_Above50k_Single_NA 26 2020-03-17 19:14:11.987185\n",
      "Legacy_NA_Rewards_ActiveM&L_Above50k_Single_NA 27 2020-03-17 19:14:13.883299\n",
      "Legacy_NA_Rewards_ActiveM&L_Above50k_Single_NA 28 2020-03-17 19:14:15.731302\n",
      "Legacy_NA_Rewards_ActiveM&L_Above50k_Single_NA 29 2020-03-17 19:14:22.806918\n",
      "Legacy_NA_Rewards_ActiveM&L_Above50k_Single_NA 30 2020-03-17 19:14:24.992647\n",
      "Legacy_NA_Rewards_ActiveM&L_Above50k_Single_NA 31 2020-03-17 19:14:31.626416\n",
      "Legacy_NA_Rewards_ActiveM&L_Above50k_Single_NA 32 2020-03-17 19:14:33.620166\n",
      "Legacy_NA_Rewards_ActiveM&L_Above50k_Single_NA 33 2020-03-17 19:14:40.794178\n",
      "Legacy_NA_Rewards_ActiveM&L_Above50k_Single_NA 34 2020-03-17 19:14:47.800091\n",
      "Legacy_NA_Rewards_ActiveM&L_Above50k_Single_NA 35 2020-03-17 19:14:54.815018\n",
      "Legacy_NA_Rewards_ActiveM&L_Above50k_Single_NA 36 2020-03-17 19:14:56.794847\n",
      "Legacy_NA_Rewards_ActiveM&L_Above50k_Single_NA 37 2020-03-17 19:14:58.616184\n",
      "Legacy_NA_Rewards_ActiveM&L_Above50k_Single_NA 38 2020-03-17 19:15:05.218212\n",
      "Legacy_NA_Rewards_ActiveM&L_Above50k_Single_NA 39 2020-03-17 19:15:12.480516\n",
      "Legacy_NA_Rewards_ActiveM&L_Above50k_Single_NA 40 2020-03-17 19:15:19.293233\n",
      "Legacy_NA_Rewards_ActiveM&L_Above50k_Single_NA 41 2020-03-17 19:15:26.381890\n",
      "Legacy_NA_Rewards_ActiveM&L_Above50k_Single_NA 42 2020-03-17 19:15:33.040878\n",
      "Legacy_NA_Rewards_ActiveM&L_Above50k_Single_NA 43 2020-03-17 19:15:35.696332\n",
      "Legacy_NA_Rewards_ActiveM&L_Above50k_Single_NA 44 2020-03-17 19:15:38.390343\n",
      "Legacy_NA_Rewards_ActiveM&L_Above50k_Single_NA 45 2020-03-17 19:15:40.389177\n",
      "Legacy_NA_Rewards_ActiveM&L_Above50k_Single_NA 46 2020-03-17 19:15:42.316603\n",
      "Legacy_NA_Rewards_ActiveM&L_Above50k_Single_NA 47 2020-03-17 19:15:44.210776\n",
      "Legacy_NA_Rewards_ActiveM&L_Above50k_Single_NA 48 2020-03-17 19:15:46.515541\n",
      "Legacy_NA_Rewards_ActiveM&L_Above50k_Single_NA 49 2020-03-17 19:15:53.069334\n",
      "Legacy_NA_Rewards_ActiveM&L_Above50k_Single_NA 50 2020-03-17 19:15:59.997658\n",
      "Legacy_NA_Rewards_ActiveM&L_Above50k_Single_NA 51 2020-03-17 19:16:06.473805\n",
      "Legacy_NA_Rewards_ActiveM&L_Above50k_Single_NA 52 2020-03-17 19:16:08.378317\n",
      "Legacy_NA_Rewards_ActiveM&L_Above50k_Single_NA 53 2020-03-17 19:16:10.611824\n",
      "Legacy_NA_Rewards_ActiveM&L_Above50k_Single_NA 54 2020-03-17 19:16:12.608288\n",
      "Legacy_NA_Rewards_ActiveM&L_Above50k_Single_NA 55 2020-03-17 19:16:15.060794\n",
      "Legacy_NA_Rewards_ActiveM&L_Above50k_Single_NA 56 2020-03-17 19:16:22.024686\n",
      "Legacy_NA_Rewards_ActiveM&L_Above50k_Single_NA 57 2020-03-17 19:16:23.004981\n",
      "Legacy_NA_Rewards_ActiveM&L_Below50k_Multi_NA 1 2020-03-17 19:16:27.245892\n",
      "Legacy_NA_Rewards_ActiveM&L_Below50k_Multi_NA 2 2020-03-17 19:16:29.708294\n",
      "Legacy_NA_Rewards_ActiveM&L_Below50k_Multi_NA 3 2020-03-17 19:16:32.146042\n",
      "Legacy_NA_Rewards_ActiveM&L_Below50k_Multi_NA 4 2020-03-17 19:16:34.129517\n",
      "Legacy_NA_Rewards_ActiveM&L_Below50k_Single_NA 1 2020-03-17 19:16:44.080623\n",
      "Legacy_NA_Rewards_ActiveM&L_Below50k_Single_NA 2 2020-03-17 19:16:50.942386\n",
      "Legacy_NA_Rewards_ActiveM&L_Below50k_Single_NA 3 2020-03-17 19:16:57.509160\n",
      "Legacy_NA_Rewards_ActiveM&L_Below50k_Single_NA 4 2020-03-17 19:17:00.077836\n",
      "Legacy_NA_Rewards_ActiveM&L_Below50k_Single_NA 5 2020-03-17 19:17:01.992440\n",
      "Legacy_NA_Rewards_ActiveM&L_Below50k_Single_NA 6 2020-03-17 19:17:08.931310\n",
      "Legacy_NA_Rewards_ActiveM&L_Below50k_Single_NA 7 2020-03-17 19:17:15.347133\n",
      "Legacy_NA_Rewards_ActiveM&L_Below50k_Single_NA 8 2020-03-17 19:17:22.277052\n",
      "Legacy_NA_Rewards_ActiveM&L_Below50k_Single_NA 9 2020-03-17 19:17:29.211242\n",
      "Legacy_NA_Rewards_ActiveM&L_Below50k_Single_NA 10 2020-03-17 19:17:31.192202\n",
      "Legacy_NA_Rewards_ActiveM&L_Below50k_Single_NA 11 2020-03-17 19:17:33.571139\n",
      "Legacy_NA_Rewards_ActiveM&L_Below50k_Single_NA 12 2020-03-17 19:17:36.037536\n",
      "Legacy_NA_Rewards_ActiveM&L_Below50k_Single_NA 13 2020-03-17 19:17:42.623443\n",
      "Legacy_NA_Rewards_ActiveM&L_Below50k_Single_NA 14 2020-03-17 19:17:49.577083\n",
      "Legacy_NA_Rewards_ActiveM&L_Below50k_Single_NA 15 2020-03-17 19:17:51.901323\n",
      "Legacy_NA_Rewards_ActiveM&L_Below50k_Single_NA 16 2020-03-17 19:17:54.255124\n",
      "Legacy_NA_Rewards_ActiveM&L_Below50k_Single_NA 17 2020-03-17 19:17:55.143917\n",
      "Legacy_NA_Rewards_ActiveM&L_Unknown_Unknown_NA 1 2020-03-17 19:18:05.755793\n",
      "Legacy_NA_Rewards_ActiveM&L_Unknown_Unknown_NA 2 2020-03-17 19:18:07.711164\n",
      "Legacy_NA_Rewards_ActiveM&L_Unknown_Unknown_NA 3 2020-03-17 19:18:14.857745\n",
      "Legacy_NA_Rewards_ActiveM&L_Unknown_Unknown_NA 4 2020-03-17 19:18:21.626366\n",
      "Legacy_NA_Rewards_ActiveM&L_Unknown_Unknown_NA 5 2020-03-17 19:18:24.054640\n",
      "Legacy_NA_Rewards_ActiveM&L_Unknown_Unknown_NA 6 2020-03-17 19:18:26.068451\n",
      "Legacy_NA_Rewards_ActiveM&L_Unknown_Unknown_NA 7 2020-03-17 19:18:32.668893\n",
      "Legacy_NA_Rewards_ActiveM&L_Unknown_Unknown_NA 8 2020-03-17 19:18:34.654381\n",
      "Legacy_NA_Rewards_ActiveM&L_Unknown_Unknown_NA 9 2020-03-17 19:18:36.537590\n",
      "Legacy_NA_Rewards_ActiveM&L_Unknown_Unknown_NA 10 2020-03-17 19:18:38.391178\n",
      "Legacy_NA_Rewards_ActiveM&L_Unknown_Unknown_NA 11 2020-03-17 19:18:45.710847\n",
      "Legacy_NA_Rewards_ActiveM&L_Unknown_Unknown_NA 12 2020-03-17 19:18:52.344516\n",
      "Legacy_NA_Rewards_ActiveM&L_Unknown_Unknown_NA 13 2020-03-17 19:18:59.468590\n",
      "Legacy_NA_Rewards_ActiveM&L_Unknown_Unknown_NA 14 2020-03-17 19:19:06.437500\n",
      "Legacy_NA_Rewards_ActiveM&L_Unknown_Unknown_NA 15 2020-03-17 19:19:08.587543\n",
      "Legacy_NA_Rewards_ActiveM&L_Unknown_Unknown_NA 16 2020-03-17 19:19:10.564116\n",
      "Legacy_NA_Rewards_ActiveM&L_Unknown_Unknown_NA 17 2020-03-17 19:19:17.510260\n",
      "Legacy_NA_Rewards_ActiveM&L_Unknown_Unknown_NA 18 2020-03-17 19:19:24.509730\n",
      "Legacy_NA_Rewards_ActiveM&L_Unknown_Unknown_NA 19 2020-03-17 19:19:30.918169\n",
      "Legacy_NA_Rewards_ActiveM&L_Unknown_Unknown_NA 20 2020-03-17 19:19:37.598542\n",
      "Legacy_NA_Rewards_ActiveM&L_Unknown_Unknown_NA 21 2020-03-17 19:19:44.558730\n",
      "Legacy_NA_Rewards_ActiveM&L_Unknown_Unknown_NA 22 2020-03-17 19:19:51.099682\n",
      "Legacy_NA_Rewards_ActiveM&L_Unknown_Unknown_NA 23 2020-03-17 19:19:53.314117\n",
      "Legacy_NA_Rewards_ActiveM&L_Unknown_Unknown_NA 24 2020-03-17 19:19:55.677368\n",
      "Legacy_NA_Rewards_ActiveM&L_Unknown_Unknown_NA 25 2020-03-17 19:19:58.110236\n"
     ]
    },
    {
     "name": "stdout",
     "output_type": "stream",
     "text": [
      "Legacy_NA_Rewards_ActiveM&L_Unknown_Unknown_NA 26 2020-03-17 19:20:00.991831\n",
      "SOTF_NA_ActiveM&L_Active_Above50k_Multi_NA 1 2020-03-17 19:20:03.998779\n",
      "SOTF_NA_ActiveM&L_Active_Above50k_Multi_NA 2 2020-03-17 19:20:06.151658\n",
      "SOTF_NA_Rewards_ActiveM&L_Above50k_Single_NA 1 2020-03-17 19:20:13.335798\n",
      "SOTF_NA_Rewards_ActiveM&L_Above50k_Single_NA 2 2020-03-17 19:20:15.247715\n",
      "SOTF_NA_Rewards_ActiveM&L_Above50k_Single_NA 3 2020-03-17 19:20:22.006540\n",
      "SOTF_NA_Rewards_ActiveM&L_Above50k_Single_NA 4 2020-03-17 19:20:28.756284\n",
      "SOTF_NA_Rewards_ActiveM&L_Above50k_Single_NA 5 2020-03-17 19:20:31.605796\n",
      "SOTF_NA_Rewards_ActiveM&L_Above50k_Single_NA 6 2020-03-17 19:20:33.575478\n",
      "SOTF_NA_Rewards_ActiveM&L_Above50k_Single_NA 7 2020-03-17 19:20:35.960076\n",
      "SOTF_NA_Rewards_ActiveM&L_Above50k_Single_NA 8 2020-03-17 19:20:43.033871\n",
      "SOTF_NA_Rewards_ActiveM&L_Above50k_Single_NA 9 2020-03-17 19:20:44.912990\n",
      "SOTF_NA_Rewards_ActiveM&L_Above50k_Single_NA 10 2020-03-17 19:20:46.941219\n",
      "SOTF_NA_Rewards_ActiveM&L_Above50k_Single_NA 11 2020-03-17 19:20:49.485531\n",
      "SOTF_NA_Rewards_ActiveM&L_Above50k_Single_NA 12 2020-03-17 19:20:51.586494\n",
      "SOTF_NA_Rewards_ActiveM&L_Above50k_Single_NA 13 2020-03-17 19:20:53.492199\n",
      "SOTF_NA_Rewards_ActiveM&L_Above50k_Single_NA 14 2020-03-17 19:20:55.363889\n",
      "SOTF_NA_Rewards_ActiveM&L_Above50k_Single_NA 15 2020-03-17 19:20:57.960405\n",
      "SOTF_NA_Rewards_ActiveM&L_Above50k_Single_NA 16 2020-03-17 19:21:05.083512\n",
      "SOTF_NA_Rewards_ActiveM&L_Above50k_Single_NA 17 2020-03-17 19:21:07.417729\n",
      "SOTF_NA_Rewards_ActiveM&L_Above50k_Single_NA 18 2020-03-17 19:21:09.985435\n",
      "SOTF_NA_Rewards_ActiveM&L_Above50k_Single_NA 19 2020-03-17 19:21:11.921566\n",
      "SOTF_NA_Rewards_ActiveM&L_Above50k_Single_NA 20 2020-03-17 19:21:13.792846\n",
      "SOTF_NA_Rewards_ActiveM&L_Above50k_Single_NA 21 2020-03-17 19:21:20.425380\n",
      "SOTF_NA_Rewards_ActiveM&L_Above50k_Single_NA 22 2020-03-17 19:21:26.907442\n",
      "SOTF_NA_Rewards_ActiveM&L_Above50k_Single_NA 23 2020-03-17 19:21:34.103283\n",
      "SOTF_NA_Rewards_ActiveM&L_Above50k_Single_NA 24 2020-03-17 19:21:35.979230\n",
      "SOTF_NA_Rewards_ActiveM&L_Above50k_Single_NA 25 2020-03-17 19:21:38.014497\n",
      "SOTF_NA_Rewards_ActiveM&L_Above50k_Single_NA 26 2020-03-17 19:21:39.539021\n",
      "SOTF_NA_Rewards_ActiveM&L_Below50k_Multi_NA 1 2020-03-17 19:21:43.277270\n",
      "SOTF_NA_Rewards_ActiveM&L_Below50k_Multi_NA 2 2020-03-17 19:21:47.857722\n",
      "SOTF_NA_Rewards_ActiveM&L_Below50k_Single_NA 1 2020-03-17 19:21:56.350581\n",
      "SOTF_NA_Rewards_ActiveM&L_Below50k_Single_NA 2 2020-03-17 19:22:03.016578\n",
      "SOTF_NA_Rewards_ActiveM&L_Below50k_Single_NA 3 2020-03-17 19:22:09.948278\n",
      "SOTF_NA_Rewards_ActiveM&L_Below50k_Single_NA 4 2020-03-17 19:22:16.669020\n",
      "SOTF_NA_Rewards_ActiveM&L_Below50k_Single_NA 5 2020-03-17 19:22:23.659151\n",
      "SOTF_NA_Rewards_ActiveM&L_Below50k_Single_NA 6 2020-03-17 19:22:30.197304\n",
      "SOTF_NA_Rewards_ActiveM&L_Below50k_Single_NA 7 2020-03-17 19:22:34.670912\n",
      "SOTF_NA_Rewards_ActiveM&L_Unknown_Unknown_NA 1 2020-03-17 19:22:39.337295\n",
      "SOTF_NA_Rewards_ActiveM&L_Unknown_Unknown_NA 2 2020-03-17 19:22:45.826935\n",
      "SOTF_NA_Rewards_ActiveM&L_Unknown_Unknown_NA 3 2020-03-17 19:22:52.776057\n",
      "SOTF_NA_Rewards_ActiveM&L_Unknown_Unknown_NA 4 2020-03-17 19:22:54.908580\n",
      "SOTF_NA_Rewards_ActiveM&L_Unknown_Unknown_NA 5 2020-03-17 19:22:57.347231\n",
      "SOTF_NA_Rewards_ActiveM&L_Unknown_Unknown_NA 6 2020-03-17 19:22:59.693104\n",
      "SOTF_NA_Rewards_ActiveM&L_Unknown_Unknown_NA 7 2020-03-17 19:23:06.728265\n",
      "SOTF_NA_Rewards_ActiveM&L_Unknown_Unknown_NA 8 2020-03-17 19:23:08.686574\n",
      "SOTF_NA_Rewards_ActiveM&L_Unknown_Unknown_NA 9 2020-03-17 19:23:11.224501\n",
      "SOTF_NA_Rewards_ActiveM&L_Unknown_Unknown_NA 10 2020-03-17 19:23:13.260389\n",
      "SOTF_NA_Rewards_ActiveM&L_Unknown_Unknown_NA 11 2020-03-17 19:23:15.095325\n",
      "SOTF_NA_Rewards_ActiveM&L_Unknown_Unknown_NA 12 2020-03-17 19:23:21.804448\n",
      "SOTF_NA_Rewards_ActiveM&L_Unknown_Unknown_NA 13 2020-03-17 19:23:23.316035\n"
     ]
    }
   ],
   "source": [
    "for local_file in list_new_seg_to_up_load:\n",
    "    new_seg_name=os.path.basename(local_file).split(\".\")[0]\n",
    "    str_unique_email=str(new_seg_unique_email_count[new_seg_name])\n",
    "    creatfbaudience(file_path=local_file,\n",
    "                    ACCESS_TOKEN=jian_token,\n",
    "                    accountid=BigLotsAccount_id,\n",
    "                    description=\"aggregated_emails_\"+new_seg_name+\"_\"+str_unique_email,\n",
    "                    audience_name=os.path.basename(local_file).split(\".\")[0]\n",
    "                   )"
   ]
  },
  {
   "cell_type": "code",
   "execution_count": null,
   "metadata": {},
   "outputs": [],
   "source": []
  }
 ],
 "metadata": {
  "kernelspec": {
   "display_name": "Python 3",
   "language": "python",
   "name": "python3"
  },
  "language_info": {
   "codemirror_mode": {
    "name": "ipython",
    "version": 3
   },
   "file_extension": ".py",
   "mimetype": "text/x-python",
   "name": "python",
   "nbconvert_exporter": "python",
   "pygments_lexer": "ipython3",
   "version": "3.6.1"
  }
 },
 "nbformat": 4,
 "nbformat_minor": 2
}
