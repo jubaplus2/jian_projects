{
 "cells": [
  {
   "cell_type": "code",
   "execution_count": 9,
   "metadata": {
    "collapsed": true
   },
   "outputs": [],
   "source": [
    "import pandas as pd\n",
    "import glob\n",
    "import numpy as np\n",
    "import datetime\n",
    "import logging"
   ]
  },
  {
   "cell_type": "code",
   "execution_count": 11,
   "metadata": {},
   "outputs": [
    {
     "data": {
      "text/plain": [
       "'2018-05-02 11:11:45.963745'"
      ]
     },
     "execution_count": 11,
     "metadata": {},
     "output_type": "execute_result"
    }
   ],
   "source": [
    "start_running=str(datetime.datetime.now())\n",
    "start_running"
   ]
  },
  {
   "cell_type": "code",
   "execution_count": 12,
   "metadata": {},
   "outputs": [
    {
     "name": "stderr",
     "output_type": "stream",
     "text": [
      "/usr/local/lib/python3.6/site-packages/IPython/core/interactiveshell.py:2683: DtypeWarning: Columns (10,14) have mixed types. Specify dtype option on import or set low_memory=False.\n",
      "  interactivity=interactivity, compiler=compiler, result=result)\n"
     ]
    }
   ],
   "source": [
    "x=pd.read_csv(\"/home/jian/Projects/Big_Lots/Newspaper/BL_combined newspaper final_JL_20180501.csv\")"
   ]
  },
  {
   "cell_type": "code",
   "execution_count": 19,
   "metadata": {},
   "outputs": [
    {
     "data": {
      "text/plain": [
       "(1244533, 15)"
      ]
     },
     "execution_count": 19,
     "metadata": {},
     "output_type": "execute_result"
    }
   ],
   "source": [
    "x.shape"
   ]
  },
  {
   "cell_type": "code",
   "execution_count": 18,
   "metadata": {},
   "outputs": [],
   "source": [
    "neg=x[x['adjusted_circ_with_list']<0]\n",
    "neg.to_excel(\"/home/jian/Projects/Big_Lots/Newspaper/Negative Value_JL_20180501.xlsx\",index=False)"
   ]
  },
  {
   "cell_type": "code",
   "execution_count": 2,
   "metadata": {
    "collapsed": true
   },
   "outputs": [],
   "source": [
    "folder=\"/home/jian/Projects/Big_Lots/Newspaper/All newspaper files for reading JL/\""
   ]
  },
  {
   "cell_type": "code",
   "execution_count": 3,
   "metadata": {},
   "outputs": [
    {
     "data": {
      "text/plain": [
       "58"
      ]
     },
     "execution_count": 3,
     "metadata": {},
     "output_type": "execute_result"
    }
   ],
   "source": [
    "file_list=glob.glob(folder+\"*\")\n",
    "len(file_list)"
   ]
  },
  {
   "cell_type": "code",
   "execution_count": 4,
   "metadata": {},
   "outputs": [
    {
     "data": {
      "text/plain": [
       "{'.xlsx'}"
      ]
     },
     "execution_count": 4,
     "metadata": {},
     "output_type": "execute_result"
    }
   ],
   "source": [
    "# Check unique extension\n",
    "set([x[len(x)-5:len(x)] for x in file_list])"
   ]
  },
  {
   "cell_type": "code",
   "execution_count": 5,
   "metadata": {
    "collapsed": true
   },
   "outputs": [],
   "source": [
    "all_columns=[]\n",
    "for file in file_list:\n",
    "    df=pd.read_excel(file,sheetname=\"to_read\")\n",
    "    all_columns=list(set(all_columns+df.columns.tolist()))"
   ]
  },
  {
   "cell_type": "code",
   "execution_count": 6,
   "metadata": {},
   "outputs": [
    {
     "data": {
      "text/plain": [
       "['productname',\n",
       " 'dayname',\n",
       " 'zips',\n",
       " 'productid',\n",
       " 'storeid',\n",
       " 'zonesetname',\n",
       " 'totalcirc',\n",
       " 'zoneid',\n",
       " 'projectname']"
      ]
     },
     "execution_count": 6,
     "metadata": {},
     "output_type": "execute_result"
    }
   ],
   "source": [
    "all_columns"
   ]
  },
  {
   "cell_type": "code",
   "execution_count": 7,
   "metadata": {
    "scrolled": false
   },
   "outputs": [
    {
     "data": {
      "text/plain": [
       "'\\n# Check Dates code\\n\\n    date_in_projectname=df[\\'projectname\\'].apply(lambda x: x.replace(\"Sept\",\"Sep\")).apply(lambda x: x.split(\" \")[0]+\" \"+x.split(\" \")[1]+\" \"+x.split(\" \")[2]).unique().tolist()\\n    date_in_file_list=[]\\n    for date_A in date_in_projectname:\\n\\n        if len(date_A.split(\" \")[0])==3:\\n            date_A=datetime.datetime.strptime(date_A,\"%b %d %Y\").date()\\n            date_in_file_list=list(set(date_in_file_list+[date_A]))\\n        else:\\n            date_A=datetime.datetime.strptime(date_A,\"%B %d %Y\").date()\\n            date_in_file_list=list(set(date_in_file_list+[date_A]))\\n            \\n    if len(date_in_file_list)==1:\\n        if date!=date_in_file_list[0]:\\n            print(str(date),\": \",\"Date different from the file name\")\\n    else:\\n        print(str(date),\": \",\"More than 1 date in the file\")\\n    del df[\\'projectname\\']    \\n'"
      ]
     },
     "execution_count": 7,
     "metadata": {},
     "output_type": "execute_result"
    }
   ],
   "source": [
    "Selected_Col=['projectname','storeid','productname','productid','dayname','zips','totalcirc']\n",
    "output_combined_all_date=pd.DataFrame()\n",
    "check_df=pd.DataFrame()\n",
    "finished=[]\n",
    "total_circ=0\n",
    "for file in file_list:\n",
    "\n",
    "    date=file.split(\"/\")[len(file.split(\"/\"))-1].split(\" \")[0]+\" \"+file.split(\"/\")[len(file.split(\"/\"))-1].split(\" \")[1]+\" \"+\\\n",
    "    file.split(\"/\")[len(file.split(\"/\"))-1].split(\" \")[2]\n",
    "    date=date.replace(\"Sept\",\"Sep\")\n",
    "\n",
    "    if len(date.split(\" \")[0])==3:\n",
    "        date=datetime.datetime.strptime(date,\"%b %d %Y\").date()\n",
    "    else:\n",
    "        date=datetime.datetime.strptime(date,\"%B %d %Y\").date()\n",
    "    df=pd.read_excel(file,sheetname=\"to_read\",dtype=str,na_values=['NULL',\"\",\" \"])\n",
    "    df=df[Selected_Col]\n",
    "    df['totalcirc']=df['totalcirc'].astype(float)\n",
    "    df['keys']=df['storeid']+\"_\"+df['productid']\n",
    "    df['Date']=date\n",
    "    check_df=check_df.append(df)\n",
    "    total_circ=total_circ+df['totalcirc'].sum()\n",
    "\n",
    "    df_combine_date=pd.DataFrame()\n",
    "    for key in df['keys'].unique():\n",
    "        df_product_store=df[df['keys']==key]\n",
    "        df_product_store_NA=df_product_store[df_product_store['zips']=='nan']\n",
    "        df_product_store_NA.reset_index(inplace=True)\n",
    "        del df_product_store_NA['index']\n",
    "        df_product_store_zip=df_product_store[df_product_store['zips']!='nan']\n",
    "        df_product_store_zip.reset_index(inplace=True)\n",
    "        del df_product_store_zip['index']        \n",
    "\n",
    "        if len(df_product_store_NA)==0:\n",
    "            df_product_store_zip=df_product_store.groupby(['storeid','productname','productid','dayname','zips'])['totalcirc'].sum().to_frame()\n",
    "            df_product_store_zip.reset_index(inplace=True)\n",
    "            df_product_store_zip['circ_proportion_of_Null']=0\n",
    "            df_product_store_zip['adjusted_circ_about_Null']=df_product_store_zip['totalcirc']\n",
    "            \n",
    "        elif len(df_product_store_zip)==0:\n",
    "            # print(str(date),key,\"All Null Zips\")\n",
    "            df_product_store_zip=df_product_store.groupby(['storeid','productname','productid','dayname','zips'])['totalcirc'].sum().to_frame()\n",
    "            df_product_store_zip.reset_index(inplace=True)\n",
    "            df_product_store_zip['circ_proportion_of_Null']=1\n",
    "            df_product_store_zip['adjusted_circ_about_Null']=df_product_store_zip['totalcirc']\n",
    "            \n",
    "        elif len(df_product_store_NA)>=1:\n",
    "            na_zip_circ=df_product_store_NA['totalcirc'].sum()\n",
    "            df_product_store_zip=df_product_store_zip.groupby(['storeid','productname','productid','dayname','zips'])['totalcirc'].sum().to_frame()\n",
    "            df_product_store_zip.reset_index(inplace=True)\n",
    "            df_product_store_zip['circ_proportion_of_Null']=df_product_store_zip['totalcirc'].apply(lambda x:x/sum(df_product_store_zip['totalcirc']))\n",
    "            df_product_store_zip['adjusted_circ_about_Null']=df_product_store_zip['totalcirc']+df_product_store_zip['circ_proportion_of_Null']*na_zip_circ\n",
    "        df_combine_date=df_combine_date.append(df_product_store_zip)\n",
    "\n",
    "    df_combine_date['Date']=date\n",
    "    finished=finished+[str(date)]\n",
    "    print(str(date),\"Done\",len(finished))\n",
    "\n",
    "    output_combined_all_date=output_combined_all_date.append(df_combine_date) \n",
    "# output_combined_all_date.to_csv(\"/Users/Jian/Desktop/Media Storm/Big Lots/Ongoing/Newspaper/output/combined all newspaper.csv\",index=False)\n",
    "\n",
    "\n",
    "'''\n",
    "# Check Dates code\n",
    "\n",
    "    date_in_projectname=df['projectname'].apply(lambda x: x.replace(\"Sept\",\"Sep\")).apply(lambda x: x.split(\" \")[0]+\" \"+x.split(\" \")[1]+\" \"+x.split(\" \")[2]).unique().tolist()\n",
    "    date_in_file_list=[]\n",
    "    for date_A in date_in_projectname:\n",
    "\n",
    "        if len(date_A.split(\" \")[0])==3:\n",
    "            date_A=datetime.datetime.strptime(date_A,\"%b %d %Y\").date()\n",
    "            date_in_file_list=list(set(date_in_file_list+[date_A]))\n",
    "        else:\n",
    "            date_A=datetime.datetime.strptime(date_A,\"%B %d %Y\").date()\n",
    "            date_in_file_list=list(set(date_in_file_list+[date_A]))\n",
    "            \n",
    "    if len(date_in_file_list)==1:\n",
    "        if date!=date_in_file_list[0]:\n",
    "            print(str(date),\": \",\"Date different from the file name\")\n",
    "    else:\n",
    "        print(str(date),\": \",\"More than 1 date in the file\")\n",
    "    del df['projectname']    \n",
    "'''\n"
   ]
  },
  {
   "cell_type": "code",
   "execution_count": 8,
   "metadata": {},
   "outputs": [
    {
     "data": {
      "text/plain": [
       "950699801.49969983"
      ]
     },
     "execution_count": 8,
     "metadata": {},
     "output_type": "execute_result"
    }
   ],
   "source": [
    "total_circ"
   ]
  },
  {
   "cell_type": "code",
   "execution_count": 8,
   "metadata": {},
   "outputs": [
    {
     "data": {
      "text/plain": [
       "950699801.49970007"
      ]
     },
     "execution_count": 8,
     "metadata": {},
     "output_type": "execute_result"
    }
   ],
   "source": [
    "check_df['totalcirc'].sum()"
   ]
  },
  {
   "cell_type": "code",
   "execution_count": 19,
   "metadata": {},
   "outputs": [
    {
     "data": {
      "text/plain": [
       "950699801.49970019"
      ]
     },
     "execution_count": 19,
     "metadata": {},
     "output_type": "execute_result"
    }
   ],
   "source": [
    "output_combined_all_date['adjusted_circ_about_Null'].sum()"
   ]
  },
  {
   "cell_type": "code",
   "execution_count": 20,
   "metadata": {
    "collapsed": true
   },
   "outputs": [],
   "source": [
    "output_combined_all_date.reset_index(inplace=True)\n",
    "del output_combined_all_date['index']\n",
    "output_combined_all_date.to_excel(\"/home/jian/Projects/Big_Lots/Newspaper/BL_combined newspaper data_JL_20180501.xlsx\",index=False)"
   ]
  },
  {
   "cell_type": "code",
   "execution_count": 34,
   "metadata": {
    "collapsed": true
   },
   "outputs": [],
   "source": [
    "household=pd.read_csv(\"/home/jian/Docs/Household and Population/2016/ACS_16_5YR_S1101_with_ann (Household Composition).csv\",dtype=str,skiprows=1)\n",
    "household=household.iloc[:,[0,4]]\n",
    "household['zip_cd']=household['Id'].apply(lambda x: x[len(x)-5:len(x)])\n",
    "household=household[['zip_cd','Total; Margin of Error; Total households']]\n",
    "household.columns=['zip_cd','Households']\n",
    "household['Households']=household['Households'].fillna(0)\n",
    "household['Households']=household['Households'].astype(int)"
   ]
  },
  {
   "cell_type": "code",
   "execution_count": 24,
   "metadata": {
    "collapsed": true
   },
   "outputs": [],
   "source": [
    "output_combined_all_date['zip_list']=output_combined_all_date['zips'].apply(lambda x: [ zip.strip().zfill(5) for zip in x.split(\",\")])"
   ]
  },
  {
   "cell_type": "code",
   "execution_count": 25,
   "metadata": {
    "collapsed": true
   },
   "outputs": [],
   "source": [
    "output_combined_all_date['zip_count']=output_combined_all_date['zip_list'].apply(lambda x: len(x))"
   ]
  },
  {
   "cell_type": "code",
   "execution_count": 26,
   "metadata": {
    "collapsed": true
   },
   "outputs": [],
   "source": [
    "output_combined_all_date_1=output_combined_all_date[output_combined_all_date['zip_count']==1]\n",
    "output_combined_all_date_M=output_combined_all_date[output_combined_all_date['zip_count']!=1]"
   ]
  },
  {
   "cell_type": "code",
   "execution_count": 27,
   "metadata": {},
   "outputs": [
    {
     "name": "stderr",
     "output_type": "stream",
     "text": [
      "/usr/local/lib/python3.6/site-packages/ipykernel_launcher.py:1: SettingWithCopyWarning: \n",
      "A value is trying to be set on a copy of a slice from a DataFrame.\n",
      "Try using .loc[row_indexer,col_indexer] = value instead\n",
      "\n",
      "See the caveats in the documentation: http://pandas.pydata.org/pandas-docs/stable/indexing.html#indexing-view-versus-copy\n",
      "  \"\"\"Entry point for launching an IPython kernel.\n"
     ]
    }
   ],
   "source": [
    "output_combined_all_date_1['zip_cd']=output_combined_all_date_1['zips'].str.zfill(5)\n",
    "output_combined_all_date_1['zip_list_proportion']=1\n",
    "output_combined_all_date_1['adjusted_circ_with_list']=output_combined_all_date_1['adjusted_circ_about_Null']"
   ]
  },
  {
   "cell_type": "code",
   "execution_count": 35,
   "metadata": {},
   "outputs": [
    {
     "name": "stdout",
     "output_type": "stream",
     "text": [
      "1\n",
      "101\n",
      "201\n",
      "301\n",
      "401\n",
      "501\n",
      "601\n",
      "701\n",
      "801\n",
      "901\n",
      "1001\n",
      "1101\n",
      "1201\n",
      "1301\n",
      "1401\n",
      "1501\n",
      "1601\n",
      "1701\n",
      "1801\n",
      "1901\n",
      "2001\n",
      "2101\n",
      "2201\n",
      "2301\n",
      "2401\n",
      "2501\n",
      "2601\n",
      "2701\n",
      "2801\n",
      "2901\n",
      "3001\n",
      "3101\n",
      "3201\n",
      "3301\n",
      "3401\n",
      "3501\n",
      "3601\n",
      "3701\n",
      "3801\n",
      "3901\n",
      "4001\n",
      "4101\n",
      "4201\n",
      "4301\n",
      "4401\n",
      "4501\n",
      "4601\n",
      "4701\n",
      "4801\n",
      "4901\n",
      "5001\n",
      "5101\n",
      "5201\n",
      "5301\n",
      "5401\n",
      "5501\n",
      "5601\n",
      "5701\n",
      "5801\n",
      "5901\n",
      "6001\n",
      "6101\n",
      "6201\n",
      "6301\n",
      "6401\n",
      "6501\n",
      "6601\n",
      "6701\n",
      "6801\n",
      "6901\n"
     ]
    },
    {
     "ename": "KeyboardInterrupt",
     "evalue": "",
     "output_type": "error",
     "traceback": [
      "\u001b[0;31m---------------------------------------------------------------------------\u001b[0m",
      "\u001b[0;31mKeyboardInterrupt\u001b[0m                         Traceback (most recent call last)",
      "\u001b[0;32m<ipython-input-35-08454bfd2f33>\u001b[0m in \u001b[0;36m<module>\u001b[0;34m()\u001b[0m\n\u001b[1;32m     12\u001b[0m         \u001b[0mdf_1_zip\u001b[0m\u001b[0;34m[\u001b[0m\u001b[0;34m'zip_cd'\u001b[0m\u001b[0;34m]\u001b[0m\u001b[0;34m=\u001b[0m\u001b[0mzip_i\u001b[0m\u001b[0;34m\u001b[0m\u001b[0m\n\u001b[1;32m     13\u001b[0m         \u001b[0mdf_to_app\u001b[0m\u001b[0;34m=\u001b[0m\u001b[0mdf_to_app\u001b[0m\u001b[0;34m.\u001b[0m\u001b[0mappend\u001b[0m\u001b[0;34m(\u001b[0m\u001b[0mdf_1_zip\u001b[0m\u001b[0;34m)\u001b[0m\u001b[0;34m\u001b[0m\u001b[0m\n\u001b[0;32m---> 14\u001b[0;31m     \u001b[0mdf_to_app\u001b[0m\u001b[0;34m=\u001b[0m\u001b[0mpd\u001b[0m\u001b[0;34m.\u001b[0m\u001b[0mmerge\u001b[0m\u001b[0;34m(\u001b[0m\u001b[0mdf_to_app\u001b[0m\u001b[0;34m,\u001b[0m\u001b[0mhousehold\u001b[0m\u001b[0;34m,\u001b[0m\u001b[0mon\u001b[0m\u001b[0;34m=\u001b[0m\u001b[0;34m\"zip_cd\"\u001b[0m\u001b[0;34m,\u001b[0m\u001b[0mhow\u001b[0m\u001b[0;34m=\u001b[0m\u001b[0;34m\"left\"\u001b[0m\u001b[0;34m)\u001b[0m\u001b[0;34m\u001b[0m\u001b[0m\n\u001b[0m\u001b[1;32m     15\u001b[0m     \u001b[0mdf_to_app\u001b[0m\u001b[0;34m[\u001b[0m\u001b[0;34m'zip_list_proportion'\u001b[0m\u001b[0;34m]\u001b[0m\u001b[0;34m=\u001b[0m\u001b[0mdf_to_app\u001b[0m\u001b[0;34m[\u001b[0m\u001b[0;34m'Households'\u001b[0m\u001b[0;34m]\u001b[0m\u001b[0;34m/\u001b[0m\u001b[0mdf_to_app\u001b[0m\u001b[0;34m[\u001b[0m\u001b[0;34m'Households'\u001b[0m\u001b[0;34m]\u001b[0m\u001b[0;34m.\u001b[0m\u001b[0msum\u001b[0m\u001b[0;34m(\u001b[0m\u001b[0;34m)\u001b[0m\u001b[0;34m\u001b[0m\u001b[0m\n\u001b[1;32m     16\u001b[0m     \u001b[0mdf_to_app\u001b[0m\u001b[0;34m[\u001b[0m\u001b[0;34m'adjusted_circ_with_list'\u001b[0m\u001b[0;34m]\u001b[0m\u001b[0;34m=\u001b[0m\u001b[0mdf_to_app\u001b[0m\u001b[0;34m[\u001b[0m\u001b[0;34m'adjusted_circ_about_Null'\u001b[0m\u001b[0;34m]\u001b[0m\u001b[0;34m*\u001b[0m\u001b[0mdf_to_app\u001b[0m\u001b[0;34m[\u001b[0m\u001b[0;34m'zip_list_proportion'\u001b[0m\u001b[0;34m]\u001b[0m\u001b[0;34m\u001b[0m\u001b[0m\n",
      "\u001b[0;32m/usr/local/lib/python3.6/site-packages/pandas/core/reshape/merge.py\u001b[0m in \u001b[0;36mmerge\u001b[0;34m(left, right, how, on, left_on, right_on, left_index, right_index, sort, suffixes, copy, indicator)\u001b[0m\n\u001b[1;32m     52\u001b[0m                          \u001b[0mright_index\u001b[0m\u001b[0;34m=\u001b[0m\u001b[0mright_index\u001b[0m\u001b[0;34m,\u001b[0m \u001b[0msort\u001b[0m\u001b[0;34m=\u001b[0m\u001b[0msort\u001b[0m\u001b[0;34m,\u001b[0m \u001b[0msuffixes\u001b[0m\u001b[0;34m=\u001b[0m\u001b[0msuffixes\u001b[0m\u001b[0;34m,\u001b[0m\u001b[0;34m\u001b[0m\u001b[0m\n\u001b[1;32m     53\u001b[0m                          copy=copy, indicator=indicator)\n\u001b[0;32m---> 54\u001b[0;31m     \u001b[0;32mreturn\u001b[0m \u001b[0mop\u001b[0m\u001b[0;34m.\u001b[0m\u001b[0mget_result\u001b[0m\u001b[0;34m(\u001b[0m\u001b[0;34m)\u001b[0m\u001b[0;34m\u001b[0m\u001b[0m\n\u001b[0m\u001b[1;32m     55\u001b[0m \u001b[0;34m\u001b[0m\u001b[0m\n\u001b[1;32m     56\u001b[0m \u001b[0;34m\u001b[0m\u001b[0m\n",
      "\u001b[0;32m/usr/local/lib/python3.6/site-packages/pandas/core/reshape/merge.py\u001b[0m in \u001b[0;36mget_result\u001b[0;34m(self)\u001b[0m\n\u001b[1;32m    580\u001b[0m         result_data = concatenate_block_managers(\n\u001b[1;32m    581\u001b[0m             \u001b[0;34m[\u001b[0m\u001b[0;34m(\u001b[0m\u001b[0mldata\u001b[0m\u001b[0;34m,\u001b[0m \u001b[0mlindexers\u001b[0m\u001b[0;34m)\u001b[0m\u001b[0;34m,\u001b[0m \u001b[0;34m(\u001b[0m\u001b[0mrdata\u001b[0m\u001b[0;34m,\u001b[0m \u001b[0mrindexers\u001b[0m\u001b[0;34m)\u001b[0m\u001b[0;34m]\u001b[0m\u001b[0;34m,\u001b[0m\u001b[0;34m\u001b[0m\u001b[0m\n\u001b[0;32m--> 582\u001b[0;31m             \u001b[0maxes\u001b[0m\u001b[0;34m=\u001b[0m\u001b[0;34m[\u001b[0m\u001b[0mllabels\u001b[0m\u001b[0;34m.\u001b[0m\u001b[0mappend\u001b[0m\u001b[0;34m(\u001b[0m\u001b[0mrlabels\u001b[0m\u001b[0;34m)\u001b[0m\u001b[0;34m,\u001b[0m \u001b[0mjoin_index\u001b[0m\u001b[0;34m]\u001b[0m\u001b[0;34m,\u001b[0m\u001b[0;34m\u001b[0m\u001b[0m\n\u001b[0m\u001b[1;32m    583\u001b[0m             concat_axis=0, copy=self.copy)\n\u001b[1;32m    584\u001b[0m \u001b[0;34m\u001b[0m\u001b[0m\n",
      "\u001b[0;32m/usr/local/lib/python3.6/site-packages/pandas/core/indexes/base.py\u001b[0m in \u001b[0;36mappend\u001b[0;34m(self, other)\u001b[0m\n\u001b[1;32m   1739\u001b[0m \u001b[0;34m\u001b[0m\u001b[0m\n\u001b[1;32m   1740\u001b[0m         \u001b[0;32mif\u001b[0m \u001b[0mlen\u001b[0m\u001b[0;34m(\u001b[0m\u001b[0mtyps\u001b[0m\u001b[0;34m)\u001b[0m \u001b[0;34m==\u001b[0m \u001b[0;36m1\u001b[0m\u001b[0;34m:\u001b[0m\u001b[0;34m\u001b[0m\u001b[0m\n\u001b[0;32m-> 1741\u001b[0;31m             \u001b[0;32mreturn\u001b[0m \u001b[0mself\u001b[0m\u001b[0;34m.\u001b[0m\u001b[0m_append_same_dtype\u001b[0m\u001b[0;34m(\u001b[0m\u001b[0mto_concat\u001b[0m\u001b[0;34m,\u001b[0m \u001b[0mname\u001b[0m\u001b[0;34m=\u001b[0m\u001b[0mname\u001b[0m\u001b[0;34m)\u001b[0m\u001b[0;34m\u001b[0m\u001b[0m\n\u001b[0m\u001b[1;32m   1742\u001b[0m         \u001b[0;32mreturn\u001b[0m \u001b[0m_concat\u001b[0m\u001b[0;34m.\u001b[0m\u001b[0m_concat_index_asobject\u001b[0m\u001b[0;34m(\u001b[0m\u001b[0mto_concat\u001b[0m\u001b[0;34m,\u001b[0m \u001b[0mname\u001b[0m\u001b[0;34m=\u001b[0m\u001b[0mname\u001b[0m\u001b[0;34m)\u001b[0m\u001b[0;34m\u001b[0m\u001b[0m\n\u001b[1;32m   1743\u001b[0m \u001b[0;34m\u001b[0m\u001b[0m\n",
      "\u001b[0;32m/usr/local/lib/python3.6/site-packages/pandas/core/indexes/base.py\u001b[0m in \u001b[0;36m_append_same_dtype\u001b[0;34m(self, to_concat, name)\u001b[0m\n\u001b[1;32m   1747\u001b[0m         \"\"\"\n\u001b[1;32m   1748\u001b[0m         \u001b[0;31m# must be overrided in specific classes\u001b[0m\u001b[0;34m\u001b[0m\u001b[0;34m\u001b[0m\u001b[0m\n\u001b[0;32m-> 1749\u001b[0;31m         \u001b[0;32mreturn\u001b[0m \u001b[0m_concat\u001b[0m\u001b[0;34m.\u001b[0m\u001b[0m_concat_index_asobject\u001b[0m\u001b[0;34m(\u001b[0m\u001b[0mto_concat\u001b[0m\u001b[0;34m,\u001b[0m \u001b[0mname\u001b[0m\u001b[0;34m)\u001b[0m\u001b[0;34m\u001b[0m\u001b[0m\n\u001b[0m\u001b[1;32m   1750\u001b[0m \u001b[0;34m\u001b[0m\u001b[0m\n\u001b[1;32m   1751\u001b[0m     _index_shared_docs['take'] = \"\"\"\n",
      "\u001b[0;32m/usr/local/lib/python3.6/site-packages/pandas/core/dtypes/concat.py\u001b[0m in \u001b[0;36m_concat_index_asobject\u001b[0;34m(to_concat, name)\u001b[0m\n\u001b[1;32m    413\u001b[0m                  for x in to_concat]\n\u001b[1;32m    414\u001b[0m \u001b[0;34m\u001b[0m\u001b[0m\n\u001b[0;32m--> 415\u001b[0;31m     \u001b[0;32mfrom\u001b[0m \u001b[0mpandas\u001b[0m \u001b[0;32mimport\u001b[0m \u001b[0mIndex\u001b[0m\u001b[0;34m\u001b[0m\u001b[0m\n\u001b[0m\u001b[1;32m    416\u001b[0m     \u001b[0mself\u001b[0m \u001b[0;34m=\u001b[0m \u001b[0mto_concat\u001b[0m\u001b[0;34m[\u001b[0m\u001b[0;36m0\u001b[0m\u001b[0;34m]\u001b[0m\u001b[0;34m\u001b[0m\u001b[0m\n\u001b[1;32m    417\u001b[0m     \u001b[0mattribs\u001b[0m \u001b[0;34m=\u001b[0m \u001b[0mself\u001b[0m\u001b[0;34m.\u001b[0m\u001b[0m_get_attributes_dict\u001b[0m\u001b[0;34m(\u001b[0m\u001b[0;34m)\u001b[0m\u001b[0;34m\u001b[0m\u001b[0m\n",
      "\u001b[0;32m/usr/local/lib/python3.6/importlib/_bootstrap.py\u001b[0m in \u001b[0;36m_handle_fromlist\u001b[0;34m(module, fromlist, import_)\u001b[0m\n",
      "\u001b[0;31mKeyboardInterrupt\u001b[0m: "
     ]
    }
   ],
   "source": [
    "output_combined_all_date_M.reset_index(inplace= True)\n",
    "del output_combined_all_date_M['index']\n",
    "output_combined_all_date_M_agg=pd.DataFrame()\n",
    "\n",
    "for i in range(len(output_combined_all_date_M)):\n",
    "    df=output_combined_all_date_M.iloc[i:(i+1),:]\n",
    "    df.reset_index(inplace=True)\n",
    "    del df['index']\n",
    "    df_to_app=pd.DataFrame()\n",
    "    for zip_i in list(set(df['zip_list'][0])):\n",
    "        df_1_zip=df.copy()\n",
    "        df_1_zip['zip_cd']=zip_i\n",
    "        df_to_app=df_to_app.append(df_1_zip)\n",
    "    df_to_app=pd.merge(df_to_app,household,on=\"zip_cd\",how=\"left\")\n",
    "    df_to_app['zip_list_proportion']=df_to_app['Households']/df_to_app['Households'].sum()\n",
    "    df_to_app['adjusted_circ_with_list']=df_to_app['adjusted_circ_about_Null']*df_to_app['zip_list_proportion']\n",
    "    output_combined_all_date_M_agg=output_combined_all_date_M_agg.append(df_to_app)\n",
    "    if i % 1000 == 1:\n",
    "        print(i)"
   ]
  },
  {
   "cell_type": "code",
   "execution_count": null,
   "metadata": {
    "collapsed": true
   },
   "outputs": [],
   "source": [
    "output_combined_all_date_M_agg.head(2)"
   ]
  },
  {
   "cell_type": "code",
   "execution_count": null,
   "metadata": {
    "collapsed": true
   },
   "outputs": [],
   "source": [
    "output_adjusted_final=output_combined_all_date_M_agg.append(output_combined_all_date_1)"
   ]
  },
  {
   "cell_type": "code",
   "execution_count": null,
   "metadata": {
    "collapsed": true
   },
   "outputs": [],
   "source": [
    "output_adjusted_final.to_csv(\"/home/jian/Projects/Big_Lots/Newspaper/BL_combined newspaper final_JL_20180424.csv\",index=False)"
   ]
  },
  {
   "cell_type": "code",
   "execution_count": null,
   "metadata": {
    "collapsed": true
   },
   "outputs": [],
   "source": []
  },
  {
   "cell_type": "code",
   "execution_count": 2,
   "metadata": {},
   "outputs": [
    {
     "name": "stderr",
     "output_type": "stream",
     "text": [
      "/usr/local/lib/python3.6/site-packages/IPython/core/interactiveshell.py:2683: DtypeWarning: Columns (10,14) have mixed types. Specify dtype option on import or set low_memory=False.\n",
      "  interactivity=interactivity, compiler=compiler, result=result)\n"
     ]
    }
   ],
   "source": [
    "x=pd.read_csv(\"/home/jian/Projects/Big_Lots/Newspaper/BL_combined newspaper final_JL_20180424.csv\")"
   ]
  },
  {
   "cell_type": "code",
   "execution_count": 3,
   "metadata": {},
   "outputs": [
    {
     "data": {
      "text/plain": [
       "(1244533, 15)"
      ]
     },
     "execution_count": 3,
     "metadata": {},
     "output_type": "execute_result"
    }
   ],
   "source": [
    "x.shape"
   ]
  },
  {
   "cell_type": "code",
   "execution_count": 11,
   "metadata": {
    "collapsed": true
   },
   "outputs": [],
   "source": [
    "sample_data_list=[\n",
    " '2017-11-12',\n",
    " '2017-11-19',\n",
    " '2017-11-22',\n",
    " '2017-11-23',\n",
    " '2017-11-26',\n",
    " '2017-12-03']"
   ]
  },
  {
   "cell_type": "code",
   "execution_count": 12,
   "metadata": {
    "collapsed": true
   },
   "outputs": [],
   "source": [
    "sample=x[x['Date'].isin(sample_data_list)]"
   ]
  },
  {
   "cell_type": "code",
   "execution_count": 13,
   "metadata": {
    "collapsed": true
   },
   "outputs": [],
   "source": [
    "sample.to_csv(\"/home/jian/Projects/Big_Lots/Newspaper/BL_combined newspaper sample.csv\",index=False)"
   ]
  },
  {
   "cell_type": "code",
   "execution_count": 10,
   "metadata": {},
   "outputs": [
    {
     "data": {
      "text/plain": [
       "['2016-08-28',\n",
       " '2016-09-04',\n",
       " '2016-09-25',\n",
       " '2016-10-09',\n",
       " '2016-10-23',\n",
       " '2016-10-30',\n",
       " '2016-11-06',\n",
       " '2016-11-13',\n",
       " '2016-11-20',\n",
       " '2016-11-23',\n",
       " '2016-11-24',\n",
       " '2016-11-27',\n",
       " '2016-12-04',\n",
       " '2016-12-11',\n",
       " '2016-12-18',\n",
       " '2017-01-08',\n",
       " '2017-02-05',\n",
       " '2017-02-12',\n",
       " '2017-02-19',\n",
       " '2017-03-05',\n",
       " '2017-03-12',\n",
       " '2017-03-19',\n",
       " '2017-04-02',\n",
       " '2017-04-09',\n",
       " '2017-04-23',\n",
       " '2017-04-30',\n",
       " '2017-05-21',\n",
       " '2017-05-28',\n",
       " '2017-06-11',\n",
       " '2017-06-25',\n",
       " '2017-07-16',\n",
       " '2017-07-30',\n",
       " '2017-08-27',\n",
       " '2017-09-03',\n",
       " '2017-09-24',\n",
       " '2017-10-08',\n",
       " '2017-10-22',\n",
       " '2017-10-29',\n",
       " '2017-11-05',\n",
       " '2017-11-12',\n",
       " '2017-11-19',\n",
       " '2017-11-22',\n",
       " '2017-11-23',\n",
       " '2017-11-26',\n",
       " '2017-12-03',\n",
       " '2017-12-10',\n",
       " '2017-12-17',\n",
       " '2018-01-07',\n",
       " '2018-02-11',\n",
       " '2018-02-18',\n",
       " '2018-02-25',\n",
       " '2018-03-04',\n",
       " '2018-03-18',\n",
       " '2018-03-25',\n",
       " '2018-04-08',\n",
       " '2018-04-15',\n",
       " '2018-04-22',\n",
       " '2018-04-29']"
      ]
     },
     "execution_count": 10,
     "metadata": {},
     "output_type": "execute_result"
    }
   ],
   "source": [
    "sorted(x['Date'].unique())"
   ]
  },
  {
   "cell_type": "code",
   "execution_count": null,
   "metadata": {
    "collapsed": true
   },
   "outputs": [],
   "source": []
  }
 ],
 "metadata": {
  "kernelspec": {
   "display_name": "Python 3",
   "language": "python",
   "name": "python3"
  },
  "language_info": {
   "codemirror_mode": {
    "name": "ipython",
    "version": 3
   },
   "file_extension": ".py",
   "mimetype": "text/x-python",
   "name": "python",
   "nbconvert_exporter": "python",
   "pygments_lexer": "ipython3",
   "version": "3.6.1"
  }
 },
 "nbformat": 4,
 "nbformat_minor": 2
}
