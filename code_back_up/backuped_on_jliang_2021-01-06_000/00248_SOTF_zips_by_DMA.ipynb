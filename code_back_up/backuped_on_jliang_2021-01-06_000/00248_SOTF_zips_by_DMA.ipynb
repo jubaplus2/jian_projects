{
 "cells": [
  {
   "cell_type": "code",
   "execution_count": 1,
   "metadata": {},
   "outputs": [
    {
     "data": {
      "text/plain": [
       "'/home/jian/Projects/Big_Lots/Analysis/2019_Q4/Planner_Request/BR_SOTF_request_by_DMA_20200109'"
      ]
     },
     "execution_count": 1,
     "metadata": {},
     "output_type": "execute_result"
    }
   ],
   "source": [
    "import pandas as pd\n",
    "import numpy as np\n",
    "import os\n",
    "import datetime\n",
    "from haversine import haversine\n",
    "import json\n",
    "\n",
    "zip_centers=json.load(open(\"/home/jian/Docs/Geo_mapping/updated_zip_centers_JL_2019-05-23.json\"))\n",
    "\n",
    "os.getcwd()"
   ]
  },
  {
   "cell_type": "code",
   "execution_count": 2,
   "metadata": {},
   "outputs": [
    {
     "name": "stdout",
     "output_type": "stream",
     "text": [
      "(1424, 4) 1424\n"
     ]
    },
    {
     "data": {
      "text/plain": [
       "((466, 4), 466)"
      ]
     },
     "execution_count": 2,
     "metadata": {},
     "output_type": "execute_result"
    }
   ],
   "source": [
    "df_all_store=pd.ExcelFile(\"./Store List with Retro SOTF highlighted 1-8-20.xlsx\")\n",
    "df_all_store=df_all_store.parse(\"Sheet1\",skiprows=5,dtype=str)\n",
    "df_all_store=df_all_store[['Location','Zip Code','SOTF']]\n",
    "df_all_store['zip_cd']=df_all_store['Zip Code'].apply(lambda x: x.split(\"-\")[0].zfill(5))\n",
    "\n",
    "print(df_all_store.shape,df_all_store['Location'].nunique())\n",
    "df_SOTF=df_all_store[df_all_store['SOTF']==\"YES\"]\n",
    "df_SOTF.shape,df_SOTF['Location'].nunique()"
   ]
  },
  {
   "cell_type": "code",
   "execution_count": 3,
   "metadata": {},
   "outputs": [
    {
     "data": {
      "text/html": [
       "<div>\n",
       "<style scoped>\n",
       "    .dataframe tbody tr th:only-of-type {\n",
       "        vertical-align: middle;\n",
       "    }\n",
       "\n",
       "    .dataframe tbody tr th {\n",
       "        vertical-align: top;\n",
       "    }\n",
       "\n",
       "    .dataframe thead th {\n",
       "        text-align: right;\n",
       "    }\n",
       "</style>\n",
       "<table border=\"1\" class=\"dataframe\">\n",
       "  <thead>\n",
       "    <tr style=\"text-align: right;\">\n",
       "      <th></th>\n",
       "      <th>TA_num</th>\n",
       "      <th>ta_name</th>\n",
       "      <th>location_id</th>\n",
       "      <th>address_line_1</th>\n",
       "      <th>address_line_2</th>\n",
       "      <th>zip_cd</th>\n",
       "      <th>city_nm</th>\n",
       "      <th>state_nm</th>\n",
       "      <th>latitude_meas</th>\n",
       "      <th>longitude_meas</th>\n",
       "      <th>DMA</th>\n",
       "      <th>CTY</th>\n",
       "      <th>all_trans_P_zips</th>\n",
       "      <th>all_trans_S_zips</th>\n",
       "      <th>zips_in_10</th>\n",
       "      <th>trans_P_zips_70_within_TA</th>\n",
       "      <th>trans_S_zips_70_within_TA</th>\n",
       "    </tr>\n",
       "  </thead>\n",
       "  <tbody>\n",
       "    <tr>\n",
       "      <th>0</th>\n",
       "      <td>1</td>\n",
       "      <td>multiple_1</td>\n",
       "      <td>1949</td>\n",
       "      <td>3178 LAVON DR</td>\n",
       "      <td>NaN</td>\n",
       "      <td>75040</td>\n",
       "      <td>GARLAND</td>\n",
       "      <td>TX</td>\n",
       "      <td>32.945015</td>\n",
       "      <td>-96.619194</td>\n",
       "      <td>{'DALLAS-FT. WORTH'}</td>\n",
       "      <td>{'DALLAS'}</td>\n",
       "      <td>['75040', '75044', '75048', '75098']</td>\n",
       "      <td>['75089', '75042', '75043', '75041', '75088', ...</td>\n",
       "      <td>[]</td>\n",
       "      <td>['75040', '75098', '75044', '75048']</td>\n",
       "      <td>['75088', '75042', '75082', '75043', '75089', ...</td>\n",
       "    </tr>\n",
       "    <tr>\n",
       "      <th>1</th>\n",
       "      <td>1</td>\n",
       "      <td>multiple_1</td>\n",
       "      <td>1255</td>\n",
       "      <td>1418 W MOORE AVE</td>\n",
       "      <td>NaN</td>\n",
       "      <td>75160</td>\n",
       "      <td>TERRELL</td>\n",
       "      <td>TX</td>\n",
       "      <td>32.738772</td>\n",
       "      <td>-96.299877</td>\n",
       "      <td>{'DALLAS-FT. WORTH'}</td>\n",
       "      <td>{'HUNT', 'KAUFMAN', 'ROCKWALL'}</td>\n",
       "      <td>['75160', '75126', '75161']</td>\n",
       "      <td>['75142', '75169', '75474', '75143', '75114', ...</td>\n",
       "      <td>[]</td>\n",
       "      <td>['75126', '75161', '75160']</td>\n",
       "      <td>['75142', '75169', '75150', '75117', '75143', ...</td>\n",
       "    </tr>\n",
       "  </tbody>\n",
       "</table>\n",
       "</div>"
      ],
      "text/plain": [
       "  TA_num     ta_name location_id    address_line_1 address_line_2 zip_cd  \\\n",
       "0      1  multiple_1        1949     3178 LAVON DR            NaN  75040   \n",
       "1      1  multiple_1        1255  1418 W MOORE AVE            NaN  75160   \n",
       "\n",
       "   city_nm state_nm latitude_meas longitude_meas                   DMA  \\\n",
       "0  GARLAND       TX     32.945015     -96.619194  {'DALLAS-FT. WORTH'}   \n",
       "1  TERRELL       TX     32.738772     -96.299877  {'DALLAS-FT. WORTH'}   \n",
       "\n",
       "                               CTY                      all_trans_P_zips  \\\n",
       "0                       {'DALLAS'}  ['75040', '75044', '75048', '75098']   \n",
       "1  {'HUNT', 'KAUFMAN', 'ROCKWALL'}           ['75160', '75126', '75161']   \n",
       "\n",
       "                                    all_trans_S_zips zips_in_10  \\\n",
       "0  ['75089', '75042', '75043', '75041', '75088', ...         []   \n",
       "1  ['75142', '75169', '75474', '75143', '75114', ...         []   \n",
       "\n",
       "              trans_P_zips_70_within_TA  \\\n",
       "0  ['75040', '75098', '75044', '75048']   \n",
       "1           ['75126', '75161', '75160']   \n",
       "\n",
       "                           trans_S_zips_70_within_TA  \n",
       "0  ['75088', '75042', '75082', '75043', '75089', ...  \n",
       "1  ['75142', '75169', '75150', '75117', '75143', ...  "
      ]
     },
     "execution_count": 3,
     "metadata": {},
     "output_type": "execute_result"
    }
   ],
   "source": [
    "TA_zips=pd.ExcelFile(\"/home/jian/Projects/Big_Lots/New_TA/TA_created_in_201906/final_output_20190718/BL_final_TA_updated_JL_2019-07-18.xlsx\")\n",
    "TA_zips=TA_zips.parse(\"view_by_store\",dtype=str)\n",
    "TA_zips.head(2)"
   ]
  },
  {
   "cell_type": "code",
   "execution_count": 4,
   "metadata": {},
   "outputs": [],
   "source": [
    "df_temporary=TA_zips[['location_id','trans_P_zips_70_within_TA','trans_S_zips_70_within_TA','zips_in_10']]\n",
    "df_zip_by_store=pd.DataFrame()\n",
    "\n",
    "for ind,row in df_temporary.iterrows():\n",
    "    location_id=row['location_id']\n",
    "    P_zips=eval(row['trans_P_zips_70_within_TA'])\n",
    "    S_zips=eval(row['trans_S_zips_70_within_TA'])\n",
    "    zip_10=eval(row['zips_in_10'])\n",
    "    \n",
    "\n",
    "    df_P=pd.DataFrame(zip([location_id]*len(P_zips),P_zips))\n",
    "    if len(df_P)>0:\n",
    "        df_P.columns=['location_id','zip_cd']\n",
    "        df_P['zip_type']=\"P\"\n",
    "        \n",
    "    df_S=pd.DataFrame(zip([location_id]*len(S_zips),S_zips))\n",
    "    if len(df_S)>0:\n",
    "        df_S.columns=['location_id','zip_cd']\n",
    "        df_S['zip_type']=\"S\"\n",
    "    \n",
    "    df_10=pd.DataFrame(zip([location_id]*len(zip_10),zip_10))\n",
    "    if len(df_10)>0:\n",
    "        df_10.columns=['location_id','zip_cd']\n",
    "        df_10['zip_type']=\"zip_10\"\n",
    "    \n",
    "    df_zip_by_store=df_zip_by_store.append(df_P).append(df_S).append(df_10)"
   ]
  },
  {
   "cell_type": "code",
   "execution_count": 5,
   "metadata": {},
   "outputs": [
    {
     "data": {
      "text/plain": [
       "12980"
      ]
     },
     "execution_count": 5,
     "metadata": {},
     "output_type": "execute_result"
    }
   ],
   "source": [
    "df_zip_by_store['zip_cd'].nunique()"
   ]
  },
  {
   "cell_type": "code",
   "execution_count": 6,
   "metadata": {},
   "outputs": [
    {
     "name": "stdout",
     "output_type": "stream",
     "text": [
      "(51324, 2)\n",
      "(43102, 2)\n"
     ]
    }
   ],
   "source": [
    "df_DMA_mapping=pd.read_excel(\"/home/jian/Docs/Geo_mapping/Zips by DMA by County16-17 nielsen.xlsx\",\n",
    "                             skiprows=1,dtype=str)\n",
    "df_DMA_mapping=df_DMA_mapping.iloc[:,[0,2]]\n",
    "df_DMA_mapping.columns=['zip_cd','DMA']\n",
    "print(df_DMA_mapping.shape)\n",
    "df_DMA_mapping=df_DMA_mapping.drop_duplicates()\n",
    "print(df_DMA_mapping.shape)\n"
   ]
  },
  {
   "cell_type": "code",
   "execution_count": 7,
   "metadata": {},
   "outputs": [],
   "source": [
    "df_store_location=pd.read_csv(\"/home/jian/BigLots/static_files/Store_list/MediaStormStores20200101-135601-098.txt\",\n",
    "                             sep=\"|\",dtype=str)\n",
    "df_store_location=df_store_location[['location_id','zip_cd','latitude_meas','longitude_meas']]\n",
    "df_store_location['zip_cd']=df_store_location['zip_cd'].apply(lambda x: x.split(\"-\")[0].zfill(5))\n",
    "df_store_location['latitude_meas']=df_store_location['latitude_meas'].astype(float)\n",
    "df_store_location['longitude_meas']=df_store_location['longitude_meas'].astype(float)\n",
    "\n",
    "df_store_lat_lng=df_store_location.loc[:,['location_id','latitude_meas','longitude_meas']]"
   ]
  },
  {
   "cell_type": "code",
   "execution_count": 8,
   "metadata": {},
   "outputs": [],
   "source": [
    "dict_location_google={}\n",
    "# 5405 FRANKFORT\t9\tREGION 9\t998\tNEW STORES\t1300 US HIGHWAY 127\tFRANKFORT\tFRANKFORT\tKY\t40601-4395\n",
    "dict_location_google.update({\"5405\":{\"GoogleAddress\":\"1300 US-127, Frankfort, KY 40601\",\"Google_Coor\":[38.1668832,-84.900875]}})\n",
    "\n",
    "# 5412 KETTERING\t9\tREGION 9\t998\tNEW STORES\t2120 E DOROTHY LN\tKETTERING\tKETTERING\tOH\t45420-1114\n",
    "dict_location_google.update({\"5412\":{\"GoogleAddress\":\"2120 E Dorothy Ln, Kettering, OH 45420\",\"Google_Coor\":[39.7016113,-84.1263975]}})\n",
    "\n",
    "# 5413 FLORENCE\t9\tREGION 9\t998\tNEW STORES\t340 SEVILLE ST\tFLORENCE\tFLORENCE\tAL\t35630-1511\n",
    "dict_location_google.update({\"5413\":{\"GoogleAddress\":\"350 Seville St, Florence, AL 35630\",\"Google_Coor\":[34.8381593,-87.6269989]}}) # the next door location\n",
    "\n",
    "# 5414 BUFORD\t9\tREGION 9\t998\tNEW STORES\t4125 HIGHWAY 20, STE A-2\tBUFORD\tBUFORD\tGA\t30518-3900\n",
    "dict_location_google.update({\"5414\":{\"GoogleAddress\":\"4125 GA-20, Buford, GA 30518\",\"Google_Coor\":[34.0936214,-84.0007314]}})\n"
   ]
  },
  {
   "cell_type": "code",
   "execution_count": 9,
   "metadata": {},
   "outputs": [
    {
     "data": {
      "text/plain": [
       "{'5405': {'GoogleAddress': '1300 US-127, Frankfort, KY 40601',\n",
       "  'Google_Coor': [38.1668832, -84.900875]},\n",
       " '5412': {'GoogleAddress': '2120 E Dorothy Ln, Kettering, OH 45420',\n",
       "  'Google_Coor': [39.7016113, -84.1263975]},\n",
       " '5413': {'GoogleAddress': '350 Seville St, Florence, AL 35630',\n",
       "  'Google_Coor': [34.8381593, -87.6269989]},\n",
       " '5414': {'GoogleAddress': '4125 GA-20, Buford, GA 30518',\n",
       "  'Google_Coor': [34.0936214, -84.0007314]}}"
      ]
     },
     "execution_count": 9,
     "metadata": {},
     "output_type": "execute_result"
    }
   ],
   "source": [
    "dict_location_google"
   ]
  },
  {
   "cell_type": "code",
   "execution_count": 10,
   "metadata": {},
   "outputs": [
    {
     "name": "stdout",
     "output_type": "stream",
     "text": [
      "(1422, 3) 1422\n",
      "(1426, 3) 1426\n"
     ]
    }
   ],
   "source": [
    "print(df_store_lat_lng.shape,df_store_lat_lng['location_id'].nunique())\n",
    "for k,v in dict_location_google.items():\n",
    "    df=pd.DataFrame({\"location_id\":[k],\"latitude_meas\":[v['Google_Coor'][0]],\"longitude_meas\":[v['Google_Coor'][1]]})\n",
    "    df_store_lat_lng=df_store_lat_lng.append(df)\n",
    "print(df_store_lat_lng.shape,df_store_lat_lng['location_id'].nunique())"
   ]
  },
  {
   "cell_type": "code",
   "execution_count": 11,
   "metadata": {},
   "outputs": [
    {
     "data": {
      "text/html": [
       "<div>\n",
       "<style scoped>\n",
       "    .dataframe tbody tr th:only-of-type {\n",
       "        vertical-align: middle;\n",
       "    }\n",
       "\n",
       "    .dataframe tbody tr th {\n",
       "        vertical-align: top;\n",
       "    }\n",
       "\n",
       "    .dataframe thead th {\n",
       "        text-align: right;\n",
       "    }\n",
       "</style>\n",
       "<table border=\"1\" class=\"dataframe\">\n",
       "  <thead>\n",
       "    <tr style=\"text-align: right;\">\n",
       "      <th></th>\n",
       "      <th>location_id</th>\n",
       "      <th>latitude_meas</th>\n",
       "      <th>longitude_meas</th>\n",
       "    </tr>\n",
       "  </thead>\n",
       "  <tbody>\n",
       "    <tr>\n",
       "      <th>0</th>\n",
       "      <td>1</td>\n",
       "      <td>39.913636</td>\n",
       "      <td>-82.914789</td>\n",
       "    </tr>\n",
       "    <tr>\n",
       "      <th>1</th>\n",
       "      <td>29</td>\n",
       "      <td>39.337172</td>\n",
       "      <td>-82.069765</td>\n",
       "    </tr>\n",
       "  </tbody>\n",
       "</table>\n",
       "</div>"
      ],
      "text/plain": [
       "  location_id  latitude_meas  longitude_meas\n",
       "0           1      39.913636      -82.914789\n",
       "1          29      39.337172      -82.069765"
      ]
     },
     "execution_count": 11,
     "metadata": {},
     "output_type": "execute_result"
    }
   ],
   "source": [
    "df_store_lat_lng.head(2)"
   ]
  },
  {
   "cell_type": "code",
   "execution_count": 12,
   "metadata": {},
   "outputs": [
    {
     "name": "stdout",
     "output_type": "stream",
     "text": [
      "(1424, 6) 1424\n"
     ]
    },
    {
     "data": {
      "text/html": [
       "<div>\n",
       "<style scoped>\n",
       "    .dataframe tbody tr th:only-of-type {\n",
       "        vertical-align: middle;\n",
       "    }\n",
       "\n",
       "    .dataframe tbody tr th {\n",
       "        vertical-align: top;\n",
       "    }\n",
       "\n",
       "    .dataframe thead th {\n",
       "        text-align: right;\n",
       "    }\n",
       "</style>\n",
       "<table border=\"1\" class=\"dataframe\">\n",
       "  <thead>\n",
       "    <tr style=\"text-align: right;\">\n",
       "      <th></th>\n",
       "      <th>location_id</th>\n",
       "      <th>Zip Code</th>\n",
       "      <th>SOTF</th>\n",
       "      <th>zip_cd</th>\n",
       "      <th>latitude_meas</th>\n",
       "      <th>longitude_meas</th>\n",
       "    </tr>\n",
       "  </thead>\n",
       "  <tbody>\n",
       "  </tbody>\n",
       "</table>\n",
       "</div>"
      ],
      "text/plain": [
       "Empty DataFrame\n",
       "Columns: [location_id, Zip Code, SOTF, zip_cd, latitude_meas, longitude_meas]\n",
       "Index: []"
      ]
     },
     "execution_count": 12,
     "metadata": {},
     "output_type": "execute_result"
    }
   ],
   "source": [
    "df_all_store=df_all_store.rename(columns={\"Location\":\"location_id\"})\n",
    "df_all_store=pd.merge(df_all_store,df_store_lat_lng,on=\"location_id\",how=\"left\")\n",
    "print(df_all_store.shape,df_all_store['location_id'].nunique())\n",
    "\n",
    "df_all_store[pd.isnull(df_all_store['latitude_meas'])]"
   ]
  },
  {
   "cell_type": "code",
   "execution_count": 13,
   "metadata": {},
   "outputs": [],
   "source": [
    "df_all_store=df_all_store.rename(columns={\"zip_cd\":\"store_zip\"})"
   ]
  },
  {
   "cell_type": "code",
   "execution_count": 14,
   "metadata": {},
   "outputs": [
    {
     "data": {
      "text/html": [
       "<div>\n",
       "<style scoped>\n",
       "    .dataframe tbody tr th:only-of-type {\n",
       "        vertical-align: middle;\n",
       "    }\n",
       "\n",
       "    .dataframe tbody tr th {\n",
       "        vertical-align: top;\n",
       "    }\n",
       "\n",
       "    .dataframe thead th {\n",
       "        text-align: right;\n",
       "    }\n",
       "</style>\n",
       "<table border=\"1\" class=\"dataframe\">\n",
       "  <thead>\n",
       "    <tr style=\"text-align: right;\">\n",
       "      <th></th>\n",
       "      <th>location_id</th>\n",
       "      <th>Zip Code</th>\n",
       "      <th>SOTF</th>\n",
       "      <th>store_zip</th>\n",
       "      <th>latitude_meas</th>\n",
       "      <th>longitude_meas</th>\n",
       "      <th>zip_cd</th>\n",
       "      <th>zip_type</th>\n",
       "    </tr>\n",
       "  </thead>\n",
       "  <tbody>\n",
       "    <tr>\n",
       "      <th>0</th>\n",
       "      <td>5414</td>\n",
       "      <td>30518-3900</td>\n",
       "      <td>NaN</td>\n",
       "      <td>30518</td>\n",
       "      <td>34.093621</td>\n",
       "      <td>-84.000731</td>\n",
       "      <td>NaN</td>\n",
       "      <td>NaN</td>\n",
       "    </tr>\n",
       "    <tr>\n",
       "      <th>1</th>\n",
       "      <td>5413</td>\n",
       "      <td>35630-1511</td>\n",
       "      <td>NaN</td>\n",
       "      <td>35630</td>\n",
       "      <td>34.838159</td>\n",
       "      <td>-87.626999</td>\n",
       "      <td>NaN</td>\n",
       "      <td>NaN</td>\n",
       "    </tr>\n",
       "  </tbody>\n",
       "</table>\n",
       "</div>"
      ],
      "text/plain": [
       "  location_id    Zip Code SOTF store_zip  latitude_meas  longitude_meas  \\\n",
       "0        5414  30518-3900  NaN     30518      34.093621      -84.000731   \n",
       "1        5413  35630-1511  NaN     35630      34.838159      -87.626999   \n",
       "\n",
       "  zip_cd zip_type  \n",
       "0    NaN      NaN  \n",
       "1    NaN      NaN  "
      ]
     },
     "execution_count": 14,
     "metadata": {},
     "output_type": "execute_result"
    }
   ],
   "source": [
    "TA_zips_for_all_stores=pd.DataFrame()\n",
    "\n",
    "TA_zips_for_all_stores_1=pd.merge(df_all_store,df_zip_by_store,on=\"location_id\",how=\"left\")\n",
    "TA_zips_for_all_stores_1.head(2)"
   ]
  },
  {
   "cell_type": "code",
   "execution_count": 15,
   "metadata": {},
   "outputs": [
    {
     "name": "stdout",
     "output_type": "stream",
     "text": [
      "(34, 8)\n"
     ]
    }
   ],
   "source": [
    "TA_zips_for_all_stores_2=TA_zips_for_all_stores_1[pd.isnull(TA_zips_for_all_stores_1['zip_cd'])]\n",
    "TA_zips_for_all_stores_1=TA_zips_for_all_stores_1[pd.notnull(TA_zips_for_all_stores_1['zip_cd'])]\n",
    "print(TA_zips_for_all_stores_2.shape)\n",
    "\n",
    "del TA_zips_for_all_stores_2['zip_cd']\n",
    "del TA_zips_for_all_stores_2['zip_type']"
   ]
  },
  {
   "cell_type": "code",
   "execution_count": 16,
   "metadata": {},
   "outputs": [],
   "source": [
    "df_10_zips_all_new_stores=pd.DataFrame()\n",
    "for ind, row in TA_zips_for_all_stores_2.iterrows():\n",
    "    location_id=row['location_id']\n",
    "    store_location=(row['latitude_meas'],row['longitude_meas'])\n",
    "    for zip_cd,v in zip_centers.items():\n",
    "        dist=haversine(store_location,v,unit=\"mi\")\n",
    "        if dist<=10:\n",
    "            # print(location_id,zip_cd)\n",
    "            df=pd.DataFrame({\"location_id\":[location_id],\"zip_cd\":[zip_cd],\"dist\":[dist]})\n",
    "            df_10_zips_all_new_stores=df_10_zips_all_new_stores.append(df)\n",
    "df_10_zips_all_new_stores['zip_type']=\"zip_10\""
   ]
  },
  {
   "cell_type": "code",
   "execution_count": 17,
   "metadata": {},
   "outputs": [
    {
     "name": "stdout",
     "output_type": "stream",
     "text": [
      "(833, 4) 34\n"
     ]
    }
   ],
   "source": [
    "print(df_10_zips_all_new_stores.shape,df_10_zips_all_new_stores['location_id'].nunique())"
   ]
  },
  {
   "cell_type": "code",
   "execution_count": 18,
   "metadata": {},
   "outputs": [
    {
     "name": "stdout",
     "output_type": "stream",
     "text": [
      "(23703, 8) 1424 13351\n"
     ]
    }
   ],
   "source": [
    "df_new_store_zips=df_10_zips_all_new_stores[['location_id','zip_cd','zip_type']]\n",
    "TA_zips_for_all_stores_2=pd.merge(TA_zips_for_all_stores_2,df_new_store_zips,how=\"left\")\n",
    "TA_zips_for_all_stores=TA_zips_for_all_stores_1.append(TA_zips_for_all_stores_2)\n",
    "print(TA_zips_for_all_stores.shape,TA_zips_for_all_stores['location_id'].nunique(),TA_zips_for_all_stores['zip_cd'].nunique())"
   ]
  },
  {
   "cell_type": "code",
   "execution_count": 19,
   "metadata": {},
   "outputs": [
    {
     "data": {
      "text/plain": [
       "3"
      ]
     },
     "execution_count": 19,
     "metadata": {},
     "output_type": "execute_result"
    }
   ],
   "source": [
    "TA_zips_for_all_stores_1['zip_type'].nunique()"
   ]
  },
  {
   "cell_type": "code",
   "execution_count": 20,
   "metadata": {},
   "outputs": [
    {
     "data": {
      "text/plain": [
       "(8611, 8)"
      ]
     },
     "execution_count": 20,
     "metadata": {},
     "output_type": "execute_result"
    }
   ],
   "source": [
    "df_output_1=TA_zips_for_all_stores[TA_zips_for_all_stores['SOTF']==\"YES\"]\n",
    "df_output_1.shape"
   ]
  },
  {
   "cell_type": "code",
   "execution_count": 21,
   "metadata": {},
   "outputs": [
    {
     "data": {
      "text/html": [
       "<div>\n",
       "<style scoped>\n",
       "    .dataframe tbody tr th:only-of-type {\n",
       "        vertical-align: middle;\n",
       "    }\n",
       "\n",
       "    .dataframe tbody tr th {\n",
       "        vertical-align: top;\n",
       "    }\n",
       "\n",
       "    .dataframe thead th {\n",
       "        text-align: right;\n",
       "    }\n",
       "</style>\n",
       "<table border=\"1\" class=\"dataframe\">\n",
       "  <thead>\n",
       "    <tr style=\"text-align: right;\">\n",
       "      <th></th>\n",
       "      <th>location_id</th>\n",
       "      <th>Zip Code</th>\n",
       "      <th>SOTF</th>\n",
       "      <th>store_zip</th>\n",
       "      <th>latitude_meas</th>\n",
       "      <th>longitude_meas</th>\n",
       "      <th>zip_cd</th>\n",
       "      <th>zip_type</th>\n",
       "    </tr>\n",
       "  </thead>\n",
       "  <tbody>\n",
       "    <tr>\n",
       "      <th>4</th>\n",
       "      <td>1</td>\n",
       "      <td>43232-9301</td>\n",
       "      <td>YES</td>\n",
       "      <td>43232</td>\n",
       "      <td>39.913636</td>\n",
       "      <td>-82.914789</td>\n",
       "      <td>43227</td>\n",
       "      <td>P</td>\n",
       "    </tr>\n",
       "    <tr>\n",
       "      <th>5</th>\n",
       "      <td>1</td>\n",
       "      <td>43232-9301</td>\n",
       "      <td>YES</td>\n",
       "      <td>43232</td>\n",
       "      <td>39.913636</td>\n",
       "      <td>-82.914789</td>\n",
       "      <td>43207</td>\n",
       "      <td>P</td>\n",
       "    </tr>\n",
       "  </tbody>\n",
       "</table>\n",
       "</div>"
      ],
      "text/plain": [
       "  location_id    Zip Code SOTF store_zip  latitude_meas  longitude_meas  \\\n",
       "4           1  43232-9301  YES     43232      39.913636      -82.914789   \n",
       "5           1  43232-9301  YES     43232      39.913636      -82.914789   \n",
       "\n",
       "  zip_cd zip_type  \n",
       "4  43227        P  \n",
       "5  43207        P  "
      ]
     },
     "execution_count": 21,
     "metadata": {},
     "output_type": "execute_result"
    }
   ],
   "source": [
    "TA_zips_for_all_stores.head(2)"
   ]
  },
  {
   "cell_type": "code",
   "execution_count": 22,
   "metadata": {},
   "outputs": [
    {
     "data": {
      "text/plain": [
       "(23703, 8)"
      ]
     },
     "execution_count": 22,
     "metadata": {},
     "output_type": "execute_result"
    }
   ],
   "source": [
    "TA_zips_for_all_stores.shape"
   ]
  },
  {
   "cell_type": "code",
   "execution_count": 23,
   "metadata": {},
   "outputs": [
    {
     "name": "stdout",
     "output_type": "stream",
     "text": [
      "(25436, 10)\n"
     ]
    }
   ],
   "source": [
    "df_output_2=TA_zips_for_all_stores.copy()\n",
    "df_DMA_mapping_store=df_DMA_mapping.rename(columns={\"zip_cd\":\"store_zip\"})\n",
    "df_output_2=pd.merge(df_output_2,df_DMA_mapping_store,on=\"store_zip\",how=\"left\").rename(columns={\"DMA\":\"DMA_of_store\"})\n",
    "df_output_2=pd.merge(df_output_2,df_DMA_mapping,on=\"zip_cd\",how=\"left\").rename(columns={\"DMA\":\"DMA_of_zip\"})\n",
    "print(df_output_2.shape)"
   ]
  },
  {
   "cell_type": "code",
   "execution_count": 24,
   "metadata": {},
   "outputs": [],
   "source": [
    "df_output_2_all=df_output_2.groupby(\"DMA_of_store\")['location_id','zip_cd'].nunique().reset_index()\n",
    "df_output_2_all=df_output_2_all.rename(columns={\"location_id\":\"all_store_count\",\"zip_cd\":\"all_TA_zip_count\"})\n",
    "\n",
    "df_output_2_SOTF=df_output_2[df_output_2['SOTF']==\"YES\"]\n",
    "df_output_2_SOTF=df_output_2_SOTF.groupby(\"DMA_of_store\")['location_id','zip_cd'].nunique().reset_index()\n",
    "df_output_2_SOTF=df_output_2_SOTF.rename(columns={\"location_id\":\"SOTF_store_count\",\"zip_cd\":\"SOTF_TA_zip_count\"})\n",
    "\n",
    "df_output_2=pd.merge(df_output_2_all,df_output_2_SOTF,on=\"DMA_of_store\",how=\"outer\")\n",
    "df_output_2=df_output_2[['DMA_of_store','all_store_count','SOTF_store_count','all_TA_zip_count','SOTF_TA_zip_count']]\n",
    "df_output_2=df_output_2.fillna(0)\n",
    "df_output_2['Zip_Pctg_SOTF']=np.round(df_output_2['SOTF_TA_zip_count']/df_output_2['all_TA_zip_count'],4)\n",
    "\n"
   ]
  },
  {
   "cell_type": "code",
   "execution_count": 25,
   "metadata": {},
   "outputs": [],
   "source": [
    "writer=pd.ExcelWriter(\"./BL_zips_by_SOTF_JL_\"+str(datetime.datetime.now().date())+\".xlsx\",engine=\"xlsxwriter\")\n",
    "\n",
    "df_output_1.to_excel(writer,\"request_1_zips_for_SOTF\",index=False)\n",
    "\n",
    "df_output_2.to_excel(writer,\"request_2_by_DMA\",index=False)\n",
    "\n",
    "writer.save()"
   ]
  },
  {
   "cell_type": "code",
   "execution_count": 50,
   "metadata": {},
   "outputs": [],
   "source": [
    "# Get the list of SOTF in multiple DMAs\n",
    "df_output_1_qc=pd.merge(df_output_1,df_DMA_mapping_store,on=\"store_zip\",how=\"left\")\n",
    "df_output_1_qc=df_output_1_qc.groupby(\"location_id\")['DMA'].apply(set).to_frame().reset_index()\n",
    "df_output_1_qc['DMA_count']=df_output_1_qc['DMA'].apply(len)\n",
    "df_output_1_qc=df_output_1_qc.sort_values([\"DMA_count\",'location_id'],ascending=[False,True])\n",
    "df_output_1_qc.shape\n",
    "\n",
    "df_output_1_qc.to_csv(\"./BL_SOTF_in_multiple_DMAs_JL_\"+str(datetime.datetime.now().date())+\".csv\",index=False)"
   ]
  },
  {
   "cell_type": "code",
   "execution_count": null,
   "metadata": {},
   "outputs": [],
   "source": []
  }
 ],
 "metadata": {
  "kernelspec": {
   "display_name": "Python 3",
   "language": "python",
   "name": "python3"
  },
  "language_info": {
   "codemirror_mode": {
    "name": "ipython",
    "version": 3
   },
   "file_extension": ".py",
   "mimetype": "text/x-python",
   "name": "python",
   "nbconvert_exporter": "python",
   "pygments_lexer": "ipython3",
   "version": "3.6.1"
  }
 },
 "nbformat": 4,
 "nbformat_minor": 2
}
