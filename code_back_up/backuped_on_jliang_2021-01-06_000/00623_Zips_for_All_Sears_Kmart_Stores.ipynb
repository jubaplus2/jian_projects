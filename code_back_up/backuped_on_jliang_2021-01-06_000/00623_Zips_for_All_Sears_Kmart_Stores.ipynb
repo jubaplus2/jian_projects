{
 "cells": [
  {
   "cell_type": "code",
   "execution_count": 1,
   "metadata": {
    "collapsed": true
   },
   "outputs": [],
   "source": [
    "# Combined 2 fiels from JT\n",
    "import pandas as pd\n",
    "import googlemaps\n",
    "import json\n",
    "from haversine import haversine\n",
    "import datetime\n",
    "import zipcodes\n",
    "import numpy as np\n",
    "\n",
    "zip_centers=json.load(open(\"/home/jian/Docs/Geo_mapping/center_of_rentrak_zip.json\",\"r\"))"
   ]
  },
  {
   "cell_type": "code",
   "execution_count": 2,
   "metadata": {},
   "outputs": [
    {
     "data": {
      "text/plain": [
       "'/home/jian/Projects/Big_Lots/Analysis/2019_Q1/Sears'"
      ]
     },
     "execution_count": 2,
     "metadata": {},
     "output_type": "execute_result"
    }
   ],
   "source": [
    "import os\n",
    "os.getcwd()"
   ]
  },
  {
   "cell_type": "code",
   "execution_count": 3,
   "metadata": {},
   "outputs": [
    {
     "data": {
      "text/plain": [
       "(862, 2)"
      ]
     },
     "execution_count": 3,
     "metadata": {},
     "output_type": "execute_result"
    }
   ],
   "source": [
    "file_1_closing=pd.read_excel(\"/home/jian/Projects/Big_Lots/Analysis/2019_Q1/Sears/SHLD Closings.xlsx\",dtype=str)\n",
    "file_2_current=pd.read_csv(\"/home/jian/Projects/Big_Lots/Analysis/2019_Q1/Sears/SHLD Current Locations.csv\",dtype=str)\n",
    "\n",
    "file_1_closing=file_1_closing.rename(columns={\"Latitude\":\"lat\",\"Longitude\":\"lng\"})\n",
    "file_2_current=file_2_current.rename(columns={\"latitude\":\"lat\",\"longitude\":\"lng\"})\n",
    "\n",
    "location_lat_lng=file_1_closing[['lat','lng']].append(file_2_current[['lat','lng']])\n",
    "location_lat_lng['lat']=location_lat_lng['lat'].astype(float)\n",
    "location_lat_lng['lng']=location_lat_lng['lng'].astype(float)\n",
    "location_lat_lng=location_lat_lng.drop_duplicates().reset_index()\n",
    "del location_lat_lng['index']\n",
    "location_lat_lng.shape"
   ]
  },
  {
   "cell_type": "code",
   "execution_count": 4,
   "metadata": {
    "collapsed": true
   },
   "outputs": [],
   "source": [
    "BL_store_list=pd.read_table(\"/home/jian/BigLots/static_files/Store_list/MediaStormStores20190101-135843-638.txt\",dtype=str,sep=\"|\")\n",
    "BL_store_list.head(2)\n",
    "\n",
    "BL_sales_last_week=pd.read_csv(\"/home/jian/BiglotsCode/outputs/combined_sales_long_2019-01-05.csv\",dtype=str)\n",
    "BL_sales_last_week=BL_sales_last_week[BL_sales_last_week['week_end_date']==\"2019-01-05\"]\n",
    "BL_sales_last_week['sales']=BL_sales_last_week['sales'].astype(float)\n",
    "BL_sales_last_week=BL_sales_last_week[BL_sales_last_week['sales']>0]\n",
    "BL_sales_last_week=BL_sales_last_week[BL_sales_last_week['location_id']!=\"6990\"]\n",
    "BL_store_list=BL_store_list[BL_store_list['location_id'].isin(BL_sales_last_week['location_id'].tolist())]\n",
    "\n",
    "BL_new_stores=BL_sales_last_week[~BL_sales_last_week['location_id'].isin(BL_store_list['location_id'].tolist())] # 0, all found\n",
    "\n",
    "BL_store_list=BL_store_list[['location_id','latitude_meas','longitude_meas']]\n",
    "BL_store_list['latitude_meas']=BL_store_list['latitude_meas'].astype(float)\n",
    "BL_store_list['longitude_meas']=BL_store_list['longitude_meas'].astype(float)\n",
    "BL_store_list=BL_store_list.reset_index()\n",
    "del BL_store_list['index']"
   ]
  },
  {
   "cell_type": "code",
   "execution_count": 5,
   "metadata": {
    "collapsed": true
   },
   "outputs": [],
   "source": [
    "counter_i=0\n",
    "output_nearest_store=pd.DataFrame()\n",
    "for i in range(len(location_lat_lng)):\n",
    "    sears_center=[location_lat_lng['lat'][i],location_lat_lng['lng'][i]]\n",
    "    dist_0=99999999\n",
    "    nearest_location=\"0\"\n",
    "    BL_lat=9999999\n",
    "    BL_lng=9999999\n",
    "    for j in range(len(BL_store_list)):\n",
    "        BL_center=[BL_store_list['latitude_meas'][j],BL_store_list['longitude_meas'][j]]\n",
    "        dist=haversine(sears_center,BL_center,miles=True)\n",
    "        if dist<dist_0:\n",
    "            dist_0=dist\n",
    "            nearest_location=BL_store_list['location_id'][j]\n",
    "            BL_lat=BL_center[0]\n",
    "            BL_lng=BL_center[1]\n",
    "    counter_i+=1\n",
    "    df=pd.DataFrame({\"Sears_Lat\":sears_center[0],\"Sears_Lng\":sears_center[1],\"nearest_BL\":nearest_location,\"closest_dist_between_BL_Sears\":dist_0,\"BL_lat\":BL_lat,\"BL_lng\":BL_lng},index=[counter_i])\n",
    "    output_nearest_store=output_nearest_store.append(df)\n",
    "      \n",
    "    \n",
    "output_nearest_store=output_nearest_store[output_nearest_store['closest_dist_between_BL_Sears']<=20] # Fileter 20 miles nearest BL stores"
   ]
  },
  {
   "cell_type": "code",
   "execution_count": null,
   "metadata": {
    "collapsed": true
   },
   "outputs": [],
   "source": []
  },
  {
   "cell_type": "code",
   "execution_count": 6,
   "metadata": {},
   "outputs": [
    {
     "data": {
      "text/plain": [
       "505"
      ]
     },
     "execution_count": 6,
     "metadata": {},
     "output_type": "execute_result"
    }
   ],
   "source": [
    "\n",
    "BL_store_list=output_nearest_store['nearest_BL'].unique().tolist()\n",
    "len(BL_store_list)"
   ]
  },
  {
   "cell_type": "code",
   "execution_count": 7,
   "metadata": {},
   "outputs": [
    {
     "data": {
      "text/plain": [
       "485"
      ]
     },
     "execution_count": 7,
     "metadata": {},
     "output_type": "execute_result"
    }
   ],
   "source": [
    "store_level_zips=pd.read_csv(\"/home/jian/Projects/Big_Lots/New_TA/zips_in_new_ta/sales_by_zip (Store level).csv\",dtype=str)\n",
    "store_level_zips=store_level_zips[['location_id','revenue_flag','zip']].rename(columns={\"zip\":\"zip_cd\"})\n",
    "store_level_zips=store_level_zips[store_level_zips['revenue_flag'].isin(['P','S'])]\n",
    "store_level_zips=store_level_zips[store_level_zips['location_id'].isin(BL_store_list)]\n",
    "store_level_zips=store_level_zips.reset_index()\n",
    "del store_level_zips['index']\n",
    "\n",
    "len(store_level_zips['location_id'].unique())"
   ]
  },
  {
   "cell_type": "code",
   "execution_count": 8,
   "metadata": {
    "collapsed": true
   },
   "outputs": [],
   "source": [
    "BL_store_list=pd.read_table(\"/home/jian/BigLots/static_files/Store_list/MediaStormStores20190101-135843-638.txt\",dtype=str,sep=\"|\")\n",
    "BL_store_list['latitude_meas']=BL_store_list['latitude_meas'].astype(float)\n",
    "BL_store_list['longitude_meas']=BL_store_list['longitude_meas'].astype(float)\n",
    "new_store=output_nearest_store[~output_nearest_store['nearest_BL'].isin(store_level_zips['location_id'].unique().tolist())]['nearest_BL'].unique().tolist()\n",
    "BL_store_list_new=BL_store_list[BL_store_list['location_id'].isin(new_store)]\n",
    "\n",
    "BL_store_list_new=BL_store_list_new[['location_id','latitude_meas','longitude_meas']].reset_index()\n",
    "del BL_store_list_new['index']\n",
    "\n",
    "BL_store_list_lat_dict=BL_store_list.set_index(['location_id'])['latitude_meas'].to_dict()\n",
    "BL_store_list_lng_dict=BL_store_list.set_index(['location_id'])['longitude_meas'].to_dict()"
   ]
  },
  {
   "cell_type": "code",
   "execution_count": 9,
   "metadata": {},
   "outputs": [
    {
     "data": {
      "text/html": [
       "<div>\n",
       "<style>\n",
       "    .dataframe thead tr:only-child th {\n",
       "        text-align: right;\n",
       "    }\n",
       "\n",
       "    .dataframe thead th {\n",
       "        text-align: left;\n",
       "    }\n",
       "\n",
       "    .dataframe tbody tr th {\n",
       "        vertical-align: top;\n",
       "    }\n",
       "</style>\n",
       "<table border=\"1\" class=\"dataframe\">\n",
       "  <thead>\n",
       "    <tr style=\"text-align: right;\">\n",
       "      <th></th>\n",
       "      <th>BL_lat</th>\n",
       "      <th>BL_lng</th>\n",
       "      <th>Sears_Lat</th>\n",
       "      <th>Sears_Lng</th>\n",
       "      <th>closest_dist_between_BL_Sears</th>\n",
       "      <th>nearest_BL</th>\n",
       "    </tr>\n",
       "  </thead>\n",
       "  <tbody>\n",
       "    <tr>\n",
       "      <th>1</th>\n",
       "      <td>38.813626</td>\n",
       "      <td>-77.134629</td>\n",
       "      <td>38.805997</td>\n",
       "      <td>-76.983372</td>\n",
       "      <td>8.160659</td>\n",
       "      <td>5281</td>\n",
       "    </tr>\n",
       "    <tr>\n",
       "      <th>2</th>\n",
       "      <td>30.006953</td>\n",
       "      <td>-90.220381</td>\n",
       "      <td>30.002570</td>\n",
       "      <td>-90.218460</td>\n",
       "      <td>0.323911</td>\n",
       "      <td>4150</td>\n",
       "    </tr>\n",
       "  </tbody>\n",
       "</table>\n",
       "</div>"
      ],
      "text/plain": [
       "      BL_lat     BL_lng  Sears_Lat  Sears_Lng  closest_dist_between_BL_Sears  \\\n",
       "1  38.813626 -77.134629  38.805997 -76.983372                       8.160659   \n",
       "2  30.006953 -90.220381  30.002570 -90.218460                       0.323911   \n",
       "\n",
       "  nearest_BL  \n",
       "1       5281  \n",
       "2       4150  "
      ]
     },
     "execution_count": 9,
     "metadata": {},
     "output_type": "execute_result"
    }
   ],
   "source": [
    "output_nearest_store.head(2)"
   ]
  },
  {
   "cell_type": "code",
   "execution_count": 10,
   "metadata": {},
   "outputs": [
    {
     "data": {
      "text/html": [
       "<div>\n",
       "<style>\n",
       "    .dataframe thead tr:only-child th {\n",
       "        text-align: right;\n",
       "    }\n",
       "\n",
       "    .dataframe thead th {\n",
       "        text-align: left;\n",
       "    }\n",
       "\n",
       "    .dataframe tbody tr th {\n",
       "        vertical-align: top;\n",
       "    }\n",
       "</style>\n",
       "<table border=\"1\" class=\"dataframe\">\n",
       "  <thead>\n",
       "    <tr style=\"text-align: right;\">\n",
       "      <th></th>\n",
       "      <th>nearest_BL</th>\n",
       "      <th>BL_lat</th>\n",
       "      <th>BL_lng</th>\n",
       "    </tr>\n",
       "  </thead>\n",
       "  <tbody>\n",
       "    <tr>\n",
       "      <th>503</th>\n",
       "      <td>4045</td>\n",
       "      <td>34.520068</td>\n",
       "      <td>-117.315364</td>\n",
       "    </tr>\n",
       "    <tr>\n",
       "      <th>504</th>\n",
       "      <td>1429</td>\n",
       "      <td>33.942573</td>\n",
       "      <td>-83.448270</td>\n",
       "    </tr>\n",
       "  </tbody>\n",
       "</table>\n",
       "</div>"
      ],
      "text/plain": [
       "    nearest_BL     BL_lat      BL_lng\n",
       "503       4045  34.520068 -117.315364\n",
       "504       1429  33.942573  -83.448270"
      ]
     },
     "execution_count": 10,
     "metadata": {},
     "output_type": "execute_result"
    }
   ],
   "source": [
    "df_BL_nearest=output_nearest_store[['nearest_BL','BL_lat','BL_lng']].drop_duplicates().reset_index()\n",
    "del df_BL_nearest['index']\n",
    "df_BL_nearest.tail(2)"
   ]
  },
  {
   "cell_type": "code",
   "execution_count": 11,
   "metadata": {
    "collapsed": true
   },
   "outputs": [],
   "source": [
    "df_BL_nearest_avaiable=df_BL_nearest[~df_BL_nearest['nearest_BL'].isin(BL_store_list_new['location_id'].tolist())].reset_index()\n",
    "df_BL_nearest_new=df_BL_nearest[df_BL_nearest['nearest_BL'].isin(BL_store_list_new['location_id'].tolist())].reset_index()\n",
    "\n",
    "del df_BL_nearest_avaiable['index']\n",
    "del df_BL_nearest_new['index']"
   ]
  },
  {
   "cell_type": "code",
   "execution_count": 12,
   "metadata": {
    "collapsed": true
   },
   "outputs": [],
   "source": [
    "counter_i=0\n",
    "df_zip_in_10_miles_available=pd.DataFrame()\n",
    "for i in range(len(df_BL_nearest_avaiable)):\n",
    "    location_id=df_BL_nearest_avaiable['nearest_BL'][i]\n",
    "    store_center=[df_BL_nearest_avaiable['BL_lat'][i],df_BL_nearest_avaiable['BL_lng'][i]]\n",
    "    for zip_cd in zip_centers.keys():\n",
    "        dist=haversine(zip_centers[zip_cd],store_center,miles=True)\n",
    "        if dist<=10:\n",
    "            df=pd.DataFrame({\"location_id\":location_id,\"zip_cd\":zip_cd,\"dist_miles\":dist,\"revenue_flag\":\"zips_10_for_labeled_store\"},index=[counter_i])\n",
    "            counter_i+=1\n",
    "            df_zip_in_10_miles_available=df_zip_in_10_miles_available.append(df)\n",
    "            "
   ]
  },
  {
   "cell_type": "code",
   "execution_count": 13,
   "metadata": {
    "collapsed": true
   },
   "outputs": [],
   "source": [
    "counter_i=0\n",
    "df_zip_in_10_miles_new=pd.DataFrame()\n",
    "for i in range(len(df_BL_nearest_new)):\n",
    "    location_id=df_BL_nearest_new['nearest_BL'][i]\n",
    "    store_center=[df_BL_nearest_new['BL_lat'][i],df_BL_nearest_new['BL_lng'][i]]\n",
    "    for zip_cd in zip_centers.keys():\n",
    "        dist=haversine(zip_centers[zip_cd],store_center,miles=True)\n",
    "        if dist<=10:\n",
    "            df=pd.DataFrame({\"location_id\":location_id,\"zip_cd\":zip_cd,\"dist_miles\":dist,\"revenue_flag\":\"zips_10_about_new_store\"},index=[counter_i])\n",
    "            counter_i+=1\n",
    "            df_zip_in_10_miles_new=df_zip_in_10_miles_new.append(df)\n",
    "\n",
    "            \n",
    "df_zip_in_10_miles=df_zip_in_10_miles_available.append(df_zip_in_10_miles_new)"
   ]
  },
  {
   "cell_type": "code",
   "execution_count": 14,
   "metadata": {},
   "outputs": [
    {
     "name": "stderr",
     "output_type": "stream",
     "text": [
      "/usr/local/lib/python3.6/site-packages/ipykernel_launcher.py:18: SettingWithCopyWarning: \n",
      "A value is trying to be set on a copy of a slice from a DataFrame\n",
      "\n",
      "See the caveats in the documentation: http://pandas.pydata.org/pandas-docs/stable/indexing.html#indexing-view-versus-copy\n"
     ]
    }
   ],
   "source": [
    "store_level_zips['dist_miles']=np.nan\n",
    "for i in range(len(store_level_zips)):\n",
    "    store_id=store_level_zips['location_id'][i]\n",
    "    zip_cd=store_level_zips['zip_cd'][i]\n",
    "    store_lat=BL_store_list_lat_dict[store_id]\n",
    "    store_lng=BL_store_list_lng_dict[store_id]\n",
    "    store_center=[store_lat,store_lng]\n",
    "    \n",
    "    if zip_cd in zip_centers.keys():\n",
    "        dist=haversine(store_center,zip_centers[zip_cd],miles=True)\n",
    "    else:\n",
    "        try:\n",
    "            zip_center_zipcodes=[float(zipcodes.matching(zip_cd)['lat']),float(zipcodes.matching(zip_cd)['long'])]\n",
    "            dist=haversine(zip_center_zipcodes,store_center,miles=True)\n",
    "        except:\n",
    "            dist=np.nan\n",
    "        \n",
    "    store_level_zips['dist_miles'][i]=dist\n",
    "    \n",
    "store_level_zips=store_level_zips[(store_level_zips['revenue_flag']==\"P\") | (store_level_zips['dist_miles']<=20)]"
   ]
  },
  {
   "cell_type": "code",
   "execution_count": 15,
   "metadata": {
    "collapsed": true
   },
   "outputs": [],
   "source": [
    "zips_for_BL_stores_S_20_miles=store_level_zips.append(df_zip_in_10_miles)\n",
    "zips_for_BL_stores_S_20_miles=zips_for_BL_stores_S_20_miles.sort_values(['location_id','zip_cd','revenue_flag','dist_miles'])\n",
    "output_nearest_store=pd.merge(output_nearest_store,zips_for_BL_stores_S_20_miles,left_on=\"nearest_BL\",right_on=\"location_id\",how=\"left\")\n"
   ]
  },
  {
   "cell_type": "code",
   "execution_count": 19,
   "metadata": {},
   "outputs": [],
   "source": [
    "zip_HH=pd.read_excel(\"/home/jian/Projects/Big_Lots/Analysis/2019_Q1/Sears/BL_zips_with_HH_info_25_2019-01-17.xlsx\",dtype=str)\n",
    "zip_HH['HH18']=zip_HH['HH18'].astype(float)\n",
    "zip_HH=zip_HH[zip_HH['HH18']>=1000]\n",
    "zip_list_HH_1000P=zip_HH['ZIP_CODE'].unique().tolist()"
   ]
  },
  {
   "cell_type": "code",
   "execution_count": 22,
   "metadata": {},
   "outputs": [],
   "source": [
    "output_nearest_store_1=output_nearest_store[output_nearest_store['revenue_flag'].isin(['P','S'])]\n",
    "output_nearest_store_2=output_nearest_store[~output_nearest_store['revenue_flag'].isin(['P','S'])]\n",
    "output_nearest_store_2=output_nearest_store_2[output_nearest_store_2['zip_cd'].isin(zip_list_HH_1000P)]\n",
    "output_nearest_store=output_nearest_store_1.append(output_nearest_store_2)"
   ]
  },
  {
   "cell_type": "code",
   "execution_count": 23,
   "metadata": {
    "collapsed": true
   },
   "outputs": [],
   "source": [
    "output_unique_zips=output_nearest_store.sort_values(['revenue_flag','zip_cd','dist_miles']).drop_duplicates(['zip_cd'])"
   ]
  },
  {
   "cell_type": "code",
   "execution_count": 24,
   "metadata": {
    "collapsed": true
   },
   "outputs": [],
   "source": [
    "writer=pd.ExcelWriter(\"/home/jian/Projects/Big_Lots/Analysis/2019_Q1/Sears/BL_zips_for_nearest_BL_stores_to_Sears_Kmart_JL_\"+str(datetime.datetime.now().date())+\".xlsx\",engine=\"xlsxwriter\")\n",
    "output_unique_zips.to_excel(writer,\"unique_zips\",index=False)\n",
    "zips_for_BL_stores_S_20_miles.to_excel(writer,\"zips_by_store\",index=False)\n",
    "file_1_closing.to_excel(writer,\"SHLD Closings\",index=False)\n",
    "file_2_current.to_excel(writer,\"SHLD Current Locations\",index=False)\n",
    "writer.save()"
   ]
  },
  {
   "cell_type": "code",
   "execution_count": null,
   "metadata": {
    "collapsed": true
   },
   "outputs": [],
   "source": []
  }
 ],
 "metadata": {
  "kernelspec": {
   "display_name": "Python 3",
   "language": "python",
   "name": "python3"
  },
  "language_info": {
   "codemirror_mode": {
    "name": "ipython",
    "version": 3
   },
   "file_extension": ".py",
   "mimetype": "text/x-python",
   "name": "python",
   "nbconvert_exporter": "python",
   "pygments_lexer": "ipython3",
   "version": "3.6.1"
  }
 },
 "nbformat": 4,
 "nbformat_minor": 2
}
