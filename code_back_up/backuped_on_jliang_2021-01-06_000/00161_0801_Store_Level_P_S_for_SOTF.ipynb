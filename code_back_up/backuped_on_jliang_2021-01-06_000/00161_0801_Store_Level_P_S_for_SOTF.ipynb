{
 "cells": [
  {
   "cell_type": "code",
   "execution_count": 1,
   "metadata": {
    "collapsed": true
   },
   "outputs": [],
   "source": [
    "import pandas as pd\n",
    "import haversine\n",
    "import json\n",
    "import numpy as np"
   ]
  },
  {
   "cell_type": "code",
   "execution_count": 2,
   "metadata": {
    "collapsed": true
   },
   "outputs": [],
   "source": [
    "zip_by_store=pd.read_csv(\"/home/jian/Projects/Big_Lots/New_TA/sales_by_zip_by_store_0330.csv\",dtype=str)\n",
    "zip_by_store=zip_by_store[['location_id','zip','revenue_flag']]"
   ]
  },
  {
   "cell_type": "code",
   "execution_count": 3,
   "metadata": {
    "collapsed": true
   },
   "outputs": [],
   "source": [
    "df_SOTF=pd.read_excel(\"/home/jian/Projects/Big_Lots/New_TA/P_S_Selections/0801_SOTF/Aug_SOTF.xlsx\",dtype=str)"
   ]
  },
  {
   "cell_type": "code",
   "execution_count": 4,
   "metadata": {
    "collapsed": true
   },
   "outputs": [],
   "source": [
    "store_list_1=pd.read_table(\"/home/jian/BiglotsCode/OtherInput/MediaStormStoreList_Nov15.txt\",dtype=str,sep=\"|\")\n",
    "store_list_2=pd.read_table(\"/home/jian/BiglotsCode/OtherInput/MediaStormStores_20180703.txt\",dtype=str,sep=\"|\")\n",
    "store_list_1['store_zip']=store_list_1['zip_cd'].apply(lambda x: x.split(\"-\")[0].zfill(5))\n",
    "store_list_2['store_zip']=store_list_2['zip_cd'].apply(lambda x: x.split(\"-\")[0].zfill(5))\n",
    "\n",
    "store_list_1=store_list_1[['location_id','store_zip','longitude_meas','latitude_meas']]\n",
    "store_list_2=store_list_2[['location_id','store_zip','longitude_meas','latitude_meas']]\n",
    "store_list_1=store_list_1[~store_list_1['location_id'].isin(store_list_2['location_id'])]\n",
    "store_list=store_list_2.append(store_list_1)\n",
    "store_list=store_list[store_list['location_id']!=\"6990\"]\n",
    "store_list=store_list[store_list['location_id']!=\"145\"]\n",
    "\n",
    "\n",
    "store_list['latitude_meas']=store_list['latitude_meas'].astype(float)\n",
    "store_list['longitude_meas']=store_list['longitude_meas'].astype(float)\n",
    "\n",
    "zip_centers=json.load(open(\"/home/jian/Docs/Geo_mapping/center_of_rentrak_zip.json\",\"r\"))"
   ]
  },
  {
   "cell_type": "code",
   "execution_count": 5,
   "metadata": {
    "collapsed": true
   },
   "outputs": [],
   "source": [
    "df_old_stores=store_list[store_list['location_id'].isin(df_SOTF['location_id'])]\n"
   ]
  },
  {
   "cell_type": "code",
   "execution_count": 6,
   "metadata": {
    "collapsed": true
   },
   "outputs": [],
   "source": [
    "def merge_zip_selection(df):\n",
    "    df=pd.merge(df,zip_by_store,on=\"location_id\",how=\"left\")\n",
    "    df=df[df['revenue_flag'].isin([\"P\",\"S\"])]\n",
    "    df['distance']=np.nan\n",
    "    df=df.reset_index()\n",
    "    del df['index']\n",
    "    for i in range(len(df)):\n",
    "        store_loc=(df['latitude_meas'][i],df['longitude_meas'][i])\n",
    "        try:\n",
    "            df['distance'][i]=round(haversine.haversine(store_loc,zip_centers[df['zip'][i]],miles=True),4)\n",
    "        except:\n",
    "            df['distance'][i]=\"NA\"\n",
    "            print(df['zip'][i])\n",
    "            \n",
    "        \n",
    "    return df"
   ]
  },
  {
   "cell_type": "code",
   "execution_count": 7,
   "metadata": {},
   "outputs": [
    {
     "name": "stderr",
     "output_type": "stream",
     "text": [
      "/usr/local/lib/python3.6/site-packages/ipykernel_launcher.py:10: SettingWithCopyWarning: \n",
      "A value is trying to be set on a copy of a slice from a DataFrame\n",
      "\n",
      "See the caveats in the documentation: http://pandas.pydata.org/pandas-docs/stable/indexing.html#indexing-view-versus-copy\n",
      "  # Remove the CWD from sys.path while we load stuff.\n",
      "/usr/local/lib/python3.6/site-packages/ipykernel_launcher.py:12: SettingWithCopyWarning: \n",
      "A value is trying to be set on a copy of a slice from a DataFrame\n",
      "\n",
      "See the caveats in the documentation: http://pandas.pydata.org/pandas-docs/stable/indexing.html#indexing-view-versus-copy\n",
      "  if sys.path[0] == '':\n",
      "/usr/local/lib/python3.6/site-packages/pandas/core/indexing.py:179: SettingWithCopyWarning: \n",
      "A value is trying to be set on a copy of a slice from a DataFrame\n",
      "\n",
      "See the caveats in the documentation: http://pandas.pydata.org/pandas-docs/stable/indexing.html#indexing-view-versus-copy\n",
      "  self._setitem_with_indexer(indexer, value)\n"
     ]
    },
    {
     "name": "stdout",
     "output_type": "stream",
     "text": [
      "77614\n",
      "95937\n",
      "05657\n"
     ]
    }
   ],
   "source": [
    "old_store_output=merge_zip_selection(df_old_stores)\n",
    "old_store_output=old_store_output.sort_values(['location_id','revenue_flag'])\n",
    "del old_store_output['longitude_meas']\n",
    "del old_store_output['latitude_meas']"
   ]
  },
  {
   "cell_type": "code",
   "execution_count": 8,
   "metadata": {
    "collapsed": true
   },
   "outputs": [],
   "source": [
    "new_stores=[x for x in df_SOTF['location_id'].tolist() if x not in store_list['location_id'].tolist()]"
   ]
  },
  {
   "cell_type": "code",
   "execution_count": 9,
   "metadata": {
    "collapsed": true
   },
   "outputs": [],
   "source": [
    "new_stores_df=pd.read_excel(\"/home/jian/Projects/Big_Lots/New_TA/P_S_Selections/0801_SOTF/Aug_SOTF_New_Stores.xlsx\",dtype=str)\n",
    "new_stores_df=new_stores_df[['New or Relo Locations','Zip']].rename(columns={\"New or Relo Locations\":\"location_id\"})\n",
    "new_stores_df['Zip']=new_stores_df['Zip'].apply(lambda x: x.split(\"-\")[0].zfill(5))"
   ]
  },
  {
   "cell_type": "code",
   "execution_count": 10,
   "metadata": {},
   "outputs": [
    {
     "data": {
      "text/plain": [
       "['5367', '5365', '5369', '4680', '5377']"
      ]
     },
     "execution_count": 10,
     "metadata": {},
     "output_type": "execute_result"
    }
   ],
   "source": [
    "new_stores"
   ]
  },
  {
   "cell_type": "code",
   "execution_count": 11,
   "metadata": {
    "collapsed": true
   },
   "outputs": [],
   "source": [
    "new_store_output=pd.DataFrame()\n",
    "for store in new_stores:\n",
    "    store_zip=new_stores_df[new_stores_df['location_id']==store]['Zip'].unique().tolist()[0]\n",
    "    for zip_cd in list(zip_centers.keys()):\n",
    "        dist=haversine.haversine(zip_centers[zip_cd],zip_centers[store_zip],miles=True)\n",
    "        i=0\n",
    "        if dist<=10:\n",
    "            df_app=pd.DataFrame({\"location_id\":store,\"store_zip\":store_zip,'zip':zip_cd,'revenue_flag':'new_in_10_miles','distance':dist},index=[i])\n",
    "            i=i+1\n",
    "            new_store_output=new_store_output.append(df_app)\n",
    "new_store_output=new_store_output[old_store_output.columns.tolist()]\n",
    "output=old_store_output.append(new_store_output)"
   ]
  },
  {
   "cell_type": "code",
   "execution_count": 12,
   "metadata": {
    "collapsed": true
   },
   "outputs": [],
   "source": [
    "new_store_not_in_TA_with_latlong=[x for x in df_SOTF['location_id'].tolist() if x not in output['location_id'].tolist()]"
   ]
  },
  {
   "cell_type": "code",
   "execution_count": 13,
   "metadata": {
    "collapsed": true
   },
   "outputs": [],
   "source": [
    "add_new_store_output=pd.DataFrame()\n",
    "\n",
    "for store in new_store_not_in_TA_with_latlong:\n",
    "    stoer_lat=store_list[store_list['location_id']==store]['latitude_meas'].unique()[0]\n",
    "    stoer_long=store_list[store_list['location_id']==store]['longitude_meas'].unique()[0]\n",
    "    store_zip=store_list[store_list['location_id']==store]['store_zip'].unique()[0]\n",
    "    store_center=(stoer_lat,stoer_long)\n",
    "    for zip_cd in list(zip_centers.keys()):\n",
    "        dist=haversine.haversine(zip_centers[zip_cd],store_center,miles=True)\n",
    "        i=0\n",
    "        if dist<=10:\n",
    "            df_app=pd.DataFrame({\"location_id\":store,\"store_zip\":store_zip,'zip':zip_cd,'revenue_flag':'new_in_10_miles','distance':dist},index=[i])\n",
    "            i=i+1\n",
    "            add_new_store_output=add_new_store_output.append(df_app)\n",
    "add_new_store_output=add_new_store_output[old_store_output.columns.tolist()]\n",
    "output=output.append(add_new_store_output)    "
   ]
  },
  {
   "cell_type": "code",
   "execution_count": 14,
   "metadata": {
    "collapsed": true
   },
   "outputs": [],
   "source": [
    "unique_P_list=output[output['revenue_flag']==\"P\"]['zip'].unique().tolist()\n",
    "unique_S_list=output[output['revenue_flag']==\"S\"]['zip'].unique().tolist()\n",
    "unique_S_list=[x for x in unique_S_list if x not in unique_P_list]\n",
    "unique_new_list=output[output['revenue_flag']==\"new_in_10_miles\"]['zip'].unique().tolist()\n",
    "unique_new_list=[x for x in unique_new_list if x not in unique_P_list]\n",
    "unique_new_list=[x for x in unique_new_list if x not in unique_S_list]\n",
    "row_num=max(len(unique_P_list),len(unique_S_list),len(unique_new_list))\n",
    "\n",
    "unique_zips_output=pd.DataFrame({\"P_Zips\":unique_P_list+[np.nan]*(row_num-len(unique_P_list)),\n",
    "                                \"S_Zips\":unique_S_list+[np.nan]*(row_num-len(unique_S_list)),\n",
    "                                \"new_Zips\":unique_new_list+[np.nan]*(row_num-len(unique_new_list))},\n",
    "                               index=range(row_num))"
   ]
  },
  {
   "cell_type": "code",
   "execution_count": 16,
   "metadata": {},
   "outputs": [],
   "source": [
    "store_zip=output[['location_id','store_zip']].drop_duplicates()"
   ]
  },
  {
   "cell_type": "code",
   "execution_count": 18,
   "metadata": {
    "collapsed": true
   },
   "outputs": [],
   "source": [
    "writer=pd.ExcelWriter(\"/home/jian/Projects/Big_Lots/New_TA/P_S_Selections/0801_SOTF/Zips_for_SOTF_Aug_JL_20180802_53_Stores.xlsx\",engine=\"xlsxwriter\")\n",
    "unique_zips_output.to_excel(writer,\"unique_zips\",index=False)\n",
    "output.to_excel(writer,\"zips_by_Store\",index=False)\n",
    "store_zip.to_excel(writer,\"store_zip\",index=False)\n",
    "writer.save()"
   ]
  },
  {
   "cell_type": "code",
   "execution_count": null,
   "metadata": {
    "collapsed": true
   },
   "outputs": [],
   "source": []
  }
 ],
 "metadata": {
  "kernelspec": {
   "display_name": "Python 3",
   "language": "python",
   "name": "python3"
  },
  "language_info": {
   "codemirror_mode": {
    "name": "ipython",
    "version": 3
   },
   "file_extension": ".py",
   "mimetype": "text/x-python",
   "name": "python",
   "nbconvert_exporter": "python",
   "pygments_lexer": "ipython3",
   "version": "3.6.1"
  }
 },
 "nbformat": 4,
 "nbformat_minor": 2
}
