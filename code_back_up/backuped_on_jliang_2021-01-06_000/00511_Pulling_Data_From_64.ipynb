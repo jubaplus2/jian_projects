{
 "cells": [
  {
   "cell_type": "code",
   "execution_count": 1,
   "metadata": {},
   "outputs": [
    {
     "data": {
      "text/plain": [
       "'/home/jian/Projects/Big_Lots/Analysis/2019_Q2/Email_Analysis'"
      ]
     },
     "execution_count": 1,
     "metadata": {},
     "output_type": "execute_result"
    }
   ],
   "source": [
    "import os\n",
    "import datetime\n",
    "import paramiko\n",
    "\n",
    "os.getcwd()"
   ]
  },
  {
   "cell_type": "code",
   "execution_count": 2,
   "metadata": {
    "collapsed": true
   },
   "outputs": [],
   "source": [
    "mapping_folder='/home/jian/Projects/Big_Lots/Analysis/2019_Q2/Email_Analysis/mapping/'\n",
    "dcm_lr_log_folder=\"/home/jian/Projects/Big_Lots/Analysis/2019_Q2/Email_Analysis/dcm_lr_logs/\"\n",
    "id_mapping_folder=\"/home/jian/Projects/Big_Lots/Analysis/2019_Q2/Email_Analysis/id_mapping/\"\n",
    "\n",
    "try:\n",
    "    os.stat(mapping_folder)\n",
    "except:\n",
    "    os.mkdir(mapping_folder)\n",
    "    \n",
    "try:\n",
    "    os.stat(dcm_lr_log_folder)\n",
    "except:\n",
    "    os.mkdir(dcm_lr_log_folder)\n",
    "    \n",
    "try:\n",
    "    os.stat(id_mapping_folder)\n",
    "except:\n",
    "    os.mkdir(id_mapping_folder)"
   ]
  },
  {
   "cell_type": "code",
   "execution_count": 3,
   "metadata": {
    "collapsed": true
   },
   "outputs": [],
   "source": [
    "host = \"64.237.51.251\" #hard-coded\n",
    "port = 22\n",
    "transport = paramiko.Transport((host, port))\n",
    "\n",
    "password = \"jian@juba2017\" #hard-coded\n",
    "username = \"jian\" #hard-coded\n",
    "transport.connect(username = username, password = password)\n",
    "sftp = paramiko.SFTPClient.from_transport(transport)\n"
   ]
  },
  {
   "cell_type": "code",
   "execution_count": 4,
   "metadata": {},
   "outputs": [],
   "source": [
    "# copy code \n",
    "\n",
    "code_email_analysis=\"/mnt/drv5/jian/Big_Lots/Email_Analysis/Email_Analysis.ipynb\"\n",
    "local_path=\"/home/jian/Projects/Big_Lots/Analysis/2019_Q2/Email_Analysis/Email_Analysis.ipynb\"\n",
    "\n",
    "sftp.get(code_email_analysis,local_path)\n",
    "\n"
   ]
  },
  {
   "cell_type": "code",
   "execution_count": 5,
   "metadata": {},
   "outputs": [
    {
     "data": {
      "text/plain": [
       "['/mnt/drv5/jian/Big_Lots/Email_Analysis/Mapping_File/campaigns_mapping_JL_20180813_201811032019-07-23.csv',\n",
       " '/mnt/drv5/jian/Big_Lots/Email_Analysis/Mapping_File/placements_mapping_JL_20180813_201811032019-07-23.csv',\n",
       " '/mnt/drv5/jian/Big_Lots/Email_Analysis/Mapping_File/sites_mapping_JL_20180813_201811032019-07-23.csv']"
      ]
     },
     "execution_count": 5,
     "metadata": {},
     "output_type": "execute_result"
    }
   ],
   "source": [
    "remote_mapping=\"/mnt/drv5/jian/Big_Lots/Email_Analysis/Mapping_File/\"\n",
    "remote_list=sorted(sftp.listdir(remote_mapping))\n",
    "remote_list=[remote_mapping+x for x in remote_list if \".csv\" in x]\n",
    "remote_list"
   ]
  },
  {
   "cell_type": "code",
   "execution_count": 6,
   "metadata": {
    "collapsed": true
   },
   "outputs": [],
   "source": [
    "for remote_file in remote_list:\n",
    "    basename=os.path.basename(remote_file)\n",
    "    local_path=mapping_folder+basename\n",
    "    sftp.get(remote_file,local_path)"
   ]
  },
  {
   "cell_type": "code",
   "execution_count": 7,
   "metadata": {},
   "outputs": [
    {
     "data": {
      "text/plain": [
       "['/mnt/drv5/jian/Big_Lots/Email_Analysis/df_click_file_all_matched_dict_JL_2019-07-23.csv',\n",
       " '/mnt/drv5/jian/Big_Lots/Email_Analysis/df_click_file_all_matched_email_only_dict_JL_2019-07-23.csv',\n",
       " '/mnt/drv5/jian/Big_Lots/Email_Analysis/df_impr_file_all_matched_dict_JL_2019-07-23.csv',\n",
       " '/mnt/drv5/jian/Big_Lots/Email_Analysis/df_impr_file_all_matched_email_only_dict_JL_2019-07-23.csv']"
      ]
     },
     "execution_count": 7,
     "metadata": {},
     "output_type": "execute_result"
    }
   ],
   "source": [
    "remote_dcm_lr=\"/mnt/drv5/jian/Big_Lots/Email_Analysis/\"\n",
    "remote_list=sorted(sftp.listdir(remote_dcm_lr))\n",
    "remote_list=[remote_dcm_lr+x for x in remote_list if (\".csv\" in x) & (\"2019-07-23\" in x)]\n",
    "remote_list"
   ]
  },
  {
   "cell_type": "code",
   "execution_count": 8,
   "metadata": {},
   "outputs": [],
   "source": [
    "for remote_file in remote_list:\n",
    "    basename=os.path.basename(remote_file)\n",
    "    local_path=dcm_lr_log_folder+basename\n",
    "    sftp.get(remote_file,local_path)"
   ]
  },
  {
   "cell_type": "code",
   "execution_count": 10,
   "metadata": {},
   "outputs": [],
   "source": [
    "# copy id mapping\n",
    "\n",
    "\n",
    "remote_id_mapping_1=\"/mnt/drv5/lr_biglots_data/download_logs/others/CL_BigLots_allrewards_combined0908_20181029_171317_0000.psv.gz\"\n",
    "remote_id_mapping_2=\"/mnt/drv5/lr_biglots_data/download_logs/others/CL_BigLots_allrewards_combined1011_20181026_232208_0000.psv.gz\"\n",
    "local_id_mapping_1=id_mapping_folder+os.path.basename(remote_id_mapping_1)\n",
    "local_id_mapping_2=id_mapping_folder+os.path.basename(remote_id_mapping_2)\n",
    "\n",
    "sftp.get(remote_id_mapping_1,local_id_mapping_1)\n",
    "sftp.get(remote_id_mapping_2,local_id_mapping_2)\n",
    "\n",
    "transport.close()\n",
    "sftp.close()"
   ]
  },
  {
   "cell_type": "code",
   "execution_count": 11,
   "metadata": {
    "collapsed": true
   },
   "outputs": [],
   "source": [
    "transport.close()\n",
    "sftp.close()"
   ]
  },
  {
   "cell_type": "code",
   "execution_count": null,
   "metadata": {
    "collapsed": true
   },
   "outputs": [],
   "source": []
  }
 ],
 "metadata": {
  "kernelspec": {
   "display_name": "Python 3",
   "language": "python",
   "name": "python3"
  },
  "language_info": {
   "codemirror_mode": {
    "name": "ipython",
    "version": 3
   },
   "file_extension": ".py",
   "mimetype": "text/x-python",
   "name": "python",
   "nbconvert_exporter": "python",
   "pygments_lexer": "ipython3",
   "version": "3.6.1"
  }
 },
 "nbformat": 4,
 "nbformat_minor": 2
}
