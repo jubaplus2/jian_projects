{
 "cells": [
  {
   "cell_type": "code",
   "execution_count": 1,
   "metadata": {},
   "outputs": [
    {
     "name": "stdout",
     "output_type": "stream",
     "text": [
      "/home/jian/Projects/Big_Lots/Analysis/2020_Q1/FB_Mobile_testing\n",
      "2020-05-15 11:49:20.044463\n"
     ]
    }
   ],
   "source": [
    "import paramiko\n",
    "import datetime\n",
    "import pandas as pd\n",
    "import numpy as np\n",
    "import os\n",
    "\n",
    "print(os.getcwd())\n",
    "print(datetime.datetime.now())"
   ]
  },
  {
   "cell_type": "code",
   "execution_count": 2,
   "metadata": {},
   "outputs": [],
   "source": [
    "folder_Mid_Mapping=\"/home/jian/Projects/Big_Lots/Analysis/2020_Q1/FB_Mobile_testing/Mobile_ID_mapping/\"\n",
    "try:\n",
    "    os.stat(folder_Mid_Mapping)\n",
    "except:\n",
    "    os.mkdir(folder_Mid_Mapping)"
   ]
  },
  {
   "cell_type": "code",
   "execution_count": 3,
   "metadata": {},
   "outputs": [],
   "source": [
    "host_66 = \"66.55.157.58\" #hard-coded\n",
    "port_66 = 22\n",
    "transport_66 = paramiko.Transport((host_66, port_66))\n",
    "\n",
    "password_66 = \"jubaplus2019\" #hard-coded\n",
    "username_66 = \"jian\" #hard-coded\n",
    "transport_66.connect(username = username_66, password = password_66)\n",
    "sftp_66 = paramiko.SFTPClient.from_transport(transport_66)"
   ]
  },
  {
   "cell_type": "code",
   "execution_count": 9,
   "metadata": {},
   "outputs": [
    {
     "name": "stdout",
     "output_type": "stream",
     "text": [
      "8\n"
     ]
    },
    {
     "data": {
      "text/plain": [
       "['CL_BigLots_Control_seg_3_nonfurn_visitor_20200506_125127_0000.psv.gz',\n",
       " 'CL_BigLots_Control_seg_2_BL_vacinity_20200506_125123_0000.psv.gz',\n",
       " 'CL_BigLots_Test_Phase1_seg_3_nonfurn_visitor_20200506_125118_0000.psv.gz',\n",
       " 'CL_BigLots_Test_Phase1_seg_2_BL_vacinity_20200506_125119_0000.psv.gz',\n",
       " 'CL_BigLots_Control_seg_1_BL_visitor_20200506_125120_0000.psv.gz',\n",
       " 'CL_BigLots_Test_Phase1_seg_1_BL_visitor_20200506_125118_0000.psv.gz',\n",
       " 'CL_BigLots_Test_Phase1_seg_4_grocery_visitor_20200506_125130_0000.psv.gz',\n",
       " 'CL_BigLots_Control_seg_4_grocery_visitor_20200506_124917_0000.psv.gz']"
      ]
     },
     "execution_count": 9,
     "metadata": {},
     "output_type": "execute_result"
    }
   ],
   "source": [
    "folder_remote_66_others=\"/data/jian/BL_LR_download/others/\"\n",
    "list_mappings=sftp_66.listdir(folder_remote_66_others)\n",
    "list_mappings=[x for x in list_mappings if \"seg\" in x]\n",
    "print(len(list_mappings))\n",
    "list_mappings"
   ]
  },
  {
   "cell_type": "code",
   "execution_count": null,
   "metadata": {},
   "outputs": [],
   "source": [
    "for file in list_mappings:\n",
    "    sftp_66.get(folder_remote_66_others+file,folder_Mid_Mapping+file)\n",
    "sftp_66.close()\n",
    "transport_66.close()"
   ]
  },
  {
   "cell_type": "code",
   "execution_count": null,
   "metadata": {},
   "outputs": [],
   "source": []
  }
 ],
 "metadata": {
  "kernelspec": {
   "display_name": "Python 3",
   "language": "python",
   "name": "python3"
  },
  "language_info": {
   "codemirror_mode": {
    "name": "ipython",
    "version": 3
   },
   "file_extension": ".py",
   "mimetype": "text/x-python",
   "name": "python",
   "nbconvert_exporter": "python",
   "pygments_lexer": "ipython3",
   "version": "3.6.1"
  }
 },
 "nbformat": 4,
 "nbformat_minor": 2
}
