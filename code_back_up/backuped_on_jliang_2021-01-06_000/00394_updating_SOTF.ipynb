{
 "cells": [
  {
   "cell_type": "code",
   "execution_count": 1,
   "metadata": {},
   "outputs": [],
   "source": [
    "import json\n",
    "import pandas as pd\n",
    "import numpy as np\n",
    "import datetime\n",
    "from haversine import haversine\n",
    "\n",
    "zip_centers=json.load(open(\"/home/jian/Docs/Geo_mapping/updated_zip_centers_JL_2019-05-23.json\",\"r\"))\n"
   ]
  },
  {
   "cell_type": "code",
   "execution_count": 2,
   "metadata": {},
   "outputs": [],
   "source": [
    "df_sotf=pd.read_excel(\"/home/jian/BigLots/static_files/store_list_from_Dom/Store List Report 05.08.20 333PM.xlsx\")\n",
    "df_sotf=df_sotf[['Store','SOTF']]\n",
    "df_sotf['SOTF']=df_sotf['SOTF'].apply(lambda x: str(x).lower().strip())\n",
    "list_sotf=df_sotf[df_sotf['SOTF']==\"yes\"]['Store'].unique().tolist()\n",
    "list_sotf=[str(x) for x in list_sotf]"
   ]
  },
  {
   "cell_type": "code",
   "execution_count": 3,
   "metadata": {},
   "outputs": [],
   "source": [
    "df_store_locations=pd.read_table(\"/home/jian/BigLots/static_files/Store_list/MediaStormStores20200601-134325-120.txt\",\n",
    "                                 sep=\"|\")\n",
    "df_store_locations=df_store_locations[~df_store_locations['location_id'].isin([145,6990])]\n",
    "df_store_locations=df_store_locations[['location_id','latitude_meas','longitude_meas']]\n",
    "df_store_locations['location_id']=df_store_locations['location_id'].astype(str)\n",
    "df_store_locations.loc[df_store_locations['location_id']==\"5416\",'latitude_meas']=38.9092794\n",
    "df_store_locations.loc[df_store_locations['location_id']==\"5416\",'longitude_meas']=-78.1831506\n",
    "df_store_locations['store_type']=np.where(df_store_locations['location_id'].isin(list_sotf),\"SOTF\",\"Legacy\")\n",
    "df_store_locations['coor']=df_store_locations[['latitude_meas','longitude_meas']].values.tolist()"
   ]
  },
  {
   "cell_type": "code",
   "execution_count": 4,
   "metadata": {},
   "outputs": [],
   "source": [
    "dict_soft_location=df_store_locations[df_store_locations['store_type']==\"SOTF\"].set_index(\"location_id\").to_dict()['coor']\n",
    "dict_legacy_location=df_store_locations[df_store_locations['store_type']==\"Legacy\"].set_index(\"location_id\").to_dict()['coor']"
   ]
  },
  {
   "cell_type": "code",
   "execution_count": 5,
   "metadata": {},
   "outputs": [],
   "source": [
    "df_unique_zip=pd.read_excel(\"./BL_competitor_TuesdayMorning_Wave1_JL_2020-06-04.xlsx\",dtype=str)"
   ]
  },
  {
   "cell_type": "code",
   "execution_count": 7,
   "metadata": {},
   "outputs": [],
   "source": [
    "df_unique_zip['nearest_sotf']=np.nan\n",
    "df_unique_zip['dist_to_nearest_sotf']=np.nan\n",
    "df_unique_zip['dist_in_30_sotf']=np.nan\n",
    "df_unique_zip['nearest_legacy']=np.nan\n",
    "df_unique_zip['dist_to_nearest_legacy']=np.nan\n",
    "df_unique_zip['dist_in_30_legacy']=np.nan\n",
    "\n",
    "for ind,row in df_unique_zip.iterrows():\n",
    "    zip_center=zip_centers[row['comp_target_zip']]\n",
    "    dist_nearest_sotf=np.inf\n",
    "    dist_nearest_legacy=np.inf\n",
    "    \n",
    "    nearest_sotf=np.nan\n",
    "    nearest_legacy=np.nan\n",
    "    \n",
    "    for sotf, v in dict_soft_location.items():\n",
    "        dist=haversine(zip_center,v,unit=\"mi\")\n",
    "        if dist<dist_nearest_sotf:\n",
    "            dist_nearest_sotf=dist\n",
    "            nearest_sotf=sotf\n",
    "    for legacy, v in dict_legacy_location.items():\n",
    "        dist=haversine(zip_center,v,unit=\"mi\")\n",
    "        if dist<dist_nearest_legacy:\n",
    "            dist_nearest_legacy=dist\n",
    "            nearest_legacy=legacy\n",
    "    df_unique_zip.loc[ind,\"nearest_sotf\"]=nearest_sotf\n",
    "    df_unique_zip.loc[ind,\"dist_to_nearest_sotf\"]=dist_nearest_sotf\n",
    "    df_unique_zip.loc[ind,\"dist_in_30_sotf\"]=dist_nearest_sotf<=30\n",
    "    df_unique_zip.loc[ind,\"nearest_legacy\"]=nearest_legacy\n",
    "    df_unique_zip.loc[ind,\"dist_to_nearest_legacy\"]=dist_nearest_legacy\n",
    "    df_unique_zip.loc[ind,\"dist_in_30_legacy\"]=dist_nearest_legacy<=30\n",
    "    \n",
    "    "
   ]
  },
  {
   "cell_type": "code",
   "execution_count": 8,
   "metadata": {},
   "outputs": [
    {
     "data": {
      "text/plain": [
       "(7651, 7)"
      ]
     },
     "execution_count": 8,
     "metadata": {},
     "output_type": "execute_result"
    }
   ],
   "source": [
    "df_unique_zip.shape"
   ]
  },
  {
   "cell_type": "code",
   "execution_count": 9,
   "metadata": {},
   "outputs": [],
   "source": [
    "writer=pd.ExcelWriter(\"./updated_for_the_unique_zips_based_on_SOTF_JL_\"+str(datetime.datetime.now().date())+\".xlsx\",engine=\"xlsxwriter\")\n",
    "df_unique_zip.to_excel(writer,\"df_unique_zip\",index=False)\n",
    "writer.save()"
   ]
  },
  {
   "cell_type": "code",
   "execution_count": null,
   "metadata": {},
   "outputs": [],
   "source": []
  }
 ],
 "metadata": {
  "kernelspec": {
   "display_name": "Python 3",
   "language": "python",
   "name": "python3"
  },
  "language_info": {
   "codemirror_mode": {
    "name": "ipython",
    "version": 3
   },
   "file_extension": ".py",
   "mimetype": "text/x-python",
   "name": "python",
   "nbconvert_exporter": "python",
   "pygments_lexer": "ipython3",
   "version": "3.6.1"
  }
 },
 "nbformat": 4,
 "nbformat_minor": 2
}
