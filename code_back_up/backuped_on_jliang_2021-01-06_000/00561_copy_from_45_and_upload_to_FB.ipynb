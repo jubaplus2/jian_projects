{
 "cells": [
  {
   "cell_type": "code",
   "execution_count": 13,
   "metadata": {},
   "outputs": [
    {
     "name": "stdout",
     "output_type": "stream",
     "text": [
      "2020-05-12 13:22:55.354365\n"
     ]
    },
    {
     "data": {
      "text/plain": [
       "'/home/jian/Projects/Big_Lots/Analysis/2020_Q2/vulnerable_competitors'"
      ]
     },
     "execution_count": 13,
     "metadata": {},
     "output_type": "execute_result"
    }
   ],
   "source": [
    "import paramiko\n",
    "import os\n",
    "import datetime\n",
    "import pandas as pd\n",
    "import numpy as np\n",
    "print(datetime.datetime.now())\n",
    "os.getcwd()"
   ]
  },
  {
   "cell_type": "code",
   "execution_count": 3,
   "metadata": {},
   "outputs": [
    {
     "data": {
      "text/plain": [
       "['.ipynb_checkpoints',\n",
       " 'audience_from_SP',\n",
       " 'copy_from_45_and_upload_to_FB.ipynb']"
      ]
     },
     "execution_count": 3,
     "metadata": {},
     "output_type": "execute_result"
    }
   ],
   "source": [
    "os.listdir(os.getcwd())"
   ]
  },
  {
   "cell_type": "code",
   "execution_count": 2,
   "metadata": {},
   "outputs": [],
   "source": [
    "host = \"45.32.4.178\"\n",
    "port = 22\n",
    "password = \"juba-jl1\"\n",
    "username = \"jian\"\n",
    "\n",
    "transport = paramiko.Transport((host, port))\n",
    "\n",
    "transport.connect(username = username, password = password)\n",
    "sftp = paramiko.SFTPClient.from_transport(transport)"
   ]
  },
  {
   "cell_type": "code",
   "execution_count": 4,
   "metadata": {},
   "outputs": [],
   "source": [
    "list_remote_files=[\n",
    "    \"/storage/sg_outputs/biglots/finaloutputs/output_120119_031520/Levin & Wolf_1201_0315.csv\",\n",
    "    \"/storage/sg_outputs/biglots/finaloutputs/output_120119_031520/At Home_1201_0315.csv\",\n",
    "    \"/storage/sg_outputs/biglots/finaloutputs/output_120119_031520/Art Van Furniture_1201_0315.csv\",\n",
    "    \"/storage/sg_outputs/biglots/finaloutputs/output_120119_031520/Pier 1_1201_0315.csv\",\n",
    "    \"/storage/sg_outputs/biglots/finaloutputs/output_120119_031520/Macy's_1201_0315.csv\",\n",
    "    \"/storage/sg_outputs/biglots/finaloutputs/output_120119_031520/Bed Bath & Beyond_1201_0315.csv\"\n",
    "]"
   ]
  },
  {
   "cell_type": "code",
   "execution_count": 5,
   "metadata": {},
   "outputs": [],
   "source": [
    "for remote_file in list_remote_files:\n",
    "    basename=os.path.basename(remote_file)\n",
    "    local_path=\"./audience_from_SP/\"+basename\n",
    "    sftp.get(remote_file,local_path)\n",
    "sftp.close()\n",
    "transport.close()"
   ]
  },
  {
   "cell_type": "code",
   "execution_count": 7,
   "metadata": {},
   "outputs": [
    {
     "name": "stdout",
     "output_type": "stream",
     "text": [
      "Levin & Wolf_1201_0315.csv ['ad_id', 'safegraph_place_id']\n",
      "At Home_1201_0315.csv ['ad_id', 'safegraph_place_id']\n",
      "Art Van Furniture_1201_0315.csv ['ad_id', 'safegraph_place_id']\n",
      "Pier 1_1201_0315.csv ['ad_id', 'safegraph_place_id']\n",
      "Macy's_1201_0315.csv ['ad_id', 'safegraph_place_id']\n",
      "Bed Bath & Beyond_1201_0315.csv ['ad_id', 'safegraph_place_id']\n"
     ]
    }
   ],
   "source": [
    "import glob\n",
    "list_local_files=glob.glob(\"/home/jian/Projects/Big_Lots/Analysis/2020_Q2/vulnerable_competitors/audience_from_SP/*.csv\")\n",
    "\n",
    "for local_file in list_local_files:\n",
    "    df=pd.read_csv(local_file,dtype=str,nrows=10)\n",
    "    print(os.path.basename(local_file),df.columns.tolist())"
   ]
  },
  {
   "cell_type": "code",
   "execution_count": 14,
   "metadata": {},
   "outputs": [],
   "source": [
    "from facebookads.adobjects.customaudience import CustomAudience\n",
    "from facebookads.adobjects.adaccount import AdAccount\n",
    "from facebookads.api import FacebookAdsApi\n",
    "BigLotsAccount_id=\"act_271491453638620\"\n",
    "\n",
    "# jian_APP_ID=\"2537704939796694\"# jian's fb marketing app id\n",
    "jian_token=\"EAAkEB3l7ONYBAN7XRyNl2ZCmRZA2vdLIlCsRXcoNagPlZBZAywKS3GtKLMiEl9ZChTwC4w0z6NjQA78uNbLV6FpCnqNkIk4Tptk7ec02gKtLNkSR0ZB0CUcjK5Aq7cQY6O1fkEEDvAx1AGZBQ4rtfjtWmxph9O6Bi5KCSTQKZApDnQZDZD\"\n",
    "\n",
    "\n",
    "\n",
    "def creatfbaudience_from_adid(AudienceName,AudienceDescription,df,ACCESS_TOKEN,accountid,):\n",
    "    FacebookAdsApi.init(access_token=ACCESS_TOKEN, api_version='v6.0')\n",
    "    myAccount = AdAccount(accountid)\n",
    "    fields = [\n",
    "    ]\n",
    "    params = {\n",
    "      'name': AudienceName,\n",
    "      'subtype': 'CUSTOM',\n",
    "      'description': AudienceDescription,\n",
    "      'customer_file_source': 'PARTNER_PROVIDED_ONLY',\n",
    "    }\n",
    "    fbname = myAccount.create_custom_audience(\n",
    "      fields=fields,\n",
    "      params=params,\n",
    "    )['id']\n",
    "    audience = CustomAudience(fbname)\n",
    "    users = list(df['ad_id'])\n",
    "    listlen = len(users)\n",
    "    chunck_size=50000\n",
    "    count_uploaded=0\n",
    "    for i in range(int(np.ceil(listlen/chunck_size))):\n",
    "        starti = i*50000\n",
    "        if (i+1)*50000<listlen:\n",
    "            endi = (i+1)*50000\n",
    "        else:\n",
    "            endi = listlen\n",
    "        list0 = users[starti:endi]\n",
    "        \n",
    "        count_uploaded+=len(list0)\n",
    "        audience.add_users(CustomAudience.Schema.mobile_advertiser_id, list0)\n",
    "        #print len(list0)   \n",
    "    print(datetime.datetime.now(),AudienceName,\"uploaded\",count_uploaded)"
   ]
  },
  {
   "cell_type": "code",
   "execution_count": 15,
   "metadata": {},
   "outputs": [
    {
     "name": "stdout",
     "output_type": "stream",
     "text": [
      "2020-05-12 13:25:02.733758 Levin & Wolf_1201_0315 uploaded 55234\n",
      "2020-05-12 13:25:26.845217 At Home_1201_0315 uploaded 329437\n",
      "2020-05-12 13:25:42.167358 Art Van Furniture_1201_0315 uploaded 223272\n",
      "2020-05-12 13:28:01.843798 Pier 1_1201_0315 uploaded 1904030\n",
      "2020-05-12 13:30:30.564975 Macy's_1201_0315 uploaded 1934104\n",
      "2020-05-12 13:32:38.369826 Bed Bath & Beyond_1201_0315 uploaded 1867125\n"
     ]
    }
   ],
   "source": [
    "for file in list_local_files:\n",
    "    audience_name = os.path.basename(file).split(\".\")[0]\n",
    "    description=os.path.basename(file).split(\".\")[0]+\"_uploaded_on_\"+str(datetime.datetime.now().date())+\"_JL_for_vulnerable competitors\"\n",
    "    df = pd.read_csv(file,dtype=str,usecols=['ad_id'])\n",
    "    creatfbaudience_from_adid(AudienceName=audience_name,\n",
    "                    AudienceDescription=description,\n",
    "                    df=df,\n",
    "                    ACCESS_TOKEN=jian_token,\n",
    "                    accountid=BigLotsAccount_id)"
   ]
  },
  {
   "cell_type": "code",
   "execution_count": null,
   "metadata": {},
   "outputs": [],
   "source": []
  }
 ],
 "metadata": {
  "kernelspec": {
   "display_name": "Python 3",
   "language": "python",
   "name": "python3"
  },
  "language_info": {
   "codemirror_mode": {
    "name": "ipython",
    "version": 3
   },
   "file_extension": ".py",
   "mimetype": "text/x-python",
   "name": "python",
   "nbconvert_exporter": "python",
   "pygments_lexer": "ipython3",
   "version": "3.6.1"
  }
 },
 "nbformat": 4,
 "nbformat_minor": 2
}
