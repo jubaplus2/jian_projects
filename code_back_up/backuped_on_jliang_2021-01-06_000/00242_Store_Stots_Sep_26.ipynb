{
 "cells": [
  {
   "cell_type": "code",
   "execution_count": 1,
   "metadata": {
    "collapsed": true
   },
   "outputs": [],
   "source": [
    "import pandas as pd\n",
    "import numpy as np\n",
    "import datetime\n",
    "import hashlib\n",
    "import logging\n",
    "import gc\n",
    "logging.basicConfig(filename='BL_Store_Rewards_Stats'+str(datetime.datetime.now().date())+'.log', level=logging.INFO)\n",
    "\n",
    "\n",
    "samplerows=None"
   ]
  },
  {
   "cell_type": "code",
   "execution_count": 2,
   "metadata": {
    "collapsed": true
   },
   "outputs": [],
   "source": [
    "# To add\n",
    "\n",
    "# 1. zip+4 rolled up to zip then ta, total HH 25-54 #Done\n",
    "# 2. Q2 rewards members count up to end of Q2 2017 #Done\n",
    "# 3. 2017 Q2 rewards all variables #Done\n",
    "# 4. rewards week by week Q2, yoy #Done\n",
    "# 5. Split the compariable stores"
   ]
  },
  {
   "cell_type": "code",
   "execution_count": 3,
   "metadata": {
    "collapsed": true
   },
   "outputs": [],
   "source": [
    "EASI_C=pd.read_csv(\"/home/jian/Docs/EASI/2018-07-19/ZIP4_18_DATA_C2_CSV/ZIP4_18_DATA_C2.CSV\",\n",
    "                   dtype=str,skiprows=1,nrows=samplerows,usecols=['ZIP_CODE','ZIP4','HH18','PCTHH25_34','PCTHH35_44','PCTHH45_54'])\n",
    "EASI_C['HH18']=EASI_C['HH18'].astype(float)\n",
    "\n",
    "EASI_C['PCTHH25_34']=EASI_C['PCTHH25_34'].astype(float)\n",
    "EASI_C['PCTHH35_44']=EASI_C['PCTHH35_44'].astype(float)\n",
    "EASI_C['PCTHH45_54']=EASI_C['PCTHH45_54'].astype(float)\n",
    "\n",
    "EASI_C['PCTHH25_54']=EASI_C['PCTHH25_34']+EASI_C['PCTHH35_44']+EASI_C['PCTHH45_54']\n",
    "\n",
    "del EASI_C['PCTHH25_34']\n",
    "del EASI_C['PCTHH35_44']\n",
    "del EASI_C['PCTHH45_54']\n",
    "\n",
    "EASI_C['HH_25_54']=EASI_C['HH18']*EASI_C['PCTHH25_54']/100\n",
    "check_x=EASI_C['HH18'].sum()\n",
    "EASI_C=EASI_C.groupby(['ZIP_CODE'])['HH_25_54'].sum().to_frame().reset_index()\n",
    "EASI_C=EASI_C.rename(columns={\"ZIP_CODE\":\"zip_cd\"})"
   ]
  },
  {
   "cell_type": "markdown",
   "metadata": {},
   "source": [
    "# 1, 4"
   ]
  },
  {
   "cell_type": "code",
   "execution_count": 4,
   "metadata": {},
   "outputs": [
    {
     "data": {
      "text/plain": [
       "51424"
      ]
     },
     "execution_count": 4,
     "metadata": {},
     "output_type": "execute_result"
    }
   ],
   "source": [
    "store_info=pd.read_table(\"/home/jian/BigLots/static_files/Store_list/MediaStormStores20180901-133640-935.txt\",sep=\"|\",dtype=str)\n",
    "store_info=store_info[['location_id','city_nm','state_nm','zip_cd','open_dt']]\n",
    "\n",
    "store_info_2=pd.read_table(\"/home/jian/BigLots/static_files/Store_list/MediaStormStores20180801-133641-576.txt\",sep=\"|\",dtype=str)\n",
    "store_info_2=store_info_2[['location_id','city_nm','state_nm','zip_cd','open_dt']]\n",
    "store_info_2=store_info_2[~store_info_2['location_id'].isin(store_info['location_id'].tolist())]\n",
    "store_info=store_info.append(store_info_2)\n",
    "\n",
    "store_info_2=pd.read_table(\"/home/jian/BigLots/static_files/Store_list/MediaStormStores20180703.txt\",sep=\"|\",dtype=str)\n",
    "store_info_2=store_info_2[['location_id','city_nm','state_nm','zip_cd','open_dt']]\n",
    "store_info_2=store_info_2[~store_info_2['location_id'].isin(store_info['location_id'].tolist())]\n",
    "store_info=store_info.append(store_info_2)\n",
    "\n",
    "store_info_2=pd.read_table(\"/home/jian/BigLots/static_files/Store_list/MediaStormStores20171115.txt\",sep=\"|\",dtype=str)\n",
    "store_info_2=store_info_2[['location_id','city_nm','state_nm','zip_cd','open_dt']]\n",
    "store_info_2=store_info_2[~store_info_2['location_id'].isin(store_info['location_id'].tolist())]\n",
    "store_info=store_info.append(store_info_2)\n",
    "\n",
    "store_info_2=pd.read_table(\"/home/jian/BigLots/static_files/Store_list/MediaStormStores20170913.txt\",sep=\"|\",dtype=str)\n",
    "store_info_2=store_info_2[['location_id','city_nm','state_nm','zip_cd','open_dt']]\n",
    "store_info_2=store_info_2[~store_info_2['location_id'].isin(store_info['location_id'].tolist())]\n",
    "store_info=store_info.append(store_info_2)\n",
    "store_info['zip_cd']=store_info['zip_cd'].apply(lambda x: x.split(\"-\")[0].zfill(5))\n",
    "\n",
    "\n",
    "#\n",
    "\n",
    "inclusion_stores_sales_data=pd.read_excel(\"/home/jian/BiglotsCode/outputs/Output_2018-09-01/wide_sales_date2018-09-01.xlsx\",dtype=str,sheetname=\"sales\")\n",
    "inclusion_stores_trans_data=pd.read_excel(\"/home/jian/BiglotsCode/outputs/Output_2018-09-01/wide_sales_date2018-09-01.xlsx\",dtype=str,sheetname=\"transactions\")\n",
    "\n",
    "inclusions_store_list=inclusion_stores_sales_data[inclusion_stores_sales_data['2018-09-01']!=\"0\"]['location_id'].tolist()\n",
    "\n",
    "inclusion_stores_sales_data=inclusion_stores_sales_data[inclusion_stores_sales_data['location_id'].isin(inclusions_store_list)]\n",
    "inclusion_stores_trans_data=inclusion_stores_trans_data[inclusion_stores_trans_data['location_id'].isin(inclusions_store_list)]\n",
    "\n",
    "\n",
    "#\n",
    "\n",
    "Q2_Start_week_2018=datetime.date(2018,5,12)\n",
    "Q2_End_week_2018=datetime.date(2018,8,4)\n",
    "Q2_Start_week_2017=datetime.date(2017,5,13)\n",
    "Q2_End_week_2017=datetime.date(2017,8,5)\n",
    "Q2_2017_Weeks=[str(Q2_Start_week_2017+datetime.timedelta(days=7*i)) for i in range(13)]\n",
    "Q2_2018_Weeks=[str(Q2_Start_week_2018+datetime.timedelta(days=7*i)) for i in range(13)]\n",
    "\n",
    "\n",
    "#\n",
    "\n",
    "inclusion_stores_sales_data=inclusion_stores_sales_data[['location_id']+Q2_2017_Weeks+Q2_2018_Weeks]\n",
    "inclusion_stores_trans_data=inclusion_stores_trans_data[['location_id']+Q2_2017_Weeks+Q2_2018_Weeks]\n",
    "\n",
    "\n",
    "#\n",
    "\n",
    "for col in Q2_2017_Weeks+Q2_2018_Weeks:\n",
    "    inclusion_stores_sales_data[col]=inclusion_stores_sales_data[col].astype(float)\n",
    "    inclusion_stores_trans_data[col]=inclusion_stores_trans_data[col].astype(float)\n",
    "\n",
    "\n",
    "\n",
    "#\n",
    "\n",
    "inclusion_stores_trans_data['2017_Q2_Trans']=inclusion_stores_trans_data[Q2_2017_Weeks].sum(axis=1)\n",
    "inclusion_stores_trans_data['2018_Q2_Trans']=inclusion_stores_trans_data[Q2_2018_Weeks].sum(axis=1)\n",
    "inclusion_stores_sales_data['2017_Q2_Sales']=inclusion_stores_sales_data[Q2_2017_Weeks].sum(axis=1)\n",
    "inclusion_stores_sales_data['2018_Q2_Sales']=inclusion_stores_sales_data[Q2_2018_Weeks].sum(axis=1)\n",
    "\n",
    "\n",
    "#\n",
    "\n",
    "Q2_Sales_Trans=pd.merge(inclusion_stores_trans_data[['location_id','2017_Q2_Trans','2018_Q2_Trans']],\n",
    "                       inclusion_stores_sales_data[['location_id','2017_Q2_Sales','2018_Q2_Sales']],\n",
    "                       on=\"location_id\",how=\"outer\")\n",
    "\n",
    "\n",
    "#\n",
    "\n",
    "DMA_Zip=pd.read_excel(\"/home/jian/Docs/Geo_mapping/Zips by DMA by County16-17 nielsen.xlsx\",skiprows=1,dtype=str)\n",
    "DMA_Zip=DMA_Zip.iloc[:,[0,2]]\n",
    "DMA_Zip.columns=['zip_cd','DMA']\n",
    "DMA_Zip=DMA_Zip.drop_duplicates(['zip_cd'])\n",
    "\n",
    "\n",
    "#\n",
    "\n",
    "store_info=pd.merge(store_info,DMA_Zip,on=\"zip_cd\",how=\"left\")\n",
    "\n",
    "\n",
    "#\n",
    "\n",
    "inclusion_store_list_set=set(Q2_Sales_Trans['location_id'].unique().tolist())\n",
    "\n",
    "#\n",
    "\n",
    "df_1=store_info.copy()\n",
    "df_1=df_1[df_1['location_id'].isin(inclusion_store_list_set)]\n",
    "df_4=Q2_Sales_Trans.copy()\n",
    "del store_info\n",
    "df_4['Q2_Sales_YoY']=(df_4['2018_Q2_Sales']-df_4['2017_Q2_Sales'])/df_4['2017_Q2_Sales']\n",
    "df_4['Q2_Trans_YoY']=(df_4['2018_Q2_Trans']-df_4['2017_Q2_Trans'])/df_4['2017_Q2_Trans']\n",
    "df_4=df_4[['location_id','Q2_Sales_YoY','Q2_Trans_YoY','2018_Q2_Sales','2017_Q2_Sales','2018_Q2_Trans','2017_Q2_Trans']]\n",
    "\n",
    "gc.collect()"
   ]
  },
  {
   "cell_type": "markdown",
   "metadata": {},
   "source": [
    "# 2"
   ]
  },
  {
   "cell_type": "code",
   "execution_count": 5,
   "metadata": {},
   "outputs": [
    {
     "data": {
      "text/plain": [
       "0"
      ]
     },
     "execution_count": 5,
     "metadata": {},
     "output_type": "execute_result"
    }
   ],
   "source": [
    "folderpath = '/home/jian/Projects/Big_Lots/Loyal_members/loyalty_register_data/' # usecols=[0,1,5],\n",
    "selected_columns = ['customer_id_hashed','sign_up_location','customer_zip_code','sign_up_date']\n",
    "dfiddetail = pd.read_table(folderpath+\"/MediaStormCustTot-hashed-email.txt\",\n",
    "                       header=None,nrows = samplerows,sep = ',',dtype = str,usecols=[0,2,4,5])\n",
    "dfiddetail.columns=['customer_id','sign_up_date','sign_up_location','customer_zip_code']\n",
    "dfiddetail['customer_id_hashed'] = dfiddetail['customer_id'].apply(lambda x: hashlib.sha256(x.encode('utf-8')).hexdigest())\n",
    "dfiddetail=dfiddetail[selected_columns]\n",
    "dfiddetail=dfiddetail[dfiddetail['sign_up_location'].isin(inclusion_store_list_set)]\n",
    "#\n",
    "dfiddetail2 = pd.read_csv(folderpath+'MediaStormCustomerTransactionTotals_2018-01-09_2018-03-31.txt',\n",
    "                          nrows = samplerows,sep = ',',usecols=[0,2,4,5],dtype = str)\n",
    "dfiddetail2=dfiddetail2[selected_columns]\n",
    "dfiddetail2['sign_up_location']=dfiddetail2['sign_up_location'].fillna(\"nan\")\n",
    "dfiddetail2=dfiddetail2[dfiddetail2['sign_up_location'].isin(inclusion_store_list_set)]\n",
    "dfiddetail = dfiddetail.append(dfiddetail2)\n",
    "\n",
    "#\n",
    "dfiddetail2 = pd.read_csv(folderpath+'Existing Reward Member Master as of 2018-06-05.txt',\n",
    "                          nrows = samplerows,sep = '|',usecols=[0,2,4,5],dtype = str)\n",
    "dfiddetail2=dfiddetail2[selected_columns]\n",
    "dfiddetail2['sign_up_location']=dfiddetail2['sign_up_location'].fillna(\"nan\")\n",
    "dfiddetail2=dfiddetail2[dfiddetail2['sign_up_location'].isin(inclusion_store_list_set)]\n",
    "dfiddetail = dfiddetail.append(dfiddetail2)\n",
    "\n",
    "#\n",
    "dfiddetail2 = pd.read_csv(folderpath+'New Reward Member Master as of 2018-06-05.txt',\n",
    "                          nrows = samplerows,sep = '|',usecols=[0,2,4,5],dtype = str)\n",
    "dfiddetail2=dfiddetail2[selected_columns]\n",
    "dfiddetail2['sign_up_location']=dfiddetail2['sign_up_location'].fillna(\"nan\")\n",
    "dfiddetail2=dfiddetail2[dfiddetail2['sign_up_location'].isin(inclusion_store_list_set)]\n",
    "dfiddetail = dfiddetail.append(dfiddetail2)\n",
    "\n",
    "#\n",
    "dfiddetail2 = pd.read_csv(folderpath+'New Reward Member Master as of 2018-07-03.txt',\n",
    "                          nrows = samplerows,sep = '|',usecols=[0,2,4,5],dtype = str)\n",
    "dfiddetail2=dfiddetail2[selected_columns]\n",
    "dfiddetail2['sign_up_location']=dfiddetail2['sign_up_location'].fillna(\"nan\")\n",
    "dfiddetail2=dfiddetail2[dfiddetail2['sign_up_location'].isin(inclusion_store_list_set)]\n",
    "dfiddetail = dfiddetail.append(dfiddetail2)\n",
    "\n",
    "#\n",
    "dfiddetail2 = pd.read_csv(folderpath+'MediaStormMasterBiWeekly20180717-132337-377.txt',\n",
    "                          nrows = samplerows,sep = '|',usecols=[0,2,4,5],dtype = str)\n",
    "dfiddetail2=dfiddetail2[selected_columns]\n",
    "dfiddetail2['sign_up_location']=dfiddetail2['sign_up_location'].fillna(\"nan\")\n",
    "dfiddetail2=dfiddetail2[dfiddetail2['sign_up_location'].isin(inclusion_store_list_set)]\n",
    "dfiddetail = dfiddetail.append(dfiddetail2)\n",
    "\n",
    "#\n",
    "dfiddetail2 = pd.read_csv(folderpath+'MediaStormMasterBiWeekly20180731-130714-098.txt',\n",
    "                          nrows = samplerows,sep = '|',usecols=[0,2,4,5],dtype = str)\n",
    "dfiddetail2=dfiddetail2[selected_columns]\n",
    "dfiddetail2['sign_up_location']=dfiddetail2['sign_up_location'].fillna(\"nan\")\n",
    "dfiddetail2=dfiddetail2[dfiddetail2['sign_up_location'].isin(inclusion_store_list_set)]\n",
    "dfiddetail = dfiddetail.append(dfiddetail2)\n",
    "\n",
    "#\n",
    "dfiddetail2 = pd.read_csv(folderpath+'MediaStormMasterBiWeekly20180814-130703-491.txt',\n",
    "                          nrows = samplerows,sep = '|',usecols=[0,2,4,5],dtype = str)\n",
    "dfiddetail2=dfiddetail2[selected_columns]\n",
    "dfiddetail2['sign_up_location']=dfiddetail2['sign_up_location'].fillna(\"nan\")\n",
    "dfiddetail2=dfiddetail2[dfiddetail2['sign_up_location'].isin(inclusion_store_list_set)]\n",
    "dfiddetail = dfiddetail.append(dfiddetail2)\n",
    "del dfiddetail2\n",
    "#\n",
    "dfiddetail['customer_zip_code']=dfiddetail['customer_zip_code'].astype(str)\n",
    "dfiddetail['customer_zip_code']=dfiddetail['customer_zip_code'].apply(lambda x: x.replace(\" \",\"\"))\n",
    "dfiddetail['customer_zip_code']=dfiddetail['customer_zip_code'].apply(lambda x: x.replace(\" \",\"\"))\n",
    "dfiddetail['customer_zip_code']=dfiddetail['customer_zip_code'].apply(lambda x: x.replace(\" \",\"\"))\n",
    "dfiddetail['zip_cd']=dfiddetail['customer_zip_code'].apply(lambda x: str(x).split(\"-\")[0].zfill(5))\n",
    "del dfiddetail['customer_zip_code']\n",
    "\n",
    "dfiddetail=dfiddetail[dfiddetail['sign_up_date'].apply(lambda x: len(x))==10]\n",
    "\n",
    "dfiddetail['sign_up_date']=dfiddetail['sign_up_date'].apply(lambda x: datetime.datetime.strptime(x,\"%Y-%m-%d\").date())\n",
    "dfiddetail_2017_Q2=dfiddetail[dfiddetail['sign_up_date']<=Q2_End_week_2017]\n",
    "\n",
    "\n",
    "dfiddetail=dfiddetail.sort_values(['sign_up_date'],ascending=False)\n",
    "dfiddetail_2017_Q2=dfiddetail_2017_Q2.sort_values(['sign_up_date'],ascending=False)\n",
    "\n",
    "\n",
    "dfiddetail=dfiddetail[['customer_id_hashed','sign_up_location','zip_cd','sign_up_date']].drop_duplicates('customer_id_hashed')\n",
    "dfiddetail_2017_Q2=dfiddetail_2017_Q2[['customer_id_hashed','sign_up_location','zip_cd','sign_up_date']].drop_duplicates('customer_id_hashed')\n",
    "\n",
    "\n",
    "logging.info(\"Finished read of singing up data, with rows of \"+str(dfiddetail.shape[0]))\n",
    "\n",
    "dfiddetail=dfiddetail[dfiddetail['zip_cd'].apply(lambda x: len(x)).isin([5,9])]\n",
    "dfiddetail['zip_cd']=dfiddetail['zip_cd'].apply(lambda x: x[:5])\n",
    "\n",
    "dfiddetail_2017_Q2=dfiddetail_2017_Q2[dfiddetail_2017_Q2['zip_cd'].apply(lambda x: len(x)).isin([5,9])]\n",
    "dfiddetail_2017_Q2['zip_cd']=dfiddetail_2017_Q2['zip_cd'].apply(lambda x: x[:5])\n",
    "\n",
    "#\n",
    "gc.collect()"
   ]
  },
  {
   "cell_type": "code",
   "execution_count": 6,
   "metadata": {},
   "outputs": [
    {
     "data": {
      "text/html": [
       "<div>\n",
       "<style>\n",
       "    .dataframe thead tr:only-child th {\n",
       "        text-align: right;\n",
       "    }\n",
       "\n",
       "    .dataframe thead th {\n",
       "        text-align: left;\n",
       "    }\n",
       "\n",
       "    .dataframe tbody tr th {\n",
       "        vertical-align: top;\n",
       "    }\n",
       "</style>\n",
       "<table border=\"1\" class=\"dataframe\">\n",
       "  <thead>\n",
       "    <tr style=\"text-align: right;\">\n",
       "      <th></th>\n",
       "      <th>location_id</th>\n",
       "      <th>id_counts_signed_up_Q2End_2018</th>\n",
       "      <th>id_counts_signed_up_Q2End_2017</th>\n",
       "    </tr>\n",
       "  </thead>\n",
       "  <tbody>\n",
       "    <tr>\n",
       "      <th>0</th>\n",
       "      <td>1</td>\n",
       "      <td>11656</td>\n",
       "      <td>9174.0</td>\n",
       "    </tr>\n",
       "    <tr>\n",
       "      <th>1</th>\n",
       "      <td>1001</td>\n",
       "      <td>7400</td>\n",
       "      <td>5566.0</td>\n",
       "    </tr>\n",
       "  </tbody>\n",
       "</table>\n",
       "</div>"
      ],
      "text/plain": [
       "  location_id  id_counts_signed_up_Q2End_2018  id_counts_signed_up_Q2End_2017\n",
       "0           1                           11656                          9174.0\n",
       "1        1001                            7400                          5566.0"
      ]
     },
     "execution_count": 6,
     "metadata": {},
     "output_type": "execute_result"
    }
   ],
   "source": [
    "\n",
    "sign_up_id_by_zip=dfiddetail.groupby(['zip_cd'])['customer_id_hashed'].count().to_frame().reset_index()\n",
    "sign_up_id_by_store=dfiddetail.groupby(['sign_up_location'])['customer_id_hashed'].count().to_frame().reset_index()\n",
    "sign_up_id_by_store_2017_Q2=dfiddetail_2017_Q2.groupby(['sign_up_location'])['customer_id_hashed'].count().to_frame().reset_index()\n",
    "sign_up_id_by_store_2017_Q2=sign_up_id_by_store_2017_Q2.rename(columns={\"sign_up_location\":\"location_id\",\"customer_id_hashed\":\"id_counts_signed_up_Q2End_2017\"})\n",
    "df_2=sign_up_id_by_store.copy()\n",
    "\n",
    "df_2=df_2.rename(columns={\"sign_up_location\":\"location_id\",\"customer_id_hashed\":\"id_counts_signed_up_Q2End_2018\"})\n",
    "\n",
    "dfiddetail_2017_Q2=dfiddetail_2017_Q2.sort_values(['sign_up_date'],ascending=False)\n",
    "dfiddetail_2017_Q2=dfiddetail_2017_Q2[['customer_id_hashed','sign_up_location','zip_cd','sign_up_date']].drop_duplicates('customer_id_hashed')\n",
    "sign_up_id_by_store_2017_Q2=dfiddetail_2017_Q2.groupby(['sign_up_location'])['customer_id_hashed'].count().to_frame().reset_index()\n",
    "sign_up_id_by_store_2017_Q2=sign_up_id_by_store_2017_Q2.rename(columns={\"sign_up_location\":\"location_id\",\"customer_id_hashed\":\"id_counts_signed_up_Q2End_2017\"})\n",
    "\n",
    "df_2=pd.merge(df_2,sign_up_id_by_store_2017_Q2,on=\"location_id\",how=\"left\")\n",
    "del dfiddetail_2017_Q2\n",
    "del sign_up_id_by_store\n",
    "del sign_up_id_by_store_2017_Q2\n",
    "\n",
    "gc.collect()\n",
    "df_2.head(2)"
   ]
  },
  {
   "cell_type": "markdown",
   "metadata": {},
   "source": [
    "# 3"
   ]
  },
  {
   "cell_type": "code",
   "execution_count": 7,
   "metadata": {},
   "outputs": [
    {
     "data": {
      "text/plain": [
       "15259"
      ]
     },
     "execution_count": 7,
     "metadata": {},
     "output_type": "execute_result"
    }
   ],
   "source": [
    "ta_by_zip=pd.read_excel(\"/home/jian/Projects/Big_Lots/New_TA/zips_in_new_ta/BL_Zips in new TA (TA level)_JL_20180330.xlsx\",\n",
    "                       dtype=str,usecols=['location_id','zip_cd','revenue_flag','TA_of_zip','TA_of_store'])\n",
    "TA_Zips=ta_by_zip[['zip_cd','TA_of_zip']].drop_duplicates()\n",
    "TA_Store=ta_by_zip[['location_id','TA_of_store']].drop_duplicates()\n",
    "TA_Store=TA_Store[TA_Store['location_id'].isin(inclusion_store_list_set)]\n",
    "\n",
    "stores_not_in_TA=[x for x in inclusion_store_list_set if x not in ta_by_zip['location_id'].tolist()]\n",
    "zips_for_new_store=df_1[df_1['location_id'].isin(stores_not_in_TA)]['zip_cd'].unique().tolist()\n",
    "# 8 new stores not in TA, 7 of the 8 zips are found in TA and allocated to the TA\n",
    "# 4675|02719 missing TA info, so no population\n",
    "TA_new_store=TA_Zips[TA_Zips['zip_cd'].isin(zips_for_new_store)]\n",
    "\n",
    "given_TA_7_New_store=df_1[df_1['location_id'].isin(stores_not_in_TA)]\n",
    "given_TA_7_New_store=pd.merge(given_TA_7_New_store,TA_Zips,on=\"zip_cd\",how=\"left\")\n",
    "given_TA_7_New_store=given_TA_7_New_store[['location_id','TA_of_zip']].rename(columns={\"TA_of_zip\":\"TA_of_store\"})\n",
    "TA_Store=TA_Store.append(given_TA_7_New_store)\n",
    "\n",
    "demo_F_25_54=pd.read_csv(\"/home/jian/Docs/Household_and_Population/2016/Demo_Dataset_2018EASI.csv\",\n",
    "                         dtype=str,usecols=['ZIP_CODE','Estimate; Female: - 25 to 29 years','Estimate; Female: - 30 to 34 years',\n",
    "                                                    'Estimate; Female: - 35 to 39 years','Estimate; Female: - 40 to 44 years',\n",
    "                                                     'Estimate; Female: - 45 to 49 years','Estimate; Female: - 50 to 54 years'])\n",
    "for col in demo_F_25_54.columns.tolist()[1:]:\n",
    "    demo_F_25_54[col]=demo_F_25_54[col].astype(float)\n",
    "demo_F_25_54['ZIP_CODE']=demo_F_25_54['ZIP_CODE'].apply(lambda x: x.zfill(5))\n",
    "demo_F_25_54['Pop_F_25_54']=demo_F_25_54[demo_F_25_54.columns.tolist()[1:]].sum(axis=1)\n",
    "demo_F_25_54=demo_F_25_54.rename(columns={\"ZIP_CODE\":\"zip_cd\"})\n",
    "demo_F_25_54=demo_F_25_54[['zip_cd','Pop_F_25_54']]\n",
    "\n",
    "TA_Zips_POP=pd.merge(TA_Zips,demo_F_25_54,on=\"zip_cd\",how=\"left\")\n",
    "TA_POP=TA_Zips_POP.groupby(['TA_of_zip'])['Pop_F_25_54'].sum().to_frame().reset_index()\n",
    "TA_POP=TA_POP.rename(columns={\"TA_of_zip\":\"TA\"})\n",
    "TA_Store=TA_Store.rename(columns={\"TA_of_store\":\"TA\"})\n",
    "df_3=pd.merge(TA_Store,TA_POP,on=\"TA\",how=\"left\")\n",
    "\n",
    "TA_Zips_HH_EASI=pd.merge(TA_Zips,EASI_C,on=\"zip_cd\",how=\"left\")\n",
    "TA_HH_EASI=TA_Zips_HH_EASI.groupby(['TA_of_zip'])['HH_25_54'].sum().to_frame().reset_index()\n",
    "TA_HH_EASI=TA_HH_EASI.rename(columns={\"TA_of_zip\":\"TA\"})\n",
    "\n",
    "df_3=pd.merge(df_3,TA_HH_EASI,on=\"TA\",how=\"left\")\n",
    "\n",
    "del EASI_C\n",
    "gc.collect()"
   ]
  },
  {
   "cell_type": "markdown",
   "metadata": {},
   "source": [
    "# 5, 6"
   ]
  },
  {
   "cell_type": "code",
   "execution_count": 8,
   "metadata": {},
   "outputs": [
    {
     "data": {
      "text/plain": [
       "7"
      ]
     },
     "execution_count": 8,
     "metadata": {},
     "output_type": "execute_result"
    }
   ],
   "source": [
    "weird_id_removed=\"5efa406f90b87aee3110c8dcebfaddcc246364bc6817e83a8f2ef508ec42f597\"\n",
    "# store 5191\n",
    "# date 2018-05-12\n",
    "# sales: -480985.06\n",
    "\n",
    "\n",
    "rewards_sales_from_SP=pd.read_csv(\"/home/jian/Projects/Big_Lots/Loyal_members/loyalty_sales_data/From_Sp/combinedtransactions_0811.csv\",\n",
    "                                 dtype=str,nrows=samplerows,usecols=['customer_id_hashed','transaction_date','transaction_id','location_id','total_transaction_amt'])\n",
    "rewards_sales_from_SP=rewards_sales_from_SP[rewards_sales_from_SP['customer_id_hashed']!=weird_id_removed]\n",
    "rewards_sales_from_SP=rewards_sales_from_SP[rewards_sales_from_SP['location_id'].isin(inclusion_store_list_set)]\n",
    "rewards_sales_from_SP['transaction_date']=rewards_sales_from_SP['transaction_date'].apply(lambda x: datetime.datetime.strptime(x,\"%Y-%m-%d\").date())\n",
    "rewards_sales_from_SP_2017Q2=rewards_sales_from_SP[(rewards_sales_from_SP['transaction_date']>=Q2_Start_week_2017) & (rewards_sales_from_SP['transaction_date']<=Q2_End_week_2017)]\n",
    "rewards_sales_from_SP=rewards_sales_from_SP[(rewards_sales_from_SP['transaction_date']>=Q2_Start_week_2018) & (rewards_sales_from_SP['transaction_date']<=Q2_End_week_2018)]\n",
    "\n",
    "rewards_sales_from_SP=rewards_sales_from_SP.drop_duplicates()\n",
    "rewards_sales_from_SP_2017Q2=rewards_sales_from_SP_2017Q2.drop_duplicates()\n",
    "\n",
    "rewards_sales_from_SP['total_transaction_amt']=rewards_sales_from_SP['total_transaction_amt'].astype(float)\n",
    "rewards_sales_from_SP_2017Q2['total_transaction_amt']=rewards_sales_from_SP_2017Q2['total_transaction_amt'].astype(float)\n",
    "\n",
    "del rewards_sales_from_SP['transaction_id']\n",
    "del rewards_sales_from_SP_2017Q2['transaction_id']\n",
    "\n",
    "gc.collect()\n",
    "\n",
    "def add_week_end_date(x):\n",
    "    weekday_num=x.weekday()\n",
    "    if weekday_num==6:\n",
    "        y=x+datetime.timedelta(days=6)\n",
    "    else:\n",
    "        y=x+datetime.timedelta(days=5-weekday_num)\n",
    "    return y\n",
    "\n",
    "rewards_by_store_Q2_sales=rewards_sales_from_SP.groupby(['location_id'])['total_transaction_amt'].sum().to_frame().reset_index()\n",
    "rewards_by_store_Q2_sales=rewards_by_store_Q2_sales.rename(columns={\"total_transaction_amt\":\"Q2_rewards_sales_2018\"})\n",
    "rewards_by_store_Q2_trans=rewards_sales_from_SP.groupby(['location_id'])['total_transaction_amt'].count().to_frame().reset_index()\n",
    "rewards_by_store_Q2_trans=rewards_by_store_Q2_trans.rename(columns={\"total_transaction_amt\":\"Q2_rewards_trans_2018\"})\n",
    "\n",
    "rewards_by_store_Q2_sales_2017Q2=rewards_sales_from_SP_2017Q2.groupby(['location_id'])['total_transaction_amt'].sum().to_frame().reset_index()\n",
    "rewards_by_store_Q2_sales_2017Q2=rewards_by_store_Q2_sales_2017Q2.rename(columns={\"total_transaction_amt\":\"Q2_rewards_sales_2017\"})\n",
    "rewards_by_store_Q2_trans_2017Q2=rewards_sales_from_SP_2017Q2.groupby(['location_id'])['total_transaction_amt'].count().to_frame().reset_index()\n",
    "rewards_by_store_Q2_trans_2017Q2=rewards_by_store_Q2_trans_2017Q2.rename(columns={\"total_transaction_amt\":\"Q2_rewards_trans_2017\"})\n",
    "\n",
    "df_5=pd.merge(rewards_by_store_Q2_sales,rewards_by_store_Q2_trans,on=\"location_id\",how=\"outer\")\n",
    "df_5['Q2_rewards_sales_share_2018']=np.nan\n",
    "df_5['Q2_rewards_trans_share_2018']=np.nan\n",
    "df_5['Rewards_AOV_2018']=df_5['Q2_rewards_sales_2018']/df_5['Q2_rewards_trans_2018']\n",
    "\n",
    "df_5_2017=pd.merge(rewards_by_store_Q2_sales_2017Q2,rewards_by_store_Q2_trans_2017Q2,on=\"location_id\",how=\"outer\")\n",
    "df_5_2017['Q2_rewards_sales_share_2017']=np.nan\n",
    "df_5_2017['Q2_rewards_trans_share_2017']=np.nan\n",
    "df_5_2017['Rewards_AOV_2017']=df_5_2017['Q2_rewards_sales_2017']/df_5_2017['Q2_rewards_trans_2017']\n",
    "\n",
    "df_5=pd.merge(df_5,df_5_2017,on=\"location_id\",how=\"left\")\n",
    "\n",
    "gc.collect()"
   ]
  },
  {
   "cell_type": "code",
   "execution_count": 9,
   "metadata": {
    "collapsed": true
   },
   "outputs": [],
   "source": [
    "#QC ID count\n"
   ]
  },
  {
   "cell_type": "code",
   "execution_count": 10,
   "metadata": {},
   "outputs": [
    {
     "data": {
      "text/plain": [
       "datetime.date(2018, 8, 4)"
      ]
     },
     "execution_count": 10,
     "metadata": {},
     "output_type": "execute_result"
    }
   ],
   "source": [
    "rewards_sales_from_SP['transaction_date'].max()"
   ]
  },
  {
   "cell_type": "code",
   "execution_count": 11,
   "metadata": {},
   "outputs": [
    {
     "data": {
      "text/plain": [
       "datetime.date(2018, 5, 12)"
      ]
     },
     "execution_count": 11,
     "metadata": {},
     "output_type": "execute_result"
    }
   ],
   "source": [
    "rewards_sales_from_SP['transaction_date'].min()"
   ]
  },
  {
   "cell_type": "code",
   "execution_count": 12,
   "metadata": {},
   "outputs": [
    {
     "data": {
      "text/plain": [
       "85"
      ]
     },
     "execution_count": 12,
     "metadata": {},
     "output_type": "execute_result"
    }
   ],
   "source": [
    "len(rewards_sales_from_SP['transaction_date'].unique())"
   ]
  },
  {
   "cell_type": "code",
   "execution_count": 13,
   "metadata": {},
   "outputs": [
    {
     "data": {
      "text/plain": [
       "datetime.date(2017, 8, 5)"
      ]
     },
     "execution_count": 13,
     "metadata": {},
     "output_type": "execute_result"
    }
   ],
   "source": [
    "rewards_sales_from_SP_2017Q2['transaction_date'].max()"
   ]
  },
  {
   "cell_type": "code",
   "execution_count": 14,
   "metadata": {},
   "outputs": [
    {
     "data": {
      "text/plain": [
       "datetime.date(2017, 5, 13)"
      ]
     },
     "execution_count": 14,
     "metadata": {},
     "output_type": "execute_result"
    }
   ],
   "source": [
    "rewards_sales_from_SP_2017Q2['transaction_date'].min()"
   ]
  },
  {
   "cell_type": "code",
   "execution_count": 15,
   "metadata": {},
   "outputs": [
    {
     "data": {
      "text/plain": [
       "85"
      ]
     },
     "execution_count": 15,
     "metadata": {},
     "output_type": "execute_result"
    }
   ],
   "source": [
    "len(rewards_sales_from_SP_2017Q2['transaction_date'].unique())"
   ]
  },
  {
   "cell_type": "code",
   "execution_count": 16,
   "metadata": {
    "collapsed": true
   },
   "outputs": [],
   "source": [
    "all_stores_2018_Q2_ID=rewards_sales_from_SP['customer_id_hashed'].unique().tolist()\n",
    "all_stores_2017_Q2_ID=rewards_sales_from_SP_2017Q2['customer_id_hashed'].unique().tolist()\n",
    "\n",
    "all_stores_existing_Q2_id=list(set(all_stores_2018_Q2_ID).intersection(set(all_stores_2017_Q2_ID)))\n",
    "all_stores_new_Q2_id=set(all_stores_2018_Q2_ID).difference(set(all_stores_2017_Q2_ID))"
   ]
  },
  {
   "cell_type": "code",
   "execution_count": 17,
   "metadata": {},
   "outputs": [
    {
     "data": {
      "text/plain": [
       "2819960"
      ]
     },
     "execution_count": 17,
     "metadata": {},
     "output_type": "execute_result"
    }
   ],
   "source": [
    "len(all_stores_existing_Q2_id)"
   ]
  },
  {
   "cell_type": "code",
   "execution_count": 18,
   "metadata": {},
   "outputs": [
    {
     "data": {
      "text/plain": [
       "4515624"
      ]
     },
     "execution_count": 18,
     "metadata": {},
     "output_type": "execute_result"
    }
   ],
   "source": [
    "len(all_stores_new_Q2_id)"
   ]
  },
  {
   "cell_type": "code",
   "execution_count": 19,
   "metadata": {
    "collapsed": true
   },
   "outputs": [],
   "source": [
    "store5191_2018_Q2_ID=rewards_sales_from_SP[rewards_sales_from_SP['location_id']==\"5191\"]['customer_id_hashed'].unique().tolist()\n",
    "store5191_2017_Q2_ID=rewards_sales_from_SP_2017Q2[rewards_sales_from_SP_2017Q2['location_id']==\"5191\"]['customer_id_hashed'].unique().tolist()"
   ]
  },
  {
   "cell_type": "code",
   "execution_count": 20,
   "metadata": {
    "collapsed": true
   },
   "outputs": [],
   "source": [
    "store5191_existing_Q2_id=set(store5191_2018_Q2_ID).intersection(all_stores_existing_Q2_id)\n",
    "store5191_new_Q2_id=set(store5191_2018_Q2_ID).intersection(all_stores_new_Q2_id)"
   ]
  },
  {
   "cell_type": "code",
   "execution_count": 22,
   "metadata": {},
   "outputs": [
    {
     "data": {
      "text/plain": [
       "2132"
      ]
     },
     "execution_count": 22,
     "metadata": {},
     "output_type": "execute_result"
    }
   ],
   "source": [
    "len(store5191_existing_Q2_id)"
   ]
  },
  {
   "cell_type": "code",
   "execution_count": 23,
   "metadata": {},
   "outputs": [
    {
     "data": {
      "text/plain": [
       "3091"
      ]
     },
     "execution_count": 23,
     "metadata": {},
     "output_type": "execute_result"
    }
   ],
   "source": [
    "len(store5191_new_Q2_id)"
   ]
  },
  {
   "cell_type": "code",
   "execution_count": 24,
   "metadata": {
    "collapsed": true
   },
   "outputs": [],
   "source": [
    "sales_rewards_5191_2018=rewards_sales_from_SP[rewards_sales_from_SP['location_id']==\"5191\"]\n",
    "sales_rewards_5191_2017=rewards_sales_from_SP_2017Q2[rewards_sales_from_SP_2017Q2['location_id']==\"5191\"]\n",
    "\n",
    "sales_rewards_5191_2018_existing=sales_rewards_5191_2018[sales_rewards_5191_2018['customer_id_hashed'].isin(store5191_existing_Q2_id)]"
   ]
  },
  {
   "cell_type": "code",
   "execution_count": 25,
   "metadata": {},
   "outputs": [
    {
     "data": {
      "text/html": [
       "<div>\n",
       "<style>\n",
       "    .dataframe thead tr:only-child th {\n",
       "        text-align: right;\n",
       "    }\n",
       "\n",
       "    .dataframe thead th {\n",
       "        text-align: left;\n",
       "    }\n",
       "\n",
       "    .dataframe tbody tr th {\n",
       "        vertical-align: top;\n",
       "    }\n",
       "</style>\n",
       "<table border=\"1\" class=\"dataframe\">\n",
       "  <thead>\n",
       "    <tr style=\"text-align: right;\">\n",
       "      <th></th>\n",
       "      <th>customer_id_hashed</th>\n",
       "      <th>transaction_date</th>\n",
       "      <th>location_id</th>\n",
       "      <th>total_transaction_amt</th>\n",
       "    </tr>\n",
       "  </thead>\n",
       "  <tbody>\n",
       "    <tr>\n",
       "      <th>18397923</th>\n",
       "      <td>0f1723ccc446067c7002f6342223dc5aa27eb0e93912bd...</td>\n",
       "      <td>2018-05-28</td>\n",
       "      <td>5191</td>\n",
       "      <td>9.95</td>\n",
       "    </tr>\n",
       "    <tr>\n",
       "      <th>18405227</th>\n",
       "      <td>cdab7a93fd9ec1bcf40f3c1d5b3ef39dccf08aad904ff1...</td>\n",
       "      <td>2018-05-15</td>\n",
       "      <td>5191</td>\n",
       "      <td>69.96</td>\n",
       "    </tr>\n",
       "    <tr>\n",
       "      <th>18411996</th>\n",
       "      <td>ff7811f2d70ca8069c244bceba22570af737ff55a6e335...</td>\n",
       "      <td>2018-05-27</td>\n",
       "      <td>5191</td>\n",
       "      <td>14.60</td>\n",
       "    </tr>\n",
       "    <tr>\n",
       "      <th>18412185</th>\n",
       "      <td>ff7811f2d70ca8069c244bceba22570af737ff55a6e335...</td>\n",
       "      <td>2018-05-28</td>\n",
       "      <td>5191</td>\n",
       "      <td>3.00</td>\n",
       "    </tr>\n",
       "  </tbody>\n",
       "</table>\n",
       "</div>"
      ],
      "text/plain": [
       "                                         customer_id_hashed transaction_date  \\\n",
       "18397923  0f1723ccc446067c7002f6342223dc5aa27eb0e93912bd...       2018-05-28   \n",
       "18405227  cdab7a93fd9ec1bcf40f3c1d5b3ef39dccf08aad904ff1...       2018-05-15   \n",
       "18411996  ff7811f2d70ca8069c244bceba22570af737ff55a6e335...       2018-05-27   \n",
       "18412185  ff7811f2d70ca8069c244bceba22570af737ff55a6e335...       2018-05-28   \n",
       "\n",
       "         location_id  total_transaction_amt  \n",
       "18397923        5191                   9.95  \n",
       "18405227        5191                  69.96  \n",
       "18411996        5191                  14.60  \n",
       "18412185        5191                   3.00  "
      ]
     },
     "execution_count": 25,
     "metadata": {},
     "output_type": "execute_result"
    }
   ],
   "source": [
    "sales_rewards_5191_2018_existing.head(4)"
   ]
  },
  {
   "cell_type": "code",
   "execution_count": 26,
   "metadata": {},
   "outputs": [
    {
     "data": {
      "text/plain": [
       "-323922.56999999995"
      ]
     },
     "execution_count": 26,
     "metadata": {},
     "output_type": "execute_result"
    }
   ],
   "source": [
    "sales_rewards_5191_2018_existing['total_transaction_amt'].sum()"
   ]
  },
  {
   "cell_type": "code",
   "execution_count": 28,
   "metadata": {},
   "outputs": [
    {
     "data": {
      "text/plain": [
       "85"
      ]
     },
     "execution_count": 28,
     "metadata": {},
     "output_type": "execute_result"
    }
   ],
   "source": [
    "len(sales_rewards_5191_2018_existing['transaction_date'].unique())"
   ]
  },
  {
   "cell_type": "code",
   "execution_count": 29,
   "metadata": {
    "collapsed": true
   },
   "outputs": [],
   "source": [
    "id_sales_5191=sales_rewards_5191_2018_existing.groupby(['customer_id_hashed'])['total_transaction_amt'].sum().to_frame().reset_index().sort_values(['total_transaction_amt'])\n",
    "\n"
   ]
  },
  {
   "cell_type": "code",
   "execution_count": 31,
   "metadata": {},
   "outputs": [
    {
     "data": {
      "text/plain": [
       "'5efa406f90b87aee3110c8dcebfaddcc246364bc6817e83a8f2ef508ec42f597'"
      ]
     },
     "execution_count": 31,
     "metadata": {},
     "output_type": "execute_result"
    }
   ],
   "source": []
  },
  {
   "cell_type": "code",
   "execution_count": 32,
   "metadata": {},
   "outputs": [
    {
     "data": {
      "text/html": [
       "<div>\n",
       "<style>\n",
       "    .dataframe thead tr:only-child th {\n",
       "        text-align: right;\n",
       "    }\n",
       "\n",
       "    .dataframe thead th {\n",
       "        text-align: left;\n",
       "    }\n",
       "\n",
       "    .dataframe tbody tr th {\n",
       "        vertical-align: top;\n",
       "    }\n",
       "</style>\n",
       "<table border=\"1\" class=\"dataframe\">\n",
       "  <thead>\n",
       "    <tr style=\"text-align: right;\">\n",
       "      <th></th>\n",
       "      <th>customer_id_hashed</th>\n",
       "      <th>transaction_date</th>\n",
       "      <th>location_id</th>\n",
       "      <th>total_transaction_amt</th>\n",
       "    </tr>\n",
       "  </thead>\n",
       "  <tbody>\n",
       "    <tr>\n",
       "      <th>24950370</th>\n",
       "      <td>5efa406f90b87aee3110c8dcebfaddcc246364bc6817e8...</td>\n",
       "      <td>2018-05-12</td>\n",
       "      <td>5191</td>\n",
       "      <td>-480985.06</td>\n",
       "    </tr>\n",
       "    <tr>\n",
       "      <th>24950559</th>\n",
       "      <td>5efa406f90b87aee3110c8dcebfaddcc246364bc6817e8...</td>\n",
       "      <td>2018-05-12</td>\n",
       "      <td>5191</td>\n",
       "      <td>17.00</td>\n",
       "    </tr>\n",
       "    <tr>\n",
       "      <th>36292916</th>\n",
       "      <td>5efa406f90b87aee3110c8dcebfaddcc246364bc6817e8...</td>\n",
       "      <td>2018-07-07</td>\n",
       "      <td>5191</td>\n",
       "      <td>12.62</td>\n",
       "    </tr>\n",
       "    <tr>\n",
       "      <th>37132988</th>\n",
       "      <td>5efa406f90b87aee3110c8dcebfaddcc246364bc6817e8...</td>\n",
       "      <td>2018-07-08</td>\n",
       "      <td>5191</td>\n",
       "      <td>44.46</td>\n",
       "    </tr>\n",
       "    <tr>\n",
       "      <th>138391398</th>\n",
       "      <td>5efa406f90b87aee3110c8dcebfaddcc246364bc6817e8...</td>\n",
       "      <td>2018-07-30</td>\n",
       "      <td>5191</td>\n",
       "      <td>13.27</td>\n",
       "    </tr>\n",
       "  </tbody>\n",
       "</table>\n",
       "</div>"
      ],
      "text/plain": [
       "                                          customer_id_hashed transaction_date  \\\n",
       "24950370   5efa406f90b87aee3110c8dcebfaddcc246364bc6817e8...       2018-05-12   \n",
       "24950559   5efa406f90b87aee3110c8dcebfaddcc246364bc6817e8...       2018-05-12   \n",
       "36292916   5efa406f90b87aee3110c8dcebfaddcc246364bc6817e8...       2018-07-07   \n",
       "37132988   5efa406f90b87aee3110c8dcebfaddcc246364bc6817e8...       2018-07-08   \n",
       "138391398  5efa406f90b87aee3110c8dcebfaddcc246364bc6817e8...       2018-07-30   \n",
       "\n",
       "          location_id  total_transaction_amt  \n",
       "24950370         5191             -480985.06  \n",
       "24950559         5191                  17.00  \n",
       "36292916         5191                  12.62  \n",
       "37132988         5191                  44.46  \n",
       "138391398        5191                  13.27  "
      ]
     },
     "execution_count": 32,
     "metadata": {},
     "output_type": "execute_result"
    }
   ],
   "source": [
    "sales_rewards_5191_2018_existing[sales_rewards_5191_2018_existing['customer_id_hashed']=='5efa406f90b87aee3110c8dcebfaddcc246364bc6817e83a8f2ef508ec42f597']"
   ]
  },
  {
   "cell_type": "code",
   "execution_count": 34,
   "metadata": {},
   "outputs": [
    {
     "data": {
      "text/html": [
       "<div>\n",
       "<style>\n",
       "    .dataframe thead tr:only-child th {\n",
       "        text-align: right;\n",
       "    }\n",
       "\n",
       "    .dataframe thead th {\n",
       "        text-align: left;\n",
       "    }\n",
       "\n",
       "    .dataframe tbody tr th {\n",
       "        vertical-align: top;\n",
       "    }\n",
       "</style>\n",
       "<table border=\"1\" class=\"dataframe\">\n",
       "  <thead>\n",
       "    <tr style=\"text-align: right;\">\n",
       "      <th></th>\n",
       "      <th>customer_id_hashed</th>\n",
       "      <th>transaction_date</th>\n",
       "      <th>location_id</th>\n",
       "      <th>total_transaction_amt</th>\n",
       "    </tr>\n",
       "  </thead>\n",
       "  <tbody>\n",
       "    <tr>\n",
       "      <th>24950370</th>\n",
       "      <td>5efa406f90b87aee3110c8dcebfaddcc246364bc6817e8...</td>\n",
       "      <td>2018-05-12</td>\n",
       "      <td>5191</td>\n",
       "      <td>-480985.06</td>\n",
       "    </tr>\n",
       "    <tr>\n",
       "      <th>24950559</th>\n",
       "      <td>5efa406f90b87aee3110c8dcebfaddcc246364bc6817e8...</td>\n",
       "      <td>2018-05-12</td>\n",
       "      <td>5191</td>\n",
       "      <td>17.00</td>\n",
       "    </tr>\n",
       "    <tr>\n",
       "      <th>36292916</th>\n",
       "      <td>5efa406f90b87aee3110c8dcebfaddcc246364bc6817e8...</td>\n",
       "      <td>2018-07-07</td>\n",
       "      <td>5191</td>\n",
       "      <td>12.62</td>\n",
       "    </tr>\n",
       "    <tr>\n",
       "      <th>37132988</th>\n",
       "      <td>5efa406f90b87aee3110c8dcebfaddcc246364bc6817e8...</td>\n",
       "      <td>2018-07-08</td>\n",
       "      <td>5191</td>\n",
       "      <td>44.46</td>\n",
       "    </tr>\n",
       "    <tr>\n",
       "      <th>138391398</th>\n",
       "      <td>5efa406f90b87aee3110c8dcebfaddcc246364bc6817e8...</td>\n",
       "      <td>2018-07-30</td>\n",
       "      <td>5191</td>\n",
       "      <td>13.27</td>\n",
       "    </tr>\n",
       "  </tbody>\n",
       "</table>\n",
       "</div>"
      ],
      "text/plain": [
       "                                          customer_id_hashed transaction_date  \\\n",
       "24950370   5efa406f90b87aee3110c8dcebfaddcc246364bc6817e8...       2018-05-12   \n",
       "24950559   5efa406f90b87aee3110c8dcebfaddcc246364bc6817e8...       2018-05-12   \n",
       "36292916   5efa406f90b87aee3110c8dcebfaddcc246364bc6817e8...       2018-07-07   \n",
       "37132988   5efa406f90b87aee3110c8dcebfaddcc246364bc6817e8...       2018-07-08   \n",
       "138391398  5efa406f90b87aee3110c8dcebfaddcc246364bc6817e8...       2018-07-30   \n",
       "\n",
       "          location_id  total_transaction_amt  \n",
       "24950370         5191             -480985.06  \n",
       "24950559         5191                  17.00  \n",
       "36292916         5191                  12.62  \n",
       "37132988         5191                  44.46  \n",
       "138391398        5191                  13.27  "
      ]
     },
     "execution_count": 34,
     "metadata": {},
     "output_type": "execute_result"
    }
   ],
   "source": [
    "rewards_sales_from_SP[rewards_sales_from_SP['customer_id_hashed']=='5efa406f90b87aee3110c8dcebfaddcc246364bc6817e83a8f2ef508ec42f597']"
   ]
  },
  {
   "cell_type": "code",
   "execution_count": 35,
   "metadata": {},
   "outputs": [
    {
     "data": {
      "text/html": [
       "<div>\n",
       "<style>\n",
       "    .dataframe thead tr:only-child th {\n",
       "        text-align: right;\n",
       "    }\n",
       "\n",
       "    .dataframe thead th {\n",
       "        text-align: left;\n",
       "    }\n",
       "\n",
       "    .dataframe tbody tr th {\n",
       "        vertical-align: top;\n",
       "    }\n",
       "</style>\n",
       "<table border=\"1\" class=\"dataframe\">\n",
       "  <thead>\n",
       "    <tr style=\"text-align: right;\">\n",
       "      <th></th>\n",
       "      <th>customer_id_hashed</th>\n",
       "      <th>total_transaction_amt</th>\n",
       "    </tr>\n",
       "  </thead>\n",
       "  <tbody>\n",
       "    <tr>\n",
       "      <th>2720156</th>\n",
       "      <td>5efa406f90b87aee3110c8dcebfaddcc246364bc6817e8...</td>\n",
       "      <td>-480897.71</td>\n",
       "    </tr>\n",
       "    <tr>\n",
       "      <th>1517541</th>\n",
       "      <td>34f83aebb8720752de234f5a3a4ced0abff8f7b44e8cab...</td>\n",
       "      <td>-5730.24</td>\n",
       "    </tr>\n",
       "    <tr>\n",
       "      <th>3346534</th>\n",
       "      <td>74d7b3c1354edda2b1114030a67bedac9523b638e4e2e1...</td>\n",
       "      <td>-4400.20</td>\n",
       "    </tr>\n",
       "    <tr>\n",
       "      <th>1874649</th>\n",
       "      <td>4175452aebe4d096148328f3939d525ff48c4fcd8ed5f4...</td>\n",
       "      <td>-3152.01</td>\n",
       "    </tr>\n",
       "    <tr>\n",
       "      <th>177652</th>\n",
       "      <td>0630e0a7d22b4f3774ad68294e09f0862b167837cc8d18...</td>\n",
       "      <td>-2885.11</td>\n",
       "    </tr>\n",
       "    <tr>\n",
       "      <th>6945822</th>\n",
       "      <td>f264a36954aa465f22e1885f7adcf8628956bb5743a8b3...</td>\n",
       "      <td>-2871.94</td>\n",
       "    </tr>\n",
       "    <tr>\n",
       "      <th>6742881</th>\n",
       "      <td>eb504e9f36fee811f0c1be7d064f842be77dbb4451cb15...</td>\n",
       "      <td>-2711.97</td>\n",
       "    </tr>\n",
       "    <tr>\n",
       "      <th>4301291</th>\n",
       "      <td>961c997c8d220a4074597223e8640dc3649977ac89d328...</td>\n",
       "      <td>-2543.49</td>\n",
       "    </tr>\n",
       "    <tr>\n",
       "      <th>4401106</th>\n",
       "      <td>999a32af786110c8447006ff241fddc659b70c9399b9f3...</td>\n",
       "      <td>-2536.54</td>\n",
       "    </tr>\n",
       "    <tr>\n",
       "      <th>2027145</th>\n",
       "      <td>46c6e4edd53c39cba4614a289469d30f6b70f25ef5683d...</td>\n",
       "      <td>-2530.30</td>\n",
       "    </tr>\n",
       "    <tr>\n",
       "      <th>3271812</th>\n",
       "      <td>723c8ca272830620f2aa28d23c3e970bb087e85f21eecd...</td>\n",
       "      <td>-2291.70</td>\n",
       "    </tr>\n",
       "    <tr>\n",
       "      <th>122946</th>\n",
       "      <td>0446c6a7eebe7342685ebbe62c084754ebb0aeb2c491c0...</td>\n",
       "      <td>-2277.97</td>\n",
       "    </tr>\n",
       "    <tr>\n",
       "      <th>4401836</th>\n",
       "      <td>99a0f9863276d7e3ba06f210c820b927a84cae9e5c6711...</td>\n",
       "      <td>-2253.31</td>\n",
       "    </tr>\n",
       "    <tr>\n",
       "      <th>2942623</th>\n",
       "      <td>66b89c125f7a3d3a0ae2979b10608f5eca8980b170da0f...</td>\n",
       "      <td>-2104.17</td>\n",
       "    </tr>\n",
       "    <tr>\n",
       "      <th>2705304</th>\n",
       "      <td>5e763e52a9654e3be82e2ae9d560bb42b50082e1e5080f...</td>\n",
       "      <td>-2007.87</td>\n",
       "    </tr>\n",
       "    <tr>\n",
       "      <th>5840790</th>\n",
       "      <td>cbd51e67bf211713612c60fa2795b1948fb6eb77d15400...</td>\n",
       "      <td>-1957.08</td>\n",
       "    </tr>\n",
       "    <tr>\n",
       "      <th>5890943</th>\n",
       "      <td>cd94a84bef0f79657284bf509a18a6afb49c8a69d6acca...</td>\n",
       "      <td>-1889.94</td>\n",
       "    </tr>\n",
       "    <tr>\n",
       "      <th>2667726</th>\n",
       "      <td>5d2727b2d98abb42e0e1b39b9afb37955c99803a844cd9...</td>\n",
       "      <td>-1883.76</td>\n",
       "    </tr>\n",
       "    <tr>\n",
       "      <th>3792061</th>\n",
       "      <td>845a08b5a696d746263b66c81a31bf407cb0c3f1075b16...</td>\n",
       "      <td>-1868.54</td>\n",
       "    </tr>\n",
       "    <tr>\n",
       "      <th>1990087</th>\n",
       "      <td>457a64d55874090d81226b69c0947c7dee1932f66f82b5...</td>\n",
       "      <td>-1798.95</td>\n",
       "    </tr>\n",
       "  </tbody>\n",
       "</table>\n",
       "</div>"
      ],
      "text/plain": [
       "                                        customer_id_hashed  \\\n",
       "2720156  5efa406f90b87aee3110c8dcebfaddcc246364bc6817e8...   \n",
       "1517541  34f83aebb8720752de234f5a3a4ced0abff8f7b44e8cab...   \n",
       "3346534  74d7b3c1354edda2b1114030a67bedac9523b638e4e2e1...   \n",
       "1874649  4175452aebe4d096148328f3939d525ff48c4fcd8ed5f4...   \n",
       "177652   0630e0a7d22b4f3774ad68294e09f0862b167837cc8d18...   \n",
       "6945822  f264a36954aa465f22e1885f7adcf8628956bb5743a8b3...   \n",
       "6742881  eb504e9f36fee811f0c1be7d064f842be77dbb4451cb15...   \n",
       "4301291  961c997c8d220a4074597223e8640dc3649977ac89d328...   \n",
       "4401106  999a32af786110c8447006ff241fddc659b70c9399b9f3...   \n",
       "2027145  46c6e4edd53c39cba4614a289469d30f6b70f25ef5683d...   \n",
       "3271812  723c8ca272830620f2aa28d23c3e970bb087e85f21eecd...   \n",
       "122946   0446c6a7eebe7342685ebbe62c084754ebb0aeb2c491c0...   \n",
       "4401836  99a0f9863276d7e3ba06f210c820b927a84cae9e5c6711...   \n",
       "2942623  66b89c125f7a3d3a0ae2979b10608f5eca8980b170da0f...   \n",
       "2705304  5e763e52a9654e3be82e2ae9d560bb42b50082e1e5080f...   \n",
       "5840790  cbd51e67bf211713612c60fa2795b1948fb6eb77d15400...   \n",
       "5890943  cd94a84bef0f79657284bf509a18a6afb49c8a69d6acca...   \n",
       "2667726  5d2727b2d98abb42e0e1b39b9afb37955c99803a844cd9...   \n",
       "3792061  845a08b5a696d746263b66c81a31bf407cb0c3f1075b16...   \n",
       "1990087  457a64d55874090d81226b69c0947c7dee1932f66f82b5...   \n",
       "\n",
       "         total_transaction_amt  \n",
       "2720156             -480897.71  \n",
       "1517541               -5730.24  \n",
       "3346534               -4400.20  \n",
       "1874649               -3152.01  \n",
       "177652                -2885.11  \n",
       "6945822               -2871.94  \n",
       "6742881               -2711.97  \n",
       "4301291               -2543.49  \n",
       "4401106               -2536.54  \n",
       "2027145               -2530.30  \n",
       "3271812               -2291.70  \n",
       "122946                -2277.97  \n",
       "4401836               -2253.31  \n",
       "2942623               -2104.17  \n",
       "2705304               -2007.87  \n",
       "5840790               -1957.08  \n",
       "5890943               -1889.94  \n",
       "2667726               -1883.76  \n",
       "3792061               -1868.54  \n",
       "1990087               -1798.95  "
      ]
     },
     "execution_count": 35,
     "metadata": {},
     "output_type": "execute_result"
    }
   ],
   "source": [
    "rewards_sales_from_SP.groupby(['customer_id_hashed'])['total_transaction_amt'].sum().to_frame().reset_index().sort_values(['total_transaction_amt']).head(20)\n",
    "\n",
    "\n"
   ]
  },
  {
   "cell_type": "code",
   "execution_count": 36,
   "metadata": {},
   "outputs": [
    {
     "data": {
      "text/html": [
       "<div>\n",
       "<style>\n",
       "    .dataframe thead tr:only-child th {\n",
       "        text-align: right;\n",
       "    }\n",
       "\n",
       "    .dataframe thead th {\n",
       "        text-align: left;\n",
       "    }\n",
       "\n",
       "    .dataframe tbody tr th {\n",
       "        vertical-align: top;\n",
       "    }\n",
       "</style>\n",
       "<table border=\"1\" class=\"dataframe\">\n",
       "  <thead>\n",
       "    <tr style=\"text-align: right;\">\n",
       "      <th></th>\n",
       "      <th>customer_id_hashed</th>\n",
       "      <th>total_transaction_amt</th>\n",
       "    </tr>\n",
       "  </thead>\n",
       "  <tbody>\n",
       "    <tr>\n",
       "      <th>4720026</th>\n",
       "      <td>c7cd02cc1bc4089a3c953859dc7a965236e4598ea98453...</td>\n",
       "      <td>-4383.03</td>\n",
       "    </tr>\n",
       "    <tr>\n",
       "      <th>4135653</th>\n",
       "      <td>af0b807e3e338513f8c00ade23149760c9eb5a12d8b55a...</td>\n",
       "      <td>-4047.01</td>\n",
       "    </tr>\n",
       "    <tr>\n",
       "      <th>2274884</th>\n",
       "      <td>6059a796b5abe534cbbe8fa280ae8ab689678806571fac...</td>\n",
       "      <td>-3354.96</td>\n",
       "    </tr>\n",
       "    <tr>\n",
       "      <th>3163802</th>\n",
       "      <td>85eb274aaa89d64f53c872b8a7941d20897df8f4df5602...</td>\n",
       "      <td>-3326.01</td>\n",
       "    </tr>\n",
       "    <tr>\n",
       "      <th>130202</th>\n",
       "      <td>0585c8cfd651cb89b67e6f63029f01fdc5f2d0a45362df...</td>\n",
       "      <td>-3124.79</td>\n",
       "    </tr>\n",
       "    <tr>\n",
       "      <th>2964234</th>\n",
       "      <td>7d7b6542019589e7e721e95b99bbc86ada87578fff75f8...</td>\n",
       "      <td>-2911.86</td>\n",
       "    </tr>\n",
       "    <tr>\n",
       "      <th>5337377</th>\n",
       "      <td>e1dcadb1442658fd52c437d5bfc0dfc3aa60a42d177097...</td>\n",
       "      <td>-2707.35</td>\n",
       "    </tr>\n",
       "    <tr>\n",
       "      <th>3225499</th>\n",
       "      <td>88851768ffba852f103e207edcd169b098f34b5426c347...</td>\n",
       "      <td>-2540.30</td>\n",
       "    </tr>\n",
       "    <tr>\n",
       "      <th>2427378</th>\n",
       "      <td>66cd1b9cbe0d3c1c53a22a16756a344830094bc5b4ddc8...</td>\n",
       "      <td>-2475.02</td>\n",
       "    </tr>\n",
       "    <tr>\n",
       "      <th>3191362</th>\n",
       "      <td>8713e65772173d5ee7632d2b9321e0f89c83c03693a593...</td>\n",
       "      <td>-2400.66</td>\n",
       "    </tr>\n",
       "    <tr>\n",
       "      <th>556763</th>\n",
       "      <td>17a1bb7b12b2f504989dc0f89b904f8f56549d2b361381...</td>\n",
       "      <td>-2369.55</td>\n",
       "    </tr>\n",
       "    <tr>\n",
       "      <th>4464625</th>\n",
       "      <td>bcff165074e89e265b6b39245180238daab0bf7febaa33...</td>\n",
       "      <td>-2284.45</td>\n",
       "    </tr>\n",
       "    <tr>\n",
       "      <th>3981629</th>\n",
       "      <td>a887649fc02d9c0d93af6df14e28ca4bf10756b96a48fc...</td>\n",
       "      <td>-2032.96</td>\n",
       "    </tr>\n",
       "    <tr>\n",
       "      <th>4595120</th>\n",
       "      <td>c286967ba6cfaaf86f896c616cc2f5702e633c3f8821e3...</td>\n",
       "      <td>-1999.96</td>\n",
       "    </tr>\n",
       "    <tr>\n",
       "      <th>1484109</th>\n",
       "      <td>3ee668e7042d9e43a34b5564475601c8ccf38048f4924c...</td>\n",
       "      <td>-1996.70</td>\n",
       "    </tr>\n",
       "    <tr>\n",
       "      <th>1741605</th>\n",
       "      <td>49caeed35f75ec95bd9e948045074e7238264040b081f9...</td>\n",
       "      <td>-1992.76</td>\n",
       "    </tr>\n",
       "    <tr>\n",
       "      <th>1193339</th>\n",
       "      <td>3290783e03d3ddfe2b82ce3eaaa4e9242f5839a23b2059...</td>\n",
       "      <td>-1967.73</td>\n",
       "    </tr>\n",
       "    <tr>\n",
       "      <th>130346</th>\n",
       "      <td>058734ac134b5964860b94c6e4f7efb3b3ab0c2c8d81e9...</td>\n",
       "      <td>-1962.11</td>\n",
       "    </tr>\n",
       "    <tr>\n",
       "      <th>152554</th>\n",
       "      <td>067a53e665a25b5e9c86bbc7091fbb1893bfe5821cbb47...</td>\n",
       "      <td>-1958.00</td>\n",
       "    </tr>\n",
       "    <tr>\n",
       "      <th>913060</th>\n",
       "      <td>26ba3be605296dedd17679008bcd098cffe85548b48825...</td>\n",
       "      <td>-1946.98</td>\n",
       "    </tr>\n",
       "  </tbody>\n",
       "</table>\n",
       "</div>"
      ],
      "text/plain": [
       "                                        customer_id_hashed  \\\n",
       "4720026  c7cd02cc1bc4089a3c953859dc7a965236e4598ea98453...   \n",
       "4135653  af0b807e3e338513f8c00ade23149760c9eb5a12d8b55a...   \n",
       "2274884  6059a796b5abe534cbbe8fa280ae8ab689678806571fac...   \n",
       "3163802  85eb274aaa89d64f53c872b8a7941d20897df8f4df5602...   \n",
       "130202   0585c8cfd651cb89b67e6f63029f01fdc5f2d0a45362df...   \n",
       "2964234  7d7b6542019589e7e721e95b99bbc86ada87578fff75f8...   \n",
       "5337377  e1dcadb1442658fd52c437d5bfc0dfc3aa60a42d177097...   \n",
       "3225499  88851768ffba852f103e207edcd169b098f34b5426c347...   \n",
       "2427378  66cd1b9cbe0d3c1c53a22a16756a344830094bc5b4ddc8...   \n",
       "3191362  8713e65772173d5ee7632d2b9321e0f89c83c03693a593...   \n",
       "556763   17a1bb7b12b2f504989dc0f89b904f8f56549d2b361381...   \n",
       "4464625  bcff165074e89e265b6b39245180238daab0bf7febaa33...   \n",
       "3981629  a887649fc02d9c0d93af6df14e28ca4bf10756b96a48fc...   \n",
       "4595120  c286967ba6cfaaf86f896c616cc2f5702e633c3f8821e3...   \n",
       "1484109  3ee668e7042d9e43a34b5564475601c8ccf38048f4924c...   \n",
       "1741605  49caeed35f75ec95bd9e948045074e7238264040b081f9...   \n",
       "1193339  3290783e03d3ddfe2b82ce3eaaa4e9242f5839a23b2059...   \n",
       "130346   058734ac134b5964860b94c6e4f7efb3b3ab0c2c8d81e9...   \n",
       "152554   067a53e665a25b5e9c86bbc7091fbb1893bfe5821cbb47...   \n",
       "913060   26ba3be605296dedd17679008bcd098cffe85548b48825...   \n",
       "\n",
       "         total_transaction_amt  \n",
       "4720026               -4383.03  \n",
       "4135653               -4047.01  \n",
       "2274884               -3354.96  \n",
       "3163802               -3326.01  \n",
       "130202                -3124.79  \n",
       "2964234               -2911.86  \n",
       "5337377               -2707.35  \n",
       "3225499               -2540.30  \n",
       "2427378               -2475.02  \n",
       "3191362               -2400.66  \n",
       "556763                -2369.55  \n",
       "4464625               -2284.45  \n",
       "3981629               -2032.96  \n",
       "4595120               -1999.96  \n",
       "1484109               -1996.70  \n",
       "1741605               -1992.76  \n",
       "1193339               -1967.73  \n",
       "130346                -1962.11  \n",
       "152554                -1958.00  \n",
       "913060                -1946.98  "
      ]
     },
     "execution_count": 36,
     "metadata": {},
     "output_type": "execute_result"
    }
   ],
   "source": [
    "rewards_sales_from_SP_2017Q2.groupby(['customer_id_hashed'])['total_transaction_amt'].sum().to_frame().reset_index().sort_values(['total_transaction_amt']).head(20)\n",
    "\n",
    "\n"
   ]
  },
  {
   "cell_type": "code",
   "execution_count": null,
   "metadata": {
    "collapsed": true
   },
   "outputs": [],
   "source": []
  },
  {
   "cell_type": "code",
   "execution_count": null,
   "metadata": {
    "collapsed": true
   },
   "outputs": [],
   "source": []
  },
  {
   "cell_type": "code",
   "execution_count": 18,
   "metadata": {
    "collapsed": true
   },
   "outputs": [],
   "source": [
    "existing_id_df_2018=rewards_sales_from_SP[['customer_id_hashed']].drop_duplicates()\n",
    "existing_id_df_2018['id_shopped_2018']=1\n",
    "existing_id_df_2017=rewards_sales_from_SP_2017Q2[['customer_id_hashed']].drop_duplicates()\n",
    "existing_id_df_2017['id_shopped_2017']=1\n",
    "\n",
    "existing_ind_df=pd.merge(existing_id_df_2018,existing_id_df_2017,on=\"customer_id_hashed\",how=\"outer\")\n",
    "existing_ind_df=existing_ind_df.fillna(0)\n",
    "existing_ind_df['both_existing']=existing_ind_df['id_shopped_2018']*existing_ind_df['id_shopped_2017']\n",
    "existing_ind_df['new_2018']=existing_ind_df['id_shopped_2018']-existing_ind_df['id_shopped_2017']\n",
    "existing_ind_df['new_2018']=np.where(existing_ind_df['new_2018']==1,1,0)\n",
    "existing_ind_df=existing_ind_df[['customer_id_hashed','both_existing','new_2018']]\n",
    "\n",
    "del existing_id_df_2018\n",
    "del existing_id_df_2017"
   ]
  },
  {
   "cell_type": "code",
   "execution_count": 25,
   "metadata": {
    "collapsed": true
   },
   "outputs": [],
   "source": [
    "rewards_sales_from_SP=pd.merge(rewards_sales_from_SP,existing_ind_df,on=\"customer_id_hashed\",how=\"left\")\n",
    "rewards_sales_from_SP=rewards_sales_from_SP.fillna(0)\n",
    "rewards_sales_from_SP_2017Q2=pd.merge(rewards_sales_from_SP_2017Q2,existing_ind_df,on=\"customer_id_hashed\",how=\"left\")\n",
    "rewards_sales_from_SP_2017Q2=rewards_sales_from_SP_2017Q2.fillna(0)\n",
    "\n",
    "rewards_sales_from_SP_existing=rewards_sales_from_SP[rewards_sales_from_SP['both_existing']==1]\n",
    "rewards_sales_from_SP_new=rewards_sales_from_SP[rewards_sales_from_SP['new_2018']==1]\n",
    "\n",
    "rewards_sales_from_SP_existing_2017=rewards_sales_from_SP_2017Q2[rewards_sales_from_SP_2017Q2['both_existing']==1]\n",
    "rewards_sales_from_SP_new_2017=rewards_sales_from_SP_2017Q2[rewards_sales_from_SP_2017Q2['new_2018']==1]\n",
    "\n",
    "rewards_by_store_Q2_sales_existing=rewards_sales_from_SP_existing.groupby(['location_id'])['total_transaction_amt'].sum().to_frame().reset_index()\n",
    "rewards_by_store_Q2_sales_existing=rewards_by_store_Q2_sales_existing.rename(columns={\"total_transaction_amt\":\"Q2_existing_rewards_sales_2018\"})\n",
    "rewards_by_store_Q2_trans_existing=rewards_sales_from_SP_existing.groupby(['location_id'])['total_transaction_amt'].count().to_frame().reset_index()\n",
    "rewards_by_store_Q2_trans_existing=rewards_by_store_Q2_trans_existing.rename(columns={\"total_transaction_amt\":\"Q2_existing_rewards_trans_2018\"})\n",
    "\n",
    "rewards_by_store_Q2_sales_existing_2017Q2=rewards_sales_from_SP_existing_2017.groupby(['location_id'])['total_transaction_amt'].sum().to_frame().reset_index()\n",
    "rewards_by_store_Q2_sales_existing_2017Q2=rewards_by_store_Q2_sales_existing_2017Q2.rename(columns={\"total_transaction_amt\":\"Q2_existing_rewards_sales_2017\"})\n",
    "rewards_by_store_Q2_trans_existing_2017Q2=rewards_sales_from_SP_existing_2017.groupby(['location_id'])['total_transaction_amt'].count().to_frame().reset_index()\n",
    "rewards_by_store_Q2_trans_existing_2017Q2=rewards_by_store_Q2_trans_existing_2017Q2.rename(columns={\"total_transaction_amt\":\"Q2_existing_rewards_trans_2017\"})\n",
    "\n",
    "rewards_by_store_Q2_sales_new=rewards_sales_from_SP_new.groupby(['location_id'])['total_transaction_amt'].sum().to_frame().reset_index()\n",
    "rewards_by_store_Q2_sales_new=rewards_by_store_Q2_sales_new.rename(columns={\"total_transaction_amt\":\"Q2_new_rewards_sales_2018\"})\n",
    "rewards_by_store_Q2_trans_new=rewards_sales_from_SP_new.groupby(['location_id'])['total_transaction_amt'].count().to_frame().reset_index()\n",
    "rewards_by_store_Q2_trans_new=rewards_by_store_Q2_trans_new.rename(columns={\"total_transaction_amt\":\"Q2_new_rewards_trans_2018\"})\n",
    "\n",
    "rewards_by_store_Q2_sales_new_2017Q2=rewards_sales_from_SP_new_2017.groupby(['location_id'])['total_transaction_amt'].sum().to_frame().reset_index()\n",
    "rewards_by_store_Q2_sales_new_2017Q2=rewards_by_store_Q2_sales_new_2017Q2.rename(columns={\"total_transaction_amt\":\"Q2_new_rewards_sales_2017\"})\n",
    "rewards_by_store_Q2_trans_new_2017Q2=rewards_sales_from_SP_new_2017.groupby(['location_id'])['total_transaction_amt'].count().to_frame().reset_index()\n",
    "rewards_by_store_Q2_trans_new_2017Q2=rewards_by_store_Q2_trans_new_2017Q2.rename(columns={\"total_transaction_amt\":\"Q2_new_rewards_trans_2017\"})\n",
    "\n",
    "\n",
    "del rewards_sales_from_SP['both_existing']\n",
    "del rewards_sales_from_SP['new_2018']\n",
    "\n",
    "del rewards_sales_from_SP_2017Q2['both_existing']\n",
    "del rewards_sales_from_SP_2017Q2['new_2018']"
   ]
  },
  {
   "cell_type": "code",
   "execution_count": 27,
   "metadata": {
    "collapsed": true
   },
   "outputs": [],
   "source": [
    "def unique_id_count(x):\n",
    "    y=len(set(x))\n",
    "    return y"
   ]
  },
  {
   "cell_type": "code",
   "execution_count": 28,
   "metadata": {
    "collapsed": true
   },
   "outputs": [],
   "source": [
    "rewards_by_store_Q2_unique_id_existing=rewards_sales_from_SP_existing.groupby(['location_id'])['customer_id_hashed'].agg(unique_id_count).to_frame().reset_index()\n",
    "rewards_by_store_Q2_unique_id_existing=rewards_by_store_Q2_unique_id_existing.rename(columns={\"customer_id_hashed\":\"Q2_existing_id_counts_2018\"})\n",
    "rewards_by_store_Q2_unique_id_existing_2017=rewards_sales_from_SP_existing_2017.groupby(['location_id'])['customer_id_hashed'].agg(unique_id_count).to_frame().reset_index()\n",
    "rewards_by_store_Q2_unique_id_existing_2017=rewards_by_store_Q2_unique_id_existing_2017.rename(columns={\"customer_id_hashed\":\"Q2_existing_id_counts_2017\"})\n",
    "\n",
    "rewards_by_store_Q2_unique_id_new=rewards_sales_from_SP_new.groupby(['location_id'])['customer_id_hashed'].agg(unique_id_count).to_frame().reset_index()\n",
    "rewards_by_store_Q2_unique_id_new=rewards_by_store_Q2_unique_id_new.rename(columns={\"customer_id_hashed\":\"Q2_new_id_counts_2018\"})\n",
    "rewards_by_store_Q2_unique_id_new_2017=rewards_sales_from_SP_new_2017.groupby(['location_id'])['customer_id_hashed'].agg(unique_id_count).to_frame().reset_index()\n",
    "rewards_by_store_Q2_unique_id_new_2017=rewards_by_store_Q2_unique_id_new_2017.rename(columns={\"customer_id_hashed\":\"Q2_new_id_counts_2017\"})\n"
   ]
  },
  {
   "cell_type": "code",
   "execution_count": 31,
   "metadata": {
    "collapsed": true
   },
   "outputs": [],
   "source": [
    "df_5=pd.merge(df_5,rewards_by_store_Q2_sales_existing,on=\"location_id\",how=\"left\")\n",
    "df_5=pd.merge(df_5,rewards_by_store_Q2_trans_existing,on=\"location_id\",how=\"left\")\n",
    "df_5=pd.merge(df_5,rewards_by_store_Q2_sales_existing_2017Q2,on=\"location_id\",how=\"left\")\n",
    "df_5=pd.merge(df_5,rewards_by_store_Q2_trans_existing_2017Q2,on=\"location_id\",how=\"left\")\n",
    "df_5=pd.merge(df_5,rewards_by_store_Q2_unique_id_existing,on=\"location_id\",how=\"left\")\n",
    "df_5=pd.merge(df_5,rewards_by_store_Q2_unique_id_existing_2017,on=\"location_id\",how=\"left\")\n",
    "\n",
    "df_5=pd.merge(df_5,rewards_by_store_Q2_sales_new,on=\"location_id\",how=\"left\")\n",
    "df_5=pd.merge(df_5,rewards_by_store_Q2_trans_new,on=\"location_id\",how=\"left\")\n",
    "df_5=pd.merge(df_5,rewards_by_store_Q2_sales_new_2017Q2,on=\"location_id\",how=\"left\")\n",
    "df_5=pd.merge(df_5,rewards_by_store_Q2_trans_new_2017Q2,on=\"location_id\",how=\"left\")\n",
    "df_5=pd.merge(df_5,rewards_by_store_Q2_unique_id_new,on=\"location_id\",how=\"left\")\n",
    "df_5=pd.merge(df_5,rewards_by_store_Q2_unique_id_new_2017,on=\"location_id\",how=\"left\")\n"
   ]
  },
  {
   "cell_type": "markdown",
   "metadata": {},
   "source": [
    "# 7"
   ]
  },
  {
   "cell_type": "code",
   "execution_count": null,
   "metadata": {
    "collapsed": true
   },
   "outputs": [],
   "source": [
    "df_7=inclusion_stores_sales_data[['location_id']+Q2_2017_Weeks+Q2_2018_Weeks]\n",
    "for col in Q2_2018_Weeks:\n",
    "    week_2018=col\n",
    "    week_2017=str(datetime.datetime.strptime(col,\"%Y-%m-%d\").date()-datetime.timedelta(days=52*7))\n",
    "    df_7[\"YoY_\"+col]=np.round((df_7[week_2018]-df_7[week_2017])/df_7[week_2017],6)\n",
    "df_7=df_7[[\"location_id\"]+[\"YoY_\"+x for x in Q2_2018_Weeks]]\n",
    "\n",
    "# In[8]:\n",
    "\n",
    "store_level_output=pd.merge(df_1,df_2,on=\"location_id\",how=\"left\")\n",
    "store_level_output=pd.merge(store_level_output,df_3,on=\"location_id\",how=\"left\")\n",
    "store_level_output=pd.merge(store_level_output,df_4,on=\"location_id\",how=\"left\")\n",
    "store_level_output=pd.merge(store_level_output,df_5,on=\"location_id\",how=\"left\")\n",
    "store_level_output=pd.merge(store_level_output,df_7,on=\"location_id\",how=\"left\")\n",
    "\n",
    "\n",
    "# In[9]:\n",
    "\n",
    "store_level_output['Q2_rewards_sales_share_2018']=store_level_output['Q2_rewards_sales_2018']/store_level_output['2018_Q2_Sales']\n",
    "store_level_output['Q2_rewards_trans_share_2018']=store_level_output['Q2_rewards_trans_2018']/store_level_output['2018_Q2_Trans']\n",
    "\n",
    "store_level_output['Q2_rewards_sales_share_2017']=store_level_output['Q2_rewards_sales_2017']/store_level_output['2017_Q2_Sales']\n",
    "store_level_output['Q2_rewards_trans_share_2017']=store_level_output['Q2_rewards_trans_2017']/store_level_output['2017_Q2_Trans']\n",
    "\n",
    "\n"
   ]
  },
  {
   "cell_type": "markdown",
   "metadata": {},
   "source": [
    "# 8"
   ]
  },
  {
   "cell_type": "code",
   "execution_count": null,
   "metadata": {
    "collapsed": true
   },
   "outputs": [],
   "source": [
    "# New from YG request\n",
    "# Week by week of rewards members YoY"
   ]
  },
  {
   "cell_type": "code",
   "execution_count": null,
   "metadata": {
    "collapsed": true
   },
   "outputs": [],
   "source": [
    "count_k=0\n",
    "rewards_week_by_week=store_level_output[['location_id']]\n",
    "for week in Q2_2017_Weeks:\n",
    "    week_end=datetime.datetime.strptime(week,\"%Y-%m-%d\").date()\n",
    "    week_start=week_end-datetime.timedelta(days=6)\n",
    "    df=rewards_sales_from_SP_2017Q2[(rewards_sales_from_SP_2017Q2['transaction_date']>=week_start) &\\\n",
    "                                   (rewards_sales_from_SP_2017Q2['transaction_date']<=week_end)]\n",
    "    df=df.groupby(['location_id'])['total_transaction_amt'].sum().to_frame().reset_index()\n",
    "    df=df.rename(columns={\"total_transaction_amt\":\"Rewards_Sales_\"+week})\n",
    "    rewards_week_by_week=pd.merge(rewards_week_by_week,df,on=\"location_id\",how=\"left\")\n",
    "    \n",
    "    count_k+=1\n",
    "    print(count_k,week,datetime.datetime.now())"
   ]
  },
  {
   "cell_type": "code",
   "execution_count": null,
   "metadata": {
    "collapsed": true
   },
   "outputs": [],
   "source": [
    "count_k=0\n",
    "for week in Q2_2018_Weeks:\n",
    "    week_end=datetime.datetime.strptime(week,\"%Y-%m-%d\").date()\n",
    "    week_start=week_end-datetime.timedelta(days=6)\n",
    "    df=rewards_sales_from_SP[(rewards_sales_from_SP['transaction_date']>=week_start) &\\\n",
    "                                   (rewards_sales_from_SP['transaction_date']<=week_end)]\n",
    "    df=df.groupby(['location_id'])['total_transaction_amt'].sum().to_frame().reset_index()\n",
    "    df=df.rename(columns={\"total_transaction_amt\":\"Rewards_Sales_\"+week})\n",
    "    rewards_week_by_week=pd.merge(rewards_week_by_week,df,on=\"location_id\",how=\"left\")\n",
    "    \n",
    "    count_k+=1\n",
    "    print(count_k,week,datetime.datetime.now())"
   ]
  },
  {
   "cell_type": "code",
   "execution_count": null,
   "metadata": {
    "collapsed": true
   },
   "outputs": [],
   "source": [
    "selected_YoY=[\"location_id\"]\n",
    "for week in Q2_2018_Weeks:\n",
    "    col_2018=\"Rewards_Sales_\"+week\n",
    "    col_2017=\"Rewards_Sales_\"+str(datetime.datetime.strptime(week,\"%Y-%m-%d\").date()-datetime.timedelta(days=52*7))\n",
    "    new_col=\"Rewards_Sales_YoY_\"+week\n",
    "    rewards_week_by_week[new_col]=(rewards_week_by_week[col_2018]-rewards_week_by_week[col_2017])/rewards_week_by_week[col_2017]\n",
    "    selected_YoY=selected_YoY+[new_col]\n",
    "    \n",
    "df_8=rewards_week_by_week[selected_YoY] #df_8 not used, using the whole rewards_week_by_week"
   ]
  },
  {
   "cell_type": "code",
   "execution_count": null,
   "metadata": {
    "collapsed": true
   },
   "outputs": [],
   "source": [
    "store_level_output=pd.merge(store_level_output,rewards_week_by_week,on=\"location_id\",how=\"left\")"
   ]
  },
  {
   "cell_type": "markdown",
   "metadata": {},
   "source": [
    "# 9"
   ]
  },
  {
   "cell_type": "code",
   "execution_count": null,
   "metadata": {
    "collapsed": true
   },
   "outputs": [],
   "source": [
    "# Zip level\n",
    "del dfiddetail['sign_up_date']\n",
    "rewards_sales_from_SP=pd.merge(rewards_sales_from_SP,dfiddetail,on=\"customer_id_hashed\",how=\"left\")\n",
    "rewards_sales_from_SP['zip_cd']=rewards_sales_from_SP['zip_cd'].fillna(\"zip_missing\")\n",
    "\n",
    "Store_level_PST=pd.read_csv(\"/home/jian/Projects/Big_Lots/New_TA/zips_in_new_ta/sales_by_zip (Store level).csv\",dtype=str)\n",
    "Store_level_PST=Store_level_PST[Store_level_PST['location_id'].isin(inclusion_store_list_set)]\n",
    "\n",
    "Store_level_P_Zips=Store_level_PST[Store_level_PST['revenue_flag']==\"P\"].groupby(['location_id'])['zip'].apply(set).to_frame().reset_index()\n",
    "Store_level_S_Zips=Store_level_PST[Store_level_PST['revenue_flag']==\"S\"].groupby(['location_id'])['zip'].apply(set).to_frame().reset_index()\n",
    "Store_level_T_Zips=Store_level_PST[Store_level_PST['revenue_flag']==\"T\"].groupby(['location_id'])['zip'].apply(set).to_frame().reset_index()\n",
    "\n",
    "Store_level_P_Zips_Dict=Store_level_P_Zips.set_index(['location_id']).to_dict()['zip']\n",
    "Store_level_S_Zips_Dict=Store_level_S_Zips.set_index(['location_id']).to_dict()['zip']\n",
    "Store_level_T_Zips_Dict=Store_level_T_Zips.set_index(['location_id']).to_dict()['zip']\n",
    "\n",
    "store_list_with_PST=Store_level_PST['location_id'].unique().tolist()\n",
    "\n",
    "\n",
    "df_SP_July_Decile=pd.read_csv(\"/home/jian/Projects/Big_Lots/Loyal_members/Segment_Movement_analysis/Data_From_Sp/df_crm_finalscore_0714data.csv\",\n",
    "                              dtype=str,usecols=['customer_id_hashed','frmindex','zipcodegroup','customer_zip_code'])\n",
    "df_SP_July_Decile=df_SP_July_Decile.drop_duplicates(['customer_id_hashed'])\n",
    "decile_list=df_SP_July_Decile['frmindex'].unique().tolist()\n",
    "len(df_SP_July_Decile['customer_id_hashed'].unique())\n",
    "\n",
    "\n",
    "# In[16]:\n",
    "\n",
    "dfiddetail=pd.merge(dfiddetail,df_SP_July_Decile[['customer_id_hashed','frmindex']],on=\"customer_id_hashed\",how=\"left\")\n",
    "dfiddetail_id_count_by_signup_zip_decile=dfiddetail.groupby(['sign_up_location','zip_cd','frmindex'])['customer_id_hashed'].count().to_frame().reset_index()\n",
    "dfiddetail_id_count_by_signup_zip_decile=dfiddetail_id_count_by_signup_zip_decile.rename(columns={\"customer_id_hashed\":\"id_count\"})\n",
    "\n",
    "\n",
    "# In[17]:\n",
    "\n",
    "rewards_sales_by_store=rewards_sales_from_SP.groupby('location_id')['total_transaction_amt'].sum().to_frame().reset_index()\n",
    "rewards_sales_by_store_dict=rewards_sales_by_store.set_index(['location_id']).to_dict()['total_transaction_amt']\n",
    "\n",
    "rewards_sales_by_customer_zip_store=rewards_sales_from_SP.groupby(['location_id','zip_cd'])['total_transaction_amt'].sum().to_frame().reset_index()\n",
    "rewards_trans_by_customer_zip_store=rewards_sales_from_SP.groupby(['location_id','zip_cd'])['total_transaction_amt'].count().to_frame().reset_index()\n",
    "\n",
    "sign_up_id_by_store_zip=dfiddetail.groupby(['sign_up_location','zip_cd'])['customer_id_hashed'].count().to_frame().reset_index()\n"
   ]
  },
  {
   "cell_type": "code",
   "execution_count": null,
   "metadata": {
    "collapsed": true
   },
   "outputs": [],
   "source": [
    "output_zip_level=pd.DataFrame()\n",
    "k=0\n",
    "for store in store_list_with_PST:\n",
    "    total_rewards_sales_store=rewards_sales_by_store_dict[store]\n",
    "    store_rewards_sales_by_customer_zip_store=rewards_sales_by_customer_zip_store[rewards_sales_by_customer_zip_store['location_id']==store]\n",
    "    store_rewards_trans_by_customer_zip_store=rewards_trans_by_customer_zip_store[rewards_trans_by_customer_zip_store['location_id']==store]\n",
    "    store_dfiddetail_id_count_by_signup_zip_decile=dfiddetail_id_count_by_signup_zip_decile[dfiddetail_id_count_by_signup_zip_decile['sign_up_location']==store]\n",
    "    store_sign_up_id_by_store_zip=sign_up_id_by_store_zip[sign_up_id_by_store_zip['sign_up_location']==store]\n",
    "    \n",
    "    for label in [\"P\",\"S\",\"T\"]:\n",
    "        zips_store_label=locals()[\"Store_level_\"+label+\"_Zips_Dict\"][store]\n",
    "        \n",
    "        id_count_store_label_all_zips=sign_up_id_by_zip[sign_up_id_by_zip['zip_cd'].isin(zips_store_label)]['customer_id_hashed'].sum()\n",
    "        id_count_store_label_store_only=store_sign_up_id_by_store_zip[store_sign_up_id_by_store_zip['zip_cd'].isin(zips_store_label)]['customer_id_hashed'].sum()\n",
    "        \n",
    "        sales_store_label=store_rewards_sales_by_customer_zip_store[store_rewards_sales_by_customer_zip_store['zip_cd'].isin(zips_store_label)]['total_transaction_amt'].sum()\n",
    "        trans_store_label=store_rewards_trans_by_customer_zip_store[store_rewards_trans_by_customer_zip_store['zip_cd'].isin(zips_store_label)]['total_transaction_amt'].sum()\n",
    "        \n",
    "        AOV_store_label=sales_store_label/trans_store_label\n",
    "        sales_share_label=sales_store_label/total_rewards_sales_store\n",
    "        \n",
    "        trans_to_id=trans_store_label/id_count_store_label_store_only\n",
    "        \n",
    "        for D_decile in decile_list:\n",
    "            locals()[D_decile+\"_store_label\"]=store_dfiddetail_id_count_by_signup_zip_decile[(store_dfiddetail_id_count_by_signup_zip_decile['frmindex']==D_decile) &                                                                                             (store_dfiddetail_id_count_by_signup_zip_decile['zip_cd'].isin(zips_store_label))]['id_count'].sum()\n",
    "            \n",
    "        locals()['df_app_'+label]=pd.DataFrame({\"location_id\":store,label+\"_id_counts\":id_count_store_label_all_zips,\n",
    "                                                label+\"_id_counts_singed_store\":id_count_store_label_store_only,label+\"_sales_share\":sales_share_label,\n",
    "                                                label+\"_AOV\":AOV_store_label,label+\"_trans_per_id_avg\":trans_to_id,\n",
    "                                                label+\"_D1\":locals()[\"D01_store_label\"],label+\"_D2\":locals()[\"D02_store_label\"],\n",
    "                                                label+\"_D3\":locals()[\"D03_store_label\"],label+\"_D4\":locals()[\"D04_store_label\"],\n",
    "                                                label+\"_D5\":locals()[\"D05_store_label\"],label+\"_D6\":locals()[\"D06_store_label\"],\n",
    "                                                label+\"_D7\":locals()[\"D07_store_label\"],label+\"_D8\":locals()[\"D08_store_label\"],\n",
    "                                                label+\"_D9\":locals()[\"D09_store_label\"],label+\"_D10\":locals()[\"D10_store_label\"],\n",
    "                                               },index=[store])\n",
    "    df_app_3_lable=pd.merge(df_app_P,df_app_S,on=\"location_id\",how=\"left\")\n",
    "    df_app_3_lable=pd.merge(df_app_3_lable,df_app_T,on=\"location_id\",how=\"left\")\n",
    "    df_app_3_lable=df_app_3_lable[['location_id','P_id_counts','P_id_counts_singed_store','P_sales_share','P_AOV','P_trans_per_id_avg','P_D1','P_D2','P_D3','P_D4','P_D5','P_D6','P_D7','P_D8','P_D9','P_D10',\n",
    "                                   'S_id_counts','S_id_counts_singed_store','S_sales_share','S_AOV','S_trans_per_id_avg','S_D1','S_D2','S_D3','S_D4','S_D5','S_D6','S_D7','S_D8','S_D9','S_D10',\n",
    "                                   'T_id_counts','T_id_counts_singed_store','T_sales_share','T_AOV','T_trans_per_id_avg','T_D1','T_D2','T_D3','T_D4','T_D5','T_D6','T_D7','T_D8','T_D9','T_D10']]\n",
    "    output_zip_level=output_zip_level.append(df_app_3_lable)\n",
    "    k+=1\n",
    "    if k %100==1:\n",
    "        print(store,datetime.datetime.now())\n",
    "        logging.info(str(k)+\"|\"+store+\"|\"+str(datetime.datetime.now()))\n",
    "\n",
    "    if k %100==23:\n",
    "        print(store,datetime.datetime.now())\n",
    "        logging.info(str(k)+\"|\"+store+\"|\"+str(datetime.datetime.now()))"
   ]
  },
  {
   "cell_type": "markdown",
   "metadata": {},
   "source": [
    "# All_Rewards_regardless_of_Zips_New_Columns\n"
   ]
  },
  {
   "cell_type": "code",
   "execution_count": null,
   "metadata": {
    "collapsed": true
   },
   "outputs": [],
   "source": [
    "def unique_id_count(x):\n",
    "    y=len(set(x))\n",
    "    return y\n",
    "    \n",
    "Sep_12_new_request=rewards_sales_from_SP.groupby(['location_id'])['customer_id_hashed'].apply(unique_id_count).to_frame().reset_index()\n",
    "Sep_12_new_request=Sep_12_new_request.rename(columns={\"customer_id_hashed\":\"2018_Q2_rewards_id_shopped\"})\n",
    "\n",
    "Sep_12_new_request_2017=rewards_sales_from_SP_2017Q2.groupby(['location_id'])['customer_id_hashed'].apply(unique_id_count).to_frame().reset_index()\n",
    "Sep_12_new_request_2017=Sep_12_new_request_2017.rename(columns={\"customer_id_hashed\":\"2017_Q2_rewards_id_shopped\"})\n",
    "\n",
    "Sep_12_new_request=pd.merge(Sep_12_new_request,Sep_12_new_request_2017,on=\"location_id\",how=\"left\")\n",
    "Sep_12_new_request['Q2_rewards_trans_per_id']=np.nan\n",
    "\n",
    "# In[61]:\n",
    "\n",
    "rewards_sales_from_SP_Decile=rewards_sales_from_SP[['customer_id_hashed','location_id']].drop_duplicates()\n",
    "sp_decile=df_SP_July_Decile[['customer_id_hashed','frmindex']]\n",
    "rewards_sales_from_SP_Decile=pd.merge(rewards_sales_from_SP_Decile,sp_decile,on=\"customer_id_hashed\",how=\"left\")\n",
    "\n",
    "\n",
    "# In[66]:\n",
    "\n",
    "count_k=0\n",
    "Sep_12_new_request_Decile=pd.DataFrame()\n",
    "for store,group in rewards_sales_from_SP_Decile.groupby(['location_id']):\n",
    "    for i in range(10):\n",
    "        frmindex_str=\"D\"+str(i+1).zfill(2)\n",
    "        locals()[frmindex_str]=len(group[group['frmindex']==frmindex_str])\n",
    "    df_app=pd.DataFrame({\"location_id\":store,\"D01_July\":D01,\"D02_July\":D02,\"D03_July\":D03,\"D04_July\":D04,\"D05_July\":D05,\n",
    "                        \"D06_July\":D06,\"D07_July\":D07,\"D08_July\":D08,\"D09_July\":D09,\"D10_July\":D10},index=[store])\n",
    "    Sep_12_new_request_Decile=Sep_12_new_request_Decile.append(df_app)\n",
    "    count_k+=1\n",
    "    if count_k %100==1:\n",
    "        print(count_k,store,datetime.datetime.now())\n",
    "        logging.info(str(count_k)+\"|\"+store+\"|\"+str(datetime.datetime.now()))\n",
    "\n",
    "    if count_k %100==23:\n",
    "        print(count_k,store,datetime.datetime.now())\n",
    "        logging.info(str(count_k)+\"|\"+store+\"|\"+str(datetime.datetime.now()))\n",
    "        \n",
    "    \n",
    "Sep_12_new_request=pd.merge(Sep_12_new_request,Sep_12_new_request_Decile,on=\"location_id\",how=\"left\")\n",
    "\n",
    "logging.info(\"Done of the new request | \"+str(datetime.datetime.now()))\n"
   ]
  },
  {
   "cell_type": "code",
   "execution_count": null,
   "metadata": {
    "collapsed": true
   },
   "outputs": [],
   "source": [
    "'''\n",
    "# QC\n",
    "rewards_sales_from_SP=pd.read_csv(\"/home/jian/Projects/Big_Lots/Loyal_members/loyalty_sales_data/From_Sp/combinedtransactions_0811.csv\",\n",
    "                                 dtype=str,nrows=samplerows,usecols=['customer_id_hashed','transaction_date','transaction_id','location_id','total_transaction_amt'])\n",
    "rewards_sales_from_SP=rewards_sales_from_SP[rewards_sales_from_SP['location_id'].isin(inclusion_store_list_set)]\n",
    "rewards_sales_from_SP['transaction_date']=rewards_sales_from_SP['transaction_date'].apply(lambda x: datetime.datetime.strptime(x,\"%Y-%m-%d\").date())\n",
    "'''"
   ]
  },
  {
   "cell_type": "code",
   "execution_count": null,
   "metadata": {
    "collapsed": true
   },
   "outputs": [],
   "source": []
  },
  {
   "cell_type": "code",
   "execution_count": null,
   "metadata": {
    "collapsed": true
   },
   "outputs": [],
   "source": [
    "rewards_sales_from_SP_2017Q2['transaction_date'].unique()"
   ]
  },
  {
   "cell_type": "code",
   "execution_count": null,
   "metadata": {
    "collapsed": true
   },
   "outputs": [],
   "source": [
    "df_qc=rewards_sales_from_SP_2017Q2[rewards_sales_from_SP_2017Q2['location_id']==\"1553\"]"
   ]
  },
  {
   "cell_type": "code",
   "execution_count": null,
   "metadata": {
    "collapsed": true
   },
   "outputs": [],
   "source": [
    "df_qc=df_qc.drop_duplicates()"
   ]
  },
  {
   "cell_type": "code",
   "execution_count": null,
   "metadata": {
    "collapsed": true
   },
   "outputs": [],
   "source": [
    "df_qc.head(2)"
   ]
  },
  {
   "cell_type": "code",
   "execution_count": null,
   "metadata": {
    "collapsed": true
   },
   "outputs": [],
   "source": [
    "df_qc['total_transaction_amt'].astype(float).sum()"
   ]
  },
  {
   "cell_type": "code",
   "execution_count": null,
   "metadata": {
    "collapsed": true
   },
   "outputs": [],
   "source": [
    "1+1"
   ]
  },
  {
   "cell_type": "code",
   "execution_count": null,
   "metadata": {
    "collapsed": true
   },
   "outputs": [],
   "source": []
  },
  {
   "cell_type": "code",
   "execution_count": null,
   "metadata": {
    "collapsed": true
   },
   "outputs": [],
   "source": []
  },
  {
   "cell_type": "code",
   "execution_count": null,
   "metadata": {
    "collapsed": true
   },
   "outputs": [],
   "source": []
  },
  {
   "cell_type": "markdown",
   "metadata": {},
   "source": [
    "# Final_Output"
   ]
  },
  {
   "cell_type": "code",
   "execution_count": 19,
   "metadata": {
    "collapsed": true
   },
   "outputs": [],
   "source": [
    "final_output=pd.merge(store_level_output,output_zip_level,on=\"location_id\",how=\"left\")\n",
    "logging.info(\"Merge1 | \"+str(datetime.datetime.now()))\n",
    "final_output=pd.merge(final_output,Sep_12_new_request,on=\"location_id\",how=\"left\")\n",
    "logging.info(\"Merge2 | \"+str(datetime.datetime.now()))\n",
    "final_output['Q2_rewards_AOV_2018']=final_output['Q2_rewards_sales_2018']/final_output['Q2_rewards_trans_2018']\n",
    "logging.info(\"3 | \"+str(datetime.datetime.now()))\n",
    "final_output['Q2_rewards_trans_per_id']=final_output['Q2_rewards_trans_2018']/final_output['2018_Q2_rewards_id_shopped']\n",
    "logging.info(\"4 | \"+str(datetime.datetime.now()))\n",
    "\n"
   ]
  },
  {
   "cell_type": "code",
   "execution_count": null,
   "metadata": {
    "collapsed": true
   },
   "outputs": [],
   "source": []
  },
  {
   "cell_type": "code",
   "execution_count": 20,
   "metadata": {
    "collapsed": true
   },
   "outputs": [],
   "source": [
    "sales_weekly=pd.read_excel(\"/home/jian/BiglotsCode/outputs/Output_2018-09-08/wide_sales_date2018-09-08.xlsx\",\n",
    "                          dtype=str,sheetname=\"sales\")\n",
    "sales_weekly=sales_weekly[['location_id']+Q2_2017_Weeks+Q2_2018_Weeks]\n",
    "for col in sales_weekly.columns.tolist()[1:]:\n",
    "    sales_weekly[col]=sales_weekly[col].astype(float)"
   ]
  },
  {
   "cell_type": "code",
   "execution_count": 21,
   "metadata": {
    "collapsed": true
   },
   "outputs": [],
   "source": [
    "sales_weekly['inclusion_index']=np.where(((sales_weekly['2017-05-13']>0) &\\\n",
    "                                          (sales_weekly['2017-05-20']>0) &\\\n",
    "                                          (sales_weekly['2017-05-27']>0) &\\\n",
    "                                          (sales_weekly['2017-06-03']>0) &\\\n",
    "                                          (sales_weekly['2017-06-10']>0) &\\\n",
    "                                          (sales_weekly['2017-06-17']>0) &\\\n",
    "                                          (sales_weekly['2017-06-24']>0) &\\\n",
    "                                          (sales_weekly['2017-07-01']>0) &\\\n",
    "                                          (sales_weekly['2017-07-08']>0) &\\\n",
    "                                          (sales_weekly['2017-07-15']>0) &\\\n",
    "                                          (sales_weekly['2017-07-22']>0) &\\\n",
    "                                          (sales_weekly['2017-07-29']>0) &\\\n",
    "                                          (sales_weekly['2017-08-05']>0) &\\\n",
    "                                          (sales_weekly['2018-05-12']>0) &\\\n",
    "                                          (sales_weekly['2018-05-19']>0) &\\\n",
    "                                          (sales_weekly['2018-05-26']>0) &\\\n",
    "                                          (sales_weekly['2018-06-02']>0) &\\\n",
    "                                          (sales_weekly['2018-06-09']>0) &\\\n",
    "                                          (sales_weekly['2018-06-16']>0) &\\\n",
    "                                          (sales_weekly['2018-06-23']>0) &\\\n",
    "                                          (sales_weekly['2018-06-30']>0) &\\\n",
    "                                          (sales_weekly['2018-07-07']>0) &\\\n",
    "                                          (sales_weekly['2018-07-14']>0) &\\\n",
    "                                          (sales_weekly['2018-07-21']>0) &\\\n",
    "                                          (sales_weekly['2018-07-28']>0) &\\\n",
    "                                          (sales_weekly['2018-08-04']>0)),1,0)\n",
    "sales_weekly_inclusion_df=sales_weekly[['location_id','inclusion_index']]"
   ]
  },
  {
   "cell_type": "code",
   "execution_count": 22,
   "metadata": {
    "collapsed": true
   },
   "outputs": [],
   "source": [
    "final_output=pd.merge(final_output,sales_weekly_inclusion_df,on=\"location_id\",how=\"left\")"
   ]
  },
  {
   "cell_type": "code",
   "execution_count": 23,
   "metadata": {
    "collapsed": true
   },
   "outputs": [],
   "source": [
    "final_output.to_csv(\"/home/jian/Projects/Big_Lots/Analysis/Store_Stats_201809/BL_Store_Rewards_Stats_JL_\"+str(datetime.datetime.now().date())+\".csv\",index=False)\n"
   ]
  },
  {
   "cell_type": "code",
   "execution_count": null,
   "metadata": {
    "collapsed": true
   },
   "outputs": [],
   "source": []
  },
  {
   "cell_type": "code",
   "execution_count": 24,
   "metadata": {
    "collapsed": true
   },
   "outputs": [],
   "source": [
    "writer=pd.ExcelWriter(\"/home/jian/Projects/Big_Lots/Analysis/Store_Stats_201809/BL_Store_Rewards_Stats_JL_\"+str(datetime.datetime.now().date())+\".xlsx\",engine=\"xlsxwriter\")"
   ]
  },
  {
   "cell_type": "code",
   "execution_count": 25,
   "metadata": {
    "collapsed": true
   },
   "outputs": [],
   "source": [
    "inclusion_df=final_output[final_output['inclusion_index']==1]\n",
    "exclusion_df=final_output[final_output['inclusion_index']==0]\n",
    "\n",
    "inclusion_df.to_excel(writer,\"inclusion\",index=False)\n",
    "exclusion_df.to_excel(writer,\"exclusion\",index=False)\n",
    "writer.save()"
   ]
  },
  {
   "cell_type": "code",
   "execution_count": null,
   "metadata": {
    "collapsed": true
   },
   "outputs": [],
   "source": []
  }
 ],
 "metadata": {
  "kernelspec": {
   "display_name": "Python 3",
   "language": "python",
   "name": "python3"
  },
  "language_info": {
   "codemirror_mode": {
    "name": "ipython",
    "version": 3
   },
   "file_extension": ".py",
   "mimetype": "text/x-python",
   "name": "python",
   "nbconvert_exporter": "python",
   "pygments_lexer": "ipython3",
   "version": "3.6.1"
  }
 },
 "nbformat": 4,
 "nbformat_minor": 2
}
