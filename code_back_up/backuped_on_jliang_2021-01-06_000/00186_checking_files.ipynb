{
 "cells": [
  {
   "cell_type": "code",
   "execution_count": 9,
   "metadata": {},
   "outputs": [
    {
     "data": {
      "text/plain": [
       "'/home/jian/Projects/Big_Lots/Analysis/2019_Q3/Slice_ids_FB_Rewards_offers/ID_level_report_of_redeemers'"
      ]
     },
     "execution_count": 9,
     "metadata": {},
     "output_type": "execute_result"
    }
   ],
   "source": [
    "import pandas as pd\n",
    "import os\n",
    "import datetime\n",
    "import numpy as np\n",
    "import paramiko\n",
    "import glob\n",
    "os.getcwd()"
   ]
  },
  {
   "cell_type": "code",
   "execution_count": 2,
   "metadata": {
    "collapsed": true
   },
   "outputs": [],
   "source": [
    "host = \"64.237.51.251\" #hard-coded\n",
    "port = 22\n",
    "transport = paramiko.Transport((host, port))\n",
    "\n",
    "password = \"bwRi3V6fgZsfJrMl\" #hard-coded\n",
    "username = \"client\" #hard-coded\n",
    "transport.connect(username = username, password = password)\n",
    "sftp = paramiko.SFTPClient.from_transport(transport)"
   ]
  },
  {
   "cell_type": "code",
   "execution_count": 3,
   "metadata": {},
   "outputs": [],
   "source": [
    "remote_folder=\"/mnt/drv5/biglots_data/\"\n",
    "list_remote_basenames=sftp.listdir(remote_folder)\n",
    "\n",
    "remote_list=[]\n",
    "\n",
    "for file in list_remote_basenames:\n",
    "    if pd.to_datetime(sftp.stat(remote_folder+file).st_mtime,unit=\"s\").date()==datetime.date(2019,12,2):\n",
    "        remote_list.append(remote_folder+file)\n"
   ]
  },
  {
   "cell_type": "code",
   "execution_count": 4,
   "metadata": {},
   "outputs": [],
   "source": [
    "for remote_file in remote_list:\n",
    "    sftp.get(remote_file,\"./\"+os.path.basename(remote_file))"
   ]
  },
  {
   "cell_type": "code",
   "execution_count": 5,
   "metadata": {},
   "outputs": [],
   "source": [
    "sftp.close()"
   ]
  },
  {
   "cell_type": "code",
   "execution_count": 7,
   "metadata": {
    "collapsed": true
   },
   "outputs": [],
   "source": [
    "transport.close()"
   ]
  },
  {
   "cell_type": "code",
   "execution_count": 8,
   "metadata": {},
   "outputs": [
    {
     "data": {
      "text/plain": [
       "'/home/jian/Projects/Big_Lots/Analysis/2019_Q3/Slice_ids_FB_Rewards_offers/ID_level_report_of_redeemers'"
      ]
     },
     "execution_count": 8,
     "metadata": {},
     "output_type": "execute_result"
    }
   ],
   "source": [
    "local_folder=os.getcwd()\n",
    "local_folder"
   ]
  },
  {
   "cell_type": "code",
   "execution_count": 11,
   "metadata": {},
   "outputs": [
    {
     "name": "stdout",
     "output_type": "stream",
     "text": [
      "hash_full_file_redeemers_1201.zip (262870, 2)\n",
      "['hashed_customer_num', 'hashed_email_address']\n",
      "hash_control_1201.zip (53217, 2)\n",
      "['hashed_customer_num', 'hashed_email_address']\n",
      "hash_email_only.zip (15875958, 2)\n",
      "['hashed_customer_num', 'hashed_email_address']\n",
      "hash_facebook_email_1201.zip (6400000, 2)\n",
      "['hashed_customer_num', 'hashed_email_address']\n",
      "hash_facebook_only_1201.zip (500000, 2)\n",
      "['hashed_customer_num', 'hashed_email_address']\n"
     ]
    }
   ],
   "source": [
    "dict_all_dfs=dict()\n",
    "for file in glob.glob(local_folder+\"/*.zip\"):\n",
    "    df=pd.read_csv(file,dtype=str,sep=\"|\",compression=\"zip\")\n",
    "    print(os.path.basename(file),df.shape)\n",
    "    print(df.columns.tolist())\n",
    "    dict_all_dfs.update({os.path.basename(file):df})"
   ]
  },
  {
   "cell_type": "code",
   "execution_count": 8,
   "metadata": {},
   "outputs": [
    {
     "data": {
      "text/plain": [
       "(262870, 2)"
      ]
     },
     "execution_count": 8,
     "metadata": {},
     "output_type": "execute_result"
    }
   ],
   "source": [
    "df_redeemers.shape"
   ]
  },
  {
   "cell_type": "code",
   "execution_count": 13,
   "metadata": {},
   "outputs": [
    {
     "data": {
      "text/plain": [
       "53216"
      ]
     },
     "execution_count": 13,
     "metadata": {},
     "output_type": "execute_result"
    }
   ],
   "source": [
    "dict_all_dfs['hash_control_1201.zip']['hashed_email_address'].nunique()"
   ]
  },
  {
   "cell_type": "code",
   "execution_count": null,
   "metadata": {
    "collapsed": true
   },
   "outputs": [],
   "source": []
  }
 ],
 "metadata": {
  "kernelspec": {
   "display_name": "Python 3",
   "language": "python",
   "name": "python3"
  },
  "language_info": {
   "codemirror_mode": {
    "name": "ipython",
    "version": 3
   },
   "file_extension": ".py",
   "mimetype": "text/x-python",
   "name": "python",
   "nbconvert_exporter": "python",
   "pygments_lexer": "ipython3",
   "version": "3.6.1"
  }
 },
 "nbformat": 4,
 "nbformat_minor": 2
}
