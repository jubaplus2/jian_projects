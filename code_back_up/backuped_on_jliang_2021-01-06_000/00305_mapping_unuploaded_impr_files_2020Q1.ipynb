{
 "cells": [
  {
   "cell_type": "code",
   "execution_count": 1,
   "metadata": {},
   "outputs": [
    {
     "name": "stdout",
     "output_type": "stream",
     "text": [
      "2020-05-27 11:18:10.982909\n"
     ]
    },
    {
     "data": {
      "text/plain": [
       "(datetime.date(2020, 1, 1), datetime.date(2020, 5, 2))"
      ]
     },
     "execution_count": 1,
     "metadata": {},
     "output_type": "execute_result"
    }
   ],
   "source": [
    "# 2020-01-01 to 2020-05-02\n",
    "import pandas as pd\n",
    "import numpy as np\n",
    "import datetime\n",
    "import os\n",
    "import glob\n",
    "import gc\n",
    "print(datetime.datetime.now())\n",
    "\n",
    "\n",
    "date_start=datetime.date(2020,1,1)\n",
    "date_end=datetime.date(2020,5,2)\n",
    "date_start,date_end"
   ]
  },
  {
   "cell_type": "code",
   "execution_count": 5,
   "metadata": {},
   "outputs": [
    {
     "name": "stdout",
     "output_type": "stream",
     "text": [
      "711\n",
      "{'tsv'}\n",
      "(123, 2) 20200101 20200502 123\n"
     ]
    }
   ],
   "source": [
    "list_dcm_impr_logs=glob.glob(\"/home/jian/Projects/Big_Lots/Analysis/2019_Q4/Predictive_Model_Building/DCM_raw_logs_BL/impressions/*\")\n",
    "list_dcm_impr_logs=[x for x in list_dcm_impr_logs if \".\" in x]\n",
    "print(len(list_dcm_impr_logs))\n",
    "print(set([x.split(\".\")[1] for x in list_dcm_impr_logs]))\n",
    "list_dcm_impr_logs.sort()\n",
    "\n",
    "df_impr_dcm_logs=pd.DataFrame({\"file_path\":list_dcm_impr_logs})\n",
    "df_impr_dcm_logs['utc_date']=df_impr_dcm_logs['file_path'].apply(lambda x: x.split(\"impression_utc_\")[1][:8])\n",
    "df_impr_dcm_logs=df_impr_dcm_logs[df_impr_dcm_logs['utc_date']>=str(date_start).replace(\"-\",\"\")]\n",
    "df_impr_dcm_logs=df_impr_dcm_logs[df_impr_dcm_logs['utc_date']<=str(date_end).replace(\"-\",\"\")]\n",
    "\n",
    "print(df_impr_dcm_logs.shape,df_impr_dcm_logs['utc_date'].min(),df_impr_dcm_logs['utc_date'].max(),df_impr_dcm_logs['utc_date'].nunique())"
   ]
  },
  {
   "cell_type": "code",
   "execution_count": 7,
   "metadata": {},
   "outputs": [
    {
     "name": "stdout",
     "output_type": "stream",
     "text": [
      "10023\n",
      "{'tsv'}\n",
      "(115, 2) 20200101 20200502 115\n"
     ]
    }
   ],
   "source": [
    "list_lr_impr_returned=glob.glob(\"/home/jian/Projects/Big_Lots/Analysis/2019_Q4/Predictive_Model_Building/LR_returned_logs_BL/impressions/*\")\n",
    "print(len(list_lr_impr_returned))\n",
    "print(set([x.split(\".\")[1] for x in list_lr_impr_returned]))\n",
    "list_lr_impr_returned.sort()\n",
    "\n",
    "df_impr_lr_returned=pd.DataFrame({\"file_path\":list_lr_impr_returned})\n",
    "df_impr_lr_returned['utc_date']=df_impr_lr_returned['file_path'].apply(lambda x: x.split(\"account7252_impression_\")[1][:8])\n",
    "df_impr_lr_returned=df_impr_lr_returned[df_impr_lr_returned['utc_date']>=str(date_start).replace(\"-\",\"\")]\n",
    "df_impr_lr_returned=df_impr_lr_returned[df_impr_lr_returned['utc_date']<=str(date_end).replace(\"-\",\"\")]\n",
    "print(df_impr_lr_returned.shape,df_impr_lr_returned['utc_date'].min(),df_impr_lr_returned['utc_date'].max(),df_impr_lr_returned['utc_date'].nunique())\n",
    "\n"
   ]
  },
  {
   "cell_type": "code",
   "execution_count": 9,
   "metadata": {},
   "outputs": [
    {
     "name": "stdout",
     "output_type": "stream",
     "text": [
      "115\n"
     ]
    }
   ],
   "source": [
    "list_common_dates=set(df_impr_lr_returned['utc_date'].unique().tolist()).intersection(set(df_impr_dcm_logs['utc_date'].unique().tolist()))\n",
    "list_common_dates=list(list_common_dates)\n",
    "list_common_dates.sort()\n",
    "print(len(list_common_dates))"
   ]
  },
  {
   "cell_type": "code",
   "execution_count": 10,
   "metadata": {},
   "outputs": [],
   "source": [
    "writer_mapping=\"/home/jian/Projects/Big_Lots/Analysis/2019_Q4/Predictive_Model_Building/UID_IDL_mapping/\"\n",
    "try:\n",
    "    os.stat(writer_mapping)\n",
    "except:\n",
    "    os.mkdir(writer_mapping)"
   ]
  },
  {
   "cell_type": "code",
   "execution_count": 22,
   "metadata": {},
   "outputs": [
    {
     "name": "stdout",
     "output_type": "stream",
     "text": [
      "1 20200101 2020-05-27 12:47:46.801047\n",
      "2 20200102 2020-05-27 12:50:31.237499\n",
      "3 20200103 2020-05-27 12:50:49.983072\n",
      "4 20200104 2020-05-27 12:51:00.613941\n",
      "5 20200105 2020-05-27 12:51:08.776621\n",
      "6 20200106 2020-05-27 12:51:14.805848\n",
      "7 20200107 2020-05-27 12:51:20.795599\n",
      "8 20200108 2020-05-27 12:51:27.932580\n",
      "eof error, read only 10**4 rows\n",
      "9 20200109 2020-05-27 12:51:35.435896\n",
      "10 20200110 2020-05-27 12:51:50.102090\n",
      "11 20200111 2020-05-27 12:52:03.353488\n",
      "12 20200112 2020-05-27 12:52:15.582120\n",
      "13 20200113 2020-05-27 12:52:18.161264\n",
      "14 20200114 2020-05-27 12:52:19.214978\n",
      "15 20200115 2020-05-27 12:52:20.523161\n",
      "16 20200116 2020-05-27 12:52:38.245421\n",
      "17 20200117 2020-05-27 12:53:16.199873\n",
      "18 20200118 2020-05-27 12:53:48.679372\n",
      "19 20200119 2020-05-27 12:54:21.195014\n",
      "20 20200120 2020-05-27 12:55:00.138014\n",
      "21 20200121 2020-05-27 12:56:35.311797\n",
      "22 20200122 2020-05-27 12:56:37.927709\n",
      "23 20200130 2020-05-27 12:56:39.259817\n",
      "24 20200131 2020-05-27 12:56:40.559096\n",
      "25 20200202 2020-05-27 12:56:41.908908\n",
      "26 20200203 2020-05-27 12:56:46.953391\n",
      "27 20200204 2020-05-27 12:57:02.299125\n",
      "28 20200205 2020-05-27 12:57:21.536664\n",
      "29 20200206 2020-05-27 12:59:47.654352\n",
      "30 20200207 2020-05-27 13:00:19.669310\n",
      "31 20200208 2020-05-27 13:01:02.035489\n",
      "32 20200209 2020-05-27 13:01:25.232690\n",
      "33 20200210 2020-05-27 13:02:05.279719\n",
      "34 20200211 2020-05-27 13:03:57.696640\n",
      "35 20200212 2020-05-27 13:04:47.099212\n",
      "36 20200213 2020-05-27 13:06:16.991929\n",
      "37 20200214 2020-05-27 13:07:10.909937\n",
      "38 20200215 2020-05-27 13:08:20.715124\n",
      "39 20200216 2020-05-27 13:09:26.606530\n",
      "40 20200217 2020-05-27 13:10:37.339693\n",
      "41 20200218 2020-05-27 13:12:21.198566\n",
      "42 20200219 2020-05-27 13:13:55.027010\n",
      "43 20200220 2020-05-27 13:15:04.150118\n",
      "44 20200221 2020-05-27 13:15:55.761538\n",
      "45 20200222 2020-05-27 13:16:31.683000\n",
      "46 20200223 2020-05-27 13:16:59.541153\n",
      "47 20200224 2020-05-27 13:17:33.541883\n",
      "48 20200225 2020-05-27 13:18:04.251749\n",
      "49 20200226 2020-05-27 13:18:36.469429\n",
      "50 20200227 2020-05-27 13:19:08.809079\n",
      "51 20200228 2020-05-27 13:19:39.041261\n",
      "52 20200229 2020-05-27 13:20:09.208466\n",
      "53 20200301 2020-05-27 13:20:48.763000\n",
      "54 20200302 2020-05-27 13:21:12.443148\n",
      "55 20200303 2020-05-27 13:21:33.696528\n",
      "56 20200304 2020-05-27 13:21:57.159604\n",
      "57 20200305 2020-05-27 13:22:25.159217\n",
      "58 20200306 2020-05-27 13:22:50.631180\n",
      "59 20200307 2020-05-27 13:23:16.903128\n",
      "60 20200308 2020-05-27 13:23:43.724826\n",
      "61 20200309 2020-05-27 13:24:05.032214\n",
      "62 20200310 2020-05-27 13:24:26.938756\n",
      "63 20200311 2020-05-27 13:24:49.264187\n",
      "64 20200312 2020-05-27 13:25:11.920245\n",
      "65 20200313 2020-05-27 13:25:36.390923\n",
      "66 20200314 2020-05-27 13:26:02.446528\n",
      "67 20200315 2020-05-27 13:26:18.356680\n",
      "68 20200316 2020-05-27 13:26:35.824076\n",
      "69 20200317 2020-05-27 13:26:56.849670\n",
      "70 20200318 2020-05-27 13:27:17.529384\n",
      "71 20200319 2020-05-27 13:27:48.306490\n",
      "72 20200320 2020-05-27 13:28:15.208154\n",
      "73 20200321 2020-05-27 13:29:08.656048\n",
      "74 20200322 2020-05-27 13:29:47.438194\n",
      "75 20200323 2020-05-27 13:30:14.385541\n",
      "76 20200324 2020-05-27 13:30:43.064030\n",
      "77 20200325 2020-05-27 13:31:15.250889\n",
      "78 20200326 2020-05-27 13:31:48.694778\n",
      "79 20200327 2020-05-27 13:33:11.441981\n",
      "80 20200328 2020-05-27 13:34:23.093633\n",
      "81 20200329 2020-05-27 13:35:05.311943\n",
      "82 20200330 2020-05-27 13:36:01.035315\n",
      "83 20200331 2020-05-27 13:37:12.112233\n",
      "84 20200401 2020-05-27 13:37:59.657506\n",
      "85 20200402 2020-05-27 13:39:22.093832\n",
      "86 20200403 2020-05-27 13:40:11.868761\n",
      "87 20200404 2020-05-27 13:41:30.040297\n",
      "88 20200405 2020-05-27 13:42:04.828199\n",
      "89 20200406 2020-05-27 13:42:45.408210\n",
      "90 20200407 2020-05-27 13:43:34.253173\n",
      "91 20200408 2020-05-27 13:44:22.937865\n",
      "92 20200409 2020-05-27 13:45:28.635476\n",
      "93 20200410 2020-05-27 13:46:20.683149\n",
      "94 20200411 2020-05-27 13:46:50.759889\n",
      "95 20200412 2020-05-27 13:47:22.978736\n",
      "96 20200413 2020-05-27 13:47:52.743207\n",
      "97 20200414 2020-05-27 13:48:29.960145\n",
      "98 20200415 2020-05-27 13:49:53.089386\n",
      "99 20200416 2020-05-27 13:50:40.689147\n",
      "100 20200417 2020-05-27 13:51:21.786417\n",
      "101 20200418 2020-05-27 13:52:07.130503\n",
      "102 20200419 2020-05-27 13:52:51.949819\n",
      "103 20200420 2020-05-27 13:53:33.925078\n",
      "104 20200421 2020-05-27 13:54:16.953992\n",
      "105 20200422 2020-05-27 13:55:00.131833\n",
      "106 20200423 2020-05-27 13:56:10.249810\n",
      "107 20200424 2020-05-27 13:57:24.165496\n",
      "108 20200425 2020-05-27 13:58:52.823939\n",
      "109 20200426 2020-05-27 14:00:25.520526\n",
      "110 20200427 2020-05-27 14:01:59.842826\n",
      "111 20200428 2020-05-27 14:03:38.707458\n",
      "112 20200429 2020-05-27 14:05:12.071398\n",
      "113 20200430 2020-05-27 14:09:45.746936\n",
      "114 20200501 2020-05-27 14:13:32.853702\n",
      "115 20200502 2020-05-27 14:15:32.801757\n"
     ]
    },
    {
     "data": {
      "text/plain": [
       "0"
      ]
     },
     "execution_count": 22,
     "metadata": {},
     "output_type": "execute_result"
    }
   ],
   "source": [
    "df_uid_idl_mapping=pd.DataFrame()\n",
    "error_file_list_lr_returned=[]\n",
    "error_file_list_dcm_logs=[]\n",
    "i_counter=0\n",
    "for date in list_common_dates:\n",
    "    i_counter+=1\n",
    "    print(i_counter,date,datetime.datetime.now())\n",
    "    \n",
    "    df_lr_returned=pd.DataFrame()\n",
    "    df_dcm_logs=pd.DataFrame()\n",
    "    \n",
    "    file_list_lr=df_impr_lr_returned[df_impr_lr_returned['utc_date']==date]['file_path'].tolist()\n",
    "    file_list_dcm=df_impr_dcm_logs[df_impr_dcm_logs['utc_date']==date]['file_path'].tolist()\n",
    "    \n",
    "    for file in file_list_lr:\n",
    "        try:\n",
    "            df=pd.read_csv(file,dtype=str,sep=\"\\t\")\n",
    "            df=df[df['Advertiser ID']==\"8095847\"]\n",
    "            df_lr_returned=df_lr_returned.append(df)\n",
    "        except:\n",
    "            try:\n",
    "                print(\"eof error, read only 10**4 rows\")\n",
    "                df=pd.read_csv(file,dtype=str,sep=\"\\t\",nrows=10**4)\n",
    "                df=df[df['Advertiser ID']==\"8095847\"]\n",
    "                df_lr_returned=df_lr_returned.append(df)\n",
    "            except:\n",
    "                error_file_list_lr_returned.append(file)\n",
    "                print(\"error_file_list_lr_returned: \",file)\n",
    "    \n",
    "    for file in file_list_dcm:\n",
    "        try:\n",
    "            df=pd.read_csv(file,dtype=str,sep=\"\\t\")\n",
    "            df=df[df['Advertiser ID']==\"8095847\"]\n",
    "            df_dcm_logs=df_dcm_logs.append(df)\n",
    "        except:\n",
    "            error_file_list_dcm_logs.append(file)\n",
    "            print(\"error_file_list_dcm_logs: \",file)\n",
    "            \n",
    "        \n",
    "    merge_col_list=df_dcm_logs.columns.tolist()\n",
    "    for col in ['User ID', 'Partner1 ID',\"Partner2 ID\"]:\n",
    "        try:\n",
    "            merge_col_list.remove(col)\n",
    "        except:\n",
    "            pass\n",
    "    df_lr_returned=df_lr_returned[['Customer_Link']+merge_col_list]\n",
    "    df_lr_returned=df_lr_returned.drop_duplicates()\n",
    "\n",
    "    df_lr_returned=df_lr_returned[df_lr_returned['Customer_Link']!=\"UNMATCHED\"]\n",
    "    \n",
    "    df_dcm_logs=df_dcm_logs.drop_duplicates()\n",
    "    \n",
    "    df_mapping=pd.merge(df_dcm_logs,df_lr_returned,on=merge_col_list,how=\"inner\")\n",
    "    df_mapping=df_mapping[['Customer_Link','User ID']]\n",
    "    df_mapping['file_date']=date\n",
    "    \n",
    "    df_uid_idl_mapping=df_uid_idl_mapping.append(df_mapping)\n",
    "    df_uid_idl_mapping=df_uid_idl_mapping.drop_duplicates(['Customer_Link','User ID'])\n",
    "    \n",
    "\n",
    "date_min=df_uid_idl_mapping['file_date'].min()\n",
    "date_max=df_uid_idl_mapping['file_date'].max()\n",
    "\n",
    "df_uid_idl_mapping.to_csv(writer_mapping+\"BL_GoogleID_IDL_mapping_based_on_imrp_%s_%s_JL_%s.csv\" % (str(date_min),str(date_max),str(datetime.datetime.now().date())),index=False)\n",
    "gc.collect()"
   ]
  },
  {
   "cell_type": "code",
   "execution_count": 23,
   "metadata": {},
   "outputs": [
    {
     "name": "stdout",
     "output_type": "stream",
     "text": [
      "len(error_file_list_lr_returned) 0\n",
      "len(error_file_list_dcm_logs) 0\n"
     ]
    }
   ],
   "source": [
    "print(\"len(error_file_list_lr_returned)\",len(error_file_list_lr_returned))\n",
    "print(\"len(error_file_list_dcm_logs)\",len(error_file_list_dcm_logs))\n",
    "df_error_file_list_lr_returned=pd.DataFrame({\"file_path\":error_file_list_lr_returned})\n",
    "df_error_file_list_lr_returned.to_csv(writer_mapping+\"df_error_file_list_lr_returned.csv\",index=False)"
   ]
  },
  {
   "cell_type": "code",
   "execution_count": 24,
   "metadata": {},
   "outputs": [
    {
     "data": {
      "text/plain": [
       "(0, 2)"
      ]
     },
     "execution_count": 24,
     "metadata": {},
     "output_type": "execute_result"
    }
   ],
   "source": [
    "# looks all right since multiple files exising, and the errro is mostly about the header name\n",
    "df_impr_lr_returned[df_impr_lr_returned['utc_date']==\"20190321\"].shape"
   ]
  },
  {
   "cell_type": "code",
   "execution_count": 25,
   "metadata": {},
   "outputs": [
    {
     "data": {
      "text/plain": [
       "'/home/jian/Projects/Big_Lots/Analysis/2019_Q4/Predictive_Model_Building/UID_IDL_mapping/'"
      ]
     },
     "execution_count": 25,
     "metadata": {},
     "output_type": "execute_result"
    }
   ],
   "source": [
    "writer_mapping"
   ]
  },
  {
   "cell_type": "code",
   "execution_count": 26,
   "metadata": {},
   "outputs": [],
   "source": [
    "df_uid_idl_mapping_2020_impr=pd.read_csv(\"/home/jian/Projects/Big_Lots/Analysis/2019_Q4/Predictive_Model_Building/UID_IDL_mapping/BL_GoogleID_IDL_mapping_based_on_imrp_20200101_20200502_JL_2020-05-27.csv\",\n",
    "                               dtype=str)"
   ]
  },
  {
   "cell_type": "code",
   "execution_count": 27,
   "metadata": {},
   "outputs": [
    {
     "data": {
      "text/plain": [
       "(6778865, 3)"
      ]
     },
     "execution_count": 27,
     "metadata": {},
     "output_type": "execute_result"
    }
   ],
   "source": [
    "df_uid_idl_mapping_2020_impr.shape"
   ]
  },
  {
   "cell_type": "code",
   "execution_count": 28,
   "metadata": {},
   "outputs": [
    {
     "data": {
      "text/plain": [
       "114"
      ]
     },
     "execution_count": 28,
     "metadata": {},
     "output_type": "execute_result"
    }
   ],
   "source": [
    "df_uid_idl_mapping_2020_impr['file_date'].nunique()"
   ]
  },
  {
   "cell_type": "code",
   "execution_count": 29,
   "metadata": {},
   "outputs": [
    {
     "data": {
      "text/html": [
       "<div>\n",
       "<style scoped>\n",
       "    .dataframe tbody tr th:only-of-type {\n",
       "        vertical-align: middle;\n",
       "    }\n",
       "\n",
       "    .dataframe tbody tr th {\n",
       "        vertical-align: top;\n",
       "    }\n",
       "\n",
       "    .dataframe thead th {\n",
       "        text-align: right;\n",
       "    }\n",
       "</style>\n",
       "<table border=\"1\" class=\"dataframe\">\n",
       "  <thead>\n",
       "    <tr style=\"text-align: right;\">\n",
       "      <th></th>\n",
       "      <th>Customer_Link</th>\n",
       "      <th>User ID</th>\n",
       "      <th>file_date</th>\n",
       "    </tr>\n",
       "  </thead>\n",
       "  <tbody>\n",
       "    <tr>\n",
       "      <th>0</th>\n",
       "      <td>XY1468o1xIf7Jby50QJZZJVwoJ27BzXAi8uNgHxdHMJfL9RVQ</td>\n",
       "      <td>AMsySZa6UdLeYc7XcC9M7fcEXliW</td>\n",
       "      <td>20200101</td>\n",
       "    </tr>\n",
       "    <tr>\n",
       "      <th>1</th>\n",
       "      <td>XY1468VcODxZFpl4kAxJhAtPWHz38JU1XM_ff_o74EY9TzIns</td>\n",
       "      <td>AMsySZZaPfN25_zrxWNGzQprbByK</td>\n",
       "      <td>20200101</td>\n",
       "    </tr>\n",
       "  </tbody>\n",
       "</table>\n",
       "</div>"
      ],
      "text/plain": [
       "                                       Customer_Link  \\\n",
       "0  XY1468o1xIf7Jby50QJZZJVwoJ27BzXAi8uNgHxdHMJfL9RVQ   \n",
       "1  XY1468VcODxZFpl4kAxJhAtPWHz38JU1XM_ff_o74EY9TzIns   \n",
       "\n",
       "                        User ID file_date  \n",
       "0  AMsySZa6UdLeYc7XcC9M7fcEXliW  20200101  \n",
       "1  AMsySZZaPfN25_zrxWNGzQprbByK  20200101  "
      ]
     },
     "execution_count": 29,
     "metadata": {},
     "output_type": "execute_result"
    }
   ],
   "source": [
    "df_uid_idl_mapping_2020_impr.head(2)"
   ]
  },
  {
   "cell_type": "code",
   "execution_count": 30,
   "metadata": {},
   "outputs": [
    {
     "data": {
      "text/plain": [
       "5906890"
      ]
     },
     "execution_count": 30,
     "metadata": {},
     "output_type": "execute_result"
    }
   ],
   "source": [
    "df_uid_idl_mapping_2020_impr['Customer_Link'].nunique()"
   ]
  },
  {
   "cell_type": "code",
   "execution_count": 31,
   "metadata": {},
   "outputs": [
    {
     "data": {
      "text/plain": [
       "6722839"
      ]
     },
     "execution_count": 31,
     "metadata": {},
     "output_type": "execute_result"
    }
   ],
   "source": [
    "df_uid_idl_mapping_2020_impr['User ID'].nunique()"
   ]
  },
  {
   "cell_type": "code",
   "execution_count": null,
   "metadata": {},
   "outputs": [],
   "source": []
  }
 ],
 "metadata": {
  "kernelspec": {
   "display_name": "Python 3",
   "language": "python",
   "name": "python3"
  },
  "language_info": {
   "codemirror_mode": {
    "name": "ipython",
    "version": 3
   },
   "file_extension": ".py",
   "mimetype": "text/x-python",
   "name": "python",
   "nbconvert_exporter": "python",
   "pygments_lexer": "ipython3",
   "version": "3.6.1"
  }
 },
 "nbformat": 4,
 "nbformat_minor": 2
}
