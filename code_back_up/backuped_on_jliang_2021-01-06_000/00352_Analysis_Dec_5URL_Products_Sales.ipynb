{
 "cells": [
  {
   "cell_type": "code",
   "execution_count": 1,
   "metadata": {},
   "outputs": [
    {
     "data": {
      "text/plain": [
       "'/home/jian/Projects/Big_Lots/Analysis/2018_Q4/URL_Pages'"
      ]
     },
     "execution_count": 1,
     "metadata": {},
     "output_type": "execute_result"
    }
   ],
   "source": [
    "import pandas as pd\n",
    "import numpy as np\n",
    "import datetime\n",
    "import os\n",
    "import glob\n",
    "import gc\n",
    "gc.collect()\n",
    "os.getcwd()"
   ]
  },
  {
   "cell_type": "code",
   "execution_count": 2,
   "metadata": {},
   "outputs": [
    {
     "name": "stdout",
     "output_type": "stream",
     "text": [
      "Total Shoppers Dec_2017 to Nov_2018: 16635546\n"
     ]
    },
    {
     "data": {
      "text/plain": [
       "14"
      ]
     },
     "execution_count": 2,
     "metadata": {},
     "output_type": "execute_result"
    }
   ],
   "source": [
    "total_Dec17_Nov18_shoppers=pd.read_csv(\"/home/jian/Projects/Big_Lots/Analysis/2018_Q4/URL_Pages/RewardsShoppers_in_12_month_JL_2019-02-28.csv\",\n",
    "                                        usecols=[\"customer_id_hashed\"])\n",
    "total_Dec17_Nov18_shoppers=total_Dec17_Nov18_shoppers.drop_duplicates()\n",
    "print(\"Total Shoppers Dec_2017 to Nov_2018: \"+str(len(total_Dec17_Nov18_shoppers)))\n",
    "del total_Dec17_Nov18_shoppers\n",
    "gc.collect()"
   ]
  },
  {
   "cell_type": "code",
   "execution_count": null,
   "metadata": {
    "collapsed": true
   },
   "outputs": [],
   "source": []
  },
  {
   "cell_type": "code",
   "execution_count": 3,
   "metadata": {
    "collapsed": true
   },
   "outputs": [],
   "source": [
    "selected_cols=['Customer_Link',\n",
    " 'Event Time',\n",
    " 'Advertiser ID',\n",
    " 'Campaign ID',\n",
    " 'Ad ID',\n",
    " 'Rendering ID',\n",
    " 'Creative Version',\n",
    " 'Site ID (DCM)',\n",
    " 'Placement ID',\n",
    " 'Activity ID']"
   ]
  },
  {
   "cell_type": "code",
   "execution_count": 4,
   "metadata": {
    "collapsed": true
   },
   "outputs": [],
   "source": [
    "mapping_file_1=pd.read_table(\"/home/jian/Projects/Big_Lots/Analysis/2018_Q4/URL_Pages/mapping_files/CL_BigLots_dcm_account7252_activity_20181201_20181231_blDecTop5urls_20190129_135617_0000.tsv.gz\",compression=\"gzip\",sep=\"\\t\",usecols=selected_cols,dtype=str)\n",
    "mapping_file_2=pd.read_table(\"/home/jian/Projects/Big_Lots/Analysis/2018_Q4/URL_Pages/mapping_files/CL_BigLots_dcm_account7252_activity_20181201_20181231_blNotLR_DecTop5urls_20190222_160759_0000.tsv.gz\",compression=\"gzip\",sep=\"\\t\",usecols=selected_cols,dtype=str)\n",
    "mapping_file_3=pd.read_table(\"/home/jian/Projects/Big_Lots/Analysis/2018_Q4/URL_Pages/mapping_files/BL_top5URL_BigLots_LiveRamp_from_the_downloaded_folder_JL_2019-02-27.csv\",dtype=str,usecols=selected_cols,sep=\",\")\n",
    "\n"
   ]
  },
  {
   "cell_type": "code",
   "execution_count": 5,
   "metadata": {},
   "outputs": [
    {
     "name": "stdout",
     "output_type": "stream",
     "text": [
      "(1131856, 10)\n",
      "(1131855, 10)\n"
     ]
    }
   ],
   "source": [
    "mapping_file_all=mapping_file_1.append(mapping_file_2).append(mapping_file_3)\n",
    "print(mapping_file_all.shape)\n",
    "mapping_file_all=mapping_file_all.drop_duplicates()\n",
    "print(mapping_file_all.drop_duplicates().shape)\n",
    "\n"
   ]
  },
  {
   "cell_type": "code",
   "execution_count": 6,
   "metadata": {},
   "outputs": [
    {
     "data": {
      "text/plain": [
       "[nan, '8095847']"
      ]
     },
     "execution_count": 6,
     "metadata": {},
     "output_type": "execute_result"
    }
   ],
   "source": [
    "mapping_file_all['Advertiser ID'].unique().tolist()"
   ]
  },
  {
   "cell_type": "code",
   "execution_count": 7,
   "metadata": {},
   "outputs": [
    {
     "data": {
      "text/plain": [
       "1157"
      ]
     },
     "execution_count": 7,
     "metadata": {},
     "output_type": "execute_result"
    }
   ],
   "source": [
    "len(mapping_file_all['Placement ID'].unique().tolist())"
   ]
  },
  {
   "cell_type": "code",
   "execution_count": 8,
   "metadata": {
    "collapsed": true
   },
   "outputs": [],
   "source": [
    "mapping_file_all['DateTime']=mapping_file_all['Event Time'].astype(int)/1000000-5*60*60\n",
    "mapping_file_all['DateTime']=pd.to_datetime(mapping_file_all['DateTime'],unit='s')\n",
    "mapping_file_all=mapping_file_all[mapping_file_all['Customer_Link']!=\"UNMATCHED\"] # Filter out unmatched\n"
   ]
  },
  {
   "cell_type": "code",
   "execution_count": 9,
   "metadata": {
    "collapsed": true
   },
   "outputs": [],
   "source": [
    "all_rewards_mapping_Q4=pd.read_table(\"/home/jian/Projects/Big_Lots/Live_Ramp/Mapping_Files/2018_Q4/downloads_output/CL_BigLots_BL_mapping_file_2018Q4_JL_2019-02-01_20190207_025237_0000.psv.gz\",\n",
    "                                 sep=\"|\",dtype=str,usecols=['Customer_Link','customer_id_hashed'])\n",
    "all_rewards_mapping_Q4=all_rewards_mapping_Q4.drop_duplicates('Customer_Link')"
   ]
  },
  {
   "cell_type": "code",
   "execution_count": 10,
   "metadata": {},
   "outputs": [
    {
     "data": {
      "text/plain": [
       "23547622"
      ]
     },
     "execution_count": 10,
     "metadata": {},
     "output_type": "execute_result"
    }
   ],
   "source": [
    "len(all_rewards_mapping_Q4['customer_id_hashed'].unique().tolist())"
   ]
  },
  {
   "cell_type": "code",
   "execution_count": 11,
   "metadata": {
    "collapsed": true
   },
   "outputs": [],
   "source": [
    "mapping_file_all=pd.merge(mapping_file_all,all_rewards_mapping_Q4,on=\"Customer_Link\",how=\"left\")"
   ]
  },
  {
   "cell_type": "code",
   "execution_count": 12,
   "metadata": {},
   "outputs": [
    {
     "data": {
      "text/plain": [
       "(757705, 12)"
      ]
     },
     "execution_count": 12,
     "metadata": {},
     "output_type": "execute_result"
    }
   ],
   "source": [
    "mapping_file_all.shape"
   ]
  },
  {
   "cell_type": "code",
   "execution_count": 13,
   "metadata": {},
   "outputs": [
    {
     "data": {
      "text/html": [
       "<div>\n",
       "<style>\n",
       "    .dataframe thead tr:only-child th {\n",
       "        text-align: right;\n",
       "    }\n",
       "\n",
       "    .dataframe thead th {\n",
       "        text-align: left;\n",
       "    }\n",
       "\n",
       "    .dataframe tbody tr th {\n",
       "        vertical-align: top;\n",
       "    }\n",
       "</style>\n",
       "<table border=\"1\" class=\"dataframe\">\n",
       "  <thead>\n",
       "    <tr style=\"text-align: right;\">\n",
       "      <th></th>\n",
       "      <th>Customer_Link</th>\n",
       "      <th>Event Time</th>\n",
       "      <th>Advertiser ID</th>\n",
       "      <th>Campaign ID</th>\n",
       "      <th>Ad ID</th>\n",
       "      <th>Rendering ID</th>\n",
       "      <th>Creative Version</th>\n",
       "      <th>Site ID (DCM)</th>\n",
       "      <th>Placement ID</th>\n",
       "      <th>Activity ID</th>\n",
       "      <th>DateTime</th>\n",
       "      <th>customer_id_hashed</th>\n",
       "    </tr>\n",
       "  </thead>\n",
       "  <tbody>\n",
       "    <tr>\n",
       "      <th>0</th>\n",
       "      <td>XY1468I-HkyIq_no8POuQzTO4gsj19YCQyK9dOaRsfyeJhynE</td>\n",
       "      <td>1544663932493350</td>\n",
       "      <td>NaN</td>\n",
       "      <td>NaN</td>\n",
       "      <td>NaN</td>\n",
       "      <td>NaN</td>\n",
       "      <td>NaN</td>\n",
       "      <td>NaN</td>\n",
       "      <td>NaN</td>\n",
       "      <td>7945971</td>\n",
       "      <td>2018-12-12 20:18:52.493350000</td>\n",
       "      <td>NaN</td>\n",
       "    </tr>\n",
       "    <tr>\n",
       "      <th>1</th>\n",
       "      <td>XY14689w0AH6CfbBjcsehyBJpZtmgImzyf7c14bEk5syT0WZk</td>\n",
       "      <td>1544652622505450</td>\n",
       "      <td>NaN</td>\n",
       "      <td>NaN</td>\n",
       "      <td>NaN</td>\n",
       "      <td>NaN</td>\n",
       "      <td>NaN</td>\n",
       "      <td>NaN</td>\n",
       "      <td>NaN</td>\n",
       "      <td>7945971</td>\n",
       "      <td>2018-12-12 17:10:22.505449999</td>\n",
       "      <td>NaN</td>\n",
       "    </tr>\n",
       "    <tr>\n",
       "      <th>2</th>\n",
       "      <td>XY1468JEOdWHVMq58vSUZqgjICmL51gckvur1CNnvY3CxFz14</td>\n",
       "      <td>1544675498446709</td>\n",
       "      <td>NaN</td>\n",
       "      <td>NaN</td>\n",
       "      <td>NaN</td>\n",
       "      <td>NaN</td>\n",
       "      <td>NaN</td>\n",
       "      <td>NaN</td>\n",
       "      <td>NaN</td>\n",
       "      <td>7945980</td>\n",
       "      <td>2018-12-12 23:31:38.446709000</td>\n",
       "      <td>NaN</td>\n",
       "    </tr>\n",
       "  </tbody>\n",
       "</table>\n",
       "</div>"
      ],
      "text/plain": [
       "                                       Customer_Link        Event Time  \\\n",
       "0  XY1468I-HkyIq_no8POuQzTO4gsj19YCQyK9dOaRsfyeJhynE  1544663932493350   \n",
       "1  XY14689w0AH6CfbBjcsehyBJpZtmgImzyf7c14bEk5syT0WZk  1544652622505450   \n",
       "2  XY1468JEOdWHVMq58vSUZqgjICmL51gckvur1CNnvY3CxFz14  1544675498446709   \n",
       "\n",
       "  Advertiser ID Campaign ID Ad ID Rendering ID Creative Version Site ID (DCM)  \\\n",
       "0           NaN         NaN   NaN          NaN              NaN           NaN   \n",
       "1           NaN         NaN   NaN          NaN              NaN           NaN   \n",
       "2           NaN         NaN   NaN          NaN              NaN           NaN   \n",
       "\n",
       "  Placement ID Activity ID                      DateTime customer_id_hashed  \n",
       "0          NaN     7945971 2018-12-12 20:18:52.493350000                NaN  \n",
       "1          NaN     7945971 2018-12-12 17:10:22.505449999                NaN  \n",
       "2          NaN     7945980 2018-12-12 23:31:38.446709000                NaN  "
      ]
     },
     "execution_count": 13,
     "metadata": {},
     "output_type": "execute_result"
    }
   ],
   "source": [
    "mapping_file_all.head(3)"
   ]
  },
  {
   "cell_type": "code",
   "execution_count": 50,
   "metadata": {
    "collapsed": true
   },
   "outputs": [],
   "source": [
    "summary_by_site=mapping_file_all.groupby(['Activity ID','Campaign ID','Site ID (DCM)'])['Customer_Link'].apply(count_unique_counts).to_frame().reset_index()\n",
    "site_name=pd.read_csv(\"/home/jian/Projects/Big_Lots/Analysis/2018_Q4/URL_Pages/mapping_files/Site_Mapping_2018_Dec_only.csv\",dtype=str)\n",
    "summary_by_site=pd.merge(summary_by_site,site_name,on=\"Site ID (DCM)\",how=\"left\")"
   ]
  },
  {
   "cell_type": "code",
   "execution_count": 51,
   "metadata": {},
   "outputs": [
    {
     "data": {
      "text/html": [
       "<div>\n",
       "<style>\n",
       "    .dataframe thead tr:only-child th {\n",
       "        text-align: right;\n",
       "    }\n",
       "\n",
       "    .dataframe thead th {\n",
       "        text-align: left;\n",
       "    }\n",
       "\n",
       "    .dataframe tbody tr th {\n",
       "        vertical-align: top;\n",
       "    }\n",
       "</style>\n",
       "<table border=\"1\" class=\"dataframe\">\n",
       "  <thead>\n",
       "    <tr style=\"text-align: right;\">\n",
       "      <th></th>\n",
       "      <th>Activity ID</th>\n",
       "      <th>Campaign ID</th>\n",
       "      <th>Site ID (DCM)</th>\n",
       "      <th>Customer_Link</th>\n",
       "      <th>Site (DCM)</th>\n",
       "    </tr>\n",
       "  </thead>\n",
       "  <tbody>\n",
       "    <tr>\n",
       "      <th>0</th>\n",
       "      <td>7945971</td>\n",
       "      <td>20826194</td>\n",
       "      <td>3446099</td>\n",
       "      <td>5214</td>\n",
       "      <td>Criteo</td>\n",
       "    </tr>\n",
       "    <tr>\n",
       "      <th>1</th>\n",
       "      <td>7945971</td>\n",
       "      <td>20836313</td>\n",
       "      <td>1234535</td>\n",
       "      <td>44973</td>\n",
       "      <td>DART Search : Google</td>\n",
       "    </tr>\n",
       "    <tr>\n",
       "      <th>2</th>\n",
       "      <td>7945971</td>\n",
       "      <td>21219557</td>\n",
       "      <td>1284030</td>\n",
       "      <td>1</td>\n",
       "      <td>Pandora</td>\n",
       "    </tr>\n",
       "    <tr>\n",
       "      <th>3</th>\n",
       "      <td>7945971</td>\n",
       "      <td>21219557</td>\n",
       "      <td>2479413</td>\n",
       "      <td>332</td>\n",
       "      <td>The Trade Desk</td>\n",
       "    </tr>\n",
       "    <tr>\n",
       "      <th>4</th>\n",
       "      <td>7945971</td>\n",
       "      <td>21576806</td>\n",
       "      <td>1291657</td>\n",
       "      <td>1</td>\n",
       "      <td>Facebook</td>\n",
       "    </tr>\n",
       "    <tr>\n",
       "      <th>5</th>\n",
       "      <td>7945971</td>\n",
       "      <td>21629904</td>\n",
       "      <td>2479413</td>\n",
       "      <td>141</td>\n",
       "      <td>The Trade Desk</td>\n",
       "    </tr>\n",
       "    <tr>\n",
       "      <th>6</th>\n",
       "      <td>7945971</td>\n",
       "      <td>21653946</td>\n",
       "      <td>1291657</td>\n",
       "      <td>1</td>\n",
       "      <td>Facebook</td>\n",
       "    </tr>\n",
       "    <tr>\n",
       "      <th>7</th>\n",
       "      <td>7945971</td>\n",
       "      <td>21826343</td>\n",
       "      <td>1267626</td>\n",
       "      <td>1</td>\n",
       "      <td>Hulu.com</td>\n",
       "    </tr>\n",
       "    <tr>\n",
       "      <th>8</th>\n",
       "      <td>7945971</td>\n",
       "      <td>21826343</td>\n",
       "      <td>1271326</td>\n",
       "      <td>37</td>\n",
       "      <td>Tremor Video</td>\n",
       "    </tr>\n",
       "    <tr>\n",
       "      <th>9</th>\n",
       "      <td>7945971</td>\n",
       "      <td>21826343</td>\n",
       "      <td>1284030</td>\n",
       "      <td>28</td>\n",
       "      <td>Pandora</td>\n",
       "    </tr>\n",
       "    <tr>\n",
       "      <th>10</th>\n",
       "      <td>7945971</td>\n",
       "      <td>21826343</td>\n",
       "      <td>1300830</td>\n",
       "      <td>2</td>\n",
       "      <td>Spotify</td>\n",
       "    </tr>\n",
       "    <tr>\n",
       "      <th>11</th>\n",
       "      <td>7945971</td>\n",
       "      <td>21826343</td>\n",
       "      <td>2479413</td>\n",
       "      <td>2409</td>\n",
       "      <td>The Trade Desk</td>\n",
       "    </tr>\n",
       "    <tr>\n",
       "      <th>12</th>\n",
       "      <td>7945971</td>\n",
       "      <td>21916302</td>\n",
       "      <td>2710167</td>\n",
       "      <td>20</td>\n",
       "      <td>Facebook Inc – Instagram, LLC</td>\n",
       "    </tr>\n",
       "    <tr>\n",
       "      <th>13</th>\n",
       "      <td>7945971</td>\n",
       "      <td>21929494</td>\n",
       "      <td>1291657</td>\n",
       "      <td>2495</td>\n",
       "      <td>Facebook</td>\n",
       "    </tr>\n",
       "    <tr>\n",
       "      <th>14</th>\n",
       "      <td>7945971</td>\n",
       "      <td>21940307</td>\n",
       "      <td>4545142</td>\n",
       "      <td>1013</td>\n",
       "      <td>Pinterest Inc.</td>\n",
       "    </tr>\n",
       "    <tr>\n",
       "      <th>15</th>\n",
       "      <td>7945974</td>\n",
       "      <td>20826194</td>\n",
       "      <td>3446099</td>\n",
       "      <td>1623</td>\n",
       "      <td>Criteo</td>\n",
       "    </tr>\n",
       "    <tr>\n",
       "      <th>16</th>\n",
       "      <td>7945974</td>\n",
       "      <td>20836313</td>\n",
       "      <td>1234535</td>\n",
       "      <td>10703</td>\n",
       "      <td>DART Search : Google</td>\n",
       "    </tr>\n",
       "    <tr>\n",
       "      <th>17</th>\n",
       "      <td>7945974</td>\n",
       "      <td>21219557</td>\n",
       "      <td>1284030</td>\n",
       "      <td>1</td>\n",
       "      <td>Pandora</td>\n",
       "    </tr>\n",
       "    <tr>\n",
       "      <th>18</th>\n",
       "      <td>7945974</td>\n",
       "      <td>21219557</td>\n",
       "      <td>2479413</td>\n",
       "      <td>132</td>\n",
       "      <td>The Trade Desk</td>\n",
       "    </tr>\n",
       "    <tr>\n",
       "      <th>19</th>\n",
       "      <td>7945974</td>\n",
       "      <td>21629904</td>\n",
       "      <td>2479413</td>\n",
       "      <td>50</td>\n",
       "      <td>The Trade Desk</td>\n",
       "    </tr>\n",
       "    <tr>\n",
       "      <th>20</th>\n",
       "      <td>7945974</td>\n",
       "      <td>21826343</td>\n",
       "      <td>1271326</td>\n",
       "      <td>18</td>\n",
       "      <td>Tremor Video</td>\n",
       "    </tr>\n",
       "    <tr>\n",
       "      <th>21</th>\n",
       "      <td>7945974</td>\n",
       "      <td>21826343</td>\n",
       "      <td>1284030</td>\n",
       "      <td>12</td>\n",
       "      <td>Pandora</td>\n",
       "    </tr>\n",
       "    <tr>\n",
       "      <th>22</th>\n",
       "      <td>7945974</td>\n",
       "      <td>21826343</td>\n",
       "      <td>1300830</td>\n",
       "      <td>2</td>\n",
       "      <td>Spotify</td>\n",
       "    </tr>\n",
       "    <tr>\n",
       "      <th>23</th>\n",
       "      <td>7945974</td>\n",
       "      <td>21826343</td>\n",
       "      <td>2479413</td>\n",
       "      <td>872</td>\n",
       "      <td>The Trade Desk</td>\n",
       "    </tr>\n",
       "    <tr>\n",
       "      <th>24</th>\n",
       "      <td>7945974</td>\n",
       "      <td>21916302</td>\n",
       "      <td>2710167</td>\n",
       "      <td>4</td>\n",
       "      <td>Facebook Inc – Instagram, LLC</td>\n",
       "    </tr>\n",
       "    <tr>\n",
       "      <th>25</th>\n",
       "      <td>7945974</td>\n",
       "      <td>21929494</td>\n",
       "      <td>1291657</td>\n",
       "      <td>1243</td>\n",
       "      <td>Facebook</td>\n",
       "    </tr>\n",
       "    <tr>\n",
       "      <th>26</th>\n",
       "      <td>7945974</td>\n",
       "      <td>21940307</td>\n",
       "      <td>4545142</td>\n",
       "      <td>24</td>\n",
       "      <td>Pinterest Inc.</td>\n",
       "    </tr>\n",
       "    <tr>\n",
       "      <th>27</th>\n",
       "      <td>7945980</td>\n",
       "      <td>20826194</td>\n",
       "      <td>3446099</td>\n",
       "      <td>16223</td>\n",
       "      <td>Criteo</td>\n",
       "    </tr>\n",
       "    <tr>\n",
       "      <th>28</th>\n",
       "      <td>7945980</td>\n",
       "      <td>20836313</td>\n",
       "      <td>1234535</td>\n",
       "      <td>33282</td>\n",
       "      <td>DART Search : Google</td>\n",
       "    </tr>\n",
       "    <tr>\n",
       "      <th>29</th>\n",
       "      <td>7945980</td>\n",
       "      <td>20995271</td>\n",
       "      <td>1288991</td>\n",
       "      <td>1</td>\n",
       "      <td>The New York Times Company - NYTimes.com</td>\n",
       "    </tr>\n",
       "    <tr>\n",
       "      <th>...</th>\n",
       "      <td>...</td>\n",
       "      <td>...</td>\n",
       "      <td>...</td>\n",
       "      <td>...</td>\n",
       "      <td>...</td>\n",
       "    </tr>\n",
       "    <tr>\n",
       "      <th>36</th>\n",
       "      <td>7945980</td>\n",
       "      <td>21826343</td>\n",
       "      <td>1284030</td>\n",
       "      <td>42</td>\n",
       "      <td>Pandora</td>\n",
       "    </tr>\n",
       "    <tr>\n",
       "      <th>37</th>\n",
       "      <td>7945980</td>\n",
       "      <td>21826343</td>\n",
       "      <td>1300830</td>\n",
       "      <td>4</td>\n",
       "      <td>Spotify</td>\n",
       "    </tr>\n",
       "    <tr>\n",
       "      <th>38</th>\n",
       "      <td>7945980</td>\n",
       "      <td>21826343</td>\n",
       "      <td>2479413</td>\n",
       "      <td>6100</td>\n",
       "      <td>The Trade Desk</td>\n",
       "    </tr>\n",
       "    <tr>\n",
       "      <th>39</th>\n",
       "      <td>7945980</td>\n",
       "      <td>21916302</td>\n",
       "      <td>2710167</td>\n",
       "      <td>8</td>\n",
       "      <td>Facebook Inc – Instagram, LLC</td>\n",
       "    </tr>\n",
       "    <tr>\n",
       "      <th>40</th>\n",
       "      <td>7945980</td>\n",
       "      <td>21929494</td>\n",
       "      <td>1291657</td>\n",
       "      <td>3582</td>\n",
       "      <td>Facebook</td>\n",
       "    </tr>\n",
       "    <tr>\n",
       "      <th>41</th>\n",
       "      <td>7945980</td>\n",
       "      <td>21940307</td>\n",
       "      <td>4545142</td>\n",
       "      <td>95</td>\n",
       "      <td>Pinterest Inc.</td>\n",
       "    </tr>\n",
       "    <tr>\n",
       "      <th>42</th>\n",
       "      <td>8001451</td>\n",
       "      <td>20826194</td>\n",
       "      <td>3446099</td>\n",
       "      <td>3868</td>\n",
       "      <td>Criteo</td>\n",
       "    </tr>\n",
       "    <tr>\n",
       "      <th>43</th>\n",
       "      <td>8001451</td>\n",
       "      <td>20836313</td>\n",
       "      <td>1234535</td>\n",
       "      <td>16357</td>\n",
       "      <td>DART Search : Google</td>\n",
       "    </tr>\n",
       "    <tr>\n",
       "      <th>44</th>\n",
       "      <td>8001451</td>\n",
       "      <td>20995271</td>\n",
       "      <td>1288991</td>\n",
       "      <td>1</td>\n",
       "      <td>The New York Times Company - NYTimes.com</td>\n",
       "    </tr>\n",
       "    <tr>\n",
       "      <th>45</th>\n",
       "      <td>8001451</td>\n",
       "      <td>21219557</td>\n",
       "      <td>2479413</td>\n",
       "      <td>280</td>\n",
       "      <td>The Trade Desk</td>\n",
       "    </tr>\n",
       "    <tr>\n",
       "      <th>46</th>\n",
       "      <td>8001451</td>\n",
       "      <td>21629904</td>\n",
       "      <td>2479413</td>\n",
       "      <td>98</td>\n",
       "      <td>The Trade Desk</td>\n",
       "    </tr>\n",
       "    <tr>\n",
       "      <th>47</th>\n",
       "      <td>8001451</td>\n",
       "      <td>21826343</td>\n",
       "      <td>1267626</td>\n",
       "      <td>11</td>\n",
       "      <td>Hulu.com</td>\n",
       "    </tr>\n",
       "    <tr>\n",
       "      <th>48</th>\n",
       "      <td>8001451</td>\n",
       "      <td>21826343</td>\n",
       "      <td>1271326</td>\n",
       "      <td>207</td>\n",
       "      <td>Tremor Video</td>\n",
       "    </tr>\n",
       "    <tr>\n",
       "      <th>49</th>\n",
       "      <td>8001451</td>\n",
       "      <td>21826343</td>\n",
       "      <td>1284030</td>\n",
       "      <td>22</td>\n",
       "      <td>Pandora</td>\n",
       "    </tr>\n",
       "    <tr>\n",
       "      <th>50</th>\n",
       "      <td>8001451</td>\n",
       "      <td>21826343</td>\n",
       "      <td>1300830</td>\n",
       "      <td>1</td>\n",
       "      <td>Spotify</td>\n",
       "    </tr>\n",
       "    <tr>\n",
       "      <th>51</th>\n",
       "      <td>8001451</td>\n",
       "      <td>21826343</td>\n",
       "      <td>2479413</td>\n",
       "      <td>3278</td>\n",
       "      <td>The Trade Desk</td>\n",
       "    </tr>\n",
       "    <tr>\n",
       "      <th>52</th>\n",
       "      <td>8001451</td>\n",
       "      <td>21916302</td>\n",
       "      <td>2710167</td>\n",
       "      <td>10</td>\n",
       "      <td>Facebook Inc – Instagram, LLC</td>\n",
       "    </tr>\n",
       "    <tr>\n",
       "      <th>53</th>\n",
       "      <td>8001451</td>\n",
       "      <td>21929494</td>\n",
       "      <td>1291657</td>\n",
       "      <td>2038</td>\n",
       "      <td>Facebook</td>\n",
       "    </tr>\n",
       "    <tr>\n",
       "      <th>54</th>\n",
       "      <td>8001451</td>\n",
       "      <td>21940307</td>\n",
       "      <td>4545142</td>\n",
       "      <td>542</td>\n",
       "      <td>Pinterest Inc.</td>\n",
       "    </tr>\n",
       "    <tr>\n",
       "      <th>55</th>\n",
       "      <td>8001727</td>\n",
       "      <td>20826194</td>\n",
       "      <td>3446099</td>\n",
       "      <td>2383</td>\n",
       "      <td>Criteo</td>\n",
       "    </tr>\n",
       "    <tr>\n",
       "      <th>56</th>\n",
       "      <td>8001727</td>\n",
       "      <td>20836313</td>\n",
       "      <td>1234535</td>\n",
       "      <td>3056</td>\n",
       "      <td>DART Search : Google</td>\n",
       "    </tr>\n",
       "    <tr>\n",
       "      <th>57</th>\n",
       "      <td>8001727</td>\n",
       "      <td>20995271</td>\n",
       "      <td>1288991</td>\n",
       "      <td>1</td>\n",
       "      <td>The New York Times Company - NYTimes.com</td>\n",
       "    </tr>\n",
       "    <tr>\n",
       "      <th>58</th>\n",
       "      <td>8001727</td>\n",
       "      <td>21219557</td>\n",
       "      <td>2479413</td>\n",
       "      <td>116</td>\n",
       "      <td>The Trade Desk</td>\n",
       "    </tr>\n",
       "    <tr>\n",
       "      <th>59</th>\n",
       "      <td>8001727</td>\n",
       "      <td>21629904</td>\n",
       "      <td>2479413</td>\n",
       "      <td>52</td>\n",
       "      <td>The Trade Desk</td>\n",
       "    </tr>\n",
       "    <tr>\n",
       "      <th>60</th>\n",
       "      <td>8001727</td>\n",
       "      <td>21826343</td>\n",
       "      <td>1271326</td>\n",
       "      <td>10</td>\n",
       "      <td>Tremor Video</td>\n",
       "    </tr>\n",
       "    <tr>\n",
       "      <th>61</th>\n",
       "      <td>8001727</td>\n",
       "      <td>21826343</td>\n",
       "      <td>1284030</td>\n",
       "      <td>8</td>\n",
       "      <td>Pandora</td>\n",
       "    </tr>\n",
       "    <tr>\n",
       "      <th>62</th>\n",
       "      <td>8001727</td>\n",
       "      <td>21826343</td>\n",
       "      <td>1300830</td>\n",
       "      <td>1</td>\n",
       "      <td>Spotify</td>\n",
       "    </tr>\n",
       "    <tr>\n",
       "      <th>63</th>\n",
       "      <td>8001727</td>\n",
       "      <td>21826343</td>\n",
       "      <td>2479413</td>\n",
       "      <td>1819</td>\n",
       "      <td>The Trade Desk</td>\n",
       "    </tr>\n",
       "    <tr>\n",
       "      <th>64</th>\n",
       "      <td>8001727</td>\n",
       "      <td>21929494</td>\n",
       "      <td>1291657</td>\n",
       "      <td>207</td>\n",
       "      <td>Facebook</td>\n",
       "    </tr>\n",
       "    <tr>\n",
       "      <th>65</th>\n",
       "      <td>8001727</td>\n",
       "      <td>21940307</td>\n",
       "      <td>4545142</td>\n",
       "      <td>32</td>\n",
       "      <td>Pinterest Inc.</td>\n",
       "    </tr>\n",
       "  </tbody>\n",
       "</table>\n",
       "<p>66 rows × 5 columns</p>\n",
       "</div>"
      ],
      "text/plain": [
       "   Activity ID Campaign ID Site ID (DCM)  Customer_Link  \\\n",
       "0      7945971    20826194       3446099           5214   \n",
       "1      7945971    20836313       1234535          44973   \n",
       "2      7945971    21219557       1284030              1   \n",
       "3      7945971    21219557       2479413            332   \n",
       "4      7945971    21576806       1291657              1   \n",
       "5      7945971    21629904       2479413            141   \n",
       "6      7945971    21653946       1291657              1   \n",
       "7      7945971    21826343       1267626              1   \n",
       "8      7945971    21826343       1271326             37   \n",
       "9      7945971    21826343       1284030             28   \n",
       "10     7945971    21826343       1300830              2   \n",
       "11     7945971    21826343       2479413           2409   \n",
       "12     7945971    21916302       2710167             20   \n",
       "13     7945971    21929494       1291657           2495   \n",
       "14     7945971    21940307       4545142           1013   \n",
       "15     7945974    20826194       3446099           1623   \n",
       "16     7945974    20836313       1234535          10703   \n",
       "17     7945974    21219557       1284030              1   \n",
       "18     7945974    21219557       2479413            132   \n",
       "19     7945974    21629904       2479413             50   \n",
       "20     7945974    21826343       1271326             18   \n",
       "21     7945974    21826343       1284030             12   \n",
       "22     7945974    21826343       1300830              2   \n",
       "23     7945974    21826343       2479413            872   \n",
       "24     7945974    21916302       2710167              4   \n",
       "25     7945974    21929494       1291657           1243   \n",
       "26     7945974    21940307       4545142             24   \n",
       "27     7945980    20826194       3446099          16223   \n",
       "28     7945980    20836313       1234535          33282   \n",
       "29     7945980    20995271       1288991              1   \n",
       "..         ...         ...           ...            ...   \n",
       "36     7945980    21826343       1284030             42   \n",
       "37     7945980    21826343       1300830              4   \n",
       "38     7945980    21826343       2479413           6100   \n",
       "39     7945980    21916302       2710167              8   \n",
       "40     7945980    21929494       1291657           3582   \n",
       "41     7945980    21940307       4545142             95   \n",
       "42     8001451    20826194       3446099           3868   \n",
       "43     8001451    20836313       1234535          16357   \n",
       "44     8001451    20995271       1288991              1   \n",
       "45     8001451    21219557       2479413            280   \n",
       "46     8001451    21629904       2479413             98   \n",
       "47     8001451    21826343       1267626             11   \n",
       "48     8001451    21826343       1271326            207   \n",
       "49     8001451    21826343       1284030             22   \n",
       "50     8001451    21826343       1300830              1   \n",
       "51     8001451    21826343       2479413           3278   \n",
       "52     8001451    21916302       2710167             10   \n",
       "53     8001451    21929494       1291657           2038   \n",
       "54     8001451    21940307       4545142            542   \n",
       "55     8001727    20826194       3446099           2383   \n",
       "56     8001727    20836313       1234535           3056   \n",
       "57     8001727    20995271       1288991              1   \n",
       "58     8001727    21219557       2479413            116   \n",
       "59     8001727    21629904       2479413             52   \n",
       "60     8001727    21826343       1271326             10   \n",
       "61     8001727    21826343       1284030              8   \n",
       "62     8001727    21826343       1300830              1   \n",
       "63     8001727    21826343       2479413           1819   \n",
       "64     8001727    21929494       1291657            207   \n",
       "65     8001727    21940307       4545142             32   \n",
       "\n",
       "                                  Site (DCM)  \n",
       "0                                     Criteo  \n",
       "1                       DART Search : Google  \n",
       "2                                    Pandora  \n",
       "3                             The Trade Desk  \n",
       "4                                   Facebook  \n",
       "5                             The Trade Desk  \n",
       "6                                   Facebook  \n",
       "7                                   Hulu.com  \n",
       "8                               Tremor Video  \n",
       "9                                    Pandora  \n",
       "10                                   Spotify  \n",
       "11                            The Trade Desk  \n",
       "12             Facebook Inc – Instagram, LLC  \n",
       "13                                  Facebook  \n",
       "14                            Pinterest Inc.  \n",
       "15                                    Criteo  \n",
       "16                      DART Search : Google  \n",
       "17                                   Pandora  \n",
       "18                            The Trade Desk  \n",
       "19                            The Trade Desk  \n",
       "20                              Tremor Video  \n",
       "21                                   Pandora  \n",
       "22                                   Spotify  \n",
       "23                            The Trade Desk  \n",
       "24             Facebook Inc – Instagram, LLC  \n",
       "25                                  Facebook  \n",
       "26                            Pinterest Inc.  \n",
       "27                                    Criteo  \n",
       "28                      DART Search : Google  \n",
       "29  The New York Times Company - NYTimes.com  \n",
       "..                                       ...  \n",
       "36                                   Pandora  \n",
       "37                                   Spotify  \n",
       "38                            The Trade Desk  \n",
       "39             Facebook Inc – Instagram, LLC  \n",
       "40                                  Facebook  \n",
       "41                            Pinterest Inc.  \n",
       "42                                    Criteo  \n",
       "43                      DART Search : Google  \n",
       "44  The New York Times Company - NYTimes.com  \n",
       "45                            The Trade Desk  \n",
       "46                            The Trade Desk  \n",
       "47                                  Hulu.com  \n",
       "48                              Tremor Video  \n",
       "49                                   Pandora  \n",
       "50                                   Spotify  \n",
       "51                            The Trade Desk  \n",
       "52             Facebook Inc – Instagram, LLC  \n",
       "53                                  Facebook  \n",
       "54                            Pinterest Inc.  \n",
       "55                                    Criteo  \n",
       "56                      DART Search : Google  \n",
       "57  The New York Times Company - NYTimes.com  \n",
       "58                            The Trade Desk  \n",
       "59                            The Trade Desk  \n",
       "60                              Tremor Video  \n",
       "61                                   Pandora  \n",
       "62                                   Spotify  \n",
       "63                            The Trade Desk  \n",
       "64                                  Facebook  \n",
       "65                            Pinterest Inc.  \n",
       "\n",
       "[66 rows x 5 columns]"
      ]
     },
     "execution_count": 51,
     "metadata": {},
     "output_type": "execute_result"
    }
   ],
   "source": [
    "summary_by_site"
   ]
  },
  {
   "cell_type": "code",
   "execution_count": null,
   "metadata": {
    "collapsed": true
   },
   "outputs": [],
   "source": [
    "mapping_file_all.groupby(,''])"
   ]
  },
  {
   "cell_type": "code",
   "execution_count": 14,
   "metadata": {},
   "outputs": [
    {
     "data": {
      "text/plain": [
       "114"
      ]
     },
     "execution_count": 14,
     "metadata": {},
     "output_type": "execute_result"
    }
   ],
   "source": [
    "del all_rewards_mapping_Q4\n",
    "gc.collect()"
   ]
  },
  {
   "cell_type": "code",
   "execution_count": 15,
   "metadata": {},
   "outputs": [
    {
     "data": {
      "text/plain": [
       "(89551, 12)"
      ]
     },
     "execution_count": 15,
     "metadata": {},
     "output_type": "execute_result"
    }
   ],
   "source": [
    "# mapping_file_all[~pd.isnull(mapping_file_all['customer_id_hashed'])].shape\n",
    "matched_activities_5_urls=mapping_file_all[~pd.isnull(mapping_file_all['customer_id_hashed'])]\n",
    "matched_activities_5_urls.shape\n",
    "# Matched rows"
   ]
  },
  {
   "cell_type": "code",
   "execution_count": 16,
   "metadata": {},
   "outputs": [
    {
     "data": {
      "text/plain": [
       "(668154, 12)"
      ]
     },
     "execution_count": 16,
     "metadata": {},
     "output_type": "execute_result"
    }
   ],
   "source": [
    "mapping_file_all[pd.isnull(mapping_file_all['customer_id_hashed'])].shape\n"
   ]
  },
  {
   "cell_type": "code",
   "execution_count": 17,
   "metadata": {},
   "outputs": [
    {
     "name": "stderr",
     "output_type": "stream",
     "text": [
      "/usr/local/lib/python3.6/site-packages/ipykernel_launcher.py:3: SettingWithCopyWarning: \n",
      "A value is trying to be set on a copy of a slice from a DataFrame.\n",
      "Try using .loc[row_indexer,col_indexer] = value instead\n",
      "\n",
      "See the caveats in the documentation: http://pandas.pydata.org/pandas-docs/stable/indexing.html#indexing-view-versus-copy\n",
      "  This is separate from the ipykernel package so we can avoid doing imports until\n"
     ]
    }
   ],
   "source": [
    "def count_unique_id(x):\n",
    "    return len(set(x))\n",
    "matched_activities_5_urls['date']=matched_activities_5_urls['DateTime'].apply(lambda x: x.date())"
   ]
  },
  {
   "cell_type": "code",
   "execution_count": 18,
   "metadata": {},
   "outputs": [
    {
     "data": {
      "text/plain": [
       "(144, 3)"
      ]
     },
     "execution_count": 18,
     "metadata": {},
     "output_type": "execute_result"
    }
   ],
   "source": [
    "summary_unique_id_day_page=matched_activities_5_urls.groupby([\"Activity ID\",'date'])['customer_id_hashed'].apply(count_unique_id).to_frame().reset_index()\n",
    "summary_unique_id_day_page.shape\n"
   ]
  },
  {
   "cell_type": "code",
   "execution_count": 19,
   "metadata": {},
   "outputs": [
    {
     "data": {
      "text/html": [
       "<div>\n",
       "<style>\n",
       "    .dataframe thead tr:only-child th {\n",
       "        text-align: right;\n",
       "    }\n",
       "\n",
       "    .dataframe thead th {\n",
       "        text-align: left;\n",
       "    }\n",
       "\n",
       "    .dataframe tbody tr th {\n",
       "        vertical-align: top;\n",
       "    }\n",
       "</style>\n",
       "<table border=\"1\" class=\"dataframe\">\n",
       "  <thead>\n",
       "    <tr style=\"text-align: right;\">\n",
       "      <th></th>\n",
       "      <th>Activity ID</th>\n",
       "      <th>customer_id_hashed</th>\n",
       "    </tr>\n",
       "  </thead>\n",
       "  <tbody>\n",
       "    <tr>\n",
       "      <th>2</th>\n",
       "      <td>7945980</td>\n",
       "      <td>27143</td>\n",
       "    </tr>\n",
       "    <tr>\n",
       "      <th>0</th>\n",
       "      <td>7945971</td>\n",
       "      <td>10646</td>\n",
       "    </tr>\n",
       "    <tr>\n",
       "      <th>3</th>\n",
       "      <td>8001451</td>\n",
       "      <td>7988</td>\n",
       "    </tr>\n",
       "    <tr>\n",
       "      <th>1</th>\n",
       "      <td>7945974</td>\n",
       "      <td>3886</td>\n",
       "    </tr>\n",
       "    <tr>\n",
       "      <th>4</th>\n",
       "      <td>8001727</td>\n",
       "      <td>3707</td>\n",
       "    </tr>\n",
       "  </tbody>\n",
       "</table>\n",
       "</div>"
      ],
      "text/plain": [
       "  Activity ID  customer_id_hashed\n",
       "2     7945980               27143\n",
       "0     7945971               10646\n",
       "3     8001451                7988\n",
       "1     7945974                3886\n",
       "4     8001727                3707"
      ]
     },
     "execution_count": 19,
     "metadata": {},
     "output_type": "execute_result"
    }
   ],
   "source": [
    "summary_unique_id_page=matched_activities_5_urls.groupby([\"Activity ID\"])['customer_id_hashed'].apply(count_unique_id).to_frame().reset_index()\n",
    "summary_unique_id_page=summary_unique_id_page.sort_values('customer_id_hashed',ascending=False)\n",
    "summary_unique_id_page"
   ]
  },
  {
   "cell_type": "code",
   "execution_count": 20,
   "metadata": {
    "collapsed": true
   },
   "outputs": [],
   "source": [
    "matched_activities_5_urls=matched_activities_5_urls[['customer_id_hashed','Activity ID','DateTime','date']]"
   ]
  },
  {
   "cell_type": "code",
   "execution_count": 21,
   "metadata": {},
   "outputs": [
    {
     "data": {
      "text/plain": [
       "(89551, 4)"
      ]
     },
     "execution_count": 21,
     "metadata": {},
     "output_type": "execute_result"
    }
   ],
   "source": [
    "matched_activities_5_urls.shape"
   ]
  },
  {
   "cell_type": "code",
   "execution_count": 22,
   "metadata": {},
   "outputs": [
    {
     "data": {
      "text/plain": [
       "(89551, 4)"
      ]
     },
     "execution_count": 22,
     "metadata": {},
     "output_type": "execute_result"
    }
   ],
   "source": [
    "matched_activities_5_urls.drop_duplicates().shape"
   ]
  },
  {
   "cell_type": "code",
   "execution_count": 23,
   "metadata": {},
   "outputs": [
    {
     "data": {
      "text/html": [
       "<div>\n",
       "<style>\n",
       "    .dataframe thead tr:only-child th {\n",
       "        text-align: right;\n",
       "    }\n",
       "\n",
       "    .dataframe thead th {\n",
       "        text-align: left;\n",
       "    }\n",
       "\n",
       "    .dataframe tbody tr th {\n",
       "        vertical-align: top;\n",
       "    }\n",
       "</style>\n",
       "<table border=\"1\" class=\"dataframe\">\n",
       "  <thead>\n",
       "    <tr style=\"text-align: right;\">\n",
       "      <th></th>\n",
       "      <th>customer_id_hashed</th>\n",
       "      <th>Activity ID</th>\n",
       "      <th>DateTime</th>\n",
       "      <th>date</th>\n",
       "    </tr>\n",
       "  </thead>\n",
       "  <tbody>\n",
       "    <tr>\n",
       "      <th>3</th>\n",
       "      <td>a53300281a80925f670168111d449665c8143262e34dd3...</td>\n",
       "      <td>7945980</td>\n",
       "      <td>2018-12-12 10:07:13.726522</td>\n",
       "      <td>2018-12-12</td>\n",
       "    </tr>\n",
       "    <tr>\n",
       "      <th>4</th>\n",
       "      <td>fc5f499b7dc75219dccf9b678bec6c25d2968ad1deb3a6...</td>\n",
       "      <td>7945980</td>\n",
       "      <td>2018-12-12 09:26:36.967450</td>\n",
       "      <td>2018-12-12</td>\n",
       "    </tr>\n",
       "  </tbody>\n",
       "</table>\n",
       "</div>"
      ],
      "text/plain": [
       "                                  customer_id_hashed Activity ID  \\\n",
       "3  a53300281a80925f670168111d449665c8143262e34dd3...     7945980   \n",
       "4  fc5f499b7dc75219dccf9b678bec6c25d2968ad1deb3a6...     7945980   \n",
       "\n",
       "                    DateTime        date  \n",
       "3 2018-12-12 10:07:13.726522  2018-12-12  \n",
       "4 2018-12-12 09:26:36.967450  2018-12-12  "
      ]
     },
     "execution_count": 23,
     "metadata": {},
     "output_type": "execute_result"
    }
   ],
   "source": [
    "matched_activities_5_urls.head(2)"
   ]
  },
  {
   "cell_type": "code",
   "execution_count": 24,
   "metadata": {
    "collapsed": true
   },
   "outputs": [],
   "source": [
    "def count_unique_counts(x):\n",
    "    return len(set(x))\n",
    "\n",
    "matched_exposed_ids_by_page=matched_activities_5_urls.groupby(['Activity ID'])['customer_id_hashed'].apply(count_unique_counts).to_frame().reset_index()"
   ]
  },
  {
   "cell_type": "code",
   "execution_count": 37,
   "metadata": {},
   "outputs": [
    {
     "data": {
      "text/html": [
       "<div>\n",
       "<style>\n",
       "    .dataframe thead tr:only-child th {\n",
       "        text-align: right;\n",
       "    }\n",
       "\n",
       "    .dataframe thead th {\n",
       "        text-align: left;\n",
       "    }\n",
       "\n",
       "    .dataframe tbody tr th {\n",
       "        vertical-align: top;\n",
       "    }\n",
       "</style>\n",
       "<table border=\"1\" class=\"dataframe\">\n",
       "  <thead>\n",
       "    <tr style=\"text-align: right;\">\n",
       "      <th></th>\n",
       "      <th>Activity ID</th>\n",
       "      <th>customer_id_hashed</th>\n",
       "    </tr>\n",
       "  </thead>\n",
       "  <tbody>\n",
       "    <tr>\n",
       "      <th>2</th>\n",
       "      <td>7945980</td>\n",
       "      <td>27143</td>\n",
       "    </tr>\n",
       "    <tr>\n",
       "      <th>0</th>\n",
       "      <td>7945971</td>\n",
       "      <td>10646</td>\n",
       "    </tr>\n",
       "    <tr>\n",
       "      <th>3</th>\n",
       "      <td>8001451</td>\n",
       "      <td>7988</td>\n",
       "    </tr>\n",
       "    <tr>\n",
       "      <th>1</th>\n",
       "      <td>7945974</td>\n",
       "      <td>3886</td>\n",
       "    </tr>\n",
       "    <tr>\n",
       "      <th>4</th>\n",
       "      <td>8001727</td>\n",
       "      <td>3707</td>\n",
       "    </tr>\n",
       "  </tbody>\n",
       "</table>\n",
       "</div>"
      ],
      "text/plain": [
       "  Activity ID  customer_id_hashed\n",
       "2     7945980               27143\n",
       "0     7945971               10646\n",
       "3     8001451                7988\n",
       "1     7945974                3886\n",
       "4     8001727                3707"
      ]
     },
     "execution_count": 37,
     "metadata": {},
     "output_type": "execute_result"
    }
   ],
   "source": [
    "summary_unique_id_page"
   ]
  },
  {
   "cell_type": "code",
   "execution_count": 38,
   "metadata": {},
   "outputs": [
    {
     "data": {
      "text/html": [
       "<div>\n",
       "<style>\n",
       "    .dataframe thead tr:only-child th {\n",
       "        text-align: right;\n",
       "    }\n",
       "\n",
       "    .dataframe thead th {\n",
       "        text-align: left;\n",
       "    }\n",
       "\n",
       "    .dataframe tbody tr th {\n",
       "        vertical-align: top;\n",
       "    }\n",
       "</style>\n",
       "<table border=\"1\" class=\"dataframe\">\n",
       "  <thead>\n",
       "    <tr style=\"text-align: right;\">\n",
       "      <th></th>\n",
       "      <th>Activity ID</th>\n",
       "      <th>customer_id_hashed</th>\n",
       "    </tr>\n",
       "  </thead>\n",
       "  <tbody>\n",
       "    <tr>\n",
       "      <th>0</th>\n",
       "      <td>7945971</td>\n",
       "      <td>10646</td>\n",
       "    </tr>\n",
       "    <tr>\n",
       "      <th>1</th>\n",
       "      <td>7945974</td>\n",
       "      <td>3886</td>\n",
       "    </tr>\n",
       "    <tr>\n",
       "      <th>2</th>\n",
       "      <td>7945980</td>\n",
       "      <td>27143</td>\n",
       "    </tr>\n",
       "    <tr>\n",
       "      <th>3</th>\n",
       "      <td>8001451</td>\n",
       "      <td>7988</td>\n",
       "    </tr>\n",
       "    <tr>\n",
       "      <th>4</th>\n",
       "      <td>8001727</td>\n",
       "      <td>3707</td>\n",
       "    </tr>\n",
       "  </tbody>\n",
       "</table>\n",
       "</div>"
      ],
      "text/plain": [
       "  Activity ID  customer_id_hashed\n",
       "0     7945971               10646\n",
       "1     7945974                3886\n",
       "2     7945980               27143\n",
       "3     8001451                7988\n",
       "4     8001727                3707"
      ]
     },
     "execution_count": 38,
     "metadata": {},
     "output_type": "execute_result"
    }
   ],
   "source": [
    "matched_exposed_ids_by_page"
   ]
  },
  {
   "cell_type": "code",
   "execution_count": null,
   "metadata": {
    "collapsed": true
   },
   "outputs": [],
   "source": []
  },
  {
   "cell_type": "markdown",
   "metadata": {},
   "source": [
    "# Subclass Products Mapping"
   ]
  },
  {
   "cell_type": "code",
   "execution_count": 25,
   "metadata": {
    "collapsed": true
   },
   "outputs": [],
   "source": [
    "def clean_product_format(df):\n",
    "    df['Class']=df['Class'].astype(int).astype(str)\n",
    "    df['Subclass']=df['Subclass'].astype(int).astype(str)\n",
    "    df=df.rename(columns={\"Class\":\"class_code_id\",\"Subclass\":\"subclass_id\"})\n",
    "    return df"
   ]
  },
  {
   "cell_type": "code",
   "execution_count": 26,
   "metadata": {
    "collapsed": true
   },
   "outputs": [],
   "source": [
    "Page_1_weekly_deals=pd.read_excel(\"/home/jian/Projects/Big_Lots/Analysis/2018_Q4/URL_Pages/mapping_files/Tagged URL_Products_JL_20190228.xlsx\",sheetname=\"Weekly Deals\",dtype=str)\n",
    "Page_1_weekly_deals['week_end_date']=Page_1_weekly_deals['week_end_date'].apply(lambda x: x[:10])\n",
    "Page_1_weekly_deals=clean_product_format(Page_1_weekly_deals)\n",
    "\n",
    "Page_1_weekly_deals_Week1=Page_1_weekly_deals[Page_1_weekly_deals['week_end_date']==\"2018-12-08\"]\n",
    "Page_1_weekly_deals_Week2=Page_1_weekly_deals[Page_1_weekly_deals['week_end_date']==\"2018-12-15\"]\n",
    "Page_1_weekly_deals_Week3=Page_1_weekly_deals[Page_1_weekly_deals['week_end_date']==\"2018-12-22\"]\n",
    "Page_1_weekly_deals_Week4=Page_1_weekly_deals[Page_1_weekly_deals['week_end_date']==\"2018-12-29\"]\n",
    "\n",
    "Page_2_Christmas_Shop=pd.read_excel(\"/home/jian/Projects/Big_Lots/Analysis/2018_Q4/URL_Pages/mapping_files/Tagged URL_Products_JL_20190228.xlsx\",sheetname=\"Christmas Shop\",dtype=str)\n",
    "del Page_2_Christmas_Shop['week_end_date']\n",
    "Page_2_Christmas_Shop=clean_product_format(Page_2_Christmas_Shop)\n",
    "\n",
    "Page_3_Christmas_Gifts=pd.read_excel(\"/home/jian/Projects/Big_Lots/Analysis/2018_Q4/URL_Pages/mapping_files/Tagged URL_Products_JL_20190228.xlsx\",sheetname=\"Christmas Gifts\",dtype=str)\n",
    "del Page_3_Christmas_Gifts['week_end_date']\n",
    "Page_3_Christmas_Gifts=clean_product_format(Page_3_Christmas_Gifts)\n",
    "\n",
    "Page_4_Toy_Shop=pd.read_excel(\"/home/jian/Projects/Big_Lots/Analysis/2018_Q4/URL_Pages/mapping_files/Tagged URL_Products_JL_20190228.xlsx\",sheetname=\"Toy Shop\",dtype=str)\n",
    "del Page_4_Toy_Shop['week_end_date']\n",
    "Page_4_Toy_Shop=clean_product_format(Page_4_Toy_Shop)\n",
    "\n",
    "Page_5_Holiday_Decorating=pd.read_excel(\"/home/jian/Projects/Big_Lots/Analysis/2018_Q4/URL_Pages/mapping_files/Tagged URL_Products_JL_20190228.xlsx\",sheetname=\"Holiday Decorating\",dtype=str)\n",
    "del Page_5_Holiday_Decorating['week_end_date']\n",
    "Page_5_Holiday_Decorating=clean_product_format(Page_5_Holiday_Decorating)\n"
   ]
  },
  {
   "cell_type": "code",
   "execution_count": null,
   "metadata": {
    "collapsed": true
   },
   "outputs": [],
   "source": []
  },
  {
   "cell_type": "markdown",
   "metadata": {},
   "source": [
    "# Dec_Subclass_Sales"
   ]
  },
  {
   "cell_type": "code",
   "execution_count": 27,
   "metadata": {
    "collapsed": true
   },
   "outputs": [],
   "source": [
    "def recursive_file_gen(my_root_dir):\n",
    "    for root, dirs, files in os.walk(my_root_dir):\n",
    "        for file in files:\n",
    "            yield os.path.join(root, file)"
   ]
  },
  {
   "cell_type": "code",
   "execution_count": 28,
   "metadata": {},
   "outputs": [
    {
     "data": {
      "text/html": [
       "<div>\n",
       "<style>\n",
       "    .dataframe thead tr:only-child th {\n",
       "        text-align: right;\n",
       "    }\n",
       "\n",
       "    .dataframe thead th {\n",
       "        text-align: left;\n",
       "    }\n",
       "\n",
       "    .dataframe tbody tr th {\n",
       "        vertical-align: top;\n",
       "    }\n",
       "</style>\n",
       "<table border=\"1\" class=\"dataframe\">\n",
       "  <thead>\n",
       "    <tr style=\"text-align: right;\">\n",
       "      <th></th>\n",
       "      <th>file_path</th>\n",
       "      <th>week_end_date</th>\n",
       "    </tr>\n",
       "  </thead>\n",
       "  <tbody>\n",
       "    <tr>\n",
       "      <th>29</th>\n",
       "      <td>/home/jian/BigLots/2018_by_weeks/MediaStorm_20...</td>\n",
       "      <td>2018-12-08</td>\n",
       "    </tr>\n",
       "    <tr>\n",
       "      <th>30</th>\n",
       "      <td>/home/jian/BigLots/2018_by_weeks/MediaStorm_20...</td>\n",
       "      <td>2018-12-22</td>\n",
       "    </tr>\n",
       "    <tr>\n",
       "      <th>31</th>\n",
       "      <td>/home/jian/BigLots/2018_by_weeks/MediaStorm_20...</td>\n",
       "      <td>2018-12-29</td>\n",
       "    </tr>\n",
       "    <tr>\n",
       "      <th>32</th>\n",
       "      <td>/home/jian/BigLots/2018_by_weeks/MediaStorm_20...</td>\n",
       "      <td>2018-12-15</td>\n",
       "    </tr>\n",
       "  </tbody>\n",
       "</table>\n",
       "</div>"
      ],
      "text/plain": [
       "                                            file_path week_end_date\n",
       "29  /home/jian/BigLots/2018_by_weeks/MediaStorm_20...    2018-12-08\n",
       "30  /home/jian/BigLots/2018_by_weeks/MediaStorm_20...    2018-12-22\n",
       "31  /home/jian/BigLots/2018_by_weeks/MediaStorm_20...    2018-12-29\n",
       "32  /home/jian/BigLots/2018_by_weeks/MediaStorm_20...    2018-12-15"
      ]
     },
     "execution_count": 28,
     "metadata": {},
     "output_type": "execute_result"
    }
   ],
   "source": [
    "all_Q4_sales_subclass_files_2018Dec=list(recursive_file_gen(\"/home/jian/BigLots/2018_by_weeks/\"))\n",
    "all_Q4_sales_subclass_files_2018Dec=[x for x in all_Q4_sales_subclass_files_2018Dec if \"aily\" in x]\n",
    "df_all_Q4_sales_subclass_files_2018Dec=pd.DataFrame({\"file_path\":all_Q4_sales_subclass_files_2018Dec})\n",
    "df_all_Q4_sales_subclass_files_2018Dec.head(4)\n",
    "\n",
    "df_all_Q4_sales_subclass_files_2018Dec['week_end_date']=df_all_Q4_sales_subclass_files_2018Dec['file_path'].apply(lambda x: x.split(\"MediaStorm_\")[1][:10])\n",
    "df_all_Q4_sales_subclass_files_2018Dec=df_all_Q4_sales_subclass_files_2018Dec[df_all_Q4_sales_subclass_files_2018Dec['week_end_date']>=\"2018-12-01\"]\n",
    "df_all_Q4_sales_subclass_files_2018Dec=df_all_Q4_sales_subclass_files_2018Dec[df_all_Q4_sales_subclass_files_2018Dec['week_end_date']!=\"2018-12-01\"]\n",
    "df_all_Q4_sales_subclass_files_2018Dec"
   ]
  },
  {
   "cell_type": "code",
   "execution_count": 29,
   "metadata": {},
   "outputs": [
    {
     "data": {
      "text/plain": [
       "['/home/jian/BigLots/2018_by_weeks/MediaStorm_2018-12-08/MediaStormDailySales20181211-115638-766.txt',\n",
       " '/home/jian/BigLots/2018_by_weeks/MediaStorm_2018-12-22/MediaStormDailySales20181225-112126-218.txt',\n",
       " '/home/jian/BigLots/2018_by_weeks/MediaStorm_2018-12-29/MediaStormDailySales20190101-113809-353.txt',\n",
       " '/home/jian/BigLots/2018_by_weeks/MediaStorm_2018-12-15/MediaStormDailySales20181218-112627-166.txt']"
      ]
     },
     "execution_count": 29,
     "metadata": {},
     "output_type": "execute_result"
    }
   ],
   "source": [
    "df_all_Q4_sales_subclass_files_2018Dec['file_path'].tolist()"
   ]
  },
  {
   "cell_type": "code",
   "execution_count": 30,
   "metadata": {},
   "outputs": [
    {
     "name": "stdout",
     "output_type": "stream",
     "text": [
      "2019-03-06 10:26:07.347051 /home/jian/BigLots/2018_by_weeks/MediaStorm_2018-12-08/MediaStormDailySales20181211-115638-766.txt\n",
      "2019-03-06 10:26:56.402955 /home/jian/BigLots/2018_by_weeks/MediaStorm_2018-12-22/MediaStormDailySales20181225-112126-218.txt\n",
      "2019-03-06 10:27:30.256076 /home/jian/BigLots/2018_by_weeks/MediaStorm_2018-12-29/MediaStormDailySales20190101-113809-353.txt\n",
      "2019-03-06 10:28:16.856016 /home/jian/BigLots/2018_by_weeks/MediaStorm_2018-12-15/MediaStormDailySales20181218-112627-166.txt\n"
     ]
    }
   ],
   "source": [
    "samplerows=None\n",
    "rewards_sales_Dec_4_weeks=pd.DataFrame()\n",
    "for file in df_all_Q4_sales_subclass_files_2018Dec['file_path'].unique().tolist():\n",
    "    df=pd.read_table(file, dtype=str, nrows=samplerows,sep=\"|\")\n",
    "    df=df[~pd.isnull(df['customer_id_hashed'])]\n",
    "    df['subclass_transaction_amt']=df['subclass_transaction_amt'].astype(float)\n",
    "    df['subclass_transaction_units']=df['subclass_transaction_units'].astype(int)\n",
    "    df=df[df['subclass_transaction_amt']>=0]\n",
    "    print(datetime.datetime.now(),file)\n",
    "    rewards_sales_Dec_4_weeks=rewards_sales_Dec_4_weeks.append(df)"
   ]
  },
  {
   "cell_type": "markdown",
   "metadata": {
    "collapsed": true
   },
   "source": [
    "### Page 2-5 4 weeks"
   ]
  },
  {
   "cell_type": "code",
   "execution_count": 31,
   "metadata": {},
   "outputs": [
    {
     "data": {
      "text/plain": [
       "'\\nPage_Productdf_Dec_2_to_5=Page_2_Christmas_Shop.append(Page_3_Christmas_Gifts).append(Page_4_Toy_Shop).append(Page_5_Holiday_Decorating)\\nPage_Productdf_Dec_2_to_5=Page_Productdf_Dec_2_to_5.drop_duplicates()\\nAct_ID_2_to_5=Page_Productdf_Dec_2_to_5[\\'Activity ID\\'].unique().tolist()\\n\\n\\nmatched_activities_5_urls_2_to_5=matched_activities_5_urls[matched_activities_5_urls[\\'Activity ID\\'].isin(Act_ID_2_to_5)]\\nprint(matched_activities_5_urls_2_to_5.shape)\\nmatched_activities_5_urls_2_to_5.head(2)\\n\\nmatched_activities_5_urls_2_to_5=matched_activities_5_urls_2_to_5[[\\'customer_id_hashed\\',\\'Activity ID\\',\\'date\\']].drop_duplicates([\\'customer_id_hashed\\',\\'Activity ID\\'])\\nprint(matched_activities_5_urls_2_to_5.shape)\\nmatched_activities_5_urls_2_to_5=matched_activities_5_urls_2_to_5.rename(columns={\"date\":\"earliest_act_date\"})\\nmatched_activities_5_urls_2_to_5[\\'earliest_act_date\\']=matched_activities_5_urls_2_to_5[\\'earliest_act_date\\'].astype(str)\\nmatched_activities_5_urls_2_to_5.head(2)\\n'"
      ]
     },
     "execution_count": 31,
     "metadata": {},
     "output_type": "execute_result"
    }
   ],
   "source": [
    "# Do the page 2 - 5 first\n",
    "'''\n",
    "Page_Productdf_Dec_2_to_5=Page_2_Christmas_Shop.append(Page_3_Christmas_Gifts).append(Page_4_Toy_Shop).append(Page_5_Holiday_Decorating)\n",
    "Page_Productdf_Dec_2_to_5=Page_Productdf_Dec_2_to_5.drop_duplicates()\n",
    "Act_ID_2_to_5=Page_Productdf_Dec_2_to_5['Activity ID'].unique().tolist()\n",
    "\n",
    "\n",
    "matched_activities_5_urls_2_to_5=matched_activities_5_urls[matched_activities_5_urls['Activity ID'].isin(Act_ID_2_to_5)]\n",
    "print(matched_activities_5_urls_2_to_5.shape)\n",
    "matched_activities_5_urls_2_to_5.head(2)\n",
    "\n",
    "matched_activities_5_urls_2_to_5=matched_activities_5_urls_2_to_5[['customer_id_hashed','Activity ID','date']].drop_duplicates(['customer_id_hashed','Activity ID'])\n",
    "print(matched_activities_5_urls_2_to_5.shape)\n",
    "matched_activities_5_urls_2_to_5=matched_activities_5_urls_2_to_5.rename(columns={\"date\":\"earliest_act_date\"})\n",
    "matched_activities_5_urls_2_to_5['earliest_act_date']=matched_activities_5_urls_2_to_5['earliest_act_date'].astype(str)\n",
    "matched_activities_5_urls_2_to_5.head(2)\n",
    "'''"
   ]
  },
  {
   "cell_type": "code",
   "execution_count": null,
   "metadata": {
    "collapsed": true
   },
   "outputs": [],
   "source": []
  },
  {
   "cell_type": "code",
   "execution_count": 32,
   "metadata": {
    "collapsed": true
   },
   "outputs": [],
   "source": [
    "# Online & Shop Sales not differentiated \n",
    "\n",
    "def Dec_4weeks_page(Page_X_df,DCM_LR_Mapping_df,transaction_df):\n",
    "    activity_id=Page_X_df['Activity ID'].unique().tolist()\n",
    "    if len(activity_id)==1:\n",
    "        activity_id=activity_id[0]\n",
    "    else:\n",
    "        print(\"Activity_id_Error: \" + str(activity_id))\n",
    "    DCM_LR_Mapping_df=DCM_LR_Mapping_df[DCM_LR_Mapping_df['Activity ID']==activity_id]\n",
    "    DCM_LR_Mapping_df=DCM_LR_Mapping_df[['customer_id_hashed','date']].sort_values(['customer_id_hashed','date']).drop_duplicates('customer_id_hashed')\n",
    "    DCM_LR_Mapping_df=DCM_LR_Mapping_df.rename(columns={\"date\":\"earliest_date_on_site\"})\n",
    "    DCM_LR_Mapping_df['earliest_date_on_site']=DCM_LR_Mapping_df['earliest_date_on_site'].astype(str)\n",
    "    \n",
    "    page_X_df=Page_X_df[['Activity ID','class_code_id','subclass_id']]\n",
    "    \n",
    "    df_product_level=pd.merge(transaction_df,DCM_LR_Mapping_df,on=[\"customer_id_hashed\"],how=\"left\") # Add the LR catched ids\n",
    "    \n",
    "    df_product_level_all_products=pd.merge(df_product_level,page_X_df,on=[\"class_code_id\",'subclass_id'],how=\"left\")\n",
    "    \n",
    "    df_product_level_promoted_only=df_product_level_all_products[~pd.isnull(df_product_level_all_products['Activity ID'])] # Products on the site promoted only\n",
    "    df_product_level_promoted_only['earliest_date_on_site']=df_product_level_promoted_only['earliest_date_on_site'].fillna(\"2019-01-31\")\n",
    "    df_product_level_promoted_only['Expose_Label']=np.where(df_product_level_promoted_only['earliest_date_on_site']<=df_product_level_promoted_only['transaction_dt'],\"Exposed_Shopper\",\"Not_Exposed_Shopper\")\n",
    "    \n",
    "    id_with_expose_label=df_product_level_promoted_only[['customer_id_hashed','Expose_Label']].drop_duplicates()\n",
    "    id_with_expose_label_date=df_product_level_promoted_only[['customer_id_hashed','transaction_dt','Expose_Label']].drop_duplicates()\n",
    "    Exposed_NotBuy_df=DCM_LR_Mapping_df[~DCM_LR_Mapping_df['customer_id_hashed'].isin(id_with_expose_label[id_with_expose_label['Expose_Label']==\"Exposed_Shopper\"]['customer_id_hashed'].unique())]\n",
    "    Exposed_NotBuy_count=len(Exposed_NotBuy_df['customer_id_hashed'].unique())\n",
    "    ########### 1 Promoted Only for product level analysis\n",
    "    ouotput_df_product_level_sales=df_product_level_promoted_only.groupby(['Expose_Label',\"class_code_id\",'subclass_id'])['subclass_transaction_units','subclass_transaction_amt'].sum().reset_index()\n",
    "    \n",
    "    ouotput_df_product_level_trans=df_product_level_promoted_only[['location_id','transaction_dt','transaction_id','customer_id_hashed','Expose_Label',\"class_code_id\",'subclass_id']].drop_duplicates()\n",
    "    ouotput_df_product_level_trans=ouotput_df_product_level_trans.groupby([\"class_code_id\",'subclass_id','Expose_Label'])['transaction_id'].count().to_frame().reset_index().rename(columns={\"transaction_id\":\"transactions\"})\n",
    "    ouotput_df_product_level_ids=df_product_level_promoted_only[['Expose_Label',\"class_code_id\",'subclass_id','customer_id_hashed']].drop_duplicates().groupby([\"class_code_id\",'subclass_id','Expose_Label'])['customer_id_hashed'].count().to_frame().reset_index()\n",
    "    ouotput_df_product_level_promoted_only=pd.merge(ouotput_df_product_level_sales,ouotput_df_product_level_ids,on=['Expose_Label',\"class_code_id\",'subclass_id'],how=\"outer\")\n",
    "    \n",
    "    ########### 2-1 Promoted Only\n",
    "    ouotput_df_page_level_sales=df_product_level_promoted_only.groupby(['Expose_Label'])['subclass_transaction_units','subclass_transaction_amt'].sum().reset_index()\n",
    "    ouotput_df_page_level_trans=df_product_level_promoted_only[['location_id','transaction_dt','transaction_id','customer_id_hashed','Expose_Label']].drop_duplicates()\n",
    "    ouotput_df_page_level_trans=ouotput_df_page_level_trans.groupby(['Expose_Label'])['transaction_id'].count().to_frame().reset_index().rename(columns={\"transaction_id\":\"transactions\"})\n",
    "    \n",
    "    ouotput_df_page_level_ids=df_product_level_promoted_only[['Expose_Label','customer_id_hashed']].drop_duplicates().groupby(['Expose_Label'])['customer_id_hashed'].count().to_frame().reset_index()\n",
    "    ouotput_df_page_level_promoted_only=pd.merge(ouotput_df_page_level_sales,ouotput_df_page_level_trans,on=['Expose_Label'],how=\"outer\")\n",
    "    ouotput_df_page_level_promoted_only=pd.merge(ouotput_df_page_level_promoted_only,ouotput_df_page_level_ids,on=['Expose_Label'],how=\"outer\")\n",
    "    ouotput_df_page_level_promoted_only['Products_Group']=\"Promoted_on_page\"\n",
    "    ########### 2-2\n",
    "    df_product_level_all_products=pd.merge(df_product_level_all_products,id_with_expose_label_date,on=[\"customer_id_hashed\",\"transaction_dt\"],how=\"left\")\n",
    "    df_product_level_all_products=df_product_level_all_products[~pd.isnull(df_product_level_all_products['Expose_Label'])] # For the segments who purchanges at least 1 promoted products\n",
    "    ouotput_df_page_level_sales=df_product_level_all_products.groupby(['Expose_Label'])['subclass_transaction_units','subclass_transaction_amt'].sum().reset_index()\n",
    "    ouotput_df_page_level_trans=df_product_level_all_products[['location_id','transaction_dt','transaction_id','customer_id_hashed','Expose_Label']].drop_duplicates()\n",
    "    ouotput_df_page_level_trans=ouotput_df_page_level_trans.groupby(['Expose_Label'])['transaction_id'].count().to_frame().reset_index().rename(columns={\"transaction_id\":\"transactions\"})\n",
    "    ouotput_df_page_level_ids=df_product_level_all_products[['Expose_Label','customer_id_hashed']].drop_duplicates().groupby(['Expose_Label'])['customer_id_hashed'].count().to_frame().reset_index()\n",
    "    \n",
    "    ouotput_df_page_level_all_products=pd.merge(ouotput_df_page_level_sales,ouotput_df_page_level_trans,on=['Expose_Label'],how=\"outer\")\n",
    "    ouotput_df_page_level_all_products=pd.merge(ouotput_df_page_level_all_products,ouotput_df_page_level_ids,on=['Expose_Label'],how=\"outer\")\n",
    "    ouotput_df_page_level_all_products['Products_Group']=\"All_Purchased\"\n",
    "    ###### \n",
    "    ouotput_df_page_level=ouotput_df_page_level_all_products.append(ouotput_df_page_level_promoted_only)\n",
    "    \n",
    "    ouotput_df_product_level_promoted_only['Page']=activity_id\n",
    "    ouotput_df_page_level['Page']=activity_id\n",
    "    \n",
    "    print(\"Exposed_Not_Buy_promoted_products: \"+str(Exposed_NotBuy_count))\n",
    "    \n",
    "    return ouotput_df_product_level_promoted_only,ouotput_df_page_level,Exposed_NotBuy_count"
   ]
  },
  {
   "cell_type": "code",
   "execution_count": 33,
   "metadata": {},
   "outputs": [
    {
     "name": "stdout",
     "output_type": "stream",
     "text": [
      "2019-03-06 10:28:21.608877\n"
     ]
    },
    {
     "name": "stderr",
     "output_type": "stream",
     "text": [
      "/usr/local/lib/python3.6/site-packages/ipykernel_launcher.py:21: SettingWithCopyWarning: \n",
      "A value is trying to be set on a copy of a slice from a DataFrame.\n",
      "Try using .loc[row_indexer,col_indexer] = value instead\n",
      "\n",
      "See the caveats in the documentation: http://pandas.pydata.org/pandas-docs/stable/indexing.html#indexing-view-versus-copy\n",
      "/usr/local/lib/python3.6/site-packages/ipykernel_launcher.py:22: SettingWithCopyWarning: \n",
      "A value is trying to be set on a copy of a slice from a DataFrame.\n",
      "Try using .loc[row_indexer,col_indexer] = value instead\n",
      "\n",
      "See the caveats in the documentation: http://pandas.pydata.org/pandas-docs/stable/indexing.html#indexing-view-versus-copy\n"
     ]
    },
    {
     "name": "stdout",
     "output_type": "stream",
     "text": [
      "Exposed_Not_Buy_promoted_products: 9439\n",
      "2019-03-06 10:32:30.967967\n"
     ]
    }
   ],
   "source": [
    "print(datetime.datetime.now())\n",
    "Page_2_ouotput_df_product_level,Page_2_ouotput_df_page_level,Page_2_Exposed_NotBuy_count=Dec_4weeks_page(Page_X_df=Page_2_Christmas_Shop,\n",
    "                                                                                                        DCM_LR_Mapping_df=matched_activities_5_urls,\n",
    "                                                                                                        transaction_df=rewards_sales_Dec_4_weeks)\n",
    "print(datetime.datetime.now())"
   ]
  },
  {
   "cell_type": "code",
   "execution_count": 34,
   "metadata": {},
   "outputs": [
    {
     "name": "stdout",
     "output_type": "stream",
     "text": [
      "2019-03-06 10:32:30.975877\n"
     ]
    },
    {
     "name": "stderr",
     "output_type": "stream",
     "text": [
      "/usr/local/lib/python3.6/site-packages/ipykernel_launcher.py:21: SettingWithCopyWarning: \n",
      "A value is trying to be set on a copy of a slice from a DataFrame.\n",
      "Try using .loc[row_indexer,col_indexer] = value instead\n",
      "\n",
      "See the caveats in the documentation: http://pandas.pydata.org/pandas-docs/stable/indexing.html#indexing-view-versus-copy\n",
      "/usr/local/lib/python3.6/site-packages/ipykernel_launcher.py:22: SettingWithCopyWarning: \n",
      "A value is trying to be set on a copy of a slice from a DataFrame.\n",
      "Try using .loc[row_indexer,col_indexer] = value instead\n",
      "\n",
      "See the caveats in the documentation: http://pandas.pydata.org/pandas-docs/stable/indexing.html#indexing-view-versus-copy\n"
     ]
    },
    {
     "name": "stdout",
     "output_type": "stream",
     "text": [
      "Exposed_Not_Buy_promoted_products: 6895\n",
      "2019-03-06 10:36:36.103226\n"
     ]
    }
   ],
   "source": [
    "print(datetime.datetime.now())\n",
    "Page_3_ouotput_df_product_level,Page_3_ouotput_df_page_level,Page_3_Exposed_NotBuy_count=Dec_4weeks_page(Page_X_df=Page_3_Christmas_Gifts,\n",
    "                                                                                                        DCM_LR_Mapping_df=matched_activities_5_urls,\n",
    "                                                                                                        transaction_df=rewards_sales_Dec_4_weeks)\n",
    "print(datetime.datetime.now())"
   ]
  },
  {
   "cell_type": "code",
   "execution_count": 35,
   "metadata": {},
   "outputs": [
    {
     "name": "stdout",
     "output_type": "stream",
     "text": [
      "2019-03-06 10:36:36.112708\n"
     ]
    },
    {
     "name": "stderr",
     "output_type": "stream",
     "text": [
      "/usr/local/lib/python3.6/site-packages/ipykernel_launcher.py:21: SettingWithCopyWarning: \n",
      "A value is trying to be set on a copy of a slice from a DataFrame.\n",
      "Try using .loc[row_indexer,col_indexer] = value instead\n",
      "\n",
      "See the caveats in the documentation: http://pandas.pydata.org/pandas-docs/stable/indexing.html#indexing-view-versus-copy\n",
      "/usr/local/lib/python3.6/site-packages/ipykernel_launcher.py:22: SettingWithCopyWarning: \n",
      "A value is trying to be set on a copy of a slice from a DataFrame.\n",
      "Try using .loc[row_indexer,col_indexer] = value instead\n",
      "\n",
      "See the caveats in the documentation: http://pandas.pydata.org/pandas-docs/stable/indexing.html#indexing-view-versus-copy\n"
     ]
    },
    {
     "name": "stdout",
     "output_type": "stream",
     "text": [
      "Exposed_Not_Buy_promoted_products: 3490\n",
      "2019-03-06 10:39:34.999610\n"
     ]
    }
   ],
   "source": [
    "print(datetime.datetime.now())\n",
    "Page_4_ouotput_df_product_level,Page_4_ouotput_df_page_level,Page_4_Exposed_NotBuy_count=Dec_4weeks_page(Page_X_df=Page_4_Toy_Shop,\n",
    "                                                                                                        DCM_LR_Mapping_df=matched_activities_5_urls,\n",
    "                                                                                                        transaction_df=rewards_sales_Dec_4_weeks)\n",
    "print(datetime.datetime.now())"
   ]
  },
  {
   "cell_type": "code",
   "execution_count": 36,
   "metadata": {},
   "outputs": [
    {
     "name": "stdout",
     "output_type": "stream",
     "text": [
      "2019-03-06 10:39:35.007385\n"
     ]
    },
    {
     "name": "stderr",
     "output_type": "stream",
     "text": [
      "/usr/local/lib/python3.6/site-packages/ipykernel_launcher.py:21: SettingWithCopyWarning: \n",
      "A value is trying to be set on a copy of a slice from a DataFrame.\n",
      "Try using .loc[row_indexer,col_indexer] = value instead\n",
      "\n",
      "See the caveats in the documentation: http://pandas.pydata.org/pandas-docs/stable/indexing.html#indexing-view-versus-copy\n",
      "/usr/local/lib/python3.6/site-packages/ipykernel_launcher.py:22: SettingWithCopyWarning: \n",
      "A value is trying to be set on a copy of a slice from a DataFrame.\n",
      "Try using .loc[row_indexer,col_indexer] = value instead\n",
      "\n",
      "See the caveats in the documentation: http://pandas.pydata.org/pandas-docs/stable/indexing.html#indexing-view-versus-copy\n"
     ]
    },
    {
     "name": "stdout",
     "output_type": "stream",
     "text": [
      "Exposed_Not_Buy_promoted_products: 3198\n",
      "2019-03-06 10:43:22.587364\n"
     ]
    }
   ],
   "source": [
    "print(datetime.datetime.now())\n",
    "Page_5_ouotput_df_product_level,Page_5_ouotput_df_page_level,Page_5_Exposed_NotBuy_count=Dec_4weeks_page(Page_X_df=Page_5_Holiday_Decorating,\n",
    "                                                                                                        DCM_LR_Mapping_df=matched_activities_5_urls,\n",
    "                                                                                                        transaction_df=rewards_sales_Dec_4_weeks)\n",
    "print(datetime.datetime.now())"
   ]
  },
  {
   "cell_type": "code",
   "execution_count": null,
   "metadata": {
    "collapsed": true
   },
   "outputs": [],
   "source": []
  },
  {
   "cell_type": "code",
   "execution_count": 39,
   "metadata": {
    "collapsed": true
   },
   "outputs": [],
   "source": [
    "writing_folder=\"/home/jian/Projects/Big_Lots/Analysis/2018_Q4/URL_Pages/output/\"\n",
    "try:\n",
    "    os.stat(writing_folder)\n",
    "except:\n",
    "    os.mkdir(writing_folder)\n",
    "    \n",
    "writer=pd.ExcelWriter(writing_folder+\"BL_Top_URLs_Page2_to_5_JL_\"+str(datetime.datetime.now().date())+\".xlsx\",engine=\"xlsxwriter\")\n",
    "\n",
    "matched_exposed_ids_by_page.to_excel(writer,\"Exposed_Matched_IDs\",index=False)\n",
    "Exposed_NotBuy_Df=pd.DataFrame({\"Ppage\":[\"Page_2_Exposed_NotBuy_count\",\"Page_3_Exposed_NotBuy_count\",\n",
    "                                         \"Page_4_Exposed_NotBuy_count\",\"Page_5_Exposed_NotBuy_count\"],\n",
    "                                \"IDs\":[Page_2_Exposed_NotBuy_count,Page_3_Exposed_NotBuy_count,\n",
    "                                       Page_4_Exposed_NotBuy_count,Page_5_Exposed_NotBuy_count]},index=[x for x in range(4)])\n",
    "Exposed_NotBuy_Df.to_excel(writer,\"Exposed_Not_Buy_IDs\",index=False)\n",
    "\n",
    "Page_2_ouotput_df_product_level.to_excel(writer,\"Page_2_ouotput_df_product_level\",index=False)\n",
    "Page_2_ouotput_df_page_level.to_excel(writer,\"Page_2_ouotput_df_page_level\",index=False)\n",
    "\n",
    "Page_3_ouotput_df_product_level.to_excel(writer,\"Page_3_ouotput_df_product_level\",index=False)\n",
    "Page_3_ouotput_df_page_level.to_excel(writer,\"Page_3_ouotput_df_page_level\",index=False)\n",
    "\n",
    "Page_4_ouotput_df_product_level.to_excel(writer,\"Page_4_ouotput_df_product_level\",index=False)\n",
    "Page_4_ouotput_df_page_level.to_excel(writer,\"Page_4_ouotput_df_page_level\",index=False)\n",
    "\n",
    "Page_5_ouotput_df_product_level.to_excel(writer,\"Page_5_ouotput_df_product_level\",index=False)\n",
    "Page_5_ouotput_df_page_level.to_excel(writer,\"Page_5_ouotput_df_page_level\",index=False)\n",
    "\n",
    "writer.save()"
   ]
  },
  {
   "cell_type": "code",
   "execution_count": null,
   "metadata": {
    "collapsed": true
   },
   "outputs": [],
   "source": []
  },
  {
   "cell_type": "code",
   "execution_count": null,
   "metadata": {
    "collapsed": true
   },
   "outputs": [],
   "source": []
  },
  {
   "cell_type": "markdown",
   "metadata": {},
   "source": [
    "# Page_1 weekly deals 1 week only"
   ]
  },
  {
   "cell_type": "code",
   "execution_count": 163,
   "metadata": {
    "collapsed": true
   },
   "outputs": [],
   "source": [
    "def week_end_date(x):\n",
    "    if x.weekday()==6:\n",
    "        y=x+datetime.timedelta(days=6)\n",
    "    else:\n",
    "        y=x+datetime.timedelta(days=5-x.weekday())\n",
    "    return y"
   ]
  },
  {
   "cell_type": "code",
   "execution_count": 174,
   "metadata": {},
   "outputs": [
    {
     "name": "stdout",
     "output_type": "stream",
     "text": [
      "(46530, 5)\n"
     ]
    },
    {
     "name": "stderr",
     "output_type": "stream",
     "text": [
      "/usr/local/lib/python3.6/site-packages/ipykernel_launcher.py:3: SettingWithCopyWarning: \n",
      "A value is trying to be set on a copy of a slice from a DataFrame.\n",
      "Try using .loc[row_indexer,col_indexer] = value instead\n",
      "\n",
      "See the caveats in the documentation: http://pandas.pydata.org/pandas-docs/stable/indexing.html#indexing-view-versus-copy\n",
      "  This is separate from the ipykernel package so we can avoid doing imports until\n"
     ]
    }
   ],
   "source": [
    "weekly_deals_activity_id=Page_1_weekly_deals['Activity ID'].unique().tolist()[0] #unique\n",
    "matched_activities_Page1=matched_activities_5_urls[matched_activities_5_urls['Activity ID']==weekly_deals_activity_id]\n",
    "matched_activities_Page1['week_end_date']=matched_activities_Page1['date'].apply(lambda x: week_end_date(x))\n",
    "matched_activities_Page1.head(2)\n",
    "print(matched_activities_Page1.shape)"
   ]
  },
  {
   "cell_type": "code",
   "execution_count": 175,
   "metadata": {
    "collapsed": true
   },
   "outputs": [],
   "source": [
    "def Weekly_Deals_page(week_end_date_date,Page_Product_df,DCM_LR_Mapping_df,transaction_df):\n",
    "    DCM_LR_Mapping_df=DCM_LR_Mapping_df[DCM_LR_Mapping_df['week_end_date']==week_end_date_date]\n",
    "    \n",
    "    Page_Product_df=Page_Product_df[Page_Product_df['week_end_date']==str(week_end_date_date)][['class_code_id','subclass_id','Activity ID']]\n",
    "    \n",
    "    for i_weekday in range(7):\n",
    "        week_days_list=[str(week_end_date_date-datetime.timedelta(days=i_weekday)) for x in range(7)]\n",
    "    \n",
    "    transaction_df=transaction_df[transaction_df['transaction_dt'].isin(week_days_list)]\n",
    "    transaction_df=pd.merge(transaction_df,Page_Product_df,on=['class_code_id','subclass_id'],how=\"left\")\n",
    "    transaction_df=transaction_df[~pd.isnull(transaction_df['Activity ID'])]\n",
    "    \n",
    "    DCM_LR_Mapping_df=DCM_LR_Mapping_df[['customer_id_hashed','date']].sort_values(['customer_id_hashed','date']).drop_duplicates('customer_id_hashed')\n",
    "    DCM_LR_Mapping_df=DCM_LR_Mapping_df.rename(columns={\"date\":\"earliest_date_on_site\"})\n",
    "    DCM_LR_Mapping_df['earliest_date_on_site']=DCM_LR_Mapping_df['earliest_date_on_site'].astype(str)\n",
    "    df_product_level=pd.merge(transaction_df,DCM_LR_Mapping_df,on=\"customer_id_hashed\",how=\"left\")\n",
    "    \n",
    "    Exposed_NotBuy_df=DCM_LR_Mapping_df[~DCM_LR_Mapping_df['customer_id_hashed'].isin(df_product_level['customer_id_hashed'].unique())]\n",
    "    Exposed_NotBuy_count=len(Exposed_NotBuy_df['customer_id_hashed'].unique())\n",
    "    \n",
    "    df_product_level['trans']=1\n",
    "    df_product_level['earliest_date_on_site']=df_product_level['earliest_date_on_site'].fillna(\"2019-01-31\")\n",
    "    df_product_level['Expose_Label']=np.where(df_product_level['earliest_date_on_site']<=df_product_level['transaction_dt'],\"Exposed_Buy\",\"Not_Expose_Buy\")\n",
    "    \n",
    "    ouotput_df_product_level_sales=df_product_level.groupby(['Expose_Label',\"class_code_id\",'subclass_id'])['subclass_transaction_units','subclass_transaction_amt','trans'].sum().reset_index()\n",
    "    ouotput_df_product_level_ids=df_product_level[['Expose_Label',\"class_code_id\",'subclass_id','customer_id_hashed']].drop_duplicates().groupby([\"class_code_id\",'subclass_id','Expose_Label'])['customer_id_hashed'].count().to_frame().reset_index()\n",
    "    ouotput_df_product_level=pd.merge(ouotput_df_product_level_sales,ouotput_df_product_level_ids,on=['Expose_Label',\"class_code_id\",'subclass_id'],how=\"outer\")\n",
    "    \n",
    "    ouotput_df_page_level_sales=df_product_level.groupby(['Expose_Label'])['subclass_transaction_units','subclass_transaction_amt','trans'].sum().reset_index()\n",
    "    ouotput_df_page_level_ids=df_product_level[['Expose_Label','customer_id_hashed']].drop_duplicates().groupby(['Expose_Label'])['customer_id_hashed'].count().to_frame().reset_index()\n",
    "    ouotput_df_page_level=pd.merge(ouotput_df_page_level_sales,ouotput_df_page_level_ids,on=['Expose_Label'],how=\"outer\")\n",
    "\n",
    "    \n",
    "    \n",
    "    return ouotput_df_product_level,ouotput_df_page_level,Exposed_NotBuy_count"
   ]
  },
  {
   "cell_type": "code",
   "execution_count": 183,
   "metadata": {},
   "outputs": [
    {
     "name": "stdout",
     "output_type": "stream",
     "text": [
      "2019-03-03 20:32:29.831248\n",
      "2019-03-03 20:32:40.397567\n"
     ]
    },
    {
     "data": {
      "text/plain": [
       "6306"
      ]
     },
     "execution_count": 183,
     "metadata": {},
     "output_type": "execute_result"
    }
   ],
   "source": [
    "print(datetime.datetime.now())\n",
    "WeeklyDeals_Prodcut_Level_Week_1,WeeklyDeals_Page_Level_Week_1,WeeklyDeals_Exposed_NotBuy_Count_Week_1=Weekly_Deals_page(week_end_date_date=datetime.date(2018,12,8),\n",
    "                                                                                                                  Page_Product_df=Page_1_weekly_deals,\n",
    "                                                                                                                  DCM_LR_Mapping_df=matched_activities_Page1,\n",
    "                                                                                                                  transaction_df=rewards_sales_Dec_4_weeks)\n",
    "print(datetime.datetime.now())\n",
    "WeeklyDeals_Exposed_NotBuy_Count_Week_1"
   ]
  },
  {
   "cell_type": "code",
   "execution_count": 177,
   "metadata": {},
   "outputs": [
    {
     "name": "stdout",
     "output_type": "stream",
     "text": [
      "2019-03-03 19:23:32.015353\n",
      "2019-03-03 19:23:40.191014\n"
     ]
    }
   ],
   "source": [
    "print(datetime.datetime.now())\n",
    "WeeklyDeals_Prodcut_Level_Week_2,WeeklyDeals_Page_Level_Week_2,WeeklyDeals_Exposed_NotBuy_Count_Week_2=Weekly_Deals_page(week_end_date_date=datetime.date(2018,12,15),\n",
    "                                                                                                                  Page_Product_df=Page_1_weekly_deals,\n",
    "                                                                                                                  DCM_LR_Mapping_df=matched_activities_Page1,\n",
    "                                                                                                                  transaction_df=rewards_sales_Dec_4_weeks)\n",
    "print(datetime.datetime.now())"
   ]
  },
  {
   "cell_type": "code",
   "execution_count": 178,
   "metadata": {},
   "outputs": [
    {
     "name": "stdout",
     "output_type": "stream",
     "text": [
      "2019-03-03 19:23:40.200131\n",
      "2019-03-03 19:23:56.188284\n"
     ]
    }
   ],
   "source": [
    "print(datetime.datetime.now())\n",
    "WeeklyDeals_Prodcut_Level_Week_3,WeeklyDeals_Page_Level_Week_3,WeeklyDeals_Exposed_NotBuy_Count_Week_3=Weekly_Deals_page(week_end_date_date=datetime.date(2018,12,22),\n",
    "                                                                                                                  Page_Product_df=Page_1_weekly_deals,\n",
    "                                                                                                                  DCM_LR_Mapping_df=matched_activities_Page1,\n",
    "                                                                                                                  transaction_df=rewards_sales_Dec_4_weeks)\n",
    "print(datetime.datetime.now())"
   ]
  },
  {
   "cell_type": "code",
   "execution_count": 179,
   "metadata": {},
   "outputs": [
    {
     "name": "stdout",
     "output_type": "stream",
     "text": [
      "2019-03-03 19:23:56.195751\n",
      "2019-03-03 19:24:09.399840\n"
     ]
    }
   ],
   "source": [
    "print(datetime.datetime.now())\n",
    "WeeklyDeals_Prodcut_Level_Week_4,WeeklyDeals_Page_Level_Week_4,WeeklyDeals_Exposed_NotBuy_Count_Week_4=Weekly_Deals_page(week_end_date_date=datetime.date(2018,12,29),\n",
    "                                                                                                                  Page_Product_df=Page_1_weekly_deals,\n",
    "                                                                                                                  DCM_LR_Mapping_df=matched_activities_Page1,\n",
    "                                                                                                                  transaction_df=rewards_sales_Dec_4_weeks)\n",
    "print(datetime.datetime.now())"
   ]
  },
  {
   "cell_type": "code",
   "execution_count": 67,
   "metadata": {},
   "outputs": [
    {
     "ename": "NameError",
     "evalue": "name 'WeeklyDeals_Page_Level_Week_1' is not defined",
     "output_type": "error",
     "traceback": [
      "\u001b[0;31m---------------------------------------------------------------------------\u001b[0m",
      "\u001b[0;31mNameError\u001b[0m                                 Traceback (most recent call last)",
      "\u001b[0;32m<ipython-input-67-6f78ba76a869>\u001b[0m in \u001b[0;36m<module>\u001b[0;34m()\u001b[0m\n\u001b[0;32m----> 1\u001b[0;31m \u001b[0mWeeklyDeals_Page_Level_Week_1\u001b[0m\u001b[0;34m\u001b[0m\u001b[0m\n\u001b[0m",
      "\u001b[0;31mNameError\u001b[0m: name 'WeeklyDeals_Page_Level_Week_1' is not defined"
     ]
    }
   ],
   "source": [
    "WeeklyDeals_Page_Level_Week_1"
   ]
  },
  {
   "cell_type": "code",
   "execution_count": 181,
   "metadata": {},
   "outputs": [
    {
     "data": {
      "text/plain": [
       "(46530, 5)"
      ]
     },
     "execution_count": 181,
     "metadata": {},
     "output_type": "execute_result"
    }
   ],
   "source": [
    "matched_activities_Page1.shape"
   ]
  },
  {
   "cell_type": "code",
   "execution_count": 97,
   "metadata": {},
   "outputs": [
    {
     "data": {
      "text/plain": [
       "'2018-12-29'"
      ]
     },
     "execution_count": 97,
     "metadata": {},
     "output_type": "execute_result"
    }
   ],
   "source": [
    "rewards_sales_Dec_4_weeks['transaction_dt'].max()"
   ]
  },
  {
   "cell_type": "code",
   "execution_count": 100,
   "metadata": {},
   "outputs": [
    {
     "name": "stdout",
     "output_type": "stream",
     "text": [
      "(43021, 4)\n",
      "(26227, 3)\n"
     ]
    },
    {
     "data": {
      "text/html": [
       "<div>\n",
       "<style>\n",
       "    .dataframe thead tr:only-child th {\n",
       "        text-align: right;\n",
       "    }\n",
       "\n",
       "    .dataframe thead th {\n",
       "        text-align: left;\n",
       "    }\n",
       "\n",
       "    .dataframe tbody tr th {\n",
       "        vertical-align: top;\n",
       "    }\n",
       "</style>\n",
       "<table border=\"1\" class=\"dataframe\">\n",
       "  <thead>\n",
       "    <tr style=\"text-align: right;\">\n",
       "      <th></th>\n",
       "      <th>customer_id_hashed</th>\n",
       "      <th>Activity ID</th>\n",
       "      <th>earliest_act_date</th>\n",
       "    </tr>\n",
       "  </thead>\n",
       "  <tbody>\n",
       "    <tr>\n",
       "      <th>41</th>\n",
       "      <td>d713ae551e5051ec4d5e45b2fdcb7d121123657b4ab856...</td>\n",
       "      <td>8001727</td>\n",
       "      <td>2018-12-12</td>\n",
       "    </tr>\n",
       "    <tr>\n",
       "      <th>97</th>\n",
       "      <td>b6651b06330498a071c6afbabc7e5d66e88b413c67d09e...</td>\n",
       "      <td>7945971</td>\n",
       "      <td>2018-12-12</td>\n",
       "    </tr>\n",
       "  </tbody>\n",
       "</table>\n",
       "</div>"
      ],
      "text/plain": [
       "                                   customer_id_hashed Activity ID  \\\n",
       "41  d713ae551e5051ec4d5e45b2fdcb7d121123657b4ab856...     8001727   \n",
       "97  b6651b06330498a071c6afbabc7e5d66e88b413c67d09e...     7945971   \n",
       "\n",
       "   earliest_act_date  \n",
       "41        2018-12-12  \n",
       "97        2018-12-12  "
      ]
     },
     "execution_count": 100,
     "metadata": {},
     "output_type": "execute_result"
    }
   ],
   "source": [
    "matched_activities_5_urls_2_to_5=matched_activities_5_urls[matched_activities_5_urls['Activity ID'].isin(Act_ID_2_to_5)]\n",
    "print(matched_activities_5_urls_2_to_5.shape)\n",
    "matched_activities_5_urls_2_to_5.head(2)\n",
    "\n",
    "matched_activities_5_urls_2_to_5=matched_activities_5_urls_2_to_5[['customer_id_hashed','Activity ID','date']].drop_duplicates(['customer_id_hashed','Activity ID'])\n",
    "print(matched_activities_5_urls_2_to_5.shape)\n",
    "matched_activities_5_urls_2_to_5=matched_activities_5_urls_2_to_5.rename(columns={\"date\":\"earliest_act_date\"})\n",
    "matched_activities_5_urls_2_to_5['earliest_act_date']=matched_activities_5_urls_2_to_5['earliest_act_date'].astype(str)\n",
    "matched_activities_5_urls_2_to_5.head(2)"
   ]
  },
  {
   "cell_type": "code",
   "execution_count": 74,
   "metadata": {},
   "outputs": [
    {
     "data": {
      "text/plain": [
       "(89551, 4)"
      ]
     },
     "execution_count": 74,
     "metadata": {},
     "output_type": "execute_result"
    }
   ],
   "source": [
    "matched_activities_5_urls.shape"
   ]
  },
  {
   "cell_type": "code",
   "execution_count": 75,
   "metadata": {},
   "outputs": [
    {
     "data": {
      "text/html": [
       "<div>\n",
       "<style>\n",
       "    .dataframe thead tr:only-child th {\n",
       "        text-align: right;\n",
       "    }\n",
       "\n",
       "    .dataframe thead th {\n",
       "        text-align: left;\n",
       "    }\n",
       "\n",
       "    .dataframe tbody tr th {\n",
       "        vertical-align: top;\n",
       "    }\n",
       "</style>\n",
       "<table border=\"1\" class=\"dataframe\">\n",
       "  <thead>\n",
       "    <tr style=\"text-align: right;\">\n",
       "      <th></th>\n",
       "      <th>customer_id_hashed</th>\n",
       "      <th>Activity ID</th>\n",
       "      <th>DateTime</th>\n",
       "      <th>date</th>\n",
       "    </tr>\n",
       "  </thead>\n",
       "  <tbody>\n",
       "    <tr>\n",
       "      <th>3</th>\n",
       "      <td>a53300281a80925f670168111d449665c8143262e34dd3...</td>\n",
       "      <td>7945980</td>\n",
       "      <td>2018-12-12 10:07:13.726522</td>\n",
       "      <td>2018-12-12</td>\n",
       "    </tr>\n",
       "    <tr>\n",
       "      <th>4</th>\n",
       "      <td>fc5f499b7dc75219dccf9b678bec6c25d2968ad1deb3a6...</td>\n",
       "      <td>7945980</td>\n",
       "      <td>2018-12-12 09:26:36.967450</td>\n",
       "      <td>2018-12-12</td>\n",
       "    </tr>\n",
       "  </tbody>\n",
       "</table>\n",
       "</div>"
      ],
      "text/plain": [
       "                                  customer_id_hashed Activity ID  \\\n",
       "3  a53300281a80925f670168111d449665c8143262e34dd3...     7945980   \n",
       "4  fc5f499b7dc75219dccf9b678bec6c25d2968ad1deb3a6...     7945980   \n",
       "\n",
       "                    DateTime        date  \n",
       "3 2018-12-12 10:07:13.726522  2018-12-12  \n",
       "4 2018-12-12 09:26:36.967450  2018-12-12  "
      ]
     },
     "execution_count": 75,
     "metadata": {},
     "output_type": "execute_result"
    }
   ],
   "source": [
    "matched_activities_5_urls.head(2)"
   ]
  },
  {
   "cell_type": "code",
   "execution_count": 79,
   "metadata": {},
   "outputs": [
    {
     "data": {
      "text/plain": [
       "(89551, 4)"
      ]
     },
     "execution_count": 79,
     "metadata": {},
     "output_type": "execute_result"
    }
   ],
   "source": [
    "matched_activities_5_urls.shape"
   ]
  },
  {
   "cell_type": "code",
   "execution_count": 106,
   "metadata": {},
   "outputs": [
    {
     "data": {
      "text/plain": [
       "(88046, 4)"
      ]
     },
     "execution_count": 106,
     "metadata": {},
     "output_type": "execute_result"
    }
   ],
   "source": [
    "matched_activities_5_urls[(matched_activities_5_urls['date']>=datetime.date(2018,12,2)) & (matched_activities_5_urls['date']<=datetime.date(2018,12,30))].shape"
   ]
  },
  {
   "cell_type": "code",
   "execution_count": null,
   "metadata": {
    "collapsed": true
   },
   "outputs": [],
   "source": []
  }
 ],
 "metadata": {
  "kernelspec": {
   "display_name": "Python 3",
   "language": "python",
   "name": "python3"
  },
  "language_info": {
   "codemirror_mode": {
    "name": "ipython",
    "version": 3
   },
   "file_extension": ".py",
   "mimetype": "text/x-python",
   "name": "python",
   "nbconvert_exporter": "python",
   "pygments_lexer": "ipython3",
   "version": "3.6.1"
  }
 },
 "nbformat": 4,
 "nbformat_minor": 2
}
