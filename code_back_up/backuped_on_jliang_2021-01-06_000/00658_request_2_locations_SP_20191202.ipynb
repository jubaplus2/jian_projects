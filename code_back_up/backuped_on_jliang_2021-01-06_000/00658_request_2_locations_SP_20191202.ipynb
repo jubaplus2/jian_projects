{
 "cells": [
  {
   "cell_type": "code",
   "execution_count": 1,
   "metadata": {
    "collapsed": true
   },
   "outputs": [],
   "source": [
    "import pandas as pd\n",
    "import datetime\n",
    "import os\n",
    "import json\n",
    "from haversine import haversine\n",
    "\n",
    "zip_centers=json.load(open(\"/home/jian/Docs/Geo_mapping/updated_zip_centers_JL_2019-05-23.json\",\"r\"))\n",
    "ratio_dist=25"
   ]
  },
  {
   "cell_type": "code",
   "execution_count": 2,
   "metadata": {},
   "outputs": [
    {
     "data": {
      "text/plain": [
       "['sampleevents', 'Sheet1']"
      ]
     },
     "execution_count": 2,
     "metadata": {},
     "output_type": "execute_result"
    }
   ],
   "source": [
    "input_locations=pd.ExcelFile(\"./sampleevents.xlsx\")\n",
    "input_locations.sheet_names"
   ]
  },
  {
   "cell_type": "code",
   "execution_count": 3,
   "metadata": {},
   "outputs": [
    {
     "data": {
      "text/html": [
       "<div>\n",
       "<style scoped>\n",
       "    .dataframe tbody tr th:only-of-type {\n",
       "        vertical-align: middle;\n",
       "    }\n",
       "\n",
       "    .dataframe tbody tr th {\n",
       "        vertical-align: top;\n",
       "    }\n",
       "\n",
       "    .dataframe thead th {\n",
       "        text-align: right;\n",
       "    }\n",
       "</style>\n",
       "<table border=\"1\" class=\"dataframe\">\n",
       "  <thead>\n",
       "    <tr style=\"text-align: right;\">\n",
       "      <th></th>\n",
       "      <th>locale</th>\n",
       "      <th>venue_id</th>\n",
       "      <th>venue_name</th>\n",
       "      <th>venue_city</th>\n",
       "      <th>venue_state</th>\n",
       "      <th>venue_postalCode</th>\n",
       "      <th>venue_country</th>\n",
       "      <th>venue_venueConfigId</th>\n",
       "      <th>venue_venueConfigName</th>\n",
       "      <th>ticketInfo_minListPrice</th>\n",
       "      <th>ticketInfo_maxListPrice</th>\n",
       "      <th>ticketInfo_totalTickets</th>\n",
       "      <th>ticketInfo_totalListings</th>\n",
       "    </tr>\n",
       "  </thead>\n",
       "  <tbody>\n",
       "    <tr>\n",
       "      <th>0</th>\n",
       "      <td>en_US</td>\n",
       "      <td>6124</td>\n",
       "      <td>The Colosseum at Caesars Palace</td>\n",
       "      <td>Las Vegas</td>\n",
       "      <td>NV</td>\n",
       "      <td>89109</td>\n",
       "      <td>US</td>\n",
       "      <td>1294179</td>\n",
       "      <td>All Rsvd Sections 100-400 - Dynamic MASTER</td>\n",
       "      <td>96</td>\n",
       "      <td>2571.52</td>\n",
       "      <td>1309</td>\n",
       "      <td>266</td>\n",
       "    </tr>\n",
       "    <tr>\n",
       "      <th>1</th>\n",
       "      <td>en_US</td>\n",
       "      <td>183459</td>\n",
       "      <td>Fontainebleau Hotel and Resort</td>\n",
       "      <td>Miami Beach</td>\n",
       "      <td>FL</td>\n",
       "      <td>33140</td>\n",
       "      <td>US</td>\n",
       "      <td>1243460</td>\n",
       "      <td>GA and VIP Tables - Dynamic</td>\n",
       "      <td>0</td>\n",
       "      <td>0</td>\n",
       "      <td>0</td>\n",
       "      <td>0</td>\n",
       "    </tr>\n",
       "  </tbody>\n",
       "</table>\n",
       "</div>"
      ],
      "text/plain": [
       "  locale venue_id                       venue_name   venue_city venue_state  \\\n",
       "0  en_US     6124  The Colosseum at Caesars Palace    Las Vegas          NV   \n",
       "1  en_US   183459   Fontainebleau Hotel and Resort  Miami Beach          FL   \n",
       "\n",
       "  venue_postalCode venue_country venue_venueConfigId  \\\n",
       "0            89109            US             1294179   \n",
       "1            33140            US             1243460   \n",
       "\n",
       "                        venue_venueConfigName ticketInfo_minListPrice  \\\n",
       "0  All Rsvd Sections 100-400 - Dynamic MASTER                      96   \n",
       "1                 GA and VIP Tables - Dynamic                       0   \n",
       "\n",
       "  ticketInfo_maxListPrice ticketInfo_totalTickets ticketInfo_totalListings  \n",
       "0                 2571.52                    1309                      266  \n",
       "1                       0                       0                        0  "
      ]
     },
     "execution_count": 3,
     "metadata": {},
     "output_type": "execute_result"
    }
   ],
   "source": [
    "# Still \"Sheet1\" sheet\n",
    "input_locations=input_locations.parse(\"Sheet1\",dtype=str)\n",
    "input_locations.head(2)"
   ]
  },
  {
   "cell_type": "code",
   "execution_count": 4,
   "metadata": {},
   "outputs": [
    {
     "data": {
      "text/plain": [
       "((2, 6), 2)"
      ]
     },
     "execution_count": 4,
     "metadata": {},
     "output_type": "execute_result"
    }
   ],
   "source": [
    "df_TA=input_locations[['venue_id','venue_name','venue_city','venue_state','venue_postalCode','venue_country']].drop_duplicates()\n",
    "df_TA.shape,df_TA['venue_id'].nunique()"
   ]
  },
  {
   "cell_type": "code",
   "execution_count": 5,
   "metadata": {
    "collapsed": true
   },
   "outputs": [],
   "source": [
    "df_TA['search_key']=df_TA.apply(lambda x: \", \".join(list([x['venue_name'],x['venue_city'],x['venue_state'],x['venue_postalCode'],x['venue_country']])),axis=1)\n"
   ]
  },
  {
   "cell_type": "code",
   "execution_count": 6,
   "metadata": {},
   "outputs": [
    {
     "data": {
      "text/plain": [
       "{'183459': 'Fontainebleau Hotel and Resort, Miami Beach, FL, 33140, US',\n",
       " '6124': 'The Colosseum at Caesars Palace, Las Vegas, NV, 89109, US'}"
      ]
     },
     "execution_count": 6,
     "metadata": {},
     "output_type": "execute_result"
    }
   ],
   "source": [
    "location_input_dict=df_TA.set_index(\"venue_id\").to_dict()['search_key']\n",
    "location_input_dict"
   ]
  },
  {
   "cell_type": "code",
   "execution_count": 7,
   "metadata": {
    "collapsed": true
   },
   "outputs": [],
   "source": [
    "# Manully copied here through browser\n",
    "\n",
    "dict_store_locations={}\n",
    "\n",
    "# '183459': 'Fontainebleau Hotel and Resort, Miami Beach, FL, 33140, US'\n",
    "dict_store_locations.update({\"183459\":{\"Google_Address\":\"4441 Collins Ave, Miami Beach, FL 33140\",\"Google_Coor\":[25.8169812,-80.1225072]}})\n",
    "# '6124': 'The Colosseum at Caesars Palace, Las Vegas, NV, 89109, US'\n",
    "dict_store_locations.update({\"6124\":{\"Google_Address\":\"3570 S Las Vegas Blvd, Las Vegas, NV 89109\",\"Google_Coor\":[36.117914,-115.1750347]}})\n"
   ]
  },
  {
   "cell_type": "code",
   "execution_count": 8,
   "metadata": {
    "collapsed": true
   },
   "outputs": [],
   "source": [
    "df_TA['Google_Address']=df_TA['venue_id'].apply(lambda x: dict_store_locations[x]['Google_Address'])\n",
    "df_TA['Google_Coordinate']=df_TA['venue_id'].apply(lambda x: dict_store_locations[x]['Google_Coor'])"
   ]
  },
  {
   "cell_type": "code",
   "execution_count": 10,
   "metadata": {},
   "outputs": [],
   "source": [
    "df_TA=df_TA.reset_index()\n",
    "del df_TA['index']\n",
    "\n",
    "df_store_zip=pd.DataFrame()\n",
    "\n",
    "for ind,row in df_TA.iterrows():\n",
    "    store_center=row['Google_Coordinate']\n",
    "    zip_list=[]\n",
    "    store_zip=pd.DataFrame()\n",
    "    for zip_cd,v in zip_centers.items():\n",
    "        dist=haversine(store_center,v,unit=\"mi\") # unit=\"mi\"\n",
    "        if dist<=ratio_dist:\n",
    "            zip_list.append(zip_cd)\n",
    "            df=pd.DataFrame({\"dist_miles\":dist},index=[zip_cd])\n",
    "            store_zip=store_zip.append(df)\n",
    "    store_zip=store_zip.reset_index().rename(columns={\"index\":\"zip_cd\"})\n",
    "    store_zip['venue_id']=row['venue_id']\n",
    "    df_TA.loc[ind,'zip_list']=str(zip_list)\n",
    "    df_store_zip=df_store_zip.append(store_zip)"
   ]
  },
  {
   "cell_type": "code",
   "execution_count": 11,
   "metadata": {
    "collapsed": true
   },
   "outputs": [],
   "source": [
    "df_TA['zip_list']=df_TA['zip_list'].apply(eval)"
   ]
  },
  {
   "cell_type": "code",
   "execution_count": 13,
   "metadata": {},
   "outputs": [
    {
     "data": {
      "text/plain": [
       "set()"
      ]
     },
     "execution_count": 13,
     "metadata": {},
     "output_type": "execute_result"
    }
   ],
   "source": [
    "set(df_TA.loc[0,'zip_list']).intersection(set(df_TA.loc[1,'zip_list'])) # No obvious overlap"
   ]
  },
  {
   "cell_type": "code",
   "execution_count": 14,
   "metadata": {},
   "outputs": [
    {
     "data": {
      "text/plain": [
       "(260, 8)"
      ]
     },
     "execution_count": 14,
     "metadata": {},
     "output_type": "execute_result"
    }
   ],
   "source": [
    "temp_df=input_locations[['venue_id','venue_name','venue_city','venue_state','venue_postalCode','venue_country']].drop_duplicates()\n",
    "df_store_zip=pd.merge(temp_df,df_store_zip,on=\"venue_id\",how=\"left\")\n",
    "df_store_zip.shape"
   ]
  },
  {
   "cell_type": "code",
   "execution_count": 15,
   "metadata": {},
   "outputs": [
    {
     "data": {
      "text/plain": [
       "260"
      ]
     },
     "execution_count": 15,
     "metadata": {},
     "output_type": "execute_result"
    }
   ],
   "source": [
    "df_store_zip['zip_cd'].nunique()"
   ]
  },
  {
   "cell_type": "code",
   "execution_count": 16,
   "metadata": {
    "collapsed": true
   },
   "outputs": [],
   "source": [
    "writer=pd.ExcelWriter(\"./Trade_area_for_2_venue_locations_25_miles_JL_\"+str(datetime.datetime.now().date())+\".xlsx\",engine=\"xlsxwriter\")\n",
    "df_store_zip.to_excel(writer,\"by_store_zip\",index=False)\n",
    "df_TA.to_excel(writer,\"2_locations\",index=False)\n",
    "writer.save()"
   ]
  },
  {
   "cell_type": "code",
   "execution_count": null,
   "metadata": {
    "collapsed": true
   },
   "outputs": [],
   "source": []
  }
 ],
 "metadata": {
  "kernelspec": {
   "display_name": "Python 3",
   "language": "python",
   "name": "python3"
  },
  "language_info": {
   "codemirror_mode": {
    "name": "ipython",
    "version": 3
   },
   "file_extension": ".py",
   "mimetype": "text/x-python",
   "name": "python",
   "nbconvert_exporter": "python",
   "pygments_lexer": "ipython3",
   "version": "3.6.1"
  }
 },
 "nbformat": 4,
 "nbformat_minor": 2
}
