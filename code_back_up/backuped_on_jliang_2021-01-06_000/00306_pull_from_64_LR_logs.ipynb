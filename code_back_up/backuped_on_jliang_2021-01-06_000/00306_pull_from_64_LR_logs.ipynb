{
 "cells": [
  {
   "cell_type": "code",
   "execution_count": 1,
   "metadata": {},
   "outputs": [
    {
     "name": "stdout",
     "output_type": "stream",
     "text": [
      "/home/jian/Projects/Big_Lots/Analysis/2019_Q4/Predictive_Model_Building\n"
     ]
    }
   ],
   "source": [
    "# nohup run in the output folder\n",
    "\n",
    "import pandas as pd\n",
    "import paramiko\n",
    "import numpy as np\n",
    "import os\n",
    "import datetime\n",
    "import glob\n",
    "print(os.getcwd())\n",
    "import logging\n",
    "\n",
    "logging.basicConfig(filename=\"./copy_LR_returned_file_from_64.log\",level=logging.INFO)\n",
    "\n",
    "impr_local_folder=\"/home/jian/Projects/Big_Lots/Analysis/2019_Q4/Predictive_Model_Building/LR_returned_logs_BL/impressions/\"\n",
    "click_local_folder=\"/home/jian/Projects/Big_Lots/Analysis/2019_Q4/Predictive_Model_Building/LR_returned_logs_BL/clicks/\"\n",
    "act_local_folder=\"/home/jian/Projects/Big_Lots/Analysis/2019_Q4/Predictive_Model_Building/LR_returned_logs_BL/activities/\""
   ]
  },
  {
   "cell_type": "code",
   "execution_count": 2,
   "metadata": {},
   "outputs": [],
   "source": [
    "try:\n",
    "    os.stat(impr_local_folder)\n",
    "except:\n",
    "    os.mkdir(impr_local_folder)\n",
    "\n",
    "try:\n",
    "    os.stat(click_local_folder)\n",
    "except:\n",
    "    os.mkdir(click_local_folder)\n",
    "    \n",
    "try:\n",
    "    os.stat(act_local_folder)\n",
    "except:\n",
    "    os.mkdir(act_local_folder)"
   ]
  },
  {
   "cell_type": "code",
   "execution_count": 3,
   "metadata": {},
   "outputs": [],
   "source": [
    "host = \"64.237.51.251\" #hard-coded\n",
    "port = 22\n",
    "transport = paramiko.Transport((host, port))\n",
    "\n",
    "password = \"jian@juba2017\" #hard-coded\n",
    "username = \"jian\" #hard-coded\n",
    "transport.connect(username = username, password = password)\n",
    "sftp = paramiko.SFTPClient.from_transport(transport)"
   ]
  },
  {
   "cell_type": "code",
   "execution_count": 4,
   "metadata": {},
   "outputs": [],
   "source": [
    "remote_impression_folder=\"/mnt/drv5/lr_biglots_data/download_logs/impressions/\"\n",
    "list_remote_impr_files=[remote_impression_folder+x for x in sftp.listdir(remote_impression_folder)]\n",
    "list_remote_impr_files.sort()\n",
    "\n",
    "remote_click_folder=\"/mnt/drv5/lr_biglots_data/download_logs/clicks/\"\n",
    "list_remote_click_files=[remote_click_folder+x for x in sftp.listdir(remote_click_folder)]\n",
    "list_remote_click_files.sort()\n",
    "\n",
    "remote_activity_folder=\"/mnt/drv5/lr_biglots_data/download_logs/activities/\"\n",
    "list_remote_act_files=[remote_activity_folder+x for x in sftp.listdir(remote_activity_folder)]\n",
    "list_remote_act_files.sort()"
   ]
  },
  {
   "cell_type": "code",
   "execution_count": 5,
   "metadata": {},
   "outputs": [
    {
     "name": "stdout",
     "output_type": "stream",
     "text": [
      "20180523\n",
      "min_date_needed:  20180524\n",
      "max_date_needed:  20191231\n"
     ]
    }
   ],
   "source": [
    "earliest_date_raw_log=glob.glob(\"/home/jian/Projects/Big_Lots/Analysis/2019_Q4/Predictive_Model_Building/DCM_raw_logs_BL/impressions/*\")\n",
    "\n",
    "print(min(x.split(\"_utc_\")[1][:8] for x in earliest_date_raw_log))\n",
    "\n",
    "# >=20180524 since the 1st day is not completed\n",
    "\n",
    "min_date_needed=\"20180524\"\n",
    "\n",
    "logging.info(str(min(x.split(\"_utc_\")[1][:8] for x in earliest_date_raw_log)))\n",
    "\n",
    "print(\"min_date_needed: \",min_date_needed)\n",
    "logging.info(\"min_date_needed: \"+str(min_date_needed))\n",
    "\n",
    "max_date_needed=\"20191231\"\n",
    "print(\"max_date_needed: \",max_date_needed)\n",
    "logging.info(\"max_date_needed: \"+str(max_date_needed))\n"
   ]
  },
  {
   "cell_type": "code",
   "execution_count": 6,
   "metadata": {},
   "outputs": [
    {
     "name": "stdout",
     "output_type": "stream",
     "text": [
      "impr:  11 2020-01-10 12:56:21.256594\n",
      "click:  11 2020-01-10 12:56:21.871737\n",
      "act:  1 2020-01-10 12:56:56.406628\n",
      "all done 2020-01-10 12:56:56.410267\n"
     ]
    }
   ],
   "source": [
    "# impression\n",
    "i_counter=0\n",
    "for file in list_remote_impr_files:\n",
    "    basename=os.path.basename(file)\n",
    "    \n",
    "    if (\"_impression_\" in basename) & (basename.split(\"_impression_\")[1][:8]>=min_date_needed) & (basename.split(\"_impression_\")[1][:8]<=max_date_needed):\n",
    "\n",
    "        sftp.get(file,impr_local_folder+basename)\n",
    "        i_counter+=1\n",
    "        if i_counter%100==11:\n",
    "            print('impr: ',i_counter,datetime.datetime.now())\n",
    "            logging.info(\"impr: \"+str(i_counter)+\" | \"+str(datetime.datetime.now()))\n",
    "            # break\n",
    "\n",
    "\n",
    "# click\n",
    "i_counter=0\n",
    "for file in list_remote_click_files:\n",
    "    basename=os.path.basename(file)\n",
    "    \n",
    "    if (\"_click_\" in basename) & (basename.split(\"_click_\")[1][:8]>=min_date_needed) & (basename.split(\"_click_\")[1][:8]<=max_date_needed):\n",
    "        \n",
    "        sftp.get(file,click_local_folder+basename)\n",
    "        i_counter+=1\n",
    "        if i_counter%100==11:\n",
    "            print('click: ',i_counter,datetime.datetime.now())\n",
    "            logging.info(\"click: \"+str(i_counter)+\" | \"+str(datetime.datetime.now()))\n",
    "            # break\n",
    "\n",
    "        \n",
    "        \n",
    "# activity\n",
    "i_counter=0\n",
    "for file in list_remote_act_files:\n",
    "    basename=os.path.basename(file)\n",
    "    if (\"_activity_\" in basename) & (basename.split(\"_activity_\")[1][:8]>=min_date_needed) & (basename.split(\"_activity_\")[1][:8]<=max_date_needed):\n",
    "        sftp.get(file,act_local_folder+basename)\n",
    "        i_counter+=1\n",
    "        if i_counter%10==1:\n",
    "            print('act: ',i_counter,datetime.datetime.now())\n",
    "            logging.info(\"act: \"+str(i_counter)+\" | \"+str(datetime.datetime.now()))\n",
    "            # break\n",
    "\n",
    "        \n",
    "sftp.close()\n",
    "transport.close()\n",
    "\n",
    "print(\"all done\", datetime.datetime.now())\n",
    "logging.info(\"all done: \"+str(datetime.datetime.now()))\n"
   ]
  },
  {
   "cell_type": "code",
   "execution_count": 7,
   "metadata": {},
   "outputs": [
    {
     "data": {
      "text/plain": [
       "'/mnt/drv5/lr_biglots_data/download_logs/activities/CL_BigLots_dcm_account7252_activity_20180524_20180525_051314_736769398_20180525_070137_0000.tsv.gz'"
      ]
     },
     "execution_count": 7,
     "metadata": {},
     "output_type": "execute_result"
    }
   ],
   "source": [
    "file"
   ]
  },
  {
   "cell_type": "code",
   "execution_count": null,
   "metadata": {},
   "outputs": [],
   "source": []
  },
  {
   "cell_type": "code",
   "execution_count": null,
   "metadata": {},
   "outputs": [],
   "source": []
  }
 ],
 "metadata": {
  "kernelspec": {
   "display_name": "Python 3",
   "language": "python",
   "name": "python3"
  },
  "language_info": {
   "codemirror_mode": {
    "name": "ipython",
    "version": 3
   },
   "file_extension": ".py",
   "mimetype": "text/x-python",
   "name": "python",
   "nbconvert_exporter": "python",
   "pygments_lexer": "ipython3",
   "version": "3.6.1"
  }
 },
 "nbformat": 4,
 "nbformat_minor": 2
}
